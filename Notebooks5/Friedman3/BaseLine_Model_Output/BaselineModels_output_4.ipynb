{
 "cells": [
  {
   "cell_type": "markdown",
   "id": "18e4c4d9",
   "metadata": {
    "papermill": {
     "duration": 0.01321,
     "end_time": "2022-06-22T10:47:55.171962",
     "exception": false,
     "start_time": "2022-06-22T10:47:55.158752",
     "status": "completed"
    },
    "tags": []
   },
   "source": [
    "## Import Libraries "
   ]
  },
  {
   "cell_type": "code",
   "execution_count": 1,
   "id": "241ee441",
   "metadata": {
    "execution": {
     "iopub.execute_input": "2022-06-22T10:47:55.233689Z",
     "iopub.status.busy": "2022-06-22T10:47:55.227912Z",
     "iopub.status.idle": "2022-06-22T10:47:55.240172Z",
     "shell.execute_reply": "2022-06-22T10:47:55.243280Z"
    },
    "papermill": {
     "duration": 0.057288,
     "end_time": "2022-06-22T10:47:55.243864",
     "exception": false,
     "start_time": "2022-06-22T10:47:55.186576",
     "status": "completed"
    },
    "tags": []
   },
   "outputs": [],
   "source": [
    "import warnings\n",
    "import sys\n",
    "sys.path.insert(0, '../../src')\n",
    "warnings.filterwarnings('ignore')"
   ]
  },
  {
   "cell_type": "code",
   "execution_count": 2,
   "id": "0e95a8ab",
   "metadata": {
    "execution": {
     "iopub.execute_input": "2022-06-22T10:47:55.276845Z",
     "iopub.status.busy": "2022-06-22T10:47:55.273881Z",
     "iopub.status.idle": "2022-06-22T10:48:04.618945Z",
     "shell.execute_reply": "2022-06-22T10:48:04.619784Z"
    },
    "papermill": {
     "duration": 9.363967,
     "end_time": "2022-06-22T10:48:04.620098",
     "exception": false,
     "start_time": "2022-06-22T10:47:55.256131",
     "status": "completed"
    },
    "tags": []
   },
   "outputs": [],
   "source": [
    "import statsModel\n",
    "import scrapbook as sb \n",
    "import torch \n",
    "import statsModel\n",
    "import baselineModels\n",
    "import friedman3Dataset\n",
    "import dataset \n",
    "from torch.utils.data import random_split \n",
    "from sklearn.model_selection import train_test_split\n",
    "import numpy as np"
   ]
  },
  {
   "cell_type": "markdown",
   "id": "098e11c7",
   "metadata": {
    "papermill": {
     "duration": 0.010933,
     "end_time": "2022-06-22T10:48:04.642979",
     "exception": false,
     "start_time": "2022-06-22T10:48:04.632046",
     "status": "completed"
    },
    "tags": []
   },
   "source": [
    "## Import Dataset \n"
   ]
  },
  {
   "cell_type": "code",
   "execution_count": 3,
   "id": "7a799244",
   "metadata": {
    "execution": {
     "iopub.execute_input": "2022-06-22T10:48:04.669657Z",
     "iopub.status.busy": "2022-06-22T10:48:04.668126Z",
     "iopub.status.idle": "2022-06-22T10:48:04.684501Z",
     "shell.execute_reply": "2022-06-22T10:48:04.685063Z"
    },
    "papermill": {
     "duration": 0.032778,
     "end_time": "2022-06-22T10:48:04.685297",
     "exception": false,
     "start_time": "2022-06-22T10:48:04.652519",
     "status": "completed"
    },
    "tags": []
   },
   "outputs": [
    {
     "name": "stdout",
     "output_type": "stream",
     "text": [
      "          X1           X2        X3        X4         Y\n",
      "0  41.586375  1301.994559  0.300783  7.696010  1.619582\n",
      "1  54.909924  1281.738169  0.711472  5.450245  1.497806\n",
      "2  30.409867   899.826693  0.139535  1.132621  1.280680\n",
      "3  55.499786   294.232646  0.447014  4.797096  1.080631\n",
      "4  33.968631   878.705740  0.909350  2.418394  1.472136\n"
     ]
    }
   ],
   "source": [
    "n_features = 4\n",
    "n_samples= 100\n",
    "n_target = 1\n",
    "X,Y = friedman3Dataset.friedman3_data(n_samples)"
   ]
  },
  {
   "cell_type": "code",
   "execution_count": 4,
   "id": "f749b6d0",
   "metadata": {
    "execution": {
     "iopub.execute_input": "2022-06-22T10:48:04.708833Z",
     "iopub.status.busy": "2022-06-22T10:48:04.708072Z",
     "iopub.status.idle": "2022-06-22T10:48:04.710809Z",
     "shell.execute_reply": "2022-06-22T10:48:04.711316Z"
    },
    "papermill": {
     "duration": 0.017566,
     "end_time": "2022-06-22T10:48:04.711530",
     "exception": false,
     "start_time": "2022-06-22T10:48:04.693964",
     "status": "completed"
    },
    "tags": []
   },
   "outputs": [
    {
     "name": "stdout",
     "output_type": "stream",
     "text": [
      "(100, 4)\n",
      "(100,)\n",
      "(80, 4)\n",
      "(80,)\n",
      "(20, 4)\n",
      "(20,)\n"
     ]
    }
   ],
   "source": [
    "# Train test split for dataset \n",
    "real_dataset = dataset.CustomDataset(X,Y)\n",
    "\n",
    "print(X.shape)\n",
    "print(Y.shape)\n",
    "X_train, X_test, y_train, y_test = train_test_split(X, Y, test_size=0.2)\n",
    "\n",
    "print(X_train.shape)\n",
    "print(y_train.shape)\n",
    "print(X_test.shape)\n",
    "print(y_test.shape)"
   ]
  },
  {
   "cell_type": "markdown",
   "id": "525a33ea",
   "metadata": {
    "papermill": {
     "duration": 0.007496,
     "end_time": "2022-06-22T10:48:04.726721",
     "exception": false,
     "start_time": "2022-06-22T10:48:04.719225",
     "status": "completed"
    },
    "tags": []
   },
   "source": [
    "## Stats Model \n",
    "\n"
   ]
  },
  {
   "cell_type": "code",
   "execution_count": 5,
   "id": "25515550",
   "metadata": {
    "execution": {
     "iopub.execute_input": "2022-06-22T10:48:04.782021Z",
     "iopub.status.busy": "2022-06-22T10:48:04.781199Z",
     "iopub.status.idle": "2022-06-22T10:48:04.993294Z",
     "shell.execute_reply": "2022-06-22T10:48:04.993886Z"
    },
    "papermill": {
     "duration": 0.259789,
     "end_time": "2022-06-22T10:48:04.994139",
     "exception": false,
     "start_time": "2022-06-22T10:48:04.734350",
     "status": "completed"
    },
    "tags": []
   },
   "outputs": [
    {
     "name": "stderr",
     "output_type": "stream",
     "text": [
      "No handles with labels found to put in legend.\n"
     ]
    },
    {
     "name": "stdout",
     "output_type": "stream",
     "text": [
      "                                 OLS Regression Results                                \n",
      "=======================================================================================\n",
      "Dep. Variable:                      y   R-squared (uncentered):                   0.584\n",
      "Model:                            OLS   Adj. R-squared (uncentered):              0.562\n",
      "Method:                 Least Squares   F-statistic:                              26.66\n",
      "Date:                Wed, 22 Jun 2022   Prob (F-statistic):                    7.84e-14\n",
      "Time:                        16:18:04   Log-Likelihood:                         -82.103\n",
      "No. Observations:                  80   AIC:                                      172.2\n",
      "Df Residuals:                      76   BIC:                                      181.7\n",
      "Df Model:                           4                                                  \n",
      "Covariance Type:            nonrobust                                                  \n",
      "==============================================================================\n",
      "                 coef    std err          t      P>|t|      [0.025      0.975]\n",
      "------------------------------------------------------------------------------\n",
      "x1            -0.3304      0.080     -4.156      0.000      -0.489      -0.172\n",
      "x2             0.4365      0.077      5.678      0.000       0.283       0.590\n",
      "x3             0.6491      0.079      8.175      0.000       0.491       0.807\n",
      "x4             0.0075      0.077      0.098      0.922      -0.145       0.160\n",
      "==============================================================================\n",
      "Omnibus:                        3.825   Durbin-Watson:                   1.705\n",
      "Prob(Omnibus):                  0.148   Jarque-Bera (JB):                3.422\n",
      "Skew:                          -0.506   Prob(JB):                        0.181\n",
      "Kurtosis:                       3.047   Cond. No.                         1.22\n",
      "==============================================================================\n",
      "\n",
      "Notes:\n",
      "[1] R² is computed without centering (uncentered) since the model does not contain a constant.\n",
      "[2] Standard Errors assume that the covariance matrix of the errors is correctly specified.\n"
     ]
    },
    {
     "data": {
      "image/png": "[encoded data removed]",
      "text/plain": [
       "<Figure size 432x288 with 1 Axes>"
      ]
     },
     "metadata": {
      "needs_background": "light"
     },
     "output_type": "display_data"
    },
    {
     "name": "stdout",
     "output_type": "stream",
     "text": [
      "Performance Metrics\n",
      "Mean Squared Error: 0.31483410669292405\n",
      "Mean Absolute Error: 0.45639641922173757\n",
      "Manhattan distance: 9.127928384434751\n",
      "Euclidean distance: 2.5093190578040256\n"
     ]
    },
    {
     "data": {
      "application/scrapbook.scrap.json+json": {
       "data": 0.31483410669292405,
       "encoder": "json",
       "name": "Stats Model MSE",
       "version": 1
      }
     },
     "metadata": {
      "scrapbook": {
       "data": true,
       "display": false,
       "name": "Stats Model MSE"
      }
     },
     "output_type": "display_data"
    },
    {
     "data": {
      "application/scrapbook.scrap.json+json": {
       "data": 0.45639641922173757,
       "encoder": "json",
       "name": "Stats Model MAE",
       "version": 1
      }
     },
     "metadata": {
      "scrapbook": {
       "data": true,
       "display": false,
       "name": "Stats Model MAE"
      }
     },
     "output_type": "display_data"
    },
    {
     "data": {
      "application/scrapbook.scrap.json+json": {
       "data": 9.127928384434751,
       "encoder": "json",
       "name": "Stats Model Manhattan Distance",
       "version": 1
      }
     },
     "metadata": {
      "scrapbook": {
       "data": true,
       "display": false,
       "name": "Stats Model Manhattan Distance"
      }
     },
     "output_type": "display_data"
    },
    {
     "data": {
      "application/scrapbook.scrap.json+json": {
       "data": 2.5093190578040256,
       "encoder": "json",
       "name": "Stats Model Euclidean distance",
       "version": 1
      }
     },
     "metadata": {
      "scrapbook": {
       "data": true,
       "display": false,
       "name": "Stats Model Euclidean distance"
      }
     },
     "output_type": "display_data"
    },
    {
     "data": {
      "application/scrapbook.scrap.json+json": {
       "data": [
        -0.3304274313696201,
        0.43651248890049066,
        0.6491398508522398,
        0.00750365338096845
       ],
       "encoder": "json",
       "name": "Coefficients",
       "version": 1
      }
     },
     "metadata": {
      "scrapbook": {
       "data": true,
       "display": false,
       "name": "Coefficients"
      }
     },
     "output_type": "display_data"
    }
   ],
   "source": [
    "coefficients , y_pred =statsModel.statsModel(X_train,y_train,X_test,y_test)\n",
    "#Store MSE Value \n",
    "sb.glue(\"Coefficients\",coefficients)"
   ]
  },
  {
   "cell_type": "markdown",
   "id": "ac33086d",
   "metadata": {
    "papermill": {
     "duration": 0.012696,
     "end_time": "2022-06-22T10:48:05.018149",
     "exception": false,
     "start_time": "2022-06-22T10:48:05.005453",
     "status": "completed"
    },
    "tags": []
   },
   "source": [
    "# Catboost Model "
   ]
  },
  {
   "cell_type": "code",
   "execution_count": 6,
   "id": "e6eb52a7",
   "metadata": {
    "execution": {
     "iopub.execute_input": "2022-06-22T10:48:05.056501Z",
     "iopub.status.busy": "2022-06-22T10:48:05.055417Z",
     "iopub.status.idle": "2022-06-22T10:48:05.803203Z",
     "shell.execute_reply": "2022-06-22T10:48:05.803764Z"
    },
    "papermill": {
     "duration": 0.774082,
     "end_time": "2022-06-22T10:48:05.803971",
     "exception": false,
     "start_time": "2022-06-22T10:48:05.029889",
     "status": "completed"
    },
    "tags": []
   },
   "outputs": [
    {
     "name": "stdout",
     "output_type": "stream",
     "text": [
      "Learning rate set to 0.027471\n",
      "0:\tlearn: 1.0330035\ttotal: 57.9ms\tremaining: 57.8s\n",
      "1:\tlearn: 1.0232192\ttotal: 59ms\tremaining: 29.4s\n",
      "2:\tlearn: 1.0122298\ttotal: 60ms\tremaining: 19.9s\n",
      "3:\tlearn: 0.9979143\ttotal: 61.1ms\tremaining: 15.2s\n",
      "4:\tlearn: 0.9854408\ttotal: 62.3ms\tremaining: 12.4s\n",
      "5:\tlearn: 0.9747027\ttotal: 62.9ms\tremaining: 10.4s\n",
      "6:\tlearn: 0.9628210\ttotal: 63.5ms\tremaining: 9.01s\n",
      "7:\tlearn: 0.9504065\ttotal: 64.6ms\tremaining: 8.01s\n",
      "8:\tlearn: 0.9398901\ttotal: 65.2ms\tremaining: 7.18s\n",
      "9:\tlearn: 0.9306556\ttotal: 65.8ms\tremaining: 6.51s\n",
      "10:\tlearn: 0.9196721\ttotal: 66.3ms\tremaining: 5.96s\n",
      "11:\tlearn: 0.9091613\ttotal: 66.9ms\tremaining: 5.51s\n",
      "12:\tlearn: 0.8970767\ttotal: 67.4ms\tremaining: 5.12s\n",
      "13:\tlearn: 0.8877147\ttotal: 68ms\tremaining: 4.79s\n",
      "14:\tlearn: 0.8766033\ttotal: 70.7ms\tremaining: 4.64s\n",
      "15:\tlearn: 0.8668388\ttotal: 71.5ms\tremaining: 4.4s\n",
      "16:\tlearn: 0.8565000\ttotal: 72.4ms\tremaining: 4.18s\n",
      "17:\tlearn: 0.8469222\ttotal: 76.6ms\tremaining: 4.18s\n",
      "18:\tlearn: 0.8382507\ttotal: 77.3ms\tremaining: 3.99s\n",
      "19:\tlearn: 0.8299274\ttotal: 77.9ms\tremaining: 3.82s\n",
      "20:\tlearn: 0.8188831\ttotal: 78.5ms\tremaining: 3.66s\n",
      "21:\tlearn: 0.8084321\ttotal: 79.3ms\tremaining: 3.53s\n",
      "22:\tlearn: 0.7996137\ttotal: 80.2ms\tremaining: 3.41s\n",
      "23:\tlearn: 0.7899961\ttotal: 80.7ms\tremaining: 3.28s\n",
      "24:\tlearn: 0.7815538\ttotal: 81.1ms\tremaining: 3.16s\n",
      "25:\tlearn: 0.7731392\ttotal: 81.6ms\tremaining: 3.06s\n",
      "26:\tlearn: 0.7644616\ttotal: 82.8ms\tremaining: 2.98s\n",
      "27:\tlearn: 0.7548743\ttotal: 83.5ms\tremaining: 2.9s\n",
      "28:\tlearn: 0.7473531\ttotal: 84.5ms\tremaining: 2.83s\n",
      "29:\tlearn: 0.7378204\ttotal: 85.2ms\tremaining: 2.76s\n",
      "30:\tlearn: 0.7300821\ttotal: 85.8ms\tremaining: 2.68s\n",
      "31:\tlearn: 0.7235012\ttotal: 86.3ms\tremaining: 2.61s\n",
      "32:\tlearn: 0.7168017\ttotal: 87ms\tremaining: 2.55s\n",
      "33:\tlearn: 0.7096374\ttotal: 87.5ms\tremaining: 2.48s\n",
      "34:\tlearn: 0.7032558\ttotal: 88ms\tremaining: 2.43s\n",
      "35:\tlearn: 0.6951532\ttotal: 88.6ms\tremaining: 2.37s\n",
      "36:\tlearn: 0.6878656\ttotal: 89.1ms\tremaining: 2.32s\n",
      "37:\tlearn: 0.6799203\ttotal: 89.6ms\tremaining: 2.27s\n"
     ]
    },
    {
     "name": "stdout",
     "output_type": "stream",
     "text": [
      "38:\tlearn: 0.6722344\ttotal: 90.2ms\tremaining: 2.22s\n",
      "39:\tlearn: 0.6645917\ttotal: 91.2ms\tremaining: 2.19s\n",
      "40:\tlearn: 0.6568455\ttotal: 91.7ms\tremaining: 2.14s\n",
      "41:\tlearn: 0.6497274\ttotal: 92.2ms\tremaining: 2.1s\n",
      "42:\tlearn: 0.6424836\ttotal: 92.5ms\tremaining: 2.06s\n",
      "43:\tlearn: 0.6372050\ttotal: 93ms\tremaining: 2.02s\n",
      "44:\tlearn: 0.6310971\ttotal: 93.7ms\tremaining: 1.99s\n",
      "45:\tlearn: 0.6246918\ttotal: 94.3ms\tremaining: 1.95s\n",
      "46:\tlearn: 0.6182650\ttotal: 94.8ms\tremaining: 1.92s\n",
      "47:\tlearn: 0.6120205\ttotal: 95.2ms\tremaining: 1.89s\n",
      "48:\tlearn: 0.6051983\ttotal: 95.7ms\tremaining: 1.86s\n",
      "49:\tlearn: 0.5995099\ttotal: 96.2ms\tremaining: 1.83s\n",
      "50:\tlearn: 0.5931070\ttotal: 96.8ms\tremaining: 1.8s\n",
      "51:\tlearn: 0.5871750\ttotal: 97.3ms\tremaining: 1.77s\n",
      "52:\tlearn: 0.5811165\ttotal: 97.8ms\tremaining: 1.75s\n",
      "53:\tlearn: 0.5749284\ttotal: 98.3ms\tremaining: 1.72s\n",
      "54:\tlearn: 0.5684322\ttotal: 98.9ms\tremaining: 1.7s\n",
      "55:\tlearn: 0.5630648\ttotal: 99.4ms\tremaining: 1.68s\n",
      "56:\tlearn: 0.5565989\ttotal: 99.7ms\tremaining: 1.65s\n",
      "57:\tlearn: 0.5515208\ttotal: 100ms\tremaining: 1.63s\n",
      "58:\tlearn: 0.5467191\ttotal: 101ms\tremaining: 1.61s\n",
      "59:\tlearn: 0.5417883\ttotal: 101ms\tremaining: 1.59s\n",
      "60:\tlearn: 0.5363947\ttotal: 102ms\tremaining: 1.57s\n",
      "61:\tlearn: 0.5309714\ttotal: 102ms\tremaining: 1.55s\n",
      "62:\tlearn: 0.5255871\ttotal: 103ms\tremaining: 1.53s\n",
      "63:\tlearn: 0.5202661\ttotal: 103ms\tremaining: 1.51s\n",
      "64:\tlearn: 0.5155088\ttotal: 104ms\tremaining: 1.49s\n",
      "65:\tlearn: 0.5112586\ttotal: 104ms\tremaining: 1.47s\n",
      "66:\tlearn: 0.5075024\ttotal: 104ms\tremaining: 1.45s\n",
      "67:\tlearn: 0.5023840\ttotal: 105ms\tremaining: 1.44s\n",
      "68:\tlearn: 0.4975877\ttotal: 105ms\tremaining: 1.42s\n",
      "69:\tlearn: 0.4939368\ttotal: 106ms\tremaining: 1.41s\n",
      "70:\tlearn: 0.4899064\ttotal: 106ms\tremaining: 1.39s\n",
      "71:\tlearn: 0.4857442\ttotal: 107ms\tremaining: 1.38s\n",
      "72:\tlearn: 0.4819135\ttotal: 107ms\tremaining: 1.36s\n",
      "73:\tlearn: 0.4781100\ttotal: 108ms\tremaining: 1.34s\n",
      "74:\tlearn: 0.4742673\ttotal: 108ms\tremaining: 1.33s\n",
      "75:\tlearn: 0.4705070\ttotal: 109ms\tremaining: 1.32s\n",
      "76:\tlearn: 0.4664335\ttotal: 109ms\tremaining: 1.31s\n",
      "77:\tlearn: 0.4630081\ttotal: 109ms\tremaining: 1.29s\n",
      "78:\tlearn: 0.4596714\ttotal: 110ms\tremaining: 1.28s\n",
      "79:\tlearn: 0.4555869\ttotal: 110ms\tremaining: 1.27s\n",
      "80:\tlearn: 0.4511992\ttotal: 111ms\tremaining: 1.25s\n",
      "81:\tlearn: 0.4483023\ttotal: 111ms\tremaining: 1.24s\n",
      "82:\tlearn: 0.4454243\ttotal: 111ms\tremaining: 1.23s\n",
      "83:\tlearn: 0.4421692\ttotal: 112ms\tremaining: 1.22s\n",
      "84:\tlearn: 0.4387591\ttotal: 112ms\tremaining: 1.21s\n",
      "85:\tlearn: 0.4355703\ttotal: 113ms\tremaining: 1.2s\n",
      "86:\tlearn: 0.4324978\ttotal: 113ms\tremaining: 1.19s\n",
      "87:\tlearn: 0.4288846\ttotal: 114ms\tremaining: 1.18s\n",
      "88:\tlearn: 0.4250310\ttotal: 114ms\tremaining: 1.17s\n",
      "89:\tlearn: 0.4215576\ttotal: 115ms\tremaining: 1.16s\n",
      "90:\tlearn: 0.4173752\ttotal: 115ms\tremaining: 1.15s\n",
      "91:\tlearn: 0.4148011\ttotal: 115ms\tremaining: 1.14s\n",
      "92:\tlearn: 0.4122493\ttotal: 116ms\tremaining: 1.13s\n",
      "93:\tlearn: 0.4087314\ttotal: 116ms\tremaining: 1.12s\n",
      "94:\tlearn: 0.4054272\ttotal: 117ms\tremaining: 1.11s\n",
      "95:\tlearn: 0.4030203\ttotal: 117ms\tremaining: 1.1s\n",
      "96:\tlearn: 0.4004517\ttotal: 118ms\tremaining: 1.1s\n",
      "97:\tlearn: 0.3975344\ttotal: 118ms\tremaining: 1.09s\n",
      "98:\tlearn: 0.3952212\ttotal: 119ms\tremaining: 1.08s\n",
      "99:\tlearn: 0.3925335\ttotal: 119ms\tremaining: 1.07s\n",
      "100:\tlearn: 0.3898625\ttotal: 120ms\tremaining: 1.06s\n",
      "101:\tlearn: 0.3872905\ttotal: 120ms\tremaining: 1.06s\n",
      "102:\tlearn: 0.3845017\ttotal: 120ms\tremaining: 1.05s\n",
      "103:\tlearn: 0.3814638\ttotal: 121ms\tremaining: 1.04s\n",
      "104:\tlearn: 0.3793669\ttotal: 121ms\tremaining: 1.03s\n",
      "105:\tlearn: 0.3763345\ttotal: 122ms\tremaining: 1.02s\n",
      "106:\tlearn: 0.3734280\ttotal: 122ms\tremaining: 1.02s\n",
      "107:\tlearn: 0.3706853\ttotal: 122ms\tremaining: 1.01s\n",
      "108:\tlearn: 0.3678614\ttotal: 123ms\tremaining: 1s\n",
      "109:\tlearn: 0.3657270\ttotal: 123ms\tremaining: 998ms\n",
      "110:\tlearn: 0.3633533\ttotal: 124ms\tremaining: 992ms\n",
      "111:\tlearn: 0.3616943\ttotal: 124ms\tremaining: 985ms\n",
      "112:\tlearn: 0.3598170\ttotal: 125ms\tremaining: 978ms\n",
      "113:\tlearn: 0.3579186\ttotal: 125ms\tremaining: 972ms\n",
      "114:\tlearn: 0.3551601\ttotal: 125ms\tremaining: 966ms\n",
      "115:\tlearn: 0.3531474\ttotal: 126ms\tremaining: 960ms\n",
      "116:\tlearn: 0.3509999\ttotal: 126ms\tremaining: 954ms\n",
      "117:\tlearn: 0.3492817\ttotal: 127ms\tremaining: 948ms\n",
      "118:\tlearn: 0.3468401\ttotal: 127ms\tremaining: 942ms\n",
      "119:\tlearn: 0.3445539\ttotal: 128ms\tremaining: 936ms\n",
      "120:\tlearn: 0.3426784\ttotal: 128ms\tremaining: 931ms\n",
      "121:\tlearn: 0.3409460\ttotal: 129ms\tremaining: 926ms\n",
      "122:\tlearn: 0.3389352\ttotal: 129ms\tremaining: 919ms\n",
      "123:\tlearn: 0.3368616\ttotal: 129ms\tremaining: 914ms\n",
      "124:\tlearn: 0.3349166\ttotal: 130ms\tremaining: 908ms\n",
      "125:\tlearn: 0.3327516\ttotal: 130ms\tremaining: 904ms\n",
      "126:\tlearn: 0.3308082\ttotal: 131ms\tremaining: 898ms\n",
      "127:\tlearn: 0.3289640\ttotal: 131ms\tremaining: 894ms\n",
      "128:\tlearn: 0.3270514\ttotal: 132ms\tremaining: 889ms\n",
      "129:\tlearn: 0.3249346\ttotal: 132ms\tremaining: 884ms\n",
      "130:\tlearn: 0.3235300\ttotal: 133ms\tremaining: 879ms\n",
      "131:\tlearn: 0.3218716\ttotal: 133ms\tremaining: 875ms\n",
      "132:\tlearn: 0.3200764\ttotal: 133ms\tremaining: 869ms\n",
      "133:\tlearn: 0.3179756\ttotal: 134ms\tremaining: 864ms\n",
      "134:\tlearn: 0.3159106\ttotal: 134ms\tremaining: 859ms\n",
      "135:\tlearn: 0.3135693\ttotal: 135ms\tremaining: 855ms\n",
      "136:\tlearn: 0.3122723\ttotal: 135ms\tremaining: 852ms\n",
      "137:\tlearn: 0.3104248\ttotal: 136ms\tremaining: 847ms\n",
      "138:\tlearn: 0.3086662\ttotal: 136ms\tremaining: 843ms\n",
      "139:\tlearn: 0.3061601\ttotal: 137ms\tremaining: 839ms\n",
      "140:\tlearn: 0.3044439\ttotal: 137ms\tremaining: 834ms\n",
      "141:\tlearn: 0.3028845\ttotal: 137ms\tremaining: 830ms\n",
      "142:\tlearn: 0.3012989\ttotal: 138ms\tremaining: 826ms\n",
      "143:\tlearn: 0.2994310\ttotal: 138ms\tremaining: 822ms\n",
      "144:\tlearn: 0.2975026\ttotal: 139ms\tremaining: 818ms\n",
      "145:\tlearn: 0.2958347\ttotal: 139ms\tremaining: 814ms\n",
      "146:\tlearn: 0.2937526\ttotal: 140ms\tremaining: 810ms\n",
      "147:\tlearn: 0.2919014\ttotal: 140ms\tremaining: 807ms\n",
      "148:\tlearn: 0.2902443\ttotal: 141ms\tremaining: 803ms\n",
      "149:\tlearn: 0.2880787\ttotal: 141ms\tremaining: 799ms\n",
      "150:\tlearn: 0.2855505\ttotal: 141ms\tremaining: 795ms\n",
      "151:\tlearn: 0.2842615\ttotal: 142ms\tremaining: 790ms\n",
      "152:\tlearn: 0.2826679\ttotal: 142ms\tremaining: 786ms\n",
      "153:\tlearn: 0.2807645\ttotal: 142ms\tremaining: 783ms\n",
      "154:\tlearn: 0.2789191\ttotal: 143ms\tremaining: 779ms\n",
      "155:\tlearn: 0.2771404\ttotal: 143ms\tremaining: 776ms\n",
      "156:\tlearn: 0.2762080\ttotal: 144ms\tremaining: 772ms\n",
      "157:\tlearn: 0.2748901\ttotal: 144ms\tremaining: 768ms\n",
      "158:\tlearn: 0.2727322\ttotal: 145ms\tremaining: 765ms\n",
      "159:\tlearn: 0.2714094\ttotal: 145ms\tremaining: 762ms\n",
      "160:\tlearn: 0.2697293\ttotal: 145ms\tremaining: 758ms\n",
      "161:\tlearn: 0.2682884\ttotal: 146ms\tremaining: 755ms\n",
      "162:\tlearn: 0.2668257\ttotal: 146ms\tremaining: 752ms\n",
      "163:\tlearn: 0.2653558\ttotal: 147ms\tremaining: 748ms\n",
      "164:\tlearn: 0.2646068\ttotal: 147ms\tremaining: 744ms\n",
      "165:\tlearn: 0.2638156\ttotal: 147ms\tremaining: 741ms\n",
      "166:\tlearn: 0.2624626\ttotal: 148ms\tremaining: 738ms\n",
      "167:\tlearn: 0.2614832\ttotal: 148ms\tremaining: 735ms\n",
      "168:\tlearn: 0.2600152\ttotal: 149ms\tremaining: 732ms\n"
     ]
    },
    {
     "name": "stdout",
     "output_type": "stream",
     "text": [
      "169:\tlearn: 0.2585219\ttotal: 150ms\tremaining: 730ms\n",
      "170:\tlearn: 0.2570623\ttotal: 150ms\tremaining: 728ms\n",
      "171:\tlearn: 0.2557244\ttotal: 151ms\tremaining: 725ms\n",
      "172:\tlearn: 0.2539183\ttotal: 151ms\tremaining: 722ms\n",
      "173:\tlearn: 0.2526254\ttotal: 151ms\tremaining: 719ms\n",
      "174:\tlearn: 0.2510950\ttotal: 152ms\tremaining: 716ms\n",
      "175:\tlearn: 0.2499288\ttotal: 153ms\tremaining: 714ms\n",
      "176:\tlearn: 0.2488469\ttotal: 153ms\tremaining: 712ms\n",
      "177:\tlearn: 0.2478359\ttotal: 153ms\tremaining: 709ms\n",
      "178:\tlearn: 0.2467414\ttotal: 154ms\tremaining: 706ms\n",
      "179:\tlearn: 0.2454190\ttotal: 154ms\tremaining: 703ms\n",
      "180:\tlearn: 0.2443945\ttotal: 155ms\tremaining: 700ms\n",
      "181:\tlearn: 0.2433496\ttotal: 155ms\tremaining: 697ms\n",
      "182:\tlearn: 0.2423244\ttotal: 156ms\tremaining: 695ms\n",
      "183:\tlearn: 0.2411449\ttotal: 156ms\tremaining: 691ms\n",
      "184:\tlearn: 0.2394697\ttotal: 156ms\tremaining: 688ms\n",
      "185:\tlearn: 0.2386056\ttotal: 157ms\tremaining: 686ms\n",
      "186:\tlearn: 0.2375297\ttotal: 157ms\tremaining: 683ms\n",
      "187:\tlearn: 0.2367003\ttotal: 157ms\tremaining: 680ms\n",
      "188:\tlearn: 0.2351099\ttotal: 158ms\tremaining: 677ms\n",
      "189:\tlearn: 0.2336816\ttotal: 158ms\tremaining: 674ms\n",
      "190:\tlearn: 0.2325925\ttotal: 159ms\tremaining: 672ms\n",
      "191:\tlearn: 0.2316003\ttotal: 159ms\tremaining: 669ms\n",
      "192:\tlearn: 0.2302420\ttotal: 159ms\tremaining: 666ms\n",
      "193:\tlearn: 0.2293177\ttotal: 160ms\tremaining: 663ms\n",
      "194:\tlearn: 0.2283105\ttotal: 160ms\tremaining: 661ms\n",
      "195:\tlearn: 0.2271760\ttotal: 160ms\tremaining: 658ms\n",
      "196:\tlearn: 0.2259324\ttotal: 161ms\tremaining: 656ms\n",
      "197:\tlearn: 0.2246225\ttotal: 161ms\tremaining: 654ms\n",
      "198:\tlearn: 0.2234248\ttotal: 162ms\tremaining: 651ms\n",
      "199:\tlearn: 0.2224004\ttotal: 162ms\tremaining: 649ms\n",
      "200:\tlearn: 0.2213342\ttotal: 163ms\tremaining: 647ms\n",
      "201:\tlearn: 0.2201922\ttotal: 163ms\tremaining: 644ms\n",
      "202:\tlearn: 0.2189841\ttotal: 163ms\tremaining: 642ms\n",
      "203:\tlearn: 0.2181366\ttotal: 164ms\tremaining: 639ms\n",
      "204:\tlearn: 0.2170378\ttotal: 164ms\tremaining: 637ms\n",
      "205:\tlearn: 0.2156094\ttotal: 165ms\tremaining: 635ms\n",
      "206:\tlearn: 0.2144896\ttotal: 165ms\tremaining: 632ms\n",
      "207:\tlearn: 0.2134488\ttotal: 165ms\tremaining: 630ms\n",
      "208:\tlearn: 0.2123953\ttotal: 166ms\tremaining: 628ms\n",
      "209:\tlearn: 0.2118102\ttotal: 166ms\tremaining: 625ms\n",
      "210:\tlearn: 0.2108379\ttotal: 167ms\tremaining: 623ms\n",
      "211:\tlearn: 0.2096036\ttotal: 167ms\tremaining: 620ms\n",
      "212:\tlearn: 0.2086914\ttotal: 167ms\tremaining: 618ms\n",
      "213:\tlearn: 0.2079111\ttotal: 168ms\tremaining: 616ms\n",
      "214:\tlearn: 0.2069119\ttotal: 168ms\tremaining: 614ms\n",
      "215:\tlearn: 0.2059300\ttotal: 169ms\tremaining: 612ms\n",
      "216:\tlearn: 0.2051443\ttotal: 169ms\tremaining: 610ms\n",
      "217:\tlearn: 0.2041899\ttotal: 170ms\tremaining: 608ms\n",
      "218:\tlearn: 0.2031676\ttotal: 170ms\tremaining: 606ms\n",
      "219:\tlearn: 0.2024120\ttotal: 170ms\tremaining: 604ms\n",
      "220:\tlearn: 0.2013872\ttotal: 171ms\tremaining: 602ms\n",
      "221:\tlearn: 0.2003121\ttotal: 171ms\tremaining: 600ms\n",
      "222:\tlearn: 0.1992514\ttotal: 171ms\tremaining: 597ms\n",
      "223:\tlearn: 0.1983874\ttotal: 172ms\tremaining: 595ms\n",
      "224:\tlearn: 0.1973228\ttotal: 172ms\tremaining: 594ms\n",
      "225:\tlearn: 0.1966829\ttotal: 173ms\tremaining: 592ms\n",
      "226:\tlearn: 0.1958504\ttotal: 173ms\tremaining: 590ms\n",
      "227:\tlearn: 0.1945185\ttotal: 174ms\tremaining: 588ms\n",
      "228:\tlearn: 0.1937347\ttotal: 174ms\tremaining: 586ms\n",
      "229:\tlearn: 0.1928883\ttotal: 174ms\tremaining: 584ms\n",
      "230:\tlearn: 0.1917971\ttotal: 175ms\tremaining: 582ms\n",
      "231:\tlearn: 0.1909015\ttotal: 175ms\tremaining: 580ms\n",
      "232:\tlearn: 0.1902921\ttotal: 176ms\tremaining: 579ms\n",
      "233:\tlearn: 0.1896114\ttotal: 176ms\tremaining: 577ms\n",
      "234:\tlearn: 0.1887068\ttotal: 177ms\tremaining: 575ms\n",
      "235:\tlearn: 0.1879694\ttotal: 177ms\tremaining: 573ms\n",
      "236:\tlearn: 0.1872555\ttotal: 178ms\tremaining: 572ms\n",
      "237:\tlearn: 0.1861771\ttotal: 178ms\tremaining: 569ms\n",
      "238:\tlearn: 0.1853169\ttotal: 178ms\tremaining: 568ms\n",
      "239:\tlearn: 0.1845406\ttotal: 179ms\tremaining: 566ms\n",
      "240:\tlearn: 0.1836960\ttotal: 179ms\tremaining: 564ms\n",
      "241:\tlearn: 0.1829277\ttotal: 180ms\tremaining: 562ms\n",
      "242:\tlearn: 0.1821755\ttotal: 180ms\tremaining: 561ms\n",
      "243:\tlearn: 0.1815089\ttotal: 180ms\tremaining: 558ms\n",
      "244:\tlearn: 0.1808538\ttotal: 181ms\tremaining: 557ms\n",
      "245:\tlearn: 0.1801327\ttotal: 181ms\tremaining: 555ms\n",
      "246:\tlearn: 0.1796525\ttotal: 182ms\tremaining: 554ms\n",
      "247:\tlearn: 0.1786457\ttotal: 182ms\tremaining: 552ms\n",
      "248:\tlearn: 0.1781276\ttotal: 182ms\tremaining: 550ms\n",
      "249:\tlearn: 0.1775004\ttotal: 183ms\tremaining: 549ms\n",
      "250:\tlearn: 0.1769129\ttotal: 183ms\tremaining: 546ms\n",
      "251:\tlearn: 0.1760930\ttotal: 184ms\tremaining: 545ms\n",
      "252:\tlearn: 0.1755337\ttotal: 184ms\tremaining: 543ms\n",
      "253:\tlearn: 0.1749967\ttotal: 184ms\tremaining: 542ms\n",
      "254:\tlearn: 0.1738284\ttotal: 185ms\tremaining: 540ms\n",
      "255:\tlearn: 0.1732780\ttotal: 185ms\tremaining: 538ms\n",
      "256:\tlearn: 0.1725086\ttotal: 186ms\tremaining: 537ms\n",
      "257:\tlearn: 0.1717284\ttotal: 186ms\tremaining: 536ms\n",
      "258:\tlearn: 0.1710380\ttotal: 187ms\tremaining: 534ms\n",
      "259:\tlearn: 0.1704534\ttotal: 187ms\tremaining: 533ms\n",
      "260:\tlearn: 0.1694517\ttotal: 188ms\tremaining: 531ms\n",
      "261:\tlearn: 0.1689146\ttotal: 188ms\tremaining: 529ms\n",
      "262:\tlearn: 0.1684253\ttotal: 188ms\tremaining: 528ms\n",
      "263:\tlearn: 0.1675456\ttotal: 189ms\tremaining: 526ms\n",
      "264:\tlearn: 0.1665526\ttotal: 189ms\tremaining: 525ms\n",
      "265:\tlearn: 0.1660477\ttotal: 190ms\tremaining: 523ms\n",
      "266:\tlearn: 0.1650552\ttotal: 190ms\tremaining: 522ms\n",
      "267:\tlearn: 0.1645674\ttotal: 190ms\tremaining: 520ms\n",
      "268:\tlearn: 0.1636110\ttotal: 191ms\tremaining: 519ms\n",
      "269:\tlearn: 0.1626253\ttotal: 191ms\tremaining: 518ms\n",
      "270:\tlearn: 0.1616540\ttotal: 192ms\tremaining: 516ms\n",
      "271:\tlearn: 0.1609828\ttotal: 192ms\tremaining: 515ms\n",
      "272:\tlearn: 0.1604605\ttotal: 193ms\tremaining: 513ms\n",
      "273:\tlearn: 0.1600166\ttotal: 193ms\tremaining: 512ms\n",
      "274:\tlearn: 0.1592179\ttotal: 193ms\tremaining: 510ms\n",
      "275:\tlearn: 0.1587536\ttotal: 194ms\tremaining: 508ms\n",
      "276:\tlearn: 0.1581525\ttotal: 194ms\tremaining: 506ms\n",
      "277:\tlearn: 0.1576573\ttotal: 194ms\tremaining: 505ms\n",
      "278:\tlearn: 0.1570607\ttotal: 195ms\tremaining: 503ms\n",
      "279:\tlearn: 0.1565836\ttotal: 195ms\tremaining: 502ms\n",
      "280:\tlearn: 0.1558558\ttotal: 196ms\tremaining: 501ms\n",
      "281:\tlearn: 0.1552281\ttotal: 196ms\tremaining: 499ms\n",
      "282:\tlearn: 0.1546856\ttotal: 196ms\tremaining: 498ms\n",
      "283:\tlearn: 0.1541552\ttotal: 197ms\tremaining: 497ms\n",
      "284:\tlearn: 0.1534659\ttotal: 197ms\tremaining: 495ms\n",
      "285:\tlearn: 0.1527212\ttotal: 198ms\tremaining: 494ms\n",
      "286:\tlearn: 0.1519678\ttotal: 198ms\tremaining: 493ms\n",
      "287:\tlearn: 0.1515340\ttotal: 199ms\tremaining: 491ms\n",
      "288:\tlearn: 0.1507400\ttotal: 199ms\tremaining: 490ms\n",
      "289:\tlearn: 0.1502361\ttotal: 200ms\tremaining: 489ms\n",
      "290:\tlearn: 0.1494625\ttotal: 200ms\tremaining: 487ms\n",
      "291:\tlearn: 0.1488070\ttotal: 200ms\tremaining: 486ms\n",
      "292:\tlearn: 0.1482324\ttotal: 201ms\tremaining: 484ms\n",
      "293:\tlearn: 0.1476046\ttotal: 201ms\tremaining: 483ms\n",
      "294:\tlearn: 0.1467644\ttotal: 201ms\tremaining: 481ms\n",
      "295:\tlearn: 0.1460716\ttotal: 202ms\tremaining: 480ms\n",
      "296:\tlearn: 0.1456350\ttotal: 203ms\tremaining: 479ms\n",
      "297:\tlearn: 0.1451608\ttotal: 203ms\tremaining: 478ms\n",
      "298:\tlearn: 0.1444557\ttotal: 203ms\tremaining: 477ms\n",
      "299:\tlearn: 0.1439081\ttotal: 204ms\tremaining: 476ms\n",
      "300:\tlearn: 0.1430990\ttotal: 204ms\tremaining: 474ms\n",
      "301:\tlearn: 0.1423945\ttotal: 205ms\tremaining: 473ms\n",
      "302:\tlearn: 0.1417112\ttotal: 205ms\tremaining: 472ms\n",
      "303:\tlearn: 0.1410246\ttotal: 206ms\tremaining: 470ms\n",
      "304:\tlearn: 0.1402466\ttotal: 206ms\tremaining: 470ms\n",
      "305:\tlearn: 0.1395788\ttotal: 206ms\tremaining: 468ms\n",
      "306:\tlearn: 0.1390600\ttotal: 207ms\tremaining: 467ms\n",
      "307:\tlearn: 0.1383369\ttotal: 207ms\tremaining: 466ms\n",
      "308:\tlearn: 0.1376285\ttotal: 208ms\tremaining: 465ms\n",
      "309:\tlearn: 0.1371438\ttotal: 208ms\tremaining: 464ms\n",
      "310:\tlearn: 0.1364548\ttotal: 209ms\tremaining: 463ms\n",
      "311:\tlearn: 0.1357185\ttotal: 209ms\tremaining: 461ms\n",
      "312:\tlearn: 0.1352514\ttotal: 210ms\tremaining: 460ms\n",
      "313:\tlearn: 0.1348200\ttotal: 210ms\tremaining: 459ms\n",
      "314:\tlearn: 0.1339973\ttotal: 211ms\tremaining: 458ms\n",
      "315:\tlearn: 0.1335812\ttotal: 211ms\tremaining: 457ms\n",
      "316:\tlearn: 0.1328461\ttotal: 212ms\tremaining: 456ms\n",
      "317:\tlearn: 0.1320437\ttotal: 212ms\tremaining: 455ms\n",
      "318:\tlearn: 0.1313041\ttotal: 213ms\tremaining: 454ms\n",
      "319:\tlearn: 0.1306584\ttotal: 213ms\tremaining: 453ms\n",
      "320:\tlearn: 0.1303110\ttotal: 213ms\tremaining: 451ms\n",
      "321:\tlearn: 0.1298824\ttotal: 214ms\tremaining: 450ms\n",
      "322:\tlearn: 0.1291175\ttotal: 214ms\tremaining: 449ms\n",
      "323:\tlearn: 0.1288041\ttotal: 215ms\tremaining: 448ms\n",
      "324:\tlearn: 0.1285031\ttotal: 215ms\tremaining: 446ms\n",
      "325:\tlearn: 0.1281793\ttotal: 215ms\tremaining: 445ms\n",
      "326:\tlearn: 0.1278778\ttotal: 216ms\tremaining: 444ms\n",
      "327:\tlearn: 0.1274095\ttotal: 216ms\tremaining: 443ms\n",
      "328:\tlearn: 0.1268141\ttotal: 216ms\tremaining: 442ms\n",
      "329:\tlearn: 0.1265232\ttotal: 217ms\tremaining: 440ms\n",
      "330:\tlearn: 0.1260593\ttotal: 217ms\tremaining: 439ms\n",
      "331:\tlearn: 0.1256306\ttotal: 218ms\tremaining: 438ms\n",
      "332:\tlearn: 0.1253437\ttotal: 218ms\tremaining: 437ms\n",
      "333:\tlearn: 0.1247074\ttotal: 219ms\tremaining: 436ms\n",
      "334:\tlearn: 0.1244653\ttotal: 219ms\tremaining: 435ms\n",
      "335:\tlearn: 0.1237415\ttotal: 220ms\tremaining: 434ms\n",
      "336:\tlearn: 0.1234722\ttotal: 220ms\tremaining: 433ms\n",
      "337:\tlearn: 0.1230259\ttotal: 220ms\tremaining: 432ms\n",
      "338:\tlearn: 0.1225895\ttotal: 221ms\tremaining: 431ms\n",
      "339:\tlearn: 0.1219729\ttotal: 221ms\tremaining: 430ms\n",
      "340:\tlearn: 0.1217013\ttotal: 222ms\tremaining: 429ms\n",
      "341:\tlearn: 0.1210966\ttotal: 222ms\tremaining: 428ms\n",
      "342:\tlearn: 0.1205026\ttotal: 223ms\tremaining: 426ms\n",
      "343:\tlearn: 0.1198340\ttotal: 223ms\tremaining: 425ms\n",
      "344:\tlearn: 0.1191433\ttotal: 223ms\tremaining: 424ms\n",
      "345:\tlearn: 0.1187846\ttotal: 224ms\tremaining: 423ms\n",
      "346:\tlearn: 0.1185230\ttotal: 224ms\tremaining: 422ms\n",
      "347:\tlearn: 0.1181767\ttotal: 225ms\tremaining: 421ms\n",
      "348:\tlearn: 0.1179853\ttotal: 225ms\tremaining: 421ms\n",
      "349:\tlearn: 0.1175709\ttotal: 226ms\tremaining: 419ms\n",
      "350:\tlearn: 0.1174124\ttotal: 226ms\tremaining: 419ms\n",
      "351:\tlearn: 0.1170071\ttotal: 227ms\tremaining: 418ms\n",
      "352:\tlearn: 0.1162316\ttotal: 227ms\tremaining: 416ms\n",
      "353:\tlearn: 0.1155734\ttotal: 228ms\tremaining: 415ms\n",
      "354:\tlearn: 0.1151826\ttotal: 228ms\tremaining: 414ms\n",
      "355:\tlearn: 0.1145399\ttotal: 228ms\tremaining: 413ms\n",
      "356:\tlearn: 0.1142330\ttotal: 229ms\tremaining: 412ms\n",
      "357:\tlearn: 0.1139047\ttotal: 229ms\tremaining: 411ms\n",
      "358:\tlearn: 0.1135240\ttotal: 230ms\tremaining: 410ms\n",
      "359:\tlearn: 0.1131439\ttotal: 230ms\tremaining: 409ms\n",
      "360:\tlearn: 0.1127730\ttotal: 231ms\tremaining: 408ms\n",
      "361:\tlearn: 0.1125905\ttotal: 231ms\tremaining: 408ms\n",
      "362:\tlearn: 0.1118573\ttotal: 232ms\tremaining: 407ms\n",
      "363:\tlearn: 0.1117494\ttotal: 232ms\tremaining: 406ms\n",
      "364:\tlearn: 0.1113888\ttotal: 233ms\tremaining: 405ms\n",
      "365:\tlearn: 0.1108601\ttotal: 233ms\tremaining: 404ms\n",
      "366:\tlearn: 0.1103437\ttotal: 234ms\tremaining: 403ms\n",
      "367:\tlearn: 0.1098318\ttotal: 234ms\tremaining: 402ms\n",
      "368:\tlearn: 0.1091336\ttotal: 235ms\tremaining: 401ms\n",
      "369:\tlearn: 0.1086419\ttotal: 235ms\tremaining: 400ms\n",
      "370:\tlearn: 0.1081738\ttotal: 236ms\tremaining: 399ms\n",
      "371:\tlearn: 0.1077175\ttotal: 236ms\tremaining: 398ms\n",
      "372:\tlearn: 0.1076674\ttotal: 237ms\tremaining: 398ms\n",
      "373:\tlearn: 0.1076198\ttotal: 237ms\tremaining: 397ms\n",
      "374:\tlearn: 0.1071743\ttotal: 238ms\tremaining: 396ms\n",
      "375:\tlearn: 0.1071270\ttotal: 238ms\tremaining: 395ms\n",
      "376:\tlearn: 0.1070804\ttotal: 238ms\tremaining: 394ms\n",
      "377:\tlearn: 0.1070345\ttotal: 239ms\tremaining: 393ms\n",
      "378:\tlearn: 0.1065993\ttotal: 239ms\tremaining: 392ms\n",
      "379:\tlearn: 0.1065536\ttotal: 240ms\tremaining: 391ms\n",
      "380:\tlearn: 0.1060710\ttotal: 240ms\tremaining: 390ms\n",
      "381:\tlearn: 0.1060265\ttotal: 241ms\tremaining: 389ms\n",
      "382:\tlearn: 0.1059600\ttotal: 241ms\tremaining: 388ms\n",
      "383:\tlearn: 0.1059165\ttotal: 242ms\tremaining: 387ms\n",
      "384:\tlearn: 0.1054447\ttotal: 242ms\tremaining: 387ms\n",
      "385:\tlearn: 0.1053795\ttotal: 242ms\tremaining: 386ms\n",
      "386:\tlearn: 0.1047251\ttotal: 243ms\tremaining: 385ms\n",
      "387:\tlearn: 0.1042672\ttotal: 243ms\tremaining: 383ms\n",
      "388:\tlearn: 0.1036271\ttotal: 244ms\tremaining: 383ms\n",
      "389:\tlearn: 0.1030659\ttotal: 244ms\tremaining: 382ms\n",
      "390:\tlearn: 0.1025167\ttotal: 244ms\tremaining: 381ms\n",
      "391:\tlearn: 0.1024108\ttotal: 245ms\tremaining: 380ms\n",
      "392:\tlearn: 0.1023485\ttotal: 245ms\tremaining: 379ms\n",
      "393:\tlearn: 0.1022441\ttotal: 246ms\tremaining: 378ms\n",
      "394:\tlearn: 0.1017071\ttotal: 246ms\tremaining: 377ms\n",
      "395:\tlearn: 0.1016042\ttotal: 247ms\tremaining: 376ms\n",
      "396:\tlearn: 0.1010789\ttotal: 247ms\tremaining: 375ms\n",
      "397:\tlearn: 0.1010395\ttotal: 247ms\tremaining: 374ms\n",
      "398:\tlearn: 0.1005062\ttotal: 248ms\tremaining: 373ms\n",
      "399:\tlearn: 0.1004051\ttotal: 248ms\tremaining: 373ms\n",
      "400:\tlearn: 0.1003451\ttotal: 249ms\tremaining: 372ms\n",
      "401:\tlearn: 0.1002455\ttotal: 249ms\tremaining: 371ms\n",
      "402:\tlearn: 0.0997357\ttotal: 250ms\tremaining: 370ms\n"
     ]
    },
    {
     "name": "stdout",
     "output_type": "stream",
     "text": [
      "403:\tlearn: 0.0996977\ttotal: 250ms\tremaining: 370ms\n",
      "404:\tlearn: 0.0995996\ttotal: 252ms\tremaining: 370ms\n",
      "405:\tlearn: 0.0991196\ttotal: 252ms\tremaining: 369ms\n",
      "406:\tlearn: 0.0990615\ttotal: 252ms\tremaining: 368ms\n",
      "407:\tlearn: 0.0990247\ttotal: 253ms\tremaining: 367ms\n",
      "408:\tlearn: 0.0984691\ttotal: 255ms\tremaining: 369ms\n",
      "409:\tlearn: 0.0979763\ttotal: 256ms\tremaining: 368ms\n",
      "410:\tlearn: 0.0975016\ttotal: 257ms\tremaining: 368ms\n",
      "411:\tlearn: 0.0970275\ttotal: 257ms\tremaining: 367ms\n",
      "412:\tlearn: 0.0965879\ttotal: 258ms\tremaining: 366ms\n",
      "413:\tlearn: 0.0961782\ttotal: 258ms\tremaining: 365ms\n",
      "414:\tlearn: 0.0960830\ttotal: 259ms\tremaining: 365ms\n",
      "415:\tlearn: 0.0957336\ttotal: 259ms\tremaining: 364ms\n",
      "416:\tlearn: 0.0956398\ttotal: 260ms\tremaining: 363ms\n",
      "417:\tlearn: 0.0952236\ttotal: 260ms\tremaining: 362ms\n",
      "418:\tlearn: 0.0948047\ttotal: 260ms\tremaining: 361ms\n",
      "419:\tlearn: 0.0947134\ttotal: 261ms\tremaining: 360ms\n",
      "420:\tlearn: 0.0943524\ttotal: 261ms\tremaining: 359ms\n",
      "421:\tlearn: 0.0940279\ttotal: 262ms\tremaining: 358ms\n",
      "422:\tlearn: 0.0936263\ttotal: 262ms\tremaining: 358ms\n",
      "423:\tlearn: 0.0932994\ttotal: 263ms\tremaining: 357ms\n",
      "424:\tlearn: 0.0929822\ttotal: 263ms\tremaining: 356ms\n",
      "425:\tlearn: 0.0926066\ttotal: 263ms\tremaining: 355ms\n",
      "426:\tlearn: 0.0922819\ttotal: 264ms\tremaining: 354ms\n",
      "427:\tlearn: 0.0921944\ttotal: 264ms\tremaining: 353ms\n",
      "428:\tlearn: 0.0918363\ttotal: 265ms\tremaining: 352ms\n",
      "429:\tlearn: 0.0915234\ttotal: 265ms\tremaining: 352ms\n",
      "430:\tlearn: 0.0912200\ttotal: 266ms\tremaining: 351ms\n",
      "431:\tlearn: 0.0907902\ttotal: 266ms\tremaining: 350ms\n",
      "432:\tlearn: 0.0907048\ttotal: 267ms\tremaining: 349ms\n",
      "433:\tlearn: 0.0903469\ttotal: 267ms\tremaining: 348ms\n",
      "434:\tlearn: 0.0902634\ttotal: 268ms\tremaining: 348ms\n",
      "435:\tlearn: 0.0899685\ttotal: 268ms\tremaining: 347ms\n",
      "436:\tlearn: 0.0896280\ttotal: 269ms\tremaining: 346ms\n",
      "437:\tlearn: 0.0895225\ttotal: 269ms\tremaining: 345ms\n",
      "438:\tlearn: 0.0892326\ttotal: 269ms\tremaining: 344ms\n",
      "439:\tlearn: 0.0887631\ttotal: 270ms\tremaining: 343ms\n",
      "440:\tlearn: 0.0884540\ttotal: 270ms\tremaining: 343ms\n",
      "441:\tlearn: 0.0883544\ttotal: 271ms\tremaining: 342ms\n",
      "442:\tlearn: 0.0879514\ttotal: 271ms\tremaining: 341ms\n",
      "443:\tlearn: 0.0878546\ttotal: 272ms\tremaining: 341ms\n",
      "444:\tlearn: 0.0874743\ttotal: 272ms\tremaining: 340ms\n",
      "445:\tlearn: 0.0873707\ttotal: 273ms\tremaining: 339ms\n",
      "446:\tlearn: 0.0870921\ttotal: 273ms\tremaining: 338ms\n",
      "447:\tlearn: 0.0866991\ttotal: 274ms\tremaining: 337ms\n",
      "448:\tlearn: 0.0864254\ttotal: 274ms\tremaining: 336ms\n",
      "449:\tlearn: 0.0861400\ttotal: 275ms\tremaining: 336ms\n",
      "450:\tlearn: 0.0858721\ttotal: 275ms\tremaining: 335ms\n",
      "451:\tlearn: 0.0854327\ttotal: 275ms\tremaining: 334ms\n",
      "452:\tlearn: 0.0850195\ttotal: 276ms\tremaining: 333ms\n",
      "453:\tlearn: 0.0845993\ttotal: 276ms\tremaining: 332ms\n",
      "454:\tlearn: 0.0845050\ttotal: 277ms\tremaining: 332ms\n",
      "455:\tlearn: 0.0841097\ttotal: 277ms\tremaining: 331ms\n",
      "456:\tlearn: 0.0838172\ttotal: 278ms\tremaining: 330ms\n",
      "457:\tlearn: 0.0835291\ttotal: 278ms\tremaining: 329ms\n",
      "458:\tlearn: 0.0832478\ttotal: 279ms\tremaining: 329ms\n",
      "459:\tlearn: 0.0831560\ttotal: 279ms\tremaining: 328ms\n",
      "460:\tlearn: 0.0828136\ttotal: 280ms\tremaining: 327ms\n",
      "461:\tlearn: 0.0825293\ttotal: 280ms\tremaining: 326ms\n",
      "462:\tlearn: 0.0822504\ttotal: 281ms\tremaining: 326ms\n",
      "463:\tlearn: 0.0819145\ttotal: 281ms\tremaining: 325ms\n",
      "464:\tlearn: 0.0816406\ttotal: 282ms\tremaining: 324ms\n",
      "465:\tlearn: 0.0813669\ttotal: 282ms\tremaining: 323ms\n",
      "466:\tlearn: 0.0810981\ttotal: 282ms\tremaining: 322ms\n",
      "467:\tlearn: 0.0807689\ttotal: 283ms\tremaining: 321ms\n",
      "468:\tlearn: 0.0805049\ttotal: 283ms\tremaining: 320ms\n",
      "469:\tlearn: 0.0802458\ttotal: 283ms\tremaining: 320ms\n",
      "470:\tlearn: 0.0799229\ttotal: 284ms\tremaining: 319ms\n",
      "471:\tlearn: 0.0796686\ttotal: 284ms\tremaining: 318ms\n",
      "472:\tlearn: 0.0794207\ttotal: 285ms\tremaining: 317ms\n",
      "473:\tlearn: 0.0790517\ttotal: 285ms\tremaining: 316ms\n",
      "474:\tlearn: 0.0786914\ttotal: 285ms\tremaining: 316ms\n",
      "475:\tlearn: 0.0783394\ttotal: 286ms\tremaining: 315ms\n",
      "476:\tlearn: 0.0780140\ttotal: 286ms\tremaining: 314ms\n",
      "477:\tlearn: 0.0777175\ttotal: 287ms\tremaining: 313ms\n",
      "478:\tlearn: 0.0773875\ttotal: 287ms\tremaining: 312ms\n",
      "479:\tlearn: 0.0773029\ttotal: 288ms\tremaining: 312ms\n",
      "480:\tlearn: 0.0770362\ttotal: 289ms\tremaining: 312ms\n",
      "481:\tlearn: 0.0767493\ttotal: 289ms\tremaining: 311ms\n",
      "482:\tlearn: 0.0764850\ttotal: 290ms\tremaining: 310ms\n",
      "483:\tlearn: 0.0762553\ttotal: 290ms\tremaining: 309ms\n",
      "484:\tlearn: 0.0759272\ttotal: 291ms\tremaining: 309ms\n",
      "485:\tlearn: 0.0755033\ttotal: 291ms\tremaining: 308ms\n",
      "486:\tlearn: 0.0752518\ttotal: 292ms\tremaining: 307ms\n",
      "487:\tlearn: 0.0750063\ttotal: 292ms\tremaining: 306ms\n",
      "488:\tlearn: 0.0747014\ttotal: 293ms\tremaining: 306ms\n",
      "489:\tlearn: 0.0746112\ttotal: 293ms\tremaining: 305ms\n",
      "490:\tlearn: 0.0744681\ttotal: 293ms\tremaining: 304ms\n",
      "491:\tlearn: 0.0741450\ttotal: 294ms\tremaining: 303ms\n",
      "492:\tlearn: 0.0738498\ttotal: 294ms\tremaining: 302ms\n",
      "493:\tlearn: 0.0737630\ttotal: 295ms\tremaining: 302ms\n",
      "494:\tlearn: 0.0735222\ttotal: 295ms\tremaining: 301ms\n",
      "495:\tlearn: 0.0732865\ttotal: 296ms\tremaining: 300ms\n",
      "496:\tlearn: 0.0731487\ttotal: 296ms\tremaining: 300ms\n",
      "497:\tlearn: 0.0729313\ttotal: 296ms\tremaining: 299ms\n",
      "498:\tlearn: 0.0726194\ttotal: 297ms\tremaining: 298ms\n",
      "499:\tlearn: 0.0722777\ttotal: 298ms\tremaining: 298ms\n",
      "500:\tlearn: 0.0720531\ttotal: 298ms\tremaining: 297ms\n",
      "501:\tlearn: 0.0718208\ttotal: 299ms\tremaining: 296ms\n",
      "502:\tlearn: 0.0714671\ttotal: 299ms\tremaining: 295ms\n",
      "503:\tlearn: 0.0712390\ttotal: 300ms\tremaining: 295ms\n",
      "504:\tlearn: 0.0710152\ttotal: 300ms\tremaining: 294ms\n",
      "505:\tlearn: 0.0706214\ttotal: 301ms\tremaining: 294ms\n",
      "506:\tlearn: 0.0703317\ttotal: 301ms\tremaining: 293ms\n",
      "507:\tlearn: 0.0701147\ttotal: 302ms\tremaining: 292ms\n",
      "508:\tlearn: 0.0698865\ttotal: 302ms\tremaining: 292ms\n",
      "509:\tlearn: 0.0698081\ttotal: 303ms\tremaining: 291ms\n",
      "510:\tlearn: 0.0694262\ttotal: 303ms\tremaining: 290ms\n",
      "511:\tlearn: 0.0693084\ttotal: 304ms\tremaining: 289ms\n",
      "512:\tlearn: 0.0691701\ttotal: 304ms\tremaining: 289ms\n",
      "513:\tlearn: 0.0689242\ttotal: 305ms\tremaining: 288ms\n",
      "514:\tlearn: 0.0686938\ttotal: 305ms\tremaining: 287ms\n",
      "515:\tlearn: 0.0684817\ttotal: 306ms\tremaining: 287ms\n",
      "516:\tlearn: 0.0682762\ttotal: 306ms\tremaining: 286ms\n",
      "517:\tlearn: 0.0682066\ttotal: 307ms\tremaining: 285ms\n",
      "518:\tlearn: 0.0680932\ttotal: 307ms\tremaining: 285ms\n",
      "519:\tlearn: 0.0680300\ttotal: 308ms\tremaining: 284ms\n",
      "520:\tlearn: 0.0677885\ttotal: 308ms\tremaining: 283ms\n",
      "521:\tlearn: 0.0675881\ttotal: 308ms\tremaining: 282ms\n",
      "522:\tlearn: 0.0674164\ttotal: 309ms\tremaining: 282ms\n",
      "523:\tlearn: 0.0672065\ttotal: 309ms\tremaining: 281ms\n",
      "524:\tlearn: 0.0671338\ttotal: 310ms\tremaining: 280ms\n"
     ]
    },
    {
     "name": "stdout",
     "output_type": "stream",
     "text": [
      "525:\tlearn: 0.0669470\ttotal: 311ms\tremaining: 280ms\n",
      "526:\tlearn: 0.0668116\ttotal: 312ms\tremaining: 280ms\n",
      "527:\tlearn: 0.0666088\ttotal: 313ms\tremaining: 280ms\n",
      "528:\tlearn: 0.0663733\ttotal: 313ms\tremaining: 279ms\n",
      "529:\tlearn: 0.0662419\ttotal: 314ms\tremaining: 278ms\n",
      "530:\tlearn: 0.0660757\ttotal: 314ms\tremaining: 278ms\n",
      "531:\tlearn: 0.0658443\ttotal: 315ms\tremaining: 277ms\n",
      "532:\tlearn: 0.0656823\ttotal: 315ms\tremaining: 276ms\n",
      "533:\tlearn: 0.0655007\ttotal: 316ms\tremaining: 276ms\n",
      "534:\tlearn: 0.0652493\ttotal: 317ms\tremaining: 275ms\n",
      "535:\tlearn: 0.0651509\ttotal: 317ms\tremaining: 275ms\n",
      "536:\tlearn: 0.0649517\ttotal: 318ms\tremaining: 274ms\n",
      "537:\tlearn: 0.0648225\ttotal: 319ms\tremaining: 274ms\n",
      "538:\tlearn: 0.0646646\ttotal: 319ms\tremaining: 273ms\n",
      "539:\tlearn: 0.0644369\ttotal: 320ms\tremaining: 272ms\n",
      "540:\tlearn: 0.0642151\ttotal: 320ms\tremaining: 271ms\n",
      "541:\tlearn: 0.0640360\ttotal: 320ms\tremaining: 271ms\n",
      "542:\tlearn: 0.0638628\ttotal: 321ms\tremaining: 270ms\n",
      "543:\tlearn: 0.0636403\ttotal: 322ms\tremaining: 270ms\n",
      "544:\tlearn: 0.0634108\ttotal: 323ms\tremaining: 270ms\n",
      "545:\tlearn: 0.0633158\ttotal: 324ms\tremaining: 269ms\n",
      "546:\tlearn: 0.0631263\ttotal: 324ms\tremaining: 268ms\n",
      "547:\tlearn: 0.0628310\ttotal: 324ms\tremaining: 268ms\n",
      "548:\tlearn: 0.0626184\ttotal: 325ms\tremaining: 267ms\n",
      "549:\tlearn: 0.0624474\ttotal: 325ms\tremaining: 266ms\n",
      "550:\tlearn: 0.0622818\ttotal: 326ms\tremaining: 265ms\n",
      "551:\tlearn: 0.0621324\ttotal: 326ms\tremaining: 265ms\n",
      "552:\tlearn: 0.0619697\ttotal: 327ms\tremaining: 264ms\n",
      "553:\tlearn: 0.0618773\ttotal: 327ms\tremaining: 263ms\n",
      "554:\tlearn: 0.0616990\ttotal: 328ms\tremaining: 263ms\n",
      "555:\tlearn: 0.0615539\ttotal: 329ms\tremaining: 263ms\n",
      "556:\tlearn: 0.0613542\ttotal: 329ms\tremaining: 262ms\n",
      "557:\tlearn: 0.0612215\ttotal: 330ms\tremaining: 261ms\n",
      "558:\tlearn: 0.0610832\ttotal: 330ms\tremaining: 261ms\n",
      "559:\tlearn: 0.0608670\ttotal: 332ms\tremaining: 261ms\n",
      "560:\tlearn: 0.0606566\ttotal: 332ms\tremaining: 260ms\n",
      "561:\tlearn: 0.0604411\ttotal: 333ms\tremaining: 259ms\n",
      "562:\tlearn: 0.0601633\ttotal: 333ms\tremaining: 259ms\n",
      "563:\tlearn: 0.0600139\ttotal: 334ms\tremaining: 258ms\n",
      "564:\tlearn: 0.0598174\ttotal: 334ms\tremaining: 257ms\n",
      "565:\tlearn: 0.0596970\ttotal: 335ms\tremaining: 257ms\n",
      "566:\tlearn: 0.0595274\ttotal: 335ms\tremaining: 256ms\n",
      "567:\tlearn: 0.0593211\ttotal: 336ms\tremaining: 255ms\n",
      "568:\tlearn: 0.0590553\ttotal: 336ms\tremaining: 255ms\n",
      "569:\tlearn: 0.0589958\ttotal: 337ms\tremaining: 254ms\n",
      "570:\tlearn: 0.0588309\ttotal: 337ms\tremaining: 253ms\n",
      "571:\tlearn: 0.0586403\ttotal: 338ms\tremaining: 253ms\n",
      "572:\tlearn: 0.0583743\ttotal: 338ms\tremaining: 252ms\n",
      "573:\tlearn: 0.0582131\ttotal: 339ms\tremaining: 252ms\n",
      "574:\tlearn: 0.0581555\ttotal: 339ms\tremaining: 251ms\n",
      "575:\tlearn: 0.0580079\ttotal: 340ms\tremaining: 250ms\n",
      "576:\tlearn: 0.0578126\ttotal: 340ms\tremaining: 250ms\n",
      "577:\tlearn: 0.0575551\ttotal: 341ms\tremaining: 249ms\n",
      "578:\tlearn: 0.0574987\ttotal: 341ms\tremaining: 248ms\n",
      "579:\tlearn: 0.0573066\ttotal: 342ms\tremaining: 248ms\n",
      "580:\tlearn: 0.0572064\ttotal: 342ms\tremaining: 247ms\n",
      "581:\tlearn: 0.0571512\ttotal: 343ms\tremaining: 246ms\n",
      "582:\tlearn: 0.0569649\ttotal: 343ms\tremaining: 246ms\n",
      "583:\tlearn: 0.0569109\ttotal: 344ms\tremaining: 245ms\n",
      "584:\tlearn: 0.0567202\ttotal: 344ms\tremaining: 244ms\n",
      "585:\tlearn: 0.0565298\ttotal: 345ms\tremaining: 244ms\n",
      "586:\tlearn: 0.0563513\ttotal: 346ms\tremaining: 243ms\n",
      "587:\tlearn: 0.0560408\ttotal: 346ms\tremaining: 242ms\n",
      "588:\tlearn: 0.0558579\ttotal: 346ms\tremaining: 242ms\n",
      "589:\tlearn: 0.0556501\ttotal: 347ms\tremaining: 241ms\n",
      "590:\tlearn: 0.0554963\ttotal: 347ms\tremaining: 240ms\n",
      "591:\tlearn: 0.0553298\ttotal: 348ms\tremaining: 240ms\n",
      "592:\tlearn: 0.0552705\ttotal: 348ms\tremaining: 239ms\n",
      "593:\tlearn: 0.0551734\ttotal: 349ms\tremaining: 238ms\n",
      "594:\tlearn: 0.0551219\ttotal: 349ms\tremaining: 238ms\n",
      "595:\tlearn: 0.0549777\ttotal: 350ms\tremaining: 237ms\n",
      "596:\tlearn: 0.0549273\ttotal: 350ms\tremaining: 236ms\n",
      "597:\tlearn: 0.0548698\ttotal: 352ms\tremaining: 236ms\n",
      "598:\tlearn: 0.0547299\ttotal: 353ms\tremaining: 236ms\n",
      "599:\tlearn: 0.0546795\ttotal: 353ms\tremaining: 235ms\n",
      "600:\tlearn: 0.0546234\ttotal: 354ms\tremaining: 235ms\n",
      "601:\tlearn: 0.0545739\ttotal: 355ms\tremaining: 235ms\n",
      "602:\tlearn: 0.0544779\ttotal: 355ms\tremaining: 234ms\n",
      "603:\tlearn: 0.0544229\ttotal: 356ms\tremaining: 234ms\n",
      "604:\tlearn: 0.0543743\ttotal: 357ms\tremaining: 233ms\n",
      "605:\tlearn: 0.0543203\ttotal: 357ms\tremaining: 232ms\n",
      "606:\tlearn: 0.0541959\ttotal: 358ms\tremaining: 232ms\n",
      "607:\tlearn: 0.0541429\ttotal: 358ms\tremaining: 231ms\n",
      "608:\tlearn: 0.0540908\ttotal: 359ms\tremaining: 230ms\n",
      "609:\tlearn: 0.0539021\ttotal: 360ms\tremaining: 230ms\n",
      "610:\tlearn: 0.0537194\ttotal: 361ms\tremaining: 230ms\n",
      "611:\tlearn: 0.0534271\ttotal: 362ms\tremaining: 229ms\n",
      "612:\tlearn: 0.0532420\ttotal: 363ms\tremaining: 229ms\n",
      "613:\tlearn: 0.0530607\ttotal: 364ms\tremaining: 229ms\n",
      "614:\tlearn: 0.0528846\ttotal: 365ms\tremaining: 228ms\n",
      "615:\tlearn: 0.0528264\ttotal: 366ms\tremaining: 228ms\n",
      "616:\tlearn: 0.0526162\ttotal: 366ms\tremaining: 227ms\n",
      "617:\tlearn: 0.0525595\ttotal: 367ms\tremaining: 227ms\n",
      "618:\tlearn: 0.0524355\ttotal: 368ms\tremaining: 227ms\n",
      "619:\tlearn: 0.0522585\ttotal: 369ms\tremaining: 226ms\n",
      "620:\tlearn: 0.0520839\ttotal: 369ms\tremaining: 226ms\n",
      "621:\tlearn: 0.0518891\ttotal: 370ms\tremaining: 225ms\n",
      "622:\tlearn: 0.0516883\ttotal: 371ms\tremaining: 224ms\n",
      "623:\tlearn: 0.0514598\ttotal: 371ms\tremaining: 224ms\n",
      "624:\tlearn: 0.0513081\ttotal: 372ms\tremaining: 223ms\n",
      "625:\tlearn: 0.0510857\ttotal: 372ms\tremaining: 222ms\n",
      "626:\tlearn: 0.0508698\ttotal: 373ms\tremaining: 222ms\n",
      "627:\tlearn: 0.0506967\ttotal: 373ms\tremaining: 221ms\n",
      "628:\tlearn: 0.0504867\ttotal: 373ms\tremaining: 220ms\n",
      "629:\tlearn: 0.0504342\ttotal: 374ms\tremaining: 220ms\n",
      "630:\tlearn: 0.0503154\ttotal: 374ms\tremaining: 219ms\n",
      "631:\tlearn: 0.0501113\ttotal: 375ms\tremaining: 218ms\n",
      "632:\tlearn: 0.0500339\ttotal: 375ms\tremaining: 218ms\n",
      "633:\tlearn: 0.0499577\ttotal: 376ms\tremaining: 217ms\n",
      "634:\tlearn: 0.0497901\ttotal: 376ms\tremaining: 216ms\n",
      "635:\tlearn: 0.0495932\ttotal: 377ms\tremaining: 216ms\n",
      "636:\tlearn: 0.0495191\ttotal: 377ms\tremaining: 215ms\n",
      "637:\tlearn: 0.0494462\ttotal: 378ms\tremaining: 214ms\n",
      "638:\tlearn: 0.0493744\ttotal: 378ms\tremaining: 214ms\n",
      "639:\tlearn: 0.0493243\ttotal: 378ms\tremaining: 213ms\n",
      "640:\tlearn: 0.0491402\ttotal: 379ms\tremaining: 212ms\n",
      "641:\tlearn: 0.0490254\ttotal: 379ms\tremaining: 211ms\n",
      "642:\tlearn: 0.0488364\ttotal: 380ms\tremaining: 211ms\n",
      "643:\tlearn: 0.0487667\ttotal: 380ms\tremaining: 210ms\n",
      "644:\tlearn: 0.0486981\ttotal: 381ms\tremaining: 210ms\n",
      "645:\tlearn: 0.0486306\ttotal: 381ms\tremaining: 209ms\n",
      "646:\tlearn: 0.0484714\ttotal: 382ms\tremaining: 208ms\n",
      "647:\tlearn: 0.0484050\ttotal: 382ms\tremaining: 208ms\n",
      "648:\tlearn: 0.0482403\ttotal: 383ms\tremaining: 207ms\n",
      "649:\tlearn: 0.0481755\ttotal: 383ms\tremaining: 206ms\n",
      "650:\tlearn: 0.0481116\ttotal: 384ms\tremaining: 206ms\n",
      "651:\tlearn: 0.0479723\ttotal: 384ms\tremaining: 205ms\n",
      "652:\tlearn: 0.0477574\ttotal: 384ms\tremaining: 204ms\n",
      "653:\tlearn: 0.0476155\ttotal: 385ms\tremaining: 204ms\n",
      "654:\tlearn: 0.0475057\ttotal: 385ms\tremaining: 203ms\n",
      "655:\tlearn: 0.0473531\ttotal: 386ms\tremaining: 202ms\n",
      "656:\tlearn: 0.0472911\ttotal: 386ms\tremaining: 202ms\n",
      "657:\tlearn: 0.0471562\ttotal: 386ms\tremaining: 201ms\n",
      "658:\tlearn: 0.0470242\ttotal: 387ms\tremaining: 200ms\n",
      "659:\tlearn: 0.0468167\ttotal: 388ms\tremaining: 200ms\n",
      "660:\tlearn: 0.0466813\ttotal: 389ms\tremaining: 199ms\n",
      "661:\tlearn: 0.0465499\ttotal: 390ms\tremaining: 199ms\n",
      "662:\tlearn: 0.0465254\ttotal: 390ms\tremaining: 198ms\n",
      "663:\tlearn: 0.0463796\ttotal: 392ms\tremaining: 198ms\n",
      "664:\tlearn: 0.0463493\ttotal: 393ms\tremaining: 198ms\n",
      "665:\tlearn: 0.0462209\ttotal: 394ms\tremaining: 198ms\n",
      "666:\tlearn: 0.0460306\ttotal: 395ms\tremaining: 197ms\n",
      "667:\tlearn: 0.0459162\ttotal: 395ms\tremaining: 197ms\n",
      "668:\tlearn: 0.0457908\ttotal: 396ms\tremaining: 196ms\n",
      "669:\tlearn: 0.0456055\ttotal: 397ms\tremaining: 195ms\n",
      "670:\tlearn: 0.0455472\ttotal: 397ms\tremaining: 195ms\n",
      "671:\tlearn: 0.0454249\ttotal: 397ms\tremaining: 194ms\n",
      "672:\tlearn: 0.0452445\ttotal: 398ms\tremaining: 193ms\n",
      "673:\tlearn: 0.0452073\ttotal: 399ms\tremaining: 193ms\n",
      "674:\tlearn: 0.0450311\ttotal: 400ms\tremaining: 192ms\n",
      "675:\tlearn: 0.0449748\ttotal: 400ms\tremaining: 192ms\n",
      "676:\tlearn: 0.0448498\ttotal: 401ms\tremaining: 191ms\n",
      "677:\tlearn: 0.0446988\ttotal: 401ms\tremaining: 191ms\n",
      "678:\tlearn: 0.0446439\ttotal: 402ms\tremaining: 190ms\n",
      "679:\tlearn: 0.0445898\ttotal: 402ms\tremaining: 189ms\n",
      "680:\tlearn: 0.0444716\ttotal: 403ms\tremaining: 189ms\n",
      "681:\tlearn: 0.0442651\ttotal: 404ms\tremaining: 189ms\n",
      "682:\tlearn: 0.0441924\ttotal: 405ms\tremaining: 188ms\n",
      "683:\tlearn: 0.0441213\ttotal: 405ms\tremaining: 187ms\n",
      "684:\tlearn: 0.0439387\ttotal: 406ms\tremaining: 187ms\n",
      "685:\tlearn: 0.0438691\ttotal: 406ms\tremaining: 186ms\n",
      "686:\tlearn: 0.0438163\ttotal: 407ms\tremaining: 185ms\n"
     ]
    },
    {
     "name": "stdout",
     "output_type": "stream",
     "text": [
      "687:\tlearn: 0.0435291\ttotal: 407ms\tremaining: 185ms\n",
      "688:\tlearn: 0.0434389\ttotal: 408ms\tremaining: 184ms\n",
      "689:\tlearn: 0.0433705\ttotal: 409ms\tremaining: 184ms\n",
      "690:\tlearn: 0.0432819\ttotal: 409ms\tremaining: 183ms\n",
      "691:\tlearn: 0.0432298\ttotal: 410ms\tremaining: 182ms\n",
      "692:\tlearn: 0.0431344\ttotal: 410ms\tremaining: 182ms\n",
      "693:\tlearn: 0.0430834\ttotal: 411ms\tremaining: 181ms\n",
      "694:\tlearn: 0.0430332\ttotal: 411ms\tremaining: 181ms\n",
      "695:\tlearn: 0.0429577\ttotal: 412ms\tremaining: 180ms\n",
      "696:\tlearn: 0.0429081\ttotal: 412ms\tremaining: 179ms\n",
      "697:\tlearn: 0.0427736\ttotal: 413ms\tremaining: 179ms\n",
      "698:\tlearn: 0.0426992\ttotal: 413ms\tremaining: 178ms\n",
      "699:\tlearn: 0.0426504\ttotal: 414ms\tremaining: 177ms\n",
      "700:\tlearn: 0.0425028\ttotal: 414ms\tremaining: 177ms\n",
      "701:\tlearn: 0.0424160\ttotal: 415ms\tremaining: 176ms\n",
      "702:\tlearn: 0.0421404\ttotal: 415ms\tremaining: 175ms\n",
      "703:\tlearn: 0.0421037\ttotal: 416ms\tremaining: 175ms\n",
      "704:\tlearn: 0.0420678\ttotal: 416ms\tremaining: 174ms\n",
      "705:\tlearn: 0.0419251\ttotal: 416ms\tremaining: 173ms\n",
      "706:\tlearn: 0.0419032\ttotal: 417ms\tremaining: 173ms\n",
      "707:\tlearn: 0.0418815\ttotal: 418ms\tremaining: 172ms\n",
      "708:\tlearn: 0.0417801\ttotal: 418ms\tremaining: 172ms\n",
      "709:\tlearn: 0.0417586\ttotal: 419ms\tremaining: 171ms\n",
      "710:\tlearn: 0.0416496\ttotal: 419ms\tremaining: 170ms\n",
      "711:\tlearn: 0.0415650\ttotal: 419ms\tremaining: 170ms\n",
      "712:\tlearn: 0.0412987\ttotal: 420ms\tremaining: 169ms\n",
      "713:\tlearn: 0.0411924\ttotal: 421ms\tremaining: 169ms\n",
      "714:\tlearn: 0.0411371\ttotal: 421ms\tremaining: 168ms\n",
      "715:\tlearn: 0.0409264\ttotal: 422ms\tremaining: 167ms\n",
      "716:\tlearn: 0.0408226\ttotal: 422ms\tremaining: 167ms\n",
      "717:\tlearn: 0.0407405\ttotal: 423ms\tremaining: 166ms\n",
      "718:\tlearn: 0.0406430\ttotal: 423ms\tremaining: 165ms\n",
      "719:\tlearn: 0.0405628\ttotal: 424ms\tremaining: 165ms\n",
      "720:\tlearn: 0.0403792\ttotal: 424ms\tremaining: 164ms\n",
      "721:\tlearn: 0.0402777\ttotal: 425ms\tremaining: 163ms\n",
      "722:\tlearn: 0.0401865\ttotal: 425ms\tremaining: 163ms\n",
      "723:\tlearn: 0.0400970\ttotal: 425ms\tremaining: 162ms\n",
      "724:\tlearn: 0.0400179\ttotal: 426ms\tremaining: 162ms\n",
      "725:\tlearn: 0.0397687\ttotal: 426ms\tremaining: 161ms\n",
      "726:\tlearn: 0.0396814\ttotal: 427ms\tremaining: 160ms\n",
      "727:\tlearn: 0.0395056\ttotal: 427ms\tremaining: 160ms\n",
      "728:\tlearn: 0.0394198\ttotal: 428ms\tremaining: 159ms\n",
      "729:\tlearn: 0.0393356\ttotal: 428ms\tremaining: 158ms\n",
      "730:\tlearn: 0.0391947\ttotal: 429ms\tremaining: 158ms\n",
      "731:\tlearn: 0.0390871\ttotal: 429ms\tremaining: 157ms\n",
      "732:\tlearn: 0.0390053\ttotal: 430ms\tremaining: 156ms\n",
      "733:\tlearn: 0.0389221\ttotal: 430ms\tremaining: 156ms\n",
      "734:\tlearn: 0.0388699\ttotal: 430ms\tremaining: 155ms\n",
      "735:\tlearn: 0.0387041\ttotal: 431ms\tremaining: 155ms\n",
      "736:\tlearn: 0.0385999\ttotal: 432ms\tremaining: 154ms\n",
      "737:\tlearn: 0.0385686\ttotal: 432ms\tremaining: 153ms\n",
      "738:\tlearn: 0.0385174\ttotal: 432ms\tremaining: 153ms\n",
      "739:\tlearn: 0.0384192\ttotal: 433ms\tremaining: 152ms\n",
      "740:\tlearn: 0.0383445\ttotal: 433ms\tremaining: 151ms\n",
      "741:\tlearn: 0.0383137\ttotal: 434ms\tremaining: 151ms\n",
      "742:\tlearn: 0.0381504\ttotal: 434ms\tremaining: 150ms\n",
      "743:\tlearn: 0.0381002\ttotal: 435ms\tremaining: 150ms\n",
      "744:\tlearn: 0.0380700\ttotal: 435ms\tremaining: 149ms\n",
      "745:\tlearn: 0.0379958\ttotal: 436ms\tremaining: 148ms\n",
      "746:\tlearn: 0.0378266\ttotal: 436ms\tremaining: 148ms\n",
      "747:\tlearn: 0.0377778\ttotal: 437ms\tremaining: 147ms\n",
      "748:\tlearn: 0.0377471\ttotal: 437ms\tremaining: 147ms\n",
      "749:\tlearn: 0.0376753\ttotal: 439ms\tremaining: 146ms\n",
      "750:\tlearn: 0.0374450\ttotal: 439ms\tremaining: 146ms\n",
      "751:\tlearn: 0.0373744\ttotal: 440ms\tremaining: 145ms\n",
      "752:\tlearn: 0.0372441\ttotal: 440ms\tremaining: 144ms\n",
      "753:\tlearn: 0.0371648\ttotal: 440ms\tremaining: 144ms\n",
      "754:\tlearn: 0.0371359\ttotal: 441ms\tremaining: 143ms\n",
      "755:\tlearn: 0.0370089\ttotal: 441ms\tremaining: 142ms\n",
      "756:\tlearn: 0.0369131\ttotal: 442ms\tremaining: 142ms\n",
      "757:\tlearn: 0.0368836\ttotal: 442ms\tremaining: 141ms\n",
      "758:\tlearn: 0.0367847\ttotal: 442ms\tremaining: 140ms\n",
      "759:\tlearn: 0.0367568\ttotal: 443ms\tremaining: 140ms\n",
      "760:\tlearn: 0.0366330\ttotal: 443ms\tremaining: 139ms\n",
      "761:\tlearn: 0.0365577\ttotal: 444ms\tremaining: 139ms\n",
      "762:\tlearn: 0.0364210\ttotal: 444ms\tremaining: 138ms\n",
      "763:\tlearn: 0.0363260\ttotal: 445ms\tremaining: 137ms\n",
      "764:\tlearn: 0.0362783\ttotal: 445ms\tremaining: 137ms\n",
      "765:\tlearn: 0.0361427\ttotal: 446ms\tremaining: 136ms\n",
      "766:\tlearn: 0.0360472\ttotal: 446ms\tremaining: 136ms\n",
      "767:\tlearn: 0.0359424\ttotal: 447ms\tremaining: 135ms\n",
      "768:\tlearn: 0.0358094\ttotal: 447ms\tremaining: 134ms\n",
      "769:\tlearn: 0.0357066\ttotal: 448ms\tremaining: 134ms\n",
      "770:\tlearn: 0.0355564\ttotal: 448ms\tremaining: 133ms\n",
      "771:\tlearn: 0.0353910\ttotal: 449ms\tremaining: 132ms\n",
      "772:\tlearn: 0.0353456\ttotal: 449ms\tremaining: 132ms\n",
      "773:\tlearn: 0.0352726\ttotal: 449ms\tremaining: 131ms\n",
      "774:\tlearn: 0.0352279\ttotal: 450ms\tremaining: 131ms\n",
      "775:\tlearn: 0.0351408\ttotal: 450ms\tremaining: 130ms\n",
      "776:\tlearn: 0.0350548\ttotal: 451ms\tremaining: 129ms\n",
      "777:\tlearn: 0.0350112\ttotal: 451ms\tremaining: 129ms\n",
      "778:\tlearn: 0.0348516\ttotal: 452ms\tremaining: 128ms\n",
      "779:\tlearn: 0.0347722\ttotal: 452ms\tremaining: 128ms\n",
      "780:\tlearn: 0.0347069\ttotal: 453ms\tremaining: 127ms\n",
      "781:\tlearn: 0.0345604\ttotal: 453ms\tremaining: 126ms\n",
      "782:\tlearn: 0.0344359\ttotal: 454ms\tremaining: 126ms\n",
      "783:\tlearn: 0.0343492\ttotal: 454ms\tremaining: 125ms\n",
      "784:\tlearn: 0.0342081\ttotal: 454ms\tremaining: 124ms\n",
      "785:\tlearn: 0.0341237\ttotal: 456ms\tremaining: 124ms\n",
      "786:\tlearn: 0.0340537\ttotal: 457ms\tremaining: 124ms\n",
      "787:\tlearn: 0.0339426\ttotal: 457ms\tremaining: 123ms\n",
      "788:\tlearn: 0.0338597\ttotal: 457ms\tremaining: 122ms\n",
      "789:\tlearn: 0.0337243\ttotal: 458ms\tremaining: 122ms\n",
      "790:\tlearn: 0.0336435\ttotal: 459ms\tremaining: 121ms\n",
      "791:\tlearn: 0.0336018\ttotal: 460ms\tremaining: 121ms\n",
      "792:\tlearn: 0.0335641\ttotal: 461ms\tremaining: 120ms\n",
      "793:\tlearn: 0.0335231\ttotal: 462ms\tremaining: 120ms\n",
      "794:\tlearn: 0.0334441\ttotal: 463ms\tremaining: 119ms\n",
      "795:\tlearn: 0.0333362\ttotal: 463ms\tremaining: 119ms\n",
      "796:\tlearn: 0.0332586\ttotal: 464ms\tremaining: 118ms\n",
      "797:\tlearn: 0.0331532\ttotal: 465ms\tremaining: 118ms\n",
      "798:\tlearn: 0.0331251\ttotal: 465ms\tremaining: 117ms\n",
      "799:\tlearn: 0.0330489\ttotal: 466ms\tremaining: 116ms\n",
      "800:\tlearn: 0.0329209\ttotal: 466ms\tremaining: 116ms\n",
      "801:\tlearn: 0.0328093\ttotal: 467ms\tremaining: 115ms\n"
     ]
    },
    {
     "name": "stdout",
     "output_type": "stream",
     "text": [
      "802:\tlearn: 0.0327688\ttotal: 468ms\tremaining: 115ms\n",
      "803:\tlearn: 0.0327321\ttotal: 468ms\tremaining: 114ms\n",
      "804:\tlearn: 0.0326372\ttotal: 469ms\tremaining: 114ms\n",
      "805:\tlearn: 0.0326014\ttotal: 469ms\tremaining: 113ms\n",
      "806:\tlearn: 0.0325335\ttotal: 470ms\tremaining: 112ms\n",
      "807:\tlearn: 0.0324410\ttotal: 470ms\tremaining: 112ms\n",
      "808:\tlearn: 0.0323410\ttotal: 471ms\tremaining: 111ms\n",
      "809:\tlearn: 0.0323060\ttotal: 471ms\tremaining: 111ms\n",
      "810:\tlearn: 0.0322665\ttotal: 472ms\tremaining: 110ms\n",
      "811:\tlearn: 0.0321926\ttotal: 472ms\tremaining: 109ms\n",
      "812:\tlearn: 0.0320712\ttotal: 473ms\tremaining: 109ms\n",
      "813:\tlearn: 0.0319633\ttotal: 473ms\tremaining: 108ms\n",
      "814:\tlearn: 0.0319286\ttotal: 474ms\tremaining: 108ms\n",
      "815:\tlearn: 0.0318399\ttotal: 474ms\tremaining: 107ms\n",
      "816:\tlearn: 0.0318058\ttotal: 475ms\tremaining: 106ms\n",
      "817:\tlearn: 0.0317684\ttotal: 475ms\tremaining: 106ms\n",
      "818:\tlearn: 0.0317022\ttotal: 476ms\tremaining: 105ms\n",
      "819:\tlearn: 0.0316156\ttotal: 476ms\tremaining: 105ms\n",
      "820:\tlearn: 0.0315785\ttotal: 477ms\tremaining: 104ms\n",
      "821:\tlearn: 0.0315452\ttotal: 477ms\tremaining: 103ms\n",
      "822:\tlearn: 0.0314512\ttotal: 478ms\tremaining: 103ms\n",
      "823:\tlearn: 0.0314124\ttotal: 478ms\tremaining: 102ms\n",
      "824:\tlearn: 0.0313704\ttotal: 479ms\tremaining: 102ms\n",
      "825:\tlearn: 0.0312868\ttotal: 479ms\tremaining: 101ms\n",
      "826:\tlearn: 0.0312500\ttotal: 480ms\tremaining: 100ms\n",
      "827:\tlearn: 0.0312137\ttotal: 480ms\tremaining: 99.7ms\n",
      "828:\tlearn: 0.0311808\ttotal: 481ms\tremaining: 99.1ms\n",
      "829:\tlearn: 0.0311162\ttotal: 481ms\tremaining: 98.5ms\n",
      "830:\tlearn: 0.0310111\ttotal: 481ms\tremaining: 97.9ms\n",
      "831:\tlearn: 0.0309732\ttotal: 482ms\tremaining: 97.3ms\n",
      "832:\tlearn: 0.0309408\ttotal: 483ms\tremaining: 96.7ms\n",
      "833:\tlearn: 0.0308997\ttotal: 483ms\tremaining: 96.1ms\n",
      "834:\tlearn: 0.0308651\ttotal: 484ms\tremaining: 95.5ms\n",
      "835:\tlearn: 0.0307958\ttotal: 484ms\tremaining: 94.9ms\n",
      "836:\tlearn: 0.0307555\ttotal: 484ms\tremaining: 94.3ms\n",
      "837:\tlearn: 0.0306421\ttotal: 485ms\tremaining: 93.7ms\n",
      "838:\tlearn: 0.0306065\ttotal: 485ms\tremaining: 93.1ms\n",
      "839:\tlearn: 0.0305040\ttotal: 486ms\tremaining: 92.5ms\n",
      "840:\tlearn: 0.0304668\ttotal: 486ms\tremaining: 91.9ms\n",
      "841:\tlearn: 0.0303994\ttotal: 487ms\tremaining: 91.4ms\n",
      "842:\tlearn: 0.0303369\ttotal: 487ms\tremaining: 90.8ms\n",
      "843:\tlearn: 0.0303006\ttotal: 488ms\tremaining: 90.2ms\n",
      "844:\tlearn: 0.0302651\ttotal: 488ms\tremaining: 89.6ms\n",
      "845:\tlearn: 0.0302409\ttotal: 489ms\tremaining: 89.1ms\n",
      "846:\tlearn: 0.0301920\ttotal: 490ms\tremaining: 88.5ms\n",
      "847:\tlearn: 0.0301570\ttotal: 490ms\tremaining: 87.9ms\n",
      "848:\tlearn: 0.0301253\ttotal: 491ms\tremaining: 87.3ms\n",
      "849:\tlearn: 0.0300907\ttotal: 491ms\tremaining: 86.7ms\n",
      "850:\tlearn: 0.0300243\ttotal: 492ms\tremaining: 86.1ms\n",
      "851:\tlearn: 0.0299635\ttotal: 492ms\tremaining: 85.5ms\n",
      "852:\tlearn: 0.0299279\ttotal: 493ms\tremaining: 84.9ms\n",
      "853:\tlearn: 0.0298936\ttotal: 493ms\tremaining: 84.3ms\n",
      "854:\tlearn: 0.0298703\ttotal: 494ms\tremaining: 83.7ms\n",
      "855:\tlearn: 0.0298364\ttotal: 494ms\tremaining: 83.1ms\n",
      "856:\tlearn: 0.0297377\ttotal: 495ms\tremaining: 82.5ms\n",
      "857:\tlearn: 0.0296726\ttotal: 495ms\tremaining: 81.9ms\n",
      "858:\tlearn: 0.0296133\ttotal: 496ms\tremaining: 81.3ms\n",
      "859:\tlearn: 0.0295785\ttotal: 496ms\tremaining: 80.7ms\n",
      "860:\tlearn: 0.0295557\ttotal: 496ms\tremaining: 80.2ms\n",
      "861:\tlearn: 0.0294919\ttotal: 497ms\tremaining: 79.6ms\n",
      "862:\tlearn: 0.0294340\ttotal: 497ms\tremaining: 79ms\n",
      "863:\tlearn: 0.0293714\ttotal: 498ms\tremaining: 78.3ms\n",
      "864:\tlearn: 0.0293375\ttotal: 498ms\tremaining: 77.8ms\n",
      "865:\tlearn: 0.0293152\ttotal: 499ms\tremaining: 77.2ms\n",
      "866:\tlearn: 0.0291884\ttotal: 499ms\tremaining: 76.6ms\n",
      "867:\tlearn: 0.0291137\ttotal: 500ms\tremaining: 76ms\n",
      "868:\tlearn: 0.0290922\ttotal: 500ms\tremaining: 75.4ms\n",
      "869:\tlearn: 0.0289896\ttotal: 501ms\tremaining: 74.8ms\n",
      "870:\tlearn: 0.0289284\ttotal: 501ms\tremaining: 74.2ms\n",
      "871:\tlearn: 0.0288788\ttotal: 501ms\tremaining: 73.6ms\n",
      "872:\tlearn: 0.0288471\ttotal: 502ms\tremaining: 73ms\n",
      "873:\tlearn: 0.0287874\ttotal: 502ms\tremaining: 72.4ms\n",
      "874:\tlearn: 0.0287506\ttotal: 503ms\tremaining: 71.8ms\n",
      "875:\tlearn: 0.0287024\ttotal: 503ms\tremaining: 71.2ms\n",
      "876:\tlearn: 0.0286439\ttotal: 504ms\tremaining: 70.6ms\n",
      "877:\tlearn: 0.0286128\ttotal: 504ms\tremaining: 70.1ms\n",
      "878:\tlearn: 0.0284917\ttotal: 505ms\tremaining: 69.5ms\n",
      "879:\tlearn: 0.0284558\ttotal: 505ms\tremaining: 68.9ms\n",
      "880:\tlearn: 0.0283674\ttotal: 506ms\tremaining: 68.3ms\n",
      "881:\tlearn: 0.0282692\ttotal: 506ms\tremaining: 67.7ms\n",
      "882:\tlearn: 0.0281526\ttotal: 507ms\tremaining: 67.2ms\n",
      "883:\tlearn: 0.0281177\ttotal: 507ms\tremaining: 66.5ms\n",
      "884:\tlearn: 0.0280319\ttotal: 508ms\tremaining: 66ms\n",
      "885:\tlearn: 0.0279375\ttotal: 508ms\tremaining: 65.4ms\n",
      "886:\tlearn: 0.0278168\ttotal: 509ms\tremaining: 64.8ms\n",
      "887:\tlearn: 0.0277308\ttotal: 509ms\tremaining: 64.2ms\n",
      "888:\tlearn: 0.0276479\ttotal: 510ms\tremaining: 63.6ms\n",
      "889:\tlearn: 0.0275831\ttotal: 510ms\tremaining: 63.1ms\n",
      "890:\tlearn: 0.0275200\ttotal: 511ms\tremaining: 62.5ms\n",
      "891:\tlearn: 0.0274291\ttotal: 511ms\tremaining: 61.9ms\n",
      "892:\tlearn: 0.0273993\ttotal: 512ms\tremaining: 61.3ms\n",
      "893:\tlearn: 0.0273655\ttotal: 512ms\tremaining: 60.7ms\n",
      "894:\tlearn: 0.0273324\ttotal: 513ms\tremaining: 60.1ms\n",
      "895:\tlearn: 0.0272169\ttotal: 513ms\tremaining: 59.5ms\n",
      "896:\tlearn: 0.0271562\ttotal: 513ms\tremaining: 59ms\n",
      "897:\tlearn: 0.0271122\ttotal: 514ms\tremaining: 58.4ms\n",
      "898:\tlearn: 0.0270104\ttotal: 514ms\tremaining: 57.8ms\n",
      "899:\tlearn: 0.0269786\ttotal: 515ms\tremaining: 57.2ms\n",
      "900:\tlearn: 0.0269474\ttotal: 515ms\tremaining: 56.6ms\n",
      "901:\tlearn: 0.0268359\ttotal: 516ms\tremaining: 56ms\n",
      "902:\tlearn: 0.0268054\ttotal: 516ms\tremaining: 55.4ms\n",
      "903:\tlearn: 0.0267693\ttotal: 517ms\tremaining: 54.9ms\n",
      "904:\tlearn: 0.0266945\ttotal: 517ms\tremaining: 54.3ms\n",
      "905:\tlearn: 0.0266361\ttotal: 518ms\tremaining: 53.7ms\n",
      "906:\tlearn: 0.0266066\ttotal: 518ms\tremaining: 53.1ms\n",
      "907:\tlearn: 0.0265778\ttotal: 519ms\tremaining: 52.6ms\n",
      "908:\tlearn: 0.0264994\ttotal: 519ms\tremaining: 52ms\n",
      "909:\tlearn: 0.0263425\ttotal: 520ms\tremaining: 51.4ms\n",
      "910:\tlearn: 0.0262640\ttotal: 520ms\tremaining: 50.8ms\n",
      "911:\tlearn: 0.0261619\ttotal: 521ms\tremaining: 50.3ms\n",
      "912:\tlearn: 0.0261044\ttotal: 521ms\tremaining: 49.7ms\n",
      "913:\tlearn: 0.0260761\ttotal: 522ms\tremaining: 49.1ms\n",
      "914:\tlearn: 0.0260332\ttotal: 522ms\tremaining: 48.5ms\n",
      "915:\tlearn: 0.0259432\ttotal: 523ms\tremaining: 47.9ms\n",
      "916:\tlearn: 0.0259014\ttotal: 523ms\tremaining: 47.4ms\n",
      "917:\tlearn: 0.0258719\ttotal: 524ms\tremaining: 46.8ms\n",
      "918:\tlearn: 0.0257979\ttotal: 525ms\tremaining: 46.2ms\n",
      "919:\tlearn: 0.0257221\ttotal: 525ms\tremaining: 45.7ms\n",
      "920:\tlearn: 0.0256316\ttotal: 525ms\tremaining: 45.1ms\n",
      "921:\tlearn: 0.0255604\ttotal: 526ms\tremaining: 44.5ms\n",
      "922:\tlearn: 0.0255064\ttotal: 526ms\tremaining: 43.9ms\n",
      "923:\tlearn: 0.0254778\ttotal: 527ms\tremaining: 43.3ms\n",
      "924:\tlearn: 0.0254194\ttotal: 527ms\tremaining: 42.8ms\n",
      "925:\tlearn: 0.0253665\ttotal: 528ms\tremaining: 42.2ms\n",
      "926:\tlearn: 0.0252938\ttotal: 528ms\tremaining: 41.6ms\n",
      "927:\tlearn: 0.0252397\ttotal: 529ms\tremaining: 41ms\n",
      "928:\tlearn: 0.0251683\ttotal: 529ms\tremaining: 40.5ms\n",
      "929:\tlearn: 0.0250919\ttotal: 530ms\tremaining: 39.9ms\n",
      "930:\tlearn: 0.0250217\ttotal: 530ms\tremaining: 39.3ms\n",
      "931:\tlearn: 0.0249468\ttotal: 531ms\tremaining: 38.7ms\n",
      "932:\tlearn: 0.0248982\ttotal: 531ms\tremaining: 38.1ms\n",
      "933:\tlearn: 0.0248504\ttotal: 532ms\tremaining: 37.6ms\n",
      "934:\tlearn: 0.0247770\ttotal: 532ms\tremaining: 37ms\n",
      "935:\tlearn: 0.0247299\ttotal: 533ms\tremaining: 36.4ms\n",
      "936:\tlearn: 0.0247040\ttotal: 533ms\tremaining: 35.8ms\n",
      "937:\tlearn: 0.0246784\ttotal: 534ms\tremaining: 35.3ms\n",
      "938:\tlearn: 0.0246095\ttotal: 534ms\tremaining: 34.7ms\n",
      "939:\tlearn: 0.0245378\ttotal: 534ms\tremaining: 34.1ms\n",
      "940:\tlearn: 0.0244916\ttotal: 535ms\tremaining: 33.5ms\n",
      "941:\tlearn: 0.0244461\ttotal: 535ms\tremaining: 33ms\n",
      "942:\tlearn: 0.0243759\ttotal: 536ms\tremaining: 32.4ms\n",
      "943:\tlearn: 0.0243310\ttotal: 536ms\tremaining: 31.8ms\n",
      "944:\tlearn: 0.0243038\ttotal: 537ms\tremaining: 31.2ms\n",
      "945:\tlearn: 0.0242793\ttotal: 537ms\tremaining: 30.7ms\n",
      "946:\tlearn: 0.0242118\ttotal: 538ms\tremaining: 30.1ms\n",
      "947:\tlearn: 0.0241431\ttotal: 538ms\tremaining: 29.5ms\n",
      "948:\tlearn: 0.0241023\ttotal: 538ms\tremaining: 28.9ms\n",
      "949:\tlearn: 0.0240621\ttotal: 539ms\tremaining: 28.4ms\n",
      "950:\tlearn: 0.0239962\ttotal: 539ms\tremaining: 27.8ms\n",
      "951:\tlearn: 0.0239286\ttotal: 540ms\tremaining: 27.2ms\n",
      "952:\tlearn: 0.0238852\ttotal: 540ms\tremaining: 26.6ms\n",
      "953:\tlearn: 0.0238461\ttotal: 541ms\tremaining: 26.1ms\n",
      "954:\tlearn: 0.0237798\ttotal: 541ms\tremaining: 25.5ms\n",
      "955:\tlearn: 0.0237156\ttotal: 542ms\tremaining: 24.9ms\n",
      "956:\tlearn: 0.0236510\ttotal: 542ms\tremaining: 24.4ms\n",
      "957:\tlearn: 0.0235875\ttotal: 543ms\tremaining: 23.8ms\n",
      "958:\tlearn: 0.0235251\ttotal: 543ms\tremaining: 23.2ms\n",
      "959:\tlearn: 0.0234519\ttotal: 544ms\tremaining: 22.7ms\n",
      "960:\tlearn: 0.0234097\ttotal: 544ms\tremaining: 22.1ms\n",
      "961:\tlearn: 0.0233376\ttotal: 545ms\tremaining: 21.5ms\n",
      "962:\tlearn: 0.0232761\ttotal: 545ms\tremaining: 21ms\n",
      "963:\tlearn: 0.0232052\ttotal: 546ms\tremaining: 20.4ms\n",
      "964:\tlearn: 0.0231442\ttotal: 546ms\tremaining: 19.8ms\n",
      "965:\tlearn: 0.0230847\ttotal: 547ms\tremaining: 19.2ms\n",
      "966:\tlearn: 0.0230245\ttotal: 547ms\tremaining: 18.7ms\n",
      "967:\tlearn: 0.0229665\ttotal: 548ms\tremaining: 18.1ms\n",
      "968:\tlearn: 0.0228842\ttotal: 548ms\tremaining: 17.5ms\n",
      "969:\tlearn: 0.0228251\ttotal: 548ms\tremaining: 17ms\n",
      "970:\tlearn: 0.0227451\ttotal: 549ms\tremaining: 16.4ms\n",
      "971:\tlearn: 0.0226888\ttotal: 549ms\tremaining: 15.8ms\n",
      "972:\tlearn: 0.0226113\ttotal: 550ms\tremaining: 15.3ms\n",
      "973:\tlearn: 0.0225531\ttotal: 550ms\tremaining: 14.7ms\n",
      "974:\tlearn: 0.0224992\ttotal: 551ms\tremaining: 14.1ms\n",
      "975:\tlearn: 0.0224311\ttotal: 552ms\tremaining: 13.6ms\n",
      "976:\tlearn: 0.0223761\ttotal: 552ms\tremaining: 13ms\n",
      "977:\tlearn: 0.0223225\ttotal: 552ms\tremaining: 12.4ms\n",
      "978:\tlearn: 0.0222912\ttotal: 553ms\tremaining: 11.9ms\n",
      "979:\tlearn: 0.0222341\ttotal: 553ms\tremaining: 11.3ms\n",
      "980:\tlearn: 0.0221101\ttotal: 554ms\tremaining: 10.7ms\n",
      "981:\tlearn: 0.0220576\ttotal: 554ms\tremaining: 10.2ms\n",
      "982:\tlearn: 0.0220062\ttotal: 555ms\tremaining: 9.59ms\n",
      "983:\tlearn: 0.0219558\ttotal: 555ms\tremaining: 9.03ms\n",
      "984:\tlearn: 0.0218939\ttotal: 556ms\tremaining: 8.46ms\n",
      "985:\tlearn: 0.0218448\ttotal: 556ms\tremaining: 7.89ms\n",
      "986:\tlearn: 0.0217893\ttotal: 557ms\tremaining: 7.33ms\n",
      "987:\tlearn: 0.0217413\ttotal: 557ms\tremaining: 6.76ms\n",
      "988:\tlearn: 0.0216789\ttotal: 558ms\tremaining: 6.2ms\n",
      "989:\tlearn: 0.0216267\ttotal: 558ms\tremaining: 5.64ms\n",
      "990:\tlearn: 0.0215721\ttotal: 559ms\tremaining: 5.07ms\n",
      "991:\tlearn: 0.0215319\ttotal: 559ms\tremaining: 4.51ms\n",
      "992:\tlearn: 0.0214850\ttotal: 560ms\tremaining: 3.94ms\n",
      "993:\tlearn: 0.0214315\ttotal: 560ms\tremaining: 3.38ms\n",
      "994:\tlearn: 0.0213856\ttotal: 561ms\tremaining: 2.82ms\n",
      "995:\tlearn: 0.0213408\ttotal: 561ms\tremaining: 2.25ms\n",
      "996:\tlearn: 0.0212980\ttotal: 562ms\tremaining: 1.69ms\n",
      "997:\tlearn: 0.0212454\ttotal: 562ms\tremaining: 1.13ms\n",
      "998:\tlearn: 0.0211826\ttotal: 563ms\tremaining: 563us\n",
      "999:\tlearn: 0.0211431\ttotal: 563ms\tremaining: 0us\n"
     ]
    },
    {
     "name": "stdout",
     "output_type": "stream",
     "text": [
      "Mean Absolute error 0.28192617801619846\n"
     ]
    },
    {
     "data": {
      "application/scrapbook.scrap.json+json": {
       "data": 0.28192617801619846,
       "encoder": "json",
       "name": "Catboost MAE",
       "version": 1
      }
     },
     "metadata": {
      "scrapbook": {
       "data": true,
       "display": false,
       "name": "Catboost MAE"
      }
     },
     "output_type": "display_data"
    }
   ],
   "source": [
    "mae_cb = baselineModels.catboost(X_train,y_train,X_test,y_test)\n",
    "#Store MSE Value\n",
    "sb.glue(\"Catboost MAE\",mae_cb)"
   ]
  },
  {
   "cell_type": "markdown",
   "id": "3fd4c6bd",
   "metadata": {
    "papermill": {
     "duration": 0.016507,
     "end_time": "2022-06-22T10:48:05.836278",
     "exception": false,
     "start_time": "2022-06-22T10:48:05.819771",
     "status": "completed"
    },
    "tags": []
   },
   "source": [
    "# TabNet regressor"
   ]
  },
  {
   "cell_type": "code",
   "execution_count": 7,
   "id": "8289908a",
   "metadata": {
    "execution": {
     "iopub.execute_input": "2022-06-22T10:48:05.876573Z",
     "iopub.status.busy": "2022-06-22T10:48:05.875543Z",
     "iopub.status.idle": "2022-06-22T10:48:05.877813Z",
     "shell.execute_reply": "2022-06-22T10:48:05.878571Z"
    },
    "papermill": {
     "duration": 0.02668,
     "end_time": "2022-06-22T10:48:05.878798",
     "exception": false,
     "start_time": "2022-06-22T10:48:05.852118",
     "status": "completed"
    },
    "tags": []
   },
   "outputs": [],
   "source": [
    "n_epochs = 1000\n",
    "batch_size = 32"
   ]
  },
  {
   "cell_type": "code",
   "execution_count": 8,
   "id": "2a34e1cd",
   "metadata": {
    "execution": {
     "iopub.execute_input": "2022-06-22T10:48:05.917236Z",
     "iopub.status.busy": "2022-06-22T10:48:05.916183Z",
     "iopub.status.idle": "2022-06-22T10:48:23.203098Z",
     "shell.execute_reply": "2022-06-22T10:48:23.203568Z"
    },
    "papermill": {
     "duration": 17.307795,
     "end_time": "2022-06-22T10:48:23.203827",
     "exception": false,
     "start_time": "2022-06-22T10:48:05.896032",
     "status": "completed"
    },
    "tags": []
   },
   "outputs": [
    {
     "name": "stdout",
     "output_type": "stream",
     "text": [
      "(80,)\n",
      "Device used : cpu\n"
     ]
    },
    {
     "name": "stdout",
     "output_type": "stream",
     "text": [
      "epoch 0  | loss: 0.73815 | train_mse: 6.93145 | train_mae: 2.15441 |  0:00:00s\n",
      "epoch 1  | loss: 0.71381 | train_mse: 7.82219 | train_mae: 2.22266 |  0:00:00s\n",
      "epoch 2  | loss: 0.60429 | train_mse: 6.9475  | train_mae: 2.08292 |  0:00:00s\n"
     ]
    },
    {
     "name": "stdout",
     "output_type": "stream",
     "text": [
      "epoch 3  | loss: 0.33529 | train_mse: 5.66691 | train_mae: 1.87681 |  0:00:00s\n",
      "epoch 4  | loss: 0.35778 | train_mse: 5.26029 | train_mae: 1.75889 |  0:00:01s\n",
      "epoch 5  | loss: 0.33055 | train_mse: 5.00409 | train_mae: 1.69659 |  0:00:01s\n"
     ]
    },
    {
     "name": "stdout",
     "output_type": "stream",
     "text": [
      "epoch 6  | loss: 0.30852 | train_mse: 5.40015 | train_mae: 1.75838 |  0:00:01s\n",
      "epoch 7  | loss: 0.27959 | train_mse: 4.25528 | train_mae: 1.54101 |  0:00:01s\n"
     ]
    },
    {
     "name": "stdout",
     "output_type": "stream",
     "text": [
      "epoch 8  | loss: 0.25625 | train_mse: 4.03084 | train_mae: 1.4549  |  0:00:01s\n",
      "epoch 9  | loss: 0.18363 | train_mse: 3.82743 | train_mae: 1.34356 |  0:00:01s\n"
     ]
    },
    {
     "name": "stdout",
     "output_type": "stream",
     "text": [
      "epoch 10 | loss: 0.23305 | train_mse: 2.80241 | train_mae: 1.14132 |  0:00:01s\n",
      "epoch 11 | loss: 0.14736 | train_mse: 0.59919 | train_mae: 0.62427 |  0:00:01s\n",
      "epoch 12 | loss: 0.39129 | train_mse: 0.38256 | train_mae: 0.48645 |  0:00:01s\n"
     ]
    },
    {
     "name": "stdout",
     "output_type": "stream",
     "text": [
      "epoch 13 | loss: 0.24133 | train_mse: 0.3259  | train_mae: 0.44585 |  0:00:02s\n"
     ]
    },
    {
     "name": "stdout",
     "output_type": "stream",
     "text": [
      "epoch 14 | loss: 0.21382 | train_mse: 0.36303 | train_mae: 0.45966 |  0:00:02s\n",
      "epoch 15 | loss: 0.16981 | train_mse: 0.52389 | train_mae: 0.53566 |  0:00:02s\n",
      "epoch 16 | loss: 0.16598 | train_mse: 0.84977 | train_mae: 0.68821 |  0:00:02s\n"
     ]
    },
    {
     "name": "stdout",
     "output_type": "stream",
     "text": [
      "epoch 17 | loss: 0.16673 | train_mse: 0.80761 | train_mae: 0.69296 |  0:00:02s\n",
      "epoch 18 | loss: 0.21297 | train_mse: 0.57564 | train_mae: 0.58064 |  0:00:02s\n"
     ]
    },
    {
     "name": "stdout",
     "output_type": "stream",
     "text": [
      "epoch 19 | loss: 0.29921 | train_mse: 0.44805 | train_mae: 0.50866 |  0:00:02s\n",
      "epoch 20 | loss: 0.2601  | train_mse: 0.41144 | train_mae: 0.49274 |  0:00:02s\n"
     ]
    },
    {
     "name": "stdout",
     "output_type": "stream",
     "text": [
      "epoch 21 | loss: 0.13937 | train_mse: 0.49933 | train_mae: 0.54266 |  0:00:02s\n"
     ]
    },
    {
     "name": "stdout",
     "output_type": "stream",
     "text": [
      "epoch 22 | loss: 0.16003 | train_mse: 0.44604 | train_mae: 0.50021 |  0:00:03s\n",
      "epoch 23 | loss: 0.1939  | train_mse: 0.32755 | train_mae: 0.44697 |  0:00:03s\n"
     ]
    },
    {
     "name": "stdout",
     "output_type": "stream",
     "text": [
      "epoch 24 | loss: 0.15092 | train_mse: 0.24602 | train_mae: 0.37972 |  0:00:03s\n"
     ]
    },
    {
     "name": "stdout",
     "output_type": "stream",
     "text": [
      "epoch 25 | loss: 0.26588 | train_mse: 0.15279 | train_mae: 0.30094 |  0:00:03s\n"
     ]
    },
    {
     "name": "stdout",
     "output_type": "stream",
     "text": [
      "epoch 26 | loss: 0.3263  | train_mse: 0.15798 | train_mae: 0.31512 |  0:00:04s\n"
     ]
    },
    {
     "name": "stdout",
     "output_type": "stream",
     "text": [
      "epoch 27 | loss: 0.2237  | train_mse: 0.17534 | train_mae: 0.33528 |  0:00:04s\n"
     ]
    },
    {
     "name": "stdout",
     "output_type": "stream",
     "text": [
      "epoch 28 | loss: 0.21443 | train_mse: 0.22064 | train_mae: 0.37683 |  0:00:04s\n",
      "epoch 29 | loss: 0.21293 | train_mse: 0.12707 | train_mae: 0.27365 |  0:00:04s\n"
     ]
    },
    {
     "name": "stdout",
     "output_type": "stream",
     "text": [
      "epoch 30 | loss: 0.14659 | train_mse: 0.14468 | train_mae: 0.28903 |  0:00:04s\n",
      "epoch 31 | loss: 0.18442 | train_mse: 0.13413 | train_mae: 0.27477 |  0:00:05s\n",
      "epoch 32 | loss: 0.13673 | train_mse: 0.18559 | train_mae: 0.33928 |  0:00:05s"
     ]
    },
    {
     "name": "stdout",
     "output_type": "stream",
     "text": [
      "\n",
      "epoch 33 | loss: 0.14878 | train_mse: 0.2308  | train_mae: 0.37181 |  0:00:05s\n"
     ]
    },
    {
     "name": "stdout",
     "output_type": "stream",
     "text": [
      "epoch 34 | loss: 0.12571 | train_mse: 0.17061 | train_mae: 0.32951 |  0:00:05s\n",
      "epoch 35 | loss: 0.15602 | train_mse: 0.10879 | train_mae: 0.27024 |  0:00:05s\n"
     ]
    },
    {
     "name": "stdout",
     "output_type": "stream",
     "text": [
      "epoch 36 | loss: 0.17226 | train_mse: 0.11016 | train_mae: 0.26168 |  0:00:05s\n",
      "epoch 37 | loss: 0.15362 | train_mse: 0.12605 | train_mae: 0.27423 |  0:00:05s\n",
      "epoch 38 | loss: 0.18676 | train_mse: 0.1064  | train_mae: 0.25602 |  0:00:05s\n"
     ]
    },
    {
     "name": "stdout",
     "output_type": "stream",
     "text": [
      "epoch 39 | loss: 0.22007 | train_mse: 0.11471 | train_mae: 0.27545 |  0:00:05s\n",
      "epoch 40 | loss: 0.09163 | train_mse: 0.10035 | train_mae: 0.25976 |  0:00:05s\n",
      "epoch 41 | loss: 0.15048 | train_mse: 0.09351 | train_mae: 0.24495 |  0:00:05s\n"
     ]
    },
    {
     "name": "stdout",
     "output_type": "stream",
     "text": [
      "epoch 42 | loss: 0.26352 | train_mse: 0.12864 | train_mae: 0.27462 |  0:00:06s\n",
      "epoch 43 | loss: 0.16827 | train_mse: 0.12524 | train_mae: 0.27712 |  0:00:06s\n",
      "epoch 44 | loss: 0.18776 | train_mse: 0.13915 | train_mae: 0.28912 |  0:00:06s\n"
     ]
    },
    {
     "name": "stdout",
     "output_type": "stream",
     "text": [
      "epoch 45 | loss: 0.13987 | train_mse: 0.15233 | train_mae: 0.30435 |  0:00:06s\n",
      "epoch 46 | loss: 0.17576 | train_mse: 0.14737 | train_mae: 0.29461 |  0:00:06s\n",
      "epoch 47 | loss: 0.21117 | train_mse: 0.10767 | train_mae: 0.25915 |  0:00:06s\n",
      "epoch 48 | loss: 0.21625 | train_mse: 0.11364 | train_mae: 0.27175 |  0:00:06s\n"
     ]
    },
    {
     "name": "stdout",
     "output_type": "stream",
     "text": [
      "epoch 49 | loss: 0.10158 | train_mse: 0.09935 | train_mae: 0.26224 |  0:00:06s\n",
      "epoch 50 | loss: 0.11604 | train_mse: 0.10491 | train_mae: 0.27276 |  0:00:06s\n",
      "epoch 51 | loss: 0.16785 | train_mse: 0.11657 | train_mae: 0.28307 |  0:00:06s\n"
     ]
    },
    {
     "name": "stdout",
     "output_type": "stream",
     "text": [
      "epoch 52 | loss: 0.16206 | train_mse: 0.11055 | train_mae: 0.26312 |  0:00:06s\n",
      "epoch 53 | loss: 0.11675 | train_mse: 0.09178 | train_mae: 0.24067 |  0:00:06s\n",
      "epoch 54 | loss: 0.10647 | train_mse: 0.09927 | train_mae: 0.25213 |  0:00:06s\n",
      "epoch 55 | loss: 0.18235 | train_mse: 0.11094 | train_mae: 0.25768 |  0:00:06s\n"
     ]
    },
    {
     "name": "stdout",
     "output_type": "stream",
     "text": [
      "epoch 56 | loss: 0.14048 | train_mse: 0.11427 | train_mae: 0.2556  |  0:00:06s\n",
      "epoch 57 | loss: 0.15123 | train_mse: 0.10566 | train_mae: 0.23932 |  0:00:07s\n",
      "epoch 58 | loss: 0.1092  | train_mse: 0.08972 | train_mae: 0.22556 |  0:00:07s\n"
     ]
    },
    {
     "name": "stdout",
     "output_type": "stream",
     "text": [
      "epoch 59 | loss: 0.14512 | train_mse: 0.08693 | train_mae: 0.22814 |  0:00:07s\n",
      "epoch 60 | loss: 0.1633  | train_mse: 0.07152 | train_mae: 0.2042  |  0:00:07s\n",
      "epoch 61 | loss: 0.09254 | train_mse: 0.07143 | train_mae: 0.21168 |  0:00:07s\n"
     ]
    },
    {
     "name": "stdout",
     "output_type": "stream",
     "text": [
      "epoch 62 | loss: 0.09484 | train_mse: 0.07457 | train_mae: 0.21853 |  0:00:07s\n",
      "epoch 63 | loss: 0.09843 | train_mse: 0.09302 | train_mae: 0.23761 |  0:00:07s\n",
      "epoch 64 | loss: 0.12989 | train_mse: 0.09353 | train_mae: 0.23872 |  0:00:07s\n"
     ]
    },
    {
     "name": "stdout",
     "output_type": "stream",
     "text": [
      "epoch 65 | loss: 0.14284 | train_mse: 0.07959 | train_mae: 0.23475 |  0:00:07s\n",
      "epoch 66 | loss: 0.12927 | train_mse: 0.09507 | train_mae: 0.25559 |  0:00:07s\n",
      "epoch 67 | loss: 0.10762 | train_mse: 0.08597 | train_mae: 0.23993 |  0:00:07s\n",
      "epoch 68 | loss: 0.14894 | train_mse: 0.0655  | train_mae: 0.20724 |  0:00:07s\n"
     ]
    },
    {
     "name": "stdout",
     "output_type": "stream",
     "text": [
      "epoch 69 | loss: 0.09157 | train_mse: 0.06666 | train_mae: 0.20988 |  0:00:07s\n",
      "epoch 70 | loss: 0.11899 | train_mse: 0.06901 | train_mae: 0.2159  |  0:00:07s\n",
      "epoch 71 | loss: 0.09093 | train_mse: 0.07611 | train_mae: 0.23617 |  0:00:08s\n",
      "epoch 72 | loss: 0.07843 | train_mse: 0.07008 | train_mae: 0.22416 |  0:00:08s\n"
     ]
    },
    {
     "name": "stdout",
     "output_type": "stream",
     "text": [
      "epoch 73 | loss: 0.0989  | train_mse: 0.08156 | train_mae: 0.22606 |  0:00:08s\n",
      "epoch 74 | loss: 0.15003 | train_mse: 0.08107 | train_mae: 0.22579 |  0:00:08s\n",
      "epoch 75 | loss: 0.10156 | train_mse: 0.06277 | train_mae: 0.20553 |  0:00:08s\n"
     ]
    },
    {
     "name": "stdout",
     "output_type": "stream",
     "text": [
      "epoch 76 | loss: 0.09024 | train_mse: 0.08448 | train_mae: 0.23146 |  0:00:08s\n",
      "epoch 77 | loss: 0.104   | train_mse: 0.07806 | train_mae: 0.21911 |  0:00:08s\n",
      "epoch 78 | loss: 0.07793 | train_mse: 0.06755 | train_mae: 0.21046 |  0:00:08s\n"
     ]
    },
    {
     "name": "stdout",
     "output_type": "stream",
     "text": [
      "epoch 79 | loss: 0.10224 | train_mse: 0.06534 | train_mae: 0.20808 |  0:00:08s\n",
      "epoch 80 | loss: 0.12589 | train_mse: 0.08623 | train_mae: 0.22633 |  0:00:08s\n",
      "epoch 81 | loss: 0.10617 | train_mse: 0.12949 | train_mae: 0.26354 |  0:00:08s\n",
      "epoch 82 | loss: 0.09788 | train_mse: 0.14024 | train_mae: 0.27708 |  0:00:08s\n"
     ]
    },
    {
     "name": "stdout",
     "output_type": "stream",
     "text": [
      "epoch 83 | loss: 0.07015 | train_mse: 0.1401  | train_mae: 0.27689 |  0:00:08s\n",
      "epoch 84 | loss: 0.25889 | train_mse: 0.15169 | train_mae: 0.28665 |  0:00:08s\n",
      "epoch 85 | loss: 0.12505 | train_mse: 0.14762 | train_mae: 0.28329 |  0:00:09s\n"
     ]
    },
    {
     "name": "stdout",
     "output_type": "stream",
     "text": [
      "epoch 86 | loss: 0.0942  | train_mse: 0.12715 | train_mae: 0.27757 |  0:00:09s\n",
      "epoch 87 | loss: 0.13724 | train_mse: 0.08835 | train_mae: 0.24395 |  0:00:09s\n",
      "epoch 88 | loss: 0.23639 | train_mse: 0.07956 | train_mae: 0.23316 |  0:00:09s\n"
     ]
    },
    {
     "name": "stdout",
     "output_type": "stream",
     "text": [
      "epoch 89 | loss: 0.12646 | train_mse: 0.06757 | train_mae: 0.21245 |  0:00:09s\n",
      "epoch 90 | loss: 0.14314 | train_mse: 0.06516 | train_mae: 0.20447 |  0:00:09s\n",
      "epoch 91 | loss: 0.087   | train_mse: 0.06391 | train_mae: 0.1966  |  0:00:09s\n"
     ]
    },
    {
     "name": "stdout",
     "output_type": "stream",
     "text": [
      "epoch 92 | loss: 0.09874 | train_mse: 0.06434 | train_mae: 0.19609 |  0:00:09s\n",
      "epoch 93 | loss: 0.06532 | train_mse: 0.06608 | train_mae: 0.20855 |  0:00:09s\n",
      "epoch 94 | loss: 0.08736 | train_mse: 0.07182 | train_mae: 0.21833 |  0:00:09s\n"
     ]
    },
    {
     "name": "stdout",
     "output_type": "stream",
     "text": [
      "epoch 95 | loss: 0.05898 | train_mse: 0.07549 | train_mae: 0.21662 |  0:00:09s\n",
      "epoch 96 | loss: 0.11624 | train_mse: 0.07749 | train_mae: 0.21757 |  0:00:09s\n",
      "epoch 97 | loss: 0.28602 | train_mse: 0.07176 | train_mae: 0.20904 |  0:00:09s\n",
      "epoch 98 | loss: 0.09251 | train_mse: 0.07534 | train_mae: 0.21184 |  0:00:09s\n"
     ]
    },
    {
     "name": "stdout",
     "output_type": "stream",
     "text": [
      "epoch 99 | loss: 0.08103 | train_mse: 0.07995 | train_mae: 0.22361 |  0:00:10s\n",
      "epoch 100| loss: 0.10245 | train_mse: 0.07207 | train_mae: 0.2108  |  0:00:10s\n",
      "epoch 101| loss: 0.09537 | train_mse: 0.06701 | train_mae: 0.20354 |  0:00:10s\n",
      "epoch 102| loss: 0.11455 | train_mse: 0.09271 | train_mae: 0.23455 |  0:00:10s\n"
     ]
    },
    {
     "name": "stdout",
     "output_type": "stream",
     "text": [
      "epoch 103| loss: 0.08389 | train_mse: 0.07525 | train_mae: 0.20893 |  0:00:10s\n",
      "epoch 104| loss: 0.10955 | train_mse: 0.05847 | train_mae: 0.19881 |  0:00:10s\n",
      "epoch 105| loss: 0.09047 | train_mse: 0.07636 | train_mae: 0.22592 |  0:00:10s\n"
     ]
    },
    {
     "name": "stdout",
     "output_type": "stream",
     "text": [
      "epoch 106| loss: 0.12683 | train_mse: 0.06977 | train_mae: 0.19759 |  0:00:10s\n",
      "epoch 107| loss: 0.08473 | train_mse: 0.06572 | train_mae: 0.1895  |  0:00:10s\n",
      "epoch 108| loss: 0.07952 | train_mse: 0.0584  | train_mae: 0.17997 |  0:00:10s\n"
     ]
    },
    {
     "name": "stdout",
     "output_type": "stream",
     "text": [
      "epoch 109| loss: 0.10875 | train_mse: 0.0634  | train_mae: 0.20265 |  0:00:10s\n",
      "epoch 110| loss: 0.16358 | train_mse: 0.08158 | train_mae: 0.22142 |  0:00:10s\n",
      "epoch 111| loss: 0.11328 | train_mse: 0.12476 | train_mae: 0.25547 |  0:00:10s\n",
      "epoch 112| loss: 0.09053 | train_mse: 0.12643 | train_mae: 0.25517 |  0:00:10s\n"
     ]
    },
    {
     "name": "stdout",
     "output_type": "stream",
     "text": [
      "epoch 113| loss: 0.19341 | train_mse: 0.13157 | train_mae: 0.26252 |  0:00:10s\n",
      "epoch 114| loss: 0.07364 | train_mse: 0.10918 | train_mae: 0.2474  |  0:00:11s\n",
      "epoch 115| loss: 0.07615 | train_mse: 0.0949  | train_mae: 0.24205 |  0:00:11s\n",
      "epoch 116| loss: 0.11101 | train_mse: 0.11643 | train_mae: 0.26143 |  0:00:11s\n"
     ]
    },
    {
     "name": "stdout",
     "output_type": "stream",
     "text": [
      "epoch 117| loss: 0.16909 | train_mse: 0.11832 | train_mae: 0.2624  |  0:00:11s\n",
      "epoch 118| loss: 0.1286  | train_mse: 0.14727 | train_mae: 0.29341 |  0:00:11s\n",
      "epoch 119| loss: 0.09838 | train_mse: 0.10892 | train_mae: 0.25536 |  0:00:11s\n",
      "epoch 120| loss: 0.13981 | train_mse: 0.07475 | train_mae: 0.2151  |  0:00:11s\n"
     ]
    },
    {
     "name": "stdout",
     "output_type": "stream",
     "text": [
      "epoch 121| loss: 0.09648 | train_mse: 0.0528  | train_mae: 0.18816 |  0:00:11s\n",
      "epoch 122| loss: 0.14789 | train_mse: 0.04843 | train_mae: 0.17852 |  0:00:11s\n",
      "epoch 123| loss: 0.10115 | train_mse: 0.06469 | train_mae: 0.20036 |  0:00:11s\n"
     ]
    },
    {
     "name": "stdout",
     "output_type": "stream",
     "text": [
      "epoch 124| loss: 0.07902 | train_mse: 0.08854 | train_mae: 0.22715 |  0:00:11s\n",
      "epoch 125| loss: 0.09217 | train_mse: 0.0766  | train_mae: 0.21796 |  0:00:11s\n",
      "epoch 126| loss: 0.09106 | train_mse: 0.08017 | train_mae: 0.22312 |  0:00:11s\n",
      "epoch 127| loss: 0.06738 | train_mse: 0.07266 | train_mae: 0.20888 |  0:00:11s\n"
     ]
    },
    {
     "name": "stdout",
     "output_type": "stream",
     "text": [
      "epoch 128| loss: 0.09846 | train_mse: 0.05911 | train_mae: 0.19665 |  0:00:12s\n",
      "epoch 129| loss: 0.09922 | train_mse: 0.06997 | train_mae: 0.20207 |  0:00:12s\n",
      "epoch 130| loss: 0.08703 | train_mse: 0.07578 | train_mae: 0.20516 |  0:00:12s\n",
      "epoch 131| loss: 0.07301 | train_mse: 0.06207 | train_mae: 0.19771 |  0:00:12s\n"
     ]
    },
    {
     "name": "stdout",
     "output_type": "stream",
     "text": [
      "epoch 132| loss: 0.09329 | train_mse: 0.05716 | train_mae: 0.1928  |  0:00:12s\n",
      "epoch 133| loss: 0.08124 | train_mse: 0.06137 | train_mae: 0.19086 |  0:00:12s\n",
      "epoch 134| loss: 0.10685 | train_mse: 0.06837 | train_mae: 0.20456 |  0:00:12s\n",
      "epoch 135| loss: 0.08716 | train_mse: 0.08077 | train_mae: 0.21802 |  0:00:12s\n"
     ]
    },
    {
     "name": "stdout",
     "output_type": "stream",
     "text": [
      "epoch 136| loss: 0.07669 | train_mse: 0.07907 | train_mae: 0.21193 |  0:00:12s\n",
      "epoch 137| loss: 0.06987 | train_mse: 0.07597 | train_mae: 0.20548 |  0:00:12s\n",
      "epoch 138| loss: 0.11856 | train_mse: 0.08573 | train_mae: 0.2154  |  0:00:12s\n"
     ]
    },
    {
     "name": "stdout",
     "output_type": "stream",
     "text": [
      "epoch 139| loss: 0.09624 | train_mse: 0.07654 | train_mae: 0.21024 |  0:00:12s\n",
      "epoch 140| loss: 0.08849 | train_mse: 0.07739 | train_mae: 0.21515 |  0:00:12s\n",
      "epoch 141| loss: 0.14317 | train_mse: 0.07071 | train_mae: 0.20614 |  0:00:12s\n"
     ]
    },
    {
     "name": "stdout",
     "output_type": "stream",
     "text": [
      "epoch 142| loss: 0.08897 | train_mse: 0.07323 | train_mae: 0.20439 |  0:00:12s\n",
      "epoch 143| loss: 0.08616 | train_mse: 0.06704 | train_mae: 0.20855 |  0:00:13s\n",
      "epoch 144| loss: 0.09052 | train_mse: 0.07222 | train_mae: 0.21322 |  0:00:13s\n",
      "epoch 145| loss: 0.08252 | train_mse: 0.06962 | train_mae: 0.1932  |  0:00:13s\n"
     ]
    },
    {
     "name": "stdout",
     "output_type": "stream",
     "text": [
      "epoch 146| loss: 0.05693 | train_mse: 0.07503 | train_mae: 0.19616 |  0:00:13s\n",
      "epoch 147| loss: 0.11589 | train_mse: 0.073   | train_mae: 0.2066  |  0:00:13s\n",
      "epoch 148| loss: 0.20567 | train_mse: 0.07578 | train_mae: 0.22255 |  0:00:13s\n"
     ]
    },
    {
     "name": "stdout",
     "output_type": "stream",
     "text": [
      "epoch 149| loss: 0.14387 | train_mse: 0.06099 | train_mae: 0.20939 |  0:00:13s\n",
      "epoch 150| loss: 0.1112  | train_mse: 0.0509  | train_mae: 0.18506 |  0:00:13s\n",
      "epoch 151| loss: 0.06548 | train_mse: 0.04328 | train_mae: 0.15924 |  0:00:13s\n"
     ]
    },
    {
     "name": "stdout",
     "output_type": "stream",
     "text": [
      "epoch 152| loss: 0.09025 | train_mse: 0.06335 | train_mae: 0.20408 |  0:00:13s\n",
      "epoch 153| loss: 0.13105 | train_mse: 0.05613 | train_mae: 0.19077 |  0:00:13s\n",
      "epoch 154| loss: 0.0752  | train_mse: 0.0602  | train_mae: 0.20068 |  0:00:13s\n"
     ]
    },
    {
     "name": "stdout",
     "output_type": "stream",
     "text": [
      "epoch 155| loss: 0.14009 | train_mse: 0.07333 | train_mae: 0.22321 |  0:00:13s\n",
      "epoch 156| loss: 0.08863 | train_mse: 0.08398 | train_mae: 0.2218  |  0:00:13s\n",
      "epoch 157| loss: 0.12448 | train_mse: 0.08226 | train_mae: 0.21893 |  0:00:14s\n",
      "epoch 158| loss: 0.0827  | train_mse: 0.06158 | train_mae: 0.19502 |  0:00:14s\n"
     ]
    },
    {
     "name": "stdout",
     "output_type": "stream",
     "text": [
      "epoch 159| loss: 0.15629 | train_mse: 0.04389 | train_mae: 0.16813 |  0:00:14s\n",
      "epoch 160| loss: 0.07401 | train_mse: 0.061   | train_mae: 0.19277 |  0:00:14s\n",
      "epoch 161| loss: 0.05594 | train_mse: 0.09629 | train_mae: 0.23042 |  0:00:14s\n"
     ]
    },
    {
     "name": "stdout",
     "output_type": "stream",
     "text": [
      "epoch 162| loss: 0.1066  | train_mse: 0.0659  | train_mae: 0.19735 |  0:00:14s\n",
      "epoch 163| loss: 0.06524 | train_mse: 0.04613 | train_mae: 0.17187 |  0:00:14s\n",
      "epoch 164| loss: 0.05704 | train_mse: 0.05481 | train_mae: 0.17321 |  0:00:14s\n"
     ]
    },
    {
     "name": "stdout",
     "output_type": "stream",
     "text": [
      "epoch 165| loss: 0.08553 | train_mse: 0.06608 | train_mae: 0.17667 |  0:00:14s\n",
      "epoch 166| loss: 0.2084  | train_mse: 0.06988 | train_mae: 0.19405 |  0:00:14s\n",
      "epoch 167| loss: 0.09996 | train_mse: 0.05955 | train_mae: 0.18486 |  0:00:14s\n"
     ]
    },
    {
     "name": "stdout",
     "output_type": "stream",
     "text": [
      "epoch 168| loss: 0.24085 | train_mse: 0.07538 | train_mae: 0.2008  |  0:00:14s\n",
      "epoch 169| loss: 0.08013 | train_mse: 0.0862  | train_mae: 0.21964 |  0:00:14s\n",
      "epoch 170| loss: 0.11297 | train_mse: 0.0662  | train_mae: 0.19846 |  0:00:14s\n",
      "epoch 171| loss: 0.14434 | train_mse: 0.05419 | train_mae: 0.19408 |  0:00:14s\n"
     ]
    },
    {
     "name": "stdout",
     "output_type": "stream",
     "text": [
      "epoch 172| loss: 0.16772 | train_mse: 0.06656 | train_mae: 0.21509 |  0:00:15s\n",
      "epoch 173| loss: 0.17149 | train_mse: 0.0965  | train_mae: 0.25176 |  0:00:15s\n",
      "epoch 174| loss: 0.12491 | train_mse: 0.10047 | train_mae: 0.26347 |  0:00:15s\n"
     ]
    },
    {
     "name": "stdout",
     "output_type": "stream",
     "text": [
      "epoch 175| loss: 0.21554 | train_mse: 0.06627 | train_mae: 0.21172 |  0:00:15s\n",
      "epoch 176| loss: 0.11502 | train_mse: 0.06237 | train_mae: 0.20182 |  0:00:15s\n",
      "epoch 177| loss: 0.11404 | train_mse: 0.07067 | train_mae: 0.21344 |  0:00:15s\n",
      "epoch 178| loss: 0.13764 | train_mse: 0.08165 | train_mae: 0.23015 |  0:00:15s\n"
     ]
    },
    {
     "name": "stdout",
     "output_type": "stream",
     "text": [
      "epoch 179| loss: 0.1228  | train_mse: 0.07374 | train_mae: 0.21419 |  0:00:15s\n",
      "epoch 180| loss: 0.0784  | train_mse: 0.07189 | train_mae: 0.21355 |  0:00:15s\n",
      "epoch 181| loss: 0.09922 | train_mse: 0.07577 | train_mae: 0.21831 |  0:00:15s\n"
     ]
    },
    {
     "name": "stdout",
     "output_type": "stream",
     "text": [
      "epoch 182| loss: 0.22098 | train_mse: 0.10261 | train_mae: 0.25496 |  0:00:15s\n",
      "epoch 183| loss: 0.1091  | train_mse: 0.0903  | train_mae: 0.23352 |  0:00:15s\n",
      "epoch 184| loss: 0.12584 | train_mse: 0.0806  | train_mae: 0.21275 |  0:00:15s\n",
      "epoch 185| loss: 0.13748 | train_mse: 0.06728 | train_mae: 0.20638 |  0:00:15s\n"
     ]
    },
    {
     "name": "stdout",
     "output_type": "stream",
     "text": [
      "epoch 186| loss: 0.08539 | train_mse: 0.07448 | train_mae: 0.21613 |  0:00:16s\n",
      "epoch 187| loss: 0.06542 | train_mse: 0.07516 | train_mae: 0.219   |  0:00:16s\n",
      "epoch 188| loss: 0.20845 | train_mse: 0.07438 | train_mae: 0.21311 |  0:00:16s\n",
      "epoch 189| loss: 0.08368 | train_mse: 0.0541  | train_mae: 0.1837  |  0:00:16s\n"
     ]
    },
    {
     "name": "stdout",
     "output_type": "stream",
     "text": [
      "epoch 190| loss: 0.14805 | train_mse: 0.05562 | train_mae: 0.1905  |  0:00:16s\n",
      "epoch 191| loss: 0.06737 | train_mse: 0.06175 | train_mae: 0.20706 |  0:00:16s\n",
      "epoch 192| loss: 0.04568 | train_mse: 0.07252 | train_mae: 0.22398 |  0:00:16s\n",
      "epoch 193| loss: 0.09225 | train_mse: 0.08661 | train_mae: 0.24165 |  0:00:16s\n"
     ]
    },
    {
     "name": "stdout",
     "output_type": "stream",
     "text": [
      "epoch 194| loss: 0.1634  | train_mse: 0.06267 | train_mae: 0.2115  |  0:00:16s\n",
      "epoch 195| loss: 0.08167 | train_mse: 0.05125 | train_mae: 0.19224 |  0:00:16s\n",
      "epoch 196| loss: 0.13785 | train_mse: 0.04959 | train_mae: 0.1801  |  0:00:16s\n"
     ]
    },
    {
     "name": "stdout",
     "output_type": "stream",
     "text": [
      "epoch 197| loss: 0.11184 | train_mse: 0.05755 | train_mae: 0.1893  |  0:00:16s\n",
      "epoch 198| loss: 0.07996 | train_mse: 0.06593 | train_mae: 0.21191 |  0:00:16s\n",
      "epoch 199| loss: 0.20592 | train_mse: 0.08079 | train_mae: 0.23381 |  0:00:16s\n",
      "epoch 200| loss: 0.06232 | train_mse: 0.05857 | train_mae: 0.19599 |  0:00:16s\n"
     ]
    },
    {
     "name": "stdout",
     "output_type": "stream",
     "text": [
      "epoch 201| loss: 0.06789 | train_mse: 0.06837 | train_mae: 0.19463 |  0:00:17s\n",
      "\n",
      "Early stopping occurred at epoch 201 with best_epoch = 151 and best_train_mae = 0.15924\n",
      "Best weights from best epoch are automatically used!\n",
      "BEST VALID SCORE FOR dataset : 0.1592445999201913\n",
      "FINAL TEST SCORE FOR dataset: 0.31585378593179214\n",
      "{'loss': [0.7381476521492004, 0.7138108491897583, 0.6042861104011535, 0.3352921664714813, 0.3577812671661377, 0.3305480033159256, 0.30851604640483854, 0.27958726286888125, 0.2562480211257935, 0.18363344371318818, 0.2330528736114502, 0.1473562240600586, 0.39128891229629514, 0.2413340389728546, 0.21381765604019165, 0.16980578303337096, 0.16598257422447205, 0.16672903001308442, 0.212972953915596, 0.2992054045200348, 0.2600976437330246, 0.13937219083309174, 0.1600263774394989, 0.19390217065811158, 0.15091965794563295, 0.26587824821472167, 0.32630023956298826, 0.22370006442070006, 0.2144327461719513, 0.21292585134506226, 0.146590980887413, 0.18442244529724122, 0.13672713935375214, 0.14877761006355286, 0.12571315020322799, 0.15601771771907808, 0.17226117253303527, 0.15362295508384705, 0.1867590755224228, 0.22007063627243043, 0.09163324236869812, 0.15047639310359956, 0.2635225474834442, 0.16827487349510192, 0.1877586603164673, 0.13987283110618592, 0.17576413750648498, 0.2111744165420532, 0.21624840199947357, 0.1015767827630043, 0.11603720188140869, 0.16784752607345582, 0.16205921471118928, 0.1167471319437027, 0.10646547675132752, 0.18234763741493226, 0.14047555327415467, 0.1512262135744095, 0.10919553935527801, 0.14512478113174437, 0.16330179572105408, 0.09253870248794556, 0.094840008020401, 0.09842718541622161, 0.1298891484737396, 0.14283712208271027, 0.12927319332957268, 0.10761612206697464, 0.14893861413002013, 0.09157418012619019, 0.11899082362651825, 0.09093476086854935, 0.07843486666679382, 0.09889783263206482, 0.15002945065498352, 0.10155534148216247, 0.09023506343364715, 0.10400094091892242, 0.07793287038803101, 0.10224499702453613, 0.12589118182659148, 0.10616531372070312, 0.09787770807743072, 0.07014526575803756, 0.2588947772979736, 0.1250494509935379, 0.09420255273580551, 0.13723617494106294, 0.23639432489871978, 0.12645959705114365, 0.14314179718494416, 0.08699538111686707, 0.09874311685562134, 0.06532142758369446, 0.08735723197460174, 0.058982057869434355, 0.11623724699020385, 0.2860193759202957, 0.09251229912042618, 0.08102631866931916, 0.10245479643344879, 0.09536877274513245, 0.11455407738685608, 0.08388994336128235, 0.10954951643943786, 0.09046771824359894, 0.12683270871639252, 0.08472554385662079, 0.0795153796672821, 0.10875092893838882, 0.163583642244339, 0.11327946186065674, 0.09052652269601821, 0.19340648353099824, 0.07363809645175934, 0.07615129351615905, 0.11101073920726776, 0.16909135282039642, 0.1286000818014145, 0.09837891459465027, 0.13981157541275024, 0.09647509902715683, 0.1478920489549637, 0.10114989876747131, 0.07901719361543655, 0.09216845333576203, 0.09105611443519593, 0.06738379001617431, 0.09845582395792007, 0.09921718835830688, 0.08702601045370102, 0.07300974577665328, 0.09329469203948974, 0.08124011904001235, 0.10684937238693237, 0.08716425150632859, 0.07669133991003037, 0.06986530125141144, 0.11855953633785248, 0.09624134302139283, 0.08848697692155838, 0.14316922724246978, 0.08897448927164078, 0.08615733385086059, 0.09052163362503052, 0.08251657262444496, 0.05692542940378189, 0.11589052975177765, 0.205666446685791, 0.14387122988700868, 0.11120209395885468, 0.06547967344522476, 0.09025464057922364, 0.13105412423610688, 0.0751998782157898, 0.14009009003639222, 0.08863306343555451, 0.12448426634073258, 0.08270183503627777, 0.15629144310951232, 0.0740117833018303, 0.05593623071908951, 0.10660390704870223, 0.06523505747318267, 0.057043422013521194, 0.08552701622247696, 0.20839719772338866, 0.09995911419391632, 0.24085271954536439, 0.08012943789362907, 0.11296790838241577, 0.14434317350387574, 0.16772398054599763, 0.17148959636688232, 0.12491077482700348, 0.215538889169693, 0.11502129882574082, 0.11404212415218354, 0.1376442313194275, 0.12280269116163253, 0.07839647829532623, 0.099215167760849, 0.22098028361797334, 0.10910297334194183, 0.1258426159620285, 0.13748451620340346, 0.08538641929626464, 0.06541920155286789, 0.20845263004302977, 0.0836843952536583, 0.1480473279953003, 0.06737212985754013, 0.04567919969558716, 0.09225445836782456, 0.16340385228395463, 0.08167299032211303, 0.13785238564014435, 0.11183870881795883, 0.07995559126138688, 0.20591773986816406, 0.06231819689273834, 0.0678875833749771], 'lr': [0.02, 0.02, 0.02, 0.02, 0.02, 0.02, 0.02, 0.02, 0.02, 0.02, 0.02, 0.02, 0.02, 0.02, 0.02, 0.02, 0.02, 0.02, 0.02, 0.02, 0.02, 0.02, 0.02, 0.02, 0.02, 0.02, 0.02, 0.02, 0.02, 0.02, 0.02, 0.02, 0.02, 0.02, 0.02, 0.02, 0.02, 0.02, 0.02, 0.02, 0.02, 0.02, 0.02, 0.02, 0.02, 0.02, 0.02, 0.02, 0.02, 0.02, 0.02, 0.02, 0.02, 0.02, 0.02, 0.02, 0.02, 0.02, 0.02, 0.02, 0.02, 0.02, 0.02, 0.02, 0.02, 0.02, 0.02, 0.02, 0.02, 0.02, 0.02, 0.02, 0.02, 0.02, 0.02, 0.02, 0.02, 0.02, 0.02, 0.02, 0.02, 0.02, 0.02, 0.02, 0.02, 0.02, 0.02, 0.02, 0.02, 0.02, 0.02, 0.02, 0.02, 0.02, 0.02, 0.02, 0.02, 0.02, 0.02, 0.02, 0.02, 0.02, 0.02, 0.02, 0.02, 0.02, 0.02, 0.02, 0.02, 0.02, 0.02, 0.02, 0.02, 0.02, 0.02, 0.02, 0.02, 0.02, 0.02, 0.02, 0.02, 0.02, 0.02, 0.02, 0.02, 0.02, 0.02, 0.02, 0.02, 0.02, 0.02, 0.02, 0.02, 0.02, 0.02, 0.02, 0.02, 0.02, 0.02, 0.02, 0.02, 0.02, 0.02, 0.02, 0.02, 0.02, 0.02, 0.02, 0.02, 0.02, 0.02, 0.02, 0.02, 0.02, 0.02, 0.02, 0.02, 0.02, 0.02, 0.02, 0.02, 0.02, 0.02, 0.02, 0.02, 0.02, 0.02, 0.02, 0.02, 0.02, 0.02, 0.02, 0.02, 0.02, 0.02, 0.02, 0.02, 0.02, 0.02, 0.02, 0.02, 0.02, 0.02, 0.02, 0.02, 0.02, 0.02, 0.02, 0.02, 0.02, 0.02, 0.02, 0.02, 0.02, 0.02, 0.02, 0.02, 0.02, 0.02, 0.02, 0.02, 0.02], 'train_mse': [6.931445717380515, 7.822189009750472, 6.947497925756892, 5.666906832106784, 5.260287213864883, 5.004087010655871, 5.4001502732600954, 4.255284671412926, 4.030842307911016, 3.8274335469534604, 2.802412103919158, 0.5991919796269523, 0.38255700898805783, 0.3258972640305847, 0.36303376202160986, 0.5238887896768769, 0.8497650193714625, 0.8076089483369364, 0.5756431962344758, 0.4480464739643534, 0.41144041422707034, 0.4993303903411717, 0.44604371594451503, 0.3275532993042708, 0.24602026533844565, 0.15279415604343952, 0.1579830803708353, 0.17534280645633335, 0.22063681701534507, 0.12706525783579212, 0.14468145915605807, 0.1341316744821746, 0.18559190264412304, 0.23079664532018568, 0.1706072603311748, 0.10879014011698591, 0.11016303939503158, 0.12604825193427854, 0.10640428351051892, 0.1147117384220245, 0.10034980558176987, 0.09350619010192589, 0.12864209743496877, 0.12524326840135305, 0.13914773421778595, 0.15233244261356998, 0.14736549684415423, 0.10767249294973977, 0.11363836821975522, 0.09935414137591374, 0.1049080263470881, 0.11657047069744184, 0.11055002875570988, 0.09178026222720595, 0.09927000095533359, 0.11094220364048443, 0.11426868486943909, 0.10565635521628362, 0.08971738838666679, 0.08692988715259764, 0.07151724264105577, 0.07142737282160685, 0.0745704528365492, 0.09302462874885423, 0.09353028754739204, 0.07959060737927942, 0.09506543246588128, 0.08597455705718318, 0.06549714270308836, 0.06666048997826299, 0.06900803908993922, 0.07611390158351386, 0.07008353070518523, 0.08155773464911449, 0.08106596515312403, 0.0627719067886767, 0.08447712822086091, 0.07805510771774452, 0.0675511325903519, 0.06533528069924883, 0.08623492231746417, 0.12949292212943517, 0.14024124673150265, 0.14009675598429225, 0.15168564454510428, 0.14761806891317844, 0.1271535530542703, 0.0883461973828506, 0.07956416779373301, 0.067574344018777, 0.06516481179797251, 0.06391338985660242, 0.06434437952492686, 0.06608387053975051, 0.07181512515657108, 0.07549043598582611, 0.07748903384128994, 0.07176283759024268, 0.0753440295144479, 0.07995398130777068, 0.07207338213675887, 0.06700651427277038, 0.09270975299956115, 0.07525437751657914, 0.0584717105340154, 0.0763608770020371, 0.06977019692924111, 0.0657199440430413, 0.058396578771804444, 0.06340140463795699, 0.08157666899862738, 0.12476261390089274, 0.12643253184021694, 0.1315689255385432, 0.10918450656543448, 0.09489546057340477, 0.11643131664835224, 0.11831916628778685, 0.1472736399574217, 0.10891613379703502, 0.07474865186853952, 0.05279948823749821, 0.04842796497903038, 0.06469294891767614, 0.088542949005005, 0.07659651717905307, 0.08016620154514828, 0.072661975998187, 0.059108782152836305, 0.0699676870686216, 0.07577872524479196, 0.06207064874896333, 0.057158660950723174, 0.06137401576532382, 0.06837478049974624, 0.08077487410255754, 0.079070871415315, 0.07597301962076594, 0.08572916092742319, 0.0765424669262713, 0.07739435432851685, 0.07071479635934497, 0.07323431170170351, 0.06704368715564948, 0.07222094344575462, 0.06962420536521825, 0.07503292445290025, 0.07299985353658961, 0.07577704031471473, 0.06099171153044354, 0.05089920289998644, 0.043278772565586855, 0.06334787782005755, 0.05612702383422898, 0.0601992034444223, 0.0733340080997316, 0.08397521251546188, 0.08226333922378563, 0.061577484947784256, 0.043890423847631976, 0.060998901695003396, 0.09629374447384785, 0.06590197516901333, 0.04612865212213999, 0.05481486071765076, 0.06608145209995034, 0.06988379344667395, 0.059552166618398225, 0.07538288422219633, 0.08619633406194252, 0.06620383609660965, 0.05418629400351299, 0.06656313603701883, 0.09649786538176072, 0.10046667410250976, 0.06626650923458263, 0.06237156035094946, 0.07067015071952618, 0.08165002545254636, 0.0737387342070936, 0.07188876819438442, 0.07576860358413798, 0.10260913743425974, 0.09029847750739539, 0.08059825789639172, 0.06727858767465858, 0.07447856455465315, 0.07515972368040964, 0.07438350401236535, 0.054098102140025625, 0.05562027025650146, 0.06174839674360412, 0.07252447069048015, 0.08661086148026786, 0.06267029814671876, 0.051251209506958585, 0.04959197497308878, 0.0575455233135318, 0.06592700713451265, 0.08078632430085264, 0.058574363429487894, 0.06837084749824954], 'train_mae': [2.1544069194103055, 2.222657011352866, 2.082924206017078, 1.876812000145653, 1.758890738299852, 1.6965871212645662, 1.7583788707343189, 1.541014607377123, 1.4549032486333193, 1.343558051250683, 1.141321229458552, 0.6242716224128187, 0.48645137750526174, 0.4458472244501596, 0.4596648167462563, 0.5356636202727523, 0.6882106264611222, 0.6929581700478815, 0.5806382629068828, 0.5086615246202661, 0.49274393978541553, 0.5426597492464925, 0.5002075720962479, 0.44697479073873075, 0.37972058909507517, 0.3009367378855596, 0.3151249995048101, 0.3352817052412611, 0.3768327992852834, 0.27364914920495004, 0.2890322682447778, 0.27477394880600653, 0.3392813803324253, 0.3718060127661058, 0.32951226285659363, 0.2702401899562764, 0.26167891951474626, 0.2742310866829218, 0.2560193641879299, 0.2754451773000254, 0.25976425836141415, 0.24495372104725543, 0.2746208270665876, 0.2771243950025889, 0.2891216415034708, 0.3043512366379755, 0.2946119879452862, 0.2591531784123365, 0.2717521007746656, 0.2622419089679012, 0.2727604654568865, 0.28306662181474673, 0.26312065630787074, 0.24066846100852093, 0.2521291670886584, 0.25767644133039613, 0.2556025488705735, 0.2393169525752889, 0.22555659563495017, 0.2281397624038764, 0.2042005362085797, 0.21168007427153485, 0.21853195574809395, 0.23761197909971435, 0.23871880337313572, 0.23474813327514132, 0.2555949100440421, 0.23993175880034504, 0.20723594037498438, 0.2098820632419139, 0.21589999200391627, 0.23617483778910317, 0.22416021369331088, 0.2260553286219042, 0.22578910975508482, 0.20553353542390265, 0.23145910454852198, 0.21910789450292595, 0.21046084586567376, 0.20808107460452424, 0.22633392003495828, 0.26353685194625553, 0.277079633902968, 0.2768868331206501, 0.2866519192446092, 0.2832947333700459, 0.27757313351586277, 0.24395048993367974, 0.23316427086710273, 0.21244683081002172, 0.20446699884147979, 0.19660255119539166, 0.19609038425490866, 0.20855091571900522, 0.21833422367908722, 0.21661931858241196, 0.2175688743081773, 0.20904409105295968, 0.2118383112209965, 0.22361414143623354, 0.2108013560086298, 0.20353893321848426, 0.23454793608188712, 0.20892817804375485, 0.19880713606121483, 0.2259221832201371, 0.1975894866237963, 0.18949613589932746, 0.17997445225580552, 0.20264546774458214, 0.22141526465846226, 0.2554673082342961, 0.255172853583705, 0.2625227328190722, 0.24739737112252555, 0.24205340488699, 0.26142757861137983, 0.26240167971630124, 0.29341104213944497, 0.2553601922933676, 0.21510274214138442, 0.18816395810851658, 0.17852092062357833, 0.20036033413700555, 0.22715164913025773, 0.21796326328031385, 0.223123265718041, 0.20887675731311015, 0.1966545156450902, 0.2020667155504202, 0.20515799226849157, 0.19771096416076434, 0.19279545105067897, 0.19086288449333688, 0.20455917035150092, 0.21802010340752204, 0.2119332900571748, 0.20547647335545588, 0.21540459300439602, 0.21024346053132223, 0.21514503305557414, 0.20614202375960797, 0.2043868074068614, 0.20854726857870917, 0.2132241047279501, 0.19319607026154664, 0.19616060682210676, 0.206595881111046, 0.2225455505743426, 0.20939474504615826, 0.18506314390118042, 0.1592445999201913, 0.20408275521819802, 0.19076731077494533, 0.20068125050685617, 0.2232079875925, 0.22179774689653678, 0.21892801384177868, 0.19501777417488028, 0.168133967057846, 0.19277168102034353, 0.23042282291754992, 0.19735053678491177, 0.17186618202523646, 0.1732125037063798, 0.17667347140110773, 0.19404901606216293, 0.18485988717262908, 0.20080279816887242, 0.21963555721563602, 0.19846267213679186, 0.1940764411754518, 0.21508808663112938, 0.25176190109880364, 0.2634699788193221, 0.21171742872525945, 0.20182359497550487, 0.21344022267267562, 0.2301514588102994, 0.21418555422227015, 0.2135500838722672, 0.2183145298129105, 0.2549626538857382, 0.23352271011055334, 0.21275295894344914, 0.20638082172506994, 0.21613261761139757, 0.2189960908051655, 0.21310627859593403, 0.1836976389806176, 0.19049779145722143, 0.20705833038727967, 0.22397854173079584, 0.24164942726052044, 0.21150133919877137, 0.19223788972657654, 0.1800977100184978, 0.18929666843961654, 0.21191035527784335, 0.23381349697710302, 0.19599157269210543, 0.19462818835726864]}\n"
     ]
    },
    {
     "data": {
      "application/scrapbook.scrap.json+json": {
       "data": 0.31585378593179214,
       "encoder": "json",
       "name": "TabNet MAE",
       "version": 1
      }
     },
     "metadata": {
      "scrapbook": {
       "data": true,
       "display": false,
       "name": "TabNet MAE"
      }
     },
     "output_type": "display_data"
    },
    {
     "data": {
      "image/png": "[encoded data removed]",
      "text/plain": [
       "<Figure size 432x288 with 1 Axes>"
      ]
     },
     "metadata": {
      "needs_background": "light"
     },
     "output_type": "display_data"
    }
   ],
   "source": [
    "lr = 0.02\n",
    "\n",
    "print(y_train.shape)\n",
    "y_train = np.reshape(y_train, (-1, 1))\n",
    "y_test = np.reshape(y_test, (-1, 1))\n",
    "\n",
    "device = torch.device('cuda' if torch.cuda.is_available() else 'cpu')\n",
    "mae_tab= baselineModels.tabnetreg(X_train,y_train,X_test,y_test,batch_size,n_features,n_target,n_epochs, lr)\n",
    "sb.glue(\"TabNet MAE\",mae_tab)"
   ]
  }
 ],
 "metadata": {
  "interpreter": {
   "hash": "10498c76ddd8160350534c6544a2b2fb65f2138dbc70420f7c81a3268f830f23"
  },
  "kernelspec": {
   "display_name": "Python 3",
   "language": "python",
   "name": "python3"
  },
  "language_info": {
   "codemirror_mode": {
    "name": "ipython",
    "version": 3
   },
   "file_extension": ".py",
   "mimetype": "text/x-python",
   "name": "python",
   "nbconvert_exporter": "python",
   "pygments_lexer": "ipython3",
   "version": "3.8.3"
  },
  "papermill": {
   "default_parameters": {},
   "duration": 33.050665,
   "end_time": "2022-06-22T10:48:24.983424",
   "environment_variables": {},
   "exception": null,
   "input_path": "BaselineModels.ipynb",
   "output_path": "./BaseLine_Model_Output/BaselineModels_output_4.ipynb",
   "parameters": {},
   "start_time": "2022-06-22T10:47:51.932759",
   "version": "2.3.3"
  }
 },
 "nbformat": 4,
 "nbformat_minor": 5
}