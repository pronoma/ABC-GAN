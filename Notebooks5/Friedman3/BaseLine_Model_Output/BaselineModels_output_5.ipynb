{
 "cells": [
  {
   "cell_type": "markdown",
   "id": "da853b48",
   "metadata": {
    "papermill": {
     "duration": 0.019658,
     "end_time": "2022-06-22T10:48:30.522875",
     "exception": false,
     "start_time": "2022-06-22T10:48:30.503217",
     "status": "completed"
    },
    "tags": []
   },
   "source": [
    "## Import Libraries "
   ]
  },
  {
   "cell_type": "code",
   "execution_count": 1,
   "id": "5509b2cb",
   "metadata": {
    "execution": {
     "iopub.execute_input": "2022-06-22T10:48:30.706568Z",
     "iopub.status.busy": "2022-06-22T10:48:30.700272Z",
     "iopub.status.idle": "2022-06-22T10:48:30.712386Z",
     "shell.execute_reply": "2022-06-22T10:48:30.717162Z"
    },
    "papermill": {
     "duration": 0.186517,
     "end_time": "2022-06-22T10:48:30.719336",
     "exception": false,
     "start_time": "2022-06-22T10:48:30.532819",
     "status": "completed"
    },
    "tags": []
   },
   "outputs": [],
   "source": [
    "import warnings\n",
    "import sys\n",
    "sys.path.insert(0, '../../src')\n",
    "warnings.filterwarnings('ignore')"
   ]
  },
  {
   "cell_type": "code",
   "execution_count": 2,
   "id": "3a3b8bc4",
   "metadata": {
    "execution": {
     "iopub.execute_input": "2022-06-22T10:48:30.756430Z",
     "iopub.status.busy": "2022-06-22T10:48:30.751242Z",
     "iopub.status.idle": "2022-06-22T10:48:38.840397Z",
     "shell.execute_reply": "2022-06-22T10:48:38.841284Z"
    },
    "papermill": {
     "duration": 8.112038,
     "end_time": "2022-06-22T10:48:38.841537",
     "exception": false,
     "start_time": "2022-06-22T10:48:30.729499",
     "status": "completed"
    },
    "tags": []
   },
   "outputs": [],
   "source": [
    "import statsModel\n",
    "import scrapbook as sb \n",
    "import torch \n",
    "import statsModel\n",
    "import baselineModels\n",
    "import friedman3Dataset\n",
    "import dataset \n",
    "from torch.utils.data import random_split \n",
    "from sklearn.model_selection import train_test_split\n",
    "import numpy as np"
   ]
  },
  {
   "cell_type": "markdown",
   "id": "06925095",
   "metadata": {
    "papermill": {
     "duration": 0.010003,
     "end_time": "2022-06-22T10:48:38.860156",
     "exception": false,
     "start_time": "2022-06-22T10:48:38.850153",
     "status": "completed"
    },
    "tags": []
   },
   "source": [
    "## Import Dataset \n"
   ]
  },
  {
   "cell_type": "code",
   "execution_count": 3,
   "id": "8452903b",
   "metadata": {
    "execution": {
     "iopub.execute_input": "2022-06-22T10:48:38.887324Z",
     "iopub.status.busy": "2022-06-22T10:48:38.886400Z",
     "iopub.status.idle": "2022-06-22T10:48:38.902513Z",
     "shell.execute_reply": "2022-06-22T10:48:38.903073Z"
    },
    "papermill": {
     "duration": 0.033295,
     "end_time": "2022-06-22T10:48:38.903306",
     "exception": false,
     "start_time": "2022-06-22T10:48:38.870011",
     "status": "completed"
    },
    "tags": []
   },
   "outputs": [
    {
     "name": "stdout",
     "output_type": "stream",
     "text": [
      "          X1           X2        X3         X4         Y\n",
      "0  68.002251   652.604031  0.130858   2.120963  0.770158\n",
      "1  70.668151   726.262143  0.930007   1.487260  1.517557\n",
      "2  31.414568  1481.978438  0.863289  10.560127  1.627903\n",
      "3  11.359919  1264.444202  0.653821   1.914697  1.571910\n",
      "4  35.276516  1307.443983  0.863712   2.273615  1.448919\n"
     ]
    }
   ],
   "source": [
    "n_features = 4\n",
    "n_samples= 100\n",
    "n_target = 1\n",
    "X,Y = friedman3Dataset.friedman3_data(n_samples)"
   ]
  },
  {
   "cell_type": "code",
   "execution_count": 4,
   "id": "426a3a66",
   "metadata": {
    "execution": {
     "iopub.execute_input": "2022-06-22T10:48:38.930245Z",
     "iopub.status.busy": "2022-06-22T10:48:38.929055Z",
     "iopub.status.idle": "2022-06-22T10:48:38.932466Z",
     "shell.execute_reply": "2022-06-22T10:48:38.933057Z"
    },
    "papermill": {
     "duration": 0.020828,
     "end_time": "2022-06-22T10:48:38.933285",
     "exception": false,
     "start_time": "2022-06-22T10:48:38.912457",
     "status": "completed"
    },
    "tags": []
   },
   "outputs": [
    {
     "name": "stdout",
     "output_type": "stream",
     "text": [
      "(100, 4)\n",
      "(100,)\n",
      "(80, 4)\n",
      "(80,)\n",
      "(20, 4)\n",
      "(20,)\n"
     ]
    }
   ],
   "source": [
    "# Train test split for dataset \n",
    "real_dataset = dataset.CustomDataset(X,Y)\n",
    "\n",
    "print(X.shape)\n",
    "print(Y.shape)\n",
    "X_train, X_test, y_train, y_test = train_test_split(X, Y, test_size=0.2)\n",
    "\n",
    "print(X_train.shape)\n",
    "print(y_train.shape)\n",
    "print(X_test.shape)\n",
    "print(y_test.shape)"
   ]
  },
  {
   "cell_type": "markdown",
   "id": "ccefb38b",
   "metadata": {
    "papermill": {
     "duration": 0.008431,
     "end_time": "2022-06-22T10:48:38.950312",
     "exception": false,
     "start_time": "2022-06-22T10:48:38.941881",
     "status": "completed"
    },
    "tags": []
   },
   "source": [
    "## Stats Model \n",
    "\n"
   ]
  },
  {
   "cell_type": "code",
   "execution_count": 5,
   "id": "ac643789",
   "metadata": {
    "execution": {
     "iopub.execute_input": "2022-06-22T10:48:38.976953Z",
     "iopub.status.busy": "2022-06-22T10:48:38.973344Z",
     "iopub.status.idle": "2022-06-22T10:48:39.214461Z",
     "shell.execute_reply": "2022-06-22T10:48:39.214891Z"
    },
    "papermill": {
     "duration": 0.256747,
     "end_time": "2022-06-22T10:48:39.215106",
     "exception": false,
     "start_time": "2022-06-22T10:48:38.958359",
     "status": "completed"
    },
    "tags": []
   },
   "outputs": [
    {
     "name": "stderr",
     "output_type": "stream",
     "text": [
      "No handles with labels found to put in legend.\n"
     ]
    },
    {
     "name": "stdout",
     "output_type": "stream",
     "text": [
      "                                 OLS Regression Results                                \n",
      "=======================================================================================\n",
      "Dep. Variable:                      y   R-squared (uncentered):                   0.546\n",
      "Model:                            OLS   Adj. R-squared (uncentered):              0.522\n",
      "Method:                 Least Squares   F-statistic:                              22.83\n",
      "Date:                Wed, 22 Jun 2022   Prob (F-statistic):                    2.06e-12\n",
      "Time:                        16:18:38   Log-Likelihood:                         -87.294\n",
      "No. Observations:                  80   AIC:                                      182.6\n",
      "Df Residuals:                      76   BIC:                                      192.1\n",
      "Df Model:                           4                                                  \n",
      "Covariance Type:            nonrobust                                                  \n",
      "==============================================================================\n",
      "                 coef    std err          t      P>|t|      [0.025      0.975]\n",
      "------------------------------------------------------------------------------\n",
      "x1            -0.3927      0.083     -4.747      0.000      -0.557      -0.228\n",
      "x2             0.1964      0.092      2.141      0.035       0.014       0.379\n",
      "x3             0.6414      0.086      7.453      0.000       0.470       0.813\n",
      "x4             0.1380      0.088      1.569      0.121      -0.037       0.313\n",
      "==============================================================================\n",
      "Omnibus:                       16.340   Durbin-Watson:                   1.952\n",
      "Prob(Omnibus):                  0.000   Jarque-Bera (JB):               19.370\n",
      "Skew:                          -1.007   Prob(JB):                     6.22e-05\n",
      "Kurtosis:                       4.324   Cond. No.                         1.31\n",
      "==============================================================================\n",
      "\n",
      "Notes:\n",
      "[1] R² is computed without centering (uncentered) since the model does not contain a constant.\n",
      "[2] Standard Errors assume that the covariance matrix of the errors is correctly specified.\n"
     ]
    },
    {
     "data": {
      "image/png": "[encoded data removed]",
      "text/plain": [
       "<Figure size 432x288 with 1 Axes>"
      ]
     },
     "metadata": {
      "needs_background": "light"
     },
     "output_type": "display_data"
    },
    {
     "name": "stdout",
     "output_type": "stream",
     "text": [
      "Performance Metrics\n",
      "Mean Squared Error: 0.3635141544662107\n",
      "Mean Absolute Error: 0.4979525731192089\n",
      "Manhattan distance: 9.959051462384178\n",
      "Euclidean distance: 2.6963462480408955\n"
     ]
    },
    {
     "data": {
      "application/scrapbook.scrap.json+json": {
       "data": 0.3635141544662107,
       "encoder": "json",
       "name": "Stats Model MSE",
       "version": 1
      }
     },
     "metadata": {
      "scrapbook": {
       "data": true,
       "display": false,
       "name": "Stats Model MSE"
      }
     },
     "output_type": "display_data"
    },
    {
     "data": {
      "application/scrapbook.scrap.json+json": {
       "data": 0.4979525731192089,
       "encoder": "json",
       "name": "Stats Model MAE",
       "version": 1
      }
     },
     "metadata": {
      "scrapbook": {
       "data": true,
       "display": false,
       "name": "Stats Model MAE"
      }
     },
     "output_type": "display_data"
    },
    {
     "data": {
      "application/scrapbook.scrap.json+json": {
       "data": 9.959051462384178,
       "encoder": "json",
       "name": "Stats Model Manhattan Distance",
       "version": 1
      }
     },
     "metadata": {
      "scrapbook": {
       "data": true,
       "display": false,
       "name": "Stats Model Manhattan Distance"
      }
     },
     "output_type": "display_data"
    },
    {
     "data": {
      "application/scrapbook.scrap.json+json": {
       "data": 2.6963462480408955,
       "encoder": "json",
       "name": "Stats Model Euclidean distance",
       "version": 1
      }
     },
     "metadata": {
      "scrapbook": {
       "data": true,
       "display": false,
       "name": "Stats Model Euclidean distance"
      }
     },
     "output_type": "display_data"
    },
    {
     "data": {
      "application/scrapbook.scrap.json+json": {
       "data": [
        -0.39267211881753716,
        0.19643902565691546,
        0.6414155517053968,
        0.13801889706327863
       ],
       "encoder": "json",
       "name": "Coefficients",
       "version": 1
      }
     },
     "metadata": {
      "scrapbook": {
       "data": true,
       "display": false,
       "name": "Coefficients"
      }
     },
     "output_type": "display_data"
    }
   ],
   "source": [
    "coefficients , y_pred =statsModel.statsModel(X_train,y_train,X_test,y_test)\n",
    "#Store MSE Value \n",
    "sb.glue(\"Coefficients\",coefficients)"
   ]
  },
  {
   "cell_type": "markdown",
   "id": "5a0d12e9",
   "metadata": {
    "papermill": {
     "duration": 0.011409,
     "end_time": "2022-06-22T10:48:39.239276",
     "exception": false,
     "start_time": "2022-06-22T10:48:39.227867",
     "status": "completed"
    },
    "tags": []
   },
   "source": [
    "# Catboost Model "
   ]
  },
  {
   "cell_type": "code",
   "execution_count": 6,
   "id": "fac31f0a",
   "metadata": {
    "execution": {
     "iopub.execute_input": "2022-06-22T10:48:39.276343Z",
     "iopub.status.busy": "2022-06-22T10:48:39.274706Z",
     "iopub.status.idle": "2022-06-22T10:48:40.741516Z",
     "shell.execute_reply": "2022-06-22T10:48:40.742575Z"
    },
    "papermill": {
     "duration": 1.491721,
     "end_time": "2022-06-22T10:48:40.742818",
     "exception": false,
     "start_time": "2022-06-22T10:48:39.251097",
     "status": "completed"
    },
    "tags": []
   },
   "outputs": [
    {
     "name": "stdout",
     "output_type": "stream",
     "text": [
      "Learning rate set to 0.027471\n",
      "0:\tlearn: 1.0548223\ttotal: 52.9ms\tremaining: 52.8s\n",
      "1:\tlearn: 1.0415167\ttotal: 54.1ms\tremaining: 27s\n",
      "2:\tlearn: 1.0290905\ttotal: 55.1ms\tremaining: 18.3s\n",
      "3:\tlearn: 1.0162042\ttotal: 56.1ms\tremaining: 14s\n",
      "4:\tlearn: 1.0020573\ttotal: 56.7ms\tremaining: 11.3s\n",
      "5:\tlearn: 0.9905421\ttotal: 57.4ms\tremaining: 9.51s\n",
      "6:\tlearn: 0.9796671\ttotal: 58.1ms\tremaining: 8.24s\n",
      "7:\tlearn: 0.9671964\ttotal: 58.8ms\tremaining: 7.29s\n",
      "8:\tlearn: 0.9541652\ttotal: 59.5ms\tremaining: 6.55s\n",
      "9:\tlearn: 0.9400659\ttotal: 60.1ms\tremaining: 5.95s\n",
      "10:\tlearn: 0.9311455\ttotal: 60.6ms\tremaining: 5.45s\n",
      "11:\tlearn: 0.9194402\ttotal: 61.1ms\tremaining: 5.03s\n",
      "12:\tlearn: 0.9098837\ttotal: 61.8ms\tremaining: 4.69s\n",
      "13:\tlearn: 0.8984266\ttotal: 62.3ms\tremaining: 4.39s\n",
      "14:\tlearn: 0.8882848\ttotal: 62.8ms\tremaining: 4.13s\n",
      "15:\tlearn: 0.8796875\ttotal: 63.4ms\tremaining: 3.9s\n",
      "16:\tlearn: 0.8694418\ttotal: 63.8ms\tremaining: 3.69s\n",
      "17:\tlearn: 0.8589804\ttotal: 64.3ms\tremaining: 3.51s\n",
      "18:\tlearn: 0.8487816\ttotal: 65.2ms\tremaining: 3.37s\n",
      "19:\tlearn: 0.8397884\ttotal: 66.9ms\tremaining: 3.28s\n",
      "20:\tlearn: 0.8313581\ttotal: 67.4ms\tremaining: 3.14s\n",
      "21:\tlearn: 0.8232720\ttotal: 68.6ms\tremaining: 3.05s\n",
      "22:\tlearn: 0.8139319\ttotal: 69.4ms\tremaining: 2.95s\n",
      "23:\tlearn: 0.8054302\ttotal: 70ms\tremaining: 2.85s\n",
      "24:\tlearn: 0.7975829\ttotal: 70.6ms\tremaining: 2.75s\n",
      "25:\tlearn: 0.7903744\ttotal: 71.1ms\tremaining: 2.67s\n",
      "26:\tlearn: 0.7840493\ttotal: 71.6ms\tremaining: 2.58s\n",
      "27:\tlearn: 0.7744065\ttotal: 72.1ms\tremaining: 2.5s\n",
      "28:\tlearn: 0.7659018\ttotal: 72.4ms\tremaining: 2.42s\n",
      "29:\tlearn: 0.7586739\ttotal: 73ms\tremaining: 2.36s\n",
      "30:\tlearn: 0.7509763\ttotal: 73.6ms\tremaining: 2.3s\n",
      "31:\tlearn: 0.7419904\ttotal: 74.2ms\tremaining: 2.24s\n",
      "32:\tlearn: 0.7363728\ttotal: 74.8ms\tremaining: 2.19s\n",
      "33:\tlearn: 0.7284994\ttotal: 75.4ms\tremaining: 2.14s\n",
      "34:\tlearn: 0.7207549\ttotal: 75.9ms\tremaining: 2.09s\n",
      "35:\tlearn: 0.7148054\ttotal: 76.7ms\tremaining: 2.06s\n",
      "36:\tlearn: 0.7069094\ttotal: 77.3ms\tremaining: 2.01s\n",
      "37:\tlearn: 0.6999686\ttotal: 77.8ms\tremaining: 1.97s\n",
      "38:\tlearn: 0.6955015\ttotal: 78.3ms\tremaining: 1.93s\n",
      "39:\tlearn: 0.6879034\ttotal: 78.6ms\tremaining: 1.89s\n",
      "40:\tlearn: 0.6818653\ttotal: 79.4ms\tremaining: 1.86s\n",
      "41:\tlearn: 0.6757923\ttotal: 80ms\tremaining: 1.82s\n",
      "42:\tlearn: 0.6689433\ttotal: 80.2ms\tremaining: 1.78s\n",
      "43:\tlearn: 0.6635107\ttotal: 80.7ms\tremaining: 1.75s\n",
      "44:\tlearn: 0.6576037\ttotal: 81.3ms\tremaining: 1.72s\n",
      "45:\tlearn: 0.6518824\ttotal: 82ms\tremaining: 1.7s\n",
      "46:\tlearn: 0.6452030\ttotal: 82.7ms\tremaining: 1.68s\n",
      "47:\tlearn: 0.6387445\ttotal: 83.3ms\tremaining: 1.65s\n",
      "48:\tlearn: 0.6325295\ttotal: 83.8ms\tremaining: 1.63s\n",
      "49:\tlearn: 0.6259751\ttotal: 84.3ms\tremaining: 1.6s\n",
      "50:\tlearn: 0.6197441\ttotal: 84.7ms\tremaining: 1.58s\n",
      "51:\tlearn: 0.6142756\ttotal: 85.3ms\tremaining: 1.55s\n",
      "52:\tlearn: 0.6090111\ttotal: 85.8ms\tremaining: 1.53s\n",
      "53:\tlearn: 0.6039538\ttotal: 86.3ms\tremaining: 1.51s\n",
      "54:\tlearn: 0.5989608\ttotal: 86.8ms\tremaining: 1.49s\n",
      "55:\tlearn: 0.5930535\ttotal: 87.4ms\tremaining: 1.47s\n",
      "56:\tlearn: 0.5874090\ttotal: 87.9ms\tremaining: 1.45s\n",
      "57:\tlearn: 0.5819771\ttotal: 88.6ms\tremaining: 1.44s\n",
      "58:\tlearn: 0.5782754\ttotal: 89.1ms\tremaining: 1.42s\n",
      "59:\tlearn: 0.5742157\ttotal: 89.6ms\tremaining: 1.4s\n",
      "60:\tlearn: 0.5703701\ttotal: 90.2ms\tremaining: 1.39s\n",
      "61:\tlearn: 0.5661637\ttotal: 90.7ms\tremaining: 1.37s\n",
      "62:\tlearn: 0.5606566\ttotal: 91.2ms\tremaining: 1.35s\n",
      "63:\tlearn: 0.5555517\ttotal: 91.5ms\tremaining: 1.34s\n",
      "64:\tlearn: 0.5505629\ttotal: 92ms\tremaining: 1.32s\n",
      "65:\tlearn: 0.5457362\ttotal: 92.5ms\tremaining: 1.31s\n",
      "66:\tlearn: 0.5402828\ttotal: 93ms\tremaining: 1.29s\n",
      "67:\tlearn: 0.5343477\ttotal: 93.4ms\tremaining: 1.28s\n",
      "68:\tlearn: 0.5297977\ttotal: 93.8ms\tremaining: 1.27s\n",
      "69:\tlearn: 0.5256605\ttotal: 94.5ms\tremaining: 1.25s\n",
      "70:\tlearn: 0.5207863\ttotal: 95.4ms\tremaining: 1.25s\n",
      "71:\tlearn: 0.5155902\ttotal: 96ms\tremaining: 1.24s\n",
      "72:\tlearn: 0.5105731\ttotal: 96.5ms\tremaining: 1.22s\n",
      "73:\tlearn: 0.5062545\ttotal: 96.8ms\tremaining: 1.21s\n",
      "74:\tlearn: 0.5018470\ttotal: 97.2ms\tremaining: 1.2s\n",
      "75:\tlearn: 0.4983322\ttotal: 97.6ms\tremaining: 1.19s\n",
      "76:\tlearn: 0.4943483\ttotal: 98.1ms\tremaining: 1.18s\n",
      "77:\tlearn: 0.4916850\ttotal: 98.6ms\tremaining: 1.17s\n",
      "78:\tlearn: 0.4882156\ttotal: 99.1ms\tremaining: 1.15s\n",
      "79:\tlearn: 0.4839789\ttotal: 99.5ms\tremaining: 1.14s\n",
      "80:\tlearn: 0.4811978\ttotal: 99.8ms\tremaining: 1.13s\n",
      "81:\tlearn: 0.4775578\ttotal: 100ms\tremaining: 1.12s\n",
      "82:\tlearn: 0.4736328\ttotal: 101ms\tremaining: 1.11s\n",
      "83:\tlearn: 0.4701519\ttotal: 101ms\tremaining: 1.1s\n",
      "84:\tlearn: 0.4668623\ttotal: 102ms\tremaining: 1.09s\n",
      "85:\tlearn: 0.4631795\ttotal: 102ms\tremaining: 1.09s\n",
      "86:\tlearn: 0.4603523\ttotal: 103ms\tremaining: 1.08s\n",
      "87:\tlearn: 0.4565870\ttotal: 103ms\tremaining: 1.07s\n",
      "88:\tlearn: 0.4540034\ttotal: 103ms\tremaining: 1.06s\n"
     ]
    },
    {
     "name": "stdout",
     "output_type": "stream",
     "text": [
      "89:\tlearn: 0.4513663\ttotal: 104ms\tremaining: 1.05s\n",
      "90:\tlearn: 0.4478005\ttotal: 105ms\tremaining: 1.05s\n",
      "91:\tlearn: 0.4439900\ttotal: 105ms\tremaining: 1.04s\n",
      "92:\tlearn: 0.4414170\ttotal: 106ms\tremaining: 1.03s\n",
      "93:\tlearn: 0.4378947\ttotal: 106ms\tremaining: 1.02s\n",
      "94:\tlearn: 0.4340892\ttotal: 107ms\tremaining: 1.02s\n",
      "95:\tlearn: 0.4298659\ttotal: 107ms\tremaining: 1.01s\n",
      "96:\tlearn: 0.4267822\ttotal: 108ms\tremaining: 1s\n",
      "97:\tlearn: 0.4234769\ttotal: 108ms\tremaining: 997ms\n",
      "98:\tlearn: 0.4207223\ttotal: 109ms\tremaining: 993ms\n",
      "99:\tlearn: 0.4178022\ttotal: 110ms\tremaining: 993ms\n",
      "100:\tlearn: 0.4145058\ttotal: 111ms\tremaining: 986ms\n",
      "101:\tlearn: 0.4113934\ttotal: 111ms\tremaining: 981ms\n",
      "102:\tlearn: 0.4085678\ttotal: 112ms\tremaining: 974ms\n",
      "103:\tlearn: 0.4052060\ttotal: 112ms\tremaining: 967ms\n",
      "104:\tlearn: 0.4018683\ttotal: 117ms\tremaining: 994ms\n",
      "105:\tlearn: 0.3993240\ttotal: 117ms\tremaining: 989ms\n",
      "106:\tlearn: 0.3967711\ttotal: 118ms\tremaining: 984ms\n",
      "107:\tlearn: 0.3940950\ttotal: 119ms\tremaining: 983ms\n",
      "108:\tlearn: 0.3910574\ttotal: 120ms\tremaining: 979ms\n",
      "109:\tlearn: 0.3881174\ttotal: 120ms\tremaining: 973ms\n",
      "110:\tlearn: 0.3846284\ttotal: 121ms\tremaining: 968ms\n",
      "111:\tlearn: 0.3824594\ttotal: 122ms\tremaining: 964ms\n",
      "112:\tlearn: 0.3798769\ttotal: 122ms\tremaining: 958ms\n",
      "113:\tlearn: 0.3774080\ttotal: 123ms\tremaining: 953ms\n",
      "114:\tlearn: 0.3748060\ttotal: 123ms\tremaining: 948ms\n",
      "115:\tlearn: 0.3725938\ttotal: 124ms\tremaining: 942ms\n",
      "116:\tlearn: 0.3706026\ttotal: 125ms\tremaining: 942ms\n",
      "117:\tlearn: 0.3689572\ttotal: 126ms\tremaining: 939ms\n",
      "118:\tlearn: 0.3663429\ttotal: 126ms\tremaining: 934ms\n",
      "119:\tlearn: 0.3631774\ttotal: 127ms\tremaining: 931ms\n",
      "120:\tlearn: 0.3611235\ttotal: 127ms\tremaining: 926ms\n",
      "121:\tlearn: 0.3593381\ttotal: 128ms\tremaining: 923ms\n",
      "122:\tlearn: 0.3569616\ttotal: 129ms\tremaining: 922ms\n",
      "123:\tlearn: 0.3547920\ttotal: 130ms\tremaining: 921ms\n",
      "124:\tlearn: 0.3524389\ttotal: 131ms\tremaining: 916ms\n",
      "125:\tlearn: 0.3500078\ttotal: 131ms\tremaining: 912ms\n",
      "126:\tlearn: 0.3482544\ttotal: 132ms\tremaining: 908ms\n",
      "127:\tlearn: 0.3460807\ttotal: 133ms\tremaining: 903ms\n",
      "128:\tlearn: 0.3433459\ttotal: 133ms\tremaining: 899ms\n",
      "129:\tlearn: 0.3413734\ttotal: 134ms\tremaining: 895ms\n",
      "130:\tlearn: 0.3394220\ttotal: 134ms\tremaining: 889ms\n",
      "131:\tlearn: 0.3372116\ttotal: 135ms\tremaining: 885ms\n",
      "132:\tlearn: 0.3346018\ttotal: 136ms\tremaining: 886ms\n",
      "133:\tlearn: 0.3324948\ttotal: 136ms\tremaining: 882ms\n",
      "134:\tlearn: 0.3300584\ttotal: 137ms\tremaining: 878ms\n",
      "135:\tlearn: 0.3286096\ttotal: 138ms\tremaining: 879ms\n",
      "136:\tlearn: 0.3267930\ttotal: 139ms\tremaining: 876ms\n",
      "137:\tlearn: 0.3249474\ttotal: 140ms\tremaining: 872ms\n",
      "138:\tlearn: 0.3229557\ttotal: 140ms\tremaining: 869ms\n",
      "139:\tlearn: 0.3210205\ttotal: 141ms\tremaining: 864ms\n",
      "140:\tlearn: 0.3194343\ttotal: 142ms\tremaining: 867ms\n",
      "141:\tlearn: 0.3178963\ttotal: 143ms\tremaining: 863ms\n",
      "142:\tlearn: 0.3157241\ttotal: 143ms\tremaining: 859ms\n",
      "143:\tlearn: 0.3137014\ttotal: 144ms\tremaining: 859ms\n",
      "144:\tlearn: 0.3120129\ttotal: 145ms\tremaining: 855ms\n",
      "145:\tlearn: 0.3101845\ttotal: 145ms\tremaining: 851ms\n",
      "146:\tlearn: 0.3085219\ttotal: 146ms\tremaining: 847ms\n",
      "147:\tlearn: 0.3064298\ttotal: 147ms\tremaining: 846ms\n",
      "148:\tlearn: 0.3047827\ttotal: 148ms\tremaining: 846ms\n",
      "149:\tlearn: 0.3031056\ttotal: 149ms\tremaining: 844ms\n",
      "150:\tlearn: 0.3017379\ttotal: 150ms\tremaining: 841ms\n",
      "151:\tlearn: 0.2998691\ttotal: 150ms\tremaining: 837ms\n",
      "152:\tlearn: 0.2978653\ttotal: 152ms\tremaining: 839ms\n",
      "153:\tlearn: 0.2959875\ttotal: 152ms\tremaining: 837ms\n",
      "154:\tlearn: 0.2945521\ttotal: 153ms\tremaining: 836ms\n",
      "155:\tlearn: 0.2927951\ttotal: 154ms\tremaining: 833ms\n",
      "156:\tlearn: 0.2910511\ttotal: 155ms\tremaining: 831ms\n",
      "157:\tlearn: 0.2896213\ttotal: 156ms\tremaining: 830ms\n",
      "158:\tlearn: 0.2876700\ttotal: 156ms\tremaining: 827ms\n",
      "159:\tlearn: 0.2861780\ttotal: 157ms\tremaining: 825ms\n"
     ]
    },
    {
     "name": "stdout",
     "output_type": "stream",
     "text": [
      "160:\tlearn: 0.2844181\ttotal: 159ms\tremaining: 830ms\n",
      "161:\tlearn: 0.2828263\ttotal: 167ms\tremaining: 862ms\n",
      "162:\tlearn: 0.2812679\ttotal: 168ms\tremaining: 861ms\n",
      "163:\tlearn: 0.2796464\ttotal: 169ms\tremaining: 861ms\n",
      "164:\tlearn: 0.2785552\ttotal: 170ms\tremaining: 861ms\n",
      "165:\tlearn: 0.2776269\ttotal: 171ms\tremaining: 859ms\n",
      "166:\tlearn: 0.2763982\ttotal: 176ms\tremaining: 878ms\n",
      "167:\tlearn: 0.2746676\ttotal: 178ms\tremaining: 880ms\n",
      "168:\tlearn: 0.2729025\ttotal: 179ms\tremaining: 880ms\n",
      "169:\tlearn: 0.2710801\ttotal: 180ms\tremaining: 879ms\n",
      "170:\tlearn: 0.2696814\ttotal: 181ms\tremaining: 879ms\n",
      "171:\tlearn: 0.2680162\ttotal: 185ms\tremaining: 888ms\n",
      "172:\tlearn: 0.2669543\ttotal: 185ms\tremaining: 885ms\n",
      "173:\tlearn: 0.2650205\ttotal: 190ms\tremaining: 903ms\n",
      "174:\tlearn: 0.2638964\ttotal: 191ms\tremaining: 899ms\n",
      "175:\tlearn: 0.2620890\ttotal: 191ms\tremaining: 896ms\n",
      "176:\tlearn: 0.2608568\ttotal: 192ms\tremaining: 892ms\n",
      "177:\tlearn: 0.2587947\ttotal: 193ms\tremaining: 892ms\n",
      "178:\tlearn: 0.2575947\ttotal: 194ms\tremaining: 889ms\n",
      "179:\tlearn: 0.2566526\ttotal: 194ms\tremaining: 886ms\n",
      "180:\tlearn: 0.2550790\ttotal: 195ms\tremaining: 882ms\n",
      "181:\tlearn: 0.2539259\ttotal: 196ms\tremaining: 879ms\n",
      "182:\tlearn: 0.2526748\ttotal: 196ms\tremaining: 877ms\n",
      "183:\tlearn: 0.2509693\ttotal: 197ms\tremaining: 874ms\n",
      "184:\tlearn: 0.2493085\ttotal: 202ms\tremaining: 889ms\n",
      "185:\tlearn: 0.2476602\ttotal: 202ms\tremaining: 885ms\n",
      "186:\tlearn: 0.2462310\ttotal: 203ms\tremaining: 882ms\n",
      "187:\tlearn: 0.2449165\ttotal: 212ms\tremaining: 916ms\n",
      "188:\tlearn: 0.2434630\ttotal: 228ms\tremaining: 979ms\n",
      "189:\tlearn: 0.2417307\ttotal: 233ms\tremaining: 993ms\n",
      "190:\tlearn: 0.2404502\ttotal: 234ms\tremaining: 989ms\n",
      "191:\tlearn: 0.2392351\ttotal: 234ms\tremaining: 986ms\n",
      "192:\tlearn: 0.2377155\ttotal: 235ms\tremaining: 982ms\n",
      "193:\tlearn: 0.2367052\ttotal: 238ms\tremaining: 987ms\n",
      "194:\tlearn: 0.2354477\ttotal: 238ms\tremaining: 983ms\n",
      "195:\tlearn: 0.2339487\ttotal: 239ms\tremaining: 979ms\n",
      "196:\tlearn: 0.2324572\ttotal: 239ms\tremaining: 975ms\n",
      "197:\tlearn: 0.2309670\ttotal: 246ms\tremaining: 995ms\n"
     ]
    },
    {
     "name": "stdout",
     "output_type": "stream",
     "text": [
      "198:\tlearn: 0.2299580\ttotal: 249ms\tremaining: 1s\n",
      "199:\tlearn: 0.2288431\ttotal: 262ms\tremaining: 1.05s\n",
      "200:\tlearn: 0.2276902\ttotal: 273ms\tremaining: 1.08s\n",
      "201:\tlearn: 0.2263292\ttotal: 281ms\tremaining: 1.11s\n",
      "202:\tlearn: 0.2252948\ttotal: 282ms\tremaining: 1.1s\n",
      "203:\tlearn: 0.2240486\ttotal: 282ms\tremaining: 1.1s\n",
      "204:\tlearn: 0.2226965\ttotal: 283ms\tremaining: 1.1s\n",
      "205:\tlearn: 0.2214151\ttotal: 284ms\tremaining: 1.09s\n",
      "206:\tlearn: 0.2204197\ttotal: 284ms\tremaining: 1.09s\n",
      "207:\tlearn: 0.2195467\ttotal: 285ms\tremaining: 1.08s\n",
      "208:\tlearn: 0.2182499\ttotal: 286ms\tremaining: 1.08s\n",
      "209:\tlearn: 0.2168373\ttotal: 286ms\tremaining: 1.08s\n",
      "210:\tlearn: 0.2157321\ttotal: 287ms\tremaining: 1.07s\n",
      "211:\tlearn: 0.2146157\ttotal: 290ms\tremaining: 1.08s\n",
      "212:\tlearn: 0.2130963\ttotal: 292ms\tremaining: 1.08s\n",
      "213:\tlearn: 0.2118229\ttotal: 294ms\tremaining: 1.08s\n",
      "214:\tlearn: 0.2106852\ttotal: 296ms\tremaining: 1.08s\n",
      "215:\tlearn: 0.2094610\ttotal: 297ms\tremaining: 1.08s\n",
      "216:\tlearn: 0.2083559\ttotal: 297ms\tremaining: 1.07s\n",
      "217:\tlearn: 0.2068755\ttotal: 298ms\tremaining: 1.07s\n"
     ]
    },
    {
     "name": "stdout",
     "output_type": "stream",
     "text": [
      "218:\tlearn: 0.2056516\ttotal: 301ms\tremaining: 1.07s\n",
      "219:\tlearn: 0.2044378\ttotal: 304ms\tremaining: 1.08s\n",
      "220:\tlearn: 0.2034579\ttotal: 305ms\tremaining: 1.07s\n",
      "221:\tlearn: 0.2025039\ttotal: 306ms\tremaining: 1.07s\n",
      "222:\tlearn: 0.2013917\ttotal: 307ms\tremaining: 1.07s\n",
      "223:\tlearn: 0.2005034\ttotal: 307ms\tremaining: 1.06s\n",
      "224:\tlearn: 0.1996763\ttotal: 308ms\tremaining: 1.06s\n",
      "225:\tlearn: 0.1984503\ttotal: 308ms\tremaining: 1.06s\n",
      "226:\tlearn: 0.1972724\ttotal: 310ms\tremaining: 1.05s\n",
      "227:\tlearn: 0.1962334\ttotal: 311ms\tremaining: 1.05s\n",
      "228:\tlearn: 0.1949676\ttotal: 312ms\tremaining: 1.05s\n",
      "229:\tlearn: 0.1939568\ttotal: 312ms\tremaining: 1.04s\n",
      "230:\tlearn: 0.1929726\ttotal: 313ms\tremaining: 1.04s\n",
      "231:\tlearn: 0.1919514\ttotal: 314ms\tremaining: 1.04s\n",
      "232:\tlearn: 0.1907030\ttotal: 315ms\tremaining: 1.04s\n",
      "233:\tlearn: 0.1897242\ttotal: 315ms\tremaining: 1.03s\n",
      "234:\tlearn: 0.1887423\ttotal: 316ms\tremaining: 1.03s\n",
      "235:\tlearn: 0.1876446\ttotal: 318ms\tremaining: 1.03s\n",
      "236:\tlearn: 0.1867417\ttotal: 319ms\tremaining: 1.03s\n",
      "237:\tlearn: 0.1859831\ttotal: 321ms\tremaining: 1.03s\n",
      "238:\tlearn: 0.1850028\ttotal: 321ms\tremaining: 1.02s\n",
      "239:\tlearn: 0.1839160\ttotal: 323ms\tremaining: 1.02s\n",
      "240:\tlearn: 0.1831259\ttotal: 324ms\tremaining: 1.02s\n",
      "241:\tlearn: 0.1819994\ttotal: 324ms\tremaining: 1.02s\n",
      "242:\tlearn: 0.1811197\ttotal: 326ms\tremaining: 1.01s\n",
      "243:\tlearn: 0.1803863\ttotal: 327ms\tremaining: 1.01s\n",
      "244:\tlearn: 0.1791919\ttotal: 328ms\tremaining: 1.01s\n",
      "245:\tlearn: 0.1784337\ttotal: 329ms\tremaining: 1.01s\n",
      "246:\tlearn: 0.1773285\ttotal: 329ms\tremaining: 1s\n",
      "247:\tlearn: 0.1766951\ttotal: 330ms\tremaining: 1000ms\n",
      "248:\tlearn: 0.1758778\ttotal: 332ms\tremaining: 1s\n",
      "249:\tlearn: 0.1750503\ttotal: 333ms\tremaining: 998ms\n",
      "250:\tlearn: 0.1739559\ttotal: 333ms\tremaining: 994ms\n",
      "251:\tlearn: 0.1735751\ttotal: 334ms\tremaining: 990ms\n",
      "252:\tlearn: 0.1726220\ttotal: 334ms\tremaining: 987ms\n",
      "253:\tlearn: 0.1716057\ttotal: 335ms\tremaining: 983ms\n",
      "254:\tlearn: 0.1708083\ttotal: 335ms\tremaining: 979ms\n",
      "255:\tlearn: 0.1700088\ttotal: 336ms\tremaining: 976ms\n",
      "256:\tlearn: 0.1695014\ttotal: 337ms\tremaining: 973ms\n",
      "257:\tlearn: 0.1687752\ttotal: 337ms\tremaining: 969ms\n",
      "258:\tlearn: 0.1681316\ttotal: 341ms\tremaining: 976ms\n",
      "259:\tlearn: 0.1673956\ttotal: 342ms\tremaining: 972ms\n",
      "260:\tlearn: 0.1667284\ttotal: 342ms\tremaining: 969ms\n",
      "261:\tlearn: 0.1662752\ttotal: 343ms\tremaining: 967ms\n",
      "262:\tlearn: 0.1655050\ttotal: 344ms\tremaining: 963ms\n",
      "263:\tlearn: 0.1650310\ttotal: 344ms\tremaining: 960ms\n",
      "264:\tlearn: 0.1643716\ttotal: 347ms\tremaining: 963ms\n",
      "265:\tlearn: 0.1633589\ttotal: 348ms\tremaining: 959ms\n",
      "266:\tlearn: 0.1626783\ttotal: 348ms\tremaining: 956ms\n",
      "267:\tlearn: 0.1622613\ttotal: 349ms\tremaining: 953ms\n",
      "268:\tlearn: 0.1615061\ttotal: 349ms\tremaining: 949ms\n",
      "269:\tlearn: 0.1607576\ttotal: 351ms\tremaining: 948ms\n",
      "270:\tlearn: 0.1600301\ttotal: 351ms\tremaining: 945ms\n",
      "271:\tlearn: 0.1594312\ttotal: 356ms\tremaining: 954ms\n",
      "272:\tlearn: 0.1588891\ttotal: 358ms\tremaining: 953ms\n",
      "273:\tlearn: 0.1583452\ttotal: 359ms\tremaining: 952ms\n",
      "274:\tlearn: 0.1579111\ttotal: 360ms\tremaining: 948ms\n",
      "275:\tlearn: 0.1573802\ttotal: 366ms\tremaining: 959ms\n",
      "276:\tlearn: 0.1566950\ttotal: 367ms\tremaining: 957ms\n",
      "277:\tlearn: 0.1562801\ttotal: 370ms\tremaining: 961ms\n",
      "278:\tlearn: 0.1552889\ttotal: 370ms\tremaining: 957ms\n",
      "279:\tlearn: 0.1548105\ttotal: 371ms\tremaining: 954ms\n",
      "280:\tlearn: 0.1543014\ttotal: 372ms\tremaining: 952ms\n",
      "281:\tlearn: 0.1539264\ttotal: 373ms\tremaining: 949ms\n",
      "282:\tlearn: 0.1530081\ttotal: 373ms\tremaining: 945ms\n",
      "283:\tlearn: 0.1521979\ttotal: 375ms\tremaining: 945ms\n",
      "284:\tlearn: 0.1514217\ttotal: 376ms\tremaining: 943ms\n",
      "285:\tlearn: 0.1511568\ttotal: 378ms\tremaining: 943ms\n",
      "286:\tlearn: 0.1505482\ttotal: 378ms\tremaining: 940ms\n",
      "287:\tlearn: 0.1497945\ttotal: 379ms\tremaining: 936ms\n",
      "288:\tlearn: 0.1493262\ttotal: 379ms\tremaining: 933ms\n",
      "289:\tlearn: 0.1490316\ttotal: 380ms\tremaining: 930ms\n",
      "290:\tlearn: 0.1481074\ttotal: 382ms\tremaining: 932ms\n",
      "291:\tlearn: 0.1477552\ttotal: 383ms\tremaining: 928ms\n",
      "292:\tlearn: 0.1474623\ttotal: 383ms\tremaining: 925ms\n",
      "293:\tlearn: 0.1467483\ttotal: 385ms\tremaining: 925ms\n"
     ]
    },
    {
     "name": "stdout",
     "output_type": "stream",
     "text": [
      "294:\tlearn: 0.1461803\ttotal: 386ms\tremaining: 924ms\n",
      "295:\tlearn: 0.1458744\ttotal: 387ms\tremaining: 921ms\n",
      "296:\tlearn: 0.1452440\ttotal: 388ms\tremaining: 919ms\n",
      "297:\tlearn: 0.1442815\ttotal: 389ms\tremaining: 915ms\n",
      "298:\tlearn: 0.1440167\ttotal: 389ms\tremaining: 912ms\n",
      "299:\tlearn: 0.1430871\ttotal: 390ms\tremaining: 909ms\n",
      "300:\tlearn: 0.1422574\ttotal: 393ms\tremaining: 912ms\n",
      "301:\tlearn: 0.1414497\ttotal: 393ms\tremaining: 909ms\n",
      "302:\tlearn: 0.1410338\ttotal: 394ms\tremaining: 906ms\n",
      "303:\tlearn: 0.1405734\ttotal: 394ms\tremaining: 903ms\n",
      "304:\tlearn: 0.1396748\ttotal: 395ms\tremaining: 900ms\n",
      "305:\tlearn: 0.1390960\ttotal: 396ms\tremaining: 898ms\n",
      "306:\tlearn: 0.1386843\ttotal: 398ms\tremaining: 899ms\n",
      "307:\tlearn: 0.1383856\ttotal: 399ms\tremaining: 897ms\n",
      "308:\tlearn: 0.1381470\ttotal: 400ms\tremaining: 894ms\n",
      "309:\tlearn: 0.1373832\ttotal: 400ms\tremaining: 891ms\n",
      "310:\tlearn: 0.1366383\ttotal: 401ms\tremaining: 889ms\n",
      "311:\tlearn: 0.1359555\ttotal: 402ms\tremaining: 886ms\n",
      "312:\tlearn: 0.1357201\ttotal: 402ms\tremaining: 883ms\n",
      "313:\tlearn: 0.1351591\ttotal: 403ms\tremaining: 880ms\n",
      "314:\tlearn: 0.1349271\ttotal: 405ms\tremaining: 880ms\n",
      "315:\tlearn: 0.1340926\ttotal: 405ms\tremaining: 877ms\n",
      "316:\tlearn: 0.1333797\ttotal: 406ms\tremaining: 874ms\n",
      "317:\tlearn: 0.1331573\ttotal: 406ms\tremaining: 871ms\n",
      "318:\tlearn: 0.1327813\ttotal: 407ms\tremaining: 868ms\n",
      "319:\tlearn: 0.1321207\ttotal: 408ms\tremaining: 867ms\n",
      "320:\tlearn: 0.1319082\ttotal: 409ms\tremaining: 864ms\n",
      "321:\tlearn: 0.1315497\ttotal: 410ms\tremaining: 864ms\n",
      "322:\tlearn: 0.1308614\ttotal: 412ms\tremaining: 863ms\n",
      "323:\tlearn: 0.1306606\ttotal: 412ms\tremaining: 861ms\n",
      "324:\tlearn: 0.1302602\ttotal: 413ms\tremaining: 858ms\n",
      "325:\tlearn: 0.1296315\ttotal: 414ms\tremaining: 855ms\n",
      "326:\tlearn: 0.1294382\ttotal: 414ms\tremaining: 852ms\n",
      "327:\tlearn: 0.1287706\ttotal: 414ms\tremaining: 849ms\n",
      "328:\tlearn: 0.1285866\ttotal: 415ms\tremaining: 847ms\n",
      "329:\tlearn: 0.1283956\ttotal: 417ms\tremaining: 846ms\n",
      "330:\tlearn: 0.1277942\ttotal: 417ms\tremaining: 843ms\n",
      "331:\tlearn: 0.1270212\ttotal: 419ms\tremaining: 844ms\n",
      "332:\tlearn: 0.1268478\ttotal: 420ms\tremaining: 841ms\n",
      "333:\tlearn: 0.1261784\ttotal: 432ms\tremaining: 862ms\n"
     ]
    },
    {
     "name": "stdout",
     "output_type": "stream",
     "text": [
      "334:\tlearn: 0.1255490\ttotal: 495ms\tremaining: 983ms\n",
      "335:\tlearn: 0.1249762\ttotal: 496ms\tremaining: 980ms\n",
      "336:\tlearn: 0.1242386\ttotal: 496ms\tremaining: 977ms\n",
      "337:\tlearn: 0.1240583\ttotal: 497ms\tremaining: 973ms\n",
      "338:\tlearn: 0.1238844\ttotal: 497ms\tremaining: 970ms\n",
      "339:\tlearn: 0.1232698\ttotal: 504ms\tremaining: 979ms\n",
      "340:\tlearn: 0.1225367\ttotal: 507ms\tremaining: 981ms\n",
      "341:\tlearn: 0.1218820\ttotal: 509ms\tremaining: 979ms\n",
      "342:\tlearn: 0.1211749\ttotal: 510ms\tremaining: 977ms\n",
      "343:\tlearn: 0.1205869\ttotal: 511ms\tremaining: 974ms\n",
      "344:\tlearn: 0.1198968\ttotal: 512ms\tremaining: 971ms\n",
      "345:\tlearn: 0.1190893\ttotal: 512ms\tremaining: 969ms\n",
      "346:\tlearn: 0.1182974\ttotal: 514ms\tremaining: 967ms\n",
      "347:\tlearn: 0.1176267\ttotal: 515ms\tremaining: 964ms\n",
      "348:\tlearn: 0.1168564\ttotal: 515ms\tremaining: 961ms\n",
      "349:\tlearn: 0.1160709\ttotal: 516ms\tremaining: 958ms\n",
      "350:\tlearn: 0.1153277\ttotal: 516ms\tremaining: 954ms\n",
      "351:\tlearn: 0.1145990\ttotal: 517ms\tremaining: 951ms\n",
      "352:\tlearn: 0.1136939\ttotal: 517ms\tremaining: 948ms\n",
      "353:\tlearn: 0.1128966\ttotal: 518ms\tremaining: 946ms\n",
      "354:\tlearn: 0.1122837\ttotal: 519ms\tremaining: 944ms\n",
      "355:\tlearn: 0.1117705\ttotal: 521ms\tremaining: 942ms\n",
      "356:\tlearn: 0.1110033\ttotal: 521ms\tremaining: 939ms\n",
      "357:\tlearn: 0.1104106\ttotal: 522ms\tremaining: 936ms\n",
      "358:\tlearn: 0.1096727\ttotal: 523ms\tremaining: 933ms\n",
      "359:\tlearn: 0.1088199\ttotal: 523ms\tremaining: 930ms\n",
      "360:\tlearn: 0.1081052\ttotal: 524ms\tremaining: 928ms\n",
      "361:\tlearn: 0.1073864\ttotal: 527ms\tremaining: 928ms\n",
      "362:\tlearn: 0.1072260\ttotal: 527ms\tremaining: 925ms\n",
      "363:\tlearn: 0.1066612\ttotal: 528ms\tremaining: 922ms\n",
      "364:\tlearn: 0.1065048\ttotal: 530ms\tremaining: 922ms\n",
      "365:\tlearn: 0.1059123\ttotal: 530ms\tremaining: 919ms\n",
      "366:\tlearn: 0.1052311\ttotal: 532ms\tremaining: 917ms\n",
      "367:\tlearn: 0.1045798\ttotal: 534ms\tremaining: 916ms\n",
      "368:\tlearn: 0.1037925\ttotal: 534ms\tremaining: 913ms\n",
      "369:\tlearn: 0.1034672\ttotal: 535ms\tremaining: 910ms\n",
      "370:\tlearn: 0.1033152\ttotal: 535ms\tremaining: 907ms\n",
      "371:\tlearn: 0.1029382\ttotal: 536ms\tremaining: 905ms\n",
      "372:\tlearn: 0.1022733\ttotal: 538ms\tremaining: 904ms\n",
      "373:\tlearn: 0.1017331\ttotal: 539ms\tremaining: 903ms\n",
      "374:\tlearn: 0.1014228\ttotal: 540ms\tremaining: 900ms\n",
      "375:\tlearn: 0.1008954\ttotal: 541ms\tremaining: 898ms\n",
      "376:\tlearn: 0.1007497\ttotal: 542ms\tremaining: 895ms\n",
      "377:\tlearn: 0.1001332\ttotal: 542ms\tremaining: 892ms\n",
      "378:\tlearn: 0.0995566\ttotal: 543ms\tremaining: 889ms\n",
      "379:\tlearn: 0.0994145\ttotal: 543ms\tremaining: 886ms\n",
      "380:\tlearn: 0.0991218\ttotal: 545ms\tremaining: 885ms\n",
      "381:\tlearn: 0.0986087\ttotal: 545ms\tremaining: 882ms\n",
      "382:\tlearn: 0.0984726\ttotal: 546ms\tremaining: 879ms\n",
      "383:\tlearn: 0.0978527\ttotal: 546ms\tremaining: 876ms\n",
      "384:\tlearn: 0.0977193\ttotal: 547ms\tremaining: 873ms\n",
      "385:\tlearn: 0.0975880\ttotal: 547ms\tremaining: 871ms\n",
      "386:\tlearn: 0.0973002\ttotal: 548ms\tremaining: 869ms\n"
     ]
    },
    {
     "name": "stdout",
     "output_type": "stream",
     "text": [
      "387:\tlearn: 0.0971724\ttotal: 549ms\tremaining: 866ms\n",
      "388:\tlearn: 0.0968935\ttotal: 552ms\tremaining: 867ms\n",
      "389:\tlearn: 0.0966219\ttotal: 552ms\tremaining: 864ms\n",
      "390:\tlearn: 0.0960613\ttotal: 553ms\tremaining: 861ms\n",
      "391:\tlearn: 0.0958466\ttotal: 554ms\tremaining: 859ms\n",
      "392:\tlearn: 0.0952902\ttotal: 554ms\tremaining: 856ms\n",
      "393:\tlearn: 0.0950973\ttotal: 555ms\tremaining: 853ms\n",
      "394:\tlearn: 0.0945202\ttotal: 556ms\tremaining: 852ms\n",
      "395:\tlearn: 0.0943349\ttotal: 557ms\tremaining: 850ms\n",
      "396:\tlearn: 0.0941550\ttotal: 558ms\tremaining: 848ms\n",
      "397:\tlearn: 0.0936142\ttotal: 559ms\tremaining: 845ms\n",
      "398:\tlearn: 0.0930904\ttotal: 559ms\tremaining: 843ms\n",
      "399:\tlearn: 0.0929166\ttotal: 560ms\tremaining: 840ms\n",
      "400:\tlearn: 0.0923726\ttotal: 560ms\tremaining: 837ms\n",
      "401:\tlearn: 0.0922150\ttotal: 561ms\tremaining: 834ms\n",
      "402:\tlearn: 0.0917513\ttotal: 561ms\tremaining: 831ms\n",
      "403:\tlearn: 0.0912780\ttotal: 562ms\tremaining: 828ms\n",
      "404:\tlearn: 0.0908310\ttotal: 562ms\tremaining: 826ms\n",
      "405:\tlearn: 0.0903549\ttotal: 563ms\tremaining: 823ms\n",
      "406:\tlearn: 0.0899229\ttotal: 564ms\tremaining: 821ms\n",
      "407:\tlearn: 0.0895695\ttotal: 564ms\tremaining: 818ms\n",
      "408:\tlearn: 0.0893718\ttotal: 565ms\tremaining: 816ms\n",
      "409:\tlearn: 0.0889566\ttotal: 566ms\tremaining: 814ms\n",
      "410:\tlearn: 0.0886159\ttotal: 566ms\tremaining: 811ms\n",
      "411:\tlearn: 0.0884264\ttotal: 567ms\tremaining: 809ms\n",
      "412:\tlearn: 0.0883424\ttotal: 568ms\tremaining: 807ms\n",
      "413:\tlearn: 0.0879863\ttotal: 569ms\tremaining: 805ms\n",
      "414:\tlearn: 0.0876688\ttotal: 571ms\tremaining: 804ms\n",
      "415:\tlearn: 0.0873366\ttotal: 571ms\tremaining: 802ms\n",
      "416:\tlearn: 0.0870229\ttotal: 572ms\tremaining: 799ms\n",
      "417:\tlearn: 0.0868332\ttotal: 572ms\tremaining: 797ms\n",
      "418:\tlearn: 0.0865091\ttotal: 573ms\tremaining: 794ms\n",
      "419:\tlearn: 0.0862274\ttotal: 573ms\tremaining: 791ms\n",
      "420:\tlearn: 0.0858902\ttotal: 573ms\tremaining: 789ms\n",
      "421:\tlearn: 0.0855234\ttotal: 574ms\tremaining: 786ms\n",
      "422:\tlearn: 0.0851846\ttotal: 574ms\tremaining: 784ms\n",
      "423:\tlearn: 0.0849622\ttotal: 575ms\tremaining: 781ms\n",
      "424:\tlearn: 0.0845273\ttotal: 575ms\tremaining: 779ms\n",
      "425:\tlearn: 0.0841981\ttotal: 578ms\tremaining: 779ms\n",
      "426:\tlearn: 0.0840006\ttotal: 579ms\tremaining: 777ms\n",
      "427:\tlearn: 0.0836913\ttotal: 580ms\tremaining: 775ms\n",
      "428:\tlearn: 0.0835116\ttotal: 580ms\tremaining: 773ms\n",
      "429:\tlearn: 0.0830859\ttotal: 581ms\tremaining: 770ms\n",
      "430:\tlearn: 0.0827904\ttotal: 582ms\tremaining: 768ms\n",
      "431:\tlearn: 0.0824766\ttotal: 582ms\tremaining: 765ms\n",
      "432:\tlearn: 0.0821760\ttotal: 582ms\tremaining: 763ms\n",
      "433:\tlearn: 0.0818608\ttotal: 585ms\tremaining: 762ms\n",
      "434:\tlearn: 0.0816671\ttotal: 586ms\tremaining: 761ms\n",
      "435:\tlearn: 0.0814072\ttotal: 586ms\tremaining: 758ms\n",
      "436:\tlearn: 0.0812091\ttotal: 587ms\tremaining: 756ms\n",
      "437:\tlearn: 0.0809538\ttotal: 587ms\tremaining: 753ms\n",
      "438:\tlearn: 0.0807835\ttotal: 587ms\tremaining: 751ms\n",
      "439:\tlearn: 0.0805329\ttotal: 588ms\tremaining: 748ms\n",
      "440:\tlearn: 0.0802334\ttotal: 588ms\tremaining: 746ms\n",
      "441:\tlearn: 0.0800413\ttotal: 589ms\tremaining: 743ms\n",
      "442:\tlearn: 0.0797487\ttotal: 589ms\tremaining: 741ms\n",
      "443:\tlearn: 0.0793550\ttotal: 590ms\tremaining: 739ms\n",
      "444:\tlearn: 0.0792303\ttotal: 591ms\tremaining: 737ms\n",
      "445:\tlearn: 0.0791037\ttotal: 592ms\tremaining: 736ms\n",
      "446:\tlearn: 0.0788612\ttotal: 593ms\tremaining: 733ms\n",
      "447:\tlearn: 0.0787950\ttotal: 593ms\tremaining: 731ms\n",
      "448:\tlearn: 0.0786763\ttotal: 594ms\tremaining: 729ms\n",
      "449:\tlearn: 0.0784386\ttotal: 594ms\tremaining: 726ms\n",
      "450:\tlearn: 0.0783736\ttotal: 595ms\tremaining: 724ms\n",
      "451:\tlearn: 0.0782918\ttotal: 595ms\tremaining: 721ms\n",
      "452:\tlearn: 0.0780591\ttotal: 595ms\tremaining: 719ms\n",
      "453:\tlearn: 0.0779398\ttotal: 597ms\tremaining: 718ms\n",
      "454:\tlearn: 0.0778770\ttotal: 597ms\tremaining: 715ms\n",
      "455:\tlearn: 0.0776487\ttotal: 598ms\tremaining: 713ms\n",
      "456:\tlearn: 0.0773550\ttotal: 599ms\tremaining: 711ms\n",
      "457:\tlearn: 0.0770037\ttotal: 599ms\tremaining: 709ms\n",
      "458:\tlearn: 0.0766608\ttotal: 600ms\tremaining: 707ms\n",
      "459:\tlearn: 0.0764871\ttotal: 600ms\tremaining: 704ms\n",
      "460:\tlearn: 0.0762624\ttotal: 601ms\tremaining: 702ms\n",
      "461:\tlearn: 0.0762018\ttotal: 601ms\tremaining: 700ms\n",
      "462:\tlearn: 0.0761117\ttotal: 601ms\tremaining: 698ms\n",
      "463:\tlearn: 0.0758046\ttotal: 603ms\tremaining: 697ms\n",
      "464:\tlearn: 0.0754599\ttotal: 604ms\tremaining: 695ms\n",
      "465:\tlearn: 0.0751831\ttotal: 604ms\tremaining: 693ms\n",
      "466:\tlearn: 0.0749139\ttotal: 605ms\tremaining: 691ms\n",
      "467:\tlearn: 0.0745556\ttotal: 606ms\tremaining: 689ms\n",
      "468:\tlearn: 0.0743868\ttotal: 606ms\tremaining: 687ms\n",
      "469:\tlearn: 0.0742360\ttotal: 607ms\tremaining: 684ms\n",
      "470:\tlearn: 0.0740129\ttotal: 607ms\tremaining: 682ms\n",
      "471:\tlearn: 0.0736723\ttotal: 608ms\tremaining: 680ms\n",
      "472:\tlearn: 0.0734536\ttotal: 609ms\tremaining: 678ms\n",
      "473:\tlearn: 0.0731737\ttotal: 610ms\tremaining: 676ms\n",
      "474:\tlearn: 0.0727915\ttotal: 610ms\tremaining: 674ms\n",
      "475:\tlearn: 0.0726308\ttotal: 610ms\tremaining: 672ms\n",
      "476:\tlearn: 0.0723839\ttotal: 611ms\tremaining: 670ms\n",
      "477:\tlearn: 0.0721694\ttotal: 612ms\tremaining: 668ms\n",
      "478:\tlearn: 0.0718896\ttotal: 613ms\tremaining: 666ms\n",
      "479:\tlearn: 0.0716501\ttotal: 613ms\tremaining: 664ms\n",
      "480:\tlearn: 0.0713977\ttotal: 614ms\tremaining: 662ms\n",
      "481:\tlearn: 0.0709267\ttotal: 614ms\tremaining: 660ms\n",
      "482:\tlearn: 0.0704657\ttotal: 615ms\tremaining: 659ms\n",
      "483:\tlearn: 0.0702203\ttotal: 616ms\tremaining: 657ms\n",
      "484:\tlearn: 0.0700643\ttotal: 616ms\tremaining: 655ms\n",
      "485:\tlearn: 0.0697828\ttotal: 617ms\tremaining: 653ms\n",
      "486:\tlearn: 0.0694735\ttotal: 618ms\tremaining: 651ms\n",
      "487:\tlearn: 0.0693855\ttotal: 618ms\tremaining: 649ms\n",
      "488:\tlearn: 0.0691243\ttotal: 619ms\tremaining: 647ms\n",
      "489:\tlearn: 0.0688874\ttotal: 620ms\tremaining: 645ms\n",
      "490:\tlearn: 0.0687418\ttotal: 620ms\tremaining: 643ms\n",
      "491:\tlearn: 0.0686173\ttotal: 621ms\tremaining: 641ms\n",
      "492:\tlearn: 0.0683873\ttotal: 621ms\tremaining: 639ms\n",
      "493:\tlearn: 0.0680910\ttotal: 622ms\tremaining: 637ms\n",
      "494:\tlearn: 0.0678727\ttotal: 624ms\tremaining: 636ms\n",
      "495:\tlearn: 0.0676476\ttotal: 624ms\tremaining: 634ms\n",
      "496:\tlearn: 0.0674016\ttotal: 625ms\tremaining: 632ms\n",
      "497:\tlearn: 0.0673166\ttotal: 625ms\tremaining: 630ms\n",
      "498:\tlearn: 0.0672329\ttotal: 626ms\tremaining: 628ms\n",
      "499:\tlearn: 0.0669749\ttotal: 626ms\tremaining: 626ms\n",
      "500:\tlearn: 0.0667649\ttotal: 627ms\tremaining: 624ms\n",
      "501:\tlearn: 0.0665141\ttotal: 627ms\tremaining: 622ms\n",
      "502:\tlearn: 0.0663165\ttotal: 630ms\tremaining: 623ms\n",
      "503:\tlearn: 0.0660924\ttotal: 631ms\tremaining: 621ms\n",
      "504:\tlearn: 0.0658759\ttotal: 632ms\tremaining: 620ms\n",
      "505:\tlearn: 0.0656412\ttotal: 633ms\tremaining: 618ms\n",
      "506:\tlearn: 0.0653750\ttotal: 633ms\tremaining: 616ms\n",
      "507:\tlearn: 0.0651587\ttotal: 634ms\tremaining: 614ms\n",
      "508:\tlearn: 0.0649025\ttotal: 635ms\tremaining: 612ms\n",
      "509:\tlearn: 0.0648217\ttotal: 636ms\tremaining: 611ms\n",
      "510:\tlearn: 0.0646160\ttotal: 636ms\tremaining: 609ms\n",
      "511:\tlearn: 0.0643771\ttotal: 639ms\tremaining: 609ms\n",
      "512:\tlearn: 0.0641690\ttotal: 639ms\tremaining: 607ms\n",
      "513:\tlearn: 0.0639646\ttotal: 640ms\tremaining: 605ms\n",
      "514:\tlearn: 0.0637579\ttotal: 641ms\tremaining: 603ms\n",
      "515:\tlearn: 0.0635572\ttotal: 641ms\tremaining: 601ms\n",
      "516:\tlearn: 0.0634239\ttotal: 642ms\tremaining: 600ms\n",
      "517:\tlearn: 0.0633467\ttotal: 643ms\tremaining: 598ms\n",
      "518:\tlearn: 0.0631500\ttotal: 644ms\tremaining: 596ms\n",
      "519:\tlearn: 0.0630336\ttotal: 644ms\tremaining: 595ms\n",
      "520:\tlearn: 0.0628235\ttotal: 645ms\tremaining: 593ms\n",
      "521:\tlearn: 0.0627256\ttotal: 645ms\tremaining: 591ms\n",
      "522:\tlearn: 0.0625090\ttotal: 646ms\tremaining: 589ms\n",
      "523:\tlearn: 0.0624177\ttotal: 647ms\tremaining: 587ms\n",
      "524:\tlearn: 0.0622282\ttotal: 647ms\tremaining: 586ms\n",
      "525:\tlearn: 0.0620458\ttotal: 648ms\tremaining: 584ms\n",
      "526:\tlearn: 0.0616691\ttotal: 649ms\tremaining: 582ms\n",
      "527:\tlearn: 0.0614842\ttotal: 649ms\tremaining: 581ms\n",
      "528:\tlearn: 0.0612789\ttotal: 650ms\tremaining: 579ms\n",
      "529:\tlearn: 0.0610779\ttotal: 650ms\tremaining: 577ms\n",
      "530:\tlearn: 0.0606446\ttotal: 651ms\tremaining: 575ms\n"
     ]
    },
    {
     "name": "stdout",
     "output_type": "stream",
     "text": [
      "531:\tlearn: 0.0604493\ttotal: 652ms\tremaining: 573ms\n",
      "532:\tlearn: 0.0600278\ttotal: 654ms\tremaining: 573ms\n",
      "533:\tlearn: 0.0598552\ttotal: 655ms\tremaining: 571ms\n",
      "534:\tlearn: 0.0596684\ttotal: 655ms\tremaining: 569ms\n",
      "535:\tlearn: 0.0592595\ttotal: 655ms\tremaining: 567ms\n",
      "536:\tlearn: 0.0590781\ttotal: 656ms\tremaining: 566ms\n",
      "537:\tlearn: 0.0589084\ttotal: 657ms\tremaining: 564ms\n",
      "538:\tlearn: 0.0585419\ttotal: 658ms\tremaining: 563ms\n",
      "539:\tlearn: 0.0583082\ttotal: 658ms\tremaining: 561ms\n",
      "540:\tlearn: 0.0581987\ttotal: 659ms\tremaining: 559ms\n",
      "541:\tlearn: 0.0578082\ttotal: 660ms\tremaining: 558ms\n",
      "542:\tlearn: 0.0576441\ttotal: 661ms\tremaining: 556ms\n",
      "543:\tlearn: 0.0574737\ttotal: 661ms\tremaining: 554ms\n",
      "544:\tlearn: 0.0571240\ttotal: 663ms\tremaining: 554ms\n",
      "545:\tlearn: 0.0569046\ttotal: 664ms\tremaining: 552ms\n",
      "546:\tlearn: 0.0567974\ttotal: 664ms\tremaining: 550ms\n",
      "547:\tlearn: 0.0564530\ttotal: 665ms\tremaining: 548ms\n",
      "548:\tlearn: 0.0563482\ttotal: 665ms\tremaining: 546ms\n",
      "549:\tlearn: 0.0559764\ttotal: 666ms\tremaining: 545ms\n",
      "550:\tlearn: 0.0558200\ttotal: 666ms\tremaining: 543ms\n",
      "551:\tlearn: 0.0556468\ttotal: 667ms\tremaining: 542ms\n",
      "552:\tlearn: 0.0553152\ttotal: 668ms\tremaining: 540ms\n",
      "553:\tlearn: 0.0551697\ttotal: 668ms\tremaining: 538ms\n",
      "554:\tlearn: 0.0549839\ttotal: 669ms\tremaining: 536ms\n",
      "555:\tlearn: 0.0547991\ttotal: 669ms\tremaining: 534ms\n",
      "556:\tlearn: 0.0544397\ttotal: 670ms\tremaining: 533ms\n",
      "557:\tlearn: 0.0543413\ttotal: 671ms\tremaining: 531ms\n",
      "558:\tlearn: 0.0539884\ttotal: 672ms\tremaining: 530ms\n",
      "559:\tlearn: 0.0538218\ttotal: 672ms\tremaining: 528ms\n",
      "560:\tlearn: 0.0535089\ttotal: 673ms\tremaining: 527ms\n",
      "561:\tlearn: 0.0533578\ttotal: 674ms\tremaining: 525ms\n",
      "562:\tlearn: 0.0530137\ttotal: 674ms\tremaining: 523ms\n",
      "563:\tlearn: 0.0528616\ttotal: 675ms\tremaining: 522ms\n",
      "564:\tlearn: 0.0526877\ttotal: 675ms\tremaining: 520ms\n",
      "565:\tlearn: 0.0523521\ttotal: 677ms\tremaining: 519ms\n",
      "566:\tlearn: 0.0520241\ttotal: 677ms\tremaining: 517ms\n",
      "567:\tlearn: 0.0518677\ttotal: 678ms\tremaining: 516ms\n",
      "568:\tlearn: 0.0517127\ttotal: 678ms\tremaining: 514ms\n",
      "569:\tlearn: 0.0513951\ttotal: 679ms\tremaining: 512ms\n",
      "570:\tlearn: 0.0512554\ttotal: 679ms\tremaining: 510ms\n",
      "571:\tlearn: 0.0509678\ttotal: 680ms\tremaining: 509ms\n",
      "572:\tlearn: 0.0508224\ttotal: 681ms\tremaining: 507ms\n",
      "573:\tlearn: 0.0505365\ttotal: 681ms\tremaining: 506ms\n",
      "574:\tlearn: 0.0504455\ttotal: 682ms\tremaining: 504ms\n",
      "575:\tlearn: 0.0501362\ttotal: 682ms\tremaining: 502ms\n",
      "576:\tlearn: 0.0500157\ttotal: 683ms\tremaining: 501ms\n",
      "577:\tlearn: 0.0498813\ttotal: 683ms\tremaining: 499ms\n",
      "578:\tlearn: 0.0496033\ttotal: 684ms\tremaining: 497ms\n",
      "579:\tlearn: 0.0495019\ttotal: 685ms\tremaining: 496ms\n",
      "580:\tlearn: 0.0493232\ttotal: 686ms\tremaining: 494ms\n",
      "581:\tlearn: 0.0492349\ttotal: 686ms\tremaining: 493ms\n",
      "582:\tlearn: 0.0489635\ttotal: 687ms\tremaining: 491ms\n",
      "583:\tlearn: 0.0488070\ttotal: 688ms\tremaining: 490ms\n",
      "584:\tlearn: 0.0487211\ttotal: 688ms\tremaining: 488ms\n",
      "585:\tlearn: 0.0484576\ttotal: 689ms\tremaining: 487ms\n",
      "586:\tlearn: 0.0482670\ttotal: 689ms\tremaining: 485ms\n",
      "587:\tlearn: 0.0481276\ttotal: 690ms\tremaining: 483ms\n",
      "588:\tlearn: 0.0478687\ttotal: 690ms\tremaining: 482ms\n",
      "589:\tlearn: 0.0476660\ttotal: 692ms\tremaining: 481ms\n",
      "590:\tlearn: 0.0475170\ttotal: 692ms\tremaining: 479ms\n",
      "591:\tlearn: 0.0472660\ttotal: 693ms\tremaining: 478ms\n",
      "592:\tlearn: 0.0471263\ttotal: 693ms\tremaining: 476ms\n",
      "593:\tlearn: 0.0468805\ttotal: 694ms\tremaining: 474ms\n",
      "594:\tlearn: 0.0466855\ttotal: 694ms\tremaining: 473ms\n",
      "595:\tlearn: 0.0465507\ttotal: 695ms\tremaining: 471ms\n",
      "596:\tlearn: 0.0464706\ttotal: 695ms\tremaining: 469ms\n",
      "597:\tlearn: 0.0462293\ttotal: 696ms\tremaining: 468ms\n",
      "598:\tlearn: 0.0460974\ttotal: 696ms\tremaining: 466ms\n",
      "599:\tlearn: 0.0458622\ttotal: 697ms\tremaining: 464ms\n",
      "600:\tlearn: 0.0456833\ttotal: 697ms\tremaining: 463ms\n",
      "601:\tlearn: 0.0455117\ttotal: 698ms\tremaining: 461ms\n",
      "602:\tlearn: 0.0453828\ttotal: 698ms\tremaining: 460ms\n",
      "603:\tlearn: 0.0452081\ttotal: 700ms\tremaining: 459ms\n",
      "604:\tlearn: 0.0450491\ttotal: 700ms\tremaining: 457ms\n",
      "605:\tlearn: 0.0449506\ttotal: 701ms\tremaining: 456ms\n",
      "606:\tlearn: 0.0448233\ttotal: 701ms\tremaining: 454ms\n",
      "607:\tlearn: 0.0447061\ttotal: 701ms\tremaining: 452ms\n",
      "608:\tlearn: 0.0446270\ttotal: 702ms\tremaining: 451ms\n",
      "609:\tlearn: 0.0445034\ttotal: 702ms\tremaining: 449ms\n",
      "610:\tlearn: 0.0442774\ttotal: 703ms\tremaining: 447ms\n",
      "611:\tlearn: 0.0441104\ttotal: 703ms\tremaining: 446ms\n",
      "612:\tlearn: 0.0439410\ttotal: 703ms\tremaining: 444ms\n",
      "613:\tlearn: 0.0438277\ttotal: 704ms\tremaining: 443ms\n",
      "614:\tlearn: 0.0437087\ttotal: 705ms\tremaining: 442ms\n",
      "615:\tlearn: 0.0435754\ttotal: 706ms\tremaining: 440ms\n",
      "616:\tlearn: 0.0433564\ttotal: 706ms\tremaining: 438ms\n",
      "617:\tlearn: 0.0432371\ttotal: 707ms\tremaining: 437ms\n",
      "618:\tlearn: 0.0430222\ttotal: 707ms\tremaining: 435ms\n",
      "619:\tlearn: 0.0429065\ttotal: 708ms\tremaining: 434ms\n",
      "620:\tlearn: 0.0428153\ttotal: 708ms\tremaining: 432ms\n",
      "621:\tlearn: 0.0426052\ttotal: 708ms\tremaining: 431ms\n",
      "622:\tlearn: 0.0424449\ttotal: 709ms\tremaining: 429ms\n",
      "623:\tlearn: 0.0423580\ttotal: 709ms\tremaining: 427ms\n",
      "624:\tlearn: 0.0422103\ttotal: 710ms\tremaining: 426ms\n"
     ]
    },
    {
     "name": "stdout",
     "output_type": "stream",
     "text": [
      "625:\tlearn: 0.0420043\ttotal: 712ms\tremaining: 425ms\n",
      "626:\tlearn: 0.0419357\ttotal: 713ms\tremaining: 424ms\n",
      "627:\tlearn: 0.0418210\ttotal: 713ms\tremaining: 423ms\n",
      "628:\tlearn: 0.0415858\ttotal: 714ms\tremaining: 421ms\n",
      "629:\tlearn: 0.0413873\ttotal: 714ms\tremaining: 419ms\n",
      "630:\tlearn: 0.0412455\ttotal: 715ms\tremaining: 418ms\n",
      "631:\tlearn: 0.0410509\ttotal: 715ms\tremaining: 416ms\n",
      "632:\tlearn: 0.0409688\ttotal: 717ms\tremaining: 415ms\n",
      "633:\tlearn: 0.0408225\ttotal: 717ms\tremaining: 414ms\n",
      "634:\tlearn: 0.0406756\ttotal: 717ms\tremaining: 412ms\n",
      "635:\tlearn: 0.0406099\ttotal: 718ms\tremaining: 411ms\n",
      "636:\tlearn: 0.0404640\ttotal: 719ms\tremaining: 410ms\n",
      "637:\tlearn: 0.0404001\ttotal: 720ms\tremaining: 408ms\n",
      "638:\tlearn: 0.0402627\ttotal: 720ms\tremaining: 407ms\n",
      "639:\tlearn: 0.0401599\ttotal: 720ms\tremaining: 405ms\n",
      "640:\tlearn: 0.0400735\ttotal: 721ms\tremaining: 404ms\n",
      "641:\tlearn: 0.0398852\ttotal: 721ms\tremaining: 402ms\n",
      "642:\tlearn: 0.0398232\ttotal: 722ms\tremaining: 401ms\n",
      "643:\tlearn: 0.0396902\ttotal: 722ms\tremaining: 399ms\n",
      "644:\tlearn: 0.0394733\ttotal: 723ms\tremaining: 398ms\n",
      "645:\tlearn: 0.0392906\ttotal: 723ms\tremaining: 396ms\n",
      "646:\tlearn: 0.0390857\ttotal: 725ms\tremaining: 396ms\n",
      "647:\tlearn: 0.0390010\ttotal: 726ms\tremaining: 394ms\n",
      "648:\tlearn: 0.0389049\ttotal: 726ms\tremaining: 393ms\n",
      "649:\tlearn: 0.0387058\ttotal: 727ms\tremaining: 391ms\n",
      "650:\tlearn: 0.0385742\ttotal: 727ms\tremaining: 390ms\n",
      "651:\tlearn: 0.0385154\ttotal: 727ms\tremaining: 388ms\n",
      "652:\tlearn: 0.0383812\ttotal: 728ms\tremaining: 387ms\n",
      "653:\tlearn: 0.0383165\ttotal: 728ms\tremaining: 385ms\n",
      "654:\tlearn: 0.0382590\ttotal: 729ms\tremaining: 384ms\n",
      "655:\tlearn: 0.0381245\ttotal: 729ms\tremaining: 382ms\n",
      "656:\tlearn: 0.0379482\ttotal: 730ms\tremaining: 381ms\n",
      "657:\tlearn: 0.0378850\ttotal: 731ms\tremaining: 380ms\n",
      "658:\tlearn: 0.0378292\ttotal: 731ms\tremaining: 378ms\n",
      "659:\tlearn: 0.0376525\ttotal: 732ms\tremaining: 377ms\n",
      "660:\tlearn: 0.0375979\ttotal: 732ms\tremaining: 375ms\n",
      "661:\tlearn: 0.0374678\ttotal: 733ms\tremaining: 374ms\n",
      "662:\tlearn: 0.0374160\ttotal: 733ms\tremaining: 373ms\n",
      "663:\tlearn: 0.0372888\ttotal: 733ms\tremaining: 371ms\n",
      "664:\tlearn: 0.0371176\ttotal: 734ms\tremaining: 370ms\n",
      "665:\tlearn: 0.0369906\ttotal: 734ms\tremaining: 368ms\n",
      "666:\tlearn: 0.0369439\ttotal: 735ms\tremaining: 367ms\n",
      "667:\tlearn: 0.0368917\ttotal: 735ms\tremaining: 365ms\n",
      "668:\tlearn: 0.0367002\ttotal: 736ms\tremaining: 364ms\n",
      "669:\tlearn: 0.0365742\ttotal: 736ms\tremaining: 363ms\n",
      "670:\tlearn: 0.0364519\ttotal: 737ms\tremaining: 361ms\n",
      "671:\tlearn: 0.0362733\ttotal: 738ms\tremaining: 360ms\n",
      "672:\tlearn: 0.0362215\ttotal: 738ms\tremaining: 359ms\n",
      "673:\tlearn: 0.0360631\ttotal: 739ms\tremaining: 357ms\n",
      "674:\tlearn: 0.0359403\ttotal: 739ms\tremaining: 356ms\n",
      "675:\tlearn: 0.0357785\ttotal: 740ms\tremaining: 354ms\n",
      "676:\tlearn: 0.0357278\ttotal: 740ms\tremaining: 353ms\n",
      "677:\tlearn: 0.0356784\ttotal: 740ms\tremaining: 352ms\n",
      "678:\tlearn: 0.0355588\ttotal: 742ms\tremaining: 351ms\n",
      "679:\tlearn: 0.0354409\ttotal: 743ms\tremaining: 349ms\n",
      "680:\tlearn: 0.0353935\ttotal: 743ms\tremaining: 348ms\n",
      "681:\tlearn: 0.0352771\ttotal: 744ms\tremaining: 347ms\n",
      "682:\tlearn: 0.0351598\ttotal: 744ms\tremaining: 345ms\n",
      "683:\tlearn: 0.0350085\ttotal: 744ms\tremaining: 344ms\n",
      "684:\tlearn: 0.0348993\ttotal: 745ms\tremaining: 343ms\n",
      "685:\tlearn: 0.0347936\ttotal: 745ms\tremaining: 341ms\n",
      "686:\tlearn: 0.0347587\ttotal: 746ms\tremaining: 340ms\n",
      "687:\tlearn: 0.0346451\ttotal: 746ms\tremaining: 338ms\n",
      "688:\tlearn: 0.0345176\ttotal: 746ms\tremaining: 337ms\n",
      "689:\tlearn: 0.0344148\ttotal: 747ms\tremaining: 336ms\n",
      "690:\tlearn: 0.0343038\ttotal: 747ms\tremaining: 334ms\n",
      "691:\tlearn: 0.0341902\ttotal: 748ms\tremaining: 333ms\n",
      "692:\tlearn: 0.0339892\ttotal: 748ms\tremaining: 331ms\n",
      "693:\tlearn: 0.0339258\ttotal: 748ms\tremaining: 330ms\n",
      "694:\tlearn: 0.0337317\ttotal: 751ms\tremaining: 329ms\n",
      "695:\tlearn: 0.0336698\ttotal: 751ms\tremaining: 328ms\n",
      "696:\tlearn: 0.0334812\ttotal: 752ms\tremaining: 327ms\n",
      "697:\tlearn: 0.0332625\ttotal: 752ms\tremaining: 325ms\n",
      "698:\tlearn: 0.0330739\ttotal: 752ms\tremaining: 324ms\n",
      "699:\tlearn: 0.0330141\ttotal: 753ms\tremaining: 323ms\n",
      "700:\tlearn: 0.0329047\ttotal: 753ms\tremaining: 321ms\n",
      "701:\tlearn: 0.0327893\ttotal: 753ms\tremaining: 320ms\n",
      "702:\tlearn: 0.0326076\ttotal: 754ms\tremaining: 319ms\n",
      "703:\tlearn: 0.0324834\ttotal: 757ms\tremaining: 318ms\n",
      "704:\tlearn: 0.0323652\ttotal: 757ms\tremaining: 317ms\n",
      "705:\tlearn: 0.0323080\ttotal: 758ms\tremaining: 316ms\n",
      "706:\tlearn: 0.0321886\ttotal: 758ms\tremaining: 314ms\n",
      "707:\tlearn: 0.0320151\ttotal: 759ms\tremaining: 313ms\n",
      "708:\tlearn: 0.0319005\ttotal: 759ms\tremaining: 312ms\n",
      "709:\tlearn: 0.0317888\ttotal: 759ms\tremaining: 310ms\n",
      "710:\tlearn: 0.0316843\ttotal: 760ms\tremaining: 309ms\n",
      "711:\tlearn: 0.0315740\ttotal: 760ms\tremaining: 308ms\n",
      "712:\tlearn: 0.0314943\ttotal: 761ms\tremaining: 306ms\n",
      "713:\tlearn: 0.0313294\ttotal: 761ms\tremaining: 305ms\n",
      "714:\tlearn: 0.0312318\ttotal: 762ms\tremaining: 304ms\n",
      "715:\tlearn: 0.0311540\ttotal: 763ms\tremaining: 303ms\n",
      "716:\tlearn: 0.0309941\ttotal: 763ms\tremaining: 301ms\n",
      "717:\tlearn: 0.0309633\ttotal: 764ms\tremaining: 300ms\n",
      "718:\tlearn: 0.0308886\ttotal: 764ms\tremaining: 299ms\n",
      "719:\tlearn: 0.0308123\ttotal: 765ms\tremaining: 297ms\n",
      "720:\tlearn: 0.0306523\ttotal: 765ms\tremaining: 296ms\n",
      "721:\tlearn: 0.0305770\ttotal: 765ms\tremaining: 295ms\n",
      "722:\tlearn: 0.0304770\ttotal: 766ms\tremaining: 293ms\n",
      "723:\tlearn: 0.0304028\ttotal: 766ms\tremaining: 292ms\n",
      "724:\tlearn: 0.0303320\ttotal: 767ms\tremaining: 291ms\n",
      "725:\tlearn: 0.0301730\ttotal: 769ms\tremaining: 290ms\n",
      "726:\tlearn: 0.0301231\ttotal: 770ms\tremaining: 289ms\n",
      "727:\tlearn: 0.0300505\ttotal: 771ms\tremaining: 288ms\n",
      "728:\tlearn: 0.0300017\ttotal: 772ms\tremaining: 287ms\n",
      "729:\tlearn: 0.0299302\ttotal: 772ms\tremaining: 286ms\n",
      "730:\tlearn: 0.0298014\ttotal: 773ms\tremaining: 284ms\n",
      "731:\tlearn: 0.0296496\ttotal: 774ms\tremaining: 283ms\n",
      "732:\tlearn: 0.0294866\ttotal: 774ms\tremaining: 282ms\n",
      "733:\tlearn: 0.0294395\ttotal: 776ms\tremaining: 281ms\n",
      "734:\tlearn: 0.0293704\ttotal: 776ms\tremaining: 280ms\n",
      "735:\tlearn: 0.0292266\ttotal: 777ms\tremaining: 279ms\n",
      "736:\tlearn: 0.0291758\ttotal: 777ms\tremaining: 277ms\n",
      "737:\tlearn: 0.0291080\ttotal: 778ms\tremaining: 276ms\n",
      "738:\tlearn: 0.0290630\ttotal: 778ms\tremaining: 275ms\n",
      "739:\tlearn: 0.0289148\ttotal: 779ms\tremaining: 274ms\n",
      "740:\tlearn: 0.0288480\ttotal: 779ms\tremaining: 272ms\n",
      "741:\tlearn: 0.0287184\ttotal: 780ms\tremaining: 271ms\n",
      "742:\tlearn: 0.0285705\ttotal: 780ms\tremaining: 270ms\n",
      "743:\tlearn: 0.0284558\ttotal: 781ms\tremaining: 269ms\n",
      "744:\tlearn: 0.0283902\ttotal: 781ms\tremaining: 267ms\n",
      "745:\tlearn: 0.0283409\ttotal: 783ms\tremaining: 266ms\n",
      "746:\tlearn: 0.0282765\ttotal: 783ms\tremaining: 265ms\n",
      "747:\tlearn: 0.0282033\ttotal: 784ms\tremaining: 264ms\n",
      "748:\tlearn: 0.0281568\ttotal: 784ms\tremaining: 263ms\n",
      "749:\tlearn: 0.0280934\ttotal: 785ms\tremaining: 262ms\n",
      "750:\tlearn: 0.0280139\ttotal: 786ms\tremaining: 261ms\n",
      "751:\tlearn: 0.0279032\ttotal: 787ms\tremaining: 260ms\n",
      "752:\tlearn: 0.0278405\ttotal: 788ms\tremaining: 258ms\n",
      "753:\tlearn: 0.0277922\ttotal: 788ms\tremaining: 257ms\n",
      "754:\tlearn: 0.0277304\ttotal: 788ms\tremaining: 256ms\n",
      "755:\tlearn: 0.0276232\ttotal: 789ms\tremaining: 255ms\n",
      "756:\tlearn: 0.0275622\ttotal: 790ms\tremaining: 253ms\n",
      "757:\tlearn: 0.0274395\ttotal: 790ms\tremaining: 252ms\n",
      "758:\tlearn: 0.0273922\ttotal: 793ms\tremaining: 252ms\n",
      "759:\tlearn: 0.0273457\ttotal: 793ms\tremaining: 250ms\n",
      "760:\tlearn: 0.0273001\ttotal: 794ms\tremaining: 249ms\n",
      "761:\tlearn: 0.0272063\ttotal: 795ms\tremaining: 248ms\n",
      "762:\tlearn: 0.0271467\ttotal: 796ms\tremaining: 247ms\n",
      "763:\tlearn: 0.0270879\ttotal: 797ms\tremaining: 246ms\n",
      "764:\tlearn: 0.0270039\ttotal: 798ms\tremaining: 245ms\n",
      "765:\tlearn: 0.0269564\ttotal: 799ms\tremaining: 244ms\n",
      "766:\tlearn: 0.0268985\ttotal: 799ms\tremaining: 243ms\n",
      "767:\tlearn: 0.0268088\ttotal: 801ms\tremaining: 242ms\n",
      "768:\tlearn: 0.0267518\ttotal: 801ms\tremaining: 241ms\n",
      "769:\tlearn: 0.0267079\ttotal: 802ms\tremaining: 239ms\n",
      "770:\tlearn: 0.0266585\ttotal: 803ms\tremaining: 238ms\n",
      "771:\tlearn: 0.0266154\ttotal: 803ms\tremaining: 237ms\n",
      "772:\tlearn: 0.0265597\ttotal: 805ms\tremaining: 236ms\n",
      "773:\tlearn: 0.0264777\ttotal: 806ms\tremaining: 235ms\n",
      "774:\tlearn: 0.0263909\ttotal: 806ms\tremaining: 234ms\n"
     ]
    },
    {
     "name": "stdout",
     "output_type": "stream",
     "text": [
      "775:\tlearn: 0.0262911\ttotal: 807ms\tremaining: 233ms\n",
      "776:\tlearn: 0.0262366\ttotal: 807ms\tremaining: 232ms\n",
      "777:\tlearn: 0.0261950\ttotal: 808ms\tremaining: 231ms\n",
      "778:\tlearn: 0.0261415\ttotal: 811ms\tremaining: 230ms\n",
      "779:\tlearn: 0.0260949\ttotal: 812ms\tremaining: 229ms\n",
      "780:\tlearn: 0.0260543\ttotal: 813ms\tremaining: 228ms\n",
      "781:\tlearn: 0.0260077\ttotal: 813ms\tremaining: 227ms\n",
      "782:\tlearn: 0.0259677\ttotal: 814ms\tremaining: 226ms\n",
      "783:\tlearn: 0.0258898\ttotal: 814ms\tremaining: 224ms\n",
      "784:\tlearn: 0.0258291\ttotal: 815ms\tremaining: 223ms\n",
      "785:\tlearn: 0.0257900\ttotal: 816ms\tremaining: 222ms\n",
      "786:\tlearn: 0.0257516\ttotal: 817ms\tremaining: 221ms\n",
      "787:\tlearn: 0.0256758\ttotal: 818ms\tremaining: 220ms\n",
      "788:\tlearn: 0.0256015\ttotal: 818ms\tremaining: 219ms\n",
      "789:\tlearn: 0.0255406\ttotal: 819ms\tremaining: 218ms\n",
      "790:\tlearn: 0.0254774\ttotal: 820ms\tremaining: 217ms\n",
      "791:\tlearn: 0.0254295\ttotal: 823ms\tremaining: 216ms\n",
      "792:\tlearn: 0.0253870\ttotal: 823ms\tremaining: 215ms\n",
      "793:\tlearn: 0.0253118\ttotal: 824ms\tremaining: 214ms\n",
      "794:\tlearn: 0.0252607\ttotal: 825ms\tremaining: 213ms\n",
      "795:\tlearn: 0.0252241\ttotal: 826ms\tremaining: 212ms\n",
      "796:\tlearn: 0.0251524\ttotal: 826ms\tremaining: 211ms\n",
      "797:\tlearn: 0.0250784\ttotal: 827ms\tremaining: 209ms\n",
      "798:\tlearn: 0.0250065\ttotal: 828ms\tremaining: 208ms\n",
      "799:\tlearn: 0.0249647\ttotal: 828ms\tremaining: 207ms\n",
      "800:\tlearn: 0.0248271\ttotal: 829ms\tremaining: 206ms\n",
      "801:\tlearn: 0.0247567\ttotal: 830ms\tremaining: 205ms\n",
      "802:\tlearn: 0.0247155\ttotal: 831ms\tremaining: 204ms\n",
      "803:\tlearn: 0.0246463\ttotal: 832ms\tremaining: 203ms\n",
      "804:\tlearn: 0.0245743\ttotal: 833ms\tremaining: 202ms\n",
      "805:\tlearn: 0.0244407\ttotal: 834ms\tremaining: 201ms\n",
      "806:\tlearn: 0.0243729\ttotal: 834ms\tremaining: 200ms\n",
      "807:\tlearn: 0.0243326\ttotal: 835ms\tremaining: 198ms\n",
      "808:\tlearn: 0.0242024\ttotal: 836ms\tremaining: 197ms\n",
      "809:\tlearn: 0.0241629\ttotal: 837ms\tremaining: 196ms\n",
      "810:\tlearn: 0.0240964\ttotal: 837ms\tremaining: 195ms\n",
      "811:\tlearn: 0.0240539\ttotal: 838ms\tremaining: 194ms\n",
      "812:\tlearn: 0.0239884\ttotal: 838ms\tremaining: 193ms\n",
      "813:\tlearn: 0.0238620\ttotal: 839ms\tremaining: 192ms\n",
      "814:\tlearn: 0.0238203\ttotal: 840ms\tremaining: 191ms\n",
      "815:\tlearn: 0.0237561\ttotal: 841ms\tremaining: 190ms\n",
      "816:\tlearn: 0.0236640\ttotal: 841ms\tremaining: 188ms\n",
      "817:\tlearn: 0.0236228\ttotal: 842ms\tremaining: 187ms\n",
      "818:\tlearn: 0.0235597\ttotal: 843ms\tremaining: 186ms\n",
      "819:\tlearn: 0.0234617\ttotal: 844ms\tremaining: 185ms\n",
      "820:\tlearn: 0.0234212\ttotal: 844ms\tremaining: 184ms\n",
      "821:\tlearn: 0.0233592\ttotal: 844ms\tremaining: 183ms\n",
      "822:\tlearn: 0.0232694\ttotal: 845ms\tremaining: 182ms\n",
      "823:\tlearn: 0.0232188\ttotal: 846ms\tremaining: 181ms\n",
      "824:\tlearn: 0.0231235\ttotal: 847ms\tremaining: 180ms\n",
      "825:\tlearn: 0.0230311\ttotal: 847ms\tremaining: 178ms\n",
      "826:\tlearn: 0.0229436\ttotal: 848ms\tremaining: 177ms\n",
      "827:\tlearn: 0.0229103\ttotal: 848ms\tremaining: 176ms\n",
      "828:\tlearn: 0.0228490\ttotal: 849ms\tremaining: 175ms\n",
      "829:\tlearn: 0.0227887\ttotal: 849ms\tremaining: 174ms\n",
      "830:\tlearn: 0.0227495\ttotal: 851ms\tremaining: 173ms\n",
      "831:\tlearn: 0.0226898\ttotal: 852ms\tremaining: 172ms\n",
      "832:\tlearn: 0.0226001\ttotal: 853ms\tremaining: 171ms\n",
      "833:\tlearn: 0.0225348\ttotal: 853ms\tremaining: 170ms\n",
      "834:\tlearn: 0.0224966\ttotal: 854ms\tremaining: 169ms\n",
      "835:\tlearn: 0.0224123\ttotal: 854ms\tremaining: 168ms\n",
      "836:\tlearn: 0.0223251\ttotal: 855ms\tremaining: 166ms\n",
      "837:\tlearn: 0.0222584\ttotal: 856ms\tremaining: 165ms\n",
      "838:\tlearn: 0.0222256\ttotal: 856ms\tremaining: 164ms\n",
      "839:\tlearn: 0.0221602\ttotal: 857ms\tremaining: 163ms\n",
      "840:\tlearn: 0.0221279\ttotal: 857ms\tremaining: 162ms\n",
      "841:\tlearn: 0.0220909\ttotal: 858ms\tremaining: 161ms\n",
      "842:\tlearn: 0.0220322\ttotal: 860ms\tremaining: 160ms\n"
     ]
    },
    {
     "name": "stdout",
     "output_type": "stream",
     "text": [
      "843:\tlearn: 0.0219106\ttotal: 862ms\tremaining: 159ms\n",
      "844:\tlearn: 0.0218730\ttotal: 862ms\tremaining: 158ms\n",
      "845:\tlearn: 0.0218361\ttotal: 863ms\tremaining: 157ms\n",
      "846:\tlearn: 0.0217898\ttotal: 866ms\tremaining: 156ms\n",
      "847:\tlearn: 0.0217085\ttotal: 866ms\tremaining: 155ms\n",
      "848:\tlearn: 0.0216285\ttotal: 867ms\tremaining: 154ms\n",
      "849:\tlearn: 0.0215827\ttotal: 867ms\tremaining: 153ms\n",
      "850:\tlearn: 0.0215258\ttotal: 870ms\tremaining: 152ms\n",
      "851:\tlearn: 0.0214905\ttotal: 870ms\tremaining: 151ms\n",
      "852:\tlearn: 0.0213994\ttotal: 872ms\tremaining: 150ms\n",
      "853:\tlearn: 0.0213179\ttotal: 872ms\tremaining: 149ms\n",
      "854:\tlearn: 0.0212563\ttotal: 874ms\tremaining: 148ms\n",
      "855:\tlearn: 0.0212252\ttotal: 875ms\tremaining: 147ms\n",
      "856:\tlearn: 0.0211902\ttotal: 875ms\tremaining: 146ms\n",
      "857:\tlearn: 0.0211110\ttotal: 878ms\tremaining: 145ms\n",
      "858:\tlearn: 0.0210508\ttotal: 878ms\tremaining: 144ms\n",
      "859:\tlearn: 0.0210168\ttotal: 879ms\tremaining: 143ms\n",
      "860:\tlearn: 0.0209833\ttotal: 879ms\tremaining: 142ms\n",
      "861:\tlearn: 0.0209388\ttotal: 879ms\tremaining: 141ms\n",
      "862:\tlearn: 0.0209058\ttotal: 880ms\tremaining: 140ms\n",
      "863:\tlearn: 0.0208619\ttotal: 880ms\tremaining: 139ms\n",
      "864:\tlearn: 0.0208294\ttotal: 881ms\tremaining: 138ms\n",
      "865:\tlearn: 0.0207866\ttotal: 882ms\tremaining: 136ms\n",
      "866:\tlearn: 0.0207548\ttotal: 882ms\tremaining: 135ms\n",
      "867:\tlearn: 0.0207113\ttotal: 883ms\tremaining: 134ms\n",
      "868:\tlearn: 0.0206522\ttotal: 883ms\tremaining: 133ms\n",
      "869:\tlearn: 0.0206208\ttotal: 883ms\tremaining: 132ms\n",
      "870:\tlearn: 0.0205778\ttotal: 884ms\tremaining: 131ms\n",
      "871:\tlearn: 0.0205469\ttotal: 884ms\tremaining: 130ms\n",
      "872:\tlearn: 0.0205054\ttotal: 886ms\tremaining: 129ms\n",
      "873:\tlearn: 0.0204375\ttotal: 886ms\tremaining: 128ms\n",
      "874:\tlearn: 0.0203968\ttotal: 887ms\tremaining: 127ms\n",
      "875:\tlearn: 0.0203305\ttotal: 887ms\tremaining: 126ms\n",
      "876:\tlearn: 0.0202561\ttotal: 888ms\tremaining: 124ms\n",
      "877:\tlearn: 0.0202271\ttotal: 889ms\tremaining: 124ms\n",
      "878:\tlearn: 0.0201624\ttotal: 893ms\tremaining: 123ms\n",
      "879:\tlearn: 0.0201340\ttotal: 895ms\tremaining: 122ms\n",
      "880:\tlearn: 0.0200780\ttotal: 895ms\tremaining: 121ms\n",
      "881:\tlearn: 0.0200353\ttotal: 896ms\tremaining: 120ms\n",
      "882:\tlearn: 0.0199704\ttotal: 897ms\tremaining: 119ms\n",
      "883:\tlearn: 0.0199077\ttotal: 898ms\tremaining: 118ms\n",
      "884:\tlearn: 0.0198661\ttotal: 901ms\tremaining: 117ms\n",
      "885:\tlearn: 0.0198028\ttotal: 902ms\tremaining: 116ms\n",
      "886:\tlearn: 0.0197659\ttotal: 904ms\tremaining: 115ms\n",
      "887:\tlearn: 0.0196779\ttotal: 904ms\tremaining: 114ms\n",
      "888:\tlearn: 0.0196243\ttotal: 905ms\tremaining: 113ms\n",
      "889:\tlearn: 0.0195524\ttotal: 905ms\tremaining: 112ms\n",
      "890:\tlearn: 0.0195111\ttotal: 906ms\tremaining: 111ms\n",
      "891:\tlearn: 0.0194443\ttotal: 906ms\tremaining: 110ms\n",
      "892:\tlearn: 0.0194043\ttotal: 907ms\tremaining: 109ms\n",
      "893:\tlearn: 0.0193669\ttotal: 907ms\tremaining: 108ms\n",
      "894:\tlearn: 0.0193059\ttotal: 934ms\tremaining: 110ms\n",
      "895:\tlearn: 0.0192515\ttotal: 934ms\tremaining: 108ms\n",
      "896:\tlearn: 0.0192082\ttotal: 935ms\tremaining: 107ms\n",
      "897:\tlearn: 0.0191435\ttotal: 935ms\tremaining: 106ms\n",
      "898:\tlearn: 0.0190913\ttotal: 936ms\tremaining: 105ms\n",
      "899:\tlearn: 0.0189942\ttotal: 936ms\tremaining: 104ms\n",
      "900:\tlearn: 0.0189435\ttotal: 937ms\tremaining: 103ms\n",
      "901:\tlearn: 0.0188608\ttotal: 937ms\tremaining: 102ms\n"
     ]
    },
    {
     "name": "stdout",
     "output_type": "stream",
     "text": [
      "902:\tlearn: 0.0187678\ttotal: 938ms\tremaining: 101ms\n",
      "903:\tlearn: 0.0187408\ttotal: 938ms\tremaining: 99.6ms\n",
      "904:\tlearn: 0.0187143\ttotal: 939ms\tremaining: 98.5ms\n",
      "905:\tlearn: 0.0186774\ttotal: 939ms\tremaining: 97.4ms\n",
      "906:\tlearn: 0.0185979\ttotal: 940ms\tremaining: 96.3ms\n",
      "907:\tlearn: 0.0185486\ttotal: 942ms\tremaining: 95.5ms\n",
      "908:\tlearn: 0.0184712\ttotal: 943ms\tremaining: 94.4ms\n",
      "909:\tlearn: 0.0184203\ttotal: 943ms\tremaining: 93.3ms\n",
      "910:\tlearn: 0.0183682\ttotal: 944ms\tremaining: 92.2ms\n",
      "911:\tlearn: 0.0183421\ttotal: 944ms\tremaining: 91.1ms\n",
      "912:\tlearn: 0.0183068\ttotal: 945ms\tremaining: 90ms\n",
      "913:\tlearn: 0.0182798\ttotal: 945ms\tremaining: 88.9ms\n",
      "914:\tlearn: 0.0182460\ttotal: 946ms\tremaining: 87.8ms\n",
      "915:\tlearn: 0.0182068\ttotal: 946ms\tremaining: 86.8ms\n",
      "916:\tlearn: 0.0181595\ttotal: 950ms\tremaining: 86ms\n",
      "917:\tlearn: 0.0180846\ttotal: 952ms\tremaining: 85ms\n",
      "918:\tlearn: 0.0180462\ttotal: 954ms\tremaining: 84.1ms\n",
      "919:\tlearn: 0.0180182\ttotal: 963ms\tremaining: 83.8ms\n",
      "920:\tlearn: 0.0179802\ttotal: 964ms\tremaining: 82.7ms\n",
      "921:\tlearn: 0.0179361\ttotal: 965ms\tremaining: 81.6ms\n",
      "922:\tlearn: 0.0178987\ttotal: 965ms\tremaining: 80.5ms\n",
      "923:\tlearn: 0.0178729\ttotal: 966ms\tremaining: 79.4ms\n",
      "924:\tlearn: 0.0178133\ttotal: 966ms\tremaining: 78.3ms\n",
      "925:\tlearn: 0.0177879\ttotal: 968ms\tremaining: 77.4ms\n",
      "926:\tlearn: 0.0177154\ttotal: 969ms\tremaining: 76.3ms\n",
      "927:\tlearn: 0.0177002\ttotal: 969ms\tremaining: 75.2ms\n",
      "928:\tlearn: 0.0176544\ttotal: 970ms\tremaining: 74.1ms\n",
      "929:\tlearn: 0.0175716\ttotal: 970ms\tremaining: 73ms\n",
      "930:\tlearn: 0.0175351\ttotal: 971ms\tremaining: 72ms\n",
      "931:\tlearn: 0.0174611\ttotal: 972ms\tremaining: 70.9ms\n",
      "932:\tlearn: 0.0174246\ttotal: 972ms\tremaining: 69.8ms\n",
      "933:\tlearn: 0.0173755\ttotal: 973ms\tremaining: 68.7ms\n",
      "934:\tlearn: 0.0173397\ttotal: 973ms\tremaining: 67.6ms\n",
      "935:\tlearn: 0.0173082\ttotal: 975ms\tremaining: 66.7ms\n",
      "936:\tlearn: 0.0172729\ttotal: 975ms\tremaining: 65.6ms\n",
      "937:\tlearn: 0.0172215\ttotal: 976ms\tremaining: 64.5ms\n",
      "938:\tlearn: 0.0171867\ttotal: 976ms\tremaining: 63.4ms\n",
      "939:\tlearn: 0.0171430\ttotal: 977ms\tremaining: 62.3ms\n",
      "940:\tlearn: 0.0171180\ttotal: 978ms\tremaining: 61.3ms\n",
      "941:\tlearn: 0.0170934\ttotal: 978ms\tremaining: 60.2ms\n",
      "942:\tlearn: 0.0170590\ttotal: 979ms\tremaining: 59.2ms\n",
      "943:\tlearn: 0.0170116\ttotal: 981ms\tremaining: 58.2ms\n",
      "944:\tlearn: 0.0169456\ttotal: 982ms\tremaining: 57.1ms\n",
      "945:\tlearn: 0.0169216\ttotal: 982ms\tremaining: 56.1ms\n"
     ]
    },
    {
     "name": "stdout",
     "output_type": "stream",
     "text": [
      "946:\tlearn: 0.0168794\ttotal: 983ms\tremaining: 55ms\n",
      "947:\tlearn: 0.0168461\ttotal: 983ms\tremaining: 53.9ms\n",
      "948:\tlearn: 0.0168227\ttotal: 984ms\tremaining: 52.9ms\n",
      "949:\tlearn: 0.0167889\ttotal: 986ms\tremaining: 51.9ms\n",
      "950:\tlearn: 0.0167658\ttotal: 986ms\tremaining: 50.8ms\n",
      "951:\tlearn: 0.0166993\ttotal: 987ms\tremaining: 49.7ms\n",
      "952:\tlearn: 0.0166359\ttotal: 987ms\tremaining: 48.7ms\n",
      "953:\tlearn: 0.0165742\ttotal: 988ms\tremaining: 47.6ms\n",
      "954:\tlearn: 0.0165384\ttotal: 988ms\tremaining: 46.6ms\n",
      "955:\tlearn: 0.0165158\ttotal: 989ms\tremaining: 45.5ms\n",
      "956:\tlearn: 0.0164531\ttotal: 989ms\tremaining: 44.4ms\n",
      "957:\tlearn: 0.0164283\ttotal: 989ms\tremaining: 43.4ms\n",
      "958:\tlearn: 0.0164039\ttotal: 990ms\tremaining: 42.3ms\n",
      "959:\tlearn: 0.0163712\ttotal: 990ms\tremaining: 41.3ms\n",
      "960:\tlearn: 0.0163369\ttotal: 991ms\tremaining: 40.2ms\n",
      "961:\tlearn: 0.0162684\ttotal: 991ms\tremaining: 39.2ms\n",
      "962:\tlearn: 0.0162331\ttotal: 992ms\tremaining: 38.1ms\n",
      "963:\tlearn: 0.0162088\ttotal: 992ms\tremaining: 37.1ms\n",
      "964:\tlearn: 0.0161822\ttotal: 993ms\tremaining: 36ms\n",
      "965:\tlearn: 0.0161501\ttotal: 993ms\tremaining: 35ms\n",
      "966:\tlearn: 0.0161371\ttotal: 994ms\tremaining: 33.9ms\n",
      "967:\tlearn: 0.0161053\ttotal: 994ms\tremaining: 32.9ms\n",
      "968:\tlearn: 0.0160423\ttotal: 996ms\tremaining: 31.9ms\n",
      "969:\tlearn: 0.0160111\ttotal: 997ms\tremaining: 30.8ms\n",
      "970:\tlearn: 0.0159944\ttotal: 997ms\tremaining: 29.8ms\n",
      "971:\tlearn: 0.0159637\ttotal: 997ms\tremaining: 28.7ms\n",
      "972:\tlearn: 0.0159510\ttotal: 998ms\tremaining: 27.7ms\n",
      "973:\tlearn: 0.0158856\ttotal: 999ms\tremaining: 26.7ms\n",
      "974:\tlearn: 0.0158518\ttotal: 999ms\tremaining: 25.6ms\n",
      "975:\tlearn: 0.0158216\ttotal: 1s\tremaining: 24.6ms\n",
      "976:\tlearn: 0.0158091\ttotal: 1s\tremaining: 23.6ms\n",
      "977:\tlearn: 0.0157793\ttotal: 1s\tremaining: 22.6ms\n",
      "978:\tlearn: 0.0157192\ttotal: 1s\tremaining: 21.5ms\n",
      "979:\tlearn: 0.0157069\ttotal: 1.01s\tremaining: 20.7ms\n",
      "980:\tlearn: 0.0156777\ttotal: 1.01s\tremaining: 19.7ms\n",
      "981:\tlearn: 0.0156294\ttotal: 1.02s\tremaining: 18.6ms\n",
      "982:\tlearn: 0.0156005\ttotal: 1.02s\tremaining: 17.6ms\n",
      "983:\tlearn: 0.0155883\ttotal: 1.02s\tremaining: 16.6ms\n",
      "984:\tlearn: 0.0155598\ttotal: 1.02s\tremaining: 15.5ms\n",
      "985:\tlearn: 0.0154981\ttotal: 1.02s\tremaining: 14.5ms\n",
      "986:\tlearn: 0.0154861\ttotal: 1.02s\tremaining: 13.4ms\n",
      "987:\tlearn: 0.0154460\ttotal: 1.02s\tremaining: 12.4ms\n",
      "988:\tlearn: 0.0154181\ttotal: 1.02s\tremaining: 11.4ms\n",
      "989:\tlearn: 0.0153907\ttotal: 1.02s\tremaining: 10.3ms\n",
      "990:\tlearn: 0.0153753\ttotal: 1.02s\tremaining: 9.3ms\n",
      "991:\tlearn: 0.0153374\ttotal: 1.02s\tremaining: 8.26ms\n",
      "992:\tlearn: 0.0153103\ttotal: 1.02s\tremaining: 7.23ms\n",
      "993:\tlearn: 0.0152869\ttotal: 1.03s\tremaining: 6.2ms\n",
      "994:\tlearn: 0.0152299\ttotal: 1.03s\tremaining: 5.16ms\n",
      "995:\tlearn: 0.0152033\ttotal: 1.03s\tremaining: 4.13ms\n",
      "996:\tlearn: 0.0151804\ttotal: 1.03s\tremaining: 3.1ms\n",
      "997:\tlearn: 0.0151584\ttotal: 1.03s\tremaining: 2.06ms\n",
      "998:\tlearn: 0.0151370\ttotal: 1.03s\tremaining: 1.03ms\n",
      "999:\tlearn: 0.0150902\ttotal: 1.03s\tremaining: 0us\n",
      "Mean Absolute error 0.41066163744647033\n"
     ]
    },
    {
     "data": {
      "application/scrapbook.scrap.json+json": {
       "data": 0.41066163744647033,
       "encoder": "json",
       "name": "Catboost MAE",
       "version": 1
      }
     },
     "metadata": {
      "scrapbook": {
       "data": true,
       "display": false,
       "name": "Catboost MAE"
      }
     },
     "output_type": "display_data"
    }
   ],
   "source": [
    "mae_cb = baselineModels.catboost(X_train,y_train,X_test,y_test)\n",
    "#Store MSE Value\n",
    "sb.glue(\"Catboost MAE\",mae_cb)"
   ]
  },
  {
   "cell_type": "markdown",
   "id": "236f211d",
   "metadata": {
    "papermill": {
     "duration": 0.02038,
     "end_time": "2022-06-22T10:48:40.787313",
     "exception": false,
     "start_time": "2022-06-22T10:48:40.766933",
     "status": "completed"
    },
    "tags": []
   },
   "source": [
    "# TabNet regressor"
   ]
  },
  {
   "cell_type": "code",
   "execution_count": 7,
   "id": "14067c55",
   "metadata": {
    "execution": {
     "iopub.execute_input": "2022-06-22T10:48:40.839020Z",
     "iopub.status.busy": "2022-06-22T10:48:40.837361Z",
     "iopub.status.idle": "2022-06-22T10:48:40.842880Z",
     "shell.execute_reply": "2022-06-22T10:48:40.843774Z"
    },
    "papermill": {
     "duration": 0.036683,
     "end_time": "2022-06-22T10:48:40.844031",
     "exception": false,
     "start_time": "2022-06-22T10:48:40.807348",
     "status": "completed"
    },
    "tags": []
   },
   "outputs": [],
   "source": [
    "n_epochs = 1000\n",
    "batch_size = 32"
   ]
  },
  {
   "cell_type": "code",
   "execution_count": 8,
   "id": "10522fa4",
   "metadata": {
    "execution": {
     "iopub.execute_input": "2022-06-22T10:48:40.960475Z",
     "iopub.status.busy": "2022-06-22T10:48:40.939137Z",
     "iopub.status.idle": "2022-06-22T10:48:58.954002Z",
     "shell.execute_reply": "2022-06-22T10:48:58.954468Z"
    },
    "papermill": {
     "duration": 18.072794,
     "end_time": "2022-06-22T10:48:58.954674",
     "exception": false,
     "start_time": "2022-06-22T10:48:40.881880",
     "status": "completed"
    },
    "tags": []
   },
   "outputs": [
    {
     "name": "stdout",
     "output_type": "stream",
     "text": [
      "(80,)\n",
      "Device used : cpu\n"
     ]
    },
    {
     "name": "stdout",
     "output_type": "stream",
     "text": [
      "epoch 0  | loss: 1.3695  | train_mse: 11.08876| train_mae: 2.22282 |  0:00:01s\n",
      "epoch 1  | loss: 0.75994 | train_mse: 3.40003 | train_mae: 1.39371 |  0:00:01s\n"
     ]
    },
    {
     "name": "stdout",
     "output_type": "stream",
     "text": [
      "epoch 2  | loss: 0.695   | train_mse: 2.35374 | train_mae: 1.13583 |  0:00:02s\n",
      "epoch 3  | loss: 1.0001  | train_mse: 6.09666 | train_mae: 1.70896 |  0:00:02s\n"
     ]
    },
    {
     "name": "stdout",
     "output_type": "stream",
     "text": [
      "epoch 4  | loss: 0.52205 | train_mse: 2.25701 | train_mae: 1.14206 |  0:00:02s\n",
      "epoch 5  | loss: 0.66306 | train_mse: 1.02705 | train_mae: 0.79654 |  0:00:02s\n"
     ]
    },
    {
     "name": "stdout",
     "output_type": "stream",
     "text": [
      "epoch 6  | loss: 0.45644 | train_mse: 1.48767 | train_mae: 0.91128 |  0:00:02s\n",
      "epoch 7  | loss: 0.48324 | train_mse: 2.04789 | train_mae: 1.01981 |  0:00:02s\n"
     ]
    },
    {
     "name": "stdout",
     "output_type": "stream",
     "text": [
      "epoch 8  | loss: 0.4522  | train_mse: 2.0703  | train_mae: 1.03837 |  0:00:02s\n",
      "epoch 9  | loss: 0.45499 | train_mse: 1.42906 | train_mae: 0.85163 |  0:00:03s\n"
     ]
    },
    {
     "name": "stdout",
     "output_type": "stream",
     "text": [
      "epoch 10 | loss: 0.35953 | train_mse: 1.03547 | train_mae: 0.65576 |  0:00:03s\n",
      "epoch 11 | loss: 0.43464 | train_mse: 0.8519  | train_mae: 0.60443 |  0:00:03s\n"
     ]
    },
    {
     "name": "stdout",
     "output_type": "stream",
     "text": [
      "epoch 12 | loss: 0.5611  | train_mse: 1.07487 | train_mae: 0.65552 |  0:00:03s\n",
      "epoch 13 | loss: 0.27762 | train_mse: 1.18098 | train_mae: 0.6448  |  0:00:03s\n",
      "epoch 14 | loss: 0.42724 | train_mse: 0.76717 | train_mae: 0.567   |  0:00:03s\n"
     ]
    },
    {
     "name": "stdout",
     "output_type": "stream",
     "text": [
      "epoch 15 | loss: 0.25955 | train_mse: 0.26862 | train_mae: 0.39651 |  0:00:03s\n",
      "epoch 16 | loss: 0.39033 | train_mse: 0.46867 | train_mae: 0.46567 |  0:00:03s\n",
      "epoch 17 | loss: 0.61007 | train_mse: 0.21753 | train_mae: 0.35909 |  0:00:03s\n"
     ]
    },
    {
     "name": "stdout",
     "output_type": "stream",
     "text": [
      "epoch 18 | loss: 0.48894 | train_mse: 0.30423 | train_mae: 0.39903 |  0:00:03s\n",
      "epoch 19 | loss: 0.35606 | train_mse: 0.54652 | train_mae: 0.5175  |  0:00:04s\n",
      "epoch 20 | loss: 0.43809 | train_mse: 0.55234 | train_mae: 0.53137 |  0:00:04s\n"
     ]
    },
    {
     "name": "stdout",
     "output_type": "stream",
     "text": [
      "epoch 21 | loss: 0.26644 | train_mse: 0.49032 | train_mae: 0.47543 |  0:00:04s\n",
      "epoch 22 | loss: 0.20404 | train_mse: 0.53169 | train_mae: 0.46748 |  0:00:04s\n",
      "epoch 23 | loss: 0.23264 | train_mse: 0.58234 | train_mae: 0.50541 |  0:00:04s\n"
     ]
    },
    {
     "name": "stdout",
     "output_type": "stream",
     "text": [
      "epoch 24 | loss: 0.27238 | train_mse: 0.51198 | train_mae: 0.49022 |  0:00:04s\n"
     ]
    },
    {
     "name": "stdout",
     "output_type": "stream",
     "text": [
      "epoch 25 | loss: 0.28623 | train_mse: 0.40357 | train_mae: 0.45699 |  0:00:04s\n",
      "epoch 26 | loss: 0.20764 | train_mse: 0.22495 | train_mae: 0.36978 |  0:00:04s\n"
     ]
    },
    {
     "name": "stdout",
     "output_type": "stream",
     "text": [
      "epoch 27 | loss: 0.21856 | train_mse: 0.18786 | train_mae: 0.33525 |  0:00:04s\n"
     ]
    },
    {
     "name": "stdout",
     "output_type": "stream",
     "text": [
      "epoch 28 | loss: 0.23486 | train_mse: 0.21561 | train_mae: 0.34986 |  0:00:05s\n"
     ]
    },
    {
     "name": "stdout",
     "output_type": "stream",
     "text": [
      "epoch 29 | loss: 0.23499 | train_mse: 0.28939 | train_mae: 0.39901 |  0:00:05s\n",
      "epoch 30 | loss: 0.18345 | train_mse: 0.28515 | train_mae: 0.41098 |  0:00:05s\n"
     ]
    },
    {
     "name": "stdout",
     "output_type": "stream",
     "text": [
      "epoch 31 | loss: 0.28566 | train_mse: 0.33326 | train_mae: 0.42746 |  0:00:05s\n",
      "epoch 32 | loss: 0.26614 | train_mse: 0.41616 | train_mae: 0.46484 |  0:00:05s\n",
      "epoch 33 | loss: 0.13866 | train_mse: 0.27331 | train_mae: 0.39746 |  0:00:05s\n"
     ]
    },
    {
     "name": "stdout",
     "output_type": "stream",
     "text": [
      "epoch 34 | loss: 0.15419 | train_mse: 0.16407 | train_mae: 0.32254 |  0:00:06s\n",
      "epoch 35 | loss: 0.1586  | train_mse: 0.18646 | train_mae: 0.34149 |  0:00:06s\n"
     ]
    },
    {
     "name": "stdout",
     "output_type": "stream",
     "text": [
      "epoch 36 | loss: 0.16188 | train_mse: 0.21677 | train_mae: 0.36856 |  0:00:06s\n",
      "epoch 37 | loss: 0.2017  | train_mse: 0.24768 | train_mae: 0.38606 |  0:00:06s\n",
      "epoch 38 | loss: 0.22826 | train_mse: 0.22991 | train_mae: 0.36147 |  0:00:06s\n"
     ]
    },
    {
     "name": "stdout",
     "output_type": "stream",
     "text": [
      "epoch 39 | loss: 0.16653 | train_mse: 0.19874 | train_mae: 0.33088 |  0:00:06s\n",
      "epoch 40 | loss: 0.12816 | train_mse: 0.17275 | train_mae: 0.3128  |  0:00:06s\n",
      "epoch 41 | loss: 0.15949 | train_mse: 0.15164 | train_mae: 0.29978 |  0:00:06s\n"
     ]
    },
    {
     "name": "stdout",
     "output_type": "stream",
     "text": [
      "epoch 42 | loss: 0.12005 | train_mse: 0.15136 | train_mae: 0.298   |  0:00:06s\n",
      "epoch 43 | loss: 0.2268  | train_mse: 0.11568 | train_mae: 0.26039 |  0:00:06s\n",
      "epoch 44 | loss: 0.2259  | train_mse: 0.10989 | train_mae: 0.25196 |  0:00:07s\n"
     ]
    },
    {
     "name": "stdout",
     "output_type": "stream",
     "text": [
      "epoch 45 | loss: 0.1092  | train_mse: 0.12967 | train_mae: 0.28373 |  0:00:07s\n",
      "epoch 46 | loss: 0.10892 | train_mse: 0.15379 | train_mae: 0.31148 |  0:00:07s\n",
      "epoch 47 | loss: 0.15514 | train_mse: 0.12977 | train_mae: 0.29099 |  0:00:07s\n",
      "epoch 48 | loss: 0.20822 | train_mse: 0.09812 | train_mae: 0.23804 |  0:00:07s\n"
     ]
    },
    {
     "name": "stdout",
     "output_type": "stream",
     "text": [
      "epoch 49 | loss: 0.12838 | train_mse: 0.09667 | train_mae: 0.22998 |  0:00:07s\n",
      "epoch 50 | loss: 0.11877 | train_mse: 0.09681 | train_mae: 0.23123 |  0:00:07s\n",
      "epoch 51 | loss: 0.14145 | train_mse: 0.09511 | train_mae: 0.23823 |  0:00:07s\n"
     ]
    },
    {
     "name": "stdout",
     "output_type": "stream",
     "text": [
      "epoch 52 | loss: 0.12327 | train_mse: 0.09208 | train_mae: 0.233   |  0:00:07s\n",
      "epoch 53 | loss: 0.1969  | train_mse: 0.0935  | train_mae: 0.23711 |  0:00:07s\n",
      "epoch 54 | loss: 0.17343 | train_mse: 0.10256 | train_mae: 0.24985 |  0:00:07s\n"
     ]
    },
    {
     "name": "stdout",
     "output_type": "stream",
     "text": [
      "epoch 55 | loss: 0.15475 | train_mse: 0.09501 | train_mae: 0.24662 |  0:00:07s\n",
      "epoch 56 | loss: 0.11363 | train_mse: 0.09793 | train_mae: 0.25206 |  0:00:07s\n",
      "epoch 57 | loss: 0.14658 | train_mse: 0.10337 | train_mae: 0.26438 |  0:00:07s\n",
      "epoch 58 | loss: 0.12006 | train_mse: 0.0947  | train_mae: 0.2517  |  0:00:08s\n"
     ]
    },
    {
     "name": "stdout",
     "output_type": "stream",
     "text": [
      "epoch 59 | loss: 0.20077 | train_mse: 0.09546 | train_mae: 0.25052 |  0:00:08s\n",
      "epoch 60 | loss: 0.11364 | train_mse: 0.08702 | train_mae: 0.23149 |  0:00:08s\n",
      "epoch 61 | loss: 0.10146 | train_mse: 0.09184 | train_mae: 0.23477 |  0:00:08s\n",
      "epoch 62 | loss: 0.29048 | train_mse: 0.09095 | train_mae: 0.23775 |  0:00:08s\n"
     ]
    },
    {
     "name": "stdout",
     "output_type": "stream",
     "text": [
      "epoch 63 | loss: 0.15541 | train_mse: 0.09689 | train_mae: 0.24559 |  0:00:08s\n",
      "epoch 64 | loss: 0.19885 | train_mse: 0.08531 | train_mae: 0.22694 |  0:00:08s\n",
      "epoch 65 | loss: 0.13984 | train_mse: 0.08183 | train_mae: 0.2236  |  0:00:08s\n"
     ]
    },
    {
     "name": "stdout",
     "output_type": "stream",
     "text": [
      "epoch 66 | loss: 0.08845 | train_mse: 0.0811  | train_mae: 0.22628 |  0:00:08s\n",
      "epoch 67 | loss: 0.10637 | train_mse: 0.08448 | train_mae: 0.22989 |  0:00:08s\n",
      "epoch 68 | loss: 0.10037 | train_mse: 0.08721 | train_mae: 0.23312 |  0:00:08s\n"
     ]
    },
    {
     "name": "stdout",
     "output_type": "stream",
     "text": [
      "epoch 69 | loss: 0.23505 | train_mse: 0.13272 | train_mae: 0.27628 |  0:00:08s\n",
      "epoch 70 | loss: 0.15737 | train_mse: 0.15326 | train_mae: 0.28858 |  0:00:09s\n",
      "epoch 71 | loss: 0.1206  | train_mse: 0.18013 | train_mae: 0.30568 |  0:00:09s\n"
     ]
    },
    {
     "name": "stdout",
     "output_type": "stream",
     "text": [
      "epoch 72 | loss: 0.11153 | train_mse: 0.16077 | train_mae: 0.29044 |  0:00:09s\n",
      "epoch 73 | loss: 0.20198 | train_mse: 0.1211  | train_mae: 0.26136 |  0:00:09s\n"
     ]
    },
    {
     "name": "stdout",
     "output_type": "stream",
     "text": [
      "epoch 74 | loss: 0.10503 | train_mse: 0.09249 | train_mae: 0.23758 |  0:00:09s\n",
      "epoch 75 | loss: 0.17323 | train_mse: 0.07074 | train_mae: 0.21019 |  0:00:09s\n"
     ]
    },
    {
     "name": "stdout",
     "output_type": "stream",
     "text": [
      "epoch 76 | loss: 0.23439 | train_mse: 0.06537 | train_mae: 0.19559 |  0:00:09s\n",
      "epoch 77 | loss: 0.12806 | train_mse: 0.06974 | train_mae: 0.20178 |  0:00:09s\n",
      "epoch 78 | loss: 0.14416 | train_mse: 0.07357 | train_mae: 0.21329 |  0:00:09s\n"
     ]
    },
    {
     "name": "stdout",
     "output_type": "stream",
     "text": [
      "epoch 79 | loss: 0.11187 | train_mse: 0.08501 | train_mae: 0.22911 |  0:00:09s\n",
      "epoch 80 | loss: 0.13163 | train_mse: 0.0857  | train_mae: 0.22182 |  0:00:10s\n",
      "epoch 81 | loss: 0.19957 | train_mse: 0.11231 | train_mae: 0.25325 |  0:00:10s\n"
     ]
    },
    {
     "name": "stdout",
     "output_type": "stream",
     "text": [
      "epoch 82 | loss: 0.29868 | train_mse: 0.1289  | train_mae: 0.26765 |  0:00:10s\n",
      "epoch 83 | loss: 0.26979 | train_mse: 0.14616 | train_mae: 0.28943 |  0:00:10s\n",
      "epoch 84 | loss: 0.20979 | train_mse: 0.15199 | train_mae: 0.28856 |  0:00:10s\n"
     ]
    },
    {
     "name": "stdout",
     "output_type": "stream",
     "text": [
      "epoch 85 | loss: 0.17508 | train_mse: 0.13777 | train_mae: 0.278   |  0:00:10s\n"
     ]
    },
    {
     "name": "stdout",
     "output_type": "stream",
     "text": [
      "epoch 86 | loss: 0.13795 | train_mse: 0.11486 | train_mae: 0.25988 |  0:00:10s\n",
      "epoch 87 | loss: 0.29478 | train_mse: 0.11029 | train_mae: 0.25949 |  0:00:10s\n"
     ]
    },
    {
     "name": "stdout",
     "output_type": "stream",
     "text": [
      "epoch 88 | loss: 0.20464 | train_mse: 0.10088 | train_mae: 0.24403 |  0:00:10s\n",
      "epoch 89 | loss: 0.22841 | train_mse: 0.10938 | train_mae: 0.24892 |  0:00:11s\n",
      "epoch 90 | loss: 0.10819 | train_mse: 0.11438 | train_mae: 0.25264 |  0:00:11s\n"
     ]
    },
    {
     "name": "stdout",
     "output_type": "stream",
     "text": [
      "epoch 91 | loss: 0.10586 | train_mse: 0.12413 | train_mae: 0.25871 |  0:00:11s\n",
      "epoch 92 | loss: 0.11786 | train_mse: 0.0949  | train_mae: 0.232   |  0:00:11s\n",
      "epoch 93 | loss: 0.09055 | train_mse: 0.07169 | train_mae: 0.20859 |  0:00:11s\n"
     ]
    },
    {
     "name": "stdout",
     "output_type": "stream",
     "text": [
      "epoch 94 | loss: 0.2055  | train_mse: 0.07912 | train_mae: 0.22244 |  0:00:11s\n",
      "epoch 95 | loss: 0.14964 | train_mse: 0.10248 | train_mae: 0.25041 |  0:00:11s\n",
      "epoch 96 | loss: 0.14659 | train_mse: 0.11604 | train_mae: 0.26922 |  0:00:11s\n"
     ]
    },
    {
     "name": "stdout",
     "output_type": "stream",
     "text": [
      "epoch 97 | loss: 0.10823 | train_mse: 0.08749 | train_mae: 0.23652 |  0:00:11s\n",
      "epoch 98 | loss: 0.12607 | train_mse: 0.0792  | train_mae: 0.22264 |  0:00:11s\n",
      "epoch 99 | loss: 0.17081 | train_mse: 0.09193 | train_mae: 0.23242 |  0:00:11s\n"
     ]
    },
    {
     "name": "stdout",
     "output_type": "stream",
     "text": [
      "epoch 100| loss: 0.1897  | train_mse: 0.08576 | train_mae: 0.22802 |  0:00:12s\n",
      "epoch 101| loss: 0.11894 | train_mse: 0.07502 | train_mae: 0.21255 |  0:00:12s\n"
     ]
    },
    {
     "name": "stdout",
     "output_type": "stream",
     "text": [
      "epoch 102| loss: 0.11024 | train_mse: 0.07742 | train_mae: 0.21866 |  0:00:12s\n",
      "epoch 103| loss: 0.26799 | train_mse: 0.09256 | train_mae: 0.2362  |  0:00:12s\n"
     ]
    },
    {
     "name": "stdout",
     "output_type": "stream",
     "text": [
      "epoch 104| loss: 0.1277  | train_mse: 0.07576 | train_mae: 0.2108  |  0:00:12s\n",
      "epoch 105| loss: 0.18945 | train_mse: 0.1012  | train_mae: 0.23989 |  0:00:12s\n",
      "epoch 106| loss: 0.19714 | train_mse: 0.14847 | train_mae: 0.28063 |  0:00:12s\n"
     ]
    },
    {
     "name": "stdout",
     "output_type": "stream",
     "text": [
      "epoch 107| loss: 0.11788 | train_mse: 0.15984 | train_mae: 0.28505 |  0:00:12s\n",
      "epoch 108| loss: 0.10893 | train_mse: 0.19999 | train_mae: 0.3119  |  0:00:12s\n"
     ]
    },
    {
     "name": "stdout",
     "output_type": "stream",
     "text": [
      "epoch 109| loss: 0.08256 | train_mse: 0.24264 | train_mae: 0.3405  |  0:00:13s\n",
      "epoch 110| loss: 0.14511 | train_mse: 0.20017 | train_mae: 0.31444 |  0:00:13s\n"
     ]
    },
    {
     "name": "stdout",
     "output_type": "stream",
     "text": [
      "epoch 111| loss: 0.09192 | train_mse: 0.20531 | train_mae: 0.32253 |  0:00:13s\n",
      "epoch 112| loss: 0.10282 | train_mse: 0.1769  | train_mae: 0.30154 |  0:00:13s\n",
      "epoch 113| loss: 0.11116 | train_mse: 0.12318 | train_mae: 0.2647  |  0:00:13s\n"
     ]
    },
    {
     "name": "stdout",
     "output_type": "stream",
     "text": [
      "epoch 114| loss: 0.27093 | train_mse: 0.09741 | train_mae: 0.24007 |  0:00:13s\n",
      "epoch 115| loss: 0.11364 | train_mse: 0.09123 | train_mae: 0.23355 |  0:00:13s\n",
      "epoch 116| loss: 0.23042 | train_mse: 0.06557 | train_mae: 0.20379 |  0:00:13s\n"
     ]
    },
    {
     "name": "stdout",
     "output_type": "stream",
     "text": [
      "epoch 117| loss: 0.07314 | train_mse: 0.06106 | train_mae: 0.20443 |  0:00:13s\n",
      "epoch 118| loss: 0.10287 | train_mse: 0.06245 | train_mae: 0.20527 |  0:00:13s\n",
      "epoch 119| loss: 0.29258 | train_mse: 0.07055 | train_mae: 0.21208 |  0:00:13s\n"
     ]
    },
    {
     "name": "stdout",
     "output_type": "stream",
     "text": [
      "epoch 120| loss: 0.138   | train_mse: 0.07823 | train_mae: 0.21971 |  0:00:13s\n",
      "epoch 121| loss: 0.155   | train_mse: 0.07123 | train_mae: 0.20596 |  0:00:13s\n",
      "epoch 122| loss: 0.08557 | train_mse: 0.07182 | train_mae: 0.20519 |  0:00:14s\n",
      "epoch 123| loss: 0.20789 | train_mse: 0.06959 | train_mae: 0.20131 |  0:00:14s\n",
      "epoch 124| loss: 0.15719 | train_mse: 0.06083 | train_mae: 0.19545 |  0:00:14s\n"
     ]
    },
    {
     "name": "stdout",
     "output_type": "stream",
     "text": [
      "epoch 125| loss: 0.13278 | train_mse: 0.06941 | train_mae: 0.20014 |  0:00:14s\n",
      "epoch 126| loss: 0.19744 | train_mse: 0.09437 | train_mae: 0.21791 |  0:00:14s\n",
      "epoch 127| loss: 0.18255 | train_mse: 0.1357  | train_mae: 0.25401 |  0:00:14s\n"
     ]
    },
    {
     "name": "stdout",
     "output_type": "stream",
     "text": [
      "epoch 128| loss: 0.10072 | train_mse: 0.11106 | train_mae: 0.23585 |  0:00:14s\n",
      "epoch 129| loss: 0.09562 | train_mse: 0.09371 | train_mae: 0.2346  |  0:00:14s\n",
      "epoch 130| loss: 0.09356 | train_mse: 0.13616 | train_mae: 0.2552  |  0:00:14s\n"
     ]
    },
    {
     "name": "stdout",
     "output_type": "stream",
     "text": [
      "epoch 131| loss: 0.15139 | train_mse: 0.1824  | train_mae: 0.27839 |  0:00:14s\n",
      "epoch 132| loss: 0.11721 | train_mse: 0.19119 | train_mae: 0.27922 |  0:00:14s\n",
      "epoch 133| loss: 0.29566 | train_mse: 0.19989 | train_mae: 0.28334 |  0:00:14s\n"
     ]
    },
    {
     "name": "stdout",
     "output_type": "stream",
     "text": [
      "epoch 134| loss: 0.15853 | train_mse: 0.23571 | train_mae: 0.29471 |  0:00:15s\n",
      "epoch 135| loss: 0.13113 | train_mse: 0.24872 | train_mae: 0.28806 |  0:00:15s\n",
      "epoch 136| loss: 0.12636 | train_mse: 0.28261 | train_mae: 0.30784 |  0:00:15s\n",
      "epoch 137| loss: 0.25649 | train_mse: 0.19397 | train_mae: 0.27549 |  0:00:15s\n"
     ]
    },
    {
     "name": "stdout",
     "output_type": "stream",
     "text": [
      "epoch 138| loss: 0.16023 | train_mse: 0.16914 | train_mae: 0.26522 |  0:00:15s\n",
      "epoch 139| loss: 0.12303 | train_mse: 0.14619 | train_mae: 0.25466 |  0:00:15s\n",
      "epoch 140| loss: 0.21478 | train_mse: 0.12925 | train_mae: 0.24824 |  0:00:15s\n"
     ]
    },
    {
     "name": "stdout",
     "output_type": "stream",
     "text": [
      "epoch 141| loss: 0.13715 | train_mse: 0.10922 | train_mae: 0.23556 |  0:00:15s\n",
      "epoch 142| loss: 0.1744  | train_mse: 0.09392 | train_mae: 0.223   |  0:00:15s\n",
      "epoch 143| loss: 0.10732 | train_mse: 0.07277 | train_mae: 0.20682 |  0:00:15s\n"
     ]
    },
    {
     "name": "stdout",
     "output_type": "stream",
     "text": [
      "epoch 144| loss: 0.15533 | train_mse: 0.07127 | train_mae: 0.20864 |  0:00:15s\n",
      "epoch 145| loss: 0.24872 | train_mse: 0.08182 | train_mae: 0.21293 |  0:00:15s\n",
      "epoch 146| loss: 0.13961 | train_mse: 0.0749  | train_mae: 0.20512 |  0:00:15s\n"
     ]
    },
    {
     "name": "stdout",
     "output_type": "stream",
     "text": [
      "epoch 147| loss: 0.14627 | train_mse: 0.10922 | train_mae: 0.22835 |  0:00:15s\n",
      "epoch 148| loss: 0.08658 | train_mse: 0.12881 | train_mae: 0.24194 |  0:00:16s\n",
      "epoch 149| loss: 0.12209 | train_mse: 0.13434 | train_mae: 0.24339 |  0:00:16s\n"
     ]
    },
    {
     "name": "stdout",
     "output_type": "stream",
     "text": [
      "epoch 150| loss: 0.12389 | train_mse: 0.16234 | train_mae: 0.26273 |  0:00:16s\n",
      "epoch 151| loss: 0.1362  | train_mse: 0.14043 | train_mae: 0.24598 |  0:00:16s\n",
      "epoch 152| loss: 0.38723 | train_mse: 0.15131 | train_mae: 0.2609  |  0:00:16s\n"
     ]
    },
    {
     "name": "stdout",
     "output_type": "stream",
     "text": [
      "epoch 153| loss: 0.0994  | train_mse: 0.11137 | train_mae: 0.23475 |  0:00:16s\n",
      "epoch 154| loss: 0.34252 | train_mse: 0.09528 | train_mae: 0.24001 |  0:00:16s\n",
      "epoch 155| loss: 0.12596 | train_mse: 0.09652 | train_mae: 0.24532 |  0:00:16s\n"
     ]
    },
    {
     "name": "stdout",
     "output_type": "stream",
     "text": [
      "epoch 156| loss: 0.15268 | train_mse: 0.08785 | train_mae: 0.21672 |  0:00:16s\n",
      "epoch 157| loss: 0.11893 | train_mse: 0.09633 | train_mae: 0.2224  |  0:00:16s\n",
      "epoch 158| loss: 0.19884 | train_mse: 0.089   | train_mae: 0.21748 |  0:00:16s\n"
     ]
    },
    {
     "name": "stdout",
     "output_type": "stream",
     "text": [
      "epoch 159| loss: 0.11967 | train_mse: 0.07676 | train_mae: 0.2107  |  0:00:16s\n",
      "epoch 160| loss: 0.126   | train_mse: 0.08592 | train_mae: 0.22156 |  0:00:16s\n",
      "epoch 161| loss: 0.1232  | train_mse: 0.10521 | train_mae: 0.24145 |  0:00:16s\n",
      "epoch 162| loss: 0.14246 | train_mse: 0.11693 | train_mae: 0.2645  |  0:00:16s\n"
     ]
    },
    {
     "name": "stdout",
     "output_type": "stream",
     "text": [
      "epoch 163| loss: 0.10689 | train_mse: 0.10624 | train_mae: 0.24302 |  0:00:17s\n",
      "epoch 164| loss: 0.25752 | train_mse: 0.09073 | train_mae: 0.22811 |  0:00:17s\n",
      "epoch 165| loss: 0.10676 | train_mse: 0.08344 | train_mae: 0.2187  |  0:00:17s\n",
      "epoch 166| loss: 0.12595 | train_mse: 0.08886 | train_mae: 0.23629 |  0:00:17s\n"
     ]
    },
    {
     "name": "stdout",
     "output_type": "stream",
     "text": [
      "epoch 167| loss: 0.14517 | train_mse: 0.08426 | train_mae: 0.23345 |  0:00:17s\n",
      "epoch 168| loss: 0.09951 | train_mse: 0.08425 | train_mae: 0.2251  |  0:00:17s\n",
      "epoch 169| loss: 0.3286  | train_mse: 0.08407 | train_mae: 0.21959 |  0:00:17s\n"
     ]
    },
    {
     "name": "stdout",
     "output_type": "stream",
     "text": [
      "epoch 170| loss: 0.18258 | train_mse: 0.09058 | train_mae: 0.22612 |  0:00:17s\n",
      "epoch 171| loss: 0.13141 | train_mse: 0.10318 | train_mae: 0.24135 |  0:00:17s\n",
      "epoch 172| loss: 0.19334 | train_mse: 0.11704 | train_mae: 0.25077 |  0:00:17s\n"
     ]
    },
    {
     "name": "stdout",
     "output_type": "stream",
     "text": [
      "epoch 173| loss: 0.21514 | train_mse: 0.1059  | train_mae: 0.24193 |  0:00:17s\n",
      "epoch 174| loss: 0.16225 | train_mse: 0.08858 | train_mae: 0.23374 |  0:00:17s\n",
      "\n",
      "Early stopping occurred at epoch 174 with best_epoch = 124 and best_train_mae = 0.19545\n",
      "Best weights from best epoch are automatically used!\n",
      "BEST VALID SCORE FOR dataset : 0.19545217324435812\n",
      "FINAL TEST SCORE FOR dataset: 0.44573555759607447\n",
      "{'loss': [1.369501769542694, 0.7599384784698486, 0.6950005412101745, 1.0001034021377564, 0.5220489144325257, 0.6630609035491943, 0.45643815994262693, 0.4832447528839111, 0.4521986484527588, 0.4549948155879974, 0.35953201055526735, 0.43463783860206606, 0.5611025214195251, 0.2776186019182205, 0.42724051475524905, 0.2595460146665573, 0.3903344333171844, 0.610065221786499, 0.4889436483383179, 0.35605962872505187, 0.4380944788455963, 0.2664365261793137, 0.204040789604187, 0.23264050483703613, 0.27238366603851316, 0.28623138666152953, 0.2076413094997406, 0.21856129467487334, 0.2348641037940979, 0.2349945455789566, 0.1834499418735504, 0.2856642097234726, 0.2661385416984558, 0.13865938484668733, 0.15419484674930573, 0.15860471725463868, 0.16187713742256166, 0.2016953259706497, 0.22826407253742217, 0.16652866899967195, 0.12816328704357147, 0.15948587357997895, 0.12004571706056595, 0.2267961323261261, 0.22590014338493347, 0.10920150578022003, 0.10891627073287964, 0.15513867735862732, 0.20822178721427917, 0.1283798858523369, 0.1187717467546463, 0.1414466083049774, 0.12327455431222915, 0.1969010978937149, 0.17343412041664125, 0.15474836230278016, 0.11363379210233689, 0.1465751349925995, 0.12006104290485382, 0.20076893121004105, 0.11363724172115326, 0.10145892798900605, 0.29048073291778564, 0.15541078746318818, 0.19884956777095794, 0.13984045386314392, 0.08845027089118958, 0.10637070089578629, 0.10037184059619904, 0.23505054116249086, 0.15736716017127036, 0.12059637606143951, 0.11152623146772385, 0.20198273062705993, 0.10502516031265259, 0.17323248386383056, 0.23438823223114014, 0.12805909812450408, 0.1441607415676117, 0.11186572760343552, 0.13163336217403412, 0.19957346320152283, 0.29868268966674805, 0.26979075372219086, 0.20978925824165345, 0.1750807762145996, 0.13795170187950134, 0.2947808414697647, 0.20463759452104568, 0.2284056842327118, 0.10819468200206757, 0.10586176663637162, 0.11785619705915451, 0.09055183827877045, 0.20550155341625215, 0.1496401384472847, 0.14658570140600205, 0.10823286175727845, 0.12606530487537385, 0.17081359028816223, 0.18969677984714509, 0.11893505454063416, 0.11024294644594193, 0.26798650324344636, 0.12770088016986847, 0.18945345878601075, 0.19713594913482665, 0.11787626743316651, 0.10892781615257263, 0.08256417289376258, 0.14511145949363707, 0.09192135334014892, 0.1028234452009201, 0.11115943193435669, 0.2709276080131531, 0.11363588571548462, 0.23041887879371642, 0.07313531413674354, 0.10287397652864456, 0.2925781190395355, 0.13800447583198547, 0.1549999624490738, 0.08556907325983047, 0.20788559019565583, 0.15718757063150407, 0.13277826011180877, 0.19744266271591188, 0.18254646956920623, 0.10072084814310074, 0.09561947882175445, 0.09356079399585723, 0.15139200389385224, 0.11721392571926117, 0.29566384553909303, 0.1585305243730545, 0.13112516403198243, 0.12635858058929444, 0.2564898103475571, 0.1602260947227478, 0.1230269730091095, 0.21478271484375, 0.1371525526046753, 0.1743995428085327, 0.10732284784317017, 0.1553302899003029, 0.2487182706594467, 0.13961270451545715, 0.14626978039741517, 0.08657773435115815, 0.12208519279956817, 0.12388858944177628, 0.13619889318943024, 0.38723260164260864, 0.09939947128295898, 0.34252368807792666, 0.12595692574977874, 0.15267997980117798, 0.11892928779125214, 0.19883619844913483, 0.1196692407131195, 0.12600163817405702, 0.1231978178024292, 0.14246423542499542, 0.10689177066087723, 0.257523912191391, 0.10676289647817612, 0.12595143616199495, 0.14517367482185364, 0.09951246976852417, 0.32859661877155305, 0.18258296102285385, 0.13140547424554824, 0.19334109425544738, 0.21513872742652893, 0.16225430071353913], 'lr': [0.02, 0.02, 0.02, 0.02, 0.02, 0.02, 0.02, 0.02, 0.02, 0.02, 0.02, 0.02, 0.02, 0.02, 0.02, 0.02, 0.02, 0.02, 0.02, 0.02, 0.02, 0.02, 0.02, 0.02, 0.02, 0.02, 0.02, 0.02, 0.02, 0.02, 0.02, 0.02, 0.02, 0.02, 0.02, 0.02, 0.02, 0.02, 0.02, 0.02, 0.02, 0.02, 0.02, 0.02, 0.02, 0.02, 0.02, 0.02, 0.02, 0.02, 0.02, 0.02, 0.02, 0.02, 0.02, 0.02, 0.02, 0.02, 0.02, 0.02, 0.02, 0.02, 0.02, 0.02, 0.02, 0.02, 0.02, 0.02, 0.02, 0.02, 0.02, 0.02, 0.02, 0.02, 0.02, 0.02, 0.02, 0.02, 0.02, 0.02, 0.02, 0.02, 0.02, 0.02, 0.02, 0.02, 0.02, 0.02, 0.02, 0.02, 0.02, 0.02, 0.02, 0.02, 0.02, 0.02, 0.02, 0.02, 0.02, 0.02, 0.02, 0.02, 0.02, 0.02, 0.02, 0.02, 0.02, 0.02, 0.02, 0.02, 0.02, 0.02, 0.02, 0.02, 0.02, 0.02, 0.02, 0.02, 0.02, 0.02, 0.02, 0.02, 0.02, 0.02, 0.02, 0.02, 0.02, 0.02, 0.02, 0.02, 0.02, 0.02, 0.02, 0.02, 0.02, 0.02, 0.02, 0.02, 0.02, 0.02, 0.02, 0.02, 0.02, 0.02, 0.02, 0.02, 0.02, 0.02, 0.02, 0.02, 0.02, 0.02, 0.02, 0.02, 0.02, 0.02, 0.02, 0.02, 0.02, 0.02, 0.02, 0.02, 0.02, 0.02, 0.02, 0.02, 0.02, 0.02, 0.02, 0.02, 0.02, 0.02, 0.02, 0.02, 0.02], 'train_mse': [11.08875689146554, 3.4000272011866386, 2.3537379061740245, 6.096655948213763, 2.25700853666099, 1.0270466108165066, 1.487669893034019, 2.0478868812368876, 2.0703019014114714, 1.429061637673001, 1.0354725086106347, 0.8519031495010674, 1.0748737247329139, 1.1809835608130563, 0.7671697549700799, 0.2686156120613289, 0.4686655867203574, 0.21753325781660574, 0.3042307341324328, 0.5465200799326856, 0.5523438457579923, 0.49032096223779276, 0.5316927068916, 0.5823449635387646, 0.5119787880536297, 0.4035671325205653, 0.22495133438532297, 0.18786344471921748, 0.2156060283786574, 0.28938849294482827, 0.28515377436796374, 0.33325604744891757, 0.4161610044611222, 0.27331384496423033, 0.16407008106830792, 0.18645898552209667, 0.21677058224116838, 0.2476765100816815, 0.2299144706548561, 0.19874403618375908, 0.17274600949841173, 0.15163774357963347, 0.15135526041045577, 0.11568015276673616, 0.10988824252128064, 0.12966960930216892, 0.15378863256770928, 0.1297697967354587, 0.09812437995846117, 0.0966664629439119, 0.09681464868011, 0.09510716394484373, 0.09208105898502203, 0.09349983557446095, 0.10256282290445737, 0.09500725768929529, 0.09792827157159548, 0.10337478282264527, 0.09470042157715794, 0.09545949749779721, 0.08702287380822812, 0.09183836565779135, 0.09095005119137273, 0.09688887181134188, 0.0853124962957056, 0.0818297389511158, 0.08109635194171357, 0.08447776147509631, 0.08721077012877822, 0.13271601583146508, 0.15326204937415694, 0.18013396801341508, 0.16076995174142045, 0.12109857286424815, 0.09248521408513113, 0.07074214324129921, 0.06536711752017707, 0.06973876074597193, 0.07356629278300233, 0.08501268994304377, 0.08570231536550664, 0.11230791424069345, 0.12890256608309217, 0.14615853764245917, 0.15199295893071293, 0.137765610154121, 0.11486189514594006, 0.11028719400981113, 0.10087764393766556, 0.10937907103216511, 0.11438229110680917, 0.12413145367465687, 0.0948976599889878, 0.07168553919639824, 0.0791164378457222, 0.10248130146842879, 0.1160404346660312, 0.08748766195303921, 0.07919960685141067, 0.09193390880728211, 0.0857602079228277, 0.0750209949430228, 0.07742254608951349, 0.09256274167060675, 0.07575708087639646, 0.10119599888829867, 0.1484656527215992, 0.1598354345206919, 0.199986286094083, 0.24264399931092817, 0.20017410164066035, 0.20531024237757975, 0.17689752875306722, 0.12317673209154907, 0.09741471084823328, 0.09122932332104162, 0.0655694642851797, 0.06106233591274328, 0.06245000885857792, 0.07055353849375204, 0.07822533331672168, 0.07122821683208062, 0.07182310655142383, 0.06959287809150212, 0.06083347580260288, 0.0694051663866668, 0.09437080047378914, 0.13569896718581043, 0.11105528433185144, 0.09371236745890424, 0.13615831186734012, 0.18239611351681617, 0.19119381838769312, 0.19989259979809287, 0.23570708149053665, 0.248715860125579, 0.28261410823208094, 0.19397213406270838, 0.16913952116210823, 0.14618992686042856, 0.1292516086398438, 0.10921574097906932, 0.09392226804846045, 0.07277233677825919, 0.07127261949664637, 0.08181736578597107, 0.07489733058974575, 0.10921974426038732, 0.12880589292703823, 0.1343410860842559, 0.16234267308647793, 0.14043216909659462, 0.1513142957658758, 0.11136556091422878, 0.09527530118495782, 0.09652113252654801, 0.0878461630301378, 0.09633165282954967, 0.08899757802402312, 0.07676065522672683, 0.08591610414248088, 0.10521294912073506, 0.11693206663319802, 0.10623920157272289, 0.09072929198763505, 0.08344469463886724, 0.08886078801564226, 0.08426005250620863, 0.08424522245443442, 0.0840671463260078, 0.09057678130446974, 0.1031830790068343, 0.11703787300676047, 0.10589804267218425, 0.08858274483102739], 'train_mae': [2.2228208459839713, 1.3937119290594153, 1.1358254212053454, 1.7089587386458163, 1.142055513126305, 0.7965434008311232, 0.9112793998449591, 1.0198098341980555, 1.0383666035835557, 0.8516261940900666, 0.6557631781176159, 0.6044308340603946, 0.6555150803959815, 0.6448030319440858, 0.5670004893751719, 0.39650557390432145, 0.4656660882403381, 0.35909427840625646, 0.39902592371706064, 0.5174976480258356, 0.5313655528445993, 0.4754315661972649, 0.4674775579767507, 0.5054070140332381, 0.49021630086849244, 0.4569887632602942, 0.36978402291470613, 0.33525061044722293, 0.3498634826391919, 0.3990097463925043, 0.4109799118243137, 0.4274552170492344, 0.46484155534906985, 0.39746356240858155, 0.32253833194513803, 0.3414912510476877, 0.3685584461662136, 0.3860582441458651, 0.3614700445374667, 0.3308802298033421, 0.31280445568262893, 0.2997839033489978, 0.2979954189107845, 0.2603893353274581, 0.2519626925778461, 0.28373364121195604, 0.3114840375948901, 0.2909923707734217, 0.23803896265357033, 0.22998392971075451, 0.23122738985380634, 0.23823403115818387, 0.2330003473765087, 0.23711353336590707, 0.24985168064993366, 0.2466202702874296, 0.2520603518216097, 0.2643845096054778, 0.2517046329227831, 0.250522097531202, 0.23148746430385758, 0.23477412718860363, 0.2377460932542851, 0.24558565469075658, 0.22693755957008718, 0.22359867959046986, 0.2262832547302954, 0.2298851538818444, 0.23311933661550546, 0.27628277335735485, 0.2885763765740817, 0.30567612963798085, 0.29043898866363815, 0.26136226119378075, 0.23757565338845055, 0.21019429761283231, 0.19559381692986805, 0.2017782684698901, 0.21329324145322656, 0.2291107750477547, 0.221823343993342, 0.2532524227412837, 0.2676486322994032, 0.28942893623900084, 0.28856258864702555, 0.27799932830071156, 0.2598818578393489, 0.25948695768033864, 0.24403484992647512, 0.2489198536330453, 0.25263582448633987, 0.25870770741416993, 0.23199570474441691, 0.20859463606013687, 0.22243944997931547, 0.25040659501977347, 0.26922323168566076, 0.23652133508123444, 0.2226388047965286, 0.2324194670620862, 0.22802006433341768, 0.21255110434032126, 0.21865834733355563, 0.23619591514240193, 0.21080269592614026, 0.2398943508906835, 0.28063393245612167, 0.2850451484633408, 0.31190464106810245, 0.3404999493714188, 0.3144402676534124, 0.3225259080122459, 0.3015430252935061, 0.264704325918232, 0.2400671401570788, 0.23355257798078397, 0.20379426950269247, 0.20442980909062988, 0.20527297589943871, 0.21208493981127136, 0.2197138106441728, 0.2059569240212981, 0.2051930139413623, 0.20131044944639945, 0.19545217324435812, 0.20013943630084005, 0.2179112351272205, 0.2540088908765621, 0.23585336040059696, 0.23460384097559334, 0.2552013815901325, 0.27838589509475387, 0.27922089651441917, 0.2833432212228149, 0.29471112320297, 0.28805811123616715, 0.30784085320999865, 0.2754890894267575, 0.2652229094732277, 0.2546575175682375, 0.24824474777748975, 0.2355604805264559, 0.22299894332817977, 0.20681661498596596, 0.20864197258551914, 0.212925378940656, 0.20512126366919253, 0.22835092414946662, 0.2419386895612931, 0.24338777111505058, 0.26273440888378186, 0.24598291961773625, 0.2609044592934459, 0.23475416283095923, 0.2400117723375404, 0.24531667739901422, 0.21672460654682127, 0.22240470806273568, 0.2174784930031902, 0.21069728648172728, 0.22155678777984913, 0.24144630622287977, 0.264498849977224, 0.24302450695575278, 0.22811035604353808, 0.21869970191428037, 0.2362858586103397, 0.23344637921729347, 0.22510492618825753, 0.2195905614208979, 0.2261195154121242, 0.24134743294235128, 0.25076820765810115, 0.2419266476099371, 0.2337421991427183]}\n"
     ]
    },
    {
     "data": {
      "application/scrapbook.scrap.json+json": {
       "data": 0.44573555759607447,
       "encoder": "json",
       "name": "TabNet MAE",
       "version": 1
      }
     },
     "metadata": {
      "scrapbook": {
       "data": true,
       "display": false,
       "name": "TabNet MAE"
      }
     },
     "output_type": "display_data"
    },
    {
     "data": {
      "image/png": "[encoded data removed]",
      "text/plain": [
       "<Figure size 432x288 with 1 Axes>"
      ]
     },
     "metadata": {
      "needs_background": "light"
     },
     "output_type": "display_data"
    }
   ],
   "source": [
    "lr = 0.02\n",
    "\n",
    "print(y_train.shape)\n",
    "y_train = np.reshape(y_train, (-1, 1))\n",
    "y_test = np.reshape(y_test, (-1, 1))\n",
    "\n",
    "device = torch.device('cuda' if torch.cuda.is_available() else 'cpu')\n",
    "mae_tab= baselineModels.tabnetreg(X_train,y_train,X_test,y_test,batch_size,n_features,n_target,n_epochs, lr)\n",
    "sb.glue(\"TabNet MAE\",mae_tab)"
   ]
  }
 ],
 "metadata": {
  "interpreter": {
   "hash": "10498c76ddd8160350534c6544a2b2fb65f2138dbc70420f7c81a3268f830f23"
  },
  "kernelspec": {
   "display_name": "Python 3",
   "language": "python",
   "name": "python3"
  },
  "language_info": {
   "codemirror_mode": {
    "name": "ipython",
    "version": 3
   },
   "file_extension": ".py",
   "mimetype": "text/x-python",
   "name": "python",
   "nbconvert_exporter": "python",
   "pygments_lexer": "ipython3",
   "version": "3.8.3"
  },
  "papermill": {
   "default_parameters": {},
   "duration": 33.11593,
   "end_time": "2022-06-22T10:48:59.826767",
   "environment_variables": {},
   "exception": null,
   "input_path": "BaselineModels.ipynb",
   "output_path": "./BaseLine_Model_Output/BaselineModels_output_5.ipynb",
   "parameters": {},
   "start_time": "2022-06-22T10:48:26.710837",
   "version": "2.3.3"
  }
 },
 "nbformat": 4,
 "nbformat_minor": 5
}