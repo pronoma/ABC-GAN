{
 "cells": [
  {
   "cell_type": "markdown",
   "id": "80fe175f",
   "metadata": {
    "papermill": {
     "duration": 0.017154,
     "end_time": "2022-06-22T10:49:06.352884",
     "exception": false,
     "start_time": "2022-06-22T10:49:06.335730",
     "status": "completed"
    },
    "tags": []
   },
   "source": [
    "## Import Libraries "
   ]
  },
  {
   "cell_type": "code",
   "execution_count": 1,
   "id": "eff2c86c",
   "metadata": {
    "execution": {
     "iopub.execute_input": "2022-06-22T10:49:06.458240Z",
     "iopub.status.busy": "2022-06-22T10:49:06.440507Z",
     "iopub.status.idle": "2022-06-22T10:49:06.472024Z",
     "shell.execute_reply": "2022-06-22T10:49:06.474513Z"
    },
    "papermill": {
     "duration": 0.11017,
     "end_time": "2022-06-22T10:49:06.477415",
     "exception": false,
     "start_time": "2022-06-22T10:49:06.367245",
     "status": "completed"
    },
    "tags": []
   },
   "outputs": [],
   "source": [
    "import warnings\n",
    "import sys\n",
    "sys.path.insert(0, '../../src')\n",
    "warnings.filterwarnings('ignore')"
   ]
  },
  {
   "cell_type": "code",
   "execution_count": 2,
   "id": "ab155e75",
   "metadata": {
    "execution": {
     "iopub.execute_input": "2022-06-22T10:49:06.611983Z",
     "iopub.status.busy": "2022-06-22T10:49:06.592507Z",
     "iopub.status.idle": "2022-06-22T10:49:14.987722Z",
     "shell.execute_reply": "2022-06-22T10:49:14.988393Z"
    },
    "papermill": {
     "duration": 8.4713,
     "end_time": "2022-06-22T10:49:14.988664",
     "exception": false,
     "start_time": "2022-06-22T10:49:06.517364",
     "status": "completed"
    },
    "tags": []
   },
   "outputs": [],
   "source": [
    "import statsModel\n",
    "import scrapbook as sb \n",
    "import torch \n",
    "import statsModel\n",
    "import baselineModels\n",
    "import friedman3Dataset\n",
    "import dataset \n",
    "from torch.utils.data import random_split \n",
    "from sklearn.model_selection import train_test_split\n",
    "import numpy as np"
   ]
  },
  {
   "cell_type": "markdown",
   "id": "6d4389b9",
   "metadata": {
    "papermill": {
     "duration": 0.008963,
     "end_time": "2022-06-22T10:49:15.007844",
     "exception": false,
     "start_time": "2022-06-22T10:49:14.998881",
     "status": "completed"
    },
    "tags": []
   },
   "source": [
    "## Import Dataset \n"
   ]
  },
  {
   "cell_type": "code",
   "execution_count": 3,
   "id": "3c660485",
   "metadata": {
    "execution": {
     "iopub.execute_input": "2022-06-22T10:49:15.041604Z",
     "iopub.status.busy": "2022-06-22T10:49:15.037512Z",
     "iopub.status.idle": "2022-06-22T10:49:15.052291Z",
     "shell.execute_reply": "2022-06-22T10:49:15.052899Z"
    },
    "papermill": {
     "duration": 0.032862,
     "end_time": "2022-06-22T10:49:15.053157",
     "exception": false,
     "start_time": "2022-06-22T10:49:15.020295",
     "status": "completed"
    },
    "tags": []
   },
   "outputs": [
    {
     "name": "stdout",
     "output_type": "stream",
     "text": [
      "          X1           X2        X3         X4         Y\n",
      "0  68.958705  1294.066447  0.941273  10.987741  1.543094\n",
      "1  54.892696   500.917320  0.075447   2.947131  0.519877\n",
      "2  40.396534  1580.941898  0.967942   2.008522  1.547206\n",
      "3  13.967726   143.868829  0.213893   9.795782  1.096242\n",
      "4  56.815508   665.686375  0.838337   3.898150  1.420534\n"
     ]
    }
   ],
   "source": [
    "n_features = 4\n",
    "n_samples= 100\n",
    "n_target = 1\n",
    "X,Y = friedman3Dataset.friedman3_data(n_samples)"
   ]
  },
  {
   "cell_type": "code",
   "execution_count": 4,
   "id": "857950f8",
   "metadata": {
    "execution": {
     "iopub.execute_input": "2022-06-22T10:49:15.079162Z",
     "iopub.status.busy": "2022-06-22T10:49:15.078254Z",
     "iopub.status.idle": "2022-06-22T10:49:15.084003Z",
     "shell.execute_reply": "2022-06-22T10:49:15.084624Z"
    },
    "papermill": {
     "duration": 0.022143,
     "end_time": "2022-06-22T10:49:15.084855",
     "exception": false,
     "start_time": "2022-06-22T10:49:15.062712",
     "status": "completed"
    },
    "tags": []
   },
   "outputs": [
    {
     "name": "stdout",
     "output_type": "stream",
     "text": [
      "(100, 4)\n",
      "(100,)\n",
      "(80, 4)\n",
      "(80,)\n",
      "(20, 4)\n",
      "(20,)\n"
     ]
    }
   ],
   "source": [
    "# Train test split for dataset \n",
    "real_dataset = dataset.CustomDataset(X,Y)\n",
    "\n",
    "print(X.shape)\n",
    "print(Y.shape)\n",
    "X_train, X_test, y_train, y_test = train_test_split(X, Y, test_size=0.2)\n",
    "\n",
    "print(X_train.shape)\n",
    "print(y_train.shape)\n",
    "print(X_test.shape)\n",
    "print(y_test.shape)"
   ]
  },
  {
   "cell_type": "markdown",
   "id": "28073fd3",
   "metadata": {
    "papermill": {
     "duration": 0.008928,
     "end_time": "2022-06-22T10:49:15.103356",
     "exception": false,
     "start_time": "2022-06-22T10:49:15.094428",
     "status": "completed"
    },
    "tags": []
   },
   "source": [
    "## Stats Model \n",
    "\n"
   ]
  },
  {
   "cell_type": "code",
   "execution_count": 5,
   "id": "369719ea",
   "metadata": {
    "execution": {
     "iopub.execute_input": "2022-06-22T10:49:15.164786Z",
     "iopub.status.busy": "2022-06-22T10:49:15.163869Z",
     "iopub.status.idle": "2022-06-22T10:49:15.386316Z",
     "shell.execute_reply": "2022-06-22T10:49:15.385774Z"
    },
    "papermill": {
     "duration": 0.274144,
     "end_time": "2022-06-22T10:49:15.386503",
     "exception": false,
     "start_time": "2022-06-22T10:49:15.112359",
     "status": "completed"
    },
    "tags": []
   },
   "outputs": [
    {
     "name": "stderr",
     "output_type": "stream",
     "text": [
      "No handles with labels found to put in legend.\n"
     ]
    },
    {
     "name": "stdout",
     "output_type": "stream",
     "text": [
      "                                 OLS Regression Results                                \n",
      "=======================================================================================\n",
      "Dep. Variable:                      y   R-squared (uncentered):                   0.538\n",
      "Model:                            OLS   Adj. R-squared (uncentered):              0.514\n",
      "Method:                 Least Squares   F-statistic:                              22.13\n",
      "Date:                Wed, 22 Jun 2022   Prob (F-statistic):                    3.85e-12\n",
      "Time:                        16:19:15   Log-Likelihood:                         -73.903\n",
      "No. Observations:                  80   AIC:                                      155.8\n",
      "Df Residuals:                      76   BIC:                                      165.3\n",
      "Df Model:                           4                                                  \n",
      "Covariance Type:            nonrobust                                                  \n",
      "==============================================================================\n",
      "                 coef    std err          t      P>|t|      [0.025      0.975]\n",
      "------------------------------------------------------------------------------\n",
      "x1            -0.3690      0.071     -5.195      0.000      -0.510      -0.228\n",
      "x2             0.3748      0.071      5.306      0.000       0.234       0.515\n",
      "x3             0.4368      0.074      5.906      0.000       0.290       0.584\n",
      "x4             0.0557      0.071      0.785      0.435      -0.086       0.197\n",
      "==============================================================================\n",
      "Omnibus:                        5.962   Durbin-Watson:                   2.090\n",
      "Prob(Omnibus):                  0.051   Jarque-Bera (JB):                5.375\n",
      "Skew:                          -0.495   Prob(JB):                       0.0681\n",
      "Kurtosis:                       3.795   Cond. No.                         1.21\n",
      "==============================================================================\n",
      "\n",
      "Notes:\n",
      "[1] R² is computed without centering (uncentered) since the model does not contain a constant.\n",
      "[2] Standard Errors assume that the covariance matrix of the errors is correctly specified.\n"
     ]
    },
    {
     "data": {
      "image/png": "[encoded data removed]",
      "text/plain": [
       "<Figure size 432x288 with 1 Axes>"
      ]
     },
     "metadata": {
      "needs_background": "light"
     },
     "output_type": "display_data"
    },
    {
     "name": "stdout",
     "output_type": "stream",
     "text": [
      "Performance Metrics\n",
      "Mean Squared Error: 0.9732223969831099\n",
      "Mean Absolute Error: 0.6065987776140748\n",
      "Manhattan distance: 12.131975552281496\n",
      "Euclidean distance: 4.411853118550321\n"
     ]
    },
    {
     "data": {
      "application/scrapbook.scrap.json+json": {
       "data": 0.9732223969831099,
       "encoder": "json",
       "name": "Stats Model MSE",
       "version": 1
      }
     },
     "metadata": {
      "scrapbook": {
       "data": true,
       "display": false,
       "name": "Stats Model MSE"
      }
     },
     "output_type": "display_data"
    },
    {
     "data": {
      "application/scrapbook.scrap.json+json": {
       "data": 0.6065987776140748,
       "encoder": "json",
       "name": "Stats Model MAE",
       "version": 1
      }
     },
     "metadata": {
      "scrapbook": {
       "data": true,
       "display": false,
       "name": "Stats Model MAE"
      }
     },
     "output_type": "display_data"
    },
    {
     "data": {
      "application/scrapbook.scrap.json+json": {
       "data": 12.131975552281496,
       "encoder": "json",
       "name": "Stats Model Manhattan Distance",
       "version": 1
      }
     },
     "metadata": {
      "scrapbook": {
       "data": true,
       "display": false,
       "name": "Stats Model Manhattan Distance"
      }
     },
     "output_type": "display_data"
    },
    {
     "data": {
      "application/scrapbook.scrap.json+json": {
       "data": 4.411853118550321,
       "encoder": "json",
       "name": "Stats Model Euclidean distance",
       "version": 1
      }
     },
     "metadata": {
      "scrapbook": {
       "data": true,
       "display": false,
       "name": "Stats Model Euclidean distance"
      }
     },
     "output_type": "display_data"
    },
    {
     "data": {
      "application/scrapbook.scrap.json+json": {
       "data": [
        -0.36899153736004564,
        0.37477973245685325,
        0.4368468327346917,
        0.055723655702287704
       ],
       "encoder": "json",
       "name": "Coefficients",
       "version": 1
      }
     },
     "metadata": {
      "scrapbook": {
       "data": true,
       "display": false,
       "name": "Coefficients"
      }
     },
     "output_type": "display_data"
    }
   ],
   "source": [
    "coefficients , y_pred =statsModel.statsModel(X_train,y_train,X_test,y_test)\n",
    "#Store MSE Value \n",
    "sb.glue(\"Coefficients\",coefficients)"
   ]
  },
  {
   "cell_type": "markdown",
   "id": "19a434d4",
   "metadata": {
    "papermill": {
     "duration": 0.010841,
     "end_time": "2022-06-22T10:49:15.408315",
     "exception": false,
     "start_time": "2022-06-22T10:49:15.397474",
     "status": "completed"
    },
    "tags": []
   },
   "source": [
    "# Catboost Model "
   ]
  },
  {
   "cell_type": "code",
   "execution_count": 6,
   "id": "08fde842",
   "metadata": {
    "execution": {
     "iopub.execute_input": "2022-06-22T10:49:15.449862Z",
     "iopub.status.busy": "2022-06-22T10:49:15.449031Z",
     "iopub.status.idle": "2022-06-22T10:49:16.189948Z",
     "shell.execute_reply": "2022-06-22T10:49:16.190652Z"
    },
    "papermill": {
     "duration": 0.77155,
     "end_time": "2022-06-22T10:49:16.190911",
     "exception": false,
     "start_time": "2022-06-22T10:49:15.419361",
     "status": "completed"
    },
    "tags": []
   },
   "outputs": [
    {
     "name": "stdout",
     "output_type": "stream",
     "text": [
      "Learning rate set to 0.027471\n",
      "0:\tlearn: 0.8879572\ttotal: 56.1ms\tremaining: 56.1s\n",
      "1:\tlearn: 0.8779152\ttotal: 57.3ms\tremaining: 28.6s\n",
      "2:\tlearn: 0.8683887\ttotal: 58.6ms\tremaining: 19.5s\n",
      "3:\tlearn: 0.8584487\ttotal: 60ms\tremaining: 14.9s\n",
      "4:\tlearn: 0.8501268\ttotal: 60.6ms\tremaining: 12.1s\n",
      "5:\tlearn: 0.8425522\ttotal: 61.2ms\tremaining: 10.1s\n",
      "6:\tlearn: 0.8338291\ttotal: 61.5ms\tremaining: 8.72s\n",
      "7:\tlearn: 0.8238565\ttotal: 61.9ms\tremaining: 7.68s\n",
      "8:\tlearn: 0.8160371\ttotal: 63.2ms\tremaining: 6.96s\n",
      "9:\tlearn: 0.8083869\ttotal: 63.7ms\tremaining: 6.31s\n",
      "10:\tlearn: 0.7995472\ttotal: 64.2ms\tremaining: 5.77s\n",
      "11:\tlearn: 0.7896187\ttotal: 64.8ms\tremaining: 5.33s\n",
      "12:\tlearn: 0.7815185\ttotal: 65.2ms\tremaining: 4.95s\n",
      "13:\tlearn: 0.7727603\ttotal: 66.4ms\tremaining: 4.67s\n",
      "14:\tlearn: 0.7645199\ttotal: 66.8ms\tremaining: 4.39s\n",
      "15:\tlearn: 0.7570105\ttotal: 67.6ms\tremaining: 4.16s\n",
      "16:\tlearn: 0.7510503\ttotal: 68.1ms\tremaining: 3.94s\n",
      "17:\tlearn: 0.7451283\ttotal: 68.7ms\tremaining: 3.75s\n",
      "18:\tlearn: 0.7387080\ttotal: 69.5ms\tremaining: 3.59s\n",
      "19:\tlearn: 0.7306481\ttotal: 70.1ms\tremaining: 3.43s\n",
      "20:\tlearn: 0.7231941\ttotal: 70.8ms\tremaining: 3.3s\n",
      "21:\tlearn: 0.7162612\ttotal: 71.6ms\tremaining: 3.18s\n",
      "22:\tlearn: 0.7097001\ttotal: 72.2ms\tremaining: 3.06s\n",
      "23:\tlearn: 0.7042583\ttotal: 72.6ms\tremaining: 2.95s\n",
      "24:\tlearn: 0.6977691\ttotal: 73.2ms\tremaining: 2.86s\n",
      "25:\tlearn: 0.6913544\ttotal: 73.8ms\tremaining: 2.77s\n",
      "26:\tlearn: 0.6852943\ttotal: 74.3ms\tremaining: 2.68s\n",
      "27:\tlearn: 0.6784484\ttotal: 74.9ms\tremaining: 2.6s\n",
      "28:\tlearn: 0.6719074\ttotal: 75.4ms\tremaining: 2.52s\n",
      "29:\tlearn: 0.6656915\ttotal: 76ms\tremaining: 2.46s\n",
      "30:\tlearn: 0.6600585\ttotal: 76.5ms\tremaining: 2.39s\n",
      "31:\tlearn: 0.6545918\ttotal: 77.1ms\tremaining: 2.33s\n",
      "32:\tlearn: 0.6487202\ttotal: 77.7ms\tremaining: 2.28s\n",
      "33:\tlearn: 0.6430564\ttotal: 78.2ms\tremaining: 2.22s\n",
      "34:\tlearn: 0.6372166\ttotal: 78.8ms\tremaining: 2.17s\n",
      "35:\tlearn: 0.6312571\ttotal: 79.2ms\tremaining: 2.12s\n",
      "36:\tlearn: 0.6249956\ttotal: 79.5ms\tremaining: 2.07s\n",
      "37:\tlearn: 0.6185346\ttotal: 80.1ms\tremaining: 2.03s\n",
      "38:\tlearn: 0.6128443\ttotal: 80.6ms\tremaining: 1.99s\n",
      "39:\tlearn: 0.6087066\ttotal: 81.1ms\tremaining: 1.95s\n",
      "40:\tlearn: 0.6031022\ttotal: 81.5ms\tremaining: 1.91s\n",
      "41:\tlearn: 0.5976998\ttotal: 82ms\tremaining: 1.87s\n",
      "42:\tlearn: 0.5923845\ttotal: 82.5ms\tremaining: 1.84s\n",
      "43:\tlearn: 0.5874636\ttotal: 83.1ms\tremaining: 1.8s\n",
      "44:\tlearn: 0.5824275\ttotal: 83.5ms\tremaining: 1.77s\n",
      "45:\tlearn: 0.5769133\ttotal: 84ms\tremaining: 1.74s\n",
      "46:\tlearn: 0.5721819\ttotal: 84.6ms\tremaining: 1.72s\n",
      "47:\tlearn: 0.5675167\ttotal: 85.5ms\tremaining: 1.7s\n",
      "48:\tlearn: 0.5621863\ttotal: 86.1ms\tremaining: 1.67s\n",
      "49:\tlearn: 0.5571375\ttotal: 86.6ms\tremaining: 1.65s\n",
      "50:\tlearn: 0.5523234\ttotal: 87.1ms\tremaining: 1.62s\n",
      "51:\tlearn: 0.5483202\ttotal: 87.6ms\tremaining: 1.6s\n",
      "52:\tlearn: 0.5432954\ttotal: 88ms\tremaining: 1.57s\n",
      "53:\tlearn: 0.5383536\ttotal: 88.5ms\tremaining: 1.55s\n",
      "54:\tlearn: 0.5341715\ttotal: 89ms\tremaining: 1.53s\n",
      "55:\tlearn: 0.5295131\ttotal: 89.5ms\tremaining: 1.51s\n",
      "56:\tlearn: 0.5252088\ttotal: 90ms\tremaining: 1.49s\n",
      "57:\tlearn: 0.5208272\ttotal: 90.5ms\tremaining: 1.47s\n",
      "58:\tlearn: 0.5169030\ttotal: 90.9ms\tremaining: 1.45s\n",
      "59:\tlearn: 0.5124976\ttotal: 91.6ms\tremaining: 1.44s\n",
      "60:\tlearn: 0.5085128\ttotal: 92.4ms\tremaining: 1.42s\n",
      "61:\tlearn: 0.5035852\ttotal: 92.8ms\tremaining: 1.4s\n",
      "62:\tlearn: 0.4989626\ttotal: 93.2ms\tremaining: 1.39s\n",
      "63:\tlearn: 0.4949133\ttotal: 93.9ms\tremaining: 1.37s\n",
      "64:\tlearn: 0.4914724\ttotal: 94.9ms\tremaining: 1.36s\n",
      "65:\tlearn: 0.4871525\ttotal: 95.9ms\tremaining: 1.36s\n",
      "66:\tlearn: 0.4834697\ttotal: 96.9ms\tremaining: 1.35s\n",
      "67:\tlearn: 0.4802260\ttotal: 98.3ms\tremaining: 1.35s\n",
      "68:\tlearn: 0.4764899\ttotal: 99.4ms\tremaining: 1.34s\n"
     ]
    },
    {
     "name": "stdout",
     "output_type": "stream",
     "text": [
      "69:\tlearn: 0.4723920\ttotal: 100ms\tremaining: 1.33s\n",
      "70:\tlearn: 0.4695326\ttotal: 103ms\tremaining: 1.35s\n",
      "71:\tlearn: 0.4652781\ttotal: 104ms\tremaining: 1.34s\n",
      "72:\tlearn: 0.4621019\ttotal: 106ms\tremaining: 1.34s\n",
      "73:\tlearn: 0.4591129\ttotal: 106ms\tremaining: 1.33s\n",
      "74:\tlearn: 0.4562766\ttotal: 107ms\tremaining: 1.32s\n",
      "75:\tlearn: 0.4527944\ttotal: 108ms\tremaining: 1.31s\n",
      "76:\tlearn: 0.4493376\ttotal: 108ms\tremaining: 1.3s\n",
      "77:\tlearn: 0.4468154\ttotal: 109ms\tremaining: 1.28s\n",
      "78:\tlearn: 0.4437165\ttotal: 109ms\tremaining: 1.27s\n",
      "79:\tlearn: 0.4403058\ttotal: 110ms\tremaining: 1.26s\n",
      "80:\tlearn: 0.4374285\ttotal: 111ms\tremaining: 1.25s\n",
      "81:\tlearn: 0.4339772\ttotal: 111ms\tremaining: 1.24s\n",
      "82:\tlearn: 0.4308242\ttotal: 112ms\tremaining: 1.23s\n",
      "83:\tlearn: 0.4280751\ttotal: 112ms\tremaining: 1.22s\n",
      "84:\tlearn: 0.4249221\ttotal: 113ms\tremaining: 1.21s\n",
      "85:\tlearn: 0.4220325\ttotal: 113ms\tremaining: 1.2s\n",
      "86:\tlearn: 0.4199653\ttotal: 114ms\tremaining: 1.19s\n",
      "87:\tlearn: 0.4175846\ttotal: 114ms\tremaining: 1.18s\n",
      "88:\tlearn: 0.4148607\ttotal: 115ms\tremaining: 1.18s\n",
      "89:\tlearn: 0.4128068\ttotal: 115ms\tremaining: 1.17s\n",
      "90:\tlearn: 0.4101583\ttotal: 116ms\tremaining: 1.16s\n",
      "91:\tlearn: 0.4076709\ttotal: 116ms\tremaining: 1.15s\n",
      "92:\tlearn: 0.4051039\ttotal: 117ms\tremaining: 1.14s\n",
      "93:\tlearn: 0.4026345\ttotal: 118ms\tremaining: 1.13s\n",
      "94:\tlearn: 0.4000659\ttotal: 118ms\tremaining: 1.12s\n",
      "95:\tlearn: 0.3976344\ttotal: 119ms\tremaining: 1.12s\n",
      "96:\tlearn: 0.3955341\ttotal: 119ms\tremaining: 1.11s\n",
      "97:\tlearn: 0.3931301\ttotal: 119ms\tremaining: 1.1s\n",
      "98:\tlearn: 0.3909292\ttotal: 120ms\tremaining: 1.09s\n",
      "99:\tlearn: 0.3886420\ttotal: 120ms\tremaining: 1.08s\n",
      "100:\tlearn: 0.3861010\ttotal: 121ms\tremaining: 1.08s\n",
      "101:\tlearn: 0.3836982\ttotal: 122ms\tremaining: 1.07s\n",
      "102:\tlearn: 0.3816770\ttotal: 122ms\tremaining: 1.06s\n",
      "103:\tlearn: 0.3794885\ttotal: 122ms\tremaining: 1.05s\n",
      "104:\tlearn: 0.3770279\ttotal: 123ms\tremaining: 1.05s\n",
      "105:\tlearn: 0.3743864\ttotal: 123ms\tremaining: 1.04s\n",
      "106:\tlearn: 0.3722339\ttotal: 124ms\tremaining: 1.03s\n",
      "107:\tlearn: 0.3702207\ttotal: 124ms\tremaining: 1.03s\n",
      "108:\tlearn: 0.3677726\ttotal: 125ms\tremaining: 1.02s\n",
      "109:\tlearn: 0.3654483\ttotal: 125ms\tremaining: 1.01s\n",
      "110:\tlearn: 0.3630144\ttotal: 126ms\tremaining: 1.01s\n",
      "111:\tlearn: 0.3610680\ttotal: 126ms\tremaining: 1s\n",
      "112:\tlearn: 0.3590567\ttotal: 127ms\tremaining: 994ms\n",
      "113:\tlearn: 0.3572906\ttotal: 127ms\tremaining: 989ms\n",
      "114:\tlearn: 0.3550724\ttotal: 128ms\tremaining: 985ms\n",
      "115:\tlearn: 0.3530862\ttotal: 129ms\tremaining: 982ms\n",
      "116:\tlearn: 0.3512036\ttotal: 130ms\tremaining: 981ms\n",
      "117:\tlearn: 0.3497027\ttotal: 131ms\tremaining: 977ms\n",
      "118:\tlearn: 0.3481122\ttotal: 132ms\tremaining: 975ms\n",
      "119:\tlearn: 0.3462642\ttotal: 133ms\tremaining: 974ms\n",
      "120:\tlearn: 0.3438589\ttotal: 133ms\tremaining: 970ms\n",
      "121:\tlearn: 0.3417880\ttotal: 134ms\tremaining: 963ms\n",
      "122:\tlearn: 0.3401818\ttotal: 135ms\tremaining: 959ms\n",
      "123:\tlearn: 0.3389186\ttotal: 135ms\tremaining: 953ms\n",
      "124:\tlearn: 0.3373557\ttotal: 135ms\tremaining: 947ms\n",
      "125:\tlearn: 0.3356129\ttotal: 136ms\tremaining: 945ms\n",
      "126:\tlearn: 0.3334826\ttotal: 137ms\tremaining: 939ms\n",
      "127:\tlearn: 0.3321366\ttotal: 137ms\tremaining: 935ms\n",
      "128:\tlearn: 0.3304906\ttotal: 138ms\tremaining: 931ms\n",
      "129:\tlearn: 0.3291452\ttotal: 138ms\tremaining: 926ms\n",
      "130:\tlearn: 0.3272340\ttotal: 139ms\tremaining: 920ms\n",
      "131:\tlearn: 0.3258239\ttotal: 139ms\tremaining: 915ms\n",
      "132:\tlearn: 0.3244003\ttotal: 140ms\tremaining: 909ms\n",
      "133:\tlearn: 0.3227761\ttotal: 140ms\tremaining: 904ms\n",
      "134:\tlearn: 0.3210947\ttotal: 140ms\tremaining: 899ms\n",
      "135:\tlearn: 0.3196553\ttotal: 141ms\tremaining: 897ms\n",
      "136:\tlearn: 0.3181108\ttotal: 142ms\tremaining: 895ms\n",
      "137:\tlearn: 0.3163027\ttotal: 143ms\tremaining: 891ms\n",
      "138:\tlearn: 0.3149640\ttotal: 143ms\tremaining: 887ms\n",
      "139:\tlearn: 0.3136523\ttotal: 144ms\tremaining: 883ms\n",
      "140:\tlearn: 0.3123184\ttotal: 144ms\tremaining: 879ms\n",
      "141:\tlearn: 0.3110680\ttotal: 145ms\tremaining: 874ms\n",
      "142:\tlearn: 0.3094126\ttotal: 145ms\tremaining: 870ms\n",
      "143:\tlearn: 0.3078825\ttotal: 146ms\tremaining: 866ms\n",
      "144:\tlearn: 0.3064602\ttotal: 146ms\tremaining: 862ms\n",
      "145:\tlearn: 0.3051858\ttotal: 147ms\tremaining: 857ms\n",
      "146:\tlearn: 0.3039906\ttotal: 147ms\tremaining: 853ms\n",
      "147:\tlearn: 0.3025819\ttotal: 147ms\tremaining: 849ms\n",
      "148:\tlearn: 0.3013695\ttotal: 148ms\tremaining: 845ms\n",
      "149:\tlearn: 0.3001585\ttotal: 148ms\tremaining: 841ms\n",
      "150:\tlearn: 0.2984943\ttotal: 149ms\tremaining: 838ms\n",
      "151:\tlearn: 0.2972276\ttotal: 149ms\tremaining: 833ms\n",
      "152:\tlearn: 0.2960707\ttotal: 150ms\tremaining: 829ms\n",
      "153:\tlearn: 0.2949529\ttotal: 150ms\tremaining: 825ms\n",
      "154:\tlearn: 0.2934549\ttotal: 151ms\tremaining: 824ms\n",
      "155:\tlearn: 0.2919953\ttotal: 152ms\tremaining: 821ms\n",
      "156:\tlearn: 0.2907732\ttotal: 152ms\tremaining: 817ms\n",
      "157:\tlearn: 0.2898578\ttotal: 153ms\tremaining: 813ms\n",
      "158:\tlearn: 0.2887245\ttotal: 153ms\tremaining: 810ms\n",
      "159:\tlearn: 0.2877421\ttotal: 154ms\tremaining: 806ms\n",
      "160:\tlearn: 0.2868915\ttotal: 154ms\tremaining: 803ms\n",
      "161:\tlearn: 0.2857689\ttotal: 155ms\tremaining: 799ms\n",
      "162:\tlearn: 0.2842340\ttotal: 155ms\tremaining: 796ms\n",
      "163:\tlearn: 0.2827098\ttotal: 155ms\tremaining: 792ms\n",
      "164:\tlearn: 0.2819531\ttotal: 156ms\tremaining: 788ms\n",
      "165:\tlearn: 0.2812679\ttotal: 156ms\tremaining: 785ms\n",
      "166:\tlearn: 0.2799674\ttotal: 157ms\tremaining: 782ms\n",
      "167:\tlearn: 0.2789401\ttotal: 157ms\tremaining: 778ms\n",
      "168:\tlearn: 0.2772637\ttotal: 158ms\tremaining: 775ms\n",
      "169:\tlearn: 0.2758229\ttotal: 158ms\tremaining: 771ms\n",
      "170:\tlearn: 0.2743204\ttotal: 158ms\tremaining: 768ms\n",
      "171:\tlearn: 0.2730319\ttotal: 159ms\tremaining: 765ms\n"
     ]
    },
    {
     "name": "stdout",
     "output_type": "stream",
     "text": [
      "172:\tlearn: 0.2718926\ttotal: 159ms\tremaining: 762ms\n",
      "173:\tlearn: 0.2709333\ttotal: 160ms\tremaining: 761ms\n",
      "174:\tlearn: 0.2697251\ttotal: 161ms\tremaining: 758ms\n",
      "175:\tlearn: 0.2683784\ttotal: 161ms\tremaining: 755ms\n",
      "176:\tlearn: 0.2673596\ttotal: 162ms\tremaining: 752ms\n",
      "177:\tlearn: 0.2658975\ttotal: 162ms\tremaining: 748ms\n",
      "178:\tlearn: 0.2651663\ttotal: 162ms\tremaining: 745ms\n",
      "179:\tlearn: 0.2639301\ttotal: 163ms\tremaining: 742ms\n",
      "180:\tlearn: 0.2630753\ttotal: 163ms\tremaining: 739ms\n",
      "181:\tlearn: 0.2619457\ttotal: 164ms\tremaining: 736ms\n",
      "182:\tlearn: 0.2606036\ttotal: 164ms\tremaining: 733ms\n",
      "183:\tlearn: 0.2597231\ttotal: 165ms\tremaining: 730ms\n",
      "184:\tlearn: 0.2586395\ttotal: 165ms\tremaining: 727ms\n",
      "185:\tlearn: 0.2576453\ttotal: 165ms\tremaining: 724ms\n",
      "186:\tlearn: 0.2566616\ttotal: 166ms\tremaining: 721ms\n",
      "187:\tlearn: 0.2557524\ttotal: 167ms\tremaining: 720ms\n",
      "188:\tlearn: 0.2546630\ttotal: 167ms\tremaining: 718ms\n",
      "189:\tlearn: 0.2540625\ttotal: 168ms\tremaining: 714ms\n",
      "190:\tlearn: 0.2529873\ttotal: 168ms\tremaining: 711ms\n",
      "191:\tlearn: 0.2517642\ttotal: 168ms\tremaining: 708ms\n",
      "192:\tlearn: 0.2508783\ttotal: 169ms\tremaining: 706ms\n",
      "193:\tlearn: 0.2497625\ttotal: 169ms\tremaining: 703ms\n",
      "194:\tlearn: 0.2487452\ttotal: 170ms\tremaining: 700ms\n",
      "195:\tlearn: 0.2472409\ttotal: 170ms\tremaining: 698ms\n",
      "196:\tlearn: 0.2460463\ttotal: 171ms\tremaining: 696ms\n",
      "197:\tlearn: 0.2447592\ttotal: 171ms\tremaining: 693ms\n",
      "198:\tlearn: 0.2438542\ttotal: 172ms\tremaining: 690ms\n",
      "199:\tlearn: 0.2430172\ttotal: 172ms\tremaining: 688ms\n",
      "200:\tlearn: 0.2421116\ttotal: 172ms\tremaining: 685ms\n",
      "201:\tlearn: 0.2412758\ttotal: 173ms\tremaining: 683ms\n",
      "202:\tlearn: 0.2399087\ttotal: 173ms\tremaining: 680ms\n",
      "203:\tlearn: 0.2389935\ttotal: 174ms\tremaining: 678ms\n",
      "204:\tlearn: 0.2379499\ttotal: 174ms\tremaining: 675ms\n",
      "205:\tlearn: 0.2372625\ttotal: 174ms\tremaining: 672ms\n",
      "206:\tlearn: 0.2361056\ttotal: 175ms\tremaining: 670ms\n",
      "207:\tlearn: 0.2349763\ttotal: 175ms\tremaining: 667ms\n",
      "208:\tlearn: 0.2338336\ttotal: 176ms\tremaining: 665ms\n",
      "209:\tlearn: 0.2330074\ttotal: 176ms\tremaining: 663ms\n",
      "210:\tlearn: 0.2320886\ttotal: 177ms\tremaining: 661ms\n",
      "211:\tlearn: 0.2313541\ttotal: 177ms\tremaining: 658ms\n",
      "212:\tlearn: 0.2302139\ttotal: 178ms\tremaining: 656ms\n",
      "213:\tlearn: 0.2295688\ttotal: 178ms\tremaining: 653ms\n",
      "214:\tlearn: 0.2290482\ttotal: 179ms\tremaining: 652ms\n",
      "215:\tlearn: 0.2283349\ttotal: 179ms\tremaining: 649ms\n",
      "216:\tlearn: 0.2276668\ttotal: 179ms\tremaining: 647ms\n",
      "217:\tlearn: 0.2268876\ttotal: 180ms\tremaining: 645ms\n",
      "218:\tlearn: 0.2262418\ttotal: 180ms\tremaining: 643ms\n",
      "219:\tlearn: 0.2251879\ttotal: 180ms\tremaining: 640ms\n",
      "220:\tlearn: 0.2246691\ttotal: 181ms\tremaining: 637ms\n",
      "221:\tlearn: 0.2243320\ttotal: 181ms\tremaining: 635ms\n",
      "222:\tlearn: 0.2233460\ttotal: 182ms\tremaining: 633ms\n",
      "223:\tlearn: 0.2227514\ttotal: 182ms\tremaining: 632ms\n",
      "224:\tlearn: 0.2220447\ttotal: 183ms\tremaining: 630ms\n",
      "225:\tlearn: 0.2214691\ttotal: 183ms\tremaining: 628ms\n",
      "226:\tlearn: 0.2202641\ttotal: 184ms\tremaining: 625ms\n",
      "227:\tlearn: 0.2194428\ttotal: 184ms\tremaining: 623ms\n",
      "228:\tlearn: 0.2186948\ttotal: 185ms\tremaining: 622ms\n",
      "229:\tlearn: 0.2175812\ttotal: 185ms\tremaining: 619ms\n",
      "230:\tlearn: 0.2166834\ttotal: 185ms\tremaining: 617ms\n",
      "231:\tlearn: 0.2158065\ttotal: 186ms\tremaining: 615ms\n",
      "232:\tlearn: 0.2149469\ttotal: 186ms\tremaining: 613ms\n",
      "233:\tlearn: 0.2143777\ttotal: 187ms\tremaining: 611ms\n",
      "234:\tlearn: 0.2135076\ttotal: 187ms\tremaining: 610ms\n",
      "235:\tlearn: 0.2129930\ttotal: 188ms\tremaining: 608ms\n",
      "236:\tlearn: 0.2124956\ttotal: 188ms\tremaining: 606ms\n",
      "237:\tlearn: 0.2118525\ttotal: 189ms\tremaining: 604ms\n",
      "238:\tlearn: 0.2112771\ttotal: 189ms\tremaining: 602ms\n",
      "239:\tlearn: 0.2103598\ttotal: 189ms\tremaining: 600ms\n",
      "240:\tlearn: 0.2097891\ttotal: 190ms\tremaining: 598ms\n",
      "241:\tlearn: 0.2095640\ttotal: 190ms\tremaining: 596ms\n",
      "242:\tlearn: 0.2090464\ttotal: 191ms\tremaining: 594ms\n",
      "243:\tlearn: 0.2086917\ttotal: 191ms\tremaining: 592ms\n",
      "244:\tlearn: 0.2081161\ttotal: 192ms\tremaining: 590ms\n",
      "245:\tlearn: 0.2072037\ttotal: 192ms\tremaining: 588ms\n",
      "246:\tlearn: 0.2062986\ttotal: 192ms\tremaining: 587ms\n",
      "247:\tlearn: 0.2053621\ttotal: 193ms\tremaining: 585ms\n",
      "248:\tlearn: 0.2051674\ttotal: 193ms\tremaining: 583ms\n",
      "249:\tlearn: 0.2048321\ttotal: 194ms\tremaining: 581ms\n",
      "250:\tlearn: 0.2045679\ttotal: 194ms\tremaining: 579ms\n",
      "251:\tlearn: 0.2039273\ttotal: 194ms\tremaining: 577ms\n",
      "252:\tlearn: 0.2033870\ttotal: 195ms\tremaining: 575ms\n",
      "253:\tlearn: 0.2029263\ttotal: 195ms\tremaining: 573ms\n",
      "254:\tlearn: 0.2020100\ttotal: 196ms\tremaining: 571ms\n",
      "255:\tlearn: 0.2015627\ttotal: 196ms\tremaining: 570ms\n",
      "256:\tlearn: 0.2009876\ttotal: 197ms\tremaining: 568ms\n",
      "257:\tlearn: 0.2006010\ttotal: 197ms\tremaining: 567ms\n",
      "258:\tlearn: 0.1997755\ttotal: 198ms\tremaining: 565ms\n",
      "259:\tlearn: 0.1994207\ttotal: 198ms\tremaining: 563ms\n",
      "260:\tlearn: 0.1986165\ttotal: 198ms\tremaining: 562ms\n",
      "261:\tlearn: 0.1977178\ttotal: 199ms\tremaining: 560ms\n",
      "262:\tlearn: 0.1969148\ttotal: 200ms\tremaining: 559ms\n",
      "263:\tlearn: 0.1963188\ttotal: 200ms\tremaining: 557ms\n",
      "264:\tlearn: 0.1958904\ttotal: 200ms\tremaining: 556ms\n",
      "265:\tlearn: 0.1954214\ttotal: 201ms\tremaining: 554ms\n",
      "266:\tlearn: 0.1952675\ttotal: 201ms\tremaining: 552ms\n",
      "267:\tlearn: 0.1949071\ttotal: 202ms\tremaining: 550ms\n",
      "268:\tlearn: 0.1946246\ttotal: 202ms\tremaining: 549ms\n",
      "269:\tlearn: 0.1944753\ttotal: 203ms\tremaining: 548ms\n",
      "270:\tlearn: 0.1936383\ttotal: 203ms\tremaining: 546ms\n",
      "271:\tlearn: 0.1931488\ttotal: 203ms\tremaining: 545ms\n",
      "272:\tlearn: 0.1924053\ttotal: 204ms\tremaining: 543ms\n",
      "273:\tlearn: 0.1918524\ttotal: 205ms\tremaining: 542ms\n",
      "274:\tlearn: 0.1910856\ttotal: 205ms\tremaining: 540ms\n",
      "275:\tlearn: 0.1901338\ttotal: 205ms\tremaining: 539ms\n",
      "276:\tlearn: 0.1899798\ttotal: 206ms\tremaining: 538ms\n",
      "277:\tlearn: 0.1893777\ttotal: 206ms\tremaining: 536ms\n",
      "278:\tlearn: 0.1892471\ttotal: 207ms\tremaining: 535ms\n",
      "279:\tlearn: 0.1890428\ttotal: 207ms\tremaining: 533ms\n",
      "280:\tlearn: 0.1881424\ttotal: 208ms\tremaining: 532ms\n",
      "281:\tlearn: 0.1876405\ttotal: 208ms\tremaining: 530ms\n",
      "282:\tlearn: 0.1875005\ttotal: 209ms\tremaining: 528ms\n",
      "283:\tlearn: 0.1873569\ttotal: 209ms\tremaining: 527ms\n",
      "284:\tlearn: 0.1872153\ttotal: 209ms\tremaining: 525ms\n",
      "285:\tlearn: 0.1865081\ttotal: 210ms\tremaining: 523ms\n",
      "286:\tlearn: 0.1863700\ttotal: 210ms\tremaining: 522ms\n",
      "287:\tlearn: 0.1862470\ttotal: 210ms\tremaining: 520ms\n",
      "288:\tlearn: 0.1861258\ttotal: 211ms\tremaining: 519ms\n",
      "289:\tlearn: 0.1859927\ttotal: 211ms\tremaining: 517ms\n",
      "290:\tlearn: 0.1858497\ttotal: 212ms\tremaining: 516ms\n",
      "291:\tlearn: 0.1857204\ttotal: 212ms\tremaining: 515ms\n",
      "292:\tlearn: 0.1856046\ttotal: 213ms\tremaining: 513ms\n",
      "293:\tlearn: 0.1854908\ttotal: 213ms\tremaining: 512ms\n",
      "294:\tlearn: 0.1846136\ttotal: 214ms\tremaining: 511ms\n",
      "295:\tlearn: 0.1844904\ttotal: 214ms\tremaining: 509ms\n",
      "296:\tlearn: 0.1843798\ttotal: 215ms\tremaining: 508ms\n",
      "297:\tlearn: 0.1835458\ttotal: 215ms\tremaining: 506ms\n",
      "298:\tlearn: 0.1834268\ttotal: 215ms\tremaining: 505ms\n",
      "299:\tlearn: 0.1833096\ttotal: 216ms\tremaining: 504ms\n",
      "300:\tlearn: 0.1824740\ttotal: 217ms\tremaining: 503ms\n",
      "301:\tlearn: 0.1823693\ttotal: 217ms\tremaining: 502ms\n",
      "302:\tlearn: 0.1822563\ttotal: 218ms\tremaining: 500ms\n",
      "303:\tlearn: 0.1821551\ttotal: 218ms\tremaining: 499ms\n",
      "304:\tlearn: 0.1813393\ttotal: 218ms\tremaining: 498ms\n",
      "305:\tlearn: 0.1804210\ttotal: 219ms\tremaining: 496ms\n",
      "306:\tlearn: 0.1803225\ttotal: 219ms\tremaining: 495ms\n",
      "307:\tlearn: 0.1795362\ttotal: 220ms\tremaining: 494ms\n",
      "308:\tlearn: 0.1794401\ttotal: 220ms\tremaining: 492ms\n",
      "309:\tlearn: 0.1793442\ttotal: 221ms\tremaining: 491ms\n",
      "310:\tlearn: 0.1792412\ttotal: 221ms\tremaining: 490ms\n",
      "311:\tlearn: 0.1791477\ttotal: 222ms\tremaining: 488ms\n",
      "312:\tlearn: 0.1783624\ttotal: 222ms\tremaining: 487ms\n",
      "313:\tlearn: 0.1775689\ttotal: 222ms\tremaining: 486ms\n",
      "314:\tlearn: 0.1767932\ttotal: 223ms\tremaining: 485ms\n",
      "315:\tlearn: 0.1767024\ttotal: 223ms\tremaining: 484ms\n",
      "316:\tlearn: 0.1759571\ttotal: 224ms\tremaining: 482ms\n",
      "317:\tlearn: 0.1751919\ttotal: 224ms\tremaining: 481ms\n",
      "318:\tlearn: 0.1748789\ttotal: 225ms\tremaining: 480ms\n",
      "319:\tlearn: 0.1740121\ttotal: 225ms\tremaining: 478ms\n",
      "320:\tlearn: 0.1739263\ttotal: 225ms\tremaining: 477ms\n",
      "321:\tlearn: 0.1738409\ttotal: 226ms\tremaining: 476ms\n",
      "322:\tlearn: 0.1730135\ttotal: 226ms\tremaining: 474ms\n",
      "323:\tlearn: 0.1727182\ttotal: 227ms\tremaining: 473ms\n",
      "324:\tlearn: 0.1719188\ttotal: 227ms\tremaining: 472ms\n",
      "325:\tlearn: 0.1718365\ttotal: 228ms\tremaining: 471ms\n",
      "326:\tlearn: 0.1711822\ttotal: 228ms\tremaining: 469ms\n",
      "327:\tlearn: 0.1704588\ttotal: 229ms\tremaining: 468ms\n",
      "328:\tlearn: 0.1700047\ttotal: 229ms\tremaining: 467ms\n",
      "329:\tlearn: 0.1695622\ttotal: 230ms\tremaining: 466ms\n",
      "330:\tlearn: 0.1687990\ttotal: 230ms\tremaining: 465ms\n",
      "331:\tlearn: 0.1681344\ttotal: 230ms\tremaining: 464ms\n",
      "332:\tlearn: 0.1676951\ttotal: 231ms\tremaining: 462ms\n",
      "333:\tlearn: 0.1675856\ttotal: 231ms\tremaining: 461ms\n",
      "334:\tlearn: 0.1668366\ttotal: 232ms\tremaining: 460ms\n",
      "335:\tlearn: 0.1667294\ttotal: 232ms\tremaining: 459ms\n",
      "336:\tlearn: 0.1661112\ttotal: 233ms\tremaining: 458ms\n",
      "337:\tlearn: 0.1653307\ttotal: 233ms\tremaining: 457ms\n",
      "338:\tlearn: 0.1646596\ttotal: 235ms\tremaining: 457ms\n",
      "339:\tlearn: 0.1644544\ttotal: 235ms\tremaining: 456ms\n",
      "340:\tlearn: 0.1643808\ttotal: 236ms\tremaining: 455ms\n",
      "341:\tlearn: 0.1637523\ttotal: 236ms\tremaining: 454ms\n",
      "342:\tlearn: 0.1631609\ttotal: 237ms\tremaining: 453ms\n",
      "343:\tlearn: 0.1629601\ttotal: 237ms\tremaining: 452ms\n",
      "344:\tlearn: 0.1627649\ttotal: 237ms\tremaining: 451ms\n",
      "345:\tlearn: 0.1620749\ttotal: 238ms\tremaining: 450ms\n",
      "346:\tlearn: 0.1619373\ttotal: 238ms\tremaining: 449ms\n",
      "347:\tlearn: 0.1618678\ttotal: 239ms\tremaining: 448ms\n",
      "348:\tlearn: 0.1612912\ttotal: 239ms\tremaining: 447ms\n",
      "349:\tlearn: 0.1611574\ttotal: 240ms\tremaining: 445ms\n",
      "350:\tlearn: 0.1608994\ttotal: 240ms\tremaining: 444ms\n",
      "351:\tlearn: 0.1603063\ttotal: 241ms\tremaining: 443ms\n",
      "352:\tlearn: 0.1597474\ttotal: 241ms\tremaining: 442ms\n",
      "353:\tlearn: 0.1596723\ttotal: 242ms\tremaining: 441ms\n",
      "354:\tlearn: 0.1590160\ttotal: 242ms\tremaining: 440ms\n",
      "355:\tlearn: 0.1588889\ttotal: 242ms\tremaining: 438ms\n",
      "356:\tlearn: 0.1588165\ttotal: 243ms\tremaining: 437ms\n",
      "357:\tlearn: 0.1582487\ttotal: 243ms\tremaining: 436ms\n",
      "358:\tlearn: 0.1580057\ttotal: 244ms\tremaining: 435ms\n",
      "359:\tlearn: 0.1579360\ttotal: 244ms\tremaining: 434ms\n",
      "360:\tlearn: 0.1573052\ttotal: 244ms\tremaining: 433ms\n",
      "361:\tlearn: 0.1567375\ttotal: 245ms\tremaining: 431ms\n",
      "362:\tlearn: 0.1561233\ttotal: 245ms\tremaining: 430ms\n",
      "363:\tlearn: 0.1555966\ttotal: 246ms\tremaining: 429ms\n",
      "364:\tlearn: 0.1554257\ttotal: 246ms\tremaining: 428ms\n",
      "365:\tlearn: 0.1551969\ttotal: 247ms\tremaining: 427ms\n",
      "366:\tlearn: 0.1546634\ttotal: 247ms\tremaining: 426ms\n",
      "367:\tlearn: 0.1540757\ttotal: 248ms\tremaining: 425ms\n",
      "368:\tlearn: 0.1539123\ttotal: 248ms\tremaining: 424ms\n",
      "369:\tlearn: 0.1533714\ttotal: 249ms\tremaining: 423ms\n",
      "370:\tlearn: 0.1529907\ttotal: 249ms\tremaining: 422ms\n",
      "371:\tlearn: 0.1524754\ttotal: 250ms\tremaining: 421ms\n",
      "372:\tlearn: 0.1519125\ttotal: 250ms\tremaining: 420ms\n",
      "373:\tlearn: 0.1517530\ttotal: 251ms\tremaining: 419ms\n",
      "374:\tlearn: 0.1512308\ttotal: 251ms\tremaining: 419ms\n",
      "375:\tlearn: 0.1507357\ttotal: 252ms\tremaining: 418ms\n",
      "376:\tlearn: 0.1505643\ttotal: 252ms\tremaining: 417ms\n",
      "377:\tlearn: 0.1498431\ttotal: 253ms\tremaining: 416ms\n",
      "378:\tlearn: 0.1493617\ttotal: 253ms\tremaining: 415ms\n",
      "379:\tlearn: 0.1488897\ttotal: 254ms\tremaining: 414ms\n",
      "380:\tlearn: 0.1486244\ttotal: 254ms\tremaining: 413ms\n",
      "381:\tlearn: 0.1481428\ttotal: 255ms\tremaining: 412ms\n",
      "382:\tlearn: 0.1478875\ttotal: 255ms\tremaining: 411ms\n",
      "383:\tlearn: 0.1474018\ttotal: 255ms\tremaining: 410ms\n",
      "384:\tlearn: 0.1467104\ttotal: 256ms\tremaining: 408ms\n",
      "385:\tlearn: 0.1462607\ttotal: 256ms\tremaining: 407ms\n",
      "386:\tlearn: 0.1457402\ttotal: 257ms\tremaining: 406ms\n",
      "387:\tlearn: 0.1452988\ttotal: 257ms\tremaining: 405ms\n",
      "388:\tlearn: 0.1450540\ttotal: 258ms\tremaining: 404ms\n",
      "389:\tlearn: 0.1444949\ttotal: 258ms\tremaining: 403ms\n"
     ]
    },
    {
     "name": "stdout",
     "output_type": "stream",
     "text": [
      "390:\tlearn: 0.1439485\ttotal: 261ms\tremaining: 407ms\n",
      "391:\tlearn: 0.1437936\ttotal: 262ms\tremaining: 406ms\n",
      "392:\tlearn: 0.1432595\ttotal: 262ms\tremaining: 405ms\n",
      "393:\tlearn: 0.1429361\ttotal: 263ms\tremaining: 405ms\n",
      "394:\tlearn: 0.1426162\ttotal: 264ms\tremaining: 404ms\n",
      "395:\tlearn: 0.1425342\ttotal: 264ms\tremaining: 403ms\n",
      "396:\tlearn: 0.1420370\ttotal: 264ms\tremaining: 402ms\n",
      "397:\tlearn: 0.1416559\ttotal: 265ms\tremaining: 401ms\n",
      "398:\tlearn: 0.1415053\ttotal: 265ms\tremaining: 400ms\n",
      "399:\tlearn: 0.1410943\ttotal: 266ms\tremaining: 399ms\n",
      "400:\tlearn: 0.1406633\ttotal: 266ms\tremaining: 398ms\n",
      "401:\tlearn: 0.1400862\ttotal: 267ms\tremaining: 397ms\n",
      "402:\tlearn: 0.1399381\ttotal: 267ms\tremaining: 396ms\n",
      "403:\tlearn: 0.1397927\ttotal: 267ms\tremaining: 394ms\n",
      "404:\tlearn: 0.1391499\ttotal: 268ms\tremaining: 394ms\n",
      "405:\tlearn: 0.1386231\ttotal: 268ms\tremaining: 393ms\n",
      "406:\tlearn: 0.1383540\ttotal: 269ms\tremaining: 392ms\n",
      "407:\tlearn: 0.1382085\ttotal: 270ms\tremaining: 391ms\n",
      "408:\tlearn: 0.1376537\ttotal: 270ms\tremaining: 390ms\n",
      "409:\tlearn: 0.1372206\ttotal: 271ms\tremaining: 389ms\n",
      "410:\tlearn: 0.1368010\ttotal: 271ms\tremaining: 388ms\n",
      "411:\tlearn: 0.1363926\ttotal: 271ms\tremaining: 387ms\n",
      "412:\tlearn: 0.1362526\ttotal: 272ms\tremaining: 386ms\n",
      "413:\tlearn: 0.1358560\ttotal: 272ms\tremaining: 385ms\n",
      "414:\tlearn: 0.1357838\ttotal: 273ms\tremaining: 385ms\n",
      "415:\tlearn: 0.1357127\ttotal: 273ms\tremaining: 384ms\n",
      "416:\tlearn: 0.1352129\ttotal: 274ms\tremaining: 383ms\n",
      "417:\tlearn: 0.1348280\ttotal: 274ms\tremaining: 382ms\n",
      "418:\tlearn: 0.1344031\ttotal: 275ms\tremaining: 381ms\n",
      "419:\tlearn: 0.1343293\ttotal: 275ms\tremaining: 380ms\n",
      "420:\tlearn: 0.1342570\ttotal: 276ms\tremaining: 379ms\n",
      "421:\tlearn: 0.1341255\ttotal: 276ms\tremaining: 378ms\n",
      "422:\tlearn: 0.1340732\ttotal: 277ms\tremaining: 377ms\n",
      "423:\tlearn: 0.1335537\ttotal: 277ms\tremaining: 377ms\n",
      "424:\tlearn: 0.1334832\ttotal: 278ms\tremaining: 376ms\n",
      "425:\tlearn: 0.1329993\ttotal: 278ms\tremaining: 375ms\n",
      "426:\tlearn: 0.1329482\ttotal: 278ms\tremaining: 374ms\n",
      "427:\tlearn: 0.1324766\ttotal: 279ms\tremaining: 373ms\n",
      "428:\tlearn: 0.1321899\ttotal: 279ms\tremaining: 372ms\n",
      "429:\tlearn: 0.1319079\ttotal: 280ms\tremaining: 371ms\n",
      "430:\tlearn: 0.1314078\ttotal: 280ms\tremaining: 370ms\n",
      "431:\tlearn: 0.1311306\ttotal: 281ms\tremaining: 369ms\n",
      "432:\tlearn: 0.1306714\ttotal: 281ms\tremaining: 368ms\n",
      "433:\tlearn: 0.1302338\ttotal: 282ms\tremaining: 367ms\n",
      "434:\tlearn: 0.1299633\ttotal: 282ms\tremaining: 366ms\n",
      "435:\tlearn: 0.1294814\ttotal: 283ms\tremaining: 365ms\n",
      "436:\tlearn: 0.1292155\ttotal: 283ms\tremaining: 365ms\n",
      "437:\tlearn: 0.1289540\ttotal: 283ms\tremaining: 364ms\n",
      "438:\tlearn: 0.1287271\ttotal: 284ms\tremaining: 363ms\n",
      "439:\tlearn: 0.1283456\ttotal: 284ms\tremaining: 362ms\n",
      "440:\tlearn: 0.1278779\ttotal: 285ms\tremaining: 361ms\n",
      "441:\tlearn: 0.1276230\ttotal: 285ms\tremaining: 360ms\n",
      "442:\tlearn: 0.1273723\ttotal: 286ms\tremaining: 359ms\n",
      "443:\tlearn: 0.1271531\ttotal: 286ms\tremaining: 358ms\n",
      "444:\tlearn: 0.1266948\ttotal: 286ms\tremaining: 357ms\n",
      "445:\tlearn: 0.1264785\ttotal: 287ms\tremaining: 356ms\n",
      "446:\tlearn: 0.1262668\ttotal: 287ms\tremaining: 355ms\n",
      "447:\tlearn: 0.1260580\ttotal: 288ms\tremaining: 355ms\n",
      "448:\tlearn: 0.1258519\ttotal: 288ms\tremaining: 354ms\n",
      "449:\tlearn: 0.1254761\ttotal: 289ms\tremaining: 353ms\n",
      "450:\tlearn: 0.1252628\ttotal: 289ms\tremaining: 352ms\n",
      "451:\tlearn: 0.1250597\ttotal: 290ms\tremaining: 351ms\n",
      "452:\tlearn: 0.1246074\ttotal: 290ms\tremaining: 350ms\n",
      "453:\tlearn: 0.1244061\ttotal: 291ms\tremaining: 350ms\n",
      "454:\tlearn: 0.1242076\ttotal: 291ms\tremaining: 349ms\n",
      "455:\tlearn: 0.1239661\ttotal: 292ms\tremaining: 348ms\n",
      "456:\tlearn: 0.1237703\ttotal: 292ms\tremaining: 347ms\n",
      "457:\tlearn: 0.1236488\ttotal: 292ms\tremaining: 346ms\n",
      "458:\tlearn: 0.1234566\ttotal: 293ms\tremaining: 345ms\n",
      "459:\tlearn: 0.1230110\ttotal: 293ms\tremaining: 344ms\n",
      "460:\tlearn: 0.1227928\ttotal: 294ms\tremaining: 344ms\n",
      "461:\tlearn: 0.1225579\ttotal: 294ms\tremaining: 343ms\n",
      "462:\tlearn: 0.1221962\ttotal: 295ms\tremaining: 342ms\n",
      "463:\tlearn: 0.1219828\ttotal: 295ms\tremaining: 341ms\n",
      "464:\tlearn: 0.1216369\ttotal: 296ms\tremaining: 340ms\n",
      "465:\tlearn: 0.1214113\ttotal: 296ms\tremaining: 339ms\n",
      "466:\tlearn: 0.1210528\ttotal: 297ms\tremaining: 338ms\n",
      "467:\tlearn: 0.1208706\ttotal: 297ms\tremaining: 338ms\n",
      "468:\tlearn: 0.1205076\ttotal: 297ms\tremaining: 337ms\n",
      "469:\tlearn: 0.1198526\ttotal: 298ms\tremaining: 336ms\n",
      "470:\tlearn: 0.1196496\ttotal: 298ms\tremaining: 335ms\n",
      "471:\tlearn: 0.1194361\ttotal: 299ms\tremaining: 334ms\n",
      "472:\tlearn: 0.1187980\ttotal: 299ms\tremaining: 333ms\n",
      "473:\tlearn: 0.1186662\ttotal: 300ms\tremaining: 333ms\n",
      "474:\tlearn: 0.1180364\ttotal: 300ms\tremaining: 332ms\n",
      "475:\tlearn: 0.1174208\ttotal: 301ms\tremaining: 331ms\n",
      "476:\tlearn: 0.1170362\ttotal: 301ms\tremaining: 330ms\n",
      "477:\tlearn: 0.1166998\ttotal: 302ms\tremaining: 329ms\n",
      "478:\tlearn: 0.1165769\ttotal: 302ms\tremaining: 329ms\n",
      "479:\tlearn: 0.1164606\ttotal: 303ms\tremaining: 328ms\n",
      "480:\tlearn: 0.1164118\ttotal: 303ms\tremaining: 327ms\n",
      "481:\tlearn: 0.1163715\ttotal: 304ms\tremaining: 326ms\n",
      "482:\tlearn: 0.1157716\ttotal: 305ms\tremaining: 326ms\n",
      "483:\tlearn: 0.1151853\ttotal: 305ms\tremaining: 326ms\n",
      "484:\tlearn: 0.1149902\ttotal: 307ms\tremaining: 326ms\n",
      "485:\tlearn: 0.1146617\ttotal: 308ms\tremaining: 326ms\n",
      "486:\tlearn: 0.1145465\ttotal: 309ms\tremaining: 325ms\n",
      "487:\tlearn: 0.1145001\ttotal: 309ms\tremaining: 324ms\n",
      "488:\tlearn: 0.1141024\ttotal: 310ms\tremaining: 323ms\n",
      "489:\tlearn: 0.1137109\ttotal: 310ms\tremaining: 323ms\n",
      "490:\tlearn: 0.1131403\ttotal: 310ms\tremaining: 322ms\n",
      "491:\tlearn: 0.1125826\ttotal: 311ms\tremaining: 321ms\n",
      "492:\tlearn: 0.1121781\ttotal: 311ms\tremaining: 320ms\n",
      "493:\tlearn: 0.1118528\ttotal: 312ms\tremaining: 319ms\n",
      "494:\tlearn: 0.1115349\ttotal: 312ms\tremaining: 319ms\n",
      "495:\tlearn: 0.1112196\ttotal: 313ms\tremaining: 318ms\n",
      "496:\tlearn: 0.1108432\ttotal: 313ms\tremaining: 317ms\n",
      "497:\tlearn: 0.1105332\ttotal: 314ms\tremaining: 316ms\n",
      "498:\tlearn: 0.1102315\ttotal: 314ms\tremaining: 316ms\n",
      "499:\tlearn: 0.1099279\ttotal: 315ms\tremaining: 315ms\n",
      "500:\tlearn: 0.1095584\ttotal: 315ms\tremaining: 314ms\n",
      "501:\tlearn: 0.1092641\ttotal: 316ms\tremaining: 313ms\n",
      "502:\tlearn: 0.1089706\ttotal: 316ms\tremaining: 313ms\n",
      "503:\tlearn: 0.1086096\ttotal: 317ms\tremaining: 312ms\n",
      "504:\tlearn: 0.1083412\ttotal: 317ms\tremaining: 311ms\n",
      "505:\tlearn: 0.1077587\ttotal: 318ms\tremaining: 310ms\n",
      "506:\tlearn: 0.1074204\ttotal: 318ms\tremaining: 309ms\n",
      "507:\tlearn: 0.1071396\ttotal: 319ms\tremaining: 309ms\n",
      "508:\tlearn: 0.1068124\ttotal: 319ms\tremaining: 308ms\n",
      "509:\tlearn: 0.1065400\ttotal: 320ms\tremaining: 307ms\n",
      "510:\tlearn: 0.1062234\ttotal: 320ms\tremaining: 306ms\n",
      "511:\tlearn: 0.1059385\ttotal: 320ms\tremaining: 305ms\n"
     ]
    },
    {
     "name": "stdout",
     "output_type": "stream",
     "text": [
      "512:\tlearn: 0.1056752\ttotal: 322ms\tremaining: 305ms\n",
      "513:\tlearn: 0.1055786\ttotal: 322ms\tremaining: 305ms\n",
      "514:\tlearn: 0.1053029\ttotal: 323ms\tremaining: 304ms\n",
      "515:\tlearn: 0.1050502\ttotal: 324ms\tremaining: 304ms\n",
      "516:\tlearn: 0.1047144\ttotal: 324ms\tremaining: 303ms\n",
      "517:\tlearn: 0.1044076\ttotal: 324ms\tremaining: 302ms\n",
      "518:\tlearn: 0.1039702\ttotal: 325ms\tremaining: 301ms\n",
      "519:\tlearn: 0.1037870\ttotal: 325ms\tremaining: 300ms\n",
      "520:\tlearn: 0.1035351\ttotal: 326ms\tremaining: 300ms\n",
      "521:\tlearn: 0.1034434\ttotal: 326ms\tremaining: 299ms\n",
      "522:\tlearn: 0.1030067\ttotal: 327ms\tremaining: 298ms\n",
      "523:\tlearn: 0.1027813\ttotal: 327ms\tremaining: 297ms\n",
      "524:\tlearn: 0.1026028\ttotal: 328ms\tremaining: 296ms\n",
      "525:\tlearn: 0.1023567\ttotal: 328ms\tremaining: 296ms\n",
      "526:\tlearn: 0.1020922\ttotal: 329ms\tremaining: 295ms\n",
      "527:\tlearn: 0.1016666\ttotal: 329ms\tremaining: 294ms\n",
      "528:\tlearn: 0.1015775\ttotal: 330ms\tremaining: 293ms\n",
      "529:\tlearn: 0.1011617\ttotal: 330ms\tremaining: 293ms\n",
      "530:\tlearn: 0.1009883\ttotal: 331ms\tremaining: 292ms\n",
      "531:\tlearn: 0.1007472\ttotal: 331ms\tremaining: 291ms\n",
      "532:\tlearn: 0.1006773\ttotal: 332ms\tremaining: 291ms\n",
      "533:\tlearn: 0.1002635\ttotal: 332ms\tremaining: 290ms\n",
      "534:\tlearn: 0.1001776\ttotal: 332ms\tremaining: 289ms\n",
      "535:\tlearn: 0.0997729\ttotal: 333ms\tremaining: 288ms\n",
      "536:\tlearn: 0.0997036\ttotal: 333ms\tremaining: 287ms\n",
      "537:\tlearn: 0.0996353\ttotal: 334ms\tremaining: 287ms\n",
      "538:\tlearn: 0.0992331\ttotal: 334ms\tremaining: 286ms\n",
      "539:\tlearn: 0.0990647\ttotal: 334ms\tremaining: 285ms\n",
      "540:\tlearn: 0.0986602\ttotal: 335ms\tremaining: 284ms\n",
      "541:\tlearn: 0.0982889\ttotal: 335ms\tremaining: 283ms\n",
      "542:\tlearn: 0.0980590\ttotal: 336ms\tremaining: 283ms\n",
      "543:\tlearn: 0.0976671\ttotal: 336ms\tremaining: 282ms\n",
      "544:\tlearn: 0.0973088\ttotal: 337ms\tremaining: 281ms\n",
      "545:\tlearn: 0.0970998\ttotal: 337ms\tremaining: 281ms\n",
      "546:\tlearn: 0.0967518\ttotal: 338ms\tremaining: 280ms\n",
      "547:\tlearn: 0.0965469\ttotal: 338ms\tremaining: 279ms\n",
      "548:\tlearn: 0.0961656\ttotal: 339ms\tremaining: 279ms\n",
      "549:\tlearn: 0.0961353\ttotal: 340ms\tremaining: 278ms\n",
      "550:\tlearn: 0.0961054\ttotal: 340ms\tremaining: 277ms\n",
      "551:\tlearn: 0.0957330\ttotal: 341ms\tremaining: 276ms\n",
      "552:\tlearn: 0.0953226\ttotal: 341ms\tremaining: 276ms\n",
      "553:\tlearn: 0.0951233\ttotal: 341ms\tremaining: 275ms\n",
      "554:\tlearn: 0.0950939\ttotal: 342ms\tremaining: 274ms\n",
      "555:\tlearn: 0.0947321\ttotal: 342ms\tremaining: 273ms\n",
      "556:\tlearn: 0.0943347\ttotal: 342ms\tremaining: 272ms\n",
      "557:\tlearn: 0.0941309\ttotal: 343ms\tremaining: 272ms\n",
      "558:\tlearn: 0.0941020\ttotal: 343ms\tremaining: 271ms\n",
      "559:\tlearn: 0.0937157\ttotal: 344ms\tremaining: 270ms\n",
      "560:\tlearn: 0.0933022\ttotal: 344ms\tremaining: 269ms\n",
      "561:\tlearn: 0.0932735\ttotal: 345ms\tremaining: 269ms\n",
      "562:\tlearn: 0.0932453\ttotal: 345ms\tremaining: 268ms\n",
      "563:\tlearn: 0.0928941\ttotal: 346ms\tremaining: 267ms\n",
      "564:\tlearn: 0.0925221\ttotal: 346ms\tremaining: 267ms\n",
      "565:\tlearn: 0.0923317\ttotal: 347ms\tremaining: 266ms\n",
      "566:\tlearn: 0.0923038\ttotal: 347ms\tremaining: 265ms\n",
      "567:\tlearn: 0.0919093\ttotal: 348ms\tremaining: 264ms\n",
      "568:\tlearn: 0.0918815\ttotal: 348ms\tremaining: 264ms\n",
      "569:\tlearn: 0.0918540\ttotal: 348ms\tremaining: 263ms\n",
      "570:\tlearn: 0.0915196\ttotal: 349ms\tremaining: 262ms\n",
      "571:\tlearn: 0.0912167\ttotal: 349ms\tremaining: 261ms\n",
      "572:\tlearn: 0.0908656\ttotal: 350ms\tremaining: 261ms\n",
      "573:\tlearn: 0.0906696\ttotal: 350ms\tremaining: 260ms\n",
      "574:\tlearn: 0.0901234\ttotal: 351ms\tremaining: 259ms\n",
      "575:\tlearn: 0.0900964\ttotal: 351ms\tremaining: 259ms\n",
      "576:\tlearn: 0.0896407\ttotal: 352ms\tremaining: 258ms\n",
      "577:\tlearn: 0.0896139\ttotal: 352ms\tremaining: 257ms\n",
      "578:\tlearn: 0.0895874\ttotal: 353ms\tremaining: 256ms\n",
      "579:\tlearn: 0.0894073\ttotal: 353ms\tremaining: 256ms\n",
      "580:\tlearn: 0.0893812\ttotal: 353ms\tremaining: 255ms\n",
      "581:\tlearn: 0.0889174\ttotal: 354ms\tremaining: 254ms\n",
      "582:\tlearn: 0.0888917\ttotal: 354ms\tremaining: 254ms\n",
      "583:\tlearn: 0.0887325\ttotal: 355ms\tremaining: 253ms\n",
      "584:\tlearn: 0.0887071\ttotal: 356ms\tremaining: 252ms\n",
      "585:\tlearn: 0.0885503\ttotal: 356ms\tremaining: 252ms\n",
      "586:\tlearn: 0.0881833\ttotal: 357ms\tremaining: 251ms\n",
      "587:\tlearn: 0.0880289\ttotal: 357ms\tremaining: 250ms\n",
      "588:\tlearn: 0.0878708\ttotal: 358ms\tremaining: 249ms\n",
      "589:\tlearn: 0.0876846\ttotal: 358ms\tremaining: 249ms\n",
      "590:\tlearn: 0.0876573\ttotal: 358ms\tremaining: 248ms\n",
      "591:\tlearn: 0.0874893\ttotal: 359ms\tremaining: 247ms\n",
      "592:\tlearn: 0.0873162\ttotal: 359ms\tremaining: 247ms\n",
      "593:\tlearn: 0.0871507\ttotal: 360ms\tremaining: 246ms\n",
      "594:\tlearn: 0.0871237\ttotal: 360ms\tremaining: 245ms\n",
      "595:\tlearn: 0.0869093\ttotal: 361ms\tremaining: 245ms\n",
      "596:\tlearn: 0.0867614\ttotal: 361ms\tremaining: 244ms\n",
      "597:\tlearn: 0.0866041\ttotal: 362ms\tremaining: 243ms\n",
      "598:\tlearn: 0.0865775\ttotal: 362ms\tremaining: 242ms\n",
      "599:\tlearn: 0.0864165\ttotal: 363ms\tremaining: 242ms\n",
      "600:\tlearn: 0.0863902\ttotal: 363ms\tremaining: 241ms\n",
      "601:\tlearn: 0.0862119\ttotal: 363ms\tremaining: 240ms\n",
      "602:\tlearn: 0.0860673\ttotal: 364ms\tremaining: 240ms\n",
      "603:\tlearn: 0.0857391\ttotal: 364ms\tremaining: 239ms\n",
      "604:\tlearn: 0.0855853\ttotal: 365ms\tremaining: 238ms\n",
      "605:\tlearn: 0.0855302\ttotal: 365ms\tremaining: 237ms\n",
      "606:\tlearn: 0.0853471\ttotal: 366ms\tremaining: 237ms\n",
      "607:\tlearn: 0.0853216\ttotal: 366ms\tremaining: 236ms\n",
      "608:\tlearn: 0.0849604\ttotal: 366ms\tremaining: 235ms\n",
      "609:\tlearn: 0.0848195\ttotal: 367ms\tremaining: 235ms\n",
      "610:\tlearn: 0.0847941\ttotal: 367ms\tremaining: 234ms\n",
      "611:\tlearn: 0.0846048\ttotal: 368ms\tremaining: 233ms\n",
      "612:\tlearn: 0.0844666\ttotal: 368ms\tremaining: 232ms\n",
      "613:\tlearn: 0.0843167\ttotal: 369ms\tremaining: 232ms\n",
      "614:\tlearn: 0.0842916\ttotal: 369ms\tremaining: 231ms\n",
      "615:\tlearn: 0.0840960\ttotal: 370ms\tremaining: 230ms\n",
      "616:\tlearn: 0.0839488\ttotal: 370ms\tremaining: 230ms\n",
      "617:\tlearn: 0.0837730\ttotal: 370ms\tremaining: 229ms\n",
      "618:\tlearn: 0.0836051\ttotal: 371ms\tremaining: 228ms\n",
      "619:\tlearn: 0.0832961\ttotal: 371ms\tremaining: 228ms\n",
      "620:\tlearn: 0.0831530\ttotal: 372ms\tremaining: 227ms\n",
      "621:\tlearn: 0.0828382\ttotal: 372ms\tremaining: 226ms\n",
      "622:\tlearn: 0.0826834\ttotal: 373ms\tremaining: 226ms\n",
      "623:\tlearn: 0.0823758\ttotal: 374ms\tremaining: 225ms\n",
      "624:\tlearn: 0.0819567\ttotal: 374ms\tremaining: 225ms\n",
      "625:\tlearn: 0.0819319\ttotal: 375ms\tremaining: 224ms\n",
      "626:\tlearn: 0.0819075\ttotal: 375ms\tremaining: 223ms\n",
      "627:\tlearn: 0.0818835\ttotal: 376ms\tremaining: 222ms\n",
      "628:\tlearn: 0.0814664\ttotal: 376ms\tremaining: 222ms\n",
      "629:\tlearn: 0.0813318\ttotal: 377ms\tremaining: 221ms\n",
      "630:\tlearn: 0.0813081\ttotal: 377ms\tremaining: 221ms\n",
      "631:\tlearn: 0.0811706\ttotal: 378ms\tremaining: 220ms\n",
      "632:\tlearn: 0.0808747\ttotal: 378ms\tremaining: 219ms\n",
      "633:\tlearn: 0.0807429\ttotal: 378ms\tremaining: 218ms\n",
      "634:\tlearn: 0.0807198\ttotal: 379ms\tremaining: 218ms\n",
      "635:\tlearn: 0.0805678\ttotal: 379ms\tremaining: 217ms\n",
      "636:\tlearn: 0.0803675\ttotal: 379ms\tremaining: 216ms\n",
      "637:\tlearn: 0.0803447\ttotal: 380ms\tremaining: 216ms\n",
      "638:\tlearn: 0.0801965\ttotal: 380ms\tremaining: 215ms\n",
      "639:\tlearn: 0.0800503\ttotal: 381ms\tremaining: 214ms\n",
      "640:\tlearn: 0.0797614\ttotal: 381ms\tremaining: 213ms\n",
      "641:\tlearn: 0.0796176\ttotal: 382ms\tremaining: 213ms\n",
      "642:\tlearn: 0.0792801\ttotal: 382ms\tremaining: 212ms\n",
      "643:\tlearn: 0.0789507\ttotal: 383ms\tremaining: 212ms\n",
      "644:\tlearn: 0.0788412\ttotal: 383ms\tremaining: 211ms\n",
      "645:\tlearn: 0.0786142\ttotal: 384ms\tremaining: 210ms\n",
      "646:\tlearn: 0.0783930\ttotal: 384ms\tremaining: 209ms\n",
      "647:\tlearn: 0.0779908\ttotal: 384ms\tremaining: 209ms\n",
      "648:\tlearn: 0.0777749\ttotal: 385ms\tremaining: 208ms\n",
      "649:\tlearn: 0.0772982\ttotal: 385ms\tremaining: 207ms\n",
      "650:\tlearn: 0.0771016\ttotal: 386ms\tremaining: 207ms\n",
      "651:\tlearn: 0.0770735\ttotal: 386ms\tremaining: 206ms\n",
      "652:\tlearn: 0.0766806\ttotal: 387ms\tremaining: 206ms\n",
      "653:\tlearn: 0.0766527\ttotal: 387ms\tremaining: 205ms\n",
      "654:\tlearn: 0.0766253\ttotal: 388ms\tremaining: 204ms\n",
      "655:\tlearn: 0.0765983\ttotal: 388ms\tremaining: 204ms\n",
      "656:\tlearn: 0.0762057\ttotal: 389ms\tremaining: 203ms\n",
      "657:\tlearn: 0.0761789\ttotal: 389ms\tremaining: 202ms\n",
      "658:\tlearn: 0.0761525\ttotal: 390ms\tremaining: 202ms\n",
      "659:\tlearn: 0.0758912\ttotal: 390ms\tremaining: 201ms\n",
      "660:\tlearn: 0.0757027\ttotal: 391ms\tremaining: 200ms\n",
      "661:\tlearn: 0.0756768\ttotal: 391ms\tremaining: 200ms\n",
      "662:\tlearn: 0.0752928\ttotal: 392ms\tremaining: 199ms\n",
      "663:\tlearn: 0.0752670\ttotal: 392ms\tremaining: 199ms\n",
      "664:\tlearn: 0.0752209\ttotal: 393ms\tremaining: 198ms\n",
      "665:\tlearn: 0.0751957\ttotal: 393ms\tremaining: 197ms\n",
      "666:\tlearn: 0.0748204\ttotal: 394ms\tremaining: 197ms\n",
      "667:\tlearn: 0.0747751\ttotal: 394ms\tremaining: 196ms\n",
      "668:\tlearn: 0.0747505\ttotal: 395ms\tremaining: 195ms\n",
      "669:\tlearn: 0.0746318\ttotal: 395ms\tremaining: 195ms\n",
      "670:\tlearn: 0.0746077\ttotal: 395ms\tremaining: 194ms\n",
      "671:\tlearn: 0.0742346\ttotal: 396ms\tremaining: 193ms\n",
      "672:\tlearn: 0.0740312\ttotal: 396ms\tremaining: 193ms\n",
      "673:\tlearn: 0.0739954\ttotal: 397ms\tremaining: 192ms\n",
      "674:\tlearn: 0.0736296\ttotal: 397ms\tremaining: 191ms\n",
      "675:\tlearn: 0.0735942\ttotal: 398ms\tremaining: 191ms\n",
      "676:\tlearn: 0.0735594\ttotal: 398ms\tremaining: 190ms\n",
      "677:\tlearn: 0.0731300\ttotal: 399ms\tremaining: 189ms\n",
      "678:\tlearn: 0.0729345\ttotal: 399ms\tremaining: 189ms\n",
      "679:\tlearn: 0.0725143\ttotal: 400ms\tremaining: 188ms\n",
      "680:\tlearn: 0.0722728\ttotal: 400ms\tremaining: 188ms\n",
      "681:\tlearn: 0.0720109\ttotal: 401ms\tremaining: 187ms\n",
      "682:\tlearn: 0.0719676\ttotal: 401ms\tremaining: 186ms\n",
      "683:\tlearn: 0.0719336\ttotal: 402ms\tremaining: 186ms\n",
      "684:\tlearn: 0.0719104\ttotal: 402ms\tremaining: 185ms\n",
      "685:\tlearn: 0.0715011\ttotal: 403ms\tremaining: 184ms\n",
      "686:\tlearn: 0.0713223\ttotal: 403ms\tremaining: 184ms\n",
      "687:\tlearn: 0.0711438\ttotal: 404ms\tremaining: 183ms\n",
      "688:\tlearn: 0.0707906\ttotal: 404ms\tremaining: 182ms\n",
      "689:\tlearn: 0.0706192\ttotal: 405ms\tremaining: 182ms\n",
      "690:\tlearn: 0.0705083\ttotal: 405ms\tremaining: 181ms\n",
      "691:\tlearn: 0.0703907\ttotal: 405ms\tremaining: 180ms\n",
      "692:\tlearn: 0.0702213\ttotal: 406ms\tremaining: 180ms\n",
      "693:\tlearn: 0.0700525\ttotal: 406ms\tremaining: 179ms\n",
      "694:\tlearn: 0.0699445\ttotal: 407ms\tremaining: 178ms\n",
      "695:\tlearn: 0.0695854\ttotal: 408ms\tremaining: 178ms\n",
      "696:\tlearn: 0.0693040\ttotal: 408ms\tremaining: 177ms\n",
      "697:\tlearn: 0.0691920\ttotal: 408ms\tremaining: 177ms\n",
      "698:\tlearn: 0.0690820\ttotal: 409ms\tremaining: 176ms\n",
      "699:\tlearn: 0.0688079\ttotal: 409ms\tremaining: 175ms\n",
      "700:\tlearn: 0.0685446\ttotal: 410ms\tremaining: 175ms\n",
      "701:\tlearn: 0.0684182\ttotal: 410ms\tremaining: 174ms\n",
      "702:\tlearn: 0.0682486\ttotal: 411ms\tremaining: 174ms\n",
      "703:\tlearn: 0.0682278\ttotal: 411ms\tremaining: 173ms\n",
      "704:\tlearn: 0.0681044\ttotal: 412ms\tremaining: 172ms\n",
      "705:\tlearn: 0.0680838\ttotal: 412ms\tremaining: 172ms\n",
      "706:\tlearn: 0.0679233\ttotal: 413ms\tremaining: 171ms\n",
      "707:\tlearn: 0.0678037\ttotal: 413ms\tremaining: 170ms\n",
      "708:\tlearn: 0.0676383\ttotal: 414ms\tremaining: 170ms\n",
      "709:\tlearn: 0.0675215\ttotal: 414ms\tremaining: 169ms\n",
      "710:\tlearn: 0.0673604\ttotal: 414ms\tremaining: 168ms\n",
      "711:\tlearn: 0.0672689\ttotal: 415ms\tremaining: 168ms\n",
      "712:\tlearn: 0.0671790\ttotal: 415ms\tremaining: 167ms\n",
      "713:\tlearn: 0.0668351\ttotal: 416ms\tremaining: 167ms\n",
      "714:\tlearn: 0.0668146\ttotal: 416ms\tremaining: 166ms\n",
      "715:\tlearn: 0.0667944\ttotal: 417ms\tremaining: 165ms\n",
      "716:\tlearn: 0.0666229\ttotal: 417ms\tremaining: 165ms\n",
      "717:\tlearn: 0.0665090\ttotal: 418ms\tremaining: 164ms\n",
      "718:\tlearn: 0.0664892\ttotal: 418ms\tremaining: 163ms\n",
      "719:\tlearn: 0.0663781\ttotal: 419ms\tremaining: 163ms\n",
      "720:\tlearn: 0.0660416\ttotal: 419ms\tremaining: 162ms\n",
      "721:\tlearn: 0.0660101\ttotal: 419ms\tremaining: 162ms\n",
      "722:\tlearn: 0.0656808\ttotal: 420ms\tremaining: 161ms\n",
      "723:\tlearn: 0.0656497\ttotal: 420ms\tremaining: 160ms\n",
      "724:\tlearn: 0.0656190\ttotal: 421ms\tremaining: 160ms\n",
      "725:\tlearn: 0.0652968\ttotal: 421ms\tremaining: 159ms\n",
      "726:\tlearn: 0.0652664\ttotal: 422ms\tremaining: 158ms\n",
      "727:\tlearn: 0.0652366\ttotal: 422ms\tremaining: 158ms\n",
      "728:\tlearn: 0.0652071\ttotal: 423ms\tremaining: 157ms\n",
      "729:\tlearn: 0.0649956\ttotal: 423ms\tremaining: 156ms\n",
      "730:\tlearn: 0.0646792\ttotal: 424ms\tremaining: 156ms\n",
      "731:\tlearn: 0.0643699\ttotal: 424ms\tremaining: 155ms\n"
     ]
    },
    {
     "name": "stdout",
     "output_type": "stream",
     "text": [
      "732:\tlearn: 0.0642736\ttotal: 426ms\tremaining: 155ms\n",
      "733:\tlearn: 0.0642447\ttotal: 427ms\tremaining: 155ms\n",
      "734:\tlearn: 0.0642162\ttotal: 427ms\tremaining: 154ms\n",
      "735:\tlearn: 0.0641882\ttotal: 428ms\tremaining: 153ms\n",
      "736:\tlearn: 0.0639797\ttotal: 428ms\tremaining: 153ms\n",
      "737:\tlearn: 0.0636768\ttotal: 428ms\tremaining: 152ms\n",
      "738:\tlearn: 0.0635834\ttotal: 429ms\tremaining: 151ms\n",
      "739:\tlearn: 0.0635560\ttotal: 429ms\tremaining: 151ms\n",
      "740:\tlearn: 0.0632603\ttotal: 430ms\tremaining: 150ms\n",
      "741:\tlearn: 0.0630069\ttotal: 430ms\tremaining: 150ms\n",
      "742:\tlearn: 0.0627610\ttotal: 431ms\tremaining: 149ms\n",
      "743:\tlearn: 0.0624715\ttotal: 431ms\tremaining: 148ms\n",
      "744:\tlearn: 0.0623829\ttotal: 432ms\tremaining: 148ms\n",
      "745:\tlearn: 0.0621883\ttotal: 432ms\tremaining: 147ms\n",
      "746:\tlearn: 0.0621012\ttotal: 433ms\tremaining: 147ms\n",
      "747:\tlearn: 0.0618694\ttotal: 433ms\tremaining: 146ms\n",
      "748:\tlearn: 0.0616277\ttotal: 434ms\tremaining: 145ms\n",
      "749:\tlearn: 0.0614024\ttotal: 434ms\tremaining: 145ms\n",
      "750:\tlearn: 0.0611671\ttotal: 435ms\tremaining: 144ms\n",
      "751:\tlearn: 0.0608980\ttotal: 435ms\tremaining: 143ms\n",
      "752:\tlearn: 0.0606122\ttotal: 436ms\tremaining: 143ms\n",
      "753:\tlearn: 0.0603347\ttotal: 436ms\tremaining: 142ms\n",
      "754:\tlearn: 0.0602655\ttotal: 437ms\tremaining: 142ms\n",
      "755:\tlearn: 0.0601351\ttotal: 437ms\tremaining: 141ms\n",
      "756:\tlearn: 0.0600521\ttotal: 438ms\tremaining: 140ms\n",
      "757:\tlearn: 0.0599845\ttotal: 438ms\tremaining: 140ms\n",
      "758:\tlearn: 0.0599031\ttotal: 439ms\tremaining: 139ms\n",
      "759:\tlearn: 0.0596709\ttotal: 439ms\tremaining: 139ms\n",
      "760:\tlearn: 0.0596526\ttotal: 439ms\tremaining: 138ms\n",
      "761:\tlearn: 0.0596346\ttotal: 440ms\tremaining: 137ms\n",
      "762:\tlearn: 0.0594075\ttotal: 440ms\tremaining: 137ms\n",
      "763:\tlearn: 0.0593898\ttotal: 441ms\tremaining: 136ms\n",
      "764:\tlearn: 0.0593235\ttotal: 441ms\tremaining: 136ms\n",
      "765:\tlearn: 0.0592572\ttotal: 442ms\tremaining: 135ms\n",
      "766:\tlearn: 0.0590511\ttotal: 442ms\tremaining: 134ms\n",
      "767:\tlearn: 0.0588298\ttotal: 443ms\tremaining: 134ms\n",
      "768:\tlearn: 0.0587646\ttotal: 443ms\tremaining: 133ms\n",
      "769:\tlearn: 0.0585633\ttotal: 444ms\tremaining: 133ms\n",
      "770:\tlearn: 0.0584560\ttotal: 445ms\tremaining: 132ms\n",
      "771:\tlearn: 0.0582579\ttotal: 446ms\tremaining: 132ms\n",
      "772:\tlearn: 0.0581522\ttotal: 446ms\tremaining: 131ms\n",
      "773:\tlearn: 0.0579573\ttotal: 447ms\tremaining: 130ms\n",
      "774:\tlearn: 0.0577663\ttotal: 447ms\tremaining: 130ms\n",
      "775:\tlearn: 0.0576615\ttotal: 448ms\tremaining: 129ms\n",
      "776:\tlearn: 0.0574735\ttotal: 448ms\tremaining: 129ms\n",
      "777:\tlearn: 0.0573703\ttotal: 449ms\tremaining: 128ms\n",
      "778:\tlearn: 0.0571853\ttotal: 450ms\tremaining: 128ms\n",
      "779:\tlearn: 0.0570836\ttotal: 451ms\tremaining: 127ms\n",
      "780:\tlearn: 0.0569016\ttotal: 451ms\tremaining: 127ms\n",
      "781:\tlearn: 0.0567232\ttotal: 452ms\tremaining: 126ms\n",
      "782:\tlearn: 0.0566224\ttotal: 452ms\tremaining: 125ms\n",
      "783:\tlearn: 0.0563176\ttotal: 453ms\tremaining: 125ms\n",
      "784:\tlearn: 0.0561428\ttotal: 453ms\tremaining: 124ms\n",
      "785:\tlearn: 0.0560440\ttotal: 454ms\tremaining: 124ms\n",
      "786:\tlearn: 0.0558721\ttotal: 454ms\tremaining: 123ms\n",
      "787:\tlearn: 0.0557735\ttotal: 455ms\tremaining: 122ms\n",
      "788:\tlearn: 0.0556043\ttotal: 455ms\tremaining: 122ms\n",
      "789:\tlearn: 0.0554384\ttotal: 455ms\tremaining: 121ms\n",
      "790:\tlearn: 0.0553415\ttotal: 456ms\tremaining: 120ms\n",
      "791:\tlearn: 0.0551769\ttotal: 456ms\tremaining: 120ms\n",
      "792:\tlearn: 0.0550166\ttotal: 457ms\tremaining: 119ms\n",
      "793:\tlearn: 0.0548525\ttotal: 458ms\tremaining: 119ms\n",
      "794:\tlearn: 0.0547586\ttotal: 458ms\tremaining: 118ms\n",
      "795:\tlearn: 0.0546975\ttotal: 459ms\tremaining: 118ms\n",
      "796:\tlearn: 0.0545418\ttotal: 459ms\tremaining: 117ms\n",
      "797:\tlearn: 0.0543801\ttotal: 459ms\tremaining: 116ms\n",
      "798:\tlearn: 0.0542872\ttotal: 461ms\tremaining: 116ms\n",
      "799:\tlearn: 0.0540136\ttotal: 462ms\tremaining: 115ms\n",
      "800:\tlearn: 0.0538547\ttotal: 462ms\tremaining: 115ms\n",
      "801:\tlearn: 0.0537602\ttotal: 463ms\tremaining: 114ms\n",
      "802:\tlearn: 0.0536140\ttotal: 463ms\tremaining: 114ms\n",
      "803:\tlearn: 0.0535544\ttotal: 464ms\tremaining: 113ms\n",
      "804:\tlearn: 0.0534741\ttotal: 464ms\tremaining: 112ms\n",
      "805:\tlearn: 0.0533951\ttotal: 464ms\tremaining: 112ms\n",
      "806:\tlearn: 0.0532746\ttotal: 465ms\tremaining: 111ms\n",
      "807:\tlearn: 0.0531322\ttotal: 465ms\tremaining: 111ms\n",
      "808:\tlearn: 0.0529935\ttotal: 466ms\tremaining: 110ms\n",
      "809:\tlearn: 0.0528640\ttotal: 466ms\tremaining: 109ms\n",
      "810:\tlearn: 0.0528057\ttotal: 467ms\tremaining: 109ms\n",
      "811:\tlearn: 0.0526799\ttotal: 467ms\tremaining: 108ms\n",
      "812:\tlearn: 0.0525638\ttotal: 467ms\tremaining: 108ms\n",
      "813:\tlearn: 0.0524420\ttotal: 468ms\tremaining: 107ms\n",
      "814:\tlearn: 0.0523845\ttotal: 468ms\tremaining: 106ms\n",
      "815:\tlearn: 0.0522996\ttotal: 469ms\tremaining: 106ms\n",
      "816:\tlearn: 0.0521440\ttotal: 469ms\tremaining: 105ms\n",
      "817:\tlearn: 0.0518817\ttotal: 470ms\tremaining: 104ms\n",
      "818:\tlearn: 0.0517292\ttotal: 470ms\tremaining: 104ms\n",
      "819:\tlearn: 0.0516418\ttotal: 471ms\tremaining: 103ms\n",
      "820:\tlearn: 0.0515045\ttotal: 471ms\tremaining: 103ms\n",
      "821:\tlearn: 0.0513865\ttotal: 471ms\tremaining: 102ms\n",
      "822:\tlearn: 0.0513306\ttotal: 472ms\tremaining: 101ms\n",
      "823:\tlearn: 0.0512159\ttotal: 472ms\tremaining: 101ms\n",
      "824:\tlearn: 0.0510733\ttotal: 473ms\tremaining: 100ms\n",
      "825:\tlearn: 0.0509892\ttotal: 473ms\tremaining: 99.7ms\n",
      "826:\tlearn: 0.0509291\ttotal: 474ms\tremaining: 99.1ms\n",
      "827:\tlearn: 0.0507069\ttotal: 474ms\tremaining: 98.5ms\n",
      "828:\tlearn: 0.0506474\ttotal: 474ms\tremaining: 97.9ms\n",
      "829:\tlearn: 0.0505364\ttotal: 475ms\tremaining: 97.3ms\n",
      "830:\tlearn: 0.0503197\ttotal: 475ms\tremaining: 96.7ms\n",
      "831:\tlearn: 0.0502609\ttotal: 476ms\tremaining: 96.1ms\n",
      "832:\tlearn: 0.0501006\ttotal: 476ms\tremaining: 95.5ms\n",
      "833:\tlearn: 0.0499416\ttotal: 477ms\tremaining: 94.9ms\n",
      "834:\tlearn: 0.0497306\ttotal: 477ms\tremaining: 94.3ms\n",
      "835:\tlearn: 0.0496725\ttotal: 478ms\tremaining: 93.7ms\n",
      "836:\tlearn: 0.0495176\ttotal: 478ms\tremaining: 93.1ms\n",
      "837:\tlearn: 0.0493654\ttotal: 479ms\tremaining: 92.6ms\n"
     ]
    },
    {
     "name": "stdout",
     "output_type": "stream",
     "text": [
      "838:\tlearn: 0.0492189\ttotal: 479ms\tremaining: 92ms\n",
      "839:\tlearn: 0.0490165\ttotal: 480ms\tremaining: 91.4ms\n",
      "840:\tlearn: 0.0489595\ttotal: 480ms\tremaining: 90.8ms\n",
      "841:\tlearn: 0.0488122\ttotal: 481ms\tremaining: 90.2ms\n",
      "842:\tlearn: 0.0485653\ttotal: 482ms\tremaining: 89.7ms\n",
      "843:\tlearn: 0.0485122\ttotal: 483ms\tremaining: 89.2ms\n",
      "844:\tlearn: 0.0483170\ttotal: 483ms\tremaining: 88.7ms\n",
      "845:\tlearn: 0.0482646\ttotal: 484ms\tremaining: 88.1ms\n",
      "846:\tlearn: 0.0480947\ttotal: 488ms\tremaining: 88.2ms\n",
      "847:\tlearn: 0.0479533\ttotal: 489ms\tremaining: 87.7ms\n",
      "848:\tlearn: 0.0477625\ttotal: 490ms\tremaining: 87.1ms\n",
      "849:\tlearn: 0.0475657\ttotal: 490ms\tremaining: 86.5ms\n",
      "850:\tlearn: 0.0475142\ttotal: 491ms\tremaining: 85.9ms\n",
      "851:\tlearn: 0.0474635\ttotal: 491ms\tremaining: 85.3ms\n",
      "852:\tlearn: 0.0473246\ttotal: 492ms\tremaining: 84.7ms\n",
      "853:\tlearn: 0.0470524\ttotal: 492ms\tremaining: 84.1ms\n",
      "854:\tlearn: 0.0468628\ttotal: 493ms\tremaining: 83.7ms\n",
      "855:\tlearn: 0.0466252\ttotal: 494ms\tremaining: 83.1ms\n",
      "856:\tlearn: 0.0464912\ttotal: 494ms\tremaining: 82.5ms\n",
      "857:\tlearn: 0.0462983\ttotal: 495ms\tremaining: 81.9ms\n",
      "858:\tlearn: 0.0462372\ttotal: 495ms\tremaining: 81.3ms\n",
      "859:\tlearn: 0.0460599\ttotal: 496ms\tremaining: 80.7ms\n",
      "860:\tlearn: 0.0460104\ttotal: 497ms\tremaining: 80.2ms\n",
      "861:\tlearn: 0.0458940\ttotal: 497ms\tremaining: 79.6ms\n",
      "862:\tlearn: 0.0457793\ttotal: 498ms\tremaining: 79ms\n",
      "863:\tlearn: 0.0456664\ttotal: 498ms\tremaining: 78.4ms\n",
      "864:\tlearn: 0.0455551\ttotal: 499ms\tremaining: 77.8ms\n",
      "865:\tlearn: 0.0454456\ttotal: 499ms\tremaining: 77.3ms\n",
      "866:\tlearn: 0.0453964\ttotal: 500ms\tremaining: 76.7ms\n",
      "867:\tlearn: 0.0452884\ttotal: 500ms\tremaining: 76.1ms\n",
      "868:\tlearn: 0.0451820\ttotal: 501ms\tremaining: 75.5ms\n",
      "869:\tlearn: 0.0451087\ttotal: 502ms\tremaining: 74.9ms\n",
      "870:\tlearn: 0.0450364\ttotal: 502ms\tremaining: 74.3ms\n",
      "871:\tlearn: 0.0449875\ttotal: 502ms\tremaining: 73.8ms\n",
      "872:\tlearn: 0.0449161\ttotal: 503ms\tremaining: 73.2ms\n",
      "873:\tlearn: 0.0448618\ttotal: 504ms\tremaining: 72.7ms\n",
      "874:\tlearn: 0.0447913\ttotal: 506ms\tremaining: 72.3ms\n",
      "875:\tlearn: 0.0447389\ttotal: 507ms\tremaining: 71.8ms\n",
      "876:\tlearn: 0.0446859\ttotal: 508ms\tremaining: 71.2ms\n",
      "877:\tlearn: 0.0446163\ttotal: 508ms\tremaining: 70.6ms\n",
      "878:\tlearn: 0.0445652\ttotal: 509ms\tremaining: 70ms\n",
      "879:\tlearn: 0.0444964\ttotal: 509ms\tremaining: 69.4ms\n",
      "880:\tlearn: 0.0444474\ttotal: 510ms\tremaining: 68.8ms\n",
      "881:\tlearn: 0.0443955\ttotal: 510ms\tremaining: 68.3ms\n",
      "882:\tlearn: 0.0443275\ttotal: 511ms\tremaining: 67.7ms\n",
      "883:\tlearn: 0.0442763\ttotal: 511ms\tremaining: 67.1ms\n",
      "884:\tlearn: 0.0441706\ttotal: 512ms\tremaining: 66.5ms\n",
      "885:\tlearn: 0.0441203\ttotal: 512ms\tremaining: 65.9ms\n",
      "886:\tlearn: 0.0440714\ttotal: 513ms\tremaining: 65.3ms\n",
      "887:\tlearn: 0.0440232\ttotal: 513ms\tremaining: 64.7ms\n",
      "888:\tlearn: 0.0438491\ttotal: 513ms\tremaining: 64.1ms\n",
      "889:\tlearn: 0.0437827\ttotal: 514ms\tremaining: 63.5ms\n",
      "890:\tlearn: 0.0436799\ttotal: 514ms\tremaining: 62.9ms\n",
      "891:\tlearn: 0.0436314\ttotal: 515ms\tremaining: 62.3ms\n",
      "892:\tlearn: 0.0435836\ttotal: 516ms\tremaining: 61.8ms\n",
      "893:\tlearn: 0.0434826\ttotal: 516ms\tremaining: 61.2ms\n",
      "894:\tlearn: 0.0434352\ttotal: 517ms\tremaining: 60.6ms\n",
      "895:\tlearn: 0.0433343\ttotal: 517ms\tremaining: 60ms\n",
      "896:\tlearn: 0.0431039\ttotal: 518ms\tremaining: 59.5ms\n",
      "897:\tlearn: 0.0430406\ttotal: 518ms\tremaining: 58.9ms\n",
      "898:\tlearn: 0.0429431\ttotal: 519ms\tremaining: 58.3ms\n",
      "899:\tlearn: 0.0428966\ttotal: 519ms\tremaining: 57.7ms\n",
      "900:\tlearn: 0.0428508\ttotal: 520ms\tremaining: 57.1ms\n",
      "901:\tlearn: 0.0428064\ttotal: 520ms\tremaining: 56.5ms\n",
      "902:\tlearn: 0.0425746\ttotal: 521ms\tremaining: 56ms\n",
      "903:\tlearn: 0.0424836\ttotal: 521ms\tremaining: 55.4ms\n",
      "904:\tlearn: 0.0424357\ttotal: 522ms\tremaining: 54.8ms\n",
      "905:\tlearn: 0.0422809\ttotal: 522ms\tremaining: 54.2ms\n",
      "906:\tlearn: 0.0422197\ttotal: 522ms\tremaining: 53.6ms\n",
      "907:\tlearn: 0.0421594\ttotal: 523ms\tremaining: 53ms\n",
      "908:\tlearn: 0.0420372\ttotal: 523ms\tremaining: 52.4ms\n",
      "909:\tlearn: 0.0419433\ttotal: 524ms\tremaining: 51.8ms\n",
      "910:\tlearn: 0.0418993\ttotal: 524ms\tremaining: 51.2ms\n",
      "911:\tlearn: 0.0418381\ttotal: 525ms\tremaining: 50.7ms\n",
      "912:\tlearn: 0.0416866\ttotal: 525ms\tremaining: 50.1ms\n",
      "913:\tlearn: 0.0414657\ttotal: 526ms\tremaining: 49.5ms\n",
      "914:\tlearn: 0.0412515\ttotal: 526ms\tremaining: 48.9ms\n",
      "915:\tlearn: 0.0412045\ttotal: 527ms\tremaining: 48.3ms\n",
      "916:\tlearn: 0.0409920\ttotal: 527ms\tremaining: 47.7ms\n",
      "917:\tlearn: 0.0409458\ttotal: 528ms\tremaining: 47.2ms\n",
      "918:\tlearn: 0.0407399\ttotal: 528ms\tremaining: 46.6ms\n",
      "919:\tlearn: 0.0406944\ttotal: 529ms\tremaining: 46ms\n",
      "920:\tlearn: 0.0404964\ttotal: 529ms\tremaining: 45.4ms\n",
      "921:\tlearn: 0.0404516\ttotal: 530ms\tremaining: 44.8ms\n",
      "922:\tlearn: 0.0403780\ttotal: 530ms\tremaining: 44.2ms\n",
      "923:\tlearn: 0.0401774\ttotal: 531ms\tremaining: 43.7ms\n",
      "924:\tlearn: 0.0401335\ttotal: 531ms\tremaining: 43.1ms\n",
      "925:\tlearn: 0.0399519\ttotal: 532ms\tremaining: 42.5ms\n",
      "926:\tlearn: 0.0398249\ttotal: 532ms\tremaining: 41.9ms\n",
      "927:\tlearn: 0.0397248\ttotal: 533ms\tremaining: 41.3ms\n",
      "928:\tlearn: 0.0396141\ttotal: 533ms\tremaining: 40.8ms\n",
      "929:\tlearn: 0.0395438\ttotal: 534ms\tremaining: 40.2ms\n",
      "930:\tlearn: 0.0394393\ttotal: 534ms\tremaining: 39.6ms\n",
      "931:\tlearn: 0.0393478\ttotal: 535ms\tremaining: 39ms\n",
      "932:\tlearn: 0.0391615\ttotal: 535ms\tremaining: 38.4ms\n",
      "933:\tlearn: 0.0390931\ttotal: 536ms\tremaining: 37.8ms\n",
      "934:\tlearn: 0.0389530\ttotal: 536ms\tremaining: 37.3ms\n",
      "935:\tlearn: 0.0388956\ttotal: 537ms\tremaining: 36.7ms\n",
      "936:\tlearn: 0.0387144\ttotal: 537ms\tremaining: 36.1ms\n",
      "937:\tlearn: 0.0385792\ttotal: 537ms\tremaining: 35.5ms\n",
      "938:\tlearn: 0.0384091\ttotal: 538ms\tremaining: 34.9ms\n",
      "939:\tlearn: 0.0382925\ttotal: 538ms\tremaining: 34.4ms\n",
      "940:\tlearn: 0.0382580\ttotal: 539ms\tremaining: 33.8ms\n",
      "941:\tlearn: 0.0382241\ttotal: 539ms\tremaining: 33.2ms\n",
      "942:\tlearn: 0.0381107\ttotal: 540ms\tremaining: 32.6ms\n",
      "943:\tlearn: 0.0380772\ttotal: 540ms\tremaining: 32.1ms\n",
      "944:\tlearn: 0.0379498\ttotal: 541ms\tremaining: 31.5ms\n",
      "945:\tlearn: 0.0379128\ttotal: 541ms\tremaining: 30.9ms\n",
      "946:\tlearn: 0.0377786\ttotal: 542ms\tremaining: 30.3ms\n",
      "947:\tlearn: 0.0376119\ttotal: 542ms\tremaining: 29.8ms\n",
      "948:\tlearn: 0.0374329\ttotal: 543ms\tremaining: 29.2ms\n",
      "949:\tlearn: 0.0372646\ttotal: 543ms\tremaining: 28.6ms\n",
      "950:\tlearn: 0.0371572\ttotal: 544ms\tremaining: 28ms\n",
      "951:\tlearn: 0.0371280\ttotal: 544ms\tremaining: 27.4ms\n",
      "952:\tlearn: 0.0370994\ttotal: 545ms\tremaining: 26.9ms\n",
      "953:\tlearn: 0.0370068\ttotal: 545ms\tremaining: 26.3ms\n",
      "954:\tlearn: 0.0368426\ttotal: 546ms\tremaining: 25.7ms\n",
      "955:\tlearn: 0.0367524\ttotal: 546ms\tremaining: 25.1ms\n",
      "956:\tlearn: 0.0365933\ttotal: 546ms\tremaining: 24.5ms\n",
      "957:\tlearn: 0.0364932\ttotal: 547ms\tremaining: 24ms\n",
      "958:\tlearn: 0.0364646\ttotal: 547ms\tremaining: 23.4ms\n",
      "959:\tlearn: 0.0363437\ttotal: 548ms\tremaining: 22.8ms\n",
      "960:\tlearn: 0.0361854\ttotal: 548ms\tremaining: 22.2ms\n",
      "961:\tlearn: 0.0361039\ttotal: 549ms\tremaining: 21.7ms\n",
      "962:\tlearn: 0.0360756\ttotal: 549ms\tremaining: 21.1ms\n",
      "963:\tlearn: 0.0359188\ttotal: 550ms\tremaining: 20.5ms\n",
      "964:\tlearn: 0.0358392\ttotal: 550ms\tremaining: 20ms\n",
      "965:\tlearn: 0.0358113\ttotal: 551ms\tremaining: 19.4ms\n",
      "966:\tlearn: 0.0357758\ttotal: 551ms\tremaining: 18.8ms\n",
      "967:\tlearn: 0.0356255\ttotal: 552ms\tremaining: 18.2ms\n",
      "968:\tlearn: 0.0355576\ttotal: 552ms\tremaining: 17.7ms\n",
      "969:\tlearn: 0.0355304\ttotal: 553ms\tremaining: 17.1ms\n",
      "970:\tlearn: 0.0354351\ttotal: 553ms\tremaining: 16.5ms\n",
      "971:\tlearn: 0.0354082\ttotal: 554ms\tremaining: 16ms\n",
      "972:\tlearn: 0.0352578\ttotal: 554ms\tremaining: 15.4ms\n",
      "973:\tlearn: 0.0351630\ttotal: 555ms\tremaining: 14.8ms\n",
      "974:\tlearn: 0.0350144\ttotal: 555ms\tremaining: 14.2ms\n",
      "975:\tlearn: 0.0349797\ttotal: 556ms\tremaining: 13.7ms\n",
      "976:\tlearn: 0.0349042\ttotal: 556ms\tremaining: 13.1ms\n",
      "977:\tlearn: 0.0348778\ttotal: 557ms\tremaining: 12.5ms\n",
      "978:\tlearn: 0.0347328\ttotal: 557ms\tremaining: 12ms\n",
      "979:\tlearn: 0.0346384\ttotal: 558ms\tremaining: 11.4ms\n",
      "980:\tlearn: 0.0345719\ttotal: 558ms\tremaining: 10.8ms\n",
      "981:\tlearn: 0.0344319\ttotal: 559ms\tremaining: 10.2ms\n",
      "982:\tlearn: 0.0343402\ttotal: 559ms\tremaining: 9.67ms\n",
      "983:\tlearn: 0.0341995\ttotal: 560ms\tremaining: 9.1ms\n",
      "984:\tlearn: 0.0341276\ttotal: 560ms\tremaining: 8.53ms\n",
      "985:\tlearn: 0.0340632\ttotal: 561ms\tremaining: 7.96ms\n",
      "986:\tlearn: 0.0339341\ttotal: 561ms\tremaining: 7.39ms\n",
      "987:\tlearn: 0.0338075\ttotal: 562ms\tremaining: 6.82ms\n",
      "988:\tlearn: 0.0337180\ttotal: 562ms\tremaining: 6.25ms\n",
      "989:\tlearn: 0.0336553\ttotal: 562ms\tremaining: 5.68ms\n",
      "990:\tlearn: 0.0335224\ttotal: 563ms\tremaining: 5.11ms\n",
      "991:\tlearn: 0.0334932\ttotal: 563ms\tremaining: 4.54ms\n",
      "992:\tlearn: 0.0334070\ttotal: 564ms\tremaining: 3.97ms\n",
      "993:\tlearn: 0.0333458\ttotal: 564ms\tremaining: 3.4ms\n",
      "994:\tlearn: 0.0332223\ttotal: 565ms\tremaining: 2.84ms\n",
      "995:\tlearn: 0.0330897\ttotal: 565ms\tremaining: 2.27ms\n",
      "996:\tlearn: 0.0329549\ttotal: 566ms\tremaining: 1.7ms\n",
      "997:\tlearn: 0.0328698\ttotal: 566ms\tremaining: 1.13ms\n",
      "998:\tlearn: 0.0328098\ttotal: 567ms\tremaining: 567us\n",
      "999:\tlearn: 0.0327768\ttotal: 567ms\tremaining: 0us\n"
     ]
    },
    {
     "name": "stdout",
     "output_type": "stream",
     "text": [
      "Mean Absolute error 0.4821087542284682\n"
     ]
    },
    {
     "data": {
      "application/scrapbook.scrap.json+json": {
       "data": 0.4821087542284682,
       "encoder": "json",
       "name": "Catboost MAE",
       "version": 1
      }
     },
     "metadata": {
      "scrapbook": {
       "data": true,
       "display": false,
       "name": "Catboost MAE"
      }
     },
     "output_type": "display_data"
    }
   ],
   "source": [
    "mae_cb = baselineModels.catboost(X_train,y_train,X_test,y_test)\n",
    "#Store MSE Value\n",
    "sb.glue(\"Catboost MAE\",mae_cb)"
   ]
  },
  {
   "cell_type": "markdown",
   "id": "53a4cd6b",
   "metadata": {
    "papermill": {
     "duration": 0.015564,
     "end_time": "2022-06-22T10:49:16.221587",
     "exception": false,
     "start_time": "2022-06-22T10:49:16.206023",
     "status": "completed"
    },
    "tags": []
   },
   "source": [
    "# TabNet regressor"
   ]
  },
  {
   "cell_type": "code",
   "execution_count": 7,
   "id": "20873b6e",
   "metadata": {
    "execution": {
     "iopub.execute_input": "2022-06-22T10:49:16.283597Z",
     "iopub.status.busy": "2022-06-22T10:49:16.281730Z",
     "iopub.status.idle": "2022-06-22T10:49:16.288278Z",
     "shell.execute_reply": "2022-06-22T10:49:16.289940Z"
    },
    "papermill": {
     "duration": 0.051514,
     "end_time": "2022-06-22T10:49:16.290439",
     "exception": false,
     "start_time": "2022-06-22T10:49:16.238925",
     "status": "completed"
    },
    "tags": []
   },
   "outputs": [],
   "source": [
    "n_epochs = 1000\n",
    "batch_size = 32"
   ]
  },
  {
   "cell_type": "code",
   "execution_count": 8,
   "id": "3180bd93",
   "metadata": {
    "execution": {
     "iopub.execute_input": "2022-06-22T10:49:16.332613Z",
     "iopub.status.busy": "2022-06-22T10:49:16.331718Z",
     "iopub.status.idle": "2022-06-22T10:49:43.298773Z",
     "shell.execute_reply": "2022-06-22T10:49:43.299418Z"
    },
    "papermill": {
     "duration": 26.990114,
     "end_time": "2022-06-22T10:49:43.299660",
     "exception": false,
     "start_time": "2022-06-22T10:49:16.309546",
     "status": "completed"
    },
    "tags": []
   },
   "outputs": [
    {
     "name": "stdout",
     "output_type": "stream",
     "text": [
      "(80,)\n",
      "Device used : cpu\n"
     ]
    },
    {
     "name": "stdout",
     "output_type": "stream",
     "text": [
      "epoch 0  | loss: 1.10178 | train_mse: 2.63467 | train_mae: 1.22838 |  0:00:01s\n",
      "epoch 1  | loss: 0.74502 | train_mse: 3.71365 | train_mae: 1.33988 |  0:00:01s\n",
      "epoch 2  | loss: 0.66785 | train_mse: 4.48421 | train_mae: 1.44031 |  0:00:01s\n"
     ]
    },
    {
     "name": "stdout",
     "output_type": "stream",
     "text": [
      "epoch 3  | loss: 0.54966 | train_mse: 1.90169 | train_mae: 0.99377 |  0:00:01s\n",
      "epoch 4  | loss: 0.29611 | train_mse: 0.79174 | train_mae: 0.67152 |  0:00:01s\n",
      "epoch 5  | loss: 0.48743 | train_mse: 0.49375 | train_mae: 0.55442 |  0:00:01s\n"
     ]
    },
    {
     "name": "stdout",
     "output_type": "stream",
     "text": [
      "epoch 6  | loss: 0.3315  | train_mse: 0.67474 | train_mae: 0.62339 |  0:00:01s\n",
      "epoch 7  | loss: 0.40884 | train_mse: 0.53503 | train_mae: 0.57573 |  0:00:01s\n",
      "epoch 8  | loss: 0.38496 | train_mse: 0.56959 | train_mae: 0.59488 |  0:00:01s\n"
     ]
    },
    {
     "name": "stdout",
     "output_type": "stream",
     "text": [
      "epoch 9  | loss: 0.29282 | train_mse: 0.63523 | train_mae: 0.61194 |  0:00:01s\n",
      "epoch 10 | loss: 0.31704 | train_mse: 0.80114 | train_mae: 0.67192 |  0:00:01s\n"
     ]
    },
    {
     "name": "stdout",
     "output_type": "stream",
     "text": [
      "epoch 11 | loss: 0.22478 | train_mse: 0.4753  | train_mae: 0.53278 |  0:00:02s\n"
     ]
    },
    {
     "name": "stdout",
     "output_type": "stream",
     "text": [
      "epoch 12 | loss: 0.24337 | train_mse: 0.22411 | train_mae: 0.36899 |  0:00:02s\n",
      "epoch 13 | loss: 0.30529 | train_mse: 0.1954  | train_mae: 0.35671 |  0:00:02s\n"
     ]
    },
    {
     "name": "stdout",
     "output_type": "stream",
     "text": [
      "epoch 14 | loss: 0.27744 | train_mse: 0.19395 | train_mae: 0.35072 |  0:00:02s\n",
      "epoch 15 | loss: 0.31622 | train_mse: 0.20476 | train_mae: 0.34887 |  0:00:02s\n"
     ]
    },
    {
     "name": "stdout",
     "output_type": "stream",
     "text": [
      "epoch 16 | loss: 0.20056 | train_mse: 0.20617 | train_mae: 0.35007 |  0:00:02s\n",
      "epoch 17 | loss: 0.18053 | train_mse: 0.21705 | train_mae: 0.35879 |  0:00:03s\n"
     ]
    },
    {
     "name": "stdout",
     "output_type": "stream",
     "text": [
      "epoch 18 | loss: 0.16518 | train_mse: 0.25431 | train_mae: 0.39966 |  0:00:03s\n",
      "epoch 19 | loss: 0.15708 | train_mse: 0.26621 | train_mae: 0.40531 |  0:00:03s\n",
      "epoch 20 | loss: 0.13519 | train_mse: 0.1976  | train_mae: 0.35521 |  0:00:03s\n"
     ]
    },
    {
     "name": "stdout",
     "output_type": "stream",
     "text": [
      "epoch 21 | loss: 0.17306 | train_mse: 0.19393 | train_mae: 0.351   |  0:00:03s\n",
      "epoch 22 | loss: 0.17669 | train_mse: 0.19172 | train_mae: 0.33837 |  0:00:03s\n",
      "epoch 23 | loss: 0.20129 | train_mse: 0.22835 | train_mae: 0.35403 |  0:00:03s\n"
     ]
    },
    {
     "name": "stdout",
     "output_type": "stream",
     "text": [
      "epoch 24 | loss: 0.29298 | train_mse: 0.28322 | train_mae: 0.38441 |  0:00:03s\n",
      "epoch 25 | loss: 0.16779 | train_mse: 0.24652 | train_mae: 0.36905 |  0:00:03s\n",
      "epoch 26 | loss: 0.35615 | train_mse: 0.15667 | train_mae: 0.30913 |  0:00:03s\n"
     ]
    },
    {
     "name": "stdout",
     "output_type": "stream",
     "text": [
      "epoch 27 | loss: 0.17319 | train_mse: 0.11297 | train_mae: 0.2553  |  0:00:04s\n",
      "epoch 28 | loss: 0.13569 | train_mse: 0.12525 | train_mae: 0.27078 |  0:00:04s\n"
     ]
    },
    {
     "name": "stdout",
     "output_type": "stream",
     "text": [
      "epoch 29 | loss: 0.19555 | train_mse: 0.1405  | train_mae: 0.28872 |  0:00:04s\n",
      "epoch 30 | loss: 0.1888  | train_mse: 0.14321 | train_mae: 0.29402 |  0:00:04s\n",
      "epoch 31 | loss: 0.2022  | train_mse: 0.14818 | train_mae: 0.30237 |  0:00:04s\n"
     ]
    },
    {
     "name": "stdout",
     "output_type": "stream",
     "text": [
      "epoch 32 | loss: 0.13879 | train_mse: 0.13905 | train_mae: 0.29027 |  0:00:04s\n"
     ]
    },
    {
     "name": "stdout",
     "output_type": "stream",
     "text": [
      "epoch 33 | loss: 0.21307 | train_mse: 0.12767 | train_mae: 0.27887 |  0:00:04s\n",
      "epoch 34 | loss: 0.15747 | train_mse: 0.117   | train_mae: 0.25977 |  0:00:04s\n"
     ]
    },
    {
     "name": "stdout",
     "output_type": "stream",
     "text": [
      "epoch 35 | loss: 0.15266 | train_mse: 0.11057 | train_mae: 0.25504 |  0:00:05s\n",
      "epoch 36 | loss: 0.1695  | train_mse: 0.11986 | train_mae: 0.27397 |  0:00:05s\n"
     ]
    },
    {
     "name": "stdout",
     "output_type": "stream",
     "text": [
      "epoch 37 | loss: 0.10914 | train_mse: 0.11915 | train_mae: 0.27818 |  0:00:05s\n"
     ]
    },
    {
     "name": "stdout",
     "output_type": "stream",
     "text": [
      "epoch 38 | loss: 0.1014  | train_mse: 0.12153 | train_mae: 0.28066 |  0:00:05s\n",
      "epoch 39 | loss: 0.10825 | train_mse: 0.1319  | train_mae: 0.29249 |  0:00:05s\n"
     ]
    },
    {
     "name": "stdout",
     "output_type": "stream",
     "text": [
      "epoch 40 | loss: 0.11065 | train_mse: 0.14471 | train_mae: 0.30384 |  0:00:05s\n"
     ]
    },
    {
     "name": "stdout",
     "output_type": "stream",
     "text": [
      "epoch 41 | loss: 0.16745 | train_mse: 0.09358 | train_mae: 0.24929 |  0:00:06s\n",
      "epoch 42 | loss: 0.16272 | train_mse: 0.1118  | train_mae: 0.26444 |  0:00:06s\n"
     ]
    },
    {
     "name": "stdout",
     "output_type": "stream",
     "text": [
      "epoch 43 | loss: 0.25975 | train_mse: 0.11324 | train_mae: 0.26494 |  0:00:06s\n",
      "epoch 44 | loss: 0.15633 | train_mse: 0.13398 | train_mae: 0.28125 |  0:00:06s\n",
      "epoch 45 | loss: 0.21841 | train_mse: 0.14543 | train_mae: 0.29322 |  0:00:06s\n"
     ]
    },
    {
     "name": "stdout",
     "output_type": "stream",
     "text": [
      "epoch 46 | loss: 0.1355  | train_mse: 0.09351 | train_mae: 0.2407  |  0:00:06s\n",
      "epoch 47 | loss: 0.19415 | train_mse: 0.08442 | train_mae: 0.23419 |  0:00:07s\n"
     ]
    },
    {
     "name": "stdout",
     "output_type": "stream",
     "text": [
      "epoch 48 | loss: 0.17393 | train_mse: 0.1068  | train_mae: 0.26047 |  0:00:07s\n",
      "epoch 49 | loss: 0.11624 | train_mse: 0.134   | train_mae: 0.29082 |  0:00:07s\n",
      "epoch 50 | loss: 0.13418 | train_mse: 0.13416 | train_mae: 0.28718 |  0:00:07s\n"
     ]
    },
    {
     "name": "stdout",
     "output_type": "stream",
     "text": [
      "epoch 51 | loss: 0.13323 | train_mse: 0.12257 | train_mae: 0.27427 |  0:00:07s\n",
      "epoch 52 | loss: 0.11281 | train_mse: 0.12163 | train_mae: 0.27241 |  0:00:07s\n"
     ]
    },
    {
     "name": "stdout",
     "output_type": "stream",
     "text": [
      "epoch 53 | loss: 0.15643 | train_mse: 0.12546 | train_mae: 0.27326 |  0:00:07s\n",
      "epoch 54 | loss: 0.10756 | train_mse: 0.11863 | train_mae: 0.26865 |  0:00:07s\n"
     ]
    },
    {
     "name": "stdout",
     "output_type": "stream",
     "text": [
      "epoch 55 | loss: 0.14241 | train_mse: 0.1196  | train_mae: 0.26935 |  0:00:08s\n",
      "epoch 56 | loss: 0.16203 | train_mse: 0.13427 | train_mae: 0.28535 |  0:00:08s\n"
     ]
    },
    {
     "name": "stdout",
     "output_type": "stream",
     "text": [
      "epoch 57 | loss: 0.14491 | train_mse: 0.12975 | train_mae: 0.27444 |  0:00:08s\n",
      "epoch 58 | loss: 0.17519 | train_mse: 0.11363 | train_mae: 0.26447 |  0:00:08s\n",
      "epoch 59 | loss: 0.12083 | train_mse: 0.11789 | train_mae: 0.26892 |  0:00:08s\n",
      "epoch 60 | loss: 0.25796 | train_mse: 0.11346 | train_mae: 0.26177 |  0:00:08s\n"
     ]
    },
    {
     "name": "stdout",
     "output_type": "stream",
     "text": [
      "epoch 61 | loss: 0.11082 | train_mse: 0.10479 | train_mae: 0.25688 |  0:00:08s\n",
      "epoch 62 | loss: 0.31819 | train_mse: 0.11159 | train_mae: 0.26387 |  0:00:08s\n",
      "epoch 63 | loss: 0.13178 | train_mse: 0.11328 | train_mae: 0.27339 |  0:00:08s\n",
      "epoch 64 | loss: 0.12455 | train_mse: 0.12034 | train_mae: 0.27212 |  0:00:08s\n"
     ]
    },
    {
     "name": "stdout",
     "output_type": "stream",
     "text": [
      "epoch 65 | loss: 0.14223 | train_mse: 0.11033 | train_mae: 0.25679 |  0:00:09s\n",
      "epoch 66 | loss: 0.16489 | train_mse: 0.10846 | train_mae: 0.25823 |  0:00:09s\n",
      "epoch 67 | loss: 0.1287  | train_mse: 0.09422 | train_mae: 0.24436 |  0:00:09s\n"
     ]
    },
    {
     "name": "stdout",
     "output_type": "stream",
     "text": [
      "epoch 68 | loss: 0.15093 | train_mse: 0.0911  | train_mae: 0.24197 |  0:00:09s\n",
      "epoch 69 | loss: 0.11609 | train_mse: 0.08809 | train_mae: 0.24371 |  0:00:09s\n",
      "epoch 70 | loss: 0.10477 | train_mse: 0.09798 | train_mae: 0.24971 |  0:00:09s\n"
     ]
    },
    {
     "name": "stdout",
     "output_type": "stream",
     "text": [
      "epoch 71 | loss: 0.12734 | train_mse: 0.09617 | train_mae: 0.24769 |  0:00:09s\n",
      "epoch 72 | loss: 0.17252 | train_mse: 0.10316 | train_mae: 0.25684 |  0:00:09s\n"
     ]
    },
    {
     "name": "stdout",
     "output_type": "stream",
     "text": [
      "epoch 73 | loss: 0.19605 | train_mse: 0.09673 | train_mae: 0.25152 |  0:00:09s\n",
      "epoch 74 | loss: 0.14588 | train_mse: 0.08514 | train_mae: 0.23836 |  0:00:09s\n",
      "epoch 75 | loss: 0.10174 | train_mse: 0.08193 | train_mae: 0.23103 |  0:00:09s\n",
      "epoch 76 | loss: 0.16727 | train_mse: 0.082   | train_mae: 0.23036 |  0:00:09s\n"
     ]
    },
    {
     "name": "stdout",
     "output_type": "stream",
     "text": [
      "epoch 77 | loss: 0.12467 | train_mse: 0.08523 | train_mae: 0.22845 |  0:00:10s\n",
      "epoch 78 | loss: 0.17859 | train_mse: 0.09863 | train_mae: 0.243   |  0:00:10s\n",
      "epoch 79 | loss: 0.16098 | train_mse: 0.08454 | train_mae: 0.23285 |  0:00:10s\n"
     ]
    },
    {
     "name": "stdout",
     "output_type": "stream",
     "text": [
      "epoch 80 | loss: 0.14373 | train_mse: 0.09466 | train_mae: 0.2429  |  0:00:10s\n",
      "epoch 81 | loss: 0.15295 | train_mse: 0.10867 | train_mae: 0.26926 |  0:00:10s\n",
      "epoch 82 | loss: 0.16415 | train_mse: 0.11774 | train_mae: 0.27264 |  0:00:10s\n",
      "epoch 83 | loss: 0.16455 | train_mse: 0.10029 | train_mae: 0.25517 |  0:00:10s\n"
     ]
    },
    {
     "name": "stdout",
     "output_type": "stream",
     "text": [
      "epoch 84 | loss: 0.1142  | train_mse: 0.0895  | train_mae: 0.23892 |  0:00:10s\n",
      "epoch 85 | loss: 0.11769 | train_mse: 0.09234 | train_mae: 0.23502 |  0:00:10s\n",
      "epoch 86 | loss: 0.15835 | train_mse: 0.09919 | train_mae: 0.24619 |  0:00:10s\n"
     ]
    },
    {
     "name": "stdout",
     "output_type": "stream",
     "text": [
      "epoch 87 | loss: 0.14554 | train_mse: 0.09962 | train_mae: 0.24395 |  0:00:10s\n",
      "epoch 88 | loss: 0.1372  | train_mse: 0.09953 | train_mae: 0.23639 |  0:00:10s\n",
      "epoch 89 | loss: 0.1649  | train_mse: 0.08752 | train_mae: 0.22989 |  0:00:10s\n"
     ]
    },
    {
     "name": "stdout",
     "output_type": "stream",
     "text": [
      "epoch 90 | loss: 0.14456 | train_mse: 0.12393 | train_mae: 0.27649 |  0:00:10s\n",
      "epoch 91 | loss: 0.16014 | train_mse: 0.11768 | train_mae: 0.26467 |  0:00:10s\n",
      "epoch 92 | loss: 0.12368 | train_mse: 0.12236 | train_mae: 0.25016 |  0:00:11s\n"
     ]
    },
    {
     "name": "stdout",
     "output_type": "stream",
     "text": [
      "epoch 93 | loss: 0.15076 | train_mse: 0.08849 | train_mae: 0.23204 |  0:00:11s\n",
      "epoch 94 | loss: 0.11961 | train_mse: 0.08703 | train_mae: 0.23478 |  0:00:11s\n",
      "epoch 95 | loss: 0.12094 | train_mse: 0.08753 | train_mae: 0.24076 |  0:00:11s\n",
      "epoch 96 | loss: 0.1068  | train_mse: 0.0795  | train_mae: 0.22792 |  0:00:11s\n"
     ]
    },
    {
     "name": "stdout",
     "output_type": "stream",
     "text": [
      "epoch 97 | loss: 0.16454 | train_mse: 0.0786  | train_mae: 0.21774 |  0:00:11s\n",
      "epoch 98 | loss: 0.09424 | train_mse: 0.09342 | train_mae: 0.23653 |  0:00:11s\n",
      "epoch 99 | loss: 0.23499 | train_mse: 0.08934 | train_mae: 0.23065 |  0:00:11s\n"
     ]
    },
    {
     "name": "stdout",
     "output_type": "stream",
     "text": [
      "epoch 100| loss: 0.11001 | train_mse: 0.07495 | train_mae: 0.21774 |  0:00:11s\n",
      "epoch 101| loss: 0.11092 | train_mse: 0.07092 | train_mae: 0.20719 |  0:00:11s\n",
      "epoch 102| loss: 0.08401 | train_mse: 0.07    | train_mae: 0.21239 |  0:00:11s\n"
     ]
    },
    {
     "name": "stdout",
     "output_type": "stream",
     "text": [
      "epoch 103| loss: 0.09778 | train_mse: 0.06575 | train_mae: 0.20491 |  0:00:11s\n",
      "epoch 104| loss: 0.16088 | train_mse: 0.06654 | train_mae: 0.20035 |  0:00:11s\n",
      "epoch 105| loss: 0.14462 | train_mse: 0.08365 | train_mae: 0.21963 |  0:00:11s\n"
     ]
    },
    {
     "name": "stdout",
     "output_type": "stream",
     "text": [
      "epoch 106| loss: 0.09104 | train_mse: 0.07793 | train_mae: 0.21562 |  0:00:12s\n",
      "epoch 107| loss: 0.15458 | train_mse: 0.09308 | train_mae: 0.23827 |  0:00:12s\n",
      "epoch 108| loss: 0.10033 | train_mse: 0.09319 | train_mae: 0.23752 |  0:00:12s\n",
      "epoch 109| loss: 0.12253 | train_mse: 0.0813  | train_mae: 0.22368 |  0:00:12s\n"
     ]
    },
    {
     "name": "stdout",
     "output_type": "stream",
     "text": [
      "epoch 110| loss: 0.23526 | train_mse: 0.07427 | train_mae: 0.21804 |  0:00:12s\n",
      "epoch 111| loss: 0.08554 | train_mse: 0.08932 | train_mae: 0.23603 |  0:00:12s\n",
      "epoch 112| loss: 0.09553 | train_mse: 0.09039 | train_mae: 0.23834 |  0:00:12s\n",
      "epoch 113| loss: 0.16029 | train_mse: 0.09397 | train_mae: 0.23896 |  0:00:12s\n"
     ]
    },
    {
     "name": "stdout",
     "output_type": "stream",
     "text": [
      "epoch 114| loss: 0.12244 | train_mse: 0.09504 | train_mae: 0.23625 |  0:00:12s\n",
      "epoch 115| loss: 0.13051 | train_mse: 0.09735 | train_mae: 0.23908 |  0:00:12s\n",
      "epoch 116| loss: 0.11935 | train_mse: 0.08414 | train_mae: 0.22328 |  0:00:12s\n",
      "epoch 117| loss: 0.09155 | train_mse: 0.08798 | train_mae: 0.22676 |  0:00:12s\n"
     ]
    },
    {
     "name": "stdout",
     "output_type": "stream",
     "text": [
      "epoch 118| loss: 0.15502 | train_mse: 0.0774  | train_mae: 0.21655 |  0:00:12s\n",
      "epoch 119| loss: 0.18269 | train_mse: 0.07138 | train_mae: 0.21207 |  0:00:12s\n",
      "epoch 120| loss: 0.09874 | train_mse: 0.07131 | train_mae: 0.21364 |  0:00:13s\n"
     ]
    },
    {
     "name": "stdout",
     "output_type": "stream",
     "text": [
      "epoch 121| loss: 0.11751 | train_mse: 0.07382 | train_mae: 0.21583 |  0:00:13s\n",
      "epoch 122| loss: 0.06296 | train_mse: 0.0859  | train_mae: 0.23032 |  0:00:13s\n",
      "epoch 123| loss: 0.08498 | train_mse: 0.1035  | train_mae: 0.25449 |  0:00:13s\n"
     ]
    },
    {
     "name": "stdout",
     "output_type": "stream",
     "text": [
      "epoch 124| loss: 0.12813 | train_mse: 0.11961 | train_mae: 0.27262 |  0:00:13s\n",
      "epoch 125| loss: 0.1855  | train_mse: 0.11109 | train_mae: 0.26339 |  0:00:13s\n",
      "epoch 126| loss: 0.09568 | train_mse: 0.11326 | train_mae: 0.25559 |  0:00:13s\n"
     ]
    },
    {
     "name": "stdout",
     "output_type": "stream",
     "text": [
      "epoch 127| loss: 0.14221 | train_mse: 0.1052  | train_mae: 0.2523  |  0:00:13s\n",
      "epoch 128| loss: 0.14499 | train_mse: 0.08862 | train_mae: 0.22966 |  0:00:13s\n",
      "epoch 129| loss: 0.12169 | train_mse: 0.09834 | train_mae: 0.24703 |  0:00:13s\n"
     ]
    },
    {
     "name": "stdout",
     "output_type": "stream",
     "text": [
      "epoch 130| loss: 0.1044  | train_mse: 0.08317 | train_mae: 0.2318  |  0:00:13s\n",
      "epoch 131| loss: 0.11084 | train_mse: 0.07904 | train_mae: 0.22971 |  0:00:13s\n",
      "epoch 132| loss: 0.14496 | train_mse: 0.08282 | train_mae: 0.22348 |  0:00:14s\n"
     ]
    },
    {
     "name": "stdout",
     "output_type": "stream",
     "text": [
      "epoch 133| loss: 0.10728 | train_mse: 0.10137 | train_mae: 0.2298  |  0:00:14s\n",
      "epoch 134| loss: 0.17978 | train_mse: 0.10977 | train_mae: 0.23416 |  0:00:14s\n"
     ]
    },
    {
     "name": "stdout",
     "output_type": "stream",
     "text": [
      "epoch 135| loss: 0.14393 | train_mse: 0.08541 | train_mae: 0.22032 |  0:00:14s\n",
      "epoch 136| loss: 0.12742 | train_mse: 0.07443 | train_mae: 0.21101 |  0:00:14s\n",
      "epoch 137| loss: 0.12525 | train_mse: 0.06853 | train_mae: 0.20548 |  0:00:14s\n"
     ]
    },
    {
     "name": "stdout",
     "output_type": "stream",
     "text": [
      "epoch 138| loss: 0.10439 | train_mse: 0.06725 | train_mae: 0.20822 |  0:00:14s\n",
      "epoch 139| loss: 0.13927 | train_mse: 0.06969 | train_mae: 0.20726 |  0:00:14s\n",
      "epoch 140| loss: 0.10242 | train_mse: 0.07606 | train_mae: 0.21463 |  0:00:14s\n",
      "epoch 141| loss: 0.16485 | train_mse: 0.08641 | train_mae: 0.22769 |  0:00:14s\n"
     ]
    },
    {
     "name": "stdout",
     "output_type": "stream",
     "text": [
      "epoch 142| loss: 0.08025 | train_mse: 0.09377 | train_mae: 0.2385  |  0:00:14s\n",
      "epoch 143| loss: 0.0919  | train_mse: 0.10491 | train_mae: 0.24874 |  0:00:14s\n",
      "epoch 144| loss: 0.18578 | train_mse: 0.10477 | train_mae: 0.24708 |  0:00:15s\n",
      "epoch 145| loss: 0.103   | train_mse: 0.08114 | train_mae: 0.21808 |  0:00:15s\n"
     ]
    },
    {
     "name": "stdout",
     "output_type": "stream",
     "text": [
      "epoch 146| loss: 0.09061 | train_mse: 0.0744  | train_mae: 0.21371 |  0:00:15s\n",
      "epoch 147| loss: 0.0999  | train_mse: 0.06662 | train_mae: 0.20563 |  0:00:15s\n",
      "epoch 148| loss: 0.13294 | train_mse: 0.06198 | train_mae: 0.198   |  0:00:15s\n"
     ]
    },
    {
     "name": "stdout",
     "output_type": "stream",
     "text": [
      "epoch 149| loss: 0.13652 | train_mse: 0.07164 | train_mae: 0.20582 |  0:00:15s\n",
      "epoch 150| loss: 0.1153  | train_mse: 0.07306 | train_mae: 0.20695 |  0:00:15s\n",
      "epoch 151| loss: 0.11065 | train_mse: 0.07663 | train_mae: 0.21166 |  0:00:15s\n"
     ]
    },
    {
     "name": "stdout",
     "output_type": "stream",
     "text": [
      "epoch 152| loss: 0.0813  | train_mse: 0.08439 | train_mae: 0.22694 |  0:00:15s\n",
      "epoch 153| loss: 0.06961 | train_mse: 0.08414 | train_mae: 0.22849 |  0:00:15s\n",
      "epoch 154| loss: 0.13279 | train_mse: 0.06592 | train_mae: 0.20333 |  0:00:15s\n",
      "epoch 155| loss: 0.14471 | train_mse: 0.07316 | train_mae: 0.20807 |  0:00:15s\n"
     ]
    },
    {
     "name": "stdout",
     "output_type": "stream",
     "text": [
      "epoch 156| loss: 0.106   | train_mse: 0.09273 | train_mae: 0.23378 |  0:00:15s\n",
      "epoch 157| loss: 0.09237 | train_mse: 0.11172 | train_mae: 0.25923 |  0:00:16s\n"
     ]
    },
    {
     "name": "stdout",
     "output_type": "stream",
     "text": [
      "epoch 158| loss: 0.10725 | train_mse: 0.10352 | train_mae: 0.24534 |  0:00:16s\n",
      "epoch 159| loss: 0.11359 | train_mse: 0.08902 | train_mae: 0.22655 |  0:00:16s\n",
      "epoch 160| loss: 0.09633 | train_mse: 0.07474 | train_mae: 0.21242 |  0:00:16s\n"
     ]
    },
    {
     "name": "stdout",
     "output_type": "stream",
     "text": [
      "epoch 161| loss: 0.0841  | train_mse: 0.08326 | train_mae: 0.21967 |  0:00:16s\n",
      "epoch 162| loss: 0.11191 | train_mse: 0.08828 | train_mae: 0.22473 |  0:00:16s\n",
      "epoch 163| loss: 0.09325 | train_mse: 0.10274 | train_mae: 0.24404 |  0:00:16s\n"
     ]
    },
    {
     "name": "stdout",
     "output_type": "stream",
     "text": [
      "epoch 164| loss: 0.07405 | train_mse: 0.09534 | train_mae: 0.23299 |  0:00:16s\n",
      "epoch 165| loss: 0.06961 | train_mse: 0.0725  | train_mae: 0.20849 |  0:00:16s\n"
     ]
    },
    {
     "name": "stdout",
     "output_type": "stream",
     "text": [
      "epoch 166| loss: 0.11343 | train_mse: 0.07156 | train_mae: 0.20383 |  0:00:16s\n",
      "epoch 167| loss: 0.14153 | train_mse: 0.06632 | train_mae: 0.1983  |  0:00:16s\n",
      "epoch 168| loss: 0.07264 | train_mse: 0.05503 | train_mae: 0.18313 |  0:00:16s\n",
      "epoch 169| loss: 0.11425 | train_mse: 0.05539 | train_mae: 0.18717 |  0:00:16s\n"
     ]
    },
    {
     "name": "stdout",
     "output_type": "stream",
     "text": [
      "epoch 170| loss: 0.11436 | train_mse: 0.05493 | train_mae: 0.18706 |  0:00:17s\n",
      "epoch 171| loss: 0.08922 | train_mse: 0.05793 | train_mae: 0.19189 |  0:00:17s\n",
      "epoch 172| loss: 0.10811 | train_mse: 0.05541 | train_mae: 0.18237 |  0:00:17s\n"
     ]
    },
    {
     "name": "stdout",
     "output_type": "stream",
     "text": [
      "epoch 173| loss: 0.07503 | train_mse: 0.06235 | train_mae: 0.19638 |  0:00:17s\n",
      "epoch 174| loss: 0.09771 | train_mse: 0.05903 | train_mae: 0.1947  |  0:00:17s\n",
      "epoch 175| loss: 0.12824 | train_mse: 0.05375 | train_mae: 0.18112 |  0:00:17s\n"
     ]
    },
    {
     "name": "stdout",
     "output_type": "stream",
     "text": [
      "epoch 176| loss: 0.09769 | train_mse: 0.06227 | train_mae: 0.19917 |  0:00:17s\n",
      "epoch 177| loss: 0.07985 | train_mse: 0.07373 | train_mae: 0.21637 |  0:00:17s\n",
      "epoch 178| loss: 0.13289 | train_mse: 0.06852 | train_mae: 0.20519 |  0:00:17s\n",
      "epoch 179| loss: 0.07916 | train_mse: 0.06171 | train_mae: 0.19906 |  0:00:17s\n"
     ]
    },
    {
     "name": "stdout",
     "output_type": "stream",
     "text": [
      "epoch 180| loss: 0.06814 | train_mse: 0.06262 | train_mae: 0.19403 |  0:00:17s\n",
      "epoch 181| loss: 0.13229 | train_mse: 0.0709  | train_mae: 0.20859 |  0:00:17s\n",
      "epoch 182| loss: 0.07984 | train_mse: 0.07026 | train_mae: 0.20819 |  0:00:17s\n",
      "epoch 183| loss: 0.08013 | train_mse: 0.05827 | train_mae: 0.19447 |  0:00:17s\n"
     ]
    },
    {
     "name": "stdout",
     "output_type": "stream",
     "text": [
      "epoch 184| loss: 0.13633 | train_mse: 0.0562  | train_mae: 0.18866 |  0:00:18s\n",
      "epoch 185| loss: 0.09599 | train_mse: 0.05207 | train_mae: 0.17814 |  0:00:18s\n",
      "epoch 186| loss: 0.08438 | train_mse: 0.05107 | train_mae: 0.17931 |  0:00:18s\n"
     ]
    },
    {
     "name": "stdout",
     "output_type": "stream",
     "text": [
      "epoch 187| loss: 0.07634 | train_mse: 0.05222 | train_mae: 0.18133 |  0:00:18s\n",
      "epoch 188| loss: 0.1034  | train_mse: 0.05494 | train_mae: 0.18393 |  0:00:18s\n",
      "epoch 189| loss: 0.11245 | train_mse: 0.05782 | train_mae: 0.1928  |  0:00:18s\n",
      "epoch 190| loss: 0.09269 | train_mse: 0.05987 | train_mae: 0.19511 |  0:00:18s\n"
     ]
    },
    {
     "name": "stdout",
     "output_type": "stream",
     "text": [
      "epoch 191| loss: 0.11306 | train_mse: 0.05859 | train_mae: 0.19244 |  0:00:18s\n",
      "epoch 192| loss: 0.06358 | train_mse: 0.05678 | train_mae: 0.18994 |  0:00:18s\n",
      "epoch 193| loss: 0.08279 | train_mse: 0.06164 | train_mae: 0.19589 |  0:00:18s\n"
     ]
    },
    {
     "name": "stdout",
     "output_type": "stream",
     "text": [
      "epoch 194| loss: 0.06955 | train_mse: 0.07147 | train_mae: 0.21321 |  0:00:18s\n",
      "epoch 195| loss: 0.0926  | train_mse: 0.05585 | train_mae: 0.18825 |  0:00:18s\n",
      "epoch 196| loss: 0.07613 | train_mse: 0.05134 | train_mae: 0.17993 |  0:00:18s\n",
      "epoch 197| loss: 0.07239 | train_mse: 0.05926 | train_mae: 0.19362 |  0:00:18s\n"
     ]
    },
    {
     "name": "stdout",
     "output_type": "stream",
     "text": [
      "epoch 198| loss: 0.12055 | train_mse: 0.0489  | train_mae: 0.17138 |  0:00:19s\n",
      "epoch 199| loss: 0.09645 | train_mse: 0.07095 | train_mae: 0.20773 |  0:00:19s\n",
      "epoch 200| loss: 0.1609  | train_mse: 0.09524 | train_mae: 0.23628 |  0:00:19s\n"
     ]
    },
    {
     "name": "stdout",
     "output_type": "stream",
     "text": [
      "epoch 201| loss: 0.13312 | train_mse: 0.09987 | train_mae: 0.23947 |  0:00:19s\n",
      "epoch 202| loss: 0.12722 | train_mse: 0.09769 | train_mae: 0.24555 |  0:00:19s\n",
      "epoch 203| loss: 0.10189 | train_mse: 0.14939 | train_mae: 0.30445 |  0:00:19s\n",
      "epoch 204| loss: 0.12254 | train_mse: 0.16115 | train_mae: 0.30216 |  0:00:19s\n"
     ]
    },
    {
     "name": "stdout",
     "output_type": "stream",
     "text": [
      "epoch 205| loss: 0.10017 | train_mse: 0.13071 | train_mae: 0.27191 |  0:00:19s\n",
      "epoch 206| loss: 0.10328 | train_mse: 0.10305 | train_mae: 0.2565  |  0:00:19s\n",
      "epoch 207| loss: 0.11994 | train_mse: 0.07839 | train_mae: 0.2242  |  0:00:19s\n",
      "epoch 208| loss: 0.09457 | train_mse: 0.07381 | train_mae: 0.21911 |  0:00:19s\n"
     ]
    },
    {
     "name": "stdout",
     "output_type": "stream",
     "text": [
      "epoch 209| loss: 0.08422 | train_mse: 0.07166 | train_mae: 0.21316 |  0:00:19s\n",
      "epoch 210| loss: 0.10573 | train_mse: 0.06282 | train_mae: 0.19031 |  0:00:19s\n",
      "epoch 211| loss: 0.10859 | train_mse: 0.06074 | train_mae: 0.18346 |  0:00:19s\n",
      "epoch 212| loss: 0.1077  | train_mse: 0.05887 | train_mae: 0.1902  |  0:00:19s\n"
     ]
    },
    {
     "name": "stdout",
     "output_type": "stream",
     "text": [
      "epoch 213| loss: 0.11812 | train_mse: 0.0593  | train_mae: 0.19479 |  0:00:20s\n",
      "epoch 214| loss: 0.08326 | train_mse: 0.05703 | train_mae: 0.18504 |  0:00:20s\n",
      "epoch 215| loss: 0.09249 | train_mse: 0.07088 | train_mae: 0.19996 |  0:00:20s\n"
     ]
    },
    {
     "name": "stdout",
     "output_type": "stream",
     "text": [
      "epoch 216| loss: 0.07196 | train_mse: 0.08113 | train_mae: 0.21132 |  0:00:20s\n",
      "epoch 217| loss: 0.1321  | train_mse: 0.0891  | train_mae: 0.22709 |  0:00:20s\n",
      "epoch 218| loss: 0.08825 | train_mse: 0.09594 | train_mae: 0.23826 |  0:00:20s\n",
      "epoch 219| loss: 0.06452 | train_mse: 0.09899 | train_mae: 0.24293 |  0:00:20s\n"
     ]
    },
    {
     "name": "stdout",
     "output_type": "stream",
     "text": [
      "epoch 220| loss: 0.11928 | train_mse: 0.08926 | train_mae: 0.23405 |  0:00:20s\n",
      "epoch 221| loss: 0.13673 | train_mse: 0.08597 | train_mae: 0.22969 |  0:00:20s\n",
      "epoch 222| loss: 0.11203 | train_mse: 0.08663 | train_mae: 0.2091  |  0:00:20s\n",
      "epoch 223| loss: 0.08577 | train_mse: 0.08959 | train_mae: 0.22849 |  0:00:20s\n"
     ]
    },
    {
     "name": "stdout",
     "output_type": "stream",
     "text": [
      "epoch 224| loss: 0.09474 | train_mse: 0.094   | train_mae: 0.2394  |  0:00:20s\n",
      "epoch 225| loss: 0.08816 | train_mse: 0.07099 | train_mae: 0.20385 |  0:00:20s\n",
      "epoch 226| loss: 0.07933 | train_mse: 0.05965 | train_mae: 0.1804  |  0:00:20s\n"
     ]
    },
    {
     "name": "stdout",
     "output_type": "stream",
     "text": [
      "epoch 227| loss: 0.07359 | train_mse: 0.05717 | train_mae: 0.17709 |  0:00:21s\n",
      "epoch 228| loss: 0.09231 | train_mse: 0.06376 | train_mae: 0.18549 |  0:00:21s\n",
      "epoch 229| loss: 0.08794 | train_mse: 0.05996 | train_mae: 0.18509 |  0:00:21s\n"
     ]
    },
    {
     "name": "stdout",
     "output_type": "stream",
     "text": [
      "epoch 230| loss: 0.09719 | train_mse: 0.06342 | train_mae: 0.19908 |  0:00:21s\n",
      "epoch 231| loss: 0.06116 | train_mse: 0.05326 | train_mae: 0.18015 |  0:00:21s\n",
      "epoch 232| loss: 0.07043 | train_mse: 0.04607 | train_mae: 0.1683  |  0:00:21s\n",
      "epoch 233| loss: 0.12868 | train_mse: 0.04826 | train_mae: 0.17134 |  0:00:21s\n"
     ]
    },
    {
     "name": "stdout",
     "output_type": "stream",
     "text": [
      "epoch 234| loss: 0.16852 | train_mse: 0.07713 | train_mae: 0.22397 |  0:00:21s\n",
      "epoch 235| loss: 0.1049  | train_mse: 0.14519 | train_mae: 0.28791 |  0:00:21s\n",
      "epoch 236| loss: 0.10182 | train_mse: 0.19716 | train_mae: 0.32377 |  0:00:21s\n",
      "epoch 237| loss: 0.10654 | train_mse: 0.23446 | train_mae: 0.34846 |  0:00:21s\n"
     ]
    },
    {
     "name": "stdout",
     "output_type": "stream",
     "text": [
      "epoch 238| loss: 0.0869  | train_mse: 0.2197  | train_mae: 0.33963 |  0:00:21s\n",
      "epoch 239| loss: 0.07944 | train_mse: 0.18064 | train_mae: 0.31218 |  0:00:21s\n",
      "epoch 240| loss: 0.07976 | train_mse: 0.16227 | train_mae: 0.29598 |  0:00:21s\n",
      "epoch 241| loss: 0.07836 | train_mse: 0.14138 | train_mae: 0.28703 |  0:00:21s\n"
     ]
    },
    {
     "name": "stdout",
     "output_type": "stream",
     "text": [
      "epoch 242| loss: 0.06897 | train_mse: 0.13551 | train_mae: 0.28055 |  0:00:22s\n",
      "epoch 243| loss: 0.09961 | train_mse: 0.12061 | train_mae: 0.26773 |  0:00:22s\n",
      "epoch 244| loss: 0.11483 | train_mse: 0.11289 | train_mae: 0.24213 |  0:00:22s\n"
     ]
    },
    {
     "name": "stdout",
     "output_type": "stream",
     "text": [
      "epoch 245| loss: 0.09982 | train_mse: 0.07481 | train_mae: 0.20477 |  0:00:22s\n",
      "epoch 246| loss: 0.17792 | train_mse: 0.06308 | train_mae: 0.20401 |  0:00:22s\n",
      "epoch 247| loss: 0.07858 | train_mse: 0.06781 | train_mae: 0.20345 |  0:00:22s\n",
      "epoch 248| loss: 0.13803 | train_mse: 0.07768 | train_mae: 0.21345 |  0:00:22s\n"
     ]
    },
    {
     "name": "stdout",
     "output_type": "stream",
     "text": [
      "epoch 249| loss: 0.1292  | train_mse: 0.09119 | train_mae: 0.22999 |  0:00:22s\n",
      "epoch 250| loss: 0.06201 | train_mse: 0.11128 | train_mae: 0.25934 |  0:00:22s\n",
      "epoch 251| loss: 0.09819 | train_mse: 0.11301 | train_mae: 0.25586 |  0:00:22s\n",
      "epoch 252| loss: 0.13713 | train_mse: 0.08514 | train_mae: 0.22622 |  0:00:22s\n"
     ]
    },
    {
     "name": "stdout",
     "output_type": "stream",
     "text": [
      "epoch 253| loss: 0.1351  | train_mse: 0.06153 | train_mae: 0.19731 |  0:00:22s\n",
      "epoch 254| loss: 0.11751 | train_mse: 0.05333 | train_mae: 0.18297 |  0:00:22s\n",
      "epoch 255| loss: 0.11764 | train_mse: 0.05707 | train_mae: 0.18226 |  0:00:22s\n",
      "epoch 256| loss: 0.10663 | train_mse: 0.06725 | train_mae: 0.19782 |  0:00:22s\n"
     ]
    },
    {
     "name": "stdout",
     "output_type": "stream",
     "text": [
      "epoch 257| loss: 0.06812 | train_mse: 0.07236 | train_mae: 0.20685 |  0:00:23s\n",
      "epoch 258| loss: 0.07504 | train_mse: 0.06869 | train_mae: 0.20439 |  0:00:23s\n",
      "epoch 259| loss: 0.09839 | train_mse: 0.06856 | train_mae: 0.20408 |  0:00:23s\n"
     ]
    },
    {
     "name": "stdout",
     "output_type": "stream",
     "text": [
      "epoch 260| loss: 0.07947 | train_mse: 0.06518 | train_mae: 0.19898 |  0:00:23s\n",
      "epoch 261| loss: 0.08611 | train_mse: 0.04981 | train_mae: 0.17223 |  0:00:23s\n",
      "epoch 262| loss: 0.07024 | train_mse: 0.04667 | train_mae: 0.16787 |  0:00:23s\n"
     ]
    },
    {
     "name": "stdout",
     "output_type": "stream",
     "text": [
      "epoch 263| loss: 0.09179 | train_mse: 0.05318 | train_mae: 0.18346 |  0:00:23s\n",
      "epoch 264| loss: 0.08122 | train_mse: 0.05938 | train_mae: 0.19762 |  0:00:23s\n",
      "epoch 265| loss: 0.07576 | train_mse: 0.07114 | train_mae: 0.21638 |  0:00:23s\n",
      "epoch 266| loss: 0.0794  | train_mse: 0.07141 | train_mae: 0.21683 |  0:00:23s\n",
      "epoch 267| loss: 0.07246 | train_mse: 0.06452 | train_mae: 0.2065  |  0:00:23s\n"
     ]
    },
    {
     "name": "stdout",
     "output_type": "stream",
     "text": [
      "epoch 268| loss: 0.13135 | train_mse: 0.06571 | train_mae: 0.20825 |  0:00:23s\n",
      "epoch 269| loss: 0.16203 | train_mse: 0.08655 | train_mae: 0.23581 |  0:00:23s\n",
      "epoch 270| loss: 0.1012  | train_mse: 0.09098 | train_mae: 0.24151 |  0:00:23s\n",
      "epoch 271| loss: 0.08192 | train_mse: 0.11677 | train_mae: 0.2481  |  0:00:23s\n"
     ]
    },
    {
     "name": "stdout",
     "output_type": "stream",
     "text": [
      "epoch 272| loss: 0.12062 | train_mse: 0.10582 | train_mae: 0.22772 |  0:00:24s\n",
      "epoch 273| loss: 0.13384 | train_mse: 0.0971  | train_mae: 0.22244 |  0:00:24s\n",
      "epoch 274| loss: 0.11148 | train_mse: 0.07753 | train_mae: 0.22239 |  0:00:24s\n"
     ]
    },
    {
     "name": "stdout",
     "output_type": "stream",
     "text": [
      "epoch 275| loss: 0.11615 | train_mse: 0.08194 | train_mae: 0.22473 |  0:00:24s\n",
      "epoch 276| loss: 0.08887 | train_mse: 0.09155 | train_mae: 0.22802 |  0:00:24s\n",
      "epoch 277| loss: 0.13022 | train_mse: 0.08834 | train_mae: 0.22582 |  0:00:24s\n",
      "epoch 278| loss: 0.13795 | train_mse: 0.07084 | train_mae: 0.21316 |  0:00:24s\n"
     ]
    },
    {
     "name": "stdout",
     "output_type": "stream",
     "text": [
      "epoch 279| loss: 0.13402 | train_mse: 0.07021 | train_mae: 0.21638 |  0:00:24s\n",
      "epoch 280| loss: 0.07125 | train_mse: 0.06973 | train_mae: 0.20763 |  0:00:24s\n",
      "epoch 281| loss: 0.13081 | train_mse: 0.09213 | train_mae: 0.23249 |  0:00:24s\n",
      "epoch 282| loss: 0.13849 | train_mse: 0.11356 | train_mae: 0.25487 |  0:00:24s\n"
     ]
    },
    {
     "name": "stdout",
     "output_type": "stream",
     "text": [
      "epoch 283| loss: 0.15739 | train_mse: 0.08089 | train_mae: 0.22146 |  0:00:24s\n",
      "epoch 284| loss: 0.11484 | train_mse: 0.07348 | train_mae: 0.20854 |  0:00:24s\n",
      "epoch 285| loss: 0.10201 | train_mse: 0.06671 | train_mae: 0.20353 |  0:00:24s\n",
      "epoch 286| loss: 0.12689 | train_mse: 0.07324 | train_mae: 0.21414 |  0:00:24s\n"
     ]
    },
    {
     "name": "stdout",
     "output_type": "stream",
     "text": [
      "epoch 287| loss: 0.10387 | train_mse: 0.0863  | train_mae: 0.22864 |  0:00:25s\n",
      "epoch 288| loss: 0.08831 | train_mse: 0.08001 | train_mae: 0.21832 |  0:00:25s\n",
      "epoch 289| loss: 0.08235 | train_mse: 0.06995 | train_mae: 0.20383 |  0:00:25s\n"
     ]
    },
    {
     "name": "stdout",
     "output_type": "stream",
     "text": [
      "epoch 290| loss: 0.08366 | train_mse: 0.06154 | train_mae: 0.19707 |  0:00:25s\n",
      "epoch 291| loss: 0.07284 | train_mse: 0.06113 | train_mae: 0.20124 |  0:00:25s\n",
      "epoch 292| loss: 0.08818 | train_mse: 0.06197 | train_mae: 0.19984 |  0:00:25s\n",
      "epoch 293| loss: 0.08851 | train_mse: 0.06663 | train_mae: 0.19768 |  0:00:25s\n"
     ]
    },
    {
     "name": "stdout",
     "output_type": "stream",
     "text": [
      "epoch 294| loss: 0.0747  | train_mse: 0.06706 | train_mae: 0.18864 |  0:00:25s\n",
      "epoch 295| loss: 0.13318 | train_mse: 0.07558 | train_mae: 0.20501 |  0:00:25s\n",
      "epoch 296| loss: 0.12628 | train_mse: 0.06753 | train_mae: 0.1992  |  0:00:25s\n",
      "epoch 297| loss: 0.10367 | train_mse: 0.06032 | train_mae: 0.19432 |  0:00:25s\n"
     ]
    },
    {
     "name": "stdout",
     "output_type": "stream",
     "text": [
      "epoch 298| loss: 0.10753 | train_mse: 0.05451 | train_mae: 0.18708 |  0:00:25s\n",
      "epoch 299| loss: 0.15064 | train_mse: 0.05955 | train_mae: 0.19395 |  0:00:25s\n",
      "epoch 300| loss: 0.07668 | train_mse: 0.05897 | train_mae: 0.19081 |  0:00:25s\n",
      "epoch 301| loss: 0.14167 | train_mse: 0.05938 | train_mae: 0.18802 |  0:00:25s\n"
     ]
    },
    {
     "name": "stdout",
     "output_type": "stream",
     "text": [
      "epoch 302| loss: 0.09646 | train_mse: 0.08778 | train_mae: 0.22311 |  0:00:26s\n",
      "epoch 303| loss: 0.11417 | train_mse: 0.10063 | train_mae: 0.22778 |  0:00:26s\n",
      "epoch 304| loss: 0.09524 | train_mse: 0.0804  | train_mae: 0.20588 |  0:00:26s\n"
     ]
    },
    {
     "name": "stdout",
     "output_type": "stream",
     "text": [
      "epoch 305| loss: 0.13309 | train_mse: 0.07073 | train_mae: 0.20139 |  0:00:26s\n",
      "epoch 306| loss: 0.08746 | train_mse: 0.08608 | train_mae: 0.21573 |  0:00:26s\n",
      "epoch 307| loss: 0.13349 | train_mse: 0.09315 | train_mae: 0.23002 |  0:00:26s\n",
      "epoch 308| loss: 0.12807 | train_mse: 0.0694  | train_mae: 0.19875 |  0:00:26s\n"
     ]
    },
    {
     "name": "stdout",
     "output_type": "stream",
     "text": [
      "epoch 309| loss: 0.10416 | train_mse: 0.056   | train_mae: 0.18646 |  0:00:26s\n",
      "epoch 310| loss: 0.06966 | train_mse: 0.05094 | train_mae: 0.18176 |  0:00:26s\n",
      "epoch 311| loss: 0.12442 | train_mse: 0.04891 | train_mae: 0.1807  |  0:00:26s\n",
      "epoch 312| loss: 0.05812 | train_mse: 0.05215 | train_mae: 0.19017 |  0:00:26s\n"
     ]
    },
    {
     "name": "stdout",
     "output_type": "stream",
     "text": [
      "\n",
      "Early stopping occurred at epoch 312 with best_epoch = 262 and best_train_mae = 0.16787\n",
      "Best weights from best epoch are automatically used!\n",
      "BEST VALID SCORE FOR dataset : 0.16787392613477642\n",
      "FINAL TEST SCORE FOR dataset: 0.5791267905219187\n",
      "{'loss': [1.101782536506653, 0.7450215280056, 0.6678495883941651, 0.5496610522270202, 0.29611400365829466, 0.487427294254303, 0.3315019220113754, 0.4088399350643158, 0.3849606454372406, 0.292815637588501, 0.31704369783401487, 0.224777016043663, 0.2433733820915222, 0.30528684258461, 0.2774396002292633, 0.3162174105644226, 0.2005567193031311, 0.18052593469619752, 0.16518252491950988, 0.15707585215568542, 0.13519217669963837, 0.17306413054466246, 0.17669302523136138, 0.20128937363624572, 0.29298411011695863, 0.1677943617105484, 0.3561523616313934, 0.17319004237651825, 0.135688179731369, 0.195552995800972, 0.18880018591880798, 0.20220184922218323, 0.13879139721393585, 0.21307018101215364, 0.15746641755104065, 0.1526557132601738, 0.16950341761112214, 0.1091428428888321, 0.10139670670032501, 0.10824903547763824, 0.11065147519111633, 0.16744695007801055, 0.16271792948246003, 0.2597515881061554, 0.15632737874984742, 0.21841267347335816, 0.13550434410572051, 0.194152170419693, 0.17393222451210022, 0.11624498665332794, 0.1341847538948059, 0.13322816491127015, 0.11280528903007507, 0.1564328819513321, 0.10755877196788788, 0.14240968227386475, 0.1620284914970398, 0.1449090451002121, 0.17519360780715942, 0.12083069980144501, 0.25796477794647216, 0.1108170509338379, 0.3181905061006546, 0.1317826747894287, 0.12455098330974579, 0.1422344207763672, 0.16489092111587525, 0.12870384454727174, 0.15092829763889312, 0.11608701944351196, 0.10476504862308503, 0.12734343707561493, 0.17251703441143035, 0.1960454374551773, 0.14587773084640504, 0.10173729658126832, 0.16726714074611665, 0.1246708244085312, 0.17859370410442352, 0.16098112463951111, 0.14373192191123962, 0.15295036435127257, 0.16415228545665742, 0.1645508348941803, 0.11419664919376374, 0.11769247353076935, 0.15834568440914154, 0.14553550481796265, 0.1371960908174515, 0.16489889621734619, 0.14456486105918884, 0.1601361632347107, 0.12367806136608124, 0.1507592260837555, 0.11960752308368683, 0.12094238698482514, 0.10679740011692047, 0.16453677713871, 0.09423964470624924, 0.2349897801876068, 0.11001471281051636, 0.11092353761196136, 0.08401268124580383, 0.0977761298418045, 0.16087501049041747, 0.14462077021598815, 0.09104228615760804, 0.15457637310028077, 0.10033411979675293, 0.12252581864595413, 0.2352580636739731, 0.08553501814603806, 0.09553399384021759, 0.16029483675956727, 0.12243655920028687, 0.13051314949989318, 0.11935442090034484, 0.09154785722494126, 0.15502401292324067, 0.1826903462409973, 0.09874210953712463, 0.11751130223274231, 0.0629640206694603, 0.08498032093048095, 0.128125661611557, 0.18549858033657074, 0.095682293176651, 0.14220983386039734, 0.14499088525772094, 0.12168938219547272, 0.10440221056342125, 0.1108442336320877, 0.14495911300182343, 0.10727815628051758, 0.17978382408618926, 0.1439257323741913, 0.12741681337356567, 0.1252535492181778, 0.10438680350780487, 0.1392745092511177, 0.10241803526878357, 0.16484669744968414, 0.08025023639202118, 0.09190121442079544, 0.18577862977981568, 0.10299988090991974, 0.09061019122600555, 0.0999041348695755, 0.13294364213943483, 0.13651800155639648, 0.11529525220394135, 0.11064823418855667, 0.08130445182323456, 0.06960916519165039, 0.13279102742671967, 0.14470879435539247, 0.10599952787160874, 0.09237365126609802, 0.10725298970937729, 0.11359017044305801, 0.09633357226848602, 0.0841044843196869, 0.11190759539604186, 0.0932526245713234, 0.07404713183641434, 0.06960996687412262, 0.11343475282192231, 0.14152805805206298, 0.07264017909765244, 0.11424607336521149, 0.11435517519712449, 0.08922113180160522, 0.10811325162649155, 0.07503012120723725, 0.0977139875292778, 0.12823901772499086, 0.09769202917814254, 0.0798470988869667, 0.132889623939991, 0.07916322499513626, 0.06813797354698181, 0.13229449689388276, 0.07984042316675186, 0.08013149499893188, 0.13633370399475098, 0.0959864765405655, 0.08437938690185547, 0.07633820474147797, 0.10339813232421875, 0.11245418190956116, 0.09269299358129501, 0.11306456625461578, 0.06357608884572982, 0.08278734534978867, 0.06955211162567139, 0.09259674549102784, 0.07612960189580917, 0.07239053100347519, 0.1205516904592514, 0.09644924104213715, 0.16090154647827148, 0.13312369883060454, 0.1272188186645508, 0.10189078450202942, 0.12254155725240708, 0.10016973614692688, 0.10328476428985596, 0.11994474828243255, 0.0945743516087532, 0.0842215046286583, 0.10573009252548218, 0.10859386622905731, 0.10770448222756386, 0.11812450438737869, 0.08326350003480912, 0.09248923063278199, 0.07195796966552734, 0.1320980444550514, 0.08824715614318848, 0.06452019214630127, 0.11927539706230164, 0.13672975897789003, 0.11202520877122879, 0.08576979786157608, 0.09473816752433777, 0.08816122114658356, 0.0793313890695572, 0.07358903288841248, 0.09230794310569763, 0.08794204592704773, 0.09718842208385467, 0.06115743964910507, 0.07042729407548905, 0.12867582142353057, 0.1685151904821396, 0.10490268468856812, 0.10181943774223327, 0.10653966963291168, 0.08689660727977752, 0.0794438824057579, 0.07975701838731766, 0.07835881412029266, 0.06896940022706985, 0.09960617125034332, 0.11483087837696075, 0.09981889724731445, 0.17792266011238098, 0.0785802111029625, 0.1380344495177269, 0.12919855117797852, 0.06200640872120857, 0.09819266498088837, 0.13712590038776398, 0.13509558290243148, 0.11750978976488113, 0.11763843297958373, 0.10662767887115479, 0.06812450513243676, 0.0750419020652771, 0.09838657677173615, 0.07946593537926674, 0.08610850870609284, 0.07024443298578262, 0.09178926348686219, 0.08121634274721146, 0.07576417624950409, 0.07939863353967666, 0.07245944738388062, 0.13134812116622924, 0.16203158646821975, 0.10120234489440919, 0.08192331939935685, 0.12061790674924851, 0.13383711874485016, 0.11147869080305099, 0.11614753305912018, 0.08886592239141464, 0.13021698892116546, 0.1379465103149414, 0.13402009904384612, 0.07125395387411118, 0.1308077961206436, 0.13849453181028365, 0.15739372074604036, 0.11484464406967163, 0.10201219618320465, 0.1268932580947876, 0.10386577248573303, 0.0883061483502388, 0.08235104829072952, 0.08366169780492783, 0.07283955663442612, 0.08817975521087647, 0.08851262629032135, 0.07470261007547378, 0.133177649974823, 0.1262806847691536, 0.10366865992546082, 0.10752921998500824, 0.15064337253570556, 0.0766830325126648, 0.14166635870933533, 0.09645764827728272, 0.11417476683855057, 0.09524190425872803, 0.1330939382314682, 0.0874604269862175, 0.13348515331745148, 0.12806984186172485, 0.10415945798158646, 0.06965828388929367, 0.12441732883453369, 0.05811597257852554], 'lr': [0.02, 0.02, 0.02, 0.02, 0.02, 0.02, 0.02, 0.02, 0.02, 0.02, 0.02, 0.02, 0.02, 0.02, 0.02, 0.02, 0.02, 0.02, 0.02, 0.02, 0.02, 0.02, 0.02, 0.02, 0.02, 0.02, 0.02, 0.02, 0.02, 0.02, 0.02, 0.02, 0.02, 0.02, 0.02, 0.02, 0.02, 0.02, 0.02, 0.02, 0.02, 0.02, 0.02, 0.02, 0.02, 0.02, 0.02, 0.02, 0.02, 0.02, 0.02, 0.02, 0.02, 0.02, 0.02, 0.02, 0.02, 0.02, 0.02, 0.02, 0.02, 0.02, 0.02, 0.02, 0.02, 0.02, 0.02, 0.02, 0.02, 0.02, 0.02, 0.02, 0.02, 0.02, 0.02, 0.02, 0.02, 0.02, 0.02, 0.02, 0.02, 0.02, 0.02, 0.02, 0.02, 0.02, 0.02, 0.02, 0.02, 0.02, 0.02, 0.02, 0.02, 0.02, 0.02, 0.02, 0.02, 0.02, 0.02, 0.02, 0.02, 0.02, 0.02, 0.02, 0.02, 0.02, 0.02, 0.02, 0.02, 0.02, 0.02, 0.02, 0.02, 0.02, 0.02, 0.02, 0.02, 0.02, 0.02, 0.02, 0.02, 0.02, 0.02, 0.02, 0.02, 0.02, 0.02, 0.02, 0.02, 0.02, 0.02, 0.02, 0.02, 0.02, 0.02, 0.02, 0.02, 0.02, 0.02, 0.02, 0.02, 0.02, 0.02, 0.02, 0.02, 0.02, 0.02, 0.02, 0.02, 0.02, 0.02, 0.02, 0.02, 0.02, 0.02, 0.02, 0.02, 0.02, 0.02, 0.02, 0.02, 0.02, 0.02, 0.02, 0.02, 0.02, 0.02, 0.02, 0.02, 0.02, 0.02, 0.02, 0.02, 0.02, 0.02, 0.02, 0.02, 0.02, 0.02, 0.02, 0.02, 0.02, 0.02, 0.02, 0.02, 0.02, 0.02, 0.02, 0.02, 0.02, 0.02, 0.02, 0.02, 0.02, 0.02, 0.02, 0.02, 0.02, 0.02, 0.02, 0.02, 0.02, 0.02, 0.02, 0.02, 0.02, 0.02, 0.02, 0.02, 0.02, 0.02, 0.02, 0.02, 0.02, 0.02, 0.02, 0.02, 0.02, 0.02, 0.02, 0.02, 0.02, 0.02, 0.02, 0.02, 0.02, 0.02, 0.02, 0.02, 0.02, 0.02, 0.02, 0.02, 0.02, 0.02, 0.02, 0.02, 0.02, 0.02, 0.02, 0.02, 0.02, 0.02, 0.02, 0.02, 0.02, 0.02, 0.02, 0.02, 0.02, 0.02, 0.02, 0.02, 0.02, 0.02, 0.02, 0.02, 0.02, 0.02, 0.02, 0.02, 0.02, 0.02, 0.02, 0.02, 0.02, 0.02, 0.02, 0.02, 0.02, 0.02, 0.02, 0.02, 0.02, 0.02, 0.02, 0.02, 0.02, 0.02, 0.02, 0.02, 0.02, 0.02, 0.02, 0.02, 0.02, 0.02, 0.02, 0.02, 0.02, 0.02, 0.02, 0.02, 0.02, 0.02, 0.02, 0.02, 0.02, 0.02, 0.02, 0.02, 0.02, 0.02, 0.02, 0.02, 0.02, 0.02, 0.02, 0.02, 0.02, 0.02, 0.02, 0.02], 'train_mse': [2.634673439821302, 3.7136510284451383, 4.484212966468829, 1.9016854072086815, 0.7917433818151431, 0.49375414299211584, 0.6747442649926958, 0.5350304322913028, 0.5695948860528043, 0.6352326480364019, 0.8011365331730478, 0.4753019181451884, 0.22410524378240665, 0.1953976112140265, 0.19394575703862613, 0.2047619603966641, 0.20616607941442147, 0.2170485024573047, 0.25430851950216127, 0.26621284532592127, 0.1976042018315114, 0.19393236770484554, 0.19172020013415234, 0.22834822765970655, 0.28321852934715613, 0.24651642968679913, 0.1566704770728891, 0.11296773016489725, 0.1252489342599433, 0.14049618419709026, 0.14320904732225376, 0.14818020244052088, 0.1390483844247728, 0.12767166899826848, 0.11699798191690702, 0.11056802540678135, 0.11986061847665982, 0.11915037705918215, 0.12152592786832792, 0.13190435032068484, 0.14471415457411546, 0.09357976827671802, 0.11179674777450965, 0.11324444609132045, 0.13398361343886908, 0.14542910514577617, 0.09351290253179155, 0.08442346109734034, 0.10680312186028389, 0.13399908814019296, 0.1341584834594497, 0.12256634142618879, 0.12162825033205256, 0.1254606630757837, 0.11862566641266004, 0.1195980031475429, 0.13427284171157797, 0.12974982342341815, 0.11362687958999507, 0.11788938769342534, 0.11345749376494432, 0.10479328559106875, 0.11159497665993826, 0.11328054776897076, 0.1203447666423089, 0.11032637124769591, 0.1084643142095181, 0.09421711629125562, 0.09110192426673212, 0.08808565609584942, 0.0979769759174794, 0.09616948937143366, 0.10315799502585983, 0.09673207628074418, 0.08513938448153355, 0.08192880819840909, 0.08199731198836156, 0.08522986804171376, 0.09862659799810926, 0.08453962448718282, 0.09466120678612225, 0.10866872170304062, 0.11774113933912364, 0.10029131836663199, 0.08950364048189145, 0.09233792963955387, 0.0991941853902086, 0.09962163217271258, 0.09953310351256985, 0.08752408421221047, 0.12393248207660598, 0.11767556710281332, 0.12235743087062953, 0.08849269694709797, 0.0870314962212463, 0.08752631192274213, 0.07949781155788833, 0.07860254911273487, 0.09342111182248036, 0.08933731447199089, 0.07495146182281864, 0.07091572706742014, 0.0700026703717123, 0.06575414831224069, 0.06654496722578722, 0.08365178274757443, 0.07793236410009433, 0.09308309013118675, 0.0931896648163531, 0.08130048631051744, 0.07427120745302926, 0.08932495892843884, 0.09039288853631343, 0.09396960150265686, 0.09503644392737368, 0.09734770519272273, 0.08413754207365762, 0.08798003418508633, 0.07740446192045589, 0.0713782923575456, 0.07130524549974374, 0.07382352470125413, 0.08589563151130346, 0.103495978170797, 0.11961307218922539, 0.1110880194184742, 0.11325502747636643, 0.10520026712944941, 0.08862280202751364, 0.09834344403942084, 0.0831748703769727, 0.0790376658600648, 0.08282215893105341, 0.10137190412544494, 0.10977473403408915, 0.08541004843455607, 0.07443170001760335, 0.06853463684950215, 0.06724602223472588, 0.06968512942449084, 0.07606066465068104, 0.08641468354655232, 0.09377431649291364, 0.10490559729380719, 0.1047679813645995, 0.08114449924199824, 0.07439830808789136, 0.06662430871291278, 0.06197889203029365, 0.07163898627224802, 0.07306373039804279, 0.07663488476032276, 0.08439220068242942, 0.08413748893789377, 0.06592212456094239, 0.07315790212705989, 0.09273243152541041, 0.11172263601545326, 0.10351790233488693, 0.08901556405747722, 0.07473916233392083, 0.08326010333547193, 0.0882786762785451, 0.10274466523087375, 0.09533987662882856, 0.07249840114406836, 0.07156099724146309, 0.06631718315912696, 0.05503109989103124, 0.05539444789754662, 0.054925229514571225, 0.05793427478159487, 0.055414895410689044, 0.06235077013095536, 0.05903172981961471, 0.053750781830982676, 0.06227315610883868, 0.0737330528649971, 0.06852497863246218, 0.061712821276184014, 0.06261731833769878, 0.07090312514516213, 0.07025750426350157, 0.05826601559225168, 0.0561966456206688, 0.052072034912056586, 0.05106941827632729, 0.05222472214630721, 0.0549382918572421, 0.05781621612915756, 0.0598720705412328, 0.05858639814683543, 0.056781190517051286, 0.06163744574050658, 0.07146702141796743, 0.05585430258432293, 0.05133780764358812, 0.0592647892271132, 0.04889567794241928, 0.07094898499008379, 0.09524137818455208, 0.09986589089811423, 0.09768630990892915, 0.14939144369664473, 0.16114597622046667, 0.13071250170913234, 0.10305472631394474, 0.07838969075103144, 0.07381448767072259, 0.07166290329250849, 0.0628159001970527, 0.06073576273855197, 0.05887148530187036, 0.05930239412165912, 0.057025889720310044, 0.07087864613866879, 0.08113229733182427, 0.08910005201895792, 0.095939938960841, 0.09898678571356846, 0.08926446698460364, 0.08596716018470604, 0.08662823953945901, 0.08959290371156042, 0.09400136106995878, 0.07099410358605249, 0.05964818892384362, 0.05716777893238369, 0.06376012345779224, 0.05995648123057547, 0.06341596418616453, 0.053258706460446684, 0.046065115544355315, 0.04825880912850224, 0.07713434287597623, 0.1451905463636916, 0.19716042422669786, 0.23445533873953658, 0.21970458267291706, 0.1806383842871714, 0.16227130182684055, 0.14138380838708065, 0.13550548845457536, 0.12061462085258534, 0.1128887739119064, 0.07480943574298485, 0.06307725840554938, 0.06781309700520433, 0.0776801469385543, 0.09118876687096203, 0.11127728061294735, 0.11300944227788574, 0.08513528835040511, 0.06152631804026668, 0.05333474141661989, 0.05707178636281507, 0.06725433982010696, 0.07235674895666465, 0.06868984095970182, 0.0685625571687029, 0.065182388639848, 0.049814857130865794, 0.046674444499984265, 0.05317743182064035, 0.059375327478532004, 0.07114108520379588, 0.07141492838705639, 0.06452203459426513, 0.0657144258215091, 0.08655274020196649, 0.0909801141863738, 0.11677411612432831, 0.10582332880563117, 0.09710062662216382, 0.0775334947438759, 0.0819395115416929, 0.09154548514177561, 0.08833923056758439, 0.07084180882925592, 0.07020671675988277, 0.06973388546105105, 0.09213160508832914, 0.11355684542814878, 0.08088862072998224, 0.07347865444387217, 0.06671109170612985, 0.07324183952735105, 0.08630492959326745, 0.08000555619080693, 0.06995159527976326, 0.06153989512608582, 0.06113242606205714, 0.06196685271669393, 0.06663212857264733, 0.0670643217565704, 0.07557699007734911, 0.06753414145046177, 0.06032242215979657, 0.05451016844525365, 0.059551593043179765, 0.058966950315771115, 0.05938018496898698, 0.08778117508793168, 0.10063358696850253, 0.08039554956497899, 0.07073215224802362, 0.08608021846518712, 0.09315196085957005, 0.06940049188520167, 0.056003434233413904, 0.050939868611204475, 0.048907099506876106, 0.05214668909681945], 'train_mae': [1.228376108746985, 1.3398839470064943, 1.4403053221406803, 0.9937655394278213, 0.6715240014267568, 0.554420053896297, 0.6233932090847629, 0.5757312680889164, 0.594884231598293, 0.6119370784172391, 0.6719207346610185, 0.5327787383390792, 0.36899271013544954, 0.3567079003534796, 0.35071786992564524, 0.34887278950410033, 0.3500719815875616, 0.35879156303046145, 0.3996595507000056, 0.40530935650310995, 0.3552136714443959, 0.3510021355654791, 0.338367977392716, 0.3540281265299711, 0.38441177474576466, 0.36905368429940877, 0.3091341745693015, 0.2552981746397315, 0.270779352962162, 0.2887238727427041, 0.29402011203319134, 0.30237118626365495, 0.29027325427160083, 0.27887271281234166, 0.2597653612917229, 0.25503994240312416, 0.2739665935457265, 0.27818131409369984, 0.28066485879326, 0.29249420553180616, 0.3038421952468314, 0.24929344104514203, 0.26444080313705387, 0.26494010061253553, 0.2812464055126113, 0.29321799959879513, 0.24070485044901452, 0.23419159919100013, 0.26047361821397397, 0.29082346415547794, 0.2871822631067885, 0.27426785961954697, 0.27241332745891544, 0.2732551598705573, 0.2686486891404666, 0.2693488084449231, 0.28535332469103036, 0.27443682461229846, 0.26447266827131777, 0.2689159100011199, 0.26176526209122913, 0.25688135502584986, 0.26387308193068576, 0.2733910977356421, 0.2721230299943905, 0.25679197214096716, 0.258232784478545, 0.24435655542805151, 0.2419700199465403, 0.24370721023060282, 0.24970906689055683, 0.247685686020724, 0.25684223883679547, 0.2515186200097975, 0.23835843597893297, 0.23103357114535222, 0.2303617833762286, 0.2284546054649316, 0.24300008271615195, 0.23284587461960093, 0.242901806675809, 0.26926290270773884, 0.2726400137172386, 0.25516595243210477, 0.23891877858917546, 0.23502360214657295, 0.24619471143980948, 0.24394784861843338, 0.23638727467586512, 0.22988632807641823, 0.2764904493539988, 0.26467322872376053, 0.25016008681351637, 0.23203909284513044, 0.23478218819406407, 0.24075560080718023, 0.2279150480360867, 0.21773974415181793, 0.23652884817928804, 0.23065339709241134, 0.2177416293845667, 0.20719311813579105, 0.2123893783673753, 0.20490767003979196, 0.20035069370536768, 0.21963346997641847, 0.21561972823940878, 0.23827136997416637, 0.23752254846381096, 0.2236849270487232, 0.21803783474734523, 0.23602670477026272, 0.23833763139119107, 0.23895915011681926, 0.2362464498558397, 0.23907909147866846, 0.2232786607524969, 0.22675958829970613, 0.21655269789177414, 0.21207243402135623, 0.21363816824032583, 0.21583474927401475, 0.23032330588056044, 0.2544942808556222, 0.27261664414273096, 0.26339067940167415, 0.25559484814009714, 0.25230090194658333, 0.22965789974777467, 0.24703138379026357, 0.23179531910101536, 0.22970546948745238, 0.22347924487757656, 0.2297971913805686, 0.23415589932507555, 0.22031954653574512, 0.21100514204627813, 0.20547912617275488, 0.20821776481324691, 0.20726474957028823, 0.21462984376899336, 0.2276893973120418, 0.23849670884338678, 0.24874391986814343, 0.24707752629533908, 0.21807883995751762, 0.21370665905442104, 0.20562776352052808, 0.19799786607889924, 0.20582174249109766, 0.20694831429936422, 0.21165513519350948, 0.22693819476772611, 0.2284860618838714, 0.20332710371346935, 0.20807211899223196, 0.23377873331959878, 0.2592263700588205, 0.2453439295055299, 0.2265454516813381, 0.21242041399600806, 0.21967146302199173, 0.22473477177524687, 0.2440394332142546, 0.23299444946866207, 0.20849012434575503, 0.20383114864033577, 0.1982985827906698, 0.18312711924375788, 0.187173691610708, 0.18706431042348895, 0.1918880298218209, 0.18236645460471643, 0.19638340020234482, 0.19469940003390068, 0.18111835403389645, 0.19916825625170997, 0.2163717105680564, 0.20518920628121232, 0.19906020054390586, 0.1940333417801102, 0.2085886561179347, 0.20818900063127854, 0.19447073814266766, 0.18866253099959357, 0.17814431645935774, 0.1793074548344694, 0.18133108319907987, 0.1839270402989298, 0.19280114920737718, 0.19510552592915276, 0.19243841468655515, 0.18994399851684965, 0.1958851407377383, 0.2132094897873718, 0.18825211459689078, 0.17992714723611453, 0.19362287906793824, 0.17137891034861535, 0.20773450422067272, 0.23628410641153588, 0.23946799363786422, 0.24554695537359206, 0.30444667757232835, 0.3021561590307549, 0.2719063663499417, 0.2565003740222642, 0.2242048478431105, 0.2191110597533287, 0.21316382761500483, 0.1903076720931906, 0.18345919706880737, 0.19020321457827652, 0.19478601738335838, 0.1850357998422297, 0.19995598518926155, 0.21131881424065221, 0.22709273429914925, 0.23825612415148387, 0.24292944132674515, 0.2340475180741482, 0.2296900116254143, 0.20909546048173328, 0.22848910020245078, 0.23940373269597642, 0.2038496711288841, 0.18039779712768383, 0.17709060352148703, 0.1854894905728909, 0.18508899813000523, 0.19907560323524603, 0.18015082278018388, 0.16830416240346313, 0.17134081353067687, 0.22396573550799564, 0.28790700885117254, 0.32377147890321406, 0.3484635774631769, 0.3396271378387482, 0.3121797175592781, 0.29597858341746086, 0.2870276828992159, 0.28055384128791994, 0.2677266095762897, 0.24213231140722802, 0.20477231751333327, 0.20400767603381914, 0.20344920734182992, 0.21344997940543387, 0.22999394637761855, 0.259335405910526, 0.2558560449431244, 0.22621844628381838, 0.197314070327194, 0.18296873889862889, 0.1822556450942556, 0.19782273812532977, 0.20685088051826234, 0.20438603121606116, 0.2040793271609716, 0.19897726716515785, 0.17222938740406285, 0.16787392613477642, 0.18345608109042505, 0.19761592956280755, 0.2163846043057545, 0.21683472897635162, 0.20650033375747906, 0.20824511156289288, 0.23581122324787618, 0.24151361528465354, 0.24809585407157667, 0.2277221788511477, 0.22243875755526304, 0.22238924894001358, 0.22472791608977577, 0.22801936832885597, 0.22581865102038562, 0.21315733261490663, 0.21637527028161552, 0.2076297664512677, 0.2324943423342126, 0.25487144868794853, 0.2214551902229342, 0.2085438787028513, 0.20353034511699114, 0.21414484337028555, 0.22864265777965603, 0.2183241868029902, 0.20382638326581387, 0.1970678954525851, 0.20123683651552948, 0.19984217166760035, 0.19767753793582746, 0.18863904618275057, 0.20501148326110039, 0.19920253246102732, 0.19432327152396572, 0.1870784202361538, 0.193953401915405, 0.19080840905672053, 0.18801649307607166, 0.2231110312654873, 0.22777984588212336, 0.20588402930174085, 0.20138825915448333, 0.21573063994551078, 0.23002174494004493, 0.19875021730382555, 0.18646299515571968, 0.18175867039594554, 0.18070254535326202, 0.19016972013187305]}\n"
     ]
    },
    {
     "data": {
      "application/scrapbook.scrap.json+json": {
       "data": 0.5791267905219187,
       "encoder": "json",
       "name": "TabNet MAE",
       "version": 1
      }
     },
     "metadata": {
      "scrapbook": {
       "data": true,
       "display": false,
       "name": "TabNet MAE"
      }
     },
     "output_type": "display_data"
    },
    {
     "data": {
      "image/png": "[encoded data removed]",
      "text/plain": [
       "<Figure size 432x288 with 1 Axes>"
      ]
     },
     "metadata": {
      "needs_background": "light"
     },
     "output_type": "display_data"
    }
   ],
   "source": [
    "lr = 0.02\n",
    "\n",
    "print(y_train.shape)\n",
    "y_train = np.reshape(y_train, (-1, 1))\n",
    "y_test = np.reshape(y_test, (-1, 1))\n",
    "\n",
    "device = torch.device('cuda' if torch.cuda.is_available() else 'cpu')\n",
    "mae_tab= baselineModels.tabnetreg(X_train,y_train,X_test,y_test,batch_size,n_features,n_target,n_epochs, lr)\n",
    "sb.glue(\"TabNet MAE\",mae_tab)"
   ]
  }
 ],
 "metadata": {
  "interpreter": {
   "hash": "10498c76ddd8160350534c6544a2b2fb65f2138dbc70420f7c81a3268f830f23"
  },
  "kernelspec": {
   "display_name": "Python 3",
   "language": "python",
   "name": "python3"
  },
  "language_info": {
   "codemirror_mode": {
    "name": "ipython",
    "version": 3
   },
   "file_extension": ".py",
   "mimetype": "text/x-python",
   "name": "python",
   "nbconvert_exporter": "python",
   "pygments_lexer": "ipython3",
   "version": "3.8.3"
  },
  "papermill": {
   "default_parameters": {},
   "duration": 42.125437,
   "end_time": "2022-06-22T10:49:45.111289",
   "environment_variables": {},
   "exception": null,
   "input_path": "BaselineModels.ipynb",
   "output_path": "./BaseLine_Model_Output/BaselineModels_output_6.ipynb",
   "parameters": {},
   "start_time": "2022-06-22T10:49:02.985852",
   "version": "2.3.3"
  }
 },
 "nbformat": 4,
 "nbformat_minor": 5
}