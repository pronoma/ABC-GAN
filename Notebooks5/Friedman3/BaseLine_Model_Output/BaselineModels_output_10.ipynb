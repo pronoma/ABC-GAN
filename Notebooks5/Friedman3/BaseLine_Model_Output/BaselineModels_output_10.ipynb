{
 "cells": [
  {
   "cell_type": "markdown",
   "id": "17a3bf21",
   "metadata": {
    "papermill": {
     "duration": 0.016687,
     "end_time": "2022-06-22T10:52:19.513953",
     "exception": false,
     "start_time": "2022-06-22T10:52:19.497266",
     "status": "completed"
    },
    "tags": []
   },
   "source": [
    "## Import Libraries "
   ]
  },
  {
   "cell_type": "code",
   "execution_count": 1,
   "id": "1f13e8a5",
   "metadata": {
    "execution": {
     "iopub.execute_input": "2022-06-22T10:52:19.725552Z",
     "iopub.status.busy": "2022-06-22T10:52:19.721428Z",
     "iopub.status.idle": "2022-06-22T10:52:19.729172Z",
     "shell.execute_reply": "2022-06-22T10:52:19.729927Z"
    },
    "papermill": {
     "duration": 0.108753,
     "end_time": "2022-06-22T10:52:19.730658",
     "exception": false,
     "start_time": "2022-06-22T10:52:19.621905",
     "status": "completed"
    },
    "tags": []
   },
   "outputs": [],
   "source": [
    "import warnings\n",
    "import sys\n",
    "sys.path.insert(0, '../../src')\n",
    "warnings.filterwarnings('ignore')"
   ]
  },
  {
   "cell_type": "code",
   "execution_count": 2,
   "id": "7945f637",
   "metadata": {
    "execution": {
     "iopub.execute_input": "2022-06-22T10:52:19.762102Z",
     "iopub.status.busy": "2022-06-22T10:52:19.759051Z",
     "iopub.status.idle": "2022-06-22T10:52:28.823081Z",
     "shell.execute_reply": "2022-06-22T10:52:28.823773Z"
    },
    "papermill": {
     "duration": 9.083116,
     "end_time": "2022-06-22T10:52:28.824091",
     "exception": false,
     "start_time": "2022-06-22T10:52:19.740975",
     "status": "completed"
    },
    "tags": []
   },
   "outputs": [],
   "source": [
    "import statsModel\n",
    "import scrapbook as sb \n",
    "import torch \n",
    "import statsModel\n",
    "import baselineModels\n",
    "import friedman3Dataset\n",
    "import dataset \n",
    "from torch.utils.data import random_split \n",
    "from sklearn.model_selection import train_test_split\n",
    "import numpy as np"
   ]
  },
  {
   "cell_type": "markdown",
   "id": "95cb48bc",
   "metadata": {
    "papermill": {
     "duration": 0.009437,
     "end_time": "2022-06-22T10:52:28.842971",
     "exception": false,
     "start_time": "2022-06-22T10:52:28.833534",
     "status": "completed"
    },
    "tags": []
   },
   "source": [
    "## Import Dataset \n"
   ]
  },
  {
   "cell_type": "code",
   "execution_count": 3,
   "id": "de3d90c4",
   "metadata": {
    "execution": {
     "iopub.execute_input": "2022-06-22T10:52:28.873947Z",
     "iopub.status.busy": "2022-06-22T10:52:28.872633Z",
     "iopub.status.idle": "2022-06-22T10:52:28.890079Z",
     "shell.execute_reply": "2022-06-22T10:52:28.890745Z"
    },
    "papermill": {
     "duration": 0.038004,
     "end_time": "2022-06-22T10:52:28.890980",
     "exception": false,
     "start_time": "2022-06-22T10:52:28.852976",
     "status": "completed"
    },
    "tags": []
   },
   "outputs": [
    {
     "name": "stdout",
     "output_type": "stream",
     "text": [
      "          X1           X2        X3         X4         Y\n",
      "0  49.209469   755.919784  0.884059  10.547337  1.470076\n",
      "1  95.583199   778.979356  0.806067   6.182482  1.430482\n",
      "2  91.467236   493.612945  0.583891   9.859147  1.300902\n",
      "3  98.228610   555.820137  0.014155   2.249809  0.137813\n",
      "4  33.864693  1618.549422  0.579471  10.382527  1.374344\n"
     ]
    }
   ],
   "source": [
    "n_features = 4\n",
    "n_samples= 100\n",
    "n_target = 1\n",
    "X,Y = friedman3Dataset.friedman3_data(n_samples)"
   ]
  },
  {
   "cell_type": "code",
   "execution_count": 4,
   "id": "23a162de",
   "metadata": {
    "execution": {
     "iopub.execute_input": "2022-06-22T10:52:28.925177Z",
     "iopub.status.busy": "2022-06-22T10:52:28.924307Z",
     "iopub.status.idle": "2022-06-22T10:52:28.927411Z",
     "shell.execute_reply": "2022-06-22T10:52:28.928455Z"
    },
    "papermill": {
     "duration": 0.027872,
     "end_time": "2022-06-22T10:52:28.928740",
     "exception": false,
     "start_time": "2022-06-22T10:52:28.900868",
     "status": "completed"
    },
    "tags": []
   },
   "outputs": [
    {
     "name": "stdout",
     "output_type": "stream",
     "text": [
      "(100, 4)\n",
      "(100,)\n",
      "(80, 4)\n",
      "(80,)\n",
      "(20, 4)\n",
      "(20,)\n"
     ]
    }
   ],
   "source": [
    "# Train test split for dataset \n",
    "real_dataset = dataset.CustomDataset(X,Y)\n",
    "\n",
    "print(X.shape)\n",
    "print(Y.shape)\n",
    "X_train, X_test, y_train, y_test = train_test_split(X, Y, test_size=0.2)\n",
    "\n",
    "print(X_train.shape)\n",
    "print(y_train.shape)\n",
    "print(X_test.shape)\n",
    "print(y_test.shape)"
   ]
  },
  {
   "cell_type": "markdown",
   "id": "50888229",
   "metadata": {
    "papermill": {
     "duration": 0.019038,
     "end_time": "2022-06-22T10:52:28.960697",
     "exception": false,
     "start_time": "2022-06-22T10:52:28.941659",
     "status": "completed"
    },
    "tags": []
   },
   "source": [
    "## Stats Model \n",
    "\n"
   ]
  },
  {
   "cell_type": "code",
   "execution_count": 5,
   "id": "be4b36d0",
   "metadata": {
    "execution": {
     "iopub.execute_input": "2022-06-22T10:52:28.991270Z",
     "iopub.status.busy": "2022-06-22T10:52:28.990060Z",
     "iopub.status.idle": "2022-06-22T10:52:29.347047Z",
     "shell.execute_reply": "2022-06-22T10:52:29.347788Z"
    },
    "papermill": {
     "duration": 0.377345,
     "end_time": "2022-06-22T10:52:29.348005",
     "exception": false,
     "start_time": "2022-06-22T10:52:28.970660",
     "status": "completed"
    },
    "tags": []
   },
   "outputs": [
    {
     "name": "stderr",
     "output_type": "stream",
     "text": [
      "No handles with labels found to put in legend.\n"
     ]
    },
    {
     "name": "stdout",
     "output_type": "stream",
     "text": [
      "                                 OLS Regression Results                                \n",
      "=======================================================================================\n",
      "Dep. Variable:                      y   R-squared (uncentered):                   0.570\n",
      "Model:                            OLS   Adj. R-squared (uncentered):              0.547\n",
      "Method:                 Least Squares   F-statistic:                              25.17\n",
      "Date:                Wed, 22 Jun 2022   Prob (F-statistic):                    2.71e-13\n",
      "Time:                        16:22:28   Log-Likelihood:                         -78.290\n",
      "No. Observations:                  80   AIC:                                      164.6\n",
      "Df Residuals:                      76   BIC:                                      174.1\n",
      "Df Model:                           4                                                  \n",
      "Covariance Type:            nonrobust                                                  \n",
      "==============================================================================\n",
      "                 coef    std err          t      P>|t|      [0.025      0.975]\n",
      "------------------------------------------------------------------------------\n",
      "x1            -0.3067      0.076     -4.059      0.000      -0.457      -0.156\n",
      "x2             0.2999      0.076      3.937      0.000       0.148       0.452\n",
      "x3             0.6636      0.077      8.623      0.000       0.510       0.817\n",
      "x4            -0.0869      0.081     -1.070      0.288      -0.249       0.075\n",
      "==============================================================================\n",
      "Omnibus:                       12.764   Durbin-Watson:                   2.040\n",
      "Prob(Omnibus):                  0.002   Jarque-Bera (JB):               13.493\n",
      "Skew:                          -0.945   Prob(JB):                      0.00117\n",
      "Kurtosis:                       3.690   Cond. No.                         1.44\n",
      "==============================================================================\n",
      "\n",
      "Notes:\n",
      "[1] R² is computed without centering (uncentered) since the model does not contain a constant.\n",
      "[2] Standard Errors assume that the covariance matrix of the errors is correctly specified.\n"
     ]
    },
    {
     "data": {
      "image/png": "[encoded data removed]",
      "text/plain": [
       "<Figure size 432x288 with 1 Axes>"
      ]
     },
     "metadata": {
      "needs_background": "light"
     },
     "output_type": "display_data"
    },
    {
     "name": "stdout",
     "output_type": "stream",
     "text": [
      "Performance Metrics\n",
      "Mean Squared Error: 0.6417351022523488\n",
      "Mean Absolute Error: 0.5954590168401988\n",
      "Manhattan distance: 11.90918033680397\n",
      "Euclidean distance: 3.582555239636505\n"
     ]
    },
    {
     "data": {
      "application/scrapbook.scrap.json+json": {
       "data": 0.6417351022523488,
       "encoder": "json",
       "name": "Stats Model MSE",
       "version": 1
      }
     },
     "metadata": {
      "scrapbook": {
       "data": true,
       "display": false,
       "name": "Stats Model MSE"
      }
     },
     "output_type": "display_data"
    },
    {
     "data": {
      "application/scrapbook.scrap.json+json": {
       "data": 0.5954590168401988,
       "encoder": "json",
       "name": "Stats Model MAE",
       "version": 1
      }
     },
     "metadata": {
      "scrapbook": {
       "data": true,
       "display": false,
       "name": "Stats Model MAE"
      }
     },
     "output_type": "display_data"
    },
    {
     "data": {
      "application/scrapbook.scrap.json+json": {
       "data": 11.90918033680397,
       "encoder": "json",
       "name": "Stats Model Manhattan Distance",
       "version": 1
      }
     },
     "metadata": {
      "scrapbook": {
       "data": true,
       "display": false,
       "name": "Stats Model Manhattan Distance"
      }
     },
     "output_type": "display_data"
    },
    {
     "data": {
      "application/scrapbook.scrap.json+json": {
       "data": 3.582555239636505,
       "encoder": "json",
       "name": "Stats Model Euclidean distance",
       "version": 1
      }
     },
     "metadata": {
      "scrapbook": {
       "data": true,
       "display": false,
       "name": "Stats Model Euclidean distance"
      }
     },
     "output_type": "display_data"
    },
    {
     "data": {
      "application/scrapbook.scrap.json+json": {
       "data": [
        -0.30670390280489257,
        0.29994240802498806,
        0.6636372215421266,
        -0.08689054874002479
       ],
       "encoder": "json",
       "name": "Coefficients",
       "version": 1
      }
     },
     "metadata": {
      "scrapbook": {
       "data": true,
       "display": false,
       "name": "Coefficients"
      }
     },
     "output_type": "display_data"
    }
   ],
   "source": [
    "coefficients , y_pred =statsModel.statsModel(X_train,y_train,X_test,y_test)\n",
    "#Store MSE Value \n",
    "sb.glue(\"Coefficients\",coefficients)"
   ]
  },
  {
   "cell_type": "markdown",
   "id": "4649e62d",
   "metadata": {
    "papermill": {
     "duration": 0.017523,
     "end_time": "2022-06-22T10:52:29.381866",
     "exception": false,
     "start_time": "2022-06-22T10:52:29.364343",
     "status": "completed"
    },
    "tags": []
   },
   "source": [
    "# Catboost Model "
   ]
  },
  {
   "cell_type": "code",
   "execution_count": 6,
   "id": "24f1fe41",
   "metadata": {
    "execution": {
     "iopub.execute_input": "2022-06-22T10:52:29.464344Z",
     "iopub.status.busy": "2022-06-22T10:52:29.463058Z",
     "iopub.status.idle": "2022-06-22T10:52:30.539673Z",
     "shell.execute_reply": "2022-06-22T10:52:30.540219Z"
    },
    "papermill": {
     "duration": 1.124365,
     "end_time": "2022-06-22T10:52:30.540445",
     "exception": false,
     "start_time": "2022-06-22T10:52:29.416080",
     "status": "completed"
    },
    "tags": []
   },
   "outputs": [
    {
     "name": "stdout",
     "output_type": "stream",
     "text": [
      "Learning rate set to 0.027471\n"
     ]
    },
    {
     "name": "stdout",
     "output_type": "stream",
     "text": [
      "0:\tlearn: 0.9695768\ttotal: 55.7ms\tremaining: 55.6s\n",
      "1:\tlearn: 0.9609009\ttotal: 56.2ms\tremaining: 28s\n",
      "2:\tlearn: 0.9472078\ttotal: 57.2ms\tremaining: 19s\n",
      "3:\tlearn: 0.9357352\ttotal: 57.9ms\tremaining: 14.4s\n",
      "4:\tlearn: 0.9263971\ttotal: 58.5ms\tremaining: 11.6s\n",
      "5:\tlearn: 0.9176312\ttotal: 59.1ms\tremaining: 9.8s\n",
      "6:\tlearn: 0.9093118\ttotal: 59.9ms\tremaining: 8.5s\n",
      "7:\tlearn: 0.8970431\ttotal: 61ms\tremaining: 7.57s\n",
      "8:\tlearn: 0.8858901\ttotal: 61.8ms\tremaining: 6.8s\n",
      "9:\tlearn: 0.8742380\ttotal: 62.3ms\tremaining: 6.17s\n",
      "10:\tlearn: 0.8654002\ttotal: 63ms\tremaining: 5.66s\n",
      "11:\tlearn: 0.8550072\ttotal: 64ms\tremaining: 5.27s\n",
      "12:\tlearn: 0.8454292\ttotal: 64.7ms\tremaining: 4.91s\n",
      "13:\tlearn: 0.8366840\ttotal: 65.5ms\tremaining: 4.61s\n",
      "14:\tlearn: 0.8260918\ttotal: 66.1ms\tremaining: 4.34s\n",
      "15:\tlearn: 0.8156389\ttotal: 66.6ms\tremaining: 4.1s\n",
      "16:\tlearn: 0.8031294\ttotal: 67.1ms\tremaining: 3.88s\n",
      "17:\tlearn: 0.7951868\ttotal: 67.7ms\tremaining: 3.69s\n",
      "18:\tlearn: 0.7872129\ttotal: 68.2ms\tremaining: 3.52s\n",
      "19:\tlearn: 0.7773264\ttotal: 68.6ms\tremaining: 3.36s\n",
      "20:\tlearn: 0.7701647\ttotal: 69.1ms\tremaining: 3.22s\n",
      "21:\tlearn: 0.7621684\ttotal: 69.7ms\tremaining: 3.1s\n",
      "22:\tlearn: 0.7538396\ttotal: 70.2ms\tremaining: 2.98s\n",
      "23:\tlearn: 0.7465779\ttotal: 70.8ms\tremaining: 2.88s\n",
      "24:\tlearn: 0.7385409\ttotal: 71.5ms\tremaining: 2.79s\n",
      "25:\tlearn: 0.7316599\ttotal: 72ms\tremaining: 2.7s\n",
      "26:\tlearn: 0.7238155\ttotal: 72.6ms\tremaining: 2.62s\n",
      "27:\tlearn: 0.7139360\ttotal: 72.9ms\tremaining: 2.53s\n",
      "28:\tlearn: 0.7049538\ttotal: 73.4ms\tremaining: 2.46s\n",
      "29:\tlearn: 0.6987825\ttotal: 73.8ms\tremaining: 2.39s\n",
      "30:\tlearn: 0.6918711\ttotal: 74.3ms\tremaining: 2.32s\n",
      "31:\tlearn: 0.6848829\ttotal: 74.8ms\tremaining: 2.26s\n",
      "32:\tlearn: 0.6798439\ttotal: 75.9ms\tremaining: 2.22s\n",
      "33:\tlearn: 0.6731537\ttotal: 76.4ms\tremaining: 2.17s\n",
      "34:\tlearn: 0.6676820\ttotal: 77ms\tremaining: 2.12s\n",
      "35:\tlearn: 0.6605257\ttotal: 77.6ms\tremaining: 2.08s\n",
      "36:\tlearn: 0.6526853\ttotal: 78.1ms\tremaining: 2.03s\n",
      "37:\tlearn: 0.6463296\ttotal: 78.6ms\tremaining: 1.99s\n",
      "38:\tlearn: 0.6388499\ttotal: 79.1ms\tremaining: 1.95s\n",
      "39:\tlearn: 0.6316901\ttotal: 80.7ms\tremaining: 1.94s\n",
      "40:\tlearn: 0.6261423\ttotal: 81.2ms\tremaining: 1.9s\n",
      "41:\tlearn: 0.6205345\ttotal: 81.6ms\tremaining: 1.86s\n",
      "42:\tlearn: 0.6125853\ttotal: 81.8ms\tremaining: 1.82s\n",
      "43:\tlearn: 0.6070659\ttotal: 82.3ms\tremaining: 1.79s\n",
      "44:\tlearn: 0.6025577\ttotal: 88.4ms\tremaining: 1.88s\n",
      "45:\tlearn: 0.5960274\ttotal: 89.1ms\tremaining: 1.85s\n",
      "46:\tlearn: 0.5885939\ttotal: 90ms\tremaining: 1.82s\n",
      "47:\tlearn: 0.5827646\ttotal: 90.9ms\tremaining: 1.8s\n",
      "48:\tlearn: 0.5758102\ttotal: 91.4ms\tremaining: 1.77s\n",
      "49:\tlearn: 0.5693330\ttotal: 92.8ms\tremaining: 1.76s\n",
      "50:\tlearn: 0.5639498\ttotal: 93.3ms\tremaining: 1.74s\n",
      "51:\tlearn: 0.5583434\ttotal: 94.2ms\tremaining: 1.72s\n",
      "52:\tlearn: 0.5540853\ttotal: 95.5ms\tremaining: 1.71s\n",
      "53:\tlearn: 0.5478584\ttotal: 96.1ms\tremaining: 1.68s\n",
      "54:\tlearn: 0.5425542\ttotal: 96.6ms\tremaining: 1.66s\n",
      "55:\tlearn: 0.5365077\ttotal: 97.1ms\tremaining: 1.64s\n",
      "56:\tlearn: 0.5306911\ttotal: 97.7ms\tremaining: 1.62s\n",
      "57:\tlearn: 0.5250641\ttotal: 98ms\tremaining: 1.59s\n",
      "58:\tlearn: 0.5200789\ttotal: 98.3ms\tremaining: 1.57s\n",
      "59:\tlearn: 0.5149320\ttotal: 98.8ms\tremaining: 1.55s\n",
      "60:\tlearn: 0.5102561\ttotal: 99.3ms\tremaining: 1.53s\n",
      "61:\tlearn: 0.5060099\ttotal: 99.7ms\tremaining: 1.51s\n",
      "62:\tlearn: 0.5009313\ttotal: 100ms\tremaining: 1.49s\n",
      "63:\tlearn: 0.4963158\ttotal: 101ms\tremaining: 1.47s\n",
      "64:\tlearn: 0.4913576\ttotal: 101ms\tremaining: 1.46s\n",
      "65:\tlearn: 0.4871552\ttotal: 102ms\tremaining: 1.44s\n",
      "66:\tlearn: 0.4822201\ttotal: 102ms\tremaining: 1.42s\n",
      "67:\tlearn: 0.4779938\ttotal: 103ms\tremaining: 1.41s\n",
      "68:\tlearn: 0.4739531\ttotal: 103ms\tremaining: 1.39s\n",
      "69:\tlearn: 0.4705459\ttotal: 104ms\tremaining: 1.38s\n",
      "70:\tlearn: 0.4654682\ttotal: 104ms\tremaining: 1.36s\n",
      "71:\tlearn: 0.4617662\ttotal: 104ms\tremaining: 1.34s\n",
      "72:\tlearn: 0.4587066\ttotal: 105ms\tremaining: 1.33s\n",
      "73:\tlearn: 0.4553581\ttotal: 105ms\tremaining: 1.32s\n",
      "74:\tlearn: 0.4511488\ttotal: 106ms\tremaining: 1.31s\n",
      "75:\tlearn: 0.4469272\ttotal: 107ms\tremaining: 1.3s\n",
      "76:\tlearn: 0.4432580\ttotal: 108ms\tremaining: 1.29s\n",
      "77:\tlearn: 0.4389932\ttotal: 108ms\tremaining: 1.28s\n",
      "78:\tlearn: 0.4358181\ttotal: 109ms\tremaining: 1.27s\n",
      "79:\tlearn: 0.4320289\ttotal: 110ms\tremaining: 1.26s\n",
      "80:\tlearn: 0.4280275\ttotal: 111ms\tremaining: 1.26s\n",
      "81:\tlearn: 0.4247575\ttotal: 112ms\tremaining: 1.25s\n",
      "82:\tlearn: 0.4205153\ttotal: 112ms\tremaining: 1.24s\n",
      "83:\tlearn: 0.4160836\ttotal: 113ms\tremaining: 1.23s\n",
      "84:\tlearn: 0.4123374\ttotal: 114ms\tremaining: 1.23s\n",
      "85:\tlearn: 0.4087915\ttotal: 115ms\tremaining: 1.22s\n",
      "86:\tlearn: 0.4065041\ttotal: 115ms\tremaining: 1.21s\n",
      "87:\tlearn: 0.4030471\ttotal: 116ms\tremaining: 1.2s\n",
      "88:\tlearn: 0.3999562\ttotal: 117ms\tremaining: 1.19s\n",
      "89:\tlearn: 0.3964667\ttotal: 117ms\tremaining: 1.19s\n",
      "90:\tlearn: 0.3929337\ttotal: 118ms\tremaining: 1.18s\n",
      "91:\tlearn: 0.3897873\ttotal: 119ms\tremaining: 1.17s\n",
      "92:\tlearn: 0.3867573\ttotal: 120ms\tremaining: 1.17s\n",
      "93:\tlearn: 0.3838324\ttotal: 121ms\tremaining: 1.17s\n",
      "94:\tlearn: 0.3812310\ttotal: 122ms\tremaining: 1.16s\n",
      "95:\tlearn: 0.3783708\ttotal: 123ms\tremaining: 1.16s\n",
      "96:\tlearn: 0.3755547\ttotal: 124ms\tremaining: 1.16s\n",
      "97:\tlearn: 0.3725981\ttotal: 125ms\tremaining: 1.15s\n",
      "98:\tlearn: 0.3696071\ttotal: 125ms\tremaining: 1.14s\n",
      "99:\tlearn: 0.3671392\ttotal: 126ms\tremaining: 1.13s\n",
      "100:\tlearn: 0.3647892\ttotal: 127ms\tremaining: 1.13s\n",
      "101:\tlearn: 0.3622900\ttotal: 127ms\tremaining: 1.12s\n",
      "102:\tlearn: 0.3595172\ttotal: 128ms\tremaining: 1.11s\n",
      "103:\tlearn: 0.3566821\ttotal: 129ms\tremaining: 1.11s\n",
      "104:\tlearn: 0.3545331\ttotal: 130ms\tremaining: 1.11s\n",
      "105:\tlearn: 0.3517692\ttotal: 131ms\tremaining: 1.11s\n",
      "106:\tlearn: 0.3493364\ttotal: 132ms\tremaining: 1.1s\n",
      "107:\tlearn: 0.3470012\ttotal: 132ms\tremaining: 1.09s\n",
      "108:\tlearn: 0.3443741\ttotal: 133ms\tremaining: 1.09s\n",
      "109:\tlearn: 0.3419124\ttotal: 134ms\tremaining: 1.08s\n",
      "110:\tlearn: 0.3395179\ttotal: 135ms\tremaining: 1.08s\n",
      "111:\tlearn: 0.3370280\ttotal: 135ms\tremaining: 1.07s\n",
      "112:\tlearn: 0.3345281\ttotal: 136ms\tremaining: 1.07s\n",
      "113:\tlearn: 0.3324842\ttotal: 137ms\tremaining: 1.06s\n",
      "114:\tlearn: 0.3305533\ttotal: 137ms\tremaining: 1.06s\n",
      "115:\tlearn: 0.3282735\ttotal: 138ms\tremaining: 1.05s\n",
      "116:\tlearn: 0.3258190\ttotal: 139ms\tremaining: 1.05s\n",
      "117:\tlearn: 0.3232152\ttotal: 140ms\tremaining: 1.04s\n",
      "118:\tlearn: 0.3211122\ttotal: 140ms\tremaining: 1.04s\n",
      "119:\tlearn: 0.3187489\ttotal: 141ms\tremaining: 1.03s\n",
      "120:\tlearn: 0.3166980\ttotal: 141ms\tremaining: 1.03s\n",
      "121:\tlearn: 0.3144620\ttotal: 142ms\tremaining: 1.02s\n",
      "122:\tlearn: 0.3122877\ttotal: 142ms\tremaining: 1.01s\n",
      "123:\tlearn: 0.3098291\ttotal: 143ms\tremaining: 1.01s\n",
      "124:\tlearn: 0.3078485\ttotal: 146ms\tremaining: 1.02s\n",
      "125:\tlearn: 0.3054938\ttotal: 147ms\tremaining: 1.02s\n",
      "126:\tlearn: 0.3033461\ttotal: 148ms\tremaining: 1.01s\n",
      "127:\tlearn: 0.3014627\ttotal: 148ms\tremaining: 1.01s\n",
      "128:\tlearn: 0.2995771\ttotal: 150ms\tremaining: 1.01s\n",
      "129:\tlearn: 0.2973081\ttotal: 151ms\tremaining: 1.01s\n",
      "130:\tlearn: 0.2950896\ttotal: 151ms\tremaining: 1s\n",
      "131:\tlearn: 0.2933416\ttotal: 152ms\tremaining: 1000ms\n",
      "132:\tlearn: 0.2917355\ttotal: 153ms\tremaining: 995ms\n",
      "133:\tlearn: 0.2900929\ttotal: 153ms\tremaining: 989ms\n",
      "134:\tlearn: 0.2883510\ttotal: 154ms\tremaining: 984ms\n",
      "135:\tlearn: 0.2866892\ttotal: 154ms\tremaining: 979ms\n",
      "136:\tlearn: 0.2851507\ttotal: 155ms\tremaining: 976ms\n"
     ]
    },
    {
     "name": "stdout",
     "output_type": "stream",
     "text": [
      "137:\tlearn: 0.2836632\ttotal: 159ms\tremaining: 992ms\n",
      "138:\tlearn: 0.2823151\ttotal: 159ms\tremaining: 987ms\n",
      "139:\tlearn: 0.2804547\ttotal: 160ms\tremaining: 984ms\n",
      "140:\tlearn: 0.2785295\ttotal: 161ms\tremaining: 980ms\n",
      "141:\tlearn: 0.2773516\ttotal: 162ms\tremaining: 976ms\n",
      "142:\tlearn: 0.2755518\ttotal: 162ms\tremaining: 971ms\n",
      "143:\tlearn: 0.2737814\ttotal: 163ms\tremaining: 968ms\n",
      "144:\tlearn: 0.2720336\ttotal: 164ms\tremaining: 969ms\n",
      "145:\tlearn: 0.2703489\ttotal: 165ms\tremaining: 964ms\n",
      "146:\tlearn: 0.2688285\ttotal: 166ms\tremaining: 962ms\n",
      "147:\tlearn: 0.2673100\ttotal: 166ms\tremaining: 958ms\n",
      "148:\tlearn: 0.2656857\ttotal: 167ms\tremaining: 953ms\n",
      "149:\tlearn: 0.2642157\ttotal: 168ms\tremaining: 950ms\n",
      "150:\tlearn: 0.2623784\ttotal: 169ms\tremaining: 950ms\n",
      "151:\tlearn: 0.2608361\ttotal: 170ms\tremaining: 946ms\n",
      "152:\tlearn: 0.2595163\ttotal: 170ms\tremaining: 943ms\n",
      "153:\tlearn: 0.2579888\ttotal: 171ms\tremaining: 940ms\n",
      "154:\tlearn: 0.2565069\ttotal: 172ms\tremaining: 936ms\n",
      "155:\tlearn: 0.2549347\ttotal: 174ms\tremaining: 943ms\n",
      "156:\tlearn: 0.2536716\ttotal: 175ms\tremaining: 941ms\n",
      "157:\tlearn: 0.2521892\ttotal: 176ms\tremaining: 938ms\n",
      "158:\tlearn: 0.2506886\ttotal: 177ms\tremaining: 934ms\n",
      "159:\tlearn: 0.2492608\ttotal: 177ms\tremaining: 930ms\n",
      "160:\tlearn: 0.2478162\ttotal: 178ms\tremaining: 926ms\n",
      "161:\tlearn: 0.2463041\ttotal: 179ms\tremaining: 924ms\n"
     ]
    },
    {
     "name": "stdout",
     "output_type": "stream",
     "text": [
      "162:\tlearn: 0.2452246\ttotal: 180ms\tremaining: 927ms\n",
      "163:\tlearn: 0.2441462\ttotal: 181ms\tremaining: 922ms\n",
      "164:\tlearn: 0.2428245\ttotal: 182ms\tremaining: 920ms\n",
      "165:\tlearn: 0.2418726\ttotal: 182ms\tremaining: 916ms\n",
      "166:\tlearn: 0.2403805\ttotal: 183ms\tremaining: 913ms\n",
      "167:\tlearn: 0.2388480\ttotal: 184ms\tremaining: 909ms\n",
      "168:\tlearn: 0.2374613\ttotal: 184ms\tremaining: 905ms\n",
      "169:\tlearn: 0.2363700\ttotal: 185ms\tremaining: 901ms\n",
      "170:\tlearn: 0.2353906\ttotal: 185ms\tremaining: 898ms\n",
      "171:\tlearn: 0.2343892\ttotal: 186ms\tremaining: 898ms\n",
      "172:\tlearn: 0.2330567\ttotal: 187ms\tremaining: 895ms\n",
      "173:\tlearn: 0.2316193\ttotal: 188ms\tremaining: 894ms\n",
      "174:\tlearn: 0.2303613\ttotal: 189ms\tremaining: 890ms\n",
      "175:\tlearn: 0.2290450\ttotal: 189ms\tremaining: 886ms\n",
      "176:\tlearn: 0.2280065\ttotal: 190ms\tremaining: 883ms\n",
      "177:\tlearn: 0.2270799\ttotal: 191ms\tremaining: 880ms\n",
      "178:\tlearn: 0.2259750\ttotal: 191ms\tremaining: 876ms\n",
      "179:\tlearn: 0.2245380\ttotal: 192ms\tremaining: 874ms\n",
      "180:\tlearn: 0.2232406\ttotal: 192ms\tremaining: 871ms\n",
      "181:\tlearn: 0.2220887\ttotal: 193ms\tremaining: 868ms\n",
      "182:\tlearn: 0.2209624\ttotal: 194ms\tremaining: 864ms\n",
      "183:\tlearn: 0.2200374\ttotal: 194ms\tremaining: 861ms\n",
      "184:\tlearn: 0.2184696\ttotal: 195ms\tremaining: 858ms\n",
      "185:\tlearn: 0.2173345\ttotal: 195ms\tremaining: 855ms\n",
      "186:\tlearn: 0.2160881\ttotal: 196ms\tremaining: 852ms\n",
      "187:\tlearn: 0.2152889\ttotal: 197ms\tremaining: 849ms\n",
      "188:\tlearn: 0.2143552\ttotal: 197ms\tremaining: 846ms\n",
      "189:\tlearn: 0.2133433\ttotal: 199ms\tremaining: 847ms\n",
      "190:\tlearn: 0.2123593\ttotal: 199ms\tremaining: 844ms\n",
      "191:\tlearn: 0.2108423\ttotal: 200ms\tremaining: 841ms\n",
      "192:\tlearn: 0.2100442\ttotal: 200ms\tremaining: 837ms\n",
      "193:\tlearn: 0.2086977\ttotal: 201ms\tremaining: 834ms\n",
      "194:\tlearn: 0.2075258\ttotal: 201ms\tremaining: 831ms\n",
      "195:\tlearn: 0.2066960\ttotal: 202ms\tremaining: 828ms\n",
      "196:\tlearn: 0.2055183\ttotal: 202ms\tremaining: 825ms\n",
      "197:\tlearn: 0.2043633\ttotal: 203ms\tremaining: 822ms\n",
      "198:\tlearn: 0.2034857\ttotal: 203ms\tremaining: 818ms\n",
      "199:\tlearn: 0.2027988\ttotal: 204ms\tremaining: 815ms\n",
      "200:\tlearn: 0.2017928\ttotal: 204ms\tremaining: 812ms\n",
      "201:\tlearn: 0.2003087\ttotal: 205ms\tremaining: 808ms\n",
      "202:\tlearn: 0.1993550\ttotal: 205ms\tremaining: 805ms\n",
      "203:\tlearn: 0.1979804\ttotal: 205ms\tremaining: 802ms\n",
      "204:\tlearn: 0.1970919\ttotal: 206ms\tremaining: 799ms\n",
      "205:\tlearn: 0.1959963\ttotal: 206ms\tremaining: 796ms\n",
      "206:\tlearn: 0.1948712\ttotal: 207ms\tremaining: 792ms\n",
      "207:\tlearn: 0.1938156\ttotal: 207ms\tremaining: 790ms\n",
      "208:\tlearn: 0.1929600\ttotal: 208ms\tremaining: 787ms\n",
      "209:\tlearn: 0.1921177\ttotal: 208ms\tremaining: 783ms\n",
      "210:\tlearn: 0.1913859\ttotal: 209ms\tremaining: 781ms\n",
      "211:\tlearn: 0.1904738\ttotal: 209ms\tremaining: 779ms\n",
      "212:\tlearn: 0.1896077\ttotal: 210ms\tremaining: 777ms\n",
      "213:\tlearn: 0.1885475\ttotal: 211ms\tremaining: 776ms\n",
      "214:\tlearn: 0.1877590\ttotal: 212ms\tremaining: 773ms\n",
      "215:\tlearn: 0.1870461\ttotal: 212ms\tremaining: 770ms\n",
      "216:\tlearn: 0.1859758\ttotal: 214ms\tremaining: 774ms\n",
      "217:\tlearn: 0.1853455\ttotal: 215ms\tremaining: 771ms\n",
      "218:\tlearn: 0.1845385\ttotal: 215ms\tremaining: 768ms\n",
      "219:\tlearn: 0.1837847\ttotal: 216ms\tremaining: 765ms\n",
      "220:\tlearn: 0.1829289\ttotal: 216ms\tremaining: 762ms\n",
      "221:\tlearn: 0.1821202\ttotal: 219ms\tremaining: 766ms\n",
      "222:\tlearn: 0.1815008\ttotal: 219ms\tremaining: 763ms\n",
      "223:\tlearn: 0.1805341\ttotal: 220ms\tremaining: 761ms\n",
      "224:\tlearn: 0.1794806\ttotal: 220ms\tremaining: 759ms\n",
      "225:\tlearn: 0.1784751\ttotal: 221ms\tremaining: 757ms\n",
      "226:\tlearn: 0.1777438\ttotal: 221ms\tremaining: 754ms\n",
      "227:\tlearn: 0.1770683\ttotal: 222ms\tremaining: 752ms\n",
      "228:\tlearn: 0.1764186\ttotal: 223ms\tremaining: 750ms\n",
      "229:\tlearn: 0.1757143\ttotal: 223ms\tremaining: 747ms\n",
      "230:\tlearn: 0.1749674\ttotal: 224ms\tremaining: 745ms\n",
      "231:\tlearn: 0.1739760\ttotal: 224ms\tremaining: 743ms\n",
      "232:\tlearn: 0.1733687\ttotal: 226ms\tremaining: 743ms\n",
      "233:\tlearn: 0.1727653\ttotal: 226ms\tremaining: 741ms\n",
      "234:\tlearn: 0.1721104\ttotal: 227ms\tremaining: 738ms\n",
      "235:\tlearn: 0.1714072\ttotal: 227ms\tremaining: 736ms\n",
      "236:\tlearn: 0.1708591\ttotal: 228ms\tremaining: 733ms\n",
      "237:\tlearn: 0.1701182\ttotal: 228ms\tremaining: 731ms\n",
      "238:\tlearn: 0.1694106\ttotal: 229ms\tremaining: 729ms\n",
      "239:\tlearn: 0.1689400\ttotal: 229ms\tremaining: 726ms\n",
      "240:\tlearn: 0.1683005\ttotal: 230ms\tremaining: 723ms\n",
      "241:\tlearn: 0.1677211\ttotal: 230ms\tremaining: 722ms\n",
      "242:\tlearn: 0.1671191\ttotal: 231ms\tremaining: 720ms\n",
      "243:\tlearn: 0.1664644\ttotal: 232ms\tremaining: 718ms\n",
      "244:\tlearn: 0.1658122\ttotal: 232ms\tremaining: 715ms\n",
      "245:\tlearn: 0.1653414\ttotal: 233ms\tremaining: 713ms\n",
      "246:\tlearn: 0.1647539\ttotal: 233ms\tremaining: 711ms\n",
      "247:\tlearn: 0.1642269\ttotal: 235ms\tremaining: 714ms\n",
      "248:\tlearn: 0.1633459\ttotal: 236ms\tremaining: 712ms\n",
      "249:\tlearn: 0.1628381\ttotal: 236ms\tremaining: 709ms\n",
      "250:\tlearn: 0.1622728\ttotal: 237ms\tremaining: 706ms\n",
      "251:\tlearn: 0.1616665\ttotal: 238ms\tremaining: 705ms\n",
      "252:\tlearn: 0.1610700\ttotal: 238ms\tremaining: 703ms\n",
      "253:\tlearn: 0.1604645\ttotal: 239ms\tremaining: 701ms\n",
      "254:\tlearn: 0.1599996\ttotal: 239ms\tremaining: 699ms\n",
      "255:\tlearn: 0.1593474\ttotal: 240ms\tremaining: 697ms\n",
      "256:\tlearn: 0.1587849\ttotal: 240ms\tremaining: 695ms\n",
      "257:\tlearn: 0.1582031\ttotal: 241ms\tremaining: 693ms\n",
      "258:\tlearn: 0.1576768\ttotal: 241ms\tremaining: 690ms\n",
      "259:\tlearn: 0.1573593\ttotal: 242ms\tremaining: 689ms\n",
      "260:\tlearn: 0.1565440\ttotal: 243ms\tremaining: 687ms\n",
      "261:\tlearn: 0.1559638\ttotal: 243ms\tremaining: 684ms\n",
      "262:\tlearn: 0.1555179\ttotal: 244ms\tremaining: 683ms\n",
      "263:\tlearn: 0.1548126\ttotal: 244ms\tremaining: 681ms\n",
      "264:\tlearn: 0.1544011\ttotal: 245ms\tremaining: 679ms\n",
      "265:\tlearn: 0.1539471\ttotal: 246ms\tremaining: 678ms\n",
      "266:\tlearn: 0.1532863\ttotal: 246ms\tremaining: 676ms\n",
      "267:\tlearn: 0.1526027\ttotal: 247ms\tremaining: 674ms\n",
      "268:\tlearn: 0.1522357\ttotal: 247ms\tremaining: 672ms\n",
      "269:\tlearn: 0.1518469\ttotal: 248ms\tremaining: 670ms\n",
      "270:\tlearn: 0.1514618\ttotal: 248ms\tremaining: 668ms\n",
      "271:\tlearn: 0.1507610\ttotal: 249ms\tremaining: 666ms\n",
      "272:\tlearn: 0.1504628\ttotal: 249ms\tremaining: 664ms\n",
      "273:\tlearn: 0.1499088\ttotal: 252ms\tremaining: 668ms\n",
      "274:\tlearn: 0.1491882\ttotal: 253ms\tremaining: 666ms\n",
      "275:\tlearn: 0.1484009\ttotal: 253ms\tremaining: 664ms\n",
      "276:\tlearn: 0.1477249\ttotal: 253ms\tremaining: 662ms\n",
      "277:\tlearn: 0.1473810\ttotal: 254ms\tremaining: 660ms\n",
      "278:\tlearn: 0.1469601\ttotal: 256ms\tremaining: 660ms\n",
      "279:\tlearn: 0.1463935\ttotal: 256ms\tremaining: 659ms\n",
      "280:\tlearn: 0.1457414\ttotal: 257ms\tremaining: 657ms\n",
      "281:\tlearn: 0.1454166\ttotal: 257ms\tremaining: 655ms\n",
      "282:\tlearn: 0.1447006\ttotal: 258ms\tremaining: 653ms\n",
      "283:\tlearn: 0.1443133\ttotal: 258ms\tremaining: 651ms\n",
      "284:\tlearn: 0.1439526\ttotal: 259ms\tremaining: 649ms\n",
      "285:\tlearn: 0.1431213\ttotal: 259ms\tremaining: 648ms\n",
      "286:\tlearn: 0.1423378\ttotal: 260ms\tremaining: 646ms\n",
      "287:\tlearn: 0.1415985\ttotal: 261ms\tremaining: 644ms\n",
      "288:\tlearn: 0.1411015\ttotal: 261ms\tremaining: 643ms\n",
      "289:\tlearn: 0.1407951\ttotal: 262ms\tremaining: 641ms\n",
      "290:\tlearn: 0.1405146\ttotal: 262ms\tremaining: 639ms\n",
      "291:\tlearn: 0.1402379\ttotal: 263ms\tremaining: 637ms\n",
      "292:\tlearn: 0.1398199\ttotal: 263ms\tremaining: 635ms\n",
      "293:\tlearn: 0.1395286\ttotal: 265ms\tremaining: 637ms\n",
      "294:\tlearn: 0.1388142\ttotal: 266ms\tremaining: 636ms\n",
      "295:\tlearn: 0.1383592\ttotal: 267ms\tremaining: 634ms\n",
      "296:\tlearn: 0.1378969\ttotal: 267ms\tremaining: 633ms\n",
      "297:\tlearn: 0.1371628\ttotal: 268ms\tremaining: 631ms\n",
      "298:\tlearn: 0.1365310\ttotal: 268ms\tremaining: 629ms\n",
      "299:\tlearn: 0.1363076\ttotal: 269ms\tremaining: 628ms\n",
      "300:\tlearn: 0.1360401\ttotal: 270ms\tremaining: 627ms\n",
      "301:\tlearn: 0.1353019\ttotal: 271ms\tremaining: 625ms\n",
      "302:\tlearn: 0.1350498\ttotal: 271ms\tremaining: 624ms\n",
      "303:\tlearn: 0.1344373\ttotal: 273ms\tremaining: 624ms\n",
      "304:\tlearn: 0.1338580\ttotal: 273ms\tremaining: 623ms\n",
      "305:\tlearn: 0.1331209\ttotal: 274ms\tremaining: 621ms\n",
      "306:\tlearn: 0.1328740\ttotal: 274ms\tremaining: 619ms\n",
      "307:\tlearn: 0.1324260\ttotal: 275ms\tremaining: 618ms\n",
      "308:\tlearn: 0.1317092\ttotal: 276ms\tremaining: 617ms\n",
      "309:\tlearn: 0.1312742\ttotal: 277ms\tremaining: 616ms\n",
      "310:\tlearn: 0.1308675\ttotal: 277ms\tremaining: 614ms\n",
      "311:\tlearn: 0.1306341\ttotal: 278ms\tremaining: 613ms\n",
      "312:\tlearn: 0.1300309\ttotal: 278ms\tremaining: 611ms\n",
      "313:\tlearn: 0.1296037\ttotal: 279ms\tremaining: 609ms\n",
      "314:\tlearn: 0.1293658\ttotal: 279ms\tremaining: 607ms\n",
      "315:\tlearn: 0.1291371\ttotal: 280ms\tremaining: 606ms\n",
      "316:\tlearn: 0.1284544\ttotal: 280ms\tremaining: 604ms\n",
      "317:\tlearn: 0.1282692\ttotal: 284ms\tremaining: 609ms\n"
     ]
    },
    {
     "name": "stdout",
     "output_type": "stream",
     "text": [
      "318:\tlearn: 0.1280797\ttotal: 286ms\tremaining: 610ms\n",
      "319:\tlearn: 0.1274946\ttotal: 286ms\tremaining: 608ms\n",
      "320:\tlearn: 0.1268581\ttotal: 287ms\tremaining: 607ms\n",
      "321:\tlearn: 0.1262929\ttotal: 287ms\tremaining: 605ms\n",
      "322:\tlearn: 0.1257368\ttotal: 290ms\tremaining: 607ms\n",
      "323:\tlearn: 0.1251223\ttotal: 290ms\tremaining: 605ms\n",
      "324:\tlearn: 0.1245218\ttotal: 291ms\tremaining: 603ms\n",
      "325:\tlearn: 0.1240133\ttotal: 291ms\tremaining: 602ms\n",
      "326:\tlearn: 0.1234322\ttotal: 291ms\tremaining: 600ms\n",
      "327:\tlearn: 0.1232225\ttotal: 292ms\tremaining: 598ms\n",
      "328:\tlearn: 0.1225796\ttotal: 292ms\tremaining: 596ms\n",
      "329:\tlearn: 0.1224377\ttotal: 293ms\tremaining: 595ms\n",
      "330:\tlearn: 0.1219478\ttotal: 296ms\tremaining: 599ms\n",
      "331:\tlearn: 0.1213212\ttotal: 297ms\tremaining: 597ms\n",
      "332:\tlearn: 0.1211247\ttotal: 297ms\tremaining: 595ms\n",
      "333:\tlearn: 0.1205127\ttotal: 298ms\tremaining: 594ms\n",
      "334:\tlearn: 0.1199136\ttotal: 298ms\tremaining: 592ms\n",
      "335:\tlearn: 0.1193273\ttotal: 299ms\tremaining: 590ms\n",
      "336:\tlearn: 0.1187535\ttotal: 299ms\tremaining: 588ms\n",
      "337:\tlearn: 0.1181585\ttotal: 300ms\tremaining: 587ms\n",
      "338:\tlearn: 0.1176929\ttotal: 300ms\tremaining: 585ms\n",
      "339:\tlearn: 0.1171123\ttotal: 301ms\tremaining: 584ms\n",
      "340:\tlearn: 0.1167464\ttotal: 301ms\tremaining: 582ms\n",
      "341:\tlearn: 0.1160382\ttotal: 302ms\tremaining: 581ms\n",
      "342:\tlearn: 0.1155940\ttotal: 302ms\tremaining: 579ms\n",
      "343:\tlearn: 0.1151097\ttotal: 303ms\tremaining: 578ms\n",
      "344:\tlearn: 0.1146776\ttotal: 303ms\tremaining: 576ms\n",
      "345:\tlearn: 0.1143487\ttotal: 304ms\tremaining: 574ms\n",
      "346:\tlearn: 0.1139211\ttotal: 304ms\tremaining: 573ms\n",
      "347:\tlearn: 0.1136074\ttotal: 305ms\tremaining: 571ms\n",
      "348:\tlearn: 0.1133005\ttotal: 315ms\tremaining: 587ms\n",
      "349:\tlearn: 0.1129721\ttotal: 315ms\tremaining: 585ms\n",
      "350:\tlearn: 0.1125162\ttotal: 315ms\tremaining: 583ms\n",
      "351:\tlearn: 0.1120728\ttotal: 316ms\tremaining: 582ms\n",
      "352:\tlearn: 0.1117510\ttotal: 316ms\tremaining: 580ms\n",
      "353:\tlearn: 0.1116279\ttotal: 317ms\tremaining: 579ms\n",
      "354:\tlearn: 0.1115067\ttotal: 318ms\tremaining: 577ms\n",
      "355:\tlearn: 0.1113872\ttotal: 318ms\tremaining: 575ms\n",
      "356:\tlearn: 0.1112696\ttotal: 319ms\tremaining: 574ms\n",
      "357:\tlearn: 0.1111021\ttotal: 319ms\tremaining: 573ms\n",
      "358:\tlearn: 0.1108287\ttotal: 322ms\tremaining: 574ms\n",
      "359:\tlearn: 0.1107148\ttotal: 322ms\tremaining: 573ms\n",
      "360:\tlearn: 0.1103617\ttotal: 323ms\tremaining: 572ms\n",
      "361:\tlearn: 0.1102502\ttotal: 324ms\tremaining: 571ms\n",
      "362:\tlearn: 0.1101403\ttotal: 325ms\tremaining: 570ms\n",
      "363:\tlearn: 0.1097964\ttotal: 325ms\tremaining: 569ms\n",
      "364:\tlearn: 0.1094834\ttotal: 326ms\tremaining: 567ms\n",
      "365:\tlearn: 0.1093759\ttotal: 326ms\tremaining: 565ms\n",
      "366:\tlearn: 0.1089664\ttotal: 327ms\tremaining: 564ms\n"
     ]
    },
    {
     "name": "stdout",
     "output_type": "stream",
     "text": [
      "367:\tlearn: 0.1088614\ttotal: 328ms\tremaining: 563ms\n",
      "368:\tlearn: 0.1085323\ttotal: 330ms\tremaining: 564ms\n",
      "369:\tlearn: 0.1081723\ttotal: 331ms\tremaining: 563ms\n",
      "370:\tlearn: 0.1080696\ttotal: 331ms\tremaining: 562ms\n",
      "371:\tlearn: 0.1079685\ttotal: 332ms\tremaining: 560ms\n",
      "372:\tlearn: 0.1076479\ttotal: 335ms\tremaining: 564ms\n",
      "373:\tlearn: 0.1075492\ttotal: 336ms\tremaining: 562ms\n",
      "374:\tlearn: 0.1071653\ttotal: 336ms\tremaining: 561ms\n",
      "375:\tlearn: 0.1068173\ttotal: 337ms\tremaining: 559ms\n",
      "376:\tlearn: 0.1064012\ttotal: 337ms\tremaining: 557ms\n",
      "377:\tlearn: 0.1063052\ttotal: 339ms\tremaining: 558ms\n",
      "378:\tlearn: 0.1061933\ttotal: 340ms\tremaining: 557ms\n",
      "379:\tlearn: 0.1060994\ttotal: 341ms\tremaining: 556ms\n",
      "380:\tlearn: 0.1060067\ttotal: 341ms\tremaining: 554ms\n",
      "381:\tlearn: 0.1059155\ttotal: 342ms\tremaining: 553ms\n",
      "382:\tlearn: 0.1055551\ttotal: 342ms\tremaining: 551ms\n",
      "383:\tlearn: 0.1052022\ttotal: 343ms\tremaining: 550ms\n",
      "384:\tlearn: 0.1051129\ttotal: 344ms\tremaining: 549ms\n",
      "385:\tlearn: 0.1050248\ttotal: 344ms\tremaining: 547ms\n",
      "386:\tlearn: 0.1049379\ttotal: 345ms\tremaining: 546ms\n",
      "387:\tlearn: 0.1048315\ttotal: 345ms\tremaining: 544ms\n",
      "388:\tlearn: 0.1044849\ttotal: 346ms\tremaining: 543ms\n",
      "389:\tlearn: 0.1044001\ttotal: 347ms\tremaining: 543ms\n",
      "390:\tlearn: 0.1042961\ttotal: 348ms\tremaining: 542ms\n",
      "391:\tlearn: 0.1042131\ttotal: 349ms\tremaining: 541ms\n",
      "392:\tlearn: 0.1041313\ttotal: 349ms\tremaining: 539ms\n",
      "393:\tlearn: 0.1035485\ttotal: 350ms\tremaining: 538ms\n",
      "394:\tlearn: 0.1032117\ttotal: 350ms\tremaining: 536ms\n",
      "395:\tlearn: 0.1028739\ttotal: 350ms\tremaining: 535ms\n",
      "396:\tlearn: 0.1027745\ttotal: 351ms\tremaining: 534ms\n",
      "397:\tlearn: 0.1026945\ttotal: 352ms\tremaining: 532ms\n",
      "398:\tlearn: 0.1025962\ttotal: 352ms\tremaining: 531ms\n",
      "399:\tlearn: 0.1025229\ttotal: 354ms\tremaining: 531ms\n",
      "400:\tlearn: 0.1019596\ttotal: 355ms\tremaining: 530ms\n",
      "401:\tlearn: 0.1016273\ttotal: 356ms\tremaining: 529ms\n",
      "402:\tlearn: 0.1013029\ttotal: 357ms\tremaining: 529ms\n",
      "403:\tlearn: 0.1012074\ttotal: 362ms\tremaining: 534ms\n",
      "404:\tlearn: 0.1011308\ttotal: 362ms\tremaining: 532ms\n",
      "405:\tlearn: 0.1007681\ttotal: 363ms\tremaining: 531ms\n",
      "406:\tlearn: 0.1004506\ttotal: 363ms\tremaining: 529ms\n",
      "407:\tlearn: 0.1003829\ttotal: 363ms\tremaining: 527ms\n",
      "408:\tlearn: 0.1003162\ttotal: 364ms\tremaining: 526ms\n",
      "409:\tlearn: 0.0997735\ttotal: 364ms\tremaining: 524ms\n",
      "410:\tlearn: 0.0994570\ttotal: 366ms\tremaining: 524ms\n",
      "411:\tlearn: 0.0991063\ttotal: 366ms\tremaining: 523ms\n",
      "412:\tlearn: 0.0987963\ttotal: 367ms\tremaining: 521ms\n",
      "413:\tlearn: 0.0987231\ttotal: 368ms\tremaining: 521ms\n",
      "414:\tlearn: 0.0986586\ttotal: 368ms\tremaining: 519ms\n",
      "415:\tlearn: 0.0982852\ttotal: 369ms\tremaining: 518ms\n",
      "416:\tlearn: 0.0977610\ttotal: 369ms\tremaining: 516ms\n",
      "417:\tlearn: 0.0974578\ttotal: 370ms\tremaining: 515ms\n",
      "418:\tlearn: 0.0970887\ttotal: 371ms\tremaining: 514ms\n",
      "419:\tlearn: 0.0967926\ttotal: 371ms\tremaining: 513ms\n",
      "420:\tlearn: 0.0962844\ttotal: 373ms\tremaining: 513ms\n",
      "421:\tlearn: 0.0960297\ttotal: 374ms\tremaining: 512ms\n",
      "422:\tlearn: 0.0959449\ttotal: 374ms\tremaining: 511ms\n",
      "423:\tlearn: 0.0957231\ttotal: 375ms\tremaining: 509ms\n",
      "424:\tlearn: 0.0953692\ttotal: 375ms\tremaining: 508ms\n",
      "425:\tlearn: 0.0951230\ttotal: 376ms\tremaining: 506ms\n",
      "426:\tlearn: 0.0950398\ttotal: 376ms\tremaining: 505ms\n",
      "427:\tlearn: 0.0947977\ttotal: 377ms\tremaining: 503ms\n",
      "428:\tlearn: 0.0947338\ttotal: 377ms\tremaining: 502ms\n",
      "429:\tlearn: 0.0945063\ttotal: 377ms\tremaining: 500ms\n",
      "430:\tlearn: 0.0944433\ttotal: 378ms\tremaining: 499ms\n",
      "431:\tlearn: 0.0942060\ttotal: 379ms\tremaining: 498ms\n",
      "432:\tlearn: 0.0941225\ttotal: 379ms\tremaining: 496ms\n",
      "433:\tlearn: 0.0939686\ttotal: 381ms\tremaining: 497ms\n",
      "434:\tlearn: 0.0937356\ttotal: 381ms\tremaining: 495ms\n",
      "435:\tlearn: 0.0936744\ttotal: 382ms\tremaining: 494ms\n",
      "436:\tlearn: 0.0936141\ttotal: 383ms\tremaining: 493ms\n",
      "437:\tlearn: 0.0933642\ttotal: 383ms\tremaining: 491ms\n",
      "438:\tlearn: 0.0933045\ttotal: 383ms\tremaining: 490ms\n",
      "439:\tlearn: 0.0932491\ttotal: 384ms\tremaining: 488ms\n",
      "440:\tlearn: 0.0927601\ttotal: 384ms\tremaining: 487ms\n",
      "441:\tlearn: 0.0924909\ttotal: 389ms\tremaining: 492ms\n",
      "442:\tlearn: 0.0921305\ttotal: 391ms\tremaining: 491ms\n",
      "443:\tlearn: 0.0919065\ttotal: 391ms\tremaining: 490ms\n",
      "444:\tlearn: 0.0914323\ttotal: 392ms\tremaining: 489ms\n",
      "445:\tlearn: 0.0912118\ttotal: 392ms\tremaining: 487ms\n",
      "446:\tlearn: 0.0908916\ttotal: 393ms\tremaining: 486ms\n",
      "447:\tlearn: 0.0906760\ttotal: 393ms\tremaining: 485ms\n",
      "448:\tlearn: 0.0905642\ttotal: 394ms\tremaining: 483ms\n",
      "449:\tlearn: 0.0905115\ttotal: 394ms\tremaining: 482ms\n",
      "450:\tlearn: 0.0900298\ttotal: 395ms\tremaining: 481ms\n",
      "451:\tlearn: 0.0897486\ttotal: 396ms\tremaining: 480ms\n",
      "452:\tlearn: 0.0892790\ttotal: 396ms\tremaining: 478ms\n",
      "453:\tlearn: 0.0889259\ttotal: 397ms\tremaining: 477ms\n",
      "454:\tlearn: 0.0888174\ttotal: 397ms\tremaining: 476ms\n",
      "455:\tlearn: 0.0886089\ttotal: 397ms\tremaining: 474ms\n",
      "456:\tlearn: 0.0885580\ttotal: 398ms\tremaining: 473ms\n",
      "457:\tlearn: 0.0884584\ttotal: 400ms\tremaining: 473ms\n",
      "458:\tlearn: 0.0884084\ttotal: 400ms\tremaining: 472ms\n",
      "459:\tlearn: 0.0882036\ttotal: 402ms\tremaining: 472ms\n",
      "460:\tlearn: 0.0881545\ttotal: 402ms\tremaining: 470ms\n",
      "461:\tlearn: 0.0881061\ttotal: 403ms\tremaining: 469ms\n",
      "462:\tlearn: 0.0877763\ttotal: 403ms\tremaining: 467ms\n",
      "463:\tlearn: 0.0875754\ttotal: 403ms\tremaining: 466ms\n",
      "464:\tlearn: 0.0873118\ttotal: 404ms\tremaining: 464ms\n",
      "465:\tlearn: 0.0870119\ttotal: 404ms\tremaining: 463ms\n",
      "466:\tlearn: 0.0865635\ttotal: 404ms\tremaining: 462ms\n",
      "467:\tlearn: 0.0864579\ttotal: 405ms\tremaining: 460ms\n",
      "468:\tlearn: 0.0861766\ttotal: 406ms\tremaining: 459ms\n",
      "469:\tlearn: 0.0859828\ttotal: 406ms\tremaining: 458ms\n",
      "470:\tlearn: 0.0859422\ttotal: 406ms\tremaining: 457ms\n",
      "471:\tlearn: 0.0856477\ttotal: 407ms\tremaining: 455ms\n",
      "472:\tlearn: 0.0852122\ttotal: 408ms\tremaining: 454ms\n",
      "473:\tlearn: 0.0851096\ttotal: 408ms\tremaining: 453ms\n",
      "474:\tlearn: 0.0848366\ttotal: 409ms\tremaining: 452ms\n",
      "475:\tlearn: 0.0847970\ttotal: 409ms\tremaining: 451ms\n",
      "476:\tlearn: 0.0847579\ttotal: 410ms\tremaining: 449ms\n",
      "477:\tlearn: 0.0845095\ttotal: 410ms\tremaining: 448ms\n",
      "478:\tlearn: 0.0840858\ttotal: 411ms\tremaining: 447ms\n",
      "479:\tlearn: 0.0838194\ttotal: 411ms\tremaining: 445ms\n",
      "480:\tlearn: 0.0835393\ttotal: 411ms\tremaining: 444ms\n",
      "481:\tlearn: 0.0833542\ttotal: 412ms\tremaining: 443ms\n",
      "482:\tlearn: 0.0832567\ttotal: 413ms\tremaining: 442ms\n",
      "483:\tlearn: 0.0832187\ttotal: 413ms\tremaining: 441ms\n",
      "484:\tlearn: 0.0831813\ttotal: 414ms\tremaining: 439ms\n",
      "485:\tlearn: 0.0827699\ttotal: 414ms\tremaining: 438ms\n",
      "486:\tlearn: 0.0824998\ttotal: 415ms\tremaining: 437ms\n",
      "487:\tlearn: 0.0822940\ttotal: 415ms\tremaining: 435ms\n",
      "488:\tlearn: 0.0821132\ttotal: 415ms\tremaining: 434ms\n",
      "489:\tlearn: 0.0820161\ttotal: 416ms\tremaining: 433ms\n",
      "490:\tlearn: 0.0817527\ttotal: 416ms\tremaining: 431ms\n",
      "491:\tlearn: 0.0817156\ttotal: 416ms\tremaining: 430ms\n",
      "492:\tlearn: 0.0816790\ttotal: 417ms\tremaining: 429ms\n",
      "493:\tlearn: 0.0815021\ttotal: 417ms\tremaining: 428ms\n",
      "494:\tlearn: 0.0813010\ttotal: 418ms\tremaining: 426ms\n",
      "495:\tlearn: 0.0812052\ttotal: 418ms\tremaining: 425ms\n",
      "496:\tlearn: 0.0810312\ttotal: 419ms\tremaining: 424ms\n",
      "497:\tlearn: 0.0808607\ttotal: 419ms\tremaining: 422ms\n",
      "498:\tlearn: 0.0806763\ttotal: 420ms\tremaining: 421ms\n",
      "499:\tlearn: 0.0806404\ttotal: 420ms\tremaining: 420ms\n",
      "500:\tlearn: 0.0804447\ttotal: 420ms\tremaining: 419ms\n",
      "501:\tlearn: 0.0802731\ttotal: 421ms\tremaining: 417ms\n",
      "502:\tlearn: 0.0802374\ttotal: 421ms\tremaining: 416ms\n",
      "503:\tlearn: 0.0800685\ttotal: 422ms\tremaining: 415ms\n",
      "504:\tlearn: 0.0799758\ttotal: 422ms\tremaining: 414ms\n",
      "505:\tlearn: 0.0797848\ttotal: 422ms\tremaining: 412ms\n",
      "506:\tlearn: 0.0796180\ttotal: 423ms\tremaining: 411ms\n",
      "507:\tlearn: 0.0794515\ttotal: 423ms\tremaining: 410ms\n",
      "508:\tlearn: 0.0792867\ttotal: 424ms\tremaining: 409ms\n",
      "509:\tlearn: 0.0791094\ttotal: 424ms\tremaining: 408ms\n",
      "510:\tlearn: 0.0788434\ttotal: 425ms\tremaining: 407ms\n",
      "511:\tlearn: 0.0785822\ttotal: 426ms\tremaining: 406ms\n",
      "512:\tlearn: 0.0783976\ttotal: 426ms\tremaining: 405ms\n",
      "513:\tlearn: 0.0781870\ttotal: 427ms\tremaining: 403ms\n",
      "514:\tlearn: 0.0779309\ttotal: 427ms\tremaining: 402ms\n",
      "515:\tlearn: 0.0776794\ttotal: 428ms\tremaining: 401ms\n"
     ]
    },
    {
     "name": "stdout",
     "output_type": "stream",
     "text": [
      "516:\tlearn: 0.0775907\ttotal: 428ms\tremaining: 400ms\n",
      "517:\tlearn: 0.0773444\ttotal: 429ms\tremaining: 399ms\n",
      "518:\tlearn: 0.0771647\ttotal: 430ms\tremaining: 398ms\n",
      "519:\tlearn: 0.0769589\ttotal: 430ms\tremaining: 397ms\n",
      "520:\tlearn: 0.0767174\ttotal: 431ms\tremaining: 396ms\n",
      "521:\tlearn: 0.0764801\ttotal: 431ms\tremaining: 395ms\n",
      "522:\tlearn: 0.0762470\ttotal: 432ms\tremaining: 394ms\n",
      "523:\tlearn: 0.0760725\ttotal: 432ms\tremaining: 393ms\n",
      "524:\tlearn: 0.0758714\ttotal: 433ms\tremaining: 392ms\n",
      "525:\tlearn: 0.0757101\ttotal: 434ms\tremaining: 391ms\n",
      "526:\tlearn: 0.0754828\ttotal: 434ms\tremaining: 390ms\n",
      "527:\tlearn: 0.0752595\ttotal: 434ms\tremaining: 388ms\n",
      "528:\tlearn: 0.0750401\ttotal: 437ms\tremaining: 389ms\n",
      "529:\tlearn: 0.0747946\ttotal: 437ms\tremaining: 388ms\n",
      "530:\tlearn: 0.0746249\ttotal: 438ms\tremaining: 387ms\n",
      "531:\tlearn: 0.0744292\ttotal: 438ms\tremaining: 385ms\n",
      "532:\tlearn: 0.0741892\ttotal: 439ms\tremaining: 384ms\n",
      "533:\tlearn: 0.0740237\ttotal: 439ms\tremaining: 383ms\n",
      "534:\tlearn: 0.0737316\ttotal: 439ms\tremaining: 382ms\n",
      "535:\tlearn: 0.0735588\ttotal: 440ms\tremaining: 381ms\n",
      "536:\tlearn: 0.0735155\ttotal: 440ms\tremaining: 380ms\n",
      "537:\tlearn: 0.0734728\ttotal: 441ms\tremaining: 379ms\n",
      "538:\tlearn: 0.0732815\ttotal: 441ms\tremaining: 377ms\n",
      "539:\tlearn: 0.0732049\ttotal: 442ms\tremaining: 376ms\n",
      "540:\tlearn: 0.0729204\ttotal: 442ms\tremaining: 375ms\n",
      "541:\tlearn: 0.0728789\ttotal: 443ms\tremaining: 374ms\n",
      "542:\tlearn: 0.0728042\ttotal: 443ms\tremaining: 373ms\n",
      "543:\tlearn: 0.0725762\ttotal: 444ms\tremaining: 372ms\n",
      "544:\tlearn: 0.0725357\ttotal: 444ms\tremaining: 371ms\n",
      "545:\tlearn: 0.0722604\ttotal: 445ms\tremaining: 370ms\n",
      "546:\tlearn: 0.0721877\ttotal: 445ms\tremaining: 369ms\n",
      "547:\tlearn: 0.0719523\ttotal: 446ms\tremaining: 368ms\n",
      "548:\tlearn: 0.0719130\ttotal: 446ms\tremaining: 366ms\n",
      "549:\tlearn: 0.0718422\ttotal: 446ms\tremaining: 365ms\n",
      "550:\tlearn: 0.0716114\ttotal: 447ms\tremaining: 364ms\n",
      "551:\tlearn: 0.0715731\ttotal: 447ms\tremaining: 363ms\n",
      "552:\tlearn: 0.0713471\ttotal: 450ms\tremaining: 364ms\n",
      "553:\tlearn: 0.0713093\ttotal: 451ms\tremaining: 363ms\n",
      "554:\tlearn: 0.0712406\ttotal: 451ms\tremaining: 362ms\n",
      "555:\tlearn: 0.0710156\ttotal: 452ms\tremaining: 361ms\n",
      "556:\tlearn: 0.0709788\ttotal: 454ms\tremaining: 361ms\n",
      "557:\tlearn: 0.0708209\ttotal: 454ms\tremaining: 360ms\n",
      "558:\tlearn: 0.0706003\ttotal: 455ms\tremaining: 359ms\n",
      "559:\tlearn: 0.0705295\ttotal: 456ms\tremaining: 358ms\n",
      "560:\tlearn: 0.0701924\ttotal: 456ms\tremaining: 357ms\n",
      "561:\tlearn: 0.0699758\ttotal: 457ms\tremaining: 356ms\n",
      "562:\tlearn: 0.0697604\ttotal: 457ms\tremaining: 355ms\n",
      "563:\tlearn: 0.0695492\ttotal: 458ms\tremaining: 354ms\n",
      "564:\tlearn: 0.0694807\ttotal: 458ms\tremaining: 353ms\n",
      "565:\tlearn: 0.0692311\ttotal: 459ms\tremaining: 352ms\n",
      "566:\tlearn: 0.0692022\ttotal: 460ms\tremaining: 351ms\n",
      "567:\tlearn: 0.0689961\ttotal: 460ms\tremaining: 350ms\n",
      "568:\tlearn: 0.0689676\ttotal: 461ms\tremaining: 349ms\n",
      "569:\tlearn: 0.0687655\ttotal: 462ms\tremaining: 348ms\n",
      "570:\tlearn: 0.0686141\ttotal: 462ms\tremaining: 347ms\n",
      "571:\tlearn: 0.0682403\ttotal: 463ms\tremaining: 346ms\n",
      "572:\tlearn: 0.0680653\ttotal: 464ms\tremaining: 346ms\n",
      "573:\tlearn: 0.0678643\ttotal: 464ms\tremaining: 345ms\n",
      "574:\tlearn: 0.0675989\ttotal: 465ms\tremaining: 344ms\n",
      "575:\tlearn: 0.0672376\ttotal: 466ms\tremaining: 343ms\n",
      "576:\tlearn: 0.0670692\ttotal: 466ms\tremaining: 342ms\n",
      "577:\tlearn: 0.0668797\ttotal: 467ms\tremaining: 341ms\n",
      "578:\tlearn: 0.0668325\ttotal: 468ms\tremaining: 340ms\n",
      "579:\tlearn: 0.0664816\ttotal: 468ms\tremaining: 339ms\n",
      "580:\tlearn: 0.0663180\ttotal: 469ms\tremaining: 338ms\n"
     ]
    },
    {
     "name": "stdout",
     "output_type": "stream",
     "text": [
      "581:\tlearn: 0.0662082\ttotal: 469ms\tremaining: 337ms\n",
      "582:\tlearn: 0.0659579\ttotal: 470ms\tremaining: 337ms\n",
      "583:\tlearn: 0.0656176\ttotal: 471ms\tremaining: 336ms\n",
      "584:\tlearn: 0.0654372\ttotal: 471ms\tremaining: 334ms\n",
      "585:\tlearn: 0.0653906\ttotal: 472ms\tremaining: 333ms\n",
      "586:\tlearn: 0.0651835\ttotal: 472ms\tremaining: 332ms\n",
      "587:\tlearn: 0.0651375\ttotal: 475ms\tremaining: 333ms\n",
      "588:\tlearn: 0.0650671\ttotal: 476ms\tremaining: 332ms\n",
      "589:\tlearn: 0.0649247\ttotal: 476ms\tremaining: 331ms\n",
      "590:\tlearn: 0.0647221\ttotal: 476ms\tremaining: 330ms\n",
      "591:\tlearn: 0.0645446\ttotal: 477ms\tremaining: 329ms\n",
      "592:\tlearn: 0.0644758\ttotal: 477ms\tremaining: 328ms\n",
      "593:\tlearn: 0.0643001\ttotal: 478ms\tremaining: 327ms\n",
      "594:\tlearn: 0.0642548\ttotal: 478ms\tremaining: 326ms\n",
      "595:\tlearn: 0.0641162\ttotal: 479ms\tremaining: 325ms\n",
      "596:\tlearn: 0.0637950\ttotal: 479ms\tremaining: 324ms\n",
      "597:\tlearn: 0.0636404\ttotal: 480ms\tremaining: 323ms\n",
      "598:\tlearn: 0.0635359\ttotal: 480ms\tremaining: 322ms\n",
      "599:\tlearn: 0.0634693\ttotal: 481ms\tremaining: 321ms\n",
      "600:\tlearn: 0.0631459\ttotal: 482ms\tremaining: 320ms\n",
      "601:\tlearn: 0.0629950\ttotal: 482ms\tremaining: 319ms\n",
      "602:\tlearn: 0.0628939\ttotal: 483ms\tremaining: 318ms\n",
      "603:\tlearn: 0.0628287\ttotal: 484ms\tremaining: 317ms\n",
      "604:\tlearn: 0.0625977\ttotal: 484ms\tremaining: 316ms\n",
      "605:\tlearn: 0.0623683\ttotal: 485ms\tremaining: 315ms\n",
      "606:\tlearn: 0.0623395\ttotal: 485ms\tremaining: 314ms\n",
      "607:\tlearn: 0.0621095\ttotal: 486ms\tremaining: 313ms\n",
      "608:\tlearn: 0.0620810\ttotal: 488ms\tremaining: 313ms\n",
      "609:\tlearn: 0.0618571\ttotal: 489ms\tremaining: 312ms\n",
      "610:\tlearn: 0.0618247\ttotal: 490ms\tremaining: 312ms\n",
      "611:\tlearn: 0.0617968\ttotal: 492ms\tremaining: 312ms\n",
      "612:\tlearn: 0.0615341\ttotal: 492ms\tremaining: 311ms\n",
      "613:\tlearn: 0.0613113\ttotal: 493ms\tremaining: 310ms\n",
      "614:\tlearn: 0.0612794\ttotal: 493ms\tremaining: 309ms\n",
      "615:\tlearn: 0.0612479\ttotal: 494ms\tremaining: 308ms\n",
      "616:\tlearn: 0.0610316\ttotal: 494ms\tremaining: 307ms\n",
      "617:\tlearn: 0.0610003\ttotal: 495ms\tremaining: 306ms\n",
      "618:\tlearn: 0.0609694\ttotal: 495ms\tremaining: 305ms\n",
      "619:\tlearn: 0.0609066\ttotal: 496ms\tremaining: 304ms\n",
      "620:\tlearn: 0.0608762\ttotal: 496ms\tremaining: 303ms\n",
      "621:\tlearn: 0.0606309\ttotal: 497ms\tremaining: 302ms\n",
      "622:\tlearn: 0.0606047\ttotal: 497ms\tremaining: 301ms\n",
      "623:\tlearn: 0.0605431\ttotal: 497ms\tremaining: 300ms\n",
      "624:\tlearn: 0.0605173\ttotal: 498ms\tremaining: 299ms\n",
      "625:\tlearn: 0.0603057\ttotal: 498ms\tremaining: 298ms\n",
      "626:\tlearn: 0.0602761\ttotal: 499ms\tremaining: 297ms\n",
      "627:\tlearn: 0.0600376\ttotal: 499ms\tremaining: 296ms\n",
      "628:\tlearn: 0.0599676\ttotal: 501ms\tremaining: 295ms\n",
      "629:\tlearn: 0.0597558\ttotal: 502ms\tremaining: 295ms\n",
      "630:\tlearn: 0.0596974\ttotal: 502ms\tremaining: 294ms\n",
      "631:\tlearn: 0.0596727\ttotal: 503ms\tremaining: 293ms\n",
      "632:\tlearn: 0.0594668\ttotal: 503ms\tremaining: 292ms\n",
      "633:\tlearn: 0.0594382\ttotal: 504ms\tremaining: 291ms\n",
      "634:\tlearn: 0.0594139\ttotal: 504ms\tremaining: 290ms\n",
      "635:\tlearn: 0.0591206\ttotal: 505ms\tremaining: 289ms\n",
      "636:\tlearn: 0.0588488\ttotal: 505ms\tremaining: 288ms\n",
      "637:\tlearn: 0.0586435\ttotal: 506ms\tremaining: 287ms\n",
      "638:\tlearn: 0.0584401\ttotal: 507ms\tremaining: 286ms\n",
      "639:\tlearn: 0.0582398\ttotal: 507ms\tremaining: 285ms\n",
      "640:\tlearn: 0.0580413\ttotal: 507ms\tremaining: 284ms\n",
      "641:\tlearn: 0.0580133\ttotal: 508ms\tremaining: 283ms\n",
      "642:\tlearn: 0.0579891\ttotal: 508ms\tremaining: 282ms\n",
      "643:\tlearn: 0.0577938\ttotal: 509ms\tremaining: 281ms\n",
      "644:\tlearn: 0.0576075\ttotal: 509ms\tremaining: 280ms\n",
      "645:\tlearn: 0.0573482\ttotal: 510ms\tremaining: 279ms\n",
      "646:\tlearn: 0.0571575\ttotal: 510ms\tremaining: 278ms\n",
      "647:\tlearn: 0.0569497\ttotal: 510ms\tremaining: 277ms\n",
      "648:\tlearn: 0.0567602\ttotal: 511ms\tremaining: 276ms\n",
      "649:\tlearn: 0.0567330\ttotal: 512ms\tremaining: 275ms\n",
      "650:\tlearn: 0.0564811\ttotal: 512ms\tremaining: 275ms\n",
      "651:\tlearn: 0.0562950\ttotal: 513ms\tremaining: 274ms\n",
      "652:\tlearn: 0.0560692\ttotal: 514ms\tremaining: 273ms\n",
      "653:\tlearn: 0.0560424\ttotal: 515ms\tremaining: 272ms\n",
      "654:\tlearn: 0.0560158\ttotal: 515ms\tremaining: 271ms\n",
      "655:\tlearn: 0.0559928\ttotal: 516ms\tremaining: 271ms\n",
      "656:\tlearn: 0.0557468\ttotal: 516ms\tremaining: 270ms\n",
      "657:\tlearn: 0.0555663\ttotal: 517ms\tremaining: 269ms\n",
      "658:\tlearn: 0.0553470\ttotal: 517ms\tremaining: 268ms\n",
      "659:\tlearn: 0.0553242\ttotal: 517ms\tremaining: 267ms\n",
      "660:\tlearn: 0.0551499\ttotal: 518ms\tremaining: 266ms\n",
      "661:\tlearn: 0.0549665\ttotal: 519ms\tremaining: 265ms\n",
      "662:\tlearn: 0.0547064\ttotal: 519ms\tremaining: 264ms\n",
      "663:\tlearn: 0.0545293\ttotal: 520ms\tremaining: 263ms\n",
      "664:\tlearn: 0.0543573\ttotal: 520ms\tremaining: 262ms\n",
      "665:\tlearn: 0.0542230\ttotal: 521ms\tremaining: 261ms\n",
      "666:\tlearn: 0.0540561\ttotal: 522ms\tremaining: 260ms\n",
      "667:\tlearn: 0.0539248\ttotal: 522ms\tremaining: 260ms\n",
      "668:\tlearn: 0.0537137\ttotal: 523ms\tremaining: 259ms\n",
      "669:\tlearn: 0.0535593\ttotal: 523ms\tremaining: 258ms\n",
      "670:\tlearn: 0.0533871\ttotal: 524ms\tremaining: 257ms\n",
      "671:\tlearn: 0.0531807\ttotal: 524ms\tremaining: 256ms\n",
      "672:\tlearn: 0.0529480\ttotal: 528ms\tremaining: 256ms\n",
      "673:\tlearn: 0.0527206\ttotal: 529ms\tremaining: 256ms\n",
      "674:\tlearn: 0.0525193\ttotal: 529ms\tremaining: 255ms\n",
      "675:\tlearn: 0.0522973\ttotal: 530ms\tremaining: 254ms\n",
      "676:\tlearn: 0.0520802\ttotal: 530ms\tremaining: 253ms\n",
      "677:\tlearn: 0.0517740\ttotal: 531ms\tremaining: 252ms\n",
      "678:\tlearn: 0.0516503\ttotal: 531ms\tremaining: 251ms\n",
      "679:\tlearn: 0.0514551\ttotal: 532ms\tremaining: 250ms\n",
      "680:\tlearn: 0.0512344\ttotal: 532ms\tremaining: 249ms\n",
      "681:\tlearn: 0.0509585\ttotal: 533ms\tremaining: 248ms\n",
      "682:\tlearn: 0.0508367\ttotal: 533ms\tremaining: 248ms\n",
      "683:\tlearn: 0.0506493\ttotal: 534ms\tremaining: 247ms\n",
      "684:\tlearn: 0.0505376\ttotal: 535ms\tremaining: 246ms\n",
      "685:\tlearn: 0.0504278\ttotal: 535ms\tremaining: 245ms\n",
      "686:\tlearn: 0.0503771\ttotal: 536ms\tremaining: 244ms\n",
      "687:\tlearn: 0.0502577\ttotal: 536ms\tremaining: 243ms\n",
      "688:\tlearn: 0.0500746\ttotal: 537ms\tremaining: 242ms\n",
      "689:\tlearn: 0.0499157\ttotal: 537ms\tremaining: 241ms\n",
      "690:\tlearn: 0.0498657\ttotal: 538ms\tremaining: 240ms\n",
      "691:\tlearn: 0.0498421\ttotal: 541ms\tremaining: 241ms\n",
      "692:\tlearn: 0.0496629\ttotal: 541ms\tremaining: 240ms\n",
      "693:\tlearn: 0.0495555\ttotal: 542ms\tremaining: 239ms\n",
      "694:\tlearn: 0.0494499\ttotal: 543ms\tremaining: 238ms\n",
      "695:\tlearn: 0.0494094\ttotal: 544ms\tremaining: 237ms\n",
      "696:\tlearn: 0.0491481\ttotal: 544ms\tremaining: 237ms\n",
      "697:\tlearn: 0.0491248\ttotal: 545ms\tremaining: 236ms\n",
      "698:\tlearn: 0.0491019\ttotal: 545ms\tremaining: 235ms\n",
      "699:\tlearn: 0.0488978\ttotal: 546ms\tremaining: 234ms\n",
      "700:\tlearn: 0.0487584\ttotal: 546ms\tremaining: 233ms\n",
      "701:\tlearn: 0.0485923\ttotal: 547ms\tremaining: 232ms\n",
      "702:\tlearn: 0.0483942\ttotal: 548ms\tremaining: 231ms\n",
      "703:\tlearn: 0.0482777\ttotal: 548ms\tremaining: 230ms\n",
      "704:\tlearn: 0.0482387\ttotal: 549ms\tremaining: 230ms\n",
      "705:\tlearn: 0.0482002\ttotal: 549ms\tremaining: 229ms\n",
      "706:\tlearn: 0.0479940\ttotal: 550ms\tremaining: 228ms\n",
      "707:\tlearn: 0.0477133\ttotal: 550ms\tremaining: 227ms\n",
      "708:\tlearn: 0.0476668\ttotal: 551ms\tremaining: 226ms\n",
      "709:\tlearn: 0.0476210\ttotal: 555ms\tremaining: 227ms\n",
      "710:\tlearn: 0.0475074\ttotal: 555ms\tremaining: 226ms\n",
      "711:\tlearn: 0.0473477\ttotal: 556ms\tremaining: 225ms\n",
      "712:\tlearn: 0.0472009\ttotal: 557ms\tremaining: 224ms\n",
      "713:\tlearn: 0.0470101\ttotal: 558ms\tremaining: 223ms\n",
      "714:\tlearn: 0.0469735\ttotal: 559ms\tremaining: 223ms\n",
      "715:\tlearn: 0.0468176\ttotal: 560ms\tremaining: 222ms\n",
      "716:\tlearn: 0.0466894\ttotal: 560ms\tremaining: 221ms\n",
      "717:\tlearn: 0.0466535\ttotal: 561ms\tremaining: 220ms\n",
      "718:\tlearn: 0.0466091\ttotal: 561ms\tremaining: 219ms\n",
      "719:\tlearn: 0.0464650\ttotal: 562ms\tremaining: 219ms\n",
      "720:\tlearn: 0.0463396\ttotal: 562ms\tremaining: 218ms\n",
      "721:\tlearn: 0.0463047\ttotal: 564ms\tremaining: 217ms\n",
      "722:\tlearn: 0.0462703\ttotal: 565ms\tremaining: 216ms\n",
      "723:\tlearn: 0.0461332\ttotal: 565ms\tremaining: 216ms\n",
      "724:\tlearn: 0.0460877\ttotal: 566ms\tremaining: 215ms\n",
      "725:\tlearn: 0.0459507\ttotal: 566ms\tremaining: 214ms\n",
      "726:\tlearn: 0.0457694\ttotal: 567ms\tremaining: 213ms\n",
      "727:\tlearn: 0.0456603\ttotal: 568ms\tremaining: 212ms\n",
      "728:\tlearn: 0.0456074\ttotal: 568ms\tremaining: 211ms\n",
      "729:\tlearn: 0.0454165\ttotal: 569ms\tremaining: 210ms\n",
      "730:\tlearn: 0.0453093\ttotal: 569ms\tremaining: 209ms\n",
      "731:\tlearn: 0.0451236\ttotal: 570ms\tremaining: 209ms\n",
      "732:\tlearn: 0.0449345\ttotal: 570ms\tremaining: 208ms\n",
      "733:\tlearn: 0.0448934\ttotal: 571ms\tremaining: 207ms\n",
      "734:\tlearn: 0.0447634\ttotal: 571ms\tremaining: 206ms\n",
      "735:\tlearn: 0.0446578\ttotal: 572ms\tremaining: 205ms\n",
      "736:\tlearn: 0.0445112\ttotal: 572ms\tremaining: 204ms\n",
      "737:\tlearn: 0.0444552\ttotal: 573ms\tremaining: 203ms\n",
      "738:\tlearn: 0.0442828\ttotal: 573ms\tremaining: 202ms\n",
      "739:\tlearn: 0.0441390\ttotal: 574ms\tremaining: 202ms\n",
      "740:\tlearn: 0.0439703\ttotal: 574ms\tremaining: 201ms\n",
      "741:\tlearn: 0.0438294\ttotal: 575ms\tremaining: 200ms\n",
      "742:\tlearn: 0.0436566\ttotal: 575ms\tremaining: 199ms\n",
      "743:\tlearn: 0.0435395\ttotal: 576ms\tremaining: 198ms\n",
      "744:\tlearn: 0.0435010\ttotal: 579ms\tremaining: 198ms\n",
      "745:\tlearn: 0.0433306\ttotal: 580ms\tremaining: 197ms\n",
      "746:\tlearn: 0.0432927\ttotal: 580ms\tremaining: 197ms\n",
      "747:\tlearn: 0.0431420\ttotal: 581ms\tremaining: 196ms\n",
      "748:\tlearn: 0.0431030\ttotal: 581ms\tremaining: 195ms\n",
      "749:\tlearn: 0.0429803\ttotal: 582ms\tremaining: 194ms\n"
     ]
    },
    {
     "name": "stdout",
     "output_type": "stream",
     "text": [
      "750:\tlearn: 0.0429607\ttotal: 584ms\tremaining: 194ms\n",
      "751:\tlearn: 0.0428400\ttotal: 585ms\tremaining: 193ms\n",
      "752:\tlearn: 0.0428207\ttotal: 586ms\tremaining: 192ms\n",
      "753:\tlearn: 0.0427066\ttotal: 586ms\tremaining: 191ms\n",
      "754:\tlearn: 0.0425879\ttotal: 587ms\tremaining: 190ms\n",
      "755:\tlearn: 0.0425465\ttotal: 587ms\tremaining: 189ms\n",
      "756:\tlearn: 0.0424298\ttotal: 588ms\tremaining: 189ms\n",
      "757:\tlearn: 0.0424110\ttotal: 588ms\tremaining: 188ms\n",
      "758:\tlearn: 0.0422963\ttotal: 590ms\tremaining: 187ms\n",
      "759:\tlearn: 0.0422554\ttotal: 590ms\tremaining: 186ms\n",
      "760:\tlearn: 0.0421139\ttotal: 591ms\tremaining: 186ms\n",
      "761:\tlearn: 0.0420953\ttotal: 592ms\tremaining: 185ms\n",
      "762:\tlearn: 0.0419265\ttotal: 592ms\tremaining: 184ms\n",
      "763:\tlearn: 0.0418151\ttotal: 593ms\tremaining: 183ms\n",
      "764:\tlearn: 0.0416535\ttotal: 593ms\tremaining: 182ms\n",
      "765:\tlearn: 0.0414892\ttotal: 594ms\tremaining: 181ms\n",
      "766:\tlearn: 0.0414536\ttotal: 594ms\tremaining: 181ms\n",
      "767:\tlearn: 0.0412930\ttotal: 595ms\tremaining: 180ms\n",
      "768:\tlearn: 0.0412577\ttotal: 595ms\tremaining: 179ms\n",
      "769:\tlearn: 0.0410944\ttotal: 596ms\tremaining: 178ms\n",
      "770:\tlearn: 0.0409383\ttotal: 596ms\tremaining: 177ms\n",
      "771:\tlearn: 0.0407795\ttotal: 597ms\tremaining: 176ms\n",
      "772:\tlearn: 0.0406470\ttotal: 597ms\tremaining: 175ms\n",
      "773:\tlearn: 0.0404966\ttotal: 598ms\tremaining: 175ms\n",
      "774:\tlearn: 0.0403233\ttotal: 598ms\tremaining: 174ms\n",
      "775:\tlearn: 0.0401721\ttotal: 599ms\tremaining: 173ms\n",
      "776:\tlearn: 0.0400245\ttotal: 599ms\tremaining: 172ms\n",
      "777:\tlearn: 0.0398592\ttotal: 600ms\tremaining: 171ms\n",
      "778:\tlearn: 0.0397105\ttotal: 600ms\tremaining: 170ms\n",
      "779:\tlearn: 0.0395864\ttotal: 601ms\tremaining: 169ms\n",
      "780:\tlearn: 0.0394443\ttotal: 602ms\tremaining: 169ms\n",
      "781:\tlearn: 0.0393358\ttotal: 602ms\tremaining: 168ms\n",
      "782:\tlearn: 0.0392293\ttotal: 603ms\tremaining: 167ms\n",
      "783:\tlearn: 0.0391247\ttotal: 603ms\tremaining: 166ms\n",
      "784:\tlearn: 0.0390220\ttotal: 604ms\tremaining: 165ms\n",
      "785:\tlearn: 0.0390042\ttotal: 605ms\tremaining: 165ms\n",
      "786:\tlearn: 0.0389867\ttotal: 605ms\tremaining: 164ms\n",
      "787:\tlearn: 0.0388857\ttotal: 606ms\tremaining: 163ms\n",
      "788:\tlearn: 0.0388683\ttotal: 606ms\tremaining: 162ms\n",
      "789:\tlearn: 0.0387160\ttotal: 607ms\tremaining: 161ms\n",
      "790:\tlearn: 0.0386169\ttotal: 607ms\tremaining: 160ms\n",
      "791:\tlearn: 0.0385196\ttotal: 608ms\tremaining: 160ms\n",
      "792:\tlearn: 0.0384240\ttotal: 608ms\tremaining: 159ms\n",
      "793:\tlearn: 0.0384068\ttotal: 609ms\tremaining: 158ms\n",
      "794:\tlearn: 0.0383128\ttotal: 610ms\tremaining: 157ms\n",
      "795:\tlearn: 0.0382945\ttotal: 610ms\tremaining: 156ms\n",
      "796:\tlearn: 0.0382778\ttotal: 611ms\tremaining: 156ms\n",
      "797:\tlearn: 0.0381853\ttotal: 612ms\tremaining: 155ms\n",
      "798:\tlearn: 0.0381674\ttotal: 612ms\tremaining: 154ms\n",
      "799:\tlearn: 0.0380427\ttotal: 613ms\tremaining: 153ms\n",
      "800:\tlearn: 0.0380263\ttotal: 613ms\tremaining: 152ms\n",
      "801:\tlearn: 0.0380101\ttotal: 614ms\tremaining: 152ms\n",
      "802:\tlearn: 0.0378470\ttotal: 614ms\tremaining: 151ms\n",
      "803:\tlearn: 0.0377243\ttotal: 617ms\tremaining: 150ms\n",
      "804:\tlearn: 0.0377072\ttotal: 618ms\tremaining: 150ms\n",
      "805:\tlearn: 0.0376903\ttotal: 618ms\tremaining: 149ms\n",
      "806:\tlearn: 0.0375903\ttotal: 619ms\tremaining: 148ms\n",
      "807:\tlearn: 0.0374703\ttotal: 619ms\tremaining: 147ms\n",
      "808:\tlearn: 0.0373115\ttotal: 620ms\tremaining: 146ms\n",
      "809:\tlearn: 0.0371934\ttotal: 621ms\tremaining: 146ms\n",
      "810:\tlearn: 0.0371771\ttotal: 621ms\tremaining: 145ms\n",
      "811:\tlearn: 0.0370619\ttotal: 622ms\tremaining: 144ms\n",
      "812:\tlearn: 0.0370468\ttotal: 623ms\tremaining: 143ms\n",
      "813:\tlearn: 0.0369294\ttotal: 623ms\tremaining: 142ms\n",
      "814:\tlearn: 0.0367746\ttotal: 624ms\tremaining: 142ms\n",
      "815:\tlearn: 0.0366839\ttotal: 624ms\tremaining: 141ms\n",
      "816:\tlearn: 0.0365420\ttotal: 625ms\tremaining: 140ms\n"
     ]
    },
    {
     "name": "stdout",
     "output_type": "stream",
     "text": [
      "817:\tlearn: 0.0364294\ttotal: 626ms\tremaining: 139ms\n",
      "818:\tlearn: 0.0363413\ttotal: 627ms\tremaining: 138ms\n",
      "819:\tlearn: 0.0362275\ttotal: 627ms\tremaining: 138ms\n",
      "820:\tlearn: 0.0361615\ttotal: 628ms\tremaining: 137ms\n",
      "821:\tlearn: 0.0360669\ttotal: 628ms\tremaining: 136ms\n",
      "822:\tlearn: 0.0359174\ttotal: 629ms\tremaining: 135ms\n",
      "823:\tlearn: 0.0358077\ttotal: 630ms\tremaining: 135ms\n",
      "824:\tlearn: 0.0356320\ttotal: 631ms\tremaining: 134ms\n",
      "825:\tlearn: 0.0354604\ttotal: 631ms\tremaining: 133ms\n",
      "826:\tlearn: 0.0353264\ttotal: 632ms\tremaining: 132ms\n",
      "827:\tlearn: 0.0352411\ttotal: 632ms\tremaining: 131ms\n",
      "828:\tlearn: 0.0351336\ttotal: 633ms\tremaining: 131ms\n",
      "829:\tlearn: 0.0349973\ttotal: 634ms\tremaining: 130ms\n",
      "830:\tlearn: 0.0349138\ttotal: 634ms\tremaining: 129ms\n",
      "831:\tlearn: 0.0347838\ttotal: 635ms\tremaining: 128ms\n",
      "832:\tlearn: 0.0346786\ttotal: 635ms\tremaining: 127ms\n",
      "833:\tlearn: 0.0345969\ttotal: 636ms\tremaining: 126ms\n",
      "834:\tlearn: 0.0344901\ttotal: 636ms\tremaining: 126ms\n",
      "835:\tlearn: 0.0344027\ttotal: 637ms\tremaining: 125ms\n",
      "836:\tlearn: 0.0342282\ttotal: 637ms\tremaining: 124ms\n",
      "837:\tlearn: 0.0340916\ttotal: 637ms\tremaining: 123ms\n",
      "838:\tlearn: 0.0340111\ttotal: 638ms\tremaining: 122ms\n",
      "839:\tlearn: 0.0339063\ttotal: 639ms\tremaining: 122ms\n",
      "840:\tlearn: 0.0337994\ttotal: 639ms\tremaining: 121ms\n",
      "841:\tlearn: 0.0337209\ttotal: 639ms\tremaining: 120ms\n",
      "842:\tlearn: 0.0336185\ttotal: 640ms\tremaining: 119ms\n",
      "843:\tlearn: 0.0335605\ttotal: 641ms\tremaining: 118ms\n",
      "844:\tlearn: 0.0334378\ttotal: 644ms\tremaining: 118ms\n",
      "845:\tlearn: 0.0333613\ttotal: 645ms\tremaining: 117ms\n",
      "846:\tlearn: 0.0332573\ttotal: 646ms\tremaining: 117ms\n",
      "847:\tlearn: 0.0331444\ttotal: 646ms\tremaining: 116ms\n",
      "848:\tlearn: 0.0330695\ttotal: 647ms\tremaining: 115ms\n",
      "849:\tlearn: 0.0329897\ttotal: 647ms\tremaining: 114ms\n",
      "850:\tlearn: 0.0328708\ttotal: 648ms\tremaining: 113ms\n",
      "851:\tlearn: 0.0327680\ttotal: 648ms\tremaining: 113ms\n",
      "852:\tlearn: 0.0326883\ttotal: 649ms\tremaining: 112ms\n",
      "853:\tlearn: 0.0326157\ttotal: 650ms\tremaining: 111ms\n",
      "854:\tlearn: 0.0325116\ttotal: 651ms\tremaining: 110ms\n",
      "855:\tlearn: 0.0324152\ttotal: 651ms\tremaining: 110ms\n",
      "856:\tlearn: 0.0323135\ttotal: 652ms\tremaining: 109ms\n",
      "857:\tlearn: 0.0322023\ttotal: 652ms\tremaining: 108ms\n",
      "858:\tlearn: 0.0321046\ttotal: 653ms\tremaining: 107ms\n",
      "859:\tlearn: 0.0319750\ttotal: 653ms\tremaining: 106ms\n",
      "860:\tlearn: 0.0318970\ttotal: 655ms\tremaining: 106ms\n",
      "861:\tlearn: 0.0318000\ttotal: 656ms\tremaining: 105ms\n",
      "862:\tlearn: 0.0317318\ttotal: 656ms\tremaining: 104ms\n",
      "863:\tlearn: 0.0317177\ttotal: 657ms\tremaining: 103ms\n",
      "864:\tlearn: 0.0317039\ttotal: 657ms\tremaining: 103ms\n",
      "865:\tlearn: 0.0315742\ttotal: 658ms\tremaining: 102ms\n",
      "866:\tlearn: 0.0314764\ttotal: 658ms\tremaining: 101ms\n",
      "867:\tlearn: 0.0313501\ttotal: 659ms\tremaining: 100ms\n",
      "868:\tlearn: 0.0312402\ttotal: 659ms\tremaining: 99.4ms\n",
      "869:\tlearn: 0.0311117\ttotal: 660ms\tremaining: 98.6ms\n",
      "870:\tlearn: 0.0310171\ttotal: 660ms\tremaining: 97.8ms\n",
      "871:\tlearn: 0.0309457\ttotal: 661ms\tremaining: 97ms\n",
      "872:\tlearn: 0.0308201\ttotal: 661ms\tremaining: 96.2ms\n",
      "873:\tlearn: 0.0307542\ttotal: 662ms\tremaining: 95.4ms\n",
      "874:\tlearn: 0.0306570\ttotal: 663ms\tremaining: 94.6ms\n",
      "875:\tlearn: 0.0305614\ttotal: 663ms\tremaining: 93.9ms\n",
      "876:\tlearn: 0.0304966\ttotal: 664ms\tremaining: 93.1ms\n",
      "877:\tlearn: 0.0303745\ttotal: 664ms\tremaining: 92.3ms\n",
      "878:\tlearn: 0.0302865\ttotal: 665ms\tremaining: 91.5ms\n",
      "879:\tlearn: 0.0302226\ttotal: 665ms\tremaining: 90.7ms\n",
      "880:\tlearn: 0.0301535\ttotal: 666ms\tremaining: 89.9ms\n",
      "881:\tlearn: 0.0300498\ttotal: 666ms\tremaining: 89.1ms\n",
      "882:\tlearn: 0.0299319\ttotal: 667ms\tremaining: 88.4ms\n",
      "883:\tlearn: 0.0298400\ttotal: 668ms\tremaining: 87.7ms\n",
      "884:\tlearn: 0.0297288\ttotal: 669ms\tremaining: 87ms\n",
      "885:\tlearn: 0.0296111\ttotal: 670ms\tremaining: 86.2ms\n",
      "886:\tlearn: 0.0295117\ttotal: 670ms\tremaining: 85.4ms\n",
      "887:\tlearn: 0.0293976\ttotal: 671ms\tremaining: 84.6ms\n",
      "888:\tlearn: 0.0292899\ttotal: 672ms\tremaining: 83.8ms\n",
      "889:\tlearn: 0.0292380\ttotal: 672ms\tremaining: 83.1ms\n",
      "890:\tlearn: 0.0291023\ttotal: 673ms\tremaining: 82.3ms\n",
      "891:\tlearn: 0.0290511\ttotal: 673ms\tremaining: 81.5ms\n",
      "892:\tlearn: 0.0289414\ttotal: 674ms\tremaining: 80.7ms\n",
      "893:\tlearn: 0.0288527\ttotal: 674ms\tremaining: 79.9ms\n",
      "894:\tlearn: 0.0287223\ttotal: 675ms\tremaining: 79.2ms\n",
      "895:\tlearn: 0.0286697\ttotal: 675ms\tremaining: 78.4ms\n",
      "896:\tlearn: 0.0285644\ttotal: 676ms\tremaining: 77.6ms\n",
      "897:\tlearn: 0.0285145\ttotal: 677ms\tremaining: 76.9ms\n",
      "898:\tlearn: 0.0283904\ttotal: 677ms\tremaining: 76.1ms\n",
      "899:\tlearn: 0.0283393\ttotal: 678ms\tremaining: 75.3ms\n",
      "900:\tlearn: 0.0282541\ttotal: 678ms\tremaining: 74.5ms\n",
      "901:\tlearn: 0.0281528\ttotal: 679ms\tremaining: 73.7ms\n",
      "902:\tlearn: 0.0280575\ttotal: 679ms\tremaining: 73ms\n",
      "903:\tlearn: 0.0279683\ttotal: 680ms\tremaining: 72.2ms\n",
      "904:\tlearn: 0.0278812\ttotal: 680ms\tremaining: 71.4ms\n",
      "905:\tlearn: 0.0277561\ttotal: 683ms\tremaining: 70.8ms\n",
      "906:\tlearn: 0.0276726\ttotal: 683ms\tremaining: 70.1ms\n",
      "907:\tlearn: 0.0275523\ttotal: 684ms\tremaining: 69.3ms\n",
      "908:\tlearn: 0.0274052\ttotal: 685ms\tremaining: 68.6ms\n",
      "909:\tlearn: 0.0273555\ttotal: 686ms\tremaining: 67.9ms\n",
      "910:\tlearn: 0.0272387\ttotal: 687ms\tremaining: 67.1ms\n",
      "911:\tlearn: 0.0271897\ttotal: 688ms\tremaining: 66.4ms\n",
      "912:\tlearn: 0.0270704\ttotal: 688ms\tremaining: 65.6ms\n",
      "913:\tlearn: 0.0269293\ttotal: 689ms\tremaining: 64.8ms\n",
      "914:\tlearn: 0.0268810\ttotal: 689ms\tremaining: 64ms\n",
      "915:\tlearn: 0.0267919\ttotal: 690ms\tremaining: 63.3ms\n",
      "916:\tlearn: 0.0266774\ttotal: 690ms\tremaining: 62.5ms\n",
      "917:\tlearn: 0.0265907\ttotal: 691ms\tremaining: 61.7ms\n",
      "918:\tlearn: 0.0264782\ttotal: 691ms\tremaining: 60.9ms\n",
      "919:\tlearn: 0.0263952\ttotal: 692ms\tremaining: 60.2ms\n",
      "920:\tlearn: 0.0263338\ttotal: 692ms\tremaining: 59.4ms\n",
      "921:\tlearn: 0.0262546\ttotal: 693ms\tremaining: 58.6ms\n",
      "922:\tlearn: 0.0262136\ttotal: 693ms\tremaining: 57.9ms\n",
      "923:\tlearn: 0.0261018\ttotal: 694ms\tremaining: 57.1ms\n",
      "924:\tlearn: 0.0260613\ttotal: 694ms\tremaining: 56.3ms\n",
      "925:\tlearn: 0.0259839\ttotal: 696ms\tremaining: 55.6ms\n",
      "926:\tlearn: 0.0258952\ttotal: 697ms\tremaining: 54.9ms\n",
      "927:\tlearn: 0.0257648\ttotal: 697ms\tremaining: 54.1ms\n",
      "928:\tlearn: 0.0257248\ttotal: 698ms\tremaining: 53.3ms\n",
      "929:\tlearn: 0.0256800\ttotal: 698ms\tremaining: 52.6ms\n",
      "930:\tlearn: 0.0256360\ttotal: 699ms\tremaining: 51.8ms\n",
      "931:\tlearn: 0.0255440\ttotal: 699ms\tremaining: 51ms\n",
      "932:\tlearn: 0.0254589\ttotal: 700ms\tremaining: 50.3ms\n",
      "933:\tlearn: 0.0253536\ttotal: 700ms\tremaining: 49.5ms\n",
      "934:\tlearn: 0.0252705\ttotal: 701ms\tremaining: 48.7ms\n",
      "935:\tlearn: 0.0251686\ttotal: 701ms\tremaining: 48ms\n",
      "936:\tlearn: 0.0250672\ttotal: 702ms\tremaining: 47.2ms\n",
      "937:\tlearn: 0.0249722\ttotal: 703ms\tremaining: 46.5ms\n",
      "938:\tlearn: 0.0249274\ttotal: 703ms\tremaining: 45.7ms\n",
      "939:\tlearn: 0.0248305\ttotal: 704ms\tremaining: 44.9ms\n",
      "940:\tlearn: 0.0247383\ttotal: 705ms\tremaining: 44.2ms\n",
      "941:\tlearn: 0.0246429\ttotal: 705ms\tremaining: 43.4ms\n",
      "942:\tlearn: 0.0245700\ttotal: 706ms\tremaining: 42.6ms\n",
      "943:\tlearn: 0.0244902\ttotal: 706ms\tremaining: 41.9ms\n",
      "944:\tlearn: 0.0244121\ttotal: 707ms\tremaining: 41.1ms\n",
      "945:\tlearn: 0.0243182\ttotal: 707ms\tremaining: 40.4ms\n",
      "946:\tlearn: 0.0242473\ttotal: 708ms\tremaining: 39.6ms\n",
      "947:\tlearn: 0.0241708\ttotal: 708ms\tremaining: 38.8ms\n",
      "948:\tlearn: 0.0241159\ttotal: 712ms\tremaining: 38.3ms\n",
      "949:\tlearn: 0.0240153\ttotal: 713ms\tremaining: 37.5ms\n",
      "950:\tlearn: 0.0239707\ttotal: 713ms\tremaining: 36.8ms\n",
      "951:\tlearn: 0.0238842\ttotal: 715ms\tremaining: 36.1ms\n",
      "952:\tlearn: 0.0238181\ttotal: 716ms\tremaining: 35.3ms\n",
      "953:\tlearn: 0.0237535\ttotal: 716ms\tremaining: 34.5ms\n",
      "954:\tlearn: 0.0236608\ttotal: 717ms\tremaining: 33.8ms\n",
      "955:\tlearn: 0.0236231\ttotal: 717ms\tremaining: 33ms\n",
      "956:\tlearn: 0.0235257\ttotal: 718ms\tremaining: 32.3ms\n",
      "957:\tlearn: 0.0234635\ttotal: 719ms\tremaining: 31.5ms\n",
      "958:\tlearn: 0.0233784\ttotal: 720ms\tremaining: 30.8ms\n",
      "959:\tlearn: 0.0232654\ttotal: 720ms\tremaining: 30ms\n",
      "960:\tlearn: 0.0232254\ttotal: 721ms\tremaining: 29.3ms\n",
      "961:\tlearn: 0.0231861\ttotal: 721ms\tremaining: 28.5ms\n",
      "962:\tlearn: 0.0231474\ttotal: 722ms\tremaining: 27.7ms\n",
      "963:\tlearn: 0.0230561\ttotal: 724ms\tremaining: 27ms\n",
      "964:\tlearn: 0.0229683\ttotal: 725ms\tremaining: 26.3ms\n",
      "965:\tlearn: 0.0228828\ttotal: 726ms\tremaining: 25.6ms\n",
      "966:\tlearn: 0.0227995\ttotal: 727ms\tremaining: 24.8ms\n",
      "967:\tlearn: 0.0227628\ttotal: 727ms\tremaining: 24ms\n",
      "968:\tlearn: 0.0226814\ttotal: 728ms\tremaining: 23.3ms\n",
      "969:\tlearn: 0.0226086\ttotal: 728ms\tremaining: 22.5ms\n",
      "970:\tlearn: 0.0225375\ttotal: 729ms\tremaining: 21.8ms\n",
      "971:\tlearn: 0.0225013\ttotal: 729ms\tremaining: 21ms\n",
      "972:\tlearn: 0.0223963\ttotal: 730ms\tremaining: 20.3ms\n",
      "973:\tlearn: 0.0223593\ttotal: 730ms\tremaining: 19.5ms\n",
      "974:\tlearn: 0.0222836\ttotal: 731ms\tremaining: 18.7ms\n",
      "975:\tlearn: 0.0222472\ttotal: 732ms\tremaining: 18ms\n",
      "976:\tlearn: 0.0222114\ttotal: 732ms\tremaining: 17.2ms\n",
      "977:\tlearn: 0.0221373\ttotal: 733ms\tremaining: 16.5ms\n",
      "978:\tlearn: 0.0221025\ttotal: 734ms\tremaining: 15.7ms\n",
      "979:\tlearn: 0.0220710\ttotal: 734ms\tremaining: 15ms\n",
      "980:\tlearn: 0.0220368\ttotal: 735ms\tremaining: 14.2ms\n",
      "981:\tlearn: 0.0220058\ttotal: 735ms\tremaining: 13.5ms\n",
      "982:\tlearn: 0.0219264\ttotal: 737ms\tremaining: 12.8ms\n",
      "983:\tlearn: 0.0218317\ttotal: 738ms\tremaining: 12ms\n",
      "984:\tlearn: 0.0217268\ttotal: 739ms\tremaining: 11.3ms\n",
      "985:\tlearn: 0.0216457\ttotal: 740ms\tremaining: 10.5ms\n",
      "986:\tlearn: 0.0215779\ttotal: 741ms\tremaining: 9.76ms\n",
      "987:\tlearn: 0.0214775\ttotal: 741ms\tremaining: 9.01ms\n",
      "988:\tlearn: 0.0214081\ttotal: 742ms\tremaining: 8.25ms\n",
      "989:\tlearn: 0.0213229\ttotal: 743ms\tremaining: 7.5ms\n",
      "990:\tlearn: 0.0212553\ttotal: 744ms\tremaining: 6.75ms\n",
      "991:\tlearn: 0.0211788\ttotal: 744ms\tremaining: 6ms\n",
      "992:\tlearn: 0.0211043\ttotal: 745ms\tremaining: 5.25ms\n"
     ]
    },
    {
     "name": "stdout",
     "output_type": "stream",
     "text": [
      "993:\tlearn: 0.0210312\ttotal: 745ms\tremaining: 4.5ms\n",
      "994:\tlearn: 0.0209604\ttotal: 753ms\tremaining: 3.78ms\n",
      "995:\tlearn: 0.0208909\ttotal: 758ms\tremaining: 3.04ms\n",
      "996:\tlearn: 0.0208339\ttotal: 759ms\tremaining: 2.28ms\n",
      "997:\tlearn: 0.0207523\ttotal: 760ms\tremaining: 1.52ms\n",
      "998:\tlearn: 0.0206822\ttotal: 761ms\tremaining: 761us\n",
      "999:\tlearn: 0.0206153\ttotal: 763ms\tremaining: 0us\n",
      "Mean Absolute error 0.470790802700895\n"
     ]
    },
    {
     "data": {
      "application/scrapbook.scrap.json+json": {
       "data": 0.470790802700895,
       "encoder": "json",
       "name": "Catboost MAE",
       "version": 1
      }
     },
     "metadata": {
      "scrapbook": {
       "data": true,
       "display": false,
       "name": "Catboost MAE"
      }
     },
     "output_type": "display_data"
    }
   ],
   "source": [
    "mae_cb = baselineModels.catboost(X_train,y_train,X_test,y_test)\n",
    "#Store MSE Value\n",
    "sb.glue(\"Catboost MAE\",mae_cb)"
   ]
  },
  {
   "cell_type": "markdown",
   "id": "9b2a318d",
   "metadata": {
    "papermill": {
     "duration": 0.036757,
     "end_time": "2022-06-22T10:52:30.597172",
     "exception": false,
     "start_time": "2022-06-22T10:52:30.560415",
     "status": "completed"
    },
    "tags": []
   },
   "source": [
    "# TabNet regressor"
   ]
  },
  {
   "cell_type": "code",
   "execution_count": 7,
   "id": "4d83668b",
   "metadata": {
    "execution": {
     "iopub.execute_input": "2022-06-22T10:52:30.681282Z",
     "iopub.status.busy": "2022-06-22T10:52:30.679688Z",
     "iopub.status.idle": "2022-06-22T10:52:30.687122Z",
     "shell.execute_reply": "2022-06-22T10:52:30.688797Z"
    },
    "papermill": {
     "duration": 0.04644,
     "end_time": "2022-06-22T10:52:30.689063",
     "exception": false,
     "start_time": "2022-06-22T10:52:30.642623",
     "status": "completed"
    },
    "tags": []
   },
   "outputs": [],
   "source": [
    "n_epochs = 1000\n",
    "batch_size = 32"
   ]
  },
  {
   "cell_type": "code",
   "execution_count": 8,
   "id": "bda30880",
   "metadata": {
    "execution": {
     "iopub.execute_input": "2022-06-22T10:52:30.751836Z",
     "iopub.status.busy": "2022-06-22T10:52:30.749148Z",
     "iopub.status.idle": "2022-06-22T10:52:54.844226Z",
     "shell.execute_reply": "2022-06-22T10:52:54.844901Z"
    },
    "papermill": {
     "duration": 24.133917,
     "end_time": "2022-06-22T10:52:54.845151",
     "exception": false,
     "start_time": "2022-06-22T10:52:30.711234",
     "status": "completed"
    },
    "tags": []
   },
   "outputs": [
    {
     "name": "stdout",
     "output_type": "stream",
     "text": [
      "(80,)\n",
      "Device used : cpu\n"
     ]
    },
    {
     "name": "stdout",
     "output_type": "stream",
     "text": [
      "epoch 0  | loss: 0.97797 | train_mse: 5.83114 | train_mae: 1.76277 |  0:00:01s\n",
      "epoch 1  | loss: 0.61232 | train_mse: 4.36302 | train_mae: 1.57895 |  0:00:01s\n"
     ]
    },
    {
     "name": "stdout",
     "output_type": "stream",
     "text": [
      "epoch 2  | loss: 0.34167 | train_mse: 5.0315  | train_mae: 1.68305 |  0:00:02s\n",
      "epoch 3  | loss: 0.34025 | train_mse: 3.60017 | train_mae: 1.39696 |  0:00:02s\n"
     ]
    },
    {
     "name": "stdout",
     "output_type": "stream",
     "text": [
      "epoch 4  | loss: 0.43598 | train_mse: 1.89667 | train_mae: 0.97334 |  0:00:02s\n",
      "epoch 5  | loss: 0.42705 | train_mse: 1.14423 | train_mae: 0.75414 |  0:00:02s\n",
      "epoch 6  | loss: 0.56303 | train_mse: 0.96676 | train_mae: 0.71025 |  0:00:02s\n"
     ]
    },
    {
     "name": "stdout",
     "output_type": "stream",
     "text": [
      "epoch 7  | loss: 0.50517 | train_mse: 0.48159 | train_mae: 0.5278  |  0:00:02s\n",
      "epoch 8  | loss: 0.31777 | train_mse: 0.34782 | train_mae: 0.46104 |  0:00:02s\n"
     ]
    },
    {
     "name": "stdout",
     "output_type": "stream",
     "text": [
      "epoch 9  | loss: 0.23965 | train_mse: 0.38078 | train_mae: 0.45471 |  0:00:02s\n",
      "epoch 10 | loss: 0.23703 | train_mse: 0.60743 | train_mae: 0.51745 |  0:00:03s\n"
     ]
    },
    {
     "name": "stdout",
     "output_type": "stream",
     "text": [
      "epoch 11 | loss: 0.18979 | train_mse: 0.59126 | train_mae: 0.48367 |  0:00:03s\n",
      "epoch 12 | loss: 0.19026 | train_mse: 0.52682 | train_mae: 0.51066 |  0:00:03s\n",
      "epoch 13 | loss: 0.18399 | train_mse: 0.50562 | train_mae: 0.51842 |  0:00:03s\n"
     ]
    },
    {
     "name": "stdout",
     "output_type": "stream",
     "text": [
      "epoch 14 | loss: 0.30524 | train_mse: 0.39408 | train_mae: 0.45644 |  0:00:03s\n",
      "epoch 15 | loss: 0.15472 | train_mse: 0.37175 | train_mae: 0.47117 |  0:00:03s\n",
      "epoch 16 | loss: 0.31498 | train_mse: 0.44922 | train_mae: 0.52213 |  0:00:03s\n"
     ]
    },
    {
     "name": "stdout",
     "output_type": "stream",
     "text": [
      "epoch 17 | loss: 0.17566 | train_mse: 0.32212 | train_mae: 0.41035 |  0:00:03s\n",
      "epoch 18 | loss: 0.23594 | train_mse: 0.29263 | train_mae: 0.38386 |  0:00:03s\n"
     ]
    },
    {
     "name": "stdout",
     "output_type": "stream",
     "text": [
      "epoch 19 | loss: 0.1793  | train_mse: 0.32959 | train_mae: 0.42144 |  0:00:03s\n",
      "epoch 20 | loss: 0.16953 | train_mse: 0.50484 | train_mae: 0.53568 |  0:00:03s\n",
      "epoch 21 | loss: 0.14728 | train_mse: 0.44222 | train_mae: 0.48391 |  0:00:04s\n"
     ]
    },
    {
     "name": "stdout",
     "output_type": "stream",
     "text": [
      "epoch 22 | loss: 0.24986 | train_mse: 0.57679 | train_mae: 0.52168 |  0:00:04s\n",
      "epoch 23 | loss: 0.12478 | train_mse: 0.47072 | train_mae: 0.48169 |  0:00:04s\n",
      "epoch 24 | loss: 0.21751 | train_mse: 0.42542 | train_mae: 0.47664 |  0:00:04s\n"
     ]
    },
    {
     "name": "stdout",
     "output_type": "stream",
     "text": [
      "epoch 25 | loss: 0.12538 | train_mse: 0.35647 | train_mae: 0.44997 |  0:00:04s\n",
      "epoch 26 | loss: 0.18927 | train_mse: 0.27828 | train_mae: 0.3962  |  0:00:04s\n"
     ]
    },
    {
     "name": "stdout",
     "output_type": "stream",
     "text": [
      "epoch 27 | loss: 0.23032 | train_mse: 0.30172 | train_mae: 0.40428 |  0:00:04s\n",
      "epoch 28 | loss: 0.16983 | train_mse: 0.27417 | train_mae: 0.37462 |  0:00:04s\n"
     ]
    },
    {
     "name": "stdout",
     "output_type": "stream",
     "text": [
      "epoch 29 | loss: 0.32801 | train_mse: 0.31435 | train_mae: 0.402   |  0:00:04s\n",
      "epoch 30 | loss: 0.2683  | train_mse: 0.34748 | train_mae: 0.40223 |  0:00:05s\n",
      "epoch 31 | loss: 0.1898  | train_mse: 0.35844 | train_mae: 0.41256 |  0:00:05s\n"
     ]
    },
    {
     "name": "stdout",
     "output_type": "stream",
     "text": [
      "epoch 32 | loss: 0.12447 | train_mse: 0.21964 | train_mae: 0.3266  |  0:00:05s\n",
      "epoch 33 | loss: 0.20884 | train_mse: 0.1851  | train_mae: 0.29692 |  0:00:05s\n",
      "epoch 34 | loss: 0.14511 | train_mse: 0.13702 | train_mae: 0.2825  |  0:00:05s\n"
     ]
    },
    {
     "name": "stdout",
     "output_type": "stream",
     "text": [
      "epoch 35 | loss: 0.12443 | train_mse: 0.19466 | train_mae: 0.34048 |  0:00:05s\n",
      "epoch 36 | loss: 0.14382 | train_mse: 0.24823 | train_mae: 0.37553 |  0:00:05s\n",
      "epoch 37 | loss: 0.12826 | train_mse: 0.17013 | train_mae: 0.30361 |  0:00:05s\n"
     ]
    },
    {
     "name": "stdout",
     "output_type": "stream",
     "text": [
      "epoch 38 | loss: 0.28338 | train_mse: 0.17556 | train_mae: 0.29877 |  0:00:05s\n",
      "epoch 39 | loss: 0.1113  | train_mse: 0.16987 | train_mae: 0.2978  |  0:00:05s\n",
      "epoch 40 | loss: 0.10021 | train_mse: 0.15139 | train_mae: 0.28173 |  0:00:06s\n"
     ]
    },
    {
     "name": "stdout",
     "output_type": "stream",
     "text": [
      "epoch 41 | loss: 0.23752 | train_mse: 0.16995 | train_mae: 0.29722 |  0:00:06s\n",
      "epoch 42 | loss: 0.15446 | train_mse: 0.19536 | train_mae: 0.32035 |  0:00:06s\n",
      "epoch 43 | loss: 0.09185 | train_mse: 0.14451 | train_mae: 0.27923 |  0:00:06s\n"
     ]
    },
    {
     "name": "stdout",
     "output_type": "stream",
     "text": [
      "epoch 44 | loss: 0.12902 | train_mse: 0.10267 | train_mae: 0.24763 |  0:00:06s\n",
      "epoch 45 | loss: 0.1488  | train_mse: 0.10618 | train_mae: 0.2452  |  0:00:06s\n"
     ]
    },
    {
     "name": "stdout",
     "output_type": "stream",
     "text": [
      "epoch 46 | loss: 0.21809 | train_mse: 0.16697 | train_mae: 0.27882 |  0:00:06s\n",
      "epoch 47 | loss: 0.11183 | train_mse: 0.14653 | train_mae: 0.27576 |  0:00:06s\n"
     ]
    },
    {
     "name": "stdout",
     "output_type": "stream",
     "text": [
      "epoch 48 | loss: 0.15402 | train_mse: 0.25801 | train_mae: 0.36237 |  0:00:06s\n",
      "epoch 49 | loss: 0.12057 | train_mse: 0.31183 | train_mae: 0.38581 |  0:00:07s\n",
      "epoch 50 | loss: 0.22013 | train_mse: 0.29151 | train_mae: 0.37287 |  0:00:07s\n"
     ]
    },
    {
     "name": "stdout",
     "output_type": "stream",
     "text": [
      "epoch 51 | loss: 0.33382 | train_mse: 0.16094 | train_mae: 0.28706 |  0:00:07s\n",
      "epoch 52 | loss: 0.20424 | train_mse: 0.14551 | train_mae: 0.25502 |  0:00:07s\n",
      "epoch 53 | loss: 0.2364  | train_mse: 0.11872 | train_mae: 0.26342 |  0:00:07s\n"
     ]
    },
    {
     "name": "stdout",
     "output_type": "stream",
     "text": [
      "epoch 54 | loss: 0.29686 | train_mse: 0.15179 | train_mae: 0.29545 |  0:00:07s\n",
      "epoch 55 | loss: 0.20143 | train_mse: 0.13317 | train_mae: 0.27415 |  0:00:07s\n",
      "epoch 56 | loss: 0.16048 | train_mse: 0.10421 | train_mae: 0.25251 |  0:00:07s\n"
     ]
    },
    {
     "name": "stdout",
     "output_type": "stream",
     "text": [
      "epoch 57 | loss: 0.13128 | train_mse: 0.09605 | train_mae: 0.24657 |  0:00:07s\n",
      "epoch 58 | loss: 0.18519 | train_mse: 0.13495 | train_mae: 0.27918 |  0:00:07s\n",
      "epoch 59 | loss: 0.19235 | train_mse: 0.21234 | train_mae: 0.31977 |  0:00:07s\n"
     ]
    },
    {
     "name": "stdout",
     "output_type": "stream",
     "text": [
      "epoch 60 | loss: 0.25977 | train_mse: 0.20115 | train_mae: 0.29401 |  0:00:08s\n",
      "epoch 61 | loss: 0.14185 | train_mse: 0.14968 | train_mae: 0.27649 |  0:00:08s\n",
      "epoch 62 | loss: 0.15442 | train_mse: 0.10234 | train_mae: 0.24529 |  0:00:08s\n"
     ]
    },
    {
     "name": "stdout",
     "output_type": "stream",
     "text": [
      "epoch 63 | loss: 0.11355 | train_mse: 0.11162 | train_mae: 0.24982 |  0:00:08s\n",
      "epoch 64 | loss: 0.1875  | train_mse: 0.14558 | train_mae: 0.3009  |  0:00:08s\n",
      "epoch 65 | loss: 0.11678 | train_mse: 0.13186 | train_mae: 0.27382 |  0:00:08s\n"
     ]
    },
    {
     "name": "stdout",
     "output_type": "stream",
     "text": [
      "epoch 66 | loss: 0.17332 | train_mse: 0.13996 | train_mae: 0.2664  |  0:00:08s\n",
      "epoch 67 | loss: 0.08753 | train_mse: 0.28711 | train_mae: 0.35416 |  0:00:08s\n",
      "epoch 68 | loss: 0.16393 | train_mse: 0.74561 | train_mae: 0.47598 |  0:00:08s\n"
     ]
    },
    {
     "name": "stdout",
     "output_type": "stream",
     "text": [
      "epoch 69 | loss: 0.0938  | train_mse: 1.17518 | train_mae: 0.58228 |  0:00:08s\n",
      "epoch 70 | loss: 0.21984 | train_mse: 0.89957 | train_mae: 0.52338 |  0:00:08s\n",
      "epoch 71 | loss: 0.2279  | train_mse: 0.66423 | train_mae: 0.46616 |  0:00:09s\n"
     ]
    },
    {
     "name": "stdout",
     "output_type": "stream",
     "text": [
      "epoch 72 | loss: 0.19576 | train_mse: 0.18334 | train_mae: 0.30692 |  0:00:09s\n",
      "epoch 73 | loss: 0.12715 | train_mse: 0.09881 | train_mae: 0.24148 |  0:00:09s\n",
      "epoch 74 | loss: 0.1229  | train_mse: 0.13066 | train_mae: 0.28571 |  0:00:09s\n"
     ]
    },
    {
     "name": "stdout",
     "output_type": "stream",
     "text": [
      "epoch 75 | loss: 0.12218 | train_mse: 0.14536 | train_mae: 0.29835 |  0:00:09s\n",
      "epoch 76 | loss: 0.14565 | train_mse: 0.10669 | train_mae: 0.25112 |  0:00:09s\n",
      "epoch 77 | loss: 0.13531 | train_mse: 0.07473 | train_mae: 0.20913 |  0:00:09s\n"
     ]
    },
    {
     "name": "stdout",
     "output_type": "stream",
     "text": [
      "epoch 78 | loss: 0.12732 | train_mse: 0.06486 | train_mae: 0.19604 |  0:00:09s\n",
      "epoch 79 | loss: 0.26783 | train_mse: 0.05776 | train_mae: 0.18309 |  0:00:09s\n",
      "epoch 80 | loss: 0.10797 | train_mse: 0.0713  | train_mae: 0.20348 |  0:00:09s\n"
     ]
    },
    {
     "name": "stdout",
     "output_type": "stream",
     "text": [
      "epoch 81 | loss: 0.08306 | train_mse: 0.07939 | train_mae: 0.20983 |  0:00:09s\n",
      "epoch 82 | loss: 0.16781 | train_mse: 0.07941 | train_mae: 0.20637 |  0:00:10s\n",
      "epoch 83 | loss: 0.06268 | train_mse: 0.06821 | train_mae: 0.18952 |  0:00:10s\n"
     ]
    },
    {
     "name": "stdout",
     "output_type": "stream",
     "text": [
      "epoch 84 | loss: 0.13316 | train_mse: 0.06137 | train_mae: 0.18587 |  0:00:10s\n",
      "epoch 85 | loss: 0.31828 | train_mse: 0.07043 | train_mae: 0.20447 |  0:00:10s\n"
     ]
    },
    {
     "name": "stdout",
     "output_type": "stream",
     "text": [
      "epoch 86 | loss: 0.10632 | train_mse: 0.07944 | train_mae: 0.21429 |  0:00:10s\n",
      "epoch 87 | loss: 0.11134 | train_mse: 0.08089 | train_mae: 0.21586 |  0:00:10s\n"
     ]
    },
    {
     "name": "stdout",
     "output_type": "stream",
     "text": [
      "epoch 88 | loss: 0.13043 | train_mse: 0.08259 | train_mae: 0.212   |  0:00:10s\n",
      "epoch 89 | loss: 0.11808 | train_mse: 0.07999 | train_mae: 0.19753 |  0:00:10s\n"
     ]
    },
    {
     "name": "stdout",
     "output_type": "stream",
     "text": [
      "epoch 90 | loss: 0.23614 | train_mse: 0.08003 | train_mae: 0.20564 |  0:00:11s\n",
      "epoch 91 | loss: 0.11144 | train_mse: 0.08847 | train_mae: 0.2254  |  0:00:11s\n",
      "epoch 92 | loss: 0.1041  | train_mse: 0.08494 | train_mae: 0.2186  |  0:00:11s\n"
     ]
    },
    {
     "name": "stdout",
     "output_type": "stream",
     "text": [
      "epoch 93 | loss: 0.10386 | train_mse: 0.08937 | train_mae: 0.21618 |  0:00:11s\n",
      "epoch 94 | loss: 0.09128 | train_mse: 0.08558 | train_mae: 0.2124  |  0:00:11s\n"
     ]
    },
    {
     "name": "stdout",
     "output_type": "stream",
     "text": [
      "epoch 95 | loss: 0.23438 | train_mse: 0.08947 | train_mae: 0.20979 |  0:00:11s\n",
      "epoch 96 | loss: 0.09031 | train_mse: 0.10264 | train_mae: 0.22071 |  0:00:11s\n",
      "epoch 97 | loss: 0.09748 | train_mse: 0.10461 | train_mae: 0.23268 |  0:00:11s\n"
     ]
    },
    {
     "name": "stdout",
     "output_type": "stream",
     "text": [
      "epoch 98 | loss: 0.10187 | train_mse: 0.10067 | train_mae: 0.22956 |  0:00:11s\n",
      "epoch 99 | loss: 0.21096 | train_mse: 0.12481 | train_mae: 0.25508 |  0:00:11s\n",
      "epoch 100| loss: 0.12109 | train_mse: 0.12947 | train_mae: 0.24739 |  0:00:12s\n"
     ]
    },
    {
     "name": "stdout",
     "output_type": "stream",
     "text": [
      "epoch 101| loss: 0.10785 | train_mse: 0.16484 | train_mae: 0.26342 |  0:00:12s\n",
      "epoch 102| loss: 0.23566 | train_mse: 0.20065 | train_mae: 0.29157 |  0:00:12s\n",
      "epoch 103| loss: 0.10532 | train_mse: 0.2949  | train_mae: 0.3443  |  0:00:12s\n"
     ]
    },
    {
     "name": "stdout",
     "output_type": "stream",
     "text": [
      "epoch 104| loss: 0.14601 | train_mse: 0.32062 | train_mae: 0.36267 |  0:00:12s\n",
      "epoch 105| loss: 0.09173 | train_mse: 0.34715 | train_mae: 0.36917 |  0:00:12s\n",
      "epoch 106| loss: 0.09959 | train_mse: 0.31536 | train_mae: 0.33982 |  0:00:12s\n"
     ]
    },
    {
     "name": "stdout",
     "output_type": "stream",
     "text": [
      "epoch 107| loss: 0.08455 | train_mse: 0.31509 | train_mae: 0.33861 |  0:00:12s\n",
      "epoch 108| loss: 0.11212 | train_mse: 0.31153 | train_mae: 0.34192 |  0:00:12s\n",
      "epoch 109| loss: 0.09329 | train_mse: 0.30382 | train_mae: 0.33993 |  0:00:12s\n"
     ]
    },
    {
     "name": "stdout",
     "output_type": "stream",
     "text": [
      "epoch 110| loss: 0.17084 | train_mse: 0.3339  | train_mae: 0.36982 |  0:00:13s\n",
      "epoch 111| loss: 0.14898 | train_mse: 0.35978 | train_mae: 0.37137 |  0:00:13s\n",
      "epoch 112| loss: 0.10332 | train_mse: 0.2722  | train_mae: 0.3369  |  0:00:13s\n"
     ]
    },
    {
     "name": "stdout",
     "output_type": "stream",
     "text": [
      "epoch 113| loss: 0.07777 | train_mse: 0.17055 | train_mae: 0.29    |  0:00:13s\n"
     ]
    },
    {
     "name": "stdout",
     "output_type": "stream",
     "text": [
      "epoch 114| loss: 0.08753 | train_mse: 0.09104 | train_mae: 0.22418 |  0:00:13s\n",
      "epoch 115| loss: 0.10122 | train_mse: 0.08647 | train_mae: 0.21575 |  0:00:13s\n"
     ]
    },
    {
     "name": "stdout",
     "output_type": "stream",
     "text": [
      "epoch 116| loss: 0.08023 | train_mse: 0.09827 | train_mae: 0.23048 |  0:00:13s\n",
      "epoch 117| loss: 0.09727 | train_mse: 0.14598 | train_mae: 0.25567 |  0:00:13s\n",
      "epoch 118| loss: 0.18637 | train_mse: 0.17115 | train_mae: 0.26727 |  0:00:14s\n"
     ]
    },
    {
     "name": "stdout",
     "output_type": "stream",
     "text": [
      "epoch 119| loss: 0.1478  | train_mse: 0.21368 | train_mae: 0.28828 |  0:00:14s\n"
     ]
    },
    {
     "name": "stdout",
     "output_type": "stream",
     "text": [
      "epoch 120| loss: 0.18271 | train_mse: 0.24506 | train_mae: 0.29572 |  0:00:14s\n"
     ]
    },
    {
     "name": "stdout",
     "output_type": "stream",
     "text": [
      "epoch 121| loss: 0.17704 | train_mse: 0.25641 | train_mae: 0.31322 |  0:00:14s\n"
     ]
    },
    {
     "name": "stdout",
     "output_type": "stream",
     "text": [
      "epoch 122| loss: 0.13554 | train_mse: 0.19926 | train_mae: 0.27509 |  0:00:14s\n",
      "epoch 123| loss: 0.15175 | train_mse: 0.14027 | train_mae: 0.24174 |  0:00:14s\n"
     ]
    },
    {
     "name": "stdout",
     "output_type": "stream",
     "text": [
      "epoch 124| loss: 0.07845 | train_mse: 0.11684 | train_mae: 0.22499 |  0:00:15s\n",
      "epoch 125| loss: 0.07169 | train_mse: 0.09387 | train_mae: 0.20403 |  0:00:15s\n"
     ]
    },
    {
     "name": "stdout",
     "output_type": "stream",
     "text": [
      "epoch 126| loss: 0.11821 | train_mse: 0.07724 | train_mae: 0.1864  |  0:00:15s\n",
      "epoch 127| loss: 0.08564 | train_mse: 0.0687  | train_mae: 0.18105 |  0:00:15s\n"
     ]
    },
    {
     "name": "stdout",
     "output_type": "stream",
     "text": [
      "epoch 128| loss: 0.15848 | train_mse: 0.06805 | train_mae: 0.18638 |  0:00:15s\n",
      "epoch 129| loss: 0.1589  | train_mse: 0.08939 | train_mae: 0.21002 |  0:00:15s\n"
     ]
    },
    {
     "name": "stdout",
     "output_type": "stream",
     "text": [
      "epoch 130| loss: 0.15722 | train_mse: 0.09573 | train_mae: 0.21059 |  0:00:15s\n",
      "epoch 131| loss: 0.11361 | train_mse: 0.10853 | train_mae: 0.22582 |  0:00:16s\n"
     ]
    },
    {
     "name": "stdout",
     "output_type": "stream",
     "text": [
      "epoch 132| loss: 0.14631 | train_mse: 0.11588 | train_mae: 0.23083 |  0:00:16s\n",
      "epoch 133| loss: 0.10796 | train_mse: 0.11273 | train_mae: 0.22174 |  0:00:16s\n",
      "epoch 134| loss: 0.10613 | train_mse: 0.15586 | train_mae: 0.27092 |  0:00:16s\n"
     ]
    },
    {
     "name": "stdout",
     "output_type": "stream",
     "text": [
      "epoch 135| loss: 0.0997  | train_mse: 0.1902  | train_mae: 0.2813  |  0:00:16s\n",
      "epoch 136| loss: 0.08769 | train_mse: 0.23208 | train_mae: 0.29316 |  0:00:16s\n"
     ]
    },
    {
     "name": "stdout",
     "output_type": "stream",
     "text": [
      "epoch 137| loss: 0.08541 | train_mse: 0.20098 | train_mae: 0.28249 |  0:00:16s\n",
      "epoch 138| loss: 0.09793 | train_mse: 0.20128 | train_mae: 0.28265 |  0:00:16s\n",
      "epoch 139| loss: 0.07761 | train_mse: 0.20298 | train_mae: 0.28182 |  0:00:16s\n"
     ]
    },
    {
     "name": "stdout",
     "output_type": "stream",
     "text": [
      "epoch 140| loss: 0.0967  | train_mse: 0.22593 | train_mae: 0.29934 |  0:00:16s\n",
      "epoch 141| loss: 0.13645 | train_mse: 0.21974 | train_mae: 0.29189 |  0:00:17s\n",
      "epoch 142| loss: 0.14404 | train_mse: 0.16049 | train_mae: 0.26854 |  0:00:17s\n"
     ]
    },
    {
     "name": "stdout",
     "output_type": "stream",
     "text": [
      "epoch 143| loss: 0.0784  | train_mse: 0.11348 | train_mae: 0.24264 |  0:00:17s\n",
      "epoch 144| loss: 0.24757 | train_mse: 0.07417 | train_mae: 0.2053  |  0:00:17s\n",
      "epoch 145| loss: 0.10143 | train_mse: 0.06815 | train_mae: 0.19297 |  0:00:17s\n"
     ]
    },
    {
     "name": "stdout",
     "output_type": "stream",
     "text": [
      "epoch 146| loss: 0.08777 | train_mse: 0.06827 | train_mae: 0.19983 |  0:00:17s\n",
      "epoch 147| loss: 0.15422 | train_mse: 0.07211 | train_mae: 0.21529 |  0:00:17s\n",
      "epoch 148| loss: 0.07965 | train_mse: 0.0876  | train_mae: 0.23199 |  0:00:17s\n"
     ]
    },
    {
     "name": "stdout",
     "output_type": "stream",
     "text": [
      "epoch 149| loss: 0.09685 | train_mse: 0.09846 | train_mae: 0.2386  |  0:00:17s\n",
      "epoch 150| loss: 0.07517 | train_mse: 0.10435 | train_mae: 0.24204 |  0:00:17s\n",
      "epoch 151| loss: 0.06657 | train_mse: 0.0847  | train_mae: 0.22357 |  0:00:17s\n"
     ]
    },
    {
     "name": "stdout",
     "output_type": "stream",
     "text": [
      "epoch 152| loss: 0.23406 | train_mse: 0.07237 | train_mae: 0.21048 |  0:00:18s\n",
      "epoch 153| loss: 0.15079 | train_mse: 0.06129 | train_mae: 0.19221 |  0:00:18s\n",
      "epoch 154| loss: 0.12636 | train_mse: 0.06019 | train_mae: 0.18347 |  0:00:18s\n"
     ]
    },
    {
     "name": "stdout",
     "output_type": "stream",
     "text": [
      "epoch 155| loss: 0.19974 | train_mse: 0.05892 | train_mae: 0.18449 |  0:00:18s\n",
      "epoch 156| loss: 0.13516 | train_mse: 0.05955 | train_mae: 0.19032 |  0:00:18s\n",
      "epoch 157| loss: 0.06492 | train_mse: 0.06207 | train_mae: 0.19162 |  0:00:18s\n"
     ]
    },
    {
     "name": "stdout",
     "output_type": "stream",
     "text": [
      "epoch 158| loss: 0.08996 | train_mse: 0.05412 | train_mae: 0.17314 |  0:00:18s\n",
      "epoch 159| loss: 0.09765 | train_mse: 0.06161 | train_mae: 0.17839 |  0:00:18s\n"
     ]
    },
    {
     "name": "stdout",
     "output_type": "stream",
     "text": [
      "epoch 160| loss: 0.20083 | train_mse: 0.0684  | train_mae: 0.18869 |  0:00:18s\n",
      "epoch 161| loss: 0.07603 | train_mse: 0.08351 | train_mae: 0.20943 |  0:00:18s\n",
      "epoch 162| loss: 0.08314 | train_mse: 0.08202 | train_mae: 0.20927 |  0:00:19s\n"
     ]
    },
    {
     "name": "stdout",
     "output_type": "stream",
     "text": [
      "epoch 163| loss: 0.06054 | train_mse: 0.08157 | train_mae: 0.20025 |  0:00:19s\n",
      "epoch 164| loss: 0.11394 | train_mse: 0.08623 | train_mae: 0.20433 |  0:00:19s\n",
      "epoch 165| loss: 0.06416 | train_mse: 0.0707  | train_mae: 0.19401 |  0:00:19s\n"
     ]
    },
    {
     "name": "stdout",
     "output_type": "stream",
     "text": [
      "epoch 166| loss: 0.09411 | train_mse: 0.06139 | train_mae: 0.18326 |  0:00:19s\n",
      "epoch 167| loss: 0.14012 | train_mse: 0.05962 | train_mae: 0.17811 |  0:00:19s\n",
      "epoch 168| loss: 0.0783  | train_mse: 0.06292 | train_mae: 0.18659 |  0:00:19s\n"
     ]
    },
    {
     "name": "stdout",
     "output_type": "stream",
     "text": [
      "epoch 169| loss: 0.09754 | train_mse: 0.06555 | train_mae: 0.18535 |  0:00:19s\n",
      "epoch 170| loss: 0.09881 | train_mse: 0.08429 | train_mae: 0.19684 |  0:00:19s\n"
     ]
    },
    {
     "name": "stdout",
     "output_type": "stream",
     "text": [
      "epoch 171| loss: 0.12667 | train_mse: 0.09832 | train_mae: 0.21784 |  0:00:19s\n",
      "epoch 172| loss: 0.14609 | train_mse: 0.14406 | train_mae: 0.25589 |  0:00:19s\n",
      "epoch 173| loss: 0.10382 | train_mse: 0.19432 | train_mae: 0.28153 |  0:00:20s\n"
     ]
    },
    {
     "name": "stdout",
     "output_type": "stream",
     "text": [
      "epoch 174| loss: 0.10688 | train_mse: 0.21345 | train_mae: 0.28473 |  0:00:20s\n",
      "epoch 175| loss: 0.10592 | train_mse: 0.27654 | train_mae: 0.31289 |  0:00:20s\n",
      "epoch 176| loss: 0.10789 | train_mse: 0.26336 | train_mae: 0.31137 |  0:00:20s\n"
     ]
    },
    {
     "name": "stdout",
     "output_type": "stream",
     "text": [
      "epoch 177| loss: 0.15242 | train_mse: 0.12109 | train_mae: 0.2408  |  0:00:20s\n",
      "epoch 178| loss: 0.10796 | train_mse: 0.07643 | train_mae: 0.20308 |  0:00:20s\n",
      "epoch 179| loss: 0.12344 | train_mse: 0.06398 | train_mae: 0.1963  |  0:00:20s\n"
     ]
    },
    {
     "name": "stdout",
     "output_type": "stream",
     "text": [
      "epoch 180| loss: 0.16184 | train_mse: 0.06607 | train_mae: 0.20263 |  0:00:20s\n",
      "epoch 181| loss: 0.09819 | train_mse: 0.07246 | train_mae: 0.20899 |  0:00:20s\n"
     ]
    },
    {
     "name": "stdout",
     "output_type": "stream",
     "text": [
      "epoch 182| loss: 0.13772 | train_mse: 0.08756 | train_mae: 0.22337 |  0:00:20s\n",
      "epoch 183| loss: 0.10929 | train_mse: 0.08202 | train_mae: 0.22449 |  0:00:21s\n",
      "epoch 184| loss: 0.14381 | train_mse: 0.09713 | train_mae: 0.24629 |  0:00:21s\n"
     ]
    },
    {
     "name": "stdout",
     "output_type": "stream",
     "text": [
      "epoch 185| loss: 0.112   | train_mse: 0.08743 | train_mae: 0.22895 |  0:00:21s\n",
      "epoch 186| loss: 0.08122 | train_mse: 0.07705 | train_mae: 0.20911 |  0:00:21s\n",
      "epoch 187| loss: 0.08683 | train_mse: 0.07714 | train_mae: 0.20937 |  0:00:21s\n"
     ]
    },
    {
     "name": "stdout",
     "output_type": "stream",
     "text": [
      "epoch 188| loss: 0.14245 | train_mse: 0.07256 | train_mae: 0.20514 |  0:00:21s\n",
      "epoch 189| loss: 0.09811 | train_mse: 0.07756 | train_mae: 0.21474 |  0:00:21s\n",
      "epoch 190| loss: 0.21831 | train_mse: 0.07524 | train_mae: 0.21106 |  0:00:21s\n"
     ]
    },
    {
     "name": "stdout",
     "output_type": "stream",
     "text": [
      "epoch 191| loss: 0.09382 | train_mse: 0.06579 | train_mae: 0.19829 |  0:00:21s\n",
      "epoch 192| loss: 0.08042 | train_mse: 0.06713 | train_mae: 0.19914 |  0:00:21s\n"
     ]
    },
    {
     "name": "stdout",
     "output_type": "stream",
     "text": [
      "epoch 193| loss: 0.08521 | train_mse: 0.06237 | train_mae: 0.19441 |  0:00:21s\n",
      "epoch 194| loss: 0.09131 | train_mse: 0.11302 | train_mae: 0.22552 |  0:00:22s\n",
      "epoch 195| loss: 0.11991 | train_mse: 0.11798 | train_mae: 0.23306 |  0:00:22s\n"
     ]
    },
    {
     "name": "stdout",
     "output_type": "stream",
     "text": [
      "epoch 196| loss: 0.13678 | train_mse: 0.09067 | train_mae: 0.22666 |  0:00:22s\n",
      "epoch 197| loss: 0.19785 | train_mse: 0.09885 | train_mae: 0.23288 |  0:00:22s\n"
     ]
    },
    {
     "name": "stdout",
     "output_type": "stream",
     "text": [
      "epoch 198| loss: 0.16249 | train_mse: 0.10134 | train_mae: 0.23782 |  0:00:22s\n",
      "epoch 199| loss: 0.12312 | train_mse: 0.12066 | train_mae: 0.25202 |  0:00:22s\n"
     ]
    },
    {
     "name": "stdout",
     "output_type": "stream",
     "text": [
      "epoch 200| loss: 0.14132 | train_mse: 0.12444 | train_mae: 0.25619 |  0:00:22s\n"
     ]
    },
    {
     "name": "stdout",
     "output_type": "stream",
     "text": [
      "epoch 201| loss: 0.09757 | train_mse: 0.11572 | train_mae: 0.2417  |  0:00:23s\n",
      "epoch 202| loss: 0.09692 | train_mse: 0.09561 | train_mae: 0.22234 |  0:00:23s\n"
     ]
    },
    {
     "name": "stdout",
     "output_type": "stream",
     "text": [
      "epoch 203| loss: 0.08045 | train_mse: 0.10541 | train_mae: 0.23903 |  0:00:23s\n",
      "epoch 204| loss: 0.08584 | train_mse: 0.1426  | train_mae: 0.26185 |  0:00:23s\n",
      "epoch 205| loss: 0.09362 | train_mse: 0.1709  | train_mae: 0.28114 |  0:00:23s\n"
     ]
    },
    {
     "name": "stdout",
     "output_type": "stream",
     "text": [
      "epoch 206| loss: 0.15832 | train_mse: 0.18743 | train_mae: 0.29609 |  0:00:23s\n",
      "epoch 207| loss: 0.09869 | train_mse: 0.14692 | train_mae: 0.27157 |  0:00:23s\n"
     ]
    },
    {
     "name": "stdout",
     "output_type": "stream",
     "text": [
      "epoch 208| loss: 0.3153  | train_mse: 0.09421 | train_mae: 0.2359  |  0:00:23s\n",
      "\n",
      "Early stopping occurred at epoch 208 with best_epoch = 158 and best_train_mae = 0.17314\n",
      "Best weights from best epoch are automatically used!\n",
      "BEST VALID SCORE FOR dataset : 0.17313908031154063\n",
      "FINAL TEST SCORE FOR dataset: 0.5072355678986937\n",
      "{'loss': [0.9779739618301392, 0.6123237848281861, 0.3416709125041962, 0.34025269746780396, 0.43597936630249023, 0.42705337405204774, 0.5630305528640747, 0.5051677823066711, 0.3177665889263153, 0.23964562714099885, 0.23703102469444276, 0.18979164958000183, 0.19025604724884032, 0.18399249613285065, 0.3052403926849365, 0.1547154039144516, 0.3149806797504425, 0.17566381692886351, 0.23593835085630416, 0.17929548323154448, 0.16953253448009492, 0.14728423357009887, 0.24986459016799928, 0.12477647587656975, 0.21750952005386354, 0.125376895070076, 0.18926530480384826, 0.23031550645828247, 0.1698259651660919, 0.3280120551586151, 0.26830427944660185, 0.18979817628860474, 0.12447180449962617, 0.20884041786193847, 0.14510760307312012, 0.12442661076784134, 0.14382118433713914, 0.12825736105442048, 0.2833803668618202, 0.11130214631557464, 0.10020605325698853, 0.23751526474952697, 0.15445773005485536, 0.09184916019439697, 0.12901640236377715, 0.14880468249320983, 0.21808613538742067, 0.11183100938796997, 0.1540172129869461, 0.1205731451511383, 0.22012822329998016, 0.3338221460580826, 0.20423596799373628, 0.23639996647834777, 0.2968649297952652, 0.20142955780029298, 0.1604827344417572, 0.13128239661455154, 0.18518785238265992, 0.19235268533229827, 0.2597660005092621, 0.14184993207454683, 0.15442428588867188, 0.11354841589927674, 0.18750391602516175, 0.11678180545568466, 0.17332123219966888, 0.08753443956375122, 0.1639283537864685, 0.09380363821983337, 0.21983971893787385, 0.22790370881557465, 0.19576052725315093, 0.12714763283729552, 0.12289838492870331, 0.12217664569616318, 0.1456533342599869, 0.13531113564968109, 0.1273185968399048, 0.2678261697292328, 0.10796770751476288, 0.08305921703577042, 0.1678088754415512, 0.06267939060926438, 0.13316263556480407, 0.3182795286178589, 0.10632123947143554, 0.11134149134159088, 0.1304321050643921, 0.11808223575353623, 0.2361411988735199, 0.11143868863582611, 0.10410203039646149, 0.10385949164628983, 0.09127955585718155, 0.23437762558460234, 0.0903081700205803, 0.09747684895992278, 0.10186945199966431, 0.21095600724220276, 0.12108885943889618, 0.10784624367952347, 0.23566314280033113, 0.10531546175479889, 0.14600614607334136, 0.09173002243041992, 0.09958990216255188, 0.08454570025205613, 0.11211620569229126, 0.09329121857881546, 0.17083679437637328, 0.14897843897342683, 0.10332357585430145, 0.07776954621076584, 0.087526935338974, 0.10121809244155884, 0.08023091703653336, 0.09727365076541901, 0.1863737002015114, 0.14780075401067733, 0.1827149510383606, 0.17704343497753144, 0.1355353206396103, 0.15174802988767624, 0.07844863086938858, 0.07169055491685868, 0.1182088941335678, 0.08563556522130966, 0.15848415791988374, 0.15889617204666137, 0.1572244495153427, 0.11360864341259003, 0.14630746245384216, 0.10795903503894806, 0.10613196790218353, 0.09970094114542008, 0.08769355863332748, 0.08540906757116318, 0.09793027117848396, 0.07761407792568206, 0.09670155048370362, 0.13645039498806, 0.14403932690620422, 0.07840147614479065, 0.24756890535354614, 0.10143179297447205, 0.08777412474155426, 0.15421657562255858, 0.07964571863412857, 0.09685348570346833, 0.07516608089208603, 0.06657008677721024, 0.23405753672122956, 0.1507890522480011, 0.12635818123817444, 0.19974353313446044, 0.13516097664833068, 0.06491530090570449, 0.08996092975139618, 0.09765236303210259, 0.2008342742919922, 0.07602675780653953, 0.08313945531845093, 0.06053935289382935, 0.11393529176712036, 0.06416053771972656, 0.09411044418811798, 0.14011675864458084, 0.07829953134059905, 0.09753555357456208, 0.09880769401788711, 0.12667220681905747, 0.146090567111969, 0.10381743013858795, 0.1068809300661087, 0.10591746717691422, 0.10788727551698685, 0.15241772532463074, 0.10796391069889069, 0.12344201803207397, 0.16183775365352632, 0.0981854408979416, 0.1377151533961296, 0.10928694605827331, 0.14380595982074737, 0.11200369894504547, 0.08121704682707787, 0.08682617172598839, 0.14245301485061646, 0.09811319559812545, 0.21830939948558808, 0.09381716251373291, 0.08042432367801666, 0.08521003425121307, 0.09130884110927581, 0.11991003751754761, 0.13678373396396637, 0.1978527456521988, 0.1624888151884079, 0.1231154441833496, 0.14131747484207152, 0.09757137894630433, 0.09692220389842987, 0.08044805228710175, 0.08584498912096024, 0.0936214029788971, 0.1583232432603836, 0.0986909180879593, 0.3153020143508911], 'lr': [0.02, 0.02, 0.02, 0.02, 0.02, 0.02, 0.02, 0.02, 0.02, 0.02, 0.02, 0.02, 0.02, 0.02, 0.02, 0.02, 0.02, 0.02, 0.02, 0.02, 0.02, 0.02, 0.02, 0.02, 0.02, 0.02, 0.02, 0.02, 0.02, 0.02, 0.02, 0.02, 0.02, 0.02, 0.02, 0.02, 0.02, 0.02, 0.02, 0.02, 0.02, 0.02, 0.02, 0.02, 0.02, 0.02, 0.02, 0.02, 0.02, 0.02, 0.02, 0.02, 0.02, 0.02, 0.02, 0.02, 0.02, 0.02, 0.02, 0.02, 0.02, 0.02, 0.02, 0.02, 0.02, 0.02, 0.02, 0.02, 0.02, 0.02, 0.02, 0.02, 0.02, 0.02, 0.02, 0.02, 0.02, 0.02, 0.02, 0.02, 0.02, 0.02, 0.02, 0.02, 0.02, 0.02, 0.02, 0.02, 0.02, 0.02, 0.02, 0.02, 0.02, 0.02, 0.02, 0.02, 0.02, 0.02, 0.02, 0.02, 0.02, 0.02, 0.02, 0.02, 0.02, 0.02, 0.02, 0.02, 0.02, 0.02, 0.02, 0.02, 0.02, 0.02, 0.02, 0.02, 0.02, 0.02, 0.02, 0.02, 0.02, 0.02, 0.02, 0.02, 0.02, 0.02, 0.02, 0.02, 0.02, 0.02, 0.02, 0.02, 0.02, 0.02, 0.02, 0.02, 0.02, 0.02, 0.02, 0.02, 0.02, 0.02, 0.02, 0.02, 0.02, 0.02, 0.02, 0.02, 0.02, 0.02, 0.02, 0.02, 0.02, 0.02, 0.02, 0.02, 0.02, 0.02, 0.02, 0.02, 0.02, 0.02, 0.02, 0.02, 0.02, 0.02, 0.02, 0.02, 0.02, 0.02, 0.02, 0.02, 0.02, 0.02, 0.02, 0.02, 0.02, 0.02, 0.02, 0.02, 0.02, 0.02, 0.02, 0.02, 0.02, 0.02, 0.02, 0.02, 0.02, 0.02, 0.02, 0.02, 0.02, 0.02, 0.02, 0.02, 0.02, 0.02, 0.02, 0.02, 0.02, 0.02, 0.02, 0.02, 0.02, 0.02, 0.02, 0.02, 0.02], 'train_mse': [5.8311382172950825, 4.363015992003325, 5.0314979472981936, 3.6001746000188852, 1.8966686946940805, 1.1442339307113711, 0.9667562438340868, 0.48158742350530465, 0.3478198651132483, 0.3807812354013637, 0.6074252052209002, 0.591264615046534, 0.5268195066545708, 0.5056213752994982, 0.3940777438404622, 0.37174799239850725, 0.4492210365503574, 0.3221164661947592, 0.29263419179838596, 0.3295942788759092, 0.5048447060187413, 0.4422161603439217, 0.57678778871897, 0.4707160229129421, 0.42542115674495173, 0.3564705931243731, 0.2782827480091138, 0.30172441225388913, 0.27417149867773577, 0.31434709678734646, 0.3474810136092468, 0.3584441528030003, 0.2196403511868501, 0.18510263626405396, 0.13702092286137393, 0.19466413864278193, 0.24822737601225092, 0.17012950106744204, 0.17555576633383466, 0.16987328936335527, 0.15138928641982896, 0.16995216701133686, 0.1953607324919799, 0.14450764598966578, 0.10266673011644682, 0.10617856332951266, 0.16696908771490288, 0.14653449955949455, 0.25801232230772086, 0.3118324527735104, 0.29150927913123204, 0.16093529472841056, 0.14550669219468107, 0.11871678614558814, 0.1517898803499531, 0.13316726257188763, 0.10420934097328768, 0.09604825356846765, 0.13494776690556576, 0.21233966789879663, 0.20114722129439994, 0.14968277048554873, 0.10233858184789706, 0.11162193703085022, 0.14558441387649387, 0.13185981195537103, 0.13995776982546068, 0.287109002299872, 0.7456119900160493, 1.1751826344417835, 0.8995663511330984, 0.6642284434636154, 0.1833388261499871, 0.09880637690296766, 0.13065506535229163, 0.14535559388170977, 0.10668973082317876, 0.07472675752094307, 0.06486063143767647, 0.057760058045133254, 0.07130319404551486, 0.07939024491979277, 0.0794106486494959, 0.06821437028415216, 0.06136545102529521, 0.070433198052576, 0.07944121016063707, 0.0808878169440947, 0.08258517600647215, 0.07998570545167391, 0.08003202726217913, 0.08847349649529562, 0.08493739901800193, 0.08937480538132032, 0.08558254082344643, 0.08947494129268731, 0.10263643879720381, 0.10460760111855834, 0.10067453541551333, 0.12481134144606494, 0.12947259255419935, 0.16483910442915542, 0.200650359576648, 0.2949045790893635, 0.3206188314417695, 0.3471489027829829, 0.3153593260021356, 0.31508883212971994, 0.3115296771056869, 0.3038174313978623, 0.33390175437399267, 0.35977810817627515, 0.27219762428343663, 0.17054642282401017, 0.09103959997003819, 0.08647147905979508, 0.09826874821721289, 0.14598275872228705, 0.17115216769483516, 0.2136787919667178, 0.24505550782918273, 0.25641038097952257, 0.19926483590600358, 0.1402725959522237, 0.11683529989458774, 0.09386887547964601, 0.0772430016325743, 0.06869641386034793, 0.06805046498051592, 0.0893909491921385, 0.09572820789451157, 0.10853285664159082, 0.11587687632003278, 0.11272503559356406, 0.1558617681092636, 0.1901959314415369, 0.23208463590030207, 0.20097714438436903, 0.20127745946352907, 0.20297936223029786, 0.2259322956657266, 0.21974403385670227, 0.16048786209977012, 0.1134795062934412, 0.07417391295471118, 0.06814976721744322, 0.06827396824650747, 0.07211362143066483, 0.08759837007236396, 0.09846088906160673, 0.10434690296683553, 0.08469904716791601, 0.07236857857349194, 0.061292761570811094, 0.060193589343281485, 0.058920363085451344, 0.059545563794004365, 0.06206537927687812, 0.054119536645342615, 0.06161096139678966, 0.06839566345329237, 0.08351261946434142, 0.08202407801117878, 0.08157301966477867, 0.08622818367897006, 0.07070465586576363, 0.06139299726449743, 0.05962494487547802, 0.0629173616169236, 0.0655499293999999, 0.08429015846208546, 0.0983211679320839, 0.14405667235296277, 0.1943168698311267, 0.21344729086746347, 0.27654270488789096, 0.26335689289568154, 0.1210857978781725, 0.07643252446411689, 0.06397592452418858, 0.066065698336782, 0.07246186471754432, 0.08756391317430387, 0.08201809979430427, 0.09712945812234391, 0.08743154900937147, 0.0770509471615223, 0.07714142984809556, 0.07256200277748233, 0.07756303215886245, 0.07524163542082925, 0.06578962513486335, 0.06713449629752902, 0.062372198922930513, 0.11301708206425003, 0.11797861634894916, 0.09067148299149241, 0.0988518436816356, 0.10133517509643267, 0.12066100683971577, 0.12443553698243077, 0.11571706410045124, 0.09561169085293478, 0.10541248929120925, 0.14259867236258647, 0.1709014023823768, 0.18743181892474617, 0.14691689349122344, 0.09421024198500813], 'train_mae': [1.7627734831054505, 1.5789459575542306, 1.6830523043615337, 1.3969557874099727, 0.9733351789295938, 0.7541364194488219, 0.7102459835014873, 0.5277993725874763, 0.46103710460888825, 0.4547073125091209, 0.5174535985970008, 0.4836691375407713, 0.510660195134324, 0.5184172993105793, 0.4564440490758551, 0.47116717400627817, 0.5221288792380918, 0.410354101443148, 0.38385712017124995, 0.4214417498352053, 0.535681085050674, 0.48391267985982295, 0.5216777927540904, 0.4816940920660908, 0.4766434628680797, 0.4499676783121445, 0.3961992023355818, 0.40428426011202756, 0.3746243887683125, 0.40200217883474376, 0.40223331570215776, 0.4125564320128425, 0.326597388240105, 0.2969238448642965, 0.28249564308412545, 0.3404830885827927, 0.37553460714005726, 0.3036135406130727, 0.2987675277419696, 0.29780368251234585, 0.2817312417563813, 0.2972188099656281, 0.32035053173480693, 0.27922570894663973, 0.2476263548619646, 0.24520236814147994, 0.2788204036368881, 0.2757601893862126, 0.3623678638821758, 0.3858106472906737, 0.37287173697964276, 0.2870647024288339, 0.25501915302201994, 0.26341806963137354, 0.29544633534131454, 0.2741479531161296, 0.25251277850871295, 0.2465692450821116, 0.2791756281754312, 0.3197691923781111, 0.29400586050171656, 0.2764862259112938, 0.24528818178367667, 0.24982484531113086, 0.3008978094362926, 0.2738247382795104, 0.26640241381177915, 0.35415780895199167, 0.4759772075421006, 0.5822818816565449, 0.5233761038211356, 0.46616338851149897, 0.30691750533510415, 0.2414765401939344, 0.2857131388319637, 0.29835395265778103, 0.25111650889937975, 0.20913486271170917, 0.196042581207669, 0.18309284615062282, 0.20347914643215254, 0.20983344998159864, 0.2063683064009097, 0.1895159564314052, 0.18587077482285516, 0.2044722150377681, 0.21429029039490385, 0.2158582829641702, 0.21200300325078283, 0.1975265366283392, 0.20563847656588444, 0.22539851921198756, 0.2186024076299394, 0.21617686313122597, 0.21239650573333738, 0.20978962998468428, 0.2207062227538284, 0.23268094440631448, 0.22955918694008712, 0.25508426888882957, 0.2473939887800889, 0.2634223837886669, 0.29156707926458947, 0.34429962416880144, 0.3626674430136452, 0.3691689437825305, 0.3398160111353397, 0.3386118286112977, 0.34191618642555544, 0.33992787888509834, 0.3698171871396826, 0.37137287669381164, 0.33689906320597196, 0.28999557448491425, 0.22418301250793587, 0.21575008619641953, 0.23047693168028244, 0.2556704515089966, 0.2672687731502286, 0.2882804465508639, 0.295723688723649, 0.3132186141392295, 0.2750894607778804, 0.2417369354767625, 0.2249887917338044, 0.20403198353714386, 0.18639618354347082, 0.18105380472213634, 0.18638127447784325, 0.2100226464882337, 0.21058647029549826, 0.22582218916833768, 0.23083457600011795, 0.22173515624690357, 0.27091990508441005, 0.2812960811039572, 0.29316051404971305, 0.2824880094443965, 0.2826470284188959, 0.2818174426696099, 0.29934214381098545, 0.2918931294372807, 0.2685374955153669, 0.24263885779602007, 0.20529856897061682, 0.19296594715876453, 0.19982949319699092, 0.21529252309940228, 0.2319934409587232, 0.2385966133785311, 0.24204226293109038, 0.22357358907588337, 0.210482317539939, 0.1922103568469838, 0.18346503471442152, 0.18448925431651225, 0.19032355896947162, 0.191621113788455, 0.17313908031154063, 0.1783893121243357, 0.18869363341067918, 0.20942983389504627, 0.20927492359368632, 0.20024506154187333, 0.20433459548810112, 0.1940078953551104, 0.18325771467057816, 0.17810520984993886, 0.18658508774755067, 0.18535081346265855, 0.19683919394927435, 0.2178436524240189, 0.25589321139324117, 0.2815321676873578, 0.28472958431879325, 0.3128937483509063, 0.3113683613201002, 0.24079778968349333, 0.20308251650918105, 0.19630149110893108, 0.20262576543091262, 0.20898799843757, 0.22336635151411235, 0.22449341292592012, 0.24628907243103307, 0.2289522065457005, 0.20910660876229015, 0.20936772171653137, 0.2051401843773996, 0.21473664179495078, 0.21106240863683906, 0.19829256953497404, 0.19913762683172703, 0.1944070416207318, 0.2255172301048633, 0.233062736014938, 0.22666371328615176, 0.23288031924282243, 0.2378151752086767, 0.2520179524483407, 0.2561869824136112, 0.24170273478976378, 0.2223428421437533, 0.2390261127436087, 0.26185497390755313, 0.28113588187240324, 0.2960884954402158, 0.27157146948961913, 0.23589538762760798]}\n"
     ]
    },
    {
     "data": {
      "application/scrapbook.scrap.json+json": {
       "data": 0.5072355678986937,
       "encoder": "json",
       "name": "TabNet MAE",
       "version": 1
      }
     },
     "metadata": {
      "scrapbook": {
       "data": true,
       "display": false,
       "name": "TabNet MAE"
      }
     },
     "output_type": "display_data"
    },
    {
     "data": {
      "image/png": "[encoded data removed]",
      "text/plain": [
       "<Figure size 432x288 with 1 Axes>"
      ]
     },
     "metadata": {
      "needs_background": "light"
     },
     "output_type": "display_data"
    }
   ],
   "source": [
    "lr = 0.02\n",
    "\n",
    "print(y_train.shape)\n",
    "y_train = np.reshape(y_train, (-1, 1))\n",
    "y_test = np.reshape(y_test, (-1, 1))\n",
    "\n",
    "device = torch.device('cuda' if torch.cuda.is_available() else 'cpu')\n",
    "mae_tab= baselineModels.tabnetreg(X_train,y_train,X_test,y_test,batch_size,n_features,n_target,n_epochs, lr)\n",
    "sb.glue(\"TabNet MAE\",mae_tab)"
   ]
  }
 ],
 "metadata": {
  "interpreter": {
   "hash": "10498c76ddd8160350534c6544a2b2fb65f2138dbc70420f7c81a3268f830f23"
  },
  "kernelspec": {
   "display_name": "Python 3",
   "language": "python",
   "name": "python3"
  },
  "language_info": {
   "codemirror_mode": {
    "name": "ipython",
    "version": 3
   },
   "file_extension": ".py",
   "mimetype": "text/x-python",
   "name": "python",
   "nbconvert_exporter": "python",
   "pygments_lexer": "ipython3",
   "version": "3.8.3"
  },
  "papermill": {
   "default_parameters": {},
   "duration": 40.059222,
   "end_time": "2022-06-22T10:52:56.359743",
   "environment_variables": {},
   "exception": null,
   "input_path": "BaselineModels.ipynb",
   "output_path": "./BaseLine_Model_Output/BaselineModels_output_10.ipynb",
   "parameters": {},
   "start_time": "2022-06-22T10:52:16.300521",
   "version": "2.3.3"
  }
 },
 "nbformat": 4,
 "nbformat_minor": 5
}