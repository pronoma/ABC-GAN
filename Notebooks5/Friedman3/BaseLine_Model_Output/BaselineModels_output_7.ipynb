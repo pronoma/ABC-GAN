{
 "cells": [
  {
   "cell_type": "markdown",
   "id": "8b79d988",
   "metadata": {
    "papermill": {
     "duration": 0.009848,
     "end_time": "2022-06-22T10:49:49.856509",
     "exception": false,
     "start_time": "2022-06-22T10:49:49.846661",
     "status": "completed"
    },
    "tags": []
   },
   "source": [
    "## Import Libraries "
   ]
  },
  {
   "cell_type": "code",
   "execution_count": 1,
   "id": "ba6398cd",
   "metadata": {
    "execution": {
     "iopub.execute_input": "2022-06-22T10:49:49.949221Z",
     "iopub.status.busy": "2022-06-22T10:49:49.943547Z",
     "iopub.status.idle": "2022-06-22T10:49:49.953000Z",
     "shell.execute_reply": "2022-06-22T10:49:49.953960Z"
    },
    "papermill": {
     "duration": 0.089761,
     "end_time": "2022-06-22T10:49:49.954547",
     "exception": false,
     "start_time": "2022-06-22T10:49:49.864786",
     "status": "completed"
    },
    "tags": []
   },
   "outputs": [],
   "source": [
    "import warnings\n",
    "import sys\n",
    "sys.path.insert(0, '../../src')\n",
    "warnings.filterwarnings('ignore')"
   ]
  },
  {
   "cell_type": "code",
   "execution_count": 2,
   "id": "d95412de",
   "metadata": {
    "execution": {
     "iopub.execute_input": "2022-06-22T10:49:49.992692Z",
     "iopub.status.busy": "2022-06-22T10:49:49.991030Z",
     "iopub.status.idle": "2022-06-22T10:49:58.445677Z",
     "shell.execute_reply": "2022-06-22T10:49:58.446395Z"
    },
    "papermill": {
     "duration": 8.482773,
     "end_time": "2022-06-22T10:49:58.446677",
     "exception": false,
     "start_time": "2022-06-22T10:49:49.963904",
     "status": "completed"
    },
    "tags": []
   },
   "outputs": [],
   "source": [
    "import statsModel\n",
    "import scrapbook as sb \n",
    "import torch \n",
    "import statsModel\n",
    "import baselineModels\n",
    "import friedman3Dataset\n",
    "import dataset \n",
    "from torch.utils.data import random_split \n",
    "from sklearn.model_selection import train_test_split\n",
    "import numpy as np"
   ]
  },
  {
   "cell_type": "markdown",
   "id": "ad20d108",
   "metadata": {
    "papermill": {
     "duration": 0.009032,
     "end_time": "2022-06-22T10:49:58.467597",
     "exception": false,
     "start_time": "2022-06-22T10:49:58.458565",
     "status": "completed"
    },
    "tags": []
   },
   "source": [
    "## Import Dataset \n"
   ]
  },
  {
   "cell_type": "code",
   "execution_count": 3,
   "id": "e99f022e",
   "metadata": {
    "execution": {
     "iopub.execute_input": "2022-06-22T10:49:58.507229Z",
     "iopub.status.busy": "2022-06-22T10:49:58.499474Z",
     "iopub.status.idle": "2022-06-22T10:49:58.512637Z",
     "shell.execute_reply": "2022-06-22T10:49:58.513558Z"
    },
    "papermill": {
     "duration": 0.035987,
     "end_time": "2022-06-22T10:49:58.514010",
     "exception": false,
     "start_time": "2022-06-22T10:49:58.478023",
     "status": "completed"
    },
    "tags": []
   },
   "outputs": [
    {
     "name": "stdout",
     "output_type": "stream",
     "text": [
      "          X1           X2        X3        X4         Y\n",
      "0  39.160598  1682.679901  0.999915  7.254192  1.536225\n",
      "1  47.572564   768.562180  0.121801  8.823750  1.010019\n",
      "2  54.373093   937.813276  0.806599  8.143358  1.422239\n",
      "3  11.518486  1255.704619  0.448018  3.685084  1.569692\n",
      "4  39.904708  1185.515946  0.996876  5.438367  1.534350\n"
     ]
    }
   ],
   "source": [
    "n_features = 4\n",
    "n_samples= 100\n",
    "n_target = 1\n",
    "X,Y = friedman3Dataset.friedman3_data(n_samples)"
   ]
  },
  {
   "cell_type": "code",
   "execution_count": 4,
   "id": "a233b8a3",
   "metadata": {
    "execution": {
     "iopub.execute_input": "2022-06-22T10:49:58.543493Z",
     "iopub.status.busy": "2022-06-22T10:49:58.542425Z",
     "iopub.status.idle": "2022-06-22T10:49:58.546108Z",
     "shell.execute_reply": "2022-06-22T10:49:58.546799Z"
    },
    "papermill": {
     "duration": 0.022553,
     "end_time": "2022-06-22T10:49:58.547034",
     "exception": false,
     "start_time": "2022-06-22T10:49:58.524481",
     "status": "completed"
    },
    "tags": []
   },
   "outputs": [
    {
     "name": "stdout",
     "output_type": "stream",
     "text": [
      "(100, 4)\n",
      "(100,)\n",
      "(80, 4)\n",
      "(80,)\n",
      "(20, 4)\n",
      "(20,)\n"
     ]
    }
   ],
   "source": [
    "# Train test split for dataset \n",
    "real_dataset = dataset.CustomDataset(X,Y)\n",
    "\n",
    "print(X.shape)\n",
    "print(Y.shape)\n",
    "X_train, X_test, y_train, y_test = train_test_split(X, Y, test_size=0.2)\n",
    "\n",
    "print(X_train.shape)\n",
    "print(y_train.shape)\n",
    "print(X_test.shape)\n",
    "print(y_test.shape)"
   ]
  },
  {
   "cell_type": "markdown",
   "id": "dbc2ef10",
   "metadata": {
    "papermill": {
     "duration": 0.010574,
     "end_time": "2022-06-22T10:49:58.567061",
     "exception": false,
     "start_time": "2022-06-22T10:49:58.556487",
     "status": "completed"
    },
    "tags": []
   },
   "source": [
    "## Stats Model \n",
    "\n"
   ]
  },
  {
   "cell_type": "code",
   "execution_count": 5,
   "id": "cd768534",
   "metadata": {
    "execution": {
     "iopub.execute_input": "2022-06-22T10:49:58.641443Z",
     "iopub.status.busy": "2022-06-22T10:49:58.616322Z",
     "iopub.status.idle": "2022-06-22T10:49:58.856336Z",
     "shell.execute_reply": "2022-06-22T10:49:58.856851Z"
    },
    "papermill": {
     "duration": 0.274431,
     "end_time": "2022-06-22T10:49:58.857070",
     "exception": false,
     "start_time": "2022-06-22T10:49:58.582639",
     "status": "completed"
    },
    "tags": []
   },
   "outputs": [
    {
     "name": "stderr",
     "output_type": "stream",
     "text": [
      "No handles with labels found to put in legend.\n"
     ]
    },
    {
     "name": "stdout",
     "output_type": "stream",
     "text": [
      "                                 OLS Regression Results                                \n",
      "=======================================================================================\n",
      "Dep. Variable:                      y   R-squared (uncentered):                   0.576\n",
      "Model:                            OLS   Adj. R-squared (uncentered):              0.554\n",
      "Method:                 Least Squares   F-statistic:                              25.79\n",
      "Date:                Wed, 22 Jun 2022   Prob (F-statistic):                    1.61e-13\n",
      "Time:                        16:19:58   Log-Likelihood:                         -67.940\n",
      "No. Observations:                  80   AIC:                                      143.9\n",
      "Df Residuals:                      76   BIC:                                      153.4\n",
      "Df Model:                           4                                                  \n",
      "Covariance Type:            nonrobust                                                  \n",
      "==============================================================================\n",
      "                 coef    std err          t      P>|t|      [0.025      0.975]\n",
      "------------------------------------------------------------------------------\n",
      "x1            -0.3684      0.066     -5.562      0.000      -0.500      -0.237\n",
      "x2             0.3865      0.070      5.560      0.000       0.248       0.525\n",
      "x3             0.5211      0.068      7.622      0.000       0.385       0.657\n",
      "x4             0.0292      0.064      0.457      0.649      -0.098       0.157\n",
      "==============================================================================\n",
      "Omnibus:                       19.394   Durbin-Watson:                   1.989\n",
      "Prob(Omnibus):                  0.000   Jarque-Bera (JB):               32.693\n",
      "Skew:                          -0.926   Prob(JB):                     7.96e-08\n",
      "Kurtosis:                       5.525   Cond. No.                         1.32\n",
      "==============================================================================\n",
      "\n",
      "Notes:\n",
      "[1] R² is computed without centering (uncentered) since the model does not contain a constant.\n",
      "[2] Standard Errors assume that the covariance matrix of the errors is correctly specified.\n"
     ]
    },
    {
     "data": {
      "image/png": "[encoded data removed]",
      "text/plain": [
       "<Figure size 432x288 with 1 Axes>"
      ]
     },
     "metadata": {
      "needs_background": "light"
     },
     "output_type": "display_data"
    },
    {
     "name": "stdout",
     "output_type": "stream",
     "text": [
      "Performance Metrics\n",
      "Mean Squared Error: 0.540966564954309\n",
      "Mean Absolute Error: 0.520280503948767\n",
      "Manhattan distance: 10.405610078975345\n",
      "Euclidean distance: 3.289275193577786\n"
     ]
    },
    {
     "data": {
      "application/scrapbook.scrap.json+json": {
       "data": 0.540966564954309,
       "encoder": "json",
       "name": "Stats Model MSE",
       "version": 1
      }
     },
     "metadata": {
      "scrapbook": {
       "data": true,
       "display": false,
       "name": "Stats Model MSE"
      }
     },
     "output_type": "display_data"
    },
    {
     "data": {
      "application/scrapbook.scrap.json+json": {
       "data": 0.520280503948767,
       "encoder": "json",
       "name": "Stats Model MAE",
       "version": 1
      }
     },
     "metadata": {
      "scrapbook": {
       "data": true,
       "display": false,
       "name": "Stats Model MAE"
      }
     },
     "output_type": "display_data"
    },
    {
     "data": {
      "application/scrapbook.scrap.json+json": {
       "data": 10.405610078975345,
       "encoder": "json",
       "name": "Stats Model Manhattan Distance",
       "version": 1
      }
     },
     "metadata": {
      "scrapbook": {
       "data": true,
       "display": false,
       "name": "Stats Model Manhattan Distance"
      }
     },
     "output_type": "display_data"
    },
    {
     "data": {
      "application/scrapbook.scrap.json+json": {
       "data": 3.289275193577786,
       "encoder": "json",
       "name": "Stats Model Euclidean distance",
       "version": 1
      }
     },
     "metadata": {
      "scrapbook": {
       "data": true,
       "display": false,
       "name": "Stats Model Euclidean distance"
      }
     },
     "output_type": "display_data"
    },
    {
     "data": {
      "application/scrapbook.scrap.json+json": {
       "data": [
        -0.36843582209434017,
        0.38652346417288463,
        0.5210992391002996,
        0.029232754087930468
       ],
       "encoder": "json",
       "name": "Coefficients",
       "version": 1
      }
     },
     "metadata": {
      "scrapbook": {
       "data": true,
       "display": false,
       "name": "Coefficients"
      }
     },
     "output_type": "display_data"
    }
   ],
   "source": [
    "coefficients , y_pred =statsModel.statsModel(X_train,y_train,X_test,y_test)\n",
    "#Store MSE Value \n",
    "sb.glue(\"Coefficients\",coefficients)"
   ]
  },
  {
   "cell_type": "markdown",
   "id": "2ee05956",
   "metadata": {
    "papermill": {
     "duration": 0.01161,
     "end_time": "2022-06-22T10:49:58.879826",
     "exception": false,
     "start_time": "2022-06-22T10:49:58.868216",
     "status": "completed"
    },
    "tags": []
   },
   "source": [
    "# Catboost Model "
   ]
  },
  {
   "cell_type": "code",
   "execution_count": 6,
   "id": "c17c7a9d",
   "metadata": {
    "execution": {
     "iopub.execute_input": "2022-06-22T10:49:58.922009Z",
     "iopub.status.busy": "2022-06-22T10:49:58.918792Z",
     "iopub.status.idle": "2022-06-22T10:49:59.681139Z",
     "shell.execute_reply": "2022-06-22T10:49:59.681651Z"
    },
    "papermill": {
     "duration": 0.788255,
     "end_time": "2022-06-22T10:49:59.681858",
     "exception": false,
     "start_time": "2022-06-22T10:49:58.893603",
     "status": "completed"
    },
    "tags": []
   },
   "outputs": [
    {
     "name": "stdout",
     "output_type": "stream",
     "text": [
      "Learning rate set to 0.027471\n",
      "0:\tlearn: 0.8549850\ttotal: 56.3ms\tremaining: 56.2s\n",
      "1:\tlearn: 0.8481458\ttotal: 57.3ms\tremaining: 28.6s\n",
      "2:\tlearn: 0.8396193\ttotal: 58.5ms\tremaining: 19.4s\n",
      "3:\tlearn: 0.8308347\ttotal: 59.5ms\tremaining: 14.8s\n",
      "4:\tlearn: 0.8231819\ttotal: 60.3ms\tremaining: 12s\n",
      "5:\tlearn: 0.8159204\ttotal: 61.4ms\tremaining: 10.2s\n",
      "6:\tlearn: 0.8070085\ttotal: 61.7ms\tremaining: 8.75s\n",
      "7:\tlearn: 0.7993910\ttotal: 62.4ms\tremaining: 7.73s\n",
      "8:\tlearn: 0.7939975\ttotal: 65ms\tremaining: 7.16s\n",
      "9:\tlearn: 0.7888385\ttotal: 65.8ms\tremaining: 6.51s\n",
      "10:\tlearn: 0.7803944\ttotal: 66.3ms\tremaining: 5.96s\n",
      "11:\tlearn: 0.7716495\ttotal: 66.9ms\tremaining: 5.5s\n",
      "12:\tlearn: 0.7635262\ttotal: 67.5ms\tremaining: 5.13s\n",
      "13:\tlearn: 0.7553901\ttotal: 68ms\tremaining: 4.79s\n",
      "14:\tlearn: 0.7509358\ttotal: 68.5ms\tremaining: 4.5s\n",
      "15:\tlearn: 0.7415742\ttotal: 68.9ms\tremaining: 4.23s\n",
      "16:\tlearn: 0.7355884\ttotal: 69.4ms\tremaining: 4.01s\n",
      "17:\tlearn: 0.7280443\ttotal: 70.1ms\tremaining: 3.83s\n",
      "18:\tlearn: 0.7198621\ttotal: 70.7ms\tremaining: 3.65s\n",
      "19:\tlearn: 0.7131103\ttotal: 71.2ms\tremaining: 3.49s\n",
      "20:\tlearn: 0.7054105\ttotal: 71.7ms\tremaining: 3.34s\n",
      "21:\tlearn: 0.6987732\ttotal: 72.2ms\tremaining: 3.21s\n",
      "22:\tlearn: 0.6914500\ttotal: 72.8ms\tremaining: 3.09s\n",
      "23:\tlearn: 0.6850948\ttotal: 73.4ms\tremaining: 2.98s\n",
      "24:\tlearn: 0.6780267\ttotal: 73.8ms\tremaining: 2.88s\n",
      "25:\tlearn: 0.6725921\ttotal: 74.3ms\tremaining: 2.78s\n",
      "26:\tlearn: 0.6676267\ttotal: 74.8ms\tremaining: 2.7s\n",
      "27:\tlearn: 0.6616450\ttotal: 75.2ms\tremaining: 2.61s\n",
      "28:\tlearn: 0.6573151\ttotal: 75.6ms\tremaining: 2.53s\n",
      "29:\tlearn: 0.6513486\ttotal: 76.1ms\tremaining: 2.46s\n",
      "30:\tlearn: 0.6467743\ttotal: 76.5ms\tremaining: 2.39s\n",
      "31:\tlearn: 0.6417397\ttotal: 77ms\tremaining: 2.33s\n",
      "32:\tlearn: 0.6374655\ttotal: 77.4ms\tremaining: 2.27s\n",
      "33:\tlearn: 0.6319977\ttotal: 77.8ms\tremaining: 2.21s\n",
      "34:\tlearn: 0.6264687\ttotal: 78.3ms\tremaining: 2.16s\n",
      "35:\tlearn: 0.6219675\ttotal: 78.8ms\tremaining: 2.11s\n",
      "36:\tlearn: 0.6165181\ttotal: 79.2ms\tremaining: 2.06s\n",
      "37:\tlearn: 0.6106023\ttotal: 79.7ms\tremaining: 2.02s\n",
      "38:\tlearn: 0.6065916\ttotal: 80.2ms\tremaining: 1.98s\n",
      "39:\tlearn: 0.6009454\ttotal: 80.7ms\tremaining: 1.94s\n",
      "40:\tlearn: 0.5963889\ttotal: 81ms\tremaining: 1.89s\n",
      "41:\tlearn: 0.5916005\ttotal: 81.4ms\tremaining: 1.85s\n",
      "42:\tlearn: 0.5862251\ttotal: 81.7ms\tremaining: 1.82s\n",
      "43:\tlearn: 0.5813119\ttotal: 82.2ms\tremaining: 1.79s\n",
      "44:\tlearn: 0.5773226\ttotal: 82.8ms\tremaining: 1.76s\n",
      "45:\tlearn: 0.5730250\ttotal: 83.2ms\tremaining: 1.73s\n",
      "46:\tlearn: 0.5682150\ttotal: 83.6ms\tremaining: 1.7s\n",
      "47:\tlearn: 0.5646072\ttotal: 84.1ms\tremaining: 1.67s\n",
      "48:\tlearn: 0.5601849\ttotal: 84.6ms\tremaining: 1.64s\n",
      "49:\tlearn: 0.5573058\ttotal: 85.1ms\tremaining: 1.62s\n",
      "50:\tlearn: 0.5543333\ttotal: 85.5ms\tremaining: 1.59s\n",
      "51:\tlearn: 0.5490957\ttotal: 86ms\tremaining: 1.57s\n",
      "52:\tlearn: 0.5454265\ttotal: 86.4ms\tremaining: 1.54s\n",
      "53:\tlearn: 0.5412335\ttotal: 86.8ms\tremaining: 1.52s\n",
      "54:\tlearn: 0.5357203\ttotal: 87.6ms\tremaining: 1.5s\n",
      "55:\tlearn: 0.5330600\ttotal: 88ms\tremaining: 1.48s\n",
      "56:\tlearn: 0.5289079\ttotal: 88.6ms\tremaining: 1.47s\n",
      "57:\tlearn: 0.5247096\ttotal: 89ms\tremaining: 1.45s\n",
      "58:\tlearn: 0.5208161\ttotal: 89.5ms\tremaining: 1.43s\n",
      "59:\tlearn: 0.5172574\ttotal: 89.8ms\tremaining: 1.41s\n",
      "60:\tlearn: 0.5137792\ttotal: 90.2ms\tremaining: 1.39s\n",
      "61:\tlearn: 0.5096056\ttotal: 90.8ms\tremaining: 1.37s\n",
      "62:\tlearn: 0.5058858\ttotal: 91.1ms\tremaining: 1.35s\n",
      "63:\tlearn: 0.5020938\ttotal: 91.5ms\tremaining: 1.34s\n",
      "64:\tlearn: 0.4979442\ttotal: 91.9ms\tremaining: 1.32s\n",
      "65:\tlearn: 0.4943646\ttotal: 92.5ms\tremaining: 1.31s\n",
      "66:\tlearn: 0.4904364\ttotal: 92.9ms\tremaining: 1.29s\n",
      "67:\tlearn: 0.4867217\ttotal: 93.3ms\tremaining: 1.28s\n",
      "68:\tlearn: 0.4828914\ttotal: 93.9ms\tremaining: 1.27s\n",
      "69:\tlearn: 0.4787120\ttotal: 94.3ms\tremaining: 1.25s\n",
      "70:\tlearn: 0.4756398\ttotal: 94.7ms\tremaining: 1.24s\n",
      "71:\tlearn: 0.4721943\ttotal: 95.2ms\tremaining: 1.23s\n",
      "72:\tlearn: 0.4687088\ttotal: 95.6ms\tremaining: 1.21s\n",
      "73:\tlearn: 0.4651443\ttotal: 96.1ms\tremaining: 1.2s\n",
      "74:\tlearn: 0.4616886\ttotal: 96.5ms\tremaining: 1.19s\n",
      "75:\tlearn: 0.4587301\ttotal: 96.9ms\tremaining: 1.18s\n",
      "76:\tlearn: 0.4552830\ttotal: 97.3ms\tremaining: 1.17s\n",
      "77:\tlearn: 0.4521854\ttotal: 97.8ms\tremaining: 1.16s\n"
     ]
    },
    {
     "name": "stdout",
     "output_type": "stream",
     "text": [
      "78:\tlearn: 0.4493108\ttotal: 98.2ms\tremaining: 1.14s\n",
      "79:\tlearn: 0.4471307\ttotal: 98.8ms\tremaining: 1.14s\n",
      "80:\tlearn: 0.4440106\ttotal: 99.2ms\tremaining: 1.13s\n",
      "81:\tlearn: 0.4426699\ttotal: 99.5ms\tremaining: 1.11s\n",
      "82:\tlearn: 0.4390870\ttotal: 100ms\tremaining: 1.1s\n",
      "83:\tlearn: 0.4362688\ttotal: 100ms\tremaining: 1.09s\n",
      "84:\tlearn: 0.4329652\ttotal: 101ms\tremaining: 1.09s\n",
      "85:\tlearn: 0.4300575\ttotal: 101ms\tremaining: 1.08s\n",
      "86:\tlearn: 0.4273826\ttotal: 102ms\tremaining: 1.07s\n",
      "87:\tlearn: 0.4248568\ttotal: 103ms\tremaining: 1.06s\n",
      "88:\tlearn: 0.4211244\ttotal: 103ms\tremaining: 1.05s\n",
      "89:\tlearn: 0.4194403\ttotal: 104ms\tremaining: 1.05s\n",
      "90:\tlearn: 0.4164492\ttotal: 104ms\tremaining: 1.04s\n",
      "91:\tlearn: 0.4139688\ttotal: 104ms\tremaining: 1.03s\n",
      "92:\tlearn: 0.4109859\ttotal: 105ms\tremaining: 1.02s\n",
      "93:\tlearn: 0.4090468\ttotal: 105ms\tremaining: 1.01s\n",
      "94:\tlearn: 0.4065201\ttotal: 105ms\tremaining: 1s\n",
      "95:\tlearn: 0.4038757\ttotal: 106ms\tremaining: 998ms\n",
      "96:\tlearn: 0.4012399\ttotal: 106ms\tremaining: 990ms\n",
      "97:\tlearn: 0.3985680\ttotal: 107ms\tremaining: 983ms\n",
      "98:\tlearn: 0.3966671\ttotal: 107ms\tremaining: 975ms\n",
      "99:\tlearn: 0.3938701\ttotal: 107ms\tremaining: 967ms\n",
      "100:\tlearn: 0.3912411\ttotal: 108ms\tremaining: 961ms\n",
      "101:\tlearn: 0.3893846\ttotal: 108ms\tremaining: 955ms\n",
      "102:\tlearn: 0.3874378\ttotal: 109ms\tremaining: 949ms\n",
      "103:\tlearn: 0.3852627\ttotal: 109ms\tremaining: 943ms\n",
      "104:\tlearn: 0.3830258\ttotal: 110ms\tremaining: 938ms\n",
      "105:\tlearn: 0.3805737\ttotal: 110ms\tremaining: 931ms\n",
      "106:\tlearn: 0.3786700\ttotal: 111ms\tremaining: 925ms\n",
      "107:\tlearn: 0.3768958\ttotal: 111ms\tremaining: 918ms\n",
      "108:\tlearn: 0.3751284\ttotal: 112ms\tremaining: 912ms\n",
      "109:\tlearn: 0.3726214\ttotal: 112ms\tremaining: 906ms\n",
      "110:\tlearn: 0.3707879\ttotal: 112ms\tremaining: 900ms\n",
      "111:\tlearn: 0.3693690\ttotal: 113ms\tremaining: 895ms\n",
      "112:\tlearn: 0.3674687\ttotal: 113ms\tremaining: 889ms\n",
      "113:\tlearn: 0.3657688\ttotal: 114ms\tremaining: 883ms\n",
      "114:\tlearn: 0.3636977\ttotal: 114ms\tremaining: 879ms\n",
      "115:\tlearn: 0.3613046\ttotal: 115ms\tremaining: 873ms\n",
      "116:\tlearn: 0.3591914\ttotal: 115ms\tremaining: 868ms\n",
      "117:\tlearn: 0.3577546\ttotal: 115ms\tremaining: 862ms\n",
      "118:\tlearn: 0.3559249\ttotal: 116ms\tremaining: 858ms\n",
      "119:\tlearn: 0.3537516\ttotal: 116ms\tremaining: 853ms\n",
      "120:\tlearn: 0.3522317\ttotal: 117ms\tremaining: 848ms\n",
      "121:\tlearn: 0.3502770\ttotal: 118ms\tremaining: 846ms\n",
      "122:\tlearn: 0.3485515\ttotal: 118ms\tremaining: 841ms\n",
      "123:\tlearn: 0.3465757\ttotal: 118ms\tremaining: 837ms\n",
      "124:\tlearn: 0.3451551\ttotal: 119ms\tremaining: 832ms\n",
      "125:\tlearn: 0.3436390\ttotal: 119ms\tremaining: 826ms\n",
      "126:\tlearn: 0.3419783\ttotal: 120ms\tremaining: 822ms\n",
      "127:\tlearn: 0.3409285\ttotal: 120ms\tremaining: 818ms\n",
      "128:\tlearn: 0.3391116\ttotal: 121ms\tremaining: 814ms\n",
      "129:\tlearn: 0.3374125\ttotal: 121ms\tremaining: 809ms\n",
      "130:\tlearn: 0.3360354\ttotal: 121ms\tremaining: 805ms\n",
      "131:\tlearn: 0.3344490\ttotal: 122ms\tremaining: 801ms\n",
      "132:\tlearn: 0.3325181\ttotal: 122ms\tremaining: 797ms\n",
      "133:\tlearn: 0.3309935\ttotal: 123ms\tremaining: 793ms\n",
      "134:\tlearn: 0.3295732\ttotal: 123ms\tremaining: 789ms\n",
      "135:\tlearn: 0.3281670\ttotal: 124ms\tremaining: 785ms\n",
      "136:\tlearn: 0.3266325\ttotal: 124ms\tremaining: 780ms\n",
      "137:\tlearn: 0.3251310\ttotal: 124ms\tremaining: 777ms\n",
      "138:\tlearn: 0.3240372\ttotal: 125ms\tremaining: 773ms\n",
      "139:\tlearn: 0.3223639\ttotal: 125ms\tremaining: 769ms\n",
      "140:\tlearn: 0.3210294\ttotal: 126ms\tremaining: 766ms\n",
      "141:\tlearn: 0.3199502\ttotal: 126ms\tremaining: 763ms\n",
      "142:\tlearn: 0.3188845\ttotal: 127ms\tremaining: 760ms\n",
      "143:\tlearn: 0.3175842\ttotal: 127ms\tremaining: 757ms\n",
      "144:\tlearn: 0.3164868\ttotal: 128ms\tremaining: 753ms\n",
      "145:\tlearn: 0.3145185\ttotal: 128ms\tremaining: 749ms\n",
      "146:\tlearn: 0.3131172\ttotal: 128ms\tremaining: 745ms\n",
      "147:\tlearn: 0.3113342\ttotal: 129ms\tremaining: 741ms\n",
      "148:\tlearn: 0.3098166\ttotal: 129ms\tremaining: 738ms\n",
      "149:\tlearn: 0.3088333\ttotal: 130ms\tremaining: 734ms\n",
      "150:\tlearn: 0.3073136\ttotal: 130ms\tremaining: 731ms\n",
      "151:\tlearn: 0.3060773\ttotal: 130ms\tremaining: 728ms\n",
      "152:\tlearn: 0.3051200\ttotal: 131ms\tremaining: 725ms\n",
      "153:\tlearn: 0.3036888\ttotal: 131ms\tremaining: 721ms\n",
      "154:\tlearn: 0.3017745\ttotal: 132ms\tremaining: 719ms\n",
      "155:\tlearn: 0.3004420\ttotal: 133ms\tremaining: 717ms\n",
      "156:\tlearn: 0.2996468\ttotal: 133ms\tremaining: 713ms\n",
      "157:\tlearn: 0.2988951\ttotal: 133ms\tremaining: 710ms\n",
      "158:\tlearn: 0.2981361\ttotal: 134ms\tremaining: 707ms\n",
      "159:\tlearn: 0.2971149\ttotal: 134ms\tremaining: 704ms\n",
      "160:\tlearn: 0.2957449\ttotal: 135ms\tremaining: 701ms\n",
      "161:\tlearn: 0.2948161\ttotal: 135ms\tremaining: 699ms\n",
      "162:\tlearn: 0.2937712\ttotal: 136ms\tremaining: 696ms\n",
      "163:\tlearn: 0.2925548\ttotal: 136ms\tremaining: 693ms\n",
      "164:\tlearn: 0.2918972\ttotal: 136ms\tremaining: 690ms\n",
      "165:\tlearn: 0.2905976\ttotal: 137ms\tremaining: 687ms\n",
      "166:\tlearn: 0.2896102\ttotal: 137ms\tremaining: 685ms\n",
      "167:\tlearn: 0.2886141\ttotal: 138ms\tremaining: 682ms\n",
      "168:\tlearn: 0.2872363\ttotal: 138ms\tremaining: 679ms\n",
      "169:\tlearn: 0.2858640\ttotal: 139ms\tremaining: 677ms\n",
      "170:\tlearn: 0.2849272\ttotal: 139ms\tremaining: 674ms\n",
      "171:\tlearn: 0.2836360\ttotal: 139ms\tremaining: 671ms\n",
      "172:\tlearn: 0.2826346\ttotal: 140ms\tremaining: 668ms\n",
      "173:\tlearn: 0.2811579\ttotal: 140ms\tremaining: 666ms\n",
      "174:\tlearn: 0.2805582\ttotal: 141ms\tremaining: 663ms\n",
      "175:\tlearn: 0.2793346\ttotal: 141ms\tremaining: 661ms\n",
      "176:\tlearn: 0.2782328\ttotal: 142ms\tremaining: 659ms\n",
      "177:\tlearn: 0.2773570\ttotal: 142ms\tremaining: 657ms\n",
      "178:\tlearn: 0.2760549\ttotal: 143ms\tremaining: 654ms\n",
      "179:\tlearn: 0.2744826\ttotal: 143ms\tremaining: 651ms\n",
      "180:\tlearn: 0.2735663\ttotal: 143ms\tremaining: 649ms\n",
      "181:\tlearn: 0.2725928\ttotal: 144ms\tremaining: 646ms\n",
      "182:\tlearn: 0.2714533\ttotal: 144ms\tremaining: 644ms\n",
      "183:\tlearn: 0.2704881\ttotal: 145ms\tremaining: 642ms\n",
      "184:\tlearn: 0.2692796\ttotal: 145ms\tremaining: 640ms\n",
      "185:\tlearn: 0.2687654\ttotal: 146ms\tremaining: 637ms\n",
      "186:\tlearn: 0.2674362\ttotal: 146ms\tremaining: 635ms\n",
      "187:\tlearn: 0.2667062\ttotal: 147ms\tremaining: 633ms\n",
      "188:\tlearn: 0.2656889\ttotal: 147ms\tremaining: 631ms\n",
      "189:\tlearn: 0.2649015\ttotal: 148ms\tremaining: 629ms\n",
      "190:\tlearn: 0.2643873\ttotal: 148ms\tremaining: 627ms\n",
      "191:\tlearn: 0.2632522\ttotal: 148ms\tremaining: 624ms\n",
      "192:\tlearn: 0.2624808\ttotal: 149ms\tremaining: 622ms\n",
      "193:\tlearn: 0.2613525\ttotal: 149ms\tremaining: 620ms\n",
      "194:\tlearn: 0.2607804\ttotal: 150ms\tremaining: 618ms\n",
      "195:\tlearn: 0.2600667\ttotal: 150ms\tremaining: 615ms\n",
      "196:\tlearn: 0.2593910\ttotal: 150ms\tremaining: 613ms\n",
      "197:\tlearn: 0.2585116\ttotal: 151ms\tremaining: 611ms\n",
      "198:\tlearn: 0.2574527\ttotal: 151ms\tremaining: 609ms\n",
      "199:\tlearn: 0.2568961\ttotal: 152ms\tremaining: 607ms\n",
      "200:\tlearn: 0.2558555\ttotal: 152ms\tremaining: 605ms\n",
      "201:\tlearn: 0.2553577\ttotal: 153ms\tremaining: 603ms\n",
      "202:\tlearn: 0.2545856\ttotal: 153ms\tremaining: 601ms\n"
     ]
    },
    {
     "name": "stdout",
     "output_type": "stream",
     "text": [
      "203:\tlearn: 0.2539876\ttotal: 154ms\tremaining: 600ms\n",
      "204:\tlearn: 0.2533800\ttotal: 154ms\tremaining: 599ms\n",
      "205:\tlearn: 0.2522204\ttotal: 155ms\tremaining: 597ms\n",
      "206:\tlearn: 0.2517586\ttotal: 155ms\tremaining: 595ms\n",
      "207:\tlearn: 0.2511761\ttotal: 156ms\tremaining: 593ms\n",
      "208:\tlearn: 0.2505314\ttotal: 156ms\tremaining: 591ms\n",
      "209:\tlearn: 0.2498618\ttotal: 157ms\tremaining: 589ms\n",
      "210:\tlearn: 0.2494122\ttotal: 157ms\tremaining: 587ms\n",
      "211:\tlearn: 0.2483826\ttotal: 157ms\tremaining: 585ms\n",
      "212:\tlearn: 0.2474585\ttotal: 158ms\tremaining: 583ms\n",
      "213:\tlearn: 0.2466809\ttotal: 158ms\tremaining: 581ms\n",
      "214:\tlearn: 0.2461300\ttotal: 159ms\tremaining: 579ms\n",
      "215:\tlearn: 0.2451540\ttotal: 159ms\tremaining: 577ms\n",
      "216:\tlearn: 0.2442395\ttotal: 159ms\tremaining: 575ms\n",
      "217:\tlearn: 0.2429914\ttotal: 160ms\tremaining: 573ms\n",
      "218:\tlearn: 0.2421810\ttotal: 160ms\tremaining: 571ms\n",
      "219:\tlearn: 0.2410817\ttotal: 161ms\tremaining: 570ms\n",
      "220:\tlearn: 0.2406042\ttotal: 161ms\tremaining: 567ms\n",
      "221:\tlearn: 0.2392231\ttotal: 161ms\tremaining: 565ms\n",
      "222:\tlearn: 0.2388271\ttotal: 162ms\tremaining: 564ms\n",
      "223:\tlearn: 0.2383411\ttotal: 162ms\tremaining: 562ms\n",
      "224:\tlearn: 0.2370970\ttotal: 162ms\tremaining: 560ms\n",
      "225:\tlearn: 0.2360910\ttotal: 163ms\tremaining: 558ms\n",
      "226:\tlearn: 0.2354658\ttotal: 163ms\tremaining: 556ms\n",
      "227:\tlearn: 0.2346558\ttotal: 164ms\tremaining: 554ms\n",
      "228:\tlearn: 0.2342262\ttotal: 165ms\tremaining: 554ms\n",
      "229:\tlearn: 0.2338090\ttotal: 165ms\tremaining: 553ms\n",
      "230:\tlearn: 0.2330490\ttotal: 166ms\tremaining: 551ms\n",
      "231:\tlearn: 0.2327449\ttotal: 166ms\tremaining: 550ms\n",
      "232:\tlearn: 0.2323694\ttotal: 166ms\tremaining: 548ms\n",
      "233:\tlearn: 0.2313059\ttotal: 167ms\tremaining: 546ms\n",
      "234:\tlearn: 0.2307546\ttotal: 167ms\tremaining: 544ms\n",
      "235:\tlearn: 0.2303174\ttotal: 168ms\tremaining: 543ms\n",
      "236:\tlearn: 0.2298847\ttotal: 168ms\tremaining: 541ms\n",
      "237:\tlearn: 0.2294424\ttotal: 168ms\tremaining: 539ms\n",
      "238:\tlearn: 0.2286583\ttotal: 169ms\tremaining: 537ms\n",
      "239:\tlearn: 0.2282657\ttotal: 169ms\tremaining: 535ms\n",
      "240:\tlearn: 0.2279142\ttotal: 169ms\tremaining: 534ms\n",
      "241:\tlearn: 0.2276285\ttotal: 170ms\tremaining: 532ms\n",
      "242:\tlearn: 0.2271572\ttotal: 170ms\tremaining: 530ms\n",
      "243:\tlearn: 0.2266559\ttotal: 171ms\tremaining: 528ms\n",
      "244:\tlearn: 0.2263962\ttotal: 171ms\tremaining: 527ms\n",
      "245:\tlearn: 0.2261340\ttotal: 171ms\tremaining: 525ms\n",
      "246:\tlearn: 0.2257140\ttotal: 173ms\tremaining: 527ms\n",
      "247:\tlearn: 0.2252536\ttotal: 174ms\tremaining: 527ms\n",
      "248:\tlearn: 0.2247859\ttotal: 174ms\tremaining: 526ms\n",
      "249:\tlearn: 0.2239765\ttotal: 175ms\tremaining: 524ms\n",
      "250:\tlearn: 0.2237285\ttotal: 175ms\tremaining: 523ms\n",
      "251:\tlearn: 0.2231021\ttotal: 176ms\tremaining: 521ms\n",
      "252:\tlearn: 0.2226777\ttotal: 176ms\tremaining: 519ms\n",
      "253:\tlearn: 0.2223065\ttotal: 176ms\tremaining: 518ms\n",
      "254:\tlearn: 0.2212636\ttotal: 177ms\tremaining: 517ms\n",
      "255:\tlearn: 0.2210145\ttotal: 177ms\tremaining: 515ms\n",
      "256:\tlearn: 0.2205897\ttotal: 178ms\tremaining: 513ms\n",
      "257:\tlearn: 0.2202261\ttotal: 178ms\tremaining: 512ms\n",
      "258:\tlearn: 0.2194930\ttotal: 178ms\tremaining: 511ms\n",
      "259:\tlearn: 0.2192671\ttotal: 179ms\tremaining: 509ms\n",
      "260:\tlearn: 0.2188805\ttotal: 179ms\tremaining: 508ms\n",
      "261:\tlearn: 0.2179895\ttotal: 180ms\tremaining: 506ms\n",
      "262:\tlearn: 0.2176120\ttotal: 180ms\tremaining: 504ms\n",
      "263:\tlearn: 0.2172038\ttotal: 180ms\tremaining: 503ms\n",
      "264:\tlearn: 0.2169486\ttotal: 181ms\tremaining: 502ms\n",
      "265:\tlearn: 0.2161582\ttotal: 181ms\tremaining: 500ms\n",
      "266:\tlearn: 0.2158365\ttotal: 182ms\tremaining: 499ms\n",
      "267:\tlearn: 0.2153904\ttotal: 182ms\tremaining: 498ms\n",
      "268:\tlearn: 0.2142876\ttotal: 183ms\tremaining: 497ms\n",
      "269:\tlearn: 0.2141162\ttotal: 183ms\tremaining: 495ms\n",
      "270:\tlearn: 0.2135630\ttotal: 183ms\tremaining: 494ms\n",
      "271:\tlearn: 0.2129441\ttotal: 184ms\tremaining: 492ms\n",
      "272:\tlearn: 0.2116722\ttotal: 184ms\tremaining: 491ms\n",
      "273:\tlearn: 0.2113865\ttotal: 185ms\tremaining: 490ms\n",
      "274:\tlearn: 0.2110475\ttotal: 185ms\tremaining: 488ms\n",
      "275:\tlearn: 0.2107667\ttotal: 186ms\tremaining: 487ms\n",
      "276:\tlearn: 0.2095813\ttotal: 186ms\tremaining: 486ms\n",
      "277:\tlearn: 0.2091265\ttotal: 186ms\tremaining: 484ms\n",
      "278:\tlearn: 0.2087418\ttotal: 187ms\tremaining: 483ms\n",
      "279:\tlearn: 0.2085385\ttotal: 187ms\tremaining: 482ms\n",
      "280:\tlearn: 0.2083719\ttotal: 188ms\tremaining: 480ms\n",
      "281:\tlearn: 0.2078454\ttotal: 188ms\tremaining: 478ms\n",
      "282:\tlearn: 0.2065939\ttotal: 188ms\tremaining: 477ms\n",
      "283:\tlearn: 0.2063950\ttotal: 189ms\tremaining: 476ms\n",
      "284:\tlearn: 0.2057666\ttotal: 189ms\tremaining: 474ms\n",
      "285:\tlearn: 0.2054574\ttotal: 190ms\tremaining: 473ms\n",
      "286:\tlearn: 0.2051881\ttotal: 190ms\tremaining: 472ms\n",
      "287:\tlearn: 0.2048633\ttotal: 190ms\tremaining: 471ms\n",
      "288:\tlearn: 0.2045890\ttotal: 191ms\tremaining: 470ms\n",
      "289:\tlearn: 0.2042776\ttotal: 191ms\tremaining: 468ms\n",
      "290:\tlearn: 0.2040468\ttotal: 192ms\tremaining: 467ms\n",
      "291:\tlearn: 0.2035352\ttotal: 192ms\tremaining: 466ms\n",
      "292:\tlearn: 0.2032731\ttotal: 193ms\tremaining: 465ms\n",
      "293:\tlearn: 0.2022184\ttotal: 193ms\tremaining: 464ms\n",
      "294:\tlearn: 0.2019561\ttotal: 194ms\tremaining: 462ms\n",
      "295:\tlearn: 0.2016655\ttotal: 194ms\tremaining: 462ms\n",
      "296:\tlearn: 0.2015195\ttotal: 194ms\tremaining: 460ms\n",
      "297:\tlearn: 0.2006046\ttotal: 195ms\tremaining: 459ms\n",
      "298:\tlearn: 0.1993521\ttotal: 195ms\tremaining: 458ms\n",
      "299:\tlearn: 0.1992098\ttotal: 196ms\tremaining: 457ms\n",
      "300:\tlearn: 0.1981842\ttotal: 196ms\tremaining: 456ms\n",
      "301:\tlearn: 0.1979074\ttotal: 197ms\tremaining: 455ms\n",
      "302:\tlearn: 0.1977192\ttotal: 197ms\tremaining: 454ms\n",
      "303:\tlearn: 0.1967646\ttotal: 198ms\tremaining: 453ms\n",
      "304:\tlearn: 0.1955681\ttotal: 198ms\tremaining: 452ms\n",
      "305:\tlearn: 0.1951504\ttotal: 199ms\tremaining: 451ms\n",
      "306:\tlearn: 0.1949759\ttotal: 199ms\tremaining: 450ms\n",
      "307:\tlearn: 0.1948243\ttotal: 200ms\tremaining: 449ms\n",
      "308:\tlearn: 0.1945920\ttotal: 200ms\tremaining: 448ms\n",
      "309:\tlearn: 0.1935609\ttotal: 201ms\tremaining: 447ms\n",
      "310:\tlearn: 0.1933685\ttotal: 201ms\tremaining: 446ms\n",
      "311:\tlearn: 0.1932446\ttotal: 202ms\tremaining: 445ms\n",
      "312:\tlearn: 0.1924437\ttotal: 202ms\tremaining: 444ms\n",
      "313:\tlearn: 0.1911833\ttotal: 203ms\tremaining: 443ms\n",
      "314:\tlearn: 0.1909678\ttotal: 203ms\tremaining: 442ms\n",
      "315:\tlearn: 0.1908503\ttotal: 204ms\tremaining: 441ms\n",
      "316:\tlearn: 0.1896234\ttotal: 204ms\tremaining: 440ms\n",
      "317:\tlearn: 0.1884244\ttotal: 205ms\tremaining: 439ms\n",
      "318:\tlearn: 0.1876397\ttotal: 205ms\tremaining: 438ms\n",
      "319:\tlearn: 0.1864780\ttotal: 206ms\tremaining: 437ms\n",
      "320:\tlearn: 0.1854439\ttotal: 206ms\tremaining: 436ms\n",
      "321:\tlearn: 0.1844294\ttotal: 206ms\tremaining: 435ms\n",
      "322:\tlearn: 0.1834341\ttotal: 207ms\tremaining: 434ms\n",
      "323:\tlearn: 0.1824578\ttotal: 207ms\tremaining: 433ms\n",
      "324:\tlearn: 0.1813563\ttotal: 208ms\tremaining: 432ms\n",
      "325:\tlearn: 0.1806189\ttotal: 208ms\tremaining: 431ms\n",
      "326:\tlearn: 0.1797673\ttotal: 209ms\tremaining: 430ms\n",
      "327:\tlearn: 0.1788284\ttotal: 209ms\tremaining: 428ms\n",
      "328:\tlearn: 0.1779782\ttotal: 210ms\tremaining: 427ms\n",
      "329:\tlearn: 0.1771656\ttotal: 210ms\tremaining: 426ms\n",
      "330:\tlearn: 0.1762902\ttotal: 210ms\tremaining: 425ms\n",
      "331:\tlearn: 0.1754847\ttotal: 211ms\tremaining: 424ms\n",
      "332:\tlearn: 0.1747047\ttotal: 211ms\tremaining: 423ms\n",
      "333:\tlearn: 0.1739358\ttotal: 212ms\tremaining: 422ms\n",
      "334:\tlearn: 0.1737064\ttotal: 212ms\tremaining: 421ms\n",
      "335:\tlearn: 0.1735204\ttotal: 213ms\tremaining: 420ms\n",
      "336:\tlearn: 0.1732993\ttotal: 213ms\tremaining: 419ms\n",
      "337:\tlearn: 0.1730934\ttotal: 214ms\tremaining: 418ms\n",
      "338:\tlearn: 0.1723497\ttotal: 214ms\tremaining: 418ms\n",
      "339:\tlearn: 0.1714255\ttotal: 215ms\tremaining: 417ms\n",
      "340:\tlearn: 0.1712522\ttotal: 215ms\tremaining: 416ms\n",
      "341:\tlearn: 0.1711415\ttotal: 215ms\tremaining: 414ms\n",
      "342:\tlearn: 0.1704069\ttotal: 216ms\tremaining: 413ms\n",
      "343:\tlearn: 0.1702129\ttotal: 216ms\tremaining: 412ms\n",
      "344:\tlearn: 0.1700128\ttotal: 217ms\tremaining: 411ms\n",
      "345:\tlearn: 0.1698169\ttotal: 217ms\tremaining: 410ms\n",
      "346:\tlearn: 0.1691042\ttotal: 218ms\tremaining: 409ms\n",
      "347:\tlearn: 0.1688191\ttotal: 218ms\tremaining: 408ms\n",
      "348:\tlearn: 0.1686652\ttotal: 218ms\tremaining: 407ms\n",
      "349:\tlearn: 0.1679760\ttotal: 219ms\tremaining: 406ms\n",
      "350:\tlearn: 0.1678268\ttotal: 219ms\tremaining: 406ms\n",
      "351:\tlearn: 0.1676248\ttotal: 220ms\tremaining: 405ms\n",
      "352:\tlearn: 0.1674568\ttotal: 220ms\tremaining: 404ms\n",
      "353:\tlearn: 0.1673163\ttotal: 221ms\tremaining: 403ms\n",
      "354:\tlearn: 0.1671789\ttotal: 221ms\tremaining: 402ms\n",
      "355:\tlearn: 0.1670446\ttotal: 222ms\tremaining: 401ms\n",
      "356:\tlearn: 0.1660308\ttotal: 222ms\tremaining: 400ms\n",
      "357:\tlearn: 0.1651814\ttotal: 222ms\tremaining: 399ms\n",
      "358:\tlearn: 0.1644024\ttotal: 223ms\tremaining: 398ms\n",
      "359:\tlearn: 0.1637497\ttotal: 223ms\tremaining: 397ms\n",
      "360:\tlearn: 0.1631361\ttotal: 224ms\tremaining: 396ms\n",
      "361:\tlearn: 0.1623909\ttotal: 224ms\tremaining: 395ms\n",
      "362:\tlearn: 0.1622093\ttotal: 225ms\tremaining: 394ms\n",
      "363:\tlearn: 0.1616124\ttotal: 225ms\tremaining: 393ms\n",
      "364:\tlearn: 0.1610334\ttotal: 226ms\tremaining: 392ms\n",
      "365:\tlearn: 0.1603786\ttotal: 226ms\tremaining: 392ms\n",
      "366:\tlearn: 0.1597890\ttotal: 226ms\tremaining: 391ms\n",
      "367:\tlearn: 0.1590823\ttotal: 227ms\tremaining: 389ms\n",
      "368:\tlearn: 0.1584361\ttotal: 227ms\tremaining: 389ms\n",
      "369:\tlearn: 0.1579456\ttotal: 228ms\tremaining: 388ms\n",
      "370:\tlearn: 0.1571901\ttotal: 228ms\tremaining: 387ms\n",
      "371:\tlearn: 0.1567127\ttotal: 229ms\tremaining: 386ms\n",
      "372:\tlearn: 0.1559710\ttotal: 229ms\tremaining: 385ms\n",
      "373:\tlearn: 0.1552808\ttotal: 229ms\tremaining: 384ms\n",
      "374:\tlearn: 0.1546764\ttotal: 230ms\tremaining: 383ms\n",
      "375:\tlearn: 0.1540081\ttotal: 230ms\tremaining: 382ms\n",
      "376:\tlearn: 0.1534020\ttotal: 231ms\tremaining: 381ms\n",
      "377:\tlearn: 0.1527905\ttotal: 231ms\tremaining: 380ms\n",
      "378:\tlearn: 0.1522094\ttotal: 232ms\tremaining: 379ms\n",
      "379:\tlearn: 0.1516430\ttotal: 232ms\tremaining: 379ms\n",
      "380:\tlearn: 0.1510139\ttotal: 232ms\tremaining: 378ms\n",
      "381:\tlearn: 0.1503644\ttotal: 233ms\tremaining: 377ms\n",
      "382:\tlearn: 0.1498131\ttotal: 234ms\tremaining: 377ms\n",
      "383:\tlearn: 0.1490960\ttotal: 234ms\tremaining: 376ms\n",
      "384:\tlearn: 0.1485009\ttotal: 235ms\tremaining: 375ms\n",
      "385:\tlearn: 0.1479187\ttotal: 235ms\tremaining: 374ms\n",
      "386:\tlearn: 0.1473842\ttotal: 236ms\tremaining: 373ms\n",
      "387:\tlearn: 0.1467817\ttotal: 236ms\tremaining: 372ms\n",
      "388:\tlearn: 0.1461930\ttotal: 236ms\tremaining: 371ms\n",
      "389:\tlearn: 0.1455937\ttotal: 237ms\tremaining: 371ms\n",
      "390:\tlearn: 0.1448800\ttotal: 237ms\tremaining: 370ms\n",
      "391:\tlearn: 0.1443064\ttotal: 238ms\tremaining: 369ms\n",
      "392:\tlearn: 0.1437979\ttotal: 238ms\tremaining: 368ms\n",
      "393:\tlearn: 0.1432070\ttotal: 239ms\tremaining: 367ms\n",
      "394:\tlearn: 0.1426449\ttotal: 239ms\tremaining: 366ms\n",
      "395:\tlearn: 0.1420741\ttotal: 239ms\tremaining: 365ms\n",
      "396:\tlearn: 0.1415568\ttotal: 240ms\tremaining: 364ms\n",
      "397:\tlearn: 0.1410291\ttotal: 240ms\tremaining: 364ms\n",
      "398:\tlearn: 0.1405026\ttotal: 241ms\tremaining: 363ms\n",
      "399:\tlearn: 0.1398118\ttotal: 241ms\tremaining: 362ms\n",
      "400:\tlearn: 0.1392151\ttotal: 242ms\tremaining: 361ms\n",
      "401:\tlearn: 0.1386334\ttotal: 242ms\tremaining: 360ms\n",
      "402:\tlearn: 0.1379879\ttotal: 243ms\tremaining: 359ms\n",
      "403:\tlearn: 0.1374676\ttotal: 243ms\tremaining: 358ms\n",
      "404:\tlearn: 0.1369117\ttotal: 243ms\tremaining: 358ms\n",
      "405:\tlearn: 0.1363698\ttotal: 244ms\tremaining: 357ms\n",
      "406:\tlearn: 0.1354949\ttotal: 244ms\tremaining: 356ms\n",
      "407:\tlearn: 0.1346436\ttotal: 245ms\tremaining: 355ms\n",
      "408:\tlearn: 0.1341411\ttotal: 245ms\tremaining: 354ms\n",
      "409:\tlearn: 0.1336631\ttotal: 245ms\tremaining: 353ms\n",
      "410:\tlearn: 0.1328446\ttotal: 246ms\tremaining: 352ms\n",
      "411:\tlearn: 0.1320484\ttotal: 246ms\tremaining: 352ms\n",
      "412:\tlearn: 0.1315974\ttotal: 247ms\tremaining: 351ms\n",
      "413:\tlearn: 0.1308551\ttotal: 247ms\tremaining: 350ms\n",
      "414:\tlearn: 0.1303686\ttotal: 248ms\tremaining: 349ms\n",
      "415:\tlearn: 0.1296475\ttotal: 248ms\tremaining: 348ms\n",
      "416:\tlearn: 0.1293161\ttotal: 249ms\tremaining: 348ms\n",
      "417:\tlearn: 0.1286140\ttotal: 249ms\tremaining: 347ms\n",
      "418:\tlearn: 0.1282947\ttotal: 250ms\tremaining: 346ms\n",
      "419:\tlearn: 0.1277723\ttotal: 250ms\tremaining: 346ms\n",
      "420:\tlearn: 0.1270915\ttotal: 251ms\tremaining: 345ms\n"
     ]
    },
    {
     "name": "stdout",
     "output_type": "stream",
     "text": [
      "421:\tlearn: 0.1268289\ttotal: 254ms\tremaining: 348ms\n",
      "422:\tlearn: 0.1265257\ttotal: 254ms\tremaining: 347ms\n",
      "423:\tlearn: 0.1260726\ttotal: 255ms\tremaining: 346ms\n",
      "424:\tlearn: 0.1258194\ttotal: 255ms\tremaining: 346ms\n",
      "425:\tlearn: 0.1253299\ttotal: 256ms\tremaining: 345ms\n",
      "426:\tlearn: 0.1250844\ttotal: 256ms\tremaining: 344ms\n",
      "427:\tlearn: 0.1248455\ttotal: 257ms\tremaining: 343ms\n",
      "428:\tlearn: 0.1244145\ttotal: 257ms\tremaining: 342ms\n",
      "429:\tlearn: 0.1239514\ttotal: 258ms\tremaining: 342ms\n",
      "430:\tlearn: 0.1232692\ttotal: 258ms\tremaining: 341ms\n",
      "431:\tlearn: 0.1231557\ttotal: 259ms\tremaining: 340ms\n",
      "432:\tlearn: 0.1224959\ttotal: 259ms\tremaining: 339ms\n",
      "433:\tlearn: 0.1223845\ttotal: 260ms\tremaining: 338ms\n",
      "434:\tlearn: 0.1218883\ttotal: 260ms\tremaining: 338ms\n",
      "435:\tlearn: 0.1215169\ttotal: 260ms\tremaining: 337ms\n",
      "436:\tlearn: 0.1210730\ttotal: 261ms\tremaining: 336ms\n",
      "437:\tlearn: 0.1207122\ttotal: 261ms\tremaining: 335ms\n",
      "438:\tlearn: 0.1202818\ttotal: 262ms\tremaining: 335ms\n",
      "439:\tlearn: 0.1201733\ttotal: 262ms\tremaining: 334ms\n",
      "440:\tlearn: 0.1195537\ttotal: 263ms\tremaining: 333ms\n",
      "441:\tlearn: 0.1193319\ttotal: 263ms\tremaining: 332ms\n",
      "442:\tlearn: 0.1191739\ttotal: 264ms\tremaining: 331ms\n",
      "443:\tlearn: 0.1187789\ttotal: 264ms\tremaining: 331ms\n",
      "444:\tlearn: 0.1186245\ttotal: 265ms\tremaining: 330ms\n",
      "445:\tlearn: 0.1179112\ttotal: 265ms\tremaining: 329ms\n",
      "446:\tlearn: 0.1175451\ttotal: 266ms\tremaining: 329ms\n",
      "447:\tlearn: 0.1171889\ttotal: 266ms\tremaining: 328ms\n",
      "448:\tlearn: 0.1164976\ttotal: 266ms\tremaining: 327ms\n",
      "449:\tlearn: 0.1160842\ttotal: 267ms\tremaining: 326ms\n",
      "450:\tlearn: 0.1154112\ttotal: 267ms\tremaining: 325ms\n",
      "451:\tlearn: 0.1152394\ttotal: 268ms\tremaining: 325ms\n",
      "452:\tlearn: 0.1145860\ttotal: 269ms\tremaining: 324ms\n",
      "453:\tlearn: 0.1144172\ttotal: 269ms\tremaining: 324ms\n",
      "454:\tlearn: 0.1140724\ttotal: 269ms\tremaining: 323ms\n",
      "455:\tlearn: 0.1139053\ttotal: 270ms\tremaining: 322ms\n",
      "456:\tlearn: 0.1137405\ttotal: 270ms\tremaining: 321ms\n",
      "457:\tlearn: 0.1131967\ttotal: 271ms\tremaining: 320ms\n",
      "458:\tlearn: 0.1126673\ttotal: 271ms\tremaining: 320ms\n",
      "459:\tlearn: 0.1120385\ttotal: 271ms\tremaining: 319ms\n",
      "460:\tlearn: 0.1115248\ttotal: 272ms\tremaining: 318ms\n",
      "461:\tlearn: 0.1110752\ttotal: 272ms\tremaining: 317ms\n",
      "462:\tlearn: 0.1105757\ttotal: 273ms\tremaining: 316ms\n",
      "463:\tlearn: 0.1099735\ttotal: 273ms\tremaining: 316ms\n",
      "464:\tlearn: 0.1094887\ttotal: 274ms\tremaining: 315ms\n",
      "465:\tlearn: 0.1090571\ttotal: 274ms\tremaining: 314ms\n",
      "466:\tlearn: 0.1085857\ttotal: 275ms\tremaining: 313ms\n",
      "467:\tlearn: 0.1080089\ttotal: 275ms\tremaining: 313ms\n",
      "468:\tlearn: 0.1075514\ttotal: 276ms\tremaining: 312ms\n",
      "469:\tlearn: 0.1071370\ttotal: 276ms\tremaining: 311ms\n",
      "470:\tlearn: 0.1066921\ttotal: 277ms\tremaining: 311ms\n",
      "471:\tlearn: 0.1061396\ttotal: 277ms\tremaining: 310ms\n",
      "472:\tlearn: 0.1055448\ttotal: 277ms\tremaining: 309ms\n",
      "473:\tlearn: 0.1051147\ttotal: 278ms\tremaining: 308ms\n",
      "474:\tlearn: 0.1046378\ttotal: 278ms\tremaining: 308ms\n",
      "475:\tlearn: 0.1040646\ttotal: 279ms\tremaining: 307ms\n",
      "476:\tlearn: 0.1036409\ttotal: 279ms\tremaining: 306ms\n",
      "477:\tlearn: 0.1031108\ttotal: 280ms\tremaining: 306ms\n",
      "478:\tlearn: 0.1026985\ttotal: 280ms\tremaining: 305ms\n",
      "479:\tlearn: 0.1021991\ttotal: 281ms\tremaining: 304ms\n",
      "480:\tlearn: 0.1017116\ttotal: 281ms\tremaining: 304ms\n",
      "481:\tlearn: 0.1012356\ttotal: 282ms\tremaining: 303ms\n",
      "482:\tlearn: 0.1007074\ttotal: 282ms\tremaining: 302ms\n",
      "483:\tlearn: 0.1002475\ttotal: 283ms\tremaining: 301ms\n",
      "484:\tlearn: 0.0997594\ttotal: 283ms\tremaining: 301ms\n",
      "485:\tlearn: 0.0992542\ttotal: 284ms\tremaining: 300ms\n",
      "486:\tlearn: 0.0988163\ttotal: 284ms\tremaining: 299ms\n",
      "487:\tlearn: 0.0983530\ttotal: 285ms\tremaining: 299ms\n",
      "488:\tlearn: 0.0979088\ttotal: 285ms\tremaining: 298ms\n",
      "489:\tlearn: 0.0976053\ttotal: 286ms\tremaining: 298ms\n",
      "490:\tlearn: 0.0973079\ttotal: 286ms\tremaining: 297ms\n",
      "491:\tlearn: 0.0970166\ttotal: 287ms\tremaining: 296ms\n",
      "492:\tlearn: 0.0965830\ttotal: 287ms\tremaining: 295ms\n",
      "493:\tlearn: 0.0961760\ttotal: 288ms\tremaining: 295ms\n",
      "494:\tlearn: 0.0960232\ttotal: 288ms\tremaining: 294ms\n",
      "495:\tlearn: 0.0956261\ttotal: 289ms\tremaining: 293ms\n",
      "496:\tlearn: 0.0954754\ttotal: 289ms\tremaining: 293ms\n",
      "497:\tlearn: 0.0950880\ttotal: 290ms\tremaining: 292ms\n",
      "498:\tlearn: 0.0949394\ttotal: 290ms\tremaining: 291ms\n",
      "499:\tlearn: 0.0945024\ttotal: 291ms\tremaining: 291ms\n",
      "500:\tlearn: 0.0941164\ttotal: 291ms\tremaining: 290ms\n",
      "501:\tlearn: 0.0939708\ttotal: 292ms\tremaining: 289ms\n",
      "502:\tlearn: 0.0935993\ttotal: 292ms\tremaining: 289ms\n",
      "503:\tlearn: 0.0934557\ttotal: 292ms\tremaining: 288ms\n",
      "504:\tlearn: 0.0930364\ttotal: 293ms\tremaining: 287ms\n",
      "505:\tlearn: 0.0926613\ttotal: 293ms\tremaining: 286ms\n",
      "506:\tlearn: 0.0925203\ttotal: 294ms\tremaining: 286ms\n",
      "507:\tlearn: 0.0922198\ttotal: 294ms\tremaining: 285ms\n",
      "508:\tlearn: 0.0918448\ttotal: 295ms\tremaining: 284ms\n",
      "509:\tlearn: 0.0917157\ttotal: 295ms\tremaining: 284ms\n",
      "510:\tlearn: 0.0913502\ttotal: 296ms\tremaining: 283ms\n",
      "511:\tlearn: 0.0912345\ttotal: 296ms\tremaining: 282ms\n",
      "512:\tlearn: 0.0909417\ttotal: 297ms\tremaining: 282ms\n",
      "513:\tlearn: 0.0908167\ttotal: 297ms\tremaining: 281ms\n",
      "514:\tlearn: 0.0904572\ttotal: 298ms\tremaining: 280ms\n",
      "515:\tlearn: 0.0901708\ttotal: 298ms\tremaining: 280ms\n",
      "516:\tlearn: 0.0899559\ttotal: 299ms\tremaining: 279ms\n",
      "517:\tlearn: 0.0898330\ttotal: 299ms\tremaining: 278ms\n",
      "518:\tlearn: 0.0896225\ttotal: 299ms\tremaining: 278ms\n",
      "519:\tlearn: 0.0893418\ttotal: 300ms\tremaining: 277ms\n",
      "520:\tlearn: 0.0891415\ttotal: 300ms\tremaining: 276ms\n",
      "521:\tlearn: 0.0890205\ttotal: 301ms\tremaining: 275ms\n",
      "522:\tlearn: 0.0886865\ttotal: 301ms\tremaining: 275ms\n",
      "523:\tlearn: 0.0885667\ttotal: 302ms\tremaining: 274ms\n",
      "524:\tlearn: 0.0883645\ttotal: 302ms\tremaining: 273ms\n",
      "525:\tlearn: 0.0880908\ttotal: 303ms\tremaining: 273ms\n",
      "526:\tlearn: 0.0879730\ttotal: 303ms\tremaining: 272ms\n",
      "527:\tlearn: 0.0877802\ttotal: 304ms\tremaining: 272ms\n",
      "528:\tlearn: 0.0874577\ttotal: 304ms\tremaining: 271ms\n",
      "529:\tlearn: 0.0873408\ttotal: 305ms\tremaining: 270ms\n",
      "530:\tlearn: 0.0872255\ttotal: 305ms\tremaining: 270ms\n",
      "531:\tlearn: 0.0870377\ttotal: 306ms\tremaining: 269ms\n",
      "532:\tlearn: 0.0867714\ttotal: 307ms\tremaining: 269ms\n",
      "533:\tlearn: 0.0864051\ttotal: 307ms\tremaining: 268ms\n",
      "534:\tlearn: 0.0862916\ttotal: 308ms\tremaining: 267ms\n",
      "535:\tlearn: 0.0861089\ttotal: 308ms\tremaining: 267ms\n",
      "536:\tlearn: 0.0859967\ttotal: 309ms\tremaining: 266ms\n",
      "537:\tlearn: 0.0856665\ttotal: 309ms\tremaining: 265ms\n",
      "538:\tlearn: 0.0855558\ttotal: 310ms\tremaining: 265ms\n",
      "539:\tlearn: 0.0852216\ttotal: 310ms\tremaining: 264ms\n",
      "540:\tlearn: 0.0849653\ttotal: 311ms\tremaining: 263ms\n",
      "541:\tlearn: 0.0847807\ttotal: 311ms\tremaining: 263ms\n",
      "542:\tlearn: 0.0845291\ttotal: 311ms\tremaining: 262ms\n",
      "543:\tlearn: 0.0843543\ttotal: 312ms\tremaining: 261ms\n",
      "544:\tlearn: 0.0842457\ttotal: 312ms\tremaining: 261ms\n",
      "545:\tlearn: 0.0839923\ttotal: 313ms\tremaining: 260ms\n",
      "546:\tlearn: 0.0837455\ttotal: 313ms\tremaining: 259ms\n",
      "547:\tlearn: 0.0834976\ttotal: 314ms\tremaining: 259ms\n",
      "548:\tlearn: 0.0833915\ttotal: 314ms\tremaining: 258ms\n",
      "549:\tlearn: 0.0830753\ttotal: 314ms\tremaining: 257ms\n",
      "550:\tlearn: 0.0828339\ttotal: 315ms\tremaining: 257ms\n",
      "551:\tlearn: 0.0825947\ttotal: 315ms\tremaining: 256ms\n",
      "552:\tlearn: 0.0823609\ttotal: 316ms\tremaining: 255ms\n"
     ]
    },
    {
     "name": "stdout",
     "output_type": "stream",
     "text": [
      "553:\tlearn: 0.0821237\ttotal: 317ms\tremaining: 255ms\n",
      "554:\tlearn: 0.0816528\ttotal: 318ms\tremaining: 255ms\n",
      "555:\tlearn: 0.0815504\ttotal: 318ms\tremaining: 254ms\n",
      "556:\tlearn: 0.0812340\ttotal: 319ms\tremaining: 254ms\n",
      "557:\tlearn: 0.0809405\ttotal: 319ms\tremaining: 253ms\n",
      "558:\tlearn: 0.0808412\ttotal: 320ms\tremaining: 253ms\n",
      "559:\tlearn: 0.0806158\ttotal: 321ms\tremaining: 252ms\n",
      "560:\tlearn: 0.0803901\ttotal: 321ms\tremaining: 251ms\n",
      "561:\tlearn: 0.0801697\ttotal: 322ms\tremaining: 251ms\n",
      "562:\tlearn: 0.0800727\ttotal: 322ms\tremaining: 250ms\n",
      "563:\tlearn: 0.0797910\ttotal: 323ms\tremaining: 249ms\n",
      "564:\tlearn: 0.0794485\ttotal: 323ms\tremaining: 249ms\n",
      "565:\tlearn: 0.0793544\ttotal: 323ms\tremaining: 248ms\n",
      "566:\tlearn: 0.0791370\ttotal: 324ms\tremaining: 247ms\n",
      "567:\tlearn: 0.0787910\ttotal: 324ms\tremaining: 247ms\n",
      "568:\tlearn: 0.0784993\ttotal: 325ms\tremaining: 246ms\n",
      "569:\tlearn: 0.0782858\ttotal: 325ms\tremaining: 245ms\n",
      "570:\tlearn: 0.0781948\ttotal: 326ms\tremaining: 245ms\n",
      "571:\tlearn: 0.0779129\ttotal: 327ms\tremaining: 244ms\n",
      "572:\tlearn: 0.0777085\ttotal: 327ms\tremaining: 244ms\n",
      "573:\tlearn: 0.0776188\ttotal: 328ms\tremaining: 243ms\n",
      "574:\tlearn: 0.0774182\ttotal: 328ms\tremaining: 243ms\n",
      "575:\tlearn: 0.0771796\ttotal: 329ms\tremaining: 242ms\n",
      "576:\tlearn: 0.0769192\ttotal: 329ms\tremaining: 241ms\n",
      "577:\tlearn: 0.0768313\ttotal: 330ms\tremaining: 241ms\n",
      "578:\tlearn: 0.0765773\ttotal: 330ms\tremaining: 240ms\n",
      "579:\tlearn: 0.0763374\ttotal: 330ms\tremaining: 239ms\n",
      "580:\tlearn: 0.0760553\ttotal: 331ms\tremaining: 239ms\n",
      "581:\tlearn: 0.0758208\ttotal: 331ms\tremaining: 238ms\n",
      "582:\tlearn: 0.0756294\ttotal: 332ms\tremaining: 237ms\n",
      "583:\tlearn: 0.0754229\ttotal: 332ms\tremaining: 237ms\n",
      "584:\tlearn: 0.0751933\ttotal: 333ms\tremaining: 236ms\n",
      "585:\tlearn: 0.0751079\ttotal: 333ms\tremaining: 235ms\n",
      "586:\tlearn: 0.0748653\ttotal: 334ms\tremaining: 235ms\n",
      "587:\tlearn: 0.0746409\ttotal: 334ms\tremaining: 234ms\n",
      "588:\tlearn: 0.0743679\ttotal: 335ms\tremaining: 234ms\n",
      "589:\tlearn: 0.0741485\ttotal: 335ms\tremaining: 233ms\n",
      "590:\tlearn: 0.0739042\ttotal: 336ms\tremaining: 232ms\n",
      "591:\tlearn: 0.0736893\ttotal: 336ms\tremaining: 232ms\n",
      "592:\tlearn: 0.0734901\ttotal: 337ms\tremaining: 231ms\n",
      "593:\tlearn: 0.0732352\ttotal: 337ms\tremaining: 230ms\n",
      "594:\tlearn: 0.0731525\ttotal: 338ms\tremaining: 230ms\n",
      "595:\tlearn: 0.0728882\ttotal: 338ms\tremaining: 229ms\n",
      "596:\tlearn: 0.0727087\ttotal: 339ms\tremaining: 229ms\n",
      "597:\tlearn: 0.0725152\ttotal: 339ms\tremaining: 228ms\n",
      "598:\tlearn: 0.0722651\ttotal: 340ms\tremaining: 227ms\n",
      "599:\tlearn: 0.0721849\ttotal: 340ms\tremaining: 227ms\n",
      "600:\tlearn: 0.0719418\ttotal: 341ms\tremaining: 226ms\n",
      "601:\tlearn: 0.0718629\ttotal: 341ms\tremaining: 225ms\n",
      "602:\tlearn: 0.0716118\ttotal: 342ms\tremaining: 225ms\n",
      "603:\tlearn: 0.0714386\ttotal: 342ms\tremaining: 224ms\n",
      "604:\tlearn: 0.0711992\ttotal: 343ms\tremaining: 224ms\n",
      "605:\tlearn: 0.0709667\ttotal: 343ms\tremaining: 223ms\n",
      "606:\tlearn: 0.0708898\ttotal: 343ms\tremaining: 222ms\n",
      "607:\tlearn: 0.0707043\ttotal: 344ms\tremaining: 222ms\n",
      "608:\tlearn: 0.0704748\ttotal: 344ms\tremaining: 221ms\n",
      "609:\tlearn: 0.0703996\ttotal: 345ms\tremaining: 220ms\n",
      "610:\tlearn: 0.0701753\ttotal: 345ms\tremaining: 220ms\n",
      "611:\tlearn: 0.0699301\ttotal: 346ms\tremaining: 219ms\n",
      "612:\tlearn: 0.0697680\ttotal: 346ms\tremaining: 219ms\n",
      "613:\tlearn: 0.0696946\ttotal: 347ms\tremaining: 218ms\n",
      "614:\tlearn: 0.0694589\ttotal: 347ms\tremaining: 217ms\n",
      "615:\tlearn: 0.0692998\ttotal: 348ms\tremaining: 217ms\n",
      "616:\tlearn: 0.0690715\ttotal: 348ms\tremaining: 216ms\n",
      "617:\tlearn: 0.0688563\ttotal: 349ms\tremaining: 216ms\n",
      "618:\tlearn: 0.0683951\ttotal: 349ms\tremaining: 215ms\n",
      "619:\tlearn: 0.0682403\ttotal: 350ms\tremaining: 214ms\n",
      "620:\tlearn: 0.0677905\ttotal: 350ms\tremaining: 214ms\n",
      "621:\tlearn: 0.0676038\ttotal: 351ms\tremaining: 213ms\n",
      "622:\tlearn: 0.0671658\ttotal: 351ms\tremaining: 212ms\n",
      "623:\tlearn: 0.0670956\ttotal: 352ms\tremaining: 212ms\n",
      "624:\tlearn: 0.0669144\ttotal: 352ms\tremaining: 211ms\n",
      "625:\tlearn: 0.0664883\ttotal: 352ms\tremaining: 210ms\n",
      "626:\tlearn: 0.0663120\ttotal: 353ms\tremaining: 210ms\n",
      "627:\tlearn: 0.0658992\ttotal: 353ms\tremaining: 209ms\n",
      "628:\tlearn: 0.0656560\ttotal: 354ms\tremaining: 209ms\n",
      "629:\tlearn: 0.0653080\ttotal: 354ms\tremaining: 208ms\n",
      "630:\tlearn: 0.0651383\ttotal: 355ms\tremaining: 208ms\n",
      "631:\tlearn: 0.0649017\ttotal: 355ms\tremaining: 207ms\n",
      "632:\tlearn: 0.0645634\ttotal: 356ms\tremaining: 206ms\n",
      "633:\tlearn: 0.0643327\ttotal: 356ms\tremaining: 206ms\n",
      "634:\tlearn: 0.0639491\ttotal: 357ms\tremaining: 205ms\n",
      "635:\tlearn: 0.0637251\ttotal: 357ms\tremaining: 205ms\n",
      "636:\tlearn: 0.0634017\ttotal: 358ms\tremaining: 204ms\n",
      "637:\tlearn: 0.0631834\ttotal: 358ms\tremaining: 203ms\n",
      "638:\tlearn: 0.0628679\ttotal: 359ms\tremaining: 203ms\n",
      "639:\tlearn: 0.0626040\ttotal: 359ms\tremaining: 202ms\n",
      "640:\tlearn: 0.0622942\ttotal: 360ms\tremaining: 201ms\n",
      "641:\tlearn: 0.0620384\ttotal: 360ms\tremaining: 201ms\n",
      "642:\tlearn: 0.0617896\ttotal: 360ms\tremaining: 200ms\n",
      "643:\tlearn: 0.0614894\ttotal: 361ms\tremaining: 200ms\n",
      "644:\tlearn: 0.0612480\ttotal: 361ms\tremaining: 199ms\n",
      "645:\tlearn: 0.0610635\ttotal: 362ms\tremaining: 198ms\n",
      "646:\tlearn: 0.0609071\ttotal: 362ms\tremaining: 198ms\n",
      "647:\tlearn: 0.0606191\ttotal: 363ms\tremaining: 197ms\n",
      "648:\tlearn: 0.0603340\ttotal: 363ms\tremaining: 196ms\n",
      "649:\tlearn: 0.0601825\ttotal: 364ms\tremaining: 196ms\n",
      "650:\tlearn: 0.0599728\ttotal: 364ms\tremaining: 195ms\n",
      "651:\tlearn: 0.0597679\ttotal: 365ms\tremaining: 195ms\n",
      "652:\tlearn: 0.0594877\ttotal: 365ms\tremaining: 194ms\n",
      "653:\tlearn: 0.0593104\ttotal: 366ms\tremaining: 193ms\n",
      "654:\tlearn: 0.0591102\ttotal: 366ms\tremaining: 193ms\n",
      "655:\tlearn: 0.0588841\ttotal: 367ms\tremaining: 192ms\n",
      "656:\tlearn: 0.0586166\ttotal: 367ms\tremaining: 192ms\n",
      "657:\tlearn: 0.0584183\ttotal: 368ms\tremaining: 191ms\n",
      "658:\tlearn: 0.0582242\ttotal: 368ms\tremaining: 191ms\n",
      "659:\tlearn: 0.0580343\ttotal: 369ms\tremaining: 190ms\n",
      "660:\tlearn: 0.0578483\ttotal: 369ms\tremaining: 189ms\n",
      "661:\tlearn: 0.0576663\ttotal: 370ms\tremaining: 189ms\n",
      "662:\tlearn: 0.0575165\ttotal: 370ms\tremaining: 188ms\n",
      "663:\tlearn: 0.0573717\ttotal: 371ms\tremaining: 187ms\n",
      "664:\tlearn: 0.0573138\ttotal: 371ms\tremaining: 187ms\n",
      "665:\tlearn: 0.0571722\ttotal: 371ms\tremaining: 186ms\n",
      "666:\tlearn: 0.0569789\ttotal: 372ms\tremaining: 186ms\n",
      "667:\tlearn: 0.0567220\ttotal: 372ms\tremaining: 185ms\n",
      "668:\tlearn: 0.0565334\ttotal: 373ms\tremaining: 184ms\n",
      "669:\tlearn: 0.0562371\ttotal: 373ms\tremaining: 184ms\n",
      "670:\tlearn: 0.0559909\ttotal: 374ms\tremaining: 183ms\n",
      "671:\tlearn: 0.0558082\ttotal: 374ms\tremaining: 183ms\n",
      "672:\tlearn: 0.0556220\ttotal: 375ms\tremaining: 182ms\n",
      "673:\tlearn: 0.0553578\ttotal: 375ms\tremaining: 181ms\n",
      "674:\tlearn: 0.0552126\ttotal: 376ms\tremaining: 181ms\n",
      "675:\tlearn: 0.0549569\ttotal: 376ms\tremaining: 180ms\n",
      "676:\tlearn: 0.0548164\ttotal: 377ms\tremaining: 180ms\n",
      "677:\tlearn: 0.0545537\ttotal: 377ms\tremaining: 179ms\n",
      "678:\tlearn: 0.0544983\ttotal: 377ms\tremaining: 178ms\n",
      "679:\tlearn: 0.0542869\ttotal: 378ms\tremaining: 178ms\n",
      "680:\tlearn: 0.0541520\ttotal: 378ms\tremaining: 177ms\n",
      "681:\tlearn: 0.0540198\ttotal: 379ms\tremaining: 177ms\n",
      "682:\tlearn: 0.0539649\ttotal: 379ms\tremaining: 176ms\n",
      "683:\tlearn: 0.0537251\ttotal: 380ms\tremaining: 175ms\n",
      "684:\tlearn: 0.0536710\ttotal: 380ms\tremaining: 175ms\n",
      "685:\tlearn: 0.0534376\ttotal: 381ms\tremaining: 174ms\n",
      "686:\tlearn: 0.0533842\ttotal: 381ms\tremaining: 174ms\n",
      "687:\tlearn: 0.0532573\ttotal: 382ms\tremaining: 173ms\n",
      "688:\tlearn: 0.0530326\ttotal: 382ms\tremaining: 172ms\n",
      "689:\tlearn: 0.0529797\ttotal: 382ms\tremaining: 172ms\n",
      "690:\tlearn: 0.0528120\ttotal: 383ms\tremaining: 171ms\n",
      "691:\tlearn: 0.0526897\ttotal: 383ms\tremaining: 171ms\n",
      "692:\tlearn: 0.0526372\ttotal: 384ms\tremaining: 170ms\n",
      "693:\tlearn: 0.0524206\ttotal: 384ms\tremaining: 169ms\n",
      "694:\tlearn: 0.0522576\ttotal: 385ms\tremaining: 169ms\n",
      "695:\tlearn: 0.0521004\ttotal: 385ms\tremaining: 168ms\n",
      "696:\tlearn: 0.0519006\ttotal: 386ms\tremaining: 168ms\n",
      "697:\tlearn: 0.0517058\ttotal: 386ms\tremaining: 167ms\n",
      "698:\tlearn: 0.0515520\ttotal: 386ms\tremaining: 166ms\n",
      "699:\tlearn: 0.0513618\ttotal: 387ms\tremaining: 166ms\n",
      "700:\tlearn: 0.0511763\ttotal: 387ms\tremaining: 165ms\n",
      "701:\tlearn: 0.0510582\ttotal: 388ms\tremaining: 165ms\n",
      "702:\tlearn: 0.0509076\ttotal: 388ms\tremaining: 164ms\n",
      "703:\tlearn: 0.0507265\ttotal: 389ms\tremaining: 164ms\n",
      "704:\tlearn: 0.0505187\ttotal: 390ms\tremaining: 163ms\n",
      "705:\tlearn: 0.0504030\ttotal: 390ms\tremaining: 162ms\n",
      "706:\tlearn: 0.0502271\ttotal: 391ms\tremaining: 162ms\n",
      "707:\tlearn: 0.0501139\ttotal: 391ms\tremaining: 161ms\n",
      "708:\tlearn: 0.0499175\ttotal: 392ms\tremaining: 161ms\n",
      "709:\tlearn: 0.0497460\ttotal: 392ms\tremaining: 160ms\n",
      "710:\tlearn: 0.0495585\ttotal: 392ms\tremaining: 159ms\n",
      "711:\tlearn: 0.0494476\ttotal: 393ms\tremaining: 159ms\n",
      "712:\tlearn: 0.0493840\ttotal: 393ms\tremaining: 158ms\n",
      "713:\tlearn: 0.0492188\ttotal: 393ms\tremaining: 158ms\n",
      "714:\tlearn: 0.0490616\ttotal: 394ms\tremaining: 157ms\n",
      "715:\tlearn: 0.0489537\ttotal: 394ms\tremaining: 156ms\n",
      "716:\tlearn: 0.0488916\ttotal: 395ms\tremaining: 156ms\n",
      "717:\tlearn: 0.0486905\ttotal: 395ms\tremaining: 155ms\n",
      "718:\tlearn: 0.0485373\ttotal: 396ms\tremaining: 155ms\n",
      "719:\tlearn: 0.0483876\ttotal: 396ms\tremaining: 154ms\n",
      "720:\tlearn: 0.0482541\ttotal: 397ms\tremaining: 154ms\n",
      "721:\tlearn: 0.0481716\ttotal: 397ms\tremaining: 153ms\n",
      "722:\tlearn: 0.0481197\ttotal: 398ms\tremaining: 152ms\n",
      "723:\tlearn: 0.0479892\ttotal: 398ms\tremaining: 152ms\n",
      "724:\tlearn: 0.0479095\ttotal: 399ms\tremaining: 151ms\n",
      "725:\tlearn: 0.0477820\ttotal: 399ms\tremaining: 151ms\n",
      "726:\tlearn: 0.0477254\ttotal: 400ms\tremaining: 150ms\n",
      "727:\tlearn: 0.0476006\ttotal: 400ms\tremaining: 149ms\n",
      "728:\tlearn: 0.0475451\ttotal: 401ms\tremaining: 149ms\n",
      "729:\tlearn: 0.0474441\ttotal: 401ms\tremaining: 148ms\n",
      "730:\tlearn: 0.0472519\ttotal: 401ms\tremaining: 148ms\n",
      "731:\tlearn: 0.0471307\ttotal: 402ms\tremaining: 147ms\n",
      "732:\tlearn: 0.0470620\ttotal: 402ms\tremaining: 147ms\n",
      "733:\tlearn: 0.0469146\ttotal: 403ms\tremaining: 146ms\n",
      "734:\tlearn: 0.0467955\ttotal: 404ms\tremaining: 146ms\n",
      "735:\tlearn: 0.0467412\ttotal: 404ms\tremaining: 145ms\n",
      "736:\tlearn: 0.0466385\ttotal: 405ms\tremaining: 144ms\n",
      "737:\tlearn: 0.0464937\ttotal: 405ms\tremaining: 144ms\n",
      "738:\tlearn: 0.0463779\ttotal: 406ms\tremaining: 143ms\n",
      "739:\tlearn: 0.0462993\ttotal: 406ms\tremaining: 143ms\n",
      "740:\tlearn: 0.0462437\ttotal: 407ms\tremaining: 142ms\n",
      "741:\tlearn: 0.0460620\ttotal: 407ms\tremaining: 142ms\n",
      "742:\tlearn: 0.0459207\ttotal: 408ms\tremaining: 141ms\n",
      "743:\tlearn: 0.0457827\ttotal: 408ms\tremaining: 140ms\n",
      "744:\tlearn: 0.0456693\ttotal: 409ms\tremaining: 140ms\n",
      "745:\tlearn: 0.0455936\ttotal: 409ms\tremaining: 139ms\n",
      "746:\tlearn: 0.0454756\ttotal: 410ms\tremaining: 139ms\n",
      "747:\tlearn: 0.0454009\ttotal: 410ms\tremaining: 138ms\n",
      "748:\tlearn: 0.0453477\ttotal: 411ms\tremaining: 138ms\n",
      "749:\tlearn: 0.0451736\ttotal: 411ms\tremaining: 137ms\n",
      "750:\tlearn: 0.0450388\ttotal: 412ms\tremaining: 136ms\n",
      "751:\tlearn: 0.0449072\ttotal: 412ms\tremaining: 136ms\n",
      "752:\tlearn: 0.0447973\ttotal: 412ms\tremaining: 135ms\n",
      "753:\tlearn: 0.0447254\ttotal: 413ms\tremaining: 135ms\n",
      "754:\tlearn: 0.0446110\ttotal: 413ms\tremaining: 134ms\n",
      "755:\tlearn: 0.0445400\ttotal: 414ms\tremaining: 134ms\n",
      "756:\tlearn: 0.0444703\ttotal: 414ms\tremaining: 133ms\n",
      "757:\tlearn: 0.0443419\ttotal: 415ms\tremaining: 132ms\n",
      "758:\tlearn: 0.0442349\ttotal: 415ms\tremaining: 132ms\n",
      "759:\tlearn: 0.0441665\ttotal: 415ms\tremaining: 131ms\n",
      "760:\tlearn: 0.0440008\ttotal: 416ms\tremaining: 131ms\n"
     ]
    },
    {
     "name": "stdout",
     "output_type": "stream",
     "text": [
      "761:\tlearn: 0.0438752\ttotal: 416ms\tremaining: 130ms\n",
      "762:\tlearn: 0.0437772\ttotal: 417ms\tremaining: 130ms\n",
      "763:\tlearn: 0.0436813\ttotal: 418ms\tremaining: 129ms\n",
      "764:\tlearn: 0.0436147\ttotal: 418ms\tremaining: 128ms\n",
      "765:\tlearn: 0.0435036\ttotal: 418ms\tremaining: 128ms\n",
      "766:\tlearn: 0.0434379\ttotal: 419ms\tremaining: 127ms\n",
      "767:\tlearn: 0.0433211\ttotal: 419ms\tremaining: 127ms\n",
      "768:\tlearn: 0.0432131\ttotal: 420ms\tremaining: 126ms\n",
      "769:\tlearn: 0.0431485\ttotal: 420ms\tremaining: 125ms\n",
      "770:\tlearn: 0.0430479\ttotal: 421ms\tremaining: 125ms\n",
      "771:\tlearn: 0.0429755\ttotal: 421ms\tremaining: 124ms\n",
      "772:\tlearn: 0.0428637\ttotal: 422ms\tremaining: 124ms\n",
      "773:\tlearn: 0.0427076\ttotal: 422ms\tremaining: 123ms\n",
      "774:\tlearn: 0.0426139\ttotal: 423ms\tremaining: 123ms\n",
      "775:\tlearn: 0.0425435\ttotal: 423ms\tremaining: 122ms\n",
      "776:\tlearn: 0.0423794\ttotal: 424ms\tremaining: 122ms\n",
      "777:\tlearn: 0.0422276\ttotal: 424ms\tremaining: 121ms\n",
      "778:\tlearn: 0.0421263\ttotal: 425ms\tremaining: 121ms\n",
      "779:\tlearn: 0.0420571\ttotal: 425ms\tremaining: 120ms\n",
      "780:\tlearn: 0.0419100\ttotal: 426ms\tremaining: 119ms\n",
      "781:\tlearn: 0.0417502\ttotal: 426ms\tremaining: 119ms\n",
      "782:\tlearn: 0.0416069\ttotal: 427ms\tremaining: 118ms\n",
      "783:\tlearn: 0.0414858\ttotal: 428ms\tremaining: 118ms\n",
      "784:\tlearn: 0.0413822\ttotal: 428ms\tremaining: 117ms\n",
      "785:\tlearn: 0.0413143\ttotal: 434ms\tremaining: 118ms\n",
      "786:\tlearn: 0.0412015\ttotal: 440ms\tremaining: 119ms\n",
      "787:\tlearn: 0.0411253\ttotal: 441ms\tremaining: 119ms\n",
      "788:\tlearn: 0.0409705\ttotal: 445ms\tremaining: 119ms\n",
      "789:\tlearn: 0.0408650\ttotal: 445ms\tremaining: 118ms\n",
      "790:\tlearn: 0.0407152\ttotal: 446ms\tremaining: 118ms\n",
      "791:\tlearn: 0.0405714\ttotal: 446ms\tremaining: 117ms\n",
      "792:\tlearn: 0.0404726\ttotal: 447ms\tremaining: 117ms\n",
      "793:\tlearn: 0.0403656\ttotal: 447ms\tremaining: 116ms\n",
      "794:\tlearn: 0.0403005\ttotal: 448ms\tremaining: 115ms\n",
      "795:\tlearn: 0.0401809\ttotal: 448ms\tremaining: 115ms\n",
      "796:\tlearn: 0.0400921\ttotal: 449ms\tremaining: 114ms\n",
      "797:\tlearn: 0.0400196\ttotal: 449ms\tremaining: 114ms\n",
      "798:\tlearn: 0.0399332\ttotal: 449ms\tremaining: 113ms\n",
      "799:\tlearn: 0.0397820\ttotal: 450ms\tremaining: 112ms\n",
      "800:\tlearn: 0.0396660\ttotal: 450ms\tremaining: 112ms\n",
      "801:\tlearn: 0.0395813\ttotal: 451ms\tremaining: 111ms\n",
      "802:\tlearn: 0.0394985\ttotal: 451ms\tremaining: 111ms\n",
      "803:\tlearn: 0.0393497\ttotal: 452ms\tremaining: 110ms\n",
      "804:\tlearn: 0.0392156\ttotal: 452ms\tremaining: 110ms\n",
      "805:\tlearn: 0.0390700\ttotal: 453ms\tremaining: 109ms\n",
      "806:\tlearn: 0.0389642\ttotal: 454ms\tremaining: 109ms\n",
      "807:\tlearn: 0.0387893\ttotal: 455ms\tremaining: 108ms\n",
      "808:\tlearn: 0.0386995\ttotal: 456ms\tremaining: 108ms\n",
      "809:\tlearn: 0.0385295\ttotal: 456ms\tremaining: 107ms\n",
      "810:\tlearn: 0.0384277\ttotal: 457ms\tremaining: 106ms\n",
      "811:\tlearn: 0.0382881\ttotal: 457ms\tremaining: 106ms\n",
      "812:\tlearn: 0.0381244\ttotal: 457ms\tremaining: 105ms\n",
      "813:\tlearn: 0.0379881\ttotal: 458ms\tremaining: 105ms\n",
      "814:\tlearn: 0.0378477\ttotal: 458ms\tremaining: 104ms\n",
      "815:\tlearn: 0.0377705\ttotal: 459ms\tremaining: 103ms\n",
      "816:\tlearn: 0.0376697\ttotal: 459ms\tremaining: 103ms\n",
      "817:\tlearn: 0.0375939\ttotal: 460ms\tremaining: 102ms\n",
      "818:\tlearn: 0.0374824\ttotal: 460ms\tremaining: 102ms\n",
      "819:\tlearn: 0.0373811\ttotal: 461ms\tremaining: 101ms\n",
      "820:\tlearn: 0.0372235\ttotal: 461ms\tremaining: 101ms\n",
      "821:\tlearn: 0.0371499\ttotal: 461ms\tremaining: 99.9ms\n",
      "822:\tlearn: 0.0370409\ttotal: 462ms\tremaining: 99.3ms\n",
      "823:\tlearn: 0.0368700\ttotal: 462ms\tremaining: 98.7ms\n",
      "824:\tlearn: 0.0367927\ttotal: 463ms\tremaining: 98.2ms\n"
     ]
    },
    {
     "name": "stdout",
     "output_type": "stream",
     "text": [
      "825:\tlearn: 0.0366255\ttotal: 485ms\tremaining: 102ms\n",
      "826:\tlearn: 0.0365196\ttotal: 487ms\tremaining: 102ms\n",
      "827:\tlearn: 0.0364440\ttotal: 487ms\tremaining: 101ms\n",
      "828:\tlearn: 0.0363701\ttotal: 488ms\tremaining: 101ms\n",
      "829:\tlearn: 0.0362350\ttotal: 489ms\tremaining: 100ms\n",
      "830:\tlearn: 0.0362002\ttotal: 489ms\tremaining: 99.5ms\n",
      "831:\tlearn: 0.0361278\ttotal: 489ms\tremaining: 98.8ms\n",
      "832:\tlearn: 0.0359880\ttotal: 490ms\tremaining: 98.2ms\n",
      "833:\tlearn: 0.0358567\ttotal: 490ms\tremaining: 97.6ms\n",
      "834:\tlearn: 0.0358265\ttotal: 491ms\tremaining: 97ms\n",
      "835:\tlearn: 0.0357260\ttotal: 491ms\tremaining: 96.3ms\n",
      "836:\tlearn: 0.0356426\ttotal: 492ms\tremaining: 95.7ms\n",
      "837:\tlearn: 0.0355687\ttotal: 492ms\tremaining: 95.2ms\n",
      "838:\tlearn: 0.0354517\ttotal: 493ms\tremaining: 94.6ms\n",
      "839:\tlearn: 0.0353441\ttotal: 493ms\tremaining: 93.9ms\n",
      "840:\tlearn: 0.0352509\ttotal: 494ms\tremaining: 93.3ms\n",
      "841:\tlearn: 0.0352213\ttotal: 494ms\tremaining: 92.7ms\n",
      "842:\tlearn: 0.0351216\ttotal: 495ms\tremaining: 92.1ms\n",
      "843:\tlearn: 0.0350518\ttotal: 495ms\tremaining: 91.5ms\n",
      "844:\tlearn: 0.0349836\ttotal: 495ms\tremaining: 90.9ms\n",
      "845:\tlearn: 0.0348767\ttotal: 496ms\tremaining: 90.3ms\n",
      "846:\tlearn: 0.0347872\ttotal: 496ms\tremaining: 89.7ms\n",
      "847:\tlearn: 0.0347107\ttotal: 497ms\tremaining: 89.1ms\n",
      "848:\tlearn: 0.0346821\ttotal: 497ms\tremaining: 88.5ms\n",
      "849:\tlearn: 0.0345884\ttotal: 498ms\tremaining: 87.9ms\n",
      "850:\tlearn: 0.0345601\ttotal: 498ms\tremaining: 87.2ms\n",
      "851:\tlearn: 0.0344368\ttotal: 499ms\tremaining: 86.6ms\n",
      "852:\tlearn: 0.0344089\ttotal: 499ms\tremaining: 86ms\n",
      "853:\tlearn: 0.0343409\ttotal: 500ms\tremaining: 85.4ms\n",
      "854:\tlearn: 0.0342604\ttotal: 500ms\tremaining: 84.8ms\n",
      "855:\tlearn: 0.0342332\ttotal: 500ms\tremaining: 84.2ms\n",
      "856:\tlearn: 0.0341438\ttotal: 501ms\tremaining: 83.6ms\n",
      "857:\tlearn: 0.0340778\ttotal: 501ms\tremaining: 83ms\n",
      "858:\tlearn: 0.0339502\ttotal: 502ms\tremaining: 82.4ms\n",
      "859:\tlearn: 0.0339238\ttotal: 502ms\tremaining: 81.8ms\n",
      "860:\tlearn: 0.0338259\ttotal: 503ms\tremaining: 81.2ms\n",
      "861:\tlearn: 0.0337008\ttotal: 503ms\tremaining: 80.6ms\n",
      "862:\tlearn: 0.0336244\ttotal: 504ms\tremaining: 80ms\n",
      "863:\tlearn: 0.0334984\ttotal: 504ms\tremaining: 79.3ms\n",
      "864:\tlearn: 0.0334714\ttotal: 504ms\tremaining: 78.7ms\n",
      "865:\tlearn: 0.0334448\ttotal: 505ms\tremaining: 78.1ms\n",
      "866:\tlearn: 0.0333176\ttotal: 505ms\tremaining: 77.5ms\n",
      "867:\tlearn: 0.0332298\ttotal: 506ms\tremaining: 76.9ms\n",
      "868:\tlearn: 0.0331553\ttotal: 506ms\tremaining: 76.3ms\n",
      "869:\tlearn: 0.0330819\ttotal: 507ms\tremaining: 75.7ms\n",
      "870:\tlearn: 0.0329702\ttotal: 508ms\tremaining: 75.2ms\n",
      "871:\tlearn: 0.0329439\ttotal: 509ms\tremaining: 74.6ms\n",
      "872:\tlearn: 0.0328228\ttotal: 509ms\tremaining: 74.1ms\n",
      "873:\tlearn: 0.0327408\ttotal: 511ms\tremaining: 73.7ms\n",
      "874:\tlearn: 0.0326211\ttotal: 512ms\tremaining: 73.1ms\n",
      "875:\tlearn: 0.0325234\ttotal: 513ms\tremaining: 72.6ms\n",
      "876:\tlearn: 0.0324545\ttotal: 514ms\tremaining: 72ms\n",
      "877:\tlearn: 0.0323397\ttotal: 515ms\tremaining: 71.6ms\n",
      "878:\tlearn: 0.0322465\ttotal: 516ms\tremaining: 71ms\n",
      "879:\tlearn: 0.0321808\ttotal: 517ms\tremaining: 70.5ms\n",
      "880:\tlearn: 0.0320701\ttotal: 519ms\tremaining: 70ms\n",
      "881:\tlearn: 0.0319796\ttotal: 519ms\tremaining: 69.5ms\n",
      "882:\tlearn: 0.0318895\ttotal: 520ms\tremaining: 68.9ms\n",
      "883:\tlearn: 0.0318090\ttotal: 521ms\tremaining: 68.3ms\n",
      "884:\tlearn: 0.0317023\ttotal: 521ms\tremaining: 67.8ms\n",
      "885:\tlearn: 0.0316187\ttotal: 522ms\tremaining: 67.2ms\n",
      "886:\tlearn: 0.0315580\ttotal: 523ms\tremaining: 66.6ms\n",
      "887:\tlearn: 0.0314724\ttotal: 523ms\tremaining: 66ms\n",
      "888:\tlearn: 0.0313289\ttotal: 524ms\tremaining: 65.4ms\n",
      "889:\tlearn: 0.0312453\ttotal: 524ms\tremaining: 64.8ms\n",
      "890:\tlearn: 0.0311051\ttotal: 525ms\tremaining: 64.2ms\n",
      "891:\tlearn: 0.0310234\ttotal: 525ms\tremaining: 63.6ms\n",
      "892:\tlearn: 0.0308864\ttotal: 526ms\tremaining: 63ms\n",
      "893:\tlearn: 0.0307526\ttotal: 526ms\tremaining: 62.4ms\n",
      "894:\tlearn: 0.0306729\ttotal: 527ms\tremaining: 61.8ms\n",
      "895:\tlearn: 0.0306400\ttotal: 527ms\tremaining: 61.2ms\n",
      "896:\tlearn: 0.0305635\ttotal: 528ms\tremaining: 60.6ms\n",
      "897:\tlearn: 0.0305310\ttotal: 528ms\tremaining: 60ms\n",
      "898:\tlearn: 0.0304988\ttotal: 529ms\tremaining: 59.4ms\n",
      "899:\tlearn: 0.0304589\ttotal: 529ms\tremaining: 58.8ms\n",
      "900:\tlearn: 0.0303834\ttotal: 530ms\tremaining: 58.2ms\n",
      "901:\tlearn: 0.0303516\ttotal: 530ms\tremaining: 57.6ms\n",
      "902:\tlearn: 0.0303115\ttotal: 530ms\tremaining: 57ms\n",
      "903:\tlearn: 0.0302721\ttotal: 531ms\tremaining: 56.4ms\n",
      "904:\tlearn: 0.0302258\ttotal: 531ms\tremaining: 55.8ms\n",
      "905:\tlearn: 0.0301514\ttotal: 532ms\tremaining: 55.2ms\n",
      "906:\tlearn: 0.0300514\ttotal: 532ms\tremaining: 54.6ms\n",
      "907:\tlearn: 0.0300057\ttotal: 533ms\tremaining: 54ms\n",
      "908:\tlearn: 0.0299135\ttotal: 533ms\tremaining: 53.4ms\n",
      "909:\tlearn: 0.0298393\ttotal: 533ms\tremaining: 52.7ms\n",
      "910:\tlearn: 0.0298086\ttotal: 534ms\tremaining: 52.2ms\n",
      "911:\tlearn: 0.0297701\ttotal: 534ms\tremaining: 51.6ms\n",
      "912:\tlearn: 0.0297254\ttotal: 535ms\tremaining: 51ms\n",
      "913:\tlearn: 0.0296307\ttotal: 535ms\tremaining: 50.4ms\n",
      "914:\tlearn: 0.0295912\ttotal: 536ms\tremaining: 49.8ms\n",
      "915:\tlearn: 0.0295476\ttotal: 536ms\tremaining: 49.2ms\n",
      "916:\tlearn: 0.0295106\ttotal: 537ms\tremaining: 48.6ms\n",
      "917:\tlearn: 0.0294232\ttotal: 537ms\tremaining: 48ms\n",
      "918:\tlearn: 0.0293269\ttotal: 538ms\tremaining: 47.4ms\n",
      "919:\tlearn: 0.0292896\ttotal: 538ms\tremaining: 46.8ms\n",
      "920:\tlearn: 0.0292467\ttotal: 539ms\tremaining: 46.2ms\n",
      "921:\tlearn: 0.0292110\ttotal: 539ms\tremaining: 45.6ms\n",
      "922:\tlearn: 0.0291212\ttotal: 540ms\tremaining: 45ms\n",
      "923:\tlearn: 0.0290822\ttotal: 540ms\tremaining: 44.4ms\n",
      "924:\tlearn: 0.0290394\ttotal: 541ms\tremaining: 43.9ms\n",
      "925:\tlearn: 0.0289516\ttotal: 541ms\tremaining: 43.3ms\n",
      "926:\tlearn: 0.0289159\ttotal: 542ms\tremaining: 42.7ms\n",
      "927:\tlearn: 0.0288741\ttotal: 542ms\tremaining: 42.1ms\n",
      "928:\tlearn: 0.0287817\ttotal: 543ms\tremaining: 41.5ms\n",
      "929:\tlearn: 0.0287480\ttotal: 543ms\tremaining: 40.9ms\n",
      "930:\tlearn: 0.0287133\ttotal: 544ms\tremaining: 40.3ms\n",
      "931:\tlearn: 0.0286722\ttotal: 544ms\tremaining: 39.7ms\n",
      "932:\tlearn: 0.0286307\ttotal: 545ms\tremaining: 39.1ms\n",
      "933:\tlearn: 0.0285492\ttotal: 546ms\tremaining: 38.6ms\n",
      "934:\tlearn: 0.0285149\ttotal: 547ms\tremaining: 38ms\n",
      "935:\tlearn: 0.0284351\ttotal: 547ms\tremaining: 37.4ms\n",
      "936:\tlearn: 0.0283998\ttotal: 547ms\tremaining: 36.8ms\n",
      "937:\tlearn: 0.0283544\ttotal: 548ms\tremaining: 36.2ms\n",
      "938:\tlearn: 0.0283136\ttotal: 548ms\tremaining: 35.6ms\n",
      "939:\tlearn: 0.0281931\ttotal: 549ms\tremaining: 35ms\n",
      "940:\tlearn: 0.0281255\ttotal: 549ms\tremaining: 34.4ms\n",
      "941:\tlearn: 0.0280615\ttotal: 550ms\tremaining: 33.8ms\n",
      "942:\tlearn: 0.0280166\ttotal: 550ms\tremaining: 33.3ms\n",
      "943:\tlearn: 0.0279825\ttotal: 551ms\tremaining: 32.7ms\n",
      "944:\tlearn: 0.0278268\ttotal: 551ms\tremaining: 32.1ms\n",
      "945:\tlearn: 0.0277043\ttotal: 552ms\tremaining: 31.5ms\n",
      "946:\tlearn: 0.0276387\ttotal: 552ms\tremaining: 30.9ms\n",
      "947:\tlearn: 0.0276055\ttotal: 553ms\tremaining: 30.3ms\n",
      "948:\tlearn: 0.0275674\ttotal: 553ms\tremaining: 29.7ms\n",
      "949:\tlearn: 0.0275233\ttotal: 554ms\tremaining: 29.1ms\n",
      "950:\tlearn: 0.0274514\ttotal: 554ms\tremaining: 28.6ms\n",
      "951:\tlearn: 0.0274108\ttotal: 555ms\tremaining: 28ms\n",
      "952:\tlearn: 0.0273222\ttotal: 555ms\tremaining: 27.4ms\n",
      "953:\tlearn: 0.0272899\ttotal: 556ms\tremaining: 26.8ms\n",
      "954:\tlearn: 0.0271779\ttotal: 556ms\tremaining: 26.2ms\n",
      "955:\tlearn: 0.0271156\ttotal: 557ms\tremaining: 25.6ms\n",
      "956:\tlearn: 0.0270071\ttotal: 557ms\tremaining: 25ms\n",
      "957:\tlearn: 0.0269462\ttotal: 558ms\tremaining: 24.5ms\n",
      "958:\tlearn: 0.0268144\ttotal: 558ms\tremaining: 23.9ms\n",
      "959:\tlearn: 0.0267095\ttotal: 559ms\tremaining: 23.3ms\n",
      "960:\tlearn: 0.0266678\ttotal: 559ms\tremaining: 22.7ms\n",
      "961:\tlearn: 0.0266086\ttotal: 560ms\tremaining: 22.1ms\n",
      "962:\tlearn: 0.0265353\ttotal: 560ms\tremaining: 21.5ms\n",
      "963:\tlearn: 0.0264945\ttotal: 561ms\tremaining: 20.9ms\n",
      "964:\tlearn: 0.0263940\ttotal: 561ms\tremaining: 20.3ms\n",
      "965:\tlearn: 0.0263543\ttotal: 561ms\tremaining: 19.8ms\n",
      "966:\tlearn: 0.0262833\ttotal: 562ms\tremaining: 19.2ms\n",
      "967:\tlearn: 0.0262521\ttotal: 562ms\tremaining: 18.6ms\n",
      "968:\tlearn: 0.0261827\ttotal: 563ms\tremaining: 18ms\n",
      "969:\tlearn: 0.0261289\ttotal: 563ms\tremaining: 17.4ms\n",
      "970:\tlearn: 0.0260901\ttotal: 564ms\tremaining: 16.8ms\n",
      "971:\tlearn: 0.0260595\ttotal: 564ms\tremaining: 16.3ms\n",
      "972:\tlearn: 0.0259879\ttotal: 565ms\tremaining: 15.7ms\n",
      "973:\tlearn: 0.0258727\ttotal: 565ms\tremaining: 15.1ms\n",
      "974:\tlearn: 0.0258205\ttotal: 566ms\tremaining: 14.5ms\n",
      "975:\tlearn: 0.0257828\ttotal: 566ms\tremaining: 13.9ms\n",
      "976:\tlearn: 0.0257317\ttotal: 567ms\tremaining: 13.3ms\n",
      "977:\tlearn: 0.0256946\ttotal: 567ms\tremaining: 12.8ms\n",
      "978:\tlearn: 0.0256508\ttotal: 568ms\tremaining: 12.2ms\n",
      "979:\tlearn: 0.0255393\ttotal: 568ms\tremaining: 11.6ms\n",
      "980:\tlearn: 0.0254963\ttotal: 569ms\tremaining: 11ms\n",
      "981:\tlearn: 0.0254672\ttotal: 569ms\tremaining: 10.4ms\n",
      "982:\tlearn: 0.0254390\ttotal: 569ms\tremaining: 9.85ms\n",
      "983:\tlearn: 0.0253783\ttotal: 570ms\tremaining: 9.27ms\n",
      "984:\tlearn: 0.0252632\ttotal: 570ms\tremaining: 8.68ms\n",
      "985:\tlearn: 0.0252218\ttotal: 571ms\tremaining: 8.1ms\n",
      "986:\tlearn: 0.0251872\ttotal: 571ms\tremaining: 7.52ms\n",
      "987:\tlearn: 0.0250798\ttotal: 572ms\tremaining: 6.94ms\n",
      "988:\tlearn: 0.0250394\ttotal: 572ms\tremaining: 6.36ms\n",
      "989:\tlearn: 0.0249996\ttotal: 573ms\tremaining: 5.78ms\n",
      "990:\tlearn: 0.0249724\ttotal: 573ms\tremaining: 5.2ms\n",
      "991:\tlearn: 0.0248675\ttotal: 574ms\tremaining: 4.63ms\n"
     ]
    },
    {
     "name": "stdout",
     "output_type": "stream",
     "text": [
      "992:\tlearn: 0.0248286\ttotal: 575ms\tremaining: 4.05ms\n",
      "993:\tlearn: 0.0247631\ttotal: 576ms\tremaining: 3.48ms\n",
      "994:\tlearn: 0.0247010\ttotal: 576ms\tremaining: 2.9ms\n",
      "995:\tlearn: 0.0245990\ttotal: 577ms\tremaining: 2.32ms\n",
      "996:\tlearn: 0.0245610\ttotal: 577ms\tremaining: 1.74ms\n",
      "997:\tlearn: 0.0245236\ttotal: 578ms\tremaining: 1.16ms\n",
      "998:\tlearn: 0.0244603\ttotal: 578ms\tremaining: 578us\n",
      "999:\tlearn: 0.0244228\ttotal: 579ms\tremaining: 0us\n",
      "Mean Absolute error 0.46665443361445585\n"
     ]
    },
    {
     "data": {
      "application/scrapbook.scrap.json+json": {
       "data": 0.46665443361445585,
       "encoder": "json",
       "name": "Catboost MAE",
       "version": 1
      }
     },
     "metadata": {
      "scrapbook": {
       "data": true,
       "display": false,
       "name": "Catboost MAE"
      }
     },
     "output_type": "display_data"
    }
   ],
   "source": [
    "mae_cb = baselineModels.catboost(X_train,y_train,X_test,y_test)\n",
    "#Store MSE Value\n",
    "sb.glue(\"Catboost MAE\",mae_cb)"
   ]
  },
  {
   "cell_type": "markdown",
   "id": "1c854c6c",
   "metadata": {
    "papermill": {
     "duration": 0.015873,
     "end_time": "2022-06-22T10:49:59.713143",
     "exception": false,
     "start_time": "2022-06-22T10:49:59.697270",
     "status": "completed"
    },
    "tags": []
   },
   "source": [
    "# TabNet regressor"
   ]
  },
  {
   "cell_type": "code",
   "execution_count": 7,
   "id": "c12e671e",
   "metadata": {
    "execution": {
     "iopub.execute_input": "2022-06-22T10:49:59.759210Z",
     "iopub.status.busy": "2022-06-22T10:49:59.758237Z",
     "iopub.status.idle": "2022-06-22T10:49:59.760494Z",
     "shell.execute_reply": "2022-06-22T10:49:59.761030Z"
    },
    "papermill": {
     "duration": 0.032017,
     "end_time": "2022-06-22T10:49:59.761257",
     "exception": false,
     "start_time": "2022-06-22T10:49:59.729240",
     "status": "completed"
    },
    "tags": []
   },
   "outputs": [],
   "source": [
    "n_epochs = 1000\n",
    "batch_size = 32"
   ]
  },
  {
   "cell_type": "code",
   "execution_count": 8,
   "id": "92015c0a",
   "metadata": {
    "execution": {
     "iopub.execute_input": "2022-06-22T10:49:59.799692Z",
     "iopub.status.busy": "2022-06-22T10:49:59.798839Z",
     "iopub.status.idle": "2022-06-22T10:50:21.168889Z",
     "shell.execute_reply": "2022-06-22T10:50:21.169504Z"
    },
    "papermill": {
     "duration": 21.393277,
     "end_time": "2022-06-22T10:50:21.170610",
     "exception": false,
     "start_time": "2022-06-22T10:49:59.777333",
     "status": "completed"
    },
    "tags": []
   },
   "outputs": [
    {
     "name": "stdout",
     "output_type": "stream",
     "text": [
      "(80,)\n",
      "Device used : cpu\n"
     ]
    },
    {
     "name": "stdout",
     "output_type": "stream",
     "text": [
      "epoch 0  | loss: 0.6812  | train_mse: 4.48695 | train_mae: 1.77772 |  0:00:00s\n",
      "epoch 1  | loss: 0.75727 | train_mse: 1.48778 | train_mae: 0.91105 |  0:00:00s\n",
      "epoch 2  | loss: 0.65914 | train_mse: 1.05705 | train_mae: 0.79639 |  0:00:00s\n"
     ]
    },
    {
     "name": "stdout",
     "output_type": "stream",
     "text": [
      "epoch 3  | loss: 0.63631 | train_mse: 1.02304 | train_mae: 0.77981 |  0:00:01s\n",
      "epoch 4  | loss: 0.55108 | train_mse: 1.37596 | train_mae: 0.90392 |  0:00:01s\n",
      "epoch 5  | loss: 0.31289 | train_mse: 1.2445  | train_mae: 0.90214 |  0:00:01s\n"
     ]
    },
    {
     "name": "stdout",
     "output_type": "stream",
     "text": [
      "epoch 6  | loss: 0.4108  | train_mse: 1.01603 | train_mae: 0.82687 |  0:00:01s\n"
     ]
    },
    {
     "name": "stdout",
     "output_type": "stream",
     "text": [
      "epoch 7  | loss: 0.36849 | train_mse: 1.18696 | train_mae: 0.81823 |  0:00:01s\n",
      "epoch 8  | loss: 0.39312 | train_mse: 1.31982 | train_mae: 0.84381 |  0:00:01s\n"
     ]
    },
    {
     "name": "stdout",
     "output_type": "stream",
     "text": [
      "epoch 9  | loss: 0.29828 | train_mse: 1.20799 | train_mae: 0.83167 |  0:00:01s\n",
      "epoch 10 | loss: 0.36584 | train_mse: 0.96663 | train_mae: 0.75551 |  0:00:01s\n",
      "epoch 11 | loss: 0.43446 | train_mse: 0.56909 | train_mae: 0.59574 |  0:00:02s\n"
     ]
    },
    {
     "name": "stdout",
     "output_type": "stream",
     "text": [
      "epoch 12 | loss: 0.37928 | train_mse: 0.44225 | train_mae: 0.54098 |  0:00:02s\n",
      "epoch 13 | loss: 0.33051 | train_mse: 0.49188 | train_mae: 0.53278 |  0:00:02s\n",
      "epoch 14 | loss: 0.29273 | train_mse: 0.33998 | train_mae: 0.45911 |  0:00:02s\n"
     ]
    },
    {
     "name": "stdout",
     "output_type": "stream",
     "text": [
      "epoch 15 | loss: 0.2508  | train_mse: 0.41635 | train_mae: 0.46791 |  0:00:02s\n",
      "epoch 16 | loss: 0.33078 | train_mse: 0.37923 | train_mae: 0.46072 |  0:00:02s\n",
      "epoch 17 | loss: 0.27267 | train_mse: 0.33395 | train_mae: 0.45051 |  0:00:02s\n"
     ]
    },
    {
     "name": "stdout",
     "output_type": "stream",
     "text": [
      "epoch 18 | loss: 0.18622 | train_mse: 0.32091 | train_mae: 0.43148 |  0:00:02s\n",
      "epoch 19 | loss: 0.32961 | train_mse: 0.39831 | train_mae: 0.47523 |  0:00:02s\n"
     ]
    },
    {
     "name": "stdout",
     "output_type": "stream",
     "text": [
      "epoch 20 | loss: 0.21524 | train_mse: 0.46332 | train_mae: 0.52979 |  0:00:03s\n",
      "epoch 21 | loss: 0.2416  | train_mse: 0.63129 | train_mae: 0.54309 |  0:00:03s\n",
      "epoch 22 | loss: 0.28834 | train_mse: 0.46034 | train_mae: 0.50298 |  0:00:03s\n"
     ]
    },
    {
     "name": "stdout",
     "output_type": "stream",
     "text": [
      "epoch 23 | loss: 0.20845 | train_mse: 0.26227 | train_mae: 0.40322 |  0:00:03s\n",
      "epoch 24 | loss: 0.33837 | train_mse: 0.22248 | train_mae: 0.3678  |  0:00:03s\n",
      "epoch 25 | loss: 0.34484 | train_mse: 0.21469 | train_mae: 0.37735 |  0:00:03s\n"
     ]
    },
    {
     "name": "stdout",
     "output_type": "stream",
     "text": [
      "epoch 26 | loss: 0.24731 | train_mse: 0.21716 | train_mae: 0.3821  |  0:00:03s\n",
      "epoch 27 | loss: 0.31761 | train_mse: 0.22355 | train_mae: 0.37748 |  0:00:03s\n",
      "epoch 28 | loss: 0.21577 | train_mse: 0.20355 | train_mae: 0.38313 |  0:00:03s\n"
     ]
    },
    {
     "name": "stdout",
     "output_type": "stream",
     "text": [
      "epoch 29 | loss: 0.33052 | train_mse: 0.17349 | train_mae: 0.35245 |  0:00:03s\n",
      "epoch 30 | loss: 0.17629 | train_mse: 0.16261 | train_mae: 0.33017 |  0:00:03s\n",
      "epoch 31 | loss: 0.24261 | train_mse: 0.18409 | train_mae: 0.33744 |  0:00:03s\n"
     ]
    },
    {
     "name": "stdout",
     "output_type": "stream",
     "text": [
      "epoch 32 | loss: 0.17987 | train_mse: 0.18205 | train_mae: 0.32637 |  0:00:03s\n",
      "epoch 33 | loss: 0.17156 | train_mse: 0.16356 | train_mae: 0.30662 |  0:00:04s\n",
      "epoch 34 | loss: 0.30303 | train_mse: 0.15444 | train_mae: 0.30247 |  0:00:04s\n"
     ]
    },
    {
     "name": "stdout",
     "output_type": "stream",
     "text": [
      "epoch 35 | loss: 0.1425  | train_mse: 0.1437  | train_mae: 0.3006  |  0:00:04s\n",
      "epoch 36 | loss: 0.15829 | train_mse: 0.11622 | train_mae: 0.2732  |  0:00:04s\n",
      "epoch 37 | loss: 0.23522 | train_mse: 0.11029 | train_mae: 0.2661  |  0:00:04s\n"
     ]
    },
    {
     "name": "stdout",
     "output_type": "stream",
     "text": [
      "epoch 38 | loss: 0.20389 | train_mse: 0.1609  | train_mae: 0.32624 |  0:00:04s\n",
      "epoch 39 | loss: 0.15829 | train_mse: 0.15574 | train_mae: 0.32101 |  0:00:04s\n",
      "epoch 40 | loss: 0.19052 | train_mse: 0.12449 | train_mae: 0.2824  |  0:00:04s\n",
      "epoch 41 | loss: 0.13519 | train_mse: 0.12519 | train_mae: 0.27616 |  0:00:04s\n"
     ]
    },
    {
     "name": "stdout",
     "output_type": "stream",
     "text": [
      "epoch 42 | loss: 0.2034  | train_mse: 0.12634 | train_mae: 0.28046 |  0:00:04s\n",
      "epoch 43 | loss: 0.21369 | train_mse: 0.10687 | train_mae: 0.25173 |  0:00:04s\n",
      "epoch 44 | loss: 0.1802  | train_mse: 0.09735 | train_mae: 0.23838 |  0:00:04s\n"
     ]
    },
    {
     "name": "stdout",
     "output_type": "stream",
     "text": [
      "epoch 45 | loss: 0.1954  | train_mse: 0.11273 | train_mae: 0.25907 |  0:00:04s\n",
      "epoch 46 | loss: 0.16981 | train_mse: 0.12977 | train_mae: 0.27608 |  0:00:04s\n",
      "epoch 47 | loss: 0.13189 | train_mse: 0.11411 | train_mae: 0.2599  |  0:00:05s\n",
      "epoch 48 | loss: 0.11559 | train_mse: 0.10948 | train_mae: 0.25241 |  0:00:05s\n"
     ]
    },
    {
     "name": "stdout",
     "output_type": "stream",
     "text": [
      "epoch 49 | loss: 0.18943 | train_mse: 0.11247 | train_mae: 0.25872 |  0:00:05s\n",
      "epoch 50 | loss: 0.16066 | train_mse: 0.10632 | train_mae: 0.25337 |  0:00:05s\n",
      "epoch 51 | loss: 0.16232 | train_mse: 0.1024  | train_mae: 0.24864 |  0:00:05s\n"
     ]
    },
    {
     "name": "stdout",
     "output_type": "stream",
     "text": [
      "epoch 52 | loss: 0.17208 | train_mse: 0.10229 | train_mae: 0.24539 |  0:00:05s\n",
      "epoch 53 | loss: 0.17502 | train_mse: 0.10374 | train_mae: 0.24915 |  0:00:05s\n"
     ]
    },
    {
     "name": "stdout",
     "output_type": "stream",
     "text": [
      "epoch 54 | loss: 0.15675 | train_mse: 0.10205 | train_mae: 0.25093 |  0:00:05s\n",
      "epoch 55 | loss: 0.12923 | train_mse: 0.11761 | train_mae: 0.27678 |  0:00:06s\n",
      "epoch 56 | loss: 0.13132 | train_mse: 0.10487 | train_mae: 0.26029 |  0:00:06s\n"
     ]
    },
    {
     "name": "stdout",
     "output_type": "stream",
     "text": [
      "epoch 57 | loss: 0.09181 | train_mse: 0.09329 | train_mae: 0.23858 |  0:00:06s\n",
      "epoch 58 | loss: 0.12481 | train_mse: 0.08977 | train_mae: 0.24075 |  0:00:06s\n",
      "epoch 59 | loss: 0.22501 | train_mse: 0.09477 | train_mae: 0.24693 |  0:00:06s\n"
     ]
    },
    {
     "name": "stdout",
     "output_type": "stream",
     "text": [
      "epoch 60 | loss: 0.12481 | train_mse: 0.09807 | train_mae: 0.25164 |  0:00:06s\n",
      "epoch 61 | loss: 0.17194 | train_mse: 0.10185 | train_mae: 0.25127 |  0:00:06s\n",
      "epoch 62 | loss: 0.16598 | train_mse: 0.1048  | train_mae: 0.25811 |  0:00:06s\n"
     ]
    },
    {
     "name": "stdout",
     "output_type": "stream",
     "text": [
      "epoch 63 | loss: 0.14887 | train_mse: 0.09946 | train_mae: 0.25977 |  0:00:06s\n",
      "epoch 64 | loss: 0.17206 | train_mse: 0.08143 | train_mae: 0.23764 |  0:00:07s\n",
      "epoch 65 | loss: 0.11136 | train_mse: 0.08113 | train_mae: 0.23253 |  0:00:07s\n"
     ]
    },
    {
     "name": "stdout",
     "output_type": "stream",
     "text": [
      "epoch 66 | loss: 0.17646 | train_mse: 0.08024 | train_mae: 0.23132 |  0:00:07s\n",
      "epoch 67 | loss: 0.11193 | train_mse: 0.07341 | train_mae: 0.22804 |  0:00:07s\n",
      "epoch 68 | loss: 0.17735 | train_mse: 0.0805  | train_mae: 0.22913 |  0:00:07s\n"
     ]
    },
    {
     "name": "stdout",
     "output_type": "stream",
     "text": [
      "epoch 69 | loss: 0.12011 | train_mse: 0.09479 | train_mae: 0.23841 |  0:00:07s\n",
      "epoch 70 | loss: 0.1037  | train_mse: 0.08014 | train_mae: 0.21496 |  0:00:07s\n",
      "epoch 71 | loss: 0.11842 | train_mse: 0.07042 | train_mae: 0.19976 |  0:00:07s\n"
     ]
    },
    {
     "name": "stdout",
     "output_type": "stream",
     "text": [
      "epoch 72 | loss: 0.1131  | train_mse: 0.06351 | train_mae: 0.19269 |  0:00:07s\n",
      "epoch 73 | loss: 0.11636 | train_mse: 0.06396 | train_mae: 0.20639 |  0:00:07s\n",
      "epoch 74 | loss: 0.15499 | train_mse: 0.07873 | train_mae: 0.2157  |  0:00:07s\n"
     ]
    },
    {
     "name": "stdout",
     "output_type": "stream",
     "text": [
      "epoch 75 | loss: 0.14104 | train_mse: 0.08022 | train_mae: 0.2167  |  0:00:07s\n",
      "epoch 76 | loss: 0.08421 | train_mse: 0.08777 | train_mae: 0.22622 |  0:00:07s\n",
      "epoch 77 | loss: 0.15319 | train_mse: 0.08907 | train_mae: 0.23118 |  0:00:07s\n",
      "epoch 78 | loss: 0.14783 | train_mse: 0.08107 | train_mae: 0.22541 |  0:00:08s\n"
     ]
    },
    {
     "name": "stdout",
     "output_type": "stream",
     "text": [
      "epoch 79 | loss: 0.13842 | train_mse: 0.07513 | train_mae: 0.21935 |  0:00:08s\n",
      "epoch 80 | loss: 0.11305 | train_mse: 0.07994 | train_mae: 0.22648 |  0:00:08s\n",
      "epoch 81 | loss: 0.15734 | train_mse: 0.09233 | train_mae: 0.24674 |  0:00:08s\n"
     ]
    },
    {
     "name": "stdout",
     "output_type": "stream",
     "text": [
      "epoch 82 | loss: 0.13354 | train_mse: 0.0932  | train_mae: 0.2496  |  0:00:08s\n",
      "epoch 83 | loss: 0.11115 | train_mse: 0.09003 | train_mae: 0.24748 |  0:00:08s\n"
     ]
    },
    {
     "name": "stdout",
     "output_type": "stream",
     "text": [
      "epoch 84 | loss: 0.12438 | train_mse: 0.07803 | train_mae: 0.23017 |  0:00:08s\n",
      "epoch 85 | loss: 0.06989 | train_mse: 0.07336 | train_mae: 0.22782 |  0:00:08s\n"
     ]
    },
    {
     "name": "stdout",
     "output_type": "stream",
     "text": [
      "epoch 86 | loss: 0.19086 | train_mse: 0.0683  | train_mae: 0.21445 |  0:00:08s\n",
      "epoch 87 | loss: 0.10875 | train_mse: 0.06466 | train_mae: 0.21082 |  0:00:08s\n"
     ]
    },
    {
     "name": "stdout",
     "output_type": "stream",
     "text": [
      "epoch 88 | loss: 0.1319  | train_mse: 0.07499 | train_mae: 0.2175  |  0:00:09s\n",
      "epoch 89 | loss: 0.09129 | train_mse: 0.06458 | train_mae: 0.20148 |  0:00:09s\n"
     ]
    },
    {
     "name": "stdout",
     "output_type": "stream",
     "text": [
      "epoch 90 | loss: 0.16232 | train_mse: 0.0701  | train_mae: 0.20926 |  0:00:09s\n",
      "epoch 91 | loss: 0.15219 | train_mse: 0.0632  | train_mae: 0.20099 |  0:00:10s\n"
     ]
    },
    {
     "name": "stdout",
     "output_type": "stream",
     "text": [
      "epoch 92 | loss: 0.14954 | train_mse: 0.07137 | train_mae: 0.21367 |  0:00:10s\n",
      "epoch 93 | loss: 0.08742 | train_mse: 0.07115 | train_mae: 0.21483 |  0:00:10s\n",
      "epoch 94 | loss: 0.13101 | train_mse: 0.08264 | train_mae: 0.21914 |  0:00:10s\n"
     ]
    },
    {
     "name": "stdout",
     "output_type": "stream",
     "text": [
      "epoch 95 | loss: 0.10671 | train_mse: 0.08099 | train_mae: 0.21521 |  0:00:10s\n",
      "epoch 96 | loss: 0.06769 | train_mse: 0.0777  | train_mae: 0.22045 |  0:00:10s\n",
      "epoch 97 | loss: 0.09452 | train_mse: 0.07653 | train_mae: 0.22309 |  0:00:10s\n"
     ]
    },
    {
     "name": "stdout",
     "output_type": "stream",
     "text": [
      "epoch 98 | loss: 0.12552 | train_mse: 0.07645 | train_mae: 0.21886 |  0:00:10s\n",
      "epoch 99 | loss: 0.23773 | train_mse: 0.10361 | train_mae: 0.23954 |  0:00:10s\n",
      "epoch 100| loss: 0.16151 | train_mse: 0.11398 | train_mae: 0.25137 |  0:00:10s\n"
     ]
    },
    {
     "name": "stdout",
     "output_type": "stream",
     "text": [
      "epoch 101| loss: 0.10359 | train_mse: 0.10587 | train_mae: 0.24677 |  0:00:10s\n",
      "epoch 102| loss: 0.07182 | train_mse: 0.09635 | train_mae: 0.24362 |  0:00:11s\n",
      "epoch 103| loss: 0.08867 | train_mse: 0.08427 | train_mae: 0.2278  |  0:00:11s\n"
     ]
    },
    {
     "name": "stdout",
     "output_type": "stream",
     "text": [
      "epoch 104| loss: 0.10464 | train_mse: 0.07947 | train_mae: 0.21949 |  0:00:11s\n",
      "epoch 105| loss: 0.13996 | train_mse: 0.06263 | train_mae: 0.20127 |  0:00:11s\n",
      "epoch 106| loss: 0.08214 | train_mse: 0.06177 | train_mae: 0.19304 |  0:00:11s\n"
     ]
    },
    {
     "name": "stdout",
     "output_type": "stream",
     "text": [
      "epoch 107| loss: 0.11132 | train_mse: 0.05918 | train_mae: 0.18573 |  0:00:11s\n",
      "epoch 108| loss: 0.0895  | train_mse: 0.05626 | train_mae: 0.18185 |  0:00:11s\n",
      "epoch 109| loss: 0.08264 | train_mse: 0.05813 | train_mae: 0.18461 |  0:00:11s\n"
     ]
    },
    {
     "name": "stdout",
     "output_type": "stream",
     "text": [
      "epoch 110| loss: 0.07998 | train_mse: 0.06436 | train_mae: 0.19982 |  0:00:11s\n",
      "epoch 111| loss: 0.07066 | train_mse: 0.07949 | train_mae: 0.22315 |  0:00:11s\n",
      "epoch 112| loss: 0.14931 | train_mse: 0.08949 | train_mae: 0.22451 |  0:00:11s\n"
     ]
    },
    {
     "name": "stdout",
     "output_type": "stream",
     "text": [
      "epoch 113| loss: 0.13975 | train_mse: 0.09797 | train_mae: 0.22484 |  0:00:11s\n",
      "epoch 114| loss: 0.12178 | train_mse: 0.07018 | train_mae: 0.2045  |  0:00:12s\n",
      "epoch 115| loss: 0.17642 | train_mse: 0.06324 | train_mae: 0.19351 |  0:00:12s\n"
     ]
    },
    {
     "name": "stdout",
     "output_type": "stream",
     "text": [
      "epoch 116| loss: 0.11487 | train_mse: 0.07025 | train_mae: 0.2066  |  0:00:12s\n",
      "epoch 117| loss: 0.12116 | train_mse: 0.05192 | train_mae: 0.17412 |  0:00:12s\n",
      "epoch 118| loss: 0.08842 | train_mse: 0.06612 | train_mae: 0.21121 |  0:00:12s\n"
     ]
    },
    {
     "name": "stdout",
     "output_type": "stream",
     "text": [
      "epoch 119| loss: 0.13815 | train_mse: 0.07652 | train_mae: 0.22615 |  0:00:12s\n",
      "epoch 120| loss: 0.10183 | train_mse: 0.07466 | train_mae: 0.2203  |  0:00:12s\n",
      "epoch 121| loss: 0.11369 | train_mse: 0.06204 | train_mae: 0.20556 |  0:00:12s\n"
     ]
    },
    {
     "name": "stdout",
     "output_type": "stream",
     "text": [
      "epoch 122| loss: 0.22089 | train_mse: 0.07403 | train_mae: 0.21684 |  0:00:12s\n",
      "epoch 123| loss: 0.08227 | train_mse: 0.07255 | train_mae: 0.21773 |  0:00:12s\n",
      "epoch 124| loss: 0.15683 | train_mse: 0.0699  | train_mae: 0.20916 |  0:00:12s\n"
     ]
    },
    {
     "name": "stdout",
     "output_type": "stream",
     "text": [
      "epoch 125| loss: 0.11026 | train_mse: 0.07057 | train_mae: 0.21319 |  0:00:12s\n",
      "epoch 126| loss: 0.15058 | train_mse: 0.0738  | train_mae: 0.2113  |  0:00:13s\n",
      "epoch 127| loss: 0.13391 | train_mse: 0.07233 | train_mae: 0.21276 |  0:00:13s\n"
     ]
    },
    {
     "name": "stdout",
     "output_type": "stream",
     "text": [
      "epoch 128| loss: 0.09654 | train_mse: 0.07857 | train_mae: 0.23355 |  0:00:13s\n",
      "epoch 129| loss: 0.1249  | train_mse: 0.07631 | train_mae: 0.22948 |  0:00:13s\n",
      "epoch 130| loss: 0.13293 | train_mse: 0.07609 | train_mae: 0.22484 |  0:00:13s\n"
     ]
    },
    {
     "name": "stdout",
     "output_type": "stream",
     "text": [
      "epoch 131| loss: 0.08441 | train_mse: 0.08846 | train_mae: 0.23781 |  0:00:13s\n",
      "epoch 132| loss: 0.0707  | train_mse: 0.0957  | train_mae: 0.24519 |  0:00:13s\n"
     ]
    },
    {
     "name": "stdout",
     "output_type": "stream",
     "text": [
      "epoch 133| loss: 0.1127  | train_mse: 0.09979 | train_mae: 0.24228 |  0:00:13s\n",
      "epoch 134| loss: 0.10213 | train_mse: 0.09143 | train_mae: 0.23763 |  0:00:13s\n",
      "epoch 135| loss: 0.14437 | train_mse: 0.09004 | train_mae: 0.23134 |  0:00:13s\n"
     ]
    },
    {
     "name": "stdout",
     "output_type": "stream",
     "text": [
      "epoch 136| loss: 0.09071 | train_mse: 0.1022  | train_mae: 0.23465 |  0:00:13s\n",
      "epoch 137| loss: 0.19882 | train_mse: 0.11744 | train_mae: 0.2507  |  0:00:14s\n",
      "epoch 138| loss: 0.10966 | train_mse: 0.11097 | train_mae: 0.24143 |  0:00:14s\n"
     ]
    },
    {
     "name": "stdout",
     "output_type": "stream",
     "text": [
      "epoch 139| loss: 0.09911 | train_mse: 0.11428 | train_mae: 0.25254 |  0:00:14s\n",
      "epoch 140| loss: 0.11476 | train_mse: 0.09826 | train_mae: 0.24168 |  0:00:14s\n",
      "epoch 141| loss: 0.1203  | train_mse: 0.06424 | train_mae: 0.19364 |  0:00:14s\n"
     ]
    },
    {
     "name": "stdout",
     "output_type": "stream",
     "text": [
      "epoch 142| loss: 0.11741 | train_mse: 0.06224 | train_mae: 0.19288 |  0:00:14s\n",
      "epoch 143| loss: 0.07416 | train_mse: 0.06257 | train_mae: 0.19451 |  0:00:14s\n",
      "epoch 144| loss: 0.05916 | train_mse: 0.05646 | train_mae: 0.19002 |  0:00:14s\n"
     ]
    },
    {
     "name": "stdout",
     "output_type": "stream",
     "text": [
      "epoch 145| loss: 0.13231 | train_mse: 0.04815 | train_mae: 0.18048 |  0:00:14s\n",
      "epoch 146| loss: 0.23664 | train_mse: 0.05342 | train_mae: 0.18276 |  0:00:14s\n",
      "epoch 147| loss: 0.12738 | train_mse: 0.05354 | train_mae: 0.1885  |  0:00:14s\n"
     ]
    },
    {
     "name": "stdout",
     "output_type": "stream",
     "text": [
      "epoch 148| loss: 0.09497 | train_mse: 0.04469 | train_mae: 0.16732 |  0:00:14s\n",
      "epoch 149| loss: 0.12735 | train_mse: 0.04446 | train_mae: 0.16801 |  0:00:15s\n"
     ]
    },
    {
     "name": "stdout",
     "output_type": "stream",
     "text": [
      "epoch 150| loss: 0.09458 | train_mse: 0.05214 | train_mae: 0.18615 |  0:00:15s\n",
      "epoch 151| loss: 0.09294 | train_mse: 0.06909 | train_mae: 0.21204 |  0:00:15s\n"
     ]
    },
    {
     "name": "stdout",
     "output_type": "stream",
     "text": [
      "epoch 152| loss: 0.05446 | train_mse: 0.06018 | train_mae: 0.19483 |  0:00:15s\n",
      "epoch 153| loss: 0.10094 | train_mse: 0.05927 | train_mae: 0.19189 |  0:00:15s\n",
      "epoch 154| loss: 0.1316  | train_mse: 0.07514 | train_mae: 0.22231 |  0:00:15s\n"
     ]
    },
    {
     "name": "stdout",
     "output_type": "stream",
     "text": [
      "epoch 155| loss: 0.09507 | train_mse: 0.07601 | train_mae: 0.22533 |  0:00:15s\n",
      "epoch 156| loss: 0.05472 | train_mse: 0.05873 | train_mae: 0.19684 |  0:00:15s\n",
      "epoch 157| loss: 0.10612 | train_mse: 0.05436 | train_mae: 0.18859 |  0:00:16s\n"
     ]
    },
    {
     "name": "stdout",
     "output_type": "stream",
     "text": [
      "epoch 158| loss: 0.08425 | train_mse: 0.06993 | train_mae: 0.21155 |  0:00:16s\n",
      "epoch 159| loss: 0.11308 | train_mse: 0.07168 | train_mae: 0.21302 |  0:00:16s\n",
      "epoch 160| loss: 0.15258 | train_mse: 0.05454 | train_mae: 0.18027 |  0:00:16s\n"
     ]
    },
    {
     "name": "stdout",
     "output_type": "stream",
     "text": [
      "epoch 161| loss: 0.09276 | train_mse: 0.04826 | train_mae: 0.17143 |  0:00:16s\n",
      "epoch 162| loss: 0.12523 | train_mse: 0.05699 | train_mae: 0.19066 |  0:00:16s\n",
      "epoch 163| loss: 0.12259 | train_mse: 0.06522 | train_mae: 0.20543 |  0:00:16s\n"
     ]
    },
    {
     "name": "stdout",
     "output_type": "stream",
     "text": [
      "epoch 164| loss: 0.14917 | train_mse: 0.06963 | train_mae: 0.21411 |  0:00:16s\n",
      "epoch 165| loss: 0.08015 | train_mse: 0.07501 | train_mae: 0.22185 |  0:00:16s\n"
     ]
    },
    {
     "name": "stdout",
     "output_type": "stream",
     "text": [
      "epoch 166| loss: 0.11595 | train_mse: 0.06924 | train_mae: 0.21116 |  0:00:16s\n",
      "epoch 167| loss: 0.10227 | train_mse: 0.05963 | train_mae: 0.19477 |  0:00:16s\n"
     ]
    },
    {
     "name": "stdout",
     "output_type": "stream",
     "text": [
      "epoch 168| loss: 0.12793 | train_mse: 0.07604 | train_mae: 0.22601 |  0:00:17s\n",
      "epoch 169| loss: 0.0823  | train_mse: 0.08097 | train_mae: 0.22301 |  0:00:17s\n",
      "epoch 170| loss: 0.0726  | train_mse: 0.07066 | train_mae: 0.20835 |  0:00:17s\n",
      "epoch 171| loss: 0.08473 | train_mse: 0.0585  | train_mae: 0.19672 |  0:00:17s\n"
     ]
    },
    {
     "name": "stdout",
     "output_type": "stream",
     "text": [
      "epoch 172| loss: 0.08331 | train_mse: 0.04738 | train_mae: 0.17435 |  0:00:17s\n",
      "epoch 173| loss: 0.07309 | train_mse: 0.04533 | train_mae: 0.17033 |  0:00:17s\n",
      "epoch 174| loss: 0.09032 | train_mse: 0.04843 | train_mae: 0.18127 |  0:00:17s\n"
     ]
    },
    {
     "name": "stdout",
     "output_type": "stream",
     "text": [
      "epoch 175| loss: 0.09642 | train_mse: 0.05271 | train_mae: 0.18767 |  0:00:17s\n",
      "epoch 176| loss: 0.10217 | train_mse: 0.05479 | train_mae: 0.18759 |  0:00:17s\n",
      "epoch 177| loss: 0.08802 | train_mse: 0.05844 | train_mae: 0.18563 |  0:00:17s\n"
     ]
    },
    {
     "name": "stdout",
     "output_type": "stream",
     "text": [
      "epoch 178| loss: 0.10237 | train_mse: 0.06236 | train_mae: 0.19664 |  0:00:17s\n"
     ]
    },
    {
     "name": "stdout",
     "output_type": "stream",
     "text": [
      "epoch 179| loss: 0.13336 | train_mse: 0.05995 | train_mae: 0.20063 |  0:00:18s\n",
      "epoch 180| loss: 0.08777 | train_mse: 0.04611 | train_mae: 0.17599 |  0:00:18s\n"
     ]
    },
    {
     "name": "stdout",
     "output_type": "stream",
     "text": [
      "epoch 181| loss: 0.07738 | train_mse: 0.05145 | train_mae: 0.18865 |  0:00:18s\n"
     ]
    },
    {
     "name": "stdout",
     "output_type": "stream",
     "text": [
      "epoch 182| loss: 0.09333 | train_mse: 0.0563  | train_mae: 0.19829 |  0:00:18s\n"
     ]
    },
    {
     "name": "stdout",
     "output_type": "stream",
     "text": [
      "epoch 183| loss: 0.08217 | train_mse: 0.04843 | train_mae: 0.1806  |  0:00:19s\n"
     ]
    },
    {
     "name": "stdout",
     "output_type": "stream",
     "text": [
      "epoch 184| loss: 0.07461 | train_mse: 0.04628 | train_mae: 0.17445 |  0:00:19s\n",
      "epoch 185| loss: 0.08274 | train_mse: 0.07414 | train_mae: 0.20108 |  0:00:19s\n"
     ]
    },
    {
     "name": "stdout",
     "output_type": "stream",
     "text": [
      "epoch 186| loss: 0.11829 | train_mse: 0.05982 | train_mae: 0.19333 |  0:00:19s\n"
     ]
    },
    {
     "name": "stdout",
     "output_type": "stream",
     "text": [
      "epoch 187| loss: 0.04839 | train_mse: 0.06312 | train_mae: 0.19624 |  0:00:20s\n",
      "epoch 188| loss: 0.07753 | train_mse: 0.05769 | train_mae: 0.19125 |  0:00:20s\n"
     ]
    },
    {
     "name": "stdout",
     "output_type": "stream",
     "text": [
      "epoch 189| loss: 0.0729  | train_mse: 0.06102 | train_mae: 0.19522 |  0:00:20s\n",
      "epoch 190| loss: 0.10634 | train_mse: 0.06542 | train_mae: 0.19802 |  0:00:20s\n",
      "epoch 191| loss: 0.10579 | train_mse: 0.06755 | train_mae: 0.2015  |  0:00:20s\n"
     ]
    },
    {
     "name": "stdout",
     "output_type": "stream",
     "text": [
      "epoch 192| loss: 0.05828 | train_mse: 0.06172 | train_mae: 0.1923  |  0:00:20s\n",
      "epoch 193| loss: 0.12658 | train_mse: 0.0554  | train_mae: 0.18338 |  0:00:20s\n",
      "epoch 194| loss: 0.07698 | train_mse: 0.06556 | train_mae: 0.19802 |  0:00:20s\n"
     ]
    },
    {
     "name": "stdout",
     "output_type": "stream",
     "text": [
      "epoch 195| loss: 0.07954 | train_mse: 0.04859 | train_mae: 0.17152 |  0:00:20s\n",
      "epoch 196| loss: 0.08974 | train_mse: 0.04538 | train_mae: 0.17297 |  0:00:20s\n",
      "epoch 197| loss: 0.16167 | train_mse: 0.06647 | train_mae: 0.19892 |  0:00:20s\n",
      "epoch 198| loss: 0.10766 | train_mse: 0.09969 | train_mae: 0.22467 |  0:00:21s\n"
     ]
    },
    {
     "name": "stdout",
     "output_type": "stream",
     "text": [
      "\n",
      "Early stopping occurred at epoch 198 with best_epoch = 148 and best_train_mae = 0.16732\n",
      "Best weights from best epoch are automatically used!\n",
      "BEST VALID SCORE FOR dataset : 0.16732341031988449\n",
      "FINAL TEST SCORE FOR dataset: 0.34792303120816326\n",
      "{'loss': [0.6811950922012329, 0.7572736024856568, 0.659139609336853, 0.6363073229789734, 0.5510766983032227, 0.3128885805606842, 0.4107963740825653, 0.3684926569461823, 0.39311941266059874, 0.2982785880565643, 0.365840357542038, 0.43446235060691835, 0.37927592992782594, 0.33051135540008547, 0.2927264213562012, 0.2508033812046051, 0.3307797610759735, 0.2726663202047348, 0.18621585369110108, 0.32961090803146365, 0.215241003036499, 0.2416029691696167, 0.28833782076835635, 0.2084494024515152, 0.3383728861808777, 0.34484136998653414, 0.2473079353570938, 0.31761065125465393, 0.21577428579330443, 0.3305233418941498, 0.1762878954410553, 0.24261096715927125, 0.17987065613269806, 0.17156181931495668, 0.3030344009399414, 0.14249769002199172, 0.1582868814468384, 0.23522120118141174, 0.20389303267002107, 0.15828682184219361, 0.1905190020799637, 0.13519051671028137, 0.20339917242527009, 0.21368916630744933, 0.18020294308662416, 0.19540357887744902, 0.16981001794338227, 0.13188586831092836, 0.11559345126152039, 0.1894259750843048, 0.16066158413887024, 0.1623214453458786, 0.17208340764045715, 0.17502440512180328, 0.15674995481967927, 0.12922704219818115, 0.13132406175136566, 0.09180773496627807, 0.124806447327137, 0.22501381635665893, 0.12481145560741425, 0.17193892896175383, 0.16598240435123443, 0.14886716306209563, 0.17205941826105117, 0.11136068403720856, 0.1764581620693207, 0.11193071007728576, 0.17735223472118378, 0.12010754346847534, 0.1036986991763115, 0.11841762065887451, 0.11309933960437775, 0.11636189520359039, 0.15498674809932708, 0.14103876054286957, 0.08421178758144379, 0.1531939059495926, 0.1478271007537842, 0.13842054903507234, 0.11305450201034546, 0.1573394238948822, 0.13353848457336426, 0.1111549198627472, 0.12438456416130066, 0.06988834440708161, 0.19085516929626464, 0.10875061750411988, 0.13189885169267654, 0.09128852486610413, 0.16231872141361237, 0.15219345986843108, 0.14953601956367493, 0.08741952776908875, 0.1310076743364334, 0.10671036839485168, 0.06768892109394073, 0.09451642334461212, 0.12552275657653808, 0.23773084878921508, 0.16150609850883485, 0.10359209477901458, 0.07181902676820755, 0.08867042660713195, 0.10464180111885071, 0.13995958268642425, 0.08214013129472733, 0.11132468730211258, 0.08950174003839492, 0.0826399952173233, 0.07997695207595826, 0.07066315412521362, 0.14931220412254334, 0.13974518775939943, 0.12177683413028717, 0.1764194369316101, 0.11487262845039367, 0.12115826904773712, 0.088420669734478, 0.1381487876176834, 0.10183200836181641, 0.11368560492992401, 0.22089150547981262, 0.08226993754506111, 0.1568297564983368, 0.1102615550160408, 0.15058257281780243, 0.13390863537788392, 0.09653758406639099, 0.1249017059803009, 0.13293234407901763, 0.08440987020730972, 0.07069903165102005, 0.112704798579216, 0.10213146805763244, 0.14436785280704498, 0.09071053117513657, 0.19881569743156433, 0.10966194868087768, 0.09910566210746766, 0.11476202458143234, 0.1202979862689972, 0.11741014420986176, 0.07415793985128402, 0.05915949642658234, 0.13230910897254944, 0.23664353787899017, 0.1273823231458664, 0.09496722668409348, 0.12735386192798615, 0.09458270817995071, 0.09294192343950272, 0.05445992350578308, 0.10093846023082734, 0.131602680683136, 0.09507423639297485, 0.054716160893440245, 0.10611900389194488, 0.08424586206674575, 0.11308045089244842, 0.15257515013217926, 0.09275682270526886, 0.12522895783185958, 0.1225945383310318, 0.1491720646619797, 0.08015365600585937, 0.11594542264938354, 0.10226902961730958, 0.1279267355799675, 0.0823037326335907, 0.07260458916425705, 0.08473075181245804, 0.08331466168165207, 0.07308539897203445, 0.0903190016746521, 0.0964154303073883, 0.10216624736785888, 0.08802159577608108, 0.10237471461296081, 0.13335782885551453, 0.0877685546875, 0.07737563401460648, 0.093333300948143, 0.08217153400182724, 0.07461433410644532, 0.08273879140615463, 0.11828687787055969, 0.04838561862707138, 0.07753057777881622, 0.0728974997997284, 0.1063396841287613, 0.10578647255897522, 0.05827864855527878, 0.12658171057701112, 0.07697583436965942, 0.07953859567642212, 0.08974019140005111, 0.1616657257080078, 0.1076584815979004], 'lr': [0.02, 0.02, 0.02, 0.02, 0.02, 0.02, 0.02, 0.02, 0.02, 0.02, 0.02, 0.02, 0.02, 0.02, 0.02, 0.02, 0.02, 0.02, 0.02, 0.02, 0.02, 0.02, 0.02, 0.02, 0.02, 0.02, 0.02, 0.02, 0.02, 0.02, 0.02, 0.02, 0.02, 0.02, 0.02, 0.02, 0.02, 0.02, 0.02, 0.02, 0.02, 0.02, 0.02, 0.02, 0.02, 0.02, 0.02, 0.02, 0.02, 0.02, 0.02, 0.02, 0.02, 0.02, 0.02, 0.02, 0.02, 0.02, 0.02, 0.02, 0.02, 0.02, 0.02, 0.02, 0.02, 0.02, 0.02, 0.02, 0.02, 0.02, 0.02, 0.02, 0.02, 0.02, 0.02, 0.02, 0.02, 0.02, 0.02, 0.02, 0.02, 0.02, 0.02, 0.02, 0.02, 0.02, 0.02, 0.02, 0.02, 0.02, 0.02, 0.02, 0.02, 0.02, 0.02, 0.02, 0.02, 0.02, 0.02, 0.02, 0.02, 0.02, 0.02, 0.02, 0.02, 0.02, 0.02, 0.02, 0.02, 0.02, 0.02, 0.02, 0.02, 0.02, 0.02, 0.02, 0.02, 0.02, 0.02, 0.02, 0.02, 0.02, 0.02, 0.02, 0.02, 0.02, 0.02, 0.02, 0.02, 0.02, 0.02, 0.02, 0.02, 0.02, 0.02, 0.02, 0.02, 0.02, 0.02, 0.02, 0.02, 0.02, 0.02, 0.02, 0.02, 0.02, 0.02, 0.02, 0.02, 0.02, 0.02, 0.02, 0.02, 0.02, 0.02, 0.02, 0.02, 0.02, 0.02, 0.02, 0.02, 0.02, 0.02, 0.02, 0.02, 0.02, 0.02, 0.02, 0.02, 0.02, 0.02, 0.02, 0.02, 0.02, 0.02, 0.02, 0.02, 0.02, 0.02, 0.02, 0.02, 0.02, 0.02, 0.02, 0.02, 0.02, 0.02, 0.02, 0.02, 0.02, 0.02, 0.02, 0.02, 0.02, 0.02, 0.02, 0.02, 0.02, 0.02], 'train_mse': [4.486945794282498, 1.487782108114383, 1.0570522150718684, 1.0230432253899053, 1.3759635136837027, 1.2445025989869005, 1.0160349502379404, 1.1869581259656148, 1.3198245934992232, 1.207986724532687, 0.9666255526806197, 0.5690856273415917, 0.44224718848939426, 0.49187707993235125, 0.33997689561361844, 0.41634877330658826, 0.37923259113697744, 0.33394905003417247, 0.320907882466099, 0.3983134000564815, 0.46331770616906365, 0.6312938342543205, 0.46033708218758385, 0.2622705354806552, 0.2224774269525927, 0.21468752663518537, 0.21715853275418087, 0.22355131643861564, 0.203550121072607, 0.1734850681219467, 0.1626100610992108, 0.18409315101862467, 0.18204906284023886, 0.16355712415913704, 0.15444040885175644, 0.14370065355179096, 0.11622433726882608, 0.11029192758031565, 0.16090387894937336, 0.15574056357550448, 0.12448623372187004, 0.12518947927953378, 0.12633837739255246, 0.10687321634351055, 0.0973465984513255, 0.1127300247686337, 0.12977337213853035, 0.1141070470292767, 0.10947677275342253, 0.11247167610258535, 0.10632280258652234, 0.10239571145507294, 0.1022876092155713, 0.10373656218851039, 0.10205433457379223, 0.11761341663214393, 0.10486857971237531, 0.09328566790019246, 0.08977485700935137, 0.09476805513790841, 0.09807010913569911, 0.10185056856142172, 0.10479903413142085, 0.09946275119416621, 0.08143138805693231, 0.08113411146733907, 0.08023720666476289, 0.07340519033336637, 0.08049703606379068, 0.09478979160944408, 0.08014071993785604, 0.07042415112816894, 0.06350874424781625, 0.06396104216863392, 0.07872602405381797, 0.08021848235332471, 0.08777091435474807, 0.08906941754535105, 0.08106654132447225, 0.07512640277908429, 0.07994063516154777, 0.09232639267721295, 0.09320485872372403, 0.09003019779272245, 0.07803197720372182, 0.07336077715113576, 0.06829531722662198, 0.06466465098223377, 0.07499453275940693, 0.06458377389455933, 0.07010465890921098, 0.06320173623425965, 0.07137344424247194, 0.07115481867186738, 0.08264455699291542, 0.08098819792240779, 0.07770422126076586, 0.07652757056334633, 0.07645262674429855, 0.10360563502760882, 0.1139795593227437, 0.10586794844234564, 0.0963523082127395, 0.08426798410240868, 0.07946754134390988, 0.06262648112079851, 0.06176995379752259, 0.059180945224748385, 0.05626223536978926, 0.05812613798961723, 0.06436168192293605, 0.07949304586024729, 0.08948713340902432, 0.09797438882253134, 0.07017977689340173, 0.06323845699895798, 0.070247890939554, 0.051919568357329346, 0.06612494556300053, 0.0765232786418748, 0.07466257571810651, 0.062040077669706595, 0.07403225169943337, 0.07255363445642883, 0.06989748906795279, 0.07057287546994076, 0.07380211379074374, 0.07232532966745828, 0.0785709312384603, 0.07631171842353801, 0.07609254321262936, 0.08845950518825764, 0.09569666439926743, 0.09978632405129165, 0.09142646576403124, 0.09004063063543769, 0.10220485766599119, 0.11744027017409162, 0.11096935563907095, 0.11427889316665807, 0.09826204007721062, 0.06424273685595229, 0.06223802090837327, 0.06256507044182377, 0.05646396392584145, 0.0481460383661793, 0.053417890236567026, 0.053541604764283025, 0.04468735744870063, 0.044458260000769884, 0.052144093571558046, 0.069091180291567, 0.06018348294591043, 0.059271456403372745, 0.07513757975509887, 0.07600721810683593, 0.05873223850577425, 0.05435525950451139, 0.06993485957607024, 0.07167880670636492, 0.05453870523507833, 0.048262241203564746, 0.05698633663912141, 0.06522126432952151, 0.06962983431754469, 0.0750082952776828, 0.06923614894021057, 0.05963208610942512, 0.07604415529160403, 0.08097287560091745, 0.07066182514475543, 0.05849698400365847, 0.04738427374946756, 0.04533226246819367, 0.048430060127812605, 0.05270537166833604, 0.05479235053539213, 0.05844130235376005, 0.06236295782861456, 0.05995376158280648, 0.04611134168519802, 0.051454685686018076, 0.056304908863917716, 0.04843452920208186, 0.04627735978783255, 0.07414050769595262, 0.05981945426760188, 0.06312332472341534, 0.05769204870738953, 0.0610171023775498, 0.0654233740342353, 0.0675506271211079, 0.06171927026651042, 0.055403296400256694, 0.06556285322156215, 0.048589102864198715, 0.04537569501293092, 0.06647181455745077, 0.09969452369272773], 'train_mae': [1.7777223926782213, 0.9110514010350175, 0.7963918816107983, 0.7798103380390493, 0.9039172215608268, 0.9021374239691324, 0.826871785892479, 0.8182303373769994, 0.8438078129126747, 0.8316683572740843, 0.7555070142624718, 0.5957443540693859, 0.5409846253138901, 0.5327843449533336, 0.45910699212009487, 0.467914061885179, 0.4607196383660198, 0.4505050253352755, 0.43148474618682187, 0.47523111751285596, 0.5297940955167177, 0.5430929617528075, 0.5029836213761267, 0.40321998164935763, 0.36780240972799266, 0.37734587529462804, 0.38209998704157827, 0.3774838028425175, 0.38313122286245244, 0.35245482758054114, 0.3301741188978165, 0.3374396777968549, 0.32637055130794135, 0.3066157476053545, 0.3024709655328764, 0.3006045812617953, 0.2732036078626617, 0.2660969805679856, 0.32624398980935465, 0.3210120459971306, 0.28240164514757576, 0.27615672431806704, 0.28046270964725334, 0.2517332329460412, 0.23837534003888453, 0.25906709616424867, 0.27607778788194537, 0.2599028230052706, 0.25241472495052425, 0.25871875436727315, 0.2533659290415816, 0.24864052034110956, 0.245386639524098, 0.24915124084795987, 0.2509294592090933, 0.27677967528315905, 0.26028755218869115, 0.2385796502365766, 0.24074712561469452, 0.2469349977354785, 0.25163934908670377, 0.2512688132317787, 0.25810800216821317, 0.259765662453053, 0.2376408392083365, 0.23253462861305457, 0.23131573666304814, 0.22804233682314604, 0.22913032480107748, 0.23840650700878277, 0.21495741911348548, 0.1997608062381609, 0.1926894811457688, 0.20639256767162606, 0.21570362869497012, 0.21669847771959194, 0.2262231277915451, 0.23117647544768133, 0.22540578165417582, 0.21935020746960704, 0.2264808664603491, 0.24673920695051935, 0.24960257877037276, 0.24748231831732764, 0.2301697251850839, 0.22782377174266366, 0.21444504379434268, 0.2108202349864475, 0.21750209281434413, 0.20148141976872475, 0.20925842550430596, 0.2009928993112625, 0.21367086252923015, 0.21483365151447043, 0.2191356221474512, 0.21520848583464708, 0.22044663033188505, 0.22309400172307509, 0.21885805175477188, 0.23954092283987505, 0.2513695582846946, 0.24677250039277424, 0.24361968394701222, 0.22780298210530736, 0.21949204053466245, 0.20126769101328912, 0.1930370337148321, 0.18572869647600193, 0.18184724639386246, 0.18461014451992946, 0.1998193657917937, 0.22315203644109366, 0.22451086972050555, 0.2248407952115278, 0.20449931207650804, 0.19351487842095438, 0.20660226606212354, 0.1741245650371047, 0.21120775245331083, 0.2261485313480364, 0.22029597493856695, 0.2055619878656952, 0.21683976325211676, 0.21773484229096257, 0.2091574980299212, 0.21318735593876212, 0.2113021833309639, 0.2127570781397486, 0.23354888267054105, 0.2294840445732663, 0.22483543425479063, 0.23780850566386516, 0.24519414215547036, 0.24228336734444697, 0.23762603115930955, 0.2313428408479739, 0.23464727355123988, 0.25070079554953634, 0.24143325299899548, 0.25254175955129815, 0.24167672118514885, 0.19363782662481752, 0.19288093113921959, 0.19451164833466486, 0.19002110661435695, 0.18048359645756334, 0.18276450129651764, 0.18849883732022993, 0.16732341031988449, 0.1680132084030781, 0.18614556022113118, 0.2120352571800253, 0.1948257059850196, 0.19188783790096026, 0.22230973351396802, 0.2253286803588394, 0.19684202360071734, 0.18858692577874342, 0.21155445493573968, 0.21302369735525423, 0.180274838172102, 0.17143064268680833, 0.1906640249710752, 0.20543247248382226, 0.2141100449697011, 0.22184946714865167, 0.21116222994855258, 0.19476663550191992, 0.22600561061111665, 0.22300615960875608, 0.20834929761772317, 0.19672018416237919, 0.1743521812434159, 0.1703287688230403, 0.18126776768783476, 0.18766797621639755, 0.1875941443038617, 0.1856262852776428, 0.19663751867015608, 0.2006304524635507, 0.17599218979468195, 0.1886508824056547, 0.1982933548689584, 0.18059864059811073, 0.1744475300558488, 0.2010750921438686, 0.1933329682234947, 0.19624305887396803, 0.19124529592412673, 0.19521603601877008, 0.19801809364936473, 0.201500989181649, 0.1923002404021648, 0.18337674425289202, 0.1980195113469394, 0.17152302794161436, 0.17297464525800738, 0.19892098918448115, 0.22467076922235668]}\n"
     ]
    },
    {
     "data": {
      "application/scrapbook.scrap.json+json": {
       "data": 0.34792303120816326,
       "encoder": "json",
       "name": "TabNet MAE",
       "version": 1
      }
     },
     "metadata": {
      "scrapbook": {
       "data": true,
       "display": false,
       "name": "TabNet MAE"
      }
     },
     "output_type": "display_data"
    },
    {
     "data": {
      "image/png": "[encoded data removed]",
      "text/plain": [
       "<Figure size 432x288 with 1 Axes>"
      ]
     },
     "metadata": {
      "needs_background": "light"
     },
     "output_type": "display_data"
    }
   ],
   "source": [
    "lr = 0.02\n",
    "\n",
    "print(y_train.shape)\n",
    "y_train = np.reshape(y_train, (-1, 1))\n",
    "y_test = np.reshape(y_test, (-1, 1))\n",
    "\n",
    "device = torch.device('cuda' if torch.cuda.is_available() else 'cpu')\n",
    "mae_tab= baselineModels.tabnetreg(X_train,y_train,X_test,y_test,batch_size,n_features,n_target,n_epochs, lr)\n",
    "sb.glue(\"TabNet MAE\",mae_tab)"
   ]
  }
 ],
 "metadata": {
  "interpreter": {
   "hash": "10498c76ddd8160350534c6544a2b2fb65f2138dbc70420f7c81a3268f830f23"
  },
  "kernelspec": {
   "display_name": "Python 3",
   "language": "python",
   "name": "python3"
  },
  "language_info": {
   "codemirror_mode": {
    "name": "ipython",
    "version": 3
   },
   "file_extension": ".py",
   "mimetype": "text/x-python",
   "name": "python",
   "nbconvert_exporter": "python",
   "pygments_lexer": "ipython3",
   "version": "3.8.3"
  },
  "papermill": {
   "default_parameters": {},
   "duration": 36.124521,
   "end_time": "2022-06-22T10:50:23.144514",
   "environment_variables": {},
   "exception": null,
   "input_path": "BaselineModels.ipynb",
   "output_path": "./BaseLine_Model_Output/BaselineModels_output_7.ipynb",
   "parameters": {},
   "start_time": "2022-06-22T10:49:47.019993",
   "version": "2.3.3"
  }
 },
 "nbformat": 4,
 "nbformat_minor": 5
}