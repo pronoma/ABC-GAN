{
 "cells": [
  {
   "cell_type": "markdown",
   "id": "a250b29f",
   "metadata": {
    "papermill": {
     "duration": 0.023769,
     "end_time": "2022-06-22T10:46:01.421479",
     "exception": false,
     "start_time": "2022-06-22T10:46:01.397710",
     "status": "completed"
    },
    "tags": []
   },
   "source": [
    "## Import Libraries "
   ]
  },
  {
   "cell_type": "code",
   "execution_count": 1,
   "id": "b955cb2b",
   "metadata": {
    "execution": {
     "iopub.execute_input": "2022-06-22T10:46:01.471108Z",
     "iopub.status.busy": "2022-06-22T10:46:01.467168Z",
     "iopub.status.idle": "2022-06-22T10:46:01.472457Z",
     "shell.execute_reply": "2022-06-22T10:46:01.473245Z"
    },
    "papermill": {
     "duration": 0.042161,
     "end_time": "2022-06-22T10:46:01.473862",
     "exception": false,
     "start_time": "2022-06-22T10:46:01.431701",
     "status": "completed"
    },
    "tags": []
   },
   "outputs": [],
   "source": [
    "import warnings\n",
    "import sys\n",
    "sys.path.insert(0, '../../src')\n",
    "warnings.filterwarnings('ignore')"
   ]
  },
  {
   "cell_type": "code",
   "execution_count": 2,
   "id": "0c237a8a",
   "metadata": {
    "execution": {
     "iopub.execute_input": "2022-06-22T10:46:01.521880Z",
     "iopub.status.busy": "2022-06-22T10:46:01.519190Z",
     "iopub.status.idle": "2022-06-22T10:46:09.684223Z",
     "shell.execute_reply": "2022-06-22T10:46:09.684897Z"
    },
    "papermill": {
     "duration": 8.198781,
     "end_time": "2022-06-22T10:46:09.685167",
     "exception": false,
     "start_time": "2022-06-22T10:46:01.486386",
     "status": "completed"
    },
    "tags": []
   },
   "outputs": [],
   "source": [
    "import statsModel\n",
    "import scrapbook as sb \n",
    "import torch \n",
    "import statsModel\n",
    "import baselineModels\n",
    "import friedman3Dataset\n",
    "import dataset \n",
    "from torch.utils.data import random_split \n",
    "from sklearn.model_selection import train_test_split\n",
    "import numpy as np"
   ]
  },
  {
   "cell_type": "markdown",
   "id": "cfffcc25",
   "metadata": {
    "papermill": {
     "duration": 0.010535,
     "end_time": "2022-06-22T10:46:09.704994",
     "exception": false,
     "start_time": "2022-06-22T10:46:09.694459",
     "status": "completed"
    },
    "tags": []
   },
   "source": [
    "## Import Dataset \n"
   ]
  },
  {
   "cell_type": "code",
   "execution_count": 3,
   "id": "669d775b",
   "metadata": {
    "execution": {
     "iopub.execute_input": "2022-06-22T10:46:09.733082Z",
     "iopub.status.busy": "2022-06-22T10:46:09.732153Z",
     "iopub.status.idle": "2022-06-22T10:46:09.776904Z",
     "shell.execute_reply": "2022-06-22T10:46:09.777618Z"
    },
    "papermill": {
     "duration": 0.063328,
     "end_time": "2022-06-22T10:46:09.777858",
     "exception": false,
     "start_time": "2022-06-22T10:46:09.714530",
     "status": "completed"
    },
    "tags": []
   },
   "outputs": [
    {
     "name": "stdout",
     "output_type": "stream",
     "text": [
      "          X1           X2        X3        X4         Y\n",
      "0   0.820410   903.608516  0.222942  7.623901  1.587809\n",
      "1  89.504675  1050.218493  0.872254  4.359831  1.614244\n",
      "2  66.314346   794.989330  0.120740  5.497510  1.029111\n",
      "3  27.072116  1507.412791  0.124343  3.865891  1.433099\n",
      "4  21.302184   222.481760  0.288491  3.384394  1.247143\n"
     ]
    }
   ],
   "source": [
    "n_features = 4\n",
    "n_samples= 100\n",
    "n_target = 1\n",
    "X,Y = friedman3Dataset.friedman3_data(n_samples)"
   ]
  },
  {
   "cell_type": "code",
   "execution_count": 4,
   "id": "4f5c3e5d",
   "metadata": {
    "execution": {
     "iopub.execute_input": "2022-06-22T10:46:09.802553Z",
     "iopub.status.busy": "2022-06-22T10:46:09.801679Z",
     "iopub.status.idle": "2022-06-22T10:46:09.808911Z",
     "shell.execute_reply": "2022-06-22T10:46:09.809467Z"
    },
    "papermill": {
     "duration": 0.02257,
     "end_time": "2022-06-22T10:46:09.809698",
     "exception": false,
     "start_time": "2022-06-22T10:46:09.787128",
     "status": "completed"
    },
    "tags": []
   },
   "outputs": [
    {
     "name": "stdout",
     "output_type": "stream",
     "text": [
      "(100, 4)\n",
      "(100,)\n",
      "(80, 4)\n",
      "(80,)\n",
      "(20, 4)\n",
      "(20,)\n"
     ]
    }
   ],
   "source": [
    "# Train test split for dataset \n",
    "real_dataset = dataset.CustomDataset(X,Y)\n",
    "\n",
    "print(X.shape)\n",
    "print(Y.shape)\n",
    "X_train, X_test, y_train, y_test = train_test_split(X, Y, test_size=0.2)\n",
    "\n",
    "print(X_train.shape)\n",
    "print(y_train.shape)\n",
    "print(X_test.shape)\n",
    "print(y_test.shape)"
   ]
  },
  {
   "cell_type": "markdown",
   "id": "bc6e9419",
   "metadata": {
    "papermill": {
     "duration": 0.009424,
     "end_time": "2022-06-22T10:46:09.828163",
     "exception": false,
     "start_time": "2022-06-22T10:46:09.818739",
     "status": "completed"
    },
    "tags": []
   },
   "source": [
    "## Stats Model \n",
    "\n"
   ]
  },
  {
   "cell_type": "code",
   "execution_count": 5,
   "id": "701d7def",
   "metadata": {
    "execution": {
     "iopub.execute_input": "2022-06-22T10:46:09.864537Z",
     "iopub.status.busy": "2022-06-22T10:46:09.863494Z",
     "iopub.status.idle": "2022-06-22T10:46:10.181972Z",
     "shell.execute_reply": "2022-06-22T10:46:10.182484Z"
    },
    "papermill": {
     "duration": 0.343576,
     "end_time": "2022-06-22T10:46:10.182724",
     "exception": false,
     "start_time": "2022-06-22T10:46:09.839148",
     "status": "completed"
    },
    "tags": []
   },
   "outputs": [
    {
     "name": "stderr",
     "output_type": "stream",
     "text": [
      "No handles with labels found to put in legend.\n"
     ]
    },
    {
     "name": "stdout",
     "output_type": "stream",
     "text": [
      "                                 OLS Regression Results                                \n",
      "=======================================================================================\n",
      "Dep. Variable:                      y   R-squared (uncentered):                   0.527\n",
      "Model:                            OLS   Adj. R-squared (uncentered):              0.502\n",
      "Method:                 Least Squares   F-statistic:                              21.18\n",
      "Date:                Wed, 22 Jun 2022   Prob (F-statistic):                    9.20e-12\n",
      "Time:                        16:16:09   Log-Likelihood:                         -76.280\n",
      "No. Observations:                  80   AIC:                                      160.6\n",
      "Df Residuals:                      76   BIC:                                      170.1\n",
      "Df Model:                           4                                                  \n",
      "Covariance Type:            nonrobust                                                  \n",
      "==============================================================================\n",
      "                 coef    std err          t      P>|t|      [0.025      0.975]\n",
      "------------------------------------------------------------------------------\n",
      "x1            -0.3039      0.072     -4.194      0.000      -0.448      -0.160\n",
      "x2             0.3242      0.075      4.324      0.000       0.175       0.474\n",
      "x3             0.4431      0.075      5.930      0.000       0.294       0.592\n",
      "x4            -0.0415      0.071     -0.581      0.563      -0.184       0.101\n",
      "==============================================================================\n",
      "Omnibus:                       10.606   Durbin-Watson:                   2.089\n",
      "Prob(Omnibus):                  0.005   Jarque-Bera (JB):               10.924\n",
      "Skew:                          -0.750   Prob(JB):                      0.00424\n",
      "Kurtosis:                       4.014   Cond. No.                         1.27\n",
      "==============================================================================\n",
      "\n",
      "Notes:\n",
      "[1] R² is computed without centering (uncentered) since the model does not contain a constant.\n",
      "[2] Standard Errors assume that the covariance matrix of the errors is correctly specified.\n"
     ]
    },
    {
     "data": {
      "image/png": "[encoded data removed]",
      "text/plain": [
       "<Figure size 432x288 with 1 Axes>"
      ]
     },
     "metadata": {
      "needs_background": "light"
     },
     "output_type": "display_data"
    },
    {
     "name": "stdout",
     "output_type": "stream",
     "text": [
      "Performance Metrics\n",
      "Mean Squared Error: 0.7285597037712297\n",
      "Mean Absolute Error: 0.707236758985941\n",
      "Manhattan distance: 14.144735179718818\n",
      "Euclidean distance: 3.8172233462851755\n"
     ]
    },
    {
     "data": {
      "application/scrapbook.scrap.json+json": {
       "data": 0.7285597037712297,
       "encoder": "json",
       "name": "Stats Model MSE",
       "version": 1
      }
     },
     "metadata": {
      "scrapbook": {
       "data": true,
       "display": false,
       "name": "Stats Model MSE"
      }
     },
     "output_type": "display_data"
    },
    {
     "data": {
      "application/scrapbook.scrap.json+json": {
       "data": 0.707236758985941,
       "encoder": "json",
       "name": "Stats Model MAE",
       "version": 1
      }
     },
     "metadata": {
      "scrapbook": {
       "data": true,
       "display": false,
       "name": "Stats Model MAE"
      }
     },
     "output_type": "display_data"
    },
    {
     "data": {
      "application/scrapbook.scrap.json+json": {
       "data": 14.144735179718818,
       "encoder": "json",
       "name": "Stats Model Manhattan Distance",
       "version": 1
      }
     },
     "metadata": {
      "scrapbook": {
       "data": true,
       "display": false,
       "name": "Stats Model Manhattan Distance"
      }
     },
     "output_type": "display_data"
    },
    {
     "data": {
      "application/scrapbook.scrap.json+json": {
       "data": 3.8172233462851755,
       "encoder": "json",
       "name": "Stats Model Euclidean distance",
       "version": 1
      }
     },
     "metadata": {
      "scrapbook": {
       "data": true,
       "display": false,
       "name": "Stats Model Euclidean distance"
      }
     },
     "output_type": "display_data"
    },
    {
     "data": {
      "application/scrapbook.scrap.json+json": {
       "data": [
        -0.3038531571643994,
        0.32424537289330196,
        0.44314893730294147,
        -0.0414688024409161
       ],
       "encoder": "json",
       "name": "Coefficients",
       "version": 1
      }
     },
     "metadata": {
      "scrapbook": {
       "data": true,
       "display": false,
       "name": "Coefficients"
      }
     },
     "output_type": "display_data"
    }
   ],
   "source": [
    "coefficients , y_pred =statsModel.statsModel(X_train,y_train,X_test,y_test)\n",
    "#Store MSE Value \n",
    "sb.glue(\"Coefficients\",coefficients)"
   ]
  },
  {
   "cell_type": "markdown",
   "id": "266152c5",
   "metadata": {
    "papermill": {
     "duration": 0.013569,
     "end_time": "2022-06-22T10:46:10.208886",
     "exception": false,
     "start_time": "2022-06-22T10:46:10.195317",
     "status": "completed"
    },
    "tags": []
   },
   "source": [
    "# Catboost Model "
   ]
  },
  {
   "cell_type": "code",
   "execution_count": 6,
   "id": "cd714be2",
   "metadata": {
    "execution": {
     "iopub.execute_input": "2022-06-22T10:46:10.251014Z",
     "iopub.status.busy": "2022-06-22T10:46:10.249139Z",
     "iopub.status.idle": "2022-06-22T10:46:10.942407Z",
     "shell.execute_reply": "2022-06-22T10:46:10.942891Z"
    },
    "papermill": {
     "duration": 0.718143,
     "end_time": "2022-06-22T10:46:10.943099",
     "exception": false,
     "start_time": "2022-06-22T10:46:10.224956",
     "status": "completed"
    },
    "tags": []
   },
   "outputs": [
    {
     "name": "stdout",
     "output_type": "stream",
     "text": [
      "Learning rate set to 0.027471\n",
      "0:\tlearn: 0.9012075\ttotal: 56.6ms\tremaining: 56.5s\n",
      "1:\tlearn: 0.8912698\ttotal: 57.5ms\tremaining: 28.7s\n",
      "2:\tlearn: 0.8825377\ttotal: 58.2ms\tremaining: 19.3s\n",
      "3:\tlearn: 0.8729920\ttotal: 58.8ms\tremaining: 14.6s\n",
      "4:\tlearn: 0.8646456\ttotal: 59.3ms\tremaining: 11.8s\n",
      "5:\tlearn: 0.8564923\ttotal: 60.3ms\tremaining: 9.99s\n",
      "6:\tlearn: 0.8453807\ttotal: 64.2ms\tremaining: 9.1s\n",
      "7:\tlearn: 0.8362980\ttotal: 64.7ms\tremaining: 8.03s\n",
      "8:\tlearn: 0.8272323\ttotal: 66ms\tremaining: 7.27s\n",
      "9:\tlearn: 0.8181532\ttotal: 67.3ms\tremaining: 6.67s\n",
      "10:\tlearn: 0.8098161\ttotal: 67.9ms\tremaining: 6.1s\n",
      "11:\tlearn: 0.8011689\ttotal: 68.4ms\tremaining: 5.63s\n",
      "12:\tlearn: 0.7906691\ttotal: 69ms\tremaining: 5.24s\n",
      "13:\tlearn: 0.7817028\ttotal: 69.5ms\tremaining: 4.89s\n",
      "14:\tlearn: 0.7725764\ttotal: 70.1ms\tremaining: 4.61s\n",
      "15:\tlearn: 0.7638235\ttotal: 70.6ms\tremaining: 4.34s\n",
      "16:\tlearn: 0.7550293\ttotal: 71.4ms\tremaining: 4.13s\n",
      "17:\tlearn: 0.7480197\ttotal: 72ms\tremaining: 3.93s\n",
      "18:\tlearn: 0.7418338\ttotal: 72.5ms\tremaining: 3.74s\n",
      "19:\tlearn: 0.7338491\ttotal: 73ms\tremaining: 3.58s\n",
      "20:\tlearn: 0.7264950\ttotal: 73.6ms\tremaining: 3.43s\n",
      "21:\tlearn: 0.7171976\ttotal: 74.1ms\tremaining: 3.29s\n",
      "22:\tlearn: 0.7106608\ttotal: 74.6ms\tremaining: 3.17s\n",
      "23:\tlearn: 0.7008119\ttotal: 75.1ms\tremaining: 3.05s\n",
      "24:\tlearn: 0.6930615\ttotal: 75.6ms\tremaining: 2.95s\n",
      "25:\tlearn: 0.6855710\ttotal: 75.9ms\tremaining: 2.84s\n",
      "26:\tlearn: 0.6786021\ttotal: 76.4ms\tremaining: 2.75s\n",
      "27:\tlearn: 0.6717479\ttotal: 76.9ms\tremaining: 2.67s\n",
      "28:\tlearn: 0.6654676\ttotal: 77.4ms\tremaining: 2.59s\n",
      "29:\tlearn: 0.6580759\ttotal: 77.8ms\tremaining: 2.51s\n",
      "30:\tlearn: 0.6525604\ttotal: 78.2ms\tremaining: 2.44s\n",
      "31:\tlearn: 0.6462288\ttotal: 78.7ms\tremaining: 2.38s\n",
      "32:\tlearn: 0.6410509\ttotal: 79.2ms\tremaining: 2.32s\n",
      "33:\tlearn: 0.6352191\ttotal: 79.7ms\tremaining: 2.27s\n",
      "34:\tlearn: 0.6289386\ttotal: 80.3ms\tremaining: 2.21s\n",
      "35:\tlearn: 0.6235033\ttotal: 80.8ms\tremaining: 2.16s\n",
      "36:\tlearn: 0.6168633\ttotal: 81.2ms\tremaining: 2.11s\n",
      "37:\tlearn: 0.6114822\ttotal: 81.8ms\tremaining: 2.07s\n",
      "38:\tlearn: 0.6055334\ttotal: 82.3ms\tremaining: 2.03s\n",
      "39:\tlearn: 0.6004295\ttotal: 82.8ms\tremaining: 1.99s\n",
      "40:\tlearn: 0.5937084\ttotal: 83.3ms\tremaining: 1.95s\n",
      "41:\tlearn: 0.5874871\ttotal: 83.8ms\tremaining: 1.91s\n",
      "42:\tlearn: 0.5815563\ttotal: 84.1ms\tremaining: 1.87s\n",
      "43:\tlearn: 0.5761182\ttotal: 84.5ms\tremaining: 1.84s\n",
      "44:\tlearn: 0.5705329\ttotal: 85ms\tremaining: 1.8s\n",
      "45:\tlearn: 0.5648156\ttotal: 85.5ms\tremaining: 1.77s\n",
      "46:\tlearn: 0.5584108\ttotal: 86ms\tremaining: 1.74s\n",
      "47:\tlearn: 0.5538509\ttotal: 86.5ms\tremaining: 1.71s\n",
      "48:\tlearn: 0.5490634\ttotal: 87ms\tremaining: 1.69s\n",
      "49:\tlearn: 0.5439924\ttotal: 87.4ms\tremaining: 1.66s\n",
      "50:\tlearn: 0.5386368\ttotal: 87.8ms\tremaining: 1.63s\n",
      "51:\tlearn: 0.5326167\ttotal: 88.5ms\tremaining: 1.61s\n",
      "52:\tlearn: 0.5280143\ttotal: 88.9ms\tremaining: 1.59s\n",
      "53:\tlearn: 0.5230572\ttotal: 89.4ms\tremaining: 1.57s\n",
      "54:\tlearn: 0.5179790\ttotal: 89.9ms\tremaining: 1.54s\n",
      "55:\tlearn: 0.5137579\ttotal: 90.4ms\tremaining: 1.52s\n",
      "56:\tlearn: 0.5092519\ttotal: 90.8ms\tremaining: 1.5s\n",
      "57:\tlearn: 0.5047422\ttotal: 91.2ms\tremaining: 1.48s\n",
      "58:\tlearn: 0.4999776\ttotal: 91.6ms\tremaining: 1.46s\n",
      "59:\tlearn: 0.4963805\ttotal: 92.1ms\tremaining: 1.44s\n",
      "60:\tlearn: 0.4921298\ttotal: 92.5ms\tremaining: 1.42s\n",
      "61:\tlearn: 0.4876766\ttotal: 93ms\tremaining: 1.41s\n",
      "62:\tlearn: 0.4832382\ttotal: 93.5ms\tremaining: 1.39s\n",
      "63:\tlearn: 0.4797356\ttotal: 93.9ms\tremaining: 1.37s\n",
      "64:\tlearn: 0.4758773\ttotal: 94.2ms\tremaining: 1.35s\n",
      "65:\tlearn: 0.4718060\ttotal: 94.6ms\tremaining: 1.34s\n",
      "66:\tlearn: 0.4690017\ttotal: 94.9ms\tremaining: 1.32s\n",
      "67:\tlearn: 0.4647875\ttotal: 95.3ms\tremaining: 1.3s\n",
      "68:\tlearn: 0.4606140\ttotal: 95.5ms\tremaining: 1.29s\n",
      "69:\tlearn: 0.4559068\ttotal: 95.9ms\tremaining: 1.27s\n"
     ]
    },
    {
     "name": "stdout",
     "output_type": "stream",
     "text": [
      "70:\tlearn: 0.4517888\ttotal: 96.3ms\tremaining: 1.26s\n",
      "71:\tlearn: 0.4483856\ttotal: 96.7ms\tremaining: 1.25s\n",
      "72:\tlearn: 0.4444828\ttotal: 97.3ms\tremaining: 1.24s\n",
      "73:\tlearn: 0.4401167\ttotal: 97.9ms\tremaining: 1.22s\n",
      "74:\tlearn: 0.4359633\ttotal: 98.4ms\tremaining: 1.21s\n",
      "75:\tlearn: 0.4327105\ttotal: 98.8ms\tremaining: 1.2s\n",
      "76:\tlearn: 0.4289163\ttotal: 99.2ms\tremaining: 1.19s\n",
      "77:\tlearn: 0.4249768\ttotal: 99.7ms\tremaining: 1.18s\n",
      "78:\tlearn: 0.4221799\ttotal: 100ms\tremaining: 1.17s\n",
      "79:\tlearn: 0.4187598\ttotal: 100ms\tremaining: 1.15s\n",
      "80:\tlearn: 0.4145092\ttotal: 101ms\tremaining: 1.14s\n",
      "81:\tlearn: 0.4119170\ttotal: 101ms\tremaining: 1.13s\n",
      "82:\tlearn: 0.4088050\ttotal: 102ms\tremaining: 1.12s\n",
      "83:\tlearn: 0.4054359\ttotal: 102ms\tremaining: 1.11s\n",
      "84:\tlearn: 0.4022563\ttotal: 102ms\tremaining: 1.1s\n",
      "85:\tlearn: 0.3989751\ttotal: 103ms\tremaining: 1.09s\n",
      "86:\tlearn: 0.3965342\ttotal: 103ms\tremaining: 1.08s\n",
      "87:\tlearn: 0.3939047\ttotal: 104ms\tremaining: 1.07s\n",
      "88:\tlearn: 0.3909819\ttotal: 104ms\tremaining: 1.06s\n",
      "89:\tlearn: 0.3882934\ttotal: 104ms\tremaining: 1.06s\n",
      "90:\tlearn: 0.3860882\ttotal: 105ms\tremaining: 1.05s\n",
      "91:\tlearn: 0.3836999\ttotal: 105ms\tremaining: 1.04s\n",
      "92:\tlearn: 0.3809980\ttotal: 106ms\tremaining: 1.03s\n",
      "93:\tlearn: 0.3782367\ttotal: 106ms\tremaining: 1.02s\n",
      "94:\tlearn: 0.3754667\ttotal: 107ms\tremaining: 1.02s\n",
      "95:\tlearn: 0.3730138\ttotal: 107ms\tremaining: 1.01s\n",
      "96:\tlearn: 0.3702070\ttotal: 108ms\tremaining: 1s\n",
      "97:\tlearn: 0.3677811\ttotal: 108ms\tremaining: 994ms\n",
      "98:\tlearn: 0.3650629\ttotal: 108ms\tremaining: 987ms\n",
      "99:\tlearn: 0.3624048\ttotal: 109ms\tremaining: 980ms\n",
      "100:\tlearn: 0.3596617\ttotal: 109ms\tremaining: 973ms\n",
      "101:\tlearn: 0.3577463\ttotal: 110ms\tremaining: 965ms\n",
      "102:\tlearn: 0.3552694\ttotal: 110ms\tremaining: 959ms\n",
      "103:\tlearn: 0.3529562\ttotal: 111ms\tremaining: 953ms\n",
      "104:\tlearn: 0.3503059\ttotal: 111ms\tremaining: 947ms\n",
      "105:\tlearn: 0.3482221\ttotal: 112ms\tremaining: 941ms\n",
      "106:\tlearn: 0.3459727\ttotal: 112ms\tremaining: 935ms\n",
      "107:\tlearn: 0.3433869\ttotal: 112ms\tremaining: 929ms\n",
      "108:\tlearn: 0.3410698\ttotal: 113ms\tremaining: 922ms\n",
      "109:\tlearn: 0.3382469\ttotal: 113ms\tremaining: 916ms\n",
      "110:\tlearn: 0.3361730\ttotal: 114ms\tremaining: 911ms\n",
      "111:\tlearn: 0.3336904\ttotal: 114ms\tremaining: 905ms\n",
      "112:\tlearn: 0.3318866\ttotal: 114ms\tremaining: 899ms\n",
      "113:\tlearn: 0.3296455\ttotal: 115ms\tremaining: 893ms\n",
      "114:\tlearn: 0.3281417\ttotal: 115ms\tremaining: 888ms\n",
      "115:\tlearn: 0.3257678\ttotal: 116ms\tremaining: 882ms\n",
      "116:\tlearn: 0.3238144\ttotal: 116ms\tremaining: 877ms\n",
      "117:\tlearn: 0.3212497\ttotal: 117ms\tremaining: 871ms\n",
      "118:\tlearn: 0.3193329\ttotal: 117ms\tremaining: 867ms\n",
      "119:\tlearn: 0.3175470\ttotal: 118ms\tremaining: 862ms\n",
      "120:\tlearn: 0.3157002\ttotal: 118ms\tremaining: 857ms\n",
      "121:\tlearn: 0.3140466\ttotal: 118ms\tremaining: 852ms\n",
      "122:\tlearn: 0.3120293\ttotal: 119ms\tremaining: 848ms\n",
      "123:\tlearn: 0.3102174\ttotal: 119ms\tremaining: 842ms\n",
      "124:\tlearn: 0.3079060\ttotal: 120ms\tremaining: 837ms\n",
      "125:\tlearn: 0.3059645\ttotal: 120ms\tremaining: 831ms\n",
      "126:\tlearn: 0.3038013\ttotal: 120ms\tremaining: 826ms\n",
      "127:\tlearn: 0.3021179\ttotal: 120ms\tremaining: 821ms\n",
      "128:\tlearn: 0.3006223\ttotal: 121ms\tremaining: 817ms\n",
      "129:\tlearn: 0.2982673\ttotal: 121ms\tremaining: 813ms\n",
      "130:\tlearn: 0.2968445\ttotal: 122ms\tremaining: 810ms\n",
      "131:\tlearn: 0.2952427\ttotal: 123ms\tremaining: 806ms\n",
      "132:\tlearn: 0.2943118\ttotal: 123ms\tremaining: 802ms\n",
      "133:\tlearn: 0.2921561\ttotal: 124ms\tremaining: 798ms\n",
      "134:\tlearn: 0.2906031\ttotal: 124ms\tremaining: 794ms\n",
      "135:\tlearn: 0.2888882\ttotal: 124ms\tremaining: 791ms\n",
      "136:\tlearn: 0.2874755\ttotal: 125ms\tremaining: 787ms\n",
      "137:\tlearn: 0.2855789\ttotal: 125ms\tremaining: 783ms\n",
      "138:\tlearn: 0.2839281\ttotal: 126ms\tremaining: 779ms\n",
      "139:\tlearn: 0.2821821\ttotal: 126ms\tremaining: 775ms\n",
      "140:\tlearn: 0.2806393\ttotal: 127ms\tremaining: 771ms\n",
      "141:\tlearn: 0.2796614\ttotal: 127ms\tremaining: 768ms\n",
      "142:\tlearn: 0.2780929\ttotal: 128ms\tremaining: 764ms\n",
      "143:\tlearn: 0.2766064\ttotal: 128ms\tremaining: 761ms\n",
      "144:\tlearn: 0.2751122\ttotal: 128ms\tremaining: 757ms\n",
      "145:\tlearn: 0.2738379\ttotal: 129ms\tremaining: 754ms\n",
      "146:\tlearn: 0.2726076\ttotal: 129ms\tremaining: 750ms\n",
      "147:\tlearn: 0.2712094\ttotal: 130ms\tremaining: 747ms\n",
      "148:\tlearn: 0.2700416\ttotal: 130ms\tremaining: 743ms\n",
      "149:\tlearn: 0.2687402\ttotal: 131ms\tremaining: 740ms\n",
      "150:\tlearn: 0.2669673\ttotal: 131ms\tremaining: 736ms\n",
      "151:\tlearn: 0.2656964\ttotal: 131ms\tremaining: 733ms\n",
      "152:\tlearn: 0.2639468\ttotal: 132ms\tremaining: 730ms\n",
      "153:\tlearn: 0.2623189\ttotal: 132ms\tremaining: 726ms\n",
      "154:\tlearn: 0.2607128\ttotal: 133ms\tremaining: 723ms\n",
      "155:\tlearn: 0.2592944\ttotal: 133ms\tremaining: 719ms\n",
      "156:\tlearn: 0.2580648\ttotal: 133ms\tremaining: 716ms\n",
      "157:\tlearn: 0.2565079\ttotal: 134ms\tremaining: 713ms\n",
      "158:\tlearn: 0.2552541\ttotal: 134ms\tremaining: 710ms\n",
      "159:\tlearn: 0.2537082\ttotal: 135ms\tremaining: 706ms\n",
      "160:\tlearn: 0.2526247\ttotal: 135ms\tremaining: 703ms\n",
      "161:\tlearn: 0.2517921\ttotal: 135ms\tremaining: 700ms\n",
      "162:\tlearn: 0.2501377\ttotal: 136ms\tremaining: 697ms\n",
      "163:\tlearn: 0.2492354\ttotal: 136ms\tremaining: 693ms\n",
      "164:\tlearn: 0.2480871\ttotal: 136ms\tremaining: 690ms\n",
      "165:\tlearn: 0.2466830\ttotal: 137ms\tremaining: 687ms\n",
      "166:\tlearn: 0.2450942\ttotal: 137ms\tremaining: 685ms\n",
      "167:\tlearn: 0.2440543\ttotal: 138ms\tremaining: 682ms\n",
      "168:\tlearn: 0.2425188\ttotal: 138ms\tremaining: 680ms\n",
      "169:\tlearn: 0.2413321\ttotal: 139ms\tremaining: 677ms\n",
      "170:\tlearn: 0.2399977\ttotal: 139ms\tremaining: 676ms\n",
      "171:\tlearn: 0.2389680\ttotal: 140ms\tremaining: 673ms\n",
      "172:\tlearn: 0.2378506\ttotal: 140ms\tremaining: 670ms\n",
      "173:\tlearn: 0.2366184\ttotal: 141ms\tremaining: 668ms\n",
      "174:\tlearn: 0.2351881\ttotal: 141ms\tremaining: 664ms\n",
      "175:\tlearn: 0.2342784\ttotal: 141ms\tremaining: 662ms\n",
      "176:\tlearn: 0.2335657\ttotal: 142ms\tremaining: 659ms\n",
      "177:\tlearn: 0.2323358\ttotal: 142ms\tremaining: 657ms\n",
      "178:\tlearn: 0.2314636\ttotal: 143ms\tremaining: 654ms\n",
      "179:\tlearn: 0.2302374\ttotal: 143ms\tremaining: 652ms\n",
      "180:\tlearn: 0.2291195\ttotal: 144ms\tremaining: 650ms\n",
      "181:\tlearn: 0.2282600\ttotal: 144ms\tremaining: 647ms\n",
      "182:\tlearn: 0.2276151\ttotal: 144ms\tremaining: 645ms\n",
      "183:\tlearn: 0.2263485\ttotal: 145ms\tremaining: 642ms\n",
      "184:\tlearn: 0.2251598\ttotal: 145ms\tremaining: 640ms\n",
      "185:\tlearn: 0.2245534\ttotal: 146ms\tremaining: 637ms\n",
      "186:\tlearn: 0.2236181\ttotal: 146ms\tremaining: 635ms\n",
      "187:\tlearn: 0.2225492\ttotal: 146ms\tremaining: 633ms\n",
      "188:\tlearn: 0.2214233\ttotal: 147ms\tremaining: 630ms\n",
      "189:\tlearn: 0.2206456\ttotal: 148ms\tremaining: 629ms\n",
      "190:\tlearn: 0.2195539\ttotal: 148ms\tremaining: 627ms\n",
      "191:\tlearn: 0.2185231\ttotal: 149ms\tremaining: 625ms\n",
      "192:\tlearn: 0.2176100\ttotal: 149ms\tremaining: 623ms\n",
      "193:\tlearn: 0.2165856\ttotal: 149ms\tremaining: 621ms\n",
      "194:\tlearn: 0.2155693\ttotal: 150ms\tremaining: 619ms\n",
      "195:\tlearn: 0.2144096\ttotal: 150ms\tremaining: 616ms\n",
      "196:\tlearn: 0.2135460\ttotal: 151ms\tremaining: 614ms\n",
      "197:\tlearn: 0.2128062\ttotal: 151ms\tremaining: 612ms\n",
      "198:\tlearn: 0.2117539\ttotal: 152ms\tremaining: 610ms\n",
      "199:\tlearn: 0.2106494\ttotal: 152ms\tremaining: 608ms\n",
      "200:\tlearn: 0.2098456\ttotal: 153ms\tremaining: 606ms\n",
      "201:\tlearn: 0.2090890\ttotal: 153ms\tremaining: 604ms\n",
      "202:\tlearn: 0.2083172\ttotal: 153ms\tremaining: 602ms\n",
      "203:\tlearn: 0.2074932\ttotal: 154ms\tremaining: 600ms\n",
      "204:\tlearn: 0.2062737\ttotal: 154ms\tremaining: 598ms\n",
      "205:\tlearn: 0.2052933\ttotal: 155ms\tremaining: 596ms\n",
      "206:\tlearn: 0.2040954\ttotal: 155ms\tremaining: 593ms\n",
      "207:\tlearn: 0.2030581\ttotal: 156ms\tremaining: 592ms\n",
      "208:\tlearn: 0.2024676\ttotal: 156ms\tremaining: 590ms\n",
      "209:\tlearn: 0.2020431\ttotal: 156ms\tremaining: 589ms\n",
      "210:\tlearn: 0.2012284\ttotal: 157ms\tremaining: 586ms\n",
      "211:\tlearn: 0.2006369\ttotal: 157ms\tremaining: 584ms\n",
      "212:\tlearn: 0.1994696\ttotal: 158ms\tremaining: 583ms\n",
      "213:\tlearn: 0.1986814\ttotal: 158ms\tremaining: 581ms\n",
      "214:\tlearn: 0.1980838\ttotal: 159ms\tremaining: 579ms\n",
      "215:\tlearn: 0.1975371\ttotal: 159ms\tremaining: 577ms\n",
      "216:\tlearn: 0.1970440\ttotal: 159ms\tremaining: 575ms\n",
      "217:\tlearn: 0.1966040\ttotal: 160ms\tremaining: 573ms\n",
      "218:\tlearn: 0.1961242\ttotal: 160ms\tremaining: 571ms\n",
      "219:\tlearn: 0.1955637\ttotal: 161ms\tremaining: 569ms\n",
      "220:\tlearn: 0.1949427\ttotal: 161ms\tremaining: 568ms\n",
      "221:\tlearn: 0.1943233\ttotal: 162ms\tremaining: 566ms\n"
     ]
    },
    {
     "name": "stdout",
     "output_type": "stream",
     "text": [
      "222:\tlearn: 0.1938438\ttotal: 163ms\tremaining: 566ms\n",
      "223:\tlearn: 0.1933964\ttotal: 163ms\tremaining: 565ms\n",
      "224:\tlearn: 0.1922651\ttotal: 163ms\tremaining: 563ms\n",
      "225:\tlearn: 0.1915903\ttotal: 164ms\tremaining: 561ms\n",
      "226:\tlearn: 0.1910433\ttotal: 164ms\tremaining: 559ms\n",
      "227:\tlearn: 0.1902917\ttotal: 165ms\tremaining: 558ms\n",
      "228:\tlearn: 0.1894148\ttotal: 165ms\tremaining: 556ms\n",
      "229:\tlearn: 0.1883839\ttotal: 165ms\tremaining: 554ms\n",
      "230:\tlearn: 0.1878957\ttotal: 166ms\tremaining: 553ms\n",
      "231:\tlearn: 0.1874479\ttotal: 166ms\tremaining: 551ms\n",
      "232:\tlearn: 0.1869270\ttotal: 167ms\tremaining: 549ms\n",
      "233:\tlearn: 0.1865579\ttotal: 167ms\tremaining: 548ms\n",
      "234:\tlearn: 0.1852643\ttotal: 168ms\tremaining: 546ms\n",
      "235:\tlearn: 0.1844776\ttotal: 168ms\tremaining: 544ms\n",
      "236:\tlearn: 0.1838066\ttotal: 169ms\tremaining: 543ms\n",
      "237:\tlearn: 0.1834729\ttotal: 169ms\tremaining: 541ms\n",
      "238:\tlearn: 0.1827468\ttotal: 169ms\tremaining: 539ms\n",
      "239:\tlearn: 0.1817002\ttotal: 170ms\tremaining: 538ms\n",
      "240:\tlearn: 0.1809227\ttotal: 170ms\tremaining: 536ms\n",
      "241:\tlearn: 0.1796847\ttotal: 171ms\tremaining: 535ms\n",
      "242:\tlearn: 0.1793040\ttotal: 171ms\tremaining: 533ms\n",
      "243:\tlearn: 0.1789521\ttotal: 171ms\tremaining: 531ms\n",
      "244:\tlearn: 0.1777893\ttotal: 172ms\tremaining: 530ms\n",
      "245:\tlearn: 0.1772517\ttotal: 172ms\tremaining: 528ms\n",
      "246:\tlearn: 0.1769436\ttotal: 173ms\tremaining: 526ms\n",
      "247:\tlearn: 0.1761612\ttotal: 173ms\tremaining: 525ms\n",
      "248:\tlearn: 0.1758575\ttotal: 173ms\tremaining: 523ms\n",
      "249:\tlearn: 0.1750217\ttotal: 174ms\tremaining: 523ms\n",
      "250:\tlearn: 0.1741018\ttotal: 175ms\tremaining: 522ms\n",
      "251:\tlearn: 0.1733291\ttotal: 175ms\tremaining: 520ms\n",
      "252:\tlearn: 0.1728094\ttotal: 176ms\tremaining: 518ms\n",
      "253:\tlearn: 0.1723957\ttotal: 176ms\tremaining: 517ms\n",
      "254:\tlearn: 0.1717424\ttotal: 177ms\tremaining: 516ms\n",
      "255:\tlearn: 0.1711146\ttotal: 177ms\tremaining: 515ms\n",
      "256:\tlearn: 0.1703062\ttotal: 178ms\tremaining: 514ms\n",
      "257:\tlearn: 0.1695329\ttotal: 178ms\tremaining: 513ms\n",
      "258:\tlearn: 0.1691994\ttotal: 179ms\tremaining: 512ms\n",
      "259:\tlearn: 0.1685026\ttotal: 179ms\tremaining: 511ms\n",
      "260:\tlearn: 0.1681906\ttotal: 180ms\tremaining: 510ms\n",
      "261:\tlearn: 0.1675733\ttotal: 181ms\tremaining: 509ms\n",
      "262:\tlearn: 0.1673027\ttotal: 181ms\tremaining: 507ms\n",
      "263:\tlearn: 0.1662027\ttotal: 182ms\tremaining: 507ms\n",
      "264:\tlearn: 0.1659098\ttotal: 182ms\tremaining: 505ms\n",
      "265:\tlearn: 0.1656301\ttotal: 183ms\tremaining: 504ms\n",
      "266:\tlearn: 0.1649452\ttotal: 183ms\tremaining: 503ms\n",
      "267:\tlearn: 0.1646678\ttotal: 184ms\tremaining: 501ms\n",
      "268:\tlearn: 0.1641969\ttotal: 184ms\tremaining: 500ms\n",
      "269:\tlearn: 0.1631587\ttotal: 185ms\tremaining: 499ms\n",
      "270:\tlearn: 0.1628747\ttotal: 185ms\tremaining: 499ms\n",
      "271:\tlearn: 0.1621928\ttotal: 186ms\tremaining: 498ms\n",
      "272:\tlearn: 0.1619428\ttotal: 186ms\tremaining: 496ms\n",
      "273:\tlearn: 0.1616082\ttotal: 187ms\tremaining: 496ms\n",
      "274:\tlearn: 0.1606454\ttotal: 187ms\tremaining: 494ms\n",
      "275:\tlearn: 0.1603781\ttotal: 188ms\tremaining: 493ms\n",
      "276:\tlearn: 0.1593305\ttotal: 189ms\tremaining: 492ms\n",
      "277:\tlearn: 0.1590661\ttotal: 189ms\tremaining: 492ms\n",
      "278:\tlearn: 0.1588182\ttotal: 190ms\tremaining: 490ms\n",
      "279:\tlearn: 0.1585598\ttotal: 190ms\tremaining: 489ms\n",
      "280:\tlearn: 0.1583047\ttotal: 191ms\tremaining: 488ms\n",
      "281:\tlearn: 0.1577141\ttotal: 192ms\tremaining: 490ms\n",
      "282:\tlearn: 0.1574800\ttotal: 193ms\tremaining: 488ms\n",
      "283:\tlearn: 0.1572096\ttotal: 193ms\tremaining: 487ms\n",
      "284:\tlearn: 0.1563065\ttotal: 194ms\tremaining: 486ms\n",
      "285:\tlearn: 0.1551635\ttotal: 194ms\tremaining: 484ms\n",
      "286:\tlearn: 0.1541907\ttotal: 194ms\tremaining: 483ms\n",
      "287:\tlearn: 0.1538711\ttotal: 195ms\tremaining: 481ms\n",
      "288:\tlearn: 0.1529896\ttotal: 195ms\tremaining: 480ms\n",
      "289:\tlearn: 0.1526888\ttotal: 195ms\tremaining: 479ms\n",
      "290:\tlearn: 0.1524708\ttotal: 196ms\tremaining: 477ms\n",
      "291:\tlearn: 0.1518953\ttotal: 196ms\tremaining: 476ms\n",
      "292:\tlearn: 0.1514614\ttotal: 197ms\tremaining: 474ms\n",
      "293:\tlearn: 0.1505726\ttotal: 197ms\tremaining: 473ms\n",
      "294:\tlearn: 0.1496277\ttotal: 198ms\tremaining: 472ms\n",
      "295:\tlearn: 0.1487678\ttotal: 198ms\tremaining: 471ms\n",
      "296:\tlearn: 0.1485640\ttotal: 198ms\tremaining: 470ms\n",
      "297:\tlearn: 0.1477378\ttotal: 199ms\tremaining: 468ms\n",
      "298:\tlearn: 0.1469467\ttotal: 199ms\tremaining: 467ms\n",
      "299:\tlearn: 0.1463307\ttotal: 199ms\tremaining: 465ms\n",
      "300:\tlearn: 0.1459593\ttotal: 200ms\tremaining: 464ms\n",
      "301:\tlearn: 0.1453614\ttotal: 200ms\tremaining: 463ms\n",
      "302:\tlearn: 0.1450441\ttotal: 201ms\tremaining: 462ms\n",
      "303:\tlearn: 0.1444652\ttotal: 201ms\tremaining: 461ms\n",
      "304:\tlearn: 0.1441965\ttotal: 202ms\tremaining: 460ms\n",
      "305:\tlearn: 0.1436204\ttotal: 202ms\tremaining: 458ms\n",
      "306:\tlearn: 0.1430295\ttotal: 202ms\tremaining: 457ms\n",
      "307:\tlearn: 0.1425485\ttotal: 203ms\tremaining: 456ms\n",
      "308:\tlearn: 0.1419435\ttotal: 203ms\tremaining: 454ms\n",
      "309:\tlearn: 0.1414491\ttotal: 204ms\tremaining: 453ms\n",
      "310:\tlearn: 0.1411882\ttotal: 204ms\tremaining: 452ms\n",
      "311:\tlearn: 0.1407311\ttotal: 204ms\tremaining: 451ms\n",
      "312:\tlearn: 0.1405559\ttotal: 205ms\tremaining: 449ms\n",
      "313:\tlearn: 0.1403026\ttotal: 205ms\tremaining: 448ms\n",
      "314:\tlearn: 0.1401128\ttotal: 206ms\tremaining: 447ms\n",
      "315:\tlearn: 0.1396989\ttotal: 206ms\tremaining: 446ms\n",
      "316:\tlearn: 0.1391822\ttotal: 207ms\tremaining: 445ms\n",
      "317:\tlearn: 0.1385824\ttotal: 207ms\tremaining: 444ms\n",
      "318:\tlearn: 0.1381140\ttotal: 207ms\tremaining: 442ms\n",
      "319:\tlearn: 0.1379375\ttotal: 208ms\tremaining: 441ms\n",
      "320:\tlearn: 0.1374137\ttotal: 209ms\tremaining: 442ms\n",
      "321:\tlearn: 0.1369460\ttotal: 209ms\tremaining: 441ms\n",
      "322:\tlearn: 0.1364906\ttotal: 210ms\tremaining: 440ms\n",
      "323:\tlearn: 0.1360122\ttotal: 210ms\tremaining: 439ms\n",
      "324:\tlearn: 0.1355737\ttotal: 211ms\tremaining: 437ms\n",
      "325:\tlearn: 0.1351350\ttotal: 211ms\tremaining: 436ms\n",
      "326:\tlearn: 0.1344742\ttotal: 212ms\tremaining: 436ms\n",
      "327:\tlearn: 0.1343094\ttotal: 212ms\tremaining: 435ms\n",
      "328:\tlearn: 0.1341180\ttotal: 213ms\tremaining: 434ms\n",
      "329:\tlearn: 0.1336949\ttotal: 213ms\tremaining: 433ms\n",
      "330:\tlearn: 0.1335359\ttotal: 214ms\tremaining: 432ms\n",
      "331:\tlearn: 0.1329822\ttotal: 214ms\tremaining: 431ms\n",
      "332:\tlearn: 0.1323317\ttotal: 215ms\tremaining: 430ms\n",
      "333:\tlearn: 0.1317928\ttotal: 215ms\tremaining: 429ms\n",
      "334:\tlearn: 0.1311587\ttotal: 216ms\tremaining: 428ms\n",
      "335:\tlearn: 0.1305394\ttotal: 216ms\tremaining: 427ms\n",
      "336:\tlearn: 0.1303617\ttotal: 216ms\tremaining: 426ms\n",
      "337:\tlearn: 0.1302065\ttotal: 218ms\tremaining: 426ms\n",
      "338:\tlearn: 0.1300568\ttotal: 218ms\tremaining: 425ms\n",
      "339:\tlearn: 0.1299092\ttotal: 219ms\tremaining: 425ms\n",
      "340:\tlearn: 0.1293902\ttotal: 220ms\tremaining: 424ms\n",
      "341:\tlearn: 0.1288833\ttotal: 220ms\tremaining: 423ms\n",
      "342:\tlearn: 0.1282638\ttotal: 221ms\tremaining: 424ms\n",
      "343:\tlearn: 0.1276577\ttotal: 222ms\tremaining: 423ms\n",
      "344:\tlearn: 0.1275153\ttotal: 222ms\tremaining: 422ms\n",
      "345:\tlearn: 0.1269232\ttotal: 224ms\tremaining: 423ms\n",
      "346:\tlearn: 0.1267618\ttotal: 225ms\tremaining: 423ms\n",
      "347:\tlearn: 0.1263742\ttotal: 226ms\tremaining: 423ms\n",
      "348:\tlearn: 0.1258117\ttotal: 227ms\tremaining: 423ms\n",
      "349:\tlearn: 0.1255569\ttotal: 227ms\tremaining: 422ms\n",
      "350:\tlearn: 0.1251646\ttotal: 228ms\tremaining: 421ms\n",
      "351:\tlearn: 0.1246187\ttotal: 228ms\tremaining: 420ms\n",
      "352:\tlearn: 0.1242185\ttotal: 229ms\tremaining: 419ms\n",
      "353:\tlearn: 0.1236461\ttotal: 229ms\tremaining: 418ms\n",
      "354:\tlearn: 0.1232564\ttotal: 230ms\tremaining: 417ms\n",
      "355:\tlearn: 0.1227079\ttotal: 230ms\tremaining: 416ms\n",
      "356:\tlearn: 0.1221835\ttotal: 230ms\tremaining: 415ms\n",
      "357:\tlearn: 0.1216726\ttotal: 231ms\tremaining: 414ms\n",
      "358:\tlearn: 0.1215227\ttotal: 231ms\tremaining: 413ms\n",
      "359:\tlearn: 0.1210113\ttotal: 232ms\tremaining: 412ms\n",
      "360:\tlearn: 0.1202951\ttotal: 232ms\tremaining: 411ms\n",
      "361:\tlearn: 0.1199189\ttotal: 233ms\tremaining: 410ms\n",
      "362:\tlearn: 0.1194218\ttotal: 233ms\tremaining: 409ms\n",
      "363:\tlearn: 0.1190548\ttotal: 233ms\tremaining: 408ms\n",
      "364:\tlearn: 0.1185590\ttotal: 234ms\tremaining: 407ms\n",
      "365:\tlearn: 0.1179468\ttotal: 234ms\tremaining: 406ms\n",
      "366:\tlearn: 0.1174483\ttotal: 235ms\tremaining: 405ms\n",
      "367:\tlearn: 0.1170462\ttotal: 235ms\tremaining: 404ms\n",
      "368:\tlearn: 0.1166917\ttotal: 236ms\tremaining: 403ms\n",
      "369:\tlearn: 0.1162856\ttotal: 236ms\tremaining: 402ms\n",
      "370:\tlearn: 0.1157510\ttotal: 236ms\tremaining: 401ms\n",
      "371:\tlearn: 0.1154081\ttotal: 237ms\tremaining: 399ms\n",
      "372:\tlearn: 0.1150290\ttotal: 237ms\tremaining: 398ms\n",
      "373:\tlearn: 0.1145530\ttotal: 237ms\tremaining: 397ms\n",
      "374:\tlearn: 0.1140876\ttotal: 238ms\tremaining: 396ms\n",
      "375:\tlearn: 0.1134424\ttotal: 238ms\tremaining: 395ms\n",
      "376:\tlearn: 0.1129903\ttotal: 239ms\tremaining: 394ms\n",
      "377:\tlearn: 0.1126547\ttotal: 239ms\tremaining: 393ms\n",
      "378:\tlearn: 0.1121210\ttotal: 239ms\tremaining: 392ms\n",
      "379:\tlearn: 0.1117887\ttotal: 240ms\tremaining: 392ms\n",
      "380:\tlearn: 0.1112774\ttotal: 240ms\tremaining: 391ms\n",
      "381:\tlearn: 0.1108175\ttotal: 241ms\tremaining: 390ms\n",
      "382:\tlearn: 0.1104961\ttotal: 241ms\tremaining: 389ms\n",
      "383:\tlearn: 0.1101517\ttotal: 242ms\tremaining: 388ms\n",
      "384:\tlearn: 0.1097886\ttotal: 242ms\tremaining: 387ms\n",
      "385:\tlearn: 0.1094753\ttotal: 243ms\tremaining: 386ms\n",
      "386:\tlearn: 0.1090413\ttotal: 243ms\tremaining: 385ms\n",
      "387:\tlearn: 0.1087120\ttotal: 243ms\tremaining: 384ms\n",
      "388:\tlearn: 0.1082897\ttotal: 244ms\tremaining: 383ms\n",
      "389:\tlearn: 0.1076706\ttotal: 244ms\tremaining: 382ms\n",
      "390:\tlearn: 0.1071234\ttotal: 245ms\tremaining: 381ms\n",
      "391:\tlearn: 0.1066109\ttotal: 245ms\tremaining: 380ms\n",
      "392:\tlearn: 0.1063007\ttotal: 246ms\tremaining: 380ms\n",
      "393:\tlearn: 0.1059997\ttotal: 247ms\tremaining: 379ms\n",
      "394:\tlearn: 0.1056882\ttotal: 247ms\tremaining: 379ms\n",
      "395:\tlearn: 0.1052852\ttotal: 248ms\tremaining: 379ms\n",
      "396:\tlearn: 0.1048912\ttotal: 249ms\tremaining: 378ms\n",
      "397:\tlearn: 0.1044210\ttotal: 249ms\tremaining: 377ms\n",
      "398:\tlearn: 0.1039400\ttotal: 250ms\tremaining: 377ms\n",
      "399:\tlearn: 0.1034712\ttotal: 251ms\tremaining: 376ms\n",
      "400:\tlearn: 0.1031820\ttotal: 251ms\tremaining: 375ms\n",
      "401:\tlearn: 0.1027271\ttotal: 252ms\tremaining: 374ms\n",
      "402:\tlearn: 0.1024480\ttotal: 252ms\tremaining: 374ms\n",
      "403:\tlearn: 0.1021674\ttotal: 253ms\tremaining: 373ms\n",
      "404:\tlearn: 0.1019847\ttotal: 253ms\tremaining: 372ms\n",
      "405:\tlearn: 0.1018053\ttotal: 254ms\tremaining: 372ms\n"
     ]
    },
    {
     "name": "stdout",
     "output_type": "stream",
     "text": [
      "406:\tlearn: 0.1014004\ttotal: 255ms\tremaining: 371ms\n",
      "407:\tlearn: 0.1012246\ttotal: 257ms\tremaining: 373ms\n",
      "408:\tlearn: 0.1009526\ttotal: 258ms\tremaining: 372ms\n",
      "409:\tlearn: 0.1005295\ttotal: 260ms\tremaining: 374ms\n",
      "410:\tlearn: 0.1003408\ttotal: 261ms\tremaining: 374ms\n",
      "411:\tlearn: 0.1001554\ttotal: 261ms\tremaining: 373ms\n",
      "412:\tlearn: 0.0998055\ttotal: 262ms\tremaining: 372ms\n",
      "413:\tlearn: 0.0995449\ttotal: 262ms\tremaining: 371ms\n",
      "414:\tlearn: 0.0992973\ttotal: 263ms\tremaining: 370ms\n",
      "415:\tlearn: 0.0990427\ttotal: 263ms\tremaining: 369ms\n",
      "416:\tlearn: 0.0986723\ttotal: 264ms\tremaining: 369ms\n",
      "417:\tlearn: 0.0982717\ttotal: 265ms\tremaining: 369ms\n",
      "418:\tlearn: 0.0980607\ttotal: 265ms\tremaining: 368ms\n",
      "419:\tlearn: 0.0977648\ttotal: 266ms\tremaining: 367ms\n",
      "420:\tlearn: 0.0975903\ttotal: 266ms\tremaining: 366ms\n",
      "421:\tlearn: 0.0973132\ttotal: 267ms\tremaining: 365ms\n",
      "422:\tlearn: 0.0969848\ttotal: 267ms\tremaining: 364ms\n",
      "423:\tlearn: 0.0968285\ttotal: 268ms\tremaining: 363ms\n",
      "424:\tlearn: 0.0966005\ttotal: 268ms\tremaining: 363ms\n",
      "425:\tlearn: 0.0964011\ttotal: 269ms\tremaining: 362ms\n",
      "426:\tlearn: 0.0962056\ttotal: 269ms\tremaining: 361ms\n",
      "427:\tlearn: 0.0960140\ttotal: 269ms\tremaining: 360ms\n",
      "428:\tlearn: 0.0958434\ttotal: 270ms\tremaining: 359ms\n",
      "429:\tlearn: 0.0955258\ttotal: 270ms\tremaining: 358ms\n",
      "430:\tlearn: 0.0953363\ttotal: 271ms\tremaining: 357ms\n",
      "431:\tlearn: 0.0951708\ttotal: 271ms\tremaining: 357ms\n",
      "432:\tlearn: 0.0950085\ttotal: 272ms\tremaining: 356ms\n",
      "433:\tlearn: 0.0946433\ttotal: 272ms\tremaining: 355ms\n",
      "434:\tlearn: 0.0944833\ttotal: 272ms\tremaining: 354ms\n",
      "435:\tlearn: 0.0941274\ttotal: 273ms\tremaining: 353ms\n",
      "436:\tlearn: 0.0938243\ttotal: 273ms\tremaining: 352ms\n",
      "437:\tlearn: 0.0936099\ttotal: 274ms\tremaining: 352ms\n",
      "438:\tlearn: 0.0932638\ttotal: 274ms\tremaining: 351ms\n",
      "439:\tlearn: 0.0930378\ttotal: 275ms\tremaining: 350ms\n",
      "440:\tlearn: 0.0927022\ttotal: 275ms\tremaining: 349ms\n",
      "441:\tlearn: 0.0923702\ttotal: 276ms\tremaining: 348ms\n",
      "442:\tlearn: 0.0920810\ttotal: 276ms\tremaining: 347ms\n",
      "443:\tlearn: 0.0917466\ttotal: 276ms\tremaining: 346ms\n",
      "444:\tlearn: 0.0915990\ttotal: 277ms\tremaining: 345ms\n",
      "445:\tlearn: 0.0914552\ttotal: 277ms\tremaining: 345ms\n",
      "446:\tlearn: 0.0911220\ttotal: 278ms\tremaining: 344ms\n",
      "447:\tlearn: 0.0908375\ttotal: 278ms\tremaining: 343ms\n",
      "448:\tlearn: 0.0906358\ttotal: 278ms\tremaining: 342ms\n",
      "449:\tlearn: 0.0903364\ttotal: 279ms\tremaining: 341ms\n",
      "450:\tlearn: 0.0901192\ttotal: 279ms\tremaining: 340ms\n",
      "451:\tlearn: 0.0898254\ttotal: 280ms\tremaining: 339ms\n",
      "452:\tlearn: 0.0896790\ttotal: 280ms\tremaining: 338ms\n",
      "453:\tlearn: 0.0894640\ttotal: 280ms\tremaining: 337ms\n",
      "454:\tlearn: 0.0893206\ttotal: 281ms\tremaining: 336ms\n",
      "455:\tlearn: 0.0890062\ttotal: 281ms\tremaining: 335ms\n",
      "456:\tlearn: 0.0887188\ttotal: 282ms\tremaining: 335ms\n",
      "457:\tlearn: 0.0886519\ttotal: 282ms\tremaining: 334ms\n",
      "458:\tlearn: 0.0883541\ttotal: 282ms\tremaining: 333ms\n",
      "459:\tlearn: 0.0882955\ttotal: 283ms\tremaining: 332ms\n",
      "460:\tlearn: 0.0880103\ttotal: 283ms\tremaining: 331ms\n",
      "461:\tlearn: 0.0877544\ttotal: 284ms\tremaining: 330ms\n",
      "462:\tlearn: 0.0876968\ttotal: 284ms\tremaining: 330ms\n",
      "463:\tlearn: 0.0874225\ttotal: 285ms\tremaining: 329ms\n",
      "464:\tlearn: 0.0872194\ttotal: 285ms\tremaining: 328ms\n",
      "465:\tlearn: 0.0871631\ttotal: 286ms\tremaining: 327ms\n",
      "466:\tlearn: 0.0868210\ttotal: 286ms\tremaining: 326ms\n",
      "467:\tlearn: 0.0866231\ttotal: 286ms\tremaining: 325ms\n",
      "468:\tlearn: 0.0864820\ttotal: 287ms\tremaining: 325ms\n",
      "469:\tlearn: 0.0861173\ttotal: 287ms\tremaining: 324ms\n",
      "470:\tlearn: 0.0858701\ttotal: 288ms\tremaining: 323ms\n",
      "471:\tlearn: 0.0856246\ttotal: 288ms\tremaining: 322ms\n",
      "472:\tlearn: 0.0854865\ttotal: 288ms\tremaining: 321ms\n",
      "473:\tlearn: 0.0854325\ttotal: 289ms\tremaining: 320ms\n",
      "474:\tlearn: 0.0851918\ttotal: 289ms\tremaining: 319ms\n",
      "475:\tlearn: 0.0851385\ttotal: 289ms\tremaining: 319ms\n",
      "476:\tlearn: 0.0848732\ttotal: 290ms\tremaining: 318ms\n",
      "477:\tlearn: 0.0845463\ttotal: 291ms\tremaining: 318ms\n",
      "478:\tlearn: 0.0843088\ttotal: 291ms\tremaining: 317ms\n",
      "479:\tlearn: 0.0840739\ttotal: 292ms\tremaining: 316ms\n",
      "480:\tlearn: 0.0840221\ttotal: 292ms\tremaining: 315ms\n",
      "481:\tlearn: 0.0837032\ttotal: 293ms\tremaining: 314ms\n",
      "482:\tlearn: 0.0836523\ttotal: 293ms\tremaining: 314ms\n",
      "483:\tlearn: 0.0836022\ttotal: 293ms\tremaining: 313ms\n",
      "484:\tlearn: 0.0832905\ttotal: 294ms\tremaining: 312ms\n",
      "485:\tlearn: 0.0832414\ttotal: 294ms\tremaining: 311ms\n",
      "486:\tlearn: 0.0831958\ttotal: 295ms\tremaining: 310ms\n",
      "487:\tlearn: 0.0830737\ttotal: 295ms\tremaining: 310ms\n",
      "488:\tlearn: 0.0830259\ttotal: 296ms\tremaining: 309ms\n",
      "489:\tlearn: 0.0826610\ttotal: 296ms\tremaining: 308ms\n",
      "490:\tlearn: 0.0826136\ttotal: 296ms\tremaining: 307ms\n",
      "491:\tlearn: 0.0823602\ttotal: 297ms\tremaining: 306ms\n",
      "492:\tlearn: 0.0823160\ttotal: 297ms\tremaining: 305ms\n",
      "493:\tlearn: 0.0820637\ttotal: 298ms\tremaining: 305ms\n",
      "494:\tlearn: 0.0818860\ttotal: 298ms\tremaining: 304ms\n",
      "495:\tlearn: 0.0818399\ttotal: 298ms\tremaining: 303ms\n",
      "496:\tlearn: 0.0815412\ttotal: 299ms\tremaining: 302ms\n",
      "497:\tlearn: 0.0814960\ttotal: 299ms\tremaining: 301ms\n",
      "498:\tlearn: 0.0814538\ttotal: 299ms\tremaining: 301ms\n",
      "499:\tlearn: 0.0812056\ttotal: 300ms\tremaining: 300ms\n",
      "500:\tlearn: 0.0811639\ttotal: 300ms\tremaining: 299ms\n",
      "501:\tlearn: 0.0808735\ttotal: 301ms\tremaining: 298ms\n",
      "502:\tlearn: 0.0808324\ttotal: 301ms\tremaining: 298ms\n",
      "503:\tlearn: 0.0805892\ttotal: 302ms\tremaining: 297ms\n",
      "504:\tlearn: 0.0805485\ttotal: 302ms\tremaining: 296ms\n",
      "505:\tlearn: 0.0805083\ttotal: 302ms\tremaining: 295ms\n",
      "506:\tlearn: 0.0800651\ttotal: 303ms\tremaining: 294ms\n",
      "507:\tlearn: 0.0800256\ttotal: 303ms\tremaining: 294ms\n",
      "508:\tlearn: 0.0797901\ttotal: 303ms\tremaining: 293ms\n",
      "509:\tlearn: 0.0797510\ttotal: 304ms\tremaining: 292ms\n",
      "510:\tlearn: 0.0797125\ttotal: 304ms\tremaining: 291ms\n",
      "511:\tlearn: 0.0792027\ttotal: 305ms\tremaining: 290ms\n",
      "512:\tlearn: 0.0789612\ttotal: 305ms\tremaining: 290ms\n",
      "513:\tlearn: 0.0784603\ttotal: 306ms\tremaining: 289ms\n",
      "514:\tlearn: 0.0781688\ttotal: 306ms\tremaining: 288ms\n",
      "515:\tlearn: 0.0781319\ttotal: 306ms\tremaining: 287ms\n",
      "516:\tlearn: 0.0778707\ttotal: 307ms\tremaining: 287ms\n",
      "517:\tlearn: 0.0778343\ttotal: 307ms\tremaining: 286ms\n",
      "518:\tlearn: 0.0775794\ttotal: 308ms\tremaining: 285ms\n",
      "519:\tlearn: 0.0775434\ttotal: 308ms\tremaining: 285ms\n",
      "520:\tlearn: 0.0775079\ttotal: 309ms\tremaining: 284ms\n",
      "521:\tlearn: 0.0770966\ttotal: 309ms\tremaining: 283ms\n",
      "522:\tlearn: 0.0770617\ttotal: 310ms\tremaining: 282ms\n",
      "523:\tlearn: 0.0768447\ttotal: 310ms\tremaining: 282ms\n",
      "524:\tlearn: 0.0768101\ttotal: 310ms\tremaining: 281ms\n",
      "525:\tlearn: 0.0765925\ttotal: 311ms\tremaining: 280ms\n",
      "526:\tlearn: 0.0763609\ttotal: 311ms\tremaining: 279ms\n",
      "527:\tlearn: 0.0759251\ttotal: 312ms\tremaining: 279ms\n",
      "528:\tlearn: 0.0758446\ttotal: 312ms\tremaining: 278ms\n",
      "529:\tlearn: 0.0756335\ttotal: 313ms\tremaining: 277ms\n",
      "530:\tlearn: 0.0755544\ttotal: 313ms\tremaining: 276ms\n",
      "531:\tlearn: 0.0754767\ttotal: 313ms\tremaining: 276ms\n",
      "532:\tlearn: 0.0752517\ttotal: 314ms\tremaining: 275ms\n",
      "533:\tlearn: 0.0747862\ttotal: 314ms\tremaining: 274ms\n",
      "534:\tlearn: 0.0747245\ttotal: 315ms\tremaining: 273ms\n",
      "535:\tlearn: 0.0743429\ttotal: 315ms\tremaining: 273ms\n",
      "536:\tlearn: 0.0742821\ttotal: 316ms\tremaining: 272ms\n",
      "537:\tlearn: 0.0740766\ttotal: 316ms\tremaining: 271ms\n",
      "538:\tlearn: 0.0740168\ttotal: 316ms\tremaining: 271ms\n",
      "539:\tlearn: 0.0738158\ttotal: 317ms\tremaining: 270ms\n",
      "540:\tlearn: 0.0737568\ttotal: 317ms\tremaining: 269ms\n",
      "541:\tlearn: 0.0736987\ttotal: 318ms\tremaining: 268ms\n",
      "542:\tlearn: 0.0735000\ttotal: 318ms\tremaining: 268ms\n",
      "543:\tlearn: 0.0730520\ttotal: 318ms\tremaining: 267ms\n",
      "544:\tlearn: 0.0729949\ttotal: 319ms\tremaining: 266ms\n",
      "545:\tlearn: 0.0727881\ttotal: 319ms\tremaining: 266ms\n",
      "546:\tlearn: 0.0727320\ttotal: 320ms\tremaining: 265ms\n"
     ]
    },
    {
     "name": "stdout",
     "output_type": "stream",
     "text": [
      "547:\tlearn: 0.0726766\ttotal: 320ms\tremaining: 264ms\n",
      "548:\tlearn: 0.0723183\ttotal: 321ms\tremaining: 264ms\n",
      "549:\tlearn: 0.0719721\ttotal: 322ms\tremaining: 263ms\n",
      "550:\tlearn: 0.0717450\ttotal: 322ms\tremaining: 263ms\n",
      "551:\tlearn: 0.0715034\ttotal: 323ms\tremaining: 262ms\n",
      "552:\tlearn: 0.0714493\ttotal: 323ms\tremaining: 261ms\n",
      "553:\tlearn: 0.0712924\ttotal: 324ms\tremaining: 260ms\n",
      "554:\tlearn: 0.0712041\ttotal: 324ms\tremaining: 260ms\n",
      "555:\tlearn: 0.0711174\ttotal: 324ms\tremaining: 259ms\n",
      "556:\tlearn: 0.0708840\ttotal: 325ms\tremaining: 258ms\n",
      "557:\tlearn: 0.0708188\ttotal: 325ms\tremaining: 258ms\n",
      "558:\tlearn: 0.0706669\ttotal: 326ms\tremaining: 257ms\n",
      "559:\tlearn: 0.0703231\ttotal: 326ms\tremaining: 256ms\n",
      "560:\tlearn: 0.0701750\ttotal: 326ms\tremaining: 255ms\n",
      "561:\tlearn: 0.0701243\ttotal: 327ms\tremaining: 255ms\n",
      "562:\tlearn: 0.0699796\ttotal: 327ms\tremaining: 254ms\n",
      "563:\tlearn: 0.0698966\ttotal: 328ms\tremaining: 253ms\n",
      "564:\tlearn: 0.0694978\ttotal: 328ms\tremaining: 253ms\n",
      "565:\tlearn: 0.0691723\ttotal: 328ms\tremaining: 252ms\n",
      "566:\tlearn: 0.0690319\ttotal: 329ms\tremaining: 251ms\n",
      "567:\tlearn: 0.0689691\ttotal: 329ms\tremaining: 250ms\n",
      "568:\tlearn: 0.0688318\ttotal: 330ms\tremaining: 250ms\n",
      "569:\tlearn: 0.0686127\ttotal: 330ms\tremaining: 249ms\n",
      "570:\tlearn: 0.0682355\ttotal: 330ms\tremaining: 248ms\n",
      "571:\tlearn: 0.0681191\ttotal: 331ms\tremaining: 248ms\n",
      "572:\tlearn: 0.0680586\ttotal: 331ms\tremaining: 247ms\n",
      "573:\tlearn: 0.0678794\ttotal: 332ms\tremaining: 246ms\n",
      "574:\tlearn: 0.0676679\ttotal: 332ms\tremaining: 245ms\n",
      "575:\tlearn: 0.0675772\ttotal: 333ms\tremaining: 245ms\n",
      "576:\tlearn: 0.0673968\ttotal: 333ms\tremaining: 244ms\n",
      "577:\tlearn: 0.0672201\ttotal: 333ms\tremaining: 243ms\n",
      "578:\tlearn: 0.0670470\ttotal: 334ms\tremaining: 243ms\n",
      "579:\tlearn: 0.0668019\ttotal: 334ms\tremaining: 242ms\n",
      "580:\tlearn: 0.0665633\ttotal: 335ms\tremaining: 241ms\n",
      "581:\tlearn: 0.0664544\ttotal: 335ms\tremaining: 241ms\n",
      "582:\tlearn: 0.0662876\ttotal: 335ms\tremaining: 240ms\n",
      "583:\tlearn: 0.0660563\ttotal: 336ms\tremaining: 239ms\n",
      "584:\tlearn: 0.0659485\ttotal: 336ms\tremaining: 239ms\n",
      "585:\tlearn: 0.0657629\ttotal: 337ms\tremaining: 238ms\n",
      "586:\tlearn: 0.0656563\ttotal: 337ms\tremaining: 237ms\n",
      "587:\tlearn: 0.0654111\ttotal: 338ms\tremaining: 237ms\n",
      "588:\tlearn: 0.0652512\ttotal: 338ms\tremaining: 236ms\n",
      "589:\tlearn: 0.0650276\ttotal: 339ms\tremaining: 235ms\n",
      "590:\tlearn: 0.0648100\ttotal: 339ms\tremaining: 235ms\n",
      "591:\tlearn: 0.0646316\ttotal: 339ms\tremaining: 234ms\n",
      "592:\tlearn: 0.0645265\ttotal: 340ms\tremaining: 233ms\n",
      "593:\tlearn: 0.0643788\ttotal: 340ms\tremaining: 233ms\n",
      "594:\tlearn: 0.0641821\ttotal: 341ms\tremaining: 232ms\n",
      "595:\tlearn: 0.0640794\ttotal: 341ms\tremaining: 231ms\n",
      "596:\tlearn: 0.0639358\ttotal: 342ms\tremaining: 231ms\n",
      "597:\tlearn: 0.0637831\ttotal: 342ms\tremaining: 230ms\n",
      "598:\tlearn: 0.0636135\ttotal: 343ms\tremaining: 229ms\n",
      "599:\tlearn: 0.0634649\ttotal: 343ms\tremaining: 229ms\n",
      "600:\tlearn: 0.0633004\ttotal: 343ms\tremaining: 228ms\n",
      "601:\tlearn: 0.0631992\ttotal: 344ms\tremaining: 227ms\n",
      "602:\tlearn: 0.0630993\ttotal: 344ms\tremaining: 227ms\n",
      "603:\tlearn: 0.0629596\ttotal: 345ms\tremaining: 226ms\n",
      "604:\tlearn: 0.0628567\ttotal: 345ms\tremaining: 225ms\n",
      "605:\tlearn: 0.0626957\ttotal: 345ms\tremaining: 225ms\n",
      "606:\tlearn: 0.0625249\ttotal: 346ms\tremaining: 224ms\n",
      "607:\tlearn: 0.0623872\ttotal: 346ms\tremaining: 223ms\n",
      "608:\tlearn: 0.0622869\ttotal: 346ms\tremaining: 222ms\n",
      "609:\tlearn: 0.0621158\ttotal: 347ms\tremaining: 222ms\n",
      "610:\tlearn: 0.0620183\ttotal: 347ms\tremaining: 221ms\n",
      "611:\tlearn: 0.0619206\ttotal: 348ms\tremaining: 220ms\n",
      "612:\tlearn: 0.0617855\ttotal: 348ms\tremaining: 220ms\n",
      "613:\tlearn: 0.0616187\ttotal: 348ms\tremaining: 219ms\n",
      "614:\tlearn: 0.0612183\ttotal: 349ms\tremaining: 218ms\n",
      "615:\tlearn: 0.0610864\ttotal: 349ms\tremaining: 218ms\n",
      "616:\tlearn: 0.0609332\ttotal: 350ms\tremaining: 217ms\n",
      "617:\tlearn: 0.0607949\ttotal: 350ms\tremaining: 216ms\n",
      "618:\tlearn: 0.0606319\ttotal: 351ms\tremaining: 216ms\n",
      "619:\tlearn: 0.0605018\ttotal: 351ms\tremaining: 215ms\n",
      "620:\tlearn: 0.0604076\ttotal: 351ms\tremaining: 214ms\n",
      "621:\tlearn: 0.0602218\ttotal: 352ms\tremaining: 214ms\n",
      "622:\tlearn: 0.0601383\ttotal: 352ms\tremaining: 213ms\n",
      "623:\tlearn: 0.0597503\ttotal: 352ms\tremaining: 212ms\n",
      "624:\tlearn: 0.0596055\ttotal: 353ms\tremaining: 212ms\n",
      "625:\tlearn: 0.0594644\ttotal: 353ms\tremaining: 211ms\n",
      "626:\tlearn: 0.0593526\ttotal: 354ms\tremaining: 210ms\n",
      "627:\tlearn: 0.0592257\ttotal: 354ms\tremaining: 210ms\n",
      "628:\tlearn: 0.0590735\ttotal: 354ms\tremaining: 209ms\n",
      "629:\tlearn: 0.0589219\ttotal: 355ms\tremaining: 208ms\n",
      "630:\tlearn: 0.0587436\ttotal: 355ms\tremaining: 208ms\n",
      "631:\tlearn: 0.0586190\ttotal: 356ms\tremaining: 207ms\n",
      "632:\tlearn: 0.0584840\ttotal: 356ms\tremaining: 206ms\n",
      "633:\tlearn: 0.0583745\ttotal: 357ms\tremaining: 206ms\n",
      "634:\tlearn: 0.0582289\ttotal: 358ms\tremaining: 206ms\n",
      "635:\tlearn: 0.0581069\ttotal: 358ms\tremaining: 205ms\n",
      "636:\tlearn: 0.0579624\ttotal: 359ms\tremaining: 205ms\n",
      "637:\tlearn: 0.0578833\ttotal: 359ms\tremaining: 204ms\n",
      "638:\tlearn: 0.0577631\ttotal: 360ms\tremaining: 203ms\n",
      "639:\tlearn: 0.0576197\ttotal: 360ms\tremaining: 203ms\n",
      "640:\tlearn: 0.0575015\ttotal: 361ms\tremaining: 202ms\n",
      "641:\tlearn: 0.0573716\ttotal: 363ms\tremaining: 202ms\n",
      "642:\tlearn: 0.0572070\ttotal: 363ms\tremaining: 202ms\n",
      "643:\tlearn: 0.0568378\ttotal: 364ms\tremaining: 201ms\n",
      "644:\tlearn: 0.0567007\ttotal: 365ms\tremaining: 201ms\n",
      "645:\tlearn: 0.0565757\ttotal: 366ms\tremaining: 201ms\n",
      "646:\tlearn: 0.0564750\ttotal: 367ms\tremaining: 200ms\n",
      "647:\tlearn: 0.0563425\ttotal: 367ms\tremaining: 200ms\n",
      "648:\tlearn: 0.0562135\ttotal: 368ms\tremaining: 199ms\n",
      "649:\tlearn: 0.0561173\ttotal: 368ms\tremaining: 198ms\n",
      "650:\tlearn: 0.0560196\ttotal: 368ms\tremaining: 197ms\n",
      "651:\tlearn: 0.0558980\ttotal: 369ms\tremaining: 197ms\n",
      "652:\tlearn: 0.0558294\ttotal: 369ms\tremaining: 196ms\n",
      "653:\tlearn: 0.0557763\ttotal: 370ms\tremaining: 196ms\n",
      "654:\tlearn: 0.0556530\ttotal: 371ms\tremaining: 195ms\n",
      "655:\tlearn: 0.0555352\ttotal: 371ms\tremaining: 195ms\n",
      "656:\tlearn: 0.0554512\ttotal: 371ms\tremaining: 194ms\n",
      "657:\tlearn: 0.0552907\ttotal: 372ms\tremaining: 193ms\n",
      "658:\tlearn: 0.0552086\ttotal: 372ms\tremaining: 193ms\n",
      "659:\tlearn: 0.0550874\ttotal: 372ms\tremaining: 192ms\n",
      "660:\tlearn: 0.0549994\ttotal: 373ms\tremaining: 191ms\n",
      "661:\tlearn: 0.0548431\ttotal: 373ms\tremaining: 191ms\n",
      "662:\tlearn: 0.0547908\ttotal: 374ms\tremaining: 190ms\n",
      "663:\tlearn: 0.0545730\ttotal: 374ms\tremaining: 189ms\n",
      "664:\tlearn: 0.0545214\ttotal: 375ms\tremaining: 189ms\n",
      "665:\tlearn: 0.0544057\ttotal: 376ms\tremaining: 188ms\n",
      "666:\tlearn: 0.0543545\ttotal: 376ms\tremaining: 188ms\n",
      "667:\tlearn: 0.0541424\ttotal: 376ms\tremaining: 187ms\n",
      "668:\tlearn: 0.0540913\ttotal: 377ms\tremaining: 186ms\n",
      "669:\tlearn: 0.0539788\ttotal: 377ms\tremaining: 186ms\n",
      "670:\tlearn: 0.0537722\ttotal: 378ms\tremaining: 185ms\n",
      "671:\tlearn: 0.0536630\ttotal: 378ms\tremaining: 185ms\n",
      "672:\tlearn: 0.0535456\ttotal: 378ms\tremaining: 184ms\n",
      "673:\tlearn: 0.0534199\ttotal: 380ms\tremaining: 184ms\n",
      "674:\tlearn: 0.0533079\ttotal: 380ms\tremaining: 183ms\n",
      "675:\tlearn: 0.0531624\ttotal: 381ms\tremaining: 183ms\n",
      "676:\tlearn: 0.0530530\ttotal: 381ms\tremaining: 182ms\n",
      "677:\tlearn: 0.0529771\ttotal: 382ms\tremaining: 181ms\n",
      "678:\tlearn: 0.0528349\ttotal: 382ms\tremaining: 181ms\n",
      "679:\tlearn: 0.0527278\ttotal: 382ms\tremaining: 180ms\n",
      "680:\tlearn: 0.0526531\ttotal: 383ms\tremaining: 179ms\n",
      "681:\tlearn: 0.0525141\ttotal: 383ms\tremaining: 179ms\n",
      "682:\tlearn: 0.0523780\ttotal: 383ms\tremaining: 178ms\n",
      "683:\tlearn: 0.0523043\ttotal: 384ms\tremaining: 177ms\n",
      "684:\tlearn: 0.0521821\ttotal: 384ms\tremaining: 177ms\n",
      "685:\tlearn: 0.0520781\ttotal: 385ms\tremaining: 176ms\n",
      "686:\tlearn: 0.0520055\ttotal: 385ms\tremaining: 175ms\n",
      "687:\tlearn: 0.0518729\ttotal: 385ms\tremaining: 175ms\n",
      "688:\tlearn: 0.0517711\ttotal: 386ms\tremaining: 174ms\n",
      "689:\tlearn: 0.0516883\ttotal: 386ms\tremaining: 173ms\n",
      "690:\tlearn: 0.0515713\ttotal: 387ms\tremaining: 173ms\n",
      "691:\tlearn: 0.0513661\ttotal: 387ms\tremaining: 172ms\n",
      "692:\tlearn: 0.0511807\ttotal: 387ms\tremaining: 172ms\n",
      "693:\tlearn: 0.0509817\ttotal: 388ms\tremaining: 171ms\n",
      "694:\tlearn: 0.0507860\ttotal: 388ms\tremaining: 170ms\n",
      "695:\tlearn: 0.0505948\ttotal: 388ms\tremaining: 170ms\n",
      "696:\tlearn: 0.0504999\ttotal: 389ms\tremaining: 169ms\n",
      "697:\tlearn: 0.0504194\ttotal: 389ms\tremaining: 168ms\n",
      "698:\tlearn: 0.0503504\ttotal: 390ms\tremaining: 168ms\n",
      "699:\tlearn: 0.0502537\ttotal: 390ms\tremaining: 167ms\n",
      "700:\tlearn: 0.0501588\ttotal: 399ms\tremaining: 170ms\n",
      "701:\tlearn: 0.0499745\ttotal: 399ms\tremaining: 170ms\n",
      "702:\tlearn: 0.0498957\ttotal: 400ms\tremaining: 169ms\n",
      "703:\tlearn: 0.0498043\ttotal: 402ms\tremaining: 169ms\n",
      "704:\tlearn: 0.0497846\ttotal: 403ms\tremaining: 169ms\n",
      "705:\tlearn: 0.0497156\ttotal: 405ms\tremaining: 169ms\n",
      "706:\tlearn: 0.0495698\ttotal: 405ms\tremaining: 168ms\n",
      "707:\tlearn: 0.0493905\ttotal: 406ms\tremaining: 167ms\n",
      "708:\tlearn: 0.0492990\ttotal: 406ms\tremaining: 167ms\n",
      "709:\tlearn: 0.0492327\ttotal: 407ms\tremaining: 166ms\n",
      "710:\tlearn: 0.0491546\ttotal: 407ms\tremaining: 165ms\n",
      "711:\tlearn: 0.0490143\ttotal: 407ms\tremaining: 165ms\n",
      "712:\tlearn: 0.0488406\ttotal: 408ms\tremaining: 164ms\n",
      "713:\tlearn: 0.0487265\ttotal: 408ms\tremaining: 164ms\n",
      "714:\tlearn: 0.0485569\ttotal: 409ms\tremaining: 163ms\n",
      "715:\tlearn: 0.0484802\ttotal: 410ms\tremaining: 162ms\n",
      "716:\tlearn: 0.0483685\ttotal: 410ms\tremaining: 162ms\n",
      "717:\tlearn: 0.0482618\ttotal: 410ms\tremaining: 161ms\n",
      "718:\tlearn: 0.0481876\ttotal: 411ms\tremaining: 161ms\n",
      "719:\tlearn: 0.0480778\ttotal: 411ms\tremaining: 160ms\n",
      "720:\tlearn: 0.0479129\ttotal: 412ms\tremaining: 159ms\n",
      "721:\tlearn: 0.0478495\ttotal: 412ms\tremaining: 159ms\n",
      "722:\tlearn: 0.0477453\ttotal: 413ms\tremaining: 158ms\n",
      "723:\tlearn: 0.0476584\ttotal: 413ms\tremaining: 158ms\n",
      "724:\tlearn: 0.0475576\ttotal: 414ms\tremaining: 157ms\n",
      "725:\tlearn: 0.0474727\ttotal: 414ms\tremaining: 156ms\n",
      "726:\tlearn: 0.0473753\ttotal: 415ms\tremaining: 156ms\n"
     ]
    },
    {
     "name": "stdout",
     "output_type": "stream",
     "text": [
      "727:\tlearn: 0.0472141\ttotal: 415ms\tremaining: 155ms\n",
      "728:\tlearn: 0.0471310\ttotal: 416ms\tremaining: 155ms\n",
      "729:\tlearn: 0.0470230\ttotal: 416ms\tremaining: 154ms\n",
      "730:\tlearn: 0.0469169\ttotal: 417ms\tremaining: 153ms\n",
      "731:\tlearn: 0.0467589\ttotal: 417ms\tremaining: 153ms\n",
      "732:\tlearn: 0.0466413\ttotal: 418ms\tremaining: 152ms\n",
      "733:\tlearn: 0.0465559\ttotal: 418ms\tremaining: 151ms\n",
      "734:\tlearn: 0.0464398\ttotal: 418ms\tremaining: 151ms\n",
      "735:\tlearn: 0.0462855\ttotal: 419ms\tremaining: 150ms\n",
      "736:\tlearn: 0.0461974\ttotal: 419ms\tremaining: 150ms\n",
      "737:\tlearn: 0.0461106\ttotal: 420ms\tremaining: 149ms\n",
      "738:\tlearn: 0.0459962\ttotal: 420ms\tremaining: 148ms\n",
      "739:\tlearn: 0.0458704\ttotal: 420ms\tremaining: 148ms\n",
      "740:\tlearn: 0.0457869\ttotal: 421ms\tremaining: 147ms\n",
      "741:\tlearn: 0.0457010\ttotal: 421ms\tremaining: 146ms\n",
      "742:\tlearn: 0.0455504\ttotal: 422ms\tremaining: 146ms\n",
      "743:\tlearn: 0.0454762\ttotal: 422ms\tremaining: 145ms\n",
      "744:\tlearn: 0.0453641\ttotal: 422ms\tremaining: 145ms\n",
      "745:\tlearn: 0.0452800\ttotal: 423ms\tremaining: 144ms\n",
      "746:\tlearn: 0.0452071\ttotal: 423ms\tremaining: 143ms\n",
      "747:\tlearn: 0.0450857\ttotal: 424ms\tremaining: 143ms\n",
      "748:\tlearn: 0.0450036\ttotal: 424ms\tremaining: 142ms\n",
      "749:\tlearn: 0.0448570\ttotal: 424ms\tremaining: 141ms\n",
      "750:\tlearn: 0.0447765\ttotal: 425ms\tremaining: 141ms\n",
      "751:\tlearn: 0.0447050\ttotal: 425ms\tremaining: 140ms\n",
      "752:\tlearn: 0.0445877\ttotal: 426ms\tremaining: 140ms\n",
      "753:\tlearn: 0.0445091\ttotal: 427ms\tremaining: 139ms\n",
      "754:\tlearn: 0.0443661\ttotal: 427ms\tremaining: 139ms\n",
      "755:\tlearn: 0.0442572\ttotal: 427ms\tremaining: 138ms\n",
      "756:\tlearn: 0.0442018\ttotal: 428ms\tremaining: 137ms\n",
      "757:\tlearn: 0.0441573\ttotal: 428ms\tremaining: 137ms\n",
      "758:\tlearn: 0.0440869\ttotal: 428ms\tremaining: 136ms\n",
      "759:\tlearn: 0.0439746\ttotal: 429ms\tremaining: 135ms\n",
      "760:\tlearn: 0.0438938\ttotal: 429ms\tremaining: 135ms\n",
      "761:\tlearn: 0.0438398\ttotal: 430ms\tremaining: 134ms\n",
      "762:\tlearn: 0.0436792\ttotal: 430ms\tremaining: 134ms\n",
      "763:\tlearn: 0.0436259\ttotal: 430ms\tremaining: 133ms\n",
      "764:\tlearn: 0.0435733\ttotal: 431ms\tremaining: 132ms\n",
      "765:\tlearn: 0.0434528\ttotal: 431ms\tremaining: 132ms\n",
      "766:\tlearn: 0.0434011\ttotal: 432ms\tremaining: 131ms\n",
      "767:\tlearn: 0.0433394\ttotal: 432ms\tremaining: 131ms\n",
      "768:\tlearn: 0.0432677\ttotal: 432ms\tremaining: 130ms\n",
      "769:\tlearn: 0.0431113\ttotal: 433ms\tremaining: 129ms\n",
      "770:\tlearn: 0.0430434\ttotal: 433ms\tremaining: 129ms\n",
      "771:\tlearn: 0.0429350\ttotal: 434ms\tremaining: 128ms\n",
      "772:\tlearn: 0.0428852\ttotal: 434ms\tremaining: 128ms\n",
      "773:\tlearn: 0.0427688\ttotal: 435ms\tremaining: 127ms\n",
      "774:\tlearn: 0.0427198\ttotal: 435ms\tremaining: 126ms\n",
      "775:\tlearn: 0.0426137\ttotal: 435ms\tremaining: 126ms\n",
      "776:\tlearn: 0.0424619\ttotal: 436ms\tremaining: 125ms\n",
      "777:\tlearn: 0.0424137\ttotal: 436ms\tremaining: 124ms\n",
      "778:\tlearn: 0.0423661\ttotal: 437ms\tremaining: 124ms\n",
      "779:\tlearn: 0.0422623\ttotal: 437ms\tremaining: 123ms\n",
      "780:\tlearn: 0.0421495\ttotal: 438ms\tremaining: 123ms\n",
      "781:\tlearn: 0.0420592\ttotal: 438ms\tremaining: 122ms\n",
      "782:\tlearn: 0.0419578\ttotal: 438ms\tremaining: 122ms\n",
      "783:\tlearn: 0.0419294\ttotal: 439ms\tremaining: 121ms\n",
      "784:\tlearn: 0.0417809\ttotal: 439ms\tremaining: 120ms\n",
      "785:\tlearn: 0.0416781\ttotal: 440ms\tremaining: 120ms\n",
      "786:\tlearn: 0.0415338\ttotal: 440ms\tremaining: 119ms\n",
      "787:\tlearn: 0.0414096\ttotal: 441ms\tremaining: 119ms\n",
      "788:\tlearn: 0.0412888\ttotal: 441ms\tremaining: 118ms\n",
      "789:\tlearn: 0.0412063\ttotal: 442ms\tremaining: 117ms\n",
      "790:\tlearn: 0.0411258\ttotal: 442ms\tremaining: 117ms\n",
      "791:\tlearn: 0.0409853\ttotal: 442ms\tremaining: 116ms\n",
      "792:\tlearn: 0.0409246\ttotal: 443ms\tremaining: 116ms\n",
      "793:\tlearn: 0.0408651\ttotal: 444ms\tremaining: 115ms\n",
      "794:\tlearn: 0.0407634\ttotal: 444ms\tremaining: 114ms\n",
      "795:\tlearn: 0.0406272\ttotal: 444ms\tremaining: 114ms\n",
      "796:\tlearn: 0.0405270\ttotal: 445ms\tremaining: 113ms\n",
      "797:\tlearn: 0.0404687\ttotal: 445ms\tremaining: 113ms\n",
      "798:\tlearn: 0.0404248\ttotal: 446ms\tremaining: 112ms\n",
      "799:\tlearn: 0.0403260\ttotal: 446ms\tremaining: 112ms\n",
      "800:\tlearn: 0.0402791\ttotal: 447ms\tremaining: 111ms\n",
      "801:\tlearn: 0.0401878\ttotal: 447ms\tremaining: 110ms\n",
      "802:\tlearn: 0.0400909\ttotal: 447ms\tremaining: 110ms\n",
      "803:\tlearn: 0.0399586\ttotal: 448ms\tremaining: 109ms\n",
      "804:\tlearn: 0.0397826\ttotal: 448ms\tremaining: 109ms\n",
      "805:\tlearn: 0.0397180\ttotal: 449ms\tremaining: 108ms\n",
      "806:\tlearn: 0.0396548\ttotal: 449ms\tremaining: 107ms\n",
      "807:\tlearn: 0.0395592\ttotal: 449ms\tremaining: 107ms\n",
      "808:\tlearn: 0.0395090\ttotal: 450ms\tremaining: 106ms\n",
      "809:\tlearn: 0.0394145\ttotal: 450ms\tremaining: 106ms\n",
      "810:\tlearn: 0.0393565\ttotal: 451ms\tremaining: 105ms\n",
      "811:\tlearn: 0.0392278\ttotal: 451ms\tremaining: 104ms\n",
      "812:\tlearn: 0.0390929\ttotal: 452ms\tremaining: 104ms\n",
      "813:\tlearn: 0.0390375\ttotal: 452ms\tremaining: 103ms\n",
      "814:\tlearn: 0.0388756\ttotal: 452ms\tremaining: 103ms\n",
      "815:\tlearn: 0.0388268\ttotal: 453ms\tremaining: 102ms\n",
      "816:\tlearn: 0.0387581\ttotal: 454ms\tremaining: 102ms\n",
      "817:\tlearn: 0.0386336\ttotal: 454ms\tremaining: 101ms\n",
      "818:\tlearn: 0.0384756\ttotal: 455ms\tremaining: 100ms\n",
      "819:\tlearn: 0.0384278\ttotal: 455ms\tremaining: 99.9ms\n",
      "820:\tlearn: 0.0383811\ttotal: 456ms\tremaining: 99.4ms\n",
      "821:\tlearn: 0.0382212\ttotal: 456ms\tremaining: 98.8ms\n",
      "822:\tlearn: 0.0380652\ttotal: 457ms\tremaining: 98.2ms\n",
      "823:\tlearn: 0.0379810\ttotal: 457ms\tremaining: 97.6ms\n",
      "824:\tlearn: 0.0379581\ttotal: 457ms\tremaining: 97ms\n",
      "825:\tlearn: 0.0378374\ttotal: 458ms\tremaining: 96.4ms\n",
      "826:\tlearn: 0.0376723\ttotal: 458ms\tremaining: 95.9ms\n",
      "827:\tlearn: 0.0375554\ttotal: 459ms\tremaining: 95.3ms\n",
      "828:\tlearn: 0.0374064\ttotal: 459ms\tremaining: 94.7ms\n",
      "829:\tlearn: 0.0372422\ttotal: 459ms\tremaining: 94.1ms\n",
      "830:\tlearn: 0.0372197\ttotal: 460ms\tremaining: 93.5ms\n",
      "831:\tlearn: 0.0371371\ttotal: 460ms\tremaining: 92.9ms\n",
      "832:\tlearn: 0.0371149\ttotal: 461ms\tremaining: 92.4ms\n",
      "833:\tlearn: 0.0370092\ttotal: 461ms\tremaining: 91.8ms\n",
      "834:\tlearn: 0.0369873\ttotal: 462ms\tremaining: 91.2ms\n",
      "835:\tlearn: 0.0368749\ttotal: 462ms\tremaining: 90.7ms\n",
      "836:\tlearn: 0.0367308\ttotal: 463ms\tremaining: 90.1ms\n",
      "837:\tlearn: 0.0366056\ttotal: 463ms\tremaining: 89.5ms\n",
      "838:\tlearn: 0.0365840\ttotal: 463ms\tremaining: 88.9ms\n",
      "839:\tlearn: 0.0364205\ttotal: 464ms\tremaining: 88.4ms\n",
      "840:\tlearn: 0.0363398\ttotal: 464ms\tremaining: 87.8ms\n",
      "841:\tlearn: 0.0362536\ttotal: 465ms\tremaining: 87.2ms\n",
      "842:\tlearn: 0.0362325\ttotal: 465ms\tremaining: 86.6ms\n",
      "843:\tlearn: 0.0361481\ttotal: 466ms\tremaining: 86.1ms\n",
      "844:\tlearn: 0.0361275\ttotal: 466ms\tremaining: 85.5ms\n",
      "845:\tlearn: 0.0360484\ttotal: 467ms\tremaining: 84.9ms\n",
      "846:\tlearn: 0.0359765\ttotal: 467ms\tremaining: 84.4ms\n",
      "847:\tlearn: 0.0359561\ttotal: 468ms\tremaining: 83.8ms\n",
      "848:\tlearn: 0.0359360\ttotal: 468ms\tremaining: 83.2ms\n",
      "849:\tlearn: 0.0358833\ttotal: 468ms\tremaining: 82.7ms\n",
      "850:\tlearn: 0.0357590\ttotal: 469ms\tremaining: 82.1ms\n",
      "851:\tlearn: 0.0356526\ttotal: 469ms\tremaining: 81.5ms\n",
      "852:\tlearn: 0.0355312\ttotal: 470ms\tremaining: 80.9ms\n",
      "853:\tlearn: 0.0354807\ttotal: 470ms\tremaining: 80.4ms\n",
      "854:\tlearn: 0.0354609\ttotal: 471ms\tremaining: 79.8ms\n",
      "855:\tlearn: 0.0353420\ttotal: 471ms\tremaining: 79.2ms\n",
      "856:\tlearn: 0.0352550\ttotal: 471ms\tremaining: 78.7ms\n",
      "857:\tlearn: 0.0352355\ttotal: 472ms\tremaining: 78.1ms\n",
      "858:\tlearn: 0.0351860\ttotal: 472ms\tremaining: 77.5ms\n",
      "859:\tlearn: 0.0350799\ttotal: 473ms\tremaining: 77ms\n",
      "860:\tlearn: 0.0350106\ttotal: 473ms\tremaining: 76.4ms\n",
      "861:\tlearn: 0.0349915\ttotal: 474ms\tremaining: 75.8ms\n",
      "862:\tlearn: 0.0348874\ttotal: 474ms\tremaining: 75.3ms\n",
      "863:\tlearn: 0.0348687\ttotal: 474ms\tremaining: 74.7ms\n",
      "864:\tlearn: 0.0347839\ttotal: 475ms\tremaining: 74.1ms\n",
      "865:\tlearn: 0.0346817\ttotal: 475ms\tremaining: 73.5ms\n",
      "866:\tlearn: 0.0346070\ttotal: 476ms\tremaining: 73ms\n",
      "867:\tlearn: 0.0345068\ttotal: 476ms\tremaining: 72.4ms\n",
      "868:\tlearn: 0.0344885\ttotal: 477ms\tremaining: 71.8ms\n",
      "869:\tlearn: 0.0344055\ttotal: 477ms\tremaining: 71.3ms\n",
      "870:\tlearn: 0.0343071\ttotal: 477ms\tremaining: 70.7ms\n",
      "871:\tlearn: 0.0341557\ttotal: 478ms\tremaining: 70.1ms\n",
      "872:\tlearn: 0.0341378\ttotal: 478ms\tremaining: 69.5ms\n",
      "873:\tlearn: 0.0340418\ttotal: 478ms\tremaining: 69ms\n",
      "874:\tlearn: 0.0340243\ttotal: 479ms\tremaining: 68.4ms\n",
      "875:\tlearn: 0.0339510\ttotal: 479ms\tremaining: 67.8ms\n",
      "876:\tlearn: 0.0338569\ttotal: 480ms\tremaining: 67.3ms\n"
     ]
    },
    {
     "name": "stdout",
     "output_type": "stream",
     "text": [
      "877:\tlearn: 0.0338149\ttotal: 480ms\tremaining: 66.7ms\n",
      "878:\tlearn: 0.0337339\ttotal: 481ms\tremaining: 66.2ms\n",
      "879:\tlearn: 0.0336619\ttotal: 482ms\tremaining: 65.7ms\n",
      "880:\tlearn: 0.0335693\ttotal: 482ms\tremaining: 65.1ms\n",
      "881:\tlearn: 0.0334392\ttotal: 483ms\tremaining: 64.6ms\n",
      "882:\tlearn: 0.0333482\ttotal: 483ms\tremaining: 64ms\n",
      "883:\tlearn: 0.0332691\ttotal: 484ms\tremaining: 63.5ms\n",
      "884:\tlearn: 0.0331797\ttotal: 484ms\tremaining: 62.9ms\n",
      "885:\tlearn: 0.0330959\ttotal: 484ms\tremaining: 62.3ms\n",
      "886:\tlearn: 0.0329959\ttotal: 485ms\tremaining: 61.8ms\n",
      "887:\tlearn: 0.0328791\ttotal: 485ms\tremaining: 61.2ms\n",
      "888:\tlearn: 0.0327650\ttotal: 486ms\tremaining: 60.7ms\n",
      "889:\tlearn: 0.0327238\ttotal: 486ms\tremaining: 60.1ms\n",
      "890:\tlearn: 0.0326838\ttotal: 487ms\tremaining: 59.5ms\n",
      "891:\tlearn: 0.0326142\ttotal: 487ms\tremaining: 59ms\n",
      "892:\tlearn: 0.0325752\ttotal: 487ms\tremaining: 58.4ms\n",
      "893:\tlearn: 0.0324498\ttotal: 488ms\tremaining: 57.8ms\n",
      "894:\tlearn: 0.0323737\ttotal: 488ms\tremaining: 57.3ms\n",
      "895:\tlearn: 0.0322873\ttotal: 489ms\tremaining: 56.7ms\n",
      "896:\tlearn: 0.0322024\ttotal: 489ms\tremaining: 56.2ms\n",
      "897:\tlearn: 0.0321279\ttotal: 489ms\tremaining: 55.6ms\n",
      "898:\tlearn: 0.0320445\ttotal: 490ms\tremaining: 55ms\n",
      "899:\tlearn: 0.0319659\ttotal: 490ms\tremaining: 54.5ms\n",
      "900:\tlearn: 0.0318829\ttotal: 491ms\tremaining: 53.9ms\n",
      "901:\tlearn: 0.0317728\ttotal: 491ms\tremaining: 53.4ms\n",
      "902:\tlearn: 0.0316653\ttotal: 491ms\tremaining: 52.8ms\n",
      "903:\tlearn: 0.0315603\ttotal: 492ms\tremaining: 52.2ms\n",
      "904:\tlearn: 0.0315458\ttotal: 492ms\tremaining: 51.7ms\n",
      "905:\tlearn: 0.0314433\ttotal: 493ms\tremaining: 51.1ms\n",
      "906:\tlearn: 0.0313431\ttotal: 493ms\tremaining: 50.6ms\n",
      "907:\tlearn: 0.0313046\ttotal: 494ms\tremaining: 50ms\n",
      "908:\tlearn: 0.0312670\ttotal: 494ms\tremaining: 49.5ms\n",
      "909:\tlearn: 0.0312305\ttotal: 495ms\tremaining: 48.9ms\n",
      "910:\tlearn: 0.0311020\ttotal: 495ms\tremaining: 48.4ms\n",
      "911:\tlearn: 0.0310360\ttotal: 496ms\tremaining: 47.8ms\n",
      "912:\tlearn: 0.0310002\ttotal: 496ms\tremaining: 47.3ms\n",
      "913:\tlearn: 0.0308817\ttotal: 497ms\tremaining: 46.7ms\n",
      "914:\tlearn: 0.0307226\ttotal: 497ms\tremaining: 46.2ms\n",
      "915:\tlearn: 0.0306587\ttotal: 498ms\tremaining: 45.6ms\n",
      "916:\tlearn: 0.0305359\ttotal: 498ms\tremaining: 45.1ms\n",
      "917:\tlearn: 0.0304901\ttotal: 498ms\tremaining: 44.5ms\n",
      "918:\tlearn: 0.0304553\ttotal: 499ms\tremaining: 44ms\n",
      "919:\tlearn: 0.0303930\ttotal: 499ms\tremaining: 43.4ms\n",
      "920:\tlearn: 0.0302381\ttotal: 500ms\tremaining: 42.9ms\n",
      "921:\tlearn: 0.0302041\ttotal: 500ms\tremaining: 42.3ms\n",
      "922:\tlearn: 0.0301682\ttotal: 500ms\tremaining: 41.7ms\n",
      "923:\tlearn: 0.0301350\ttotal: 501ms\tremaining: 41.2ms\n",
      "924:\tlearn: 0.0300158\ttotal: 501ms\tremaining: 40.6ms\n",
      "925:\tlearn: 0.0298822\ttotal: 502ms\tremaining: 40.1ms\n",
      "926:\tlearn: 0.0298476\ttotal: 502ms\tremaining: 39.5ms\n",
      "927:\tlearn: 0.0298151\ttotal: 502ms\tremaining: 39ms\n",
      "928:\tlearn: 0.0297617\ttotal: 503ms\tremaining: 38.4ms\n",
      "929:\tlearn: 0.0296857\ttotal: 503ms\tremaining: 37.9ms\n",
      "930:\tlearn: 0.0295743\ttotal: 503ms\tremaining: 37.3ms\n",
      "931:\tlearn: 0.0295424\ttotal: 504ms\tremaining: 36.8ms\n",
      "932:\tlearn: 0.0294175\ttotal: 504ms\tremaining: 36.2ms\n",
      "933:\tlearn: 0.0293787\ttotal: 505ms\tremaining: 35.7ms\n",
      "934:\tlearn: 0.0293413\ttotal: 505ms\tremaining: 35.1ms\n",
      "935:\tlearn: 0.0292818\ttotal: 506ms\tremaining: 34.6ms\n",
      "936:\tlearn: 0.0292442\ttotal: 506ms\tremaining: 34ms\n",
      "937:\tlearn: 0.0292139\ttotal: 506ms\tremaining: 33.5ms\n",
      "938:\tlearn: 0.0291554\ttotal: 507ms\tremaining: 32.9ms\n",
      "939:\tlearn: 0.0290426\ttotal: 507ms\tremaining: 32.4ms\n",
      "940:\tlearn: 0.0289657\ttotal: 508ms\tremaining: 31.8ms\n",
      "941:\tlearn: 0.0289400\ttotal: 508ms\tremaining: 31.3ms\n",
      "942:\tlearn: 0.0288194\ttotal: 509ms\tremaining: 30.7ms\n",
      "943:\tlearn: 0.0287942\ttotal: 509ms\tremaining: 30.2ms\n",
      "944:\tlearn: 0.0287584\ttotal: 509ms\tremaining: 29.6ms\n",
      "945:\tlearn: 0.0287012\ttotal: 510ms\tremaining: 29.1ms\n",
      "946:\tlearn: 0.0285966\ttotal: 510ms\tremaining: 28.6ms\n",
      "947:\tlearn: 0.0285221\ttotal: 511ms\tremaining: 28ms\n",
      "948:\tlearn: 0.0284050\ttotal: 511ms\tremaining: 27.5ms\n",
      "949:\tlearn: 0.0283326\ttotal: 512ms\tremaining: 26.9ms\n",
      "950:\tlearn: 0.0282815\ttotal: 513ms\tremaining: 26.4ms\n",
      "951:\tlearn: 0.0282570\ttotal: 513ms\tremaining: 25.9ms\n",
      "952:\tlearn: 0.0282329\ttotal: 513ms\tremaining: 25.3ms\n",
      "953:\tlearn: 0.0281980\ttotal: 514ms\tremaining: 24.8ms\n",
      "954:\tlearn: 0.0280630\ttotal: 514ms\tremaining: 24.2ms\n",
      "955:\tlearn: 0.0280075\ttotal: 515ms\tremaining: 23.7ms\n",
      "956:\tlearn: 0.0279530\ttotal: 515ms\tremaining: 23.1ms\n",
      "957:\tlearn: 0.0278828\ttotal: 515ms\tremaining: 22.6ms\n",
      "958:\tlearn: 0.0278594\ttotal: 516ms\tremaining: 22.1ms\n",
      "959:\tlearn: 0.0277586\ttotal: 516ms\tremaining: 21.5ms\n",
      "960:\tlearn: 0.0276480\ttotal: 517ms\tremaining: 21ms\n",
      "961:\tlearn: 0.0275867\ttotal: 517ms\tremaining: 20.4ms\n",
      "962:\tlearn: 0.0275264\ttotal: 518ms\tremaining: 19.9ms\n",
      "963:\tlearn: 0.0274194\ttotal: 518ms\tremaining: 19.3ms\n",
      "964:\tlearn: 0.0273542\ttotal: 518ms\tremaining: 18.8ms\n",
      "965:\tlearn: 0.0273043\ttotal: 519ms\tremaining: 18.3ms\n",
      "966:\tlearn: 0.0272877\ttotal: 519ms\tremaining: 17.7ms\n",
      "967:\tlearn: 0.0272238\ttotal: 520ms\tremaining: 17.2ms\n",
      "968:\tlearn: 0.0271926\ttotal: 520ms\tremaining: 16.6ms\n",
      "969:\tlearn: 0.0271300\ttotal: 520ms\tremaining: 16.1ms\n",
      "970:\tlearn: 0.0270319\ttotal: 521ms\tremaining: 15.6ms\n",
      "971:\tlearn: 0.0270015\ttotal: 521ms\tremaining: 15ms\n",
      "972:\tlearn: 0.0269718\ttotal: 522ms\tremaining: 14.5ms\n",
      "973:\tlearn: 0.0269146\ttotal: 522ms\tremaining: 13.9ms\n",
      "974:\tlearn: 0.0268626\ttotal: 522ms\tremaining: 13.4ms\n",
      "975:\tlearn: 0.0268021\ttotal: 523ms\tremaining: 12.9ms\n",
      "976:\tlearn: 0.0267070\ttotal: 523ms\tremaining: 12.3ms\n",
      "977:\tlearn: 0.0266859\ttotal: 524ms\tremaining: 11.8ms\n",
      "978:\tlearn: 0.0266572\ttotal: 524ms\tremaining: 11.2ms\n",
      "979:\tlearn: 0.0265948\ttotal: 524ms\tremaining: 10.7ms\n",
      "980:\tlearn: 0.0265296\ttotal: 525ms\tremaining: 10.2ms\n",
      "981:\tlearn: 0.0264336\ttotal: 525ms\tremaining: 9.63ms\n",
      "982:\tlearn: 0.0263788\ttotal: 526ms\tremaining: 9.09ms\n",
      "983:\tlearn: 0.0263421\ttotal: 526ms\tremaining: 8.55ms\n",
      "984:\tlearn: 0.0262882\ttotal: 527ms\tremaining: 8.02ms\n",
      "985:\tlearn: 0.0262519\ttotal: 527ms\tremaining: 7.48ms\n",
      "986:\tlearn: 0.0262045\ttotal: 527ms\tremaining: 6.95ms\n",
      "987:\tlearn: 0.0261688\ttotal: 528ms\tremaining: 6.41ms\n",
      "988:\tlearn: 0.0261335\ttotal: 528ms\tremaining: 5.88ms\n",
      "989:\tlearn: 0.0261058\ttotal: 529ms\tremaining: 5.34ms\n",
      "990:\tlearn: 0.0260486\ttotal: 529ms\tremaining: 4.81ms\n",
      "991:\tlearn: 0.0259869\ttotal: 530ms\tremaining: 4.27ms\n",
      "992:\tlearn: 0.0259598\ttotal: 530ms\tremaining: 3.74ms\n",
      "993:\tlearn: 0.0258786\ttotal: 531ms\tremaining: 3.2ms\n",
      "994:\tlearn: 0.0258324\ttotal: 531ms\tremaining: 2.67ms\n",
      "995:\tlearn: 0.0257957\ttotal: 532ms\tremaining: 2.13ms\n",
      "996:\tlearn: 0.0257759\ttotal: 532ms\tremaining: 1.6ms\n",
      "997:\tlearn: 0.0257496\ttotal: 532ms\tremaining: 1.07ms\n",
      "998:\tlearn: 0.0257042\ttotal: 533ms\tremaining: 533us\n",
      "999:\tlearn: 0.0256682\ttotal: 533ms\tremaining: 0us\n",
      "Mean Absolute error 0.6695781672252383\n"
     ]
    },
    {
     "data": {
      "application/scrapbook.scrap.json+json": {
       "data": 0.6695781672252383,
       "encoder": "json",
       "name": "Catboost MAE",
       "version": 1
      }
     },
     "metadata": {
      "scrapbook": {
       "data": true,
       "display": false,
       "name": "Catboost MAE"
      }
     },
     "output_type": "display_data"
    }
   ],
   "source": [
    "mae_cb = baselineModels.catboost(X_train,y_train,X_test,y_test)\n",
    "#Store MSE Value\n",
    "sb.glue(\"Catboost MAE\",mae_cb)"
   ]
  },
  {
   "cell_type": "markdown",
   "id": "f416dbb8",
   "metadata": {
    "papermill": {
     "duration": 0.017679,
     "end_time": "2022-06-22T10:46:10.975201",
     "exception": false,
     "start_time": "2022-06-22T10:46:10.957522",
     "status": "completed"
    },
    "tags": []
   },
   "source": [
    "# TabNet regressor"
   ]
  },
  {
   "cell_type": "code",
   "execution_count": 7,
   "id": "7f84375b",
   "metadata": {
    "execution": {
     "iopub.execute_input": "2022-06-22T10:46:11.011132Z",
     "iopub.status.busy": "2022-06-22T10:46:11.010192Z",
     "iopub.status.idle": "2022-06-22T10:46:11.012239Z",
     "shell.execute_reply": "2022-06-22T10:46:11.012662Z"
    },
    "papermill": {
     "duration": 0.021415,
     "end_time": "2022-06-22T10:46:11.012865",
     "exception": false,
     "start_time": "2022-06-22T10:46:10.991450",
     "status": "completed"
    },
    "tags": []
   },
   "outputs": [],
   "source": [
    "n_epochs = 1000\n",
    "batch_size = 32"
   ]
  },
  {
   "cell_type": "code",
   "execution_count": 8,
   "id": "41c38265",
   "metadata": {
    "execution": {
     "iopub.execute_input": "2022-06-22T10:46:11.055385Z",
     "iopub.status.busy": "2022-06-22T10:46:11.054088Z",
     "iopub.status.idle": "2022-06-22T10:46:32.293568Z",
     "shell.execute_reply": "2022-06-22T10:46:32.294808Z"
    },
    "papermill": {
     "duration": 21.268013,
     "end_time": "2022-06-22T10:46:32.295196",
     "exception": false,
     "start_time": "2022-06-22T10:46:11.027183",
     "status": "completed"
    },
    "tags": []
   },
   "outputs": [
    {
     "name": "stdout",
     "output_type": "stream",
     "text": [
      "(80,)\n"
     ]
    },
    {
     "name": "stdout",
     "output_type": "stream",
     "text": [
      "Device used : cpu\n"
     ]
    },
    {
     "name": "stdout",
     "output_type": "stream",
     "text": [
      "epoch 0  | loss: 0.94866 | train_mse: 3.84664 | train_mae: 1.52841 |  0:00:04s\n",
      "epoch 1  | loss: 0.37175 | train_mse: 4.16836 | train_mae: 1.55473 |  0:00:04s\n",
      "epoch 2  | loss: 0.62759 | train_mse: 5.09513 | train_mae: 1.66105 |  0:00:04s\n"
     ]
    },
    {
     "name": "stdout",
     "output_type": "stream",
     "text": [
      "epoch 3  | loss: 0.40315 | train_mse: 1.67409 | train_mae: 0.96044 |  0:00:04s\n",
      "epoch 4  | loss: 0.49975 | train_mse: 1.14904 | train_mae: 0.83238 |  0:00:05s\n",
      "epoch 5  | loss: 0.40053 | train_mse: 1.36344 | train_mae: 0.92705 |  0:00:05s\n"
     ]
    },
    {
     "name": "stdout",
     "output_type": "stream",
     "text": [
      "epoch 6  | loss: 0.42877 | train_mse: 1.01833 | train_mae: 0.78381 |  0:00:05s\n",
      "epoch 7  | loss: 0.41918 | train_mse: 0.61245 | train_mae: 0.60437 |  0:00:05s\n",
      "epoch 8  | loss: 0.32651 | train_mse: 0.46048 | train_mae: 0.53988 |  0:00:05s\n"
     ]
    },
    {
     "name": "stdout",
     "output_type": "stream",
     "text": [
      "epoch 9  | loss: 0.35982 | train_mse: 0.3685  | train_mae: 0.48871 |  0:00:05s\n",
      "epoch 10 | loss: 0.38758 | train_mse: 0.28757 | train_mae: 0.42302 |  0:00:05s\n",
      "epoch 11 | loss: 0.31114 | train_mse: 0.43395 | train_mae: 0.48654 |  0:00:05s\n"
     ]
    },
    {
     "name": "stdout",
     "output_type": "stream",
     "text": [
      "epoch 12 | loss: 0.39451 | train_mse: 0.46759 | train_mae: 0.50955 |  0:00:05s\n",
      "epoch 13 | loss: 0.34582 | train_mse: 0.3318  | train_mae: 0.44153 |  0:00:05s\n",
      "epoch 14 | loss: 0.34399 | train_mse: 0.29754 | train_mae: 0.43613 |  0:00:05s\n"
     ]
    },
    {
     "name": "stdout",
     "output_type": "stream",
     "text": [
      "epoch 15 | loss: 0.31618 | train_mse: 0.24769 | train_mae: 0.38533 |  0:00:05s\n",
      "epoch 16 | loss: 0.29514 | train_mse: 0.22052 | train_mae: 0.35797 |  0:00:05s\n",
      "epoch 17 | loss: 0.23204 | train_mse: 0.25371 | train_mae: 0.36226 |  0:00:05s\n"
     ]
    },
    {
     "name": "stdout",
     "output_type": "stream",
     "text": [
      "epoch 18 | loss: 0.27407 | train_mse: 0.25485 | train_mae: 0.37768 |  0:00:06s\n",
      "epoch 19 | loss: 0.29076 | train_mse: 0.21556 | train_mae: 0.3592  |  0:00:06s\n",
      "epoch 20 | loss: 0.32369 | train_mse: 0.23533 | train_mae: 0.37076 |  0:00:06s\n"
     ]
    },
    {
     "name": "stdout",
     "output_type": "stream",
     "text": [
      "epoch 21 | loss: 0.31983 | train_mse: 0.23999 | train_mae: 0.37306 |  0:00:06s\n",
      "epoch 22 | loss: 0.21115 | train_mse: 0.20559 | train_mae: 0.3568  |  0:00:06s\n",
      "epoch 23 | loss: 0.26304 | train_mse: 0.19655 | train_mae: 0.34302 |  0:00:06s\n"
     ]
    },
    {
     "name": "stdout",
     "output_type": "stream",
     "text": [
      "epoch 24 | loss: 0.18745 | train_mse: 0.28097 | train_mae: 0.38096 |  0:00:06s\n",
      "epoch 25 | loss: 0.16635 | train_mse: 0.23977 | train_mae: 0.35132 |  0:00:06s\n",
      "epoch 26 | loss: 0.19037 | train_mse: 0.19576 | train_mae: 0.31229 |  0:00:06s\n",
      "epoch 27 | loss: 0.21961 | train_mse: 0.18655 | train_mae: 0.32124 |  0:00:06s\n"
     ]
    },
    {
     "name": "stdout",
     "output_type": "stream",
     "text": [
      "epoch 28 | loss: 0.15132 | train_mse: 0.16814 | train_mae: 0.3138  |  0:00:06s\n",
      "epoch 29 | loss: 0.25942 | train_mse: 0.13904 | train_mae: 0.28995 |  0:00:06s\n",
      "epoch 30 | loss: 0.34698 | train_mse: 0.16514 | train_mae: 0.2949  |  0:00:06s\n",
      "epoch 31 | loss: 0.19307 | train_mse: 0.16615 | train_mae: 0.29947 |  0:00:06s\n"
     ]
    },
    {
     "name": "stdout",
     "output_type": "stream",
     "text": [
      "epoch 32 | loss: 0.14603 | train_mse: 0.20292 | train_mae: 0.32848 |  0:00:07s\n",
      "epoch 33 | loss: 0.29231 | train_mse: 0.20325 | train_mae: 0.33151 |  0:00:07s\n",
      "epoch 34 | loss: 0.18825 | train_mse: 0.18651 | train_mae: 0.32259 |  0:00:07s\n",
      "epoch 35 | loss: 0.23389 | train_mse: 0.16107 | train_mae: 0.31911 |  0:00:07s\n"
     ]
    },
    {
     "name": "stdout",
     "output_type": "stream",
     "text": [
      "epoch 36 | loss: 0.2296  | train_mse: 0.17474 | train_mae: 0.32906 |  0:00:07s\n",
      "epoch 37 | loss: 0.25462 | train_mse: 0.17124 | train_mae: 0.31943 |  0:00:07s\n",
      "epoch 38 | loss: 0.2455  | train_mse: 0.18247 | train_mae: 0.32755 |  0:00:07s\n"
     ]
    },
    {
     "name": "stdout",
     "output_type": "stream",
     "text": [
      "epoch 39 | loss: 0.17733 | train_mse: 0.18578 | train_mae: 0.32922 |  0:00:07s\n",
      "epoch 40 | loss: 0.20519 | train_mse: 0.16838 | train_mae: 0.31358 |  0:00:07s\n",
      "epoch 41 | loss: 0.19796 | train_mse: 0.16097 | train_mae: 0.31542 |  0:00:07s\n",
      "epoch 42 | loss: 0.27616 | train_mse: 0.1494  | train_mae: 0.30702 |  0:00:07s\n"
     ]
    },
    {
     "name": "stdout",
     "output_type": "stream",
     "text": [
      "epoch 43 | loss: 0.27353 | train_mse: 0.14329 | train_mae: 0.29561 |  0:00:07s\n",
      "epoch 44 | loss: 0.1492  | train_mse: 0.14263 | train_mae: 0.2939  |  0:00:07s\n",
      "epoch 45 | loss: 0.36528 | train_mse: 0.15007 | train_mae: 0.29729 |  0:00:07s\n",
      "epoch 46 | loss: 0.19742 | train_mse: 0.17276 | train_mae: 0.31636 |  0:00:07s\n"
     ]
    },
    {
     "name": "stdout",
     "output_type": "stream",
     "text": [
      "epoch 47 | loss: 0.1534  | train_mse: 0.18121 | train_mae: 0.31879 |  0:00:08s\n",
      "epoch 48 | loss: 0.18264 | train_mse: 0.15177 | train_mae: 0.29387 |  0:00:08s\n",
      "epoch 49 | loss: 0.19993 | train_mse: 0.13208 | train_mae: 0.2753  |  0:00:08s\n"
     ]
    },
    {
     "name": "stdout",
     "output_type": "stream",
     "text": [
      "epoch 50 | loss: 0.21206 | train_mse: 0.12263 | train_mae: 0.26542 |  0:00:08s\n",
      "epoch 51 | loss: 0.22876 | train_mse: 0.13505 | train_mae: 0.27872 |  0:00:08s\n",
      "epoch 52 | loss: 0.23511 | train_mse: 0.11453 | train_mae: 0.25651 |  0:00:08s\n"
     ]
    },
    {
     "name": "stdout",
     "output_type": "stream",
     "text": [
      "epoch 53 | loss: 0.18289 | train_mse: 0.09702 | train_mae: 0.24306 |  0:00:08s\n",
      "epoch 54 | loss: 0.16097 | train_mse: 0.12406 | train_mae: 0.26684 |  0:00:08s\n",
      "epoch 55 | loss: 0.13932 | train_mse: 0.1315  | train_mae: 0.27933 |  0:00:08s\n",
      "epoch 56 | loss: 0.11929 | train_mse: 0.10983 | train_mae: 0.26195 |  0:00:08s\n"
     ]
    },
    {
     "name": "stdout",
     "output_type": "stream",
     "text": [
      "epoch 57 | loss: 0.17671 | train_mse: 0.09451 | train_mae: 0.24875 |  0:00:08s\n",
      "epoch 58 | loss: 0.15915 | train_mse: 0.08488 | train_mae: 0.23156 |  0:00:08s\n",
      "epoch 59 | loss: 0.14178 | train_mse: 0.09062 | train_mae: 0.23694 |  0:00:08s\n",
      "epoch 60 | loss: 0.17077 | train_mse: 0.11244 | train_mae: 0.2586  |  0:00:08s\n"
     ]
    },
    {
     "name": "stdout",
     "output_type": "stream",
     "text": [
      "epoch 61 | loss: 0.16133 | train_mse: 0.13456 | train_mae: 0.28525 |  0:00:08s\n",
      "epoch 62 | loss: 0.19281 | train_mse: 0.1331  | train_mae: 0.28923 |  0:00:09s\n",
      "epoch 63 | loss: 0.123   | train_mse: 0.09918 | train_mae: 0.25432 |  0:00:09s\n",
      "epoch 64 | loss: 0.14588 | train_mse: 0.1195  | train_mae: 0.2736  |  0:00:09s\n"
     ]
    },
    {
     "name": "stdout",
     "output_type": "stream",
     "text": [
      "epoch 65 | loss: 0.12421 | train_mse: 0.15503 | train_mae: 0.29613 |  0:00:09s\n",
      "epoch 66 | loss: 0.13293 | train_mse: 0.20179 | train_mae: 0.31074 |  0:00:09s\n",
      "epoch 67 | loss: 0.18207 | train_mse: 0.23551 | train_mae: 0.32515 |  0:00:09s\n"
     ]
    },
    {
     "name": "stdout",
     "output_type": "stream",
     "text": [
      "epoch 68 | loss: 0.23184 | train_mse: 0.22317 | train_mae: 0.32862 |  0:00:09s\n",
      "epoch 69 | loss: 0.45737 | train_mse: 0.17646 | train_mae: 0.30558 |  0:00:09s\n",
      "epoch 70 | loss: 0.12857 | train_mse: 0.19831 | train_mae: 0.31962 |  0:00:09s\n",
      "epoch 71 | loss: 0.16416 | train_mse: 0.24303 | train_mae: 0.33807 |  0:00:09s\n"
     ]
    },
    {
     "name": "stdout",
     "output_type": "stream",
     "text": [
      "epoch 72 | loss: 0.11752 | train_mse: 0.23516 | train_mae: 0.33141 |  0:00:09s\n",
      "epoch 73 | loss: 0.14673 | train_mse: 0.22671 | train_mae: 0.32231 |  0:00:09s\n",
      "epoch 74 | loss: 0.21507 | train_mse: 0.1482  | train_mae: 0.28091 |  0:00:09s\n",
      "epoch 75 | loss: 0.10945 | train_mse: 0.12578 | train_mae: 0.27007 |  0:00:09s\n"
     ]
    },
    {
     "name": "stdout",
     "output_type": "stream",
     "text": [
      "epoch 76 | loss: 0.13664 | train_mse: 0.10895 | train_mae: 0.25877 |  0:00:09s\n",
      "epoch 77 | loss: 0.12563 | train_mse: 0.09698 | train_mae: 0.25027 |  0:00:10s\n",
      "epoch 78 | loss: 0.13054 | train_mse: 0.09791 | train_mae: 0.25187 |  0:00:10s\n",
      "epoch 79 | loss: 0.1021  | train_mse: 0.10202 | train_mae: 0.25759 |  0:00:10s\n"
     ]
    },
    {
     "name": "stdout",
     "output_type": "stream",
     "text": [
      "epoch 80 | loss: 0.23762 | train_mse: 0.11104 | train_mae: 0.26914 |  0:00:10s\n",
      "epoch 81 | loss: 0.26584 | train_mse: 0.12386 | train_mae: 0.2723  |  0:00:10s\n",
      "epoch 82 | loss: 0.22767 | train_mse: 0.14031 | train_mae: 0.26752 |  0:00:10s\n"
     ]
    },
    {
     "name": "stdout",
     "output_type": "stream",
     "text": [
      "epoch 83 | loss: 0.16069 | train_mse: 0.111   | train_mae: 0.25214 |  0:00:10s\n",
      "epoch 84 | loss: 0.13887 | train_mse: 0.09782 | train_mae: 0.25102 |  0:00:10s\n",
      "epoch 85 | loss: 0.10164 | train_mse: 0.08819 | train_mae: 0.24858 |  0:00:10s\n"
     ]
    },
    {
     "name": "stdout",
     "output_type": "stream",
     "text": [
      "epoch 86 | loss: 0.10893 | train_mse: 0.0801  | train_mae: 0.23537 |  0:00:10s\n",
      "epoch 87 | loss: 0.23002 | train_mse: 0.0776  | train_mae: 0.21521 |  0:00:10s\n",
      "epoch 88 | loss: 0.10053 | train_mse: 0.08529 | train_mae: 0.22063 |  0:00:10s\n",
      "epoch 89 | loss: 0.13524 | train_mse: 0.08186 | train_mae: 0.23081 |  0:00:10s\n"
     ]
    },
    {
     "name": "stdout",
     "output_type": "stream",
     "text": [
      "epoch 90 | loss: 0.16978 | train_mse: 0.07722 | train_mae: 0.2158  |  0:00:10s\n",
      "epoch 91 | loss: 0.13944 | train_mse: 0.08418 | train_mae: 0.21859 |  0:00:10s\n",
      "epoch 92 | loss: 0.1226  | train_mse: 0.08227 | train_mae: 0.22258 |  0:00:11s\n",
      "epoch 93 | loss: 0.08052 | train_mse: 0.07823 | train_mae: 0.22853 |  0:00:11s\n"
     ]
    },
    {
     "name": "stdout",
     "output_type": "stream",
     "text": [
      "epoch 94 | loss: 0.0885  | train_mse: 0.07961 | train_mae: 0.23168 |  0:00:11s\n",
      "epoch 95 | loss: 0.09325 | train_mse: 0.07237 | train_mae: 0.21934 |  0:00:11s\n",
      "epoch 96 | loss: 0.15202 | train_mse: 0.0638  | train_mae: 0.20307 |  0:00:11s\n"
     ]
    },
    {
     "name": "stdout",
     "output_type": "stream",
     "text": [
      "epoch 97 | loss: 0.11069 | train_mse: 0.06284 | train_mae: 0.20106 |  0:00:11s\n",
      "epoch 98 | loss: 0.14559 | train_mse: 0.0687  | train_mae: 0.21719 |  0:00:11s\n",
      "epoch 99 | loss: 0.10194 | train_mse: 0.0741  | train_mae: 0.22994 |  0:00:11s\n"
     ]
    },
    {
     "name": "stdout",
     "output_type": "stream",
     "text": [
      "epoch 100| loss: 0.13019 | train_mse: 0.07894 | train_mae: 0.22296 |  0:00:11s\n",
      "epoch 101| loss: 0.08996 | train_mse: 0.07514 | train_mae: 0.2245  |  0:00:11s\n",
      "epoch 102| loss: 0.12234 | train_mse: 0.06726 | train_mae: 0.21363 |  0:00:11s\n"
     ]
    },
    {
     "name": "stdout",
     "output_type": "stream",
     "text": [
      "epoch 103| loss: 0.16817 | train_mse: 0.06936 | train_mae: 0.22216 |  0:00:12s\n"
     ]
    },
    {
     "name": "stdout",
     "output_type": "stream",
     "text": [
      "epoch 104| loss: 0.07684 | train_mse: 0.07455 | train_mae: 0.23339 |  0:00:12s\n",
      "epoch 105| loss: 0.09706 | train_mse: 0.07429 | train_mae: 0.23223 |  0:00:12s\n"
     ]
    },
    {
     "name": "stdout",
     "output_type": "stream",
     "text": [
      "epoch 106| loss: 0.18386 | train_mse: 0.07528 | train_mae: 0.22587 |  0:00:12s\n",
      "epoch 107| loss: 0.09891 | train_mse: 0.07348 | train_mae: 0.22881 |  0:00:12s\n"
     ]
    },
    {
     "name": "stdout",
     "output_type": "stream",
     "text": [
      "epoch 108| loss: 0.11837 | train_mse: 0.07211 | train_mae: 0.23063 |  0:00:12s\n",
      "epoch 109| loss: 0.08488 | train_mse: 0.0636  | train_mae: 0.21076 |  0:00:12s\n"
     ]
    },
    {
     "name": "stdout",
     "output_type": "stream",
     "text": [
      "epoch 110| loss: 0.08269 | train_mse: 0.06278 | train_mae: 0.20715 |  0:00:13s\n",
      "epoch 111| loss: 0.16575 | train_mse: 0.05957 | train_mae: 0.20635 |  0:00:13s\n"
     ]
    },
    {
     "name": "stdout",
     "output_type": "stream",
     "text": [
      "epoch 112| loss: 0.15952 | train_mse: 0.06367 | train_mae: 0.21545 |  0:00:13s\n"
     ]
    },
    {
     "name": "stdout",
     "output_type": "stream",
     "text": [
      "epoch 113| loss: 0.13651 | train_mse: 0.06358 | train_mae: 0.2154  |  0:00:14s\n",
      "epoch 114| loss: 0.18623 | train_mse: 0.05808 | train_mae: 0.19757 |  0:00:14s\n"
     ]
    },
    {
     "name": "stdout",
     "output_type": "stream",
     "text": [
      "epoch 115| loss: 0.08554 | train_mse: 0.06639 | train_mae: 0.21031 |  0:00:14s\n",
      "epoch 116| loss: 0.10245 | train_mse: 0.06429 | train_mae: 0.21074 |  0:00:14s\n"
     ]
    },
    {
     "name": "stdout",
     "output_type": "stream",
     "text": [
      "epoch 117| loss: 0.14574 | train_mse: 0.07643 | train_mae: 0.2304  |  0:00:14s\n",
      "epoch 118| loss: 0.08665 | train_mse: 0.06325 | train_mae: 0.2085  |  0:00:15s\n"
     ]
    },
    {
     "name": "stdout",
     "output_type": "stream",
     "text": [
      "epoch 119| loss: 0.07749 | train_mse: 0.06519 | train_mae: 0.20257 |  0:00:15s\n"
     ]
    },
    {
     "name": "stdout",
     "output_type": "stream",
     "text": [
      "epoch 120| loss: 0.10236 | train_mse: 0.06442 | train_mae: 0.20013 |  0:00:15s\n",
      "epoch 121| loss: 0.10344 | train_mse: 0.06608 | train_mae: 0.20559 |  0:00:15s\n"
     ]
    },
    {
     "name": "stdout",
     "output_type": "stream",
     "text": [
      "epoch 122| loss: 0.11431 | train_mse: 0.06499 | train_mae: 0.19847 |  0:00:15s\n",
      "epoch 123| loss: 0.08389 | train_mse: 0.07157 | train_mae: 0.20402 |  0:00:15s\n"
     ]
    },
    {
     "name": "stdout",
     "output_type": "stream",
     "text": [
      "epoch 124| loss: 0.12405 | train_mse: 0.05936 | train_mae: 0.19512 |  0:00:16s\n",
      "epoch 125| loss: 0.09194 | train_mse: 0.05752 | train_mae: 0.19372 |  0:00:16s\n"
     ]
    },
    {
     "name": "stdout",
     "output_type": "stream",
     "text": [
      "epoch 126| loss: 0.0774  | train_mse: 0.07548 | train_mae: 0.20578 |  0:00:16s\n",
      "epoch 127| loss: 0.14597 | train_mse: 0.07158 | train_mae: 0.19931 |  0:00:16s\n",
      "epoch 128| loss: 0.09049 | train_mse: 0.0817  | train_mae: 0.20994 |  0:00:16s\n"
     ]
    },
    {
     "name": "stdout",
     "output_type": "stream",
     "text": [
      "epoch 129| loss: 0.09928 | train_mse: 0.0653  | train_mae: 0.20741 |  0:00:16s\n",
      "epoch 130| loss: 0.10371 | train_mse: 0.06431 | train_mae: 0.20759 |  0:00:16s\n",
      "epoch 131| loss: 0.15002 | train_mse: 0.06601 | train_mae: 0.20354 |  0:00:16s\n"
     ]
    },
    {
     "name": "stdout",
     "output_type": "stream",
     "text": [
      "epoch 132| loss: 0.09412 | train_mse: 0.09723 | train_mae: 0.22429 |  0:00:16s\n",
      "epoch 133| loss: 0.13868 | train_mse: 0.11866 | train_mae: 0.23273 |  0:00:16s\n",
      "epoch 134| loss: 0.12277 | train_mse: 0.12815 | train_mae: 0.24098 |  0:00:16s\n",
      "epoch 135| loss: 0.17236 | train_mse: 0.10005 | train_mae: 0.22023 |  0:00:17s\n"
     ]
    },
    {
     "name": "stdout",
     "output_type": "stream",
     "text": [
      "epoch 136| loss: 0.33638 | train_mse: 0.07531 | train_mae: 0.20021 |  0:00:17s\n",
      "epoch 137| loss: 0.12792 | train_mse: 0.06594 | train_mae: 0.19777 |  0:00:17s\n",
      "epoch 138| loss: 0.07709 | train_mse: 0.06996 | train_mae: 0.19951 |  0:00:17s\n"
     ]
    },
    {
     "name": "stdout",
     "output_type": "stream",
     "text": [
      "epoch 139| loss: 0.17596 | train_mse: 0.07646 | train_mae: 0.20707 |  0:00:17s\n",
      "epoch 140| loss: 0.07815 | train_mse: 0.06615 | train_mae: 0.19819 |  0:00:17s\n",
      "epoch 141| loss: 0.23541 | train_mse: 0.06177 | train_mae: 0.19527 |  0:00:17s\n"
     ]
    },
    {
     "name": "stdout",
     "output_type": "stream",
     "text": [
      "epoch 142| loss: 0.07402 | train_mse: 0.19022 | train_mae: 0.25815 |  0:00:17s\n",
      "epoch 143| loss: 0.10956 | train_mse: 0.33451 | train_mae: 0.31575 |  0:00:17s\n",
      "epoch 144| loss: 0.22477 | train_mse: 0.41988 | train_mae: 0.35117 |  0:00:17s\n",
      "epoch 145| loss: 0.32962 | train_mse: 0.37541 | train_mae: 0.3367  |  0:00:17s\n"
     ]
    },
    {
     "name": "stdout",
     "output_type": "stream",
     "text": [
      "epoch 146| loss: 0.32304 | train_mse: 0.35971 | train_mae: 0.32818 |  0:00:17s\n",
      "epoch 147| loss: 0.2887  | train_mse: 0.33273 | train_mae: 0.31224 |  0:00:17s\n",
      "epoch 148| loss: 0.29888 | train_mse: 0.32517 | train_mae: 0.32417 |  0:00:17s\n",
      "epoch 149| loss: 0.1493  | train_mse: 0.29067 | train_mae: 0.30829 |  0:00:17s\n"
     ]
    },
    {
     "name": "stdout",
     "output_type": "stream",
     "text": [
      "epoch 150| loss: 0.18678 | train_mse: 0.20142 | train_mae: 0.27559 |  0:00:18s\n",
      "epoch 151| loss: 0.10786 | train_mse: 0.16317 | train_mae: 0.25488 |  0:00:18s\n",
      "epoch 152| loss: 0.10639 | train_mse: 0.15466 | train_mae: 0.24619 |  0:00:18s\n",
      "epoch 153| loss: 0.17574 | train_mse: 0.1593  | train_mae: 0.25608 |  0:00:18s\n"
     ]
    },
    {
     "name": "stdout",
     "output_type": "stream",
     "text": [
      "epoch 154| loss: 0.1488  | train_mse: 0.14161 | train_mae: 0.2514  |  0:00:18s\n",
      "epoch 155| loss: 0.13847 | train_mse: 0.12734 | train_mae: 0.24989 |  0:00:18s\n",
      "epoch 156| loss: 0.13592 | train_mse: 0.15474 | train_mae: 0.27081 |  0:00:18s\n",
      "epoch 157| loss: 0.16516 | train_mse: 0.15172 | train_mae: 0.26886 |  0:00:18s\n"
     ]
    },
    {
     "name": "stdout",
     "output_type": "stream",
     "text": [
      "epoch 158| loss: 0.09176 | train_mse: 0.13132 | train_mae: 0.25434 |  0:00:18s\n",
      "epoch 159| loss: 0.214   | train_mse: 0.10751 | train_mae: 0.24244 |  0:00:18s\n",
      "epoch 160| loss: 0.11151 | train_mse: 0.10057 | train_mae: 0.23323 |  0:00:18s\n",
      "epoch 161| loss: 0.12116 | train_mse: 0.09271 | train_mae: 0.23139 |  0:00:18s\n"
     ]
    },
    {
     "name": "stdout",
     "output_type": "stream",
     "text": [
      "epoch 162| loss: 0.11817 | train_mse: 0.10038 | train_mae: 0.23741 |  0:00:18s\n",
      "epoch 163| loss: 0.14297 | train_mse: 0.11783 | train_mae: 0.25015 |  0:00:18s\n",
      "epoch 164| loss: 0.14776 | train_mse: 0.11359 | train_mae: 0.24597 |  0:00:18s\n"
     ]
    },
    {
     "name": "stdout",
     "output_type": "stream",
     "text": [
      "epoch 165| loss: 0.11021 | train_mse: 0.10682 | train_mae: 0.24055 |  0:00:19s\n",
      "epoch 166| loss: 0.13285 | train_mse: 0.0985  | train_mae: 0.23842 |  0:00:19s\n"
     ]
    },
    {
     "name": "stdout",
     "output_type": "stream",
     "text": [
      "epoch 167| loss: 0.14134 | train_mse: 0.10042 | train_mae: 0.23708 |  0:00:19s\n",
      "epoch 168| loss: 0.09759 | train_mse: 0.10823 | train_mae: 0.24247 |  0:00:19s\n"
     ]
    },
    {
     "name": "stdout",
     "output_type": "stream",
     "text": [
      "epoch 169| loss: 0.13715 | train_mse: 0.10998 | train_mae: 0.24254 |  0:00:19s\n",
      "epoch 170| loss: 0.09866 | train_mse: 0.16148 | train_mae: 0.27853 |  0:00:19s\n",
      "epoch 171| loss: 0.17258 | train_mse: 0.1365  | train_mae: 0.26773 |  0:00:20s\n"
     ]
    },
    {
     "name": "stdout",
     "output_type": "stream",
     "text": [
      "epoch 172| loss: 0.0901  | train_mse: 0.11179 | train_mae: 0.25901 |  0:00:20s\n",
      "epoch 173| loss: 0.10068 | train_mse: 0.10388 | train_mae: 0.24665 |  0:00:20s\n"
     ]
    },
    {
     "name": "stdout",
     "output_type": "stream",
     "text": [
      "epoch 174| loss: 0.22935 | train_mse: 0.08632 | train_mae: 0.23786 |  0:00:20s\n"
     ]
    },
    {
     "name": "stdout",
     "output_type": "stream",
     "text": [
      "epoch 175| loss: 0.27042 | train_mse: 0.092   | train_mae: 0.23915 |  0:00:20s\n",
      "\n",
      "Early stopping occurred at epoch 175 with best_epoch = 125 and best_train_mae = 0.19372\n",
      "Best weights from best epoch are automatically used!\n",
      "BEST VALID SCORE FOR dataset : 0.19372300308756793\n",
      "FINAL TEST SCORE FOR dataset: 0.6959107785373776\n",
      "{'loss': [0.9486618280410767, 0.37174991965293885, 0.6275876939296723, 0.40314708948135375, 0.4997536540031433, 0.40053242444992065, 0.4287731647491455, 0.4191768765449524, 0.3265135109424591, 0.3598199188709259, 0.3875771701335907, 0.3111437141895294, 0.39450655579566957, 0.34581990242004396, 0.34399141669273375, 0.31617690324783326, 0.2951367676258087, 0.23203653693199158, 0.2740682527422905, 0.2907605111598969, 0.3236919671297073, 0.319834953546524, 0.21115159392356872, 0.26304360628128054, 0.18744669258594512, 0.16635302305221558, 0.1903672993183136, 0.21961233019828796, 0.151315575838089, 0.2594166278839111, 0.34698066115379333, 0.1930653929710388, 0.14602920264005662, 0.29230896234512327, 0.188250732421875, 0.23389121294021606, 0.2295974910259247, 0.25462052822113035, 0.24550187587738037, 0.1773265391588211, 0.2051854431629181, 0.19796413779258729, 0.27616080939769744, 0.27352885603904725, 0.1492027908563614, 0.3652841612696648, 0.1974194899201393, 0.15340368151664735, 0.18263739347457886, 0.19993307888507844, 0.21206207871437072, 0.22875629663467406, 0.23510628342628478, 0.18288629353046418, 0.1609741121530533, 0.13931558430194854, 0.11928549408912659, 0.1767119824886322, 0.15914527773857118, 0.14178054332733153, 0.17076516151428223, 0.16132773756980895, 0.19281459748744964, 0.12300214767456055, 0.14588114619255066, 0.12421189546585083, 0.13292870819568633, 0.18206638395786284, 0.2318406879901886, 0.4573748350143433, 0.12856798470020295, 0.16416236460208894, 0.11752495020627976, 0.146734881401062, 0.21507369577884675, 0.10944764018058777, 0.13663845658302307, 0.12563203573226928, 0.13053858876228333, 0.10210224688053131, 0.2376239001750946, 0.26584486961364745, 0.22767182886600495, 0.16069147661328315, 0.13886741548776627, 0.1016391396522522, 0.10892539918422699, 0.23002225756645203, 0.10053163766860962, 0.1352423459291458, 0.16978226751089096, 0.13944236636161805, 0.12259860038757324, 0.08052497059106827, 0.08849561661481857, 0.093247789144516, 0.15201584100723267, 0.11068507507443429, 0.14559347033500672, 0.1019384354352951, 0.13019022345542908, 0.08996240198612213, 0.12234392762184143, 0.16817373484373094, 0.076844422519207, 0.09705792963504792, 0.18385954797267914, 0.09891049861907959, 0.11837489902973175, 0.08487541675567627, 0.08269439339637756, 0.16575303673744202, 0.15952124446630478, 0.13650501966476442, 0.18623291254043578, 0.08553698807954788, 0.10244856774806976, 0.14573509395122528, 0.08664675205945968, 0.07749306559562683, 0.10235911160707474, 0.10344424396753311, 0.11431187391281128, 0.0838891625404358, 0.12404795289039612, 0.09194130897521972, 0.07740161865949631, 0.14596643745899202, 0.09049220383167267, 0.09927840530872345, 0.10371264070272446, 0.15002125799655913, 0.09412088692188263, 0.13868112862110138, 0.12277298867702484, 0.17235513776540756, 0.3363786220550537, 0.12792218774557113, 0.07709119766950608, 0.1759590297937393, 0.07814536467194558, 0.23541459143161775, 0.07401929274201394, 0.10956499874591827, 0.22476622089743614, 0.3296160101890564, 0.3230444625020027, 0.2886961579322815, 0.29888283014297484, 0.14929836392402648, 0.18678449392318724, 0.10785509347915649, 0.10638573467731476, 0.1757356822490692, 0.14880481213331223, 0.13846524953842163, 0.1359152764081955, 0.16515704095363617, 0.09176014512777328, 0.21399514079093934, 0.11151038408279419, 0.12115545570850372, 0.11817261725664138, 0.14297314882278442, 0.14775530993938446, 0.11020670533180237, 0.13284873515367507, 0.14133991599082946, 0.09758827090263367, 0.137149578332901, 0.09866232872009277, 0.17257717549800872, 0.09009915590286255, 0.10068056881427764, 0.22934854924678802, 0.27041780948638916], 'lr': [0.02, 0.02, 0.02, 0.02, 0.02, 0.02, 0.02, 0.02, 0.02, 0.02, 0.02, 0.02, 0.02, 0.02, 0.02, 0.02, 0.02, 0.02, 0.02, 0.02, 0.02, 0.02, 0.02, 0.02, 0.02, 0.02, 0.02, 0.02, 0.02, 0.02, 0.02, 0.02, 0.02, 0.02, 0.02, 0.02, 0.02, 0.02, 0.02, 0.02, 0.02, 0.02, 0.02, 0.02, 0.02, 0.02, 0.02, 0.02, 0.02, 0.02, 0.02, 0.02, 0.02, 0.02, 0.02, 0.02, 0.02, 0.02, 0.02, 0.02, 0.02, 0.02, 0.02, 0.02, 0.02, 0.02, 0.02, 0.02, 0.02, 0.02, 0.02, 0.02, 0.02, 0.02, 0.02, 0.02, 0.02, 0.02, 0.02, 0.02, 0.02, 0.02, 0.02, 0.02, 0.02, 0.02, 0.02, 0.02, 0.02, 0.02, 0.02, 0.02, 0.02, 0.02, 0.02, 0.02, 0.02, 0.02, 0.02, 0.02, 0.02, 0.02, 0.02, 0.02, 0.02, 0.02, 0.02, 0.02, 0.02, 0.02, 0.02, 0.02, 0.02, 0.02, 0.02, 0.02, 0.02, 0.02, 0.02, 0.02, 0.02, 0.02, 0.02, 0.02, 0.02, 0.02, 0.02, 0.02, 0.02, 0.02, 0.02, 0.02, 0.02, 0.02, 0.02, 0.02, 0.02, 0.02, 0.02, 0.02, 0.02, 0.02, 0.02, 0.02, 0.02, 0.02, 0.02, 0.02, 0.02, 0.02, 0.02, 0.02, 0.02, 0.02, 0.02, 0.02, 0.02, 0.02, 0.02, 0.02, 0.02, 0.02, 0.02, 0.02, 0.02, 0.02, 0.02, 0.02, 0.02, 0.02, 0.02, 0.02, 0.02, 0.02, 0.02, 0.02], 'train_mse': [3.846641180529791, 4.168364567978872, 5.095129465618767, 1.6740859392085121, 1.1490439913632469, 1.3634423175072805, 1.018331435801994, 0.6124547230891609, 0.4604776070657451, 0.36849930800387504, 0.2875713588112187, 0.43394829126764173, 0.46759123267398517, 0.3318030939932485, 0.29754231723945207, 0.24769399870437198, 0.22052290555196058, 0.2537112241943366, 0.25484957610955367, 0.21555707453020298, 0.23532946324939222, 0.23998893501598503, 0.20559266418714292, 0.1965467230898919, 0.28097056524066233, 0.23976834775333536, 0.1957582348959666, 0.1865459303760387, 0.16813966339849046, 0.1390375002073633, 0.16514075157990324, 0.16614652985738104, 0.20292443322523526, 0.20324844101113593, 0.18650921948108973, 0.1610661119643558, 0.17474275396710817, 0.17123672930593975, 0.18247444502686452, 0.18578422021162816, 0.16837916126710217, 0.16097498253904058, 0.14939773988495467, 0.14328730144768084, 0.14262816966833006, 0.15006641717711075, 0.17276360615400857, 0.1812098254860394, 0.1517743185149892, 0.13208408172989086, 0.12262644404999687, 0.1350530881446279, 0.11453155744789048, 0.0970243015331261, 0.12405983371073588, 0.13150098351244277, 0.10982603068250019, 0.09450538368436194, 0.08488087480808656, 0.09062024980429015, 0.11244341101988883, 0.13456145132360967, 0.1331008478281868, 0.09917845029626364, 0.11950379410201058, 0.1550333483068147, 0.20178759635705285, 0.23550526404614613, 0.2231732773917913, 0.17646433162669067, 0.19830617850323987, 0.2430272217032911, 0.23516498329366628, 0.22670779981843187, 0.14820049248638792, 0.12578487269309727, 0.1089473761350509, 0.09698316923627266, 0.09790593195977865, 0.10202322883635313, 0.11104181322739168, 0.1238577205287894, 0.14031089669094174, 0.11099591275976743, 0.0978165279803109, 0.08819420013741244, 0.08010069897852143, 0.07760207076884051, 0.08528665056983295, 0.08186275525358162, 0.07721920458288238, 0.08418469544545201, 0.0822738548682677, 0.07822761542537111, 0.07960896978235328, 0.07237296134325652, 0.06380176320992773, 0.06283683977134939, 0.06870081478327515, 0.07409902962250825, 0.07893776035978108, 0.0751427476611894, 0.06725747457220164, 0.06935648899025729, 0.07455206419108094, 0.07429125353026658, 0.07528296105944955, 0.07348225774860775, 0.07211419079385764, 0.06359960492026581, 0.0627794048679775, 0.0595719809462524, 0.06366655292495879, 0.0635765159681337, 0.058082166712203454, 0.06638578970271489, 0.06429006072108583, 0.07643125635486062, 0.06324605574996586, 0.06518680377913492, 0.06442272751111221, 0.06608037469834727, 0.06499043232018112, 0.07157185771532928, 0.05935519549382231, 0.057522624102698185, 0.07548484775548939, 0.07158268429611189, 0.08170251118177771, 0.06529978386382791, 0.06431496262404267, 0.06601307361002651, 0.09722630469954438, 0.1186574149724973, 0.12814573575173646, 0.10004556534832014, 0.07531443757161291, 0.06594478826501503, 0.0699607500053877, 0.07646260848638907, 0.06615193992659352, 0.0617667896266038, 0.19021647508779277, 0.3345080514281542, 0.41988399121705305, 0.3754108674185811, 0.3597102081841501, 0.33272749973103044, 0.3251721413903287, 0.2906659895341838, 0.20142333750972222, 0.16317388581632244, 0.15466482198414253, 0.1592983982320916, 0.14160534504071315, 0.12733820886267527, 0.1547392642274281, 0.15171748922923423, 0.1313176877757084, 0.10751281563628359, 0.10056609372177205, 0.09271403220084763, 0.10037705789459746, 0.11783254467001807, 0.1135852361220843, 0.10681946357992492, 0.09850489097463813, 0.10041876457354308, 0.10822793883618691, 0.10997663173996512, 0.16147694828712877, 0.13650200957069944, 0.11178903675580212, 0.10388249598965035, 0.08631545075115157, 0.09199837638350253], 'train_mae': [1.5284100381256889, 1.5547317898336128, 1.6610530306199187, 0.9604395071702481, 0.8323818340765552, 0.92704684499442, 0.7838088776032893, 0.604371539596314, 0.5398841412199372, 0.4887055758145613, 0.4230208023278018, 0.48653790112279705, 0.5095513335759987, 0.4415299914627946, 0.4361334194256199, 0.38533468470407606, 0.3579728213950903, 0.36226248415805207, 0.37767661814779274, 0.359201915105932, 0.3707624568836402, 0.3730612674096568, 0.35679738430539276, 0.3430173654554645, 0.38096343222058415, 0.35131915560780735, 0.31229338893462, 0.32123816025018787, 0.31379572951607565, 0.2899519329929401, 0.2948982506925323, 0.2994662234406586, 0.32848212457794324, 0.3315088492479138, 0.32259323086481473, 0.31910567539251533, 0.3290561319472839, 0.3194254466178318, 0.32755081258962643, 0.3292153494083782, 0.3135784892612527, 0.315424690379312, 0.3070175418050867, 0.29560921370518956, 0.29390206151066245, 0.29729222356466656, 0.3163585514330515, 0.31878735782272105, 0.2938748199237541, 0.27529501151988844, 0.26541798056739563, 0.2787235483492392, 0.25650591626312824, 0.24305767430911374, 0.26683923237520385, 0.27933374631617436, 0.26194874334300916, 0.2487531519611749, 0.23155726488670814, 0.2369365465714391, 0.25860364833222016, 0.28524875186921655, 0.2892289109310062, 0.2543181990200857, 0.27360468634245405, 0.2961270832017616, 0.3107405120379184, 0.3251531585771552, 0.328621382232302, 0.3055789691559353, 0.31962323521965375, 0.33806591283872356, 0.3314075207319217, 0.3223068948038029, 0.28091155328140294, 0.2700680855593672, 0.2587662807340705, 0.250265313954555, 0.25187365356417735, 0.2575866041049351, 0.26913645581851897, 0.2722960766804136, 0.26752441306862373, 0.2521396124034791, 0.2510202288696, 0.24857991511429461, 0.23537098113296134, 0.2152099562846285, 0.22062757549974038, 0.23080689492176704, 0.2157956126577772, 0.21859317854259777, 0.22258248716859805, 0.22853406653785946, 0.23168433791596765, 0.21934275341265597, 0.20306851296933798, 0.2010632501124018, 0.2171903711610937, 0.22994078137512278, 0.22296154647559296, 0.22450273153178468, 0.2136251217088855, 0.22215788717323198, 0.2333863363844042, 0.23223255413549712, 0.22586655097256075, 0.22880779772545382, 0.23063229840274566, 0.2107605377193257, 0.20714742263276698, 0.20634852750571434, 0.21545071603247462, 0.21539561833229773, 0.19756790607469443, 0.21031220624873556, 0.21074454180123098, 0.23039616585131983, 0.20849815859820847, 0.20257350661941403, 0.20013078309564455, 0.20558752890870596, 0.19847192130358218, 0.20402196567388278, 0.19512248815790173, 0.19372300308756793, 0.20577606782422242, 0.1993076779467046, 0.209939100371328, 0.2074146655771137, 0.20759402482798722, 0.20353859631439358, 0.22428887371255585, 0.23273227502261662, 0.24097695949671039, 0.22023175002343426, 0.20020941471349127, 0.1977673398434438, 0.19950575893523062, 0.20707269332437256, 0.1981895238084845, 0.195272232357826, 0.25814945297637515, 0.3157503446661992, 0.3511718176047998, 0.3366999384783611, 0.32818390898986355, 0.31223631783322736, 0.3241680187440682, 0.30829017340711473, 0.2755896648228711, 0.2548802850970019, 0.24619299440750408, 0.2560788382923434, 0.2514048305415185, 0.2498892580128101, 0.27081078035582995, 0.26886197948813223, 0.25434188480601116, 0.24243690866561565, 0.23322990480962708, 0.2313859840116829, 0.2374067723561682, 0.25015042156791334, 0.24597297008698585, 0.2405450105520354, 0.2384242735648253, 0.2370811242706457, 0.2424705001172907, 0.24253688525487016, 0.2785306196238744, 0.26772807290540135, 0.25901213202824386, 0.24665442397372636, 0.23786278153862925, 0.23914786810827365]}\n"
     ]
    },
    {
     "data": {
      "application/scrapbook.scrap.json+json": {
       "data": 0.6959107785373776,
       "encoder": "json",
       "name": "TabNet MAE",
       "version": 1
      }
     },
     "metadata": {
      "scrapbook": {
       "data": true,
       "display": false,
       "name": "TabNet MAE"
      }
     },
     "output_type": "display_data"
    },
    {
     "data": {
      "image/png": "[encoded data removed]",
      "text/plain": [
       "<Figure size 432x288 with 1 Axes>"
      ]
     },
     "metadata": {
      "needs_background": "light"
     },
     "output_type": "display_data"
    }
   ],
   "source": [
    "lr = 0.02\n",
    "\n",
    "print(y_train.shape)\n",
    "y_train = np.reshape(y_train, (-1, 1))\n",
    "y_test = np.reshape(y_test, (-1, 1))\n",
    "\n",
    "device = torch.device('cuda' if torch.cuda.is_available() else 'cpu')\n",
    "mae_tab= baselineModels.tabnetreg(X_train,y_train,X_test,y_test,batch_size,n_features,n_target,n_epochs, lr)\n",
    "sb.glue(\"TabNet MAE\",mae_tab)"
   ]
  }
 ],
 "metadata": {
  "interpreter": {
   "hash": "10498c76ddd8160350534c6544a2b2fb65f2138dbc70420f7c81a3268f830f23"
  },
  "kernelspec": {
   "display_name": "Python 3",
   "language": "python",
   "name": "python3"
  },
  "language_info": {
   "codemirror_mode": {
    "name": "ipython",
    "version": 3
   },
   "file_extension": ".py",
   "mimetype": "text/x-python",
   "name": "python",
   "nbconvert_exporter": "python",
   "pygments_lexer": "ipython3",
   "version": "3.8.3"
  },
  "papermill": {
   "default_parameters": {},
   "duration": 36.181654,
   "end_time": "2022-06-22T10:46:34.037462",
   "environment_variables": {},
   "exception": null,
   "input_path": "BaselineModels.ipynb",
   "output_path": "./BaseLine_Model_Output/BaselineModels_output_1.ipynb",
   "parameters": {},
   "start_time": "2022-06-22T10:45:57.855808",
   "version": "2.3.3"
  }
 },
 "nbformat": 4,
 "nbformat_minor": 5
}