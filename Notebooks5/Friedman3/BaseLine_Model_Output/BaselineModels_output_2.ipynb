{
 "cells": [
  {
   "cell_type": "markdown",
   "id": "550e020a",
   "metadata": {
    "papermill": {
     "duration": 0.013859,
     "end_time": "2022-06-22T10:46:39.241706",
     "exception": false,
     "start_time": "2022-06-22T10:46:39.227847",
     "status": "completed"
    },
    "tags": []
   },
   "source": [
    "## Import Libraries "
   ]
  },
  {
   "cell_type": "code",
   "execution_count": 1,
   "id": "71198f2b",
   "metadata": {
    "execution": {
     "iopub.execute_input": "2022-06-22T10:46:39.346716Z",
     "iopub.status.busy": "2022-06-22T10:46:39.340257Z",
     "iopub.status.idle": "2022-06-22T10:46:39.355360Z",
     "shell.execute_reply": "2022-06-22T10:46:39.351551Z"
    },
    "papermill": {
     "duration": 0.107466,
     "end_time": "2022-06-22T10:46:39.357626",
     "exception": false,
     "start_time": "2022-06-22T10:46:39.250160",
     "status": "completed"
    },
    "tags": []
   },
   "outputs": [],
   "source": [
    "import warnings\n",
    "import sys\n",
    "sys.path.insert(0, '../../src')\n",
    "warnings.filterwarnings('ignore')"
   ]
  },
  {
   "cell_type": "code",
   "execution_count": 2,
   "id": "4a5a747f",
   "metadata": {
    "execution": {
     "iopub.execute_input": "2022-06-22T10:46:39.399938Z",
     "iopub.status.busy": "2022-06-22T10:46:39.395536Z",
     "iopub.status.idle": "2022-06-22T10:46:52.081884Z",
     "shell.execute_reply": "2022-06-22T10:46:52.082797Z"
    },
    "papermill": {
     "duration": 12.715137,
     "end_time": "2022-06-22T10:46:52.083433",
     "exception": false,
     "start_time": "2022-06-22T10:46:39.368296",
     "status": "completed"
    },
    "tags": []
   },
   "outputs": [],
   "source": [
    "import statsModel\n",
    "import scrapbook as sb \n",
    "import torch \n",
    "import statsModel\n",
    "import baselineModels\n",
    "import friedman3Dataset\n",
    "import dataset \n",
    "from torch.utils.data import random_split \n",
    "from sklearn.model_selection import train_test_split\n",
    "import numpy as np"
   ]
  },
  {
   "cell_type": "markdown",
   "id": "c416b5d6",
   "metadata": {
    "papermill": {
     "duration": 0.012281,
     "end_time": "2022-06-22T10:46:52.106470",
     "exception": false,
     "start_time": "2022-06-22T10:46:52.094189",
     "status": "completed"
    },
    "tags": []
   },
   "source": [
    "## Import Dataset \n"
   ]
  },
  {
   "cell_type": "code",
   "execution_count": 3,
   "id": "d2849af1",
   "metadata": {
    "execution": {
     "iopub.execute_input": "2022-06-22T10:46:52.149809Z",
     "iopub.status.busy": "2022-06-22T10:46:52.148853Z",
     "iopub.status.idle": "2022-06-22T10:46:52.165847Z",
     "shell.execute_reply": "2022-06-22T10:46:52.166413Z"
    },
    "papermill": {
     "duration": 0.033093,
     "end_time": "2022-06-22T10:46:52.166649",
     "exception": false,
     "start_time": "2022-06-22T10:46:52.133556",
     "status": "completed"
    },
    "tags": []
   },
   "outputs": [
    {
     "name": "stdout",
     "output_type": "stream",
     "text": [
      "          X1           X2        X3        X4         Y\n",
      "0  53.761559  1085.861225  0.224363  9.602952  1.266758\n",
      "1  65.741081   776.661381  0.077505  9.198455  0.649581\n",
      "2  58.089165   784.290052  0.262642  7.696900  1.259443\n",
      "3  32.636396  1327.356701  0.173619  5.498447  1.215152\n",
      "4   4.696168   646.879215  0.758176  3.324735  1.450458\n"
     ]
    }
   ],
   "source": [
    "n_features = 4\n",
    "n_samples= 100\n",
    "n_target = 1\n",
    "X,Y = friedman3Dataset.friedman3_data(n_samples)"
   ]
  },
  {
   "cell_type": "code",
   "execution_count": 4,
   "id": "dbac6af4",
   "metadata": {
    "execution": {
     "iopub.execute_input": "2022-06-22T10:46:52.192596Z",
     "iopub.status.busy": "2022-06-22T10:46:52.191745Z",
     "iopub.status.idle": "2022-06-22T10:46:52.196691Z",
     "shell.execute_reply": "2022-06-22T10:46:52.197453Z"
    },
    "papermill": {
     "duration": 0.021526,
     "end_time": "2022-06-22T10:46:52.197676",
     "exception": false,
     "start_time": "2022-06-22T10:46:52.176150",
     "status": "completed"
    },
    "tags": []
   },
   "outputs": [
    {
     "name": "stdout",
     "output_type": "stream",
     "text": [
      "(100, 4)\n",
      "(100,)\n",
      "(80, 4)\n",
      "(80,)\n",
      "(20, 4)\n",
      "(20,)\n"
     ]
    }
   ],
   "source": [
    "# Train test split for dataset \n",
    "real_dataset = dataset.CustomDataset(X,Y)\n",
    "\n",
    "print(X.shape)\n",
    "print(Y.shape)\n",
    "X_train, X_test, y_train, y_test = train_test_split(X, Y, test_size=0.2)\n",
    "\n",
    "print(X_train.shape)\n",
    "print(y_train.shape)\n",
    "print(X_test.shape)\n",
    "print(y_test.shape)"
   ]
  },
  {
   "cell_type": "markdown",
   "id": "91808eb5",
   "metadata": {
    "papermill": {
     "duration": 0.015058,
     "end_time": "2022-06-22T10:46:52.221925",
     "exception": false,
     "start_time": "2022-06-22T10:46:52.206867",
     "status": "completed"
    },
    "tags": []
   },
   "source": [
    "## Stats Model \n",
    "\n"
   ]
  },
  {
   "cell_type": "code",
   "execution_count": 5,
   "id": "c541cf76",
   "metadata": {
    "execution": {
     "iopub.execute_input": "2022-06-22T10:46:52.255297Z",
     "iopub.status.busy": "2022-06-22T10:46:52.253987Z",
     "iopub.status.idle": "2022-06-22T10:46:52.577120Z",
     "shell.execute_reply": "2022-06-22T10:46:52.577876Z"
    },
    "papermill": {
     "duration": 0.346312,
     "end_time": "2022-06-22T10:46:52.578115",
     "exception": false,
     "start_time": "2022-06-22T10:46:52.231803",
     "status": "completed"
    },
    "tags": []
   },
   "outputs": [
    {
     "name": "stderr",
     "output_type": "stream",
     "text": [
      "No handles with labels found to put in legend.\n"
     ]
    },
    {
     "name": "stdout",
     "output_type": "stream",
     "text": [
      "                                 OLS Regression Results                                \n",
      "=======================================================================================\n",
      "Dep. Variable:                      y   R-squared (uncentered):                   0.514\n",
      "Model:                            OLS   Adj. R-squared (uncentered):              0.489\n",
      "Method:                 Least Squares   F-statistic:                              20.11\n",
      "Date:                Wed, 22 Jun 2022   Prob (F-statistic):                    2.51e-11\n",
      "Time:                        16:16:52   Log-Likelihood:                         -84.476\n",
      "No. Observations:                  80   AIC:                                      177.0\n",
      "Df Residuals:                      76   BIC:                                      186.5\n",
      "Df Model:                           4                                                  \n",
      "Covariance Type:            nonrobust                                                  \n",
      "==============================================================================\n",
      "                 coef    std err          t      P>|t|      [0.025      0.975]\n",
      "------------------------------------------------------------------------------\n",
      "x1            -0.2079      0.080     -2.590      0.011      -0.368      -0.048\n",
      "x2             0.3009      0.080      3.784      0.000       0.143       0.459\n",
      "x3             0.6388      0.080      7.942      0.000       0.479       0.799\n",
      "x4             0.0715      0.079      0.900      0.371      -0.087       0.230\n",
      "==============================================================================\n",
      "Omnibus:                       20.586   Durbin-Watson:                   1.831\n",
      "Prob(Omnibus):                  0.000   Jarque-Bera (JB):               29.276\n",
      "Skew:                          -1.098   Prob(JB):                     4.39e-07\n",
      "Kurtosis:                       4.991   Cond. No.                         1.21\n",
      "==============================================================================\n",
      "\n",
      "Notes:\n",
      "[1] R² is computed without centering (uncentered) since the model does not contain a constant.\n",
      "[2] Standard Errors assume that the covariance matrix of the errors is correctly specified.\n"
     ]
    },
    {
     "data": {
      "image/png": "[encoded data removed]",
      "text/plain": [
       "<Figure size 432x288 with 1 Axes>"
      ]
     },
     "metadata": {
      "needs_background": "light"
     },
     "output_type": "display_data"
    },
    {
     "name": "stdout",
     "output_type": "stream",
     "text": [
      "Performance Metrics\n",
      "Mean Squared Error: 0.40990628030106624\n",
      "Mean Absolute Error: 0.46654203816945683\n",
      "Manhattan distance: 9.330840763389137\n",
      "Euclidean distance: 2.863236910564916\n"
     ]
    },
    {
     "data": {
      "application/scrapbook.scrap.json+json": {
       "data": 0.40990628030106624,
       "encoder": "json",
       "name": "Stats Model MSE",
       "version": 1
      }
     },
     "metadata": {
      "scrapbook": {
       "data": true,
       "display": false,
       "name": "Stats Model MSE"
      }
     },
     "output_type": "display_data"
    },
    {
     "data": {
      "application/scrapbook.scrap.json+json": {
       "data": 0.46654203816945683,
       "encoder": "json",
       "name": "Stats Model MAE",
       "version": 1
      }
     },
     "metadata": {
      "scrapbook": {
       "data": true,
       "display": false,
       "name": "Stats Model MAE"
      }
     },
     "output_type": "display_data"
    },
    {
     "data": {
      "application/scrapbook.scrap.json+json": {
       "data": 9.330840763389137,
       "encoder": "json",
       "name": "Stats Model Manhattan Distance",
       "version": 1
      }
     },
     "metadata": {
      "scrapbook": {
       "data": true,
       "display": false,
       "name": "Stats Model Manhattan Distance"
      }
     },
     "output_type": "display_data"
    },
    {
     "data": {
      "application/scrapbook.scrap.json+json": {
       "data": 2.863236910564916,
       "encoder": "json",
       "name": "Stats Model Euclidean distance",
       "version": 1
      }
     },
     "metadata": {
      "scrapbook": {
       "data": true,
       "display": false,
       "name": "Stats Model Euclidean distance"
      }
     },
     "output_type": "display_data"
    },
    {
     "data": {
      "application/scrapbook.scrap.json+json": {
       "data": [
        -0.2079044975727802,
        0.3009109812465368,
        0.6388213848895303,
        0.0714939442643732
       ],
       "encoder": "json",
       "name": "Coefficients",
       "version": 1
      }
     },
     "metadata": {
      "scrapbook": {
       "data": true,
       "display": false,
       "name": "Coefficients"
      }
     },
     "output_type": "display_data"
    }
   ],
   "source": [
    "coefficients , y_pred =statsModel.statsModel(X_train,y_train,X_test,y_test)\n",
    "#Store MSE Value \n",
    "sb.glue(\"Coefficients\",coefficients)"
   ]
  },
  {
   "cell_type": "markdown",
   "id": "859de051",
   "metadata": {
    "papermill": {
     "duration": 0.024541,
     "end_time": "2022-06-22T10:46:52.616629",
     "exception": false,
     "start_time": "2022-06-22T10:46:52.592088",
     "status": "completed"
    },
    "tags": []
   },
   "source": [
    "# Catboost Model "
   ]
  },
  {
   "cell_type": "code",
   "execution_count": 6,
   "id": "7ca899a2",
   "metadata": {
    "execution": {
     "iopub.execute_input": "2022-06-22T10:46:52.656822Z",
     "iopub.status.busy": "2022-06-22T10:46:52.654898Z",
     "iopub.status.idle": "2022-06-22T10:46:53.380134Z",
     "shell.execute_reply": "2022-06-22T10:46:53.380986Z"
    },
    "papermill": {
     "duration": 0.748805,
     "end_time": "2022-06-22T10:46:53.381218",
     "exception": false,
     "start_time": "2022-06-22T10:46:52.632413",
     "status": "completed"
    },
    "tags": []
   },
   "outputs": [
    {
     "name": "stdout",
     "output_type": "stream",
     "text": [
      "Learning rate set to 0.027471\n",
      "0:\tlearn: 0.9871837\ttotal: 55.9ms\tremaining: 55.8s\n",
      "1:\tlearn: 0.9794134\ttotal: 56.9ms\tremaining: 28.4s\n",
      "2:\tlearn: 0.9706966\ttotal: 58.1ms\tremaining: 19.3s\n",
      "3:\tlearn: 0.9613282\ttotal: 59.1ms\tremaining: 14.7s\n",
      "4:\tlearn: 0.9510540\ttotal: 60.2ms\tremaining: 12s\n",
      "5:\tlearn: 0.9405669\ttotal: 61.6ms\tremaining: 10.2s\n",
      "6:\tlearn: 0.9301154\ttotal: 62.4ms\tremaining: 8.85s\n",
      "7:\tlearn: 0.9196259\ttotal: 63.4ms\tremaining: 7.86s\n",
      "8:\tlearn: 0.9109921\ttotal: 64.3ms\tremaining: 7.08s\n",
      "9:\tlearn: 0.8996225\ttotal: 64.9ms\tremaining: 6.42s\n",
      "10:\tlearn: 0.8922456\ttotal: 65.6ms\tremaining: 5.9s\n",
      "11:\tlearn: 0.8811504\ttotal: 67ms\tremaining: 5.52s\n",
      "12:\tlearn: 0.8726127\ttotal: 67.6ms\tremaining: 5.13s\n",
      "13:\tlearn: 0.8618036\ttotal: 68.2ms\tremaining: 4.8s\n",
      "14:\tlearn: 0.8526707\ttotal: 68.8ms\tremaining: 4.52s\n",
      "15:\tlearn: 0.8445499\ttotal: 69.3ms\tremaining: 4.26s\n",
      "16:\tlearn: 0.8358281\ttotal: 69.8ms\tremaining: 4.04s\n",
      "17:\tlearn: 0.8284056\ttotal: 70.3ms\tremaining: 3.83s\n",
      "18:\tlearn: 0.8217387\ttotal: 70.8ms\tremaining: 3.66s\n",
      "19:\tlearn: 0.8131907\ttotal: 71.4ms\tremaining: 3.5s\n",
      "20:\tlearn: 0.8055390\ttotal: 71.9ms\tremaining: 3.35s\n",
      "21:\tlearn: 0.7982944\ttotal: 72.4ms\tremaining: 3.22s\n",
      "22:\tlearn: 0.7922587\ttotal: 73.4ms\tremaining: 3.12s\n",
      "23:\tlearn: 0.7871397\ttotal: 74.1ms\tremaining: 3.01s\n",
      "24:\tlearn: 0.7808928\ttotal: 74.7ms\tremaining: 2.91s\n",
      "25:\tlearn: 0.7738245\ttotal: 75.2ms\tremaining: 2.82s\n",
      "26:\tlearn: 0.7678655\ttotal: 75.8ms\tremaining: 2.73s\n",
      "27:\tlearn: 0.7591157\ttotal: 76.4ms\tremaining: 2.65s\n",
      "28:\tlearn: 0.7517625\ttotal: 76.9ms\tremaining: 2.58s\n",
      "29:\tlearn: 0.7445092\ttotal: 77.5ms\tremaining: 2.5s\n",
      "30:\tlearn: 0.7388536\ttotal: 77.9ms\tremaining: 2.44s\n",
      "31:\tlearn: 0.7319651\ttotal: 78.3ms\tremaining: 2.37s\n",
      "32:\tlearn: 0.7253159\ttotal: 78.8ms\tremaining: 2.31s\n",
      "33:\tlearn: 0.7183872\ttotal: 79.3ms\tremaining: 2.25s\n",
      "34:\tlearn: 0.7120990\ttotal: 79.8ms\tremaining: 2.2s\n",
      "35:\tlearn: 0.7060542\ttotal: 80.4ms\tremaining: 2.15s\n",
      "36:\tlearn: 0.6996752\ttotal: 81ms\tremaining: 2.11s\n",
      "37:\tlearn: 0.6938107\ttotal: 81.8ms\tremaining: 2.07s\n",
      "38:\tlearn: 0.6854115\ttotal: 82.3ms\tremaining: 2.03s\n",
      "39:\tlearn: 0.6801587\ttotal: 82.7ms\tremaining: 1.99s\n",
      "40:\tlearn: 0.6734245\ttotal: 83.3ms\tremaining: 1.95s\n"
     ]
    },
    {
     "name": "stdout",
     "output_type": "stream",
     "text": [
      "41:\tlearn: 0.6678793\ttotal: 83.8ms\tremaining: 1.91s\n",
      "42:\tlearn: 0.6603036\ttotal: 84.9ms\tremaining: 1.89s\n",
      "43:\tlearn: 0.6543673\ttotal: 85.3ms\tremaining: 1.85s\n",
      "44:\tlearn: 0.6488714\ttotal: 86.3ms\tremaining: 1.83s\n",
      "45:\tlearn: 0.6443191\ttotal: 86.9ms\tremaining: 1.8s\n",
      "46:\tlearn: 0.6393594\ttotal: 87.5ms\tremaining: 1.77s\n",
      "47:\tlearn: 0.6333832\ttotal: 87.9ms\tremaining: 1.74s\n",
      "48:\tlearn: 0.6281202\ttotal: 88.2ms\tremaining: 1.71s\n",
      "49:\tlearn: 0.6244898\ttotal: 88.7ms\tremaining: 1.69s\n",
      "50:\tlearn: 0.6193913\ttotal: 89.2ms\tremaining: 1.66s\n",
      "51:\tlearn: 0.6127788\ttotal: 89.7ms\tremaining: 1.63s\n",
      "52:\tlearn: 0.6077387\ttotal: 90.4ms\tremaining: 1.61s\n",
      "53:\tlearn: 0.6034088\ttotal: 90.9ms\tremaining: 1.59s\n",
      "54:\tlearn: 0.5993830\ttotal: 91.5ms\tremaining: 1.57s\n",
      "55:\tlearn: 0.5948422\ttotal: 91.9ms\tremaining: 1.55s\n",
      "56:\tlearn: 0.5894908\ttotal: 92.7ms\tremaining: 1.53s\n",
      "57:\tlearn: 0.5845381\ttotal: 93.1ms\tremaining: 1.51s\n",
      "58:\tlearn: 0.5792335\ttotal: 93.6ms\tremaining: 1.49s\n",
      "59:\tlearn: 0.5739727\ttotal: 94.2ms\tremaining: 1.48s\n",
      "60:\tlearn: 0.5696925\ttotal: 94.7ms\tremaining: 1.46s\n",
      "61:\tlearn: 0.5661147\ttotal: 95.1ms\tremaining: 1.44s\n",
      "62:\tlearn: 0.5622021\ttotal: 95.5ms\tremaining: 1.42s\n",
      "63:\tlearn: 0.5581962\ttotal: 96ms\tremaining: 1.4s\n",
      "64:\tlearn: 0.5538507\ttotal: 96.4ms\tremaining: 1.39s\n",
      "65:\tlearn: 0.5483575\ttotal: 97ms\tremaining: 1.37s\n",
      "66:\tlearn: 0.5447690\ttotal: 97.4ms\tremaining: 1.36s\n",
      "67:\tlearn: 0.5414234\ttotal: 97.8ms\tremaining: 1.34s\n",
      "68:\tlearn: 0.5373548\ttotal: 98.4ms\tremaining: 1.33s\n",
      "69:\tlearn: 0.5333120\ttotal: 99.3ms\tremaining: 1.32s\n",
      "70:\tlearn: 0.5292567\ttotal: 99.8ms\tremaining: 1.31s\n",
      "71:\tlearn: 0.5242125\ttotal: 100ms\tremaining: 1.29s\n",
      "72:\tlearn: 0.5204943\ttotal: 101ms\tremaining: 1.28s\n",
      "73:\tlearn: 0.5177201\ttotal: 101ms\tremaining: 1.27s\n",
      "74:\tlearn: 0.5133849\ttotal: 102ms\tremaining: 1.26s\n",
      "75:\tlearn: 0.5089993\ttotal: 102ms\tremaining: 1.24s\n",
      "76:\tlearn: 0.5054442\ttotal: 103ms\tremaining: 1.23s\n",
      "77:\tlearn: 0.5026867\ttotal: 103ms\tremaining: 1.22s\n",
      "78:\tlearn: 0.4989987\ttotal: 104ms\tremaining: 1.21s\n",
      "79:\tlearn: 0.4947725\ttotal: 104ms\tremaining: 1.2s\n",
      "80:\tlearn: 0.4908289\ttotal: 105ms\tremaining: 1.19s\n",
      "81:\tlearn: 0.4870337\ttotal: 106ms\tremaining: 1.18s\n",
      "82:\tlearn: 0.4822729\ttotal: 106ms\tremaining: 1.17s\n",
      "83:\tlearn: 0.4778077\ttotal: 107ms\tremaining: 1.16s\n",
      "84:\tlearn: 0.4748659\ttotal: 107ms\tremaining: 1.15s\n",
      "85:\tlearn: 0.4710586\ttotal: 107ms\tremaining: 1.14s\n",
      "86:\tlearn: 0.4678250\ttotal: 108ms\tremaining: 1.13s\n",
      "87:\tlearn: 0.4650815\ttotal: 108ms\tremaining: 1.12s\n",
      "88:\tlearn: 0.4626321\ttotal: 109ms\tremaining: 1.11s\n",
      "89:\tlearn: 0.4601552\ttotal: 109ms\tremaining: 1.1s\n",
      "90:\tlearn: 0.4576504\ttotal: 110ms\tremaining: 1.09s\n",
      "91:\tlearn: 0.4542300\ttotal: 110ms\tremaining: 1.09s\n",
      "92:\tlearn: 0.4514709\ttotal: 111ms\tremaining: 1.08s\n",
      "93:\tlearn: 0.4477741\ttotal: 111ms\tremaining: 1.07s\n",
      "94:\tlearn: 0.4444036\ttotal: 112ms\tremaining: 1.06s\n",
      "95:\tlearn: 0.4409112\ttotal: 112ms\tremaining: 1.06s\n",
      "96:\tlearn: 0.4381753\ttotal: 113ms\tremaining: 1.05s\n",
      "97:\tlearn: 0.4357112\ttotal: 113ms\tremaining: 1.04s\n",
      "98:\tlearn: 0.4321141\ttotal: 114ms\tremaining: 1.03s\n",
      "99:\tlearn: 0.4290995\ttotal: 114ms\tremaining: 1.03s\n",
      "100:\tlearn: 0.4261959\ttotal: 115ms\tremaining: 1.02s\n",
      "101:\tlearn: 0.4238966\ttotal: 115ms\tremaining: 1.01s\n",
      "102:\tlearn: 0.4216895\ttotal: 116ms\tremaining: 1.01s\n",
      "103:\tlearn: 0.4179430\ttotal: 116ms\tremaining: 1s\n",
      "104:\tlearn: 0.4154724\ttotal: 117ms\tremaining: 996ms\n",
      "105:\tlearn: 0.4128666\ttotal: 117ms\tremaining: 989ms\n",
      "106:\tlearn: 0.4094225\ttotal: 118ms\tremaining: 983ms\n",
      "107:\tlearn: 0.4076949\ttotal: 118ms\tremaining: 978ms\n",
      "108:\tlearn: 0.4047290\ttotal: 119ms\tremaining: 972ms\n",
      "109:\tlearn: 0.4015977\ttotal: 119ms\tremaining: 967ms\n",
      "110:\tlearn: 0.3987871\ttotal: 120ms\tremaining: 960ms\n",
      "111:\tlearn: 0.3964646\ttotal: 120ms\tremaining: 954ms\n",
      "112:\tlearn: 0.3939296\ttotal: 121ms\tremaining: 948ms\n",
      "113:\tlearn: 0.3915845\ttotal: 121ms\tremaining: 942ms\n",
      "114:\tlearn: 0.3889874\ttotal: 122ms\tremaining: 936ms\n",
      "115:\tlearn: 0.3863458\ttotal: 122ms\tremaining: 929ms\n",
      "116:\tlearn: 0.3838324\ttotal: 122ms\tremaining: 923ms\n",
      "117:\tlearn: 0.3816138\ttotal: 123ms\tremaining: 916ms\n",
      "118:\tlearn: 0.3793133\ttotal: 123ms\tremaining: 911ms\n",
      "119:\tlearn: 0.3764194\ttotal: 123ms\tremaining: 905ms\n",
      "120:\tlearn: 0.3739185\ttotal: 124ms\tremaining: 900ms\n",
      "121:\tlearn: 0.3718335\ttotal: 124ms\tremaining: 895ms\n",
      "122:\tlearn: 0.3693310\ttotal: 125ms\tremaining: 893ms\n",
      "123:\tlearn: 0.3674228\ttotal: 126ms\tremaining: 888ms\n",
      "124:\tlearn: 0.3655195\ttotal: 126ms\tremaining: 883ms\n",
      "125:\tlearn: 0.3634280\ttotal: 127ms\tremaining: 878ms\n",
      "126:\tlearn: 0.3612056\ttotal: 127ms\tremaining: 873ms\n",
      "127:\tlearn: 0.3581119\ttotal: 127ms\tremaining: 868ms\n",
      "128:\tlearn: 0.3557464\ttotal: 128ms\tremaining: 863ms\n",
      "129:\tlearn: 0.3538083\ttotal: 128ms\tremaining: 859ms\n",
      "130:\tlearn: 0.3515274\ttotal: 129ms\tremaining: 855ms\n",
      "131:\tlearn: 0.3492246\ttotal: 129ms\tremaining: 851ms\n",
      "132:\tlearn: 0.3473488\ttotal: 130ms\tremaining: 846ms\n",
      "133:\tlearn: 0.3454639\ttotal: 130ms\tremaining: 841ms\n",
      "134:\tlearn: 0.3431236\ttotal: 131ms\tremaining: 837ms\n",
      "135:\tlearn: 0.3410028\ttotal: 131ms\tremaining: 831ms\n",
      "136:\tlearn: 0.3392943\ttotal: 132ms\tremaining: 829ms\n",
      "137:\tlearn: 0.3369426\ttotal: 132ms\tremaining: 824ms\n",
      "138:\tlearn: 0.3350270\ttotal: 133ms\tremaining: 821ms\n",
      "139:\tlearn: 0.3325246\ttotal: 133ms\tremaining: 819ms\n",
      "140:\tlearn: 0.3306133\ttotal: 134ms\tremaining: 817ms\n",
      "141:\tlearn: 0.3291859\ttotal: 135ms\tremaining: 813ms\n",
      "142:\tlearn: 0.3272031\ttotal: 135ms\tremaining: 810ms\n",
      "143:\tlearn: 0.3252924\ttotal: 136ms\tremaining: 806ms\n",
      "144:\tlearn: 0.3236810\ttotal: 136ms\tremaining: 802ms\n",
      "145:\tlearn: 0.3218664\ttotal: 137ms\tremaining: 799ms\n",
      "146:\tlearn: 0.3201829\ttotal: 137ms\tremaining: 795ms\n",
      "147:\tlearn: 0.3183771\ttotal: 137ms\tremaining: 791ms\n",
      "148:\tlearn: 0.3168584\ttotal: 138ms\tremaining: 789ms\n",
      "149:\tlearn: 0.3150680\ttotal: 139ms\tremaining: 786ms\n",
      "150:\tlearn: 0.3130997\ttotal: 139ms\tremaining: 782ms\n",
      "151:\tlearn: 0.3111929\ttotal: 140ms\tremaining: 779ms\n",
      "152:\tlearn: 0.3089497\ttotal: 140ms\tremaining: 776ms\n",
      "153:\tlearn: 0.3071364\ttotal: 141ms\tremaining: 773ms\n",
      "154:\tlearn: 0.3055277\ttotal: 141ms\tremaining: 769ms\n",
      "155:\tlearn: 0.3036564\ttotal: 142ms\tremaining: 766ms\n",
      "156:\tlearn: 0.3021320\ttotal: 142ms\tremaining: 762ms\n",
      "157:\tlearn: 0.3007238\ttotal: 143ms\tremaining: 760ms\n",
      "158:\tlearn: 0.2986682\ttotal: 143ms\tremaining: 757ms\n",
      "159:\tlearn: 0.2973125\ttotal: 143ms\tremaining: 753ms\n",
      "160:\tlearn: 0.2955105\ttotal: 144ms\tremaining: 750ms\n",
      "161:\tlearn: 0.2937850\ttotal: 145ms\tremaining: 748ms\n",
      "162:\tlearn: 0.2921813\ttotal: 145ms\tremaining: 745ms\n",
      "163:\tlearn: 0.2907536\ttotal: 146ms\tremaining: 742ms\n",
      "164:\tlearn: 0.2892264\ttotal: 146ms\tremaining: 739ms\n",
      "165:\tlearn: 0.2879658\ttotal: 147ms\tremaining: 736ms\n",
      "166:\tlearn: 0.2866460\ttotal: 147ms\tremaining: 734ms\n",
      "167:\tlearn: 0.2850455\ttotal: 148ms\tremaining: 731ms\n",
      "168:\tlearn: 0.2839930\ttotal: 148ms\tremaining: 728ms\n",
      "169:\tlearn: 0.2821731\ttotal: 148ms\tremaining: 725ms\n",
      "170:\tlearn: 0.2811482\ttotal: 149ms\tremaining: 722ms\n",
      "171:\tlearn: 0.2797206\ttotal: 149ms\tremaining: 720ms\n",
      "172:\tlearn: 0.2782222\ttotal: 150ms\tremaining: 717ms\n",
      "173:\tlearn: 0.2770552\ttotal: 151ms\tremaining: 715ms\n",
      "174:\tlearn: 0.2755456\ttotal: 151ms\tremaining: 713ms\n",
      "175:\tlearn: 0.2741851\ttotal: 152ms\tremaining: 711ms\n",
      "176:\tlearn: 0.2726502\ttotal: 152ms\tremaining: 708ms\n",
      "177:\tlearn: 0.2712677\ttotal: 153ms\tremaining: 706ms\n",
      "178:\tlearn: 0.2694768\ttotal: 153ms\tremaining: 702ms\n",
      "179:\tlearn: 0.2679513\ttotal: 153ms\tremaining: 699ms\n",
      "180:\tlearn: 0.2661684\ttotal: 154ms\tremaining: 696ms\n",
      "181:\tlearn: 0.2646898\ttotal: 154ms\tremaining: 694ms\n",
      "182:\tlearn: 0.2626448\ttotal: 155ms\tremaining: 691ms\n",
      "183:\tlearn: 0.2618852\ttotal: 155ms\tremaining: 688ms\n",
      "184:\tlearn: 0.2605413\ttotal: 156ms\tremaining: 686ms\n",
      "185:\tlearn: 0.2592094\ttotal: 156ms\tremaining: 683ms\n",
      "186:\tlearn: 0.2576780\ttotal: 156ms\tremaining: 680ms\n",
      "187:\tlearn: 0.2562005\ttotal: 157ms\tremaining: 678ms\n",
      "188:\tlearn: 0.2544588\ttotal: 158ms\tremaining: 677ms\n",
      "189:\tlearn: 0.2533212\ttotal: 158ms\tremaining: 675ms\n",
      "190:\tlearn: 0.2522336\ttotal: 159ms\tremaining: 672ms\n",
      "191:\tlearn: 0.2505966\ttotal: 159ms\tremaining: 669ms\n",
      "192:\tlearn: 0.2494397\ttotal: 159ms\tremaining: 666ms\n",
      "193:\tlearn: 0.2485179\ttotal: 160ms\tremaining: 664ms\n",
      "194:\tlearn: 0.2473722\ttotal: 160ms\tremaining: 662ms\n",
      "195:\tlearn: 0.2459708\ttotal: 161ms\tremaining: 660ms\n",
      "196:\tlearn: 0.2446315\ttotal: 161ms\tremaining: 657ms\n",
      "197:\tlearn: 0.2435540\ttotal: 162ms\tremaining: 655ms\n",
      "198:\tlearn: 0.2423018\ttotal: 162ms\tremaining: 653ms\n",
      "199:\tlearn: 0.2412810\ttotal: 163ms\tremaining: 650ms\n",
      "200:\tlearn: 0.2402273\ttotal: 163ms\tremaining: 648ms\n",
      "201:\tlearn: 0.2388731\ttotal: 163ms\tremaining: 646ms\n",
      "202:\tlearn: 0.2377191\ttotal: 164ms\tremaining: 645ms\n",
      "203:\tlearn: 0.2363399\ttotal: 165ms\tremaining: 642ms\n",
      "204:\tlearn: 0.2353192\ttotal: 165ms\tremaining: 640ms\n",
      "205:\tlearn: 0.2341429\ttotal: 165ms\tremaining: 638ms\n",
      "206:\tlearn: 0.2330967\ttotal: 166ms\tremaining: 636ms\n",
      "207:\tlearn: 0.2318901\ttotal: 166ms\tremaining: 634ms\n",
      "208:\tlearn: 0.2307148\ttotal: 167ms\tremaining: 631ms\n",
      "209:\tlearn: 0.2299269\ttotal: 167ms\tremaining: 629ms\n",
      "210:\tlearn: 0.2289372\ttotal: 168ms\tremaining: 627ms\n",
      "211:\tlearn: 0.2274780\ttotal: 168ms\tremaining: 626ms\n",
      "212:\tlearn: 0.2265696\ttotal: 169ms\tremaining: 624ms\n",
      "213:\tlearn: 0.2252192\ttotal: 169ms\tremaining: 622ms\n",
      "214:\tlearn: 0.2241770\ttotal: 170ms\tremaining: 620ms\n"
     ]
    },
    {
     "name": "stdout",
     "output_type": "stream",
     "text": [
      "215:\tlearn: 0.2229831\ttotal: 171ms\tremaining: 622ms\n",
      "216:\tlearn: 0.2220069\ttotal: 172ms\tremaining: 620ms\n",
      "217:\tlearn: 0.2209883\ttotal: 172ms\tremaining: 618ms\n",
      "218:\tlearn: 0.2197164\ttotal: 173ms\tremaining: 617ms\n",
      "219:\tlearn: 0.2186610\ttotal: 174ms\tremaining: 616ms\n",
      "220:\tlearn: 0.2176481\ttotal: 174ms\tremaining: 613ms\n",
      "221:\tlearn: 0.2164575\ttotal: 174ms\tremaining: 611ms\n",
      "222:\tlearn: 0.2149130\ttotal: 175ms\tremaining: 609ms\n",
      "223:\tlearn: 0.2137581\ttotal: 175ms\tremaining: 607ms\n",
      "224:\tlearn: 0.2128263\ttotal: 176ms\tremaining: 605ms\n",
      "225:\tlearn: 0.2121285\ttotal: 176ms\tremaining: 603ms\n",
      "226:\tlearn: 0.2109846\ttotal: 176ms\tremaining: 601ms\n",
      "227:\tlearn: 0.2099402\ttotal: 177ms\tremaining: 599ms\n",
      "228:\tlearn: 0.2089989\ttotal: 177ms\tremaining: 597ms\n",
      "229:\tlearn: 0.2079846\ttotal: 178ms\tremaining: 595ms\n",
      "230:\tlearn: 0.2070211\ttotal: 178ms\tremaining: 593ms\n",
      "231:\tlearn: 0.2060715\ttotal: 179ms\tremaining: 591ms\n",
      "232:\tlearn: 0.2050742\ttotal: 179ms\tremaining: 589ms\n",
      "233:\tlearn: 0.2040741\ttotal: 180ms\tremaining: 588ms\n",
      "234:\tlearn: 0.2030139\ttotal: 180ms\tremaining: 586ms\n",
      "235:\tlearn: 0.2020421\ttotal: 180ms\tremaining: 584ms\n",
      "236:\tlearn: 0.2011622\ttotal: 181ms\tremaining: 582ms\n",
      "237:\tlearn: 0.2004333\ttotal: 181ms\tremaining: 580ms\n",
      "238:\tlearn: 0.1994373\ttotal: 182ms\tremaining: 578ms\n",
      "239:\tlearn: 0.1987832\ttotal: 182ms\tremaining: 576ms\n",
      "240:\tlearn: 0.1978787\ttotal: 182ms\tremaining: 574ms\n",
      "241:\tlearn: 0.1973108\ttotal: 183ms\tremaining: 573ms\n",
      "242:\tlearn: 0.1964177\ttotal: 183ms\tremaining: 571ms\n",
      "243:\tlearn: 0.1955577\ttotal: 184ms\tremaining: 570ms\n",
      "244:\tlearn: 0.1945630\ttotal: 184ms\tremaining: 568ms\n",
      "245:\tlearn: 0.1939750\ttotal: 185ms\tremaining: 566ms\n",
      "246:\tlearn: 0.1932150\ttotal: 185ms\tremaining: 565ms\n",
      "247:\tlearn: 0.1923454\ttotal: 186ms\tremaining: 563ms\n",
      "248:\tlearn: 0.1915202\ttotal: 186ms\tremaining: 561ms\n",
      "249:\tlearn: 0.1909118\ttotal: 186ms\tremaining: 559ms\n",
      "250:\tlearn: 0.1902103\ttotal: 187ms\tremaining: 557ms\n",
      "251:\tlearn: 0.1894637\ttotal: 187ms\tremaining: 555ms\n",
      "252:\tlearn: 0.1887604\ttotal: 187ms\tremaining: 553ms\n",
      "253:\tlearn: 0.1882002\ttotal: 188ms\tremaining: 551ms\n",
      "254:\tlearn: 0.1873938\ttotal: 188ms\tremaining: 550ms\n",
      "255:\tlearn: 0.1866441\ttotal: 189ms\tremaining: 548ms\n",
      "256:\tlearn: 0.1858721\ttotal: 189ms\tremaining: 547ms\n",
      "257:\tlearn: 0.1854058\ttotal: 189ms\tremaining: 545ms\n",
      "258:\tlearn: 0.1849506\ttotal: 190ms\tremaining: 544ms\n",
      "259:\tlearn: 0.1841942\ttotal: 191ms\tremaining: 542ms\n",
      "260:\tlearn: 0.1837092\ttotal: 191ms\tremaining: 541ms\n",
      "261:\tlearn: 0.1831873\ttotal: 191ms\tremaining: 539ms\n",
      "262:\tlearn: 0.1827620\ttotal: 192ms\tremaining: 538ms\n",
      "263:\tlearn: 0.1822982\ttotal: 192ms\tremaining: 536ms\n",
      "264:\tlearn: 0.1818655\ttotal: 193ms\tremaining: 534ms\n",
      "265:\tlearn: 0.1810136\ttotal: 193ms\tremaining: 533ms\n",
      "266:\tlearn: 0.1802420\ttotal: 193ms\tremaining: 531ms\n",
      "267:\tlearn: 0.1798019\ttotal: 194ms\tremaining: 529ms\n",
      "268:\tlearn: 0.1793709\ttotal: 194ms\tremaining: 528ms\n",
      "269:\tlearn: 0.1789295\ttotal: 195ms\tremaining: 526ms\n",
      "270:\tlearn: 0.1782532\ttotal: 195ms\tremaining: 525ms\n",
      "271:\tlearn: 0.1777538\ttotal: 195ms\tremaining: 523ms\n",
      "272:\tlearn: 0.1771315\ttotal: 196ms\tremaining: 522ms\n",
      "273:\tlearn: 0.1767283\ttotal: 196ms\tremaining: 521ms\n",
      "274:\tlearn: 0.1763351\ttotal: 197ms\tremaining: 519ms\n",
      "275:\tlearn: 0.1757849\ttotal: 197ms\tremaining: 518ms\n",
      "276:\tlearn: 0.1745738\ttotal: 198ms\tremaining: 516ms\n",
      "277:\tlearn: 0.1741776\ttotal: 198ms\tremaining: 515ms\n",
      "278:\tlearn: 0.1738589\ttotal: 199ms\tremaining: 513ms\n",
      "279:\tlearn: 0.1734411\ttotal: 199ms\tremaining: 512ms\n",
      "280:\tlearn: 0.1728686\ttotal: 199ms\tremaining: 510ms\n",
      "281:\tlearn: 0.1720509\ttotal: 200ms\tremaining: 508ms\n",
      "282:\tlearn: 0.1711622\ttotal: 200ms\tremaining: 507ms\n",
      "283:\tlearn: 0.1708311\ttotal: 200ms\tremaining: 505ms\n",
      "284:\tlearn: 0.1705135\ttotal: 201ms\tremaining: 504ms\n",
      "285:\tlearn: 0.1692667\ttotal: 201ms\tremaining: 502ms\n",
      "286:\tlearn: 0.1689109\ttotal: 202ms\tremaining: 502ms\n",
      "287:\tlearn: 0.1681672\ttotal: 203ms\tremaining: 501ms\n",
      "288:\tlearn: 0.1678643\ttotal: 203ms\tremaining: 500ms\n",
      "289:\tlearn: 0.1675469\ttotal: 204ms\tremaining: 499ms\n",
      "290:\tlearn: 0.1664881\ttotal: 204ms\tremaining: 497ms\n",
      "291:\tlearn: 0.1658146\ttotal: 205ms\tremaining: 496ms\n",
      "292:\tlearn: 0.1654947\ttotal: 205ms\tremaining: 494ms\n",
      "293:\tlearn: 0.1643240\ttotal: 205ms\tremaining: 493ms\n",
      "294:\tlearn: 0.1636261\ttotal: 206ms\tremaining: 491ms\n",
      "295:\tlearn: 0.1626646\ttotal: 206ms\tremaining: 490ms\n",
      "296:\tlearn: 0.1621554\ttotal: 206ms\tremaining: 488ms\n",
      "297:\tlearn: 0.1614851\ttotal: 207ms\tremaining: 487ms\n",
      "298:\tlearn: 0.1603366\ttotal: 207ms\tremaining: 486ms\n",
      "299:\tlearn: 0.1593896\ttotal: 208ms\tremaining: 484ms\n",
      "300:\tlearn: 0.1583009\ttotal: 208ms\tremaining: 483ms\n",
      "301:\tlearn: 0.1571921\ttotal: 208ms\tremaining: 482ms\n",
      "302:\tlearn: 0.1561914\ttotal: 209ms\tremaining: 480ms\n",
      "303:\tlearn: 0.1555531\ttotal: 209ms\tremaining: 479ms\n",
      "304:\tlearn: 0.1546383\ttotal: 210ms\tremaining: 478ms\n",
      "305:\tlearn: 0.1543411\ttotal: 210ms\tremaining: 477ms\n",
      "306:\tlearn: 0.1534150\ttotal: 211ms\tremaining: 476ms\n",
      "307:\tlearn: 0.1523914\ttotal: 211ms\tremaining: 474ms\n",
      "308:\tlearn: 0.1517734\ttotal: 212ms\tremaining: 473ms\n",
      "309:\tlearn: 0.1515199\ttotal: 212ms\tremaining: 472ms\n",
      "310:\tlearn: 0.1505241\ttotal: 213ms\tremaining: 471ms\n",
      "311:\tlearn: 0.1496003\ttotal: 213ms\tremaining: 470ms\n",
      "312:\tlearn: 0.1486798\ttotal: 213ms\tremaining: 468ms\n",
      "313:\tlearn: 0.1477917\ttotal: 214ms\tremaining: 467ms\n",
      "314:\tlearn: 0.1469218\ttotal: 214ms\tremaining: 466ms\n",
      "315:\tlearn: 0.1461244\ttotal: 215ms\tremaining: 465ms\n",
      "316:\tlearn: 0.1453134\ttotal: 215ms\tremaining: 463ms\n",
      "317:\tlearn: 0.1444633\ttotal: 215ms\tremaining: 462ms\n",
      "318:\tlearn: 0.1437049\ttotal: 216ms\tremaining: 461ms\n",
      "319:\tlearn: 0.1430182\ttotal: 216ms\tremaining: 460ms\n",
      "320:\tlearn: 0.1421271\ttotal: 217ms\tremaining: 459ms\n",
      "321:\tlearn: 0.1415876\ttotal: 217ms\tremaining: 457ms\n",
      "322:\tlearn: 0.1408523\ttotal: 218ms\tremaining: 456ms\n",
      "323:\tlearn: 0.1400614\ttotal: 218ms\tremaining: 455ms\n",
      "324:\tlearn: 0.1394530\ttotal: 218ms\tremaining: 454ms\n",
      "325:\tlearn: 0.1387420\ttotal: 220ms\tremaining: 454ms\n",
      "326:\tlearn: 0.1381523\ttotal: 220ms\tremaining: 453ms\n",
      "327:\tlearn: 0.1373909\ttotal: 220ms\tremaining: 452ms\n",
      "328:\tlearn: 0.1368788\ttotal: 221ms\tremaining: 452ms\n",
      "329:\tlearn: 0.1363794\ttotal: 222ms\tremaining: 451ms\n",
      "330:\tlearn: 0.1358923\ttotal: 223ms\tremaining: 450ms\n",
      "331:\tlearn: 0.1351472\ttotal: 223ms\tremaining: 449ms\n",
      "332:\tlearn: 0.1344258\ttotal: 224ms\tremaining: 448ms\n",
      "333:\tlearn: 0.1341936\ttotal: 224ms\tremaining: 447ms\n",
      "334:\tlearn: 0.1333532\ttotal: 224ms\tremaining: 445ms\n",
      "335:\tlearn: 0.1326381\ttotal: 225ms\tremaining: 444ms\n",
      "336:\tlearn: 0.1324150\ttotal: 225ms\tremaining: 443ms\n",
      "337:\tlearn: 0.1317770\ttotal: 226ms\tremaining: 442ms\n",
      "338:\tlearn: 0.1315739\ttotal: 226ms\tremaining: 441ms\n",
      "339:\tlearn: 0.1310744\ttotal: 226ms\tremaining: 439ms\n",
      "340:\tlearn: 0.1303853\ttotal: 227ms\tremaining: 438ms\n",
      "341:\tlearn: 0.1301750\ttotal: 227ms\tremaining: 437ms\n",
      "342:\tlearn: 0.1297226\ttotal: 228ms\tremaining: 436ms\n",
      "343:\tlearn: 0.1289967\ttotal: 228ms\tremaining: 435ms\n",
      "344:\tlearn: 0.1285229\ttotal: 228ms\tremaining: 434ms\n",
      "345:\tlearn: 0.1278706\ttotal: 229ms\tremaining: 433ms\n",
      "346:\tlearn: 0.1272916\ttotal: 229ms\tremaining: 432ms\n",
      "347:\tlearn: 0.1270944\ttotal: 230ms\tremaining: 431ms\n",
      "348:\tlearn: 0.1266736\ttotal: 230ms\tremaining: 429ms\n",
      "349:\tlearn: 0.1264816\ttotal: 231ms\tremaining: 428ms\n",
      "350:\tlearn: 0.1257973\ttotal: 231ms\tremaining: 427ms\n",
      "351:\tlearn: 0.1250955\ttotal: 231ms\tremaining: 426ms\n",
      "352:\tlearn: 0.1246492\ttotal: 232ms\tremaining: 425ms\n",
      "353:\tlearn: 0.1239907\ttotal: 232ms\tremaining: 424ms\n",
      "354:\tlearn: 0.1234528\ttotal: 233ms\tremaining: 423ms\n",
      "355:\tlearn: 0.1230773\ttotal: 233ms\tremaining: 422ms\n",
      "356:\tlearn: 0.1224461\ttotal: 233ms\tremaining: 420ms\n",
      "357:\tlearn: 0.1222566\ttotal: 234ms\tremaining: 419ms\n",
      "358:\tlearn: 0.1216414\ttotal: 234ms\tremaining: 418ms\n",
      "359:\tlearn: 0.1211300\ttotal: 235ms\tremaining: 417ms\n",
      "360:\tlearn: 0.1204325\ttotal: 235ms\tremaining: 416ms\n",
      "361:\tlearn: 0.1201428\ttotal: 236ms\tremaining: 415ms\n",
      "362:\tlearn: 0.1198574\ttotal: 236ms\tremaining: 414ms\n",
      "363:\tlearn: 0.1192738\ttotal: 237ms\tremaining: 414ms\n",
      "364:\tlearn: 0.1188439\ttotal: 237ms\tremaining: 413ms\n",
      "365:\tlearn: 0.1184282\ttotal: 238ms\tremaining: 412ms\n",
      "366:\tlearn: 0.1178975\ttotal: 238ms\tremaining: 411ms\n",
      "367:\tlearn: 0.1174220\ttotal: 238ms\tremaining: 409ms\n",
      "368:\tlearn: 0.1170695\ttotal: 239ms\tremaining: 408ms\n",
      "369:\tlearn: 0.1165583\ttotal: 239ms\tremaining: 407ms\n",
      "370:\tlearn: 0.1159281\ttotal: 239ms\tremaining: 406ms\n",
      "371:\tlearn: 0.1155395\ttotal: 240ms\tremaining: 405ms\n",
      "372:\tlearn: 0.1151501\ttotal: 240ms\tremaining: 404ms\n",
      "373:\tlearn: 0.1145333\ttotal: 241ms\tremaining: 403ms\n",
      "374:\tlearn: 0.1142502\ttotal: 241ms\tremaining: 402ms\n",
      "375:\tlearn: 0.1138562\ttotal: 242ms\tremaining: 401ms\n",
      "376:\tlearn: 0.1133836\ttotal: 242ms\tremaining: 400ms\n",
      "377:\tlearn: 0.1127851\ttotal: 243ms\tremaining: 399ms\n",
      "378:\tlearn: 0.1124896\ttotal: 243ms\tremaining: 398ms\n",
      "379:\tlearn: 0.1119035\ttotal: 243ms\tremaining: 397ms\n",
      "380:\tlearn: 0.1115263\ttotal: 244ms\tremaining: 396ms\n",
      "381:\tlearn: 0.1109537\ttotal: 244ms\tremaining: 395ms\n",
      "382:\tlearn: 0.1105840\ttotal: 245ms\tremaining: 394ms\n",
      "383:\tlearn: 0.1103002\ttotal: 245ms\tremaining: 393ms\n",
      "384:\tlearn: 0.1097388\ttotal: 245ms\tremaining: 392ms\n",
      "385:\tlearn: 0.1093777\ttotal: 246ms\tremaining: 391ms\n"
     ]
    },
    {
     "name": "stdout",
     "output_type": "stream",
     "text": [
      "386:\tlearn: 0.1089239\ttotal: 246ms\tremaining: 390ms\n",
      "387:\tlearn: 0.1083772\ttotal: 247ms\tremaining: 390ms\n",
      "388:\tlearn: 0.1080683\ttotal: 247ms\tremaining: 389ms\n",
      "389:\tlearn: 0.1079171\ttotal: 248ms\tremaining: 388ms\n",
      "390:\tlearn: 0.1076565\ttotal: 249ms\tremaining: 387ms\n",
      "391:\tlearn: 0.1071601\ttotal: 249ms\tremaining: 386ms\n",
      "392:\tlearn: 0.1066304\ttotal: 249ms\tremaining: 385ms\n",
      "393:\tlearn: 0.1061962\ttotal: 250ms\tremaining: 384ms\n",
      "394:\tlearn: 0.1057166\ttotal: 250ms\tremaining: 383ms\n",
      "395:\tlearn: 0.1052964\ttotal: 251ms\tremaining: 382ms\n",
      "396:\tlearn: 0.1048635\ttotal: 251ms\tremaining: 381ms\n",
      "397:\tlearn: 0.1045238\ttotal: 251ms\tremaining: 380ms\n",
      "398:\tlearn: 0.1043245\ttotal: 252ms\tremaining: 379ms\n",
      "399:\tlearn: 0.1038305\ttotal: 252ms\tremaining: 378ms\n",
      "400:\tlearn: 0.1033500\ttotal: 253ms\tremaining: 377ms\n",
      "401:\tlearn: 0.1031553\ttotal: 253ms\tremaining: 376ms\n",
      "402:\tlearn: 0.1026734\ttotal: 254ms\tremaining: 376ms\n",
      "403:\tlearn: 0.1022028\ttotal: 254ms\tremaining: 375ms\n",
      "404:\tlearn: 0.1019979\ttotal: 255ms\tremaining: 374ms\n",
      "405:\tlearn: 0.1018081\ttotal: 255ms\tremaining: 373ms\n",
      "406:\tlearn: 0.1013484\ttotal: 256ms\tremaining: 372ms\n",
      "407:\tlearn: 0.1011164\ttotal: 256ms\tremaining: 372ms\n",
      "408:\tlearn: 0.1009317\ttotal: 256ms\tremaining: 371ms\n",
      "409:\tlearn: 0.1004827\ttotal: 257ms\tremaining: 370ms\n",
      "410:\tlearn: 0.1001827\ttotal: 257ms\tremaining: 369ms\n",
      "411:\tlearn: 0.0997155\ttotal: 258ms\tremaining: 368ms\n",
      "412:\tlearn: 0.0992764\ttotal: 258ms\tremaining: 367ms\n",
      "413:\tlearn: 0.0989985\ttotal: 259ms\tremaining: 366ms\n",
      "414:\tlearn: 0.0986888\ttotal: 259ms\tremaining: 365ms\n",
      "415:\tlearn: 0.0981821\ttotal: 259ms\tremaining: 364ms\n",
      "416:\tlearn: 0.0977585\ttotal: 260ms\tremaining: 363ms\n",
      "417:\tlearn: 0.0974935\ttotal: 260ms\tremaining: 362ms\n",
      "418:\tlearn: 0.0971952\ttotal: 260ms\tremaining: 361ms\n",
      "419:\tlearn: 0.0970666\ttotal: 261ms\tremaining: 360ms\n",
      "420:\tlearn: 0.0969410\ttotal: 261ms\tremaining: 359ms\n",
      "421:\tlearn: 0.0968184\ttotal: 262ms\tremaining: 359ms\n",
      "422:\tlearn: 0.0965250\ttotal: 262ms\tremaining: 358ms\n",
      "423:\tlearn: 0.0960362\ttotal: 263ms\tremaining: 357ms\n",
      "424:\tlearn: 0.0959174\ttotal: 263ms\tremaining: 356ms\n",
      "425:\tlearn: 0.0958013\ttotal: 264ms\tremaining: 355ms\n",
      "426:\tlearn: 0.0956880\ttotal: 264ms\tremaining: 354ms\n",
      "427:\tlearn: 0.0954343\ttotal: 265ms\tremaining: 353ms\n",
      "428:\tlearn: 0.0953230\ttotal: 265ms\tremaining: 353ms\n",
      "429:\tlearn: 0.0952142\ttotal: 265ms\tremaining: 352ms\n",
      "430:\tlearn: 0.0949652\ttotal: 266ms\tremaining: 351ms\n",
      "431:\tlearn: 0.0948583\ttotal: 266ms\tremaining: 350ms\n",
      "432:\tlearn: 0.0947540\ttotal: 266ms\tremaining: 349ms\n",
      "433:\tlearn: 0.0945095\ttotal: 267ms\tremaining: 348ms\n",
      "434:\tlearn: 0.0944069\ttotal: 267ms\tremaining: 347ms\n",
      "435:\tlearn: 0.0943068\ttotal: 268ms\tremaining: 346ms\n",
      "436:\tlearn: 0.0939436\ttotal: 268ms\tremaining: 345ms\n",
      "437:\tlearn: 0.0938589\ttotal: 268ms\tremaining: 344ms\n",
      "438:\tlearn: 0.0937758\ttotal: 269ms\tremaining: 343ms\n",
      "439:\tlearn: 0.0937107\ttotal: 269ms\tremaining: 342ms\n",
      "440:\tlearn: 0.0933550\ttotal: 269ms\tremaining: 341ms\n",
      "441:\tlearn: 0.0932908\ttotal: 270ms\tremaining: 340ms\n",
      "442:\tlearn: 0.0929475\ttotal: 270ms\tremaining: 340ms\n",
      "443:\tlearn: 0.0928680\ttotal: 273ms\tremaining: 341ms\n",
      "444:\tlearn: 0.0928057\ttotal: 273ms\tremaining: 341ms\n",
      "445:\tlearn: 0.0924701\ttotal: 273ms\tremaining: 340ms\n",
      "446:\tlearn: 0.0923930\ttotal: 274ms\tremaining: 339ms\n",
      "447:\tlearn: 0.0922954\ttotal: 274ms\tremaining: 338ms\n",
      "448:\tlearn: 0.0922002\ttotal: 275ms\tremaining: 337ms\n",
      "449:\tlearn: 0.0919320\ttotal: 275ms\tremaining: 336ms\n",
      "450:\tlearn: 0.0918388\ttotal: 275ms\tremaining: 335ms\n",
      "451:\tlearn: 0.0917656\ttotal: 276ms\tremaining: 334ms\n",
      "452:\tlearn: 0.0915029\ttotal: 276ms\tremaining: 333ms\n",
      "453:\tlearn: 0.0914124\ttotal: 277ms\tremaining: 333ms\n",
      "454:\tlearn: 0.0913530\ttotal: 277ms\tremaining: 332ms\n",
      "455:\tlearn: 0.0910959\ttotal: 277ms\tremaining: 331ms\n",
      "456:\tlearn: 0.0910078\ttotal: 278ms\tremaining: 330ms\n",
      "457:\tlearn: 0.0909499\ttotal: 278ms\tremaining: 329ms\n",
      "458:\tlearn: 0.0908929\ttotal: 278ms\tremaining: 328ms\n",
      "459:\tlearn: 0.0906939\ttotal: 279ms\tremaining: 327ms\n",
      "460:\tlearn: 0.0906253\ttotal: 279ms\tremaining: 326ms\n",
      "461:\tlearn: 0.0905699\ttotal: 280ms\tremaining: 326ms\n",
      "462:\tlearn: 0.0903213\ttotal: 280ms\tremaining: 325ms\n",
      "463:\tlearn: 0.0902547\ttotal: 280ms\tremaining: 324ms\n",
      "464:\tlearn: 0.0902009\ttotal: 281ms\tremaining: 323ms\n",
      "465:\tlearn: 0.0900504\ttotal: 281ms\tremaining: 322ms\n",
      "466:\tlearn: 0.0899712\ttotal: 282ms\tremaining: 321ms\n",
      "467:\tlearn: 0.0897299\ttotal: 282ms\tremaining: 320ms\n",
      "468:\tlearn: 0.0893672\ttotal: 282ms\tremaining: 320ms\n",
      "469:\tlearn: 0.0889224\ttotal: 283ms\tremaining: 319ms\n",
      "470:\tlearn: 0.0887880\ttotal: 283ms\tremaining: 318ms\n",
      "471:\tlearn: 0.0886418\ttotal: 284ms\tremaining: 317ms\n",
      "472:\tlearn: 0.0885645\ttotal: 284ms\tremaining: 317ms\n",
      "473:\tlearn: 0.0883315\ttotal: 285ms\tremaining: 316ms\n",
      "474:\tlearn: 0.0881895\ttotal: 285ms\tremaining: 315ms\n",
      "475:\tlearn: 0.0881076\ttotal: 285ms\tremaining: 314ms\n",
      "476:\tlearn: 0.0880277\ttotal: 286ms\tremaining: 313ms\n",
      "477:\tlearn: 0.0878014\ttotal: 286ms\tremaining: 312ms\n",
      "478:\tlearn: 0.0877506\ttotal: 286ms\tremaining: 312ms\n",
      "479:\tlearn: 0.0876897\ttotal: 287ms\tremaining: 311ms\n",
      "480:\tlearn: 0.0874682\ttotal: 287ms\tremaining: 310ms\n",
      "481:\tlearn: 0.0873983\ttotal: 288ms\tremaining: 309ms\n",
      "482:\tlearn: 0.0869624\ttotal: 288ms\tremaining: 308ms\n",
      "483:\tlearn: 0.0868886\ttotal: 288ms\tremaining: 308ms\n",
      "484:\tlearn: 0.0865404\ttotal: 289ms\tremaining: 307ms\n",
      "485:\tlearn: 0.0861890\ttotal: 289ms\tremaining: 306ms\n",
      "486:\tlearn: 0.0858445\ttotal: 290ms\tremaining: 305ms\n",
      "487:\tlearn: 0.0856312\ttotal: 290ms\tremaining: 304ms\n",
      "488:\tlearn: 0.0852563\ttotal: 290ms\tremaining: 304ms\n",
      "489:\tlearn: 0.0851616\ttotal: 291ms\tremaining: 303ms\n",
      "490:\tlearn: 0.0850891\ttotal: 291ms\tremaining: 302ms\n",
      "491:\tlearn: 0.0847532\ttotal: 292ms\tremaining: 301ms\n",
      "492:\tlearn: 0.0844165\ttotal: 292ms\tremaining: 300ms\n",
      "493:\tlearn: 0.0840494\ttotal: 293ms\tremaining: 300ms\n",
      "494:\tlearn: 0.0838425\ttotal: 293ms\tremaining: 299ms\n",
      "495:\tlearn: 0.0837686\ttotal: 294ms\tremaining: 298ms\n",
      "496:\tlearn: 0.0834253\ttotal: 294ms\tremaining: 297ms\n",
      "497:\tlearn: 0.0833552\ttotal: 294ms\tremaining: 297ms\n",
      "498:\tlearn: 0.0831518\ttotal: 295ms\tremaining: 296ms\n",
      "499:\tlearn: 0.0828154\ttotal: 295ms\tremaining: 295ms\n",
      "500:\tlearn: 0.0827196\ttotal: 296ms\tremaining: 294ms\n",
      "501:\tlearn: 0.0825199\ttotal: 296ms\tremaining: 294ms\n",
      "502:\tlearn: 0.0823675\ttotal: 296ms\tremaining: 293ms\n",
      "503:\tlearn: 0.0820381\ttotal: 297ms\tremaining: 292ms\n",
      "504:\tlearn: 0.0819453\ttotal: 297ms\tremaining: 291ms\n",
      "505:\tlearn: 0.0816249\ttotal: 298ms\tremaining: 290ms\n",
      "506:\tlearn: 0.0814294\ttotal: 298ms\tremaining: 290ms\n",
      "507:\tlearn: 0.0812104\ttotal: 298ms\tremaining: 289ms\n",
      "508:\tlearn: 0.0811239\ttotal: 299ms\tremaining: 288ms\n",
      "509:\tlearn: 0.0808056\ttotal: 299ms\tremaining: 287ms\n",
      "510:\tlearn: 0.0807412\ttotal: 300ms\tremaining: 287ms\n",
      "511:\tlearn: 0.0806531\ttotal: 300ms\tremaining: 286ms\n",
      "512:\tlearn: 0.0805306\ttotal: 301ms\tremaining: 285ms\n",
      "513:\tlearn: 0.0803195\ttotal: 301ms\tremaining: 285ms\n",
      "514:\tlearn: 0.0802348\ttotal: 302ms\tremaining: 284ms\n",
      "515:\tlearn: 0.0800425\ttotal: 302ms\tremaining: 283ms\n",
      "516:\tlearn: 0.0799801\ttotal: 302ms\tremaining: 282ms\n",
      "517:\tlearn: 0.0797727\ttotal: 303ms\tremaining: 282ms\n",
      "518:\tlearn: 0.0797113\ttotal: 303ms\tremaining: 281ms\n",
      "519:\tlearn: 0.0794043\ttotal: 304ms\tremaining: 280ms\n",
      "520:\tlearn: 0.0790190\ttotal: 304ms\tremaining: 279ms\n",
      "521:\tlearn: 0.0789768\ttotal: 304ms\tremaining: 279ms\n",
      "522:\tlearn: 0.0789353\ttotal: 305ms\tremaining: 278ms\n",
      "523:\tlearn: 0.0788945\ttotal: 305ms\tremaining: 277ms\n",
      "524:\tlearn: 0.0785324\ttotal: 306ms\tremaining: 277ms\n",
      "525:\tlearn: 0.0784868\ttotal: 307ms\tremaining: 276ms\n",
      "526:\tlearn: 0.0783670\ttotal: 307ms\tremaining: 276ms\n",
      "527:\tlearn: 0.0781340\ttotal: 307ms\tremaining: 275ms\n",
      "528:\tlearn: 0.0777937\ttotal: 308ms\tremaining: 274ms\n",
      "529:\tlearn: 0.0773483\ttotal: 308ms\tremaining: 273ms\n",
      "530:\tlearn: 0.0770596\ttotal: 309ms\tremaining: 273ms\n",
      "531:\tlearn: 0.0768410\ttotal: 309ms\tremaining: 272ms\n",
      "532:\tlearn: 0.0764099\ttotal: 310ms\tremaining: 271ms\n",
      "533:\tlearn: 0.0760611\ttotal: 310ms\tremaining: 271ms\n",
      "534:\tlearn: 0.0757419\ttotal: 310ms\tremaining: 270ms\n",
      "535:\tlearn: 0.0755388\ttotal: 311ms\tremaining: 269ms\n",
      "536:\tlearn: 0.0754942\ttotal: 311ms\tremaining: 268ms\n",
      "537:\tlearn: 0.0752785\ttotal: 312ms\tremaining: 268ms\n",
      "538:\tlearn: 0.0748881\ttotal: 312ms\tremaining: 267ms\n",
      "539:\tlearn: 0.0744743\ttotal: 313ms\tremaining: 266ms\n",
      "540:\tlearn: 0.0742762\ttotal: 313ms\tremaining: 266ms\n",
      "541:\tlearn: 0.0740678\ttotal: 314ms\tremaining: 265ms\n",
      "542:\tlearn: 0.0738091\ttotal: 314ms\tremaining: 264ms\n",
      "543:\tlearn: 0.0734503\ttotal: 314ms\tremaining: 264ms\n",
      "544:\tlearn: 0.0731994\ttotal: 315ms\tremaining: 263ms\n",
      "545:\tlearn: 0.0729484\ttotal: 315ms\tremaining: 262ms\n",
      "546:\tlearn: 0.0725578\ttotal: 316ms\tremaining: 261ms\n",
      "547:\tlearn: 0.0723087\ttotal: 316ms\tremaining: 261ms\n",
      "548:\tlearn: 0.0719681\ttotal: 316ms\tremaining: 260ms\n",
      "549:\tlearn: 0.0717686\ttotal: 317ms\tremaining: 259ms\n",
      "550:\tlearn: 0.0715276\ttotal: 317ms\tremaining: 258ms\n",
      "551:\tlearn: 0.0713328\ttotal: 318ms\tremaining: 258ms\n",
      "552:\tlearn: 0.0710992\ttotal: 318ms\tremaining: 257ms\n",
      "553:\tlearn: 0.0707908\ttotal: 318ms\tremaining: 256ms\n",
      "554:\tlearn: 0.0705821\ttotal: 319ms\tremaining: 256ms\n",
      "555:\tlearn: 0.0702170\ttotal: 319ms\tremaining: 255ms\n",
      "556:\tlearn: 0.0701280\ttotal: 320ms\tremaining: 254ms\n",
      "557:\tlearn: 0.0699396\ttotal: 320ms\tremaining: 254ms\n",
      "558:\tlearn: 0.0696407\ttotal: 321ms\tremaining: 253ms\n",
      "559:\tlearn: 0.0693175\ttotal: 321ms\tremaining: 252ms\n",
      "560:\tlearn: 0.0692297\ttotal: 321ms\tremaining: 251ms\n",
      "561:\tlearn: 0.0689131\ttotal: 322ms\tremaining: 251ms\n",
      "562:\tlearn: 0.0686032\ttotal: 323ms\tremaining: 250ms\n",
      "563:\tlearn: 0.0685167\ttotal: 323ms\tremaining: 250ms\n",
      "564:\tlearn: 0.0682311\ttotal: 323ms\tremaining: 249ms\n",
      "565:\tlearn: 0.0679317\ttotal: 324ms\tremaining: 248ms\n",
      "566:\tlearn: 0.0678464\ttotal: 324ms\tremaining: 248ms\n",
      "567:\tlearn: 0.0675703\ttotal: 325ms\tremaining: 247ms\n",
      "568:\tlearn: 0.0673310\ttotal: 325ms\tremaining: 246ms\n",
      "569:\tlearn: 0.0670273\ttotal: 325ms\tremaining: 245ms\n",
      "570:\tlearn: 0.0667930\ttotal: 326ms\tremaining: 245ms\n",
      "571:\tlearn: 0.0665628\ttotal: 326ms\tremaining: 244ms\n",
      "572:\tlearn: 0.0664786\ttotal: 327ms\tremaining: 243ms\n",
      "573:\tlearn: 0.0662522\ttotal: 327ms\tremaining: 243ms\n",
      "574:\tlearn: 0.0659244\ttotal: 327ms\tremaining: 242ms\n",
      "575:\tlearn: 0.0655205\ttotal: 328ms\tremaining: 241ms\n",
      "576:\tlearn: 0.0654387\ttotal: 328ms\tremaining: 241ms\n",
      "577:\tlearn: 0.0651662\ttotal: 329ms\tremaining: 240ms\n",
      "578:\tlearn: 0.0649556\ttotal: 329ms\tremaining: 239ms\n",
      "579:\tlearn: 0.0646718\ttotal: 329ms\tremaining: 239ms\n",
      "580:\tlearn: 0.0644359\ttotal: 330ms\tremaining: 238ms\n",
      "581:\tlearn: 0.0641738\ttotal: 330ms\tremaining: 237ms\n",
      "582:\tlearn: 0.0640175\ttotal: 331ms\tremaining: 237ms\n",
      "583:\tlearn: 0.0639574\ttotal: 331ms\tremaining: 236ms\n",
      "584:\tlearn: 0.0638981\ttotal: 331ms\tremaining: 235ms\n",
      "585:\tlearn: 0.0636359\ttotal: 332ms\tremaining: 235ms\n"
     ]
    },
    {
     "name": "stdout",
     "output_type": "stream",
     "text": [
      "586:\tlearn: 0.0633931\ttotal: 333ms\tremaining: 235ms\n",
      "587:\tlearn: 0.0631807\ttotal: 336ms\tremaining: 235ms\n",
      "588:\tlearn: 0.0631224\ttotal: 336ms\tremaining: 235ms\n",
      "589:\tlearn: 0.0628866\ttotal: 337ms\tremaining: 234ms\n",
      "590:\tlearn: 0.0625171\ttotal: 338ms\tremaining: 234ms\n",
      "591:\tlearn: 0.0622537\ttotal: 338ms\tremaining: 233ms\n",
      "592:\tlearn: 0.0620649\ttotal: 338ms\tremaining: 232ms\n",
      "593:\tlearn: 0.0618379\ttotal: 339ms\tremaining: 232ms\n",
      "594:\tlearn: 0.0616443\ttotal: 340ms\tremaining: 231ms\n",
      "595:\tlearn: 0.0614369\ttotal: 340ms\tremaining: 231ms\n",
      "596:\tlearn: 0.0612487\ttotal: 341ms\tremaining: 230ms\n",
      "597:\tlearn: 0.0610648\ttotal: 341ms\tremaining: 230ms\n",
      "598:\tlearn: 0.0609227\ttotal: 342ms\tremaining: 229ms\n",
      "599:\tlearn: 0.0607837\ttotal: 342ms\tremaining: 228ms\n",
      "600:\tlearn: 0.0605950\ttotal: 343ms\tremaining: 228ms\n",
      "601:\tlearn: 0.0603973\ttotal: 343ms\tremaining: 227ms\n",
      "602:\tlearn: 0.0602540\ttotal: 344ms\tremaining: 226ms\n",
      "603:\tlearn: 0.0601137\ttotal: 344ms\tremaining: 226ms\n",
      "604:\tlearn: 0.0599210\ttotal: 345ms\tremaining: 225ms\n",
      "605:\tlearn: 0.0597835\ttotal: 346ms\tremaining: 225ms\n",
      "606:\tlearn: 0.0596007\ttotal: 346ms\tremaining: 224ms\n",
      "607:\tlearn: 0.0594725\ttotal: 347ms\tremaining: 223ms\n",
      "608:\tlearn: 0.0592948\ttotal: 347ms\tremaining: 223ms\n",
      "609:\tlearn: 0.0591424\ttotal: 347ms\tremaining: 222ms\n",
      "610:\tlearn: 0.0590095\ttotal: 348ms\tremaining: 221ms\n",
      "611:\tlearn: 0.0588293\ttotal: 349ms\tremaining: 221ms\n",
      "612:\tlearn: 0.0586811\ttotal: 349ms\tremaining: 220ms\n",
      "613:\tlearn: 0.0585508\ttotal: 349ms\tremaining: 220ms\n",
      "614:\tlearn: 0.0584259\ttotal: 350ms\tremaining: 219ms\n",
      "615:\tlearn: 0.0582784\ttotal: 350ms\tremaining: 218ms\n",
      "616:\tlearn: 0.0581239\ttotal: 351ms\tremaining: 218ms\n",
      "617:\tlearn: 0.0579529\ttotal: 352ms\tremaining: 218ms\n",
      "618:\tlearn: 0.0578269\ttotal: 352ms\tremaining: 217ms\n",
      "619:\tlearn: 0.0576751\ttotal: 353ms\tremaining: 216ms\n",
      "620:\tlearn: 0.0575031\ttotal: 353ms\tremaining: 216ms\n",
      "621:\tlearn: 0.0573975\ttotal: 354ms\tremaining: 215ms\n",
      "622:\tlearn: 0.0572740\ttotal: 354ms\tremaining: 214ms\n",
      "623:\tlearn: 0.0571824\ttotal: 355ms\tremaining: 214ms\n",
      "624:\tlearn: 0.0569653\ttotal: 355ms\tremaining: 213ms\n",
      "625:\tlearn: 0.0568614\ttotal: 355ms\tremaining: 212ms\n",
      "626:\tlearn: 0.0567590\ttotal: 356ms\tremaining: 212ms\n",
      "627:\tlearn: 0.0565473\ttotal: 357ms\tremaining: 211ms\n",
      "628:\tlearn: 0.0564463\ttotal: 357ms\tremaining: 211ms\n",
      "629:\tlearn: 0.0562825\ttotal: 358ms\tremaining: 210ms\n",
      "630:\tlearn: 0.0561827\ttotal: 359ms\tremaining: 210ms\n",
      "631:\tlearn: 0.0560228\ttotal: 359ms\tremaining: 209ms\n",
      "632:\tlearn: 0.0557992\ttotal: 360ms\tremaining: 208ms\n",
      "633:\tlearn: 0.0557003\ttotal: 360ms\tremaining: 208ms\n",
      "634:\tlearn: 0.0556468\ttotal: 360ms\tremaining: 207ms\n",
      "635:\tlearn: 0.0555604\ttotal: 361ms\tremaining: 207ms\n",
      "636:\tlearn: 0.0553595\ttotal: 361ms\tremaining: 206ms\n",
      "637:\tlearn: 0.0552619\ttotal: 362ms\tremaining: 205ms\n",
      "638:\tlearn: 0.0550464\ttotal: 362ms\tremaining: 205ms\n",
      "639:\tlearn: 0.0549343\ttotal: 362ms\tremaining: 204ms\n",
      "640:\tlearn: 0.0547939\ttotal: 363ms\tremaining: 203ms\n",
      "641:\tlearn: 0.0546985\ttotal: 363ms\tremaining: 203ms\n",
      "642:\tlearn: 0.0546116\ttotal: 364ms\tremaining: 202ms\n",
      "643:\tlearn: 0.0545588\ttotal: 365ms\tremaining: 202ms\n",
      "644:\tlearn: 0.0544416\ttotal: 366ms\tremaining: 201ms\n",
      "645:\tlearn: 0.0543479\ttotal: 366ms\tremaining: 201ms\n",
      "646:\tlearn: 0.0542959\ttotal: 367ms\tremaining: 200ms\n",
      "647:\tlearn: 0.0542036\ttotal: 367ms\tremaining: 199ms\n",
      "648:\tlearn: 0.0541080\ttotal: 368ms\tremaining: 199ms\n",
      "649:\tlearn: 0.0540566\ttotal: 369ms\tremaining: 199ms\n",
      "650:\tlearn: 0.0540059\ttotal: 370ms\tremaining: 198ms\n",
      "651:\tlearn: 0.0538053\ttotal: 370ms\tremaining: 197ms\n",
      "652:\tlearn: 0.0536690\ttotal: 370ms\tremaining: 197ms\n",
      "653:\tlearn: 0.0535857\ttotal: 371ms\tremaining: 196ms\n",
      "654:\tlearn: 0.0534711\ttotal: 372ms\tremaining: 196ms\n",
      "655:\tlearn: 0.0533853\ttotal: 373ms\tremaining: 196ms\n",
      "656:\tlearn: 0.0533352\ttotal: 374ms\tremaining: 195ms\n",
      "657:\tlearn: 0.0532506\ttotal: 374ms\tremaining: 195ms\n",
      "658:\tlearn: 0.0531587\ttotal: 375ms\tremaining: 194ms\n",
      "659:\tlearn: 0.0531091\ttotal: 375ms\tremaining: 193ms\n",
      "660:\tlearn: 0.0529795\ttotal: 375ms\tremaining: 193ms\n",
      "661:\tlearn: 0.0529309\ttotal: 377ms\tremaining: 193ms\n",
      "662:\tlearn: 0.0528831\ttotal: 378ms\tremaining: 192ms\n",
      "663:\tlearn: 0.0527071\ttotal: 378ms\tremaining: 192ms\n",
      "664:\tlearn: 0.0525799\ttotal: 379ms\tremaining: 191ms\n",
      "665:\tlearn: 0.0523861\ttotal: 380ms\tremaining: 190ms\n",
      "666:\tlearn: 0.0522548\ttotal: 380ms\tremaining: 190ms\n",
      "667:\tlearn: 0.0521433\ttotal: 381ms\tremaining: 189ms\n",
      "668:\tlearn: 0.0520375\ttotal: 381ms\tremaining: 188ms\n",
      "669:\tlearn: 0.0519005\ttotal: 381ms\tremaining: 188ms\n",
      "670:\tlearn: 0.0517907\ttotal: 382ms\tremaining: 187ms\n",
      "671:\tlearn: 0.0516882\ttotal: 382ms\tremaining: 187ms\n",
      "672:\tlearn: 0.0515804\ttotal: 383ms\tremaining: 186ms\n",
      "673:\tlearn: 0.0514935\ttotal: 383ms\tremaining: 185ms\n",
      "674:\tlearn: 0.0513929\ttotal: 383ms\tremaining: 185ms\n",
      "675:\tlearn: 0.0512872\ttotal: 384ms\tremaining: 184ms\n",
      "676:\tlearn: 0.0511562\ttotal: 384ms\tremaining: 183ms\n",
      "677:\tlearn: 0.0510716\ttotal: 384ms\tremaining: 183ms\n",
      "678:\tlearn: 0.0509681\ttotal: 386ms\tremaining: 182ms\n",
      "679:\tlearn: 0.0508703\ttotal: 386ms\tremaining: 182ms\n",
      "680:\tlearn: 0.0507876\ttotal: 387ms\tremaining: 181ms\n",
      "681:\tlearn: 0.0506862\ttotal: 387ms\tremaining: 181ms\n",
      "682:\tlearn: 0.0505902\ttotal: 388ms\tremaining: 180ms\n",
      "683:\tlearn: 0.0505303\ttotal: 388ms\tremaining: 179ms\n",
      "684:\tlearn: 0.0504320\ttotal: 388ms\tremaining: 179ms\n",
      "685:\tlearn: 0.0502739\ttotal: 389ms\tremaining: 178ms\n",
      "686:\tlearn: 0.0501291\ttotal: 389ms\tremaining: 177ms\n",
      "687:\tlearn: 0.0500516\ttotal: 390ms\tremaining: 177ms\n",
      "688:\tlearn: 0.0499028\ttotal: 390ms\tremaining: 176ms\n",
      "689:\tlearn: 0.0497106\ttotal: 390ms\tremaining: 175ms\n",
      "690:\tlearn: 0.0496339\ttotal: 391ms\tremaining: 175ms\n",
      "691:\tlearn: 0.0494456\ttotal: 392ms\tremaining: 175ms\n",
      "692:\tlearn: 0.0494030\ttotal: 393ms\tremaining: 174ms\n",
      "693:\tlearn: 0.0493110\ttotal: 393ms\tremaining: 173ms\n",
      "694:\tlearn: 0.0492353\ttotal: 393ms\tremaining: 173ms\n",
      "695:\tlearn: 0.0491513\ttotal: 394ms\tremaining: 172ms\n",
      "696:\tlearn: 0.0490091\ttotal: 394ms\tremaining: 171ms\n",
      "697:\tlearn: 0.0489118\ttotal: 394ms\tremaining: 171ms\n",
      "698:\tlearn: 0.0487273\ttotal: 395ms\tremaining: 170ms\n",
      "699:\tlearn: 0.0486528\ttotal: 395ms\tremaining: 169ms\n",
      "700:\tlearn: 0.0484552\ttotal: 396ms\tremaining: 169ms\n",
      "701:\tlearn: 0.0483734\ttotal: 396ms\tremaining: 168ms\n",
      "702:\tlearn: 0.0482142\ttotal: 397ms\tremaining: 168ms\n",
      "703:\tlearn: 0.0480589\ttotal: 398ms\tremaining: 167ms\n",
      "704:\tlearn: 0.0479074\ttotal: 398ms\tremaining: 167ms\n",
      "705:\tlearn: 0.0477338\ttotal: 399ms\tremaining: 166ms\n",
      "706:\tlearn: 0.0475616\ttotal: 399ms\tremaining: 165ms\n",
      "707:\tlearn: 0.0473611\ttotal: 400ms\tremaining: 165ms\n"
     ]
    },
    {
     "name": "stdout",
     "output_type": "stream",
     "text": [
      "708:\tlearn: 0.0471933\ttotal: 402ms\tremaining: 165ms\n",
      "709:\tlearn: 0.0470247\ttotal: 403ms\tremaining: 165ms\n",
      "710:\tlearn: 0.0468773\ttotal: 404ms\tremaining: 164ms\n",
      "711:\tlearn: 0.0467370\ttotal: 405ms\tremaining: 164ms\n",
      "712:\tlearn: 0.0465949\ttotal: 405ms\tremaining: 163ms\n",
      "713:\tlearn: 0.0464264\ttotal: 406ms\tremaining: 163ms\n",
      "714:\tlearn: 0.0462607\ttotal: 406ms\tremaining: 162ms\n",
      "715:\tlearn: 0.0460978\ttotal: 407ms\tremaining: 161ms\n",
      "716:\tlearn: 0.0460589\ttotal: 407ms\tremaining: 161ms\n",
      "717:\tlearn: 0.0459314\ttotal: 407ms\tremaining: 160ms\n",
      "718:\tlearn: 0.0457935\ttotal: 408ms\tremaining: 159ms\n",
      "719:\tlearn: 0.0457557\ttotal: 408ms\tremaining: 159ms\n",
      "720:\tlearn: 0.0455963\ttotal: 409ms\tremaining: 158ms\n",
      "721:\tlearn: 0.0455095\ttotal: 409ms\tremaining: 158ms\n",
      "722:\tlearn: 0.0453214\ttotal: 410ms\tremaining: 157ms\n",
      "723:\tlearn: 0.0452845\ttotal: 410ms\tremaining: 156ms\n",
      "724:\tlearn: 0.0452482\ttotal: 411ms\tremaining: 156ms\n",
      "725:\tlearn: 0.0450476\ttotal: 411ms\tremaining: 155ms\n",
      "726:\tlearn: 0.0449072\ttotal: 411ms\tremaining: 154ms\n",
      "727:\tlearn: 0.0448046\ttotal: 412ms\tremaining: 154ms\n",
      "728:\tlearn: 0.0446508\ttotal: 412ms\tremaining: 153ms\n",
      "729:\tlearn: 0.0444874\ttotal: 413ms\tremaining: 153ms\n",
      "730:\tlearn: 0.0443559\ttotal: 413ms\tremaining: 152ms\n",
      "731:\tlearn: 0.0441960\ttotal: 414ms\tremaining: 151ms\n",
      "732:\tlearn: 0.0440438\ttotal: 414ms\tremaining: 151ms\n",
      "733:\tlearn: 0.0439439\ttotal: 415ms\tremaining: 150ms\n",
      "734:\tlearn: 0.0437874\ttotal: 415ms\tremaining: 150ms\n",
      "735:\tlearn: 0.0436388\ttotal: 416ms\tremaining: 149ms\n",
      "736:\tlearn: 0.0435105\ttotal: 416ms\tremaining: 149ms\n",
      "737:\tlearn: 0.0433577\ttotal: 417ms\tremaining: 148ms\n",
      "738:\tlearn: 0.0432310\ttotal: 417ms\tremaining: 147ms\n",
      "739:\tlearn: 0.0430913\ttotal: 418ms\tremaining: 147ms\n",
      "740:\tlearn: 0.0429637\ttotal: 418ms\tremaining: 146ms\n",
      "741:\tlearn: 0.0428385\ttotal: 419ms\tremaining: 146ms\n",
      "742:\tlearn: 0.0426898\ttotal: 419ms\tremaining: 145ms\n",
      "743:\tlearn: 0.0425460\ttotal: 419ms\tremaining: 144ms\n",
      "744:\tlearn: 0.0424496\ttotal: 420ms\tremaining: 144ms\n",
      "745:\tlearn: 0.0423544\ttotal: 421ms\tremaining: 143ms\n",
      "746:\tlearn: 0.0422335\ttotal: 421ms\tremaining: 143ms\n",
      "747:\tlearn: 0.0420888\ttotal: 422ms\tremaining: 142ms\n",
      "748:\tlearn: 0.0419490\ttotal: 422ms\tremaining: 141ms\n",
      "749:\tlearn: 0.0418854\ttotal: 423ms\tremaining: 141ms\n",
      "750:\tlearn: 0.0416745\ttotal: 423ms\tremaining: 140ms\n",
      "751:\tlearn: 0.0415832\ttotal: 424ms\tremaining: 140ms\n",
      "752:\tlearn: 0.0415215\ttotal: 424ms\tremaining: 139ms\n",
      "753:\tlearn: 0.0414525\ttotal: 424ms\tremaining: 138ms\n",
      "754:\tlearn: 0.0412928\ttotal: 425ms\tremaining: 138ms\n",
      "755:\tlearn: 0.0411875\ttotal: 425ms\tremaining: 137ms\n",
      "756:\tlearn: 0.0410839\ttotal: 426ms\tremaining: 137ms\n",
      "757:\tlearn: 0.0409820\ttotal: 426ms\tremaining: 136ms\n",
      "758:\tlearn: 0.0408941\ttotal: 427ms\tremaining: 135ms\n",
      "759:\tlearn: 0.0408079\ttotal: 427ms\tremaining: 135ms\n",
      "760:\tlearn: 0.0407095\ttotal: 427ms\tremaining: 134ms\n",
      "761:\tlearn: 0.0406257\ttotal: 428ms\tremaining: 134ms\n",
      "762:\tlearn: 0.0405430\ttotal: 428ms\tremaining: 133ms\n",
      "763:\tlearn: 0.0404393\ttotal: 429ms\tremaining: 132ms\n",
      "764:\tlearn: 0.0403393\ttotal: 429ms\tremaining: 132ms\n",
      "765:\tlearn: 0.0401892\ttotal: 429ms\tremaining: 131ms\n",
      "766:\tlearn: 0.0400503\ttotal: 430ms\tremaining: 131ms\n",
      "767:\tlearn: 0.0399373\ttotal: 430ms\tremaining: 130ms\n",
      "768:\tlearn: 0.0398193\ttotal: 430ms\tremaining: 129ms\n",
      "769:\tlearn: 0.0397718\ttotal: 431ms\tremaining: 129ms\n",
      "770:\tlearn: 0.0395984\ttotal: 431ms\tremaining: 128ms\n",
      "771:\tlearn: 0.0395680\ttotal: 432ms\tremaining: 127ms\n",
      "772:\tlearn: 0.0394741\ttotal: 432ms\tremaining: 127ms\n",
      "773:\tlearn: 0.0394249\ttotal: 433ms\tremaining: 126ms\n",
      "774:\tlearn: 0.0393456\ttotal: 434ms\tremaining: 126ms\n",
      "775:\tlearn: 0.0392123\ttotal: 434ms\tremaining: 125ms\n",
      "776:\tlearn: 0.0391825\ttotal: 434ms\tremaining: 125ms\n",
      "777:\tlearn: 0.0390908\ttotal: 435ms\tremaining: 124ms\n",
      "778:\tlearn: 0.0390614\ttotal: 435ms\tremaining: 123ms\n",
      "779:\tlearn: 0.0389451\ttotal: 436ms\tremaining: 123ms\n",
      "780:\tlearn: 0.0388650\ttotal: 436ms\tremaining: 122ms\n",
      "781:\tlearn: 0.0387808\ttotal: 437ms\tremaining: 122ms\n",
      "782:\tlearn: 0.0387355\ttotal: 437ms\tremaining: 121ms\n",
      "783:\tlearn: 0.0386230\ttotal: 437ms\tremaining: 121ms\n",
      "784:\tlearn: 0.0385416\ttotal: 438ms\tremaining: 120ms\n",
      "785:\tlearn: 0.0383942\ttotal: 438ms\tremaining: 119ms\n",
      "786:\tlearn: 0.0382817\ttotal: 439ms\tremaining: 119ms\n",
      "787:\tlearn: 0.0381713\ttotal: 439ms\tremaining: 118ms\n",
      "788:\tlearn: 0.0380274\ttotal: 440ms\tremaining: 118ms\n",
      "789:\tlearn: 0.0379193\ttotal: 440ms\tremaining: 117ms\n",
      "790:\tlearn: 0.0378114\ttotal: 441ms\tremaining: 116ms\n",
      "791:\tlearn: 0.0376711\ttotal: 441ms\tremaining: 116ms\n",
      "792:\tlearn: 0.0375641\ttotal: 442ms\tremaining: 115ms\n",
      "793:\tlearn: 0.0374592\ttotal: 442ms\tremaining: 115ms\n",
      "794:\tlearn: 0.0373536\ttotal: 443ms\tremaining: 114ms\n",
      "795:\tlearn: 0.0372168\ttotal: 443ms\tremaining: 114ms\n",
      "796:\tlearn: 0.0371138\ttotal: 443ms\tremaining: 113ms\n",
      "797:\tlearn: 0.0370106\ttotal: 444ms\tremaining: 112ms\n",
      "798:\tlearn: 0.0368771\ttotal: 444ms\tremaining: 112ms\n",
      "799:\tlearn: 0.0367758\ttotal: 445ms\tremaining: 111ms\n",
      "800:\tlearn: 0.0366764\ttotal: 445ms\tremaining: 111ms\n",
      "801:\tlearn: 0.0365577\ttotal: 446ms\tremaining: 110ms\n",
      "802:\tlearn: 0.0364278\ttotal: 446ms\tremaining: 110ms\n",
      "803:\tlearn: 0.0362988\ttotal: 447ms\tremaining: 109ms\n",
      "804:\tlearn: 0.0361939\ttotal: 447ms\tremaining: 108ms\n",
      "805:\tlearn: 0.0360967\ttotal: 448ms\tremaining: 108ms\n",
      "806:\tlearn: 0.0360272\ttotal: 448ms\tremaining: 107ms\n",
      "807:\tlearn: 0.0358894\ttotal: 449ms\tremaining: 107ms\n",
      "808:\tlearn: 0.0357936\ttotal: 449ms\tremaining: 106ms\n",
      "809:\tlearn: 0.0357355\ttotal: 449ms\tremaining: 105ms\n",
      "810:\tlearn: 0.0356805\ttotal: 450ms\tremaining: 105ms\n",
      "811:\tlearn: 0.0355576\ttotal: 451ms\tremaining: 104ms\n",
      "812:\tlearn: 0.0354915\ttotal: 451ms\tremaining: 104ms\n",
      "813:\tlearn: 0.0353559\ttotal: 452ms\tremaining: 103ms\n",
      "814:\tlearn: 0.0352338\ttotal: 452ms\tremaining: 103ms\n",
      "815:\tlearn: 0.0350832\ttotal: 452ms\tremaining: 102ms\n",
      "816:\tlearn: 0.0350496\ttotal: 453ms\tremaining: 101ms\n",
      "817:\tlearn: 0.0349023\ttotal: 453ms\tremaining: 101ms\n",
      "818:\tlearn: 0.0347581\ttotal: 454ms\tremaining: 100ms\n",
      "819:\tlearn: 0.0346566\ttotal: 454ms\tremaining: 99.7ms\n",
      "820:\tlearn: 0.0346238\ttotal: 455ms\tremaining: 99.2ms\n",
      "821:\tlearn: 0.0344964\ttotal: 455ms\tremaining: 98.6ms\n",
      "822:\tlearn: 0.0344038\ttotal: 455ms\tremaining: 97.9ms\n",
      "823:\tlearn: 0.0343050\ttotal: 456ms\tremaining: 97.4ms\n",
      "824:\tlearn: 0.0341918\ttotal: 456ms\tremaining: 96.8ms\n",
      "825:\tlearn: 0.0341006\ttotal: 457ms\tremaining: 96.2ms\n",
      "826:\tlearn: 0.0340374\ttotal: 457ms\tremaining: 95.6ms\n",
      "827:\tlearn: 0.0339448\ttotal: 458ms\tremaining: 95ms\n",
      "828:\tlearn: 0.0338219\ttotal: 458ms\tremaining: 94.5ms\n",
      "829:\tlearn: 0.0337909\ttotal: 458ms\tremaining: 93.9ms\n",
      "830:\tlearn: 0.0337023\ttotal: 459ms\tremaining: 93.3ms\n",
      "831:\tlearn: 0.0336520\ttotal: 459ms\tremaining: 92.7ms\n",
      "832:\tlearn: 0.0335323\ttotal: 460ms\tremaining: 92.2ms\n",
      "833:\tlearn: 0.0334427\ttotal: 460ms\tremaining: 91.6ms\n",
      "834:\tlearn: 0.0333564\ttotal: 461ms\tremaining: 91ms\n",
      "835:\tlearn: 0.0332479\ttotal: 461ms\tremaining: 90.5ms\n",
      "836:\tlearn: 0.0331532\ttotal: 462ms\tremaining: 89.9ms\n",
      "837:\tlearn: 0.0330090\ttotal: 462ms\tremaining: 89.3ms\n",
      "838:\tlearn: 0.0329156\ttotal: 462ms\tremaining: 88.7ms\n",
      "839:\tlearn: 0.0328106\ttotal: 463ms\tremaining: 88.2ms\n",
      "840:\tlearn: 0.0327193\ttotal: 463ms\tremaining: 87.6ms\n",
      "841:\tlearn: 0.0326316\ttotal: 464ms\tremaining: 87ms\n",
      "842:\tlearn: 0.0325292\ttotal: 464ms\tremaining: 86.4ms\n",
      "843:\tlearn: 0.0324175\ttotal: 465ms\tremaining: 85.9ms\n",
      "844:\tlearn: 0.0323336\ttotal: 465ms\tremaining: 85.3ms\n",
      "845:\tlearn: 0.0322742\ttotal: 466ms\tremaining: 84.8ms\n",
      "846:\tlearn: 0.0321938\ttotal: 466ms\tremaining: 84.2ms\n",
      "847:\tlearn: 0.0321154\ttotal: 467ms\tremaining: 83.7ms\n",
      "848:\tlearn: 0.0320326\ttotal: 467ms\tremaining: 83.1ms\n",
      "849:\tlearn: 0.0320041\ttotal: 468ms\tremaining: 82.5ms\n",
      "850:\tlearn: 0.0319045\ttotal: 468ms\tremaining: 82ms\n",
      "851:\tlearn: 0.0318199\ttotal: 468ms\tremaining: 81.4ms\n",
      "852:\tlearn: 0.0317426\ttotal: 469ms\tremaining: 80.8ms\n",
      "853:\tlearn: 0.0316620\ttotal: 469ms\tremaining: 80.2ms\n",
      "854:\tlearn: 0.0315556\ttotal: 470ms\tremaining: 79.7ms\n",
      "855:\tlearn: 0.0314514\ttotal: 470ms\tremaining: 79.1ms\n",
      "856:\tlearn: 0.0313457\ttotal: 471ms\tremaining: 78.5ms\n",
      "857:\tlearn: 0.0312585\ttotal: 471ms\tremaining: 77.9ms\n",
      "858:\tlearn: 0.0311351\ttotal: 472ms\tremaining: 77.4ms\n",
      "859:\tlearn: 0.0310795\ttotal: 472ms\tremaining: 76.9ms\n",
      "860:\tlearn: 0.0309851\ttotal: 473ms\tremaining: 76.3ms\n",
      "861:\tlearn: 0.0308597\ttotal: 473ms\tremaining: 75.7ms\n",
      "862:\tlearn: 0.0307762\ttotal: 474ms\tremaining: 75.2ms\n",
      "863:\tlearn: 0.0307304\ttotal: 474ms\tremaining: 74.6ms\n",
      "864:\tlearn: 0.0306392\ttotal: 474ms\tremaining: 74ms\n",
      "865:\tlearn: 0.0305571\ttotal: 475ms\tremaining: 73.5ms\n",
      "866:\tlearn: 0.0304739\ttotal: 475ms\tremaining: 72.9ms\n",
      "867:\tlearn: 0.0303841\ttotal: 476ms\tremaining: 72.3ms\n",
      "868:\tlearn: 0.0303049\ttotal: 476ms\tremaining: 71.8ms\n",
      "869:\tlearn: 0.0301875\ttotal: 477ms\tremaining: 71.2ms\n",
      "870:\tlearn: 0.0300912\ttotal: 477ms\tremaining: 70.7ms\n",
      "871:\tlearn: 0.0300100\ttotal: 477ms\tremaining: 70.1ms\n",
      "872:\tlearn: 0.0299070\ttotal: 478ms\tremaining: 69.6ms\n",
      "873:\tlearn: 0.0297936\ttotal: 479ms\tremaining: 69ms\n",
      "874:\tlearn: 0.0296888\ttotal: 479ms\tremaining: 68.5ms\n",
      "875:\tlearn: 0.0295868\ttotal: 480ms\tremaining: 67.9ms\n",
      "876:\tlearn: 0.0295442\ttotal: 480ms\tremaining: 67.3ms\n",
      "877:\tlearn: 0.0294888\ttotal: 480ms\tremaining: 66.8ms\n",
      "878:\tlearn: 0.0294377\ttotal: 481ms\tremaining: 66.2ms\n",
      "879:\tlearn: 0.0294126\ttotal: 481ms\tremaining: 65.6ms\n",
      "880:\tlearn: 0.0293265\ttotal: 482ms\tremaining: 65.1ms\n",
      "881:\tlearn: 0.0292302\ttotal: 483ms\tremaining: 64.6ms\n",
      "882:\tlearn: 0.0291531\ttotal: 483ms\tremaining: 64ms\n",
      "883:\tlearn: 0.0290921\ttotal: 484ms\tremaining: 63.5ms\n"
     ]
    },
    {
     "name": "stdout",
     "output_type": "stream",
     "text": [
      "884:\tlearn: 0.0290084\ttotal: 484ms\tremaining: 62.9ms\n",
      "885:\tlearn: 0.0289485\ttotal: 485ms\tremaining: 62.4ms\n",
      "886:\tlearn: 0.0289088\ttotal: 486ms\tremaining: 61.9ms\n",
      "887:\tlearn: 0.0288162\ttotal: 487ms\tremaining: 61.4ms\n",
      "888:\tlearn: 0.0287687\ttotal: 487ms\tremaining: 60.8ms\n",
      "889:\tlearn: 0.0287105\ttotal: 488ms\tremaining: 60.3ms\n",
      "890:\tlearn: 0.0286103\ttotal: 488ms\tremaining: 59.7ms\n",
      "891:\tlearn: 0.0285403\ttotal: 489ms\tremaining: 59.2ms\n",
      "892:\tlearn: 0.0284503\ttotal: 490ms\tremaining: 58.7ms\n",
      "893:\tlearn: 0.0283935\ttotal: 491ms\tremaining: 58.2ms\n",
      "894:\tlearn: 0.0283061\ttotal: 491ms\tremaining: 57.6ms\n",
      "895:\tlearn: 0.0282185\ttotal: 492ms\tremaining: 57.1ms\n",
      "896:\tlearn: 0.0281272\ttotal: 493ms\tremaining: 56.6ms\n",
      "897:\tlearn: 0.0280769\ttotal: 493ms\tremaining: 56ms\n",
      "898:\tlearn: 0.0279974\ttotal: 494ms\tremaining: 55.5ms\n",
      "899:\tlearn: 0.0279482\ttotal: 494ms\tremaining: 54.9ms\n",
      "900:\tlearn: 0.0279127\ttotal: 494ms\tremaining: 54.3ms\n",
      "901:\tlearn: 0.0278295\ttotal: 495ms\tremaining: 53.8ms\n",
      "902:\tlearn: 0.0277818\ttotal: 495ms\tremaining: 53.2ms\n",
      "903:\tlearn: 0.0276990\ttotal: 496ms\tremaining: 52.7ms\n",
      "904:\tlearn: 0.0276237\ttotal: 497ms\tremaining: 52.1ms\n",
      "905:\tlearn: 0.0275895\ttotal: 497ms\tremaining: 51.6ms\n",
      "906:\tlearn: 0.0275406\ttotal: 498ms\tremaining: 51ms\n",
      "907:\tlearn: 0.0274940\ttotal: 498ms\tremaining: 50.5ms\n",
      "908:\tlearn: 0.0274084\ttotal: 499ms\tremaining: 49.9ms\n",
      "909:\tlearn: 0.0273271\ttotal: 499ms\tremaining: 49.4ms\n",
      "910:\tlearn: 0.0272606\ttotal: 500ms\tremaining: 48.8ms\n",
      "911:\tlearn: 0.0271868\ttotal: 500ms\tremaining: 48.3ms\n",
      "912:\tlearn: 0.0271072\ttotal: 501ms\tremaining: 47.7ms\n",
      "913:\tlearn: 0.0270526\ttotal: 501ms\tremaining: 47.2ms\n",
      "914:\tlearn: 0.0269803\ttotal: 502ms\tremaining: 46.6ms\n",
      "915:\tlearn: 0.0268791\ttotal: 502ms\tremaining: 46ms\n",
      "916:\tlearn: 0.0268574\ttotal: 503ms\tremaining: 45.5ms\n",
      "917:\tlearn: 0.0267794\ttotal: 503ms\tremaining: 45ms\n",
      "918:\tlearn: 0.0267059\ttotal: 504ms\tremaining: 44.4ms\n",
      "919:\tlearn: 0.0266587\ttotal: 504ms\tremaining: 43.8ms\n",
      "920:\tlearn: 0.0266150\ttotal: 505ms\tremaining: 43.3ms\n",
      "921:\tlearn: 0.0265413\ttotal: 505ms\tremaining: 42.7ms\n",
      "922:\tlearn: 0.0264645\ttotal: 506ms\tremaining: 42.2ms\n",
      "923:\tlearn: 0.0264123\ttotal: 506ms\tremaining: 41.6ms\n",
      "924:\tlearn: 0.0263232\ttotal: 506ms\tremaining: 41.1ms\n",
      "925:\tlearn: 0.0262130\ttotal: 507ms\tremaining: 40.5ms\n",
      "926:\tlearn: 0.0261797\ttotal: 507ms\tremaining: 39.9ms\n",
      "927:\tlearn: 0.0260884\ttotal: 508ms\tremaining: 39.4ms\n",
      "928:\tlearn: 0.0260562\ttotal: 508ms\tremaining: 38.8ms\n",
      "929:\tlearn: 0.0260149\ttotal: 509ms\tremaining: 38.3ms\n",
      "930:\tlearn: 0.0259951\ttotal: 509ms\tremaining: 37.8ms\n",
      "931:\tlearn: 0.0259010\ttotal: 510ms\tremaining: 37.2ms\n",
      "932:\tlearn: 0.0258488\ttotal: 510ms\tremaining: 36.7ms\n",
      "933:\tlearn: 0.0258171\ttotal: 511ms\tremaining: 36.1ms\n",
      "934:\tlearn: 0.0257434\ttotal: 511ms\tremaining: 35.5ms\n",
      "935:\tlearn: 0.0257119\ttotal: 511ms\tremaining: 35ms\n",
      "936:\tlearn: 0.0256810\ttotal: 512ms\tremaining: 34.4ms\n",
      "937:\tlearn: 0.0256620\ttotal: 512ms\tremaining: 33.9ms\n",
      "938:\tlearn: 0.0256108\ttotal: 513ms\tremaining: 33.3ms\n",
      "939:\tlearn: 0.0255803\ttotal: 513ms\tremaining: 32.8ms\n",
      "940:\tlearn: 0.0255057\ttotal: 514ms\tremaining: 32.2ms\n",
      "941:\tlearn: 0.0254553\ttotal: 514ms\tremaining: 31.6ms\n",
      "942:\tlearn: 0.0254203\ttotal: 514ms\tremaining: 31.1ms\n",
      "943:\tlearn: 0.0253707\ttotal: 515ms\tremaining: 30.5ms\n",
      "944:\tlearn: 0.0253412\ttotal: 515ms\tremaining: 30ms\n",
      "945:\tlearn: 0.0252922\ttotal: 516ms\tremaining: 29.4ms\n",
      "946:\tlearn: 0.0252637\ttotal: 516ms\tremaining: 28.9ms\n",
      "947:\tlearn: 0.0252153\ttotal: 517ms\tremaining: 28.4ms\n",
      "948:\tlearn: 0.0251519\ttotal: 517ms\tremaining: 27.8ms\n",
      "949:\tlearn: 0.0251041\ttotal: 518ms\tremaining: 27.3ms\n",
      "950:\tlearn: 0.0250460\ttotal: 518ms\tremaining: 26.7ms\n",
      "951:\tlearn: 0.0249802\ttotal: 519ms\tremaining: 26.1ms\n",
      "952:\tlearn: 0.0249327\ttotal: 519ms\tremaining: 25.6ms\n",
      "953:\tlearn: 0.0248686\ttotal: 520ms\tremaining: 25ms\n",
      "954:\tlearn: 0.0248216\ttotal: 520ms\tremaining: 24.5ms\n",
      "955:\tlearn: 0.0247892\ttotal: 520ms\tremaining: 23.9ms\n",
      "956:\tlearn: 0.0247430\ttotal: 521ms\tremaining: 23.4ms\n",
      "957:\tlearn: 0.0246840\ttotal: 521ms\tremaining: 22.8ms\n",
      "958:\tlearn: 0.0246490\ttotal: 522ms\tremaining: 22.3ms\n",
      "959:\tlearn: 0.0245871\ttotal: 523ms\tremaining: 21.8ms\n",
      "960:\tlearn: 0.0245526\ttotal: 523ms\tremaining: 21.2ms\n",
      "961:\tlearn: 0.0244956\ttotal: 523ms\tremaining: 20.7ms\n",
      "962:\tlearn: 0.0244615\ttotal: 524ms\tremaining: 20.1ms\n",
      "963:\tlearn: 0.0244173\ttotal: 524ms\tremaining: 19.6ms\n",
      "964:\tlearn: 0.0243961\ttotal: 525ms\tremaining: 19ms\n",
      "965:\tlearn: 0.0243007\ttotal: 525ms\tremaining: 18.5ms\n",
      "966:\tlearn: 0.0242565\ttotal: 526ms\tremaining: 17.9ms\n",
      "967:\tlearn: 0.0242450\ttotal: 526ms\tremaining: 17.4ms\n",
      "968:\tlearn: 0.0242048\ttotal: 527ms\tremaining: 16.8ms\n",
      "969:\tlearn: 0.0241920\ttotal: 527ms\tremaining: 16.3ms\n",
      "970:\tlearn: 0.0240982\ttotal: 527ms\tremaining: 15.7ms\n",
      "971:\tlearn: 0.0240199\ttotal: 528ms\tremaining: 15.2ms\n",
      "972:\tlearn: 0.0239595\ttotal: 528ms\tremaining: 14.7ms\n",
      "973:\tlearn: 0.0238749\ttotal: 529ms\tremaining: 14.1ms\n",
      "974:\tlearn: 0.0238164\ttotal: 529ms\tremaining: 13.6ms\n",
      "975:\tlearn: 0.0237351\ttotal: 530ms\tremaining: 13ms\n",
      "976:\tlearn: 0.0236541\ttotal: 530ms\tremaining: 12.5ms\n",
      "977:\tlearn: 0.0235973\ttotal: 530ms\tremaining: 11.9ms\n",
      "978:\tlearn: 0.0235183\ttotal: 531ms\tremaining: 11.4ms\n",
      "979:\tlearn: 0.0234838\ttotal: 531ms\tremaining: 10.8ms\n",
      "980:\tlearn: 0.0234719\ttotal: 532ms\tremaining: 10.3ms\n",
      "981:\tlearn: 0.0233816\ttotal: 532ms\tremaining: 9.75ms\n",
      "982:\tlearn: 0.0233698\ttotal: 532ms\tremaining: 9.21ms\n",
      "983:\tlearn: 0.0232990\ttotal: 533ms\tremaining: 8.66ms\n",
      "984:\tlearn: 0.0232851\ttotal: 533ms\tremaining: 8.12ms\n",
      "985:\tlearn: 0.0231979\ttotal: 534ms\tremaining: 7.58ms\n",
      "986:\tlearn: 0.0231865\ttotal: 534ms\tremaining: 7.04ms\n",
      "987:\tlearn: 0.0231454\ttotal: 535ms\tremaining: 6.5ms\n",
      "988:\tlearn: 0.0231049\ttotal: 536ms\tremaining: 5.96ms\n",
      "989:\tlearn: 0.0230286\ttotal: 536ms\tremaining: 5.42ms\n",
      "990:\tlearn: 0.0229620\ttotal: 537ms\tremaining: 4.87ms\n",
      "991:\tlearn: 0.0229485\ttotal: 537ms\tremaining: 4.33ms\n",
      "992:\tlearn: 0.0228830\ttotal: 538ms\tremaining: 3.79ms\n",
      "993:\tlearn: 0.0228091\ttotal: 538ms\tremaining: 3.25ms\n",
      "994:\tlearn: 0.0227960\ttotal: 539ms\tremaining: 2.71ms\n",
      "995:\tlearn: 0.0227294\ttotal: 539ms\tremaining: 2.16ms\n",
      "996:\tlearn: 0.0226656\ttotal: 540ms\tremaining: 1.62ms\n",
      "997:\tlearn: 0.0226548\ttotal: 540ms\tremaining: 1.08ms\n",
      "998:\tlearn: 0.0225823\ttotal: 540ms\tremaining: 540us\n",
      "999:\tlearn: 0.0225095\ttotal: 541ms\tremaining: 0us\n"
     ]
    },
    {
     "name": "stdout",
     "output_type": "stream",
     "text": [
      "Mean Absolute error 0.395438555125449\n"
     ]
    },
    {
     "data": {
      "application/scrapbook.scrap.json+json": {
       "data": 0.395438555125449,
       "encoder": "json",
       "name": "Catboost MAE",
       "version": 1
      }
     },
     "metadata": {
      "scrapbook": {
       "data": true,
       "display": false,
       "name": "Catboost MAE"
      }
     },
     "output_type": "display_data"
    }
   ],
   "source": [
    "mae_cb = baselineModels.catboost(X_train,y_train,X_test,y_test)\n",
    "#Store MSE Value\n",
    "sb.glue(\"Catboost MAE\",mae_cb)"
   ]
  },
  {
   "cell_type": "markdown",
   "id": "99a423b1",
   "metadata": {
    "papermill": {
     "duration": 0.031022,
     "end_time": "2022-06-22T10:46:53.434216",
     "exception": false,
     "start_time": "2022-06-22T10:46:53.403194",
     "status": "completed"
    },
    "tags": []
   },
   "source": [
    "# TabNet regressor"
   ]
  },
  {
   "cell_type": "code",
   "execution_count": 7,
   "id": "014cb08b",
   "metadata": {
    "execution": {
     "iopub.execute_input": "2022-06-22T10:46:53.616818Z",
     "iopub.status.busy": "2022-06-22T10:46:53.610110Z",
     "iopub.status.idle": "2022-06-22T10:46:53.622452Z",
     "shell.execute_reply": "2022-06-22T10:46:53.624644Z"
    },
    "papermill": {
     "duration": 0.111379,
     "end_time": "2022-06-22T10:46:53.625169",
     "exception": false,
     "start_time": "2022-06-22T10:46:53.513790",
     "status": "completed"
    },
    "tags": []
   },
   "outputs": [],
   "source": [
    "n_epochs = 1000\n",
    "batch_size = 32"
   ]
  },
  {
   "cell_type": "code",
   "execution_count": 8,
   "id": "1e41b06b",
   "metadata": {
    "execution": {
     "iopub.execute_input": "2022-06-22T10:46:53.841592Z",
     "iopub.status.busy": "2022-06-22T10:46:53.839186Z",
     "iopub.status.idle": "2022-06-22T10:47:22.451052Z",
     "shell.execute_reply": "2022-06-22T10:47:22.450478Z"
    },
    "papermill": {
     "duration": 28.790317,
     "end_time": "2022-06-22T10:47:22.451247",
     "exception": false,
     "start_time": "2022-06-22T10:46:53.660930",
     "status": "completed"
    },
    "tags": []
   },
   "outputs": [
    {
     "name": "stdout",
     "output_type": "stream",
     "text": [
      "(80,)\n",
      "Device used : cpu\n"
     ]
    },
    {
     "name": "stdout",
     "output_type": "stream",
     "text": [
      "epoch 0  | loss: 0.95637 | train_mse: 5.43805 | train_mae: 1.77611 |  0:00:02s\n",
      "epoch 1  | loss: 0.46471 | train_mse: 7.28834 | train_mae: 1.89949 |  0:00:02s\n",
      "epoch 2  | loss: 0.64324 | train_mse: 1.75581 | train_mae: 1.0313  |  0:00:02s\n"
     ]
    },
    {
     "name": "stdout",
     "output_type": "stream",
     "text": [
      "epoch 3  | loss: 0.432   | train_mse: 1.30598 | train_mae: 0.81788 |  0:00:02s\n",
      "epoch 4  | loss: 0.47425 | train_mse: 1.60296 | train_mae: 0.9369  |  0:00:02s\n",
      "epoch 5  | loss: 0.4549  | train_mse: 1.38933 | train_mae: 0.83265 |  0:00:03s\n"
     ]
    },
    {
     "name": "stdout",
     "output_type": "stream",
     "text": [
      "epoch 6  | loss: 0.40564 | train_mse: 1.18957 | train_mae: 0.7525  |  0:00:03s\n",
      "epoch 7  | loss: 0.35718 | train_mse: 0.84282 | train_mae: 0.62874 |  0:00:03s\n"
     ]
    },
    {
     "name": "stdout",
     "output_type": "stream",
     "text": [
      "epoch 8  | loss: 0.50848 | train_mse: 0.6603  | train_mae: 0.56788 |  0:00:03s\n"
     ]
    },
    {
     "name": "stdout",
     "output_type": "stream",
     "text": [
      "epoch 9  | loss: 0.27733 | train_mse: 0.68826 | train_mae: 0.58326 |  0:00:04s\n",
      "epoch 10 | loss: 0.36116 | train_mse: 0.92299 | train_mae: 0.64411 |  0:00:04s\n",
      "epoch 11 | loss: 0.36067 | train_mse: 1.34329 | train_mae: 0.75222 |  0:00:04s\n"
     ]
    },
    {
     "name": "stdout",
     "output_type": "stream",
     "text": [
      "epoch 12 | loss: 0.30613 | train_mse: 1.19002 | train_mae: 0.6785  |  0:00:04s\n",
      "epoch 13 | loss: 0.32531 | train_mse: 0.78632 | train_mae: 0.6008  |  0:00:04s\n"
     ]
    },
    {
     "name": "stdout",
     "output_type": "stream",
     "text": [
      "epoch 14 | loss: 0.35373 | train_mse: 0.40213 | train_mae: 0.4749  |  0:00:04s\n",
      "epoch 15 | loss: 0.39304 | train_mse: 0.54938 | train_mae: 0.56735 |  0:00:04s\n"
     ]
    },
    {
     "name": "stdout",
     "output_type": "stream",
     "text": [
      "epoch 16 | loss: 0.24143 | train_mse: 0.74246 | train_mae: 0.60559 |  0:00:04s\n",
      "epoch 17 | loss: 0.27294 | train_mse: 0.64383 | train_mae: 0.5486  |  0:00:05s\n"
     ]
    },
    {
     "name": "stdout",
     "output_type": "stream",
     "text": [
      "epoch 18 | loss: 0.23379 | train_mse: 0.62579 | train_mae: 0.53335 |  0:00:05s\n",
      "epoch 19 | loss: 0.39601 | train_mse: 0.32065 | train_mae: 0.4141  |  0:00:05s\n"
     ]
    },
    {
     "name": "stdout",
     "output_type": "stream",
     "text": [
      "epoch 20 | loss: 0.30549 | train_mse: 0.24982 | train_mae: 0.34328 |  0:00:05s\n",
      "epoch 21 | loss: 0.30641 | train_mse: 0.17679 | train_mae: 0.29467 |  0:00:05s\n"
     ]
    },
    {
     "name": "stdout",
     "output_type": "stream",
     "text": [
      "epoch 22 | loss: 0.24409 | train_mse: 0.15199 | train_mae: 0.27075 |  0:00:06s\n"
     ]
    },
    {
     "name": "stdout",
     "output_type": "stream",
     "text": [
      "epoch 23 | loss: 0.30977 | train_mse: 0.19712 | train_mae: 0.3062  |  0:00:06s\n",
      "epoch 24 | loss: 0.26449 | train_mse: 0.64143 | train_mae: 0.4744  |  0:00:06s\n"
     ]
    },
    {
     "name": "stdout",
     "output_type": "stream",
     "text": [
      "epoch 25 | loss: 0.24125 | train_mse: 0.68773 | train_mae: 0.50781 |  0:00:06s\n"
     ]
    },
    {
     "name": "stdout",
     "output_type": "stream",
     "text": [
      "epoch 26 | loss: 0.20535 | train_mse: 0.5835  | train_mae: 0.48493 |  0:00:07s\n"
     ]
    },
    {
     "name": "stdout",
     "output_type": "stream",
     "text": [
      "epoch 27 | loss: 0.27482 | train_mse: 0.36304 | train_mae: 0.42681 |  0:00:07s\n"
     ]
    },
    {
     "name": "stdout",
     "output_type": "stream",
     "text": [
      "epoch 28 | loss: 0.25963 | train_mse: 0.35628 | train_mae: 0.40869 |  0:00:08s\n"
     ]
    },
    {
     "name": "stdout",
     "output_type": "stream",
     "text": [
      "epoch 29 | loss: 0.27645 | train_mse: 0.34238 | train_mae: 0.39533 |  0:00:08s\n",
      "epoch 30 | loss: 0.25283 | train_mse: 0.36123 | train_mae: 0.40958 |  0:00:08s\n"
     ]
    },
    {
     "name": "stdout",
     "output_type": "stream",
     "text": [
      "epoch 31 | loss: 0.35924 | train_mse: 0.2894  | train_mae: 0.37853 |  0:00:08s\n"
     ]
    },
    {
     "name": "stdout",
     "output_type": "stream",
     "text": [
      "epoch 32 | loss: 0.4533  | train_mse: 0.34133 | train_mae: 0.38499 |  0:00:08s\n"
     ]
    },
    {
     "name": "stdout",
     "output_type": "stream",
     "text": [
      "epoch 33 | loss: 0.18069 | train_mse: 0.36121 | train_mae: 0.38246 |  0:00:09s\n",
      "epoch 34 | loss: 0.34579 | train_mse: 0.4463  | train_mae: 0.41528 |  0:00:09s\n"
     ]
    },
    {
     "name": "stdout",
     "output_type": "stream",
     "text": [
      "epoch 35 | loss: 0.20191 | train_mse: 0.37178 | train_mae: 0.3807  |  0:00:09s\n",
      "epoch 36 | loss: 0.2247  | train_mse: 0.22449 | train_mae: 0.30777 |  0:00:09s\n"
     ]
    },
    {
     "name": "stdout",
     "output_type": "stream",
     "text": [
      "epoch 37 | loss: 0.27322 | train_mse: 0.1842  | train_mae: 0.295   |  0:00:09s\n",
      "epoch 38 | loss: 0.33105 | train_mse: 0.16767 | train_mae: 0.29763 |  0:00:10s\n"
     ]
    },
    {
     "name": "stdout",
     "output_type": "stream",
     "text": [
      "epoch 39 | loss: 0.30671 | train_mse: 0.14423 | train_mae: 0.28565 |  0:00:10s\n",
      "epoch 40 | loss: 0.41586 | train_mse: 0.14069 | train_mae: 0.28622 |  0:00:10s\n",
      "epoch 41 | loss: 0.26494 | train_mse: 0.13924 | train_mae: 0.28202 |  0:00:10s\n"
     ]
    },
    {
     "name": "stdout",
     "output_type": "stream",
     "text": [
      "epoch 42 | loss: 0.23813 | train_mse: 0.15157 | train_mae: 0.29695 |  0:00:10s\n",
      "epoch 43 | loss: 0.28558 | train_mse: 0.14442 | train_mae: 0.28758 |  0:00:10s\n"
     ]
    },
    {
     "name": "stdout",
     "output_type": "stream",
     "text": [
      "epoch 44 | loss: 0.25057 | train_mse: 0.15432 | train_mae: 0.29072 |  0:00:10s\n",
      "epoch 45 | loss: 0.43085 | train_mse: 0.27345 | train_mae: 0.30663 |  0:00:10s\n",
      "epoch 46 | loss: 0.42309 | train_mse: 0.31036 | train_mae: 0.31688 |  0:00:10s\n"
     ]
    },
    {
     "name": "stdout",
     "output_type": "stream",
     "text": [
      "epoch 47 | loss: 0.49335 | train_mse: 0.27584 | train_mae: 0.29964 |  0:00:11s\n",
      "epoch 48 | loss: 0.34693 | train_mse: 0.2169  | train_mae: 0.28905 |  0:00:11s\n",
      "epoch 49 | loss: 0.22724 | train_mse: 0.16546 | train_mae: 0.28801 |  0:00:11s\n"
     ]
    },
    {
     "name": "stdout",
     "output_type": "stream",
     "text": [
      "epoch 50 | loss: 0.20129 | train_mse: 0.17241 | train_mae: 0.29969 |  0:00:11s\n"
     ]
    },
    {
     "name": "stdout",
     "output_type": "stream",
     "text": [
      "epoch 51 | loss: 0.18858 | train_mse: 0.16504 | train_mae: 0.29577 |  0:00:11s\n",
      "epoch 52 | loss: 0.24938 | train_mse: 0.19819 | train_mae: 0.31897 |  0:00:11s\n"
     ]
    },
    {
     "name": "stdout",
     "output_type": "stream",
     "text": [
      "epoch 53 | loss: 0.21164 | train_mse: 0.22002 | train_mae: 0.32455 |  0:00:11s\n",
      "epoch 54 | loss: 0.23717 | train_mse: 0.26137 | train_mae: 0.34948 |  0:00:11s\n",
      "epoch 55 | loss: 0.13694 | train_mse: 0.26467 | train_mae: 0.35298 |  0:00:11s\n"
     ]
    },
    {
     "name": "stdout",
     "output_type": "stream",
     "text": [
      "epoch 56 | loss: 0.17121 | train_mse: 0.24839 | train_mae: 0.33729 |  0:00:12s\n",
      "epoch 57 | loss: 0.10539 | train_mse: 0.21041 | train_mae: 0.30272 |  0:00:12s\n",
      "epoch 58 | loss: 0.18066 | train_mse: 0.22607 | train_mae: 0.27955 |  0:00:12s\n",
      "epoch 59 | loss: 0.24253 | train_mse: 0.24812 | train_mae: 0.28123 |  0:00:12s\n"
     ]
    },
    {
     "name": "stdout",
     "output_type": "stream",
     "text": [
      "epoch 60 | loss: 0.15499 | train_mse: 0.14675 | train_mae: 0.25979 |  0:00:12s\n",
      "epoch 61 | loss: 0.12064 | train_mse: 0.12526 | train_mae: 0.24962 |  0:00:12s\n",
      "epoch 62 | loss: 0.22067 | train_mse: 0.12812 | train_mae: 0.2479  |  0:00:12s\n"
     ]
    },
    {
     "name": "stdout",
     "output_type": "stream",
     "text": [
      "epoch 63 | loss: 0.22787 | train_mse: 0.09693 | train_mae: 0.21564 |  0:00:12s\n",
      "epoch 64 | loss: 0.3386  | train_mse: 0.16323 | train_mae: 0.27967 |  0:00:12s\n"
     ]
    },
    {
     "name": "stdout",
     "output_type": "stream",
     "text": [
      "epoch 65 | loss: 0.36826 | train_mse: 0.16351 | train_mae: 0.27954 |  0:00:12s\n",
      "epoch 66 | loss: 0.28951 | train_mse: 0.18611 | train_mae: 0.29543 |  0:00:13s\n",
      "epoch 67 | loss: 0.26431 | train_mse: 0.20516 | train_mae: 0.30805 |  0:00:13s\n"
     ]
    },
    {
     "name": "stdout",
     "output_type": "stream",
     "text": [
      "epoch 68 | loss: 0.18079 | train_mse: 0.19235 | train_mae: 0.28859 |  0:00:13s\n",
      "epoch 69 | loss: 0.27491 | train_mse: 0.18861 | train_mae: 0.27796 |  0:00:13s\n",
      "epoch 70 | loss: 0.23736 | train_mse: 0.19092 | train_mae: 0.28938 |  0:00:13s\n"
     ]
    },
    {
     "name": "stdout",
     "output_type": "stream",
     "text": [
      "epoch 71 | loss: 0.26128 | train_mse: 0.17561 | train_mae: 0.30278 |  0:00:13s\n",
      "epoch 72 | loss: 0.1767  | train_mse: 0.19529 | train_mae: 0.31192 |  0:00:13s\n",
      "epoch 73 | loss: 0.28842 | train_mse: 0.21165 | train_mae: 0.31817 |  0:00:13s\n"
     ]
    },
    {
     "name": "stdout",
     "output_type": "stream",
     "text": [
      "epoch 74 | loss: 0.35547 | train_mse: 0.24846 | train_mae: 0.33896 |  0:00:13s\n",
      "epoch 75 | loss: 0.14774 | train_mse: 0.23976 | train_mae: 0.33538 |  0:00:13s\n",
      "epoch 76 | loss: 0.22694 | train_mse: 0.17633 | train_mae: 0.2994  |  0:00:13s\n"
     ]
    },
    {
     "name": "stdout",
     "output_type": "stream",
     "text": [
      "epoch 77 | loss: 0.20698 | train_mse: 0.13922 | train_mae: 0.27255 |  0:00:13s\n",
      "epoch 78 | loss: 0.2143  | train_mse: 0.126   | train_mae: 0.25718 |  0:00:13s\n",
      "epoch 79 | loss: 0.18454 | train_mse: 0.12475 | train_mae: 0.2549  |  0:00:13s\n",
      "epoch 80 | loss: 0.25672 | train_mse: 0.13601 | train_mae: 0.27133 |  0:00:14s\n"
     ]
    },
    {
     "name": "stdout",
     "output_type": "stream",
     "text": [
      "epoch 81 | loss: 0.22138 | train_mse: 0.16394 | train_mae: 0.29478 |  0:00:14s\n",
      "epoch 82 | loss: 0.15599 | train_mse: 0.18692 | train_mae: 0.30876 |  0:00:14s\n",
      "epoch 83 | loss: 0.17305 | train_mse: 0.12335 | train_mae: 0.25632 |  0:00:14s\n"
     ]
    },
    {
     "name": "stdout",
     "output_type": "stream",
     "text": [
      "epoch 84 | loss: 0.54699 | train_mse: 0.14507 | train_mae: 0.25838 |  0:00:14s\n",
      "epoch 85 | loss: 0.23785 | train_mse: 0.2363  | train_mae: 0.31408 |  0:00:14s\n"
     ]
    },
    {
     "name": "stdout",
     "output_type": "stream",
     "text": [
      "epoch 86 | loss: 0.14693 | train_mse: 0.30742 | train_mae: 0.34696 |  0:00:14s\n",
      "epoch 87 | loss: 0.18038 | train_mse: 0.24788 | train_mae: 0.31672 |  0:00:14s\n",
      "epoch 88 | loss: 0.14942 | train_mse: 0.22665 | train_mae: 0.30811 |  0:00:14s\n"
     ]
    },
    {
     "name": "stdout",
     "output_type": "stream",
     "text": [
      "epoch 89 | loss: 0.15639 | train_mse: 0.21494 | train_mae: 0.30121 |  0:00:14s\n",
      "epoch 90 | loss: 0.13725 | train_mse: 0.26145 | train_mae: 0.31493 |  0:00:14s\n",
      "epoch 91 | loss: 0.34342 | train_mse: 0.24153 | train_mae: 0.29724 |  0:00:14s\n",
      "epoch 92 | loss: 0.2606  | train_mse: 0.20507 | train_mae: 0.27105 |  0:00:14s\n"
     ]
    },
    {
     "name": "stdout",
     "output_type": "stream",
     "text": [
      "epoch 93 | loss: 0.32647 | train_mse: 0.18181 | train_mae: 0.26018 |  0:00:15s\n",
      "epoch 94 | loss: 0.26756 | train_mse: 0.12138 | train_mae: 0.23165 |  0:00:15s\n",
      "epoch 95 | loss: 0.10517 | train_mse: 0.09567 | train_mae: 0.21295 |  0:00:15s\n"
     ]
    },
    {
     "name": "stdout",
     "output_type": "stream",
     "text": [
      "epoch 96 | loss: 0.16645 | train_mse: 0.09692 | train_mae: 0.21513 |  0:00:15s\n",
      "epoch 97 | loss: 0.16928 | train_mse: 0.10141 | train_mae: 0.21819 |  0:00:15s\n",
      "epoch 98 | loss: 0.25659 | train_mse: 0.12667 | train_mae: 0.23184 |  0:00:15s\n",
      "epoch 99 | loss: 0.16119 | train_mse: 0.16    | train_mae: 0.25062 |  0:00:15s\n"
     ]
    },
    {
     "name": "stdout",
     "output_type": "stream",
     "text": [
      "epoch 100| loss: 0.18985 | train_mse: 0.17339 | train_mae: 0.26446 |  0:00:15s\n",
      "epoch 101| loss: 0.2553  | train_mse: 0.24578 | train_mae: 0.30942 |  0:00:15s\n",
      "epoch 102| loss: 0.1957  | train_mse: 0.17954 | train_mae: 0.27497 |  0:00:15s\n"
     ]
    },
    {
     "name": "stdout",
     "output_type": "stream",
     "text": [
      "epoch 103| loss: 0.27476 | train_mse: 0.14722 | train_mae: 0.25591 |  0:00:15s\n",
      "epoch 104| loss: 0.26606 | train_mse: 0.13337 | train_mae: 0.24316 |  0:00:15s\n"
     ]
    },
    {
     "name": "stdout",
     "output_type": "stream",
     "text": [
      "epoch 105| loss: 0.28682 | train_mse: 0.12819 | train_mae: 0.24142 |  0:00:15s\n",
      "epoch 106| loss: 0.30427 | train_mse: 0.1271  | train_mae: 0.24354 |  0:00:16s\n"
     ]
    },
    {
     "name": "stdout",
     "output_type": "stream",
     "text": [
      "epoch 107| loss: 0.12896 | train_mse: 0.14308 | train_mae: 0.2617  |  0:00:16s\n",
      "epoch 108| loss: 0.18844 | train_mse: 0.14384 | train_mae: 0.25739 |  0:00:16s\n",
      "epoch 109| loss: 0.16568 | train_mse: 0.11084 | train_mae: 0.22341 |  0:00:16s\n"
     ]
    },
    {
     "name": "stdout",
     "output_type": "stream",
     "text": [
      "epoch 110| loss: 0.15485 | train_mse: 0.09252 | train_mae: 0.21851 |  0:00:16s\n",
      "epoch 111| loss: 0.21625 | train_mse: 0.0923  | train_mae: 0.22572 |  0:00:16s\n",
      "epoch 112| loss: 0.14301 | train_mse: 0.09766 | train_mae: 0.2353  |  0:00:16s\n"
     ]
    },
    {
     "name": "stdout",
     "output_type": "stream",
     "text": [
      "epoch 113| loss: 0.18782 | train_mse: 0.11327 | train_mae: 0.25201 |  0:00:16s\n",
      "epoch 114| loss: 0.46377 | train_mse: 0.15726 | train_mae: 0.27436 |  0:00:16s\n",
      "epoch 115| loss: 0.11696 | train_mse: 0.12203 | train_mae: 0.25562 |  0:00:16s\n"
     ]
    },
    {
     "name": "stdout",
     "output_type": "stream",
     "text": [
      "epoch 116| loss: 0.11749 | train_mse: 0.09078 | train_mae: 0.23209 |  0:00:16s\n",
      "epoch 117| loss: 0.23002 | train_mse: 0.10543 | train_mae: 0.23952 |  0:00:16s\n",
      "epoch 118| loss: 0.12545 | train_mse: 0.0883  | train_mae: 0.22014 |  0:00:17s\n"
     ]
    },
    {
     "name": "stdout",
     "output_type": "stream",
     "text": [
      "epoch 119| loss: 0.29336 | train_mse: 0.11043 | train_mae: 0.25336 |  0:00:17s\n",
      "epoch 120| loss: 0.12065 | train_mse: 0.11894 | train_mae: 0.25408 |  0:00:17s\n",
      "epoch 121| loss: 0.16809 | train_mse: 0.1301  | train_mae: 0.26304 |  0:00:17s\n"
     ]
    },
    {
     "name": "stdout",
     "output_type": "stream",
     "text": [
      "epoch 122| loss: 0.3174  | train_mse: 0.12841 | train_mae: 0.27277 |  0:00:17s\n",
      "epoch 123| loss: 0.13883 | train_mse: 0.11872 | train_mae: 0.2556  |  0:00:17s\n",
      "epoch 124| loss: 0.24136 | train_mse: 0.09894 | train_mae: 0.22721 |  0:00:17s\n"
     ]
    },
    {
     "name": "stdout",
     "output_type": "stream",
     "text": [
      "epoch 125| loss: 0.15084 | train_mse: 0.10781 | train_mae: 0.23872 |  0:00:17s\n",
      "epoch 126| loss: 0.1964  | train_mse: 0.11656 | train_mae: 0.24783 |  0:00:17s\n",
      "epoch 127| loss: 0.13466 | train_mse: 0.1253  | train_mae: 0.26252 |  0:00:17s\n"
     ]
    },
    {
     "name": "stdout",
     "output_type": "stream",
     "text": [
      "epoch 128| loss: 0.20401 | train_mse: 0.13366 | train_mae: 0.27769 |  0:00:17s\n",
      "epoch 129| loss: 0.14195 | train_mse: 0.14273 | train_mae: 0.28383 |  0:00:17s\n",
      "epoch 130| loss: 0.1871  | train_mse: 0.13913 | train_mae: 0.28348 |  0:00:17s\n"
     ]
    },
    {
     "name": "stdout",
     "output_type": "stream",
     "text": [
      "epoch 131| loss: 0.18267 | train_mse: 0.11733 | train_mae: 0.26834 |  0:00:17s\n",
      "epoch 132| loss: 0.10161 | train_mse: 0.12153 | train_mae: 0.26835 |  0:00:18s\n",
      "epoch 133| loss: 0.15652 | train_mse: 0.13413 | train_mae: 0.27098 |  0:00:18s\n"
     ]
    },
    {
     "name": "stdout",
     "output_type": "stream",
     "text": [
      "epoch 134| loss: 0.21095 | train_mse: 0.12066 | train_mae: 0.25924 |  0:00:18s\n",
      "epoch 135| loss: 0.14366 | train_mse: 0.12148 | train_mae: 0.25119 |  0:00:18s\n",
      "epoch 136| loss: 0.33153 | train_mse: 0.15913 | train_mae: 0.26712 |  0:00:18s\n"
     ]
    },
    {
     "name": "stdout",
     "output_type": "stream",
     "text": [
      "epoch 137| loss: 0.15361 | train_mse: 0.17457 | train_mae: 0.27325 |  0:00:18s\n",
      "epoch 138| loss: 0.18659 | train_mse: 0.17245 | train_mae: 0.27193 |  0:00:18s\n",
      "epoch 139| loss: 0.17789 | train_mse: 0.13041 | train_mae: 0.25592 |  0:00:18s\n"
     ]
    },
    {
     "name": "stdout",
     "output_type": "stream",
     "text": [
      "epoch 140| loss: 0.13517 | train_mse: 0.09    | train_mae: 0.22437 |  0:00:18s\n",
      "epoch 141| loss: 0.10329 | train_mse: 0.08548 | train_mae: 0.21019 |  0:00:19s\n"
     ]
    },
    {
     "name": "stdout",
     "output_type": "stream",
     "text": [
      "epoch 142| loss: 0.09766 | train_mse: 0.07825 | train_mae: 0.20708 |  0:00:19s\n",
      "epoch 143| loss: 0.36757 | train_mse: 0.07023 | train_mae: 0.19923 |  0:00:19s\n",
      "epoch 144| loss: 0.14481 | train_mse: 0.08875 | train_mae: 0.2253  |  0:00:19s\n"
     ]
    },
    {
     "name": "stdout",
     "output_type": "stream",
     "text": [
      "epoch 145| loss: 0.20255 | train_mse: 0.08233 | train_mae: 0.21502 |  0:00:19s\n",
      "epoch 146| loss: 0.13012 | train_mse: 0.08806 | train_mae: 0.22034 |  0:00:19s\n",
      "epoch 147| loss: 0.18826 | train_mse: 0.08031 | train_mae: 0.20878 |  0:00:19s\n"
     ]
    },
    {
     "name": "stdout",
     "output_type": "stream",
     "text": [
      "epoch 148| loss: 0.13999 | train_mse: 0.07665 | train_mae: 0.20389 |  0:00:19s\n",
      "epoch 149| loss: 0.13175 | train_mse: 0.08012 | train_mae: 0.20525 |  0:00:19s\n"
     ]
    },
    {
     "name": "stdout",
     "output_type": "stream",
     "text": [
      "epoch 150| loss: 0.17638 | train_mse: 0.07936 | train_mae: 0.20352 |  0:00:19s\n",
      "epoch 151| loss: 0.18475 | train_mse: 0.08241 | train_mae: 0.20481 |  0:00:20s\n"
     ]
    },
    {
     "name": "stdout",
     "output_type": "stream",
     "text": [
      "epoch 152| loss: 0.12638 | train_mse: 0.07214 | train_mae: 0.19718 |  0:00:20s\n"
     ]
    },
    {
     "name": "stdout",
     "output_type": "stream",
     "text": [
      "epoch 153| loss: 0.24125 | train_mse: 0.0735  | train_mae: 0.20188 |  0:00:20s\n",
      "epoch 154| loss: 0.06499 | train_mse: 0.09177 | train_mae: 0.21768 |  0:00:20s\n"
     ]
    },
    {
     "name": "stdout",
     "output_type": "stream",
     "text": [
      "epoch 155| loss: 0.10655 | train_mse: 0.10961 | train_mae: 0.22939 |  0:00:20s\n",
      "epoch 156| loss: 0.16278 | train_mse: 0.09784 | train_mae: 0.22119 |  0:00:20s\n",
      "epoch 157| loss: 0.22005 | train_mse: 0.08246 | train_mae: 0.21379 |  0:00:20s\n"
     ]
    },
    {
     "name": "stdout",
     "output_type": "stream",
     "text": [
      "epoch 158| loss: 0.12706 | train_mse: 0.07672 | train_mae: 0.21588 |  0:00:20s\n"
     ]
    },
    {
     "name": "stdout",
     "output_type": "stream",
     "text": [
      "epoch 159| loss: 0.13004 | train_mse: 0.08172 | train_mae: 0.22328 |  0:00:21s\n",
      "epoch 160| loss: 0.15    | train_mse: 0.08403 | train_mae: 0.21513 |  0:00:21s\n"
     ]
    },
    {
     "name": "stdout",
     "output_type": "stream",
     "text": [
      "epoch 161| loss: 0.33248 | train_mse: 0.07783 | train_mae: 0.20555 |  0:00:21s\n",
      "epoch 162| loss: 0.15154 | train_mse: 0.06599 | train_mae: 0.19467 |  0:00:21s\n",
      "epoch 163| loss: 0.08953 | train_mse: 0.07112 | train_mae: 0.21317 |  0:00:21s\n"
     ]
    },
    {
     "name": "stdout",
     "output_type": "stream",
     "text": [
      "epoch 164| loss: 0.0736  | train_mse: 0.09862 | train_mae: 0.23633 |  0:00:21s\n",
      "epoch 165| loss: 0.08197 | train_mse: 0.10923 | train_mae: 0.24299 |  0:00:21s\n",
      "epoch 166| loss: 0.09338 | train_mse: 0.0865  | train_mae: 0.22815 |  0:00:21s\n"
     ]
    },
    {
     "name": "stdout",
     "output_type": "stream",
     "text": [
      "epoch 167| loss: 0.10247 | train_mse: 0.07614 | train_mae: 0.21234 |  0:00:22s\n",
      "epoch 168| loss: 0.12224 | train_mse: 0.0666  | train_mae: 0.19383 |  0:00:22s\n",
      "epoch 169| loss: 0.06005 | train_mse: 0.05536 | train_mae: 0.18364 |  0:00:22s\n"
     ]
    },
    {
     "name": "stdout",
     "output_type": "stream",
     "text": [
      "epoch 170| loss: 0.15181 | train_mse: 0.05639 | train_mae: 0.1844  |  0:00:22s\n",
      "epoch 171| loss: 0.08567 | train_mse: 0.08725 | train_mae: 0.21421 |  0:00:22s\n",
      "epoch 172| loss: 0.09327 | train_mse: 0.11641 | train_mae: 0.25005 |  0:00:22s\n"
     ]
    },
    {
     "name": "stdout",
     "output_type": "stream",
     "text": [
      "epoch 173| loss: 0.19386 | train_mse: 0.09941 | train_mae: 0.23841 |  0:00:22s\n",
      "epoch 174| loss: 0.13426 | train_mse: 0.08058 | train_mae: 0.21691 |  0:00:22s\n"
     ]
    },
    {
     "name": "stdout",
     "output_type": "stream",
     "text": [
      "epoch 175| loss: 0.21171 | train_mse: 0.05674 | train_mae: 0.17788 |  0:00:22s\n",
      "epoch 176| loss: 0.15782 | train_mse: 0.06592 | train_mae: 0.19412 |  0:00:23s\n"
     ]
    },
    {
     "name": "stdout",
     "output_type": "stream",
     "text": [
      "epoch 177| loss: 0.09793 | train_mse: 0.07295 | train_mae: 0.21109 |  0:00:23s\n",
      "epoch 178| loss: 0.12359 | train_mse: 0.07077 | train_mae: 0.20861 |  0:00:23s\n",
      "epoch 179| loss: 0.11043 | train_mse: 0.06731 | train_mae: 0.2061  |  0:00:23s\n"
     ]
    },
    {
     "name": "stdout",
     "output_type": "stream",
     "text": [
      "epoch 180| loss: 0.08126 | train_mse: 0.08029 | train_mae: 0.22593 |  0:00:23s\n",
      "epoch 181| loss: 0.0929  | train_mse: 0.06923 | train_mae: 0.21066 |  0:00:23s\n"
     ]
    },
    {
     "name": "stdout",
     "output_type": "stream",
     "text": [
      "epoch 182| loss: 0.16702 | train_mse: 0.06291 | train_mae: 0.19112 |  0:00:23s\n",
      "epoch 183| loss: 0.1037  | train_mse: 0.07376 | train_mae: 0.20386 |  0:00:23s\n"
     ]
    },
    {
     "name": "stdout",
     "output_type": "stream",
     "text": [
      "epoch 184| loss: 0.11887 | train_mse: 0.09317 | train_mae: 0.23213 |  0:00:23s\n",
      "epoch 185| loss: 0.15419 | train_mse: 0.10795 | train_mae: 0.25978 |  0:00:24s\n",
      "epoch 186| loss: 0.14445 | train_mse: 0.1025  | train_mae: 0.24941 |  0:00:24s\n"
     ]
    },
    {
     "name": "stdout",
     "output_type": "stream",
     "text": [
      "epoch 187| loss: 0.32583 | train_mse: 0.09585 | train_mae: 0.24136 |  0:00:24s\n",
      "epoch 188| loss: 0.10083 | train_mse: 0.11019 | train_mae: 0.2514  |  0:00:24s\n"
     ]
    },
    {
     "name": "stdout",
     "output_type": "stream",
     "text": [
      "epoch 189| loss: 0.1599  | train_mse: 0.10495 | train_mae: 0.24814 |  0:00:24s\n",
      "epoch 190| loss: 0.21732 | train_mse: 0.07932 | train_mae: 0.22355 |  0:00:24s\n"
     ]
    },
    {
     "name": "stdout",
     "output_type": "stream",
     "text": [
      "epoch 191| loss: 0.13816 | train_mse: 0.06763 | train_mae: 0.20738 |  0:00:24s\n",
      "epoch 192| loss: 0.10727 | train_mse: 0.09118 | train_mae: 0.22702 |  0:00:24s\n",
      "epoch 193| loss: 0.25816 | train_mse: 0.2056  | train_mae: 0.28568 |  0:00:24s\n"
     ]
    },
    {
     "name": "stdout",
     "output_type": "stream",
     "text": [
      "epoch 194| loss: 0.10728 | train_mse: 0.17987 | train_mae: 0.2841  |  0:00:25s\n"
     ]
    },
    {
     "name": "stdout",
     "output_type": "stream",
     "text": [
      "epoch 195| loss: 0.19919 | train_mse: 0.37602 | train_mae: 0.33642 |  0:00:25s\n",
      "epoch 196| loss: 0.09639 | train_mse: 0.28223 | train_mae: 0.29733 |  0:00:25s\n",
      "epoch 197| loss: 0.179   | train_mse: 0.11638 | train_mae: 0.24151 |  0:00:25s\n"
     ]
    },
    {
     "name": "stdout",
     "output_type": "stream",
     "text": [
      "epoch 198| loss: 0.22832 | train_mse: 0.09181 | train_mae: 0.23413 |  0:00:25s\n",
      "epoch 199| loss: 0.1793  | train_mse: 0.10709 | train_mae: 0.24454 |  0:00:25s\n",
      "epoch 200| loss: 0.15857 | train_mse: 0.27477 | train_mae: 0.29029 |  0:00:25s\n"
     ]
    },
    {
     "name": "stdout",
     "output_type": "stream",
     "text": [
      "epoch 201| loss: 0.1317  | train_mse: 0.28367 | train_mae: 0.2817  |  0:00:25s\n",
      "epoch 202| loss: 0.27824 | train_mse: 0.27403 | train_mae: 0.28586 |  0:00:25s\n",
      "epoch 203| loss: 0.11401 | train_mse: 0.28505 | train_mae: 0.3055  |  0:00:25s\n",
      "epoch 204| loss: 0.14281 | train_mse: 0.34145 | train_mae: 0.3234  |  0:00:25s\n"
     ]
    },
    {
     "name": "stdout",
     "output_type": "stream",
     "text": [
      "epoch 205| loss: 0.30665 | train_mse: 0.31175 | train_mae: 0.30567 |  0:00:26s\n",
      "epoch 206| loss: 0.17299 | train_mse: 0.1723  | train_mae: 0.25636 |  0:00:26s\n",
      "epoch 207| loss: 0.17589 | train_mse: 0.05646 | train_mae: 0.19439 |  0:00:26s\n",
      "epoch 208| loss: 0.16171 | train_mse: 0.07159 | train_mae: 0.19322 |  0:00:26s\n"
     ]
    },
    {
     "name": "stdout",
     "output_type": "stream",
     "text": [
      "epoch 209| loss: 0.11845 | train_mse: 0.13861 | train_mae: 0.2433  |  0:00:26s\n",
      "epoch 210| loss: 0.10214 | train_mse: 0.21848 | train_mae: 0.2891  |  0:00:26s\n"
     ]
    },
    {
     "name": "stdout",
     "output_type": "stream",
     "text": [
      "epoch 211| loss: 0.16031 | train_mse: 0.25934 | train_mae: 0.30438 |  0:00:26s\n"
     ]
    },
    {
     "name": "stdout",
     "output_type": "stream",
     "text": [
      "epoch 212| loss: 0.07462 | train_mse: 0.19072 | train_mae: 0.2691  |  0:00:26s\n",
      "epoch 213| loss: 0.16635 | train_mse: 0.09394 | train_mae: 0.23114 |  0:00:26s\n",
      "epoch 214| loss: 0.09652 | train_mse: 0.0979  | train_mae: 0.23495 |  0:00:27s\n"
     ]
    },
    {
     "name": "stdout",
     "output_type": "stream",
     "text": [
      "epoch 215| loss: 0.08588 | train_mse: 0.08116 | train_mae: 0.21314 |  0:00:27s\n",
      "epoch 216| loss: 0.09586 | train_mse: 0.07452 | train_mae: 0.21425 |  0:00:27s\n",
      "epoch 217| loss: 0.11978 | train_mse: 0.09616 | train_mae: 0.24142 |  0:00:27s\n"
     ]
    },
    {
     "name": "stdout",
     "output_type": "stream",
     "text": [
      "epoch 218| loss: 0.20413 | train_mse: 0.11459 | train_mae: 0.21841 |  0:00:27s\n",
      "epoch 219| loss: 0.10278 | train_mse: 0.16242 | train_mae: 0.26019 |  0:00:27s\n",
      "epoch 220| loss: 0.2092  | train_mse: 0.16559 | train_mae: 0.25359 |  0:00:27s\n",
      "epoch 221| loss: 0.10872 | train_mse: 0.12819 | train_mae: 0.22191 |  0:00:27s\n"
     ]
    },
    {
     "name": "stdout",
     "output_type": "stream",
     "text": [
      "epoch 222| loss: 0.1691  | train_mse: 0.08864 | train_mae: 0.23039 |  0:00:27s\n"
     ]
    },
    {
     "name": "stdout",
     "output_type": "stream",
     "text": [
      "epoch 223| loss: 0.20822 | train_mse: 0.07581 | train_mae: 0.21801 |  0:00:27s\n",
      "epoch 224| loss: 0.13494 | train_mse: 0.10417 | train_mae: 0.23946 |  0:00:28s\n"
     ]
    },
    {
     "name": "stdout",
     "output_type": "stream",
     "text": [
      "epoch 225| loss: 0.17998 | train_mse: 0.11326 | train_mae: 0.22781 |  0:00:28s\n",
      "\n",
      "Early stopping occurred at epoch 225 with best_epoch = 175 and best_train_mae = 0.17788\n",
      "Best weights from best epoch are automatically used!\n",
      "BEST VALID SCORE FOR dataset : 0.17787828615026818\n",
      "FINAL TEST SCORE FOR dataset: 0.2924594760405385\n",
      "{'loss': [0.9563697636127472, 0.46470972895622253, 0.6432403683662414, 0.4320024311542511, 0.47424924969673155, 0.45489707589149475, 0.4056415259838104, 0.3571802258491516, 0.508481627702713, 0.2773268401622772, 0.3611560106277466, 0.36066720485687254, 0.3061316967010498, 0.32531180381774905, 0.3537269592285156, 0.3930366575717926, 0.24142661094665527, 0.27293967008590697, 0.23378545343875884, 0.3960091590881348, 0.3054871171712875, 0.30640515238046645, 0.24408676028251647, 0.30977163314819334, 0.2644910514354706, 0.24124788045883178, 0.20534578263759612, 0.2748232513666153, 0.25962998867034914, 0.2764510691165924, 0.25283113718032835, 0.35923980474472045, 0.45330182313919065, 0.18068838715553284, 0.3457868158817291, 0.20191293358802795, 0.22470262199640273, 0.27321876883506774, 0.33104907870292666, 0.3067069351673126, 0.4158636569976807, 0.2649363040924072, 0.23812804520130157, 0.2855823040008545, 0.2505662202835083, 0.43084977865219115, 0.42309326529502866, 0.49334886074066164, 0.3469308078289032, 0.22724361419677735, 0.2012935310602188, 0.1885778322815895, 0.24938430190086364, 0.21164343357086182, 0.2371665805578232, 0.13693742007017135, 0.1712142765522003, 0.10539467334747314, 0.18066394329071045, 0.24253305196762084, 0.15498920083045958, 0.12064024209976196, 0.22067491710186005, 0.227866530418396, 0.338596573472023, 0.3682605028152466, 0.28950655460357666, 0.2643095165491104, 0.1807926744222641, 0.27490798830986024, 0.23736202120780944, 0.26128012537956236, 0.17670288383960725, 0.28842244744300843, 0.3554747402667999, 0.14774223566055297, 0.22693978548049926, 0.20697924494743347, 0.21430450677871704, 0.18453691601753236, 0.2567208051681519, 0.2213839292526245, 0.15599153339862823, 0.17305096834897996, 0.546986711025238, 0.23785037994384767, 0.14692782759666442, 0.18038465678691865, 0.14941625595092772, 0.15638806223869323, 0.13724708259105683, 0.34342330098152163, 0.26060437858104707, 0.3264740198850632, 0.26756471991539, 0.10516632944345475, 0.1664506658911705, 0.16928455829620362, 0.2565905421972275, 0.16119060814380645, 0.18984958827495574, 0.2553044527769089, 0.19569534361362456, 0.2747644424438477, 0.26606025397777555, 0.2868202030658722, 0.304271924495697, 0.12896013408899307, 0.18844495564699174, 0.1656793788075447, 0.15484970062971115, 0.2162502735853195, 0.14300601780414582, 0.18781932890415193, 0.4637709319591522, 0.11695778965950013, 0.11749393045902252, 0.23002429008483888, 0.1254525363445282, 0.2933565258979797, 0.12065386772155762, 0.16808711588382722, 0.3174025446176529, 0.1388277918100357, 0.24135718643665313, 0.1508356511592865, 0.19639937281608583, 0.1346561998128891, 0.2040136218070984, 0.14195002019405364, 0.18709761053323745, 0.18267360478639602, 0.10160605907440186, 0.15651505887508393, 0.21095178425312042, 0.14365902543067932, 0.3315293312072754, 0.15360767394304276, 0.18658858835697173, 0.1778930366039276, 0.13516521751880645, 0.10328664630651474, 0.09765813872218132, 0.3675698697566986, 0.14480775594711304, 0.20255395770072937, 0.13012081384658813, 0.18826030790805817, 0.1399916097521782, 0.13175124526023865, 0.17638312876224518, 0.18475088626146316, 0.1263761579990387, 0.24124774634838103, 0.06499291360378265, 0.10655281096696853, 0.1627804756164551, 0.2200468510389328, 0.12705629467964172, 0.1300447478890419, 0.14999867081642151, 0.3324824184179306, 0.15154389441013336, 0.08952974081039429, 0.07360234260559081, 0.08197250217199326, 0.09337525516748428, 0.10247306823730469, 0.122237828373909, 0.06004690676927567, 0.15180509388446808, 0.08566767126321792, 0.0932721808552742, 0.19385888427495956, 0.13426017463207246, 0.2117132365703583, 0.15781699270009994, 0.09792903661727906, 0.12358927130699157, 0.11042943149805069, 0.08126089125871658, 0.09290188401937485, 0.16701798290014266, 0.10370188355445861, 0.11887438744306564, 0.15418911576271058, 0.14445304423570632, 0.3258333444595337, 0.10083025321364403, 0.15989744365215303, 0.21731809973716737, 0.13816404342651367, 0.1072668969631195, 0.2581589639186859, 0.10727647542953492, 0.19919460713863374, 0.09639213830232621, 0.17899677753448487, 0.2283247098326683, 0.17930448651313782, 0.1585715800523758, 0.13170150816440582, 0.2782359540462494, 0.11401262730360032, 0.14280790984630584, 0.3066541746258736, 0.17298997789621354, 0.17588877230882644, 0.16171227097511293, 0.11845289170742035, 0.10213738232851029, 0.16031478941440583, 0.07462457120418549, 0.16634829044342042, 0.09652248695492745, 0.08588044345378876, 0.09585578292608261, 0.1197821319103241, 0.20412543416023254, 0.10277769863605499, 0.20920096933841706, 0.10872301459312439, 0.16909508407115936, 0.20821812748908997, 0.1349389910697937, 0.17998422980308532], 'lr': [0.02, 0.02, 0.02, 0.02, 0.02, 0.02, 0.02, 0.02, 0.02, 0.02, 0.02, 0.02, 0.02, 0.02, 0.02, 0.02, 0.02, 0.02, 0.02, 0.02, 0.02, 0.02, 0.02, 0.02, 0.02, 0.02, 0.02, 0.02, 0.02, 0.02, 0.02, 0.02, 0.02, 0.02, 0.02, 0.02, 0.02, 0.02, 0.02, 0.02, 0.02, 0.02, 0.02, 0.02, 0.02, 0.02, 0.02, 0.02, 0.02, 0.02, 0.02, 0.02, 0.02, 0.02, 0.02, 0.02, 0.02, 0.02, 0.02, 0.02, 0.02, 0.02, 0.02, 0.02, 0.02, 0.02, 0.02, 0.02, 0.02, 0.02, 0.02, 0.02, 0.02, 0.02, 0.02, 0.02, 0.02, 0.02, 0.02, 0.02, 0.02, 0.02, 0.02, 0.02, 0.02, 0.02, 0.02, 0.02, 0.02, 0.02, 0.02, 0.02, 0.02, 0.02, 0.02, 0.02, 0.02, 0.02, 0.02, 0.02, 0.02, 0.02, 0.02, 0.02, 0.02, 0.02, 0.02, 0.02, 0.02, 0.02, 0.02, 0.02, 0.02, 0.02, 0.02, 0.02, 0.02, 0.02, 0.02, 0.02, 0.02, 0.02, 0.02, 0.02, 0.02, 0.02, 0.02, 0.02, 0.02, 0.02, 0.02, 0.02, 0.02, 0.02, 0.02, 0.02, 0.02, 0.02, 0.02, 0.02, 0.02, 0.02, 0.02, 0.02, 0.02, 0.02, 0.02, 0.02, 0.02, 0.02, 0.02, 0.02, 0.02, 0.02, 0.02, 0.02, 0.02, 0.02, 0.02, 0.02, 0.02, 0.02, 0.02, 0.02, 0.02, 0.02, 0.02, 0.02, 0.02, 0.02, 0.02, 0.02, 0.02, 0.02, 0.02, 0.02, 0.02, 0.02, 0.02, 0.02, 0.02, 0.02, 0.02, 0.02, 0.02, 0.02, 0.02, 0.02, 0.02, 0.02, 0.02, 0.02, 0.02, 0.02, 0.02, 0.02, 0.02, 0.02, 0.02, 0.02, 0.02, 0.02, 0.02, 0.02, 0.02, 0.02, 0.02, 0.02, 0.02, 0.02, 0.02, 0.02, 0.02, 0.02, 0.02, 0.02, 0.02, 0.02, 0.02, 0.02, 0.02, 0.02, 0.02, 0.02, 0.02, 0.02], 'train_mse': [5.438050291866327, 7.288338293230247, 1.75581473517652, 1.3059803884842534, 1.6029567280042396, 1.389331132520779, 1.189571601989935, 0.8428238811336938, 0.6603020250246803, 0.6882609777928392, 0.9229877365029528, 1.3432880353464758, 1.1900186013730019, 0.7863181616248868, 0.40212940477250186, 0.5493814917927884, 0.7424580778398615, 0.6438296521068565, 0.6257927936108747, 0.32065489341094155, 0.24982285527122666, 0.17678777020963815, 0.15198767063195393, 0.19712060326236566, 0.6414268983955643, 0.687734018634204, 0.5835021170124419, 0.36304034653852923, 0.3562763604028443, 0.34237668257160314, 0.36123076134398285, 0.28939829898584446, 0.34133227337949046, 0.361214993847984, 0.4463045406033602, 0.37177840407132473, 0.22448629930148867, 0.18419964303387287, 0.16766962105851588, 0.1442324880689288, 0.14069396305911103, 0.1392445824703271, 0.15156562292978676, 0.14441533560158162, 0.15432476884780094, 0.27344917214645414, 0.3103596433862831, 0.27583561508633797, 0.2169023543015595, 0.1654598496750817, 0.17240885376846843, 0.16503975563908396, 0.19818576890796594, 0.2200153513918161, 0.26136847659595175, 0.26467407459788767, 0.24839422650809456, 0.2104063286893892, 0.22606722324669698, 0.2481215491790547, 0.1467472030997178, 0.12526143236458448, 0.12811761066890956, 0.09693127323662597, 0.16322820674127567, 0.1635051788645951, 0.1861051282482677, 0.2051572027749377, 0.19235396990694248, 0.18860515127234598, 0.19092188358220724, 0.17561235605099842, 0.19529034012061267, 0.21164786133148566, 0.248463259599212, 0.2397608265322312, 0.1763343113361092, 0.1392226635457877, 0.1259973974307492, 0.12475158646096829, 0.13600761336450992, 0.16394483096098386, 0.18692352409049467, 0.12334784223893207, 0.14506671480757397, 0.23629821377202842, 0.307422138607487, 0.24787649909306664, 0.2266531735294269, 0.21493547543413705, 0.2614487979431153, 0.2415308815776621, 0.20506650894155093, 0.18181285656320706, 0.12138168134836853, 0.09567413291968696, 0.09691511421341199, 0.10140551865586951, 0.12666734074697755, 0.15999895324664593, 0.17339140402895886, 0.24577812065138147, 0.17954283097456777, 0.14722209128668662, 0.1333746595413319, 0.12818953343840991, 0.1270965221893247, 0.14308170429039913, 0.14383709852510745, 0.11084114402287834, 0.09252196065620237, 0.09230274475407421, 0.09766015607029713, 0.11327330515397929, 0.15725789796730577, 0.12202589648325338, 0.09078363756459976, 0.10543459598797375, 0.08829754521974453, 0.11042648305176135, 0.11894451086067481, 0.13009874126845852, 0.12840815972331043, 0.11872267537687013, 0.09893827192503421, 0.10781220807851928, 0.1165604598491515, 0.12530265011125494, 0.1336590977686089, 0.14272559897733536, 0.13913175347257556, 0.11733236398579731, 0.1215251601188585, 0.13413326263497644, 0.12065923313649982, 0.12148016999965831, 0.159125116692623, 0.17456788264671058, 0.172450063237329, 0.1304145710895852, 0.08999891862448854, 0.08547955781437463, 0.07824857067915439, 0.07022572873191457, 0.08874786208284861, 0.08233286839728757, 0.08805508406281369, 0.080313265410794, 0.07665288385411018, 0.08011789134479988, 0.07935850985085238, 0.08241246222592132, 0.07213724642619167, 0.07349502811881917, 0.09177006713847352, 0.1096093691512173, 0.09783685814695138, 0.08245646330185886, 0.07672446787048079, 0.08172288308588685, 0.084033064255297, 0.07783387664449357, 0.0659871776955063, 0.07111845105429546, 0.09862076714278344, 0.10923346462973134, 0.08649557727904975, 0.07614163749822181, 0.06659728234540267, 0.05536338614220262, 0.05639481966292541, 0.08724855385007675, 0.1164090992937286, 0.09941459717223135, 0.08057603259953097, 0.0567415540475219, 0.06592499068513287, 0.0729515835367273, 0.07076758797577225, 0.06731147794250522, 0.08028628423572753, 0.06922580023172681, 0.0629142453716414, 0.07376466546068032, 0.09316522872119866, 0.10794963395042594, 0.10250176955951587, 0.09585340292454579, 0.11018701084004838, 0.10495304093739648, 0.07932214682611505, 0.06763483619113642, 0.09117589437168723, 0.2055969798363913, 0.17987225162565007, 0.3760247450241325, 0.2822256073712782, 0.11637903728689074, 0.09181196879764073, 0.10708551819689878, 0.27477471186367886, 0.28367385453441624, 0.27403384253538665, 0.285051706070728, 0.34145188215194944, 0.3117502284513196, 0.1722970647682985, 0.056455582578559815, 0.07158514989936453, 0.13861057481816388, 0.2184788319334611, 0.25934443635741056, 0.19071672079929497, 0.09394243415077967, 0.09790084819650062, 0.08115714012316419, 0.07452186007534618, 0.09616229743235263, 0.11459134581492454, 0.16242287385832296, 0.16558770505108794, 0.1281873260357977, 0.08864248330216978, 0.07581370882947831, 0.10417108313436221, 0.11325739054311246], 'train_mae': [1.776110900498783, 1.8994923236901635, 1.0313020966529998, 0.8178777389019773, 0.9369010507157046, 0.8326466338777543, 0.7524959717597233, 0.6287380349467917, 0.5678846217448813, 0.5832592051567825, 0.6441070064926192, 0.7522170268416044, 0.6784982160743164, 0.6007998886052464, 0.47489587775093567, 0.567349657195895, 0.6055918290259203, 0.5485980271932803, 0.5333477868905343, 0.4141045357348666, 0.3432809297466971, 0.29466697068659264, 0.27075391567970736, 0.3061972162846748, 0.47439819388304105, 0.5078092612851852, 0.4849253256697711, 0.4268063803484824, 0.4086879035112207, 0.39532722385287566, 0.40958440801936613, 0.3785261585005305, 0.3849946454162227, 0.38245869728448356, 0.4152823660752413, 0.38070167984415815, 0.3077652982746718, 0.2949997088334153, 0.2976333150319244, 0.2856544738032135, 0.2862231792926876, 0.28202488254975366, 0.2969510249082049, 0.28758499022361866, 0.29072239648265646, 0.30662681388329915, 0.31687814917049517, 0.29963937411373454, 0.28904529546074215, 0.2880070790550971, 0.29968946525829504, 0.2957747576722016, 0.3189747818712119, 0.3245526835493909, 0.34948112607473786, 0.35298486161356746, 0.3372930747932468, 0.30271887921090146, 0.27954871024602296, 0.2812253229344182, 0.2597880796555151, 0.24962230575707042, 0.2479022180261164, 0.2156439196026933, 0.2796717406785934, 0.279537091134365, 0.295430693510185, 0.30804619191538385, 0.28858585853088387, 0.27796457333460156, 0.2893833081781617, 0.30278446919051033, 0.31192204042798133, 0.31816638795187924, 0.33896023429945255, 0.3353845201669365, 0.2994022148018109, 0.2725532676626156, 0.2571791521620824, 0.254899349999616, 0.2713306534083567, 0.29477806806212625, 0.3087571015825715, 0.2563228375656158, 0.2583760982449929, 0.31407825712909726, 0.34696223267067583, 0.31671693998054845, 0.3081052660676741, 0.30121203043202993, 0.3149288930248962, 0.2972409320012693, 0.2710524937517562, 0.2601777271326934, 0.23164658470635668, 0.21295386569553756, 0.21512883269518834, 0.21818899590824548, 0.23184047915507633, 0.25061840714485023, 0.26446321878292817, 0.30942221324626706, 0.27496544270059464, 0.25590627983132763, 0.2431612184625731, 0.24141728395542197, 0.24354370424016275, 0.26169581801194236, 0.2573918412152433, 0.2234121945110541, 0.21851013204359812, 0.22571601855944762, 0.2353005553189127, 0.25201135924696505, 0.27436467923565805, 0.2556217835266107, 0.2320940394527117, 0.2395248902835223, 0.22013789822081398, 0.253356457110505, 0.25408036420141566, 0.2630433726286177, 0.2727669558900586, 0.25559694709793074, 0.2272081614194051, 0.23872210000621702, 0.24782658767647972, 0.26252451023142437, 0.2776855388153904, 0.2838303304461484, 0.28348195851160135, 0.26833714855320645, 0.26834708913199845, 0.27098028310164335, 0.2592429916993385, 0.25119476999460605, 0.2671187191290312, 0.2732501979285411, 0.2719272020554553, 0.25591698077428204, 0.2243676627747703, 0.21019417974989266, 0.20707558727028275, 0.19922661449633755, 0.22529908781081237, 0.21502218800791137, 0.2203427021673241, 0.2087819662121959, 0.20389288844570932, 0.20524978572014668, 0.2035239862640074, 0.20481225517372134, 0.1971822280868677, 0.20188012545607084, 0.21767813295939079, 0.22938839275150577, 0.22118955275002775, 0.2137929274200805, 0.2158755260382522, 0.22327626521860458, 0.21512769405192328, 0.20555067944046237, 0.19467437040460495, 0.21317449329355784, 0.23632826754589034, 0.2429903525529724, 0.22814725860434618, 0.21233906171884653, 0.19382662789720045, 0.18363913292312492, 0.18439918341047012, 0.214205314221085, 0.25004960756223377, 0.23840890273791393, 0.21690763086714143, 0.17787828615026818, 0.19412374360058732, 0.2110856282433767, 0.20860679582315694, 0.2060959497352271, 0.2259299301809107, 0.21065665307533826, 0.19112283392510826, 0.20386459650361344, 0.23213238296686578, 0.25978044930262245, 0.24940666403034228, 0.24136364999526663, 0.25139994668821075, 0.24814052119243798, 0.2235546780995498, 0.20737898492148826, 0.22701890523115012, 0.2856753116742655, 0.28410075989343475, 0.33642483509493903, 0.2973258841201405, 0.24151424164690694, 0.23413257055258171, 0.24453750259921883, 0.29028661367032166, 0.2817019838067324, 0.2858592168978439, 0.30550069847663963, 0.3234030549417355, 0.3056701350563479, 0.25635599896372707, 0.19438893416348482, 0.1932207041373603, 0.24330353735351515, 0.2891044080089415, 0.3043756891938781, 0.26909511393592966, 0.23114490139929184, 0.2349481502742501, 0.21314340670637327, 0.21424686690852326, 0.24141668263435595, 0.21840610313344566, 0.26018546180152236, 0.25359328020815924, 0.22190950464279516, 0.23038503784478498, 0.21801455162871103, 0.23946316650364544, 0.22781288072634057]}\n"
     ]
    },
    {
     "data": {
      "application/scrapbook.scrap.json+json": {
       "data": 0.2924594760405385,
       "encoder": "json",
       "name": "TabNet MAE",
       "version": 1
      }
     },
     "metadata": {
      "scrapbook": {
       "data": true,
       "display": false,
       "name": "TabNet MAE"
      }
     },
     "output_type": "display_data"
    },
    {
     "data": {
      "image/png": "[encoded data removed]",
      "text/plain": [
       "<Figure size 432x288 with 1 Axes>"
      ]
     },
     "metadata": {
      "needs_background": "light"
     },
     "output_type": "display_data"
    }
   ],
   "source": [
    "lr = 0.02\n",
    "\n",
    "print(y_train.shape)\n",
    "y_train = np.reshape(y_train, (-1, 1))\n",
    "y_test = np.reshape(y_test, (-1, 1))\n",
    "\n",
    "device = torch.device('cuda' if torch.cuda.is_available() else 'cpu')\n",
    "mae_tab= baselineModels.tabnetreg(X_train,y_train,X_test,y_test,batch_size,n_features,n_target,n_epochs, lr)\n",
    "sb.glue(\"TabNet MAE\",mae_tab)"
   ]
  }
 ],
 "metadata": {
  "interpreter": {
   "hash": "10498c76ddd8160350534c6544a2b2fb65f2138dbc70420f7c81a3268f830f23"
  },
  "kernelspec": {
   "display_name": "Python 3",
   "language": "python",
   "name": "python3"
  },
  "language_info": {
   "codemirror_mode": {
    "name": "ipython",
    "version": 3
   },
   "file_extension": ".py",
   "mimetype": "text/x-python",
   "name": "python",
   "nbconvert_exporter": "python",
   "pygments_lexer": "ipython3",
   "version": "3.8.3"
  },
  "papermill": {
   "default_parameters": {},
   "duration": 48.232493,
   "end_time": "2022-06-22T10:47:24.730936",
   "environment_variables": {},
   "exception": null,
   "input_path": "BaselineModels.ipynb",
   "output_path": "./BaseLine_Model_Output/BaselineModels_output_2.ipynb",
   "parameters": {},
   "start_time": "2022-06-22T10:46:36.498443",
   "version": "2.3.3"
  }
 },
 "nbformat": 4,
 "nbformat_minor": 5
}