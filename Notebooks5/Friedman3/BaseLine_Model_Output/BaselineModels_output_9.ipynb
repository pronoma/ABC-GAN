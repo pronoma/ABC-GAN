{
 "cells": [
  {
   "cell_type": "markdown",
   "id": "bc215591",
   "metadata": {
    "papermill": {
     "duration": 0.021845,
     "end_time": "2022-06-22T10:51:36.014117",
     "exception": false,
     "start_time": "2022-06-22T10:51:35.992272",
     "status": "completed"
    },
    "tags": []
   },
   "source": [
    "## Import Libraries "
   ]
  },
  {
   "cell_type": "code",
   "execution_count": 1,
   "id": "c6ddbcc9",
   "metadata": {
    "execution": {
     "iopub.execute_input": "2022-06-22T10:51:36.078704Z",
     "iopub.status.busy": "2022-06-22T10:51:36.076521Z",
     "iopub.status.idle": "2022-06-22T10:51:36.080545Z",
     "shell.execute_reply": "2022-06-22T10:51:36.079525Z"
    },
    "papermill": {
     "duration": 0.046423,
     "end_time": "2022-06-22T10:51:36.080822",
     "exception": false,
     "start_time": "2022-06-22T10:51:36.034399",
     "status": "completed"
    },
    "tags": []
   },
   "outputs": [],
   "source": [
    "import warnings\n",
    "import sys\n",
    "sys.path.insert(0, '../../src')\n",
    "warnings.filterwarnings('ignore')"
   ]
  },
  {
   "cell_type": "code",
   "execution_count": 2,
   "id": "9f6992d1",
   "metadata": {
    "execution": {
     "iopub.execute_input": "2022-06-22T10:51:36.114464Z",
     "iopub.status.busy": "2022-06-22T10:51:36.113453Z",
     "iopub.status.idle": "2022-06-22T10:51:47.296300Z",
     "shell.execute_reply": "2022-06-22T10:51:47.296880Z"
    },
    "papermill": {
     "duration": 11.19961,
     "end_time": "2022-06-22T10:51:47.297410",
     "exception": false,
     "start_time": "2022-06-22T10:51:36.097800",
     "status": "completed"
    },
    "tags": []
   },
   "outputs": [],
   "source": [
    "import statsModel\n",
    "import scrapbook as sb \n",
    "import torch \n",
    "import statsModel\n",
    "import baselineModels\n",
    "import friedman3Dataset\n",
    "import dataset \n",
    "from torch.utils.data import random_split \n",
    "from sklearn.model_selection import train_test_split\n",
    "import numpy as np"
   ]
  },
  {
   "cell_type": "markdown",
   "id": "fabe20f1",
   "metadata": {
    "papermill": {
     "duration": 0.011605,
     "end_time": "2022-06-22T10:51:47.321068",
     "exception": false,
     "start_time": "2022-06-22T10:51:47.309463",
     "status": "completed"
    },
    "tags": []
   },
   "source": [
    "## Import Dataset \n"
   ]
  },
  {
   "cell_type": "code",
   "execution_count": 3,
   "id": "ee653089",
   "metadata": {
    "execution": {
     "iopub.execute_input": "2022-06-22T10:51:47.348716Z",
     "iopub.status.busy": "2022-06-22T10:51:47.347759Z",
     "iopub.status.idle": "2022-06-22T10:51:47.369897Z",
     "shell.execute_reply": "2022-06-22T10:51:47.370613Z"
    },
    "papermill": {
     "duration": 0.039108,
     "end_time": "2022-06-22T10:51:47.370863",
     "exception": false,
     "start_time": "2022-06-22T10:51:47.331755",
     "status": "completed"
    },
    "tags": []
   },
   "outputs": [
    {
     "name": "stdout",
     "output_type": "stream",
     "text": [
      "          X1           X2        X3        X4         Y\n",
      "0   8.323174  1366.636041  0.196131  1.424615  1.555575\n",
      "1  37.428845  1090.209469  0.398084  1.291713  1.405198\n",
      "2  54.145258  1519.331190  0.094161  7.869023  1.372252\n",
      "3  89.319749  1549.504871  0.867704  3.938624  1.767339\n",
      "4  71.432976   793.916085  0.493209  6.491210  1.414318\n"
     ]
    }
   ],
   "source": [
    "n_features = 4\n",
    "n_samples= 100\n",
    "n_target = 1\n",
    "X,Y = friedman3Dataset.friedman3_data(n_samples)"
   ]
  },
  {
   "cell_type": "code",
   "execution_count": 4,
   "id": "e9c5c3ac",
   "metadata": {
    "execution": {
     "iopub.execute_input": "2022-06-22T10:51:47.398382Z",
     "iopub.status.busy": "2022-06-22T10:51:47.397291Z",
     "iopub.status.idle": "2022-06-22T10:51:47.402268Z",
     "shell.execute_reply": "2022-06-22T10:51:47.403173Z"
    },
    "papermill": {
     "duration": 0.023415,
     "end_time": "2022-06-22T10:51:47.403417",
     "exception": false,
     "start_time": "2022-06-22T10:51:47.380002",
     "status": "completed"
    },
    "tags": []
   },
   "outputs": [
    {
     "name": "stdout",
     "output_type": "stream",
     "text": [
      "(100, 4)\n",
      "(100,)\n",
      "(80, 4)\n",
      "(80,)\n",
      "(20, 4)\n",
      "(20,)\n"
     ]
    }
   ],
   "source": [
    "# Train test split for dataset \n",
    "real_dataset = dataset.CustomDataset(X,Y)\n",
    "\n",
    "print(X.shape)\n",
    "print(Y.shape)\n",
    "X_train, X_test, y_train, y_test = train_test_split(X, Y, test_size=0.2)\n",
    "\n",
    "print(X_train.shape)\n",
    "print(y_train.shape)\n",
    "print(X_test.shape)\n",
    "print(y_test.shape)"
   ]
  },
  {
   "cell_type": "markdown",
   "id": "d94e80e3",
   "metadata": {
    "papermill": {
     "duration": 0.014728,
     "end_time": "2022-06-22T10:51:47.427839",
     "exception": false,
     "start_time": "2022-06-22T10:51:47.413111",
     "status": "completed"
    },
    "tags": []
   },
   "source": [
    "## Stats Model \n",
    "\n"
   ]
  },
  {
   "cell_type": "code",
   "execution_count": 5,
   "id": "cfcbdc17",
   "metadata": {
    "execution": {
     "iopub.execute_input": "2022-06-22T10:51:47.456557Z",
     "iopub.status.busy": "2022-06-22T10:51:47.455773Z",
     "iopub.status.idle": "2022-06-22T10:51:47.841064Z",
     "shell.execute_reply": "2022-06-22T10:51:47.841953Z"
    },
    "papermill": {
     "duration": 0.402025,
     "end_time": "2022-06-22T10:51:47.842193",
     "exception": false,
     "start_time": "2022-06-22T10:51:47.440168",
     "status": "completed"
    },
    "tags": []
   },
   "outputs": [
    {
     "name": "stderr",
     "output_type": "stream",
     "text": [
      "No handles with labels found to put in legend.\n"
     ]
    },
    {
     "name": "stdout",
     "output_type": "stream",
     "text": [
      "                                 OLS Regression Results                                \n",
      "=======================================================================================\n",
      "Dep. Variable:                      y   R-squared (uncentered):                   0.458\n",
      "Model:                            OLS   Adj. R-squared (uncentered):              0.430\n",
      "Method:                 Least Squares   F-statistic:                              16.08\n",
      "Date:                Wed, 22 Jun 2022   Prob (F-statistic):                    1.40e-09\n",
      "Time:                        16:21:47   Log-Likelihood:                         -84.313\n",
      "No. Observations:                  80   AIC:                                      176.6\n",
      "Df Residuals:                      76   BIC:                                      186.2\n",
      "Df Model:                           4                                                  \n",
      "Covariance Type:            nonrobust                                                  \n",
      "==============================================================================\n",
      "                 coef    std err          t      P>|t|      [0.025      0.975]\n",
      "------------------------------------------------------------------------------\n",
      "x1            -0.3138      0.082     -3.804      0.000      -0.478      -0.150\n",
      "x2             0.4626      0.084      5.528      0.000       0.296       0.629\n",
      "x3             0.4772      0.080      5.987      0.000       0.318       0.636\n",
      "x4            -0.0458      0.081     -0.565      0.574      -0.207       0.116\n",
      "==============================================================================\n",
      "Omnibus:                       36.228   Durbin-Watson:                   2.003\n",
      "Prob(Omnibus):                  0.000   Jarque-Bera (JB):               85.599\n",
      "Skew:                          -1.572   Prob(JB):                     2.58e-19\n",
      "Kurtosis:                       6.975   Cond. No.                         1.27\n",
      "==============================================================================\n",
      "\n",
      "Notes:\n",
      "[1] R² is computed without centering (uncentered) since the model does not contain a constant.\n",
      "[2] Standard Errors assume that the covariance matrix of the errors is correctly specified.\n"
     ]
    },
    {
     "data": {
      "image/png": "[encoded data removed]",
      "text/plain": [
       "<Figure size 432x288 with 1 Axes>"
      ]
     },
     "metadata": {
      "needs_background": "light"
     },
     "output_type": "display_data"
    },
    {
     "name": "stdout",
     "output_type": "stream",
     "text": [
      "Performance Metrics\n",
      "Mean Squared Error: 0.7243745040307922\n",
      "Mean Absolute Error: 0.6051506661546336\n",
      "Manhattan distance: 12.103013323092673\n",
      "Euclidean distance: 3.806243565592702\n"
     ]
    },
    {
     "data": {
      "application/scrapbook.scrap.json+json": {
       "data": 0.7243745040307922,
       "encoder": "json",
       "name": "Stats Model MSE",
       "version": 1
      }
     },
     "metadata": {
      "scrapbook": {
       "data": true,
       "display": false,
       "name": "Stats Model MSE"
      }
     },
     "output_type": "display_data"
    },
    {
     "data": {
      "application/scrapbook.scrap.json+json": {
       "data": 0.6051506661546336,
       "encoder": "json",
       "name": "Stats Model MAE",
       "version": 1
      }
     },
     "metadata": {
      "scrapbook": {
       "data": true,
       "display": false,
       "name": "Stats Model MAE"
      }
     },
     "output_type": "display_data"
    },
    {
     "data": {
      "application/scrapbook.scrap.json+json": {
       "data": 12.103013323092673,
       "encoder": "json",
       "name": "Stats Model Manhattan Distance",
       "version": 1
      }
     },
     "metadata": {
      "scrapbook": {
       "data": true,
       "display": false,
       "name": "Stats Model Manhattan Distance"
      }
     },
     "output_type": "display_data"
    },
    {
     "data": {
      "application/scrapbook.scrap.json+json": {
       "data": 3.806243565592702,
       "encoder": "json",
       "name": "Stats Model Euclidean distance",
       "version": 1
      }
     },
     "metadata": {
      "scrapbook": {
       "data": true,
       "display": false,
       "name": "Stats Model Euclidean distance"
      }
     },
     "output_type": "display_data"
    },
    {
     "data": {
      "application/scrapbook.scrap.json+json": {
       "data": [
        -0.3138034090806247,
        0.4626282817447176,
        0.47722170502244976,
        -0.04579285386574083
       ],
       "encoder": "json",
       "name": "Coefficients",
       "version": 1
      }
     },
     "metadata": {
      "scrapbook": {
       "data": true,
       "display": false,
       "name": "Coefficients"
      }
     },
     "output_type": "display_data"
    }
   ],
   "source": [
    "coefficients , y_pred =statsModel.statsModel(X_train,y_train,X_test,y_test)\n",
    "#Store MSE Value \n",
    "sb.glue(\"Coefficients\",coefficients)"
   ]
  },
  {
   "cell_type": "markdown",
   "id": "1ea698c0",
   "metadata": {
    "papermill": {
     "duration": 0.02221,
     "end_time": "2022-06-22T10:51:47.881095",
     "exception": false,
     "start_time": "2022-06-22T10:51:47.858885",
     "status": "completed"
    },
    "tags": []
   },
   "source": [
    "# Catboost Model "
   ]
  },
  {
   "cell_type": "code",
   "execution_count": 6,
   "id": "a5a2c06f",
   "metadata": {
    "execution": {
     "iopub.execute_input": "2022-06-22T10:51:47.941392Z",
     "iopub.status.busy": "2022-06-22T10:51:47.939735Z",
     "iopub.status.idle": "2022-06-22T10:51:49.026959Z",
     "shell.execute_reply": "2022-06-22T10:51:49.027559Z"
    },
    "papermill": {
     "duration": 1.122382,
     "end_time": "2022-06-22T10:51:49.027785",
     "exception": false,
     "start_time": "2022-06-22T10:51:47.905403",
     "status": "completed"
    },
    "tags": []
   },
   "outputs": [
    {
     "name": "stdout",
     "output_type": "stream",
     "text": [
      "Learning rate set to 0.027471\n"
     ]
    },
    {
     "name": "stdout",
     "output_type": "stream",
     "text": [
      "0:\tlearn: 0.9348565\ttotal: 56.9ms\tremaining: 56.8s\n",
      "1:\tlearn: 0.9276913\ttotal: 58.1ms\tremaining: 29s\n",
      "2:\tlearn: 0.9183142\ttotal: 58.7ms\tremaining: 19.5s\n",
      "3:\tlearn: 0.9102906\ttotal: 59.6ms\tremaining: 14.8s\n",
      "4:\tlearn: 0.9042109\ttotal: 60.4ms\tremaining: 12s\n",
      "5:\tlearn: 0.8964547\ttotal: 61.3ms\tremaining: 10.2s\n",
      "6:\tlearn: 0.8880875\ttotal: 61.9ms\tremaining: 8.78s\n",
      "7:\tlearn: 0.8816567\ttotal: 62.4ms\tremaining: 7.74s\n",
      "8:\tlearn: 0.8749378\ttotal: 63.2ms\tremaining: 6.96s\n",
      "9:\tlearn: 0.8674891\ttotal: 63.7ms\tremaining: 6.31s\n",
      "10:\tlearn: 0.8596332\ttotal: 64.5ms\tremaining: 5.8s\n",
      "11:\tlearn: 0.8507598\ttotal: 65.1ms\tremaining: 5.36s\n",
      "12:\tlearn: 0.8440774\ttotal: 66.5ms\tremaining: 5.05s\n",
      "13:\tlearn: 0.8364087\ttotal: 67.1ms\tremaining: 4.72s\n",
      "14:\tlearn: 0.8274779\ttotal: 67.9ms\tremaining: 4.46s\n",
      "15:\tlearn: 0.8204725\ttotal: 68.5ms\tremaining: 4.21s\n",
      "16:\tlearn: 0.8109876\ttotal: 69ms\tremaining: 3.99s\n",
      "17:\tlearn: 0.8052190\ttotal: 69.7ms\tremaining: 3.8s\n",
      "18:\tlearn: 0.8018783\ttotal: 70.4ms\tremaining: 3.63s\n",
      "19:\tlearn: 0.7952454\ttotal: 71.1ms\tremaining: 3.48s\n",
      "20:\tlearn: 0.7873681\ttotal: 71.7ms\tremaining: 3.34s\n",
      "21:\tlearn: 0.7800424\ttotal: 72.5ms\tremaining: 3.22s\n",
      "22:\tlearn: 0.7737784\ttotal: 73ms\tremaining: 3.1s\n",
      "23:\tlearn: 0.7669400\ttotal: 73.3ms\tremaining: 2.98s\n",
      "24:\tlearn: 0.7601358\ttotal: 74ms\tremaining: 2.88s\n",
      "25:\tlearn: 0.7537291\ttotal: 74.6ms\tremaining: 2.79s\n",
      "26:\tlearn: 0.7473263\ttotal: 75.1ms\tremaining: 2.71s\n",
      "27:\tlearn: 0.7397883\ttotal: 75.5ms\tremaining: 2.62s\n",
      "28:\tlearn: 0.7331214\ttotal: 76ms\tremaining: 2.54s\n",
      "29:\tlearn: 0.7267666\ttotal: 76.6ms\tremaining: 2.48s\n",
      "30:\tlearn: 0.7220989\ttotal: 76.9ms\tremaining: 2.4s\n",
      "31:\tlearn: 0.7147676\ttotal: 77.4ms\tremaining: 2.34s\n",
      "32:\tlearn: 0.7108867\ttotal: 78.5ms\tremaining: 2.3s\n",
      "33:\tlearn: 0.7062843\ttotal: 79.2ms\tremaining: 2.25s\n",
      "34:\tlearn: 0.7005784\ttotal: 79.7ms\tremaining: 2.2s\n",
      "35:\tlearn: 0.6943480\ttotal: 80.1ms\tremaining: 2.15s\n",
      "36:\tlearn: 0.6884414\ttotal: 80.7ms\tremaining: 2.1s\n",
      "37:\tlearn: 0.6844612\ttotal: 81.3ms\tremaining: 2.06s\n",
      "38:\tlearn: 0.6806198\ttotal: 81.7ms\tremaining: 2.01s\n",
      "39:\tlearn: 0.6758184\ttotal: 82.2ms\tremaining: 1.97s\n",
      "40:\tlearn: 0.6705424\ttotal: 82.6ms\tremaining: 1.93s\n",
      "41:\tlearn: 0.6647049\ttotal: 83.3ms\tremaining: 1.9s\n",
      "42:\tlearn: 0.6604220\ttotal: 83.8ms\tremaining: 1.86s\n",
      "43:\tlearn: 0.6568787\ttotal: 84ms\tremaining: 1.82s\n",
      "44:\tlearn: 0.6512096\ttotal: 84.6ms\tremaining: 1.79s\n",
      "45:\tlearn: 0.6469213\ttotal: 85.2ms\tremaining: 1.77s\n",
      "46:\tlearn: 0.6424186\ttotal: 85.8ms\tremaining: 1.74s\n",
      "47:\tlearn: 0.6369237\ttotal: 86.2ms\tremaining: 1.71s\n",
      "48:\tlearn: 0.6329017\ttotal: 86.6ms\tremaining: 1.68s\n",
      "49:\tlearn: 0.6279887\ttotal: 87ms\tremaining: 1.65s\n",
      "50:\tlearn: 0.6249231\ttotal: 87.5ms\tremaining: 1.63s\n",
      "51:\tlearn: 0.6218280\ttotal: 87.9ms\tremaining: 1.6s\n",
      "52:\tlearn: 0.6175660\ttotal: 88.3ms\tremaining: 1.58s\n",
      "53:\tlearn: 0.6124031\ttotal: 91.2ms\tremaining: 1.6s\n",
      "54:\tlearn: 0.6081252\ttotal: 91.8ms\tremaining: 1.58s\n",
      "55:\tlearn: 0.6021007\ttotal: 92.2ms\tremaining: 1.55s\n",
      "56:\tlearn: 0.5987747\ttotal: 92.7ms\tremaining: 1.53s\n",
      "57:\tlearn: 0.5950974\ttotal: 93.9ms\tremaining: 1.52s\n",
      "58:\tlearn: 0.5903987\ttotal: 94.5ms\tremaining: 1.51s\n",
      "59:\tlearn: 0.5861130\ttotal: 95.2ms\tremaining: 1.49s\n",
      "60:\tlearn: 0.5812676\ttotal: 95.6ms\tremaining: 1.47s\n",
      "61:\tlearn: 0.5774388\ttotal: 96.3ms\tremaining: 1.46s\n",
      "62:\tlearn: 0.5733218\ttotal: 97ms\tremaining: 1.44s\n",
      "63:\tlearn: 0.5712063\ttotal: 97.4ms\tremaining: 1.42s\n",
      "64:\tlearn: 0.5654637\ttotal: 97.9ms\tremaining: 1.41s\n",
      "65:\tlearn: 0.5613492\ttotal: 98.4ms\tremaining: 1.39s\n",
      "66:\tlearn: 0.5576512\ttotal: 98.8ms\tremaining: 1.38s\n",
      "67:\tlearn: 0.5536571\ttotal: 99.2ms\tremaining: 1.36s\n",
      "68:\tlearn: 0.5504344\ttotal: 99.6ms\tremaining: 1.34s\n",
      "69:\tlearn: 0.5466191\ttotal: 100ms\tremaining: 1.33s\n",
      "70:\tlearn: 0.5428159\ttotal: 101ms\tremaining: 1.32s\n",
      "71:\tlearn: 0.5394676\ttotal: 101ms\tremaining: 1.3s\n",
      "72:\tlearn: 0.5359236\ttotal: 102ms\tremaining: 1.3s\n",
      "73:\tlearn: 0.5319866\ttotal: 103ms\tremaining: 1.28s\n",
      "74:\tlearn: 0.5281312\ttotal: 103ms\tremaining: 1.27s\n",
      "75:\tlearn: 0.5242344\ttotal: 104ms\tremaining: 1.26s\n",
      "76:\tlearn: 0.5201745\ttotal: 104ms\tremaining: 1.25s\n",
      "77:\tlearn: 0.5166355\ttotal: 105ms\tremaining: 1.24s\n",
      "78:\tlearn: 0.5126452\ttotal: 105ms\tremaining: 1.23s\n",
      "79:\tlearn: 0.5090513\ttotal: 106ms\tremaining: 1.22s\n",
      "80:\tlearn: 0.5053958\ttotal: 107ms\tremaining: 1.21s\n",
      "81:\tlearn: 0.5018783\ttotal: 107ms\tremaining: 1.2s\n",
      "82:\tlearn: 0.4983176\ttotal: 108ms\tremaining: 1.19s\n",
      "83:\tlearn: 0.4972164\ttotal: 108ms\tremaining: 1.18s\n",
      "84:\tlearn: 0.4926630\ttotal: 108ms\tremaining: 1.17s\n",
      "85:\tlearn: 0.4898025\ttotal: 109ms\tremaining: 1.16s\n",
      "86:\tlearn: 0.4861825\ttotal: 109ms\tremaining: 1.15s\n",
      "87:\tlearn: 0.4826758\ttotal: 110ms\tremaining: 1.14s\n",
      "88:\tlearn: 0.4795587\ttotal: 110ms\tremaining: 1.13s\n",
      "89:\tlearn: 0.4765270\ttotal: 111ms\tremaining: 1.12s\n",
      "90:\tlearn: 0.4723968\ttotal: 111ms\tremaining: 1.11s\n",
      "91:\tlearn: 0.4694532\ttotal: 111ms\tremaining: 1.1s\n",
      "92:\tlearn: 0.4660097\ttotal: 112ms\tremaining: 1.09s\n",
      "93:\tlearn: 0.4630050\ttotal: 113ms\tremaining: 1.08s\n",
      "94:\tlearn: 0.4589008\ttotal: 113ms\tremaining: 1.08s\n",
      "95:\tlearn: 0.4565866\ttotal: 114ms\tremaining: 1.07s\n",
      "96:\tlearn: 0.4526381\ttotal: 114ms\tremaining: 1.06s\n",
      "97:\tlearn: 0.4499672\ttotal: 115ms\tremaining: 1.06s\n",
      "98:\tlearn: 0.4474384\ttotal: 115ms\tremaining: 1.05s\n",
      "99:\tlearn: 0.4440826\ttotal: 116ms\tremaining: 1.04s\n",
      "100:\tlearn: 0.4410281\ttotal: 116ms\tremaining: 1.03s\n",
      "101:\tlearn: 0.4382980\ttotal: 117ms\tremaining: 1.03s\n",
      "102:\tlearn: 0.4353301\ttotal: 118ms\tremaining: 1.02s\n",
      "103:\tlearn: 0.4319283\ttotal: 118ms\tremaining: 1.02s\n",
      "104:\tlearn: 0.4294054\ttotal: 119ms\tremaining: 1.01s\n",
      "105:\tlearn: 0.4260110\ttotal: 119ms\tremaining: 1.01s\n",
      "106:\tlearn: 0.4234718\ttotal: 120ms\tremaining: 1s\n",
      "107:\tlearn: 0.4209623\ttotal: 120ms\tremaining: 995ms\n",
      "108:\tlearn: 0.4180791\ttotal: 121ms\tremaining: 988ms\n",
      "109:\tlearn: 0.4155839\ttotal: 121ms\tremaining: 982ms\n",
      "110:\tlearn: 0.4125307\ttotal: 122ms\tremaining: 975ms\n",
      "111:\tlearn: 0.4094341\ttotal: 122ms\tremaining: 970ms\n",
      "112:\tlearn: 0.4068571\ttotal: 123ms\tremaining: 964ms\n",
      "113:\tlearn: 0.4040405\ttotal: 125ms\tremaining: 975ms\n",
      "114:\tlearn: 0.4019714\ttotal: 126ms\tremaining: 969ms\n",
      "115:\tlearn: 0.3990640\ttotal: 127ms\tremaining: 967ms\n",
      "116:\tlearn: 0.3969589\ttotal: 128ms\tremaining: 963ms\n",
      "117:\tlearn: 0.3949559\ttotal: 128ms\tremaining: 959ms\n",
      "118:\tlearn: 0.3926322\ttotal: 129ms\tremaining: 953ms\n",
      "119:\tlearn: 0.3907973\ttotal: 129ms\tremaining: 948ms\n",
      "120:\tlearn: 0.3879874\ttotal: 130ms\tremaining: 943ms\n",
      "121:\tlearn: 0.3862029\ttotal: 130ms\tremaining: 938ms\n",
      "122:\tlearn: 0.3830219\ttotal: 131ms\tremaining: 933ms\n",
      "123:\tlearn: 0.3809018\ttotal: 131ms\tremaining: 928ms\n",
      "124:\tlearn: 0.3791105\ttotal: 132ms\tremaining: 922ms\n",
      "125:\tlearn: 0.3765659\ttotal: 132ms\tremaining: 918ms\n",
      "126:\tlearn: 0.3740606\ttotal: 133ms\tremaining: 914ms\n",
      "127:\tlearn: 0.3725056\ttotal: 134ms\tremaining: 910ms\n",
      "128:\tlearn: 0.3710477\ttotal: 135ms\tremaining: 909ms\n",
      "129:\tlearn: 0.3682638\ttotal: 135ms\tremaining: 905ms\n",
      "130:\tlearn: 0.3671524\ttotal: 135ms\tremaining: 898ms\n",
      "131:\tlearn: 0.3650393\ttotal: 137ms\tremaining: 898ms\n",
      "132:\tlearn: 0.3630086\ttotal: 137ms\tremaining: 894ms\n",
      "133:\tlearn: 0.3606972\ttotal: 138ms\tremaining: 889ms\n",
      "134:\tlearn: 0.3592470\ttotal: 138ms\tremaining: 885ms\n",
      "135:\tlearn: 0.3574479\ttotal: 139ms\tremaining: 883ms\n",
      "136:\tlearn: 0.3546494\ttotal: 140ms\tremaining: 881ms\n",
      "137:\tlearn: 0.3528678\ttotal: 140ms\tremaining: 877ms\n",
      "138:\tlearn: 0.3504201\ttotal: 141ms\tremaining: 873ms\n",
      "139:\tlearn: 0.3477470\ttotal: 141ms\tremaining: 868ms\n",
      "140:\tlearn: 0.3461978\ttotal: 142ms\tremaining: 864ms\n",
      "141:\tlearn: 0.3437112\ttotal: 142ms\tremaining: 860ms\n",
      "142:\tlearn: 0.3423998\ttotal: 143ms\tremaining: 856ms\n",
      "143:\tlearn: 0.3406631\ttotal: 143ms\tremaining: 853ms\n",
      "144:\tlearn: 0.3386437\ttotal: 144ms\tremaining: 849ms\n",
      "145:\tlearn: 0.3358758\ttotal: 144ms\tremaining: 845ms\n",
      "146:\tlearn: 0.3331826\ttotal: 145ms\tremaining: 842ms\n",
      "147:\tlearn: 0.3309172\ttotal: 146ms\tremaining: 839ms\n",
      "148:\tlearn: 0.3289173\ttotal: 146ms\tremaining: 836ms\n",
      "149:\tlearn: 0.3271429\ttotal: 147ms\tremaining: 832ms\n",
      "150:\tlearn: 0.3250505\ttotal: 147ms\tremaining: 828ms\n",
      "151:\tlearn: 0.3236610\ttotal: 152ms\tremaining: 847ms\n",
      "152:\tlearn: 0.3216883\ttotal: 152ms\tremaining: 844ms\n",
      "153:\tlearn: 0.3197422\ttotal: 153ms\tremaining: 842ms\n",
      "154:\tlearn: 0.3173473\ttotal: 154ms\tremaining: 840ms\n"
     ]
    },
    {
     "name": "stdout",
     "output_type": "stream",
     "text": [
      "155:\tlearn: 0.3148666\ttotal: 156ms\tremaining: 842ms\n",
      "156:\tlearn: 0.3130103\ttotal: 156ms\tremaining: 838ms\n",
      "157:\tlearn: 0.3117998\ttotal: 157ms\tremaining: 836ms\n",
      "158:\tlearn: 0.3103874\ttotal: 157ms\tremaining: 832ms\n",
      "159:\tlearn: 0.3086636\ttotal: 158ms\tremaining: 829ms\n",
      "160:\tlearn: 0.3071480\ttotal: 158ms\tremaining: 825ms\n",
      "161:\tlearn: 0.3059690\ttotal: 160ms\tremaining: 829ms\n",
      "162:\tlearn: 0.3047173\ttotal: 161ms\tremaining: 827ms\n",
      "163:\tlearn: 0.3022784\ttotal: 162ms\tremaining: 823ms\n",
      "164:\tlearn: 0.2997705\ttotal: 162ms\tremaining: 820ms\n",
      "165:\tlearn: 0.2976176\ttotal: 163ms\tremaining: 817ms\n",
      "166:\tlearn: 0.2964810\ttotal: 163ms\tremaining: 814ms\n",
      "167:\tlearn: 0.2954317\ttotal: 164ms\tremaining: 811ms\n",
      "168:\tlearn: 0.2941201\ttotal: 164ms\tremaining: 808ms\n",
      "169:\tlearn: 0.2928133\ttotal: 165ms\tremaining: 805ms\n",
      "170:\tlearn: 0.2913042\ttotal: 166ms\tremaining: 803ms\n",
      "171:\tlearn: 0.2897467\ttotal: 166ms\tremaining: 800ms\n",
      "172:\tlearn: 0.2880579\ttotal: 167ms\tremaining: 797ms\n",
      "173:\tlearn: 0.2865179\ttotal: 167ms\tremaining: 794ms\n",
      "174:\tlearn: 0.2846220\ttotal: 168ms\tremaining: 791ms\n",
      "175:\tlearn: 0.2826328\ttotal: 168ms\tremaining: 788ms\n",
      "176:\tlearn: 0.2812324\ttotal: 169ms\tremaining: 784ms\n",
      "177:\tlearn: 0.2796873\ttotal: 169ms\tremaining: 782ms\n",
      "178:\tlearn: 0.2787778\ttotal: 170ms\tremaining: 779ms\n",
      "179:\tlearn: 0.2766584\ttotal: 171ms\tremaining: 778ms\n",
      "180:\tlearn: 0.2751408\ttotal: 171ms\tremaining: 775ms\n",
      "181:\tlearn: 0.2738609\ttotal: 172ms\tremaining: 772ms\n",
      "182:\tlearn: 0.2725460\ttotal: 172ms\tremaining: 770ms\n",
      "183:\tlearn: 0.2715291\ttotal: 173ms\tremaining: 768ms\n",
      "184:\tlearn: 0.2696532\ttotal: 174ms\tremaining: 765ms\n",
      "185:\tlearn: 0.2684326\ttotal: 175ms\tremaining: 765ms\n",
      "186:\tlearn: 0.2672609\ttotal: 175ms\tremaining: 762ms\n",
      "187:\tlearn: 0.2659996\ttotal: 176ms\tremaining: 761ms\n",
      "188:\tlearn: 0.2648902\ttotal: 177ms\tremaining: 758ms\n",
      "189:\tlearn: 0.2632611\ttotal: 177ms\tremaining: 755ms\n",
      "190:\tlearn: 0.2620339\ttotal: 178ms\tremaining: 753ms\n",
      "191:\tlearn: 0.2603386\ttotal: 178ms\tremaining: 751ms\n",
      "192:\tlearn: 0.2587263\ttotal: 179ms\tremaining: 748ms\n",
      "193:\tlearn: 0.2575289\ttotal: 183ms\tremaining: 759ms\n",
      "194:\tlearn: 0.2559643\ttotal: 183ms\tremaining: 757ms\n",
      "195:\tlearn: 0.2549584\ttotal: 184ms\tremaining: 754ms\n",
      "196:\tlearn: 0.2531766\ttotal: 185ms\tremaining: 752ms\n",
      "197:\tlearn: 0.2524018\ttotal: 185ms\tremaining: 749ms\n",
      "198:\tlearn: 0.2509147\ttotal: 186ms\tremaining: 748ms\n",
      "199:\tlearn: 0.2495634\ttotal: 189ms\tremaining: 754ms\n",
      "200:\tlearn: 0.2478996\ttotal: 190ms\tremaining: 754ms\n",
      "201:\tlearn: 0.2465729\ttotal: 190ms\tremaining: 752ms\n",
      "202:\tlearn: 0.2449032\ttotal: 191ms\tremaining: 749ms\n",
      "203:\tlearn: 0.2439526\ttotal: 191ms\tremaining: 746ms\n",
      "204:\tlearn: 0.2425708\ttotal: 192ms\tremaining: 744ms\n",
      "205:\tlearn: 0.2412654\ttotal: 192ms\tremaining: 742ms\n",
      "206:\tlearn: 0.2406968\ttotal: 193ms\tremaining: 739ms\n",
      "207:\tlearn: 0.2398223\ttotal: 193ms\tremaining: 737ms\n",
      "208:\tlearn: 0.2385587\ttotal: 194ms\tremaining: 734ms\n",
      "209:\tlearn: 0.2370263\ttotal: 194ms\tremaining: 731ms\n",
      "210:\tlearn: 0.2365396\ttotal: 195ms\tremaining: 730ms\n",
      "211:\tlearn: 0.2354024\ttotal: 196ms\tremaining: 728ms\n",
      "212:\tlearn: 0.2341380\ttotal: 196ms\tremaining: 725ms\n",
      "213:\tlearn: 0.2326570\ttotal: 197ms\tremaining: 723ms\n",
      "214:\tlearn: 0.2312493\ttotal: 197ms\tremaining: 721ms\n",
      "215:\tlearn: 0.2303636\ttotal: 198ms\tremaining: 719ms\n",
      "216:\tlearn: 0.2289846\ttotal: 199ms\tremaining: 719ms\n",
      "217:\tlearn: 0.2275024\ttotal: 200ms\tremaining: 717ms\n",
      "218:\tlearn: 0.2266029\ttotal: 200ms\tremaining: 714ms\n",
      "219:\tlearn: 0.2254072\ttotal: 201ms\tremaining: 712ms\n",
      "220:\tlearn: 0.2244663\ttotal: 201ms\tremaining: 710ms\n",
      "221:\tlearn: 0.2240504\ttotal: 202ms\tremaining: 708ms\n",
      "222:\tlearn: 0.2228614\ttotal: 202ms\tremaining: 705ms\n",
      "223:\tlearn: 0.2209606\ttotal: 203ms\tremaining: 703ms\n"
     ]
    },
    {
     "name": "stdout",
     "output_type": "stream",
     "text": [
      "224:\tlearn: 0.2198464\ttotal: 204ms\tremaining: 703ms\n",
      "225:\tlearn: 0.2182297\ttotal: 205ms\tremaining: 702ms\n",
      "226:\tlearn: 0.2171899\ttotal: 206ms\tremaining: 700ms\n",
      "227:\tlearn: 0.2155877\ttotal: 206ms\tremaining: 698ms\n",
      "228:\tlearn: 0.2142831\ttotal: 207ms\tremaining: 697ms\n",
      "229:\tlearn: 0.2132615\ttotal: 207ms\tremaining: 695ms\n",
      "230:\tlearn: 0.2128175\ttotal: 208ms\tremaining: 692ms\n",
      "231:\tlearn: 0.2114173\ttotal: 209ms\tremaining: 690ms\n",
      "232:\tlearn: 0.2101460\ttotal: 209ms\tremaining: 688ms\n",
      "233:\tlearn: 0.2096034\ttotal: 210ms\tremaining: 686ms\n",
      "234:\tlearn: 0.2086958\ttotal: 210ms\tremaining: 684ms\n",
      "235:\tlearn: 0.2074286\ttotal: 211ms\tremaining: 682ms\n",
      "236:\tlearn: 0.2067959\ttotal: 211ms\tremaining: 680ms\n",
      "237:\tlearn: 0.2051757\ttotal: 215ms\tremaining: 688ms\n",
      "238:\tlearn: 0.2036562\ttotal: 215ms\tremaining: 686ms\n",
      "239:\tlearn: 0.2025343\ttotal: 216ms\tremaining: 683ms\n",
      "240:\tlearn: 0.2012585\ttotal: 216ms\tremaining: 681ms\n",
      "241:\tlearn: 0.2003025\ttotal: 218ms\tremaining: 684ms\n",
      "242:\tlearn: 0.1995413\ttotal: 219ms\tremaining: 682ms\n",
      "243:\tlearn: 0.1983758\ttotal: 219ms\tremaining: 680ms\n",
      "244:\tlearn: 0.1975117\ttotal: 220ms\tremaining: 678ms\n",
      "245:\tlearn: 0.1962107\ttotal: 221ms\tremaining: 677ms\n",
      "246:\tlearn: 0.1950837\ttotal: 222ms\tremaining: 675ms\n",
      "247:\tlearn: 0.1946818\ttotal: 222ms\tremaining: 673ms\n",
      "248:\tlearn: 0.1933892\ttotal: 223ms\tremaining: 671ms\n",
      "249:\tlearn: 0.1917169\ttotal: 223ms\tremaining: 669ms\n",
      "250:\tlearn: 0.1904433\ttotal: 224ms\tremaining: 667ms\n",
      "251:\tlearn: 0.1897316\ttotal: 224ms\tremaining: 665ms\n",
      "252:\tlearn: 0.1884493\ttotal: 225ms\tremaining: 664ms\n",
      "253:\tlearn: 0.1871140\ttotal: 227ms\tremaining: 665ms\n",
      "254:\tlearn: 0.1858250\ttotal: 227ms\tremaining: 664ms\n",
      "255:\tlearn: 0.1846610\ttotal: 228ms\tremaining: 662ms\n",
      "256:\tlearn: 0.1837798\ttotal: 228ms\tremaining: 660ms\n",
      "257:\tlearn: 0.1834866\ttotal: 229ms\tremaining: 658ms\n",
      "258:\tlearn: 0.1820952\ttotal: 229ms\tremaining: 656ms\n",
      "259:\tlearn: 0.1812687\ttotal: 230ms\tremaining: 654ms\n",
      "260:\tlearn: 0.1800045\ttotal: 230ms\tremaining: 653ms\n",
      "261:\tlearn: 0.1790969\ttotal: 231ms\tremaining: 650ms\n",
      "262:\tlearn: 0.1787922\ttotal: 231ms\tremaining: 648ms\n",
      "263:\tlearn: 0.1773878\ttotal: 232ms\tremaining: 646ms\n",
      "264:\tlearn: 0.1759158\ttotal: 232ms\tremaining: 645ms\n",
      "265:\tlearn: 0.1749290\ttotal: 233ms\tremaining: 643ms\n",
      "266:\tlearn: 0.1741183\ttotal: 234ms\tremaining: 641ms\n",
      "267:\tlearn: 0.1731179\ttotal: 234ms\tremaining: 639ms\n",
      "268:\tlearn: 0.1718582\ttotal: 235ms\tremaining: 638ms\n",
      "269:\tlearn: 0.1708299\ttotal: 235ms\tremaining: 636ms\n",
      "270:\tlearn: 0.1695074\ttotal: 236ms\tremaining: 634ms\n",
      "271:\tlearn: 0.1685866\ttotal: 236ms\tremaining: 632ms\n",
      "272:\tlearn: 0.1675824\ttotal: 237ms\tremaining: 631ms\n",
      "273:\tlearn: 0.1670661\ttotal: 237ms\tremaining: 629ms\n",
      "274:\tlearn: 0.1660809\ttotal: 238ms\tremaining: 628ms\n",
      "275:\tlearn: 0.1652838\ttotal: 239ms\tremaining: 628ms\n",
      "276:\tlearn: 0.1648404\ttotal: 240ms\tremaining: 627ms\n",
      "277:\tlearn: 0.1638148\ttotal: 241ms\tremaining: 626ms\n",
      "278:\tlearn: 0.1630430\ttotal: 242ms\tremaining: 624ms\n",
      "279:\tlearn: 0.1624115\ttotal: 242ms\tremaining: 622ms\n",
      "280:\tlearn: 0.1612812\ttotal: 242ms\tremaining: 620ms\n",
      "281:\tlearn: 0.1605303\ttotal: 243ms\tremaining: 618ms\n",
      "282:\tlearn: 0.1598899\ttotal: 243ms\tremaining: 617ms\n",
      "283:\tlearn: 0.1594527\ttotal: 244ms\tremaining: 615ms\n",
      "284:\tlearn: 0.1587195\ttotal: 244ms\tremaining: 613ms\n",
      "285:\tlearn: 0.1580057\ttotal: 245ms\tremaining: 612ms\n",
      "286:\tlearn: 0.1577673\ttotal: 246ms\tremaining: 610ms\n",
      "287:\tlearn: 0.1565962\ttotal: 246ms\tremaining: 609ms\n",
      "288:\tlearn: 0.1557299\ttotal: 247ms\tremaining: 608ms\n",
      "289:\tlearn: 0.1549118\ttotal: 248ms\tremaining: 606ms\n",
      "290:\tlearn: 0.1545197\ttotal: 248ms\tremaining: 604ms\n",
      "291:\tlearn: 0.1537106\ttotal: 249ms\tremaining: 603ms\n",
      "292:\tlearn: 0.1530083\ttotal: 249ms\tremaining: 601ms\n",
      "293:\tlearn: 0.1527739\ttotal: 250ms\tremaining: 599ms\n",
      "294:\tlearn: 0.1518304\ttotal: 250ms\tremaining: 598ms\n",
      "295:\tlearn: 0.1508195\ttotal: 251ms\tremaining: 596ms\n",
      "296:\tlearn: 0.1499751\ttotal: 251ms\tremaining: 595ms\n",
      "297:\tlearn: 0.1492646\ttotal: 256ms\tremaining: 604ms\n",
      "298:\tlearn: 0.1485435\ttotal: 257ms\tremaining: 603ms\n",
      "299:\tlearn: 0.1483167\ttotal: 258ms\tremaining: 601ms\n",
      "300:\tlearn: 0.1475433\ttotal: 258ms\tremaining: 600ms\n",
      "301:\tlearn: 0.1467969\ttotal: 260ms\tremaining: 601ms\n",
      "302:\tlearn: 0.1460601\ttotal: 261ms\tremaining: 600ms\n",
      "303:\tlearn: 0.1454608\ttotal: 261ms\tremaining: 598ms\n",
      "304:\tlearn: 0.1447087\ttotal: 262ms\tremaining: 597ms\n",
      "305:\tlearn: 0.1441909\ttotal: 262ms\tremaining: 595ms\n",
      "306:\tlearn: 0.1437193\ttotal: 263ms\tremaining: 594ms\n",
      "307:\tlearn: 0.1435125\ttotal: 264ms\tremaining: 592ms\n",
      "308:\tlearn: 0.1433402\ttotal: 264ms\tremaining: 591ms\n",
      "309:\tlearn: 0.1428907\ttotal: 265ms\tremaining: 589ms\n",
      "310:\tlearn: 0.1424053\ttotal: 265ms\tremaining: 587ms\n",
      "311:\tlearn: 0.1420935\ttotal: 266ms\tremaining: 586ms\n",
      "312:\tlearn: 0.1417896\ttotal: 268ms\tremaining: 588ms\n",
      "313:\tlearn: 0.1413261\ttotal: 268ms\tremaining: 586ms\n",
      "314:\tlearn: 0.1411030\ttotal: 269ms\tremaining: 585ms\n",
      "315:\tlearn: 0.1402816\ttotal: 269ms\tremaining: 583ms\n",
      "316:\tlearn: 0.1397455\ttotal: 270ms\tremaining: 581ms\n",
      "317:\tlearn: 0.1392200\ttotal: 270ms\tremaining: 580ms\n",
      "318:\tlearn: 0.1389390\ttotal: 271ms\tremaining: 578ms\n",
      "319:\tlearn: 0.1387718\ttotal: 272ms\tremaining: 577ms\n",
      "320:\tlearn: 0.1385000\ttotal: 272ms\tremaining: 575ms\n",
      "321:\tlearn: 0.1383222\ttotal: 273ms\tremaining: 574ms\n",
      "322:\tlearn: 0.1380589\ttotal: 274ms\tremaining: 574ms\n",
      "323:\tlearn: 0.1375148\ttotal: 274ms\tremaining: 572ms\n",
      "324:\tlearn: 0.1373563\ttotal: 275ms\tremaining: 571ms\n",
      "325:\tlearn: 0.1372002\ttotal: 275ms\tremaining: 569ms\n",
      "326:\tlearn: 0.1363918\ttotal: 276ms\tremaining: 568ms\n",
      "327:\tlearn: 0.1362386\ttotal: 277ms\tremaining: 566ms\n",
      "328:\tlearn: 0.1360876\ttotal: 277ms\tremaining: 565ms\n",
      "329:\tlearn: 0.1355970\ttotal: 278ms\tremaining: 564ms\n",
      "330:\tlearn: 0.1348136\ttotal: 278ms\tremaining: 562ms\n",
      "331:\tlearn: 0.1346661\ttotal: 279ms\tremaining: 561ms\n",
      "332:\tlearn: 0.1345207\ttotal: 279ms\tremaining: 559ms\n",
      "333:\tlearn: 0.1337475\ttotal: 280ms\tremaining: 559ms\n",
      "334:\tlearn: 0.1330815\ttotal: 281ms\tremaining: 557ms\n",
      "335:\tlearn: 0.1327940\ttotal: 281ms\tremaining: 556ms\n",
      "336:\tlearn: 0.1320580\ttotal: 282ms\tremaining: 554ms\n",
      "337:\tlearn: 0.1314682\ttotal: 282ms\tremaining: 553ms\n",
      "338:\tlearn: 0.1308766\ttotal: 283ms\tremaining: 552ms\n",
      "339:\tlearn: 0.1305660\ttotal: 284ms\tremaining: 551ms\n",
      "340:\tlearn: 0.1303193\ttotal: 284ms\tremaining: 549ms\n",
      "341:\tlearn: 0.1297660\ttotal: 285ms\tremaining: 549ms\n",
      "342:\tlearn: 0.1291873\ttotal: 286ms\tremaining: 547ms\n",
      "343:\tlearn: 0.1287716\ttotal: 287ms\tremaining: 547ms\n",
      "344:\tlearn: 0.1286335\ttotal: 291ms\tremaining: 552ms\n",
      "345:\tlearn: 0.1279911\ttotal: 292ms\tremaining: 551ms\n",
      "346:\tlearn: 0.1278546\ttotal: 292ms\tremaining: 550ms\n",
      "347:\tlearn: 0.1271723\ttotal: 293ms\tremaining: 549ms\n",
      "348:\tlearn: 0.1262296\ttotal: 294ms\tremaining: 549ms\n",
      "349:\tlearn: 0.1255125\ttotal: 295ms\tremaining: 547ms\n",
      "350:\tlearn: 0.1252042\ttotal: 296ms\tremaining: 546ms\n",
      "351:\tlearn: 0.1245075\ttotal: 296ms\tremaining: 545ms\n",
      "352:\tlearn: 0.1239877\ttotal: 297ms\tremaining: 545ms\n",
      "353:\tlearn: 0.1236894\ttotal: 298ms\tremaining: 543ms\n",
      "354:\tlearn: 0.1232553\ttotal: 299ms\tremaining: 543ms\n",
      "355:\tlearn: 0.1230102\ttotal: 299ms\tremaining: 541ms\n",
      "356:\tlearn: 0.1223440\ttotal: 300ms\tremaining: 539ms\n",
      "357:\tlearn: 0.1218080\ttotal: 300ms\tremaining: 538ms\n",
      "358:\tlearn: 0.1213130\ttotal: 304ms\tremaining: 542ms\n",
      "359:\tlearn: 0.1208515\ttotal: 304ms\tremaining: 541ms\n",
      "360:\tlearn: 0.1201573\ttotal: 305ms\tremaining: 539ms\n",
      "361:\tlearn: 0.1195218\ttotal: 305ms\tremaining: 538ms\n",
      "362:\tlearn: 0.1190776\ttotal: 306ms\tremaining: 537ms\n",
      "363:\tlearn: 0.1188006\ttotal: 307ms\tremaining: 536ms\n",
      "364:\tlearn: 0.1181870\ttotal: 307ms\tremaining: 534ms\n",
      "365:\tlearn: 0.1178154\ttotal: 308ms\tremaining: 533ms\n",
      "366:\tlearn: 0.1173131\ttotal: 308ms\tremaining: 531ms\n",
      "367:\tlearn: 0.1169291\ttotal: 309ms\tremaining: 530ms\n",
      "368:\tlearn: 0.1162814\ttotal: 309ms\tremaining: 529ms\n"
     ]
    },
    {
     "name": "stdout",
     "output_type": "stream",
     "text": [
      "369:\tlearn: 0.1159947\ttotal: 310ms\tremaining: 528ms\n",
      "370:\tlearn: 0.1154064\ttotal: 311ms\tremaining: 527ms\n",
      "371:\tlearn: 0.1150749\ttotal: 312ms\tremaining: 526ms\n",
      "372:\tlearn: 0.1147089\ttotal: 312ms\tremaining: 525ms\n",
      "373:\tlearn: 0.1140909\ttotal: 313ms\tremaining: 523ms\n",
      "374:\tlearn: 0.1136337\ttotal: 313ms\tremaining: 522ms\n",
      "375:\tlearn: 0.1130708\ttotal: 314ms\tremaining: 521ms\n",
      "376:\tlearn: 0.1127269\ttotal: 314ms\tremaining: 520ms\n",
      "377:\tlearn: 0.1123836\ttotal: 315ms\tremaining: 518ms\n",
      "378:\tlearn: 0.1118384\ttotal: 316ms\tremaining: 517ms\n",
      "379:\tlearn: 0.1113691\ttotal: 316ms\tremaining: 516ms\n",
      "380:\tlearn: 0.1111007\ttotal: 316ms\tremaining: 514ms\n",
      "381:\tlearn: 0.1107951\ttotal: 317ms\tremaining: 514ms\n",
      "382:\tlearn: 0.1102708\ttotal: 318ms\tremaining: 512ms\n",
      "383:\tlearn: 0.1099416\ttotal: 318ms\tremaining: 511ms\n",
      "384:\tlearn: 0.1096823\ttotal: 319ms\tremaining: 510ms\n",
      "385:\tlearn: 0.1090682\ttotal: 320ms\tremaining: 508ms\n",
      "386:\tlearn: 0.1087428\ttotal: 320ms\tremaining: 507ms\n",
      "387:\tlearn: 0.1082433\ttotal: 321ms\tremaining: 506ms\n",
      "388:\tlearn: 0.1077427\ttotal: 322ms\tremaining: 506ms\n",
      "389:\tlearn: 0.1074614\ttotal: 322ms\tremaining: 504ms\n",
      "390:\tlearn: 0.1068469\ttotal: 323ms\tremaining: 503ms\n",
      "391:\tlearn: 0.1065342\ttotal: 324ms\tremaining: 503ms\n",
      "392:\tlearn: 0.1060577\ttotal: 325ms\tremaining: 502ms\n",
      "393:\tlearn: 0.1057615\ttotal: 334ms\tremaining: 514ms\n",
      "394:\tlearn: 0.1052957\ttotal: 334ms\tremaining: 512ms\n",
      "395:\tlearn: 0.1047570\ttotal: 336ms\tremaining: 512ms\n",
      "396:\tlearn: 0.1042866\ttotal: 337ms\tremaining: 511ms\n",
      "397:\tlearn: 0.1036964\ttotal: 338ms\tremaining: 511ms\n",
      "398:\tlearn: 0.1034138\ttotal: 339ms\tremaining: 510ms\n",
      "399:\tlearn: 0.1031273\ttotal: 340ms\tremaining: 510ms\n",
      "400:\tlearn: 0.1024903\ttotal: 342ms\tremaining: 511ms\n",
      "401:\tlearn: 0.1019004\ttotal: 343ms\tremaining: 510ms\n",
      "402:\tlearn: 0.1014501\ttotal: 343ms\tremaining: 509ms\n",
      "403:\tlearn: 0.1010448\ttotal: 344ms\tremaining: 508ms\n",
      "404:\tlearn: 0.1006129\ttotal: 345ms\tremaining: 506ms\n",
      "405:\tlearn: 0.1000768\ttotal: 345ms\tremaining: 505ms\n",
      "406:\tlearn: 0.0995190\ttotal: 346ms\tremaining: 504ms\n",
      "407:\tlearn: 0.0990193\ttotal: 346ms\tremaining: 502ms\n",
      "408:\tlearn: 0.0984761\ttotal: 347ms\tremaining: 501ms\n"
     ]
    },
    {
     "name": "stdout",
     "output_type": "stream",
     "text": [
      "409:\tlearn: 0.0979919\ttotal: 347ms\tremaining: 500ms\n",
      "410:\tlearn: 0.0975477\ttotal: 348ms\tremaining: 499ms\n",
      "411:\tlearn: 0.0971616\ttotal: 349ms\tremaining: 498ms\n",
      "412:\tlearn: 0.0965755\ttotal: 349ms\tremaining: 496ms\n",
      "413:\tlearn: 0.0963526\ttotal: 350ms\tremaining: 495ms\n",
      "414:\tlearn: 0.0958506\ttotal: 350ms\tremaining: 494ms\n",
      "415:\tlearn: 0.0954225\ttotal: 351ms\tremaining: 492ms\n",
      "416:\tlearn: 0.0949064\ttotal: 351ms\tremaining: 491ms\n",
      "417:\tlearn: 0.0944455\ttotal: 352ms\tremaining: 490ms\n",
      "418:\tlearn: 0.0938989\ttotal: 352ms\tremaining: 488ms\n",
      "419:\tlearn: 0.0934839\ttotal: 353ms\tremaining: 487ms\n",
      "420:\tlearn: 0.0930874\ttotal: 354ms\tremaining: 487ms\n",
      "421:\tlearn: 0.0926163\ttotal: 354ms\tremaining: 486ms\n",
      "422:\tlearn: 0.0922108\ttotal: 355ms\tremaining: 485ms\n",
      "423:\tlearn: 0.0917189\ttotal: 357ms\tremaining: 484ms\n",
      "424:\tlearn: 0.0912066\ttotal: 357ms\tremaining: 483ms\n",
      "425:\tlearn: 0.0908310\ttotal: 358ms\tremaining: 482ms\n",
      "426:\tlearn: 0.0904674\ttotal: 358ms\tremaining: 481ms\n",
      "427:\tlearn: 0.0900092\ttotal: 359ms\tremaining: 480ms\n",
      "428:\tlearn: 0.0895631\ttotal: 359ms\tremaining: 478ms\n",
      "429:\tlearn: 0.0891827\ttotal: 360ms\tremaining: 477ms\n",
      "430:\tlearn: 0.0890637\ttotal: 360ms\tremaining: 476ms\n",
      "431:\tlearn: 0.0885760\ttotal: 361ms\tremaining: 475ms\n",
      "432:\tlearn: 0.0883289\ttotal: 362ms\tremaining: 474ms\n",
      "433:\tlearn: 0.0879900\ttotal: 362ms\tremaining: 473ms\n",
      "434:\tlearn: 0.0876335\ttotal: 363ms\tremaining: 472ms\n",
      "435:\tlearn: 0.0872113\ttotal: 364ms\tremaining: 471ms\n",
      "436:\tlearn: 0.0871430\ttotal: 364ms\tremaining: 469ms\n",
      "437:\tlearn: 0.0870758\ttotal: 365ms\tremaining: 468ms\n",
      "438:\tlearn: 0.0868372\ttotal: 365ms\tremaining: 467ms\n",
      "439:\tlearn: 0.0867710\ttotal: 366ms\tremaining: 466ms\n",
      "440:\tlearn: 0.0863904\ttotal: 369ms\tremaining: 468ms\n",
      "441:\tlearn: 0.0863258\ttotal: 370ms\tremaining: 468ms\n",
      "442:\tlearn: 0.0861304\ttotal: 371ms\tremaining: 466ms\n",
      "443:\tlearn: 0.0856618\ttotal: 372ms\tremaining: 466ms\n",
      "444:\tlearn: 0.0855985\ttotal: 373ms\tremaining: 465ms\n",
      "445:\tlearn: 0.0855361\ttotal: 374ms\tremaining: 464ms\n",
      "446:\tlearn: 0.0851711\ttotal: 374ms\tremaining: 463ms\n",
      "447:\tlearn: 0.0847159\ttotal: 375ms\tremaining: 462ms\n",
      "448:\tlearn: 0.0846554\ttotal: 376ms\tremaining: 461ms\n",
      "449:\tlearn: 0.0844672\ttotal: 376ms\tremaining: 460ms\n",
      "450:\tlearn: 0.0844075\ttotal: 377ms\tremaining: 459ms\n",
      "451:\tlearn: 0.0839641\ttotal: 378ms\tremaining: 458ms\n",
      "452:\tlearn: 0.0839058\ttotal: 378ms\tremaining: 456ms\n",
      "453:\tlearn: 0.0835580\ttotal: 378ms\tremaining: 455ms\n",
      "454:\tlearn: 0.0832197\ttotal: 379ms\tremaining: 454ms\n",
      "455:\tlearn: 0.0831627\ttotal: 379ms\tremaining: 452ms\n",
      "456:\tlearn: 0.0831065\ttotal: 380ms\tremaining: 451ms\n",
      "457:\tlearn: 0.0830510\ttotal: 380ms\tremaining: 450ms\n",
      "458:\tlearn: 0.0827137\ttotal: 381ms\tremaining: 449ms\n",
      "459:\tlearn: 0.0826589\ttotal: 382ms\tremaining: 449ms\n",
      "460:\tlearn: 0.0824495\ttotal: 383ms\tremaining: 448ms\n",
      "461:\tlearn: 0.0820896\ttotal: 384ms\tremaining: 447ms\n",
      "462:\tlearn: 0.0820359\ttotal: 384ms\tremaining: 446ms\n",
      "463:\tlearn: 0.0819829\ttotal: 385ms\tremaining: 444ms\n",
      "464:\tlearn: 0.0816697\ttotal: 385ms\tremaining: 443ms\n",
      "465:\tlearn: 0.0814660\ttotal: 386ms\tremaining: 442ms\n",
      "466:\tlearn: 0.0814141\ttotal: 386ms\tremaining: 441ms\n",
      "467:\tlearn: 0.0812395\ttotal: 387ms\tremaining: 440ms\n",
      "468:\tlearn: 0.0808835\ttotal: 387ms\tremaining: 438ms\n",
      "469:\tlearn: 0.0808321\ttotal: 388ms\tremaining: 437ms\n",
      "470:\tlearn: 0.0807815\ttotal: 388ms\tremaining: 436ms\n",
      "471:\tlearn: 0.0805171\ttotal: 389ms\tremaining: 435ms\n",
      "472:\tlearn: 0.0803821\ttotal: 390ms\tremaining: 434ms\n",
      "473:\tlearn: 0.0803328\ttotal: 391ms\tremaining: 433ms\n",
      "474:\tlearn: 0.0800458\ttotal: 391ms\tremaining: 432ms\n",
      "475:\tlearn: 0.0798509\ttotal: 392ms\tremaining: 431ms\n",
      "476:\tlearn: 0.0798022\ttotal: 392ms\tremaining: 430ms\n",
      "477:\tlearn: 0.0795089\ttotal: 392ms\tremaining: 429ms\n",
      "478:\tlearn: 0.0794610\ttotal: 393ms\tremaining: 428ms\n",
      "479:\tlearn: 0.0792710\ttotal: 401ms\tremaining: 434ms\n",
      "480:\tlearn: 0.0790161\ttotal: 402ms\tremaining: 433ms\n",
      "481:\tlearn: 0.0787444\ttotal: 403ms\tremaining: 433ms\n",
      "482:\tlearn: 0.0785588\ttotal: 404ms\tremaining: 432ms\n",
      "483:\tlearn: 0.0782710\ttotal: 405ms\tremaining: 431ms\n",
      "484:\tlearn: 0.0777593\ttotal: 405ms\tremaining: 430ms\n",
      "485:\tlearn: 0.0772585\ttotal: 406ms\tremaining: 429ms\n",
      "486:\tlearn: 0.0770138\ttotal: 406ms\tremaining: 428ms\n",
      "487:\tlearn: 0.0768345\ttotal: 407ms\tremaining: 427ms\n",
      "488:\tlearn: 0.0763464\ttotal: 410ms\tremaining: 428ms\n",
      "489:\tlearn: 0.0761904\ttotal: 410ms\tremaining: 427ms\n",
      "490:\tlearn: 0.0757135\ttotal: 411ms\tremaining: 426ms\n",
      "491:\tlearn: 0.0754740\ttotal: 412ms\tremaining: 425ms\n",
      "492:\tlearn: 0.0750082\ttotal: 412ms\tremaining: 424ms\n",
      "493:\tlearn: 0.0747761\ttotal: 413ms\tremaining: 423ms\n",
      "494:\tlearn: 0.0743655\ttotal: 414ms\tremaining: 422ms\n",
      "495:\tlearn: 0.0741390\ttotal: 414ms\tremaining: 421ms\n",
      "496:\tlearn: 0.0739686\ttotal: 415ms\tremaining: 420ms\n",
      "497:\tlearn: 0.0738013\ttotal: 416ms\tremaining: 419ms\n",
      "498:\tlearn: 0.0737383\ttotal: 416ms\tremaining: 418ms\n",
      "499:\tlearn: 0.0736177\ttotal: 417ms\tremaining: 417ms\n",
      "500:\tlearn: 0.0735557\ttotal: 418ms\tremaining: 416ms\n",
      "501:\tlearn: 0.0733921\ttotal: 419ms\tremaining: 416ms\n",
      "502:\tlearn: 0.0732468\ttotal: 420ms\tremaining: 415ms\n",
      "503:\tlearn: 0.0728035\ttotal: 421ms\tremaining: 414ms\n",
      "504:\tlearn: 0.0724136\ttotal: 422ms\tremaining: 413ms\n",
      "505:\tlearn: 0.0722712\ttotal: 422ms\tremaining: 412ms\n",
      "506:\tlearn: 0.0721040\ttotal: 423ms\tremaining: 411ms\n",
      "507:\tlearn: 0.0719453\ttotal: 423ms\tremaining: 410ms\n",
      "508:\tlearn: 0.0718074\ttotal: 424ms\tremaining: 409ms\n",
      "509:\tlearn: 0.0716451\ttotal: 425ms\tremaining: 408ms\n",
      "510:\tlearn: 0.0715100\ttotal: 425ms\tremaining: 407ms\n",
      "511:\tlearn: 0.0710741\ttotal: 425ms\tremaining: 405ms\n",
      "512:\tlearn: 0.0706475\ttotal: 426ms\tremaining: 405ms\n",
      "513:\tlearn: 0.0703911\ttotal: 427ms\tremaining: 404ms\n",
      "514:\tlearn: 0.0701411\ttotal: 428ms\tremaining: 403ms\n",
      "515:\tlearn: 0.0699872\ttotal: 429ms\tremaining: 402ms\n",
      "516:\tlearn: 0.0696171\ttotal: 429ms\tremaining: 401ms\n",
      "517:\tlearn: 0.0694877\ttotal: 430ms\tremaining: 400ms\n",
      "518:\tlearn: 0.0693377\ttotal: 431ms\tremaining: 399ms\n",
      "519:\tlearn: 0.0692108\ttotal: 431ms\tremaining: 398ms\n",
      "520:\tlearn: 0.0688822\ttotal: 432ms\tremaining: 397ms\n",
      "521:\tlearn: 0.0687367\ttotal: 434ms\tremaining: 398ms\n",
      "522:\tlearn: 0.0686134\ttotal: 435ms\tremaining: 397ms\n",
      "523:\tlearn: 0.0682125\ttotal: 435ms\tremaining: 396ms\n",
      "524:\tlearn: 0.0678948\ttotal: 436ms\tremaining: 394ms\n",
      "525:\tlearn: 0.0675885\ttotal: 436ms\tremaining: 393ms\n",
      "526:\tlearn: 0.0672944\ttotal: 437ms\tremaining: 392ms\n",
      "527:\tlearn: 0.0671583\ttotal: 438ms\tremaining: 392ms\n",
      "528:\tlearn: 0.0669318\ttotal: 440ms\tremaining: 391ms\n",
      "529:\tlearn: 0.0666852\ttotal: 441ms\tremaining: 391ms\n",
      "530:\tlearn: 0.0663058\ttotal: 442ms\tremaining: 390ms\n",
      "531:\tlearn: 0.0660988\ttotal: 443ms\tremaining: 390ms\n",
      "532:\tlearn: 0.0657299\ttotal: 445ms\tremaining: 390ms\n",
      "533:\tlearn: 0.0655943\ttotal: 446ms\tremaining: 389ms\n",
      "534:\tlearn: 0.0652338\ttotal: 446ms\tremaining: 388ms\n",
      "535:\tlearn: 0.0649499\ttotal: 447ms\tremaining: 387ms\n",
      "536:\tlearn: 0.0646160\ttotal: 448ms\tremaining: 386ms\n",
      "537:\tlearn: 0.0643243\ttotal: 448ms\tremaining: 385ms\n",
      "538:\tlearn: 0.0641339\ttotal: 449ms\tremaining: 384ms\n",
      "539:\tlearn: 0.0638636\ttotal: 449ms\tremaining: 383ms\n",
      "540:\tlearn: 0.0636789\ttotal: 450ms\tremaining: 382ms\n",
      "541:\tlearn: 0.0634836\ttotal: 451ms\tremaining: 381ms\n",
      "542:\tlearn: 0.0632914\ttotal: 451ms\tremaining: 380ms\n",
      "543:\tlearn: 0.0629578\ttotal: 452ms\tremaining: 378ms\n",
      "544:\tlearn: 0.0626743\ttotal: 452ms\tremaining: 377ms\n",
      "545:\tlearn: 0.0624153\ttotal: 452ms\tremaining: 376ms\n",
      "546:\tlearn: 0.0622510\ttotal: 453ms\tremaining: 375ms\n",
      "547:\tlearn: 0.0621152\ttotal: 453ms\tremaining: 374ms\n",
      "548:\tlearn: 0.0618134\ttotal: 454ms\tremaining: 373ms\n",
      "549:\tlearn: 0.0614970\ttotal: 454ms\tremaining: 372ms\n",
      "550:\tlearn: 0.0611848\ttotal: 455ms\tremaining: 371ms\n",
      "551:\tlearn: 0.0608802\ttotal: 456ms\tremaining: 370ms\n"
     ]
    },
    {
     "name": "stdout",
     "output_type": "stream",
     "text": [
      "552:\tlearn: 0.0606675\ttotal: 463ms\tremaining: 374ms\n",
      "553:\tlearn: 0.0605066\ttotal: 464ms\tremaining: 373ms\n",
      "554:\tlearn: 0.0604159\ttotal: 465ms\tremaining: 373ms\n",
      "555:\tlearn: 0.0602580\ttotal: 469ms\tremaining: 375ms\n",
      "556:\tlearn: 0.0600522\ttotal: 471ms\tremaining: 374ms\n",
      "557:\tlearn: 0.0599888\ttotal: 472ms\tremaining: 374ms\n",
      "558:\tlearn: 0.0598437\ttotal: 473ms\tremaining: 373ms\n",
      "559:\tlearn: 0.0597815\ttotal: 475ms\tremaining: 373ms\n",
      "560:\tlearn: 0.0595812\ttotal: 476ms\tremaining: 373ms\n",
      "561:\tlearn: 0.0594408\ttotal: 477ms\tremaining: 372ms\n",
      "562:\tlearn: 0.0591461\ttotal: 478ms\tremaining: 371ms\n",
      "563:\tlearn: 0.0589510\ttotal: 479ms\tremaining: 370ms\n",
      "564:\tlearn: 0.0588414\ttotal: 480ms\tremaining: 369ms\n",
      "565:\tlearn: 0.0585573\ttotal: 480ms\tremaining: 368ms\n",
      "566:\tlearn: 0.0582861\ttotal: 481ms\tremaining: 367ms\n",
      "567:\tlearn: 0.0580405\ttotal: 482ms\tremaining: 367ms\n",
      "568:\tlearn: 0.0578140\ttotal: 483ms\tremaining: 366ms\n",
      "569:\tlearn: 0.0574860\ttotal: 484ms\tremaining: 365ms\n",
      "570:\tlearn: 0.0573421\ttotal: 484ms\tremaining: 364ms\n",
      "571:\tlearn: 0.0570580\ttotal: 485ms\tremaining: 363ms\n",
      "572:\tlearn: 0.0567409\ttotal: 486ms\tremaining: 362ms\n",
      "573:\tlearn: 0.0564329\ttotal: 486ms\tremaining: 361ms\n",
      "574:\tlearn: 0.0562912\ttotal: 487ms\tremaining: 360ms\n",
      "575:\tlearn: 0.0560294\ttotal: 487ms\tremaining: 359ms\n",
      "576:\tlearn: 0.0559001\ttotal: 488ms\tremaining: 358ms\n",
      "577:\tlearn: 0.0556439\ttotal: 488ms\tremaining: 356ms\n",
      "578:\tlearn: 0.0555177\ttotal: 489ms\tremaining: 355ms\n",
      "579:\tlearn: 0.0553946\ttotal: 489ms\tremaining: 354ms\n",
      "580:\tlearn: 0.0552828\ttotal: 492ms\tremaining: 355ms\n",
      "581:\tlearn: 0.0549284\ttotal: 493ms\tremaining: 354ms\n",
      "582:\tlearn: 0.0546792\ttotal: 493ms\tremaining: 353ms\n",
      "583:\tlearn: 0.0545597\ttotal: 494ms\tremaining: 352ms\n",
      "584:\tlearn: 0.0544520\ttotal: 495ms\tremaining: 351ms\n",
      "585:\tlearn: 0.0543544\ttotal: 496ms\tremaining: 350ms\n",
      "586:\tlearn: 0.0540110\ttotal: 496ms\tremaining: 349ms\n"
     ]
    },
    {
     "name": "stdout",
     "output_type": "stream",
     "text": [
      "587:\tlearn: 0.0537687\ttotal: 497ms\tremaining: 348ms\n",
      "588:\tlearn: 0.0536528\ttotal: 498ms\tremaining: 348ms\n",
      "589:\tlearn: 0.0534083\ttotal: 499ms\tremaining: 347ms\n",
      "590:\tlearn: 0.0531749\ttotal: 499ms\tremaining: 346ms\n",
      "591:\tlearn: 0.0530616\ttotal: 501ms\tremaining: 345ms\n",
      "592:\tlearn: 0.0529604\ttotal: 502ms\tremaining: 344ms\n",
      "593:\tlearn: 0.0527063\ttotal: 502ms\tremaining: 343ms\n",
      "594:\tlearn: 0.0524795\ttotal: 503ms\tremaining: 343ms\n",
      "595:\tlearn: 0.0522691\ttotal: 504ms\tremaining: 342ms\n",
      "596:\tlearn: 0.0521422\ttotal: 505ms\tremaining: 341ms\n",
      "597:\tlearn: 0.0519199\ttotal: 505ms\tremaining: 340ms\n",
      "598:\tlearn: 0.0518110\ttotal: 506ms\tremaining: 339ms\n",
      "599:\tlearn: 0.0517047\ttotal: 507ms\tremaining: 338ms\n",
      "600:\tlearn: 0.0514871\ttotal: 507ms\tremaining: 337ms\n",
      "601:\tlearn: 0.0513927\ttotal: 508ms\tremaining: 336ms\n",
      "602:\tlearn: 0.0511812\ttotal: 508ms\tremaining: 335ms\n",
      "603:\tlearn: 0.0509756\ttotal: 509ms\tremaining: 334ms\n",
      "604:\tlearn: 0.0507705\ttotal: 509ms\tremaining: 333ms\n",
      "605:\tlearn: 0.0506007\ttotal: 510ms\tremaining: 332ms\n",
      "606:\tlearn: 0.0504005\ttotal: 511ms\tremaining: 331ms\n",
      "607:\tlearn: 0.0502343\ttotal: 511ms\tremaining: 330ms\n",
      "608:\tlearn: 0.0501147\ttotal: 512ms\tremaining: 328ms\n",
      "609:\tlearn: 0.0499128\ttotal: 512ms\tremaining: 327ms\n",
      "610:\tlearn: 0.0497190\ttotal: 513ms\tremaining: 327ms\n",
      "611:\tlearn: 0.0495285\ttotal: 517ms\tremaining: 328ms\n",
      "612:\tlearn: 0.0493433\ttotal: 518ms\tremaining: 327ms\n",
      "613:\tlearn: 0.0491301\ttotal: 520ms\tremaining: 327ms\n",
      "614:\tlearn: 0.0489027\ttotal: 520ms\tremaining: 326ms\n",
      "615:\tlearn: 0.0487212\ttotal: 521ms\tremaining: 325ms\n",
      "616:\tlearn: 0.0485129\ttotal: 522ms\tremaining: 324ms\n",
      "617:\tlearn: 0.0483228\ttotal: 522ms\tremaining: 323ms\n",
      "618:\tlearn: 0.0481472\ttotal: 523ms\tremaining: 322ms\n",
      "619:\tlearn: 0.0479438\ttotal: 524ms\tremaining: 321ms\n",
      "620:\tlearn: 0.0477599\ttotal: 524ms\tremaining: 320ms\n",
      "621:\tlearn: 0.0475459\ttotal: 525ms\tremaining: 319ms\n",
      "622:\tlearn: 0.0473344\ttotal: 525ms\tremaining: 318ms\n",
      "623:\tlearn: 0.0471670\ttotal: 526ms\tremaining: 317ms\n",
      "624:\tlearn: 0.0469707\ttotal: 527ms\tremaining: 316ms\n",
      "625:\tlearn: 0.0467953\ttotal: 528ms\tremaining: 315ms\n",
      "626:\tlearn: 0.0465902\ttotal: 528ms\tremaining: 314ms\n",
      "627:\tlearn: 0.0464289\ttotal: 529ms\tremaining: 313ms\n",
      "628:\tlearn: 0.0462797\ttotal: 530ms\tremaining: 312ms\n",
      "629:\tlearn: 0.0461335\ttotal: 531ms\tremaining: 312ms\n",
      "630:\tlearn: 0.0458738\ttotal: 531ms\tremaining: 311ms\n",
      "631:\tlearn: 0.0457058\ttotal: 531ms\tremaining: 309ms\n",
      "632:\tlearn: 0.0454931\ttotal: 532ms\tremaining: 308ms\n",
      "633:\tlearn: 0.0453072\ttotal: 532ms\tremaining: 307ms\n",
      "634:\tlearn: 0.0450989\ttotal: 533ms\tremaining: 306ms\n",
      "635:\tlearn: 0.0448436\ttotal: 534ms\tremaining: 305ms\n",
      "636:\tlearn: 0.0446837\ttotal: 534ms\tremaining: 304ms\n",
      "637:\tlearn: 0.0444559\ttotal: 535ms\tremaining: 303ms\n",
      "638:\tlearn: 0.0443007\ttotal: 535ms\tremaining: 302ms\n",
      "639:\tlearn: 0.0441495\ttotal: 536ms\tremaining: 302ms\n",
      "640:\tlearn: 0.0440101\ttotal: 537ms\tremaining: 301ms\n",
      "641:\tlearn: 0.0438044\ttotal: 537ms\tremaining: 300ms\n",
      "642:\tlearn: 0.0436683\ttotal: 538ms\tremaining: 298ms\n",
      "643:\tlearn: 0.0434671\ttotal: 538ms\tremaining: 298ms\n",
      "644:\tlearn: 0.0432950\ttotal: 539ms\tremaining: 296ms\n",
      "645:\tlearn: 0.0431034\ttotal: 539ms\tremaining: 296ms\n",
      "646:\tlearn: 0.0429286\ttotal: 540ms\tremaining: 295ms\n",
      "647:\tlearn: 0.0427410\ttotal: 541ms\tremaining: 294ms\n",
      "648:\tlearn: 0.0425742\ttotal: 541ms\tremaining: 293ms\n",
      "649:\tlearn: 0.0424059\ttotal: 542ms\tremaining: 292ms\n",
      "650:\tlearn: 0.0422607\ttotal: 543ms\tremaining: 291ms\n",
      "651:\tlearn: 0.0420973\ttotal: 543ms\tremaining: 290ms\n",
      "652:\tlearn: 0.0419347\ttotal: 544ms\tremaining: 289ms\n",
      "653:\tlearn: 0.0417762\ttotal: 544ms\tremaining: 288ms\n",
      "654:\tlearn: 0.0416570\ttotal: 545ms\tremaining: 287ms\n",
      "655:\tlearn: 0.0415326\ttotal: 546ms\tremaining: 286ms\n",
      "656:\tlearn: 0.0413651\ttotal: 546ms\tremaining: 285ms\n",
      "657:\tlearn: 0.0412336\ttotal: 547ms\tremaining: 284ms\n",
      "658:\tlearn: 0.0411053\ttotal: 548ms\tremaining: 284ms\n",
      "659:\tlearn: 0.0409471\ttotal: 549ms\tremaining: 283ms\n",
      "660:\tlearn: 0.0407927\ttotal: 550ms\tremaining: 282ms\n",
      "661:\tlearn: 0.0407075\ttotal: 550ms\tremaining: 281ms\n",
      "662:\tlearn: 0.0405889\ttotal: 550ms\tremaining: 280ms\n",
      "663:\tlearn: 0.0404324\ttotal: 551ms\tremaining: 279ms\n",
      "664:\tlearn: 0.0402698\ttotal: 552ms\tremaining: 278ms\n",
      "665:\tlearn: 0.0401330\ttotal: 552ms\tremaining: 277ms\n",
      "666:\tlearn: 0.0399879\ttotal: 553ms\tremaining: 276ms\n",
      "667:\tlearn: 0.0398661\ttotal: 565ms\tremaining: 281ms\n",
      "668:\tlearn: 0.0397077\ttotal: 565ms\tremaining: 280ms\n",
      "669:\tlearn: 0.0395581\ttotal: 566ms\tremaining: 279ms\n",
      "670:\tlearn: 0.0394030\ttotal: 568ms\tremaining: 278ms\n",
      "671:\tlearn: 0.0392841\ttotal: 568ms\tremaining: 277ms\n",
      "672:\tlearn: 0.0391398\ttotal: 569ms\tremaining: 276ms\n",
      "673:\tlearn: 0.0389878\ttotal: 570ms\tremaining: 276ms\n",
      "674:\tlearn: 0.0388485\ttotal: 571ms\tremaining: 275ms\n",
      "675:\tlearn: 0.0386997\ttotal: 571ms\tremaining: 274ms\n",
      "676:\tlearn: 0.0385725\ttotal: 572ms\tremaining: 273ms\n",
      "677:\tlearn: 0.0384564\ttotal: 572ms\tremaining: 272ms\n",
      "678:\tlearn: 0.0383245\ttotal: 573ms\tremaining: 271ms\n",
      "679:\tlearn: 0.0382474\ttotal: 573ms\tremaining: 270ms\n",
      "680:\tlearn: 0.0381148\ttotal: 574ms\tremaining: 269ms\n",
      "681:\tlearn: 0.0379708\ttotal: 574ms\tremaining: 268ms\n",
      "682:\tlearn: 0.0378103\ttotal: 575ms\tremaining: 267ms\n",
      "683:\tlearn: 0.0376995\ttotal: 576ms\tremaining: 266ms\n",
      "684:\tlearn: 0.0375583\ttotal: 576ms\tremaining: 265ms\n",
      "685:\tlearn: 0.0374700\ttotal: 577ms\tremaining: 264ms\n",
      "686:\tlearn: 0.0374049\ttotal: 577ms\tremaining: 263ms\n",
      "687:\tlearn: 0.0372667\ttotal: 578ms\tremaining: 262ms\n",
      "688:\tlearn: 0.0371299\ttotal: 578ms\tremaining: 261ms\n",
      "689:\tlearn: 0.0369947\ttotal: 579ms\tremaining: 260ms\n",
      "690:\tlearn: 0.0369091\ttotal: 579ms\tremaining: 259ms\n",
      "691:\tlearn: 0.0367768\ttotal: 580ms\tremaining: 258ms\n",
      "692:\tlearn: 0.0366073\ttotal: 581ms\tremaining: 257ms\n",
      "693:\tlearn: 0.0364783\ttotal: 584ms\tremaining: 258ms\n",
      "694:\tlearn: 0.0363080\ttotal: 585ms\tremaining: 257ms\n",
      "695:\tlearn: 0.0361571\ttotal: 585ms\tremaining: 256ms\n",
      "696:\tlearn: 0.0360467\ttotal: 585ms\tremaining: 255ms\n",
      "697:\tlearn: 0.0358829\ttotal: 586ms\tremaining: 254ms\n",
      "698:\tlearn: 0.0356812\ttotal: 588ms\tremaining: 253ms\n",
      "699:\tlearn: 0.0355736\ttotal: 589ms\tremaining: 252ms\n",
      "700:\tlearn: 0.0354293\ttotal: 589ms\tremaining: 251ms\n",
      "701:\tlearn: 0.0352770\ttotal: 590ms\tremaining: 251ms\n",
      "702:\tlearn: 0.0351679\ttotal: 591ms\tremaining: 250ms\n",
      "703:\tlearn: 0.0350735\ttotal: 591ms\tremaining: 249ms\n",
      "704:\tlearn: 0.0349871\ttotal: 592ms\tremaining: 248ms\n",
      "705:\tlearn: 0.0348373\ttotal: 592ms\tremaining: 247ms\n",
      "706:\tlearn: 0.0347078\ttotal: 593ms\tremaining: 246ms\n",
      "707:\tlearn: 0.0346165\ttotal: 594ms\tremaining: 245ms\n",
      "708:\tlearn: 0.0345152\ttotal: 594ms\tremaining: 244ms\n",
      "709:\tlearn: 0.0344481\ttotal: 596ms\tremaining: 243ms\n",
      "710:\tlearn: 0.0343170\ttotal: 597ms\tremaining: 242ms\n",
      "711:\tlearn: 0.0341703\ttotal: 597ms\tremaining: 242ms\n",
      "712:\tlearn: 0.0340870\ttotal: 598ms\tremaining: 241ms\n",
      "713:\tlearn: 0.0339890\ttotal: 598ms\tremaining: 240ms\n",
      "714:\tlearn: 0.0339022\ttotal: 599ms\tremaining: 239ms\n",
      "715:\tlearn: 0.0337960\ttotal: 600ms\tremaining: 238ms\n",
      "716:\tlearn: 0.0336935\ttotal: 600ms\tremaining: 237ms\n",
      "717:\tlearn: 0.0336084\ttotal: 601ms\tremaining: 236ms\n",
      "718:\tlearn: 0.0335285\ttotal: 601ms\tremaining: 235ms\n",
      "719:\tlearn: 0.0334783\ttotal: 602ms\tremaining: 234ms\n",
      "720:\tlearn: 0.0333560\ttotal: 602ms\tremaining: 233ms\n",
      "721:\tlearn: 0.0333106\ttotal: 603ms\tremaining: 232ms\n",
      "722:\tlearn: 0.0332325\ttotal: 603ms\tremaining: 231ms\n",
      "723:\tlearn: 0.0331608\ttotal: 604ms\tremaining: 230ms\n",
      "724:\tlearn: 0.0331118\ttotal: 605ms\tremaining: 229ms\n",
      "725:\tlearn: 0.0330669\ttotal: 605ms\tremaining: 228ms\n",
      "726:\tlearn: 0.0329919\ttotal: 606ms\tremaining: 227ms\n",
      "727:\tlearn: 0.0329518\ttotal: 606ms\tremaining: 226ms\n",
      "728:\tlearn: 0.0329037\ttotal: 607ms\tremaining: 226ms\n",
      "729:\tlearn: 0.0328527\ttotal: 607ms\tremaining: 225ms\n",
      "730:\tlearn: 0.0328085\ttotal: 608ms\tremaining: 224ms\n",
      "731:\tlearn: 0.0327473\ttotal: 608ms\tremaining: 223ms\n",
      "732:\tlearn: 0.0326016\ttotal: 609ms\tremaining: 222ms\n",
      "733:\tlearn: 0.0325629\ttotal: 609ms\tremaining: 221ms\n",
      "734:\tlearn: 0.0324946\ttotal: 610ms\tremaining: 220ms\n",
      "735:\tlearn: 0.0323841\ttotal: 610ms\tremaining: 219ms\n",
      "736:\tlearn: 0.0323137\ttotal: 611ms\tremaining: 218ms\n",
      "737:\tlearn: 0.0322704\ttotal: 611ms\tremaining: 217ms\n",
      "738:\tlearn: 0.0322017\ttotal: 612ms\tremaining: 216ms\n",
      "739:\tlearn: 0.0321647\ttotal: 612ms\tremaining: 215ms\n",
      "740:\tlearn: 0.0321166\ttotal: 613ms\tremaining: 214ms\n",
      "741:\tlearn: 0.0320801\ttotal: 614ms\tremaining: 214ms\n",
      "742:\tlearn: 0.0319733\ttotal: 615ms\tremaining: 213ms\n",
      "743:\tlearn: 0.0319188\ttotal: 615ms\tremaining: 212ms\n",
      "744:\tlearn: 0.0317769\ttotal: 616ms\tremaining: 211ms\n",
      "745:\tlearn: 0.0317288\ttotal: 617ms\tremaining: 210ms\n"
     ]
    },
    {
     "name": "stdout",
     "output_type": "stream",
     "text": [
      "746:\tlearn: 0.0316838\ttotal: 617ms\tremaining: 209ms\n",
      "747:\tlearn: 0.0315451\ttotal: 619ms\tremaining: 208ms\n",
      "748:\tlearn: 0.0314969\ttotal: 619ms\tremaining: 208ms\n",
      "749:\tlearn: 0.0314269\ttotal: 622ms\tremaining: 207ms\n",
      "750:\tlearn: 0.0313804\ttotal: 622ms\tremaining: 206ms\n",
      "751:\tlearn: 0.0313185\ttotal: 623ms\tremaining: 205ms\n",
      "752:\tlearn: 0.0312555\ttotal: 623ms\tremaining: 204ms\n",
      "753:\tlearn: 0.0312108\ttotal: 625ms\tremaining: 204ms\n",
      "754:\tlearn: 0.0311289\ttotal: 625ms\tremaining: 203ms\n",
      "755:\tlearn: 0.0310668\ttotal: 626ms\tremaining: 202ms\n",
      "756:\tlearn: 0.0309866\ttotal: 626ms\tremaining: 201ms\n",
      "757:\tlearn: 0.0309080\ttotal: 627ms\tremaining: 200ms\n",
      "758:\tlearn: 0.0307759\ttotal: 628ms\tremaining: 199ms\n",
      "759:\tlearn: 0.0307241\ttotal: 629ms\tremaining: 199ms\n",
      "760:\tlearn: 0.0306733\ttotal: 629ms\tremaining: 198ms\n",
      "761:\tlearn: 0.0305962\ttotal: 630ms\tremaining: 197ms\n",
      "762:\tlearn: 0.0305290\ttotal: 630ms\tremaining: 196ms\n",
      "763:\tlearn: 0.0304262\ttotal: 631ms\tremaining: 195ms\n",
      "764:\tlearn: 0.0303098\ttotal: 631ms\tremaining: 194ms\n",
      "765:\tlearn: 0.0302211\ttotal: 632ms\tremaining: 193ms\n",
      "766:\tlearn: 0.0301213\ttotal: 632ms\tremaining: 192ms\n",
      "767:\tlearn: 0.0300616\ttotal: 633ms\tremaining: 191ms\n",
      "768:\tlearn: 0.0300028\ttotal: 635ms\tremaining: 191ms\n",
      "769:\tlearn: 0.0299059\ttotal: 635ms\tremaining: 190ms\n",
      "770:\tlearn: 0.0298439\ttotal: 636ms\tremaining: 189ms\n",
      "771:\tlearn: 0.0298057\ttotal: 636ms\tremaining: 188ms\n",
      "772:\tlearn: 0.0297448\ttotal: 637ms\tremaining: 187ms\n",
      "773:\tlearn: 0.0296510\ttotal: 637ms\tremaining: 186ms\n",
      "774:\tlearn: 0.0295915\ttotal: 638ms\tremaining: 185ms\n",
      "775:\tlearn: 0.0295540\ttotal: 638ms\tremaining: 184ms\n",
      "776:\tlearn: 0.0294627\ttotal: 639ms\tremaining: 183ms\n",
      "777:\tlearn: 0.0294047\ttotal: 639ms\tremaining: 182ms\n",
      "778:\tlearn: 0.0293477\ttotal: 640ms\tremaining: 182ms\n",
      "779:\tlearn: 0.0291769\ttotal: 640ms\tremaining: 181ms\n",
      "780:\tlearn: 0.0291404\ttotal: 641ms\tremaining: 180ms\n",
      "781:\tlearn: 0.0289721\ttotal: 641ms\tremaining: 179ms\n",
      "782:\tlearn: 0.0288618\ttotal: 642ms\tremaining: 178ms\n",
      "783:\tlearn: 0.0287537\ttotal: 642ms\tremaining: 177ms\n",
      "784:\tlearn: 0.0286803\ttotal: 643ms\tremaining: 176ms\n",
      "785:\tlearn: 0.0286020\ttotal: 643ms\tremaining: 175ms\n",
      "786:\tlearn: 0.0285299\ttotal: 644ms\tremaining: 174ms\n",
      "787:\tlearn: 0.0283672\ttotal: 645ms\tremaining: 173ms\n",
      "788:\tlearn: 0.0282392\ttotal: 645ms\tremaining: 173ms\n",
      "789:\tlearn: 0.0281800\ttotal: 646ms\tremaining: 172ms\n",
      "790:\tlearn: 0.0280548\ttotal: 646ms\tremaining: 171ms\n",
      "791:\tlearn: 0.0279321\ttotal: 649ms\tremaining: 170ms\n",
      "792:\tlearn: 0.0278666\ttotal: 650ms\tremaining: 170ms\n",
      "793:\tlearn: 0.0278316\ttotal: 650ms\tremaining: 169ms\n",
      "794:\tlearn: 0.0277744\ttotal: 650ms\tremaining: 168ms\n",
      "795:\tlearn: 0.0277399\ttotal: 651ms\tremaining: 167ms\n",
      "796:\tlearn: 0.0277060\ttotal: 652ms\tremaining: 166ms\n",
      "797:\tlearn: 0.0276714\ttotal: 653ms\tremaining: 165ms\n",
      "798:\tlearn: 0.0275167\ttotal: 653ms\tremaining: 164ms\n"
     ]
    },
    {
     "name": "stdout",
     "output_type": "stream",
     "text": [
      "799:\tlearn: 0.0274826\ttotal: 655ms\tremaining: 164ms\n",
      "800:\tlearn: 0.0274563\ttotal: 656ms\tremaining: 163ms\n",
      "801:\tlearn: 0.0274226\ttotal: 656ms\tremaining: 162ms\n",
      "802:\tlearn: 0.0273961\ttotal: 657ms\tremaining: 161ms\n",
      "803:\tlearn: 0.0273401\ttotal: 658ms\tremaining: 160ms\n",
      "804:\tlearn: 0.0272240\ttotal: 658ms\tremaining: 159ms\n",
      "805:\tlearn: 0.0271551\ttotal: 659ms\tremaining: 159ms\n",
      "806:\tlearn: 0.0270875\ttotal: 660ms\tremaining: 158ms\n",
      "807:\tlearn: 0.0270546\ttotal: 661ms\tremaining: 157ms\n",
      "808:\tlearn: 0.0269333\ttotal: 661ms\tremaining: 156ms\n",
      "809:\tlearn: 0.0268189\ttotal: 662ms\tremaining: 155ms\n",
      "810:\tlearn: 0.0267243\ttotal: 662ms\tremaining: 154ms\n",
      "811:\tlearn: 0.0266324\ttotal: 663ms\tremaining: 153ms\n",
      "812:\tlearn: 0.0265431\ttotal: 664ms\tremaining: 153ms\n",
      "813:\tlearn: 0.0265182\ttotal: 664ms\tremaining: 152ms\n",
      "814:\tlearn: 0.0264315\ttotal: 665ms\tremaining: 151ms\n",
      "815:\tlearn: 0.0263991\ttotal: 666ms\tremaining: 150ms\n",
      "816:\tlearn: 0.0263286\ttotal: 666ms\tremaining: 149ms\n",
      "817:\tlearn: 0.0263039\ttotal: 666ms\tremaining: 148ms\n",
      "818:\tlearn: 0.0262796\ttotal: 667ms\tremaining: 147ms\n",
      "819:\tlearn: 0.0262549\ttotal: 667ms\tremaining: 146ms\n",
      "820:\tlearn: 0.0262309\ttotal: 668ms\tremaining: 146ms\n",
      "821:\tlearn: 0.0261465\ttotal: 668ms\tremaining: 145ms\n",
      "822:\tlearn: 0.0261209\ttotal: 669ms\tremaining: 144ms\n",
      "823:\tlearn: 0.0260961\ttotal: 669ms\tremaining: 143ms\n",
      "824:\tlearn: 0.0260643\ttotal: 670ms\tremaining: 142ms\n",
      "825:\tlearn: 0.0260398\ttotal: 671ms\tremaining: 141ms\n",
      "826:\tlearn: 0.0260084\ttotal: 671ms\tremaining: 140ms\n",
      "827:\tlearn: 0.0259845\ttotal: 672ms\tremaining: 140ms\n",
      "828:\tlearn: 0.0259535\ttotal: 673ms\tremaining: 139ms\n",
      "829:\tlearn: 0.0258715\ttotal: 673ms\tremaining: 138ms\n",
      "830:\tlearn: 0.0258305\ttotal: 674ms\tremaining: 137ms\n",
      "831:\tlearn: 0.0258065\ttotal: 674ms\tremaining: 136ms\n",
      "832:\tlearn: 0.0257759\ttotal: 675ms\tremaining: 135ms\n",
      "833:\tlearn: 0.0257355\ttotal: 675ms\tremaining: 134ms\n",
      "834:\tlearn: 0.0257122\ttotal: 676ms\tremaining: 133ms\n",
      "835:\tlearn: 0.0256724\ttotal: 676ms\tremaining: 133ms\n",
      "836:\tlearn: 0.0256333\ttotal: 677ms\tremaining: 132ms\n",
      "837:\tlearn: 0.0255542\ttotal: 677ms\tremaining: 131ms\n",
      "838:\tlearn: 0.0255241\ttotal: 678ms\tremaining: 130ms\n",
      "839:\tlearn: 0.0255070\ttotal: 679ms\tremaining: 129ms\n",
      "840:\tlearn: 0.0254689\ttotal: 679ms\tremaining: 128ms\n",
      "841:\tlearn: 0.0254168\ttotal: 680ms\tremaining: 128ms\n",
      "842:\tlearn: 0.0253933\ttotal: 681ms\tremaining: 127ms\n",
      "843:\tlearn: 0.0253709\ttotal: 681ms\tremaining: 126ms\n",
      "844:\tlearn: 0.0253414\ttotal: 682ms\tremaining: 125ms\n",
      "845:\tlearn: 0.0252334\ttotal: 682ms\tremaining: 124ms\n",
      "846:\tlearn: 0.0251535\ttotal: 685ms\tremaining: 124ms\n",
      "847:\tlearn: 0.0251371\ttotal: 686ms\tremaining: 123ms\n",
      "848:\tlearn: 0.0251208\ttotal: 687ms\tremaining: 122ms\n",
      "849:\tlearn: 0.0250917\ttotal: 688ms\tremaining: 121ms\n",
      "850:\tlearn: 0.0250756\ttotal: 689ms\tremaining: 121ms\n",
      "851:\tlearn: 0.0249985\ttotal: 690ms\tremaining: 120ms\n",
      "852:\tlearn: 0.0249829\ttotal: 690ms\tremaining: 119ms\n",
      "853:\tlearn: 0.0249674\ttotal: 691ms\tremaining: 118ms\n",
      "854:\tlearn: 0.0249522\ttotal: 691ms\tremaining: 117ms\n",
      "855:\tlearn: 0.0249233\ttotal: 692ms\tremaining: 116ms\n",
      "856:\tlearn: 0.0248733\ttotal: 692ms\tremaining: 115ms\n",
      "857:\tlearn: 0.0247594\ttotal: 693ms\tremaining: 115ms\n",
      "858:\tlearn: 0.0246560\ttotal: 693ms\tremaining: 114ms\n",
      "859:\tlearn: 0.0246411\ttotal: 693ms\tremaining: 113ms\n",
      "860:\tlearn: 0.0245400\ttotal: 694ms\tremaining: 112ms\n",
      "861:\tlearn: 0.0244342\ttotal: 694ms\tremaining: 111ms\n",
      "862:\tlearn: 0.0244197\ttotal: 695ms\tremaining: 110ms\n",
      "863:\tlearn: 0.0244053\ttotal: 696ms\tremaining: 109ms\n",
      "864:\tlearn: 0.0242717\ttotal: 697ms\tremaining: 109ms\n",
      "865:\tlearn: 0.0242575\ttotal: 697ms\tremaining: 108ms\n",
      "866:\tlearn: 0.0242436\ttotal: 698ms\tremaining: 107ms\n",
      "867:\tlearn: 0.0242298\ttotal: 699ms\tremaining: 106ms\n",
      "868:\tlearn: 0.0242162\ttotal: 699ms\tremaining: 105ms\n",
      "869:\tlearn: 0.0242027\ttotal: 700ms\tremaining: 105ms\n",
      "870:\tlearn: 0.0241895\ttotal: 700ms\tremaining: 104ms\n",
      "871:\tlearn: 0.0241314\ttotal: 701ms\tremaining: 103ms\n",
      "872:\tlearn: 0.0240753\ttotal: 701ms\tremaining: 102ms\n",
      "873:\tlearn: 0.0240208\ttotal: 702ms\tremaining: 101ms\n",
      "874:\tlearn: 0.0239225\ttotal: 703ms\tremaining: 100ms\n",
      "875:\tlearn: 0.0238474\ttotal: 703ms\tremaining: 99.5ms\n",
      "876:\tlearn: 0.0238036\ttotal: 703ms\tremaining: 98.7ms\n",
      "877:\tlearn: 0.0237300\ttotal: 704ms\tremaining: 97.8ms\n",
      "878:\tlearn: 0.0236869\ttotal: 705ms\tremaining: 97ms\n",
      "879:\tlearn: 0.0236445\ttotal: 705ms\tremaining: 96.2ms\n",
      "880:\tlearn: 0.0235722\ttotal: 706ms\tremaining: 95.4ms\n",
      "881:\tlearn: 0.0235304\ttotal: 706ms\tremaining: 94.5ms\n",
      "882:\tlearn: 0.0234595\ttotal: 707ms\tremaining: 93.7ms\n",
      "883:\tlearn: 0.0234183\ttotal: 708ms\tremaining: 92.8ms\n",
      "884:\tlearn: 0.0233966\ttotal: 708ms\tremaining: 92ms\n",
      "885:\tlearn: 0.0233562\ttotal: 709ms\tremaining: 91.2ms\n",
      "886:\tlearn: 0.0233348\ttotal: 709ms\tremaining: 90.3ms\n",
      "887:\tlearn: 0.0233079\ttotal: 710ms\tremaining: 89.5ms\n",
      "888:\tlearn: 0.0232867\ttotal: 710ms\tremaining: 88.7ms\n",
      "889:\tlearn: 0.0232470\ttotal: 712ms\tremaining: 88ms\n",
      "890:\tlearn: 0.0232261\ttotal: 713ms\tremaining: 87.2ms\n",
      "891:\tlearn: 0.0231996\ttotal: 713ms\tremaining: 86.3ms\n",
      "892:\tlearn: 0.0231790\ttotal: 714ms\tremaining: 85.5ms\n",
      "893:\tlearn: 0.0230666\ttotal: 714ms\tremaining: 84.7ms\n",
      "894:\tlearn: 0.0230406\ttotal: 715ms\tremaining: 83.9ms\n",
      "895:\tlearn: 0.0229306\ttotal: 716ms\tremaining: 83.1ms\n",
      "896:\tlearn: 0.0229050\ttotal: 716ms\tremaining: 82.2ms\n",
      "897:\tlearn: 0.0228663\ttotal: 717ms\tremaining: 81.4ms\n",
      "898:\tlearn: 0.0228242\ttotal: 717ms\tremaining: 80.6ms\n",
      "899:\tlearn: 0.0227294\ttotal: 718ms\tremaining: 79.8ms\n",
      "900:\tlearn: 0.0227045\ttotal: 718ms\tremaining: 78.9ms\n",
      "901:\tlearn: 0.0226632\ttotal: 719ms\tremaining: 78.1ms\n",
      "902:\tlearn: 0.0225705\ttotal: 720ms\tremaining: 77.4ms\n",
      "903:\tlearn: 0.0225580\ttotal: 721ms\tremaining: 76.6ms\n",
      "904:\tlearn: 0.0224896\ttotal: 722ms\tremaining: 75.8ms\n",
      "905:\tlearn: 0.0223840\ttotal: 722ms\tremaining: 75ms\n",
      "906:\tlearn: 0.0223718\ttotal: 723ms\tremaining: 74.1ms\n",
      "907:\tlearn: 0.0223474\ttotal: 723ms\tremaining: 73.3ms\n",
      "908:\tlearn: 0.0223074\ttotal: 724ms\tremaining: 72.5ms\n",
      "909:\tlearn: 0.0222174\ttotal: 725ms\tremaining: 71.7ms\n",
      "910:\tlearn: 0.0222054\ttotal: 725ms\tremaining: 70.8ms\n",
      "911:\tlearn: 0.0221935\ttotal: 726ms\tremaining: 70ms\n",
      "912:\tlearn: 0.0221307\ttotal: 726ms\tremaining: 69.2ms\n",
      "913:\tlearn: 0.0220914\ttotal: 727ms\tremaining: 68.4ms\n",
      "914:\tlearn: 0.0220540\ttotal: 727ms\tremaining: 67.6ms\n",
      "915:\tlearn: 0.0220155\ttotal: 728ms\tremaining: 66.7ms\n",
      "916:\tlearn: 0.0219718\ttotal: 729ms\tremaining: 66ms\n",
      "917:\tlearn: 0.0219601\ttotal: 729ms\tremaining: 65.1ms\n",
      "918:\tlearn: 0.0218485\ttotal: 730ms\tremaining: 64.3ms\n",
      "919:\tlearn: 0.0218252\ttotal: 730ms\tremaining: 63.5ms\n",
      "920:\tlearn: 0.0218137\ttotal: 731ms\tremaining: 62.7ms\n",
      "921:\tlearn: 0.0217268\ttotal: 731ms\tremaining: 61.9ms\n",
      "922:\tlearn: 0.0217156\ttotal: 732ms\tremaining: 61ms\n",
      "923:\tlearn: 0.0216730\ttotal: 732ms\tremaining: 60.2ms\n",
      "924:\tlearn: 0.0216016\ttotal: 733ms\tremaining: 59.5ms\n",
      "925:\tlearn: 0.0215316\ttotal: 734ms\tremaining: 58.6ms\n",
      "926:\tlearn: 0.0214449\ttotal: 736ms\tremaining: 58ms\n",
      "927:\tlearn: 0.0214225\ttotal: 737ms\tremaining: 57.2ms\n",
      "928:\tlearn: 0.0214115\ttotal: 738ms\tremaining: 56.4ms\n",
      "929:\tlearn: 0.0213894\ttotal: 738ms\tremaining: 55.6ms\n",
      "930:\tlearn: 0.0213785\ttotal: 739ms\tremaining: 54.7ms\n",
      "931:\tlearn: 0.0213134\ttotal: 739ms\tremaining: 53.9ms\n",
      "932:\tlearn: 0.0212948\ttotal: 741ms\tremaining: 53.2ms\n",
      "933:\tlearn: 0.0212841\ttotal: 741ms\tremaining: 52.4ms\n",
      "934:\tlearn: 0.0212001\ttotal: 742ms\tremaining: 51.6ms\n",
      "935:\tlearn: 0.0211409\ttotal: 743ms\tremaining: 50.8ms\n",
      "936:\tlearn: 0.0210963\ttotal: 744ms\tremaining: 50ms\n",
      "937:\tlearn: 0.0210747\ttotal: 745ms\tremaining: 49.2ms\n",
      "938:\tlearn: 0.0210312\ttotal: 746ms\tremaining: 48.5ms\n",
      "939:\tlearn: 0.0209678\ttotal: 748ms\tremaining: 47.7ms\n",
      "940:\tlearn: 0.0209465\ttotal: 748ms\tremaining: 46.9ms\n",
      "941:\tlearn: 0.0209042\ttotal: 752ms\tremaining: 46.3ms\n",
      "942:\tlearn: 0.0208471\ttotal: 753ms\tremaining: 45.5ms\n",
      "943:\tlearn: 0.0207906\ttotal: 754ms\tremaining: 44.7ms\n",
      "944:\tlearn: 0.0207351\ttotal: 754ms\tremaining: 43.9ms\n",
      "945:\tlearn: 0.0206941\ttotal: 755ms\tremaining: 43.1ms\n",
      "946:\tlearn: 0.0206730\ttotal: 756ms\tremaining: 42.3ms\n",
      "947:\tlearn: 0.0206185\ttotal: 756ms\tremaining: 41.5ms\n",
      "948:\tlearn: 0.0205692\ttotal: 757ms\tremaining: 40.7ms\n",
      "949:\tlearn: 0.0205295\ttotal: 757ms\tremaining: 39.9ms\n",
      "950:\tlearn: 0.0204762\ttotal: 758ms\tremaining: 39ms\n",
      "951:\tlearn: 0.0204528\ttotal: 758ms\tremaining: 38.2ms\n",
      "952:\tlearn: 0.0204002\ttotal: 759ms\tremaining: 37.4ms\n",
      "953:\tlearn: 0.0203532\ttotal: 759ms\tremaining: 36.6ms\n",
      "954:\tlearn: 0.0203300\ttotal: 760ms\tremaining: 35.8ms\n",
      "955:\tlearn: 0.0203072\ttotal: 761ms\tremaining: 35ms\n",
      "956:\tlearn: 0.0202846\ttotal: 762ms\tremaining: 34.2ms\n",
      "957:\tlearn: 0.0202624\ttotal: 762ms\tremaining: 33.4ms\n",
      "958:\tlearn: 0.0202405\ttotal: 763ms\tremaining: 32.6ms\n",
      "959:\tlearn: 0.0201945\ttotal: 763ms\tremaining: 31.8ms\n",
      "960:\tlearn: 0.0201729\ttotal: 764ms\tremaining: 31ms\n",
      "961:\tlearn: 0.0201515\ttotal: 764ms\tremaining: 30.2ms\n",
      "962:\tlearn: 0.0201305\ttotal: 765ms\tremaining: 29.4ms\n",
      "963:\tlearn: 0.0201097\ttotal: 765ms\tremaining: 28.6ms\n",
      "964:\tlearn: 0.0200892\ttotal: 766ms\tremaining: 27.8ms\n",
      "965:\tlearn: 0.0200443\ttotal: 766ms\tremaining: 27ms\n",
      "966:\tlearn: 0.0200241\ttotal: 767ms\tremaining: 26.2ms\n",
      "967:\tlearn: 0.0200041\ttotal: 767ms\tremaining: 25.4ms\n",
      "968:\tlearn: 0.0199845\ttotal: 768ms\tremaining: 24.6ms\n",
      "969:\tlearn: 0.0199658\ttotal: 768ms\tremaining: 23.8ms\n",
      "970:\tlearn: 0.0199466\ttotal: 769ms\tremaining: 23ms\n",
      "971:\tlearn: 0.0199024\ttotal: 769ms\tremaining: 22.2ms\n",
      "972:\tlearn: 0.0198836\ttotal: 770ms\tremaining: 21.4ms\n",
      "973:\tlearn: 0.0198166\ttotal: 770ms\tremaining: 20.6ms\n"
     ]
    },
    {
     "name": "stdout",
     "output_type": "stream",
     "text": [
      "974:\tlearn: 0.0197653\ttotal: 771ms\tremaining: 19.8ms\n",
      "975:\tlearn: 0.0197474\ttotal: 772ms\tremaining: 19ms\n",
      "976:\tlearn: 0.0196974\ttotal: 777ms\tremaining: 18.3ms\n",
      "977:\tlearn: 0.0196476\ttotal: 777ms\tremaining: 17.5ms\n",
      "978:\tlearn: 0.0195990\ttotal: 778ms\tremaining: 16.7ms\n",
      "979:\tlearn: 0.0195585\ttotal: 778ms\tremaining: 15.9ms\n",
      "980:\tlearn: 0.0195408\ttotal: 780ms\tremaining: 15.1ms\n",
      "981:\tlearn: 0.0195026\ttotal: 780ms\tremaining: 14.3ms\n",
      "982:\tlearn: 0.0194852\ttotal: 781ms\tremaining: 13.5ms\n",
      "983:\tlearn: 0.0194436\ttotal: 782ms\tremaining: 12.7ms\n",
      "984:\tlearn: 0.0193817\ttotal: 783ms\tremaining: 11.9ms\n",
      "985:\tlearn: 0.0192996\ttotal: 783ms\tremaining: 11.1ms\n",
      "986:\tlearn: 0.0192372\ttotal: 784ms\tremaining: 10.3ms\n",
      "987:\tlearn: 0.0191610\ttotal: 784ms\tremaining: 9.52ms\n",
      "988:\tlearn: 0.0190865\ttotal: 785ms\tremaining: 8.72ms\n",
      "989:\tlearn: 0.0190129\ttotal: 785ms\tremaining: 7.93ms\n",
      "990:\tlearn: 0.0189419\ttotal: 787ms\tremaining: 7.15ms\n",
      "991:\tlearn: 0.0188941\ttotal: 787ms\tremaining: 6.35ms\n",
      "992:\tlearn: 0.0188239\ttotal: 788ms\tremaining: 5.55ms\n",
      "993:\tlearn: 0.0187553\ttotal: 789ms\tremaining: 4.76ms\n",
      "994:\tlearn: 0.0187088\ttotal: 789ms\tremaining: 3.96ms\n",
      "995:\tlearn: 0.0186425\ttotal: 789ms\tremaining: 3.17ms\n",
      "996:\tlearn: 0.0185771\ttotal: 790ms\tremaining: 2.38ms\n",
      "997:\tlearn: 0.0185132\ttotal: 791ms\tremaining: 1.58ms\n",
      "998:\tlearn: 0.0184810\ttotal: 791ms\tremaining: 791us\n",
      "999:\tlearn: 0.0184497\ttotal: 792ms\tremaining: 0us\n",
      "Mean Absolute error 0.5343990631171727\n"
     ]
    },
    {
     "data": {
      "application/scrapbook.scrap.json+json": {
       "data": 0.5343990631171727,
       "encoder": "json",
       "name": "Catboost MAE",
       "version": 1
      }
     },
     "metadata": {
      "scrapbook": {
       "data": true,
       "display": false,
       "name": "Catboost MAE"
      }
     },
     "output_type": "display_data"
    }
   ],
   "source": [
    "mae_cb = baselineModels.catboost(X_train,y_train,X_test,y_test)\n",
    "#Store MSE Value\n",
    "sb.glue(\"Catboost MAE\",mae_cb)"
   ]
  },
  {
   "cell_type": "markdown",
   "id": "a0c33aa2",
   "metadata": {
    "papermill": {
     "duration": 0.036448,
     "end_time": "2022-06-22T10:51:49.083338",
     "exception": false,
     "start_time": "2022-06-22T10:51:49.046890",
     "status": "completed"
    },
    "tags": []
   },
   "source": [
    "# TabNet regressor"
   ]
  },
  {
   "cell_type": "code",
   "execution_count": 7,
   "id": "8e884df8",
   "metadata": {
    "execution": {
     "iopub.execute_input": "2022-06-22T10:51:49.163952Z",
     "iopub.status.busy": "2022-06-22T10:51:49.163118Z",
     "iopub.status.idle": "2022-06-22T10:51:49.165310Z",
     "shell.execute_reply": "2022-06-22T10:51:49.166193Z"
    },
    "papermill": {
     "duration": 0.036535,
     "end_time": "2022-06-22T10:51:49.167108",
     "exception": false,
     "start_time": "2022-06-22T10:51:49.130573",
     "status": "completed"
    },
    "tags": []
   },
   "outputs": [],
   "source": [
    "n_epochs = 1000\n",
    "batch_size = 32"
   ]
  },
  {
   "cell_type": "code",
   "execution_count": 8,
   "id": "45cf7617",
   "metadata": {
    "execution": {
     "iopub.execute_input": "2022-06-22T10:51:49.229628Z",
     "iopub.status.busy": "2022-06-22T10:51:49.227945Z",
     "iopub.status.idle": "2022-06-22T10:52:12.268056Z",
     "shell.execute_reply": "2022-06-22T10:52:12.269643Z"
    },
    "papermill": {
     "duration": 23.080394,
     "end_time": "2022-06-22T10:52:12.270016",
     "exception": false,
     "start_time": "2022-06-22T10:51:49.189622",
     "status": "completed"
    },
    "tags": []
   },
   "outputs": [
    {
     "name": "stdout",
     "output_type": "stream",
     "text": [
      "(80,)\n",
      "Device used : cpu\n"
     ]
    },
    {
     "name": "stdout",
     "output_type": "stream",
     "text": [
      "epoch 0  | loss: 0.94866 | train_mse: 6.20397 | train_mae: 1.82653 |  0:00:01s\n",
      "epoch 1  | loss: 0.92132 | train_mse: 3.57479 | train_mae: 1.35445 |  0:00:01s\n"
     ]
    },
    {
     "name": "stdout",
     "output_type": "stream",
     "text": [
      "epoch 2  | loss: 0.82384 | train_mse: 2.74562 | train_mae: 1.06765 |  0:00:01s\n",
      "epoch 3  | loss: 0.664   | train_mse: 1.25827 | train_mae: 0.80999 |  0:00:01s\n"
     ]
    },
    {
     "name": "stdout",
     "output_type": "stream",
     "text": [
      "epoch 4  | loss: 0.66921 | train_mse: 0.87583 | train_mae: 0.72109 |  0:00:01s\n",
      "epoch 5  | loss: 0.58313 | train_mse: 0.68609 | train_mae: 0.64724 |  0:00:01s\n"
     ]
    },
    {
     "name": "stdout",
     "output_type": "stream",
     "text": [
      "epoch 6  | loss: 0.55104 | train_mse: 0.66556 | train_mae: 0.64328 |  0:00:01s\n",
      "epoch 7  | loss: 0.57528 | train_mse: 0.89274 | train_mae: 0.70206 |  0:00:02s\n",
      "epoch 8  | loss: 0.55297 | train_mse: 0.70737 | train_mae: 0.63833 |  0:00:02s\n"
     ]
    },
    {
     "name": "stdout",
     "output_type": "stream",
     "text": [
      "epoch 9  | loss: 0.44462 | train_mse: 0.59847 | train_mae: 0.58874 |  0:00:02s\n",
      "epoch 10 | loss: 0.4929  | train_mse: 0.5919  | train_mae: 0.58547 |  0:00:02s\n"
     ]
    },
    {
     "name": "stdout",
     "output_type": "stream",
     "text": [
      "epoch 11 | loss: 0.49955 | train_mse: 0.76655 | train_mae: 0.65821 |  0:00:02s\n",
      "epoch 12 | loss: 0.431   | train_mse: 0.62587 | train_mae: 0.59702 |  0:00:02s\n",
      "epoch 13 | loss: 0.49195 | train_mse: 0.51816 | train_mae: 0.54211 |  0:00:02s\n"
     ]
    },
    {
     "name": "stdout",
     "output_type": "stream",
     "text": [
      "epoch 14 | loss: 0.49366 | train_mse: 0.57215 | train_mae: 0.57472 |  0:00:02s\n",
      "epoch 15 | loss: 0.36462 | train_mse: 0.51413 | train_mae: 0.5313  |  0:00:02s\n"
     ]
    },
    {
     "name": "stdout",
     "output_type": "stream",
     "text": [
      "epoch 16 | loss: 0.57264 | train_mse: 0.5117  | train_mae: 0.53071 |  0:00:02s\n",
      "epoch 17 | loss: 0.46205 | train_mse: 0.42506 | train_mae: 0.49273 |  0:00:03s\n"
     ]
    },
    {
     "name": "stdout",
     "output_type": "stream",
     "text": [
      "epoch 18 | loss: 0.48292 | train_mse: 0.40835 | train_mae: 0.45757 |  0:00:03s\n",
      "epoch 19 | loss: 0.42393 | train_mse: 0.41666 | train_mae: 0.47194 |  0:00:03s\n"
     ]
    },
    {
     "name": "stdout",
     "output_type": "stream",
     "text": [
      "epoch 20 | loss: 0.355   | train_mse: 0.3927  | train_mae: 0.46607 |  0:00:03s\n",
      "epoch 21 | loss: 0.41795 | train_mse: 0.37467 | train_mae: 0.47146 |  0:00:03s\n"
     ]
    },
    {
     "name": "stdout",
     "output_type": "stream",
     "text": [
      "epoch 22 | loss: 0.33364 | train_mse: 0.35947 | train_mae: 0.46744 |  0:00:03s\n",
      "epoch 23 | loss: 0.28816 | train_mse: 0.2933  | train_mae: 0.42456 |  0:00:04s\n"
     ]
    },
    {
     "name": "stdout",
     "output_type": "stream",
     "text": [
      "epoch 24 | loss: 0.43836 | train_mse: 0.34335 | train_mae: 0.4423  |  0:00:04s\n",
      "epoch 25 | loss: 0.30071 | train_mse: 0.29584 | train_mae: 0.40695 |  0:00:04s\n"
     ]
    },
    {
     "name": "stdout",
     "output_type": "stream",
     "text": [
      "epoch 26 | loss: 0.34845 | train_mse: 0.2918  | train_mae: 0.40033 |  0:00:04s\n"
     ]
    },
    {
     "name": "stdout",
     "output_type": "stream",
     "text": [
      "epoch 27 | loss: 0.2029  | train_mse: 0.57913 | train_mae: 0.46514 |  0:00:05s\n"
     ]
    },
    {
     "name": "stdout",
     "output_type": "stream",
     "text": [
      "epoch 28 | loss: 0.30921 | train_mse: 0.96851 | train_mae: 0.52952 |  0:00:05s\n"
     ]
    },
    {
     "name": "stdout",
     "output_type": "stream",
     "text": [
      "epoch 29 | loss: 0.27649 | train_mse: 0.56587 | train_mae: 0.46322 |  0:00:05s\n"
     ]
    },
    {
     "name": "stdout",
     "output_type": "stream",
     "text": [
      "epoch 30 | loss: 0.26706 | train_mse: 0.30254 | train_mae: 0.4123  |  0:00:06s\n"
     ]
    },
    {
     "name": "stdout",
     "output_type": "stream",
     "text": [
      "epoch 31 | loss: 0.18299 | train_mse: 0.32439 | train_mae: 0.40402 |  0:00:06s\n",
      "epoch 32 | loss: 0.3296  | train_mse: 0.36    | train_mae: 0.41714 |  0:00:06s\n"
     ]
    },
    {
     "name": "stdout",
     "output_type": "stream",
     "text": [
      "epoch 33 | loss: 0.1715  | train_mse: 0.32568 | train_mae: 0.39275 |  0:00:07s\n",
      "epoch 34 | loss: 0.30896 | train_mse: 0.27335 | train_mae: 0.36668 |  0:00:07s\n"
     ]
    },
    {
     "name": "stdout",
     "output_type": "stream",
     "text": [
      "epoch 35 | loss: 0.20779 | train_mse: 0.22174 | train_mae: 0.34764 |  0:00:07s\n",
      "epoch 36 | loss: 0.22277 | train_mse: 0.19508 | train_mae: 0.32544 |  0:00:07s\n"
     ]
    },
    {
     "name": "stdout",
     "output_type": "stream",
     "text": [
      "epoch 37 | loss: 0.19842 | train_mse: 0.21378 | train_mae: 0.33083 |  0:00:07s\n",
      "epoch 38 | loss: 0.28769 | train_mse: 0.20091 | train_mae: 0.32134 |  0:00:07s\n"
     ]
    },
    {
     "name": "stdout",
     "output_type": "stream",
     "text": [
      "epoch 39 | loss: 0.26694 | train_mse: 0.16564 | train_mae: 0.3041  |  0:00:07s\n",
      "epoch 40 | loss: 0.20083 | train_mse: 0.17049 | train_mae: 0.31657 |  0:00:07s\n",
      "epoch 41 | loss: 0.13635 | train_mse: 0.16811 | train_mae: 0.30426 |  0:00:08s\n"
     ]
    },
    {
     "name": "stdout",
     "output_type": "stream",
     "text": [
      "epoch 42 | loss: 0.19756 | train_mse: 0.15213 | train_mae: 0.29275 |  0:00:08s\n",
      "epoch 43 | loss: 0.2448  | train_mse: 0.14663 | train_mae: 0.28153 |  0:00:08s\n"
     ]
    },
    {
     "name": "stdout",
     "output_type": "stream",
     "text": [
      "epoch 44 | loss: 0.29177 | train_mse: 0.13564 | train_mae: 0.26911 |  0:00:08s\n",
      "epoch 45 | loss: 0.19451 | train_mse: 0.11944 | train_mae: 0.26433 |  0:00:08s\n"
     ]
    },
    {
     "name": "stdout",
     "output_type": "stream",
     "text": [
      "epoch 46 | loss: 0.21424 | train_mse: 0.12623 | train_mae: 0.26882 |  0:00:08s\n",
      "epoch 47 | loss: 0.13087 | train_mse: 0.10691 | train_mae: 0.25063 |  0:00:08s\n"
     ]
    },
    {
     "name": "stdout",
     "output_type": "stream",
     "text": [
      "epoch 48 | loss: 0.13537 | train_mse: 0.10407 | train_mae: 0.24742 |  0:00:08s\n",
      "epoch 49 | loss: 0.1283  | train_mse: 0.10516 | train_mae: 0.24963 |  0:00:08s\n"
     ]
    },
    {
     "name": "stdout",
     "output_type": "stream",
     "text": [
      "epoch 50 | loss: 0.16299 | train_mse: 0.09718 | train_mae: 0.24514 |  0:00:09s\n"
     ]
    },
    {
     "name": "stdout",
     "output_type": "stream",
     "text": [
      "epoch 51 | loss: 0.23707 | train_mse: 0.11391 | train_mae: 0.25719 |  0:00:09s\n"
     ]
    },
    {
     "name": "stdout",
     "output_type": "stream",
     "text": [
      "epoch 52 | loss: 0.18655 | train_mse: 0.15234 | train_mae: 0.27811 |  0:00:09s\n",
      "epoch 53 | loss: 0.25345 | train_mse: 0.14312 | train_mae: 0.28384 |  0:00:10s\n"
     ]
    },
    {
     "name": "stdout",
     "output_type": "stream",
     "text": [
      "epoch 54 | loss: 0.16996 | train_mse: 0.10927 | train_mae: 0.25801 |  0:00:10s\n",
      "epoch 55 | loss: 0.13108 | train_mse: 0.11086 | train_mae: 0.25548 |  0:00:10s\n"
     ]
    },
    {
     "name": "stdout",
     "output_type": "stream",
     "text": [
      "epoch 56 | loss: 0.18854 | train_mse: 0.11143 | train_mae: 0.26911 |  0:00:10s\n",
      "epoch 57 | loss: 0.30772 | train_mse: 0.10322 | train_mae: 0.25853 |  0:00:10s\n"
     ]
    },
    {
     "name": "stdout",
     "output_type": "stream",
     "text": [
      "epoch 58 | loss: 0.20325 | train_mse: 0.14955 | train_mae: 0.29756 |  0:00:10s\n",
      "epoch 59 | loss: 0.19759 | train_mse: 0.17623 | train_mae: 0.31679 |  0:00:10s\n",
      "epoch 60 | loss: 0.18006 | train_mse: 0.14704 | train_mae: 0.29461 |  0:00:10s\n"
     ]
    },
    {
     "name": "stdout",
     "output_type": "stream",
     "text": [
      "epoch 61 | loss: 0.16547 | train_mse: 0.11492 | train_mae: 0.26543 |  0:00:10s\n",
      "epoch 62 | loss: 0.25494 | train_mse: 0.10131 | train_mae: 0.24972 |  0:00:10s\n",
      "epoch 63 | loss: 0.19878 | train_mse: 0.1026  | train_mae: 0.25917 |  0:00:11s\n"
     ]
    },
    {
     "name": "stdout",
     "output_type": "stream",
     "text": [
      "epoch 64 | loss: 0.14295 | train_mse: 0.11892 | train_mae: 0.27921 |  0:00:11s\n",
      "epoch 65 | loss: 0.21831 | train_mse: 0.17816 | train_mae: 0.3264  |  0:00:11s\n",
      "epoch 66 | loss: 0.21479 | train_mse: 0.19428 | train_mae: 0.33892 |  0:00:11s\n"
     ]
    },
    {
     "name": "stdout",
     "output_type": "stream",
     "text": [
      "epoch 67 | loss: 0.20077 | train_mse: 0.17421 | train_mae: 0.32918 |  0:00:11s\n"
     ]
    },
    {
     "name": "stdout",
     "output_type": "stream",
     "text": [
      "epoch 68 | loss: 0.10611 | train_mse: 0.16847 | train_mae: 0.32484 |  0:00:11s\n",
      "epoch 69 | loss: 0.17458 | train_mse: 0.14579 | train_mae: 0.30581 |  0:00:11s\n"
     ]
    },
    {
     "name": "stdout",
     "output_type": "stream",
     "text": [
      "epoch 70 | loss: 0.16541 | train_mse: 0.14859 | train_mae: 0.30823 |  0:00:11s\n"
     ]
    },
    {
     "name": "stdout",
     "output_type": "stream",
     "text": [
      "epoch 71 | loss: 0.16474 | train_mse: 0.13107 | train_mae: 0.29164 |  0:00:12s\n",
      "epoch 72 | loss: 0.13721 | train_mse: 0.13995 | train_mae: 0.29608 |  0:00:12s\n"
     ]
    },
    {
     "name": "stdout",
     "output_type": "stream",
     "text": [
      "epoch 73 | loss: 0.20855 | train_mse: 0.15941 | train_mae: 0.30933 |  0:00:12s\n",
      "epoch 74 | loss: 0.16959 | train_mse: 0.1485  | train_mae: 0.30338 |  0:00:12s\n",
      "epoch 75 | loss: 0.10758 | train_mse: 0.11827 | train_mae: 0.27465 |  0:00:12s\n"
     ]
    },
    {
     "name": "stdout",
     "output_type": "stream",
     "text": [
      "epoch 76 | loss: 0.20586 | train_mse: 0.1079  | train_mae: 0.26102 |  0:00:12s\n",
      "epoch 77 | loss: 0.18153 | train_mse: 0.10651 | train_mae: 0.25849 |  0:00:12s\n",
      "epoch 78 | loss: 0.1642  | train_mse: 0.0998  | train_mae: 0.25837 |  0:00:13s\n"
     ]
    },
    {
     "name": "stdout",
     "output_type": "stream",
     "text": [
      "epoch 79 | loss: 0.2288  | train_mse: 0.09658 | train_mae: 0.24766 |  0:00:13s\n",
      "epoch 80 | loss: 0.18959 | train_mse: 0.09044 | train_mae: 0.23382 |  0:00:13s\n",
      "epoch 81 | loss: 0.15962 | train_mse: 0.08171 | train_mae: 0.22345 |  0:00:13s\n"
     ]
    },
    {
     "name": "stdout",
     "output_type": "stream",
     "text": [
      "epoch 82 | loss: 0.10227 | train_mse: 0.08881 | train_mae: 0.24188 |  0:00:13s\n",
      "epoch 83 | loss: 0.13646 | train_mse: 0.1132  | train_mae: 0.26594 |  0:00:13s\n",
      "epoch 84 | loss: 0.22804 | train_mse: 0.12007 | train_mae: 0.27055 |  0:00:13s\n"
     ]
    },
    {
     "name": "stdout",
     "output_type": "stream",
     "text": [
      "epoch 85 | loss: 0.12373 | train_mse: 0.09116 | train_mae: 0.24353 |  0:00:13s\n",
      "epoch 86 | loss: 0.11143 | train_mse: 0.08907 | train_mae: 0.24385 |  0:00:13s\n"
     ]
    },
    {
     "name": "stdout",
     "output_type": "stream",
     "text": [
      "epoch 87 | loss: 0.23279 | train_mse: 0.0886  | train_mae: 0.2432  |  0:00:13s\n",
      "epoch 88 | loss: 0.11102 | train_mse: 0.11952 | train_mae: 0.26555 |  0:00:14s\n"
     ]
    },
    {
     "name": "stdout",
     "output_type": "stream",
     "text": [
      "epoch 89 | loss: 0.13147 | train_mse: 0.13756 | train_mae: 0.27011 |  0:00:14s\n",
      "epoch 90 | loss: 0.1659  | train_mse: 0.10976 | train_mae: 0.2457  |  0:00:14s\n"
     ]
    },
    {
     "name": "stdout",
     "output_type": "stream",
     "text": [
      "epoch 91 | loss: 0.13925 | train_mse: 0.09544 | train_mae: 0.23473 |  0:00:14s\n",
      "epoch 92 | loss: 0.11505 | train_mse: 0.07391 | train_mae: 0.2133  |  0:00:14s\n",
      "epoch 93 | loss: 0.14341 | train_mse: 0.07806 | train_mae: 0.21922 |  0:00:14s\n"
     ]
    },
    {
     "name": "stdout",
     "output_type": "stream",
     "text": [
      "epoch 94 | loss: 0.12873 | train_mse: 0.07636 | train_mae: 0.21565 |  0:00:14s\n",
      "epoch 95 | loss: 0.10023 | train_mse: 0.08035 | train_mae: 0.22524 |  0:00:14s\n",
      "epoch 96 | loss: 0.13873 | train_mse: 0.0768  | train_mae: 0.22455 |  0:00:14s\n"
     ]
    },
    {
     "name": "stdout",
     "output_type": "stream",
     "text": [
      "epoch 97 | loss: 0.12866 | train_mse: 0.08301 | train_mae: 0.23589 |  0:00:14s\n",
      "epoch 98 | loss: 0.09329 | train_mse: 0.09359 | train_mae: 0.23797 |  0:00:15s\n",
      "epoch 99 | loss: 0.10064 | train_mse: 0.09222 | train_mae: 0.23324 |  0:00:15s\n"
     ]
    },
    {
     "name": "stdout",
     "output_type": "stream",
     "text": [
      "epoch 100| loss: 0.19333 | train_mse: 0.08047 | train_mae: 0.22355 |  0:00:15s\n",
      "epoch 101| loss: 0.11993 | train_mse: 0.07723 | train_mae: 0.2233  |  0:00:15s\n"
     ]
    },
    {
     "name": "stdout",
     "output_type": "stream",
     "text": [
      "epoch 102| loss: 0.12208 | train_mse: 0.09149 | train_mae: 0.23919 |  0:00:15s\n",
      "epoch 103| loss: 0.20477 | train_mse: 0.09803 | train_mae: 0.25088 |  0:00:15s\n",
      "epoch 104| loss: 0.10547 | train_mse: 0.11966 | train_mae: 0.27381 |  0:00:15s\n"
     ]
    },
    {
     "name": "stdout",
     "output_type": "stream",
     "text": [
      "epoch 105| loss: 0.11891 | train_mse: 0.15014 | train_mae: 0.29071 |  0:00:15s\n",
      "epoch 106| loss: 0.12112 | train_mse: 0.15479 | train_mae: 0.29617 |  0:00:15s\n"
     ]
    },
    {
     "name": "stdout",
     "output_type": "stream",
     "text": [
      "epoch 107| loss: 0.20677 | train_mse: 0.12408 | train_mae: 0.26954 |  0:00:15s\n",
      "epoch 108| loss: 0.15474 | train_mse: 0.09571 | train_mae: 0.24698 |  0:00:16s\n"
     ]
    },
    {
     "name": "stdout",
     "output_type": "stream",
     "text": [
      "epoch 109| loss: 0.07792 | train_mse: 0.08049 | train_mae: 0.22903 |  0:00:16s\n",
      "epoch 110| loss: 0.17979 | train_mse: 0.089   | train_mae: 0.23778 |  0:00:16s\n"
     ]
    },
    {
     "name": "stdout",
     "output_type": "stream",
     "text": [
      "epoch 111| loss: 0.11807 | train_mse: 0.06523 | train_mae: 0.21281 |  0:00:16s\n",
      "epoch 112| loss: 0.12161 | train_mse: 0.07155 | train_mae: 0.2213  |  0:00:16s\n",
      "epoch 113| loss: 0.17516 | train_mse: 0.09334 | train_mae: 0.24757 |  0:00:16s\n"
     ]
    },
    {
     "name": "stdout",
     "output_type": "stream",
     "text": [
      "epoch 114| loss: 0.12238 | train_mse: 0.08397 | train_mae: 0.23407 |  0:00:16s\n",
      "epoch 115| loss: 0.18854 | train_mse: 0.08875 | train_mae: 0.23281 |  0:00:16s\n",
      "epoch 116| loss: 0.11966 | train_mse: 0.12069 | train_mae: 0.25416 |  0:00:16s\n"
     ]
    },
    {
     "name": "stdout",
     "output_type": "stream",
     "text": [
      "epoch 117| loss: 0.17766 | train_mse: 0.12498 | train_mae: 0.25473 |  0:00:16s\n",
      "epoch 118| loss: 0.22188 | train_mse: 0.10233 | train_mae: 0.24334 |  0:00:17s\n",
      "epoch 119| loss: 0.1128  | train_mse: 0.11474 | train_mae: 0.25452 |  0:00:17s\n"
     ]
    },
    {
     "name": "stdout",
     "output_type": "stream",
     "text": [
      "epoch 120| loss: 0.12641 | train_mse: 0.10535 | train_mae: 0.24696 |  0:00:17s\n",
      "epoch 121| loss: 0.2337  | train_mse: 0.09933 | train_mae: 0.2353  |  0:00:17s\n"
     ]
    },
    {
     "name": "stdout",
     "output_type": "stream",
     "text": [
      "epoch 122| loss: 0.10258 | train_mse: 0.09282 | train_mae: 0.23914 |  0:00:17s\n",
      "epoch 123| loss: 0.11014 | train_mse: 0.08444 | train_mae: 0.22985 |  0:00:17s\n",
      "epoch 124| loss: 0.10318 | train_mse: 0.07641 | train_mae: 0.22187 |  0:00:17s\n"
     ]
    },
    {
     "name": "stdout",
     "output_type": "stream",
     "text": [
      "epoch 125| loss: 0.13809 | train_mse: 0.06197 | train_mae: 0.20306 |  0:00:17s\n",
      "epoch 126| loss: 0.09795 | train_mse: 0.05638 | train_mae: 0.18513 |  0:00:17s\n",
      "epoch 127| loss: 0.14162 | train_mse: 0.06526 | train_mae: 0.20898 |  0:00:17s\n"
     ]
    },
    {
     "name": "stdout",
     "output_type": "stream",
     "text": [
      "epoch 128| loss: 0.11407 | train_mse: 0.06646 | train_mae: 0.21823 |  0:00:17s\n",
      "epoch 129| loss: 0.11273 | train_mse: 0.05913 | train_mae: 0.20316 |  0:00:18s\n",
      "epoch 130| loss: 0.11874 | train_mse: 0.06079 | train_mae: 0.20174 |  0:00:18s\n"
     ]
    },
    {
     "name": "stdout",
     "output_type": "stream",
     "text": [
      "epoch 131| loss: 0.12341 | train_mse: 0.06567 | train_mae: 0.21082 |  0:00:18s\n",
      "epoch 132| loss: 0.11899 | train_mse: 0.06324 | train_mae: 0.20802 |  0:00:18s\n",
      "epoch 133| loss: 0.12411 | train_mse: 0.06929 | train_mae: 0.21535 |  0:00:18s\n"
     ]
    },
    {
     "name": "stdout",
     "output_type": "stream",
     "text": [
      "epoch 134| loss: 0.1063  | train_mse: 0.07106 | train_mae: 0.21887 |  0:00:18s\n",
      "epoch 135| loss: 0.18707 | train_mse: 0.07835 | train_mae: 0.23329 |  0:00:18s\n",
      "epoch 136| loss: 0.1582  | train_mse: 0.07475 | train_mae: 0.22906 |  0:00:18s\n"
     ]
    },
    {
     "name": "stdout",
     "output_type": "stream",
     "text": [
      "epoch 137| loss: 0.14716 | train_mse: 0.08388 | train_mae: 0.23014 |  0:00:18s\n",
      "epoch 138| loss: 0.13594 | train_mse: 0.08114 | train_mae: 0.22369 |  0:00:18s\n",
      "epoch 139| loss: 0.16076 | train_mse: 0.09554 | train_mae: 0.24479 |  0:00:19s\n"
     ]
    },
    {
     "name": "stdout",
     "output_type": "stream",
     "text": [
      "epoch 140| loss: 0.16245 | train_mse: 0.09885 | train_mae: 0.24087 |  0:00:19s\n",
      "epoch 141| loss: 0.13713 | train_mse: 0.09927 | train_mae: 0.24434 |  0:00:19s\n",
      "epoch 142| loss: 0.16294 | train_mse: 0.10017 | train_mae: 0.25114 |  0:00:19s\n"
     ]
    },
    {
     "name": "stdout",
     "output_type": "stream",
     "text": [
      "epoch 143| loss: 0.28411 | train_mse: 0.0968  | train_mae: 0.248   |  0:00:19s\n",
      "epoch 144| loss: 0.13825 | train_mse: 0.07299 | train_mae: 0.21257 |  0:00:19s\n",
      "epoch 145| loss: 0.17414 | train_mse: 0.07746 | train_mae: 0.21347 |  0:00:19s\n"
     ]
    },
    {
     "name": "stdout",
     "output_type": "stream",
     "text": [
      "epoch 146| loss: 0.12813 | train_mse: 0.09191 | train_mae: 0.23109 |  0:00:19s\n",
      "epoch 147| loss: 0.23735 | train_mse: 0.0944  | train_mae: 0.24864 |  0:00:19s\n",
      "epoch 148| loss: 0.16745 | train_mse: 0.08831 | train_mae: 0.23387 |  0:00:19s\n"
     ]
    },
    {
     "name": "stdout",
     "output_type": "stream",
     "text": [
      "epoch 149| loss: 0.13633 | train_mse: 0.0853  | train_mae: 0.22435 |  0:00:19s\n",
      "epoch 150| loss: 0.15315 | train_mse: 0.07616 | train_mae: 0.21071 |  0:00:20s\n",
      "epoch 151| loss: 0.15078 | train_mse: 0.07403 | train_mae: 0.2152  |  0:00:20s\n"
     ]
    },
    {
     "name": "stdout",
     "output_type": "stream",
     "text": [
      "epoch 152| loss: 0.19817 | train_mse: 0.06088 | train_mae: 0.202   |  0:00:20s\n",
      "epoch 153| loss: 0.18034 | train_mse: 0.06273 | train_mae: 0.2059  |  0:00:20s\n",
      "epoch 154| loss: 0.09402 | train_mse: 0.07828 | train_mae: 0.22801 |  0:00:20s\n"
     ]
    },
    {
     "name": "stdout",
     "output_type": "stream",
     "text": [
      "epoch 155| loss: 0.13777 | train_mse: 0.07868 | train_mae: 0.22431 |  0:00:20s\n",
      "epoch 156| loss: 0.17509 | train_mse: 0.06648 | train_mae: 0.20747 |  0:00:20s\n",
      "epoch 157| loss: 0.15577 | train_mse: 0.08047 | train_mae: 0.21765 |  0:00:20s\n"
     ]
    },
    {
     "name": "stdout",
     "output_type": "stream",
     "text": [
      "epoch 158| loss: 0.2004  | train_mse: 0.0784  | train_mae: 0.22432 |  0:00:20s\n",
      "epoch 159| loss: 0.18718 | train_mse: 0.09196 | train_mae: 0.23373 |  0:00:21s\n",
      "epoch 160| loss: 0.12144 | train_mse: 0.09633 | train_mae: 0.2359  |  0:00:21s\n"
     ]
    },
    {
     "name": "stdout",
     "output_type": "stream",
     "text": [
      "epoch 161| loss: 0.09216 | train_mse: 0.09367 | train_mae: 0.2275  |  0:00:21s\n",
      "epoch 162| loss: 0.14716 | train_mse: 0.10523 | train_mae: 0.23206 |  0:00:21s\n",
      "epoch 163| loss: 0.15351 | train_mse: 0.16097 | train_mae: 0.26248 |  0:00:21s\n"
     ]
    },
    {
     "name": "stdout",
     "output_type": "stream",
     "text": [
      "epoch 164| loss: 0.15893 | train_mse: 0.18629 | train_mae: 0.28823 |  0:00:21s\n",
      "epoch 165| loss: 0.12181 | train_mse: 0.10001 | train_mae: 0.24644 |  0:00:21s\n",
      "epoch 166| loss: 0.15657 | train_mse: 0.08558 | train_mae: 0.23725 |  0:00:21s\n"
     ]
    },
    {
     "name": "stdout",
     "output_type": "stream",
     "text": [
      "epoch 167| loss: 0.20241 | train_mse: 0.08057 | train_mae: 0.22881 |  0:00:21s\n",
      "epoch 168| loss: 0.11031 | train_mse: 0.06342 | train_mae: 0.20262 |  0:00:21s\n",
      "epoch 169| loss: 0.08747 | train_mse: 0.07169 | train_mae: 0.20455 |  0:00:22s\n"
     ]
    },
    {
     "name": "stdout",
     "output_type": "stream",
     "text": [
      "epoch 170| loss: 0.13897 | train_mse: 0.06845 | train_mae: 0.20041 |  0:00:22s\n",
      "epoch 171| loss: 0.11622 | train_mse: 0.05991 | train_mae: 0.19032 |  0:00:22s\n",
      "epoch 172| loss: 0.12404 | train_mse: 0.05896 | train_mae: 0.19338 |  0:00:22s\n"
     ]
    },
    {
     "name": "stdout",
     "output_type": "stream",
     "text": [
      "epoch 173| loss: 0.1556  | train_mse: 0.05626 | train_mae: 0.19285 |  0:00:22s\n",
      "epoch 174| loss: 0.0969  | train_mse: 0.0706  | train_mae: 0.20806 |  0:00:22s\n"
     ]
    },
    {
     "name": "stdout",
     "output_type": "stream",
     "text": [
      "epoch 175| loss: 0.08475 | train_mse: 0.0723  | train_mae: 0.20654 |  0:00:22s\n",
      "epoch 176| loss: 0.1437  | train_mse: 0.07522 | train_mae: 0.21855 |  0:00:22s\n",
      "\n",
      "Early stopping occurred at epoch 176 with best_epoch = 126 and best_train_mae = 0.18513\n",
      "Best weights from best epoch are automatically used!\n",
      "BEST VALID SCORE FOR dataset : 0.18512933278095392\n",
      "FINAL TEST SCORE FOR dataset: 0.6024814518113792\n",
      "{'loss': [0.9486597657203675, 0.92131507396698, 0.8238370656967163, 0.6640006363391876, 0.6692137479782104, 0.5831347703933716, 0.5510390520095825, 0.5752778291702271, 0.5529706060886384, 0.44462216198444365, 0.49289669692516325, 0.4995468735694885, 0.4309962809085846, 0.491952645778656, 0.49366424679756166, 0.3646226942539215, 0.5726382911205292, 0.4620456337928772, 0.482919979095459, 0.4239276111125946, 0.3549964189529419, 0.4179535448551178, 0.33363579511642455, 0.2881623566150665, 0.4383562445640564, 0.3007104128599167, 0.34844751954078673, 0.20290217399597169, 0.30921313166618347, 0.27649039328098296, 0.267057865858078, 0.1829896479845047, 0.3295997977256775, 0.17149503231048585, 0.3089555621147156, 0.20778537392616273, 0.22276660799980164, 0.19842345416545867, 0.28768627643585204, 0.26693727970123293, 0.20083360373973846, 0.1363472133874893, 0.1975636899471283, 0.2448004126548767, 0.2917651474475861, 0.19451369047164918, 0.21424144506454468, 0.130870258808136, 0.1353664517402649, 0.12830185294151306, 0.1629870802164078, 0.2370680183172226, 0.18655486404895782, 0.25344730019569395, 0.16995876729488374, 0.13108423054218293, 0.18853788673877717, 0.3077154755592346, 0.203251388669014, 0.1975934088230133, 0.18005552291870117, 0.16546546220779418, 0.25493770837783813, 0.19878453016281128, 0.1429530441761017, 0.21831247806549073, 0.21479349732398986, 0.20077184736728668, 0.10610977858304978, 0.17458017468452453, 0.16541166603565216, 0.16473766565322875, 0.1372131288051605, 0.20854817628860473, 0.16959115266799926, 0.1075826570391655, 0.2058563709259033, 0.18153202831745147, 0.16419973373413085, 0.2288037955760956, 0.18958524465560914, 0.15961956679821016, 0.10227121263742447, 0.1364573359489441, 0.228040874004364, 0.12373365461826324, 0.11142636239528655, 0.2327944368124008, 0.11102043688297272, 0.13146534264087678, 0.1659014880657196, 0.1392466738820076, 0.1150506742298603, 0.14341436624526976, 0.12872560918331147, 0.10022531151771545, 0.13873406052589415, 0.12865743339061736, 0.09328763037919999, 0.10064169764518738, 0.1933273896574974, 0.11993167698383331, 0.12207557857036591, 0.20477375090122224, 0.10547160357236862, 0.11891233623027801, 0.12111659049987793, 0.2067726358771324, 0.15473843216896058, 0.07791909873485565, 0.17978999614715577, 0.11806922852993011, 0.12160607725381851, 0.17516469359397888, 0.12237696945667267, 0.1885399580001831, 0.11965683996677398, 0.17766422927379608, 0.2218781054019928, 0.11279630661010742, 0.12641002237796783, 0.23370174169540406, 0.10258484035730361, 0.11014419049024582, 0.10317860543727875, 0.13809143602848054, 0.09795219004154206, 0.1416209250688553, 0.11406507194042206, 0.11273402571678162, 0.11874179244041443, 0.12340680658817291, 0.11898621022701264, 0.12411096096038818, 0.10629985481500626, 0.18706750869750977, 0.15819989740848542, 0.14716226756572723, 0.1359356462955475, 0.1607648640871048, 0.1624481588602066, 0.1371252566576004, 0.16294257640838622, 0.2841144621372223, 0.1382516860961914, 0.17413813173770903, 0.12813342213630677, 0.2373489409685135, 0.16745007038116455, 0.13632656931877135, 0.15315207540988923, 0.15078226923942567, 0.1981654405593872, 0.1803438812494278, 0.09402468800544739, 0.13777347803115844, 0.175089693069458, 0.15577197670936585, 0.20040497779846192, 0.18717797547578813, 0.12144008278846741, 0.09216088950634002, 0.14715903401374816, 0.15350912511348724, 0.1589303195476532, 0.12181462198495865, 0.15656778514385222, 0.2024092495441437, 0.11031407713890076, 0.08747169673442841, 0.1389714390039444, 0.11622284352779388, 0.12404170036315917, 0.15560498237609863, 0.09689738750457763, 0.08474524170160294, 0.14370003640651702], 'lr': [0.02, 0.02, 0.02, 0.02, 0.02, 0.02, 0.02, 0.02, 0.02, 0.02, 0.02, 0.02, 0.02, 0.02, 0.02, 0.02, 0.02, 0.02, 0.02, 0.02, 0.02, 0.02, 0.02, 0.02, 0.02, 0.02, 0.02, 0.02, 0.02, 0.02, 0.02, 0.02, 0.02, 0.02, 0.02, 0.02, 0.02, 0.02, 0.02, 0.02, 0.02, 0.02, 0.02, 0.02, 0.02, 0.02, 0.02, 0.02, 0.02, 0.02, 0.02, 0.02, 0.02, 0.02, 0.02, 0.02, 0.02, 0.02, 0.02, 0.02, 0.02, 0.02, 0.02, 0.02, 0.02, 0.02, 0.02, 0.02, 0.02, 0.02, 0.02, 0.02, 0.02, 0.02, 0.02, 0.02, 0.02, 0.02, 0.02, 0.02, 0.02, 0.02, 0.02, 0.02, 0.02, 0.02, 0.02, 0.02, 0.02, 0.02, 0.02, 0.02, 0.02, 0.02, 0.02, 0.02, 0.02, 0.02, 0.02, 0.02, 0.02, 0.02, 0.02, 0.02, 0.02, 0.02, 0.02, 0.02, 0.02, 0.02, 0.02, 0.02, 0.02, 0.02, 0.02, 0.02, 0.02, 0.02, 0.02, 0.02, 0.02, 0.02, 0.02, 0.02, 0.02, 0.02, 0.02, 0.02, 0.02, 0.02, 0.02, 0.02, 0.02, 0.02, 0.02, 0.02, 0.02, 0.02, 0.02, 0.02, 0.02, 0.02, 0.02, 0.02, 0.02, 0.02, 0.02, 0.02, 0.02, 0.02, 0.02, 0.02, 0.02, 0.02, 0.02, 0.02, 0.02, 0.02, 0.02, 0.02, 0.02, 0.02, 0.02, 0.02, 0.02, 0.02, 0.02, 0.02, 0.02, 0.02, 0.02, 0.02, 0.02, 0.02, 0.02, 0.02, 0.02], 'train_mse': [6.2039717356957, 3.5747906053379617, 2.7456225799942873, 1.2582680273946232, 0.875825879223348, 0.6860929492361793, 0.6655583489201065, 0.8927434412332371, 0.7073735288417754, 0.5984656457760006, 0.5919004150771352, 0.7665498838601714, 0.6258685803931726, 0.5181553273890422, 0.572153615636475, 0.5141275706224702, 0.5117019168276662, 0.4250562276849551, 0.40835145343899387, 0.4166578442622176, 0.3927011881823958, 0.37466624866583065, 0.3594662937841802, 0.2932996799164402, 0.3433471275035367, 0.29583730509106754, 0.29179771617119643, 0.5791261331508236, 0.9685057307386092, 0.5658667882393991, 0.30254497926262774, 0.32438905110420674, 0.3599952919054277, 0.3256780731318143, 0.2733495672519879, 0.22174450250520397, 0.19508277998624748, 0.21378276377662978, 0.20090980503070338, 0.1656365234682958, 0.17048782033893967, 0.16811258423525585, 0.15212938756056057, 0.14663089260529633, 0.13563629732504948, 0.11943804051920001, 0.12622877891614864, 0.1069125801561815, 0.10407115514984866, 0.10515588482774925, 0.09717501467014975, 0.11391381083865242, 0.15234235902698884, 0.14311946977467596, 0.10927077472993434, 0.11086019492204455, 0.11143355500916867, 0.10322386586659385, 0.1495480255383746, 0.17623169882273407, 0.14704312763819333, 0.1149231042225763, 0.10131022148004047, 0.10260239120903032, 0.11892488212713874, 0.17816400369406935, 0.1942750728922377, 0.17420515805157866, 0.16846722962452065, 0.14578706110937048, 0.1485894489748682, 0.1310732733796105, 0.13994872545313936, 0.15940654247073124, 0.14850242582772383, 0.11827096090913605, 0.10790410602038522, 0.10650515734780193, 0.09979600783850825, 0.0965781882300639, 0.09044341165753862, 0.08171239530381183, 0.08881297260129888, 0.11319660850347639, 0.1200656902182996, 0.09115510042925574, 0.08907198940460934, 0.08859746589023242, 0.11951631929458997, 0.13755956203745184, 0.10975556109738474, 0.09544227140796707, 0.07390709565548874, 0.0780568872497098, 0.07636493267056818, 0.08035108056289979, 0.0768014286759989, 0.08301019241313715, 0.0935882654755133, 0.09221818826552693, 0.08047095410342373, 0.07723216865394146, 0.09148766386610015, 0.09802836433241524, 0.11966265162688021, 0.15013753946011005, 0.15478844513677661, 0.12407653341774387, 0.09571288374441667, 0.08048906350625018, 0.08899799593410078, 0.06522584507053808, 0.07154592621912942, 0.09334286453093733, 0.08397443617045358, 0.08874849221954031, 0.12068709845246764, 0.12497622273645273, 0.1023329446311017, 0.114739231950171, 0.10534878961611582, 0.0993313672609912, 0.09281795558963332, 0.0844413279897733, 0.07640534243413341, 0.061965659023775196, 0.05637995180449103, 0.06526033918360111, 0.0664614896577152, 0.05913105976228317, 0.060790413047427584, 0.06567309974619188, 0.0632406112734841, 0.06929455056805237, 0.07106367769520919, 0.07835227141526746, 0.07474696536347661, 0.08388209395753446, 0.08113882130051886, 0.0955384368906947, 0.09885260503822726, 0.09927477271044183, 0.10017081803929821, 0.09679554525377804, 0.07298835384825104, 0.07745844032112166, 0.09191244795927431, 0.09440333109385908, 0.08830819863695485, 0.085304099416242, 0.07615538900500189, 0.0740314798924975, 0.060877304583458816, 0.06273167281145081, 0.07827706132900025, 0.07867623446998981, 0.06647834393900295, 0.08047386323290774, 0.07839625235611303, 0.09195678424792428, 0.09632842290000566, 0.09366794651564918, 0.1052311411456616, 0.16097317722006438, 0.18629454763139436, 0.10000735788169876, 0.08558485417393066, 0.08056676361144624, 0.06342138931454186, 0.07169154755797998, 0.06844502826530945, 0.0599143126762121, 0.05896164380855081, 0.05626481615978196, 0.07059783537733717, 0.072301681157316, 0.07522442363841472], 'train_mae': [1.826531702827269, 1.354452686297193, 1.0676538014115575, 0.8099897532089709, 0.7210930537138408, 0.6472439885406123, 0.6432814192590197, 0.7020567466644886, 0.6383333442732451, 0.5887361600979292, 0.5854711792807287, 0.6582129292594091, 0.5970210291864151, 0.5421103023256485, 0.5747208045139042, 0.5312984528775058, 0.5307139164519272, 0.4927276369849882, 0.45757123262113464, 0.47194239761282314, 0.4660747631596765, 0.4714598342029189, 0.4674423736999965, 0.4245589600376973, 0.4423045329977466, 0.40695216333829337, 0.4003268901842164, 0.46513542316931666, 0.529521657031738, 0.46321580904821, 0.41230041351307517, 0.40402332504874316, 0.4171367907017456, 0.3927493014754214, 0.36668361916729053, 0.34764270893726623, 0.3254439410131417, 0.3308347912952143, 0.3213376468398484, 0.30409512490246765, 0.3165718878911671, 0.3042634780488144, 0.2927512270897797, 0.28152953222391347, 0.2691097674989108, 0.26432985943512594, 0.2688235253385625, 0.2506299662379911, 0.2474196115563041, 0.24962658844592292, 0.24513990815021228, 0.2571892740055687, 0.278109258329599, 0.28383767285351197, 0.2580104220913092, 0.2554758322165906, 0.2691064381533442, 0.2585315394449893, 0.29755735306467745, 0.3167858022573296, 0.2946129093328389, 0.2654310182672268, 0.24972390353377225, 0.2591705584692678, 0.2792103749477617, 0.3263952323050336, 0.3389206600939837, 0.32918283560956446, 0.3248358812638369, 0.3058118537267016, 0.3082332398189879, 0.29164091731874275, 0.29608309900218427, 0.3093320127297358, 0.3033754066603048, 0.2746450736897225, 0.2610159910154069, 0.2584916855138634, 0.25836534680388656, 0.2476607770287532, 0.23382289755031294, 0.22344698135426294, 0.2418765489435073, 0.2659364545724372, 0.2705506622255276, 0.2435294622652049, 0.24384673340775187, 0.24320495895900845, 0.26554939779585907, 0.2701059644577521, 0.245700713480809, 0.23473499239286774, 0.21329640902440355, 0.2192187671942349, 0.21564612556497345, 0.22524435221055733, 0.22454836577536375, 0.23589355904546108, 0.2379734060956311, 0.23323666621154407, 0.22355491862051627, 0.22329762455459914, 0.23919144510123774, 0.2508798630944392, 0.2738054299136583, 0.2907084837097441, 0.2961713055857508, 0.2695384411387567, 0.24697718929783918, 0.22902868099477064, 0.2377830920883949, 0.21280526184099546, 0.22129800086935783, 0.24756588855473818, 0.2340734335969225, 0.23281127102431792, 0.25416401054367005, 0.2547340862699204, 0.24333707257679907, 0.2545224220244928, 0.24695729594159438, 0.23529964334051678, 0.2391414594250149, 0.22985036139103965, 0.22186885341154738, 0.20305694702981633, 0.18512933278095392, 0.20897637833162203, 0.21823127385903832, 0.20315580906986552, 0.2017351342462645, 0.21082429314368895, 0.20801838126588273, 0.2153506543492431, 0.21886950489600202, 0.23328579970533495, 0.22905847503311277, 0.23013887231546026, 0.22368599357759406, 0.24478750764156681, 0.24087073765740102, 0.24433638647147404, 0.25114167433955137, 0.2480020938798065, 0.2125688637494564, 0.21346851527220584, 0.2310944370583356, 0.24864039557905823, 0.23386678541369116, 0.2243494049869446, 0.21070807422863594, 0.21520185557749877, 0.20199846700281537, 0.20590190358722166, 0.22800515517640632, 0.22431084586190897, 0.207466061268271, 0.21764965255002564, 0.22432088097345676, 0.23372526638079244, 0.23590498206025573, 0.22750400366172663, 0.23206332297101256, 0.262478927505362, 0.2882320888508538, 0.24644300650061837, 0.23725042628375032, 0.22881469491965598, 0.20261722713561453, 0.20455454976281806, 0.20041116733379916, 0.19032300187821022, 0.19337823984913216, 0.19285313889905142, 0.20805982846991938, 0.2065435266813746, 0.2185466671087782]}\n"
     ]
    },
    {
     "data": {
      "application/scrapbook.scrap.json+json": {
       "data": 0.6024814518113792,
       "encoder": "json",
       "name": "TabNet MAE",
       "version": 1
      }
     },
     "metadata": {
      "scrapbook": {
       "data": true,
       "display": false,
       "name": "TabNet MAE"
      }
     },
     "output_type": "display_data"
    },
    {
     "data": {
      "image/png": "[encoded data removed]",
      "text/plain": [
       "<Figure size 432x288 with 1 Axes>"
      ]
     },
     "metadata": {
      "needs_background": "light"
     },
     "output_type": "display_data"
    }
   ],
   "source": [
    "lr = 0.02\n",
    "\n",
    "print(y_train.shape)\n",
    "y_train = np.reshape(y_train, (-1, 1))\n",
    "y_test = np.reshape(y_test, (-1, 1))\n",
    "\n",
    "device = torch.device('cuda' if torch.cuda.is_available() else 'cpu')\n",
    "mae_tab= baselineModels.tabnetreg(X_train,y_train,X_test,y_test,batch_size,n_features,n_target,n_epochs, lr)\n",
    "sb.glue(\"TabNet MAE\",mae_tab)"
   ]
  }
 ],
 "metadata": {
  "interpreter": {
   "hash": "10498c76ddd8160350534c6544a2b2fb65f2138dbc70420f7c81a3268f830f23"
  },
  "kernelspec": {
   "display_name": "Python 3",
   "language": "python",
   "name": "python3"
  },
  "language_info": {
   "codemirror_mode": {
    "name": "ipython",
    "version": 3
   },
   "file_extension": ".py",
   "mimetype": "text/x-python",
   "name": "python",
   "nbconvert_exporter": "python",
   "pygments_lexer": "ipython3",
   "version": "3.8.3"
  },
  "papermill": {
   "default_parameters": {},
   "duration": 42.310626,
   "end_time": "2022-06-22T10:52:14.385479",
   "environment_variables": {},
   "exception": null,
   "input_path": "BaselineModels.ipynb",
   "output_path": "./BaseLine_Model_Output/BaselineModels_output_9.ipynb",
   "parameters": {},
   "start_time": "2022-06-22T10:51:32.074853",
   "version": "2.3.3"
  }
 },
 "nbformat": 4,
 "nbformat_minor": 5
}