{
 "cells": [
  {
   "cell_type": "markdown",
   "id": "f63cd381",
   "metadata": {
    "papermill": {
     "duration": 0.017797,
     "end_time": "2022-06-22T10:50:29.928948",
     "exception": false,
     "start_time": "2022-06-22T10:50:29.911151",
     "status": "completed"
    },
    "tags": []
   },
   "source": [
    "## Import Libraries "
   ]
  },
  {
   "cell_type": "code",
   "execution_count": 1,
   "id": "36b24fba",
   "metadata": {
    "execution": {
     "iopub.execute_input": "2022-06-22T10:50:30.006425Z",
     "iopub.status.busy": "2022-06-22T10:50:30.002212Z",
     "iopub.status.idle": "2022-06-22T10:50:30.030784Z",
     "shell.execute_reply": "2022-06-22T10:50:30.032790Z"
    },
    "papermill": {
     "duration": 0.093548,
     "end_time": "2022-06-22T10:50:30.034981",
     "exception": false,
     "start_time": "2022-06-22T10:50:29.941433",
     "status": "completed"
    },
    "tags": []
   },
   "outputs": [],
   "source": [
    "import warnings\n",
    "import sys\n",
    "sys.path.insert(0, '../../src')\n",
    "warnings.filterwarnings('ignore')"
   ]
  },
  {
   "cell_type": "code",
   "execution_count": 2,
   "id": "6824c693",
   "metadata": {
    "execution": {
     "iopub.execute_input": "2022-06-22T10:50:30.150138Z",
     "iopub.status.busy": "2022-06-22T10:50:30.140363Z",
     "iopub.status.idle": "2022-06-22T10:50:44.020355Z",
     "shell.execute_reply": "2022-06-22T10:50:44.021970Z"
    },
    "papermill": {
     "duration": 13.968775,
     "end_time": "2022-06-22T10:50:44.022694",
     "exception": false,
     "start_time": "2022-06-22T10:50:30.053919",
     "status": "completed"
    },
    "tags": []
   },
   "outputs": [],
   "source": [
    "import statsModel\n",
    "import scrapbook as sb \n",
    "import torch \n",
    "import statsModel\n",
    "import baselineModels\n",
    "import friedman3Dataset\n",
    "import dataset \n",
    "from torch.utils.data import random_split \n",
    "from sklearn.model_selection import train_test_split\n",
    "import numpy as np"
   ]
  },
  {
   "cell_type": "markdown",
   "id": "7c234835",
   "metadata": {
    "papermill": {
     "duration": 0.012236,
     "end_time": "2022-06-22T10:50:44.049400",
     "exception": false,
     "start_time": "2022-06-22T10:50:44.037164",
     "status": "completed"
    },
    "tags": []
   },
   "source": [
    "## Import Dataset \n"
   ]
  },
  {
   "cell_type": "code",
   "execution_count": 3,
   "id": "a9481d6b",
   "metadata": {
    "execution": {
     "iopub.execute_input": "2022-06-22T10:50:44.156299Z",
     "iopub.status.busy": "2022-06-22T10:50:44.151418Z",
     "iopub.status.idle": "2022-06-22T10:50:44.223410Z",
     "shell.execute_reply": "2022-06-22T10:50:44.229565Z"
    },
    "papermill": {
     "duration": 0.15364,
     "end_time": "2022-06-22T10:50:44.230528",
     "exception": false,
     "start_time": "2022-06-22T10:50:44.076888",
     "status": "completed"
    },
    "tags": []
   },
   "outputs": [
    {
     "name": "stdout",
     "output_type": "stream",
     "text": [
      "          X1           X2        X3        X4         Y\n",
      "0  14.240887  1120.063218  0.792381  2.767897  1.524655\n",
      "1  65.351899   663.686545  0.023527  6.770909  0.301145\n",
      "2  86.121614   903.362491  0.946195  4.363072  1.664077\n",
      "3  63.977170  1435.004561  0.167085  1.618263  1.196510\n",
      "4  96.256107   385.072659  0.468226  5.014894  1.102099\n"
     ]
    }
   ],
   "source": [
    "n_features = 4\n",
    "n_samples= 100\n",
    "n_target = 1\n",
    "X,Y = friedman3Dataset.friedman3_data(n_samples)"
   ]
  },
  {
   "cell_type": "code",
   "execution_count": 4,
   "id": "e2f03a42",
   "metadata": {
    "execution": {
     "iopub.execute_input": "2022-06-22T10:50:44.385053Z",
     "iopub.status.busy": "2022-06-22T10:50:44.354968Z",
     "iopub.status.idle": "2022-06-22T10:50:44.400098Z",
     "shell.execute_reply": "2022-06-22T10:50:44.382973Z"
    },
    "papermill": {
     "duration": 0.106006,
     "end_time": "2022-06-22T10:50:44.402858",
     "exception": false,
     "start_time": "2022-06-22T10:50:44.296852",
     "status": "completed"
    },
    "tags": []
   },
   "outputs": [
    {
     "name": "stdout",
     "output_type": "stream",
     "text": [
      "(100, 4)\n",
      "(100,)\n",
      "(80, 4)\n",
      "(80,)\n",
      "(20, 4)\n",
      "(20,)\n"
     ]
    }
   ],
   "source": [
    "# Train test split for dataset \n",
    "real_dataset = dataset.CustomDataset(X,Y)\n",
    "\n",
    "print(X.shape)\n",
    "print(Y.shape)\n",
    "X_train, X_test, y_train, y_test = train_test_split(X, Y, test_size=0.2)\n",
    "\n",
    "print(X_train.shape)\n",
    "print(y_train.shape)\n",
    "print(X_test.shape)\n",
    "print(y_test.shape)"
   ]
  },
  {
   "cell_type": "markdown",
   "id": "d3d59797",
   "metadata": {
    "papermill": {
     "duration": 0.048779,
     "end_time": "2022-06-22T10:50:44.493297",
     "exception": false,
     "start_time": "2022-06-22T10:50:44.444518",
     "status": "completed"
    },
    "tags": []
   },
   "source": [
    "## Stats Model \n",
    "\n"
   ]
  },
  {
   "cell_type": "code",
   "execution_count": 5,
   "id": "e03286c3",
   "metadata": {
    "execution": {
     "iopub.execute_input": "2022-06-22T10:50:44.640640Z",
     "iopub.status.busy": "2022-06-22T10:50:44.603845Z",
     "iopub.status.idle": "2022-06-22T10:50:46.703741Z",
     "shell.execute_reply": "2022-06-22T10:50:46.705936Z"
    },
    "papermill": {
     "duration": 2.197028,
     "end_time": "2022-06-22T10:50:46.707710",
     "exception": false,
     "start_time": "2022-06-22T10:50:44.510682",
     "status": "completed"
    },
    "tags": []
   },
   "outputs": [
    {
     "name": "stderr",
     "output_type": "stream",
     "text": [
      "No handles with labels found to put in legend.\n"
     ]
    },
    {
     "name": "stdout",
     "output_type": "stream",
     "text": [
      "                                 OLS Regression Results                                \n",
      "=======================================================================================\n",
      "Dep. Variable:                      y   R-squared (uncentered):                   0.547\n",
      "Model:                            OLS   Adj. R-squared (uncentered):              0.524\n",
      "Method:                 Least Squares   F-statistic:                              22.98\n",
      "Date:                Wed, 22 Jun 2022   Prob (F-statistic):                    1.80e-12\n",
      "Time:                        16:20:44   Log-Likelihood:                         -88.015\n",
      "No. Observations:                  80   AIC:                                      184.0\n",
      "Df Residuals:                      76   BIC:                                      193.6\n",
      "Df Model:                           4                                                  \n",
      "Covariance Type:            nonrobust                                                  \n",
      "==============================================================================\n",
      "                 coef    std err          t      P>|t|      [0.025      0.975]\n",
      "------------------------------------------------------------------------------\n",
      "x1            -0.3295      0.083     -3.960      0.000      -0.495      -0.164\n",
      "x2             0.3238      0.087      3.742      0.000       0.151       0.496\n",
      "x3             0.5442      0.083      6.576      0.000       0.379       0.709\n",
      "x4            -0.0572      0.086     -0.666      0.508      -0.228       0.114\n",
      "==============================================================================\n",
      "Omnibus:                        5.692   Durbin-Watson:                   2.065\n",
      "Prob(Omnibus):                  0.058   Jarque-Bera (JB):                5.257\n",
      "Skew:                          -0.623   Prob(JB):                       0.0722\n",
      "Kurtosis:                       3.151   Cond. No.                         1.32\n",
      "==============================================================================\n",
      "\n",
      "Notes:\n",
      "[1] R² is computed without centering (uncentered) since the model does not contain a constant.\n",
      "[2] Standard Errors assume that the covariance matrix of the errors is correctly specified.\n"
     ]
    },
    {
     "data": {
      "image/png": "[encoded data removed]",
      "text/plain": [
       "<Figure size 432x288 with 1 Axes>"
      ]
     },
     "metadata": {
      "needs_background": "light"
     },
     "output_type": "display_data"
    },
    {
     "name": "stdout",
     "output_type": "stream",
     "text": [
      "Performance Metrics\n",
      "Mean Squared Error: 0.33102090766176934\n",
      "Mean Absolute Error: 0.4692204726573198\n",
      "Manhattan distance: 9.384409453146397\n",
      "Euclidean distance: 2.573017324705644\n"
     ]
    },
    {
     "data": {
      "application/scrapbook.scrap.json+json": {
       "data": 0.33102090766176934,
       "encoder": "json",
       "name": "Stats Model MSE",
       "version": 1
      }
     },
     "metadata": {
      "scrapbook": {
       "data": true,
       "display": false,
       "name": "Stats Model MSE"
      }
     },
     "output_type": "display_data"
    },
    {
     "data": {
      "application/scrapbook.scrap.json+json": {
       "data": 0.4692204726573198,
       "encoder": "json",
       "name": "Stats Model MAE",
       "version": 1
      }
     },
     "metadata": {
      "scrapbook": {
       "data": true,
       "display": false,
       "name": "Stats Model MAE"
      }
     },
     "output_type": "display_data"
    },
    {
     "data": {
      "application/scrapbook.scrap.json+json": {
       "data": 9.384409453146397,
       "encoder": "json",
       "name": "Stats Model Manhattan Distance",
       "version": 1
      }
     },
     "metadata": {
      "scrapbook": {
       "data": true,
       "display": false,
       "name": "Stats Model Manhattan Distance"
      }
     },
     "output_type": "display_data"
    },
    {
     "data": {
      "application/scrapbook.scrap.json+json": {
       "data": 2.573017324705644,
       "encoder": "json",
       "name": "Stats Model Euclidean distance",
       "version": 1
      }
     },
     "metadata": {
      "scrapbook": {
       "data": true,
       "display": false,
       "name": "Stats Model Euclidean distance"
      }
     },
     "output_type": "display_data"
    },
    {
     "data": {
      "application/scrapbook.scrap.json+json": {
       "data": [
        -0.3294704973908166,
        0.323843330276544,
        0.5442043375037244,
        -0.05723064462685033
       ],
       "encoder": "json",
       "name": "Coefficients",
       "version": 1
      }
     },
     "metadata": {
      "scrapbook": {
       "data": true,
       "display": false,
       "name": "Coefficients"
      }
     },
     "output_type": "display_data"
    }
   ],
   "source": [
    "coefficients , y_pred =statsModel.statsModel(X_train,y_train,X_test,y_test)\n",
    "#Store MSE Value \n",
    "sb.glue(\"Coefficients\",coefficients)"
   ]
  },
  {
   "cell_type": "markdown",
   "id": "1c9080f9",
   "metadata": {
    "papermill": {
     "duration": 0.089983,
     "end_time": "2022-06-22T10:50:46.819747",
     "exception": false,
     "start_time": "2022-06-22T10:50:46.729764",
     "status": "completed"
    },
    "tags": []
   },
   "source": [
    "# Catboost Model "
   ]
  },
  {
   "cell_type": "code",
   "execution_count": 6,
   "id": "8f8786a1",
   "metadata": {
    "execution": {
     "iopub.execute_input": "2022-06-22T10:50:47.173630Z",
     "iopub.status.busy": "2022-06-22T10:50:47.170238Z",
     "iopub.status.idle": "2022-06-22T10:50:49.751876Z",
     "shell.execute_reply": "2022-06-22T10:50:49.752528Z"
    },
    "papermill": {
     "duration": 2.913191,
     "end_time": "2022-06-22T10:50:49.752807",
     "exception": false,
     "start_time": "2022-06-22T10:50:46.839616",
     "status": "completed"
    },
    "tags": []
   },
   "outputs": [
    {
     "name": "stdout",
     "output_type": "stream",
     "text": [
      "Learning rate set to 0.027471\n",
      "0:\tlearn: 1.0639487\ttotal: 73.6ms\tremaining: 1m 13s\n",
      "1:\tlearn: 1.0524228\ttotal: 74.3ms\tremaining: 37.1s\n",
      "2:\tlearn: 1.0398079\ttotal: 75.1ms\tremaining: 25s\n",
      "3:\tlearn: 1.0276044\ttotal: 75.6ms\tremaining: 18.8s\n",
      "4:\tlearn: 1.0160835\ttotal: 76.4ms\tremaining: 15.2s\n",
      "5:\tlearn: 1.0042277\ttotal: 77.6ms\tremaining: 12.9s\n",
      "6:\tlearn: 0.9923816\ttotal: 78.2ms\tremaining: 11.1s\n",
      "7:\tlearn: 0.9807630\ttotal: 79.3ms\tremaining: 9.84s\n",
      "8:\tlearn: 0.9682020\ttotal: 79.9ms\tremaining: 8.79s\n",
      "9:\tlearn: 0.9566928\ttotal: 80.5ms\tremaining: 7.97s\n",
      "10:\tlearn: 0.9459523\ttotal: 81.1ms\tremaining: 7.29s\n",
      "11:\tlearn: 0.9358526\ttotal: 82.4ms\tremaining: 6.79s\n",
      "12:\tlearn: 0.9270130\ttotal: 83.1ms\tremaining: 6.31s\n",
      "13:\tlearn: 0.9165889\ttotal: 83.6ms\tremaining: 5.89s\n",
      "14:\tlearn: 0.9057284\ttotal: 84.2ms\tremaining: 5.53s\n",
      "15:\tlearn: 0.8941908\ttotal: 84.7ms\tremaining: 5.21s\n",
      "16:\tlearn: 0.8831086\ttotal: 86.2ms\tremaining: 4.98s\n",
      "17:\tlearn: 0.8718322\ttotal: 86.8ms\tremaining: 4.73s\n",
      "18:\tlearn: 0.8636158\ttotal: 87.3ms\tremaining: 4.51s\n",
      "19:\tlearn: 0.8513810\ttotal: 87.8ms\tremaining: 4.3s\n",
      "20:\tlearn: 0.8416923\ttotal: 88.7ms\tremaining: 4.13s\n",
      "21:\tlearn: 0.8322193\ttotal: 89.9ms\tremaining: 4s\n",
      "22:\tlearn: 0.8226028\ttotal: 92.8ms\tremaining: 3.94s\n",
      "23:\tlearn: 0.8138401\ttotal: 94.4ms\tremaining: 3.84s\n",
      "24:\tlearn: 0.8053440\ttotal: 94.9ms\tremaining: 3.7s\n",
      "25:\tlearn: 0.7976063\ttotal: 96.2ms\tremaining: 3.6s\n",
      "26:\tlearn: 0.7902492\ttotal: 96.7ms\tremaining: 3.49s\n",
      "27:\tlearn: 0.7806108\ttotal: 98.3ms\tremaining: 3.41s\n",
      "28:\tlearn: 0.7718578\ttotal: 98.8ms\tremaining: 3.31s\n",
      "29:\tlearn: 0.7640604\ttotal: 99.3ms\tremaining: 3.21s\n",
      "30:\tlearn: 0.7559048\ttotal: 102ms\tremaining: 3.17s\n",
      "31:\tlearn: 0.7487419\ttotal: 104ms\tremaining: 3.14s\n",
      "32:\tlearn: 0.7407167\ttotal: 107ms\tremaining: 3.12s\n",
      "33:\tlearn: 0.7353103\ttotal: 109ms\tremaining: 3.08s\n",
      "34:\tlearn: 0.7285184\ttotal: 110ms\tremaining: 3.03s\n",
      "35:\tlearn: 0.7211357\ttotal: 111ms\tremaining: 2.96s\n",
      "36:\tlearn: 0.7127017\ttotal: 112ms\tremaining: 2.92s\n",
      "37:\tlearn: 0.7062170\ttotal: 114ms\tremaining: 2.88s\n",
      "38:\tlearn: 0.6982676\ttotal: 115ms\tremaining: 2.83s\n",
      "39:\tlearn: 0.6902320\ttotal: 115ms\tremaining: 2.77s\n",
      "40:\tlearn: 0.6834590\ttotal: 116ms\tremaining: 2.71s\n",
      "41:\tlearn: 0.6768441\ttotal: 116ms\tremaining: 2.65s\n",
      "42:\tlearn: 0.6701267\ttotal: 118ms\tremaining: 2.62s\n",
      "43:\tlearn: 0.6623478\ttotal: 120ms\tremaining: 2.6s\n",
      "44:\tlearn: 0.6577068\ttotal: 122ms\tremaining: 2.59s\n",
      "45:\tlearn: 0.6505541\ttotal: 125ms\tremaining: 2.59s\n",
      "46:\tlearn: 0.6435517\ttotal: 126ms\tremaining: 2.55s\n",
      "47:\tlearn: 0.6372651\ttotal: 127ms\tremaining: 2.51s\n",
      "48:\tlearn: 0.6310346\ttotal: 129ms\tremaining: 2.5s\n",
      "49:\tlearn: 0.6255164\ttotal: 130ms\tremaining: 2.47s\n",
      "50:\tlearn: 0.6193965\ttotal: 131ms\tremaining: 2.44s\n",
      "51:\tlearn: 0.6138584\ttotal: 132ms\tremaining: 2.4s\n",
      "52:\tlearn: 0.6073902\ttotal: 132ms\tremaining: 2.36s\n",
      "53:\tlearn: 0.6023346\ttotal: 133ms\tremaining: 2.32s\n",
      "54:\tlearn: 0.5963391\ttotal: 134ms\tremaining: 2.3s\n",
      "55:\tlearn: 0.5913177\ttotal: 137ms\tremaining: 2.31s\n",
      "56:\tlearn: 0.5854899\ttotal: 138ms\tremaining: 2.28s\n",
      "57:\tlearn: 0.5796939\ttotal: 139ms\tremaining: 2.26s\n",
      "58:\tlearn: 0.5734842\ttotal: 140ms\tremaining: 2.24s\n",
      "59:\tlearn: 0.5683755\ttotal: 141ms\tremaining: 2.22s\n",
      "60:\tlearn: 0.5634191\ttotal: 143ms\tremaining: 2.2s\n"
     ]
    },
    {
     "name": "stdout",
     "output_type": "stream",
     "text": [
      "61:\tlearn: 0.5581370\ttotal: 144ms\tremaining: 2.18s\n",
      "62:\tlearn: 0.5526971\ttotal: 145ms\tremaining: 2.15s\n",
      "63:\tlearn: 0.5479291\ttotal: 148ms\tremaining: 2.17s\n",
      "64:\tlearn: 0.5425691\ttotal: 149ms\tremaining: 2.14s\n",
      "65:\tlearn: 0.5378798\ttotal: 149ms\tremaining: 2.11s\n",
      "66:\tlearn: 0.5334592\ttotal: 150ms\tremaining: 2.08s\n",
      "67:\tlearn: 0.5287808\ttotal: 151ms\tremaining: 2.07s\n",
      "68:\tlearn: 0.5243822\ttotal: 151ms\tremaining: 2.04s\n",
      "69:\tlearn: 0.5193401\ttotal: 153ms\tremaining: 2.03s\n",
      "70:\tlearn: 0.5141925\ttotal: 154ms\tremaining: 2.01s\n",
      "71:\tlearn: 0.5096273\ttotal: 155ms\tremaining: 1.99s\n",
      "72:\tlearn: 0.5054601\ttotal: 155ms\tremaining: 1.97s\n",
      "73:\tlearn: 0.5011897\ttotal: 157ms\tremaining: 1.96s\n",
      "74:\tlearn: 0.4973405\ttotal: 157ms\tremaining: 1.94s\n",
      "75:\tlearn: 0.4932954\ttotal: 158ms\tremaining: 1.92s\n",
      "76:\tlearn: 0.4895232\ttotal: 161ms\tremaining: 1.93s\n",
      "77:\tlearn: 0.4857150\ttotal: 161ms\tremaining: 1.91s\n",
      "78:\tlearn: 0.4820610\ttotal: 162ms\tremaining: 1.89s\n",
      "79:\tlearn: 0.4776548\ttotal: 163ms\tremaining: 1.88s\n",
      "80:\tlearn: 0.4735296\ttotal: 165ms\tremaining: 1.88s\n",
      "81:\tlearn: 0.4697042\ttotal: 166ms\tremaining: 1.86s\n",
      "82:\tlearn: 0.4663690\ttotal: 166ms\tremaining: 1.84s\n",
      "83:\tlearn: 0.4623399\ttotal: 167ms\tremaining: 1.82s\n",
      "84:\tlearn: 0.4589918\ttotal: 168ms\tremaining: 1.81s\n",
      "85:\tlearn: 0.4553924\ttotal: 170ms\tremaining: 1.81s\n",
      "86:\tlearn: 0.4523326\ttotal: 170ms\tremaining: 1.79s\n",
      "87:\tlearn: 0.4491889\ttotal: 171ms\tremaining: 1.77s\n",
      "88:\tlearn: 0.4463641\ttotal: 171ms\tremaining: 1.75s\n",
      "89:\tlearn: 0.4428307\ttotal: 173ms\tremaining: 1.75s\n",
      "90:\tlearn: 0.4398202\ttotal: 176ms\tremaining: 1.75s\n",
      "91:\tlearn: 0.4365897\ttotal: 176ms\tremaining: 1.74s\n",
      "92:\tlearn: 0.4337362\ttotal: 177ms\tremaining: 1.73s\n",
      "93:\tlearn: 0.4292467\ttotal: 178ms\tremaining: 1.72s\n",
      "94:\tlearn: 0.4261523\ttotal: 179ms\tremaining: 1.7s\n",
      "95:\tlearn: 0.4229304\ttotal: 180ms\tremaining: 1.7s\n",
      "96:\tlearn: 0.4200503\ttotal: 183ms\tremaining: 1.7s\n",
      "97:\tlearn: 0.4175232\ttotal: 184ms\tremaining: 1.69s\n",
      "98:\tlearn: 0.4147494\ttotal: 184ms\tremaining: 1.68s\n",
      "99:\tlearn: 0.4113996\ttotal: 185ms\tremaining: 1.67s\n",
      "100:\tlearn: 0.4088472\ttotal: 186ms\tremaining: 1.65s\n",
      "101:\tlearn: 0.4068675\ttotal: 187ms\tremaining: 1.65s\n",
      "102:\tlearn: 0.4034847\ttotal: 188ms\tremaining: 1.64s\n",
      "103:\tlearn: 0.4007649\ttotal: 189ms\tremaining: 1.63s\n",
      "104:\tlearn: 0.3980662\ttotal: 191ms\tremaining: 1.63s\n",
      "105:\tlearn: 0.3942414\ttotal: 192ms\tremaining: 1.62s\n",
      "106:\tlearn: 0.3915295\ttotal: 194ms\tremaining: 1.62s\n",
      "107:\tlearn: 0.3892108\ttotal: 195ms\tremaining: 1.61s\n",
      "108:\tlearn: 0.3866918\ttotal: 197ms\tremaining: 1.61s\n",
      "109:\tlearn: 0.3839023\ttotal: 197ms\tremaining: 1.59s\n",
      "110:\tlearn: 0.3808119\ttotal: 199ms\tremaining: 1.59s\n",
      "111:\tlearn: 0.3776850\ttotal: 200ms\tremaining: 1.58s\n",
      "112:\tlearn: 0.3752351\ttotal: 200ms\tremaining: 1.57s\n",
      "113:\tlearn: 0.3725292\ttotal: 201ms\tremaining: 1.56s\n",
      "114:\tlearn: 0.3697359\ttotal: 202ms\tremaining: 1.55s\n",
      "115:\tlearn: 0.3674253\ttotal: 204ms\tremaining: 1.55s\n",
      "116:\tlearn: 0.3646297\ttotal: 205ms\tremaining: 1.55s\n",
      "117:\tlearn: 0.3617868\ttotal: 206ms\tremaining: 1.54s\n",
      "118:\tlearn: 0.3592825\ttotal: 209ms\tremaining: 1.54s\n",
      "119:\tlearn: 0.3568954\ttotal: 209ms\tremaining: 1.53s\n",
      "120:\tlearn: 0.3543759\ttotal: 211ms\tremaining: 1.53s\n",
      "121:\tlearn: 0.3523721\ttotal: 213ms\tremaining: 1.53s\n",
      "122:\tlearn: 0.3500393\ttotal: 214ms\tremaining: 1.52s\n",
      "123:\tlearn: 0.3477472\ttotal: 216ms\tremaining: 1.53s\n",
      "124:\tlearn: 0.3459455\ttotal: 219ms\tremaining: 1.53s\n",
      "125:\tlearn: 0.3441158\ttotal: 220ms\tremaining: 1.52s\n",
      "126:\tlearn: 0.3416776\ttotal: 223ms\tremaining: 1.53s\n",
      "127:\tlearn: 0.3396433\ttotal: 223ms\tremaining: 1.52s\n",
      "128:\tlearn: 0.3375988\ttotal: 226ms\tremaining: 1.52s\n",
      "129:\tlearn: 0.3359823\ttotal: 227ms\tremaining: 1.52s\n",
      "130:\tlearn: 0.3338280\ttotal: 227ms\tremaining: 1.51s\n",
      "131:\tlearn: 0.3317479\ttotal: 228ms\tremaining: 1.5s\n",
      "132:\tlearn: 0.3296185\ttotal: 228ms\tremaining: 1.49s\n",
      "133:\tlearn: 0.3276149\ttotal: 230ms\tremaining: 1.49s\n",
      "134:\tlearn: 0.3257688\ttotal: 232ms\tremaining: 1.48s\n",
      "135:\tlearn: 0.3241454\ttotal: 234ms\tremaining: 1.48s\n",
      "136:\tlearn: 0.3228693\ttotal: 234ms\tremaining: 1.48s\n",
      "137:\tlearn: 0.3212200\ttotal: 235ms\tremaining: 1.47s\n",
      "138:\tlearn: 0.3192419\ttotal: 235ms\tremaining: 1.46s\n",
      "139:\tlearn: 0.3173592\ttotal: 243ms\tremaining: 1.49s\n",
      "140:\tlearn: 0.3151782\ttotal: 244ms\tremaining: 1.48s\n",
      "141:\tlearn: 0.3139150\ttotal: 244ms\tremaining: 1.47s\n",
      "142:\tlearn: 0.3121144\ttotal: 245ms\tremaining: 1.47s\n",
      "143:\tlearn: 0.3103459\ttotal: 246ms\tremaining: 1.46s\n",
      "144:\tlearn: 0.3087770\ttotal: 251ms\tremaining: 1.48s\n",
      "145:\tlearn: 0.3070955\ttotal: 252ms\tremaining: 1.48s\n",
      "146:\tlearn: 0.3053418\ttotal: 253ms\tremaining: 1.47s\n",
      "147:\tlearn: 0.3036590\ttotal: 254ms\tremaining: 1.46s\n",
      "148:\tlearn: 0.3019892\ttotal: 256ms\tremaining: 1.46s\n",
      "149:\tlearn: 0.3004390\ttotal: 259ms\tremaining: 1.47s\n"
     ]
    },
    {
     "name": "stdout",
     "output_type": "stream",
     "text": [
      "150:\tlearn: 0.2986946\ttotal: 351ms\tremaining: 1.97s\n",
      "151:\tlearn: 0.2973476\ttotal: 365ms\tremaining: 2.03s\n",
      "152:\tlearn: 0.2956095\ttotal: 366ms\tremaining: 2.02s\n",
      "153:\tlearn: 0.2941962\ttotal: 366ms\tremaining: 2.01s\n",
      "154:\tlearn: 0.2926668\ttotal: 368ms\tremaining: 2s\n",
      "155:\tlearn: 0.2914874\ttotal: 368ms\tremaining: 1.99s\n",
      "156:\tlearn: 0.2900628\ttotal: 371ms\tremaining: 1.99s\n",
      "157:\tlearn: 0.2883354\ttotal: 373ms\tremaining: 1.99s\n",
      "158:\tlearn: 0.2863115\ttotal: 374ms\tremaining: 1.98s\n",
      "159:\tlearn: 0.2849069\ttotal: 375ms\tremaining: 1.97s\n",
      "160:\tlearn: 0.2836113\ttotal: 375ms\tremaining: 1.96s\n",
      "161:\tlearn: 0.2821686\ttotal: 376ms\tremaining: 1.94s\n",
      "162:\tlearn: 0.2807703\ttotal: 376ms\tremaining: 1.93s\n",
      "163:\tlearn: 0.2797820\ttotal: 380ms\tremaining: 1.94s\n",
      "164:\tlearn: 0.2781679\ttotal: 381ms\tremaining: 1.93s\n",
      "165:\tlearn: 0.2767004\ttotal: 381ms\tremaining: 1.92s\n",
      "166:\tlearn: 0.2748741\ttotal: 382ms\tremaining: 1.9s\n",
      "167:\tlearn: 0.2732420\ttotal: 386ms\tremaining: 1.91s\n",
      "168:\tlearn: 0.2721132\ttotal: 388ms\tremaining: 1.91s\n",
      "169:\tlearn: 0.2706983\ttotal: 389ms\tremaining: 1.9s\n",
      "170:\tlearn: 0.2694710\ttotal: 390ms\tremaining: 1.89s\n",
      "171:\tlearn: 0.2680086\ttotal: 391ms\tremaining: 1.88s\n",
      "172:\tlearn: 0.2666007\ttotal: 392ms\tremaining: 1.87s\n",
      "173:\tlearn: 0.2650488\ttotal: 393ms\tremaining: 1.86s\n",
      "174:\tlearn: 0.2639683\ttotal: 394ms\tremaining: 1.85s\n",
      "175:\tlearn: 0.2624426\ttotal: 396ms\tremaining: 1.85s\n",
      "176:\tlearn: 0.2610522\ttotal: 398ms\tremaining: 1.85s\n",
      "177:\tlearn: 0.2598431\ttotal: 400ms\tremaining: 1.84s\n",
      "178:\tlearn: 0.2586629\ttotal: 400ms\tremaining: 1.83s\n",
      "179:\tlearn: 0.2568556\ttotal: 401ms\tremaining: 1.82s\n",
      "180:\tlearn: 0.2555831\ttotal: 401ms\tremaining: 1.81s\n",
      "181:\tlearn: 0.2544456\ttotal: 402ms\tremaining: 1.8s\n",
      "182:\tlearn: 0.2532782\ttotal: 402ms\tremaining: 1.79s\n",
      "183:\tlearn: 0.2522539\ttotal: 404ms\tremaining: 1.79s\n",
      "184:\tlearn: 0.2513067\ttotal: 406ms\tremaining: 1.79s\n",
      "185:\tlearn: 0.2499773\ttotal: 407ms\tremaining: 1.78s\n",
      "186:\tlearn: 0.2489918\ttotal: 408ms\tremaining: 1.77s\n",
      "187:\tlearn: 0.2478335\ttotal: 409ms\tremaining: 1.76s\n",
      "188:\tlearn: 0.2468783\ttotal: 409ms\tremaining: 1.76s\n",
      "189:\tlearn: 0.2456341\ttotal: 410ms\tremaining: 1.75s\n",
      "190:\tlearn: 0.2443670\ttotal: 411ms\tremaining: 1.74s\n",
      "191:\tlearn: 0.2430995\ttotal: 413ms\tremaining: 1.74s\n",
      "192:\tlearn: 0.2417277\ttotal: 413ms\tremaining: 1.73s\n",
      "193:\tlearn: 0.2405934\ttotal: 416ms\tremaining: 1.73s\n",
      "194:\tlearn: 0.2396676\ttotal: 418ms\tremaining: 1.73s\n",
      "195:\tlearn: 0.2386761\ttotal: 420ms\tremaining: 1.72s\n",
      "196:\tlearn: 0.2375291\ttotal: 421ms\tremaining: 1.72s\n",
      "197:\tlearn: 0.2360437\ttotal: 423ms\tremaining: 1.71s\n",
      "198:\tlearn: 0.2348391\ttotal: 423ms\tremaining: 1.7s\n",
      "199:\tlearn: 0.2337164\ttotal: 425ms\tremaining: 1.7s\n",
      "200:\tlearn: 0.2327069\ttotal: 426ms\tremaining: 1.69s\n",
      "201:\tlearn: 0.2317328\ttotal: 428ms\tremaining: 1.69s\n",
      "202:\tlearn: 0.2307001\ttotal: 428ms\tremaining: 1.68s\n",
      "203:\tlearn: 0.2296439\ttotal: 429ms\tremaining: 1.67s\n",
      "204:\tlearn: 0.2286730\ttotal: 431ms\tremaining: 1.67s\n",
      "205:\tlearn: 0.2274585\ttotal: 432ms\tremaining: 1.66s\n",
      "206:\tlearn: 0.2266378\ttotal: 433ms\tremaining: 1.66s\n",
      "207:\tlearn: 0.2258008\ttotal: 434ms\tremaining: 1.65s\n",
      "208:\tlearn: 0.2249719\ttotal: 436ms\tremaining: 1.65s\n",
      "209:\tlearn: 0.2240520\ttotal: 438ms\tremaining: 1.65s\n",
      "210:\tlearn: 0.2231393\ttotal: 440ms\tremaining: 1.64s\n",
      "211:\tlearn: 0.2224472\ttotal: 441ms\tremaining: 1.64s\n",
      "212:\tlearn: 0.2212489\ttotal: 443ms\tremaining: 1.64s\n",
      "213:\tlearn: 0.2204669\ttotal: 443ms\tremaining: 1.63s\n",
      "214:\tlearn: 0.2194883\ttotal: 444ms\tremaining: 1.62s\n",
      "215:\tlearn: 0.2184875\ttotal: 444ms\tremaining: 1.61s\n",
      "216:\tlearn: 0.2176640\ttotal: 444ms\tremaining: 1.6s\n",
      "217:\tlearn: 0.2167632\ttotal: 449ms\tremaining: 1.61s\n"
     ]
    },
    {
     "name": "stdout",
     "output_type": "stream",
     "text": [
      "218:\tlearn: 0.2155955\ttotal: 454ms\tremaining: 1.62s\n",
      "219:\tlearn: 0.2147241\ttotal: 459ms\tremaining: 1.63s\n",
      "220:\tlearn: 0.2137086\ttotal: 467ms\tremaining: 1.65s\n",
      "221:\tlearn: 0.2128443\ttotal: 470ms\tremaining: 1.65s\n",
      "222:\tlearn: 0.2119369\ttotal: 472ms\tremaining: 1.64s\n",
      "223:\tlearn: 0.2112241\ttotal: 474ms\tremaining: 1.64s\n",
      "224:\tlearn: 0.2105545\ttotal: 475ms\tremaining: 1.64s\n",
      "225:\tlearn: 0.2096775\ttotal: 476ms\tremaining: 1.63s\n",
      "226:\tlearn: 0.2091808\ttotal: 476ms\tremaining: 1.62s\n",
      "227:\tlearn: 0.2083290\ttotal: 485ms\tremaining: 1.64s\n",
      "228:\tlearn: 0.2075484\ttotal: 486ms\tremaining: 1.64s\n",
      "229:\tlearn: 0.2066378\ttotal: 487ms\tremaining: 1.63s\n",
      "230:\tlearn: 0.2056023\ttotal: 487ms\tremaining: 1.62s\n",
      "231:\tlearn: 0.2047223\ttotal: 488ms\tremaining: 1.61s\n",
      "232:\tlearn: 0.2039794\ttotal: 488ms\tremaining: 1.61s\n",
      "233:\tlearn: 0.2032890\ttotal: 490ms\tremaining: 1.6s\n",
      "234:\tlearn: 0.2025783\ttotal: 494ms\tremaining: 1.61s\n",
      "235:\tlearn: 0.2018770\ttotal: 495ms\tremaining: 1.6s\n",
      "236:\tlearn: 0.2009539\ttotal: 496ms\tremaining: 1.6s\n",
      "237:\tlearn: 0.1999602\ttotal: 496ms\tremaining: 1.59s\n",
      "238:\tlearn: 0.1991891\ttotal: 498ms\tremaining: 1.58s\n",
      "239:\tlearn: 0.1986332\ttotal: 499ms\tremaining: 1.58s\n",
      "240:\tlearn: 0.1979261\ttotal: 500ms\tremaining: 1.57s\n",
      "241:\tlearn: 0.1970297\ttotal: 501ms\tremaining: 1.57s\n",
      "242:\tlearn: 0.1963243\ttotal: 501ms\tremaining: 1.56s\n",
      "243:\tlearn: 0.1953964\ttotal: 505ms\tremaining: 1.56s\n",
      "244:\tlearn: 0.1947438\ttotal: 505ms\tremaining: 1.56s\n",
      "245:\tlearn: 0.1939283\ttotal: 506ms\tremaining: 1.55s\n",
      "246:\tlearn: 0.1929892\ttotal: 506ms\tremaining: 1.54s\n",
      "247:\tlearn: 0.1921884\ttotal: 507ms\tremaining: 1.54s\n",
      "248:\tlearn: 0.1915333\ttotal: 508ms\tremaining: 1.53s\n",
      "249:\tlearn: 0.1908882\ttotal: 508ms\tremaining: 1.52s\n",
      "250:\tlearn: 0.1901011\ttotal: 509ms\tremaining: 1.52s\n",
      "251:\tlearn: 0.1893863\ttotal: 509ms\tremaining: 1.51s\n",
      "252:\tlearn: 0.1886171\ttotal: 510ms\tremaining: 1.5s\n",
      "253:\tlearn: 0.1877590\ttotal: 512ms\tremaining: 1.5s\n",
      "254:\tlearn: 0.1871233\ttotal: 518ms\tremaining: 1.51s\n",
      "255:\tlearn: 0.1864043\ttotal: 519ms\tremaining: 1.51s\n",
      "256:\tlearn: 0.1857575\ttotal: 521ms\tremaining: 1.51s\n",
      "257:\tlearn: 0.1851415\ttotal: 522ms\tremaining: 1.5s\n",
      "258:\tlearn: 0.1845663\ttotal: 523ms\tremaining: 1.5s\n",
      "259:\tlearn: 0.1838011\ttotal: 523ms\tremaining: 1.49s\n",
      "260:\tlearn: 0.1829470\ttotal: 524ms\tremaining: 1.48s\n",
      "261:\tlearn: 0.1826115\ttotal: 526ms\tremaining: 1.48s\n",
      "262:\tlearn: 0.1817478\ttotal: 527ms\tremaining: 1.48s\n",
      "263:\tlearn: 0.1809641\ttotal: 527ms\tremaining: 1.47s\n",
      "264:\tlearn: 0.1801074\ttotal: 528ms\tremaining: 1.47s\n",
      "265:\tlearn: 0.1795083\ttotal: 529ms\tremaining: 1.46s\n",
      "266:\tlearn: 0.1785915\ttotal: 530ms\tremaining: 1.45s\n",
      "267:\tlearn: 0.1778599\ttotal: 536ms\tremaining: 1.46s\n"
     ]
    },
    {
     "name": "stdout",
     "output_type": "stream",
     "text": [
      "268:\tlearn: 0.1770899\ttotal: 545ms\tremaining: 1.48s\n",
      "269:\tlearn: 0.1764964\ttotal: 546ms\tremaining: 1.48s\n",
      "270:\tlearn: 0.1759110\ttotal: 559ms\tremaining: 1.5s\n",
      "271:\tlearn: 0.1753589\ttotal: 560ms\tremaining: 1.5s\n",
      "272:\tlearn: 0.1747439\ttotal: 560ms\tremaining: 1.49s\n",
      "273:\tlearn: 0.1740702\ttotal: 564ms\tremaining: 1.49s\n",
      "274:\tlearn: 0.1732990\ttotal: 639ms\tremaining: 1.68s\n",
      "275:\tlearn: 0.1727999\ttotal: 641ms\tremaining: 1.68s\n",
      "276:\tlearn: 0.1723384\ttotal: 649ms\tremaining: 1.69s\n",
      "277:\tlearn: 0.1715031\ttotal: 652ms\tremaining: 1.69s\n",
      "278:\tlearn: 0.1706821\ttotal: 665ms\tremaining: 1.72s\n",
      "279:\tlearn: 0.1698904\ttotal: 666ms\tremaining: 1.71s\n",
      "280:\tlearn: 0.1692254\ttotal: 668ms\tremaining: 1.71s\n",
      "281:\tlearn: 0.1688650\ttotal: 669ms\tremaining: 1.7s\n",
      "282:\tlearn: 0.1684028\ttotal: 670ms\tremaining: 1.7s\n",
      "283:\tlearn: 0.1676318\ttotal: 672ms\tremaining: 1.69s\n",
      "284:\tlearn: 0.1669295\ttotal: 673ms\tremaining: 1.69s\n",
      "285:\tlearn: 0.1662983\ttotal: 674ms\tremaining: 1.68s\n",
      "286:\tlearn: 0.1655830\ttotal: 676ms\tremaining: 1.68s\n",
      "287:\tlearn: 0.1648714\ttotal: 676ms\tremaining: 1.67s\n",
      "288:\tlearn: 0.1644026\ttotal: 677ms\tremaining: 1.67s\n",
      "289:\tlearn: 0.1639387\ttotal: 677ms\tremaining: 1.66s\n",
      "290:\tlearn: 0.1633386\ttotal: 678ms\tremaining: 1.65s\n",
      "291:\tlearn: 0.1624590\ttotal: 679ms\tremaining: 1.65s\n",
      "292:\tlearn: 0.1616019\ttotal: 680ms\tremaining: 1.64s\n",
      "293:\tlearn: 0.1610245\ttotal: 680ms\tremaining: 1.63s\n",
      "294:\tlearn: 0.1603560\ttotal: 681ms\tremaining: 1.63s\n",
      "295:\tlearn: 0.1600296\ttotal: 686ms\tremaining: 1.63s\n",
      "296:\tlearn: 0.1593684\ttotal: 687ms\tremaining: 1.63s\n",
      "297:\tlearn: 0.1587254\ttotal: 689ms\tremaining: 1.62s\n",
      "298:\tlearn: 0.1584703\ttotal: 689ms\tremaining: 1.61s\n",
      "299:\tlearn: 0.1581745\ttotal: 690ms\tremaining: 1.61s\n",
      "300:\tlearn: 0.1577788\ttotal: 690ms\tremaining: 1.6s\n",
      "301:\tlearn: 0.1571192\ttotal: 692ms\tremaining: 1.6s\n",
      "302:\tlearn: 0.1568145\ttotal: 693ms\tremaining: 1.59s\n",
      "303:\tlearn: 0.1563080\ttotal: 695ms\tremaining: 1.59s\n",
      "304:\tlearn: 0.1558650\ttotal: 696ms\tremaining: 1.58s\n",
      "305:\tlearn: 0.1554650\ttotal: 703ms\tremaining: 1.59s\n",
      "306:\tlearn: 0.1552360\ttotal: 706ms\tremaining: 1.59s\n",
      "307:\tlearn: 0.1548476\ttotal: 707ms\tremaining: 1.59s\n",
      "308:\tlearn: 0.1543245\ttotal: 708ms\tremaining: 1.58s\n",
      "309:\tlearn: 0.1540515\ttotal: 710ms\tremaining: 1.58s\n",
      "310:\tlearn: 0.1536772\ttotal: 711ms\tremaining: 1.57s\n",
      "311:\tlearn: 0.1531303\ttotal: 713ms\tremaining: 1.57s\n",
      "312:\tlearn: 0.1526531\ttotal: 715ms\tremaining: 1.57s\n",
      "313:\tlearn: 0.1523282\ttotal: 716ms\tremaining: 1.56s\n",
      "314:\tlearn: 0.1519163\ttotal: 716ms\tremaining: 1.56s\n",
      "315:\tlearn: 0.1514566\ttotal: 716ms\tremaining: 1.55s\n"
     ]
    },
    {
     "name": "stdout",
     "output_type": "stream",
     "text": [
      "316:\tlearn: 0.1510916\ttotal: 717ms\tremaining: 1.54s\n",
      "317:\tlearn: 0.1507057\ttotal: 718ms\tremaining: 1.54s\n",
      "318:\tlearn: 0.1502566\ttotal: 720ms\tremaining: 1.54s\n",
      "319:\tlearn: 0.1498203\ttotal: 721ms\tremaining: 1.53s\n",
      "320:\tlearn: 0.1494136\ttotal: 723ms\tremaining: 1.53s\n",
      "321:\tlearn: 0.1487596\ttotal: 723ms\tremaining: 1.52s\n",
      "322:\tlearn: 0.1482866\ttotal: 723ms\tremaining: 1.52s\n",
      "323:\tlearn: 0.1479241\ttotal: 724ms\tremaining: 1.51s\n",
      "324:\tlearn: 0.1472919\ttotal: 732ms\tremaining: 1.52s\n",
      "325:\tlearn: 0.1468426\ttotal: 733ms\tremaining: 1.51s\n",
      "326:\tlearn: 0.1464933\ttotal: 734ms\tremaining: 1.51s\n",
      "327:\tlearn: 0.1458720\ttotal: 736ms\tremaining: 1.51s\n",
      "328:\tlearn: 0.1455405\ttotal: 736ms\tremaining: 1.5s\n",
      "329:\tlearn: 0.1451818\ttotal: 737ms\tremaining: 1.5s\n",
      "330:\tlearn: 0.1445731\ttotal: 738ms\tremaining: 1.49s\n",
      "331:\tlearn: 0.1437395\ttotal: 739ms\tremaining: 1.49s\n",
      "332:\tlearn: 0.1432445\ttotal: 741ms\tremaining: 1.48s\n",
      "333:\tlearn: 0.1424839\ttotal: 742ms\tremaining: 1.48s\n",
      "334:\tlearn: 0.1420733\ttotal: 743ms\tremaining: 1.48s\n",
      "335:\tlearn: 0.1417536\ttotal: 744ms\tremaining: 1.47s\n",
      "336:\tlearn: 0.1411635\ttotal: 744ms\tremaining: 1.46s\n",
      "337:\tlearn: 0.1408359\ttotal: 745ms\tremaining: 1.46s\n",
      "338:\tlearn: 0.1407199\ttotal: 746ms\tremaining: 1.45s\n",
      "339:\tlearn: 0.1403305\ttotal: 747ms\tremaining: 1.45s\n",
      "340:\tlearn: 0.1402171\ttotal: 747ms\tremaining: 1.44s\n",
      "341:\tlearn: 0.1398396\ttotal: 748ms\tremaining: 1.44s\n",
      "342:\tlearn: 0.1390522\ttotal: 751ms\tremaining: 1.44s\n",
      "343:\tlearn: 0.1383369\ttotal: 752ms\tremaining: 1.43s\n",
      "344:\tlearn: 0.1382283\ttotal: 753ms\tremaining: 1.43s\n",
      "345:\tlearn: 0.1378576\ttotal: 753ms\tremaining: 1.42s\n",
      "346:\tlearn: 0.1372869\ttotal: 754ms\tremaining: 1.42s\n",
      "347:\tlearn: 0.1371808\ttotal: 755ms\tremaining: 1.42s\n",
      "348:\tlearn: 0.1366187\ttotal: 756ms\tremaining: 1.41s\n",
      "349:\tlearn: 0.1365264\ttotal: 758ms\tremaining: 1.41s\n",
      "350:\tlearn: 0.1364232\ttotal: 759ms\tremaining: 1.4s\n",
      "351:\tlearn: 0.1360280\ttotal: 759ms\tremaining: 1.4s\n",
      "352:\tlearn: 0.1354501\ttotal: 760ms\tremaining: 1.39s\n",
      "353:\tlearn: 0.1347675\ttotal: 762ms\tremaining: 1.39s\n",
      "354:\tlearn: 0.1346671\ttotal: 763ms\tremaining: 1.39s\n",
      "355:\tlearn: 0.1340998\ttotal: 764ms\tremaining: 1.38s\n",
      "356:\tlearn: 0.1333570\ttotal: 764ms\tremaining: 1.38s\n",
      "357:\tlearn: 0.1326870\ttotal: 765ms\tremaining: 1.37s\n",
      "358:\tlearn: 0.1325907\ttotal: 766ms\tremaining: 1.37s\n",
      "359:\tlearn: 0.1322015\ttotal: 766ms\tremaining: 1.36s\n",
      "360:\tlearn: 0.1321165\ttotal: 768ms\tremaining: 1.36s\n",
      "361:\tlearn: 0.1314702\ttotal: 769ms\tremaining: 1.35s\n",
      "362:\tlearn: 0.1309263\ttotal: 770ms\tremaining: 1.35s\n",
      "363:\tlearn: 0.1303945\ttotal: 770ms\tremaining: 1.34s\n",
      "364:\tlearn: 0.1303017\ttotal: 771ms\tremaining: 1.34s\n",
      "365:\tlearn: 0.1296719\ttotal: 772ms\tremaining: 1.34s\n",
      "366:\tlearn: 0.1293054\ttotal: 773ms\tremaining: 1.33s\n",
      "367:\tlearn: 0.1287906\ttotal: 774ms\tremaining: 1.33s\n",
      "368:\tlearn: 0.1287004\ttotal: 774ms\tremaining: 1.32s\n",
      "369:\tlearn: 0.1279953\ttotal: 776ms\tremaining: 1.32s\n",
      "370:\tlearn: 0.1279160\ttotal: 778ms\tremaining: 1.32s\n",
      "371:\tlearn: 0.1273060\ttotal: 779ms\tremaining: 1.31s\n",
      "372:\tlearn: 0.1269560\ttotal: 779ms\tremaining: 1.31s\n",
      "373:\tlearn: 0.1268707\ttotal: 780ms\tremaining: 1.3s\n",
      "374:\tlearn: 0.1263884\ttotal: 781ms\tremaining: 1.3s\n",
      "375:\tlearn: 0.1257084\ttotal: 782ms\tremaining: 1.3s\n",
      "376:\tlearn: 0.1251178\ttotal: 783ms\tremaining: 1.29s\n",
      "377:\tlearn: 0.1247798\ttotal: 783ms\tremaining: 1.29s\n",
      "378:\tlearn: 0.1244280\ttotal: 784ms\tremaining: 1.28s\n",
      "379:\tlearn: 0.1238460\ttotal: 785ms\tremaining: 1.28s\n",
      "380:\tlearn: 0.1233941\ttotal: 785ms\tremaining: 1.27s\n",
      "381:\tlearn: 0.1228373\ttotal: 786ms\tremaining: 1.27s\n",
      "382:\tlearn: 0.1224969\ttotal: 787ms\tremaining: 1.27s\n",
      "383:\tlearn: 0.1219501\ttotal: 788ms\tremaining: 1.26s\n",
      "384:\tlearn: 0.1218773\ttotal: 789ms\tremaining: 1.26s\n",
      "385:\tlearn: 0.1211921\ttotal: 790ms\tremaining: 1.25s\n",
      "386:\tlearn: 0.1211205\ttotal: 791ms\tremaining: 1.25s\n",
      "387:\tlearn: 0.1206919\ttotal: 792ms\tremaining: 1.25s\n",
      "388:\tlearn: 0.1204459\ttotal: 793ms\tremaining: 1.25s\n",
      "389:\tlearn: 0.1198768\ttotal: 794ms\tremaining: 1.24s\n",
      "390:\tlearn: 0.1193172\ttotal: 795ms\tremaining: 1.24s\n",
      "391:\tlearn: 0.1186594\ttotal: 796ms\tremaining: 1.23s\n",
      "392:\tlearn: 0.1182509\ttotal: 797ms\tremaining: 1.23s\n",
      "393:\tlearn: 0.1176079\ttotal: 797ms\tremaining: 1.23s\n",
      "394:\tlearn: 0.1172839\ttotal: 798ms\tremaining: 1.22s\n",
      "395:\tlearn: 0.1166566\ttotal: 801ms\tremaining: 1.22s\n",
      "396:\tlearn: 0.1160515\ttotal: 801ms\tremaining: 1.22s\n",
      "397:\tlearn: 0.1157368\ttotal: 802ms\tremaining: 1.21s\n",
      "398:\tlearn: 0.1152946\ttotal: 802ms\tremaining: 1.21s\n",
      "399:\tlearn: 0.1148594\ttotal: 803ms\tremaining: 1.2s\n",
      "400:\tlearn: 0.1144309\ttotal: 803ms\tremaining: 1.2s\n",
      "401:\tlearn: 0.1140676\ttotal: 804ms\tremaining: 1.2s\n",
      "402:\tlearn: 0.1136973\ttotal: 805ms\tremaining: 1.19s\n",
      "403:\tlearn: 0.1132770\ttotal: 807ms\tremaining: 1.19s\n",
      "404:\tlearn: 0.1129771\ttotal: 808ms\tremaining: 1.19s\n",
      "405:\tlearn: 0.1125654\ttotal: 808ms\tremaining: 1.18s\n",
      "406:\tlearn: 0.1120253\ttotal: 809ms\tremaining: 1.18s\n",
      "407:\tlearn: 0.1119597\ttotal: 810ms\tremaining: 1.17s\n",
      "408:\tlearn: 0.1115241\ttotal: 812ms\tremaining: 1.17s\n",
      "409:\tlearn: 0.1109499\ttotal: 813ms\tremaining: 1.17s\n",
      "410:\tlearn: 0.1104230\ttotal: 816ms\tremaining: 1.17s\n",
      "411:\tlearn: 0.1103587\ttotal: 817ms\tremaining: 1.17s\n",
      "412:\tlearn: 0.1100057\ttotal: 819ms\tremaining: 1.16s\n",
      "413:\tlearn: 0.1099423\ttotal: 819ms\tremaining: 1.16s\n",
      "414:\tlearn: 0.1094236\ttotal: 820ms\tremaining: 1.16s\n",
      "415:\tlearn: 0.1093613\ttotal: 820ms\tremaining: 1.15s\n",
      "416:\tlearn: 0.1089081\ttotal: 824ms\tremaining: 1.15s\n",
      "417:\tlearn: 0.1085650\ttotal: 824ms\tremaining: 1.15s\n",
      "418:\tlearn: 0.1082824\ttotal: 825ms\tremaining: 1.14s\n",
      "419:\tlearn: 0.1077317\ttotal: 826ms\tremaining: 1.14s\n",
      "420:\tlearn: 0.1076710\ttotal: 826ms\tremaining: 1.14s\n",
      "421:\tlearn: 0.1075762\ttotal: 827ms\tremaining: 1.13s\n",
      "422:\tlearn: 0.1070120\ttotal: 828ms\tremaining: 1.13s\n",
      "423:\tlearn: 0.1069528\ttotal: 830ms\tremaining: 1.13s\n",
      "424:\tlearn: 0.1066202\ttotal: 831ms\tremaining: 1.12s\n",
      "425:\tlearn: 0.1061208\ttotal: 831ms\tremaining: 1.12s\n",
      "426:\tlearn: 0.1060625\ttotal: 833ms\tremaining: 1.12s\n",
      "427:\tlearn: 0.1057237\ttotal: 833ms\tremaining: 1.11s\n",
      "428:\tlearn: 0.1056300\ttotal: 834ms\tremaining: 1.11s\n",
      "429:\tlearn: 0.1052525\ttotal: 834ms\tremaining: 1.1s\n",
      "430:\tlearn: 0.1051972\ttotal: 837ms\tremaining: 1.1s\n",
      "431:\tlearn: 0.1047085\ttotal: 838ms\tremaining: 1.1s\n",
      "432:\tlearn: 0.1046541\ttotal: 838ms\tremaining: 1.1s\n",
      "433:\tlearn: 0.1046004\ttotal: 839ms\tremaining: 1.09s\n",
      "434:\tlearn: 0.1042827\ttotal: 839ms\tremaining: 1.09s\n",
      "435:\tlearn: 0.1041938\ttotal: 840ms\tremaining: 1.09s\n",
      "436:\tlearn: 0.1037169\ttotal: 840ms\tremaining: 1.08s\n",
      "437:\tlearn: 0.1031818\ttotal: 841ms\tremaining: 1.08s\n"
     ]
    },
    {
     "name": "stdout",
     "output_type": "stream",
     "text": [
      "438:\tlearn: 0.1028165\ttotal: 844ms\tremaining: 1.08s\n",
      "439:\tlearn: 0.1027647\ttotal: 851ms\tremaining: 1.08s\n",
      "440:\tlearn: 0.1027136\ttotal: 852ms\tremaining: 1.08s\n",
      "441:\tlearn: 0.1022497\ttotal: 854ms\tremaining: 1.08s\n",
      "442:\tlearn: 0.1021994\ttotal: 869ms\tremaining: 1.09s\n",
      "443:\tlearn: 0.1018846\ttotal: 870ms\tremaining: 1.09s\n",
      "444:\tlearn: 0.1018350\ttotal: 870ms\tremaining: 1.08s\n",
      "445:\tlearn: 0.1013785\ttotal: 871ms\tremaining: 1.08s\n",
      "446:\tlearn: 0.1012955\ttotal: 871ms\tremaining: 1.08s\n",
      "447:\tlearn: 0.1009514\ttotal: 875ms\tremaining: 1.08s\n",
      "448:\tlearn: 0.1006116\ttotal: 875ms\tremaining: 1.07s\n",
      "449:\tlearn: 0.1003194\ttotal: 876ms\tremaining: 1.07s\n",
      "450:\tlearn: 0.1002384\ttotal: 876ms\tremaining: 1.07s\n",
      "451:\tlearn: 0.0997089\ttotal: 877ms\tremaining: 1.06s\n",
      "452:\tlearn: 0.0993737\ttotal: 878ms\tremaining: 1.06s\n",
      "453:\tlearn: 0.0988231\ttotal: 881ms\tremaining: 1.06s\n",
      "454:\tlearn: 0.0985269\ttotal: 882ms\tremaining: 1.06s\n",
      "455:\tlearn: 0.0980861\ttotal: 888ms\tremaining: 1.06s\n",
      "456:\tlearn: 0.0977982\ttotal: 890ms\tremaining: 1.06s\n",
      "457:\tlearn: 0.0973609\ttotal: 893ms\tremaining: 1.06s\n",
      "458:\tlearn: 0.0968669\ttotal: 894ms\tremaining: 1.05s\n",
      "459:\tlearn: 0.0963601\ttotal: 895ms\tremaining: 1.05s\n",
      "460:\tlearn: 0.0958356\ttotal: 897ms\tremaining: 1.05s\n",
      "461:\tlearn: 0.0955865\ttotal: 898ms\tremaining: 1.04s\n",
      "462:\tlearn: 0.0953215\ttotal: 899ms\tremaining: 1.04s\n",
      "463:\tlearn: 0.0951485\ttotal: 900ms\tremaining: 1.04s\n",
      "464:\tlearn: 0.0946712\ttotal: 900ms\tremaining: 1.03s\n",
      "465:\tlearn: 0.0945564\ttotal: 901ms\tremaining: 1.03s\n",
      "466:\tlearn: 0.0940682\ttotal: 903ms\tremaining: 1.03s\n",
      "467:\tlearn: 0.0936976\ttotal: 904ms\tremaining: 1.03s\n",
      "468:\tlearn: 0.0932795\ttotal: 905ms\tremaining: 1.02s\n",
      "469:\tlearn: 0.0930921\ttotal: 908ms\tremaining: 1.02s\n",
      "470:\tlearn: 0.0925784\ttotal: 908ms\tremaining: 1.02s\n",
      "471:\tlearn: 0.0924141\ttotal: 909ms\tremaining: 1.02s\n",
      "472:\tlearn: 0.0923440\ttotal: 910ms\tremaining: 1.01s\n",
      "473:\tlearn: 0.0919342\ttotal: 912ms\tremaining: 1.01s\n",
      "474:\tlearn: 0.0916407\ttotal: 913ms\tremaining: 1.01s\n",
      "475:\tlearn: 0.0915793\ttotal: 914ms\tremaining: 1.01s\n",
      "476:\tlearn: 0.0912245\ttotal: 915ms\tremaining: 1s\n",
      "477:\tlearn: 0.0908665\ttotal: 915ms\tremaining: 1000ms\n",
      "478:\tlearn: 0.0907968\ttotal: 916ms\tremaining: 996ms\n",
      "479:\tlearn: 0.0906184\ttotal: 918ms\tremaining: 994ms\n",
      "480:\tlearn: 0.0901272\ttotal: 919ms\tremaining: 991ms\n",
      "481:\tlearn: 0.0900591\ttotal: 919ms\tremaining: 988ms\n",
      "482:\tlearn: 0.0896630\ttotal: 921ms\tremaining: 985ms\n",
      "483:\tlearn: 0.0894155\ttotal: 921ms\tremaining: 982ms\n",
      "484:\tlearn: 0.0893123\ttotal: 922ms\tremaining: 979ms\n",
      "485:\tlearn: 0.0892469\ttotal: 922ms\tremaining: 975ms\n",
      "486:\tlearn: 0.0887706\ttotal: 925ms\tremaining: 974ms\n",
      "487:\tlearn: 0.0884306\ttotal: 926ms\tremaining: 971ms\n",
      "488:\tlearn: 0.0882587\ttotal: 926ms\tremaining: 968ms\n",
      "489:\tlearn: 0.0879251\ttotal: 926ms\tremaining: 964ms\n"
     ]
    },
    {
     "name": "stdout",
     "output_type": "stream",
     "text": [
      "490:\tlearn: 0.0875819\ttotal: 932ms\tremaining: 966ms\n",
      "491:\tlearn: 0.0875182\ttotal: 934ms\tremaining: 965ms\n",
      "492:\tlearn: 0.0873508\ttotal: 935ms\tremaining: 961ms\n",
      "493:\tlearn: 0.0870247\ttotal: 935ms\tremaining: 958ms\n",
      "494:\tlearn: 0.0866887\ttotal: 936ms\tremaining: 955ms\n",
      "495:\tlearn: 0.0866263\ttotal: 937ms\tremaining: 952ms\n",
      "496:\tlearn: 0.0864631\ttotal: 938ms\tremaining: 950ms\n",
      "497:\tlearn: 0.0864096\ttotal: 939ms\tremaining: 946ms\n",
      "498:\tlearn: 0.0860910\ttotal: 942ms\tremaining: 946ms\n",
      "499:\tlearn: 0.0857620\ttotal: 944ms\tremaining: 944ms\n",
      "500:\tlearn: 0.0857013\ttotal: 946ms\tremaining: 943ms\n",
      "501:\tlearn: 0.0853769\ttotal: 948ms\tremaining: 940ms\n",
      "502:\tlearn: 0.0850663\ttotal: 949ms\tremaining: 937ms\n",
      "503:\tlearn: 0.0847476\ttotal: 949ms\tremaining: 934ms\n",
      "504:\tlearn: 0.0845903\ttotal: 950ms\tremaining: 931ms\n",
      "505:\tlearn: 0.0845308\ttotal: 952ms\tremaining: 929ms\n",
      "506:\tlearn: 0.0841527\ttotal: 953ms\tremaining: 926ms\n",
      "507:\tlearn: 0.0839983\ttotal: 968ms\tremaining: 938ms\n",
      "508:\tlearn: 0.0837504\ttotal: 972ms\tremaining: 938ms\n",
      "509:\tlearn: 0.0836923\ttotal: 974ms\tremaining: 936ms\n",
      "510:\tlearn: 0.0833170\ttotal: 975ms\tremaining: 933ms\n",
      "511:\tlearn: 0.0832275\ttotal: 975ms\tremaining: 930ms\n",
      "512:\tlearn: 0.0829155\ttotal: 979ms\tremaining: 929ms\n",
      "513:\tlearn: 0.0826174\ttotal: 982ms\tremaining: 928ms\n",
      "514:\tlearn: 0.0823109\ttotal: 986ms\tremaining: 928ms\n",
      "515:\tlearn: 0.0821614\ttotal: 989ms\tremaining: 927ms\n",
      "516:\tlearn: 0.0821055\ttotal: 991ms\tremaining: 926ms\n",
      "517:\tlearn: 0.0818038\ttotal: 995ms\tremaining: 926ms\n",
      "518:\tlearn: 0.0817490\ttotal: 996ms\tremaining: 923ms\n",
      "519:\tlearn: 0.0816028\ttotal: 999ms\tremaining: 922ms\n",
      "520:\tlearn: 0.0813130\ttotal: 1s\tremaining: 921ms\n",
      "521:\tlearn: 0.0812591\ttotal: 1s\tremaining: 918ms\n",
      "522:\tlearn: 0.0809635\ttotal: 1s\tremaining: 917ms\n",
      "523:\tlearn: 0.0808209\ttotal: 1.01s\tremaining: 916ms\n",
      "524:\tlearn: 0.0805135\ttotal: 1.01s\tremaining: 912ms\n",
      "525:\tlearn: 0.0801238\ttotal: 1.01s\tremaining: 910ms\n",
      "526:\tlearn: 0.0798854\ttotal: 1.01s\tremaining: 909ms\n",
      "527:\tlearn: 0.0795303\ttotal: 1.01s\tremaining: 907ms\n",
      "528:\tlearn: 0.0792509\ttotal: 1.01s\tremaining: 904ms\n",
      "529:\tlearn: 0.0791688\ttotal: 1.02s\tremaining: 901ms\n",
      "530:\tlearn: 0.0788202\ttotal: 1.02s\tremaining: 898ms\n",
      "531:\tlearn: 0.0785319\ttotal: 1.02s\tremaining: 897ms\n",
      "532:\tlearn: 0.0782966\ttotal: 1.02s\tremaining: 894ms\n",
      "533:\tlearn: 0.0782452\ttotal: 1.02s\tremaining: 891ms\n",
      "534:\tlearn: 0.0779737\ttotal: 1.02s\tremaining: 888ms\n",
      "535:\tlearn: 0.0776905\ttotal: 1.02s\tremaining: 885ms\n",
      "536:\tlearn: 0.0773993\ttotal: 1.02s\tremaining: 883ms\n",
      "537:\tlearn: 0.0770305\ttotal: 1.03s\tremaining: 881ms\n",
      "538:\tlearn: 0.0767665\ttotal: 1.03s\tremaining: 879ms\n",
      "539:\tlearn: 0.0766314\ttotal: 1.03s\tremaining: 876ms\n",
      "540:\tlearn: 0.0765813\ttotal: 1.03s\tremaining: 874ms\n",
      "541:\tlearn: 0.0763046\ttotal: 1.03s\tremaining: 872ms\n",
      "542:\tlearn: 0.0760464\ttotal: 1.03s\tremaining: 869ms\n",
      "543:\tlearn: 0.0756541\ttotal: 1.03s\tremaining: 867ms\n",
      "544:\tlearn: 0.0753770\ttotal: 1.03s\tremaining: 864ms\n",
      "545:\tlearn: 0.0750476\ttotal: 1.03s\tremaining: 861ms\n",
      "546:\tlearn: 0.0748212\ttotal: 1.04s\tremaining: 858ms\n",
      "547:\tlearn: 0.0747724\ttotal: 1.04s\tremaining: 856ms\n",
      "548:\tlearn: 0.0743870\ttotal: 1.04s\tremaining: 853ms\n",
      "549:\tlearn: 0.0740642\ttotal: 1.04s\tremaining: 851ms\n",
      "550:\tlearn: 0.0738423\ttotal: 1.04s\tremaining: 849ms\n",
      "551:\tlearn: 0.0734665\ttotal: 1.04s\tremaining: 846ms\n",
      "552:\tlearn: 0.0733125\ttotal: 1.04s\tremaining: 843ms\n",
      "553:\tlearn: 0.0730673\ttotal: 1.04s\tremaining: 840ms\n",
      "554:\tlearn: 0.0729160\ttotal: 1.04s\tremaining: 837ms\n",
      "555:\tlearn: 0.0727673\ttotal: 1.05s\tremaining: 836ms\n",
      "556:\tlearn: 0.0726604\ttotal: 1.05s\tremaining: 833ms\n",
      "557:\tlearn: 0.0724200\ttotal: 1.05s\tremaining: 830ms\n",
      "558:\tlearn: 0.0721601\ttotal: 1.05s\tremaining: 827ms\n",
      "559:\tlearn: 0.0719180\ttotal: 1.05s\tremaining: 824ms\n",
      "560:\tlearn: 0.0715154\ttotal: 1.05s\tremaining: 821ms\n",
      "561:\tlearn: 0.0714679\ttotal: 1.05s\tremaining: 819ms\n",
      "562:\tlearn: 0.0711296\ttotal: 1.05s\tremaining: 818ms\n"
     ]
    },
    {
     "name": "stdout",
     "output_type": "stream",
     "text": [
      "563:\tlearn: 0.0709193\ttotal: 1.05s\tremaining: 816ms\n",
      "564:\tlearn: 0.0708729\ttotal: 1.06s\tremaining: 817ms\n",
      "565:\tlearn: 0.0706403\ttotal: 1.06s\tremaining: 814ms\n",
      "566:\tlearn: 0.0703350\ttotal: 1.06s\tremaining: 812ms\n",
      "567:\tlearn: 0.0702895\ttotal: 1.06s\tremaining: 809ms\n",
      "568:\tlearn: 0.0701459\ttotal: 1.06s\tremaining: 806ms\n",
      "569:\tlearn: 0.0699183\ttotal: 1.06s\tremaining: 803ms\n",
      "570:\tlearn: 0.0697772\ttotal: 1.07s\tremaining: 801ms\n",
      "571:\tlearn: 0.0695311\ttotal: 1.07s\tremaining: 804ms\n",
      "572:\tlearn: 0.0693437\ttotal: 1.07s\tremaining: 802ms\n",
      "573:\tlearn: 0.0691545\ttotal: 1.08s\tremaining: 799ms\n",
      "574:\tlearn: 0.0689495\ttotal: 1.08s\tremaining: 796ms\n",
      "575:\tlearn: 0.0686531\ttotal: 1.08s\tremaining: 794ms\n",
      "576:\tlearn: 0.0683614\ttotal: 1.08s\tremaining: 791ms\n",
      "577:\tlearn: 0.0681622\ttotal: 1.08s\tremaining: 788ms\n",
      "578:\tlearn: 0.0681179\ttotal: 1.08s\tremaining: 785ms\n",
      "579:\tlearn: 0.0680744\ttotal: 1.08s\tremaining: 782ms\n",
      "580:\tlearn: 0.0678446\ttotal: 1.08s\tremaining: 780ms\n",
      "581:\tlearn: 0.0675034\ttotal: 1.08s\tremaining: 777ms\n",
      "582:\tlearn: 0.0672773\ttotal: 1.08s\tremaining: 775ms\n",
      "583:\tlearn: 0.0671029\ttotal: 1.08s\tremaining: 773ms\n",
      "584:\tlearn: 0.0668813\ttotal: 1.08s\tremaining: 770ms\n",
      "585:\tlearn: 0.0666345\ttotal: 1.09s\tremaining: 768ms\n",
      "586:\tlearn: 0.0663251\ttotal: 1.09s\tremaining: 767ms\n",
      "587:\tlearn: 0.0661071\ttotal: 1.09s\tremaining: 764ms\n",
      "588:\tlearn: 0.0659568\ttotal: 1.09s\tremaining: 761ms\n",
      "589:\tlearn: 0.0656264\ttotal: 1.09s\tremaining: 760ms\n",
      "590:\tlearn: 0.0653890\ttotal: 1.09s\tremaining: 757ms\n",
      "591:\tlearn: 0.0650886\ttotal: 1.1s\tremaining: 756ms\n",
      "592:\tlearn: 0.0647666\ttotal: 1.1s\tremaining: 754ms\n",
      "593:\tlearn: 0.0644862\ttotal: 1.1s\tremaining: 752ms\n",
      "594:\tlearn: 0.0642728\ttotal: 1.1s\tremaining: 749ms\n",
      "595:\tlearn: 0.0640053\ttotal: 1.1s\tremaining: 748ms\n",
      "596:\tlearn: 0.0638630\ttotal: 1.1s\tremaining: 745ms\n",
      "597:\tlearn: 0.0636987\ttotal: 1.1s\tremaining: 742ms\n",
      "598:\tlearn: 0.0633869\ttotal: 1.1s\tremaining: 740ms\n",
      "599:\tlearn: 0.0632204\ttotal: 1.1s\tremaining: 737ms\n",
      "600:\tlearn: 0.0630121\ttotal: 1.1s\tremaining: 734ms\n",
      "601:\tlearn: 0.0627657\ttotal: 1.11s\tremaining: 731ms\n",
      "602:\tlearn: 0.0625010\ttotal: 1.11s\tremaining: 729ms\n",
      "603:\tlearn: 0.0624656\ttotal: 1.11s\tremaining: 727ms\n",
      "604:\tlearn: 0.0622606\ttotal: 1.11s\tremaining: 725ms\n",
      "605:\tlearn: 0.0620582\ttotal: 1.11s\tremaining: 722ms\n",
      "606:\tlearn: 0.0618975\ttotal: 1.11s\tremaining: 720ms\n",
      "607:\tlearn: 0.0616406\ttotal: 1.11s\tremaining: 717ms\n",
      "608:\tlearn: 0.0614839\ttotal: 1.11s\tremaining: 714ms\n",
      "609:\tlearn: 0.0612581\ttotal: 1.11s\tremaining: 712ms\n",
      "610:\tlearn: 0.0610428\ttotal: 1.11s\tremaining: 709ms\n",
      "611:\tlearn: 0.0608910\ttotal: 1.11s\tremaining: 707ms\n",
      "612:\tlearn: 0.0606777\ttotal: 1.11s\tremaining: 704ms\n",
      "613:\tlearn: 0.0604600\ttotal: 1.11s\tremaining: 701ms\n",
      "614:\tlearn: 0.0602498\ttotal: 1.12s\tremaining: 699ms\n",
      "615:\tlearn: 0.0601017\ttotal: 1.12s\tremaining: 696ms\n",
      "616:\tlearn: 0.0598543\ttotal: 1.12s\tremaining: 693ms\n",
      "617:\tlearn: 0.0597105\ttotal: 1.12s\tremaining: 691ms\n",
      "618:\tlearn: 0.0596150\ttotal: 1.12s\tremaining: 688ms\n",
      "619:\tlearn: 0.0594038\ttotal: 1.12s\tremaining: 686ms\n",
      "620:\tlearn: 0.0592635\ttotal: 1.12s\tremaining: 683ms\n",
      "621:\tlearn: 0.0590560\ttotal: 1.12s\tremaining: 681ms\n",
      "622:\tlearn: 0.0588172\ttotal: 1.12s\tremaining: 678ms\n",
      "623:\tlearn: 0.0587235\ttotal: 1.12s\tremaining: 675ms\n",
      "624:\tlearn: 0.0585868\ttotal: 1.12s\tremaining: 673ms\n",
      "625:\tlearn: 0.0584946\ttotal: 1.12s\tremaining: 670ms\n",
      "626:\tlearn: 0.0582920\ttotal: 1.12s\tremaining: 668ms\n",
      "627:\tlearn: 0.0581597\ttotal: 1.12s\tremaining: 665ms\n",
      "628:\tlearn: 0.0579557\ttotal: 1.12s\tremaining: 663ms\n",
      "629:\tlearn: 0.0577806\ttotal: 1.12s\tremaining: 660ms\n",
      "630:\tlearn: 0.0576910\ttotal: 1.12s\tremaining: 658ms\n",
      "631:\tlearn: 0.0574588\ttotal: 1.13s\tremaining: 656ms\n",
      "632:\tlearn: 0.0572297\ttotal: 1.13s\tremaining: 653ms\n",
      "633:\tlearn: 0.0571413\ttotal: 1.13s\tremaining: 651ms\n",
      "634:\tlearn: 0.0569188\ttotal: 1.13s\tremaining: 648ms\n",
      "635:\tlearn: 0.0566920\ttotal: 1.13s\tremaining: 646ms\n",
      "636:\tlearn: 0.0564686\ttotal: 1.13s\tremaining: 643ms\n",
      "637:\tlearn: 0.0562500\ttotal: 1.13s\tremaining: 641ms\n",
      "638:\tlearn: 0.0561948\ttotal: 1.13s\tremaining: 639ms\n",
      "639:\tlearn: 0.0561080\ttotal: 1.13s\tremaining: 636ms\n",
      "640:\tlearn: 0.0560780\ttotal: 1.13s\tremaining: 634ms\n",
      "641:\tlearn: 0.0558590\ttotal: 1.13s\tremaining: 632ms\n",
      "642:\tlearn: 0.0556474\ttotal: 1.13s\tremaining: 630ms\n",
      "643:\tlearn: 0.0555938\ttotal: 1.14s\tremaining: 628ms\n",
      "644:\tlearn: 0.0554063\ttotal: 1.14s\tremaining: 625ms\n",
      "645:\tlearn: 0.0553773\ttotal: 1.14s\tremaining: 624ms\n",
      "646:\tlearn: 0.0552513\ttotal: 1.14s\tremaining: 622ms\n",
      "647:\tlearn: 0.0552227\ttotal: 1.14s\tremaining: 619ms\n",
      "648:\tlearn: 0.0550081\ttotal: 1.14s\tremaining: 617ms\n",
      "649:\tlearn: 0.0548961\ttotal: 1.14s\tremaining: 615ms\n",
      "650:\tlearn: 0.0546846\ttotal: 1.14s\tremaining: 612ms\n",
      "651:\tlearn: 0.0543814\ttotal: 1.14s\tremaining: 610ms\n",
      "652:\tlearn: 0.0541745\ttotal: 1.14s\tremaining: 608ms\n",
      "653:\tlearn: 0.0539813\ttotal: 1.14s\tremaining: 605ms\n",
      "654:\tlearn: 0.0537828\ttotal: 1.14s\tremaining: 603ms\n",
      "655:\tlearn: 0.0535800\ttotal: 1.15s\tremaining: 600ms\n",
      "656:\tlearn: 0.0534599\ttotal: 1.15s\tremaining: 598ms\n",
      "657:\tlearn: 0.0532599\ttotal: 1.15s\tremaining: 596ms\n",
      "658:\tlearn: 0.0531367\ttotal: 1.15s\tremaining: 594ms\n",
      "659:\tlearn: 0.0529954\ttotal: 1.15s\tremaining: 591ms\n",
      "660:\tlearn: 0.0527431\ttotal: 1.15s\tremaining: 590ms\n",
      "661:\tlearn: 0.0525535\ttotal: 1.15s\tremaining: 588ms\n",
      "662:\tlearn: 0.0523588\ttotal: 1.15s\tremaining: 585ms\n",
      "663:\tlearn: 0.0521444\ttotal: 1.15s\tremaining: 584ms\n",
      "664:\tlearn: 0.0519561\ttotal: 1.16s\tremaining: 582ms\n",
      "665:\tlearn: 0.0518173\ttotal: 1.16s\tremaining: 580ms\n",
      "666:\tlearn: 0.0516453\ttotal: 1.16s\tremaining: 578ms\n",
      "667:\tlearn: 0.0514557\ttotal: 1.16s\tremaining: 575ms\n",
      "668:\tlearn: 0.0512687\ttotal: 1.16s\tremaining: 573ms\n",
      "669:\tlearn: 0.0510843\ttotal: 1.16s\tremaining: 571ms\n",
      "670:\tlearn: 0.0510351\ttotal: 1.16s\tremaining: 569ms\n",
      "671:\tlearn: 0.0509124\ttotal: 1.16s\tremaining: 567ms\n",
      "672:\tlearn: 0.0508831\ttotal: 1.16s\tremaining: 565ms\n",
      "673:\tlearn: 0.0507013\ttotal: 1.16s\tremaining: 563ms\n",
      "674:\tlearn: 0.0505219\ttotal: 1.16s\tremaining: 560ms\n",
      "675:\tlearn: 0.0504754\ttotal: 1.17s\tremaining: 559ms\n",
      "676:\tlearn: 0.0503081\ttotal: 1.17s\tremaining: 557ms\n",
      "677:\tlearn: 0.0501309\ttotal: 1.17s\tremaining: 557ms\n",
      "678:\tlearn: 0.0499561\ttotal: 1.18s\tremaining: 556ms\n",
      "679:\tlearn: 0.0499110\ttotal: 1.18s\tremaining: 553ms\n",
      "680:\tlearn: 0.0497387\ttotal: 1.18s\tremaining: 551ms\n",
      "681:\tlearn: 0.0494155\ttotal: 1.18s\tremaining: 550ms\n",
      "682:\tlearn: 0.0492471\ttotal: 1.18s\tremaining: 550ms\n",
      "683:\tlearn: 0.0492257\ttotal: 1.19s\tremaining: 547ms\n",
      "684:\tlearn: 0.0490597\ttotal: 1.19s\tremaining: 545ms\n",
      "685:\tlearn: 0.0487761\ttotal: 1.19s\tremaining: 543ms\n",
      "686:\tlearn: 0.0486136\ttotal: 1.19s\tremaining: 541ms\n",
      "687:\tlearn: 0.0485700\ttotal: 1.19s\tremaining: 539ms\n",
      "688:\tlearn: 0.0484098\ttotal: 1.19s\tremaining: 536ms\n",
      "689:\tlearn: 0.0481359\ttotal: 1.19s\tremaining: 535ms\n",
      "690:\tlearn: 0.0479544\ttotal: 1.19s\tremaining: 533ms\n",
      "691:\tlearn: 0.0477975\ttotal: 1.19s\tremaining: 532ms\n",
      "692:\tlearn: 0.0476427\ttotal: 1.2s\tremaining: 530ms\n",
      "693:\tlearn: 0.0476219\ttotal: 1.2s\tremaining: 528ms\n",
      "694:\tlearn: 0.0473582\ttotal: 1.2s\tremaining: 526ms\n",
      "695:\tlearn: 0.0472068\ttotal: 1.2s\tremaining: 523ms\n",
      "696:\tlearn: 0.0470720\ttotal: 1.2s\tremaining: 521ms\n",
      "697:\tlearn: 0.0468932\ttotal: 1.2s\tremaining: 519ms\n",
      "698:\tlearn: 0.0467446\ttotal: 1.2s\tremaining: 517ms\n"
     ]
    },
    {
     "name": "stdout",
     "output_type": "stream",
     "text": [
      "699:\tlearn: 0.0465980\ttotal: 1.2s\tremaining: 515ms\n",
      "700:\tlearn: 0.0464195\ttotal: 1.21s\tremaining: 515ms\n",
      "701:\tlearn: 0.0463942\ttotal: 1.21s\tremaining: 514ms\n",
      "702:\tlearn: 0.0461427\ttotal: 1.21s\tremaining: 512ms\n",
      "703:\tlearn: 0.0460118\ttotal: 1.24s\tremaining: 521ms\n",
      "704:\tlearn: 0.0458680\ttotal: 1.24s\tremaining: 519ms\n",
      "705:\tlearn: 0.0456982\ttotal: 1.24s\tremaining: 517ms\n",
      "706:\tlearn: 0.0455571\ttotal: 1.27s\tremaining: 528ms\n",
      "707:\tlearn: 0.0454378\ttotal: 1.27s\tremaining: 526ms\n",
      "708:\tlearn: 0.0452956\ttotal: 1.37s\tremaining: 562ms\n",
      "709:\tlearn: 0.0451684\ttotal: 1.37s\tremaining: 559ms\n",
      "710:\tlearn: 0.0449594\ttotal: 1.37s\tremaining: 557ms\n",
      "711:\tlearn: 0.0448036\ttotal: 1.37s\tremaining: 555ms\n",
      "712:\tlearn: 0.0446892\ttotal: 1.37s\tremaining: 552ms\n",
      "713:\tlearn: 0.0446696\ttotal: 1.37s\tremaining: 550ms\n",
      "714:\tlearn: 0.0446038\ttotal: 1.37s\tremaining: 547ms\n",
      "715:\tlearn: 0.0443689\ttotal: 1.37s\tremaining: 545ms\n",
      "716:\tlearn: 0.0442782\ttotal: 1.37s\tremaining: 542ms\n",
      "717:\tlearn: 0.0441567\ttotal: 1.37s\tremaining: 540ms\n",
      "718:\tlearn: 0.0441374\ttotal: 1.37s\tremaining: 537ms\n",
      "719:\tlearn: 0.0440069\ttotal: 1.38s\tremaining: 535ms\n",
      "720:\tlearn: 0.0439644\ttotal: 1.38s\tremaining: 533ms\n",
      "721:\tlearn: 0.0438047\ttotal: 1.38s\tremaining: 530ms\n",
      "722:\tlearn: 0.0436702\ttotal: 1.38s\tremaining: 528ms\n",
      "723:\tlearn: 0.0434824\ttotal: 1.38s\tremaining: 525ms\n",
      "724:\tlearn: 0.0433131\ttotal: 1.38s\tremaining: 523ms\n",
      "725:\tlearn: 0.0431804\ttotal: 1.38s\tremaining: 520ms\n",
      "726:\tlearn: 0.0430720\ttotal: 1.38s\tremaining: 518ms\n",
      "727:\tlearn: 0.0430532\ttotal: 1.38s\tremaining: 516ms\n",
      "728:\tlearn: 0.0430346\ttotal: 1.38s\tremaining: 513ms\n"
     ]
    },
    {
     "name": "stdout",
     "output_type": "stream",
     "text": [
      "729:\tlearn: 0.0429245\ttotal: 1.38s\tremaining: 511ms\n",
      "730:\tlearn: 0.0429065\ttotal: 1.4s\tremaining: 514ms\n",
      "731:\tlearn: 0.0427598\ttotal: 1.4s\tremaining: 512ms\n",
      "732:\tlearn: 0.0426155\ttotal: 1.4s\tremaining: 509ms\n",
      "733:\tlearn: 0.0424633\ttotal: 1.4s\tremaining: 507ms\n",
      "734:\tlearn: 0.0423217\ttotal: 1.4s\tremaining: 504ms\n",
      "735:\tlearn: 0.0421955\ttotal: 1.4s\tremaining: 504ms\n",
      "736:\tlearn: 0.0420712\ttotal: 1.41s\tremaining: 502ms\n",
      "737:\tlearn: 0.0420142\ttotal: 1.41s\tremaining: 500ms\n",
      "738:\tlearn: 0.0418011\ttotal: 1.41s\tremaining: 498ms\n",
      "739:\tlearn: 0.0417158\ttotal: 1.41s\tremaining: 496ms\n",
      "740:\tlearn: 0.0415949\ttotal: 1.42s\tremaining: 495ms\n",
      "741:\tlearn: 0.0413876\ttotal: 1.42s\tremaining: 494ms\n",
      "742:\tlearn: 0.0413270\ttotal: 1.42s\tremaining: 491ms\n",
      "743:\tlearn: 0.0411238\ttotal: 1.42s\tremaining: 489ms\n",
      "744:\tlearn: 0.0408860\ttotal: 1.42s\tremaining: 487ms\n",
      "745:\tlearn: 0.0407694\ttotal: 1.42s\tremaining: 485ms\n",
      "746:\tlearn: 0.0405723\ttotal: 1.42s\tremaining: 482ms\n",
      "747:\tlearn: 0.0404444\ttotal: 1.42s\tremaining: 480ms\n",
      "748:\tlearn: 0.0403001\ttotal: 1.42s\tremaining: 477ms\n",
      "749:\tlearn: 0.0401870\ttotal: 1.43s\tremaining: 475ms\n",
      "750:\tlearn: 0.0399811\ttotal: 1.43s\tremaining: 473ms\n",
      "751:\tlearn: 0.0399006\ttotal: 1.43s\tremaining: 471ms\n",
      "752:\tlearn: 0.0398832\ttotal: 1.43s\tremaining: 468ms\n",
      "753:\tlearn: 0.0396930\ttotal: 1.43s\tremaining: 466ms\n",
      "754:\tlearn: 0.0395534\ttotal: 1.43s\tremaining: 464ms\n",
      "755:\tlearn: 0.0395365\ttotal: 1.43s\tremaining: 461ms\n",
      "756:\tlearn: 0.0395198\ttotal: 1.43s\tremaining: 459ms\n",
      "757:\tlearn: 0.0394102\ttotal: 1.43s\tremaining: 457ms\n",
      "758:\tlearn: 0.0392408\ttotal: 1.43s\tremaining: 454ms\n",
      "759:\tlearn: 0.0390576\ttotal: 1.43s\tremaining: 452ms\n",
      "760:\tlearn: 0.0388541\ttotal: 1.43s\tremaining: 450ms\n",
      "761:\tlearn: 0.0388376\ttotal: 1.43s\tremaining: 447ms\n",
      "762:\tlearn: 0.0387513\ttotal: 1.43s\tremaining: 445ms\n",
      "763:\tlearn: 0.0386543\ttotal: 1.43s\tremaining: 443ms\n",
      "764:\tlearn: 0.0386380\ttotal: 1.43s\tremaining: 440ms\n",
      "765:\tlearn: 0.0384752\ttotal: 1.43s\tremaining: 438ms\n",
      "766:\tlearn: 0.0384203\ttotal: 1.44s\tremaining: 436ms\n",
      "767:\tlearn: 0.0383167\ttotal: 1.44s\tremaining: 434ms\n",
      "768:\tlearn: 0.0382317\ttotal: 1.44s\tremaining: 432ms\n",
      "769:\tlearn: 0.0382157\ttotal: 1.44s\tremaining: 429ms\n",
      "770:\tlearn: 0.0381213\ttotal: 1.44s\tremaining: 427ms\n",
      "771:\tlearn: 0.0380678\ttotal: 1.44s\tremaining: 425ms\n",
      "772:\tlearn: 0.0379656\ttotal: 1.44s\tremaining: 422ms\n",
      "773:\tlearn: 0.0377924\ttotal: 1.44s\tremaining: 420ms\n",
      "774:\tlearn: 0.0375973\ttotal: 1.44s\tremaining: 418ms\n",
      "775:\tlearn: 0.0375448\ttotal: 1.44s\tremaining: 416ms\n",
      "776:\tlearn: 0.0373756\ttotal: 1.44s\tremaining: 414ms\n",
      "777:\tlearn: 0.0372931\ttotal: 1.44s\tremaining: 411ms\n",
      "778:\tlearn: 0.0371948\ttotal: 1.44s\tremaining: 409ms\n",
      "779:\tlearn: 0.0370434\ttotal: 1.44s\tremaining: 407ms\n",
      "780:\tlearn: 0.0370276\ttotal: 1.44s\tremaining: 405ms\n",
      "781:\tlearn: 0.0368994\ttotal: 1.44s\tremaining: 402ms\n",
      "782:\tlearn: 0.0368035\ttotal: 1.44s\tremaining: 400ms\n",
      "783:\tlearn: 0.0367228\ttotal: 1.44s\tremaining: 398ms\n",
      "784:\tlearn: 0.0365750\ttotal: 1.45s\tremaining: 396ms\n",
      "785:\tlearn: 0.0365594\ttotal: 1.45s\tremaining: 394ms\n",
      "786:\tlearn: 0.0364736\ttotal: 1.45s\tremaining: 391ms\n",
      "787:\tlearn: 0.0364238\ttotal: 1.45s\tremaining: 389ms\n",
      "788:\tlearn: 0.0363310\ttotal: 1.45s\tremaining: 387ms\n",
      "789:\tlearn: 0.0361728\ttotal: 1.45s\tremaining: 385ms\n",
      "790:\tlearn: 0.0360937\ttotal: 1.45s\tremaining: 383ms\n",
      "791:\tlearn: 0.0359520\ttotal: 1.45s\tremaining: 381ms\n",
      "792:\tlearn: 0.0358296\ttotal: 1.45s\tremaining: 379ms\n",
      "793:\tlearn: 0.0358143\ttotal: 1.45s\tremaining: 377ms\n",
      "794:\tlearn: 0.0357245\ttotal: 1.45s\tremaining: 375ms\n",
      "795:\tlearn: 0.0355645\ttotal: 1.45s\tremaining: 373ms\n",
      "796:\tlearn: 0.0354870\ttotal: 1.46s\tremaining: 371ms\n",
      "797:\tlearn: 0.0354718\ttotal: 1.46s\tremaining: 369ms\n",
      "798:\tlearn: 0.0353619\ttotal: 1.46s\tremaining: 367ms\n",
      "799:\tlearn: 0.0351849\ttotal: 1.46s\tremaining: 365ms\n",
      "800:\tlearn: 0.0351699\ttotal: 1.46s\tremaining: 363ms\n",
      "801:\tlearn: 0.0350383\ttotal: 1.46s\tremaining: 361ms\n",
      "802:\tlearn: 0.0349056\ttotal: 1.46s\tremaining: 359ms\n",
      "803:\tlearn: 0.0348188\ttotal: 1.46s\tremaining: 357ms\n",
      "804:\tlearn: 0.0348040\ttotal: 1.47s\tremaining: 355ms\n",
      "805:\tlearn: 0.0346979\ttotal: 1.47s\tremaining: 353ms\n",
      "806:\tlearn: 0.0345081\ttotal: 1.47s\tremaining: 351ms\n",
      "807:\tlearn: 0.0344192\ttotal: 1.47s\tremaining: 349ms\n",
      "808:\tlearn: 0.0343450\ttotal: 1.47s\tremaining: 346ms\n",
      "809:\tlearn: 0.0342911\ttotal: 1.47s\tremaining: 344ms\n",
      "810:\tlearn: 0.0341608\ttotal: 1.47s\tremaining: 342ms\n",
      "811:\tlearn: 0.0341159\ttotal: 1.47s\tremaining: 340ms\n",
      "812:\tlearn: 0.0339494\ttotal: 1.47s\tremaining: 338ms\n",
      "813:\tlearn: 0.0339348\ttotal: 1.47s\tremaining: 336ms\n",
      "814:\tlearn: 0.0339206\ttotal: 1.47s\tremaining: 334ms\n",
      "815:\tlearn: 0.0338393\ttotal: 1.47s\tremaining: 332ms\n",
      "816:\tlearn: 0.0338252\ttotal: 1.47s\tremaining: 330ms\n",
      "817:\tlearn: 0.0336720\ttotal: 1.47s\tremaining: 328ms\n",
      "818:\tlearn: 0.0336581\ttotal: 1.47s\tremaining: 326ms\n",
      "819:\tlearn: 0.0335344\ttotal: 1.47s\tremaining: 323ms\n",
      "820:\tlearn: 0.0334323\ttotal: 1.47s\tremaining: 321ms\n",
      "821:\tlearn: 0.0332543\ttotal: 1.47s\tremaining: 319ms\n",
      "822:\tlearn: 0.0331686\ttotal: 1.48s\tremaining: 317ms\n",
      "823:\tlearn: 0.0330896\ttotal: 1.48s\tremaining: 315ms\n",
      "824:\tlearn: 0.0330470\ttotal: 1.48s\tremaining: 313ms\n",
      "825:\tlearn: 0.0328856\ttotal: 1.48s\tremaining: 311ms\n",
      "826:\tlearn: 0.0328389\ttotal: 1.48s\tremaining: 309ms\n",
      "827:\tlearn: 0.0326794\ttotal: 1.48s\tremaining: 307ms\n",
      "828:\tlearn: 0.0326658\ttotal: 1.48s\tremaining: 305ms\n",
      "829:\tlearn: 0.0325431\ttotal: 1.48s\tremaining: 303ms\n",
      "830:\tlearn: 0.0325019\ttotal: 1.48s\tremaining: 301ms\n",
      "831:\tlearn: 0.0324264\ttotal: 1.48s\tremaining: 299ms\n",
      "832:\tlearn: 0.0324130\ttotal: 1.48s\tremaining: 297ms\n",
      "833:\tlearn: 0.0323999\ttotal: 1.48s\tremaining: 295ms\n",
      "834:\tlearn: 0.0322602\ttotal: 1.48s\tremaining: 293ms\n",
      "835:\tlearn: 0.0321151\ttotal: 1.48s\tremaining: 291ms\n",
      "836:\tlearn: 0.0320321\ttotal: 1.48s\tremaining: 289ms\n",
      "837:\tlearn: 0.0319166\ttotal: 1.48s\tremaining: 287ms\n",
      "838:\tlearn: 0.0318769\ttotal: 1.48s\tremaining: 285ms\n",
      "839:\tlearn: 0.0317533\ttotal: 1.48s\tremaining: 283ms\n",
      "840:\tlearn: 0.0316060\ttotal: 1.48s\tremaining: 281ms\n",
      "841:\tlearn: 0.0315931\ttotal: 1.49s\tremaining: 279ms\n",
      "842:\tlearn: 0.0314855\ttotal: 1.49s\tremaining: 277ms\n",
      "843:\tlearn: 0.0313455\ttotal: 1.49s\tremaining: 275ms\n",
      "844:\tlearn: 0.0312186\ttotal: 1.49s\tremaining: 273ms\n",
      "845:\tlearn: 0.0310677\ttotal: 1.49s\tremaining: 271ms\n",
      "846:\tlearn: 0.0309885\ttotal: 1.49s\tremaining: 269ms\n",
      "847:\tlearn: 0.0308707\ttotal: 1.49s\tremaining: 267ms\n",
      "848:\tlearn: 0.0307669\ttotal: 1.49s\tremaining: 265ms\n",
      "849:\tlearn: 0.0306649\ttotal: 1.49s\tremaining: 263ms\n",
      "850:\tlearn: 0.0305758\ttotal: 1.49s\tremaining: 261ms\n",
      "851:\tlearn: 0.0304288\ttotal: 1.49s\tremaining: 259ms\n",
      "852:\tlearn: 0.0303293\ttotal: 1.49s\tremaining: 257ms\n",
      "853:\tlearn: 0.0302370\ttotal: 1.49s\tremaining: 255ms\n",
      "854:\tlearn: 0.0301028\ttotal: 1.49s\tremaining: 253ms\n"
     ]
    },
    {
     "name": "stdout",
     "output_type": "stream",
     "text": [
      "855:\tlearn: 0.0300147\ttotal: 1.49s\tremaining: 251ms\n",
      "856:\tlearn: 0.0299244\ttotal: 1.49s\tremaining: 249ms\n",
      "857:\tlearn: 0.0298445\ttotal: 1.5s\tremaining: 248ms\n",
      "858:\tlearn: 0.0297146\ttotal: 1.5s\tremaining: 246ms\n",
      "859:\tlearn: 0.0296023\ttotal: 1.5s\tremaining: 244ms\n",
      "860:\tlearn: 0.0295244\ttotal: 1.5s\tremaining: 242ms\n",
      "861:\tlearn: 0.0293834\ttotal: 1.5s\tremaining: 240ms\n",
      "862:\tlearn: 0.0292734\ttotal: 1.5s\tremaining: 238ms\n",
      "863:\tlearn: 0.0292617\ttotal: 1.5s\tremaining: 236ms\n",
      "864:\tlearn: 0.0292502\ttotal: 1.5s\tremaining: 234ms\n",
      "865:\tlearn: 0.0291250\ttotal: 1.5s\tremaining: 232ms\n",
      "866:\tlearn: 0.0290372\ttotal: 1.5s\tremaining: 231ms\n",
      "867:\tlearn: 0.0289296\ttotal: 1.5s\tremaining: 229ms\n",
      "868:\tlearn: 0.0288775\ttotal: 1.5s\tremaining: 227ms\n",
      "869:\tlearn: 0.0288263\ttotal: 1.5s\tremaining: 225ms\n",
      "870:\tlearn: 0.0286901\ttotal: 1.5s\tremaining: 223ms\n",
      "871:\tlearn: 0.0285825\ttotal: 1.5s\tremaining: 221ms\n",
      "872:\tlearn: 0.0285327\ttotal: 1.5s\tremaining: 219ms\n",
      "873:\tlearn: 0.0283996\ttotal: 1.51s\tremaining: 217ms\n",
      "874:\tlearn: 0.0282957\ttotal: 1.51s\tremaining: 215ms\n",
      "875:\tlearn: 0.0282472\ttotal: 1.51s\tremaining: 213ms\n",
      "876:\tlearn: 0.0281125\ttotal: 1.51s\tremaining: 211ms\n",
      "877:\tlearn: 0.0280647\ttotal: 1.51s\tremaining: 210ms\n",
      "878:\tlearn: 0.0279459\ttotal: 1.51s\tremaining: 208ms\n",
      "879:\tlearn: 0.0278630\ttotal: 1.51s\tremaining: 206ms\n",
      "880:\tlearn: 0.0277340\ttotal: 1.51s\tremaining: 204ms\n",
      "881:\tlearn: 0.0276349\ttotal: 1.51s\tremaining: 202ms\n",
      "882:\tlearn: 0.0275334\ttotal: 1.51s\tremaining: 200ms\n",
      "883:\tlearn: 0.0274872\ttotal: 1.51s\tremaining: 198ms\n",
      "884:\tlearn: 0.0274418\ttotal: 1.51s\tremaining: 196ms\n",
      "885:\tlearn: 0.0273972\ttotal: 1.51s\tremaining: 195ms\n",
      "886:\tlearn: 0.0272661\ttotal: 1.51s\tremaining: 193ms\n",
      "887:\tlearn: 0.0272224\ttotal: 1.51s\tremaining: 191ms\n",
      "888:\tlearn: 0.0272100\ttotal: 1.51s\tremaining: 189ms\n",
      "889:\tlearn: 0.0271288\ttotal: 1.51s\tremaining: 187ms\n",
      "890:\tlearn: 0.0270151\ttotal: 1.51s\tremaining: 185ms\n",
      "891:\tlearn: 0.0269350\ttotal: 1.51s\tremaining: 183ms\n",
      "892:\tlearn: 0.0268240\ttotal: 1.51s\tremaining: 182ms\n",
      "893:\tlearn: 0.0267448\ttotal: 1.51s\tremaining: 180ms\n",
      "894:\tlearn: 0.0266556\ttotal: 1.51s\tremaining: 178ms\n",
      "895:\tlearn: 0.0265383\ttotal: 1.52s\tremaining: 176ms\n",
      "896:\tlearn: 0.0264596\ttotal: 1.52s\tremaining: 174ms\n",
      "897:\tlearn: 0.0264166\ttotal: 1.52s\tremaining: 172ms\n",
      "898:\tlearn: 0.0263744\ttotal: 1.52s\tremaining: 171ms\n",
      "899:\tlearn: 0.0263329\ttotal: 1.52s\tremaining: 169ms\n",
      "900:\tlearn: 0.0262090\ttotal: 1.52s\tremaining: 167ms\n",
      "901:\tlearn: 0.0260949\ttotal: 1.52s\tremaining: 165ms\n",
      "902:\tlearn: 0.0260540\ttotal: 1.52s\tremaining: 163ms\n",
      "903:\tlearn: 0.0260137\ttotal: 1.52s\tremaining: 161ms\n",
      "904:\tlearn: 0.0259366\ttotal: 1.52s\tremaining: 160ms\n",
      "905:\tlearn: 0.0258320\ttotal: 1.52s\tremaining: 158ms\n",
      "906:\tlearn: 0.0257559\ttotal: 1.52s\tremaining: 156ms\n",
      "907:\tlearn: 0.0256360\ttotal: 1.52s\tremaining: 154ms\n",
      "908:\tlearn: 0.0255265\ttotal: 1.52s\tremaining: 152ms\n",
      "909:\tlearn: 0.0254650\ttotal: 1.52s\tremaining: 151ms\n",
      "910:\tlearn: 0.0254259\ttotal: 1.52s\tremaining: 149ms\n",
      "911:\tlearn: 0.0253252\ttotal: 1.52s\tremaining: 147ms\n",
      "912:\tlearn: 0.0252504\ttotal: 1.52s\tremaining: 145ms\n",
      "913:\tlearn: 0.0251424\ttotal: 1.52s\tremaining: 144ms\n",
      "914:\tlearn: 0.0251040\ttotal: 1.52s\tremaining: 142ms\n",
      "915:\tlearn: 0.0250449\ttotal: 1.53s\tremaining: 140ms\n",
      "916:\tlearn: 0.0249288\ttotal: 1.53s\tremaining: 138ms\n",
      "917:\tlearn: 0.0248321\ttotal: 1.53s\tremaining: 136ms\n",
      "918:\tlearn: 0.0246766\ttotal: 1.53s\tremaining: 135ms\n",
      "919:\tlearn: 0.0246400\ttotal: 1.53s\tremaining: 133ms\n",
      "920:\tlearn: 0.0245666\ttotal: 1.53s\tremaining: 131ms\n",
      "921:\tlearn: 0.0245305\ttotal: 1.53s\tremaining: 129ms\n",
      "922:\tlearn: 0.0244581\ttotal: 1.53s\tremaining: 128ms\n",
      "923:\tlearn: 0.0243500\ttotal: 1.53s\tremaining: 126ms\n",
      "924:\tlearn: 0.0242464\ttotal: 1.53s\tremaining: 124ms\n",
      "925:\tlearn: 0.0242106\ttotal: 1.54s\tremaining: 123ms\n",
      "926:\tlearn: 0.0241753\ttotal: 1.54s\tremaining: 121ms\n",
      "927:\tlearn: 0.0241202\ttotal: 1.54s\tremaining: 120ms\n",
      "928:\tlearn: 0.0240150\ttotal: 1.54s\tremaining: 118ms\n",
      "929:\tlearn: 0.0238423\ttotal: 1.54s\tremaining: 116ms\n",
      "930:\tlearn: 0.0238081\ttotal: 1.54s\tremaining: 114ms\n",
      "931:\tlearn: 0.0237374\ttotal: 1.54s\tremaining: 113ms\n",
      "932:\tlearn: 0.0237037\ttotal: 1.54s\tremaining: 111ms\n",
      "933:\tlearn: 0.0236339\ttotal: 1.54s\tremaining: 109ms\n",
      "934:\tlearn: 0.0235529\ttotal: 1.54s\tremaining: 107ms\n",
      "935:\tlearn: 0.0235196\ttotal: 1.54s\tremaining: 106ms\n",
      "936:\tlearn: 0.0234869\ttotal: 1.55s\tremaining: 104ms\n",
      "937:\tlearn: 0.0234179\ttotal: 1.55s\tremaining: 102ms\n",
      "938:\tlearn: 0.0233164\ttotal: 1.55s\tremaining: 100ms\n",
      "939:\tlearn: 0.0232176\ttotal: 1.55s\tremaining: 98.8ms\n",
      "940:\tlearn: 0.0231852\ttotal: 1.55s\tremaining: 97ms\n",
      "941:\tlearn: 0.0231337\ttotal: 1.55s\tremaining: 95.3ms\n",
      "942:\tlearn: 0.0231244\ttotal: 1.55s\tremaining: 93.6ms\n",
      "943:\tlearn: 0.0229623\ttotal: 1.55s\tremaining: 91.9ms\n",
      "944:\tlearn: 0.0229381\ttotal: 1.55s\tremaining: 90.2ms\n",
      "945:\tlearn: 0.0229292\ttotal: 1.55s\tremaining: 88.5ms\n",
      "946:\tlearn: 0.0229059\ttotal: 1.55s\tremaining: 86.8ms\n",
      "947:\tlearn: 0.0228663\ttotal: 1.55s\tremaining: 85.1ms\n",
      "948:\tlearn: 0.0227973\ttotal: 1.55s\tremaining: 83.4ms\n",
      "949:\tlearn: 0.0227875\ttotal: 1.55s\tremaining: 81.7ms\n",
      "950:\tlearn: 0.0227780\ttotal: 1.55s\tremaining: 80ms\n",
      "951:\tlearn: 0.0227686\ttotal: 1.55s\tremaining: 78.3ms\n",
      "952:\tlearn: 0.0226711\ttotal: 1.55s\tremaining: 76.6ms\n",
      "953:\tlearn: 0.0226326\ttotal: 1.55s\tremaining: 74.9ms\n",
      "954:\tlearn: 0.0225443\ttotal: 1.55s\tremaining: 73.2ms\n",
      "955:\tlearn: 0.0225065\ttotal: 1.55s\tremaining: 71.6ms\n",
      "956:\tlearn: 0.0224390\ttotal: 1.55s\tremaining: 69.9ms\n",
      "957:\tlearn: 0.0224299\ttotal: 1.55s\tremaining: 68.2ms\n",
      "958:\tlearn: 0.0224209\ttotal: 1.55s\tremaining: 66.5ms\n",
      "959:\tlearn: 0.0223330\ttotal: 1.56s\tremaining: 64.9ms\n",
      "960:\tlearn: 0.0223243\ttotal: 1.56s\tremaining: 63.2ms\n",
      "961:\tlearn: 0.0223156\ttotal: 1.56s\tremaining: 61.5ms\n",
      "962:\tlearn: 0.0222301\ttotal: 1.56s\tremaining: 59.9ms\n",
      "963:\tlearn: 0.0221935\ttotal: 1.56s\tremaining: 58.2ms\n",
      "964:\tlearn: 0.0221282\ttotal: 1.56s\tremaining: 56.5ms\n",
      "965:\tlearn: 0.0221198\ttotal: 1.56s\tremaining: 54.9ms\n",
      "966:\tlearn: 0.0220545\ttotal: 1.56s\tremaining: 53.2ms\n",
      "967:\tlearn: 0.0219688\ttotal: 1.56s\tremaining: 51.6ms\n",
      "968:\tlearn: 0.0218957\ttotal: 1.56s\tremaining: 49.9ms\n",
      "969:\tlearn: 0.0218601\ttotal: 1.56s\tremaining: 48.3ms\n",
      "970:\tlearn: 0.0217955\ttotal: 1.56s\tremaining: 46.7ms\n",
      "971:\tlearn: 0.0217873\ttotal: 1.56s\tremaining: 45ms\n",
      "972:\tlearn: 0.0216935\ttotal: 1.56s\tremaining: 43.4ms\n",
      "973:\tlearn: 0.0216588\ttotal: 1.56s\tremaining: 41.7ms\n",
      "974:\tlearn: 0.0215673\ttotal: 1.56s\tremaining: 40.1ms\n",
      "975:\tlearn: 0.0214748\ttotal: 1.56s\tremaining: 38.5ms\n",
      "976:\tlearn: 0.0214114\ttotal: 1.56s\tremaining: 36.8ms\n",
      "977:\tlearn: 0.0213228\ttotal: 1.56s\tremaining: 35.2ms\n",
      "978:\tlearn: 0.0212889\ttotal: 1.56s\tremaining: 33.6ms\n",
      "979:\tlearn: 0.0211989\ttotal: 1.57s\tremaining: 32ms\n",
      "980:\tlearn: 0.0211368\ttotal: 1.57s\tremaining: 30.3ms\n",
      "981:\tlearn: 0.0210428\ttotal: 1.57s\tremaining: 28.7ms\n",
      "982:\tlearn: 0.0209509\ttotal: 1.57s\tremaining: 27.1ms\n",
      "983:\tlearn: 0.0208749\ttotal: 1.57s\tremaining: 25.5ms\n",
      "984:\tlearn: 0.0208420\ttotal: 1.57s\tremaining: 23.9ms\n",
      "985:\tlearn: 0.0208097\ttotal: 1.57s\tremaining: 22.3ms\n",
      "986:\tlearn: 0.0207485\ttotal: 1.57s\tremaining: 20.7ms\n",
      "987:\tlearn: 0.0206589\ttotal: 1.57s\tremaining: 19.1ms\n",
      "988:\tlearn: 0.0206333\ttotal: 1.57s\tremaining: 17.5ms\n",
      "989:\tlearn: 0.0205457\ttotal: 1.57s\tremaining: 15.9ms\n",
      "990:\tlearn: 0.0204851\ttotal: 1.57s\tremaining: 14.3ms\n",
      "991:\tlearn: 0.0204599\ttotal: 1.57s\tremaining: 12.7ms\n",
      "992:\tlearn: 0.0203999\ttotal: 1.57s\tremaining: 11.1ms\n",
      "993:\tlearn: 0.0203407\ttotal: 1.57s\tremaining: 9.5ms\n",
      "994:\tlearn: 0.0202820\ttotal: 1.58s\tremaining: 7.93ms\n",
      "995:\tlearn: 0.0201992\ttotal: 1.58s\tremaining: 6.34ms\n",
      "996:\tlearn: 0.0201071\ttotal: 1.58s\tremaining: 4.75ms\n",
      "997:\tlearn: 0.0200994\ttotal: 1.58s\tremaining: 3.17ms\n",
      "998:\tlearn: 0.0200417\ttotal: 1.58s\tremaining: 1.58ms\n",
      "999:\tlearn: 0.0199849\ttotal: 1.58s\tremaining: 0us\n",
      "Mean Absolute error 0.30402071103099737\n"
     ]
    },
    {
     "data": {
      "application/scrapbook.scrap.json+json": {
       "data": 0.30402071103099737,
       "encoder": "json",
       "name": "Catboost MAE",
       "version": 1
      }
     },
     "metadata": {
      "scrapbook": {
       "data": true,
       "display": false,
       "name": "Catboost MAE"
      }
     },
     "output_type": "display_data"
    }
   ],
   "source": [
    "mae_cb = baselineModels.catboost(X_train,y_train,X_test,y_test)\n",
    "#Store MSE Value\n",
    "sb.glue(\"Catboost MAE\",mae_cb)"
   ]
  },
  {
   "cell_type": "markdown",
   "id": "5d63c62f",
   "metadata": {
    "papermill": {
     "duration": 0.032208,
     "end_time": "2022-06-22T10:50:49.810323",
     "exception": false,
     "start_time": "2022-06-22T10:50:49.778115",
     "status": "completed"
    },
    "tags": []
   },
   "source": [
    "# TabNet regressor"
   ]
  },
  {
   "cell_type": "code",
   "execution_count": 7,
   "id": "01989a3a",
   "metadata": {
    "execution": {
     "iopub.execute_input": "2022-06-22T10:50:49.885067Z",
     "iopub.status.busy": "2022-06-22T10:50:49.882928Z",
     "iopub.status.idle": "2022-06-22T10:50:49.887083Z",
     "shell.execute_reply": "2022-06-22T10:50:49.887684Z"
    },
    "papermill": {
     "duration": 0.050365,
     "end_time": "2022-06-22T10:50:49.887981",
     "exception": false,
     "start_time": "2022-06-22T10:50:49.837616",
     "status": "completed"
    },
    "tags": []
   },
   "outputs": [],
   "source": [
    "n_epochs = 1000\n",
    "batch_size = 32"
   ]
  },
  {
   "cell_type": "code",
   "execution_count": 8,
   "id": "a9621867",
   "metadata": {
    "execution": {
     "iopub.execute_input": "2022-06-22T10:50:49.966903Z",
     "iopub.status.busy": "2022-06-22T10:50:49.964651Z",
     "iopub.status.idle": "2022-06-22T10:51:26.922764Z",
     "shell.execute_reply": "2022-06-22T10:51:26.923548Z"
    },
    "papermill": {
     "duration": 37.010801,
     "end_time": "2022-06-22T10:51:26.923793",
     "exception": false,
     "start_time": "2022-06-22T10:50:49.912992",
     "status": "completed"
    },
    "tags": []
   },
   "outputs": [
    {
     "name": "stdout",
     "output_type": "stream",
     "text": [
      "(80,)\n",
      "Device used : cpu\n"
     ]
    },
    {
     "name": "stdout",
     "output_type": "stream",
     "text": [
      "epoch 0  | loss: 1.17197 | train_mse: 7.16543 | train_mae: 2.14764 |  0:00:01s\n",
      "epoch 1  | loss: 0.98975 | train_mse: 4.59723 | train_mae: 1.64303 |  0:00:01s\n"
     ]
    },
    {
     "name": "stdout",
     "output_type": "stream",
     "text": [
      "epoch 2  | loss: 0.41184 | train_mse: 4.91237 | train_mae: 1.57332 |  0:00:01s\n",
      "epoch 3  | loss: 0.50729 | train_mse: 4.94235 | train_mae: 1.48337 |  0:00:01s\n",
      "epoch 4  | loss: 0.54666 | train_mse: 3.0116  | train_mae: 1.31379 |  0:00:01s\n"
     ]
    },
    {
     "name": "stdout",
     "output_type": "stream",
     "text": [
      "epoch 5  | loss: 0.47403 | train_mse: 1.87317 | train_mae: 1.08429 |  0:00:01s\n"
     ]
    },
    {
     "name": "stdout",
     "output_type": "stream",
     "text": [
      "epoch 6  | loss: 0.4457  | train_mse: 1.58474 | train_mae: 1.04983 |  0:00:02s\n",
      "epoch 7  | loss: 0.33622 | train_mse: 1.28867 | train_mae: 0.92134 |  0:00:02s\n"
     ]
    },
    {
     "name": "stdout",
     "output_type": "stream",
     "text": [
      "epoch 8  | loss: 0.48001 | train_mse: 1.04404 | train_mae: 0.81862 |  0:00:03s\n",
      "epoch 9  | loss: 0.55078 | train_mse: 0.83012 | train_mae: 0.73537 |  0:00:03s\n"
     ]
    },
    {
     "name": "stdout",
     "output_type": "stream",
     "text": [
      "epoch 10 | loss: 0.59689 | train_mse: 0.63728 | train_mae: 0.63015 |  0:00:03s\n"
     ]
    },
    {
     "name": "stdout",
     "output_type": "stream",
     "text": [
      "epoch 11 | loss: 0.43406 | train_mse: 0.64135 | train_mae: 0.62047 |  0:00:03s\n"
     ]
    },
    {
     "name": "stdout",
     "output_type": "stream",
     "text": [
      "epoch 12 | loss: 0.48033 | train_mse: 0.67139 | train_mae: 0.62421 |  0:00:03s\n"
     ]
    },
    {
     "name": "stdout",
     "output_type": "stream",
     "text": [
      "epoch 13 | loss: 0.28717 | train_mse: 0.66129 | train_mae: 0.60006 |  0:00:04s\n"
     ]
    },
    {
     "name": "stdout",
     "output_type": "stream",
     "text": [
      "epoch 14 | loss: 0.40293 | train_mse: 0.69873 | train_mae: 0.59205 |  0:00:04s\n"
     ]
    },
    {
     "name": "stdout",
     "output_type": "stream",
     "text": [
      "epoch 15 | loss: 0.37123 | train_mse: 0.66991 | train_mae: 0.57157 |  0:00:05s\n",
      "epoch 16 | loss: 0.43115 | train_mse: 0.62362 | train_mae: 0.55887 |  0:00:05s\n"
     ]
    },
    {
     "name": "stdout",
     "output_type": "stream",
     "text": [
      "epoch 17 | loss: 0.23512 | train_mse: 0.42813 | train_mae: 0.46741 |  0:00:05s\n"
     ]
    },
    {
     "name": "stdout",
     "output_type": "stream",
     "text": [
      "epoch 18 | loss: 0.25661 | train_mse: 0.30573 | train_mae: 0.40365 |  0:00:05s\n"
     ]
    },
    {
     "name": "stdout",
     "output_type": "stream",
     "text": [
      "epoch 19 | loss: 0.2364  | train_mse: 0.29803 | train_mae: 0.40367 |  0:00:06s\n"
     ]
    },
    {
     "name": "stdout",
     "output_type": "stream",
     "text": [
      "epoch 20 | loss: 0.27939 | train_mse: 0.30113 | train_mae: 0.39045 |  0:00:06s\n"
     ]
    },
    {
     "name": "stdout",
     "output_type": "stream",
     "text": [
      "epoch 21 | loss: 0.18958 | train_mse: 0.32295 | train_mae: 0.40715 |  0:00:06s\n"
     ]
    },
    {
     "name": "stdout",
     "output_type": "stream",
     "text": [
      "epoch 22 | loss: 0.24265 | train_mse: 0.3973  | train_mae: 0.44223 |  0:00:07s\n",
      "epoch 23 | loss: 0.31092 | train_mse: 0.35103 | train_mae: 0.39418 |  0:00:07s\n"
     ]
    },
    {
     "name": "stdout",
     "output_type": "stream",
     "text": [
      "epoch 24 | loss: 0.25757 | train_mse: 0.33233 | train_mae: 0.39596 |  0:00:07s\n",
      "epoch 25 | loss: 0.39919 | train_mse: 0.25245 | train_mae: 0.37087 |  0:00:07s\n"
     ]
    },
    {
     "name": "stdout",
     "output_type": "stream",
     "text": [
      "epoch 26 | loss: 0.17142 | train_mse: 0.18698 | train_mae: 0.33305 |  0:00:08s\n",
      "epoch 27 | loss: 0.16158 | train_mse: 0.13744 | train_mae: 0.28684 |  0:00:08s\n"
     ]
    },
    {
     "name": "stdout",
     "output_type": "stream",
     "text": [
      "epoch 28 | loss: 0.21497 | train_mse: 0.15177 | train_mae: 0.2997  |  0:00:08s\n"
     ]
    },
    {
     "name": "stdout",
     "output_type": "stream",
     "text": [
      "epoch 29 | loss: 0.2618  | train_mse: 0.18029 | train_mae: 0.32885 |  0:00:08s\n"
     ]
    },
    {
     "name": "stdout",
     "output_type": "stream",
     "text": [
      "epoch 30 | loss: 0.17932 | train_mse: 0.18273 | train_mae: 0.32605 |  0:00:08s\n"
     ]
    },
    {
     "name": "stdout",
     "output_type": "stream",
     "text": [
      "epoch 31 | loss: 0.17157 | train_mse: 0.19267 | train_mae: 0.32976 |  0:00:09s\n",
      "epoch 32 | loss: 0.15539 | train_mse: 0.17219 | train_mae: 0.31708 |  0:00:09s\n"
     ]
    },
    {
     "name": "stdout",
     "output_type": "stream",
     "text": [
      "epoch 33 | loss: 0.17336 | train_mse: 0.17681 | train_mae: 0.31509 |  0:00:09s\n"
     ]
    },
    {
     "name": "stdout",
     "output_type": "stream",
     "text": [
      "epoch 34 | loss: 0.2725  | train_mse: 0.21186 | train_mae: 0.32616 |  0:00:09s\n"
     ]
    },
    {
     "name": "stdout",
     "output_type": "stream",
     "text": [
      "epoch 35 | loss: 0.12908 | train_mse: 0.32459 | train_mae: 0.39828 |  0:00:10s\n",
      "epoch 36 | loss: 0.24416 | train_mse: 0.3443  | train_mae: 0.40954 |  0:00:10s\n"
     ]
    },
    {
     "name": "stdout",
     "output_type": "stream",
     "text": [
      "epoch 37 | loss: 0.18726 | train_mse: 0.30336 | train_mae: 0.39287 |  0:00:10s\n"
     ]
    },
    {
     "name": "stdout",
     "output_type": "stream",
     "text": [
      "epoch 38 | loss: 0.16285 | train_mse: 0.25843 | train_mae: 0.369   |  0:00:10s\n"
     ]
    },
    {
     "name": "stdout",
     "output_type": "stream",
     "text": [
      "epoch 39 | loss: 0.17981 | train_mse: 0.23022 | train_mae: 0.35673 |  0:00:11s\n"
     ]
    },
    {
     "name": "stdout",
     "output_type": "stream",
     "text": [
      "epoch 40 | loss: 0.13194 | train_mse: 0.19832 | train_mae: 0.31422 |  0:00:11s\n"
     ]
    },
    {
     "name": "stdout",
     "output_type": "stream",
     "text": [
      "epoch 41 | loss: 0.1906  | train_mse: 0.16812 | train_mae: 0.28284 |  0:00:11s\n"
     ]
    },
    {
     "name": "stdout",
     "output_type": "stream",
     "text": [
      "epoch 42 | loss: 0.28231 | train_mse: 0.27219 | train_mae: 0.35641 |  0:00:11s\n"
     ]
    },
    {
     "name": "stdout",
     "output_type": "stream",
     "text": [
      "epoch 43 | loss: 0.1384  | train_mse: 0.37635 | train_mae: 0.41456 |  0:00:12s\n"
     ]
    },
    {
     "name": "stdout",
     "output_type": "stream",
     "text": [
      "epoch 44 | loss: 0.23178 | train_mse: 0.28448 | train_mae: 0.37578 |  0:00:13s\n",
      "epoch 45 | loss: 0.15148 | train_mse: 0.16624 | train_mae: 0.29329 |  0:00:13s\n"
     ]
    },
    {
     "name": "stdout",
     "output_type": "stream",
     "text": [
      "epoch 46 | loss: 0.14215 | train_mse: 0.13867 | train_mae: 0.27105 |  0:00:13s\n"
     ]
    },
    {
     "name": "stdout",
     "output_type": "stream",
     "text": [
      "epoch 47 | loss: 0.16484 | train_mse: 0.19058 | train_mae: 0.30888 |  0:00:13s\n",
      "epoch 48 | loss: 0.25024 | train_mse: 0.29208 | train_mae: 0.37552 |  0:00:13s\n"
     ]
    },
    {
     "name": "stdout",
     "output_type": "stream",
     "text": [
      "epoch 49 | loss: 0.17631 | train_mse: 0.29614 | train_mae: 0.38317 |  0:00:14s\n",
      "epoch 50 | loss: 0.13922 | train_mse: 0.27381 | train_mae: 0.37318 |  0:00:14s\n"
     ]
    },
    {
     "name": "stdout",
     "output_type": "stream",
     "text": [
      "epoch 51 | loss: 0.15975 | train_mse: 0.21843 | train_mae: 0.34303 |  0:00:14s\n",
      "epoch 52 | loss: 0.12596 | train_mse: 0.14039 | train_mae: 0.2812  |  0:00:14s\n"
     ]
    },
    {
     "name": "stdout",
     "output_type": "stream",
     "text": [
      "epoch 53 | loss: 0.11488 | train_mse: 0.1208  | train_mae: 0.26568 |  0:00:14s\n",
      "epoch 54 | loss: 0.15353 | train_mse: 0.12334 | train_mae: 0.26892 |  0:00:14s\n"
     ]
    },
    {
     "name": "stdout",
     "output_type": "stream",
     "text": [
      "epoch 55 | loss: 0.08623 | train_mse: 0.10194 | train_mae: 0.24219 |  0:00:14s\n",
      "epoch 56 | loss: 0.12883 | train_mse: 0.09651 | train_mae: 0.23512 |  0:00:15s\n"
     ]
    },
    {
     "name": "stdout",
     "output_type": "stream",
     "text": [
      "epoch 57 | loss: 0.17366 | train_mse: 0.1235  | train_mae: 0.26519 |  0:00:15s\n"
     ]
    },
    {
     "name": "stdout",
     "output_type": "stream",
     "text": [
      "epoch 58 | loss: 0.12373 | train_mse: 0.12504 | train_mae: 0.27067 |  0:00:15s\n"
     ]
    },
    {
     "name": "stdout",
     "output_type": "stream",
     "text": [
      "epoch 59 | loss: 0.15844 | train_mse: 0.11439 | train_mae: 0.26401 |  0:00:16s\n",
      "epoch 60 | loss: 0.09875 | train_mse: 0.08662 | train_mae: 0.231   |  0:00:16s\n"
     ]
    },
    {
     "name": "stdout",
     "output_type": "stream",
     "text": [
      "epoch 61 | loss: 0.24524 | train_mse: 0.08439 | train_mae: 0.2195  |  0:00:16s\n"
     ]
    },
    {
     "name": "stdout",
     "output_type": "stream",
     "text": [
      "epoch 62 | loss: 0.18603 | train_mse: 0.09446 | train_mae: 0.22483 |  0:00:17s\n"
     ]
    },
    {
     "name": "stdout",
     "output_type": "stream",
     "text": [
      "epoch 63 | loss: 0.11348 | train_mse: 0.09446 | train_mae: 0.22601 |  0:00:17s\n"
     ]
    },
    {
     "name": "stdout",
     "output_type": "stream",
     "text": [
      "epoch 64 | loss: 0.20874 | train_mse: 0.10679 | train_mae: 0.24537 |  0:00:17s\n"
     ]
    },
    {
     "name": "stdout",
     "output_type": "stream",
     "text": [
      "epoch 65 | loss: 0.13665 | train_mse: 0.08033 | train_mae: 0.20715 |  0:00:18s\n"
     ]
    },
    {
     "name": "stdout",
     "output_type": "stream",
     "text": [
      "epoch 66 | loss: 0.24223 | train_mse: 0.08178 | train_mae: 0.20746 |  0:00:18s\n"
     ]
    },
    {
     "name": "stdout",
     "output_type": "stream",
     "text": [
      "epoch 67 | loss: 0.13654 | train_mse: 0.09354 | train_mae: 0.22733 |  0:00:18s\n"
     ]
    },
    {
     "name": "stdout",
     "output_type": "stream",
     "text": [
      "epoch 68 | loss: 0.11315 | train_mse: 0.08355 | train_mae: 0.21357 |  0:00:18s\n"
     ]
    },
    {
     "name": "stdout",
     "output_type": "stream",
     "text": [
      "epoch 69 | loss: 0.12666 | train_mse: 0.09463 | train_mae: 0.23282 |  0:00:19s\n"
     ]
    },
    {
     "name": "stdout",
     "output_type": "stream",
     "text": [
      "epoch 70 | loss: 0.23808 | train_mse: 0.09104 | train_mae: 0.22131 |  0:00:19s\n"
     ]
    },
    {
     "name": "stdout",
     "output_type": "stream",
     "text": [
      "epoch 71 | loss: 0.1677  | train_mse: 0.1231  | train_mae: 0.25819 |  0:00:20s\n"
     ]
    },
    {
     "name": "stdout",
     "output_type": "stream",
     "text": [
      "epoch 72 | loss: 0.21225 | train_mse: 0.11299 | train_mae: 0.24947 |  0:00:20s\n"
     ]
    },
    {
     "name": "stdout",
     "output_type": "stream",
     "text": [
      "epoch 73 | loss: 0.11085 | train_mse: 0.08357 | train_mae: 0.21093 |  0:00:21s\n"
     ]
    },
    {
     "name": "stdout",
     "output_type": "stream",
     "text": [
      "epoch 74 | loss: 0.19847 | train_mse: 0.07459 | train_mae: 0.20353 |  0:00:21s\n"
     ]
    },
    {
     "name": "stdout",
     "output_type": "stream",
     "text": [
      "epoch 75 | loss: 0.14474 | train_mse: 0.07669 | train_mae: 0.21304 |  0:00:22s\n"
     ]
    },
    {
     "name": "stdout",
     "output_type": "stream",
     "text": [
      "epoch 76 | loss: 0.13722 | train_mse: 0.08514 | train_mae: 0.22133 |  0:00:22s\n"
     ]
    },
    {
     "name": "stdout",
     "output_type": "stream",
     "text": [
      "epoch 77 | loss: 0.15505 | train_mse: 0.07883 | train_mae: 0.21095 |  0:00:22s\n"
     ]
    },
    {
     "name": "stdout",
     "output_type": "stream",
     "text": [
      "epoch 78 | loss: 0.1674  | train_mse: 0.07893 | train_mae: 0.21181 |  0:00:23s\n"
     ]
    },
    {
     "name": "stdout",
     "output_type": "stream",
     "text": [
      "epoch 79 | loss: 0.19528 | train_mse: 0.07829 | train_mae: 0.2091  |  0:00:23s\n"
     ]
    },
    {
     "name": "stdout",
     "output_type": "stream",
     "text": [
      "epoch 80 | loss: 0.15666 | train_mse: 0.07159 | train_mae: 0.1997  |  0:00:24s\n"
     ]
    },
    {
     "name": "stdout",
     "output_type": "stream",
     "text": [
      "epoch 81 | loss: 0.10017 | train_mse: 0.07176 | train_mae: 0.20364 |  0:00:25s\n"
     ]
    },
    {
     "name": "stdout",
     "output_type": "stream",
     "text": [
      "epoch 82 | loss: 0.11228 | train_mse: 0.07408 | train_mae: 0.20964 |  0:00:25s\n"
     ]
    },
    {
     "name": "stdout",
     "output_type": "stream",
     "text": [
      "epoch 83 | loss: 0.16639 | train_mse: 0.06255 | train_mae: 0.19101 |  0:00:25s\n"
     ]
    },
    {
     "name": "stdout",
     "output_type": "stream",
     "text": [
      "epoch 84 | loss: 0.16799 | train_mse: 0.06338 | train_mae: 0.18974 |  0:00:26s\n"
     ]
    },
    {
     "name": "stdout",
     "output_type": "stream",
     "text": [
      "epoch 85 | loss: 0.13115 | train_mse: 0.07476 | train_mae: 0.20998 |  0:00:26s\n"
     ]
    },
    {
     "name": "stdout",
     "output_type": "stream",
     "text": [
      "epoch 86 | loss: 0.10865 | train_mse: 0.08005 | train_mae: 0.21568 |  0:00:26s\n",
      "epoch 87 | loss: 0.09012 | train_mse: 0.06435 | train_mae: 0.18931 |  0:00:26s\n"
     ]
    },
    {
     "name": "stdout",
     "output_type": "stream",
     "text": [
      "epoch 88 | loss: 0.12394 | train_mse: 0.06391 | train_mae: 0.20006 |  0:00:27s\n",
      "epoch 89 | loss: 0.14705 | train_mse: 0.07096 | train_mae: 0.21084 |  0:00:27s\n"
     ]
    },
    {
     "name": "stdout",
     "output_type": "stream",
     "text": [
      "epoch 90 | loss: 0.1717  | train_mse: 0.06292 | train_mae: 0.1902  |  0:00:27s\n"
     ]
    },
    {
     "name": "stdout",
     "output_type": "stream",
     "text": [
      "epoch 91 | loss: 0.15426 | train_mse: 0.07295 | train_mae: 0.21045 |  0:00:27s\n",
      "epoch 92 | loss: 0.11977 | train_mse: 0.08195 | train_mae: 0.22705 |  0:00:27s\n"
     ]
    },
    {
     "name": "stdout",
     "output_type": "stream",
     "text": [
      "epoch 93 | loss: 0.1724  | train_mse: 0.09001 | train_mae: 0.23697 |  0:00:28s\n",
      "epoch 94 | loss: 0.09526 | train_mse: 0.09755 | train_mae: 0.238   |  0:00:28s\n"
     ]
    },
    {
     "name": "stdout",
     "output_type": "stream",
     "text": [
      "epoch 95 | loss: 0.1742  | train_mse: 0.0882  | train_mae: 0.21657 |  0:00:28s\n"
     ]
    },
    {
     "name": "stdout",
     "output_type": "stream",
     "text": [
      "epoch 96 | loss: 0.16644 | train_mse: 0.08626 | train_mae: 0.21422 |  0:00:28s\n",
      "epoch 97 | loss: 0.15094 | train_mse: 0.1176  | train_mae: 0.27125 |  0:00:28s\n"
     ]
    },
    {
     "name": "stdout",
     "output_type": "stream",
     "text": [
      "epoch 98 | loss: 0.19848 | train_mse: 0.1687  | train_mae: 0.31798 |  0:00:29s\n"
     ]
    },
    {
     "name": "stdout",
     "output_type": "stream",
     "text": [
      "epoch 99 | loss: 0.15878 | train_mse: 0.11401 | train_mae: 0.26062 |  0:00:30s\n"
     ]
    },
    {
     "name": "stdout",
     "output_type": "stream",
     "text": [
      "epoch 100| loss: 0.14351 | train_mse: 0.07731 | train_mae: 0.21815 |  0:00:30s\n"
     ]
    },
    {
     "name": "stdout",
     "output_type": "stream",
     "text": [
      "epoch 101| loss: 0.44804 | train_mse: 0.08883 | train_mae: 0.23517 |  0:00:30s\n"
     ]
    },
    {
     "name": "stdout",
     "output_type": "stream",
     "text": [
      "epoch 102| loss: 0.11778 | train_mse: 0.11143 | train_mae: 0.2587  |  0:00:31s\n",
      "epoch 103| loss: 0.10829 | train_mse: 0.1193  | train_mae: 0.26226 |  0:00:31s\n"
     ]
    },
    {
     "name": "stdout",
     "output_type": "stream",
     "text": [
      "epoch 104| loss: 0.10287 | train_mse: 0.12596 | train_mae: 0.26373 |  0:00:31s\n",
      "epoch 105| loss: 0.13137 | train_mse: 0.11433 | train_mae: 0.26153 |  0:00:31s\n"
     ]
    },
    {
     "name": "stdout",
     "output_type": "stream",
     "text": [
      "epoch 106| loss: 0.17872 | train_mse: 0.08961 | train_mae: 0.22924 |  0:00:31s\n"
     ]
    },
    {
     "name": "stdout",
     "output_type": "stream",
     "text": [
      "epoch 107| loss: 0.24014 | train_mse: 0.07635 | train_mae: 0.21071 |  0:00:31s\n"
     ]
    },
    {
     "name": "stdout",
     "output_type": "stream",
     "text": [
      "epoch 108| loss: 0.11024 | train_mse: 0.06361 | train_mae: 0.19179 |  0:00:32s\n",
      "epoch 109| loss: 0.11324 | train_mse: 0.07661 | train_mae: 0.22013 |  0:00:32s\n"
     ]
    },
    {
     "name": "stdout",
     "output_type": "stream",
     "text": [
      "epoch 110| loss: 0.12884 | train_mse: 0.08081 | train_mae: 0.21991 |  0:00:32s\n"
     ]
    },
    {
     "name": "stdout",
     "output_type": "stream",
     "text": [
      "epoch 111| loss: 0.16856 | train_mse: 0.06453 | train_mae: 0.19697 |  0:00:32s\n",
      "epoch 112| loss: 0.1525  | train_mse: 0.07    | train_mae: 0.20435 |  0:00:33s\n"
     ]
    },
    {
     "name": "stdout",
     "output_type": "stream",
     "text": [
      "epoch 113| loss: 0.12971 | train_mse: 0.06851 | train_mae: 0.20044 |  0:00:33s\n",
      "epoch 114| loss: 0.21118 | train_mse: 0.06409 | train_mae: 0.18936 |  0:00:33s\n"
     ]
    },
    {
     "name": "stdout",
     "output_type": "stream",
     "text": [
      "epoch 115| loss: 0.16252 | train_mse: 0.078   | train_mae: 0.20546 |  0:00:33s\n",
      "epoch 116| loss: 0.15463 | train_mse: 0.10022 | train_mae: 0.23507 |  0:00:33s\n"
     ]
    },
    {
     "name": "stdout",
     "output_type": "stream",
     "text": [
      "epoch 117| loss: 0.16599 | train_mse: 0.13432 | train_mae: 0.2698  |  0:00:33s\n",
      "epoch 118| loss: 0.12352 | train_mse: 0.1484  | train_mae: 0.28924 |  0:00:34s\n"
     ]
    },
    {
     "name": "stdout",
     "output_type": "stream",
     "text": [
      "epoch 119| loss: 0.12917 | train_mse: 0.12926 | train_mae: 0.27671 |  0:00:34s\n",
      "epoch 120| loss: 0.14154 | train_mse: 0.12338 | train_mae: 0.27547 |  0:00:34s\n"
     ]
    },
    {
     "name": "stdout",
     "output_type": "stream",
     "text": [
      "epoch 121| loss: 0.13256 | train_mse: 0.09676 | train_mae: 0.23843 |  0:00:34s\n",
      "epoch 122| loss: 0.09843 | train_mse: 0.08491 | train_mae: 0.21146 |  0:00:34s\n"
     ]
    },
    {
     "name": "stdout",
     "output_type": "stream",
     "text": [
      "epoch 123| loss: 0.08738 | train_mse: 0.08285 | train_mae: 0.21043 |  0:00:34s\n",
      "epoch 124| loss: 0.25588 | train_mse: 0.08632 | train_mae: 0.2194  |  0:00:34s\n"
     ]
    },
    {
     "name": "stdout",
     "output_type": "stream",
     "text": [
      "epoch 125| loss: 0.31576 | train_mse: 0.12663 | train_mae: 0.24301 |  0:00:35s\n",
      "epoch 126| loss: 0.12723 | train_mse: 0.1531  | train_mae: 0.25045 |  0:00:35s\n"
     ]
    },
    {
     "name": "stdout",
     "output_type": "stream",
     "text": [
      "epoch 127| loss: 0.14955 | train_mse: 0.14537 | train_mae: 0.24674 |  0:00:35s\n",
      "epoch 128| loss: 0.12362 | train_mse: 0.06698 | train_mae: 0.20566 |  0:00:35s\n"
     ]
    },
    {
     "name": "stdout",
     "output_type": "stream",
     "text": [
      "epoch 129| loss: 0.17807 | train_mse: 0.06375 | train_mae: 0.19762 |  0:00:35s\n",
      "epoch 130| loss: 0.1154  | train_mse: 0.07104 | train_mae: 0.20401 |  0:00:35s\n"
     ]
    },
    {
     "name": "stdout",
     "output_type": "stream",
     "text": [
      "epoch 131| loss: 0.10641 | train_mse: 0.07209 | train_mae: 0.20469 |  0:00:35s\n",
      "epoch 132| loss: 0.22871 | train_mse: 0.06947 | train_mae: 0.20578 |  0:00:35s\n"
     ]
    },
    {
     "name": "stdout",
     "output_type": "stream",
     "text": [
      "epoch 133| loss: 0.08915 | train_mse: 0.07126 | train_mae: 0.20918 |  0:00:36s\n",
      "epoch 134| loss: 0.18792 | train_mse: 0.06898 | train_mae: 0.20511 |  0:00:36s\n"
     ]
    },
    {
     "name": "stdout",
     "output_type": "stream",
     "text": [
      "epoch 135| loss: 0.11809 | train_mse: 0.06946 | train_mae: 0.20083 |  0:00:36s\n",
      "epoch 136| loss: 0.12013 | train_mse: 0.07272 | train_mae: 0.20438 |  0:00:36s\n"
     ]
    },
    {
     "name": "stdout",
     "output_type": "stream",
     "text": [
      "epoch 137| loss: 0.0748  | train_mse: 0.07473 | train_mae: 0.21037 |  0:00:36s\n",
      "\n",
      "Early stopping occurred at epoch 137 with best_epoch = 87 and best_train_mae = 0.18931\n",
      "Best weights from best epoch are automatically used!\n",
      "BEST VALID SCORE FOR dataset : 0.18930771425153037\n",
      "FINAL TEST SCORE FOR dataset: 0.3710352235756217\n",
      "{'loss': [1.1719676971435546, 0.9897521257400512, 0.41183569431304934, 0.5072914302349091, 0.5466603517532349, 0.4740328311920166, 0.44570392370224, 0.33622156977653506, 0.48000500202178953, 0.5507756769657135, 0.5968937277793884, 0.4340630769729614, 0.48033369779586793, 0.2871693819761276, 0.40293204188346865, 0.3712265431880951, 0.43114917278289794, 0.23512484431266784, 0.2566102802753448, 0.23639670759439468, 0.27939221560955046, 0.18957877159118652, 0.24264824986457825, 0.3109207272529602, 0.257570743560791, 0.39919088780879974, 0.17142076194286346, 0.16157830953598024, 0.21496670842170715, 0.26180365979671477, 0.17931632101535797, 0.17156807482242584, 0.1553884118795395, 0.17335872650146483, 0.2725000649690628, 0.129076024889946, 0.2441617250442505, 0.18725594580173494, 0.162850421667099, 0.1798120468854904, 0.13193804323673247, 0.19059577584266663, 0.282313072681427, 0.1384027287364006, 0.23177534937858582, 0.15148021876811982, 0.14215149879455566, 0.16484166979789733, 0.2502356119453907, 0.1763092488050461, 0.13922303766012192, 0.15974900424480437, 0.1259628266096115, 0.11488478034734725, 0.15352896749973297, 0.08622573614120484, 0.12883162200450898, 0.17365977466106414, 0.12372753322124481, 0.15844447612762452, 0.09874582290649414, 0.24523522555828095, 0.18602822422981263, 0.11347969472408295, 0.20874038338661194, 0.13665128052234649, 0.24222621321678162, 0.13654418289661407, 0.1131500780582428, 0.12666263580322265, 0.23807707130908967, 0.1676974803209305, 0.21224768161773683, 0.11085036545991897, 0.19847176671028138, 0.14473811388015748, 0.13721577674150467, 0.15505176335573195, 0.16740135252475738, 0.1952808380126953, 0.1566551297903061, 0.10017328411340713, 0.11227558255195617, 0.1663878470659256, 0.16799403727054596, 0.13114777207374573, 0.10864651203155518, 0.09011550396680831, 0.12393880486488343, 0.14704824090003968, 0.17170337438583375, 0.15425705909729004, 0.1197748452425003, 0.17240085303783417, 0.09525888562202453, 0.174201899766922, 0.16643860340118408, 0.15094196945428848, 0.19848381280899047, 0.15877859890460969, 0.14350514411926268, 0.44803813099861145, 0.11777580231428146, 0.10828503370285034, 0.10286508053541184, 0.13137397170066833, 0.17872382402420045, 0.24014238715171815, 0.11024033725261688, 0.11323789954185486, 0.12884412407875062, 0.1685561180114746, 0.15250474512577056, 0.12970985174179078, 0.21117642223834993, 0.1625241756439209, 0.15463145077228546, 0.1659913808107376, 0.12352174818515778, 0.12917200922966005, 0.14153960347175598, 0.13256028294563293, 0.09843209385871887, 0.08737516105175018, 0.25588433146476747, 0.31575676798820496, 0.12722813934087754, 0.1495547190308571, 0.1236185222864151, 0.17806850075721742, 0.1154039204120636, 0.10641336739063263, 0.22870899438858033, 0.0891500934958458, 0.18792445957660675, 0.1180858701467514, 0.12013215720653533, 0.07479910999536514], 'lr': [0.02, 0.02, 0.02, 0.02, 0.02, 0.02, 0.02, 0.02, 0.02, 0.02, 0.02, 0.02, 0.02, 0.02, 0.02, 0.02, 0.02, 0.02, 0.02, 0.02, 0.02, 0.02, 0.02, 0.02, 0.02, 0.02, 0.02, 0.02, 0.02, 0.02, 0.02, 0.02, 0.02, 0.02, 0.02, 0.02, 0.02, 0.02, 0.02, 0.02, 0.02, 0.02, 0.02, 0.02, 0.02, 0.02, 0.02, 0.02, 0.02, 0.02, 0.02, 0.02, 0.02, 0.02, 0.02, 0.02, 0.02, 0.02, 0.02, 0.02, 0.02, 0.02, 0.02, 0.02, 0.02, 0.02, 0.02, 0.02, 0.02, 0.02, 0.02, 0.02, 0.02, 0.02, 0.02, 0.02, 0.02, 0.02, 0.02, 0.02, 0.02, 0.02, 0.02, 0.02, 0.02, 0.02, 0.02, 0.02, 0.02, 0.02, 0.02, 0.02, 0.02, 0.02, 0.02, 0.02, 0.02, 0.02, 0.02, 0.02, 0.02, 0.02, 0.02, 0.02, 0.02, 0.02, 0.02, 0.02, 0.02, 0.02, 0.02, 0.02, 0.02, 0.02, 0.02, 0.02, 0.02, 0.02, 0.02, 0.02, 0.02, 0.02, 0.02, 0.02, 0.02, 0.02, 0.02, 0.02, 0.02, 0.02, 0.02, 0.02, 0.02, 0.02, 0.02, 0.02, 0.02, 0.02], 'train_mse': [7.165426204746557, 4.597231391335623, 4.9123675040538, 4.942345064451998, 3.011602854151625, 1.8731666086855168, 1.5847426988274609, 1.2886732061622257, 1.0440417237108393, 0.8301237485149094, 0.6372845048862189, 0.6413476665425861, 0.6713893652686144, 0.6612862757432618, 0.6987255842736115, 0.6699139259591824, 0.6236186493402986, 0.42812798214534686, 0.305728239094895, 0.29803497014008895, 0.3011346363743844, 0.3229530286091868, 0.3973037032084361, 0.3510271894040998, 0.33232870791314906, 0.2524548219171703, 0.18698323967383873, 0.13744123343170628, 0.1517734166362475, 0.1802948730617923, 0.18272678909243475, 0.19267087701814928, 0.172188969282915, 0.17681053422876117, 0.21186191069720803, 0.3245860670778216, 0.34429830685083235, 0.30335943880221744, 0.2584310046213773, 0.23021679500668019, 0.19831527996788617, 0.1681196610564351, 0.27218875820480976, 0.3763545746315765, 0.28447953463693193, 0.16623713410870986, 0.1386670120288515, 0.1905763138068734, 0.29208221834106196, 0.296142654750316, 0.2738079345854196, 0.21842771211634898, 0.14038658375137414, 0.12079763246054973, 0.12333718812856036, 0.1019371822943739, 0.09651217695587402, 0.12350304773255294, 0.1250416984216048, 0.11438977363738298, 0.08661604174505365, 0.08438959781210817, 0.09445711619648159, 0.09446411366637472, 0.10679040415006788, 0.08033060461459722, 0.08178421866998849, 0.09354405060068656, 0.08354746709711629, 0.09463069961154844, 0.09104497429630307, 0.12310369469768583, 0.1129902067642802, 0.08357262760165515, 0.07459328270245438, 0.07669006850530237, 0.08514030663095964, 0.07882513480492548, 0.07893487566360481, 0.07829036312837165, 0.07158504929549234, 0.07175753077841739, 0.07407767383433925, 0.06255470651876326, 0.06337757850988408, 0.07476300712721147, 0.08004680786000294, 0.06435418477980603, 0.06390969875652953, 0.07095527617603745, 0.06292026182782344, 0.07295422133274351, 0.08195374902851074, 0.09001493852495453, 0.09755087044758612, 0.08820367362755013, 0.08626468915495869, 0.1176031022962376, 0.16869918195965736, 0.11400718148999753, 0.0773060832018475, 0.08883007202388452, 0.11142770080933709, 0.11930360733494587, 0.1259566976297843, 0.11433263443476674, 0.08960850371898595, 0.0763541036193971, 0.06360866853564522, 0.07661027167000725, 0.08081057408107013, 0.06453126796354154, 0.06999681953560112, 0.0685120998347217, 0.06409094955035735, 0.07800349837250649, 0.10021733839887648, 0.13431640461611308, 0.14840128917256754, 0.12926226714875982, 0.12338385528470672, 0.09676183162599093, 0.08491298497812214, 0.08284529454749945, 0.08631515854277197, 0.12663357706661166, 0.15309737468418613, 0.14536556785428903, 0.06697945449288278, 0.06374633562103409, 0.07104102083401134, 0.07208620386367816, 0.06947187480872594, 0.07125768780490593, 0.06898173473663088, 0.06945549347474647, 0.07271781796909316, 0.07472938745351061], 'train_mae': [2.1476411449471113, 1.6430326169131035, 1.5733199889048808, 1.4833693265738233, 1.313787811850626, 1.084286684651028, 1.0498297753016181, 0.9213394770297446, 0.8186207210678427, 0.7353669555029747, 0.6301465702590319, 0.6204674762221024, 0.6242094386838338, 0.6000623578502406, 0.5920478108334761, 0.5715715598485014, 0.558866022281447, 0.4674085010733286, 0.40364982877276495, 0.4036729487956844, 0.3904531850761407, 0.40715346239327443, 0.44222601709780385, 0.39417995788714333, 0.39595566475031874, 0.3708729023174703, 0.33305442013935105, 0.2868380392182619, 0.2997046941047212, 0.32884841656652136, 0.32604778873361356, 0.32976183742506765, 0.31708313692886125, 0.31509076758277754, 0.3261591504370064, 0.3982823807377155, 0.4095416473688693, 0.39286851654160554, 0.3689955549671847, 0.3567277677108761, 0.3142178951145579, 0.28283978216298916, 0.35641309609404637, 0.41455797817957196, 0.37578416185004304, 0.2932878614305199, 0.2710539996730688, 0.3088795720890988, 0.37552235140565493, 0.3831716528112846, 0.37318399555390336, 0.3430330618112145, 0.28119632708369474, 0.2656825194877003, 0.2689154546992718, 0.2421936262291327, 0.23512277209898694, 0.26519043529540864, 0.27067200933942354, 0.2640095985966312, 0.23100264149251393, 0.2195014904800776, 0.22482560206155605, 0.22601403469284218, 0.24537224464597598, 0.20715487533573612, 0.2074590455185267, 0.22733455841144085, 0.21356967386611073, 0.2328172143959834, 0.2213145270890183, 0.25819243435848527, 0.24947024188071856, 0.21092803064872764, 0.2035281818712274, 0.21303523609499164, 0.22132699716359278, 0.21094710847706838, 0.2118087856358232, 0.20909533674701875, 0.19969606678591312, 0.20364398873124126, 0.20963652613972758, 0.19100967883835906, 0.1897393726089946, 0.20997815521964389, 0.21567626716020188, 0.18930771425153037, 0.20006034285469942, 0.21084049053051918, 0.19019706487099808, 0.2104524771886301, 0.22704538821851522, 0.23696703336191643, 0.2379980321289311, 0.21657204905216268, 0.21422407678533978, 0.27125233211879446, 0.3179803509790887, 0.2606220334669864, 0.21814631022853756, 0.23517436564554411, 0.2587048186522294, 0.26225990406342264, 0.2637349518752334, 0.26152546262838683, 0.22924432169037173, 0.21070976843112366, 0.1917878928621246, 0.22013214409645004, 0.21990552597325713, 0.1969692135043393, 0.20435186194555185, 0.20044205612019156, 0.1893599038961136, 0.20545997853867615, 0.2350749763791014, 0.2697960120726047, 0.2892363855194956, 0.2767122033136419, 0.27546579967169993, 0.2384306521422185, 0.21146237668020545, 0.21043148391507613, 0.2194010040559192, 0.24301348376181137, 0.25044521064345104, 0.2467368020065362, 0.20565884515222152, 0.19761982954273252, 0.20401066140626867, 0.2046913458251498, 0.20578457378447484, 0.2091840925730864, 0.2051129015896329, 0.2008288713703811, 0.2043774229604005, 0.21036889624201782]}\n"
     ]
    },
    {
     "data": {
      "application/scrapbook.scrap.json+json": {
       "data": 0.3710352235756217,
       "encoder": "json",
       "name": "TabNet MAE",
       "version": 1
      }
     },
     "metadata": {
      "scrapbook": {
       "data": true,
       "display": false,
       "name": "TabNet MAE"
      }
     },
     "output_type": "display_data"
    },
    {
     "data": {
      "image/png": "[encoded data removed]",
      "text/plain": [
       "<Figure size 432x288 with 1 Axes>"
      ]
     },
     "metadata": {
      "needs_background": "light"
     },
     "output_type": "display_data"
    }
   ],
   "source": [
    "lr = 0.02\n",
    "\n",
    "print(y_train.shape)\n",
    "y_train = np.reshape(y_train, (-1, 1))\n",
    "y_test = np.reshape(y_test, (-1, 1))\n",
    "\n",
    "device = torch.device('cuda' if torch.cuda.is_available() else 'cpu')\n",
    "mae_tab= baselineModels.tabnetreg(X_train,y_train,X_test,y_test,batch_size,n_features,n_target,n_epochs, lr)\n",
    "sb.glue(\"TabNet MAE\",mae_tab)"
   ]
  }
 ],
 "metadata": {
  "interpreter": {
   "hash": "10498c76ddd8160350534c6544a2b2fb65f2138dbc70420f7c81a3268f830f23"
  },
  "kernelspec": {
   "display_name": "Python 3",
   "language": "python",
   "name": "python3"
  },
  "language_info": {
   "codemirror_mode": {
    "name": "ipython",
    "version": 3
   },
   "file_extension": ".py",
   "mimetype": "text/x-python",
   "name": "python",
   "nbconvert_exporter": "python",
   "pygments_lexer": "ipython3",
   "version": "3.8.3"
  },
  "papermill": {
   "default_parameters": {},
   "duration": 63.1999,
   "end_time": "2022-06-22T10:51:28.809487",
   "environment_variables": {},
   "exception": null,
   "input_path": "BaselineModels.ipynb",
   "output_path": "./BaseLine_Model_Output/BaselineModels_output_8.ipynb",
   "parameters": {},
   "start_time": "2022-06-22T10:50:25.609587",
   "version": "2.3.3"
  }
 },
 "nbformat": 4,
 "nbformat_minor": 5
}