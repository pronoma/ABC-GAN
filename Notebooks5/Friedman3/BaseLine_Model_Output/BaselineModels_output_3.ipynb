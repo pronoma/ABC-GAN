{
 "cells": [
  {
   "cell_type": "markdown",
   "id": "cbfe3628",
   "metadata": {
    "papermill": {
     "duration": 0.015723,
     "end_time": "2022-06-22T10:47:31.300107",
     "exception": false,
     "start_time": "2022-06-22T10:47:31.284384",
     "status": "completed"
    },
    "tags": []
   },
   "source": [
    "## Import Libraries "
   ]
  },
  {
   "cell_type": "code",
   "execution_count": 1,
   "id": "3c710d5c",
   "metadata": {
    "execution": {
     "iopub.execute_input": "2022-06-22T10:47:31.346093Z",
     "iopub.status.busy": "2022-06-22T10:47:31.344235Z",
     "iopub.status.idle": "2022-06-22T10:47:31.352371Z",
     "shell.execute_reply": "2022-06-22T10:47:31.353045Z"
    },
    "papermill": {
     "duration": 0.031524,
     "end_time": "2022-06-22T10:47:31.353373",
     "exception": false,
     "start_time": "2022-06-22T10:47:31.321849",
     "status": "completed"
    },
    "tags": []
   },
   "outputs": [],
   "source": [
    "import warnings\n",
    "import sys\n",
    "sys.path.insert(0, '../../src')\n",
    "warnings.filterwarnings('ignore')"
   ]
  },
  {
   "cell_type": "code",
   "execution_count": 2,
   "id": "b2be47dc",
   "metadata": {
    "execution": {
     "iopub.execute_input": "2022-06-22T10:47:31.381116Z",
     "iopub.status.busy": "2022-06-22T10:47:31.378407Z",
     "iopub.status.idle": "2022-06-22T10:47:38.843876Z",
     "shell.execute_reply": "2022-06-22T10:47:38.844602Z"
    },
    "papermill": {
     "duration": 7.480364,
     "end_time": "2022-06-22T10:47:38.844863",
     "exception": false,
     "start_time": "2022-06-22T10:47:31.364499",
     "status": "completed"
    },
    "tags": []
   },
   "outputs": [],
   "source": [
    "import statsModel\n",
    "import scrapbook as sb \n",
    "import torch \n",
    "import statsModel\n",
    "import baselineModels\n",
    "import friedman3Dataset\n",
    "import dataset \n",
    "from torch.utils.data import random_split \n",
    "from sklearn.model_selection import train_test_split\n",
    "import numpy as np"
   ]
  },
  {
   "cell_type": "markdown",
   "id": "cb6093d7",
   "metadata": {
    "papermill": {
     "duration": 0.008727,
     "end_time": "2022-06-22T10:47:38.863083",
     "exception": false,
     "start_time": "2022-06-22T10:47:38.854356",
     "status": "completed"
    },
    "tags": []
   },
   "source": [
    "## Import Dataset \n"
   ]
  },
  {
   "cell_type": "code",
   "execution_count": 3,
   "id": "d43e1bb2",
   "metadata": {
    "execution": {
     "iopub.execute_input": "2022-06-22T10:47:38.892472Z",
     "iopub.status.busy": "2022-06-22T10:47:38.890558Z",
     "iopub.status.idle": "2022-06-22T10:47:38.906899Z",
     "shell.execute_reply": "2022-06-22T10:47:38.907415Z"
    },
    "papermill": {
     "duration": 0.034062,
     "end_time": "2022-06-22T10:47:38.907652",
     "exception": false,
     "start_time": "2022-06-22T10:47:38.873590",
     "status": "completed"
    },
    "tags": []
   },
   "outputs": [
    {
     "name": "stdout",
     "output_type": "stream",
     "text": [
      "          X1           X2        X3         X4         Y\n",
      "0  57.819701   982.569372  0.195409   4.346374  1.398280\n",
      "1  94.652767  1457.462792  0.520841  10.744802  1.566515\n",
      "2  24.210355  1386.676442  0.212946   9.880266  1.405219\n",
      "3  90.868752   397.698580  0.195008   7.570821  0.693227\n",
      "4  39.481063   304.119289  0.846216   2.933777  1.204014\n"
     ]
    }
   ],
   "source": [
    "n_features = 4\n",
    "n_samples= 100\n",
    "n_target = 1\n",
    "X,Y = friedman3Dataset.friedman3_data(n_samples)"
   ]
  },
  {
   "cell_type": "code",
   "execution_count": 4,
   "id": "4e9b9aaa",
   "metadata": {
    "execution": {
     "iopub.execute_input": "2022-06-22T10:47:38.933509Z",
     "iopub.status.busy": "2022-06-22T10:47:38.932602Z",
     "iopub.status.idle": "2022-06-22T10:47:38.935775Z",
     "shell.execute_reply": "2022-06-22T10:47:38.936317Z"
    },
    "papermill": {
     "duration": 0.019545,
     "end_time": "2022-06-22T10:47:38.936542",
     "exception": false,
     "start_time": "2022-06-22T10:47:38.916997",
     "status": "completed"
    },
    "tags": []
   },
   "outputs": [
    {
     "name": "stdout",
     "output_type": "stream",
     "text": [
      "(100, 4)\n",
      "(100,)\n",
      "(80, 4)\n",
      "(80,)\n",
      "(20, 4)\n",
      "(20,)\n"
     ]
    }
   ],
   "source": [
    "# Train test split for dataset \n",
    "real_dataset = dataset.CustomDataset(X,Y)\n",
    "\n",
    "print(X.shape)\n",
    "print(Y.shape)\n",
    "X_train, X_test, y_train, y_test = train_test_split(X, Y, test_size=0.2)\n",
    "\n",
    "print(X_train.shape)\n",
    "print(y_train.shape)\n",
    "print(X_test.shape)\n",
    "print(y_test.shape)"
   ]
  },
  {
   "cell_type": "markdown",
   "id": "18d19b5a",
   "metadata": {
    "papermill": {
     "duration": 0.007515,
     "end_time": "2022-06-22T10:47:38.951965",
     "exception": false,
     "start_time": "2022-06-22T10:47:38.944450",
     "status": "completed"
    },
    "tags": []
   },
   "source": [
    "## Stats Model \n",
    "\n"
   ]
  },
  {
   "cell_type": "code",
   "execution_count": 5,
   "id": "d812978c",
   "metadata": {
    "execution": {
     "iopub.execute_input": "2022-06-22T10:47:39.011721Z",
     "iopub.status.busy": "2022-06-22T10:47:39.010728Z",
     "iopub.status.idle": "2022-06-22T10:47:39.228522Z",
     "shell.execute_reply": "2022-06-22T10:47:39.229112Z"
    },
    "papermill": {
     "duration": 0.269749,
     "end_time": "2022-06-22T10:47:39.229320",
     "exception": false,
     "start_time": "2022-06-22T10:47:38.959571",
     "status": "completed"
    },
    "tags": []
   },
   "outputs": [
    {
     "name": "stderr",
     "output_type": "stream",
     "text": [
      "No handles with labels found to put in legend.\n"
     ]
    },
    {
     "name": "stdout",
     "output_type": "stream",
     "text": [
      "                                 OLS Regression Results                                \n",
      "=======================================================================================\n",
      "Dep. Variable:                      y   R-squared (uncentered):                   0.486\n",
      "Model:                            OLS   Adj. R-squared (uncentered):              0.459\n",
      "Method:                 Least Squares   F-statistic:                              17.94\n",
      "Date:                Wed, 22 Jun 2022   Prob (F-statistic):                    2.08e-10\n",
      "Time:                        16:17:38   Log-Likelihood:                         -86.343\n",
      "No. Observations:                  80   AIC:                                      180.7\n",
      "Df Residuals:                      76   BIC:                                      190.2\n",
      "Df Model:                           4                                                  \n",
      "Covariance Type:            nonrobust                                                  \n",
      "==============================================================================\n",
      "                 coef    std err          t      P>|t|      [0.025      0.975]\n",
      "------------------------------------------------------------------------------\n",
      "x1            -0.2673      0.084     -3.189      0.002      -0.434      -0.100\n",
      "x2             0.4396      0.084      5.247      0.000       0.273       0.606\n",
      "x3             0.5041      0.087      5.824      0.000       0.332       0.677\n",
      "x4            -0.1078      0.081     -1.325      0.189      -0.270       0.054\n",
      "==============================================================================\n",
      "Omnibus:                       33.976   Durbin-Watson:                   2.052\n",
      "Prob(Omnibus):                  0.000   Jarque-Bera (JB):               77.921\n",
      "Skew:                          -1.476   Prob(JB):                     1.20e-17\n",
      "Kurtosis:                       6.829   Cond. No.                         1.23\n",
      "==============================================================================\n",
      "\n",
      "Notes:\n",
      "[1] R² is computed without centering (uncentered) since the model does not contain a constant.\n",
      "[2] Standard Errors assume that the covariance matrix of the errors is correctly specified.\n"
     ]
    },
    {
     "data": {
      "image/png": "[encoded data removed]",
      "text/plain": [
       "<Figure size 432x288 with 1 Axes>"
      ]
     },
     "metadata": {
      "needs_background": "light"
     },
     "output_type": "display_data"
    },
    {
     "name": "stdout",
     "output_type": "stream",
     "text": [
      "Performance Metrics"
     ]
    },
    {
     "name": "stdout",
     "output_type": "stream",
     "text": [
      "\n",
      "Mean Squared Error: 0.3932387258239515\n",
      "Mean Absolute Error: 0.5258945026728957\n",
      "Manhattan distance: 10.517890053457915\n",
      "Euclidean distance: 2.804420531318195\n"
     ]
    },
    {
     "data": {
      "application/scrapbook.scrap.json+json": {
       "data": 0.3932387258239515,
       "encoder": "json",
       "name": "Stats Model MSE",
       "version": 1
      }
     },
     "metadata": {
      "scrapbook": {
       "data": true,
       "display": false,
       "name": "Stats Model MSE"
      }
     },
     "output_type": "display_data"
    },
    {
     "data": {
      "application/scrapbook.scrap.json+json": {
       "data": 0.5258945026728957,
       "encoder": "json",
       "name": "Stats Model MAE",
       "version": 1
      }
     },
     "metadata": {
      "scrapbook": {
       "data": true,
       "display": false,
       "name": "Stats Model MAE"
      }
     },
     "output_type": "display_data"
    },
    {
     "data": {
      "application/scrapbook.scrap.json+json": {
       "data": 10.517890053457915,
       "encoder": "json",
       "name": "Stats Model Manhattan Distance",
       "version": 1
      }
     },
     "metadata": {
      "scrapbook": {
       "data": true,
       "display": false,
       "name": "Stats Model Manhattan Distance"
      }
     },
     "output_type": "display_data"
    },
    {
     "data": {
      "application/scrapbook.scrap.json+json": {
       "data": 2.804420531318195,
       "encoder": "json",
       "name": "Stats Model Euclidean distance",
       "version": 1
      }
     },
     "metadata": {
      "scrapbook": {
       "data": true,
       "display": false,
       "name": "Stats Model Euclidean distance"
      }
     },
     "output_type": "display_data"
    },
    {
     "data": {
      "application/scrapbook.scrap.json+json": {
       "data": [
        -0.2672740833065429,
        0.4395974826215465,
        0.5041258217546181,
        -0.10778184078332861
       ],
       "encoder": "json",
       "name": "Coefficients",
       "version": 1
      }
     },
     "metadata": {
      "scrapbook": {
       "data": true,
       "display": false,
       "name": "Coefficients"
      }
     },
     "output_type": "display_data"
    }
   ],
   "source": [
    "coefficients , y_pred =statsModel.statsModel(X_train,y_train,X_test,y_test)\n",
    "#Store MSE Value \n",
    "sb.glue(\"Coefficients\",coefficients)"
   ]
  },
  {
   "cell_type": "markdown",
   "id": "61271d8e",
   "metadata": {
    "papermill": {
     "duration": 0.010133,
     "end_time": "2022-06-22T10:47:39.250511",
     "exception": false,
     "start_time": "2022-06-22T10:47:39.240378",
     "status": "completed"
    },
    "tags": []
   },
   "source": [
    "# Catboost Model "
   ]
  },
  {
   "cell_type": "code",
   "execution_count": 6,
   "id": "f39cb048",
   "metadata": {
    "execution": {
     "iopub.execute_input": "2022-06-22T10:47:39.286168Z",
     "iopub.status.busy": "2022-06-22T10:47:39.283375Z",
     "iopub.status.idle": "2022-06-22T10:47:40.027211Z",
     "shell.execute_reply": "2022-06-22T10:47:40.027960Z"
    },
    "papermill": {
     "duration": 0.766954,
     "end_time": "2022-06-22T10:47:40.028162",
     "exception": false,
     "start_time": "2022-06-22T10:47:39.261208",
     "status": "completed"
    },
    "tags": []
   },
   "outputs": [
    {
     "name": "stdout",
     "output_type": "stream",
     "text": [
      "Learning rate set to 0.027471\n",
      "0:\tlearn: 0.9802116\ttotal: 57.7ms\tremaining: 57.6s\n",
      "1:\tlearn: 0.9728559\ttotal: 58.7ms\tremaining: 29.3s\n",
      "2:\tlearn: 0.9657869\ttotal: 59.7ms\tremaining: 19.8s\n",
      "3:\tlearn: 0.9555112\ttotal: 60.6ms\tremaining: 15.1s\n",
      "4:\tlearn: 0.9457056\ttotal: 61.2ms\tremaining: 12.2s\n",
      "5:\tlearn: 0.9371456\ttotal: 62.1ms\tremaining: 10.3s\n",
      "6:\tlearn: 0.9266265\ttotal: 62.7ms\tremaining: 8.9s\n",
      "7:\tlearn: 0.9172109\ttotal: 63.7ms\tremaining: 7.9s\n",
      "8:\tlearn: 0.9096226\ttotal: 64.9ms\tremaining: 7.15s\n",
      "9:\tlearn: 0.8991677\ttotal: 65.5ms\tremaining: 6.48s\n",
      "10:\tlearn: 0.8919683\ttotal: 66ms\tremaining: 5.93s\n",
      "11:\tlearn: 0.8832664\ttotal: 66.5ms\tremaining: 5.48s\n",
      "12:\tlearn: 0.8769836\ttotal: 67ms\tremaining: 5.09s\n",
      "13:\tlearn: 0.8664251\ttotal: 67.6ms\tremaining: 4.76s\n",
      "14:\tlearn: 0.8583884\ttotal: 68.2ms\tremaining: 4.47s\n",
      "15:\tlearn: 0.8487297\ttotal: 69.1ms\tremaining: 4.25s\n",
      "16:\tlearn: 0.8396206\ttotal: 70ms\tremaining: 4.05s\n",
      "17:\tlearn: 0.8311249\ttotal: 70.6ms\tremaining: 3.85s\n",
      "18:\tlearn: 0.8263701\ttotal: 71.1ms\tremaining: 3.67s\n",
      "19:\tlearn: 0.8174282\ttotal: 72.2ms\tremaining: 3.54s\n",
      "20:\tlearn: 0.8088507\ttotal: 72.7ms\tremaining: 3.39s\n",
      "21:\tlearn: 0.8003317\ttotal: 73.3ms\tremaining: 3.26s\n",
      "22:\tlearn: 0.7915758\ttotal: 73.8ms\tremaining: 3.13s\n",
      "23:\tlearn: 0.7833322\ttotal: 74.7ms\tremaining: 3.04s\n",
      "24:\tlearn: 0.7761529\ttotal: 75.4ms\tremaining: 2.94s\n",
      "25:\tlearn: 0.7694267\ttotal: 76.4ms\tremaining: 2.86s\n",
      "26:\tlearn: 0.7612447\ttotal: 76.9ms\tremaining: 2.77s\n",
      "27:\tlearn: 0.7546472\ttotal: 77.5ms\tremaining: 2.69s\n",
      "28:\tlearn: 0.7478774\ttotal: 78.3ms\tremaining: 2.62s\n",
      "29:\tlearn: 0.7398999\ttotal: 78.8ms\tremaining: 2.55s\n",
      "30:\tlearn: 0.7342344\ttotal: 79.8ms\tremaining: 2.5s\n",
      "31:\tlearn: 0.7271365\ttotal: 80.5ms\tremaining: 2.43s\n",
      "32:\tlearn: 0.7191465\ttotal: 81.2ms\tremaining: 2.38s\n",
      "33:\tlearn: 0.7114164\ttotal: 81.9ms\tremaining: 2.33s\n",
      "34:\tlearn: 0.7065002\ttotal: 82.5ms\tremaining: 2.27s\n",
      "35:\tlearn: 0.7008253\ttotal: 83.2ms\tremaining: 2.23s\n",
      "36:\tlearn: 0.6930172\ttotal: 84ms\tremaining: 2.19s\n",
      "37:\tlearn: 0.6854118\ttotal: 84.7ms\tremaining: 2.14s\n",
      "38:\tlearn: 0.6803225\ttotal: 85.4ms\tremaining: 2.1s\n",
      "39:\tlearn: 0.6756258\ttotal: 86.1ms\tremaining: 2.07s\n",
      "40:\tlearn: 0.6698657\ttotal: 87.1ms\tremaining: 2.04s\n",
      "41:\tlearn: 0.6646444\ttotal: 87.8ms\tremaining: 2s\n",
      "42:\tlearn: 0.6582577\ttotal: 88.4ms\tremaining: 1.97s\n",
      "43:\tlearn: 0.6520257\ttotal: 88.9ms\tremaining: 1.93s\n",
      "44:\tlearn: 0.6463346\ttotal: 89.3ms\tremaining: 1.89s\n",
      "45:\tlearn: 0.6411579\ttotal: 89.8ms\tremaining: 1.86s\n",
      "46:\tlearn: 0.6355623\ttotal: 90.3ms\tremaining: 1.83s\n",
      "47:\tlearn: 0.6314766\ttotal: 90.8ms\tremaining: 1.8s\n",
      "48:\tlearn: 0.6259639\ttotal: 91.4ms\tremaining: 1.77s\n",
      "49:\tlearn: 0.6211133\ttotal: 91.9ms\tremaining: 1.75s\n",
      "50:\tlearn: 0.6169532\ttotal: 92.4ms\tremaining: 1.72s\n",
      "51:\tlearn: 0.6129954\ttotal: 92.9ms\tremaining: 1.69s\n",
      "52:\tlearn: 0.6076497\ttotal: 93.4ms\tremaining: 1.67s\n",
      "53:\tlearn: 0.6027782\ttotal: 93.9ms\tremaining: 1.64s\n",
      "54:\tlearn: 0.5985411\ttotal: 94.4ms\tremaining: 1.62s\n",
      "55:\tlearn: 0.5940214\ttotal: 94.9ms\tremaining: 1.6s\n",
      "56:\tlearn: 0.5886704\ttotal: 95.4ms\tremaining: 1.58s\n",
      "57:\tlearn: 0.5842418\ttotal: 95.7ms\tremaining: 1.55s\n",
      "58:\tlearn: 0.5804728\ttotal: 96.2ms\tremaining: 1.53s\n",
      "59:\tlearn: 0.5757708\ttotal: 96.8ms\tremaining: 1.51s\n",
      "60:\tlearn: 0.5724933\ttotal: 97.3ms\tremaining: 1.5s\n",
      "61:\tlearn: 0.5673980\ttotal: 97.9ms\tremaining: 1.48s\n",
      "62:\tlearn: 0.5627841\ttotal: 98.5ms\tremaining: 1.46s\n",
      "63:\tlearn: 0.5579624\ttotal: 99ms\tremaining: 1.45s\n",
      "64:\tlearn: 0.5530382\ttotal: 99.5ms\tremaining: 1.43s\n",
      "65:\tlearn: 0.5480268\ttotal: 99.9ms\tremaining: 1.41s\n",
      "66:\tlearn: 0.5438822\ttotal: 100ms\tremaining: 1.4s\n",
      "67:\tlearn: 0.5383101\ttotal: 101ms\tremaining: 1.38s\n",
      "68:\tlearn: 0.5356850\ttotal: 101ms\tremaining: 1.37s\n",
      "69:\tlearn: 0.5322412\ttotal: 102ms\tremaining: 1.35s\n",
      "70:\tlearn: 0.5281608\ttotal: 102ms\tremaining: 1.34s\n",
      "71:\tlearn: 0.5233963\ttotal: 103ms\tremaining: 1.32s\n",
      "72:\tlearn: 0.5205215\ttotal: 103ms\tremaining: 1.31s\n",
      "73:\tlearn: 0.5165043\ttotal: 103ms\tremaining: 1.29s\n",
      "74:\tlearn: 0.5121686\ttotal: 104ms\tremaining: 1.28s\n",
      "75:\tlearn: 0.5095418\ttotal: 104ms\tremaining: 1.27s\n",
      "76:\tlearn: 0.5057190\ttotal: 105ms\tremaining: 1.26s\n",
      "77:\tlearn: 0.5024774\ttotal: 105ms\tremaining: 1.24s\n",
      "78:\tlearn: 0.4990435\ttotal: 106ms\tremaining: 1.23s\n",
      "79:\tlearn: 0.4958474\ttotal: 106ms\tremaining: 1.22s\n",
      "80:\tlearn: 0.4922014\ttotal: 107ms\tremaining: 1.21s\n",
      "81:\tlearn: 0.4880814\ttotal: 107ms\tremaining: 1.2s\n",
      "82:\tlearn: 0.4846719\ttotal: 107ms\tremaining: 1.19s\n",
      "83:\tlearn: 0.4830459\ttotal: 108ms\tremaining: 1.17s\n",
      "84:\tlearn: 0.4801719\ttotal: 108ms\tremaining: 1.16s\n",
      "85:\tlearn: 0.4770026\ttotal: 109ms\tremaining: 1.16s\n",
      "86:\tlearn: 0.4739750\ttotal: 109ms\tremaining: 1.15s\n",
      "87:\tlearn: 0.4714321\ttotal: 110ms\tremaining: 1.14s\n",
      "88:\tlearn: 0.4678413\ttotal: 110ms\tremaining: 1.13s\n",
      "89:\tlearn: 0.4649498\ttotal: 111ms\tremaining: 1.12s\n",
      "90:\tlearn: 0.4610856\ttotal: 112ms\tremaining: 1.11s\n",
      "91:\tlearn: 0.4601189\ttotal: 112ms\tremaining: 1.1s\n",
      "92:\tlearn: 0.4571757\ttotal: 112ms\tremaining: 1.09s\n",
      "93:\tlearn: 0.4542502\ttotal: 113ms\tremaining: 1.09s\n",
      "94:\tlearn: 0.4521134\ttotal: 113ms\tremaining: 1.08s\n",
      "95:\tlearn: 0.4491563\ttotal: 114ms\tremaining: 1.07s\n"
     ]
    },
    {
     "name": "stdout",
     "output_type": "stream",
     "text": [
      "96:\tlearn: 0.4459621\ttotal: 114ms\tremaining: 1.06s\n",
      "97:\tlearn: 0.4425496\ttotal: 115ms\tremaining: 1.06s\n",
      "98:\tlearn: 0.4395624\ttotal: 115ms\tremaining: 1.05s\n",
      "99:\tlearn: 0.4368365\ttotal: 116ms\tremaining: 1.04s\n",
      "100:\tlearn: 0.4333589\ttotal: 117ms\tremaining: 1.04s\n",
      "101:\tlearn: 0.4307569\ttotal: 117ms\tremaining: 1.03s\n",
      "102:\tlearn: 0.4278937\ttotal: 117ms\tremaining: 1.02s\n",
      "103:\tlearn: 0.4244429\ttotal: 118ms\tremaining: 1.02s\n",
      "104:\tlearn: 0.4217312\ttotal: 118ms\tremaining: 1.01s\n",
      "105:\tlearn: 0.4194340\ttotal: 119ms\tremaining: 1s\n",
      "106:\tlearn: 0.4163388\ttotal: 119ms\tremaining: 995ms\n",
      "107:\tlearn: 0.4139342\ttotal: 120ms\tremaining: 989ms\n",
      "108:\tlearn: 0.4106366\ttotal: 120ms\tremaining: 982ms\n",
      "109:\tlearn: 0.4075463\ttotal: 121ms\tremaining: 978ms\n",
      "110:\tlearn: 0.4055708\ttotal: 121ms\tremaining: 972ms\n",
      "111:\tlearn: 0.4027684\ttotal: 122ms\tremaining: 965ms\n",
      "112:\tlearn: 0.4004957\ttotal: 122ms\tremaining: 960ms\n",
      "113:\tlearn: 0.3978761\ttotal: 123ms\tremaining: 953ms\n",
      "114:\tlearn: 0.3949523\ttotal: 123ms\tremaining: 947ms\n",
      "115:\tlearn: 0.3931048\ttotal: 124ms\tremaining: 942ms\n",
      "116:\tlearn: 0.3900952\ttotal: 124ms\tremaining: 937ms\n",
      "117:\tlearn: 0.3877316\ttotal: 125ms\tremaining: 931ms\n",
      "118:\tlearn: 0.3856519\ttotal: 125ms\tremaining: 926ms\n",
      "119:\tlearn: 0.3834743\ttotal: 126ms\tremaining: 922ms\n",
      "120:\tlearn: 0.3811397\ttotal: 126ms\tremaining: 917ms\n",
      "121:\tlearn: 0.3787604\ttotal: 127ms\tremaining: 911ms\n",
      "122:\tlearn: 0.3765524\ttotal: 127ms\tremaining: 905ms\n",
      "123:\tlearn: 0.3740431\ttotal: 127ms\tremaining: 900ms\n",
      "124:\tlearn: 0.3719737\ttotal: 128ms\tremaining: 894ms\n",
      "125:\tlearn: 0.3696744\ttotal: 128ms\tremaining: 889ms\n",
      "126:\tlearn: 0.3676522\ttotal: 129ms\tremaining: 884ms\n",
      "127:\tlearn: 0.3657059\ttotal: 129ms\tremaining: 880ms\n",
      "128:\tlearn: 0.3641003\ttotal: 130ms\tremaining: 875ms\n",
      "129:\tlearn: 0.3620503\ttotal: 130ms\tremaining: 870ms\n",
      "130:\tlearn: 0.3596718\ttotal: 130ms\tremaining: 865ms\n",
      "131:\tlearn: 0.3581381\ttotal: 131ms\tremaining: 860ms\n",
      "132:\tlearn: 0.3558574\ttotal: 131ms\tremaining: 855ms\n",
      "133:\tlearn: 0.3540476\ttotal: 132ms\tremaining: 851ms\n",
      "134:\tlearn: 0.3519503\ttotal: 132ms\tremaining: 848ms\n",
      "135:\tlearn: 0.3500823\ttotal: 133ms\tremaining: 843ms\n",
      "136:\tlearn: 0.3482457\ttotal: 133ms\tremaining: 839ms\n",
      "137:\tlearn: 0.3468534\ttotal: 134ms\tremaining: 835ms\n",
      "138:\tlearn: 0.3449970\ttotal: 134ms\tremaining: 831ms\n",
      "139:\tlearn: 0.3444160\ttotal: 135ms\tremaining: 827ms\n",
      "140:\tlearn: 0.3428681\ttotal: 135ms\tremaining: 822ms\n",
      "141:\tlearn: 0.3411842\ttotal: 135ms\tremaining: 818ms\n",
      "142:\tlearn: 0.3394373\ttotal: 136ms\tremaining: 814ms\n",
      "143:\tlearn: 0.3377535\ttotal: 136ms\tremaining: 810ms\n",
      "144:\tlearn: 0.3362358\ttotal: 137ms\tremaining: 805ms\n",
      "145:\tlearn: 0.3350013\ttotal: 137ms\tremaining: 802ms\n",
      "146:\tlearn: 0.3333754\ttotal: 137ms\tremaining: 797ms\n",
      "147:\tlearn: 0.3315633\ttotal: 138ms\tremaining: 793ms\n",
      "148:\tlearn: 0.3296405\ttotal: 138ms\tremaining: 789ms\n",
      "149:\tlearn: 0.3281070\ttotal: 139ms\tremaining: 785ms\n",
      "150:\tlearn: 0.3266285\ttotal: 139ms\tremaining: 781ms\n",
      "151:\tlearn: 0.3246246\ttotal: 139ms\tremaining: 777ms\n",
      "152:\tlearn: 0.3227554\ttotal: 140ms\tremaining: 773ms\n",
      "153:\tlearn: 0.3208967\ttotal: 140ms\tremaining: 769ms\n",
      "154:\tlearn: 0.3189823\ttotal: 140ms\tremaining: 765ms\n",
      "155:\tlearn: 0.3176506\ttotal: 141ms\tremaining: 761ms\n",
      "156:\tlearn: 0.3163662\ttotal: 141ms\tremaining: 758ms\n",
      "157:\tlearn: 0.3152982\ttotal: 141ms\tremaining: 754ms\n",
      "158:\tlearn: 0.3130268\ttotal: 142ms\tremaining: 750ms\n",
      "159:\tlearn: 0.3117699\ttotal: 142ms\tremaining: 747ms\n",
      "160:\tlearn: 0.3102928\ttotal: 143ms\tremaining: 743ms\n",
      "161:\tlearn: 0.3085145\ttotal: 143ms\tremaining: 741ms\n",
      "162:\tlearn: 0.3066487\ttotal: 144ms\tremaining: 737ms\n",
      "163:\tlearn: 0.3048904\ttotal: 144ms\tremaining: 734ms\n",
      "164:\tlearn: 0.3037027\ttotal: 144ms\tremaining: 731ms\n",
      "165:\tlearn: 0.3021328\ttotal: 145ms\tremaining: 728ms\n",
      "166:\tlearn: 0.3006515\ttotal: 145ms\tremaining: 725ms\n",
      "167:\tlearn: 0.2992701\ttotal: 146ms\tremaining: 723ms\n",
      "168:\tlearn: 0.2981915\ttotal: 147ms\tremaining: 721ms\n",
      "169:\tlearn: 0.2971521\ttotal: 147ms\tremaining: 717ms\n",
      "170:\tlearn: 0.2960849\ttotal: 147ms\tremaining: 714ms\n",
      "171:\tlearn: 0.2946754\ttotal: 148ms\tremaining: 711ms\n",
      "172:\tlearn: 0.2938025\ttotal: 148ms\tremaining: 708ms\n",
      "173:\tlearn: 0.2924645\ttotal: 149ms\tremaining: 705ms\n",
      "174:\tlearn: 0.2908701\ttotal: 149ms\tremaining: 702ms\n",
      "175:\tlearn: 0.2887962\ttotal: 149ms\tremaining: 700ms\n",
      "176:\tlearn: 0.2875188\ttotal: 150ms\tremaining: 697ms\n",
      "177:\tlearn: 0.2854669\ttotal: 150ms\tremaining: 694ms\n",
      "178:\tlearn: 0.2842332\ttotal: 151ms\tremaining: 691ms\n",
      "179:\tlearn: 0.2827916\ttotal: 151ms\tremaining: 688ms\n",
      "180:\tlearn: 0.2815515\ttotal: 151ms\tremaining: 686ms\n",
      "181:\tlearn: 0.2802028\ttotal: 152ms\tremaining: 683ms\n",
      "182:\tlearn: 0.2787529\ttotal: 152ms\tremaining: 680ms\n",
      "183:\tlearn: 0.2774813\ttotal: 153ms\tremaining: 677ms\n",
      "184:\tlearn: 0.2766520\ttotal: 153ms\tremaining: 675ms\n",
      "185:\tlearn: 0.2755179\ttotal: 154ms\tremaining: 672ms\n",
      "186:\tlearn: 0.2746110\ttotal: 154ms\tremaining: 670ms\n",
      "187:\tlearn: 0.2731011\ttotal: 154ms\tremaining: 667ms\n",
      "188:\tlearn: 0.2720841\ttotal: 155ms\tremaining: 665ms\n",
      "189:\tlearn: 0.2706619\ttotal: 155ms\tremaining: 662ms\n",
      "190:\tlearn: 0.2698455\ttotal: 156ms\tremaining: 661ms\n",
      "191:\tlearn: 0.2690385\ttotal: 156ms\tremaining: 658ms\n",
      "192:\tlearn: 0.2687791\ttotal: 157ms\tremaining: 654ms\n",
      "193:\tlearn: 0.2670956\ttotal: 157ms\tremaining: 652ms\n",
      "194:\tlearn: 0.2665337\ttotal: 158ms\tremaining: 651ms\n",
      "195:\tlearn: 0.2658597\ttotal: 158ms\tremaining: 649ms\n",
      "196:\tlearn: 0.2651789\ttotal: 159ms\tremaining: 647ms\n",
      "197:\tlearn: 0.2637074\ttotal: 159ms\tremaining: 645ms\n",
      "198:\tlearn: 0.2620399\ttotal: 160ms\tremaining: 644ms\n",
      "199:\tlearn: 0.2610465\ttotal: 161ms\tremaining: 643ms\n",
      "200:\tlearn: 0.2602364\ttotal: 161ms\tremaining: 641ms\n"
     ]
    },
    {
     "name": "stdout",
     "output_type": "stream",
     "text": [
      "201:\tlearn: 0.2582663\ttotal: 162ms\tremaining: 642ms\n",
      "202:\tlearn: 0.2571213\ttotal: 163ms\tremaining: 640ms\n",
      "203:\tlearn: 0.2558102\ttotal: 164ms\tremaining: 640ms\n",
      "204:\tlearn: 0.2550482\ttotal: 164ms\tremaining: 638ms\n",
      "205:\tlearn: 0.2539367\ttotal: 165ms\tremaining: 636ms\n",
      "206:\tlearn: 0.2521764\ttotal: 165ms\tremaining: 634ms\n",
      "207:\tlearn: 0.2514970\ttotal: 166ms\tremaining: 632ms\n",
      "208:\tlearn: 0.2504003\ttotal: 166ms\tremaining: 629ms\n",
      "209:\tlearn: 0.2495055\ttotal: 167ms\tremaining: 627ms\n",
      "210:\tlearn: 0.2487200\ttotal: 167ms\tremaining: 625ms\n",
      "211:\tlearn: 0.2481929\ttotal: 168ms\tremaining: 623ms\n",
      "212:\tlearn: 0.2471524\ttotal: 168ms\tremaining: 621ms\n",
      "213:\tlearn: 0.2463723\ttotal: 169ms\tremaining: 619ms\n",
      "214:\tlearn: 0.2453308\ttotal: 169ms\tremaining: 618ms\n",
      "215:\tlearn: 0.2447319\ttotal: 170ms\tremaining: 615ms\n",
      "216:\tlearn: 0.2434501\ttotal: 170ms\tremaining: 613ms\n",
      "217:\tlearn: 0.2419719\ttotal: 170ms\tremaining: 611ms\n",
      "218:\tlearn: 0.2407146\ttotal: 171ms\tremaining: 609ms\n",
      "219:\tlearn: 0.2400249\ttotal: 171ms\tremaining: 607ms\n",
      "220:\tlearn: 0.2387342\ttotal: 172ms\tremaining: 605ms\n",
      "221:\tlearn: 0.2381937\ttotal: 172ms\tremaining: 604ms\n",
      "222:\tlearn: 0.2370909\ttotal: 173ms\tremaining: 602ms\n",
      "223:\tlearn: 0.2357269\ttotal: 173ms\tremaining: 600ms\n",
      "224:\tlearn: 0.2348504\ttotal: 174ms\tremaining: 598ms\n",
      "225:\tlearn: 0.2343272\ttotal: 174ms\tremaining: 596ms\n",
      "226:\tlearn: 0.2333245\ttotal: 174ms\tremaining: 594ms\n",
      "227:\tlearn: 0.2325994\ttotal: 175ms\tremaining: 592ms\n",
      "228:\tlearn: 0.2321290\ttotal: 175ms\tremaining: 590ms\n",
      "229:\tlearn: 0.2316538\ttotal: 176ms\tremaining: 588ms\n",
      "230:\tlearn: 0.2301076\ttotal: 176ms\tremaining: 586ms\n",
      "231:\tlearn: 0.2289564\ttotal: 176ms\tremaining: 584ms\n",
      "232:\tlearn: 0.2273354\ttotal: 177ms\tremaining: 583ms\n",
      "233:\tlearn: 0.2270234\ttotal: 177ms\tremaining: 581ms\n",
      "234:\tlearn: 0.2255524\ttotal: 178ms\tremaining: 580ms\n",
      "235:\tlearn: 0.2250314\ttotal: 179ms\tremaining: 578ms\n",
      "236:\tlearn: 0.2245044\ttotal: 180ms\tremaining: 578ms\n",
      "237:\tlearn: 0.2239570\ttotal: 180ms\tremaining: 577ms\n",
      "238:\tlearn: 0.2232577\ttotal: 181ms\tremaining: 575ms\n",
      "239:\tlearn: 0.2228107\ttotal: 181ms\tremaining: 574ms\n",
      "240:\tlearn: 0.2212993\ttotal: 182ms\tremaining: 572ms\n",
      "241:\tlearn: 0.2205723\ttotal: 182ms\tremaining: 571ms\n",
      "242:\tlearn: 0.2200666\ttotal: 183ms\tremaining: 569ms\n",
      "243:\tlearn: 0.2188365\ttotal: 183ms\tremaining: 568ms\n",
      "244:\tlearn: 0.2185047\ttotal: 184ms\tremaining: 567ms\n",
      "245:\tlearn: 0.2181097\ttotal: 184ms\tremaining: 565ms\n",
      "246:\tlearn: 0.2173779\ttotal: 185ms\tremaining: 564ms\n",
      "247:\tlearn: 0.2167027\ttotal: 185ms\tremaining: 562ms\n",
      "248:\tlearn: 0.2163525\ttotal: 186ms\tremaining: 561ms\n",
      "249:\tlearn: 0.2157452\ttotal: 186ms\tremaining: 559ms\n",
      "250:\tlearn: 0.2154131\ttotal: 187ms\tremaining: 558ms\n",
      "251:\tlearn: 0.2141314\ttotal: 188ms\tremaining: 557ms\n",
      "252:\tlearn: 0.2132739\ttotal: 188ms\tremaining: 556ms\n",
      "253:\tlearn: 0.2119363\ttotal: 189ms\tremaining: 554ms\n",
      "254:\tlearn: 0.2114710\ttotal: 189ms\tremaining: 553ms\n",
      "255:\tlearn: 0.2099630\ttotal: 190ms\tremaining: 552ms\n",
      "256:\tlearn: 0.2091898\ttotal: 191ms\tremaining: 551ms\n",
      "257:\tlearn: 0.2088739\ttotal: 191ms\tremaining: 549ms\n",
      "258:\tlearn: 0.2085513\ttotal: 192ms\tremaining: 548ms\n",
      "259:\tlearn: 0.2072843\ttotal: 192ms\tremaining: 547ms\n",
      "260:\tlearn: 0.2067633\ttotal: 193ms\tremaining: 545ms\n",
      "261:\tlearn: 0.2053874\ttotal: 193ms\tremaining: 544ms\n",
      "262:\tlearn: 0.2045468\ttotal: 194ms\tremaining: 544ms\n",
      "263:\tlearn: 0.2037045\ttotal: 195ms\tremaining: 544ms\n",
      "264:\tlearn: 0.2026117\ttotal: 196ms\tremaining: 544ms\n",
      "265:\tlearn: 0.2023155\ttotal: 197ms\tremaining: 543ms\n",
      "266:\tlearn: 0.2016404\ttotal: 197ms\tremaining: 541ms\n",
      "267:\tlearn: 0.2008069\ttotal: 198ms\tremaining: 539ms\n",
      "268:\tlearn: 0.1993957\ttotal: 198ms\tremaining: 538ms\n",
      "269:\tlearn: 0.1989687\ttotal: 198ms\tremaining: 536ms\n",
      "270:\tlearn: 0.1986509\ttotal: 199ms\tremaining: 535ms\n",
      "271:\tlearn: 0.1983359\ttotal: 199ms\tremaining: 533ms\n",
      "272:\tlearn: 0.1972135\ttotal: 200ms\tremaining: 532ms\n",
      "273:\tlearn: 0.1960384\ttotal: 200ms\tremaining: 531ms\n",
      "274:\tlearn: 0.1946632\ttotal: 201ms\tremaining: 530ms\n",
      "275:\tlearn: 0.1938174\ttotal: 201ms\tremaining: 528ms\n",
      "276:\tlearn: 0.1927252\ttotal: 202ms\tremaining: 527ms\n",
      "277:\tlearn: 0.1924871\ttotal: 202ms\tremaining: 525ms\n",
      "278:\tlearn: 0.1922171\ttotal: 203ms\tremaining: 524ms\n",
      "279:\tlearn: 0.1915766\ttotal: 203ms\tremaining: 522ms\n",
      "280:\tlearn: 0.1904609\ttotal: 203ms\tremaining: 521ms\n",
      "281:\tlearn: 0.1900259\ttotal: 204ms\tremaining: 519ms\n",
      "282:\tlearn: 0.1898158\ttotal: 204ms\tremaining: 518ms\n",
      "283:\tlearn: 0.1892715\ttotal: 205ms\tremaining: 516ms\n",
      "284:\tlearn: 0.1888770\ttotal: 205ms\tremaining: 515ms\n",
      "285:\tlearn: 0.1878971\ttotal: 206ms\tremaining: 514ms\n",
      "286:\tlearn: 0.1874809\ttotal: 206ms\tremaining: 512ms\n",
      "287:\tlearn: 0.1872358\ttotal: 207ms\tremaining: 511ms\n",
      "288:\tlearn: 0.1862816\ttotal: 207ms\tremaining: 509ms\n",
      "289:\tlearn: 0.1852123\ttotal: 207ms\tremaining: 508ms\n",
      "290:\tlearn: 0.1842856\ttotal: 208ms\tremaining: 506ms\n",
      "291:\tlearn: 0.1839067\ttotal: 208ms\tremaining: 505ms\n",
      "292:\tlearn: 0.1831846\ttotal: 209ms\tremaining: 503ms\n",
      "293:\tlearn: 0.1821595\ttotal: 209ms\tremaining: 502ms\n",
      "294:\tlearn: 0.1819740\ttotal: 209ms\tremaining: 500ms\n",
      "295:\tlearn: 0.1815625\ttotal: 210ms\tremaining: 499ms\n",
      "296:\tlearn: 0.1804441\ttotal: 210ms\tremaining: 498ms\n",
      "297:\tlearn: 0.1793983\ttotal: 211ms\tremaining: 496ms\n",
      "298:\tlearn: 0.1790334\ttotal: 211ms\tremaining: 495ms\n",
      "299:\tlearn: 0.1783680\ttotal: 212ms\tremaining: 494ms\n",
      "300:\tlearn: 0.1780099\ttotal: 212ms\tremaining: 493ms\n",
      "301:\tlearn: 0.1777348\ttotal: 213ms\tremaining: 492ms\n",
      "302:\tlearn: 0.1771387\ttotal: 213ms\tremaining: 490ms\n",
      "303:\tlearn: 0.1767889\ttotal: 213ms\tremaining: 489ms\n",
      "304:\tlearn: 0.1755191\ttotal: 214ms\tremaining: 487ms\n",
      "305:\tlearn: 0.1751763\ttotal: 214ms\tremaining: 486ms\n",
      "306:\tlearn: 0.1739029\ttotal: 215ms\tremaining: 485ms\n",
      "307:\tlearn: 0.1726937\ttotal: 215ms\tremaining: 483ms\n",
      "308:\tlearn: 0.1721844\ttotal: 216ms\tremaining: 482ms\n",
      "309:\tlearn: 0.1714928\ttotal: 217ms\tremaining: 483ms\n",
      "310:\tlearn: 0.1713275\ttotal: 217ms\tremaining: 482ms\n",
      "311:\tlearn: 0.1709850\ttotal: 218ms\tremaining: 480ms\n",
      "312:\tlearn: 0.1698203\ttotal: 220ms\tremaining: 483ms\n",
      "313:\tlearn: 0.1687335\ttotal: 222ms\tremaining: 484ms\n",
      "314:\tlearn: 0.1676062\ttotal: 223ms\tremaining: 484ms\n",
      "315:\tlearn: 0.1669999\ttotal: 223ms\tremaining: 483ms\n",
      "316:\tlearn: 0.1667447\ttotal: 224ms\tremaining: 482ms\n",
      "317:\tlearn: 0.1657952\ttotal: 225ms\tremaining: 482ms\n",
      "318:\tlearn: 0.1648041\ttotal: 225ms\tremaining: 481ms\n",
      "319:\tlearn: 0.1640017\ttotal: 226ms\tremaining: 480ms\n",
      "320:\tlearn: 0.1634431\ttotal: 227ms\tremaining: 479ms\n",
      "321:\tlearn: 0.1629324\ttotal: 229ms\tremaining: 482ms\n",
      "322:\tlearn: 0.1624334\ttotal: 230ms\tremaining: 482ms\n",
      "323:\tlearn: 0.1619457\ttotal: 231ms\tremaining: 481ms\n",
      "324:\tlearn: 0.1614691\ttotal: 231ms\tremaining: 480ms\n",
      "325:\tlearn: 0.1610033\ttotal: 232ms\tremaining: 479ms\n",
      "326:\tlearn: 0.1605480\ttotal: 232ms\tremaining: 478ms\n",
      "327:\tlearn: 0.1601030\ttotal: 233ms\tremaining: 477ms\n",
      "328:\tlearn: 0.1596679\ttotal: 233ms\tremaining: 476ms\n",
      "329:\tlearn: 0.1592426\ttotal: 234ms\tremaining: 475ms\n",
      "330:\tlearn: 0.1588268\ttotal: 234ms\tremaining: 474ms\n",
      "331:\tlearn: 0.1584202\ttotal: 235ms\tremaining: 472ms\n",
      "332:\tlearn: 0.1581226\ttotal: 236ms\tremaining: 472ms\n",
      "333:\tlearn: 0.1577282\ttotal: 236ms\tremaining: 471ms\n",
      "334:\tlearn: 0.1574386\ttotal: 237ms\tremaining: 470ms\n",
      "335:\tlearn: 0.1571538\ttotal: 237ms\tremaining: 469ms\n",
      "336:\tlearn: 0.1563775\ttotal: 238ms\tremaining: 467ms\n",
      "337:\tlearn: 0.1560714\ttotal: 238ms\tremaining: 466ms\n",
      "338:\tlearn: 0.1551406\ttotal: 238ms\tremaining: 465ms\n",
      "339:\tlearn: 0.1547781\ttotal: 239ms\tremaining: 464ms\n",
      "340:\tlearn: 0.1544110\ttotal: 239ms\tremaining: 463ms\n",
      "341:\tlearn: 0.1540605\ttotal: 240ms\tremaining: 461ms\n",
      "342:\tlearn: 0.1536090\ttotal: 240ms\tremaining: 460ms\n",
      "343:\tlearn: 0.1528802\ttotal: 241ms\tremaining: 459ms\n",
      "344:\tlearn: 0.1525431\ttotal: 241ms\tremaining: 458ms\n",
      "345:\tlearn: 0.1522132\ttotal: 242ms\tremaining: 457ms\n",
      "346:\tlearn: 0.1513217\ttotal: 242ms\tremaining: 456ms\n",
      "347:\tlearn: 0.1506204\ttotal: 243ms\tremaining: 454ms\n",
      "348:\tlearn: 0.1504162\ttotal: 243ms\tremaining: 453ms\n",
      "349:\tlearn: 0.1495483\ttotal: 243ms\tremaining: 452ms\n",
      "350:\tlearn: 0.1493111\ttotal: 244ms\tremaining: 451ms\n",
      "351:\tlearn: 0.1484289\ttotal: 244ms\tremaining: 450ms\n",
      "352:\tlearn: 0.1475829\ttotal: 245ms\tremaining: 448ms\n",
      "353:\tlearn: 0.1472792\ttotal: 245ms\tremaining: 447ms\n",
      "354:\tlearn: 0.1464913\ttotal: 246ms\tremaining: 447ms\n",
      "355:\tlearn: 0.1462589\ttotal: 246ms\tremaining: 446ms\n",
      "356:\tlearn: 0.1453375\ttotal: 247ms\tremaining: 444ms\n",
      "357:\tlearn: 0.1444382\ttotal: 247ms\tremaining: 443ms\n",
      "358:\tlearn: 0.1435093\ttotal: 247ms\tremaining: 442ms\n",
      "359:\tlearn: 0.1426288\ttotal: 248ms\tremaining: 440ms\n",
      "360:\tlearn: 0.1417362\ttotal: 248ms\tremaining: 439ms\n",
      "361:\tlearn: 0.1409599\ttotal: 249ms\tremaining: 438ms\n",
      "362:\tlearn: 0.1401337\ttotal: 249ms\tremaining: 437ms\n",
      "363:\tlearn: 0.1397726\ttotal: 250ms\tremaining: 436ms\n",
      "364:\tlearn: 0.1395843\ttotal: 250ms\tremaining: 435ms\n",
      "365:\tlearn: 0.1387301\ttotal: 250ms\tremaining: 434ms\n",
      "366:\tlearn: 0.1384484\ttotal: 251ms\tremaining: 433ms\n",
      "367:\tlearn: 0.1381719\ttotal: 251ms\tremaining: 431ms\n",
      "368:\tlearn: 0.1375960\ttotal: 252ms\tremaining: 430ms\n",
      "369:\tlearn: 0.1370898\ttotal: 252ms\tremaining: 429ms\n",
      "370:\tlearn: 0.1367545\ttotal: 253ms\tremaining: 428ms\n",
      "371:\tlearn: 0.1362621\ttotal: 253ms\tremaining: 427ms\n",
      "372:\tlearn: 0.1360860\ttotal: 253ms\tremaining: 426ms\n",
      "373:\tlearn: 0.1355429\ttotal: 254ms\tremaining: 425ms\n",
      "374:\tlearn: 0.1352573\ttotal: 254ms\tremaining: 424ms\n",
      "375:\tlearn: 0.1347871\ttotal: 255ms\tremaining: 423ms\n",
      "376:\tlearn: 0.1344495\ttotal: 255ms\tremaining: 422ms\n",
      "377:\tlearn: 0.1341181\ttotal: 255ms\tremaining: 420ms\n",
      "378:\tlearn: 0.1335032\ttotal: 258ms\tremaining: 423ms\n",
      "379:\tlearn: 0.1327493\ttotal: 259ms\tremaining: 422ms\n",
      "380:\tlearn: 0.1324361\ttotal: 259ms\tremaining: 421ms\n",
      "381:\tlearn: 0.1320049\ttotal: 259ms\tremaining: 420ms\n",
      "382:\tlearn: 0.1318462\ttotal: 259ms\tremaining: 418ms\n",
      "383:\tlearn: 0.1315303\ttotal: 260ms\tremaining: 417ms\n",
      "384:\tlearn: 0.1312023\ttotal: 260ms\tremaining: 416ms\n",
      "385:\tlearn: 0.1309001\ttotal: 261ms\tremaining: 415ms\n",
      "386:\tlearn: 0.1305602\ttotal: 262ms\tremaining: 414ms\n",
      "387:\tlearn: 0.1302661\ttotal: 262ms\tremaining: 414ms\n",
      "388:\tlearn: 0.1294970\ttotal: 263ms\tremaining: 413ms\n",
      "389:\tlearn: 0.1287959\ttotal: 264ms\tremaining: 412ms\n",
      "390:\tlearn: 0.1285146\ttotal: 264ms\tremaining: 411ms\n"
     ]
    },
    {
     "name": "stdout",
     "output_type": "stream",
     "text": [
      "391:\tlearn: 0.1281875\ttotal: 264ms\tremaining: 410ms\n",
      "392:\tlearn: 0.1279648\ttotal: 266ms\tremaining: 410ms\n",
      "393:\tlearn: 0.1272946\ttotal: 266ms\tremaining: 409ms\n",
      "394:\tlearn: 0.1271475\ttotal: 266ms\tremaining: 408ms\n",
      "395:\tlearn: 0.1268307\ttotal: 267ms\tremaining: 407ms\n",
      "396:\tlearn: 0.1262953\ttotal: 267ms\tremaining: 406ms\n",
      "397:\tlearn: 0.1260650\ttotal: 268ms\tremaining: 405ms\n",
      "398:\tlearn: 0.1258362\ttotal: 268ms\tremaining: 404ms\n",
      "399:\tlearn: 0.1256953\ttotal: 269ms\tremaining: 403ms\n",
      "400:\tlearn: 0.1253242\ttotal: 269ms\tremaining: 402ms\n",
      "401:\tlearn: 0.1246899\ttotal: 270ms\tremaining: 401ms\n",
      "402:\tlearn: 0.1244668\ttotal: 270ms\tremaining: 400ms\n",
      "403:\tlearn: 0.1237954\ttotal: 270ms\tremaining: 399ms\n",
      "404:\tlearn: 0.1234534\ttotal: 271ms\tremaining: 398ms\n",
      "405:\tlearn: 0.1232329\ttotal: 271ms\tremaining: 397ms\n",
      "406:\tlearn: 0.1227315\ttotal: 272ms\tremaining: 396ms\n",
      "407:\tlearn: 0.1225168\ttotal: 272ms\tremaining: 395ms\n",
      "408:\tlearn: 0.1223053\ttotal: 273ms\tremaining: 394ms\n",
      "409:\tlearn: 0.1216479\ttotal: 273ms\tremaining: 393ms\n",
      "410:\tlearn: 0.1213150\ttotal: 274ms\tremaining: 392ms\n",
      "411:\tlearn: 0.1211059\ttotal: 274ms\tremaining: 391ms\n",
      "412:\tlearn: 0.1208999\ttotal: 274ms\tremaining: 390ms\n",
      "413:\tlearn: 0.1207658\ttotal: 275ms\tremaining: 389ms\n",
      "414:\tlearn: 0.1201017\ttotal: 275ms\tremaining: 388ms\n",
      "415:\tlearn: 0.1197770\ttotal: 276ms\tremaining: 387ms\n",
      "416:\tlearn: 0.1191924\ttotal: 276ms\tremaining: 386ms\n",
      "417:\tlearn: 0.1189874\ttotal: 276ms\tremaining: 385ms\n",
      "418:\tlearn: 0.1187870\ttotal: 277ms\tremaining: 384ms\n",
      "419:\tlearn: 0.1181525\ttotal: 277ms\tremaining: 383ms\n",
      "420:\tlearn: 0.1178406\ttotal: 278ms\tremaining: 382ms\n",
      "421:\tlearn: 0.1176431\ttotal: 278ms\tremaining: 381ms\n",
      "422:\tlearn: 0.1174449\ttotal: 279ms\tremaining: 380ms\n",
      "423:\tlearn: 0.1168234\ttotal: 279ms\tremaining: 379ms\n",
      "424:\tlearn: 0.1165477\ttotal: 279ms\tremaining: 378ms\n",
      "425:\tlearn: 0.1163553\ttotal: 280ms\tremaining: 377ms\n",
      "426:\tlearn: 0.1157297\ttotal: 280ms\tremaining: 376ms\n",
      "427:\tlearn: 0.1155458\ttotal: 281ms\tremaining: 375ms\n",
      "428:\tlearn: 0.1149556\ttotal: 281ms\tremaining: 374ms\n",
      "429:\tlearn: 0.1147739\ttotal: 282ms\tremaining: 373ms\n",
      "430:\tlearn: 0.1146562\ttotal: 282ms\tremaining: 372ms\n",
      "431:\tlearn: 0.1143601\ttotal: 282ms\tremaining: 371ms\n",
      "432:\tlearn: 0.1137258\ttotal: 283ms\tremaining: 370ms\n",
      "433:\tlearn: 0.1136105\ttotal: 283ms\tremaining: 369ms\n",
      "434:\tlearn: 0.1134980\ttotal: 283ms\tremaining: 368ms\n",
      "435:\tlearn: 0.1129062\ttotal: 284ms\tremaining: 367ms\n",
      "436:\tlearn: 0.1127958\ttotal: 284ms\tremaining: 366ms\n",
      "437:\tlearn: 0.1126880\ttotal: 284ms\tremaining: 365ms\n",
      "438:\tlearn: 0.1123763\ttotal: 285ms\tremaining: 364ms\n",
      "439:\tlearn: 0.1122709\ttotal: 285ms\tremaining: 363ms\n",
      "440:\tlearn: 0.1117106\ttotal: 286ms\tremaining: 362ms\n",
      "441:\tlearn: 0.1116078\ttotal: 286ms\tremaining: 361ms\n",
      "442:\tlearn: 0.1113056\ttotal: 286ms\tremaining: 360ms\n",
      "443:\tlearn: 0.1112049\ttotal: 287ms\tremaining: 359ms\n",
      "444:\tlearn: 0.1111067\ttotal: 287ms\tremaining: 358ms\n",
      "445:\tlearn: 0.1105032\ttotal: 287ms\tremaining: 357ms\n",
      "446:\tlearn: 0.1099140\ttotal: 288ms\tremaining: 356ms\n",
      "447:\tlearn: 0.1094400\ttotal: 288ms\tremaining: 355ms\n",
      "448:\tlearn: 0.1087796\ttotal: 289ms\tremaining: 354ms\n",
      "449:\tlearn: 0.1086839\ttotal: 289ms\tremaining: 353ms\n",
      "450:\tlearn: 0.1080671\ttotal: 289ms\tremaining: 352ms\n",
      "451:\tlearn: 0.1077962\ttotal: 290ms\tremaining: 351ms\n",
      "452:\tlearn: 0.1077034\ttotal: 290ms\tremaining: 350ms\n",
      "453:\tlearn: 0.1070592\ttotal: 290ms\tremaining: 349ms\n",
      "454:\tlearn: 0.1068455\ttotal: 291ms\tremaining: 348ms\n",
      "455:\tlearn: 0.1067549\ttotal: 291ms\tremaining: 347ms\n",
      "456:\tlearn: 0.1064757\ttotal: 292ms\tremaining: 347ms\n",
      "457:\tlearn: 0.1060234\ttotal: 293ms\tremaining: 347ms\n",
      "458:\tlearn: 0.1059346\ttotal: 293ms\tremaining: 345ms\n",
      "459:\tlearn: 0.1053090\ttotal: 294ms\tremaining: 345ms\n",
      "460:\tlearn: 0.1051108\ttotal: 296ms\tremaining: 346ms\n",
      "461:\tlearn: 0.1044985\ttotal: 297ms\tremaining: 346ms\n",
      "462:\tlearn: 0.1043043\ttotal: 297ms\tremaining: 345ms\n",
      "463:\tlearn: 0.1040296\ttotal: 298ms\tremaining: 344ms\n",
      "464:\tlearn: 0.1038397\ttotal: 299ms\tremaining: 344ms\n",
      "465:\tlearn: 0.1032327\ttotal: 300ms\tremaining: 344ms\n",
      "466:\tlearn: 0.1031475\ttotal: 301ms\tremaining: 344ms\n",
      "467:\tlearn: 0.1029617\ttotal: 302ms\tremaining: 343ms\n",
      "468:\tlearn: 0.1024176\ttotal: 303ms\tremaining: 343ms\n",
      "469:\tlearn: 0.1018310\ttotal: 303ms\tremaining: 342ms\n",
      "470:\tlearn: 0.1012948\ttotal: 304ms\tremaining: 341ms\n",
      "471:\tlearn: 0.1011858\ttotal: 304ms\tremaining: 340ms\n",
      "472:\tlearn: 0.1010781\ttotal: 304ms\tremaining: 339ms\n",
      "473:\tlearn: 0.1005106\ttotal: 305ms\tremaining: 338ms\n",
      "474:\tlearn: 0.1004051\ttotal: 308ms\tremaining: 341ms\n",
      "475:\tlearn: 0.1003222\ttotal: 308ms\tremaining: 339ms\n",
      "476:\tlearn: 0.0997684\ttotal: 309ms\tremaining: 339ms\n",
      "477:\tlearn: 0.0996649\ttotal: 309ms\tremaining: 337ms\n",
      "478:\tlearn: 0.0993442\ttotal: 309ms\tremaining: 337ms\n",
      "479:\tlearn: 0.0989296\ttotal: 310ms\tremaining: 336ms\n",
      "480:\tlearn: 0.0983939\ttotal: 311ms\tremaining: 335ms\n",
      "481:\tlearn: 0.0981589\ttotal: 312ms\tremaining: 335ms\n",
      "482:\tlearn: 0.0980784\ttotal: 312ms\tremaining: 334ms\n",
      "483:\tlearn: 0.0978325\ttotal: 312ms\tremaining: 333ms\n"
     ]
    },
    {
     "name": "stdout",
     "output_type": "stream",
     "text": [
      "484:\tlearn: 0.0974313\ttotal: 313ms\tremaining: 333ms\n",
      "485:\tlearn: 0.0970418\ttotal: 314ms\tremaining: 332ms\n",
      "486:\tlearn: 0.0965077\ttotal: 314ms\tremaining: 331ms\n",
      "487:\tlearn: 0.0961298\ttotal: 314ms\tremaining: 330ms\n",
      "488:\tlearn: 0.0956242\ttotal: 315ms\tremaining: 329ms\n",
      "489:\tlearn: 0.0955446\ttotal: 315ms\tremaining: 328ms\n",
      "490:\tlearn: 0.0951633\ttotal: 318ms\tremaining: 330ms\n",
      "491:\tlearn: 0.0950855\ttotal: 319ms\tremaining: 329ms\n",
      "492:\tlearn: 0.0945019\ttotal: 319ms\tremaining: 328ms\n",
      "493:\tlearn: 0.0939295\ttotal: 320ms\tremaining: 327ms\n",
      "494:\tlearn: 0.0933682\ttotal: 320ms\tremaining: 327ms\n",
      "495:\tlearn: 0.0929599\ttotal: 321ms\tremaining: 326ms\n",
      "496:\tlearn: 0.0924130\ttotal: 321ms\tremaining: 325ms\n",
      "497:\tlearn: 0.0918544\ttotal: 322ms\tremaining: 324ms\n",
      "498:\tlearn: 0.0914584\ttotal: 322ms\tremaining: 323ms\n",
      "499:\tlearn: 0.0912858\ttotal: 323ms\tremaining: 323ms\n",
      "500:\tlearn: 0.0912103\ttotal: 323ms\tremaining: 322ms\n",
      "501:\tlearn: 0.0908221\ttotal: 323ms\tremaining: 321ms\n",
      "502:\tlearn: 0.0907486\ttotal: 324ms\tremaining: 320ms\n",
      "503:\tlearn: 0.0901700\ttotal: 324ms\tremaining: 319ms\n",
      "504:\tlearn: 0.0900980\ttotal: 324ms\tremaining: 318ms\n",
      "505:\tlearn: 0.0899481\ttotal: 325ms\tremaining: 317ms\n",
      "506:\tlearn: 0.0893830\ttotal: 326ms\tremaining: 317ms\n",
      "507:\tlearn: 0.0893126\ttotal: 326ms\tremaining: 316ms\n",
      "508:\tlearn: 0.0889671\ttotal: 326ms\tremaining: 315ms\n",
      "509:\tlearn: 0.0888983\ttotal: 327ms\tremaining: 314ms\n",
      "510:\tlearn: 0.0883464\ttotal: 327ms\tremaining: 313ms\n",
      "511:\tlearn: 0.0878963\ttotal: 328ms\tremaining: 312ms\n",
      "512:\tlearn: 0.0878287\ttotal: 328ms\tremaining: 311ms\n",
      "513:\tlearn: 0.0876668\ttotal: 328ms\tremaining: 311ms\n",
      "514:\tlearn: 0.0876009\ttotal: 329ms\tremaining: 310ms\n",
      "515:\tlearn: 0.0870658\ttotal: 329ms\tremaining: 309ms\n",
      "516:\tlearn: 0.0867270\ttotal: 330ms\tremaining: 308ms\n",
      "517:\tlearn: 0.0866448\ttotal: 330ms\tremaining: 307ms\n",
      "518:\tlearn: 0.0865806\ttotal: 330ms\tremaining: 306ms\n",
      "519:\tlearn: 0.0860593\ttotal: 331ms\tremaining: 305ms\n",
      "520:\tlearn: 0.0859711\ttotal: 331ms\tremaining: 305ms\n",
      "521:\tlearn: 0.0858161\ttotal: 332ms\tremaining: 304ms\n",
      "522:\tlearn: 0.0857342\ttotal: 332ms\tremaining: 303ms\n",
      "523:\tlearn: 0.0851933\ttotal: 333ms\tremaining: 302ms\n",
      "524:\tlearn: 0.0848706\ttotal: 333ms\tremaining: 301ms\n",
      "525:\tlearn: 0.0847201\ttotal: 334ms\tremaining: 301ms\n",
      "526:\tlearn: 0.0846362\ttotal: 334ms\tremaining: 300ms\n",
      "527:\tlearn: 0.0844880\ttotal: 334ms\tremaining: 299ms\n",
      "528:\tlearn: 0.0844057\ttotal: 335ms\tremaining: 298ms\n",
      "529:\tlearn: 0.0839131\ttotal: 335ms\tremaining: 297ms\n",
      "530:\tlearn: 0.0838324\ttotal: 336ms\tremaining: 297ms\n",
      "531:\tlearn: 0.0836884\ttotal: 336ms\tremaining: 296ms\n",
      "532:\tlearn: 0.0836137\ttotal: 337ms\tremaining: 295ms\n",
      "533:\tlearn: 0.0834719\ttotal: 337ms\tremaining: 294ms\n",
      "534:\tlearn: 0.0833939\ttotal: 338ms\tremaining: 294ms\n",
      "535:\tlearn: 0.0829164\ttotal: 338ms\tremaining: 293ms\n",
      "536:\tlearn: 0.0828400\ttotal: 338ms\tremaining: 292ms\n",
      "537:\tlearn: 0.0827690\ttotal: 339ms\tremaining: 291ms\n",
      "538:\tlearn: 0.0826315\ttotal: 339ms\tremaining: 290ms\n",
      "539:\tlearn: 0.0825572\ttotal: 340ms\tremaining: 289ms\n",
      "540:\tlearn: 0.0820561\ttotal: 340ms\tremaining: 289ms\n",
      "541:\tlearn: 0.0819219\ttotal: 341ms\tremaining: 288ms\n",
      "542:\tlearn: 0.0817896\ttotal: 341ms\tremaining: 287ms\n",
      "543:\tlearn: 0.0815713\ttotal: 342ms\tremaining: 286ms\n",
      "544:\tlearn: 0.0815062\ttotal: 342ms\tremaining: 286ms\n",
      "545:\tlearn: 0.0814348\ttotal: 343ms\tremaining: 285ms\n",
      "546:\tlearn: 0.0809832\ttotal: 343ms\tremaining: 284ms\n",
      "547:\tlearn: 0.0806361\ttotal: 344ms\tremaining: 283ms\n",
      "548:\tlearn: 0.0805661\ttotal: 345ms\tremaining: 283ms\n",
      "549:\tlearn: 0.0804394\ttotal: 345ms\tremaining: 282ms\n",
      "550:\tlearn: 0.0803777\ttotal: 345ms\tremaining: 281ms\n",
      "551:\tlearn: 0.0803157\ttotal: 346ms\tremaining: 281ms\n",
      "552:\tlearn: 0.0801910\ttotal: 346ms\tremaining: 280ms\n",
      "553:\tlearn: 0.0800156\ttotal: 347ms\tremaining: 279ms\n",
      "554:\tlearn: 0.0798924\ttotal: 347ms\tremaining: 278ms\n",
      "555:\tlearn: 0.0797708\ttotal: 348ms\tremaining: 278ms\n",
      "556:\tlearn: 0.0797107\ttotal: 348ms\tremaining: 277ms\n",
      "557:\tlearn: 0.0792776\ttotal: 348ms\tremaining: 276ms\n",
      "558:\tlearn: 0.0792108\ttotal: 349ms\tremaining: 275ms\n",
      "559:\tlearn: 0.0791449\ttotal: 349ms\tremaining: 274ms\n",
      "560:\tlearn: 0.0790268\ttotal: 350ms\tremaining: 274ms\n",
      "561:\tlearn: 0.0788147\ttotal: 350ms\tremaining: 273ms\n",
      "562:\tlearn: 0.0786976\ttotal: 350ms\tremaining: 272ms\n",
      "563:\tlearn: 0.0784987\ttotal: 351ms\tremaining: 271ms\n",
      "564:\tlearn: 0.0783301\ttotal: 351ms\tremaining: 271ms\n",
      "565:\tlearn: 0.0782141\ttotal: 352ms\tremaining: 270ms\n",
      "566:\tlearn: 0.0780996\ttotal: 352ms\tremaining: 269ms\n",
      "567:\tlearn: 0.0780409\ttotal: 353ms\tremaining: 268ms\n",
      "568:\tlearn: 0.0776211\ttotal: 353ms\tremaining: 267ms\n",
      "569:\tlearn: 0.0775636\ttotal: 353ms\tremaining: 267ms\n",
      "570:\tlearn: 0.0771916\ttotal: 354ms\tremaining: 266ms\n",
      "571:\tlearn: 0.0771353\ttotal: 354ms\tremaining: 265ms\n",
      "572:\tlearn: 0.0767713\ttotal: 354ms\tremaining: 264ms\n",
      "573:\tlearn: 0.0763437\ttotal: 355ms\tremaining: 263ms\n",
      "574:\tlearn: 0.0762334\ttotal: 355ms\tremaining: 263ms\n",
      "575:\tlearn: 0.0761247\ttotal: 356ms\tremaining: 262ms\n",
      "576:\tlearn: 0.0760174\ttotal: 356ms\tremaining: 261ms\n",
      "577:\tlearn: 0.0758164\ttotal: 357ms\tremaining: 260ms\n",
      "578:\tlearn: 0.0757103\ttotal: 357ms\tremaining: 260ms\n",
      "579:\tlearn: 0.0755078\ttotal: 357ms\tremaining: 259ms\n",
      "580:\tlearn: 0.0751020\ttotal: 358ms\tremaining: 258ms\n",
      "581:\tlearn: 0.0749969\ttotal: 358ms\tremaining: 257ms\n",
      "582:\tlearn: 0.0747769\ttotal: 359ms\tremaining: 257ms\n",
      "583:\tlearn: 0.0746728\ttotal: 360ms\tremaining: 256ms\n",
      "584:\tlearn: 0.0744731\ttotal: 360ms\tremaining: 255ms\n",
      "585:\tlearn: 0.0744246\ttotal: 360ms\tremaining: 255ms\n",
      "586:\tlearn: 0.0743217\ttotal: 361ms\tremaining: 254ms\n",
      "587:\tlearn: 0.0739306\ttotal: 361ms\tremaining: 253ms\n",
      "588:\tlearn: 0.0738836\ttotal: 362ms\tremaining: 252ms\n",
      "589:\tlearn: 0.0737265\ttotal: 362ms\tremaining: 252ms\n",
      "590:\tlearn: 0.0736248\ttotal: 363ms\tremaining: 251ms\n",
      "591:\tlearn: 0.0732009\ttotal: 363ms\tremaining: 250ms\n",
      "592:\tlearn: 0.0731009\ttotal: 364ms\tremaining: 250ms\n",
      "593:\tlearn: 0.0730022\ttotal: 364ms\tremaining: 249ms\n",
      "594:\tlearn: 0.0726248\ttotal: 364ms\tremaining: 248ms\n",
      "595:\tlearn: 0.0725791\ttotal: 365ms\tremaining: 247ms\n",
      "596:\tlearn: 0.0724817\ttotal: 365ms\tremaining: 246ms\n",
      "597:\tlearn: 0.0722685\ttotal: 365ms\tremaining: 246ms\n",
      "598:\tlearn: 0.0722238\ttotal: 366ms\tremaining: 245ms\n",
      "599:\tlearn: 0.0718398\ttotal: 366ms\tremaining: 244ms\n",
      "600:\tlearn: 0.0717434\ttotal: 367ms\tremaining: 243ms\n",
      "601:\tlearn: 0.0715303\ttotal: 367ms\tremaining: 243ms\n",
      "602:\tlearn: 0.0714349\ttotal: 367ms\tremaining: 242ms\n",
      "603:\tlearn: 0.0713912\ttotal: 368ms\tremaining: 241ms\n",
      "604:\tlearn: 0.0712972\ttotal: 368ms\tremaining: 240ms\n",
      "605:\tlearn: 0.0709345\ttotal: 368ms\tremaining: 240ms\n",
      "606:\tlearn: 0.0708922\ttotal: 369ms\tremaining: 239ms\n",
      "607:\tlearn: 0.0705068\ttotal: 369ms\tremaining: 238ms\n",
      "608:\tlearn: 0.0704140\ttotal: 370ms\tremaining: 237ms\n",
      "609:\tlearn: 0.0703225\ttotal: 370ms\tremaining: 237ms\n",
      "610:\tlearn: 0.0700772\ttotal: 370ms\tremaining: 236ms\n",
      "611:\tlearn: 0.0700359\ttotal: 371ms\tremaining: 235ms\n",
      "612:\tlearn: 0.0699458\ttotal: 371ms\tremaining: 234ms\n",
      "613:\tlearn: 0.0697326\ttotal: 371ms\tremaining: 233ms\n",
      "614:\tlearn: 0.0695469\ttotal: 372ms\tremaining: 233ms\n",
      "615:\tlearn: 0.0694638\ttotal: 372ms\tremaining: 232ms\n",
      "616:\tlearn: 0.0693670\ttotal: 373ms\tremaining: 231ms\n",
      "617:\tlearn: 0.0691745\ttotal: 373ms\tremaining: 231ms\n",
      "618:\tlearn: 0.0690787\ttotal: 374ms\tremaining: 230ms\n",
      "619:\tlearn: 0.0689843\ttotal: 374ms\tremaining: 229ms\n",
      "620:\tlearn: 0.0687777\ttotal: 375ms\tremaining: 229ms\n",
      "621:\tlearn: 0.0686848\ttotal: 375ms\tremaining: 228ms\n",
      "622:\tlearn: 0.0685703\ttotal: 375ms\tremaining: 227ms\n",
      "623:\tlearn: 0.0684796\ttotal: 376ms\tremaining: 226ms\n",
      "624:\tlearn: 0.0682778\ttotal: 377ms\tremaining: 226ms\n",
      "625:\tlearn: 0.0681665\ttotal: 378ms\tremaining: 226ms\n",
      "626:\tlearn: 0.0680575\ttotal: 378ms\tremaining: 225ms\n",
      "627:\tlearn: 0.0678602\ttotal: 379ms\tremaining: 224ms\n",
      "628:\tlearn: 0.0677534\ttotal: 379ms\tremaining: 224ms\n",
      "629:\tlearn: 0.0674090\ttotal: 379ms\tremaining: 223ms\n",
      "630:\tlearn: 0.0673737\ttotal: 380ms\tremaining: 222ms\n",
      "631:\tlearn: 0.0672857\ttotal: 380ms\tremaining: 221ms\n",
      "632:\tlearn: 0.0671401\ttotal: 381ms\tremaining: 221ms\n",
      "633:\tlearn: 0.0668049\ttotal: 381ms\tremaining: 220ms\n",
      "634:\tlearn: 0.0667189\ttotal: 382ms\tremaining: 219ms\n",
      "635:\tlearn: 0.0666150\ttotal: 382ms\tremaining: 219ms\n",
      "636:\tlearn: 0.0662957\ttotal: 383ms\tremaining: 218ms\n",
      "637:\tlearn: 0.0662107\ttotal: 383ms\tremaining: 217ms\n",
      "638:\tlearn: 0.0658997\ttotal: 383ms\tremaining: 217ms\n",
      "639:\tlearn: 0.0658159\ttotal: 384ms\tremaining: 216ms\n",
      "640:\tlearn: 0.0655128\ttotal: 384ms\tremaining: 215ms\n",
      "641:\tlearn: 0.0654301\ttotal: 385ms\tremaining: 215ms\n",
      "642:\tlearn: 0.0651765\ttotal: 385ms\tremaining: 214ms\n",
      "643:\tlearn: 0.0650948\ttotal: 385ms\tremaining: 213ms\n",
      "644:\tlearn: 0.0649099\ttotal: 386ms\tremaining: 212ms\n",
      "645:\tlearn: 0.0645935\ttotal: 386ms\tremaining: 212ms\n",
      "646:\tlearn: 0.0642619\ttotal: 387ms\tremaining: 211ms\n",
      "647:\tlearn: 0.0640315\ttotal: 387ms\tremaining: 210ms\n",
      "648:\tlearn: 0.0639519\ttotal: 388ms\tremaining: 210ms\n",
      "649:\tlearn: 0.0637274\ttotal: 388ms\tremaining: 209ms\n",
      "650:\tlearn: 0.0636493\ttotal: 389ms\tremaining: 208ms\n",
      "651:\tlearn: 0.0636161\ttotal: 389ms\tremaining: 208ms\n",
      "652:\tlearn: 0.0634377\ttotal: 389ms\tremaining: 207ms\n",
      "653:\tlearn: 0.0633605\ttotal: 390ms\tremaining: 206ms\n",
      "654:\tlearn: 0.0631818\ttotal: 390ms\tremaining: 206ms\n",
      "655:\tlearn: 0.0631054\ttotal: 391ms\tremaining: 205ms\n",
      "656:\tlearn: 0.0630730\ttotal: 391ms\tremaining: 204ms\n",
      "657:\tlearn: 0.0629977\ttotal: 391ms\tremaining: 203ms\n",
      "658:\tlearn: 0.0628230\ttotal: 392ms\tremaining: 203ms\n",
      "659:\tlearn: 0.0627485\ttotal: 392ms\tremaining: 202ms\n",
      "660:\tlearn: 0.0626750\ttotal: 392ms\tremaining: 201ms\n",
      "661:\tlearn: 0.0624430\ttotal: 393ms\tremaining: 201ms\n",
      "662:\tlearn: 0.0623705\ttotal: 393ms\tremaining: 200ms\n",
      "663:\tlearn: 0.0623390\ttotal: 394ms\tremaining: 199ms\n",
      "664:\tlearn: 0.0621119\ttotal: 394ms\tremaining: 199ms\n",
      "665:\tlearn: 0.0620404\ttotal: 395ms\tremaining: 198ms\n",
      "666:\tlearn: 0.0619428\ttotal: 395ms\tremaining: 197ms\n",
      "667:\tlearn: 0.0617696\ttotal: 396ms\tremaining: 197ms\n",
      "668:\tlearn: 0.0615740\ttotal: 396ms\tremaining: 196ms\n",
      "669:\tlearn: 0.0613840\ttotal: 397ms\tremaining: 195ms\n",
      "670:\tlearn: 0.0613142\ttotal: 397ms\tremaining: 195ms\n",
      "671:\tlearn: 0.0610831\ttotal: 397ms\tremaining: 194ms\n",
      "672:\tlearn: 0.0610141\ttotal: 398ms\tremaining: 193ms\n",
      "673:\tlearn: 0.0607492\ttotal: 398ms\tremaining: 193ms\n",
      "674:\tlearn: 0.0607190\ttotal: 398ms\tremaining: 192ms\n",
      "675:\tlearn: 0.0606508\ttotal: 399ms\tremaining: 191ms\n",
      "676:\tlearn: 0.0605107\ttotal: 399ms\tremaining: 191ms\n",
      "677:\tlearn: 0.0603263\ttotal: 400ms\tremaining: 190ms\n",
      "678:\tlearn: 0.0602590\ttotal: 400ms\tremaining: 189ms\n",
      "679:\tlearn: 0.0599191\ttotal: 400ms\tremaining: 188ms\n",
      "680:\tlearn: 0.0598272\ttotal: 401ms\tremaining: 188ms\n",
      "681:\tlearn: 0.0595186\ttotal: 401ms\tremaining: 187ms\n",
      "682:\tlearn: 0.0594285\ttotal: 402ms\tremaining: 187ms\n",
      "683:\tlearn: 0.0590973\ttotal: 402ms\tremaining: 186ms\n",
      "684:\tlearn: 0.0590090\ttotal: 403ms\tremaining: 185ms\n",
      "685:\tlearn: 0.0589372\ttotal: 403ms\tremaining: 185ms\n",
      "686:\tlearn: 0.0586115\ttotal: 404ms\tremaining: 184ms\n",
      "687:\tlearn: 0.0583149\ttotal: 404ms\tremaining: 183ms\n",
      "688:\tlearn: 0.0582439\ttotal: 405ms\tremaining: 183ms\n",
      "689:\tlearn: 0.0581591\ttotal: 405ms\tremaining: 182ms\n",
      "690:\tlearn: 0.0578627\ttotal: 405ms\tremaining: 181ms\n",
      "691:\tlearn: 0.0577938\ttotal: 406ms\tremaining: 181ms\n",
      "692:\tlearn: 0.0575017\ttotal: 406ms\tremaining: 180ms\n",
      "693:\tlearn: 0.0574196\ttotal: 407ms\tremaining: 179ms\n",
      "694:\tlearn: 0.0571319\ttotal: 407ms\tremaining: 179ms\n",
      "695:\tlearn: 0.0570648\ttotal: 408ms\tremaining: 178ms\n",
      "696:\tlearn: 0.0567556\ttotal: 408ms\tremaining: 178ms\n",
      "697:\tlearn: 0.0566759\ttotal: 409ms\tremaining: 177ms\n",
      "698:\tlearn: 0.0563949\ttotal: 409ms\tremaining: 176ms\n",
      "699:\tlearn: 0.0563294\ttotal: 410ms\tremaining: 176ms\n",
      "700:\tlearn: 0.0559950\ttotal: 411ms\tremaining: 175ms\n",
      "701:\tlearn: 0.0556948\ttotal: 411ms\tremaining: 175ms\n",
      "702:\tlearn: 0.0556175\ttotal: 412ms\tremaining: 174ms\n",
      "703:\tlearn: 0.0553246\ttotal: 412ms\tremaining: 173ms\n",
      "704:\tlearn: 0.0552488\ttotal: 413ms\tremaining: 173ms\n",
      "705:\tlearn: 0.0551868\ttotal: 413ms\tremaining: 172ms\n",
      "706:\tlearn: 0.0549011\ttotal: 414ms\tremaining: 171ms\n",
      "707:\tlearn: 0.0546224\ttotal: 414ms\tremaining: 171ms\n",
      "708:\tlearn: 0.0545487\ttotal: 415ms\tremaining: 170ms\n",
      "709:\tlearn: 0.0544889\ttotal: 415ms\tremaining: 170ms\n",
      "710:\tlearn: 0.0542170\ttotal: 415ms\tremaining: 169ms\n",
      "711:\tlearn: 0.0541166\ttotal: 416ms\tremaining: 168ms\n",
      "712:\tlearn: 0.0539082\ttotal: 416ms\tremaining: 168ms\n",
      "713:\tlearn: 0.0537701\ttotal: 417ms\tremaining: 167ms\n",
      "714:\tlearn: 0.0536785\ttotal: 417ms\tremaining: 166ms\n",
      "715:\tlearn: 0.0534680\ttotal: 418ms\tremaining: 166ms\n",
      "716:\tlearn: 0.0534444\ttotal: 418ms\tremaining: 165ms\n",
      "717:\tlearn: 0.0532461\ttotal: 418ms\tremaining: 164ms\n"
     ]
    },
    {
     "name": "stdout",
     "output_type": "stream",
     "text": [
      "718:\tlearn: 0.0530512\ttotal: 419ms\tremaining: 164ms\n",
      "719:\tlearn: 0.0528605\ttotal: 419ms\tremaining: 163ms\n",
      "720:\tlearn: 0.0526088\ttotal: 420ms\tremaining: 162ms\n",
      "721:\tlearn: 0.0525562\ttotal: 421ms\tremaining: 162ms\n",
      "722:\tlearn: 0.0523109\ttotal: 421ms\tremaining: 161ms\n",
      "723:\tlearn: 0.0521515\ttotal: 421ms\tremaining: 161ms\n",
      "724:\tlearn: 0.0521240\ttotal: 422ms\tremaining: 160ms\n",
      "725:\tlearn: 0.0518870\ttotal: 422ms\tremaining: 159ms\n",
      "726:\tlearn: 0.0517454\ttotal: 423ms\tremaining: 159ms\n",
      "727:\tlearn: 0.0517183\ttotal: 423ms\tremaining: 158ms\n",
      "728:\tlearn: 0.0514888\ttotal: 423ms\tremaining: 157ms\n",
      "729:\tlearn: 0.0513611\ttotal: 424ms\tremaining: 157ms\n",
      "730:\tlearn: 0.0512243\ttotal: 424ms\tremaining: 156ms\n",
      "731:\tlearn: 0.0511014\ttotal: 425ms\tremaining: 155ms\n",
      "732:\tlearn: 0.0508801\ttotal: 425ms\tremaining: 155ms\n",
      "733:\tlearn: 0.0508535\ttotal: 425ms\tremaining: 154ms\n",
      "734:\tlearn: 0.0507352\ttotal: 426ms\tremaining: 154ms\n",
      "735:\tlearn: 0.0505196\ttotal: 426ms\tremaining: 153ms\n",
      "736:\tlearn: 0.0504057\ttotal: 427ms\tremaining: 152ms\n",
      "737:\tlearn: 0.0502388\ttotal: 428ms\tremaining: 152ms\n",
      "738:\tlearn: 0.0501609\ttotal: 428ms\tremaining: 151ms\n",
      "739:\tlearn: 0.0501352\ttotal: 428ms\tremaining: 151ms\n",
      "740:\tlearn: 0.0499270\ttotal: 429ms\tremaining: 150ms\n",
      "741:\tlearn: 0.0498512\ttotal: 429ms\tremaining: 149ms\n",
      "742:\tlearn: 0.0498206\ttotal: 430ms\tremaining: 149ms\n",
      "743:\tlearn: 0.0496585\ttotal: 430ms\tremaining: 148ms\n",
      "744:\tlearn: 0.0496286\ttotal: 431ms\tremaining: 147ms\n",
      "745:\tlearn: 0.0495215\ttotal: 431ms\tremaining: 147ms\n",
      "746:\tlearn: 0.0493209\ttotal: 432ms\tremaining: 146ms\n",
      "747:\tlearn: 0.0492915\ttotal: 432ms\tremaining: 146ms\n",
      "748:\tlearn: 0.0492306\ttotal: 432ms\tremaining: 145ms\n",
      "749:\tlearn: 0.0490734\ttotal: 433ms\tremaining: 144ms\n",
      "750:\tlearn: 0.0490447\ttotal: 433ms\tremaining: 144ms\n",
      "751:\tlearn: 0.0490200\ttotal: 434ms\tremaining: 143ms\n",
      "752:\tlearn: 0.0488261\ttotal: 434ms\tremaining: 142ms\n",
      "753:\tlearn: 0.0487980\ttotal: 434ms\tremaining: 142ms\n",
      "754:\tlearn: 0.0487702\ttotal: 435ms\tremaining: 141ms\n",
      "755:\tlearn: 0.0485825\ttotal: 435ms\tremaining: 140ms\n",
      "756:\tlearn: 0.0483951\ttotal: 436ms\tremaining: 140ms\n",
      "757:\tlearn: 0.0483362\ttotal: 436ms\tremaining: 139ms\n",
      "758:\tlearn: 0.0483119\ttotal: 436ms\tremaining: 139ms\n",
      "759:\tlearn: 0.0482849\ttotal: 437ms\tremaining: 138ms\n",
      "760:\tlearn: 0.0481363\ttotal: 437ms\tremaining: 137ms\n",
      "761:\tlearn: 0.0481099\ttotal: 438ms\tremaining: 137ms\n",
      "762:\tlearn: 0.0480524\ttotal: 438ms\tremaining: 136ms\n",
      "763:\tlearn: 0.0478713\ttotal: 438ms\tremaining: 135ms\n",
      "764:\tlearn: 0.0478454\ttotal: 439ms\tremaining: 135ms\n",
      "765:\tlearn: 0.0478198\ttotal: 439ms\tremaining: 134ms\n",
      "766:\tlearn: 0.0475956\ttotal: 440ms\tremaining: 134ms\n",
      "767:\tlearn: 0.0475704\ttotal: 440ms\tremaining: 133ms\n",
      "768:\tlearn: 0.0474602\ttotal: 440ms\tremaining: 132ms\n",
      "769:\tlearn: 0.0474051\ttotal: 441ms\tremaining: 132ms\n",
      "770:\tlearn: 0.0472961\ttotal: 441ms\tremaining: 131ms\n",
      "771:\tlearn: 0.0471141\ttotal: 441ms\tremaining: 130ms\n",
      "772:\tlearn: 0.0470893\ttotal: 442ms\tremaining: 130ms\n",
      "773:\tlearn: 0.0469845\ttotal: 442ms\tremaining: 129ms\n",
      "774:\tlearn: 0.0469600\ttotal: 442ms\tremaining: 128ms\n",
      "775:\tlearn: 0.0469069\ttotal: 443ms\tremaining: 128ms\n",
      "776:\tlearn: 0.0468034\ttotal: 443ms\tremaining: 127ms\n",
      "777:\tlearn: 0.0465893\ttotal: 444ms\tremaining: 127ms\n",
      "778:\tlearn: 0.0464140\ttotal: 444ms\tremaining: 126ms\n",
      "779:\tlearn: 0.0462366\ttotal: 445ms\tremaining: 125ms\n",
      "780:\tlearn: 0.0462128\ttotal: 445ms\tremaining: 125ms\n",
      "781:\tlearn: 0.0461894\ttotal: 446ms\tremaining: 124ms\n",
      "782:\tlearn: 0.0460181\ttotal: 446ms\tremaining: 124ms\n",
      "783:\tlearn: 0.0459673\ttotal: 447ms\tremaining: 123ms\n",
      "784:\tlearn: 0.0457938\ttotal: 447ms\tremaining: 122ms\n",
      "785:\tlearn: 0.0457711\ttotal: 447ms\tremaining: 122ms\n",
      "786:\tlearn: 0.0457365\ttotal: 448ms\tremaining: 121ms\n",
      "787:\tlearn: 0.0455585\ttotal: 448ms\tremaining: 121ms\n",
      "788:\tlearn: 0.0454146\ttotal: 449ms\tremaining: 120ms\n",
      "789:\tlearn: 0.0452454\ttotal: 450ms\tremaining: 120ms\n",
      "790:\tlearn: 0.0451952\ttotal: 451ms\tremaining: 119ms\n",
      "791:\tlearn: 0.0451457\ttotal: 451ms\tremaining: 118ms\n",
      "792:\tlearn: 0.0449746\ttotal: 452ms\tremaining: 118ms\n",
      "793:\tlearn: 0.0449250\ttotal: 452ms\tremaining: 117ms\n",
      "794:\tlearn: 0.0448769\ttotal: 453ms\tremaining: 117ms\n",
      "795:\tlearn: 0.0446738\ttotal: 453ms\tremaining: 116ms\n",
      "796:\tlearn: 0.0446429\ttotal: 454ms\tremaining: 116ms\n",
      "797:\tlearn: 0.0445946\ttotal: 455ms\tremaining: 115ms\n",
      "798:\tlearn: 0.0445644\ttotal: 455ms\tremaining: 115ms\n",
      "799:\tlearn: 0.0443994\ttotal: 456ms\tremaining: 114ms\n",
      "800:\tlearn: 0.0443519\ttotal: 457ms\tremaining: 113ms\n",
      "801:\tlearn: 0.0443222\ttotal: 457ms\tremaining: 113ms\n",
      "802:\tlearn: 0.0441333\ttotal: 458ms\tremaining: 112ms\n",
      "803:\tlearn: 0.0440870\ttotal: 459ms\tremaining: 112ms\n",
      "804:\tlearn: 0.0439651\ttotal: 461ms\tremaining: 112ms\n",
      "805:\tlearn: 0.0439197\ttotal: 461ms\tremaining: 111ms\n",
      "806:\tlearn: 0.0438731\ttotal: 462ms\tremaining: 110ms\n",
      "807:\tlearn: 0.0437543\ttotal: 462ms\tremaining: 110ms\n",
      "808:\tlearn: 0.0435910\ttotal: 463ms\tremaining: 109ms\n",
      "809:\tlearn: 0.0434316\ttotal: 463ms\tremaining: 109ms\n",
      "810:\tlearn: 0.0432759\ttotal: 463ms\tremaining: 108ms\n",
      "811:\tlearn: 0.0430889\ttotal: 464ms\tremaining: 107ms\n",
      "812:\tlearn: 0.0429531\ttotal: 464ms\tremaining: 107ms\n",
      "813:\tlearn: 0.0427978\ttotal: 465ms\tremaining: 106ms\n",
      "814:\tlearn: 0.0427697\ttotal: 465ms\tremaining: 106ms\n",
      "815:\tlearn: 0.0427383\ttotal: 466ms\tremaining: 105ms\n",
      "816:\tlearn: 0.0425768\ttotal: 466ms\tremaining: 104ms\n",
      "817:\tlearn: 0.0425326\ttotal: 466ms\tremaining: 104ms\n",
      "818:\tlearn: 0.0424892\ttotal: 467ms\tremaining: 103ms\n",
      "819:\tlearn: 0.0424619\ttotal: 468ms\tremaining: 103ms\n",
      "820:\tlearn: 0.0423298\ttotal: 468ms\tremaining: 102ms\n",
      "821:\tlearn: 0.0421716\ttotal: 469ms\tremaining: 102ms\n",
      "822:\tlearn: 0.0421291\ttotal: 469ms\tremaining: 101ms\n",
      "823:\tlearn: 0.0419754\ttotal: 470ms\tremaining: 100ms\n",
      "824:\tlearn: 0.0417967\ttotal: 470ms\tremaining: 99.7ms\n",
      "825:\tlearn: 0.0417699\ttotal: 471ms\tremaining: 99.1ms\n",
      "826:\tlearn: 0.0416352\ttotal: 471ms\tremaining: 98.5ms\n",
      "827:\tlearn: 0.0416090\ttotal: 471ms\tremaining: 97.9ms\n",
      "828:\tlearn: 0.0415081\ttotal: 472ms\tremaining: 97.3ms\n",
      "829:\tlearn: 0.0414787\ttotal: 472ms\tremaining: 96.7ms\n",
      "830:\tlearn: 0.0413081\ttotal: 473ms\tremaining: 96.1ms\n",
      "831:\tlearn: 0.0411545\ttotal: 473ms\tremaining: 95.5ms\n",
      "832:\tlearn: 0.0410121\ttotal: 474ms\tremaining: 94.9ms\n"
     ]
    },
    {
     "name": "stdout",
     "output_type": "stream",
     "text": [
      "833:\tlearn: 0.0408008\ttotal: 476ms\tremaining: 94.8ms\n",
      "834:\tlearn: 0.0406557\ttotal: 477ms\tremaining: 94.2ms\n",
      "835:\tlearn: 0.0406145\ttotal: 477ms\tremaining: 93.6ms\n",
      "836:\tlearn: 0.0404082\ttotal: 478ms\tremaining: 93ms\n",
      "837:\tlearn: 0.0403125\ttotal: 478ms\tremaining: 92.4ms\n",
      "838:\tlearn: 0.0402874\ttotal: 479ms\tremaining: 91.9ms\n",
      "839:\tlearn: 0.0402627\ttotal: 479ms\tremaining: 91.3ms\n",
      "840:\tlearn: 0.0402227\ttotal: 480ms\tremaining: 90.7ms\n",
      "841:\tlearn: 0.0400964\ttotal: 480ms\tremaining: 90.1ms\n",
      "842:\tlearn: 0.0400722\ttotal: 481ms\tremaining: 89.5ms\n",
      "843:\tlearn: 0.0399250\ttotal: 481ms\tremaining: 88.9ms\n",
      "844:\tlearn: 0.0398319\ttotal: 482ms\tremaining: 88.3ms\n",
      "845:\tlearn: 0.0397094\ttotal: 482ms\tremaining: 87.8ms\n",
      "846:\tlearn: 0.0396858\ttotal: 483ms\tremaining: 87.2ms\n",
      "847:\tlearn: 0.0396625\ttotal: 483ms\tremaining: 86.6ms\n",
      "848:\tlearn: 0.0395801\ttotal: 483ms\tremaining: 86ms\n",
      "849:\tlearn: 0.0394909\ttotal: 484ms\tremaining: 85.4ms\n",
      "850:\tlearn: 0.0394682\ttotal: 484ms\tremaining: 84.8ms\n",
      "851:\tlearn: 0.0392733\ttotal: 485ms\tremaining: 84.3ms\n",
      "852:\tlearn: 0.0391874\ttotal: 486ms\tremaining: 83.7ms\n",
      "853:\tlearn: 0.0391039\ttotal: 486ms\tremaining: 83.1ms\n",
      "854:\tlearn: 0.0390768\ttotal: 486ms\tremaining: 82.5ms\n",
      "855:\tlearn: 0.0389986\ttotal: 487ms\tremaining: 81.9ms\n",
      "856:\tlearn: 0.0389632\ttotal: 487ms\tremaining: 81.3ms\n",
      "857:\tlearn: 0.0389280\ttotal: 488ms\tremaining: 80.7ms\n",
      "858:\tlearn: 0.0387710\ttotal: 488ms\tremaining: 80.1ms\n",
      "859:\tlearn: 0.0386378\ttotal: 489ms\tremaining: 79.5ms\n",
      "860:\tlearn: 0.0384284\ttotal: 491ms\tremaining: 79.2ms\n",
      "861:\tlearn: 0.0383384\ttotal: 491ms\tremaining: 78.7ms\n",
      "862:\tlearn: 0.0382605\ttotal: 492ms\tremaining: 78.1ms\n",
      "863:\tlearn: 0.0380564\ttotal: 493ms\tremaining: 77.6ms\n",
      "864:\tlearn: 0.0379707\ttotal: 494ms\tremaining: 77.1ms\n",
      "865:\tlearn: 0.0379367\ttotal: 494ms\tremaining: 76.5ms\n",
      "866:\tlearn: 0.0378848\ttotal: 495ms\tremaining: 75.9ms\n",
      "867:\tlearn: 0.0378516\ttotal: 496ms\tremaining: 75.4ms\n",
      "868:\tlearn: 0.0378008\ttotal: 497ms\tremaining: 74.9ms\n",
      "869:\tlearn: 0.0377685\ttotal: 497ms\tremaining: 74.3ms\n",
      "870:\tlearn: 0.0375910\ttotal: 498ms\tremaining: 73.7ms\n",
      "871:\tlearn: 0.0375189\ttotal: 498ms\tremaining: 73.1ms\n",
      "872:\tlearn: 0.0374509\ttotal: 499ms\tremaining: 72.5ms\n",
      "873:\tlearn: 0.0373120\ttotal: 499ms\tremaining: 71.9ms\n",
      "874:\tlearn: 0.0372402\ttotal: 500ms\tremaining: 71.4ms\n",
      "875:\tlearn: 0.0371445\ttotal: 500ms\tremaining: 70.8ms\n",
      "876:\tlearn: 0.0370742\ttotal: 500ms\tremaining: 70.2ms\n",
      "877:\tlearn: 0.0370137\ttotal: 501ms\tremaining: 69.6ms\n",
      "878:\tlearn: 0.0369555\ttotal: 502ms\tremaining: 69.1ms\n",
      "879:\tlearn: 0.0369313\ttotal: 502ms\tremaining: 68.5ms\n",
      "880:\tlearn: 0.0368679\ttotal: 503ms\tremaining: 67.9ms\n",
      "881:\tlearn: 0.0367810\ttotal: 503ms\tremaining: 67.3ms\n",
      "882:\tlearn: 0.0367572\ttotal: 504ms\tremaining: 66.7ms\n",
      "883:\tlearn: 0.0367339\ttotal: 504ms\tremaining: 66.1ms\n",
      "884:\tlearn: 0.0366640\ttotal: 505ms\tremaining: 65.6ms\n",
      "885:\tlearn: 0.0365540\ttotal: 505ms\tremaining: 65ms\n",
      "886:\tlearn: 0.0363646\ttotal: 505ms\tremaining: 64.4ms\n",
      "887:\tlearn: 0.0362982\ttotal: 506ms\tremaining: 63.8ms\n",
      "888:\tlearn: 0.0362094\ttotal: 506ms\tremaining: 63.2ms\n",
      "889:\tlearn: 0.0361502\ttotal: 507ms\tremaining: 62.6ms\n",
      "890:\tlearn: 0.0359956\ttotal: 507ms\tremaining: 62ms\n",
      "891:\tlearn: 0.0358117\ttotal: 508ms\tremaining: 61.5ms\n",
      "892:\tlearn: 0.0357541\ttotal: 508ms\tremaining: 60.9ms\n",
      "893:\tlearn: 0.0356381\ttotal: 509ms\tremaining: 60.3ms\n",
      "894:\tlearn: 0.0354965\ttotal: 509ms\tremaining: 59.7ms\n",
      "895:\tlearn: 0.0353829\ttotal: 510ms\tremaining: 59.1ms\n",
      "896:\tlearn: 0.0353607\ttotal: 510ms\tremaining: 58.6ms\n",
      "897:\tlearn: 0.0352947\ttotal: 510ms\tremaining: 58ms\n",
      "898:\tlearn: 0.0352728\ttotal: 511ms\tremaining: 57.4ms\n",
      "899:\tlearn: 0.0351419\ttotal: 511ms\tremaining: 56.8ms\n",
      "900:\tlearn: 0.0350867\ttotal: 511ms\tremaining: 56.2ms\n",
      "901:\tlearn: 0.0349756\ttotal: 512ms\tremaining: 55.6ms\n",
      "902:\tlearn: 0.0349542\ttotal: 512ms\tremaining: 55ms\n",
      "903:\tlearn: 0.0349031\ttotal: 513ms\tremaining: 54.5ms\n",
      "904:\tlearn: 0.0347879\ttotal: 513ms\tremaining: 53.9ms\n",
      "905:\tlearn: 0.0347199\ttotal: 514ms\tremaining: 53.3ms\n",
      "906:\tlearn: 0.0346163\ttotal: 514ms\tremaining: 52.7ms\n",
      "907:\tlearn: 0.0345198\ttotal: 515ms\tremaining: 52.1ms\n",
      "908:\tlearn: 0.0344212\ttotal: 515ms\tremaining: 51.6ms\n",
      "909:\tlearn: 0.0342698\ttotal: 515ms\tremaining: 51ms\n",
      "910:\tlearn: 0.0342458\ttotal: 516ms\tremaining: 50.4ms\n",
      "911:\tlearn: 0.0342220\ttotal: 516ms\tremaining: 49.8ms\n",
      "912:\tlearn: 0.0341164\ttotal: 517ms\tremaining: 49.2ms\n",
      "913:\tlearn: 0.0340701\ttotal: 517ms\tremaining: 48.7ms\n",
      "914:\tlearn: 0.0339438\ttotal: 518ms\tremaining: 48.1ms\n",
      "915:\tlearn: 0.0339205\ttotal: 518ms\tremaining: 47.5ms\n",
      "916:\tlearn: 0.0337814\ttotal: 519ms\tremaining: 46.9ms\n",
      "917:\tlearn: 0.0337015\ttotal: 519ms\tremaining: 46.4ms\n",
      "918:\tlearn: 0.0335989\ttotal: 520ms\tremaining: 45.8ms\n",
      "919:\tlearn: 0.0335533\ttotal: 520ms\tremaining: 45.2ms\n",
      "920:\tlearn: 0.0334663\ttotal: 521ms\tremaining: 44.7ms\n",
      "921:\tlearn: 0.0334212\ttotal: 521ms\tremaining: 44.1ms\n",
      "922:\tlearn: 0.0332979\ttotal: 522ms\tremaining: 43.5ms\n",
      "923:\tlearn: 0.0331466\ttotal: 522ms\tremaining: 42.9ms\n",
      "924:\tlearn: 0.0330470\ttotal: 523ms\tremaining: 42.4ms\n",
      "925:\tlearn: 0.0329999\ttotal: 523ms\tremaining: 41.8ms\n",
      "926:\tlearn: 0.0329796\ttotal: 524ms\tremaining: 41.2ms\n",
      "927:\tlearn: 0.0328790\ttotal: 524ms\tremaining: 40.7ms\n",
      "928:\tlearn: 0.0328044\ttotal: 525ms\tremaining: 40.1ms\n",
      "929:\tlearn: 0.0327470\ttotal: 525ms\tremaining: 39.5ms\n",
      "930:\tlearn: 0.0327010\ttotal: 526ms\tremaining: 39ms\n",
      "931:\tlearn: 0.0326284\ttotal: 526ms\tremaining: 38.4ms\n",
      "932:\tlearn: 0.0325723\ttotal: 527ms\tremaining: 37.8ms\n",
      "933:\tlearn: 0.0325284\ttotal: 527ms\tremaining: 37.2ms\n",
      "934:\tlearn: 0.0324780\ttotal: 528ms\tremaining: 36.7ms\n",
      "935:\tlearn: 0.0323802\ttotal: 528ms\tremaining: 36.1ms\n",
      "936:\tlearn: 0.0323248\ttotal: 528ms\tremaining: 35.5ms\n",
      "937:\tlearn: 0.0322541\ttotal: 529ms\tremaining: 34.9ms\n",
      "938:\tlearn: 0.0321994\ttotal: 529ms\tremaining: 34.4ms\n",
      "939:\tlearn: 0.0320812\ttotal: 529ms\tremaining: 33.8ms\n",
      "940:\tlearn: 0.0320319\ttotal: 530ms\tremaining: 33.2ms\n",
      "941:\tlearn: 0.0319631\ttotal: 530ms\tremaining: 32.6ms\n",
      "942:\tlearn: 0.0318775\ttotal: 531ms\tremaining: 32.1ms\n",
      "943:\tlearn: 0.0317939\ttotal: 531ms\tremaining: 31.5ms\n",
      "944:\tlearn: 0.0316528\ttotal: 532ms\tremaining: 30.9ms\n",
      "945:\tlearn: 0.0315702\ttotal: 532ms\tremaining: 30.4ms\n",
      "946:\tlearn: 0.0315511\ttotal: 533ms\tremaining: 29.8ms\n",
      "947:\tlearn: 0.0315084\ttotal: 533ms\tremaining: 29.2ms\n",
      "948:\tlearn: 0.0314875\ttotal: 534ms\tremaining: 28.7ms\n",
      "949:\tlearn: 0.0314455\ttotal: 534ms\tremaining: 28.1ms\n",
      "950:\tlearn: 0.0313085\ttotal: 535ms\tremaining: 27.5ms\n",
      "951:\tlearn: 0.0312566\ttotal: 535ms\tremaining: 27ms\n",
      "952:\tlearn: 0.0312006\ttotal: 535ms\tremaining: 26.4ms\n",
      "953:\tlearn: 0.0311497\ttotal: 536ms\tremaining: 25.8ms\n",
      "954:\tlearn: 0.0310844\ttotal: 536ms\tremaining: 25.3ms\n",
      "955:\tlearn: 0.0310298\ttotal: 537ms\tremaining: 24.7ms\n",
      "956:\tlearn: 0.0309490\ttotal: 537ms\tremaining: 24.1ms\n",
      "957:\tlearn: 0.0308856\ttotal: 538ms\tremaining: 23.6ms\n",
      "958:\tlearn: 0.0307205\ttotal: 538ms\tremaining: 23ms\n",
      "959:\tlearn: 0.0306084\ttotal: 538ms\tremaining: 22.4ms\n",
      "960:\tlearn: 0.0305918\ttotal: 539ms\tremaining: 21.9ms\n",
      "961:\tlearn: 0.0305303\ttotal: 539ms\tremaining: 21.3ms\n",
      "962:\tlearn: 0.0304476\ttotal: 540ms\tremaining: 20.7ms\n",
      "963:\tlearn: 0.0303167\ttotal: 540ms\tremaining: 20.2ms\n",
      "964:\tlearn: 0.0301882\ttotal: 541ms\tremaining: 19.6ms\n",
      "965:\tlearn: 0.0301358\ttotal: 541ms\tremaining: 19.1ms\n",
      "966:\tlearn: 0.0300891\ttotal: 542ms\tremaining: 18.5ms\n",
      "967:\tlearn: 0.0300433\ttotal: 542ms\tremaining: 17.9ms\n",
      "968:\tlearn: 0.0299659\ttotal: 543ms\tremaining: 17.4ms\n",
      "969:\tlearn: 0.0299453\ttotal: 543ms\tremaining: 16.8ms\n",
      "970:\tlearn: 0.0298195\ttotal: 543ms\tremaining: 16.2ms\n",
      "971:\tlearn: 0.0296910\ttotal: 544ms\tremaining: 15.7ms\n",
      "972:\tlearn: 0.0295678\ttotal: 544ms\tremaining: 15.1ms\n",
      "973:\tlearn: 0.0294469\ttotal: 545ms\tremaining: 14.5ms\n",
      "974:\tlearn: 0.0293281\ttotal: 545ms\tremaining: 14ms\n",
      "975:\tlearn: 0.0292774\ttotal: 546ms\tremaining: 13.4ms\n",
      "976:\tlearn: 0.0291608\ttotal: 546ms\tremaining: 12.9ms\n",
      "977:\tlearn: 0.0290462\ttotal: 547ms\tremaining: 12.3ms\n",
      "978:\tlearn: 0.0290122\ttotal: 548ms\tremaining: 11.7ms\n",
      "979:\tlearn: 0.0289863\ttotal: 549ms\tremaining: 11.2ms\n",
      "980:\tlearn: 0.0288742\ttotal: 549ms\tremaining: 10.6ms\n",
      "981:\tlearn: 0.0288489\ttotal: 550ms\tremaining: 10.1ms\n",
      "982:\tlearn: 0.0288240\ttotal: 550ms\tremaining: 9.52ms\n",
      "983:\tlearn: 0.0287994\ttotal: 551ms\tremaining: 8.96ms\n",
      "984:\tlearn: 0.0287446\ttotal: 551ms\tremaining: 8.39ms\n",
      "985:\tlearn: 0.0287124\ttotal: 552ms\tremaining: 7.83ms\n",
      "986:\tlearn: 0.0286312\ttotal: 552ms\tremaining: 7.27ms\n",
      "987:\tlearn: 0.0285974\ttotal: 552ms\tremaining: 6.71ms\n",
      "988:\tlearn: 0.0285177\ttotal: 553ms\tremaining: 6.15ms\n",
      "989:\tlearn: 0.0284646\ttotal: 553ms\tremaining: 5.59ms\n",
      "990:\tlearn: 0.0283388\ttotal: 554ms\tremaining: 5.03ms\n",
      "991:\tlearn: 0.0282872\ttotal: 554ms\tremaining: 4.47ms\n",
      "992:\tlearn: 0.0282540\ttotal: 554ms\tremaining: 3.91ms\n",
      "993:\tlearn: 0.0281311\ttotal: 555ms\tremaining: 3.35ms\n",
      "994:\tlearn: 0.0280743\ttotal: 555ms\tremaining: 2.79ms\n",
      "995:\tlearn: 0.0280305\ttotal: 556ms\tremaining: 2.23ms\n",
      "996:\tlearn: 0.0279976\ttotal: 556ms\tremaining: 1.67ms\n",
      "997:\tlearn: 0.0279651\ttotal: 557ms\tremaining: 1.12ms\n",
      "998:\tlearn: 0.0279150\ttotal: 558ms\tremaining: 558us\n",
      "999:\tlearn: 0.0278595\ttotal: 558ms\tremaining: 0us\n",
      "Mean Absolute error 0.46856136155120875\n"
     ]
    },
    {
     "data": {
      "application/scrapbook.scrap.json+json": {
       "data": 0.46856136155120875,
       "encoder": "json",
       "name": "Catboost MAE",
       "version": 1
      }
     },
     "metadata": {
      "scrapbook": {
       "data": true,
       "display": false,
       "name": "Catboost MAE"
      }
     },
     "output_type": "display_data"
    }
   ],
   "source": [
    "mae_cb = baselineModels.catboost(X_train,y_train,X_test,y_test)\n",
    "#Store MSE Value\n",
    "sb.glue(\"Catboost MAE\",mae_cb)"
   ]
  },
  {
   "cell_type": "markdown",
   "id": "b3d82bea",
   "metadata": {
    "papermill": {
     "duration": 0.014738,
     "end_time": "2022-06-22T10:47:40.058519",
     "exception": false,
     "start_time": "2022-06-22T10:47:40.043781",
     "status": "completed"
    },
    "tags": []
   },
   "source": [
    "# TabNet regressor"
   ]
  },
  {
   "cell_type": "code",
   "execution_count": 7,
   "id": "d3a0610a",
   "metadata": {
    "execution": {
     "iopub.execute_input": "2022-06-22T10:47:40.120814Z",
     "iopub.status.busy": "2022-06-22T10:47:40.118847Z",
     "iopub.status.idle": "2022-06-22T10:47:40.123504Z",
     "shell.execute_reply": "2022-06-22T10:47:40.122961Z"
    },
    "papermill": {
     "duration": 0.04737,
     "end_time": "2022-06-22T10:47:40.123708",
     "exception": false,
     "start_time": "2022-06-22T10:47:40.076338",
     "status": "completed"
    },
    "tags": []
   },
   "outputs": [],
   "source": [
    "n_epochs = 1000\n",
    "batch_size = 32"
   ]
  },
  {
   "cell_type": "code",
   "execution_count": 8,
   "id": "f1f07ce9",
   "metadata": {
    "execution": {
     "iopub.execute_input": "2022-06-22T10:47:40.163486Z",
     "iopub.status.busy": "2022-06-22T10:47:40.162675Z",
     "iopub.status.idle": "2022-06-22T10:47:49.972577Z",
     "shell.execute_reply": "2022-06-22T10:47:49.972040Z"
    },
    "papermill": {
     "duration": 9.83111,
     "end_time": "2022-06-22T10:47:49.972760",
     "exception": false,
     "start_time": "2022-06-22T10:47:40.141650",
     "status": "completed"
    },
    "tags": []
   },
   "outputs": [
    {
     "name": "stdout",
     "output_type": "stream",
     "text": [
      "(80,)\n",
      "Device used : cpu\n"
     ]
    },
    {
     "name": "stdout",
     "output_type": "stream",
     "text": [
      "epoch 0  | loss: 1.14618 | train_mse: 3.16805 | train_mae: 1.32561 |  0:00:00s\n",
      "epoch 1  | loss: 0.54558 | train_mse: 4.18703 | train_mae: 1.41582 |  0:00:00s\n",
      "epoch 2  | loss: 0.37745 | train_mse: 4.03423 | train_mae: 1.25437 |  0:00:00s\n"
     ]
    },
    {
     "name": "stdout",
     "output_type": "stream",
     "text": [
      "epoch 3  | loss: 0.49063 | train_mse: 3.46614 | train_mae: 1.10461 |  0:00:01s\n",
      "epoch 4  | loss: 0.39845 | train_mse: 2.22594 | train_mae: 0.94759 |  0:00:01s\n",
      "epoch 5  | loss: 0.4736  | train_mse: 1.71463 | train_mae: 0.88369 |  0:00:01s\n"
     ]
    },
    {
     "name": "stdout",
     "output_type": "stream",
     "text": [
      "epoch 6  | loss: 0.39244 | train_mse: 1.75083 | train_mae: 0.93621 |  0:00:01s\n",
      "epoch 7  | loss: 0.53512 | train_mse: 1.4141  | train_mae: 0.87013 |  0:00:01s\n"
     ]
    },
    {
     "name": "stdout",
     "output_type": "stream",
     "text": [
      "epoch 8  | loss: 0.59021 | train_mse: 1.27285 | train_mae: 0.80186 |  0:00:01s\n",
      "epoch 9  | loss: 0.47138 | train_mse: 0.99752 | train_mae: 0.738   |  0:00:01s\n",
      "epoch 10 | loss: 0.5148  | train_mse: 0.71428 | train_mae: 0.63056 |  0:00:01s\n"
     ]
    },
    {
     "name": "stdout",
     "output_type": "stream",
     "text": [
      "epoch 11 | loss: 0.38039 | train_mse: 0.63281 | train_mae: 0.602   |  0:00:01s\n",
      "epoch 12 | loss: 0.30986 | train_mse: 0.44472 | train_mae: 0.49659 |  0:00:01s\n",
      "epoch 13 | loss: 0.32442 | train_mse: 0.4094  | train_mae: 0.4726  |  0:00:02s\n"
     ]
    },
    {
     "name": "stdout",
     "output_type": "stream",
     "text": [
      "epoch 14 | loss: 0.31654 | train_mse: 0.45766 | train_mae: 0.48311 |  0:00:02s\n",
      "epoch 15 | loss: 0.35993 | train_mse: 0.44567 | train_mae: 0.51043 |  0:00:02s\n",
      "epoch 16 | loss: 0.31058 | train_mse: 0.50391 | train_mae: 0.53426 |  0:00:02s\n"
     ]
    },
    {
     "name": "stdout",
     "output_type": "stream",
     "text": [
      "epoch 17 | loss: 0.28116 | train_mse: 0.52193 | train_mae: 0.50649 |  0:00:02s\n",
      "epoch 18 | loss: 0.24141 | train_mse: 0.53247 | train_mae: 0.48425 |  0:00:02s\n"
     ]
    },
    {
     "name": "stdout",
     "output_type": "stream",
     "text": [
      "epoch 19 | loss: 0.27115 | train_mse: 0.48307 | train_mae: 0.45905 |  0:00:02s\n",
      "epoch 20 | loss: 0.17895 | train_mse: 0.48969 | train_mae: 0.47391 |  0:00:02s\n",
      "epoch 21 | loss: 0.15239 | train_mse: 0.39653 | train_mae: 0.42483 |  0:00:02s\n"
     ]
    },
    {
     "name": "stdout",
     "output_type": "stream",
     "text": [
      "epoch 22 | loss: 0.15494 | train_mse: 0.34789 | train_mae: 0.4063  |  0:00:02s\n",
      "epoch 23 | loss: 0.29747 | train_mse: 0.3368  | train_mae: 0.40206 |  0:00:02s\n",
      "epoch 24 | loss: 0.25337 | train_mse: 0.36392 | train_mae: 0.41668 |  0:00:03s\n"
     ]
    },
    {
     "name": "stdout",
     "output_type": "stream",
     "text": [
      "epoch 25 | loss: 0.36351 | train_mse: 0.32246 | train_mae: 0.40933 |  0:00:03s\n",
      "epoch 26 | loss: 0.26797 | train_mse: 0.27311 | train_mae: 0.40356 |  0:00:03s\n",
      "epoch 27 | loss: 0.23188 | train_mse: 0.23248 | train_mae: 0.39257 |  0:00:03s\n",
      "epoch 28 | loss: 0.21833 | train_mse: 0.18689 | train_mae: 0.34199 |  0:00:03s\n"
     ]
    },
    {
     "name": "stdout",
     "output_type": "stream",
     "text": [
      "epoch 29 | loss: 0.30485 | train_mse: 0.1975  | train_mae: 0.32919 |  0:00:03s\n",
      "epoch 30 | loss: 0.15572 | train_mse: 0.20561 | train_mae: 0.33516 |  0:00:03s\n",
      "epoch 31 | loss: 0.23746 | train_mse: 0.20027 | train_mae: 0.33812 |  0:00:03s\n"
     ]
    },
    {
     "name": "stdout",
     "output_type": "stream",
     "text": [
      "epoch 32 | loss: 0.17287 | train_mse: 0.17664 | train_mae: 0.31617 |  0:00:03s\n",
      "epoch 33 | loss: 0.20225 | train_mse: 0.17712 | train_mae: 0.30931 |  0:00:03s\n",
      "epoch 34 | loss: 0.18429 | train_mse: 0.16027 | train_mae: 0.30069 |  0:00:03s\n"
     ]
    },
    {
     "name": "stdout",
     "output_type": "stream",
     "text": [
      "epoch 35 | loss: 0.22205 | train_mse: 0.1438  | train_mae: 0.29336 |  0:00:03s\n",
      "epoch 36 | loss: 0.16266 | train_mse: 0.16457 | train_mae: 0.31342 |  0:00:03s\n",
      "epoch 37 | loss: 0.17448 | train_mse: 0.21359 | train_mae: 0.34488 |  0:00:03s\n",
      "epoch 38 | loss: 0.1502  | train_mse: 0.158   | train_mae: 0.2892  |  0:00:03s\n"
     ]
    },
    {
     "name": "stdout",
     "output_type": "stream",
     "text": [
      "epoch 39 | loss: 0.20415 | train_mse: 0.12928 | train_mae: 0.2829  |  0:00:04s\n",
      "epoch 40 | loss: 0.17595 | train_mse: 0.11965 | train_mae: 0.27197 |  0:00:04s\n",
      "epoch 41 | loss: 0.15348 | train_mse: 0.12307 | train_mae: 0.27072 |  0:00:04s\n"
     ]
    },
    {
     "name": "stdout",
     "output_type": "stream",
     "text": [
      "epoch 42 | loss: 0.15157 | train_mse: 0.10808 | train_mae: 0.25565 |  0:00:04s\n",
      "epoch 43 | loss: 0.34196 | train_mse: 0.11872 | train_mae: 0.25965 |  0:00:04s\n",
      "epoch 44 | loss: 0.10899 | train_mse: 0.09327 | train_mae: 0.24294 |  0:00:04s\n"
     ]
    },
    {
     "name": "stdout",
     "output_type": "stream",
     "text": [
      "epoch 45 | loss: 0.14901 | train_mse: 0.10058 | train_mae: 0.24639 |  0:00:04s\n",
      "epoch 46 | loss: 0.14853 | train_mse: 0.09593 | train_mae: 0.23989 |  0:00:04s\n",
      "epoch 47 | loss: 0.20752 | train_mse: 0.13161 | train_mae: 0.27018 |  0:00:04s\n",
      "epoch 48 | loss: 0.39089 | train_mse: 0.26105 | train_mae: 0.31907 |  0:00:04s\n"
     ]
    },
    {
     "name": "stdout",
     "output_type": "stream",
     "text": [
      "epoch 49 | loss: 0.171   | train_mse: 0.20473 | train_mae: 0.28939 |  0:00:04s\n",
      "epoch 50 | loss: 0.31103 | train_mse: 0.11852 | train_mae: 0.26105 |  0:00:04s\n",
      "epoch 51 | loss: 0.2814  | train_mse: 0.12295 | train_mae: 0.26517 |  0:00:04s\n",
      "epoch 52 | loss: 0.13582 | train_mse: 0.14478 | train_mae: 0.2736  |  0:00:04s\n"
     ]
    },
    {
     "name": "stdout",
     "output_type": "stream",
     "text": [
      "epoch 53 | loss: 0.14257 | train_mse: 0.13343 | train_mae: 0.26703 |  0:00:05s\n",
      "epoch 54 | loss: 0.18845 | train_mse: 0.11336 | train_mae: 0.25312 |  0:00:05s\n",
      "epoch 55 | loss: 0.1997  | train_mse: 0.14748 | train_mae: 0.29096 |  0:00:05s\n",
      "epoch 56 | loss: 0.15835 | train_mse: 0.1504  | train_mae: 0.29719 |  0:00:05s\n"
     ]
    },
    {
     "name": "stdout",
     "output_type": "stream",
     "text": [
      "epoch 57 | loss: 0.23732 | train_mse: 0.1229  | train_mae: 0.27596 |  0:00:05s\n",
      "epoch 58 | loss: 0.20306 | train_mse: 0.09418 | train_mae: 0.24405 |  0:00:05s\n",
      "epoch 59 | loss: 0.22165 | train_mse: 0.0878  | train_mae: 0.23173 |  0:00:05s\n"
     ]
    },
    {
     "name": "stdout",
     "output_type": "stream",
     "text": [
      "epoch 60 | loss: 0.15549 | train_mse: 0.09248 | train_mae: 0.22614 |  0:00:05s\n",
      "epoch 61 | loss: 0.13574 | train_mse: 0.09105 | train_mae: 0.22974 |  0:00:05s\n",
      "epoch 62 | loss: 0.29365 | train_mse: 0.08357 | train_mae: 0.22181 |  0:00:05s\n"
     ]
    },
    {
     "name": "stdout",
     "output_type": "stream",
     "text": [
      "epoch 63 | loss: 0.22024 | train_mse: 0.09066 | train_mae: 0.22925 |  0:00:05s\n",
      "epoch 64 | loss: 0.18388 | train_mse: 0.08582 | train_mae: 0.22473 |  0:00:05s\n",
      "epoch 65 | loss: 0.11305 | train_mse: 0.08193 | train_mae: 0.21866 |  0:00:05s\n",
      "epoch 66 | loss: 0.1112  | train_mse: 0.08769 | train_mae: 0.21564 |  0:00:05s\n"
     ]
    },
    {
     "name": "stdout",
     "output_type": "stream",
     "text": [
      "epoch 67 | loss: 0.21466 | train_mse: 0.09283 | train_mae: 0.22614 |  0:00:05s\n",
      "epoch 68 | loss: 0.2636  | train_mse: 0.09554 | train_mae: 0.23385 |  0:00:06s\n",
      "epoch 69 | loss: 0.23365 | train_mse: 0.09991 | train_mae: 0.23702 |  0:00:06s\n",
      "epoch 70 | loss: 0.26824 | train_mse: 0.10247 | train_mae: 0.23854 |  0:00:06s\n"
     ]
    },
    {
     "name": "stdout",
     "output_type": "stream",
     "text": [
      "epoch 71 | loss: 0.12452 | train_mse: 0.07793 | train_mae: 0.21549 |  0:00:06s\n",
      "epoch 72 | loss: 0.16543 | train_mse: 0.09975 | train_mae: 0.24769 |  0:00:06s\n",
      "epoch 73 | loss: 0.28871 | train_mse: 0.10578 | train_mae: 0.24924 |  0:00:06s\n"
     ]
    },
    {
     "name": "stdout",
     "output_type": "stream",
     "text": [
      "epoch 74 | loss: 0.12625 | train_mse: 0.11527 | train_mae: 0.26037 |  0:00:06s\n",
      "epoch 75 | loss: 0.20326 | train_mse: 0.111   | train_mae: 0.26019 |  0:00:06s\n",
      "epoch 76 | loss: 0.17306 | train_mse: 0.10281 | train_mae: 0.24961 |  0:00:06s\n",
      "epoch 77 | loss: 0.13867 | train_mse: 0.0976  | train_mae: 0.24717 |  0:00:06s\n"
     ]
    },
    {
     "name": "stdout",
     "output_type": "stream",
     "text": [
      "epoch 78 | loss: 0.20468 | train_mse: 0.08872 | train_mae: 0.23652 |  0:00:06s\n",
      "epoch 79 | loss: 0.13737 | train_mse: 0.08835 | train_mae: 0.23442 |  0:00:06s\n",
      "epoch 80 | loss: 0.18795 | train_mse: 0.15056 | train_mae: 0.27193 |  0:00:06s\n",
      "epoch 81 | loss: 0.19303 | train_mse: 0.17251 | train_mae: 0.28892 |  0:00:06s\n"
     ]
    },
    {
     "name": "stdout",
     "output_type": "stream",
     "text": [
      "epoch 82 | loss: 0.22098 | train_mse: 0.15452 | train_mae: 0.26754 |  0:00:06s\n",
      "epoch 83 | loss: 0.15632 | train_mse: 0.11592 | train_mae: 0.25208 |  0:00:07s\n",
      "epoch 84 | loss: 0.17155 | train_mse: 0.10262 | train_mae: 0.24643 |  0:00:07s\n",
      "epoch 85 | loss: 0.1345  | train_mse: 0.10786 | train_mae: 0.24836 |  0:00:07s\n"
     ]
    },
    {
     "name": "stdout",
     "output_type": "stream",
     "text": [
      "epoch 86 | loss: 0.16098 | train_mse: 0.1044  | train_mae: 0.24571 |  0:00:07s\n",
      "epoch 87 | loss: 0.19651 | train_mse: 0.09798 | train_mae: 0.24401 |  0:00:07s\n",
      "epoch 88 | loss: 0.11681 | train_mse: 0.10347 | train_mae: 0.25206 |  0:00:07s\n"
     ]
    },
    {
     "name": "stdout",
     "output_type": "stream",
     "text": [
      "epoch 89 | loss: 0.17613 | train_mse: 0.12333 | train_mae: 0.26455 |  0:00:07s\n",
      "epoch 90 | loss: 0.13441 | train_mse: 0.10842 | train_mae: 0.24357 |  0:00:07s\n",
      "epoch 91 | loss: 0.27931 | train_mse: 0.08854 | train_mae: 0.23576 |  0:00:07s\n",
      "epoch 92 | loss: 0.30127 | train_mse: 0.09344 | train_mae: 0.23112 |  0:00:07s\n"
     ]
    },
    {
     "name": "stdout",
     "output_type": "stream",
     "text": [
      "epoch 93 | loss: 0.2124  | train_mse: 0.11939 | train_mae: 0.26382 |  0:00:07s\n",
      "epoch 94 | loss: 0.19341 | train_mse: 0.14573 | train_mae: 0.28418 |  0:00:07s\n",
      "epoch 95 | loss: 0.17088 | train_mse: 0.14965 | train_mae: 0.2849  |  0:00:07s\n",
      "epoch 96 | loss: 0.25296 | train_mse: 0.15164 | train_mae: 0.29056 |  0:00:07s\n"
     ]
    },
    {
     "name": "stdout",
     "output_type": "stream",
     "text": [
      "epoch 97 | loss: 0.31055 | train_mse: 0.11642 | train_mae: 0.26256 |  0:00:07s\n",
      "epoch 98 | loss: 0.20695 | train_mse: 0.12395 | train_mae: 0.26257 |  0:00:08s\n",
      "epoch 99 | loss: 0.23881 | train_mse: 0.177   | train_mae: 0.30539 |  0:00:08s\n",
      "epoch 100| loss: 0.26716 | train_mse: 0.15045 | train_mae: 0.29354 |  0:00:08s\n"
     ]
    },
    {
     "name": "stdout",
     "output_type": "stream",
     "text": [
      "epoch 101| loss: 0.1584  | train_mse: 0.09965 | train_mae: 0.24407 |  0:00:08s\n",
      "epoch 102| loss: 0.20748 | train_mse: 0.11223 | train_mae: 0.25366 |  0:00:08s\n",
      "epoch 103| loss: 0.20923 | train_mse: 0.09556 | train_mae: 0.24302 |  0:00:08s\n"
     ]
    },
    {
     "name": "stdout",
     "output_type": "stream",
     "text": [
      "epoch 104| loss: 0.33774 | train_mse: 0.11459 | train_mae: 0.25292 |  0:00:08s\n",
      "epoch 105| loss: 0.11454 | train_mse: 0.09529 | train_mae: 0.24341 |  0:00:08s\n",
      "epoch 106| loss: 0.27963 | train_mse: 0.11096 | train_mae: 0.25743 |  0:00:08s\n",
      "epoch 107| loss: 0.14441 | train_mse: 0.16007 | train_mae: 0.30713 |  0:00:08s\n"
     ]
    },
    {
     "name": "stdout",
     "output_type": "stream",
     "text": [
      "epoch 108| loss: 0.14722 | train_mse: 0.23041 | train_mae: 0.34619 |  0:00:08s\n",
      "epoch 109| loss: 0.14086 | train_mse: 0.17328 | train_mae: 0.31125 |  0:00:08s\n",
      "epoch 110| loss: 0.12909 | train_mse: 0.1127  | train_mae: 0.26134 |  0:00:08s\n",
      "epoch 111| loss: 0.16693 | train_mse: 0.09815 | train_mae: 0.24685 |  0:00:08s\n"
     ]
    },
    {
     "name": "stdout",
     "output_type": "stream",
     "text": [
      "epoch 112| loss: 0.13916 | train_mse: 0.09148 | train_mae: 0.23864 |  0:00:09s\n",
      "epoch 113| loss: 0.18565 | train_mse: 0.0824  | train_mae: 0.22749 |  0:00:09s\n",
      "epoch 114| loss: 0.15567 | train_mse: 0.08527 | train_mae: 0.23541 |  0:00:09s\n",
      "epoch 115| loss: 0.17032 | train_mse: 0.0884  | train_mae: 0.23491 |  0:00:09s\n"
     ]
    },
    {
     "name": "stdout",
     "output_type": "stream",
     "text": [
      "epoch 116| loss: 0.17274 | train_mse: 0.102   | train_mae: 0.24569 |  0:00:09s\n",
      "epoch 117| loss: 0.242   | train_mse: 0.12641 | train_mae: 0.25884 |  0:00:09s\n",
      "epoch 118| loss: 0.2101  | train_mse: 0.12037 | train_mae: 0.2589  |  0:00:09s\n"
     ]
    },
    {
     "name": "stdout",
     "output_type": "stream",
     "text": [
      "epoch 119| loss: 0.1853  | train_mse: 0.09404 | train_mae: 0.23168 |  0:00:09s\n",
      "epoch 120| loss: 0.13957 | train_mse: 0.08287 | train_mae: 0.21906 |  0:00:09s\n",
      "epoch 121| loss: 0.18908 | train_mse: 0.08891 | train_mae: 0.22718 |  0:00:09s\n",
      "\n",
      "Early stopping occurred at epoch 121 with best_epoch = 71 and best_train_mae = 0.21549\n",
      "Best weights from best epoch are automatically used!\n",
      "BEST VALID SCORE FOR dataset : 0.21548948427521303\n",
      "FINAL TEST SCORE FOR dataset: 0.3828194200960241\n",
      "{'loss': [1.1461805343627929, 0.5455758512020111, 0.37745481133461, 0.4906312346458435, 0.39844632148742676, 0.47359801530838014, 0.39243589639663695, 0.5351203799247741, 0.5902139544487, 0.47137898206710815, 0.5147952675819397, 0.3803895562887192, 0.30986045598983764, 0.3244202136993408, 0.3165410101413727, 0.3599270522594452, 0.31057941913604736, 0.2811561346054077, 0.2414131611585617, 0.2711456954479218, 0.17895113825798034, 0.15239063501358033, 0.15494040846824647, 0.29747341871261596, 0.25336681604385375, 0.36351188719272615, 0.26797033846378326, 0.23187682032585144, 0.21833388805389403, 0.30484954118728635, 0.15572166740894317, 0.2374608337879181, 0.17286551892757415, 0.20225037336349488, 0.18428720235824586, 0.22205147743225098, 0.16265640556812286, 0.17448082566261292, 0.15019913911819457, 0.20414890944957734, 0.1759522020816803, 0.15348343253135682, 0.15157095193862916, 0.3419550806283951, 0.10899192690849305, 0.1490093231201172, 0.14853242933750152, 0.20751544833183289, 0.39088800847530364, 0.17099894732236862, 0.31102914810180665, 0.2813994765281677, 0.1358203887939453, 0.1425717741250992, 0.1884514719247818, 0.19969705641269683, 0.15835261344909668, 0.2373205304145813, 0.20305680334568024, 0.22165300846099853, 0.15548954904079437, 0.13573634922504424, 0.29364725947380066, 0.22023637294769288, 0.1838825225830078, 0.11304859817028046, 0.11119535267353058, 0.21465922594070436, 0.2635983765125275, 0.23364730179309845, 0.26824148893356325, 0.12451588213443757, 0.1654264062643051, 0.2887059450149536, 0.1262526497244835, 0.20326154232025145, 0.17305659651756286, 0.13867131471633912, 0.20468336641788482, 0.13736994862556456, 0.18795480728149414, 0.19302888512611388, 0.22097977697849275, 0.15632317066192628, 0.17155426144599914, 0.13449500501155853, 0.1609812080860138, 0.19651327431201934, 0.11680607795715332, 0.1761324495077133, 0.1344134569168091, 0.27930504083633423, 0.30127265453338625, 0.21240121722221375, 0.1934092491865158, 0.1708776742219925, 0.2529636055231094, 0.3105513989925385, 0.20695481598377227, 0.23880666494369507, 0.26715539693832396, 0.15839901864528655, 0.20747821927070617, 0.2092290699481964, 0.33773588836193086, 0.11454067081212997, 0.27963405251502993, 0.1444121539592743, 0.14721992015838622, 0.14086343944072724, 0.12909022867679595, 0.16692560613155366, 0.13916484415531158, 0.18564704656600953, 0.15567039251327514, 0.17032390236854553, 0.17273848354816437, 0.24199778437614441, 0.2101045310497284, 0.18529826998710633, 0.13956915736198425, 0.18907557129859925], 'lr': [0.02, 0.02, 0.02, 0.02, 0.02, 0.02, 0.02, 0.02, 0.02, 0.02, 0.02, 0.02, 0.02, 0.02, 0.02, 0.02, 0.02, 0.02, 0.02, 0.02, 0.02, 0.02, 0.02, 0.02, 0.02, 0.02, 0.02, 0.02, 0.02, 0.02, 0.02, 0.02, 0.02, 0.02, 0.02, 0.02, 0.02, 0.02, 0.02, 0.02, 0.02, 0.02, 0.02, 0.02, 0.02, 0.02, 0.02, 0.02, 0.02, 0.02, 0.02, 0.02, 0.02, 0.02, 0.02, 0.02, 0.02, 0.02, 0.02, 0.02, 0.02, 0.02, 0.02, 0.02, 0.02, 0.02, 0.02, 0.02, 0.02, 0.02, 0.02, 0.02, 0.02, 0.02, 0.02, 0.02, 0.02, 0.02, 0.02, 0.02, 0.02, 0.02, 0.02, 0.02, 0.02, 0.02, 0.02, 0.02, 0.02, 0.02, 0.02, 0.02, 0.02, 0.02, 0.02, 0.02, 0.02, 0.02, 0.02, 0.02, 0.02, 0.02, 0.02, 0.02, 0.02, 0.02, 0.02, 0.02, 0.02, 0.02, 0.02, 0.02, 0.02, 0.02, 0.02, 0.02, 0.02, 0.02, 0.02, 0.02, 0.02, 0.02], 'train_mse': [3.168048631352831, 4.187031600938196, 4.0342288824137, 3.4661443525165, 2.225938347199532, 1.7146268613887297, 1.750833679463478, 1.4141032971220757, 1.2728494080437782, 0.9975191362728518, 0.7142763169707981, 0.6328105796583082, 0.4447235203565597, 0.40939867460936996, 0.457663338249775, 0.4456694792728255, 0.5039143513883134, 0.5219298342022027, 0.5324703900500188, 0.4830674149952728, 0.48968581199162775, 0.39653159729843285, 0.3478891035205538, 0.33680302459701006, 0.36392360960358566, 0.3224550723969055, 0.27311394315167975, 0.23248266230824974, 0.18689031493109726, 0.19749943964056982, 0.20560518492736835, 0.20026876039662939, 0.17664173535821465, 0.1771154210020084, 0.16026696896702491, 0.14379816180284113, 0.1645719077440298, 0.2135864399516249, 0.1579959632928115, 0.12928300656052452, 0.11964873622816632, 0.12307107929565439, 0.108078386657114, 0.11871909316638689, 0.0932671697042908, 0.1005847359754783, 0.09593231535829054, 0.1316140499046267, 0.2610497625767684, 0.20472615385295242, 0.11851760647299839, 0.12294698851530972, 0.14478264310743008, 0.1334260731884267, 0.11336282663322081, 0.14748393645248445, 0.15039796637861857, 0.12290152559524883, 0.09418214520679877, 0.08779679037379766, 0.0924757934728222, 0.09105196721143213, 0.0835729350851314, 0.09066096059672006, 0.08582319021807208, 0.08192650309030017, 0.08768866200870695, 0.09283272625998669, 0.09554379226947744, 0.09991350323899957, 0.10246538352905035, 0.07792687026777143, 0.09974526464459553, 0.1057836910188561, 0.11526812430846071, 0.11099802134862487, 0.10280773659852194, 0.097601348613515, 0.08871914871968258, 0.08834552555706085, 0.15056268853570437, 0.1725111083847912, 0.15452324057325967, 0.11591641584740016, 0.10262073351303021, 0.10786021141403164, 0.10440203424228763, 0.09798332520780025, 0.10347494176756285, 0.12333056639178289, 0.10841652119702527, 0.08853603103036692, 0.09343514464319322, 0.11939039375684982, 0.14573297068579355, 0.14964850944459201, 0.1516440935810091, 0.11642055321553699, 0.12394740200311465, 0.17699561939723385, 0.1504526322633685, 0.09964517395317003, 0.11223028076865911, 0.09556482231563626, 0.11458856270175795, 0.09528606685629752, 0.11096249760232066, 0.16006790256147294, 0.2304060501700526, 0.17327736927004436, 0.11270151548052201, 0.0981473269095888, 0.09147845366687234, 0.08239541317068577, 0.08526738475581239, 0.08839783266664454, 0.10200351095007523, 0.12640842978590122, 0.12037327635234303, 0.0940410797387855, 0.082867446130986, 0.08891261153212546], 'train_mae': [1.3256078887921308, 1.4158230289684985, 1.2543726297991813, 1.1046061028529746, 0.9475904525200262, 0.8836925551332193, 0.9362055507189654, 0.8701320050116153, 0.8018566292995442, 0.7380039133570067, 0.6305578363286509, 0.6019997404376344, 0.496593289004372, 0.47259709612476436, 0.48311036726623396, 0.5104294127650997, 0.5342602026806192, 0.5064894292164384, 0.48425336256176427, 0.4590495827912789, 0.47390776022031034, 0.42483235055650115, 0.4063025206672813, 0.40206291600128685, 0.4166840000667381, 0.4093339545930307, 0.4035601659525113, 0.3925667901476001, 0.3419909580270897, 0.3291899399918675, 0.3351565170481156, 0.3381177205080237, 0.3161707503035318, 0.3093071153348689, 0.3006897942569927, 0.293359698434454, 0.31342391318233387, 0.3448796722664741, 0.2892032916104668, 0.2829018164402163, 0.2719664091133735, 0.27072249148330424, 0.2556519395802929, 0.2596468389074668, 0.24294152181110684, 0.2463949823543592, 0.2398901793756242, 0.27018233139231707, 0.3190693092165299, 0.2893914349667174, 0.2610460642018332, 0.2651725030109965, 0.27360323227324723, 0.26703011287556006, 0.25312320468301486, 0.2909604458215351, 0.29718935942306385, 0.2759622780622464, 0.24404975975869075, 0.23173003611216053, 0.22614312637491407, 0.22974363086896005, 0.22180889122660852, 0.2292505697390405, 0.2247347118629313, 0.21865637332344198, 0.21563693884585672, 0.2261430490829169, 0.23385125057516679, 0.23701541791550845, 0.2385374733047072, 0.21548948427521303, 0.2476861891447993, 0.24923958272184973, 0.26036878799209173, 0.26018508622596287, 0.24961261729565706, 0.2471695922981299, 0.23651807020557217, 0.23441865106665594, 0.27193234445276604, 0.28891602607482153, 0.26754098706318397, 0.25207985732374016, 0.24643213900219715, 0.2483623477840476, 0.24570674444166238, 0.2440139429007729, 0.2520552339018284, 0.2645503313172365, 0.24357330971286525, 0.23576176669168064, 0.2311196685491279, 0.2638195587818205, 0.28417518865268826, 0.28490265923165015, 0.2905626107406051, 0.2625588670191932, 0.2625714822336541, 0.3053924041116466, 0.29353962852477056, 0.24406593092461004, 0.2536645780830573, 0.24302397687309937, 0.25291615454715677, 0.24340810926729928, 0.2574264784800614, 0.3071323765835454, 0.3461937312136686, 0.31124562068594824, 0.26133922729172315, 0.24685280855114705, 0.23863854235951934, 0.2274906806158298, 0.23540580063581357, 0.23491171083706633, 0.24568861505252312, 0.2588370526411496, 0.2589029873421091, 0.2316793313939082, 0.21906160825108487, 0.2271818030437167]}\n"
     ]
    },
    {
     "data": {
      "application/scrapbook.scrap.json+json": {
       "data": 0.3828194200960241,
       "encoder": "json",
       "name": "TabNet MAE",
       "version": 1
      }
     },
     "metadata": {
      "scrapbook": {
       "data": true,
       "display": false,
       "name": "TabNet MAE"
      }
     },
     "output_type": "display_data"
    },
    {
     "data": {
      "image/png": "[encoded data removed]",
      "text/plain": [
       "<Figure size 432x288 with 1 Axes>"
      ]
     },
     "metadata": {
      "needs_background": "light"
     },
     "output_type": "display_data"
    }
   ],
   "source": [
    "lr = 0.02\n",
    "\n",
    "print(y_train.shape)\n",
    "y_train = np.reshape(y_train, (-1, 1))\n",
    "y_test = np.reshape(y_test, (-1, 1))\n",
    "\n",
    "device = torch.device('cuda' if torch.cuda.is_available() else 'cpu')\n",
    "mae_tab= baselineModels.tabnetreg(X_train,y_train,X_test,y_test,batch_size,n_features,n_target,n_epochs, lr)\n",
    "sb.glue(\"TabNet MAE\",mae_tab)"
   ]
  }
 ],
 "metadata": {
  "interpreter": {
   "hash": "10498c76ddd8160350534c6544a2b2fb65f2138dbc70420f7c81a3268f830f23"
  },
  "kernelspec": {
   "display_name": "Python 3",
   "language": "python",
   "name": "python3"
  },
  "language_info": {
   "codemirror_mode": {
    "name": "ipython",
    "version": 3
   },
   "file_extension": ".py",
   "mimetype": "text/x-python",
   "name": "python",
   "nbconvert_exporter": "python",
   "pygments_lexer": "ipython3",
   "version": "3.8.3"
  },
  "papermill": {
   "default_parameters": {},
   "duration": 22.827802,
   "end_time": "2022-06-22T10:47:50.839508",
   "environment_variables": {},
   "exception": null,
   "input_path": "BaselineModels.ipynb",
   "output_path": "./BaseLine_Model_Output/BaselineModels_output_3.ipynb",
   "parameters": {},
   "start_time": "2022-06-22T10:47:28.011706",
   "version": "2.3.3"
  }
 },
 "nbformat": 4,
 "nbformat_minor": 5
}