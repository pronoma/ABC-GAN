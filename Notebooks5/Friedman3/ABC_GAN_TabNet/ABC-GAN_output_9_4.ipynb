{
 "cells": [
  {
   "cell_type": "markdown",
   "id": "622780e6",
   "metadata": {
    "id": "622780e6",
    "papermill": {
     "duration": 0.028486,
     "end_time": "2022-06-22T16:07:32.993535",
     "exception": false,
     "start_time": "2022-06-22T16:07:32.965049",
     "status": "completed"
    },
    "tags": []
   },
   "source": [
    "## Import Libraries "
   ]
  },
  {
   "cell_type": "code",
   "execution_count": 1,
   "id": "a62397e3",
   "metadata": {
    "execution": {
     "iopub.execute_input": "2022-06-22T16:07:33.068944Z",
     "iopub.status.busy": "2022-06-22T16:07:33.063837Z",
     "iopub.status.idle": "2022-06-22T16:07:33.071550Z",
     "shell.execute_reply": "2022-06-22T16:07:33.072485Z"
    },
    "id": "a62397e3",
    "papermill": {
     "duration": 0.053282,
     "end_time": "2022-06-22T16:07:33.072862",
     "exception": false,
     "start_time": "2022-06-22T16:07:33.019580",
     "status": "completed"
    },
    "tags": []
   },
   "outputs": [],
   "source": [
    "import warnings\n",
    "import sys\n",
    "sys.path.insert(0, '../../src')\n",
    "warnings.filterwarnings('ignore')"
   ]
  },
  {
   "cell_type": "code",
   "execution_count": 2,
   "id": "d6a4e155",
   "metadata": {
    "execution": {
     "iopub.execute_input": "2022-06-22T16:07:33.134684Z",
     "iopub.status.busy": "2022-06-22T16:07:33.133576Z",
     "iopub.status.idle": "2022-06-22T16:07:42.054483Z",
     "shell.execute_reply": "2022-06-22T16:07:42.053633Z"
    },
    "id": "d6a4e155",
    "papermill": {
     "duration": 8.960815,
     "end_time": "2022-06-22T16:07:42.054949",
     "exception": false,
     "start_time": "2022-06-22T16:07:33.094134",
     "status": "completed"
    },
    "tags": []
   },
   "outputs": [],
   "source": [
    "import ABC_train_test2\n",
    "import friedman3Dataset\n",
    "import network\n",
    "import dataset\n",
    "import sanityChecks\n",
    "import torch \n",
    "import scrapbook as sb\n",
    "from statistics import mean \n",
    "import catboost as ctb \n",
    "from sklearn.model_selection import train_test_split\n",
    "from sklearn.metrics import mean_squared_error,mean_absolute_error\n",
    "import numpy as np\n",
    "from pytorch_tabnet.tab_model import TabNetRegressor"
   ]
  },
  {
   "cell_type": "markdown",
   "id": "2fa5b0f7",
   "metadata": {
    "id": "2fa5b0f7",
    "papermill": {
     "duration": 0.066074,
     "end_time": "2022-06-22T16:07:42.164311",
     "exception": false,
     "start_time": "2022-06-22T16:07:42.098237",
     "status": "completed"
    },
    "tags": []
   },
   "source": [
    "## Parameters "
   ]
  },
  {
   "cell_type": "code",
   "execution_count": 3,
   "id": "783186fb",
   "metadata": {
    "execution": {
     "iopub.execute_input": "2022-06-22T16:07:42.245055Z",
     "iopub.status.busy": "2022-06-22T16:07:42.243739Z",
     "iopub.status.idle": "2022-06-22T16:07:42.248094Z",
     "shell.execute_reply": "2022-06-22T16:07:42.248697Z"
    },
    "id": "783186fb",
    "papermill": {
     "duration": 0.044689,
     "end_time": "2022-06-22T16:07:42.248943",
     "exception": false,
     "start_time": "2022-06-22T16:07:42.204254",
     "status": "completed"
    },
    "tags": [
     "parameters"
    ]
   },
   "outputs": [],
   "source": [
    "variance = 1\n",
    "bias = 1 "
   ]
  },
  {
   "cell_type": "code",
   "execution_count": 4,
   "id": "97909b1e",
   "metadata": {
    "execution": {
     "iopub.execute_input": "2022-06-22T16:07:42.290194Z",
     "iopub.status.busy": "2022-06-22T16:07:42.288857Z",
     "iopub.status.idle": "2022-06-22T16:07:42.291327Z",
     "shell.execute_reply": "2022-06-22T16:07:42.292202Z"
    },
    "papermill": {
     "duration": 0.025247,
     "end_time": "2022-06-22T16:07:42.292450",
     "exception": false,
     "start_time": "2022-06-22T16:07:42.267203",
     "status": "completed"
    },
    "tags": [
     "injected-parameters"
    ]
   },
   "outputs": [],
   "source": [
    "# Parameters\n",
    "variance = 0.1\n",
    "bias = 0.1\n"
   ]
  },
  {
   "cell_type": "markdown",
   "id": "391cdbfd",
   "metadata": {
    "id": "391cdbfd",
    "papermill": {
     "duration": 0.021597,
     "end_time": "2022-06-22T16:07:42.330990",
     "exception": false,
     "start_time": "2022-06-22T16:07:42.309393",
     "status": "completed"
    },
    "tags": []
   },
   "source": [
    "## Dataset \n"
   ]
  },
  {
   "cell_type": "code",
   "execution_count": 5,
   "id": "5b51f161",
   "metadata": {
    "execution": {
     "iopub.execute_input": "2022-06-22T16:07:42.375120Z",
     "iopub.status.busy": "2022-06-22T16:07:42.373351Z",
     "iopub.status.idle": "2022-06-22T16:07:42.377654Z",
     "shell.execute_reply": "2022-06-22T16:07:42.376828Z"
    },
    "id": "5b51f161",
    "papermill": {
     "duration": 0.026932,
     "end_time": "2022-06-22T16:07:42.378009",
     "exception": false,
     "start_time": "2022-06-22T16:07:42.351077",
     "status": "completed"
    },
    "tags": []
   },
   "outputs": [],
   "source": [
    "#Parameters \n",
    "n_features = 4\n",
    "n_samples= 100\n",
    "n_target = 1"
   ]
  },
  {
   "cell_type": "code",
   "execution_count": 6,
   "id": "5d6eced4",
   "metadata": {
    "execution": {
     "iopub.execute_input": "2022-06-22T16:07:42.514810Z",
     "iopub.status.busy": "2022-06-22T16:07:42.513686Z",
     "iopub.status.idle": "2022-06-22T16:07:42.535935Z",
     "shell.execute_reply": "2022-06-22T16:07:42.536656Z"
    },
    "id": "5d6eced4",
    "papermill": {
     "duration": 0.077407,
     "end_time": "2022-06-22T16:07:42.536904",
     "exception": false,
     "start_time": "2022-06-22T16:07:42.459497",
     "status": "completed"
    },
    "tags": []
   },
   "outputs": [
    {
     "name": "stdout",
     "output_type": "stream",
     "text": [
      "          X1          X2        X3        X4         Y\n",
      "0  17.047387  565.542171  0.351812  7.954139  1.524084\n",
      "1  18.867473  480.007525  0.286854  5.766906  1.480462\n",
      "2  48.958046  187.436136  0.589298  5.741010  1.052049\n",
      "3  80.478225  762.233583  0.165532  9.628729  0.984987\n",
      "4  38.458503  961.760331  0.611613  2.356624  1.346125\n"
     ]
    }
   ],
   "source": [
    "X,Y = friedman3Dataset.friedman3_data(n_samples)"
   ]
  },
  {
   "cell_type": "code",
   "execution_count": 7,
   "id": "fe007438",
   "metadata": {
    "execution": {
     "iopub.execute_input": "2022-06-22T16:07:42.622332Z",
     "iopub.status.busy": "2022-06-22T16:07:42.620070Z",
     "iopub.status.idle": "2022-06-22T16:07:42.624226Z",
     "shell.execute_reply": "2022-06-22T16:07:42.624781Z"
    },
    "id": "fe007438",
    "papermill": {
     "duration": 0.061657,
     "end_time": "2022-06-22T16:07:42.625054",
     "exception": false,
     "start_time": "2022-06-22T16:07:42.563397",
     "status": "completed"
    },
    "tags": []
   },
   "outputs": [],
   "source": [
    "#Train test split for dataset \n",
    "X_train,X_test,Y_train,Y_test = train_test_split(X,Y,test_size = 0.2)\n",
    "train_data = dataset.CustomDataset(X_train,Y_train)\n",
    "test_data = dataset.CustomDataset(X_test,Y_test)\n"
   ]
  },
  {
   "cell_type": "markdown",
   "id": "a9a1af34",
   "metadata": {
    "id": "a9a1af34",
    "papermill": {
     "duration": 0.030145,
     "end_time": "2022-06-22T16:07:42.693750",
     "exception": false,
     "start_time": "2022-06-22T16:07:42.663605",
     "status": "completed"
    },
    "tags": []
   },
   "source": [
    "## Training Parameters "
   ]
  },
  {
   "cell_type": "code",
   "execution_count": 8,
   "id": "952b7fc8",
   "metadata": {
    "execution": {
     "iopub.execute_input": "2022-06-22T16:07:42.791325Z",
     "iopub.status.busy": "2022-06-22T16:07:42.783902Z",
     "iopub.status.idle": "2022-06-22T16:07:42.793398Z",
     "shell.execute_reply": "2022-06-22T16:07:42.792703Z"
    },
    "id": "952b7fc8",
    "papermill": {
     "duration": 0.068336,
     "end_time": "2022-06-22T16:07:42.793627",
     "exception": false,
     "start_time": "2022-06-22T16:07:42.725291",
     "status": "completed"
    },
    "tags": []
   },
   "outputs": [],
   "source": [
    "batch_size = 32\n",
    "n_epochs = 1000\n",
    "#Select the device \n",
    "device = torch.device('cuda' if torch.cuda.is_available() else 'cpu')"
   ]
  },
  {
   "cell_type": "markdown",
   "id": "a95e1600",
   "metadata": {
    "id": "a95e1600",
    "papermill": {
     "duration": 0.019318,
     "end_time": "2022-06-22T16:07:42.840778",
     "exception": false,
     "start_time": "2022-06-22T16:07:42.821460",
     "status": "completed"
    },
    "tags": []
   },
   "source": [
    "# ABC Pre-generator Model \n",
    "\n",
    "1. The catboost model is used as a pre-generator model for the ABC-GAN. \n",
    "2. The model is first trained on the entire dataset \n",
    "3. It generats X,Y pairs and we add some Gaussian noise with mean 0 and variance 1 to it which is then feed as input to the generator.\n"
   ]
  },
  {
   "cell_type": "code",
   "execution_count": 9,
   "id": "ff8ce7bd",
   "metadata": {
    "execution": {
     "iopub.execute_input": "2022-06-22T16:07:42.896822Z",
     "iopub.status.busy": "2022-06-22T16:07:42.895339Z",
     "iopub.status.idle": "2022-06-22T16:07:58.319707Z",
     "shell.execute_reply": "2022-06-22T16:07:58.323555Z"
    },
    "id": "ff8ce7bd",
    "papermill": {
     "duration": 15.46023,
     "end_time": "2022-06-22T16:07:58.323997",
     "exception": false,
     "start_time": "2022-06-22T16:07:42.863767",
     "status": "completed"
    },
    "tags": []
   },
   "outputs": [
    {
     "name": "stdout",
     "output_type": "stream",
     "text": [
      "Device used : cpu\n"
     ]
    },
    {
     "name": "stdout",
     "output_type": "stream",
     "text": [
      "epoch 0  | loss: 0.84555 | train_mse: 4.49934 | train_mae: 1.59764 |  0:00:00s\n",
      "epoch 1  | loss: 0.71294 | train_mse: 1.83418 | train_mae: 1.07535 |  0:00:00s\n"
     ]
    },
    {
     "name": "stdout",
     "output_type": "stream",
     "text": [
      "epoch 2  | loss: 0.67608 | train_mse: 2.50675 | train_mae: 1.1707  |  0:00:00s\n",
      "epoch 3  | loss: 0.60668 | train_mse: 2.15907 | train_mae: 1.06494 |  0:00:00s\n"
     ]
    },
    {
     "name": "stdout",
     "output_type": "stream",
     "text": [
      "epoch 4  | loss: 0.4072  | train_mse: 2.76089 | train_mae: 1.19863 |  0:00:00s\n",
      "epoch 5  | loss: 0.44783 | train_mse: 1.97279 | train_mae: 1.01958 |  0:00:00s\n",
      "epoch 6  | loss: 0.30761 | train_mse: 2.12331 | train_mae: 1.00885 |  0:00:01s\n"
     ]
    },
    {
     "name": "stdout",
     "output_type": "stream",
     "text": [
      "epoch 7  | loss: 0.42506 | train_mse: 3.37137 | train_mae: 1.21374 |  0:00:01s\n",
      "epoch 8  | loss: 0.36227 | train_mse: 3.32127 | train_mae: 1.15474 |  0:00:01s\n"
     ]
    },
    {
     "name": "stdout",
     "output_type": "stream",
     "text": [
      "epoch 9  | loss: 0.33281 | train_mse: 2.4216  | train_mae: 0.95808 |  0:00:01s\n",
      "epoch 10 | loss: 0.32044 | train_mse: 1.12334 | train_mae: 0.7081  |  0:00:01s\n",
      "epoch 11 | loss: 0.39439 | train_mse: 0.67671 | train_mae: 0.60747 |  0:00:01s\n"
     ]
    },
    {
     "name": "stdout",
     "output_type": "stream",
     "text": [
      "epoch 12 | loss: 0.48226 | train_mse: 0.93533 | train_mae: 0.69029 |  0:00:01s\n",
      "epoch 13 | loss: 0.30606 | train_mse: 1.49754 | train_mae: 0.82169 |  0:00:01s\n",
      "epoch 14 | loss: 0.29914 | train_mse: 1.35814 | train_mae: 0.78251 |  0:00:01s\n"
     ]
    },
    {
     "name": "stdout",
     "output_type": "stream",
     "text": [
      "epoch 15 | loss: 0.30957 | train_mse: 0.83908 | train_mae: 0.64171 |  0:00:02s\n",
      "epoch 16 | loss: 0.23384 | train_mse: 0.91985 | train_mae: 0.70216 |  0:00:02s\n"
     ]
    },
    {
     "name": "stdout",
     "output_type": "stream",
     "text": [
      "epoch 17 | loss: 0.33067 | train_mse: 0.47286 | train_mae: 0.54586 |  0:00:02s\n",
      "epoch 18 | loss: 0.27713 | train_mse: 0.413   | train_mae: 0.49587 |  0:00:02s\n"
     ]
    },
    {
     "name": "stdout",
     "output_type": "stream",
     "text": [
      "epoch 19 | loss: 0.18001 | train_mse: 0.42091 | train_mae: 0.48935 |  0:00:02s\n",
      "epoch 20 | loss: 0.218   | train_mse: 0.46227 | train_mae: 0.50086 |  0:00:02s\n"
     ]
    },
    {
     "name": "stdout",
     "output_type": "stream",
     "text": [
      "epoch 21 | loss: 0.29416 | train_mse: 0.27828 | train_mae: 0.41108 |  0:00:02s\n",
      "epoch 22 | loss: 0.11981 | train_mse: 0.21312 | train_mae: 0.35441 |  0:00:02s\n"
     ]
    },
    {
     "name": "stdout",
     "output_type": "stream",
     "text": [
      "epoch 23 | loss: 0.15847 | train_mse: 0.19079 | train_mae: 0.33329 |  0:00:02s\n",
      "epoch 24 | loss: 0.15536 | train_mse: 0.24762 | train_mae: 0.36508 |  0:00:02s\n"
     ]
    },
    {
     "name": "stdout",
     "output_type": "stream",
     "text": [
      "epoch 25 | loss: 0.2918  | train_mse: 0.21604 | train_mae: 0.3551  |  0:00:03s\n",
      "epoch 26 | loss: 0.15495 | train_mse: 0.15843 | train_mae: 0.3002  |  0:00:03s\n"
     ]
    },
    {
     "name": "stdout",
     "output_type": "stream",
     "text": [
      "epoch 27 | loss: 0.15726 | train_mse: 0.16209 | train_mae: 0.29183 |  0:00:03s\n",
      "epoch 28 | loss: 0.16011 | train_mse: 0.16392 | train_mae: 0.30388 |  0:00:03s\n"
     ]
    },
    {
     "name": "stdout",
     "output_type": "stream",
     "text": [
      "epoch 29 | loss: 0.28839 | train_mse: 0.16366 | train_mae: 0.29128 |  0:00:03s\n",
      "epoch 30 | loss: 0.24341 | train_mse: 0.14531 | train_mae: 0.29274 |  0:00:03s\n",
      "epoch 31 | loss: 0.13655 | train_mse: 0.15933 | train_mae: 0.29214 |  0:00:03s\n"
     ]
    },
    {
     "name": "stdout",
     "output_type": "stream",
     "text": [
      "epoch 32 | loss: 0.1559  | train_mse: 0.14788 | train_mae: 0.26699 |  0:00:03s\n",
      "epoch 33 | loss: 0.21878 | train_mse: 0.1444  | train_mae: 0.26527 |  0:00:03s\n"
     ]
    },
    {
     "name": "stdout",
     "output_type": "stream",
     "text": [
      "epoch 34 | loss: 0.16478 | train_mse: 0.22218 | train_mae: 0.31179 |  0:00:04s\n",
      "epoch 35 | loss: 0.13016 | train_mse: 0.19188 | train_mae: 0.28626 |  0:00:04s\n"
     ]
    },
    {
     "name": "stdout",
     "output_type": "stream",
     "text": [
      "epoch 36 | loss: 0.25821 | train_mse: 0.17462 | train_mae: 0.26759 |  0:00:04s\n"
     ]
    },
    {
     "name": "stdout",
     "output_type": "stream",
     "text": [
      "epoch 37 | loss: 0.09512 | train_mse: 0.18958 | train_mae: 0.27729 |  0:00:04s\n",
      "epoch 38 | loss: 0.18676 | train_mse: 0.14586 | train_mae: 0.25609 |  0:00:04s\n"
     ]
    },
    {
     "name": "stdout",
     "output_type": "stream",
     "text": [
      "epoch 39 | loss: 0.07501 | train_mse: 0.15133 | train_mae: 0.26705 |  0:00:04s\n",
      "epoch 40 | loss: 0.08231 | train_mse: 0.14209 | train_mae: 0.26934 |  0:00:05s\n",
      "epoch 41 | loss: 0.07363 | train_mse: 0.16279 | train_mae: 0.28347 |  0:00:05s\n"
     ]
    },
    {
     "name": "stdout",
     "output_type": "stream",
     "text": [
      "epoch 42 | loss: 0.08543 | train_mse: 0.2176  | train_mae: 0.32206 |  0:00:05s\n",
      "epoch 43 | loss: 0.13241 | train_mse: 0.14455 | train_mae: 0.26841 |  0:00:05s\n"
     ]
    },
    {
     "name": "stdout",
     "output_type": "stream",
     "text": [
      "epoch 44 | loss: 0.28216 | train_mse: 0.09273 | train_mae: 0.22833 |  0:00:05s\n",
      "epoch 45 | loss: 0.12951 | train_mse: 0.13269 | train_mae: 0.26785 |  0:00:05s\n",
      "epoch 46 | loss: 0.12099 | train_mse: 0.19164 | train_mae: 0.29985 |  0:00:05s\n"
     ]
    },
    {
     "name": "stdout",
     "output_type": "stream",
     "text": [
      "epoch 47 | loss: 0.11089 | train_mse: 0.2041  | train_mae: 0.30324 |  0:00:06s\n",
      "epoch 48 | loss: 0.22127 | train_mse: 0.14467 | train_mae: 0.25775 |  0:00:06s\n"
     ]
    },
    {
     "name": "stdout",
     "output_type": "stream",
     "text": [
      "epoch 49 | loss: 0.08762 | train_mse: 0.14978 | train_mae: 0.24809 |  0:00:06s\n",
      "epoch 50 | loss: 0.17034 | train_mse: 0.08533 | train_mae: 0.21403 |  0:00:06s\n"
     ]
    },
    {
     "name": "stdout",
     "output_type": "stream",
     "text": [
      "epoch 51 | loss: 0.11184 | train_mse: 0.06539 | train_mae: 0.19945 |  0:00:06s\n",
      "epoch 52 | loss: 0.08171 | train_mse: 0.08062 | train_mae: 0.22156 |  0:00:06s\n",
      "epoch 53 | loss: 0.09452 | train_mse: 0.13522 | train_mae: 0.26389 |  0:00:06s\n"
     ]
    },
    {
     "name": "stdout",
     "output_type": "stream",
     "text": [
      "epoch 54 | loss: 0.09091 | train_mse: 0.13917 | train_mae: 0.2539  |  0:00:06s\n",
      "epoch 55 | loss: 0.11825 | train_mse: 0.08196 | train_mae: 0.21466 |  0:00:07s\n"
     ]
    },
    {
     "name": "stdout",
     "output_type": "stream",
     "text": [
      "epoch 56 | loss: 0.10563 | train_mse: 0.08312 | train_mae: 0.21748 |  0:00:07s\n",
      "epoch 57 | loss: 0.13318 | train_mse: 0.0844  | train_mae: 0.21782 |  0:00:07s\n"
     ]
    },
    {
     "name": "stdout",
     "output_type": "stream",
     "text": [
      "epoch 58 | loss: 0.11484 | train_mse: 0.06736 | train_mae: 0.20019 |  0:00:07s\n",
      "epoch 59 | loss: 0.11478 | train_mse: 0.06468 | train_mae: 0.19507 |  0:00:07s\n"
     ]
    },
    {
     "name": "stdout",
     "output_type": "stream",
     "text": [
      "epoch 60 | loss: 0.32699 | train_mse: 0.08947 | train_mae: 0.22699 |  0:00:07s\n",
      "epoch 61 | loss: 0.18493 | train_mse: 0.13087 | train_mae: 0.25953 |  0:00:07s\n"
     ]
    },
    {
     "name": "stdout",
     "output_type": "stream",
     "text": [
      "epoch 62 | loss: 0.17359 | train_mse: 0.07464 | train_mae: 0.21087 |  0:00:07s\n",
      "epoch 63 | loss: 0.06592 | train_mse: 0.11001 | train_mae: 0.23794 |  0:00:08s\n"
     ]
    },
    {
     "name": "stdout",
     "output_type": "stream",
     "text": [
      "epoch 64 | loss: 0.09925 | train_mse: 0.17412 | train_mae: 0.28085 |  0:00:08s\n",
      "epoch 65 | loss: 0.44903 | train_mse: 0.25484 | train_mae: 0.31631 |  0:00:08s\n"
     ]
    },
    {
     "name": "stdout",
     "output_type": "stream",
     "text": [
      "epoch 66 | loss: 0.14586 | train_mse: 0.09567 | train_mae: 0.22274 |  0:00:08s\n",
      "epoch 67 | loss: 0.07236 | train_mse: 0.04957 | train_mae: 0.17454 |  0:00:08s\n",
      "epoch 68 | loss: 0.27822 | train_mse: 0.10659 | train_mae: 0.22167 |  0:00:08s\n"
     ]
    },
    {
     "name": "stdout",
     "output_type": "stream",
     "text": [
      "epoch 69 | loss: 0.15417 | train_mse: 0.08007 | train_mae: 0.20505 |  0:00:08s\n",
      "epoch 70 | loss: 0.15761 | train_mse: 0.05437 | train_mae: 0.17846 |  0:00:08s\n",
      "epoch 71 | loss: 0.0614  | train_mse: 0.05989 | train_mae: 0.19023 |  0:00:08s\n"
     ]
    },
    {
     "name": "stdout",
     "output_type": "stream",
     "text": [
      "epoch 72 | loss: 0.08442 | train_mse: 0.04964 | train_mae: 0.18075 |  0:00:08s\n",
      "epoch 73 | loss: 0.06399 | train_mse: 0.05635 | train_mae: 0.18172 |  0:00:09s\n",
      "epoch 74 | loss: 0.05616 | train_mse: 0.12979 | train_mae: 0.23616 |  0:00:09s\n"
     ]
    },
    {
     "name": "stdout",
     "output_type": "stream",
     "text": [
      "epoch 75 | loss: 0.12637 | train_mse: 0.09823 | train_mae: 0.22421 |  0:00:09s\n",
      "epoch 76 | loss: 0.2119  | train_mse: 0.11426 | train_mae: 0.21974 |  0:00:09s\n"
     ]
    },
    {
     "name": "stdout",
     "output_type": "stream",
     "text": [
      "epoch 77 | loss: 0.12687 | train_mse: 0.12067 | train_mae: 0.22272 |  0:00:09s\n"
     ]
    },
    {
     "name": "stdout",
     "output_type": "stream",
     "text": [
      "epoch 78 | loss: 0.14918 | train_mse: 0.12712 | train_mae: 0.23108 |  0:00:09s\n",
      "epoch 79 | loss: 0.15301 | train_mse: 0.15147 | train_mae: 0.24628 |  0:00:09s\n",
      "epoch 80 | loss: 0.10248 | train_mse: 0.16618 | train_mae: 0.25504 |  0:00:09s\n",
      "epoch 81 | loss: 0.13454 | train_mse: 0.166   | train_mae: 0.26193 |  0:00:09s\n"
     ]
    },
    {
     "name": "stdout",
     "output_type": "stream",
     "text": [
      "epoch 82 | loss: 0.13807 | train_mse: 0.17691 | train_mae: 0.27529 |  0:00:10s\n",
      "epoch 83 | loss: 0.11271 | train_mse: 0.25194 | train_mae: 0.31218 |  0:00:10s\n"
     ]
    },
    {
     "name": "stdout",
     "output_type": "stream",
     "text": [
      "epoch 84 | loss: 0.11482 | train_mse: 0.2663  | train_mae: 0.31699 |  0:00:10s\n",
      "epoch 85 | loss: 0.09423 | train_mse: 0.26772 | train_mae: 0.31131 |  0:00:10s\n"
     ]
    },
    {
     "name": "stdout",
     "output_type": "stream",
     "text": [
      "epoch 86 | loss: 0.25382 | train_mse: 0.242   | train_mae: 0.30025 |  0:00:10s\n",
      "epoch 87 | loss: 0.08033 | train_mse: 0.1678  | train_mae: 0.2615  |  0:00:10s\n"
     ]
    },
    {
     "name": "stdout",
     "output_type": "stream",
     "text": [
      "epoch 88 | loss: 0.15274 | train_mse: 0.15193 | train_mae: 0.24133 |  0:00:10s\n",
      "epoch 89 | loss: 0.19426 | train_mse: 0.12703 | train_mae: 0.22414 |  0:00:11s\n"
     ]
    },
    {
     "name": "stdout",
     "output_type": "stream",
     "text": [
      "epoch 90 | loss: 0.1982  | train_mse: 0.12076 | train_mae: 0.23257 |  0:00:11s\n",
      "epoch 91 | loss: 0.18608 | train_mse: 0.13514 | train_mae: 0.24409 |  0:00:11s\n"
     ]
    },
    {
     "name": "stdout",
     "output_type": "stream",
     "text": [
      "epoch 92 | loss: 0.1577  | train_mse: 0.14681 | train_mae: 0.24432 |  0:00:11s\n",
      "epoch 93 | loss: 0.08905 | train_mse: 0.13506 | train_mae: 0.25133 |  0:00:11s\n"
     ]
    },
    {
     "name": "stdout",
     "output_type": "stream",
     "text": [
      "epoch 94 | loss: 0.17087 | train_mse: 0.12132 | train_mae: 0.2416  |  0:00:11s\n",
      "epoch 95 | loss: 0.23704 | train_mse: 0.07982 | train_mae: 0.2073  |  0:00:11s\n"
     ]
    },
    {
     "name": "stdout",
     "output_type": "stream",
     "text": [
      "epoch 96 | loss: 0.09902 | train_mse: 0.10356 | train_mae: 0.2234  |  0:00:11s\n",
      "epoch 97 | loss: 0.28033 | train_mse: 0.14312 | train_mae: 0.26213 |  0:00:12s\n"
     ]
    },
    {
     "name": "stdout",
     "output_type": "stream",
     "text": [
      "epoch 98 | loss: 0.11576 | train_mse: 0.12715 | train_mae: 0.24133 |  0:00:12s\n",
      "epoch 99 | loss: 0.14202 | train_mse: 0.1239  | train_mae: 0.24395 |  0:00:12s\n"
     ]
    },
    {
     "name": "stdout",
     "output_type": "stream",
     "text": [
      "epoch 100| loss: 0.09494 | train_mse: 0.1657  | train_mae: 0.26612 |  0:00:12s\n",
      "epoch 101| loss: 0.12362 | train_mse: 0.12668 | train_mae: 0.23662 |  0:00:12s\n"
     ]
    },
    {
     "name": "stdout",
     "output_type": "stream",
     "text": [
      "epoch 102| loss: 0.25004 | train_mse: 0.09452 | train_mae: 0.21113 |  0:00:12s\n",
      "epoch 103| loss: 0.25987 | train_mse: 0.07925 | train_mae: 0.21059 |  0:00:12s\n",
      "epoch 104| loss: 0.18071 | train_mse: 0.07203 | train_mae: 0.20599 |  0:00:12s\n"
     ]
    },
    {
     "name": "stdout",
     "output_type": "stream",
     "text": [
      "epoch 105| loss: 0.14652 | train_mse: 0.06902 | train_mae: 0.20069 |  0:00:13s\n",
      "epoch 106| loss: 0.189   | train_mse: 0.05532 | train_mae: 0.18012 |  0:00:13s\n"
     ]
    },
    {
     "name": "stdout",
     "output_type": "stream",
     "text": [
      "epoch 107| loss: 0.14636 | train_mse: 0.05457 | train_mae: 0.17597 |  0:00:13s\n"
     ]
    },
    {
     "name": "stdout",
     "output_type": "stream",
     "text": [
      "epoch 108| loss: 0.11464 | train_mse: 0.06828 | train_mae: 0.19664 |  0:00:13s\n",
      "epoch 109| loss: 0.07388 | train_mse: 0.09128 | train_mae: 0.22366 |  0:00:13s\n"
     ]
    },
    {
     "name": "stdout",
     "output_type": "stream",
     "text": [
      "epoch 110| loss: 0.15869 | train_mse: 0.17775 | train_mae: 0.28346 |  0:00:14s\n",
      "epoch 111| loss: 0.26622 | train_mse: 0.2914  | train_mae: 0.33965 |  0:00:14s\n"
     ]
    },
    {
     "name": "stdout",
     "output_type": "stream",
     "text": [
      "epoch 112| loss: 0.17443 | train_mse: 0.2259  | train_mae: 0.29463 |  0:00:14s\n",
      "epoch 113| loss: 0.26362 | train_mse: 0.15897 | train_mae: 0.25508 |  0:00:14s\n"
     ]
    },
    {
     "name": "stdout",
     "output_type": "stream",
     "text": [
      "epoch 114| loss: 0.19857 | train_mse: 0.1174  | train_mae: 0.22884 |  0:00:14s\n"
     ]
    },
    {
     "name": "stdout",
     "output_type": "stream",
     "text": [
      "epoch 115| loss: 0.15958 | train_mse: 0.10133 | train_mae: 0.21347 |  0:00:14s\n",
      "epoch 116| loss: 0.14084 | train_mse: 0.12478 | train_mae: 0.22785 |  0:00:15s\n"
     ]
    },
    {
     "name": "stdout",
     "output_type": "stream",
     "text": [
      "epoch 117| loss: 0.05961 | train_mse: 0.16884 | train_mae: 0.26869 |  0:00:15s\n",
      "\n",
      "Early stopping occurred at epoch 117 with best_epoch = 67 and best_train_mae = 0.17454\n",
      "Best weights from best epoch are automatically used!\n"
     ]
    }
   ],
   "source": [
    "#Train the Model\n",
    "\n",
    "Y_train = np.reshape(Y_train, (-1, 1))\n",
    "Y_test = np.reshape(Y_test, (-1, 1))\n",
    "\n",
    "prior_model = TabNetRegressor(optimizer_fn=torch.optim.Adam, optimizer_params=dict(lr = 0.02),\n",
    "          #scheduler_params={\"step_size\":10, ], \"gamma\":0.9},\n",
    "          #scheduler_fn=torch.optim.lr_scheduler.StepLR\n",
    "          )  #TabNetRegressor()\n",
    "\n",
    "prior_model.fit(X_train,Y_train,eval_set=[(X_train, Y_train)],\n",
    "            eval_name=['train'], \n",
    "            eval_metric=[ 'mse', 'mae'], \n",
    "            max_epochs = n_epochs, \n",
    "            batch_size = batch_size,\n",
    "            patience=50\n",
    "            )"
   ]
  },
  {
   "cell_type": "code",
   "execution_count": 10,
   "id": "af65dcda",
   "metadata": {
    "execution": {
     "iopub.execute_input": "2022-06-22T16:07:58.451697Z",
     "iopub.status.busy": "2022-06-22T16:07:58.450041Z",
     "iopub.status.idle": "2022-06-22T16:07:58.483273Z",
     "shell.execute_reply": "2022-06-22T16:07:58.483908Z"
    },
    "id": "af65dcda",
    "papermill": {
     "duration": 0.121201,
     "end_time": "2022-06-22T16:07:58.484130",
     "exception": false,
     "start_time": "2022-06-22T16:07:58.362929",
     "status": "completed"
    },
    "tags": []
   },
   "outputs": [
    {
     "data": {
      "application/scrapbook.scrap.json+json": {
       "data": 0.16462912660180531,
       "encoder": "json",
       "name": "Prior Model MSE",
       "version": 1
      }
     },
     "metadata": {
      "scrapbook": {
       "data": true,
       "display": false,
       "name": "Prior Model MSE"
      }
     },
     "output_type": "display_data"
    },
    {
     "data": {
      "application/scrapbook.scrap.json+json": {
       "data": 0.1515453265925603,
       "encoder": "json",
       "name": "ABC Pre-generator MSE",
       "version": 1
      }
     },
     "metadata": {
      "scrapbook": {
       "data": true,
       "display": false,
       "name": "ABC Pre-generator MSE"
      }
     },
     "output_type": "display_data"
    },
    {
     "data": {
      "application/scrapbook.scrap.json+json": {
       "data": 0.28944265281273723,
       "encoder": "json",
       "name": "Prior Model MSE",
       "version": 1
      }
     },
     "metadata": {
      "scrapbook": {
       "data": true,
       "display": false,
       "name": "Prior Model MSE"
      }
     },
     "output_type": "display_data"
    },
    {
     "data": {
      "application/scrapbook.scrap.json+json": {
       "data": 0.30447306234140326,
       "encoder": "json",
       "name": "ABC Pre-generator MSE",
       "version": 1
      }
     },
     "metadata": {
      "scrapbook": {
       "data": true,
       "display": false,
       "name": "ABC Pre-generator MSE"
      }
     },
     "output_type": "display_data"
    }
   ],
   "source": [
    "y_pred = prior_model.predict(X_test)\n",
    "y_abc = y_pred + np.random.normal(0,variance, y_pred.shape) + bias \n",
    "mse = mean_squared_error(y_pred,Y_test)\n",
    "sb.glue(\"Prior Model MSE\",mse)\n",
    "mse = mean_squared_error(y_abc,Y_test)\n",
    "sb.glue(\"ABC Pre-generator MSE\",mse)\n",
    "mae = mean_absolute_error(y_pred,Y_test)\n",
    "sb.glue(\"Prior Model MSE\",mae)\n",
    "mae = mean_absolute_error(y_abc,Y_test)\n",
    "sb.glue(\"ABC Pre-generator MSE\",mae)"
   ]
  },
  {
   "cell_type": "markdown",
   "id": "25609da2",
   "metadata": {
    "papermill": {
     "duration": 0.041746,
     "end_time": "2022-06-22T16:07:58.566755",
     "exception": false,
     "start_time": "2022-06-22T16:07:58.525009",
     "status": "completed"
    },
    "tags": []
   },
   "source": [
    "# ABC GAN Model"
   ]
  },
  {
   "cell_type": "code",
   "execution_count": 11,
   "id": "dfc3464d",
   "metadata": {
    "execution": {
     "iopub.execute_input": "2022-06-22T16:07:58.653595Z",
     "iopub.status.busy": "2022-06-22T16:07:58.651941Z",
     "iopub.status.idle": "2022-06-22T16:07:58.656613Z",
     "shell.execute_reply": "2022-06-22T16:07:58.657101Z"
    },
    "papermill": {
     "duration": 0.05226,
     "end_time": "2022-06-22T16:07:58.657352",
     "exception": false,
     "start_time": "2022-06-22T16:07:58.605092",
     "status": "completed"
    },
    "tags": []
   },
   "outputs": [],
   "source": [
    "gen = network.Generator(n_features+1).to(device)\n",
    "disc = network.Discriminator(n_features+1).to(device)\n",
    "\n",
    "criterion = torch.nn.BCELoss()\n",
    "gen_opt = torch.optim.Adam(gen.parameters(), lr=0.001, betas=(0.5, 0.999))\n",
    "disc_opt = torch.optim.Adam(disc.parameters(), lr=0.001, betas=(0.5, 0.999))"
   ]
  },
  {
   "cell_type": "code",
   "execution_count": 12,
   "id": "b75fdd85",
   "metadata": {
    "execution": {
     "iopub.execute_input": "2022-06-22T16:07:58.773266Z",
     "iopub.status.busy": "2022-06-22T16:07:58.772304Z",
     "iopub.status.idle": "2022-06-22T16:09:13.829744Z",
     "shell.execute_reply": "2022-06-22T16:09:13.830499Z"
    },
    "papermill": {
     "duration": 75.123747,
     "end_time": "2022-06-22T16:09:13.830907",
     "exception": false,
     "start_time": "2022-06-22T16:07:58.707160",
     "status": "completed"
    },
    "tags": []
   },
   "outputs": [
    {
     "data": {
      "image/png": "[encoded data removed]",
      "text/plain": [
       "<Figure size 432x288 with 1 Axes>"
      ]
     },
     "metadata": {
      "needs_background": "light"
     },
     "output_type": "display_data"
    },
    {
     "data": {
      "image/png": "[encoded data removed]",
      "text/plain": [
       "<Figure size 432x288 with 1 Axes>"
      ]
     },
     "metadata": {
      "needs_background": "light"
     },
     "output_type": "display_data"
    }
   ],
   "source": [
    "#Training the ABC_GAN \n",
    "ABC_train_test2.training_GAN(disc,gen,disc_opt,gen_opt,train_data,batch_size,n_epochs,criterion,prior_model,variance,bias,device)"
   ]
  },
  {
   "cell_type": "code",
   "execution_count": 13,
   "id": "1fa7c368",
   "metadata": {
    "execution": {
     "iopub.execute_input": "2022-06-22T16:09:13.996012Z",
     "iopub.status.busy": "2022-06-22T16:09:13.995201Z",
     "iopub.status.idle": "2022-06-22T16:09:15.336116Z",
     "shell.execute_reply": "2022-06-22T16:09:15.338145Z"
    },
    "papermill": {
     "duration": 1.452717,
     "end_time": "2022-06-22T16:09:15.338760",
     "exception": false,
     "start_time": "2022-06-22T16:09:13.886043",
     "status": "completed"
    },
    "tags": []
   },
   "outputs": [
    {
     "data": {
      "application/scrapbook.scrap.json+json": {
       "data": 0.326001514190773,
       "encoder": "json",
       "name": "ABC-GAN Model 1 MSE",
       "version": 1
      }
     },
     "metadata": {
      "scrapbook": {
       "data": true,
       "display": false,
       "name": "ABC-GAN Model 1 MSE"
      }
     },
     "output_type": "display_data"
    },
    {
     "data": {
      "application/scrapbook.scrap.json+json": {
       "data": 0.4655929176490754,
       "encoder": "json",
       "name": "ABC-GAN Model 1 MAE",
       "version": 1
      }
     },
     "metadata": {
      "scrapbook": {
       "data": true,
       "display": false,
       "name": "ABC-GAN Model 1 MAE"
      }
     },
     "output_type": "display_data"
    },
    {
     "data": {
      "application/scrapbook.scrap.json+json": {
       "data": 9.311858352981508,
       "encoder": "json",
       "name": "ABC-GAN Model 1 Manhattan Distance",
       "version": 1
      }
     },
     "metadata": {
      "scrapbook": {
       "data": true,
       "display": false,
       "name": "ABC-GAN Model 1 Manhattan Distance"
      }
     },
     "output_type": "display_data"
    },
    {
     "data": {
      "application/scrapbook.scrap.json+json": {
       "data": 2.5513251979813045,
       "encoder": "json",
       "name": "ABC-GAN Model 1 Euclidean distance",
       "version": 1
      }
     },
     "metadata": {
      "scrapbook": {
       "data": true,
       "display": false,
       "name": "ABC-GAN Model 1 Euclidean distance"
      }
     },
     "output_type": "display_data"
    },
    {
     "data": {
      "application/scrapbook.scrap.json+json": {
       "data": [
        [
         0.3311871757430338,
         0.28527224118904565,
         0.3452053716846243,
         0.33283482735344866,
         0.327992487196789,
         0.29965395543614115,
         0.3314000278760103,
         0.3179489001378876,
         0.32132279462946056,
         0.3237685336582452,
         0.2865728829752265,
         0.3332549319727244,
         0.35383324182497006,
         0.30703195931009,
         0.3077436271202493,
         0.3630128912157754,
         0.3211090687485127,
         0.3561143988601011,
         0.3072272563857187,
         0.29110743081668666,
         0.3311403123711606,
         0.343367717111675,
         0.3616917774275641,
         0.3125763120164453,
         0.30681791192625657,
         0.31499988706820414,
         0.2979388188015891,
         0.3110755583924425,
         0.27356065804542007,
         0.30637578989122755,
         0.31018827945528815,
         0.3339403287340882,
         0.3190230172371247,
         0.32647222164585854,
         0.35516861405940714,
         0.2790317339707245,
         0.29708037226782763,
         0.3096345226764846,
         0.3172044499566854,
         0.3313444662187098,
         0.2900093371306499,
         0.32902546550822115,
         0.3567721455504096,
         0.35403575541714705,
         0.3204132829699117,
         0.35311942498896126,
         0.37802190926531226,
         0.3582195343135467,
         0.3420165043679757,
         0.30058484366505706,
         0.311006924143642,
         0.2985014178731965,
         0.34473324733544664,
         0.32616231233180215,
         0.3673367020806403,
         0.32231528257654773,
         0.3454454978641737,
         0.359349006855296,
         0.31964216529369405,
         0.3349330322894325,
         0.3301266615917532,
         0.3181850207755766,
         0.34184550154790994,
         0.31625333089876473,
         0.3145070026547451,
         0.3096426280629226,
         0.366921216237868,
         0.3933138351353633,
         0.3122016528653468,
         0.3498696210510275,
         0.3633333037575457,
         0.2783159416107051,
         0.33004615782214924,
         0.3511009048173676,
         0.3619462074692689,
         0.34906406154900904,
         0.33976466083958784,
         0.3173177958400839,
         0.38342449609213586,
         0.2724067167623595,
         0.32267076511629206,
         0.3356202356582061,
         0.3006652824015367,
         0.34204961286232444,
         0.320891958137549,
         0.31633436378739677,
         0.29082189471252995,
         0.33926482397654845,
         0.36830714332814585,
         0.30296387931775914,
         0.3089015547767135,
         0.3356945161052238,
         0.40234513495048196,
         0.29710281163024993,
         0.3037510921815388,
         0.2737981947036289,
         0.3130631121561851,
         0.30563102969385203,
         0.2999243954969999,
         0.3268923554726599
        ],
        [
         0.46372022219002246,
         0.44601991176605227,
         0.47594866510480643,
         0.47778649982064963,
         0.4670899039134383,
         0.44982501920312645,
         0.46882734149694444,
         0.45458950810134413,
         0.45604015197604897,
         0.4633324097841978,
         0.44927766527980567,
         0.4685814704746008,
         0.48488000929355624,
         0.45790872126817705,
         0.4563563888892531,
         0.48730638548731803,
         0.46913728695362805,
         0.47989576384425164,
         0.46190459094941616,
         0.453931319154799,
         0.46440432500094175,
         0.4831440940499306,
         0.47610543854534626,
         0.45545987524092196,
         0.4612313171848655,
         0.46426014713943003,
         0.45078294482082126,
         0.4430695977061987,
         0.4448638156056404,
         0.4505238113924861,
         0.46546877957880495,
         0.4785184418782592,
         0.4583386925980449,
         0.44978246483951806,
         0.47720750626176595,
         0.43950555138289926,
         0.4506404522806406,
         0.4682456262409687,
         0.4532337736338377,
         0.46159474458545446,
         0.44748851638287307,
         0.452068642899394,
         0.4888817798346281,
         0.4674496304243803,
         0.4580002728849649,
         0.4676014859229326,
         0.47630754970014094,
         0.4817231442779303,
         0.47468839641660454,
         0.45275357998907567,
         0.4551505776122212,
         0.46741215921938417,
         0.4779395556077361,
         0.4674684595316648,
         0.4909682584926486,
         0.4662005851045251,
         0.47776139434427023,
         0.47319439668208363,
         0.4598148224875331,
         0.47014121934771536,
         0.4781625157222152,
         0.46205461807549,
         0.475328903272748,
         0.45971690453588965,
         0.4619604744017124,
         0.45936680771410465,
         0.4811730256304145,
         0.4968958718702197,
         0.45395560301840304,
         0.4773711560294032,
         0.47886678501963614,
         0.4515899572521448,
         0.4634894136339426,
         0.4802730608731508,
         0.4784354029223323,
         0.48675981611013414,
         0.471282995864749,
         0.465724247507751,
         0.4880773900076747,
         0.436737659201026,
         0.4656444262713194,
         0.47025575693696736,
         0.44530333690345286,
         0.4770540436729789,
         0.4728244235739112,
         0.4605834661051631,
         0.4491536319255829,
         0.47512389700859786,
         0.47935549877583983,
         0.4601993229240179,
         0.4638054883107543,
         0.46995998434722425,
         0.5074421718716622,
         0.4424175266176462,
         0.4581888888031244,
         0.4464841991662979,
         0.45845887493342163,
         0.46344369016587733,
         0.45318750087171794,
         0.47142796497792006
        ],
        [
         9.27440444380045,
         8.920398235321045,
         9.518973302096128,
         9.555729996412992,
         9.341798078268766,
         8.996500384062529,
         9.376546829938889,
         9.091790162026882,
         9.120803039520979,
         9.266648195683956,
         8.985553305596113,
         9.371629409492016,
         9.697600185871124,
         9.15817442536354,
         9.127127777785063,
         9.74612770974636,
         9.382745739072561,
         9.597915276885033,
         9.238091818988323,
         9.07862638309598,
         9.288086500018835,
         9.662881880998611,
         9.522108770906925,
         9.10919750481844,
         9.22462634369731,
         9.285202942788601,
         9.015658896416426,
         8.861391954123974,
         8.897276312112808,
         9.010476227849722,
         9.3093755915761,
         9.570368837565184,
         9.166773851960897,
         8.995649296790361,
         9.54415012523532,
         8.790111027657986,
         9.012809045612812,
         9.364912524819374,
         9.064675472676754,
         9.23189489170909,
         8.949770327657461,
         9.04137285798788,
         9.777635596692562,
         9.348992608487606,
         9.160005457699299,
         9.352029718458652,
         9.526150994002819,
         9.634462885558605,
         9.49376792833209,
         9.055071599781513,
         9.103011552244425,
         9.348243184387684,
         9.558791112154722,
         9.349369190633297,
         9.819365169852972,
         9.324011702090502,
         9.555227886885405,
         9.463887933641672,
         9.196296449750662,
         9.402824386954308,
         9.563250314444304,
         9.2410923615098,
         9.50657806545496,
         9.194338090717793,
         9.239209488034248,
         9.187336154282093,
         9.62346051260829,
         9.937917437404394,
         9.079112060368061,
         9.547423120588064,
         9.577335700392723,
         9.031799145042896,
         9.269788272678852,
         9.605461217463017,
         9.568708058446646,
         9.735196322202682,
         9.425659917294979,
         9.31448495015502,
         9.761547800153494,
         8.73475318402052,
         9.312888525426388,
         9.405115138739347,
         8.906066738069057,
         9.541080873459578,
         9.456488471478224,
         9.211669322103262,
         8.983072638511658,
         9.502477940171957,
         9.587109975516796,
         9.203986458480358,
         9.276109766215086,
         9.399199686944485,
         10.148843437433243,
         8.848350532352924,
         9.163777776062489,
         8.929683983325958,
         9.169177498668432,
         9.268873803317547,
         9.063750017434359,
         9.428559299558401
        ],
        [
         2.5736634424222364,
         2.388607297941818,
         2.6275668276358806,
         2.5800574697221323,
         2.5612203622366776,
         2.448076614144832,
         2.574490349082747,
         2.5217014103096647,
         2.535045540535556,
         2.544674964148644,
         2.3940462943528327,
         2.5816852324507895,
         2.660200149706672,
         2.478031312595101,
         2.4809015583865848,
         2.6944865604258466,
         2.534202315319409,
         2.668761506242553,
         2.4788193011420523,
         2.412912890332706,
         2.5734813477900342,
         2.6205637451192634,
         2.689579065309529,
         2.50030522943278,
         2.4771673820162277,
         2.509979629671142,
         2.44106050232922,
         2.494295725820988,
         2.3390624534005933,
         2.475381949886633,
         2.490735953308934,
         2.5843387112918776,
         2.5259573125337043,
         2.5552777604239365,
         2.665215241061806,
         2.3623366989941315,
         2.4375412704929844,
         2.488511694473163,
         2.5187475060302704,
         2.5742745238948768,
         2.408357685771156,
         2.5652503406421023,
         2.6712249832255224,
         2.6609613128234204,
         2.5314552453871735,
         2.6575154749839602,
         2.749625099046458,
         2.6766379445623447,
         2.6154024713912607,
         2.4518761945296386,
         2.494020545800062,
         2.4433641475359194,
         2.625769400901178,
         2.5540646520078623,
         2.7104859419692264,
         2.538957591518802,
         2.628480541545528,
         2.6808543670080103,
         2.528407266615464,
         2.5881770893408067,
         2.5695394980103075,
         2.522637590997076,
         2.6147485597965625,
         2.5149685123228274,
         2.508015162054429,
         2.4885442654810164,
         2.708952625048537,
         2.8046883432401657,
         2.4988063264900977,
         2.6452584790565457,
         2.6956754395050813,
         2.359304734919612,
         2.5692261785298283,
         2.64990907322258,
         2.6905248836212943,
         2.642211428137457,
         2.60677832137521,
         2.5191974747529575,
         2.7692038425949645,
         2.3341238902952837,
         2.5403573178444487,
         2.590830892428937,
         2.4522042427234187,
         2.6155290587654516,
         2.5333454487596003,
         2.51529069408447,
         2.411729233195675,
         2.6048601650627945,
         2.714063902446462,
         2.4615599904034804,
         2.485564542620905,
         2.5911175816825596,
         2.8367063117301443,
         2.437633326118799,
         2.4647559399727137,
         2.3400777538519053,
         2.5022514348329787,
         2.4723714514362602,
         2.4491810692433496,
         2.5569214124515436
        ]
       ],
       "encoder": "json",
       "name": "ABC_GAN_1 Metrics",
       "version": 1
      }
     },
     "metadata": {
      "scrapbook": {
       "data": true,
       "display": false,
       "name": "ABC_GAN_1 Metrics"
      }
     },
     "output_type": "display_data"
    },
    {
     "name": "stdout",
     "output_type": "stream",
     "text": [
      "MSE\n",
      "0.326001514190773\n"
     ]
    }
   ],
   "source": [
    "ABC_GAN1_metrics=ABC_train_test2.test_generator(gen,test_data,prior_model,variance,bias,\"1\",device)\n",
    "sb.glue(\"ABC_GAN_1 Metrics\",ABC_GAN1_metrics)\n",
    "\n",
    "print(\"MSE\")\n",
    "print(mean(ABC_GAN1_metrics[0]))"
   ]
  },
  {
   "cell_type": "code",
   "execution_count": 14,
   "id": "eb22ce5c",
   "metadata": {
    "execution": {
     "iopub.execute_input": "2022-06-22T16:09:15.442616Z",
     "iopub.status.busy": "2022-06-22T16:09:15.441662Z",
     "iopub.status.idle": "2022-06-22T16:09:16.614154Z",
     "shell.execute_reply": "2022-06-22T16:09:16.614700Z"
    },
    "papermill": {
     "duration": 1.230981,
     "end_time": "2022-06-22T16:09:16.615011",
     "exception": false,
     "start_time": "2022-06-22T16:09:15.384030",
     "status": "completed"
    },
    "tags": []
   },
   "outputs": [
    {
     "data": {
      "image/png": "[encoded data removed]",
      "text/plain": [
       "<Figure size 432x288 with 1 Axes>"
      ]
     },
     "metadata": {
      "needs_background": "light"
     },
     "output_type": "display_data"
    },
    {
     "data": {
      "image/png": "[encoded data removed]",
      "text/plain": [
       "<Figure size 432x288 with 1 Axes>"
      ]
     },
     "metadata": {
      "needs_background": "light"
     },
     "output_type": "display_data"
    },
    {
     "data": {
      "image/png": "[encoded data removed]",
      "text/plain": [
       "<Figure size 432x288 with 1 Axes>"
      ]
     },
     "metadata": {
      "needs_background": "light"
     },
     "output_type": "display_data"
    },
    {
     "data": {
      "image/png": "[encoded data removed]",
      "text/plain": [
       "<Figure size 432x288 with 1 Axes>"
      ]
     },
     "metadata": {
      "needs_background": "light"
     },
     "output_type": "display_data"
    }
   ],
   "source": [
    "sanityChecks.discProbVsError(train_data,disc,device)\n",
    "sanityChecks.discProbVsError(test_data,disc,device)"
   ]
  },
  {
   "cell_type": "markdown",
   "id": "130f3a4d",
   "metadata": {
    "id": "130f3a4d",
    "papermill": {
     "duration": 0.082054,
     "end_time": "2022-06-22T16:09:16.753395",
     "exception": false,
     "start_time": "2022-06-22T16:09:16.671341",
     "status": "completed"
    },
    "tags": []
   },
   "source": [
    "# ABC - GAN Model with skip connection"
   ]
  },
  {
   "cell_type": "code",
   "execution_count": 15,
   "id": "4e43dad1",
   "metadata": {
    "execution": {
     "iopub.execute_input": "2022-06-22T16:09:16.864663Z",
     "iopub.status.busy": "2022-06-22T16:09:16.863764Z",
     "iopub.status.idle": "2022-06-22T16:09:16.868989Z",
     "shell.execute_reply": "2022-06-22T16:09:16.869558Z"
    },
    "id": "4e43dad1",
    "papermill": {
     "duration": 0.071326,
     "end_time": "2022-06-22T16:09:16.869783",
     "exception": false,
     "start_time": "2022-06-22T16:09:16.798457",
     "status": "completed"
    },
    "tags": []
   },
   "outputs": [],
   "source": [
    "#Generator\n",
    "gen3 = network.GeneratorWithSkipConnection(n_features+1).to(device)\n",
    "constraints=network.weightConstraint()\n",
    "#Discriminator \n",
    "disc3 = network.Discriminator(n_features+1).to(device)\n",
    "\n",
    "criterion = torch.nn.BCELoss()\n",
    "gen_opt = torch.optim.Adam(gen3.parameters(), lr=0.001, betas=(0.5, 0.999))\n",
    "disc_opt = torch.optim.Adam(disc3.parameters(), lr=0.001, betas=(0.5, 0.999))\n"
   ]
  },
  {
   "cell_type": "code",
   "execution_count": 16,
   "id": "26acbc37",
   "metadata": {
    "execution": {
     "iopub.execute_input": "2022-06-22T16:09:17.204240Z",
     "iopub.status.busy": "2022-06-22T16:09:17.193712Z",
     "iopub.status.idle": "2022-06-22T16:11:03.671403Z",
     "shell.execute_reply": "2022-06-22T16:11:03.672033Z"
    },
    "id": "26acbc37",
    "papermill": {
     "duration": 106.756042,
     "end_time": "2022-06-22T16:11:03.672313",
     "exception": false,
     "start_time": "2022-06-22T16:09:16.916271",
     "status": "completed"
    },
    "tags": []
   },
   "outputs": [
    {
     "data": {
      "image/png": "[encoded data removed]",
      "text/plain": [
       "<Figure size 432x288 with 1 Axes>"
      ]
     },
     "metadata": {
      "needs_background": "light"
     },
     "output_type": "display_data"
    },
    {
     "data": {
      "image/png": "[encoded data removed]",
      "text/plain": [
       "<Figure size 432x288 with 1 Axes>"
      ]
     },
     "metadata": {
      "needs_background": "light"
     },
     "output_type": "display_data"
    }
   ],
   "source": [
    "ABC_train_test2.training_GAN_skip_connection(disc3,gen3,disc_opt,gen_opt,train_data,batch_size,n_epochs,criterion,prior_model,variance,bias,device)"
   ]
  },
  {
   "cell_type": "code",
   "execution_count": 17,
   "id": "c5e0717b",
   "metadata": {
    "execution": {
     "iopub.execute_input": "2022-06-22T16:11:03.788234Z",
     "iopub.status.busy": "2022-06-22T16:11:03.787348Z",
     "iopub.status.idle": "2022-06-22T16:11:04.889851Z",
     "shell.execute_reply": "2022-06-22T16:11:04.890409Z"
    },
    "id": "c5e0717b",
    "papermill": {
     "duration": 1.16919,
     "end_time": "2022-06-22T16:11:04.890644",
     "exception": false,
     "start_time": "2022-06-22T16:11:03.721454",
     "status": "completed"
    },
    "tags": []
   },
   "outputs": [
    {
     "data": {
      "application/scrapbook.scrap.json+json": {
       "data": 0.18952457214234442,
       "encoder": "json",
       "name": "ABC-GAN Model 3 MSE",
       "version": 1
      }
     },
     "metadata": {
      "scrapbook": {
       "data": true,
       "display": false,
       "name": "ABC-GAN Model 3 MSE"
      }
     },
     "output_type": "display_data"
    },
    {
     "data": {
      "application/scrapbook.scrap.json+json": {
       "data": 0.3738844590801746,
       "encoder": "json",
       "name": "ABC-GAN Model 3 MAE",
       "version": 1
      }
     },
     "metadata": {
      "scrapbook": {
       "data": true,
       "display": false,
       "name": "ABC-GAN Model 3 MAE"
      }
     },
     "output_type": "display_data"
    },
    {
     "data": {
      "application/scrapbook.scrap.json+json": {
       "data": 7.477689181603491,
       "encoder": "json",
       "name": "ABC-GAN Model 3 Manhattan Distance",
       "version": 1
      }
     },
     "metadata": {
      "scrapbook": {
       "data": true,
       "display": false,
       "name": "ABC-GAN Model 3 Manhattan Distance"
      }
     },
     "output_type": "display_data"
    },
    {
     "data": {
      "application/scrapbook.scrap.json+json": {
       "data": 1.9450077479112766,
       "encoder": "json",
       "name": "ABC-GAN Model 3 Euclidean distance",
       "version": 1
      }
     },
     "metadata": {
      "scrapbook": {
       "data": true,
       "display": false,
       "name": "ABC-GAN Model 3 Euclidean distance"
      }
     },
     "output_type": "display_data"
    },
    {
     "data": {
      "application/scrapbook.scrap.json+json": {
       "data": [
        [
         0.19580568702257853,
         0.21413976002906115,
         0.18240860159639594,
         0.15058970013219675,
         0.21572035859226024,
         0.19104266763212144,
         0.20426165105122734,
         0.19394109062351644,
         0.18274796894229756,
         0.19192625269325175,
         0.19057751194470168,
         0.21574801864497845,
         0.21739253008810003,
         0.17839857763304273,
         0.1805897662732466,
         0.18441821745373066,
         0.20829059254201968,
         0.1934137002558149,
         0.20225110108495392,
         0.2007185535754231,
         0.19800095737439188,
         0.17880896590715872,
         0.2048156413235171,
         0.17646782594138827,
         0.2277021787744627,
         0.20195967706404566,
         0.18362685333574408,
         0.1958230380126305,
         0.17818188714429528,
         0.20425492480452215,
         0.1791568167766163,
         0.19548863881560755,
         0.211799449701,
         0.1871063424932536,
         0.1943239490110856,
         0.1722948682585669,
         0.15784775550127175,
         0.1771187012611807,
         0.1933015790590808,
         0.1943919103740434,
         0.18062019237751947,
         0.18861100646396536,
         0.16757091691452017,
         0.1896637314407891,
         0.1496854912405639,
         0.1906983803280263,
         0.16814434488022795,
         0.1673417719418682,
         0.16592499034953223,
         0.19464384212293187,
         0.18754159220441738,
         0.19769109287919165,
         0.17932397000682151,
         0.19597521038404042,
         0.16496211452653797,
         0.17590269352635102,
         0.1857195371808412,
         0.19543752479144438,
         0.1939164636234952,
         0.18681201585240553,
         0.18205751088058544,
         0.17107937698726364,
         0.18103254912646,
         0.18363154866457904,
         0.18180338683134814,
         0.17462615398047107,
         0.19118576184825858,
         0.18830210219692772,
         0.21622022894416001,
         0.22652725740967253,
         0.1886003114249326,
         0.20716876358630137,
         0.2121642275496723,
         0.16624775949718318,
         0.18619787852008965,
         0.1695774597367345,
         0.16455166567170926,
         0.18830383163539652,
         0.16376291924011607,
         0.20570982654156295,
         0.1897102906523488,
         0.19922619145976325,
         0.16564366246965917,
         0.19093363268681332,
         0.18173718607735187,
         0.20373539375425387,
         0.19221832565930302,
         0.18086539569649088,
         0.21619469803610522,
         0.23483059918727375,
         0.2276253928802471,
         0.1938319103428924,
         0.2129655640551522,
         0.18848379337544433,
         0.1823168084614059,
         0.1717095317449513,
         0.16175814223448048,
         0.19447499045048314,
         0.19217101121815544,
         0.1902330217381702
        ],
        [
         0.3773265365511179,
         0.4011607117950916,
         0.36696280017495153,
         0.3281484518200159,
         0.39576417692005633,
         0.3711342507973313,
         0.3893533006310463,
         0.3834552066400647,
         0.37027585580945016,
         0.3774843206629157,
         0.37666212432086466,
         0.40732122827321293,
         0.3861126661300659,
         0.3709863655269146,
         0.37063787169754503,
         0.358686750754714,
         0.3791581574827433,
         0.38123142793774606,
         0.39186362102627753,
         0.3958825644105673,
         0.385479336977005,
         0.3681471813470125,
         0.3734990295022726,
         0.37022627890110016,
         0.4070310454815626,
         0.37710906770080327,
         0.3676998734474182,
         0.3795931381173432,
         0.36444348730146886,
         0.38663815930485723,
         0.372216946259141,
         0.37650652751326563,
         0.3854223219677806,
         0.37189541272819043,
         0.37798441797494886,
         0.3560635019093752,
         0.34841418601572516,
         0.36242309100925924,
         0.37990092430263755,
         0.3809173433110118,
         0.3699567850679159,
         0.3851619865745306,
         0.35659116245806216,
         0.37378750964999197,
         0.33691786099225285,
         0.3598141077905893,
         0.3647803345695138,
         0.35212076976895335,
         0.3612934896722436,
         0.38250986598432063,
         0.3740282792598009,
         0.37780760787427425,
         0.37535089775919916,
         0.3911947064101696,
         0.34860170260071754,
         0.372192794829607,
         0.3679788812994957,
         0.36174639090895655,
         0.387616740167141,
         0.3732511831447482,
         0.36406447626650335,
         0.35844000801444054,
         0.37266386710107324,
         0.3745700839906931,
         0.36858748756349086,
         0.35968766249716283,
         0.37013803981244564,
         0.3792447905987501,
         0.3895788751542568,
         0.388006853684783,
         0.37317281886935233,
         0.3893360273912549,
         0.39740314744412897,
         0.3524199009872973,
         0.3747766796499491,
         0.34978448078036306,
         0.35023713372647763,
         0.3779287043958902,
         0.3487397588789463,
         0.3733117450028658,
         0.3710856571793556,
         0.38580384068191054,
         0.34504040852189066,
         0.37673225346952677,
         0.3772474531084299,
         0.3747465141117573,
         0.38281442020088435,
         0.3649587880820036,
         0.39200164191424847,
         0.4175252102315426,
         0.40075591364875435,
         0.3761680720373988,
         0.3841281410306692,
         0.37947890497744086,
         0.36043839901685715,
         0.3595151608809829,
         0.3524982132017612,
         0.372763363737613,
         0.37363032549619674,
         0.38509796746075153
        ],
        [
         7.546530731022358,
         8.023214235901833,
         7.339256003499031,
         6.562969036400318,
         7.915283538401127,
         7.422685015946627,
         7.787066012620926,
         7.669104132801294,
         7.405517116189003,
         7.549686413258314,
         7.5332424864172935,
         8.146424565464258,
         7.722253322601318,
         7.419727310538292,
         7.412757433950901,
         7.17373501509428,
         7.583163149654865,
         7.624628558754921,
         7.837272420525551,
         7.917651288211346,
         7.7095867395401,
         7.36294362694025,
         7.469980590045452,
         7.404525578022003,
         8.140620909631252,
         7.542181354016066,
         7.353997468948364,
         7.591862762346864,
         7.288869746029377,
         7.732763186097145,
         7.444338925182819,
         7.530130550265312,
         7.708446439355612,
         7.437908254563808,
         7.559688359498978,
         7.121270038187504,
         6.968283720314503,
         7.2484618201851845,
         7.5980184860527515,
         7.618346866220236,
         7.399135701358318,
         7.703239731490612,
         7.131823249161243,
         7.47575019299984,
         6.7383572198450565,
         7.196282155811787,
         7.295606691390276,
         7.0424153953790665,
         7.225869793444872,
         7.650197319686413,
         7.480565585196018,
         7.556152157485485,
         7.507017955183983,
         7.823894128203392,
         6.972034052014351,
         7.44385589659214,
         7.359577625989914,
         7.2349278181791306,
         7.752334803342819,
         7.465023662894964,
         7.281289525330067,
         7.168800160288811,
         7.453277342021465,
         7.491401679813862,
         7.371749751269817,
         7.193753249943256,
         7.402760796248913,
         7.584895811975002,
         7.791577503085136,
         7.76013707369566,
         7.463456377387047,
         7.786720547825098,
         7.94806294888258,
         7.048398019745946,
         7.4955335929989815,
         6.995689615607262,
         7.0047426745295525,
         7.558574087917805,
         6.974795177578926,
         7.466234900057316,
         7.421713143587112,
         7.71607681363821,
         6.900808170437813,
         7.534645069390535,
         7.544949062168598,
         7.494930282235146,
         7.656288404017687,
         7.299175761640072,
         7.840032838284969,
         8.350504204630852,
         8.015118272975087,
         7.523361440747976,
         7.682562820613384,
         7.589578099548817,
         7.208767980337143,
         7.1903032176196575,
         7.049964264035225,
         7.455267274752259,
         7.472606509923935,
         7.701959349215031
        ],
        [
         1.9789173152134403,
         2.06949153189406,
         1.910018856432553,
         1.7354521032410934,
         2.0771151079911783,
         1.9547003229759872,
         2.021195938305969,
         1.9694724706048392,
         1.9117948056331648,
         1.9592154179326569,
         1.9523191949304892,
         2.0772482694419483,
         2.0851500190063064,
         1.8889075024100188,
         1.9004723953440976,
         1.9205114811098143,
         2.0410320553191696,
         1.9667928221132744,
         2.0112240108200474,
         2.003589546665799,
         1.9899796851947604,
         1.8910788767640483,
         2.0239349857320867,
         1.8786581697657947,
         2.1340205189944292,
         2.009774500107142,
         1.9163864606897223,
         1.9790049924779396,
         1.8877599802109126,
         2.021162659483507,
         1.8929174138171814,
         1.9773145365146514,
         2.0581518393986387,
         1.9344577663689306,
         1.9714154763067353,
         1.856312841406679,
         1.7767822348350502,
         1.8821195565700959,
         1.9662226682605448,
         1.971760180011978,
         1.9006324861872663,
         1.9422204121261075,
         1.8306879412642678,
         1.9476330837238778,
         1.7302340375831469,
         1.9529381983464111,
         1.8338175747888772,
         1.8294358252853156,
         1.821675000374832,
         1.973037466055482,
         1.9367064424141176,
         1.9884219515947394,
         1.8938002534946579,
         1.9797737768949282,
         1.8163816478182,
         1.8756475869755012,
         1.9272754716482083,
         1.9770560173725196,
         1.9693474229982642,
         1.9329356732825103,
         1.9081798179447629,
         1.8497533726811453,
         1.902800825764273,
         1.916410961482839,
         1.9068475913472904,
         1.8688293339974684,
         1.955432237886338,
         1.940629290704063,
         2.0795202761413987,
         2.1285077280088625,
         1.9421653453037029,
         2.0355282537282617,
         2.059923433284219,
         1.8234459657318238,
         1.9297558318092454,
         1.8416159194399602,
         1.814120534428235,
         1.9406382024241227,
         1.809767494680552,
         2.0283482272113087,
         1.9478721244083184,
         1.9961272076687058,
         1.8201300089260612,
         1.9541424343522829,
         1.906500385928898,
         2.0185905664807504,
         1.9607056161458967,
         1.9019221629524738,
         2.0793974994507676,
         2.167166810318365,
         2.133660670679605,
         1.9689180294917938,
         2.0638098946131267,
         1.9415653137375746,
         1.90953820837084,
         1.8531569374715746,
         1.7986558438705305,
         1.972181484805509,
         1.9604642879591325,
         1.950553878969613
        ]
       ],
       "encoder": "json",
       "name": "ABC_GAN_3 Metrics",
       "version": 1
      }
     },
     "metadata": {
      "scrapbook": {
       "data": true,
       "display": false,
       "name": "ABC_GAN_3 Metrics"
      }
     },
     "output_type": "display_data"
    },
    {
     "name": "stdout",
     "output_type": "stream",
     "text": [
      "MSE\n",
      "0.18952457214234442\n"
     ]
    }
   ],
   "source": [
    "ABC_GAN3_metrics=ABC_train_test2.test_generator(gen3,test_data,prior_model,variance,bias,\"3\",device)\n",
    "sb.glue(\"ABC_GAN_3 Metrics\",ABC_GAN3_metrics)\n",
    "\n",
    "print(\"MSE\")\n",
    "print(mean(ABC_GAN3_metrics[0]))"
   ]
  },
  {
   "cell_type": "code",
   "execution_count": 18,
   "id": "c8e46b48",
   "metadata": {
    "execution": {
     "iopub.execute_input": "2022-06-22T16:11:05.028089Z",
     "iopub.status.busy": "2022-06-22T16:11:05.027135Z",
     "iopub.status.idle": "2022-06-22T16:11:05.988272Z",
     "shell.execute_reply": "2022-06-22T16:11:05.988907Z"
    },
    "id": "c8e46b48",
    "papermill": {
     "duration": 1.050334,
     "end_time": "2022-06-22T16:11:05.989147",
     "exception": false,
     "start_time": "2022-06-22T16:11:04.938813",
     "status": "completed"
    },
    "tags": []
   },
   "outputs": [
    {
     "data": {
      "image/png": "[encoded data removed]",
      "text/plain": [
       "<Figure size 432x288 with 1 Axes>"
      ]
     },
     "metadata": {
      "needs_background": "light"
     },
     "output_type": "display_data"
    },
    {
     "data": {
      "image/png": "[encoded data removed]",
      "text/plain": [
       "<Figure size 432x288 with 1 Axes>"
      ]
     },
     "metadata": {
      "needs_background": "light"
     },
     "output_type": "display_data"
    },
    {
     "data": {
      "image/png": "[encoded data removed]",
      "text/plain": [
       "<Figure size 432x288 with 1 Axes>"
      ]
     },
     "metadata": {
      "needs_background": "light"
     },
     "output_type": "display_data"
    },
    {
     "data": {
      "image/png": "[encoded data removed]",
      "text/plain": [
       "<Figure size 432x288 with 1 Axes>"
      ]
     },
     "metadata": {
      "needs_background": "light"
     },
     "output_type": "display_data"
    }
   ],
   "source": [
    "sanityChecks.discProbVsError(train_data,disc3,device)\n",
    "sanityChecks.discProbVsError(test_data,disc3,device)"
   ]
  },
  {
   "cell_type": "markdown",
   "id": "a5bd74c3",
   "metadata": {
    "id": "a5bd74c3",
    "papermill": {
     "duration": 0.063741,
     "end_time": "2022-06-22T16:11:06.115272",
     "exception": false,
     "start_time": "2022-06-22T16:11:06.051531",
     "status": "completed"
    },
    "tags": []
   },
   "source": [
    "## Skip Connection Model Analysis - ABC-GAN "
   ]
  },
  {
   "cell_type": "markdown",
   "id": "5744a8bf",
   "metadata": {
    "id": "5744a8bf",
    "papermill": {
     "duration": 0.082784,
     "end_time": "2022-06-22T16:11:06.263933",
     "exception": false,
     "start_time": "2022-06-22T16:11:06.181149",
     "status": "completed"
    },
    "tags": []
   },
   "source": [
    "### Weight Analysis \n",
    "\n",
    "Study the weights of the skip connection layer\n",
    "\n",
    "Equation of the skip connection is \n",
    "\n",
    "$output = y_{gan} * w + y_{abc} * (1-w)$"
   ]
  },
  {
   "cell_type": "code",
   "execution_count": 19,
   "id": "52c31dea",
   "metadata": {
    "execution": {
     "iopub.execute_input": "2022-06-22T16:11:06.408709Z",
     "iopub.status.busy": "2022-06-22T16:11:06.407925Z",
     "iopub.status.idle": "2022-06-22T16:11:06.427989Z",
     "shell.execute_reply": "2022-06-22T16:11:06.427256Z"
    },
    "id": "52c31dea",
    "papermill": {
     "duration": 0.103206,
     "end_time": "2022-06-22T16:11:06.428227",
     "exception": false,
     "start_time": "2022-06-22T16:11:06.325021",
     "status": "completed"
    },
    "tags": []
   },
   "outputs": [
    {
     "name": "stdout",
     "output_type": "stream",
     "text": [
      "Weight of the node at skip connection\n",
      "Parameter containing:\n",
      "tensor([[0.2011]], requires_grad=True)\n"
     ]
    },
    {
     "data": {
      "application/scrapbook.scrap.json+json": {
       "data": 0.201100692152977,
       "encoder": "json",
       "name": "Skip Connection Weight",
       "version": 1
      }
     },
     "metadata": {
      "scrapbook": {
       "data": true,
       "display": false,
       "name": "Skip Connection Weight"
      }
     },
     "output_type": "display_data"
    }
   ],
   "source": [
    "print(\"Weight of the node at skip connection\")\n",
    "for name,param in gen3.named_parameters():\n",
    "    if(name == \"skipNode.weight\"):\n",
    "        print(param)\n",
    "        sb.glue(\"Skip Connection Weight\",param.item())"
   ]
  }
 ],
 "metadata": {
  "colab": {
   "collapsed_sections": [],
   "name": "ABC_GAN_Model-Catboost_Pre-gen.ipynb",
   "provenance": []
  },
  "interpreter": {
   "hash": "31f2aee4e71d21fbe5cf8b01ff0e069b9275f58929596ceb00d14d90e3e16cd6"
  },
  "kernelspec": {
   "display_name": "Python 3 (ipykernel)",
   "language": "python",
   "name": "python3"
  },
  "language_info": {
   "codemirror_mode": {
    "name": "ipython",
    "version": 3
   },
   "file_extension": ".py",
   "mimetype": "text/x-python",
   "name": "python",
   "nbconvert_exporter": "python",
   "pygments_lexer": "ipython3",
   "version": "3.8.3"
  },
  "papermill": {
   "default_parameters": {},
   "duration": 217.945557,
   "end_time": "2022-06-22T16:11:07.846550",
   "environment_variables": {},
   "exception": null,
   "input_path": "ABC_GAN-TabNet.ipynb",
   "output_path": "./ABC_GAN_TabNet/ABC-GAN_output_9_4.ipynb",
   "parameters": {
    "bias": 0.1,
    "variance": 0.1
   },
   "start_time": "2022-06-22T16:07:29.900993",
   "version": "2.3.3"
  }
 },
 "nbformat": 4,
 "nbformat_minor": 5
}