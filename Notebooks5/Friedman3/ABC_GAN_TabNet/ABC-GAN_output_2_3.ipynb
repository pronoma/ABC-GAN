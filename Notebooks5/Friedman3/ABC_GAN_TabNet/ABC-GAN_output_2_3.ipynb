{
 "cells": [
  {
   "cell_type": "markdown",
   "id": "622780e6",
   "metadata": {
    "id": "622780e6",
    "papermill": {
     "duration": 0.024981,
     "end_time": "2022-06-22T12:03:04.190331",
     "exception": false,
     "start_time": "2022-06-22T12:03:04.165350",
     "status": "completed"
    },
    "tags": []
   },
   "source": [
    "## Import Libraries "
   ]
  },
  {
   "cell_type": "code",
   "execution_count": 1,
   "id": "a62397e3",
   "metadata": {
    "execution": {
     "iopub.execute_input": "2022-06-22T12:03:04.248544Z",
     "iopub.status.busy": "2022-06-22T12:03:04.246745Z",
     "iopub.status.idle": "2022-06-22T12:03:04.252815Z",
     "shell.execute_reply": "2022-06-22T12:03:04.253846Z"
    },
    "id": "a62397e3",
    "papermill": {
     "duration": 0.044969,
     "end_time": "2022-06-22T12:03:04.254312",
     "exception": false,
     "start_time": "2022-06-22T12:03:04.209343",
     "status": "completed"
    },
    "tags": []
   },
   "outputs": [],
   "source": [
    "import warnings\n",
    "import sys\n",
    "sys.path.insert(0, '../../src')\n",
    "warnings.filterwarnings('ignore')"
   ]
  },
  {
   "cell_type": "code",
   "execution_count": 2,
   "id": "d6a4e155",
   "metadata": {
    "execution": {
     "iopub.execute_input": "2022-06-22T12:03:04.308016Z",
     "iopub.status.busy": "2022-06-22T12:03:04.302418Z",
     "iopub.status.idle": "2022-06-22T12:03:10.944560Z",
     "shell.execute_reply": "2022-06-22T12:03:10.945089Z"
    },
    "id": "d6a4e155",
    "papermill": {
     "duration": 6.671508,
     "end_time": "2022-06-22T12:03:10.945343",
     "exception": false,
     "start_time": "2022-06-22T12:03:04.273835",
     "status": "completed"
    },
    "tags": []
   },
   "outputs": [],
   "source": [
    "import ABC_train_test2\n",
    "import friedman3Dataset\n",
    "import network\n",
    "import dataset\n",
    "import sanityChecks\n",
    "import torch \n",
    "import scrapbook as sb\n",
    "from statistics import mean \n",
    "import catboost as ctb \n",
    "from sklearn.model_selection import train_test_split\n",
    "from sklearn.metrics import mean_squared_error,mean_absolute_error\n",
    "import numpy as np\n",
    "from pytorch_tabnet.tab_model import TabNetRegressor"
   ]
  },
  {
   "cell_type": "markdown",
   "id": "2fa5b0f7",
   "metadata": {
    "id": "2fa5b0f7",
    "papermill": {
     "duration": 0.019506,
     "end_time": "2022-06-22T12:03:10.982945",
     "exception": false,
     "start_time": "2022-06-22T12:03:10.963439",
     "status": "completed"
    },
    "tags": []
   },
   "source": [
    "## Parameters "
   ]
  },
  {
   "cell_type": "code",
   "execution_count": 3,
   "id": "783186fb",
   "metadata": {
    "execution": {
     "iopub.execute_input": "2022-06-22T12:03:11.026886Z",
     "iopub.status.busy": "2022-06-22T12:03:11.025721Z",
     "iopub.status.idle": "2022-06-22T12:03:11.029350Z",
     "shell.execute_reply": "2022-06-22T12:03:11.029934Z"
    },
    "id": "783186fb",
    "papermill": {
     "duration": 0.029352,
     "end_time": "2022-06-22T12:03:11.030224",
     "exception": false,
     "start_time": "2022-06-22T12:03:11.000872",
     "status": "completed"
    },
    "tags": [
     "parameters"
    ]
   },
   "outputs": [],
   "source": [
    "variance = 1\n",
    "bias = 1 "
   ]
  },
  {
   "cell_type": "code",
   "execution_count": 4,
   "id": "97f681ef",
   "metadata": {
    "execution": {
     "iopub.execute_input": "2022-06-22T12:03:11.061891Z",
     "iopub.status.busy": "2022-06-22T12:03:11.061128Z",
     "iopub.status.idle": "2022-06-22T12:03:11.063159Z",
     "shell.execute_reply": "2022-06-22T12:03:11.063686Z"
    },
    "papermill": {
     "duration": 0.019504,
     "end_time": "2022-06-22T12:03:11.063901",
     "exception": false,
     "start_time": "2022-06-22T12:03:11.044397",
     "status": "completed"
    },
    "tags": [
     "injected-parameters"
    ]
   },
   "outputs": [],
   "source": [
    "# Parameters\n",
    "variance = 1\n",
    "bias = 0.1\n"
   ]
  },
  {
   "cell_type": "markdown",
   "id": "391cdbfd",
   "metadata": {
    "id": "391cdbfd",
    "papermill": {
     "duration": 0.016741,
     "end_time": "2022-06-22T12:03:11.094466",
     "exception": false,
     "start_time": "2022-06-22T12:03:11.077725",
     "status": "completed"
    },
    "tags": []
   },
   "source": [
    "## Dataset \n"
   ]
  },
  {
   "cell_type": "code",
   "execution_count": 5,
   "id": "5b51f161",
   "metadata": {
    "execution": {
     "iopub.execute_input": "2022-06-22T12:03:11.129269Z",
     "iopub.status.busy": "2022-06-22T12:03:11.128448Z",
     "iopub.status.idle": "2022-06-22T12:03:11.130629Z",
     "shell.execute_reply": "2022-06-22T12:03:11.131116Z"
    },
    "id": "5b51f161",
    "papermill": {
     "duration": 0.020712,
     "end_time": "2022-06-22T12:03:11.131380",
     "exception": false,
     "start_time": "2022-06-22T12:03:11.110668",
     "status": "completed"
    },
    "tags": []
   },
   "outputs": [],
   "source": [
    "#Parameters \n",
    "n_features = 4\n",
    "n_samples= 100\n",
    "n_target = 1"
   ]
  },
  {
   "cell_type": "code",
   "execution_count": 6,
   "id": "5d6eced4",
   "metadata": {
    "execution": {
     "iopub.execute_input": "2022-06-22T12:03:11.163384Z",
     "iopub.status.busy": "2022-06-22T12:03:11.162655Z",
     "iopub.status.idle": "2022-06-22T12:03:11.175645Z",
     "shell.execute_reply": "2022-06-22T12:03:11.176339Z"
    },
    "id": "5d6eced4",
    "papermill": {
     "duration": 0.031499,
     "end_time": "2022-06-22T12:03:11.176612",
     "exception": false,
     "start_time": "2022-06-22T12:03:11.145113",
     "status": "completed"
    },
    "tags": []
   },
   "outputs": [
    {
     "name": "stdout",
     "output_type": "stream",
     "text": [
      "          X1           X2        X3        X4         Y\n",
      "0  90.433161  1231.271576  0.229196  2.366648  1.343608\n",
      "1  24.585379   614.841556  0.063021  9.802082  1.010579\n",
      "2  49.488712  1522.035108  0.142255  1.169683  1.482919\n",
      "3  98.880776  1707.627341  0.373301  5.635162  1.381265\n",
      "4   7.570134   859.671999  0.008307  2.740078  0.813899\n"
     ]
    }
   ],
   "source": [
    "X,Y = friedman3Dataset.friedman3_data(n_samples)"
   ]
  },
  {
   "cell_type": "code",
   "execution_count": 7,
   "id": "fe007438",
   "metadata": {
    "execution": {
     "iopub.execute_input": "2022-06-22T12:03:11.216592Z",
     "iopub.status.busy": "2022-06-22T12:03:11.215702Z",
     "iopub.status.idle": "2022-06-22T12:03:11.219052Z",
     "shell.execute_reply": "2022-06-22T12:03:11.218441Z"
    },
    "id": "fe007438",
    "papermill": {
     "duration": 0.028722,
     "end_time": "2022-06-22T12:03:11.219271",
     "exception": false,
     "start_time": "2022-06-22T12:03:11.190549",
     "status": "completed"
    },
    "tags": []
   },
   "outputs": [],
   "source": [
    "#Train test split for dataset \n",
    "X_train,X_test,Y_train,Y_test = train_test_split(X,Y,test_size = 0.2)\n",
    "train_data = dataset.CustomDataset(X_train,Y_train)\n",
    "test_data = dataset.CustomDataset(X_test,Y_test)\n"
   ]
  },
  {
   "cell_type": "markdown",
   "id": "a9a1af34",
   "metadata": {
    "id": "a9a1af34",
    "papermill": {
     "duration": 0.015751,
     "end_time": "2022-06-22T12:03:11.252564",
     "exception": false,
     "start_time": "2022-06-22T12:03:11.236813",
     "status": "completed"
    },
    "tags": []
   },
   "source": [
    "## Training Parameters "
   ]
  },
  {
   "cell_type": "code",
   "execution_count": 8,
   "id": "952b7fc8",
   "metadata": {
    "execution": {
     "iopub.execute_input": "2022-06-22T12:03:11.283922Z",
     "iopub.status.busy": "2022-06-22T12:03:11.283246Z",
     "iopub.status.idle": "2022-06-22T12:03:11.285199Z",
     "shell.execute_reply": "2022-06-22T12:03:11.285730Z"
    },
    "id": "952b7fc8",
    "papermill": {
     "duration": 0.019755,
     "end_time": "2022-06-22T12:03:11.285956",
     "exception": false,
     "start_time": "2022-06-22T12:03:11.266201",
     "status": "completed"
    },
    "tags": []
   },
   "outputs": [],
   "source": [
    "batch_size = 32\n",
    "n_epochs = 1000\n",
    "#Select the device \n",
    "device = torch.device('cuda' if torch.cuda.is_available() else 'cpu')"
   ]
  },
  {
   "cell_type": "markdown",
   "id": "a95e1600",
   "metadata": {
    "id": "a95e1600",
    "papermill": {
     "duration": 0.015701,
     "end_time": "2022-06-22T12:03:11.315644",
     "exception": false,
     "start_time": "2022-06-22T12:03:11.299943",
     "status": "completed"
    },
    "tags": []
   },
   "source": [
    "# ABC Pre-generator Model \n",
    "\n",
    "1. The catboost model is used as a pre-generator model for the ABC-GAN. \n",
    "2. The model is first trained on the entire dataset \n",
    "3. It generats X,Y pairs and we add some Gaussian noise with mean 0 and variance 1 to it which is then feed as input to the generator.\n"
   ]
  },
  {
   "cell_type": "code",
   "execution_count": 9,
   "id": "ff8ce7bd",
   "metadata": {
    "execution": {
     "iopub.execute_input": "2022-06-22T12:03:11.353288Z",
     "iopub.status.busy": "2022-06-22T12:03:11.352298Z",
     "iopub.status.idle": "2022-06-22T12:03:26.187308Z",
     "shell.execute_reply": "2022-06-22T12:03:26.187960Z"
    },
    "id": "ff8ce7bd",
    "papermill": {
     "duration": 14.856717,
     "end_time": "2022-06-22T12:03:26.188243",
     "exception": false,
     "start_time": "2022-06-22T12:03:11.331526",
     "status": "completed"
    },
    "tags": []
   },
   "outputs": [
    {
     "name": "stdout",
     "output_type": "stream",
     "text": [
      "Device used : cpu\n"
     ]
    },
    {
     "name": "stdout",
     "output_type": "stream",
     "text": [
      "epoch 0  | loss: 1.01807 | train_mse: 11.86507| train_mae: 2.03096 |  0:00:00s\n",
      "epoch 1  | loss: 0.88128 | train_mse: 4.69416 | train_mae: 1.45715 |  0:00:00s\n",
      "epoch 2  | loss: 0.3981  | train_mse: 1.66319 | train_mae: 0.95877 |  0:00:00s\n"
     ]
    },
    {
     "name": "stdout",
     "output_type": "stream",
     "text": [
      "epoch 3  | loss: 0.57976 | train_mse: 2.49227 | train_mae: 1.02535 |  0:00:00s\n",
      "epoch 4  | loss: 0.50674 | train_mse: 1.91026 | train_mae: 0.90954 |  0:00:00s\n",
      "epoch 5  | loss: 0.40567 | train_mse: 1.10365 | train_mae: 0.69921 |  0:00:00s\n",
      "epoch 6  | loss: 0.32675 | train_mse: 0.5347  | train_mae: 0.57533 |  0:00:00s\n"
     ]
    },
    {
     "name": "stdout",
     "output_type": "stream",
     "text": [
      "epoch 7  | loss: 0.53487 | train_mse: 0.42328 | train_mae: 0.5137  |  0:00:00s\n",
      "epoch 8  | loss: 0.32531 | train_mse: 0.61845 | train_mae: 0.58413 |  0:00:00s\n",
      "epoch 9  | loss: 0.38161 | train_mse: 1.41886 | train_mae: 0.78986 |  0:00:00s\n",
      "epoch 10 | loss: 0.52952 | train_mse: 1.07907 | train_mae: 0.72676 |  0:00:00s\n"
     ]
    },
    {
     "name": "stdout",
     "output_type": "stream",
     "text": [
      "epoch 11 | loss: 0.46986 | train_mse: 0.49217 | train_mae: 0.49614 |  0:00:01s\n",
      "epoch 12 | loss: 0.194   | train_mse: 0.36166 | train_mae: 0.38987 |  0:00:01s\n",
      "epoch 13 | loss: 0.34247 | train_mse: 0.23168 | train_mae: 0.34311 |  0:00:01s\n"
     ]
    },
    {
     "name": "stdout",
     "output_type": "stream",
     "text": [
      "epoch 14 | loss: 0.27862 | train_mse: 0.38299 | train_mae: 0.43726 |  0:00:01s\n",
      "epoch 15 | loss: 0.30871 | train_mse: 0.42477 | train_mae: 0.46748 |  0:00:01s\n",
      "epoch 16 | loss: 0.25116 | train_mse: 0.44504 | train_mae: 0.44751 |  0:00:01s\n",
      "epoch 17 | loss: 0.25497 | train_mse: 0.44561 | train_mae: 0.44972 |  0:00:01s\n"
     ]
    },
    {
     "name": "stdout",
     "output_type": "stream",
     "text": [
      "epoch 18 | loss: 0.24413 | train_mse: 0.4061  | train_mae: 0.42973 |  0:00:01s\n",
      "epoch 19 | loss: 0.24555 | train_mse: 0.40236 | train_mae: 0.42189 |  0:00:01s\n",
      "epoch 20 | loss: 0.23573 | train_mse: 0.2867  | train_mae: 0.36317 |  0:00:01s\n",
      "epoch 21 | loss: 0.22165 | train_mse: 0.36123 | train_mae: 0.42887 |  0:00:01s\n"
     ]
    },
    {
     "name": "stdout",
     "output_type": "stream",
     "text": [
      "epoch 22 | loss: 0.36413 | train_mse: 0.25318 | train_mae: 0.3877  |  0:00:01s\n",
      "epoch 23 | loss: 0.28666 | train_mse: 0.21758 | train_mae: 0.34324 |  0:00:01s\n",
      "epoch 24 | loss: 0.15081 | train_mse: 0.25549 | train_mae: 0.34792 |  0:00:01s\n",
      "epoch 25 | loss: 0.17211 | train_mse: 0.29611 | train_mae: 0.38476 |  0:00:01s\n"
     ]
    },
    {
     "name": "stdout",
     "output_type": "stream",
     "text": [
      "epoch 26 | loss: 0.12972 | train_mse: 0.31048 | train_mae: 0.39994 |  0:00:02s\n",
      "epoch 27 | loss: 0.18035 | train_mse: 0.22968 | train_mae: 0.35005 |  0:00:02s\n",
      "epoch 28 | loss: 0.20589 | train_mse: 0.19841 | train_mae: 0.32921 |  0:00:02s\n"
     ]
    },
    {
     "name": "stdout",
     "output_type": "stream",
     "text": [
      "epoch 29 | loss: 0.26051 | train_mse: 0.15167 | train_mae: 0.29569 |  0:00:02s\n",
      "epoch 30 | loss: 0.12946 | train_mse: 0.1428  | train_mae: 0.2932  |  0:00:02s\n",
      "epoch 31 | loss: 0.3209  | train_mse: 0.18074 | train_mae: 0.31267 |  0:00:02s\n"
     ]
    },
    {
     "name": "stdout",
     "output_type": "stream",
     "text": [
      "epoch 32 | loss: 0.22715 | train_mse: 0.12711 | train_mae: 0.27501 |  0:00:02s\n",
      "epoch 33 | loss: 0.25067 | train_mse: 0.10857 | train_mae: 0.25904 |  0:00:02s\n",
      "epoch 34 | loss: 0.15071 | train_mse: 0.14613 | train_mae: 0.29138 |  0:00:02s\n"
     ]
    },
    {
     "name": "stdout",
     "output_type": "stream",
     "text": [
      "epoch 35 | loss: 0.14282 | train_mse: 0.31411 | train_mae: 0.41935 |  0:00:02s\n",
      "epoch 36 | loss: 0.15363 | train_mse: 0.26079 | train_mae: 0.38571 |  0:00:02s\n",
      "epoch 37 | loss: 0.29938 | train_mse: 0.15404 | train_mae: 0.30046 |  0:00:02s\n",
      "epoch 38 | loss: 0.13278 | train_mse: 0.12919 | train_mae: 0.27208 |  0:00:02s\n"
     ]
    },
    {
     "name": "stdout",
     "output_type": "stream",
     "text": [
      "epoch 39 | loss: 0.19394 | train_mse: 0.09915 | train_mae: 0.23406 |  0:00:02s\n",
      "epoch 40 | loss: 0.17839 | train_mse: 0.11828 | train_mae: 0.26427 |  0:00:03s\n",
      "epoch 41 | loss: 0.3152  | train_mse: 0.24533 | train_mae: 0.32872 |  0:00:03s\n"
     ]
    },
    {
     "name": "stdout",
     "output_type": "stream",
     "text": [
      "epoch 42 | loss: 0.18187 | train_mse: 0.25077 | train_mae: 0.32412 |  0:00:03s\n",
      "epoch 43 | loss: 0.34893 | train_mse: 0.27763 | train_mae: 0.35337 |  0:00:03s\n",
      "epoch 44 | loss: 0.16129 | train_mse: 0.2446  | train_mae: 0.32648 |  0:00:03s\n"
     ]
    },
    {
     "name": "stdout",
     "output_type": "stream",
     "text": [
      "epoch 45 | loss: 0.11973 | train_mse: 0.24325 | train_mae: 0.31502 |  0:00:03s\n",
      "epoch 46 | loss: 0.18029 | train_mse: 0.2625  | train_mae: 0.3132  |  0:00:03s\n",
      "epoch 47 | loss: 0.23199 | train_mse: 0.28012 | train_mae: 0.32173 |  0:00:03s\n"
     ]
    },
    {
     "name": "stdout",
     "output_type": "stream",
     "text": [
      "epoch 48 | loss: 0.12425 | train_mse: 0.25589 | train_mae: 0.31348 |  0:00:03s\n",
      "epoch 49 | loss: 0.18775 | train_mse: 0.12539 | train_mae: 0.25867 |  0:00:03s\n",
      "epoch 50 | loss: 0.24843 | train_mse: 0.11001 | train_mae: 0.26724 |  0:00:03s\n"
     ]
    },
    {
     "name": "stdout",
     "output_type": "stream",
     "text": [
      "epoch 51 | loss: 0.14293 | train_mse: 0.11017 | train_mae: 0.25955 |  0:00:03s\n",
      "epoch 52 | loss: 0.35054 | train_mse: 0.08106 | train_mae: 0.2318  |  0:00:03s\n",
      "epoch 53 | loss: 0.11403 | train_mse: 0.08732 | train_mae: 0.24186 |  0:00:04s\n"
     ]
    },
    {
     "name": "stdout",
     "output_type": "stream",
     "text": [
      "epoch 54 | loss: 0.09595 | train_mse: 0.10593 | train_mae: 0.25322 |  0:00:04s\n",
      "epoch 55 | loss: 0.12836 | train_mse: 0.0985  | train_mae: 0.25328 |  0:00:04s\n"
     ]
    },
    {
     "name": "stdout",
     "output_type": "stream",
     "text": [
      "epoch 56 | loss: 0.14357 | train_mse: 0.12047 | train_mae: 0.28937 |  0:00:04s\n",
      "epoch 57 | loss: 0.11068 | train_mse: 0.06491 | train_mae: 0.21816 |  0:00:04s\n",
      "epoch 58 | loss: 0.11032 | train_mse: 0.05969 | train_mae: 0.20201 |  0:00:04s\n"
     ]
    },
    {
     "name": "stdout",
     "output_type": "stream",
     "text": [
      "epoch 59 | loss: 0.11818 | train_mse: 0.06009 | train_mae: 0.19934 |  0:00:04s\n"
     ]
    },
    {
     "name": "stdout",
     "output_type": "stream",
     "text": [
      "epoch 60 | loss: 0.1662  | train_mse: 0.06333 | train_mae: 0.19841 |  0:00:05s\n"
     ]
    },
    {
     "name": "stdout",
     "output_type": "stream",
     "text": [
      "epoch 61 | loss: 0.12324 | train_mse: 0.07085 | train_mae: 0.20042 |  0:00:05s\n",
      "epoch 62 | loss: 0.17907 | train_mse: 0.07291 | train_mae: 0.21031 |  0:00:05s\n",
      "epoch 63 | loss: 0.13575 | train_mse: 0.08518 | train_mae: 0.23127 |  0:00:05s\n"
     ]
    },
    {
     "name": "stdout",
     "output_type": "stream",
     "text": [
      "epoch 64 | loss: 0.13817 | train_mse: 0.08114 | train_mae: 0.21256 |  0:00:05s\n",
      "epoch 65 | loss: 0.14945 | train_mse: 0.08362 | train_mae: 0.21347 |  0:00:05s\n",
      "epoch 66 | loss: 0.17949 | train_mse: 0.10398 | train_mae: 0.24362 |  0:00:05s\n",
      "epoch 67 | loss: 0.07222 | train_mse: 0.09796 | train_mae: 0.23556 |  0:00:05s\n"
     ]
    },
    {
     "name": "stdout",
     "output_type": "stream",
     "text": [
      "epoch 68 | loss: 0.11225 | train_mse: 0.09241 | train_mae: 0.22225 |  0:00:05s\n",
      "epoch 69 | loss: 0.20684 | train_mse: 0.11885 | train_mae: 0.24248 |  0:00:05s\n",
      "epoch 70 | loss: 0.1854  | train_mse: 0.12326 | train_mae: 0.24102 |  0:00:05s\n",
      "epoch 71 | loss: 0.1243  | train_mse: 0.11376 | train_mae: 0.22238 |  0:00:05s\n"
     ]
    },
    {
     "name": "stdout",
     "output_type": "stream",
     "text": [
      "epoch 72 | loss: 0.14682 | train_mse: 0.11236 | train_mae: 0.22352 |  0:00:06s\n",
      "epoch 73 | loss: 0.11885 | train_mse: 0.12256 | train_mae: 0.25319 |  0:00:06s\n",
      "epoch 74 | loss: 0.09124 | train_mse: 0.12841 | train_mae: 0.26222 |  0:00:06s\n"
     ]
    },
    {
     "name": "stdout",
     "output_type": "stream",
     "text": [
      "epoch 75 | loss: 0.17495 | train_mse: 0.14724 | train_mae: 0.2684  |  0:00:06s\n",
      "epoch 76 | loss: 0.10967 | train_mse: 0.1154  | train_mae: 0.24572 |  0:00:06s\n",
      "epoch 77 | loss: 0.11625 | train_mse: 0.0842  | train_mae: 0.21069 |  0:00:06s\n",
      "epoch 78 | loss: 0.11847 | train_mse: 0.0901  | train_mae: 0.22275 |  0:00:06s\n"
     ]
    },
    {
     "name": "stdout",
     "output_type": "stream",
     "text": [
      "epoch 79 | loss: 0.10132 | train_mse: 0.07788 | train_mae: 0.22356 |  0:00:06s\n",
      "epoch 80 | loss: 0.17795 | train_mse: 0.07023 | train_mae: 0.21248 |  0:00:06s\n",
      "epoch 81 | loss: 0.07324 | train_mse: 0.06631 | train_mae: 0.20341 |  0:00:06s\n",
      "epoch 82 | loss: 0.08686 | train_mse: 0.05184 | train_mae: 0.17454 |  0:00:06s\n"
     ]
    },
    {
     "name": "stdout",
     "output_type": "stream",
     "text": [
      "epoch 83 | loss: 0.11033 | train_mse: 0.05589 | train_mae: 0.18371 |  0:00:06s\n",
      "epoch 84 | loss: 0.09207 | train_mse: 0.06757 | train_mae: 0.19991 |  0:00:06s\n",
      "epoch 85 | loss: 0.12363 | train_mse: 0.08611 | train_mae: 0.21533 |  0:00:06s\n",
      "epoch 86 | loss: 0.12553 | train_mse: 0.09677 | train_mae: 0.22928 |  0:00:07s\n"
     ]
    },
    {
     "name": "stdout",
     "output_type": "stream",
     "text": [
      "epoch 87 | loss: 0.07579 | train_mse: 0.09734 | train_mae: 0.23101 |  0:00:07s\n",
      "epoch 88 | loss: 0.15685 | train_mse: 0.11423 | train_mae: 0.2548  |  0:00:07s\n",
      "epoch 89 | loss: 0.11152 | train_mse: 0.07527 | train_mae: 0.21372 |  0:00:07s\n"
     ]
    },
    {
     "name": "stdout",
     "output_type": "stream",
     "text": [
      "epoch 90 | loss: 0.07076 | train_mse: 0.05516 | train_mae: 0.19652 |  0:00:07s\n",
      "epoch 91 | loss: 0.15995 | train_mse: 0.05728 | train_mae: 0.20182 |  0:00:07s\n",
      "epoch 92 | loss: 0.16644 | train_mse: 0.05713 | train_mae: 0.20431 |  0:00:07s\n",
      "epoch 93 | loss: 0.1771  | train_mse: 0.05326 | train_mae: 0.18898 |  0:00:07s\n"
     ]
    },
    {
     "name": "stdout",
     "output_type": "stream",
     "text": [
      "epoch 94 | loss: 0.108   | train_mse: 0.04871 | train_mae: 0.18155 |  0:00:07s\n",
      "epoch 95 | loss: 0.09212 | train_mse: 0.046   | train_mae: 0.17431 |  0:00:07s\n",
      "epoch 96 | loss: 0.07586 | train_mse: 0.04636 | train_mae: 0.1679  |  0:00:07s\n"
     ]
    },
    {
     "name": "stdout",
     "output_type": "stream",
     "text": [
      "epoch 97 | loss: 0.23278 | train_mse: 0.06236 | train_mae: 0.19689 |  0:00:07s\n",
      "epoch 98 | loss: 0.0694  | train_mse: 0.06082 | train_mae: 0.1895  |  0:00:07s\n",
      "epoch 99 | loss: 0.12297 | train_mse: 0.05793 | train_mae: 0.1873  |  0:00:07s\n",
      "epoch 100| loss: 0.0928  | train_mse: 0.04583 | train_mae: 0.18125 |  0:00:07s\n",
      "epoch 101| loss: 0.18155 | train_mse: 0.04916 | train_mae: 0.18528 |  0:00:08s\n"
     ]
    },
    {
     "name": "stdout",
     "output_type": "stream",
     "text": [
      "epoch 102| loss: 0.09818 | train_mse: 0.0536  | train_mae: 0.19181 |  0:00:08s\n",
      "epoch 103| loss: 0.08848 | train_mse: 0.09198 | train_mae: 0.24227 |  0:00:08s\n",
      "epoch 104| loss: 0.08332 | train_mse: 0.08215 | train_mae: 0.21102 |  0:00:08s\n"
     ]
    },
    {
     "name": "stdout",
     "output_type": "stream",
     "text": [
      "epoch 105| loss: 0.06856 | train_mse: 0.07566 | train_mae: 0.20157 |  0:00:08s\n",
      "epoch 106| loss: 0.14586 | train_mse: 0.06231 | train_mae: 0.19955 |  0:00:08s\n",
      "epoch 107| loss: 0.05638 | train_mse: 0.05294 | train_mae: 0.18112 |  0:00:08s\n",
      "epoch 108| loss: 0.0728  | train_mse: 0.0503  | train_mae: 0.17689 |  0:00:08s\n"
     ]
    },
    {
     "name": "stdout",
     "output_type": "stream",
     "text": [
      "epoch 109| loss: 0.17388 | train_mse: 0.05027 | train_mae: 0.17788 |  0:00:08s\n",
      "epoch 110| loss: 0.11407 | train_mse: 0.04617 | train_mae: 0.17303 |  0:00:08s\n",
      "epoch 111| loss: 0.14992 | train_mse: 0.04563 | train_mae: 0.17099 |  0:00:08s\n",
      "epoch 112| loss: 0.08809 | train_mse: 0.04357 | train_mae: 0.16629 |  0:00:08s\n"
     ]
    },
    {
     "name": "stdout",
     "output_type": "stream",
     "text": [
      "epoch 113| loss: 0.061   | train_mse: 0.06642 | train_mae: 0.1965  |  0:00:08s\n",
      "epoch 114| loss: 0.08607 | train_mse: 0.06494 | train_mae: 0.19535 |  0:00:08s\n",
      "epoch 115| loss: 0.16683 | train_mse: 0.05581 | train_mae: 0.18832 |  0:00:08s\n",
      "epoch 116| loss: 0.05982 | train_mse: 0.05783 | train_mae: 0.18977 |  0:00:09s\n"
     ]
    },
    {
     "name": "stdout",
     "output_type": "stream",
     "text": [
      "epoch 117| loss: 0.07653 | train_mse: 0.05484 | train_mae: 0.18432 |  0:00:09s\n",
      "epoch 118| loss: 0.10807 | train_mse: 0.04843 | train_mae: 0.17387 |  0:00:09s\n",
      "epoch 119| loss: 0.10181 | train_mse: 0.04588 | train_mae: 0.1711  |  0:00:09s\n",
      "epoch 120| loss: 0.11916 | train_mse: 0.0591  | train_mae: 0.18968 |  0:00:09s\n"
     ]
    },
    {
     "name": "stdout",
     "output_type": "stream",
     "text": [
      "epoch 121| loss: 0.13841 | train_mse: 0.05646 | train_mae: 0.18334 |  0:00:09s\n",
      "epoch 122| loss: 0.08233 | train_mse: 0.05959 | train_mae: 0.18119 |  0:00:09s\n",
      "epoch 123| loss: 0.19215 | train_mse: 0.05994 | train_mae: 0.18427 |  0:00:09s\n",
      "epoch 124| loss: 0.18616 | train_mse: 0.04574 | train_mae: 0.16632 |  0:00:09s\n"
     ]
    },
    {
     "name": "stdout",
     "output_type": "stream",
     "text": [
      "epoch 125| loss: 0.09151 | train_mse: 0.04063 | train_mae: 0.16    |  0:00:09s\n",
      "epoch 126| loss: 0.17506 | train_mse: 0.04339 | train_mae: 0.16671 |  0:00:09s\n",
      "epoch 127| loss: 0.09315 | train_mse: 0.04265 | train_mae: 0.1622  |  0:00:09s\n",
      "epoch 128| loss: 0.11615 | train_mse: 0.04918 | train_mae: 0.17161 |  0:00:09s\n"
     ]
    },
    {
     "name": "stdout",
     "output_type": "stream",
     "text": [
      "epoch 129| loss: 0.12256 | train_mse: 0.04977 | train_mae: 0.17058 |  0:00:09s\n",
      "epoch 130| loss: 0.06715 | train_mse: 0.04262 | train_mae: 0.16169 |  0:00:09s\n",
      "epoch 131| loss: 0.11187 | train_mse: 0.04058 | train_mae: 0.16182 |  0:00:10s\n",
      "epoch 132| loss: 0.23629 | train_mse: 0.04414 | train_mae: 0.16934 |  0:00:10s\n"
     ]
    },
    {
     "name": "stdout",
     "output_type": "stream",
     "text": [
      "epoch 133| loss: 0.12373 | train_mse: 0.03884 | train_mae: 0.15593 |  0:00:10s\n",
      "epoch 134| loss: 0.06792 | train_mse: 0.0425  | train_mae: 0.16296 |  0:00:10s\n",
      "epoch 135| loss: 0.05336 | train_mse: 0.04499 | train_mae: 0.17368 |  0:00:10s\n",
      "epoch 136| loss: 0.10375 | train_mse: 0.04197 | train_mae: 0.16698 |  0:00:10s\n"
     ]
    },
    {
     "name": "stdout",
     "output_type": "stream",
     "text": [
      "epoch 137| loss: 0.07027 | train_mse: 0.04935 | train_mae: 0.18029 |  0:00:10s\n",
      "epoch 138| loss: 0.09779 | train_mse: 0.03936 | train_mae: 0.15787 |  0:00:10s\n",
      "epoch 139| loss: 0.07689 | train_mse: 0.04089 | train_mae: 0.15821 |  0:00:10s\n"
     ]
    },
    {
     "name": "stdout",
     "output_type": "stream",
     "text": [
      "epoch 140| loss: 0.07816 | train_mse: 0.0479  | train_mae: 0.17304 |  0:00:10s\n",
      "epoch 141| loss: 0.06889 | train_mse: 0.03943 | train_mae: 0.16144 |  0:00:10s\n",
      "epoch 142| loss: 0.05732 | train_mse: 0.04326 | train_mae: 0.16483 |  0:00:10s\n",
      "epoch 143| loss: 0.094   | train_mse: 0.04442 | train_mae: 0.16992 |  0:00:10s\n"
     ]
    },
    {
     "name": "stdout",
     "output_type": "stream",
     "text": [
      "epoch 144| loss: 0.08213 | train_mse: 0.04497 | train_mae: 0.16973 |  0:00:10s\n",
      "epoch 145| loss: 0.06396 | train_mse: 0.04414 | train_mae: 0.16473 |  0:00:11s\n",
      "epoch 146| loss: 0.23069 | train_mse: 0.0457  | train_mae: 0.16622 |  0:00:11s\n"
     ]
    },
    {
     "name": "stdout",
     "output_type": "stream",
     "text": [
      "epoch 147| loss: 0.0967  | train_mse: 0.04653 | train_mae: 0.17593 |  0:00:11s\n",
      "epoch 148| loss: 0.08929 | train_mse: 0.04507 | train_mae: 0.16986 |  0:00:11s\n"
     ]
    },
    {
     "name": "stdout",
     "output_type": "stream",
     "text": [
      "epoch 149| loss: 0.16666 | train_mse: 0.03693 | train_mae: 0.14942 |  0:00:11s\n",
      "epoch 150| loss: 0.07896 | train_mse: 0.05649 | train_mae: 0.18365 |  0:00:11s\n",
      "epoch 151| loss: 0.17662 | train_mse: 0.05331 | train_mae: 0.17844 |  0:00:11s\n"
     ]
    },
    {
     "name": "stdout",
     "output_type": "stream",
     "text": [
      "epoch 152| loss: 0.09056 | train_mse: 0.05897 | train_mae: 0.18637 |  0:00:11s\n",
      "epoch 153| loss: 0.10203 | train_mse: 0.06765 | train_mae: 0.19289 |  0:00:11s\n",
      "epoch 154| loss: 0.08893 | train_mse: 0.07127 | train_mae: 0.1944  |  0:00:11s\n",
      "epoch 155| loss: 0.06422 | train_mse: 0.07727 | train_mae: 0.19608 |  0:00:11s\n"
     ]
    },
    {
     "name": "stdout",
     "output_type": "stream",
     "text": [
      "epoch 156| loss: 0.08404 | train_mse: 0.10006 | train_mae: 0.21115 |  0:00:11s\n",
      "epoch 157| loss: 0.15537 | train_mse: 0.06394 | train_mae: 0.19488 |  0:00:11s\n",
      "epoch 158| loss: 0.09358 | train_mse: 0.06302 | train_mae: 0.19498 |  0:00:12s\n",
      "epoch 159| loss: 0.31032 | train_mse: 0.0699  | train_mae: 0.20364 |  0:00:12s\n"
     ]
    },
    {
     "name": "stdout",
     "output_type": "stream",
     "text": [
      "epoch 160| loss: 0.19513 | train_mse: 0.05082 | train_mae: 0.18241 |  0:00:12s\n",
      "epoch 161| loss: 0.17644 | train_mse: 0.06183 | train_mae: 0.20282 |  0:00:12s\n",
      "epoch 162| loss: 0.09595 | train_mse: 0.05467 | train_mae: 0.18698 |  0:00:12s\n",
      "epoch 163| loss: 0.09697 | train_mse: 0.04737 | train_mae: 0.16599 |  0:00:12s\n"
     ]
    },
    {
     "name": "stdout",
     "output_type": "stream",
     "text": [
      "epoch 164| loss: 0.1141  | train_mse: 0.04545 | train_mae: 0.16442 |  0:00:12s\n",
      "epoch 165| loss: 0.32524 | train_mse: 0.04908 | train_mae: 0.16348 |  0:00:12s\n",
      "epoch 166| loss: 0.0943  | train_mse: 0.05164 | train_mae: 0.18244 |  0:00:12s\n",
      "epoch 167| loss: 0.08429 | train_mse: 0.04674 | train_mae: 0.17959 |  0:00:12s\n"
     ]
    },
    {
     "name": "stdout",
     "output_type": "stream",
     "text": [
      "epoch 168| loss: 0.16326 | train_mse: 0.03832 | train_mae: 0.16147 |  0:00:12s\n",
      "epoch 169| loss: 0.18903 | train_mse: 0.04687 | train_mae: 0.17421 |  0:00:12s\n",
      "epoch 170| loss: 0.21021 | train_mse: 0.05027 | train_mae: 0.18303 |  0:00:12s\n",
      "epoch 171| loss: 0.085   | train_mse: 0.05105 | train_mae: 0.18178 |  0:00:12s\n"
     ]
    },
    {
     "name": "stdout",
     "output_type": "stream",
     "text": [
      "epoch 172| loss: 0.07766 | train_mse: 0.05278 | train_mae: 0.18362 |  0:00:12s\n",
      "epoch 173| loss: 0.18519 | train_mse: 0.08282 | train_mae: 0.21851 |  0:00:13s\n",
      "epoch 174| loss: 0.05553 | train_mse: 0.10048 | train_mae: 0.22916 |  0:00:13s\n"
     ]
    },
    {
     "name": "stdout",
     "output_type": "stream",
     "text": [
      "epoch 175| loss: 0.07548 | train_mse: 0.14129 | train_mae: 0.26166 |  0:00:13s\n",
      "epoch 176| loss: 0.08206 | train_mse: 0.19455 | train_mae: 0.30322 |  0:00:13s\n",
      "epoch 177| loss: 0.0858  | train_mse: 0.31697 | train_mae: 0.36616 |  0:00:13s\n",
      "epoch 178| loss: 0.06297 | train_mse: 0.27811 | train_mae: 0.32483 |  0:00:13s\n"
     ]
    },
    {
     "name": "stdout",
     "output_type": "stream",
     "text": [
      "epoch 179| loss: 0.14839 | train_mse: 0.19213 | train_mae: 0.269   |  0:00:13s\n",
      "epoch 180| loss: 0.08175 | train_mse: 0.18597 | train_mae: 0.29805 |  0:00:13s\n",
      "epoch 181| loss: 0.06001 | train_mse: 0.20967 | train_mae: 0.33815 |  0:00:13s\n",
      "epoch 182| loss: 0.0818  | train_mse: 0.13668 | train_mae: 0.27028 |  0:00:13s\n"
     ]
    },
    {
     "name": "stdout",
     "output_type": "stream",
     "text": [
      "epoch 183| loss: 0.06495 | train_mse: 0.05367 | train_mae: 0.1776  |  0:00:13s\n",
      "epoch 184| loss: 0.07732 | train_mse: 0.04724 | train_mae: 0.17173 |  0:00:13s\n",
      "epoch 185| loss: 0.07602 | train_mse: 0.06531 | train_mae: 0.20248 |  0:00:13s\n",
      "epoch 186| loss: 0.07314 | train_mse: 0.05686 | train_mae: 0.18486 |  0:00:13s\n"
     ]
    },
    {
     "name": "stdout",
     "output_type": "stream",
     "text": [
      "epoch 187| loss: 0.08868 | train_mse: 0.04833 | train_mae: 0.16684 |  0:00:13s\n",
      "epoch 188| loss: 0.04964 | train_mse: 0.04242 | train_mae: 0.1619  |  0:00:14s\n",
      "epoch 189| loss: 0.20781 | train_mse: 0.04517 | train_mae: 0.16747 |  0:00:14s\n"
     ]
    },
    {
     "name": "stdout",
     "output_type": "stream",
     "text": [
      "epoch 190| loss: 0.15749 | train_mse: 0.05386 | train_mae: 0.18068 |  0:00:14s\n",
      "epoch 191| loss: 0.07365 | train_mse: 0.05607 | train_mae: 0.18681 |  0:00:14s\n",
      "epoch 192| loss: 0.10447 | train_mse: 0.05537 | train_mae: 0.18863 |  0:00:14s\n",
      "epoch 193| loss: 0.13988 | train_mse: 0.04116 | train_mae: 0.15477 |  0:00:14s\n"
     ]
    },
    {
     "name": "stdout",
     "output_type": "stream",
     "text": [
      "epoch 194| loss: 0.09022 | train_mse: 0.04732 | train_mae: 0.16308 |  0:00:14s\n",
      "epoch 195| loss: 0.06338 | train_mse: 0.07638 | train_mae: 0.1961  |  0:00:14s\n",
      "epoch 196| loss: 0.10431 | train_mse: 0.06738 | train_mae: 0.18191 |  0:00:14s\n",
      "epoch 197| loss: 0.07446 | train_mse: 0.05549 | train_mae: 0.16181 |  0:00:14s\n"
     ]
    },
    {
     "name": "stdout",
     "output_type": "stream",
     "text": [
      "epoch 198| loss: 0.20673 | train_mse: 0.06662 | train_mae: 0.17411 |  0:00:14s\n",
      "epoch 199| loss: 0.09196 | train_mse: 0.12596 | train_mae: 0.21715 |  0:00:14s\n",
      "\n",
      "Early stopping occurred at epoch 199 with best_epoch = 149 and best_train_mae = 0.14942\n",
      "Best weights from best epoch are automatically used!\n"
     ]
    }
   ],
   "source": [
    "#Train the Model\n",
    "\n",
    "Y_train = np.reshape(Y_train, (-1, 1))\n",
    "Y_test = np.reshape(Y_test, (-1, 1))\n",
    "\n",
    "prior_model = TabNetRegressor(optimizer_fn=torch.optim.Adam, optimizer_params=dict(lr = 0.02),\n",
    "          #scheduler_params={\"step_size\":10, ], \"gamma\":0.9},\n",
    "          #scheduler_fn=torch.optim.lr_scheduler.StepLR\n",
    "          )  #TabNetRegressor()\n",
    "\n",
    "prior_model.fit(X_train,Y_train,eval_set=[(X_train, Y_train)],\n",
    "            eval_name=['train'], \n",
    "            eval_metric=[ 'mse', 'mae'], \n",
    "            max_epochs = n_epochs, \n",
    "            batch_size = batch_size,\n",
    "            patience=50\n",
    "            )"
   ]
  },
  {
   "cell_type": "code",
   "execution_count": 10,
   "id": "af65dcda",
   "metadata": {
    "execution": {
     "iopub.execute_input": "2022-06-22T12:03:26.273814Z",
     "iopub.status.busy": "2022-06-22T12:03:26.271711Z",
     "iopub.status.idle": "2022-06-22T12:03:26.293845Z",
     "shell.execute_reply": "2022-06-22T12:03:26.294373Z"
    },
    "id": "af65dcda",
    "papermill": {
     "duration": 0.074134,
     "end_time": "2022-06-22T12:03:26.294656",
     "exception": false,
     "start_time": "2022-06-22T12:03:26.220522",
     "status": "completed"
    },
    "tags": []
   },
   "outputs": [
    {
     "data": {
      "application/scrapbook.scrap.json+json": {
       "data": 0.1667832127306083,
       "encoder": "json",
       "name": "Prior Model MSE",
       "version": 1
      }
     },
     "metadata": {
      "scrapbook": {
       "data": true,
       "display": false,
       "name": "Prior Model MSE"
      }
     },
     "output_type": "display_data"
    },
    {
     "data": {
      "application/scrapbook.scrap.json+json": {
       "data": 1.2895438069682177,
       "encoder": "json",
       "name": "ABC Pre-generator MSE",
       "version": 1
      }
     },
     "metadata": {
      "scrapbook": {
       "data": true,
       "display": false,
       "name": "ABC Pre-generator MSE"
      }
     },
     "output_type": "display_data"
    },
    {
     "data": {
      "application/scrapbook.scrap.json+json": {
       "data": 0.32465916125099936,
       "encoder": "json",
       "name": "Prior Model MSE",
       "version": 1
      }
     },
     "metadata": {
      "scrapbook": {
       "data": true,
       "display": false,
       "name": "Prior Model MSE"
      }
     },
     "output_type": "display_data"
    },
    {
     "data": {
      "application/scrapbook.scrap.json+json": {
       "data": 0.8730411863995846,
       "encoder": "json",
       "name": "ABC Pre-generator MSE",
       "version": 1
      }
     },
     "metadata": {
      "scrapbook": {
       "data": true,
       "display": false,
       "name": "ABC Pre-generator MSE"
      }
     },
     "output_type": "display_data"
    }
   ],
   "source": [
    "y_pred = prior_model.predict(X_test)\n",
    "y_abc = y_pred + np.random.normal(0,variance, y_pred.shape) + bias \n",
    "mse = mean_squared_error(y_pred,Y_test)\n",
    "sb.glue(\"Prior Model MSE\",mse)\n",
    "mse = mean_squared_error(y_abc,Y_test)\n",
    "sb.glue(\"ABC Pre-generator MSE\",mse)\n",
    "mae = mean_absolute_error(y_pred,Y_test)\n",
    "sb.glue(\"Prior Model MSE\",mae)\n",
    "mae = mean_absolute_error(y_abc,Y_test)\n",
    "sb.glue(\"ABC Pre-generator MSE\",mae)"
   ]
  },
  {
   "cell_type": "markdown",
   "id": "25609da2",
   "metadata": {
    "papermill": {
     "duration": 0.034749,
     "end_time": "2022-06-22T12:03:26.358885",
     "exception": false,
     "start_time": "2022-06-22T12:03:26.324136",
     "status": "completed"
    },
    "tags": []
   },
   "source": [
    "# ABC GAN Model"
   ]
  },
  {
   "cell_type": "code",
   "execution_count": 11,
   "id": "dfc3464d",
   "metadata": {
    "execution": {
     "iopub.execute_input": "2022-06-22T12:03:26.428395Z",
     "iopub.status.busy": "2022-06-22T12:03:26.427305Z",
     "iopub.status.idle": "2022-06-22T12:03:26.431293Z",
     "shell.execute_reply": "2022-06-22T12:03:26.431925Z"
    },
    "papermill": {
     "duration": 0.042597,
     "end_time": "2022-06-22T12:03:26.432135",
     "exception": false,
     "start_time": "2022-06-22T12:03:26.389538",
     "status": "completed"
    },
    "tags": []
   },
   "outputs": [],
   "source": [
    "gen = network.Generator(n_features+1).to(device)\n",
    "disc = network.Discriminator(n_features+1).to(device)\n",
    "\n",
    "criterion = torch.nn.BCELoss()\n",
    "gen_opt = torch.optim.Adam(gen.parameters(), lr=0.001, betas=(0.5, 0.999))\n",
    "disc_opt = torch.optim.Adam(disc.parameters(), lr=0.001, betas=(0.5, 0.999))"
   ]
  },
  {
   "cell_type": "code",
   "execution_count": 12,
   "id": "b75fdd85",
   "metadata": {
    "execution": {
     "iopub.execute_input": "2022-06-22T12:03:26.515602Z",
     "iopub.status.busy": "2022-06-22T12:03:26.514478Z",
     "iopub.status.idle": "2022-06-22T12:04:08.687263Z",
     "shell.execute_reply": "2022-06-22T12:04:08.688050Z"
    },
    "papermill": {
     "duration": 42.218786,
     "end_time": "2022-06-22T12:04:08.688296",
     "exception": false,
     "start_time": "2022-06-22T12:03:26.469510",
     "status": "completed"
    },
    "tags": []
   },
   "outputs": [
    {
     "data": {
      "image/png": "[encoded data removed]",
      "text/plain": [
       "<Figure size 432x288 with 1 Axes>"
      ]
     },
     "metadata": {
      "needs_background": "light"
     },
     "output_type": "display_data"
    },
    {
     "data": {
      "image/png": "[encoded data removed]",
      "text/plain": [
       "<Figure size 432x288 with 1 Axes>"
      ]
     },
     "metadata": {
      "needs_background": "light"
     },
     "output_type": "display_data"
    }
   ],
   "source": [
    "#Training the ABC_GAN \n",
    "ABC_train_test2.training_GAN(disc,gen,disc_opt,gen_opt,train_data,batch_size,n_epochs,criterion,prior_model,variance,bias,device)"
   ]
  },
  {
   "cell_type": "code",
   "execution_count": 13,
   "id": "1fa7c368",
   "metadata": {
    "execution": {
     "iopub.execute_input": "2022-06-22T12:04:08.775514Z",
     "iopub.status.busy": "2022-06-22T12:04:08.774621Z",
     "iopub.status.idle": "2022-06-22T12:04:09.400615Z",
     "shell.execute_reply": "2022-06-22T12:04:09.401245Z"
    },
    "papermill": {
     "duration": 0.677744,
     "end_time": "2022-06-22T12:04:09.401461",
     "exception": false,
     "start_time": "2022-06-22T12:04:08.723717",
     "status": "completed"
    },
    "tags": []
   },
   "outputs": [
    {
     "data": {
      "application/scrapbook.scrap.json+json": {
       "data": 0.4051009157163116,
       "encoder": "json",
       "name": "ABC-GAN Model 1 MSE",
       "version": 1
      }
     },
     "metadata": {
      "scrapbook": {
       "data": true,
       "display": false,
       "name": "ABC-GAN Model 1 MSE"
      }
     },
     "output_type": "display_data"
    },
    {
     "data": {
      "application/scrapbook.scrap.json+json": {
       "data": 0.4806631968729198,
       "encoder": "json",
       "name": "ABC-GAN Model 1 MAE",
       "version": 1
      }
     },
     "metadata": {
      "scrapbook": {
       "data": true,
       "display": false,
       "name": "ABC-GAN Model 1 MAE"
      }
     },
     "output_type": "display_data"
    },
    {
     "data": {
      "application/scrapbook.scrap.json+json": {
       "data": 9.613263937458395,
       "encoder": "json",
       "name": "ABC-GAN Model 1 Manhattan Distance",
       "version": 1
      }
     },
     "metadata": {
      "scrapbook": {
       "data": true,
       "display": false,
       "name": "ABC-GAN Model 1 Manhattan Distance"
      }
     },
     "output_type": "display_data"
    },
    {
     "data": {
      "application/scrapbook.scrap.json+json": {
       "data": 2.843477690424559,
       "encoder": "json",
       "name": "ABC-GAN Model 1 Euclidean distance",
       "version": 1
      }
     },
     "metadata": {
      "scrapbook": {
       "data": true,
       "display": false,
       "name": "ABC-GAN Model 1 Euclidean distance"
      }
     },
     "output_type": "display_data"
    },
    {
     "data": {
      "application/scrapbook.scrap.json+json": {
       "data": [
        [
         0.3915841878386848,
         0.35299148492257415,
         0.4878202082452109,
         0.3938924944767138,
         0.44828883368206024,
         0.372628502063893,
         0.31895679269278193,
         0.36842289824399577,
         0.48102703490631776,
         0.4138748884914566,
         0.3463730734142747,
         0.4039119223656842,
         0.4475232721905284,
         0.41861331924697753,
         0.40547731910802237,
         0.3695150949682659,
         0.411623348180448,
         0.43369744450388586,
         0.35862778692170294,
         0.45768140409496516,
         0.37383185696858034,
         0.40950222775782763,
         0.389258173257341,
         0.4529548743232333,
         0.3653291452104157,
         0.31849966670459756,
         0.3930121761746578,
         0.42661521210508174,
         0.45136876079869426,
         0.41111179351162636,
         0.40571580789927264,
         0.43107060143115616,
         0.4025450163699256,
         0.3826416110024486,
         0.40937636245214754,
         0.4341243759849772,
         0.3998365330330517,
         0.4115018241224325,
         0.3783649184260519,
         0.3818138751446728,
         0.48620460841448987,
         0.42973006639821526,
         0.37188165649938953,
         0.376288648984166,
         0.3709747408121663,
         0.3973094536446071,
         0.36530971617487507,
         0.45144946883732795,
         0.37775684344361277,
         0.4167554454656116,
         0.4014318330959753,
         0.4208013706838375,
         0.4466625025556124,
         0.4590780310498552,
         0.3634638101145957,
         0.46213499800127045,
         0.4027461399713187,
         0.388482016296923,
         0.38898339365957646,
         0.3844609375854472,
         0.38245686263277173,
         0.43037498634280846,
         0.4112243934583514,
         0.36007446793329334,
         0.36838580808187193,
         0.36381560370172383,
         0.39119407236064363,
         0.47188551469195994,
         0.40763165305250676,
         0.4030339456634664,
         0.42823365361077814,
         0.45988699702111624,
         0.4661493226543694,
         0.3770998020519213,
         0.3562269110410228,
         0.39325908840408524,
         0.43623531904159024,
         0.39266701929505243,
         0.3860038804150733,
         0.3341748094302331,
         0.40363103111747056,
         0.4073242741979005,
         0.40288288717051257,
         0.40505277364979786,
         0.4005358152473374,
         0.4157701837919025,
         0.38648942981074436,
         0.3891430227248093,
         0.4044081826186849,
         0.36759654278825266,
         0.4384139079358965,
         0.3543339567971382,
         0.4743664097556984,
         0.4437819609745081,
         0.4754985294767204,
         0.4613021269577893,
         0.3854299619585491,
         0.4372817503399193,
         0.3927087827747372,
         0.3712141257326451
        ],
        [
         0.4742779038846493,
         0.4577742449939251,
         0.5129332974553108,
         0.4741903685033321,
         0.4923972226679325,
         0.47966188192367554,
         0.44185686111450195,
         0.46084626503288745,
         0.5170126229524612,
         0.47829466611146926,
         0.4638687565922737,
         0.4924074664711952,
         0.48862773850560187,
         0.4834262989461422,
         0.4971142366528511,
         0.4726413913071156,
         0.47738738395273683,
         0.49611391723155973,
         0.46476759389042854,
         0.49967938140034673,
         0.46593332216143607,
         0.4765853099524975,
         0.48291681334376335,
         0.5035727016627789,
         0.447921834141016,
         0.4473991896957159,
         0.4793267235159874,
         0.4909158371388912,
         0.4957615531980991,
         0.4734962537884712,
         0.45584381744265556,
         0.496482539921999,
         0.47606044113636015,
         0.47430673614144325,
         0.4858140476047993,
         0.5027389712631702,
         0.47701661884784696,
         0.47228009775280955,
         0.46705972850322724,
         0.4577241986989975,
         0.5063501730561256,
         0.4962613694369793,
         0.46240426748991015,
         0.4756704788655043,
         0.4785713545978069,
         0.47632665634155275,
         0.4564443938434124,
         0.4859332598745823,
         0.47706305906176566,
         0.502916543930769,
         0.467869720607996,
         0.48934143483638765,
         0.5104742735624314,
         0.48279209807515144,
         0.46632727682590486,
         0.49698612838983536,
         0.49204314649105074,
         0.47757480256259444,
         0.478232979029417,
         0.473280943185091,
         0.4824065037071705,
         0.4848005935549736,
         0.47764890640974045,
         0.4715400904417038,
         0.4625424832105637,
         0.46438959762454035,
         0.48325504511594775,
         0.49838750511407853,
         0.4719879049807787,
         0.4976529873907566,
         0.4790911264717579,
         0.4876522921025753,
         0.5291928969323635,
         0.4702509596943855,
         0.4483493700623512,
         0.47556579262018206,
         0.4826400354504585,
         0.46703239940106867,
         0.47376528233289716,
         0.47267263680696486,
         0.47236860543489456,
         0.48453743755817413,
         0.4958345901221037,
         0.47806564569473264,
         0.4735013976693153,
         0.4978863067924976,
         0.47591535225510595,
         0.4842854354530573,
         0.4783766530454159,
         0.46822756603360177,
         0.4981629967689514,
         0.4584314748644829,
         0.5047084420919419,
         0.4944963254034519,
         0.4981491588056087,
         0.49163814410567286,
         0.4785028360784054,
         0.4994270302355289,
         0.48310399875044824,
         0.46257528513669965
        ],
        [
         9.485558077692986,
         9.155484899878502,
         10.258665949106216,
         9.483807370066643,
         9.84794445335865,
         9.59323763847351,
         8.837137222290039,
         9.21692530065775,
         10.340252459049225,
         9.565893322229385,
         9.277375131845474,
         9.848149329423904,
         9.772554770112038,
         9.668525978922844,
         9.942284733057022,
         9.452827826142311,
         9.547747679054737,
         9.922278344631195,
         9.29535187780857,
         9.993587628006935,
         9.318666443228722,
         9.53170619904995,
         9.658336266875267,
         10.071454033255577,
         8.95843668282032,
         8.947983793914318,
         9.586534470319748,
         9.818316742777824,
         9.915231063961983,
         9.469925075769424,
         9.116876348853111,
         9.92965079843998,
         9.521208822727203,
         9.486134722828865,
         9.716280952095985,
         10.054779425263405,
         9.54033237695694,
         9.44560195505619,
         9.341194570064545,
         9.15448397397995,
         10.127003461122513,
         9.925227388739586,
         9.248085349798203,
         9.513409577310085,
         9.571427091956139,
         9.526533126831055,
         9.128887876868248,
         9.718665197491646,
         9.541261181235313,
         10.05833087861538,
         9.35739441215992,
         9.786828696727753,
         10.209485471248627,
         9.655841961503029,
         9.326545536518097,
         9.939722567796707,
         9.840862929821014,
         9.551496051251888,
         9.56465958058834,
         9.46561886370182,
         9.64813007414341,
         9.696011871099472,
         9.552978128194809,
         9.430801808834076,
         9.250849664211273,
         9.287791952490807,
         9.665100902318954,
         9.96775010228157,
         9.439758099615574,
         9.953059747815132,
         9.581822529435158,
         9.753045842051506,
         10.58385793864727,
         9.40501919388771,
         8.966987401247025,
         9.51131585240364,
         9.65280070900917,
         9.340647988021374,
         9.475305646657944,
         9.453452736139297,
         9.447372108697891,
         9.690748751163483,
         9.916691802442074,
         9.561312913894653,
         9.470027953386307,
         9.957726135849953,
         9.51830704510212,
         9.685708709061146,
         9.567533060908318,
         9.364551320672035,
         9.963259935379028,
         9.168629497289658,
         10.094168841838837,
         9.889926508069038,
         9.962983176112175,
         9.832762882113457,
         9.570056721568108,
         9.988540604710579,
         9.662079975008965,
         9.251505702733994
        ],
        [
         2.798514562544511,
         2.6570340040073788,
         3.123524317962679,
         2.806750770826344,
         2.994290679550201,
         2.7299395673307236,
         2.5256951229029285,
         2.7144903692737454,
         3.1016996466657365,
         2.877064088585642,
         2.632007117825766,
         2.8422242077840525,
         2.991732849672672,
         2.8934868904039552,
         2.847726528682213,
         2.71851097098491,
         2.869227590068268,
         2.9451568532215253,
         2.6781627542839996,
         3.0254963364544505,
         2.734344005309428,
         2.861825388656085,
         2.7901905786427603,
         3.0098334649054364,
         2.70306916378555,
         2.523884572259982,
         2.8036125844155353,
         2.921010825399597,
         3.004559071806358,
         2.8674441355033453,
         2.848563876409559,
         2.9362241107625153,
         2.837410849242406,
         2.766375285468147,
         2.8613855470808107,
         2.9466061018907066,
         2.8278491226833573,
         2.8688040160402473,
         2.7508722922958526,
         2.763381534079841,
         3.1183476663595093,
         2.9316550492792133,
         2.7272024365616483,
         2.743314232763596,
         2.7238749634010966,
         2.818898556687016,
         2.7029972851443085,
         3.0048276783780064,
         2.748660922862668,
         2.887058868348935,
         2.8334848970692446,
         2.9010390231220176,
         2.9888543040958435,
         3.030109011404888,
         2.6961595283461834,
         3.040180909094952,
         2.838119588640756,
         2.7874074560312243,
         2.7892055989459665,
         2.7729440585249723,
         2.765707369309963,
         2.933854073885777,
         2.8678367926308197,
         2.683559084250963,
         2.7143537281713006,
         2.6974640079219734,
         2.797120206071393,
         3.072085658610319,
         2.8552816080117447,
         2.8391334792977467,
         2.92654627030149,
         3.032777594948618,
         3.0533565879352165,
         2.746269477134104,
         2.6691830624407267,
         2.804493139246681,
         2.953761395379086,
         2.8023811992484267,
         2.7785027637743074,
         2.585245866180751,
         2.841235756207044,
         2.854204877712532,
         2.8386013709942177,
         2.8462353158156053,
         2.830320883742115,
         2.883644165953568,
         2.7802497363033574,
         2.78977785038454,
         2.8439696996229933,
         2.7114444224001812,
         2.961127852477486,
         2.662081729763901,
         3.0801506773393355,
         2.9792011042375375,
         3.0838240205197196,
         3.037440129312146,
         2.7764364280802436,
         2.9573019809952426,
         2.802530223832518,
         2.7247536612789243
        ]
       ],
       "encoder": "json",
       "name": "ABC_GAN_1 Metrics",
       "version": 1
      }
     },
     "metadata": {
      "scrapbook": {
       "data": true,
       "display": false,
       "name": "ABC_GAN_1 Metrics"
      }
     },
     "output_type": "display_data"
    },
    {
     "name": "stdout",
     "output_type": "stream",
     "text": [
      "MSE\n",
      "0.4051009157163116\n"
     ]
    }
   ],
   "source": [
    "ABC_GAN1_metrics=ABC_train_test2.test_generator(gen,test_data,prior_model,variance,bias,\"1\",device)\n",
    "sb.glue(\"ABC_GAN_1 Metrics\",ABC_GAN1_metrics)\n",
    "\n",
    "print(\"MSE\")\n",
    "print(mean(ABC_GAN1_metrics[0]))"
   ]
  },
  {
   "cell_type": "code",
   "execution_count": 14,
   "id": "eb22ce5c",
   "metadata": {
    "execution": {
     "iopub.execute_input": "2022-06-22T12:04:09.557698Z",
     "iopub.status.busy": "2022-06-22T12:04:09.555273Z",
     "iopub.status.idle": "2022-06-22T12:04:10.242938Z",
     "shell.execute_reply": "2022-06-22T12:04:10.243490Z"
    },
    "papermill": {
     "duration": 0.808794,
     "end_time": "2022-06-22T12:04:10.243693",
     "exception": false,
     "start_time": "2022-06-22T12:04:09.434899",
     "status": "completed"
    },
    "tags": []
   },
   "outputs": [
    {
     "data": {
      "image/png": "[encoded data removed]",
      "text/plain": [
       "<Figure size 432x288 with 1 Axes>"
      ]
     },
     "metadata": {
      "needs_background": "light"
     },
     "output_type": "display_data"
    },
    {
     "data": {
      "image/png": "[encoded data removed]",
      "text/plain": [
       "<Figure size 432x288 with 1 Axes>"
      ]
     },
     "metadata": {
      "needs_background": "light"
     },
     "output_type": "display_data"
    },
    {
     "data": {
      "image/png": "[encoded data removed]",
      "text/plain": [
       "<Figure size 432x288 with 1 Axes>"
      ]
     },
     "metadata": {
      "needs_background": "light"
     },
     "output_type": "display_data"
    },
    {
     "data": {
      "image/png": "[encoded data removed]",
      "text/plain": [
       "<Figure size 432x288 with 1 Axes>"
      ]
     },
     "metadata": {
      "needs_background": "light"
     },
     "output_type": "display_data"
    }
   ],
   "source": [
    "sanityChecks.discProbVsError(train_data,disc,device)\n",
    "sanityChecks.discProbVsError(test_data,disc,device)"
   ]
  },
  {
   "cell_type": "markdown",
   "id": "130f3a4d",
   "metadata": {
    "id": "130f3a4d",
    "papermill": {
     "duration": 0.040283,
     "end_time": "2022-06-22T12:04:10.325275",
     "exception": false,
     "start_time": "2022-06-22T12:04:10.284992",
     "status": "completed"
    },
    "tags": []
   },
   "source": [
    "# ABC - GAN Model with skip connection"
   ]
  },
  {
   "cell_type": "code",
   "execution_count": 15,
   "id": "4e43dad1",
   "metadata": {
    "execution": {
     "iopub.execute_input": "2022-06-22T12:04:10.417464Z",
     "iopub.status.busy": "2022-06-22T12:04:10.415691Z",
     "iopub.status.idle": "2022-06-22T12:04:10.420492Z",
     "shell.execute_reply": "2022-06-22T12:04:10.421092Z"
    },
    "id": "4e43dad1",
    "papermill": {
     "duration": 0.057784,
     "end_time": "2022-06-22T12:04:10.421335",
     "exception": false,
     "start_time": "2022-06-22T12:04:10.363551",
     "status": "completed"
    },
    "tags": []
   },
   "outputs": [],
   "source": [
    "#Generator\n",
    "gen3 = network.GeneratorWithSkipConnection(n_features+1).to(device)\n",
    "constraints=network.weightConstraint()\n",
    "#Discriminator \n",
    "disc3 = network.Discriminator(n_features+1).to(device)\n",
    "\n",
    "criterion = torch.nn.BCELoss()\n",
    "gen_opt = torch.optim.Adam(gen3.parameters(), lr=0.001, betas=(0.5, 0.999))\n",
    "disc_opt = torch.optim.Adam(disc3.parameters(), lr=0.001, betas=(0.5, 0.999))\n"
   ]
  },
  {
   "cell_type": "code",
   "execution_count": 16,
   "id": "26acbc37",
   "metadata": {
    "execution": {
     "iopub.execute_input": "2022-06-22T12:04:10.517770Z",
     "iopub.status.busy": "2022-06-22T12:04:10.517011Z",
     "iopub.status.idle": "2022-06-22T12:05:17.805382Z",
     "shell.execute_reply": "2022-06-22T12:05:17.804881Z"
    },
    "id": "26acbc37",
    "papermill": {
     "duration": 67.340426,
     "end_time": "2022-06-22T12:05:17.805564",
     "exception": false,
     "start_time": "2022-06-22T12:04:10.465138",
     "status": "completed"
    },
    "tags": []
   },
   "outputs": [
    {
     "data": {
      "image/png": "[encoded data removed]",
      "text/plain": [
       "<Figure size 432x288 with 1 Axes>"
      ]
     },
     "metadata": {
      "needs_background": "light"
     },
     "output_type": "display_data"
    },
    {
     "data": {
      "image/png": "[encoded data removed]",
      "text/plain": [
       "<Figure size 432x288 with 1 Axes>"
      ]
     },
     "metadata": {
      "needs_background": "light"
     },
     "output_type": "display_data"
    }
   ],
   "source": [
    "ABC_train_test2.training_GAN_skip_connection(disc3,gen3,disc_opt,gen_opt,train_data,batch_size,n_epochs,criterion,prior_model,variance,bias,device)"
   ]
  },
  {
   "cell_type": "code",
   "execution_count": 17,
   "id": "c5e0717b",
   "metadata": {
    "execution": {
     "iopub.execute_input": "2022-06-22T12:05:17.908728Z",
     "iopub.status.busy": "2022-06-22T12:05:17.907909Z",
     "iopub.status.idle": "2022-06-22T12:05:18.713408Z",
     "shell.execute_reply": "2022-06-22T12:05:18.713988Z"
    },
    "id": "c5e0717b",
    "papermill": {
     "duration": 0.868028,
     "end_time": "2022-06-22T12:05:18.714185",
     "exception": false,
     "start_time": "2022-06-22T12:05:17.846157",
     "status": "completed"
    },
    "tags": []
   },
   "outputs": [
    {
     "data": {
      "application/scrapbook.scrap.json+json": {
       "data": 0.1586167088860412,
       "encoder": "json",
       "name": "ABC-GAN Model 3 MSE",
       "version": 1
      }
     },
     "metadata": {
      "scrapbook": {
       "data": true,
       "display": false,
       "name": "ABC-GAN Model 3 MSE"
      }
     },
     "output_type": "display_data"
    },
    {
     "data": {
      "application/scrapbook.scrap.json+json": {
       "data": 0.30332336072437466,
       "encoder": "json",
       "name": "ABC-GAN Model 3 MAE",
       "version": 1
      }
     },
     "metadata": {
      "scrapbook": {
       "data": true,
       "display": false,
       "name": "ABC-GAN Model 3 MAE"
      }
     },
     "output_type": "display_data"
    },
    {
     "data": {
      "application/scrapbook.scrap.json+json": {
       "data": 6.066467214487493,
       "encoder": "json",
       "name": "ABC-GAN Model 3 Manhattan Distance",
       "version": 1
      }
     },
     "metadata": {
      "scrapbook": {
       "data": true,
       "display": false,
       "name": "ABC-GAN Model 3 Manhattan Distance"
      }
     },
     "output_type": "display_data"
    },
    {
     "data": {
      "application/scrapbook.scrap.json+json": {
       "data": 1.7753384612378955,
       "encoder": "json",
       "name": "ABC-GAN Model 3 Euclidean distance",
       "version": 1
      }
     },
     "metadata": {
      "scrapbook": {
       "data": true,
       "display": false,
       "name": "ABC-GAN Model 3 Euclidean distance"
      }
     },
     "output_type": "display_data"
    },
    {
     "data": {
      "application/scrapbook.scrap.json+json": {
       "data": [
        [
         0.2179761933527738,
         0.2814551115761622,
         0.19631214402365676,
         0.17014352347017517,
         0.14532647905505786,
         0.15270101811868206,
         0.18487029593396334,
         0.1434204722194919,
         0.14790627792326486,
         0.1729010477306045,
         0.1414431968532699,
         0.15180224425123084,
         0.1476647389215075,
         0.17136188022732785,
         0.15587449367874343,
         0.14225729683207108,
         0.15030242967215451,
         0.12004214097447989,
         0.13120660659991462,
         0.15559244373131742,
         0.28045681144670626,
         0.13490139738393733,
         0.14521184863451797,
         0.21860215649546308,
         0.18393146251222495,
         0.15881891285167138,
         0.15838876120522255,
         0.1345665099686764,
         0.14731516634125788,
         0.16423487798498249,
         0.19699595354694172,
         0.15736798220374393,
         0.13306493605855862,
         0.17724359044231683,
         0.18382661289426064,
         0.16860300927632058,
         0.14020263722680876,
         0.18737800789522413,
         0.12696407310192798,
         0.15116663538984867,
         0.15112493426803925,
         0.1517320716823733,
         0.12172278255008159,
         0.15738540100799017,
         0.17152759164804232,
         0.16721950580048756,
         0.1296836434632959,
         0.17300590480061723,
         0.14113599609081734,
         0.139378813104191,
         0.12611354742725425,
         0.11789423962747855,
         0.17826263534724265,
         0.16217197265969865,
         0.16368213251226651,
         0.16234748687641973,
         0.1366503900676254,
         0.1480627910660719,
         0.1531953086899211,
         0.1604544467586752,
         0.14776459023610214,
         0.13436141604398416,
         0.1358281523089892,
         0.17454551734584742,
         0.14022418674788056,
         0.1372614286967933,
         0.15539044567508392,
         0.14869161696188254,
         0.17016205348618346,
         0.14970237089892208,
         0.14995464413691661,
         0.18413832610857447,
         0.13836048496727207,
         0.1895083606863543,
         0.18305342901430363,
         0.18946571777700108,
         0.14602057962894305,
         0.18957133794797626,
         0.1686310109663911,
         0.13170509122943558,
         0.13092701636616458,
         0.15169134325150516,
         0.13485654235677208,
         0.13796080915513223,
         0.14380501497793835,
         0.1374135515155725,
         0.1514240710206728,
         0.17506981085033774,
         0.1573534260756689,
         0.14940515511185923,
         0.1948985841496232,
         0.19207441696821098,
         0.13722208405789021,
         0.15625672530191478,
         0.14490580885039034,
         0.1508975126181154,
         0.16468376785438532,
         0.1380063795908198,
         0.13539226759526865,
         0.1705328666159907
        ],
        [
         0.33071933388710023,
         0.3570440739393234,
         0.312838451936841,
         0.3194176986813545,
         0.29003524854779245,
         0.3051705569028854,
         0.3204657301306725,
         0.293234771117568,
         0.30325506068766117,
         0.3089002713561058,
         0.28129865750670435,
         0.3284589618444443,
         0.29815389066934583,
         0.34415730834007263,
         0.2903143934905529,
         0.2977877728641033,
         0.2921746499836445,
         0.25529964789748194,
         0.2749857999384403,
         0.30405389312654735,
         0.36257375553250315,
         0.27931107208132744,
         0.2904451847076416,
         0.35373560115695,
         0.3452517695724964,
         0.2985547438263893,
         0.30857627615332606,
         0.28825813680887225,
         0.2878368228673935,
         0.3206707607954741,
         0.33522317074239255,
         0.31420318111777307,
         0.2852988362312317,
         0.3347649917006493,
         0.3379875274375081,
         0.3232739236205816,
         0.2891216496005654,
         0.32225647382438183,
         0.27140147387981417,
         0.30994473546743395,
         0.3108279490843415,
         0.2954550489783287,
         0.2643918350338936,
         0.31147791668772695,
         0.31332324966788294,
         0.32841053158044814,
         0.28076945766806605,
         0.3443444460630417,
         0.2721521552652121,
         0.28308370485901835,
         0.27982129342854023,
         0.26361736580729483,
         0.3157856985926628,
         0.2890806242823601,
         0.30643841400742533,
         0.31400120779871943,
         0.27348748967051506,
         0.2999678947031498,
         0.3172538220882416,
         0.2973125696182251,
         0.28462612107396124,
         0.28867579996585846,
         0.28388258144259454,
         0.33200337886810305,
         0.2939392738044262,
         0.2787504859268665,
         0.288069412112236,
         0.3004044145345688,
         0.31389661133289337,
         0.28831915743649006,
         0.30888806134462354,
         0.32597976438701154,
         0.27579975947737695,
         0.31275243386626245,
         0.32331802900880574,
         0.3452487953007221,
         0.2732385382056236,
         0.33440919443964956,
         0.3261542309075594,
         0.26718546375632285,
         0.26801254153251647,
         0.30484585985541346,
         0.2709752943366766,
         0.29487098678946494,
         0.28409596905112267,
         0.2841139674186707,
         0.29590646624565126,
         0.32288099117577074,
         0.311281905323267,
         0.29002763628959655,
         0.31131875738501547,
         0.34804256483912466,
         0.2853357993066311,
         0.31181127652525903,
         0.2838175304234028,
         0.30091977715492246,
         0.31632973030209544,
         0.27665345221757887,
         0.2827441990375519,
         0.31535092517733576
        ],
        [
         6.614386677742004,
         7.1408814787864685,
         6.25676903873682,
         6.3883539736270905,
         5.800704970955849,
         6.103411138057709,
         6.409314602613449,
         5.86469542235136,
         6.065101213753223,
         6.178005427122116,
         5.625973150134087,
         6.5691792368888855,
         5.963077813386917,
         6.883146166801453,
         5.806287869811058,
         5.955755457282066,
         5.84349299967289,
         5.105992957949638,
         5.4997159987688065,
         6.081077862530947,
         7.251475110650063,
         5.586221441626549,
         5.808903694152832,
         7.074712023139,
         6.905035391449928,
         5.971094876527786,
         6.171525523066521,
         5.7651627361774445,
         5.75673645734787,
         6.413415215909481,
         6.704463414847851,
         6.284063622355461,
         5.705976724624634,
         6.695299834012985,
         6.759750548750162,
         6.4654784724116325,
         5.782432992011309,
         6.445129476487637,
         5.428029477596283,
         6.198894709348679,
         6.2165589816868305,
         5.909100979566574,
         5.287836700677872,
         6.2295583337545395,
         6.266464993357658,
         6.568210631608963,
         5.6153891533613205,
         6.886888921260834,
         5.443043105304241,
         5.6616740971803665,
         5.596425868570805,
         5.272347316145897,
         6.315713971853256,
         5.7816124856472015,
         6.128768280148506,
         6.280024155974388,
         5.469749793410301,
         5.999357894062996,
         6.3450764417648315,
         5.946251392364502,
         5.692522421479225,
         5.773515999317169,
         5.677651628851891,
         6.6400675773620605,
         5.878785476088524,
         5.575009718537331,
         5.7613882422447205,
         6.008088290691376,
         6.277932226657867,
         5.766383148729801,
         6.177761226892471,
         6.519595287740231,
         5.515995189547539,
         6.255048677325249,
         6.466360580176115,
         6.904975906014442,
         5.4647707641124725,
         6.688183888792992,
         6.523084618151188,
         5.343709275126457,
         5.36025083065033,
         6.096917197108269,
         5.419505886733532,
         5.897419735789299,
         5.681919381022453,
         5.682279348373413,
         5.918129324913025,
         6.457619823515415,
         6.22563810646534,
         5.800552725791931,
         6.22637514770031,
         6.960851296782494,
         5.706715986132622,
         6.23622553050518,
         5.676350608468056,
         6.01839554309845,
         6.326594606041908,
         5.533069044351578,
         5.654883980751038,
         6.307018503546715
        ],
        [
         2.0879472855068624,
         2.3725729138475904,
         1.9814749255221815,
         1.8446870925453733,
         1.7048547096750377,
         1.7475755669995048,
         1.9228639886063879,
         1.6936379319057062,
         1.719920218633788,
         1.8595754769871777,
         1.6819226905733207,
         1.7424250012624982,
         1.7185152831529167,
         1.8512799908567468,
         1.7656414906698552,
         1.6867560394560388,
         1.733796006871365,
         1.5494653334262105,
         1.6199173225810917,
         1.76404333127799,
         2.3683615072311333,
         1.6425674864914217,
         1.7041822005555507,
         2.090943119721161,
         1.9179752996961401,
         1.782239674407858,
         1.7798244925004407,
         1.6405274150021167,
         1.716479923222278,
         1.8123734603275479,
         1.984922938287236,
         1.7740799429774516,
         1.631348742964291,
         1.882782995686528,
         1.9174285535281914,
         1.836317016619519,
         1.6745306042399388,
         1.9358616060825429,
         1.5935123036985184,
         1.738773334220701,
         1.7385334869828608,
         1.7420222253597872,
         1.5602742230139008,
         1.774178125262456,
         1.8521748926494082,
         1.8287673761333756,
         1.6104883946386939,
         1.8601392679077404,
         1.680095212128273,
         1.6696036242425385,
         1.5881659071221386,
         1.5355405538602915,
         1.8881876778924422,
         1.800955150244995,
         1.8093210467590681,
         1.8019294485435313,
         1.6531811157137344,
         1.7208299803645444,
         1.7504017178346296,
         1.7913930152742876,
         1.7190962174125224,
         1.6392767676264075,
         1.6481999412024573,
         1.8683978021066467,
         1.6746592892160517,
         1.6568731315148622,
         1.7628978738150654,
         1.7244803099014063,
         1.8447875405378444,
         1.7303315919148101,
         1.731788925573302,
         1.9190535485419602,
         1.6634932219114815,
         1.9468351788806073,
         1.9133919045208885,
         1.9466161294770012,
         1.7089211779888682,
         1.947158637337884,
         1.8364694986108052,
         1.6229916280094334,
         1.6181904484093619,
         1.7417884099482643,
         1.6422943850404657,
         1.6610888546681193,
         1.695906925382041,
         1.6577910092383326,
         1.7402532632963097,
         1.8712018108709585,
         1.773997892195303,
         1.728613057406771,
         1.9743281599046456,
         1.959971514936944,
         1.6566356512998879,
         1.7678049966097211,
         1.7023854372637846,
         1.737224870983117,
         1.8148485769032374,
         1.6613631727639793,
         1.6455532054313446,
         1.8467965053897557
        ]
       ],
       "encoder": "json",
       "name": "ABC_GAN_3 Metrics",
       "version": 1
      }
     },
     "metadata": {
      "scrapbook": {
       "data": true,
       "display": false,
       "name": "ABC_GAN_3 Metrics"
      }
     },
     "output_type": "display_data"
    },
    {
     "name": "stdout",
     "output_type": "stream",
     "text": [
      "MSE\n",
      "0.1586167088860412\n"
     ]
    }
   ],
   "source": [
    "ABC_GAN3_metrics=ABC_train_test2.test_generator(gen3,test_data,prior_model,variance,bias,\"3\",device)\n",
    "sb.glue(\"ABC_GAN_3 Metrics\",ABC_GAN3_metrics)\n",
    "\n",
    "print(\"MSE\")\n",
    "print(mean(ABC_GAN3_metrics[0]))"
   ]
  },
  {
   "cell_type": "code",
   "execution_count": 18,
   "id": "c8e46b48",
   "metadata": {
    "execution": {
     "iopub.execute_input": "2022-06-22T12:05:18.815444Z",
     "iopub.status.busy": "2022-06-22T12:05:18.814240Z",
     "iopub.status.idle": "2022-06-22T12:05:19.556262Z",
     "shell.execute_reply": "2022-06-22T12:05:19.555783Z"
    },
    "id": "c8e46b48",
    "papermill": {
     "duration": 0.800052,
     "end_time": "2022-06-22T12:05:19.556452",
     "exception": false,
     "start_time": "2022-06-22T12:05:18.756400",
     "status": "completed"
    },
    "tags": []
   },
   "outputs": [
    {
     "data": {
      "image/png": "[encoded data removed]",
      "text/plain": [
       "<Figure size 432x288 with 1 Axes>"
      ]
     },
     "metadata": {
      "needs_background": "light"
     },
     "output_type": "display_data"
    },
    {
     "data": {
      "image/png": "[encoded data removed]",
      "text/plain": [
       "<Figure size 432x288 with 1 Axes>"
      ]
     },
     "metadata": {
      "needs_background": "light"
     },
     "output_type": "display_data"
    },
    {
     "data": {
      "image/png": "[encoded data removed]",
      "text/plain": [
       "<Figure size 432x288 with 1 Axes>"
      ]
     },
     "metadata": {
      "needs_background": "light"
     },
     "output_type": "display_data"
    },
    {
     "data": {
      "image/png": "[encoded data removed]",
      "text/plain": [
       "<Figure size 432x288 with 1 Axes>"
      ]
     },
     "metadata": {
      "needs_background": "light"
     },
     "output_type": "display_data"
    }
   ],
   "source": [
    "sanityChecks.discProbVsError(train_data,disc3,device)\n",
    "sanityChecks.discProbVsError(test_data,disc3,device)"
   ]
  },
  {
   "cell_type": "markdown",
   "id": "a5bd74c3",
   "metadata": {
    "id": "a5bd74c3",
    "papermill": {
     "duration": 0.052392,
     "end_time": "2022-06-22T12:05:19.656798",
     "exception": false,
     "start_time": "2022-06-22T12:05:19.604406",
     "status": "completed"
    },
    "tags": []
   },
   "source": [
    "## Skip Connection Model Analysis - ABC-GAN "
   ]
  },
  {
   "cell_type": "markdown",
   "id": "5744a8bf",
   "metadata": {
    "id": "5744a8bf",
    "papermill": {
     "duration": 0.055215,
     "end_time": "2022-06-22T12:05:19.765558",
     "exception": false,
     "start_time": "2022-06-22T12:05:19.710343",
     "status": "completed"
    },
    "tags": []
   },
   "source": [
    "### Weight Analysis \n",
    "\n",
    "Study the weights of the skip connection layer\n",
    "\n",
    "Equation of the skip connection is \n",
    "\n",
    "$output = y_{gan} * w + y_{abc} * (1-w)$"
   ]
  },
  {
   "cell_type": "code",
   "execution_count": 19,
   "id": "52c31dea",
   "metadata": {
    "execution": {
     "iopub.execute_input": "2022-06-22T12:05:19.876318Z",
     "iopub.status.busy": "2022-06-22T12:05:19.875581Z",
     "iopub.status.idle": "2022-06-22T12:05:19.882508Z",
     "shell.execute_reply": "2022-06-22T12:05:19.883079Z"
    },
    "id": "52c31dea",
    "papermill": {
     "duration": 0.068538,
     "end_time": "2022-06-22T12:05:19.883291",
     "exception": false,
     "start_time": "2022-06-22T12:05:19.814753",
     "status": "completed"
    },
    "tags": []
   },
   "outputs": [
    {
     "name": "stdout",
     "output_type": "stream",
     "text": [
      "Weight of the node at skip connection\n",
      "Parameter containing:\n",
      "tensor([[0.9160]], requires_grad=True)\n"
     ]
    },
    {
     "data": {
      "application/scrapbook.scrap.json+json": {
       "data": 0.9160101413726807,
       "encoder": "json",
       "name": "Skip Connection Weight",
       "version": 1
      }
     },
     "metadata": {
      "scrapbook": {
       "data": true,
       "display": false,
       "name": "Skip Connection Weight"
      }
     },
     "output_type": "display_data"
    }
   ],
   "source": [
    "print(\"Weight of the node at skip connection\")\n",
    "for name,param in gen3.named_parameters():\n",
    "    if(name == \"skipNode.weight\"):\n",
    "        print(param)\n",
    "        sb.glue(\"Skip Connection Weight\",param.item())"
   ]
  }
 ],
 "metadata": {
  "colab": {
   "collapsed_sections": [],
   "name": "ABC_GAN_Model-Catboost_Pre-gen.ipynb",
   "provenance": []
  },
  "interpreter": {
   "hash": "31f2aee4e71d21fbe5cf8b01ff0e069b9275f58929596ceb00d14d90e3e16cd6"
  },
  "kernelspec": {
   "display_name": "Python 3 (ipykernel)",
   "language": "python",
   "name": "python3"
  },
  "language_info": {
   "codemirror_mode": {
    "name": "ipython",
    "version": 3
   },
   "file_extension": ".py",
   "mimetype": "text/x-python",
   "name": "python",
   "nbconvert_exporter": "python",
   "pygments_lexer": "ipython3",
   "version": "3.8.3"
  },
  "papermill": {
   "default_parameters": {},
   "duration": 138.969847,
   "end_time": "2022-06-22T12:05:20.813963",
   "environment_variables": {},
   "exception": null,
   "input_path": "ABC_GAN-TabNet.ipynb",
   "output_path": "./ABC_GAN_TabNet/ABC-GAN_output_2_3.ipynb",
   "parameters": {
    "bias": 0.1,
    "variance": 1
   },
   "start_time": "2022-06-22T12:03:01.844116",
   "version": "2.3.3"
  }
 },
 "nbformat": 4,
 "nbformat_minor": 5
}