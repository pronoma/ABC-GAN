{
 "cells": [
  {
   "cell_type": "markdown",
   "id": "622780e6",
   "metadata": {
    "id": "622780e6",
    "papermill": {
     "duration": 0.025343,
     "end_time": "2022-06-22T12:51:35.930940",
     "exception": false,
     "start_time": "2022-06-22T12:51:35.905597",
     "status": "completed"
    },
    "tags": []
   },
   "source": [
    "## Import Libraries "
   ]
  },
  {
   "cell_type": "code",
   "execution_count": 1,
   "id": "a62397e3",
   "metadata": {
    "execution": {
     "iopub.execute_input": "2022-06-22T12:51:35.979339Z",
     "iopub.status.busy": "2022-06-22T12:51:35.977857Z",
     "iopub.status.idle": "2022-06-22T12:51:35.983631Z",
     "shell.execute_reply": "2022-06-22T12:51:35.984290Z"
    },
    "id": "a62397e3",
    "papermill": {
     "duration": 0.034573,
     "end_time": "2022-06-22T12:51:35.984635",
     "exception": false,
     "start_time": "2022-06-22T12:51:35.950062",
     "status": "completed"
    },
    "tags": []
   },
   "outputs": [],
   "source": [
    "import warnings\n",
    "import sys\n",
    "sys.path.insert(0, '../../src')\n",
    "warnings.filterwarnings('ignore')"
   ]
  },
  {
   "cell_type": "code",
   "execution_count": 2,
   "id": "d6a4e155",
   "metadata": {
    "execution": {
     "iopub.execute_input": "2022-06-22T12:51:36.025440Z",
     "iopub.status.busy": "2022-06-22T12:51:36.023164Z",
     "iopub.status.idle": "2022-06-22T12:51:43.254034Z",
     "shell.execute_reply": "2022-06-22T12:51:43.254732Z"
    },
    "id": "d6a4e155",
    "papermill": {
     "duration": 7.252848,
     "end_time": "2022-06-22T12:51:43.255075",
     "exception": false,
     "start_time": "2022-06-22T12:51:36.002227",
     "status": "completed"
    },
    "tags": []
   },
   "outputs": [],
   "source": [
    "import ABC_train_test2\n",
    "import friedman3Dataset\n",
    "import network\n",
    "import dataset\n",
    "import sanityChecks\n",
    "import torch \n",
    "import scrapbook as sb\n",
    "from statistics import mean \n",
    "import catboost as ctb \n",
    "from sklearn.model_selection import train_test_split\n",
    "from sklearn.metrics import mean_squared_error,mean_absolute_error\n",
    "import numpy as np\n",
    "from pytorch_tabnet.tab_model import TabNetRegressor"
   ]
  },
  {
   "cell_type": "markdown",
   "id": "2fa5b0f7",
   "metadata": {
    "id": "2fa5b0f7",
    "papermill": {
     "duration": 0.020116,
     "end_time": "2022-06-22T12:51:43.294898",
     "exception": false,
     "start_time": "2022-06-22T12:51:43.274782",
     "status": "completed"
    },
    "tags": []
   },
   "source": [
    "## Parameters "
   ]
  },
  {
   "cell_type": "code",
   "execution_count": 3,
   "id": "783186fb",
   "metadata": {
    "execution": {
     "iopub.execute_input": "2022-06-22T12:51:43.337483Z",
     "iopub.status.busy": "2022-06-22T12:51:43.336627Z",
     "iopub.status.idle": "2022-06-22T12:51:43.342188Z",
     "shell.execute_reply": "2022-06-22T12:51:43.343079Z"
    },
    "id": "783186fb",
    "papermill": {
     "duration": 0.029579,
     "end_time": "2022-06-22T12:51:43.343333",
     "exception": false,
     "start_time": "2022-06-22T12:51:43.313754",
     "status": "completed"
    },
    "tags": [
     "parameters"
    ]
   },
   "outputs": [],
   "source": [
    "variance = 1\n",
    "bias = 1 "
   ]
  },
  {
   "cell_type": "code",
   "execution_count": 4,
   "id": "95ea6bea",
   "metadata": {
    "execution": {
     "iopub.execute_input": "2022-06-22T12:51:43.379866Z",
     "iopub.status.busy": "2022-06-22T12:51:43.378922Z",
     "iopub.status.idle": "2022-06-22T12:51:43.381556Z",
     "shell.execute_reply": "2022-06-22T12:51:43.382058Z"
    },
    "papermill": {
     "duration": 0.022976,
     "end_time": "2022-06-22T12:51:43.382334",
     "exception": false,
     "start_time": "2022-06-22T12:51:43.359358",
     "status": "completed"
    },
    "tags": [
     "injected-parameters"
    ]
   },
   "outputs": [],
   "source": [
    "# Parameters\n",
    "variance = 0.01\n",
    "bias = 0\n"
   ]
  },
  {
   "cell_type": "markdown",
   "id": "391cdbfd",
   "metadata": {
    "id": "391cdbfd",
    "papermill": {
     "duration": 0.03164,
     "end_time": "2022-06-22T12:51:43.430893",
     "exception": false,
     "start_time": "2022-06-22T12:51:43.399253",
     "status": "completed"
    },
    "tags": []
   },
   "source": [
    "## Dataset \n"
   ]
  },
  {
   "cell_type": "code",
   "execution_count": 5,
   "id": "5b51f161",
   "metadata": {
    "execution": {
     "iopub.execute_input": "2022-06-22T12:51:43.468424Z",
     "iopub.status.busy": "2022-06-22T12:51:43.467652Z",
     "iopub.status.idle": "2022-06-22T12:51:43.469730Z",
     "shell.execute_reply": "2022-06-22T12:51:43.470167Z"
    },
    "id": "5b51f161",
    "papermill": {
     "duration": 0.021039,
     "end_time": "2022-06-22T12:51:43.470377",
     "exception": false,
     "start_time": "2022-06-22T12:51:43.449338",
     "status": "completed"
    },
    "tags": []
   },
   "outputs": [],
   "source": [
    "#Parameters \n",
    "n_features = 4\n",
    "n_samples= 100\n",
    "n_target = 1"
   ]
  },
  {
   "cell_type": "code",
   "execution_count": 6,
   "id": "5d6eced4",
   "metadata": {
    "execution": {
     "iopub.execute_input": "2022-06-22T12:51:43.501770Z",
     "iopub.status.busy": "2022-06-22T12:51:43.501070Z",
     "iopub.status.idle": "2022-06-22T12:51:43.513178Z",
     "shell.execute_reply": "2022-06-22T12:51:43.513842Z"
    },
    "id": "5d6eced4",
    "papermill": {
     "duration": 0.030321,
     "end_time": "2022-06-22T12:51:43.514082",
     "exception": false,
     "start_time": "2022-06-22T12:51:43.483761",
     "status": "completed"
    },
    "tags": []
   },
   "outputs": [
    {
     "name": "stdout",
     "output_type": "stream",
     "text": [
      "          X1           X2        X3        X4         Y\n",
      "0  27.893901   721.969979  0.455764  4.015758  1.549483\n",
      "1  66.305736  1598.531372  0.523825  3.805656  1.440110\n",
      "2  10.714520  1379.522164  0.269160  6.824316  1.725627\n",
      "3  99.092172   648.404054  0.247090  5.276942  0.921012\n",
      "4  63.276800  1434.696374  0.088696  4.591338  1.075432\n"
     ]
    }
   ],
   "source": [
    "X,Y = friedman3Dataset.friedman3_data(n_samples)"
   ]
  },
  {
   "cell_type": "code",
   "execution_count": 7,
   "id": "fe007438",
   "metadata": {
    "execution": {
     "iopub.execute_input": "2022-06-22T12:51:43.554040Z",
     "iopub.status.busy": "2022-06-22T12:51:43.553266Z",
     "iopub.status.idle": "2022-06-22T12:51:43.557803Z",
     "shell.execute_reply": "2022-06-22T12:51:43.559411Z"
    },
    "id": "fe007438",
    "papermill": {
     "duration": 0.028626,
     "end_time": "2022-06-22T12:51:43.559865",
     "exception": false,
     "start_time": "2022-06-22T12:51:43.531239",
     "status": "completed"
    },
    "tags": []
   },
   "outputs": [],
   "source": [
    "#Train test split for dataset \n",
    "X_train,X_test,Y_train,Y_test = train_test_split(X,Y,test_size = 0.2)\n",
    "train_data = dataset.CustomDataset(X_train,Y_train)\n",
    "test_data = dataset.CustomDataset(X_test,Y_test)\n"
   ]
  },
  {
   "cell_type": "markdown",
   "id": "a9a1af34",
   "metadata": {
    "id": "a9a1af34",
    "papermill": {
     "duration": 0.021942,
     "end_time": "2022-06-22T12:51:43.599574",
     "exception": false,
     "start_time": "2022-06-22T12:51:43.577632",
     "status": "completed"
    },
    "tags": []
   },
   "source": [
    "## Training Parameters "
   ]
  },
  {
   "cell_type": "code",
   "execution_count": 8,
   "id": "952b7fc8",
   "metadata": {
    "execution": {
     "iopub.execute_input": "2022-06-22T12:51:43.648560Z",
     "iopub.status.busy": "2022-06-22T12:51:43.647332Z",
     "iopub.status.idle": "2022-06-22T12:51:43.650367Z",
     "shell.execute_reply": "2022-06-22T12:51:43.649818Z"
    },
    "id": "952b7fc8",
    "papermill": {
     "duration": 0.028862,
     "end_time": "2022-06-22T12:51:43.650677",
     "exception": false,
     "start_time": "2022-06-22T12:51:43.621815",
     "status": "completed"
    },
    "tags": []
   },
   "outputs": [],
   "source": [
    "batch_size = 32\n",
    "n_epochs = 1000\n",
    "#Select the device \n",
    "device = torch.device('cuda' if torch.cuda.is_available() else 'cpu')"
   ]
  },
  {
   "cell_type": "markdown",
   "id": "a95e1600",
   "metadata": {
    "id": "a95e1600",
    "papermill": {
     "duration": 0.025738,
     "end_time": "2022-06-22T12:51:43.696065",
     "exception": false,
     "start_time": "2022-06-22T12:51:43.670327",
     "status": "completed"
    },
    "tags": []
   },
   "source": [
    "# ABC Pre-generator Model \n",
    "\n",
    "1. The catboost model is used as a pre-generator model for the ABC-GAN. \n",
    "2. The model is first trained on the entire dataset \n",
    "3. It generats X,Y pairs and we add some Gaussian noise with mean 0 and variance 1 to it which is then feed as input to the generator.\n"
   ]
  },
  {
   "cell_type": "code",
   "execution_count": 9,
   "id": "ff8ce7bd",
   "metadata": {
    "execution": {
     "iopub.execute_input": "2022-06-22T12:51:43.735347Z",
     "iopub.status.busy": "2022-06-22T12:51:43.734546Z",
     "iopub.status.idle": "2022-06-22T12:52:02.014386Z",
     "shell.execute_reply": "2022-06-22T12:52:02.015013Z"
    },
    "id": "ff8ce7bd",
    "papermill": {
     "duration": 18.301349,
     "end_time": "2022-06-22T12:52:02.015249",
     "exception": false,
     "start_time": "2022-06-22T12:51:43.713900",
     "status": "completed"
    },
    "tags": []
   },
   "outputs": [
    {
     "name": "stdout",
     "output_type": "stream",
     "text": [
      "Device used : cpu\n"
     ]
    },
    {
     "name": "stdout",
     "output_type": "stream",
     "text": [
      "epoch 0  | loss: 1.08175 | train_mse: 3.77261 | train_mae: 1.48313 |  0:00:00s\n",
      "epoch 1  | loss: 0.43487 | train_mse: 4.4236  | train_mae: 1.59144 |  0:00:00s\n",
      "epoch 2  | loss: 0.42271 | train_mse: 4.4134  | train_mae: 1.53365 |  0:00:00s\n",
      "epoch 3  | loss: 0.66326 | train_mse: 1.69731 | train_mae: 0.98997 |  0:00:00s\n"
     ]
    },
    {
     "name": "stdout",
     "output_type": "stream",
     "text": [
      "epoch 4  | loss: 0.44714 | train_mse: 1.10248 | train_mae: 0.81292 |  0:00:00s\n",
      "epoch 5  | loss: 0.31872 | train_mse: 1.42039 | train_mae: 0.84695 |  0:00:00s\n",
      "epoch 6  | loss: 0.34016 | train_mse: 2.03356 | train_mae: 0.99636 |  0:00:00s\n"
     ]
    },
    {
     "name": "stdout",
     "output_type": "stream",
     "text": [
      "epoch 7  | loss: 0.23753 | train_mse: 1.64699 | train_mae: 0.8995  |  0:00:00s\n",
      "epoch 8  | loss: 0.2849  | train_mse: 0.79478 | train_mae: 0.61935 |  0:00:00s\n",
      "epoch 9  | loss: 0.27234 | train_mse: 0.87896 | train_mae: 0.6542  |  0:00:00s\n"
     ]
    },
    {
     "name": "stdout",
     "output_type": "stream",
     "text": [
      "epoch 10 | loss: 0.29268 | train_mse: 1.17308 | train_mae: 0.80737 |  0:00:00s\n",
      "epoch 11 | loss: 0.23974 | train_mse: 1.41395 | train_mae: 0.84082 |  0:00:00s\n",
      "epoch 12 | loss: 0.21556 | train_mse: 0.96476 | train_mae: 0.66547 |  0:00:01s\n"
     ]
    },
    {
     "name": "stdout",
     "output_type": "stream",
     "text": [
      "epoch 13 | loss: 0.18013 | train_mse: 0.59418 | train_mae: 0.53215 |  0:00:01s\n",
      "epoch 14 | loss: 0.33849 | train_mse: 0.4434  | train_mae: 0.47911 |  0:00:01s\n",
      "epoch 15 | loss: 0.3478  | train_mse: 0.43472 | train_mae: 0.48879 |  0:00:01s\n"
     ]
    },
    {
     "name": "stdout",
     "output_type": "stream",
     "text": [
      "epoch 16 | loss: 0.30302 | train_mse: 0.48599 | train_mae: 0.51782 |  0:00:01s\n",
      "epoch 17 | loss: 0.17368 | train_mse: 0.46834 | train_mae: 0.50453 |  0:00:01s\n",
      "epoch 18 | loss: 0.25376 | train_mse: 0.47446 | train_mae: 0.5013  |  0:00:01s\n"
     ]
    },
    {
     "name": "stdout",
     "output_type": "stream",
     "text": [
      "epoch 19 | loss: 0.1674  | train_mse: 0.47073 | train_mae: 0.49198 |  0:00:01s\n",
      "epoch 20 | loss: 0.20612 | train_mse: 0.52674 | train_mae: 0.51796 |  0:00:01s\n",
      "epoch 21 | loss: 0.26996 | train_mse: 0.51594 | train_mae: 0.52283 |  0:00:01s\n"
     ]
    },
    {
     "name": "stdout",
     "output_type": "stream",
     "text": [
      "epoch 22 | loss: 0.18206 | train_mse: 0.43903 | train_mae: 0.4989  |  0:00:01s\n",
      "epoch 23 | loss: 0.13282 | train_mse: 0.24659 | train_mae: 0.39749 |  0:00:02s\n",
      "epoch 24 | loss: 0.2401  | train_mse: 0.16125 | train_mae: 0.3179  |  0:00:02s\n"
     ]
    },
    {
     "name": "stdout",
     "output_type": "stream",
     "text": [
      "epoch 25 | loss: 0.21362 | train_mse: 0.16459 | train_mae: 0.31413 |  0:00:02s\n",
      "epoch 26 | loss: 0.29741 | train_mse: 0.17248 | train_mae: 0.31913 |  0:00:02s\n",
      "epoch 27 | loss: 0.14424 | train_mse: 0.18826 | train_mae: 0.34194 |  0:00:02s\n"
     ]
    },
    {
     "name": "stdout",
     "output_type": "stream",
     "text": [
      "epoch 28 | loss: 0.19422 | train_mse: 0.25296 | train_mae: 0.37842 |  0:00:02s\n",
      "epoch 29 | loss: 0.17837 | train_mse: 0.38783 | train_mae: 0.45485 |  0:00:03s\n"
     ]
    },
    {
     "name": "stdout",
     "output_type": "stream",
     "text": [
      "epoch 30 | loss: 0.18921 | train_mse: 0.40379 | train_mae: 0.47459 |  0:00:03s\n",
      "epoch 31 | loss: 0.20515 | train_mse: 0.24381 | train_mae: 0.36402 |  0:00:03s\n",
      "epoch 32 | loss: 0.14298 | train_mse: 0.23258 | train_mae: 0.34629 |  0:00:03s\n"
     ]
    },
    {
     "name": "stdout",
     "output_type": "stream",
     "text": [
      "epoch 33 | loss: 0.28584 | train_mse: 0.22737 | train_mae: 0.35812 |  0:00:03s\n",
      "epoch 34 | loss: 0.22724 | train_mse: 0.25188 | train_mae: 0.38848 |  0:00:03s\n",
      "epoch 35 | loss: 0.18041 | train_mse: 0.19193 | train_mae: 0.34623 |  0:00:03s\n"
     ]
    },
    {
     "name": "stdout",
     "output_type": "stream",
     "text": [
      "epoch 36 | loss: 0.1864  | train_mse: 0.14065 | train_mae: 0.29958 |  0:00:03s\n",
      "epoch 37 | loss: 0.1607  | train_mse: 0.11333 | train_mae: 0.26551 |  0:00:03s\n",
      "epoch 38 | loss: 0.33574 | train_mse: 0.1098  | train_mae: 0.25782 |  0:00:03s\n"
     ]
    },
    {
     "name": "stdout",
     "output_type": "stream",
     "text": [
      "epoch 39 | loss: 0.19171 | train_mse: 0.11075 | train_mae: 0.26652 |  0:00:04s\n",
      "epoch 40 | loss: 0.12026 | train_mse: 0.22129 | train_mae: 0.37213 |  0:00:04s\n",
      "epoch 41 | loss: 0.12913 | train_mse: 0.35178 | train_mae: 0.44923 |  0:00:04s\n"
     ]
    },
    {
     "name": "stdout",
     "output_type": "stream",
     "text": [
      "epoch 42 | loss: 0.23928 | train_mse: 0.30617 | train_mae: 0.41856 |  0:00:04s\n",
      "epoch 43 | loss: 0.1499  | train_mse: 0.30252 | train_mae: 0.40675 |  0:00:04s\n",
      "epoch 44 | loss: 0.15518 | train_mse: 0.38753 | train_mae: 0.45092 |  0:00:04s\n"
     ]
    },
    {
     "name": "stdout",
     "output_type": "stream",
     "text": [
      "epoch 45 | loss: 0.17785 | train_mse: 0.37735 | train_mae: 0.44984 |  0:00:04s\n",
      "epoch 46 | loss: 0.17437 | train_mse: 0.46478 | train_mae: 0.49618 |  0:00:04s\n"
     ]
    },
    {
     "name": "stdout",
     "output_type": "stream",
     "text": [
      "epoch 47 | loss: 0.14053 | train_mse: 0.41024 | train_mae: 0.44924 |  0:00:04s\n",
      "epoch 48 | loss: 0.1409  | train_mse: 0.44691 | train_mae: 0.46037 |  0:00:04s\n"
     ]
    },
    {
     "name": "stdout",
     "output_type": "stream",
     "text": [
      "epoch 49 | loss: 0.17984 | train_mse: 0.36865 | train_mae: 0.42807 |  0:00:05s\n",
      "epoch 50 | loss: 0.50958 | train_mse: 0.33674 | train_mae: 0.4157  |  0:00:05s\n"
     ]
    },
    {
     "name": "stdout",
     "output_type": "stream",
     "text": [
      "epoch 51 | loss: 0.16816 | train_mse: 0.26349 | train_mae: 0.38411 |  0:00:05s\n",
      "epoch 52 | loss: 0.17524 | train_mse: 0.2444  | train_mae: 0.38006 |  0:00:05s\n",
      "epoch 53 | loss: 0.13301 | train_mse: 0.17052 | train_mae: 0.31563 |  0:00:05s\n"
     ]
    },
    {
     "name": "stdout",
     "output_type": "stream",
     "text": [
      "epoch 54 | loss: 0.11899 | train_mse: 0.15439 | train_mae: 0.30224 |  0:00:05s\n",
      "epoch 55 | loss: 0.21859 | train_mse: 0.16545 | train_mae: 0.30905 |  0:00:05s\n"
     ]
    },
    {
     "name": "stdout",
     "output_type": "stream",
     "text": [
      "epoch 56 | loss: 0.16136 | train_mse: 0.14802 | train_mae: 0.29387 |  0:00:05s\n",
      "epoch 57 | loss: 0.08312 | train_mse: 0.12506 | train_mae: 0.28267 |  0:00:05s\n",
      "epoch 58 | loss: 0.20316 | train_mse: 0.12294 | train_mae: 0.27981 |  0:00:05s\n"
     ]
    },
    {
     "name": "stdout",
     "output_type": "stream",
     "text": [
      "epoch 59 | loss: 0.10487 | train_mse: 0.11284 | train_mae: 0.26286 |  0:00:06s\n",
      "epoch 60 | loss: 0.14292 | train_mse: 0.13635 | train_mae: 0.26059 |  0:00:06s\n",
      "epoch 61 | loss: 0.1787  | train_mse: 0.09953 | train_mae: 0.23895 |  0:00:06s\n"
     ]
    },
    {
     "name": "stdout",
     "output_type": "stream",
     "text": [
      "epoch 62 | loss: 0.24652 | train_mse: 0.09748 | train_mae: 0.24402 |  0:00:06s\n",
      "epoch 63 | loss: 0.14528 | train_mse: 0.09669 | train_mae: 0.24629 |  0:00:06s\n",
      "epoch 64 | loss: 0.27245 | train_mse: 0.09493 | train_mae: 0.24087 |  0:00:06s\n"
     ]
    },
    {
     "name": "stdout",
     "output_type": "stream",
     "text": [
      "epoch 65 | loss: 0.1269  | train_mse: 0.09163 | train_mae: 0.2324  |  0:00:06s\n",
      "epoch 66 | loss: 0.1266  | train_mse: 0.0814  | train_mae: 0.22066 |  0:00:06s\n",
      "epoch 67 | loss: 0.12638 | train_mse: 0.08256 | train_mae: 0.22471 |  0:00:06s\n"
     ]
    },
    {
     "name": "stdout",
     "output_type": "stream",
     "text": [
      "epoch 68 | loss: 0.26546 | train_mse: 0.09226 | train_mae: 0.23461 |  0:00:06s\n",
      "epoch 69 | loss: 0.09563 | train_mse: 0.09495 | train_mae: 0.2311  |  0:00:06s\n",
      "epoch 70 | loss: 0.17632 | train_mse: 0.09477 | train_mae: 0.22416 |  0:00:06s\n"
     ]
    },
    {
     "name": "stdout",
     "output_type": "stream",
     "text": [
      "epoch 71 | loss: 0.13152 | train_mse: 0.10591 | train_mae: 0.22993 |  0:00:06s\n",
      "epoch 72 | loss: 0.14718 | train_mse: 0.07085 | train_mae: 0.20119 |  0:00:06s\n",
      "epoch 73 | loss: 0.12383 | train_mse: 0.08007 | train_mae: 0.21965 |  0:00:07s\n"
     ]
    },
    {
     "name": "stdout",
     "output_type": "stream",
     "text": [
      "epoch 74 | loss: 0.10778 | train_mse: 0.10998 | train_mae: 0.25319 |  0:00:07s\n",
      "epoch 75 | loss: 0.31844 | train_mse: 0.11493 | train_mae: 0.26096 |  0:00:07s\n",
      "epoch 76 | loss: 0.13828 | train_mse: 0.07123 | train_mae: 0.20615 |  0:00:07s\n"
     ]
    },
    {
     "name": "stdout",
     "output_type": "stream",
     "text": [
      "epoch 77 | loss: 0.10895 | train_mse: 0.06853 | train_mae: 0.20243 |  0:00:07s\n",
      "epoch 78 | loss: 0.1425  | train_mse: 0.07139 | train_mae: 0.1965  |  0:00:07s\n",
      "epoch 79 | loss: 0.11553 | train_mse: 0.089   | train_mae: 0.22623 |  0:00:07s\n"
     ]
    },
    {
     "name": "stdout",
     "output_type": "stream",
     "text": [
      "epoch 80 | loss: 0.09891 | train_mse: 0.11106 | train_mae: 0.25401 |  0:00:07s\n",
      "epoch 81 | loss: 0.21323 | train_mse: 0.09068 | train_mae: 0.22628 |  0:00:07s\n",
      "epoch 82 | loss: 0.20661 | train_mse: 0.08681 | train_mae: 0.22559 |  0:00:07s\n"
     ]
    },
    {
     "name": "stdout",
     "output_type": "stream",
     "text": [
      "epoch 83 | loss: 0.12309 | train_mse: 0.06935 | train_mae: 0.20727 |  0:00:07s\n",
      "epoch 84 | loss: 0.10714 | train_mse: 0.0684  | train_mae: 0.21166 |  0:00:07s\n",
      "epoch 85 | loss: 0.26047 | train_mse: 0.07525 | train_mae: 0.22178 |  0:00:08s\n"
     ]
    },
    {
     "name": "stdout",
     "output_type": "stream",
     "text": [
      "epoch 86 | loss: 0.29602 | train_mse: 0.10933 | train_mae: 0.26026 |  0:00:08s\n",
      "epoch 87 | loss: 0.16912 | train_mse: 0.10113 | train_mae: 0.24837 |  0:00:08s\n",
      "epoch 88 | loss: 0.10148 | train_mse: 0.08618 | train_mae: 0.22274 |  0:00:08s\n",
      "epoch 89 | loss: 0.14814 | train_mse: 0.07842 | train_mae: 0.21008 |  0:00:08s\n"
     ]
    },
    {
     "name": "stdout",
     "output_type": "stream",
     "text": [
      "epoch 90 | loss: 0.16682 | train_mse: 0.0725  | train_mae: 0.20401 |  0:00:08s\n",
      "epoch 91 | loss: 0.11352 | train_mse: 0.06353 | train_mae: 0.19608 |  0:00:08s\n",
      "epoch 92 | loss: 0.13947 | train_mse: 0.07877 | train_mae: 0.2198  |  0:00:08s\n",
      "epoch 93 | loss: 0.13329 | train_mse: 0.09133 | train_mae: 0.24008 |  0:00:08s\n"
     ]
    },
    {
     "name": "stdout",
     "output_type": "stream",
     "text": [
      "epoch 94 | loss: 0.151   | train_mse: 0.08294 | train_mae: 0.22746 |  0:00:08s\n",
      "epoch 95 | loss: 0.11387 | train_mse: 0.10421 | train_mae: 0.24956 |  0:00:08s\n",
      "epoch 96 | loss: 0.1381  | train_mse: 0.10825 | train_mae: 0.25241 |  0:00:08s\n"
     ]
    },
    {
     "name": "stdout",
     "output_type": "stream",
     "text": [
      "epoch 97 | loss: 0.1448  | train_mse: 0.09016 | train_mae: 0.23947 |  0:00:08s\n",
      "epoch 98 | loss: 0.19427 | train_mse: 0.07553 | train_mae: 0.22799 |  0:00:08s\n",
      "epoch 99 | loss: 0.07334 | train_mse: 0.06426 | train_mae: 0.2056  |  0:00:09s\n"
     ]
    },
    {
     "name": "stdout",
     "output_type": "stream",
     "text": [
      "epoch 100| loss: 0.14006 | train_mse: 0.07063 | train_mae: 0.20106 |  0:00:09s\n",
      "epoch 101| loss: 0.25869 | train_mse: 0.10942 | train_mae: 0.25131 |  0:00:09s\n",
      "epoch 102| loss: 0.12506 | train_mse: 0.07086 | train_mae: 0.19918 |  0:00:09s\n",
      "epoch 103| loss: 0.0646  | train_mse: 0.0482  | train_mae: 0.16587 |  0:00:09s\n"
     ]
    },
    {
     "name": "stdout",
     "output_type": "stream",
     "text": [
      "epoch 104| loss: 0.12367 | train_mse: 0.05043 | train_mae: 0.17696 |  0:00:09s\n",
      "epoch 105| loss: 0.14686 | train_mse: 0.05264 | train_mae: 0.18022 |  0:00:09s\n",
      "epoch 106| loss: 0.1155  | train_mse: 0.06014 | train_mae: 0.18871 |  0:00:09s\n",
      "epoch 107| loss: 0.11082 | train_mse: 0.06988 | train_mae: 0.20738 |  0:00:09s\n"
     ]
    },
    {
     "name": "stdout",
     "output_type": "stream",
     "text": [
      "epoch 108| loss: 0.09982 | train_mse: 0.06545 | train_mae: 0.19934 |  0:00:09s\n",
      "epoch 109| loss: 0.14325 | train_mse: 0.06128 | train_mae: 0.1993  |  0:00:09s\n",
      "epoch 110| loss: 0.2084  | train_mse: 0.05853 | train_mae: 0.19215 |  0:00:09s\n"
     ]
    },
    {
     "name": "stdout",
     "output_type": "stream",
     "text": [
      "epoch 111| loss: 0.10505 | train_mse: 0.05573 | train_mae: 0.18328 |  0:00:09s\n",
      "epoch 112| loss: 0.1791  | train_mse: 0.05009 | train_mae: 0.17765 |  0:00:09s\n",
      "epoch 113| loss: 0.16571 | train_mse: 0.04726 | train_mae: 0.17226 |  0:00:09s\n",
      "epoch 114| loss: 0.06467 | train_mse: 0.09014 | train_mae: 0.23612 |  0:00:10s\n"
     ]
    },
    {
     "name": "stdout",
     "output_type": "stream",
     "text": [
      "epoch 115| loss: 0.15668 | train_mse: 0.14166 | train_mae: 0.28509 |  0:00:10s\n",
      "epoch 116| loss: 0.07746 | train_mse: 0.14322 | train_mae: 0.28853 |  0:00:10s\n",
      "epoch 117| loss: 0.08289 | train_mse: 0.08861 | train_mae: 0.23842 |  0:00:10s\n",
      "epoch 118| loss: 0.08091 | train_mse: 0.06573 | train_mae: 0.21191 |  0:00:10s\n"
     ]
    },
    {
     "name": "stdout",
     "output_type": "stream",
     "text": [
      "epoch 119| loss: 0.12307 | train_mse: 0.05306 | train_mae: 0.19042 |  0:00:10s\n",
      "epoch 120| loss: 0.16905 | train_mse: 0.04691 | train_mae: 0.17366 |  0:00:10s\n",
      "epoch 121| loss: 0.09911 | train_mse: 0.05142 | train_mae: 0.18513 |  0:00:10s\n",
      "epoch 122| loss: 0.20103 | train_mse: 0.06302 | train_mae: 0.2019  |  0:00:10s\n"
     ]
    },
    {
     "name": "stdout",
     "output_type": "stream",
     "text": [
      "epoch 123| loss: 0.06217 | train_mse: 0.05657 | train_mae: 0.19066 |  0:00:10s\n",
      "epoch 124| loss: 0.21959 | train_mse: 0.06486 | train_mae: 0.20705 |  0:00:10s\n",
      "epoch 125| loss: 0.09712 | train_mse: 0.04996 | train_mae: 0.18279 |  0:00:10s\n"
     ]
    },
    {
     "name": "stdout",
     "output_type": "stream",
     "text": [
      "epoch 126| loss: 0.24138 | train_mse: 0.04204 | train_mae: 0.16548 |  0:00:10s\n",
      "epoch 127| loss: 0.08271 | train_mse: 0.04443 | train_mae: 0.17005 |  0:00:10s\n",
      "epoch 128| loss: 0.09449 | train_mse: 0.03841 | train_mae: 0.15914 |  0:00:11s\n"
     ]
    },
    {
     "name": "stdout",
     "output_type": "stream",
     "text": [
      "epoch 129| loss: 0.08306 | train_mse: 0.04087 | train_mae: 0.16438 |  0:00:11s\n",
      "epoch 130| loss: 0.07987 | train_mse: 0.03836 | train_mae: 0.15776 |  0:00:11s\n",
      "epoch 131| loss: 0.0814  | train_mse: 0.03838 | train_mae: 0.16033 |  0:00:11s\n",
      "epoch 132| loss: 0.07437 | train_mse: 0.04114 | train_mae: 0.16434 |  0:00:11s\n"
     ]
    },
    {
     "name": "stdout",
     "output_type": "stream",
     "text": [
      "epoch 133| loss: 0.09484 | train_mse: 0.04124 | train_mae: 0.15765 |  0:00:11s\n",
      "epoch 134| loss: 0.1254  | train_mse: 0.04871 | train_mae: 0.16664 |  0:00:11s\n",
      "epoch 135| loss: 0.16802 | train_mse: 0.06423 | train_mae: 0.1845  |  0:00:11s\n"
     ]
    },
    {
     "name": "stdout",
     "output_type": "stream",
     "text": [
      "epoch 136| loss: 0.09876 | train_mse: 0.07228 | train_mae: 0.19397 |  0:00:11s\n",
      "epoch 137| loss: 0.1143  | train_mse: 0.06111 | train_mae: 0.18052 |  0:00:11s\n",
      "epoch 138| loss: 0.08951 | train_mse: 0.0493  | train_mae: 0.17456 |  0:00:11s\n"
     ]
    },
    {
     "name": "stdout",
     "output_type": "stream",
     "text": [
      "epoch 139| loss: 0.15555 | train_mse: 0.0462  | train_mae: 0.17015 |  0:00:11s\n",
      "epoch 140| loss: 0.18258 | train_mse: 0.04605 | train_mae: 0.16507 |  0:00:11s\n",
      "epoch 141| loss: 0.10225 | train_mse: 0.04056 | train_mae: 0.15646 |  0:00:11s\n"
     ]
    },
    {
     "name": "stdout",
     "output_type": "stream",
     "text": [
      "epoch 142| loss: 0.09968 | train_mse: 0.04099 | train_mae: 0.15567 |  0:00:12s\n",
      "epoch 143| loss: 0.12478 | train_mse: 0.0413  | train_mae: 0.15958 |  0:00:12s\n",
      "epoch 144| loss: 0.07141 | train_mse: 0.0491  | train_mae: 0.17974 |  0:00:12s\n"
     ]
    },
    {
     "name": "stdout",
     "output_type": "stream",
     "text": [
      "epoch 145| loss: 0.09575 | train_mse: 0.05018 | train_mae: 0.18159 |  0:00:12s\n",
      "epoch 146| loss: 0.08426 | train_mse: 0.04935 | train_mae: 0.17616 |  0:00:12s\n",
      "epoch 147| loss: 0.08451 | train_mse: 0.04785 | train_mae: 0.17187 |  0:00:12s\n",
      "epoch 148| loss: 0.12373 | train_mse: 0.05281 | train_mae: 0.17829 |  0:00:12s\n"
     ]
    },
    {
     "name": "stdout",
     "output_type": "stream",
     "text": [
      "epoch 149| loss: 0.09268 | train_mse: 0.04859 | train_mae: 0.17246 |  0:00:12s\n",
      "epoch 150| loss: 0.14962 | train_mse: 0.04857 | train_mae: 0.17199 |  0:00:12s\n",
      "epoch 151| loss: 0.08082 | train_mse: 0.05287 | train_mae: 0.17817 |  0:00:12s\n"
     ]
    },
    {
     "name": "stdout",
     "output_type": "stream",
     "text": [
      "epoch 152| loss: 0.0898  | train_mse: 0.05541 | train_mae: 0.18167 |  0:00:12s\n",
      "epoch 153| loss: 0.06767 | train_mse: 0.05466 | train_mae: 0.17526 |  0:00:12s\n",
      "epoch 154| loss: 0.20555 | train_mse: 0.05739 | train_mae: 0.18376 |  0:00:12s\n"
     ]
    },
    {
     "name": "stdout",
     "output_type": "stream",
     "text": [
      "epoch 155| loss: 0.25523 | train_mse: 0.04738 | train_mae: 0.16676 |  0:00:12s\n",
      "epoch 156| loss: 0.08726 | train_mse: 0.04292 | train_mae: 0.16063 |  0:00:13s\n",
      "epoch 157| loss: 0.11263 | train_mse: 0.04587 | train_mae: 0.17104 |  0:00:13s\n"
     ]
    },
    {
     "name": "stdout",
     "output_type": "stream",
     "text": [
      "epoch 158| loss: 0.09116 | train_mse: 0.04787 | train_mae: 0.17534 |  0:00:13s\n",
      "epoch 159| loss: 0.06653 | train_mse: 0.04575 | train_mae: 0.17136 |  0:00:13s\n",
      "epoch 160| loss: 0.11614 | train_mse: 0.04932 | train_mae: 0.17197 |  0:00:13s\n"
     ]
    },
    {
     "name": "stdout",
     "output_type": "stream",
     "text": [
      "epoch 161| loss: 0.07401 | train_mse: 0.03939 | train_mae: 0.1539  |  0:00:13s\n",
      "epoch 162| loss: 0.08288 | train_mse: 0.03534 | train_mae: 0.1471  |  0:00:13s\n",
      "epoch 163| loss: 0.12879 | train_mse: 0.04537 | train_mae: 0.16896 |  0:00:13s\n"
     ]
    },
    {
     "name": "stdout",
     "output_type": "stream",
     "text": [
      "epoch 164| loss: 0.1299  | train_mse: 0.06137 | train_mae: 0.19205 |  0:00:13s\n",
      "epoch 165| loss: 0.11402 | train_mse: 0.0538  | train_mae: 0.18237 |  0:00:13s\n",
      "epoch 166| loss: 0.22703 | train_mse: 0.05849 | train_mae: 0.18835 |  0:00:14s\n"
     ]
    },
    {
     "name": "stdout",
     "output_type": "stream",
     "text": [
      "epoch 167| loss: 0.21384 | train_mse: 0.0613  | train_mae: 0.19126 |  0:00:14s\n",
      "epoch 168| loss: 0.06324 | train_mse: 0.06135 | train_mae: 0.18837 |  0:00:14s\n"
     ]
    },
    {
     "name": "stdout",
     "output_type": "stream",
     "text": [
      "epoch 169| loss: 0.09943 | train_mse: 0.05261 | train_mae: 0.17548 |  0:00:14s\n",
      "epoch 170| loss: 0.14856 | train_mse: 0.04822 | train_mae: 0.1793  |  0:00:14s\n",
      "epoch 171| loss: 0.11136 | train_mse: 0.05461 | train_mae: 0.19088 |  0:00:14s\n"
     ]
    },
    {
     "name": "stdout",
     "output_type": "stream",
     "text": [
      "epoch 172| loss: 0.11353 | train_mse: 0.076   | train_mae: 0.21343 |  0:00:14s\n",
      "epoch 173| loss: 0.07059 | train_mse: 0.12523 | train_mae: 0.24599 |  0:00:14s\n"
     ]
    },
    {
     "name": "stdout",
     "output_type": "stream",
     "text": [
      "epoch 174| loss: 0.10058 | train_mse: 0.13508 | train_mae: 0.24934 |  0:00:14s\n",
      "epoch 175| loss: 0.09197 | train_mse: 0.08878 | train_mae: 0.22406 |  0:00:14s\n",
      "epoch 176| loss: 0.10276 | train_mse: 0.09811 | train_mae: 0.23646 |  0:00:15s"
     ]
    },
    {
     "name": "stdout",
     "output_type": "stream",
     "text": [
      "\n",
      "epoch 177| loss: 0.06835 | train_mse: 0.08688 | train_mae: 0.22907 |  0:00:15s\n",
      "epoch 178| loss: 0.17175 | train_mse: 0.06548 | train_mae: 0.19244 |  0:00:15s\n"
     ]
    },
    {
     "name": "stdout",
     "output_type": "stream",
     "text": [
      "epoch 179| loss: 0.0949  | train_mse: 0.08172 | train_mae: 0.21651 |  0:00:15s\n",
      "epoch 180| loss: 0.09959 | train_mse: 0.09481 | train_mae: 0.23395 |  0:00:15s\n",
      "epoch 181| loss: 0.10571 | train_mse: 0.10299 | train_mae: 0.24064 |  0:00:15s"
     ]
    },
    {
     "name": "stdout",
     "output_type": "stream",
     "text": [
      "\n",
      "epoch 182| loss: 0.12716 | train_mse: 0.08026 | train_mae: 0.22694 |  0:00:15s\n",
      "epoch 183| loss: 0.11572 | train_mse: 0.07619 | train_mae: 0.21019 |  0:00:15s\n"
     ]
    },
    {
     "name": "stdout",
     "output_type": "stream",
     "text": [
      "epoch 184| loss: 0.1095  | train_mse: 0.08043 | train_mae: 0.21061 |  0:00:15s\n",
      "epoch 185| loss: 0.13253 | train_mse: 0.10104 | train_mae: 0.2359  |  0:00:15s\n",
      "epoch 186| loss: 0.10529 | train_mse: 0.07795 | train_mae: 0.21112 |  0:00:16s\n"
     ]
    },
    {
     "name": "stdout",
     "output_type": "stream",
     "text": [
      "epoch 187| loss: 0.15569 | train_mse: 0.08516 | train_mae: 0.22005 |  0:00:16s\n",
      "epoch 188| loss: 0.06515 | train_mse: 0.10118 | train_mae: 0.23778 |  0:00:16s\n",
      "epoch 189| loss: 0.10274 | train_mse: 0.09759 | train_mae: 0.23435 |  0:00:16s\n"
     ]
    },
    {
     "name": "stdout",
     "output_type": "stream",
     "text": [
      "epoch 190| loss: 0.17425 | train_mse: 0.07854 | train_mae: 0.21965 |  0:00:16s\n",
      "epoch 191| loss: 0.05409 | train_mse: 0.08735 | train_mae: 0.23115 |  0:00:16s\n",
      "epoch 192| loss: 0.0763  | train_mse: 0.08009 | train_mae: 0.21941 |  0:00:16s\n"
     ]
    },
    {
     "name": "stdout",
     "output_type": "stream",
     "text": [
      "epoch 193| loss: 0.16173 | train_mse: 0.0744  | train_mae: 0.2087  |  0:00:16s\n",
      "epoch 194| loss: 0.13848 | train_mse: 0.05789 | train_mae: 0.19273 |  0:00:16s\n",
      "epoch 195| loss: 0.10974 | train_mse: 0.06079 | train_mae: 0.19439 |  0:00:16s\n"
     ]
    },
    {
     "name": "stdout",
     "output_type": "stream",
     "text": [
      "epoch 196| loss: 0.08354 | train_mse: 0.06197 | train_mae: 0.19145 |  0:00:16s\n",
      "epoch 197| loss: 0.12372 | train_mse: 0.06082 | train_mae: 0.19028 |  0:00:16s\n",
      "epoch 198| loss: 0.09731 | train_mse: 0.05423 | train_mae: 0.17431 |  0:00:17s\n"
     ]
    },
    {
     "name": "stdout",
     "output_type": "stream",
     "text": [
      "epoch 199| loss: 0.18377 | train_mse: 0.05433 | train_mae: 0.17583 |  0:00:17s\n",
      "epoch 200| loss: 0.07123 | train_mse: 0.04548 | train_mae: 0.16643 |  0:00:17s\n"
     ]
    },
    {
     "name": "stdout",
     "output_type": "stream",
     "text": [
      "epoch 201| loss: 0.10459 | train_mse: 0.04531 | train_mae: 0.16655 |  0:00:17s\n",
      "epoch 202| loss: 0.10607 | train_mse: 0.05172 | train_mae: 0.16962 |  0:00:17s\n",
      "epoch 203| loss: 0.06047 | train_mse: 0.06099 | train_mae: 0.17798 |  0:00:17s\n",
      "epoch 204| loss: 0.09115 | train_mse: 0.05253 | train_mae: 0.17289 |  0:00:17s\n"
     ]
    },
    {
     "name": "stdout",
     "output_type": "stream",
     "text": [
      "epoch 205| loss: 0.06497 | train_mse: 0.04529 | train_mae: 0.16802 |  0:00:17s\n",
      "epoch 206| loss: 0.13739 | train_mse: 0.04215 | train_mae: 0.16377 |  0:00:17s\n"
     ]
    },
    {
     "name": "stdout",
     "output_type": "stream",
     "text": [
      "epoch 207| loss: 0.26028 | train_mse: 0.05005 | train_mae: 0.18179 |  0:00:17s\n",
      "epoch 208| loss: 0.15657 | train_mse: 0.04555 | train_mae: 0.17185 |  0:00:17s\n",
      "epoch 209| loss: 0.14523 | train_mse: 0.06635 | train_mae: 0.18584 |  0:00:18s\n"
     ]
    },
    {
     "name": "stdout",
     "output_type": "stream",
     "text": [
      "epoch 210| loss: 0.13788 | train_mse: 0.08075 | train_mae: 0.20651 |  0:00:18s\n",
      "epoch 211| loss: 0.09748 | train_mse: 0.07571 | train_mae: 0.20648 |  0:00:18s\n",
      "epoch 212| loss: 0.07983 | train_mse: 0.09018 | train_mae: 0.22341 |  0:00:18s\n",
      "\n",
      "Early stopping occurred at epoch 212 with best_epoch = 162 and best_train_mae = 0.1471\n",
      "Best weights from best epoch are automatically used!\n"
     ]
    }
   ],
   "source": [
    "#Train the Model\n",
    "\n",
    "Y_train = np.reshape(Y_train, (-1, 1))\n",
    "Y_test = np.reshape(Y_test, (-1, 1))\n",
    "\n",
    "prior_model = TabNetRegressor(optimizer_fn=torch.optim.Adam, optimizer_params=dict(lr = 0.02),\n",
    "          #scheduler_params={\"step_size\":10, ], \"gamma\":0.9},\n",
    "          #scheduler_fn=torch.optim.lr_scheduler.StepLR\n",
    "          )  #TabNetRegressor()\n",
    "\n",
    "prior_model.fit(X_train,Y_train,eval_set=[(X_train, Y_train)],\n",
    "            eval_name=['train'], \n",
    "            eval_metric=[ 'mse', 'mae'], \n",
    "            max_epochs = n_epochs, \n",
    "            batch_size = batch_size,\n",
    "            patience=50\n",
    "            )"
   ]
  },
  {
   "cell_type": "code",
   "execution_count": 10,
   "id": "af65dcda",
   "metadata": {
    "execution": {
     "iopub.execute_input": "2022-06-22T12:52:02.103449Z",
     "iopub.status.busy": "2022-06-22T12:52:02.102553Z",
     "iopub.status.idle": "2022-06-22T12:52:02.127496Z",
     "shell.execute_reply": "2022-06-22T12:52:02.126970Z"
    },
    "id": "af65dcda",
    "papermill": {
     "duration": 0.075547,
     "end_time": "2022-06-22T12:52:02.127749",
     "exception": false,
     "start_time": "2022-06-22T12:52:02.052202",
     "status": "completed"
    },
    "tags": []
   },
   "outputs": [
    {
     "data": {
      "application/scrapbook.scrap.json+json": {
       "data": 0.20104443474506498,
       "encoder": "json",
       "name": "Prior Model MSE",
       "version": 1
      }
     },
     "metadata": {
      "scrapbook": {
       "data": true,
       "display": false,
       "name": "Prior Model MSE"
      }
     },
     "output_type": "display_data"
    },
    {
     "data": {
      "application/scrapbook.scrap.json+json": {
       "data": 0.1967190780495652,
       "encoder": "json",
       "name": "ABC Pre-generator MSE",
       "version": 1
      }
     },
     "metadata": {
      "scrapbook": {
       "data": true,
       "display": false,
       "name": "ABC Pre-generator MSE"
      }
     },
     "output_type": "display_data"
    },
    {
     "data": {
      "application/scrapbook.scrap.json+json": {
       "data": 0.33980128927357783,
       "encoder": "json",
       "name": "Prior Model MSE",
       "version": 1
      }
     },
     "metadata": {
      "scrapbook": {
       "data": true,
       "display": false,
       "name": "Prior Model MSE"
      }
     },
     "output_type": "display_data"
    },
    {
     "data": {
      "application/scrapbook.scrap.json+json": {
       "data": 0.33718121259454487,
       "encoder": "json",
       "name": "ABC Pre-generator MSE",
       "version": 1
      }
     },
     "metadata": {
      "scrapbook": {
       "data": true,
       "display": false,
       "name": "ABC Pre-generator MSE"
      }
     },
     "output_type": "display_data"
    }
   ],
   "source": [
    "y_pred = prior_model.predict(X_test)\n",
    "y_abc = y_pred + np.random.normal(0,variance, y_pred.shape) + bias \n",
    "mse = mean_squared_error(y_pred,Y_test)\n",
    "sb.glue(\"Prior Model MSE\",mse)\n",
    "mse = mean_squared_error(y_abc,Y_test)\n",
    "sb.glue(\"ABC Pre-generator MSE\",mse)\n",
    "mae = mean_absolute_error(y_pred,Y_test)\n",
    "sb.glue(\"Prior Model MSE\",mae)\n",
    "mae = mean_absolute_error(y_abc,Y_test)\n",
    "sb.glue(\"ABC Pre-generator MSE\",mae)"
   ]
  },
  {
   "cell_type": "markdown",
   "id": "25609da2",
   "metadata": {
    "papermill": {
     "duration": 0.042765,
     "end_time": "2022-06-22T12:52:02.205127",
     "exception": false,
     "start_time": "2022-06-22T12:52:02.162362",
     "status": "completed"
    },
    "tags": []
   },
   "source": [
    "# ABC GAN Model"
   ]
  },
  {
   "cell_type": "code",
   "execution_count": 11,
   "id": "dfc3464d",
   "metadata": {
    "execution": {
     "iopub.execute_input": "2022-06-22T12:52:02.283251Z",
     "iopub.status.busy": "2022-06-22T12:52:02.282585Z",
     "iopub.status.idle": "2022-06-22T12:52:02.284497Z",
     "shell.execute_reply": "2022-06-22T12:52:02.285143Z"
    },
    "papermill": {
     "duration": 0.043453,
     "end_time": "2022-06-22T12:52:02.285342",
     "exception": false,
     "start_time": "2022-06-22T12:52:02.241889",
     "status": "completed"
    },
    "tags": []
   },
   "outputs": [],
   "source": [
    "gen = network.Generator(n_features+1).to(device)\n",
    "disc = network.Discriminator(n_features+1).to(device)\n",
    "\n",
    "criterion = torch.nn.BCELoss()\n",
    "gen_opt = torch.optim.Adam(gen.parameters(), lr=0.001, betas=(0.5, 0.999))\n",
    "disc_opt = torch.optim.Adam(disc.parameters(), lr=0.001, betas=(0.5, 0.999))"
   ]
  },
  {
   "cell_type": "code",
   "execution_count": 12,
   "id": "b75fdd85",
   "metadata": {
    "execution": {
     "iopub.execute_input": "2022-06-22T12:52:02.430028Z",
     "iopub.status.busy": "2022-06-22T12:52:02.412364Z",
     "iopub.status.idle": "2022-06-22T12:52:49.300779Z",
     "shell.execute_reply": "2022-06-22T12:52:49.301541Z"
    },
    "papermill": {
     "duration": 46.970087,
     "end_time": "2022-06-22T12:52:49.301761",
     "exception": false,
     "start_time": "2022-06-22T12:52:02.331674",
     "status": "completed"
    },
    "tags": []
   },
   "outputs": [
    {
     "data": {
      "image/png": "[encoded data removed]",
      "text/plain": [
       "<Figure size 432x288 with 1 Axes>"
      ]
     },
     "metadata": {
      "needs_background": "light"
     },
     "output_type": "display_data"
    },
    {
     "data": {
      "image/png": "[encoded data removed]",
      "text/plain": [
       "<Figure size 432x288 with 1 Axes>"
      ]
     },
     "metadata": {
      "needs_background": "light"
     },
     "output_type": "display_data"
    }
   ],
   "source": [
    "#Training the ABC_GAN \n",
    "ABC_train_test2.training_GAN(disc,gen,disc_opt,gen_opt,train_data,batch_size,n_epochs,criterion,prior_model,variance,bias,device)"
   ]
  },
  {
   "cell_type": "code",
   "execution_count": 13,
   "id": "1fa7c368",
   "metadata": {
    "execution": {
     "iopub.execute_input": "2022-06-22T12:52:49.406269Z",
     "iopub.status.busy": "2022-06-22T12:52:49.404206Z",
     "iopub.status.idle": "2022-06-22T12:52:50.458362Z",
     "shell.execute_reply": "2022-06-22T12:52:50.458986Z"
    },
    "papermill": {
     "duration": 1.115801,
     "end_time": "2022-06-22T12:52:50.459222",
     "exception": false,
     "start_time": "2022-06-22T12:52:49.343421",
     "status": "completed"
    },
    "tags": []
   },
   "outputs": [
    {
     "data": {
      "application/scrapbook.scrap.json+json": {
       "data": 0.17687780298039632,
       "encoder": "json",
       "name": "ABC-GAN Model 1 MSE",
       "version": 1
      }
     },
     "metadata": {
      "scrapbook": {
       "data": true,
       "display": false,
       "name": "ABC-GAN Model 1 MSE"
      }
     },
     "output_type": "display_data"
    },
    {
     "data": {
      "application/scrapbook.scrap.json+json": {
       "data": 0.3208038947023451,
       "encoder": "json",
       "name": "ABC-GAN Model 1 MAE",
       "version": 1
      }
     },
     "metadata": {
      "scrapbook": {
       "data": true,
       "display": false,
       "name": "ABC-GAN Model 1 MAE"
      }
     },
     "output_type": "display_data"
    },
    {
     "data": {
      "application/scrapbook.scrap.json+json": {
       "data": 6.416077894046903,
       "encoder": "json",
       "name": "ABC-GAN Model 1 Manhattan Distance",
       "version": 1
      }
     },
     "metadata": {
      "scrapbook": {
       "data": true,
       "display": false,
       "name": "ABC-GAN Model 1 Manhattan Distance"
      }
     },
     "output_type": "display_data"
    },
    {
     "data": {
      "application/scrapbook.scrap.json+json": {
       "data": 1.8808193329721796,
       "encoder": "json",
       "name": "ABC-GAN Model 1 Euclidean distance",
       "version": 1
      }
     },
     "metadata": {
      "scrapbook": {
       "data": true,
       "display": false,
       "name": "ABC-GAN Model 1 Euclidean distance"
      }
     },
     "output_type": "display_data"
    },
    {
     "data": {
      "application/scrapbook.scrap.json+json": {
       "data": [
        [
         0.17462983879115496,
         0.17704992871336458,
         0.17481020358080177,
         0.1771645273462456,
         0.17792307399328594,
         0.1745344108883137,
         0.17477848100187737,
         0.1760716304251248,
         0.17865766224978694,
         0.17553437800571486,
         0.17789234233929987,
         0.17481512431021015,
         0.17589285606914457,
         0.17692743155204735,
         0.1746971748730243,
         0.1784491775858764,
         0.17766835425893773,
         0.175951228475769,
         0.1764131017409621,
         0.17926312728732857,
         0.1754733465993375,
         0.17546423487759372,
         0.17691808593996358,
         0.17515956835154683,
         0.174797770992445,
         0.1791679880152643,
         0.1784655042030614,
         0.1767000087657078,
         0.17893149767405916,
         0.178949140261946,
         0.17709234841626792,
         0.17849314104062777,
         0.17600600990726029,
         0.17780905544843145,
         0.1788625263995378,
         0.1783097082823327,
         0.17806428854314899,
         0.17621319078838837,
         0.17579219652443934,
         0.17978484788249963,
         0.1769628578370293,
         0.17655437687646208,
         0.17575283577860965,
         0.17985496730238024,
         0.17768128620990767,
         0.17820055729239517,
         0.1759658454081064,
         0.17876748062374737,
         0.17750846967186384,
         0.17465166048664904,
         0.1782614375897269,
         0.17585194760101155,
         0.17705170827875283,
         0.17818720300022955,
         0.17695045671787324,
         0.1770996710600931,
         0.17836131930779545,
         0.17648463383582702,
         0.1789927103606174,
         0.1776860506939452,
         0.17608934218120148,
         0.17611654208263555,
         0.17543300356428793,
         0.17919094163376187,
         0.17928078480775755,
         0.17444956494054303,
         0.17818064487133442,
         0.1768252914371749,
         0.17574498868227822,
         0.17430635335824324,
         0.17404146062008152,
         0.1765355003864381,
         0.1773685611168426,
         0.17829948812952207,
         0.176063032305962,
         0.17578163392772997,
         0.17663945483841884,
         0.17476746692617712,
         0.17748317926070575,
         0.17520162245937376,
         0.17509787602191101,
         0.17391888591046306,
         0.178856131931774,
         0.17837169942862144,
         0.1722266986375228,
         0.17766135993790172,
         0.17605531806445335,
         0.178047660560764,
         0.17569769734828386,
         0.17829596229835007,
         0.178249499213223,
         0.17488702060308334,
         0.17524925707586667,
         0.17526608439407046,
         0.17756607771397187,
         0.17775295818733078,
         0.1779840386301017,
         0.17761637163733357,
         0.1817316343530075,
         0.1770432202259748
        ],
        [
         0.31978931091725826,
         0.3204136364161968,
         0.32007177704945206,
         0.32055165618658066,
         0.32132101729512214,
         0.3176056726835668,
         0.3168409191071987,
         0.3197462297976017,
         0.32295599263161423,
         0.3180544003844261,
         0.3214084800332785,
         0.3175015482120216,
         0.32239301707595586,
         0.3227509010583162,
         0.3179413117468357,
         0.32389145269989966,
         0.3178356925956905,
         0.32070084074512123,
         0.3217087911441922,
         0.3252590592950583,
         0.3208721841685474,
         0.31651700511574743,
         0.32054069796577095,
         0.31968237198889254,
         0.3190731044858694,
         0.32428091280162336,
         0.32331989519298077,
         0.32022369280457497,
         0.3218300737440586,
         0.3215628765523434,
         0.32534503303468226,
         0.32209438951686026,
         0.31952036153525115,
         0.32203731425106524,
         0.32089218208566306,
         0.3221586553379893,
         0.32261783368885516,
         0.3207117922604084,
         0.3206928692758083,
         0.32374275494366883,
         0.31905460422858595,
         0.3190271217375994,
         0.32040509302169085,
         0.32258691601455214,
         0.32126362435519695,
         0.32246706783771517,
         0.32095657773315905,
         0.3208774756640196,
         0.323959625326097,
         0.31824771519750356,
         0.32039420679211617,
         0.32042714934796096,
         0.3199139075353742,
         0.323840344324708,
         0.3201704440638423,
         0.3213755123317242,
         0.3227003522217274,
         0.31743153687566517,
         0.32206065990030763,
         0.321290245000273,
         0.3215813606977463,
         0.32193684913218024,
         0.323192972317338,
         0.32562028560787437,
         0.3233789140358567,
         0.3152104467153549,
         0.3219957398250699,
         0.319938775524497,
         0.3187123714014888,
         0.31691173296421765,
         0.31884409990161655,
         0.31869205124676225,
         0.3225055932998657,
         0.3238208770751953,
         0.3198161999695003,
         0.32002768088132144,
         0.3192492160946131,
         0.318128886539489,
         0.3227618481963873,
         0.32086056042462585,
         0.3191540326923132,
         0.3173896297812462,
         0.32123193982988596,
         0.321106986887753,
         0.31807435154914854,
         0.32325268946588037,
         0.3190139900892973,
         0.32104329746216537,
         0.32009523417800667,
         0.323235918674618,
         0.32288784086704253,
         0.3194263283163309,
         0.3180333562195301,
         0.32012630961835387,
         0.3208394259214401,
         0.3205031922087073,
         0.32116689085960387,
         0.32287118174135687,
         0.32379228454083203,
         0.3190502401441336
        ],
        [
         6.395786218345165,
         6.4082727283239365,
         6.401435540989041,
         6.411033123731613,
         6.426420345902443,
         6.352113453671336,
         6.336818382143974,
         6.394924595952034,
         6.459119852632284,
         6.361088007688522,
         6.428169600665569,
         6.350030964240432,
         6.447860341519117,
         6.455018021166325,
         6.358826234936714,
         6.4778290539979935,
         6.35671385191381,
         6.414016814902425,
         6.434175822883844,
         6.505181185901165,
         6.417443683370948,
         6.330340102314949,
         6.410813959315419,
         6.393647439777851,
         6.381462089717388,
         6.485618256032467,
         6.466397903859615,
         6.404473856091499,
         6.436601474881172,
         6.431257531046867,
         6.5069006606936455,
         6.441887790337205,
         6.390407230705023,
         6.440746285021305,
         6.417843641713262,
         6.443173106759787,
         6.452356673777103,
         6.414235845208168,
         6.413857385516167,
         6.474855098873377,
         6.381092084571719,
         6.3805424347519875,
         6.408101860433817,
         6.451738320291042,
         6.425272487103939,
         6.449341356754303,
         6.419131554663181,
         6.417549513280392,
         6.47919250652194,
         6.364954303950071,
         6.407884135842323,
         6.408542986959219,
         6.398278150707483,
         6.47680688649416,
         6.403408881276846,
         6.427510246634483,
         6.454007044434547,
         6.348630737513304,
         6.441213198006153,
         6.42580490000546,
         6.4316272139549255,
         6.438736982643604,
         6.46385944634676,
         6.512405712157488,
         6.4675782807171345,
         6.304208934307098,
         6.439914796501398,
         6.398775510489941,
         6.374247428029776,
         6.338234659284353,
         6.3768819980323315,
         6.3738410249352455,
         6.4501118659973145,
         6.476417541503906,
         6.396323999390006,
         6.400553617626429,
         6.3849843218922615,
         6.362577730789781,
         6.455236963927746,
         6.4172112084925175,
         6.383080653846264,
         6.347792595624924,
         6.424638796597719,
         6.42213973775506,
         6.361487030982971,
         6.465053789317608,
         6.380279801785946,
         6.420865949243307,
         6.401904683560133,
         6.46471837349236,
         6.457756817340851,
         6.388526566326618,
         6.360667124390602,
         6.402526192367077,
         6.4167885184288025,
         6.410063844174147,
         6.423337817192078,
         6.457423634827137,
         6.475845690816641,
         6.381004802882671
        ],
        [
         1.8688490511068836,
         1.8817541216288838,
         1.8698139136331282,
         1.882363022088171,
         1.8863884753320879,
         1.8683383574091375,
         1.8696442495933678,
         1.8765480565395858,
         1.8902786157060918,
         1.873682886753865,
         1.886225555649694,
         1.8698402301277517,
         1.8755951379183333,
         1.881103035732213,
         1.8692093241422925,
         1.8891753628812566,
         1.8850376879995674,
         1.8759063328203196,
         1.8783668530985214,
         1.893478953077264,
         1.873357128789583,
         1.8733084896919339,
         1.8810533535227734,
         1.8716814277624643,
         1.8697474214045329,
         1.8929764288826436,
         1.8892617828297984,
         1.8798936606399193,
         1.8917267121551102,
         1.891819971677781,
         1.8819795345128911,
         1.8894080609578638,
         1.8761983365692458,
         1.8857839507665317,
         1.8913620827305269,
         1.8884369636412686,
         1.887136924248736,
         1.8773022707512415,
         1.8750583805547993,
         1.8962323058238388,
         1.8812913534964715,
         1.8791188194282027,
         1.8748484513613874,
         1.896602052631918,
         1.8851062898940614,
         1.8878588786897985,
         1.8759842505101496,
         1.8908594904103655,
         1.8841893199562716,
         1.8689658128850246,
         1.8881813344577205,
         1.8753770159677843,
         1.8817635785547175,
         1.8877881395973943,
         1.8812254342203287,
         1.8820184433745228,
         1.8887102440967245,
         1.878747635185881,
         1.8920502655089129,
         1.8851315640768693,
         1.8766424389382304,
         1.8767873725205824,
         1.8731417648661188,
         1.8930976817573988,
         1.8935722051601707,
         1.8678841770331642,
         1.8877533995272497,
         1.8805599774385016,
         1.8748065963308227,
         1.8671173147836386,
         1.865698049632263,
         1.879018362797118,
         1.883446633790523,
         1.8883828432260343,
         1.8765022371740567,
         1.8750020476134417,
         1.8795715194608522,
         1.869585338657624,
         1.8840550908118678,
         1.8719061005262725,
         1.871351789599759,
         1.8650409427702281,
         1.8913282736308574,
         1.8887652020757977,
         1.8559455737576078,
         1.8850005832248526,
         1.876461127039158,
         1.8870488099716127,
         1.8745543328924017,
         1.8883641719665731,
         1.8881181065453665,
         1.8702246956079012,
         1.8721605544176316,
         1.8722504340716306,
         1.8844950396006452,
         1.8854864528143964,
         1.8867116294235413,
         1.8847619034633185,
         1.906471265731574,
         1.8817184711107813
        ]
       ],
       "encoder": "json",
       "name": "ABC_GAN_1 Metrics",
       "version": 1
      }
     },
     "metadata": {
      "scrapbook": {
       "data": true,
       "display": false,
       "name": "ABC_GAN_1 Metrics"
      }
     },
     "output_type": "display_data"
    },
    {
     "name": "stdout",
     "output_type": "stream",
     "text": [
      "MSE\n",
      "0.17687780298039632\n"
     ]
    }
   ],
   "source": [
    "ABC_GAN1_metrics=ABC_train_test2.test_generator(gen,test_data,prior_model,variance,bias,\"1\",device)\n",
    "sb.glue(\"ABC_GAN_1 Metrics\",ABC_GAN1_metrics)\n",
    "\n",
    "print(\"MSE\")\n",
    "print(mean(ABC_GAN1_metrics[0]))"
   ]
  },
  {
   "cell_type": "code",
   "execution_count": 14,
   "id": "eb22ce5c",
   "metadata": {
    "execution": {
     "iopub.execute_input": "2022-06-22T12:52:50.725818Z",
     "iopub.status.busy": "2022-06-22T12:52:50.722563Z",
     "iopub.status.idle": "2022-06-22T12:52:52.564334Z",
     "shell.execute_reply": "2022-06-22T12:52:52.565263Z"
    },
    "papermill": {
     "duration": 2.023634,
     "end_time": "2022-06-22T12:52:52.565515",
     "exception": false,
     "start_time": "2022-06-22T12:52:50.541881",
     "status": "completed"
    },
    "tags": []
   },
   "outputs": [
    {
     "data": {
      "image/png": "[encoded data removed]",
      "text/plain": [
       "<Figure size 432x288 with 1 Axes>"
      ]
     },
     "metadata": {
      "needs_background": "light"
     },
     "output_type": "display_data"
    },
    {
     "data": {
      "image/png": "[encoded data removed]",
      "text/plain": [
       "<Figure size 432x288 with 1 Axes>"
      ]
     },
     "metadata": {
      "needs_background": "light"
     },
     "output_type": "display_data"
    },
    {
     "data": {
      "image/png": "[encoded data removed]",
      "text/plain": [
       "<Figure size 432x288 with 1 Axes>"
      ]
     },
     "metadata": {
      "needs_background": "light"
     },
     "output_type": "display_data"
    },
    {
     "data": {
      "image/png": "[encoded data removed]",
      "text/plain": [
       "<Figure size 432x288 with 1 Axes>"
      ]
     },
     "metadata": {
      "needs_background": "light"
     },
     "output_type": "display_data"
    }
   ],
   "source": [
    "sanityChecks.discProbVsError(train_data,disc,device)\n",
    "sanityChecks.discProbVsError(test_data,disc,device)"
   ]
  },
  {
   "cell_type": "markdown",
   "id": "130f3a4d",
   "metadata": {
    "id": "130f3a4d",
    "papermill": {
     "duration": 0.15605,
     "end_time": "2022-06-22T12:52:52.788416",
     "exception": false,
     "start_time": "2022-06-22T12:52:52.632366",
     "status": "completed"
    },
    "tags": []
   },
   "source": [
    "# ABC - GAN Model with skip connection"
   ]
  },
  {
   "cell_type": "code",
   "execution_count": 15,
   "id": "4e43dad1",
   "metadata": {
    "execution": {
     "iopub.execute_input": "2022-06-22T12:52:53.056117Z",
     "iopub.status.busy": "2022-06-22T12:52:53.052775Z",
     "iopub.status.idle": "2022-06-22T12:52:53.057616Z",
     "shell.execute_reply": "2022-06-22T12:52:53.056814Z"
    },
    "id": "4e43dad1",
    "papermill": {
     "duration": 0.149229,
     "end_time": "2022-06-22T12:52:53.077648",
     "exception": false,
     "start_time": "2022-06-22T12:52:52.928419",
     "status": "completed"
    },
    "tags": []
   },
   "outputs": [],
   "source": [
    "#Generator\n",
    "gen3 = network.GeneratorWithSkipConnection(n_features+1).to(device)\n",
    "constraints=network.weightConstraint()\n",
    "#Discriminator \n",
    "disc3 = network.Discriminator(n_features+1).to(device)\n",
    "\n",
    "criterion = torch.nn.BCELoss()\n",
    "gen_opt = torch.optim.Adam(gen3.parameters(), lr=0.001, betas=(0.5, 0.999))\n",
    "disc_opt = torch.optim.Adam(disc3.parameters(), lr=0.001, betas=(0.5, 0.999))\n"
   ]
  },
  {
   "cell_type": "code",
   "execution_count": 16,
   "id": "26acbc37",
   "metadata": {
    "execution": {
     "iopub.execute_input": "2022-06-22T12:52:53.730928Z",
     "iopub.status.busy": "2022-06-22T12:52:53.693909Z",
     "iopub.status.idle": "2022-06-22T12:54:32.627226Z",
     "shell.execute_reply": "2022-06-22T12:54:32.632216Z"
    },
    "id": "26acbc37",
    "papermill": {
     "duration": 99.30091,
     "end_time": "2022-06-22T12:54:32.636187",
     "exception": false,
     "start_time": "2022-06-22T12:52:53.335277",
     "status": "completed"
    },
    "tags": []
   },
   "outputs": [
    {
     "data": {
      "image/png": "[encoded data removed]",
      "text/plain": [
       "<Figure size 432x288 with 1 Axes>"
      ]
     },
     "metadata": {
      "needs_background": "light"
     },
     "output_type": "display_data"
    },
    {
     "data": {
      "image/png": "[encoded data removed]",
      "text/plain": [
       "<Figure size 432x288 with 1 Axes>"
      ]
     },
     "metadata": {
      "needs_background": "light"
     },
     "output_type": "display_data"
    }
   ],
   "source": [
    "ABC_train_test2.training_GAN_skip_connection(disc3,gen3,disc_opt,gen_opt,train_data,batch_size,n_epochs,criterion,prior_model,variance,bias,device)"
   ]
  },
  {
   "cell_type": "code",
   "execution_count": 17,
   "id": "c5e0717b",
   "metadata": {
    "execution": {
     "iopub.execute_input": "2022-06-22T12:54:33.296088Z",
     "iopub.status.busy": "2022-06-22T12:54:33.287170Z",
     "iopub.status.idle": "2022-06-22T12:54:36.101470Z",
     "shell.execute_reply": "2022-06-22T12:54:36.101994Z"
    },
    "id": "c5e0717b",
    "papermill": {
     "duration": 3.285778,
     "end_time": "2022-06-22T12:54:36.102221",
     "exception": false,
     "start_time": "2022-06-22T12:54:32.816443",
     "status": "completed"
    },
    "tags": []
   },
   "outputs": [
    {
     "data": {
      "application/scrapbook.scrap.json+json": {
       "data": 0.161561533281519,
       "encoder": "json",
       "name": "ABC-GAN Model 3 MSE",
       "version": 1
      }
     },
     "metadata": {
      "scrapbook": {
       "data": true,
       "display": false,
       "name": "ABC-GAN Model 3 MSE"
      }
     },
     "output_type": "display_data"
    },
    {
     "data": {
      "application/scrapbook.scrap.json+json": {
       "data": 0.32708253134507687,
       "encoder": "json",
       "name": "ABC-GAN Model 3 MAE",
       "version": 1
      }
     },
     "metadata": {
      "scrapbook": {
       "data": true,
       "display": false,
       "name": "ABC-GAN Model 3 MAE"
      }
     },
     "output_type": "display_data"
    },
    {
     "data": {
      "application/scrapbook.scrap.json+json": {
       "data": 6.5416506269015375,
       "encoder": "json",
       "name": "ABC-GAN Model 3 Manhattan Distance",
       "version": 1
      }
     },
     "metadata": {
      "scrapbook": {
       "data": true,
       "display": false,
       "name": "ABC-GAN Model 3 Manhattan Distance"
      }
     },
     "output_type": "display_data"
    },
    {
     "data": {
      "application/scrapbook.scrap.json+json": {
       "data": 1.7975356247644574,
       "encoder": "json",
       "name": "ABC-GAN Model 3 Euclidean distance",
       "version": 1
      }
     },
     "metadata": {
      "scrapbook": {
       "data": true,
       "display": false,
       "name": "ABC-GAN Model 3 Euclidean distance"
      }
     },
     "output_type": "display_data"
    },
    {
     "data": {
      "application/scrapbook.scrap.json+json": {
       "data": [
        [
         0.1617051821319988,
         0.15893955372180207,
         0.16128563399659765,
         0.1655385542794734,
         0.15856589022050516,
         0.16383750837967814,
         0.15833325970571935,
         0.1629359970752789,
         0.15943215542884484,
         0.15989556759247878,
         0.16119136395445058,
         0.16303005899597506,
         0.16018688626082742,
         0.16352941129170592,
         0.16038650237130522,
         0.15718131531991011,
         0.16327504666792816,
         0.15984776039006926,
         0.1615638079907825,
         0.16212221311807168,
         0.16375546732968557,
         0.16202269463704458,
         0.16120450016513094,
         0.16049431319757898,
         0.16164392226772897,
         0.16053844530298328,
         0.16061128528719376,
         0.16545867225614086,
         0.16255196784038956,
         0.16121885318477278,
         0.16214387906556366,
         0.16207022431216966,
         0.1614817715552998,
         0.16063103480502394,
         0.1610188215032533,
         0.16052393790747868,
         0.16050242164482348,
         0.15811269911009002,
         0.16158886760829194,
         0.1599833791757152,
         0.15985608363051212,
         0.16015994418154733,
         0.1606220266811206,
         0.1600900471388221,
         0.1646093824415477,
         0.16063779121753768,
         0.16353053044302146,
         0.16203879594853982,
         0.1629555772590762,
         0.16021217268470384,
         0.16337234822548458,
         0.1618036319546931,
         0.16045008027943702,
         0.16077871995836443,
         0.1632627636435114,
         0.16267698103455844,
         0.16109606657324424,
         0.1622883806471414,
         0.16189510553011552,
         0.16069668500774195,
         0.16348186797934136,
         0.16352604523658626,
         0.15882729252431407,
         0.159903003286531,
         0.16271367021277014,
         0.16334967611940926,
         0.16169175856830514,
         0.16492698508057324,
         0.16095560220236274,
         0.1615714127803131,
         0.1647142617197052,
         0.1620753244592516,
         0.16209272113083878,
         0.16042226969306986,
         0.16022560507240535,
         0.16089723687499383,
         0.16003716121491932,
         0.16033050631166015,
         0.16128766341939965,
         0.16304807754560233,
         0.15735389278083475,
         0.16155748596682576,
         0.1622936932516504,
         0.16130344113822087,
         0.16126883861594873,
         0.16322163202660303,
         0.15999887841609062,
         0.15947410769223253,
         0.16362065924514116,
         0.16470175993092803,
         0.15921684333537436,
         0.16430678702438084,
         0.16344083203263104,
         0.160405949675596,
         0.16480250457264636,
         0.15945349590951455,
         0.1607820822263765,
         0.16212700023370097,
         0.16449224983885066,
         0.16287911127551916
        ],
        [
         0.32670786548405883,
         0.32486890256404877,
         0.3265051793307066,
         0.3310617160052061,
         0.3209998231381178,
         0.331060347892344,
         0.3237660568207502,
         0.32734708599746226,
         0.3259681912139058,
         0.32738582268357275,
         0.32647715248167514,
         0.330480832234025,
         0.32746876440942285,
         0.32578668259084226,
         0.32529828380793335,
         0.3251742521300912,
         0.3298479301854968,
         0.32660189252346755,
         0.32550126872956753,
         0.32692457903176547,
         0.32668486749753356,
         0.32729378025978806,
         0.3254055278375745,
         0.32741388082504275,
         0.32834989968687295,
         0.32755335699766874,
         0.3257690088823438,
         0.3314378269016743,
         0.3277881063520908,
         0.32859188560396435,
         0.327102829888463,
         0.3294646514579654,
         0.3290542410686612,
         0.32808418571949005,
         0.3255192220211029,
         0.32599187456071377,
         0.325573586858809,
         0.3227790480479598,
         0.33041583336889746,
         0.3280669765546918,
         0.32708423007279636,
         0.3250914510339499,
         0.3248864563181996,
         0.3270555714145303,
         0.3296947980299592,
         0.3246767528355122,
         0.33121446054428816,
         0.3281921098008752,
         0.32989178150892257,
         0.3254334211349487,
         0.3285156017169356,
         0.3261839345097542,
         0.32635646406561136,
         0.32462435960769653,
         0.3271278839558363,
         0.32833262979984285,
         0.3277776662260294,
         0.32769040297716856,
         0.3272092711180449,
         0.32607974130660294,
         0.32702075522392987,
         0.32566107660531995,
         0.32367114890366794,
         0.3264440957456827,
         0.3319760821759701,
         0.3291238496080041,
         0.32594597674906256,
         0.33106738291680815,
         0.32555014472454785,
         0.328100542165339,
         0.33066986398771403,
         0.32869126107543706,
         0.3277426855638623,
         0.3253906488418579,
         0.32530848141759633,
         0.3246962681412697,
         0.3266993250697851,
         0.32238533683121207,
         0.32690716311335566,
         0.32887202640995383,
         0.3222024267539382,
         0.3289747841656208,
         0.32666585221886635,
         0.326077439263463,
         0.32906974740326406,
         0.3282364260405302,
         0.32321529295295476,
         0.32472966630011796,
         0.3291452579200268,
         0.33037331942468884,
         0.32440159358084203,
         0.32856211829930543,
         0.32862107288092374,
         0.32464760541915894,
         0.33004978895187376,
         0.3232425667345524,
         0.32670273296535013,
         0.32824110649526117,
         0.3274880738928914,
         0.32898993995040654
        ],
        [
         6.534157309681177,
         6.497378051280975,
         6.530103586614132,
         6.621234320104122,
         6.419996462762356,
         6.62120695784688,
         6.475321136415005,
         6.5469417199492455,
         6.519363824278116,
         6.547716453671455,
         6.529543049633503,
         6.6096166446805,
         6.5493752881884575,
         6.515733651816845,
         6.505965676158667,
         6.503485042601824,
         6.596958603709936,
         6.532037850469351,
         6.5100253745913506,
         6.538491580635309,
         6.533697349950671,
         6.545875605195761,
         6.50811055675149,
         6.5482776165008545,
         6.566997993737459,
         6.551067139953375,
         6.515380177646875,
         6.628756538033485,
         6.555762127041817,
         6.571837712079287,
         6.54205659776926,
         6.5892930291593075,
         6.581084821373224,
         6.561683714389801,
         6.510384440422058,
         6.519837491214275,
         6.51147173717618,
         6.455580960959196,
         6.608316667377949,
         6.561339531093836,
         6.541684601455927,
         6.501829020678997,
         6.497729126363993,
         6.5411114282906055,
         6.593895960599184,
         6.493535056710243,
         6.624289210885763,
         6.563842196017504,
         6.5978356301784515,
         6.508668422698975,
         6.570312034338713,
         6.523678690195084,
         6.527129281312227,
         6.492487192153931,
         6.542557679116726,
         6.566652595996857,
         6.555553324520588,
         6.553808059543371,
         6.544185422360897,
         6.521594826132059,
         6.540415104478598,
         6.5132215321063995,
         6.4734229780733585,
         6.528881914913654,
         6.6395216435194016,
         6.582476992160082,
         6.518919534981251,
         6.621347658336163,
         6.511002894490957,
         6.56201084330678,
         6.613397279754281,
         6.573825221508741,
         6.5548537112772465,
         6.507812976837158,
         6.506169628351927,
         6.493925362825394,
         6.533986501395702,
         6.447706736624241,
         6.538143262267113,
         6.577440528199077,
         6.444048535078764,
         6.579495683312416,
         6.533317044377327,
         6.52154878526926,
         6.581394948065281,
         6.564728520810604,
         6.464305859059095,
         6.494593326002359,
         6.582905158400536,
         6.607466388493776,
         6.48803187161684,
         6.571242365986109,
         6.572421457618475,
         6.492952108383179,
         6.600995779037476,
         6.464851334691048,
         6.534054659307003,
         6.564822129905224,
         6.549761477857828,
         6.579798799008131
        ],
        [
         1.7983613770986009,
         1.7829164518944913,
         1.796026915146862,
         1.8195524410111041,
         1.7808194193713476,
         1.8101795953975293,
         1.7795126282536988,
         1.8051924943079,
         1.7856772128738432,
         1.7882704918019465,
         1.7955019574172042,
         1.8057134822334082,
         1.789898803065846,
         1.8084767695035837,
         1.7910136926964306,
         1.7730274409602922,
         1.807069709047928,
         1.7880031341698999,
         1.7975750776575787,
         1.8006788337628212,
         1.809726318146949,
         1.8001260769015295,
         1.7955751176997912,
         1.791615545799818,
         1.7980207021484984,
         1.7918618546248664,
         1.7922683129888435,
         1.8191133678588636,
         1.8030638804012993,
         1.7956550514214737,
         1.8007991507414904,
         1.8003900927975007,
         1.7971186469195617,
         1.792378502465503,
         1.794540729564271,
         1.7917808901061463,
         1.7916608029692644,
         1.7782727524769086,
         1.7977144801569127,
         1.7887614663543892,
         1.7880496840441102,
         1.7897482738170043,
         1.792328243827679,
         1.7893576900039976,
         1.8144386594291233,
         1.7924161973020534,
         1.808482957857339,
         1.8002155201449621,
         1.8053009569546912,
         1.790040070415765,
         1.8076080782375619,
         1.7989087356210882,
         1.7913686403386493,
         1.7932022750284722,
         1.8070017357131198,
         1.8037570847237632,
         1.794971122738437,
         1.801601402348152,
         1.7994171585828314,
         1.79274473926291,
         1.8082138589190238,
         1.8084581567544562,
         1.7822866914406001,
         1.788312071683972,
         1.8039604774649036,
         1.807482647880246,
         1.7982867322443612,
         1.8161882340802302,
         1.7941884081799366,
         1.7976173829840048,
         1.8150165934211469,
         1.8004184205859015,
         1.800515043707432,
         1.791213385909506,
         1.790115108435239,
         1.7938630765752097,
         1.7890621074457942,
         1.790701015310262,
         1.7960382146235065,
         1.8058132657924646,
         1.774000523003501,
         1.7975399075782754,
         1.8016308903415839,
         1.796126059819972,
         1.7959333986311894,
         1.8067740978141291,
         1.7888481121441844,
         1.7859121349732328,
         1.808981256094939,
         1.8149477123648936,
         1.7844710327454147,
         1.8127701841346622,
         1.8079869027879103,
         1.791122272071876,
         1.8155027103953678,
         1.7857967180477992,
         1.7932210250071043,
         1.8007054186273832,
         1.813792986196885,
         1.804877343619334
        ]
       ],
       "encoder": "json",
       "name": "ABC_GAN_3 Metrics",
       "version": 1
      }
     },
     "metadata": {
      "scrapbook": {
       "data": true,
       "display": false,
       "name": "ABC_GAN_3 Metrics"
      }
     },
     "output_type": "display_data"
    },
    {
     "name": "stdout",
     "output_type": "stream",
     "text": [
      "MSE\n",
      "0.161561533281519\n"
     ]
    }
   ],
   "source": [
    "ABC_GAN3_metrics=ABC_train_test2.test_generator(gen3,test_data,prior_model,variance,bias,\"3\",device)\n",
    "sb.glue(\"ABC_GAN_3 Metrics\",ABC_GAN3_metrics)\n",
    "\n",
    "print(\"MSE\")\n",
    "print(mean(ABC_GAN3_metrics[0]))"
   ]
  },
  {
   "cell_type": "code",
   "execution_count": 18,
   "id": "c8e46b48",
   "metadata": {
    "execution": {
     "iopub.execute_input": "2022-06-22T12:54:36.243359Z",
     "iopub.status.busy": "2022-06-22T12:54:36.242558Z",
     "iopub.status.idle": "2022-06-22T12:54:38.376321Z",
     "shell.execute_reply": "2022-06-22T12:54:38.380038Z"
    },
    "id": "c8e46b48",
    "papermill": {
     "duration": 2.220616,
     "end_time": "2022-06-22T12:54:38.380318",
     "exception": false,
     "start_time": "2022-06-22T12:54:36.159702",
     "status": "completed"
    },
    "tags": []
   },
   "outputs": [
    {
     "data": {
      "image/png": "[encoded data removed]",
      "text/plain": [
       "<Figure size 432x288 with 1 Axes>"
      ]
     },
     "metadata": {
      "needs_background": "light"
     },
     "output_type": "display_data"
    },
    {
     "data": {
      "image/png": "[encoded data removed]",
      "text/plain": [
       "<Figure size 432x288 with 1 Axes>"
      ]
     },
     "metadata": {
      "needs_background": "light"
     },
     "output_type": "display_data"
    },
    {
     "data": {
      "image/png": "[encoded data removed]",
      "text/plain": [
       "<Figure size 432x288 with 1 Axes>"
      ]
     },
     "metadata": {
      "needs_background": "light"
     },
     "output_type": "display_data"
    },
    {
     "data": {
      "image/png": "[encoded data removed]",
      "text/plain": [
       "<Figure size 432x288 with 1 Axes>"
      ]
     },
     "metadata": {
      "needs_background": "light"
     },
     "output_type": "display_data"
    }
   ],
   "source": [
    "sanityChecks.discProbVsError(train_data,disc3,device)\n",
    "sanityChecks.discProbVsError(test_data,disc3,device)"
   ]
  },
  {
   "cell_type": "markdown",
   "id": "a5bd74c3",
   "metadata": {
    "id": "a5bd74c3",
    "papermill": {
     "duration": 0.074699,
     "end_time": "2022-06-22T12:54:38.539712",
     "exception": false,
     "start_time": "2022-06-22T12:54:38.465013",
     "status": "completed"
    },
    "tags": []
   },
   "source": [
    "## Skip Connection Model Analysis - ABC-GAN "
   ]
  },
  {
   "cell_type": "markdown",
   "id": "5744a8bf",
   "metadata": {
    "id": "5744a8bf",
    "papermill": {
     "duration": 0.090654,
     "end_time": "2022-06-22T12:54:38.693176",
     "exception": false,
     "start_time": "2022-06-22T12:54:38.602522",
     "status": "completed"
    },
    "tags": []
   },
   "source": [
    "### Weight Analysis \n",
    "\n",
    "Study the weights of the skip connection layer\n",
    "\n",
    "Equation of the skip connection is \n",
    "\n",
    "$output = y_{gan} * w + y_{abc} * (1-w)$"
   ]
  },
  {
   "cell_type": "code",
   "execution_count": 19,
   "id": "52c31dea",
   "metadata": {
    "execution": {
     "iopub.execute_input": "2022-06-22T12:54:38.815612Z",
     "iopub.status.busy": "2022-06-22T12:54:38.814905Z",
     "iopub.status.idle": "2022-06-22T12:54:38.821705Z",
     "shell.execute_reply": "2022-06-22T12:54:38.822353Z"
    },
    "id": "52c31dea",
    "papermill": {
     "duration": 0.07164,
     "end_time": "2022-06-22T12:54:38.822594",
     "exception": false,
     "start_time": "2022-06-22T12:54:38.750954",
     "status": "completed"
    },
    "tags": []
   },
   "outputs": [
    {
     "name": "stdout",
     "output_type": "stream",
     "text": [
      "Weight of the node at skip connection\n",
      "Parameter containing:\n",
      "tensor([[0.7465]], requires_grad=True)\n"
     ]
    },
    {
     "data": {
      "application/scrapbook.scrap.json+json": {
       "data": 0.7465383410453796,
       "encoder": "json",
       "name": "Skip Connection Weight",
       "version": 1
      }
     },
     "metadata": {
      "scrapbook": {
       "data": true,
       "display": false,
       "name": "Skip Connection Weight"
      }
     },
     "output_type": "display_data"
    }
   ],
   "source": [
    "print(\"Weight of the node at skip connection\")\n",
    "for name,param in gen3.named_parameters():\n",
    "    if(name == \"skipNode.weight\"):\n",
    "        print(param)\n",
    "        sb.glue(\"Skip Connection Weight\",param.item())"
   ]
  }
 ],
 "metadata": {
  "colab": {
   "collapsed_sections": [],
   "name": "ABC_GAN_Model-Catboost_Pre-gen.ipynb",
   "provenance": []
  },
  "interpreter": {
   "hash": "31f2aee4e71d21fbe5cf8b01ff0e069b9275f58929596ceb00d14d90e3e16cd6"
  },
  "kernelspec": {
   "display_name": "Python 3 (ipykernel)",
   "language": "python",
   "name": "python3"
  },
  "language_info": {
   "codemirror_mode": {
    "name": "ipython",
    "version": 3
   },
   "file_extension": ".py",
   "mimetype": "text/x-python",
   "name": "python",
   "nbconvert_exporter": "python",
   "pygments_lexer": "ipython3",
   "version": "3.8.3"
  },
  "papermill": {
   "default_parameters": {},
   "duration": 187.589052,
   "end_time": "2022-06-22T12:54:40.932327",
   "environment_variables": {},
   "exception": null,
   "input_path": "ABC_GAN-TabNet.ipynb",
   "output_path": "./ABC_GAN_TabNet/ABC-GAN_output_3_11.ipynb",
   "parameters": {
    "bias": 0,
    "variance": 0.01
   },
   "start_time": "2022-06-22T12:51:33.343275",
   "version": "2.3.3"
  }
 },
 "nbformat": 4,
 "nbformat_minor": 5
}