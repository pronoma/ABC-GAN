{
 "cells": [
  {
   "cell_type": "markdown",
   "id": "622780e6",
   "metadata": {
    "id": "622780e6",
    "papermill": {
     "duration": 0.01701,
     "end_time": "2022-06-22T11:51:26.141239",
     "exception": false,
     "start_time": "2022-06-22T11:51:26.124229",
     "status": "completed"
    },
    "tags": []
   },
   "source": [
    "## Import Libraries "
   ]
  },
  {
   "cell_type": "code",
   "execution_count": 1,
   "id": "a62397e3",
   "metadata": {
    "execution": {
     "iopub.execute_input": "2022-06-22T11:51:26.199856Z",
     "iopub.status.busy": "2022-06-22T11:51:26.196068Z",
     "iopub.status.idle": "2022-06-22T11:51:26.204766Z",
     "shell.execute_reply": "2022-06-22T11:51:26.205807Z"
    },
    "id": "a62397e3",
    "papermill": {
     "duration": 0.04972,
     "end_time": "2022-06-22T11:51:26.206290",
     "exception": false,
     "start_time": "2022-06-22T11:51:26.156570",
     "status": "completed"
    },
    "tags": []
   },
   "outputs": [],
   "source": [
    "import warnings\n",
    "import sys\n",
    "sys.path.insert(0, '../../src')\n",
    "warnings.filterwarnings('ignore')"
   ]
  },
  {
   "cell_type": "code",
   "execution_count": 2,
   "id": "d6a4e155",
   "metadata": {
    "execution": {
     "iopub.execute_input": "2022-06-22T11:51:26.263942Z",
     "iopub.status.busy": "2022-06-22T11:51:26.262946Z",
     "iopub.status.idle": "2022-06-22T11:51:32.034507Z",
     "shell.execute_reply": "2022-06-22T11:51:32.035304Z"
    },
    "id": "d6a4e155",
    "papermill": {
     "duration": 5.806593,
     "end_time": "2022-06-22T11:51:32.035531",
     "exception": false,
     "start_time": "2022-06-22T11:51:26.228938",
     "status": "completed"
    },
    "tags": []
   },
   "outputs": [],
   "source": [
    "import ABC_train_test2\n",
    "import friedman3Dataset\n",
    "import network\n",
    "import dataset\n",
    "import sanityChecks\n",
    "import torch \n",
    "import scrapbook as sb\n",
    "from statistics import mean \n",
    "import catboost as ctb \n",
    "from sklearn.model_selection import train_test_split\n",
    "from sklearn.metrics import mean_squared_error,mean_absolute_error\n",
    "import numpy as np\n",
    "from pytorch_tabnet.tab_model import TabNetRegressor"
   ]
  },
  {
   "cell_type": "markdown",
   "id": "2fa5b0f7",
   "metadata": {
    "id": "2fa5b0f7",
    "papermill": {
     "duration": 0.035743,
     "end_time": "2022-06-22T11:51:32.086561",
     "exception": false,
     "start_time": "2022-06-22T11:51:32.050818",
     "status": "completed"
    },
    "tags": []
   },
   "source": [
    "## Parameters "
   ]
  },
  {
   "cell_type": "code",
   "execution_count": 3,
   "id": "783186fb",
   "metadata": {
    "execution": {
     "iopub.execute_input": "2022-06-22T11:51:32.139069Z",
     "iopub.status.busy": "2022-06-22T11:51:32.137556Z",
     "iopub.status.idle": "2022-06-22T11:51:32.139752Z",
     "shell.execute_reply": "2022-06-22T11:51:32.138549Z"
    },
    "id": "783186fb",
    "papermill": {
     "duration": 0.03219,
     "end_time": "2022-06-22T11:51:32.140149",
     "exception": false,
     "start_time": "2022-06-22T11:51:32.107959",
     "status": "completed"
    },
    "tags": [
     "parameters"
    ]
   },
   "outputs": [],
   "source": [
    "variance = 1\n",
    "bias = 1 "
   ]
  },
  {
   "cell_type": "code",
   "execution_count": 4,
   "id": "7c2a8eea",
   "metadata": {
    "execution": {
     "iopub.execute_input": "2022-06-22T11:51:32.191851Z",
     "iopub.status.busy": "2022-06-22T11:51:32.189832Z",
     "iopub.status.idle": "2022-06-22T11:51:32.194066Z",
     "shell.execute_reply": "2022-06-22T11:51:32.194896Z"
    },
    "papermill": {
     "duration": 0.039299,
     "end_time": "2022-06-22T11:51:32.195144",
     "exception": false,
     "start_time": "2022-06-22T11:51:32.155845",
     "status": "completed"
    },
    "tags": [
     "injected-parameters"
    ]
   },
   "outputs": [],
   "source": [
    "# Parameters\n",
    "variance = 0.1\n",
    "bias = 0\n"
   ]
  },
  {
   "cell_type": "markdown",
   "id": "391cdbfd",
   "metadata": {
    "id": "391cdbfd",
    "papermill": {
     "duration": 0.016736,
     "end_time": "2022-06-22T11:51:32.228486",
     "exception": false,
     "start_time": "2022-06-22T11:51:32.211750",
     "status": "completed"
    },
    "tags": []
   },
   "source": [
    "## Dataset \n"
   ]
  },
  {
   "cell_type": "code",
   "execution_count": 5,
   "id": "5b51f161",
   "metadata": {
    "execution": {
     "iopub.execute_input": "2022-06-22T11:51:32.273410Z",
     "iopub.status.busy": "2022-06-22T11:51:32.272043Z",
     "iopub.status.idle": "2022-06-22T11:51:32.276295Z",
     "shell.execute_reply": "2022-06-22T11:51:32.276831Z"
    },
    "id": "5b51f161",
    "papermill": {
     "duration": 0.033305,
     "end_time": "2022-06-22T11:51:32.277675",
     "exception": false,
     "start_time": "2022-06-22T11:51:32.244370",
     "status": "completed"
    },
    "tags": []
   },
   "outputs": [],
   "source": [
    "#Parameters \n",
    "n_features = 4\n",
    "n_samples= 100\n",
    "n_target = 1"
   ]
  },
  {
   "cell_type": "code",
   "execution_count": 6,
   "id": "5d6eced4",
   "metadata": {
    "execution": {
     "iopub.execute_input": "2022-06-22T11:51:32.347976Z",
     "iopub.status.busy": "2022-06-22T11:51:32.344766Z",
     "iopub.status.idle": "2022-06-22T11:51:32.351589Z",
     "shell.execute_reply": "2022-06-22T11:51:32.351027Z"
    },
    "id": "5d6eced4",
    "papermill": {
     "duration": 0.056789,
     "end_time": "2022-06-22T11:51:32.351793",
     "exception": false,
     "start_time": "2022-06-22T11:51:32.295004",
     "status": "completed"
    },
    "tags": []
   },
   "outputs": [
    {
     "name": "stdout",
     "output_type": "stream",
     "text": [
      "          X1           X2        X3        X4         Y\n",
      "0   3.129942  1451.366788  0.975008  7.320095  1.688404\n",
      "1  11.503555   144.715501  0.657471  6.524414  1.497371\n",
      "2  93.194703  1643.944311  0.326156  5.734251  1.331051\n",
      "3  39.649426   738.559011  0.224049  3.026284  1.315304\n",
      "4  71.822967   530.844578  0.041016  8.043718  0.403128\n"
     ]
    }
   ],
   "source": [
    "X,Y = friedman3Dataset.friedman3_data(n_samples)"
   ]
  },
  {
   "cell_type": "code",
   "execution_count": 7,
   "id": "fe007438",
   "metadata": {
    "execution": {
     "iopub.execute_input": "2022-06-22T11:51:32.414104Z",
     "iopub.status.busy": "2022-06-22T11:51:32.412367Z",
     "iopub.status.idle": "2022-06-22T11:51:32.415279Z",
     "shell.execute_reply": "2022-06-22T11:51:32.415913Z"
    },
    "id": "fe007438",
    "papermill": {
     "duration": 0.043761,
     "end_time": "2022-06-22T11:51:32.416669",
     "exception": false,
     "start_time": "2022-06-22T11:51:32.372908",
     "status": "completed"
    },
    "tags": []
   },
   "outputs": [],
   "source": [
    "#Train test split for dataset \n",
    "X_train,X_test,Y_train,Y_test = train_test_split(X,Y,test_size = 0.2)\n",
    "train_data = dataset.CustomDataset(X_train,Y_train)\n",
    "test_data = dataset.CustomDataset(X_test,Y_test)\n"
   ]
  },
  {
   "cell_type": "markdown",
   "id": "a9a1af34",
   "metadata": {
    "id": "a9a1af34",
    "papermill": {
     "duration": 0.049333,
     "end_time": "2022-06-22T11:51:32.493414",
     "exception": false,
     "start_time": "2022-06-22T11:51:32.444081",
     "status": "completed"
    },
    "tags": []
   },
   "source": [
    "## Training Parameters "
   ]
  },
  {
   "cell_type": "code",
   "execution_count": 8,
   "id": "952b7fc8",
   "metadata": {
    "execution": {
     "iopub.execute_input": "2022-06-22T11:51:32.542000Z",
     "iopub.status.busy": "2022-06-22T11:51:32.540049Z",
     "iopub.status.idle": "2022-06-22T11:51:32.543199Z",
     "shell.execute_reply": "2022-06-22T11:51:32.544576Z"
    },
    "id": "952b7fc8",
    "papermill": {
     "duration": 0.034701,
     "end_time": "2022-06-22T11:51:32.544822",
     "exception": false,
     "start_time": "2022-06-22T11:51:32.510121",
     "status": "completed"
    },
    "tags": []
   },
   "outputs": [],
   "source": [
    "batch_size = 32\n",
    "n_epochs = 1000\n",
    "#Select the device \n",
    "device = torch.device('cuda' if torch.cuda.is_available() else 'cpu')"
   ]
  },
  {
   "cell_type": "markdown",
   "id": "a95e1600",
   "metadata": {
    "id": "a95e1600",
    "papermill": {
     "duration": 0.032969,
     "end_time": "2022-06-22T11:51:32.595082",
     "exception": false,
     "start_time": "2022-06-22T11:51:32.562113",
     "status": "completed"
    },
    "tags": []
   },
   "source": [
    "# ABC Pre-generator Model \n",
    "\n",
    "1. The catboost model is used as a pre-generator model for the ABC-GAN. \n",
    "2. The model is first trained on the entire dataset \n",
    "3. It generats X,Y pairs and we add some Gaussian noise with mean 0 and variance 1 to it which is then feed as input to the generator.\n"
   ]
  },
  {
   "cell_type": "code",
   "execution_count": 9,
   "id": "ff8ce7bd",
   "metadata": {
    "execution": {
     "iopub.execute_input": "2022-06-22T11:51:32.699633Z",
     "iopub.status.busy": "2022-06-22T11:51:32.698784Z",
     "iopub.status.idle": "2022-06-22T11:51:42.657310Z",
     "shell.execute_reply": "2022-06-22T11:51:42.657999Z"
    },
    "id": "ff8ce7bd",
    "papermill": {
     "duration": 9.999406,
     "end_time": "2022-06-22T11:51:42.658202",
     "exception": false,
     "start_time": "2022-06-22T11:51:32.658796",
     "status": "completed"
    },
    "tags": []
   },
   "outputs": [
    {
     "name": "stdout",
     "output_type": "stream",
     "text": [
      "Device used : cpu\n"
     ]
    },
    {
     "name": "stdout",
     "output_type": "stream",
     "text": [
      "epoch 0  | loss: 1.09748 | train_mse: 4.42637 | train_mae: 1.72273 |  0:00:00s\n",
      "epoch 1  | loss: 0.53969 | train_mse: 3.52448 | train_mae: 1.36014 |  0:00:00s\n",
      "epoch 2  | loss: 0.53447 | train_mse: 3.36582 | train_mae: 1.33887 |  0:00:00s\n"
     ]
    },
    {
     "name": "stdout",
     "output_type": "stream",
     "text": [
      "epoch 3  | loss: 0.54004 | train_mse: 2.38402 | train_mae: 1.14743 |  0:00:00s\n",
      "epoch 4  | loss: 0.68366 | train_mse: 1.99637 | train_mae: 1.0497  |  0:00:00s\n"
     ]
    },
    {
     "name": "stdout",
     "output_type": "stream",
     "text": [
      "epoch 5  | loss: 0.52918 | train_mse: 1.45071 | train_mae: 0.91855 |  0:00:00s\n",
      "epoch 6  | loss: 0.41276 | train_mse: 1.10564 | train_mae: 0.8055  |  0:00:00s\n",
      "epoch 7  | loss: 0.39103 | train_mse: 2.86251 | train_mae: 1.11458 |  0:00:01s\n"
     ]
    },
    {
     "name": "stdout",
     "output_type": "stream",
     "text": [
      "epoch 8  | loss: 0.46262 | train_mse: 2.30308 | train_mae: 1.06267 |  0:00:01s\n",
      "epoch 9  | loss: 0.35023 | train_mse: 1.82387 | train_mae: 1.00456 |  0:00:01s\n",
      "epoch 10 | loss: 0.41201 | train_mse: 1.9808  | train_mae: 1.02082 |  0:00:01s\n",
      "epoch 11 | loss: 0.30032 | train_mse: 1.3719  | train_mae: 0.87675 |  0:00:01s\n"
     ]
    },
    {
     "name": "stdout",
     "output_type": "stream",
     "text": [
      "epoch 12 | loss: 0.35769 | train_mse: 0.86062 | train_mae: 0.69839 |  0:00:01s\n",
      "epoch 13 | loss: 0.38682 | train_mse: 0.66153 | train_mae: 0.61096 |  0:00:01s\n",
      "epoch 14 | loss: 0.28942 | train_mse: 0.41583 | train_mae: 0.50524 |  0:00:01s\n"
     ]
    },
    {
     "name": "stdout",
     "output_type": "stream",
     "text": [
      "epoch 15 | loss: 0.22985 | train_mse: 0.40096 | train_mae: 0.50629 |  0:00:01s\n",
      "epoch 16 | loss: 0.32621 | train_mse: 0.49753 | train_mae: 0.54319 |  0:00:01s\n",
      "epoch 17 | loss: 0.28742 | train_mse: 0.35402 | train_mae: 0.47898 |  0:00:01s\n"
     ]
    },
    {
     "name": "stdout",
     "output_type": "stream",
     "text": [
      "epoch 18 | loss: 0.52662 | train_mse: 0.33691 | train_mae: 0.46299 |  0:00:01s\n",
      "epoch 19 | loss: 0.1983  | train_mse: 0.28709 | train_mae: 0.41788 |  0:00:01s\n",
      "epoch 20 | loss: 0.36335 | train_mse: 0.32808 | train_mae: 0.43241 |  0:00:01s\n"
     ]
    },
    {
     "name": "stdout",
     "output_type": "stream",
     "text": [
      "epoch 21 | loss: 0.25117 | train_mse: 0.3226  | train_mae: 0.42471 |  0:00:02s\n",
      "epoch 22 | loss: 0.34896 | train_mse: 0.37801 | train_mae: 0.46878 |  0:00:02s\n",
      "epoch 23 | loss: 0.46285 | train_mse: 0.47644 | train_mae: 0.51424 |  0:00:02s\n",
      "epoch 24 | loss: 0.45944 | train_mse: 0.4194  | train_mae: 0.49477 |  0:00:02s\n"
     ]
    },
    {
     "name": "stdout",
     "output_type": "stream",
     "text": [
      "epoch 25 | loss: 0.47325 | train_mse: 0.29276 | train_mae: 0.41964 |  0:00:02s\n",
      "epoch 26 | loss: 0.33799 | train_mse: 0.2475  | train_mae: 0.38629 |  0:00:02s\n",
      "epoch 27 | loss: 0.50869 | train_mse: 0.25238 | train_mae: 0.39146 |  0:00:02s\n"
     ]
    },
    {
     "name": "stdout",
     "output_type": "stream",
     "text": [
      "epoch 28 | loss: 0.33726 | train_mse: 0.33862 | train_mae: 0.4039  |  0:00:02s\n",
      "epoch 29 | loss: 0.37343 | train_mse: 0.35458 | train_mae: 0.40325 |  0:00:02s\n",
      "epoch 30 | loss: 0.3621  | train_mse: 0.28517 | train_mae: 0.40817 |  0:00:02s\n"
     ]
    },
    {
     "name": "stdout",
     "output_type": "stream",
     "text": [
      "epoch 31 | loss: 0.24048 | train_mse: 0.22941 | train_mae: 0.3851  |  0:00:02s\n",
      "epoch 32 | loss: 0.23232 | train_mse: 0.21526 | train_mae: 0.3614  |  0:00:02s\n",
      "epoch 33 | loss: 0.3368  | train_mse: 0.21009 | train_mae: 0.37089 |  0:00:02s\n"
     ]
    },
    {
     "name": "stdout",
     "output_type": "stream",
     "text": [
      "epoch 34 | loss: 0.2692  | train_mse: 0.21867 | train_mae: 0.37305 |  0:00:02s\n",
      "epoch 35 | loss: 0.26979 | train_mse: 0.29885 | train_mae: 0.40738 |  0:00:03s\n",
      "epoch 36 | loss: 0.27177 | train_mse: 0.30996 | train_mae: 0.41616 |  0:00:03s\n",
      "epoch 37 | loss: 0.39631 | train_mse: 0.27978 | train_mae: 0.41765 |  0:00:03s\n"
     ]
    },
    {
     "name": "stdout",
     "output_type": "stream",
     "text": [
      "epoch 38 | loss: 0.28436 | train_mse: 0.27067 | train_mae: 0.41905 |  0:00:03s\n",
      "epoch 39 | loss: 0.1743  | train_mse: 0.19826 | train_mae: 0.36826 |  0:00:03s\n",
      "epoch 40 | loss: 0.18696 | train_mse: 0.20948 | train_mae: 0.35861 |  0:00:03s\n",
      "epoch 41 | loss: 0.22515 | train_mse: 0.29984 | train_mae: 0.38749 |  0:00:03s\n"
     ]
    },
    {
     "name": "stdout",
     "output_type": "stream",
     "text": [
      "epoch 42 | loss: 0.26082 | train_mse: 0.213   | train_mae: 0.35257 |  0:00:03s\n",
      "epoch 43 | loss: 0.33088 | train_mse: 0.19906 | train_mae: 0.35233 |  0:00:03s\n",
      "epoch 44 | loss: 0.25265 | train_mse: 0.19486 | train_mae: 0.35041 |  0:00:03s\n"
     ]
    },
    {
     "name": "stdout",
     "output_type": "stream",
     "text": [
      "epoch 45 | loss: 0.28305 | train_mse: 0.1663  | train_mae: 0.32892 |  0:00:03s\n",
      "epoch 46 | loss: 0.21778 | train_mse: 0.1573  | train_mae: 0.32019 |  0:00:03s\n"
     ]
    },
    {
     "name": "stdout",
     "output_type": "stream",
     "text": [
      "epoch 47 | loss: 0.24682 | train_mse: 0.15739 | train_mae: 0.32074 |  0:00:03s\n",
      "epoch 48 | loss: 0.17579 | train_mse: 0.20162 | train_mae: 0.35176 |  0:00:04s\n",
      "epoch 49 | loss: 0.42851 | train_mse: 0.22717 | train_mae: 0.37208 |  0:00:04s\n"
     ]
    },
    {
     "name": "stdout",
     "output_type": "stream",
     "text": [
      "epoch 50 | loss: 0.32384 | train_mse: 0.25343 | train_mae: 0.39517 |  0:00:04s\n",
      "epoch 51 | loss: 0.25647 | train_mse: 0.16308 | train_mae: 0.32806 |  0:00:04s\n",
      "epoch 52 | loss: 0.22289 | train_mse: 0.1577  | train_mae: 0.31395 |  0:00:04s\n"
     ]
    },
    {
     "name": "stdout",
     "output_type": "stream",
     "text": [
      "epoch 53 | loss: 0.38273 | train_mse: 0.18322 | train_mae: 0.32567 |  0:00:04s\n",
      "epoch 54 | loss: 0.2198  | train_mse: 0.14498 | train_mae: 0.29544 |  0:00:04s\n",
      "epoch 55 | loss: 0.17925 | train_mse: 0.14797 | train_mae: 0.30852 |  0:00:04s\n"
     ]
    },
    {
     "name": "stdout",
     "output_type": "stream",
     "text": [
      "epoch 56 | loss: 0.21034 | train_mse: 0.15943 | train_mae: 0.31685 |  0:00:04s\n",
      "epoch 57 | loss: 0.32659 | train_mse: 0.12046 | train_mae: 0.28085 |  0:00:04s\n"
     ]
    },
    {
     "name": "stdout",
     "output_type": "stream",
     "text": [
      "epoch 58 | loss: 0.18705 | train_mse: 0.11082 | train_mae: 0.26531 |  0:00:04s\n",
      "epoch 59 | loss: 0.23936 | train_mse: 0.1244  | train_mae: 0.27383 |  0:00:04s\n"
     ]
    },
    {
     "name": "stdout",
     "output_type": "stream",
     "text": [
      "epoch 60 | loss: 0.18196 | train_mse: 0.133   | train_mae: 0.28593 |  0:00:05s\n",
      "epoch 61 | loss: 0.20371 | train_mse: 0.13103 | train_mae: 0.28362 |  0:00:05s\n",
      "epoch 62 | loss: 0.2096  | train_mse: 0.13562 | train_mae: 0.2865  |  0:00:05s\n",
      "epoch 63 | loss: 0.24614 | train_mse: 0.13194 | train_mae: 0.28834 |  0:00:05s\n"
     ]
    },
    {
     "name": "stdout",
     "output_type": "stream",
     "text": [
      "epoch 64 | loss: 0.20395 | train_mse: 0.12526 | train_mae: 0.28297 |  0:00:05s\n",
      "epoch 65 | loss: 0.31809 | train_mse: 0.12598 | train_mae: 0.28799 |  0:00:05s\n",
      "epoch 66 | loss: 0.35851 | train_mse: 0.17855 | train_mae: 0.35396 |  0:00:05s\n",
      "epoch 67 | loss: 0.18592 | train_mse: 0.14591 | train_mae: 0.31405 |  0:00:05s\n"
     ]
    },
    {
     "name": "stdout",
     "output_type": "stream",
     "text": [
      "epoch 68 | loss: 0.22475 | train_mse: 0.15566 | train_mae: 0.30787 |  0:00:05s\n",
      "epoch 69 | loss: 0.20667 | train_mse: 0.19457 | train_mae: 0.31468 |  0:00:05s\n",
      "epoch 70 | loss: 0.18023 | train_mse: 0.16674 | train_mae: 0.31582 |  0:00:05s\n"
     ]
    },
    {
     "name": "stdout",
     "output_type": "stream",
     "text": [
      "epoch 71 | loss: 0.17699 | train_mse: 0.14916 | train_mae: 0.30829 |  0:00:05s\n",
      "epoch 72 | loss: 0.27193 | train_mse: 0.17037 | train_mae: 0.33373 |  0:00:05s\n",
      "epoch 73 | loss: 0.16709 | train_mse: 0.13953 | train_mae: 0.30151 |  0:00:06s\n",
      "epoch 74 | loss: 0.2884  | train_mse: 0.1179  | train_mae: 0.27103 |  0:00:06s\n"
     ]
    },
    {
     "name": "stdout",
     "output_type": "stream",
     "text": [
      "epoch 75 | loss: 0.1499  | train_mse: 0.10796 | train_mae: 0.25584 |  0:00:06s\n",
      "epoch 76 | loss: 0.22182 | train_mse: 0.10721 | train_mae: 0.26177 |  0:00:06s\n",
      "epoch 77 | loss: 0.19393 | train_mse: 0.1314  | train_mae: 0.29681 |  0:00:06s\n",
      "epoch 78 | loss: 0.33271 | train_mse: 0.15803 | train_mae: 0.32192 |  0:00:06s\n"
     ]
    },
    {
     "name": "stdout",
     "output_type": "stream",
     "text": [
      "epoch 79 | loss: 0.23114 | train_mse: 0.12732 | train_mae: 0.29306 |  0:00:06s\n",
      "epoch 80 | loss: 0.13178 | train_mse: 0.14054 | train_mae: 0.30489 |  0:00:06s\n"
     ]
    },
    {
     "name": "stdout",
     "output_type": "stream",
     "text": [
      "epoch 81 | loss: 0.13886 | train_mse: 0.14818 | train_mae: 0.30982 |  0:00:06s\n",
      "epoch 82 | loss: 0.26664 | train_mse: 0.15213 | train_mae: 0.30708 |  0:00:07s\n",
      "epoch 83 | loss: 0.17947 | train_mse: 0.14139 | train_mae: 0.29341 |  0:00:07s\n"
     ]
    },
    {
     "name": "stdout",
     "output_type": "stream",
     "text": [
      "epoch 84 | loss: 0.19523 | train_mse: 0.14637 | train_mae: 0.30716 |  0:00:07s\n",
      "epoch 85 | loss: 0.26015 | train_mse: 0.16751 | train_mae: 0.3321  |  0:00:07s\n",
      "epoch 86 | loss: 0.1585  | train_mse: 0.17848 | train_mae: 0.34027 |  0:00:07s\n"
     ]
    },
    {
     "name": "stdout",
     "output_type": "stream",
     "text": [
      "epoch 87 | loss: 0.27618 | train_mse: 0.17263 | train_mae: 0.32697 |  0:00:07s\n",
      "epoch 88 | loss: 0.22273 | train_mse: 0.15813 | train_mae: 0.30584 |  0:00:07s\n",
      "epoch 89 | loss: 0.24416 | train_mse: 0.16799 | train_mae: 0.31573 |  0:00:07s\n",
      "epoch 90 | loss: 0.16257 | train_mse: 0.16201 | train_mae: 0.30784 |  0:00:07s\n"
     ]
    },
    {
     "name": "stdout",
     "output_type": "stream",
     "text": [
      "epoch 91 | loss: 0.29465 | train_mse: 0.1649  | train_mae: 0.32252 |  0:00:07s\n",
      "epoch 92 | loss: 0.19968 | train_mse: 0.17151 | train_mae: 0.33007 |  0:00:07s\n",
      "epoch 93 | loss: 0.21247 | train_mse: 0.14594 | train_mae: 0.29414 |  0:00:07s\n"
     ]
    },
    {
     "name": "stdout",
     "output_type": "stream",
     "text": [
      "epoch 94 | loss: 0.18526 | train_mse: 0.13967 | train_mae: 0.28891 |  0:00:07s\n",
      "epoch 95 | loss: 0.20621 | train_mse: 0.12785 | train_mae: 0.28906 |  0:00:07s\n",
      "epoch 96 | loss: 0.15314 | train_mse: 0.12179 | train_mae: 0.27555 |  0:00:07s\n",
      "epoch 97 | loss: 0.23961 | train_mse: 0.12198 | train_mae: 0.27295 |  0:00:08s\n"
     ]
    },
    {
     "name": "stdout",
     "output_type": "stream",
     "text": [
      "epoch 98 | loss: 0.28598 | train_mse: 0.13387 | train_mae: 0.28278 |  0:00:08s\n",
      "epoch 99 | loss: 0.17797 | train_mse: 0.13025 | train_mae: 0.28393 |  0:00:08s\n",
      "epoch 100| loss: 0.15804 | train_mse: 0.12703 | train_mae: 0.2811  |  0:00:08s\n",
      "epoch 101| loss: 0.13508 | train_mse: 0.1137  | train_mae: 0.26396 |  0:00:08s\n"
     ]
    },
    {
     "name": "stdout",
     "output_type": "stream",
     "text": [
      "epoch 102| loss: 0.26064 | train_mse: 0.11649 | train_mae: 0.27083 |  0:00:08s\n",
      "epoch 103| loss: 0.17274 | train_mse: 0.12817 | train_mae: 0.28486 |  0:00:08s\n",
      "epoch 104| loss: 0.19992 | train_mse: 0.16235 | train_mae: 0.31799 |  0:00:08s\n",
      "epoch 105| loss: 0.25883 | train_mse: 0.1731  | train_mae: 0.32181 |  0:00:08s\n"
     ]
    },
    {
     "name": "stdout",
     "output_type": "stream",
     "text": [
      "epoch 106| loss: 0.18564 | train_mse: 0.15753 | train_mae: 0.30293 |  0:00:08s\n",
      "epoch 107| loss: 0.30141 | train_mse: 0.13536 | train_mae: 0.29545 |  0:00:08s\n",
      "epoch 108| loss: 0.2067  | train_mse: 0.13193 | train_mae: 0.29613 |  0:00:08s\n"
     ]
    },
    {
     "name": "stdout",
     "output_type": "stream",
     "text": [
      "epoch 109| loss: 0.14602 | train_mse: 0.13628 | train_mae: 0.3038  |  0:00:08s\n",
      "epoch 110| loss: 0.1822  | train_mse: 0.12494 | train_mae: 0.29362 |  0:00:08s\n",
      "epoch 111| loss: 0.17083 | train_mse: 0.12207 | train_mae: 0.29211 |  0:00:08s\n",
      "epoch 112| loss: 0.19891 | train_mse: 0.11661 | train_mae: 0.28738 |  0:00:09s\n"
     ]
    },
    {
     "name": "stdout",
     "output_type": "stream",
     "text": [
      "epoch 113| loss: 0.25505 | train_mse: 0.1223  | train_mae: 0.28872 |  0:00:09s\n",
      "epoch 114| loss: 0.13686 | train_mse: 0.1252  | train_mae: 0.29247 |  0:00:09s\n",
      "epoch 115| loss: 0.1719  | train_mse: 0.1264  | train_mae: 0.28918 |  0:00:09s\n",
      "epoch 116| loss: 0.19053 | train_mse: 0.1648  | train_mae: 0.31882 |  0:00:09s\n"
     ]
    },
    {
     "name": "stdout",
     "output_type": "stream",
     "text": [
      "epoch 117| loss: 0.23119 | train_mse: 0.15006 | train_mae: 0.30787 |  0:00:09s\n",
      "epoch 118| loss: 0.18573 | train_mse: 0.12608 | train_mae: 0.28646 |  0:00:09s\n",
      "epoch 119| loss: 0.13846 | train_mse: 0.13174 | train_mae: 0.29117 |  0:00:09s\n",
      "epoch 120| loss: 0.13824 | train_mse: 0.13968 | train_mae: 0.29575 |  0:00:09s\n"
     ]
    },
    {
     "name": "stdout",
     "output_type": "stream",
     "text": [
      "epoch 121| loss: 0.18176 | train_mse: 0.12507 | train_mae: 0.28883 |  0:00:09s\n",
      "epoch 122| loss: 0.33896 | train_mse: 0.11823 | train_mae: 0.28306 |  0:00:09s\n",
      "epoch 123| loss: 0.25938 | train_mse: 0.10393 | train_mae: 0.26465 |  0:00:09s\n"
     ]
    },
    {
     "name": "stdout",
     "output_type": "stream",
     "text": [
      "epoch 124| loss: 0.12385 | train_mse: 0.10983 | train_mae: 0.26621 |  0:00:09s\n",
      "epoch 125| loss: 0.16225 | train_mse: 0.1262  | train_mae: 0.2812  |  0:00:09s\n",
      "\n",
      "Early stopping occurred at epoch 125 with best_epoch = 75 and best_train_mae = 0.25584\n",
      "Best weights from best epoch are automatically used!\n"
     ]
    }
   ],
   "source": [
    "#Train the Model\n",
    "\n",
    "Y_train = np.reshape(Y_train, (-1, 1))\n",
    "Y_test = np.reshape(Y_test, (-1, 1))\n",
    "\n",
    "prior_model = TabNetRegressor(optimizer_fn=torch.optim.Adam, optimizer_params=dict(lr = 0.02),\n",
    "          #scheduler_params={\"step_size\":10, ], \"gamma\":0.9},\n",
    "          #scheduler_fn=torch.optim.lr_scheduler.StepLR\n",
    "          )  #TabNetRegressor()\n",
    "\n",
    "prior_model.fit(X_train,Y_train,eval_set=[(X_train, Y_train)],\n",
    "            eval_name=['train'], \n",
    "            eval_metric=[ 'mse', 'mae'], \n",
    "            max_epochs = n_epochs, \n",
    "            batch_size = batch_size,\n",
    "            patience=50\n",
    "            )"
   ]
  },
  {
   "cell_type": "code",
   "execution_count": 10,
   "id": "af65dcda",
   "metadata": {
    "execution": {
     "iopub.execute_input": "2022-06-22T11:51:42.719033Z",
     "iopub.status.busy": "2022-06-22T11:51:42.718196Z",
     "iopub.status.idle": "2022-06-22T11:51:42.741071Z",
     "shell.execute_reply": "2022-06-22T11:51:42.741607Z"
    },
    "id": "af65dcda",
    "papermill": {
     "duration": 0.060321,
     "end_time": "2022-06-22T11:51:42.741931",
     "exception": false,
     "start_time": "2022-06-22T11:51:42.681610",
     "status": "completed"
    },
    "tags": []
   },
   "outputs": [
    {
     "data": {
      "application/scrapbook.scrap.json+json": {
       "data": 0.29993331421309477,
       "encoder": "json",
       "name": "Prior Model MSE",
       "version": 1
      }
     },
     "metadata": {
      "scrapbook": {
       "data": true,
       "display": false,
       "name": "Prior Model MSE"
      }
     },
     "output_type": "display_data"
    },
    {
     "data": {
      "application/scrapbook.scrap.json+json": {
       "data": 0.3026063209849464,
       "encoder": "json",
       "name": "ABC Pre-generator MSE",
       "version": 1
      }
     },
     "metadata": {
      "scrapbook": {
       "data": true,
       "display": false,
       "name": "ABC Pre-generator MSE"
      }
     },
     "output_type": "display_data"
    },
    {
     "data": {
      "application/scrapbook.scrap.json+json": {
       "data": 0.3856984151684802,
       "encoder": "json",
       "name": "Prior Model MSE",
       "version": 1
      }
     },
     "metadata": {
      "scrapbook": {
       "data": true,
       "display": false,
       "name": "Prior Model MSE"
      }
     },
     "output_type": "display_data"
    },
    {
     "data": {
      "application/scrapbook.scrap.json+json": {
       "data": 0.4105245629683356,
       "encoder": "json",
       "name": "ABC Pre-generator MSE",
       "version": 1
      }
     },
     "metadata": {
      "scrapbook": {
       "data": true,
       "display": false,
       "name": "ABC Pre-generator MSE"
      }
     },
     "output_type": "display_data"
    }
   ],
   "source": [
    "y_pred = prior_model.predict(X_test)\n",
    "y_abc = y_pred + np.random.normal(0,variance, y_pred.shape) + bias \n",
    "mse = mean_squared_error(y_pred,Y_test)\n",
    "sb.glue(\"Prior Model MSE\",mse)\n",
    "mse = mean_squared_error(y_abc,Y_test)\n",
    "sb.glue(\"ABC Pre-generator MSE\",mse)\n",
    "mae = mean_absolute_error(y_pred,Y_test)\n",
    "sb.glue(\"Prior Model MSE\",mae)\n",
    "mae = mean_absolute_error(y_abc,Y_test)\n",
    "sb.glue(\"ABC Pre-generator MSE\",mae)"
   ]
  },
  {
   "cell_type": "markdown",
   "id": "25609da2",
   "metadata": {
    "papermill": {
     "duration": 0.025771,
     "end_time": "2022-06-22T11:51:42.795685",
     "exception": false,
     "start_time": "2022-06-22T11:51:42.769914",
     "status": "completed"
    },
    "tags": []
   },
   "source": [
    "# ABC GAN Model"
   ]
  },
  {
   "cell_type": "code",
   "execution_count": 11,
   "id": "dfc3464d",
   "metadata": {
    "execution": {
     "iopub.execute_input": "2022-06-22T11:51:42.864569Z",
     "iopub.status.busy": "2022-06-22T11:51:42.863561Z",
     "iopub.status.idle": "2022-06-22T11:51:42.865598Z",
     "shell.execute_reply": "2022-06-22T11:51:42.866449Z"
    },
    "papermill": {
     "duration": 0.045833,
     "end_time": "2022-06-22T11:51:42.866796",
     "exception": false,
     "start_time": "2022-06-22T11:51:42.820963",
     "status": "completed"
    },
    "tags": []
   },
   "outputs": [],
   "source": [
    "gen = network.Generator(n_features+1).to(device)\n",
    "disc = network.Discriminator(n_features+1).to(device)\n",
    "\n",
    "criterion = torch.nn.BCELoss()\n",
    "gen_opt = torch.optim.Adam(gen.parameters(), lr=0.001, betas=(0.5, 0.999))\n",
    "disc_opt = torch.optim.Adam(disc.parameters(), lr=0.001, betas=(0.5, 0.999))"
   ]
  },
  {
   "cell_type": "code",
   "execution_count": 12,
   "id": "b75fdd85",
   "metadata": {
    "execution": {
     "iopub.execute_input": "2022-06-22T11:51:42.929522Z",
     "iopub.status.busy": "2022-06-22T11:51:42.928755Z",
     "iopub.status.idle": "2022-06-22T11:52:25.097598Z",
     "shell.execute_reply": "2022-06-22T11:52:25.098173Z"
    },
    "papermill": {
     "duration": 42.203055,
     "end_time": "2022-06-22T11:52:25.098389",
     "exception": false,
     "start_time": "2022-06-22T11:51:42.895334",
     "status": "completed"
    },
    "tags": []
   },
   "outputs": [
    {
     "data": {
      "image/png": "[encoded data removed]",
      "text/plain": [
       "<Figure size 432x288 with 1 Axes>"
      ]
     },
     "metadata": {
      "needs_background": "light"
     },
     "output_type": "display_data"
    },
    {
     "data": {
      "image/png": "[encoded data removed]",
      "text/plain": [
       "<Figure size 432x288 with 1 Axes>"
      ]
     },
     "metadata": {
      "needs_background": "light"
     },
     "output_type": "display_data"
    }
   ],
   "source": [
    "#Training the ABC_GAN \n",
    "ABC_train_test2.training_GAN(disc,gen,disc_opt,gen_opt,train_data,batch_size,n_epochs,criterion,prior_model,variance,bias,device)"
   ]
  },
  {
   "cell_type": "code",
   "execution_count": 13,
   "id": "1fa7c368",
   "metadata": {
    "execution": {
     "iopub.execute_input": "2022-06-22T11:52:25.172502Z",
     "iopub.status.busy": "2022-06-22T11:52:25.171600Z",
     "iopub.status.idle": "2022-06-22T11:52:25.802102Z",
     "shell.execute_reply": "2022-06-22T11:52:25.802540Z"
    },
    "papermill": {
     "duration": 0.67862,
     "end_time": "2022-06-22T11:52:25.802739",
     "exception": false,
     "start_time": "2022-06-22T11:52:25.124119",
     "status": "completed"
    },
    "tags": []
   },
   "outputs": [
    {
     "data": {
      "application/scrapbook.scrap.json+json": {
       "data": 0.4287715149866126,
       "encoder": "json",
       "name": "ABC-GAN Model 1 MSE",
       "version": 1
      }
     },
     "metadata": {
      "scrapbook": {
       "data": true,
       "display": false,
       "name": "ABC-GAN Model 1 MSE"
      }
     },
     "output_type": "display_data"
    },
    {
     "data": {
      "application/scrapbook.scrap.json+json": {
       "data": 0.45640799670293924,
       "encoder": "json",
       "name": "ABC-GAN Model 1 MAE",
       "version": 1
      }
     },
     "metadata": {
      "scrapbook": {
       "data": true,
       "display": false,
       "name": "ABC-GAN Model 1 MAE"
      }
     },
     "output_type": "display_data"
    },
    {
     "data": {
      "application/scrapbook.scrap.json+json": {
       "data": 9.128159934058786,
       "encoder": "json",
       "name": "ABC-GAN Model 1 Manhattan Distance",
       "version": 1
      }
     },
     "metadata": {
      "scrapbook": {
       "data": true,
       "display": false,
       "name": "ABC-GAN Model 1 Manhattan Distance"
      }
     },
     "output_type": "display_data"
    },
    {
     "data": {
      "application/scrapbook.scrap.json+json": {
       "data": 2.926133397651153,
       "encoder": "json",
       "name": "ABC-GAN Model 1 Euclidean distance",
       "version": 1
      }
     },
     "metadata": {
      "scrapbook": {
       "data": true,
       "display": false,
       "name": "ABC-GAN Model 1 Euclidean distance"
      }
     },
     "output_type": "display_data"
    },
    {
     "data": {
      "application/scrapbook.scrap.json+json": {
       "data": [
        [
         0.4561377998352138,
         0.45309707361787266,
         0.36361756697923797,
         0.4521486575747506,
         0.42761777460691286,
         0.3905308084249401,
         0.3916193289476725,
         0.420797629402912,
         0.41338057969554215,
         0.4118920466617505,
         0.4384739721338587,
         0.45077100469992964,
         0.42497500454931403,
         0.4743913633563567,
         0.38394171578830827,
         0.44077002052482916,
         0.4295569648135252,
         0.4680163289821845,
         0.35158397665805313,
         0.417866346432161,
         0.44476297622977656,
         0.4290616880990865,
         0.4718519768779864,
         0.40630374467027286,
         0.3769218179944915,
         0.47178655421013305,
         0.3910728253335165,
         0.44677230640053195,
         0.4150101398012869,
         0.4501409536813202,
         0.43552296567072324,
         0.4314149052003149,
         0.41306969789984394,
         0.3994925860772129,
         0.4729193768835618,
         0.4573939933611319,
         0.46646707991315245,
         0.40744419974586316,
         0.4249917064863794,
         0.4351536351179175,
         0.3585967973194331,
         0.4535495481543027,
         0.43861985903445044,
         0.468608043064597,
         0.4241015250999921,
         0.4494246451366931,
         0.37006714905402915,
         0.42883128283526384,
         0.422111416210652,
         0.45490669501895215,
         0.43519639853914993,
         0.3980790909513285,
         0.4589501130899384,
         0.3936157856069302,
         0.4860607914213072,
         0.45023145977381596,
         0.44915652568354253,
         0.41780679562759565,
         0.4071694307008052,
         0.38739381137408857,
         0.3851767380649762,
         0.4317265418702939,
         0.44126976564591286,
         0.4296018028431531,
         0.46203909002972265,
         0.4807092456318255,
         0.4474539421755366,
         0.4446525907572706,
         0.46948684251719,
         0.4768011496551129,
         0.4308742624496535,
         0.3885605350164052,
         0.3877303700776418,
         0.40580140227731043,
         0.3972309819552447,
         0.40134409287272765,
         0.4719831040305567,
         0.4103873616173709,
         0.4779248289814163,
         0.4275084802812083,
         0.4174598544863001,
         0.4385633462456071,
         0.43197271225643774,
         0.5059327388735221,
         0.36817703802184754,
         0.412054218798379,
         0.4111596877667113,
         0.34971902762208806,
         0.4524158110276848,
         0.37614733416983864,
         0.39927843724191786,
         0.3796538620829787,
         0.4451455115127489,
         0.48963644309269094,
         0.41937820209936855,
         0.4641595722591133,
         0.40959208093484206,
         0.4664801762170807,
         0.44770943264033597,
         0.46303462552454133
        ],
        [
         0.4674341041594744,
         0.46906924732029437,
         0.42372489124536517,
         0.46294713094830514,
         0.44920291788876054,
         0.44315964058041574,
         0.43874730691313746,
         0.4542152211070061,
         0.45185184068977835,
         0.4561845425516367,
         0.45652820989489556,
         0.46777185834944246,
         0.4560904148966074,
         0.4695054370909929,
         0.4402756441384554,
         0.4633165650069714,
         0.4578923534601927,
         0.4701498743146658,
         0.43094980232417585,
         0.4512392055243254,
         0.47086984366178514,
         0.46029927097260953,
         0.4775918465107679,
         0.4608590051531792,
         0.4350721422582865,
         0.4717613894492388,
         0.43817460015416143,
         0.46376928351819513,
         0.4687215868383646,
         0.4509963013231754,
         0.47011050693690776,
         0.457950421795249,
         0.44884639605879784,
         0.4425922825932503,
         0.4778055492788553,
         0.4683570131659508,
         0.46601296216249466,
         0.4451065078377724,
         0.44838404320180414,
         0.47220038510859014,
         0.4295259047299623,
         0.4682448137551546,
         0.4619197499006987,
         0.45809994004666804,
         0.44523598328232766,
         0.45902662537992,
         0.4391010906547308,
         0.47519564516842366,
         0.44591559171676637,
         0.4766531057655811,
         0.44805369824171065,
         0.44280455000698565,
         0.4765636418014765,
         0.44691903963685037,
         0.48046247810125353,
         0.4650501046329737,
         0.46476903446018697,
         0.4610864855349064,
         0.44796085059642793,
         0.4351674739271402,
         0.4353616818785667,
         0.44575182534754276,
         0.46120887361466884,
         0.46424928195774556,
         0.4808944560587406,
         0.46194606013596057,
         0.4673540275543928,
         0.4493399206548929,
         0.47656011804938314,
         0.47281384840607643,
         0.4509833212941885,
         0.428460294008255,
         0.44311703108251094,
         0.43953854255378244,
         0.45428311862051485,
         0.4438729979097843,
         0.4706110216677189,
         0.44709715582430365,
         0.48587079532444477,
         0.46041557379066944,
         0.447659720107913,
         0.4668480958789587,
         0.4490275841206312,
         0.47900904938578603,
         0.4320572171360254,
         0.4362443905323744,
         0.44984129555523394,
         0.4207921177148819,
         0.47475590035319326,
         0.440708264708519,
         0.4603393364697695,
         0.42712911069393156,
         0.4614593144506216,
         0.48775357492268084,
         0.45707706958055494,
         0.46937193237245084,
         0.4482892658561468,
         0.4667350769042969,
         0.46007813811302184,
         0.4623999159783125
        ],
        [
         9.348682083189487,
         9.381384946405888,
         8.474497824907303,
         9.258942618966103,
         8.984058357775211,
         8.863192811608315,
         8.774946138262749,
         9.084304422140121,
         9.037036813795567,
         9.123690851032734,
         9.130564197897911,
         9.35543716698885,
         9.121808297932148,
         9.390108741819859,
         8.805512882769108,
         9.266331300139427,
         9.157847069203854,
         9.402997486293316,
         8.618996046483517,
         9.024784110486507,
         9.417396873235703,
         9.20598541945219,
         9.551836930215359,
         9.217180103063583,
         8.70144284516573,
         9.435227788984776,
         8.763492003083229,
         9.275385670363903,
         9.374431736767292,
         9.019926026463509,
         9.402210138738155,
         9.15900843590498,
         8.976927921175957,
         8.851845651865005,
         9.556110985577106,
         9.367140263319016,
         9.320259243249893,
         8.902130156755447,
         8.967680864036083,
         9.444007702171803,
         8.590518094599247,
         9.364896275103092,
         9.238394998013973,
         9.161998800933361,
         8.904719665646553,
         9.1805325075984,
         8.782021813094616,
         9.503912903368473,
         8.918311834335327,
         9.533062115311623,
         8.961073964834213,
         8.856091000139713,
         9.53127283602953,
         8.938380792737007,
         9.60924956202507,
         9.301002092659473,
         9.29538068920374,
         9.221729710698128,
         8.959217011928558,
         8.703349478542805,
         8.707233637571335,
         8.915036506950855,
         9.224177472293377,
         9.284985639154911,
         9.617889121174812,
         9.238921202719212,
         9.347080551087856,
         8.986798413097858,
         9.531202360987663,
         9.456276968121529,
         9.01966642588377,
         8.5692058801651,
         8.862340621650219,
         8.79077085107565,
         9.085662372410297,
         8.877459958195686,
         9.412220433354378,
         8.941943116486073,
         9.717415906488895,
         9.208311475813389,
         8.95319440215826,
         9.336961917579174,
         8.980551682412624,
         9.580180987715721,
         8.641144342720509,
         8.724887810647488,
         8.996825911104679,
         8.415842354297638,
         9.495118007063866,
         8.81416529417038,
         9.20678672939539,
         8.542582213878632,
         9.229186289012432,
         9.755071498453617,
         9.1415413916111,
         9.387438647449017,
         8.965785317122936,
         9.334701538085938,
         9.201562762260437,
         9.24799831956625
        ],
        [
         3.0203900404921673,
         3.0103058768765436,
         2.6967297490821656,
         3.007153662767337,
         2.924441056362439,
         2.794747961534063,
         2.7986401303049755,
         2.901026126745197,
         2.875345473836291,
         2.870163920969499,
         2.961330687828898,
         3.002568915778386,
         2.9153902124735,
         3.080231690494586,
         2.7710709690959137,
         2.9690739988246473,
         2.931064532942,
         3.0594650806380663,
         2.6517314217622157,
         2.890904171473558,
         2.9824921667282767,
         2.9293742953029627,
         3.0719764871430457,
         2.8506271052884937,
         2.7456213067154454,
         3.0717635137169435,
         2.7966867015578147,
         2.989221659230148,
         2.8810072537266787,
         3.0004698088176798,
         2.9513487278555317,
         2.9373964839643794,
         2.874264072418691,
         2.8266325763254514,
         3.075449160313211,
         3.024546225010066,
         3.0543970924329815,
         2.854625018267244,
         2.915447500766836,
         2.9500970665993944,
         2.678047039614626,
         3.0118085867275917,
         2.96182328653973,
         3.0613985139625224,
         2.912392573469422,
         2.998081537038955,
         2.720540935380422,
         2.9285876556294634,
         2.9055512943696313,
         3.0163113069408207,
         2.950242019018609,
         2.82162751245209,
         3.0296868256964724,
         2.8057647285791094,
         3.117886436101569,
         3.000771433394473,
         2.997187100210938,
         2.890698170434249,
         2.853662316045139,
         2.783500714474809,
         2.7755242317982964,
         2.9384572206186492,
         2.970756690292603,
         2.9312175041888415,
         3.039865424750651,
         3.1006749124402755,
         2.9915011020407016,
         2.982122032235672,
         3.064267751085698,
         3.0880451734231897,
         2.9355553561452505,
         2.7876891326559536,
         2.7847095722090724,
         2.848864343128014,
         2.818620165808954,
         2.833175225335446,
         3.072403306958762,
         2.86491661874258,
         3.0916818367400496,
         2.924067305248661,
         2.8894977227411,
         2.9616324763400574,
         2.9392948550849325,
         3.180983303551033,
         2.7135844855904065,
         2.8707288928018926,
         2.8676111583222412,
         2.644689122078767,
         3.0080419246668915,
         2.7427990599744585,
         2.825874863619824,
         2.755553890175181,
         2.983774493867622,
         3.1293336130642606,
         2.896129148015912,
         3.0468330189201818,
         2.8621393429909805,
         3.054439969019135,
         2.992355034551669,
         3.0431385953470516
        ]
       ],
       "encoder": "json",
       "name": "ABC_GAN_1 Metrics",
       "version": 1
      }
     },
     "metadata": {
      "scrapbook": {
       "data": true,
       "display": false,
       "name": "ABC_GAN_1 Metrics"
      }
     },
     "output_type": "display_data"
    },
    {
     "name": "stdout",
     "output_type": "stream",
     "text": [
      "MSE\n",
      "0.4287715149866126\n"
     ]
    }
   ],
   "source": [
    "ABC_GAN1_metrics=ABC_train_test2.test_generator(gen,test_data,prior_model,variance,bias,\"1\",device)\n",
    "sb.glue(\"ABC_GAN_1 Metrics\",ABC_GAN1_metrics)\n",
    "\n",
    "print(\"MSE\")\n",
    "print(mean(ABC_GAN1_metrics[0]))"
   ]
  },
  {
   "cell_type": "code",
   "execution_count": 14,
   "id": "eb22ce5c",
   "metadata": {
    "execution": {
     "iopub.execute_input": "2022-06-22T11:52:25.881897Z",
     "iopub.status.busy": "2022-06-22T11:52:25.881122Z",
     "iopub.status.idle": "2022-06-22T11:52:26.609831Z",
     "shell.execute_reply": "2022-06-22T11:52:26.610617Z"
    },
    "papermill": {
     "duration": 0.773924,
     "end_time": "2022-06-22T11:52:26.610843",
     "exception": false,
     "start_time": "2022-06-22T11:52:25.836919",
     "status": "completed"
    },
    "tags": []
   },
   "outputs": [
    {
     "data": {
      "image/png": "[encoded data removed]",
      "text/plain": [
       "<Figure size 432x288 with 1 Axes>"
      ]
     },
     "metadata": {
      "needs_background": "light"
     },
     "output_type": "display_data"
    },
    {
     "data": {
      "image/png": "[encoded data removed]",
      "text/plain": [
       "<Figure size 432x288 with 1 Axes>"
      ]
     },
     "metadata": {
      "needs_background": "light"
     },
     "output_type": "display_data"
    },
    {
     "data": {
      "image/png": "[encoded data removed]",
      "text/plain": [
       "<Figure size 432x288 with 1 Axes>"
      ]
     },
     "metadata": {
      "needs_background": "light"
     },
     "output_type": "display_data"
    },
    {
     "data": {
      "image/png": "[encoded data removed]",
      "text/plain": [
       "<Figure size 432x288 with 1 Axes>"
      ]
     },
     "metadata": {
      "needs_background": "light"
     },
     "output_type": "display_data"
    }
   ],
   "source": [
    "sanityChecks.discProbVsError(train_data,disc,device)\n",
    "sanityChecks.discProbVsError(test_data,disc,device)"
   ]
  },
  {
   "cell_type": "markdown",
   "id": "130f3a4d",
   "metadata": {
    "id": "130f3a4d",
    "papermill": {
     "duration": 0.03603,
     "end_time": "2022-06-22T11:52:26.681891",
     "exception": false,
     "start_time": "2022-06-22T11:52:26.645861",
     "status": "completed"
    },
    "tags": []
   },
   "source": [
    "# ABC - GAN Model with skip connection"
   ]
  },
  {
   "cell_type": "code",
   "execution_count": 15,
   "id": "4e43dad1",
   "metadata": {
    "execution": {
     "iopub.execute_input": "2022-06-22T11:52:26.768034Z",
     "iopub.status.busy": "2022-06-22T11:52:26.767333Z",
     "iopub.status.idle": "2022-06-22T11:52:26.772597Z",
     "shell.execute_reply": "2022-06-22T11:52:26.773146Z"
    },
    "id": "4e43dad1",
    "papermill": {
     "duration": 0.057688,
     "end_time": "2022-06-22T11:52:26.773364",
     "exception": false,
     "start_time": "2022-06-22T11:52:26.715676",
     "status": "completed"
    },
    "tags": []
   },
   "outputs": [],
   "source": [
    "#Generator\n",
    "gen3 = network.GeneratorWithSkipConnection(n_features+1).to(device)\n",
    "constraints=network.weightConstraint()\n",
    "#Discriminator \n",
    "disc3 = network.Discriminator(n_features+1).to(device)\n",
    "\n",
    "criterion = torch.nn.BCELoss()\n",
    "gen_opt = torch.optim.Adam(gen3.parameters(), lr=0.001, betas=(0.5, 0.999))\n",
    "disc_opt = torch.optim.Adam(disc3.parameters(), lr=0.001, betas=(0.5, 0.999))\n"
   ]
  },
  {
   "cell_type": "code",
   "execution_count": 16,
   "id": "26acbc37",
   "metadata": {
    "execution": {
     "iopub.execute_input": "2022-06-22T11:52:26.847252Z",
     "iopub.status.busy": "2022-06-22T11:52:26.846540Z",
     "iopub.status.idle": "2022-06-22T11:53:32.874368Z",
     "shell.execute_reply": "2022-06-22T11:53:32.875003Z"
    },
    "id": "26acbc37",
    "papermill": {
     "duration": 66.068394,
     "end_time": "2022-06-22T11:53:32.875207",
     "exception": false,
     "start_time": "2022-06-22T11:52:26.806813",
     "status": "completed"
    },
    "tags": []
   },
   "outputs": [
    {
     "data": {
      "image/png": "[encoded data removed]",
      "text/plain": [
       "<Figure size 432x288 with 1 Axes>"
      ]
     },
     "metadata": {
      "needs_background": "light"
     },
     "output_type": "display_data"
    },
    {
     "data": {
      "image/png": "[encoded data removed]",
      "text/plain": [
       "<Figure size 432x288 with 1 Axes>"
      ]
     },
     "metadata": {
      "needs_background": "light"
     },
     "output_type": "display_data"
    }
   ],
   "source": [
    "ABC_train_test2.training_GAN_skip_connection(disc3,gen3,disc_opt,gen_opt,train_data,batch_size,n_epochs,criterion,prior_model,variance,bias,device)"
   ]
  },
  {
   "cell_type": "code",
   "execution_count": 17,
   "id": "c5e0717b",
   "metadata": {
    "execution": {
     "iopub.execute_input": "2022-06-22T11:53:32.974139Z",
     "iopub.status.busy": "2022-06-22T11:53:32.971816Z",
     "iopub.status.idle": "2022-06-22T11:53:33.736134Z",
     "shell.execute_reply": "2022-06-22T11:53:33.736817Z"
    },
    "id": "c5e0717b",
    "papermill": {
     "duration": 0.822607,
     "end_time": "2022-06-22T11:53:33.737028",
     "exception": false,
     "start_time": "2022-06-22T11:53:32.914421",
     "status": "completed"
    },
    "tags": []
   },
   "outputs": [
    {
     "data": {
      "application/scrapbook.scrap.json+json": {
       "data": 0.43912157688467546,
       "encoder": "json",
       "name": "ABC-GAN Model 3 MSE",
       "version": 1
      }
     },
     "metadata": {
      "scrapbook": {
       "data": true,
       "display": false,
       "name": "ABC-GAN Model 3 MSE"
      }
     },
     "output_type": "display_data"
    },
    {
     "data": {
      "application/scrapbook.scrap.json+json": {
       "data": 0.46247807289101184,
       "encoder": "json",
       "name": "ABC-GAN Model 3 MAE",
       "version": 1
      }
     },
     "metadata": {
      "scrapbook": {
       "data": true,
       "display": false,
       "name": "ABC-GAN Model 3 MAE"
      }
     },
     "output_type": "display_data"
    },
    {
     "data": {
      "application/scrapbook.scrap.json+json": {
       "data": 9.249561457820237,
       "encoder": "json",
       "name": "ABC-GAN Model 3 Manhattan Distance",
       "version": 1
      }
     },
     "metadata": {
      "scrapbook": {
       "data": true,
       "display": false,
       "name": "ABC-GAN Model 3 Manhattan Distance"
      }
     },
     "output_type": "display_data"
    },
    {
     "data": {
      "application/scrapbook.scrap.json+json": {
       "data": 2.9625634326991337,
       "encoder": "json",
       "name": "ABC-GAN Model 3 Euclidean distance",
       "version": 1
      }
     },
     "metadata": {
      "scrapbook": {
       "data": true,
       "display": false,
       "name": "ABC-GAN Model 3 Euclidean distance"
      }
     },
     "output_type": "display_data"
    },
    {
     "data": {
      "application/scrapbook.scrap.json+json": {
       "data": [
        [
         0.4390084087162528,
         0.43595278801477255,
         0.4355806707442502,
         0.4281370155003607,
         0.4190952887970722,
         0.43404198688797235,
         0.4298497735206082,
         0.42607685865192096,
         0.4618432621626896,
         0.4184449976283213,
         0.42841060947378234,
         0.4420393579191729,
         0.4054988481905905,
         0.43014060944648874,
         0.42930010680734193,
         0.4828576105376056,
         0.44942156044224335,
         0.47084127648530655,
         0.4574055833071215,
         0.4585422783699853,
         0.4443896031794413,
         0.4432867706722984,
         0.4387734710400529,
         0.43480078747479595,
         0.4339132912693337,
         0.4327380696911261,
         0.45209664063706556,
         0.4738276470617799,
         0.3889885602900417,
         0.4560423072762168,
         0.3827601780449693,
         0.43805240269888746,
         0.4171174491523152,
         0.4713666795909841,
         0.4273772898177349,
         0.4259577557015925,
         0.44737728880592875,
         0.40530656507707974,
         0.43875724205422895,
         0.4422537529564542,
         0.4311434804290177,
         0.4511350495333632,
         0.46384647973699156,
         0.43894121369191064,
         0.4392066410171921,
         0.4228743135869548,
         0.42651329337617144,
         0.4129596739972354,
         0.42538386562548725,
         0.48179774441780177,
         0.4437237789193623,
         0.4662521634032095,
         0.41829667345675225,
         0.4204022519605962,
         0.4596463793592346,
         0.4358008075214606,
         0.46760097306995085,
         0.4550868544487415,
         0.3967877303448461,
         0.4287271788145925,
         0.4224022459242338,
         0.4524106290937196,
         0.41618519244676194,
         0.42256963162227895,
         0.4836400193043603,
         0.4682027631357606,
         0.4541523363256643,
         0.4152491331040612,
         0.4429274462123791,
         0.43578257809349513,
         0.3853645026535573,
         0.49092705581997065,
         0.447328523365798,
         0.4544909031576442,
         0.5029326757203517,
         0.4305372966156014,
         0.43328227706336336,
         0.4394613570538562,
         0.4174390102252666,
         0.4280508760597573,
         0.41786670395619996,
         0.41786843927002837,
         0.42050701324955336,
         0.4403588423979715,
         0.42971909948276005,
         0.45067542417690676,
         0.45772190290077414,
         0.48237645432483456,
         0.4556656654134093,
         0.42547190130734336,
         0.44568956879573457,
         0.4439216735655848,
         0.4404388757454976,
         0.42192480032492996,
         0.47654048037236707,
         0.46994209690924665,
         0.4099825081310824,
         0.4319124608861107,
         0.43841501386191145,
         0.42802311959036105
        ],
        [
         0.45459453798830507,
         0.4563130497932434,
         0.46623777635395525,
         0.46545810960233214,
         0.4629186324775219,
         0.4637449074536562,
         0.4432799253612757,
         0.4697185203433037,
         0.46067584604024886,
         0.45753223206847904,
         0.4542145926505327,
         0.4718482792377472,
         0.4383148800581694,
         0.4547059707343578,
         0.4438623238354921,
         0.49176424108445643,
         0.45380154959857466,
         0.48773566707968713,
         0.4780245117843151,
         0.4755391083657742,
         0.4691191803663969,
         0.4698821917176247,
         0.4673193937167525,
         0.4809690695255995,
         0.45753884986042975,
         0.4577520936727524,
         0.4712226588279009,
         0.4627203900367022,
         0.4478320233523846,
         0.4678499236702919,
         0.4364927649497986,
         0.47220826931297777,
         0.44942465983331203,
         0.4734971156343818,
         0.4485444528982043,
         0.4572065453976393,
         0.4581119051203132,
         0.4531911492347717,
         0.4795544546097517,
         0.46416876204311847,
         0.46471805945038797,
         0.4676630202680826,
         0.45705565847456453,
         0.46674939841032026,
         0.4619769986718893,
         0.4455976005643606,
         0.44881525114178655,
         0.44167367070913316,
         0.44486105889081956,
         0.495394217222929,
         0.4653613306581974,
         0.4774942906573415,
         0.4547257237136364,
         0.43830080442130565,
         0.48362667541950943,
         0.46324594393372537,
         0.47452826872467996,
         0.45322422608733176,
         0.4500096520408988,
         0.4681234393268824,
         0.44480451196432114,
         0.4632274031639099,
         0.4549698932096362,
         0.4439876850694418,
         0.49248247779905796,
         0.46911154612898825,
         0.4692964695394039,
         0.43577507305890323,
         0.4617447178810835,
         0.44975300654768946,
         0.43091621063649654,
         0.48706219606101514,
         0.46525491271167996,
         0.4557817317545414,
         0.49829855784773824,
         0.4671954046934843,
         0.4662003766745329,
         0.453345275297761,
         0.45633436404168604,
         0.4594725675880909,
         0.4522975582629442,
         0.45692824125289916,
         0.4407509781420231,
         0.4743631906807423,
         0.4550815850496292,
         0.4787262748926878,
         0.47605396118015053,
         0.4846645347774029,
         0.47285396568477156,
         0.4591969795525074,
         0.45665940679609773,
         0.45827250424772503,
         0.46615598164498806,
         0.46209229789674283,
         0.4717797849327326,
         0.4738829772919416,
         0.4526120241731405,
         0.46806626468896867,
         0.48290924802422525,
         0.46140934377908704
        ],
        [
         9.091890759766102,
         9.126260995864868,
         9.324755527079105,
         9.309162192046642,
         9.258372649550438,
         9.274898149073124,
         8.865598507225513,
         9.394370406866074,
         9.213516920804977,
         9.150644641369581,
         9.084291853010654,
         9.436965584754944,
         8.766297601163387,
         9.094119414687157,
         8.877246476709843,
         9.835284821689129,
         9.076030991971493,
         9.754713341593742,
         9.560490235686302,
         9.510782167315483,
         9.382383607327938,
         9.397643834352493,
         9.34638787433505,
         9.61938139051199,
         9.150776997208595,
         9.155041873455048,
         9.424453176558018,
         9.254407800734043,
         8.956640467047691,
         9.356998473405838,
         8.729855298995972,
         9.444165386259556,
         8.98849319666624,
         9.469942312687635,
         8.970889057964087,
         9.144130907952785,
         9.162238102406263,
         9.063822984695435,
         9.591089092195034,
         9.28337524086237,
         9.294361189007759,
         9.353260405361652,
         9.141113169491291,
         9.334987968206406,
         9.239539973437786,
         8.911952011287212,
         8.976305022835732,
         8.833473414182663,
         8.897221177816391,
         9.90788434445858,
         9.307226613163948,
         9.54988581314683,
         9.094514474272728,
         8.766016088426113,
         9.672533508390188,
         9.264918878674507,
         9.490565374493599,
         9.064484521746635,
         9.000193040817976,
         9.362468786537647,
         8.896090239286423,
         9.264548063278198,
         9.099397864192724,
         8.879753701388836,
         9.84964955598116,
         9.382230922579765,
         9.385929390788078,
         8.715501461178064,
         9.23489435762167,
         8.995060130953789,
         8.61832421272993,
         9.741243921220303,
         9.305098254233599,
         9.115634635090828,
         9.965971156954765,
         9.343908093869686,
         9.324007533490658,
         9.06690550595522,
         9.126687280833721,
         9.189451351761818,
         9.045951165258884,
         9.138564825057983,
         8.815019562840462,
         9.487263813614845,
         9.101631700992584,
         9.574525497853756,
         9.52107922360301,
         9.693290695548058,
         9.45707931369543,
         9.183939591050148,
         9.133188135921955,
         9.1654500849545,
         9.323119632899761,
         9.241845957934856,
         9.435595698654652,
         9.477659545838833,
         9.05224048346281,
         9.361325293779373,
         9.658184960484505,
         9.228186875581741
        ],
        [
         2.963134855912747,
         2.95280472776231,
         2.9515442424068468,
         2.926216039530782,
         2.895152116200709,
         2.9463264818684722,
         2.932063346930309,
         2.9191672053923905,
         3.039221157345051,
         2.892905106042441,
         2.927150865513366,
         2.9733461215242767,
         2.847802128626884,
         2.933055094765486,
         2.9301880718047504,
         3.1075958892288607,
         2.9980712481268466,
         3.068684657912268,
         3.024584544386622,
         3.0283403982048824,
         2.9812400211302723,
         2.9775384822779314,
         2.9623418811475926,
         2.9489007696929916,
         2.9458896492208724,
         2.9418975838432107,
         3.006980680473573,
         3.0784010364531125,
         2.7892241225474934,
         3.0200738642497367,
         2.766803852986219,
         2.9599067644062287,
         2.8883124801597044,
         3.0703963248772435,
         2.9236186133548094,
         2.9187591736955363,
         2.9912448539226233,
         2.847126850272322,
         2.962287096330229,
         2.9740670905561433,
         2.9364723067960905,
         3.003781115638632,
         3.045805245701017,
         2.962908077183329,
         2.9638037756140068,
         2.908175763556786,
         2.920661888600498,
         2.873881257105921,
         2.9167922984864294,
         3.104183449533232,
         2.9790058036847205,
         3.053693381474995,
         2.892392343568736,
         2.899662918204791,
         3.0319841007473456,
         2.95228998413591,
         3.0581071697046553,
         3.0169085317547877,
         2.8170471431797024,
         2.928232158878775,
         2.906552067052073,
         3.0080246976835796,
         2.885082988223257,
         2.907127900943744,
         3.11011260022643,
         3.0600743884283617,
         3.0138093381156823,
         2.8818366820625387,
         2.9763314540298738,
         2.9522282367509973,
         2.7762006507223402,
         3.1334551403202524,
         2.991081822236891,
         3.0149325138637653,
         3.1715380360965293,
         2.934407253997309,
         2.94374685414138,
         2.9646630737871584,
         2.8894255838324217,
         2.9259216532906596,
         2.890905408193772,
         2.8909114108530836,
         2.9000241835183154,
         2.967688805781265,
         2.931617640425709,
         3.002250569745659,
         3.0256301918799466,
         3.1060471803397793,
         3.0188264786615653,
         2.9170941064948295,
         2.9855973231356385,
         2.9796700272533023,
         2.967958475940988,
         2.9049089497777034,
         3.0872009340901903,
         3.065753078475977,
         2.8635031277478373,
         2.939089862137974,
         2.9611315872885875,
         2.925826787731499
        ]
       ],
       "encoder": "json",
       "name": "ABC_GAN_3 Metrics",
       "version": 1
      }
     },
     "metadata": {
      "scrapbook": {
       "data": true,
       "display": false,
       "name": "ABC_GAN_3 Metrics"
      }
     },
     "output_type": "display_data"
    },
    {
     "name": "stdout",
     "output_type": "stream",
     "text": [
      "MSE\n",
      "0.43912157688467546\n"
     ]
    }
   ],
   "source": [
    "ABC_GAN3_metrics=ABC_train_test2.test_generator(gen3,test_data,prior_model,variance,bias,\"3\",device)\n",
    "sb.glue(\"ABC_GAN_3 Metrics\",ABC_GAN3_metrics)\n",
    "\n",
    "print(\"MSE\")\n",
    "print(mean(ABC_GAN3_metrics[0]))"
   ]
  },
  {
   "cell_type": "code",
   "execution_count": 18,
   "id": "c8e46b48",
   "metadata": {
    "execution": {
     "iopub.execute_input": "2022-06-22T11:53:33.833595Z",
     "iopub.status.busy": "2022-06-22T11:53:33.832872Z",
     "iopub.status.idle": "2022-06-22T11:53:34.567036Z",
     "shell.execute_reply": "2022-06-22T11:53:34.566601Z"
    },
    "id": "c8e46b48",
    "papermill": {
     "duration": 0.788289,
     "end_time": "2022-06-22T11:53:34.567214",
     "exception": false,
     "start_time": "2022-06-22T11:53:33.778925",
     "status": "completed"
    },
    "tags": []
   },
   "outputs": [
    {
     "data": {
      "image/png": "[encoded data removed]",
      "text/plain": [
       "<Figure size 432x288 with 1 Axes>"
      ]
     },
     "metadata": {
      "needs_background": "light"
     },
     "output_type": "display_data"
    },
    {
     "data": {
      "image/png": "[encoded data removed]",
      "text/plain": [
       "<Figure size 432x288 with 1 Axes>"
      ]
     },
     "metadata": {
      "needs_background": "light"
     },
     "output_type": "display_data"
    },
    {
     "data": {
      "image/png": "[encoded data removed]",
      "text/plain": [
       "<Figure size 432x288 with 1 Axes>"
      ]
     },
     "metadata": {
      "needs_background": "light"
     },
     "output_type": "display_data"
    },
    {
     "data": {
      "image/png": "[encoded data removed]",
      "text/plain": [
       "<Figure size 432x288 with 1 Axes>"
      ]
     },
     "metadata": {
      "needs_background": "light"
     },
     "output_type": "display_data"
    }
   ],
   "source": [
    "sanityChecks.discProbVsError(train_data,disc3,device)\n",
    "sanityChecks.discProbVsError(test_data,disc3,device)"
   ]
  },
  {
   "cell_type": "markdown",
   "id": "a5bd74c3",
   "metadata": {
    "id": "a5bd74c3",
    "papermill": {
     "duration": 0.047328,
     "end_time": "2022-06-22T11:53:34.665446",
     "exception": false,
     "start_time": "2022-06-22T11:53:34.618118",
     "status": "completed"
    },
    "tags": []
   },
   "source": [
    "## Skip Connection Model Analysis - ABC-GAN "
   ]
  },
  {
   "cell_type": "markdown",
   "id": "5744a8bf",
   "metadata": {
    "id": "5744a8bf",
    "papermill": {
     "duration": 0.041854,
     "end_time": "2022-06-22T11:53:34.748942",
     "exception": false,
     "start_time": "2022-06-22T11:53:34.707088",
     "status": "completed"
    },
    "tags": []
   },
   "source": [
    "### Weight Analysis \n",
    "\n",
    "Study the weights of the skip connection layer\n",
    "\n",
    "Equation of the skip connection is \n",
    "\n",
    "$output = y_{gan} * w + y_{abc} * (1-w)$"
   ]
  },
  {
   "cell_type": "code",
   "execution_count": 19,
   "id": "52c31dea",
   "metadata": {
    "execution": {
     "iopub.execute_input": "2022-06-22T11:53:34.853737Z",
     "iopub.status.busy": "2022-06-22T11:53:34.853045Z",
     "iopub.status.idle": "2022-06-22T11:53:34.859646Z",
     "shell.execute_reply": "2022-06-22T11:53:34.860105Z"
    },
    "id": "52c31dea",
    "papermill": {
     "duration": 0.065726,
     "end_time": "2022-06-22T11:53:34.860306",
     "exception": false,
     "start_time": "2022-06-22T11:53:34.794580",
     "status": "completed"
    },
    "tags": []
   },
   "outputs": [
    {
     "name": "stdout",
     "output_type": "stream",
     "text": [
      "Weight of the node at skip connection\n",
      "Parameter containing:\n",
      "tensor([[0.6049]], requires_grad=True)\n"
     ]
    },
    {
     "data": {
      "application/scrapbook.scrap.json+json": {
       "data": 0.6048504710197449,
       "encoder": "json",
       "name": "Skip Connection Weight",
       "version": 1
      }
     },
     "metadata": {
      "scrapbook": {
       "data": true,
       "display": false,
       "name": "Skip Connection Weight"
      }
     },
     "output_type": "display_data"
    }
   ],
   "source": [
    "print(\"Weight of the node at skip connection\")\n",
    "for name,param in gen3.named_parameters():\n",
    "    if(name == \"skipNode.weight\"):\n",
    "        print(param)\n",
    "        sb.glue(\"Skip Connection Weight\",param.item())"
   ]
  }
 ],
 "metadata": {
  "colab": {
   "collapsed_sections": [],
   "name": "ABC_GAN_Model-Catboost_Pre-gen.ipynb",
   "provenance": []
  },
  "interpreter": {
   "hash": "31f2aee4e71d21fbe5cf8b01ff0e069b9275f58929596ceb00d14d90e3e16cd6"
  },
  "kernelspec": {
   "display_name": "Python 3 (ipykernel)",
   "language": "python",
   "name": "python3"
  },
  "language_info": {
   "codemirror_mode": {
    "name": "ipython",
    "version": 3
   },
   "file_extension": ".py",
   "mimetype": "text/x-python",
   "name": "python",
   "nbconvert_exporter": "python",
   "pygments_lexer": "ipython3",
   "version": "3.8.3"
  },
  "papermill": {
   "default_parameters": {},
   "duration": 132.159775,
   "end_time": "2022-06-22T11:53:35.660346",
   "environment_variables": {},
   "exception": null,
   "input_path": "ABC_GAN-TabNet.ipynb",
   "output_path": "./ABC_GAN_TabNet/ABC-GAN_output_1_10.ipynb",
   "parameters": {
    "bias": 0,
    "variance": 0.1
   },
   "start_time": "2022-06-22T11:51:23.500571",
   "version": "2.3.3"
  }
 },
 "nbformat": 4,
 "nbformat_minor": 5
}