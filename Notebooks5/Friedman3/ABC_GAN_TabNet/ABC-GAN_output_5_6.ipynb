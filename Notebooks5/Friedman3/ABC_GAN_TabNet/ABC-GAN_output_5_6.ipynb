{
 "cells": [
  {
   "cell_type": "markdown",
   "id": "622780e6",
   "metadata": {
    "id": "622780e6",
    "papermill": {
     "duration": 0.032435,
     "end_time": "2022-06-22T13:49:04.797014",
     "exception": false,
     "start_time": "2022-06-22T13:49:04.764579",
     "status": "completed"
    },
    "tags": []
   },
   "source": [
    "## Import Libraries "
   ]
  },
  {
   "cell_type": "code",
   "execution_count": 1,
   "id": "a62397e3",
   "metadata": {
    "execution": {
     "iopub.execute_input": "2022-06-22T13:49:04.877280Z",
     "iopub.status.busy": "2022-06-22T13:49:04.876247Z",
     "iopub.status.idle": "2022-06-22T13:49:04.881254Z",
     "shell.execute_reply": "2022-06-22T13:49:04.882687Z"
    },
    "id": "a62397e3",
    "papermill": {
     "duration": 0.059487,
     "end_time": "2022-06-22T13:49:04.883054",
     "exception": false,
     "start_time": "2022-06-22T13:49:04.823567",
     "status": "completed"
    },
    "tags": []
   },
   "outputs": [],
   "source": [
    "import warnings\n",
    "import sys\n",
    "sys.path.insert(0, '../../src')\n",
    "warnings.filterwarnings('ignore')"
   ]
  },
  {
   "cell_type": "code",
   "execution_count": 2,
   "id": "d6a4e155",
   "metadata": {
    "execution": {
     "iopub.execute_input": "2022-06-22T13:49:04.931831Z",
     "iopub.status.busy": "2022-06-22T13:49:04.930994Z",
     "iopub.status.idle": "2022-06-22T13:49:11.334436Z",
     "shell.execute_reply": "2022-06-22T13:49:11.340027Z"
    },
    "id": "d6a4e155",
    "papermill": {
     "duration": 6.43996,
     "end_time": "2022-06-22T13:49:11.340569",
     "exception": false,
     "start_time": "2022-06-22T13:49:04.900609",
     "status": "completed"
    },
    "tags": []
   },
   "outputs": [],
   "source": [
    "import ABC_train_test2\n",
    "import friedman3Dataset\n",
    "import network\n",
    "import dataset\n",
    "import sanityChecks\n",
    "import torch \n",
    "import scrapbook as sb\n",
    "from statistics import mean \n",
    "import catboost as ctb \n",
    "from sklearn.model_selection import train_test_split\n",
    "from sklearn.metrics import mean_squared_error,mean_absolute_error\n",
    "import numpy as np\n",
    "from pytorch_tabnet.tab_model import TabNetRegressor"
   ]
  },
  {
   "cell_type": "markdown",
   "id": "2fa5b0f7",
   "metadata": {
    "id": "2fa5b0f7",
    "papermill": {
     "duration": 0.021488,
     "end_time": "2022-06-22T13:49:11.380021",
     "exception": false,
     "start_time": "2022-06-22T13:49:11.358533",
     "status": "completed"
    },
    "tags": []
   },
   "source": [
    "## Parameters "
   ]
  },
  {
   "cell_type": "code",
   "execution_count": 3,
   "id": "783186fb",
   "metadata": {
    "execution": {
     "iopub.execute_input": "2022-06-22T13:49:11.433052Z",
     "iopub.status.busy": "2022-06-22T13:49:11.431908Z",
     "iopub.status.idle": "2022-06-22T13:49:11.435399Z",
     "shell.execute_reply": "2022-06-22T13:49:11.436032Z"
    },
    "id": "783186fb",
    "papermill": {
     "duration": 0.034404,
     "end_time": "2022-06-22T13:49:11.436259",
     "exception": false,
     "start_time": "2022-06-22T13:49:11.401855",
     "status": "completed"
    },
    "tags": [
     "parameters"
    ]
   },
   "outputs": [],
   "source": [
    "variance = 1\n",
    "bias = 1 "
   ]
  },
  {
   "cell_type": "code",
   "execution_count": 4,
   "id": "5a2bda20",
   "metadata": {
    "execution": {
     "iopub.execute_input": "2022-06-22T13:49:11.491353Z",
     "iopub.status.busy": "2022-06-22T13:49:11.490230Z",
     "iopub.status.idle": "2022-06-22T13:49:11.492622Z",
     "shell.execute_reply": "2022-06-22T13:49:11.492035Z"
    },
    "papermill": {
     "duration": 0.039325,
     "end_time": "2022-06-22T13:49:11.492952",
     "exception": false,
     "start_time": "2022-06-22T13:49:11.453627",
     "status": "completed"
    },
    "tags": [
     "injected-parameters"
    ]
   },
   "outputs": [],
   "source": [
    "# Parameters\n",
    "variance = 1\n",
    "bias = 0.01\n"
   ]
  },
  {
   "cell_type": "markdown",
   "id": "391cdbfd",
   "metadata": {
    "id": "391cdbfd",
    "papermill": {
     "duration": 0.032033,
     "end_time": "2022-06-22T13:49:11.544271",
     "exception": false,
     "start_time": "2022-06-22T13:49:11.512238",
     "status": "completed"
    },
    "tags": []
   },
   "source": [
    "## Dataset \n"
   ]
  },
  {
   "cell_type": "code",
   "execution_count": 5,
   "id": "5b51f161",
   "metadata": {
    "execution": {
     "iopub.execute_input": "2022-06-22T13:49:11.594132Z",
     "iopub.status.busy": "2022-06-22T13:49:11.591588Z",
     "iopub.status.idle": "2022-06-22T13:49:11.595612Z",
     "shell.execute_reply": "2022-06-22T13:49:11.596158Z"
    },
    "id": "5b51f161",
    "papermill": {
     "duration": 0.032194,
     "end_time": "2022-06-22T13:49:11.596385",
     "exception": false,
     "start_time": "2022-06-22T13:49:11.564191",
     "status": "completed"
    },
    "tags": []
   },
   "outputs": [],
   "source": [
    "#Parameters \n",
    "n_features = 4\n",
    "n_samples= 100\n",
    "n_target = 1"
   ]
  },
  {
   "cell_type": "code",
   "execution_count": 6,
   "id": "5d6eced4",
   "metadata": {
    "execution": {
     "iopub.execute_input": "2022-06-22T13:49:11.751448Z",
     "iopub.status.busy": "2022-06-22T13:49:11.735811Z",
     "iopub.status.idle": "2022-06-22T13:49:11.766491Z",
     "shell.execute_reply": "2022-06-22T13:49:11.762547Z"
    },
    "id": "5d6eced4",
    "papermill": {
     "duration": 0.152316,
     "end_time": "2022-06-22T13:49:11.766796",
     "exception": false,
     "start_time": "2022-06-22T13:49:11.614480",
     "status": "completed"
    },
    "tags": []
   },
   "outputs": [
    {
     "name": "stdout",
     "output_type": "stream",
     "text": [
      "          X1          X2        X3         X4         Y\n",
      "0  36.048429  490.606818  0.540511  10.064616  1.538447\n",
      "1   3.993166  370.365604  0.615918   6.109552  1.440231\n",
      "2  16.513299  844.829276  0.087334   8.065669  1.366812\n",
      "3  21.439076  255.320397  0.192808   6.908962  1.139327\n",
      "4  30.846398  854.191905  0.076773   4.517852  1.171892\n"
     ]
    }
   ],
   "source": [
    "X,Y = friedman3Dataset.friedman3_data(n_samples)"
   ]
  },
  {
   "cell_type": "code",
   "execution_count": 7,
   "id": "fe007438",
   "metadata": {
    "execution": {
     "iopub.execute_input": "2022-06-22T13:49:11.848254Z",
     "iopub.status.busy": "2022-06-22T13:49:11.847021Z",
     "iopub.status.idle": "2022-06-22T13:49:11.849239Z",
     "shell.execute_reply": "2022-06-22T13:49:11.849798Z"
    },
    "id": "fe007438",
    "papermill": {
     "duration": 0.051409,
     "end_time": "2022-06-22T13:49:11.850030",
     "exception": false,
     "start_time": "2022-06-22T13:49:11.798621",
     "status": "completed"
    },
    "tags": []
   },
   "outputs": [],
   "source": [
    "#Train test split for dataset \n",
    "X_train,X_test,Y_train,Y_test = train_test_split(X,Y,test_size = 0.2)\n",
    "train_data = dataset.CustomDataset(X_train,Y_train)\n",
    "test_data = dataset.CustomDataset(X_test,Y_test)\n"
   ]
  },
  {
   "cell_type": "markdown",
   "id": "a9a1af34",
   "metadata": {
    "id": "a9a1af34",
    "papermill": {
     "duration": 0.033817,
     "end_time": "2022-06-22T13:49:11.914615",
     "exception": false,
     "start_time": "2022-06-22T13:49:11.880798",
     "status": "completed"
    },
    "tags": []
   },
   "source": [
    "## Training Parameters "
   ]
  },
  {
   "cell_type": "code",
   "execution_count": 8,
   "id": "952b7fc8",
   "metadata": {
    "execution": {
     "iopub.execute_input": "2022-06-22T13:49:11.976819Z",
     "iopub.status.busy": "2022-06-22T13:49:11.975738Z",
     "iopub.status.idle": "2022-06-22T13:49:11.978224Z",
     "shell.execute_reply": "2022-06-22T13:49:11.978788Z"
    },
    "id": "952b7fc8",
    "papermill": {
     "duration": 0.036372,
     "end_time": "2022-06-22T13:49:11.979021",
     "exception": false,
     "start_time": "2022-06-22T13:49:11.942649",
     "status": "completed"
    },
    "tags": []
   },
   "outputs": [],
   "source": [
    "batch_size = 32\n",
    "n_epochs = 1000\n",
    "#Select the device \n",
    "device = torch.device('cuda' if torch.cuda.is_available() else 'cpu')"
   ]
  },
  {
   "cell_type": "markdown",
   "id": "a95e1600",
   "metadata": {
    "id": "a95e1600",
    "papermill": {
     "duration": 0.024104,
     "end_time": "2022-06-22T13:49:12.023212",
     "exception": false,
     "start_time": "2022-06-22T13:49:11.999108",
     "status": "completed"
    },
    "tags": []
   },
   "source": [
    "# ABC Pre-generator Model \n",
    "\n",
    "1. The catboost model is used as a pre-generator model for the ABC-GAN. \n",
    "2. The model is first trained on the entire dataset \n",
    "3. It generats X,Y pairs and we add some Gaussian noise with mean 0 and variance 1 to it which is then feed as input to the generator.\n"
   ]
  },
  {
   "cell_type": "code",
   "execution_count": 9,
   "id": "ff8ce7bd",
   "metadata": {
    "execution": {
     "iopub.execute_input": "2022-06-22T13:49:12.073840Z",
     "iopub.status.busy": "2022-06-22T13:49:12.072663Z",
     "iopub.status.idle": "2022-06-22T13:49:24.478037Z",
     "shell.execute_reply": "2022-06-22T13:49:24.478637Z"
    },
    "id": "ff8ce7bd",
    "papermill": {
     "duration": 12.435618,
     "end_time": "2022-06-22T13:49:24.478861",
     "exception": false,
     "start_time": "2022-06-22T13:49:12.043243",
     "status": "completed"
    },
    "tags": []
   },
   "outputs": [
    {
     "name": "stdout",
     "output_type": "stream",
     "text": [
      "Device used : cpu\n"
     ]
    },
    {
     "name": "stdout",
     "output_type": "stream",
     "text": [
      "epoch 0  | loss: 1.06309 | train_mse: 8.20709 | train_mae: 1.90851 |  0:00:00s\n",
      "epoch 1  | loss: 0.42475 | train_mse: 5.15999 | train_mae: 1.53245 |  0:00:00s\n",
      "epoch 2  | loss: 0.49263 | train_mse: 3.70289 | train_mae: 1.26185 |  0:00:00s\n"
     ]
    },
    {
     "name": "stdout",
     "output_type": "stream",
     "text": [
      "epoch 3  | loss: 0.36379 | train_mse: 1.86477 | train_mae: 0.97419 |  0:00:00s\n",
      "epoch 4  | loss: 0.34745 | train_mse: 1.47669 | train_mae: 0.8969  |  0:00:00s\n",
      "epoch 5  | loss: 0.25826 | train_mse: 1.28006 | train_mae: 0.90907 |  0:00:00s\n"
     ]
    },
    {
     "name": "stdout",
     "output_type": "stream",
     "text": [
      "epoch 6  | loss: 0.40481 | train_mse: 0.68552 | train_mae: 0.64977 |  0:00:00s\n",
      "epoch 7  | loss: 0.24053 | train_mse: 0.58901 | train_mae: 0.58079 |  0:00:00s\n",
      "epoch 8  | loss: 0.38342 | train_mse: 0.41412 | train_mae: 0.49391 |  0:00:01s\n"
     ]
    },
    {
     "name": "stdout",
     "output_type": "stream",
     "text": [
      "epoch 9  | loss: 0.44356 | train_mse: 0.41297 | train_mae: 0.47642 |  0:00:01s\n",
      "epoch 10 | loss: 0.50468 | train_mse: 0.6371  | train_mae: 0.59075 |  0:00:01s\n"
     ]
    },
    {
     "name": "stdout",
     "output_type": "stream",
     "text": [
      "epoch 11 | loss: 0.4825  | train_mse: 1.31156 | train_mae: 0.87137 |  0:00:01s\n",
      "epoch 12 | loss: 0.25226 | train_mse: 1.43536 | train_mae: 0.8825  |  0:00:01s\n"
     ]
    },
    {
     "name": "stdout",
     "output_type": "stream",
     "text": [
      "epoch 13 | loss: 0.49017 | train_mse: 0.85849 | train_mae: 0.6852  |  0:00:01s\n",
      "epoch 14 | loss: 0.2693  | train_mse: 0.88419 | train_mae: 0.71008 |  0:00:01s\n",
      "epoch 15 | loss: 0.24852 | train_mse: 0.97545 | train_mae: 0.74839 |  0:00:01s\n"
     ]
    },
    {
     "name": "stdout",
     "output_type": "stream",
     "text": [
      "epoch 16 | loss: 0.3571  | train_mse: 0.77189 | train_mae: 0.65586 |  0:00:01s\n",
      "epoch 17 | loss: 0.24994 | train_mse: 0.42485 | train_mae: 0.50227 |  0:00:01s\n",
      "epoch 18 | loss: 0.3274  | train_mse: 0.24948 | train_mae: 0.40302 |  0:00:02s\n"
     ]
    },
    {
     "name": "stdout",
     "output_type": "stream",
     "text": [
      "epoch 19 | loss: 0.1925  | train_mse: 0.26847 | train_mae: 0.42006 |  0:00:02s\n",
      "epoch 20 | loss: 0.20893 | train_mse: 0.30895 | train_mae: 0.44376 |  0:00:02s\n",
      "epoch 21 | loss: 0.20525 | train_mse: 0.28373 | train_mae: 0.42213 |  0:00:02s\n"
     ]
    },
    {
     "name": "stdout",
     "output_type": "stream",
     "text": [
      "epoch 22 | loss: 0.14453 | train_mse: 0.25548 | train_mae: 0.41248 |  0:00:02s\n",
      "epoch 23 | loss: 0.20853 | train_mse: 0.17111 | train_mae: 0.34077 |  0:00:02s\n",
      "epoch 24 | loss: 0.28454 | train_mse: 0.16393 | train_mae: 0.3239  |  0:00:02s\n"
     ]
    },
    {
     "name": "stdout",
     "output_type": "stream",
     "text": [
      "epoch 25 | loss: 0.16274 | train_mse: 0.173   | train_mae: 0.34341 |  0:00:02s\n",
      "epoch 26 | loss: 0.18769 | train_mse: 0.1978  | train_mae: 0.36568 |  0:00:02s\n",
      "epoch 27 | loss: 0.16348 | train_mse: 0.16451 | train_mae: 0.32632 |  0:00:02s\n"
     ]
    },
    {
     "name": "stdout",
     "output_type": "stream",
     "text": [
      "epoch 28 | loss: 0.19413 | train_mse: 0.15413 | train_mae: 0.31392 |  0:00:02s\n",
      "epoch 29 | loss: 0.2618  | train_mse: 0.18851 | train_mae: 0.33682 |  0:00:03s\n",
      "epoch 30 | loss: 0.17626 | train_mse: 0.20218 | train_mae: 0.34927 |  0:00:03s\n"
     ]
    },
    {
     "name": "stdout",
     "output_type": "stream",
     "text": [
      "epoch 31 | loss: 0.1435  | train_mse: 0.19298 | train_mae: 0.33658 |  0:00:03s\n",
      "epoch 32 | loss: 0.29578 | train_mse: 0.16421 | train_mae: 0.31744 |  0:00:03s\n",
      "epoch 33 | loss: 0.23546 | train_mse: 0.17824 | train_mae: 0.33239 |  0:00:03s\n"
     ]
    },
    {
     "name": "stdout",
     "output_type": "stream",
     "text": [
      "epoch 34 | loss: 0.2116  | train_mse: 0.16193 | train_mae: 0.31956 |  0:00:03s\n",
      "epoch 35 | loss: 0.24577 | train_mse: 0.14482 | train_mae: 0.3142  |  0:00:03s\n",
      "epoch 36 | loss: 0.19313 | train_mse: 0.14742 | train_mae: 0.31658 |  0:00:03s\n"
     ]
    },
    {
     "name": "stdout",
     "output_type": "stream",
     "text": [
      "epoch 37 | loss: 0.18027 | train_mse: 0.12249 | train_mae: 0.28732 |  0:00:03s\n",
      "epoch 38 | loss: 0.23152 | train_mse: 0.11561 | train_mae: 0.27758 |  0:00:03s\n",
      "epoch 39 | loss: 0.34237 | train_mse: 0.12968 | train_mae: 0.29494 |  0:00:03s\n"
     ]
    },
    {
     "name": "stdout",
     "output_type": "stream",
     "text": [
      "epoch 40 | loss: 0.28398 | train_mse: 0.12525 | train_mae: 0.29023 |  0:00:03s\n",
      "epoch 41 | loss: 0.41285 | train_mse: 0.10027 | train_mae: 0.26106 |  0:00:04s\n",
      "epoch 42 | loss: 0.25411 | train_mse: 0.10468 | train_mae: 0.26393 |  0:00:04s\n"
     ]
    },
    {
     "name": "stdout",
     "output_type": "stream",
     "text": [
      "epoch 43 | loss: 0.26168 | train_mse: 0.11729 | train_mae: 0.28953 |  0:00:04s\n",
      "epoch 44 | loss: 0.23189 | train_mse: 0.12505 | train_mae: 0.29302 |  0:00:04s\n",
      "epoch 45 | loss: 0.17908 | train_mse: 0.12446 | train_mae: 0.2902  |  0:00:04s\n"
     ]
    },
    {
     "name": "stdout",
     "output_type": "stream",
     "text": [
      "epoch 46 | loss: 0.18281 | train_mse: 0.11095 | train_mae: 0.2726  |  0:00:04s\n",
      "epoch 47 | loss: 0.12773 | train_mse: 0.10208 | train_mae: 0.25496 |  0:00:04s\n",
      "epoch 48 | loss: 0.13796 | train_mse: 0.08833 | train_mae: 0.24027 |  0:00:04s\n"
     ]
    },
    {
     "name": "stdout",
     "output_type": "stream",
     "text": [
      "epoch 49 | loss: 0.19993 | train_mse: 0.09155 | train_mae: 0.24042 |  0:00:04s\n",
      "epoch 50 | loss: 0.33798 | train_mse: 0.0913  | train_mae: 0.24092 |  0:00:04s\n",
      "epoch 51 | loss: 0.10733 | train_mse: 0.10565 | train_mae: 0.24974 |  0:00:04s\n"
     ]
    },
    {
     "name": "stdout",
     "output_type": "stream",
     "text": [
      "epoch 52 | loss: 0.27107 | train_mse: 0.12518 | train_mae: 0.26239 |  0:00:04s\n",
      "epoch 53 | loss: 0.16385 | train_mse: 0.13615 | train_mae: 0.2809  |  0:00:05s\n",
      "epoch 54 | loss: 0.30412 | train_mse: 0.14037 | train_mae: 0.27838 |  0:00:05s\n"
     ]
    },
    {
     "name": "stdout",
     "output_type": "stream",
     "text": [
      "epoch 55 | loss: 0.18627 | train_mse: 0.14121 | train_mae: 0.27602 |  0:00:05s\n",
      "epoch 56 | loss: 0.44114 | train_mse: 0.13432 | train_mae: 0.27003 |  0:00:05s\n",
      "epoch 57 | loss: 0.24546 | train_mse: 0.1032  | train_mae: 0.25183 |  0:00:05s\n"
     ]
    },
    {
     "name": "stdout",
     "output_type": "stream",
     "text": [
      "epoch 58 | loss: 0.14703 | train_mse: 0.10223 | train_mae: 0.24496 |  0:00:05s\n",
      "epoch 59 | loss: 0.22639 | train_mse: 0.10995 | train_mae: 0.25275 |  0:00:05s\n"
     ]
    },
    {
     "name": "stdout",
     "output_type": "stream",
     "text": [
      "epoch 60 | loss: 0.24837 | train_mse: 0.15054 | train_mae: 0.28636 |  0:00:05s\n",
      "epoch 61 | loss: 0.31668 | train_mse: 0.17822 | train_mae: 0.29422 |  0:00:05s\n"
     ]
    },
    {
     "name": "stdout",
     "output_type": "stream",
     "text": [
      "epoch 62 | loss: 0.18497 | train_mse: 0.18138 | train_mae: 0.30143 |  0:00:05s\n",
      "epoch 63 | loss: 0.18405 | train_mse: 0.16121 | train_mae: 0.28607 |  0:00:05s\n",
      "epoch 64 | loss: 0.1424  | train_mse: 0.10965 | train_mae: 0.26087 |  0:00:06s\n"
     ]
    },
    {
     "name": "stdout",
     "output_type": "stream",
     "text": [
      "epoch 65 | loss: 0.15235 | train_mse: 0.1048  | train_mae: 0.25298 |  0:00:06s\n",
      "epoch 66 | loss: 0.18604 | train_mse: 0.09539 | train_mae: 0.2422  |  0:00:06s\n"
     ]
    },
    {
     "name": "stdout",
     "output_type": "stream",
     "text": [
      "epoch 67 | loss: 0.13446 | train_mse: 0.08727 | train_mae: 0.23359 |  0:00:06s\n",
      "epoch 68 | loss: 0.29586 | train_mse: 0.08158 | train_mae: 0.22703 |  0:00:06s\n",
      "epoch 69 | loss: 0.08687 | train_mse: 0.09874 | train_mae: 0.24746 |  0:00:06s\n"
     ]
    },
    {
     "name": "stdout",
     "output_type": "stream",
     "text": [
      "epoch 70 | loss: 0.10477 | train_mse: 0.10164 | train_mae: 0.25024 |  0:00:06s\n",
      "epoch 71 | loss: 0.1379  | train_mse: 0.09284 | train_mae: 0.24316 |  0:00:06s\n",
      "epoch 72 | loss: 0.1509  | train_mse: 0.09168 | train_mae: 0.23706 |  0:00:06s\n"
     ]
    },
    {
     "name": "stdout",
     "output_type": "stream",
     "text": [
      "epoch 73 | loss: 0.14419 | train_mse: 0.08239 | train_mae: 0.21949 |  0:00:06s\n",
      "epoch 74 | loss: 0.26705 | train_mse: 0.09329 | train_mae: 0.23886 |  0:00:06s\n",
      "epoch 75 | loss: 0.23812 | train_mse: 0.08923 | train_mae: 0.23545 |  0:00:07s\n"
     ]
    },
    {
     "name": "stdout",
     "output_type": "stream",
     "text": [
      "epoch 76 | loss: 0.28721 | train_mse: 0.11277 | train_mae: 0.26269 |  0:00:07s\n",
      "epoch 77 | loss: 0.14046 | train_mse: 0.10202 | train_mae: 0.24401 |  0:00:07s\n",
      "epoch 78 | loss: 0.24145 | train_mse: 0.10392 | train_mae: 0.25373 |  0:00:07s\n"
     ]
    },
    {
     "name": "stdout",
     "output_type": "stream",
     "text": [
      "epoch 79 | loss: 0.09251 | train_mse: 0.08267 | train_mae: 0.22891 |  0:00:07s\n",
      "epoch 80 | loss: 0.11889 | train_mse: 0.06801 | train_mae: 0.20865 |  0:00:07s\n",
      "epoch 81 | loss: 0.13466 | train_mse: 0.0652  | train_mae: 0.20139 |  0:00:07s\n"
     ]
    },
    {
     "name": "stdout",
     "output_type": "stream",
     "text": [
      "epoch 82 | loss: 0.11322 | train_mse: 0.06711 | train_mae: 0.20325 |  0:00:07s\n",
      "epoch 83 | loss: 0.17628 | train_mse: 0.08473 | train_mae: 0.22736 |  0:00:07s\n",
      "epoch 84 | loss: 0.19515 | train_mse: 0.07466 | train_mae: 0.2102  |  0:00:07s\n"
     ]
    },
    {
     "name": "stdout",
     "output_type": "stream",
     "text": [
      "epoch 85 | loss: 0.23282 | train_mse: 0.06699 | train_mae: 0.19565 |  0:00:07s\n",
      "epoch 86 | loss: 0.16703 | train_mse: 0.09859 | train_mae: 0.22805 |  0:00:08s\n",
      "epoch 87 | loss: 0.14024 | train_mse: 0.17328 | train_mae: 0.28345 |  0:00:08s\n"
     ]
    },
    {
     "name": "stdout",
     "output_type": "stream",
     "text": [
      "epoch 88 | loss: 0.21145 | train_mse: 0.15112 | train_mae: 0.27873 |  0:00:08s\n",
      "epoch 89 | loss: 0.28056 | train_mse: 0.13817 | train_mae: 0.27627 |  0:00:08s\n",
      "epoch 90 | loss: 0.15158 | train_mse: 0.11549 | train_mae: 0.24474 |  0:00:08s\n"
     ]
    },
    {
     "name": "stdout",
     "output_type": "stream",
     "text": [
      "epoch 91 | loss: 0.12885 | train_mse: 0.12037 | train_mae: 0.24724 |  0:00:08s\n",
      "epoch 92 | loss: 0.10268 | train_mse: 0.12213 | train_mae: 0.25175 |  0:00:08s\n",
      "epoch 93 | loss: 0.17138 | train_mse: 0.10963 | train_mae: 0.25065 |  0:00:08s\n"
     ]
    },
    {
     "name": "stdout",
     "output_type": "stream",
     "text": [
      "epoch 94 | loss: 0.15899 | train_mse: 0.11546 | train_mae: 0.25406 |  0:00:08s\n",
      "epoch 95 | loss: 0.14598 | train_mse: 0.09998 | train_mae: 0.24372 |  0:00:08s\n",
      "epoch 96 | loss: 0.37025 | train_mse: 0.08877 | train_mae: 0.23116 |  0:00:08s\n"
     ]
    },
    {
     "name": "stdout",
     "output_type": "stream",
     "text": [
      "epoch 97 | loss: 0.22596 | train_mse: 0.07601 | train_mae: 0.2129  |  0:00:08s\n",
      "epoch 98 | loss: 0.24276 | train_mse: 0.07422 | train_mae: 0.20649 |  0:00:09s\n",
      "epoch 99 | loss: 0.2333  | train_mse: 0.08293 | train_mae: 0.21474 |  0:00:09s\n"
     ]
    },
    {
     "name": "stdout",
     "output_type": "stream",
     "text": [
      "epoch 100| loss: 0.14793 | train_mse: 0.1046  | train_mae: 0.2433  |  0:00:09s\n",
      "epoch 101| loss: 0.12223 | train_mse: 0.12234 | train_mae: 0.25997 |  0:00:09s\n",
      "epoch 102| loss: 0.1715  | train_mse: 0.11287 | train_mae: 0.25055 |  0:00:09s\n"
     ]
    },
    {
     "name": "stdout",
     "output_type": "stream",
     "text": [
      "epoch 103| loss: 0.09411 | train_mse: 0.14156 | train_mae: 0.27342 |  0:00:09s\n",
      "epoch 104| loss: 0.17418 | train_mse: 0.13214 | train_mae: 0.26978 |  0:00:09s\n",
      "epoch 105| loss: 0.16073 | train_mse: 0.14095 | train_mae: 0.28515 |  0:00:09s\n"
     ]
    },
    {
     "name": "stdout",
     "output_type": "stream",
     "text": [
      "epoch 106| loss: 0.13926 | train_mse: 0.09498 | train_mae: 0.2432  |  0:00:09s\n",
      "epoch 107| loss: 0.14813 | train_mse: 0.09667 | train_mae: 0.2386  |  0:00:09s\n",
      "epoch 108| loss: 0.13128 | train_mse: 0.0806  | train_mae: 0.21567 |  0:00:09s\n"
     ]
    },
    {
     "name": "stdout",
     "output_type": "stream",
     "text": [
      "epoch 109| loss: 0.06915 | train_mse: 0.095   | train_mae: 0.23028 |  0:00:10s\n",
      "epoch 110| loss: 0.17793 | train_mse: 0.16892 | train_mae: 0.26903 |  0:00:10s\n",
      "epoch 111| loss: 0.2424  | train_mse: 0.17565 | train_mae: 0.27049 |  0:00:10s\n"
     ]
    },
    {
     "name": "stdout",
     "output_type": "stream",
     "text": [
      "epoch 112| loss: 0.15398 | train_mse: 0.13399 | train_mae: 0.24652 |  0:00:10s\n",
      "epoch 113| loss: 0.11142 | train_mse: 0.11083 | train_mae: 0.23983 |  0:00:10s\n",
      "epoch 114| loss: 0.22872 | train_mse: 0.12154 | train_mae: 0.24428 |  0:00:10s\n"
     ]
    },
    {
     "name": "stdout",
     "output_type": "stream",
     "text": [
      "epoch 115| loss: 0.15438 | train_mse: 0.09878 | train_mae: 0.22718 |  0:00:10s\n",
      "epoch 116| loss: 0.11206 | train_mse: 0.12495 | train_mae: 0.26141 |  0:00:10s\n",
      "epoch 117| loss: 0.10335 | train_mse: 0.14189 | train_mae: 0.27284 |  0:00:10s\n"
     ]
    },
    {
     "name": "stdout",
     "output_type": "stream",
     "text": [
      "epoch 118| loss: 0.2224  | train_mse: 0.13002 | train_mae: 0.26656 |  0:00:10s\n",
      "epoch 119| loss: 0.30378 | train_mse: 0.10268 | train_mae: 0.23998 |  0:00:10s\n",
      "epoch 120| loss: 0.15753 | train_mse: 0.11083 | train_mae: 0.2535  |  0:00:11s\n"
     ]
    },
    {
     "name": "stdout",
     "output_type": "stream",
     "text": [
      "epoch 121| loss: 0.15823 | train_mse: 0.08738 | train_mae: 0.22429 |  0:00:11s\n",
      "epoch 122| loss: 0.10539 | train_mse: 0.07377 | train_mae: 0.20622 |  0:00:11s\n",
      "epoch 123| loss: 0.16735 | train_mse: 0.07201 | train_mae: 0.21395 |  0:00:11s\n"
     ]
    },
    {
     "name": "stdout",
     "output_type": "stream",
     "text": [
      "epoch 124| loss: 0.1115  | train_mse: 0.07203 | train_mae: 0.2106  |  0:00:11s\n",
      "epoch 125| loss: 0.12722 | train_mse: 0.10393 | train_mae: 0.24403 |  0:00:11s\n",
      "epoch 126| loss: 0.12331 | train_mse: 0.09653 | train_mae: 0.23965 |  0:00:11s\n"
     ]
    },
    {
     "name": "stdout",
     "output_type": "stream",
     "text": [
      "epoch 127| loss: 0.1655  | train_mse: 0.09449 | train_mae: 0.23524 |  0:00:11s\n",
      "epoch 128| loss: 0.14219 | train_mse: 0.0843  | train_mae: 0.22566 |  0:00:11s\n",
      "epoch 129| loss: 0.12926 | train_mse: 0.0835  | train_mae: 0.22655 |  0:00:11s\n"
     ]
    },
    {
     "name": "stdout",
     "output_type": "stream",
     "text": [
      "epoch 130| loss: 0.11344 | train_mse: 0.07967 | train_mae: 0.22316 |  0:00:11s\n",
      "epoch 131| loss: 0.21658 | train_mse: 0.06604 | train_mae: 0.20488 |  0:00:11s\n",
      "epoch 132| loss: 0.46354 | train_mse: 0.07103 | train_mae: 0.21053 |  0:00:12s\n"
     ]
    },
    {
     "name": "stdout",
     "output_type": "stream",
     "text": [
      "epoch 133| loss: 0.17232 | train_mse: 0.07184 | train_mae: 0.21108 |  0:00:12s\n",
      "epoch 134| loss: 0.18727 | train_mse: 0.06821 | train_mae: 0.20002 |  0:00:12s\n",
      "epoch 135| loss: 0.11467 | train_mse: 0.07555 | train_mae: 0.20875 |  0:00:12s\n",
      "\n",
      "Early stopping occurred at epoch 135 with best_epoch = 85 and best_train_mae = 0.19565\n",
      "Best weights from best epoch are automatically used!\n"
     ]
    }
   ],
   "source": [
    "#Train the Model\n",
    "\n",
    "Y_train = np.reshape(Y_train, (-1, 1))\n",
    "Y_test = np.reshape(Y_test, (-1, 1))\n",
    "\n",
    "prior_model = TabNetRegressor(optimizer_fn=torch.optim.Adam, optimizer_params=dict(lr = 0.02),\n",
    "          #scheduler_params={\"step_size\":10, ], \"gamma\":0.9},\n",
    "          #scheduler_fn=torch.optim.lr_scheduler.StepLR\n",
    "          )  #TabNetRegressor()\n",
    "\n",
    "prior_model.fit(X_train,Y_train,eval_set=[(X_train, Y_train)],\n",
    "            eval_name=['train'], \n",
    "            eval_metric=[ 'mse', 'mae'], \n",
    "            max_epochs = n_epochs, \n",
    "            batch_size = batch_size,\n",
    "            patience=50\n",
    "            )"
   ]
  },
  {
   "cell_type": "code",
   "execution_count": 10,
   "id": "af65dcda",
   "metadata": {
    "execution": {
     "iopub.execute_input": "2022-06-22T13:49:24.570366Z",
     "iopub.status.busy": "2022-06-22T13:49:24.567973Z",
     "iopub.status.idle": "2022-06-22T13:49:24.605064Z",
     "shell.execute_reply": "2022-06-22T13:49:24.603622Z"
    },
    "id": "af65dcda",
    "papermill": {
     "duration": 0.097523,
     "end_time": "2022-06-22T13:49:24.606469",
     "exception": false,
     "start_time": "2022-06-22T13:49:24.508946",
     "status": "completed"
    },
    "tags": []
   },
   "outputs": [
    {
     "data": {
      "application/scrapbook.scrap.json+json": {
       "data": 0.17059678848667384,
       "encoder": "json",
       "name": "Prior Model MSE",
       "version": 1
      }
     },
     "metadata": {
      "scrapbook": {
       "data": true,
       "display": false,
       "name": "Prior Model MSE"
      }
     },
     "output_type": "display_data"
    },
    {
     "data": {
      "application/scrapbook.scrap.json+json": {
       "data": 1.0804802259454143,
       "encoder": "json",
       "name": "ABC Pre-generator MSE",
       "version": 1
      }
     },
     "metadata": {
      "scrapbook": {
       "data": true,
       "display": false,
       "name": "ABC Pre-generator MSE"
      }
     },
     "output_type": "display_data"
    },
    {
     "data": {
      "application/scrapbook.scrap.json+json": {
       "data": 0.3384476774655589,
       "encoder": "json",
       "name": "Prior Model MSE",
       "version": 1
      }
     },
     "metadata": {
      "scrapbook": {
       "data": true,
       "display": false,
       "name": "Prior Model MSE"
      }
     },
     "output_type": "display_data"
    },
    {
     "data": {
      "application/scrapbook.scrap.json+json": {
       "data": 0.8392845564027395,
       "encoder": "json",
       "name": "ABC Pre-generator MSE",
       "version": 1
      }
     },
     "metadata": {
      "scrapbook": {
       "data": true,
       "display": false,
       "name": "ABC Pre-generator MSE"
      }
     },
     "output_type": "display_data"
    }
   ],
   "source": [
    "y_pred = prior_model.predict(X_test)\n",
    "y_abc = y_pred + np.random.normal(0,variance, y_pred.shape) + bias \n",
    "mse = mean_squared_error(y_pred,Y_test)\n",
    "sb.glue(\"Prior Model MSE\",mse)\n",
    "mse = mean_squared_error(y_abc,Y_test)\n",
    "sb.glue(\"ABC Pre-generator MSE\",mse)\n",
    "mae = mean_absolute_error(y_pred,Y_test)\n",
    "sb.glue(\"Prior Model MSE\",mae)\n",
    "mae = mean_absolute_error(y_abc,Y_test)\n",
    "sb.glue(\"ABC Pre-generator MSE\",mae)"
   ]
  },
  {
   "cell_type": "markdown",
   "id": "25609da2",
   "metadata": {
    "papermill": {
     "duration": 0.042333,
     "end_time": "2022-06-22T13:49:24.690053",
     "exception": false,
     "start_time": "2022-06-22T13:49:24.647720",
     "status": "completed"
    },
    "tags": []
   },
   "source": [
    "# ABC GAN Model"
   ]
  },
  {
   "cell_type": "code",
   "execution_count": 11,
   "id": "dfc3464d",
   "metadata": {
    "execution": {
     "iopub.execute_input": "2022-06-22T13:49:24.763444Z",
     "iopub.status.busy": "2022-06-22T13:49:24.762334Z",
     "iopub.status.idle": "2022-06-22T13:49:24.764888Z",
     "shell.execute_reply": "2022-06-22T13:49:24.765349Z"
    },
    "papermill": {
     "duration": 0.045417,
     "end_time": "2022-06-22T13:49:24.765775",
     "exception": false,
     "start_time": "2022-06-22T13:49:24.720358",
     "status": "completed"
    },
    "tags": []
   },
   "outputs": [],
   "source": [
    "gen = network.Generator(n_features+1).to(device)\n",
    "disc = network.Discriminator(n_features+1).to(device)\n",
    "\n",
    "criterion = torch.nn.BCELoss()\n",
    "gen_opt = torch.optim.Adam(gen.parameters(), lr=0.001, betas=(0.5, 0.999))\n",
    "disc_opt = torch.optim.Adam(disc.parameters(), lr=0.001, betas=(0.5, 0.999))"
   ]
  },
  {
   "cell_type": "code",
   "execution_count": 12,
   "id": "b75fdd85",
   "metadata": {
    "execution": {
     "iopub.execute_input": "2022-06-22T13:49:24.841291Z",
     "iopub.status.busy": "2022-06-22T13:49:24.840496Z",
     "iopub.status.idle": "2022-06-22T13:50:18.609821Z",
     "shell.execute_reply": "2022-06-22T13:50:18.612464Z"
    },
    "papermill": {
     "duration": 53.814773,
     "end_time": "2022-06-22T13:50:18.612855",
     "exception": false,
     "start_time": "2022-06-22T13:49:24.798082",
     "status": "completed"
    },
    "tags": []
   },
   "outputs": [
    {
     "data": {
      "image/png": "[encoded data removed]",
      "text/plain": [
       "<Figure size 432x288 with 1 Axes>"
      ]
     },
     "metadata": {
      "needs_background": "light"
     },
     "output_type": "display_data"
    },
    {
     "data": {
      "image/png": "[encoded data removed]",
      "text/plain": [
       "<Figure size 432x288 with 1 Axes>"
      ]
     },
     "metadata": {
      "needs_background": "light"
     },
     "output_type": "display_data"
    }
   ],
   "source": [
    "#Training the ABC_GAN \n",
    "ABC_train_test2.training_GAN(disc,gen,disc_opt,gen_opt,train_data,batch_size,n_epochs,criterion,prior_model,variance,bias,device)"
   ]
  },
  {
   "cell_type": "code",
   "execution_count": 13,
   "id": "1fa7c368",
   "metadata": {
    "execution": {
     "iopub.execute_input": "2022-06-22T13:50:18.752064Z",
     "iopub.status.busy": "2022-06-22T13:50:18.751138Z",
     "iopub.status.idle": "2022-06-22T13:50:19.660588Z",
     "shell.execute_reply": "2022-06-22T13:50:19.661383Z"
    },
    "papermill": {
     "duration": 0.9944,
     "end_time": "2022-06-22T13:50:19.662107",
     "exception": false,
     "start_time": "2022-06-22T13:50:18.667707",
     "status": "completed"
    },
    "tags": []
   },
   "outputs": [
    {
     "data": {
      "application/scrapbook.scrap.json+json": {
       "data": 0.15846899758827965,
       "encoder": "json",
       "name": "ABC-GAN Model 1 MSE",
       "version": 1
      }
     },
     "metadata": {
      "scrapbook": {
       "data": true,
       "display": false,
       "name": "ABC-GAN Model 1 MSE"
      }
     },
     "output_type": "display_data"
    },
    {
     "data": {
      "application/scrapbook.scrap.json+json": {
       "data": 0.3228325771279633,
       "encoder": "json",
       "name": "ABC-GAN Model 1 MAE",
       "version": 1
      }
     },
     "metadata": {
      "scrapbook": {
       "data": true,
       "display": false,
       "name": "ABC-GAN Model 1 MAE"
      }
     },
     "output_type": "display_data"
    },
    {
     "data": {
      "application/scrapbook.scrap.json+json": {
       "data": 6.456651542559266,
       "encoder": "json",
       "name": "ABC-GAN Model 1 Manhattan Distance",
       "version": 1
      }
     },
     "metadata": {
      "scrapbook": {
       "data": true,
       "display": false,
       "name": "ABC-GAN Model 1 Manhattan Distance"
      }
     },
     "output_type": "display_data"
    },
    {
     "data": {
      "application/scrapbook.scrap.json+json": {
       "data": 1.7795271408581435,
       "encoder": "json",
       "name": "ABC-GAN Model 1 Euclidean distance",
       "version": 1
      }
     },
     "metadata": {
      "scrapbook": {
       "data": true,
       "display": false,
       "name": "ABC-GAN Model 1 Euclidean distance"
      }
     },
     "output_type": "display_data"
    },
    {
     "data": {
      "application/scrapbook.scrap.json+json": {
       "data": [
        [
         0.15216836001669182,
         0.14281365529819634,
         0.15417879137196164,
         0.1513065378694214,
         0.15632605050503226,
         0.16557728771033223,
         0.1420695487772255,
         0.15577095345320885,
         0.1640211008284088,
         0.16599456038806007,
         0.16712608584850586,
         0.17746829939270192,
         0.15257407196318873,
         0.17948628256510588,
         0.14906528029962293,
         0.1655550611437505,
         0.15451862064137298,
         0.14777264927000971,
         0.1609537346310226,
         0.16593211662243,
         0.16255112224403243,
         0.15803932697235396,
         0.13871942676981025,
         0.14750025513323545,
         0.14646181949970308,
         0.16082894128339414,
         0.1558021369269264,
         0.15558911416059557,
         0.1465043676685963,
         0.16249552524896788,
         0.19242505400542576,
         0.16980978944226854,
         0.15954250904678008,
         0.1633315071552083,
         0.1579731743484035,
         0.1711234266768186,
         0.15941576435124855,
         0.15702341143976253,
         0.145420375894806,
         0.15454073141246844,
         0.1588218902554574,
         0.15391594174470807,
         0.1678917651395254,
         0.1658497662378638,
         0.16511056430328813,
         0.14825612137766578,
         0.15000730648683933,
         0.1586381864112215,
         0.1587310793505153,
         0.1664544122025783,
         0.1701946261557532,
         0.1540664042183229,
         0.16004806039780478,
         0.152008483370971,
         0.1783350498423814,
         0.162912272591525,
         0.1587842687571604,
         0.16297897509308146,
         0.17222583608114986,
         0.16729682689374833,
         0.1628036828388074,
         0.15401579979159016,
         0.15467561700286078,
         0.1561271068971251,
         0.1494256274804599,
         0.15631158518709948,
         0.1451793882007844,
         0.15610888785091567,
         0.15000554550736447,
         0.15192587648206787,
         0.1489914607726915,
         0.17008539109547938,
         0.17789621400944186,
         0.15469101245966416,
         0.1650347821235738,
         0.16212219451152182,
         0.1678826990246644,
         0.17194905032990965,
         0.16272854867256945,
         0.1456794573312754,
         0.16069500768707107,
         0.15338755591526315,
         0.1482002074432025,
         0.1486673422549289,
         0.15567675967383515,
         0.17690154241392197,
         0.15657389239930392,
         0.1623403171323481,
         0.15616564682322834,
         0.14712163505504688,
         0.15461986962933688,
         0.1509349115819504,
         0.16319573226589953,
         0.14965739673646689,
         0.16515679468564173,
         0.15637849007254015,
         0.15289337966642413,
         0.1473830582591603,
         0.1545267237927792,
         0.15447890258113212
        ],
        [
         0.3251174034550786,
         0.3066542323678732,
         0.32003585174679755,
         0.33371081203222275,
         0.3021627953276038,
         0.3436879374086857,
         0.3124783432111144,
         0.3144451562315226,
         0.3338767379522324,
         0.32632905412465335,
         0.34127057772129776,
         0.3427096864208579,
         0.31856134682893755,
         0.3459545774385333,
         0.3182219248265028,
         0.3279302839189768,
         0.30481699090451003,
         0.29679644796997307,
         0.31277336198836564,
         0.33561046328395605,
         0.30869069676846267,
         0.3262708533555269,
         0.305199471488595,
         0.300276249833405,
         0.3176154587417841,
         0.3332868244498968,
         0.3190887585282326,
         0.30234734527766705,
         0.30433239229023457,
         0.3275820404291153,
         0.37393455784767865,
         0.3379086755216122,
         0.33740120232105253,
         0.33257304076105354,
         0.32484718784689903,
         0.343305091932416,
         0.33155243191868067,
         0.330596493370831,
         0.31837690230458976,
         0.31543876975774765,
         0.31731961816549303,
         0.3123665366321802,
         0.332965224608779,
         0.3374124500900507,
         0.3473790934309363,
         0.31680295150727034,
         0.3169992249459028,
         0.32116811648011206,
         0.31084879767149687,
         0.3374798700213432,
         0.3436529546976089,
         0.32708517648279667,
         0.3243678230792284,
         0.3030929682776332,
         0.34333993662148715,
         0.337925842218101,
         0.3213612694293261,
         0.3288450792431831,
         0.34050558917224405,
         0.33383510652929543,
         0.32615340817719696,
         0.3280131097882986,
         0.30002978108823297,
         0.3019486788660288,
         0.3112344456836581,
         0.30342280566692353,
         0.2887799195945263,
         0.31677515562623737,
         0.2898274526000023,
         0.3081020375713706,
         0.316362583450973,
         0.3382080880925059,
         0.3504317106679082,
         0.319983384385705,
         0.3309453038498759,
         0.3362835062667727,
         0.3352042971178889,
         0.3335549090057611,
         0.3286534588783979,
         0.3047511365264654,
         0.3231032645329833,
         0.32824819572269914,
         0.30685244761407376,
         0.30105993896722794,
         0.32196280881762507,
         0.3564697990193963,
         0.3183189395815134,
         0.33937782049179077,
         0.31740427743643523,
         0.30828257407993076,
         0.3204138856381178,
         0.3137481573969126,
         0.3305432850494981,
         0.298884292319417,
         0.34133468847721815,
         0.3248824760317802,
         0.31401732861995696,
         0.303135640732944,
         0.323167347535491,
         0.31486331261694434
        ],
        [
         6.502348069101572,
         6.133084647357464,
         6.400717034935951,
         6.674216240644455,
         6.043255906552076,
         6.873758748173714,
         6.249566864222288,
         6.288903124630451,
         6.677534759044647,
         6.526581082493067,
         6.825411554425955,
         6.854193728417158,
         6.371226936578751,
         6.919091548770666,
         6.364438496530056,
         6.558605678379536,
         6.0963398180902,
         5.935928959399462,
         6.255467239767313,
         6.712209265679121,
         6.173813935369253,
         6.5254170671105385,
         6.1039894297719,
         6.0055249966681,
         6.352309174835682,
         6.665736488997936,
         6.3817751705646515,
         6.046946905553341,
         6.086647845804691,
         6.551640808582306,
         7.478691156953573,
         6.758173510432243,
         6.748024046421051,
         6.651460815221071,
         6.496943756937981,
         6.866101838648319,
         6.631048638373613,
         6.61192986741662,
         6.367538046091795,
         6.308775395154953,
         6.34639236330986,
         6.247330732643604,
         6.659304492175579,
         6.748249001801014,
         6.947581868618727,
         6.336059030145407,
         6.3399844989180565,
         6.4233623296022415,
         6.216975953429937,
         6.749597400426865,
         6.873059093952179,
         6.541703529655933,
         6.487356461584568,
         6.061859365552664,
         6.866798732429743,
         6.7585168443620205,
         6.427225388586521,
         6.576901584863663,
         6.810111783444881,
         6.676702130585909,
         6.52306816354394,
         6.560262195765972,
         6.00059562176466,
         6.038973577320576,
         6.2246889136731625,
         6.0684561133384705,
         5.775598391890526,
         6.335503112524748,
         5.796549052000046,
         6.162040751427412,
         6.327251669019461,
         6.764161761850119,
         7.008634213358164,
         6.3996676877141,
         6.6189060769975185,
         6.725670125335455,
         6.7040859423577785,
         6.671098180115223,
         6.573069177567959,
         6.095022730529308,
         6.462065290659666,
         6.564963914453983,
         6.137048952281475,
         6.021198779344559,
         6.439256176352501,
         7.129395980387926,
         6.366378791630268,
         6.787556409835815,
         6.3480855487287045,
         6.165651481598616,
         6.408277712762356,
         6.2749631479382515,
         6.610865700989962,
         5.97768584638834,
         6.826693769544363,
         6.497649520635605,
         6.280346572399139,
         6.06271281465888,
         6.46334695070982,
         6.297266252338886
        ],
        [
         1.7445249210985312,
         1.6900512140062285,
         1.756011340350407,
         1.7395777526136704,
         1.7681971072537828,
         1.819765301956998,
         1.6856426001808658,
         1.7650549762158052,
         1.8111935337142122,
         1.8220568618353274,
         1.8282564691448837,
         1.883976111274779,
         1.7468490029947565,
         1.8946571329140578,
         1.726645767374553,
         1.8196431581150767,
         1.757945509060921,
         1.7191430962546994,
         1.794177999146253,
         1.8217141192977016,
         1.8030591906203879,
         1.7778601012023076,
         1.6656495836148146,
         1.7175578891742511,
         1.7115012094632192,
         1.7934823181921484,
         1.7652316387767721,
         1.764024456523183,
         1.711749792864578,
         1.8027508161083599,
         1.961759689694055,
         1.8428770411629125,
         1.7862950990627506,
         1.807382124262649,
         1.7774879709770386,
         1.8499914955308232,
         1.7855854185742477,
         1.7721366281399553,
         1.7054053822760498,
         1.758071280764625,
         1.7822563802969393,
         1.754513845740227,
         1.8324397132758579,
         1.8212620143069136,
         1.8171987469910282,
         1.721953085177792,
         1.73209299107663,
         1.7812253445941166,
         1.7817467797109405,
         1.82457892239595,
         1.8449640980558575,
         1.7553712098489191,
         1.7891230276188654,
         1.7436082322068283,
         1.8885711521803006,
         1.8050610659560802,
         1.7820452786456373,
         1.805430558581977,
         1.8559409262212514,
         1.8291901316907893,
         1.8044593807498543,
         1.7550829028373,
         1.7588383496095417,
         1.7670716278471854,
         1.7287314856880458,
         1.7681152970725607,
         1.7039917147731936,
         1.7669685217961053,
         1.7320828242746618,
         1.7431343980431793,
         1.7262181830388155,
         1.8443719315554516,
         1.8862460815569204,
         1.7589258793915343,
         1.8167816716577354,
         1.800678730432066,
         1.8323902369564427,
         1.8544489765421408,
         1.8040429522190953,
         1.7069238842507033,
         1.7927353830784456,
         1.751499676935529,
         1.7216283422574252,
         1.7243395388085776,
         1.76452123633486,
         1.8809654032646212,
         1.7695982165412798,
         1.8018896588434494,
         1.767289714920722,
         1.715352063309727,
         1.7585213654052478,
         1.7374401375699275,
         1.8066307440420664,
         1.7300716559522435,
         1.8174531338422002,
         1.7684936532119087,
         1.748675954351887,
         1.7168754075887993,
         1.7579916028967784,
         1.7577195600045654
        ]
       ],
       "encoder": "json",
       "name": "ABC_GAN_1 Metrics",
       "version": 1
      }
     },
     "metadata": {
      "scrapbook": {
       "data": true,
       "display": false,
       "name": "ABC_GAN_1 Metrics"
      }
     },
     "output_type": "display_data"
    },
    {
     "name": "stdout",
     "output_type": "stream",
     "text": [
      "MSE\n",
      "0.15846899758827965\n"
     ]
    }
   ],
   "source": [
    "ABC_GAN1_metrics=ABC_train_test2.test_generator(gen,test_data,prior_model,variance,bias,\"1\",device)\n",
    "sb.glue(\"ABC_GAN_1 Metrics\",ABC_GAN1_metrics)\n",
    "\n",
    "print(\"MSE\")\n",
    "print(mean(ABC_GAN1_metrics[0]))"
   ]
  },
  {
   "cell_type": "code",
   "execution_count": 14,
   "id": "eb22ce5c",
   "metadata": {
    "execution": {
     "iopub.execute_input": "2022-06-22T13:50:19.812449Z",
     "iopub.status.busy": "2022-06-22T13:50:19.811456Z",
     "iopub.status.idle": "2022-06-22T13:50:20.785815Z",
     "shell.execute_reply": "2022-06-22T13:50:20.786356Z"
    },
    "papermill": {
     "duration": 1.081702,
     "end_time": "2022-06-22T13:50:20.786789",
     "exception": false,
     "start_time": "2022-06-22T13:50:19.705087",
     "status": "completed"
    },
    "tags": []
   },
   "outputs": [
    {
     "data": {
      "image/png": "[encoded data removed]",
      "text/plain": [
       "<Figure size 432x288 with 1 Axes>"
      ]
     },
     "metadata": {
      "needs_background": "light"
     },
     "output_type": "display_data"
    },
    {
     "data": {
      "image/png": "[encoded data removed]",
      "text/plain": [
       "<Figure size 432x288 with 1 Axes>"
      ]
     },
     "metadata": {
      "needs_background": "light"
     },
     "output_type": "display_data"
    },
    {
     "data": {
      "image/png": "[encoded data removed]",
      "text/plain": [
       "<Figure size 432x288 with 1 Axes>"
      ]
     },
     "metadata": {
      "needs_background": "light"
     },
     "output_type": "display_data"
    },
    {
     "data": {
      "image/png": "[encoded data removed]",
      "text/plain": [
       "<Figure size 432x288 with 1 Axes>"
      ]
     },
     "metadata": {
      "needs_background": "light"
     },
     "output_type": "display_data"
    }
   ],
   "source": [
    "sanityChecks.discProbVsError(train_data,disc,device)\n",
    "sanityChecks.discProbVsError(test_data,disc,device)"
   ]
  },
  {
   "cell_type": "markdown",
   "id": "130f3a4d",
   "metadata": {
    "id": "130f3a4d",
    "papermill": {
     "duration": 0.054694,
     "end_time": "2022-06-22T13:50:20.886199",
     "exception": false,
     "start_time": "2022-06-22T13:50:20.831505",
     "status": "completed"
    },
    "tags": []
   },
   "source": [
    "# ABC - GAN Model with skip connection"
   ]
  },
  {
   "cell_type": "code",
   "execution_count": 15,
   "id": "4e43dad1",
   "metadata": {
    "execution": {
     "iopub.execute_input": "2022-06-22T13:50:20.994942Z",
     "iopub.status.busy": "2022-06-22T13:50:20.990046Z",
     "iopub.status.idle": "2022-06-22T13:50:21.008808Z",
     "shell.execute_reply": "2022-06-22T13:50:21.009456Z"
    },
    "id": "4e43dad1",
    "papermill": {
     "duration": 0.07776,
     "end_time": "2022-06-22T13:50:21.009726",
     "exception": false,
     "start_time": "2022-06-22T13:50:20.931966",
     "status": "completed"
    },
    "tags": []
   },
   "outputs": [],
   "source": [
    "#Generator\n",
    "gen3 = network.GeneratorWithSkipConnection(n_features+1).to(device)\n",
    "constraints=network.weightConstraint()\n",
    "#Discriminator \n",
    "disc3 = network.Discriminator(n_features+1).to(device)\n",
    "\n",
    "criterion = torch.nn.BCELoss()\n",
    "gen_opt = torch.optim.Adam(gen3.parameters(), lr=0.001, betas=(0.5, 0.999))\n",
    "disc_opt = torch.optim.Adam(disc3.parameters(), lr=0.001, betas=(0.5, 0.999))\n"
   ]
  },
  {
   "cell_type": "code",
   "execution_count": 16,
   "id": "26acbc37",
   "metadata": {
    "execution": {
     "iopub.execute_input": "2022-06-22T13:50:21.122327Z",
     "iopub.status.busy": "2022-06-22T13:50:21.120185Z",
     "iopub.status.idle": "2022-06-22T13:51:48.280181Z",
     "shell.execute_reply": "2022-06-22T13:51:48.280690Z"
    },
    "id": "26acbc37",
    "papermill": {
     "duration": 87.221209,
     "end_time": "2022-06-22T13:51:48.280971",
     "exception": false,
     "start_time": "2022-06-22T13:50:21.059762",
     "status": "completed"
    },
    "tags": []
   },
   "outputs": [
    {
     "data": {
      "image/png": "[encoded data removed]",
      "text/plain": [
       "<Figure size 432x288 with 1 Axes>"
      ]
     },
     "metadata": {
      "needs_background": "light"
     },
     "output_type": "display_data"
    },
    {
     "data": {
      "image/png": "[encoded data removed]",
      "text/plain": [
       "<Figure size 432x288 with 1 Axes>"
      ]
     },
     "metadata": {
      "needs_background": "light"
     },
     "output_type": "display_data"
    }
   ],
   "source": [
    "ABC_train_test2.training_GAN_skip_connection(disc3,gen3,disc_opt,gen_opt,train_data,batch_size,n_epochs,criterion,prior_model,variance,bias,device)"
   ]
  },
  {
   "cell_type": "code",
   "execution_count": 17,
   "id": "c5e0717b",
   "metadata": {
    "execution": {
     "iopub.execute_input": "2022-06-22T13:51:48.456693Z",
     "iopub.status.busy": "2022-06-22T13:51:48.455871Z",
     "iopub.status.idle": "2022-06-22T13:51:49.585391Z",
     "shell.execute_reply": "2022-06-22T13:51:49.585910Z"
    },
    "id": "c5e0717b",
    "papermill": {
     "duration": 1.235683,
     "end_time": "2022-06-22T13:51:49.586124",
     "exception": false,
     "start_time": "2022-06-22T13:51:48.350441",
     "status": "completed"
    },
    "tags": []
   },
   "outputs": [
    {
     "data": {
      "application/scrapbook.scrap.json+json": {
       "data": 0.14762242256852082,
       "encoder": "json",
       "name": "ABC-GAN Model 3 MSE",
       "version": 1
      }
     },
     "metadata": {
      "scrapbook": {
       "data": true,
       "display": false,
       "name": "ABC-GAN Model 3 MSE"
      }
     },
     "output_type": "display_data"
    },
    {
     "data": {
      "application/scrapbook.scrap.json+json": {
       "data": 0.3351766166370362,
       "encoder": "json",
       "name": "ABC-GAN Model 3 MAE",
       "version": 1
      }
     },
     "metadata": {
      "scrapbook": {
       "data": true,
       "display": false,
       "name": "ABC-GAN Model 3 MAE"
      }
     },
     "output_type": "display_data"
    },
    {
     "data": {
      "application/scrapbook.scrap.json+json": {
       "data": 6.703532332740724,
       "encoder": "json",
       "name": "ABC-GAN Model 3 Manhattan Distance",
       "version": 1
      }
     },
     "metadata": {
      "scrapbook": {
       "data": true,
       "display": false,
       "name": "ABC-GAN Model 3 Manhattan Distance"
      }
     },
     "output_type": "display_data"
    },
    {
     "data": {
      "application/scrapbook.scrap.json+json": {
       "data": 1.7147880782355502,
       "encoder": "json",
       "name": "ABC-GAN Model 3 Euclidean distance",
       "version": 1
      }
     },
     "metadata": {
      "scrapbook": {
       "data": true,
       "display": false,
       "name": "ABC-GAN Model 3 Euclidean distance"
      }
     },
     "output_type": "display_data"
    },
    {
     "data": {
      "application/scrapbook.scrap.json+json": {
       "data": [
        [
         0.14398794799993767,
         0.14019097989991686,
         0.15449347212595943,
         0.12573192682502282,
         0.15494678604974405,
         0.12796587686424096,
         0.14173811460751679,
         0.12375787388684267,
         0.1388750502838893,
         0.1514186250856532,
         0.12412537326339276,
         0.16084107568142195,
         0.14899005685803668,
         0.15301730920896,
         0.17689684489782423,
         0.11320225968499047,
         0.17217197709081639,
         0.17099029050016404,
         0.1259305985464081,
         0.1279199499384569,
         0.1343706650083088,
         0.13236628250157828,
         0.1614636085793884,
         0.14068054453997517,
         0.1797051470556133,
         0.1651125579813788,
         0.17899943623712883,
         0.1574916233400665,
         0.13100709556377704,
         0.1443447979235398,
         0.18898699762996207,
         0.1737222671259458,
         0.13536881052489896,
         0.132141434979884,
         0.15625550630725007,
         0.17276856275152286,
         0.1301660423473986,
         0.15973868174758457,
         0.15905412301715965,
         0.15252953835147975,
         0.15358214166803016,
         0.1472302197917792,
         0.11931911545446398,
         0.15125250184218544,
         0.15515508266279734,
         0.15151996496029074,
         0.1837929025239716,
         0.14911851824888483,
         0.1378636643624874,
         0.12100128520680649,
         0.15563085391586423,
         0.11473733538345512,
         0.13980554163918724,
         0.14801017955892942,
         0.1510736312524658,
         0.1631157354535704,
         0.15522812662828592,
         0.1600733701044047,
         0.1342366112004803,
         0.16545523752822128,
         0.1525293876225567,
         0.16194579808268628,
         0.15614127451761833,
         0.1585588518806484,
         0.1273771434287017,
         0.11669301539036962,
         0.13078286880748674,
         0.12531544090081434,
         0.15866838096986302,
         0.12922476066077365,
         0.1515954089519756,
         0.14382825256915716,
         0.1363326363284389,
         0.13455685028313885,
         0.15229713969338182,
         0.1565165349829964,
         0.19425583121798834,
         0.15774390499655985,
         0.1257882135666674,
         0.16172892770560082,
         0.1268410255982959,
         0.14339102913115628,
         0.1451828263357991,
         0.16304282543552862,
         0.18563094647262535,
         0.12238837179683162,
         0.16454790045942058,
         0.1432782345945343,
         0.11382611655956124,
         0.1139874133152066,
         0.11395260507468911,
         0.12379993115786295,
         0.13616969100652226,
         0.13725960145129068,
         0.17598946395174225,
         0.16218165416435487,
         0.17526650923878248,
         0.1687059501876989,
         0.15379779410326283,
         0.14045361205989265
        ],
        [
         0.3290566440671682,
         0.3241192426532507,
         0.34348901100456714,
         0.31809717081487177,
         0.33459265120327475,
         0.30487380363047123,
         0.33673688583076,
         0.30289918668568133,
         0.32393903844058514,
         0.3366258829832077,
         0.3147245246917009,
         0.35090313069522383,
         0.3165574979968369,
         0.33939976803958416,
         0.37580810599029063,
         0.3064798729494214,
         0.363990331068635,
         0.365918427426368,
         0.3108522441238165,
         0.29732222594320773,
         0.3333236236125231,
         0.309685118868947,
         0.34429060481488705,
         0.3291664715856314,
         0.3835610348731279,
         0.36452674977481364,
         0.36175170056521894,
         0.34707874394953253,
         0.31788131929934027,
         0.34366489835083486,
         0.393558044731617,
         0.3747999582439661,
         0.32577454932034017,
         0.3099701803177595,
         0.34577855877578256,
         0.3648135159164667,
         0.3176516696810722,
         0.3471166808158159,
         0.3589841403067112,
         0.3341095194220543,
         0.34434522204101087,
         0.3247373715043068,
         0.30015206076204776,
         0.33194648921489717,
         0.329022179171443,
         0.34394227527081966,
         0.3798733621835709,
         0.3330601524561644,
         0.32930399365723134,
         0.30496432818472385,
         0.3307568829506636,
         0.27520220540463924,
         0.32804320864379405,
         0.3270234353840351,
         0.349651837348938,
         0.354761790856719,
         0.3453078456223011,
         0.34923324789851906,
         0.2956537786871195,
         0.3648004125803709,
         0.34275224097073076,
         0.3418962676078081,
         0.35675808526575564,
         0.3432603169232607,
         0.32181786708533766,
         0.2887983966618776,
         0.31211438290774823,
         0.31194935739040375,
         0.35243142358958723,
         0.32832227610051634,
         0.34375244192779064,
         0.32818113677203653,
         0.3252698894590139,
         0.3131754778325558,
         0.35457747243344784,
         0.35187466703355313,
         0.38774596732109784,
         0.3446939203888178,
         0.3209549728780985,
         0.3515795644372702,
         0.3063937906175852,
         0.332546042650938,
         0.34012592379003764,
         0.34404069669544696,
         0.3889860514551401,
         0.30563427060842513,
         0.3444569420069456,
         0.3468985553830862,
         0.2916189689189196,
         0.3026969011873007,
         0.29276077412068846,
         0.2954613197594881,
         0.31867850460112096,
         0.3171246204525232,
         0.38409776575863364,
         0.3492696065455675,
         0.3706807818263769,
         0.35372164063155653,
         0.34734010212123395,
         0.3175674702972174
        ],
        [
         6.581132881343365,
         6.482384853065014,
         6.869780220091343,
         6.361943416297436,
         6.6918530240654945,
         6.097476072609425,
         6.7347377166152,
         6.057983733713627,
         6.478780768811703,
         6.732517659664154,
         6.294490493834019,
         7.018062613904476,
         6.331149959936738,
         6.787995360791683,
         7.516162119805813,
         6.129597458988428,
         7.2798066213727,
         7.31836854852736,
         6.21704488247633,
         5.946444518864155,
         6.666472472250462,
         6.193702377378941,
         6.885812096297741,
         6.583329431712627,
         7.671220697462559,
         7.290534995496273,
         7.2350340113043785,
         6.94157487899065,
         6.357626385986805,
         6.873297967016697,
         7.8711608946323395,
         7.495999164879322,
         6.515490986406803,
         6.19940360635519,
         6.915571175515652,
         7.296270318329334,
         6.353033393621445,
         6.9423336163163185,
         7.179682806134224,
         6.682190388441086,
         6.886904440820217,
         6.494747430086136,
         6.003041215240955,
         6.638929784297943,
         6.58044358342886,
         6.878845505416393,
         7.597467243671417,
         6.661203049123287,
         6.586079873144627,
         6.099286563694477,
         6.615137659013271,
         5.504044108092785,
         6.560864172875881,
         6.540468707680702,
         6.99303674697876,
         7.09523581713438,
         6.906156912446022,
         6.984664957970381,
         5.91307557374239,
         7.296008251607418,
         6.855044819414616,
         6.837925352156162,
         7.135161705315113,
         6.865206338465214,
         6.436357341706753,
         5.775967933237553,
         6.2422876581549644,
         6.238987147808075,
         7.048628471791744,
         6.566445522010326,
         6.875048838555813,
         6.563622735440731,
         6.505397789180279,
         6.263509556651115,
         7.091549448668957,
         7.0374933406710625,
         7.754919346421957,
         6.893878407776356,
         6.41909945756197,
         7.031591288745403,
         6.127875812351704,
         6.650920853018761,
         6.802518475800753,
         6.880813933908939,
         7.779721029102802,
         6.112685412168503,
         6.889138840138912,
         6.937971107661724,
         5.832379378378391,
         6.053938023746014,
         5.855215482413769,
         5.909226395189762,
         6.373570092022419,
         6.342492409050465,
         7.681955315172672,
         6.98539213091135,
         7.413615636527538,
         7.07443281263113,
         6.946802042424679,
         6.351349405944347
        ],
        [
         1.6969852562702934,
         1.6744609873025817,
         1.7578024469544888,
         1.5857611852042717,
         1.7603794252929907,
         1.5997867161858856,
         1.683675233573962,
         1.5732633211693627,
         1.6665836329682906,
         1.7402219690927545,
         1.575597494688239,
         1.7935499752246769,
         1.726210050127369,
         1.7493845158166916,
         1.880940429135512,
         1.5046744477460263,
         1.8556507057677443,
         1.849271697183321,
         1.5870135383569233,
         1.599499608868079,
         1.6393331876608173,
         1.6270604322002196,
         1.7970175768722374,
         1.6773821540720837,
         1.895811947718514,
         1.8172097181193965,
         1.8920858132607452,
         1.7747767371704335,
         1.6186852415696946,
         1.6990868013349982,
         1.9441553313969648,
         1.8639864115703515,
         1.6454106510224062,
         1.6256779200068137,
         1.76779810106952,
         1.8588628930156352,
         1.6134809719819976,
         1.7873929716074446,
         1.7835589309981303,
         1.7465940475764812,
         1.7526102913541857,
         1.7159849637556803,
         1.544791995412094,
         1.739267097614311,
         1.7615622762922538,
         1.7408042104745194,
         1.9172527351602429,
         1.726954071473152,
         1.660503925695374,
         1.5556431802107222,
         1.7642610573033923,
         1.5148421395211789,
         1.672157538267177,
         1.7205242198756137,
         1.7382383683054854,
         1.8061878941769618,
         1.7619768819612016,
         1.789264486342948,
         1.6385152498556752,
         1.8190944864312093,
         1.746593184588539,
         1.7996988530456215,
         1.7671518017285235,
         1.7807798958919565,
         1.5961023991505163,
         1.5276977148007365,
         1.6172994083192311,
         1.583132596473298,
         1.781394852186696,
         1.607636530194395,
         1.7412375423932003,
         1.6960439414658877,
         1.651257922484788,
         1.6404685323598185,
         1.745262958372645,
         1.7692740600765977,
         1.971069918688773,
         1.776197652270489,
         1.5861160964233822,
         1.7984934123070946,
         1.5927399385856809,
         1.6934640777480714,
         1.70401189160052,
         1.8057841810998823,
         1.9268157487036761,
         1.5645342552774715,
         1.8140997792812863,
         1.6927978886714992,
         1.5088148763818656,
         1.5098835273967766,
         1.5096529738631268,
         1.5735306235206414,
         1.6502708323576603,
         1.6568621032016555,
         1.8761101457629947,
         1.8010089070537927,
         1.8722527032363045,
         1.8368775146301883,
         1.753840323993395,
         1.6760287113286136
        ]
       ],
       "encoder": "json",
       "name": "ABC_GAN_3 Metrics",
       "version": 1
      }
     },
     "metadata": {
      "scrapbook": {
       "data": true,
       "display": false,
       "name": "ABC_GAN_3 Metrics"
      }
     },
     "output_type": "display_data"
    },
    {
     "name": "stdout",
     "output_type": "stream",
     "text": [
      "MSE\n",
      "0.14762242256852082\n"
     ]
    }
   ],
   "source": [
    "ABC_GAN3_metrics=ABC_train_test2.test_generator(gen3,test_data,prior_model,variance,bias,\"3\",device)\n",
    "sb.glue(\"ABC_GAN_3 Metrics\",ABC_GAN3_metrics)\n",
    "\n",
    "print(\"MSE\")\n",
    "print(mean(ABC_GAN3_metrics[0]))"
   ]
  },
  {
   "cell_type": "code",
   "execution_count": 18,
   "id": "c8e46b48",
   "metadata": {
    "execution": {
     "iopub.execute_input": "2022-06-22T13:51:49.715363Z",
     "iopub.status.busy": "2022-06-22T13:51:49.713646Z",
     "iopub.status.idle": "2022-06-22T13:51:50.576418Z",
     "shell.execute_reply": "2022-06-22T13:51:50.576934Z"
    },
    "id": "c8e46b48",
    "papermill": {
     "duration": 0.934268,
     "end_time": "2022-06-22T13:51:50.577149",
     "exception": false,
     "start_time": "2022-06-22T13:51:49.642881",
     "status": "completed"
    },
    "tags": []
   },
   "outputs": [
    {
     "data": {
      "image/png": "[encoded data removed]",
      "text/plain": [
       "<Figure size 432x288 with 1 Axes>"
      ]
     },
     "metadata": {
      "needs_background": "light"
     },
     "output_type": "display_data"
    },
    {
     "data": {
      "image/png": "[encoded data removed]",
      "text/plain": [
       "<Figure size 432x288 with 1 Axes>"
      ]
     },
     "metadata": {
      "needs_background": "light"
     },
     "output_type": "display_data"
    },
    {
     "data": {
      "image/png": "[encoded data removed]",
      "text/plain": [
       "<Figure size 432x288 with 1 Axes>"
      ]
     },
     "metadata": {
      "needs_background": "light"
     },
     "output_type": "display_data"
    },
    {
     "data": {
      "image/png": "[encoded data removed]",
      "text/plain": [
       "<Figure size 432x288 with 1 Axes>"
      ]
     },
     "metadata": {
      "needs_background": "light"
     },
     "output_type": "display_data"
    }
   ],
   "source": [
    "sanityChecks.discProbVsError(train_data,disc3,device)\n",
    "sanityChecks.discProbVsError(test_data,disc3,device)"
   ]
  },
  {
   "cell_type": "markdown",
   "id": "a5bd74c3",
   "metadata": {
    "id": "a5bd74c3",
    "papermill": {
     "duration": 0.064465,
     "end_time": "2022-06-22T13:51:50.704677",
     "exception": false,
     "start_time": "2022-06-22T13:51:50.640212",
     "status": "completed"
    },
    "tags": []
   },
   "source": [
    "## Skip Connection Model Analysis - ABC-GAN "
   ]
  },
  {
   "cell_type": "markdown",
   "id": "5744a8bf",
   "metadata": {
    "id": "5744a8bf",
    "papermill": {
     "duration": 0.055414,
     "end_time": "2022-06-22T13:51:50.814344",
     "exception": false,
     "start_time": "2022-06-22T13:51:50.758930",
     "status": "completed"
    },
    "tags": []
   },
   "source": [
    "### Weight Analysis \n",
    "\n",
    "Study the weights of the skip connection layer\n",
    "\n",
    "Equation of the skip connection is \n",
    "\n",
    "$output = y_{gan} * w + y_{abc} * (1-w)$"
   ]
  },
  {
   "cell_type": "code",
   "execution_count": 19,
   "id": "52c31dea",
   "metadata": {
    "execution": {
     "iopub.execute_input": "2022-06-22T13:51:50.937123Z",
     "iopub.status.busy": "2022-06-22T13:51:50.934823Z",
     "iopub.status.idle": "2022-06-22T13:51:50.951754Z",
     "shell.execute_reply": "2022-06-22T13:51:50.952291Z"
    },
    "id": "52c31dea",
    "papermill": {
     "duration": 0.086092,
     "end_time": "2022-06-22T13:51:50.952516",
     "exception": false,
     "start_time": "2022-06-22T13:51:50.866424",
     "status": "completed"
    },
    "tags": []
   },
   "outputs": [
    {
     "name": "stdout",
     "output_type": "stream",
     "text": [
      "Weight of the node at skip connection\n",
      "Parameter containing:\n",
      "tensor([[0.5309]], requires_grad=True)\n"
     ]
    },
    {
     "data": {
      "application/scrapbook.scrap.json+json": {
       "data": 0.5309404134750366,
       "encoder": "json",
       "name": "Skip Connection Weight",
       "version": 1
      }
     },
     "metadata": {
      "scrapbook": {
       "data": true,
       "display": false,
       "name": "Skip Connection Weight"
      }
     },
     "output_type": "display_data"
    }
   ],
   "source": [
    "print(\"Weight of the node at skip connection\")\n",
    "for name,param in gen3.named_parameters():\n",
    "    if(name == \"skipNode.weight\"):\n",
    "        print(param)\n",
    "        sb.glue(\"Skip Connection Weight\",param.item())"
   ]
  }
 ],
 "metadata": {
  "colab": {
   "collapsed_sections": [],
   "name": "ABC_GAN_Model-Catboost_Pre-gen.ipynb",
   "provenance": []
  },
  "interpreter": {
   "hash": "31f2aee4e71d21fbe5cf8b01ff0e069b9275f58929596ceb00d14d90e3e16cd6"
  },
  "kernelspec": {
   "display_name": "Python 3 (ipykernel)",
   "language": "python",
   "name": "python3"
  },
  "language_info": {
   "codemirror_mode": {
    "name": "ipython",
    "version": 3
   },
   "file_extension": ".py",
   "mimetype": "text/x-python",
   "name": "python",
   "nbconvert_exporter": "python",
   "pygments_lexer": "ipython3",
   "version": "3.8.3"
  },
  "papermill": {
   "default_parameters": {},
   "duration": 169.887333,
   "end_time": "2022-06-22T13:51:51.965488",
   "environment_variables": {},
   "exception": null,
   "input_path": "ABC_GAN-TabNet.ipynb",
   "output_path": "./ABC_GAN_TabNet/ABC-GAN_output_5_6.ipynb",
   "parameters": {
    "bias": 0.01,
    "variance": 1
   },
   "start_time": "2022-06-22T13:49:02.078155",
   "version": "2.3.3"
  }
 },
 "nbformat": 4,
 "nbformat_minor": 5
}