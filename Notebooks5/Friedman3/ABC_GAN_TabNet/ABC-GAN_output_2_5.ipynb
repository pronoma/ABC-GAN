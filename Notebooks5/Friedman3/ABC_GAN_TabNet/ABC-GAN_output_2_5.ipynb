{
 "cells": [
  {
   "cell_type": "markdown",
   "id": "622780e6",
   "metadata": {
    "id": "622780e6",
    "papermill": {
     "duration": 0.026464,
     "end_time": "2022-06-22T12:07:44.229191",
     "exception": false,
     "start_time": "2022-06-22T12:07:44.202727",
     "status": "completed"
    },
    "tags": []
   },
   "source": [
    "## Import Libraries "
   ]
  },
  {
   "cell_type": "code",
   "execution_count": 1,
   "id": "a62397e3",
   "metadata": {
    "execution": {
     "iopub.execute_input": "2022-06-22T12:07:44.298252Z",
     "iopub.status.busy": "2022-06-22T12:07:44.294889Z",
     "iopub.status.idle": "2022-06-22T12:07:44.300546Z",
     "shell.execute_reply": "2022-06-22T12:07:44.301223Z"
    },
    "id": "a62397e3",
    "papermill": {
     "duration": 0.038096,
     "end_time": "2022-06-22T12:07:44.301898",
     "exception": false,
     "start_time": "2022-06-22T12:07:44.263802",
     "status": "completed"
    },
    "tags": []
   },
   "outputs": [],
   "source": [
    "import warnings\n",
    "import sys\n",
    "sys.path.insert(0, '../../src')\n",
    "warnings.filterwarnings('ignore')"
   ]
  },
  {
   "cell_type": "code",
   "execution_count": 2,
   "id": "d6a4e155",
   "metadata": {
    "execution": {
     "iopub.execute_input": "2022-06-22T12:07:44.341677Z",
     "iopub.status.busy": "2022-06-22T12:07:44.340548Z",
     "iopub.status.idle": "2022-06-22T12:07:50.550232Z",
     "shell.execute_reply": "2022-06-22T12:07:50.550775Z"
    },
    "id": "d6a4e155",
    "papermill": {
     "duration": 6.232053,
     "end_time": "2022-06-22T12:07:50.551032",
     "exception": false,
     "start_time": "2022-06-22T12:07:44.318979",
     "status": "completed"
    },
    "tags": []
   },
   "outputs": [],
   "source": [
    "import ABC_train_test2\n",
    "import friedman3Dataset\n",
    "import network\n",
    "import dataset\n",
    "import sanityChecks\n",
    "import torch \n",
    "import scrapbook as sb\n",
    "from statistics import mean \n",
    "import catboost as ctb \n",
    "from sklearn.model_selection import train_test_split\n",
    "from sklearn.metrics import mean_squared_error,mean_absolute_error\n",
    "import numpy as np\n",
    "from pytorch_tabnet.tab_model import TabNetRegressor"
   ]
  },
  {
   "cell_type": "markdown",
   "id": "2fa5b0f7",
   "metadata": {
    "id": "2fa5b0f7",
    "papermill": {
     "duration": 0.018011,
     "end_time": "2022-06-22T12:07:50.586603",
     "exception": false,
     "start_time": "2022-06-22T12:07:50.568592",
     "status": "completed"
    },
    "tags": []
   },
   "source": [
    "## Parameters "
   ]
  },
  {
   "cell_type": "code",
   "execution_count": 3,
   "id": "783186fb",
   "metadata": {
    "execution": {
     "iopub.execute_input": "2022-06-22T12:07:50.625605Z",
     "iopub.status.busy": "2022-06-22T12:07:50.624837Z",
     "iopub.status.idle": "2022-06-22T12:07:50.627200Z",
     "shell.execute_reply": "2022-06-22T12:07:50.627741Z"
    },
    "id": "783186fb",
    "papermill": {
     "duration": 0.024409,
     "end_time": "2022-06-22T12:07:50.627964",
     "exception": false,
     "start_time": "2022-06-22T12:07:50.603555",
     "status": "completed"
    },
    "tags": [
     "parameters"
    ]
   },
   "outputs": [],
   "source": [
    "variance = 1\n",
    "bias = 1 "
   ]
  },
  {
   "cell_type": "code",
   "execution_count": 4,
   "id": "7b1a3def",
   "metadata": {
    "execution": {
     "iopub.execute_input": "2022-06-22T12:07:50.660590Z",
     "iopub.status.busy": "2022-06-22T12:07:50.659876Z",
     "iopub.status.idle": "2022-06-22T12:07:50.661918Z",
     "shell.execute_reply": "2022-06-22T12:07:50.662487Z"
    },
    "papermill": {
     "duration": 0.019418,
     "end_time": "2022-06-22T12:07:50.662686",
     "exception": false,
     "start_time": "2022-06-22T12:07:50.643268",
     "status": "completed"
    },
    "tags": [
     "injected-parameters"
    ]
   },
   "outputs": [],
   "source": [
    "# Parameters\n",
    "variance = 0.01\n",
    "bias = 0.1\n"
   ]
  },
  {
   "cell_type": "markdown",
   "id": "391cdbfd",
   "metadata": {
    "id": "391cdbfd",
    "papermill": {
     "duration": 0.015614,
     "end_time": "2022-06-22T12:07:50.691338",
     "exception": false,
     "start_time": "2022-06-22T12:07:50.675724",
     "status": "completed"
    },
    "tags": []
   },
   "source": [
    "## Dataset \n"
   ]
  },
  {
   "cell_type": "code",
   "execution_count": 5,
   "id": "5b51f161",
   "metadata": {
    "execution": {
     "iopub.execute_input": "2022-06-22T12:07:50.727234Z",
     "iopub.status.busy": "2022-06-22T12:07:50.726410Z",
     "iopub.status.idle": "2022-06-22T12:07:50.728540Z",
     "shell.execute_reply": "2022-06-22T12:07:50.728993Z"
    },
    "id": "5b51f161",
    "papermill": {
     "duration": 0.021381,
     "end_time": "2022-06-22T12:07:50.729263",
     "exception": false,
     "start_time": "2022-06-22T12:07:50.707882",
     "status": "completed"
    },
    "tags": []
   },
   "outputs": [],
   "source": [
    "#Parameters \n",
    "n_features = 4\n",
    "n_samples= 100\n",
    "n_target = 1"
   ]
  },
  {
   "cell_type": "code",
   "execution_count": 6,
   "id": "5d6eced4",
   "metadata": {
    "execution": {
     "iopub.execute_input": "2022-06-22T12:07:50.761797Z",
     "iopub.status.busy": "2022-06-22T12:07:50.761087Z",
     "iopub.status.idle": "2022-06-22T12:07:50.773366Z",
     "shell.execute_reply": "2022-06-22T12:07:50.773885Z"
    },
    "id": "5d6eced4",
    "papermill": {
     "duration": 0.030486,
     "end_time": "2022-06-22T12:07:50.774090",
     "exception": false,
     "start_time": "2022-06-22T12:07:50.743604",
     "status": "completed"
    },
    "tags": []
   },
   "outputs": [
    {
     "name": "stdout",
     "output_type": "stream",
     "text": [
      "          X1           X2        X3         X4         Y\n",
      "0  11.688313   551.291020  0.415700   5.739435  1.657778\n",
      "1  30.239436  1748.925354  0.694521  10.144840  1.446794\n",
      "2  67.676385  1323.365208  0.069896   3.271421  0.928386\n",
      "3  82.862356   896.600969  0.115530   1.917265  0.745026\n",
      "4  13.092180  1213.560273  0.703359  10.318575  1.638820\n"
     ]
    }
   ],
   "source": [
    "X,Y = friedman3Dataset.friedman3_data(n_samples)"
   ]
  },
  {
   "cell_type": "code",
   "execution_count": 7,
   "id": "fe007438",
   "metadata": {
    "execution": {
     "iopub.execute_input": "2022-06-22T12:07:50.813468Z",
     "iopub.status.busy": "2022-06-22T12:07:50.811221Z",
     "iopub.status.idle": "2022-06-22T12:07:50.815617Z",
     "shell.execute_reply": "2022-06-22T12:07:50.816288Z"
    },
    "id": "fe007438",
    "papermill": {
     "duration": 0.028714,
     "end_time": "2022-06-22T12:07:50.816614",
     "exception": false,
     "start_time": "2022-06-22T12:07:50.787900",
     "status": "completed"
    },
    "tags": []
   },
   "outputs": [],
   "source": [
    "#Train test split for dataset \n",
    "X_train,X_test,Y_train,Y_test = train_test_split(X,Y,test_size = 0.2)\n",
    "train_data = dataset.CustomDataset(X_train,Y_train)\n",
    "test_data = dataset.CustomDataset(X_test,Y_test)\n"
   ]
  },
  {
   "cell_type": "markdown",
   "id": "a9a1af34",
   "metadata": {
    "id": "a9a1af34",
    "papermill": {
     "duration": 0.017225,
     "end_time": "2022-06-22T12:07:50.851276",
     "exception": false,
     "start_time": "2022-06-22T12:07:50.834051",
     "status": "completed"
    },
    "tags": []
   },
   "source": [
    "## Training Parameters "
   ]
  },
  {
   "cell_type": "code",
   "execution_count": 8,
   "id": "952b7fc8",
   "metadata": {
    "execution": {
     "iopub.execute_input": "2022-06-22T12:07:50.883656Z",
     "iopub.status.busy": "2022-06-22T12:07:50.882673Z",
     "iopub.status.idle": "2022-06-22T12:07:50.884763Z",
     "shell.execute_reply": "2022-06-22T12:07:50.885214Z"
    },
    "id": "952b7fc8",
    "papermill": {
     "duration": 0.019761,
     "end_time": "2022-06-22T12:07:50.885411",
     "exception": false,
     "start_time": "2022-06-22T12:07:50.865650",
     "status": "completed"
    },
    "tags": []
   },
   "outputs": [],
   "source": [
    "batch_size = 32\n",
    "n_epochs = 1000\n",
    "#Select the device \n",
    "device = torch.device('cuda' if torch.cuda.is_available() else 'cpu')"
   ]
  },
  {
   "cell_type": "markdown",
   "id": "a95e1600",
   "metadata": {
    "id": "a95e1600",
    "papermill": {
     "duration": 0.020299,
     "end_time": "2022-06-22T12:07:50.918740",
     "exception": false,
     "start_time": "2022-06-22T12:07:50.898441",
     "status": "completed"
    },
    "tags": []
   },
   "source": [
    "# ABC Pre-generator Model \n",
    "\n",
    "1. The catboost model is used as a pre-generator model for the ABC-GAN. \n",
    "2. The model is first trained on the entire dataset \n",
    "3. It generats X,Y pairs and we add some Gaussian noise with mean 0 and variance 1 to it which is then feed as input to the generator.\n"
   ]
  },
  {
   "cell_type": "code",
   "execution_count": 9,
   "id": "ff8ce7bd",
   "metadata": {
    "execution": {
     "iopub.execute_input": "2022-06-22T12:07:50.957443Z",
     "iopub.status.busy": "2022-06-22T12:07:50.956589Z",
     "iopub.status.idle": "2022-06-22T12:08:04.956012Z",
     "shell.execute_reply": "2022-06-22T12:08:04.955542Z"
    },
    "id": "ff8ce7bd",
    "papermill": {
     "duration": 14.020427,
     "end_time": "2022-06-22T12:08:04.956185",
     "exception": false,
     "start_time": "2022-06-22T12:07:50.935758",
     "status": "completed"
    },
    "tags": []
   },
   "outputs": [
    {
     "name": "stdout",
     "output_type": "stream",
     "text": [
      "Device used : cpu\n"
     ]
    },
    {
     "name": "stdout",
     "output_type": "stream",
     "text": [
      "epoch 0  | loss: 0.90344 | train_mse: 7.36007 | train_mae: 1.71913 |  0:00:00s\n",
      "epoch 1  | loss: 0.59439 | train_mse: 2.25084 | train_mae: 1.10298 |  0:00:00s\n",
      "epoch 2  | loss: 0.5243  | train_mse: 1.19913 | train_mae: 0.80908 |  0:00:00s\n"
     ]
    },
    {
     "name": "stdout",
     "output_type": "stream",
     "text": [
      "epoch 3  | loss: 0.58269 | train_mse: 1.31548 | train_mae: 0.88465 |  0:00:00s\n",
      "epoch 4  | loss: 0.4551  | train_mse: 1.27813 | train_mae: 0.87757 |  0:00:00s\n",
      "epoch 5  | loss: 0.45    | train_mse: 0.61174 | train_mae: 0.62878 |  0:00:00s\n"
     ]
    },
    {
     "name": "stdout",
     "output_type": "stream",
     "text": [
      "epoch 6  | loss: 0.37237 | train_mse: 0.63703 | train_mae: 0.59715 |  0:00:00s\n",
      "epoch 7  | loss: 0.29516 | train_mse: 0.52303 | train_mae: 0.54952 |  0:00:00s\n",
      "epoch 8  | loss: 0.4507  | train_mse: 0.58992 | train_mae: 0.58873 |  0:00:00s\n"
     ]
    },
    {
     "name": "stdout",
     "output_type": "stream",
     "text": [
      "epoch 9  | loss: 0.23887 | train_mse: 0.60227 | train_mae: 0.57463 |  0:00:00s\n",
      "epoch 10 | loss: 0.45623 | train_mse: 0.68667 | train_mae: 0.58029 |  0:00:00s\n",
      "epoch 11 | loss: 0.3005  | train_mse: 0.42296 | train_mae: 0.49061 |  0:00:00s\n"
     ]
    },
    {
     "name": "stdout",
     "output_type": "stream",
     "text": [
      "epoch 12 | loss: 0.28116 | train_mse: 0.31375 | train_mae: 0.42797 |  0:00:01s\n",
      "epoch 13 | loss: 0.25463 | train_mse: 0.31615 | train_mae: 0.41775 |  0:00:01s\n"
     ]
    },
    {
     "name": "stdout",
     "output_type": "stream",
     "text": [
      "epoch 14 | loss: 0.25824 | train_mse: 0.30851 | train_mae: 0.42645 |  0:00:01s\n",
      "epoch 15 | loss: 0.15538 | train_mse: 0.38122 | train_mae: 0.47041 |  0:00:01s\n",
      "epoch 16 | loss: 0.17379 | train_mse: 0.48693 | train_mae: 0.51539 |  0:00:01s\n"
     ]
    },
    {
     "name": "stdout",
     "output_type": "stream",
     "text": [
      "epoch 17 | loss: 0.21148 | train_mse: 0.46388 | train_mae: 0.51114 |  0:00:01s\n",
      "epoch 18 | loss: 0.20796 | train_mse: 0.35584 | train_mae: 0.4387  |  0:00:01s\n",
      "epoch 19 | loss: 0.29292 | train_mse: 0.30761 | train_mae: 0.42154 |  0:00:01s\n"
     ]
    },
    {
     "name": "stdout",
     "output_type": "stream",
     "text": [
      "epoch 20 | loss: 0.19832 | train_mse: 0.19831 | train_mae: 0.34996 |  0:00:01s\n",
      "epoch 21 | loss: 0.19095 | train_mse: 0.22717 | train_mae: 0.36163 |  0:00:01s\n",
      "epoch 22 | loss: 0.16527 | train_mse: 0.28931 | train_mae: 0.41094 |  0:00:01s\n"
     ]
    },
    {
     "name": "stdout",
     "output_type": "stream",
     "text": [
      "epoch 23 | loss: 0.2212  | train_mse: 0.28854 | train_mae: 0.41279 |  0:00:02s\n",
      "epoch 24 | loss: 0.19949 | train_mse: 0.27491 | train_mae: 0.40761 |  0:00:02s\n",
      "epoch 25 | loss: 0.21448 | train_mse: 0.22628 | train_mae: 0.36262 |  0:00:02s\n"
     ]
    },
    {
     "name": "stdout",
     "output_type": "stream",
     "text": [
      "epoch 26 | loss: 0.21156 | train_mse: 0.13494 | train_mae: 0.28265 |  0:00:02s\n",
      "epoch 27 | loss: 0.48668 | train_mse: 0.1416  | train_mae: 0.27545 |  0:00:02s\n"
     ]
    },
    {
     "name": "stdout",
     "output_type": "stream",
     "text": [
      "epoch 28 | loss: 0.19962 | train_mse: 0.14501 | train_mae: 0.28526 |  0:00:02s\n",
      "epoch 29 | loss: 0.17667 | train_mse: 0.14145 | train_mae: 0.30211 |  0:00:02s\n",
      "epoch 30 | loss: 0.16708 | train_mse: 0.17536 | train_mae: 0.32541 |  0:00:02s\n"
     ]
    },
    {
     "name": "stdout",
     "output_type": "stream",
     "text": [
      "epoch 31 | loss: 0.24456 | train_mse: 0.18612 | train_mae: 0.34373 |  0:00:02s\n",
      "epoch 32 | loss: 0.22031 | train_mse: 0.15526 | train_mae: 0.30533 |  0:00:02s\n",
      "epoch 33 | loss: 0.20194 | train_mse: 0.10645 | train_mae: 0.26868 |  0:00:02s\n",
      "epoch 34 | loss: 0.18055 | train_mse: 0.14295 | train_mae: 0.29379 |  0:00:02s\n"
     ]
    },
    {
     "name": "stdout",
     "output_type": "stream",
     "text": [
      "epoch 35 | loss: 0.28243 | train_mse: 0.16619 | train_mae: 0.27212 |  0:00:03s\n",
      "epoch 36 | loss: 0.31832 | train_mse: 0.16784 | train_mae: 0.27718 |  0:00:03s\n",
      "epoch 37 | loss: 0.15592 | train_mse: 0.09497 | train_mae: 0.25759 |  0:00:03s\n",
      "epoch 38 | loss: 0.17582 | train_mse: 0.09768 | train_mae: 0.26246 |  0:00:03s\n"
     ]
    },
    {
     "name": "stdout",
     "output_type": "stream",
     "text": [
      "epoch 39 | loss: 0.12817 | train_mse: 0.0942  | train_mae: 0.25712 |  0:00:03s\n",
      "epoch 40 | loss: 0.14606 | train_mse: 0.09016 | train_mae: 0.24674 |  0:00:03s\n",
      "epoch 41 | loss: 0.12837 | train_mse: 0.07851 | train_mae: 0.22761 |  0:00:03s\n"
     ]
    },
    {
     "name": "stdout",
     "output_type": "stream",
     "text": [
      "epoch 42 | loss: 0.14727 | train_mse: 0.07243 | train_mae: 0.22103 |  0:00:03s\n",
      "epoch 43 | loss: 0.15102 | train_mse: 0.07123 | train_mae: 0.21457 |  0:00:03s\n",
      "epoch 44 | loss: 0.11317 | train_mse: 0.06694 | train_mae: 0.20345 |  0:00:03s\n"
     ]
    },
    {
     "name": "stdout",
     "output_type": "stream",
     "text": [
      "epoch 45 | loss: 0.29571 | train_mse: 0.0779  | train_mae: 0.22328 |  0:00:03s\n",
      "epoch 46 | loss: 0.12168 | train_mse: 0.07131 | train_mae: 0.20949 |  0:00:03s\n",
      "epoch 47 | loss: 0.09146 | train_mse: 0.08191 | train_mae: 0.21309 |  0:00:03s\n",
      "epoch 48 | loss: 0.14544 | train_mse: 0.11896 | train_mae: 0.25537 |  0:00:03s\n"
     ]
    },
    {
     "name": "stdout",
     "output_type": "stream",
     "text": [
      "epoch 49 | loss: 0.12933 | train_mse: 0.1587  | train_mae: 0.27589 |  0:00:04s\n",
      "epoch 50 | loss: 0.17497 | train_mse: 0.13226 | train_mae: 0.25534 |  0:00:04s\n",
      "epoch 51 | loss: 0.17186 | train_mse: 0.13237 | train_mae: 0.26277 |  0:00:04s\n",
      "epoch 52 | loss: 0.14158 | train_mse: 0.09001 | train_mae: 0.2241  |  0:00:04s\n"
     ]
    },
    {
     "name": "stdout",
     "output_type": "stream",
     "text": [
      "epoch 53 | loss: 0.16058 | train_mse: 0.0969  | train_mae: 0.24006 |  0:00:04s\n",
      "epoch 54 | loss: 0.21005 | train_mse: 0.1091  | train_mae: 0.25294 |  0:00:04s\n",
      "epoch 55 | loss: 0.18889 | train_mse: 0.10943 | train_mae: 0.25889 |  0:00:04s\n",
      "epoch 56 | loss: 0.14975 | train_mse: 0.11703 | train_mae: 0.26808 |  0:00:04s\n"
     ]
    },
    {
     "name": "stdout",
     "output_type": "stream",
     "text": [
      "epoch 57 | loss: 0.13841 | train_mse: 0.15534 | train_mae: 0.30366 |  0:00:04s\n",
      "epoch 58 | loss: 0.14997 | train_mse: 0.15341 | train_mae: 0.30353 |  0:00:04s\n",
      "epoch 59 | loss: 0.18406 | train_mse: 0.13984 | train_mae: 0.28654 |  0:00:04s\n"
     ]
    },
    {
     "name": "stdout",
     "output_type": "stream",
     "text": [
      "epoch 60 | loss: 0.1692  | train_mse: 0.1123  | train_mae: 0.26222 |  0:00:04s\n",
      "epoch 61 | loss: 0.23356 | train_mse: 0.11273 | train_mae: 0.26152 |  0:00:04s\n",
      "epoch 62 | loss: 0.29208 | train_mse: 0.10278 | train_mae: 0.24457 |  0:00:04s\n",
      "epoch 63 | loss: 0.17689 | train_mse: 0.08692 | train_mae: 0.22575 |  0:00:04s\n"
     ]
    },
    {
     "name": "stdout",
     "output_type": "stream",
     "text": [
      "epoch 64 | loss: 0.14996 | train_mse: 0.08812 | train_mae: 0.22683 |  0:00:05s\n",
      "epoch 65 | loss: 0.15147 | train_mse: 0.10509 | train_mae: 0.24829 |  0:00:05s\n",
      "epoch 66 | loss: 0.18089 | train_mse: 0.11642 | train_mae: 0.2643  |  0:00:05s\n",
      "epoch 67 | loss: 0.15951 | train_mse: 0.11082 | train_mae: 0.25427 |  0:00:05s\n"
     ]
    },
    {
     "name": "stdout",
     "output_type": "stream",
     "text": [
      "epoch 68 | loss: 0.1323  | train_mse: 0.10622 | train_mae: 0.25001 |  0:00:05s\n",
      "epoch 69 | loss: 0.0928  | train_mse: 0.11906 | train_mae: 0.25928 |  0:00:05s\n",
      "epoch 70 | loss: 0.12125 | train_mse: 0.12122 | train_mae: 0.2595  |  0:00:05s\n",
      "epoch 71 | loss: 0.09189 | train_mse: 0.12473 | train_mae: 0.24442 |  0:00:05s\n"
     ]
    },
    {
     "name": "stdout",
     "output_type": "stream",
     "text": [
      "epoch 72 | loss: 0.11228 | train_mse: 0.12388 | train_mae: 0.24217 |  0:00:05s\n",
      "epoch 73 | loss: 0.12515 | train_mse: 0.13325 | train_mae: 0.24191 |  0:00:05s\n",
      "epoch 74 | loss: 0.29298 | train_mse: 0.15362 | train_mae: 0.25258 |  0:00:05s\n",
      "epoch 75 | loss: 0.15472 | train_mse: 0.08972 | train_mae: 0.24212 |  0:00:05s\n"
     ]
    },
    {
     "name": "stdout",
     "output_type": "stream",
     "text": [
      "epoch 76 | loss: 0.14083 | train_mse: 0.07066 | train_mae: 0.21835 |  0:00:05s\n",
      "epoch 77 | loss: 0.32188 | train_mse: 0.07008 | train_mae: 0.21693 |  0:00:05s\n",
      "epoch 78 | loss: 0.14114 | train_mse: 0.0721  | train_mae: 0.20983 |  0:00:05s\n"
     ]
    },
    {
     "name": "stdout",
     "output_type": "stream",
     "text": [
      "epoch 79 | loss: 0.11591 | train_mse: 0.08098 | train_mae: 0.21583 |  0:00:06s\n",
      "epoch 80 | loss: 0.08326 | train_mse: 0.06712 | train_mae: 0.19593 |  0:00:06s\n",
      "epoch 81 | loss: 0.10566 | train_mse: 0.0678  | train_mae: 0.19764 |  0:00:06s\n",
      "epoch 82 | loss: 0.08996 | train_mse: 0.06887 | train_mae: 0.19763 |  0:00:06s\n"
     ]
    },
    {
     "name": "stdout",
     "output_type": "stream",
     "text": [
      "epoch 83 | loss: 0.12646 | train_mse: 0.06808 | train_mae: 0.19859 |  0:00:06s\n",
      "epoch 84 | loss: 0.15393 | train_mse: 0.0603  | train_mae: 0.18933 |  0:00:06s\n",
      "epoch 85 | loss: 0.26835 | train_mse: 0.06805 | train_mae: 0.1975  |  0:00:06s\n",
      "epoch 86 | loss: 0.17797 | train_mse: 0.07608 | train_mae: 0.20304 |  0:00:06s\n"
     ]
    },
    {
     "name": "stdout",
     "output_type": "stream",
     "text": [
      "epoch 87 | loss: 0.09517 | train_mse: 0.09005 | train_mae: 0.21723 |  0:00:06s\n",
      "epoch 88 | loss: 0.1228  | train_mse: 0.08149 | train_mae: 0.21016 |  0:00:06s\n",
      "epoch 89 | loss: 0.12321 | train_mse: 0.06216 | train_mae: 0.19336 |  0:00:06s\n",
      "epoch 90 | loss: 0.08179 | train_mse: 0.06303 | train_mae: 0.19951 |  0:00:06s\n"
     ]
    },
    {
     "name": "stdout",
     "output_type": "stream",
     "text": [
      "epoch 91 | loss: 0.12898 | train_mse: 0.05839 | train_mae: 0.18453 |  0:00:06s\n",
      "epoch 92 | loss: 0.11258 | train_mse: 0.06015 | train_mae: 0.18925 |  0:00:06s\n",
      "epoch 93 | loss: 0.1121  | train_mse: 0.06688 | train_mae: 0.1928  |  0:00:06s\n",
      "epoch 94 | loss: 0.12166 | train_mse: 0.07026 | train_mae: 0.19741 |  0:00:07s\n"
     ]
    },
    {
     "name": "stdout",
     "output_type": "stream",
     "text": [
      "epoch 95 | loss: 0.13812 | train_mse: 0.07667 | train_mae: 0.19496 |  0:00:07s\n",
      "epoch 96 | loss: 0.2314  | train_mse: 0.12393 | train_mae: 0.21552 |  0:00:07s\n",
      "epoch 97 | loss: 0.13003 | train_mse: 0.1204  | train_mae: 0.22071 |  0:00:07s\n",
      "epoch 98 | loss: 0.18062 | train_mse: 0.12759 | train_mae: 0.23392 |  0:00:07s\n"
     ]
    },
    {
     "name": "stdout",
     "output_type": "stream",
     "text": [
      "epoch 99 | loss: 0.10369 | train_mse: 0.13201 | train_mae: 0.24622 |  0:00:07s\n",
      "epoch 100| loss: 0.15761 | train_mse: 0.10187 | train_mae: 0.22212 |  0:00:07s\n",
      "epoch 101| loss: 0.1128  | train_mse: 0.06362 | train_mae: 0.1958  |  0:00:07s\n"
     ]
    },
    {
     "name": "stdout",
     "output_type": "stream",
     "text": [
      "epoch 102| loss: 0.07573 | train_mse: 0.05874 | train_mae: 0.18985 |  0:00:07s\n",
      "epoch 103| loss: 0.2059  | train_mse: 0.07012 | train_mae: 0.21118 |  0:00:07s\n",
      "epoch 104| loss: 0.12539 | train_mse: 0.07894 | train_mae: 0.21752 |  0:00:07s\n",
      "epoch 105| loss: 0.09548 | train_mse: 0.07973 | train_mae: 0.218   |  0:00:07s\n"
     ]
    },
    {
     "name": "stdout",
     "output_type": "stream",
     "text": [
      "epoch 106| loss: 0.12383 | train_mse: 0.06835 | train_mae: 0.20529 |  0:00:07s\n",
      "epoch 107| loss: 0.21593 | train_mse: 0.07044 | train_mae: 0.20577 |  0:00:07s\n",
      "epoch 108| loss: 0.10071 | train_mse: 0.09468 | train_mae: 0.22634 |  0:00:07s\n",
      "epoch 109| loss: 0.11486 | train_mse: 0.12389 | train_mae: 0.26646 |  0:00:08s\n"
     ]
    },
    {
     "name": "stdout",
     "output_type": "stream",
     "text": [
      "epoch 110| loss: 0.12903 | train_mse: 0.14049 | train_mae: 0.2862  |  0:00:08s\n",
      "epoch 111| loss: 0.12058 | train_mse: 0.11217 | train_mae: 0.25056 |  0:00:08s\n",
      "epoch 112| loss: 0.13173 | train_mse: 0.08679 | train_mae: 0.23547 |  0:00:08s\n",
      "epoch 113| loss: 0.1006  | train_mse: 0.08351 | train_mae: 0.22893 |  0:00:08s\n"
     ]
    },
    {
     "name": "stdout",
     "output_type": "stream",
     "text": [
      "epoch 114| loss: 0.1067  | train_mse: 0.08591 | train_mae: 0.22615 |  0:00:08s\n",
      "epoch 115| loss: 0.10446 | train_mse: 0.08227 | train_mae: 0.2221  |  0:00:08s\n",
      "epoch 116| loss: 0.1329  | train_mse: 0.07922 | train_mae: 0.22336 |  0:00:08s\n"
     ]
    },
    {
     "name": "stdout",
     "output_type": "stream",
     "text": [
      "epoch 117| loss: 0.1084  | train_mse: 0.08524 | train_mae: 0.22822 |  0:00:08s\n",
      "epoch 118| loss: 0.07892 | train_mse: 0.07341 | train_mae: 0.20596 |  0:00:08s\n",
      "epoch 119| loss: 0.06941 | train_mse: 0.07262 | train_mae: 0.19883 |  0:00:08s\n",
      "epoch 120| loss: 0.16236 | train_mse: 0.07072 | train_mae: 0.19668 |  0:00:08s\n"
     ]
    },
    {
     "name": "stdout",
     "output_type": "stream",
     "text": [
      "epoch 121| loss: 0.29323 | train_mse: 0.06617 | train_mae: 0.20075 |  0:00:08s\n",
      "epoch 122| loss: 0.11607 | train_mse: 0.06409 | train_mae: 0.18998 |  0:00:08s\n",
      "epoch 123| loss: 0.08746 | train_mse: 0.06366 | train_mae: 0.19057 |  0:00:08s\n",
      "epoch 124| loss: 0.09455 | train_mse: 0.06802 | train_mae: 0.19999 |  0:00:09s\n"
     ]
    },
    {
     "name": "stdout",
     "output_type": "stream",
     "text": [
      "epoch 125| loss: 0.08743 | train_mse: 0.06192 | train_mae: 0.189   |  0:00:09s\n",
      "epoch 126| loss: 0.07964 | train_mse: 0.05886 | train_mae: 0.18675 |  0:00:09s\n",
      "epoch 127| loss: 0.07769 | train_mse: 0.05498 | train_mae: 0.18341 |  0:00:09s\n",
      "epoch 128| loss: 0.17723 | train_mse: 0.05837 | train_mae: 0.18949 |  0:00:09s\n"
     ]
    },
    {
     "name": "stdout",
     "output_type": "stream",
     "text": [
      "epoch 129| loss: 0.13221 | train_mse: 0.07836 | train_mae: 0.2123  |  0:00:09s\n",
      "epoch 130| loss: 0.18188 | train_mse: 0.11277 | train_mae: 0.24745 |  0:00:09s\n",
      "epoch 131| loss: 0.1136  | train_mse: 0.1234  | train_mae: 0.25683 |  0:00:09s\n"
     ]
    },
    {
     "name": "stdout",
     "output_type": "stream",
     "text": [
      "epoch 132| loss: 0.19015 | train_mse: 0.10979 | train_mae: 0.24433 |  0:00:09s\n",
      "epoch 133| loss: 0.0972  | train_mse: 0.07471 | train_mae: 0.20056 |  0:00:09s\n",
      "epoch 134| loss: 0.09761 | train_mse: 0.06672 | train_mae: 0.19858 |  0:00:09s\n"
     ]
    },
    {
     "name": "stdout",
     "output_type": "stream",
     "text": [
      "epoch 135| loss: 0.14981 | train_mse: 0.07021 | train_mae: 0.20609 |  0:00:09s\n",
      "epoch 136| loss: 0.16736 | train_mse: 0.07446 | train_mae: 0.20479 |  0:00:09s\n",
      "epoch 137| loss: 0.11038 | train_mse: 0.07457 | train_mae: 0.20304 |  0:00:10s\n",
      "epoch 138| loss: 0.09953 | train_mse: 0.08433 | train_mae: 0.21533 |  0:00:10s\n"
     ]
    },
    {
     "name": "stdout",
     "output_type": "stream",
     "text": [
      "epoch 139| loss: 0.10425 | train_mse: 0.07131 | train_mae: 0.19825 |  0:00:10s\n",
      "epoch 140| loss: 0.09954 | train_mse: 0.05886 | train_mae: 0.17855 |  0:00:10s\n",
      "epoch 141| loss: 0.14621 | train_mse: 0.05252 | train_mae: 0.16984 |  0:00:10s\n"
     ]
    },
    {
     "name": "stdout",
     "output_type": "stream",
     "text": [
      "epoch 142| loss: 0.11584 | train_mse: 0.05877 | train_mae: 0.18819 |  0:00:10s\n",
      "epoch 143| loss: 0.16209 | train_mse: 0.06122 | train_mae: 0.18916 |  0:00:10s\n",
      "epoch 144| loss: 0.10788 | train_mse: 0.05723 | train_mae: 0.17716 |  0:00:10s\n",
      "epoch 145| loss: 0.09131 | train_mse: 0.06319 | train_mae: 0.18496 |  0:00:10s"
     ]
    },
    {
     "name": "stdout",
     "output_type": "stream",
     "text": [
      "\n",
      "epoch 146| loss: 0.10628 | train_mse: 0.06119 | train_mae: 0.18695 |  0:00:10s\n",
      "epoch 147| loss: 0.2123  | train_mse: 0.06143 | train_mae: 0.18301 |  0:00:10s\n"
     ]
    },
    {
     "name": "stdout",
     "output_type": "stream",
     "text": [
      "epoch 148| loss: 0.07856 | train_mse: 0.06996 | train_mae: 0.19458 |  0:00:10s\n",
      "epoch 149| loss: 0.0737  | train_mse: 0.06966 | train_mae: 0.1946  |  0:00:10s\n",
      "epoch 150| loss: 0.0804  | train_mse: 0.07154 | train_mae: 0.20076 |  0:00:10s\n",
      "epoch 151| loss: 0.09368 | train_mse: 0.07238 | train_mae: 0.20125 |  0:00:11s\n"
     ]
    },
    {
     "name": "stdout",
     "output_type": "stream",
     "text": [
      "epoch 152| loss: 0.14422 | train_mse: 0.06865 | train_mae: 0.19882 |  0:00:11s\n",
      "epoch 153| loss: 0.11401 | train_mse: 0.06674 | train_mae: 0.2001  |  0:00:11s\n",
      "epoch 154| loss: 0.12155 | train_mse: 0.06506 | train_mae: 0.19805 |  0:00:11s\n",
      "epoch 155| loss: 0.07022 | train_mse: 0.06493 | train_mae: 0.19572 |  0:00:11s\n"
     ]
    },
    {
     "name": "stdout",
     "output_type": "stream",
     "text": [
      "epoch 156| loss: 0.15796 | train_mse: 0.07021 | train_mae: 0.19855 |  0:00:11s\n",
      "epoch 157| loss: 0.0847  | train_mse: 0.05983 | train_mae: 0.19457 |  0:00:11s\n",
      "epoch 158| loss: 0.12614 | train_mse: 0.07004 | train_mae: 0.21219 |  0:00:11s\n"
     ]
    },
    {
     "name": "stdout",
     "output_type": "stream",
     "text": [
      "epoch 159| loss: 0.15076 | train_mse: 0.08427 | train_mae: 0.23466 |  0:00:11s\n",
      "epoch 160| loss: 0.06562 | train_mse: 0.07309 | train_mae: 0.21711 |  0:00:11s\n",
      "epoch 161| loss: 0.23948 | train_mse: 0.0722  | train_mae: 0.21395 |  0:00:11s\n"
     ]
    },
    {
     "name": "stdout",
     "output_type": "stream",
     "text": [
      "epoch 162| loss: 0.15013 | train_mse: 0.07705 | train_mae: 0.21896 |  0:00:11s\n",
      "epoch 163| loss: 0.09332 | train_mse: 0.07515 | train_mae: 0.21235 |  0:00:11s\n",
      "epoch 164| loss: 0.1164  | train_mse: 0.08247 | train_mae: 0.22376 |  0:00:11s\n",
      "epoch 165| loss: 0.06935 | train_mse: 0.08465 | train_mae: 0.2273  |  0:00:12s\n"
     ]
    },
    {
     "name": "stdout",
     "output_type": "stream",
     "text": [
      "epoch 166| loss: 0.10803 | train_mse: 0.07938 | train_mae: 0.22468 |  0:00:12s\n",
      "epoch 167| loss: 0.20295 | train_mse: 0.06953 | train_mae: 0.21245 |  0:00:12s\n",
      "epoch 168| loss: 0.11587 | train_mse: 0.0648  | train_mae: 0.20119 |  0:00:12s\n",
      "epoch 169| loss: 0.066   | train_mse: 0.05353 | train_mae: 0.18126 |  0:00:12s\n"
     ]
    },
    {
     "name": "stdout",
     "output_type": "stream",
     "text": [
      "epoch 170| loss: 0.11901 | train_mse: 0.0531  | train_mae: 0.18125 |  0:00:12s\n",
      "epoch 171| loss: 0.16639 | train_mse: 0.05612 | train_mae: 0.18462 |  0:00:12s\n",
      "epoch 172| loss: 0.09013 | train_mse: 0.09299 | train_mae: 0.20976 |  0:00:12s\n",
      "epoch 173| loss: 0.0947  | train_mse: 0.09559 | train_mae: 0.20948 |  0:00:12s\n"
     ]
    },
    {
     "name": "stdout",
     "output_type": "stream",
     "text": [
      "epoch 174| loss: 0.15844 | train_mse: 0.07838 | train_mae: 0.21417 |  0:00:12s\n",
      "epoch 175| loss: 0.0946  | train_mse: 0.07777 | train_mae: 0.22021 |  0:00:12s\n",
      "epoch 176| loss: 0.07952 | train_mse: 0.09066 | train_mae: 0.22084 |  0:00:12s\n"
     ]
    },
    {
     "name": "stdout",
     "output_type": "stream",
     "text": [
      "epoch 177| loss: 0.08579 | train_mse: 0.08434 | train_mae: 0.22058 |  0:00:12s\n",
      "epoch 178| loss: 0.09992 | train_mse: 0.06835 | train_mae: 0.20891 |  0:00:12s\n",
      "epoch 179| loss: 0.12415 | train_mse: 0.06614 | train_mae: 0.20522 |  0:00:12s\n",
      "epoch 180| loss: 0.14855 | train_mse: 0.10368 | train_mae: 0.2354  |  0:00:13s\n"
     ]
    },
    {
     "name": "stdout",
     "output_type": "stream",
     "text": [
      "epoch 181| loss: 0.20865 | train_mse: 0.12319 | train_mae: 0.25613 |  0:00:13s\n",
      "epoch 182| loss: 0.26178 | train_mse: 0.09731 | train_mae: 0.22608 |  0:00:13s\n",
      "epoch 183| loss: 0.12296 | train_mse: 0.07446 | train_mae: 0.20592 |  0:00:13s\n"
     ]
    },
    {
     "name": "stdout",
     "output_type": "stream",
     "text": [
      "epoch 184| loss: 0.09911 | train_mse: 0.07041 | train_mae: 0.19983 |  0:00:13s\n",
      "epoch 185| loss: 0.0705  | train_mse: 0.08069 | train_mae: 0.21594 |  0:00:13s\n",
      "epoch 186| loss: 0.16218 | train_mse: 0.09957 | train_mae: 0.23638 |  0:00:13s\n"
     ]
    },
    {
     "name": "stdout",
     "output_type": "stream",
     "text": [
      "epoch 187| loss: 0.09558 | train_mse: 0.08581 | train_mae: 0.22226 |  0:00:13s\n",
      "epoch 188| loss: 0.11881 | train_mse: 0.08239 | train_mae: 0.21578 |  0:00:13s\n",
      "epoch 189| loss: 0.11095 | train_mse: 0.07594 | train_mae: 0.20715 |  0:00:13s\n"
     ]
    },
    {
     "name": "stdout",
     "output_type": "stream",
     "text": [
      "epoch 190| loss: 0.0882  | train_mse: 0.0829  | train_mae: 0.21384 |  0:00:13s\n",
      "epoch 191| loss: 0.07554 | train_mse: 0.07534 | train_mae: 0.20634 |  0:00:13s\n",
      "\n",
      "Early stopping occurred at epoch 191 with best_epoch = 141 and best_train_mae = 0.16984\n",
      "Best weights from best epoch are automatically used!\n"
     ]
    }
   ],
   "source": [
    "#Train the Model\n",
    "\n",
    "Y_train = np.reshape(Y_train, (-1, 1))\n",
    "Y_test = np.reshape(Y_test, (-1, 1))\n",
    "\n",
    "prior_model = TabNetRegressor(optimizer_fn=torch.optim.Adam, optimizer_params=dict(lr = 0.02),\n",
    "          #scheduler_params={\"step_size\":10, ], \"gamma\":0.9},\n",
    "          #scheduler_fn=torch.optim.lr_scheduler.StepLR\n",
    "          )  #TabNetRegressor()\n",
    "\n",
    "prior_model.fit(X_train,Y_train,eval_set=[(X_train, Y_train)],\n",
    "            eval_name=['train'], \n",
    "            eval_metric=[ 'mse', 'mae'], \n",
    "            max_epochs = n_epochs, \n",
    "            batch_size = batch_size,\n",
    "            patience=50\n",
    "            )"
   ]
  },
  {
   "cell_type": "code",
   "execution_count": 10,
   "id": "af65dcda",
   "metadata": {
    "execution": {
     "iopub.execute_input": "2022-06-22T12:08:05.039655Z",
     "iopub.status.busy": "2022-06-22T12:08:05.038328Z",
     "iopub.status.idle": "2022-06-22T12:08:05.059414Z",
     "shell.execute_reply": "2022-06-22T12:08:05.060134Z"
    },
    "id": "af65dcda",
    "papermill": {
     "duration": 0.074594,
     "end_time": "2022-06-22T12:08:05.060344",
     "exception": false,
     "start_time": "2022-06-22T12:08:04.985750",
     "status": "completed"
    },
    "tags": []
   },
   "outputs": [
    {
     "data": {
      "application/scrapbook.scrap.json+json": {
       "data": 0.22251241861721965,
       "encoder": "json",
       "name": "Prior Model MSE",
       "version": 1
      }
     },
     "metadata": {
      "scrapbook": {
       "data": true,
       "display": false,
       "name": "Prior Model MSE"
      }
     },
     "output_type": "display_data"
    },
    {
     "data": {
      "application/scrapbook.scrap.json+json": {
       "data": 0.2522539040752123,
       "encoder": "json",
       "name": "ABC Pre-generator MSE",
       "version": 1
      }
     },
     "metadata": {
      "scrapbook": {
       "data": true,
       "display": false,
       "name": "ABC Pre-generator MSE"
      }
     },
     "output_type": "display_data"
    },
    {
     "data": {
      "application/scrapbook.scrap.json+json": {
       "data": 0.35381497448049215,
       "encoder": "json",
       "name": "Prior Model MSE",
       "version": 1
      }
     },
     "metadata": {
      "scrapbook": {
       "data": true,
       "display": false,
       "name": "Prior Model MSE"
      }
     },
     "output_type": "display_data"
    },
    {
     "data": {
      "application/scrapbook.scrap.json+json": {
       "data": 0.3785974664301858,
       "encoder": "json",
       "name": "ABC Pre-generator MSE",
       "version": 1
      }
     },
     "metadata": {
      "scrapbook": {
       "data": true,
       "display": false,
       "name": "ABC Pre-generator MSE"
      }
     },
     "output_type": "display_data"
    }
   ],
   "source": [
    "y_pred = prior_model.predict(X_test)\n",
    "y_abc = y_pred + np.random.normal(0,variance, y_pred.shape) + bias \n",
    "mse = mean_squared_error(y_pred,Y_test)\n",
    "sb.glue(\"Prior Model MSE\",mse)\n",
    "mse = mean_squared_error(y_abc,Y_test)\n",
    "sb.glue(\"ABC Pre-generator MSE\",mse)\n",
    "mae = mean_absolute_error(y_pred,Y_test)\n",
    "sb.glue(\"Prior Model MSE\",mae)\n",
    "mae = mean_absolute_error(y_abc,Y_test)\n",
    "sb.glue(\"ABC Pre-generator MSE\",mae)"
   ]
  },
  {
   "cell_type": "markdown",
   "id": "25609da2",
   "metadata": {
    "papermill": {
     "duration": 0.035372,
     "end_time": "2022-06-22T12:08:05.125568",
     "exception": false,
     "start_time": "2022-06-22T12:08:05.090196",
     "status": "completed"
    },
    "tags": []
   },
   "source": [
    "# ABC GAN Model"
   ]
  },
  {
   "cell_type": "code",
   "execution_count": 11,
   "id": "dfc3464d",
   "metadata": {
    "execution": {
     "iopub.execute_input": "2022-06-22T12:08:05.193955Z",
     "iopub.status.busy": "2022-06-22T12:08:05.193252Z",
     "iopub.status.idle": "2022-06-22T12:08:05.196920Z",
     "shell.execute_reply": "2022-06-22T12:08:05.198299Z"
    },
    "papermill": {
     "duration": 0.040662,
     "end_time": "2022-06-22T12:08:05.198883",
     "exception": false,
     "start_time": "2022-06-22T12:08:05.158221",
     "status": "completed"
    },
    "tags": []
   },
   "outputs": [],
   "source": [
    "gen = network.Generator(n_features+1).to(device)\n",
    "disc = network.Discriminator(n_features+1).to(device)\n",
    "\n",
    "criterion = torch.nn.BCELoss()\n",
    "gen_opt = torch.optim.Adam(gen.parameters(), lr=0.001, betas=(0.5, 0.999))\n",
    "disc_opt = torch.optim.Adam(disc.parameters(), lr=0.001, betas=(0.5, 0.999))"
   ]
  },
  {
   "cell_type": "code",
   "execution_count": 12,
   "id": "b75fdd85",
   "metadata": {
    "execution": {
     "iopub.execute_input": "2022-06-22T12:08:05.272278Z",
     "iopub.status.busy": "2022-06-22T12:08:05.271541Z",
     "iopub.status.idle": "2022-06-22T12:08:47.220184Z",
     "shell.execute_reply": "2022-06-22T12:08:47.220906Z"
    },
    "papermill": {
     "duration": 41.991739,
     "end_time": "2022-06-22T12:08:47.221241",
     "exception": false,
     "start_time": "2022-06-22T12:08:05.229502",
     "status": "completed"
    },
    "tags": []
   },
   "outputs": [
    {
     "data": {
      "image/png": "[encoded data removed]",
      "text/plain": [
       "<Figure size 432x288 with 1 Axes>"
      ]
     },
     "metadata": {
      "needs_background": "light"
     },
     "output_type": "display_data"
    },
    {
     "data": {
      "image/png": "[encoded data removed]",
      "text/plain": [
       "<Figure size 432x288 with 1 Axes>"
      ]
     },
     "metadata": {
      "needs_background": "light"
     },
     "output_type": "display_data"
    }
   ],
   "source": [
    "#Training the ABC_GAN \n",
    "ABC_train_test2.training_GAN(disc,gen,disc_opt,gen_opt,train_data,batch_size,n_epochs,criterion,prior_model,variance,bias,device)"
   ]
  },
  {
   "cell_type": "code",
   "execution_count": 13,
   "id": "1fa7c368",
   "metadata": {
    "execution": {
     "iopub.execute_input": "2022-06-22T12:08:47.310874Z",
     "iopub.status.busy": "2022-06-22T12:08:47.301991Z",
     "iopub.status.idle": "2022-06-22T12:08:47.954528Z",
     "shell.execute_reply": "2022-06-22T12:08:47.955089Z"
    },
    "papermill": {
     "duration": 0.701411,
     "end_time": "2022-06-22T12:08:47.955310",
     "exception": false,
     "start_time": "2022-06-22T12:08:47.253899",
     "status": "completed"
    },
    "tags": []
   },
   "outputs": [
    {
     "data": {
      "application/scrapbook.scrap.json+json": {
       "data": 0.2661930446027482,
       "encoder": "json",
       "name": "ABC-GAN Model 1 MSE",
       "version": 1
      }
     },
     "metadata": {
      "scrapbook": {
       "data": true,
       "display": false,
       "name": "ABC-GAN Model 1 MSE"
      }
     },
     "output_type": "display_data"
    },
    {
     "data": {
      "application/scrapbook.scrap.json+json": {
       "data": 0.3957364460527897,
       "encoder": "json",
       "name": "ABC-GAN Model 1 MAE",
       "version": 1
      }
     },
     "metadata": {
      "scrapbook": {
       "data": true,
       "display": false,
       "name": "ABC-GAN Model 1 MAE"
      }
     },
     "output_type": "display_data"
    },
    {
     "data": {
      "application/scrapbook.scrap.json+json": {
       "data": 7.914728921055794,
       "encoder": "json",
       "name": "ABC-GAN Model 1 Manhattan Distance",
       "version": 1
      }
     },
     "metadata": {
      "scrapbook": {
       "data": true,
       "display": false,
       "name": "ABC-GAN Model 1 Manhattan Distance"
      }
     },
     "output_type": "display_data"
    },
    {
     "data": {
      "application/scrapbook.scrap.json+json": {
       "data": 2.3073127844214825,
       "encoder": "json",
       "name": "ABC-GAN Model 1 Euclidean distance",
       "version": 1
      }
     },
     "metadata": {
      "scrapbook": {
       "data": true,
       "display": false,
       "name": "ABC-GAN Model 1 Euclidean distance"
      }
     },
     "output_type": "display_data"
    },
    {
     "data": {
      "application/scrapbook.scrap.json+json": {
       "data": [
        [
         0.2667617713705517,
         0.2637573413694124,
         0.26911621190587376,
         0.2639161516435923,
         0.2619236406691552,
         0.2672918350192512,
         0.2695888227127995,
         0.2689825034798557,
         0.2657225755101911,
         0.26992617750903986,
         0.2608399285965057,
         0.2700926076744493,
         0.2645053468442685,
         0.2669716189912499,
         0.266771980440825,
         0.267279777630828,
         0.2645363330193919,
         0.26487939821725104,
         0.26781873983573823,
         0.2634694014492502,
         0.26316070667403324,
         0.27068788757522,
         0.2657773273442334,
         0.2680289271143367,
         0.26265969216878615,
         0.2684607379552647,
         0.2647058434887995,
         0.2658338350574959,
         0.27089212158780807,
         0.2683146953251155,
         0.26201935900043016,
         0.26394599041958317,
         0.2707061848069222,
         0.2705519886770663,
         0.26356807657036696,
         0.26925506788057,
         0.27121674431184173,
         0.2666224008918479,
         0.2664431936801215,
         0.26190184951685563,
         0.26160959274062767,
         0.2678985356976624,
         0.26873134022640877,
         0.26501335969136164,
         0.26331825001871895,
         0.26310489347762833,
         0.2634062299388221,
         0.26410289097108464,
         0.2627345943700616,
         0.26395678195887107,
         0.2671782230212792,
         0.271684111100134,
         0.2654059983045069,
         0.2695402369022902,
         0.26519831666012916,
         0.26365623656784554,
         0.2631589473666758,
         0.27155008772869393,
         0.2677393677113217,
         0.265971060672723,
         0.26768770298176914,
         0.27007390484208255,
         0.2636396339444177,
         0.266638572381148,
         0.26440966690502965,
         0.2653194780782989,
         0.2638314015893441,
         0.2688052282649284,
         0.2666941407456677,
         0.26464231412497163,
         0.26969681852334965,
         0.26231040090359514,
         0.2661084352721272,
         0.2704156754480304,
         0.26163316152985766,
         0.26601711446857307,
         0.2654928542525823,
         0.2651309380918922,
         0.27137111198949493,
         0.2641197112784765,
         0.2655270765524532,
         0.2713995474091755,
         0.2618552706964052,
         0.265368579901183,
         0.2678422294579801,
         0.26822617747757443,
         0.2632645015106899,
         0.26991846100715955,
         0.2643981745789911,
         0.26965962274357513,
         0.26831391685915235,
         0.26620597279686475,
         0.2599784906897487,
         0.25734709040243936,
         0.26724200423273653,
         0.2700913102594372,
         0.2680529924485397,
         0.26379319772369986,
         0.2642749298239798,
         0.2686427990243688
        ],
        [
         0.39724319949746134,
         0.39680265784263613,
         0.3963227741420269,
         0.39126069471240044,
         0.3929198756814003,
         0.3942749217152596,
         0.3988411359488964,
         0.3986981205642223,
         0.3949283227324486,
         0.396019321680069,
         0.39152111262083056,
         0.40221076607704165,
         0.39380834251642227,
         0.3984707221388817,
         0.39784925505518914,
         0.39809137508273124,
         0.3962920539081097,
         0.3938608944416046,
         0.3991812475025654,
         0.3947483539581299,
         0.39406720399856565,
         0.4002879783511162,
         0.39367240071296694,
         0.3969485230743885,
         0.39020345360040665,
         0.3987633682787418,
         0.3958101846277714,
         0.3914990544319153,
         0.40233049467206,
         0.3992383569478989,
         0.38925865292549133,
         0.39158245623111726,
         0.39665758386254313,
         0.39943712875247,
         0.38985470682382584,
         0.39683797061443327,
         0.3996966928243637,
         0.39448883980512617,
         0.3953161656856537,
         0.3900294333696365,
         0.386638218164444,
         0.3970562808215618,
         0.40150918886065484,
         0.3968250945210457,
         0.3942516341805458,
         0.3923033133149147,
         0.3900995321571827,
         0.3927020028233528,
         0.39379200860857966,
         0.3943872176110744,
         0.39981919527053833,
         0.4024722218513489,
         0.39436074793338777,
         0.40269082188606264,
         0.3969853073358536,
         0.39564929977059365,
         0.39249825328588483,
         0.40013154596090317,
         0.40040801987051966,
         0.396834734082222,
         0.39736173376441003,
         0.39904472455382345,
         0.3934862621128559,
         0.39540315195918085,
         0.39222307950258256,
         0.39624476581811907,
         0.3959330372512341,
         0.3965765416622162,
         0.39539146721363067,
         0.39295425191521643,
         0.3988879807293415,
         0.39403602927923204,
         0.3939918175339699,
         0.4014229863882065,
         0.3941228538751602,
         0.39769545942544937,
         0.39435205310583116,
         0.39665776342153547,
         0.39764807373285294,
         0.39701189920306207,
         0.39059389755129814,
         0.40061018243432045,
         0.3902909867465496,
         0.3929089106619358,
         0.4002135992050171,
         0.3975406914949417,
         0.3912094809114933,
         0.39965164586901664,
         0.39255424290895463,
         0.39649791866540907,
         0.3978021889925003,
         0.3974264957010746,
         0.3890233412384987,
         0.3901428811252117,
         0.3974194385111332,
         0.39650014936923983,
         0.3994787156581879,
         0.3929689310491085,
         0.3956615008413792,
         0.39396303817629813
        ],
        [
         7.944863989949226,
         7.936053156852722,
         7.926455482840538,
         7.825213894248009,
         7.858397513628006,
         7.885498434305191,
         7.976822718977928,
         7.973962411284447,
         7.898566454648972,
         7.920386433601379,
         7.830422252416611,
         8.044215321540833,
         7.876166850328445,
         7.969414442777634,
         7.956985101103783,
         7.961827501654625,
         7.925841078162193,
         7.877217888832092,
         7.983624950051308,
         7.894967079162598,
         7.8813440799713135,
         8.005759567022324,
         7.873448014259338,
         7.93897046148777,
         7.804069072008133,
         7.975267365574837,
         7.9162036925554276,
         7.829981088638306,
         8.0466098934412,
         7.984767138957977,
         7.785173058509827,
         7.831649124622345,
         7.933151677250862,
         7.9887425750494,
         7.797094136476517,
         7.936759412288666,
         7.993933856487274,
         7.889776796102524,
         7.906323313713074,
         7.800588667392731,
         7.732764363288879,
         7.941125616431236,
         8.030183777213097,
         7.936501890420914,
         7.885032683610916,
         7.846066266298294,
         7.801990643143654,
         7.854040056467056,
         7.875840172171593,
         7.887744352221489,
         7.996383905410767,
         8.049444437026978,
         7.887214958667755,
         8.053816437721252,
         7.9397061467170715,
         7.912985995411873,
         7.849965065717697,
         8.002630919218063,
         8.008160397410393,
         7.93669468164444,
         7.9472346752882,
         7.980894491076469,
         7.869725242257118,
         7.908063039183617,
         7.844461590051651,
         7.924895316362381,
         7.918660745024681,
         7.931530833244324,
         7.9078293442726135,
         7.859085038304329,
         7.97775961458683,
         7.8807205855846405,
         7.879836350679398,
         8.02845972776413,
         7.882457077503204,
         7.953909188508987,
         7.887041062116623,
         7.93315526843071,
         7.952961474657059,
         7.940237984061241,
         7.811877951025963,
         8.012203648686409,
         7.805819734930992,
         7.858178213238716,
         8.004271984100342,
         7.950813829898834,
         7.824189618229866,
         7.993032917380333,
         7.851084858179092,
         7.929958373308182,
         7.956043779850006,
         7.948529914021492,
         7.780466824769974,
         7.802857622504234,
         7.948388770222664,
         7.930002987384796,
         7.989574313163757,
         7.85937862098217,
         7.913230016827583,
         7.879260763525963
        ],
        [
         2.309812855495231,
         2.2967687796964347,
         2.319983671950619,
         2.2974601265031445,
         2.2887710268576678,
         2.312106550396202,
         2.3220199082385125,
         2.3194072668673593,
         2.305309417454373,
         2.3234723045865637,
         2.2840312108047285,
         2.3241884935368273,
         2.3000232470315103,
         2.3107211817579802,
         2.309857053762527,
         2.3120544008774013,
         2.300157964225031,
         2.301648966359775,
         2.314384323468072,
         2.2955147633994875,
         2.294169595622927,
         2.326748321478797,
         2.305546908411249,
         2.3152923232902434,
         2.2919846952751937,
         2.3171566108283,
         2.300894797633301,
         2.3057919900003814,
         2.3276259217830004,
         2.316526258539348,
         2.2891891970758125,
         2.2975900000634715,
         2.326826958787104,
         2.326164175964656,
         2.2959445836969454,
         2.3205821161103954,
         2.3290201558245123,
         2.309209392375875,
         2.3084332075246254,
         2.288675815911269,
         2.287398490602928,
         2.314729080033611,
         2.31832413707147,
         2.30223091670389,
         2.2948562047270804,
         2.2939262999391605,
         2.2952395515014206,
         2.298272790471508,
         2.2923114725973064,
         2.2976369685347207,
         2.311615119440428,
         2.3310260020005527,
         2.303935755634288,
         2.321810659387583,
         2.303034158062486,
         2.296328532975391,
         2.2941619270080995,
         2.33045097665106,
         2.314041346697685,
         2.3063870476254547,
         2.3138180696924686,
         2.3241080217669854,
         2.2962562311049597,
         2.309279421729419,
         2.2996072138738377,
         2.3035601927377494,
         2.2970912110290445,
         2.3186428283154283,
         2.3095200399462557,
         2.3006186738569765,
         2.3224849559183354,
         2.2904602197095465,
         2.306982597559536,
         2.3255781020986177,
         2.2875015258130764,
         2.3065867183722926,
         2.3043127142494453,
         2.302741575131227,
         2.32968286249221,
         2.2983459760378833,
         2.3044612235941537,
         2.3298049163360246,
         2.288472288215023,
         2.303773339116429,
         2.3144858152858925,
         2.3161441124315836,
         2.2946219798070877,
         2.323439093271694,
         2.2995572381612557,
         2.3223247953013595,
         2.3165228980485058,
         2.30740535145806,
         2.2802565236821435,
         2.268687243330113,
         2.3118910191993765,
         2.3241829113021084,
         2.3153962617597004,
         2.2969248909082762,
         2.2990212257566474,
         2.3179421866145358
        ]
       ],
       "encoder": "json",
       "name": "ABC_GAN_1 Metrics",
       "version": 1
      }
     },
     "metadata": {
      "scrapbook": {
       "data": true,
       "display": false,
       "name": "ABC_GAN_1 Metrics"
      }
     },
     "output_type": "display_data"
    },
    {
     "name": "stdout",
     "output_type": "stream",
     "text": [
      "MSE\n",
      "0.2661930446027482\n"
     ]
    }
   ],
   "source": [
    "ABC_GAN1_metrics=ABC_train_test2.test_generator(gen,test_data,prior_model,variance,bias,\"1\",device)\n",
    "sb.glue(\"ABC_GAN_1 Metrics\",ABC_GAN1_metrics)\n",
    "\n",
    "print(\"MSE\")\n",
    "print(mean(ABC_GAN1_metrics[0]))"
   ]
  },
  {
   "cell_type": "code",
   "execution_count": 14,
   "id": "eb22ce5c",
   "metadata": {
    "execution": {
     "iopub.execute_input": "2022-06-22T12:08:48.055134Z",
     "iopub.status.busy": "2022-06-22T12:08:48.054416Z",
     "iopub.status.idle": "2022-06-22T12:08:48.779147Z",
     "shell.execute_reply": "2022-06-22T12:08:48.779601Z"
    },
    "papermill": {
     "duration": 0.790201,
     "end_time": "2022-06-22T12:08:48.779877",
     "exception": false,
     "start_time": "2022-06-22T12:08:47.989676",
     "status": "completed"
    },
    "tags": []
   },
   "outputs": [
    {
     "data": {
      "image/png": "[encoded data removed]",
      "text/plain": [
       "<Figure size 432x288 with 1 Axes>"
      ]
     },
     "metadata": {
      "needs_background": "light"
     },
     "output_type": "display_data"
    },
    {
     "data": {
      "image/png": "[encoded data removed]",
      "text/plain": [
       "<Figure size 432x288 with 1 Axes>"
      ]
     },
     "metadata": {
      "needs_background": "light"
     },
     "output_type": "display_data"
    },
    {
     "data": {
      "image/png": "[encoded data removed]",
      "text/plain": [
       "<Figure size 432x288 with 1 Axes>"
      ]
     },
     "metadata": {
      "needs_background": "light"
     },
     "output_type": "display_data"
    },
    {
     "data": {
      "image/png": "[encoded data removed]",
      "text/plain": [
       "<Figure size 432x288 with 1 Axes>"
      ]
     },
     "metadata": {
      "needs_background": "light"
     },
     "output_type": "display_data"
    }
   ],
   "source": [
    "sanityChecks.discProbVsError(train_data,disc,device)\n",
    "sanityChecks.discProbVsError(test_data,disc,device)"
   ]
  },
  {
   "cell_type": "markdown",
   "id": "130f3a4d",
   "metadata": {
    "id": "130f3a4d",
    "papermill": {
     "duration": 0.041242,
     "end_time": "2022-06-22T12:08:48.860758",
     "exception": false,
     "start_time": "2022-06-22T12:08:48.819516",
     "status": "completed"
    },
    "tags": []
   },
   "source": [
    "# ABC - GAN Model with skip connection"
   ]
  },
  {
   "cell_type": "code",
   "execution_count": 15,
   "id": "4e43dad1",
   "metadata": {
    "execution": {
     "iopub.execute_input": "2022-06-22T12:08:48.951667Z",
     "iopub.status.busy": "2022-06-22T12:08:48.950960Z",
     "iopub.status.idle": "2022-06-22T12:08:48.955958Z",
     "shell.execute_reply": "2022-06-22T12:08:48.956620Z"
    },
    "id": "4e43dad1",
    "papermill": {
     "duration": 0.058165,
     "end_time": "2022-06-22T12:08:48.956843",
     "exception": false,
     "start_time": "2022-06-22T12:08:48.898678",
     "status": "completed"
    },
    "tags": []
   },
   "outputs": [],
   "source": [
    "#Generator\n",
    "gen3 = network.GeneratorWithSkipConnection(n_features+1).to(device)\n",
    "constraints=network.weightConstraint()\n",
    "#Discriminator \n",
    "disc3 = network.Discriminator(n_features+1).to(device)\n",
    "\n",
    "criterion = torch.nn.BCELoss()\n",
    "gen_opt = torch.optim.Adam(gen3.parameters(), lr=0.001, betas=(0.5, 0.999))\n",
    "disc_opt = torch.optim.Adam(disc3.parameters(), lr=0.001, betas=(0.5, 0.999))\n"
   ]
  },
  {
   "cell_type": "code",
   "execution_count": 16,
   "id": "26acbc37",
   "metadata": {
    "execution": {
     "iopub.execute_input": "2022-06-22T12:08:49.044565Z",
     "iopub.status.busy": "2022-06-22T12:08:49.043735Z",
     "iopub.status.idle": "2022-06-22T12:09:55.884175Z",
     "shell.execute_reply": "2022-06-22T12:09:55.884656Z"
    },
    "id": "26acbc37",
    "papermill": {
     "duration": 66.889374,
     "end_time": "2022-06-22T12:09:55.884872",
     "exception": false,
     "start_time": "2022-06-22T12:08:48.995498",
     "status": "completed"
    },
    "tags": []
   },
   "outputs": [
    {
     "data": {
      "image/png": "[encoded data removed]",
      "text/plain": [
       "<Figure size 432x288 with 1 Axes>"
      ]
     },
     "metadata": {
      "needs_background": "light"
     },
     "output_type": "display_data"
    },
    {
     "data": {
      "image/png": "[encoded data removed]",
      "text/plain": [
       "<Figure size 432x288 with 1 Axes>"
      ]
     },
     "metadata": {
      "needs_background": "light"
     },
     "output_type": "display_data"
    }
   ],
   "source": [
    "ABC_train_test2.training_GAN_skip_connection(disc3,gen3,disc_opt,gen_opt,train_data,batch_size,n_epochs,criterion,prior_model,variance,bias,device)"
   ]
  },
  {
   "cell_type": "code",
   "execution_count": 17,
   "id": "c5e0717b",
   "metadata": {
    "execution": {
     "iopub.execute_input": "2022-06-22T12:09:55.983934Z",
     "iopub.status.busy": "2022-06-22T12:09:55.982935Z",
     "iopub.status.idle": "2022-06-22T12:09:56.759004Z",
     "shell.execute_reply": "2022-06-22T12:09:56.759530Z"
    },
    "id": "c5e0717b",
    "papermill": {
     "duration": 0.831157,
     "end_time": "2022-06-22T12:09:56.759769",
     "exception": false,
     "start_time": "2022-06-22T12:09:55.928612",
     "status": "completed"
    },
    "tags": []
   },
   "outputs": [
    {
     "data": {
      "application/scrapbook.scrap.json+json": {
       "data": 0.44521212686390665,
       "encoder": "json",
       "name": "ABC-GAN Model 3 MSE",
       "version": 1
      }
     },
     "metadata": {
      "scrapbook": {
       "data": true,
       "display": false,
       "name": "ABC-GAN Model 3 MSE"
      }
     },
     "output_type": "display_data"
    },
    {
     "data": {
      "application/scrapbook.scrap.json+json": {
       "data": 0.4502779391780496,
       "encoder": "json",
       "name": "ABC-GAN Model 3 MAE",
       "version": 1
      }
     },
     "metadata": {
      "scrapbook": {
       "data": true,
       "display": false,
       "name": "ABC-GAN Model 3 MAE"
      }
     },
     "output_type": "display_data"
    },
    {
     "data": {
      "application/scrapbook.scrap.json+json": {
       "data": 9.005558783560991,
       "encoder": "json",
       "name": "ABC-GAN Model 3 Manhattan Distance",
       "version": 1
      }
     },
     "metadata": {
      "scrapbook": {
       "data": true,
       "display": false,
       "name": "ABC-GAN Model 3 Manhattan Distance"
      }
     },
     "output_type": "display_data"
    },
    {
     "data": {
      "application/scrapbook.scrap.json+json": {
       "data": 2.9839887488881267,
       "encoder": "json",
       "name": "ABC-GAN Model 3 Euclidean distance",
       "version": 1
      }
     },
     "metadata": {
      "scrapbook": {
       "data": true,
       "display": false,
       "name": "ABC-GAN Model 3 Euclidean distance"
      }
     },
     "output_type": "display_data"
    },
    {
     "data": {
      "application/scrapbook.scrap.json+json": {
       "data": [
        [
         0.4435623157424306,
         0.4459058445411159,
         0.4441273289197243,
         0.44728217473497545,
         0.4453719480483726,
         0.44308955644997783,
         0.44140984030825514,
         0.4462172554377461,
         0.44125631488598194,
         0.4466056166682001,
         0.4438053416099229,
         0.44390709877601786,
         0.4472309979143782,
         0.445462435582737,
         0.44061636042518354,
         0.44704129892529193,
         0.44293611431726115,
         0.44211842713418814,
         0.4445369519179284,
         0.4470877079497561,
         0.4471550066389124,
         0.4483674150738161,
         0.4436741896746412,
         0.44390407035453966,
         0.4433784173173839,
         0.4456399947814768,
         0.44695685027010673,
         0.44419599236337975,
         0.4455833779522235,
         0.4488997489510741,
         0.44325930595318364,
         0.4403199392510029,
         0.447536028208381,
         0.4447556184496836,
         0.44311602171253284,
         0.44592168746053984,
         0.4483223555261219,
         0.4427738915179666,
         0.4436034361677919,
         0.4446510561586744,
         0.4458245860740341,
         0.4411789142119179,
         0.44528704540425074,
         0.4443744298208475,
         0.44429371995946915,
         0.4451591269677938,
         0.4459626370143098,
         0.44451594880280465,
         0.4421912245896003,
         0.44691309961751086,
         0.44923604248632387,
         0.4449072909874504,
         0.4463970775711335,
         0.4441555024873363,
         0.4465855707123002,
         0.44372203548079836,
         0.44471566440964183,
         0.4442888875329869,
         0.4483028044017776,
         0.44691090752149865,
         0.44409320966035404,
         0.4388355774416044,
         0.446184661087933,
         0.44563680086699603,
         0.44432011163904683,
         0.4474740702900428,
         0.4460341104581655,
         0.44768999587758945,
         0.447073479258324,
         0.44422304467060447,
         0.44436114519770464,
         0.44609127721814945,
         0.4474101986538316,
         0.4469133779958751,
         0.4450017800129906,
         0.4491267082257687,
         0.4435448448066195,
         0.44615023839922746,
         0.44115014622543286,
         0.4446130967734108,
         0.44883077049443293,
         0.44471721230120914,
         0.443245477390407,
         0.444616717065003,
         0.44287687232075434,
         0.44863499135137774,
         0.44790248578572484,
         0.44451556320876867,
         0.4486300033185806,
         0.4460110626157478,
         0.44781008417919177,
         0.44992844203658666,
         0.4487124602841018,
         0.4453254991549846,
         0.4442295920765155,
         0.44564986212436286,
         0.44262939376772065,
         0.44701267928640187,
         0.4434792322640863,
         0.44401856047836913
        ],
        [
         0.44790094867348673,
         0.4507686637341976,
         0.4482351988554001,
         0.4516217030584812,
         0.44993421956896784,
         0.44728725105524064,
         0.44695309847593306,
         0.4528005912899971,
         0.446176590770483,
         0.45364070758223535,
         0.4508182190358639,
         0.45020731911063194,
         0.45038722082972527,
         0.4498761922121048,
         0.4451227799057961,
         0.4527060277760029,
         0.4492804348468781,
         0.44677007868885993,
         0.44713579788804053,
         0.45236640647053716,
         0.4500497989356518,
         0.45287846922874453,
         0.4490236841142178,
         0.4500254549086094,
         0.4505131900310516,
         0.4522173531353474,
         0.4502181105315685,
         0.44648651108145715,
         0.45333829447627066,
         0.4565183773636818,
         0.4520769461989403,
         0.4464710906147957,
         0.4524440228939056,
         0.4492578744888306,
         0.44859427139163016,
         0.4499571442604065,
         0.4531167171895504,
         0.450552549213171,
         0.44779972434043885,
         0.4495273225009441,
         0.4499706424772739,
         0.4443184159696102,
         0.44859792813658717,
         0.45132237672805786,
         0.4505253076553345,
         0.4482763782143593,
         0.4502079449594021,
         0.45050065591931343,
         0.4494108632206917,
         0.45269993618130683,
         0.4530380293726921,
         0.44919403940439223,
         0.4528566740453243,
         0.44605423137545586,
         0.451924829185009,
         0.4507310278713703,
         0.45161992609500884,
         0.44896388202905657,
         0.4555174641311169,
         0.45006596446037295,
         0.44761221408843993,
         0.4455162242054939,
         0.4503872200846672,
         0.45011003166437147,
         0.45064177438616754,
         0.4523876681923866,
         0.45220754370093347,
         0.45235576182603837,
         0.45034883320331576,
         0.4497393347322941,
         0.44942201152443884,
         0.4498875565826893,
         0.45102682113647463,
         0.45124686509370804,
         0.4497359968721867,
         0.45423833951354026,
         0.44949139282107353,
         0.4491738334298134,
         0.44477093070745466,
         0.45031504780054094,
         0.4512340039014816,
         0.4504806473851204,
         0.44963347613811494,
         0.4515882879495621,
         0.4471040278673172,
         0.44970525801181793,
         0.4503986373543739,
         0.44974959194660186,
         0.4532172314822674,
         0.4533837728202343,
         0.45270943865180013,
         0.45588028728961943,
         0.45514856055378916,
         0.4513208381831646,
         0.44947097077965736,
         0.4503470227122307,
         0.44615535736083983,
         0.4513906568288803,
         0.45222777798771857,
         0.44917979687452314
        ],
        [
         8.958018973469734,
         9.015373274683952,
         8.964703977108002,
         9.032434061169624,
         8.998684391379356,
         8.945745021104813,
         8.939061969518661,
         9.056011825799942,
         8.92353181540966,
         9.072814151644707,
         9.016364380717278,
         9.004146382212639,
         9.007744416594505,
         8.997523844242096,
         8.902455598115921,
         9.054120555520058,
         8.985608696937561,
         8.935401573777199,
         8.94271595776081,
         9.047328129410744,
         9.000995978713036,
         9.05756938457489,
         8.980473682284355,
         9.000509098172188,
         9.010263800621033,
         9.044347062706947,
         9.00436221063137,
         8.929730221629143,
         9.066765889525414,
         9.130367547273636,
         9.041538923978806,
         8.929421812295914,
         9.048880457878113,
         8.985157489776611,
         8.971885427832603,
         8.99914288520813,
         9.062334343791008,
         9.01105098426342,
         8.955994486808777,
         8.990546450018883,
         8.999412849545479,
         8.886368319392204,
         8.971958562731743,
         9.026447534561157,
         9.01050615310669,
         8.965527564287186,
         9.004158899188042,
         9.010013118386269,
         8.988217264413834,
         9.053998723626137,
         9.060760587453842,
         8.983880788087845,
         9.057133480906487,
         8.921084627509117,
         9.03849658370018,
         9.014620557427406,
         9.032398521900177,
         8.979277640581131,
         9.110349282622337,
         9.001319289207458,
         8.952244281768799,
         8.910324484109879,
         9.007744401693344,
         9.00220063328743,
         9.01283548772335,
         9.047753363847733,
         9.04415087401867,
         9.047115236520767,
         9.006976664066315,
         8.994786694645882,
         8.988440230488777,
         8.997751131653786,
         9.020536422729492,
         9.02493730187416,
         8.994719937443733,
         9.084766790270805,
         8.98982785642147,
         8.983476668596268,
         8.895418614149094,
         9.006300956010818,
         9.024680078029633,
         9.009612947702408,
         8.992669522762299,
         9.031765758991241,
         8.942080557346344,
         8.994105160236359,
         9.007972747087479,
         8.994991838932037,
         9.064344629645348,
         9.067675456404686,
         9.054188773036003,
         9.117605745792389,
         9.102971211075783,
         9.026416763663292,
         8.989419415593147,
         9.006940454244614,
         8.923107147216797,
         9.027813136577606,
         9.044555559754372,
         8.983595937490463
        ],
        [
         2.978463750803191,
         2.986321632179347,
         2.980360142397976,
         2.9909268621448284,
         2.9845332903098014,
         2.9768760688009093,
         2.9712281646088883,
         2.9873642410584824,
         2.9707114127292202,
         2.9886639713028966,
         2.979279582751249,
         2.9796211127457726,
         2.990755750356014,
         2.984836463134076,
         2.9685564182787005,
         2.990121398623447,
         2.9763605773402557,
         2.9736120363429666,
         2.98173423335457,
         2.9902766024224454,
         2.9905016523617314,
         2.9945531054693824,
         2.978839336636473,
         2.9796109489479985,
         2.9778462596896564,
         2.9854312746451783,
         2.9898389597772876,
         2.980590519891586,
         2.9852416249014873,
         2.996330251995177,
         2.977446241171059,
         2.967557713848217,
         2.991775486925384,
         2.9824674967204037,
         2.9769649702760455,
         2.9863746833260554,
         2.9944026299952444,
         2.9758154899723426,
         2.9786018067804627,
         2.9821168862359317,
         2.9860495175868538,
         2.970450855381782,
         2.9842488013041097,
         2.981189124563712,
         2.980918381839627,
         2.9838201251677146,
         2.98651180146441,
         2.9816637932630994,
         2.973856837810456,
         2.9896926250620175,
         2.9974523932377104,
         2.9829760005318526,
         2.987966122870651,
         2.9804546716477214,
         2.988596897248942,
         2.9789999512614913,
         2.982333530675742,
         2.9809021705952943,
         2.994337337047306,
         2.9896852928744813,
         2.9802456598755547,
         2.9625515267809415,
         2.9872551316817013,
         2.985420576290704,
         2.98100691592303,
         2.9915683856132818,
         2.986751112691399,
         2.992290079111948,
         2.990229018848971,
         2.9806812800787825,
         2.981144562739971,
         2.9869425077096796,
         2.99135487247445,
         2.9896935561889117,
         2.9832927446463935,
         2.9970876137536213,
         2.978405092685075,
         2.9871398976252435,
         2.9703540065973035,
         2.981989593454044,
         2.996100033358142,
         2.9823387208739693,
         2.9773997964344896,
         2.9820017339532283,
         2.9761615289521983,
         2.9954465154676946,
         2.9930001195647313,
         2.9816625000451293,
         2.995429863370467,
         2.986673944761121,
         2.992691377937898,
         2.9997614639720496,
         2.99570512662412,
         2.984377654235417,
         2.9807032461367755,
         2.98546432611198,
         2.9753298767286984,
         2.9900256831218086,
         2.978184790318043,
         2.9799951693865854
        ]
       ],
       "encoder": "json",
       "name": "ABC_GAN_3 Metrics",
       "version": 1
      }
     },
     "metadata": {
      "scrapbook": {
       "data": true,
       "display": false,
       "name": "ABC_GAN_3 Metrics"
      }
     },
     "output_type": "display_data"
    },
    {
     "name": "stdout",
     "output_type": "stream",
     "text": [
      "MSE\n",
      "0.44521212686390665\n"
     ]
    }
   ],
   "source": [
    "ABC_GAN3_metrics=ABC_train_test2.test_generator(gen3,test_data,prior_model,variance,bias,\"3\",device)\n",
    "sb.glue(\"ABC_GAN_3 Metrics\",ABC_GAN3_metrics)\n",
    "\n",
    "print(\"MSE\")\n",
    "print(mean(ABC_GAN3_metrics[0]))"
   ]
  },
  {
   "cell_type": "code",
   "execution_count": 18,
   "id": "c8e46b48",
   "metadata": {
    "execution": {
     "iopub.execute_input": "2022-06-22T12:09:56.855387Z",
     "iopub.status.busy": "2022-06-22T12:09:56.854690Z",
     "iopub.status.idle": "2022-06-22T12:09:57.578873Z",
     "shell.execute_reply": "2022-06-22T12:09:57.580534Z"
    },
    "id": "c8e46b48",
    "papermill": {
     "duration": 0.779831,
     "end_time": "2022-06-22T12:09:57.580821",
     "exception": false,
     "start_time": "2022-06-22T12:09:56.800990",
     "status": "completed"
    },
    "tags": []
   },
   "outputs": [
    {
     "data": {
      "image/png": "[encoded data removed]",
      "text/plain": [
       "<Figure size 432x288 with 1 Axes>"
      ]
     },
     "metadata": {
      "needs_background": "light"
     },
     "output_type": "display_data"
    },
    {
     "data": {
      "image/png": "[encoded data removed]",
      "text/plain": [
       "<Figure size 432x288 with 1 Axes>"
      ]
     },
     "metadata": {
      "needs_background": "light"
     },
     "output_type": "display_data"
    },
    {
     "data": {
      "image/png": "[encoded data removed]",
      "text/plain": [
       "<Figure size 432x288 with 1 Axes>"
      ]
     },
     "metadata": {
      "needs_background": "light"
     },
     "output_type": "display_data"
    },
    {
     "data": {
      "image/png": "[encoded data removed]",
      "text/plain": [
       "<Figure size 432x288 with 1 Axes>"
      ]
     },
     "metadata": {
      "needs_background": "light"
     },
     "output_type": "display_data"
    }
   ],
   "source": [
    "sanityChecks.discProbVsError(train_data,disc3,device)\n",
    "sanityChecks.discProbVsError(test_data,disc3,device)"
   ]
  },
  {
   "cell_type": "markdown",
   "id": "a5bd74c3",
   "metadata": {
    "id": "a5bd74c3",
    "papermill": {
     "duration": 0.057723,
     "end_time": "2022-06-22T12:09:57.690170",
     "exception": false,
     "start_time": "2022-06-22T12:09:57.632447",
     "status": "completed"
    },
    "tags": []
   },
   "source": [
    "## Skip Connection Model Analysis - ABC-GAN "
   ]
  },
  {
   "cell_type": "markdown",
   "id": "5744a8bf",
   "metadata": {
    "id": "5744a8bf",
    "papermill": {
     "duration": 0.052938,
     "end_time": "2022-06-22T12:09:57.791026",
     "exception": false,
     "start_time": "2022-06-22T12:09:57.738088",
     "status": "completed"
    },
    "tags": []
   },
   "source": [
    "### Weight Analysis \n",
    "\n",
    "Study the weights of the skip connection layer\n",
    "\n",
    "Equation of the skip connection is \n",
    "\n",
    "$output = y_{gan} * w + y_{abc} * (1-w)$"
   ]
  },
  {
   "cell_type": "code",
   "execution_count": 19,
   "id": "52c31dea",
   "metadata": {
    "execution": {
     "iopub.execute_input": "2022-06-22T12:09:57.902844Z",
     "iopub.status.busy": "2022-06-22T12:09:57.902096Z",
     "iopub.status.idle": "2022-06-22T12:09:57.909749Z",
     "shell.execute_reply": "2022-06-22T12:09:57.910317Z"
    },
    "id": "52c31dea",
    "papermill": {
     "duration": 0.070949,
     "end_time": "2022-06-22T12:09:57.910651",
     "exception": false,
     "start_time": "2022-06-22T12:09:57.839702",
     "status": "completed"
    },
    "tags": []
   },
   "outputs": [
    {
     "name": "stdout",
     "output_type": "stream",
     "text": [
      "Weight of the node at skip connection\n",
      "Parameter containing:\n",
      "tensor([[0.1147]], requires_grad=True)\n"
     ]
    },
    {
     "data": {
      "application/scrapbook.scrap.json+json": {
       "data": 0.11472269892692566,
       "encoder": "json",
       "name": "Skip Connection Weight",
       "version": 1
      }
     },
     "metadata": {
      "scrapbook": {
       "data": true,
       "display": false,
       "name": "Skip Connection Weight"
      }
     },
     "output_type": "display_data"
    }
   ],
   "source": [
    "print(\"Weight of the node at skip connection\")\n",
    "for name,param in gen3.named_parameters():\n",
    "    if(name == \"skipNode.weight\"):\n",
    "        print(param)\n",
    "        sb.glue(\"Skip Connection Weight\",param.item())"
   ]
  }
 ],
 "metadata": {
  "colab": {
   "collapsed_sections": [],
   "name": "ABC_GAN_Model-Catboost_Pre-gen.ipynb",
   "provenance": []
  },
  "interpreter": {
   "hash": "31f2aee4e71d21fbe5cf8b01ff0e069b9275f58929596ceb00d14d90e3e16cd6"
  },
  "kernelspec": {
   "display_name": "Python 3 (ipykernel)",
   "language": "python",
   "name": "python3"
  },
  "language_info": {
   "codemirror_mode": {
    "name": "ipython",
    "version": 3
   },
   "file_extension": ".py",
   "mimetype": "text/x-python",
   "name": "python",
   "nbconvert_exporter": "python",
   "pygments_lexer": "ipython3",
   "version": "3.8.3"
  },
  "papermill": {
   "default_parameters": {},
   "duration": 137.221684,
   "end_time": "2022-06-22T12:09:58.829817",
   "environment_variables": {},
   "exception": null,
   "input_path": "ABC_GAN-TabNet.ipynb",
   "output_path": "./ABC_GAN_TabNet/ABC-GAN_output_2_5.ipynb",
   "parameters": {
    "bias": 0.1,
    "variance": 0.01
   },
   "start_time": "2022-06-22T12:07:41.608133",
   "version": "2.3.3"
  }
 },
 "nbformat": 4,
 "nbformat_minor": 5
}