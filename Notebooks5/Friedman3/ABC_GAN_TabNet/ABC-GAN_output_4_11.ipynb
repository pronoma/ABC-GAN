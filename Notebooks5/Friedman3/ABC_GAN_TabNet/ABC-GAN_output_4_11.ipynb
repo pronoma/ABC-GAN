{
 "cells": [
  {
   "cell_type": "markdown",
   "id": "622780e6",
   "metadata": {
    "id": "622780e6",
    "papermill": {
     "duration": 0.030871,
     "end_time": "2022-06-22T13:28:04.636235",
     "exception": false,
     "start_time": "2022-06-22T13:28:04.605364",
     "status": "completed"
    },
    "tags": []
   },
   "source": [
    "## Import Libraries "
   ]
  },
  {
   "cell_type": "code",
   "execution_count": 1,
   "id": "a62397e3",
   "metadata": {
    "execution": {
     "iopub.execute_input": "2022-06-22T13:28:04.689787Z",
     "iopub.status.busy": "2022-06-22T13:28:04.688738Z",
     "iopub.status.idle": "2022-06-22T13:28:04.691360Z",
     "shell.execute_reply": "2022-06-22T13:28:04.691943Z"
    },
    "id": "a62397e3",
    "papermill": {
     "duration": 0.035225,
     "end_time": "2022-06-22T13:28:04.692558",
     "exception": false,
     "start_time": "2022-06-22T13:28:04.657333",
     "status": "completed"
    },
    "tags": []
   },
   "outputs": [],
   "source": [
    "import warnings\n",
    "import sys\n",
    "sys.path.insert(0, '../../src')\n",
    "warnings.filterwarnings('ignore')"
   ]
  },
  {
   "cell_type": "code",
   "execution_count": 2,
   "id": "d6a4e155",
   "metadata": {
    "execution": {
     "iopub.execute_input": "2022-06-22T13:28:04.739710Z",
     "iopub.status.busy": "2022-06-22T13:28:04.738311Z",
     "iopub.status.idle": "2022-06-22T13:28:11.179637Z",
     "shell.execute_reply": "2022-06-22T13:28:11.180485Z"
    },
    "id": "d6a4e155",
    "papermill": {
     "duration": 6.469404,
     "end_time": "2022-06-22T13:28:11.180936",
     "exception": false,
     "start_time": "2022-06-22T13:28:04.711532",
     "status": "completed"
    },
    "tags": []
   },
   "outputs": [],
   "source": [
    "import ABC_train_test2\n",
    "import friedman3Dataset\n",
    "import network\n",
    "import dataset\n",
    "import sanityChecks\n",
    "import torch \n",
    "import scrapbook as sb\n",
    "from statistics import mean \n",
    "import catboost as ctb \n",
    "from sklearn.model_selection import train_test_split\n",
    "from sklearn.metrics import mean_squared_error,mean_absolute_error\n",
    "import numpy as np\n",
    "from pytorch_tabnet.tab_model import TabNetRegressor"
   ]
  },
  {
   "cell_type": "markdown",
   "id": "2fa5b0f7",
   "metadata": {
    "id": "2fa5b0f7",
    "papermill": {
     "duration": 0.019746,
     "end_time": "2022-06-22T13:28:11.217356",
     "exception": false,
     "start_time": "2022-06-22T13:28:11.197610",
     "status": "completed"
    },
    "tags": []
   },
   "source": [
    "## Parameters "
   ]
  },
  {
   "cell_type": "code",
   "execution_count": 3,
   "id": "783186fb",
   "metadata": {
    "execution": {
     "iopub.execute_input": "2022-06-22T13:28:11.262221Z",
     "iopub.status.busy": "2022-06-22T13:28:11.261197Z",
     "iopub.status.idle": "2022-06-22T13:28:11.263494Z",
     "shell.execute_reply": "2022-06-22T13:28:11.264423Z"
    },
    "id": "783186fb",
    "papermill": {
     "duration": 0.027878,
     "end_time": "2022-06-22T13:28:11.264678",
     "exception": false,
     "start_time": "2022-06-22T13:28:11.236800",
     "status": "completed"
    },
    "tags": [
     "parameters"
    ]
   },
   "outputs": [],
   "source": [
    "variance = 1\n",
    "bias = 1 "
   ]
  },
  {
   "cell_type": "code",
   "execution_count": 4,
   "id": "4c0819c4",
   "metadata": {
    "execution": {
     "iopub.execute_input": "2022-06-22T13:28:11.307225Z",
     "iopub.status.busy": "2022-06-22T13:28:11.305232Z",
     "iopub.status.idle": "2022-06-22T13:28:11.313546Z",
     "shell.execute_reply": "2022-06-22T13:28:11.316764Z"
    },
    "papermill": {
     "duration": 0.035905,
     "end_time": "2022-06-22T13:28:11.317018",
     "exception": false,
     "start_time": "2022-06-22T13:28:11.281113",
     "status": "completed"
    },
    "tags": [
     "injected-parameters"
    ]
   },
   "outputs": [],
   "source": [
    "# Parameters\n",
    "variance = 0.01\n",
    "bias = 0\n"
   ]
  },
  {
   "cell_type": "markdown",
   "id": "391cdbfd",
   "metadata": {
    "id": "391cdbfd",
    "papermill": {
     "duration": 0.029215,
     "end_time": "2022-06-22T13:28:11.367875",
     "exception": false,
     "start_time": "2022-06-22T13:28:11.338660",
     "status": "completed"
    },
    "tags": []
   },
   "source": [
    "## Dataset \n"
   ]
  },
  {
   "cell_type": "code",
   "execution_count": 5,
   "id": "5b51f161",
   "metadata": {
    "execution": {
     "iopub.execute_input": "2022-06-22T13:28:11.424385Z",
     "iopub.status.busy": "2022-06-22T13:28:11.423443Z",
     "iopub.status.idle": "2022-06-22T13:28:11.425697Z",
     "shell.execute_reply": "2022-06-22T13:28:11.426209Z"
    },
    "id": "5b51f161",
    "papermill": {
     "duration": 0.039687,
     "end_time": "2022-06-22T13:28:11.426477",
     "exception": false,
     "start_time": "2022-06-22T13:28:11.386790",
     "status": "completed"
    },
    "tags": []
   },
   "outputs": [],
   "source": [
    "#Parameters \n",
    "n_features = 4\n",
    "n_samples= 100\n",
    "n_target = 1"
   ]
  },
  {
   "cell_type": "code",
   "execution_count": 6,
   "id": "5d6eced4",
   "metadata": {
    "execution": {
     "iopub.execute_input": "2022-06-22T13:28:11.475079Z",
     "iopub.status.busy": "2022-06-22T13:28:11.474206Z",
     "iopub.status.idle": "2022-06-22T13:28:11.488751Z",
     "shell.execute_reply": "2022-06-22T13:28:11.489267Z"
    },
    "id": "5d6eced4",
    "papermill": {
     "duration": 0.045179,
     "end_time": "2022-06-22T13:28:11.489528",
     "exception": false,
     "start_time": "2022-06-22T13:28:11.444349",
     "status": "completed"
    },
    "tags": []
   },
   "outputs": [
    {
     "name": "stdout",
     "output_type": "stream",
     "text": [
      "          X1           X2        X3         X4         Y\n",
      "0  99.242995   933.680628  0.760340   2.251865  1.537031\n",
      "1  33.754080  1464.281636  0.583737   2.043490  1.467868\n",
      "2  15.050112   315.617007  0.547323   3.491694  1.344381\n",
      "3  71.269988  1725.190796  0.371434  10.133305  1.554552\n",
      "4  59.973815   518.308111  0.287302   8.440284  1.347514\n"
     ]
    }
   ],
   "source": [
    "X,Y = friedman3Dataset.friedman3_data(n_samples)"
   ]
  },
  {
   "cell_type": "code",
   "execution_count": 7,
   "id": "fe007438",
   "metadata": {
    "execution": {
     "iopub.execute_input": "2022-06-22T13:28:11.529497Z",
     "iopub.status.busy": "2022-06-22T13:28:11.528763Z",
     "iopub.status.idle": "2022-06-22T13:28:11.534401Z",
     "shell.execute_reply": "2022-06-22T13:28:11.535398Z"
    },
    "id": "fe007438",
    "papermill": {
     "duration": 0.02846,
     "end_time": "2022-06-22T13:28:11.535645",
     "exception": false,
     "start_time": "2022-06-22T13:28:11.507185",
     "status": "completed"
    },
    "tags": []
   },
   "outputs": [],
   "source": [
    "#Train test split for dataset \n",
    "X_train,X_test,Y_train,Y_test = train_test_split(X,Y,test_size = 0.2)\n",
    "train_data = dataset.CustomDataset(X_train,Y_train)\n",
    "test_data = dataset.CustomDataset(X_test,Y_test)\n"
   ]
  },
  {
   "cell_type": "markdown",
   "id": "a9a1af34",
   "metadata": {
    "id": "a9a1af34",
    "papermill": {
     "duration": 0.020188,
     "end_time": "2022-06-22T13:28:11.572931",
     "exception": false,
     "start_time": "2022-06-22T13:28:11.552743",
     "status": "completed"
    },
    "tags": []
   },
   "source": [
    "## Training Parameters "
   ]
  },
  {
   "cell_type": "code",
   "execution_count": 8,
   "id": "952b7fc8",
   "metadata": {
    "execution": {
     "iopub.execute_input": "2022-06-22T13:28:11.612435Z",
     "iopub.status.busy": "2022-06-22T13:28:11.611277Z",
     "iopub.status.idle": "2022-06-22T13:28:11.617308Z",
     "shell.execute_reply": "2022-06-22T13:28:11.617973Z"
    },
    "id": "952b7fc8",
    "papermill": {
     "duration": 0.02784,
     "end_time": "2022-06-22T13:28:11.618304",
     "exception": false,
     "start_time": "2022-06-22T13:28:11.590464",
     "status": "completed"
    },
    "tags": []
   },
   "outputs": [],
   "source": [
    "batch_size = 32\n",
    "n_epochs = 1000\n",
    "#Select the device \n",
    "device = torch.device('cuda' if torch.cuda.is_available() else 'cpu')"
   ]
  },
  {
   "cell_type": "markdown",
   "id": "a95e1600",
   "metadata": {
    "id": "a95e1600",
    "papermill": {
     "duration": 0.014942,
     "end_time": "2022-06-22T13:28:11.649658",
     "exception": false,
     "start_time": "2022-06-22T13:28:11.634716",
     "status": "completed"
    },
    "tags": []
   },
   "source": [
    "# ABC Pre-generator Model \n",
    "\n",
    "1. The catboost model is used as a pre-generator model for the ABC-GAN. \n",
    "2. The model is first trained on the entire dataset \n",
    "3. It generats X,Y pairs and we add some Gaussian noise with mean 0 and variance 1 to it which is then feed as input to the generator.\n"
   ]
  },
  {
   "cell_type": "code",
   "execution_count": 9,
   "id": "ff8ce7bd",
   "metadata": {
    "execution": {
     "iopub.execute_input": "2022-06-22T13:28:11.691055Z",
     "iopub.status.busy": "2022-06-22T13:28:11.690136Z",
     "iopub.status.idle": "2022-06-22T13:28:31.188024Z",
     "shell.execute_reply": "2022-06-22T13:28:31.188831Z"
    },
    "id": "ff8ce7bd",
    "papermill": {
     "duration": 19.524219,
     "end_time": "2022-06-22T13:28:31.189045",
     "exception": false,
     "start_time": "2022-06-22T13:28:11.664826",
     "status": "completed"
    },
    "tags": []
   },
   "outputs": [
    {
     "name": "stdout",
     "output_type": "stream",
     "text": [
      "Device used : cpu\n"
     ]
    },
    {
     "name": "stdout",
     "output_type": "stream",
     "text": [
      "epoch 0  | loss: 0.84641 | train_mse: 10.24654| train_mae: 2.33781 |  0:00:00s\n",
      "epoch 1  | loss: 0.58817 | train_mse: 6.23679 | train_mae: 1.81247 |  0:00:00s\n",
      "epoch 2  | loss: 0.47895 | train_mse: 2.94145 | train_mae: 1.3457  |  0:00:00s\n"
     ]
    },
    {
     "name": "stdout",
     "output_type": "stream",
     "text": [
      "epoch 3  | loss: 0.56097 | train_mse: 1.6037  | train_mae: 0.97497 |  0:00:00s\n",
      "epoch 4  | loss: 0.41582 | train_mse: 1.49355 | train_mae: 0.91892 |  0:00:00s\n"
     ]
    },
    {
     "name": "stdout",
     "output_type": "stream",
     "text": [
      "epoch 5  | loss: 0.41442 | train_mse: 1.13867 | train_mae: 0.83377 |  0:00:00s\n",
      "epoch 6  | loss: 0.34089 | train_mse: 0.78155 | train_mae: 0.66752 |  0:00:00s\n",
      "epoch 7  | loss: 0.42476 | train_mse: 0.72929 | train_mae: 0.62862 |  0:00:00s\n"
     ]
    },
    {
     "name": "stdout",
     "output_type": "stream",
     "text": [
      "epoch 8  | loss: 0.34918 | train_mse: 0.72794 | train_mae: 0.62977 |  0:00:00s\n",
      "epoch 9  | loss: 0.58494 | train_mse: 0.54093 | train_mae: 0.5574  |  0:00:01s\n",
      "epoch 10 | loss: 0.52308 | train_mse: 0.39228 | train_mae: 0.50736 |  0:00:01s\n"
     ]
    },
    {
     "name": "stdout",
     "output_type": "stream",
     "text": [
      "epoch 11 | loss: 0.4652  | train_mse: 0.31252 | train_mae: 0.46047 |  0:00:01s\n",
      "epoch 12 | loss: 0.4042  | train_mse: 0.51492 | train_mae: 0.53823 |  0:00:01s\n",
      "epoch 13 | loss: 0.30991 | train_mse: 0.82197 | train_mae: 0.68111 |  0:00:01s\n"
     ]
    },
    {
     "name": "stdout",
     "output_type": "stream",
     "text": [
      "epoch 14 | loss: 0.57541 | train_mse: 1.01542 | train_mae: 0.78499 |  0:00:01s\n",
      "epoch 15 | loss: 0.27619 | train_mse: 0.5618  | train_mae: 0.60585 |  0:00:01s\n",
      "epoch 16 | loss: 0.28024 | train_mse: 0.33277 | train_mae: 0.46158 |  0:00:01s\n"
     ]
    },
    {
     "name": "stdout",
     "output_type": "stream",
     "text": [
      "epoch 17 | loss: 0.40907 | train_mse: 0.29585 | train_mae: 0.41073 |  0:00:01s\n",
      "epoch 18 | loss: 0.34277 | train_mse: 0.25994 | train_mae: 0.38346 |  0:00:01s\n",
      "epoch 19 | loss: 0.27796 | train_mse: 0.26693 | train_mae: 0.37882 |  0:00:01s\n"
     ]
    },
    {
     "name": "stdout",
     "output_type": "stream",
     "text": [
      "epoch 20 | loss: 0.22371 | train_mse: 0.28195 | train_mae: 0.39644 |  0:00:01s\n",
      "epoch 21 | loss: 0.19335 | train_mse: 0.24979 | train_mae: 0.36807 |  0:00:02s\n",
      "epoch 22 | loss: 0.39124 | train_mse: 0.23764 | train_mae: 0.36379 |  0:00:02s\n"
     ]
    },
    {
     "name": "stdout",
     "output_type": "stream",
     "text": [
      "epoch 23 | loss: 0.19494 | train_mse: 0.26265 | train_mae: 0.37689 |  0:00:02s\n",
      "epoch 24 | loss: 0.19411 | train_mse: 0.41032 | train_mae: 0.47449 |  0:00:02s\n",
      "epoch 25 | loss: 0.40989 | train_mse: 0.48795 | train_mae: 0.51302 |  0:00:02s\n"
     ]
    },
    {
     "name": "stdout",
     "output_type": "stream",
     "text": [
      "epoch 26 | loss: 0.26325 | train_mse: 0.30519 | train_mae: 0.41347 |  0:00:02s\n",
      "epoch 27 | loss: 0.22326 | train_mse: 0.24406 | train_mae: 0.36614 |  0:00:02s\n"
     ]
    },
    {
     "name": "stdout",
     "output_type": "stream",
     "text": [
      "epoch 28 | loss: 0.25555 | train_mse: 0.20368 | train_mae: 0.34671 |  0:00:02s\n",
      "epoch 29 | loss: 0.2639  | train_mse: 0.19317 | train_mae: 0.35179 |  0:00:02s\n"
     ]
    },
    {
     "name": "stdout",
     "output_type": "stream",
     "text": [
      "epoch 30 | loss: 0.27021 | train_mse: 0.19217 | train_mae: 0.35063 |  0:00:02s\n",
      "epoch 31 | loss: 0.21581 | train_mse: 0.17015 | train_mae: 0.32634 |  0:00:02s\n",
      "epoch 32 | loss: 0.25709 | train_mse: 0.17402 | train_mae: 0.32537 |  0:00:03s\n"
     ]
    },
    {
     "name": "stdout",
     "output_type": "stream",
     "text": [
      "epoch 33 | loss: 0.35616 | train_mse: 0.17783 | train_mae: 0.32977 |  0:00:03s\n",
      "epoch 34 | loss: 0.26263 | train_mse: 0.17112 | train_mae: 0.32436 |  0:00:03s\n",
      "epoch 35 | loss: 0.15922 | train_mse: 0.12721 | train_mae: 0.28348 |  0:00:03s\n"
     ]
    },
    {
     "name": "stdout",
     "output_type": "stream",
     "text": [
      "epoch 36 | loss: 0.16578 | train_mse: 0.12487 | train_mae: 0.27378 |  0:00:03s\n",
      "epoch 37 | loss: 0.22842 | train_mse: 0.16573 | train_mae: 0.29183 |  0:00:03s\n",
      "epoch 38 | loss: 0.20338 | train_mse: 0.20533 | train_mae: 0.31727 |  0:00:03s\n"
     ]
    },
    {
     "name": "stdout",
     "output_type": "stream",
     "text": [
      "epoch 39 | loss: 0.16562 | train_mse: 0.20235 | train_mae: 0.32172 |  0:00:03s\n",
      "epoch 40 | loss: 0.25857 | train_mse: 0.2158  | train_mae: 0.32536 |  0:00:03s\n",
      "epoch 41 | loss: 0.29088 | train_mse: 0.19922 | train_mae: 0.3181  |  0:00:03s\n"
     ]
    },
    {
     "name": "stdout",
     "output_type": "stream",
     "text": [
      "epoch 42 | loss: 0.24378 | train_mse: 0.17795 | train_mae: 0.31875 |  0:00:03s\n",
      "epoch 43 | loss: 0.27201 | train_mse: 0.14093 | train_mae: 0.30069 |  0:00:03s\n",
      "epoch 44 | loss: 0.25616 | train_mse: 0.14688 | train_mae: 0.30818 |  0:00:03s\n"
     ]
    },
    {
     "name": "stdout",
     "output_type": "stream",
     "text": [
      "epoch 45 | loss: 0.25788 | train_mse: 0.1662  | train_mae: 0.32677 |  0:00:04s\n",
      "epoch 46 | loss: 0.45422 | train_mse: 0.18241 | train_mae: 0.33334 |  0:00:04s\n",
      "epoch 47 | loss: 0.14652 | train_mse: 0.19581 | train_mae: 0.33994 |  0:00:04s\n"
     ]
    },
    {
     "name": "stdout",
     "output_type": "stream",
     "text": [
      "epoch 48 | loss: 0.27488 | train_mse: 0.18056 | train_mae: 0.33153 |  0:00:04s\n",
      "epoch 49 | loss: 0.28043 | train_mse: 0.17298 | train_mae: 0.33608 |  0:00:04s\n",
      "epoch 50 | loss: 0.29424 | train_mse: 0.17973 | train_mae: 0.34653 |  0:00:04s\n"
     ]
    },
    {
     "name": "stdout",
     "output_type": "stream",
     "text": [
      "epoch 51 | loss: 0.30548 | train_mse: 0.14246 | train_mae: 0.30302 |  0:00:04s\n",
      "epoch 52 | loss: 0.22866 | train_mse: 0.15804 | train_mae: 0.29478 |  0:00:04s\n",
      "epoch 53 | loss: 0.21087 | train_mse: 0.16439 | train_mae: 0.29395 |  0:00:04s\n"
     ]
    },
    {
     "name": "stdout",
     "output_type": "stream",
     "text": [
      "epoch 54 | loss: 0.30705 | train_mse: 0.17601 | train_mae: 0.29529 |  0:00:04s\n",
      "epoch 55 | loss: 0.30291 | train_mse: 0.19806 | train_mae: 0.31496 |  0:00:04s\n",
      "epoch 56 | loss: 0.28075 | train_mse: 0.18789 | train_mae: 0.31929 |  0:00:04s\n"
     ]
    },
    {
     "name": "stdout",
     "output_type": "stream",
     "text": [
      "epoch 57 | loss: 0.21368 | train_mse: 0.16542 | train_mae: 0.30565 |  0:00:05s\n",
      "epoch 58 | loss: 0.21391 | train_mse: 0.17139 | train_mae: 0.31471 |  0:00:05s\n",
      "epoch 59 | loss: 0.19963 | train_mse: 0.14974 | train_mae: 0.28833 |  0:00:05s\n"
     ]
    },
    {
     "name": "stdout",
     "output_type": "stream",
     "text": [
      "epoch 60 | loss: 0.16569 | train_mse: 0.15584 | train_mae: 0.28962 |  0:00:05s\n",
      "epoch 61 | loss: 0.17018 | train_mse: 0.1604  | train_mae: 0.292   |  0:00:05s\n",
      "epoch 62 | loss: 0.16165 | train_mse: 0.17045 | train_mae: 0.29963 |  0:00:05s\n"
     ]
    },
    {
     "name": "stdout",
     "output_type": "stream",
     "text": [
      "epoch 63 | loss: 0.18711 | train_mse: 0.18542 | train_mae: 0.31154 |  0:00:05s\n",
      "epoch 64 | loss: 0.18784 | train_mse: 0.14808 | train_mae: 0.29129 |  0:00:05s\n",
      "epoch 65 | loss: 0.20339 | train_mse: 0.13502 | train_mae: 0.28164 |  0:00:05s\n"
     ]
    },
    {
     "name": "stdout",
     "output_type": "stream",
     "text": [
      "epoch 66 | loss: 0.28386 | train_mse: 0.12735 | train_mae: 0.26786 |  0:00:05s\n",
      "epoch 67 | loss: 0.19029 | train_mse: 0.14132 | train_mae: 0.2932  |  0:00:06s\n",
      "epoch 68 | loss: 0.22555 | train_mse: 0.13085 | train_mae: 0.27999 |  0:00:06s\n"
     ]
    },
    {
     "name": "stdout",
     "output_type": "stream",
     "text": [
      "epoch 69 | loss: 0.23793 | train_mse: 0.17043 | train_mae: 0.31132 |  0:00:06s\n",
      "epoch 70 | loss: 0.33899 | train_mse: 0.20953 | train_mae: 0.32547 |  0:00:06s\n",
      "epoch 71 | loss: 0.20235 | train_mse: 0.19417 | train_mae: 0.31191 |  0:00:06s\n"
     ]
    },
    {
     "name": "stdout",
     "output_type": "stream",
     "text": [
      "epoch 72 | loss: 0.24144 | train_mse: 0.1494  | train_mae: 0.29226 |  0:00:06s\n",
      "epoch 73 | loss: 0.1557  | train_mse: 0.13894 | train_mae: 0.28339 |  0:00:06s\n",
      "epoch 74 | loss: 0.25073 | train_mse: 0.20912 | train_mae: 0.31645 |  0:00:06s\n"
     ]
    },
    {
     "name": "stdout",
     "output_type": "stream",
     "text": [
      "epoch 75 | loss: 0.17574 | train_mse: 0.22062 | train_mae: 0.32703 |  0:00:06s\n",
      "epoch 76 | loss: 0.17855 | train_mse: 0.1728  | train_mae: 0.3072  |  0:00:06s\n",
      "epoch 77 | loss: 0.28714 | train_mse: 0.15153 | train_mae: 0.29599 |  0:00:06s\n"
     ]
    },
    {
     "name": "stdout",
     "output_type": "stream",
     "text": [
      "epoch 78 | loss: 0.19287 | train_mse: 0.11856 | train_mae: 0.25667 |  0:00:06s\n",
      "epoch 79 | loss: 0.27857 | train_mse: 0.12934 | train_mae: 0.2641  |  0:00:07s\n",
      "epoch 80 | loss: 0.19155 | train_mse: 0.12056 | train_mae: 0.25774 |  0:00:07s\n"
     ]
    },
    {
     "name": "stdout",
     "output_type": "stream",
     "text": [
      "epoch 81 | loss: 0.27815 | train_mse: 0.11483 | train_mae: 0.26096 |  0:00:07s\n",
      "epoch 82 | loss: 0.31669 | train_mse: 0.12251 | train_mae: 0.26335 |  0:00:07s\n",
      "epoch 83 | loss: 0.17825 | train_mse: 0.16323 | train_mae: 0.29631 |  0:00:07s\n"
     ]
    },
    {
     "name": "stdout",
     "output_type": "stream",
     "text": [
      "epoch 84 | loss: 0.26586 | train_mse: 0.18394 | train_mae: 0.31207 |  0:00:07s\n",
      "epoch 85 | loss: 0.20815 | train_mse: 0.20648 | train_mae: 0.32728 |  0:00:07s\n",
      "epoch 86 | loss: 0.32335 | train_mse: 0.24195 | train_mae: 0.35447 |  0:00:07s\n"
     ]
    },
    {
     "name": "stdout",
     "output_type": "stream",
     "text": [
      "epoch 87 | loss: 0.20566 | train_mse: 0.23158 | train_mae: 0.35045 |  0:00:07s\n",
      "epoch 88 | loss: 0.1717  | train_mse: 0.15547 | train_mae: 0.28608 |  0:00:07s\n",
      "epoch 89 | loss: 0.16595 | train_mse: 0.1214  | train_mae: 0.261   |  0:00:07s\n"
     ]
    },
    {
     "name": "stdout",
     "output_type": "stream",
     "text": [
      "epoch 90 | loss: 0.26569 | train_mse: 0.10185 | train_mae: 0.24291 |  0:00:07s\n",
      "epoch 91 | loss: 0.21926 | train_mse: 0.09692 | train_mae: 0.23938 |  0:00:08s\n",
      "epoch 92 | loss: 0.12431 | train_mse: 0.09247 | train_mae: 0.23557 |  0:00:08s\n"
     ]
    },
    {
     "name": "stdout",
     "output_type": "stream",
     "text": [
      "epoch 93 | loss: 0.17583 | train_mse: 0.08721 | train_mae: 0.22218 |  0:00:08s\n",
      "epoch 94 | loss: 0.1449  | train_mse: 0.10081 | train_mae: 0.25513 |  0:00:08s\n",
      "epoch 95 | loss: 0.16035 | train_mse: 0.09692 | train_mae: 0.24783 |  0:00:08s\n"
     ]
    },
    {
     "name": "stdout",
     "output_type": "stream",
     "text": [
      "epoch 96 | loss: 0.14613 | train_mse: 0.09478 | train_mae: 0.23652 |  0:00:08s\n",
      "epoch 97 | loss: 0.15713 | train_mse: 0.10354 | train_mae: 0.23671 |  0:00:08s\n",
      "epoch 98 | loss: 0.12142 | train_mse: 0.10689 | train_mae: 0.23912 |  0:00:08s\n"
     ]
    },
    {
     "name": "stdout",
     "output_type": "stream",
     "text": [
      "epoch 99 | loss: 0.30163 | train_mse: 0.11699 | train_mae: 0.2523  |  0:00:08s\n",
      "epoch 100| loss: 0.15494 | train_mse: 0.10895 | train_mae: 0.24567 |  0:00:08s\n",
      "epoch 101| loss: 0.28977 | train_mse: 0.11686 | train_mae: 0.25535 |  0:00:08s\n"
     ]
    },
    {
     "name": "stdout",
     "output_type": "stream",
     "text": [
      "epoch 102| loss: 0.20107 | train_mse: 0.21048 | train_mae: 0.31589 |  0:00:08s\n",
      "epoch 103| loss: 0.16703 | train_mse: 0.20209 | train_mae: 0.2983  |  0:00:09s\n",
      "epoch 104| loss: 0.12134 | train_mse: 0.16413 | train_mae: 0.27322 |  0:00:09s\n"
     ]
    },
    {
     "name": "stdout",
     "output_type": "stream",
     "text": [
      "epoch 105| loss: 0.24713 | train_mse: 0.18892 | train_mae: 0.287   |  0:00:09s\n",
      "epoch 106| loss: 0.15602 | train_mse: 0.16201 | train_mae: 0.27651 |  0:00:09s\n",
      "epoch 107| loss: 0.21299 | train_mse: 0.17927 | train_mae: 0.27251 |  0:00:09s\n"
     ]
    },
    {
     "name": "stdout",
     "output_type": "stream",
     "text": [
      "epoch 108| loss: 0.25981 | train_mse: 0.2373  | train_mae: 0.31026 |  0:00:09s\n",
      "epoch 109| loss: 0.20786 | train_mse: 0.22889 | train_mae: 0.32183 |  0:00:09s\n",
      "epoch 110| loss: 0.1354  | train_mse: 0.19369 | train_mae: 0.31118 |  0:00:09s\n"
     ]
    },
    {
     "name": "stdout",
     "output_type": "stream",
     "text": [
      "epoch 111| loss: 0.16512 | train_mse: 0.1192  | train_mae: 0.26291 |  0:00:09s\n",
      "epoch 112| loss: 0.18233 | train_mse: 0.08655 | train_mae: 0.23445 |  0:00:09s\n",
      "epoch 113| loss: 0.15254 | train_mse: 0.09462 | train_mae: 0.24831 |  0:00:09s\n"
     ]
    },
    {
     "name": "stdout",
     "output_type": "stream",
     "text": [
      "epoch 114| loss: 0.14741 | train_mse: 0.09345 | train_mae: 0.2468  |  0:00:09s\n",
      "epoch 115| loss: 0.11355 | train_mse: 0.11347 | train_mae: 0.26152 |  0:00:10s\n",
      "epoch 116| loss: 0.25185 | train_mse: 0.09086 | train_mae: 0.23654 |  0:00:10s\n"
     ]
    },
    {
     "name": "stdout",
     "output_type": "stream",
     "text": [
      "epoch 117| loss: 0.12738 | train_mse: 0.08497 | train_mae: 0.22712 |  0:00:10s\n",
      "epoch 118| loss: 0.16086 | train_mse: 0.08387 | train_mae: 0.22329 |  0:00:10s\n",
      "epoch 119| loss: 0.18261 | train_mse: 0.10196 | train_mae: 0.23988 |  0:00:10s\n"
     ]
    },
    {
     "name": "stdout",
     "output_type": "stream",
     "text": [
      "epoch 120| loss: 0.16775 | train_mse: 0.09719 | train_mae: 0.23792 |  0:00:10s\n",
      "epoch 121| loss: 0.15609 | train_mse: 0.10766 | train_mae: 0.25012 |  0:00:10s\n",
      "epoch 122| loss: 0.12175 | train_mse: 0.12144 | train_mae: 0.26227 |  0:00:10s\n"
     ]
    },
    {
     "name": "stdout",
     "output_type": "stream",
     "text": [
      "epoch 123| loss: 0.2694  | train_mse: 0.15377 | train_mae: 0.28349 |  0:00:10s\n",
      "epoch 124| loss: 0.15646 | train_mse: 0.10482 | train_mae: 0.23646 |  0:00:10s\n",
      "epoch 125| loss: 0.28628 | train_mse: 0.08545 | train_mae: 0.22172 |  0:00:10s\n"
     ]
    },
    {
     "name": "stdout",
     "output_type": "stream",
     "text": [
      "epoch 126| loss: 0.21333 | train_mse: 0.09109 | train_mae: 0.23116 |  0:00:10s\n",
      "epoch 127| loss: 0.08763 | train_mse: 0.10168 | train_mae: 0.24558 |  0:00:11s\n",
      "epoch 128| loss: 0.20677 | train_mse: 0.10055 | train_mae: 0.24363 |  0:00:11s\n"
     ]
    },
    {
     "name": "stdout",
     "output_type": "stream",
     "text": [
      "epoch 129| loss: 0.23738 | train_mse: 0.10156 | train_mae: 0.24495 |  0:00:11s\n",
      "epoch 130| loss: 0.13025 | train_mse: 0.09864 | train_mae: 0.23768 |  0:00:11s\n",
      "epoch 131| loss: 0.17641 | train_mse: 0.09386 | train_mae: 0.23806 |  0:00:11s\n"
     ]
    },
    {
     "name": "stdout",
     "output_type": "stream",
     "text": [
      "epoch 132| loss: 0.13661 | train_mse: 0.09263 | train_mae: 0.23481 |  0:00:11s\n",
      "epoch 133| loss: 0.26476 | train_mse: 0.12389 | train_mae: 0.28265 |  0:00:11s\n",
      "epoch 134| loss: 0.13883 | train_mse: 0.1045  | train_mae: 0.26804 |  0:00:11s\n"
     ]
    },
    {
     "name": "stdout",
     "output_type": "stream",
     "text": [
      "epoch 135| loss: 0.22158 | train_mse: 0.11977 | train_mae: 0.26526 |  0:00:11s\n",
      "epoch 136| loss: 0.11591 | train_mse: 0.14768 | train_mae: 0.27376 |  0:00:11s\n",
      "epoch 137| loss: 0.17241 | train_mse: 0.13242 | train_mae: 0.26125 |  0:00:11s\n"
     ]
    },
    {
     "name": "stdout",
     "output_type": "stream",
     "text": [
      "epoch 138| loss: 0.17136 | train_mse: 0.11911 | train_mae: 0.25447 |  0:00:11s\n",
      "epoch 139| loss: 0.12124 | train_mse: 0.133   | train_mae: 0.26181 |  0:00:11s\n",
      "epoch 140| loss: 0.22033 | train_mse: 0.18904 | train_mae: 0.29091 |  0:00:12s\n"
     ]
    },
    {
     "name": "stdout",
     "output_type": "stream",
     "text": [
      "epoch 141| loss: 0.22291 | train_mse: 0.2165  | train_mae: 0.30437 |  0:00:12s\n",
      "epoch 142| loss: 0.14537 | train_mse: 0.13387 | train_mae: 0.26322 |  0:00:12s\n",
      "epoch 143| loss: 0.48459 | train_mse: 0.09674 | train_mae: 0.24007 |  0:00:12s\n"
     ]
    },
    {
     "name": "stdout",
     "output_type": "stream",
     "text": [
      "epoch 144| loss: 0.13284 | train_mse: 0.08522 | train_mae: 0.23175 |  0:00:12s\n",
      "epoch 145| loss: 0.19658 | train_mse: 0.09579 | train_mae: 0.25143 |  0:00:12s\n"
     ]
    },
    {
     "name": "stdout",
     "output_type": "stream",
     "text": [
      "epoch 146| loss: 0.16425 | train_mse: 0.11959 | train_mae: 0.27193 |  0:00:12s\n",
      "epoch 147| loss: 0.27105 | train_mse: 0.13078 | train_mae: 0.27468 |  0:00:12s\n",
      "epoch 148| loss: 0.16801 | train_mse: 0.10984 | train_mae: 0.25981 |  0:00:12s\n"
     ]
    },
    {
     "name": "stdout",
     "output_type": "stream",
     "text": [
      "epoch 149| loss: 0.10127 | train_mse: 0.08834 | train_mae: 0.23809 |  0:00:12s\n",
      "epoch 150| loss: 0.22656 | train_mse: 0.09399 | train_mae: 0.23773 |  0:00:13s\n",
      "epoch 151| loss: 0.1397  | train_mse: 0.08726 | train_mae: 0.23325 |  0:00:13s\n"
     ]
    },
    {
     "name": "stdout",
     "output_type": "stream",
     "text": [
      "epoch 152| loss: 0.16163 | train_mse: 0.15291 | train_mae: 0.28492 |  0:00:13s\n",
      "epoch 153| loss: 0.16593 | train_mse: 0.14384 | train_mae: 0.28913 |  0:00:13s\n",
      "epoch 154| loss: 0.15448 | train_mse: 0.10931 | train_mae: 0.24609 |  0:00:13s\n"
     ]
    },
    {
     "name": "stdout",
     "output_type": "stream",
     "text": [
      "epoch 155| loss: 0.18278 | train_mse: 0.10394 | train_mae: 0.24195 |  0:00:13s\n",
      "epoch 156| loss: 0.23354 | train_mse: 0.17926 | train_mae: 0.28121 |  0:00:13s\n",
      "epoch 157| loss: 0.13911 | train_mse: 0.16794 | train_mae: 0.28606 |  0:00:13s\n"
     ]
    },
    {
     "name": "stdout",
     "output_type": "stream",
     "text": [
      "epoch 158| loss: 0.10368 | train_mse: 0.18297 | train_mae: 0.29337 |  0:00:13s\n",
      "epoch 159| loss: 0.1185  | train_mse: 0.16044 | train_mae: 0.29436 |  0:00:13s\n",
      "epoch 160| loss: 0.22892 | train_mse: 0.09694 | train_mae: 0.24907 |  0:00:13s\n"
     ]
    },
    {
     "name": "stdout",
     "output_type": "stream",
     "text": [
      "epoch 161| loss: 0.15857 | train_mse: 0.08629 | train_mae: 0.22646 |  0:00:13s\n",
      "epoch 162| loss: 0.22311 | train_mse: 0.1143  | train_mae: 0.2613  |  0:00:14s\n"
     ]
    },
    {
     "name": "stdout",
     "output_type": "stream",
     "text": [
      "epoch 163| loss: 0.1645  | train_mse: 0.10868 | train_mae: 0.24991 |  0:00:14s\n",
      "epoch 164| loss: 0.13703 | train_mse: 0.08921 | train_mae: 0.22621 |  0:00:14s\n",
      "epoch 165| loss: 0.1217  | train_mse: 0.09151 | train_mae: 0.22517 |  0:00:14s\n"
     ]
    },
    {
     "name": "stdout",
     "output_type": "stream",
     "text": [
      "epoch 166| loss: 0.18557 | train_mse: 0.08475 | train_mae: 0.22384 |  0:00:14s\n",
      "epoch 167| loss: 0.20434 | train_mse: 0.09141 | train_mae: 0.23767 |  0:00:14s\n",
      "epoch 168| loss: 0.14393 | train_mse: 0.10267 | train_mae: 0.25312 |  0:00:14s\n"
     ]
    },
    {
     "name": "stdout",
     "output_type": "stream",
     "text": [
      "epoch 169| loss: 0.21231 | train_mse: 0.10428 | train_mae: 0.25684 |  0:00:14s\n",
      "epoch 170| loss: 0.34576 | train_mse: 0.09757 | train_mae: 0.24937 |  0:00:14s\n",
      "epoch 171| loss: 0.14506 | train_mse: 0.08857 | train_mae: 0.23543 |  0:00:14s\n"
     ]
    },
    {
     "name": "stdout",
     "output_type": "stream",
     "text": [
      "epoch 172| loss: 0.36011 | train_mse: 0.07531 | train_mae: 0.21197 |  0:00:14s\n",
      "epoch 173| loss: 0.1566  | train_mse: 0.07173 | train_mae: 0.22361 |  0:00:15s\n",
      "epoch 174| loss: 0.09268 | train_mse: 0.06588 | train_mae: 0.20794 |  0:00:15s\n"
     ]
    },
    {
     "name": "stdout",
     "output_type": "stream",
     "text": [
      "epoch 175| loss: 0.18457 | train_mse: 0.06534 | train_mae: 0.19889 |  0:00:15s\n",
      "epoch 176| loss: 0.16236 | train_mse: 0.06858 | train_mae: 0.20509 |  0:00:15s\n",
      "epoch 177| loss: 0.13309 | train_mse: 0.07554 | train_mae: 0.21419 |  0:00:15s\n"
     ]
    },
    {
     "name": "stdout",
     "output_type": "stream",
     "text": [
      "epoch 178| loss: 0.16627 | train_mse: 0.08274 | train_mae: 0.2142  |  0:00:15s\n",
      "epoch 179| loss: 0.29943 | train_mse: 0.10279 | train_mae: 0.23463 |  0:00:15s\n",
      "epoch 180| loss: 0.1831  | train_mse: 0.1276  | train_mae: 0.257   |  0:00:15s\n"
     ]
    },
    {
     "name": "stdout",
     "output_type": "stream",
     "text": [
      "epoch 181| loss: 0.19907 | train_mse: 0.08047 | train_mae: 0.22014 |  0:00:15s\n",
      "epoch 182| loss: 0.12431 | train_mse: 0.06487 | train_mae: 0.20183 |  0:00:15s\n",
      "epoch 183| loss: 0.12763 | train_mse: 0.07674 | train_mae: 0.22405 |  0:00:15s\n"
     ]
    },
    {
     "name": "stdout",
     "output_type": "stream",
     "text": [
      "epoch 184| loss: 0.12717 | train_mse: 0.11026 | train_mae: 0.25834 |  0:00:15s\n",
      "epoch 185| loss: 0.18828 | train_mse: 0.09044 | train_mae: 0.23105 |  0:00:15s\n",
      "epoch 186| loss: 0.15504 | train_mse: 0.09228 | train_mae: 0.21705 |  0:00:16s\n"
     ]
    },
    {
     "name": "stdout",
     "output_type": "stream",
     "text": [
      "epoch 187| loss: 0.11336 | train_mse: 0.09962 | train_mae: 0.23418 |  0:00:16s\n",
      "epoch 188| loss: 0.14529 | train_mse: 0.10854 | train_mae: 0.26239 |  0:00:16s\n",
      "epoch 189| loss: 0.1288  | train_mse: 0.10652 | train_mae: 0.26661 |  0:00:16s\n"
     ]
    },
    {
     "name": "stdout",
     "output_type": "stream",
     "text": [
      "epoch 190| loss: 0.15032 | train_mse: 0.10431 | train_mae: 0.23628 |  0:00:16s\n",
      "epoch 191| loss: 0.10301 | train_mse: 0.11574 | train_mae: 0.23456 |  0:00:16s\n",
      "epoch 192| loss: 0.12091 | train_mse: 0.12123 | train_mae: 0.23075 |  0:00:16s\n"
     ]
    },
    {
     "name": "stdout",
     "output_type": "stream",
     "text": [
      "epoch 193| loss: 0.29563 | train_mse: 0.09821 | train_mae: 0.22631 |  0:00:16s\n",
      "epoch 194| loss: 0.16461 | train_mse: 0.08237 | train_mae: 0.22655 |  0:00:16s\n",
      "epoch 195| loss: 0.14441 | train_mse: 0.08194 | train_mae: 0.2244  |  0:00:16s\n"
     ]
    },
    {
     "name": "stdout",
     "output_type": "stream",
     "text": [
      "epoch 196| loss: 0.08823 | train_mse: 0.08861 | train_mae: 0.22704 |  0:00:16s\n",
      "epoch 197| loss: 0.17875 | train_mse: 0.08343 | train_mae: 0.22327 |  0:00:16s\n",
      "epoch 198| loss: 0.25748 | train_mse: 0.09961 | train_mae: 0.22943 |  0:00:17s\n"
     ]
    },
    {
     "name": "stdout",
     "output_type": "stream",
     "text": [
      "epoch 199| loss: 0.08462 | train_mse: 0.1123  | train_mae: 0.23308 |  0:00:17s\n",
      "epoch 200| loss: 0.15283 | train_mse: 0.10888 | train_mae: 0.22585 |  0:00:17s\n",
      "epoch 201| loss: 0.1614  | train_mse: 0.0821  | train_mae: 0.21325 |  0:00:17s\n"
     ]
    },
    {
     "name": "stdout",
     "output_type": "stream",
     "text": [
      "epoch 202| loss: 0.17632 | train_mse: 0.06914 | train_mae: 0.20098 |  0:00:17s\n",
      "epoch 203| loss: 0.17973 | train_mse: 0.10127 | train_mae: 0.22188 |  0:00:17s\n",
      "epoch 204| loss: 0.31499 | train_mse: 0.17095 | train_mae: 0.26224 |  0:00:17s\n"
     ]
    },
    {
     "name": "stdout",
     "output_type": "stream",
     "text": [
      "epoch 205| loss: 0.16202 | train_mse: 0.2476  | train_mae: 0.29073 |  0:00:17s\n",
      "epoch 206| loss: 0.23402 | train_mse: 0.19422 | train_mae: 0.28156 |  0:00:17s\n",
      "epoch 207| loss: 0.14023 | train_mse: 0.14055 | train_mae: 0.28174 |  0:00:17s\n"
     ]
    },
    {
     "name": "stdout",
     "output_type": "stream",
     "text": [
      "epoch 208| loss: 0.21968 | train_mse: 0.11096 | train_mae: 0.25713 |  0:00:17s\n",
      "epoch 209| loss: 0.16575 | train_mse: 0.08012 | train_mae: 0.22052 |  0:00:17s\n",
      "epoch 210| loss: 0.25724 | train_mse: 0.10098 | train_mae: 0.25395 |  0:00:18s\n"
     ]
    },
    {
     "name": "stdout",
     "output_type": "stream",
     "text": [
      "epoch 211| loss: 0.30484 | train_mse: 0.1367  | train_mae: 0.27154 |  0:00:18s\n",
      "epoch 212| loss: 0.17341 | train_mse: 0.11067 | train_mae: 0.24441 |  0:00:18s\n",
      "epoch 213| loss: 0.3016  | train_mse: 0.10409 | train_mae: 0.24307 |  0:00:18s\n"
     ]
    },
    {
     "name": "stdout",
     "output_type": "stream",
     "text": [
      "epoch 214| loss: 0.27445 | train_mse: 0.09059 | train_mae: 0.22545 |  0:00:18s\n",
      "epoch 215| loss: 0.08263 | train_mse: 0.09028 | train_mae: 0.23952 |  0:00:18s\n",
      "epoch 216| loss: 0.14281 | train_mse: 0.0888  | train_mae: 0.24201 |  0:00:18s\n"
     ]
    },
    {
     "name": "stdout",
     "output_type": "stream",
     "text": [
      "epoch 217| loss: 0.18018 | train_mse: 0.08174 | train_mae: 0.22507 |  0:00:18s\n",
      "epoch 218| loss: 0.15185 | train_mse: 0.07079 | train_mae: 0.2048  |  0:00:18s\n"
     ]
    },
    {
     "name": "stdout",
     "output_type": "stream",
     "text": [
      "epoch 219| loss: 0.15816 | train_mse: 0.07415 | train_mae: 0.22113 |  0:00:18s\n",
      "epoch 220| loss: 0.119   | train_mse: 0.08458 | train_mae: 0.2323  |  0:00:19s\n",
      "epoch 221| loss: 0.09766 | train_mse: 0.09299 | train_mae: 0.23763 |  0:00:19s\n"
     ]
    },
    {
     "name": "stdout",
     "output_type": "stream",
     "text": [
      "epoch 222| loss: 0.16909 | train_mse: 0.14894 | train_mae: 0.2604  |  0:00:19s\n",
      "epoch 223| loss: 0.10944 | train_mse: 0.15489 | train_mae: 0.26921 |  0:00:19s\n",
      "epoch 224| loss: 0.2186  | train_mse: 0.09814 | train_mae: 0.24121 |  0:00:19s\n"
     ]
    },
    {
     "name": "stdout",
     "output_type": "stream",
     "text": [
      "epoch 225| loss: 0.16157 | train_mse: 0.08353 | train_mae: 0.23515 |  0:00:19s\n",
      "\n",
      "Early stopping occurred at epoch 225 with best_epoch = 175 and best_train_mae = 0.19889\n",
      "Best weights from best epoch are automatically used!\n"
     ]
    }
   ],
   "source": [
    "#Train the Model\n",
    "\n",
    "Y_train = np.reshape(Y_train, (-1, 1))\n",
    "Y_test = np.reshape(Y_test, (-1, 1))\n",
    "\n",
    "prior_model = TabNetRegressor(optimizer_fn=torch.optim.Adam, optimizer_params=dict(lr = 0.02),\n",
    "          #scheduler_params={\"step_size\":10, ], \"gamma\":0.9},\n",
    "          #scheduler_fn=torch.optim.lr_scheduler.StepLR\n",
    "          )  #TabNetRegressor()\n",
    "\n",
    "prior_model.fit(X_train,Y_train,eval_set=[(X_train, Y_train)],\n",
    "            eval_name=['train'], \n",
    "            eval_metric=[ 'mse', 'mae'], \n",
    "            max_epochs = n_epochs, \n",
    "            batch_size = batch_size,\n",
    "            patience=50\n",
    "            )"
   ]
  },
  {
   "cell_type": "code",
   "execution_count": 10,
   "id": "af65dcda",
   "metadata": {
    "execution": {
     "iopub.execute_input": "2022-06-22T13:28:31.277301Z",
     "iopub.status.busy": "2022-06-22T13:28:31.275598Z",
     "iopub.status.idle": "2022-06-22T13:28:31.299802Z",
     "shell.execute_reply": "2022-06-22T13:28:31.300659Z"
    },
    "id": "af65dcda",
    "papermill": {
     "duration": 0.072177,
     "end_time": "2022-06-22T13:28:31.300986",
     "exception": false,
     "start_time": "2022-06-22T13:28:31.228809",
     "status": "completed"
    },
    "tags": []
   },
   "outputs": [
    {
     "data": {
      "application/scrapbook.scrap.json+json": {
       "data": 0.1378188448661242,
       "encoder": "json",
       "name": "Prior Model MSE",
       "version": 1
      }
     },
     "metadata": {
      "scrapbook": {
       "data": true,
       "display": false,
       "name": "Prior Model MSE"
      }
     },
     "output_type": "display_data"
    },
    {
     "data": {
      "application/scrapbook.scrap.json+json": {
       "data": 0.138629584372348,
       "encoder": "json",
       "name": "ABC Pre-generator MSE",
       "version": 1
      }
     },
     "metadata": {
      "scrapbook": {
       "data": true,
       "display": false,
       "name": "ABC Pre-generator MSE"
      }
     },
     "output_type": "display_data"
    },
    {
     "data": {
      "application/scrapbook.scrap.json+json": {
       "data": 0.2964538611880661,
       "encoder": "json",
       "name": "Prior Model MSE",
       "version": 1
      }
     },
     "metadata": {
      "scrapbook": {
       "data": true,
       "display": false,
       "name": "Prior Model MSE"
      }
     },
     "output_type": "display_data"
    },
    {
     "data": {
      "application/scrapbook.scrap.json+json": {
       "data": 0.2960383367172466,
       "encoder": "json",
       "name": "ABC Pre-generator MSE",
       "version": 1
      }
     },
     "metadata": {
      "scrapbook": {
       "data": true,
       "display": false,
       "name": "ABC Pre-generator MSE"
      }
     },
     "output_type": "display_data"
    }
   ],
   "source": [
    "y_pred = prior_model.predict(X_test)\n",
    "y_abc = y_pred + np.random.normal(0,variance, y_pred.shape) + bias \n",
    "mse = mean_squared_error(y_pred,Y_test)\n",
    "sb.glue(\"Prior Model MSE\",mse)\n",
    "mse = mean_squared_error(y_abc,Y_test)\n",
    "sb.glue(\"ABC Pre-generator MSE\",mse)\n",
    "mae = mean_absolute_error(y_pred,Y_test)\n",
    "sb.glue(\"Prior Model MSE\",mae)\n",
    "mae = mean_absolute_error(y_abc,Y_test)\n",
    "sb.glue(\"ABC Pre-generator MSE\",mae)"
   ]
  },
  {
   "cell_type": "markdown",
   "id": "25609da2",
   "metadata": {
    "papermill": {
     "duration": 0.05804,
     "end_time": "2022-06-22T13:28:31.411010",
     "exception": false,
     "start_time": "2022-06-22T13:28:31.352970",
     "status": "completed"
    },
    "tags": []
   },
   "source": [
    "# ABC GAN Model"
   ]
  },
  {
   "cell_type": "code",
   "execution_count": 11,
   "id": "dfc3464d",
   "metadata": {
    "execution": {
     "iopub.execute_input": "2022-06-22T13:28:31.538418Z",
     "iopub.status.busy": "2022-06-22T13:28:31.537373Z",
     "iopub.status.idle": "2022-06-22T13:28:31.541910Z",
     "shell.execute_reply": "2022-06-22T13:28:31.542877Z"
    },
    "papermill": {
     "duration": 0.065897,
     "end_time": "2022-06-22T13:28:31.543160",
     "exception": false,
     "start_time": "2022-06-22T13:28:31.477263",
     "status": "completed"
    },
    "tags": []
   },
   "outputs": [],
   "source": [
    "gen = network.Generator(n_features+1).to(device)\n",
    "disc = network.Discriminator(n_features+1).to(device)\n",
    "\n",
    "criterion = torch.nn.BCELoss()\n",
    "gen_opt = torch.optim.Adam(gen.parameters(), lr=0.001, betas=(0.5, 0.999))\n",
    "disc_opt = torch.optim.Adam(disc.parameters(), lr=0.001, betas=(0.5, 0.999))"
   ]
  },
  {
   "cell_type": "code",
   "execution_count": 12,
   "id": "b75fdd85",
   "metadata": {
    "execution": {
     "iopub.execute_input": "2022-06-22T13:28:31.649492Z",
     "iopub.status.busy": "2022-06-22T13:28:31.648376Z",
     "iopub.status.idle": "2022-06-22T13:29:24.552754Z",
     "shell.execute_reply": "2022-06-22T13:29:24.553226Z"
    },
    "papermill": {
     "duration": 52.966413,
     "end_time": "2022-06-22T13:29:24.553434",
     "exception": false,
     "start_time": "2022-06-22T13:28:31.587021",
     "status": "completed"
    },
    "tags": []
   },
   "outputs": [
    {
     "data": {
      "image/png": "[encoded data removed]",
      "text/plain": [
       "<Figure size 432x288 with 1 Axes>"
      ]
     },
     "metadata": {
      "needs_background": "light"
     },
     "output_type": "display_data"
    },
    {
     "data": {
      "image/png": "[encoded data removed]",
      "text/plain": [
       "<Figure size 432x288 with 1 Axes>"
      ]
     },
     "metadata": {
      "needs_background": "light"
     },
     "output_type": "display_data"
    }
   ],
   "source": [
    "#Training the ABC_GAN \n",
    "ABC_train_test2.training_GAN(disc,gen,disc_opt,gen_opt,train_data,batch_size,n_epochs,criterion,prior_model,variance,bias,device)"
   ]
  },
  {
   "cell_type": "code",
   "execution_count": 13,
   "id": "1fa7c368",
   "metadata": {
    "execution": {
     "iopub.execute_input": "2022-06-22T13:29:24.661667Z",
     "iopub.status.busy": "2022-06-22T13:29:24.660612Z",
     "iopub.status.idle": "2022-06-22T13:29:25.478730Z",
     "shell.execute_reply": "2022-06-22T13:29:25.479458Z"
    },
    "papermill": {
     "duration": 0.880951,
     "end_time": "2022-06-22T13:29:25.480294",
     "exception": false,
     "start_time": "2022-06-22T13:29:24.599343",
     "status": "completed"
    },
    "tags": []
   },
   "outputs": [
    {
     "data": {
      "application/scrapbook.scrap.json+json": {
       "data": 0.29612523959313447,
       "encoder": "json",
       "name": "ABC-GAN Model 1 MSE",
       "version": 1
      }
     },
     "metadata": {
      "scrapbook": {
       "data": true,
       "display": false,
       "name": "ABC-GAN Model 1 MSE"
      }
     },
     "output_type": "display_data"
    },
    {
     "data": {
      "application/scrapbook.scrap.json+json": {
       "data": 0.4426495764227584,
       "encoder": "json",
       "name": "ABC-GAN Model 1 MAE",
       "version": 1
      }
     },
     "metadata": {
      "scrapbook": {
       "data": true,
       "display": false,
       "name": "ABC-GAN Model 1 MAE"
      }
     },
     "output_type": "display_data"
    },
    {
     "data": {
      "application/scrapbook.scrap.json+json": {
       "data": 8.852991528455169,
       "encoder": "json",
       "name": "ABC-GAN Model 1 Manhattan Distance",
       "version": 1
      }
     },
     "metadata": {
      "scrapbook": {
       "data": true,
       "display": false,
       "name": "ABC-GAN Model 1 Manhattan Distance"
      }
     },
     "output_type": "display_data"
    },
    {
     "data": {
      "application/scrapbook.scrap.json+json": {
       "data": 2.4335767092665055,
       "encoder": "json",
       "name": "ABC-GAN Model 1 Euclidean distance",
       "version": 1
      }
     },
     "metadata": {
      "scrapbook": {
       "data": true,
       "display": false,
       "name": "ABC-GAN Model 1 Euclidean distance"
      }
     },
     "output_type": "display_data"
    },
    {
     "data": {
      "application/scrapbook.scrap.json+json": {
       "data": [
        [
         0.2981194889067454,
         0.2966265066326345,
         0.2956911593983656,
         0.29644164320883737,
         0.29699984548659597,
         0.28882420533570796,
         0.28751186731092215,
         0.3011570625894004,
         0.296079926794247,
         0.3002770842776001,
         0.3015470867365195,
         0.2982838650556241,
         0.2933330542396159,
         0.29531644057695905,
         0.29668698034980723,
         0.2976720007676663,
         0.298052880898075,
         0.2970323192944583,
         0.2976128827895968,
         0.299375294350299,
         0.29560309408305085,
         0.295838954425376,
         0.30112905957132097,
         0.29541908162995084,
         0.30342827437359376,
         0.2964329446424213,
         0.29727780318163455,
         0.2987185708328012,
         0.29966847134863456,
         0.2987932715975337,
         0.29466026532108736,
         0.2930797894739844,
         0.29819269840202967,
         0.2990654307922161,
         0.2936680024193693,
         0.2995198472244837,
         0.30081504420907856,
         0.29210133932466825,
         0.29579557518877464,
         0.29841242571414595,
         0.30014471077733645,
         0.29242777059803743,
         0.2949778768841723,
         0.30086078692096707,
         0.2956715829092056,
         0.29094442088759853,
         0.2978312846419361,
         0.29494060620231016,
         0.29784246906172995,
         0.294599730250906,
         0.30150056520260554,
         0.2927151310259352,
         0.29407327484519624,
         0.29416235409602876,
         0.2938351195692711,
         0.29311377956999896,
         0.2940289539684596,
         0.29016669231485154,
         0.29297357340124464,
         0.29408000454780064,
         0.29558432846253246,
         0.29346222794405313,
         0.29325996057231196,
         0.29512967253885863,
         0.2972156713399388,
         0.30346366072231523,
         0.28948376981701246,
         0.29465242249792734,
         0.29613843939388246,
         0.29451463795186505,
         0.293216451937729,
         0.28840020810086625,
         0.2946253572907046,
         0.29761893538283446,
         0.3025734173331083,
         0.29815707851945306,
         0.30664509841482607,
         0.29781924933373954,
         0.3008267557933331,
         0.29629675806446965,
         0.2949623373945516,
         0.3011754187218275,
         0.29988749008555715,
         0.29935289176653207,
         0.2895354335302643,
         0.2978088810505267,
         0.2948816825941099,
         0.29529217379826533,
         0.29058734779658435,
         0.2958149208026232,
         0.2948955011580223,
         0.28836209925762407,
         0.2953678000608018,
         0.2942375302363981,
         0.29339723201928436,
         0.29473032961838747,
         0.29470114036962136,
         0.29529316309976866,
         0.2929683534057721,
         0.2990359047037395
        ],
        [
         0.4479272386059165,
         0.4420401997864246,
         0.44406296629458664,
         0.44387640692293645,
         0.444822003133595,
         0.43717726320028305,
         0.43336895052343605,
         0.44547976013273,
         0.4417683890089393,
         0.44605003129690884,
         0.44774006232619284,
         0.4433137871325016,
         0.43908416852355003,
         0.4413265250623226,
         0.44461051262915136,
         0.4446210376918316,
         0.4435196751728654,
         0.44580816850066185,
         0.4431698886677623,
         0.4460417591035366,
         0.4406256336718798,
         0.44318548757582904,
         0.4435797279700637,
         0.44215659219771625,
         0.44908228907734155,
         0.4438490988686681,
         0.44205473698675635,
         0.4438846591860056,
         0.4470134457573295,
         0.44358097705990074,
         0.4430938819423318,
         0.43807443184778094,
         0.4446843294426799,
         0.4449977586045861,
         0.4400609452277422,
         0.44622303135693075,
         0.44717932771891356,
         0.44210739377886055,
         0.44382374435663224,
         0.44280886054039004,
         0.444373220205307,
         0.4376027677208185,
         0.44246589243412016,
         0.4476395506411791,
         0.4399875978007913,
         0.4405847001820803,
         0.4431452525779605,
         0.441634769923985,
         0.44321623295545576,
         0.44403951801359653,
         0.44801927991211415,
         0.4387414621189237,
         0.44043614994734526,
         0.4427869118750095,
         0.44249214306473733,
         0.4385807879269123,
         0.4436513431370258,
         0.4355102200061083,
         0.44231273178011177,
         0.44445656593889,
         0.4443472340703011,
         0.4387175302952528,
         0.4384234106168151,
         0.44360990170389414,
         0.43976554796099665,
         0.444920988753438,
         0.44132846836000683,
         0.4422211954370141,
         0.4417201720178127,
         0.4420000253245234,
         0.43783865086734297,
         0.43356886990368365,
         0.4404465839266777,
         0.4421143848448992,
         0.4473408255726099,
         0.4430610558018088,
         0.4509493801742792,
         0.4451576082035899,
         0.4495654569938779,
         0.44192566480487583,
         0.44033451434224846,
         0.4455188674852252,
         0.4447253866121173,
         0.44498356003314254,
         0.43800847344100474,
         0.4455826489254832,
         0.4425329457968473,
         0.44114956464618443,
         0.4417211012914777,
         0.4439962521195412,
         0.4408290384337306,
         0.4361881708726287,
         0.44140426311641934,
         0.44054991882294414,
         0.4394316399469972,
         0.4434534296393394,
         0.43905823193490506,
         0.4426268978044391,
         0.43951277490705254,
         0.4447747614234686
        ],
        [
         8.95854477211833,
         8.840803995728493,
         8.881259325891733,
         8.877528138458729,
         8.8964400626719,
         8.743545264005661,
         8.667379010468721,
         8.9095952026546,
         8.835367780178785,
         8.921000625938177,
         8.954801246523857,
         8.866275742650032,
         8.781683370471,
         8.826530501246452,
         8.892210252583027,
         8.892420753836632,
         8.870393503457308,
         8.916163370013237,
         8.863397773355246,
         8.920835182070732,
         8.812512673437595,
         8.86370975151658,
         8.871594559401274,
         8.843131843954325,
         8.981645781546831,
         8.876981977373362,
         8.841094739735126,
         8.877693183720112,
         8.94026891514659,
         8.871619541198015,
         8.861877638846636,
         8.761488636955619,
         8.893686588853598,
         8.899955172091722,
         8.801218904554844,
         8.924460627138615,
         8.943586554378271,
         8.842147875577211,
         8.876474887132645,
         8.8561772108078,
         8.88746440410614,
         8.75205535441637,
         8.849317848682404,
         8.952791012823582,
         8.799751956015825,
         8.811694003641605,
         8.86290505155921,
         8.8326953984797,
         8.864324659109116,
         8.88079036027193,
         8.960385598242283,
         8.774829242378473,
         8.808722998946905,
         8.85573823750019,
         8.849842861294746,
         8.771615758538246,
         8.873026862740517,
         8.710204400122166,
         8.846254635602236,
         8.8891313187778,
         8.886944681406021,
         8.774350605905056,
         8.768468212336302,
         8.872198034077883,
         8.795310959219933,
         8.89841977506876,
         8.826569367200136,
         8.844423908740282,
         8.834403440356255,
         8.840000506490469,
         8.756773017346859,
         8.671377398073673,
         8.808931678533554,
         8.842287696897984,
         8.946816511452198,
         8.861221116036177,
         9.018987603485584,
         8.903152164071798,
         8.991309139877558,
         8.838513296097517,
         8.806690286844969,
         8.910377349704504,
         8.894507732242346,
         8.899671200662851,
         8.760169468820095,
         8.911652978509665,
         8.850658915936947,
         8.822991292923689,
         8.834422025829554,
         8.879925042390823,
         8.816580768674612,
         8.723763417452574,
         8.828085262328386,
         8.810998376458883,
         8.788632798939943,
         8.869068592786789,
         8.781164638698101,
         8.852537956088781,
         8.79025549814105,
         8.895495228469372
        ],
        [
         2.4418005197261525,
         2.4356785774507874,
         2.431835353795012,
         2.434919477965698,
         2.4372108874145297,
         2.403431735397151,
         2.397965251253329,
         2.454208885117159,
         2.4334334870476613,
         2.4506206735339524,
         2.4557975760901773,
         2.442473602951009,
         2.422119131007457,
         2.4302939763615394,
         2.4359268476282585,
         2.4399672160406842,
         2.441527722136593,
         2.437344125454829,
         2.4397249139589356,
         2.4469380635819085,
         2.431473191639385,
         2.4324430288307926,
         2.4540947804488766,
         2.4307162797412243,
         2.46344585641168,
         2.434883753456913,
         2.438351095234788,
         2.4442527317476856,
         2.4481359085991716,
         2.4445583306500738,
         2.4275924918366645,
         2.421073272224467,
         2.442100318996047,
         2.445671403897981,
         2.4235016089095933,
         2.4475287423214613,
         2.45281488991354,
         2.4170285034507484,
         2.432264686208204,
         2.442999900590035,
         2.450080450831509,
         2.4183786742279936,
         2.4289004791640694,
         2.4530013735053924,
         2.431754851580256,
         2.4122372225284914,
         2.440619940269013,
         2.4287470275938996,
         2.4406657659816102,
         2.4273431164584296,
         2.4556081332435986,
         2.419566618326246,
         2.4251732921389193,
         2.4255405751956767,
         2.4241910798007287,
         2.4212136608320995,
         2.4249905318102156,
         2.4090109684883196,
         2.420634517647159,
         2.4252010413481218,
         2.4313960124279737,
         2.422652380941406,
         2.421817336515337,
         2.4295253550389573,
         2.438096271027618,
         2.4635894979574626,
         2.4061744318191582,
         2.427560184621289,
         2.4336739280104163,
         2.426992533782768,
         2.4216376770182984,
         2.401666954849761,
         2.427448690665591,
         2.4397497223397093,
         2.4599732410459603,
         2.4419544570669336,
         2.4764696582628507,
         2.440570627266253,
         2.4528626369747375,
         2.434324374706336,
         2.4288365008561263,
         2.454283678476584,
         2.449030379907759,
         2.4468465083308026,
         2.4063891353239786,
         2.440528143867744,
         2.428504406395467,
         2.4301941231031945,
         2.4107565111250215,
         2.4323442223609026,
         2.428561307268245,
         2.401508272971901,
         2.4305052975083266,
         2.4258504910088674,
         2.422384081929554,
         2.4278810910684547,
         2.4277608628924776,
         2.4301981939741815,
         2.420612952976052,
         2.445550672972202
        ]
       ],
       "encoder": "json",
       "name": "ABC_GAN_1 Metrics",
       "version": 1
      }
     },
     "metadata": {
      "scrapbook": {
       "data": true,
       "display": false,
       "name": "ABC_GAN_1 Metrics"
      }
     },
     "output_type": "display_data"
    },
    {
     "name": "stdout",
     "output_type": "stream",
     "text": [
      "MSE\n",
      "0.29612523959313447\n"
     ]
    }
   ],
   "source": [
    "ABC_GAN1_metrics=ABC_train_test2.test_generator(gen,test_data,prior_model,variance,bias,\"1\",device)\n",
    "sb.glue(\"ABC_GAN_1 Metrics\",ABC_GAN1_metrics)\n",
    "\n",
    "print(\"MSE\")\n",
    "print(mean(ABC_GAN1_metrics[0]))"
   ]
  },
  {
   "cell_type": "code",
   "execution_count": 14,
   "id": "eb22ce5c",
   "metadata": {
    "execution": {
     "iopub.execute_input": "2022-06-22T13:29:25.708528Z",
     "iopub.status.busy": "2022-06-22T13:29:25.702854Z",
     "iopub.status.idle": "2022-06-22T13:29:26.517739Z",
     "shell.execute_reply": "2022-06-22T13:29:26.518309Z"
    },
    "papermill": {
     "duration": 0.980471,
     "end_time": "2022-06-22T13:29:26.518550",
     "exception": false,
     "start_time": "2022-06-22T13:29:25.538079",
     "status": "completed"
    },
    "tags": []
   },
   "outputs": [
    {
     "data": {
      "image/png": "[encoded data removed]",
      "text/plain": [
       "<Figure size 432x288 with 1 Axes>"
      ]
     },
     "metadata": {
      "needs_background": "light"
     },
     "output_type": "display_data"
    },
    {
     "data": {
      "image/png": "[encoded data removed]",
      "text/plain": [
       "<Figure size 432x288 with 1 Axes>"
      ]
     },
     "metadata": {
      "needs_background": "light"
     },
     "output_type": "display_data"
    },
    {
     "data": {
      "image/png": "[encoded data removed]",
      "text/plain": [
       "<Figure size 432x288 with 1 Axes>"
      ]
     },
     "metadata": {
      "needs_background": "light"
     },
     "output_type": "display_data"
    },
    {
     "data": {
      "image/png": "[encoded data removed]",
      "text/plain": [
       "<Figure size 432x288 with 1 Axes>"
      ]
     },
     "metadata": {
      "needs_background": "light"
     },
     "output_type": "display_data"
    }
   ],
   "source": [
    "sanityChecks.discProbVsError(train_data,disc,device)\n",
    "sanityChecks.discProbVsError(test_data,disc,device)"
   ]
  },
  {
   "cell_type": "markdown",
   "id": "130f3a4d",
   "metadata": {
    "id": "130f3a4d",
    "papermill": {
     "duration": 0.055872,
     "end_time": "2022-06-22T13:29:26.630105",
     "exception": false,
     "start_time": "2022-06-22T13:29:26.574233",
     "status": "completed"
    },
    "tags": []
   },
   "source": [
    "# ABC - GAN Model with skip connection"
   ]
  },
  {
   "cell_type": "code",
   "execution_count": 15,
   "id": "4e43dad1",
   "metadata": {
    "execution": {
     "iopub.execute_input": "2022-06-22T13:29:26.753699Z",
     "iopub.status.busy": "2022-06-22T13:29:26.752521Z",
     "iopub.status.idle": "2022-06-22T13:29:26.755527Z",
     "shell.execute_reply": "2022-06-22T13:29:26.756023Z"
    },
    "id": "4e43dad1",
    "papermill": {
     "duration": 0.072547,
     "end_time": "2022-06-22T13:29:26.756256",
     "exception": false,
     "start_time": "2022-06-22T13:29:26.683709",
     "status": "completed"
    },
    "tags": []
   },
   "outputs": [],
   "source": [
    "#Generator\n",
    "gen3 = network.GeneratorWithSkipConnection(n_features+1).to(device)\n",
    "constraints=network.weightConstraint()\n",
    "#Discriminator \n",
    "disc3 = network.Discriminator(n_features+1).to(device)\n",
    "\n",
    "criterion = torch.nn.BCELoss()\n",
    "gen_opt = torch.optim.Adam(gen3.parameters(), lr=0.001, betas=(0.5, 0.999))\n",
    "disc_opt = torch.optim.Adam(disc3.parameters(), lr=0.001, betas=(0.5, 0.999))\n"
   ]
  },
  {
   "cell_type": "code",
   "execution_count": 16,
   "id": "26acbc37",
   "metadata": {
    "execution": {
     "iopub.execute_input": "2022-06-22T13:29:26.883877Z",
     "iopub.status.busy": "2022-06-22T13:29:26.880085Z",
     "iopub.status.idle": "2022-06-22T13:30:51.398793Z",
     "shell.execute_reply": "2022-06-22T13:30:51.403327Z"
    },
    "id": "26acbc37",
    "papermill": {
     "duration": 84.596538,
     "end_time": "2022-06-22T13:30:51.403817",
     "exception": false,
     "start_time": "2022-06-22T13:29:26.807279",
     "status": "completed"
    },
    "tags": []
   },
   "outputs": [
    {
     "data": {
      "image/png": "[encoded data removed]",
      "text/plain": [
       "<Figure size 432x288 with 1 Axes>"
      ]
     },
     "metadata": {
      "needs_background": "light"
     },
     "output_type": "display_data"
    },
    {
     "data": {
      "image/png": "[encoded data removed]",
      "text/plain": [
       "<Figure size 432x288 with 1 Axes>"
      ]
     },
     "metadata": {
      "needs_background": "light"
     },
     "output_type": "display_data"
    }
   ],
   "source": [
    "ABC_train_test2.training_GAN_skip_connection(disc3,gen3,disc_opt,gen_opt,train_data,batch_size,n_epochs,criterion,prior_model,variance,bias,device)"
   ]
  },
  {
   "cell_type": "code",
   "execution_count": 17,
   "id": "c5e0717b",
   "metadata": {
    "execution": {
     "iopub.execute_input": "2022-06-22T13:30:51.588097Z",
     "iopub.status.busy": "2022-06-22T13:30:51.586854Z",
     "iopub.status.idle": "2022-06-22T13:30:52.753233Z",
     "shell.execute_reply": "2022-06-22T13:30:52.754104Z"
    },
    "id": "c5e0717b",
    "papermill": {
     "duration": 1.264838,
     "end_time": "2022-06-22T13:30:52.754327",
     "exception": false,
     "start_time": "2022-06-22T13:30:51.489489",
     "status": "completed"
    },
    "tags": []
   },
   "outputs": [
    {
     "data": {
      "application/scrapbook.scrap.json+json": {
       "data": 0.1378856468248263,
       "encoder": "json",
       "name": "ABC-GAN Model 3 MSE",
       "version": 1
      }
     },
     "metadata": {
      "scrapbook": {
       "data": true,
       "display": false,
       "name": "ABC-GAN Model 3 MSE"
      }
     },
     "output_type": "display_data"
    },
    {
     "data": {
      "application/scrapbook.scrap.json+json": {
       "data": 0.29663219254822254,
       "encoder": "json",
       "name": "ABC-GAN Model 3 MAE",
       "version": 1
      }
     },
     "metadata": {
      "scrapbook": {
       "data": true,
       "display": false,
       "name": "ABC-GAN Model 3 MAE"
      }
     },
     "output_type": "display_data"
    },
    {
     "data": {
      "application/scrapbook.scrap.json+json": {
       "data": 5.932643850964451,
       "encoder": "json",
       "name": "ABC-GAN Model 3 Manhattan Distance",
       "version": 1
      }
     },
     "metadata": {
      "scrapbook": {
       "data": true,
       "display": false,
       "name": "ABC-GAN Model 3 Manhattan Distance"
      }
     },
     "output_type": "display_data"
    },
    {
     "data": {
      "application/scrapbook.scrap.json+json": {
       "data": 1.66060156258066,
       "encoder": "json",
       "name": "ABC-GAN Model 3 Euclidean distance",
       "version": 1
      }
     },
     "metadata": {
      "scrapbook": {
       "data": true,
       "display": false,
       "name": "ABC-GAN Model 3 Euclidean distance"
      }
     },
     "output_type": "display_data"
    },
    {
     "data": {
      "application/scrapbook.scrap.json+json": {
       "data": [
        [
         0.14067706475678288,
         0.13399446655129738,
         0.14091870170346218,
         0.13437033813778448,
         0.13914507663825945,
         0.13665503259437672,
         0.13755235004595487,
         0.13990845391269763,
         0.13655774431866485,
         0.13904929252637657,
         0.13958056054797002,
         0.13980976979177345,
         0.13668390961583887,
         0.1395612663024571,
         0.13830873567853708,
         0.1345084533799455,
         0.1355599452337804,
         0.13677139516675196,
         0.1417153809807997,
         0.13585037733869623,
         0.13589982970008868,
         0.13807631952771743,
         0.13792428287517516,
         0.1359296233647736,
         0.1370433756046438,
         0.1395963327407756,
         0.13878475353705758,
         0.13451703357142572,
         0.1353255895837461,
         0.13638442395342293,
         0.13836778248015472,
         0.13713038069872555,
         0.1364766169460793,
         0.138591226234259,
         0.14027630445235378,
         0.13842946012127552,
         0.13747955201977957,
         0.13575152760880976,
         0.13926502204803975,
         0.1380981540481451,
         0.14060640909635375,
         0.1401651007420162,
         0.13611944275955407,
         0.137518931469494,
         0.13528270413749016,
         0.13835242928066482,
         0.13534957021600652,
         0.13701421884960174,
         0.13718181555363515,
         0.1387814267764028,
         0.13730895012737604,
         0.136477270719591,
         0.13859711000427216,
         0.13934443209705227,
         0.1364534042567993,
         0.14010418742635974,
         0.13628143885599303,
         0.13961273854289832,
         0.13665383324782887,
         0.14270198932309808,
         0.13672756081660498,
         0.13968145154701853,
         0.13973517602797303,
         0.13849355241745132,
         0.13824184509919935,
         0.13914921238864322,
         0.13542668582215037,
         0.13598964517684728,
         0.13974925464034677,
         0.13459191575535523,
         0.13769932166018592,
         0.1411812149608279,
         0.13965677923841194,
         0.13752552910304333,
         0.13708386077035703,
         0.13873053948572664,
         0.1397538328239945,
         0.1380537647629708,
         0.13869842572639782,
         0.1389011516639202,
         0.1365045435094156,
         0.1378122322414892,
         0.1400911402826471,
         0.13540552610095732,
         0.137391670922714,
         0.13766401709630594,
         0.13786958855062478,
         0.13948520812534823,
         0.1369228355998266,
         0.13954416433371866,
         0.13633520471014493,
         0.138459624882986,
         0.13902470940248998,
         0.13733079925340014,
         0.13535854196321623,
         0.13994949623497016,
         0.13735820962327736,
         0.13858273579506442,
         0.13931616320042264,
         0.1366542409450388
        ],
        [
         0.30123443956836127,
         0.2907377274474129,
         0.2985720915254205,
         0.2944362263660878,
         0.29864053525961937,
         0.29399957398418336,
         0.2968084169348003,
         0.2983173480723053,
         0.296401189500466,
         0.2980035708169453,
         0.29782838106621057,
         0.3009610097971745,
         0.2941870002658106,
         0.2975136431399733,
         0.29914651811122894,
         0.2932180735748261,
         0.2934845917858183,
         0.29556662067770956,
         0.29955732451926453,
         0.2957117251120508,
         0.2920707958517596,
         0.2951795944245532,
         0.2992694653570652,
         0.2946466701047029,
         0.29689770098775625,
         0.29949949148576704,
         0.296019424777478,
         0.2927238318370655,
         0.2923197912517935,
         0.2952936674002558,
         0.2960197181557305,
         0.2960068937856704,
         0.29583715353619483,
         0.2957634203368798,
         0.3002007558941841,
         0.294349213084206,
         0.29585153427906336,
         0.2962935390416533,
         0.29952928172424437,
         0.2970389703521505,
         0.2984806172607932,
         0.299678645725362,
         0.29412218297366055,
         0.2967039658920839,
         0.29359056130051614,
         0.2990985026117414,
         0.29321208911715074,
         0.29507934661814944,
         0.2966986225917935,
         0.29750582445412876,
         0.2990290599875152,
         0.29346549038309605,
         0.29598928298801186,
         0.29886789098381994,
         0.294473775383085,
         0.2997980918735266,
         0.2920326906722039,
         0.29783250046893955,
         0.2946617103647441,
         0.30063114350195974,
         0.2957043775531929,
         0.2985909160692245,
         0.29649202767759564,
         0.2977462366223335,
         0.29852884681895375,
         0.2998021287145093,
         0.29377765525641736,
         0.29421318660024554,
         0.2985511675942689,
         0.2941691581479972,
         0.2956209492665948,
         0.30083381244912744,
         0.2967510828282684,
         0.2960036185802892,
         0.2961758450837806,
         0.29787930015008895,
         0.2961197429569438,
         0.29735460445517675,
         0.2989304956514388,
         0.29503785294946283,
         0.29630805130582305,
         0.2974414769094437,
         0.29798210635781286,
         0.2951746408827603,
         0.29640802666544913,
         0.2964520087931305,
         0.29573969503398984,
         0.2965215809381334,
         0.29581164300907403,
         0.2985796426888555,
         0.296226027328521,
         0.2986877091694623,
         0.29838174721226096,
         0.2966263888869435,
         0.29461107128299774,
         0.3006281207781285,
         0.2966579021885991,
         0.29883667347021403,
         0.298724927729927,
         0.29304789241869
        ],
        [
         6.024688791367225,
         5.814754548948258,
         5.971441830508411,
         5.888724527321756,
         5.972810705192387,
         5.879991479683667,
         5.936168338696007,
         5.966346961446106,
         5.92802379000932,
         5.960071416338906,
         5.956567621324211,
         6.01922019594349,
         5.883740005316213,
         5.950272862799466,
         5.982930362224579,
         5.864361471496522,
         5.869691835716367,
         5.911332413554192,
         5.99114649038529,
         5.914234502241015,
         5.841415917035192,
         5.903591888491064,
         5.985389307141304,
         5.892933402094059,
         5.937954019755125,
         5.989989829715341,
         5.92038849554956,
         5.85447663674131,
         5.84639582503587,
         5.905873348005116,
         5.92039436311461,
         5.920137875713408,
         5.916743070723896,
         5.915268406737596,
         6.004015117883682,
         5.88698426168412,
         5.917030685581267,
         5.9258707808330655,
         5.990585634484887,
         5.94077940704301,
         5.9696123452158645,
         5.99357291450724,
         5.882443659473211,
         5.934079317841679,
         5.871811226010323,
         5.9819700522348285,
         5.864241782343015,
         5.901586932362989,
         5.933972451835871,
         5.950116489082575,
         5.980581199750304,
         5.869309807661921,
         5.919785659760237,
         5.977357819676399,
         5.8894755076617,
         5.9959618374705315,
         5.840653813444078,
         5.956650009378791,
         5.893234207294881,
         6.012622870039195,
         5.914087551063858,
         5.9718183213844895,
         5.929840553551912,
         5.9549247324466705,
         5.970576936379075,
         5.996042574290186,
         5.875553105128347,
         5.884263732004911,
         5.971023351885378,
         5.8833831629599445,
         5.912418985331897,
         6.016676248982549,
         5.935021656565368,
         5.920072371605784,
         5.923516901675612,
         5.957586003001779,
         5.922394859138876,
         5.947092089103535,
         5.978609913028777,
         5.900757058989257,
         5.926161026116461,
         5.948829538188875,
         5.959642127156258,
         5.903492817655206,
         5.928160533308983,
         5.92904017586261,
         5.914793900679797,
         5.930431618762668,
         5.916232860181481,
         5.971592853777111,
         5.92452054657042,
         5.9737541833892465,
         5.967634944245219,
         5.932527777738869,
         5.8922214256599545,
         6.01256241556257,
         5.933158043771982,
         5.97673346940428,
         5.97449855459854,
         5.8609578483738005
        ],
        [
         1.6773614086223807,
         1.6370367531078671,
         1.678801368259284,
         1.639331193735936,
         1.6682030849885123,
         1.6532091978595855,
         1.6586280477910342,
         1.672772871089782,
         1.6526206117476863,
         1.667628810775207,
         1.6708115426221475,
         1.6721828236874905,
         1.6533838611516618,
         1.6706960603440537,
         1.6631821047530368,
         1.6401734870430351,
         1.6465718644127285,
         1.6539129068167522,
         1.6835402043360872,
         1.6483347799442698,
         1.6486347667090409,
         1.6617840986585317,
         1.660868946516703,
         1.6488154739980674,
         1.6555565565974713,
         1.6709059383506637,
         1.6660417373947003,
         1.6402257989156597,
         1.6451479543417737,
         1.651571517999889,
         1.6635370899391135,
         1.6560820070197342,
         1.652129637444225,
         1.6648797327990932,
         1.674970474082178,
         1.6639078106750718,
         1.658189084632869,
         1.6477349763163358,
         1.6689219397445754,
         1.6619154855054759,
         1.6769401247292863,
         1.6743064279994642,
         1.6499663194111212,
         1.658426552304889,
         1.6448872553308338,
         1.6634447948799793,
         1.6452937136937376,
         1.6553804327078516,
         1.6563925594715472,
         1.666021769223937,
         1.6571599206315366,
         1.6521335945957338,
         1.664915072934786,
         1.6693976883717812,
         1.6519891298480103,
         1.6739425762334845,
         1.6509478420349506,
         1.6710041205388952,
         1.6532019431867897,
         1.6893903594083761,
         1.6536478513674244,
         1.67141527782307,
         1.6717366779967058,
         1.6642929574894638,
         1.6627798717761733,
         1.6682278764523941,
         1.645762351143994,
         1.6491794637142878,
         1.6718208913657393,
         1.6406822712235007,
         1.659513914736396,
         1.6803643352608262,
         1.6712676580273547,
         1.6584663343163968,
         1.6558010796611835,
         1.665716299288247,
         1.6718482755560955,
         1.6616483669114281,
         1.6655234956397214,
         1.6667402416928696,
         1.6522986625269391,
         1.6601941587747453,
         1.6738646318185177,
         1.6456337751818133,
         1.6576590175468175,
         1.6593011607077597,
         1.660539602361984,
         1.6702407498642122,
         1.6548283028751145,
         1.6705936928751925,
         1.6512734765031802,
         1.6640890894599725,
         1.6674813906157393,
         1.657291762203627,
         1.645348242550593,
         1.6730182081195062,
         1.6574571464944567,
         1.6648287347055517,
         1.6692283438788273,
         1.6532044092914753
        ]
       ],
       "encoder": "json",
       "name": "ABC_GAN_3 Metrics",
       "version": 1
      }
     },
     "metadata": {
      "scrapbook": {
       "data": true,
       "display": false,
       "name": "ABC_GAN_3 Metrics"
      }
     },
     "output_type": "display_data"
    },
    {
     "name": "stdout",
     "output_type": "stream",
     "text": [
      "MSE\n",
      "0.1378856468248263\n"
     ]
    }
   ],
   "source": [
    "ABC_GAN3_metrics=ABC_train_test2.test_generator(gen3,test_data,prior_model,variance,bias,\"3\",device)\n",
    "sb.glue(\"ABC_GAN_3 Metrics\",ABC_GAN3_metrics)\n",
    "\n",
    "print(\"MSE\")\n",
    "print(mean(ABC_GAN3_metrics[0]))"
   ]
  },
  {
   "cell_type": "code",
   "execution_count": 18,
   "id": "c8e46b48",
   "metadata": {
    "execution": {
     "iopub.execute_input": "2022-06-22T13:30:52.902023Z",
     "iopub.status.busy": "2022-06-22T13:30:52.898519Z",
     "iopub.status.idle": "2022-06-22T13:30:54.245063Z",
     "shell.execute_reply": "2022-06-22T13:30:54.246424Z"
    },
    "id": "c8e46b48",
    "papermill": {
     "duration": 1.419356,
     "end_time": "2022-06-22T13:30:54.246745",
     "exception": false,
     "start_time": "2022-06-22T13:30:52.827389",
     "status": "completed"
    },
    "tags": []
   },
   "outputs": [
    {
     "data": {
      "image/png": "[encoded data removed]",
      "text/plain": [
       "<Figure size 432x288 with 1 Axes>"
      ]
     },
     "metadata": {
      "needs_background": "light"
     },
     "output_type": "display_data"
    },
    {
     "data": {
      "image/png": "[encoded data removed]",
      "text/plain": [
       "<Figure size 432x288 with 1 Axes>"
      ]
     },
     "metadata": {
      "needs_background": "light"
     },
     "output_type": "display_data"
    },
    {
     "data": {
      "image/png": "[encoded data removed]",
      "text/plain": [
       "<Figure size 432x288 with 1 Axes>"
      ]
     },
     "metadata": {
      "needs_background": "light"
     },
     "output_type": "display_data"
    },
    {
     "data": {
      "image/png": "[encoded data removed]",
      "text/plain": [
       "<Figure size 432x288 with 1 Axes>"
      ]
     },
     "metadata": {
      "needs_background": "light"
     },
     "output_type": "display_data"
    }
   ],
   "source": [
    "sanityChecks.discProbVsError(train_data,disc3,device)\n",
    "sanityChecks.discProbVsError(test_data,disc3,device)"
   ]
  },
  {
   "cell_type": "markdown",
   "id": "a5bd74c3",
   "metadata": {
    "id": "a5bd74c3",
    "papermill": {
     "duration": 0.123839,
     "end_time": "2022-06-22T13:30:54.463081",
     "exception": false,
     "start_time": "2022-06-22T13:30:54.339242",
     "status": "completed"
    },
    "tags": []
   },
   "source": [
    "## Skip Connection Model Analysis - ABC-GAN "
   ]
  },
  {
   "cell_type": "markdown",
   "id": "5744a8bf",
   "metadata": {
    "id": "5744a8bf",
    "papermill": {
     "duration": 0.065912,
     "end_time": "2022-06-22T13:30:54.597606",
     "exception": false,
     "start_time": "2022-06-22T13:30:54.531694",
     "status": "completed"
    },
    "tags": []
   },
   "source": [
    "### Weight Analysis \n",
    "\n",
    "Study the weights of the skip connection layer\n",
    "\n",
    "Equation of the skip connection is \n",
    "\n",
    "$output = y_{gan} * w + y_{abc} * (1-w)$"
   ]
  },
  {
   "cell_type": "code",
   "execution_count": 19,
   "id": "52c31dea",
   "metadata": {
    "execution": {
     "iopub.execute_input": "2022-06-22T13:30:54.753073Z",
     "iopub.status.busy": "2022-06-22T13:30:54.752046Z",
     "iopub.status.idle": "2022-06-22T13:30:54.759715Z",
     "shell.execute_reply": "2022-06-22T13:30:54.760323Z"
    },
    "id": "52c31dea",
    "papermill": {
     "duration": 0.094822,
     "end_time": "2022-06-22T13:30:54.760663",
     "exception": false,
     "start_time": "2022-06-22T13:30:54.665841",
     "status": "completed"
    },
    "tags": []
   },
   "outputs": [
    {
     "name": "stdout",
     "output_type": "stream",
     "text": [
      "Weight of the node at skip connection\n",
      "Parameter containing:\n",
      "tensor([[0.]], requires_grad=True)\n"
     ]
    },
    {
     "data": {
      "application/scrapbook.scrap.json+json": {
       "data": 0.0,
       "encoder": "json",
       "name": "Skip Connection Weight",
       "version": 1
      }
     },
     "metadata": {
      "scrapbook": {
       "data": true,
       "display": false,
       "name": "Skip Connection Weight"
      }
     },
     "output_type": "display_data"
    }
   ],
   "source": [
    "print(\"Weight of the node at skip connection\")\n",
    "for name,param in gen3.named_parameters():\n",
    "    if(name == \"skipNode.weight\"):\n",
    "        print(param)\n",
    "        sb.glue(\"Skip Connection Weight\",param.item())"
   ]
  }
 ],
 "metadata": {
  "colab": {
   "collapsed_sections": [],
   "name": "ABC_GAN_Model-Catboost_Pre-gen.ipynb",
   "provenance": []
  },
  "interpreter": {
   "hash": "31f2aee4e71d21fbe5cf8b01ff0e069b9275f58929596ceb00d14d90e3e16cd6"
  },
  "kernelspec": {
   "display_name": "Python 3 (ipykernel)",
   "language": "python",
   "name": "python3"
  },
  "language_info": {
   "codemirror_mode": {
    "name": "ipython",
    "version": 3
   },
   "file_extension": ".py",
   "mimetype": "text/x-python",
   "name": "python",
   "nbconvert_exporter": "python",
   "pygments_lexer": "ipython3",
   "version": "3.8.3"
  },
  "papermill": {
   "default_parameters": {},
   "duration": 174.638482,
   "end_time": "2022-06-22T13:30:56.263486",
   "environment_variables": {},
   "exception": null,
   "input_path": "ABC_GAN-TabNet.ipynb",
   "output_path": "./ABC_GAN_TabNet/ABC-GAN_output_4_11.ipynb",
   "parameters": {
    "bias": 0,
    "variance": 0.01
   },
   "start_time": "2022-06-22T13:28:01.625004",
   "version": "2.3.3"
  }
 },
 "nbformat": 4,
 "nbformat_minor": 5
}