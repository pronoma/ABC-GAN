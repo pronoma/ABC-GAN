{
 "cells": [
  {
   "cell_type": "markdown",
   "id": "622780e6",
   "metadata": {
    "id": "622780e6",
    "papermill": {
     "duration": 0.024962,
     "end_time": "2022-06-22T15:20:25.832525",
     "exception": false,
     "start_time": "2022-06-22T15:20:25.807563",
     "status": "completed"
    },
    "tags": []
   },
   "source": [
    "## Import Libraries "
   ]
  },
  {
   "cell_type": "code",
   "execution_count": 1,
   "id": "a62397e3",
   "metadata": {
    "execution": {
     "iopub.execute_input": "2022-06-22T15:20:25.886979Z",
     "iopub.status.busy": "2022-06-22T15:20:25.884841Z",
     "iopub.status.idle": "2022-06-22T15:20:25.888396Z",
     "shell.execute_reply": "2022-06-22T15:20:25.888990Z"
    },
    "id": "a62397e3",
    "papermill": {
     "duration": 0.036884,
     "end_time": "2022-06-22T15:20:25.889317",
     "exception": false,
     "start_time": "2022-06-22T15:20:25.852433",
     "status": "completed"
    },
    "tags": []
   },
   "outputs": [],
   "source": [
    "import warnings\n",
    "import sys\n",
    "sys.path.insert(0, '../../src')\n",
    "warnings.filterwarnings('ignore')"
   ]
  },
  {
   "cell_type": "code",
   "execution_count": 2,
   "id": "d6a4e155",
   "metadata": {
    "execution": {
     "iopub.execute_input": "2022-06-22T15:20:25.933021Z",
     "iopub.status.busy": "2022-06-22T15:20:25.932118Z",
     "iopub.status.idle": "2022-06-22T15:20:31.651376Z",
     "shell.execute_reply": "2022-06-22T15:20:31.651945Z"
    },
    "id": "d6a4e155",
    "papermill": {
     "duration": 5.745631,
     "end_time": "2022-06-22T15:20:31.652209",
     "exception": false,
     "start_time": "2022-06-22T15:20:25.906578",
     "status": "completed"
    },
    "tags": []
   },
   "outputs": [],
   "source": [
    "import ABC_train_test2\n",
    "import friedman3Dataset\n",
    "import network\n",
    "import dataset\n",
    "import sanityChecks\n",
    "import torch \n",
    "import scrapbook as sb\n",
    "from statistics import mean \n",
    "import catboost as ctb \n",
    "from sklearn.model_selection import train_test_split\n",
    "from sklearn.metrics import mean_squared_error,mean_absolute_error\n",
    "import numpy as np\n",
    "from pytorch_tabnet.tab_model import TabNetRegressor"
   ]
  },
  {
   "cell_type": "markdown",
   "id": "2fa5b0f7",
   "metadata": {
    "id": "2fa5b0f7",
    "papermill": {
     "duration": 0.018341,
     "end_time": "2022-06-22T15:20:31.686835",
     "exception": false,
     "start_time": "2022-06-22T15:20:31.668494",
     "status": "completed"
    },
    "tags": []
   },
   "source": [
    "## Parameters "
   ]
  },
  {
   "cell_type": "code",
   "execution_count": 3,
   "id": "783186fb",
   "metadata": {
    "execution": {
     "iopub.execute_input": "2022-06-22T15:20:31.738686Z",
     "iopub.status.busy": "2022-06-22T15:20:31.737105Z",
     "iopub.status.idle": "2022-06-22T15:20:31.741210Z",
     "shell.execute_reply": "2022-06-22T15:20:31.741762Z"
    },
    "id": "783186fb",
    "papermill": {
     "duration": 0.027834,
     "end_time": "2022-06-22T15:20:31.742079",
     "exception": false,
     "start_time": "2022-06-22T15:20:31.714245",
     "status": "completed"
    },
    "tags": [
     "parameters"
    ]
   },
   "outputs": [],
   "source": [
    "variance = 1\n",
    "bias = 1 "
   ]
  },
  {
   "cell_type": "code",
   "execution_count": 4,
   "id": "0e584081",
   "metadata": {
    "execution": {
     "iopub.execute_input": "2022-06-22T15:20:31.777945Z",
     "iopub.status.busy": "2022-06-22T15:20:31.777060Z",
     "iopub.status.idle": "2022-06-22T15:20:31.780987Z",
     "shell.execute_reply": "2022-06-22T15:20:31.781591Z"
    },
    "papermill": {
     "duration": 0.024315,
     "end_time": "2022-06-22T15:20:31.781856",
     "exception": false,
     "start_time": "2022-06-22T15:20:31.757541",
     "status": "completed"
    },
    "tags": [
     "injected-parameters"
    ]
   },
   "outputs": [],
   "source": [
    "# Parameters\n",
    "variance = 1\n",
    "bias = 0.1\n"
   ]
  },
  {
   "cell_type": "markdown",
   "id": "391cdbfd",
   "metadata": {
    "id": "391cdbfd",
    "papermill": {
     "duration": 0.031003,
     "end_time": "2022-06-22T15:20:31.829684",
     "exception": false,
     "start_time": "2022-06-22T15:20:31.798681",
     "status": "completed"
    },
    "tags": []
   },
   "source": [
    "## Dataset \n"
   ]
  },
  {
   "cell_type": "code",
   "execution_count": 5,
   "id": "5b51f161",
   "metadata": {
    "execution": {
     "iopub.execute_input": "2022-06-22T15:20:31.883066Z",
     "iopub.status.busy": "2022-06-22T15:20:31.881810Z",
     "iopub.status.idle": "2022-06-22T15:20:31.883719Z",
     "shell.execute_reply": "2022-06-22T15:20:31.882566Z"
    },
    "id": "5b51f161",
    "papermill": {
     "duration": 0.030077,
     "end_time": "2022-06-22T15:20:31.884100",
     "exception": false,
     "start_time": "2022-06-22T15:20:31.854023",
     "status": "completed"
    },
    "tags": []
   },
   "outputs": [],
   "source": [
    "#Parameters \n",
    "n_features = 4\n",
    "n_samples= 100\n",
    "n_target = 1"
   ]
  },
  {
   "cell_type": "code",
   "execution_count": 6,
   "id": "5d6eced4",
   "metadata": {
    "execution": {
     "iopub.execute_input": "2022-06-22T15:20:31.946232Z",
     "iopub.status.busy": "2022-06-22T15:20:31.938977Z",
     "iopub.status.idle": "2022-06-22T15:20:31.955721Z",
     "shell.execute_reply": "2022-06-22T15:20:31.956372Z"
    },
    "id": "5d6eced4",
    "papermill": {
     "duration": 0.043893,
     "end_time": "2022-06-22T15:20:31.956618",
     "exception": false,
     "start_time": "2022-06-22T15:20:31.912725",
     "status": "completed"
    },
    "tags": []
   },
   "outputs": [
    {
     "name": "stdout",
     "output_type": "stream",
     "text": [
      "          X1           X2        X3        X4         Y\n",
      "0  13.924811  1574.169836  0.417547  2.757088  1.415915\n",
      "1  61.444317   457.732212  0.035279  8.894243  0.352230\n",
      "2  96.899294  1627.286138  0.054746  5.512850  0.671999\n",
      "3  10.901380  1624.818411  0.075413  8.032940  1.439659\n",
      "4   3.432003   604.195195  0.133203  4.971767  1.541005\n"
     ]
    }
   ],
   "source": [
    "X,Y = friedman3Dataset.friedman3_data(n_samples)"
   ]
  },
  {
   "cell_type": "code",
   "execution_count": 7,
   "id": "fe007438",
   "metadata": {
    "execution": {
     "iopub.execute_input": "2022-06-22T15:20:31.992790Z",
     "iopub.status.busy": "2022-06-22T15:20:31.992117Z",
     "iopub.status.idle": "2022-06-22T15:20:31.997899Z",
     "shell.execute_reply": "2022-06-22T15:20:31.998771Z"
    },
    "id": "fe007438",
    "papermill": {
     "duration": 0.026313,
     "end_time": "2022-06-22T15:20:31.998978",
     "exception": false,
     "start_time": "2022-06-22T15:20:31.972665",
     "status": "completed"
    },
    "tags": []
   },
   "outputs": [],
   "source": [
    "#Train test split for dataset \n",
    "X_train,X_test,Y_train,Y_test = train_test_split(X,Y,test_size = 0.2)\n",
    "train_data = dataset.CustomDataset(X_train,Y_train)\n",
    "test_data = dataset.CustomDataset(X_test,Y_test)\n"
   ]
  },
  {
   "cell_type": "markdown",
   "id": "a9a1af34",
   "metadata": {
    "id": "a9a1af34",
    "papermill": {
     "duration": 0.017521,
     "end_time": "2022-06-22T15:20:32.030175",
     "exception": false,
     "start_time": "2022-06-22T15:20:32.012654",
     "status": "completed"
    },
    "tags": []
   },
   "source": [
    "## Training Parameters "
   ]
  },
  {
   "cell_type": "code",
   "execution_count": 8,
   "id": "952b7fc8",
   "metadata": {
    "execution": {
     "iopub.execute_input": "2022-06-22T15:20:32.110273Z",
     "iopub.status.busy": "2022-06-22T15:20:32.095757Z",
     "iopub.status.idle": "2022-06-22T15:20:32.149760Z",
     "shell.execute_reply": "2022-06-22T15:20:32.150272Z"
    },
    "id": "952b7fc8",
    "papermill": {
     "duration": 0.103003,
     "end_time": "2022-06-22T15:20:32.150519",
     "exception": false,
     "start_time": "2022-06-22T15:20:32.047516",
     "status": "completed"
    },
    "tags": []
   },
   "outputs": [],
   "source": [
    "batch_size = 32\n",
    "n_epochs = 1000\n",
    "#Select the device \n",
    "device = torch.device('cuda' if torch.cuda.is_available() else 'cpu')"
   ]
  },
  {
   "cell_type": "markdown",
   "id": "a95e1600",
   "metadata": {
    "id": "a95e1600",
    "papermill": {
     "duration": 0.030191,
     "end_time": "2022-06-22T15:20:32.218278",
     "exception": false,
     "start_time": "2022-06-22T15:20:32.188087",
     "status": "completed"
    },
    "tags": []
   },
   "source": [
    "# ABC Pre-generator Model \n",
    "\n",
    "1. The catboost model is used as a pre-generator model for the ABC-GAN. \n",
    "2. The model is first trained on the entire dataset \n",
    "3. It generats X,Y pairs and we add some Gaussian noise with mean 0 and variance 1 to it which is then feed as input to the generator.\n"
   ]
  },
  {
   "cell_type": "code",
   "execution_count": 9,
   "id": "ff8ce7bd",
   "metadata": {
    "execution": {
     "iopub.execute_input": "2022-06-22T15:20:32.259986Z",
     "iopub.status.busy": "2022-06-22T15:20:32.256802Z",
     "iopub.status.idle": "2022-06-22T15:20:47.401418Z",
     "shell.execute_reply": "2022-06-22T15:20:47.401878Z"
    },
    "id": "ff8ce7bd",
    "papermill": {
     "duration": 15.164843,
     "end_time": "2022-06-22T15:20:47.402090",
     "exception": false,
     "start_time": "2022-06-22T15:20:32.237247",
     "status": "completed"
    },
    "tags": []
   },
   "outputs": [
    {
     "name": "stdout",
     "output_type": "stream",
     "text": [
      "Device used : cpu\n"
     ]
    },
    {
     "name": "stdout",
     "output_type": "stream",
     "text": [
      "epoch 0  | loss: 1.23464 | train_mse: 2.3895  | train_mae: 1.19611 |  0:00:00s\n",
      "epoch 1  | loss: 0.66822 | train_mse: 5.0066  | train_mae: 1.70815 |  0:00:00s\n",
      "epoch 2  | loss: 0.70774 | train_mse: 5.18414 | train_mae: 1.61991 |  0:00:00s\n"
     ]
    },
    {
     "name": "stdout",
     "output_type": "stream",
     "text": [
      "epoch 3  | loss: 0.54994 | train_mse: 2.56884 | train_mae: 1.26434 |  0:00:00s\n",
      "epoch 4  | loss: 0.57891 | train_mse: 2.18055 | train_mae: 1.09822 |  0:00:00s\n",
      "epoch 5  | loss: 0.54777 | train_mse: 2.32207 | train_mae: 1.06296 |  0:00:00s\n"
     ]
    },
    {
     "name": "stdout",
     "output_type": "stream",
     "text": [
      "epoch 6  | loss: 0.47981 | train_mse: 1.48212 | train_mae: 0.84263 |  0:00:00s\n",
      "epoch 7  | loss: 0.50607 | train_mse: 0.96456 | train_mae: 0.7096  |  0:00:00s\n"
     ]
    },
    {
     "name": "stdout",
     "output_type": "stream",
     "text": [
      "epoch 8  | loss: 0.38522 | train_mse: 0.81172 | train_mae: 0.66685 |  0:00:00s\n",
      "epoch 9  | loss: 0.27722 | train_mse: 1.00454 | train_mae: 0.74295 |  0:00:00s\n",
      "epoch 10 | loss: 0.24478 | train_mse: 1.35682 | train_mae: 0.86764 |  0:00:01s\n"
     ]
    },
    {
     "name": "stdout",
     "output_type": "stream",
     "text": [
      "epoch 11 | loss: 0.2978  | train_mse: 1.45956 | train_mae: 0.89382 |  0:00:01s\n",
      "epoch 12 | loss: 0.17707 | train_mse: 1.18078 | train_mae: 0.78112 |  0:00:01s\n",
      "epoch 13 | loss: 0.27083 | train_mse: 0.88837 | train_mae: 0.67477 |  0:00:01s\n",
      "epoch 14 | loss: 0.26406 | train_mse: 0.62126 | train_mae: 0.58872 |  0:00:01s\n"
     ]
    },
    {
     "name": "stdout",
     "output_type": "stream",
     "text": [
      "epoch 15 | loss: 0.23799 | train_mse: 0.59666 | train_mae: 0.56456 |  0:00:01s\n",
      "epoch 16 | loss: 0.23477 | train_mse: 0.94469 | train_mae: 0.64771 |  0:00:01s\n",
      "epoch 17 | loss: 0.13212 | train_mse: 0.95298 | train_mae: 0.67224 |  0:00:01s\n",
      "epoch 18 | loss: 0.26526 | train_mse: 0.81864 | train_mae: 0.61146 |  0:00:01s\n"
     ]
    },
    {
     "name": "stdout",
     "output_type": "stream",
     "text": [
      "epoch 19 | loss: 0.26292 | train_mse: 0.44005 | train_mae: 0.47741 |  0:00:01s\n",
      "epoch 20 | loss: 0.17181 | train_mse: 0.26393 | train_mae: 0.39432 |  0:00:01s\n",
      "epoch 21 | loss: 0.2014  | train_mse: 0.21465 | train_mae: 0.35476 |  0:00:01s\n"
     ]
    },
    {
     "name": "stdout",
     "output_type": "stream",
     "text": [
      "epoch 22 | loss: 0.13325 | train_mse: 0.17556 | train_mae: 0.31851 |  0:00:01s\n",
      "epoch 23 | loss: 0.12136 | train_mse: 0.24419 | train_mae: 0.36919 |  0:00:01s\n",
      "epoch 24 | loss: 0.16958 | train_mse: 0.24158 | train_mae: 0.37381 |  0:00:01s\n",
      "epoch 25 | loss: 0.09021 | train_mse: 0.28411 | train_mae: 0.404   |  0:00:02s\n"
     ]
    },
    {
     "name": "stdout",
     "output_type": "stream",
     "text": [
      "epoch 26 | loss: 0.20284 | train_mse: 0.28283 | train_mae: 0.39678 |  0:00:02s\n",
      "epoch 27 | loss: 0.11657 | train_mse: 0.37888 | train_mae: 0.43962 |  0:00:02s\n",
      "epoch 28 | loss: 0.32109 | train_mse: 0.37267 | train_mae: 0.42693 |  0:00:02s\n",
      "epoch 29 | loss: 0.15232 | train_mse: 0.32901 | train_mae: 0.39775 |  0:00:02s\n"
     ]
    },
    {
     "name": "stdout",
     "output_type": "stream",
     "text": [
      "epoch 30 | loss: 0.10879 | train_mse: 0.28291 | train_mae: 0.37898 |  0:00:02s\n",
      "epoch 31 | loss: 0.11589 | train_mse: 0.28892 | train_mae: 0.39087 |  0:00:02s\n",
      "epoch 32 | loss: 0.15093 | train_mse: 0.251   | train_mae: 0.35741 |  0:00:02s\n",
      "epoch 33 | loss: 0.14806 | train_mse: 0.2368  | train_mae: 0.33947 |  0:00:02s\n"
     ]
    },
    {
     "name": "stdout",
     "output_type": "stream",
     "text": [
      "epoch 34 | loss: 0.08035 | train_mse: 0.18191 | train_mae: 0.29693 |  0:00:02s\n",
      "epoch 35 | loss: 0.19198 | train_mse: 0.1501  | train_mae: 0.27235 |  0:00:02s\n",
      "epoch 36 | loss: 0.2069  | train_mse: 0.16025 | train_mae: 0.28175 |  0:00:02s\n"
     ]
    },
    {
     "name": "stdout",
     "output_type": "stream",
     "text": [
      "epoch 37 | loss: 0.20716 | train_mse: 0.13171 | train_mae: 0.26038 |  0:00:02s\n",
      "epoch 38 | loss: 0.18081 | train_mse: 0.11961 | train_mae: 0.25219 |  0:00:02s\n",
      "epoch 39 | loss: 0.09007 | train_mse: 0.11333 | train_mae: 0.24633 |  0:00:02s\n"
     ]
    },
    {
     "name": "stdout",
     "output_type": "stream",
     "text": [
      "epoch 40 | loss: 0.12904 | train_mse: 0.10453 | train_mae: 0.24251 |  0:00:03s\n",
      "epoch 41 | loss: 0.11133 | train_mse: 0.1042  | train_mae: 0.26117 |  0:00:03s\n",
      "epoch 42 | loss: 0.17709 | train_mse: 0.14087 | train_mae: 0.29981 |  0:00:03s\n",
      "epoch 43 | loss: 0.10379 | train_mse: 0.13201 | train_mae: 0.27429 |  0:00:03s\n"
     ]
    },
    {
     "name": "stdout",
     "output_type": "stream",
     "text": [
      "epoch 44 | loss: 0.12173 | train_mse: 0.18145 | train_mae: 0.31518 |  0:00:03s\n",
      "epoch 45 | loss: 0.09131 | train_mse: 0.168   | train_mae: 0.31205 |  0:00:03s\n",
      "epoch 46 | loss: 0.10302 | train_mse: 0.12741 | train_mae: 0.27554 |  0:00:03s\n",
      "epoch 47 | loss: 0.15966 | train_mse: 0.10345 | train_mae: 0.24718 |  0:00:03s\n"
     ]
    },
    {
     "name": "stdout",
     "output_type": "stream",
     "text": [
      "epoch 48 | loss: 0.15783 | train_mse: 0.11478 | train_mae: 0.25032 |  0:00:03s\n",
      "epoch 49 | loss: 0.11736 | train_mse: 0.13377 | train_mae: 0.26561 |  0:00:03s\n",
      "epoch 50 | loss: 0.11891 | train_mse: 0.15289 | train_mae: 0.28612 |  0:00:03s\n",
      "epoch 51 | loss: 0.1754  | train_mse: 0.11333 | train_mae: 0.24741 |  0:00:03s\n"
     ]
    },
    {
     "name": "stdout",
     "output_type": "stream",
     "text": [
      "epoch 52 | loss: 0.15906 | train_mse: 0.09255 | train_mae: 0.23139 |  0:00:03s\n",
      "epoch 53 | loss: 0.24249 | train_mse: 0.10354 | train_mae: 0.24922 |  0:00:03s\n",
      "epoch 54 | loss: 0.08649 | train_mse: 0.08279 | train_mae: 0.21926 |  0:00:03s\n"
     ]
    },
    {
     "name": "stdout",
     "output_type": "stream",
     "text": [
      "epoch 55 | loss: 0.10635 | train_mse: 0.07603 | train_mae: 0.21451 |  0:00:04s\n",
      "epoch 56 | loss: 0.25874 | train_mse: 0.08468 | train_mae: 0.22657 |  0:00:04s\n",
      "epoch 57 | loss: 0.11394 | train_mse: 0.07847 | train_mae: 0.2175  |  0:00:04s\n",
      "epoch 58 | loss: 0.11468 | train_mse: 0.09002 | train_mae: 0.23676 |  0:00:04s\n"
     ]
    },
    {
     "name": "stdout",
     "output_type": "stream",
     "text": [
      "epoch 59 | loss: 0.08314 | train_mse: 0.07583 | train_mae: 0.2132  |  0:00:04s\n",
      "epoch 60 | loss: 0.06549 | train_mse: 0.0707  | train_mae: 0.20302 |  0:00:04s\n",
      "epoch 61 | loss: 0.11195 | train_mse: 0.07354 | train_mae: 0.20985 |  0:00:04s\n"
     ]
    },
    {
     "name": "stdout",
     "output_type": "stream",
     "text": [
      "epoch 62 | loss: 0.2037  | train_mse: 0.074   | train_mae: 0.21209 |  0:00:04s\n",
      "epoch 63 | loss: 0.09754 | train_mse: 0.07149 | train_mae: 0.20821 |  0:00:04s\n"
     ]
    },
    {
     "name": "stdout",
     "output_type": "stream",
     "text": [
      "epoch 64 | loss: 0.10724 | train_mse: 0.06841 | train_mae: 0.20293 |  0:00:04s\n",
      "epoch 65 | loss: 0.1468  | train_mse: 0.07247 | train_mae: 0.20738 |  0:00:05s\n"
     ]
    },
    {
     "name": "stdout",
     "output_type": "stream",
     "text": [
      "epoch 66 | loss: 0.25486 | train_mse: 0.08551 | train_mae: 0.23207 |  0:00:05s\n"
     ]
    },
    {
     "name": "stdout",
     "output_type": "stream",
     "text": [
      "epoch 67 | loss: 0.0789  | train_mse: 0.07704 | train_mae: 0.22062 |  0:00:05s\n",
      "epoch 68 | loss: 0.121   | train_mse: 0.07277 | train_mae: 0.21049 |  0:00:05s\n"
     ]
    },
    {
     "name": "stdout",
     "output_type": "stream",
     "text": [
      "epoch 69 | loss: 0.13911 | train_mse: 0.06602 | train_mae: 0.2026  |  0:00:05s\n",
      "epoch 70 | loss: 0.14713 | train_mse: 0.07585 | train_mae: 0.21484 |  0:00:05s\n",
      "epoch 71 | loss: 0.13166 | train_mse: 0.07328 | train_mae: 0.21119 |  0:00:05s\n"
     ]
    },
    {
     "name": "stdout",
     "output_type": "stream",
     "text": [
      "epoch 72 | loss: 0.08131 | train_mse: 0.07756 | train_mae: 0.22547 |  0:00:06s\n",
      "epoch 73 | loss: 0.09188 | train_mse: 0.08175 | train_mae: 0.22808 |  0:00:06s\n",
      "epoch 74 | loss: 0.23147 | train_mse: 0.09609 | train_mae: 0.24101 |  0:00:06s\n"
     ]
    },
    {
     "name": "stdout",
     "output_type": "stream",
     "text": [
      "epoch 75 | loss: 0.1057  | train_mse: 0.09112 | train_mae: 0.23977 |  0:00:06s\n",
      "epoch 76 | loss: 0.15682 | train_mse: 0.07376 | train_mae: 0.207   |  0:00:06s\n",
      "epoch 77 | loss: 0.15663 | train_mse: 0.06734 | train_mae: 0.20179 |  0:00:06s\n"
     ]
    },
    {
     "name": "stdout",
     "output_type": "stream",
     "text": [
      "epoch 78 | loss: 0.11227 | train_mse: 0.06952 | train_mae: 0.20743 |  0:00:06s\n",
      "epoch 79 | loss: 0.07273 | train_mse: 0.06622 | train_mae: 0.20126 |  0:00:06s\n"
     ]
    },
    {
     "name": "stdout",
     "output_type": "stream",
     "text": [
      "epoch 80 | loss: 0.09098 | train_mse: 0.07039 | train_mae: 0.20077 |  0:00:07s\n",
      "epoch 81 | loss: 0.13509 | train_mse: 0.07607 | train_mae: 0.21574 |  0:00:07s\n",
      "epoch 82 | loss: 0.09809 | train_mse: 0.06127 | train_mae: 0.19383 |  0:00:07s\n"
     ]
    },
    {
     "name": "stdout",
     "output_type": "stream",
     "text": [
      "epoch 83 | loss: 0.08834 | train_mse: 0.06926 | train_mae: 0.21375 |  0:00:07s\n",
      "epoch 84 | loss: 0.12438 | train_mse: 0.05314 | train_mae: 0.187   |  0:00:07s\n",
      "epoch 85 | loss: 0.16835 | train_mse: 0.06993 | train_mae: 0.20949 |  0:00:07s\n",
      "epoch 86 | loss: 0.07577 | train_mse: 0.06419 | train_mae: 0.20096 |  0:00:07s\n"
     ]
    },
    {
     "name": "stdout",
     "output_type": "stream",
     "text": [
      "epoch 87 | loss: 0.0784  | train_mse: 0.05894 | train_mae: 0.20491 |  0:00:07s\n",
      "epoch 88 | loss: 0.12695 | train_mse: 0.0619  | train_mae: 0.20672 |  0:00:07s\n",
      "epoch 89 | loss: 0.08999 | train_mse: 0.05868 | train_mae: 0.19488 |  0:00:07s\n",
      "epoch 90 | loss: 0.1032  | train_mse: 0.06332 | train_mae: 0.20149 |  0:00:07s\n"
     ]
    },
    {
     "name": "stdout",
     "output_type": "stream",
     "text": [
      "epoch 91 | loss: 0.13246 | train_mse: 0.073   | train_mae: 0.21456 |  0:00:07s\n",
      "epoch 92 | loss: 0.12956 | train_mse: 0.07828 | train_mae: 0.22542 |  0:00:07s\n",
      "epoch 93 | loss: 0.08574 | train_mse: 0.08569 | train_mae: 0.24105 |  0:00:07s\n"
     ]
    },
    {
     "name": "stdout",
     "output_type": "stream",
     "text": [
      "epoch 94 | loss: 0.08201 | train_mse: 0.0753  | train_mae: 0.2248  |  0:00:08s\n",
      "epoch 95 | loss: 0.12353 | train_mse: 0.05689 | train_mae: 0.19018 |  0:00:08s\n",
      "epoch 96 | loss: 0.15131 | train_mse: 0.05085 | train_mae: 0.17577 |  0:00:08s\n",
      "epoch 97 | loss: 0.12707 | train_mse: 0.04751 | train_mae: 0.17406 |  0:00:08s\n"
     ]
    },
    {
     "name": "stdout",
     "output_type": "stream",
     "text": [
      "epoch 98 | loss: 0.10137 | train_mse: 0.10607 | train_mae: 0.24045 |  0:00:08s\n",
      "epoch 99 | loss: 0.13295 | train_mse: 0.19255 | train_mae: 0.30647 |  0:00:08s\n",
      "epoch 100| loss: 0.11661 | train_mse: 0.15528 | train_mae: 0.2715  |  0:00:08s\n"
     ]
    },
    {
     "name": "stdout",
     "output_type": "stream",
     "text": [
      "epoch 101| loss: 0.09421 | train_mse: 0.10996 | train_mae: 0.22624 |  0:00:08s\n",
      "epoch 102| loss: 0.09826 | train_mse: 0.0917  | train_mae: 0.21343 |  0:00:08s\n",
      "epoch 103| loss: 0.14513 | train_mse: 0.06465 | train_mae: 0.20233 |  0:00:08s\n",
      "epoch 104| loss: 0.12637 | train_mse: 0.06616 | train_mae: 0.20707 |  0:00:08s\n"
     ]
    },
    {
     "name": "stdout",
     "output_type": "stream",
     "text": [
      "epoch 105| loss: 0.13031 | train_mse: 0.05105 | train_mae: 0.18453 |  0:00:08s\n",
      "epoch 106| loss: 0.09361 | train_mse: 0.04777 | train_mae: 0.18228 |  0:00:08s\n",
      "epoch 107| loss: 0.11414 | train_mse: 0.04898 | train_mae: 0.18549 |  0:00:08s\n"
     ]
    },
    {
     "name": "stdout",
     "output_type": "stream",
     "text": [
      "epoch 108| loss: 0.23096 | train_mse: 0.04976 | train_mae: 0.18453 |  0:00:08s\n",
      "epoch 109| loss: 0.07957 | train_mse: 0.04899 | train_mae: 0.18202 |  0:00:09s\n",
      "epoch 110| loss: 0.13429 | train_mse: 0.04744 | train_mae: 0.17521 |  0:00:09s\n",
      "epoch 111| loss: 0.09518 | train_mse: 0.04856 | train_mae: 0.17993 |  0:00:09s\n"
     ]
    },
    {
     "name": "stdout",
     "output_type": "stream",
     "text": [
      "epoch 112| loss: 0.1216  | train_mse: 0.05172 | train_mae: 0.18248 |  0:00:09s\n",
      "epoch 113| loss: 0.16036 | train_mse: 0.05523 | train_mae: 0.18141 |  0:00:09s\n",
      "epoch 114| loss: 0.13551 | train_mse: 0.05122 | train_mae: 0.17979 |  0:00:09s\n",
      "epoch 115| loss: 0.06247 | train_mse: 0.0639  | train_mae: 0.20201 |  0:00:09s\n"
     ]
    },
    {
     "name": "stdout",
     "output_type": "stream",
     "text": [
      "epoch 116| loss: 0.08832 | train_mse: 0.08046 | train_mae: 0.21913 |  0:00:09s\n",
      "epoch 117| loss: 0.06782 | train_mse: 0.07195 | train_mae: 0.20861 |  0:00:09s\n",
      "epoch 118| loss: 0.08405 | train_mse: 0.07217 | train_mae: 0.20984 |  0:00:09s\n",
      "epoch 119| loss: 0.07174 | train_mse: 0.06718 | train_mae: 0.21012 |  0:00:09s\n"
     ]
    },
    {
     "name": "stdout",
     "output_type": "stream",
     "text": [
      "epoch 120| loss: 0.08317 | train_mse: 0.06081 | train_mae: 0.19916 |  0:00:09s\n",
      "epoch 121| loss: 0.08589 | train_mse: 0.05817 | train_mae: 0.19341 |  0:00:09s\n",
      "epoch 122| loss: 0.08747 | train_mse: 0.06505 | train_mae: 0.20382 |  0:00:09s\n"
     ]
    },
    {
     "name": "stdout",
     "output_type": "stream",
     "text": [
      "epoch 123| loss: 0.06616 | train_mse: 0.0721  | train_mae: 0.21336 |  0:00:09s\n",
      "epoch 124| loss: 0.05897 | train_mse: 0.06433 | train_mae: 0.19908 |  0:00:10s\n",
      "epoch 125| loss: 0.13493 | train_mse: 0.05567 | train_mae: 0.18786 |  0:00:10s\n",
      "epoch 126| loss: 0.10029 | train_mse: 0.0612  | train_mae: 0.19303 |  0:00:10s\n"
     ]
    },
    {
     "name": "stdout",
     "output_type": "stream",
     "text": [
      "epoch 127| loss: 0.10701 | train_mse: 0.0599  | train_mae: 0.19545 |  0:00:10s\n",
      "epoch 128| loss: 0.08395 | train_mse: 0.06551 | train_mae: 0.2044  |  0:00:10s\n",
      "epoch 129| loss: 0.08755 | train_mse: 0.06769 | train_mae: 0.20456 |  0:00:10s\n",
      "epoch 130| loss: 0.1366  | train_mse: 0.05276 | train_mae: 0.18795 |  0:00:10s\n"
     ]
    },
    {
     "name": "stdout",
     "output_type": "stream",
     "text": [
      "epoch 131| loss: 0.06301 | train_mse: 0.05553 | train_mae: 0.18961 |  0:00:10s\n",
      "epoch 132| loss: 0.12045 | train_mse: 0.05716 | train_mae: 0.19372 |  0:00:10s\n",
      "epoch 133| loss: 0.06482 | train_mse: 0.04019 | train_mae: 0.16619 |  0:00:10s\n",
      "epoch 134| loss: 0.20239 | train_mse: 0.05652 | train_mae: 0.19579 |  0:00:10s\n"
     ]
    },
    {
     "name": "stdout",
     "output_type": "stream",
     "text": [
      "epoch 135| loss: 0.08317 | train_mse: 0.04285 | train_mae: 0.17228 |  0:00:10s\n",
      "epoch 136| loss: 0.0938  | train_mse: 0.05285 | train_mae: 0.19291 |  0:00:10s\n",
      "epoch 137| loss: 0.09079 | train_mse: 0.04581 | train_mae: 0.17954 |  0:00:10s\n"
     ]
    },
    {
     "name": "stdout",
     "output_type": "stream",
     "text": [
      "epoch 138| loss: 0.07379 | train_mse: 0.04162 | train_mae: 0.16794 |  0:00:10s\n",
      "epoch 139| loss: 0.12006 | train_mse: 0.04668 | train_mae: 0.18112 |  0:00:11s\n",
      "epoch 140| loss: 0.06085 | train_mse: 0.04204 | train_mae: 0.17007 |  0:00:11s\n",
      "epoch 141| loss: 0.07883 | train_mse: 0.03733 | train_mae: 0.16121 |  0:00:11s\n"
     ]
    },
    {
     "name": "stdout",
     "output_type": "stream",
     "text": [
      "epoch 142| loss: 0.08263 | train_mse: 0.04255 | train_mae: 0.17167 |  0:00:11s\n",
      "epoch 143| loss: 0.06437 | train_mse: 0.04423 | train_mae: 0.17253 |  0:00:11s\n",
      "epoch 144| loss: 0.15274 | train_mse: 0.0581  | train_mae: 0.19001 |  0:00:11s\n",
      "epoch 145| loss: 0.06336 | train_mse: 0.05925 | train_mae: 0.19375 |  0:00:11s\n"
     ]
    },
    {
     "name": "stdout",
     "output_type": "stream",
     "text": [
      "epoch 146| loss: 0.09805 | train_mse: 0.0559  | train_mae: 0.19149 |  0:00:11s\n",
      "epoch 147| loss: 0.0964  | train_mse: 0.03867 | train_mae: 0.16582 |  0:00:11s\n",
      "epoch 148| loss: 0.0631  | train_mse: 0.03612 | train_mae: 0.15892 |  0:00:11s\n",
      "epoch 149| loss: 0.05378 | train_mse: 0.03422 | train_mae: 0.15468 |  0:00:11s\n"
     ]
    },
    {
     "name": "stdout",
     "output_type": "stream",
     "text": [
      "epoch 150| loss: 0.06475 | train_mse: 0.03295 | train_mae: 0.15312 |  0:00:11s\n",
      "epoch 151| loss: 0.04671 | train_mse: 0.03542 | train_mae: 0.15648 |  0:00:11s\n",
      "epoch 152| loss: 0.09141 | train_mse: 0.03848 | train_mae: 0.16416 |  0:00:11s\n"
     ]
    },
    {
     "name": "stdout",
     "output_type": "stream",
     "text": [
      "epoch 153| loss: 0.12393 | train_mse: 0.0548  | train_mae: 0.18801 |  0:00:11s\n",
      "epoch 154| loss: 0.14712 | train_mse: 0.0632  | train_mae: 0.19914 |  0:00:12s\n",
      "epoch 155| loss: 0.15317 | train_mse: 0.05535 | train_mae: 0.19733 |  0:00:12s\n",
      "epoch 156| loss: 0.10469 | train_mse: 0.04862 | train_mae: 0.18078 |  0:00:12s\n"
     ]
    },
    {
     "name": "stdout",
     "output_type": "stream",
     "text": [
      "epoch 157| loss: 0.06901 | train_mse: 0.04018 | train_mae: 0.16514 |  0:00:12s\n",
      "epoch 158| loss: 0.04948 | train_mse: 0.03895 | train_mae: 0.16519 |  0:00:12s\n",
      "epoch 159| loss: 0.1123  | train_mse: 0.04077 | train_mae: 0.16257 |  0:00:12s\n",
      "epoch 160| loss: 0.08066 | train_mse: 0.04029 | train_mae: 0.1695  |  0:00:12s\n"
     ]
    },
    {
     "name": "stdout",
     "output_type": "stream",
     "text": [
      "epoch 161| loss: 0.14991 | train_mse: 0.05554 | train_mae: 0.18434 |  0:00:12s\n",
      "epoch 162| loss: 0.09917 | train_mse: 0.05379 | train_mae: 0.18063 |  0:00:12s\n",
      "epoch 163| loss: 0.07363 | train_mse: 0.04846 | train_mae: 0.17842 |  0:00:12s\n",
      "epoch 164| loss: 0.07816 | train_mse: 0.06394 | train_mae: 0.20006 |  0:00:12s\n"
     ]
    },
    {
     "name": "stdout",
     "output_type": "stream",
     "text": [
      "epoch 165| loss: 0.10815 | train_mse: 0.0755  | train_mae: 0.21675 |  0:00:12s\n",
      "epoch 166| loss: 0.24208 | train_mse: 0.08979 | train_mae: 0.22724 |  0:00:12s\n",
      "epoch 167| loss: 0.07866 | train_mse: 0.11593 | train_mae: 0.25712 |  0:00:12s\n"
     ]
    },
    {
     "name": "stdout",
     "output_type": "stream",
     "text": [
      "epoch 168| loss: 0.09848 | train_mse: 0.10651 | train_mae: 0.24988 |  0:00:12s\n",
      "epoch 169| loss: 0.20926 | train_mse: 0.09241 | train_mae: 0.23201 |  0:00:13s\n",
      "epoch 170| loss: 0.13722 | train_mse: 0.06692 | train_mae: 0.20539 |  0:00:13s\n",
      "epoch 171| loss: 0.06592 | train_mse: 0.09467 | train_mae: 0.22395 |  0:00:13s\n"
     ]
    },
    {
     "name": "stdout",
     "output_type": "stream",
     "text": [
      "epoch 172| loss: 0.0904  | train_mse: 0.10153 | train_mae: 0.23975 |  0:00:13s\n",
      "epoch 173| loss: 0.13786 | train_mse: 0.09757 | train_mae: 0.24225 |  0:00:13s\n",
      "epoch 174| loss: 0.1239  | train_mse: 0.0665  | train_mae: 0.20105 |  0:00:13s\n",
      "epoch 175| loss: 0.07318 | train_mse: 0.06589 | train_mae: 0.19636 |  0:00:13s\n"
     ]
    },
    {
     "name": "stdout",
     "output_type": "stream",
     "text": [
      "epoch 176| loss: 0.09879 | train_mse: 0.06826 | train_mae: 0.19827 |  0:00:13s\n",
      "epoch 177| loss: 0.11052 | train_mse: 0.06103 | train_mae: 0.20139 |  0:00:13s\n",
      "epoch 178| loss: 0.09206 | train_mse: 0.06516 | train_mae: 0.21557 |  0:00:13s\n",
      "epoch 179| loss: 0.07572 | train_mse: 0.0659  | train_mae: 0.21307 |  0:00:13s\n"
     ]
    },
    {
     "name": "stdout",
     "output_type": "stream",
     "text": [
      "epoch 180| loss: 0.07048 | train_mse: 0.06383 | train_mae: 0.20393 |  0:00:13s\n",
      "epoch 181| loss: 0.14604 | train_mse: 0.06113 | train_mae: 0.19785 |  0:00:13s\n",
      "epoch 182| loss: 0.13318 | train_mse: 0.06122 | train_mae: 0.20202 |  0:00:13s\n"
     ]
    },
    {
     "name": "stdout",
     "output_type": "stream",
     "text": [
      "epoch 183| loss: 0.19017 | train_mse: 0.06435 | train_mae: 0.21403 |  0:00:13s\n",
      "epoch 184| loss: 0.08473 | train_mse: 0.06953 | train_mae: 0.2171  |  0:00:14s\n",
      "epoch 185| loss: 0.13192 | train_mse: 0.06534 | train_mae: 0.20506 |  0:00:14s\n",
      "epoch 186| loss: 0.09416 | train_mse: 0.0636  | train_mae: 0.20037 |  0:00:14s\n"
     ]
    },
    {
     "name": "stdout",
     "output_type": "stream",
     "text": [
      "epoch 187| loss: 0.10292 | train_mse: 0.05557 | train_mae: 0.18591 |  0:00:14s\n",
      "epoch 188| loss: 0.06721 | train_mse: 0.05225 | train_mae: 0.18771 |  0:00:14s\n",
      "epoch 189| loss: 0.14544 | train_mse: 0.05785 | train_mae: 0.1962  |  0:00:14s\n",
      "epoch 190| loss: 0.09781 | train_mse: 0.06608 | train_mae: 0.20621 |  0:00:14s\n"
     ]
    },
    {
     "name": "stdout",
     "output_type": "stream",
     "text": [
      "epoch 191| loss: 0.09851 | train_mse: 0.06808 | train_mae: 0.20598 |  0:00:14s\n",
      "epoch 192| loss: 0.08593 | train_mse: 0.07616 | train_mae: 0.20452 |  0:00:14s\n",
      "epoch 193| loss: 0.09824 | train_mse: 0.05794 | train_mae: 0.18428 |  0:00:14s\n",
      "epoch 194| loss: 0.07358 | train_mse: 0.05126 | train_mae: 0.18367 |  0:00:14s\n"
     ]
    },
    {
     "name": "stdout",
     "output_type": "stream",
     "text": [
      "epoch 195| loss: 0.12327 | train_mse: 0.05457 | train_mae: 0.18872 |  0:00:14s\n",
      "epoch 196| loss: 0.08541 | train_mse: 0.04256 | train_mae: 0.17532 |  0:00:14s\n",
      "epoch 197| loss: 0.07592 | train_mse: 0.04673 | train_mae: 0.18209 |  0:00:14s\n"
     ]
    },
    {
     "name": "stdout",
     "output_type": "stream",
     "text": [
      "epoch 198| loss: 0.0886  | train_mse: 0.04298 | train_mae: 0.16993 |  0:00:14s\n",
      "epoch 199| loss: 0.19959 | train_mse: 0.05504 | train_mae: 0.1888  |  0:00:15s\n",
      "epoch 200| loss: 0.09407 | train_mse: 0.0675  | train_mae: 0.20626 |  0:00:15s\n",
      "\n",
      "Early stopping occurred at epoch 200 with best_epoch = 150 and best_train_mae = 0.15312\n",
      "Best weights from best epoch are automatically used!\n"
     ]
    }
   ],
   "source": [
    "#Train the Model\n",
    "\n",
    "Y_train = np.reshape(Y_train, (-1, 1))\n",
    "Y_test = np.reshape(Y_test, (-1, 1))\n",
    "\n",
    "prior_model = TabNetRegressor(optimizer_fn=torch.optim.Adam, optimizer_params=dict(lr = 0.02),\n",
    "          #scheduler_params={\"step_size\":10, ], \"gamma\":0.9},\n",
    "          #scheduler_fn=torch.optim.lr_scheduler.StepLR\n",
    "          )  #TabNetRegressor()\n",
    "\n",
    "prior_model.fit(X_train,Y_train,eval_set=[(X_train, Y_train)],\n",
    "            eval_name=['train'], \n",
    "            eval_metric=[ 'mse', 'mae'], \n",
    "            max_epochs = n_epochs, \n",
    "            batch_size = batch_size,\n",
    "            patience=50\n",
    "            )"
   ]
  },
  {
   "cell_type": "code",
   "execution_count": 10,
   "id": "af65dcda",
   "metadata": {
    "execution": {
     "iopub.execute_input": "2022-06-22T15:20:47.472853Z",
     "iopub.status.busy": "2022-06-22T15:20:47.472000Z",
     "iopub.status.idle": "2022-06-22T15:20:47.494701Z",
     "shell.execute_reply": "2022-06-22T15:20:47.495207Z"
    },
    "id": "af65dcda",
    "papermill": {
     "duration": 0.066429,
     "end_time": "2022-06-22T15:20:47.495454",
     "exception": false,
     "start_time": "2022-06-22T15:20:47.429025",
     "status": "completed"
    },
    "tags": []
   },
   "outputs": [
    {
     "data": {
      "application/scrapbook.scrap.json+json": {
       "data": 0.26635363841625903,
       "encoder": "json",
       "name": "Prior Model MSE",
       "version": 1
      }
     },
     "metadata": {
      "scrapbook": {
       "data": true,
       "display": false,
       "name": "Prior Model MSE"
      }
     },
     "output_type": "display_data"
    },
    {
     "data": {
      "application/scrapbook.scrap.json+json": {
       "data": 1.2030343444528504,
       "encoder": "json",
       "name": "ABC Pre-generator MSE",
       "version": 1
      }
     },
     "metadata": {
      "scrapbook": {
       "data": true,
       "display": false,
       "name": "ABC Pre-generator MSE"
      }
     },
     "output_type": "display_data"
    },
    {
     "data": {
      "application/scrapbook.scrap.json+json": {
       "data": 0.36706853737693257,
       "encoder": "json",
       "name": "Prior Model MSE",
       "version": 1
      }
     },
     "metadata": {
      "scrapbook": {
       "data": true,
       "display": false,
       "name": "Prior Model MSE"
      }
     },
     "output_type": "display_data"
    },
    {
     "data": {
      "application/scrapbook.scrap.json+json": {
       "data": 0.9513103965596006,
       "encoder": "json",
       "name": "ABC Pre-generator MSE",
       "version": 1
      }
     },
     "metadata": {
      "scrapbook": {
       "data": true,
       "display": false,
       "name": "ABC Pre-generator MSE"
      }
     },
     "output_type": "display_data"
    }
   ],
   "source": [
    "y_pred = prior_model.predict(X_test)\n",
    "y_abc = y_pred + np.random.normal(0,variance, y_pred.shape) + bias \n",
    "mse = mean_squared_error(y_pred,Y_test)\n",
    "sb.glue(\"Prior Model MSE\",mse)\n",
    "mse = mean_squared_error(y_abc,Y_test)\n",
    "sb.glue(\"ABC Pre-generator MSE\",mse)\n",
    "mae = mean_absolute_error(y_pred,Y_test)\n",
    "sb.glue(\"Prior Model MSE\",mae)\n",
    "mae = mean_absolute_error(y_abc,Y_test)\n",
    "sb.glue(\"ABC Pre-generator MSE\",mae)"
   ]
  },
  {
   "cell_type": "markdown",
   "id": "25609da2",
   "metadata": {
    "papermill": {
     "duration": 0.029009,
     "end_time": "2022-06-22T15:20:47.556096",
     "exception": false,
     "start_time": "2022-06-22T15:20:47.527087",
     "status": "completed"
    },
    "tags": []
   },
   "source": [
    "# ABC GAN Model"
   ]
  },
  {
   "cell_type": "code",
   "execution_count": 11,
   "id": "dfc3464d",
   "metadata": {
    "execution": {
     "iopub.execute_input": "2022-06-22T15:20:47.632050Z",
     "iopub.status.busy": "2022-06-22T15:20:47.629243Z",
     "iopub.status.idle": "2022-06-22T15:20:47.636000Z",
     "shell.execute_reply": "2022-06-22T15:20:47.636691Z"
    },
    "papermill": {
     "duration": 0.051887,
     "end_time": "2022-06-22T15:20:47.637118",
     "exception": false,
     "start_time": "2022-06-22T15:20:47.585231",
     "status": "completed"
    },
    "tags": []
   },
   "outputs": [],
   "source": [
    "gen = network.Generator(n_features+1).to(device)\n",
    "disc = network.Discriminator(n_features+1).to(device)\n",
    "\n",
    "criterion = torch.nn.BCELoss()\n",
    "gen_opt = torch.optim.Adam(gen.parameters(), lr=0.001, betas=(0.5, 0.999))\n",
    "disc_opt = torch.optim.Adam(disc.parameters(), lr=0.001, betas=(0.5, 0.999))"
   ]
  },
  {
   "cell_type": "code",
   "execution_count": 12,
   "id": "b75fdd85",
   "metadata": {
    "execution": {
     "iopub.execute_input": "2022-06-22T15:20:47.703210Z",
     "iopub.status.busy": "2022-06-22T15:20:47.702553Z",
     "iopub.status.idle": "2022-06-22T15:21:27.724537Z",
     "shell.execute_reply": "2022-06-22T15:21:27.725014Z"
    },
    "papermill": {
     "duration": 40.054607,
     "end_time": "2022-06-22T15:21:27.725228",
     "exception": false,
     "start_time": "2022-06-22T15:20:47.670621",
     "status": "completed"
    },
    "tags": []
   },
   "outputs": [
    {
     "data": {
      "image/png": "[encoded data removed]",
      "text/plain": [
       "<Figure size 432x288 with 1 Axes>"
      ]
     },
     "metadata": {
      "needs_background": "light"
     },
     "output_type": "display_data"
    },
    {
     "data": {
      "image/png": "[encoded data removed]",
      "text/plain": [
       "<Figure size 432x288 with 1 Axes>"
      ]
     },
     "metadata": {
      "needs_background": "light"
     },
     "output_type": "display_data"
    }
   ],
   "source": [
    "#Training the ABC_GAN \n",
    "ABC_train_test2.training_GAN(disc,gen,disc_opt,gen_opt,train_data,batch_size,n_epochs,criterion,prior_model,variance,bias,device)"
   ]
  },
  {
   "cell_type": "code",
   "execution_count": 13,
   "id": "1fa7c368",
   "metadata": {
    "execution": {
     "iopub.execute_input": "2022-06-22T15:21:27.802250Z",
     "iopub.status.busy": "2022-06-22T15:21:27.800727Z",
     "iopub.status.idle": "2022-06-22T15:21:28.416509Z",
     "shell.execute_reply": "2022-06-22T15:21:28.417047Z"
    },
    "papermill": {
     "duration": 0.661776,
     "end_time": "2022-06-22T15:21:28.417248",
     "exception": false,
     "start_time": "2022-06-22T15:21:27.755472",
     "status": "completed"
    },
    "tags": []
   },
   "outputs": [
    {
     "data": {
      "application/scrapbook.scrap.json+json": {
       "data": 0.24510443856734188,
       "encoder": "json",
       "name": "ABC-GAN Model 1 MSE",
       "version": 1
      }
     },
     "metadata": {
      "scrapbook": {
       "data": true,
       "display": false,
       "name": "ABC-GAN Model 1 MSE"
      }
     },
     "output_type": "display_data"
    },
    {
     "data": {
      "application/scrapbook.scrap.json+json": {
       "data": 0.3682642875239253,
       "encoder": "json",
       "name": "ABC-GAN Model 1 MAE",
       "version": 1
      }
     },
     "metadata": {
      "scrapbook": {
       "data": true,
       "display": false,
       "name": "ABC-GAN Model 1 MAE"
      }
     },
     "output_type": "display_data"
    },
    {
     "data": {
      "application/scrapbook.scrap.json+json": {
       "data": 7.365285750478506,
       "encoder": "json",
       "name": "ABC-GAN Model 1 Manhattan Distance",
       "version": 1
      }
     },
     "metadata": {
      "scrapbook": {
       "data": true,
       "display": false,
       "name": "ABC-GAN Model 1 Manhattan Distance"
      }
     },
     "output_type": "display_data"
    },
    {
     "data": {
      "application/scrapbook.scrap.json+json": {
       "data": 2.213984062020746,
       "encoder": "json",
       "name": "ABC-GAN Model 1 Euclidean distance",
       "version": 1
      }
     },
     "metadata": {
      "scrapbook": {
       "data": true,
       "display": false,
       "name": "ABC-GAN Model 1 Euclidean distance"
      }
     },
     "output_type": "display_data"
    },
    {
     "data": {
      "application/scrapbook.scrap.json+json": {
       "data": [
        [
         0.24722851994229028,
         0.2510035474396123,
         0.24517825298279888,
         0.24734962712270708,
         0.24922208162932252,
         0.240320820454208,
         0.24429000745798518,
         0.24720342733348527,
         0.24767475078252596,
         0.24268662882256725,
         0.23911451137055476,
         0.24192396379357056,
         0.2504971323183346,
         0.23895689511823245,
         0.24076758652715585,
         0.2452843354444461,
         0.24006762510890378,
         0.2504505381444719,
         0.2395561646413173,
         0.24744036224981927,
         0.24595423791781465,
         0.24624526385779583,
         0.24226185882441165,
         0.2524097782503262,
         0.24643098691569487,
         0.24540876226142058,
         0.23982871539678913,
         0.24276970525982328,
         0.24671617572406462,
         0.246875400755318,
         0.2474188815811455,
         0.24521688719301804,
         0.2419267376194763,
         0.25047982495204735,
         0.2338946605587045,
         0.2527448129044472,
         0.24877750060109927,
         0.2424060708283354,
         0.24344706925411322,
         0.2484789733388387,
         0.24887541716874306,
         0.24887436808104707,
         0.24732729046036414,
         0.2420866251879928,
         0.2443836038118464,
         0.24467235224550188,
         0.2411254607713142,
         0.2486766056130309,
         0.2476231265892551,
         0.2466644646245169,
         0.2511237698215548,
         0.24564053488659318,
         0.2461503637076347,
         0.24082881044540363,
         0.24874146275468711,
         0.23848297735133736,
         0.24882657822291718,
         0.24902170700482423,
         0.2362504663623326,
         0.24752258396191246,
         0.24420497208198771,
         0.2412177920570228,
         0.23804046475762825,
         0.23664124882366813,
         0.24334195754778948,
         0.24348800610871982,
         0.2503824243793288,
         0.24749383122735114,
         0.24585681628754794,
         0.24919848278769607,
         0.24896487625743852,
         0.23608256007824807,
         0.24202814335401412,
         0.2424071087579894,
         0.24125529558752837,
         0.2526478363927907,
         0.24817599363945891,
         0.2392479949614335,
         0.24500748261862806,
         0.2477093866214138,
         0.2462092272988548,
         0.2421600403387015,
         0.24667221334924622,
         0.2457646824448633,
         0.2512735718835379,
         0.2482639671454246,
         0.24697574611382106,
         0.23707606447937687,
         0.25041424266511025,
         0.2509204683682251,
         0.23990345617970749,
         0.24169422735846718,
         0.24488569544357502,
         0.24342731738392165,
         0.24797620670203518,
         0.2409617974994629,
         0.23983629750031646,
         0.2526331629094172,
         0.24398788558348444,
         0.24720726000715038
        ],
        [
         0.36868874728679657,
         0.3778913617134094,
         0.36726106256246566,
         0.3686168063431978,
         0.3687371965497732,
         0.3687228448688984,
         0.3670470107346773,
         0.36522217765450476,
         0.3691952921450138,
         0.36559309996664524,
         0.3637985926121473,
         0.3675353448837996,
         0.37117745764553545,
         0.3661993958055973,
         0.36838631741702554,
         0.3681205317378044,
         0.3636023059487343,
         0.3722768027335405,
         0.36048131100833414,
         0.37338555715978144,
         0.3708808977156878,
         0.37234461940824987,
         0.36698846258223056,
         0.37503933943808077,
         0.368536414206028,
         0.3687504563480616,
         0.36713499315083026,
         0.36588937751948836,
         0.36833296343684196,
         0.37081698067486285,
         0.37262018099427224,
         0.3676280897110701,
         0.36598087698221204,
         0.37540400475263597,
         0.356499707326293,
         0.37510183788836005,
         0.36960120163857935,
         0.3621252190321684,
         0.3673863854259253,
         0.3747199483215809,
         0.37683644481003287,
         0.3678275287151337,
         0.3705783080309629,
         0.36559848971664904,
         0.3693896967917681,
         0.3694049775600433,
         0.36095008440315723,
         0.36867567151784897,
         0.3679626554250717,
         0.3711719151586294,
         0.3765836965292692,
         0.37056127823889257,
         0.37178957611322405,
         0.3657109059393406,
         0.37115113362669944,
         0.36444574818015096,
         0.3705006420612335,
         0.37025370001792907,
         0.3625618863850832,
         0.3675336316227913,
         0.36035515926778316,
         0.36318251192569734,
         0.3631067007780075,
         0.3587209366261959,
         0.3646129406988621,
         0.3649645570665598,
         0.3744369257241488,
         0.3700965218245983,
         0.3687959898263216,
         0.3709082826972008,
         0.37050417959690096,
         0.361049297824502,
         0.3704525109380484,
         0.3688648991286755,
         0.3649763446301222,
         0.37275001890957354,
         0.3715686272829771,
         0.3651875674724579,
         0.3649521075189114,
         0.36744810938835143,
         0.37075280845165254,
         0.36303900368511677,
         0.37190212979912757,
         0.3703462343662977,
         0.3729601614177227,
         0.3722968056797981,
         0.36462138332426547,
         0.3613491225987673,
         0.3760438319295645,
         0.37387644201517106,
         0.36090567857027056,
         0.36355413496494293,
         0.36883145086467267,
         0.362226739153266,
         0.365993220359087,
         0.3644463334232569,
         0.3642728753387928,
         0.37496550343930724,
         0.3739449452608824,
         0.36995661444962025
        ],
        [
         7.373774945735931,
         7.5578272342681885,
         7.345221251249313,
         7.3723361268639565,
         7.374743930995464,
         7.374456897377968,
         7.340940214693546,
         7.3044435530900955,
         7.383905842900276,
         7.311861999332905,
         7.275971852242947,
         7.350706897675991,
         7.423549152910709,
         7.323987916111946,
         7.367726348340511,
         7.362410634756088,
         7.272046118974686,
         7.445536054670811,
         7.209626220166683,
         7.467711143195629,
         7.417617954313755,
         7.446892388164997,
         7.339769251644611,
         7.500786788761616,
         7.37072828412056,
         7.375009126961231,
         7.342699863016605,
         7.317787550389767,
         7.366659268736839,
         7.416339613497257,
         7.452403619885445,
         7.352561794221401,
         7.319617539644241,
         7.508080095052719,
         7.12999414652586,
         7.5020367577672005,
         7.392024032771587,
         7.242504380643368,
         7.347727708518505,
         7.494398966431618,
         7.536728896200657,
         7.356550574302673,
         7.411566160619259,
         7.311969794332981,
         7.3877939358353615,
         7.388099551200867,
         7.219001688063145,
         7.373513430356979,
         7.359253108501434,
         7.423438303172588,
         7.531673930585384,
         7.411225564777851,
         7.435791522264481,
         7.314218118786812,
         7.423022672533989,
         7.28891496360302,
         7.41001284122467,
         7.4050740003585815,
         7.251237727701664,
         7.350672632455826,
         7.207103185355663,
         7.2636502385139465,
         7.26213401556015,
         7.174418732523918,
         7.2922588139772415,
         7.299291141331196,
         7.488738514482975,
         7.401930436491966,
         7.375919796526432,
         7.4181656539440155,
         7.410083591938019,
         7.22098595649004,
         7.409050218760967,
         7.377297982573509,
         7.299526892602444,
         7.455000378191471,
         7.431372545659542,
         7.303751349449158,
         7.299042150378227,
         7.348962187767029,
         7.4150561690330505,
         7.260780073702335,
         7.438042595982552,
         7.406924687325954,
         7.459203228354454,
         7.4459361135959625,
         7.29242766648531,
         7.226982451975346,
         7.5208766385912895,
         7.477528840303421,
         7.218113571405411,
         7.271082699298859,
         7.376629017293453,
         7.244534783065319,
         7.31986440718174,
         7.2889266684651375,
         7.285457506775856,
         7.499310068786144,
         7.4788989052176476,
         7.399132288992405
        ],
        [
         2.223638999218579,
         2.2405514831827107,
         2.214399480594226,
         2.2241835676162482,
         2.232586310221052,
         2.1923540793138683,
         2.210384615663008,
         2.2235261515596587,
         2.2256448538907816,
         2.2031188293987563,
         2.1868448110030796,
         2.1996543537272877,
         2.238290116666446,
         2.1861239448770164,
         2.1943909703020372,
         2.2148784862580886,
         2.191198873260498,
         2.23808193837702,
         2.1888634705769903,
         2.224591478226145,
         2.217900980286607,
         2.2192127606779652,
         2.20118994557222,
         2.2468189880376483,
         2.2200494900596017,
         2.215440192202988,
         2.190108286805879,
         2.2034958827273687,
         2.2213337242479554,
         2.2220504078680032,
         2.224494916070367,
         2.2145739418362984,
         2.199666963971939,
         2.2382127912781096,
         2.1628437787260757,
         2.2483096446194737,
         2.2305940939628583,
         2.201845002848,
         2.2065677839310225,
         2.229255361500062,
         2.231033021578762,
         2.23102831932294,
         2.2240831390052134,
         2.2003937156245144,
         2.2108080143325264,
         2.2121137052398634,
         2.196021223810527,
         2.2301417247028534,
         2.2254128901813033,
         2.2211009190242437,
         2.24108799390633,
         2.216486114942267,
         2.21878508967243,
         2.1946699544369017,
         2.2304325264606732,
         2.183955024039357,
         2.23081410351879,
         2.231688629736793,
         2.1737086573979165,
         2.2249610511733118,
         2.209999873674149,
         2.1964416316261297,
         2.181927884956917,
         2.1755056829329043,
         2.206091374117534,
         2.206753298892832,
         2.2377775777736657,
         2.224831819384787,
         2.217461685294914,
         2.23248060590768,
         2.2314339616373977,
         2.1729360785731737,
         2.2001279206174087,
         2.201849716751756,
         2.196612371755783,
         2.2478782724729145,
         2.227895839753102,
         2.187455119363291,
         2.2136281648850966,
         2.2258004700395486,
         2.2190503703109346,
         2.2007273358537693,
         2.221135805614984,
         2.2170461539844553,
         2.241756328790165,
         2.228290677382215,
         2.222501951017461,
         2.1775034534042734,
         2.237919760246601,
         2.2401806550732695,
         2.1904495254614176,
         2.198609685044015,
         2.2130779265248437,
         2.206478268118323,
         2.226998907507748,
         2.195275825491926,
         2.190142906297744,
         2.2478129944878296,
         2.2090173633698966,
         2.223543388410266
        ]
       ],
       "encoder": "json",
       "name": "ABC_GAN_1 Metrics",
       "version": 1
      }
     },
     "metadata": {
      "scrapbook": {
       "data": true,
       "display": false,
       "name": "ABC_GAN_1 Metrics"
      }
     },
     "output_type": "display_data"
    },
    {
     "name": "stdout",
     "output_type": "stream",
     "text": [
      "MSE\n",
      "0.24510443856734188\n"
     ]
    }
   ],
   "source": [
    "ABC_GAN1_metrics=ABC_train_test2.test_generator(gen,test_data,prior_model,variance,bias,\"1\",device)\n",
    "sb.glue(\"ABC_GAN_1 Metrics\",ABC_GAN1_metrics)\n",
    "\n",
    "print(\"MSE\")\n",
    "print(mean(ABC_GAN1_metrics[0]))"
   ]
  },
  {
   "cell_type": "code",
   "execution_count": 14,
   "id": "eb22ce5c",
   "metadata": {
    "execution": {
     "iopub.execute_input": "2022-06-22T15:21:28.567372Z",
     "iopub.status.busy": "2022-06-22T15:21:28.566642Z",
     "iopub.status.idle": "2022-06-22T15:21:29.266193Z",
     "shell.execute_reply": "2022-06-22T15:21:29.266905Z"
    },
    "papermill": {
     "duration": 0.813769,
     "end_time": "2022-06-22T15:21:29.267239",
     "exception": false,
     "start_time": "2022-06-22T15:21:28.453470",
     "status": "completed"
    },
    "tags": []
   },
   "outputs": [
    {
     "data": {
      "image/png": "[encoded data removed]",
      "text/plain": [
       "<Figure size 432x288 with 1 Axes>"
      ]
     },
     "metadata": {
      "needs_background": "light"
     },
     "output_type": "display_data"
    },
    {
     "data": {
      "image/png": "[encoded data removed]",
      "text/plain": [
       "<Figure size 432x288 with 1 Axes>"
      ]
     },
     "metadata": {
      "needs_background": "light"
     },
     "output_type": "display_data"
    },
    {
     "data": {
      "image/png": "[encoded data removed]",
      "text/plain": [
       "<Figure size 432x288 with 1 Axes>"
      ]
     },
     "metadata": {
      "needs_background": "light"
     },
     "output_type": "display_data"
    },
    {
     "data": {
      "image/png": "[encoded data removed]",
      "text/plain": [
       "<Figure size 432x288 with 1 Axes>"
      ]
     },
     "metadata": {
      "needs_background": "light"
     },
     "output_type": "display_data"
    }
   ],
   "source": [
    "sanityChecks.discProbVsError(train_data,disc,device)\n",
    "sanityChecks.discProbVsError(test_data,disc,device)"
   ]
  },
  {
   "cell_type": "markdown",
   "id": "130f3a4d",
   "metadata": {
    "id": "130f3a4d",
    "papermill": {
     "duration": 0.046835,
     "end_time": "2022-06-22T15:21:29.354259",
     "exception": false,
     "start_time": "2022-06-22T15:21:29.307424",
     "status": "completed"
    },
    "tags": []
   },
   "source": [
    "# ABC - GAN Model with skip connection"
   ]
  },
  {
   "cell_type": "code",
   "execution_count": 15,
   "id": "4e43dad1",
   "metadata": {
    "execution": {
     "iopub.execute_input": "2022-06-22T15:21:29.445786Z",
     "iopub.status.busy": "2022-06-22T15:21:29.445112Z",
     "iopub.status.idle": "2022-06-22T15:21:29.447035Z",
     "shell.execute_reply": "2022-06-22T15:21:29.447689Z"
    },
    "id": "4e43dad1",
    "papermill": {
     "duration": 0.05011,
     "end_time": "2022-06-22T15:21:29.447990",
     "exception": false,
     "start_time": "2022-06-22T15:21:29.397880",
     "status": "completed"
    },
    "tags": []
   },
   "outputs": [],
   "source": [
    "#Generator\n",
    "gen3 = network.GeneratorWithSkipConnection(n_features+1).to(device)\n",
    "constraints=network.weightConstraint()\n",
    "#Discriminator \n",
    "disc3 = network.Discriminator(n_features+1).to(device)\n",
    "\n",
    "criterion = torch.nn.BCELoss()\n",
    "gen_opt = torch.optim.Adam(gen3.parameters(), lr=0.001, betas=(0.5, 0.999))\n",
    "disc_opt = torch.optim.Adam(disc3.parameters(), lr=0.001, betas=(0.5, 0.999))\n"
   ]
  },
  {
   "cell_type": "code",
   "execution_count": 16,
   "id": "26acbc37",
   "metadata": {
    "execution": {
     "iopub.execute_input": "2022-06-22T15:21:29.534250Z",
     "iopub.status.busy": "2022-06-22T15:21:29.533486Z",
     "iopub.status.idle": "2022-06-22T15:22:35.624637Z",
     "shell.execute_reply": "2022-06-22T15:22:35.625385Z"
    },
    "id": "26acbc37",
    "papermill": {
     "duration": 66.141558,
     "end_time": "2022-06-22T15:22:35.625606",
     "exception": false,
     "start_time": "2022-06-22T15:21:29.484048",
     "status": "completed"
    },
    "tags": []
   },
   "outputs": [
    {
     "data": {
      "image/png": "[encoded data removed]",
      "text/plain": [
       "<Figure size 432x288 with 1 Axes>"
      ]
     },
     "metadata": {
      "needs_background": "light"
     },
     "output_type": "display_data"
    },
    {
     "data": {
      "image/png": "[encoded data removed]",
      "text/plain": [
       "<Figure size 432x288 with 1 Axes>"
      ]
     },
     "metadata": {
      "needs_background": "light"
     },
     "output_type": "display_data"
    }
   ],
   "source": [
    "ABC_train_test2.training_GAN_skip_connection(disc3,gen3,disc_opt,gen_opt,train_data,batch_size,n_epochs,criterion,prior_model,variance,bias,device)"
   ]
  },
  {
   "cell_type": "code",
   "execution_count": 17,
   "id": "c5e0717b",
   "metadata": {
    "execution": {
     "iopub.execute_input": "2022-06-22T15:22:35.721890Z",
     "iopub.status.busy": "2022-06-22T15:22:35.721058Z",
     "iopub.status.idle": "2022-06-22T15:22:36.450785Z",
     "shell.execute_reply": "2022-06-22T15:22:36.451228Z"
    },
    "id": "c5e0717b",
    "papermill": {
     "duration": 0.7855,
     "end_time": "2022-06-22T15:22:36.451438",
     "exception": false,
     "start_time": "2022-06-22T15:22:35.665938",
     "status": "completed"
    },
    "tags": []
   },
   "outputs": [
    {
     "data": {
      "application/scrapbook.scrap.json+json": {
       "data": 0.23014184296290705,
       "encoder": "json",
       "name": "ABC-GAN Model 3 MSE",
       "version": 1
      }
     },
     "metadata": {
      "scrapbook": {
       "data": true,
       "display": false,
       "name": "ABC-GAN Model 3 MSE"
      }
     },
     "output_type": "display_data"
    },
    {
     "data": {
      "application/scrapbook.scrap.json+json": {
       "data": 0.35278112497925757,
       "encoder": "json",
       "name": "ABC-GAN Model 3 MAE",
       "version": 1
      }
     },
     "metadata": {
      "scrapbook": {
       "data": true,
       "display": false,
       "name": "ABC-GAN Model 3 MAE"
      }
     },
     "output_type": "display_data"
    },
    {
     "data": {
      "application/scrapbook.scrap.json+json": {
       "data": 7.0556224995851515,
       "encoder": "json",
       "name": "ABC-GAN Model 3 Manhattan Distance",
       "version": 1
      }
     },
     "metadata": {
      "scrapbook": {
       "data": true,
       "display": false,
       "name": "ABC-GAN Model 3 Manhattan Distance"
      }
     },
     "output_type": "display_data"
    },
    {
     "data": {
      "application/scrapbook.scrap.json+json": {
       "data": 2.143474433177909,
       "encoder": "json",
       "name": "ABC-GAN Model 3 Euclidean distance",
       "version": 1
      }
     },
     "metadata": {
      "scrapbook": {
       "data": true,
       "display": false,
       "name": "ABC-GAN Model 3 Euclidean distance"
      }
     },
     "output_type": "display_data"
    },
    {
     "data": {
      "application/scrapbook.scrap.json+json": {
       "data": [
        [
         0.20171956204054659,
         0.24946820553121157,
         0.2278993365354116,
         0.2423282763456816,
         0.24876108975595654,
         0.2519590393136622,
         0.21273295947277923,
         0.23305411568829476,
         0.26345500189677284,
         0.2683906598078032,
         0.22363067775511142,
         0.2624355354618869,
         0.22979818404081387,
         0.2101343566757632,
         0.22752189818154153,
         0.23761725646705623,
         0.22046431333264627,
         0.23749837589807377,
         0.20481327002266933,
         0.1925936804678519,
         0.212819805515365,
         0.21560961330551826,
         0.24311086169629176,
         0.26749647534779664,
         0.21385492964687458,
         0.25608662153175343,
         0.22647367943908647,
         0.22007154860282369,
         0.24086558284708776,
         0.224720392220996,
         0.22361857316268008,
         0.23060127664936164,
         0.21974651226841496,
         0.22814843300340854,
         0.22698158544317198,
         0.20535021207134802,
         0.22117700390390907,
         0.24087183834089246,
         0.21176440484820844,
         0.19387220934962685,
         0.24184387008839586,
         0.21457867101325298,
         0.24597347017362736,
         0.20528785241570455,
         0.23809904278196745,
         0.20841680653283587,
         0.23003351597333827,
         0.21812986914416815,
         0.26760405587520103,
         0.24449903174700943,
         0.21749056681201268,
         0.2956114050580553,
         0.22592478381434672,
         0.25295546826599036,
         0.21400634622515202,
         0.21493032773630105,
         0.2264861437456022,
         0.215908213120316,
         0.2308818584388929,
         0.2480630689349692,
         0.2294752236178569,
         0.24412585131907338,
         0.23203871739000728,
         0.23530396493060762,
         0.20884223566998505,
         0.22352761175242972,
         0.22418812962077506,
         0.20976910407916494,
         0.2129156826662409,
         0.2152374479167979,
         0.23162641424095592,
         0.2556659813867731,
         0.2505794616045033,
         0.19953442871290136,
         0.2558630244952767,
         0.24488663636392438,
         0.25285397551270056,
         0.23521911754171057,
         0.19819580998048528,
         0.23257739254840165,
         0.2328522277415485,
         0.2500099928852861,
         0.24369374815319794,
         0.22949774379066126,
         0.21004206546685947,
         0.2133652704961997,
         0.21526235966702806,
         0.22632593205766258,
         0.29539900287584725,
         0.24490872369948508,
         0.21209735270594052,
         0.2450501358090361,
         0.19961036974569296,
         0.2349032394546709,
         0.22225459582591922,
         0.216820068668999,
         0.21339905203137075,
         0.23385708606392946,
         0.24981214905406018,
         0.20635524696344804
        ],
        [
         0.33375268429517746,
         0.3668059229850769,
         0.3590272769331932,
         0.36681385785341264,
         0.38455564230680467,
         0.35028907656669617,
         0.3339759558439255,
         0.3509713977575302,
         0.35304526388645174,
         0.36070777773857116,
         0.3607900321483612,
         0.38230049461126325,
         0.3532527431845665,
         0.3250223323702812,
         0.35440643429756163,
         0.3499942421913147,
         0.349541611969471,
         0.35843623578548434,
         0.3410949259996414,
         0.3122051000595093,
         0.34811410307884216,
         0.3521407648921013,
         0.3492067962884903,
         0.3625282093882561,
         0.34013922810554503,
         0.37541425675153733,
         0.3516406208276749,
         0.33881654441356657,
         0.3630594328045845,
         0.34807465225458145,
         0.3645728975534439,
         0.35075885206460955,
         0.3450312942266464,
         0.34719056487083433,
         0.3398311287164688,
         0.3324714586138725,
         0.35071047097444535,
         0.37558979690074923,
         0.34586245864629744,
         0.3196511954069138,
         0.37197305560112,
         0.33811683058738706,
         0.3717144221067429,
         0.33436891734600066,
         0.35878988057374955,
         0.34832793921232225,
         0.36124920696020124,
         0.34490596801042556,
         0.38293024748563764,
         0.3521587163209915,
         0.3478714510798454,
         0.38784695267677305,
         0.3557482615113258,
         0.3688141256570816,
         0.34474749118089676,
         0.35466412007808684,
         0.3618222698569298,
         0.34408095479011536,
         0.35259006470441817,
         0.35220046490430834,
         0.33874242603778837,
         0.362611386179924,
         0.3519282415509224,
         0.34015358090400694,
         0.3351754531264305,
         0.348870025575161,
         0.3165107727050781,
         0.3222496762871742,
         0.33856028914451597,
         0.3493989810347557,
         0.3574340358376503,
         0.3542271003127098,
         0.3730861246585846,
         0.3286160722374916,
         0.3790664285421371,
         0.3560388803482056,
         0.39576996564865113,
         0.32686693519353865,
         0.3201470673084259,
         0.3581808120012283,
         0.3526336416602135,
         0.3699913814663887,
         0.34993943721055987,
         0.38004969656467436,
         0.3438742682337761,
         0.34538946896791456,
         0.3385566473007202,
         0.35337370783090594,
         0.3871119573712349,
         0.37691829800605775,
         0.3561522901058197,
         0.37723892033100126,
         0.3266853287816048,
         0.36519367545843123,
         0.3497064232826233,
         0.3522771567106247,
         0.3476471319794655,
         0.37279554158449174,
         0.3724465638399124,
         0.32378163039684293
        ],
        [
         6.675053685903549,
         7.336118459701538,
         7.180545538663864,
         7.336277157068253,
         7.691112846136093,
         7.005781531333923,
         6.6795191168785095,
         7.019427955150604,
         7.060905277729034,
         7.214155554771423,
         7.215800642967224,
         7.6460098922252655,
         7.06505486369133,
         6.500446647405624,
         7.088128685951233,
         6.999884843826294,
         6.9908322393894196,
         7.168724715709686,
         6.821898519992828,
         6.2441020011901855,
         6.962282061576843,
         7.042815297842026,
         6.984135925769806,
         7.2505641877651215,
         6.802784562110901,
         7.5082851350307465,
         7.032812416553497,
         6.776330888271332,
         7.26118865609169,
         6.961493045091629,
         7.291457951068878,
         7.0151770412921906,
         6.9006258845329285,
         6.943811297416687,
         6.796622574329376,
         6.649429172277451,
         7.014209419488907,
         7.511795938014984,
         6.917249172925949,
         6.393023908138275,
         7.4394611120224,
         6.762336611747742,
         7.434288442134857,
         6.687378346920013,
         7.175797611474991,
         6.966558784246445,
         7.224984139204025,
         6.898119360208511,
         7.658604949712753,
         7.04317432641983,
         6.957429021596909,
         7.756939053535461,
         7.114965230226517,
         7.376282513141632,
         6.894949823617935,
         7.093282401561737,
         7.236445397138596,
         6.881619095802307,
         7.051801294088364,
         7.044009298086166,
         6.774848520755768,
         7.25222772359848,
         7.038564831018448,
         6.803071618080139,
         6.70350906252861,
         6.97740051150322,
         6.3302154541015625,
         6.4449935257434845,
         6.77120578289032,
         6.987979620695114,
         7.148680716753006,
         7.084542006254196,
         7.461722493171692,
         6.572321444749832,
         7.581328570842743,
         7.120777606964111,
         7.9153993129730225,
         6.537338703870773,
         6.402941346168518,
         7.163616240024567,
         7.052672833204269,
         7.399827629327774,
         6.998788744211197,
         7.6009939312934875,
         6.877485364675522,
         6.907789379358292,
         6.771132946014404,
         7.067474156618118,
         7.742239147424698,
         7.538365960121155,
         7.123045802116394,
         7.544778406620026,
         6.533706575632095,
         7.303873509168625,
         6.994128465652466,
         7.045543134212494,
         6.95294263958931,
         7.455910831689835,
         7.448931276798248,
         6.475632607936859
        ],
        [
         2.008579408639582,
         2.233688454244287,
         2.134944198499865,
         2.2014916595148915,
         2.2305205211158965,
         2.2448119712513215,
         2.06268252270086,
         2.1589539860233,
         2.2954520334643145,
         2.3168541594489853,
         2.1148554454388195,
         2.291006483892557,
         2.143819880684074,
         2.0500456418127047,
         2.133175558558374,
         2.17998741495017,
         2.0998300566124217,
         2.179442019866891,
         2.0239232694085483,
         1.9626190688355798,
         2.0631035142007055,
         2.076581870794014,
         2.2050435900285135,
         2.3129914627935686,
         2.0681147436584584,
         2.2631244841225744,
         2.128255997003586,
         2.0979587631925645,
         2.1948375012610284,
         2.1200018500982303,
         2.1147982086368433,
         2.1475626959386385,
         2.0964088926944333,
         2.1361106385363495,
         2.1306411497160753,
         2.026574509221647,
         2.1032213573654537,
         2.1948660020187676,
         2.0579815589465733,
         1.96912269475331,
         2.1992902040812887,
         2.071611310131575,
         2.2179876923627297,
         2.0262667761955955,
         2.182196337555205,
         2.0416503448574925,
         2.1449173222916462,
         2.088683169579188,
         2.3134565302819117,
         2.211330060153886,
         2.085620132296448,
         2.4315073722201843,
         2.1256753459281907,
         2.2492463994235505,
         2.0688467619674107,
         2.073308118617689,
         2.1283145620213295,
         2.0780193123275637,
         2.148868811439604,
         2.227388915007746,
         2.1423128791932187,
         2.209641832148701,
         2.154245656326164,
         2.1693499714458597,
         2.0437330337888313,
         2.114368046260772,
         2.1174896912182364,
         2.048263186600613,
         2.063568184801466,
         2.0747888948844793,
         2.152330895754442,
         2.2612650503060143,
         2.2386579086787837,
         1.9976707872565058,
         2.2621362668737564,
         2.2130821781575323,
         2.24879512411736,
         2.1689588172287206,
         1.9909586132337622,
         2.1567447347722988,
         2.1580186641526,
         2.2361126665948032,
         2.2076854311844243,
         2.142417997453631,
         2.0495954013749125,
         2.0657457273159237,
         2.0749089602535724,
         2.1275616656523146,
         2.4306336740687486,
         2.213181979411025,
         2.05959876046739,
         2.213820841030439,
         1.998050898979768,
         2.167501969801508,
         2.108338662672196,
         2.0824027884585585,
         2.0659092527571037,
         2.162670044477102,
         2.2352277246583183,
         2.031527735294047
        ]
       ],
       "encoder": "json",
       "name": "ABC_GAN_3 Metrics",
       "version": 1
      }
     },
     "metadata": {
      "scrapbook": {
       "data": true,
       "display": false,
       "name": "ABC_GAN_3 Metrics"
      }
     },
     "output_type": "display_data"
    },
    {
     "name": "stdout",
     "output_type": "stream",
     "text": [
      "MSE\n",
      "0.23014184296290705\n"
     ]
    }
   ],
   "source": [
    "ABC_GAN3_metrics=ABC_train_test2.test_generator(gen3,test_data,prior_model,variance,bias,\"3\",device)\n",
    "sb.glue(\"ABC_GAN_3 Metrics\",ABC_GAN3_metrics)\n",
    "\n",
    "print(\"MSE\")\n",
    "print(mean(ABC_GAN3_metrics[0]))"
   ]
  },
  {
   "cell_type": "code",
   "execution_count": 18,
   "id": "c8e46b48",
   "metadata": {
    "execution": {
     "iopub.execute_input": "2022-06-22T15:22:36.561239Z",
     "iopub.status.busy": "2022-06-22T15:22:36.560432Z",
     "iopub.status.idle": "2022-06-22T15:22:37.283193Z",
     "shell.execute_reply": "2022-06-22T15:22:37.283667Z"
    },
    "id": "c8e46b48",
    "papermill": {
     "duration": 0.788986,
     "end_time": "2022-06-22T15:22:37.283900",
     "exception": false,
     "start_time": "2022-06-22T15:22:36.494914",
     "status": "completed"
    },
    "tags": []
   },
   "outputs": [
    {
     "data": {
      "image/png": "[encoded data removed]",
      "text/plain": [
       "<Figure size 432x288 with 1 Axes>"
      ]
     },
     "metadata": {
      "needs_background": "light"
     },
     "output_type": "display_data"
    },
    {
     "data": {
      "image/png": "[encoded data removed]",
      "text/plain": [
       "<Figure size 432x288 with 1 Axes>"
      ]
     },
     "metadata": {
      "needs_background": "light"
     },
     "output_type": "display_data"
    },
    {
     "data": {
      "image/png": "[encoded data removed]",
      "text/plain": [
       "<Figure size 432x288 with 1 Axes>"
      ]
     },
     "metadata": {
      "needs_background": "light"
     },
     "output_type": "display_data"
    },
    {
     "data": {
      "image/png": "[encoded data removed]",
      "text/plain": [
       "<Figure size 432x288 with 1 Axes>"
      ]
     },
     "metadata": {
      "needs_background": "light"
     },
     "output_type": "display_data"
    }
   ],
   "source": [
    "sanityChecks.discProbVsError(train_data,disc3,device)\n",
    "sanityChecks.discProbVsError(test_data,disc3,device)"
   ]
  },
  {
   "cell_type": "markdown",
   "id": "a5bd74c3",
   "metadata": {
    "id": "a5bd74c3",
    "papermill": {
     "duration": 0.055516,
     "end_time": "2022-06-22T15:22:37.391688",
     "exception": false,
     "start_time": "2022-06-22T15:22:37.336172",
     "status": "completed"
    },
    "tags": []
   },
   "source": [
    "## Skip Connection Model Analysis - ABC-GAN "
   ]
  },
  {
   "cell_type": "markdown",
   "id": "5744a8bf",
   "metadata": {
    "id": "5744a8bf",
    "papermill": {
     "duration": 0.043187,
     "end_time": "2022-06-22T15:22:37.478727",
     "exception": false,
     "start_time": "2022-06-22T15:22:37.435540",
     "status": "completed"
    },
    "tags": []
   },
   "source": [
    "### Weight Analysis \n",
    "\n",
    "Study the weights of the skip connection layer\n",
    "\n",
    "Equation of the skip connection is \n",
    "\n",
    "$output = y_{gan} * w + y_{abc} * (1-w)$"
   ]
  },
  {
   "cell_type": "code",
   "execution_count": 19,
   "id": "52c31dea",
   "metadata": {
    "execution": {
     "iopub.execute_input": "2022-06-22T15:22:37.583750Z",
     "iopub.status.busy": "2022-06-22T15:22:37.583066Z",
     "iopub.status.idle": "2022-06-22T15:22:37.588863Z",
     "shell.execute_reply": "2022-06-22T15:22:37.589304Z"
    },
    "id": "52c31dea",
    "papermill": {
     "duration": 0.061806,
     "end_time": "2022-06-22T15:22:37.589558",
     "exception": false,
     "start_time": "2022-06-22T15:22:37.527752",
     "status": "completed"
    },
    "tags": []
   },
   "outputs": [
    {
     "name": "stdout",
     "output_type": "stream",
     "text": [
      "Weight of the node at skip connection\n",
      "Parameter containing:\n",
      "tensor([[0.1514]], requires_grad=True)\n"
     ]
    },
    {
     "data": {
      "application/scrapbook.scrap.json+json": {
       "data": 0.1514025330543518,
       "encoder": "json",
       "name": "Skip Connection Weight",
       "version": 1
      }
     },
     "metadata": {
      "scrapbook": {
       "data": true,
       "display": false,
       "name": "Skip Connection Weight"
      }
     },
     "output_type": "display_data"
    }
   ],
   "source": [
    "print(\"Weight of the node at skip connection\")\n",
    "for name,param in gen3.named_parameters():\n",
    "    if(name == \"skipNode.weight\"):\n",
    "        print(param)\n",
    "        sb.glue(\"Skip Connection Weight\",param.item())"
   ]
  }
 ],
 "metadata": {
  "colab": {
   "collapsed_sections": [],
   "name": "ABC_GAN_Model-Catboost_Pre-gen.ipynb",
   "provenance": []
  },
  "interpreter": {
   "hash": "31f2aee4e71d21fbe5cf8b01ff0e069b9275f58929596ceb00d14d90e3e16cd6"
  },
  "kernelspec": {
   "display_name": "Python 3 (ipykernel)",
   "language": "python",
   "name": "python3"
  },
  "language_info": {
   "codemirror_mode": {
    "name": "ipython",
    "version": 3
   },
   "file_extension": ".py",
   "mimetype": "text/x-python",
   "name": "python",
   "nbconvert_exporter": "python",
   "pygments_lexer": "ipython3",
   "version": "3.8.3"
  },
  "papermill": {
   "default_parameters": {},
   "duration": 134.75809,
   "end_time": "2022-06-22T15:22:38.505681",
   "environment_variables": {},
   "exception": null,
   "input_path": "ABC_GAN-TabNet.ipynb",
   "output_path": "./ABC_GAN_TabNet/ABC-GAN_output_8_3.ipynb",
   "parameters": {
    "bias": 0.1,
    "variance": 1
   },
   "start_time": "2022-06-22T15:20:23.747591",
   "version": "2.3.3"
  }
 },
 "nbformat": 4,
 "nbformat_minor": 5
}