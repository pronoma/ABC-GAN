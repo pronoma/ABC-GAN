{
 "cells": [
  {
   "cell_type": "markdown",
   "id": "622780e6",
   "metadata": {
    "id": "622780e6",
    "papermill": {
     "duration": 0.028367,
     "end_time": "2022-06-22T14:01:44.924117",
     "exception": false,
     "start_time": "2022-06-22T14:01:44.895750",
     "status": "completed"
    },
    "tags": []
   },
   "source": [
    "## Import Libraries "
   ]
  },
  {
   "cell_type": "code",
   "execution_count": 1,
   "id": "a62397e3",
   "metadata": {
    "execution": {
     "iopub.execute_input": "2022-06-22T14:01:45.062006Z",
     "iopub.status.busy": "2022-06-22T14:01:45.056733Z",
     "iopub.status.idle": "2022-06-22T14:01:45.078257Z",
     "shell.execute_reply": "2022-06-22T14:01:45.080578Z"
    },
    "id": "a62397e3",
    "papermill": {
     "duration": 0.138847,
     "end_time": "2022-06-22T14:01:45.081189",
     "exception": false,
     "start_time": "2022-06-22T14:01:44.942342",
     "status": "completed"
    },
    "tags": []
   },
   "outputs": [],
   "source": [
    "import warnings\n",
    "import sys\n",
    "sys.path.insert(0, '../../src')\n",
    "warnings.filterwarnings('ignore')"
   ]
  },
  {
   "cell_type": "code",
   "execution_count": 2,
   "id": "d6a4e155",
   "metadata": {
    "execution": {
     "iopub.execute_input": "2022-06-22T14:01:45.139655Z",
     "iopub.status.busy": "2022-06-22T14:01:45.136348Z",
     "iopub.status.idle": "2022-06-22T14:01:51.957267Z",
     "shell.execute_reply": "2022-06-22T14:01:51.957813Z"
    },
    "id": "d6a4e155",
    "papermill": {
     "duration": 6.858543,
     "end_time": "2022-06-22T14:01:51.958122",
     "exception": false,
     "start_time": "2022-06-22T14:01:45.099579",
     "status": "completed"
    },
    "tags": []
   },
   "outputs": [],
   "source": [
    "import ABC_train_test2\n",
    "import friedman3Dataset\n",
    "import network\n",
    "import dataset\n",
    "import sanityChecks\n",
    "import torch \n",
    "import scrapbook as sb\n",
    "from statistics import mean \n",
    "import catboost as ctb \n",
    "from sklearn.model_selection import train_test_split\n",
    "from sklearn.metrics import mean_squared_error,mean_absolute_error\n",
    "import numpy as np\n",
    "from pytorch_tabnet.tab_model import TabNetRegressor"
   ]
  },
  {
   "cell_type": "markdown",
   "id": "2fa5b0f7",
   "metadata": {
    "id": "2fa5b0f7",
    "papermill": {
     "duration": 0.020539,
     "end_time": "2022-06-22T14:01:51.996818",
     "exception": false,
     "start_time": "2022-06-22T14:01:51.976279",
     "status": "completed"
    },
    "tags": []
   },
   "source": [
    "## Parameters "
   ]
  },
  {
   "cell_type": "code",
   "execution_count": 3,
   "id": "783186fb",
   "metadata": {
    "execution": {
     "iopub.execute_input": "2022-06-22T14:01:52.041251Z",
     "iopub.status.busy": "2022-06-22T14:01:52.040281Z",
     "iopub.status.idle": "2022-06-22T14:01:52.042853Z",
     "shell.execute_reply": "2022-06-22T14:01:52.043936Z"
    },
    "id": "783186fb",
    "papermill": {
     "duration": 0.027687,
     "end_time": "2022-06-22T14:01:52.044206",
     "exception": false,
     "start_time": "2022-06-22T14:01:52.016519",
     "status": "completed"
    },
    "tags": [
     "parameters"
    ]
   },
   "outputs": [],
   "source": [
    "variance = 1\n",
    "bias = 1 "
   ]
  },
  {
   "cell_type": "code",
   "execution_count": 4,
   "id": "a6ce0a77",
   "metadata": {
    "execution": {
     "iopub.execute_input": "2022-06-22T14:01:52.086606Z",
     "iopub.status.busy": "2022-06-22T14:01:52.085759Z",
     "iopub.status.idle": "2022-06-22T14:01:52.087856Z",
     "shell.execute_reply": "2022-06-22T14:01:52.088406Z"
    },
    "papermill": {
     "duration": 0.027135,
     "end_time": "2022-06-22T14:01:52.088638",
     "exception": false,
     "start_time": "2022-06-22T14:01:52.061503",
     "status": "completed"
    },
    "tags": [
     "injected-parameters"
    ]
   },
   "outputs": [],
   "source": [
    "# Parameters\n",
    "variance = 0.1\n",
    "bias = 0\n"
   ]
  },
  {
   "cell_type": "markdown",
   "id": "391cdbfd",
   "metadata": {
    "id": "391cdbfd",
    "papermill": {
     "duration": 0.018271,
     "end_time": "2022-06-22T14:01:52.123027",
     "exception": false,
     "start_time": "2022-06-22T14:01:52.104756",
     "status": "completed"
    },
    "tags": []
   },
   "source": [
    "## Dataset \n"
   ]
  },
  {
   "cell_type": "code",
   "execution_count": 5,
   "id": "5b51f161",
   "metadata": {
    "execution": {
     "iopub.execute_input": "2022-06-22T14:01:52.163893Z",
     "iopub.status.busy": "2022-06-22T14:01:52.163112Z",
     "iopub.status.idle": "2022-06-22T14:01:52.165402Z",
     "shell.execute_reply": "2022-06-22T14:01:52.165909Z"
    },
    "id": "5b51f161",
    "papermill": {
     "duration": 0.025513,
     "end_time": "2022-06-22T14:01:52.166138",
     "exception": false,
     "start_time": "2022-06-22T14:01:52.140625",
     "status": "completed"
    },
    "tags": []
   },
   "outputs": [],
   "source": [
    "#Parameters \n",
    "n_features = 4\n",
    "n_samples= 100\n",
    "n_target = 1"
   ]
  },
  {
   "cell_type": "code",
   "execution_count": 6,
   "id": "5d6eced4",
   "metadata": {
    "execution": {
     "iopub.execute_input": "2022-06-22T14:01:52.206043Z",
     "iopub.status.busy": "2022-06-22T14:01:52.205274Z",
     "iopub.status.idle": "2022-06-22T14:01:52.220482Z",
     "shell.execute_reply": "2022-06-22T14:01:52.221227Z"
    },
    "id": "5d6eced4",
    "papermill": {
     "duration": 0.039955,
     "end_time": "2022-06-22T14:01:52.221445",
     "exception": false,
     "start_time": "2022-06-22T14:01:52.181490",
     "status": "completed"
    },
    "tags": []
   },
   "outputs": [
    {
     "name": "stdout",
     "output_type": "stream",
     "text": [
      "          X1           X2        X3         X4         Y\n",
      "0  42.478963  1434.870204  0.253460   2.126280  1.312338\n",
      "1  39.827684   147.795663  0.053913   8.022321  0.166096\n",
      "2  28.089085  1391.934150  0.284914   7.013260  1.457494\n",
      "3  11.833389   736.098903  0.518654  10.190474  1.534393\n",
      "4  43.471782  1079.689572  0.006401   4.288067  0.099452\n"
     ]
    }
   ],
   "source": [
    "X,Y = friedman3Dataset.friedman3_data(n_samples)"
   ]
  },
  {
   "cell_type": "code",
   "execution_count": 7,
   "id": "fe007438",
   "metadata": {
    "execution": {
     "iopub.execute_input": "2022-06-22T14:01:52.284827Z",
     "iopub.status.busy": "2022-06-22T14:01:52.275799Z",
     "iopub.status.idle": "2022-06-22T14:01:52.286187Z",
     "shell.execute_reply": "2022-06-22T14:01:52.285625Z"
    },
    "id": "fe007438",
    "papermill": {
     "duration": 0.041308,
     "end_time": "2022-06-22T14:01:52.286390",
     "exception": false,
     "start_time": "2022-06-22T14:01:52.245082",
     "status": "completed"
    },
    "tags": []
   },
   "outputs": [],
   "source": [
    "#Train test split for dataset \n",
    "X_train,X_test,Y_train,Y_test = train_test_split(X,Y,test_size = 0.2)\n",
    "train_data = dataset.CustomDataset(X_train,Y_train)\n",
    "test_data = dataset.CustomDataset(X_test,Y_test)\n"
   ]
  },
  {
   "cell_type": "markdown",
   "id": "a9a1af34",
   "metadata": {
    "id": "a9a1af34",
    "papermill": {
     "duration": 0.022201,
     "end_time": "2022-06-22T14:01:52.327210",
     "exception": false,
     "start_time": "2022-06-22T14:01:52.305009",
     "status": "completed"
    },
    "tags": []
   },
   "source": [
    "## Training Parameters "
   ]
  },
  {
   "cell_type": "code",
   "execution_count": 8,
   "id": "952b7fc8",
   "metadata": {
    "execution": {
     "iopub.execute_input": "2022-06-22T14:01:52.383480Z",
     "iopub.status.busy": "2022-06-22T14:01:52.381237Z",
     "iopub.status.idle": "2022-06-22T14:01:52.385329Z",
     "shell.execute_reply": "2022-06-22T14:01:52.386302Z"
    },
    "id": "952b7fc8",
    "papermill": {
     "duration": 0.038159,
     "end_time": "2022-06-22T14:01:52.386558",
     "exception": false,
     "start_time": "2022-06-22T14:01:52.348399",
     "status": "completed"
    },
    "tags": []
   },
   "outputs": [],
   "source": [
    "batch_size = 32\n",
    "n_epochs = 1000\n",
    "#Select the device \n",
    "device = torch.device('cuda' if torch.cuda.is_available() else 'cpu')"
   ]
  },
  {
   "cell_type": "markdown",
   "id": "a95e1600",
   "metadata": {
    "id": "a95e1600",
    "papermill": {
     "duration": 0.018605,
     "end_time": "2022-06-22T14:01:52.424033",
     "exception": false,
     "start_time": "2022-06-22T14:01:52.405428",
     "status": "completed"
    },
    "tags": []
   },
   "source": [
    "# ABC Pre-generator Model \n",
    "\n",
    "1. The catboost model is used as a pre-generator model for the ABC-GAN. \n",
    "2. The model is first trained on the entire dataset \n",
    "3. It generats X,Y pairs and we add some Gaussian noise with mean 0 and variance 1 to it which is then feed as input to the generator.\n"
   ]
  },
  {
   "cell_type": "code",
   "execution_count": 9,
   "id": "ff8ce7bd",
   "metadata": {
    "execution": {
     "iopub.execute_input": "2022-06-22T14:01:52.497170Z",
     "iopub.status.busy": "2022-06-22T14:01:52.496174Z",
     "iopub.status.idle": "2022-06-22T14:02:03.984521Z",
     "shell.execute_reply": "2022-06-22T14:02:03.985045Z"
    },
    "id": "ff8ce7bd",
    "papermill": {
     "duration": 11.536037,
     "end_time": "2022-06-22T14:02:03.985430",
     "exception": false,
     "start_time": "2022-06-22T14:01:52.449393",
     "status": "completed"
    },
    "tags": []
   },
   "outputs": [
    {
     "name": "stdout",
     "output_type": "stream",
     "text": [
      "Device used : cpu\n"
     ]
    },
    {
     "name": "stdout",
     "output_type": "stream",
     "text": [
      "epoch 0  | loss: 1.052   | train_mse: 3.15368 | train_mae: 1.37102 |  0:00:00s\n",
      "epoch 1  | loss: 0.98455 | train_mse: 2.63032 | train_mae: 1.28461 |  0:00:00s\n",
      "epoch 2  | loss: 0.63663 | train_mse: 2.49289 | train_mae: 1.17097 |  0:00:00s\n"
     ]
    },
    {
     "name": "stdout",
     "output_type": "stream",
     "text": [
      "epoch 3  | loss: 0.55474 | train_mse: 2.94038 | train_mae: 1.16258 |  0:00:00s\n",
      "epoch 4  | loss: 0.55807 | train_mse: 3.08173 | train_mae: 1.19212 |  0:00:00s\n",
      "epoch 5  | loss: 0.36876 | train_mse: 2.11722 | train_mae: 1.00866 |  0:00:00s\n"
     ]
    },
    {
     "name": "stdout",
     "output_type": "stream",
     "text": [
      "epoch 6  | loss: 0.39133 | train_mse: 1.96291 | train_mae: 0.93776 |  0:00:00s\n",
      "epoch 7  | loss: 0.46027 | train_mse: 1.17313 | train_mae: 0.71555 |  0:00:00s\n"
     ]
    },
    {
     "name": "stdout",
     "output_type": "stream",
     "text": [
      "epoch 8  | loss: 0.35808 | train_mse: 1.17747 | train_mae: 0.7073  |  0:00:01s\n",
      "epoch 9  | loss: 0.27195 | train_mse: 1.36789 | train_mae: 0.79149 |  0:00:01s\n"
     ]
    },
    {
     "name": "stdout",
     "output_type": "stream",
     "text": [
      "epoch 10 | loss: 0.3328  | train_mse: 1.36081 | train_mae: 0.77872 |  0:00:01s\n",
      "epoch 11 | loss: 0.24478 | train_mse: 1.05277 | train_mae: 0.6949  |  0:00:01s\n"
     ]
    },
    {
     "name": "stdout",
     "output_type": "stream",
     "text": [
      "epoch 12 | loss: 0.2604  | train_mse: 0.81465 | train_mae: 0.62012 |  0:00:01s\n",
      "epoch 13 | loss: 0.29302 | train_mse: 0.66737 | train_mae: 0.58615 |  0:00:01s"
     ]
    },
    {
     "name": "stdout",
     "output_type": "stream",
     "text": [
      "\n"
     ]
    },
    {
     "name": "stdout",
     "output_type": "stream",
     "text": [
      "epoch 14 | loss: 0.21871 | train_mse: 0.63702 | train_mae: 0.57246 |  0:00:01s\n",
      "epoch 15 | loss: 0.21705 | train_mse: 0.63729 | train_mae: 0.55956 |  0:00:02s\n"
     ]
    },
    {
     "name": "stdout",
     "output_type": "stream",
     "text": [
      "epoch 16 | loss: 0.2002  | train_mse: 0.53382 | train_mae: 0.5125  |  0:00:02s\n",
      "epoch 17 | loss: 0.22621 | train_mse: 0.31548 | train_mae: 0.39894 |  0:00:02s\n"
     ]
    },
    {
     "name": "stdout",
     "output_type": "stream",
     "text": [
      "epoch 18 | loss: 0.28084 | train_mse: 0.30198 | train_mae: 0.39469 |  0:00:02s\n",
      "epoch 19 | loss: 0.43532 | train_mse: 0.44006 | train_mae: 0.49035 |  0:00:02s\n"
     ]
    },
    {
     "name": "stdout",
     "output_type": "stream",
     "text": [
      "epoch 20 | loss: 0.21483 | train_mse: 0.43728 | train_mae: 0.4929  |  0:00:03s\n",
      "epoch 21 | loss: 0.22241 | train_mse: 0.32466 | train_mae: 0.40485 |  0:00:03s\n"
     ]
    },
    {
     "name": "stdout",
     "output_type": "stream",
     "text": [
      "epoch 22 | loss: 0.23606 | train_mse: 0.33189 | train_mae: 0.40417 |  0:00:03s\n",
      "epoch 23 | loss: 0.2995  | train_mse: 0.29373 | train_mae: 0.3917  |  0:00:03s\n"
     ]
    },
    {
     "name": "stdout",
     "output_type": "stream",
     "text": [
      "epoch 24 | loss: 0.1461  | train_mse: 0.32923 | train_mae: 0.42886 |  0:00:03s\n"
     ]
    },
    {
     "name": "stdout",
     "output_type": "stream",
     "text": [
      "epoch 25 | loss: 0.16921 | train_mse: 0.33761 | train_mae: 0.43144 |  0:00:03s\n",
      "epoch 26 | loss: 0.13017 | train_mse: 0.29119 | train_mae: 0.36331 |  0:00:04s\n"
     ]
    },
    {
     "name": "stdout",
     "output_type": "stream",
     "text": [
      "epoch 27 | loss: 0.27139 | train_mse: 0.21937 | train_mae: 0.31097 |  0:00:04s\n",
      "epoch 28 | loss: 0.15393 | train_mse: 0.18375 | train_mae: 0.31045 |  0:00:04s\n",
      "epoch 29 | loss: 0.13519 | train_mse: 0.18687 | train_mae: 0.33814 |  0:00:04s\n"
     ]
    },
    {
     "name": "stdout",
     "output_type": "stream",
     "text": [
      "epoch 30 | loss: 0.14681 | train_mse: 0.16568 | train_mae: 0.30575 |  0:00:04s\n",
      "epoch 31 | loss: 0.17664 | train_mse: 0.14756 | train_mae: 0.2754  |  0:00:04s\n",
      "epoch 32 | loss: 0.30774 | train_mse: 0.19624 | train_mae: 0.31867 |  0:00:04s\n"
     ]
    },
    {
     "name": "stdout",
     "output_type": "stream",
     "text": [
      "epoch 33 | loss: 0.20957 | train_mse: 0.18198 | train_mae: 0.32066 |  0:00:04s\n",
      "epoch 34 | loss: 0.22376 | train_mse: 0.1365  | train_mae: 0.28429 |  0:00:04s\n",
      "epoch 35 | loss: 0.18495 | train_mse: 0.10812 | train_mae: 0.25047 |  0:00:05s\n"
     ]
    },
    {
     "name": "stdout",
     "output_type": "stream",
     "text": [
      "epoch 36 | loss: 0.22489 | train_mse: 0.10513 | train_mae: 0.24118 |  0:00:05s\n",
      "epoch 37 | loss: 0.2848  | train_mse: 0.11833 | train_mae: 0.25451 |  0:00:05s\n",
      "epoch 38 | loss: 0.17621 | train_mse: 0.15387 | train_mae: 0.30409 |  0:00:05s\n"
     ]
    },
    {
     "name": "stdout",
     "output_type": "stream",
     "text": [
      "epoch 39 | loss: 0.19202 | train_mse: 0.1403  | train_mae: 0.2916  |  0:00:05s\n",
      "epoch 40 | loss: 0.28084 | train_mse: 0.20799 | train_mae: 0.33469 |  0:00:05s\n",
      "epoch 41 | loss: 0.16562 | train_mse: 0.22563 | train_mae: 0.33984 |  0:00:05s\n"
     ]
    },
    {
     "name": "stdout",
     "output_type": "stream",
     "text": [
      "epoch 42 | loss: 0.10906 | train_mse: 0.2047  | train_mae: 0.29956 |  0:00:05s\n",
      "epoch 43 | loss: 0.33515 | train_mse: 0.13894 | train_mae: 0.26673 |  0:00:05s\n",
      "epoch 44 | loss: 0.11202 | train_mse: 0.15646 | train_mae: 0.29214 |  0:00:05s\n"
     ]
    },
    {
     "name": "stdout",
     "output_type": "stream",
     "text": [
      "epoch 45 | loss: 0.19744 | train_mse: 0.1464  | train_mae: 0.28157 |  0:00:05s\n",
      "epoch 46 | loss: 0.19482 | train_mse: 0.14256 | train_mae: 0.28004 |  0:00:06s\n",
      "epoch 47 | loss: 0.13621 | train_mse: 0.1416  | train_mae: 0.27076 |  0:00:06s\n"
     ]
    },
    {
     "name": "stdout",
     "output_type": "stream",
     "text": [
      "epoch 48 | loss: 0.12318 | train_mse: 0.12569 | train_mae: 0.2538  |  0:00:06s\n",
      "epoch 49 | loss: 0.14425 | train_mse: 0.12937 | train_mae: 0.24489 |  0:00:06s\n",
      "epoch 50 | loss: 0.13165 | train_mse: 0.12626 | train_mae: 0.25293 |  0:00:06s\n"
     ]
    },
    {
     "name": "stdout",
     "output_type": "stream",
     "text": [
      "epoch 51 | loss: 0.10134 | train_mse: 0.12351 | train_mae: 0.24418 |  0:00:06s\n",
      "epoch 52 | loss: 0.1921  | train_mse: 0.09462 | train_mae: 0.22388 |  0:00:06s\n",
      "epoch 53 | loss: 0.3263  | train_mse: 0.10037 | train_mae: 0.23347 |  0:00:06s\n"
     ]
    },
    {
     "name": "stdout",
     "output_type": "stream",
     "text": [
      "epoch 54 | loss: 0.15231 | train_mse: 0.10315 | train_mae: 0.22498 |  0:00:06s\n",
      "epoch 55 | loss: 0.17357 | train_mse: 0.09662 | train_mae: 0.20588 |  0:00:06s\n",
      "epoch 56 | loss: 0.1254  | train_mse: 0.06748 | train_mae: 0.18071 |  0:00:06s\n"
     ]
    },
    {
     "name": "stdout",
     "output_type": "stream",
     "text": [
      "epoch 57 | loss: 0.08714 | train_mse: 0.09071 | train_mae: 0.2134  |  0:00:06s\n",
      "epoch 58 | loss: 0.18318 | train_mse: 0.10884 | train_mae: 0.23815 |  0:00:07s\n",
      "epoch 59 | loss: 0.14266 | train_mse: 0.13658 | train_mae: 0.26484 |  0:00:07s\n"
     ]
    },
    {
     "name": "stdout",
     "output_type": "stream",
     "text": [
      "epoch 60 | loss: 0.14403 | train_mse: 0.09345 | train_mae: 0.23441 |  0:00:07s\n",
      "epoch 61 | loss: 0.17099 | train_mse: 0.0846  | train_mae: 0.22688 |  0:00:07s\n",
      "epoch 62 | loss: 0.12874 | train_mse: 0.06721 | train_mae: 0.19576 |  0:00:07s\n"
     ]
    },
    {
     "name": "stdout",
     "output_type": "stream",
     "text": [
      "epoch 63 | loss: 0.18792 | train_mse: 0.076   | train_mae: 0.20103 |  0:00:07s\n",
      "epoch 64 | loss: 0.11896 | train_mse: 0.05968 | train_mae: 0.1824  |  0:00:07s\n",
      "epoch 65 | loss: 0.10645 | train_mse: 0.0656  | train_mae: 0.19789 |  0:00:07s\n"
     ]
    },
    {
     "name": "stdout",
     "output_type": "stream",
     "text": [
      "epoch 66 | loss: 0.08475 | train_mse: 0.07964 | train_mae: 0.21642 |  0:00:07s\n",
      "epoch 67 | loss: 0.10559 | train_mse: 0.08634 | train_mae: 0.22821 |  0:00:07s\n",
      "epoch 68 | loss: 0.12694 | train_mse: 0.07276 | train_mae: 0.19425 |  0:00:07s\n"
     ]
    },
    {
     "name": "stdout",
     "output_type": "stream",
     "text": [
      "epoch 69 | loss: 0.07402 | train_mse: 0.07627 | train_mae: 0.20207 |  0:00:07s\n",
      "epoch 70 | loss: 0.06481 | train_mse: 0.07259 | train_mae: 0.20383 |  0:00:08s\n",
      "epoch 71 | loss: 0.15267 | train_mse: 0.0596  | train_mae: 0.18476 |  0:00:08s\n"
     ]
    },
    {
     "name": "stdout",
     "output_type": "stream",
     "text": [
      "epoch 72 | loss: 0.10113 | train_mse: 0.06395 | train_mae: 0.18313 |  0:00:08s\n",
      "epoch 73 | loss: 0.16017 | train_mse: 0.06371 | train_mae: 0.18972 |  0:00:08s\n",
      "epoch 74 | loss: 0.09568 | train_mse: 0.06037 | train_mae: 0.18812 |  0:00:08s\n"
     ]
    },
    {
     "name": "stdout",
     "output_type": "stream",
     "text": [
      "epoch 75 | loss: 0.09881 | train_mse: 0.06396 | train_mae: 0.19632 |  0:00:08s\n",
      "epoch 76 | loss: 0.13997 | train_mse: 0.08069 | train_mae: 0.21255 |  0:00:08s\n",
      "epoch 77 | loss: 0.13097 | train_mse: 0.07571 | train_mae: 0.20955 |  0:00:08s\n"
     ]
    },
    {
     "name": "stdout",
     "output_type": "stream",
     "text": [
      "epoch 78 | loss: 0.08934 | train_mse: 0.06503 | train_mae: 0.19372 |  0:00:08s\n",
      "epoch 79 | loss: 0.1217  | train_mse: 0.06843 | train_mae: 0.19376 |  0:00:08s\n",
      "epoch 80 | loss: 0.19622 | train_mse: 0.06607 | train_mae: 0.19193 |  0:00:08s\n"
     ]
    },
    {
     "name": "stdout",
     "output_type": "stream",
     "text": [
      "epoch 81 | loss: 0.12325 | train_mse: 0.07018 | train_mae: 0.19821 |  0:00:09s\n",
      "epoch 82 | loss: 0.12559 | train_mse: 0.07982 | train_mae: 0.2123  |  0:00:09s\n",
      "epoch 83 | loss: 0.06777 | train_mse: 0.08185 | train_mae: 0.21899 |  0:00:09s\n"
     ]
    },
    {
     "name": "stdout",
     "output_type": "stream",
     "text": [
      "epoch 84 | loss: 0.09235 | train_mse: 0.08341 | train_mae: 0.22371 |  0:00:09s\n",
      "epoch 85 | loss: 0.11154 | train_mse: 0.06706 | train_mae: 0.20614 |  0:00:09s\n",
      "epoch 86 | loss: 0.09808 | train_mse: 0.06338 | train_mae: 0.1903  |  0:00:09s\n"
     ]
    },
    {
     "name": "stdout",
     "output_type": "stream",
     "text": [
      "epoch 87 | loss: 0.11157 | train_mse: 0.06339 | train_mae: 0.183   |  0:00:09s\n",
      "epoch 88 | loss: 0.09681 | train_mse: 0.06741 | train_mae: 0.19018 |  0:00:09s\n",
      "epoch 89 | loss: 0.15717 | train_mse: 0.08124 | train_mae: 0.21322 |  0:00:09s\n"
     ]
    },
    {
     "name": "stdout",
     "output_type": "stream",
     "text": [
      "epoch 90 | loss: 0.12364 | train_mse: 0.07599 | train_mae: 0.21597 |  0:00:09s\n",
      "epoch 91 | loss: 0.09433 | train_mse: 0.06792 | train_mae: 0.20395 |  0:00:09s\n",
      "epoch 92 | loss: 0.1028  | train_mse: 0.0675  | train_mae: 0.19776 |  0:00:10s\n"
     ]
    },
    {
     "name": "stdout",
     "output_type": "stream",
     "text": [
      "epoch 93 | loss: 0.07064 | train_mse: 0.06559 | train_mae: 0.19777 |  0:00:10s\n",
      "epoch 94 | loss: 0.08037 | train_mse: 0.06853 | train_mae: 0.20208 |  0:00:10s\n"
     ]
    },
    {
     "name": "stdout",
     "output_type": "stream",
     "text": [
      "epoch 95 | loss: 0.11694 | train_mse: 0.06774 | train_mae: 0.20449 |  0:00:10s\n",
      "epoch 96 | loss: 0.17022 | train_mse: 0.07649 | train_mae: 0.2067  |  0:00:10s\n",
      "epoch 97 | loss: 0.18786 | train_mse: 0.11236 | train_mae: 0.2245  |  0:00:10s\n"
     ]
    },
    {
     "name": "stdout",
     "output_type": "stream",
     "text": [
      "epoch 98 | loss: 0.14629 | train_mse: 0.11246 | train_mae: 0.22789 |  0:00:10s\n",
      "epoch 99 | loss: 0.15377 | train_mse: 0.11378 | train_mae: 0.23606 |  0:00:10s\n",
      "epoch 100| loss: 0.12515 | train_mse: 0.09087 | train_mae: 0.21785 |  0:00:10s\n"
     ]
    },
    {
     "name": "stdout",
     "output_type": "stream",
     "text": [
      "epoch 101| loss: 0.09606 | train_mse: 0.06273 | train_mae: 0.19192 |  0:00:10s\n",
      "epoch 102| loss: 0.09998 | train_mse: 0.05482 | train_mae: 0.18107 |  0:00:11s\n"
     ]
    },
    {
     "name": "stdout",
     "output_type": "stream",
     "text": [
      "epoch 103| loss: 0.07298 | train_mse: 0.06379 | train_mae: 0.18839 |  0:00:11s\n",
      "epoch 104| loss: 0.09379 | train_mse: 0.06962 | train_mae: 0.20264 |  0:00:11s\n",
      "epoch 105| loss: 0.09331 | train_mse: 0.05288 | train_mae: 0.18217 |  0:00:11s\n"
     ]
    },
    {
     "name": "stdout",
     "output_type": "stream",
     "text": [
      "epoch 106| loss: 0.09118 | train_mse: 0.06081 | train_mae: 0.18652 |  0:00:11s\n",
      "\n",
      "Early stopping occurred at epoch 106 with best_epoch = 56 and best_train_mae = 0.18071\n",
      "Best weights from best epoch are automatically used!\n"
     ]
    }
   ],
   "source": [
    "#Train the Model\n",
    "\n",
    "Y_train = np.reshape(Y_train, (-1, 1))\n",
    "Y_test = np.reshape(Y_test, (-1, 1))\n",
    "\n",
    "prior_model = TabNetRegressor(optimizer_fn=torch.optim.Adam, optimizer_params=dict(lr = 0.02),\n",
    "          #scheduler_params={\"step_size\":10, ], \"gamma\":0.9},\n",
    "          #scheduler_fn=torch.optim.lr_scheduler.StepLR\n",
    "          )  #TabNetRegressor()\n",
    "\n",
    "prior_model.fit(X_train,Y_train,eval_set=[(X_train, Y_train)],\n",
    "            eval_name=['train'], \n",
    "            eval_metric=[ 'mse', 'mae'], \n",
    "            max_epochs = n_epochs, \n",
    "            batch_size = batch_size,\n",
    "            patience=50\n",
    "            )"
   ]
  },
  {
   "cell_type": "code",
   "execution_count": 10,
   "id": "af65dcda",
   "metadata": {
    "execution": {
     "iopub.execute_input": "2022-06-22T14:02:04.058420Z",
     "iopub.status.busy": "2022-06-22T14:02:04.057620Z",
     "iopub.status.idle": "2022-06-22T14:02:04.085601Z",
     "shell.execute_reply": "2022-06-22T14:02:04.086067Z"
    },
    "id": "af65dcda",
    "papermill": {
     "duration": 0.068851,
     "end_time": "2022-06-22T14:02:04.086287",
     "exception": false,
     "start_time": "2022-06-22T14:02:04.017436",
     "status": "completed"
    },
    "tags": []
   },
   "outputs": [
    {
     "data": {
      "application/scrapbook.scrap.json+json": {
       "data": 0.16085869391317736,
       "encoder": "json",
       "name": "Prior Model MSE",
       "version": 1
      }
     },
     "metadata": {
      "scrapbook": {
       "data": true,
       "display": false,
       "name": "Prior Model MSE"
      }
     },
     "output_type": "display_data"
    },
    {
     "data": {
      "application/scrapbook.scrap.json+json": {
       "data": 0.1724960126734918,
       "encoder": "json",
       "name": "ABC Pre-generator MSE",
       "version": 1
      }
     },
     "metadata": {
      "scrapbook": {
       "data": true,
       "display": false,
       "name": "ABC Pre-generator MSE"
      }
     },
     "output_type": "display_data"
    },
    {
     "data": {
      "application/scrapbook.scrap.json+json": {
       "data": 0.3337498387357644,
       "encoder": "json",
       "name": "Prior Model MSE",
       "version": 1
      }
     },
     "metadata": {
      "scrapbook": {
       "data": true,
       "display": false,
       "name": "Prior Model MSE"
      }
     },
     "output_type": "display_data"
    },
    {
     "data": {
      "application/scrapbook.scrap.json+json": {
       "data": 0.356830058004702,
       "encoder": "json",
       "name": "ABC Pre-generator MSE",
       "version": 1
      }
     },
     "metadata": {
      "scrapbook": {
       "data": true,
       "display": false,
       "name": "ABC Pre-generator MSE"
      }
     },
     "output_type": "display_data"
    }
   ],
   "source": [
    "y_pred = prior_model.predict(X_test)\n",
    "y_abc = y_pred + np.random.normal(0,variance, y_pred.shape) + bias \n",
    "mse = mean_squared_error(y_pred,Y_test)\n",
    "sb.glue(\"Prior Model MSE\",mse)\n",
    "mse = mean_squared_error(y_abc,Y_test)\n",
    "sb.glue(\"ABC Pre-generator MSE\",mse)\n",
    "mae = mean_absolute_error(y_pred,Y_test)\n",
    "sb.glue(\"Prior Model MSE\",mae)\n",
    "mae = mean_absolute_error(y_abc,Y_test)\n",
    "sb.glue(\"ABC Pre-generator MSE\",mae)"
   ]
  },
  {
   "cell_type": "markdown",
   "id": "25609da2",
   "metadata": {
    "papermill": {
     "duration": 0.037268,
     "end_time": "2022-06-22T14:02:04.154123",
     "exception": false,
     "start_time": "2022-06-22T14:02:04.116855",
     "status": "completed"
    },
    "tags": []
   },
   "source": [
    "# ABC GAN Model"
   ]
  },
  {
   "cell_type": "code",
   "execution_count": 11,
   "id": "dfc3464d",
   "metadata": {
    "execution": {
     "iopub.execute_input": "2022-06-22T14:02:04.242281Z",
     "iopub.status.busy": "2022-06-22T14:02:04.238550Z",
     "iopub.status.idle": "2022-06-22T14:02:04.261900Z",
     "shell.execute_reply": "2022-06-22T14:02:04.262431Z"
    },
    "papermill": {
     "duration": 0.072925,
     "end_time": "2022-06-22T14:02:04.262652",
     "exception": false,
     "start_time": "2022-06-22T14:02:04.189727",
     "status": "completed"
    },
    "tags": []
   },
   "outputs": [],
   "source": [
    "gen = network.Generator(n_features+1).to(device)\n",
    "disc = network.Discriminator(n_features+1).to(device)\n",
    "\n",
    "criterion = torch.nn.BCELoss()\n",
    "gen_opt = torch.optim.Adam(gen.parameters(), lr=0.001, betas=(0.5, 0.999))\n",
    "disc_opt = torch.optim.Adam(disc.parameters(), lr=0.001, betas=(0.5, 0.999))"
   ]
  },
  {
   "cell_type": "code",
   "execution_count": 12,
   "id": "b75fdd85",
   "metadata": {
    "execution": {
     "iopub.execute_input": "2022-06-22T14:02:04.448614Z",
     "iopub.status.busy": "2022-06-22T14:02:04.428507Z",
     "iopub.status.idle": "2022-06-22T14:03:02.280609Z",
     "shell.execute_reply": "2022-06-22T14:03:02.281379Z"
    },
    "papermill": {
     "duration": 57.912547,
     "end_time": "2022-06-22T14:03:02.281696",
     "exception": false,
     "start_time": "2022-06-22T14:02:04.369149",
     "status": "completed"
    },
    "tags": []
   },
   "outputs": [
    {
     "data": {
      "image/png": "[encoded data removed]",
      "text/plain": [
       "<Figure size 432x288 with 1 Axes>"
      ]
     },
     "metadata": {
      "needs_background": "light"
     },
     "output_type": "display_data"
    },
    {
     "data": {
      "image/png": "[encoded data removed]",
      "text/plain": [
       "<Figure size 432x288 with 1 Axes>"
      ]
     },
     "metadata": {
      "needs_background": "light"
     },
     "output_type": "display_data"
    }
   ],
   "source": [
    "#Training the ABC_GAN \n",
    "ABC_train_test2.training_GAN(disc,gen,disc_opt,gen_opt,train_data,batch_size,n_epochs,criterion,prior_model,variance,bias,device)"
   ]
  },
  {
   "cell_type": "code",
   "execution_count": 13,
   "id": "1fa7c368",
   "metadata": {
    "execution": {
     "iopub.execute_input": "2022-06-22T14:03:02.407563Z",
     "iopub.status.busy": "2022-06-22T14:03:02.406762Z",
     "iopub.status.idle": "2022-06-22T14:03:03.274093Z",
     "shell.execute_reply": "2022-06-22T14:03:03.274680Z"
    },
    "papermill": {
     "duration": 0.955571,
     "end_time": "2022-06-22T14:03:03.274893",
     "exception": false,
     "start_time": "2022-06-22T14:03:02.319322",
     "status": "completed"
    },
    "tags": []
   },
   "outputs": [
    {
     "data": {
      "application/scrapbook.scrap.json+json": {
       "data": 0.23729689989904396,
       "encoder": "json",
       "name": "ABC-GAN Model 1 MSE",
       "version": 1
      }
     },
     "metadata": {
      "scrapbook": {
       "data": true,
       "display": false,
       "name": "ABC-GAN Model 1 MSE"
      }
     },
     "output_type": "display_data"
    },
    {
     "data": {
      "application/scrapbook.scrap.json+json": {
       "data": 0.41373026997968554,
       "encoder": "json",
       "name": "ABC-GAN Model 1 MAE",
       "version": 1
      }
     },
     "metadata": {
      "scrapbook": {
       "data": true,
       "display": false,
       "name": "ABC-GAN Model 1 MAE"
      }
     },
     "output_type": "display_data"
    },
    {
     "data": {
      "application/scrapbook.scrap.json+json": {
       "data": 8.27460539959371,
       "encoder": "json",
       "name": "ABC-GAN Model 1 Manhattan Distance",
       "version": 1
      }
     },
     "metadata": {
      "scrapbook": {
       "data": true,
       "display": false,
       "name": "ABC-GAN Model 1 Manhattan Distance"
      }
     },
     "output_type": "display_data"
    },
    {
     "data": {
      "application/scrapbook.scrap.json+json": {
       "data": 2.1777371021863483,
       "encoder": "json",
       "name": "ABC-GAN Model 1 Euclidean distance",
       "version": 1
      }
     },
     "metadata": {
      "scrapbook": {
       "data": true,
       "display": false,
       "name": "ABC-GAN Model 1 Euclidean distance"
      }
     },
     "output_type": "display_data"
    },
    {
     "data": {
      "application/scrapbook.scrap.json+json": {
       "data": [
        [
         0.24824768324985386,
         0.2405954573318243,
         0.23701843428894706,
         0.22188010337415404,
         0.2584036423934335,
         0.21656582717398526,
         0.21848101635463563,
         0.265219569337531,
         0.23468794470180904,
         0.23095404244122716,
         0.22101563024001808,
         0.25464350655344486,
         0.24581963446497185,
         0.2367828045447798,
         0.26462668288271923,
         0.2358651741604624,
         0.23057025564825723,
         0.2447297873994138,
         0.23336491840548437,
         0.22470787541431125,
         0.22726676843314902,
         0.22315887501451828,
         0.23843736504943625,
         0.2313972940042146,
         0.23844028065200956,
         0.23525546082675772,
         0.22929943183090917,
         0.2723109285694897,
         0.24058539065055867,
         0.23971137923617122,
         0.23340894332918533,
         0.22604971478651947,
         0.2459962706412342,
         0.23521548202473302,
         0.23526805255995703,
         0.265813616644759,
         0.24316885013124373,
         0.23296762742420007,
         0.23560670002692205,
         0.21191053784563044,
         0.23984241491562183,
         0.2461343047281006,
         0.23603486734952012,
         0.22124366575809934,
         0.2342901368498616,
         0.2421538007508534,
         0.23951856062683455,
         0.24461927867879582,
         0.2437753449300372,
         0.23788879027234194,
         0.2305268836465681,
         0.24073801360134972,
         0.25393283860365684,
         0.2323190872900252,
         0.23414605984732337,
         0.2607499284607666,
         0.2327557451684495,
         0.22299020010465026,
         0.2379090898586874,
         0.2215414792787076,
         0.22886460922477908,
         0.22784503584774402,
         0.22038279465703536,
         0.2340816589485814,
         0.2453622657099525,
         0.23658059792730146,
         0.23734491502402627,
         0.2185075350663622,
         0.257999282940781,
         0.24570139904038238,
         0.22262479756313427,
         0.26354382768141393,
         0.24008307888076255,
         0.2531202501392308,
         0.24797877483157676,
         0.23874983223086668,
         0.24642932063717513,
         0.24846236508239503,
         0.24964125945101082,
         0.21723129452653112,
         0.2135380665660485,
         0.20937503363217455,
         0.21576249453124544,
         0.2370877725731452,
         0.24170178272390713,
         0.23082694132630657,
         0.23022177125617665,
         0.22538873934070297,
         0.22845562360019808,
         0.25624463493289307,
         0.23839372963109035,
         0.24786582950217406,
         0.2360629889363992,
         0.2538697139673595,
         0.24587478112798636,
         0.24593924146200347,
         0.2260758957099281,
         0.22897091840296396,
         0.22889009921821887,
         0.25004958528931703
        ],
        [
         0.4209300948306918,
         0.4198099920526147,
         0.4113799655809999,
         0.4021386632695794,
         0.4350966004654765,
         0.3887832649052143,
         0.3934780452400446,
         0.4287260141223669,
         0.4151886200532317,
         0.4059896219521761,
         0.4016888715326786,
         0.42407534420490267,
         0.4227469492703676,
         0.42184238564223053,
         0.43415078837424514,
         0.4129067316651344,
         0.40390466805547476,
         0.42931736428290607,
         0.4052250707522035,
         0.39876745976507666,
         0.40587749853730204,
         0.39644091948866844,
         0.4082554992288351,
         0.40967395100742576,
         0.415792191028595,
         0.414622063562274,
         0.4085835192352533,
         0.4309199146926403,
         0.4168964758515358,
         0.4198595259338617,
         0.41720503456890584,
         0.4039181873202324,
         0.4145984068512917,
         0.41133792642503975,
         0.4009260475635529,
         0.4333852525800467,
         0.4217867311090231,
         0.4135335782542825,
         0.41423902977257965,
         0.3837135205045342,
         0.4196902854368091,
         0.42089895308017733,
         0.41568860318511724,
         0.3920492049306631,
         0.4200564857572317,
         0.42236519791185856,
         0.42111959084868433,
         0.4159819405525923,
         0.4253548074513674,
         0.41840318106114865,
         0.39998951852321624,
         0.4277224078774452,
         0.42736916448920964,
         0.41815515216439963,
         0.4159251792356372,
         0.43206391483545303,
         0.40715570859611033,
         0.3987625466659665,
         0.4117684928700328,
         0.3944796357303858,
         0.40217425413429736,
         0.40230154022574427,
         0.3938540467992425,
         0.4180344888940454,
         0.4180108554661274,
         0.41031259167939427,
         0.4173868618905544,
         0.3934121258556843,
         0.43762255012989043,
         0.42200072314590215,
         0.40285454876720905,
         0.42931740656495093,
         0.4131323713809252,
         0.4329215304926038,
         0.423487963154912,
         0.41417344734072686,
         0.4300187353044748,
         0.4236085694283247,
         0.4262304535135627,
         0.39613796677440405,
         0.39138649627566335,
         0.3883986992761493,
         0.39999021254479883,
         0.4074650637805462,
         0.4252612557262182,
         0.41165770441293714,
         0.41112364921718836,
         0.40572518557310105,
         0.4045379515737295,
         0.43272330779582263,
         0.4218622060492635,
         0.4030984606593847,
         0.4093237152323127,
         0.4254116151481867,
         0.42709995079785584,
         0.42549983896315097,
         0.4058154566213489,
         0.4098796021193266,
         0.4043118193745613,
         0.4327500151470304
        ],
        [
         8.418601896613836,
         8.396199841052294,
         8.227599311619997,
         8.042773265391588,
         8.70193200930953,
         7.775665298104286,
         7.869560904800892,
         8.574520282447338,
         8.303772401064634,
         8.119792439043522,
         8.033777430653572,
         8.481506884098053,
         8.454938985407352,
         8.43684771284461,
         8.683015767484903,
         8.258134633302689,
         8.078093361109495,
         8.586347285658121,
         8.10450141504407,
         7.975349195301533,
         8.11754997074604,
         7.928818389773369,
         8.165109984576702,
         8.193479020148516,
         8.3158438205719,
         8.29244127124548,
         8.171670384705067,
         8.618398293852806,
         8.337929517030716,
         8.397190518677235,
         8.344100691378117,
         8.078363746404648,
         8.291968137025833,
         8.226758528500795,
         8.018520951271057,
         8.667705051600933,
         8.435734622180462,
         8.27067156508565,
         8.284780595451593,
         7.674270410090685,
         8.393805708736181,
         8.417979061603546,
         8.313772063702345,
         7.840984098613262,
         8.401129715144634,
         8.447303958237171,
         8.422391816973686,
         8.319638811051846,
         8.507096149027348,
         8.368063621222973,
         7.999790370464325,
         8.554448157548904,
         8.547383289784193,
         8.363103043287992,
         8.318503584712744,
         8.64127829670906,
         8.143114171922207,
         7.97525093331933,
         8.235369857400656,
         7.889592714607716,
         8.043485082685947,
         8.046030804514885,
         7.87708093598485,
         8.360689777880907,
         8.360217109322548,
         8.206251833587885,
         8.347737237811089,
         7.868242517113686,
         8.752451002597809,
         8.440014462918043,
         8.057090975344181,
         8.586348131299019,
         8.262647427618504,
         8.658430609852076,
         8.46975926309824,
         8.283468946814537,
         8.600374706089497,
         8.472171388566494,
         8.524609070271254,
         7.922759335488081,
         7.8277299255132675,
         7.7679739855229855,
         7.999804250895977,
         8.149301275610924,
         8.505225114524364,
         8.233154088258743,
         8.222472984343767,
         8.11450371146202,
         8.09075903147459,
         8.654466155916452,
         8.43724412098527,
         8.061969213187695,
         8.186474304646254,
         8.508232302963734,
         8.541999015957117,
         8.50999677926302,
         8.116309132426977,
         8.197592042386532,
         8.086236387491226,
         8.655000302940607
        ],
        [
         2.228217598215461,
         2.193606424734502,
         2.1772387755547027,
         2.1065616695181464,
         2.27333958041219,
         2.081181525835674,
         2.090363682973064,
         2.303126437421667,
         2.166508456950072,
         2.149204701470882,
         2.102453948318574,
         2.256738826508043,
         2.217294001547706,
         2.1761562652749906,
         2.300550729206897,
         2.1719354233515435,
         2.1474182436044322,
         2.2123733292526095,
         2.160393104994942,
         2.1199428077866216,
         2.131979213937833,
         2.1126233692474305,
         2.1837461622149963,
         2.1512661109412505,
         2.183759513554593,
         2.1691263717301386,
         2.1414921518927366,
         2.3337134724275375,
         2.193560533245247,
         2.189572466195952,
         2.160596877389141,
         2.1262629883742954,
         2.218090487970381,
         2.168942055587161,
         2.1691844207441515,
         2.3057043030048714,
         2.2053065552491504,
         2.1585533462214923,
         2.1707450335169356,
         2.058691515723667,
         2.1901708377002094,
         2.2187127111372513,
         2.172716582297471,
         2.103538284691293,
         2.164671507873015,
         2.200698983281691,
         2.188691666849557,
         2.211873769810546,
         2.208055003527028,
         2.1812326344172552,
         2.14721626133265,
         2.194256200179686,
         2.2535875337055664,
         2.155546739414505,
         2.164005821837471,
         2.283637136065039,
         2.157571529143122,
         2.1118248038350638,
         2.181325697179068,
         2.104953582759998,
         2.139460722821427,
         2.1346898409265176,
         2.0994418051331425,
         2.163708200976192,
         2.2152303072590556,
         2.175226875189351,
         2.178737776897561,
         2.0904905408365866,
         2.27156018164072,
         2.2167606954309815,
         2.1100938252273727,
         2.2958389650906006,
         2.1912693986854404,
         2.2499788894086574,
         2.227010439273138,
         2.185176570581273,
         2.220041984455137,
         2.229180858891423,
         2.2344630650382693,
         2.0843766191671365,
         2.06658204079126,
         2.046338357321069,
         2.0773179560733857,
         2.1775572211684597,
         2.1986440490625454,
         2.148613233349858,
         2.145794823631452,
         2.1231520875373153,
         2.1375482385209374,
         2.2638225855083833,
         2.183546333976407,
         2.2265032203083566,
         2.1728460089771624,
         2.253307408976234,
         2.2175426991514113,
         2.217833363722367,
         2.1263861159720174,
         2.1399575622098865,
         2.1395798616467623,
         2.236289718660429
        ]
       ],
       "encoder": "json",
       "name": "ABC_GAN_1 Metrics",
       "version": 1
      }
     },
     "metadata": {
      "scrapbook": {
       "data": true,
       "display": false,
       "name": "ABC_GAN_1 Metrics"
      }
     },
     "output_type": "display_data"
    },
    {
     "name": "stdout",
     "output_type": "stream",
     "text": [
      "MSE\n",
      "0.23729689989904396\n"
     ]
    }
   ],
   "source": [
    "ABC_GAN1_metrics=ABC_train_test2.test_generator(gen,test_data,prior_model,variance,bias,\"1\",device)\n",
    "sb.glue(\"ABC_GAN_1 Metrics\",ABC_GAN1_metrics)\n",
    "\n",
    "print(\"MSE\")\n",
    "print(mean(ABC_GAN1_metrics[0]))"
   ]
  },
  {
   "cell_type": "code",
   "execution_count": 14,
   "id": "eb22ce5c",
   "metadata": {
    "execution": {
     "iopub.execute_input": "2022-06-22T14:03:03.402436Z",
     "iopub.status.busy": "2022-06-22T14:03:03.369490Z",
     "iopub.status.idle": "2022-06-22T14:03:04.420246Z",
     "shell.execute_reply": "2022-06-22T14:03:04.421211Z"
    },
    "papermill": {
     "duration": 1.110184,
     "end_time": "2022-06-22T14:03:04.421609",
     "exception": false,
     "start_time": "2022-06-22T14:03:03.311425",
     "status": "completed"
    },
    "tags": []
   },
   "outputs": [
    {
     "data": {
      "image/png": "[encoded data removed]",
      "text/plain": [
       "<Figure size 432x288 with 1 Axes>"
      ]
     },
     "metadata": {
      "needs_background": "light"
     },
     "output_type": "display_data"
    },
    {
     "data": {
      "image/png": "[encoded data removed]",
      "text/plain": [
       "<Figure size 432x288 with 1 Axes>"
      ]
     },
     "metadata": {
      "needs_background": "light"
     },
     "output_type": "display_data"
    },
    {
     "data": {
      "image/png": "[encoded data removed]",
      "text/plain": [
       "<Figure size 432x288 with 1 Axes>"
      ]
     },
     "metadata": {
      "needs_background": "light"
     },
     "output_type": "display_data"
    },
    {
     "data": {
      "image/png": "[encoded data removed]",
      "text/plain": [
       "<Figure size 432x288 with 1 Axes>"
      ]
     },
     "metadata": {
      "needs_background": "light"
     },
     "output_type": "display_data"
    }
   ],
   "source": [
    "sanityChecks.discProbVsError(train_data,disc,device)\n",
    "sanityChecks.discProbVsError(test_data,disc,device)"
   ]
  },
  {
   "cell_type": "markdown",
   "id": "130f3a4d",
   "metadata": {
    "id": "130f3a4d",
    "papermill": {
     "duration": 0.047489,
     "end_time": "2022-06-22T14:03:04.519859",
     "exception": false,
     "start_time": "2022-06-22T14:03:04.472370",
     "status": "completed"
    },
    "tags": []
   },
   "source": [
    "# ABC - GAN Model with skip connection"
   ]
  },
  {
   "cell_type": "code",
   "execution_count": 15,
   "id": "4e43dad1",
   "metadata": {
    "execution": {
     "iopub.execute_input": "2022-06-22T14:03:04.650802Z",
     "iopub.status.busy": "2022-06-22T14:03:04.648617Z",
     "iopub.status.idle": "2022-06-22T14:03:04.652922Z",
     "shell.execute_reply": "2022-06-22T14:03:04.653446Z"
    },
    "id": "4e43dad1",
    "papermill": {
     "duration": 0.081853,
     "end_time": "2022-06-22T14:03:04.653724",
     "exception": false,
     "start_time": "2022-06-22T14:03:04.571871",
     "status": "completed"
    },
    "tags": []
   },
   "outputs": [],
   "source": [
    "#Generator\n",
    "gen3 = network.GeneratorWithSkipConnection(n_features+1).to(device)\n",
    "constraints=network.weightConstraint()\n",
    "#Discriminator \n",
    "disc3 = network.Discriminator(n_features+1).to(device)\n",
    "\n",
    "criterion = torch.nn.BCELoss()\n",
    "gen_opt = torch.optim.Adam(gen3.parameters(), lr=0.001, betas=(0.5, 0.999))\n",
    "disc_opt = torch.optim.Adam(disc3.parameters(), lr=0.001, betas=(0.5, 0.999))\n"
   ]
  },
  {
   "cell_type": "code",
   "execution_count": 16,
   "id": "26acbc37",
   "metadata": {
    "execution": {
     "iopub.execute_input": "2022-06-22T14:03:04.801440Z",
     "iopub.status.busy": "2022-06-22T14:03:04.800419Z",
     "iopub.status.idle": "2022-06-22T14:04:34.067409Z",
     "shell.execute_reply": "2022-06-22T14:04:34.068154Z"
    },
    "id": "26acbc37",
    "papermill": {
     "duration": 89.363919,
     "end_time": "2022-06-22T14:04:34.068374",
     "exception": false,
     "start_time": "2022-06-22T14:03:04.704455",
     "status": "completed"
    },
    "tags": []
   },
   "outputs": [
    {
     "data": {
      "image/png": "[encoded data removed]",
      "text/plain": [
       "<Figure size 432x288 with 1 Axes>"
      ]
     },
     "metadata": {
      "needs_background": "light"
     },
     "output_type": "display_data"
    },
    {
     "data": {
      "image/png": "[encoded data removed]",
      "text/plain": [
       "<Figure size 432x288 with 1 Axes>"
      ]
     },
     "metadata": {
      "needs_background": "light"
     },
     "output_type": "display_data"
    }
   ],
   "source": [
    "ABC_train_test2.training_GAN_skip_connection(disc3,gen3,disc_opt,gen_opt,train_data,batch_size,n_epochs,criterion,prior_model,variance,bias,device)"
   ]
  },
  {
   "cell_type": "code",
   "execution_count": 17,
   "id": "c5e0717b",
   "metadata": {
    "execution": {
     "iopub.execute_input": "2022-06-22T14:04:34.201401Z",
     "iopub.status.busy": "2022-06-22T14:04:34.198505Z",
     "iopub.status.idle": "2022-06-22T14:04:35.182879Z",
     "shell.execute_reply": "2022-06-22T14:04:35.184920Z"
    },
    "id": "c5e0717b",
    "papermill": {
     "duration": 1.066791,
     "end_time": "2022-06-22T14:04:35.185233",
     "exception": false,
     "start_time": "2022-06-22T14:04:34.118442",
     "status": "completed"
    },
    "tags": []
   },
   "outputs": [
    {
     "data": {
      "application/scrapbook.scrap.json+json": {
       "data": 0.1716156047259042,
       "encoder": "json",
       "name": "ABC-GAN Model 3 MSE",
       "version": 1
      }
     },
     "metadata": {
      "scrapbook": {
       "data": true,
       "display": false,
       "name": "ABC-GAN Model 3 MSE"
      }
     },
     "output_type": "display_data"
    },
    {
     "data": {
      "application/scrapbook.scrap.json+json": {
       "data": 0.34543933917308095,
       "encoder": "json",
       "name": "ABC-GAN Model 3 MAE",
       "version": 1
      }
     },
     "metadata": {
      "scrapbook": {
       "data": true,
       "display": false,
       "name": "ABC-GAN Model 3 MAE"
      }
     },
     "output_type": "display_data"
    },
    {
     "data": {
      "application/scrapbook.scrap.json+json": {
       "data": 6.908786783461619,
       "encoder": "json",
       "name": "ABC-GAN Model 3 Manhattan Distance",
       "version": 1
      }
     },
     "metadata": {
      "scrapbook": {
       "data": true,
       "display": false,
       "name": "ABC-GAN Model 3 Manhattan Distance"
      }
     },
     "output_type": "display_data"
    },
    {
     "data": {
      "application/scrapbook.scrap.json+json": {
       "data": 1.8498391841063755,
       "encoder": "json",
       "name": "ABC-GAN Model 3 Euclidean distance",
       "version": 1
      }
     },
     "metadata": {
      "scrapbook": {
       "data": true,
       "display": false,
       "name": "ABC-GAN Model 3 Euclidean distance"
      }
     },
     "output_type": "display_data"
    },
    {
     "data": {
      "application/scrapbook.scrap.json+json": {
       "data": [
        [
         0.19493434768538515,
         0.17439715800204106,
         0.15084424916301703,
         0.20871152947429,
         0.19384603947406948,
         0.18725063919098564,
         0.17813203008271802,
         0.17331800149211557,
         0.16421551029115716,
         0.1542443346197186,
         0.1621499215895656,
         0.17085462887724334,
         0.15200521627406646,
         0.1534748215675423,
         0.1810649367138259,
         0.16272405240598287,
         0.1871274480593153,
         0.17827312726303066,
         0.1757504434602724,
         0.1866698335414671,
         0.2074894424969477,
         0.16153779266593318,
         0.16298436689566864,
         0.15485760888222277,
         0.16820899730724906,
         0.16344121992274835,
         0.16487078022785812,
         0.17727027751138408,
         0.17595355968845233,
         0.15575772679009145,
         0.1823063982968106,
         0.1498342627628801,
         0.16482222849090125,
         0.13108564281589052,
         0.22592927964875836,
         0.14241554504638168,
         0.1516416106250144,
         0.17291662144109513,
         0.18005548125205678,
         0.17784621695919972,
         0.1578372300631025,
         0.20034493778908002,
         0.17953438197627863,
         0.17099054563009347,
         0.18920509491551082,
         0.175720738778075,
         0.2010275136901452,
         0.1660391524891021,
         0.14819399848074877,
         0.15715423705678797,
         0.192554446235577,
         0.1803654343947491,
         0.17497336391625473,
         0.1539025044836101,
         0.1442718755470127,
         0.14202854691975358,
         0.16954998001735627,
         0.16413254141540323,
         0.1486904871053073,
         0.18245313204489305,
         0.15070820192543416,
         0.16613663458123099,
         0.17725564864434035,
         0.16225196292418947,
         0.17526718959536308,
         0.15207281678596707,
         0.15414092609503494,
         0.17066122109545484,
         0.12716293223703598,
         0.16336960922376928,
         0.1630100004768107,
         0.18926031333469992,
         0.20531364677578665,
         0.17704272909118743,
         0.18640926228733404,
         0.1706965253006233,
         0.18014471033123367,
         0.15719912152095478,
         0.16515036433465283,
         0.15121462144927758,
         0.17681410295349623,
         0.2146999975516474,
         0.15489921485443062,
         0.1480687960775591,
         0.1603746386588544,
         0.1833769339689824,
         0.17816432280612396,
         0.1776603406416071,
         0.17428231010146927,
         0.17890798159050336,
         0.21138471728354133,
         0.17511597519237826,
         0.194953777997445,
         0.15881569272923543,
         0.19257944044426212,
         0.13940880149743232,
         0.16692414725841384,
         0.20624163595514808,
         0.15079903354112206,
         0.21343670157219066
        ],
        [
         0.3561172019690275,
         0.3532748777419329,
         0.3217379279434681,
         0.3866323437541723,
         0.3800612224556971,
         0.35750430608168243,
         0.344439417286776,
         0.34968980588018894,
         0.3251761586638168,
         0.34576073233038185,
         0.3258698541671038,
         0.3274051558226347,
         0.32644060626626015,
         0.33646862842142583,
         0.3621291394578293,
         0.34287498369812963,
         0.35159136820584536,
         0.36224471405148506,
         0.3586152080446482,
         0.34539258666336536,
         0.3956120118498802,
         0.32628238685429095,
         0.3313750587403774,
         0.3429741126485169,
         0.33198302127420903,
         0.31054892875254153,
         0.3211374612525105,
         0.34949920400977136,
         0.353720436245203,
         0.31851546876132486,
         0.3688712153583765,
         0.33090021796524527,
         0.35281068943440913,
         0.3070623638574034,
         0.37819342222064734,
         0.3216346062719822,
         0.3248518999665976,
         0.3436034291982651,
         0.3519819185803499,
         0.35342418439686296,
         0.3319562550634146,
         0.3766123287321534,
         0.3654223980382085,
         0.35288695283234117,
         0.36915792245417833,
         0.35732050240039825,
         0.37856329809874295,
         0.3291350930929184,
         0.320939052850008,
         0.3317428186535835,
         0.3546355603262782,
         0.33976699970662594,
         0.34928405545651914,
         0.3171966202557087,
         0.3212347965687513,
         0.3136890482157469,
         0.3199755790643394,
         0.335675723105669,
         0.3166289169341326,
         0.3427176784723997,
         0.32849673107266425,
         0.34737125113606454,
         0.3529864698648453,
         0.3398814836516976,
         0.3305661860853434,
         0.33067290000617505,
         0.33083401415497066,
         0.35850459411740304,
         0.30430621057748797,
         0.33745819609612226,
         0.35317474957555534,
         0.38586158454418185,
         0.3778602940030396,
         0.365629805251956,
         0.3722774304420454,
         0.35292265601456163,
         0.348383666947484,
         0.3230550218373537,
         0.34268029145896434,
         0.3362466529011726,
         0.3523764364421368,
         0.389005634188652,
         0.33006211258471013,
         0.3265733826905489,
         0.3314416822046041,
         0.3669436685740948,
         0.34452078156173227,
         0.3657371003180742,
         0.3453976369462907,
         0.36407246462767945,
         0.3928333777934313,
         0.33385758735239507,
         0.36786021990701556,
         0.325462955608964,
         0.366628036275506,
         0.30362279498949646,
         0.34837049804627895,
         0.3595153998583555,
         0.32408146355301143,
         0.38745061717927454
        ],
        [
         7.12234403938055,
         7.065497554838657,
         6.434758558869362,
         7.7326468750834465,
         7.601224449113943,
         7.150086121633649,
         6.88878834573552,
         6.993796117603779,
         6.503523173276335,
         6.915214646607637,
         6.517397083342075,
         6.548103116452694,
         6.528812125325203,
         6.729372568428516,
         7.242582789156586,
         6.857499673962593,
         7.031827364116907,
         7.244894281029701,
         7.172304160892963,
         6.907851733267307,
         7.912240236997604,
         6.525647737085819,
         6.6275011748075485,
         6.859482252970338,
         6.6396604254841805,
         6.210978575050831,
         6.422749225050211,
         6.989984080195427,
         7.07440872490406,
         6.370309375226498,
         7.37742430716753,
         6.618004359304905,
         7.056213788688183,
         6.141247277148068,
         7.563868444412947,
         6.432692125439644,
         6.497037999331951,
         6.8720685839653015,
         7.039638371606998,
         7.06848368793726,
         6.6391251012682915,
         7.532246574643068,
         7.30844796076417,
         7.057739056646824,
         7.383158449083567,
         7.146410048007965,
         7.571265961974859,
         6.582701861858368,
         6.41878105700016,
         6.6348563730716705,
         7.092711206525564,
         6.795339994132519,
         6.9856811091303825,
         6.343932405114174,
         6.424695931375027,
         6.273780964314938,
         6.399511581286788,
         6.71351446211338,
         6.3325783386826515,
         6.854353569447994,
         6.569934621453285,
         6.947425022721291,
         7.0597293972969055,
         6.797629673033953,
         6.611323721706867,
         6.613458000123501,
         6.616680283099413,
         7.170091882348061,
         6.086124211549759,
         6.749163921922445,
         7.0634949915111065,
         7.7172316908836365,
         7.557205880060792,
         7.31259610503912,
         7.445548608840909,
         7.058453120291233,
         6.96767333894968,
         6.461100436747074,
         6.853605829179287,
         6.724933058023453,
         7.047528728842735,
         7.780112683773041,
         6.601242251694202,
         6.531467653810978,
         6.628833644092083,
         7.3388733714818954,
         6.890415631234646,
         7.3147420063614845,
         6.907952738925815,
         7.281449292553589,
         7.856667555868626,
         6.677151747047901,
         7.357204398140311,
         6.509259112179279,
         7.33256072551012,
         6.072455899789929,
         6.967409960925579,
         7.19030799716711,
         6.481629271060228,
         7.749012343585491
        ],
        [
         1.9745092944090443,
         1.8676035874994514,
         1.7369182431134575,
         2.0430933873628487,
         1.968989789074943,
         1.9352035510043155,
         1.8874958547383252,
         1.861816325484958,
         1.8122665934743551,
         1.7563845513993714,
         1.8008327051093087,
         1.8485379567498381,
         1.7435894945431765,
         1.751997839996056,
         1.9029710282283643,
         1.8040180287679104,
         1.934566866558586,
         1.8882432431391387,
         1.874835691255489,
         1.9321999562233048,
         2.037103053342897,
         1.7974303472787656,
         1.8054604226937163,
         1.7598727731414152,
         1.8341700973860033,
         1.8079890482121197,
         1.8158787416997761,
         1.8829247330224543,
         1.875918759906475,
         1.7649800383578929,
         1.9094836909322404,
         1.7310936587191352,
         1.8156113487798056,
         1.6191704222588215,
         2.1256964959690663,
         1.687693959498473,
         1.7415028603192957,
         1.859659223842342,
         1.8976589854452606,
         1.8859810018088716,
         1.7767229950845036,
         2.001723945947992,
         1.8949109845915117,
         1.8492730768066326,
         1.945276817913126,
         1.8746772457043106,
         2.005130986694611,
         1.8223015803598595,
         1.7215922774033854,
         1.7728747110655505,
         1.9624191511273883,
         1.8992916279221004,
         1.8706863121125077,
         1.7544372572629099,
         1.6986575614114383,
         1.6853993409263788,
         1.8414666981368752,
         1.8118087173617596,
         1.7244737580218918,
         1.9102519836131202,
         1.736134798484462,
         1.822836441270752,
         1.8828470391635128,
         1.8013992501618816,
         1.8722563371256784,
         1.7439771603204388,
         1.7557956948064029,
         1.8474913861528819,
         1.5947597451468105,
         1.8075929255436318,
         1.805602395195635,
         1.9455606561333414,
         2.026394072118188,
         1.8817158610756695,
         1.9308509123561768,
         1.8476824689357383,
         1.898129133284844,
         1.7731278663477983,
         1.8174177523874517,
         1.7390492888315592,
         1.880500481007629,
         2.0721968900258845,
         1.7601091719233248,
         1.7208648760292546,
         1.7909474512606693,
         1.915081898870032,
         1.887666934637167,
         1.8849951758113712,
         1.86698853826942,
         1.8916023979182484,
         2.05613577996951,
         1.8714485041933602,
         1.9746076977336282,
         1.7822216064745449,
         1.9625465112667375,
         1.6697832284307583,
         1.8271515933737619,
         2.030968419031414,
         1.7366579026458957,
         2.0660914867071627
        ]
       ],
       "encoder": "json",
       "name": "ABC_GAN_3 Metrics",
       "version": 1
      }
     },
     "metadata": {
      "scrapbook": {
       "data": true,
       "display": false,
       "name": "ABC_GAN_3 Metrics"
      }
     },
     "output_type": "display_data"
    },
    {
     "name": "stdout",
     "output_type": "stream",
     "text": [
      "MSE\n",
      "0.1716156047259042\n"
     ]
    }
   ],
   "source": [
    "ABC_GAN3_metrics=ABC_train_test2.test_generator(gen3,test_data,prior_model,variance,bias,\"3\",device)\n",
    "sb.glue(\"ABC_GAN_3 Metrics\",ABC_GAN3_metrics)\n",
    "\n",
    "print(\"MSE\")\n",
    "print(mean(ABC_GAN3_metrics[0]))"
   ]
  },
  {
   "cell_type": "code",
   "execution_count": 18,
   "id": "c8e46b48",
   "metadata": {
    "execution": {
     "iopub.execute_input": "2022-06-22T14:04:35.324649Z",
     "iopub.status.busy": "2022-06-22T14:04:35.322826Z",
     "iopub.status.idle": "2022-06-22T14:04:36.204729Z",
     "shell.execute_reply": "2022-06-22T14:04:36.205233Z"
    },
    "id": "c8e46b48",
    "papermill": {
     "duration": 0.957981,
     "end_time": "2022-06-22T14:04:36.205450",
     "exception": false,
     "start_time": "2022-06-22T14:04:35.247469",
     "status": "completed"
    },
    "tags": []
   },
   "outputs": [
    {
     "data": {
      "image/png": "[encoded data removed]",
      "text/plain": [
       "<Figure size 432x288 with 1 Axes>"
      ]
     },
     "metadata": {
      "needs_background": "light"
     },
     "output_type": "display_data"
    },
    {
     "data": {
      "image/png": "[encoded data removed]",
      "text/plain": [
       "<Figure size 432x288 with 1 Axes>"
      ]
     },
     "metadata": {
      "needs_background": "light"
     },
     "output_type": "display_data"
    },
    {
     "data": {
      "image/png": "[encoded data removed]",
      "text/plain": [
       "<Figure size 432x288 with 1 Axes>"
      ]
     },
     "metadata": {
      "needs_background": "light"
     },
     "output_type": "display_data"
    },
    {
     "data": {
      "image/png": "[encoded data removed]",
      "text/plain": [
       "<Figure size 432x288 with 1 Axes>"
      ]
     },
     "metadata": {
      "needs_background": "light"
     },
     "output_type": "display_data"
    }
   ],
   "source": [
    "sanityChecks.discProbVsError(train_data,disc3,device)\n",
    "sanityChecks.discProbVsError(test_data,disc3,device)"
   ]
  },
  {
   "cell_type": "markdown",
   "id": "a5bd74c3",
   "metadata": {
    "id": "a5bd74c3",
    "papermill": {
     "duration": 0.067361,
     "end_time": "2022-06-22T14:04:36.327362",
     "exception": false,
     "start_time": "2022-06-22T14:04:36.260001",
     "status": "completed"
    },
    "tags": []
   },
   "source": [
    "## Skip Connection Model Analysis - ABC-GAN "
   ]
  },
  {
   "cell_type": "markdown",
   "id": "5744a8bf",
   "metadata": {
    "id": "5744a8bf",
    "papermill": {
     "duration": 0.062433,
     "end_time": "2022-06-22T14:04:36.474265",
     "exception": false,
     "start_time": "2022-06-22T14:04:36.411832",
     "status": "completed"
    },
    "tags": []
   },
   "source": [
    "### Weight Analysis \n",
    "\n",
    "Study the weights of the skip connection layer\n",
    "\n",
    "Equation of the skip connection is \n",
    "\n",
    "$output = y_{gan} * w + y_{abc} * (1-w)$"
   ]
  },
  {
   "cell_type": "code",
   "execution_count": 19,
   "id": "52c31dea",
   "metadata": {
    "execution": {
     "iopub.execute_input": "2022-06-22T14:04:36.622800Z",
     "iopub.status.busy": "2022-06-22T14:04:36.621718Z",
     "iopub.status.idle": "2022-06-22T14:04:36.628225Z",
     "shell.execute_reply": "2022-06-22T14:04:36.627537Z"
    },
    "id": "52c31dea",
    "papermill": {
     "duration": 0.091742,
     "end_time": "2022-06-22T14:04:36.628458",
     "exception": false,
     "start_time": "2022-06-22T14:04:36.536716",
     "status": "completed"
    },
    "tags": []
   },
   "outputs": [
    {
     "name": "stdout",
     "output_type": "stream",
     "text": [
      "Weight of the node at skip connection\n",
      "Parameter containing:\n",
      "tensor([[0.]], requires_grad=True)\n"
     ]
    },
    {
     "data": {
      "application/scrapbook.scrap.json+json": {
       "data": 0.0,
       "encoder": "json",
       "name": "Skip Connection Weight",
       "version": 1
      }
     },
     "metadata": {
      "scrapbook": {
       "data": true,
       "display": false,
       "name": "Skip Connection Weight"
      }
     },
     "output_type": "display_data"
    }
   ],
   "source": [
    "print(\"Weight of the node at skip connection\")\n",
    "for name,param in gen3.named_parameters():\n",
    "    if(name == \"skipNode.weight\"):\n",
    "        print(param)\n",
    "        sb.glue(\"Skip Connection Weight\",param.item())"
   ]
  }
 ],
 "metadata": {
  "colab": {
   "collapsed_sections": [],
   "name": "ABC_GAN_Model-Catboost_Pre-gen.ipynb",
   "provenance": []
  },
  "interpreter": {
   "hash": "31f2aee4e71d21fbe5cf8b01ff0e069b9275f58929596ceb00d14d90e3e16cd6"
  },
  "kernelspec": {
   "display_name": "Python 3 (ipykernel)",
   "language": "python",
   "name": "python3"
  },
  "language_info": {
   "codemirror_mode": {
    "name": "ipython",
    "version": 3
   },
   "file_extension": ".py",
   "mimetype": "text/x-python",
   "name": "python",
   "nbconvert_exporter": "python",
   "pygments_lexer": "ipython3",
   "version": "3.8.3"
  },
  "papermill": {
   "default_parameters": {},
   "duration": 176.70703,
   "end_time": "2022-06-22T14:04:38.295654",
   "environment_variables": {},
   "exception": null,
   "input_path": "ABC_GAN-TabNet.ipynb",
   "output_path": "./ABC_GAN_TabNet/ABC-GAN_output_5_10.ipynb",
   "parameters": {
    "bias": 0,
    "variance": 0.1
   },
   "start_time": "2022-06-22T14:01:41.588624",
   "version": "2.3.3"
  }
 },
 "nbformat": 4,
 "nbformat_minor": 5
}