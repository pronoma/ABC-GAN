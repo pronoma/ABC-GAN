{
 "cells": [
  {
   "cell_type": "markdown",
   "id": "622780e6",
   "metadata": {
    "id": "622780e6",
    "papermill": {
     "duration": 0.021716,
     "end_time": "2022-06-22T15:38:23.266205",
     "exception": false,
     "start_time": "2022-06-22T15:38:23.244489",
     "status": "completed"
    },
    "tags": []
   },
   "source": [
    "## Import Libraries "
   ]
  },
  {
   "cell_type": "code",
   "execution_count": 1,
   "id": "a62397e3",
   "metadata": {
    "execution": {
     "iopub.execute_input": "2022-06-22T15:38:23.320737Z",
     "iopub.status.busy": "2022-06-22T15:38:23.319838Z",
     "iopub.status.idle": "2022-06-22T15:38:23.325872Z",
     "shell.execute_reply": "2022-06-22T15:38:23.326629Z"
    },
    "id": "a62397e3",
    "papermill": {
     "duration": 0.038751,
     "end_time": "2022-06-22T15:38:23.327295",
     "exception": false,
     "start_time": "2022-06-22T15:38:23.288544",
     "status": "completed"
    },
    "tags": []
   },
   "outputs": [],
   "source": [
    "import warnings\n",
    "import sys\n",
    "sys.path.insert(0, '../../src')\n",
    "warnings.filterwarnings('ignore')"
   ]
  },
  {
   "cell_type": "code",
   "execution_count": 2,
   "id": "d6a4e155",
   "metadata": {
    "execution": {
     "iopub.execute_input": "2022-06-22T15:38:23.388098Z",
     "iopub.status.busy": "2022-06-22T15:38:23.386649Z",
     "iopub.status.idle": "2022-06-22T15:38:39.356253Z",
     "shell.execute_reply": "2022-06-22T15:38:39.357591Z"
    },
    "id": "d6a4e155",
    "papermill": {
     "duration": 16.007781,
     "end_time": "2022-06-22T15:38:39.357921",
     "exception": false,
     "start_time": "2022-06-22T15:38:23.350140",
     "status": "completed"
    },
    "tags": []
   },
   "outputs": [],
   "source": [
    "import ABC_train_test2\n",
    "import friedman3Dataset\n",
    "import network\n",
    "import dataset\n",
    "import sanityChecks\n",
    "import torch \n",
    "import scrapbook as sb\n",
    "from statistics import mean \n",
    "import catboost as ctb \n",
    "from sklearn.model_selection import train_test_split\n",
    "from sklearn.metrics import mean_squared_error,mean_absolute_error\n",
    "import numpy as np\n",
    "from pytorch_tabnet.tab_model import TabNetRegressor"
   ]
  },
  {
   "cell_type": "markdown",
   "id": "2fa5b0f7",
   "metadata": {
    "id": "2fa5b0f7",
    "papermill": {
     "duration": 0.036193,
     "end_time": "2022-06-22T15:38:39.414037",
     "exception": false,
     "start_time": "2022-06-22T15:38:39.377844",
     "status": "completed"
    },
    "tags": []
   },
   "source": [
    "## Parameters "
   ]
  },
  {
   "cell_type": "code",
   "execution_count": 3,
   "id": "783186fb",
   "metadata": {
    "execution": {
     "iopub.execute_input": "2022-06-22T15:38:39.467925Z",
     "iopub.status.busy": "2022-06-22T15:38:39.466859Z",
     "iopub.status.idle": "2022-06-22T15:38:39.469366Z",
     "shell.execute_reply": "2022-06-22T15:38:39.469992Z"
    },
    "id": "783186fb",
    "papermill": {
     "duration": 0.03255,
     "end_time": "2022-06-22T15:38:39.470387",
     "exception": false,
     "start_time": "2022-06-22T15:38:39.437837",
     "status": "completed"
    },
    "tags": [
     "parameters"
    ]
   },
   "outputs": [],
   "source": [
    "variance = 1\n",
    "bias = 1 "
   ]
  },
  {
   "cell_type": "code",
   "execution_count": 4,
   "id": "ae30a8ad",
   "metadata": {
    "execution": {
     "iopub.execute_input": "2022-06-22T15:38:39.537594Z",
     "iopub.status.busy": "2022-06-22T15:38:39.535560Z",
     "iopub.status.idle": "2022-06-22T15:38:39.539376Z",
     "shell.execute_reply": "2022-06-22T15:38:39.540004Z"
    },
    "papermill": {
     "duration": 0.048354,
     "end_time": "2022-06-22T15:38:39.540520",
     "exception": false,
     "start_time": "2022-06-22T15:38:39.492166",
     "status": "completed"
    },
    "tags": [
     "injected-parameters"
    ]
   },
   "outputs": [],
   "source": [
    "# Parameters\n",
    "variance = 1\n",
    "bias = 0\n"
   ]
  },
  {
   "cell_type": "markdown",
   "id": "391cdbfd",
   "metadata": {
    "id": "391cdbfd",
    "papermill": {
     "duration": 0.020467,
     "end_time": "2022-06-22T15:38:39.581690",
     "exception": false,
     "start_time": "2022-06-22T15:38:39.561223",
     "status": "completed"
    },
    "tags": []
   },
   "source": [
    "## Dataset \n"
   ]
  },
  {
   "cell_type": "code",
   "execution_count": 5,
   "id": "5b51f161",
   "metadata": {
    "execution": {
     "iopub.execute_input": "2022-06-22T15:38:39.637925Z",
     "iopub.status.busy": "2022-06-22T15:38:39.635514Z",
     "iopub.status.idle": "2022-06-22T15:38:39.639265Z",
     "shell.execute_reply": "2022-06-22T15:38:39.642316Z"
    },
    "id": "5b51f161",
    "papermill": {
     "duration": 0.041885,
     "end_time": "2022-06-22T15:38:39.642991",
     "exception": false,
     "start_time": "2022-06-22T15:38:39.601106",
     "status": "completed"
    },
    "tags": []
   },
   "outputs": [],
   "source": [
    "#Parameters \n",
    "n_features = 4\n",
    "n_samples= 100\n",
    "n_target = 1"
   ]
  },
  {
   "cell_type": "code",
   "execution_count": 6,
   "id": "5d6eced4",
   "metadata": {
    "execution": {
     "iopub.execute_input": "2022-06-22T15:38:39.703136Z",
     "iopub.status.busy": "2022-06-22T15:38:39.702219Z",
     "iopub.status.idle": "2022-06-22T15:38:39.734825Z",
     "shell.execute_reply": "2022-06-22T15:38:39.735343Z"
    },
    "id": "5d6eced4",
    "papermill": {
     "duration": 0.068522,
     "end_time": "2022-06-22T15:38:39.735598",
     "exception": false,
     "start_time": "2022-06-22T15:38:39.667076",
     "status": "completed"
    },
    "tags": []
   },
   "outputs": [
    {
     "name": "stdout",
     "output_type": "stream",
     "text": [
      "          X1           X2        X3        X4         Y\n",
      "0  64.818786   925.935729  0.192335  7.580470  1.174647\n",
      "1  34.570765  1000.455236  0.220168  1.088136  1.393780\n",
      "2  10.273039   990.364180  0.160583  4.003014  1.661129\n",
      "3  68.396576   177.885089  0.865180  8.833952  1.026149\n",
      "4  17.660743  1496.652473  0.787790  9.527262  1.692561\n"
     ]
    }
   ],
   "source": [
    "X,Y = friedman3Dataset.friedman3_data(n_samples)"
   ]
  },
  {
   "cell_type": "code",
   "execution_count": 7,
   "id": "fe007438",
   "metadata": {
    "execution": {
     "iopub.execute_input": "2022-06-22T15:38:39.789236Z",
     "iopub.status.busy": "2022-06-22T15:38:39.787003Z",
     "iopub.status.idle": "2022-06-22T15:38:39.794857Z",
     "shell.execute_reply": "2022-06-22T15:38:39.796205Z"
    },
    "id": "fe007438",
    "papermill": {
     "duration": 0.042281,
     "end_time": "2022-06-22T15:38:39.796960",
     "exception": false,
     "start_time": "2022-06-22T15:38:39.754679",
     "status": "completed"
    },
    "tags": []
   },
   "outputs": [],
   "source": [
    "#Train test split for dataset \n",
    "X_train,X_test,Y_train,Y_test = train_test_split(X,Y,test_size = 0.2)\n",
    "train_data = dataset.CustomDataset(X_train,Y_train)\n",
    "test_data = dataset.CustomDataset(X_test,Y_test)\n"
   ]
  },
  {
   "cell_type": "markdown",
   "id": "a9a1af34",
   "metadata": {
    "id": "a9a1af34",
    "papermill": {
     "duration": 0.018936,
     "end_time": "2022-06-22T15:38:39.834997",
     "exception": false,
     "start_time": "2022-06-22T15:38:39.816061",
     "status": "completed"
    },
    "tags": []
   },
   "source": [
    "## Training Parameters "
   ]
  },
  {
   "cell_type": "code",
   "execution_count": 8,
   "id": "952b7fc8",
   "metadata": {
    "execution": {
     "iopub.execute_input": "2022-06-22T15:38:39.909447Z",
     "iopub.status.busy": "2022-06-22T15:38:39.908464Z",
     "iopub.status.idle": "2022-06-22T15:38:39.910771Z",
     "shell.execute_reply": "2022-06-22T15:38:39.911722Z"
    },
    "id": "952b7fc8",
    "papermill": {
     "duration": 0.059746,
     "end_time": "2022-06-22T15:38:39.911982",
     "exception": false,
     "start_time": "2022-06-22T15:38:39.852236",
     "status": "completed"
    },
    "tags": []
   },
   "outputs": [],
   "source": [
    "batch_size = 32\n",
    "n_epochs = 1000\n",
    "#Select the device \n",
    "device = torch.device('cuda' if torch.cuda.is_available() else 'cpu')"
   ]
  },
  {
   "cell_type": "markdown",
   "id": "a95e1600",
   "metadata": {
    "id": "a95e1600",
    "papermill": {
     "duration": 0.046605,
     "end_time": "2022-06-22T15:38:39.986051",
     "exception": false,
     "start_time": "2022-06-22T15:38:39.939446",
     "status": "completed"
    },
    "tags": []
   },
   "source": [
    "# ABC Pre-generator Model \n",
    "\n",
    "1. The catboost model is used as a pre-generator model for the ABC-GAN. \n",
    "2. The model is first trained on the entire dataset \n",
    "3. It generats X,Y pairs and we add some Gaussian noise with mean 0 and variance 1 to it which is then feed as input to the generator.\n"
   ]
  },
  {
   "cell_type": "code",
   "execution_count": 9,
   "id": "ff8ce7bd",
   "metadata": {
    "execution": {
     "iopub.execute_input": "2022-06-22T15:38:40.049084Z",
     "iopub.status.busy": "2022-06-22T15:38:40.048044Z",
     "iopub.status.idle": "2022-06-22T15:39:04.933782Z",
     "shell.execute_reply": "2022-06-22T15:39:04.934372Z"
    },
    "id": "ff8ce7bd",
    "papermill": {
     "duration": 24.92167,
     "end_time": "2022-06-22T15:39:04.935071",
     "exception": false,
     "start_time": "2022-06-22T15:38:40.013401",
     "status": "completed"
    },
    "tags": []
   },
   "outputs": [
    {
     "name": "stdout",
     "output_type": "stream",
     "text": [
      "Device used : cpu\n"
     ]
    },
    {
     "name": "stdout",
     "output_type": "stream",
     "text": [
      "epoch 0  | loss: 1.13714 | train_mse: 3.02836 | train_mae: 1.23377 |  0:00:00s\n",
      "epoch 1  | loss: 0.65758 | train_mse: 2.11926 | train_mae: 1.04899 |  0:00:00s\n",
      "epoch 2  | loss: 0.48895 | train_mse: 2.54365 | train_mae: 1.19433 |  0:00:00s\n"
     ]
    },
    {
     "name": "stdout",
     "output_type": "stream",
     "text": [
      "epoch 3  | loss: 0.43282 | train_mse: 2.8187  | train_mae: 1.26419 |  0:00:00s\n",
      "epoch 4  | loss: 0.28652 | train_mse: 1.81234 | train_mae: 0.99093 |  0:00:00s\n",
      "epoch 5  | loss: 0.2655  | train_mse: 1.93834 | train_mae: 0.99113 |  0:00:00s\n"
     ]
    },
    {
     "name": "stdout",
     "output_type": "stream",
     "text": [
      "epoch 6  | loss: 0.4695  | train_mse: 1.96723 | train_mae: 1.05958 |  0:00:01s\n",
      "epoch 7  | loss: 0.36109 | train_mse: 1.11361 | train_mae: 0.81773 |  0:00:01s\n"
     ]
    },
    {
     "name": "stdout",
     "output_type": "stream",
     "text": [
      "epoch 8  | loss: 0.3614  | train_mse: 0.68312 | train_mae: 0.63182 |  0:00:01s\n",
      "epoch 9  | loss: 0.38213 | train_mse: 1.0539  | train_mae: 0.74736 |  0:00:01s\n"
     ]
    },
    {
     "name": "stdout",
     "output_type": "stream",
     "text": [
      "epoch 10 | loss: 0.2282  | train_mse: 2.00265 | train_mae: 0.99117 |  0:00:01s\n",
      "epoch 11 | loss: 0.33377 | train_mse: 1.87741 | train_mae: 0.97127 |  0:00:02s\n"
     ]
    },
    {
     "name": "stdout",
     "output_type": "stream",
     "text": [
      "epoch 12 | loss: 0.15328 | train_mse: 1.09295 | train_mae: 0.76725 |  0:00:02s\n",
      "epoch 13 | loss: 0.22241 | train_mse: 0.85671 | train_mae: 0.65833 |  0:00:02s\n",
      "epoch 14 | loss: 0.23197 | train_mse: 1.03143 | train_mae: 0.67709 |  0:00:02s\n"
     ]
    },
    {
     "name": "stdout",
     "output_type": "stream",
     "text": [
      "epoch 15 | loss: 0.22316 | train_mse: 1.26807 | train_mae: 0.73666 |  0:00:02s\n",
      "epoch 16 | loss: 0.23746 | train_mse: 1.46301 | train_mae: 0.78065 |  0:00:02s\n"
     ]
    },
    {
     "name": "stdout",
     "output_type": "stream",
     "text": [
      "epoch 17 | loss: 0.26126 | train_mse: 1.58236 | train_mae: 0.833   |  0:00:02s\n",
      "epoch 18 | loss: 0.26357 | train_mse: 0.91126 | train_mae: 0.6498  |  0:00:02s\n",
      "epoch 19 | loss: 0.35428 | train_mse: 0.19364 | train_mae: 0.33799 |  0:00:02s\n"
     ]
    },
    {
     "name": "stdout",
     "output_type": "stream",
     "text": [
      "epoch 20 | loss: 0.18324 | train_mse: 0.17275 | train_mae: 0.31811 |  0:00:02s\n",
      "epoch 21 | loss: 0.14512 | train_mse: 0.4315  | train_mae: 0.44936 |  0:00:03s\n"
     ]
    },
    {
     "name": "stdout",
     "output_type": "stream",
     "text": [
      "epoch 22 | loss: 0.15845 | train_mse: 0.71771 | train_mae: 0.55781 |  0:00:03s\n",
      "epoch 23 | loss: 0.23382 | train_mse: 1.00838 | train_mae: 0.64081 |  0:00:03s\n",
      "epoch 24 | loss: 0.1593  | train_mse: 0.55205 | train_mae: 0.50476 |  0:00:03s\n"
     ]
    },
    {
     "name": "stdout",
     "output_type": "stream",
     "text": [
      "epoch 25 | loss: 0.15171 | train_mse: 0.26196 | train_mae: 0.37817 |  0:00:03s\n",
      "epoch 26 | loss: 0.21813 | train_mse: 0.11864 | train_mae: 0.28704 |  0:00:03s\n",
      "epoch 27 | loss: 0.15045 | train_mse: 0.11336 | train_mae: 0.27602 |  0:00:03s\n"
     ]
    },
    {
     "name": "stdout",
     "output_type": "stream",
     "text": [
      "epoch 28 | loss: 0.20968 | train_mse: 0.21819 | train_mae: 0.33475 |  0:00:03s\n",
      "epoch 29 | loss: 0.32497 | train_mse: 0.20275 | train_mae: 0.318   |  0:00:03s\n",
      "epoch 30 | loss: 0.10702 | train_mse: 0.18624 | train_mae: 0.31277 |  0:00:03s\n"
     ]
    },
    {
     "name": "stdout",
     "output_type": "stream",
     "text": [
      "epoch 31 | loss: 0.26791 | train_mse: 0.2074  | train_mae: 0.32588 |  0:00:03s\n",
      "epoch 32 | loss: 0.10186 | train_mse: 0.18104 | train_mae: 0.31216 |  0:00:04s\n",
      "epoch 33 | loss: 0.1982  | train_mse: 0.15939 | train_mae: 0.30673 |  0:00:04s\n"
     ]
    },
    {
     "name": "stdout",
     "output_type": "stream",
     "text": [
      "epoch 34 | loss: 0.2024  | train_mse: 0.11528 | train_mae: 0.27165 |  0:00:04s\n",
      "epoch 35 | loss: 0.13924 | train_mse: 0.07454 | train_mae: 0.21418 |  0:00:04s\n",
      "epoch 36 | loss: 0.0839  | train_mse: 0.0905  | train_mae: 0.234   |  0:00:04s\n"
     ]
    },
    {
     "name": "stdout",
     "output_type": "stream",
     "text": [
      "epoch 37 | loss: 0.08418 | train_mse: 0.14892 | train_mae: 0.28739 |  0:00:04s\n",
      "epoch 38 | loss: 0.12473 | train_mse: 0.22036 | train_mae: 0.33184 |  0:00:04s\n",
      "epoch 39 | loss: 0.09278 | train_mse: 0.24223 | train_mae: 0.3433  |  0:00:04s\n"
     ]
    },
    {
     "name": "stdout",
     "output_type": "stream",
     "text": [
      "epoch 40 | loss: 0.1159  | train_mse: 0.21512 | train_mae: 0.33239 |  0:00:04s\n",
      "epoch 41 | loss: 0.10042 | train_mse: 0.10639 | train_mae: 0.25693 |  0:00:04s\n",
      "epoch 42 | loss: 0.23073 | train_mse: 0.08345 | train_mae: 0.23464 |  0:00:04s\n"
     ]
    },
    {
     "name": "stdout",
     "output_type": "stream",
     "text": [
      "epoch 43 | loss: 0.21293 | train_mse: 0.16714 | train_mae: 0.30537 |  0:00:04s\n",
      "epoch 44 | loss: 0.14393 | train_mse: 0.2293  | train_mae: 0.33417 |  0:00:05s\n"
     ]
    },
    {
     "name": "stdout",
     "output_type": "stream",
     "text": [
      "epoch 45 | loss: 0.11657 | train_mse: 0.25977 | train_mae: 0.35696 |  0:00:05s\n",
      "epoch 46 | loss: 0.11245 | train_mse: 0.19963 | train_mae: 0.33191 |  0:00:05s\n",
      "epoch 47 | loss: 0.1054  | train_mse: 0.13116 | train_mae: 0.28519 |  0:00:05s\n"
     ]
    },
    {
     "name": "stdout",
     "output_type": "stream",
     "text": [
      "epoch 48 | loss: 0.18843 | train_mse: 0.09485 | train_mae: 0.24883 |  0:00:05s\n",
      "epoch 49 | loss: 0.17069 | train_mse: 0.0909  | train_mae: 0.23857 |  0:00:05s\n",
      "epoch 50 | loss: 0.16901 | train_mse: 0.07089 | train_mae: 0.21036 |  0:00:05s\n"
     ]
    },
    {
     "name": "stdout",
     "output_type": "stream",
     "text": [
      "epoch 51 | loss: 0.12589 | train_mse: 0.08021 | train_mae: 0.22109 |  0:00:05s\n",
      "epoch 52 | loss: 0.14175 | train_mse: 0.11612 | train_mae: 0.26481 |  0:00:05s\n",
      "epoch 53 | loss: 0.06487 | train_mse: 0.10415 | train_mae: 0.24741 |  0:00:05s\n"
     ]
    },
    {
     "name": "stdout",
     "output_type": "stream",
     "text": [
      "epoch 54 | loss: 0.22265 | train_mse: 0.12111 | train_mae: 0.25834 |  0:00:05s\n",
      "epoch 55 | loss: 0.0791  | train_mse: 0.07827 | train_mae: 0.21383 |  0:00:06s\n"
     ]
    },
    {
     "name": "stdout",
     "output_type": "stream",
     "text": [
      "epoch 56 | loss: 0.09928 | train_mse: 0.05919 | train_mae: 0.19206 |  0:00:06s\n",
      "epoch 57 | loss: 0.07593 | train_mse: 0.05676 | train_mae: 0.19193 |  0:00:06s\n",
      "epoch 58 | loss: 0.08061 | train_mse: 0.05236 | train_mae: 0.17081 |  0:00:06s\n"
     ]
    },
    {
     "name": "stdout",
     "output_type": "stream",
     "text": [
      "epoch 59 | loss: 0.08367 | train_mse: 0.05096 | train_mae: 0.17372 |  0:00:06s\n",
      "epoch 60 | loss: 0.23527 | train_mse: 0.08222 | train_mae: 0.20534 |  0:00:06s\n"
     ]
    },
    {
     "name": "stdout",
     "output_type": "stream",
     "text": [
      "epoch 61 | loss: 0.12459 | train_mse: 0.09591 | train_mae: 0.23727 |  0:00:06s\n",
      "epoch 62 | loss: 0.24205 | train_mse: 0.07819 | train_mae: 0.21664 |  0:00:06s\n",
      "epoch 63 | loss: 0.08672 | train_mse: 0.06004 | train_mae: 0.18454 |  0:00:06s\n"
     ]
    },
    {
     "name": "stdout",
     "output_type": "stream",
     "text": [
      "epoch 64 | loss: 0.16067 | train_mse: 0.0689  | train_mae: 0.19974 |  0:00:07s\n",
      "epoch 65 | loss: 0.12392 | train_mse: 0.06258 | train_mae: 0.19645 |  0:00:07s\n"
     ]
    },
    {
     "name": "stdout",
     "output_type": "stream",
     "text": [
      "epoch 66 | loss: 0.08014 | train_mse: 0.05714 | train_mae: 0.19056 |  0:00:07s\n",
      "epoch 67 | loss: 0.14217 | train_mse: 0.05875 | train_mae: 0.19138 |  0:00:07s\n",
      "epoch 68 | loss: 0.27002 | train_mse: 0.0564  | train_mae: 0.18907 |  0:00:07s\n"
     ]
    },
    {
     "name": "stdout",
     "output_type": "stream",
     "text": [
      "epoch 69 | loss: 0.17243 | train_mse: 0.06032 | train_mae: 0.19176 |  0:00:07s\n",
      "epoch 70 | loss: 0.11814 | train_mse: 0.07483 | train_mae: 0.21965 |  0:00:07s\n",
      "epoch 71 | loss: 0.06594 | train_mse: 0.0549  | train_mae: 0.19301 |  0:00:07s\n"
     ]
    },
    {
     "name": "stdout",
     "output_type": "stream",
     "text": [
      "epoch 72 | loss: 0.15703 | train_mse: 0.04835 | train_mae: 0.17312 |  0:00:07s\n",
      "epoch 73 | loss: 0.05738 | train_mse: 0.04769 | train_mae: 0.17915 |  0:00:08s\n"
     ]
    },
    {
     "name": "stdout",
     "output_type": "stream",
     "text": [
      "epoch 74 | loss: 0.0698  | train_mse: 0.04936 | train_mae: 0.1835  |  0:00:08s\n",
      "epoch 75 | loss: 0.12956 | train_mse: 0.06959 | train_mae: 0.21376 |  0:00:08s\n"
     ]
    },
    {
     "name": "stdout",
     "output_type": "stream",
     "text": [
      "epoch 76 | loss: 0.14579 | train_mse: 0.08596 | train_mae: 0.22716 |  0:00:08s\n",
      "epoch 77 | loss: 0.12684 | train_mse: 0.11752 | train_mae: 0.25161 |  0:00:08s\n"
     ]
    },
    {
     "name": "stdout",
     "output_type": "stream",
     "text": [
      "epoch 78 | loss: 0.09997 | train_mse: 0.09354 | train_mae: 0.23417 |  0:00:08s\n",
      "epoch 79 | loss: 0.06209 | train_mse: 0.04964 | train_mae: 0.18028 |  0:00:08s\n"
     ]
    },
    {
     "name": "stdout",
     "output_type": "stream",
     "text": [
      "epoch 80 | loss: 0.12658 | train_mse: 0.04757 | train_mae: 0.17227 |  0:00:08s\n",
      "epoch 81 | loss: 0.16636 | train_mse: 0.05623 | train_mae: 0.18594 |  0:00:09s\n"
     ]
    },
    {
     "name": "stdout",
     "output_type": "stream",
     "text": [
      "epoch 82 | loss: 0.1969  | train_mse: 0.10351 | train_mae: 0.25718 |  0:00:09s\n",
      "epoch 83 | loss: 0.1968  | train_mse: 0.07935 | train_mae: 0.22564 |  0:00:09s\n"
     ]
    },
    {
     "name": "stdout",
     "output_type": "stream",
     "text": [
      "epoch 84 | loss: 0.11153 | train_mse: 0.06116 | train_mae: 0.2039  |  0:00:09s\n",
      "epoch 85 | loss: 0.27668 | train_mse: 0.0555  | train_mae: 0.1887  |  0:00:09s\n",
      "epoch 86 | loss: 0.0818  | train_mse: 0.05796 | train_mae: 0.19594 |  0:00:09s\n"
     ]
    },
    {
     "name": "stdout",
     "output_type": "stream",
     "text": [
      "epoch 87 | loss: 0.10832 | train_mse: 0.05478 | train_mae: 0.19461 |  0:00:09s\n",
      "epoch 88 | loss: 0.08219 | train_mse: 0.04669 | train_mae: 0.17917 |  0:00:09s\n",
      "epoch 89 | loss: 0.07654 | train_mse: 0.04399 | train_mae: 0.17795 |  0:00:09s\n"
     ]
    },
    {
     "name": "stdout",
     "output_type": "stream",
     "text": [
      "epoch 90 | loss: 0.08041 | train_mse: 0.04042 | train_mae: 0.16238 |  0:00:09s\n",
      "epoch 91 | loss: 0.3353  | train_mse: 0.06759 | train_mae: 0.20638 |  0:00:10s\n"
     ]
    },
    {
     "name": "stdout",
     "output_type": "stream",
     "text": [
      "epoch 92 | loss: 0.2281  | train_mse: 0.05513 | train_mae: 0.1868  |  0:00:10s\n",
      "epoch 93 | loss: 0.06552 | train_mse: 0.05157 | train_mae: 0.18039 |  0:00:10s\n",
      "epoch 94 | loss: 0.16424 | train_mse: 0.04909 | train_mae: 0.18161 |  0:00:10s\n"
     ]
    },
    {
     "name": "stdout",
     "output_type": "stream",
     "text": [
      "epoch 95 | loss: 0.15823 | train_mse: 0.05348 | train_mae: 0.18549 |  0:00:10s\n",
      "epoch 96 | loss: 0.22981 | train_mse: 0.05145 | train_mae: 0.18348 |  0:00:10s\n"
     ]
    },
    {
     "name": "stdout",
     "output_type": "stream",
     "text": [
      "epoch 97 | loss: 0.11237 | train_mse: 0.04453 | train_mae: 0.17443 |  0:00:10s\n",
      "epoch 98 | loss: 0.12209 | train_mse: 0.04224 | train_mae: 0.16641 |  0:00:10s\n",
      "epoch 99 | loss: 0.11498 | train_mse: 0.05111 | train_mae: 0.17846 |  0:00:10s\n"
     ]
    },
    {
     "name": "stdout",
     "output_type": "stream",
     "text": [
      "epoch 100| loss: 0.12332 | train_mse: 0.09563 | train_mae: 0.22666 |  0:00:10s\n",
      "epoch 101| loss: 0.11392 | train_mse: 0.13792 | train_mae: 0.2655  |  0:00:11s\n"
     ]
    },
    {
     "name": "stdout",
     "output_type": "stream",
     "text": [
      "epoch 102| loss: 0.15152 | train_mse: 0.09827 | train_mae: 0.22287 |  0:00:11s\n",
      "epoch 103| loss: 0.05781 | train_mse: 0.04961 | train_mae: 0.17945 |  0:00:11s\n",
      "epoch 104| loss: 0.19706 | train_mse: 0.04787 | train_mae: 0.17753 |  0:00:11s\n"
     ]
    },
    {
     "name": "stdout",
     "output_type": "stream",
     "text": [
      "epoch 105| loss: 0.05719 | train_mse: 0.05068 | train_mae: 0.18382 |  0:00:11s\n",
      "epoch 106| loss: 0.14602 | train_mse: 0.0436  | train_mae: 0.16641 |  0:00:11s\n"
     ]
    },
    {
     "name": "stdout",
     "output_type": "stream",
     "text": [
      "epoch 107| loss: 0.11688 | train_mse: 0.04221 | train_mae: 0.16015 |  0:00:11s\n",
      "epoch 108| loss: 0.11453 | train_mse: 0.04756 | train_mae: 0.16684 |  0:00:11s\n",
      "epoch 109| loss: 0.08182 | train_mse: 0.0509  | train_mae: 0.17853 |  0:00:11s\n"
     ]
    },
    {
     "name": "stdout",
     "output_type": "stream",
     "text": [
      "epoch 110| loss: 0.07858 | train_mse: 0.05962 | train_mae: 0.19284 |  0:00:12s\n",
      "epoch 111| loss: 0.05626 | train_mse: 0.0541  | train_mae: 0.185   |  0:00:12s\n"
     ]
    },
    {
     "name": "stdout",
     "output_type": "stream",
     "text": [
      "epoch 112| loss: 0.08197 | train_mse: 0.0468  | train_mae: 0.17187 |  0:00:12s\n",
      "epoch 113| loss: 0.09177 | train_mse: 0.03893 | train_mae: 0.15775 |  0:00:12s\n",
      "epoch 114| loss: 0.09495 | train_mse: 0.03624 | train_mae: 0.15116 |  0:00:12s\n"
     ]
    },
    {
     "name": "stdout",
     "output_type": "stream",
     "text": [
      "epoch 115| loss: 0.17769 | train_mse: 0.03772 | train_mae: 0.15079 |  0:00:12s\n",
      "epoch 116| loss: 0.10362 | train_mse: 0.0542  | train_mae: 0.1915  |  0:00:12s\n"
     ]
    },
    {
     "name": "stdout",
     "output_type": "stream",
     "text": [
      "epoch 117| loss: 0.1661  | train_mse: 0.04632 | train_mae: 0.17281 |  0:00:12s\n",
      "epoch 118| loss: 0.16726 | train_mse: 0.04541 | train_mae: 0.16681 |  0:00:12s\n",
      "epoch 119| loss: 0.05551 | train_mse: 0.0479  | train_mae: 0.17068 |  0:00:12s\n"
     ]
    },
    {
     "name": "stdout",
     "output_type": "stream",
     "text": [
      "epoch 120| loss: 0.15701 | train_mse: 0.0509  | train_mae: 0.17756 |  0:00:13s\n",
      "epoch 121| loss: 0.07776 | train_mse: 0.04627 | train_mae: 0.17025 |  0:00:13s\n"
     ]
    },
    {
     "name": "stdout",
     "output_type": "stream",
     "text": [
      "epoch 122| loss: 0.2252  | train_mse: 0.0537  | train_mae: 0.18441 |  0:00:13s\n",
      "epoch 123| loss: 0.04841 | train_mse: 0.05462 | train_mae: 0.18538 |  0:00:13s\n",
      "epoch 124| loss: 0.17723 | train_mse: 0.05633 | train_mae: 0.18626 |  0:00:13s\n"
     ]
    },
    {
     "name": "stdout",
     "output_type": "stream",
     "text": [
      "epoch 125| loss: 0.05507 | train_mse: 0.05268 | train_mae: 0.18901 |  0:00:13s\n",
      "epoch 126| loss: 0.04942 | train_mse: 0.06825 | train_mae: 0.20334 |  0:00:13s\n",
      "epoch 127| loss: 0.12592 | train_mse: 0.05279 | train_mae: 0.18293 |  0:00:13s\n"
     ]
    },
    {
     "name": "stdout",
     "output_type": "stream",
     "text": [
      "epoch 128| loss: 0.2682  | train_mse: 0.07382 | train_mae: 0.20506 |  0:00:13s\n",
      "epoch 129| loss: 0.06695 | train_mse: 0.06476 | train_mae: 0.19261 |  0:00:14s\n"
     ]
    },
    {
     "name": "stdout",
     "output_type": "stream",
     "text": [
      "epoch 130| loss: 0.0628  | train_mse: 0.04304 | train_mae: 0.16607 |  0:00:14s\n",
      "epoch 131| loss: 0.06866 | train_mse: 0.0429  | train_mae: 0.16306 |  0:00:14s\n",
      "epoch 132| loss: 0.07125 | train_mse: 0.04589 | train_mae: 0.17115 |  0:00:14s\n"
     ]
    },
    {
     "name": "stdout",
     "output_type": "stream",
     "text": [
      "epoch 133| loss: 0.15063 | train_mse: 0.0531  | train_mae: 0.18324 |  0:00:14s\n",
      "epoch 134| loss: 0.05849 | train_mse: 0.05021 | train_mae: 0.17758 |  0:00:14s\n",
      "epoch 135| loss: 0.12446 | train_mse: 0.05497 | train_mae: 0.18812 |  0:00:14s\n"
     ]
    },
    {
     "name": "stdout",
     "output_type": "stream",
     "text": [
      "epoch 136| loss: 0.08147 | train_mse: 0.05993 | train_mae: 0.19943 |  0:00:14s\n",
      "epoch 137| loss: 0.05596 | train_mse: 0.04423 | train_mae: 0.1712  |  0:00:14s\n"
     ]
    },
    {
     "name": "stdout",
     "output_type": "stream",
     "text": [
      "epoch 138| loss: 0.14148 | train_mse: 0.03839 | train_mae: 0.15256 |  0:00:15s\n",
      "epoch 139| loss: 0.15448 | train_mse: 0.06802 | train_mae: 0.19762 |  0:00:15s\n"
     ]
    },
    {
     "name": "stdout",
     "output_type": "stream",
     "text": [
      "epoch 140| loss: 0.07486 | train_mse: 0.08191 | train_mae: 0.21978 |  0:00:15s\n",
      "epoch 141| loss: 0.08526 | train_mse: 0.06776 | train_mae: 0.19982 |  0:00:15s\n"
     ]
    },
    {
     "name": "stdout",
     "output_type": "stream",
     "text": [
      "epoch 142| loss: 0.07035 | train_mse: 0.04848 | train_mae: 0.16651 |  0:00:15s\n",
      "epoch 143| loss: 0.07025 | train_mse: 0.0435  | train_mae: 0.16482 |  0:00:15s\n",
      "epoch 144| loss: 0.0648  | train_mse: 0.0398  | train_mae: 0.1609  |  0:00:15s\n"
     ]
    },
    {
     "name": "stdout",
     "output_type": "stream",
     "text": [
      "epoch 145| loss: 0.15009 | train_mse: 0.03729 | train_mae: 0.1561  |  0:00:15s\n",
      "epoch 146| loss: 0.12611 | train_mse: 0.04153 | train_mae: 0.16458 |  0:00:15s\n"
     ]
    },
    {
     "name": "stdout",
     "output_type": "stream",
     "text": [
      "epoch 147| loss: 0.07961 | train_mse: 0.05285 | train_mae: 0.18116 |  0:00:16s\n",
      "epoch 148| loss: 0.06774 | train_mse: 0.05151 | train_mae: 0.17281 |  0:00:16s\n"
     ]
    },
    {
     "name": "stdout",
     "output_type": "stream",
     "text": [
      "epoch 149| loss: 0.07509 | train_mse: 0.04425 | train_mae: 0.15764 |  0:00:16s\n",
      "epoch 150| loss: 0.15026 | train_mse: 0.04188 | train_mae: 0.15559 |  0:00:16s\n",
      "epoch 151| loss: 0.29767 | train_mse: 0.05804 | train_mae: 0.18187 |  0:00:16s\n"
     ]
    },
    {
     "name": "stdout",
     "output_type": "stream",
     "text": [
      "epoch 152| loss: 0.17504 | train_mse: 0.05223 | train_mae: 0.16802 |  0:00:16s\n",
      "epoch 153| loss: 0.05716 | train_mse: 0.05132 | train_mae: 0.16705 |  0:00:16s\n"
     ]
    },
    {
     "name": "stdout",
     "output_type": "stream",
     "text": [
      "epoch 154| loss: 0.17857 | train_mse: 0.0466  | train_mae: 0.16456 |  0:00:16s\n",
      "epoch 155| loss: 0.077   | train_mse: 0.03386 | train_mae: 0.1504  |  0:00:16s\n"
     ]
    },
    {
     "name": "stdout",
     "output_type": "stream",
     "text": [
      "epoch 156| loss: 0.17772 | train_mse: 0.03153 | train_mae: 0.14428 |  0:00:16s\n",
      "epoch 157| loss: 0.07831 | train_mse: 0.03563 | train_mae: 0.15169 |  0:00:17s\n"
     ]
    },
    {
     "name": "stdout",
     "output_type": "stream",
     "text": [
      "epoch 158| loss: 0.16605 | train_mse: 0.03995 | train_mae: 0.16258 |  0:00:17s\n",
      "epoch 159| loss: 0.07877 | train_mse: 0.06619 | train_mae: 0.20405 |  0:00:17s\n",
      "epoch 160| loss: 0.19714 | train_mse: 0.11368 | train_mae: 0.23512 |  0:00:17s\n"
     ]
    },
    {
     "name": "stdout",
     "output_type": "stream",
     "text": [
      "epoch 161| loss: 0.19282 | train_mse: 0.0633  | train_mae: 0.19481 |  0:00:17s\n",
      "epoch 162| loss: 0.06505 | train_mse: 0.05532 | train_mae: 0.18424 |  0:00:17s\n"
     ]
    },
    {
     "name": "stdout",
     "output_type": "stream",
     "text": [
      "epoch 163| loss: 0.04761 | train_mse: 0.05849 | train_mae: 0.18758 |  0:00:17s\n",
      "epoch 164| loss: 0.06191 | train_mse: 0.05124 | train_mae: 0.1773  |  0:00:17s\n"
     ]
    },
    {
     "name": "stdout",
     "output_type": "stream",
     "text": [
      "epoch 165| loss: 0.07679 | train_mse: 0.03595 | train_mae: 0.15541 |  0:00:17s\n",
      "epoch 166| loss: 0.12933 | train_mse: 0.03645 | train_mae: 0.15298 |  0:00:18s\n"
     ]
    },
    {
     "name": "stdout",
     "output_type": "stream",
     "text": [
      "epoch 167| loss: 0.05157 | train_mse: 0.03192 | train_mae: 0.1425  |  0:00:18s\n",
      "epoch 168| loss: 0.06213 | train_mse: 0.03469 | train_mae: 0.14854 |  0:00:18s\n",
      "epoch 169| loss: 0.08628 | train_mse: 0.03085 | train_mae: 0.145   |  0:00:18s\n"
     ]
    },
    {
     "name": "stdout",
     "output_type": "stream",
     "text": [
      "epoch 170| loss: 0.14837 | train_mse: 0.08257 | train_mae: 0.20752 |  0:00:18s\n",
      "epoch 171| loss: 0.07732 | train_mse: 0.07296 | train_mae: 0.19003 |  0:00:18s\n"
     ]
    },
    {
     "name": "stdout",
     "output_type": "stream",
     "text": [
      "epoch 172| loss: 0.06139 | train_mse: 0.03061 | train_mae: 0.1369  |  0:00:18s\n",
      "epoch 173| loss: 0.04625 | train_mse: 0.04659 | train_mae: 0.16634 |  0:00:18s\n"
     ]
    },
    {
     "name": "stdout",
     "output_type": "stream",
     "text": [
      "epoch 174| loss: 0.08011 | train_mse: 0.0648  | train_mae: 0.1882  |  0:00:18s\n",
      "epoch 175| loss: 0.06689 | train_mse: 0.04953 | train_mae: 0.15996 |  0:00:19s\n"
     ]
    },
    {
     "name": "stdout",
     "output_type": "stream",
     "text": [
      "epoch 176| loss: 0.1246  | train_mse: 0.03898 | train_mae: 0.14792 |  0:00:19s\n",
      "epoch 177| loss: 0.04944 | train_mse: 0.02939 | train_mae: 0.12952 |  0:00:19s\n"
     ]
    },
    {
     "name": "stdout",
     "output_type": "stream",
     "text": [
      "epoch 178| loss: 0.25818 | train_mse: 0.02672 | train_mae: 0.11978 |  0:00:19s\n",
      "epoch 179| loss: 0.08618 | train_mse: 0.02552 | train_mae: 0.12083 |  0:00:19s\n",
      "epoch 180| loss: 0.05691 | train_mse: 0.03988 | train_mae: 0.15958 |  0:00:19s\n"
     ]
    },
    {
     "name": "stdout",
     "output_type": "stream",
     "text": [
      "epoch 181| loss: 0.1291  | train_mse: 0.05663 | train_mae: 0.18809 |  0:00:19s\n",
      "epoch 182| loss: 0.12541 | train_mse: 0.0367  | train_mae: 0.14343 |  0:00:20s\n"
     ]
    },
    {
     "name": "stdout",
     "output_type": "stream",
     "text": [
      "epoch 183| loss: 0.04962 | train_mse: 0.02633 | train_mae: 0.12485 |  0:00:20s\n",
      "epoch 184| loss: 0.06203 | train_mse: 0.04008 | train_mae: 0.15385 |  0:00:20s\n"
     ]
    },
    {
     "name": "stdout",
     "output_type": "stream",
     "text": [
      "epoch 185| loss: 0.08255 | train_mse: 0.03941 | train_mae: 0.15474 |  0:00:20s\n",
      "epoch 186| loss: 0.09226 | train_mse: 0.03249 | train_mae: 0.14217 |  0:00:20s\n",
      "epoch 187| loss: 0.06582 | train_mse: 0.0276  | train_mae: 0.12965 |  0:00:20s\n"
     ]
    },
    {
     "name": "stdout",
     "output_type": "stream",
     "text": [
      "epoch 188| loss: 0.08054 | train_mse: 0.04637 | train_mae: 0.16557 |  0:00:20s\n",
      "epoch 189| loss: 0.05197 | train_mse: 0.04951 | train_mae: 0.16799 |  0:00:20s\n",
      "epoch 190| loss: 0.03721 | train_mse: 0.05834 | train_mae: 0.19163 |  0:00:20s\n"
     ]
    },
    {
     "name": "stdout",
     "output_type": "stream",
     "text": [
      "epoch 191| loss: 0.25412 | train_mse: 0.0563  | train_mae: 0.18601 |  0:00:20s\n",
      "epoch 192| loss: 0.05748 | train_mse: 0.05351 | train_mae: 0.18012 |  0:00:21s\n",
      "epoch 193| loss: 0.05943 | train_mse: 0.05495 | train_mae: 0.18302 |  0:00:21s\n"
     ]
    },
    {
     "name": "stdout",
     "output_type": "stream",
     "text": [
      "epoch 194| loss: 0.06346 | train_mse: 0.04076 | train_mae: 0.1647  |  0:00:21s\n",
      "epoch 195| loss: 0.0821  | train_mse: 0.0404  | train_mae: 0.16473 |  0:00:21s\n",
      "epoch 196| loss: 0.08338 | train_mse: 0.03568 | train_mae: 0.15166 |  0:00:21s\n"
     ]
    },
    {
     "name": "stdout",
     "output_type": "stream",
     "text": [
      "epoch 197| loss: 0.03611 | train_mse: 0.04158 | train_mae: 0.16699 |  0:00:21s\n",
      "epoch 198| loss: 0.2528  | train_mse: 0.04779 | train_mae: 0.1746  |  0:00:21s\n"
     ]
    },
    {
     "name": "stdout",
     "output_type": "stream",
     "text": [
      "epoch 199| loss: 0.05926 | train_mse: 0.05626 | train_mae: 0.17809 |  0:00:21s\n",
      "epoch 200| loss: 0.05394 | train_mse: 0.05893 | train_mae: 0.17873 |  0:00:21s\n",
      "epoch 201| loss: 0.0967  | train_mse: 0.07316 | train_mae: 0.19569 |  0:00:21s\n"
     ]
    },
    {
     "name": "stdout",
     "output_type": "stream",
     "text": [
      "epoch 202| loss: 0.10823 | train_mse: 0.08515 | train_mae: 0.20809 |  0:00:22s\n",
      "epoch 203| loss: 0.10755 | train_mse: 0.05496 | train_mae: 0.18008 |  0:00:22s\n"
     ]
    },
    {
     "name": "stdout",
     "output_type": "stream",
     "text": [
      "epoch 204| loss: 0.11327 | train_mse: 0.05073 | train_mae: 0.17806 |  0:00:22s\n",
      "epoch 205| loss: 0.04982 | train_mse: 0.04754 | train_mae: 0.17197 |  0:00:22s\n"
     ]
    },
    {
     "name": "stdout",
     "output_type": "stream",
     "text": [
      "epoch 206| loss: 0.16533 | train_mse: 0.05968 | train_mae: 0.18216 |  0:00:22s\n",
      "epoch 207| loss: 0.1843  | train_mse: 0.07025 | train_mae: 0.19166 |  0:00:22s\n"
     ]
    },
    {
     "name": "stdout",
     "output_type": "stream",
     "text": [
      "epoch 208| loss: 0.0598  | train_mse: 0.05636 | train_mae: 0.18111 |  0:00:22s\n",
      "epoch 209| loss: 0.09209 | train_mse: 0.05588 | train_mae: 0.17738 |  0:00:22s\n"
     ]
    },
    {
     "name": "stdout",
     "output_type": "stream",
     "text": [
      "epoch 210| loss: 0.0856  | train_mse: 0.10301 | train_mae: 0.22617 |  0:00:22s\n",
      "epoch 211| loss: 0.22454 | train_mse: 0.19546 | train_mae: 0.27836 |  0:00:23s\n"
     ]
    },
    {
     "name": "stdout",
     "output_type": "stream",
     "text": [
      "epoch 212| loss: 0.08703 | train_mse: 0.18135 | train_mae: 0.25726 |  0:00:23s\n",
      "epoch 213| loss: 0.12153 | train_mse: 0.12228 | train_mae: 0.23122 |  0:00:23s\n",
      "epoch 214| loss: 0.1149  | train_mse: 0.0628  | train_mae: 0.18522 |  0:00:23s\n"
     ]
    },
    {
     "name": "stdout",
     "output_type": "stream",
     "text": [
      "epoch 215| loss: 0.05187 | train_mse: 0.04301 | train_mae: 0.16553 |  0:00:23s\n",
      "epoch 216| loss: 0.09849 | train_mse: 0.04051 | train_mae: 0.16388 |  0:00:23s\n",
      "epoch 217| loss: 0.05722 | train_mse: 0.03514 | train_mae: 0.15038 |  0:00:23s\n"
     ]
    },
    {
     "name": "stdout",
     "output_type": "stream",
     "text": [
      "epoch 218| loss: 0.06279 | train_mse: 0.03437 | train_mae: 0.14855 |  0:00:23s\n",
      "epoch 219| loss: 0.12265 | train_mse: 0.05209 | train_mae: 0.17776 |  0:00:23s\n",
      "epoch 220| loss: 0.11777 | train_mse: 0.08108 | train_mae: 0.20297 |  0:00:23s\n"
     ]
    },
    {
     "name": "stdout",
     "output_type": "stream",
     "text": [
      "epoch 221| loss: 0.04825 | train_mse: 0.08987 | train_mae: 0.21281 |  0:00:24s\n",
      "epoch 222| loss: 0.12102 | train_mse: 0.09556 | train_mae: 0.21735 |  0:00:24s\n"
     ]
    },
    {
     "name": "stdout",
     "output_type": "stream",
     "text": [
      "epoch 223| loss: 0.08804 | train_mse: 0.06295 | train_mae: 0.18926 |  0:00:24s\n",
      "epoch 224| loss: 0.07921 | train_mse: 0.041   | train_mae: 0.16258 |  0:00:24s\n",
      "epoch 225| loss: 0.21371 | train_mse: 0.05517 | train_mae: 0.18798 |  0:00:24s\n"
     ]
    },
    {
     "name": "stdout",
     "output_type": "stream",
     "text": [
      "epoch 226| loss: 0.0777  | train_mse: 0.06947 | train_mae: 0.20395 |  0:00:24s\n",
      "epoch 227| loss: 0.10197 | train_mse: 0.09156 | train_mae: 0.2215  |  0:00:24s\n"
     ]
    },
    {
     "name": "stdout",
     "output_type": "stream",
     "text": [
      "epoch 228| loss: 0.09446 | train_mse: 0.09417 | train_mae: 0.21985 |  0:00:24s\n",
      "\n",
      "Early stopping occurred at epoch 228 with best_epoch = 178 and best_train_mae = 0.11978\n",
      "Best weights from best epoch are automatically used!\n"
     ]
    }
   ],
   "source": [
    "#Train the Model\n",
    "\n",
    "Y_train = np.reshape(Y_train, (-1, 1))\n",
    "Y_test = np.reshape(Y_test, (-1, 1))\n",
    "\n",
    "prior_model = TabNetRegressor(optimizer_fn=torch.optim.Adam, optimizer_params=dict(lr = 0.02),\n",
    "          #scheduler_params={\"step_size\":10, ], \"gamma\":0.9},\n",
    "          #scheduler_fn=torch.optim.lr_scheduler.StepLR\n",
    "          )  #TabNetRegressor()\n",
    "\n",
    "prior_model.fit(X_train,Y_train,eval_set=[(X_train, Y_train)],\n",
    "            eval_name=['train'], \n",
    "            eval_metric=[ 'mse', 'mae'], \n",
    "            max_epochs = n_epochs, \n",
    "            batch_size = batch_size,\n",
    "            patience=50\n",
    "            )"
   ]
  },
  {
   "cell_type": "code",
   "execution_count": 10,
   "id": "af65dcda",
   "metadata": {
    "execution": {
     "iopub.execute_input": "2022-06-22T15:39:05.049925Z",
     "iopub.status.busy": "2022-06-22T15:39:05.047771Z",
     "iopub.status.idle": "2022-06-22T15:39:05.116005Z",
     "shell.execute_reply": "2022-06-22T15:39:05.117521Z"
    },
    "id": "af65dcda",
    "papermill": {
     "duration": 0.137895,
     "end_time": "2022-06-22T15:39:05.117837",
     "exception": false,
     "start_time": "2022-06-22T15:39:04.979942",
     "status": "completed"
    },
    "tags": []
   },
   "outputs": [
    {
     "data": {
      "application/scrapbook.scrap.json+json": {
       "data": 0.14983588002784015,
       "encoder": "json",
       "name": "Prior Model MSE",
       "version": 1
      }
     },
     "metadata": {
      "scrapbook": {
       "data": true,
       "display": false,
       "name": "Prior Model MSE"
      }
     },
     "output_type": "display_data"
    },
    {
     "data": {
      "application/scrapbook.scrap.json+json": {
       "data": 1.4079178371348573,
       "encoder": "json",
       "name": "ABC Pre-generator MSE",
       "version": 1
      }
     },
     "metadata": {
      "scrapbook": {
       "data": true,
       "display": false,
       "name": "ABC Pre-generator MSE"
      }
     },
     "output_type": "display_data"
    },
    {
     "data": {
      "application/scrapbook.scrap.json+json": {
       "data": 0.31801488518477355,
       "encoder": "json",
       "name": "Prior Model MSE",
       "version": 1
      }
     },
     "metadata": {
      "scrapbook": {
       "data": true,
       "display": false,
       "name": "Prior Model MSE"
      }
     },
     "output_type": "display_data"
    },
    {
     "data": {
      "application/scrapbook.scrap.json+json": {
       "data": 0.9874319449959332,
       "encoder": "json",
       "name": "ABC Pre-generator MSE",
       "version": 1
      }
     },
     "metadata": {
      "scrapbook": {
       "data": true,
       "display": false,
       "name": "ABC Pre-generator MSE"
      }
     },
     "output_type": "display_data"
    }
   ],
   "source": [
    "y_pred = prior_model.predict(X_test)\n",
    "y_abc = y_pred + np.random.normal(0,variance, y_pred.shape) + bias \n",
    "mse = mean_squared_error(y_pred,Y_test)\n",
    "sb.glue(\"Prior Model MSE\",mse)\n",
    "mse = mean_squared_error(y_abc,Y_test)\n",
    "sb.glue(\"ABC Pre-generator MSE\",mse)\n",
    "mae = mean_absolute_error(y_pred,Y_test)\n",
    "sb.glue(\"Prior Model MSE\",mae)\n",
    "mae = mean_absolute_error(y_abc,Y_test)\n",
    "sb.glue(\"ABC Pre-generator MSE\",mae)"
   ]
  },
  {
   "cell_type": "markdown",
   "id": "25609da2",
   "metadata": {
    "papermill": {
     "duration": 0.077032,
     "end_time": "2022-06-22T15:39:05.284005",
     "exception": false,
     "start_time": "2022-06-22T15:39:05.206973",
     "status": "completed"
    },
    "tags": []
   },
   "source": [
    "# ABC GAN Model"
   ]
  },
  {
   "cell_type": "code",
   "execution_count": 11,
   "id": "dfc3464d",
   "metadata": {
    "execution": {
     "iopub.execute_input": "2022-06-22T15:39:05.391896Z",
     "iopub.status.busy": "2022-06-22T15:39:05.390619Z",
     "iopub.status.idle": "2022-06-22T15:39:05.398958Z",
     "shell.execute_reply": "2022-06-22T15:39:05.399649Z"
    },
    "papermill": {
     "duration": 0.063171,
     "end_time": "2022-06-22T15:39:05.399992",
     "exception": false,
     "start_time": "2022-06-22T15:39:05.336821",
     "status": "completed"
    },
    "tags": []
   },
   "outputs": [],
   "source": [
    "gen = network.Generator(n_features+1).to(device)\n",
    "disc = network.Discriminator(n_features+1).to(device)\n",
    "\n",
    "criterion = torch.nn.BCELoss()\n",
    "gen_opt = torch.optim.Adam(gen.parameters(), lr=0.001, betas=(0.5, 0.999))\n",
    "disc_opt = torch.optim.Adam(disc.parameters(), lr=0.001, betas=(0.5, 0.999))"
   ]
  },
  {
   "cell_type": "code",
   "execution_count": 12,
   "id": "b75fdd85",
   "metadata": {
    "execution": {
     "iopub.execute_input": "2022-06-22T15:39:05.548335Z",
     "iopub.status.busy": "2022-06-22T15:39:05.547031Z",
     "iopub.status.idle": "2022-06-22T15:40:12.321779Z",
     "shell.execute_reply": "2022-06-22T15:40:12.322293Z"
    },
    "papermill": {
     "duration": 66.874476,
     "end_time": "2022-06-22T15:40:12.322534",
     "exception": false,
     "start_time": "2022-06-22T15:39:05.448058",
     "status": "completed"
    },
    "tags": []
   },
   "outputs": [
    {
     "data": {
      "image/png": "[encoded data removed]",
      "text/plain": [
       "<Figure size 432x288 with 1 Axes>"
      ]
     },
     "metadata": {
      "needs_background": "light"
     },
     "output_type": "display_data"
    },
    {
     "data": {
      "image/png": "[encoded data removed]",
      "text/plain": [
       "<Figure size 432x288 with 1 Axes>"
      ]
     },
     "metadata": {
      "needs_background": "light"
     },
     "output_type": "display_data"
    }
   ],
   "source": [
    "#Training the ABC_GAN \n",
    "ABC_train_test2.training_GAN(disc,gen,disc_opt,gen_opt,train_data,batch_size,n_epochs,criterion,prior_model,variance,bias,device)"
   ]
  },
  {
   "cell_type": "code",
   "execution_count": 13,
   "id": "1fa7c368",
   "metadata": {
    "execution": {
     "iopub.execute_input": "2022-06-22T15:40:12.427738Z",
     "iopub.status.busy": "2022-06-22T15:40:12.426787Z",
     "iopub.status.idle": "2022-06-22T15:40:13.450904Z",
     "shell.execute_reply": "2022-06-22T15:40:13.452636Z"
    },
    "papermill": {
     "duration": 1.08775,
     "end_time": "2022-06-22T15:40:13.453468",
     "exception": false,
     "start_time": "2022-06-22T15:40:12.365718",
     "status": "completed"
    },
    "tags": []
   },
   "outputs": [
    {
     "data": {
      "application/scrapbook.scrap.json+json": {
       "data": 0.09622645576899565,
       "encoder": "json",
       "name": "ABC-GAN Model 1 MSE",
       "version": 1
      }
     },
     "metadata": {
      "scrapbook": {
       "data": true,
       "display": false,
       "name": "ABC-GAN Model 1 MSE"
      }
     },
     "output_type": "display_data"
    },
    {
     "data": {
      "application/scrapbook.scrap.json+json": {
       "data": 0.2620007539577782,
       "encoder": "json",
       "name": "ABC-GAN Model 1 MAE",
       "version": 1
      }
     },
     "metadata": {
      "scrapbook": {
       "data": true,
       "display": false,
       "name": "ABC-GAN Model 1 MAE"
      }
     },
     "output_type": "display_data"
    },
    {
     "data": {
      "application/scrapbook.scrap.json+json": {
       "data": 5.240015079155564,
       "encoder": "json",
       "name": "ABC-GAN Model 1 Manhattan Distance",
       "version": 1
      }
     },
     "metadata": {
      "scrapbook": {
       "data": true,
       "display": false,
       "name": "ABC-GAN Model 1 Manhattan Distance"
      }
     },
     "output_type": "display_data"
    },
    {
     "data": {
      "application/scrapbook.scrap.json+json": {
       "data": 1.3866685294146621,
       "encoder": "json",
       "name": "ABC-GAN Model 1 Euclidean distance",
       "version": 1
      }
     },
     "metadata": {
      "scrapbook": {
       "data": true,
       "display": false,
       "name": "ABC-GAN Model 1 Euclidean distance"
      }
     },
     "output_type": "display_data"
    },
    {
     "data": {
      "application/scrapbook.scrap.json+json": {
       "data": [
        [
         0.09114269787037652,
         0.10063063452310603,
         0.10078775299330016,
         0.09558542092174079,
         0.0877589658862213,
         0.09862318584398895,
         0.10604881027159167,
         0.09651999648716117,
         0.10328751221115477,
         0.10662930984482766,
         0.09753815206756057,
         0.10534832453654193,
         0.0902073963319219,
         0.09697129603760603,
         0.10154729131467403,
         0.09484147942780936,
         0.08884396649956547,
         0.09406390225703815,
         0.0946422865986912,
         0.08239828214399395,
         0.09417076567821646,
         0.10543767089640046,
         0.09367996071804485,
         0.10101790954548653,
         0.10058597982479063,
         0.09624872269560139,
         0.10465982037026267,
         0.1002046083198457,
         0.09781845704569128,
         0.0913182021169062,
         0.10071707638931648,
         0.0968924940110805,
         0.09721473969016083,
         0.09470026853904438,
         0.08407282693432405,
         0.09648266062281641,
         0.0975321666747762,
         0.08521108985157524,
         0.10338644683798684,
         0.09291971514497015,
         0.1037778482498333,
         0.1058153770504194,
         0.0957409509356395,
         0.09157798596370095,
         0.0993068712850944,
         0.09763716620234529,
         0.0989809838194998,
         0.09837601971413716,
         0.10519597971057963,
         0.09355485266493205,
         0.10426325648442598,
         0.08942295697585609,
         0.09726537175045533,
         0.10371478238356838,
         0.10006359385795238,
         0.0877190587809807,
         0.08759595419898344,
         0.09664206951265594,
         0.08563852456079839,
         0.0926475748293728,
         0.0977584843944853,
         0.11104128258159003,
         0.09710753883331409,
         0.09088721233404876,
         0.08841462697098486,
         0.09250242504177712,
         0.10147528624976306,
         0.10283922224568091,
         0.09344169473447503,
         0.09522288904107126,
         0.0977945849015373,
         0.09588294088140463,
         0.09394831142281049,
         0.0905105019479744,
         0.10125243543488467,
         0.0938161143110714,
         0.08825343214564932,
         0.08463594613344179,
         0.09100386088007775,
         0.09923841722775203,
         0.09708640028236715,
         0.09178976505350117,
         0.09815342474728597,
         0.0936859650715709,
         0.09682597179763981,
         0.09784227342065539,
         0.09452965704731428,
         0.10305953825759677,
         0.09245280267716492,
         0.09783422798114867,
         0.09325455607367394,
         0.10023204104692049,
         0.08500418821704525,
         0.09875013983833184,
         0.10094179418404474,
         0.08817939583757214,
         0.09703733031737996,
         0.09580210863035346,
         0.09391705282113694,
         0.09661431097566758
        ],
        [
         0.2541540995240211,
         0.2696949005126953,
         0.27360711246728897,
         0.25551612600684165,
         0.25628043338656425,
         0.26367489621043205,
         0.27176602706313135,
         0.2642734594643116,
         0.2708094783127308,
         0.27089606299996377,
         0.2616495776921511,
         0.2774106703698635,
         0.25734158605337143,
         0.26352543346583845,
         0.2720404379069805,
         0.2585037939250469,
         0.24399084523320197,
         0.25243050679564477,
         0.2563810463994741,
         0.23925274275243283,
         0.2599816400557756,
         0.2706214517354965,
         0.25535057336091993,
         0.26220210269093513,
         0.26374469622969626,
         0.2652167119085789,
         0.271900100260973,
         0.2709335520863533,
         0.26716878414154055,
         0.25701956674456594,
         0.27078916877508163,
         0.2634628165513277,
         0.26344609819352627,
         0.2558143924921751,
         0.24513758458197116,
         0.2541057400405407,
         0.26669313609600065,
         0.248517906665802,
         0.26931523606181146,
         0.2550481140613556,
         0.2697199910879135,
         0.2761557258665562,
         0.2668610531836748,
         0.2609485562890768,
         0.2704386092722416,
         0.25981566570699216,
         0.26423775106668473,
         0.2679110400378704,
         0.2760775938630104,
         0.25399735011160374,
         0.2670685093849897,
         0.24926554560661315,
         0.266989166662097,
         0.27971101552248,
         0.2667030654847622,
         0.2493783112615347,
         0.2576982595026493,
         0.2663151226937771,
         0.24349820092320443,
         0.25951121300458907,
         0.267396042868495,
         0.2830737099051476,
         0.26064146868884563,
         0.25442783161997795,
         0.25338243693113327,
         0.26517967507243156,
         0.27160962447524073,
         0.2726337008178234,
         0.24783260226249695,
         0.26235696151852606,
         0.2655014481395483,
         0.25682814344763755,
         0.25980351120233536,
         0.2555964458733797,
         0.27298783473670485,
         0.25888744592666624,
         0.25268946774303913,
         0.25212367698550225,
         0.25188145637512205,
         0.26951905973255635,
         0.26163446977734567,
         0.25075038336217403,
         0.2705487195402384,
         0.25075883939862254,
         0.2656820356845856,
         0.2647277764976025,
         0.2568079650402069,
         0.27439553663134575,
         0.2626021187752485,
         0.2586180180311203,
         0.2579443283379078,
         0.2695998467504978,
         0.25371868163347244,
         0.2672534562647343,
         0.2681312933564186,
         0.2490047562867403,
         0.2654159180819988,
         0.2614756990224123,
         0.254618214070797,
         0.2600644391030073
        ],
        [
         5.083081990480423,
         5.393898010253906,
         5.472142249345779,
         5.110322520136833,
         5.125608667731285,
         5.273497924208641,
         5.435320541262627,
         5.285469189286232,
         5.416189566254616,
         5.417921259999275,
         5.232991553843021,
         5.54821340739727,
         5.146831721067429,
         5.270508669316769,
         5.44080875813961,
         5.170075878500938,
         4.87981690466404,
         5.048610135912895,
         5.127620927989483,
         4.7850548550486565,
         5.199632801115513,
         5.41242903470993,
         5.107011467218399,
         5.244042053818703,
         5.2748939245939255,
         5.3043342381715775,
         5.4380020052194595,
         5.418671041727066,
         5.3433756828308105,
         5.140391334891319,
         5.415783375501633,
         5.269256331026554,
         5.268921963870525,
         5.116287849843502,
         4.902751691639423,
         5.082114800810814,
         5.333862721920013,
         4.97035813331604,
         5.386304721236229,
         5.100962281227112,
         5.39439982175827,
         5.523114517331123,
         5.337221063673496,
         5.218971125781536,
         5.408772185444832,
         5.196313314139843,
         5.2847550213336945,
         5.358220800757408,
         5.521551877260208,
         5.079947002232075,
         5.341370187699795,
         4.985310912132263,
         5.3397833332419395,
         5.5942203104496,
         5.334061309695244,
         4.987566225230694,
         5.153965190052986,
         5.326302453875542,
         4.869964018464088,
         5.190224260091782,
         5.3479208573699,
         5.661474198102951,
         5.212829373776913,
         5.088556632399559,
         5.067648738622665,
         5.303593501448631,
         5.432192489504814,
         5.452674016356468,
         4.956652045249939,
         5.2471392303705215,
         5.310028962790966,
         5.136562868952751,
         5.196070224046707,
         5.111928917467594,
         5.4597566947340965,
         5.177748918533325,
         5.053789354860783,
         5.042473539710045,
         5.037629127502441,
         5.390381194651127,
         5.232689395546913,
         5.015007667243481,
         5.410974390804768,
         5.01517678797245,
         5.313640713691711,
         5.294555529952049,
         5.136159300804138,
         5.487910732626915,
         5.2520423755049706,
         5.172360360622406,
         5.158886566758156,
         5.391996935009956,
         5.074373632669449,
         5.345069125294685,
         5.362625867128372,
         4.980095125734806,
         5.3083183616399765,
         5.229513980448246,
         5.092364281415939,
         5.201288782060146
        ],
        [
         1.35013108897156,
         1.4186658135241437,
         1.4197728902419582,
         1.3826454420547647,
         1.3248318073342087,
         1.4044442733265634,
         1.4563571695953688,
         1.389388329353325,
         1.4372718059654184,
         1.4603376996080575,
         1.3966971902854288,
         1.4515393521123836,
         1.34318573795229,
         1.3926327300304702,
         1.4251125661832755,
         1.3772543659601109,
         1.3329963728350163,
         1.3715968960087228,
         1.3758073019045305,
         1.283731141197361,
         1.3723757916708998,
         1.4521547499932674,
         1.3687948035994646,
         1.4213930458918569,
         1.4183510131472437,
         1.3874344863495458,
         1.446788307737263,
         1.4156596223658122,
         1.3987026635113788,
         1.351430369030578,
         1.4192750007614203,
         1.3920667657198091,
         1.394379716505951,
         1.3762286767760974,
         1.2967098899470464,
         1.3891195817698088,
         1.3966543357235977,
         1.3054584623922374,
         1.4379599913626724,
         1.3632293654772123,
         1.4406793414902102,
         1.454753429625924,
         1.3837698575676485,
         1.3533512918950568,
         1.4093038798292894,
         1.3974059267252683,
         1.406989579346626,
         1.4026832836683922,
         1.4504894326438895,
         1.3678804967169613,
         1.4440447118038,
         1.3373328454491507,
         1.3947427845338032,
         1.4402415240755169,
         1.4146631673861618,
         1.324530549145475,
         1.3236008023492842,
         1.3902666615628525,
         1.3087285781306863,
         1.3612316101925697,
         1.3982738243597732,
         1.4902434873643302,
         1.393610697672159,
         1.3482374593078827,
         1.3297716117513176,
         1.3601648800184272,
         1.4246072177955793,
         1.4341493802646983,
         1.3670529962987905,
         1.3800209349214327,
         1.3985319796239004,
         1.3847955869470745,
         1.370753890549361,
         1.3454404628074361,
         1.4230420614646966,
         1.369789139328177,
         1.3285588594085647,
         1.301045319221754,
         1.3491023747668502,
         1.4088180665206707,
         1.3934590075231288,
         1.3549152375960731,
         1.4010954624670366,
         1.3688386688837433,
         1.3915888171269544,
         1.398872927900568,
         1.3749884148407527,
         1.435684772208696,
         1.3598000049798862,
         1.3988154129916404,
         1.3656833899090517,
         1.415853389634114,
         1.3038726028032437,
         1.405347927300082,
         1.4208574466430104,
         1.3280014746796942,
         1.3931068179962365,
         1.3842117513614272,
         1.370525832088815,
         1.3900669838224888
        ]
       ],
       "encoder": "json",
       "name": "ABC_GAN_1 Metrics",
       "version": 1
      }
     },
     "metadata": {
      "scrapbook": {
       "data": true,
       "display": false,
       "name": "ABC_GAN_1 Metrics"
      }
     },
     "output_type": "display_data"
    },
    {
     "name": "stdout",
     "output_type": "stream",
     "text": [
      "MSE\n",
      "0.09622645576899565\n"
     ]
    }
   ],
   "source": [
    "ABC_GAN1_metrics=ABC_train_test2.test_generator(gen,test_data,prior_model,variance,bias,\"1\",device)\n",
    "sb.glue(\"ABC_GAN_1 Metrics\",ABC_GAN1_metrics)\n",
    "\n",
    "print(\"MSE\")\n",
    "print(mean(ABC_GAN1_metrics[0]))"
   ]
  },
  {
   "cell_type": "code",
   "execution_count": 14,
   "id": "eb22ce5c",
   "metadata": {
    "execution": {
     "iopub.execute_input": "2022-06-22T15:40:13.804419Z",
     "iopub.status.busy": "2022-06-22T15:40:13.766988Z",
     "iopub.status.idle": "2022-06-22T15:40:14.852567Z",
     "shell.execute_reply": "2022-06-22T15:40:14.853116Z"
    },
    "papermill": {
     "duration": 1.226432,
     "end_time": "2022-06-22T15:40:14.853430",
     "exception": false,
     "start_time": "2022-06-22T15:40:13.626998",
     "status": "completed"
    },
    "tags": []
   },
   "outputs": [
    {
     "data": {
      "image/png": "[encoded data removed]",
      "text/plain": [
       "<Figure size 432x288 with 1 Axes>"
      ]
     },
     "metadata": {
      "needs_background": "light"
     },
     "output_type": "display_data"
    },
    {
     "data": {
      "image/png": "[encoded data removed]",
      "text/plain": [
       "<Figure size 432x288 with 1 Axes>"
      ]
     },
     "metadata": {
      "needs_background": "light"
     },
     "output_type": "display_data"
    },
    {
     "data": {
      "image/png": "[encoded data removed]",
      "text/plain": [
       "<Figure size 432x288 with 1 Axes>"
      ]
     },
     "metadata": {
      "needs_background": "light"
     },
     "output_type": "display_data"
    },
    {
     "data": {
      "image/png": "[encoded data removed]",
      "text/plain": [
       "<Figure size 432x288 with 1 Axes>"
      ]
     },
     "metadata": {
      "needs_background": "light"
     },
     "output_type": "display_data"
    }
   ],
   "source": [
    "sanityChecks.discProbVsError(train_data,disc,device)\n",
    "sanityChecks.discProbVsError(test_data,disc,device)"
   ]
  },
  {
   "cell_type": "markdown",
   "id": "130f3a4d",
   "metadata": {
    "id": "130f3a4d",
    "papermill": {
     "duration": 0.065996,
     "end_time": "2022-06-22T15:40:14.976601",
     "exception": false,
     "start_time": "2022-06-22T15:40:14.910605",
     "status": "completed"
    },
    "tags": []
   },
   "source": [
    "# ABC - GAN Model with skip connection"
   ]
  },
  {
   "cell_type": "code",
   "execution_count": 15,
   "id": "4e43dad1",
   "metadata": {
    "execution": {
     "iopub.execute_input": "2022-06-22T15:40:15.160529Z",
     "iopub.status.busy": "2022-06-22T15:40:15.159019Z",
     "iopub.status.idle": "2022-06-22T15:40:15.164805Z",
     "shell.execute_reply": "2022-06-22T15:40:15.165807Z"
    },
    "id": "4e43dad1",
    "papermill": {
     "duration": 0.127383,
     "end_time": "2022-06-22T15:40:15.166753",
     "exception": false,
     "start_time": "2022-06-22T15:40:15.039370",
     "status": "completed"
    },
    "tags": []
   },
   "outputs": [],
   "source": [
    "#Generator\n",
    "gen3 = network.GeneratorWithSkipConnection(n_features+1).to(device)\n",
    "constraints=network.weightConstraint()\n",
    "#Discriminator \n",
    "disc3 = network.Discriminator(n_features+1).to(device)\n",
    "\n",
    "criterion = torch.nn.BCELoss()\n",
    "gen_opt = torch.optim.Adam(gen3.parameters(), lr=0.001, betas=(0.5, 0.999))\n",
    "disc_opt = torch.optim.Adam(disc3.parameters(), lr=0.001, betas=(0.5, 0.999))\n"
   ]
  },
  {
   "cell_type": "code",
   "execution_count": 16,
   "id": "26acbc37",
   "metadata": {
    "execution": {
     "iopub.execute_input": "2022-06-22T15:40:15.329628Z",
     "iopub.status.busy": "2022-06-22T15:40:15.326953Z",
     "iopub.status.idle": "2022-06-22T15:42:18.297380Z",
     "shell.execute_reply": "2022-06-22T15:42:18.298102Z"
    },
    "id": "26acbc37",
    "papermill": {
     "duration": 123.048578,
     "end_time": "2022-06-22T15:42:18.298399",
     "exception": false,
     "start_time": "2022-06-22T15:40:15.249821",
     "status": "completed"
    },
    "tags": []
   },
   "outputs": [
    {
     "data": {
      "image/png": "[encoded data removed]",
      "text/plain": [
       "<Figure size 432x288 with 1 Axes>"
      ]
     },
     "metadata": {
      "needs_background": "light"
     },
     "output_type": "display_data"
    },
    {
     "data": {
      "image/png": "[encoded data removed]",
      "text/plain": [
       "<Figure size 432x288 with 1 Axes>"
      ]
     },
     "metadata": {
      "needs_background": "light"
     },
     "output_type": "display_data"
    }
   ],
   "source": [
    "ABC_train_test2.training_GAN_skip_connection(disc3,gen3,disc_opt,gen_opt,train_data,batch_size,n_epochs,criterion,prior_model,variance,bias,device)"
   ]
  },
  {
   "cell_type": "code",
   "execution_count": 17,
   "id": "c5e0717b",
   "metadata": {
    "execution": {
     "iopub.execute_input": "2022-06-22T15:42:18.466899Z",
     "iopub.status.busy": "2022-06-22T15:42:18.460062Z",
     "iopub.status.idle": "2022-06-22T15:42:19.842511Z",
     "shell.execute_reply": "2022-06-22T15:42:19.843607Z"
    },
    "id": "c5e0717b",
    "papermill": {
     "duration": 1.471661,
     "end_time": "2022-06-22T15:42:19.843857",
     "exception": false,
     "start_time": "2022-06-22T15:42:18.372196",
     "status": "completed"
    },
    "tags": []
   },
   "outputs": [
    {
     "data": {
      "application/scrapbook.scrap.json+json": {
       "data": 0.15111774016809,
       "encoder": "json",
       "name": "ABC-GAN Model 3 MSE",
       "version": 1
      }
     },
     "metadata": {
      "scrapbook": {
       "data": true,
       "display": false,
       "name": "ABC-GAN Model 3 MSE"
      }
     },
     "output_type": "display_data"
    },
    {
     "data": {
      "application/scrapbook.scrap.json+json": {
       "data": 0.302384621036239,
       "encoder": "json",
       "name": "ABC-GAN Model 3 MAE",
       "version": 1
      }
     },
     "metadata": {
      "scrapbook": {
       "data": true,
       "display": false,
       "name": "ABC-GAN Model 3 MAE"
      }
     },
     "output_type": "display_data"
    },
    {
     "data": {
      "application/scrapbook.scrap.json+json": {
       "data": 6.047692420724779,
       "encoder": "json",
       "name": "ABC-GAN Model 3 Manhattan Distance",
       "version": 1
      }
     },
     "metadata": {
      "scrapbook": {
       "data": true,
       "display": false,
       "name": "ABC-GAN Model 3 Manhattan Distance"
      }
     },
     "output_type": "display_data"
    },
    {
     "data": {
      "application/scrapbook.scrap.json+json": {
       "data": 1.728015742498972,
       "encoder": "json",
       "name": "ABC-GAN Model 3 Euclidean distance",
       "version": 1
      }
     },
     "metadata": {
      "scrapbook": {
       "data": true,
       "display": false,
       "name": "ABC-GAN Model 3 Euclidean distance"
      }
     },
     "output_type": "display_data"
    },
    {
     "data": {
      "application/scrapbook.scrap.json+json": {
       "data": [
        [
         0.13831237884244083,
         0.10954139649751334,
         0.15529323077401003,
         0.12489458941340068,
         0.11483856617460116,
         0.10993520203642175,
         0.16530248464905584,
         0.13809127170888796,
         0.10923225278649507,
         0.162917151841156,
         0.11582402107334647,
         0.1342311783337836,
         0.16533492856804416,
         0.12166162016748232,
         0.1464991149082333,
         0.14590126683790952,
         0.13448006436476675,
         0.21416023649429264,
         0.11507199673272779,
         0.1450214039275902,
         0.16787469176882702,
         0.15516057801854294,
         0.09825694132595718,
         0.17359679115941945,
         0.14230476555465543,
         0.20810896649685443,
         0.19839100546059102,
         0.1491533499852075,
         0.15345682661844093,
         0.15104111534345016,
         0.16626408999271805,
         0.1198250036215391,
         0.10510446677490681,
         0.09050576933550514,
         0.12488976065741739,
         0.15585233350847952,
         0.16978438016962763,
         0.15154940783231882,
         0.20395483678678566,
         0.15234260317575052,
         0.18297714220578606,
         0.0979300022106582,
         0.17036312437991558,
         0.14400750002020085,
         0.10878229811253717,
         0.13354287182782545,
         0.18358122990748466,
         0.16342368443848404,
         0.15206985489761943,
         0.16289500257859535,
         0.1843555581538233,
         0.15886502955089998,
         0.1912921689858178,
         0.18290814115072815,
         0.20636815241114262,
         0.13661620199254793,
         0.12695918244261534,
         0.16572683426490337,
         0.1708778578247671,
         0.09500491446208645,
         0.22083715308046795,
         0.10973756842070932,
         0.10754730082952842,
         0.16599444479183728,
         0.13400460624631738,
         0.11890872320756926,
         0.1263205853825996,
         0.1121089900416754,
         0.0972093767790925,
         0.2009349970852859,
         0.13071382663271044,
         0.1366986556997706,
         0.12949054103949925,
         0.15154603929539023,
         0.11807486946503051,
         0.2048962417615193,
         0.086044255095655,
         0.23421095774956857,
         0.18925365883922435,
         0.16653554931719486,
         0.15592247892099964,
         0.1629282952886158,
         0.11720957481636218,
         0.15469727972653616,
         0.15350474555852894,
         0.2196446575320107,
         0.18463259902283471,
         0.160151689137675,
         0.09713772890076657,
         0.20373595440915898,
         0.14912140658620915,
         0.15983578596247475,
         0.16630289878016824,
         0.14210443900701297,
         0.1958918623881439,
         0.1504159073721724,
         0.15178464380728007,
         0.18763551033816547,
         0.14878871768598265,
         0.18675070926966003
        ],
        [
         0.28891094848513604,
         0.2691496439278126,
         0.3216917887330055,
         0.29018199294805525,
         0.2944153044372797,
         0.2849032931029797,
         0.32607144918292763,
         0.2972372781485319,
         0.27237854301929476,
         0.3174287401139736,
         0.2863748766481876,
         0.30497450232505796,
         0.3097199976444244,
         0.28854435607790946,
         0.3010271608363837,
         0.3093084000051022,
         0.29270523637533186,
         0.3546632908284664,
         0.26288786977529527,
         0.2861588843166828,
         0.3155470259487629,
         0.3131633035838604,
         0.24922051858156918,
         0.33927552178502085,
         0.3067610986530781,
         0.3501268394291401,
         0.315355708450079,
         0.29576346129179,
         0.31461657732725146,
         0.3169223330914974,
         0.31607933416962625,
         0.2848472289741039,
         0.26039899215102197,
         0.24577673375606537,
         0.2891548819839954,
         0.3011754244565964,
         0.3049301065504551,
         0.2868451975286007,
         0.3211183734238148,
         0.3104847751557827,
         0.32660454511642456,
         0.26538054570555686,
         0.32585784792900085,
         0.28995609283447266,
         0.2674853391945362,
         0.2858769066631794,
         0.33026764914393425,
         0.2991280063986778,
         0.3050408951938152,
         0.2821798615157604,
         0.3123515874147415,
         0.3079212188720703,
         0.3437249280512333,
         0.31868143677711486,
         0.3370559550821781,
         0.2903122117510065,
         0.2807344064116478,
         0.32760032936930655,
         0.3342330949380994,
         0.26079259887337686,
         0.3440659143030643,
         0.25687420591711996,
         0.26431991830468177,
         0.3133469752967358,
         0.28831982910633086,
         0.278281731903553,
         0.29058443903923037,
         0.2795277044177055,
         0.2554201059043407,
         0.35184578895568847,
         0.30115244463086127,
         0.30190895199775697,
         0.31876316368579866,
         0.305231923609972,
         0.2963207717984915,
         0.31836663112044333,
         0.25109622403979304,
         0.3432210057973862,
         0.32096181288361547,
         0.3240712910890579,
         0.31954480390995743,
         0.29188657328486445,
         0.29088001027703286,
         0.3005790047347546,
         0.3036967866122723,
         0.31729353610426186,
         0.32545071169734,
         0.30857175067067144,
         0.2663606323301792,
         0.3346981815993786,
         0.2920117661356926,
         0.3110976105555892,
         0.32339060083031657,
         0.31505694687366487,
         0.33023751005530355,
         0.2920013748109341,
         0.2932938776910305,
         0.2990308187669143,
         0.3113813452422619,
         0.3208349771797657
        ],
        [
         5.778218969702721,
         5.3829928785562515,
         6.4338357746601105,
         5.803639858961105,
         5.888306088745594,
         5.698065862059593,
         6.521428983658552,
         5.944745562970638,
         5.447570860385895,
         6.348574802279472,
         5.727497532963753,
         6.09949004650116,
         6.194399952888489,
         5.770887121558189,
         6.020543216727674,
         6.186168000102043,
         5.854104727506638,
         7.093265816569328,
         5.257757395505905,
         5.723177686333656,
         6.310940518975258,
         6.263266071677208,
         4.984410371631384,
         6.785510435700417,
         6.135221973061562,
         7.002536788582802,
         6.307114169001579,
         5.9152692258358,
         6.292331546545029,
         6.338446661829948,
         6.321586683392525,
         5.6969445794820786,
         5.207979843020439,
         4.915534675121307,
         5.783097639679909,
         6.0235084891319275,
         6.098602131009102,
         5.736903950572014,
         6.4223674684762955,
         6.209695503115654,
         6.532090902328491,
         5.307610914111137,
         6.517156958580017,
         5.799121856689453,
         5.349706783890724,
         5.717538133263588,
         6.605352982878685,
         5.9825601279735565,
         6.100817903876305,
         5.643597230315208,
         6.24703174829483,
         6.158424377441406,
         6.874498561024666,
         6.373628735542297,
         6.741119101643562,
         5.806244235020131,
         5.614688128232956,
         6.552006587386131,
         6.684661898761988,
         5.215851977467537,
         6.881318286061287,
         5.1374841183424,
         5.286398366093636,
         6.266939505934715,
         5.766396582126617,
         5.56563463807106,
         5.811688780784607,
         5.590554088354111,
         5.108402118086815,
         7.0369157791137695,
         6.023048892617226,
         6.038179039955139,
         6.375263273715973,
         6.10463847219944,
         5.92641543596983,
         6.367332622408867,
         5.02192448079586,
         6.864420115947723,
         6.41923625767231,
         6.4814258217811584,
         6.390896078199148,
         5.8377314656972885,
         5.817600205540657,
         6.011580094695091,
         6.073935732245445,
         6.3458707220852375,
         6.5090142339468,
         6.171435013413429,
         5.327212646603584,
         6.693963631987572,
         5.840235322713852,
         6.221952211111784,
         6.467812016606331,
         6.301138937473297,
         6.6047502011060715,
         5.840027496218681,
         5.86587755382061,
         5.980616375338286,
         6.227626904845238,
         6.416699543595314
        ],
        [
         1.6632040093893523,
         1.4801445638687685,
         1.762346338118646,
         1.5804720143893765,
         1.5155102518597567,
         1.482802765282165,
         1.8182545732050606,
         1.661874072900158,
         1.4780544833428506,
         1.8050880966931004,
         1.5219988243973546,
         1.6384820922657872,
         1.8184329988649248,
         1.5598821761112749,
         1.7117191060932475,
         1.7082228592189574,
         1.640000392468043,
         2.069590473955138,
         1.5170497469280815,
         1.7030643201452504,
         1.8323465380152686,
         1.7615934719369446,
         1.401834093792537,
         1.8633131307400774,
         1.6870374361860228,
         2.040141987690339,
         1.9919387814919967,
         1.727155754326792,
         1.7518951259618307,
         1.738051295810628,
         1.823535521961215,
         1.54806332959307,
         1.4498583846355948,
         1.3454052871570346,
         1.5804414614747198,
         1.7655159784520758,
         1.8427391577194403,
         1.7409733359952348,
         2.01967738407294,
         1.7455234353955293,
         1.9129931636353856,
         1.3994999264784418,
         1.8458771594010017,
         1.6971004685651396,
         1.4750071058305934,
         1.634275814101313,
         1.9161483758179305,
         1.8078920567250913,
         1.7439601767105775,
         1.8049653879152108,
         1.9201851897867732,
         1.782498412627063,
         1.9559763239150816,
         1.9126324328042132,
         2.0315912601266164,
         1.652974301025566,
         1.5934816123358018,
         1.8205869068237495,
         1.8486636136667327,
         1.3784405280031957,
         2.10160487761362,
         1.4814693275306736,
         1.466610383363819,
         1.8220562274081296,
         1.6370986912603491,
         1.5421330889879075,
         1.589469001790218,
         1.497390997980657,
         1.394341255067012,
         2.004669534288811,
         1.616872454046456,
         1.6534730460444198,
         1.609288917749074,
         1.7409539873034567,
         1.536716430998449,
         2.0243331828605653,
         1.311825103401021,
         2.1643056981377127,
         1.9455264523476639,
         1.8250235577503917,
         1.7659132420421997,
         1.8051498291754942,
         1.5310752745463705,
         1.75896151024709,
         1.7521686309172926,
         2.0959229829934625,
         1.921627430189498,
         1.7897021491727332,
         1.3938273128387646,
         2.0185933439361134,
         1.7269707964306122,
         1.7879361619614653,
         1.8237483312133187,
         1.6858495722158189,
         1.9793527345480588,
         1.7344503877146351,
         1.7423239871348846,
         1.9371913190914596,
         1.7250432903900277,
         1.9326184790054142
        ]
       ],
       "encoder": "json",
       "name": "ABC_GAN_3 Metrics",
       "version": 1
      }
     },
     "metadata": {
      "scrapbook": {
       "data": true,
       "display": false,
       "name": "ABC_GAN_3 Metrics"
      }
     },
     "output_type": "display_data"
    },
    {
     "name": "stdout",
     "output_type": "stream",
     "text": [
      "MSE\n",
      "0.15111774016809\n"
     ]
    }
   ],
   "source": [
    "ABC_GAN3_metrics=ABC_train_test2.test_generator(gen3,test_data,prior_model,variance,bias,\"3\",device)\n",
    "sb.glue(\"ABC_GAN_3 Metrics\",ABC_GAN3_metrics)\n",
    "\n",
    "print(\"MSE\")\n",
    "print(mean(ABC_GAN3_metrics[0]))"
   ]
  },
  {
   "cell_type": "code",
   "execution_count": 18,
   "id": "c8e46b48",
   "metadata": {
    "execution": {
     "iopub.execute_input": "2022-06-22T15:42:20.059865Z",
     "iopub.status.busy": "2022-06-22T15:42:20.040342Z",
     "iopub.status.idle": "2022-06-22T15:42:21.444108Z",
     "shell.execute_reply": "2022-06-22T15:42:21.445783Z"
    },
    "id": "c8e46b48",
    "papermill": {
     "duration": 1.496683,
     "end_time": "2022-06-22T15:42:21.446655",
     "exception": false,
     "start_time": "2022-06-22T15:42:19.949972",
     "status": "completed"
    },
    "tags": []
   },
   "outputs": [
    {
     "data": {
      "image/png": "[encoded data removed]",
      "text/plain": [
       "<Figure size 432x288 with 1 Axes>"
      ]
     },
     "metadata": {
      "needs_background": "light"
     },
     "output_type": "display_data"
    },
    {
     "data": {
      "image/png": "[encoded data removed]",
      "text/plain": [
       "<Figure size 432x288 with 1 Axes>"
      ]
     },
     "metadata": {
      "needs_background": "light"
     },
     "output_type": "display_data"
    },
    {
     "data": {
      "image/png": "[encoded data removed]",
      "text/plain": [
       "<Figure size 432x288 with 1 Axes>"
      ]
     },
     "metadata": {
      "needs_background": "light"
     },
     "output_type": "display_data"
    },
    {
     "data": {
      "image/png": "[encoded data removed]",
      "text/plain": [
       "<Figure size 432x288 with 1 Axes>"
      ]
     },
     "metadata": {
      "needs_background": "light"
     },
     "output_type": "display_data"
    }
   ],
   "source": [
    "sanityChecks.discProbVsError(train_data,disc3,device)\n",
    "sanityChecks.discProbVsError(test_data,disc3,device)"
   ]
  },
  {
   "cell_type": "markdown",
   "id": "a5bd74c3",
   "metadata": {
    "id": "a5bd74c3",
    "papermill": {
     "duration": 0.155972,
     "end_time": "2022-06-22T15:42:21.739508",
     "exception": false,
     "start_time": "2022-06-22T15:42:21.583536",
     "status": "completed"
    },
    "tags": []
   },
   "source": [
    "## Skip Connection Model Analysis - ABC-GAN "
   ]
  },
  {
   "cell_type": "markdown",
   "id": "5744a8bf",
   "metadata": {
    "id": "5744a8bf",
    "papermill": {
     "duration": 0.114197,
     "end_time": "2022-06-22T15:42:21.946082",
     "exception": false,
     "start_time": "2022-06-22T15:42:21.831885",
     "status": "completed"
    },
    "tags": []
   },
   "source": [
    "### Weight Analysis \n",
    "\n",
    "Study the weights of the skip connection layer\n",
    "\n",
    "Equation of the skip connection is \n",
    "\n",
    "$output = y_{gan} * w + y_{abc} * (1-w)$"
   ]
  },
  {
   "cell_type": "code",
   "execution_count": 19,
   "id": "52c31dea",
   "metadata": {
    "execution": {
     "iopub.execute_input": "2022-06-22T15:42:22.440041Z",
     "iopub.status.busy": "2022-06-22T15:42:22.438001Z",
     "iopub.status.idle": "2022-06-22T15:42:22.510466Z",
     "shell.execute_reply": "2022-06-22T15:42:22.511786Z"
    },
    "id": "52c31dea",
    "papermill": {
     "duration": 0.36478,
     "end_time": "2022-06-22T15:42:22.512238",
     "exception": false,
     "start_time": "2022-06-22T15:42:22.147458",
     "status": "completed"
    },
    "tags": []
   },
   "outputs": [
    {
     "name": "stdout",
     "output_type": "stream",
     "text": [
      "Weight of the node at skip connection\n",
      "Parameter containing:\n",
      "tensor([[0.1720]], requires_grad=True)\n"
     ]
    },
    {
     "data": {
      "application/scrapbook.scrap.json+json": {
       "data": 0.17195479571819305,
       "encoder": "json",
       "name": "Skip Connection Weight",
       "version": 1
      }
     },
     "metadata": {
      "scrapbook": {
       "data": true,
       "display": false,
       "name": "Skip Connection Weight"
      }
     },
     "output_type": "display_data"
    }
   ],
   "source": [
    "print(\"Weight of the node at skip connection\")\n",
    "for name,param in gen3.named_parameters():\n",
    "    if(name == \"skipNode.weight\"):\n",
    "        print(param)\n",
    "        sb.glue(\"Skip Connection Weight\",param.item())"
   ]
  }
 ],
 "metadata": {
  "colab": {
   "collapsed_sections": [],
   "name": "ABC_GAN_Model-Catboost_Pre-gen.ipynb",
   "provenance": []
  },
  "interpreter": {
   "hash": "31f2aee4e71d21fbe5cf8b01ff0e069b9275f58929596ceb00d14d90e3e16cd6"
  },
  "kernelspec": {
   "display_name": "Python 3 (ipykernel)",
   "language": "python",
   "name": "python3"
  },
  "language_info": {
   "codemirror_mode": {
    "name": "ipython",
    "version": 3
   },
   "file_extension": ".py",
   "mimetype": "text/x-python",
   "name": "python",
   "nbconvert_exporter": "python",
   "pygments_lexer": "ipython3",
   "version": "3.8.3"
  },
  "papermill": {
   "default_parameters": {},
   "duration": 246.726621,
   "end_time": "2022-06-22T15:42:24.593980",
   "environment_variables": {},
   "exception": null,
   "input_path": "ABC_GAN-TabNet.ipynb",
   "output_path": "./ABC_GAN_TabNet/ABC-GAN_output_8_9.ipynb",
   "parameters": {
    "bias": 0,
    "variance": 1
   },
   "start_time": "2022-06-22T15:38:17.867359",
   "version": "2.3.3"
  }
 },
 "nbformat": 4,
 "nbformat_minor": 5
}