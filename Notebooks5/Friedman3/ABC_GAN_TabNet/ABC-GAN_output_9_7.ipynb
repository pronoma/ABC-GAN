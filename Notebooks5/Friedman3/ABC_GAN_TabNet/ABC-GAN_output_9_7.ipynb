{
 "cells": [
  {
   "cell_type": "markdown",
   "id": "622780e6",
   "metadata": {
    "id": "622780e6",
    "papermill": {
     "duration": 0.103692,
     "end_time": "2022-06-22T16:19:50.764552",
     "exception": false,
     "start_time": "2022-06-22T16:19:50.660860",
     "status": "completed"
    },
    "tags": []
   },
   "source": [
    "## Import Libraries "
   ]
  },
  {
   "cell_type": "code",
   "execution_count": 1,
   "id": "a62397e3",
   "metadata": {
    "execution": {
     "iopub.execute_input": "2022-06-22T16:19:50.846798Z",
     "iopub.status.busy": "2022-06-22T16:19:50.844309Z",
     "iopub.status.idle": "2022-06-22T16:19:50.849661Z",
     "shell.execute_reply": "2022-06-22T16:19:50.848772Z"
    },
    "id": "a62397e3",
    "papermill": {
     "duration": 0.055375,
     "end_time": "2022-06-22T16:19:50.849963",
     "exception": false,
     "start_time": "2022-06-22T16:19:50.794588",
     "status": "completed"
    },
    "tags": []
   },
   "outputs": [],
   "source": [
    "import warnings\n",
    "import sys\n",
    "sys.path.insert(0, '../../src')\n",
    "warnings.filterwarnings('ignore')"
   ]
  },
  {
   "cell_type": "code",
   "execution_count": 2,
   "id": "d6a4e155",
   "metadata": {
    "execution": {
     "iopub.execute_input": "2022-06-22T16:19:50.920087Z",
     "iopub.status.busy": "2022-06-22T16:19:50.912520Z",
     "iopub.status.idle": "2022-06-22T16:19:59.595001Z",
     "shell.execute_reply": "2022-06-22T16:19:59.595674Z"
    },
    "id": "d6a4e155",
    "papermill": {
     "duration": 8.722978,
     "end_time": "2022-06-22T16:19:59.595993",
     "exception": false,
     "start_time": "2022-06-22T16:19:50.873015",
     "status": "completed"
    },
    "tags": []
   },
   "outputs": [],
   "source": [
    "import ABC_train_test2\n",
    "import friedman3Dataset\n",
    "import network\n",
    "import dataset\n",
    "import sanityChecks\n",
    "import torch \n",
    "import scrapbook as sb\n",
    "from statistics import mean \n",
    "import catboost as ctb \n",
    "from sklearn.model_selection import train_test_split\n",
    "from sklearn.metrics import mean_squared_error,mean_absolute_error\n",
    "import numpy as np\n",
    "from pytorch_tabnet.tab_model import TabNetRegressor"
   ]
  },
  {
   "cell_type": "markdown",
   "id": "2fa5b0f7",
   "metadata": {
    "id": "2fa5b0f7",
    "papermill": {
     "duration": 0.01916,
     "end_time": "2022-06-22T16:19:59.635024",
     "exception": false,
     "start_time": "2022-06-22T16:19:59.615864",
     "status": "completed"
    },
    "tags": []
   },
   "source": [
    "## Parameters "
   ]
  },
  {
   "cell_type": "code",
   "execution_count": 3,
   "id": "783186fb",
   "metadata": {
    "execution": {
     "iopub.execute_input": "2022-06-22T16:19:59.681120Z",
     "iopub.status.busy": "2022-06-22T16:19:59.679931Z",
     "iopub.status.idle": "2022-06-22T16:19:59.683129Z",
     "shell.execute_reply": "2022-06-22T16:19:59.683708Z"
    },
    "id": "783186fb",
    "papermill": {
     "duration": 0.02743,
     "end_time": "2022-06-22T16:19:59.683953",
     "exception": false,
     "start_time": "2022-06-22T16:19:59.656523",
     "status": "completed"
    },
    "tags": [
     "parameters"
    ]
   },
   "outputs": [],
   "source": [
    "variance = 1\n",
    "bias = 1 "
   ]
  },
  {
   "cell_type": "code",
   "execution_count": 4,
   "id": "3c23cfc8",
   "metadata": {
    "execution": {
     "iopub.execute_input": "2022-06-22T16:19:59.720292Z",
     "iopub.status.busy": "2022-06-22T16:19:59.719109Z",
     "iopub.status.idle": "2022-06-22T16:19:59.722623Z",
     "shell.execute_reply": "2022-06-22T16:19:59.723240Z"
    },
    "papermill": {
     "duration": 0.023515,
     "end_time": "2022-06-22T16:19:59.723499",
     "exception": false,
     "start_time": "2022-06-22T16:19:59.699984",
     "status": "completed"
    },
    "tags": [
     "injected-parameters"
    ]
   },
   "outputs": [],
   "source": [
    "# Parameters\n",
    "variance = 0.1\n",
    "bias = 0.01\n"
   ]
  },
  {
   "cell_type": "markdown",
   "id": "391cdbfd",
   "metadata": {
    "id": "391cdbfd",
    "papermill": {
     "duration": 0.018168,
     "end_time": "2022-06-22T16:19:59.764392",
     "exception": false,
     "start_time": "2022-06-22T16:19:59.746224",
     "status": "completed"
    },
    "tags": []
   },
   "source": [
    "## Dataset \n"
   ]
  },
  {
   "cell_type": "code",
   "execution_count": 5,
   "id": "5b51f161",
   "metadata": {
    "execution": {
     "iopub.execute_input": "2022-06-22T16:19:59.802147Z",
     "iopub.status.busy": "2022-06-22T16:19:59.800938Z",
     "iopub.status.idle": "2022-06-22T16:19:59.803833Z",
     "shell.execute_reply": "2022-06-22T16:19:59.804415Z"
    },
    "id": "5b51f161",
    "papermill": {
     "duration": 0.023632,
     "end_time": "2022-06-22T16:19:59.804639",
     "exception": false,
     "start_time": "2022-06-22T16:19:59.781007",
     "status": "completed"
    },
    "tags": []
   },
   "outputs": [],
   "source": [
    "#Parameters \n",
    "n_features = 4\n",
    "n_samples= 100\n",
    "n_target = 1"
   ]
  },
  {
   "cell_type": "code",
   "execution_count": 6,
   "id": "5d6eced4",
   "metadata": {
    "execution": {
     "iopub.execute_input": "2022-06-22T16:19:59.844060Z",
     "iopub.status.busy": "2022-06-22T16:19:59.843058Z",
     "iopub.status.idle": "2022-06-22T16:19:59.858852Z",
     "shell.execute_reply": "2022-06-22T16:19:59.859373Z"
    },
    "id": "5d6eced4",
    "papermill": {
     "duration": 0.03967,
     "end_time": "2022-06-22T16:19:59.859596",
     "exception": false,
     "start_time": "2022-06-22T16:19:59.819926",
     "status": "completed"
    },
    "tags": []
   },
   "outputs": [
    {
     "name": "stdout",
     "output_type": "stream",
     "text": [
      "          X1           X2        X3        X4         Y\n",
      "0  42.350342  1019.605553  0.908332  7.654502  1.524282\n",
      "1  11.450682   645.875028  0.739008  8.206067  1.371925\n",
      "2  75.699488   617.011745  0.347913  1.302477  1.144631\n",
      "3  45.719894  1696.529546  0.703013  1.748572  1.586972\n",
      "4  22.508810  1234.322947  0.430250  7.602147  1.417906\n"
     ]
    }
   ],
   "source": [
    "X,Y = friedman3Dataset.friedman3_data(n_samples)"
   ]
  },
  {
   "cell_type": "code",
   "execution_count": 7,
   "id": "fe007438",
   "metadata": {
    "execution": {
     "iopub.execute_input": "2022-06-22T16:19:59.912358Z",
     "iopub.status.busy": "2022-06-22T16:19:59.910546Z",
     "iopub.status.idle": "2022-06-22T16:19:59.913876Z",
     "shell.execute_reply": "2022-06-22T16:19:59.914898Z"
    },
    "id": "fe007438",
    "papermill": {
     "duration": 0.038617,
     "end_time": "2022-06-22T16:19:59.915149",
     "exception": false,
     "start_time": "2022-06-22T16:19:59.876532",
     "status": "completed"
    },
    "tags": []
   },
   "outputs": [],
   "source": [
    "#Train test split for dataset \n",
    "X_train,X_test,Y_train,Y_test = train_test_split(X,Y,test_size = 0.2)\n",
    "train_data = dataset.CustomDataset(X_train,Y_train)\n",
    "test_data = dataset.CustomDataset(X_test,Y_test)\n"
   ]
  },
  {
   "cell_type": "markdown",
   "id": "a9a1af34",
   "metadata": {
    "id": "a9a1af34",
    "papermill": {
     "duration": 0.023749,
     "end_time": "2022-06-22T16:19:59.974493",
     "exception": false,
     "start_time": "2022-06-22T16:19:59.950744",
     "status": "completed"
    },
    "tags": []
   },
   "source": [
    "## Training Parameters "
   ]
  },
  {
   "cell_type": "code",
   "execution_count": 8,
   "id": "952b7fc8",
   "metadata": {
    "execution": {
     "iopub.execute_input": "2022-06-22T16:20:00.060878Z",
     "iopub.status.busy": "2022-06-22T16:20:00.059564Z",
     "iopub.status.idle": "2022-06-22T16:20:00.063269Z",
     "shell.execute_reply": "2022-06-22T16:20:00.064038Z"
    },
    "id": "952b7fc8",
    "papermill": {
     "duration": 0.066421,
     "end_time": "2022-06-22T16:20:00.064337",
     "exception": false,
     "start_time": "2022-06-22T16:19:59.997916",
     "status": "completed"
    },
    "tags": []
   },
   "outputs": [],
   "source": [
    "batch_size = 32\n",
    "n_epochs = 1000\n",
    "#Select the device \n",
    "device = torch.device('cuda' if torch.cuda.is_available() else 'cpu')"
   ]
  },
  {
   "cell_type": "markdown",
   "id": "a95e1600",
   "metadata": {
    "id": "a95e1600",
    "papermill": {
     "duration": 0.032516,
     "end_time": "2022-06-22T16:20:00.117804",
     "exception": false,
     "start_time": "2022-06-22T16:20:00.085288",
     "status": "completed"
    },
    "tags": []
   },
   "source": [
    "# ABC Pre-generator Model \n",
    "\n",
    "1. The catboost model is used as a pre-generator model for the ABC-GAN. \n",
    "2. The model is first trained on the entire dataset \n",
    "3. It generats X,Y pairs and we add some Gaussian noise with mean 0 and variance 1 to it which is then feed as input to the generator.\n"
   ]
  },
  {
   "cell_type": "code",
   "execution_count": 9,
   "id": "ff8ce7bd",
   "metadata": {
    "execution": {
     "iopub.execute_input": "2022-06-22T16:20:00.252498Z",
     "iopub.status.busy": "2022-06-22T16:20:00.249124Z",
     "iopub.status.idle": "2022-06-22T16:20:25.168815Z",
     "shell.execute_reply": "2022-06-22T16:20:25.169358Z"
    },
    "id": "ff8ce7bd",
    "papermill": {
     "duration": 25.019473,
     "end_time": "2022-06-22T16:20:25.169728",
     "exception": false,
     "start_time": "2022-06-22T16:20:00.150255",
     "status": "completed"
    },
    "tags": []
   },
   "outputs": [
    {
     "name": "stdout",
     "output_type": "stream",
     "text": [
      "Device used : cpu\n"
     ]
    },
    {
     "name": "stdout",
     "output_type": "stream",
     "text": [
      "epoch 0  | loss: 0.80948 | train_mse: 4.95372 | train_mae: 1.62489 |  0:00:00s\n",
      "epoch 1  | loss: 0.67047 | train_mse: 5.6355  | train_mae: 1.69205 |  0:00:00s\n"
     ]
    },
    {
     "name": "stdout",
     "output_type": "stream",
     "text": [
      "epoch 2  | loss: 0.68386 | train_mse: 12.03208| train_mae: 2.40977 |  0:00:00s\n",
      "epoch 3  | loss: 0.64336 | train_mse: 14.69093| train_mae: 2.60997 |  0:00:00s\n",
      "epoch 4  | loss: 0.37149 | train_mse: 13.36968| train_mae: 2.42074 |  0:00:01s\n"
     ]
    },
    {
     "name": "stdout",
     "output_type": "stream",
     "text": [
      "epoch 5  | loss: 0.45485 | train_mse: 8.07072 | train_mae: 1.80499 |  0:00:01s\n",
      "epoch 6  | loss: 0.40903 | train_mse: 6.83194 | train_mae: 1.64726 |  0:00:01s\n"
     ]
    },
    {
     "name": "stdout",
     "output_type": "stream",
     "text": [
      "epoch 7  | loss: 0.40241 | train_mse: 4.76182 | train_mae: 1.34577 |  0:00:01s\n",
      "epoch 8  | loss: 0.26467 | train_mse: 2.50692 | train_mae: 1.03255 |  0:00:01s\n"
     ]
    },
    {
     "name": "stdout",
     "output_type": "stream",
     "text": [
      "epoch 9  | loss: 0.21538 | train_mse: 2.19353 | train_mae: 0.9652  |  0:00:01s\n"
     ]
    },
    {
     "name": "stdout",
     "output_type": "stream",
     "text": [
      "epoch 10 | loss: 0.25921 | train_mse: 1.71318 | train_mae: 0.84978 |  0:00:01s\n"
     ]
    },
    {
     "name": "stdout",
     "output_type": "stream",
     "text": [
      "epoch 11 | loss: 0.15637 | train_mse: 1.27571 | train_mae: 0.73052 |  0:00:02s\n",
      "epoch 12 | loss: 0.37748 | train_mse: 0.7346  | train_mae: 0.57129 |  0:00:02s\n"
     ]
    },
    {
     "name": "stdout",
     "output_type": "stream",
     "text": [
      "epoch 13 | loss: 0.134   | train_mse: 0.28374 | train_mae: 0.40737 |  0:00:02s\n",
      "epoch 14 | loss: 0.30508 | train_mse: 0.28444 | train_mae: 0.38255 |  0:00:02s\n"
     ]
    },
    {
     "name": "stdout",
     "output_type": "stream",
     "text": [
      "epoch 15 | loss: 0.25975 | train_mse: 0.19043 | train_mae: 0.34967 |  0:00:02s\n",
      "epoch 16 | loss: 0.17314 | train_mse: 0.36642 | train_mae: 0.42456 |  0:00:02s\n"
     ]
    },
    {
     "name": "stdout",
     "output_type": "stream",
     "text": [
      "epoch 17 | loss: 0.20139 | train_mse: 0.48836 | train_mae: 0.48961 |  0:00:02s\n",
      "epoch 18 | loss: 0.19212 | train_mse: 0.39752 | train_mae: 0.45237 |  0:00:03s\n"
     ]
    },
    {
     "name": "stdout",
     "output_type": "stream",
     "text": [
      "epoch 19 | loss: 0.18216 | train_mse: 0.29745 | train_mae: 0.40548 |  0:00:03s\n",
      "epoch 20 | loss: 0.14087 | train_mse: 0.22845 | train_mae: 0.36498 |  0:00:03s\n",
      "epoch 21 | loss: 0.14595 | train_mse: 0.25373 | train_mae: 0.38086 |  0:00:03s\n"
     ]
    },
    {
     "name": "stdout",
     "output_type": "stream",
     "text": [
      "epoch 22 | loss: 0.16323 | train_mse: 0.31127 | train_mae: 0.40496 |  0:00:03s\n",
      "epoch 23 | loss: 0.13382 | train_mse: 0.21386 | train_mae: 0.35611 |  0:00:03s\n",
      "epoch 24 | loss: 0.21744 | train_mse: 0.14468 | train_mae: 0.2943  |  0:00:03s\n"
     ]
    },
    {
     "name": "stdout",
     "output_type": "stream",
     "text": [
      "epoch 25 | loss: 0.11748 | train_mse: 0.13036 | train_mae: 0.28616 |  0:00:03s\n",
      "epoch 26 | loss: 0.13351 | train_mse: 0.14043 | train_mae: 0.28319 |  0:00:03s\n"
     ]
    },
    {
     "name": "stdout",
     "output_type": "stream",
     "text": [
      "epoch 27 | loss: 0.13919 | train_mse: 0.18813 | train_mae: 0.32381 |  0:00:03s\n",
      "epoch 28 | loss: 0.23556 | train_mse: 0.19206 | train_mae: 0.32845 |  0:00:03s\n",
      "epoch 29 | loss: 0.13776 | train_mse: 0.18784 | train_mae: 0.33035 |  0:00:04s\n"
     ]
    },
    {
     "name": "stdout",
     "output_type": "stream",
     "text": [
      "epoch 30 | loss: 0.19662 | train_mse: 0.15691 | train_mae: 0.30716 |  0:00:04s\n",
      "epoch 31 | loss: 0.11535 | train_mse: 0.13883 | train_mae: 0.28649 |  0:00:04s\n",
      "epoch 32 | loss: 0.19304 | train_mse: 0.13035 | train_mae: 0.27908 |  0:00:04s\n"
     ]
    },
    {
     "name": "stdout",
     "output_type": "stream",
     "text": [
      "epoch 33 | loss: 0.16747 | train_mse: 0.11969 | train_mae: 0.27363 |  0:00:04s\n",
      "epoch 34 | loss: 0.17073 | train_mse: 0.15125 | train_mae: 0.29871 |  0:00:04s\n",
      "epoch 35 | loss: 0.19235 | train_mse: 0.2302  | train_mae: 0.35046 |  0:00:04s\n"
     ]
    },
    {
     "name": "stdout",
     "output_type": "stream",
     "text": [
      "epoch 36 | loss: 0.1223  | train_mse: 0.252   | train_mae: 0.3664  |  0:00:04s\n",
      "epoch 37 | loss: 0.16755 | train_mse: 0.23046 | train_mae: 0.35467 |  0:00:04s\n"
     ]
    },
    {
     "name": "stdout",
     "output_type": "stream",
     "text": [
      "epoch 38 | loss: 0.13683 | train_mse: 0.15654 | train_mae: 0.30744 |  0:00:04s\n",
      "epoch 39 | loss: 0.11869 | train_mse: 0.11938 | train_mae: 0.27044 |  0:00:04s\n",
      "epoch 40 | loss: 0.105   | train_mse: 0.10381 | train_mae: 0.25379 |  0:00:04s\n"
     ]
    },
    {
     "name": "stdout",
     "output_type": "stream",
     "text": [
      "epoch 41 | loss: 0.17223 | train_mse: 0.09722 | train_mae: 0.23376 |  0:00:05s\n",
      "epoch 42 | loss: 0.10102 | train_mse: 0.09777 | train_mae: 0.23652 |  0:00:05s\n",
      "epoch 43 | loss: 0.30894 | train_mse: 0.09611 | train_mae: 0.24145 |  0:00:05s\n"
     ]
    },
    {
     "name": "stdout",
     "output_type": "stream",
     "text": [
      "epoch 44 | loss: 0.15715 | train_mse: 0.09086 | train_mae: 0.23683 |  0:00:05s\n",
      "epoch 45 | loss: 0.13039 | train_mse: 0.09575 | train_mae: 0.24405 |  0:00:05s\n",
      "epoch 46 | loss: 0.13153 | train_mse: 0.09983 | train_mae: 0.25242 |  0:00:05s\n"
     ]
    },
    {
     "name": "stdout",
     "output_type": "stream",
     "text": [
      "epoch 47 | loss: 0.21394 | train_mse: 0.11132 | train_mae: 0.2685  |  0:00:05s\n",
      "epoch 48 | loss: 0.17555 | train_mse: 0.1077  | train_mae: 0.26367 |  0:00:05s\n",
      "epoch 49 | loss: 0.12421 | train_mse: 0.09657 | train_mae: 0.25102 |  0:00:05s\n"
     ]
    },
    {
     "name": "stdout",
     "output_type": "stream",
     "text": [
      "epoch 50 | loss: 0.10134 | train_mse: 0.09425 | train_mae: 0.25281 |  0:00:05s\n",
      "epoch 51 | loss: 0.11636 | train_mse: 0.09408 | train_mae: 0.23648 |  0:00:05s\n",
      "epoch 52 | loss: 0.10414 | train_mse: 0.1004  | train_mae: 0.23596 |  0:00:05s\n"
     ]
    },
    {
     "name": "stdout",
     "output_type": "stream",
     "text": [
      "epoch 53 | loss: 0.22173 | train_mse: 0.10938 | train_mae: 0.24974 |  0:00:06s\n",
      "epoch 54 | loss: 0.12149 | train_mse: 0.10677 | train_mae: 0.24681 |  0:00:06s\n",
      "epoch 55 | loss: 0.09066 | train_mse: 0.09939 | train_mae: 0.23925 |  0:00:06s\n"
     ]
    },
    {
     "name": "stdout",
     "output_type": "stream",
     "text": [
      "epoch 56 | loss: 0.16402 | train_mse: 0.11559 | train_mae: 0.25148 |  0:00:06s\n",
      "epoch 57 | loss: 0.16809 | train_mse: 0.11005 | train_mae: 0.24416 |  0:00:06s\n",
      "epoch 58 | loss: 0.11318 | train_mse: 0.10495 | train_mae: 0.23957 |  0:00:06s\n"
     ]
    },
    {
     "name": "stdout",
     "output_type": "stream",
     "text": [
      "epoch 59 | loss: 0.1015  | train_mse: 0.0984  | train_mae: 0.23503 |  0:00:06s\n",
      "epoch 60 | loss: 0.16514 | train_mse: 0.08771 | train_mae: 0.22694 |  0:00:06s\n",
      "epoch 61 | loss: 0.15545 | train_mse: 0.08404 | train_mae: 0.22141 |  0:00:06s\n"
     ]
    },
    {
     "name": "stdout",
     "output_type": "stream",
     "text": [
      "epoch 62 | loss: 0.1193  | train_mse: 0.09126 | train_mae: 0.23186 |  0:00:06s\n",
      "epoch 63 | loss: 0.09551 | train_mse: 0.11999 | train_mae: 0.26055 |  0:00:06s\n",
      "epoch 64 | loss: 0.13819 | train_mse: 0.13784 | train_mae: 0.27474 |  0:00:06s\n"
     ]
    },
    {
     "name": "stdout",
     "output_type": "stream",
     "text": [
      "epoch 65 | loss: 0.10597 | train_mse: 0.14771 | train_mae: 0.27492 |  0:00:06s\n",
      "epoch 66 | loss: 0.09107 | train_mse: 0.16017 | train_mae: 0.2778  |  0:00:07s\n",
      "epoch 67 | loss: 0.09948 | train_mse: 0.17301 | train_mae: 0.28081 |  0:00:07s\n"
     ]
    },
    {
     "name": "stdout",
     "output_type": "stream",
     "text": [
      "epoch 68 | loss: 0.10798 | train_mse: 0.21608 | train_mae: 0.31573 |  0:00:07s\n",
      "epoch 69 | loss: 0.17679 | train_mse: 0.14443 | train_mae: 0.27919 |  0:00:07s\n",
      "epoch 70 | loss: 0.23937 | train_mse: 0.14762 | train_mae: 0.28272 |  0:00:07s\n"
     ]
    },
    {
     "name": "stdout",
     "output_type": "stream",
     "text": [
      "epoch 71 | loss: 0.24773 | train_mse: 0.13792 | train_mae: 0.27915 |  0:00:07s\n",
      "epoch 72 | loss: 0.10797 | train_mse: 0.14209 | train_mae: 0.26932 |  0:00:07s\n",
      "epoch 73 | loss: 0.12468 | train_mse: 0.17078 | train_mae: 0.2778  |  0:00:07s\n"
     ]
    },
    {
     "name": "stdout",
     "output_type": "stream",
     "text": [
      "epoch 74 | loss: 0.10761 | train_mse: 0.19427 | train_mae: 0.28901 |  0:00:07s\n",
      "epoch 75 | loss: 0.1138  | train_mse: 0.14164 | train_mae: 0.25659 |  0:00:07s\n",
      "epoch 76 | loss: 0.09718 | train_mse: 0.10369 | train_mae: 0.23383 |  0:00:07s\n"
     ]
    },
    {
     "name": "stdout",
     "output_type": "stream",
     "text": [
      "epoch 77 | loss: 0.10452 | train_mse: 0.07939 | train_mae: 0.21746 |  0:00:07s\n",
      "epoch 78 | loss: 0.11759 | train_mse: 0.09713 | train_mae: 0.2281  |  0:00:08s\n",
      "epoch 79 | loss: 0.13041 | train_mse: 0.12707 | train_mae: 0.24937 |  0:00:08s\n"
     ]
    },
    {
     "name": "stdout",
     "output_type": "stream",
     "text": [
      "epoch 80 | loss: 0.0792  | train_mse: 0.20614 | train_mae: 0.2984  |  0:00:08s\n",
      "epoch 81 | loss: 0.08487 | train_mse: 0.22893 | train_mae: 0.30527 |  0:00:08s\n",
      "epoch 82 | loss: 0.1442  | train_mse: 0.21112 | train_mae: 0.30038 |  0:00:08s\n"
     ]
    },
    {
     "name": "stdout",
     "output_type": "stream",
     "text": [
      "epoch 83 | loss: 0.14313 | train_mse: 0.21035 | train_mae: 0.2987  |  0:00:08s\n",
      "epoch 84 | loss: 0.10426 | train_mse: 0.21775 | train_mae: 0.30734 |  0:00:08s\n",
      "epoch 85 | loss: 0.10666 | train_mse: 0.27579 | train_mae: 0.3491  |  0:00:08s\n"
     ]
    },
    {
     "name": "stdout",
     "output_type": "stream",
     "text": [
      "epoch 86 | loss: 0.2484  | train_mse: 0.32651 | train_mae: 0.37084 |  0:00:08s\n",
      "epoch 87 | loss: 0.07438 | train_mse: 0.32583 | train_mae: 0.37505 |  0:00:08s\n",
      "epoch 88 | loss: 0.20806 | train_mse: 0.34575 | train_mae: 0.38447 |  0:00:08s\n"
     ]
    },
    {
     "name": "stdout",
     "output_type": "stream",
     "text": [
      "epoch 89 | loss: 0.11976 | train_mse: 0.34876 | train_mae: 0.37496 |  0:00:08s\n",
      "epoch 90 | loss: 0.16564 | train_mse: 0.28561 | train_mae: 0.35035 |  0:00:09s\n",
      "epoch 91 | loss: 0.20315 | train_mse: 0.23593 | train_mae: 0.32644 |  0:00:09s\n"
     ]
    },
    {
     "name": "stdout",
     "output_type": "stream",
     "text": [
      "epoch 92 | loss: 0.10002 | train_mse: 0.19092 | train_mae: 0.3036  |  0:00:09s\n",
      "epoch 93 | loss: 0.11089 | train_mse: 0.12448 | train_mae: 0.26359 |  0:00:09s\n",
      "epoch 94 | loss: 0.22595 | train_mse: 0.09083 | train_mae: 0.2279  |  0:00:09s\n"
     ]
    },
    {
     "name": "stdout",
     "output_type": "stream",
     "text": [
      "epoch 95 | loss: 0.10956 | train_mse: 0.06909 | train_mae: 0.19593 |  0:00:09s\n",
      "epoch 96 | loss: 0.17923 | train_mse: 0.09006 | train_mae: 0.21711 |  0:00:09s\n",
      "epoch 97 | loss: 0.12066 | train_mse: 0.13168 | train_mae: 0.24943 |  0:00:09s\n"
     ]
    },
    {
     "name": "stdout",
     "output_type": "stream",
     "text": [
      "epoch 98 | loss: 0.12232 | train_mse: 0.12966 | train_mae: 0.23777 |  0:00:09s\n",
      "epoch 99 | loss: 0.1164  | train_mse: 0.09047 | train_mae: 0.2088  |  0:00:09s\n",
      "epoch 100| loss: 0.09677 | train_mse: 0.07362 | train_mae: 0.20033 |  0:00:09s\n"
     ]
    },
    {
     "name": "stdout",
     "output_type": "stream",
     "text": [
      "epoch 101| loss: 0.22379 | train_mse: 0.08649 | train_mae: 0.21778 |  0:00:09s\n",
      "epoch 102| loss: 0.18137 | train_mse: 0.12091 | train_mae: 0.25468 |  0:00:10s\n",
      "epoch 103| loss: 0.11567 | train_mse: 0.08801 | train_mae: 0.23783 |  0:00:10s\n"
     ]
    },
    {
     "name": "stdout",
     "output_type": "stream",
     "text": [
      "epoch 104| loss: 0.11241 | train_mse: 0.06847 | train_mae: 0.2109  |  0:00:10s\n",
      "epoch 105| loss: 0.12997 | train_mse: 0.06284 | train_mae: 0.2001  |  0:00:10s\n",
      "epoch 106| loss: 0.08532 | train_mse: 0.07547 | train_mae: 0.21375 |  0:00:10s\n"
     ]
    },
    {
     "name": "stdout",
     "output_type": "stream",
     "text": [
      "epoch 107| loss: 0.14194 | train_mse: 0.06399 | train_mae: 0.20077 |  0:00:10s\n",
      "epoch 108| loss: 0.19109 | train_mse: 0.08796 | train_mae: 0.22641 |  0:00:10s\n",
      "epoch 109| loss: 0.24132 | train_mse: 0.09945 | train_mae: 0.23837 |  0:00:10s\n"
     ]
    },
    {
     "name": "stdout",
     "output_type": "stream",
     "text": [
      "epoch 110| loss: 0.20953 | train_mse: 0.08733 | train_mae: 0.22583 |  0:00:10s\n",
      "epoch 111| loss: 0.14753 | train_mse: 0.09028 | train_mae: 0.22825 |  0:00:10s\n",
      "epoch 112| loss: 0.15349 | train_mse: 0.07914 | train_mae: 0.22019 |  0:00:10s\n"
     ]
    },
    {
     "name": "stdout",
     "output_type": "stream",
     "text": [
      "epoch 113| loss: 0.1011  | train_mse: 0.07404 | train_mae: 0.21354 |  0:00:10s\n",
      "epoch 114| loss: 0.12458 | train_mse: 0.09194 | train_mae: 0.2312  |  0:00:11s\n",
      "epoch 115| loss: 0.14836 | train_mse: 0.10623 | train_mae: 0.24926 |  0:00:11s\n"
     ]
    },
    {
     "name": "stdout",
     "output_type": "stream",
     "text": [
      "epoch 116| loss: 0.08014 | train_mse: 0.10796 | train_mae: 0.24875 |  0:00:11s\n",
      "epoch 117| loss: 0.10691 | train_mse: 0.11478 | train_mae: 0.24966 |  0:00:11s\n",
      "epoch 118| loss: 0.10608 | train_mse: 0.10028 | train_mae: 0.24251 |  0:00:11s\n"
     ]
    },
    {
     "name": "stdout",
     "output_type": "stream",
     "text": [
      "epoch 119| loss: 0.10317 | train_mse: 0.10648 | train_mae: 0.25062 |  0:00:11s\n",
      "epoch 120| loss: 0.10663 | train_mse: 0.13295 | train_mae: 0.27556 |  0:00:11s\n",
      "epoch 121| loss: 0.14116 | train_mse: 0.09106 | train_mae: 0.22945 |  0:00:11s\n"
     ]
    },
    {
     "name": "stdout",
     "output_type": "stream",
     "text": [
      "epoch 122| loss: 0.09587 | train_mse: 0.07008 | train_mae: 0.19983 |  0:00:11s\n",
      "epoch 123| loss: 0.07161 | train_mse: 0.06413 | train_mae: 0.20234 |  0:00:11s\n",
      "epoch 124| loss: 0.09735 | train_mse: 0.07285 | train_mae: 0.20925 |  0:00:11s\n"
     ]
    },
    {
     "name": "stdout",
     "output_type": "stream",
     "text": [
      "epoch 125| loss: 0.16609 | train_mse: 0.07897 | train_mae: 0.21395 |  0:00:12s\n",
      "epoch 126| loss: 0.11162 | train_mse: 0.07791 | train_mae: 0.20946 |  0:00:12s\n",
      "epoch 127| loss: 0.0694  | train_mse: 0.07873 | train_mae: 0.2156  |  0:00:12s\n"
     ]
    },
    {
     "name": "stdout",
     "output_type": "stream",
     "text": [
      "epoch 128| loss: 0.19536 | train_mse: 0.06141 | train_mae: 0.19747 |  0:00:12s\n",
      "epoch 129| loss: 0.1271  | train_mse: 0.0596  | train_mae: 0.19236 |  0:00:12s\n"
     ]
    },
    {
     "name": "stdout",
     "output_type": "stream",
     "text": [
      "epoch 130| loss: 0.10365 | train_mse: 0.05551 | train_mae: 0.182   |  0:00:12s\n",
      "epoch 131| loss: 0.09206 | train_mse: 0.07599 | train_mae: 0.20212 |  0:00:12s\n"
     ]
    },
    {
     "name": "stdout",
     "output_type": "stream",
     "text": [
      "epoch 132| loss: 0.0811  | train_mse: 0.09607 | train_mae: 0.22034 |  0:00:12s\n",
      "epoch 133| loss: 0.36187 | train_mse: 0.13719 | train_mae: 0.25495 |  0:00:12s\n"
     ]
    },
    {
     "name": "stdout",
     "output_type": "stream",
     "text": [
      "epoch 134| loss: 0.0755  | train_mse: 0.12944 | train_mae: 0.25611 |  0:00:13s\n",
      "epoch 135| loss: 0.1109  | train_mse: 0.08966 | train_mae: 0.22642 |  0:00:13s\n",
      "epoch 136| loss: 0.16929 | train_mse: 0.0676  | train_mae: 0.20497 |  0:00:13s\n"
     ]
    },
    {
     "name": "stdout",
     "output_type": "stream",
     "text": [
      "epoch 137| loss: 0.13476 | train_mse: 0.06336 | train_mae: 0.20168 |  0:00:13s\n",
      "epoch 138| loss: 0.09918 | train_mse: 0.06928 | train_mae: 0.2065  |  0:00:13s\n",
      "epoch 139| loss: 0.09619 | train_mse: 0.09445 | train_mae: 0.23416 |  0:00:13s\n"
     ]
    },
    {
     "name": "stdout",
     "output_type": "stream",
     "text": [
      "epoch 140| loss: 0.13456 | train_mse: 0.07817 | train_mae: 0.21837 |  0:00:13s\n",
      "epoch 141| loss: 0.10418 | train_mse: 0.06215 | train_mae: 0.20056 |  0:00:13s\n"
     ]
    },
    {
     "name": "stdout",
     "output_type": "stream",
     "text": [
      "epoch 142| loss: 0.10974 | train_mse: 0.06197 | train_mae: 0.19518 |  0:00:13s\n",
      "epoch 143| loss: 0.08774 | train_mse: 0.07254 | train_mae: 0.20608 |  0:00:13s\n"
     ]
    },
    {
     "name": "stdout",
     "output_type": "stream",
     "text": [
      "epoch 144| loss: 0.09261 | train_mse: 0.09098 | train_mae: 0.22306 |  0:00:14s\n",
      "epoch 145| loss: 0.12881 | train_mse: 0.08459 | train_mae: 0.21883 |  0:00:14s\n",
      "epoch 146| loss: 0.0765  | train_mse: 0.10614 | train_mae: 0.23789 |  0:00:14s\n"
     ]
    },
    {
     "name": "stdout",
     "output_type": "stream",
     "text": [
      "epoch 147| loss: 0.13484 | train_mse: 0.14125 | train_mae: 0.2598  |  0:00:14s\n",
      "epoch 148| loss: 0.11909 | train_mse: 0.16151 | train_mae: 0.26416 |  0:00:14s\n",
      "epoch 149| loss: 0.13948 | train_mse: 0.14215 | train_mae: 0.25086 |  0:00:14s\n"
     ]
    },
    {
     "name": "stdout",
     "output_type": "stream",
     "text": [
      "epoch 150| loss: 0.12495 | train_mse: 0.11145 | train_mae: 0.24357 |  0:00:14s\n",
      "epoch 151| loss: 0.07669 | train_mse: 0.11836 | train_mae: 0.25691 |  0:00:14s\n"
     ]
    },
    {
     "name": "stdout",
     "output_type": "stream",
     "text": [
      "epoch 152| loss: 0.10601 | train_mse: 0.07621 | train_mae: 0.21303 |  0:00:14s\n",
      "epoch 153| loss: 0.05552 | train_mse: 0.06415 | train_mae: 0.19726 |  0:00:14s\n"
     ]
    },
    {
     "name": "stdout",
     "output_type": "stream",
     "text": [
      "epoch 154| loss: 0.10424 | train_mse: 0.06335 | train_mae: 0.19874 |  0:00:15s\n",
      "epoch 155| loss: 0.07249 | train_mse: 0.08495 | train_mae: 0.2179  |  0:00:15s\n"
     ]
    },
    {
     "name": "stdout",
     "output_type": "stream",
     "text": [
      "epoch 156| loss: 0.17308 | train_mse: 0.09241 | train_mae: 0.2294  |  0:00:15s\n",
      "epoch 157| loss: 0.07905 | train_mse: 0.08348 | train_mae: 0.22924 |  0:00:15s\n",
      "epoch 158| loss: 0.15574 | train_mse: 0.07057 | train_mae: 0.20508 |  0:00:15s\n"
     ]
    },
    {
     "name": "stdout",
     "output_type": "stream",
     "text": [
      "epoch 159| loss: 0.09256 | train_mse: 0.08531 | train_mae: 0.2156  |  0:00:15s\n",
      "epoch 160| loss: 0.14312 | train_mse: 0.09047 | train_mae: 0.2168  |  0:00:15s\n"
     ]
    },
    {
     "name": "stdout",
     "output_type": "stream",
     "text": [
      "epoch 161| loss: 0.09745 | train_mse: 0.12018 | train_mae: 0.23537 |  0:00:15s\n",
      "epoch 162| loss: 0.10468 | train_mse: 0.08513 | train_mae: 0.21225 |  0:00:15s\n"
     ]
    },
    {
     "name": "stdout",
     "output_type": "stream",
     "text": [
      "epoch 163| loss: 0.1291  | train_mse: 0.04955 | train_mae: 0.18578 |  0:00:16s\n",
      "epoch 164| loss: 0.12431 | train_mse: 0.05245 | train_mae: 0.19073 |  0:00:16s\n",
      "epoch 165| loss: 0.12886 | train_mse: 0.05742 | train_mae: 0.19188 |  0:00:16s\n"
     ]
    },
    {
     "name": "stdout",
     "output_type": "stream",
     "text": [
      "epoch 166| loss: 0.0968  | train_mse: 0.06392 | train_mae: 0.19384 |  0:00:16s\n",
      "epoch 167| loss: 0.10031 | train_mse: 0.06864 | train_mae: 0.19647 |  0:00:16s\n",
      "epoch 168| loss: 0.06505 | train_mse: 0.07892 | train_mae: 0.20221 |  0:00:16s\n"
     ]
    },
    {
     "name": "stdout",
     "output_type": "stream",
     "text": [
      "epoch 169| loss: 0.10761 | train_mse: 0.05363 | train_mae: 0.16969 |  0:00:16s\n",
      "epoch 170| loss: 0.14122 | train_mse: 0.04972 | train_mae: 0.17168 |  0:00:16s\n"
     ]
    },
    {
     "name": "stdout",
     "output_type": "stream",
     "text": [
      "epoch 171| loss: 0.08125 | train_mse: 0.04914 | train_mae: 0.17505 |  0:00:16s\n",
      "epoch 172| loss: 0.12045 | train_mse: 0.05477 | train_mae: 0.18133 |  0:00:16s\n",
      "epoch 173| loss: 0.11793 | train_mse: 0.05567 | train_mae: 0.18187 |  0:00:17s\n"
     ]
    },
    {
     "name": "stdout",
     "output_type": "stream",
     "text": [
      "epoch 174| loss: 0.08527 | train_mse: 0.0636  | train_mae: 0.19172 |  0:00:17s\n",
      "epoch 175| loss: 0.07886 | train_mse: 0.05819 | train_mae: 0.18078 |  0:00:17s\n",
      "epoch 176| loss: 0.08515 | train_mse: 0.05506 | train_mae: 0.17261 |  0:00:17s\n"
     ]
    },
    {
     "name": "stdout",
     "output_type": "stream",
     "text": [
      "epoch 177| loss: 0.23301 | train_mse: 0.06409 | train_mae: 0.18443 |  0:00:17s\n",
      "epoch 178| loss: 0.06777 | train_mse: 0.07061 | train_mae: 0.19543 |  0:00:17s\n",
      "epoch 179| loss: 0.12879 | train_mse: 0.0635  | train_mae: 0.18662 |  0:00:17s\n"
     ]
    },
    {
     "name": "stdout",
     "output_type": "stream",
     "text": [
      "epoch 180| loss: 0.07486 | train_mse: 0.05291 | train_mae: 0.17494 |  0:00:17s\n",
      "epoch 181| loss: 0.12948 | train_mse: 0.04664 | train_mae: 0.16792 |  0:00:17s\n",
      "epoch 182| loss: 0.15931 | train_mse: 0.05608 | train_mae: 0.17551 |  0:00:17s\n"
     ]
    },
    {
     "name": "stdout",
     "output_type": "stream",
     "text": [
      "epoch 183| loss: 0.13064 | train_mse: 0.05892 | train_mae: 0.17842 |  0:00:17s\n",
      "epoch 184| loss: 0.12436 | train_mse: 0.07506 | train_mae: 0.18972 |  0:00:17s\n",
      "epoch 185| loss: 0.10057 | train_mse: 0.07322 | train_mae: 0.18807 |  0:00:18s\n"
     ]
    },
    {
     "name": "stdout",
     "output_type": "stream",
     "text": [
      "epoch 186| loss: 0.09355 | train_mse: 0.0841  | train_mae: 0.19733 |  0:00:18s\n",
      "epoch 187| loss: 0.06685 | train_mse: 0.07076 | train_mae: 0.19374 |  0:00:18s\n",
      "epoch 188| loss: 0.08605 | train_mse: 0.07975 | train_mae: 0.21506 |  0:00:18s\n"
     ]
    },
    {
     "name": "stdout",
     "output_type": "stream",
     "text": [
      "epoch 189| loss: 0.17492 | train_mse: 0.09462 | train_mae: 0.22091 |  0:00:18s\n",
      "epoch 190| loss: 0.07541 | train_mse: 0.05028 | train_mae: 0.16673 |  0:00:18s\n",
      "epoch 191| loss: 0.0549  | train_mse: 0.05238 | train_mae: 0.16658 |  0:00:18s\n"
     ]
    },
    {
     "name": "stdout",
     "output_type": "stream",
     "text": [
      "epoch 192| loss: 0.13158 | train_mse: 0.07876 | train_mae: 0.20507 |  0:00:18s\n",
      "epoch 193| loss: 0.14244 | train_mse: 0.08643 | train_mae: 0.23001 |  0:00:18s\n"
     ]
    },
    {
     "name": "stdout",
     "output_type": "stream",
     "text": [
      "epoch 194| loss: 0.11035 | train_mse: 0.07177 | train_mae: 0.21252 |  0:00:18s\n",
      "epoch 195| loss: 0.12911 | train_mse: 0.06739 | train_mae: 0.20735 |  0:00:18s\n",
      "epoch 196| loss: 0.11975 | train_mse: 0.06678 | train_mae: 0.20944 |  0:00:19s\n"
     ]
    },
    {
     "name": "stdout",
     "output_type": "stream",
     "text": [
      "epoch 197| loss: 0.08909 | train_mse: 0.06381 | train_mae: 0.20611 |  0:00:19s\n",
      "epoch 198| loss: 0.07283 | train_mse: 0.07113 | train_mae: 0.2123  |  0:00:19s\n",
      "epoch 199| loss: 0.09675 | train_mse: 0.07819 | train_mae: 0.20441 |  0:00:19s\n"
     ]
    },
    {
     "name": "stdout",
     "output_type": "stream",
     "text": [
      "epoch 200| loss: 0.21998 | train_mse: 0.0832  | train_mae: 0.20597 |  0:00:19s\n",
      "epoch 201| loss: 0.15511 | train_mse: 0.07021 | train_mae: 0.20571 |  0:00:19s\n",
      "epoch 202| loss: 0.16644 | train_mse: 0.05995 | train_mae: 0.19521 |  0:00:19s\n"
     ]
    },
    {
     "name": "stdout",
     "output_type": "stream",
     "text": [
      "epoch 203| loss: 0.13866 | train_mse: 0.05842 | train_mae: 0.18229 |  0:00:19s\n",
      "epoch 204| loss: 0.13035 | train_mse: 0.07353 | train_mae: 0.18722 |  0:00:19s\n"
     ]
    },
    {
     "name": "stdout",
     "output_type": "stream",
     "text": [
      "epoch 205| loss: 0.19111 | train_mse: 0.0647  | train_mae: 0.17987 |  0:00:19s\n",
      "epoch 206| loss: 0.13334 | train_mse: 0.04537 | train_mae: 0.16405 |  0:00:19s\n",
      "epoch 207| loss: 0.06712 | train_mse: 0.0434  | train_mae: 0.15995 |  0:00:20s\n"
     ]
    },
    {
     "name": "stdout",
     "output_type": "stream",
     "text": [
      "epoch 208| loss: 0.11804 | train_mse: 0.04143 | train_mae: 0.15933 |  0:00:20s\n",
      "epoch 209| loss: 0.09906 | train_mse: 0.03523 | train_mae: 0.14639 |  0:00:20s\n",
      "epoch 210| loss: 0.07996 | train_mse: 0.04478 | train_mae: 0.16376 |  0:00:20s\n"
     ]
    },
    {
     "name": "stdout",
     "output_type": "stream",
     "text": [
      "epoch 211| loss: 0.10971 | train_mse: 0.06129 | train_mae: 0.1791  |  0:00:20s\n",
      "epoch 212| loss: 0.129   | train_mse: 0.08066 | train_mae: 0.19969 |  0:00:20s\n",
      "epoch 213| loss: 0.06501 | train_mse: 0.0997  | train_mae: 0.22726 |  0:00:20s\n"
     ]
    },
    {
     "name": "stdout",
     "output_type": "stream",
     "text": [
      "epoch 214| loss: 0.07135 | train_mse: 0.08846 | train_mae: 0.21707 |  0:00:20s\n",
      "epoch 215| loss: 0.09635 | train_mse: 0.05667 | train_mae: 0.18251 |  0:00:20s\n",
      "epoch 216| loss: 0.12085 | train_mse: 0.05246 | train_mae: 0.18054 |  0:00:20s\n"
     ]
    },
    {
     "name": "stdout",
     "output_type": "stream",
     "text": [
      "epoch 217| loss: 0.10167 | train_mse: 0.05517 | train_mae: 0.17511 |  0:00:20s\n",
      "epoch 218| loss: 0.0775  | train_mse: 0.05124 | train_mae: 0.16463 |  0:00:21s\n",
      "epoch 219| loss: 0.10433 | train_mse: 0.05376 | train_mae: 0.16702 |  0:00:21s\n"
     ]
    },
    {
     "name": "stdout",
     "output_type": "stream",
     "text": [
      "epoch 220| loss: 0.09007 | train_mse: 0.05274 | train_mae: 0.16554 |  0:00:21s\n",
      "epoch 221| loss: 0.22933 | train_mse: 0.07267 | train_mae: 0.18547 |  0:00:21s\n",
      "epoch 222| loss: 0.08873 | train_mse: 0.05545 | train_mae: 0.16846 |  0:00:21s\n"
     ]
    },
    {
     "name": "stdout",
     "output_type": "stream",
     "text": [
      "epoch 223| loss: 0.13445 | train_mse: 0.05877 | train_mae: 0.17592 |  0:00:21s\n",
      "epoch 224| loss: 0.09171 | train_mse: 0.04393 | train_mae: 0.15846 |  0:00:21s\n",
      "epoch 225| loss: 0.08013 | train_mse: 0.04433 | train_mae: 0.15977 |  0:00:21s\n"
     ]
    },
    {
     "name": "stdout",
     "output_type": "stream",
     "text": [
      "epoch 226| loss: 0.06897 | train_mse: 0.04306 | train_mae: 0.16424 |  0:00:21s\n",
      "epoch 227| loss: 0.12471 | train_mse: 0.04476 | train_mae: 0.16563 |  0:00:21s\n",
      "epoch 228| loss: 0.08367 | train_mse: 0.04639 | train_mae: 0.16956 |  0:00:21s\n"
     ]
    },
    {
     "name": "stdout",
     "output_type": "stream",
     "text": [
      "epoch 229| loss: 0.10357 | train_mse: 0.06399 | train_mae: 0.19523 |  0:00:21s\n",
      "epoch 230| loss: 0.14572 | train_mse: 0.07304 | train_mae: 0.20444 |  0:00:22s\n",
      "epoch 231| loss: 0.09305 | train_mse: 0.05526 | train_mae: 0.1869  |  0:00:22s\n"
     ]
    },
    {
     "name": "stdout",
     "output_type": "stream",
     "text": [
      "epoch 232| loss: 0.10248 | train_mse: 0.04748 | train_mae: 0.17819 |  0:00:22s\n",
      "epoch 233| loss: 0.15491 | train_mse: 0.04649 | train_mae: 0.17887 |  0:00:22s\n",
      "epoch 234| loss: 0.05222 | train_mse: 0.04465 | train_mae: 0.17135 |  0:00:22s\n"
     ]
    },
    {
     "name": "stdout",
     "output_type": "stream",
     "text": [
      "epoch 235| loss: 0.24309 | train_mse: 0.04365 | train_mae: 0.16494 |  0:00:22s\n",
      "epoch 236| loss: 0.06674 | train_mse: 0.0491  | train_mae: 0.16659 |  0:00:22s\n",
      "epoch 237| loss: 0.07326 | train_mse: 0.06476 | train_mae: 0.18319 |  0:00:22s\n"
     ]
    },
    {
     "name": "stdout",
     "output_type": "stream",
     "text": [
      "epoch 238| loss: 0.06024 | train_mse: 0.06038 | train_mae: 0.17395 |  0:00:22s\n",
      "epoch 239| loss: 0.1286  | train_mse: 0.06833 | train_mae: 0.18606 |  0:00:22s\n",
      "epoch 240| loss: 0.08438 | train_mse: 0.0593  | train_mae: 0.18046 |  0:00:22s\n"
     ]
    },
    {
     "name": "stdout",
     "output_type": "stream",
     "text": [
      "epoch 241| loss: 0.12352 | train_mse: 0.06165 | train_mae: 0.17629 |  0:00:22s\n",
      "epoch 242| loss: 0.06742 | train_mse: 0.06875 | train_mae: 0.19437 |  0:00:23s\n",
      "epoch 243| loss: 0.2725  | train_mse: 0.05054 | train_mae: 0.1696  |  0:00:23s\n"
     ]
    },
    {
     "name": "stdout",
     "output_type": "stream",
     "text": [
      "epoch 244| loss: 0.12455 | train_mse: 0.04172 | train_mae: 0.15324 |  0:00:23s\n",
      "epoch 245| loss: 0.06173 | train_mse: 0.04224 | train_mae: 0.1609  |  0:00:23s\n",
      "epoch 246| loss: 0.07942 | train_mse: 0.06269 | train_mae: 0.17381 |  0:00:23s\n"
     ]
    },
    {
     "name": "stdout",
     "output_type": "stream",
     "text": [
      "epoch 247| loss: 0.26682 | train_mse: 0.06153 | train_mae: 0.16954 |  0:00:23s\n",
      "epoch 248| loss: 0.12178 | train_mse: 0.05987 | train_mae: 0.18183 |  0:00:23s\n",
      "epoch 249| loss: 0.05361 | train_mse: 0.04642 | train_mae: 0.16663 |  0:00:23s\n"
     ]
    },
    {
     "name": "stdout",
     "output_type": "stream",
     "text": [
      "epoch 250| loss: 0.13341 | train_mse: 0.04133 | train_mae: 0.15907 |  0:00:23s\n"
     ]
    },
    {
     "name": "stdout",
     "output_type": "stream",
     "text": [
      "epoch 251| loss: 0.07777 | train_mse: 0.03876 | train_mae: 0.15761 |  0:00:24s\n",
      "epoch 252| loss: 0.06984 | train_mse: 0.05779 | train_mae: 0.18052 |  0:00:24s\n",
      "epoch 253| loss: 0.1426  | train_mse: 0.10942 | train_mae: 0.20958 |  0:00:24s\n"
     ]
    },
    {
     "name": "stdout",
     "output_type": "stream",
     "text": [
      "epoch 254| loss: 0.07674 | train_mse: 0.1348  | train_mae: 0.22061 |  0:00:24s\n",
      "epoch 255| loss: 0.07803 | train_mse: 0.13707 | train_mae: 0.22435 |  0:00:24s\n",
      "epoch 256| loss: 0.10042 | train_mse: 0.12985 | train_mae: 0.22919 |  0:00:24s\n"
     ]
    },
    {
     "name": "stdout",
     "output_type": "stream",
     "text": [
      "epoch 257| loss: 0.08269 | train_mse: 0.14559 | train_mae: 0.26042 |  0:00:24s\n",
      "epoch 258| loss: 0.12576 | train_mse: 0.21807 | train_mae: 0.31425 |  0:00:24s\n"
     ]
    },
    {
     "name": "stdout",
     "output_type": "stream",
     "text": [
      "epoch 259| loss: 0.05854 | train_mse: 0.14335 | train_mae: 0.2548  |  0:00:24s\n",
      "\n",
      "Early stopping occurred at epoch 259 with best_epoch = 209 and best_train_mae = 0.14639\n",
      "Best weights from best epoch are automatically used!\n"
     ]
    }
   ],
   "source": [
    "#Train the Model\n",
    "\n",
    "Y_train = np.reshape(Y_train, (-1, 1))\n",
    "Y_test = np.reshape(Y_test, (-1, 1))\n",
    "\n",
    "prior_model = TabNetRegressor(optimizer_fn=torch.optim.Adam, optimizer_params=dict(lr = 0.02),\n",
    "          #scheduler_params={\"step_size\":10, ], \"gamma\":0.9},\n",
    "          #scheduler_fn=torch.optim.lr_scheduler.StepLR\n",
    "          )  #TabNetRegressor()\n",
    "\n",
    "prior_model.fit(X_train,Y_train,eval_set=[(X_train, Y_train)],\n",
    "            eval_name=['train'], \n",
    "            eval_metric=[ 'mse', 'mae'], \n",
    "            max_epochs = n_epochs, \n",
    "            batch_size = batch_size,\n",
    "            patience=50\n",
    "            )"
   ]
  },
  {
   "cell_type": "code",
   "execution_count": 10,
   "id": "af65dcda",
   "metadata": {
    "execution": {
     "iopub.execute_input": "2022-06-22T16:20:25.313480Z",
     "iopub.status.busy": "2022-06-22T16:20:25.312480Z",
     "iopub.status.idle": "2022-06-22T16:20:25.345370Z",
     "shell.execute_reply": "2022-06-22T16:20:25.346031Z"
    },
    "id": "af65dcda",
    "papermill": {
     "duration": 0.129217,
     "end_time": "2022-06-22T16:20:25.346315",
     "exception": false,
     "start_time": "2022-06-22T16:20:25.217098",
     "status": "completed"
    },
    "tags": []
   },
   "outputs": [
    {
     "data": {
      "application/scrapbook.scrap.json+json": {
       "data": 0.17459305431907857,
       "encoder": "json",
       "name": "Prior Model MSE",
       "version": 1
      }
     },
     "metadata": {
      "scrapbook": {
       "data": true,
       "display": false,
       "name": "Prior Model MSE"
      }
     },
     "output_type": "display_data"
    },
    {
     "data": {
      "application/scrapbook.scrap.json+json": {
       "data": 0.19052466055505585,
       "encoder": "json",
       "name": "ABC Pre-generator MSE",
       "version": 1
      }
     },
     "metadata": {
      "scrapbook": {
       "data": true,
       "display": false,
       "name": "ABC Pre-generator MSE"
      }
     },
     "output_type": "display_data"
    },
    {
     "data": {
      "application/scrapbook.scrap.json+json": {
       "data": 0.31684373294951645,
       "encoder": "json",
       "name": "Prior Model MSE",
       "version": 1
      }
     },
     "metadata": {
      "scrapbook": {
       "data": true,
       "display": false,
       "name": "Prior Model MSE"
      }
     },
     "output_type": "display_data"
    },
    {
     "data": {
      "application/scrapbook.scrap.json+json": {
       "data": 0.33237320808178467,
       "encoder": "json",
       "name": "ABC Pre-generator MSE",
       "version": 1
      }
     },
     "metadata": {
      "scrapbook": {
       "data": true,
       "display": false,
       "name": "ABC Pre-generator MSE"
      }
     },
     "output_type": "display_data"
    }
   ],
   "source": [
    "y_pred = prior_model.predict(X_test)\n",
    "y_abc = y_pred + np.random.normal(0,variance, y_pred.shape) + bias \n",
    "mse = mean_squared_error(y_pred,Y_test)\n",
    "sb.glue(\"Prior Model MSE\",mse)\n",
    "mse = mean_squared_error(y_abc,Y_test)\n",
    "sb.glue(\"ABC Pre-generator MSE\",mse)\n",
    "mae = mean_absolute_error(y_pred,Y_test)\n",
    "sb.glue(\"Prior Model MSE\",mae)\n",
    "mae = mean_absolute_error(y_abc,Y_test)\n",
    "sb.glue(\"ABC Pre-generator MSE\",mae)"
   ]
  },
  {
   "cell_type": "markdown",
   "id": "25609da2",
   "metadata": {
    "papermill": {
     "duration": 0.051859,
     "end_time": "2022-06-22T16:20:25.451017",
     "exception": false,
     "start_time": "2022-06-22T16:20:25.399158",
     "status": "completed"
    },
    "tags": []
   },
   "source": [
    "# ABC GAN Model"
   ]
  },
  {
   "cell_type": "code",
   "execution_count": 11,
   "id": "dfc3464d",
   "metadata": {
    "execution": {
     "iopub.execute_input": "2022-06-22T16:20:25.549799Z",
     "iopub.status.busy": "2022-06-22T16:20:25.548930Z",
     "iopub.status.idle": "2022-06-22T16:20:25.553337Z",
     "shell.execute_reply": "2022-06-22T16:20:25.553829Z"
    },
    "papermill": {
     "duration": 0.054748,
     "end_time": "2022-06-22T16:20:25.554776",
     "exception": false,
     "start_time": "2022-06-22T16:20:25.500028",
     "status": "completed"
    },
    "tags": []
   },
   "outputs": [],
   "source": [
    "gen = network.Generator(n_features+1).to(device)\n",
    "disc = network.Discriminator(n_features+1).to(device)\n",
    "\n",
    "criterion = torch.nn.BCELoss()\n",
    "gen_opt = torch.optim.Adam(gen.parameters(), lr=0.001, betas=(0.5, 0.999))\n",
    "disc_opt = torch.optim.Adam(disc.parameters(), lr=0.001, betas=(0.5, 0.999))"
   ]
  },
  {
   "cell_type": "code",
   "execution_count": 12,
   "id": "b75fdd85",
   "metadata": {
    "execution": {
     "iopub.execute_input": "2022-06-22T16:20:25.662175Z",
     "iopub.status.busy": "2022-06-22T16:20:25.661295Z",
     "iopub.status.idle": "2022-06-22T16:21:29.508854Z",
     "shell.execute_reply": "2022-06-22T16:21:29.509419Z"
    },
    "papermill": {
     "duration": 63.909839,
     "end_time": "2022-06-22T16:21:29.509630",
     "exception": false,
     "start_time": "2022-06-22T16:20:25.599791",
     "status": "completed"
    },
    "tags": []
   },
   "outputs": [
    {
     "data": {
      "image/png": "[encoded data removed]",
      "text/plain": [
       "<Figure size 432x288 with 1 Axes>"
      ]
     },
     "metadata": {
      "needs_background": "light"
     },
     "output_type": "display_data"
    },
    {
     "data": {
      "image/png": "[encoded data removed]",
      "text/plain": [
       "<Figure size 432x288 with 1 Axes>"
      ]
     },
     "metadata": {
      "needs_background": "light"
     },
     "output_type": "display_data"
    }
   ],
   "source": [
    "#Training the ABC_GAN \n",
    "ABC_train_test2.training_GAN(disc,gen,disc_opt,gen_opt,train_data,batch_size,n_epochs,criterion,prior_model,variance,bias,device)"
   ]
  },
  {
   "cell_type": "code",
   "execution_count": 13,
   "id": "1fa7c368",
   "metadata": {
    "execution": {
     "iopub.execute_input": "2022-06-22T16:21:29.634580Z",
     "iopub.status.busy": "2022-06-22T16:21:29.633508Z",
     "iopub.status.idle": "2022-06-22T16:21:30.486511Z",
     "shell.execute_reply": "2022-06-22T16:21:30.488239Z"
    },
    "papermill": {
     "duration": 0.934072,
     "end_time": "2022-06-22T16:21:30.488524",
     "exception": false,
     "start_time": "2022-06-22T16:21:29.554452",
     "status": "completed"
    },
    "tags": []
   },
   "outputs": [
    {
     "data": {
      "application/scrapbook.scrap.json+json": {
       "data": 0.20631486260670986,
       "encoder": "json",
       "name": "ABC-GAN Model 1 MSE",
       "version": 1
      }
     },
     "metadata": {
      "scrapbook": {
       "data": true,
       "display": false,
       "name": "ABC-GAN Model 1 MSE"
      }
     },
     "output_type": "display_data"
    },
    {
     "data": {
      "application/scrapbook.scrap.json+json": {
       "data": 0.3459932964257896,
       "encoder": "json",
       "name": "ABC-GAN Model 1 MAE",
       "version": 1
      }
     },
     "metadata": {
      "scrapbook": {
       "data": true,
       "display": false,
       "name": "ABC-GAN Model 1 MAE"
      }
     },
     "output_type": "display_data"
    },
    {
     "data": {
      "application/scrapbook.scrap.json+json": {
       "data": 6.919865928515792,
       "encoder": "json",
       "name": "ABC-GAN Model 1 Manhattan Distance",
       "version": 1
      }
     },
     "metadata": {
      "scrapbook": {
       "data": true,
       "display": false,
       "name": "ABC-GAN Model 1 Manhattan Distance"
      }
     },
     "output_type": "display_data"
    },
    {
     "data": {
      "application/scrapbook.scrap.json+json": {
       "data": 2.030736509019246,
       "encoder": "json",
       "name": "ABC-GAN Model 1 Euclidean distance",
       "version": 1
      }
     },
     "metadata": {
      "scrapbook": {
       "data": true,
       "display": false,
       "name": "ABC-GAN Model 1 Euclidean distance"
      }
     },
     "output_type": "display_data"
    },
    {
     "data": {
      "application/scrapbook.scrap.json+json": {
       "data": [
        [
         0.1959483329208929,
         0.19411667322722043,
         0.19830201229698272,
         0.1977421201597227,
         0.1848518416418158,
         0.20598736607713136,
         0.19732102230211507,
         0.2083251437341631,
         0.19087442640506538,
         0.19324721451961258,
         0.21257491452569166,
         0.2024593418094876,
         0.22462609813346815,
         0.20714687065972354,
         0.2082255037656576,
         0.19584975431910406,
         0.18645703306084743,
         0.21561381403184035,
         0.2230052404451004,
         0.2015319158872658,
         0.21562625018917442,
         0.2081818910935096,
         0.20065844253670226,
         0.19609236896229199,
         0.214037231004851,
         0.2153894713510791,
         0.21938533544816927,
         0.19769253672504977,
         0.21849005905222202,
         0.21064721411007933,
         0.2105271555983259,
         0.21708233316557327,
         0.20909203892528416,
         0.2086530751692945,
         0.20288361024320714,
         0.20331504926743255,
         0.18590082304896177,
         0.20347932850453007,
         0.20542087529830216,
         0.19784255837286713,
         0.19877321697507092,
         0.1993781819765053,
         0.21281002786019068,
         0.20264679957259918,
         0.2089514666955842,
         0.22224458948073395,
         0.22012274675253138,
         0.21678046213349864,
         0.21040091365977015,
         0.2082119339575068,
         0.22272388336435806,
         0.20137696311904554,
         0.1997087990049991,
         0.21795695569555998,
         0.20229226028344094,
         0.2292272874216621,
         0.20313598731685403,
         0.21862225095975277,
         0.22362892740966195,
         0.18717246093164305,
         0.20881594498507666,
         0.21005577571795184,
         0.19904112348233788,
         0.20028945863934164,
         0.21322081761216097,
         0.20011497842155546,
         0.21245696488577268,
         0.2030425037267649,
         0.20054494784393836,
         0.21060368431576407,
         0.19486964633885967,
         0.22212426736775254,
         0.20792748211211753,
         0.20811964773502475,
         0.20630252488118767,
         0.21077169778927224,
         0.1992986535468182,
         0.21855134886054933,
         0.20275882759351466,
         0.1912056736588408,
         0.1960429643391434,
         0.22346606550886355,
         0.1876040887073023,
         0.21423301465547423,
         0.22221487837263237,
         0.19544803285892978,
         0.20303111612744013,
         0.20941810018225496,
         0.20102014463834772,
         0.2095406880842531,
         0.22377559205075012,
         0.2007107809844161,
         0.19156444424688185,
         0.1932721026129389,
         0.20449720788541503,
         0.2114314872392372,
         0.21384765606510037,
         0.20032808590172638,
         0.2074721238488512,
         0.2116813142856404
        ],
        [
         0.335081803612411,
         0.33331089112907647,
         0.33092571292072537,
         0.3347090469673276,
         0.33140931371599436,
         0.3452216187492013,
         0.34018118027597666,
         0.34876958969980476,
         0.33652118761092426,
         0.34153426755219696,
         0.3559280889108777,
         0.34524214882403614,
         0.35895124915987253,
         0.3455835239961743,
         0.35065394062548877,
         0.33933791387826207,
         0.32313088569790127,
         0.3519631946459413,
         0.37054851073771716,
         0.33654449302703143,
         0.35165746677666904,
         0.34798294100910426,
         0.33652542624622583,
         0.3407191740348935,
         0.3561539800837636,
         0.3544871160760522,
         0.34991439823061227,
         0.3311652259901166,
         0.3524001555517316,
         0.350105550698936,
         0.34888276774436233,
         0.35825627837330104,
         0.3511745410040021,
         0.3495540773496032,
         0.33900334853678943,
         0.3383170487359166,
         0.33693055678159,
         0.3460298517718911,
         0.3423455709591508,
         0.34042432103306053,
         0.3367169829085469,
         0.3446468623355031,
         0.3487477468326688,
         0.34760875534266233,
         0.3432874189689755,
         0.3625717954710126,
         0.3601034278050065,
         0.3515855560079217,
         0.3547797890380025,
         0.34607002828270195,
         0.3573623666539788,
         0.34555264059454205,
         0.34343873951584103,
         0.35255215782672167,
         0.34339408222585915,
         0.3610779294744134,
         0.3470602223649621,
         0.3572812402620912,
         0.35331150200217964,
         0.31807967443019153,
         0.3405961895361543,
         0.3468849638476968,
         0.33291783165186645,
         0.34875660482794046,
         0.3465287880972028,
         0.33928490299731495,
         0.34541038144379854,
         0.35601852405816314,
         0.34409363362938167,
         0.346970228292048,
         0.3493488246574998,
         0.35217635575681927,
         0.3465454371646047,
         0.3495990851894021,
         0.3566430063918233,
         0.3448913788422942,
         0.33305167872458696,
         0.3505622172728181,
         0.3422699665650725,
         0.3341549323871732,
         0.3297371754422784,
         0.36243399474769833,
         0.32682531978935003,
         0.35475129056721927,
         0.3648389184847474,
         0.33944567013531923,
         0.3483950452879071,
         0.35002725291997194,
         0.3401661017909646,
         0.33826186452060936,
         0.35634502936154605,
         0.3429028170183301,
         0.33267219830304384,
         0.33991432581096886,
         0.34929870907217264,
         0.3442088233307004,
         0.3568493777886033,
         0.35037880558520557,
         0.3503639819100499,
         0.3620007323101163
        ],
        [
         6.70163607224822,
         6.66621782258153,
         6.618514258414507,
         6.694180939346552,
         6.628186274319887,
         6.904432374984026,
         6.803623605519533,
         6.975391793996096,
         6.730423752218485,
         6.83068535104394,
         7.118561778217554,
         6.904842976480722,
         7.179024983197451,
         6.911670479923487,
         7.013078812509775,
         6.786758277565241,
         6.462617713958025,
         7.039263892918825,
         7.410970214754343,
         6.730889860540628,
         7.0331493355333805,
         6.959658820182085,
         6.730508524924517,
         6.81438348069787,
         7.123079601675272,
         7.089742321521044,
         6.998287964612246,
         6.623304519802332,
         7.048003111034632,
         7.00211101397872,
         6.977655354887247,
         7.165125567466021,
         7.023490820080042,
         6.9910815469920635,
         6.780066970735788,
         6.766340974718332,
         6.7386111356318,
         6.920597035437822,
         6.846911419183016,
         6.808486420661211,
         6.7343396581709385,
         6.892937246710062,
         6.974954936653376,
         6.952175106853247,
         6.865748379379511,
         7.251435909420252,
         7.20206855610013,
         7.031711120158434,
         7.09559578076005,
         6.921400565654039,
         7.1472473330795765,
         6.9110528118908405,
         6.86877479031682,
         7.051043156534433,
         6.867881644517183,
         7.221558589488268,
         6.941204447299242,
         7.145624805241823,
         7.0662300400435925,
         6.36159348860383,
         6.811923790723085,
         6.937699276953936,
         6.658356633037329,
         6.975132096558809,
         6.930575761944056,
         6.785698059946299,
         6.908207628875971,
         7.120370481163263,
         6.881872672587633,
         6.9394045658409595,
         6.986976493149996,
         7.043527115136385,
         6.930908743292093,
         6.991981703788042,
         7.132860127836466,
         6.897827576845884,
         6.661033574491739,
         7.011244345456362,
         6.845399331301451,
         6.6830986477434635,
         6.594743508845568,
         7.248679894953966,
         6.536506395787001,
         7.095025811344385,
         7.296778369694948,
         6.788913402706385,
         6.9679009057581425,
         7.000545058399439,
         6.803322035819292,
         6.765237290412188,
         7.126900587230921,
         6.858056340366602,
         6.653443966060877,
         6.7982865162193775,
         6.985974181443453,
         6.884176466614008,
         7.136987555772066,
         7.007576111704111,
         7.007279638200998,
         7.240014646202326
        ],
        [
         1.979638011965283,
         1.9703637898988116,
         1.9914919648192544,
         1.9886785570308878,
         1.922768013265333,
         2.0297160691935776,
         1.986559952793346,
         2.0412013312466906,
         1.9538394325279924,
         1.9659461565343674,
         2.061916169613555,
         2.0122591374347767,
         2.119557020386421,
         2.035420696857156,
         2.04071312910785,
         1.9791399865552919,
         1.9310983043897452,
         2.076602099738129,
         2.1118960222752463,
         2.0076449680521993,
         2.0766619859244035,
         2.0404994050158876,
         2.0032895074686645,
         1.980365466080905,
         2.0689960415856334,
         2.0755214831510616,
         2.094685348438611,
         1.9884292128464103,
         2.0904069414935553,
         2.05254580514092,
         2.0519607968883125,
         2.083661839961433,
         2.0449549575738053,
         2.0428072604594614,
         2.0143664524768434,
         2.0165071250428674,
         1.9282158750978158,
         2.017321632782091,
         2.026923162324128,
         1.9891835429284404,
         1.9938566496870878,
         1.9968884895081414,
         2.063056120711168,
         2.013190500536892,
         2.044267432091918,
         2.108291201332178,
         2.0982027869228053,
         2.082212583448187,
         2.0513454787517884,
         2.0406466326020625,
         2.1105633530617274,
         2.0068730060422135,
         1.99854346465119,
         2.087855146774124,
         2.0114286479188914,
         2.141155236883408,
         2.0156189486946885,
         2.091039219908382,
         2.1148471689919437,
         1.9347995293137894,
         2.043604389235239,
         2.0496622927592334,
         1.995199857068649,
         2.0014467699109146,
         2.0650463317425154,
         2.000574809506285,
         2.0613440512722407,
         2.0151550993745615,
         2.0027228856930677,
         2.0523337170926372,
         1.974181584043675,
         2.107720414892604,
         2.039252226244304,
         2.0401943423851794,
         2.0312681993335477,
         2.053152199858901,
         1.9964901880390908,
         2.0907001165186236,
         2.013746893696001,
         1.9555340634151113,
         1.9801159781141275,
         2.1140769404582396,
         1.9370291102990802,
         2.06994209897511,
         2.108150271553868,
         1.9771091667327314,
         2.015098588791328,
         2.0465488031427688,
         2.0050942353832037,
         2.047147713694608,
         2.115540555275413,
         2.003550752960434,
         1.9573678460978245,
         1.9660727484655236,
         2.022361035450471,
         2.0563632326961945,
         2.0680795732519597,
         2.001639757307625,
         2.037018035506074,
         2.057577771485882
        ]
       ],
       "encoder": "json",
       "name": "ABC_GAN_1 Metrics",
       "version": 1
      }
     },
     "metadata": {
      "scrapbook": {
       "data": true,
       "display": false,
       "name": "ABC_GAN_1 Metrics"
      }
     },
     "output_type": "display_data"
    },
    {
     "name": "stdout",
     "output_type": "stream",
     "text": [
      "MSE\n",
      "0.20631486260670986\n"
     ]
    }
   ],
   "source": [
    "ABC_GAN1_metrics=ABC_train_test2.test_generator(gen,test_data,prior_model,variance,bias,\"1\",device)\n",
    "sb.glue(\"ABC_GAN_1 Metrics\",ABC_GAN1_metrics)\n",
    "\n",
    "print(\"MSE\")\n",
    "print(mean(ABC_GAN1_metrics[0]))"
   ]
  },
  {
   "cell_type": "code",
   "execution_count": 14,
   "id": "eb22ce5c",
   "metadata": {
    "execution": {
     "iopub.execute_input": "2022-06-22T16:21:30.641581Z",
     "iopub.status.busy": "2022-06-22T16:21:30.639294Z",
     "iopub.status.idle": "2022-06-22T16:21:31.454925Z",
     "shell.execute_reply": "2022-06-22T16:21:31.455329Z"
    },
    "papermill": {
     "duration": 0.917382,
     "end_time": "2022-06-22T16:21:31.455583",
     "exception": false,
     "start_time": "2022-06-22T16:21:30.538201",
     "status": "completed"
    },
    "tags": []
   },
   "outputs": [
    {
     "data": {
      "image/png": "[encoded data removed]",
      "text/plain": [
       "<Figure size 432x288 with 1 Axes>"
      ]
     },
     "metadata": {
      "needs_background": "light"
     },
     "output_type": "display_data"
    },
    {
     "data": {
      "image/png": "[encoded data removed]",
      "text/plain": [
       "<Figure size 432x288 with 1 Axes>"
      ]
     },
     "metadata": {
      "needs_background": "light"
     },
     "output_type": "display_data"
    },
    {
     "data": {
      "image/png": "[encoded data removed]",
      "text/plain": [
       "<Figure size 432x288 with 1 Axes>"
      ]
     },
     "metadata": {
      "needs_background": "light"
     },
     "output_type": "display_data"
    },
    {
     "data": {
      "image/png": "[encoded data removed]",
      "text/plain": [
       "<Figure size 432x288 with 1 Axes>"
      ]
     },
     "metadata": {
      "needs_background": "light"
     },
     "output_type": "display_data"
    }
   ],
   "source": [
    "sanityChecks.discProbVsError(train_data,disc,device)\n",
    "sanityChecks.discProbVsError(test_data,disc,device)"
   ]
  },
  {
   "cell_type": "markdown",
   "id": "130f3a4d",
   "metadata": {
    "id": "130f3a4d",
    "papermill": {
     "duration": 0.05451,
     "end_time": "2022-06-22T16:21:31.560516",
     "exception": false,
     "start_time": "2022-06-22T16:21:31.506006",
     "status": "completed"
    },
    "tags": []
   },
   "source": [
    "# ABC - GAN Model with skip connection"
   ]
  },
  {
   "cell_type": "code",
   "execution_count": 15,
   "id": "4e43dad1",
   "metadata": {
    "execution": {
     "iopub.execute_input": "2022-06-22T16:21:31.675288Z",
     "iopub.status.busy": "2022-06-22T16:21:31.674435Z",
     "iopub.status.idle": "2022-06-22T16:21:31.678636Z",
     "shell.execute_reply": "2022-06-22T16:21:31.679504Z"
    },
    "id": "4e43dad1",
    "papermill": {
     "duration": 0.068966,
     "end_time": "2022-06-22T16:21:31.680343",
     "exception": false,
     "start_time": "2022-06-22T16:21:31.611377",
     "status": "completed"
    },
    "tags": []
   },
   "outputs": [],
   "source": [
    "#Generator\n",
    "gen3 = network.GeneratorWithSkipConnection(n_features+1).to(device)\n",
    "constraints=network.weightConstraint()\n",
    "#Discriminator \n",
    "disc3 = network.Discriminator(n_features+1).to(device)\n",
    "\n",
    "criterion = torch.nn.BCELoss()\n",
    "gen_opt = torch.optim.Adam(gen3.parameters(), lr=0.001, betas=(0.5, 0.999))\n",
    "disc_opt = torch.optim.Adam(disc3.parameters(), lr=0.001, betas=(0.5, 0.999))\n"
   ]
  },
  {
   "cell_type": "code",
   "execution_count": 16,
   "id": "26acbc37",
   "metadata": {
    "execution": {
     "iopub.execute_input": "2022-06-22T16:21:31.806353Z",
     "iopub.status.busy": "2022-06-22T16:21:31.805270Z",
     "iopub.status.idle": "2022-06-22T16:23:22.328470Z",
     "shell.execute_reply": "2022-06-22T16:23:22.329054Z"
    },
    "id": "26acbc37",
    "papermill": {
     "duration": 110.591502,
     "end_time": "2022-06-22T16:23:22.329373",
     "exception": false,
     "start_time": "2022-06-22T16:21:31.737871",
     "status": "completed"
    },
    "tags": []
   },
   "outputs": [
    {
     "data": {
      "image/png": "[encoded data removed]",
      "text/plain": [
       "<Figure size 432x288 with 1 Axes>"
      ]
     },
     "metadata": {
      "needs_background": "light"
     },
     "output_type": "display_data"
    },
    {
     "data": {
      "image/png": "[encoded data removed]",
      "text/plain": [
       "<Figure size 432x288 with 1 Axes>"
      ]
     },
     "metadata": {
      "needs_background": "light"
     },
     "output_type": "display_data"
    }
   ],
   "source": [
    "ABC_train_test2.training_GAN_skip_connection(disc3,gen3,disc_opt,gen_opt,train_data,batch_size,n_epochs,criterion,prior_model,variance,bias,device)"
   ]
  },
  {
   "cell_type": "code",
   "execution_count": 17,
   "id": "c5e0717b",
   "metadata": {
    "execution": {
     "iopub.execute_input": "2022-06-22T16:23:22.582102Z",
     "iopub.status.busy": "2022-06-22T16:23:22.580443Z",
     "iopub.status.idle": "2022-06-22T16:23:25.063997Z",
     "shell.execute_reply": "2022-06-22T16:23:25.064869Z"
    },
    "id": "c5e0717b",
    "papermill": {
     "duration": 2.622129,
     "end_time": "2022-06-22T16:23:25.065478",
     "exception": false,
     "start_time": "2022-06-22T16:23:22.443349",
     "status": "completed"
    },
    "tags": []
   },
   "outputs": [
    {
     "data": {
      "application/scrapbook.scrap.json+json": {
       "data": 0.20571205492501543,
       "encoder": "json",
       "name": "ABC-GAN Model 3 MSE",
       "version": 1
      }
     },
     "metadata": {
      "scrapbook": {
       "data": true,
       "display": false,
       "name": "ABC-GAN Model 3 MSE"
      }
     },
     "output_type": "display_data"
    },
    {
     "data": {
      "application/scrapbook.scrap.json+json": {
       "data": 0.3609197400249541,
       "encoder": "json",
       "name": "ABC-GAN Model 3 MAE",
       "version": 1
      }
     },
     "metadata": {
      "scrapbook": {
       "data": true,
       "display": false,
       "name": "ABC-GAN Model 3 MAE"
      }
     },
     "output_type": "display_data"
    },
    {
     "data": {
      "application/scrapbook.scrap.json+json": {
       "data": 7.218394800499081,
       "encoder": "json",
       "name": "ABC-GAN Model 3 Manhattan Distance",
       "version": 1
      }
     },
     "metadata": {
      "scrapbook": {
       "data": true,
       "display": false,
       "name": "ABC-GAN Model 3 Manhattan Distance"
      }
     },
     "output_type": "display_data"
    },
    {
     "data": {
      "application/scrapbook.scrap.json+json": {
       "data": 2.027661370283699,
       "encoder": "json",
       "name": "ABC-GAN Model 3 Euclidean distance",
       "version": 1
      }
     },
     "metadata": {
      "scrapbook": {
       "data": true,
       "display": false,
       "name": "ABC-GAN Model 3 Euclidean distance"
      }
     },
     "output_type": "display_data"
    },
    {
     "data": {
      "application/scrapbook.scrap.json+json": {
       "data": [
        [
         0.20312264273791225,
         0.2082086720796318,
         0.1816735394088603,
         0.22790418492079967,
         0.19047021520073568,
         0.234775581395944,
         0.22234705511385638,
         0.19737141870160047,
         0.20183853612686503,
         0.21122887325241518,
         0.2130743343296083,
         0.22840393401851705,
         0.21753741623483114,
         0.20293391664993346,
         0.2093909113510907,
         0.22890487436655382,
         0.2013017225733517,
         0.19720383834711455,
         0.20383345511838571,
         0.2068568630562074,
         0.21967901225889533,
         0.19797613349883342,
         0.21003733937239902,
         0.20690340379746813,
         0.1881255162332492,
         0.2068956848114718,
         0.22059968197381305,
         0.21359562132099125,
         0.20180959889478262,
         0.20582400301034082,
         0.21457870194026007,
         0.20488995629533213,
         0.19887195715535838,
         0.20233410720583045,
         0.20236631443338932,
         0.21270257863920222,
         0.20877204756228213,
         0.19130148122573068,
         0.20066368802964538,
         0.22631189867151766,
         0.21068067059772994,
         0.19786642952604172,
         0.20823575986748902,
         0.21631683394449847,
         0.20529236584944907,
         0.21256958840365597,
         0.2009305389754294,
         0.19753391530718517,
         0.21032813067187178,
         0.19955146790818262,
         0.21837574221124215,
         0.2013512444486178,
         0.2266542559160695,
         0.19775409032675567,
         0.19891804692992054,
         0.2072104352261591,
         0.2091174573753122,
         0.20979384692167874,
         0.19106597239378212,
         0.19279768416025025,
         0.20731585576274067,
         0.2236797747893152,
         0.20081178707705885,
         0.18990471477982732,
         0.1833874380171957,
         0.20343515933403347,
         0.20297654341971896,
         0.19497337263725917,
         0.20904692137365108,
         0.2137555580959239,
         0.1960598775192936,
         0.1842077174826819,
         0.21442192053860412,
         0.19829863483177673,
         0.18481063348631824,
         0.19922884209685846,
         0.21366193964172978,
         0.18600403568079715,
         0.1919058602381834,
         0.20341416661038067,
         0.20340951696461804,
         0.2205856429483351,
         0.19098811710441618,
         0.20563168272081836,
         0.20017851477300738,
         0.19538752182379118,
         0.2131230475304983,
         0.1936321250563464,
         0.2111311490163555,
         0.2087729171593204,
         0.20286319725449636,
         0.20130853620964784,
         0.21923198834961344,
         0.20059817605041613,
         0.21041658586605766,
         0.209891040622813,
         0.21419911495762234,
         0.2178196483878449,
         0.21166709138718645,
         0.20410393662865975
        ],
        [
         0.35638636220246556,
         0.36429579351097346,
         0.35333490166813136,
         0.3790790090337396,
         0.35716039780527353,
         0.37512004617601635,
         0.3808653803542256,
         0.3504953945055604,
         0.36650119367986916,
         0.3673298703506589,
         0.37531280163675546,
         0.36944210473448036,
         0.36475156862288716,
         0.3587116563692689,
         0.3664705054834485,
         0.3692501546815038,
         0.35124375093728305,
         0.3574817119166255,
         0.366577729023993,
         0.35211953837424514,
         0.37602291721850634,
         0.35093936752527954,
         0.3667673962190747,
         0.368486706353724,
         0.3416354896500707,
         0.36661205980926753,
         0.365920283831656,
         0.36755857709795237,
         0.3665406392887235,
         0.3549599522724748,
         0.36816356647759674,
         0.36801000628620384,
         0.35887920055538414,
         0.35224521029740574,
         0.35843362752348185,
         0.36581064108759165,
         0.3542496273294091,
         0.34807402137666943,
         0.3576905788853765,
         0.3850167831405997,
         0.36999239642173054,
         0.3495634103193879,
         0.3674047889187932,
         0.37374734971672297,
         0.3559135587885976,
         0.3552123298868537,
         0.3517192514613271,
         0.35241812411695717,
         0.359956374950707,
         0.3495796324685216,
         0.373549179174006,
         0.36390653569251297,
         0.36751426216214894,
         0.3628364400938153,
         0.35367760751396415,
         0.33984740171581507,
         0.36250895354896784,
         0.3682706946507096,
         0.35040373597294094,
         0.3549891525879502,
         0.3602280141785741,
         0.38117216620594263,
         0.3614005768671632,
         0.34955662209540606,
         0.332135790027678,
         0.36520778480917215,
         0.3640527525916696,
         0.3662311347201467,
         0.36451766435056926,
         0.3719542229548097,
         0.3526378029957414,
         0.3420405792072415,
         0.38045752588659526,
         0.3369759121909738,
         0.33891475666314363,
         0.3637655334547162,
         0.3701012110337615,
         0.34987430889159443,
         0.344679288752377,
         0.3575948165729642,
         0.3652418116107583,
         0.36997926849871876,
         0.35288075227290394,
         0.36277760062366726,
         0.35825744438916446,
         0.36545399148017166,
         0.36695895399898293,
         0.3423343339934945,
         0.3641342693939805,
         0.36434358526021243,
         0.3628041060641408,
         0.36144031677395105,
         0.3563251694664359,
         0.361469248123467,
         0.3454810267314315,
         0.36738861370831727,
         0.36533046159893273,
         0.3802149871364236,
         0.3570612298324704,
         0.3616406636312604
        ],
        [
         7.127727244049311,
         7.285915870219469,
         7.066698033362627,
         7.581580180674791,
         7.143207956105471,
         7.502400923520327,
         7.617307607084513,
         7.009907890111208,
         7.3300238735973835,
         7.346597407013178,
         7.506256032735109,
         7.388842094689608,
         7.295031372457743,
         7.174233127385378,
         7.32941010966897,
         7.3850030936300755,
         7.024875018745661,
         7.14963423833251,
         7.33155458047986,
         7.042390767484903,
         7.520458344370127,
         7.01878735050559,
         7.3353479243814945,
         7.36973412707448,
         6.832709793001413,
         7.33224119618535,
         7.31840567663312,
         7.351171541959047,
         7.330812785774469,
         7.099199045449495,
         7.363271329551935,
         7.360200125724077,
         7.177584011107683,
         7.044904205948114,
         7.168672550469637,
         7.316212821751833,
         7.0849925465881824,
         6.961480427533388,
         7.153811577707529,
         7.7003356628119946,
         7.39984792843461,
         6.991268206387758,
         7.348095778375864,
         7.474946994334459,
         7.118271175771952,
         7.104246597737074,
         7.0343850292265415,
         7.048362482339144,
         7.199127499014139,
         6.991592649370432,
         7.47098358348012,
         7.27813071385026,
         7.350285243242979,
         7.2567288018763065,
         7.0735521502792835,
         6.796948034316301,
         7.250179070979357,
         7.365413893014193,
         7.008074719458818,
         7.099783051759005,
         7.204560283571482,
         7.623443324118853,
         7.228011537343264,
         6.991132441908121,
         6.64271580055356,
         7.304155696183443,
         7.281055051833391,
         7.324622694402933,
         7.290353287011385,
         7.439084459096193,
         7.052756059914827,
         6.840811584144831,
         7.609150517731905,
         6.739518243819475,
         6.778295133262873,
         7.275310669094324,
         7.40202422067523,
         6.997486177831888,
         6.893585775047541,
         7.151896331459284,
         7.304836232215166,
         7.399585369974375,
         7.057615045458078,
         7.255552012473345,
         7.165148887783289,
         7.309079829603434,
         7.339179079979658,
         6.84668667986989,
         7.28268538787961,
         7.286871705204248,
         7.256082121282816,
         7.228806335479021,
         7.126503389328718,
         7.229384962469339,
         6.90962053462863,
         7.347772274166346,
         7.306609231978655,
         7.604299742728472,
         7.141224596649408,
         7.232813272625208
        ],
        [
         2.01555274174561,
         2.040630648008756,
         1.9061665163823454,
         2.134966908037685,
         1.9517695314802703,
         2.166912925781486,
         2.1087771580413914,
         1.986813623375884,
         2.0091716508395447,
         2.0553776940135124,
         2.0643368636422124,
         2.1373064076941195,
         2.085844750861536,
         2.014616175105985,
         2.046415946727794,
         2.13964891683918,
         2.006498056681599,
         1.985969981379953,
         2.019076299293247,
         2.033995393584791,
         2.0960868887471977,
         1.9898549369179324,
         2.049572342574904,
         2.0342241951046995,
         1.9397191355103407,
         2.034186249149629,
         2.100474622430907,
         2.0668605241815,
         2.0090276199932275,
         2.0289110528080863,
         2.071611459421192,
         2.024302133058858,
         1.9943518102649713,
         2.011636682931739,
         2.011796781155539,
         2.0625352294649524,
         2.0433895740278314,
         1.9560239325004727,
         2.0033156916953723,
         2.127495704679648,
         2.0527087986255137,
         1.989303544087939,
         2.040763385929339,
         2.0799847785236243,
         2.0262890507005613,
         2.0618903385178173,
         2.0046472955381924,
         1.9876313305398723,
         2.0509906419673,
         1.99775608074751,
         2.0898600058915053,
         2.006744848996094,
         2.1291042995403937,
         1.9887387476828406,
         1.9945828984021725,
         2.0357329649350335,
         2.045079252133336,
         2.0483839821756016,
         1.95481954355783,
         1.96365823991982,
         2.036250749602026,
         2.115087585842795,
         2.0040548249838817,
         1.948870004796766,
         1.9151367471655683,
         2.0171026713285243,
         2.0148277515446273,
         1.9747069283175118,
         2.0447343170869465,
         2.067634194416043,
         1.9802013913705525,
         1.9194151061335425,
         2.0708545122176214,
         1.991475005275119,
         1.922553684484874,
         1.9961404865232228,
         2.0671813642819528,
         1.928751076115304,
         1.9591113303647825,
         2.0169985949939613,
         2.0169755425617737,
         2.100407783971175,
         1.9544212294406555,
         2.0279629322096513,
         2.000892374781849,
         1.9768030849014333,
         2.064572825213479,
         1.9679030720863586,
         2.054902182666394,
         2.0433938296829637,
         2.0142651129108917,
         2.0065320142457126,
         2.0939531434567176,
         2.0029886472489857,
         2.0514218769724457,
         2.048858416888844,
         2.0697783212586915,
         2.0871973954939906,
         2.0575086458490834,
         2.0204154851349747
        ]
       ],
       "encoder": "json",
       "name": "ABC_GAN_3 Metrics",
       "version": 1
      }
     },
     "metadata": {
      "scrapbook": {
       "data": true,
       "display": false,
       "name": "ABC_GAN_3 Metrics"
      }
     },
     "output_type": "display_data"
    },
    {
     "name": "stdout",
     "output_type": "stream",
     "text": [
      "MSE\n",
      "0.20571205492501543\n"
     ]
    }
   ],
   "source": [
    "ABC_GAN3_metrics=ABC_train_test2.test_generator(gen3,test_data,prior_model,variance,bias,\"3\",device)\n",
    "sb.glue(\"ABC_GAN_3 Metrics\",ABC_GAN3_metrics)\n",
    "\n",
    "print(\"MSE\")\n",
    "print(mean(ABC_GAN3_metrics[0]))"
   ]
  },
  {
   "cell_type": "code",
   "execution_count": 18,
   "id": "c8e46b48",
   "metadata": {
    "execution": {
     "iopub.execute_input": "2022-06-22T16:23:25.418875Z",
     "iopub.status.busy": "2022-06-22T16:23:25.417223Z",
     "iopub.status.idle": "2022-06-22T16:23:26.949555Z",
     "shell.execute_reply": "2022-06-22T16:23:26.950835Z"
    },
    "id": "c8e46b48",
    "papermill": {
     "duration": 1.691345,
     "end_time": "2022-06-22T16:23:26.951548",
     "exception": false,
     "start_time": "2022-06-22T16:23:25.260203",
     "status": "completed"
    },
    "tags": []
   },
   "outputs": [
    {
     "data": {
      "image/png": "[encoded data removed]",
      "text/plain": [
       "<Figure size 432x288 with 1 Axes>"
      ]
     },
     "metadata": {
      "needs_background": "light"
     },
     "output_type": "display_data"
    },
    {
     "data": {
      "image/png": "[encoded data removed]",
      "text/plain": [
       "<Figure size 432x288 with 1 Axes>"
      ]
     },
     "metadata": {
      "needs_background": "light"
     },
     "output_type": "display_data"
    },
    {
     "data": {
      "image/png": "[encoded data removed]",
      "text/plain": [
       "<Figure size 432x288 with 1 Axes>"
      ]
     },
     "metadata": {
      "needs_background": "light"
     },
     "output_type": "display_data"
    },
    {
     "data": {
      "image/png": "[encoded data removed]",
      "text/plain": [
       "<Figure size 432x288 with 1 Axes>"
      ]
     },
     "metadata": {
      "needs_background": "light"
     },
     "output_type": "display_data"
    }
   ],
   "source": [
    "sanityChecks.discProbVsError(train_data,disc3,device)\n",
    "sanityChecks.discProbVsError(test_data,disc3,device)"
   ]
  },
  {
   "cell_type": "markdown",
   "id": "a5bd74c3",
   "metadata": {
    "id": "a5bd74c3",
    "papermill": {
     "duration": 0.181487,
     "end_time": "2022-06-22T16:23:27.228536",
     "exception": false,
     "start_time": "2022-06-22T16:23:27.047049",
     "status": "completed"
    },
    "tags": []
   },
   "source": [
    "## Skip Connection Model Analysis - ABC-GAN "
   ]
  },
  {
   "cell_type": "markdown",
   "id": "5744a8bf",
   "metadata": {
    "id": "5744a8bf",
    "papermill": {
     "duration": 0.141144,
     "end_time": "2022-06-22T16:23:27.473801",
     "exception": false,
     "start_time": "2022-06-22T16:23:27.332657",
     "status": "completed"
    },
    "tags": []
   },
   "source": [
    "### Weight Analysis \n",
    "\n",
    "Study the weights of the skip connection layer\n",
    "\n",
    "Equation of the skip connection is \n",
    "\n",
    "$output = y_{gan} * w + y_{abc} * (1-w)$"
   ]
  },
  {
   "cell_type": "code",
   "execution_count": 19,
   "id": "52c31dea",
   "metadata": {
    "execution": {
     "iopub.execute_input": "2022-06-22T16:23:27.666929Z",
     "iopub.status.busy": "2022-06-22T16:23:27.664048Z",
     "iopub.status.idle": "2022-06-22T16:23:27.707033Z",
     "shell.execute_reply": "2022-06-22T16:23:27.707678Z"
    },
    "id": "52c31dea",
    "papermill": {
     "duration": 0.1508,
     "end_time": "2022-06-22T16:23:27.708821",
     "exception": false,
     "start_time": "2022-06-22T16:23:27.558021",
     "status": "completed"
    },
    "tags": []
   },
   "outputs": [
    {
     "name": "stdout",
     "output_type": "stream",
     "text": [
      "Weight of the node at skip connection\n",
      "Parameter containing:\n",
      "tensor([[0.1917]], requires_grad=True)\n"
     ]
    },
    {
     "data": {
      "application/scrapbook.scrap.json+json": {
       "data": 0.19165141880512238,
       "encoder": "json",
       "name": "Skip Connection Weight",
       "version": 1
      }
     },
     "metadata": {
      "scrapbook": {
       "data": true,
       "display": false,
       "name": "Skip Connection Weight"
      }
     },
     "output_type": "display_data"
    }
   ],
   "source": [
    "print(\"Weight of the node at skip connection\")\n",
    "for name,param in gen3.named_parameters():\n",
    "    if(name == \"skipNode.weight\"):\n",
    "        print(param)\n",
    "        sb.glue(\"Skip Connection Weight\",param.item())"
   ]
  }
 ],
 "metadata": {
  "colab": {
   "collapsed_sections": [],
   "name": "ABC_GAN_Model-Catboost_Pre-gen.ipynb",
   "provenance": []
  },
  "interpreter": {
   "hash": "31f2aee4e71d21fbe5cf8b01ff0e069b9275f58929596ceb00d14d90e3e16cd6"
  },
  "kernelspec": {
   "display_name": "Python 3 (ipykernel)",
   "language": "python",
   "name": "python3"
  },
  "language_info": {
   "codemirror_mode": {
    "name": "ipython",
    "version": 3
   },
   "file_extension": ".py",
   "mimetype": "text/x-python",
   "name": "python",
   "nbconvert_exporter": "python",
   "pygments_lexer": "ipython3",
   "version": "3.8.3"
  },
  "papermill": {
   "default_parameters": {},
   "duration": 224.449908,
   "end_time": "2022-06-22T16:23:29.691330",
   "environment_variables": {},
   "exception": null,
   "input_path": "ABC_GAN-TabNet.ipynb",
   "output_path": "./ABC_GAN_TabNet/ABC-GAN_output_9_7.ipynb",
   "parameters": {
    "bias": 0.01,
    "variance": 0.1
   },
   "start_time": "2022-06-22T16:19:45.241422",
   "version": "2.3.3"
  }
 },
 "nbformat": 4,
 "nbformat_minor": 5
}