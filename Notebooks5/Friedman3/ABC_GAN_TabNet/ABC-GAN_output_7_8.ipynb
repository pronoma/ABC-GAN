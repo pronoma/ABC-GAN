{
 "cells": [
  {
   "cell_type": "markdown",
   "id": "622780e6",
   "metadata": {
    "id": "622780e6",
    "papermill": {
     "duration": 0.022262,
     "end_time": "2022-06-22T15:04:49.051140",
     "exception": false,
     "start_time": "2022-06-22T15:04:49.028878",
     "status": "completed"
    },
    "tags": []
   },
   "source": [
    "## Import Libraries "
   ]
  },
  {
   "cell_type": "code",
   "execution_count": 1,
   "id": "a62397e3",
   "metadata": {
    "execution": {
     "iopub.execute_input": "2022-06-22T15:04:49.097647Z",
     "iopub.status.busy": "2022-06-22T15:04:49.095247Z",
     "iopub.status.idle": "2022-06-22T15:04:49.100236Z",
     "shell.execute_reply": "2022-06-22T15:04:49.100762Z"
    },
    "id": "a62397e3",
    "papermill": {
     "duration": 0.032637,
     "end_time": "2022-06-22T15:04:49.101096",
     "exception": false,
     "start_time": "2022-06-22T15:04:49.068459",
     "status": "completed"
    },
    "tags": []
   },
   "outputs": [],
   "source": [
    "import warnings\n",
    "import sys\n",
    "sys.path.insert(0, '../../src')\n",
    "warnings.filterwarnings('ignore')"
   ]
  },
  {
   "cell_type": "code",
   "execution_count": 2,
   "id": "d6a4e155",
   "metadata": {
    "execution": {
     "iopub.execute_input": "2022-06-22T15:04:49.139762Z",
     "iopub.status.busy": "2022-06-22T15:04:49.138980Z",
     "iopub.status.idle": "2022-06-22T15:04:54.837702Z",
     "shell.execute_reply": "2022-06-22T15:04:54.838300Z"
    },
    "id": "d6a4e155",
    "papermill": {
     "duration": 5.719348,
     "end_time": "2022-06-22T15:04:54.838569",
     "exception": false,
     "start_time": "2022-06-22T15:04:49.119221",
     "status": "completed"
    },
    "tags": []
   },
   "outputs": [],
   "source": [
    "import ABC_train_test2\n",
    "import friedman3Dataset\n",
    "import network\n",
    "import dataset\n",
    "import sanityChecks\n",
    "import torch \n",
    "import scrapbook as sb\n",
    "from statistics import mean \n",
    "import catboost as ctb \n",
    "from sklearn.model_selection import train_test_split\n",
    "from sklearn.metrics import mean_squared_error,mean_absolute_error\n",
    "import numpy as np\n",
    "from pytorch_tabnet.tab_model import TabNetRegressor"
   ]
  },
  {
   "cell_type": "markdown",
   "id": "2fa5b0f7",
   "metadata": {
    "id": "2fa5b0f7",
    "papermill": {
     "duration": 0.017976,
     "end_time": "2022-06-22T15:04:54.872938",
     "exception": false,
     "start_time": "2022-06-22T15:04:54.854962",
     "status": "completed"
    },
    "tags": []
   },
   "source": [
    "## Parameters "
   ]
  },
  {
   "cell_type": "code",
   "execution_count": 3,
   "id": "783186fb",
   "metadata": {
    "execution": {
     "iopub.execute_input": "2022-06-22T15:04:54.915914Z",
     "iopub.status.busy": "2022-06-22T15:04:54.915116Z",
     "iopub.status.idle": "2022-06-22T15:04:54.917439Z",
     "shell.execute_reply": "2022-06-22T15:04:54.918097Z"
    },
    "id": "783186fb",
    "papermill": {
     "duration": 0.024577,
     "end_time": "2022-06-22T15:04:54.918333",
     "exception": false,
     "start_time": "2022-06-22T15:04:54.893756",
     "status": "completed"
    },
    "tags": [
     "parameters"
    ]
   },
   "outputs": [],
   "source": [
    "variance = 1\n",
    "bias = 1 "
   ]
  },
  {
   "cell_type": "code",
   "execution_count": 4,
   "id": "b4bf889b",
   "metadata": {
    "execution": {
     "iopub.execute_input": "2022-06-22T15:04:54.950660Z",
     "iopub.status.busy": "2022-06-22T15:04:54.949931Z",
     "iopub.status.idle": "2022-06-22T15:04:54.952041Z",
     "shell.execute_reply": "2022-06-22T15:04:54.952509Z"
    },
    "papermill": {
     "duration": 0.019328,
     "end_time": "2022-06-22T15:04:54.952716",
     "exception": false,
     "start_time": "2022-06-22T15:04:54.933388",
     "status": "completed"
    },
    "tags": [
     "injected-parameters"
    ]
   },
   "outputs": [],
   "source": [
    "# Parameters\n",
    "variance = 0.01\n",
    "bias = 0.01\n"
   ]
  },
  {
   "cell_type": "markdown",
   "id": "391cdbfd",
   "metadata": {
    "id": "391cdbfd",
    "papermill": {
     "duration": 0.022377,
     "end_time": "2022-06-22T15:04:54.988379",
     "exception": false,
     "start_time": "2022-06-22T15:04:54.966002",
     "status": "completed"
    },
    "tags": []
   },
   "source": [
    "## Dataset \n"
   ]
  },
  {
   "cell_type": "code",
   "execution_count": 5,
   "id": "5b51f161",
   "metadata": {
    "execution": {
     "iopub.execute_input": "2022-06-22T15:04:55.020095Z",
     "iopub.status.busy": "2022-06-22T15:04:55.019135Z",
     "iopub.status.idle": "2022-06-22T15:04:55.021465Z",
     "shell.execute_reply": "2022-06-22T15:04:55.021915Z"
    },
    "id": "5b51f161",
    "papermill": {
     "duration": 0.019466,
     "end_time": "2022-06-22T15:04:55.022114",
     "exception": false,
     "start_time": "2022-06-22T15:04:55.002648",
     "status": "completed"
    },
    "tags": []
   },
   "outputs": [],
   "source": [
    "#Parameters \n",
    "n_features = 4\n",
    "n_samples= 100\n",
    "n_target = 1"
   ]
  },
  {
   "cell_type": "code",
   "execution_count": 6,
   "id": "5d6eced4",
   "metadata": {
    "execution": {
     "iopub.execute_input": "2022-06-22T15:04:55.053117Z",
     "iopub.status.busy": "2022-06-22T15:04:55.052438Z",
     "iopub.status.idle": "2022-06-22T15:04:55.064201Z",
     "shell.execute_reply": "2022-06-22T15:04:55.064642Z"
    },
    "id": "5d6eced4",
    "papermill": {
     "duration": 0.029647,
     "end_time": "2022-06-22T15:04:55.064856",
     "exception": false,
     "start_time": "2022-06-22T15:04:55.035209",
     "status": "completed"
    },
    "tags": []
   },
   "outputs": [
    {
     "name": "stdout",
     "output_type": "stream",
     "text": [
      "          X1           X2        X3        X4         Y\n",
      "0   5.398734  1750.940176  0.472774  6.891714  1.567065\n",
      "1  35.502976   445.777619  0.118692  2.297951  1.091546\n",
      "2  45.291274   460.126681  0.255467  9.473356  1.144431\n",
      "3  59.197638  1217.153128  0.537917  1.686719  1.572102\n",
      "4  74.308614  1331.783757  0.464289  3.048491  1.433153\n"
     ]
    }
   ],
   "source": [
    "X,Y = friedman3Dataset.friedman3_data(n_samples)"
   ]
  },
  {
   "cell_type": "code",
   "execution_count": 7,
   "id": "fe007438",
   "metadata": {
    "execution": {
     "iopub.execute_input": "2022-06-22T15:04:55.102923Z",
     "iopub.status.busy": "2022-06-22T15:04:55.101063Z",
     "iopub.status.idle": "2022-06-22T15:04:55.106678Z",
     "shell.execute_reply": "2022-06-22T15:04:55.107214Z"
    },
    "id": "fe007438",
    "papermill": {
     "duration": 0.029118,
     "end_time": "2022-06-22T15:04:55.107514",
     "exception": false,
     "start_time": "2022-06-22T15:04:55.078396",
     "status": "completed"
    },
    "tags": []
   },
   "outputs": [],
   "source": [
    "#Train test split for dataset \n",
    "X_train,X_test,Y_train,Y_test = train_test_split(X,Y,test_size = 0.2)\n",
    "train_data = dataset.CustomDataset(X_train,Y_train)\n",
    "test_data = dataset.CustomDataset(X_test,Y_test)\n"
   ]
  },
  {
   "cell_type": "markdown",
   "id": "a9a1af34",
   "metadata": {
    "id": "a9a1af34",
    "papermill": {
     "duration": 0.020755,
     "end_time": "2022-06-22T15:04:55.144816",
     "exception": false,
     "start_time": "2022-06-22T15:04:55.124061",
     "status": "completed"
    },
    "tags": []
   },
   "source": [
    "## Training Parameters "
   ]
  },
  {
   "cell_type": "code",
   "execution_count": 8,
   "id": "952b7fc8",
   "metadata": {
    "execution": {
     "iopub.execute_input": "2022-06-22T15:04:55.181664Z",
     "iopub.status.busy": "2022-06-22T15:04:55.180296Z",
     "iopub.status.idle": "2022-06-22T15:04:55.183810Z",
     "shell.execute_reply": "2022-06-22T15:04:55.184713Z"
    },
    "id": "952b7fc8",
    "papermill": {
     "duration": 0.024699,
     "end_time": "2022-06-22T15:04:55.185022",
     "exception": false,
     "start_time": "2022-06-22T15:04:55.160323",
     "status": "completed"
    },
    "tags": []
   },
   "outputs": [],
   "source": [
    "batch_size = 32\n",
    "n_epochs = 1000\n",
    "#Select the device \n",
    "device = torch.device('cuda' if torch.cuda.is_available() else 'cpu')"
   ]
  },
  {
   "cell_type": "markdown",
   "id": "a95e1600",
   "metadata": {
    "id": "a95e1600",
    "papermill": {
     "duration": 0.033837,
     "end_time": "2022-06-22T15:04:55.238598",
     "exception": false,
     "start_time": "2022-06-22T15:04:55.204761",
     "status": "completed"
    },
    "tags": []
   },
   "source": [
    "# ABC Pre-generator Model \n",
    "\n",
    "1. The catboost model is used as a pre-generator model for the ABC-GAN. \n",
    "2. The model is first trained on the entire dataset \n",
    "3. It generats X,Y pairs and we add some Gaussian noise with mean 0 and variance 1 to it which is then feed as input to the generator.\n"
   ]
  },
  {
   "cell_type": "code",
   "execution_count": 9,
   "id": "ff8ce7bd",
   "metadata": {
    "execution": {
     "iopub.execute_input": "2022-06-22T15:04:55.314826Z",
     "iopub.status.busy": "2022-06-22T15:04:55.313735Z",
     "iopub.status.idle": "2022-06-22T15:05:06.739896Z",
     "shell.execute_reply": "2022-06-22T15:05:06.740584Z"
    },
    "id": "ff8ce7bd",
    "papermill": {
     "duration": 11.463167,
     "end_time": "2022-06-22T15:05:06.740782",
     "exception": false,
     "start_time": "2022-06-22T15:04:55.277615",
     "status": "completed"
    },
    "tags": []
   },
   "outputs": [
    {
     "name": "stdout",
     "output_type": "stream",
     "text": [
      "Device used : cpu\n"
     ]
    },
    {
     "name": "stdout",
     "output_type": "stream",
     "text": [
      "epoch 0  | loss: 1.21067 | train_mse: 5.99192 | train_mae: 1.82911 |  0:00:00s\n",
      "epoch 1  | loss: 0.74152 | train_mse: 3.71316 | train_mae: 1.41909 |  0:00:00s\n",
      "epoch 2  | loss: 0.55333 | train_mse: 2.6537  | train_mae: 1.17042 |  0:00:00s\n"
     ]
    },
    {
     "name": "stdout",
     "output_type": "stream",
     "text": [
      "epoch 3  | loss: 0.38523 | train_mse: 1.98022 | train_mae: 1.03314 |  0:00:00s\n",
      "epoch 4  | loss: 0.53371 | train_mse: 1.3959  | train_mae: 0.82091 |  0:00:00s\n",
      "epoch 5  | loss: 0.56253 | train_mse: 1.07258 | train_mae: 0.67856 |  0:00:00s\n"
     ]
    },
    {
     "name": "stdout",
     "output_type": "stream",
     "text": [
      "epoch 6  | loss: 0.41429 | train_mse: 1.02964 | train_mae: 0.70282 |  0:00:00s\n",
      "epoch 7  | loss: 0.25243 | train_mse: 1.27767 | train_mae: 0.80048 |  0:00:00s\n",
      "epoch 8  | loss: 0.33488 | train_mse: 1.52208 | train_mae: 0.8224  |  0:00:00s\n"
     ]
    },
    {
     "name": "stdout",
     "output_type": "stream",
     "text": [
      "epoch 9  | loss: 0.27655 | train_mse: 1.08096 | train_mae: 0.66705 |  0:00:00s\n",
      "epoch 10 | loss: 0.38786 | train_mse: 0.87294 | train_mae: 0.59021 |  0:00:01s\n"
     ]
    },
    {
     "name": "stdout",
     "output_type": "stream",
     "text": [
      "epoch 11 | loss: 0.30728 | train_mse: 0.55444 | train_mae: 0.53782 |  0:00:01s\n"
     ]
    },
    {
     "name": "stdout",
     "output_type": "stream",
     "text": [
      "epoch 12 | loss: 0.14869 | train_mse: 0.54393 | train_mae: 0.53768 |  0:00:01s\n",
      "epoch 13 | loss: 0.18722 | train_mse: 0.38556 | train_mae: 0.46629 |  0:00:01s\n",
      "epoch 14 | loss: 0.22661 | train_mse: 0.42424 | train_mae: 0.46498 |  0:00:01s\n",
      "epoch 15 | loss: 0.22312 | train_mse: 0.30597 | train_mae: 0.42529 |  0:00:01s\n"
     ]
    },
    {
     "name": "stdout",
     "output_type": "stream",
     "text": [
      "epoch 16 | loss: 0.20653 | train_mse: 0.21089 | train_mae: 0.37404 |  0:00:01s\n",
      "epoch 17 | loss: 0.19751 | train_mse: 0.19538 | train_mae: 0.35725 |  0:00:01s\n",
      "epoch 18 | loss: 0.23825 | train_mse: 0.19423 | train_mae: 0.34956 |  0:00:01s\n"
     ]
    },
    {
     "name": "stdout",
     "output_type": "stream",
     "text": [
      "epoch 19 | loss: 0.21496 | train_mse: 0.49637 | train_mae: 0.43771 |  0:00:01s\n",
      "epoch 20 | loss: 0.31509 | train_mse: 0.53092 | train_mae: 0.45196 |  0:00:02s\n"
     ]
    },
    {
     "name": "stdout",
     "output_type": "stream",
     "text": [
      "epoch 21 | loss: 0.20234 | train_mse: 0.49208 | train_mae: 0.43322 |  0:00:02s\n",
      "epoch 22 | loss: 0.23723 | train_mse: 0.39851 | train_mae: 0.38379 |  0:00:02s\n"
     ]
    },
    {
     "name": "stdout",
     "output_type": "stream",
     "text": [
      "epoch 23 | loss: 0.23284 | train_mse: 0.43526 | train_mae: 0.36954 |  0:00:02s\n",
      "epoch 24 | loss: 0.39621 | train_mse: 0.33421 | train_mae: 0.34761 |  0:00:02s\n",
      "epoch 25 | loss: 0.63714 | train_mse: 0.3393  | train_mae: 0.37843 |  0:00:02s\n"
     ]
    },
    {
     "name": "stdout",
     "output_type": "stream",
     "text": [
      "epoch 26 | loss: 0.32378 | train_mse: 0.39533 | train_mae: 0.43948 |  0:00:02s\n",
      "epoch 27 | loss: 0.43048 | train_mse: 0.3672  | train_mae: 0.41539 |  0:00:02s\n",
      "epoch 28 | loss: 0.40246 | train_mse: 0.32303 | train_mae: 0.36485 |  0:00:02s\n",
      "epoch 29 | loss: 0.33618 | train_mse: 0.33545 | train_mae: 0.35644 |  0:00:02s\n"
     ]
    },
    {
     "name": "stdout",
     "output_type": "stream",
     "text": [
      "epoch 30 | loss: 0.48042 | train_mse: 0.35145 | train_mae: 0.39401 |  0:00:02s\n",
      "epoch 31 | loss: 0.43363 | train_mse: 0.36097 | train_mae: 0.41022 |  0:00:02s\n",
      "epoch 32 | loss: 0.41534 | train_mse: 0.36649 | train_mae: 0.41384 |  0:00:03s\n"
     ]
    },
    {
     "name": "stdout",
     "output_type": "stream",
     "text": [
      "epoch 33 | loss: 0.32031 | train_mse: 0.32231 | train_mae: 0.35847 |  0:00:03s\n",
      "epoch 34 | loss: 0.47791 | train_mse: 0.36442 | train_mae: 0.37243 |  0:00:03s\n",
      "epoch 35 | loss: 0.4029  | train_mse: 0.31249 | train_mae: 0.34578 |  0:00:03s\n",
      "epoch 36 | loss: 0.31144 | train_mse: 0.27606 | train_mae: 0.34431 |  0:00:03s\n"
     ]
    },
    {
     "name": "stdout",
     "output_type": "stream",
     "text": [
      "epoch 37 | loss: 0.33255 | train_mse: 0.2666  | train_mae: 0.3428  |  0:00:03s\n",
      "epoch 38 | loss: 0.31709 | train_mse: 0.25144 | train_mae: 0.33047 |  0:00:03s\n",
      "epoch 39 | loss: 0.3757  | train_mse: 0.27177 | train_mae: 0.33808 |  0:00:03s\n",
      "epoch 40 | loss: 0.40835 | train_mse: 0.26612 | train_mae: 0.36781 |  0:00:03s\n"
     ]
    },
    {
     "name": "stdout",
     "output_type": "stream",
     "text": [
      "epoch 41 | loss: 0.46136 | train_mse: 0.20008 | train_mae: 0.34842 |  0:00:03s\n",
      "epoch 42 | loss: 0.30106 | train_mse: 0.29488 | train_mae: 0.35707 |  0:00:03s\n",
      "epoch 43 | loss: 0.46484 | train_mse: 0.291   | train_mae: 0.33687 |  0:00:03s\n",
      "epoch 44 | loss: 0.38849 | train_mse: 0.27995 | train_mae: 0.33513 |  0:00:03s\n"
     ]
    },
    {
     "name": "stdout",
     "output_type": "stream",
     "text": [
      "epoch 45 | loss: 0.41058 | train_mse: 0.28608 | train_mae: 0.34768 |  0:00:03s\n",
      "epoch 46 | loss: 0.30733 | train_mse: 0.30155 | train_mae: 0.36805 |  0:00:03s\n",
      "epoch 47 | loss: 0.31808 | train_mse: 0.27409 | train_mae: 0.34067 |  0:00:04s\n"
     ]
    },
    {
     "name": "stdout",
     "output_type": "stream",
     "text": [
      "epoch 48 | loss: 0.35607 | train_mse: 0.30575 | train_mae: 0.31651 |  0:00:04s\n",
      "epoch 49 | loss: 0.60472 | train_mse: 0.30169 | train_mae: 0.3285  |  0:00:04s\n",
      "epoch 50 | loss: 0.31227 | train_mse: 0.29816 | train_mae: 0.34219 |  0:00:04s\n",
      "epoch 51 | loss: 0.16223 | train_mse: 0.27354 | train_mae: 0.32407 |  0:00:04s\n"
     ]
    },
    {
     "name": "stdout",
     "output_type": "stream",
     "text": [
      "epoch 52 | loss: 0.13554 | train_mse: 0.12679 | train_mae: 0.2887  |  0:00:04s\n",
      "epoch 53 | loss: 0.12129 | train_mse: 0.12556 | train_mae: 0.28873 |  0:00:04s\n",
      "epoch 54 | loss: 0.12094 | train_mse: 0.14852 | train_mae: 0.3018  |  0:00:04s\n",
      "epoch 55 | loss: 0.16818 | train_mse: 0.13112 | train_mae: 0.28195 |  0:00:04s\n"
     ]
    },
    {
     "name": "stdout",
     "output_type": "stream",
     "text": [
      "epoch 56 | loss: 0.19719 | train_mse: 0.10738 | train_mae: 0.2649  |  0:00:04s\n",
      "epoch 57 | loss: 0.36734 | train_mse: 0.09249 | train_mae: 0.24673 |  0:00:04s\n",
      "epoch 58 | loss: 0.22598 | train_mse: 0.10259 | train_mae: 0.25791 |  0:00:04s\n"
     ]
    },
    {
     "name": "stdout",
     "output_type": "stream",
     "text": [
      "epoch 59 | loss: 0.20188 | train_mse: 0.10013 | train_mae: 0.24908 |  0:00:04s\n",
      "epoch 60 | loss: 0.44368 | train_mse: 0.10785 | train_mae: 0.25774 |  0:00:05s\n",
      "epoch 61 | loss: 0.13227 | train_mse: 0.09324 | train_mae: 0.23101 |  0:00:05s\n"
     ]
    },
    {
     "name": "stdout",
     "output_type": "stream",
     "text": [
      "epoch 62 | loss: 0.1665  | train_mse: 0.13429 | train_mae: 0.26185 |  0:00:05s\n",
      "epoch 63 | loss: 0.22962 | train_mse: 0.11202 | train_mae: 0.27184 |  0:00:05s\n",
      "epoch 64 | loss: 0.20328 | train_mse: 0.1223  | train_mae: 0.2869  |  0:00:05s\n"
     ]
    },
    {
     "name": "stdout",
     "output_type": "stream",
     "text": [
      "epoch 65 | loss: 0.12003 | train_mse: 0.13467 | train_mae: 0.30407 |  0:00:05s\n",
      "epoch 66 | loss: 0.1336  | train_mse: 0.13316 | train_mae: 0.30199 |  0:00:05s\n",
      "epoch 67 | loss: 0.16914 | train_mse: 0.1438  | train_mae: 0.30034 |  0:00:05s\n"
     ]
    },
    {
     "name": "stdout",
     "output_type": "stream",
     "text": [
      "epoch 68 | loss: 0.17143 | train_mse: 0.1668  | train_mae: 0.30602 |  0:00:05s\n",
      "epoch 69 | loss: 0.27821 | train_mse: 0.14279 | train_mae: 0.28217 |  0:00:05s\n",
      "epoch 70 | loss: 0.23897 | train_mse: 0.12593 | train_mae: 0.2743  |  0:00:05s\n"
     ]
    },
    {
     "name": "stdout",
     "output_type": "stream",
     "text": [
      "epoch 71 | loss: 0.42394 | train_mse: 0.14801 | train_mae: 0.27643 |  0:00:05s\n",
      "epoch 72 | loss: 0.50374 | train_mse: 0.16322 | train_mae: 0.27212 |  0:00:05s\n",
      "epoch 73 | loss: 0.32651 | train_mse: 0.243   | train_mae: 0.3285  |  0:00:06s\n"
     ]
    },
    {
     "name": "stdout",
     "output_type": "stream",
     "text": [
      "epoch 74 | loss: 0.26418 | train_mse: 0.26468 | train_mae: 0.35257 |  0:00:06s\n",
      "epoch 75 | loss: 0.37646 | train_mse: 0.27915 | train_mae: 0.347   |  0:00:06s\n",
      "epoch 76 | loss: 0.14389 | train_mse: 0.22319 | train_mae: 0.30392 |  0:00:06s\n"
     ]
    },
    {
     "name": "stdout",
     "output_type": "stream",
     "text": [
      "epoch 77 | loss: 0.3501  | train_mse: 0.15706 | train_mae: 0.2834  |  0:00:06s\n",
      "epoch 78 | loss: 0.21237 | train_mse: 0.15741 | train_mae: 0.27909 |  0:00:06s\n"
     ]
    },
    {
     "name": "stdout",
     "output_type": "stream",
     "text": [
      "epoch 79 | loss: 0.17915 | train_mse: 0.17719 | train_mae: 0.29734 |  0:00:06s\n",
      "epoch 80 | loss: 0.25278 | train_mse: 0.24283 | train_mae: 0.30913 |  0:00:06s\n",
      "epoch 81 | loss: 0.29104 | train_mse: 0.15233 | train_mae: 0.29065 |  0:00:06s\n",
      "epoch 82 | loss: 0.21025 | train_mse: 0.1792  | train_mae: 0.29504 |  0:00:06s\n"
     ]
    },
    {
     "name": "stdout",
     "output_type": "stream",
     "text": [
      "epoch 83 | loss: 0.23961 | train_mse: 0.15116 | train_mae: 0.26979 |  0:00:06s\n",
      "epoch 84 | loss: 0.22737 | train_mse: 0.12377 | train_mae: 0.26395 |  0:00:06s\n",
      "epoch 85 | loss: 0.10943 | train_mse: 0.10718 | train_mae: 0.24899 |  0:00:07s\n",
      "epoch 86 | loss: 0.43752 | train_mse: 0.14062 | train_mae: 0.27548 |  0:00:07s\n"
     ]
    },
    {
     "name": "stdout",
     "output_type": "stream",
     "text": [
      "epoch 87 | loss: 0.16502 | train_mse: 0.17236 | train_mae: 0.2959  |  0:00:07s\n",
      "epoch 88 | loss: 0.12665 | train_mse: 0.12168 | train_mae: 0.26762 |  0:00:07s\n",
      "epoch 89 | loss: 0.09479 | train_mse: 0.09661 | train_mae: 0.2522  |  0:00:07s\n",
      "epoch 90 | loss: 0.1552  | train_mse: 0.10496 | train_mae: 0.25546 |  0:00:07s\n"
     ]
    },
    {
     "name": "stdout",
     "output_type": "stream",
     "text": [
      "epoch 91 | loss: 0.13262 | train_mse: 0.12503 | train_mae: 0.26891 |  0:00:07s\n",
      "epoch 92 | loss: 0.48393 | train_mse: 0.16232 | train_mae: 0.29758 |  0:00:07s\n",
      "epoch 93 | loss: 0.13524 | train_mse: 0.11656 | train_mae: 0.25871 |  0:00:07s\n",
      "epoch 94 | loss: 0.16913 | train_mse: 0.11906 | train_mae: 0.26405 |  0:00:07s\n"
     ]
    },
    {
     "name": "stdout",
     "output_type": "stream",
     "text": [
      "epoch 95 | loss: 0.13494 | train_mse: 0.15816 | train_mae: 0.29731 |  0:00:07s\n",
      "epoch 96 | loss: 0.1528  | train_mse: 0.19767 | train_mae: 0.32609 |  0:00:07s\n",
      "epoch 97 | loss: 0.18674 | train_mse: 0.15321 | train_mae: 0.29776 |  0:00:07s\n",
      "epoch 98 | loss: 0.21501 | train_mse: 0.10373 | train_mae: 0.2512  |  0:00:07s\n"
     ]
    },
    {
     "name": "stdout",
     "output_type": "stream",
     "text": [
      "epoch 99 | loss: 0.17167 | train_mse: 0.13024 | train_mae: 0.25804 |  0:00:07s\n",
      "epoch 100| loss: 0.16769 | train_mse: 0.08736 | train_mae: 0.23068 |  0:00:08s\n",
      "epoch 101| loss: 0.13544 | train_mse: 0.09183 | train_mae: 0.25026 |  0:00:08s\n",
      "epoch 102| loss: 0.21514 | train_mse: 0.14462 | train_mae: 0.26328 |  0:00:08s\n"
     ]
    },
    {
     "name": "stdout",
     "output_type": "stream",
     "text": [
      "epoch 103| loss: 0.12158 | train_mse: 0.15871 | train_mae: 0.24739 |  0:00:08s\n",
      "epoch 104| loss: 0.21285 | train_mse: 0.11433 | train_mae: 0.23619 |  0:00:08s\n",
      "epoch 105| loss: 0.08914 | train_mse: 0.09187 | train_mae: 0.23611 |  0:00:08s\n",
      "epoch 106| loss: 0.17123 | train_mse: 0.10345 | train_mae: 0.24948 |  0:00:08s\n"
     ]
    },
    {
     "name": "stdout",
     "output_type": "stream",
     "text": [
      "epoch 107| loss: 0.16097 | train_mse: 0.09008 | train_mae: 0.23225 |  0:00:08s\n",
      "epoch 108| loss: 0.1589  | train_mse: 0.14595 | train_mae: 0.28825 |  0:00:08s\n",
      "epoch 109| loss: 0.15091 | train_mse: 0.14256 | train_mae: 0.2797  |  0:00:08s\n",
      "epoch 110| loss: 0.23672 | train_mse: 0.30171 | train_mae: 0.28449 |  0:00:08s\n"
     ]
    },
    {
     "name": "stdout",
     "output_type": "stream",
     "text": [
      "epoch 111| loss: 0.16354 | train_mse: 0.28179 | train_mae: 0.27364 |  0:00:08s\n",
      "epoch 112| loss: 0.18283 | train_mse: 0.29679 | train_mae: 0.31697 |  0:00:08s\n",
      "epoch 113| loss: 0.18414 | train_mse: 0.3026  | train_mae: 0.34497 |  0:00:08s\n"
     ]
    },
    {
     "name": "stdout",
     "output_type": "stream",
     "text": [
      "epoch 114| loss: 0.36803 | train_mse: 0.10536 | train_mae: 0.26465 |  0:00:08s\n",
      "epoch 115| loss: 0.24208 | train_mse: 0.30882 | train_mae: 0.33076 |  0:00:09s\n",
      "epoch 116| loss: 0.68355 | train_mse: 0.34906 | train_mae: 0.30746 |  0:00:09s\n",
      "epoch 117| loss: 0.43162 | train_mse: 0.21135 | train_mae: 0.30437 |  0:00:09s\n"
     ]
    },
    {
     "name": "stdout",
     "output_type": "stream",
     "text": [
      "epoch 118| loss: 0.40194 | train_mse: 0.20153 | train_mae: 0.31923 |  0:00:09s\n",
      "epoch 119| loss: 0.37358 | train_mse: 0.24358 | train_mae: 0.34232 |  0:00:09s\n",
      "epoch 120| loss: 0.33341 | train_mse: 0.23682 | train_mae: 0.33871 |  0:00:09s\n",
      "epoch 121| loss: 0.31377 | train_mse: 0.18606 | train_mae: 0.30861 |  0:00:09s\n"
     ]
    },
    {
     "name": "stdout",
     "output_type": "stream",
     "text": [
      "epoch 122| loss: 0.40273 | train_mse: 0.2159  | train_mae: 0.34195 |  0:00:09s\n",
      "epoch 123| loss: 0.13717 | train_mse: 0.19834 | train_mae: 0.32669 |  0:00:09s\n",
      "epoch 124| loss: 0.22389 | train_mse: 0.15892 | train_mae: 0.28821 |  0:00:09s\n",
      "epoch 125| loss: 0.28948 | train_mse: 0.13682 | train_mae: 0.27088 |  0:00:09s\n"
     ]
    },
    {
     "name": "stdout",
     "output_type": "stream",
     "text": [
      "epoch 126| loss: 0.28233 | train_mse: 0.12437 | train_mae: 0.26174 |  0:00:09s\n",
      "epoch 127| loss: 0.15972 | train_mse: 0.11029 | train_mae: 0.25717 |  0:00:09s\n",
      "epoch 128| loss: 0.17895 | train_mse: 0.10155 | train_mae: 0.25419 |  0:00:09s\n"
     ]
    },
    {
     "name": "stdout",
     "output_type": "stream",
     "text": [
      "epoch 129| loss: 0.16386 | train_mse: 0.19408 | train_mae: 0.29257 |  0:00:09s\n",
      "epoch 130| loss: 0.26244 | train_mse: 0.18186 | train_mae: 0.28452 |  0:00:10s\n",
      "epoch 131| loss: 0.22771 | train_mse: 0.14455 | train_mae: 0.26078 |  0:00:10s\n",
      "epoch 132| loss: 0.15994 | train_mse: 0.11444 | train_mae: 0.25223 |  0:00:10s\n",
      "epoch 133| loss: 0.23376 | train_mse: 0.12544 | train_mae: 0.25958 |  0:00:10s\n"
     ]
    },
    {
     "name": "stdout",
     "output_type": "stream",
     "text": [
      "epoch 134| loss: 0.18926 | train_mse: 0.15314 | train_mae: 0.28795 |  0:00:10s\n",
      "epoch 135| loss: 0.1135  | train_mse: 0.20363 | train_mae: 0.33212 |  0:00:10s\n",
      "epoch 136| loss: 0.14871 | train_mse: 0.15155 | train_mae: 0.29062 |  0:00:10s\n",
      "epoch 137| loss: 0.22811 | train_mse: 0.12529 | train_mae: 0.2616  |  0:00:10s\n"
     ]
    },
    {
     "name": "stdout",
     "output_type": "stream",
     "text": [
      "epoch 138| loss: 0.14695 | train_mse: 0.12538 | train_mae: 0.24491 |  0:00:10s\n",
      "epoch 139| loss: 0.22766 | train_mse: 0.13097 | train_mae: 0.26611 |  0:00:10s\n",
      "epoch 140| loss: 0.44466 | train_mse: 0.17349 | train_mae: 0.3011  |  0:00:10s\n",
      "epoch 141| loss: 0.23986 | train_mse: 0.12893 | train_mae: 0.26733 |  0:00:10s\n"
     ]
    },
    {
     "name": "stdout",
     "output_type": "stream",
     "text": [
      "epoch 142| loss: 0.19046 | train_mse: 0.09508 | train_mae: 0.24995 |  0:00:10s\n",
      "epoch 143| loss: 0.22513 | train_mse: 0.15729 | train_mae: 0.2925  |  0:00:10s\n",
      "epoch 144| loss: 0.20492 | train_mse: 0.17181 | train_mae: 0.32444 |  0:00:10s\n"
     ]
    },
    {
     "name": "stdout",
     "output_type": "stream",
     "text": [
      "epoch 145| loss: 0.27249 | train_mse: 0.18384 | train_mae: 0.32533 |  0:00:11s\n",
      "epoch 146| loss: 0.15902 | train_mse: 0.14812 | train_mae: 0.30093 |  0:00:11s\n",
      "epoch 147| loss: 0.1615  | train_mse: 0.10719 | train_mae: 0.26316 |  0:00:11s\n",
      "epoch 148| loss: 0.1377  | train_mse: 0.09353 | train_mae: 0.24696 |  0:00:11s\n"
     ]
    },
    {
     "name": "stdout",
     "output_type": "stream",
     "text": [
      "epoch 149| loss: 0.19359 | train_mse: 0.10518 | train_mae: 0.25432 |  0:00:11s\n",
      "epoch 150| loss: 0.30758 | train_mse: 0.15037 | train_mae: 0.28157 |  0:00:11s\n",
      "\n",
      "Early stopping occurred at epoch 150 with best_epoch = 100 and best_train_mae = 0.23068\n",
      "Best weights from best epoch are automatically used!\n"
     ]
    }
   ],
   "source": [
    "#Train the Model\n",
    "\n",
    "Y_train = np.reshape(Y_train, (-1, 1))\n",
    "Y_test = np.reshape(Y_test, (-1, 1))\n",
    "\n",
    "prior_model = TabNetRegressor(optimizer_fn=torch.optim.Adam, optimizer_params=dict(lr = 0.02),\n",
    "          #scheduler_params={\"step_size\":10, ], \"gamma\":0.9},\n",
    "          #scheduler_fn=torch.optim.lr_scheduler.StepLR\n",
    "          )  #TabNetRegressor()\n",
    "\n",
    "prior_model.fit(X_train,Y_train,eval_set=[(X_train, Y_train)],\n",
    "            eval_name=['train'], \n",
    "            eval_metric=[ 'mse', 'mae'], \n",
    "            max_epochs = n_epochs, \n",
    "            batch_size = batch_size,\n",
    "            patience=50\n",
    "            )"
   ]
  },
  {
   "cell_type": "code",
   "execution_count": 10,
   "id": "af65dcda",
   "metadata": {
    "execution": {
     "iopub.execute_input": "2022-06-22T15:05:06.801252Z",
     "iopub.status.busy": "2022-06-22T15:05:06.800495Z",
     "iopub.status.idle": "2022-06-22T15:05:06.823428Z",
     "shell.execute_reply": "2022-06-22T15:05:06.823908Z"
    },
    "id": "af65dcda",
    "papermill": {
     "duration": 0.058502,
     "end_time": "2022-06-22T15:05:06.824138",
     "exception": false,
     "start_time": "2022-06-22T15:05:06.765636",
     "status": "completed"
    },
    "tags": []
   },
   "outputs": [
    {
     "data": {
      "application/scrapbook.scrap.json+json": {
       "data": 0.41737228419474065,
       "encoder": "json",
       "name": "Prior Model MSE",
       "version": 1
      }
     },
     "metadata": {
      "scrapbook": {
       "data": true,
       "display": false,
       "name": "Prior Model MSE"
      }
     },
     "output_type": "display_data"
    },
    {
     "data": {
      "application/scrapbook.scrap.json+json": {
       "data": 0.41788961272224656,
       "encoder": "json",
       "name": "ABC Pre-generator MSE",
       "version": 1
      }
     },
     "metadata": {
      "scrapbook": {
       "data": true,
       "display": false,
       "name": "ABC Pre-generator MSE"
      }
     },
     "output_type": "display_data"
    },
    {
     "data": {
      "application/scrapbook.scrap.json+json": {
       "data": 0.5206277331977207,
       "encoder": "json",
       "name": "Prior Model MSE",
       "version": 1
      }
     },
     "metadata": {
      "scrapbook": {
       "data": true,
       "display": false,
       "name": "Prior Model MSE"
      }
     },
     "output_type": "display_data"
    },
    {
     "data": {
      "application/scrapbook.scrap.json+json": {
       "data": 0.5203252979651078,
       "encoder": "json",
       "name": "ABC Pre-generator MSE",
       "version": 1
      }
     },
     "metadata": {
      "scrapbook": {
       "data": true,
       "display": false,
       "name": "ABC Pre-generator MSE"
      }
     },
     "output_type": "display_data"
    }
   ],
   "source": [
    "y_pred = prior_model.predict(X_test)\n",
    "y_abc = y_pred + np.random.normal(0,variance, y_pred.shape) + bias \n",
    "mse = mean_squared_error(y_pred,Y_test)\n",
    "sb.glue(\"Prior Model MSE\",mse)\n",
    "mse = mean_squared_error(y_abc,Y_test)\n",
    "sb.glue(\"ABC Pre-generator MSE\",mse)\n",
    "mae = mean_absolute_error(y_pred,Y_test)\n",
    "sb.glue(\"Prior Model MSE\",mae)\n",
    "mae = mean_absolute_error(y_abc,Y_test)\n",
    "sb.glue(\"ABC Pre-generator MSE\",mae)"
   ]
  },
  {
   "cell_type": "markdown",
   "id": "25609da2",
   "metadata": {
    "papermill": {
     "duration": 0.028309,
     "end_time": "2022-06-22T15:05:06.878707",
     "exception": false,
     "start_time": "2022-06-22T15:05:06.850398",
     "status": "completed"
    },
    "tags": []
   },
   "source": [
    "# ABC GAN Model"
   ]
  },
  {
   "cell_type": "code",
   "execution_count": 11,
   "id": "dfc3464d",
   "metadata": {
    "execution": {
     "iopub.execute_input": "2022-06-22T15:05:06.947977Z",
     "iopub.status.busy": "2022-06-22T15:05:06.945900Z",
     "iopub.status.idle": "2022-06-22T15:05:06.950784Z",
     "shell.execute_reply": "2022-06-22T15:05:06.951284Z"
    },
    "papermill": {
     "duration": 0.044881,
     "end_time": "2022-06-22T15:05:06.951571",
     "exception": false,
     "start_time": "2022-06-22T15:05:06.906690",
     "status": "completed"
    },
    "tags": []
   },
   "outputs": [],
   "source": [
    "gen = network.Generator(n_features+1).to(device)\n",
    "disc = network.Discriminator(n_features+1).to(device)\n",
    "\n",
    "criterion = torch.nn.BCELoss()\n",
    "gen_opt = torch.optim.Adam(gen.parameters(), lr=0.001, betas=(0.5, 0.999))\n",
    "disc_opt = torch.optim.Adam(disc.parameters(), lr=0.001, betas=(0.5, 0.999))"
   ]
  },
  {
   "cell_type": "code",
   "execution_count": 12,
   "id": "b75fdd85",
   "metadata": {
    "execution": {
     "iopub.execute_input": "2022-06-22T15:05:07.008969Z",
     "iopub.status.busy": "2022-06-22T15:05:07.008273Z",
     "iopub.status.idle": "2022-06-22T15:05:46.696443Z",
     "shell.execute_reply": "2022-06-22T15:05:46.697096Z"
    },
    "papermill": {
     "duration": 39.717782,
     "end_time": "2022-06-22T15:05:46.697341",
     "exception": false,
     "start_time": "2022-06-22T15:05:06.979559",
     "status": "completed"
    },
    "tags": []
   },
   "outputs": [
    {
     "data": {
      "image/png": "[encoded data removed]",
      "text/plain": [
       "<Figure size 432x288 with 1 Axes>"
      ]
     },
     "metadata": {
      "needs_background": "light"
     },
     "output_type": "display_data"
    },
    {
     "data": {
      "image/png": "[encoded data removed]",
      "text/plain": [
       "<Figure size 432x288 with 1 Axes>"
      ]
     },
     "metadata": {
      "needs_background": "light"
     },
     "output_type": "display_data"
    }
   ],
   "source": [
    "#Training the ABC_GAN \n",
    "ABC_train_test2.training_GAN(disc,gen,disc_opt,gen_opt,train_data,batch_size,n_epochs,criterion,prior_model,variance,bias,device)"
   ]
  },
  {
   "cell_type": "code",
   "execution_count": 13,
   "id": "1fa7c368",
   "metadata": {
    "execution": {
     "iopub.execute_input": "2022-06-22T15:05:46.775159Z",
     "iopub.status.busy": "2022-06-22T15:05:46.774194Z",
     "iopub.status.idle": "2022-06-22T15:05:47.396211Z",
     "shell.execute_reply": "2022-06-22T15:05:47.396733Z"
    },
    "papermill": {
     "duration": 0.670844,
     "end_time": "2022-06-22T15:05:47.397028",
     "exception": false,
     "start_time": "2022-06-22T15:05:46.726184",
     "status": "completed"
    },
    "tags": []
   },
   "outputs": [
    {
     "data": {
      "application/scrapbook.scrap.json+json": {
       "data": 0.3841955067586159,
       "encoder": "json",
       "name": "ABC-GAN Model 1 MSE",
       "version": 1
      }
     },
     "metadata": {
      "scrapbook": {
       "data": true,
       "display": false,
       "name": "ABC-GAN Model 1 MSE"
      }
     },
     "output_type": "display_data"
    },
    {
     "data": {
      "application/scrapbook.scrap.json+json": {
       "data": 0.5508355325013399,
       "encoder": "json",
       "name": "ABC-GAN Model 1 MAE",
       "version": 1
      }
     },
     "metadata": {
      "scrapbook": {
       "data": true,
       "display": false,
       "name": "ABC-GAN Model 1 MAE"
      }
     },
     "output_type": "display_data"
    },
    {
     "data": {
      "application/scrapbook.scrap.json+json": {
       "data": 11.016710650026798,
       "encoder": "json",
       "name": "ABC-GAN Model 1 Manhattan Distance",
       "version": 1
      }
     },
     "metadata": {
      "scrapbook": {
       "data": true,
       "display": false,
       "name": "ABC-GAN Model 1 Manhattan Distance"
      }
     },
     "output_type": "display_data"
    },
    {
     "data": {
      "application/scrapbook.scrap.json+json": {
       "data": 2.771963069343915,
       "encoder": "json",
       "name": "ABC-GAN Model 1 Euclidean distance",
       "version": 1
      }
     },
     "metadata": {
      "scrapbook": {
       "data": true,
       "display": false,
       "name": "ABC-GAN Model 1 Euclidean distance"
      }
     },
     "output_type": "display_data"
    },
    {
     "data": {
      "application/scrapbook.scrap.json+json": {
       "data": [
        [
         0.38057644136281304,
         0.3853129336871394,
         0.38126632338733313,
         0.3812295583249722,
         0.38231807790911754,
         0.38707209709767976,
         0.38893261914438126,
         0.38171503779546107,
         0.3855680076544767,
         0.3855387910382143,
         0.38833367649172124,
         0.3833810289593508,
         0.3874730954746961,
         0.38111079171352763,
         0.38254121713221356,
         0.3871160855407815,
         0.38290796758654333,
         0.3872924561077975,
         0.38505704322149936,
         0.3856253262980246,
         0.3892585876075124,
         0.38877572979008224,
         0.385490583460239,
         0.38549596106935524,
         0.38045998860561514,
         0.3855213202142138,
         0.3837136295720205,
         0.3852987137232082,
         0.38230307468286745,
         0.38311329178483516,
         0.38276239156161984,
         0.37997071445796476,
         0.38106104683580294,
         0.3879990972490208,
         0.38106757300101324,
         0.38476925005235035,
         0.3815168250968262,
         0.38001465753363556,
         0.38907894064921045,
         0.38505308858721976,
         0.3881924743749975,
         0.37703263891276584,
         0.38351677340802254,
         0.3842305861181055,
         0.3890995001596513,
         0.38582508053706854,
         0.3871706818967007,
         0.3859718023560198,
         0.38185780640386946,
         0.3859202692390348,
         0.3821383628832155,
         0.3891980631576023,
         0.38558352020831066,
         0.3863363294362019,
         0.3813658110141047,
         0.3822859028452004,
         0.3869443741388497,
         0.3843822563497129,
         0.38564887511752827,
         0.37743014699140587,
         0.38457976115011905,
         0.3834694925368829,
         0.38763278638970583,
         0.3825578379017218,
         0.3820999590167954,
         0.38519716694910855,
         0.3813009916455027,
         0.3859969522901755,
         0.3882723152431058,
         0.3895235240148748,
         0.38166117947076694,
         0.3870117865933643,
         0.38439897125037337,
         0.38139793571989433,
         0.37669908463834373,
         0.3869888029493394,
         0.3843917185926684,
         0.3902361770467929,
         0.38282236225973654,
         0.3783961439557516,
         0.38481395643290084,
         0.3828348708496699,
         0.3802280085809799,
         0.38543424311527646,
         0.3880377762515194,
         0.3781962658914744,
         0.3842761626214424,
         0.3815633186217193,
         0.3912238779679218,
         0.380170518812294,
         0.3838721559414797,
         0.38243496082200334,
         0.38388347570076664,
         0.38665142456954243,
         0.3785351071297051,
         0.3827317570930407,
         0.38818083800180425,
         0.38703269212352964,
         0.3794091828191532,
         0.38218083588961876
        ],
        [
         0.5465035589411855,
         0.5529239265248179,
         0.5494218369945884,
         0.5486360257491469,
         0.5478254908695817,
         0.5517842104658485,
         0.5525423953309655,
         0.5500275520607829,
         0.551017970405519,
         0.5538360701873899,
         0.5530700063332915,
         0.550354809872806,
         0.551393993012607,
         0.5462202036753296,
         0.5505685554817319,
         0.5539197297766805,
         0.5503982631489635,
         0.5532563416287303,
         0.5509336030110716,
         0.551651825197041,
         0.553645141236484,
         0.553243943490088,
         0.553058741427958,
         0.5510973645374179,
         0.5474942939355969,
         0.5513262955471874,
         0.5502602504566312,
         0.5521169809624553,
         0.5462511098012328,
         0.5521328324452043,
         0.5514320498332381,
         0.5504153801128269,
         0.5467343172058463,
         0.5535148600116372,
         0.548462120257318,
         0.5511268930509686,
         0.5474620440974831,
         0.5504972590133548,
         0.5532423252239823,
         0.5510913146659732,
         0.5564724953845144,
         0.5466215850785374,
         0.5501650622114539,
         0.5512508297339082,
         0.554855746217072,
         0.5530301241204143,
         0.5513263328000904,
         0.5504550313577056,
         0.5479135697707533,
         0.5519608484581113,
         0.5473145505413413,
         0.5560770837590099,
         0.551338298805058,
         0.5542776843532919,
         0.54818379227072,
         0.5499991254881025,
         0.5514641659334302,
         0.5513545574620367,
         0.5524082167074085,
         0.5457459619268775,
         0.5501877574250102,
         0.5496735161170363,
         0.5519474079832435,
         0.5492756480351091,
         0.5483120499178767,
         0.5527923000976444,
         0.5494641797617078,
         0.5529046265408397,
         0.55527872312814,
         0.5542769310995936,
         0.5508650546893478,
         0.5518674211576581,
         0.5515895837917923,
         0.5487908801063895,
         0.5460815930739045,
         0.5533349106088281,
         0.5516229158267378,
         0.5551000641658902,
         0.5483090030029416,
         0.5478134157136083,
         0.5494047926738859,
         0.5493696147575975,
         0.5484262565150857,
         0.5515536012127995,
         0.5548561813309789,
         0.5467983013018965,
         0.5524676794186234,
         0.5501375677064061,
         0.5571726335212588,
         0.5490774547681212,
         0.5512982131913304,
         0.5507472841069102,
         0.5494643239304423,
         0.5525404391810298,
         0.5493083508685231,
         0.5488148855045438,
         0.5532013801857829,
         0.5531708741560578,
         0.5453016730025411,
         0.5478468121960759
        ],
        [
         10.93007117882371,
         11.058478530496359,
         10.988436739891768,
         10.972720514982939,
         10.956509817391634,
         11.035684209316969,
         11.05084790661931,
         11.000551041215658,
         11.02035940811038,
         11.076721403747797,
         11.06140012666583,
         11.007096197456121,
         11.027879860252142,
         10.924404073506594,
         11.011371109634638,
         11.07839459553361,
         11.007965262979269,
         11.065126832574606,
         11.018672060221434,
         11.03303650394082,
         11.072902824729681,
         11.06487886980176,
         11.06117482855916,
         11.021947290748358,
         10.949885878711939,
         11.026525910943747,
         11.005205009132624,
         11.042339619249105,
         10.925022196024656,
         11.042656648904085,
         11.028640996664762,
         11.008307602256536,
         10.934686344116926,
         11.070297200232744,
         10.96924240514636,
         11.022537861019373,
         10.949240881949663,
         11.009945180267096,
         11.064846504479647,
         11.021826293319464,
         11.129449907690287,
         10.93243170157075,
         11.003301244229078,
         11.025016594678164,
         11.09711492434144,
         11.060602482408285,
         11.026526656001806,
         11.009100627154112,
         10.958271395415068,
         11.039216969162226,
         10.946291010826826,
         11.121541675180197,
         11.02676597610116,
         11.08555368706584,
         10.9636758454144,
         10.999982509762049,
         11.029283318668604,
         11.027091149240732,
         11.048164334148169,
         10.91491923853755,
         11.003755148500204,
         10.993470322340727,
         11.03894815966487,
         10.98551296070218,
         10.966240998357534,
         11.055846001952887,
         10.989283595234156,
         11.058092530816793,
         11.1055744625628,
         11.085538621991873,
         11.017301093786955,
         11.037348423153162,
         11.031791675835848,
         10.97581760212779,
         10.92163186147809,
         11.066698212176561,
         11.032458316534758,
         11.102001283317804,
         10.966180060058832,
         10.956268314272165,
         10.988095853477716,
         10.987392295151949,
         10.968525130301714,
         11.031072024255991,
         11.097123626619577,
         10.935966026037931,
         11.049353588372469,
         11.002751354128122,
         11.143452670425177,
         10.981549095362425,
         11.025964263826609,
         11.014945682138205,
         10.989286478608847,
         11.050808783620596,
         10.986167017370462,
         10.976297710090876,
         11.064027603715658,
         11.063417483121157,
         10.906033460050821,
         10.956936243921518
        ],
        [
         2.7588999306347195,
         2.7760148907638786,
         2.7613993676660864,
         2.761266225212528,
         2.765205518253996,
         2.7823446842462918,
         2.789023553663114,
         2.7630238428050564,
         2.7769335881669073,
         2.7768283743804347,
         2.786875226814869,
         2.7690468719736425,
         2.783785535829569,
         2.760836075226226,
         2.7660123540295825,
         2.782502778222446,
         2.7673379540148084,
         2.7831365618948616,
         2.7750929469893415,
         2.777139990342671,
         2.7901920636669884,
         2.7884609726158347,
         2.7766547623362867,
         2.7766741294914508,
         2.7584777998222685,
         2.7767654571973264,
         2.770247749108446,
         2.7759636659121036,
         2.765151260538445,
         2.7680798102108084,
         2.766811853240548,
         2.7567035185451654,
         2.76065588886338,
         2.785674414747785,
         2.7606795286704804,
         2.7740556953758166,
         2.7623063736552695,
         2.7568629183680335,
         2.789548137778628,
         2.7750786964957217,
         2.786368512508701,
         2.7460249048862098,
         2.769537049429101,
         2.7721132232219716,
         2.7896218387432064,
         2.7778591776296673,
         2.7826989844275314,
         2.778387310495136,
         2.7635405059592286,
         2.7782018257824066,
         2.764555526240034,
         2.789975136654814,
         2.7769894497758205,
         2.7796990104549155,
         2.76175962391409,
         2.765089158942982,
         2.781885598434449,
         2.7726602977996166,
         2.7772247842676627,
         2.747472099918053,
         2.773372535921271,
         2.7693663265696107,
         2.7843591233521074,
         2.7660724426584413,
         2.764416607592985,
         2.775597834518209,
         2.7615249107893365,
         2.7784778289206327,
         2.786655038726917,
         2.7911414296480026,
         2.762828910630432,
         2.7821279143611077,
         2.7727205818487133,
         2.761875941167142,
         2.7448099556739582,
         2.78204530139011,
         2.7726944245360627,
         2.7936935302455526,
         2.767028594936223,
         2.7509858013292314,
         2.7742168496096364,
         2.767073800424087,
         2.7576367004410853,
         2.7764518476475564,
         2.7858132609761173,
         2.750259136486867,
         2.7722776290315596,
         2.762474682677542,
         2.7972267622340588,
         2.757428217786617,
         2.7708199361975137,
         2.7656281775466613,
         2.770860789360471,
         2.780832337878508,
         2.7514908945141183,
         2.766701129840521,
         2.78632675040744,
         2.782203055578545,
         2.7546657975847206,
         2.76470915609443
        ]
       ],
       "encoder": "json",
       "name": "ABC_GAN_1 Metrics",
       "version": 1
      }
     },
     "metadata": {
      "scrapbook": {
       "data": true,
       "display": false,
       "name": "ABC_GAN_1 Metrics"
      }
     },
     "output_type": "display_data"
    },
    {
     "name": "stdout",
     "output_type": "stream",
     "text": [
      "MSE\n",
      "0.3841955067586159\n"
     ]
    }
   ],
   "source": [
    "ABC_GAN1_metrics=ABC_train_test2.test_generator(gen,test_data,prior_model,variance,bias,\"1\",device)\n",
    "sb.glue(\"ABC_GAN_1 Metrics\",ABC_GAN1_metrics)\n",
    "\n",
    "print(\"MSE\")\n",
    "print(mean(ABC_GAN1_metrics[0]))"
   ]
  },
  {
   "cell_type": "code",
   "execution_count": 14,
   "id": "eb22ce5c",
   "metadata": {
    "execution": {
     "iopub.execute_input": "2022-06-22T15:05:47.473808Z",
     "iopub.status.busy": "2022-06-22T15:05:47.473060Z",
     "iopub.status.idle": "2022-06-22T15:05:48.142128Z",
     "shell.execute_reply": "2022-06-22T15:05:48.142558Z"
    },
    "papermill": {
     "duration": 0.713579,
     "end_time": "2022-06-22T15:05:48.142783",
     "exception": false,
     "start_time": "2022-06-22T15:05:47.429204",
     "status": "completed"
    },
    "tags": []
   },
   "outputs": [
    {
     "data": {
      "image/png": "[encoded data removed]",
      "text/plain": [
       "<Figure size 432x288 with 1 Axes>"
      ]
     },
     "metadata": {
      "needs_background": "light"
     },
     "output_type": "display_data"
    },
    {
     "data": {
      "image/png": "[encoded data removed]",
      "text/plain": [
       "<Figure size 432x288 with 1 Axes>"
      ]
     },
     "metadata": {
      "needs_background": "light"
     },
     "output_type": "display_data"
    },
    {
     "data": {
      "image/png": "[encoded data removed]",
      "text/plain": [
       "<Figure size 432x288 with 1 Axes>"
      ]
     },
     "metadata": {
      "needs_background": "light"
     },
     "output_type": "display_data"
    },
    {
     "data": {
      "image/png": "[encoded data removed]",
      "text/plain": [
       "<Figure size 432x288 with 1 Axes>"
      ]
     },
     "metadata": {
      "needs_background": "light"
     },
     "output_type": "display_data"
    }
   ],
   "source": [
    "sanityChecks.discProbVsError(train_data,disc,device)\n",
    "sanityChecks.discProbVsError(test_data,disc,device)"
   ]
  },
  {
   "cell_type": "markdown",
   "id": "130f3a4d",
   "metadata": {
    "id": "130f3a4d",
    "papermill": {
     "duration": 0.033788,
     "end_time": "2022-06-22T15:05:48.211860",
     "exception": false,
     "start_time": "2022-06-22T15:05:48.178072",
     "status": "completed"
    },
    "tags": []
   },
   "source": [
    "# ABC - GAN Model with skip connection"
   ]
  },
  {
   "cell_type": "code",
   "execution_count": 15,
   "id": "4e43dad1",
   "metadata": {
    "execution": {
     "iopub.execute_input": "2022-06-22T15:05:48.301028Z",
     "iopub.status.busy": "2022-06-22T15:05:48.300025Z",
     "iopub.status.idle": "2022-06-22T15:05:48.302963Z",
     "shell.execute_reply": "2022-06-22T15:05:48.303517Z"
    },
    "id": "4e43dad1",
    "papermill": {
     "duration": 0.056541,
     "end_time": "2022-06-22T15:05:48.303789",
     "exception": false,
     "start_time": "2022-06-22T15:05:48.247248",
     "status": "completed"
    },
    "tags": []
   },
   "outputs": [],
   "source": [
    "#Generator\n",
    "gen3 = network.GeneratorWithSkipConnection(n_features+1).to(device)\n",
    "constraints=network.weightConstraint()\n",
    "#Discriminator \n",
    "disc3 = network.Discriminator(n_features+1).to(device)\n",
    "\n",
    "criterion = torch.nn.BCELoss()\n",
    "gen_opt = torch.optim.Adam(gen3.parameters(), lr=0.001, betas=(0.5, 0.999))\n",
    "disc_opt = torch.optim.Adam(disc3.parameters(), lr=0.001, betas=(0.5, 0.999))\n"
   ]
  },
  {
   "cell_type": "code",
   "execution_count": 16,
   "id": "26acbc37",
   "metadata": {
    "execution": {
     "iopub.execute_input": "2022-06-22T15:05:48.394784Z",
     "iopub.status.busy": "2022-06-22T15:05:48.393913Z",
     "iopub.status.idle": "2022-06-22T15:06:52.563965Z",
     "shell.execute_reply": "2022-06-22T15:06:52.564753Z"
    },
    "id": "26acbc37",
    "papermill": {
     "duration": 64.219167,
     "end_time": "2022-06-22T15:06:52.565021",
     "exception": false,
     "start_time": "2022-06-22T15:05:48.345854",
     "status": "completed"
    },
    "tags": []
   },
   "outputs": [
    {
     "data": {
      "image/png": "[encoded data removed]",
      "text/plain": [
       "<Figure size 432x288 with 1 Axes>"
      ]
     },
     "metadata": {
      "needs_background": "light"
     },
     "output_type": "display_data"
    },
    {
     "data": {
      "image/png": "[encoded data removed]",
      "text/plain": [
       "<Figure size 432x288 with 1 Axes>"
      ]
     },
     "metadata": {
      "needs_background": "light"
     },
     "output_type": "display_data"
    }
   ],
   "source": [
    "ABC_train_test2.training_GAN_skip_connection(disc3,gen3,disc_opt,gen_opt,train_data,batch_size,n_epochs,criterion,prior_model,variance,bias,device)"
   ]
  },
  {
   "cell_type": "code",
   "execution_count": 17,
   "id": "c5e0717b",
   "metadata": {
    "execution": {
     "iopub.execute_input": "2022-06-22T15:06:52.661116Z",
     "iopub.status.busy": "2022-06-22T15:06:52.660149Z",
     "iopub.status.idle": "2022-06-22T15:06:53.400919Z",
     "shell.execute_reply": "2022-06-22T15:06:53.401416Z"
    },
    "id": "c5e0717b",
    "papermill": {
     "duration": 0.791478,
     "end_time": "2022-06-22T15:06:53.401672",
     "exception": false,
     "start_time": "2022-06-22T15:06:52.610194",
     "status": "completed"
    },
    "tags": []
   },
   "outputs": [
    {
     "data": {
      "application/scrapbook.scrap.json+json": {
       "data": 0.43539578525265804,
       "encoder": "json",
       "name": "ABC-GAN Model 3 MSE",
       "version": 1
      }
     },
     "metadata": {
      "scrapbook": {
       "data": true,
       "display": false,
       "name": "ABC-GAN Model 3 MSE"
      }
     },
     "output_type": "display_data"
    },
    {
     "data": {
      "application/scrapbook.scrap.json+json": {
       "data": 0.5668899050652981,
       "encoder": "json",
       "name": "ABC-GAN Model 3 MAE",
       "version": 1
      }
     },
     "metadata": {
      "scrapbook": {
       "data": true,
       "display": false,
       "name": "ABC-GAN Model 3 MAE"
      }
     },
     "output_type": "display_data"
    },
    {
     "data": {
      "application/scrapbook.scrap.json+json": {
       "data": 11.337798101305962,
       "encoder": "json",
       "name": "ABC-GAN Model 3 Manhattan Distance",
       "version": 1
      }
     },
     "metadata": {
      "scrapbook": {
       "data": true,
       "display": false,
       "name": "ABC-GAN Model 3 Manhattan Distance"
      }
     },
     "output_type": "display_data"
    },
    {
     "data": {
      "application/scrapbook.scrap.json+json": {
       "data": 2.9508900025780807,
       "encoder": "json",
       "name": "ABC-GAN Model 3 Euclidean distance",
       "version": 1
      }
     },
     "metadata": {
      "scrapbook": {
       "data": true,
       "display": false,
       "name": "ABC-GAN Model 3 Euclidean distance"
      }
     },
     "output_type": "display_data"
    },
    {
     "data": {
      "application/scrapbook.scrap.json+json": {
       "data": [
        [
         0.4385941420448473,
         0.431193497658923,
         0.4354345673026659,
         0.4320334372181822,
         0.43572812674622147,
         0.4372366239324501,
         0.44232312573671717,
         0.44071940653085784,
         0.4385902541286084,
         0.43704184431986903,
         0.43751116038079163,
         0.4362216011434506,
         0.43813198398066344,
         0.439306316467194,
         0.44448703827238345,
         0.433603622906796,
         0.43818521902156815,
         0.4378131992987404,
         0.4350332138549902,
         0.4303323458783154,
         0.4333281170974274,
         0.43778582557963686,
         0.4318157241546743,
         0.43652309538926265,
         0.43595399717135325,
         0.4338568142443913,
         0.4373043707739422,
         0.4333413223609721,
         0.43648602206630926,
         0.43890499673013306,
         0.4348917613960337,
         0.43776313233155006,
         0.43339563668602726,
         0.4373525677988971,
         0.4339978674494677,
         0.43955171703803175,
         0.4382996880619886,
         0.43990097086683255,
         0.42863484768336,
         0.4314852442483712,
         0.43772451068779217,
         0.4372936251062585,
         0.4410670050376796,
         0.4317457858510945,
         0.4326177140788259,
         0.43101231972250653,
         0.43062076322740667,
         0.43615255889464616,
         0.43311427890386633,
         0.4320013586980065,
         0.4412564554645849,
         0.4262004327298328,
         0.43475292579900043,
         0.43427632654640336,
         0.4350254340819359,
         0.43344859308863837,
         0.4348834313625133,
         0.43519520503637465,
         0.43170469733297845,
         0.43744101352857145,
         0.4289043501726891,
         0.4300797214041497,
         0.4273183977133709,
         0.4347740474824063,
         0.43072564362589477,
         0.4381629313583627,
         0.4323285876869799,
         0.43281176707548674,
         0.43875342961386254,
         0.4339523172490872,
         0.43917335300049576,
         0.43879161878668976,
         0.44311079864139735,
         0.44008458580797144,
         0.42488344236428705,
         0.42966024016206533,
         0.43727524008375307,
         0.4304128184245254,
         0.4378713083100273,
         0.43968139332833667,
         0.433902234612445,
         0.43373657205777166,
         0.4374075450508162,
         0.43991285519878254,
         0.43606542494327716,
         0.43674621501786354,
         0.4361637871743554,
         0.4294997107622195,
         0.43200805780852447,
         0.4395476968371554,
         0.4330415261430507,
         0.43376020260989306,
         0.4359878510774358,
         0.43784831259183343,
         0.4323191430854426,
         0.4328550832804307,
         0.43350551796372266,
         0.43727526863202276,
         0.4380258462654812,
         0.44358480072962864
        ],
        [
         0.5691081093624234,
         0.565101726539433,
         0.5686378935351968,
         0.5655109161511064,
         0.567961316742003,
         0.5684615338221193,
         0.5707802901044488,
         0.5701570810750127,
         0.5684267135336996,
         0.5674844907596708,
         0.5680925691500306,
         0.5681444780901075,
         0.5676628420129418,
         0.5703572237864136,
         0.5728196235373616,
         0.5653751211240887,
         0.567561567015946,
         0.5688967319205404,
         0.5669228786602616,
         0.5646060789003968,
         0.5670429343357682,
         0.5661373684182763,
         0.5661213511601091,
         0.568355999328196,
         0.5671042548492551,
         0.5653902465477586,
         0.5680490041151642,
         0.5671756418421865,
         0.5678154790773988,
         0.5679855542257428,
         0.5650655696168542,
         0.5691664533689618,
         0.5643479632213712,
         0.5662034617736935,
         0.5691375272348523,
         0.5708763414993883,
         0.5675149442628026,
         0.5691847214475274,
         0.5628424623981119,
         0.5635802010074258,
         0.5681812772527337,
         0.5670637415722013,
         0.5701400147750973,
         0.5637951428070664,
         0.5639628449454903,
         0.5650142008438707,
         0.563001318462193,
         0.5668848635628819,
         0.5659382240846753,
         0.5647176222875714,
         0.570764266140759,
         0.5617778832092881,
         0.5668184349313379,
         0.5667602712288499,
         0.5662568280473351,
         0.5659349272027612,
         0.5666262270882726,
         0.569030130840838,
         0.5647837007418275,
         0.5669181609526277,
         0.5642371514812112,
         0.5645028570666909,
         0.5626683482900262,
         0.5654866391792893,
         0.5664168255403638,
         0.5696431728079915,
         0.5664802866056562,
         0.5649794125929475,
         0.5681989507749676,
         0.5659152934327721,
         0.5674490364268422,
         0.5663677366450429,
         0.5704450244084001,
         0.5705095792189241,
         0.5594607437029481,
         0.564033936150372,
         0.5681494453921914,
         0.5622287200763821,
         0.5676907630637288,
         0.5693800458684564,
         0.5674033449962735,
         0.5672492722049356,
         0.5679719487205148,
         0.5702778333798051,
         0.5679839754477143,
         0.5678641753271222,
         0.5666134217754006,
         0.5621485220268368,
         0.5643179731443524,
         0.5699282133951783,
         0.5672644661739469,
         0.5656981954351068,
         0.5669331530109047,
         0.5691365676000715,
         0.5653588699176908,
         0.5637692200019956,
         0.5642071614041925,
         0.5671104790642858,
         0.567455947585404,
         0.5705170506611467
        ],
        [
         11.382162187248468,
         11.30203453078866,
         11.372757870703936,
         11.310218323022127,
         11.35922633484006,
         11.369230676442385,
         11.415605802088976,
         11.403141621500254,
         11.36853427067399,
         11.349689815193415,
         11.361851383000612,
         11.362889561802149,
         11.353256840258837,
         11.407144475728273,
         11.456392470747232,
         11.307502422481775,
         11.351231340318918,
         11.377934638410807,
         11.338457573205233,
         11.292121578007936,
         11.340858686715364,
         11.322747368365526,
         11.32242702320218,
         11.367119986563921,
         11.342085096985102,
         11.307804930955172,
         11.360980082303286,
         11.343512836843729,
         11.356309581547976,
         11.359711084514856,
         11.301311392337084,
         11.383329067379236,
         11.286959264427423,
         11.324069235473871,
         11.382750544697046,
         11.417526829987764,
         11.350298885256052,
         11.383694428950548,
         11.256849247962236,
         11.271604020148516,
         11.363625545054674,
         11.341274831444025,
         11.402800295501947,
         11.275902856141329,
         11.279256898909807,
         11.300284016877413,
         11.26002636924386,
         11.337697271257639,
         11.318764481693506,
         11.294352445751429,
         11.41528532281518,
         11.235557664185762,
         11.336368698626757,
         11.335205424576998,
         11.325136560946703,
         11.318698544055223,
         11.332524541765451,
         11.380602616816759,
         11.29567401483655,
         11.338363219052553,
         11.284743029624224,
         11.290057141333818,
         11.253366965800524,
         11.309732783585787,
         11.328336510807276,
         11.39286345615983,
         11.329605732113123,
         11.29958825185895,
         11.363979015499353,
         11.318305868655443,
         11.348980728536844,
         11.327354732900858,
         11.408900488168001,
         11.410191584378481,
         11.189214874058962,
         11.28067872300744,
         11.362988907843828,
         11.244574401527643,
         11.353815261274576,
         11.387600917369127,
         11.34806689992547,
         11.344985444098711,
         11.359438974410295,
         11.405556667596102,
         11.359679508954287,
         11.357283506542444,
         11.332268435508013,
         11.242970440536737,
         11.286359462887049,
         11.398564267903566,
         11.345289323478937,
         11.313963908702135,
         11.338663060218096,
         11.382731352001429,
         11.307177398353815,
         11.275384400039911,
         11.284143228083849,
         11.342209581285715,
         11.349118951708078,
         11.410341013222933
        ],
        [
         2.9617364570293803,
         2.9366426328680952,
         2.9510491941093284,
         2.9395014448650376,
         2.9520437894659404,
         2.957149383891352,
         2.974300340371554,
         2.9689035232922536,
         2.961723329849054,
         2.95649063695412,
         2.9580776202824417,
         2.9537149528803575,
         2.9601756163466497,
         2.9641400657431625,
         2.9815668306190397,
         2.9448382736809027,
         2.9603554483256502,
         2.9590985090014845,
         2.949688844115563,
         2.933708730867178,
         2.943902570050264,
         2.959006000601002,
         2.9387607053132934,
         2.954735505554643,
         2.9528088227020497,
         2.94569792831645,
         2.957378470111467,
         2.943947426028434,
         2.9546100320221926,
         2.962785840151573,
         2.9492092546851723,
         2.9589293074744116,
         2.94413191513569,
         2.9575414377448612,
         2.9461767341742,
         2.9649678481832877,
         2.960742096373774,
         2.9661455489130417,
         2.9279168283384007,
         2.9376359347215617,
         2.9587987788553387,
         2.9573421347766256,
         2.970074090111826,
         2.9385227099721196,
         2.9414884466161886,
         2.9360256120221653,
         2.9346916813437374,
         2.953481196468487,
         2.943176103816645,
         2.9393923137206657,
         2.9707118859444615,
         2.919590494332494,
         2.948738461779886,
         2.947121736699736,
         2.949662469103663,
         2.9443117806667094,
         2.949181009577111,
         2.950237973575605,
         2.938382879520565,
         2.957840474158711,
         2.928837141845511,
         2.9328474948559795,
         2.9234171707553847,
         2.9488100904683785,
         2.935049040905091,
         2.960280160249576,
         2.940505356862932,
         2.9421480828656015,
         2.962274226380341,
         2.946022122283155,
         2.9636914583016085,
         2.962403142000392,
         2.9769474252710517,
         2.966764519836286,
         2.915076130615758,
         2.931416859343158,
         2.9572799667388714,
         2.9339830211660236,
         2.9592948765205107,
         2.9654051774701435,
         2.9458521164934433,
         2.9452897041132355,
         2.957727320260663,
         2.966185615226338,
         2.9531861605502523,
         2.9554905346418,
         2.953519213326216,
         2.930869191083831,
         2.939415104433276,
         2.9649542891490093,
         2.942928902107731,
         2.945369934693749,
         2.9529234703169527,
         2.9592171687520112,
         2.9404732377134217,
         2.9422953056429626,
         2.9445051127947552,
         2.9572800632744363,
         2.959817042539897,
         2.978539241741255
        ]
       ],
       "encoder": "json",
       "name": "ABC_GAN_3 Metrics",
       "version": 1
      }
     },
     "metadata": {
      "scrapbook": {
       "data": true,
       "display": false,
       "name": "ABC_GAN_3 Metrics"
      }
     },
     "output_type": "display_data"
    },
    {
     "name": "stdout",
     "output_type": "stream",
     "text": [
      "MSE\n",
      "0.43539578525265804\n"
     ]
    }
   ],
   "source": [
    "ABC_GAN3_metrics=ABC_train_test2.test_generator(gen3,test_data,prior_model,variance,bias,\"3\",device)\n",
    "sb.glue(\"ABC_GAN_3 Metrics\",ABC_GAN3_metrics)\n",
    "\n",
    "print(\"MSE\")\n",
    "print(mean(ABC_GAN3_metrics[0]))"
   ]
  },
  {
   "cell_type": "code",
   "execution_count": 18,
   "id": "c8e46b48",
   "metadata": {
    "execution": {
     "iopub.execute_input": "2022-06-22T15:06:53.492693Z",
     "iopub.status.busy": "2022-06-22T15:06:53.491990Z",
     "iopub.status.idle": "2022-06-22T15:06:54.671806Z",
     "shell.execute_reply": "2022-06-22T15:06:54.672363Z"
    },
    "id": "c8e46b48",
    "papermill": {
     "duration": 1.229567,
     "end_time": "2022-06-22T15:06:54.672576",
     "exception": false,
     "start_time": "2022-06-22T15:06:53.443009",
     "status": "completed"
    },
    "tags": []
   },
   "outputs": [
    {
     "data": {
      "image/png": "[encoded data removed]",
      "text/plain": [
       "<Figure size 432x288 with 1 Axes>"
      ]
     },
     "metadata": {
      "needs_background": "light"
     },
     "output_type": "display_data"
    },
    {
     "data": {
      "image/png": "[encoded data removed]",
      "text/plain": [
       "<Figure size 432x288 with 1 Axes>"
      ]
     },
     "metadata": {
      "needs_background": "light"
     },
     "output_type": "display_data"
    },
    {
     "data": {
      "image/png": "[encoded data removed]",
      "text/plain": [
       "<Figure size 432x288 with 1 Axes>"
      ]
     },
     "metadata": {
      "needs_background": "light"
     },
     "output_type": "display_data"
    },
    {
     "data": {
      "image/png": "[encoded data removed]",
      "text/plain": [
       "<Figure size 432x288 with 1 Axes>"
      ]
     },
     "metadata": {
      "needs_background": "light"
     },
     "output_type": "display_data"
    }
   ],
   "source": [
    "sanityChecks.discProbVsError(train_data,disc3,device)\n",
    "sanityChecks.discProbVsError(test_data,disc3,device)"
   ]
  },
  {
   "cell_type": "markdown",
   "id": "a5bd74c3",
   "metadata": {
    "id": "a5bd74c3",
    "papermill": {
     "duration": 0.066011,
     "end_time": "2022-06-22T15:06:54.790601",
     "exception": false,
     "start_time": "2022-06-22T15:06:54.724590",
     "status": "completed"
    },
    "tags": []
   },
   "source": [
    "## Skip Connection Model Analysis - ABC-GAN "
   ]
  },
  {
   "cell_type": "markdown",
   "id": "5744a8bf",
   "metadata": {
    "id": "5744a8bf",
    "papermill": {
     "duration": 0.092794,
     "end_time": "2022-06-22T15:06:54.946542",
     "exception": false,
     "start_time": "2022-06-22T15:06:54.853748",
     "status": "completed"
    },
    "tags": []
   },
   "source": [
    "### Weight Analysis \n",
    "\n",
    "Study the weights of the skip connection layer\n",
    "\n",
    "Equation of the skip connection is \n",
    "\n",
    "$output = y_{gan} * w + y_{abc} * (1-w)$"
   ]
  },
  {
   "cell_type": "code",
   "execution_count": 19,
   "id": "52c31dea",
   "metadata": {
    "execution": {
     "iopub.execute_input": "2022-06-22T15:06:55.086203Z",
     "iopub.status.busy": "2022-06-22T15:06:55.084183Z",
     "iopub.status.idle": "2022-06-22T15:06:55.091950Z",
     "shell.execute_reply": "2022-06-22T15:06:55.092610Z"
    },
    "id": "52c31dea",
    "papermill": {
     "duration": 0.0879,
     "end_time": "2022-06-22T15:06:55.092976",
     "exception": false,
     "start_time": "2022-06-22T15:06:55.005076",
     "status": "completed"
    },
    "tags": []
   },
   "outputs": [
    {
     "name": "stdout",
     "output_type": "stream",
     "text": [
      "Weight of the node at skip connection\n",
      "Parameter containing:\n",
      "tensor([[0.2832]], requires_grad=True)\n"
     ]
    },
    {
     "data": {
      "application/scrapbook.scrap.json+json": {
       "data": 0.28321120142936707,
       "encoder": "json",
       "name": "Skip Connection Weight",
       "version": 1
      }
     },
     "metadata": {
      "scrapbook": {
       "data": true,
       "display": false,
       "name": "Skip Connection Weight"
      }
     },
     "output_type": "display_data"
    }
   ],
   "source": [
    "print(\"Weight of the node at skip connection\")\n",
    "for name,param in gen3.named_parameters():\n",
    "    if(name == \"skipNode.weight\"):\n",
    "        print(param)\n",
    "        sb.glue(\"Skip Connection Weight\",param.item())"
   ]
  }
 ],
 "metadata": {
  "colab": {
   "collapsed_sections": [],
   "name": "ABC_GAN_Model-Catboost_Pre-gen.ipynb",
   "provenance": []
  },
  "interpreter": {
   "hash": "31f2aee4e71d21fbe5cf8b01ff0e069b9275f58929596ceb00d14d90e3e16cd6"
  },
  "kernelspec": {
   "display_name": "Python 3 (ipykernel)",
   "language": "python",
   "name": "python3"
  },
  "language_info": {
   "codemirror_mode": {
    "name": "ipython",
    "version": 3
   },
   "file_extension": ".py",
   "mimetype": "text/x-python",
   "name": "python",
   "nbconvert_exporter": "python",
   "pygments_lexer": "ipython3",
   "version": "3.8.3"
  },
  "papermill": {
   "default_parameters": {},
   "duration": 130.488205,
   "end_time": "2022-06-22T15:06:56.830750",
   "environment_variables": {},
   "exception": null,
   "input_path": "ABC_GAN-TabNet.ipynb",
   "output_path": "./ABC_GAN_TabNet/ABC-GAN_output_7_8.ipynb",
   "parameters": {
    "bias": 0.01,
    "variance": 0.01
   },
   "start_time": "2022-06-22T15:04:46.342545",
   "version": "2.3.3"
  }
 },
 "nbformat": 4,
 "nbformat_minor": 5
}