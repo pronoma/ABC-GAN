{
 "cells": [
  {
   "cell_type": "markdown",
   "id": "622780e6",
   "metadata": {
    "id": "622780e6",
    "papermill": {
     "duration": 0.024867,
     "end_time": "2022-06-22T12:21:38.149618",
     "exception": false,
     "start_time": "2022-06-22T12:21:38.124751",
     "status": "completed"
    },
    "tags": []
   },
   "source": [
    "## Import Libraries "
   ]
  },
  {
   "cell_type": "code",
   "execution_count": 1,
   "id": "a62397e3",
   "metadata": {
    "execution": {
     "iopub.execute_input": "2022-06-22T12:21:38.206364Z",
     "iopub.status.busy": "2022-06-22T12:21:38.204155Z",
     "iopub.status.idle": "2022-06-22T12:21:38.208663Z",
     "shell.execute_reply": "2022-06-22T12:21:38.209217Z"
    },
    "id": "a62397e3",
    "papermill": {
     "duration": 0.037687,
     "end_time": "2022-06-22T12:21:38.209689",
     "exception": false,
     "start_time": "2022-06-22T12:21:38.172002",
     "status": "completed"
    },
    "tags": []
   },
   "outputs": [],
   "source": [
    "import warnings\n",
    "import sys\n",
    "sys.path.insert(0, '../../src')\n",
    "warnings.filterwarnings('ignore')"
   ]
  },
  {
   "cell_type": "code",
   "execution_count": 2,
   "id": "d6a4e155",
   "metadata": {
    "execution": {
     "iopub.execute_input": "2022-06-22T12:21:38.248809Z",
     "iopub.status.busy": "2022-06-22T12:21:38.247961Z",
     "iopub.status.idle": "2022-06-22T12:21:44.594047Z",
     "shell.execute_reply": "2022-06-22T12:21:44.594668Z"
    },
    "id": "d6a4e155",
    "papermill": {
     "duration": 6.367082,
     "end_time": "2022-06-22T12:21:44.594932",
     "exception": false,
     "start_time": "2022-06-22T12:21:38.227850",
     "status": "completed"
    },
    "tags": []
   },
   "outputs": [],
   "source": [
    "import ABC_train_test2\n",
    "import friedman3Dataset\n",
    "import network\n",
    "import dataset\n",
    "import sanityChecks\n",
    "import torch \n",
    "import scrapbook as sb\n",
    "from statistics import mean \n",
    "import catboost as ctb \n",
    "from sklearn.model_selection import train_test_split\n",
    "from sklearn.metrics import mean_squared_error,mean_absolute_error\n",
    "import numpy as np\n",
    "from pytorch_tabnet.tab_model import TabNetRegressor"
   ]
  },
  {
   "cell_type": "markdown",
   "id": "2fa5b0f7",
   "metadata": {
    "id": "2fa5b0f7",
    "papermill": {
     "duration": 0.018251,
     "end_time": "2022-06-22T12:21:44.635048",
     "exception": false,
     "start_time": "2022-06-22T12:21:44.616797",
     "status": "completed"
    },
    "tags": []
   },
   "source": [
    "## Parameters "
   ]
  },
  {
   "cell_type": "code",
   "execution_count": 3,
   "id": "783186fb",
   "metadata": {
    "execution": {
     "iopub.execute_input": "2022-06-22T12:21:44.680283Z",
     "iopub.status.busy": "2022-06-22T12:21:44.679218Z",
     "iopub.status.idle": "2022-06-22T12:21:44.681582Z",
     "shell.execute_reply": "2022-06-22T12:21:44.682233Z"
    },
    "id": "783186fb",
    "papermill": {
     "duration": 0.026433,
     "end_time": "2022-06-22T12:21:44.682503",
     "exception": false,
     "start_time": "2022-06-22T12:21:44.656070",
     "status": "completed"
    },
    "tags": [
     "parameters"
    ]
   },
   "outputs": [],
   "source": [
    "variance = 1\n",
    "bias = 1 "
   ]
  },
  {
   "cell_type": "code",
   "execution_count": 4,
   "id": "b490c7e6",
   "metadata": {
    "execution": {
     "iopub.execute_input": "2022-06-22T12:21:44.721844Z",
     "iopub.status.busy": "2022-06-22T12:21:44.720951Z",
     "iopub.status.idle": "2022-06-22T12:21:44.723428Z",
     "shell.execute_reply": "2022-06-22T12:21:44.723882Z"
    },
    "papermill": {
     "duration": 0.022142,
     "end_time": "2022-06-22T12:21:44.724241",
     "exception": false,
     "start_time": "2022-06-22T12:21:44.702099",
     "status": "completed"
    },
    "tags": [
     "injected-parameters"
    ]
   },
   "outputs": [],
   "source": [
    "# Parameters\n",
    "variance = 0.01\n",
    "bias = 0\n"
   ]
  },
  {
   "cell_type": "markdown",
   "id": "391cdbfd",
   "metadata": {
    "id": "391cdbfd",
    "papermill": {
     "duration": 0.021962,
     "end_time": "2022-06-22T12:21:44.761577",
     "exception": false,
     "start_time": "2022-06-22T12:21:44.739615",
     "status": "completed"
    },
    "tags": []
   },
   "source": [
    "## Dataset \n"
   ]
  },
  {
   "cell_type": "code",
   "execution_count": 5,
   "id": "5b51f161",
   "metadata": {
    "execution": {
     "iopub.execute_input": "2022-06-22T12:21:44.797698Z",
     "iopub.status.busy": "2022-06-22T12:21:44.796953Z",
     "iopub.status.idle": "2022-06-22T12:21:44.799024Z",
     "shell.execute_reply": "2022-06-22T12:21:44.799505Z"
    },
    "id": "5b51f161",
    "papermill": {
     "duration": 0.020953,
     "end_time": "2022-06-22T12:21:44.799809",
     "exception": false,
     "start_time": "2022-06-22T12:21:44.778856",
     "status": "completed"
    },
    "tags": []
   },
   "outputs": [],
   "source": [
    "#Parameters \n",
    "n_features = 4\n",
    "n_samples= 100\n",
    "n_target = 1"
   ]
  },
  {
   "cell_type": "code",
   "execution_count": 6,
   "id": "5d6eced4",
   "metadata": {
    "execution": {
     "iopub.execute_input": "2022-06-22T12:21:44.832089Z",
     "iopub.status.busy": "2022-06-22T12:21:44.830545Z",
     "iopub.status.idle": "2022-06-22T12:21:44.843796Z",
     "shell.execute_reply": "2022-06-22T12:21:44.844306Z"
    },
    "id": "5d6eced4",
    "papermill": {
     "duration": 0.03125,
     "end_time": "2022-06-22T12:21:44.844521",
     "exception": false,
     "start_time": "2022-06-22T12:21:44.813271",
     "status": "completed"
    },
    "tags": []
   },
   "outputs": [
    {
     "name": "stdout",
     "output_type": "stream",
     "text": [
      "          X1           X2        X3        X4         Y\n",
      "0   9.210225  1406.537542  0.034424  4.187325  1.493737\n",
      "1  92.235136  1738.495162  0.855068  8.543738  1.475544\n",
      "2  31.988547  1384.004025  0.746840  4.422493  1.570336\n",
      "3   0.745229  1306.699738  0.200777  1.860726  1.530757\n",
      "4  73.580685   309.828242  0.493636  4.925500  1.146773\n"
     ]
    }
   ],
   "source": [
    "X,Y = friedman3Dataset.friedman3_data(n_samples)"
   ]
  },
  {
   "cell_type": "code",
   "execution_count": 7,
   "id": "fe007438",
   "metadata": {
    "execution": {
     "iopub.execute_input": "2022-06-22T12:21:44.883346Z",
     "iopub.status.busy": "2022-06-22T12:21:44.882476Z",
     "iopub.status.idle": "2022-06-22T12:21:44.885857Z",
     "shell.execute_reply": "2022-06-22T12:21:44.886547Z"
    },
    "id": "fe007438",
    "papermill": {
     "duration": 0.026836,
     "end_time": "2022-06-22T12:21:44.886828",
     "exception": false,
     "start_time": "2022-06-22T12:21:44.859992",
     "status": "completed"
    },
    "tags": []
   },
   "outputs": [],
   "source": [
    "#Train test split for dataset \n",
    "X_train,X_test,Y_train,Y_test = train_test_split(X,Y,test_size = 0.2)\n",
    "train_data = dataset.CustomDataset(X_train,Y_train)\n",
    "test_data = dataset.CustomDataset(X_test,Y_test)\n"
   ]
  },
  {
   "cell_type": "markdown",
   "id": "a9a1af34",
   "metadata": {
    "id": "a9a1af34",
    "papermill": {
     "duration": 0.015853,
     "end_time": "2022-06-22T12:21:44.920244",
     "exception": false,
     "start_time": "2022-06-22T12:21:44.904391",
     "status": "completed"
    },
    "tags": []
   },
   "source": [
    "## Training Parameters "
   ]
  },
  {
   "cell_type": "code",
   "execution_count": 8,
   "id": "952b7fc8",
   "metadata": {
    "execution": {
     "iopub.execute_input": "2022-06-22T12:21:44.952515Z",
     "iopub.status.busy": "2022-06-22T12:21:44.951758Z",
     "iopub.status.idle": "2022-06-22T12:21:44.953725Z",
     "shell.execute_reply": "2022-06-22T12:21:44.954271Z"
    },
    "id": "952b7fc8",
    "papermill": {
     "duration": 0.019965,
     "end_time": "2022-06-22T12:21:44.954482",
     "exception": false,
     "start_time": "2022-06-22T12:21:44.934517",
     "status": "completed"
    },
    "tags": []
   },
   "outputs": [],
   "source": [
    "batch_size = 32\n",
    "n_epochs = 1000\n",
    "#Select the device \n",
    "device = torch.device('cuda' if torch.cuda.is_available() else 'cpu')"
   ]
  },
  {
   "cell_type": "markdown",
   "id": "a95e1600",
   "metadata": {
    "id": "a95e1600",
    "papermill": {
     "duration": 0.016455,
     "end_time": "2022-06-22T12:21:44.984639",
     "exception": false,
     "start_time": "2022-06-22T12:21:44.968184",
     "status": "completed"
    },
    "tags": []
   },
   "source": [
    "# ABC Pre-generator Model \n",
    "\n",
    "1. The catboost model is used as a pre-generator model for the ABC-GAN. \n",
    "2. The model is first trained on the entire dataset \n",
    "3. It generats X,Y pairs and we add some Gaussian noise with mean 0 and variance 1 to it which is then feed as input to the generator.\n"
   ]
  },
  {
   "cell_type": "code",
   "execution_count": 9,
   "id": "ff8ce7bd",
   "metadata": {
    "execution": {
     "iopub.execute_input": "2022-06-22T12:21:45.026883Z",
     "iopub.status.busy": "2022-06-22T12:21:45.025992Z",
     "iopub.status.idle": "2022-06-22T12:21:55.660328Z",
     "shell.execute_reply": "2022-06-22T12:21:55.661063Z"
    },
    "id": "ff8ce7bd",
    "papermill": {
     "duration": 10.658288,
     "end_time": "2022-06-22T12:21:55.661366",
     "exception": false,
     "start_time": "2022-06-22T12:21:45.003078",
     "status": "completed"
    },
    "tags": []
   },
   "outputs": [
    {
     "name": "stdout",
     "output_type": "stream",
     "text": [
      "Device used : cpu\n"
     ]
    },
    {
     "name": "stdout",
     "output_type": "stream",
     "text": [
      "epoch 0  | loss: 0.94593 | train_mse: 5.919   | train_mae: 1.66515 |  0:00:00s\n",
      "epoch 1  | loss: 0.67337 | train_mse: 3.49663 | train_mae: 1.47827 |  0:00:00s\n",
      "epoch 2  | loss: 0.54434 | train_mse: 2.63205 | train_mae: 1.26771 |  0:00:00s\n"
     ]
    },
    {
     "name": "stdout",
     "output_type": "stream",
     "text": [
      "epoch 3  | loss: 0.4741  | train_mse: 2.48018 | train_mae: 1.19098 |  0:00:00s\n",
      "epoch 4  | loss: 0.42493 | train_mse: 1.9601  | train_mae: 1.08699 |  0:00:00s\n",
      "epoch 5  | loss: 0.41285 | train_mse: 2.31401 | train_mae: 1.11287 |  0:00:00s\n"
     ]
    },
    {
     "name": "stdout",
     "output_type": "stream",
     "text": [
      "epoch 6  | loss: 0.3948  | train_mse: 1.72434 | train_mae: 0.96721 |  0:00:00s\n",
      "epoch 7  | loss: 0.56677 | train_mse: 1.71838 | train_mae: 0.97196 |  0:00:00s\n",
      "epoch 8  | loss: 0.43257 | train_mse: 1.13629 | train_mae: 0.82627 |  0:00:00s\n"
     ]
    },
    {
     "name": "stdout",
     "output_type": "stream",
     "text": [
      "epoch 9  | loss: 0.37648 | train_mse: 0.73331 | train_mae: 0.65963 |  0:00:00s\n",
      "epoch 10 | loss: 0.29423 | train_mse: 1.01547 | train_mae: 0.73399 |  0:00:00s\n",
      "epoch 11 | loss: 0.256   | train_mse: 1.37533 | train_mae: 0.89025 |  0:00:01s\n"
     ]
    },
    {
     "name": "stdout",
     "output_type": "stream",
     "text": [
      "epoch 12 | loss: 0.26277 | train_mse: 1.12721 | train_mae: 0.77412 |  0:00:01s\n",
      "epoch 13 | loss: 0.22582 | train_mse: 0.52669 | train_mae: 0.51821 |  0:00:01s\n"
     ]
    },
    {
     "name": "stdout",
     "output_type": "stream",
     "text": [
      "epoch 14 | loss: 0.34574 | train_mse: 0.37853 | train_mae: 0.41803 |  0:00:01s\n",
      "epoch 15 | loss: 0.20557 | train_mse: 0.51351 | train_mae: 0.48037 |  0:00:01s\n",
      "epoch 16 | loss: 0.22315 | train_mse: 0.71878 | train_mae: 0.58929 |  0:00:01s\n"
     ]
    },
    {
     "name": "stdout",
     "output_type": "stream",
     "text": [
      "epoch 17 | loss: 0.22555 | train_mse: 0.59006 | train_mae: 0.54464 |  0:00:01s\n",
      "epoch 18 | loss: 0.21008 | train_mse: 0.59995 | train_mae: 0.54867 |  0:00:01s\n",
      "epoch 19 | loss: 0.19707 | train_mse: 0.37533 | train_mae: 0.43408 |  0:00:01s\n"
     ]
    },
    {
     "name": "stdout",
     "output_type": "stream",
     "text": [
      "epoch 20 | loss: 0.16177 | train_mse: 0.31709 | train_mae: 0.41815 |  0:00:01s\n",
      "epoch 21 | loss: 0.14624 | train_mse: 0.36802 | train_mae: 0.45372 |  0:00:02s\n",
      "epoch 22 | loss: 0.28376 | train_mse: 0.37765 | train_mae: 0.43318 |  0:00:02s\n"
     ]
    },
    {
     "name": "stdout",
     "output_type": "stream",
     "text": [
      "epoch 23 | loss: 0.16864 | train_mse: 0.29266 | train_mae: 0.39628 |  0:00:02s\n",
      "epoch 24 | loss: 0.12226 | train_mse: 0.20508 | train_mae: 0.35527 |  0:00:02s\n",
      "epoch 25 | loss: 0.11628 | train_mse: 0.15667 | train_mae: 0.30869 |  0:00:02s\n"
     ]
    },
    {
     "name": "stdout",
     "output_type": "stream",
     "text": [
      "epoch 26 | loss: 0.13741 | train_mse: 0.14255 | train_mae: 0.30764 |  0:00:02s\n",
      "epoch 27 | loss: 0.15104 | train_mse: 0.13342 | train_mae: 0.29004 |  0:00:02s\n"
     ]
    },
    {
     "name": "stdout",
     "output_type": "stream",
     "text": [
      "epoch 28 | loss: 0.09796 | train_mse: 0.13053 | train_mae: 0.28447 |  0:00:02s\n",
      "epoch 29 | loss: 0.14433 | train_mse: 0.1326  | train_mae: 0.28295 |  0:00:02s\n",
      "epoch 30 | loss: 0.1437  | train_mse: 0.13168 | train_mae: 0.27661 |  0:00:02s\n"
     ]
    },
    {
     "name": "stdout",
     "output_type": "stream",
     "text": [
      "epoch 31 | loss: 0.0931  | train_mse: 0.13338 | train_mae: 0.28887 |  0:00:02s\n",
      "epoch 32 | loss: 0.09322 | train_mse: 0.16605 | train_mae: 0.32848 |  0:00:03s\n",
      "epoch 33 | loss: 0.13795 | train_mse: 0.14658 | train_mae: 0.30469 |  0:00:03s\n"
     ]
    },
    {
     "name": "stdout",
     "output_type": "stream",
     "text": [
      "epoch 34 | loss: 0.08945 | train_mse: 0.11152 | train_mae: 0.26513 |  0:00:03s\n",
      "epoch 35 | loss: 0.09284 | train_mse: 0.08966 | train_mae: 0.23814 |  0:00:03s\n",
      "epoch 36 | loss: 0.1859  | train_mse: 0.09613 | train_mae: 0.23817 |  0:00:03s\n"
     ]
    },
    {
     "name": "stdout",
     "output_type": "stream",
     "text": [
      "epoch 37 | loss: 0.14926 | train_mse: 0.13184 | train_mae: 0.25201 |  0:00:03s\n",
      "epoch 38 | loss: 0.1068  | train_mse: 0.13979 | train_mae: 0.25159 |  0:00:03s\n",
      "epoch 39 | loss: 0.24661 | train_mse: 0.10651 | train_mae: 0.23345 |  0:00:03s\n"
     ]
    },
    {
     "name": "stdout",
     "output_type": "stream",
     "text": [
      "epoch 40 | loss: 0.21079 | train_mse: 0.12024 | train_mae: 0.23072 |  0:00:03s\n",
      "epoch 41 | loss: 0.15594 | train_mse: 0.09204 | train_mae: 0.21477 |  0:00:03s\n",
      "epoch 42 | loss: 0.12564 | train_mse: 0.08732 | train_mae: 0.21194 |  0:00:03s\n"
     ]
    },
    {
     "name": "stdout",
     "output_type": "stream",
     "text": [
      "epoch 43 | loss: 0.17543 | train_mse: 0.10411 | train_mae: 0.22952 |  0:00:03s\n",
      "epoch 44 | loss: 0.09371 | train_mse: 0.09716 | train_mae: 0.24036 |  0:00:03s\n",
      "epoch 45 | loss: 0.12303 | train_mse: 0.08353 | train_mae: 0.22665 |  0:00:04s\n"
     ]
    },
    {
     "name": "stdout",
     "output_type": "stream",
     "text": [
      "epoch 46 | loss: 0.17825 | train_mse: 0.07194 | train_mae: 0.21035 |  0:00:04s\n",
      "epoch 47 | loss: 0.18179 | train_mse: 0.06104 | train_mae: 0.19794 |  0:00:04s\n",
      "epoch 48 | loss: 0.09508 | train_mse: 0.06793 | train_mae: 0.21057 |  0:00:04s\n",
      "epoch 49 | loss: 0.49268 | train_mse: 0.07628 | train_mae: 0.21438 |  0:00:04s\n"
     ]
    },
    {
     "name": "stdout",
     "output_type": "stream",
     "text": [
      "epoch 50 | loss: 0.15545 | train_mse: 0.10044 | train_mae: 0.24685 |  0:00:04s\n",
      "epoch 51 | loss: 0.30289 | train_mse: 0.14254 | train_mae: 0.27272 |  0:00:04s\n"
     ]
    },
    {
     "name": "stdout",
     "output_type": "stream",
     "text": [
      "epoch 52 | loss: 0.17056 | train_mse: 0.10402 | train_mae: 0.25589 |  0:00:04s\n",
      "epoch 53 | loss: 0.0823  | train_mse: 0.09443 | train_mae: 0.23758 |  0:00:04s\n",
      "epoch 54 | loss: 0.15544 | train_mse: 0.09099 | train_mae: 0.22788 |  0:00:04s\n"
     ]
    },
    {
     "name": "stdout",
     "output_type": "stream",
     "text": [
      "epoch 55 | loss: 0.18262 | train_mse: 0.09308 | train_mae: 0.24108 |  0:00:04s\n",
      "epoch 56 | loss: 0.05749 | train_mse: 0.11989 | train_mae: 0.25759 |  0:00:04s\n",
      "epoch 57 | loss: 0.10943 | train_mse: 0.0935  | train_mae: 0.23723 |  0:00:04s\n"
     ]
    },
    {
     "name": "stdout",
     "output_type": "stream",
     "text": [
      "epoch 58 | loss: 0.16602 | train_mse: 0.0961  | train_mae: 0.23404 |  0:00:04s\n",
      "epoch 59 | loss: 0.13374 | train_mse: 0.08919 | train_mae: 0.23733 |  0:00:05s\n",
      "epoch 60 | loss: 0.27413 | train_mse: 0.07375 | train_mae: 0.22095 |  0:00:05s\n",
      "epoch 61 | loss: 0.06933 | train_mse: 0.06136 | train_mae: 0.20365 |  0:00:05s\n"
     ]
    },
    {
     "name": "stdout",
     "output_type": "stream",
     "text": [
      "epoch 62 | loss: 0.18407 | train_mse: 0.06563 | train_mae: 0.20597 |  0:00:05s\n",
      "epoch 63 | loss: 0.1208  | train_mse: 0.06994 | train_mae: 0.21344 |  0:00:05s\n",
      "epoch 64 | loss: 0.16065 | train_mse: 0.0663  | train_mae: 0.2194  |  0:00:05s\n"
     ]
    },
    {
     "name": "stdout",
     "output_type": "stream",
     "text": [
      "epoch 65 | loss: 0.13525 | train_mse: 0.06336 | train_mae: 0.21033 |  0:00:05s\n",
      "epoch 66 | loss: 0.14262 | train_mse: 0.05613 | train_mae: 0.19636 |  0:00:05s\n",
      "epoch 67 | loss: 0.13846 | train_mse: 0.05527 | train_mae: 0.19097 |  0:00:05s\n"
     ]
    },
    {
     "name": "stdout",
     "output_type": "stream",
     "text": [
      "epoch 68 | loss: 0.21266 | train_mse: 0.06778 | train_mae: 0.19955 |  0:00:05s\n",
      "epoch 69 | loss: 0.12873 | train_mse: 0.09308 | train_mae: 0.21585 |  0:00:05s\n",
      "epoch 70 | loss: 0.21862 | train_mse: 0.10735 | train_mae: 0.2286  |  0:00:05s\n",
      "epoch 71 | loss: 0.11603 | train_mse: 0.08693 | train_mae: 0.22322 |  0:00:05s\n"
     ]
    },
    {
     "name": "stdout",
     "output_type": "stream",
     "text": [
      "epoch 72 | loss: 0.18249 | train_mse: 0.08724 | train_mae: 0.23999 |  0:00:05s\n",
      "epoch 73 | loss: 0.21428 | train_mse: 0.08753 | train_mae: 0.24162 |  0:00:06s\n",
      "epoch 74 | loss: 0.10142 | train_mse: 0.06823 | train_mae: 0.21158 |  0:00:06s\n",
      "epoch 75 | loss: 0.13314 | train_mse: 0.06661 | train_mae: 0.21087 |  0:00:06s\n"
     ]
    },
    {
     "name": "stdout",
     "output_type": "stream",
     "text": [
      "epoch 76 | loss: 0.1833  | train_mse: 0.08017 | train_mae: 0.21596 |  0:00:06s\n",
      "epoch 77 | loss: 0.14327 | train_mse: 0.05059 | train_mae: 0.18288 |  0:00:06s\n",
      "epoch 78 | loss: 0.13624 | train_mse: 0.11096 | train_mae: 0.23928 |  0:00:06s\n"
     ]
    },
    {
     "name": "stdout",
     "output_type": "stream",
     "text": [
      "epoch 79 | loss: 0.10126 | train_mse: 0.10658 | train_mae: 0.24249 |  0:00:06s\n",
      "epoch 80 | loss: 0.13519 | train_mse: 0.06567 | train_mae: 0.20803 |  0:00:06s\n",
      "epoch 81 | loss: 0.21337 | train_mse: 0.05495 | train_mae: 0.18947 |  0:00:06s\n"
     ]
    },
    {
     "name": "stdout",
     "output_type": "stream",
     "text": [
      "epoch 82 | loss: 0.16168 | train_mse: 0.05995 | train_mae: 0.20411 |  0:00:06s\n",
      "epoch 83 | loss: 0.11553 | train_mse: 0.0749  | train_mae: 0.21694 |  0:00:06s\n",
      "epoch 84 | loss: 0.29015 | train_mse: 0.07398 | train_mae: 0.21187 |  0:00:06s\n",
      "epoch 85 | loss: 0.08417 | train_mse: 0.05759 | train_mae: 0.19041 |  0:00:06s\n"
     ]
    },
    {
     "name": "stdout",
     "output_type": "stream",
     "text": [
      "epoch 86 | loss: 0.1718  | train_mse: 0.05227 | train_mae: 0.18892 |  0:00:06s\n",
      "epoch 87 | loss: 0.19842 | train_mse: 0.04581 | train_mae: 0.18006 |  0:00:07s\n",
      "epoch 88 | loss: 0.07669 | train_mse: 0.04879 | train_mae: 0.18205 |  0:00:07s\n",
      "epoch 89 | loss: 0.21995 | train_mse: 0.06933 | train_mae: 0.21306 |  0:00:07s\n"
     ]
    },
    {
     "name": "stdout",
     "output_type": "stream",
     "text": [
      "epoch 90 | loss: 0.14853 | train_mse: 0.05994 | train_mae: 0.20948 |  0:00:07s\n",
      "epoch 91 | loss: 0.1659  | train_mse: 0.06366 | train_mae: 0.2078  |  0:00:07s\n",
      "epoch 92 | loss: 0.15234 | train_mse: 0.06525 | train_mae: 0.20958 |  0:00:07s\n"
     ]
    },
    {
     "name": "stdout",
     "output_type": "stream",
     "text": [
      "epoch 93 | loss: 0.09975 | train_mse: 0.05913 | train_mae: 0.20382 |  0:00:07s\n",
      "epoch 94 | loss: 0.12216 | train_mse: 0.05798 | train_mae: 0.20566 |  0:00:07s\n",
      "epoch 95 | loss: 0.08158 | train_mse: 0.06158 | train_mae: 0.19766 |  0:00:07s\n",
      "epoch 96 | loss: 0.0784  | train_mse: 0.06671 | train_mae: 0.20761 |  0:00:07s\n"
     ]
    },
    {
     "name": "stdout",
     "output_type": "stream",
     "text": [
      "epoch 97 | loss: 0.14292 | train_mse: 0.06162 | train_mae: 0.20671 |  0:00:07s\n",
      "epoch 98 | loss: 0.12332 | train_mse: 0.06911 | train_mae: 0.21098 |  0:00:07s\n",
      "epoch 99 | loss: 0.15059 | train_mse: 0.07408 | train_mae: 0.21573 |  0:00:07s\n",
      "epoch 100| loss: 0.14998 | train_mse: 0.0589  | train_mae: 0.19558 |  0:00:07s\n"
     ]
    },
    {
     "name": "stdout",
     "output_type": "stream",
     "text": [
      "epoch 101| loss: 0.12314 | train_mse: 0.05873 | train_mae: 0.19707 |  0:00:07s\n",
      "epoch 102| loss: 0.1423  | train_mse: 0.07212 | train_mae: 0.20984 |  0:00:08s\n",
      "epoch 103| loss: 0.10645 | train_mse: 0.06702 | train_mae: 0.20652 |  0:00:08s\n",
      "epoch 104| loss: 0.17176 | train_mse: 0.06712 | train_mae: 0.20243 |  0:00:08s\n"
     ]
    },
    {
     "name": "stdout",
     "output_type": "stream",
     "text": [
      "epoch 105| loss: 0.11396 | train_mse: 0.06115 | train_mae: 0.19452 |  0:00:08s\n",
      "epoch 106| loss: 0.10171 | train_mse: 0.06562 | train_mae: 0.21839 |  0:00:08s\n",
      "epoch 107| loss: 0.17928 | train_mse: 0.0843  | train_mae: 0.23677 |  0:00:08s\n",
      "epoch 108| loss: 0.12895 | train_mse: 0.08595 | train_mae: 0.23754 |  0:00:08s\n"
     ]
    },
    {
     "name": "stdout",
     "output_type": "stream",
     "text": [
      "epoch 109| loss: 0.09468 | train_mse: 0.06563 | train_mae: 0.21457 |  0:00:08s\n",
      "epoch 110| loss: 0.15513 | train_mse: 0.06634 | train_mae: 0.2208  |  0:00:08s\n",
      "epoch 111| loss: 0.09687 | train_mse: 0.06095 | train_mae: 0.20676 |  0:00:08s\n",
      "epoch 112| loss: 0.1293  | train_mse: 0.06239 | train_mae: 0.20791 |  0:00:08s\n"
     ]
    },
    {
     "name": "stdout",
     "output_type": "stream",
     "text": [
      "epoch 113| loss: 0.0809  | train_mse: 0.06475 | train_mae: 0.21038 |  0:00:08s\n",
      "epoch 114| loss: 0.11378 | train_mse: 0.06291 | train_mae: 0.21093 |  0:00:08s\n",
      "epoch 115| loss: 0.07121 | train_mse: 0.07459 | train_mae: 0.22388 |  0:00:09s\n",
      "epoch 116| loss: 0.18148 | train_mse: 0.08621 | train_mae: 0.23584 |  0:00:09s\n"
     ]
    },
    {
     "name": "stdout",
     "output_type": "stream",
     "text": [
      "epoch 117| loss: 0.1466  | train_mse: 0.07035 | train_mae: 0.21624 |  0:00:09s\n",
      "epoch 118| loss: 0.22122 | train_mse: 0.10384 | train_mae: 0.24841 |  0:00:09s\n",
      "epoch 119| loss: 0.12255 | train_mse: 0.08803 | train_mae: 0.22997 |  0:00:09s\n"
     ]
    },
    {
     "name": "stdout",
     "output_type": "stream",
     "text": [
      "epoch 120| loss: 0.41339 | train_mse: 0.07144 | train_mae: 0.21646 |  0:00:09s\n",
      "epoch 121| loss: 0.10139 | train_mse: 0.07904 | train_mae: 0.22536 |  0:00:09s\n",
      "epoch 122| loss: 0.08243 | train_mse: 0.09699 | train_mae: 0.24899 |  0:00:09s\n"
     ]
    },
    {
     "name": "stdout",
     "output_type": "stream",
     "text": [
      "epoch 123| loss: 0.15668 | train_mse: 0.11081 | train_mae: 0.26001 |  0:00:09s\n",
      "epoch 124| loss: 0.15147 | train_mse: 0.09581 | train_mae: 0.25403 |  0:00:09s\n",
      "epoch 125| loss: 0.07951 | train_mse: 0.08057 | train_mae: 0.24108 |  0:00:09s\n",
      "epoch 126| loss: 0.09857 | train_mse: 0.0636  | train_mae: 0.22008 |  0:00:09s\n"
     ]
    },
    {
     "name": "stdout",
     "output_type": "stream",
     "text": [
      "epoch 127| loss: 0.18176 | train_mse: 0.0632  | train_mae: 0.21672 |  0:00:09s\n",
      "epoch 128| loss: 0.19244 | train_mse: 0.05579 | train_mae: 0.20521 |  0:00:09s\n",
      "epoch 129| loss: 0.11319 | train_mse: 0.05819 | train_mae: 0.2024  |  0:00:09s\n"
     ]
    },
    {
     "name": "stdout",
     "output_type": "stream",
     "text": [
      "epoch 130| loss: 0.11336 | train_mse: 0.05741 | train_mae: 0.19985 |  0:00:10s\n",
      "epoch 131| loss: 0.15826 | train_mse: 0.06188 | train_mae: 0.20925 |  0:00:10s\n",
      "epoch 132| loss: 0.10467 | train_mse: 0.06016 | train_mae: 0.20773 |  0:00:10s\n",
      "epoch 133| loss: 0.19827 | train_mse: 0.06774 | train_mae: 0.2147  |  0:00:10s\n"
     ]
    },
    {
     "name": "stdout",
     "output_type": "stream",
     "text": [
      "epoch 134| loss: 0.17931 | train_mse: 0.06084 | train_mae: 0.20222 |  0:00:10s\n",
      "epoch 135| loss: 0.14819 | train_mse: 0.07563 | train_mae: 0.21206 |  0:00:10s\n",
      "epoch 136| loss: 0.18472 | train_mse: 0.0855  | train_mae: 0.21674 |  0:00:10s\n"
     ]
    },
    {
     "name": "stdout",
     "output_type": "stream",
     "text": [
      "epoch 137| loss: 0.20822 | train_mse: 0.06519 | train_mae: 0.19998 |  0:00:10s\n",
      "\n",
      "Early stopping occurred at epoch 137 with best_epoch = 87 and best_train_mae = 0.18006\n",
      "Best weights from best epoch are automatically used!\n"
     ]
    }
   ],
   "source": [
    "#Train the Model\n",
    "\n",
    "Y_train = np.reshape(Y_train, (-1, 1))\n",
    "Y_test = np.reshape(Y_test, (-1, 1))\n",
    "\n",
    "prior_model = TabNetRegressor(optimizer_fn=torch.optim.Adam, optimizer_params=dict(lr = 0.02),\n",
    "          #scheduler_params={\"step_size\":10, ], \"gamma\":0.9},\n",
    "          #scheduler_fn=torch.optim.lr_scheduler.StepLR\n",
    "          )  #TabNetRegressor()\n",
    "\n",
    "prior_model.fit(X_train,Y_train,eval_set=[(X_train, Y_train)],\n",
    "            eval_name=['train'], \n",
    "            eval_metric=[ 'mse', 'mae'], \n",
    "            max_epochs = n_epochs, \n",
    "            batch_size = batch_size,\n",
    "            patience=50\n",
    "            )"
   ]
  },
  {
   "cell_type": "code",
   "execution_count": 10,
   "id": "af65dcda",
   "metadata": {
    "execution": {
     "iopub.execute_input": "2022-06-22T12:21:55.727297Z",
     "iopub.status.busy": "2022-06-22T12:21:55.726505Z",
     "iopub.status.idle": "2022-06-22T12:21:55.753209Z",
     "shell.execute_reply": "2022-06-22T12:21:55.753793Z"
    },
    "id": "af65dcda",
    "papermill": {
     "duration": 0.066515,
     "end_time": "2022-06-22T12:21:55.754011",
     "exception": false,
     "start_time": "2022-06-22T12:21:55.687496",
     "status": "completed"
    },
    "tags": []
   },
   "outputs": [
    {
     "data": {
      "application/scrapbook.scrap.json+json": {
       "data": 0.20167432906399618,
       "encoder": "json",
       "name": "Prior Model MSE",
       "version": 1
      }
     },
     "metadata": {
      "scrapbook": {
       "data": true,
       "display": false,
       "name": "Prior Model MSE"
      }
     },
     "output_type": "display_data"
    },
    {
     "data": {
      "application/scrapbook.scrap.json+json": {
       "data": 0.20124213129276555,
       "encoder": "json",
       "name": "ABC Pre-generator MSE",
       "version": 1
      }
     },
     "metadata": {
      "scrapbook": {
       "data": true,
       "display": false,
       "name": "ABC Pre-generator MSE"
      }
     },
     "output_type": "display_data"
    },
    {
     "data": {
      "application/scrapbook.scrap.json+json": {
       "data": 0.34282371337599626,
       "encoder": "json",
       "name": "Prior Model MSE",
       "version": 1
      }
     },
     "metadata": {
      "scrapbook": {
       "data": true,
       "display": false,
       "name": "Prior Model MSE"
      }
     },
     "output_type": "display_data"
    },
    {
     "data": {
      "application/scrapbook.scrap.json+json": {
       "data": 0.3415970484288585,
       "encoder": "json",
       "name": "ABC Pre-generator MSE",
       "version": 1
      }
     },
     "metadata": {
      "scrapbook": {
       "data": true,
       "display": false,
       "name": "ABC Pre-generator MSE"
      }
     },
     "output_type": "display_data"
    }
   ],
   "source": [
    "y_pred = prior_model.predict(X_test)\n",
    "y_abc = y_pred + np.random.normal(0,variance, y_pred.shape) + bias \n",
    "mse = mean_squared_error(y_pred,Y_test)\n",
    "sb.glue(\"Prior Model MSE\",mse)\n",
    "mse = mean_squared_error(y_abc,Y_test)\n",
    "sb.glue(\"ABC Pre-generator MSE\",mse)\n",
    "mae = mean_absolute_error(y_pred,Y_test)\n",
    "sb.glue(\"Prior Model MSE\",mae)\n",
    "mae = mean_absolute_error(y_abc,Y_test)\n",
    "sb.glue(\"ABC Pre-generator MSE\",mae)"
   ]
  },
  {
   "cell_type": "markdown",
   "id": "25609da2",
   "metadata": {
    "papermill": {
     "duration": 0.027881,
     "end_time": "2022-06-22T12:21:55.808934",
     "exception": false,
     "start_time": "2022-06-22T12:21:55.781053",
     "status": "completed"
    },
    "tags": []
   },
   "source": [
    "# ABC GAN Model"
   ]
  },
  {
   "cell_type": "code",
   "execution_count": 11,
   "id": "dfc3464d",
   "metadata": {
    "execution": {
     "iopub.execute_input": "2022-06-22T12:21:55.873018Z",
     "iopub.status.busy": "2022-06-22T12:21:55.872063Z",
     "iopub.status.idle": "2022-06-22T12:21:55.875499Z",
     "shell.execute_reply": "2022-06-22T12:21:55.875983Z"
    },
    "papermill": {
     "duration": 0.040549,
     "end_time": "2022-06-22T12:21:55.876238",
     "exception": false,
     "start_time": "2022-06-22T12:21:55.835689",
     "status": "completed"
    },
    "tags": []
   },
   "outputs": [],
   "source": [
    "gen = network.Generator(n_features+1).to(device)\n",
    "disc = network.Discriminator(n_features+1).to(device)\n",
    "\n",
    "criterion = torch.nn.BCELoss()\n",
    "gen_opt = torch.optim.Adam(gen.parameters(), lr=0.001, betas=(0.5, 0.999))\n",
    "disc_opt = torch.optim.Adam(disc.parameters(), lr=0.001, betas=(0.5, 0.999))"
   ]
  },
  {
   "cell_type": "code",
   "execution_count": 12,
   "id": "b75fdd85",
   "metadata": {
    "execution": {
     "iopub.execute_input": "2022-06-22T12:21:55.936994Z",
     "iopub.status.busy": "2022-06-22T12:21:55.936178Z",
     "iopub.status.idle": "2022-06-22T12:22:37.955390Z",
     "shell.execute_reply": "2022-06-22T12:22:37.957742Z"
    },
    "papermill": {
     "duration": 42.05417,
     "end_time": "2022-06-22T12:22:37.957974",
     "exception": false,
     "start_time": "2022-06-22T12:21:55.903804",
     "status": "completed"
    },
    "tags": []
   },
   "outputs": [
    {
     "data": {
      "image/png": "[encoded data removed]",
      "text/plain": [
       "<Figure size 432x288 with 1 Axes>"
      ]
     },
     "metadata": {
      "needs_background": "light"
     },
     "output_type": "display_data"
    },
    {
     "data": {
      "image/png": "[encoded data removed]",
      "text/plain": [
       "<Figure size 432x288 with 1 Axes>"
      ]
     },
     "metadata": {
      "needs_background": "light"
     },
     "output_type": "display_data"
    }
   ],
   "source": [
    "#Training the ABC_GAN \n",
    "ABC_train_test2.training_GAN(disc,gen,disc_opt,gen_opt,train_data,batch_size,n_epochs,criterion,prior_model,variance,bias,device)"
   ]
  },
  {
   "cell_type": "code",
   "execution_count": 13,
   "id": "1fa7c368",
   "metadata": {
    "execution": {
     "iopub.execute_input": "2022-06-22T12:22:38.071351Z",
     "iopub.status.busy": "2022-06-22T12:22:38.070563Z",
     "iopub.status.idle": "2022-06-22T12:22:38.747517Z",
     "shell.execute_reply": "2022-06-22T12:22:38.747985Z"
    },
    "papermill": {
     "duration": 0.754464,
     "end_time": "2022-06-22T12:22:38.748194",
     "exception": false,
     "start_time": "2022-06-22T12:22:37.993730",
     "status": "completed"
    },
    "tags": []
   },
   "outputs": [
    {
     "data": {
      "application/scrapbook.scrap.json+json": {
       "data": 0.29460571373725375,
       "encoder": "json",
       "name": "ABC-GAN Model 1 MSE",
       "version": 1
      }
     },
     "metadata": {
      "scrapbook": {
       "data": true,
       "display": false,
       "name": "ABC-GAN Model 1 MSE"
      }
     },
     "output_type": "display_data"
    },
    {
     "data": {
      "application/scrapbook.scrap.json+json": {
       "data": 0.44831943716853856,
       "encoder": "json",
       "name": "ABC-GAN Model 1 MAE",
       "version": 1
      }
     },
     "metadata": {
      "scrapbook": {
       "data": true,
       "display": false,
       "name": "ABC-GAN Model 1 MAE"
      }
     },
     "output_type": "display_data"
    },
    {
     "data": {
      "application/scrapbook.scrap.json+json": {
       "data": 8.966388743370771,
       "encoder": "json",
       "name": "ABC-GAN Model 1 Manhattan Distance",
       "version": 1
      }
     },
     "metadata": {
      "scrapbook": {
       "data": true,
       "display": false,
       "name": "ABC-GAN Model 1 Manhattan Distance"
      }
     },
     "output_type": "display_data"
    },
    {
     "data": {
      "application/scrapbook.scrap.json+json": {
       "data": 2.427347167319898,
       "encoder": "json",
       "name": "ABC-GAN Model 1 Euclidean distance",
       "version": 1
      }
     },
     "metadata": {
      "scrapbook": {
       "data": true,
       "display": false,
       "name": "ABC-GAN Model 1 Euclidean distance"
      }
     },
     "output_type": "display_data"
    },
    {
     "data": {
      "application/scrapbook.scrap.json+json": {
       "data": [
        [
         0.2949308596184944,
         0.2952532074561093,
         0.29767255916049135,
         0.2960937766919285,
         0.2968193497566779,
         0.2965638343037783,
         0.2987693462001634,
         0.2935467436442562,
         0.29721935682677725,
         0.29341016523062796,
         0.2941420929522045,
         0.2946755408315339,
         0.29300579954771167,
         0.2946102146358568,
         0.29558414275611444,
         0.2911567223111612,
         0.2924822262016936,
         0.2929681818402064,
         0.29430356847249806,
         0.2957801135777642,
         0.297796686423331,
         0.2969142017997256,
         0.29381398146746707,
         0.297162783609762,
         0.2947342758859207,
         0.2923104114330636,
         0.2983829080089438,
         0.2922119299833118,
         0.2983291508997864,
         0.2918668190425767,
         0.2977645887344519,
         0.29599186239276853,
         0.2930329012114738,
         0.29255113100154706,
         0.29600966214606644,
         0.2921468312523209,
         0.29475734249285496,
         0.2945150589629614,
         0.2963404517147166,
         0.29249917454322094,
         0.2964684338844636,
         0.29701596648917833,
         0.29307665594138677,
         0.29439451746694023,
         0.29493505941885445,
         0.29443339815914815,
         0.2885363269129075,
         0.2976686585682758,
         0.2953847028672407,
         0.29186218489050697,
         0.2962475374507604,
         0.2916368828757563,
         0.29251859410886744,
         0.2949384712158703,
         0.2972100533389389,
         0.29630730063515365,
         0.29573026141710973,
         0.2919089055634107,
         0.29288316632492417,
         0.29295643254926,
         0.292319576691365,
         0.2983710823320628,
         0.29567058439549565,
         0.2969155752267941,
         0.298862432418851,
         0.29844485204754406,
         0.29468523104933975,
         0.2963385148827721,
         0.29392592787952027,
         0.2959095873987904,
         0.2933185273678408,
         0.2965816532419743,
         0.29593647876414714,
         0.2907084571116973,
         0.2955375178928023,
         0.2926896651537295,
         0.29915999403715554,
         0.2889723735550426,
         0.2982880141455002,
         0.2899963087523905,
         0.2958580504191772,
         0.29135864408128465,
         0.2934295532966943,
         0.2952500325848458,
         0.2919098138841022,
         0.29167042843304125,
         0.29486830911674416,
         0.29175336449487455,
         0.2904158250980887,
         0.29399368735471004,
         0.2941839158053225,
         0.2940871578042522,
         0.295567518373743,
         0.29801924811965663,
         0.2980790105691301,
         0.2960116217297885,
         0.2939342592441201,
         0.2891137487924346,
         0.29330620593038337,
         0.29089515914689174
        ],
        [
         0.4479615196585655,
         0.44737522415816783,
         0.44999897554516793,
         0.4482462596148252,
         0.4505048081278801,
         0.449914138764143,
         0.4524474158883095,
         0.4479363039135933,
         0.45070424154400823,
         0.4468136366456747,
         0.44762224666774275,
         0.44685093872249126,
         0.44714470729231837,
         0.44910545721650125,
         0.4504228636622429,
         0.4459789115935564,
         0.44755464047193527,
         0.4469180043786764,
         0.45095953717827797,
         0.4485609896481037,
         0.45128010846674443,
         0.4515554066747427,
         0.449188518896699,
         0.44954976364970206,
         0.4486227620393038,
         0.44663196727633475,
         0.45020644143223765,
         0.4454406451433897,
         0.45211884304881095,
         0.4460257675498724,
         0.4512450810521841,
         0.44972842261195184,
         0.44621099904179573,
         0.4457790765911341,
         0.4496156297624111,
         0.44617055617272855,
         0.4503226038068533,
         0.44681463539600375,
         0.44908970333635806,
         0.4467867221683264,
         0.44993032813072203,
         0.44931576810777185,
         0.44842555597424505,
         0.4500098999589682,
         0.4491282321512699,
         0.4476163718849421,
         0.44450108222663404,
         0.45270379930734633,
         0.4495395876467228,
         0.44568383544683454,
         0.4499800443649292,
         0.44577763341367244,
         0.4465147104114294,
         0.4496986918151379,
         0.45229170061647894,
         0.4485394828021526,
         0.4486468847841024,
         0.4470245875418186,
         0.44779922254383564,
         0.4456561077386141,
         0.44607404470443723,
         0.4509685419499874,
         0.4495807759463787,
         0.44843212030828,
         0.4515161465853453,
         0.45113029293715956,
         0.4471042662858963,
         0.45006879307329656,
         0.4482479140162468,
         0.44961181171238424,
         0.4473269559442997,
         0.44961338974535464,
         0.4486354608088732,
         0.44410155415534974,
         0.4488520659506321,
         0.44618989415466787,
         0.45136735662817956,
         0.4441342882812023,
         0.44980170354247095,
         0.44452662840485574,
         0.44988154247403145,
         0.446237837523222,
         0.44585899747908114,
         0.4500952888280153,
         0.44819692298769953,
         0.4468994330614805,
         0.44835703298449514,
         0.44575417302548886,
         0.44515547081828116,
         0.44675409980118275,
         0.4481889419257641,
         0.44639806672930715,
         0.4488802645355463,
         0.45140061900019646,
         0.4499548997730017,
         0.4462244376540184,
         0.44788725562393666,
         0.4443647157400846,
         0.44863396175205705,
         0.44534774832427504
        ],
        [
         8.95923039317131,
         8.947504483163357,
         8.999979510903358,
         8.964925192296505,
         9.010096162557602,
         8.99828277528286,
         9.04894831776619,
         8.958726078271866,
         9.014084830880165,
         8.936272732913494,
         8.952444933354855,
         8.937018774449825,
         8.942894145846367,
         8.982109144330025,
         9.008457273244858,
         8.919578231871128,
         8.951092809438705,
         8.938360087573528,
         9.01919074356556,
         8.971219792962074,
         9.025602169334888,
         9.031108133494854,
         8.983770377933979,
         8.990995272994041,
         8.972455240786076,
         8.932639345526695,
         9.004128828644753,
         8.908812902867794,
         9.04237686097622,
         8.920515350997448,
         9.024901621043682,
         8.994568452239037,
         8.924219980835915,
         8.915581531822681,
         8.992312595248222,
         8.92341112345457,
         9.006452076137066,
         8.936292707920074,
         8.981794066727161,
         8.935734443366528,
         8.998606562614441,
         8.986315362155437,
         8.968511119484901,
         9.000197999179363,
         8.982564643025398,
         8.952327437698841,
         8.89002164453268,
         9.054075986146927,
         8.990791752934456,
         8.913676708936691,
         8.999600887298584,
         8.915552668273449,
         8.930294208228588,
         8.993973836302757,
         9.045834012329578,
         8.970789656043053,
         8.972937695682049,
         8.940491750836372,
         8.955984450876713,
         8.913122154772282,
         8.921480894088745,
         9.019370838999748,
         8.991615518927574,
         8.9686424061656,
         9.030322931706905,
         9.02260585874319,
         8.942085325717926,
         9.001375861465931,
         8.964958280324936,
         8.992236234247684,
         8.946539118885994,
         8.992267794907093,
         8.972709216177464,
         8.882031083106995,
         8.977041319012642,
         8.923797883093357,
         9.027347132563591,
         8.882685765624046,
         8.996034070849419,
         8.890532568097115,
         8.997630849480629,
         8.92475675046444,
         8.917179949581623,
         9.001905776560307,
         8.96393845975399,
         8.93798866122961,
         8.967140659689903,
         8.915083460509777,
         8.903109416365623,
         8.935081996023655,
         8.963778838515282,
         8.927961334586143,
         8.977605290710926,
         9.02801238000393,
         8.999097995460033,
         8.924488753080368,
         8.957745112478733,
         8.887294314801693,
         8.972679235041142,
         8.9069549664855
        ],
        [
         2.428706897171803,
         2.430033775304818,
         2.439969504565544,
         2.4334904014272523,
         2.4364701917186586,
         2.4354212543368274,
         2.4444604566249923,
         2.423001211903354,
         2.438111387228964,
         2.4224374717652792,
         2.4254570412695604,
         2.4276554155461763,
         2.4207676449742617,
         2.4273863089168843,
         2.4313952486426986,
         2.4131171637993925,
         2.4186038377613377,
         2.420612244206851,
         2.426122702884164,
         2.432201116592804,
         2.4404781761914243,
         2.4368594616831127,
         2.4241038817157445,
         2.4378793391378584,
         2.4278973449712438,
         2.4178933451790776,
         2.442879071951552,
         2.417486008163488,
         2.442659005673065,
         2.416058025141684,
         2.4403466505168967,
         2.433071566529717,
         2.420879597218638,
         2.4188887159253403,
         2.433144722970939,
         2.417216710401948,
         2.4279923496290303,
         2.4269942684850383,
         2.434503857933754,
         2.4186739116434066,
         2.4350295024268744,
         2.437277031808975,
         2.421060329448181,
         2.426497547771026,
         2.4287241894412563,
         2.42665777628057,
         2.4022336560497504,
         2.439953518279706,
         2.4305748409264862,
         2.4160388444332055,
         2.4341221721629354,
         2.4151061379399303,
         2.4187542004464504,
         2.4287382370929573,
         2.4380732283462647,
         2.434367682315692,
         2.4319961406922905,
         2.4162322138544994,
         2.420261003796591,
         2.4205637052110816,
         2.4179312508479844,
         2.442830662702852,
         2.43175074543217,
         2.436865097730254,
         2.444841231732036,
         2.4431326286042845,
         2.427695331170449,
         2.434495902164438,
         2.42456564307721,
         2.43273339023737,
         2.422059154388434,
         2.4354944189711225,
         2.432843927440259,
         2.4112588293739736,
         2.4312034793196653,
         2.41946136631164,
         2.446058028899378,
         2.404048142425782,
         2.442490590137453,
         2.408303588638237,
         2.43252153297428,
         2.4139537861412537,
         2.4225175058054553,
         2.4300207101374496,
         2.416235973095766,
         2.415245032840524,
         2.4284493369915876,
         2.415588394138681,
         2.410044917000879,
         2.4248450975462745,
         2.4256294680157664,
         2.4252305366882223,
         2.4313268738437577,
         2.441389965243802,
         2.441634741598874,
         2.4331527766656516,
         2.4246000051312384,
         2.404636142090668,
         2.422008282109635,
         2.4120329978957242
        ]
       ],
       "encoder": "json",
       "name": "ABC_GAN_1 Metrics",
       "version": 1
      }
     },
     "metadata": {
      "scrapbook": {
       "data": true,
       "display": false,
       "name": "ABC_GAN_1 Metrics"
      }
     },
     "output_type": "display_data"
    },
    {
     "name": "stdout",
     "output_type": "stream",
     "text": [
      "MSE\n",
      "0.29460571373725375\n"
     ]
    }
   ],
   "source": [
    "ABC_GAN1_metrics=ABC_train_test2.test_generator(gen,test_data,prior_model,variance,bias,\"1\",device)\n",
    "sb.glue(\"ABC_GAN_1 Metrics\",ABC_GAN1_metrics)\n",
    "\n",
    "print(\"MSE\")\n",
    "print(mean(ABC_GAN1_metrics[0]))"
   ]
  },
  {
   "cell_type": "code",
   "execution_count": 14,
   "id": "eb22ce5c",
   "metadata": {
    "execution": {
     "iopub.execute_input": "2022-06-22T12:22:38.823598Z",
     "iopub.status.busy": "2022-06-22T12:22:38.821482Z",
     "iopub.status.idle": "2022-06-22T12:22:39.580916Z",
     "shell.execute_reply": "2022-06-22T12:22:39.581482Z"
    },
    "papermill": {
     "duration": 0.804228,
     "end_time": "2022-06-22T12:22:39.581700",
     "exception": false,
     "start_time": "2022-06-22T12:22:38.777472",
     "status": "completed"
    },
    "tags": []
   },
   "outputs": [
    {
     "data": {
      "image/png": "[encoded data removed]",
      "text/plain": [
       "<Figure size 432x288 with 1 Axes>"
      ]
     },
     "metadata": {
      "needs_background": "light"
     },
     "output_type": "display_data"
    },
    {
     "data": {
      "image/png": "[encoded data removed]",
      "text/plain": [
       "<Figure size 432x288 with 1 Axes>"
      ]
     },
     "metadata": {
      "needs_background": "light"
     },
     "output_type": "display_data"
    },
    {
     "data": {
      "image/png": "[encoded data removed]",
      "text/plain": [
       "<Figure size 432x288 with 1 Axes>"
      ]
     },
     "metadata": {
      "needs_background": "light"
     },
     "output_type": "display_data"
    },
    {
     "data": {
      "image/png": "[encoded data removed]",
      "text/plain": [
       "<Figure size 432x288 with 1 Axes>"
      ]
     },
     "metadata": {
      "needs_background": "light"
     },
     "output_type": "display_data"
    }
   ],
   "source": [
    "sanityChecks.discProbVsError(train_data,disc,device)\n",
    "sanityChecks.discProbVsError(test_data,disc,device)"
   ]
  },
  {
   "cell_type": "markdown",
   "id": "130f3a4d",
   "metadata": {
    "id": "130f3a4d",
    "papermill": {
     "duration": 0.036398,
     "end_time": "2022-06-22T12:22:39.655824",
     "exception": false,
     "start_time": "2022-06-22T12:22:39.619426",
     "status": "completed"
    },
    "tags": []
   },
   "source": [
    "# ABC - GAN Model with skip connection"
   ]
  },
  {
   "cell_type": "code",
   "execution_count": 15,
   "id": "4e43dad1",
   "metadata": {
    "execution": {
     "iopub.execute_input": "2022-06-22T12:22:39.749590Z",
     "iopub.status.busy": "2022-06-22T12:22:39.746690Z",
     "iopub.status.idle": "2022-06-22T12:22:39.752057Z",
     "shell.execute_reply": "2022-06-22T12:22:39.753105Z"
    },
    "id": "4e43dad1",
    "papermill": {
     "duration": 0.060878,
     "end_time": "2022-06-22T12:22:39.753358",
     "exception": false,
     "start_time": "2022-06-22T12:22:39.692480",
     "status": "completed"
    },
    "tags": []
   },
   "outputs": [],
   "source": [
    "#Generator\n",
    "gen3 = network.GeneratorWithSkipConnection(n_features+1).to(device)\n",
    "constraints=network.weightConstraint()\n",
    "#Discriminator \n",
    "disc3 = network.Discriminator(n_features+1).to(device)\n",
    "\n",
    "criterion = torch.nn.BCELoss()\n",
    "gen_opt = torch.optim.Adam(gen3.parameters(), lr=0.001, betas=(0.5, 0.999))\n",
    "disc_opt = torch.optim.Adam(disc3.parameters(), lr=0.001, betas=(0.5, 0.999))\n"
   ]
  },
  {
   "cell_type": "code",
   "execution_count": 16,
   "id": "26acbc37",
   "metadata": {
    "execution": {
     "iopub.execute_input": "2022-06-22T12:22:39.827525Z",
     "iopub.status.busy": "2022-06-22T12:22:39.826867Z",
     "iopub.status.idle": "2022-06-22T12:23:46.987658Z",
     "shell.execute_reply": "2022-06-22T12:23:46.988481Z"
    },
    "id": "26acbc37",
    "papermill": {
     "duration": 67.20022,
     "end_time": "2022-06-22T12:23:46.988740",
     "exception": false,
     "start_time": "2022-06-22T12:22:39.788520",
     "status": "completed"
    },
    "tags": []
   },
   "outputs": [
    {
     "data": {
      "image/png": "[encoded data removed]",
      "text/plain": [
       "<Figure size 432x288 with 1 Axes>"
      ]
     },
     "metadata": {
      "needs_background": "light"
     },
     "output_type": "display_data"
    },
    {
     "data": {
      "image/png": "[encoded data removed]",
      "text/plain": [
       "<Figure size 432x288 with 1 Axes>"
      ]
     },
     "metadata": {
      "needs_background": "light"
     },
     "output_type": "display_data"
    }
   ],
   "source": [
    "ABC_train_test2.training_GAN_skip_connection(disc3,gen3,disc_opt,gen_opt,train_data,batch_size,n_epochs,criterion,prior_model,variance,bias,device)"
   ]
  },
  {
   "cell_type": "code",
   "execution_count": 17,
   "id": "c5e0717b",
   "metadata": {
    "execution": {
     "iopub.execute_input": "2022-06-22T12:23:47.093921Z",
     "iopub.status.busy": "2022-06-22T12:23:47.093163Z",
     "iopub.status.idle": "2022-06-22T12:23:47.863521Z",
     "shell.execute_reply": "2022-06-22T12:23:47.864226Z"
    },
    "id": "c5e0717b",
    "papermill": {
     "duration": 0.835784,
     "end_time": "2022-06-22T12:23:47.864433",
     "exception": false,
     "start_time": "2022-06-22T12:23:47.028649",
     "status": "completed"
    },
    "tags": []
   },
   "outputs": [
    {
     "data": {
      "application/scrapbook.scrap.json+json": {
       "data": 0.20176103886371458,
       "encoder": "json",
       "name": "ABC-GAN Model 3 MSE",
       "version": 1
      }
     },
     "metadata": {
      "scrapbook": {
       "data": true,
       "display": false,
       "name": "ABC-GAN Model 3 MSE"
      }
     },
     "output_type": "display_data"
    },
    {
     "data": {
      "application/scrapbook.scrap.json+json": {
       "data": 0.3429706256315112,
       "encoder": "json",
       "name": "ABC-GAN Model 3 MAE",
       "version": 1
      }
     },
     "metadata": {
      "scrapbook": {
       "data": true,
       "display": false,
       "name": "ABC-GAN Model 3 MAE"
      }
     },
     "output_type": "display_data"
    },
    {
     "data": {
      "application/scrapbook.scrap.json+json": {
       "data": 6.859412512630224,
       "encoder": "json",
       "name": "ABC-GAN Model 3 Manhattan Distance",
       "version": 1
      }
     },
     "metadata": {
      "scrapbook": {
       "data": true,
       "display": false,
       "name": "ABC-GAN Model 3 Manhattan Distance"
      }
     },
     "output_type": "display_data"
    },
    {
     "data": {
      "application/scrapbook.scrap.json+json": {
       "data": 2.008760012561069,
       "encoder": "json",
       "name": "ABC-GAN Model 3 Euclidean distance",
       "version": 1
      }
     },
     "metadata": {
      "scrapbook": {
       "data": true,
       "display": false,
       "name": "ABC-GAN Model 3 Euclidean distance"
      }
     },
     "output_type": "display_data"
    },
    {
     "data": {
      "application/scrapbook.scrap.json+json": {
       "data": [
        [
         0.20274027107870007,
         0.20277419662288976,
         0.20341891734755196,
         0.20066484249580893,
         0.20370356851922722,
         0.19897540801956476,
         0.20161340549041942,
         0.2024383581187903,
         0.20234096379201608,
         0.203844627023555,
         0.20208071889952625,
         0.20176991124934532,
         0.19928177647269285,
         0.2020881272981025,
         0.20478681057904352,
         0.19808001566510222,
         0.20183728868573966,
         0.203402162945406,
         0.19937421699645816,
         0.20165188750544122,
         0.1991820132394781,
         0.2046612864259571,
         0.19810704310456675,
         0.20055338515122373,
         0.20399257867271156,
         0.20306094503746505,
         0.19642623392103536,
         0.20154822999561833,
         0.19689116337105247,
         0.20005595015444327,
         0.2024095486171081,
         0.20494363790993914,
         0.2006088010678851,
         0.20115801386645732,
         0.20072122303612305,
         0.2047792070428641,
         0.19614851102692024,
         0.20351244036094931,
         0.20143101167116906,
         0.20045992178574887,
         0.20189142449471112,
         0.20236993135295095,
         0.2010153549476505,
         0.20061408268792263,
         0.20052376500963623,
         0.20491745733916913,
         0.20414776274392238,
         0.2011094851879544,
         0.20086658685075404,
         0.20307739734189986,
         0.20022763457928736,
         0.20144318967596403,
         0.20291015220298644,
         0.2039155956970376,
         0.1996838124115125,
         0.20183539153347513,
         0.1992457715234072,
         0.20410863873802954,
         0.20558070690767857,
         0.2005610661423574,
         0.20011482748215617,
         0.20173873191511293,
         0.20025613816634413,
         0.20242239179841545,
         0.20184423638110646,
         0.2024734526827296,
         0.20141449881781126,
         0.20087809016011357,
         0.20206098943044876,
         0.20219375324552785,
         0.20398683930069325,
         0.20148267620041144,
         0.20143639594239954,
         0.19991595223632846,
         0.20340851249901326,
         0.2053969803543531,
         0.20397722733262827,
         0.20218673555821054,
         0.20322816872787314,
         0.19972449685294233,
         0.20053848137504798,
         0.20040636310689391,
         0.20262426060391875,
         0.20092486016085478,
         0.20493231645147453,
         0.2017066092985979,
         0.20211769550693082,
         0.19975284967029175,
         0.20424555242834447,
         0.20112426107790576,
         0.20607599831645967,
         0.20556560291801146,
         0.19908940283546445,
         0.20232992043037917,
         0.19737407932642625,
         0.20122894162280075,
         0.2010059555367477,
         0.20313392449699247,
         0.20476577808078728,
         0.19945611041010328
        ],
        [
         0.34299409948289394,
         0.3437931060791016,
         0.34406932815909386,
         0.3418629039078951,
         0.34183904677629473,
         0.3409138947725296,
         0.34389054886996745,
         0.3454263214021921,
         0.34520297795534133,
         0.3440031327307224,
         0.34217916466295717,
         0.3447086468338966,
         0.3401157710701227,
         0.3418846230953932,
         0.34450800716876984,
         0.33792912140488623,
         0.3438608005642891,
         0.34362231865525245,
         0.34055479764938357,
         0.3438088741153479,
         0.3406934142112732,
         0.34286749437451364,
         0.33832606188952924,
         0.3433270402252674,
         0.34574267268180847,
         0.3420601937919855,
         0.3368644580245018,
         0.3439660921692848,
         0.34056560806930064,
         0.34156029038131236,
         0.3441782258450985,
         0.3475041542202234,
         0.34222727455198765,
         0.34155291467905047,
         0.3404906917363405,
         0.34405329786241057,
         0.3392366271466017,
         0.3454963233321905,
         0.343975356221199,
         0.340422173589468,
         0.3423670280724764,
         0.344930874556303,
         0.34266416653990744,
         0.34288514740765097,
         0.34222574196755884,
         0.3450372006744146,
         0.3447728607803583,
         0.34459892883896825,
         0.3462557546794415,
         0.3460027277469635,
         0.3409339115023613,
         0.3436991456896067,
         0.34297230243682864,
         0.3454106166958809,
         0.34004631228744986,
         0.34343297220766544,
         0.34202769547700884,
         0.3471113871783018,
         0.34527932554483415,
         0.34234216846525667,
         0.34344930574297905,
         0.34185506887733935,
         0.3409731209278107,
         0.34288012199103834,
         0.34445941522717477,
         0.34283822141587733,
         0.3455838643014431,
         0.34379816204309466,
         0.3416816178709269,
         0.34220733307302,
         0.34381619207561015,
         0.3426335766911507,
         0.34188671596348286,
         0.3427427228540182,
         0.34292277693748474,
         0.3460443686693907,
         0.3457667980343103,
         0.34145459085702895,
         0.3418249197304249,
         0.34137172251939774,
         0.34309515431523324,
         0.33972607031464575,
         0.3433361630886793,
         0.34216312803328036,
         0.3447169825434685,
         0.34145374931395056,
         0.34511160030961036,
         0.3407217416912317,
         0.3414467126131058,
         0.3431405734270811,
         0.3506950207054615,
         0.3465578529983759,
         0.34193042330443857,
         0.3422497618943453,
         0.338813328742981,
         0.3411609522998333,
         0.34292563833296297,
         0.3454356033354998,
         0.3444524511694908,
         0.34046491980552673
        ],
        [
         6.859881989657879,
         6.875862121582031,
         6.881386563181877,
         6.837258078157902,
         6.836780935525894,
         6.818277895450592,
         6.877810977399349,
         6.908526428043842,
         6.904059559106827,
         6.8800626546144485,
         6.843583293259144,
         6.894172936677933,
         6.802315421402454,
         6.837692461907864,
         6.890160143375397,
         6.758582428097725,
         6.877216011285782,
         6.872446373105049,
         6.811095952987671,
         6.876177482306957,
         6.813868284225464,
         6.8573498874902725,
         6.766521237790585,
         6.866540804505348,
         6.914853453636169,
         6.84120387583971,
         6.737289160490036,
         6.879321843385696,
         6.811312161386013,
         6.831205807626247,
         6.88356451690197,
         6.9500830844044685,
         6.844545491039753,
         6.831058293581009,
         6.8098138347268105,
         6.881065957248211,
         6.7847325429320335,
         6.90992646664381,
         6.879507124423981,
         6.80844347178936,
         6.847340561449528,
         6.8986174911260605,
         6.853283330798149,
         6.857702948153019,
         6.844514839351177,
         6.900744013488293,
         6.895457215607166,
         6.8919785767793655,
         6.925115093588829,
         6.92005455493927,
         6.818678230047226,
         6.873982913792133,
         6.859446048736572,
         6.908212333917618,
         6.800926245748997,
         6.868659444153309,
         6.840553909540176,
         6.942227743566036,
         6.905586510896683,
         6.846843369305134,
         6.868986114859581,
         6.837101377546787,
         6.819462418556213,
         6.8576024398207664,
         6.889188304543495,
         6.856764428317547,
         6.911677286028862,
         6.875963240861893,
         6.833632357418537,
         6.8441466614604,
         6.876323841512203,
         6.852671533823013,
         6.837734319269657,
         6.854854457080364,
         6.858455538749695,
         6.920887373387814,
         6.915335960686207,
         6.829091817140579,
         6.836498394608498,
         6.827434450387955,
         6.861903086304665,
         6.794521406292915,
         6.866723261773586,
         6.8432625606656075,
         6.8943396508693695,
         6.829074986279011,
         6.902232006192207,
         6.8144348338246346,
         6.8289342522621155,
         6.862811468541622,
         7.01390041410923,
         6.931157059967518,
         6.838608466088772,
         6.844995237886906,
         6.776266574859619,
         6.823219045996666,
         6.85851276665926,
         6.908712066709995,
         6.889049023389816,
         6.809298396110535
        ],
        [
         2.0136547423960245,
         2.013823212811342,
         2.0170221483541124,
         2.0033214544641056,
         2.0184328996487704,
         1.9948704620579487,
         2.0080508235122903,
         2.012154855466101,
         2.011670767257983,
         2.019131630298307,
         2.010376675648254,
         2.0088300637403123,
         1.9964056525300304,
         2.010413526109007,
         2.0237925317534082,
         1.9903769274441572,
         2.009165442096492,
         2.0169390816056194,
         1.9968686336184367,
         2.008242453019262,
         1.995905875734014,
         2.0231721944805248,
         1.9905127133709382,
         2.002765014429919,
         2.019864246293357,
         2.015246610405114,
         1.982050624585736,
         2.0077262263347477,
         1.984394937360265,
         2.0002797312098286,
         2.012011673013395,
         2.024567301474264,
         2.0030416923663124,
         2.0057817122830555,
         2.0036028700125335,
         2.023754960675151,
         1.9806489392465298,
         2.0174857638206487,
         2.007142305224864,
         2.0022982883963563,
         2.009434868288649,
         2.011814759628485,
         2.005070347631975,
         2.003068060191279,
         2.002617112728423,
         2.0244379829432617,
         2.020632389841964,
         2.0055397537219473,
         2.0043282508149907,
         2.015328247913475,
         2.0011378492212244,
         2.0072029776580345,
         2.014498211480896,
         2.0194830808750917,
         1.998418436721962,
         2.0091559995852744,
         1.996225295518555,
         2.020438757983174,
         2.027711552009696,
         2.002803365996559,
         2.0005740550259876,
         2.0086748463358273,
         2.0012802810518275,
         2.0120755045396055,
         2.009200021805228,
         2.012329260746012,
         2.0070600330723107,
         2.0043856423358934,
         2.010278535081389,
         2.010938851609008,
         2.0198358314511267,
         2.007399692141111,
         2.007169130603595,
         1.999579717022197,
         2.0169705624971983,
         2.0268052711316553,
         2.01978824302266,
         2.0109039537392657,
         2.0160762323279005,
         1.9986220095502918,
         2.0026905970471223,
         2.002030784513035,
         2.0130785409611756,
         2.004618967090029,
         2.024511380316122,
         2.0085149205251023,
         2.01056059598775,
         1.9987638663448555,
         2.0211162877397455,
         2.005613427746762,
         2.0301526953234807,
         2.027637062780277,
         1.9954418199259252,
         2.0116158700426836,
         1.9868270147470122,
         2.0061352976447067,
         2.0050234688738566,
         2.0156087144929318,
         2.0236886029267804,
         1.997278700683023
        ]
       ],
       "encoder": "json",
       "name": "ABC_GAN_3 Metrics",
       "version": 1
      }
     },
     "metadata": {
      "scrapbook": {
       "data": true,
       "display": false,
       "name": "ABC_GAN_3 Metrics"
      }
     },
     "output_type": "display_data"
    },
    {
     "name": "stdout",
     "output_type": "stream",
     "text": [
      "MSE\n",
      "0.20176103886371458\n"
     ]
    }
   ],
   "source": [
    "ABC_GAN3_metrics=ABC_train_test2.test_generator(gen3,test_data,prior_model,variance,bias,\"3\",device)\n",
    "sb.glue(\"ABC_GAN_3 Metrics\",ABC_GAN3_metrics)\n",
    "\n",
    "print(\"MSE\")\n",
    "print(mean(ABC_GAN3_metrics[0]))"
   ]
  },
  {
   "cell_type": "code",
   "execution_count": 18,
   "id": "c8e46b48",
   "metadata": {
    "execution": {
     "iopub.execute_input": "2022-06-22T12:23:47.969860Z",
     "iopub.status.busy": "2022-06-22T12:23:47.968941Z",
     "iopub.status.idle": "2022-06-22T12:23:48.685044Z",
     "shell.execute_reply": "2022-06-22T12:23:48.685501Z"
    },
    "id": "c8e46b48",
    "papermill": {
     "duration": 0.782424,
     "end_time": "2022-06-22T12:23:48.685705",
     "exception": false,
     "start_time": "2022-06-22T12:23:47.903281",
     "status": "completed"
    },
    "tags": []
   },
   "outputs": [
    {
     "data": {
      "image/png": "[encoded data removed]",
      "text/plain": [
       "<Figure size 432x288 with 1 Axes>"
      ]
     },
     "metadata": {
      "needs_background": "light"
     },
     "output_type": "display_data"
    },
    {
     "data": {
      "image/png": "[encoded data removed]",
      "text/plain": [
       "<Figure size 432x288 with 1 Axes>"
      ]
     },
     "metadata": {
      "needs_background": "light"
     },
     "output_type": "display_data"
    },
    {
     "data": {
      "image/png": "[encoded data removed]",
      "text/plain": [
       "<Figure size 432x288 with 1 Axes>"
      ]
     },
     "metadata": {
      "needs_background": "light"
     },
     "output_type": "display_data"
    },
    {
     "data": {
      "image/png": "[encoded data removed]",
      "text/plain": [
       "<Figure size 432x288 with 1 Axes>"
      ]
     },
     "metadata": {
      "needs_background": "light"
     },
     "output_type": "display_data"
    }
   ],
   "source": [
    "sanityChecks.discProbVsError(train_data,disc3,device)\n",
    "sanityChecks.discProbVsError(test_data,disc3,device)"
   ]
  },
  {
   "cell_type": "markdown",
   "id": "a5bd74c3",
   "metadata": {
    "id": "a5bd74c3",
    "papermill": {
     "duration": 0.047964,
     "end_time": "2022-06-22T12:23:48.779646",
     "exception": false,
     "start_time": "2022-06-22T12:23:48.731682",
     "status": "completed"
    },
    "tags": []
   },
   "source": [
    "## Skip Connection Model Analysis - ABC-GAN "
   ]
  },
  {
   "cell_type": "markdown",
   "id": "5744a8bf",
   "metadata": {
    "id": "5744a8bf",
    "papermill": {
     "duration": 0.046786,
     "end_time": "2022-06-22T12:23:48.868949",
     "exception": false,
     "start_time": "2022-06-22T12:23:48.822163",
     "status": "completed"
    },
    "tags": []
   },
   "source": [
    "### Weight Analysis \n",
    "\n",
    "Study the weights of the skip connection layer\n",
    "\n",
    "Equation of the skip connection is \n",
    "\n",
    "$output = y_{gan} * w + y_{abc} * (1-w)$"
   ]
  },
  {
   "cell_type": "code",
   "execution_count": 19,
   "id": "52c31dea",
   "metadata": {
    "execution": {
     "iopub.execute_input": "2022-06-22T12:23:48.979762Z",
     "iopub.status.busy": "2022-06-22T12:23:48.979011Z",
     "iopub.status.idle": "2022-06-22T12:23:48.984526Z",
     "shell.execute_reply": "2022-06-22T12:23:48.985018Z"
    },
    "id": "52c31dea",
    "papermill": {
     "duration": 0.065008,
     "end_time": "2022-06-22T12:23:48.985232",
     "exception": false,
     "start_time": "2022-06-22T12:23:48.920224",
     "status": "completed"
    },
    "tags": []
   },
   "outputs": [
    {
     "name": "stdout",
     "output_type": "stream",
     "text": [
      "Weight of the node at skip connection\n",
      "Parameter containing:\n",
      "tensor([[0.]], requires_grad=True)\n"
     ]
    },
    {
     "data": {
      "application/scrapbook.scrap.json+json": {
       "data": 0.0,
       "encoder": "json",
       "name": "Skip Connection Weight",
       "version": 1
      }
     },
     "metadata": {
      "scrapbook": {
       "data": true,
       "display": false,
       "name": "Skip Connection Weight"
      }
     },
     "output_type": "display_data"
    }
   ],
   "source": [
    "print(\"Weight of the node at skip connection\")\n",
    "for name,param in gen3.named_parameters():\n",
    "    if(name == \"skipNode.weight\"):\n",
    "        print(param)\n",
    "        sb.glue(\"Skip Connection Weight\",param.item())"
   ]
  }
 ],
 "metadata": {
  "colab": {
   "collapsed_sections": [],
   "name": "ABC_GAN_Model-Catboost_Pre-gen.ipynb",
   "provenance": []
  },
  "interpreter": {
   "hash": "31f2aee4e71d21fbe5cf8b01ff0e069b9275f58929596ceb00d14d90e3e16cd6"
  },
  "kernelspec": {
   "display_name": "Python 3 (ipykernel)",
   "language": "python",
   "name": "python3"
  },
  "language_info": {
   "codemirror_mode": {
    "name": "ipython",
    "version": 3
   },
   "file_extension": ".py",
   "mimetype": "text/x-python",
   "name": "python",
   "nbconvert_exporter": "python",
   "pygments_lexer": "ipython3",
   "version": "3.8.3"
  },
  "papermill": {
   "default_parameters": {},
   "duration": 134.486917,
   "end_time": "2022-06-22T12:23:49.910592",
   "environment_variables": {},
   "exception": null,
   "input_path": "ABC_GAN-TabNet.ipynb",
   "output_path": "./ABC_GAN_TabNet/ABC-GAN_output_2_11.ipynb",
   "parameters": {
    "bias": 0,
    "variance": 0.01
   },
   "start_time": "2022-06-22T12:21:35.423675",
   "version": "2.3.3"
  }
 },
 "nbformat": 4,
 "nbformat_minor": 5
}