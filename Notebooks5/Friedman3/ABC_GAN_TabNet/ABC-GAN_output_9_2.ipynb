{
 "cells": [
  {
   "cell_type": "markdown",
   "id": "622780e6",
   "metadata": {
    "id": "622780e6",
    "papermill": {
     "duration": 0.029124,
     "end_time": "2022-06-22T15:59:41.012789",
     "exception": false,
     "start_time": "2022-06-22T15:59:40.983665",
     "status": "completed"
    },
    "tags": []
   },
   "source": [
    "## Import Libraries "
   ]
  },
  {
   "cell_type": "code",
   "execution_count": 1,
   "id": "a62397e3",
   "metadata": {
    "execution": {
     "iopub.execute_input": "2022-06-22T15:59:41.097571Z",
     "iopub.status.busy": "2022-06-22T15:59:41.095838Z",
     "iopub.status.idle": "2022-06-22T15:59:41.100859Z",
     "shell.execute_reply": "2022-06-22T15:59:41.102662Z"
    },
    "id": "a62397e3",
    "papermill": {
     "duration": 0.068553,
     "end_time": "2022-06-22T15:59:41.104441",
     "exception": false,
     "start_time": "2022-06-22T15:59:41.035888",
     "status": "completed"
    },
    "tags": []
   },
   "outputs": [],
   "source": [
    "import warnings\n",
    "import sys\n",
    "sys.path.insert(0, '../../src')\n",
    "warnings.filterwarnings('ignore')"
   ]
  },
  {
   "cell_type": "code",
   "execution_count": 2,
   "id": "d6a4e155",
   "metadata": {
    "execution": {
     "iopub.execute_input": "2022-06-22T15:59:41.171345Z",
     "iopub.status.busy": "2022-06-22T15:59:41.169766Z",
     "iopub.status.idle": "2022-06-22T15:59:48.867012Z",
     "shell.execute_reply": "2022-06-22T15:59:48.867739Z"
    },
    "id": "d6a4e155",
    "papermill": {
     "duration": 7.739784,
     "end_time": "2022-06-22T15:59:48.868024",
     "exception": false,
     "start_time": "2022-06-22T15:59:41.128240",
     "status": "completed"
    },
    "tags": []
   },
   "outputs": [],
   "source": [
    "import ABC_train_test2\n",
    "import friedman3Dataset\n",
    "import network\n",
    "import dataset\n",
    "import sanityChecks\n",
    "import torch \n",
    "import scrapbook as sb\n",
    "from statistics import mean \n",
    "import catboost as ctb \n",
    "from sklearn.model_selection import train_test_split\n",
    "from sklearn.metrics import mean_squared_error,mean_absolute_error\n",
    "import numpy as np\n",
    "from pytorch_tabnet.tab_model import TabNetRegressor"
   ]
  },
  {
   "cell_type": "markdown",
   "id": "2fa5b0f7",
   "metadata": {
    "id": "2fa5b0f7",
    "papermill": {
     "duration": 0.028146,
     "end_time": "2022-06-22T15:59:48.915235",
     "exception": false,
     "start_time": "2022-06-22T15:59:48.887089",
     "status": "completed"
    },
    "tags": []
   },
   "source": [
    "## Parameters "
   ]
  },
  {
   "cell_type": "code",
   "execution_count": 3,
   "id": "783186fb",
   "metadata": {
    "execution": {
     "iopub.execute_input": "2022-06-22T15:59:48.973893Z",
     "iopub.status.busy": "2022-06-22T15:59:48.971590Z",
     "iopub.status.idle": "2022-06-22T15:59:48.974946Z",
     "shell.execute_reply": "2022-06-22T15:59:48.975477Z"
    },
    "id": "783186fb",
    "papermill": {
     "duration": 0.029929,
     "end_time": "2022-06-22T15:59:48.975701",
     "exception": false,
     "start_time": "2022-06-22T15:59:48.945772",
     "status": "completed"
    },
    "tags": [
     "parameters"
    ]
   },
   "outputs": [],
   "source": [
    "variance = 1\n",
    "bias = 1 "
   ]
  },
  {
   "cell_type": "code",
   "execution_count": 4,
   "id": "f7bfc0d9",
   "metadata": {
    "execution": {
     "iopub.execute_input": "2022-06-22T15:59:49.030273Z",
     "iopub.status.busy": "2022-06-22T15:59:49.028572Z",
     "iopub.status.idle": "2022-06-22T15:59:49.032832Z",
     "shell.execute_reply": "2022-06-22T15:59:49.034870Z"
    },
    "papermill": {
     "duration": 0.040467,
     "end_time": "2022-06-22T15:59:49.035563",
     "exception": false,
     "start_time": "2022-06-22T15:59:48.995096",
     "status": "completed"
    },
    "tags": [
     "injected-parameters"
    ]
   },
   "outputs": [],
   "source": [
    "# Parameters\n",
    "variance = 0.01\n",
    "bias = 1\n"
   ]
  },
  {
   "cell_type": "markdown",
   "id": "391cdbfd",
   "metadata": {
    "id": "391cdbfd",
    "papermill": {
     "duration": 0.022787,
     "end_time": "2022-06-22T15:59:49.085091",
     "exception": false,
     "start_time": "2022-06-22T15:59:49.062304",
     "status": "completed"
    },
    "tags": []
   },
   "source": [
    "## Dataset \n"
   ]
  },
  {
   "cell_type": "code",
   "execution_count": 5,
   "id": "5b51f161",
   "metadata": {
    "execution": {
     "iopub.execute_input": "2022-06-22T15:59:49.153733Z",
     "iopub.status.busy": "2022-06-22T15:59:49.152800Z",
     "iopub.status.idle": "2022-06-22T15:59:49.155911Z",
     "shell.execute_reply": "2022-06-22T15:59:49.156437Z"
    },
    "id": "5b51f161",
    "papermill": {
     "duration": 0.047943,
     "end_time": "2022-06-22T15:59:49.156675",
     "exception": false,
     "start_time": "2022-06-22T15:59:49.108732",
     "status": "completed"
    },
    "tags": []
   },
   "outputs": [],
   "source": [
    "#Parameters \n",
    "n_features = 4\n",
    "n_samples= 100\n",
    "n_target = 1"
   ]
  },
  {
   "cell_type": "code",
   "execution_count": 6,
   "id": "5d6eced4",
   "metadata": {
    "execution": {
     "iopub.execute_input": "2022-06-22T15:59:49.204101Z",
     "iopub.status.busy": "2022-06-22T15:59:49.203290Z",
     "iopub.status.idle": "2022-06-22T15:59:49.216938Z",
     "shell.execute_reply": "2022-06-22T15:59:49.217613Z"
    },
    "id": "5d6eced4",
    "papermill": {
     "duration": 0.040026,
     "end_time": "2022-06-22T15:59:49.217902",
     "exception": false,
     "start_time": "2022-06-22T15:59:49.177876",
     "status": "completed"
    },
    "tags": []
   },
   "outputs": [
    {
     "name": "stdout",
     "output_type": "stream",
     "text": [
      "          X1          X2        X3        X4         Y\n",
      "0  59.952024  889.184288  0.531137  7.311890  1.492142\n",
      "1  91.030152  773.934221  0.678027  8.403617  1.287767\n",
      "2  99.794766  604.189951  0.987700  1.809348  1.509389\n",
      "3  55.218678  189.080730  0.533314  7.810638  0.938311\n",
      "4  29.217081  978.382232  0.664172  6.167405  1.455136\n"
     ]
    }
   ],
   "source": [
    "X,Y = friedman3Dataset.friedman3_data(n_samples)"
   ]
  },
  {
   "cell_type": "code",
   "execution_count": 7,
   "id": "fe007438",
   "metadata": {
    "execution": {
     "iopub.execute_input": "2022-06-22T15:59:49.266653Z",
     "iopub.status.busy": "2022-06-22T15:59:49.265615Z",
     "iopub.status.idle": "2022-06-22T15:59:49.270916Z",
     "shell.execute_reply": "2022-06-22T15:59:49.272107Z"
    },
    "id": "fe007438",
    "papermill": {
     "duration": 0.035874,
     "end_time": "2022-06-22T15:59:49.272701",
     "exception": false,
     "start_time": "2022-06-22T15:59:49.236827",
     "status": "completed"
    },
    "tags": []
   },
   "outputs": [],
   "source": [
    "#Train test split for dataset \n",
    "X_train,X_test,Y_train,Y_test = train_test_split(X,Y,test_size = 0.2)\n",
    "train_data = dataset.CustomDataset(X_train,Y_train)\n",
    "test_data = dataset.CustomDataset(X_test,Y_test)\n"
   ]
  },
  {
   "cell_type": "markdown",
   "id": "a9a1af34",
   "metadata": {
    "id": "a9a1af34",
    "papermill": {
     "duration": 0.020806,
     "end_time": "2022-06-22T15:59:49.313392",
     "exception": false,
     "start_time": "2022-06-22T15:59:49.292586",
     "status": "completed"
    },
    "tags": []
   },
   "source": [
    "## Training Parameters "
   ]
  },
  {
   "cell_type": "code",
   "execution_count": 8,
   "id": "952b7fc8",
   "metadata": {
    "execution": {
     "iopub.execute_input": "2022-06-22T15:59:49.359585Z",
     "iopub.status.busy": "2022-06-22T15:59:49.358117Z",
     "iopub.status.idle": "2022-06-22T15:59:49.360539Z",
     "shell.execute_reply": "2022-06-22T15:59:49.361423Z"
    },
    "id": "952b7fc8",
    "papermill": {
     "duration": 0.026801,
     "end_time": "2022-06-22T15:59:49.361677",
     "exception": false,
     "start_time": "2022-06-22T15:59:49.334876",
     "status": "completed"
    },
    "tags": []
   },
   "outputs": [],
   "source": [
    "batch_size = 32\n",
    "n_epochs = 1000\n",
    "#Select the device \n",
    "device = torch.device('cuda' if torch.cuda.is_available() else 'cpu')"
   ]
  },
  {
   "cell_type": "markdown",
   "id": "a95e1600",
   "metadata": {
    "id": "a95e1600",
    "papermill": {
     "duration": 0.026269,
     "end_time": "2022-06-22T15:59:49.436878",
     "exception": false,
     "start_time": "2022-06-22T15:59:49.410609",
     "status": "completed"
    },
    "tags": []
   },
   "source": [
    "# ABC Pre-generator Model \n",
    "\n",
    "1. The catboost model is used as a pre-generator model for the ABC-GAN. \n",
    "2. The model is first trained on the entire dataset \n",
    "3. It generats X,Y pairs and we add some Gaussian noise with mean 0 and variance 1 to it which is then feed as input to the generator.\n"
   ]
  },
  {
   "cell_type": "code",
   "execution_count": 9,
   "id": "ff8ce7bd",
   "metadata": {
    "execution": {
     "iopub.execute_input": "2022-06-22T15:59:49.480407Z",
     "iopub.status.busy": "2022-06-22T15:59:49.479004Z",
     "iopub.status.idle": "2022-06-22T16:00:07.675763Z",
     "shell.execute_reply": "2022-06-22T16:00:07.678530Z"
    },
    "id": "ff8ce7bd",
    "papermill": {
     "duration": 18.224925,
     "end_time": "2022-06-22T16:00:07.679896",
     "exception": false,
     "start_time": "2022-06-22T15:59:49.454971",
     "status": "completed"
    },
    "tags": []
   },
   "outputs": [
    {
     "name": "stdout",
     "output_type": "stream",
     "text": [
      "Device used : cpu\n"
     ]
    },
    {
     "name": "stdout",
     "output_type": "stream",
     "text": [
      "epoch 0  | loss: 1.04868 | train_mse: 4.15488 | train_mae: 1.45567 |  0:00:00s\n",
      "epoch 1  | loss: 0.52881 | train_mse: 1.8811  | train_mae: 1.04434 |  0:00:00s\n"
     ]
    },
    {
     "name": "stdout",
     "output_type": "stream",
     "text": [
      "epoch 2  | loss: 0.48322 | train_mse: 1.31006 | train_mae: 0.85046 |  0:00:00s\n",
      "epoch 3  | loss: 0.49634 | train_mse: 1.12645 | train_mae: 0.78664 |  0:00:00s\n"
     ]
    },
    {
     "name": "stdout",
     "output_type": "stream",
     "text": [
      "epoch 4  | loss: 0.36515 | train_mse: 1.05346 | train_mae: 0.81868 |  0:00:00s\n",
      "epoch 5  | loss: 0.4987  | train_mse: 1.4534  | train_mae: 0.92892 |  0:00:00s\n",
      "epoch 6  | loss: 0.436   | train_mse: 2.43814 | train_mae: 1.05115 |  0:00:00s\n"
     ]
    },
    {
     "name": "stdout",
     "output_type": "stream",
     "text": [
      "epoch 7  | loss: 0.49622 | train_mse: 2.89185 | train_mae: 1.2075  |  0:00:00s\n",
      "epoch 8  | loss: 0.58073 | train_mse: 2.79648 | train_mae: 1.19168 |  0:00:01s\n",
      "epoch 9  | loss: 0.64451 | train_mse: 2.23739 | train_mae: 1.04226 |  0:00:01s\n"
     ]
    },
    {
     "name": "stdout",
     "output_type": "stream",
     "text": [
      "epoch 10 | loss: 0.53811 | train_mse: 1.7162  | train_mae: 0.92033 |  0:00:01s\n",
      "epoch 11 | loss: 0.48472 | train_mse: 0.75011 | train_mae: 0.64641 |  0:00:01s\n",
      "epoch 12 | loss: 0.57682 | train_mse: 0.67943 | train_mae: 0.62585 |  0:00:01s\n"
     ]
    },
    {
     "name": "stdout",
     "output_type": "stream",
     "text": [
      "epoch 13 | loss: 0.4615  | train_mse: 0.94326 | train_mae: 0.68559 |  0:00:01s\n",
      "epoch 14 | loss: 0.44433 | train_mse: 1.18552 | train_mae: 0.77473 |  0:00:01s\n"
     ]
    },
    {
     "name": "stdout",
     "output_type": "stream",
     "text": [
      "epoch 15 | loss: 0.33498 | train_mse: 1.17999 | train_mae: 0.78156 |  0:00:01s\n",
      "epoch 16 | loss: 0.34656 | train_mse: 1.16078 | train_mae: 0.78319 |  0:00:01s\n",
      "epoch 17 | loss: 0.56141 | train_mse: 0.9902  | train_mae: 0.71069 |  0:00:01s\n"
     ]
    },
    {
     "name": "stdout",
     "output_type": "stream",
     "text": [
      "epoch 18 | loss: 0.38486 | train_mse: 0.73397 | train_mae: 0.61152 |  0:00:01s\n",
      "epoch 19 | loss: 0.38101 | train_mse: 0.56213 | train_mae: 0.55841 |  0:00:02s\n",
      "epoch 20 | loss: 0.33226 | train_mse: 0.37183 | train_mae: 0.48315 |  0:00:02s\n"
     ]
    },
    {
     "name": "stdout",
     "output_type": "stream",
     "text": [
      "epoch 21 | loss: 0.35716 | train_mse: 0.32245 | train_mae: 0.45827 |  0:00:02s\n",
      "epoch 22 | loss: 0.43574 | train_mse: 0.38222 | train_mae: 0.46887 |  0:00:02s\n",
      "epoch 23 | loss: 0.30409 | train_mse: 0.33983 | train_mae: 0.43488 |  0:00:02s\n"
     ]
    },
    {
     "name": "stdout",
     "output_type": "stream",
     "text": [
      "epoch 24 | loss: 0.21529 | train_mse: 0.25884 | train_mae: 0.38678 |  0:00:02s\n",
      "epoch 25 | loss: 0.43938 | train_mse: 0.25132 | train_mae: 0.37838 |  0:00:02s\n"
     ]
    },
    {
     "name": "stdout",
     "output_type": "stream",
     "text": [
      "epoch 26 | loss: 0.33206 | train_mse: 0.29489 | train_mae: 0.38472 |  0:00:02s\n",
      "epoch 27 | loss: 0.33377 | train_mse: 0.31609 | train_mae: 0.3856  |  0:00:02s\n",
      "epoch 28 | loss: 0.26746 | train_mse: 0.25225 | train_mae: 0.36549 |  0:00:02s\n"
     ]
    },
    {
     "name": "stdout",
     "output_type": "stream",
     "text": [
      "epoch 29 | loss: 0.2444  | train_mse: 0.36461 | train_mae: 0.44051 |  0:00:02s\n",
      "epoch 30 | loss: 0.27806 | train_mse: 0.47994 | train_mae: 0.50509 |  0:00:03s\n",
      "epoch 31 | loss: 0.32647 | train_mse: 0.41813 | train_mae: 0.48577 |  0:00:03s\n"
     ]
    },
    {
     "name": "stdout",
     "output_type": "stream",
     "text": [
      "epoch 32 | loss: 0.29402 | train_mse: 0.30789 | train_mae: 0.42084 |  0:00:03s\n",
      "epoch 33 | loss: 0.3672  | train_mse: 0.27992 | train_mae: 0.40302 |  0:00:03s\n"
     ]
    },
    {
     "name": "stdout",
     "output_type": "stream",
     "text": [
      "epoch 34 | loss: 0.29906 | train_mse: 0.24797 | train_mae: 0.37994 |  0:00:03s\n",
      "epoch 35 | loss: 0.21432 | train_mse: 0.23795 | train_mae: 0.3794  |  0:00:03s\n"
     ]
    },
    {
     "name": "stdout",
     "output_type": "stream",
     "text": [
      "epoch 36 | loss: 0.26738 | train_mse: 0.24876 | train_mae: 0.38353 |  0:00:03s\n",
      "epoch 37 | loss: 0.21788 | train_mse: 0.34014 | train_mae: 0.40959 |  0:00:03s\n"
     ]
    },
    {
     "name": "stdout",
     "output_type": "stream",
     "text": [
      "epoch 38 | loss: 0.30858 | train_mse: 0.33969 | train_mae: 0.39836 |  0:00:03s\n",
      "epoch 39 | loss: 0.29346 | train_mse: 0.32952 | train_mae: 0.37641 |  0:00:04s\n",
      "epoch 40 | loss: 0.34151 | train_mse: 0.23935 | train_mae: 0.36154 |  0:00:04s\n"
     ]
    },
    {
     "name": "stdout",
     "output_type": "stream",
     "text": [
      "epoch 41 | loss: 0.36566 | train_mse: 0.2324  | train_mae: 0.34788 |  0:00:04s\n",
      "epoch 42 | loss: 0.3025  | train_mse: 0.25241 | train_mae: 0.3548  |  0:00:04s\n"
     ]
    },
    {
     "name": "stdout",
     "output_type": "stream",
     "text": [
      "epoch 43 | loss: 0.17562 | train_mse: 0.21072 | train_mae: 0.33619 |  0:00:04s\n",
      "epoch 44 | loss: 0.28242 | train_mse: 0.19487 | train_mae: 0.33317 |  0:00:04s\n"
     ]
    },
    {
     "name": "stdout",
     "output_type": "stream",
     "text": [
      "epoch 45 | loss: 0.27316 | train_mse: 0.25886 | train_mae: 0.36151 |  0:00:04s\n",
      "epoch 46 | loss: 0.44614 | train_mse: 0.27008 | train_mae: 0.34827 |  0:00:04s\n"
     ]
    },
    {
     "name": "stdout",
     "output_type": "stream",
     "text": [
      "epoch 47 | loss: 0.25422 | train_mse: 0.1685  | train_mae: 0.31722 |  0:00:04s\n",
      "epoch 48 | loss: 0.48306 | train_mse: 0.14508 | train_mae: 0.29983 |  0:00:05s\n",
      "epoch 49 | loss: 0.27159 | train_mse: 0.17065 | train_mae: 0.31635 |  0:00:05s\n"
     ]
    },
    {
     "name": "stdout",
     "output_type": "stream",
     "text": [
      "epoch 50 | loss: 0.28128 | train_mse: 0.22264 | train_mae: 0.33492 |  0:00:05s\n",
      "epoch 51 | loss: 0.2757  | train_mse: 0.15557 | train_mae: 0.29467 |  0:00:05s\n"
     ]
    },
    {
     "name": "stdout",
     "output_type": "stream",
     "text": [
      "epoch 52 | loss: 0.22189 | train_mse: 0.12131 | train_mae: 0.26752 |  0:00:05s\n",
      "epoch 53 | loss: 0.26633 | train_mse: 0.11859 | train_mae: 0.26193 |  0:00:05s\n"
     ]
    },
    {
     "name": "stdout",
     "output_type": "stream",
     "text": [
      "epoch 54 | loss: 0.34577 | train_mse: 0.128   | train_mae: 0.27472 |  0:00:05s\n",
      "epoch 55 | loss: 0.2401  | train_mse: 0.13679 | train_mae: 0.28828 |  0:00:05s\n"
     ]
    },
    {
     "name": "stdout",
     "output_type": "stream",
     "text": [
      "epoch 56 | loss: 0.15926 | train_mse: 0.2169  | train_mae: 0.34461 |  0:00:05s\n",
      "epoch 57 | loss: 0.36607 | train_mse: 0.22476 | train_mae: 0.36006 |  0:00:06s\n",
      "epoch 58 | loss: 0.27667 | train_mse: 0.16559 | train_mae: 0.3022  |  0:00:06s\n"
     ]
    },
    {
     "name": "stdout",
     "output_type": "stream",
     "text": [
      "epoch 59 | loss: 0.26663 | train_mse: 0.15906 | train_mae: 0.29434 |  0:00:06s\n",
      "epoch 60 | loss: 0.34696 | train_mse: 0.14519 | train_mae: 0.27609 |  0:00:06s\n",
      "epoch 61 | loss: 0.28248 | train_mse: 0.15309 | train_mae: 0.29066 |  0:00:06s\n"
     ]
    },
    {
     "name": "stdout",
     "output_type": "stream",
     "text": [
      "epoch 62 | loss: 0.23871 | train_mse: 0.15104 | train_mae: 0.29641 |  0:00:06s\n",
      "epoch 63 | loss: 0.35187 | train_mse: 0.16148 | train_mae: 0.32593 |  0:00:06s\n"
     ]
    },
    {
     "name": "stdout",
     "output_type": "stream",
     "text": [
      "epoch 64 | loss: 0.26997 | train_mse: 0.15147 | train_mae: 0.31214 |  0:00:06s\n",
      "epoch 65 | loss: 0.21985 | train_mse: 0.15013 | train_mae: 0.30137 |  0:00:06s\n",
      "epoch 66 | loss: 0.19181 | train_mse: 0.17698 | train_mae: 0.31494 |  0:00:06s\n"
     ]
    },
    {
     "name": "stdout",
     "output_type": "stream",
     "text": [
      "epoch 67 | loss: 0.28692 | train_mse: 0.15858 | train_mae: 0.29214 |  0:00:07s\n",
      "epoch 68 | loss: 0.21551 | train_mse: 0.1462  | train_mae: 0.29822 |  0:00:07s\n",
      "epoch 69 | loss: 0.32098 | train_mse: 0.17868 | train_mae: 0.33766 |  0:00:07s\n"
     ]
    },
    {
     "name": "stdout",
     "output_type": "stream",
     "text": [
      "epoch 70 | loss: 0.17759 | train_mse: 0.16826 | train_mae: 0.32468 |  0:00:07s\n",
      "epoch 71 | loss: 0.2069  | train_mse: 0.14105 | train_mae: 0.30308 |  0:00:07s\n"
     ]
    },
    {
     "name": "stdout",
     "output_type": "stream",
     "text": [
      "epoch 72 | loss: 0.16438 | train_mse: 0.13574 | train_mae: 0.30051 |  0:00:07s\n",
      "epoch 73 | loss: 0.20102 | train_mse: 0.13196 | train_mae: 0.28908 |  0:00:07s\n"
     ]
    },
    {
     "name": "stdout",
     "output_type": "stream",
     "text": [
      "epoch 74 | loss: 0.15171 | train_mse: 0.12034 | train_mae: 0.27194 |  0:00:07s\n",
      "epoch 75 | loss: 0.19131 | train_mse: 0.13695 | train_mae: 0.29145 |  0:00:07s\n"
     ]
    },
    {
     "name": "stdout",
     "output_type": "stream",
     "text": [
      "epoch 76 | loss: 0.22344 | train_mse: 0.11444 | train_mae: 0.26751 |  0:00:07s\n",
      "epoch 77 | loss: 0.34373 | train_mse: 0.10795 | train_mae: 0.25374 |  0:00:08s\n"
     ]
    },
    {
     "name": "stdout",
     "output_type": "stream",
     "text": [
      "epoch 78 | loss: 0.14194 | train_mse: 0.09695 | train_mae: 0.23973 |  0:00:08s\n",
      "epoch 79 | loss: 0.19812 | train_mse: 0.09268 | train_mae: 0.24172 |  0:00:08s\n"
     ]
    },
    {
     "name": "stdout",
     "output_type": "stream",
     "text": [
      "epoch 80 | loss: 0.15779 | train_mse: 0.13386 | train_mae: 0.28076 |  0:00:08s\n",
      "epoch 81 | loss: 0.18278 | train_mse: 0.11773 | train_mae: 0.26872 |  0:00:08s\n"
     ]
    },
    {
     "name": "stdout",
     "output_type": "stream",
     "text": [
      "epoch 82 | loss: 0.2881  | train_mse: 0.10781 | train_mae: 0.25766 |  0:00:08s\n",
      "epoch 83 | loss: 0.13091 | train_mse: 0.10724 | train_mae: 0.24867 |  0:00:08s\n"
     ]
    },
    {
     "name": "stdout",
     "output_type": "stream",
     "text": [
      "epoch 84 | loss: 0.16439 | train_mse: 0.13079 | train_mae: 0.26254 |  0:00:08s\n",
      "epoch 85 | loss: 0.29993 | train_mse: 0.16045 | train_mae: 0.27414 |  0:00:09s\n"
     ]
    },
    {
     "name": "stdout",
     "output_type": "stream",
     "text": [
      "epoch 86 | loss: 0.15985 | train_mse: 0.08945 | train_mae: 0.22204 |  0:00:09s\n",
      "epoch 87 | loss: 0.16618 | train_mse: 0.08623 | train_mae: 0.22047 |  0:00:09s\n"
     ]
    },
    {
     "name": "stdout",
     "output_type": "stream",
     "text": [
      "epoch 88 | loss: 0.35087 | train_mse: 0.08571 | train_mae: 0.21497 |  0:00:09s\n",
      "epoch 89 | loss: 0.13051 | train_mse: 0.08397 | train_mae: 0.22223 |  0:00:09s\n"
     ]
    },
    {
     "name": "stdout",
     "output_type": "stream",
     "text": [
      "epoch 90 | loss: 0.12369 | train_mse: 0.0843  | train_mae: 0.22278 |  0:00:10s\n",
      "epoch 91 | loss: 0.10519 | train_mse: 0.10584 | train_mae: 0.25502 |  0:00:10s\n"
     ]
    },
    {
     "name": "stdout",
     "output_type": "stream",
     "text": [
      "epoch 92 | loss: 0.22035 | train_mse: 0.11713 | train_mae: 0.26752 |  0:00:10s\n",
      "epoch 93 | loss: 0.15258 | train_mse: 0.09322 | train_mae: 0.23258 |  0:00:10s\n"
     ]
    },
    {
     "name": "stdout",
     "output_type": "stream",
     "text": [
      "epoch 94 | loss: 0.20939 | train_mse: 0.1001  | train_mae: 0.23238 |  0:00:10s\n",
      "epoch 95 | loss: 0.18529 | train_mse: 0.11321 | train_mae: 0.25219 |  0:00:10s\n"
     ]
    },
    {
     "name": "stdout",
     "output_type": "stream",
     "text": [
      "epoch 96 | loss: 0.15987 | train_mse: 0.10461 | train_mae: 0.24738 |  0:00:10s\n",
      "epoch 97 | loss: 0.39367 | train_mse: 0.14993 | train_mae: 0.2744  |  0:00:11s\n"
     ]
    },
    {
     "name": "stdout",
     "output_type": "stream",
     "text": [
      "epoch 98 | loss: 0.19622 | train_mse: 0.14887 | train_mae: 0.27619 |  0:00:11s\n",
      "epoch 99 | loss: 0.12997 | train_mse: 0.08778 | train_mae: 0.22499 |  0:00:11s\n",
      "epoch 100| loss: 0.15008 | train_mse: 0.14671 | train_mae: 0.28051 |  0:00:11s\n"
     ]
    },
    {
     "name": "stdout",
     "output_type": "stream",
     "text": [
      "epoch 101| loss: 0.16932 | train_mse: 0.22184 | train_mae: 0.31109 |  0:00:11s\n",
      "epoch 102| loss: 0.18947 | train_mse: 0.20831 | train_mae: 0.31741 |  0:00:11s\n"
     ]
    },
    {
     "name": "stdout",
     "output_type": "stream",
     "text": [
      "epoch 103| loss: 0.16445 | train_mse: 0.08424 | train_mae: 0.22906 |  0:00:11s\n",
      "epoch 104| loss: 0.11119 | train_mse: 0.07091 | train_mae: 0.2042  |  0:00:11s\n"
     ]
    },
    {
     "name": "stdout",
     "output_type": "stream",
     "text": [
      "epoch 105| loss: 0.13948 | train_mse: 0.08629 | train_mae: 0.22912 |  0:00:12s\n",
      "epoch 106| loss: 0.16985 | train_mse: 0.09154 | train_mae: 0.23598 |  0:00:12s\n"
     ]
    },
    {
     "name": "stdout",
     "output_type": "stream",
     "text": [
      "epoch 107| loss: 0.14505 | train_mse: 0.10074 | train_mae: 0.23052 |  0:00:12s\n",
      "epoch 108| loss: 0.1226  | train_mse: 0.09021 | train_mae: 0.22606 |  0:00:12s\n"
     ]
    },
    {
     "name": "stdout",
     "output_type": "stream",
     "text": [
      "epoch 109| loss: 0.1107  | train_mse: 0.07288 | train_mae: 0.21861 |  0:00:12s\n",
      "epoch 110| loss: 0.21979 | train_mse: 0.06165 | train_mae: 0.20278 |  0:00:12s\n"
     ]
    },
    {
     "name": "stdout",
     "output_type": "stream",
     "text": [
      "epoch 111| loss: 0.13716 | train_mse: 0.05645 | train_mae: 0.18838 |  0:00:12s\n",
      "epoch 112| loss: 0.09926 | train_mse: 0.0702  | train_mae: 0.20914 |  0:00:12s\n"
     ]
    },
    {
     "name": "stdout",
     "output_type": "stream",
     "text": [
      "epoch 113| loss: 0.26355 | train_mse: 0.08001 | train_mae: 0.22672 |  0:00:13s\n",
      "epoch 114| loss: 0.09771 | train_mse: 0.10685 | train_mae: 0.25097 |  0:00:13s\n"
     ]
    },
    {
     "name": "stdout",
     "output_type": "stream",
     "text": [
      "epoch 115| loss: 0.14896 | train_mse: 0.13525 | train_mae: 0.28673 |  0:00:13s\n",
      "epoch 116| loss: 0.29724 | train_mse: 0.11963 | train_mae: 0.26992 |  0:00:13s\n",
      "epoch 117| loss: 0.23897 | train_mse: 0.12726 | train_mae: 0.2854  |  0:00:13s\n"
     ]
    },
    {
     "name": "stdout",
     "output_type": "stream",
     "text": [
      "epoch 118| loss: 0.17985 | train_mse: 0.16645 | train_mae: 0.32001 |  0:00:13s\n",
      "epoch 119| loss: 0.18828 | train_mse: 0.13902 | train_mae: 0.29868 |  0:00:13s\n"
     ]
    },
    {
     "name": "stdout",
     "output_type": "stream",
     "text": [
      "epoch 120| loss: 0.15712 | train_mse: 0.13762 | train_mae: 0.29443 |  0:00:13s\n",
      "epoch 121| loss: 0.31538 | train_mse: 0.18519 | train_mae: 0.32523 |  0:00:13s\n"
     ]
    },
    {
     "name": "stdout",
     "output_type": "stream",
     "text": [
      "epoch 122| loss: 0.1984  | train_mse: 0.13128 | train_mae: 0.27979 |  0:00:14s\n",
      "epoch 123| loss: 0.24618 | train_mse: 0.14431 | train_mae: 0.30023 |  0:00:14s\n",
      "epoch 124| loss: 0.17758 | train_mse: 0.15046 | train_mae: 0.30689 |  0:00:14s\n"
     ]
    },
    {
     "name": "stdout",
     "output_type": "stream",
     "text": [
      "epoch 125| loss: 0.15803 | train_mse: 0.13342 | train_mae: 0.29166 |  0:00:14s\n",
      "epoch 126| loss: 0.19199 | train_mse: 0.1323  | train_mae: 0.28955 |  0:00:14s\n"
     ]
    },
    {
     "name": "stdout",
     "output_type": "stream",
     "text": [
      "epoch 127| loss: 0.25022 | train_mse: 0.11741 | train_mae: 0.26358 |  0:00:14s\n",
      "epoch 128| loss: 0.13712 | train_mse: 0.11798 | train_mae: 0.25586 |  0:00:14s\n"
     ]
    },
    {
     "name": "stdout",
     "output_type": "stream",
     "text": [
      "epoch 129| loss: 0.28717 | train_mse: 0.1239  | train_mae: 0.2645  |  0:00:14s\n",
      "epoch 130| loss: 0.26932 | train_mse: 0.14164 | train_mae: 0.28827 |  0:00:14s\n"
     ]
    },
    {
     "name": "stdout",
     "output_type": "stream",
     "text": [
      "epoch 131| loss: 0.2736  | train_mse: 0.11773 | train_mae: 0.26912 |  0:00:15s\n",
      "epoch 132| loss: 0.15289 | train_mse: 0.13808 | train_mae: 0.28965 |  0:00:15s\n",
      "epoch 133| loss: 0.22194 | train_mse: 0.18214 | train_mae: 0.32198 |  0:00:15s\n"
     ]
    },
    {
     "name": "stdout",
     "output_type": "stream",
     "text": [
      "epoch 134| loss: 0.16731 | train_mse: 0.15174 | train_mae: 0.2848  |  0:00:15s\n",
      "epoch 135| loss: 0.13686 | train_mse: 0.16635 | train_mae: 0.29766 |  0:00:15s\n"
     ]
    },
    {
     "name": "stdout",
     "output_type": "stream",
     "text": [
      "epoch 136| loss: 0.20826 | train_mse: 0.11646 | train_mae: 0.26309 |  0:00:15s\n",
      "epoch 137| loss: 0.12626 | train_mse: 0.11457 | train_mae: 0.26987 |  0:00:15s\n"
     ]
    },
    {
     "name": "stdout",
     "output_type": "stream",
     "text": [
      "epoch 138| loss: 0.14532 | train_mse: 0.09036 | train_mae: 0.2369  |  0:00:15s\n",
      "epoch 139| loss: 0.27533 | train_mse: 0.08362 | train_mae: 0.22752 |  0:00:15s\n",
      "epoch 140| loss: 0.18969 | train_mse: 0.10467 | train_mae: 0.25125 |  0:00:16s\n"
     ]
    },
    {
     "name": "stdout",
     "output_type": "stream",
     "text": [
      "epoch 141| loss: 0.21711 | train_mse: 0.15968 | train_mae: 0.28544 |  0:00:16s\n",
      "epoch 142| loss: 0.16071 | train_mse: 0.15614 | train_mae: 0.28718 |  0:00:16s\n",
      "epoch 143| loss: 0.11388 | train_mse: 0.10655 | train_mae: 0.25139 |  0:00:16s\n"
     ]
    },
    {
     "name": "stdout",
     "output_type": "stream",
     "text": [
      "epoch 144| loss: 0.18436 | train_mse: 0.07366 | train_mae: 0.20671 |  0:00:16s\n",
      "epoch 145| loss: 0.13591 | train_mse: 0.07217 | train_mae: 0.21066 |  0:00:16s\n"
     ]
    },
    {
     "name": "stdout",
     "output_type": "stream",
     "text": [
      "epoch 146| loss: 0.15516 | train_mse: 0.06695 | train_mae: 0.20177 |  0:00:16s\n",
      "epoch 147| loss: 0.1475  | train_mse: 0.07043 | train_mae: 0.20319 |  0:00:16s\n"
     ]
    },
    {
     "name": "stdout",
     "output_type": "stream",
     "text": [
      "epoch 148| loss: 0.16852 | train_mse: 0.09641 | train_mae: 0.22567 |  0:00:16s\n",
      "epoch 149| loss: 0.16064 | train_mse: 0.12896 | train_mae: 0.2514  |  0:00:16s\n",
      "epoch 150| loss: 0.13876 | train_mse: 0.09739 | train_mae: 0.22943 |  0:00:17s\n"
     ]
    },
    {
     "name": "stdout",
     "output_type": "stream",
     "text": [
      "epoch 151| loss: 0.1616  | train_mse: 0.09317 | train_mae: 0.23234 |  0:00:17s\n",
      "epoch 152| loss: 0.10802 | train_mse: 0.09151 | train_mae: 0.22813 |  0:00:17s\n"
     ]
    },
    {
     "name": "stdout",
     "output_type": "stream",
     "text": [
      "epoch 153| loss: 0.12506 | train_mse: 0.08561 | train_mae: 0.23665 |  0:00:17s\n",
      "epoch 154| loss: 0.11473 | train_mse: 0.09227 | train_mae: 0.24366 |  0:00:17s\n",
      "epoch 155| loss: 0.14171 | train_mse: 0.06246 | train_mae: 0.20029 |  0:00:17s\n"
     ]
    },
    {
     "name": "stdout",
     "output_type": "stream",
     "text": [
      "epoch 156| loss: 0.11385 | train_mse: 0.07374 | train_mae: 0.20765 |  0:00:17s\n",
      "epoch 157| loss: 0.23951 | train_mse: 0.07448 | train_mae: 0.21332 |  0:00:17s\n",
      "epoch 158| loss: 0.08706 | train_mse: 0.06277 | train_mae: 0.20128 |  0:00:17s\n"
     ]
    },
    {
     "name": "stdout",
     "output_type": "stream",
     "text": [
      "epoch 159| loss: 0.08998 | train_mse: 0.06275 | train_mae: 0.2012  |  0:00:17s\n",
      "epoch 160| loss: 0.19001 | train_mse: 0.06892 | train_mae: 0.2124  |  0:00:17s\n",
      "epoch 161| loss: 0.09439 | train_mse: 0.06295 | train_mae: 0.20625 |  0:00:18s\n"
     ]
    },
    {
     "name": "stdout",
     "output_type": "stream",
     "text": [
      "\n",
      "Early stopping occurred at epoch 161 with best_epoch = 111 and best_train_mae = 0.18838\n",
      "Best weights from best epoch are automatically used!\n"
     ]
    }
   ],
   "source": [
    "#Train the Model\n",
    "\n",
    "Y_train = np.reshape(Y_train, (-1, 1))\n",
    "Y_test = np.reshape(Y_test, (-1, 1))\n",
    "\n",
    "prior_model = TabNetRegressor(optimizer_fn=torch.optim.Adam, optimizer_params=dict(lr = 0.02),\n",
    "          #scheduler_params={\"step_size\":10, ], \"gamma\":0.9},\n",
    "          #scheduler_fn=torch.optim.lr_scheduler.StepLR\n",
    "          )  #TabNetRegressor()\n",
    "\n",
    "prior_model.fit(X_train,Y_train,eval_set=[(X_train, Y_train)],\n",
    "            eval_name=['train'], \n",
    "            eval_metric=[ 'mse', 'mae'], \n",
    "            max_epochs = n_epochs, \n",
    "            batch_size = batch_size,\n",
    "            patience=50\n",
    "            )"
   ]
  },
  {
   "cell_type": "code",
   "execution_count": 10,
   "id": "af65dcda",
   "metadata": {
    "execution": {
     "iopub.execute_input": "2022-06-22T16:00:07.787609Z",
     "iopub.status.busy": "2022-06-22T16:00:07.786688Z",
     "iopub.status.idle": "2022-06-22T16:00:07.807904Z",
     "shell.execute_reply": "2022-06-22T16:00:07.808393Z"
    },
    "id": "af65dcda",
    "papermill": {
     "duration": 0.084664,
     "end_time": "2022-06-22T16:00:07.808602",
     "exception": false,
     "start_time": "2022-06-22T16:00:07.723938",
     "status": "completed"
    },
    "tags": []
   },
   "outputs": [
    {
     "data": {
      "application/scrapbook.scrap.json+json": {
       "data": 0.4045347705132977,
       "encoder": "json",
       "name": "Prior Model MSE",
       "version": 1
      }
     },
     "metadata": {
      "scrapbook": {
       "data": true,
       "display": false,
       "name": "Prior Model MSE"
      }
     },
     "output_type": "display_data"
    },
    {
     "data": {
      "application/scrapbook.scrap.json+json": {
       "data": 1.4561506138864007,
       "encoder": "json",
       "name": "ABC Pre-generator MSE",
       "version": 1
      }
     },
     "metadata": {
      "scrapbook": {
       "data": true,
       "display": false,
       "name": "ABC Pre-generator MSE"
      }
     },
     "output_type": "display_data"
    },
    {
     "data": {
      "application/scrapbook.scrap.json+json": {
       "data": 0.48364712367845897,
       "encoder": "json",
       "name": "Prior Model MSE",
       "version": 1
      }
     },
     "metadata": {
      "scrapbook": {
       "data": true,
       "display": false,
       "name": "Prior Model MSE"
      }
     },
     "output_type": "display_data"
    },
    {
     "data": {
      "application/scrapbook.scrap.json+json": {
       "data": 1.0641782593066134,
       "encoder": "json",
       "name": "ABC Pre-generator MSE",
       "version": 1
      }
     },
     "metadata": {
      "scrapbook": {
       "data": true,
       "display": false,
       "name": "ABC Pre-generator MSE"
      }
     },
     "output_type": "display_data"
    }
   ],
   "source": [
    "y_pred = prior_model.predict(X_test)\n",
    "y_abc = y_pred + np.random.normal(0,variance, y_pred.shape) + bias \n",
    "mse = mean_squared_error(y_pred,Y_test)\n",
    "sb.glue(\"Prior Model MSE\",mse)\n",
    "mse = mean_squared_error(y_abc,Y_test)\n",
    "sb.glue(\"ABC Pre-generator MSE\",mse)\n",
    "mae = mean_absolute_error(y_pred,Y_test)\n",
    "sb.glue(\"Prior Model MSE\",mae)\n",
    "mae = mean_absolute_error(y_abc,Y_test)\n",
    "sb.glue(\"ABC Pre-generator MSE\",mae)"
   ]
  },
  {
   "cell_type": "markdown",
   "id": "25609da2",
   "metadata": {
    "papermill": {
     "duration": 0.040218,
     "end_time": "2022-06-22T16:00:07.881407",
     "exception": false,
     "start_time": "2022-06-22T16:00:07.841189",
     "status": "completed"
    },
    "tags": []
   },
   "source": [
    "# ABC GAN Model"
   ]
  },
  {
   "cell_type": "code",
   "execution_count": 11,
   "id": "dfc3464d",
   "metadata": {
    "execution": {
     "iopub.execute_input": "2022-06-22T16:00:07.968431Z",
     "iopub.status.busy": "2022-06-22T16:00:07.966877Z",
     "iopub.status.idle": "2022-06-22T16:00:07.970728Z",
     "shell.execute_reply": "2022-06-22T16:00:07.971452Z"
    },
    "papermill": {
     "duration": 0.050682,
     "end_time": "2022-06-22T16:00:07.971679",
     "exception": false,
     "start_time": "2022-06-22T16:00:07.920997",
     "status": "completed"
    },
    "tags": []
   },
   "outputs": [],
   "source": [
    "gen = network.Generator(n_features+1).to(device)\n",
    "disc = network.Discriminator(n_features+1).to(device)\n",
    "\n",
    "criterion = torch.nn.BCELoss()\n",
    "gen_opt = torch.optim.Adam(gen.parameters(), lr=0.001, betas=(0.5, 0.999))\n",
    "disc_opt = torch.optim.Adam(disc.parameters(), lr=0.001, betas=(0.5, 0.999))"
   ]
  },
  {
   "cell_type": "code",
   "execution_count": 12,
   "id": "b75fdd85",
   "metadata": {
    "execution": {
     "iopub.execute_input": "2022-06-22T16:00:08.098253Z",
     "iopub.status.busy": "2022-06-22T16:00:08.097516Z",
     "iopub.status.idle": "2022-06-22T16:01:12.326273Z",
     "shell.execute_reply": "2022-06-22T16:01:12.326810Z"
    },
    "papermill": {
     "duration": 64.314944,
     "end_time": "2022-06-22T16:01:12.327107",
     "exception": false,
     "start_time": "2022-06-22T16:00:08.012163",
     "status": "completed"
    },
    "tags": []
   },
   "outputs": [
    {
     "data": {
      "image/png": "[encoded data removed]",
      "text/plain": [
       "<Figure size 432x288 with 1 Axes>"
      ]
     },
     "metadata": {
      "needs_background": "light"
     },
     "output_type": "display_data"
    },
    {
     "data": {
      "image/png": "[encoded data removed]",
      "text/plain": [
       "<Figure size 432x288 with 1 Axes>"
      ]
     },
     "metadata": {
      "needs_background": "light"
     },
     "output_type": "display_data"
    }
   ],
   "source": [
    "#Training the ABC_GAN \n",
    "ABC_train_test2.training_GAN(disc,gen,disc_opt,gen_opt,train_data,batch_size,n_epochs,criterion,prior_model,variance,bias,device)"
   ]
  },
  {
   "cell_type": "code",
   "execution_count": 13,
   "id": "1fa7c368",
   "metadata": {
    "execution": {
     "iopub.execute_input": "2022-06-22T16:01:12.442095Z",
     "iopub.status.busy": "2022-06-22T16:01:12.441311Z",
     "iopub.status.idle": "2022-06-22T16:01:13.330840Z",
     "shell.execute_reply": "2022-06-22T16:01:13.331750Z"
    },
    "papermill": {
     "duration": 0.961691,
     "end_time": "2022-06-22T16:01:13.331982",
     "exception": false,
     "start_time": "2022-06-22T16:01:12.370291",
     "status": "completed"
    },
    "tags": []
   },
   "outputs": [
    {
     "data": {
      "application/scrapbook.scrap.json+json": {
       "data": 0.46649938278562475,
       "encoder": "json",
       "name": "ABC-GAN Model 1 MSE",
       "version": 1
      }
     },
     "metadata": {
      "scrapbook": {
       "data": true,
       "display": false,
       "name": "ABC-GAN Model 1 MSE"
      }
     },
     "output_type": "display_data"
    },
    {
     "data": {
      "application/scrapbook.scrap.json+json": {
       "data": 0.5635722125656902,
       "encoder": "json",
       "name": "ABC-GAN Model 1 MAE",
       "version": 1
      }
     },
     "metadata": {
      "scrapbook": {
       "data": true,
       "display": false,
       "name": "ABC-GAN Model 1 MAE"
      }
     },
     "output_type": "display_data"
    },
    {
     "data": {
      "application/scrapbook.scrap.json+json": {
       "data": 11.271444251313806,
       "encoder": "json",
       "name": "ABC-GAN Model 1 Manhattan Distance",
       "version": 1
      }
     },
     "metadata": {
      "scrapbook": {
       "data": true,
       "display": false,
       "name": "ABC-GAN Model 1 Manhattan Distance"
      }
     },
     "output_type": "display_data"
    },
    {
     "data": {
      "application/scrapbook.scrap.json+json": {
       "data": 3.0544809833056235,
       "encoder": "json",
       "name": "ABC-GAN Model 1 Euclidean distance",
       "version": 1
      }
     },
     "metadata": {
      "scrapbook": {
       "data": true,
       "display": false,
       "name": "ABC-GAN Model 1 Euclidean distance"
      }
     },
     "output_type": "display_data"
    },
    {
     "data": {
      "application/scrapbook.scrap.json+json": {
       "data": [
        [
         0.46333860824540096,
         0.46745736048001635,
         0.472124910420155,
         0.46807389453350323,
         0.45927357317664513,
         0.47080556518972416,
         0.4690107236278867,
         0.4667713165148843,
         0.46939435790113465,
         0.46463900831051586,
         0.4645989335266375,
         0.46366676359645786,
         0.464336339002781,
         0.4700652599040889,
         0.4596003242722918,
         0.46239923468416133,
         0.46287995036394475,
         0.468753596261798,
         0.469056718168061,
         0.4623429331618284,
         0.4668550585960479,
         0.4653295372629941,
         0.4642892769982098,
         0.464421625857082,
         0.46695086862162016,
         0.47261582851786804,
         0.4697320534342134,
         0.47002177365735537,
         0.4626080311670786,
         0.4673653948925908,
         0.46501508265802016,
         0.47215999175668155,
         0.4678760633794262,
         0.46618286608907206,
         0.46644242641876177,
         0.47187693629282845,
         0.46560143337706805,
         0.4618157830869082,
         0.46840354543503915,
         0.4650332297033974,
         0.46758816898989297,
         0.4637329037619211,
         0.464454573462462,
         0.46977930085980707,
         0.4656886524579426,
         0.46210842549132636,
         0.46698253332911344,
         0.4690512820985747,
         0.4688376571284718,
         0.4593432068870794,
         0.4668034758271794,
         0.4692416317470924,
         0.4666224374596678,
         0.4703289203448756,
         0.4697624492098381,
         0.46541437855762374,
         0.47177671544562766,
         0.46798606976422336,
         0.46458176457222056,
         0.4581388909250303,
         0.4650200228835786,
         0.4740259832693764,
         0.466581630199108,
         0.47031270158478267,
         0.4688107667742905,
         0.4732789100382452,
         0.46288164718041036,
         0.4643393430862023,
         0.46423678358161735,
         0.47098901542766153,
         0.4694797821512542,
         0.46568649070424356,
         0.46554457993911563,
         0.4666490306838364,
         0.4699649510750776,
         0.46595478888475583,
         0.4600699950970264,
         0.46479946891105406,
         0.4669249494545077,
         0.4691834276954305,
         0.4711578876277991,
         0.46906883328598853,
         0.4610337493739718,
         0.46366277965682023,
         0.466158447498448,
         0.4700192970895768,
         0.46631513354628124,
         0.46228453304661743,
         0.4574932569617576,
         0.463718383976524,
         0.459310819750849,
         0.4684556786829665,
         0.47138548027219596,
         0.46701328241034573,
         0.46718743506886673,
         0.46445284107355456,
         0.4684248370885462,
         0.46250930501123955,
         0.46747856568872137,
         0.4706638459656774
        ],
        [
         0.5612794671207666,
         0.5672686103731394,
         0.5685462448745966,
         0.5626982748508453,
         0.5590944975614548,
         0.5666505392640829,
         0.5636256314814091,
         0.5618616282939911,
         0.5635664854198694,
         0.559864915534854,
         0.5617897942662239,
         0.5628473803400993,
         0.5615600228309632,
         0.5658932093530893,
         0.559104698523879,
         0.5620429143309593,
         0.5602741658687591,
         0.5651387460529804,
         0.5693689979612827,
         0.5608616054058075,
         0.5615819685161114,
         0.5599839821457863,
         0.5611454892903567,
         0.5611559506505728,
         0.561019553989172,
         0.5677792899310589,
         0.5692850220948458,
         0.5673241928219795,
         0.5619904652237893,
         0.5654097117483616,
         0.5631873041391373,
         0.5680602483451367,
         0.5625649869441987,
         0.565324417501688,
         0.5604177746921778,
         0.5685919158160686,
         0.5626840483397245,
         0.5583467412739992,
         0.5663330599665641,
         0.56303682141006,
         0.5621721245348453,
         0.5620083197951317,
         0.5623586218804121,
         0.5677930641919374,
         0.563912459090352,
         0.5593386210501194,
         0.565070529282093,
         0.5668791923671961,
         0.5641384415328503,
         0.5574637752026319,
         0.5658847939223051,
         0.5669260732829571,
         0.5641328696161508,
         0.5645469624549151,
         0.565814658254385,
         0.5631574407219887,
         0.5679670840501785,
         0.5640904795378446,
         0.5626489706337452,
         0.5582225810736418,
         0.5629300452768803,
         0.5698449034243822,
         0.5635383073240519,
         0.5686848759651184,
         0.5641377028077841,
         0.5688484355807304,
         0.5610881090164185,
         0.5628578957170248,
         0.5623647138476372,
         0.5673188112676144,
         0.5663969825953246,
         0.562974589690566,
         0.5641624681651592,
         0.5628382276743651,
         0.567330076545477,
         0.5627431496977806,
         0.5587198421359062,
         0.5627045713365078,
         0.5621803738176823,
         0.566455676779151,
         0.5675298653542995,
         0.5624742560088635,
         0.55987289249897,
         0.5575800042599439,
         0.5623070858418941,
         0.5682037621736526,
         0.5632031705230475,
         0.5640864148736,
         0.5566719315946103,
         0.5613224752247333,
         0.5559329688549042,
         0.5641957797110081,
         0.568297766149044,
         0.5624039884656667,
         0.5631234776228666,
         0.5601987402886153,
         0.5641602359712123,
         0.5620362121611834,
         0.565807332098484,
         0.5666053012013436
        ],
        [
         11.225589342415333,
         11.345372207462788,
         11.370924897491932,
         11.253965497016907,
         11.181889951229095,
         11.333010785281658,
         11.272512629628181,
         11.237232565879822,
         11.271329708397388,
         11.197298310697079,
         11.235795885324478,
         11.256947606801987,
         11.231200456619263,
         11.317864187061787,
         11.182093970477581,
         11.240858286619186,
         11.205483317375183,
         11.302774921059608,
         11.387379959225655,
         11.21723210811615,
         11.231639370322227,
         11.199679642915726,
         11.222909785807133,
         11.223119013011456,
         11.22039107978344,
         11.355585798621178,
         11.385700441896915,
         11.34648385643959,
         11.239809304475784,
         11.308194234967232,
         11.263746082782745,
         11.361204966902733,
         11.251299738883972,
         11.30648835003376,
         11.208355493843555,
         11.371838316321373,
         11.25368096679449,
         11.166934825479984,
         11.326661199331284,
         11.260736428201199,
         11.243442490696907,
         11.240166395902634,
         11.247172437608242,
         11.355861283838749,
         11.278249181807041,
         11.186772421002388,
         11.301410585641861,
         11.337583847343922,
         11.282768830657005,
         11.149275504052639,
         11.317695878446102,
         11.338521465659142,
         11.282657392323017,
         11.290939249098301,
         11.3162931650877,
         11.263148814439774,
         11.35934168100357,
         11.281809590756893,
         11.252979412674904,
         11.164451621472836,
         11.258600905537605,
         11.396898068487644,
         11.270766146481037,
         11.373697519302368,
         11.282754056155682,
         11.376968711614609,
         11.22176218032837,
         11.257157914340496,
         11.247294276952744,
         11.346376225352287,
         11.32793965190649,
         11.259491793811321,
         11.283249363303185,
         11.2567645534873,
         11.346601530909538,
         11.254862993955612,
         11.174396842718124,
         11.254091426730156,
         11.243607476353645,
         11.32911353558302,
         11.350597307085991,
         11.249485120177269,
         11.1974578499794,
         11.15160008519888,
         11.246141716837883,
         11.364075243473053,
         11.264063410460949,
         11.281728297472,
         11.133438631892204,
         11.226449504494667,
         11.118659377098083,
         11.283915594220161,
         11.36595532298088,
         11.248079769313335,
         11.262469552457333,
         11.203974805772305,
         11.283204719424248,
         11.240724243223667,
         11.31614664196968,
         11.33210602402687
        ],
        [
         3.0441373433056564,
         3.057637520962929,
         3.072864821042914,
         3.0596532304609396,
         3.030754273037143,
         3.0685682824070386,
         3.0627135799087926,
         3.0553929911384046,
         3.0639659198533353,
         3.0484061681820416,
         3.048274703915766,
         3.0452151437836306,
         3.0474131292057565,
         3.066154790300349,
         3.0318321994209763,
         3.0410499327836145,
         3.0426302777825134,
         3.061873923798294,
         3.062863752007461,
         3.04086478871333,
         3.05566705842128,
         3.050670540268136,
         3.0472586926554492,
         3.0476929827562422,
         3.0559805909776987,
         3.0744619968959386,
         3.065067873422099,
         3.0660129603684174,
         3.0417364486986003,
         3.05733673282022,
         3.0496395939783447,
         3.0729789838418404,
         3.059006581815169,
         3.0534664435328973,
         3.054316376601356,
         3.0720577347856874,
         3.051561676837183,
         3.0391307411393416,
         3.060730453454009,
         3.049699098938771,
         3.058065300119973,
         3.0454323297749406,
         3.047801087546436,
         3.065222017602663,
         3.0518474813068317,
         3.040093503467702,
         3.0560842047597885,
         3.062846003633139,
         3.062148452078938,
         3.0309840213603216,
         3.055498243583784,
         3.063467420251413,
         3.054905685809851,
         3.067014575592609,
         3.065167040178522,
         3.050948634630297,
         3.0717314838560603,
         3.059366175416808,
         3.04821837988101,
         3.027008063831447,
         3.0496557933103814,
         3.079045252247444,
         3.0547721034444058,
         3.0669616938748443,
         3.062060635501167,
         3.076617980959759,
         3.042635854585331,
         3.0474229870046012,
         3.0470864233940507,
         3.0691660607652413,
         3.064244710042767,
         3.05184039787222,
         3.0513753618298605,
         3.0549927354540025,
         3.065827624231596,
         3.0527194069706303,
         3.0333809358437867,
         3.048932498141125,
         3.0558957752335325,
         3.0632774203308144,
         3.0697162332300327,
         3.0629033066226183,
         3.0365564357474795,
         3.04520206113427,
         3.0533864724218844,
         3.066004882871444,
         3.053899584289834,
         3.0406727316388964,
         3.02487440057189,
         3.0453846521466676,
         3.0308771659400815,
         3.060900778146742,
         3.0704575563658127,
         3.056184819052492,
         3.056754602740844,
         3.0477954034795527,
         3.0608000166248894,
         3.0414118596837216,
         3.057706871787161,
         3.06810640612635
        ]
       ],
       "encoder": "json",
       "name": "ABC_GAN_1 Metrics",
       "version": 1
      }
     },
     "metadata": {
      "scrapbook": {
       "data": true,
       "display": false,
       "name": "ABC_GAN_1 Metrics"
      }
     },
     "output_type": "display_data"
    },
    {
     "name": "stdout",
     "output_type": "stream",
     "text": [
      "MSE\n",
      "0.46649938278562475\n"
     ]
    }
   ],
   "source": [
    "ABC_GAN1_metrics=ABC_train_test2.test_generator(gen,test_data,prior_model,variance,bias,\"1\",device)\n",
    "sb.glue(\"ABC_GAN_1 Metrics\",ABC_GAN1_metrics)\n",
    "\n",
    "print(\"MSE\")\n",
    "print(mean(ABC_GAN1_metrics[0]))"
   ]
  },
  {
   "cell_type": "code",
   "execution_count": 14,
   "id": "eb22ce5c",
   "metadata": {
    "execution": {
     "iopub.execute_input": "2022-06-22T16:01:13.459786Z",
     "iopub.status.busy": "2022-06-22T16:01:13.452704Z",
     "iopub.status.idle": "2022-06-22T16:01:14.461171Z",
     "shell.execute_reply": "2022-06-22T16:01:14.462849Z"
    },
    "papermill": {
     "duration": 1.087821,
     "end_time": "2022-06-22T16:01:14.463498",
     "exception": false,
     "start_time": "2022-06-22T16:01:13.375677",
     "status": "completed"
    },
    "tags": []
   },
   "outputs": [
    {
     "data": {
      "image/png": "[encoded data removed]",
      "text/plain": [
       "<Figure size 432x288 with 1 Axes>"
      ]
     },
     "metadata": {
      "needs_background": "light"
     },
     "output_type": "display_data"
    },
    {
     "data": {
      "image/png": "[encoded data removed]",
      "text/plain": [
       "<Figure size 432x288 with 1 Axes>"
      ]
     },
     "metadata": {
      "needs_background": "light"
     },
     "output_type": "display_data"
    },
    {
     "data": {
      "image/png": "[encoded data removed]",
      "text/plain": [
       "<Figure size 432x288 with 1 Axes>"
      ]
     },
     "metadata": {
      "needs_background": "light"
     },
     "output_type": "display_data"
    },
    {
     "data": {
      "image/png": "[encoded data removed]",
      "text/plain": [
       "<Figure size 432x288 with 1 Axes>"
      ]
     },
     "metadata": {
      "needs_background": "light"
     },
     "output_type": "display_data"
    }
   ],
   "source": [
    "sanityChecks.discProbVsError(train_data,disc,device)\n",
    "sanityChecks.discProbVsError(test_data,disc,device)"
   ]
  },
  {
   "cell_type": "markdown",
   "id": "130f3a4d",
   "metadata": {
    "id": "130f3a4d",
    "papermill": {
     "duration": 0.068744,
     "end_time": "2022-06-22T16:01:14.600424",
     "exception": false,
     "start_time": "2022-06-22T16:01:14.531680",
     "status": "completed"
    },
    "tags": []
   },
   "source": [
    "# ABC - GAN Model with skip connection"
   ]
  },
  {
   "cell_type": "code",
   "execution_count": 15,
   "id": "4e43dad1",
   "metadata": {
    "execution": {
     "iopub.execute_input": "2022-06-22T16:01:14.755781Z",
     "iopub.status.busy": "2022-06-22T16:01:14.754761Z",
     "iopub.status.idle": "2022-06-22T16:01:14.758552Z",
     "shell.execute_reply": "2022-06-22T16:01:14.759185Z"
    },
    "id": "4e43dad1",
    "papermill": {
     "duration": 0.089086,
     "end_time": "2022-06-22T16:01:14.759468",
     "exception": false,
     "start_time": "2022-06-22T16:01:14.670382",
     "status": "completed"
    },
    "tags": []
   },
   "outputs": [],
   "source": [
    "#Generator\n",
    "gen3 = network.GeneratorWithSkipConnection(n_features+1).to(device)\n",
    "constraints=network.weightConstraint()\n",
    "#Discriminator \n",
    "disc3 = network.Discriminator(n_features+1).to(device)\n",
    "\n",
    "criterion = torch.nn.BCELoss()\n",
    "gen_opt = torch.optim.Adam(gen3.parameters(), lr=0.001, betas=(0.5, 0.999))\n",
    "disc_opt = torch.optim.Adam(disc3.parameters(), lr=0.001, betas=(0.5, 0.999))\n"
   ]
  },
  {
   "cell_type": "code",
   "execution_count": 16,
   "id": "26acbc37",
   "metadata": {
    "execution": {
     "iopub.execute_input": "2022-06-22T16:01:14.898855Z",
     "iopub.status.busy": "2022-06-22T16:01:14.897520Z",
     "iopub.status.idle": "2022-06-22T16:03:24.842781Z",
     "shell.execute_reply": "2022-06-22T16:03:24.844079Z"
    },
    "id": "26acbc37",
    "papermill": {
     "duration": 130.029406,
     "end_time": "2022-06-22T16:03:24.844331",
     "exception": false,
     "start_time": "2022-06-22T16:01:14.814925",
     "status": "completed"
    },
    "tags": []
   },
   "outputs": [
    {
     "data": {
      "image/png": "[encoded data removed]",
      "text/plain": [
       "<Figure size 432x288 with 1 Axes>"
      ]
     },
     "metadata": {
      "needs_background": "light"
     },
     "output_type": "display_data"
    },
    {
     "data": {
      "image/png": "[encoded data removed]",
      "text/plain": [
       "<Figure size 432x288 with 1 Axes>"
      ]
     },
     "metadata": {
      "needs_background": "light"
     },
     "output_type": "display_data"
    }
   ],
   "source": [
    "ABC_train_test2.training_GAN_skip_connection(disc3,gen3,disc_opt,gen_opt,train_data,batch_size,n_epochs,criterion,prior_model,variance,bias,device)"
   ]
  },
  {
   "cell_type": "code",
   "execution_count": 17,
   "id": "c5e0717b",
   "metadata": {
    "execution": {
     "iopub.execute_input": "2022-06-22T16:03:24.986745Z",
     "iopub.status.busy": "2022-06-22T16:03:24.984061Z",
     "iopub.status.idle": "2022-06-22T16:03:26.213165Z",
     "shell.execute_reply": "2022-06-22T16:03:26.213779Z"
    },
    "id": "c5e0717b",
    "papermill": {
     "duration": 1.315485,
     "end_time": "2022-06-22T16:03:26.214068",
     "exception": false,
     "start_time": "2022-06-22T16:03:24.898583",
     "status": "completed"
    },
    "tags": []
   },
   "outputs": [
    {
     "data": {
      "application/scrapbook.scrap.json+json": {
       "data": 0.3391381372170495,
       "encoder": "json",
       "name": "ABC-GAN Model 3 MSE",
       "version": 1
      }
     },
     "metadata": {
      "scrapbook": {
       "data": true,
       "display": false,
       "name": "ABC-GAN Model 3 MSE"
      }
     },
     "output_type": "display_data"
    },
    {
     "data": {
      "application/scrapbook.scrap.json+json": {
       "data": 0.4479338722601533,
       "encoder": "json",
       "name": "ABC-GAN Model 3 MAE",
       "version": 1
      }
     },
     "metadata": {
      "scrapbook": {
       "data": true,
       "display": false,
       "name": "ABC-GAN Model 3 MAE"
      }
     },
     "output_type": "display_data"
    },
    {
     "data": {
      "application/scrapbook.scrap.json+json": {
       "data": 8.958677445203065,
       "encoder": "json",
       "name": "ABC-GAN Model 3 Manhattan Distance",
       "version": 1
      }
     },
     "metadata": {
      "scrapbook": {
       "data": true,
       "display": false,
       "name": "ABC-GAN Model 3 Manhattan Distance"
      }
     },
     "output_type": "display_data"
    },
    {
     "data": {
      "application/scrapbook.scrap.json+json": {
       "data": 2.604360665278019,
       "encoder": "json",
       "name": "ABC-GAN Model 3 Euclidean distance",
       "version": 1
      }
     },
     "metadata": {
      "scrapbook": {
       "data": true,
       "display": false,
       "name": "ABC-GAN Model 3 Euclidean distance"
      }
     },
     "output_type": "display_data"
    },
    {
     "data": {
      "application/scrapbook.scrap.json+json": {
       "data": [
        [
         0.34012826256866274,
         0.34278686589650537,
         0.33892074719938503,
         0.3393962929171807,
         0.33975295782649856,
         0.3372770944409698,
         0.3381248945828021,
         0.33645564308569753,
         0.33776840519986384,
         0.3390063256870962,
         0.3362087863207247,
         0.3404334472917615,
         0.3372927819361341,
         0.34258564389473917,
         0.3413795875645836,
         0.33861789733864534,
         0.3375506298268753,
         0.3355045592995965,
         0.34012207729313315,
         0.33822825697526215,
         0.3373361824972515,
         0.33937871070373865,
         0.3369948800688868,
         0.33961628941696,
         0.3354727309497365,
         0.3388907433799258,
         0.3371324189782791,
         0.3392588772425221,
         0.3328973930672924,
         0.3401677793388129,
         0.3401532667120326,
         0.3397194728336985,
         0.34015042279476737,
         0.33718990324292164,
         0.3427280147387307,
         0.33777566972859796,
         0.33953641472980517,
         0.3368319138155969,
         0.33718919597236857,
         0.3408460950889199,
         0.33751522480843044,
         0.33920568210185664,
         0.33730267745153447,
         0.3373421878218016,
         0.3387436264032753,
         0.3429142437894442,
         0.3431075845153569,
         0.3359499780108196,
         0.33550075301100446,
         0.341333306687035,
         0.3385032270258911,
         0.34076842731818824,
         0.3393539883109344,
         0.34136306265372474,
         0.3402102028007568,
         0.33994419339136284,
         0.34044582042693106,
         0.3404684371642799,
         0.34001919424334204,
         0.33512876130200925,
         0.3402314852232372,
         0.3411709349643745,
         0.3407075430950647,
         0.34219573577627616,
         0.3432108230776038,
         0.33918883713621967,
         0.34029917921312497,
         0.33706619609018856,
         0.3394956985698968,
         0.33911442573748296,
         0.33933509155512204,
         0.3455840943777176,
         0.33726808878486303,
         0.3379008968656637,
         0.3377727274539716,
         0.3393735164691705,
         0.3392073620549653,
         0.33899052333654967,
         0.3390706979406787,
         0.3385877258942089,
         0.33994997862047177,
         0.3424110918907423,
         0.33754314116497414,
         0.34298094558432574,
         0.33903199026621456,
         0.3403889811774832,
         0.33989815501884185,
         0.342433849316973,
         0.33480014137446745,
         0.3395585806222485,
         0.33993522205520066,
         0.3355925486353542,
         0.3394135331207,
         0.3404227860786314,
         0.33718963519793743,
         0.3363246540233372,
         0.3368994560443618,
         0.3416984411863832,
         0.33893994449091674,
         0.34070095053406363
        ],
        [
         0.4462566412985325,
         0.4497949071228504,
         0.44711132571101186,
         0.44805115312337873,
         0.44832145869731904,
         0.44442603439092637,
         0.4465799070894718,
         0.4470488354563713,
         0.446398401260376,
         0.4471843592822552,
         0.44704205840826033,
         0.45311135798692703,
         0.4465876244008541,
         0.44874811097979544,
         0.44911420792341233,
         0.4472342349588871,
         0.4484586104750633,
         0.4470571048557758,
         0.44949653148651125,
         0.4482294648885727,
         0.4478170119225979,
         0.44746419712901114,
         0.44538135528564454,
         0.4471851743757725,
         0.445213283598423,
         0.4460134573280811,
         0.4501528061926365,
         0.44893117174506186,
         0.4418461747467518,
         0.4481091469526291,
         0.44970394000411035,
         0.4479581482708454,
         0.449118047952652,
         0.45004201531410215,
         0.45195653662085533,
         0.4476764403283596,
         0.44799632728099825,
         0.4458876341581345,
         0.446278965473175,
         0.4490183763206005,
         0.4497177317738533,
         0.4480064444243908,
         0.4476321846246719,
         0.4451478846371174,
         0.4457019239664078,
         0.45270761772990226,
         0.4480342403054237,
         0.4461837664246559,
         0.4453741289675236,
         0.45053435787558554,
         0.44622177109122274,
         0.451286930590868,
         0.45170595347881315,
         0.45039896219968795,
         0.4497797891497612,
         0.4463847205042839,
         0.446287739276886,
         0.44788129180669783,
         0.44771280214190484,
         0.4471538200974464,
         0.44665894508361814,
         0.4494754746556282,
         0.4509547233581543,
         0.45243628695607185,
         0.44885839000344274,
         0.44874071776866914,
         0.4487200193107128,
         0.44537349194288256,
         0.44552338495850563,
         0.4485627308487892,
         0.445289671421051,
         0.45470965206623076,
         0.4438276179134846,
         0.44675650298595426,
         0.450014778226614,
         0.44742595702409743,
         0.44659910425543786,
         0.4462429918348789,
         0.4487218648195267,
         0.4476271465420723,
         0.4529974065721035,
         0.4519486203789711,
         0.4462066501379013,
         0.4517679013311863,
         0.4482918940484524,
         0.44903628900647163,
         0.446313863992691,
         0.4487519472837448,
         0.44248170033097267,
         0.4476070336997509,
         0.44660497158765794,
         0.44739519283175466,
         0.44789105355739595,
         0.44812269136309624,
         0.4467679515480995,
         0.44426337257027626,
         0.4425190255045891,
         0.4489485278725624,
         0.449862602353096,
         0.4492324762046337
        ],
        [
         8.92513282597065,
         8.995898142457008,
         8.942226514220238,
         8.961023062467575,
         8.96642917394638,
         8.888520687818527,
         8.931598141789436,
         8.940976709127426,
         8.92796802520752,
         8.943687185645103,
         8.940841168165207,
         9.06222715973854,
         8.931752488017082,
         8.97496221959591,
         8.982284158468246,
         8.944684699177742,
         8.969172209501266,
         8.941142097115517,
         8.989930629730225,
         8.964589297771454,
         8.956340238451958,
         8.949283942580223,
         8.90762710571289,
         8.94370348751545,
         8.90426567196846,
         8.920269146561623,
         9.00305612385273,
         8.978623434901237,
         8.836923494935036,
         8.962182939052582,
         8.994078800082207,
         8.959162965416908,
         8.98236095905304,
         9.000840306282043,
         9.039130732417107,
         8.953528806567192,
         8.959926545619965,
         8.91775268316269,
         8.925579309463501,
         8.98036752641201,
         8.994354635477066,
         8.960128888487816,
         8.952643692493439,
         8.902957692742348,
         8.914038479328156,
         9.054152354598045,
         8.960684806108475,
         8.923675328493118,
         8.907482579350471,
         9.010687157511711,
         8.924435421824455,
         9.02573861181736,
         9.034119069576263,
         9.00797924399376,
         8.995595782995224,
         8.927694410085678,
         8.92575478553772,
         8.957625836133957,
         8.954256042838097,
         8.943076401948929,
         8.933178901672363,
         8.989509493112564,
         9.019094467163086,
         9.048725739121437,
         8.977167800068855,
         8.974814355373383,
         8.974400386214256,
         8.90746983885765,
         8.910467699170113,
         8.971254616975784,
         8.90579342842102,
         9.094193041324615,
         8.876552358269691,
         8.935130059719086,
         9.00029556453228,
         8.948519140481949,
         8.931982085108757,
         8.924859836697578,
         8.974437296390533,
         8.952542930841446,
         9.05994813144207,
         9.038972407579422,
         8.924133002758026,
         9.035358026623726,
         8.965837880969048,
         8.980725780129433,
         8.92627727985382,
         8.975038945674896,
         8.849634006619453,
         8.952140673995018,
         8.932099431753159,
         8.947903856635094,
         8.957821071147919,
         8.962453827261925,
         8.93535903096199,
         8.885267451405525,
         8.850380510091782,
         8.978970557451248,
         8.99725204706192,
         8.984649524092674
        ],
        [
         2.608172780199436,
         2.618346294501571,
         2.6035389269199913,
         2.6053648225044443,
         2.606733426441985,
         2.597218105746877,
         2.6004803194133275,
         2.5940533652401894,
         2.599109098132912,
         2.6038676067999167,
         2.593101565001744,
         2.6093426271448585,
         2.597278506191179,
         2.617577673708038,
         2.6129660830733474,
         2.602375443085203,
         2.598271078339885,
         2.5903843703188008,
         2.608149065115463,
         2.6008777632763223,
         2.5974456009597255,
         2.605297336979941,
         2.596131275836747,
         2.6062090837726735,
         2.5902614962576136,
         2.6034236819231933,
         2.596661005900767,
         2.6048373355836336,
         2.5802999556923316,
         2.608324287119272,
         2.608268646869155,
         2.6066049675150182,
         2.608257743378777,
         2.59688237408983,
         2.618121520245883,
         2.5991370480549807,
         2.605902587319047,
         2.595503472606411,
         2.5968796505512866,
         2.610923572565539,
         2.598134811007429,
         2.6046331108309926,
         2.5973166054662435,
         2.597468720973562,
         2.6028585301674596,
         2.6188327315406923,
         2.6195708981257098,
         2.592103308168174,
         2.590369676362833,
         2.612788956984605,
         2.601934768689988,
         2.6106260832152435,
         2.605202442463673,
         2.6129028403433785,
         2.6084869284731207,
         2.607466944723798,
         2.6093900453053434,
         2.6094767182877106,
         2.6077545676054026,
         2.5889332216262715,
         2.6085685163446914,
         2.612167433241501,
         2.6103928558554736,
         2.616087673516605,
         2.619964973344506,
         2.6045684369439006,
         2.6088280097128864,
         2.596405962441885,
         2.6057463367330937,
         2.604282725579091,
         2.605129906761358,
         2.629007776244557,
         2.5971834312765165,
         2.5996188061547167,
         2.599125727832232,
         2.6052773996991974,
         2.604639560687679,
         2.60380691809723,
         2.6041148129092875,
         2.6022595024101993,
         2.6074891317912403,
         2.6169107431883964,
         2.598242256468685,
         2.619087419634273,
         2.60396616823727,
         2.6091722104049904,
         2.6072903751551797,
         2.616997704687465,
         2.58766358468201,
         2.605987646257167,
         2.6074325381693026,
         2.590724024806016,
         2.605430993600483,
         2.609301768974342,
         2.5968813419097048,
         2.593548357071205,
         2.595763687412095,
         2.6141860728968136,
         2.6036126612494295,
         2.6103676006802705
        ]
       ],
       "encoder": "json",
       "name": "ABC_GAN_3 Metrics",
       "version": 1
      }
     },
     "metadata": {
      "scrapbook": {
       "data": true,
       "display": false,
       "name": "ABC_GAN_3 Metrics"
      }
     },
     "output_type": "display_data"
    },
    {
     "name": "stdout",
     "output_type": "stream",
     "text": [
      "MSE\n",
      "0.3391381372170495\n"
     ]
    }
   ],
   "source": [
    "ABC_GAN3_metrics=ABC_train_test2.test_generator(gen3,test_data,prior_model,variance,bias,\"3\",device)\n",
    "sb.glue(\"ABC_GAN_3 Metrics\",ABC_GAN3_metrics)\n",
    "\n",
    "print(\"MSE\")\n",
    "print(mean(ABC_GAN3_metrics[0]))"
   ]
  },
  {
   "cell_type": "code",
   "execution_count": 18,
   "id": "c8e46b48",
   "metadata": {
    "execution": {
     "iopub.execute_input": "2022-06-22T16:03:26.364824Z",
     "iopub.status.busy": "2022-06-22T16:03:26.364000Z",
     "iopub.status.idle": "2022-06-22T16:03:27.728560Z",
     "shell.execute_reply": "2022-06-22T16:03:27.727789Z"
    },
    "id": "c8e46b48",
    "papermill": {
     "duration": 1.456594,
     "end_time": "2022-06-22T16:03:27.728796",
     "exception": false,
     "start_time": "2022-06-22T16:03:26.272202",
     "status": "completed"
    },
    "tags": []
   },
   "outputs": [
    {
     "data": {
      "image/png": "[encoded data removed]",
      "text/plain": [
       "<Figure size 432x288 with 1 Axes>"
      ]
     },
     "metadata": {
      "needs_background": "light"
     },
     "output_type": "display_data"
    },
    {
     "data": {
      "image/png": "[encoded data removed]",
      "text/plain": [
       "<Figure size 432x288 with 1 Axes>"
      ]
     },
     "metadata": {
      "needs_background": "light"
     },
     "output_type": "display_data"
    },
    {
     "data": {
      "image/png": "[encoded data removed]",
      "text/plain": [
       "<Figure size 432x288 with 1 Axes>"
      ]
     },
     "metadata": {
      "needs_background": "light"
     },
     "output_type": "display_data"
    },
    {
     "data": {
      "image/png": "[encoded data removed]",
      "text/plain": [
       "<Figure size 432x288 with 1 Axes>"
      ]
     },
     "metadata": {
      "needs_background": "light"
     },
     "output_type": "display_data"
    }
   ],
   "source": [
    "sanityChecks.discProbVsError(train_data,disc3,device)\n",
    "sanityChecks.discProbVsError(test_data,disc3,device)"
   ]
  },
  {
   "cell_type": "markdown",
   "id": "a5bd74c3",
   "metadata": {
    "id": "a5bd74c3",
    "papermill": {
     "duration": 0.092066,
     "end_time": "2022-06-22T16:03:27.906337",
     "exception": false,
     "start_time": "2022-06-22T16:03:27.814271",
     "status": "completed"
    },
    "tags": []
   },
   "source": [
    "## Skip Connection Model Analysis - ABC-GAN "
   ]
  },
  {
   "cell_type": "markdown",
   "id": "5744a8bf",
   "metadata": {
    "id": "5744a8bf",
    "papermill": {
     "duration": 0.090889,
     "end_time": "2022-06-22T16:03:28.053050",
     "exception": false,
     "start_time": "2022-06-22T16:03:27.962161",
     "status": "completed"
    },
    "tags": []
   },
   "source": [
    "### Weight Analysis \n",
    "\n",
    "Study the weights of the skip connection layer\n",
    "\n",
    "Equation of the skip connection is \n",
    "\n",
    "$output = y_{gan} * w + y_{abc} * (1-w)$"
   ]
  },
  {
   "cell_type": "code",
   "execution_count": 19,
   "id": "52c31dea",
   "metadata": {
    "execution": {
     "iopub.execute_input": "2022-06-22T16:03:28.207050Z",
     "iopub.status.busy": "2022-06-22T16:03:28.206211Z",
     "iopub.status.idle": "2022-06-22T16:03:28.215991Z",
     "shell.execute_reply": "2022-06-22T16:03:28.216887Z"
    },
    "id": "52c31dea",
    "papermill": {
     "duration": 0.090076,
     "end_time": "2022-06-22T16:03:28.217203",
     "exception": false,
     "start_time": "2022-06-22T16:03:28.127127",
     "status": "completed"
    },
    "tags": []
   },
   "outputs": [
    {
     "name": "stdout",
     "output_type": "stream",
     "text": [
      "Weight of the node at skip connection\n",
      "Parameter containing:\n",
      "tensor([[0.6406]], requires_grad=True)\n"
     ]
    },
    {
     "data": {
      "application/scrapbook.scrap.json+json": {
       "data": 0.6405766010284424,
       "encoder": "json",
       "name": "Skip Connection Weight",
       "version": 1
      }
     },
     "metadata": {
      "scrapbook": {
       "data": true,
       "display": false,
       "name": "Skip Connection Weight"
      }
     },
     "output_type": "display_data"
    }
   ],
   "source": [
    "print(\"Weight of the node at skip connection\")\n",
    "for name,param in gen3.named_parameters():\n",
    "    if(name == \"skipNode.weight\"):\n",
    "        print(param)\n",
    "        sb.glue(\"Skip Connection Weight\",param.item())"
   ]
  }
 ],
 "metadata": {
  "colab": {
   "collapsed_sections": [],
   "name": "ABC_GAN_Model-Catboost_Pre-gen.ipynb",
   "provenance": []
  },
  "interpreter": {
   "hash": "31f2aee4e71d21fbe5cf8b01ff0e069b9275f58929596ceb00d14d90e3e16cd6"
  },
  "kernelspec": {
   "display_name": "Python 3 (ipykernel)",
   "language": "python",
   "name": "python3"
  },
  "language_info": {
   "codemirror_mode": {
    "name": "ipython",
    "version": 3
   },
   "file_extension": ".py",
   "mimetype": "text/x-python",
   "name": "python",
   "nbconvert_exporter": "python",
   "pygments_lexer": "ipython3",
   "version": "3.8.3"
  },
  "papermill": {
   "default_parameters": {},
   "duration": 234.363079,
   "end_time": "2022-06-22T16:03:30.942045",
   "environment_variables": {},
   "exception": null,
   "input_path": "ABC_GAN-TabNet.ipynb",
   "output_path": "./ABC_GAN_TabNet/ABC-GAN_output_9_2.ipynb",
   "parameters": {
    "bias": 1,
    "variance": 0.01
   },
   "start_time": "2022-06-22T15:59:36.578966",
   "version": "2.3.3"
  }
 },
 "nbformat": 4,
 "nbformat_minor": 5
}