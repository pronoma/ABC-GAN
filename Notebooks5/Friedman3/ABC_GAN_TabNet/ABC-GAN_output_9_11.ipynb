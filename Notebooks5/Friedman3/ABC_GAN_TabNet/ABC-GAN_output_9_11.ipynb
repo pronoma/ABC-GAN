{
 "cells": [
  {
   "cell_type": "markdown",
   "id": "622780e6",
   "metadata": {
    "id": "622780e6",
    "papermill": {
     "duration": 0.032338,
     "end_time": "2022-06-22T16:34:35.877686",
     "exception": false,
     "start_time": "2022-06-22T16:34:35.845348",
     "status": "completed"
    },
    "tags": []
   },
   "source": [
    "## Import Libraries "
   ]
  },
  {
   "cell_type": "code",
   "execution_count": 1,
   "id": "a62397e3",
   "metadata": {
    "execution": {
     "iopub.execute_input": "2022-06-22T16:34:35.942944Z",
     "iopub.status.busy": "2022-06-22T16:34:35.938832Z",
     "iopub.status.idle": "2022-06-22T16:34:35.946179Z",
     "shell.execute_reply": "2022-06-22T16:34:35.947108Z"
    },
    "id": "a62397e3",
    "papermill": {
     "duration": 0.047014,
     "end_time": "2022-06-22T16:34:35.947536",
     "exception": false,
     "start_time": "2022-06-22T16:34:35.900522",
     "status": "completed"
    },
    "tags": []
   },
   "outputs": [],
   "source": [
    "import warnings\n",
    "import sys\n",
    "sys.path.insert(0, '../../src')\n",
    "warnings.filterwarnings('ignore')"
   ]
  },
  {
   "cell_type": "code",
   "execution_count": 2,
   "id": "d6a4e155",
   "metadata": {
    "execution": {
     "iopub.execute_input": "2022-06-22T16:34:36.006222Z",
     "iopub.status.busy": "2022-06-22T16:34:36.003549Z",
     "iopub.status.idle": "2022-06-22T16:34:43.744475Z",
     "shell.execute_reply": "2022-06-22T16:34:43.743460Z"
    },
    "id": "d6a4e155",
    "papermill": {
     "duration": 7.775194,
     "end_time": "2022-06-22T16:34:43.744863",
     "exception": false,
     "start_time": "2022-06-22T16:34:35.969669",
     "status": "completed"
    },
    "tags": []
   },
   "outputs": [],
   "source": [
    "import ABC_train_test2\n",
    "import friedman3Dataset\n",
    "import network\n",
    "import dataset\n",
    "import sanityChecks\n",
    "import torch \n",
    "import scrapbook as sb\n",
    "from statistics import mean \n",
    "import catboost as ctb \n",
    "from sklearn.model_selection import train_test_split\n",
    "from sklearn.metrics import mean_squared_error,mean_absolute_error\n",
    "import numpy as np\n",
    "from pytorch_tabnet.tab_model import TabNetRegressor"
   ]
  },
  {
   "cell_type": "markdown",
   "id": "2fa5b0f7",
   "metadata": {
    "id": "2fa5b0f7",
    "papermill": {
     "duration": 0.032366,
     "end_time": "2022-06-22T16:34:43.797656",
     "exception": false,
     "start_time": "2022-06-22T16:34:43.765290",
     "status": "completed"
    },
    "tags": []
   },
   "source": [
    "## Parameters "
   ]
  },
  {
   "cell_type": "code",
   "execution_count": 3,
   "id": "783186fb",
   "metadata": {
    "execution": {
     "iopub.execute_input": "2022-06-22T16:34:43.854413Z",
     "iopub.status.busy": "2022-06-22T16:34:43.848921Z",
     "iopub.status.idle": "2022-06-22T16:34:43.855508Z",
     "shell.execute_reply": "2022-06-22T16:34:43.856074Z"
    },
    "id": "783186fb",
    "papermill": {
     "duration": 0.033494,
     "end_time": "2022-06-22T16:34:43.856355",
     "exception": false,
     "start_time": "2022-06-22T16:34:43.822861",
     "status": "completed"
    },
    "tags": [
     "parameters"
    ]
   },
   "outputs": [],
   "source": [
    "variance = 1\n",
    "bias = 1 "
   ]
  },
  {
   "cell_type": "code",
   "execution_count": 4,
   "id": "28e22d11",
   "metadata": {
    "execution": {
     "iopub.execute_input": "2022-06-22T16:34:43.905551Z",
     "iopub.status.busy": "2022-06-22T16:34:43.902012Z",
     "iopub.status.idle": "2022-06-22T16:34:43.908695Z",
     "shell.execute_reply": "2022-06-22T16:34:43.909729Z"
    },
    "papermill": {
     "duration": 0.035496,
     "end_time": "2022-06-22T16:34:43.910203",
     "exception": false,
     "start_time": "2022-06-22T16:34:43.874707",
     "status": "completed"
    },
    "tags": [
     "injected-parameters"
    ]
   },
   "outputs": [],
   "source": [
    "# Parameters\n",
    "variance = 0.01\n",
    "bias = 0\n"
   ]
  },
  {
   "cell_type": "markdown",
   "id": "391cdbfd",
   "metadata": {
    "id": "391cdbfd",
    "papermill": {
     "duration": 0.02028,
     "end_time": "2022-06-22T16:34:43.950519",
     "exception": false,
     "start_time": "2022-06-22T16:34:43.930239",
     "status": "completed"
    },
    "tags": []
   },
   "source": [
    "## Dataset \n"
   ]
  },
  {
   "cell_type": "code",
   "execution_count": 5,
   "id": "5b51f161",
   "metadata": {
    "execution": {
     "iopub.execute_input": "2022-06-22T16:34:43.999864Z",
     "iopub.status.busy": "2022-06-22T16:34:43.997429Z",
     "iopub.status.idle": "2022-06-22T16:34:44.002265Z",
     "shell.execute_reply": "2022-06-22T16:34:44.004115Z"
    },
    "id": "5b51f161",
    "papermill": {
     "duration": 0.033476,
     "end_time": "2022-06-22T16:34:44.004402",
     "exception": false,
     "start_time": "2022-06-22T16:34:43.970926",
     "status": "completed"
    },
    "tags": []
   },
   "outputs": [],
   "source": [
    "#Parameters \n",
    "n_features = 4\n",
    "n_samples= 100\n",
    "n_target = 1"
   ]
  },
  {
   "cell_type": "code",
   "execution_count": 6,
   "id": "5d6eced4",
   "metadata": {
    "execution": {
     "iopub.execute_input": "2022-06-22T16:34:44.076219Z",
     "iopub.status.busy": "2022-06-22T16:34:44.075200Z",
     "iopub.status.idle": "2022-06-22T16:34:44.106594Z",
     "shell.execute_reply": "2022-06-22T16:34:44.105036Z"
    },
    "id": "5d6eced4",
    "papermill": {
     "duration": 0.083302,
     "end_time": "2022-06-22T16:34:44.106895",
     "exception": false,
     "start_time": "2022-06-22T16:34:44.023593",
     "status": "completed"
    },
    "tags": []
   },
   "outputs": [
    {
     "name": "stdout",
     "output_type": "stream",
     "text": [
      "          X1           X2        X3        X4         Y\n",
      "0   5.249826   471.260372  0.140252  5.474263  1.457179\n",
      "1  64.447005   949.349881  0.131072  3.766388  1.077129\n",
      "2  65.424546   698.572755  0.130656  3.913238  0.938392\n",
      "3  23.577836  1587.361773  0.474049  1.823612  1.481324\n",
      "4  35.749197   380.227316  0.245566  4.238409  1.271987\n"
     ]
    }
   ],
   "source": [
    "X,Y = friedman3Dataset.friedman3_data(n_samples)"
   ]
  },
  {
   "cell_type": "code",
   "execution_count": 7,
   "id": "fe007438",
   "metadata": {
    "execution": {
     "iopub.execute_input": "2022-06-22T16:34:44.156199Z",
     "iopub.status.busy": "2022-06-22T16:34:44.155217Z",
     "iopub.status.idle": "2022-06-22T16:34:44.158725Z",
     "shell.execute_reply": "2022-06-22T16:34:44.157968Z"
    },
    "id": "fe007438",
    "papermill": {
     "duration": 0.029298,
     "end_time": "2022-06-22T16:34:44.159049",
     "exception": false,
     "start_time": "2022-06-22T16:34:44.129751",
     "status": "completed"
    },
    "tags": []
   },
   "outputs": [],
   "source": [
    "#Train test split for dataset \n",
    "X_train,X_test,Y_train,Y_test = train_test_split(X,Y,test_size = 0.2)\n",
    "train_data = dataset.CustomDataset(X_train,Y_train)\n",
    "test_data = dataset.CustomDataset(X_test,Y_test)\n"
   ]
  },
  {
   "cell_type": "markdown",
   "id": "a9a1af34",
   "metadata": {
    "id": "a9a1af34",
    "papermill": {
     "duration": 0.020025,
     "end_time": "2022-06-22T16:34:44.196963",
     "exception": false,
     "start_time": "2022-06-22T16:34:44.176938",
     "status": "completed"
    },
    "tags": []
   },
   "source": [
    "## Training Parameters "
   ]
  },
  {
   "cell_type": "code",
   "execution_count": 8,
   "id": "952b7fc8",
   "metadata": {
    "execution": {
     "iopub.execute_input": "2022-06-22T16:34:44.241707Z",
     "iopub.status.busy": "2022-06-22T16:34:44.240524Z",
     "iopub.status.idle": "2022-06-22T16:34:44.243206Z",
     "shell.execute_reply": "2022-06-22T16:34:44.244209Z"
    },
    "id": "952b7fc8",
    "papermill": {
     "duration": 0.028108,
     "end_time": "2022-06-22T16:34:44.244798",
     "exception": false,
     "start_time": "2022-06-22T16:34:44.216690",
     "status": "completed"
    },
    "tags": []
   },
   "outputs": [],
   "source": [
    "batch_size = 32\n",
    "n_epochs = 1000\n",
    "#Select the device \n",
    "device = torch.device('cuda' if torch.cuda.is_available() else 'cpu')"
   ]
  },
  {
   "cell_type": "markdown",
   "id": "a95e1600",
   "metadata": {
    "id": "a95e1600",
    "papermill": {
     "duration": 0.018683,
     "end_time": "2022-06-22T16:34:44.282577",
     "exception": false,
     "start_time": "2022-06-22T16:34:44.263894",
     "status": "completed"
    },
    "tags": []
   },
   "source": [
    "# ABC Pre-generator Model \n",
    "\n",
    "1. The catboost model is used as a pre-generator model for the ABC-GAN. \n",
    "2. The model is first trained on the entire dataset \n",
    "3. It generats X,Y pairs and we add some Gaussian noise with mean 0 and variance 1 to it which is then feed as input to the generator.\n"
   ]
  },
  {
   "cell_type": "code",
   "execution_count": 9,
   "id": "ff8ce7bd",
   "metadata": {
    "execution": {
     "iopub.execute_input": "2022-06-22T16:34:44.335180Z",
     "iopub.status.busy": "2022-06-22T16:34:44.333352Z",
     "iopub.status.idle": "2022-06-22T16:35:06.555353Z",
     "shell.execute_reply": "2022-06-22T16:35:06.555874Z"
    },
    "id": "ff8ce7bd",
    "papermill": {
     "duration": 22.254421,
     "end_time": "2022-06-22T16:35:06.556119",
     "exception": false,
     "start_time": "2022-06-22T16:34:44.301698",
     "status": "completed"
    },
    "tags": []
   },
   "outputs": [
    {
     "name": "stdout",
     "output_type": "stream",
     "text": [
      "Device used : cpu\n"
     ]
    },
    {
     "name": "stdout",
     "output_type": "stream",
     "text": [
      "epoch 0  | loss: 1.06946 | train_mse: 4.15311 | train_mae: 1.53433 |  0:00:00s\n",
      "epoch 1  | loss: 0.73197 | train_mse: 2.72058 | train_mae: 1.31475 |  0:00:00s\n",
      "epoch 2  | loss: 0.73407 | train_mse: 1.96057 | train_mae: 1.10213 |  0:00:00s\n"
     ]
    },
    {
     "name": "stdout",
     "output_type": "stream",
     "text": [
      "epoch 3  | loss: 0.57391 | train_mse: 1.77353 | train_mae: 1.06197 |  0:00:00s\n",
      "epoch 4  | loss: 0.38613 | train_mse: 2.17895 | train_mae: 1.15152 |  0:00:00s\n",
      "epoch 5  | loss: 0.51261 | train_mse: 2.14274 | train_mae: 1.11436 |  0:00:00s\n"
     ]
    },
    {
     "name": "stdout",
     "output_type": "stream",
     "text": [
      "epoch 6  | loss: 0.39161 | train_mse: 2.09113 | train_mae: 1.08654 |  0:00:00s\n",
      "epoch 7  | loss: 0.39959 | train_mse: 2.27477 | train_mae: 1.0949  |  0:00:00s\n",
      "epoch 8  | loss: 0.48159 | train_mse: 2.27122 | train_mae: 1.03581 |  0:00:00s\n"
     ]
    },
    {
     "name": "stdout",
     "output_type": "stream",
     "text": [
      "epoch 9  | loss: 0.52676 | train_mse: 1.29108 | train_mae: 0.82391 |  0:00:01s\n",
      "epoch 10 | loss: 0.35704 | train_mse: 0.74654 | train_mae: 0.6185  |  0:00:01s\n",
      "epoch 11 | loss: 0.40856 | train_mse: 0.65696 | train_mae: 0.58394 |  0:00:01s\n"
     ]
    },
    {
     "name": "stdout",
     "output_type": "stream",
     "text": [
      "epoch 12 | loss: 0.32172 | train_mse: 0.5964  | train_mae: 0.55089 |  0:00:01s\n",
      "epoch 13 | loss: 0.41988 | train_mse: 0.61395 | train_mae: 0.56815 |  0:00:01s\n",
      "epoch 14 | loss: 0.44689 | train_mse: 0.67391 | train_mae: 0.60163 |  0:00:01s\n"
     ]
    },
    {
     "name": "stdout",
     "output_type": "stream",
     "text": [
      "epoch 15 | loss: 0.38831 | train_mse: 0.55485 | train_mae: 0.54841 |  0:00:01s\n",
      "epoch 16 | loss: 0.31775 | train_mse: 0.48943 | train_mae: 0.5209  |  0:00:01s\n"
     ]
    },
    {
     "name": "stdout",
     "output_type": "stream",
     "text": [
      "epoch 17 | loss: 0.37834 | train_mse: 0.42712 | train_mae: 0.49134 |  0:00:01s\n",
      "epoch 18 | loss: 0.37398 | train_mse: 0.41008 | train_mae: 0.48591 |  0:00:01s\n"
     ]
    },
    {
     "name": "stdout",
     "output_type": "stream",
     "text": [
      "epoch 19 | loss: 0.33346 | train_mse: 0.39099 | train_mae: 0.46942 |  0:00:02s\n",
      "epoch 20 | loss: 0.31538 | train_mse: 0.49297 | train_mae: 0.51313 |  0:00:02s\n",
      "epoch 21 | loss: 0.32024 | train_mse: 0.50169 | train_mae: 0.51181 |  0:00:02s\n"
     ]
    },
    {
     "name": "stdout",
     "output_type": "stream",
     "text": [
      "epoch 22 | loss: 0.31201 | train_mse: 0.49474 | train_mae: 0.50397 |  0:00:02s\n",
      "epoch 23 | loss: 0.35084 | train_mse: 0.42849 | train_mae: 0.46213 |  0:00:02s\n",
      "epoch 24 | loss: 0.34516 | train_mse: 0.27    | train_mae: 0.35986 |  0:00:02s\n"
     ]
    },
    {
     "name": "stdout",
     "output_type": "stream",
     "text": [
      "epoch 25 | loss: 0.25635 | train_mse: 0.25168 | train_mae: 0.3685  |  0:00:02s\n",
      "epoch 26 | loss: 0.29565 | train_mse: 0.25866 | train_mae: 0.37223 |  0:00:02s\n"
     ]
    },
    {
     "name": "stdout",
     "output_type": "stream",
     "text": [
      "epoch 27 | loss: 0.2495  | train_mse: 0.28335 | train_mae: 0.3951  |  0:00:02s\n",
      "epoch 28 | loss: 0.26787 | train_mse: 0.30974 | train_mae: 0.41345 |  0:00:03s\n"
     ]
    },
    {
     "name": "stdout",
     "output_type": "stream",
     "text": [
      "epoch 29 | loss: 0.32401 | train_mse: 0.34149 | train_mae: 0.43695 |  0:00:03s\n",
      "epoch 30 | loss: 0.28175 | train_mse: 0.28467 | train_mae: 0.37943 |  0:00:03s\n"
     ]
    },
    {
     "name": "stdout",
     "output_type": "stream",
     "text": [
      "epoch 31 | loss: 0.21009 | train_mse: 0.23344 | train_mae: 0.33011 |  0:00:03s\n",
      "epoch 32 | loss: 0.23294 | train_mse: 0.24583 | train_mae: 0.35059 |  0:00:03s\n"
     ]
    },
    {
     "name": "stdout",
     "output_type": "stream",
     "text": [
      "epoch 33 | loss: 0.41499 | train_mse: 0.30925 | train_mae: 0.39166 |  0:00:03s\n",
      "epoch 34 | loss: 0.24264 | train_mse: 0.26417 | train_mae: 0.37192 |  0:00:03s\n"
     ]
    },
    {
     "name": "stdout",
     "output_type": "stream",
     "text": [
      "epoch 35 | loss: 0.28964 | train_mse: 0.21278 | train_mae: 0.33281 |  0:00:03s\n",
      "epoch 36 | loss: 0.25699 | train_mse: 0.20371 | train_mae: 0.31768 |  0:00:04s\n",
      "epoch 37 | loss: 0.22532 | train_mse: 0.19155 | train_mae: 0.30063 |  0:00:04s\n"
     ]
    },
    {
     "name": "stdout",
     "output_type": "stream",
     "text": [
      "epoch 38 | loss: 0.38478 | train_mse: 0.21557 | train_mae: 0.32    |  0:00:04s\n",
      "epoch 39 | loss: 0.31034 | train_mse: 0.20999 | train_mae: 0.319   |  0:00:04s\n",
      "epoch 40 | loss: 0.31465 | train_mse: 0.25854 | train_mae: 0.35563 |  0:00:04s\n"
     ]
    },
    {
     "name": "stdout",
     "output_type": "stream",
     "text": [
      "epoch 41 | loss: 0.22174 | train_mse: 0.28155 | train_mae: 0.37191 |  0:00:04s\n",
      "epoch 42 | loss: 0.41339 | train_mse: 0.33459 | train_mae: 0.40741 |  0:00:04s\n",
      "epoch 43 | loss: 0.45312 | train_mse: 0.39237 | train_mae: 0.43839 |  0:00:04s\n"
     ]
    },
    {
     "name": "stdout",
     "output_type": "stream",
     "text": [
      "epoch 44 | loss: 0.35846 | train_mse: 0.31195 | train_mae: 0.38992 |  0:00:04s\n",
      "epoch 45 | loss: 0.24261 | train_mse: 0.22759 | train_mae: 0.34993 |  0:00:04s\n",
      "epoch 46 | loss: 0.36975 | train_mse: 0.1633  | train_mae: 0.30507 |  0:00:04s\n"
     ]
    },
    {
     "name": "stdout",
     "output_type": "stream",
     "text": [
      "epoch 47 | loss: 0.14779 | train_mse: 0.16173 | train_mae: 0.29814 |  0:00:05s\n",
      "epoch 48 | loss: 0.28414 | train_mse: 0.17678 | train_mae: 0.31972 |  0:00:05s\n",
      "epoch 49 | loss: 0.1865  | train_mse: 0.16707 | train_mae: 0.31865 |  0:00:05s\n"
     ]
    },
    {
     "name": "stdout",
     "output_type": "stream",
     "text": [
      "epoch 50 | loss: 0.25365 | train_mse: 0.16771 | train_mae: 0.32177 |  0:00:05s\n",
      "epoch 51 | loss: 0.1506  | train_mse: 0.16593 | train_mae: 0.32107 |  0:00:05s\n",
      "epoch 52 | loss: 0.36123 | train_mse: 0.15895 | train_mae: 0.31733 |  0:00:05s\n"
     ]
    },
    {
     "name": "stdout",
     "output_type": "stream",
     "text": [
      "epoch 53 | loss: 0.17518 | train_mse: 0.1465  | train_mae: 0.30176 |  0:00:05s\n",
      "epoch 54 | loss: 0.2268  | train_mse: 0.13304 | train_mae: 0.27844 |  0:00:05s\n"
     ]
    },
    {
     "name": "stdout",
     "output_type": "stream",
     "text": [
      "epoch 55 | loss: 0.1888  | train_mse: 0.13611 | train_mae: 0.27675 |  0:00:05s\n",
      "epoch 56 | loss: 0.16822 | train_mse: 0.12075 | train_mae: 0.26084 |  0:00:05s\n",
      "epoch 57 | loss: 0.28096 | train_mse: 0.11994 | train_mae: 0.26063 |  0:00:05s\n"
     ]
    },
    {
     "name": "stdout",
     "output_type": "stream",
     "text": [
      "epoch 58 | loss: 0.27375 | train_mse: 0.10661 | train_mae: 0.24429 |  0:00:06s\n",
      "epoch 59 | loss: 0.16232 | train_mse: 0.13707 | train_mae: 0.28368 |  0:00:06s\n",
      "epoch 60 | loss: 0.19172 | train_mse: 0.13921 | train_mae: 0.2943  |  0:00:06s\n"
     ]
    },
    {
     "name": "stdout",
     "output_type": "stream",
     "text": [
      "epoch 61 | loss: 0.19042 | train_mse: 0.13782 | train_mae: 0.29077 |  0:00:06s\n",
      "epoch 62 | loss: 0.1214  | train_mse: 0.11647 | train_mae: 0.25975 |  0:00:06s\n"
     ]
    },
    {
     "name": "stdout",
     "output_type": "stream",
     "text": [
      "epoch 63 | loss: 0.15423 | train_mse: 0.12244 | train_mae: 0.26703 |  0:00:06s\n",
      "epoch 64 | loss: 0.13784 | train_mse: 0.10296 | train_mae: 0.24312 |  0:00:06s\n"
     ]
    },
    {
     "name": "stdout",
     "output_type": "stream",
     "text": [
      "epoch 65 | loss: 0.139   | train_mse: 0.0916  | train_mae: 0.2322  |  0:00:06s\n"
     ]
    },
    {
     "name": "stdout",
     "output_type": "stream",
     "text": [
      "epoch 66 | loss: 0.17381 | train_mse: 0.08295 | train_mae: 0.22443 |  0:00:07s\n",
      "epoch 67 | loss: 0.16455 | train_mse: 0.0903  | train_mae: 0.2248  |  0:00:07s\n"
     ]
    },
    {
     "name": "stdout",
     "output_type": "stream",
     "text": [
      "epoch 68 | loss: 0.15851 | train_mse: 0.0869  | train_mae: 0.22156 |  0:00:07s\n",
      "epoch 69 | loss: 0.14522 | train_mse: 0.10082 | train_mae: 0.23507 |  0:00:07s\n"
     ]
    },
    {
     "name": "stdout",
     "output_type": "stream",
     "text": [
      "epoch 70 | loss: 0.21541 | train_mse: 0.10016 | train_mae: 0.23269 |  0:00:07s\n"
     ]
    },
    {
     "name": "stdout",
     "output_type": "stream",
     "text": [
      "epoch 71 | loss: 0.13043 | train_mse: 0.09467 | train_mae: 0.22605 |  0:00:07s\n"
     ]
    },
    {
     "name": "stdout",
     "output_type": "stream",
     "text": [
      "epoch 72 | loss: 0.2519  | train_mse: 0.10794 | train_mae: 0.24368 |  0:00:08s\n",
      "epoch 73 | loss: 0.16364 | train_mse: 0.09111 | train_mae: 0.23171 |  0:00:08s\n"
     ]
    },
    {
     "name": "stdout",
     "output_type": "stream",
     "text": [
      "epoch 74 | loss: 0.11046 | train_mse: 0.09244 | train_mae: 0.23656 |  0:00:08s\n",
      "epoch 75 | loss: 0.12442 | train_mse: 0.10982 | train_mae: 0.25392 |  0:00:08s\n"
     ]
    },
    {
     "name": "stdout",
     "output_type": "stream",
     "text": [
      "epoch 76 | loss: 0.1068  | train_mse: 0.08614 | train_mae: 0.22759 |  0:00:08s\n"
     ]
    },
    {
     "name": "stdout",
     "output_type": "stream",
     "text": [
      "epoch 77 | loss: 0.27057 | train_mse: 0.08569 | train_mae: 0.22922 |  0:00:08s\n",
      "epoch 78 | loss: 0.12557 | train_mse: 0.08178 | train_mae: 0.22474 |  0:00:09s\n"
     ]
    },
    {
     "name": "stdout",
     "output_type": "stream",
     "text": [
      "epoch 79 | loss: 0.15671 | train_mse: 0.07872 | train_mae: 0.2228  |  0:00:09s\n",
      "epoch 80 | loss: 0.15293 | train_mse: 0.07957 | train_mae: 0.2233  |  0:00:09s\n"
     ]
    },
    {
     "name": "stdout",
     "output_type": "stream",
     "text": [
      "epoch 81 | loss: 0.38766 | train_mse: 0.0878  | train_mae: 0.22777 |  0:00:09s\n",
      "epoch 82 | loss: 0.0874  | train_mse: 0.09689 | train_mae: 0.24333 |  0:00:09s\n"
     ]
    },
    {
     "name": "stdout",
     "output_type": "stream",
     "text": [
      "epoch 83 | loss: 0.1054  | train_mse: 0.09562 | train_mae: 0.23994 |  0:00:09s\n",
      "epoch 84 | loss: 0.17725 | train_mse: 0.096   | train_mae: 0.2402  |  0:00:09s\n"
     ]
    },
    {
     "name": "stdout",
     "output_type": "stream",
     "text": [
      "epoch 85 | loss: 0.14059 | train_mse: 0.0861  | train_mae: 0.22933 |  0:00:09s\n",
      "epoch 86 | loss: 0.14116 | train_mse: 0.08616 | train_mae: 0.23101 |  0:00:09s\n",
      "epoch 87 | loss: 0.14296 | train_mse: 0.10208 | train_mae: 0.24134 |  0:00:10s\n"
     ]
    },
    {
     "name": "stdout",
     "output_type": "stream",
     "text": [
      "epoch 88 | loss: 0.16464 | train_mse: 0.09798 | train_mae: 0.23381 |  0:00:10s\n",
      "epoch 89 | loss: 0.14128 | train_mse: 0.08489 | train_mae: 0.22219 |  0:00:10s\n"
     ]
    },
    {
     "name": "stdout",
     "output_type": "stream",
     "text": [
      "epoch 90 | loss: 0.18581 | train_mse: 0.10026 | train_mae: 0.25315 |  0:00:10s\n",
      "epoch 91 | loss: 0.16437 | train_mse: 0.11307 | train_mae: 0.26816 |  0:00:10s\n"
     ]
    },
    {
     "name": "stdout",
     "output_type": "stream",
     "text": [
      "epoch 92 | loss: 0.16033 | train_mse: 0.08615 | train_mae: 0.2299  |  0:00:10s\n"
     ]
    },
    {
     "name": "stdout",
     "output_type": "stream",
     "text": [
      "epoch 93 | loss: 0.10124 | train_mse: 0.09131 | train_mae: 0.23547 |  0:00:11s\n",
      "epoch 94 | loss: 0.16588 | train_mse: 0.10374 | train_mae: 0.24151 |  0:00:11s\n"
     ]
    },
    {
     "name": "stdout",
     "output_type": "stream",
     "text": [
      "epoch 95 | loss: 0.14745 | train_mse: 0.08433 | train_mae: 0.22276 |  0:00:11s\n",
      "epoch 96 | loss: 0.12819 | train_mse: 0.07225 | train_mae: 0.21131 |  0:00:11s\n"
     ]
    },
    {
     "name": "stdout",
     "output_type": "stream",
     "text": [
      "epoch 97 | loss: 0.21378 | train_mse: 0.07877 | train_mae: 0.2285  |  0:00:11s\n"
     ]
    },
    {
     "name": "stdout",
     "output_type": "stream",
     "text": [
      "epoch 98 | loss: 0.10926 | train_mse: 0.08275 | train_mae: 0.23097 |  0:00:12s\n"
     ]
    },
    {
     "name": "stdout",
     "output_type": "stream",
     "text": [
      "epoch 99 | loss: 0.11417 | train_mse: 0.07589 | train_mae: 0.21033 |  0:00:12s\n",
      "epoch 100| loss: 0.1918  | train_mse: 0.09652 | train_mae: 0.24055 |  0:00:12s\n"
     ]
    },
    {
     "name": "stdout",
     "output_type": "stream",
     "text": [
      "epoch 101| loss: 0.15584 | train_mse: 0.09085 | train_mae: 0.22583 |  0:00:12s\n"
     ]
    },
    {
     "name": "stdout",
     "output_type": "stream",
     "text": [
      "epoch 102| loss: 0.30522 | train_mse: 0.08746 | train_mae: 0.22591 |  0:00:12s\n"
     ]
    },
    {
     "name": "stdout",
     "output_type": "stream",
     "text": [
      "epoch 103| loss: 0.14375 | train_mse: 0.09773 | train_mae: 0.22877 |  0:00:13s\n",
      "epoch 104| loss: 0.29654 | train_mse: 0.10755 | train_mae: 0.24209 |  0:00:13s\n"
     ]
    },
    {
     "name": "stdout",
     "output_type": "stream",
     "text": [
      "epoch 105| loss: 0.14533 | train_mse: 0.10532 | train_mae: 0.24114 |  0:00:13s\n",
      "epoch 106| loss: 0.17801 | train_mse: 0.11567 | train_mae: 0.2585  |  0:00:13s\n"
     ]
    },
    {
     "name": "stdout",
     "output_type": "stream",
     "text": [
      "epoch 107| loss: 0.11103 | train_mse: 0.10933 | train_mae: 0.25482 |  0:00:13s\n"
     ]
    },
    {
     "name": "stdout",
     "output_type": "stream",
     "text": [
      "epoch 108| loss: 0.16886 | train_mse: 0.11442 | train_mae: 0.26515 |  0:00:14s\n",
      "epoch 109| loss: 0.14433 | train_mse: 0.13157 | train_mae: 0.28053 |  0:00:14s\n"
     ]
    },
    {
     "name": "stdout",
     "output_type": "stream",
     "text": [
      "epoch 110| loss: 0.45357 | train_mse: 0.21512 | train_mae: 0.36397 |  0:00:14s\n",
      "epoch 111| loss: 0.23749 | train_mse: 0.25235 | train_mae: 0.38051 |  0:00:14s\n"
     ]
    },
    {
     "name": "stdout",
     "output_type": "stream",
     "text": [
      "epoch 112| loss: 0.36547 | train_mse: 0.23968 | train_mae: 0.36934 |  0:00:15s\n"
     ]
    },
    {
     "name": "stdout",
     "output_type": "stream",
     "text": [
      "epoch 113| loss: 0.20634 | train_mse: 0.23307 | train_mae: 0.36521 |  0:00:15s\n"
     ]
    },
    {
     "name": "stdout",
     "output_type": "stream",
     "text": [
      "epoch 114| loss: 0.31097 | train_mse: 0.20125 | train_mae: 0.33854 |  0:00:15s\n"
     ]
    },
    {
     "name": "stdout",
     "output_type": "stream",
     "text": [
      "epoch 115| loss: 0.17571 | train_mse: 0.14671 | train_mae: 0.30341 |  0:00:16s\n"
     ]
    },
    {
     "name": "stdout",
     "output_type": "stream",
     "text": [
      "epoch 116| loss: 0.22918 | train_mse: 0.13837 | train_mae: 0.29551 |  0:00:16s\n"
     ]
    },
    {
     "name": "stdout",
     "output_type": "stream",
     "text": [
      "epoch 117| loss: 0.17444 | train_mse: 0.1109  | train_mae: 0.26824 |  0:00:16s\n"
     ]
    },
    {
     "name": "stdout",
     "output_type": "stream",
     "text": [
      "epoch 118| loss: 0.14255 | train_mse: 0.09239 | train_mae: 0.25037 |  0:00:16s\n",
      "epoch 119| loss: 0.12321 | train_mse: 0.0894  | train_mae: 0.23961 |  0:00:17s\n"
     ]
    },
    {
     "name": "stdout",
     "output_type": "stream",
     "text": [
      "epoch 120| loss: 0.11584 | train_mse: 0.1034  | train_mae: 0.2496  |  0:00:17s\n",
      "epoch 121| loss: 0.10995 | train_mse: 0.10769 | train_mae: 0.25043 |  0:00:17s\n"
     ]
    },
    {
     "name": "stdout",
     "output_type": "stream",
     "text": [
      "epoch 122| loss: 0.13041 | train_mse: 0.11873 | train_mae: 0.26481 |  0:00:17s\n"
     ]
    },
    {
     "name": "stdout",
     "output_type": "stream",
     "text": [
      "epoch 123| loss: 0.20485 | train_mse: 0.17437 | train_mae: 0.30301 |  0:00:17s\n"
     ]
    },
    {
     "name": "stdout",
     "output_type": "stream",
     "text": [
      "epoch 124| loss: 0.16477 | train_mse: 0.1705  | train_mae: 0.29554 |  0:00:18s\n"
     ]
    },
    {
     "name": "stdout",
     "output_type": "stream",
     "text": [
      "epoch 125| loss: 0.09984 | train_mse: 0.16647 | train_mae: 0.28804 |  0:00:18s\n"
     ]
    },
    {
     "name": "stdout",
     "output_type": "stream",
     "text": [
      "epoch 126| loss: 0.19533 | train_mse: 0.14557 | train_mae: 0.25933 |  0:00:18s\n"
     ]
    },
    {
     "name": "stdout",
     "output_type": "stream",
     "text": [
      "epoch 127| loss: 0.13992 | train_mse: 0.1345  | train_mae: 0.25001 |  0:00:19s\n",
      "epoch 128| loss: 0.12119 | train_mse: 0.1424  | train_mae: 0.26566 |  0:00:19s\n"
     ]
    },
    {
     "name": "stdout",
     "output_type": "stream",
     "text": [
      "epoch 129| loss: 0.22007 | train_mse: 0.1461  | train_mae: 0.27974 |  0:00:19s\n",
      "epoch 130| loss: 0.19156 | train_mse: 0.15395 | train_mae: 0.27549 |  0:00:19s\n",
      "epoch 131| loss: 0.16441 | train_mse: 0.12529 | train_mae: 0.24278 |  0:00:19s\n"
     ]
    },
    {
     "name": "stdout",
     "output_type": "stream",
     "text": [
      "epoch 132| loss: 0.12086 | train_mse: 0.12525 | train_mae: 0.25104 |  0:00:19s\n",
      "epoch 133| loss: 0.12861 | train_mse: 0.15062 | train_mae: 0.27451 |  0:00:19s\n",
      "epoch 134| loss: 0.13907 | train_mse: 0.12075 | train_mae: 0.25815 |  0:00:19s\n"
     ]
    },
    {
     "name": "stdout",
     "output_type": "stream",
     "text": [
      "epoch 135| loss: 0.24862 | train_mse: 0.12466 | train_mae: 0.25408 |  0:00:20s\n",
      "epoch 136| loss: 0.11395 | train_mse: 0.12734 | train_mae: 0.27213 |  0:00:20s\n",
      "epoch 137| loss: 0.19899 | train_mse: 0.10773 | train_mae: 0.25207 |  0:00:20s\n"
     ]
    },
    {
     "name": "stdout",
     "output_type": "stream",
     "text": [
      "epoch 138| loss: 0.15918 | train_mse: 0.11233 | train_mae: 0.2649  |  0:00:20s\n",
      "epoch 139| loss: 0.20252 | train_mse: 0.12042 | train_mae: 0.27262 |  0:00:20s\n",
      "epoch 140| loss: 0.15006 | train_mse: 0.12666 | train_mae: 0.28971 |  0:00:20s\n"
     ]
    },
    {
     "name": "stdout",
     "output_type": "stream",
     "text": [
      "epoch 141| loss: 0.19212 | train_mse: 0.14883 | train_mae: 0.31057 |  0:00:20s\n"
     ]
    },
    {
     "name": "stdout",
     "output_type": "stream",
     "text": [
      "epoch 142| loss: 0.16758 | train_mse: 0.13394 | train_mae: 0.28998 |  0:00:21s\n"
     ]
    },
    {
     "name": "stdout",
     "output_type": "stream",
     "text": [
      "epoch 143| loss: 0.17246 | train_mse: 0.11374 | train_mae: 0.27092 |  0:00:21s\n",
      "epoch 144| loss: 0.19817 | train_mse: 0.11814 | train_mae: 0.27106 |  0:00:21s\n"
     ]
    },
    {
     "name": "stdout",
     "output_type": "stream",
     "text": [
      "epoch 145| loss: 0.16433 | train_mse: 0.11568 | train_mae: 0.27532 |  0:00:21s\n",
      "epoch 146| loss: 0.16555 | train_mse: 0.14207 | train_mae: 0.29578 |  0:00:21s\n"
     ]
    },
    {
     "name": "stdout",
     "output_type": "stream",
     "text": [
      "epoch 147| loss: 0.14758 | train_mse: 0.16406 | train_mae: 0.30966 |  0:00:21s\n",
      "epoch 148| loss: 0.13467 | train_mse: 0.14663 | train_mae: 0.30061 |  0:00:22s\n"
     ]
    },
    {
     "name": "stdout",
     "output_type": "stream",
     "text": [
      "epoch 149| loss: 0.14436 | train_mse: 0.12874 | train_mae: 0.26958 |  0:00:22s\n",
      "\n",
      "Early stopping occurred at epoch 149 with best_epoch = 99 and best_train_mae = 0.21033\n",
      "Best weights from best epoch are automatically used!\n"
     ]
    }
   ],
   "source": [
    "#Train the Model\n",
    "\n",
    "Y_train = np.reshape(Y_train, (-1, 1))\n",
    "Y_test = np.reshape(Y_test, (-1, 1))\n",
    "\n",
    "prior_model = TabNetRegressor(optimizer_fn=torch.optim.Adam, optimizer_params=dict(lr = 0.02),\n",
    "          #scheduler_params={\"step_size\":10, ], \"gamma\":0.9},\n",
    "          #scheduler_fn=torch.optim.lr_scheduler.StepLR\n",
    "          )  #TabNetRegressor()\n",
    "\n",
    "prior_model.fit(X_train,Y_train,eval_set=[(X_train, Y_train)],\n",
    "            eval_name=['train'], \n",
    "            eval_metric=[ 'mse', 'mae'], \n",
    "            max_epochs = n_epochs, \n",
    "            batch_size = batch_size,\n",
    "            patience=50\n",
    "            )"
   ]
  },
  {
   "cell_type": "code",
   "execution_count": 10,
   "id": "af65dcda",
   "metadata": {
    "execution": {
     "iopub.execute_input": "2022-06-22T16:35:06.669083Z",
     "iopub.status.busy": "2022-06-22T16:35:06.665951Z",
     "iopub.status.idle": "2022-06-22T16:35:06.709701Z",
     "shell.execute_reply": "2022-06-22T16:35:06.711040Z"
    },
    "id": "af65dcda",
    "papermill": {
     "duration": 0.110352,
     "end_time": "2022-06-22T16:35:06.711301",
     "exception": false,
     "start_time": "2022-06-22T16:35:06.600949",
     "status": "completed"
    },
    "tags": []
   },
   "outputs": [
    {
     "data": {
      "application/scrapbook.scrap.json+json": {
       "data": 0.31106018362413845,
       "encoder": "json",
       "name": "Prior Model MSE",
       "version": 1
      }
     },
     "metadata": {
      "scrapbook": {
       "data": true,
       "display": false,
       "name": "Prior Model MSE"
      }
     },
     "output_type": "display_data"
    },
    {
     "data": {
      "application/scrapbook.scrap.json+json": {
       "data": 0.3145054282860458,
       "encoder": "json",
       "name": "ABC Pre-generator MSE",
       "version": 1
      }
     },
     "metadata": {
      "scrapbook": {
       "data": true,
       "display": false,
       "name": "ABC Pre-generator MSE"
      }
     },
     "output_type": "display_data"
    },
    {
     "data": {
      "application/scrapbook.scrap.json+json": {
       "data": 0.3059234598138051,
       "encoder": "json",
       "name": "Prior Model MSE",
       "version": 1
      }
     },
     "metadata": {
      "scrapbook": {
       "data": true,
       "display": false,
       "name": "Prior Model MSE"
      }
     },
     "output_type": "display_data"
    },
    {
     "data": {
      "application/scrapbook.scrap.json+json": {
       "data": 0.3085981009477861,
       "encoder": "json",
       "name": "ABC Pre-generator MSE",
       "version": 1
      }
     },
     "metadata": {
      "scrapbook": {
       "data": true,
       "display": false,
       "name": "ABC Pre-generator MSE"
      }
     },
     "output_type": "display_data"
    }
   ],
   "source": [
    "y_pred = prior_model.predict(X_test)\n",
    "y_abc = y_pred + np.random.normal(0,variance, y_pred.shape) + bias \n",
    "mse = mean_squared_error(y_pred,Y_test)\n",
    "sb.glue(\"Prior Model MSE\",mse)\n",
    "mse = mean_squared_error(y_abc,Y_test)\n",
    "sb.glue(\"ABC Pre-generator MSE\",mse)\n",
    "mae = mean_absolute_error(y_pred,Y_test)\n",
    "sb.glue(\"Prior Model MSE\",mae)\n",
    "mae = mean_absolute_error(y_abc,Y_test)\n",
    "sb.glue(\"ABC Pre-generator MSE\",mae)"
   ]
  },
  {
   "cell_type": "markdown",
   "id": "25609da2",
   "metadata": {
    "papermill": {
     "duration": 0.160791,
     "end_time": "2022-06-22T16:35:07.015382",
     "exception": false,
     "start_time": "2022-06-22T16:35:06.854591",
     "status": "completed"
    },
    "tags": []
   },
   "source": [
    "# ABC GAN Model"
   ]
  },
  {
   "cell_type": "code",
   "execution_count": 11,
   "id": "dfc3464d",
   "metadata": {
    "execution": {
     "iopub.execute_input": "2022-06-22T16:35:07.177453Z",
     "iopub.status.busy": "2022-06-22T16:35:07.174704Z",
     "iopub.status.idle": "2022-06-22T16:35:07.178681Z",
     "shell.execute_reply": "2022-06-22T16:35:07.179502Z"
    },
    "papermill": {
     "duration": 0.091355,
     "end_time": "2022-06-22T16:35:07.179765",
     "exception": false,
     "start_time": "2022-06-22T16:35:07.088410",
     "status": "completed"
    },
    "tags": []
   },
   "outputs": [],
   "source": [
    "gen = network.Generator(n_features+1).to(device)\n",
    "disc = network.Discriminator(n_features+1).to(device)\n",
    "\n",
    "criterion = torch.nn.BCELoss()\n",
    "gen_opt = torch.optim.Adam(gen.parameters(), lr=0.001, betas=(0.5, 0.999))\n",
    "disc_opt = torch.optim.Adam(disc.parameters(), lr=0.001, betas=(0.5, 0.999))"
   ]
  },
  {
   "cell_type": "code",
   "execution_count": 12,
   "id": "b75fdd85",
   "metadata": {
    "execution": {
     "iopub.execute_input": "2022-06-22T16:35:07.310509Z",
     "iopub.status.busy": "2022-06-22T16:35:07.303965Z",
     "iopub.status.idle": "2022-06-22T16:36:07.640954Z",
     "shell.execute_reply": "2022-06-22T16:36:07.641448Z"
    },
    "papermill": {
     "duration": 60.41105,
     "end_time": "2022-06-22T16:36:07.641652",
     "exception": false,
     "start_time": "2022-06-22T16:35:07.230602",
     "status": "completed"
    },
    "tags": []
   },
   "outputs": [
    {
     "data": {
      "image/png": "[encoded data removed]",
      "text/plain": [
       "<Figure size 432x288 with 1 Axes>"
      ]
     },
     "metadata": {
      "needs_background": "light"
     },
     "output_type": "display_data"
    },
    {
     "data": {
      "image/png": "[encoded data removed]",
      "text/plain": [
       "<Figure size 432x288 with 1 Axes>"
      ]
     },
     "metadata": {
      "needs_background": "light"
     },
     "output_type": "display_data"
    }
   ],
   "source": [
    "#Training the ABC_GAN \n",
    "ABC_train_test2.training_GAN(disc,gen,disc_opt,gen_opt,train_data,batch_size,n_epochs,criterion,prior_model,variance,bias,device)"
   ]
  },
  {
   "cell_type": "code",
   "execution_count": 13,
   "id": "1fa7c368",
   "metadata": {
    "execution": {
     "iopub.execute_input": "2022-06-22T16:36:07.744827Z",
     "iopub.status.busy": "2022-06-22T16:36:07.744032Z",
     "iopub.status.idle": "2022-06-22T16:36:08.801227Z",
     "shell.execute_reply": "2022-06-22T16:36:08.802152Z"
    },
    "papermill": {
     "duration": 1.124428,
     "end_time": "2022-06-22T16:36:08.802405",
     "exception": false,
     "start_time": "2022-06-22T16:36:07.677977",
     "status": "completed"
    },
    "tags": []
   },
   "outputs": [
    {
     "data": {
      "application/scrapbook.scrap.json+json": {
       "data": 0.15732184963898652,
       "encoder": "json",
       "name": "ABC-GAN Model 1 MSE",
       "version": 1
      }
     },
     "metadata": {
      "scrapbook": {
       "data": true,
       "display": false,
       "name": "ABC-GAN Model 1 MSE"
      }
     },
     "output_type": "display_data"
    },
    {
     "data": {
      "application/scrapbook.scrap.json+json": {
       "data": 0.2430944714732468,
       "encoder": "json",
       "name": "ABC-GAN Model 1 MAE",
       "version": 1
      }
     },
     "metadata": {
      "scrapbook": {
       "data": true,
       "display": false,
       "name": "ABC-GAN Model 1 MAE"
      }
     },
     "output_type": "display_data"
    },
    {
     "data": {
      "application/scrapbook.scrap.json+json": {
       "data": 4.861889429464936,
       "encoder": "json",
       "name": "ABC-GAN Model 1 Manhattan Distance",
       "version": 1
      }
     },
     "metadata": {
      "scrapbook": {
       "data": true,
       "display": false,
       "name": "ABC-GAN Model 1 Manhattan Distance"
      }
     },
     "output_type": "display_data"
    },
    {
     "data": {
      "application/scrapbook.scrap.json+json": {
       "data": 1.773798133224054,
       "encoder": "json",
       "name": "ABC-GAN Model 1 Euclidean distance",
       "version": 1
      }
     },
     "metadata": {
      "scrapbook": {
       "data": true,
       "display": false,
       "name": "ABC-GAN Model 1 Euclidean distance"
      }
     },
     "output_type": "display_data"
    },
    {
     "data": {
      "application/scrapbook.scrap.json+json": {
       "data": [
        [
         0.15684658487254563,
         0.15996411301372102,
         0.15582487264902595,
         0.15711050855741132,
         0.1580595050875392,
         0.1580068679602876,
         0.15855674014006838,
         0.15608055689396994,
         0.1567313086754189,
         0.15669349275392103,
         0.1564751793361126,
         0.15661206921397736,
         0.1571602295802032,
         0.15714718832294566,
         0.15759000358094807,
         0.1565935630899866,
         0.16079888636340203,
         0.1598454958388314,
         0.1601378809988035,
         0.1584705790195503,
         0.15645269592168676,
         0.15976595789124315,
         0.15678948429141823,
         0.15761549379424997,
         0.158659264678562,
         0.155890316679319,
         0.15928428078269727,
         0.15549430523151403,
         0.15638022038929814,
         0.15762292205668565,
         0.15734318327749366,
         0.1580971262540556,
         0.15649283007113318,
         0.15585006891516603,
         0.16152304090724917,
         0.1566835221654051,
         0.1561791290826639,
         0.15583377282125568,
         0.15736456689416783,
         0.15951299011893044,
         0.15978341640810195,
         0.15804798529800565,
         0.1562042963227833,
         0.1566807831374674,
         0.15884698842694164,
         0.1586799708546652,
         0.15824477649394725,
         0.15497611395521493,
         0.1575572877646733,
         0.15597488498631001,
         0.15705641935214054,
         0.15781896352348568,
         0.1562229320916731,
         0.15591704204373372,
         0.15681465625602334,
         0.15489125639334805,
         0.1572064353921732,
         0.15952789742969758,
         0.15596076082856952,
         0.155828729719354,
         0.15428330486020372,
         0.15656927991449385,
         0.156502311282768,
         0.15870924820769744,
         0.15888729789659223,
         0.15716599779642546,
         0.1542332585268757,
         0.1606297594781653,
         0.15491702996004106,
         0.15727358196859212,
         0.1592204465847383,
         0.15650635630644782,
         0.15597856250404596,
         0.15712303049694742,
         0.15769187043068525,
         0.15642540347907422,
         0.15788668579342519,
         0.15539300436940773,
         0.15433651119264208,
         0.16012702822235397,
         0.15783600269254347,
         0.1610813765447441,
         0.15811315158998054,
         0.15774870340900757,
         0.15836540481521713,
         0.1541201367377944,
         0.15737812342262525,
         0.15783075617975495,
         0.15572787744117247,
         0.15656898896507151,
         0.1561152911563219,
         0.15743766294270486,
         0.15755091789122683,
         0.15928152225217726,
         0.1577053504339532,
         0.15753004376863453,
         0.15664526361114833,
         0.1579445663784047,
         0.15503970744356138,
         0.1565217520998113
        ],
        [
         0.24362527541816234,
         0.24473206140100956,
         0.24136487059295178,
         0.24213957376778125,
         0.24205565713346006,
         0.2439377039670944,
         0.2439675185829401,
         0.24199436716735362,
         0.24031715653836727,
         0.24168854542076587,
         0.24309075959026813,
         0.24264495261013508,
         0.2458890240639448,
         0.24439803473651409,
         0.2438716370612383,
         0.24158217273652555,
         0.2467111859470606,
         0.24564203880727292,
         0.24729629196226596,
         0.24359723515808582,
         0.24128374084830284,
         0.24638365991413594,
         0.24452292881906032,
         0.24474595449864864,
         0.24398109130561352,
         0.2400222685188055,
         0.2451592605561018,
         0.24116266146302223,
         0.2434656459838152,
         0.24103411622345447,
         0.2435477513819933,
         0.24637168683111668,
         0.24462874345481395,
         0.2408847313374281,
         0.2477260936051607,
         0.2398559931665659,
         0.2433513168245554,
         0.24018956907093525,
         0.24344994314014912,
         0.2452568609267473,
         0.24453176073729993,
         0.24350847490131855,
         0.2400401197373867,
         0.24189783520996572,
         0.24457492269575595,
         0.24249563030898572,
         0.2437362689524889,
         0.24146382175385953,
         0.2476901900023222,
         0.24244372509419918,
         0.24268745295703412,
         0.24374935664236547,
         0.24171055257320403,
         0.24039393626153469,
         0.24572198502719403,
         0.24158948771655558,
         0.24524313621222973,
         0.24627488665282726,
         0.2430644553154707,
         0.24100588224828243,
         0.24140770994126798,
         0.241656406596303,
         0.24287142045795918,
         0.2420459184795618,
         0.2445365272462368,
         0.2404510337859392,
         0.23823652751743793,
         0.24659429229795932,
         0.24193913526833058,
         0.24591477699577807,
         0.24650945328176022,
         0.24068566896021365,
         0.24109817594289779,
         0.24704011641442775,
         0.24347407557070255,
         0.24447330124676228,
         0.24310055263340474,
         0.24173811487853528,
         0.23822468109428882,
         0.24456543810665607,
         0.24117737375199794,
         0.24410913400352002,
         0.2430949378758669,
         0.24408400095999241,
         0.24203534610569477,
         0.23720497600734233,
         0.24132352881133556,
         0.24571372456848622,
         0.24111293964087963,
         0.24382940940558911,
         0.24161193631589412,
         0.24506874270737172,
         0.24312317110598086,
         0.24285633377730848,
         0.23921372629702092,
         0.2443306479603052,
         0.24308041483163834,
         0.24275753721594812,
         0.24141058064997195,
         0.2443513970822096
        ],
        [
         4.872505508363247,
         4.894641228020191,
         4.8272974118590355,
         4.842791475355625,
         4.841113142669201,
         4.878754079341888,
         4.879350371658802,
         4.839887343347073,
         4.806343130767345,
         4.8337709084153175,
         4.861815191805363,
         4.852899052202702,
         4.917780481278896,
         4.887960694730282,
         4.877432741224766,
         4.831643454730511,
         4.934223718941212,
         4.912840776145458,
         4.945925839245319,
         4.8719447031617165,
         4.825674816966057,
         4.927673198282719,
         4.8904585763812065,
         4.894919089972973,
         4.87962182611227,
         4.80044537037611,
         4.903185211122036,
         4.823253229260445,
         4.869312919676304,
         4.8206823244690895,
         4.870955027639866,
         4.9274337366223335,
         4.892574869096279,
         4.817694626748562,
         4.954521872103214,
         4.797119863331318,
         4.867026336491108,
         4.803791381418705,
         4.868998862802982,
         4.905137218534946,
         4.890635214745998,
         4.870169498026371,
         4.800802394747734,
         4.837956704199314,
         4.891498453915119,
         4.849912606179714,
         4.874725379049778,
         4.82927643507719,
         4.953803800046444,
         4.848874501883984,
         4.853749059140682,
         4.874987132847309,
         4.834211051464081,
         4.807878725230694,
         4.9144397005438805,
         4.831789754331112,
         4.904862724244595,
         4.925497733056545,
         4.861289106309414,
         4.820117644965649,
         4.828154198825359,
         4.83312813192606,
         4.8574284091591835,
         4.840918369591236,
         4.890730544924736,
         4.809020675718784,
         4.764730550348759,
         4.9318858459591866,
         4.8387827053666115,
         4.918295539915562,
         4.930189065635204,
         4.813713379204273,
         4.821963518857956,
         4.940802328288555,
         4.869481511414051,
         4.8894660249352455,
         4.862011052668095,
         4.834762297570705,
         4.7644936218857765,
         4.8913087621331215,
         4.823547475039959,
         4.8821826800704,
         4.861898757517338,
         4.881680019199848,
         4.840706922113895,
         4.744099520146847,
         4.826470576226711,
         4.914274491369724,
         4.822258792817593,
         4.876588188111782,
         4.8322387263178825,
         4.901374854147434,
         4.8624634221196175,
         4.857126675546169,
         4.784274525940418,
         4.886612959206104,
         4.861608296632767,
         4.855150744318962,
         4.828211612999439,
         4.887027941644192
        ],
        [
         1.7711385314116208,
         1.7886537563973695,
         1.7653604314644982,
         1.772628040833222,
         1.7779735942220243,
         1.7776775183383942,
         1.7807680373370833,
         1.7668081780089764,
         1.7704875524861445,
         1.7702739491610953,
         1.7690403010452453,
         1.7698139405823277,
         1.7729085119103196,
         1.7728349518381323,
         1.7753309752322133,
         1.7697093721285797,
         1.7933147317936249,
         1.787990468871864,
         1.789624994230934,
         1.780284129118441,
         1.76891320262859,
         1.787545568041515,
         1.7708161072873616,
         1.7754745494895159,
         1.7813436764339554,
         1.7657311045531197,
         1.784848905553057,
         1.7634869164896803,
         1.7685034373124533,
         1.7755163871769004,
         1.773940152753151,
         1.7781851773876398,
         1.7691400739971563,
         1.765503151598241,
         1.7973482740262063,
         1.7702176259737394,
         1.7673660010459853,
         1.7654108463542173,
         1.7740606917136057,
         1.786129839171444,
         1.7876432329080763,
         1.7779088013619015,
         1.7675083950170267,
         1.77020215307443,
         1.7823971971866521,
         1.7814599117278234,
         1.7790153259258181,
         1.7605460173208478,
         1.7751466855709321,
         1.7662099817762893,
         1.772322878891657,
         1.7766201818255114,
         1.7676138271221635,
         1.7658824538668123,
         1.7709582505300532,
         1.7600639556183637,
         1.7731691142819581,
         1.7862132987395296,
         1.7661300112311638,
         1.765382279957256,
         1.7566064149957081,
         1.7695721511964062,
         1.76919366538979,
         1.781624248867855,
         1.782623335966363,
         1.7729410469410734,
         1.7563214883777725,
         1.7923713871749085,
         1.7602103849258535,
         1.7735477550299688,
         1.7844912248858962,
         1.7692165288988673,
         1.7662308031740697,
         1.7726986799619806,
         1.7759046732901247,
         1.768758906573048,
         1.777001326918048,
         1.7629123878934412,
         1.7569092816229417,
         1.7895643504627263,
         1.7767160870130234,
         1.794889280957152,
         1.7782752969660267,
         1.7762246671466286,
         1.7796932590489696,
         1.7556772866207182,
         1.7741371053141595,
         1.7766865574982829,
         1.7648109102177063,
         1.7695705070161603,
         1.7670047603576053,
         1.7744726706416465,
         1.7751108015626902,
         1.784833450225411,
         1.7759805766615422,
         1.7749932043173267,
         1.770001489327895,
         1.7773270176217133,
         1.760907194849072,
         1.7693035471609235
        ]
       ],
       "encoder": "json",
       "name": "ABC_GAN_1 Metrics",
       "version": 1
      }
     },
     "metadata": {
      "scrapbook": {
       "data": true,
       "display": false,
       "name": "ABC_GAN_1 Metrics"
      }
     },
     "output_type": "display_data"
    },
    {
     "name": "stdout",
     "output_type": "stream",
     "text": [
      "MSE\n",
      "0.15732184963898652\n"
     ]
    }
   ],
   "source": [
    "ABC_GAN1_metrics=ABC_train_test2.test_generator(gen,test_data,prior_model,variance,bias,\"1\",device)\n",
    "sb.glue(\"ABC_GAN_1 Metrics\",ABC_GAN1_metrics)\n",
    "\n",
    "print(\"MSE\")\n",
    "print(mean(ABC_GAN1_metrics[0]))"
   ]
  },
  {
   "cell_type": "code",
   "execution_count": 14,
   "id": "eb22ce5c",
   "metadata": {
    "execution": {
     "iopub.execute_input": "2022-06-22T16:36:09.040257Z",
     "iopub.status.busy": "2022-06-22T16:36:09.034054Z",
     "iopub.status.idle": "2022-06-22T16:36:10.459762Z",
     "shell.execute_reply": "2022-06-22T16:36:10.460437Z"
    },
    "papermill": {
     "duration": 1.607155,
     "end_time": "2022-06-22T16:36:10.460687",
     "exception": false,
     "start_time": "2022-06-22T16:36:08.853532",
     "status": "completed"
    },
    "tags": []
   },
   "outputs": [
    {
     "data": {
      "image/png": "[encoded data removed]",
      "text/plain": [
       "<Figure size 432x288 with 1 Axes>"
      ]
     },
     "metadata": {
      "needs_background": "light"
     },
     "output_type": "display_data"
    },
    {
     "data": {
      "image/png": "[encoded data removed]",
      "text/plain": [
       "<Figure size 432x288 with 1 Axes>"
      ]
     },
     "metadata": {
      "needs_background": "light"
     },
     "output_type": "display_data"
    },
    {
     "data": {
      "image/png": "[encoded data removed]",
      "text/plain": [
       "<Figure size 432x288 with 1 Axes>"
      ]
     },
     "metadata": {
      "needs_background": "light"
     },
     "output_type": "display_data"
    },
    {
     "data": {
      "image/png": "[encoded data removed]",
      "text/plain": [
       "<Figure size 432x288 with 1 Axes>"
      ]
     },
     "metadata": {
      "needs_background": "light"
     },
     "output_type": "display_data"
    }
   ],
   "source": [
    "sanityChecks.discProbVsError(train_data,disc,device)\n",
    "sanityChecks.discProbVsError(test_data,disc,device)"
   ]
  },
  {
   "cell_type": "markdown",
   "id": "130f3a4d",
   "metadata": {
    "id": "130f3a4d",
    "papermill": {
     "duration": 0.060469,
     "end_time": "2022-06-22T16:36:10.566671",
     "exception": false,
     "start_time": "2022-06-22T16:36:10.506202",
     "status": "completed"
    },
    "tags": []
   },
   "source": [
    "# ABC - GAN Model with skip connection"
   ]
  },
  {
   "cell_type": "code",
   "execution_count": 15,
   "id": "4e43dad1",
   "metadata": {
    "execution": {
     "iopub.execute_input": "2022-06-22T16:36:10.674904Z",
     "iopub.status.busy": "2022-06-22T16:36:10.674218Z",
     "iopub.status.idle": "2022-06-22T16:36:10.680835Z",
     "shell.execute_reply": "2022-06-22T16:36:10.680271Z"
    },
    "id": "4e43dad1",
    "papermill": {
     "duration": 0.068852,
     "end_time": "2022-06-22T16:36:10.681039",
     "exception": false,
     "start_time": "2022-06-22T16:36:10.612187",
     "status": "completed"
    },
    "tags": []
   },
   "outputs": [],
   "source": [
    "#Generator\n",
    "gen3 = network.GeneratorWithSkipConnection(n_features+1).to(device)\n",
    "constraints=network.weightConstraint()\n",
    "#Discriminator \n",
    "disc3 = network.Discriminator(n_features+1).to(device)\n",
    "\n",
    "criterion = torch.nn.BCELoss()\n",
    "gen_opt = torch.optim.Adam(gen3.parameters(), lr=0.001, betas=(0.5, 0.999))\n",
    "disc_opt = torch.optim.Adam(disc3.parameters(), lr=0.001, betas=(0.5, 0.999))\n"
   ]
  },
  {
   "cell_type": "code",
   "execution_count": 16,
   "id": "26acbc37",
   "metadata": {
    "execution": {
     "iopub.execute_input": "2022-06-22T16:36:10.787991Z",
     "iopub.status.busy": "2022-06-22T16:36:10.787227Z",
     "iopub.status.idle": "2022-06-22T16:37:28.887921Z",
     "shell.execute_reply": "2022-06-22T16:37:28.888674Z"
    },
    "id": "26acbc37",
    "papermill": {
     "duration": 78.161197,
     "end_time": "2022-06-22T16:37:28.889075",
     "exception": false,
     "start_time": "2022-06-22T16:36:10.727878",
     "status": "completed"
    },
    "tags": []
   },
   "outputs": [
    {
     "data": {
      "image/png": "[encoded data removed]",
      "text/plain": [
       "<Figure size 432x288 with 1 Axes>"
      ]
     },
     "metadata": {
      "needs_background": "light"
     },
     "output_type": "display_data"
    },
    {
     "data": {
      "image/png": "[encoded data removed]",
      "text/plain": [
       "<Figure size 432x288 with 1 Axes>"
      ]
     },
     "metadata": {
      "needs_background": "light"
     },
     "output_type": "display_data"
    }
   ],
   "source": [
    "ABC_train_test2.training_GAN_skip_connection(disc3,gen3,disc_opt,gen_opt,train_data,batch_size,n_epochs,criterion,prior_model,variance,bias,device)"
   ]
  },
  {
   "cell_type": "code",
   "execution_count": 17,
   "id": "c5e0717b",
   "metadata": {
    "execution": {
     "iopub.execute_input": "2022-06-22T16:37:29.022759Z",
     "iopub.status.busy": "2022-06-22T16:37:29.021964Z",
     "iopub.status.idle": "2022-06-22T16:37:29.981973Z",
     "shell.execute_reply": "2022-06-22T16:37:29.982765Z"
    },
    "id": "c5e0717b",
    "papermill": {
     "duration": 1.044005,
     "end_time": "2022-06-22T16:37:29.983141",
     "exception": false,
     "start_time": "2022-06-22T16:37:28.939136",
     "status": "completed"
    },
    "tags": []
   },
   "outputs": [
    {
     "data": {
      "application/scrapbook.scrap.json+json": {
       "data": 55.59237138558143,
       "encoder": "json",
       "name": "ABC-GAN Model 3 MSE",
       "version": 1
      }
     },
     "metadata": {
      "scrapbook": {
       "data": true,
       "display": false,
       "name": "ABC-GAN Model 3 MSE"
      }
     },
     "output_type": "display_data"
    },
    {
     "data": {
      "application/scrapbook.scrap.json+json": {
       "data": 7.337452435359359,
       "encoder": "json",
       "name": "ABC-GAN Model 3 MAE",
       "version": 1
      }
     },
     "metadata": {
      "scrapbook": {
       "data": true,
       "display": false,
       "name": "ABC-GAN Model 3 MAE"
      }
     },
     "output_type": "display_data"
    },
    {
     "data": {
      "application/scrapbook.scrap.json+json": {
       "data": 146.74904870718717,
       "encoder": "json",
       "name": "ABC-GAN Model 3 Manhattan Distance",
       "version": 1
      }
     },
     "metadata": {
      "scrapbook": {
       "data": true,
       "display": false,
       "name": "ABC-GAN Model 3 Manhattan Distance"
      }
     },
     "output_type": "display_data"
    },
    {
     "data": {
      "application/scrapbook.scrap.json+json": {
       "data": 33.34436783523859,
       "encoder": "json",
       "name": "ABC-GAN Model 3 Euclidean distance",
       "version": 1
      }
     },
     "metadata": {
      "scrapbook": {
       "data": true,
       "display": false,
       "name": "ABC-GAN Model 3 Euclidean distance"
      }
     },
     "output_type": "display_data"
    },
    {
     "data": {
      "application/scrapbook.scrap.json+json": {
       "data": [
        [
         55.678760878201686,
         55.66857310576869,
         55.654184933625665,
         55.46515897674959,
         55.67586294585252,
         55.657979196332896,
         55.631069070843616,
         55.595137850741786,
         55.5579015517748,
         55.716029673293804,
         55.54985863975717,
         55.503869775104455,
         55.642964650866176,
         55.6033648700488,
         55.68091839811719,
         55.4132934357653,
         55.57892467167936,
         55.58625715782578,
         55.564941230565864,
         55.55210647899996,
         55.652626671965756,
         55.593641418839375,
         55.70283990657657,
         55.57822122548866,
         55.53162538752537,
         55.58672111773827,
         55.47657697376282,
         55.57064733466981,
         55.55986650601237,
         55.58582655116887,
         55.48870768337922,
         55.48950405283712,
         55.55958724666524,
         55.634911197012585,
         55.58494679446985,
         55.72940765556833,
         55.53238186387025,
         55.736953393633726,
         55.53134441123983,
         55.55872640433368,
         55.59816184218946,
         55.58276606868346,
         55.61075471166928,
         55.56478539799588,
         55.63708942639365,
         55.62531963610637,
         55.53718723980285,
         55.61578733828694,
         55.646589884389485,
         55.56370159447297,
         55.57807882338403,
         55.6013705517649,
         55.67958700528466,
         55.68159547232386,
         55.58466504964811,
         55.82358271936797,
         55.523013703008,
         55.66167720599033,
         55.601699715621024,
         55.6009366251253,
         55.717926152762274,
         55.55390279183071,
         55.493480094559985,
         55.626200549870205,
         55.46810414845454,
         55.564566093241964,
         55.572402477189506,
         55.6433163714765,
         55.573131906252,
         55.68238150541073,
         55.55567284076544,
         55.346580206404155,
         55.6094716179399,
         55.57697924457322,
         55.57095171857655,
         55.59120303018873,
         55.5277753582195,
         55.5837556447025,
         55.551958919180905,
         55.60204714614681,
         55.53695806575415,
         55.50123083122428,
         55.62682199544035,
         55.56963924153113,
         55.51981973975573,
         55.59670018574519,
         55.67398050896944,
         55.670606394800494,
         55.689633134212045,
         55.39928474861098,
         55.41156299370103,
         55.74385046352664,
         55.67612680644588,
         55.619308174468514,
         55.44307077528224,
         55.662577351605435,
         55.55922936253488,
         55.66676416736342,
         55.68750491465971,
         55.59008958458408
        ],
        [
         7.344176739081741,
         7.345404713973403,
         7.340983229503036,
         7.327385550364852,
         7.342233949527144,
         7.343002169951797,
         7.339095240458846,
         7.339020317420363,
         7.333681541308761,
         7.347045307978988,
         7.334948247298598,
         7.331234508380294,
         7.339639335498214,
         7.3396173771470785,
         7.343193488940597,
         7.325878280028701,
         7.337951010093093,
         7.336554067954421,
         7.335140961036086,
         7.334861164912581,
         7.341070144996047,
         7.3385960754007105,
         7.345905500277877,
         7.33611063323915,
         7.334377616271377,
         7.337428575381637,
         7.330553716048598,
         7.335588723048568,
         7.335659974440932,
         7.335783248767257,
         7.332584613189101,
         7.332455533370376,
         7.335101264342666,
         7.339470785483718,
         7.334905653819442,
         7.346651798114181,
         7.332806616649032,
         7.346022075042129,
         7.33383830152452,
         7.33479524217546,
         7.339377814158797,
         7.334748512133956,
         7.33745250068605,
         7.337185495719313,
         7.340182619914413,
         7.3389360006898645,
         7.3343001659959555,
         7.339437752589584,
         7.340376227721572,
         7.335509281978011,
         7.337070732936263,
         7.338589828833937,
         7.344412535056472,
         7.3433511313050985,
         7.3370404537767175,
         7.3532733377069235,
         7.331766110286116,
         7.340107303485274,
         7.338164430484175,
         7.3386159118264915,
         7.344799857959151,
         7.333744889125228,
         7.330373817309737,
         7.339347248896956,
         7.329286509379744,
         7.335756843909621,
         7.336975437030196,
         7.340309768542648,
         7.336240905150771,
         7.343884163722396,
         7.332901364192367,
         7.321567779406905,
         7.338293319568038,
         7.334639149531722,
         7.336554115638137,
         7.338270169124007,
         7.332555597648025,
         7.336071747168899,
         7.334996634349227,
         7.337899642810226,
         7.332115763053298,
         7.3300154861062765,
         7.33810071311891,
         7.336403303965926,
         7.332970529422164,
         7.337393384799361,
         7.342828219756484,
         7.3435500677675005,
         7.344240718707442,
         7.325874501094222,
         7.325655215606093,
         7.346924215182662,
         7.343461340293288,
         7.340169149264693,
         7.328970151767135,
         7.343207662925124,
         7.33696581684053,
         7.341811591014266,
         7.344688659533858,
         7.33477664552629
        ],
        [
         146.8835347816348,
         146.90809427946806,
         146.8196645900607,
         146.54771100729704,
         146.8446789905429,
         146.86004339903593,
         146.78190480917692,
         146.78040634840727,
         146.6736308261752,
         146.94090615957975,
         146.69896494597197,
         146.62469016760588,
         146.79278670996428,
         146.79234754294157,
         146.86386977881193,
         146.51756560057402,
         146.75902020186186,
         146.73108135908842,
         146.70281922072172,
         146.69722329825163,
         146.82140289992094,
         146.7719215080142,
         146.91811000555754,
         146.722212664783,
         146.68755232542753,
         146.74857150763273,
         146.61107432097197,
         146.71177446097136,
         146.71319948881865,
         146.71566497534513,
         146.65169226378202,
         146.6491106674075,
         146.7020252868533,
         146.78941570967436,
         146.69811307638884,
         146.9330359622836,
         146.65613233298063,
         146.92044150084257,
         146.6767660304904,
         146.6959048435092,
         146.78755628317595,
         146.69497024267912,
         146.749050013721,
         146.74370991438627,
         146.80365239828825,
         146.77872001379728,
         146.6860033199191,
         146.78875505179167,
         146.80752455443144,
         146.71018563956022,
         146.74141465872526,
         146.77179657667875,
         146.88825070112944,
         146.86702262610197,
         146.74080907553434,
         147.06546675413847,
         146.63532220572233,
         146.8021460697055,
         146.7632886096835,
         146.77231823652983,
         146.89599715918303,
         146.67489778250456,
         146.60747634619474,
         146.78694497793913,
         146.5857301875949,
         146.71513687819242,
         146.73950874060392,
         146.80619537085295,
         146.72481810301542,
         146.87768327444792,
         146.65802728384733,
         146.4313555881381,
         146.76586639136076,
         146.69278299063444,
         146.73108231276274,
         146.76540338248014,
         146.6511119529605,
         146.72143494337797,
         146.69993268698454,
         146.7579928562045,
         146.64231526106596,
         146.60030972212553,
         146.76201426237822,
         146.72806607931852,
         146.65941058844328,
         146.74786769598722,
         146.85656439512968,
         146.87100135535002,
         146.88481437414885,
         146.51749002188444,
         146.51310431212187,
         146.93848430365324,
         146.86922680586576,
         146.80338298529387,
         146.5794030353427,
         146.86415325850248,
         146.7393163368106,
         146.83623182028532,
         146.89377319067717,
         146.6955329105258
        ],
        [
         33.370274460424106,
         33.36722137240938,
         33.36290902593047,
         33.30620331912648,
         33.369406031828774,
         33.36404627629355,
         33.355979695054266,
         33.34520590751894,
         33.33403712476927,
         33.38144085365214,
         33.33162421477752,
         33.31782399110256,
         33.35954575556033,
         33.34767304327209,
         33.37092099361873,
         33.29062734036873,
         33.34034333106945,
         33.34254254187157,
         33.33614891692376,
         33.33229859430638,
         33.36244195857544,
         33.344757134769885,
         33.377489392276516,
         33.3401323409157,
         33.32615350967626,
         33.34268169111125,
         33.30963133202251,
         33.33786055963094,
         33.33462659338255,
         33.34241339530445,
         33.31327293538695,
         33.31351198923257,
         33.33454281872341,
         33.35713153045764,
         33.34214953912535,
         33.38544822390987,
         33.326380500699514,
         33.38770833514445,
         33.3260691985238,
         33.33428457439388,
         33.34611276961363,
         33.34149548796018,
         33.34988896883144,
         33.33610217106849,
         33.35778452667193,
         33.35425599113444,
         33.327822383048925,
         33.35139797318455,
         33.3606324533542,
         33.33577705543189,
         33.34008962896892,
         33.347074999695224,
         33.37052202327217,
         33.371123886475225,
         33.34206503792112,
         33.41364473366172,
         33.323569347537784,
         33.365154639530836,
         33.34717370801341,
         33.346944875093214,
         33.3820089727273,
         33.33283750052813,
         33.314705490086496,
         33.35452009844249,
         33.30708757860842,
         33.33603638504193,
         33.33838702672627,
         33.35965118866697,
         33.338605821555284,
         33.37135942853114,
         33.33336851887773,
         33.2705816620041,
         33.349504229580354,
         33.33975982054256,
         33.337951862277485,
         33.34402586077114,
         33.32499823202381,
         33.341792286769014,
         33.33225432495705,
         33.34727789374923,
         33.32775361939479,
         33.31703192999769,
         33.354706413170646,
         33.33755817138716,
         33.32261086402316,
         33.345674437847315,
         33.368841906476,
         33.367830734046976,
         33.373532367495066,
         33.2864190770383,
         33.2901075377359,
         33.38977402245383,
         33.369485104342225,
         33.352453635218055,
         33.299570800622114,
         33.36542442457624,
         33.33443545720698,
         33.36667923763568,
         33.37289466458063,
         33.343691932533225
        ]
       ],
       "encoder": "json",
       "name": "ABC_GAN_3 Metrics",
       "version": 1
      }
     },
     "metadata": {
      "scrapbook": {
       "data": true,
       "display": false,
       "name": "ABC_GAN_3 Metrics"
      }
     },
     "output_type": "display_data"
    },
    {
     "name": "stdout",
     "output_type": "stream",
     "text": [
      "MSE\n",
      "55.59237138558143\n"
     ]
    }
   ],
   "source": [
    "ABC_GAN3_metrics=ABC_train_test2.test_generator(gen3,test_data,prior_model,variance,bias,\"3\",device)\n",
    "sb.glue(\"ABC_GAN_3 Metrics\",ABC_GAN3_metrics)\n",
    "\n",
    "print(\"MSE\")\n",
    "print(mean(ABC_GAN3_metrics[0]))"
   ]
  },
  {
   "cell_type": "code",
   "execution_count": 18,
   "id": "c8e46b48",
   "metadata": {
    "execution": {
     "iopub.execute_input": "2022-06-22T16:37:30.120308Z",
     "iopub.status.busy": "2022-06-22T16:37:30.119562Z",
     "iopub.status.idle": "2022-06-22T16:37:30.859712Z",
     "shell.execute_reply": "2022-06-22T16:37:30.860272Z"
    },
    "id": "c8e46b48",
    "papermill": {
     "duration": 0.810497,
     "end_time": "2022-06-22T16:37:30.860518",
     "exception": false,
     "start_time": "2022-06-22T16:37:30.050021",
     "status": "completed"
    },
    "tags": []
   },
   "outputs": [
    {
     "data": {
      "image/png": "[encoded data removed]",
      "text/plain": [
       "<Figure size 432x288 with 1 Axes>"
      ]
     },
     "metadata": {
      "needs_background": "light"
     },
     "output_type": "display_data"
    },
    {
     "data": {
      "image/png": "[encoded data removed]",
      "text/plain": [
       "<Figure size 432x288 with 1 Axes>"
      ]
     },
     "metadata": {
      "needs_background": "light"
     },
     "output_type": "display_data"
    },
    {
     "data": {
      "image/png": "[encoded data removed]",
      "text/plain": [
       "<Figure size 432x288 with 1 Axes>"
      ]
     },
     "metadata": {
      "needs_background": "light"
     },
     "output_type": "display_data"
    },
    {
     "data": {
      "image/png": "[encoded data removed]",
      "text/plain": [
       "<Figure size 432x288 with 1 Axes>"
      ]
     },
     "metadata": {
      "needs_background": "light"
     },
     "output_type": "display_data"
    }
   ],
   "source": [
    "sanityChecks.discProbVsError(train_data,disc3,device)\n",
    "sanityChecks.discProbVsError(test_data,disc3,device)"
   ]
  },
  {
   "cell_type": "markdown",
   "id": "a5bd74c3",
   "metadata": {
    "id": "a5bd74c3",
    "papermill": {
     "duration": 0.063126,
     "end_time": "2022-06-22T16:37:30.977385",
     "exception": false,
     "start_time": "2022-06-22T16:37:30.914259",
     "status": "completed"
    },
    "tags": []
   },
   "source": [
    "## Skip Connection Model Analysis - ABC-GAN "
   ]
  },
  {
   "cell_type": "markdown",
   "id": "5744a8bf",
   "metadata": {
    "id": "5744a8bf",
    "papermill": {
     "duration": 0.070935,
     "end_time": "2022-06-22T16:37:31.111481",
     "exception": false,
     "start_time": "2022-06-22T16:37:31.040546",
     "status": "completed"
    },
    "tags": []
   },
   "source": [
    "### Weight Analysis \n",
    "\n",
    "Study the weights of the skip connection layer\n",
    "\n",
    "Equation of the skip connection is \n",
    "\n",
    "$output = y_{gan} * w + y_{abc} * (1-w)$"
   ]
  },
  {
   "cell_type": "code",
   "execution_count": 19,
   "id": "52c31dea",
   "metadata": {
    "execution": {
     "iopub.execute_input": "2022-06-22T16:37:31.245406Z",
     "iopub.status.busy": "2022-06-22T16:37:31.244267Z",
     "iopub.status.idle": "2022-06-22T16:37:31.252898Z",
     "shell.execute_reply": "2022-06-22T16:37:31.253652Z"
    },
    "id": "52c31dea",
    "papermill": {
     "duration": 0.082703,
     "end_time": "2022-06-22T16:37:31.253870",
     "exception": false,
     "start_time": "2022-06-22T16:37:31.171167",
     "status": "completed"
    },
    "tags": []
   },
   "outputs": [
    {
     "name": "stdout",
     "output_type": "stream",
     "text": [
      "Weight of the node at skip connection\n",
      "Parameter containing:\n",
      "tensor([[0.0488]], requires_grad=True)\n"
     ]
    },
    {
     "data": {
      "application/scrapbook.scrap.json+json": {
       "data": 0.048808492720127106,
       "encoder": "json",
       "name": "Skip Connection Weight",
       "version": 1
      }
     },
     "metadata": {
      "scrapbook": {
       "data": true,
       "display": false,
       "name": "Skip Connection Weight"
      }
     },
     "output_type": "display_data"
    }
   ],
   "source": [
    "print(\"Weight of the node at skip connection\")\n",
    "for name,param in gen3.named_parameters():\n",
    "    if(name == \"skipNode.weight\"):\n",
    "        print(param)\n",
    "        sb.glue(\"Skip Connection Weight\",param.item())"
   ]
  }
 ],
 "metadata": {
  "colab": {
   "collapsed_sections": [],
   "name": "ABC_GAN_Model-Catboost_Pre-gen.ipynb",
   "provenance": []
  },
  "interpreter": {
   "hash": "31f2aee4e71d21fbe5cf8b01ff0e069b9275f58929596ceb00d14d90e3e16cd6"
  },
  "kernelspec": {
   "display_name": "Python 3 (ipykernel)",
   "language": "python",
   "name": "python3"
  },
  "language_info": {
   "codemirror_mode": {
    "name": "ipython",
    "version": 3
   },
   "file_extension": ".py",
   "mimetype": "text/x-python",
   "name": "python",
   "nbconvert_exporter": "python",
   "pygments_lexer": "ipython3",
   "version": "3.8.3"
  },
  "papermill": {
   "default_parameters": {},
   "duration": 179.924758,
   "end_time": "2022-06-22T16:37:32.250535",
   "environment_variables": {},
   "exception": null,
   "input_path": "ABC_GAN-TabNet.ipynb",
   "output_path": "./ABC_GAN_TabNet/ABC-GAN_output_9_11.ipynb",
   "parameters": {
    "bias": 0,
    "variance": 0.01
   },
   "start_time": "2022-06-22T16:34:32.325777",
   "version": "2.3.3"
  }
 },
 "nbformat": 4,
 "nbformat_minor": 5
}