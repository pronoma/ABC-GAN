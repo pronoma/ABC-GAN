{
 "cells": [
  {
   "cell_type": "markdown",
   "id": "622780e6",
   "metadata": {
    "id": "622780e6",
    "papermill": {
     "duration": 0.02584,
     "end_time": "2022-06-22T12:23:54.282583",
     "exception": false,
     "start_time": "2022-06-22T12:23:54.256743",
     "status": "completed"
    },
    "tags": []
   },
   "source": [
    "## Import Libraries "
   ]
  },
  {
   "cell_type": "code",
   "execution_count": 1,
   "id": "a62397e3",
   "metadata": {
    "execution": {
     "iopub.execute_input": "2022-06-22T12:23:54.343237Z",
     "iopub.status.busy": "2022-06-22T12:23:54.341594Z",
     "iopub.status.idle": "2022-06-22T12:23:54.345685Z",
     "shell.execute_reply": "2022-06-22T12:23:54.344876Z"
    },
    "id": "a62397e3",
    "papermill": {
     "duration": 0.040246,
     "end_time": "2022-06-22T12:23:54.345958",
     "exception": false,
     "start_time": "2022-06-22T12:23:54.305712",
     "status": "completed"
    },
    "tags": []
   },
   "outputs": [],
   "source": [
    "import warnings\n",
    "import sys\n",
    "sys.path.insert(0, '../../src')\n",
    "warnings.filterwarnings('ignore')"
   ]
  },
  {
   "cell_type": "code",
   "execution_count": 2,
   "id": "d6a4e155",
   "metadata": {
    "execution": {
     "iopub.execute_input": "2022-06-22T12:23:54.384138Z",
     "iopub.status.busy": "2022-06-22T12:23:54.383284Z",
     "iopub.status.idle": "2022-06-22T12:24:00.024829Z",
     "shell.execute_reply": "2022-06-22T12:24:00.025589Z"
    },
    "id": "d6a4e155",
    "papermill": {
     "duration": 5.662702,
     "end_time": "2022-06-22T12:24:00.025887",
     "exception": false,
     "start_time": "2022-06-22T12:23:54.363185",
     "status": "completed"
    },
    "tags": []
   },
   "outputs": [],
   "source": [
    "import ABC_train_test2\n",
    "import friedman3Dataset\n",
    "import network\n",
    "import dataset\n",
    "import sanityChecks\n",
    "import torch \n",
    "import scrapbook as sb\n",
    "from statistics import mean \n",
    "import catboost as ctb \n",
    "from sklearn.model_selection import train_test_split\n",
    "from sklearn.metrics import mean_squared_error,mean_absolute_error\n",
    "import numpy as np\n",
    "from pytorch_tabnet.tab_model import TabNetRegressor"
   ]
  },
  {
   "cell_type": "markdown",
   "id": "2fa5b0f7",
   "metadata": {
    "id": "2fa5b0f7",
    "papermill": {
     "duration": 0.019468,
     "end_time": "2022-06-22T12:24:00.063424",
     "exception": false,
     "start_time": "2022-06-22T12:24:00.043956",
     "status": "completed"
    },
    "tags": []
   },
   "source": [
    "## Parameters "
   ]
  },
  {
   "cell_type": "code",
   "execution_count": 3,
   "id": "783186fb",
   "metadata": {
    "execution": {
     "iopub.execute_input": "2022-06-22T12:24:00.103056Z",
     "iopub.status.busy": "2022-06-22T12:24:00.102116Z",
     "iopub.status.idle": "2022-06-22T12:24:00.105640Z",
     "shell.execute_reply": "2022-06-22T12:24:00.106404Z"
    },
    "id": "783186fb",
    "papermill": {
     "duration": 0.026364,
     "end_time": "2022-06-22T12:24:00.106638",
     "exception": false,
     "start_time": "2022-06-22T12:24:00.080274",
     "status": "completed"
    },
    "tags": [
     "parameters"
    ]
   },
   "outputs": [],
   "source": [
    "variance = 1\n",
    "bias = 1 "
   ]
  },
  {
   "cell_type": "code",
   "execution_count": 4,
   "id": "fa4d5407",
   "metadata": {
    "execution": {
     "iopub.execute_input": "2022-06-22T12:24:00.140661Z",
     "iopub.status.busy": "2022-06-22T12:24:00.139649Z",
     "iopub.status.idle": "2022-06-22T12:24:00.141490Z",
     "shell.execute_reply": "2022-06-22T12:24:00.141902Z"
    },
    "papermill": {
     "duration": 0.020442,
     "end_time": "2022-06-22T12:24:00.142178",
     "exception": false,
     "start_time": "2022-06-22T12:24:00.121736",
     "status": "completed"
    },
    "tags": [
     "injected-parameters"
    ]
   },
   "outputs": [],
   "source": [
    "# Parameters\n",
    "variance = 1\n",
    "bias = 1\n"
   ]
  },
  {
   "cell_type": "markdown",
   "id": "391cdbfd",
   "metadata": {
    "id": "391cdbfd",
    "papermill": {
     "duration": 0.021661,
     "end_time": "2022-06-22T12:24:00.180294",
     "exception": false,
     "start_time": "2022-06-22T12:24:00.158633",
     "status": "completed"
    },
    "tags": []
   },
   "source": [
    "## Dataset \n"
   ]
  },
  {
   "cell_type": "code",
   "execution_count": 5,
   "id": "5b51f161",
   "metadata": {
    "execution": {
     "iopub.execute_input": "2022-06-22T12:24:00.215512Z",
     "iopub.status.busy": "2022-06-22T12:24:00.214689Z",
     "iopub.status.idle": "2022-06-22T12:24:00.216725Z",
     "shell.execute_reply": "2022-06-22T12:24:00.217201Z"
    },
    "id": "5b51f161",
    "papermill": {
     "duration": 0.02044,
     "end_time": "2022-06-22T12:24:00.217408",
     "exception": false,
     "start_time": "2022-06-22T12:24:00.196968",
     "status": "completed"
    },
    "tags": []
   },
   "outputs": [],
   "source": [
    "#Parameters \n",
    "n_features = 4\n",
    "n_samples= 100\n",
    "n_target = 1"
   ]
  },
  {
   "cell_type": "code",
   "execution_count": 6,
   "id": "5d6eced4",
   "metadata": {
    "execution": {
     "iopub.execute_input": "2022-06-22T12:24:00.258840Z",
     "iopub.status.busy": "2022-06-22T12:24:00.257956Z",
     "iopub.status.idle": "2022-06-22T12:24:00.260997Z",
     "shell.execute_reply": "2022-06-22T12:24:00.261447Z"
    },
    "id": "5d6eced4",
    "papermill": {
     "duration": 0.030898,
     "end_time": "2022-06-22T12:24:00.261714",
     "exception": false,
     "start_time": "2022-06-22T12:24:00.230816",
     "status": "completed"
    },
    "tags": []
   },
   "outputs": [
    {
     "name": "stdout",
     "output_type": "stream",
     "text": [
      "          X1           X2        X3        X4         Y\n",
      "0  43.474439  1393.925573  0.818413  4.470384  1.346389\n",
      "1  88.654123   825.787259  0.739312  9.283310  1.473783\n",
      "2  43.985853  1704.399110  0.218568  7.812508  1.388043\n",
      "3  28.428089   523.334254  0.191969  8.565176  1.254500\n",
      "4  80.923828   296.265517  0.495108  3.631842  1.025406\n"
     ]
    }
   ],
   "source": [
    "X,Y = friedman3Dataset.friedman3_data(n_samples)"
   ]
  },
  {
   "cell_type": "code",
   "execution_count": 7,
   "id": "fe007438",
   "metadata": {
    "execution": {
     "iopub.execute_input": "2022-06-22T12:24:00.303992Z",
     "iopub.status.busy": "2022-06-22T12:24:00.302761Z",
     "iopub.status.idle": "2022-06-22T12:24:00.307319Z",
     "shell.execute_reply": "2022-06-22T12:24:00.306666Z"
    },
    "id": "fe007438",
    "papermill": {
     "duration": 0.029837,
     "end_time": "2022-06-22T12:24:00.307536",
     "exception": false,
     "start_time": "2022-06-22T12:24:00.277699",
     "status": "completed"
    },
    "tags": []
   },
   "outputs": [],
   "source": [
    "#Train test split for dataset \n",
    "X_train,X_test,Y_train,Y_test = train_test_split(X,Y,test_size = 0.2)\n",
    "train_data = dataset.CustomDataset(X_train,Y_train)\n",
    "test_data = dataset.CustomDataset(X_test,Y_test)\n"
   ]
  },
  {
   "cell_type": "markdown",
   "id": "a9a1af34",
   "metadata": {
    "id": "a9a1af34",
    "papermill": {
     "duration": 0.015539,
     "end_time": "2022-06-22T12:24:00.340681",
     "exception": false,
     "start_time": "2022-06-22T12:24:00.325142",
     "status": "completed"
    },
    "tags": []
   },
   "source": [
    "## Training Parameters "
   ]
  },
  {
   "cell_type": "code",
   "execution_count": 8,
   "id": "952b7fc8",
   "metadata": {
    "execution": {
     "iopub.execute_input": "2022-06-22T12:24:00.373613Z",
     "iopub.status.busy": "2022-06-22T12:24:00.372883Z",
     "iopub.status.idle": "2022-06-22T12:24:00.375227Z",
     "shell.execute_reply": "2022-06-22T12:24:00.375766Z"
    },
    "id": "952b7fc8",
    "papermill": {
     "duration": 0.021016,
     "end_time": "2022-06-22T12:24:00.375976",
     "exception": false,
     "start_time": "2022-06-22T12:24:00.354960",
     "status": "completed"
    },
    "tags": []
   },
   "outputs": [],
   "source": [
    "batch_size = 32\n",
    "n_epochs = 1000\n",
    "#Select the device \n",
    "device = torch.device('cuda' if torch.cuda.is_available() else 'cpu')"
   ]
  },
  {
   "cell_type": "markdown",
   "id": "a95e1600",
   "metadata": {
    "id": "a95e1600",
    "papermill": {
     "duration": 0.016108,
     "end_time": "2022-06-22T12:24:00.406081",
     "exception": false,
     "start_time": "2022-06-22T12:24:00.389973",
     "status": "completed"
    },
    "tags": []
   },
   "source": [
    "# ABC Pre-generator Model \n",
    "\n",
    "1. The catboost model is used as a pre-generator model for the ABC-GAN. \n",
    "2. The model is first trained on the entire dataset \n",
    "3. It generats X,Y pairs and we add some Gaussian noise with mean 0 and variance 1 to it which is then feed as input to the generator.\n"
   ]
  },
  {
   "cell_type": "code",
   "execution_count": 9,
   "id": "ff8ce7bd",
   "metadata": {
    "execution": {
     "iopub.execute_input": "2022-06-22T12:24:00.445420Z",
     "iopub.status.busy": "2022-06-22T12:24:00.444509Z",
     "iopub.status.idle": "2022-06-22T12:24:15.209266Z",
     "shell.execute_reply": "2022-06-22T12:24:15.209816Z"
    },
    "id": "ff8ce7bd",
    "papermill": {
     "duration": 14.787003,
     "end_time": "2022-06-22T12:24:15.210021",
     "exception": false,
     "start_time": "2022-06-22T12:24:00.423018",
     "status": "completed"
    },
    "tags": []
   },
   "outputs": [
    {
     "name": "stdout",
     "output_type": "stream",
     "text": [
      "Device used : cpu\n"
     ]
    },
    {
     "name": "stdout",
     "output_type": "stream",
     "text": [
      "epoch 0  | loss: 1.02622 | train_mse: 9.70665 | train_mae: 2.49487 |  0:00:00s\n",
      "epoch 1  | loss: 0.56586 | train_mse: 13.59733| train_mae: 2.58351 |  0:00:00s\n"
     ]
    },
    {
     "name": "stdout",
     "output_type": "stream",
     "text": [
      "epoch 2  | loss: 0.51089 | train_mse: 8.60333 | train_mae: 2.2101  |  0:00:00s\n",
      "epoch 3  | loss: 0.38596 | train_mse: 3.17596 | train_mae: 1.4416  |  0:00:00s\n",
      "epoch 4  | loss: 0.31327 | train_mse: 1.68976 | train_mae: 1.06549 |  0:00:00s\n"
     ]
    },
    {
     "name": "stdout",
     "output_type": "stream",
     "text": [
      "epoch 5  | loss: 0.40457 | train_mse: 1.32427 | train_mae: 0.92955 |  0:00:00s\n",
      "epoch 6  | loss: 0.39894 | train_mse: 2.09232 | train_mae: 1.11114 |  0:00:00s\n",
      "epoch 7  | loss: 0.3131  | train_mse: 1.45808 | train_mae: 0.90241 |  0:00:00s\n"
     ]
    },
    {
     "name": "stdout",
     "output_type": "stream",
     "text": [
      "epoch 8  | loss: 0.25153 | train_mse: 1.25734 | train_mae: 0.78337 |  0:00:01s\n",
      "epoch 9  | loss: 0.31443 | train_mse: 1.32445 | train_mae: 0.77237 |  0:00:01s\n"
     ]
    },
    {
     "name": "stdout",
     "output_type": "stream",
     "text": [
      "epoch 10 | loss: 0.27956 | train_mse: 1.23426 | train_mae: 0.74194 |  0:00:01s\n",
      "epoch 11 | loss: 0.20592 | train_mse: 0.76285 | train_mae: 0.60384 |  0:00:01s\n",
      "epoch 12 | loss: 0.19326 | train_mse: 0.47436 | train_mae: 0.49866 |  0:00:01s\n"
     ]
    },
    {
     "name": "stdout",
     "output_type": "stream",
     "text": [
      "epoch 13 | loss: 0.25591 | train_mse: 0.27009 | train_mae: 0.36727 |  0:00:01s\n",
      "epoch 14 | loss: 0.19828 | train_mse: 0.34081 | train_mae: 0.40363 |  0:00:01s\n",
      "epoch 15 | loss: 0.17396 | train_mse: 0.43576 | train_mae: 0.46439 |  0:00:01s\n"
     ]
    },
    {
     "name": "stdout",
     "output_type": "stream",
     "text": [
      "epoch 16 | loss: 0.25441 | train_mse: 0.88193 | train_mae: 0.63953 |  0:00:01s\n",
      "epoch 17 | loss: 0.18526 | train_mse: 0.78475 | train_mae: 0.6021  |  0:00:01s\n",
      "epoch 18 | loss: 0.2303  | train_mse: 0.7456  | train_mae: 0.57734 |  0:00:02s\n"
     ]
    },
    {
     "name": "stdout",
     "output_type": "stream",
     "text": [
      "epoch 19 | loss: 0.1685  | train_mse: 0.43308 | train_mae: 0.45401 |  0:00:02s\n",
      "epoch 20 | loss: 0.16606 | train_mse: 0.269   | train_mae: 0.37785 |  0:00:02s\n",
      "epoch 21 | loss: 0.1903  | train_mse: 0.18736 | train_mae: 0.32681 |  0:00:02s\n"
     ]
    },
    {
     "name": "stdout",
     "output_type": "stream",
     "text": [
      "epoch 22 | loss: 0.21897 | train_mse: 0.13623 | train_mae: 0.28699 |  0:00:02s\n",
      "epoch 23 | loss: 0.14066 | train_mse: 0.14187 | train_mae: 0.28238 |  0:00:02s\n",
      "epoch 24 | loss: 0.15445 | train_mse: 0.14415 | train_mae: 0.28444 |  0:00:02s\n"
     ]
    },
    {
     "name": "stdout",
     "output_type": "stream",
     "text": [
      "epoch 25 | loss: 0.43002 | train_mse: 0.13616 | train_mae: 0.28815 |  0:00:02s\n",
      "epoch 26 | loss: 0.42363 | train_mse: 0.19089 | train_mae: 0.3349  |  0:00:02s\n",
      "epoch 27 | loss: 0.20731 | train_mse: 0.18378 | train_mae: 0.3173  |  0:00:02s\n"
     ]
    },
    {
     "name": "stdout",
     "output_type": "stream",
     "text": [
      "epoch 28 | loss: 0.16603 | train_mse: 0.15671 | train_mae: 0.29621 |  0:00:02s\n",
      "epoch 29 | loss: 0.12299 | train_mse: 0.19806 | train_mae: 0.33991 |  0:00:02s\n",
      "epoch 30 | loss: 0.1821  | train_mse: 0.14517 | train_mae: 0.29174 |  0:00:02s\n"
     ]
    },
    {
     "name": "stdout",
     "output_type": "stream",
     "text": [
      "epoch 31 | loss: 0.18352 | train_mse: 0.14314 | train_mae: 0.28931 |  0:00:03s\n",
      "epoch 32 | loss: 0.18266 | train_mse: 0.20206 | train_mae: 0.33279 |  0:00:03s\n",
      "epoch 33 | loss: 0.15257 | train_mse: 0.17435 | train_mae: 0.31079 |  0:00:03s\n"
     ]
    },
    {
     "name": "stdout",
     "output_type": "stream",
     "text": [
      "epoch 34 | loss: 0.1253  | train_mse: 0.20194 | train_mae: 0.31726 |  0:00:03s\n",
      "epoch 35 | loss: 0.16424 | train_mse: 0.20952 | train_mae: 0.33024 |  0:00:03s\n",
      "epoch 36 | loss: 0.3456  | train_mse: 0.23235 | train_mae: 0.34697 |  0:00:03s\n"
     ]
    },
    {
     "name": "stdout",
     "output_type": "stream",
     "text": [
      "epoch 37 | loss: 0.2318  | train_mse: 0.25471 | train_mae: 0.36095 |  0:00:03s\n",
      "epoch 38 | loss: 0.15291 | train_mse: 0.21979 | train_mae: 0.33845 |  0:00:03s\n",
      "epoch 39 | loss: 0.15746 | train_mse: 0.15331 | train_mae: 0.28769 |  0:00:03s\n"
     ]
    },
    {
     "name": "stdout",
     "output_type": "stream",
     "text": [
      "epoch 40 | loss: 0.22263 | train_mse: 0.13999 | train_mae: 0.28445 |  0:00:03s\n",
      "epoch 41 | loss: 0.22418 | train_mse: 0.12572 | train_mae: 0.27382 |  0:00:03s\n",
      "epoch 42 | loss: 0.24115 | train_mse: 0.20154 | train_mae: 0.32288 |  0:00:03s\n"
     ]
    },
    {
     "name": "stdout",
     "output_type": "stream",
     "text": [
      "epoch 43 | loss: 0.16868 | train_mse: 0.25533 | train_mae: 0.3438  |  0:00:03s\n",
      "epoch 44 | loss: 0.19046 | train_mse: 0.23349 | train_mae: 0.33071 |  0:00:03s\n",
      "epoch 45 | loss: 0.17667 | train_mse: 0.22891 | train_mae: 0.33101 |  0:00:04s\n"
     ]
    },
    {
     "name": "stdout",
     "output_type": "stream",
     "text": [
      "epoch 46 | loss: 0.20447 | train_mse: 0.18661 | train_mae: 0.31371 |  0:00:04s\n",
      "epoch 47 | loss: 0.1413  | train_mse: 0.14601 | train_mae: 0.28225 |  0:00:04s\n"
     ]
    },
    {
     "name": "stdout",
     "output_type": "stream",
     "text": [
      "epoch 48 | loss: 0.12071 | train_mse: 0.10929 | train_mae: 0.25126 |  0:00:04s\n",
      "epoch 49 | loss: 0.14624 | train_mse: 0.07972 | train_mae: 0.22317 |  0:00:04s\n",
      "epoch 50 | loss: 0.11603 | train_mse: 0.10319 | train_mae: 0.24908 |  0:00:04s\n"
     ]
    },
    {
     "name": "stdout",
     "output_type": "stream",
     "text": [
      "epoch 51 | loss: 0.20274 | train_mse: 0.12796 | train_mae: 0.27366 |  0:00:04s\n",
      "epoch 52 | loss: 0.16354 | train_mse: 0.14075 | train_mae: 0.28784 |  0:00:04s\n",
      "epoch 53 | loss: 0.1471  | train_mse: 0.1307  | train_mae: 0.26889 |  0:00:04s\n",
      "epoch 54 | loss: 0.14739 | train_mse: 0.12896 | train_mae: 0.26471 |  0:00:04s\n"
     ]
    },
    {
     "name": "stdout",
     "output_type": "stream",
     "text": [
      "epoch 55 | loss: 0.22292 | train_mse: 0.11242 | train_mae: 0.25668 |  0:00:04s\n",
      "epoch 56 | loss: 0.12929 | train_mse: 0.15044 | train_mae: 0.28886 |  0:00:04s\n",
      "epoch 57 | loss: 0.11879 | train_mse: 0.18443 | train_mae: 0.32232 |  0:00:05s\n"
     ]
    },
    {
     "name": "stdout",
     "output_type": "stream",
     "text": [
      "epoch 58 | loss: 0.12817 | train_mse: 0.11463 | train_mae: 0.2644  |  0:00:05s\n",
      "epoch 59 | loss: 0.12281 | train_mse: 0.08726 | train_mae: 0.22922 |  0:00:05s\n",
      "epoch 60 | loss: 0.16211 | train_mse: 0.08856 | train_mae: 0.22918 |  0:00:05s\n"
     ]
    },
    {
     "name": "stdout",
     "output_type": "stream",
     "text": [
      "epoch 61 | loss: 0.11651 | train_mse: 0.08454 | train_mae: 0.22847 |  0:00:05s\n",
      "epoch 62 | loss: 0.17614 | train_mse: 0.0833  | train_mae: 0.23028 |  0:00:05s\n",
      "epoch 63 | loss: 0.13821 | train_mse: 0.08262 | train_mae: 0.22638 |  0:00:05s\n"
     ]
    },
    {
     "name": "stdout",
     "output_type": "stream",
     "text": [
      "epoch 64 | loss: 0.22298 | train_mse: 0.08281 | train_mae: 0.22717 |  0:00:05s\n",
      "epoch 65 | loss: 0.27781 | train_mse: 0.08821 | train_mae: 0.24115 |  0:00:05s\n"
     ]
    },
    {
     "name": "stdout",
     "output_type": "stream",
     "text": [
      "epoch 66 | loss: 0.11513 | train_mse: 0.08974 | train_mae: 0.24239 |  0:00:05s\n",
      "epoch 67 | loss: 0.1121  | train_mse: 0.0826  | train_mae: 0.23247 |  0:00:06s\n"
     ]
    },
    {
     "name": "stdout",
     "output_type": "stream",
     "text": [
      "epoch 68 | loss: 0.16842 | train_mse: 0.08846 | train_mae: 0.23086 |  0:00:06s\n",
      "epoch 69 | loss: 0.11774 | train_mse: 0.08884 | train_mae: 0.23054 |  0:00:06s\n",
      "epoch 70 | loss: 0.1203  | train_mse: 0.088   | train_mae: 0.23028 |  0:00:06s\n"
     ]
    },
    {
     "name": "stdout",
     "output_type": "stream",
     "text": [
      "epoch 71 | loss: 0.17647 | train_mse: 0.07844 | train_mae: 0.23168 |  0:00:06s\n",
      "epoch 72 | loss: 0.18206 | train_mse: 0.10485 | train_mae: 0.26772 |  0:00:06s\n"
     ]
    },
    {
     "name": "stdout",
     "output_type": "stream",
     "text": [
      "epoch 73 | loss: 0.10983 | train_mse: 0.08942 | train_mae: 0.24129 |  0:00:06s\n",
      "epoch 74 | loss: 0.12881 | train_mse: 0.08069 | train_mae: 0.22548 |  0:00:06s\n"
     ]
    },
    {
     "name": "stdout",
     "output_type": "stream",
     "text": [
      "epoch 75 | loss: 0.14592 | train_mse: 0.07336 | train_mae: 0.21968 |  0:00:06s\n"
     ]
    },
    {
     "name": "stdout",
     "output_type": "stream",
     "text": [
      "epoch 76 | loss: 0.14231 | train_mse: 0.08583 | train_mae: 0.2359  |  0:00:07s\n"
     ]
    },
    {
     "name": "stdout",
     "output_type": "stream",
     "text": [
      "epoch 77 | loss: 0.11199 | train_mse: 0.10095 | train_mae: 0.25845 |  0:00:07s\n",
      "epoch 78 | loss: 0.14836 | train_mse: 0.12989 | train_mae: 0.29462 |  0:00:07s\n",
      "epoch 79 | loss: 0.13936 | train_mse: 0.10423 | train_mae: 0.2631  |  0:00:07s\n"
     ]
    },
    {
     "name": "stdout",
     "output_type": "stream",
     "text": [
      "epoch 80 | loss: 0.13219 | train_mse: 0.07557 | train_mae: 0.21821 |  0:00:07s\n",
      "epoch 81 | loss: 0.11375 | train_mse: 0.0739  | train_mae: 0.21869 |  0:00:07s\n",
      "epoch 82 | loss: 0.07879 | train_mse: 0.08229 | train_mae: 0.22733 |  0:00:07s\n"
     ]
    },
    {
     "name": "stdout",
     "output_type": "stream",
     "text": [
      "epoch 83 | loss: 0.13567 | train_mse: 0.07985 | train_mae: 0.22423 |  0:00:07s\n",
      "epoch 84 | loss: 0.08847 | train_mse: 0.06664 | train_mae: 0.2054  |  0:00:07s\n",
      "epoch 85 | loss: 0.27835 | train_mse: 0.07052 | train_mae: 0.21402 |  0:00:08s\n"
     ]
    },
    {
     "name": "stdout",
     "output_type": "stream",
     "text": [
      "epoch 86 | loss: 0.11949 | train_mse: 0.08512 | train_mae: 0.2343  |  0:00:08s\n",
      "epoch 87 | loss: 0.10476 | train_mse: 0.10015 | train_mae: 0.25686 |  0:00:08s\n",
      "epoch 88 | loss: 0.08358 | train_mse: 0.08788 | train_mae: 0.24459 |  0:00:08s\n"
     ]
    },
    {
     "name": "stdout",
     "output_type": "stream",
     "text": [
      "epoch 89 | loss: 0.1551  | train_mse: 0.09951 | train_mae: 0.26046 |  0:00:08s\n",
      "epoch 90 | loss: 0.15259 | train_mse: 0.09843 | train_mae: 0.25888 |  0:00:08s\n",
      "epoch 91 | loss: 0.14144 | train_mse: 0.08405 | train_mae: 0.23784 |  0:00:08s\n",
      "epoch 92 | loss: 0.09794 | train_mse: 0.07729 | train_mae: 0.2332  |  0:00:08s\n"
     ]
    },
    {
     "name": "stdout",
     "output_type": "stream",
     "text": [
      "epoch 93 | loss: 0.07929 | train_mse: 0.0869  | train_mae: 0.24629 |  0:00:08s\n",
      "epoch 94 | loss: 0.12479 | train_mse: 0.12199 | train_mae: 0.28921 |  0:00:08s\n",
      "epoch 95 | loss: 0.11021 | train_mse: 0.13324 | train_mae: 0.30103 |  0:00:08s\n",
      "epoch 96 | loss: 0.15686 | train_mse: 0.16231 | train_mae: 0.32393 |  0:00:08s\n"
     ]
    },
    {
     "name": "stdout",
     "output_type": "stream",
     "text": [
      "epoch 97 | loss: 0.11113 | train_mse: 0.16238 | train_mae: 0.31405 |  0:00:08s\n",
      "epoch 98 | loss: 0.13888 | train_mse: 0.13369 | train_mae: 0.29364 |  0:00:08s\n",
      "epoch 99 | loss: 0.12961 | train_mse: 0.10703 | train_mae: 0.26929 |  0:00:09s\n"
     ]
    },
    {
     "name": "stdout",
     "output_type": "stream",
     "text": [
      "epoch 100| loss: 0.1211  | train_mse: 0.20104 | train_mae: 0.31668 |  0:00:09s\n",
      "epoch 101| loss: 0.16102 | train_mse: 0.11723 | train_mae: 0.27524 |  0:00:09s\n",
      "epoch 102| loss: 0.23647 | train_mse: 0.13285 | train_mae: 0.28827 |  0:00:09s\n"
     ]
    },
    {
     "name": "stdout",
     "output_type": "stream",
     "text": [
      "epoch 103| loss: 0.22738 | train_mse: 0.14822 | train_mae: 0.2893  |  0:00:09s\n",
      "epoch 104| loss: 0.11692 | train_mse: 0.10891 | train_mae: 0.2488  |  0:00:09s\n",
      "epoch 105| loss: 0.18792 | train_mse: 0.08572 | train_mae: 0.23039 |  0:00:09s\n",
      "epoch 106| loss: 0.09949 | train_mse: 0.08879 | train_mae: 0.23082 |  0:00:09s\n"
     ]
    },
    {
     "name": "stdout",
     "output_type": "stream",
     "text": [
      "epoch 107| loss: 0.11414 | train_mse: 0.1002  | train_mae: 0.24397 |  0:00:09s\n",
      "epoch 108| loss: 0.13802 | train_mse: 0.09039 | train_mae: 0.23389 |  0:00:09s\n",
      "epoch 109| loss: 0.12494 | train_mse: 0.07008 | train_mae: 0.21336 |  0:00:09s\n",
      "epoch 110| loss: 0.10078 | train_mse: 0.07353 | train_mae: 0.22129 |  0:00:09s\n"
     ]
    },
    {
     "name": "stdout",
     "output_type": "stream",
     "text": [
      "epoch 111| loss: 0.0955  | train_mse: 0.08516 | train_mae: 0.23554 |  0:00:09s\n",
      "epoch 112| loss: 0.12838 | train_mse: 0.07549 | train_mae: 0.21959 |  0:00:09s\n",
      "epoch 113| loss: 0.1184  | train_mse: 0.07302 | train_mae: 0.2147  |  0:00:09s\n"
     ]
    },
    {
     "name": "stdout",
     "output_type": "stream",
     "text": [
      "epoch 114| loss: 0.13841 | train_mse: 0.09303 | train_mae: 0.23915 |  0:00:10s\n",
      "epoch 115| loss: 0.14778 | train_mse: 0.09832 | train_mae: 0.24974 |  0:00:10s\n",
      "epoch 116| loss: 0.13136 | train_mse: 0.10991 | train_mae: 0.26071 |  0:00:10s\n"
     ]
    },
    {
     "name": "stdout",
     "output_type": "stream",
     "text": [
      "epoch 117| loss: 0.10804 | train_mse: 0.09975 | train_mae: 0.24515 |  0:00:10s\n",
      "epoch 118| loss: 0.11058 | train_mse: 0.06712 | train_mae: 0.20777 |  0:00:10s\n",
      "epoch 119| loss: 0.13783 | train_mse: 0.06487 | train_mae: 0.20276 |  0:00:10s\n"
     ]
    },
    {
     "name": "stdout",
     "output_type": "stream",
     "text": [
      "epoch 120| loss: 0.11954 | train_mse: 0.06726 | train_mae: 0.20796 |  0:00:10s\n",
      "epoch 121| loss: 0.11968 | train_mse: 0.064   | train_mae: 0.20651 |  0:00:10s\n",
      "epoch 122| loss: 0.12568 | train_mse: 0.0776  | train_mae: 0.22899 |  0:00:10s\n"
     ]
    },
    {
     "name": "stdout",
     "output_type": "stream",
     "text": [
      "epoch 123| loss: 0.08638 | train_mse: 0.08067 | train_mae: 0.23069 |  0:00:10s\n",
      "epoch 124| loss: 0.11429 | train_mse: 0.07855 | train_mae: 0.22678 |  0:00:10s\n",
      "epoch 125| loss: 0.10035 | train_mse: 0.06973 | train_mae: 0.21289 |  0:00:10s\n"
     ]
    },
    {
     "name": "stdout",
     "output_type": "stream",
     "text": [
      "epoch 126| loss: 0.12451 | train_mse: 0.06776 | train_mae: 0.20794 |  0:00:10s\n",
      "epoch 127| loss: 0.0856  | train_mse: 0.06223 | train_mae: 0.19828 |  0:00:10s\n",
      "epoch 128| loss: 0.08202 | train_mse: 0.05796 | train_mae: 0.19054 |  0:00:11s\n"
     ]
    },
    {
     "name": "stdout",
     "output_type": "stream",
     "text": [
      "epoch 129| loss: 0.10659 | train_mse: 0.05624 | train_mae: 0.18897 |  0:00:11s\n",
      "epoch 130| loss: 0.09453 | train_mse: 0.0601  | train_mae: 0.1936  |  0:00:11s\n",
      "epoch 131| loss: 0.06291 | train_mse: 0.07414 | train_mae: 0.20721 |  0:00:11s\n"
     ]
    },
    {
     "name": "stdout",
     "output_type": "stream",
     "text": [
      "epoch 132| loss: 0.24007 | train_mse: 0.08202 | train_mae: 0.23009 |  0:00:11s\n",
      "epoch 133| loss: 0.16537 | train_mse: 0.08426 | train_mae: 0.23779 |  0:00:11s\n",
      "epoch 134| loss: 0.15023 | train_mse: 0.09224 | train_mae: 0.24643 |  0:00:11s\n"
     ]
    },
    {
     "name": "stdout",
     "output_type": "stream",
     "text": [
      "epoch 135| loss: 0.12379 | train_mse: 0.09397 | train_mae: 0.24364 |  0:00:11s\n",
      "epoch 136| loss: 0.11164 | train_mse: 0.10013 | train_mae: 0.2426  |  0:00:11s\n",
      "epoch 137| loss: 0.14227 | train_mse: 0.09324 | train_mae: 0.23175 |  0:00:11s\n"
     ]
    },
    {
     "name": "stdout",
     "output_type": "stream",
     "text": [
      "epoch 138| loss: 0.15308 | train_mse: 0.09894 | train_mae: 0.23951 |  0:00:11s\n",
      "epoch 139| loss: 0.28308 | train_mse: 0.09693 | train_mae: 0.23086 |  0:00:11s\n",
      "epoch 140| loss: 0.10843 | train_mse: 0.07896 | train_mae: 0.21562 |  0:00:11s\n"
     ]
    },
    {
     "name": "stdout",
     "output_type": "stream",
     "text": [
      "epoch 141| loss: 0.10122 | train_mse: 0.07317 | train_mae: 0.21503 |  0:00:12s\n",
      "epoch 142| loss: 0.06677 | train_mse: 0.07881 | train_mae: 0.22161 |  0:00:12s\n",
      "epoch 143| loss: 0.09839 | train_mse: 0.08511 | train_mae: 0.2265  |  0:00:12s\n"
     ]
    },
    {
     "name": "stdout",
     "output_type": "stream",
     "text": [
      "epoch 144| loss: 0.09325 | train_mse: 0.07412 | train_mae: 0.21119 |  0:00:12s\n",
      "epoch 145| loss: 0.06464 | train_mse: 0.06434 | train_mae: 0.19792 |  0:00:12s\n",
      "epoch 146| loss: 0.11253 | train_mse: 0.06731 | train_mae: 0.20286 |  0:00:12s\n"
     ]
    },
    {
     "name": "stdout",
     "output_type": "stream",
     "text": [
      "epoch 147| loss: 0.11099 | train_mse: 0.06969 | train_mae: 0.2123  |  0:00:12s\n",
      "epoch 148| loss: 0.19872 | train_mse: 0.07381 | train_mae: 0.22008 |  0:00:12s\n",
      "epoch 149| loss: 0.08328 | train_mse: 0.0787  | train_mae: 0.22123 |  0:00:12s\n"
     ]
    },
    {
     "name": "stdout",
     "output_type": "stream",
     "text": [
      "epoch 150| loss: 0.08437 | train_mse: 0.07495 | train_mae: 0.21406 |  0:00:12s\n",
      "epoch 151| loss: 0.07993 | train_mse: 0.07301 | train_mae: 0.21774 |  0:00:12s\n",
      "epoch 152| loss: 0.07866 | train_mse: 0.07985 | train_mae: 0.21939 |  0:00:12s\n",
      "epoch 153| loss: 0.10161 | train_mse: 0.10008 | train_mae: 0.24173 |  0:00:12s\n"
     ]
    },
    {
     "name": "stdout",
     "output_type": "stream",
     "text": [
      "epoch 154| loss: 0.08626 | train_mse: 0.0805  | train_mae: 0.22426 |  0:00:12s\n",
      "epoch 155| loss: 0.07899 | train_mse: 0.07751 | train_mae: 0.2171  |  0:00:13s\n",
      "epoch 156| loss: 0.11809 | train_mse: 0.07529 | train_mae: 0.21531 |  0:00:13s\n"
     ]
    },
    {
     "name": "stdout",
     "output_type": "stream",
     "text": [
      "epoch 157| loss: 0.09404 | train_mse: 0.07014 | train_mae: 0.2117  |  0:00:13s\n",
      "epoch 158| loss: 0.0929  | train_mse: 0.08018 | train_mae: 0.21998 |  0:00:13s\n",
      "epoch 159| loss: 0.13256 | train_mse: 0.08864 | train_mae: 0.23383 |  0:00:13s\n",
      "epoch 160| loss: 0.07933 | train_mse: 0.09321 | train_mae: 0.23462 |  0:00:13s\n"
     ]
    },
    {
     "name": "stdout",
     "output_type": "stream",
     "text": [
      "epoch 161| loss: 0.12638 | train_mse: 0.08821 | train_mae: 0.22383 |  0:00:13s\n",
      "epoch 162| loss: 0.18929 | train_mse: 0.07888 | train_mae: 0.20404 |  0:00:13s\n",
      "epoch 163| loss: 0.07803 | train_mse: 0.08178 | train_mae: 0.20813 |  0:00:13s\n",
      "epoch 164| loss: 0.11949 | train_mse: 0.05963 | train_mae: 0.19615 |  0:00:13s\n"
     ]
    },
    {
     "name": "stdout",
     "output_type": "stream",
     "text": [
      "epoch 165| loss: 0.10065 | train_mse: 0.08789 | train_mae: 0.21889 |  0:00:13s\n",
      "epoch 166| loss: 0.10231 | train_mse: 0.11473 | train_mae: 0.24414 |  0:00:13s\n",
      "epoch 167| loss: 0.1451  | train_mse: 0.1045  | train_mae: 0.23935 |  0:00:13s\n",
      "epoch 168| loss: 0.17435 | train_mse: 0.07452 | train_mae: 0.20416 |  0:00:13s\n"
     ]
    },
    {
     "name": "stdout",
     "output_type": "stream",
     "text": [
      "epoch 169| loss: 0.22881 | train_mse: 0.07209 | train_mae: 0.2091  |  0:00:14s\n",
      "epoch 170| loss: 0.15725 | train_mse: 0.07017 | train_mae: 0.20081 |  0:00:14s\n",
      "epoch 171| loss: 0.14189 | train_mse: 0.06003 | train_mae: 0.19177 |  0:00:14s\n"
     ]
    },
    {
     "name": "stdout",
     "output_type": "stream",
     "text": [
      "epoch 172| loss: 0.09434 | train_mse: 0.05694 | train_mae: 0.19596 |  0:00:14s\n",
      "epoch 173| loss: 0.08751 | train_mse: 0.05398 | train_mae: 0.1897  |  0:00:14s\n",
      "epoch 174| loss: 0.08764 | train_mse: 0.06939 | train_mae: 0.21121 |  0:00:14s\n",
      "epoch 175| loss: 0.08046 | train_mse: 0.08447 | train_mae: 0.2285  |  0:00:14s\n"
     ]
    },
    {
     "name": "stdout",
     "output_type": "stream",
     "text": [
      "epoch 176| loss: 0.09606 | train_mse: 0.10491 | train_mae: 0.25598 |  0:00:14s\n",
      "epoch 177| loss: 0.10512 | train_mse: 0.11876 | train_mae: 0.26915 |  0:00:14s\n",
      "epoch 178| loss: 0.10177 | train_mse: 0.09868 | train_mae: 0.25034 |  0:00:14s\n"
     ]
    },
    {
     "name": "stdout",
     "output_type": "stream",
     "text": [
      "epoch 179| loss: 0.0618  | train_mse: 0.07976 | train_mae: 0.22375 |  0:00:14s\n",
      "\n",
      "Early stopping occurred at epoch 179 with best_epoch = 129 and best_train_mae = 0.18897\n",
      "Best weights from best epoch are automatically used!\n"
     ]
    }
   ],
   "source": [
    "#Train the Model\n",
    "\n",
    "Y_train = np.reshape(Y_train, (-1, 1))\n",
    "Y_test = np.reshape(Y_test, (-1, 1))\n",
    "\n",
    "prior_model = TabNetRegressor(optimizer_fn=torch.optim.Adam, optimizer_params=dict(lr = 0.02),\n",
    "          #scheduler_params={\"step_size\":10, ], \"gamma\":0.9},\n",
    "          #scheduler_fn=torch.optim.lr_scheduler.StepLR\n",
    "          )  #TabNetRegressor()\n",
    "\n",
    "prior_model.fit(X_train,Y_train,eval_set=[(X_train, Y_train)],\n",
    "            eval_name=['train'], \n",
    "            eval_metric=[ 'mse', 'mae'], \n",
    "            max_epochs = n_epochs, \n",
    "            batch_size = batch_size,\n",
    "            patience=50\n",
    "            )"
   ]
  },
  {
   "cell_type": "code",
   "execution_count": 10,
   "id": "af65dcda",
   "metadata": {
    "execution": {
     "iopub.execute_input": "2022-06-22T12:24:15.294655Z",
     "iopub.status.busy": "2022-06-22T12:24:15.293906Z",
     "iopub.status.idle": "2022-06-22T12:24:15.314185Z",
     "shell.execute_reply": "2022-06-22T12:24:15.314673Z"
    },
    "id": "af65dcda",
    "papermill": {
     "duration": 0.075515,
     "end_time": "2022-06-22T12:24:15.314935",
     "exception": false,
     "start_time": "2022-06-22T12:24:15.239420",
     "status": "completed"
    },
    "tags": []
   },
   "outputs": [
    {
     "data": {
      "application/scrapbook.scrap.json+json": {
       "data": 0.39328256560425523,
       "encoder": "json",
       "name": "Prior Model MSE",
       "version": 1
      }
     },
     "metadata": {
      "scrapbook": {
       "data": true,
       "display": false,
       "name": "Prior Model MSE"
      }
     },
     "output_type": "display_data"
    },
    {
     "data": {
      "application/scrapbook.scrap.json+json": {
       "data": 2.2939465641217462,
       "encoder": "json",
       "name": "ABC Pre-generator MSE",
       "version": 1
      }
     },
     "metadata": {
      "scrapbook": {
       "data": true,
       "display": false,
       "name": "ABC Pre-generator MSE"
      }
     },
     "output_type": "display_data"
    },
    {
     "data": {
      "application/scrapbook.scrap.json+json": {
       "data": 0.41889798454544885,
       "encoder": "json",
       "name": "Prior Model MSE",
       "version": 1
      }
     },
     "metadata": {
      "scrapbook": {
       "data": true,
       "display": false,
       "name": "Prior Model MSE"
      }
     },
     "output_type": "display_data"
    },
    {
     "data": {
      "application/scrapbook.scrap.json+json": {
       "data": 1.2420777909711518,
       "encoder": "json",
       "name": "ABC Pre-generator MSE",
       "version": 1
      }
     },
     "metadata": {
      "scrapbook": {
       "data": true,
       "display": false,
       "name": "ABC Pre-generator MSE"
      }
     },
     "output_type": "display_data"
    }
   ],
   "source": [
    "y_pred = prior_model.predict(X_test)\n",
    "y_abc = y_pred + np.random.normal(0,variance, y_pred.shape) + bias \n",
    "mse = mean_squared_error(y_pred,Y_test)\n",
    "sb.glue(\"Prior Model MSE\",mse)\n",
    "mse = mean_squared_error(y_abc,Y_test)\n",
    "sb.glue(\"ABC Pre-generator MSE\",mse)\n",
    "mae = mean_absolute_error(y_pred,Y_test)\n",
    "sb.glue(\"Prior Model MSE\",mae)\n",
    "mae = mean_absolute_error(y_abc,Y_test)\n",
    "sb.glue(\"ABC Pre-generator MSE\",mae)"
   ]
  },
  {
   "cell_type": "markdown",
   "id": "25609da2",
   "metadata": {
    "papermill": {
     "duration": 0.037885,
     "end_time": "2022-06-22T12:24:15.386984",
     "exception": false,
     "start_time": "2022-06-22T12:24:15.349099",
     "status": "completed"
    },
    "tags": []
   },
   "source": [
    "# ABC GAN Model"
   ]
  },
  {
   "cell_type": "code",
   "execution_count": 11,
   "id": "dfc3464d",
   "metadata": {
    "execution": {
     "iopub.execute_input": "2022-06-22T12:24:15.463677Z",
     "iopub.status.busy": "2022-06-22T12:24:15.462804Z",
     "iopub.status.idle": "2022-06-22T12:24:15.465898Z",
     "shell.execute_reply": "2022-06-22T12:24:15.466703Z"
    },
    "papermill": {
     "duration": 0.044055,
     "end_time": "2022-06-22T12:24:15.466935",
     "exception": false,
     "start_time": "2022-06-22T12:24:15.422880",
     "status": "completed"
    },
    "tags": []
   },
   "outputs": [],
   "source": [
    "gen = network.Generator(n_features+1).to(device)\n",
    "disc = network.Discriminator(n_features+1).to(device)\n",
    "\n",
    "criterion = torch.nn.BCELoss()\n",
    "gen_opt = torch.optim.Adam(gen.parameters(), lr=0.001, betas=(0.5, 0.999))\n",
    "disc_opt = torch.optim.Adam(disc.parameters(), lr=0.001, betas=(0.5, 0.999))"
   ]
  },
  {
   "cell_type": "code",
   "execution_count": 12,
   "id": "b75fdd85",
   "metadata": {
    "execution": {
     "iopub.execute_input": "2022-06-22T12:24:15.548767Z",
     "iopub.status.busy": "2022-06-22T12:24:15.547344Z",
     "iopub.status.idle": "2022-06-22T12:24:58.537031Z",
     "shell.execute_reply": "2022-06-22T12:24:58.537531Z"
    },
    "papermill": {
     "duration": 43.038411,
     "end_time": "2022-06-22T12:24:58.537811",
     "exception": false,
     "start_time": "2022-06-22T12:24:15.499400",
     "status": "completed"
    },
    "tags": []
   },
   "outputs": [
    {
     "data": {
      "image/png": "[encoded data removed]",
      "text/plain": [
       "<Figure size 432x288 with 1 Axes>"
      ]
     },
     "metadata": {
      "needs_background": "light"
     },
     "output_type": "display_data"
    },
    {
     "data": {
      "image/png": "[encoded data removed]",
      "text/plain": [
       "<Figure size 432x288 with 1 Axes>"
      ]
     },
     "metadata": {
      "needs_background": "light"
     },
     "output_type": "display_data"
    }
   ],
   "source": [
    "#Training the ABC_GAN \n",
    "ABC_train_test2.training_GAN(disc,gen,disc_opt,gen_opt,train_data,batch_size,n_epochs,criterion,prior_model,variance,bias,device)"
   ]
  },
  {
   "cell_type": "code",
   "execution_count": 13,
   "id": "1fa7c368",
   "metadata": {
    "execution": {
     "iopub.execute_input": "2022-06-22T12:24:58.621639Z",
     "iopub.status.busy": "2022-06-22T12:24:58.620864Z",
     "iopub.status.idle": "2022-06-22T12:24:59.254717Z",
     "shell.execute_reply": "2022-06-22T12:24:59.255275Z"
    },
    "papermill": {
     "duration": 0.680121,
     "end_time": "2022-06-22T12:24:59.255489",
     "exception": false,
     "start_time": "2022-06-22T12:24:58.575368",
     "status": "completed"
    },
    "tags": []
   },
   "outputs": [
    {
     "data": {
      "application/scrapbook.scrap.json+json": {
       "data": 0.2887360992111325,
       "encoder": "json",
       "name": "ABC-GAN Model 1 MSE",
       "version": 1
      }
     },
     "metadata": {
      "scrapbook": {
       "data": true,
       "display": false,
       "name": "ABC-GAN Model 1 MSE"
      }
     },
     "output_type": "display_data"
    },
    {
     "data": {
      "application/scrapbook.scrap.json+json": {
       "data": 0.40338134644553064,
       "encoder": "json",
       "name": "ABC-GAN Model 1 MAE",
       "version": 1
      }
     },
     "metadata": {
      "scrapbook": {
       "data": true,
       "display": false,
       "name": "ABC-GAN Model 1 MAE"
      }
     },
     "output_type": "display_data"
    },
    {
     "data": {
      "application/scrapbook.scrap.json+json": {
       "data": 8.067626928910613,
       "encoder": "json",
       "name": "ABC-GAN Model 1 Manhattan Distance",
       "version": 1
      }
     },
     "metadata": {
      "scrapbook": {
       "data": true,
       "display": false,
       "name": "ABC-GAN Model 1 Manhattan Distance"
      }
     },
     "output_type": "display_data"
    },
    {
     "data": {
      "application/scrapbook.scrap.json+json": {
       "data": 2.4013064595568854,
       "encoder": "json",
       "name": "ABC-GAN Model 1 Euclidean distance",
       "version": 1
      }
     },
     "metadata": {
      "scrapbook": {
       "data": true,
       "display": false,
       "name": "ABC-GAN Model 1 Euclidean distance"
      }
     },
     "output_type": "display_data"
    },
    {
     "data": {
      "application/scrapbook.scrap.json+json": {
       "data": [
        [
         0.2902011510579198,
         0.3242921998429949,
         0.3072373908182492,
         0.24918246813820746,
         0.2921032438354651,
         0.2765584751359436,
         0.29138495451875523,
         0.30714019865672026,
         0.2839842309490635,
         0.2798435672189254,
         0.26096027679393596,
         0.29422177980587366,
         0.2822589388188728,
         0.2993254384148907,
         0.26549610834622245,
         0.27452025315328216,
         0.2920338770668075,
         0.28702162093564426,
         0.30930812332357244,
         0.2823388590504354,
         0.2750748380257563,
         0.28534846466416586,
         0.308414167667146,
         0.3140828002380346,
         0.2935741051005043,
         0.2710309317953867,
         0.27100750702924403,
         0.2543187431244072,
         0.3120991081239253,
         0.29562571334380106,
         0.3164876840427659,
         0.29710795655318606,
         0.25467364930156455,
         0.2601690072776915,
         0.2728785068974296,
         0.3238822419544848,
         0.27878360457519086,
         0.31043460767345243,
         0.3167419507522692,
         0.28382879633583313,
         0.26301537554806054,
         0.27943654194834916,
         0.278945965530265,
         0.3011383856507818,
         0.27532712643560564,
         0.28860013648406935,
         0.31054905952694856,
         0.32477551314418773,
         0.29492323756561944,
         0.3118447123541882,
         0.311028404186637,
         0.30922323100954846,
         0.31334762011576145,
         0.3012893571018996,
         0.29419444323946753,
         0.29816999722891696,
         0.2679783462005846,
         0.2898796529066122,
         0.32932442685536784,
         0.30771408878658607,
         0.2604854657054781,
         0.25269290284458845,
         0.3113894551581998,
         0.2704688393176315,
         0.2665128157549425,
         0.25621858289063404,
         0.251215607469096,
         0.32656077237497,
         0.2806811526291568,
         0.3105246349605119,
         0.3247344725688619,
         0.3257544384748341,
         0.2947991090702278,
         0.24637882393942542,
         0.3189470410481291,
         0.2711372220603201,
         0.2853087478289838,
         0.24275450571131157,
         0.32176003884791593,
         0.2962121050262176,
         0.3221273298936826,
         0.25470691811045454,
         0.2864195787093041,
         0.3037340509825078,
         0.26968715525209197,
         0.25129405716132197,
         0.29125162203985966,
         0.2811171724543146,
         0.2754769531593734,
         0.2624081877068183,
         0.26772948723234213,
         0.2578270813498417,
         0.2739877185353915,
         0.27244205603174654,
         0.28899169327599145,
         0.3012529114395036,
         0.3238542348239475,
         0.28882364636963664,
         0.2908547254768151,
         0.29940344524939
        ],
        [
         0.4057450149208307,
         0.42309381775557997,
         0.41793394051492216,
         0.38096943236887454,
         0.4068393152207136,
         0.39273225888609886,
         0.40627783089876174,
         0.4114442378282547,
         0.38904791362583635,
         0.39795298911631105,
         0.38553146086633205,
         0.4099381897598505,
         0.3972945034503937,
         0.4143589936196804,
         0.39430666752159593,
         0.3975753281265497,
         0.3952018704265356,
         0.40661807879805567,
         0.41170753091573714,
         0.400514343008399,
         0.39981875345110895,
         0.40455795302987096,
         0.4139157712459564,
         0.41741798520088197,
         0.4058865189552307,
         0.39207148514688017,
         0.39186810366809366,
         0.3903714843094349,
         0.4153370216488838,
         0.4053615342825651,
         0.41167812906205653,
         0.4093355514109135,
         0.3843980897217989,
         0.3926859099417925,
         0.40194896459579466,
         0.41673906333744526,
         0.4071215890347958,
         0.4088626842945814,
         0.41735007204115393,
         0.4031025554984808,
         0.3833382915705442,
         0.3927940558642149,
         0.4003515597432852,
         0.41508686989545823,
         0.39907435700297356,
         0.3991887360811234,
         0.4107783418148756,
         0.41735912561416627,
         0.40929344184696675,
         0.41836005076766014,
         0.41495313979685305,
         0.4134528607130051,
         0.40932830683887006,
         0.418859538435936,
         0.41704291813075545,
         0.409041003882885,
         0.3878328908234835,
         0.40362082198262217,
         0.42892910316586497,
         0.41040177419781687,
         0.39879316203296183,
         0.38555663675069807,
         0.41182840466499326,
         0.39684444330632684,
         0.39368425495922565,
         0.38730187267065047,
         0.3863165579736233,
         0.42751750610768796,
         0.3961367145180702,
         0.4198422998189926,
         0.4177376374602318,
         0.4205652572214603,
         0.4069649867713451,
         0.38180201426148414,
         0.4213284678757191,
         0.3860055819153786,
         0.4037943411618471,
         0.3736261460930109,
         0.42606886066496374,
         0.41201198771595954,
         0.4127123884856701,
         0.38347830474376676,
         0.3932591523975134,
         0.4077910527586937,
         0.39988466054201127,
         0.37700738906860354,
         0.40598115250468253,
         0.4053992997854948,
         0.3992826085537672,
         0.38208570182323454,
         0.3945364445447922,
         0.3957069866359234,
         0.3888790350407362,
         0.39644980765879156,
         0.4017391446977854,
         0.41413006335496905,
         0.41402988471090796,
         0.403617262467742,
         0.40092527158558366,
         0.41351177357137203
        ],
        [
         8.114900298416615,
         8.461876355111599,
         8.358678810298443,
         7.619388647377491,
         8.136786304414272,
         7.854645177721977,
         8.125556617975235,
         8.228884756565094,
         7.7809582725167274,
         7.9590597823262215,
         7.710629217326641,
         8.19876379519701,
         7.9458900690078735,
         8.287179872393608,
         7.886133350431919,
         7.951506562530994,
         7.904037408530712,
         8.132361575961113,
         8.234150618314743,
         8.01028686016798,
         7.996375069022179,
         8.09115906059742,
         8.278315424919128,
         8.34835970401764,
         8.117730379104614,
         7.841429702937603,
         7.837362073361874,
         7.807429686188698,
         8.306740432977676,
         8.107230685651302,
         8.23356258124113,
         8.18671102821827,
         7.687961794435978,
         7.85371819883585,
         8.038979291915894,
         8.334781266748905,
         8.142431780695915,
         8.177253685891628,
         8.347001440823078,
         8.062051109969616,
         7.666765831410885,
         7.855881117284298,
         8.007031194865704,
         8.301737397909164,
         7.981487140059471,
         7.983774721622467,
         8.215566836297512,
         8.347182512283325,
         8.185868836939335,
         8.367201015353203,
         8.299062795937061,
         8.269057214260101,
         8.186566136777401,
         8.37719076871872,
         8.340858362615108,
         8.1808200776577,
         7.756657816469669,
         8.072416439652443,
         8.578582063317299,
         8.208035483956337,
         7.975863240659237,
         7.711132735013962,
         8.236568093299866,
         7.936888866126537,
         7.873685099184513,
         7.74603745341301,
         7.7263311594724655,
         8.550350122153759,
         7.922734290361404,
         8.396845996379852,
         8.354752749204636,
         8.411305144429207,
         8.139299735426903,
         7.636040285229683,
         8.426569357514381,
         7.720111638307571,
         8.075886823236942,
         7.472522921860218,
         8.521377213299274,
         8.240239754319191,
         8.254247769713402,
         7.669566094875336,
         7.865183047950268,
         8.155821055173874,
         7.997693210840225,
         7.54014778137207,
         8.11962305009365,
         8.107985995709896,
         7.985652171075344,
         7.641714036464691,
         7.8907288908958435,
         7.914139732718468,
         7.777580700814724,
         7.928996153175831,
         8.034782893955708,
         8.28260126709938,
         8.280597694218159,
         8.07234524935484,
         8.018505431711674,
         8.27023547142744
        ],
        [
         2.409154005280359,
         2.5467320229776624,
         2.478860184916645,
         2.232408869979724,
         2.4170363829924657,
         2.3518438516871973,
         2.4140627768090672,
         2.4784680698234554,
         2.3832088911761953,
         2.365770771731384,
         2.2845580613936516,
         2.425785562682216,
         2.3759584963499374,
         2.44673430684613,
         2.304326835959788,
         2.343161339529492,
         2.4167493749530897,
         2.3959199524844075,
         2.487199723880543,
         2.3762948430295237,
         2.345526968618166,
         2.388926389255918,
         2.483602897675657,
         2.506323204369439,
         2.4231141330961044,
         2.3282222050113117,
         2.3281215905929145,
         2.255299284460522,
         2.4983959178798116,
         2.4315662168396774,
         2.5159001730703303,
         2.437654432249108,
         2.2568723902851247,
         2.2810918757371064,
         2.336144288769123,
         2.545121772939302,
         2.361286109624121,
         2.4917247346906217,
         2.5169106092679145,
         2.3825565946513554,
         2.293536027831525,
         2.3640496693104787,
         2.361973604976419,
         2.4541327822706815,
         2.3466023371487794,
         2.4024992673633405,
         2.4921840201997467,
         2.548629094804451,
         2.4286755137960254,
         2.497377473888111,
         2.4941066704799817,
         2.4868583836219886,
         2.5033881845041988,
         2.4547478774892526,
         2.4256728684613162,
         2.4420073596486844,
         2.3150738485006674,
         2.407819149797643,
         2.5664155035978404,
         2.4807824926284288,
         2.2824787653140524,
         2.248078747929389,
         2.4955538670130917,
         2.3258066958267682,
         2.308734786652389,
         2.2637075027071583,
         2.2414977469053854,
         2.55562427745148,
         2.3693085600198085,
         2.4920860136059186,
         2.5484680597129796,
         2.5524671926386597,
         2.4281643645776034,
         2.2198145145008192,
         2.525656512862068,
         2.328678689988467,
         2.3887601295608722,
         2.2034269024014006,
         2.536769752452579,
         2.433976602295994,
         2.5382172085685757,
         2.257019796592199,
         2.3934058523756647,
         2.4646867995041792,
         2.322443348080172,
         2.2418477074115537,
         2.41351039790534,
         2.371148128878981,
         2.3472407339656214,
         2.2908871107360063,
         2.3139986483675488,
         2.2708019788164786,
         2.340887517739336,
         2.334275288100127,
         2.4041285043690634,
         2.4545994029148774,
         2.545011728161375,
         2.4034294096962223,
         2.4118653589154397,
         2.447053106286784
        ]
       ],
       "encoder": "json",
       "name": "ABC_GAN_1 Metrics",
       "version": 1
      }
     },
     "metadata": {
      "scrapbook": {
       "data": true,
       "display": false,
       "name": "ABC_GAN_1 Metrics"
      }
     },
     "output_type": "display_data"
    },
    {
     "name": "stdout",
     "output_type": "stream",
     "text": [
      "MSE\n",
      "0.2887360992111325\n"
     ]
    }
   ],
   "source": [
    "ABC_GAN1_metrics=ABC_train_test2.test_generator(gen,test_data,prior_model,variance,bias,\"1\",device)\n",
    "sb.glue(\"ABC_GAN_1 Metrics\",ABC_GAN1_metrics)\n",
    "\n",
    "print(\"MSE\")\n",
    "print(mean(ABC_GAN1_metrics[0]))"
   ]
  },
  {
   "cell_type": "code",
   "execution_count": 14,
   "id": "eb22ce5c",
   "metadata": {
    "execution": {
     "iopub.execute_input": "2022-06-22T12:24:59.334200Z",
     "iopub.status.busy": "2022-06-22T12:24:59.333521Z",
     "iopub.status.idle": "2022-06-22T12:25:00.046322Z",
     "shell.execute_reply": "2022-06-22T12:25:00.046821Z"
    },
    "papermill": {
     "duration": 0.756614,
     "end_time": "2022-06-22T12:25:00.047042",
     "exception": false,
     "start_time": "2022-06-22T12:24:59.290428",
     "status": "completed"
    },
    "tags": []
   },
   "outputs": [
    {
     "data": {
      "image/png": "[encoded data removed]",
      "text/plain": [
       "<Figure size 432x288 with 1 Axes>"
      ]
     },
     "metadata": {
      "needs_background": "light"
     },
     "output_type": "display_data"
    },
    {
     "data": {
      "image/png": "[encoded data removed]",
      "text/plain": [
       "<Figure size 432x288 with 1 Axes>"
      ]
     },
     "metadata": {
      "needs_background": "light"
     },
     "output_type": "display_data"
    },
    {
     "data": {
      "image/png": "[encoded data removed]",
      "text/plain": [
       "<Figure size 432x288 with 1 Axes>"
      ]
     },
     "metadata": {
      "needs_background": "light"
     },
     "output_type": "display_data"
    },
    {
     "data": {
      "image/png": "[encoded data removed]",
      "text/plain": [
       "<Figure size 432x288 with 1 Axes>"
      ]
     },
     "metadata": {
      "needs_background": "light"
     },
     "output_type": "display_data"
    }
   ],
   "source": [
    "sanityChecks.discProbVsError(train_data,disc,device)\n",
    "sanityChecks.discProbVsError(test_data,disc,device)"
   ]
  },
  {
   "cell_type": "markdown",
   "id": "130f3a4d",
   "metadata": {
    "id": "130f3a4d",
    "papermill": {
     "duration": 0.040843,
     "end_time": "2022-06-22T12:25:00.133791",
     "exception": false,
     "start_time": "2022-06-22T12:25:00.092948",
     "status": "completed"
    },
    "tags": []
   },
   "source": [
    "# ABC - GAN Model with skip connection"
   ]
  },
  {
   "cell_type": "code",
   "execution_count": 15,
   "id": "4e43dad1",
   "metadata": {
    "execution": {
     "iopub.execute_input": "2022-06-22T12:25:00.226734Z",
     "iopub.status.busy": "2022-06-22T12:25:00.225987Z",
     "iopub.status.idle": "2022-06-22T12:25:00.228272Z",
     "shell.execute_reply": "2022-06-22T12:25:00.229234Z"
    },
    "id": "4e43dad1",
    "papermill": {
     "duration": 0.057101,
     "end_time": "2022-06-22T12:25:00.229462",
     "exception": false,
     "start_time": "2022-06-22T12:25:00.172361",
     "status": "completed"
    },
    "tags": []
   },
   "outputs": [],
   "source": [
    "#Generator\n",
    "gen3 = network.GeneratorWithSkipConnection(n_features+1).to(device)\n",
    "constraints=network.weightConstraint()\n",
    "#Discriminator \n",
    "disc3 = network.Discriminator(n_features+1).to(device)\n",
    "\n",
    "criterion = torch.nn.BCELoss()\n",
    "gen_opt = torch.optim.Adam(gen3.parameters(), lr=0.001, betas=(0.5, 0.999))\n",
    "disc_opt = torch.optim.Adam(disc3.parameters(), lr=0.001, betas=(0.5, 0.999))\n"
   ]
  },
  {
   "cell_type": "code",
   "execution_count": 16,
   "id": "26acbc37",
   "metadata": {
    "execution": {
     "iopub.execute_input": "2022-06-22T12:25:00.324617Z",
     "iopub.status.busy": "2022-06-22T12:25:00.323856Z",
     "iopub.status.idle": "2022-06-22T12:26:11.947961Z",
     "shell.execute_reply": "2022-06-22T12:26:11.948517Z"
    },
    "id": "26acbc37",
    "papermill": {
     "duration": 71.676051,
     "end_time": "2022-06-22T12:26:11.948733",
     "exception": false,
     "start_time": "2022-06-22T12:25:00.272682",
     "status": "completed"
    },
    "tags": []
   },
   "outputs": [
    {
     "data": {
      "image/png": "[encoded data removed]",
      "text/plain": [
       "<Figure size 432x288 with 1 Axes>"
      ]
     },
     "metadata": {
      "needs_background": "light"
     },
     "output_type": "display_data"
    },
    {
     "data": {
      "image/png": "[encoded data removed]",
      "text/plain": [
       "<Figure size 432x288 with 1 Axes>"
      ]
     },
     "metadata": {
      "needs_background": "light"
     },
     "output_type": "display_data"
    }
   ],
   "source": [
    "ABC_train_test2.training_GAN_skip_connection(disc3,gen3,disc_opt,gen_opt,train_data,batch_size,n_epochs,criterion,prior_model,variance,bias,device)"
   ]
  },
  {
   "cell_type": "code",
   "execution_count": 17,
   "id": "c5e0717b",
   "metadata": {
    "execution": {
     "iopub.execute_input": "2022-06-22T12:26:12.047717Z",
     "iopub.status.busy": "2022-06-22T12:26:12.046916Z",
     "iopub.status.idle": "2022-06-22T12:26:12.945624Z",
     "shell.execute_reply": "2022-06-22T12:26:12.946065Z"
    },
    "id": "c5e0717b",
    "papermill": {
     "duration": 0.951373,
     "end_time": "2022-06-22T12:26:12.946286",
     "exception": false,
     "start_time": "2022-06-22T12:26:11.994913",
     "status": "completed"
    },
    "tags": []
   },
   "outputs": [
    {
     "data": {
      "application/scrapbook.scrap.json+json": {
       "data": 0.23017093874091843,
       "encoder": "json",
       "name": "ABC-GAN Model 3 MSE",
       "version": 1
      }
     },
     "metadata": {
      "scrapbook": {
       "data": true,
       "display": false,
       "name": "ABC-GAN Model 3 MSE"
      }
     },
     "output_type": "display_data"
    },
    {
     "data": {
      "application/scrapbook.scrap.json+json": {
       "data": 0.3942633935250342,
       "encoder": "json",
       "name": "ABC-GAN Model 3 MAE",
       "version": 1
      }
     },
     "metadata": {
      "scrapbook": {
       "data": true,
       "display": false,
       "name": "ABC-GAN Model 3 MAE"
      }
     },
     "output_type": "display_data"
    },
    {
     "data": {
      "application/scrapbook.scrap.json+json": {
       "data": 7.885267870500684,
       "encoder": "json",
       "name": "ABC-GAN Model 3 Manhattan Distance",
       "version": 1
      }
     },
     "metadata": {
      "scrapbook": {
       "data": true,
       "display": false,
       "name": "ABC-GAN Model 3 Manhattan Distance"
      }
     },
     "output_type": "display_data"
    },
    {
     "data": {
      "application/scrapbook.scrap.json+json": {
       "data": 2.138515139008166,
       "encoder": "json",
       "name": "ABC-GAN Model 3 Euclidean distance",
       "version": 1
      }
     },
     "metadata": {
      "scrapbook": {
       "data": true,
       "display": false,
       "name": "ABC-GAN Model 3 Euclidean distance"
      }
     },
     "output_type": "display_data"
    },
    {
     "data": {
      "application/scrapbook.scrap.json+json": {
       "data": [
        [
         0.18551596451489646,
         0.18958526005901116,
         0.23028040783786338,
         0.28983538842589385,
         0.16506637864750864,
         0.3112370533919616,
         0.23079578964056982,
         0.20211243418293937,
         0.23260755495834967,
         0.310880148599621,
         0.19976207077086222,
         0.20177407407579268,
         0.20906162960377203,
         0.20103769736278182,
         0.206742337046174,
         0.28399824506796534,
         0.1966880900006201,
         0.3319048193083846,
         0.23759921612387686,
         0.20839305445787898,
         0.22122912493849034,
         0.24283872669624684,
         0.20596031387075397,
         0.22390913723088982,
         0.2284062417604754,
         0.2042680862772917,
         0.2511012557703149,
         0.17701183803847428,
         0.21508414125832967,
         0.23697453160718102,
         0.21294956494685105,
         0.1953511329655531,
         0.2928698352316265,
         0.21628614975283314,
         0.19785326493541328,
         0.21928839155179375,
         0.20725492237543136,
         0.2925082339619166,
         0.21181296925729573,
         0.3056883859232915,
         0.1927217136263877,
         0.2038117191789283,
         0.21314588584744537,
         0.3102187684444503,
         0.2475199733109362,
         0.2027121015801288,
         0.22528828632711262,
         0.24591965601476318,
         0.20871431689284417,
         0.17690234568667224,
         0.2249815937455383,
         0.24663717393358145,
         0.2168762372148545,
         0.20879274183406168,
         0.2243288524896913,
         0.18609118672248143,
         0.22720144504328546,
         0.2962991923888514,
         0.2126598891661277,
         0.27512480508794396,
         0.26570663127470595,
         0.25775537332034165,
         0.20880358794238255,
         0.23684883723766248,
         0.20754837362020476,
         0.18808993171666194,
         0.32974456063724905,
         0.24285344327144642,
         0.2257684179952713,
         0.22019394647140608,
         0.2255626750532762,
         0.21995854369786455,
         0.21108568004551181,
         0.1893981903519344,
         0.22125989501986432,
         0.2088516442852038,
         0.2246500502046079,
         0.1889429006819974,
         0.24397695987115964,
         0.1946457675576661,
         0.20435995544192803,
         0.2189664310752176,
         0.25371852288777574,
         0.2386639485766195,
         0.23684314545827037,
         0.2516705062268207,
         0.19323885116298992,
         0.2081443575509688,
         0.21687949442616605,
         0.21821621715370854,
         0.16744812652133112,
         0.23342847670727068,
         0.25466319830233697,
         0.32722280557038025,
         0.36901497383731685,
         0.21812068119733166,
         0.2373500004735099,
         0.20858933406820754,
         0.27237662178935684,
         0.24706106844465273
        ],
        [
         0.3593915536999702,
         0.3605908453464508,
         0.414948533475399,
         0.41609339118003846,
         0.3266304925084114,
         0.43369938880205156,
         0.3728650361299515,
         0.37405417039990424,
         0.403628521412611,
         0.41359982267022133,
         0.36361939609050753,
         0.3853395842015743,
         0.39396224468946456,
         0.3751177802681923,
         0.3829929605126381,
         0.4210205437615514,
         0.3745426118373871,
         0.45562324225902556,
         0.41448560282588004,
         0.3835420623421669,
         0.4041979618370533,
         0.405902735888958,
         0.3524406135082245,
         0.4167311016470194,
         0.4024380162358284,
         0.37479255348443985,
         0.42885857075452805,
         0.33804478123784065,
         0.37800226658582686,
         0.41300343796610833,
         0.3790913559496403,
         0.3639168992638588,
         0.39741979762911794,
         0.38128507137298584,
         0.3716845750808716,
         0.40540729463100433,
         0.3911569654941559,
         0.43471720814704895,
         0.3608616545796394,
         0.43680978789925573,
         0.3653729006648064,
         0.3607846647500992,
         0.3888943485915661,
         0.4208445318043232,
         0.40660791769623755,
         0.3830635562539101,
         0.3884171783924103,
         0.43105751760303973,
         0.3870476372539997,
         0.343809100985527,
         0.40710612908005717,
         0.4402649275958538,
         0.40071102157235144,
         0.394374798797071,
         0.3823769472539425,
         0.3566332012414932,
         0.41260197311639785,
         0.3922622561454773,
         0.3801252439618111,
         0.4186824791133404,
         0.4312164463102818,
         0.4287935052067041,
         0.3737649887800217,
         0.40060409158468246,
         0.37989178150892255,
         0.3642312116920948,
         0.4065455734729767,
         0.41867979168891906,
         0.3984484635293484,
         0.392594476044178,
         0.4095830164849758,
         0.38503316044807434,
         0.37299334406852724,
         0.36264143511652946,
         0.38272888362407687,
         0.39430112242698667,
         0.4060640513896942,
         0.35060389041900636,
         0.392488394677639,
         0.3609122097492218,
         0.3810191713273525,
         0.38922893553972243,
         0.43208528533577917,
         0.4134316463023424,
         0.4243685994297266,
         0.401671701669693,
         0.3822952747344971,
         0.37725373208522794,
         0.3942708298563957,
         0.39425580352544787,
         0.35865084528923036,
         0.40154506266117096,
         0.4317380525171757,
         0.40864821076393126,
         0.5060802459716797,
         0.3876010291278362,
         0.41407939344644545,
         0.36655289083719256,
         0.41380223631858826,
         0.4120918020606041
        ],
        [
         7.187831073999405,
         7.211816906929016,
         8.29897066950798,
         8.321867823600769,
         6.532609850168228,
         8.67398777604103,
         7.4573007225990295,
         7.481083407998085,
         8.07257042825222,
         8.271996453404427,
         7.27238792181015,
         7.7067916840314865,
         7.879244893789291,
         7.502355605363846,
         7.659859210252762,
         8.420410875231028,
         7.490852236747742,
         9.112464845180511,
         8.289712056517601,
         7.670841246843338,
         8.083959236741066,
         8.11805471777916,
         7.04881227016449,
         8.334622032940388,
         8.048760324716568,
         7.495851069688797,
         8.577171415090561,
         6.760895624756813,
         7.5600453317165375,
         8.260068759322166,
         7.5818271189928055,
         7.278337985277176,
         7.948395952582359,
         7.625701427459717,
         7.433691501617432,
         8.108145892620087,
         7.823139309883118,
         8.694344162940979,
         7.217233091592789,
         8.736195757985115,
         7.307458013296127,
         7.215693295001984,
         7.777886971831322,
         8.416890636086464,
         8.132158353924751,
         7.661271125078201,
         7.768343567848206,
         8.621150352060795,
         7.740952745079994,
         6.876182019710541,
         8.142122581601143,
         8.805298551917076,
         8.01422043144703,
         7.88749597594142,
         7.64753894507885,
         7.1326640248298645,
         8.252039462327957,
         7.845245122909546,
         7.602504879236221,
         8.373649582266808,
         8.624328926205635,
         8.575870104134083,
         7.475299775600433,
         8.01208183169365,
         7.5978356301784515,
         7.284624233841896,
         8.130911469459534,
         8.373595833778381,
         7.9689692705869675,
         7.85188952088356,
         8.191660329699516,
         7.700663208961487,
         7.459866881370544,
         7.252828702330589,
         7.654577672481537,
         7.886022448539734,
         8.121281027793884,
         7.012077808380127,
         7.84976789355278,
         7.218244194984436,
         7.6203834265470505,
         7.784578710794449,
         8.641705706715584,
         8.268632926046848,
         8.487371988594532,
         8.03343403339386,
         7.645905494689941,
         7.545074641704559,
         7.885416597127914,
         7.885116070508957,
         7.173016905784607,
         8.03090125322342,
         8.634761050343513,
         8.172964215278625,
         10.121604919433594,
         7.7520205825567245,
         8.28158786892891,
         7.331057816743851,
         8.276044726371765,
         8.241836041212082
        ],
        [
         1.9262189102742007,
         1.9472301356491541,
         2.14606806899438,
         2.407635306377998,
         1.8169555781444333,
         2.4949430991185415,
         2.1484682433797797,
         2.010534427374669,
         2.1568845817908278,
         2.4935121760265013,
         1.9988099998292093,
         2.008850786274544,
         2.0448062480527196,
         2.005181774118156,
         2.0334322562906983,
         2.3832676940199784,
         1.9833713217681659,
         2.5764503461482997,
         2.179904659033862,
         2.0415340039190086,
         2.10346915802676,
         2.2038090965246826,
         2.0295827840753575,
         2.116171719076171,
         2.13731720509837,
         2.021227776759916,
         2.240987531292019,
         1.8815516896353086,
         2.0740498608197906,
         2.177037122362322,
         2.0637323709572954,
         1.9766189970024728,
         2.420205921948075,
         2.0798372520600408,
         1.9892373661049767,
         2.0942224884275964,
         2.0359514845665223,
         2.418711367492685,
         2.058217526197344,
         2.4726034292756753,
         1.9632713191323694,
         2.0189686435352496,
         2.0646834423099603,
         2.4908583598609146,
         2.2249493176741635,
         2.0135148451408487,
         2.1226789033064453,
         2.2177450530426763,
         2.043107030445758,
         1.8809696737941959,
         2.121233573869404,
         2.2209780455177013,
         2.0826725004899567,
         2.0434908457542043,
         2.118154161007604,
         1.9292028753994819,
         2.1316727940436144,
         2.4343343746858253,
         2.062328243350838,
         2.345739990228857,
         2.305240253312899,
         2.2704861740179862,
         2.0435439214383555,
         2.1764596813984975,
         2.037392321671036,
         1.939535674931822,
         2.5680520268765936,
         2.20387587341686,
         2.12493961323738,
         2.0985420961772774,
         2.123971162955261,
         2.0974200518630717,
         2.0546809000207884,
         1.9462692020988996,
         2.103615435481801,
         2.0437790696902822,
         2.1196700224544758,
         1.9439285001357296,
         2.208967903212537,
         1.973047224765115,
         2.021682247248207,
         2.092684548971572,
         2.252636334998509,
         2.18478350678789,
         2.176433529691501,
         2.2435262700794065,
         1.9659036149465206,
         2.040315453801048,
         2.082688140006401,
         2.089096537519071,
         1.8300170847362662,
         2.1606872828212356,
         2.256826082365839,
         2.558213460876087,
         2.7166706603389263,
         2.088639179931908,
         2.1787611180370825,
         2.0424952096306495,
         2.333994951962651,
         2.2228858200305868
        ]
       ],
       "encoder": "json",
       "name": "ABC_GAN_3 Metrics",
       "version": 1
      }
     },
     "metadata": {
      "scrapbook": {
       "data": true,
       "display": false,
       "name": "ABC_GAN_3 Metrics"
      }
     },
     "output_type": "display_data"
    },
    {
     "name": "stdout",
     "output_type": "stream",
     "text": [
      "MSE\n",
      "0.23017093874091843\n"
     ]
    }
   ],
   "source": [
    "ABC_GAN3_metrics=ABC_train_test2.test_generator(gen3,test_data,prior_model,variance,bias,\"3\",device)\n",
    "sb.glue(\"ABC_GAN_3 Metrics\",ABC_GAN3_metrics)\n",
    "\n",
    "print(\"MSE\")\n",
    "print(mean(ABC_GAN3_metrics[0]))"
   ]
  },
  {
   "cell_type": "code",
   "execution_count": 18,
   "id": "c8e46b48",
   "metadata": {
    "execution": {
     "iopub.execute_input": "2022-06-22T12:26:13.118831Z",
     "iopub.status.busy": "2022-06-22T12:26:13.117895Z",
     "iopub.status.idle": "2022-06-22T12:26:14.209785Z",
     "shell.execute_reply": "2022-06-22T12:26:14.210337Z"
    },
    "id": "c8e46b48",
    "papermill": {
     "duration": 1.214815,
     "end_time": "2022-06-22T12:26:14.210585",
     "exception": false,
     "start_time": "2022-06-22T12:26:12.995770",
     "status": "completed"
    },
    "tags": []
   },
   "outputs": [
    {
     "data": {
      "image/png": "[encoded data removed]",
      "text/plain": [
       "<Figure size 432x288 with 1 Axes>"
      ]
     },
     "metadata": {
      "needs_background": "light"
     },
     "output_type": "display_data"
    },
    {
     "data": {
      "image/png": "[encoded data removed]",
      "text/plain": [
       "<Figure size 432x288 with 1 Axes>"
      ]
     },
     "metadata": {
      "needs_background": "light"
     },
     "output_type": "display_data"
    },
    {
     "data": {
      "image/png": "[encoded data removed]",
      "text/plain": [
       "<Figure size 432x288 with 1 Axes>"
      ]
     },
     "metadata": {
      "needs_background": "light"
     },
     "output_type": "display_data"
    },
    {
     "data": {
      "image/png": "[encoded data removed]",
      "text/plain": [
       "<Figure size 432x288 with 1 Axes>"
      ]
     },
     "metadata": {
      "needs_background": "light"
     },
     "output_type": "display_data"
    }
   ],
   "source": [
    "sanityChecks.discProbVsError(train_data,disc3,device)\n",
    "sanityChecks.discProbVsError(test_data,disc3,device)"
   ]
  },
  {
   "cell_type": "markdown",
   "id": "a5bd74c3",
   "metadata": {
    "id": "a5bd74c3",
    "papermill": {
     "duration": 0.086031,
     "end_time": "2022-06-22T12:26:14.356111",
     "exception": false,
     "start_time": "2022-06-22T12:26:14.270080",
     "status": "completed"
    },
    "tags": []
   },
   "source": [
    "## Skip Connection Model Analysis - ABC-GAN "
   ]
  },
  {
   "cell_type": "markdown",
   "id": "5744a8bf",
   "metadata": {
    "id": "5744a8bf",
    "papermill": {
     "duration": 0.120436,
     "end_time": "2022-06-22T12:26:14.538378",
     "exception": false,
     "start_time": "2022-06-22T12:26:14.417942",
     "status": "completed"
    },
    "tags": []
   },
   "source": [
    "### Weight Analysis \n",
    "\n",
    "Study the weights of the skip connection layer\n",
    "\n",
    "Equation of the skip connection is \n",
    "\n",
    "$output = y_{gan} * w + y_{abc} * (1-w)$"
   ]
  },
  {
   "cell_type": "code",
   "execution_count": 19,
   "id": "52c31dea",
   "metadata": {
    "execution": {
     "iopub.execute_input": "2022-06-22T12:26:14.956281Z",
     "iopub.status.busy": "2022-06-22T12:26:14.954913Z",
     "iopub.status.idle": "2022-06-22T12:26:14.969627Z",
     "shell.execute_reply": "2022-06-22T12:26:14.968411Z"
    },
    "id": "52c31dea",
    "papermill": {
     "duration": 0.289805,
     "end_time": "2022-06-22T12:26:14.969923",
     "exception": false,
     "start_time": "2022-06-22T12:26:14.680118",
     "status": "completed"
    },
    "tags": []
   },
   "outputs": [
    {
     "name": "stdout",
     "output_type": "stream",
     "text": [
      "Weight of the node at skip connection\n",
      "Parameter containing:\n",
      "tensor([[0.1271]], requires_grad=True)\n"
     ]
    },
    {
     "data": {
      "application/scrapbook.scrap.json+json": {
       "data": 0.12714771926403046,
       "encoder": "json",
       "name": "Skip Connection Weight",
       "version": 1
      }
     },
     "metadata": {
      "scrapbook": {
       "data": true,
       "display": false,
       "name": "Skip Connection Weight"
      }
     },
     "output_type": "display_data"
    }
   ],
   "source": [
    "print(\"Weight of the node at skip connection\")\n",
    "for name,param in gen3.named_parameters():\n",
    "    if(name == \"skipNode.weight\"):\n",
    "        print(param)\n",
    "        sb.glue(\"Skip Connection Weight\",param.item())"
   ]
  }
 ],
 "metadata": {
  "colab": {
   "collapsed_sections": [],
   "name": "ABC_GAN_Model-Catboost_Pre-gen.ipynb",
   "provenance": []
  },
  "interpreter": {
   "hash": "31f2aee4e71d21fbe5cf8b01ff0e069b9275f58929596ceb00d14d90e3e16cd6"
  },
  "kernelspec": {
   "display_name": "Python 3 (ipykernel)",
   "language": "python",
   "name": "python3"
  },
  "language_info": {
   "codemirror_mode": {
    "name": "ipython",
    "version": 3
   },
   "file_extension": ".py",
   "mimetype": "text/x-python",
   "name": "python",
   "nbconvert_exporter": "python",
   "pygments_lexer": "ipython3",
   "version": "3.8.3"
  },
  "papermill": {
   "default_parameters": {},
   "duration": 144.57505,
   "end_time": "2022-06-22T12:26:16.591702",
   "environment_variables": {},
   "exception": null,
   "input_path": "ABC_GAN-TabNet.ipynb",
   "output_path": "./ABC_GAN_TabNet/ABC-GAN_output_3_0.ipynb",
   "parameters": {
    "bias": 1,
    "variance": 1
   },
   "start_time": "2022-06-22T12:23:52.016652",
   "version": "2.3.3"
  }
 },
 "nbformat": 4,
 "nbformat_minor": 5
}