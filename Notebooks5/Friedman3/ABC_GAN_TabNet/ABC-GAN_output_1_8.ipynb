{
 "cells": [
  {
   "cell_type": "markdown",
   "id": "622780e6",
   "metadata": {
    "id": "622780e6",
    "papermill": {
     "duration": 0.0231,
     "end_time": "2022-06-22T11:46:28.486793",
     "exception": false,
     "start_time": "2022-06-22T11:46:28.463693",
     "status": "completed"
    },
    "tags": []
   },
   "source": [
    "## Import Libraries "
   ]
  },
  {
   "cell_type": "code",
   "execution_count": 1,
   "id": "a62397e3",
   "metadata": {
    "execution": {
     "iopub.execute_input": "2022-06-22T11:46:28.537782Z",
     "iopub.status.busy": "2022-06-22T11:46:28.536761Z",
     "iopub.status.idle": "2022-06-22T11:46:28.539466Z",
     "shell.execute_reply": "2022-06-22T11:46:28.540062Z"
    },
    "id": "a62397e3",
    "papermill": {
     "duration": 0.035686,
     "end_time": "2022-06-22T11:46:28.540398",
     "exception": false,
     "start_time": "2022-06-22T11:46:28.504712",
     "status": "completed"
    },
    "tags": []
   },
   "outputs": [],
   "source": [
    "import warnings\n",
    "import sys\n",
    "sys.path.insert(0, '../../src')\n",
    "warnings.filterwarnings('ignore')"
   ]
  },
  {
   "cell_type": "code",
   "execution_count": 2,
   "id": "d6a4e155",
   "metadata": {
    "execution": {
     "iopub.execute_input": "2022-06-22T11:46:28.583793Z",
     "iopub.status.busy": "2022-06-22T11:46:28.582961Z",
     "iopub.status.idle": "2022-06-22T11:46:34.824351Z",
     "shell.execute_reply": "2022-06-22T11:46:34.825265Z"
    },
    "id": "d6a4e155",
    "papermill": {
     "duration": 6.267064,
     "end_time": "2022-06-22T11:46:34.825521",
     "exception": false,
     "start_time": "2022-06-22T11:46:28.558457",
     "status": "completed"
    },
    "tags": []
   },
   "outputs": [],
   "source": [
    "import ABC_train_test2\n",
    "import friedman3Dataset\n",
    "import network\n",
    "import dataset\n",
    "import sanityChecks\n",
    "import torch \n",
    "import scrapbook as sb\n",
    "from statistics import mean \n",
    "import catboost as ctb \n",
    "from sklearn.model_selection import train_test_split\n",
    "from sklearn.metrics import mean_squared_error,mean_absolute_error\n",
    "import numpy as np\n",
    "from pytorch_tabnet.tab_model import TabNetRegressor"
   ]
  },
  {
   "cell_type": "markdown",
   "id": "2fa5b0f7",
   "metadata": {
    "id": "2fa5b0f7",
    "papermill": {
     "duration": 0.022367,
     "end_time": "2022-06-22T11:46:34.864935",
     "exception": false,
     "start_time": "2022-06-22T11:46:34.842568",
     "status": "completed"
    },
    "tags": []
   },
   "source": [
    "## Parameters "
   ]
  },
  {
   "cell_type": "code",
   "execution_count": 3,
   "id": "783186fb",
   "metadata": {
    "execution": {
     "iopub.execute_input": "2022-06-22T11:46:34.904414Z",
     "iopub.status.busy": "2022-06-22T11:46:34.903658Z",
     "iopub.status.idle": "2022-06-22T11:46:34.906845Z",
     "shell.execute_reply": "2022-06-22T11:46:34.907433Z"
    },
    "id": "783186fb",
    "papermill": {
     "duration": 0.023537,
     "end_time": "2022-06-22T11:46:34.907647",
     "exception": false,
     "start_time": "2022-06-22T11:46:34.884110",
     "status": "completed"
    },
    "tags": [
     "parameters"
    ]
   },
   "outputs": [],
   "source": [
    "variance = 1\n",
    "bias = 1 "
   ]
  },
  {
   "cell_type": "code",
   "execution_count": 4,
   "id": "9e64c509",
   "metadata": {
    "execution": {
     "iopub.execute_input": "2022-06-22T11:46:34.939695Z",
     "iopub.status.busy": "2022-06-22T11:46:34.937603Z",
     "iopub.status.idle": "2022-06-22T11:46:34.940616Z",
     "shell.execute_reply": "2022-06-22T11:46:34.941016Z"
    },
    "papermill": {
     "duration": 0.019651,
     "end_time": "2022-06-22T11:46:34.941211",
     "exception": false,
     "start_time": "2022-06-22T11:46:34.921560",
     "status": "completed"
    },
    "tags": [
     "injected-parameters"
    ]
   },
   "outputs": [],
   "source": [
    "# Parameters\n",
    "variance = 0.01\n",
    "bias = 0.01\n"
   ]
  },
  {
   "cell_type": "markdown",
   "id": "391cdbfd",
   "metadata": {
    "id": "391cdbfd",
    "papermill": {
     "duration": 0.033706,
     "end_time": "2022-06-22T11:46:34.989279",
     "exception": false,
     "start_time": "2022-06-22T11:46:34.955573",
     "status": "completed"
    },
    "tags": []
   },
   "source": [
    "## Dataset \n"
   ]
  },
  {
   "cell_type": "code",
   "execution_count": 5,
   "id": "5b51f161",
   "metadata": {
    "execution": {
     "iopub.execute_input": "2022-06-22T11:46:35.026089Z",
     "iopub.status.busy": "2022-06-22T11:46:35.023664Z",
     "iopub.status.idle": "2022-06-22T11:46:35.027208Z",
     "shell.execute_reply": "2022-06-22T11:46:35.026700Z"
    },
    "id": "5b51f161",
    "papermill": {
     "duration": 0.022405,
     "end_time": "2022-06-22T11:46:35.027392",
     "exception": false,
     "start_time": "2022-06-22T11:46:35.004987",
     "status": "completed"
    },
    "tags": []
   },
   "outputs": [],
   "source": [
    "#Parameters \n",
    "n_features = 4\n",
    "n_samples= 100\n",
    "n_target = 1"
   ]
  },
  {
   "cell_type": "code",
   "execution_count": 6,
   "id": "5d6eced4",
   "metadata": {
    "execution": {
     "iopub.execute_input": "2022-06-22T11:46:35.078256Z",
     "iopub.status.busy": "2022-06-22T11:46:35.074550Z",
     "iopub.status.idle": "2022-06-22T11:46:35.080405Z",
     "shell.execute_reply": "2022-06-22T11:46:35.078934Z"
    },
    "id": "5d6eced4",
    "papermill": {
     "duration": 0.039634,
     "end_time": "2022-06-22T11:46:35.080597",
     "exception": false,
     "start_time": "2022-06-22T11:46:35.040963",
     "status": "completed"
    },
    "tags": []
   },
   "outputs": [
    {
     "name": "stdout",
     "output_type": "stream",
     "text": [
      "          X1           X2        X3         X4         Y\n",
      "0  64.435126  1243.004779  0.662574   5.527404  1.489615\n",
      "1  60.909126  1548.193345  0.490452   2.729660  1.557819\n",
      "2  64.159209  1359.103374  0.592512  10.760294  1.455231\n",
      "3  45.056158   126.874184  0.219849   6.713925  0.623215\n",
      "4  10.958581  1734.983125  0.425685   1.946702  1.419970\n"
     ]
    }
   ],
   "source": [
    "X,Y = friedman3Dataset.friedman3_data(n_samples)"
   ]
  },
  {
   "cell_type": "code",
   "execution_count": 7,
   "id": "fe007438",
   "metadata": {
    "execution": {
     "iopub.execute_input": "2022-06-22T11:46:35.142364Z",
     "iopub.status.busy": "2022-06-22T11:46:35.138473Z",
     "iopub.status.idle": "2022-06-22T11:46:35.147087Z",
     "shell.execute_reply": "2022-06-22T11:46:35.147867Z"
    },
    "id": "fe007438",
    "papermill": {
     "duration": 0.050835,
     "end_time": "2022-06-22T11:46:35.148101",
     "exception": false,
     "start_time": "2022-06-22T11:46:35.097266",
     "status": "completed"
    },
    "tags": []
   },
   "outputs": [],
   "source": [
    "#Train test split for dataset \n",
    "X_train,X_test,Y_train,Y_test = train_test_split(X,Y,test_size = 0.2)\n",
    "train_data = dataset.CustomDataset(X_train,Y_train)\n",
    "test_data = dataset.CustomDataset(X_test,Y_test)\n"
   ]
  },
  {
   "cell_type": "markdown",
   "id": "a9a1af34",
   "metadata": {
    "id": "a9a1af34",
    "papermill": {
     "duration": 0.016593,
     "end_time": "2022-06-22T11:46:35.180840",
     "exception": false,
     "start_time": "2022-06-22T11:46:35.164247",
     "status": "completed"
    },
    "tags": []
   },
   "source": [
    "## Training Parameters "
   ]
  },
  {
   "cell_type": "code",
   "execution_count": 8,
   "id": "952b7fc8",
   "metadata": {
    "execution": {
     "iopub.execute_input": "2022-06-22T11:46:35.238151Z",
     "iopub.status.busy": "2022-06-22T11:46:35.236822Z",
     "iopub.status.idle": "2022-06-22T11:46:35.238876Z",
     "shell.execute_reply": "2022-06-22T11:46:35.237530Z"
    },
    "id": "952b7fc8",
    "papermill": {
     "duration": 0.042329,
     "end_time": "2022-06-22T11:46:35.239071",
     "exception": false,
     "start_time": "2022-06-22T11:46:35.196742",
     "status": "completed"
    },
    "tags": []
   },
   "outputs": [],
   "source": [
    "batch_size = 32\n",
    "n_epochs = 1000\n",
    "#Select the device \n",
    "device = torch.device('cuda' if torch.cuda.is_available() else 'cpu')"
   ]
  },
  {
   "cell_type": "markdown",
   "id": "a95e1600",
   "metadata": {
    "id": "a95e1600",
    "papermill": {
     "duration": 0.01553,
     "end_time": "2022-06-22T11:46:35.279818",
     "exception": false,
     "start_time": "2022-06-22T11:46:35.264288",
     "status": "completed"
    },
    "tags": []
   },
   "source": [
    "# ABC Pre-generator Model \n",
    "\n",
    "1. The catboost model is used as a pre-generator model for the ABC-GAN. \n",
    "2. The model is first trained on the entire dataset \n",
    "3. It generats X,Y pairs and we add some Gaussian noise with mean 0 and variance 1 to it which is then feed as input to the generator.\n"
   ]
  },
  {
   "cell_type": "code",
   "execution_count": 9,
   "id": "ff8ce7bd",
   "metadata": {
    "execution": {
     "iopub.execute_input": "2022-06-22T11:46:35.320188Z",
     "iopub.status.busy": "2022-06-22T11:46:35.318759Z",
     "iopub.status.idle": "2022-06-22T11:46:50.032175Z",
     "shell.execute_reply": "2022-06-22T11:46:50.033539Z"
    },
    "id": "ff8ce7bd",
    "papermill": {
     "duration": 14.739115,
     "end_time": "2022-06-22T11:46:50.033989",
     "exception": false,
     "start_time": "2022-06-22T11:46:35.294874",
     "status": "completed"
    },
    "tags": []
   },
   "outputs": [
    {
     "name": "stdout",
     "output_type": "stream",
     "text": [
      "Device used : cpu\n"
     ]
    },
    {
     "name": "stdout",
     "output_type": "stream",
     "text": [
      "epoch 0  | loss: 1.22713 | train_mse: 4.25131 | train_mae: 1.52268 |  0:00:00s\n",
      "epoch 1  | loss: 0.72401 | train_mse: 3.74464 | train_mae: 1.4374  |  0:00:00s\n",
      "epoch 2  | loss: 0.91333 | train_mse: 2.42783 | train_mae: 1.19119 |  0:00:00s\n"
     ]
    },
    {
     "name": "stdout",
     "output_type": "stream",
     "text": [
      "epoch 3  | loss: 0.63333 | train_mse: 1.38476 | train_mae: 0.918   |  0:00:00s\n",
      "epoch 4  | loss: 0.73361 | train_mse: 1.21159 | train_mae: 0.84399 |  0:00:00s\n"
     ]
    },
    {
     "name": "stdout",
     "output_type": "stream",
     "text": [
      "epoch 5  | loss: 0.66821 | train_mse: 1.2593  | train_mae: 0.83772 |  0:00:00s\n",
      "epoch 6  | loss: 0.56224 | train_mse: 1.71503 | train_mae: 0.93105 |  0:00:00s\n",
      "epoch 7  | loss: 0.49754 | train_mse: 1.84061 | train_mae: 0.95155 |  0:00:00s\n"
     ]
    },
    {
     "name": "stdout",
     "output_type": "stream",
     "text": [
      "epoch 8  | loss: 0.50068 | train_mse: 1.50628 | train_mae: 0.84374 |  0:00:00s\n",
      "epoch 9  | loss: 0.44782 | train_mse: 1.40132 | train_mae: 0.84305 |  0:00:01s\n"
     ]
    },
    {
     "name": "stdout",
     "output_type": "stream",
     "text": [
      "epoch 10 | loss: 0.56207 | train_mse: 1.38042 | train_mae: 0.83283 |  0:00:01s\n",
      "epoch 11 | loss: 0.38549 | train_mse: 1.13929 | train_mae: 0.7765  |  0:00:01s\n",
      "epoch 12 | loss: 0.33596 | train_mse: 1.51733 | train_mae: 0.82483 |  0:00:01s\n"
     ]
    },
    {
     "name": "stdout",
     "output_type": "stream",
     "text": [
      "epoch 13 | loss: 0.34992 | train_mse: 1.48251 | train_mae: 0.80617 |  0:00:01s\n",
      "epoch 14 | loss: 0.38204 | train_mse: 1.07589 | train_mae: 0.73475 |  0:00:01s\n",
      "epoch 15 | loss: 0.29203 | train_mse: 0.49528 | train_mae: 0.54848 |  0:00:01s\n"
     ]
    },
    {
     "name": "stdout",
     "output_type": "stream",
     "text": [
      "epoch 16 | loss: 0.45272 | train_mse: 0.39731 | train_mae: 0.50171 |  0:00:01s\n",
      "epoch 17 | loss: 0.37673 | train_mse: 0.5477  | train_mae: 0.56812 |  0:00:01s\n",
      "epoch 18 | loss: 0.3074  | train_mse: 0.48422 | train_mae: 0.54229 |  0:00:01s\n",
      "epoch 19 | loss: 0.21288 | train_mse: 0.42039 | train_mae: 0.51965 |  0:00:01s\n"
     ]
    },
    {
     "name": "stdout",
     "output_type": "stream",
     "text": [
      "epoch 20 | loss: 0.47749 | train_mse: 0.37387 | train_mae: 0.48225 |  0:00:01s\n",
      "epoch 21 | loss: 0.38516 | train_mse: 0.23424 | train_mae: 0.39712 |  0:00:01s\n",
      "epoch 22 | loss: 0.28359 | train_mse: 0.28757 | train_mae: 0.43772 |  0:00:01s\n",
      "epoch 23 | loss: 0.23933 | train_mse: 0.31559 | train_mae: 0.45802 |  0:00:01s\n"
     ]
    },
    {
     "name": "stdout",
     "output_type": "stream",
     "text": [
      "epoch 24 | loss: 0.3666  | train_mse: 0.21796 | train_mae: 0.39545 |  0:00:02s\n",
      "epoch 25 | loss: 0.54854 | train_mse: 0.20412 | train_mae: 0.37527 |  0:00:02s\n",
      "epoch 26 | loss: 0.30023 | train_mse: 0.21201 | train_mae: 0.38608 |  0:00:02s\n"
     ]
    },
    {
     "name": "stdout",
     "output_type": "stream",
     "text": [
      "epoch 27 | loss: 0.26279 | train_mse: 0.26857 | train_mae: 0.41719 |  0:00:02s\n",
      "epoch 28 | loss: 0.32229 | train_mse: 0.33276 | train_mae: 0.45394 |  0:00:02s\n",
      "epoch 29 | loss: 0.26143 | train_mse: 0.36722 | train_mae: 0.44678 |  0:00:02s\n",
      "epoch 30 | loss: 0.41814 | train_mse: 0.31781 | train_mae: 0.4046  |  0:00:02s\n"
     ]
    },
    {
     "name": "stdout",
     "output_type": "stream",
     "text": [
      "epoch 31 | loss: 0.30623 | train_mse: 0.26909 | train_mae: 0.38413 |  0:00:02s\n",
      "epoch 32 | loss: 0.25536 | train_mse: 0.16951 | train_mae: 0.32708 |  0:00:02s\n",
      "epoch 33 | loss: 0.23538 | train_mse: 0.20739 | train_mae: 0.36126 |  0:00:02s\n",
      "epoch 34 | loss: 0.17033 | train_mse: 0.20805 | train_mae: 0.35633 |  0:00:02s\n"
     ]
    },
    {
     "name": "stdout",
     "output_type": "stream",
     "text": [
      "epoch 35 | loss: 0.45166 | train_mse: 0.21673 | train_mae: 0.35683 |  0:00:02s\n",
      "epoch 36 | loss: 0.19527 | train_mse: 0.2162  | train_mae: 0.33694 |  0:00:02s\n",
      "epoch 37 | loss: 0.47211 | train_mse: 0.21192 | train_mae: 0.33313 |  0:00:02s\n"
     ]
    },
    {
     "name": "stdout",
     "output_type": "stream",
     "text": [
      "epoch 38 | loss: 0.1793  | train_mse: 0.16862 | train_mae: 0.30546 |  0:00:02s\n",
      "epoch 39 | loss: 0.2387  | train_mse: 0.13752 | train_mae: 0.28626 |  0:00:03s\n",
      "epoch 40 | loss: 0.25511 | train_mse: 0.1655  | train_mae: 0.30716 |  0:00:03s\n"
     ]
    },
    {
     "name": "stdout",
     "output_type": "stream",
     "text": [
      "epoch 41 | loss: 0.28925 | train_mse: 0.12297 | train_mae: 0.27477 |  0:00:03s\n",
      "epoch 42 | loss: 0.25291 | train_mse: 0.12688 | train_mae: 0.27482 |  0:00:03s\n",
      "epoch 43 | loss: 0.241   | train_mse: 0.12182 | train_mae: 0.26796 |  0:00:03s\n"
     ]
    },
    {
     "name": "stdout",
     "output_type": "stream",
     "text": [
      "epoch 44 | loss: 0.22384 | train_mse: 0.14388 | train_mae: 0.29139 |  0:00:03s\n",
      "epoch 45 | loss: 0.15536 | train_mse: 0.1914  | train_mae: 0.31542 |  0:00:03s\n",
      "epoch 46 | loss: 0.25839 | train_mse: 0.21336 | train_mae: 0.33635 |  0:00:03s\n"
     ]
    },
    {
     "name": "stdout",
     "output_type": "stream",
     "text": [
      "epoch 47 | loss: 0.1466  | train_mse: 0.25766 | train_mae: 0.35174 |  0:00:03s\n",
      "epoch 48 | loss: 0.16914 | train_mse: 0.50732 | train_mae: 0.47037 |  0:00:03s\n",
      "epoch 49 | loss: 0.29291 | train_mse: 0.53517 | train_mae: 0.48176 |  0:00:03s\n",
      "epoch 50 | loss: 0.26871 | train_mse: 0.52942 | train_mae: 0.49638 |  0:00:03s\n"
     ]
    },
    {
     "name": "stdout",
     "output_type": "stream",
     "text": [
      "epoch 51 | loss: 0.16309 | train_mse: 0.31498 | train_mae: 0.40569 |  0:00:03s\n",
      "epoch 52 | loss: 0.1775  | train_mse: 0.19257 | train_mae: 0.35253 |  0:00:03s\n",
      "epoch 53 | loss: 0.19699 | train_mse: 0.1502  | train_mae: 0.31068 |  0:00:04s\n"
     ]
    },
    {
     "name": "stdout",
     "output_type": "stream",
     "text": [
      "epoch 54 | loss: 0.27849 | train_mse: 0.14027 | train_mae: 0.29089 |  0:00:04s\n",
      "epoch 55 | loss: 0.3281  | train_mse: 0.13719 | train_mae: 0.2881  |  0:00:04s\n",
      "epoch 56 | loss: 0.15688 | train_mse: 0.14854 | train_mae: 0.29665 |  0:00:04s\n"
     ]
    },
    {
     "name": "stdout",
     "output_type": "stream",
     "text": [
      "epoch 57 | loss: 0.19745 | train_mse: 0.1533  | train_mae: 0.30156 |  0:00:04s\n",
      "epoch 58 | loss: 0.1502  | train_mse: 0.13796 | train_mae: 0.29273 |  0:00:04s\n",
      "epoch 59 | loss: 0.15341 | train_mse: 0.10266 | train_mae: 0.26931 |  0:00:04s\n",
      "epoch 60 | loss: 0.15123 | train_mse: 0.10116 | train_mae: 0.27136 |  0:00:04s\n"
     ]
    },
    {
     "name": "stdout",
     "output_type": "stream",
     "text": [
      "epoch 61 | loss: 0.1398  | train_mse: 0.1077  | train_mae: 0.2746  |  0:00:04s\n",
      "epoch 62 | loss: 0.13562 | train_mse: 0.11996 | train_mae: 0.27832 |  0:00:04s\n",
      "epoch 63 | loss: 0.17985 | train_mse: 0.16546 | train_mae: 0.30459 |  0:00:04s\n"
     ]
    },
    {
     "name": "stdout",
     "output_type": "stream",
     "text": [
      "epoch 64 | loss: 0.11203 | train_mse: 0.15883 | train_mae: 0.30651 |  0:00:04s\n",
      "epoch 65 | loss: 0.16434 | train_mse: 0.18778 | train_mae: 0.3219  |  0:00:04s\n",
      "epoch 66 | loss: 0.42126 | train_mse: 0.16297 | train_mae: 0.30381 |  0:00:05s\n"
     ]
    },
    {
     "name": "stdout",
     "output_type": "stream",
     "text": [
      "epoch 67 | loss: 0.26142 | train_mse: 0.16824 | train_mae: 0.30272 |  0:00:05s\n",
      "epoch 68 | loss: 0.17774 | train_mse: 0.1316  | train_mae: 0.28339 |  0:00:05s\n",
      "epoch 69 | loss: 0.26567 | train_mse: 0.14438 | train_mae: 0.30983 |  0:00:05s\n"
     ]
    },
    {
     "name": "stdout",
     "output_type": "stream",
     "text": [
      "epoch 70 | loss: 0.20205 | train_mse: 0.13477 | train_mae: 0.2981  |  0:00:05s\n",
      "epoch 71 | loss: 0.20448 | train_mse: 0.17373 | train_mae: 0.31457 |  0:00:05s\n",
      "epoch 72 | loss: 0.19794 | train_mse: 0.16412 | train_mae: 0.30864 |  0:00:05s\n"
     ]
    },
    {
     "name": "stdout",
     "output_type": "stream",
     "text": [
      "epoch 73 | loss: 0.27308 | train_mse: 0.09631 | train_mae: 0.25374 |  0:00:05s\n"
     ]
    },
    {
     "name": "stdout",
     "output_type": "stream",
     "text": [
      "epoch 74 | loss: 0.11785 | train_mse: 0.10343 | train_mae: 0.25567 |  0:00:05s\n",
      "epoch 75 | loss: 0.21133 | train_mse: 0.11336 | train_mae: 0.26229 |  0:00:06s\n",
      "epoch 76 | loss: 0.15788 | train_mse: 0.09191 | train_mae: 0.23706 |  0:00:06s\n"
     ]
    },
    {
     "name": "stdout",
     "output_type": "stream",
     "text": [
      "epoch 77 | loss: 0.12822 | train_mse: 0.0866  | train_mae: 0.23183 |  0:00:06s\n"
     ]
    },
    {
     "name": "stdout",
     "output_type": "stream",
     "text": [
      "epoch 78 | loss: 0.14916 | train_mse: 0.10233 | train_mae: 0.25236 |  0:00:06s\n"
     ]
    },
    {
     "name": "stdout",
     "output_type": "stream",
     "text": [
      "epoch 79 | loss: 0.12347 | train_mse: 0.09553 | train_mae: 0.24474 |  0:00:06s\n",
      "epoch 80 | loss: 0.11846 | train_mse: 0.08581 | train_mae: 0.2364  |  0:00:06s\n"
     ]
    },
    {
     "name": "stdout",
     "output_type": "stream",
     "text": [
      "epoch 81 | loss: 0.12568 | train_mse: 0.08803 | train_mae: 0.23934 |  0:00:07s\n"
     ]
    },
    {
     "name": "stdout",
     "output_type": "stream",
     "text": [
      "epoch 82 | loss: 0.11738 | train_mse: 0.08512 | train_mae: 0.22644 |  0:00:07s\n",
      "epoch 83 | loss: 0.10131 | train_mse: 0.11004 | train_mae: 0.25251 |  0:00:07s\n"
     ]
    },
    {
     "name": "stdout",
     "output_type": "stream",
     "text": [
      "epoch 84 | loss: 0.2747  | train_mse: 0.11875 | train_mae: 0.24386 |  0:00:07s\n"
     ]
    },
    {
     "name": "stdout",
     "output_type": "stream",
     "text": [
      "epoch 85 | loss: 0.2532  | train_mse: 0.12595 | train_mae: 0.25115 |  0:00:08s\n",
      "epoch 86 | loss: 0.30848 | train_mse: 0.14408 | train_mae: 0.27207 |  0:00:08s\n"
     ]
    },
    {
     "name": "stdout",
     "output_type": "stream",
     "text": [
      "epoch 87 | loss: 0.18078 | train_mse: 0.10425 | train_mae: 0.24917 |  0:00:08s\n",
      "epoch 88 | loss: 0.17411 | train_mse: 0.09321 | train_mae: 0.23915 |  0:00:08s\n"
     ]
    },
    {
     "name": "stdout",
     "output_type": "stream",
     "text": [
      "epoch 89 | loss: 0.16097 | train_mse: 0.11144 | train_mae: 0.26077 |  0:00:08s\n"
     ]
    },
    {
     "name": "stdout",
     "output_type": "stream",
     "text": [
      "epoch 90 | loss: 0.11686 | train_mse: 0.13841 | train_mae: 0.27799 |  0:00:08s\n",
      "epoch 91 | loss: 0.18263 | train_mse: 0.155   | train_mae: 0.28698 |  0:00:09s\n"
     ]
    },
    {
     "name": "stdout",
     "output_type": "stream",
     "text": [
      "epoch 92 | loss: 0.20494 | train_mse: 0.12591 | train_mae: 0.26461 |  0:00:09s\n",
      "epoch 93 | loss: 0.24306 | train_mse: 0.12716 | train_mae: 0.26973 |  0:00:09s\n",
      "epoch 94 | loss: 0.26788 | train_mse: 0.09249 | train_mae: 0.23229 |  0:00:09s\n"
     ]
    },
    {
     "name": "stdout",
     "output_type": "stream",
     "text": [
      "epoch 95 | loss: 0.10211 | train_mse: 0.08463 | train_mae: 0.22228 |  0:00:09s\n",
      "epoch 96 | loss: 0.2824  | train_mse: 0.09831 | train_mae: 0.23856 |  0:00:09s\n",
      "epoch 97 | loss: 0.17083 | train_mse: 0.13204 | train_mae: 0.26399 |  0:00:09s\n"
     ]
    },
    {
     "name": "stdout",
     "output_type": "stream",
     "text": [
      "epoch 98 | loss: 0.14215 | train_mse: 0.0856  | train_mae: 0.23216 |  0:00:09s\n",
      "epoch 99 | loss: 0.10757 | train_mse: 0.07972 | train_mae: 0.22883 |  0:00:09s\n",
      "epoch 100| loss: 0.17573 | train_mse: 0.06923 | train_mae: 0.20897 |  0:00:09s\n"
     ]
    },
    {
     "name": "stdout",
     "output_type": "stream",
     "text": [
      "epoch 101| loss: 0.09698 | train_mse: 0.06754 | train_mae: 0.20149 |  0:00:09s\n",
      "epoch 102| loss: 0.10013 | train_mse: 0.06033 | train_mae: 0.18594 |  0:00:10s\n",
      "epoch 103| loss: 0.18527 | train_mse: 0.06068 | train_mae: 0.18909 |  0:00:10s\n"
     ]
    },
    {
     "name": "stdout",
     "output_type": "stream",
     "text": [
      "epoch 104| loss: 0.15516 | train_mse: 0.07157 | train_mae: 0.20893 |  0:00:10s\n",
      "epoch 105| loss: 0.08338 | train_mse: 0.1024  | train_mae: 0.24644 |  0:00:10s\n",
      "epoch 106| loss: 0.15136 | train_mse: 0.11695 | train_mae: 0.26084 |  0:00:10s\n"
     ]
    },
    {
     "name": "stdout",
     "output_type": "stream",
     "text": [
      "epoch 107| loss: 0.15246 | train_mse: 0.13213 | train_mae: 0.26914 |  0:00:10s\n",
      "epoch 108| loss: 0.10855 | train_mse: 0.12004 | train_mae: 0.25595 |  0:00:10s\n",
      "epoch 109| loss: 0.20141 | train_mse: 0.10141 | train_mae: 0.24498 |  0:00:10s\n"
     ]
    },
    {
     "name": "stdout",
     "output_type": "stream",
     "text": [
      "epoch 110| loss: 0.21312 | train_mse: 0.11053 | train_mae: 0.25287 |  0:00:10s\n",
      "epoch 111| loss: 0.24267 | train_mse: 0.17047 | train_mae: 0.29108 |  0:00:11s\n",
      "epoch 112| loss: 0.08574 | train_mse: 0.12611 | train_mae: 0.26683 |  0:00:11s\n"
     ]
    },
    {
     "name": "stdout",
     "output_type": "stream",
     "text": [
      "epoch 113| loss: 0.25237 | train_mse: 0.1071  | train_mae: 0.24941 |  0:00:11s\n",
      "epoch 114| loss: 0.13767 | train_mse: 0.13689 | train_mae: 0.26659 |  0:00:11s\n",
      "epoch 115| loss: 0.21139 | train_mse: 0.17044 | train_mae: 0.28024 |  0:00:11s\n"
     ]
    },
    {
     "name": "stdout",
     "output_type": "stream",
     "text": [
      "epoch 116| loss: 0.11564 | train_mse: 0.08015 | train_mae: 0.22248 |  0:00:11s\n",
      "epoch 117| loss: 0.1969  | train_mse: 0.07709 | train_mae: 0.22897 |  0:00:11s\n",
      "epoch 118| loss: 0.36526 | train_mse: 0.08253 | train_mae: 0.23614 |  0:00:11s\n"
     ]
    },
    {
     "name": "stdout",
     "output_type": "stream",
     "text": [
      "epoch 119| loss: 0.1845  | train_mse: 0.08038 | train_mae: 0.22474 |  0:00:11s\n",
      "epoch 120| loss: 0.27836 | train_mse: 0.06987 | train_mae: 0.21161 |  0:00:11s\n"
     ]
    },
    {
     "name": "stdout",
     "output_type": "stream",
     "text": [
      "epoch 121| loss: 0.18985 | train_mse: 0.08014 | train_mae: 0.2185  |  0:00:12s\n",
      "epoch 122| loss: 0.24565 | train_mse: 0.06723 | train_mae: 0.20153 |  0:00:12s\n"
     ]
    },
    {
     "name": "stdout",
     "output_type": "stream",
     "text": [
      "epoch 123| loss: 0.12317 | train_mse: 0.07315 | train_mae: 0.21091 |  0:00:12s\n",
      "epoch 124| loss: 0.09455 | train_mse: 0.10489 | train_mae: 0.24783 |  0:00:12s\n",
      "epoch 125| loss: 0.07359 | train_mse: 0.13095 | train_mae: 0.26521 |  0:00:12s\n"
     ]
    },
    {
     "name": "stdout",
     "output_type": "stream",
     "text": [
      "epoch 126| loss: 0.14125 | train_mse: 0.09898 | train_mae: 0.23638 |  0:00:12s\n",
      "epoch 127| loss: 0.08315 | train_mse: 0.08564 | train_mae: 0.22213 |  0:00:12s\n"
     ]
    },
    {
     "name": "stdout",
     "output_type": "stream",
     "text": [
      "epoch 128| loss: 0.16526 | train_mse: 0.0654  | train_mae: 0.19585 |  0:00:12s\n",
      "epoch 129| loss: 0.08625 | train_mse: 0.06375 | train_mae: 0.1905  |  0:00:12s\n"
     ]
    },
    {
     "name": "stdout",
     "output_type": "stream",
     "text": [
      "epoch 130| loss: 0.11637 | train_mse: 0.06731 | train_mae: 0.20128 |  0:00:13s\n",
      "epoch 131| loss: 0.11625 | train_mse: 0.07676 | train_mae: 0.21851 |  0:00:13s\n",
      "epoch 132| loss: 0.12329 | train_mse: 0.09334 | train_mae: 0.2298  |  0:00:13s\n",
      "epoch 133| loss: 0.08288 | train_mse: 0.13126 | train_mae: 0.25109 |  0:00:13s\n"
     ]
    },
    {
     "name": "stdout",
     "output_type": "stream",
     "text": [
      "epoch 134| loss: 0.10698 | train_mse: 0.13039 | train_mae: 0.25602 |  0:00:13s\n",
      "epoch 135| loss: 0.2973  | train_mse: 0.10902 | train_mae: 0.23492 |  0:00:13s\n",
      "epoch 136| loss: 0.13462 | train_mse: 0.08152 | train_mae: 0.21109 |  0:00:13s\n"
     ]
    },
    {
     "name": "stdout",
     "output_type": "stream",
     "text": [
      "epoch 137| loss: 0.09754 | train_mse: 0.06255 | train_mae: 0.18608 |  0:00:13s\n",
      "epoch 138| loss: 0.11203 | train_mse: 0.07566 | train_mae: 0.19597 |  0:00:13s\n",
      "epoch 139| loss: 0.25284 | train_mse: 0.1101  | train_mae: 0.23163 |  0:00:13s\n"
     ]
    },
    {
     "name": "stdout",
     "output_type": "stream",
     "text": [
      "epoch 140| loss: 0.09559 | train_mse: 0.14458 | train_mae: 0.25087 |  0:00:13s\n",
      "epoch 141| loss: 0.05007 | train_mse: 0.11658 | train_mae: 0.23237 |  0:00:13s\n",
      "epoch 142| loss: 0.07718 | train_mse: 0.09147 | train_mae: 0.21213 |  0:00:13s\n"
     ]
    },
    {
     "name": "stdout",
     "output_type": "stream",
     "text": [
      "epoch 143| loss: 0.12289 | train_mse: 0.0869  | train_mae: 0.20853 |  0:00:14s\n",
      "epoch 144| loss: 0.16702 | train_mse: 0.08014 | train_mae: 0.20704 |  0:00:14s\n",
      "epoch 145| loss: 0.10382 | train_mse: 0.07635 | train_mae: 0.21216 |  0:00:14s\n",
      "epoch 146| loss: 0.20824 | train_mse: 0.10271 | train_mae: 0.22945 |  0:00:14s\n"
     ]
    },
    {
     "name": "stdout",
     "output_type": "stream",
     "text": [
      "epoch 147| loss: 0.16375 | train_mse: 0.11391 | train_mae: 0.24267 |  0:00:14s\n",
      "epoch 148| loss: 0.19981 | train_mse: 0.12114 | train_mae: 0.25381 |  0:00:14s\n",
      "epoch 149| loss: 0.12734 | train_mse: 0.12169 | train_mae: 0.25159 |  0:00:14s\n",
      "epoch 150| loss: 0.14818 | train_mse: 0.1284  | train_mae: 0.25804 |  0:00:14s\n"
     ]
    },
    {
     "name": "stdout",
     "output_type": "stream",
     "text": [
      "epoch 151| loss: 0.12662 | train_mse: 0.08102 | train_mae: 0.22031 |  0:00:14s\n",
      "epoch 152| loss: 0.12952 | train_mse: 0.06098 | train_mae: 0.18797 |  0:00:14s\n",
      "\n",
      "Early stopping occurred at epoch 152 with best_epoch = 102 and best_train_mae = 0.18594\n",
      "Best weights from best epoch are automatically used!\n"
     ]
    }
   ],
   "source": [
    "#Train the Model\n",
    "\n",
    "Y_train = np.reshape(Y_train, (-1, 1))\n",
    "Y_test = np.reshape(Y_test, (-1, 1))\n",
    "\n",
    "prior_model = TabNetRegressor(optimizer_fn=torch.optim.Adam, optimizer_params=dict(lr = 0.02),\n",
    "          #scheduler_params={\"step_size\":10, ], \"gamma\":0.9},\n",
    "          #scheduler_fn=torch.optim.lr_scheduler.StepLR\n",
    "          )  #TabNetRegressor()\n",
    "\n",
    "prior_model.fit(X_train,Y_train,eval_set=[(X_train, Y_train)],\n",
    "            eval_name=['train'], \n",
    "            eval_metric=[ 'mse', 'mae'], \n",
    "            max_epochs = n_epochs, \n",
    "            batch_size = batch_size,\n",
    "            patience=50\n",
    "            )"
   ]
  },
  {
   "cell_type": "code",
   "execution_count": 10,
   "id": "af65dcda",
   "metadata": {
    "execution": {
     "iopub.execute_input": "2022-06-22T11:46:50.116377Z",
     "iopub.status.busy": "2022-06-22T11:46:50.115495Z",
     "iopub.status.idle": "2022-06-22T11:46:50.141011Z",
     "shell.execute_reply": "2022-06-22T11:46:50.141684Z"
    },
    "id": "af65dcda",
    "papermill": {
     "duration": 0.074569,
     "end_time": "2022-06-22T11:46:50.141930",
     "exception": false,
     "start_time": "2022-06-22T11:46:50.067361",
     "status": "completed"
    },
    "tags": []
   },
   "outputs": [
    {
     "data": {
      "application/scrapbook.scrap.json+json": {
       "data": 0.2206502005257604,
       "encoder": "json",
       "name": "Prior Model MSE",
       "version": 1
      }
     },
     "metadata": {
      "scrapbook": {
       "data": true,
       "display": false,
       "name": "Prior Model MSE"
      }
     },
     "output_type": "display_data"
    },
    {
     "data": {
      "application/scrapbook.scrap.json+json": {
       "data": 0.22466726714033217,
       "encoder": "json",
       "name": "ABC Pre-generator MSE",
       "version": 1
      }
     },
     "metadata": {
      "scrapbook": {
       "data": true,
       "display": false,
       "name": "ABC Pre-generator MSE"
      }
     },
     "output_type": "display_data"
    },
    {
     "data": {
      "application/scrapbook.scrap.json+json": {
       "data": 0.4003628170684671,
       "encoder": "json",
       "name": "Prior Model MSE",
       "version": 1
      }
     },
     "metadata": {
      "scrapbook": {
       "data": true,
       "display": false,
       "name": "Prior Model MSE"
      }
     },
     "output_type": "display_data"
    },
    {
     "data": {
      "application/scrapbook.scrap.json+json": {
       "data": 0.40385625806337033,
       "encoder": "json",
       "name": "ABC Pre-generator MSE",
       "version": 1
      }
     },
     "metadata": {
      "scrapbook": {
       "data": true,
       "display": false,
       "name": "ABC Pre-generator MSE"
      }
     },
     "output_type": "display_data"
    }
   ],
   "source": [
    "y_pred = prior_model.predict(X_test)\n",
    "y_abc = y_pred + np.random.normal(0,variance, y_pred.shape) + bias \n",
    "mse = mean_squared_error(y_pred,Y_test)\n",
    "sb.glue(\"Prior Model MSE\",mse)\n",
    "mse = mean_squared_error(y_abc,Y_test)\n",
    "sb.glue(\"ABC Pre-generator MSE\",mse)\n",
    "mae = mean_absolute_error(y_pred,Y_test)\n",
    "sb.glue(\"Prior Model MSE\",mae)\n",
    "mae = mean_absolute_error(y_abc,Y_test)\n",
    "sb.glue(\"ABC Pre-generator MSE\",mae)"
   ]
  },
  {
   "cell_type": "markdown",
   "id": "25609da2",
   "metadata": {
    "papermill": {
     "duration": 0.035659,
     "end_time": "2022-06-22T11:46:50.210236",
     "exception": false,
     "start_time": "2022-06-22T11:46:50.174577",
     "status": "completed"
    },
    "tags": []
   },
   "source": [
    "# ABC GAN Model"
   ]
  },
  {
   "cell_type": "code",
   "execution_count": 11,
   "id": "dfc3464d",
   "metadata": {
    "execution": {
     "iopub.execute_input": "2022-06-22T11:46:50.278226Z",
     "iopub.status.busy": "2022-06-22T11:46:50.277461Z",
     "iopub.status.idle": "2022-06-22T11:46:50.280285Z",
     "shell.execute_reply": "2022-06-22T11:46:50.281067Z"
    },
    "papermill": {
     "duration": 0.039496,
     "end_time": "2022-06-22T11:46:50.281351",
     "exception": false,
     "start_time": "2022-06-22T11:46:50.241855",
     "status": "completed"
    },
    "tags": []
   },
   "outputs": [],
   "source": [
    "gen = network.Generator(n_features+1).to(device)\n",
    "disc = network.Discriminator(n_features+1).to(device)\n",
    "\n",
    "criterion = torch.nn.BCELoss()\n",
    "gen_opt = torch.optim.Adam(gen.parameters(), lr=0.001, betas=(0.5, 0.999))\n",
    "disc_opt = torch.optim.Adam(disc.parameters(), lr=0.001, betas=(0.5, 0.999))"
   ]
  },
  {
   "cell_type": "code",
   "execution_count": 12,
   "id": "b75fdd85",
   "metadata": {
    "execution": {
     "iopub.execute_input": "2022-06-22T11:46:50.354754Z",
     "iopub.status.busy": "2022-06-22T11:46:50.353972Z",
     "iopub.status.idle": "2022-06-22T11:47:53.990583Z",
     "shell.execute_reply": "2022-06-22T11:47:53.991310Z"
    },
    "papermill": {
     "duration": 63.678655,
     "end_time": "2022-06-22T11:47:53.991794",
     "exception": false,
     "start_time": "2022-06-22T11:46:50.313139",
     "status": "completed"
    },
    "tags": []
   },
   "outputs": [
    {
     "data": {
      "image/png": "[encoded data removed]",
      "text/plain": [
       "<Figure size 432x288 with 1 Axes>"
      ]
     },
     "metadata": {
      "needs_background": "light"
     },
     "output_type": "display_data"
    },
    {
     "data": {
      "image/png": "[encoded data removed]",
      "text/plain": [
       "<Figure size 432x288 with 1 Axes>"
      ]
     },
     "metadata": {
      "needs_background": "light"
     },
     "output_type": "display_data"
    }
   ],
   "source": [
    "#Training the ABC_GAN \n",
    "ABC_train_test2.training_GAN(disc,gen,disc_opt,gen_opt,train_data,batch_size,n_epochs,criterion,prior_model,variance,bias,device)"
   ]
  },
  {
   "cell_type": "code",
   "execution_count": 13,
   "id": "1fa7c368",
   "metadata": {
    "execution": {
     "iopub.execute_input": "2022-06-22T11:47:54.091102Z",
     "iopub.status.busy": "2022-06-22T11:47:54.084914Z",
     "iopub.status.idle": "2022-06-22T11:47:54.758693Z",
     "shell.execute_reply": "2022-06-22T11:47:54.759341Z"
    },
    "papermill": {
     "duration": 0.734852,
     "end_time": "2022-06-22T11:47:54.759591",
     "exception": false,
     "start_time": "2022-06-22T11:47:54.024739",
     "status": "completed"
    },
    "tags": []
   },
   "outputs": [
    {
     "data": {
      "application/scrapbook.scrap.json+json": {
       "data": 0.22403414496899504,
       "encoder": "json",
       "name": "ABC-GAN Model 1 MSE",
       "version": 1
      }
     },
     "metadata": {
      "scrapbook": {
       "data": true,
       "display": false,
       "name": "ABC-GAN Model 1 MSE"
      }
     },
     "output_type": "display_data"
    },
    {
     "data": {
      "application/scrapbook.scrap.json+json": {
       "data": 0.35640995490551,
       "encoder": "json",
       "name": "ABC-GAN Model 1 MAE",
       "version": 1
      }
     },
     "metadata": {
      "scrapbook": {
       "data": true,
       "display": false,
       "name": "ABC-GAN Model 1 MAE"
      }
     },
     "output_type": "display_data"
    },
    {
     "data": {
      "application/scrapbook.scrap.json+json": {
       "data": 7.128199098110199,
       "encoder": "json",
       "name": "ABC-GAN Model 1 Manhattan Distance",
       "version": 1
      }
     },
     "metadata": {
      "scrapbook": {
       "data": true,
       "display": false,
       "name": "ABC-GAN Model 1 Manhattan Distance"
      }
     },
     "output_type": "display_data"
    },
    {
     "data": {
      "application/scrapbook.scrap.json+json": {
       "data": 2.1167441627032426,
       "encoder": "json",
       "name": "ABC-GAN Model 1 Euclidean distance",
       "version": 1
      }
     },
     "metadata": {
      "scrapbook": {
       "data": true,
       "display": false,
       "name": "ABC-GAN Model 1 Euclidean distance"
      }
     },
     "output_type": "display_data"
    },
    {
     "data": {
      "application/scrapbook.scrap.json+json": {
       "data": [
        [
         0.2242220010597738,
         0.2229594986842071,
         0.22456581524099578,
         0.2226477540495056,
         0.2265031918711157,
         0.22312576289328243,
         0.2242802515032421,
         0.225072669937129,
         0.22340057387673257,
         0.22385491094274013,
         0.22348692095206468,
         0.2234197804522254,
         0.22289783705521424,
         0.22064711131914388,
         0.2267876442969193,
         0.22739871877854986,
         0.2254946720931737,
         0.225565321180144,
         0.22321490617396722,
         0.22112900438238503,
         0.22426028027799177,
         0.22126503187211938,
         0.22422510479528895,
         0.22530963750466898,
         0.22472198436152624,
         0.2256235652929252,
         0.22357049205567475,
         0.22536098162764287,
         0.2268215750408274,
         0.22385067386823515,
         0.22834431971472338,
         0.22476576799211473,
         0.22284252430739407,
         0.22330779256003414,
         0.2233564678710632,
         0.22116296694191964,
         0.22322764177007737,
         0.2232202819430354,
         0.22619069201775907,
         0.22433832036283094,
         0.22350569229809542,
         0.22260518484237685,
         0.22255160467245724,
         0.22449680571948732,
         0.22526762675972295,
         0.22581694124341795,
         0.22376789616283346,
         0.2214435673990367,
         0.2255901932610961,
         0.2220277260543003,
         0.2276369859414708,
         0.22313160446962993,
         0.22455662832564113,
         0.22508914503894611,
         0.2236220264070107,
         0.2256444329337314,
         0.22290598278941562,
         0.22256028874750897,
         0.22634448237260996,
         0.22370116563834372,
         0.22100826359309828,
         0.21927990084361432,
         0.22606606123460476,
         0.22330309736245502,
         0.22515594923070306,
         0.22266396170127983,
         0.22370490746524524,
         0.22250831404383317,
         0.2224529456753736,
         0.2247674130456049,
         0.22803638922561814,
         0.22436627579569945,
         0.22203514999846957,
         0.2247350697149356,
         0.22768146971218325,
         0.22207478983575107,
         0.22710263622601565,
         0.22500712437127984,
         0.22526457435487904,
         0.22425667773874128,
         0.22426190244078997,
         0.22359785388777836,
         0.22370994871332534,
         0.22776551343979548,
         0.2216229681065578,
         0.22711827111440935,
         0.2207612588061199,
         0.22222254768232325,
         0.2230620152686314,
         0.2245244572911853,
         0.2211314538242175,
         0.22593972705290682,
         0.22637440460170172,
         0.22297547241262067,
         0.22566855236159605,
         0.22041326072816916,
         0.22358574366020134,
         0.22257125118818233,
         0.22384377662867722,
         0.22208671652343198
        ],
        [
         0.356380895152688,
         0.35577703900635244,
         0.3564557757228613,
         0.3545574989169836,
         0.3590765256434679,
         0.35713790319859984,
         0.3561273317784071,
         0.35840180031955243,
         0.356411911174655,
         0.35623067878186704,
         0.3566858250647783,
         0.3565848503261805,
         0.3553631354123354,
         0.3517502751201391,
         0.3552653085440397,
         0.35854840837419033,
         0.35730660445988177,
         0.35800018645823,
         0.35734960325062276,
         0.35407814048230646,
         0.3579109575599432,
         0.3525147680193186,
         0.3554231863468885,
         0.35710590071976184,
         0.35506037138402463,
         0.3566624116152525,
         0.358718641474843,
         0.3577537048608065,
         0.3615581732243299,
         0.35933435820043086,
         0.3615980360656977,
         0.3555780630558729,
         0.35632568709552287,
         0.357939238473773,
         0.3568489979952574,
         0.3554166618734598,
         0.35500563122332096,
         0.3565420713275671,
         0.3575047615915537,
         0.3561225991696119,
         0.3530697453767061,
         0.35460805483162405,
         0.35484933368861676,
         0.35768501944839953,
         0.357610572502017,
         0.3580953527241945,
         0.35796814449131487,
         0.35380036421120165,
         0.35873541198670866,
         0.35446641929447653,
         0.359028110280633,
         0.3537902388721704,
         0.3578285928815603,
         0.35941330827772616,
         0.35699655301868916,
         0.3568564746528864,
         0.355051289126277,
         0.3548257898539305,
         0.35793949402868747,
         0.35655774511396887,
         0.3533460717648268,
         0.3546574544161558,
         0.35726736597716807,
         0.3530767936259508,
         0.35535017736256125,
         0.35481836311519144,
         0.35561811588704584,
         0.35351525284349916,
         0.3558202307671309,
         0.3571794655174017,
         0.3607601191848516,
         0.35615189783275125,
         0.35305000729858876,
         0.35856116451323033,
         0.36050788275897505,
         0.3554911408573389,
         0.3588397156447172,
         0.3597104031592607,
         0.3576479937881231,
         0.35520965941250326,
         0.35458094365894793,
         0.3565821576863527,
         0.3522127974778414,
         0.359654476121068,
         0.3541801515966654,
         0.35994708351790905,
         0.3533406611531973,
         0.3545184422284365,
         0.3547750491648912,
         0.3577078949660063,
         0.35399604253470895,
         0.35826256312429905,
         0.359824251756072,
         0.3564022120088339,
         0.35779799781739713,
         0.3509912181645632,
         0.35537943728268145,
         0.3561841297894716,
         0.35389749296009543,
         0.3565912786871195
        ],
        [
         7.1276179030537605,
         7.1155407801270485,
         7.129115514457226,
         7.091149978339672,
         7.181530512869358,
         7.142758063971996,
         7.122546635568142,
         7.168036006391048,
         7.128238223493099,
         7.1246135756373405,
         7.133716501295567,
         7.131697006523609,
         7.107262708246708,
         7.035005502402782,
         7.1053061708807945,
         7.170968167483807,
         7.146132089197636,
         7.1600037291646,
         7.146992065012455,
         7.08156280964613,
         7.158219151198864,
         7.050295360386372,
         7.108463726937771,
         7.142118014395237,
         7.101207427680492,
         7.13324823230505,
         7.1743728294968605,
         7.155074097216129,
         7.231163464486599,
         7.186687164008617,
         7.231960721313953,
         7.111561261117458,
         7.126513741910458,
         7.15878476947546,
         7.1369799599051476,
         7.108333237469196,
         7.100112624466419,
         7.130841426551342,
         7.150095231831074,
         7.122451983392239,
         7.0613949075341225,
         7.092161096632481,
         7.096986673772335,
         7.153700388967991,
         7.15221145004034,
         7.1619070544838905,
         7.159362889826298,
         7.076007284224033,
         7.174708239734173,
         7.08932838588953,
         7.1805622056126595,
         7.075804777443409,
         7.1565718576312065,
         7.1882661655545235,
         7.139931060373783,
         7.137129493057728,
         7.101025782525539,
         7.0965157970786095,
         7.1587898805737495,
         7.131154902279377,
         7.0669214352965355,
         7.093149088323116,
         7.145347319543362,
         7.061535872519016,
         7.1070035472512245,
         7.096367262303829,
         7.112362317740917,
         7.070305056869984,
         7.116404615342617,
         7.143589310348034,
         7.215202383697033,
         7.1230379566550255,
         7.061000145971775,
         7.1712232902646065,
         7.210157655179501,
         7.109822817146778,
         7.176794312894344,
         7.194208063185215,
         7.152959875762463,
         7.104193188250065,
         7.091618873178959,
         7.131643153727055,
         7.0442559495568275,
         7.19308952242136,
         7.083603031933308,
         7.198941670358181,
         7.066813223063946,
         7.090368844568729,
         7.095500983297825,
         7.154157899320126,
         7.0799208506941795,
         7.165251262485981,
         7.196485035121441,
         7.128044240176678,
         7.155959956347942,
         7.019824363291264,
         7.107588745653629,
         7.1236825957894325,
         7.077949859201908,
         7.13182557374239
        ],
        [
         2.117649645525783,
         2.111679420197143,
         2.1192725886067407,
         2.1102026160987744,
         2.128394662045156,
         2.1124666288170446,
         2.1179246988655764,
         2.1216628852724413,
         2.113767129447956,
         2.1159154564525497,
         2.1141755885075613,
         2.1138579916930342,
         2.1113873972116735,
         2.1007004132866918,
         2.129730707375556,
         2.132598034222811,
         2.1236509698779305,
         2.1239836213122927,
         2.1128885733704332,
         2.1029931259154653,
         2.117830400565597,
         2.103639854500382,
         2.117664301985983,
         2.1227794869211873,
         2.120009360175215,
         2.1242578247139647,
         2.1145708408832027,
         2.1230213452890334,
         2.129890020826556,
         2.115895431576122,
         2.137027466902208,
         2.120215875764139,
         2.111125407489541,
         2.113328145650997,
         2.1135584584821077,
         2.1031546160086263,
         2.11294884826906,
         2.1129140159648494,
         2.126925913226688,
         2.1181988592331504,
         2.114264374661293,
         2.1100008760300404,
         2.109746926398791,
         2.118946935246314,
         2.122581573272146,
         2.1251679521553957,
         2.1155041770832477,
         2.104488381526668,
         2.124100719180219,
         2.107262328493063,
         2.133715004125297,
         2.112494281505301,
         2.1192292387830114,
         2.1217405356873686,
         2.114814537528105,
         2.1243560574147233,
         2.111425976866893,
         2.109788087687998,
         2.127648854358303,
         2.115188718002929,
         2.102418909699484,
         2.0941819445483447,
         2.1263398657533785,
         2.1133059284564317,
         2.1220553679426137,
         2.110279420841135,
         2.115206408203442,
         2.109541722952325,
         2.109279240287419,
         2.120223634646142,
         2.1355860517694816,
         2.1183308324985473,
         2.107297558478487,
         2.120071082369342,
         2.1339234743175926,
         2.1074856575348315,
         2.1312092165060457,
         2.121353927902083,
         2.1225671925989955,
         2.117813389979114,
         2.1178380601018105,
         2.1147002335450686,
         2.1152302414315343,
         2.134317284003461,
         2.105340676026366,
         2.131282576827434,
         2.101243721257103,
         2.1081866505711644,
         2.1121648385892207,
         2.11907742799165,
         2.1030047732909094,
         2.1257456435467854,
         2.1277894848960117,
         2.1117550635081743,
         2.124469591976294,
         2.099586915220083,
         2.1146429658937764,
         2.1098400469617706,
         2.115862834064048,
         2.1075422487980258
        ]
       ],
       "encoder": "json",
       "name": "ABC_GAN_1 Metrics",
       "version": 1
      }
     },
     "metadata": {
      "scrapbook": {
       "data": true,
       "display": false,
       "name": "ABC_GAN_1 Metrics"
      }
     },
     "output_type": "display_data"
    },
    {
     "name": "stdout",
     "output_type": "stream",
     "text": [
      "MSE\n",
      "0.22403414496899504\n"
     ]
    }
   ],
   "source": [
    "ABC_GAN1_metrics=ABC_train_test2.test_generator(gen,test_data,prior_model,variance,bias,\"1\",device)\n",
    "sb.glue(\"ABC_GAN_1 Metrics\",ABC_GAN1_metrics)\n",
    "\n",
    "print(\"MSE\")\n",
    "print(mean(ABC_GAN1_metrics[0]))"
   ]
  },
  {
   "cell_type": "code",
   "execution_count": 14,
   "id": "eb22ce5c",
   "metadata": {
    "execution": {
     "iopub.execute_input": "2022-06-22T11:47:54.837719Z",
     "iopub.status.busy": "2022-06-22T11:47:54.836485Z",
     "iopub.status.idle": "2022-06-22T11:47:55.584037Z",
     "shell.execute_reply": "2022-06-22T11:47:55.584607Z"
    },
    "papermill": {
     "duration": 0.793828,
     "end_time": "2022-06-22T11:47:55.584857",
     "exception": false,
     "start_time": "2022-06-22T11:47:54.791029",
     "status": "completed"
    },
    "tags": []
   },
   "outputs": [
    {
     "data": {
      "image/png": "[encoded data removed]",
      "text/plain": [
       "<Figure size 432x288 with 1 Axes>"
      ]
     },
     "metadata": {
      "needs_background": "light"
     },
     "output_type": "display_data"
    },
    {
     "data": {
      "image/png": "[encoded data removed]",
      "text/plain": [
       "<Figure size 432x288 with 1 Axes>"
      ]
     },
     "metadata": {
      "needs_background": "light"
     },
     "output_type": "display_data"
    },
    {
     "data": {
      "image/png": "[encoded data removed]",
      "text/plain": [
       "<Figure size 432x288 with 1 Axes>"
      ]
     },
     "metadata": {
      "needs_background": "light"
     },
     "output_type": "display_data"
    },
    {
     "data": {
      "image/png": "[encoded data removed]",
      "text/plain": [
       "<Figure size 432x288 with 1 Axes>"
      ]
     },
     "metadata": {
      "needs_background": "light"
     },
     "output_type": "display_data"
    }
   ],
   "source": [
    "sanityChecks.discProbVsError(train_data,disc,device)\n",
    "sanityChecks.discProbVsError(test_data,disc,device)"
   ]
  },
  {
   "cell_type": "markdown",
   "id": "130f3a4d",
   "metadata": {
    "id": "130f3a4d",
    "papermill": {
     "duration": 0.036157,
     "end_time": "2022-06-22T11:47:55.656697",
     "exception": false,
     "start_time": "2022-06-22T11:47:55.620540",
     "status": "completed"
    },
    "tags": []
   },
   "source": [
    "# ABC - GAN Model with skip connection"
   ]
  },
  {
   "cell_type": "code",
   "execution_count": 15,
   "id": "4e43dad1",
   "metadata": {
    "execution": {
     "iopub.execute_input": "2022-06-22T11:47:55.746750Z",
     "iopub.status.busy": "2022-06-22T11:47:55.745904Z",
     "iopub.status.idle": "2022-06-22T11:47:55.748983Z",
     "shell.execute_reply": "2022-06-22T11:47:55.749771Z"
    },
    "id": "4e43dad1",
    "papermill": {
     "duration": 0.055377,
     "end_time": "2022-06-22T11:47:55.749980",
     "exception": false,
     "start_time": "2022-06-22T11:47:55.694603",
     "status": "completed"
    },
    "tags": []
   },
   "outputs": [],
   "source": [
    "#Generator\n",
    "gen3 = network.GeneratorWithSkipConnection(n_features+1).to(device)\n",
    "constraints=network.weightConstraint()\n",
    "#Discriminator \n",
    "disc3 = network.Discriminator(n_features+1).to(device)\n",
    "\n",
    "criterion = torch.nn.BCELoss()\n",
    "gen_opt = torch.optim.Adam(gen3.parameters(), lr=0.001, betas=(0.5, 0.999))\n",
    "disc_opt = torch.optim.Adam(disc3.parameters(), lr=0.001, betas=(0.5, 0.999))\n"
   ]
  },
  {
   "cell_type": "code",
   "execution_count": 16,
   "id": "26acbc37",
   "metadata": {
    "execution": {
     "iopub.execute_input": "2022-06-22T11:47:55.829924Z",
     "iopub.status.busy": "2022-06-22T11:47:55.829214Z",
     "iopub.status.idle": "2022-06-22T11:49:04.687452Z",
     "shell.execute_reply": "2022-06-22T11:49:04.687895Z"
    },
    "id": "26acbc37",
    "papermill": {
     "duration": 68.901274,
     "end_time": "2022-06-22T11:49:04.688165",
     "exception": false,
     "start_time": "2022-06-22T11:47:55.786891",
     "status": "completed"
    },
    "tags": []
   },
   "outputs": [
    {
     "data": {
      "image/png": "[encoded data removed]",
      "text/plain": [
       "<Figure size 432x288 with 1 Axes>"
      ]
     },
     "metadata": {
      "needs_background": "light"
     },
     "output_type": "display_data"
    },
    {
     "data": {
      "image/png": "[encoded data removed]",
      "text/plain": [
       "<Figure size 432x288 with 1 Axes>"
      ]
     },
     "metadata": {
      "needs_background": "light"
     },
     "output_type": "display_data"
    }
   ],
   "source": [
    "ABC_train_test2.training_GAN_skip_connection(disc3,gen3,disc_opt,gen_opt,train_data,batch_size,n_epochs,criterion,prior_model,variance,bias,device)"
   ]
  },
  {
   "cell_type": "code",
   "execution_count": 17,
   "id": "c5e0717b",
   "metadata": {
    "execution": {
     "iopub.execute_input": "2022-06-22T11:49:04.794590Z",
     "iopub.status.busy": "2022-06-22T11:49:04.793289Z",
     "iopub.status.idle": "2022-06-22T11:49:05.557805Z",
     "shell.execute_reply": "2022-06-22T11:49:05.558301Z"
    },
    "id": "c5e0717b",
    "papermill": {
     "duration": 0.832527,
     "end_time": "2022-06-22T11:49:05.558514",
     "exception": false,
     "start_time": "2022-06-22T11:49:04.725987",
     "status": "completed"
    },
    "tags": []
   },
   "outputs": [
    {
     "data": {
      "application/scrapbook.scrap.json+json": {
       "data": 0.22052706630528598,
       "encoder": "json",
       "name": "ABC-GAN Model 3 MSE",
       "version": 1
      }
     },
     "metadata": {
      "scrapbook": {
       "data": true,
       "display": false,
       "name": "ABC-GAN Model 3 MSE"
      }
     },
     "output_type": "display_data"
    },
    {
     "data": {
      "application/scrapbook.scrap.json+json": {
       "data": 0.3906931677088141,
       "encoder": "json",
       "name": "ABC-GAN Model 3 MAE",
       "version": 1
      }
     },
     "metadata": {
      "scrapbook": {
       "data": true,
       "display": false,
       "name": "ABC-GAN Model 3 MAE"
      }
     },
     "output_type": "display_data"
    },
    {
     "data": {
      "application/scrapbook.scrap.json+json": {
       "data": 7.8138633541762825,
       "encoder": "json",
       "name": "ABC-GAN Model 3 Manhattan Distance",
       "version": 1
      }
     },
     "metadata": {
      "scrapbook": {
       "data": true,
       "display": false,
       "name": "ABC-GAN Model 3 Manhattan Distance"
      }
     },
     "output_type": "display_data"
    },
    {
     "data": {
      "application/scrapbook.scrap.json+json": {
       "data": 2.1000987703090144,
       "encoder": "json",
       "name": "ABC-GAN Model 3 Euclidean distance",
       "version": 1
      }
     },
     "metadata": {
      "scrapbook": {
       "data": true,
       "display": false,
       "name": "ABC-GAN Model 3 Euclidean distance"
      }
     },
     "output_type": "display_data"
    },
    {
     "data": {
      "application/scrapbook.scrap.json+json": {
       "data": [
        [
         0.22027454848534864,
         0.2196926073322501,
         0.21748577318099344,
         0.2185104356061045,
         0.218424982565769,
         0.2207462356351484,
         0.2222525702609876,
         0.22054487606091028,
         0.22270836731342114,
         0.22510199346253995,
         0.22245034508908948,
         0.21926364279913915,
         0.2193330711738947,
         0.21894231861642247,
         0.21809413996463048,
         0.21672494200098033,
         0.22044201103236025,
         0.22135132593639822,
         0.21899434721503375,
         0.2180005791985758,
         0.2199614367219953,
         0.2167338287181587,
         0.22263509526300415,
         0.2197443886269291,
         0.21670986089855027,
         0.2199418020721075,
         0.21705962042700983,
         0.22028103580042346,
         0.21778711807901954,
         0.22381331944640462,
         0.2246942583613353,
         0.22057232252300513,
         0.2190092125272111,
         0.21920453200122147,
         0.2219410901431173,
         0.22067962703890553,
         0.2230709067805797,
         0.2226523901342857,
         0.21802423072007254,
         0.22380540687388445,
         0.22139145013023534,
         0.22044454833282107,
         0.22235673059989258,
         0.22118378974703395,
         0.21810918712762314,
         0.2259726347573588,
         0.2181489191781692,
         0.22187462264222627,
         0.2215655943599099,
         0.22059657386133624,
         0.22020504015597853,
         0.22079346512566103,
         0.21934520316953798,
         0.22142582117883963,
         0.22053705954620512,
         0.21746978279915385,
         0.21999116331583185,
         0.22332359165463989,
         0.21961688930430895,
         0.22373299928720497,
         0.2197618958461295,
         0.22076682371811165,
         0.2181488742466502,
         0.2177745694065584,
         0.22016444827721382,
         0.22368790535920283,
         0.22213424682010136,
         0.22104535962189206,
         0.2246338199047532,
         0.2214370307096854,
         0.22051330860524124,
         0.21557830405092698,
         0.21641817870509525,
         0.22569394988722621,
         0.22459853645069322,
         0.22524849619937423,
         0.21941904163336315,
         0.2208109200583924,
         0.22212464569284954,
         0.22142071398001795,
         0.22216133934038834,
         0.2155846536959206,
         0.220855746017982,
         0.21838562899236855,
         0.22462492006205106,
         0.22475013838385016,
         0.21874562721390373,
         0.2203153842720147,
         0.2198524066196303,
         0.22016981928573234,
         0.21920119915224068,
         0.21807077345815035,
         0.21971420901906993,
         0.2176035153908072,
         0.2187178361713582,
         0.21846378389430038,
         0.22552819773816926,
         0.2210500812533823,
         0.220850857426731,
         0.220933781605882
        ],
        [
         0.3893772106617689,
         0.39119270332157613,
         0.38988731764256956,
         0.3872959826141596,
         0.39147840701043607,
         0.39128681235015395,
         0.3912421029061079,
         0.3908200811594725,
         0.3906345721334219,
         0.3969216596335173,
         0.3928827341645956,
         0.3898994255810976,
         0.3884460609406233,
         0.3897651296108961,
         0.38619609288871287,
         0.3870197754353285,
         0.39036740846931933,
         0.39120637364685534,
         0.38704893328249457,
         0.3879569943994284,
         0.3895068299025297,
         0.3869067024439573,
         0.39283880703151225,
         0.3906717266887426,
         0.38656724952161314,
         0.3901652622967958,
         0.3898318599909544,
         0.38927289806306364,
         0.3890397664159536,
         0.392065354809165,
         0.39216611795127393,
         0.3909478660672903,
         0.3891657467931509,
         0.39025654159486295,
         0.3930318128317595,
         0.3901398565620184,
         0.39291711933910844,
         0.3943543303757906,
         0.3857173044234514,
         0.39258800633251667,
         0.3912413019686937,
         0.39188410677015784,
         0.3919975716620684,
         0.39135310910642146,
         0.3889535706490278,
         0.3966925974935293,
         0.3866125468164682,
         0.393842888250947,
         0.3909098569303751,
         0.39271022416651247,
         0.3895091723650694,
         0.3892987947911024,
         0.3904744919389486,
         0.3936447512358427,
         0.3912799250334501,
         0.38793063126504423,
         0.38911723531782627,
         0.3919069733470678,
         0.390832906588912,
         0.3935764294117689,
         0.3908069353550673,
         0.38986881338059903,
         0.38646217696368695,
         0.38806488625705243,
         0.39086079262197015,
         0.3938556607812643,
         0.3931189190596342,
         0.3915499817579985,
         0.3965452205389738,
         0.39009471498429776,
         0.3906681951135397,
         0.3845198225229979,
         0.3866707619279623,
         0.39742020331323147,
         0.3957350578159094,
         0.3948417093604803,
         0.3881484318524599,
         0.3879183705896139,
         0.39343470595777036,
         0.3939947385340929,
         0.39143641106784344,
         0.3876112889498472,
         0.3931727107614279,
         0.3876268815249205,
         0.3930777754634619,
         0.39388226009905336,
         0.3903949227184057,
         0.3902045514434576,
         0.39088356457650664,
         0.39085666425526144,
         0.38857572339475155,
         0.3894790608435869,
         0.3877261716872454,
         0.38849002234637736,
         0.38854968510568144,
         0.3901705604046583,
         0.3968384314328432,
         0.3896085862070322,
         0.3925502594560385,
         0.39075511805713176
        ],
        [
         7.787544213235378,
         7.823854066431522,
         7.797746352851391,
         7.745919652283192,
         7.829568140208721,
         7.8257362470030785,
         7.824842058122158,
         7.816401623189449,
         7.812691442668438,
         7.938433192670345,
         7.857654683291912,
         7.797988511621952,
         7.768921218812466,
         7.795302592217922,
         7.723921857774258,
         7.74039550870657,
         7.807348169386387,
         7.824127472937107,
         7.740978665649891,
         7.759139887988567,
         7.790136598050594,
         7.738134048879147,
         7.856776140630245,
         7.813434533774853,
         7.731344990432262,
         7.803305245935917,
         7.796637199819088,
         7.785457961261272,
         7.780795328319073,
         7.8413070961833,
         7.843322359025478,
         7.818957321345806,
         7.783314935863018,
         7.805130831897259,
         7.860636256635189,
         7.802797131240368,
         7.858342386782169,
         7.887086607515812,
         7.7143460884690285,
         7.851760126650333,
         7.824826039373875,
         7.837682135403156,
         7.839951433241367,
         7.827062182128429,
         7.7790714129805565,
         7.933851949870586,
         7.732250936329365,
         7.87685776501894,
         7.818197138607502,
         7.85420448333025,
         7.790183447301388,
         7.785975895822048,
         7.809489838778973,
         7.872895024716854,
         7.8255985006690025,
         7.758612625300884,
         7.782344706356525,
         7.838139466941357,
         7.81665813177824,
         7.871528588235378,
         7.816138707101345,
         7.79737626761198,
         7.729243539273739,
         7.761297725141048,
         7.8172158524394035,
         7.877113215625286,
         7.862378381192684,
         7.830999635159969,
         7.930904410779476,
         7.801894299685955,
         7.813363902270794,
         7.690396450459957,
         7.733415238559246,
         7.948404066264629,
         7.914701156318188,
         7.896834187209606,
         7.762968637049198,
         7.758367411792278,
         7.868694119155407,
         7.879894770681858,
         7.828728221356869,
         7.752225778996944,
         7.863454215228558,
         7.752537630498409,
         7.8615555092692375,
         7.877645201981068,
         7.8078984543681145,
         7.804091028869152,
         7.817671291530132,
         7.817133285105228,
         7.771514467895031,
         7.789581216871738,
         7.754523433744907,
         7.7698004469275475,
         7.770993702113628,
         7.803411208093166,
         7.936768628656864,
         7.792171724140644,
         7.8510051891207695,
         7.815102361142635
        ],
        [
         2.0989261467967313,
         2.0961517470462394,
         2.085597147969825,
         2.090504415714564,
         2.0900956081757074,
         2.101172223475022,
         2.108329055251991,
         2.100213684656446,
         2.1104898356231008,
         2.121801090877936,
         2.109266910986324,
         2.0941043087637214,
         2.094435824626263,
         2.0925693231834517,
         2.0885121017826567,
         2.0819459262957833,
         2.099723843901194,
         2.1040500276200573,
         2.09281794341999,
         2.088064075638369,
         2.097433845068756,
         2.081988610526766,
         2.1101426267577468,
         2.0963987627688065,
         2.081873487503745,
         2.0973402302540594,
         2.083552833153073,
         2.098957054350677,
         2.0870415332667416,
         2.1157188823017323,
         2.11987857369867,
         2.100344364731675,
         2.0928889723404396,
         2.093822017274732,
         2.1068511582127356,
         2.1008551927198864,
         2.112206934846014,
         2.110224585840501,
         2.0881773426606878,
         2.1156814829925814,
         2.104240718787826,
         2.0997359278386463,
         2.1088230395170315,
         2.1032536211642854,
         2.0885841478265754,
         2.1259004433762123,
         2.088774373541428,
         2.10653565192819,
         2.105068143124635,
         2.1004598251875053,
         2.098594959280988,
         2.1013969883183,
         2.0944937487113107,
         2.10440405425783,
         2.1001764666151512,
         2.0855204760402324,
         2.0975755686784296,
         2.113402903634988,
         2.0957904919352455,
         2.115339212926404,
         2.096482272026785,
         2.101270204986078,
         2.0887741584319266,
         2.0869814057943037,
         2.0984015262919242,
         2.1151260263123937,
         2.10776776149604,
         2.1025953468125627,
         2.1195934511351613,
         2.104457320592106,
         2.1000633733544385,
         2.0764310922875673,
         2.0804719594606182,
         2.124589136220113,
         2.1194269812885427,
         2.122491442618199,
         2.094846255138372,
         2.101480050147478,
         2.107722209840991,
         2.10437978501989,
         2.107896294130185,
         2.0764616716709248,
         2.101693345937899,
         2.089907313697756,
         2.119551462277107,
         2.120142157421762,
         2.091629160314532,
         2.099120693395283,
         2.096913954456073,
         2.098427121849755,
         2.0938060996770482,
         2.0884002176697374,
         2.096254798535092,
         2.0861616207322347,
         2.091496288169588,
         2.09028124372918,
         2.123808831972262,
         2.1026178028989593,
         2.1016700855592485,
         2.102064611784719
        ]
       ],
       "encoder": "json",
       "name": "ABC_GAN_3 Metrics",
       "version": 1
      }
     },
     "metadata": {
      "scrapbook": {
       "data": true,
       "display": false,
       "name": "ABC_GAN_3 Metrics"
      }
     },
     "output_type": "display_data"
    },
    {
     "name": "stdout",
     "output_type": "stream",
     "text": [
      "MSE\n",
      "0.22052706630528598\n"
     ]
    }
   ],
   "source": [
    "ABC_GAN3_metrics=ABC_train_test2.test_generator(gen3,test_data,prior_model,variance,bias,\"3\",device)\n",
    "sb.glue(\"ABC_GAN_3 Metrics\",ABC_GAN3_metrics)\n",
    "\n",
    "print(\"MSE\")\n",
    "print(mean(ABC_GAN3_metrics[0]))"
   ]
  },
  {
   "cell_type": "code",
   "execution_count": 18,
   "id": "c8e46b48",
   "metadata": {
    "execution": {
     "iopub.execute_input": "2022-06-22T11:49:05.655809Z",
     "iopub.status.busy": "2022-06-22T11:49:05.655085Z",
     "iopub.status.idle": "2022-06-22T11:49:06.319269Z",
     "shell.execute_reply": "2022-06-22T11:49:06.319799Z"
    },
    "id": "c8e46b48",
    "papermill": {
     "duration": 0.721551,
     "end_time": "2022-06-22T11:49:06.320037",
     "exception": false,
     "start_time": "2022-06-22T11:49:05.598486",
     "status": "completed"
    },
    "tags": []
   },
   "outputs": [
    {
     "data": {
      "image/png": "[encoded data removed]",
      "text/plain": [
       "<Figure size 432x288 with 1 Axes>"
      ]
     },
     "metadata": {
      "needs_background": "light"
     },
     "output_type": "display_data"
    },
    {
     "data": {
      "image/png": "[encoded data removed]",
      "text/plain": [
       "<Figure size 432x288 with 1 Axes>"
      ]
     },
     "metadata": {
      "needs_background": "light"
     },
     "output_type": "display_data"
    },
    {
     "data": {
      "image/png": "[encoded data removed]",
      "text/plain": [
       "<Figure size 432x288 with 1 Axes>"
      ]
     },
     "metadata": {
      "needs_background": "light"
     },
     "output_type": "display_data"
    },
    {
     "data": {
      "image/png": "[encoded data removed]",
      "text/plain": [
       "<Figure size 432x288 with 1 Axes>"
      ]
     },
     "metadata": {
      "needs_background": "light"
     },
     "output_type": "display_data"
    }
   ],
   "source": [
    "sanityChecks.discProbVsError(train_data,disc3,device)\n",
    "sanityChecks.discProbVsError(test_data,disc3,device)"
   ]
  },
  {
   "cell_type": "markdown",
   "id": "a5bd74c3",
   "metadata": {
    "id": "a5bd74c3",
    "papermill": {
     "duration": 0.079451,
     "end_time": "2022-06-22T11:49:06.447602",
     "exception": false,
     "start_time": "2022-06-22T11:49:06.368151",
     "status": "completed"
    },
    "tags": []
   },
   "source": [
    "## Skip Connection Model Analysis - ABC-GAN "
   ]
  },
  {
   "cell_type": "markdown",
   "id": "5744a8bf",
   "metadata": {
    "id": "5744a8bf",
    "papermill": {
     "duration": 0.075145,
     "end_time": "2022-06-22T11:49:06.656878",
     "exception": false,
     "start_time": "2022-06-22T11:49:06.581733",
     "status": "completed"
    },
    "tags": []
   },
   "source": [
    "### Weight Analysis \n",
    "\n",
    "Study the weights of the skip connection layer\n",
    "\n",
    "Equation of the skip connection is \n",
    "\n",
    "$output = y_{gan} * w + y_{abc} * (1-w)$"
   ]
  },
  {
   "cell_type": "code",
   "execution_count": 19,
   "id": "52c31dea",
   "metadata": {
    "execution": {
     "iopub.execute_input": "2022-06-22T11:49:06.767520Z",
     "iopub.status.busy": "2022-06-22T11:49:06.766704Z",
     "iopub.status.idle": "2022-06-22T11:49:06.774379Z",
     "shell.execute_reply": "2022-06-22T11:49:06.773858Z"
    },
    "id": "52c31dea",
    "papermill": {
     "duration": 0.067537,
     "end_time": "2022-06-22T11:49:06.774563",
     "exception": false,
     "start_time": "2022-06-22T11:49:06.707026",
     "status": "completed"
    },
    "tags": []
   },
   "outputs": [
    {
     "name": "stdout",
     "output_type": "stream",
     "text": [
      "Weight of the node at skip connection\n",
      "Parameter containing:\n",
      "tensor([[0.0746]], requires_grad=True)\n"
     ]
    },
    {
     "data": {
      "application/scrapbook.scrap.json+json": {
       "data": 0.07461047172546387,
       "encoder": "json",
       "name": "Skip Connection Weight",
       "version": 1
      }
     },
     "metadata": {
      "scrapbook": {
       "data": true,
       "display": false,
       "name": "Skip Connection Weight"
      }
     },
     "output_type": "display_data"
    }
   ],
   "source": [
    "print(\"Weight of the node at skip connection\")\n",
    "for name,param in gen3.named_parameters():\n",
    "    if(name == \"skipNode.weight\"):\n",
    "        print(param)\n",
    "        sb.glue(\"Skip Connection Weight\",param.item())"
   ]
  }
 ],
 "metadata": {
  "colab": {
   "collapsed_sections": [],
   "name": "ABC_GAN_Model-Catboost_Pre-gen.ipynb",
   "provenance": []
  },
  "interpreter": {
   "hash": "31f2aee4e71d21fbe5cf8b01ff0e069b9275f58929596ceb00d14d90e3e16cd6"
  },
  "kernelspec": {
   "display_name": "Python 3 (ipykernel)",
   "language": "python",
   "name": "python3"
  },
  "language_info": {
   "codemirror_mode": {
    "name": "ipython",
    "version": 3
   },
   "file_extension": ".py",
   "mimetype": "text/x-python",
   "name": "python",
   "nbconvert_exporter": "python",
   "pygments_lexer": "ipython3",
   "version": "3.8.3"
  },
  "papermill": {
   "default_parameters": {},
   "duration": 162.599935,
   "end_time": "2022-06-22T11:49:08.278081",
   "environment_variables": {},
   "exception": null,
   "input_path": "ABC_GAN-TabNet.ipynb",
   "output_path": "./ABC_GAN_TabNet/ABC-GAN_output_1_8.ipynb",
   "parameters": {
    "bias": 0.01,
    "variance": 0.01
   },
   "start_time": "2022-06-22T11:46:25.678146",
   "version": "2.3.3"
  }
 },
 "nbformat": 4,
 "nbformat_minor": 5
}