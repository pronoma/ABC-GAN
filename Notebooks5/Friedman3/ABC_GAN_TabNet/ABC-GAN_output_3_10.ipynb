{
 "cells": [
  {
   "cell_type": "markdown",
   "id": "622780e6",
   "metadata": {
    "id": "622780e6",
    "papermill": {
     "duration": 0.017075,
     "end_time": "2022-06-22T12:48:57.622357",
     "exception": false,
     "start_time": "2022-06-22T12:48:57.605282",
     "status": "completed"
    },
    "tags": []
   },
   "source": [
    "## Import Libraries "
   ]
  },
  {
   "cell_type": "code",
   "execution_count": 1,
   "id": "a62397e3",
   "metadata": {
    "execution": {
     "iopub.execute_input": "2022-06-22T12:48:57.735054Z",
     "iopub.status.busy": "2022-06-22T12:48:57.723567Z",
     "iopub.status.idle": "2022-06-22T12:48:57.739103Z",
     "shell.execute_reply": "2022-06-22T12:48:57.732772Z"
    },
    "id": "a62397e3",
    "papermill": {
     "duration": 0.07451,
     "end_time": "2022-06-22T12:48:57.739502",
     "exception": false,
     "start_time": "2022-06-22T12:48:57.664992",
     "status": "completed"
    },
    "tags": []
   },
   "outputs": [],
   "source": [
    "import warnings\n",
    "import sys\n",
    "sys.path.insert(0, '../../src')\n",
    "warnings.filterwarnings('ignore')"
   ]
  },
  {
   "cell_type": "code",
   "execution_count": 2,
   "id": "d6a4e155",
   "metadata": {
    "execution": {
     "iopub.execute_input": "2022-06-22T12:48:57.919894Z",
     "iopub.status.busy": "2022-06-22T12:48:57.913242Z",
     "iopub.status.idle": "2022-06-22T12:49:04.849213Z",
     "shell.execute_reply": "2022-06-22T12:49:04.849805Z"
    },
    "id": "d6a4e155",
    "papermill": {
     "duration": 7.040606,
     "end_time": "2022-06-22T12:49:04.850077",
     "exception": false,
     "start_time": "2022-06-22T12:48:57.809471",
     "status": "completed"
    },
    "tags": []
   },
   "outputs": [],
   "source": [
    "import ABC_train_test2\n",
    "import friedman3Dataset\n",
    "import network\n",
    "import dataset\n",
    "import sanityChecks\n",
    "import torch \n",
    "import scrapbook as sb\n",
    "from statistics import mean \n",
    "import catboost as ctb \n",
    "from sklearn.model_selection import train_test_split\n",
    "from sklearn.metrics import mean_squared_error,mean_absolute_error\n",
    "import numpy as np\n",
    "from pytorch_tabnet.tab_model import TabNetRegressor"
   ]
  },
  {
   "cell_type": "markdown",
   "id": "2fa5b0f7",
   "metadata": {
    "id": "2fa5b0f7",
    "papermill": {
     "duration": 0.021911,
     "end_time": "2022-06-22T12:49:04.889850",
     "exception": false,
     "start_time": "2022-06-22T12:49:04.867939",
     "status": "completed"
    },
    "tags": []
   },
   "source": [
    "## Parameters "
   ]
  },
  {
   "cell_type": "code",
   "execution_count": 3,
   "id": "783186fb",
   "metadata": {
    "execution": {
     "iopub.execute_input": "2022-06-22T12:49:04.933039Z",
     "iopub.status.busy": "2022-06-22T12:49:04.932059Z",
     "iopub.status.idle": "2022-06-22T12:49:04.934194Z",
     "shell.execute_reply": "2022-06-22T12:49:04.934941Z"
    },
    "id": "783186fb",
    "papermill": {
     "duration": 0.02608,
     "end_time": "2022-06-22T12:49:04.935167",
     "exception": false,
     "start_time": "2022-06-22T12:49:04.909087",
     "status": "completed"
    },
    "tags": [
     "parameters"
    ]
   },
   "outputs": [],
   "source": [
    "variance = 1\n",
    "bias = 1 "
   ]
  },
  {
   "cell_type": "code",
   "execution_count": 4,
   "id": "3d96fed9",
   "metadata": {
    "execution": {
     "iopub.execute_input": "2022-06-22T12:49:04.968958Z",
     "iopub.status.busy": "2022-06-22T12:49:04.968040Z",
     "iopub.status.idle": "2022-06-22T12:49:04.970325Z",
     "shell.execute_reply": "2022-06-22T12:49:04.970763Z"
    },
    "papermill": {
     "duration": 0.020479,
     "end_time": "2022-06-22T12:49:04.970974",
     "exception": false,
     "start_time": "2022-06-22T12:49:04.950495",
     "status": "completed"
    },
    "tags": [
     "injected-parameters"
    ]
   },
   "outputs": [],
   "source": [
    "# Parameters\n",
    "variance = 0.1\n",
    "bias = 0\n"
   ]
  },
  {
   "cell_type": "markdown",
   "id": "391cdbfd",
   "metadata": {
    "id": "391cdbfd",
    "papermill": {
     "duration": 0.021851,
     "end_time": "2022-06-22T12:49:05.008358",
     "exception": false,
     "start_time": "2022-06-22T12:49:04.986507",
     "status": "completed"
    },
    "tags": []
   },
   "source": [
    "## Dataset \n"
   ]
  },
  {
   "cell_type": "code",
   "execution_count": 5,
   "id": "5b51f161",
   "metadata": {
    "execution": {
     "iopub.execute_input": "2022-06-22T12:49:05.046394Z",
     "iopub.status.busy": "2022-06-22T12:49:05.045004Z",
     "iopub.status.idle": "2022-06-22T12:49:05.047324Z",
     "shell.execute_reply": "2022-06-22T12:49:05.047827Z"
    },
    "id": "5b51f161",
    "papermill": {
     "duration": 0.022109,
     "end_time": "2022-06-22T12:49:05.048050",
     "exception": false,
     "start_time": "2022-06-22T12:49:05.025941",
     "status": "completed"
    },
    "tags": []
   },
   "outputs": [],
   "source": [
    "#Parameters \n",
    "n_features = 4\n",
    "n_samples= 100\n",
    "n_target = 1"
   ]
  },
  {
   "cell_type": "code",
   "execution_count": 6,
   "id": "5d6eced4",
   "metadata": {
    "execution": {
     "iopub.execute_input": "2022-06-22T12:49:05.082550Z",
     "iopub.status.busy": "2022-06-22T12:49:05.078625Z",
     "iopub.status.idle": "2022-06-22T12:49:05.094944Z",
     "shell.execute_reply": "2022-06-22T12:49:05.095514Z"
    },
    "id": "5d6eced4",
    "papermill": {
     "duration": 0.032658,
     "end_time": "2022-06-22T12:49:05.095837",
     "exception": false,
     "start_time": "2022-06-22T12:49:05.063179",
     "status": "completed"
    },
    "tags": []
   },
   "outputs": [
    {
     "name": "stdout",
     "output_type": "stream",
     "text": [
      "          X1           X2        X3         X4         Y\n",
      "0  44.248626  1675.315341  0.137129  10.121336  1.399375\n",
      "1  49.361651   848.837301  0.774638  10.434093  1.546633\n",
      "2  71.051510  1416.285368  0.334184   3.367394  1.284558\n",
      "3  14.441231   848.168414  0.723825   8.483418  1.423864\n",
      "4  71.199151   759.846113  0.736910   7.804699  1.369276\n"
     ]
    }
   ],
   "source": [
    "X,Y = friedman3Dataset.friedman3_data(n_samples)"
   ]
  },
  {
   "cell_type": "code",
   "execution_count": 7,
   "id": "fe007438",
   "metadata": {
    "execution": {
     "iopub.execute_input": "2022-06-22T12:49:05.140287Z",
     "iopub.status.busy": "2022-06-22T12:49:05.139394Z",
     "iopub.status.idle": "2022-06-22T12:49:05.142662Z",
     "shell.execute_reply": "2022-06-22T12:49:05.142105Z"
    },
    "id": "fe007438",
    "papermill": {
     "duration": 0.03086,
     "end_time": "2022-06-22T12:49:05.142878",
     "exception": false,
     "start_time": "2022-06-22T12:49:05.112018",
     "status": "completed"
    },
    "tags": []
   },
   "outputs": [],
   "source": [
    "#Train test split for dataset \n",
    "X_train,X_test,Y_train,Y_test = train_test_split(X,Y,test_size = 0.2)\n",
    "train_data = dataset.CustomDataset(X_train,Y_train)\n",
    "test_data = dataset.CustomDataset(X_test,Y_test)\n"
   ]
  },
  {
   "cell_type": "markdown",
   "id": "a9a1af34",
   "metadata": {
    "id": "a9a1af34",
    "papermill": {
     "duration": 0.016521,
     "end_time": "2022-06-22T12:49:05.177081",
     "exception": false,
     "start_time": "2022-06-22T12:49:05.160560",
     "status": "completed"
    },
    "tags": []
   },
   "source": [
    "## Training Parameters "
   ]
  },
  {
   "cell_type": "code",
   "execution_count": 8,
   "id": "952b7fc8",
   "metadata": {
    "execution": {
     "iopub.execute_input": "2022-06-22T12:49:05.209214Z",
     "iopub.status.busy": "2022-06-22T12:49:05.208525Z",
     "iopub.status.idle": "2022-06-22T12:49:05.210865Z",
     "shell.execute_reply": "2022-06-22T12:49:05.211297Z"
    },
    "id": "952b7fc8",
    "papermill": {
     "duration": 0.020004,
     "end_time": "2022-06-22T12:49:05.211559",
     "exception": false,
     "start_time": "2022-06-22T12:49:05.191555",
     "status": "completed"
    },
    "tags": []
   },
   "outputs": [],
   "source": [
    "batch_size = 32\n",
    "n_epochs = 1000\n",
    "#Select the device \n",
    "device = torch.device('cuda' if torch.cuda.is_available() else 'cpu')"
   ]
  },
  {
   "cell_type": "markdown",
   "id": "a95e1600",
   "metadata": {
    "id": "a95e1600",
    "papermill": {
     "duration": 0.015888,
     "end_time": "2022-06-22T12:49:05.241458",
     "exception": false,
     "start_time": "2022-06-22T12:49:05.225570",
     "status": "completed"
    },
    "tags": []
   },
   "source": [
    "# ABC Pre-generator Model \n",
    "\n",
    "1. The catboost model is used as a pre-generator model for the ABC-GAN. \n",
    "2. The model is first trained on the entire dataset \n",
    "3. It generats X,Y pairs and we add some Gaussian noise with mean 0 and variance 1 to it which is then feed as input to the generator.\n"
   ]
  },
  {
   "cell_type": "code",
   "execution_count": 9,
   "id": "ff8ce7bd",
   "metadata": {
    "execution": {
     "iopub.execute_input": "2022-06-22T12:49:05.284673Z",
     "iopub.status.busy": "2022-06-22T12:49:05.283668Z",
     "iopub.status.idle": "2022-06-22T12:49:19.873072Z",
     "shell.execute_reply": "2022-06-22T12:49:19.874063Z"
    },
    "id": "ff8ce7bd",
    "papermill": {
     "duration": 14.613361,
     "end_time": "2022-06-22T12:49:19.874295",
     "exception": false,
     "start_time": "2022-06-22T12:49:05.260934",
     "status": "completed"
    },
    "tags": []
   },
   "outputs": [
    {
     "name": "stdout",
     "output_type": "stream",
     "text": [
      "Device used : cpu\n"
     ]
    },
    {
     "name": "stdout",
     "output_type": "stream",
     "text": [
      "epoch 0  | loss: 1.25375 | train_mse: 3.16269 | train_mae: 1.3893  |  0:00:00s\n",
      "epoch 1  | loss: 0.96209 | train_mse: 3.0965  | train_mae: 1.32908 |  0:00:00s\n",
      "epoch 2  | loss: 0.81464 | train_mse: 2.61535 | train_mae: 1.16081 |  0:00:00s\n"
     ]
    },
    {
     "name": "stdout",
     "output_type": "stream",
     "text": [
      "epoch 3  | loss: 0.71796 | train_mse: 1.99783 | train_mae: 1.01498 |  0:00:00s\n",
      "epoch 4  | loss: 0.69977 | train_mse: 1.42998 | train_mae: 0.87161 |  0:00:00s\n",
      "epoch 5  | loss: 0.77036 | train_mse: 1.41862 | train_mae: 0.8679  |  0:00:00s\n",
      "epoch 6  | loss: 0.75111 | train_mse: 1.32012 | train_mae: 0.85197 |  0:00:00s\n"
     ]
    },
    {
     "name": "stdout",
     "output_type": "stream",
     "text": [
      "epoch 7  | loss: 0.49294 | train_mse: 1.07176 | train_mae: 0.7621  |  0:00:00s\n",
      "epoch 8  | loss: 0.5378  | train_mse: 1.18931 | train_mae: 0.76031 |  0:00:00s\n",
      "epoch 9  | loss: 0.47742 | train_mse: 1.44924 | train_mae: 0.82749 |  0:00:00s\n",
      "epoch 10 | loss: 0.52799 | train_mse: 1.53427 | train_mae: 0.80567 |  0:00:00s\n"
     ]
    },
    {
     "name": "stdout",
     "output_type": "stream",
     "text": [
      "epoch 11 | loss: 0.57183 | train_mse: 1.20852 | train_mae: 0.74812 |  0:00:01s\n",
      "epoch 12 | loss: 0.4637  | train_mse: 1.10388 | train_mae: 0.75144 |  0:00:01s\n",
      "epoch 13 | loss: 0.36383 | train_mse: 1.01124 | train_mae: 0.72712 |  0:00:01s\n"
     ]
    },
    {
     "name": "stdout",
     "output_type": "stream",
     "text": [
      "epoch 14 | loss: 0.44667 | train_mse: 1.16247 | train_mae: 0.76548 |  0:00:01s\n",
      "epoch 15 | loss: 0.46992 | train_mse: 1.01008 | train_mae: 0.72034 |  0:00:01s\n",
      "epoch 16 | loss: 0.41421 | train_mse: 0.79671 | train_mae: 0.62682 |  0:00:01s\n"
     ]
    },
    {
     "name": "stdout",
     "output_type": "stream",
     "text": [
      "epoch 17 | loss: 0.37963 | train_mse: 0.72109 | train_mae: 0.59555 |  0:00:01s\n",
      "epoch 18 | loss: 0.27938 | train_mse: 0.59305 | train_mae: 0.54647 |  0:00:01s\n",
      "epoch 19 | loss: 0.20363 | train_mse: 0.60806 | train_mae: 0.50976 |  0:00:01s\n"
     ]
    },
    {
     "name": "stdout",
     "output_type": "stream",
     "text": [
      "epoch 20 | loss: 0.31293 | train_mse: 0.42605 | train_mae: 0.43525 |  0:00:01s\n",
      "epoch 21 | loss: 0.4666  | train_mse: 0.22475 | train_mae: 0.33349 |  0:00:01s\n",
      "epoch 22 | loss: 0.44857 | train_mse: 0.27058 | train_mae: 0.3622  |  0:00:01s\n",
      "epoch 23 | loss: 0.53369 | train_mse: 0.29139 | train_mae: 0.4026  |  0:00:01s\n"
     ]
    },
    {
     "name": "stdout",
     "output_type": "stream",
     "text": [
      "epoch 24 | loss: 0.38399 | train_mse: 0.32188 | train_mae: 0.42529 |  0:00:01s\n",
      "epoch 25 | loss: 0.36538 | train_mse: 0.39112 | train_mae: 0.47048 |  0:00:02s\n",
      "epoch 26 | loss: 0.28688 | train_mse: 0.43446 | train_mae: 0.50138 |  0:00:02s\n",
      "epoch 27 | loss: 0.31357 | train_mse: 0.4902  | train_mae: 0.52506 |  0:00:02s\n"
     ]
    },
    {
     "name": "stdout",
     "output_type": "stream",
     "text": [
      "epoch 28 | loss: 0.21455 | train_mse: 0.33723 | train_mae: 0.45964 |  0:00:02s\n",
      "epoch 29 | loss: 0.36754 | train_mse: 0.26275 | train_mae: 0.40679 |  0:00:02s\n",
      "epoch 30 | loss: 0.26445 | train_mse: 0.26478 | train_mae: 0.39583 |  0:00:02s\n"
     ]
    },
    {
     "name": "stdout",
     "output_type": "stream",
     "text": [
      "epoch 31 | loss: 0.3775  | train_mse: 0.30844 | train_mae: 0.43095 |  0:00:02s\n",
      "epoch 32 | loss: 0.33195 | train_mse: 0.30981 | train_mae: 0.42651 |  0:00:02s\n",
      "epoch 33 | loss: 0.27055 | train_mse: 0.29622 | train_mae: 0.42018 |  0:00:02s\n"
     ]
    },
    {
     "name": "stdout",
     "output_type": "stream",
     "text": [
      "epoch 34 | loss: 0.2529  | train_mse: 0.37904 | train_mae: 0.46692 |  0:00:02s\n",
      "epoch 35 | loss: 0.38803 | train_mse: 0.37057 | train_mae: 0.4503  |  0:00:03s\n"
     ]
    },
    {
     "name": "stdout",
     "output_type": "stream",
     "text": [
      "epoch 36 | loss: 0.32778 | train_mse: 0.27042 | train_mae: 0.39446 |  0:00:03s\n",
      "epoch 37 | loss: 0.60389 | train_mse: 0.17195 | train_mae: 0.3197  |  0:00:03s\n"
     ]
    },
    {
     "name": "stdout",
     "output_type": "stream",
     "text": [
      "epoch 38 | loss: 0.35425 | train_mse: 0.22693 | train_mae: 0.35685 |  0:00:03s\n",
      "epoch 39 | loss: 0.3612  | train_mse: 0.23053 | train_mae: 0.37003 |  0:00:03s\n"
     ]
    },
    {
     "name": "stdout",
     "output_type": "stream",
     "text": [
      "epoch 40 | loss: 0.32446 | train_mse: 0.24656 | train_mae: 0.38494 |  0:00:03s\n",
      "epoch 41 | loss: 0.31424 | train_mse: 0.27882 | train_mae: 0.39654 |  0:00:03s\n",
      "epoch 42 | loss: 0.31477 | train_mse: 0.24958 | train_mae: 0.38268 |  0:00:03s\n"
     ]
    },
    {
     "name": "stdout",
     "output_type": "stream",
     "text": [
      "epoch 43 | loss: 0.18897 | train_mse: 0.20573 | train_mae: 0.34773 |  0:00:04s\n",
      "epoch 44 | loss: 0.50969 | train_mse: 0.21067 | train_mae: 0.3501  |  0:00:04s\n"
     ]
    },
    {
     "name": "stdout",
     "output_type": "stream",
     "text": [
      "epoch 45 | loss: 0.42808 | train_mse: 0.22501 | train_mae: 0.35821 |  0:00:04s\n",
      "epoch 46 | loss: 0.23972 | train_mse: 0.22654 | train_mae: 0.35611 |  0:00:04s\n"
     ]
    },
    {
     "name": "stdout",
     "output_type": "stream",
     "text": [
      "epoch 47 | loss: 0.22806 | train_mse: 0.27174 | train_mae: 0.36378 |  0:00:04s\n"
     ]
    },
    {
     "name": "stdout",
     "output_type": "stream",
     "text": [
      "epoch 48 | loss: 0.5266  | train_mse: 0.22282 | train_mae: 0.3446  |  0:00:05s\n"
     ]
    },
    {
     "name": "stdout",
     "output_type": "stream",
     "text": [
      "epoch 49 | loss: 0.41973 | train_mse: 0.2428  | train_mae: 0.34375 |  0:00:05s\n"
     ]
    },
    {
     "name": "stdout",
     "output_type": "stream",
     "text": [
      "epoch 50 | loss: 0.37434 | train_mse: 0.27654 | train_mae: 0.35977 |  0:00:05s\n"
     ]
    },
    {
     "name": "stdout",
     "output_type": "stream",
     "text": [
      "epoch 51 | loss: 0.35362 | train_mse: 0.28966 | train_mae: 0.37746 |  0:00:05s\n",
      "epoch 52 | loss: 0.26179 | train_mse: 0.29481 | train_mae: 0.39278 |  0:00:06s\n",
      "epoch 53 | loss: 0.37252 | train_mse: 0.32426 | train_mae: 0.42162 |  0:00:06s\n"
     ]
    },
    {
     "name": "stdout",
     "output_type": "stream",
     "text": [
      "epoch 54 | loss: 0.30619 | train_mse: 0.26432 | train_mae: 0.38838 |  0:00:06s\n",
      "epoch 55 | loss: 0.35122 | train_mse: 0.21545 | train_mae: 0.36499 |  0:00:06s\n",
      "epoch 56 | loss: 0.21594 | train_mse: 0.23405 | train_mae: 0.36163 |  0:00:06s\n"
     ]
    },
    {
     "name": "stdout",
     "output_type": "stream",
     "text": [
      "epoch 57 | loss: 0.38075 | train_mse: 0.28726 | train_mae: 0.39709 |  0:00:06s\n",
      "epoch 58 | loss: 0.25435 | train_mse: 0.22428 | train_mae: 0.35463 |  0:00:06s\n",
      "epoch 59 | loss: 0.27342 | train_mse: 0.15601 | train_mae: 0.28827 |  0:00:06s\n"
     ]
    },
    {
     "name": "stdout",
     "output_type": "stream",
     "text": [
      "epoch 60 | loss: 0.30361 | train_mse: 0.19048 | train_mae: 0.31397 |  0:00:06s\n",
      "epoch 61 | loss: 0.4098  | train_mse: 0.22713 | train_mae: 0.34991 |  0:00:06s\n",
      "epoch 62 | loss: 0.35653 | train_mse: 0.22311 | train_mae: 0.34819 |  0:00:06s\n"
     ]
    },
    {
     "name": "stdout",
     "output_type": "stream",
     "text": [
      "epoch 63 | loss: 0.52742 | train_mse: 0.27427 | train_mae: 0.39499 |  0:00:06s\n",
      "epoch 64 | loss: 0.25825 | train_mse: 0.29566 | train_mae: 0.42424 |  0:00:06s\n",
      "epoch 65 | loss: 0.31733 | train_mse: 0.21131 | train_mae: 0.35643 |  0:00:07s\n"
     ]
    },
    {
     "name": "stdout",
     "output_type": "stream",
     "text": [
      "epoch 66 | loss: 0.38452 | train_mse: 0.19701 | train_mae: 0.32325 |  0:00:07s\n",
      "epoch 67 | loss: 0.51033 | train_mse: 0.21489 | train_mae: 0.33993 |  0:00:07s\n",
      "epoch 68 | loss: 0.52221 | train_mse: 0.21892 | train_mae: 0.34237 |  0:00:07s\n"
     ]
    },
    {
     "name": "stdout",
     "output_type": "stream",
     "text": [
      "epoch 69 | loss: 0.23236 | train_mse: 0.26037 | train_mae: 0.38939 |  0:00:07s\n",
      "epoch 70 | loss: 0.21172 | train_mse: 0.34288 | train_mae: 0.44919 |  0:00:07s\n",
      "epoch 71 | loss: 0.54684 | train_mse: 0.32129 | train_mae: 0.44328 |  0:00:07s\n"
     ]
    },
    {
     "name": "stdout",
     "output_type": "stream",
     "text": [
      "epoch 72 | loss: 0.40834 | train_mse: 0.27976 | train_mae: 0.37763 |  0:00:07s\n",
      "epoch 73 | loss: 0.24439 | train_mse: 0.23421 | train_mae: 0.33749 |  0:00:07s\n",
      "epoch 74 | loss: 0.39338 | train_mse: 0.18568 | train_mae: 0.30272 |  0:00:07s\n",
      "epoch 75 | loss: 0.33238 | train_mse: 0.16947 | train_mae: 0.31396 |  0:00:07s\n"
     ]
    },
    {
     "name": "stdout",
     "output_type": "stream",
     "text": [
      "epoch 76 | loss: 0.34122 | train_mse: 0.1674  | train_mae: 0.30073 |  0:00:07s\n",
      "epoch 77 | loss: 0.21049 | train_mse: 0.17778 | train_mae: 0.30643 |  0:00:07s\n",
      "epoch 78 | loss: 0.26477 | train_mse: 0.19008 | train_mae: 0.3041  |  0:00:08s\n",
      "epoch 79 | loss: 0.2268  | train_mse: 0.21016 | train_mae: 0.3139  |  0:00:08s\n"
     ]
    },
    {
     "name": "stdout",
     "output_type": "stream",
     "text": [
      "epoch 80 | loss: 0.41618 | train_mse: 0.17328 | train_mae: 0.30878 |  0:00:08s\n",
      "epoch 81 | loss: 0.23559 | train_mse: 0.14688 | train_mae: 0.27632 |  0:00:08s\n",
      "epoch 82 | loss: 0.18643 | train_mse: 0.15522 | train_mae: 0.29704 |  0:00:08s\n"
     ]
    },
    {
     "name": "stdout",
     "output_type": "stream",
     "text": [
      "epoch 83 | loss: 0.38607 | train_mse: 0.16566 | train_mae: 0.30292 |  0:00:08s\n",
      "epoch 84 | loss: 0.26506 | train_mse: 0.15982 | train_mae: 0.29985 |  0:00:08s\n",
      "epoch 85 | loss: 0.26593 | train_mse: 0.14209 | train_mae: 0.28039 |  0:00:08s\n",
      "epoch 86 | loss: 0.21221 | train_mse: 0.15246 | train_mae: 0.29755 |  0:00:08s\n"
     ]
    },
    {
     "name": "stdout",
     "output_type": "stream",
     "text": [
      "epoch 87 | loss: 0.27034 | train_mse: 0.15208 | train_mae: 0.30308 |  0:00:08s\n",
      "epoch 88 | loss: 0.22927 | train_mse: 0.14357 | train_mae: 0.29401 |  0:00:08s\n",
      "epoch 89 | loss: 0.19308 | train_mse: 0.17639 | train_mae: 0.31659 |  0:00:08s\n",
      "epoch 90 | loss: 0.1703  | train_mse: 0.13701 | train_mae: 0.28192 |  0:00:08s\n"
     ]
    },
    {
     "name": "stdout",
     "output_type": "stream",
     "text": [
      "epoch 91 | loss: 0.18289 | train_mse: 0.12131 | train_mae: 0.26161 |  0:00:08s\n",
      "epoch 92 | loss: 0.33644 | train_mse: 0.14476 | train_mae: 0.29334 |  0:00:08s\n",
      "epoch 93 | loss: 0.47979 | train_mse: 0.17362 | train_mae: 0.32037 |  0:00:09s\n",
      "epoch 94 | loss: 0.22101 | train_mse: 0.26054 | train_mae: 0.34894 |  0:00:09s\n"
     ]
    },
    {
     "name": "stdout",
     "output_type": "stream",
     "text": [
      "epoch 95 | loss: 0.20519 | train_mse: 0.32478 | train_mae: 0.32815 |  0:00:09s\n",
      "epoch 96 | loss: 0.39239 | train_mse: 0.33538 | train_mae: 0.37753 |  0:00:09s\n",
      "epoch 97 | loss: 0.24366 | train_mse: 0.18437 | train_mae: 0.31235 |  0:00:09s\n"
     ]
    },
    {
     "name": "stdout",
     "output_type": "stream",
     "text": [
      "epoch 98 | loss: 0.21333 | train_mse: 0.16061 | train_mae: 0.28856 |  0:00:09s\n",
      "epoch 99 | loss: 0.27183 | train_mse: 0.20739 | train_mae: 0.3503  |  0:00:09s\n",
      "epoch 100| loss: 0.24386 | train_mse: 0.16204 | train_mae: 0.30991 |  0:00:09s\n",
      "epoch 101| loss: 0.35488 | train_mse: 0.1568  | train_mae: 0.31513 |  0:00:09s\n"
     ]
    },
    {
     "name": "stdout",
     "output_type": "stream",
     "text": [
      "epoch 102| loss: 0.2754  | train_mse: 0.1585  | train_mae: 0.3088  |  0:00:09s\n",
      "epoch 103| loss: 0.24936 | train_mse: 0.16543 | train_mae: 0.30904 |  0:00:09s\n",
      "epoch 104| loss: 0.26565 | train_mse: 0.14489 | train_mae: 0.28958 |  0:00:09s\n",
      "epoch 105| loss: 0.2015  | train_mse: 0.12892 | train_mae: 0.27682 |  0:00:09s\n"
     ]
    },
    {
     "name": "stdout",
     "output_type": "stream",
     "text": [
      "epoch 106| loss: 0.16924 | train_mse: 0.1219  | train_mae: 0.2715  |  0:00:09s\n",
      "epoch 107| loss: 0.14509 | train_mse: 0.11947 | train_mae: 0.25587 |  0:00:09s\n",
      "epoch 108| loss: 0.22123 | train_mse: 0.12861 | train_mae: 0.27447 |  0:00:10s\n"
     ]
    },
    {
     "name": "stdout",
     "output_type": "stream",
     "text": [
      "epoch 109| loss: 0.20149 | train_mse: 0.11759 | train_mae: 0.2676  |  0:00:10s\n",
      "epoch 110| loss: 0.15057 | train_mse: 0.10465 | train_mae: 0.24679 |  0:00:10s\n",
      "epoch 111| loss: 0.18178 | train_mse: 0.09707 | train_mae: 0.2421  |  0:00:10s\n"
     ]
    },
    {
     "name": "stdout",
     "output_type": "stream",
     "text": [
      "epoch 112| loss: 0.23147 | train_mse: 0.10064 | train_mae: 0.23611 |  0:00:10s\n",
      "epoch 113| loss: 0.2955  | train_mse: 0.10937 | train_mae: 0.24719 |  0:00:10s\n",
      "epoch 114| loss: 0.18429 | train_mse: 0.17672 | train_mae: 0.26742 |  0:00:10s\n",
      "epoch 115| loss: 0.22058 | train_mse: 0.18292 | train_mae: 0.26502 |  0:00:10s\n"
     ]
    },
    {
     "name": "stdout",
     "output_type": "stream",
     "text": [
      "epoch 116| loss: 0.16222 | train_mse: 0.10486 | train_mae: 0.23645 |  0:00:10s\n",
      "epoch 117| loss: 0.11071 | train_mse: 0.12695 | train_mae: 0.26727 |  0:00:10s\n",
      "epoch 118| loss: 0.14595 | train_mse: 0.13118 | train_mae: 0.27516 |  0:00:10s\n",
      "epoch 119| loss: 0.21544 | train_mse: 0.10893 | train_mae: 0.25418 |  0:00:10s\n"
     ]
    },
    {
     "name": "stdout",
     "output_type": "stream",
     "text": [
      "epoch 120| loss: 0.14877 | train_mse: 0.11919 | train_mae: 0.27137 |  0:00:10s\n",
      "epoch 121| loss: 0.21088 | train_mse: 0.12443 | train_mae: 0.27767 |  0:00:10s\n",
      "epoch 122| loss: 0.19129 | train_mse: 0.10872 | train_mae: 0.26049 |  0:00:11s\n"
     ]
    },
    {
     "name": "stdout",
     "output_type": "stream",
     "text": [
      "epoch 123| loss: 0.19539 | train_mse: 0.11516 | train_mae: 0.27104 |  0:00:11s\n",
      "epoch 124| loss: 0.36957 | train_mse: 0.11676 | train_mae: 0.27508 |  0:00:11s\n",
      "epoch 125| loss: 0.15732 | train_mse: 0.1139  | train_mae: 0.26895 |  0:00:11s\n"
     ]
    },
    {
     "name": "stdout",
     "output_type": "stream",
     "text": [
      "epoch 126| loss: 0.31699 | train_mse: 0.13188 | train_mae: 0.28694 |  0:00:11s\n",
      "epoch 127| loss: 0.16341 | train_mse: 0.13462 | train_mae: 0.28695 |  0:00:11s\n",
      "epoch 128| loss: 0.15668 | train_mse: 0.12682 | train_mae: 0.27508 |  0:00:11s\n",
      "epoch 129| loss: 0.29463 | train_mse: 0.10554 | train_mae: 0.25466 |  0:00:11s\n"
     ]
    },
    {
     "name": "stdout",
     "output_type": "stream",
     "text": [
      "epoch 130| loss: 0.21375 | train_mse: 0.10333 | train_mae: 0.25187 |  0:00:11s\n",
      "epoch 131| loss: 0.28521 | train_mse: 0.14506 | train_mae: 0.26491 |  0:00:11s\n",
      "epoch 132| loss: 0.19791 | train_mse: 0.11677 | train_mae: 0.25893 |  0:00:11s\n",
      "epoch 133| loss: 0.17104 | train_mse: 0.12934 | train_mae: 0.28547 |  0:00:11s\n"
     ]
    },
    {
     "name": "stdout",
     "output_type": "stream",
     "text": [
      "epoch 134| loss: 0.16623 | train_mse: 0.15056 | train_mae: 0.30912 |  0:00:11s\n",
      "epoch 135| loss: 0.35172 | train_mse: 0.16864 | train_mae: 0.30685 |  0:00:11s\n",
      "epoch 136| loss: 0.17004 | train_mse: 0.13843 | train_mae: 0.29346 |  0:00:12s\n",
      "epoch 137| loss: 0.1653  | train_mse: 0.32929 | train_mae: 0.34437 |  0:00:12s\n"
     ]
    },
    {
     "name": "stdout",
     "output_type": "stream",
     "text": [
      "epoch 138| loss: 0.20637 | train_mse: 0.30275 | train_mae: 0.32893 |  0:00:12s\n",
      "epoch 139| loss: 0.16451 | train_mse: 0.34128 | train_mae: 0.33609 |  0:00:12s\n",
      "epoch 140| loss: 0.1698  | train_mse: 0.16633 | train_mae: 0.3068  |  0:00:12s\n"
     ]
    },
    {
     "name": "stdout",
     "output_type": "stream",
     "text": [
      "epoch 141| loss: 0.25854 | train_mse: 0.19882 | train_mae: 0.33348 |  0:00:12s\n",
      "epoch 142| loss: 0.21569 | train_mse: 0.15338 | train_mae: 0.31477 |  0:00:12s\n",
      "epoch 143| loss: 0.19457 | train_mse: 0.15956 | train_mae: 0.31539 |  0:00:12s\n",
      "epoch 144| loss: 0.22735 | train_mse: 0.23005 | train_mae: 0.32018 |  0:00:12s\n"
     ]
    },
    {
     "name": "stdout",
     "output_type": "stream",
     "text": [
      "epoch 145| loss: 0.44789 | train_mse: 0.24022 | train_mae: 0.29816 |  0:00:12s\n",
      "epoch 146| loss: 0.33023 | train_mse: 0.15468 | train_mae: 0.28387 |  0:00:12s\n",
      "epoch 147| loss: 0.24436 | train_mse: 0.14845 | train_mae: 0.27342 |  0:00:12s\n"
     ]
    },
    {
     "name": "stdout",
     "output_type": "stream",
     "text": [
      "epoch 148| loss: 0.3117  | train_mse: 0.11912 | train_mae: 0.26292 |  0:00:12s\n",
      "epoch 149| loss: 0.37446 | train_mse: 0.10258 | train_mae: 0.24645 |  0:00:12s\n",
      "epoch 150| loss: 0.20039 | train_mse: 0.09473 | train_mae: 0.24175 |  0:00:13s\n"
     ]
    },
    {
     "name": "stdout",
     "output_type": "stream",
     "text": [
      "epoch 151| loss: 0.44792 | train_mse: 0.0948  | train_mae: 0.24685 |  0:00:13s\n",
      "epoch 152| loss: 0.24803 | train_mse: 0.10231 | train_mae: 0.25731 |  0:00:13s\n",
      "epoch 153| loss: 0.17084 | train_mse: 0.11671 | train_mae: 0.26532 |  0:00:13s\n"
     ]
    },
    {
     "name": "stdout",
     "output_type": "stream",
     "text": [
      "epoch 154| loss: 0.15509 | train_mse: 0.13368 | train_mae: 0.27811 |  0:00:13s\n",
      "epoch 155| loss: 0.26842 | train_mse: 0.13565 | train_mae: 0.27288 |  0:00:13s\n"
     ]
    },
    {
     "name": "stdout",
     "output_type": "stream",
     "text": [
      "epoch 156| loss: 0.29722 | train_mse: 0.13661 | train_mae: 0.278   |  0:00:13s\n",
      "epoch 157| loss: 0.28022 | train_mse: 0.12524 | train_mae: 0.26853 |  0:00:13s\n",
      "epoch 158| loss: 0.26851 | train_mse: 0.12164 | train_mae: 0.26033 |  0:00:13s\n"
     ]
    },
    {
     "name": "stdout",
     "output_type": "stream",
     "text": [
      "epoch 159| loss: 0.40924 | train_mse: 0.11519 | train_mae: 0.26107 |  0:00:14s\n"
     ]
    },
    {
     "name": "stdout",
     "output_type": "stream",
     "text": [
      "epoch 160| loss: 0.24485 | train_mse: 0.10747 | train_mae: 0.26136 |  0:00:14s\n",
      "epoch 161| loss: 0.19187 | train_mse: 0.1209  | train_mae: 0.27449 |  0:00:14s\n",
      "epoch 162| loss: 0.16434 | train_mse: 0.13615 | train_mae: 0.28728 |  0:00:14s\n"
     ]
    },
    {
     "name": "stdout",
     "output_type": "stream",
     "text": [
      "\n",
      "Early stopping occurred at epoch 162 with best_epoch = 112 and best_train_mae = 0.23611\n",
      "Best weights from best epoch are automatically used!\n"
     ]
    }
   ],
   "source": [
    "#Train the Model\n",
    "\n",
    "Y_train = np.reshape(Y_train, (-1, 1))\n",
    "Y_test = np.reshape(Y_test, (-1, 1))\n",
    "\n",
    "prior_model = TabNetRegressor(optimizer_fn=torch.optim.Adam, optimizer_params=dict(lr = 0.02),\n",
    "          #scheduler_params={\"step_size\":10, ], \"gamma\":0.9},\n",
    "          #scheduler_fn=torch.optim.lr_scheduler.StepLR\n",
    "          )  #TabNetRegressor()\n",
    "\n",
    "prior_model.fit(X_train,Y_train,eval_set=[(X_train, Y_train)],\n",
    "            eval_name=['train'], \n",
    "            eval_metric=[ 'mse', 'mae'], \n",
    "            max_epochs = n_epochs, \n",
    "            batch_size = batch_size,\n",
    "            patience=50\n",
    "            )"
   ]
  },
  {
   "cell_type": "code",
   "execution_count": 10,
   "id": "af65dcda",
   "metadata": {
    "execution": {
     "iopub.execute_input": "2022-06-22T12:49:20.034460Z",
     "iopub.status.busy": "2022-06-22T12:49:20.026412Z",
     "iopub.status.idle": "2022-06-22T12:49:20.051650Z",
     "shell.execute_reply": "2022-06-22T12:49:20.052263Z"
    },
    "id": "af65dcda",
    "papermill": {
     "duration": 0.122458,
     "end_time": "2022-06-22T12:49:20.052550",
     "exception": false,
     "start_time": "2022-06-22T12:49:19.930092",
     "status": "completed"
    },
    "tags": []
   },
   "outputs": [
    {
     "data": {
      "application/scrapbook.scrap.json+json": {
       "data": 0.4119973194350431,
       "encoder": "json",
       "name": "Prior Model MSE",
       "version": 1
      }
     },
     "metadata": {
      "scrapbook": {
       "data": true,
       "display": false,
       "name": "Prior Model MSE"
      }
     },
     "output_type": "display_data"
    },
    {
     "data": {
      "application/scrapbook.scrap.json+json": {
       "data": 0.36797441945392934,
       "encoder": "json",
       "name": "ABC Pre-generator MSE",
       "version": 1
      }
     },
     "metadata": {
      "scrapbook": {
       "data": true,
       "display": false,
       "name": "ABC Pre-generator MSE"
      }
     },
     "output_type": "display_data"
    },
    {
     "data": {
      "application/scrapbook.scrap.json+json": {
       "data": 0.48307564566523065,
       "encoder": "json",
       "name": "Prior Model MSE",
       "version": 1
      }
     },
     "metadata": {
      "scrapbook": {
       "data": true,
       "display": false,
       "name": "Prior Model MSE"
      }
     },
     "output_type": "display_data"
    },
    {
     "data": {
      "application/scrapbook.scrap.json+json": {
       "data": 0.4713222459280521,
       "encoder": "json",
       "name": "ABC Pre-generator MSE",
       "version": 1
      }
     },
     "metadata": {
      "scrapbook": {
       "data": true,
       "display": false,
       "name": "ABC Pre-generator MSE"
      }
     },
     "output_type": "display_data"
    }
   ],
   "source": [
    "y_pred = prior_model.predict(X_test)\n",
    "y_abc = y_pred + np.random.normal(0,variance, y_pred.shape) + bias \n",
    "mse = mean_squared_error(y_pred,Y_test)\n",
    "sb.glue(\"Prior Model MSE\",mse)\n",
    "mse = mean_squared_error(y_abc,Y_test)\n",
    "sb.glue(\"ABC Pre-generator MSE\",mse)\n",
    "mae = mean_absolute_error(y_pred,Y_test)\n",
    "sb.glue(\"Prior Model MSE\",mae)\n",
    "mae = mean_absolute_error(y_abc,Y_test)\n",
    "sb.glue(\"ABC Pre-generator MSE\",mae)"
   ]
  },
  {
   "cell_type": "markdown",
   "id": "25609da2",
   "metadata": {
    "papermill": {
     "duration": 0.038589,
     "end_time": "2022-06-22T12:49:20.141967",
     "exception": false,
     "start_time": "2022-06-22T12:49:20.103378",
     "status": "completed"
    },
    "tags": []
   },
   "source": [
    "# ABC GAN Model"
   ]
  },
  {
   "cell_type": "code",
   "execution_count": 11,
   "id": "dfc3464d",
   "metadata": {
    "execution": {
     "iopub.execute_input": "2022-06-22T12:49:20.234017Z",
     "iopub.status.busy": "2022-06-22T12:49:20.232313Z",
     "iopub.status.idle": "2022-06-22T12:49:20.235941Z",
     "shell.execute_reply": "2022-06-22T12:49:20.236502Z"
    },
    "papermill": {
     "duration": 0.057581,
     "end_time": "2022-06-22T12:49:20.236738",
     "exception": false,
     "start_time": "2022-06-22T12:49:20.179157",
     "status": "completed"
    },
    "tags": []
   },
   "outputs": [],
   "source": [
    "gen = network.Generator(n_features+1).to(device)\n",
    "disc = network.Discriminator(n_features+1).to(device)\n",
    "\n",
    "criterion = torch.nn.BCELoss()\n",
    "gen_opt = torch.optim.Adam(gen.parameters(), lr=0.001, betas=(0.5, 0.999))\n",
    "disc_opt = torch.optim.Adam(disc.parameters(), lr=0.001, betas=(0.5, 0.999))"
   ]
  },
  {
   "cell_type": "code",
   "execution_count": 12,
   "id": "b75fdd85",
   "metadata": {
    "execution": {
     "iopub.execute_input": "2022-06-22T12:49:20.768039Z",
     "iopub.status.busy": "2022-06-22T12:49:20.692023Z",
     "iopub.status.idle": "2022-06-22T12:50:08.769538Z",
     "shell.execute_reply": "2022-06-22T12:50:08.770107Z"
    },
    "papermill": {
     "duration": 48.479468,
     "end_time": "2022-06-22T12:50:08.770336",
     "exception": false,
     "start_time": "2022-06-22T12:49:20.290868",
     "status": "completed"
    },
    "tags": []
   },
   "outputs": [
    {
     "data": {
      "image/png": "[encoded data removed]",
      "text/plain": [
       "<Figure size 432x288 with 1 Axes>"
      ]
     },
     "metadata": {
      "needs_background": "light"
     },
     "output_type": "display_data"
    },
    {
     "data": {
      "image/png": "[encoded data removed]",
      "text/plain": [
       "<Figure size 432x288 with 1 Axes>"
      ]
     },
     "metadata": {
      "needs_background": "light"
     },
     "output_type": "display_data"
    }
   ],
   "source": [
    "#Training the ABC_GAN \n",
    "ABC_train_test2.training_GAN(disc,gen,disc_opt,gen_opt,train_data,batch_size,n_epochs,criterion,prior_model,variance,bias,device)"
   ]
  },
  {
   "cell_type": "code",
   "execution_count": 13,
   "id": "1fa7c368",
   "metadata": {
    "execution": {
     "iopub.execute_input": "2022-06-22T12:50:08.846671Z",
     "iopub.status.busy": "2022-06-22T12:50:08.845678Z",
     "iopub.status.idle": "2022-06-22T12:50:09.459179Z",
     "shell.execute_reply": "2022-06-22T12:50:09.460104Z"
    },
    "papermill": {
     "duration": 0.659881,
     "end_time": "2022-06-22T12:50:09.460362",
     "exception": false,
     "start_time": "2022-06-22T12:50:08.800481",
     "status": "completed"
    },
    "tags": []
   },
   "outputs": [
    {
     "data": {
      "application/scrapbook.scrap.json+json": {
       "data": 0.425204910987862,
       "encoder": "json",
       "name": "ABC-GAN Model 1 MSE",
       "version": 1
      }
     },
     "metadata": {
      "scrapbook": {
       "data": true,
       "display": false,
       "name": "ABC-GAN Model 1 MSE"
      }
     },
     "output_type": "display_data"
    },
    {
     "data": {
      "application/scrapbook.scrap.json+json": {
       "data": 0.5338104463461787,
       "encoder": "json",
       "name": "ABC-GAN Model 1 MAE",
       "version": 1
      }
     },
     "metadata": {
      "scrapbook": {
       "data": true,
       "display": false,
       "name": "ABC-GAN Model 1 MAE"
      }
     },
     "output_type": "display_data"
    },
    {
     "data": {
      "application/scrapbook.scrap.json+json": {
       "data": 10.676208926923573,
       "encoder": "json",
       "name": "ABC-GAN Model 1 Manhattan Distance",
       "version": 1
      }
     },
     "metadata": {
      "scrapbook": {
       "data": true,
       "display": false,
       "name": "ABC-GAN Model 1 Manhattan Distance"
      }
     },
     "output_type": "display_data"
    },
    {
     "data": {
      "application/scrapbook.scrap.json+json": {
       "data": 2.915493473074869,
       "encoder": "json",
       "name": "ABC-GAN Model 1 Euclidean distance",
       "version": 1
      }
     },
     "metadata": {
      "scrapbook": {
       "data": true,
       "display": false,
       "name": "ABC-GAN Model 1 Euclidean distance"
      }
     },
     "output_type": "display_data"
    },
    {
     "data": {
      "application/scrapbook.scrap.json+json": {
       "data": [
        [
         0.4185966115022451,
         0.4413519214514938,
         0.4361311923493384,
         0.4135016668461519,
         0.44764596215682995,
         0.40855508163231036,
         0.39614713882199953,
         0.4453266489700173,
         0.43223709613780903,
         0.36537943756250174,
         0.3964646288086712,
         0.41319353448016327,
         0.4147863757780904,
         0.4101901273049493,
         0.426006394100082,
         0.4301863140846532,
         0.4290253671616296,
         0.46006063785258355,
         0.4221988721863365,
         0.4137845344211362,
         0.418966960116157,
         0.42149725614602795,
         0.4067225767052549,
         0.4389011247784188,
         0.42196601340637735,
         0.42552425516655407,
         0.4130753061745055,
         0.4372908137927447,
         0.4451365656564298,
         0.43852017639416,
         0.45720324067977547,
         0.43647316031746985,
         0.45321255421976686,
         0.4528431059682029,
         0.4081006694617583,
         0.46120338600004107,
         0.4509278700232125,
         0.4327764506118224,
         0.42022300036042476,
         0.42351305908160725,
         0.4211801580642575,
         0.4410539651469631,
         0.4598229856592039,
         0.4604634282644849,
         0.42497637922971665,
         0.3963546530842433,
         0.43671978566549347,
         0.42933265504506507,
         0.4256603758859369,
         0.4197939830311436,
         0.40910997275675653,
         0.4286737113983089,
         0.41796854471368244,
         0.45303981342289434,
         0.41895551342757376,
         0.4474215097528182,
         0.40371872250094,
         0.44113984715717425,
         0.4231608381988205,
         0.41132529739419743,
         0.42874516373753435,
         0.3969181128072086,
         0.4074984853688763,
         0.44156110862094505,
         0.4227499437033835,
         0.41956303313946297,
         0.4039991685528784,
         0.4133737246133703,
         0.3973125199990594,
         0.4157854553410262,
         0.42933982735193627,
         0.4239568900249403,
         0.44073007930725644,
         0.43852430617773913,
         0.4483132083063919,
         0.43164971239267125,
         0.414339870153134,
         0.4070932732803911,
         0.4093940611071928,
         0.44381126630943263,
         0.4063894104965581,
         0.4152021734032358,
         0.4126617642456381,
         0.4390175361699238,
         0.39287499936389586,
         0.43844074557586765,
         0.4559654583254263,
         0.4253661534484383,
         0.44150278413753197,
         0.39686775146445336,
         0.43533060715369976,
         0.40685072175402565,
         0.43818574736789273,
         0.40426613416043067,
         0.4297635052254137,
         0.4177996243969423,
         0.3961417906433635,
         0.4024024044614542,
         0.4514017421898056,
         0.4246816060379966
        ],
        [
         0.5314881087746471,
         0.5461302080657333,
         0.5523890900891274,
         0.5247930326964706,
         0.5524461071472615,
         0.5211742288898676,
         0.516301200306043,
         0.5522087649907916,
         0.5453947789501399,
         0.4901641992386431,
         0.5222043834161013,
         0.5154689283575863,
         0.5175493338610977,
         0.5271884653251618,
         0.5312489082571119,
         0.5334547832142562,
         0.5329481469001621,
         0.5539885114412755,
         0.536451818747446,
         0.5213642777409404,
         0.5317954627331346,
         0.5286716948729009,
         0.5195341821294278,
         0.5487691832240671,
         0.5339280284475535,
         0.5396213588770479,
         0.5316692875232547,
         0.5448709915857762,
         0.5404660116415471,
         0.550753012066707,
         0.5515402134042233,
         0.5321832939516753,
         0.5484368640463799,
         0.5448335831519217,
         0.5219830993097275,
         0.5646419541444629,
         0.5483956580515951,
         0.5377219724934548,
         0.5225013765972107,
         0.5363580245058983,
         0.5326326796319336,
         0.5504110222216696,
         0.560164783289656,
         0.5586021985393017,
         0.5388402796816081,
         0.5129078547935932,
         0.5422625751700252,
         0.5378807905595749,
         0.5374709935393185,
         0.5234960140194744,
         0.5310444822069258,
         0.5432896799873561,
         0.531478913454339,
         0.5491990778129547,
         0.5191330633591861,
         0.5499289374332875,
         0.5187562392558902,
         0.5416081249248237,
         0.5303686772938818,
         0.5227860811632127,
         0.5352712103631347,
         0.5180200811009854,
         0.5173124331515282,
         0.54049943680875,
         0.5297075623180717,
         0.5298425551038235,
         0.5185776970814914,
         0.5242748328950256,
         0.5200849085580558,
         0.5299464229028672,
         0.5344990234356374,
         0.5274391099344939,
         0.5442505973856896,
         0.5454655248206108,
         0.550910280784592,
         0.5408222350757569,
         0.5312498155515641,
         0.520341734169051,
         0.526968446513638,
         0.5442072949837893,
         0.5185345733072608,
         0.5190165711101145,
         0.5299939231481403,
         0.5367684293072671,
         0.5117678747978062,
         0.543217410100624,
         0.5582532882224769,
         0.5366806767415255,
         0.5544284414034337,
         0.5133214180823416,
         0.5418017530348151,
         0.5160703446250409,
         0.5308582247700542,
         0.522509025176987,
         0.5422034482937306,
         0.530734778707847,
         0.5109511080663651,
         0.5227196994703263,
         0.5489046150352805,
         0.5273228307720274
        ],
        [
         10.629762175492942,
         10.922604161314666,
         11.047781801782548,
         10.495860653929412,
         11.04892214294523,
         10.423484577797353,
         10.32602400612086,
         11.044175299815834,
         10.907895579002798,
         9.803283984772861,
         10.444087668322027,
         10.309378567151725,
         10.350986677221954,
         10.543769306503236,
         10.624978165142238,
         10.669095664285123,
         10.658962938003242,
         11.07977022882551,
         10.729036374948919,
         10.427285554818809,
         10.635909254662693,
         10.573433897458017,
         10.390683642588556,
         10.975383664481342,
         10.67856056895107,
         10.792427177540958,
         10.633385750465095,
         10.897419831715524,
         10.809320232830942,
         11.01506024133414,
         11.030804268084466,
         10.643665879033506,
         10.968737280927598,
         10.896671663038433,
         10.439661986194551,
         11.292839082889259,
         10.967913161031902,
         10.754439449869096,
         10.450027531944215,
         10.727160490117967,
         10.652653592638671,
         11.008220444433391,
         11.20329566579312,
         11.172043970786035,
         10.776805593632162,
         10.258157095871866,
         10.845251503400505,
         10.7576158111915,
         10.749419870786369,
         10.469920280389488,
         10.620889644138515,
         10.865793599747121,
         10.629578269086778,
         10.983981556259096,
         10.382661267183721,
         10.99857874866575,
         10.375124785117805,
         10.832162498496473,
         10.607373545877635,
         10.455721623264253,
         10.705424207262695,
         10.360401622019708,
         10.346248663030565,
         10.809988736175,
         10.594151246361434,
         10.59685110207647,
         10.371553941629827,
         10.485496657900512,
         10.401698171161115,
         10.598928458057344,
         10.689980468712747,
         10.548782198689878,
         10.885011947713792,
         10.909310496412218,
         11.01820561569184,
         10.816444701515138,
         10.624996311031282,
         10.406834683381021,
         10.539368930272758,
         10.884145899675786,
         10.370691466145217,
         10.380331422202289,
         10.599878462962806,
         10.735368586145341,
         10.235357495956123,
         10.86434820201248,
         11.165065764449537,
         10.73361353483051,
         11.088568828068674,
         10.266428361646831,
         10.836035060696304,
         10.321406892500818,
         10.617164495401084,
         10.450180503539741,
         10.844068965874612,
         10.61469557415694,
         10.219022161327302,
         10.454393989406526,
         10.978092300705612,
         10.546456615440547
        ],
        [
         2.8934291472308256,
         2.9710332258374152,
         2.9534088519855777,
         2.8757665650958253,
         2.992142918233786,
         2.8585138853338123,
         2.8147722423741484,
         2.9843815070128596,
         2.9401941981366098,
         2.703255213857921,
         2.8158999584810225,
         2.8746948863493786,
         2.8802304622307235,
         2.864228089049297,
         2.9189258096090143,
         2.9332109166735805,
         2.9292503039570708,
         3.0333500881124276,
         2.905852274931871,
         2.876750021886282,
         2.8947088285910794,
         2.903436777841143,
         2.8520959896372875,
         2.9627727715044863,
         2.9050508202314718,
         2.9172735736181963,
         2.8742835843893535,
         2.957332628544665,
         2.983744512039963,
         2.961486709050574,
         3.0239154772571784,
         2.9545665005799746,
         3.010689469937964,
         3.0094620980108817,
         2.856923763287212,
         3.0371150323951874,
         3.003091307380488,
         2.9420280440941498,
         2.899044671475156,
         2.9103713133605726,
         2.902344424992518,
         2.9700301855266154,
         3.0325665224664204,
         3.0346776707402876,
         2.915394927723229,
         2.815509378724366,
         2.9554011087007916,
         2.9302991487050094,
         2.9177401388264066,
         2.897564435974267,
         2.860454414098419,
         2.928049560367136,
         2.8912576665308904,
         3.010115656990257,
         2.894669284832289,
         2.9913926848637518,
         2.841544377626153,
         2.9703193335302327,
         2.909160835013494,
         2.8681886179057248,
         2.9282935772819445,
         2.8175099389610274,
         2.8548151791976872,
         2.971737231388216,
         2.9077480761007597,
         2.8967672779823475,
         2.8425311556881074,
         2.8753216328382125,
         2.8189094345120758,
         2.8836971246683527,
         2.9303236249668267,
         2.911895911686887,
         2.9689394716203172,
         2.9615006539852025,
         2.994372082111346,
         2.938195747028,
         2.8786798021076745,
         2.853395427487719,
         2.8614473998562087,
         2.979299469034399,
         2.8509276051718957,
         2.8816737268581805,
         2.8728444588791717,
         2.963165659121757,
         2.8031232558126864,
         2.961218484259031,
         3.0198193930280874,
         2.9167315730057792,
         2.971540960974733,
         2.817331189137881,
         2.9506968910875946,
         2.852545255570981,
         2.960357233064593,
         2.843470183281093,
         2.9317691083215056,
         2.8906733623740415,
         2.814753241914337,
         2.836908191892907,
         3.0046688409533773,
         2.9143836605292606
        ]
       ],
       "encoder": "json",
       "name": "ABC_GAN_1 Metrics",
       "version": 1
      }
     },
     "metadata": {
      "scrapbook": {
       "data": true,
       "display": false,
       "name": "ABC_GAN_1 Metrics"
      }
     },
     "output_type": "display_data"
    },
    {
     "name": "stdout",
     "output_type": "stream",
     "text": [
      "MSE\n",
      "0.425204910987862\n"
     ]
    }
   ],
   "source": [
    "ABC_GAN1_metrics=ABC_train_test2.test_generator(gen,test_data,prior_model,variance,bias,\"1\",device)\n",
    "sb.glue(\"ABC_GAN_1 Metrics\",ABC_GAN1_metrics)\n",
    "\n",
    "print(\"MSE\")\n",
    "print(mean(ABC_GAN1_metrics[0]))"
   ]
  },
  {
   "cell_type": "code",
   "execution_count": 14,
   "id": "eb22ce5c",
   "metadata": {
    "execution": {
     "iopub.execute_input": "2022-06-22T12:50:09.545043Z",
     "iopub.status.busy": "2022-06-22T12:50:09.544247Z",
     "iopub.status.idle": "2022-06-22T12:50:10.297695Z",
     "shell.execute_reply": "2022-06-22T12:50:10.298107Z"
    },
    "papermill": {
     "duration": 0.803418,
     "end_time": "2022-06-22T12:50:10.298365",
     "exception": false,
     "start_time": "2022-06-22T12:50:09.494947",
     "status": "completed"
    },
    "tags": []
   },
   "outputs": [
    {
     "data": {
      "image/png": "[encoded data removed]",
      "text/plain": [
       "<Figure size 432x288 with 1 Axes>"
      ]
     },
     "metadata": {
      "needs_background": "light"
     },
     "output_type": "display_data"
    },
    {
     "data": {
      "image/png": "[encoded data removed]",
      "text/plain": [
       "<Figure size 432x288 with 1 Axes>"
      ]
     },
     "metadata": {
      "needs_background": "light"
     },
     "output_type": "display_data"
    },
    {
     "data": {
      "image/png": "[encoded data removed]",
      "text/plain": [
       "<Figure size 432x288 with 1 Axes>"
      ]
     },
     "metadata": {
      "needs_background": "light"
     },
     "output_type": "display_data"
    },
    {
     "data": {
      "image/png": "[encoded data removed]",
      "text/plain": [
       "<Figure size 432x288 with 1 Axes>"
      ]
     },
     "metadata": {
      "needs_background": "light"
     },
     "output_type": "display_data"
    }
   ],
   "source": [
    "sanityChecks.discProbVsError(train_data,disc,device)\n",
    "sanityChecks.discProbVsError(test_data,disc,device)"
   ]
  },
  {
   "cell_type": "markdown",
   "id": "130f3a4d",
   "metadata": {
    "id": "130f3a4d",
    "papermill": {
     "duration": 0.045818,
     "end_time": "2022-06-22T12:50:10.382127",
     "exception": false,
     "start_time": "2022-06-22T12:50:10.336309",
     "status": "completed"
    },
    "tags": []
   },
   "source": [
    "# ABC - GAN Model with skip connection"
   ]
  },
  {
   "cell_type": "code",
   "execution_count": 15,
   "id": "4e43dad1",
   "metadata": {
    "execution": {
     "iopub.execute_input": "2022-06-22T12:50:10.471267Z",
     "iopub.status.busy": "2022-06-22T12:50:10.469451Z",
     "iopub.status.idle": "2022-06-22T12:50:10.474033Z",
     "shell.execute_reply": "2022-06-22T12:50:10.475102Z"
    },
    "id": "4e43dad1",
    "papermill": {
     "duration": 0.054682,
     "end_time": "2022-06-22T12:50:10.475845",
     "exception": false,
     "start_time": "2022-06-22T12:50:10.421163",
     "status": "completed"
    },
    "tags": []
   },
   "outputs": [],
   "source": [
    "#Generator\n",
    "gen3 = network.GeneratorWithSkipConnection(n_features+1).to(device)\n",
    "constraints=network.weightConstraint()\n",
    "#Discriminator \n",
    "disc3 = network.Discriminator(n_features+1).to(device)\n",
    "\n",
    "criterion = torch.nn.BCELoss()\n",
    "gen_opt = torch.optim.Adam(gen3.parameters(), lr=0.001, betas=(0.5, 0.999))\n",
    "disc_opt = torch.optim.Adam(disc3.parameters(), lr=0.001, betas=(0.5, 0.999))\n"
   ]
  },
  {
   "cell_type": "code",
   "execution_count": 16,
   "id": "26acbc37",
   "metadata": {
    "execution": {
     "iopub.execute_input": "2022-06-22T12:50:10.583781Z",
     "iopub.status.busy": "2022-06-22T12:50:10.579142Z",
     "iopub.status.idle": "2022-06-22T12:51:27.138410Z",
     "shell.execute_reply": "2022-06-22T12:51:27.139004Z"
    },
    "id": "26acbc37",
    "papermill": {
     "duration": 76.62109,
     "end_time": "2022-06-22T12:51:27.139309",
     "exception": false,
     "start_time": "2022-06-22T12:50:10.518219",
     "status": "completed"
    },
    "tags": []
   },
   "outputs": [
    {
     "data": {
      "image/png": "[encoded data removed]",
      "text/plain": [
       "<Figure size 432x288 with 1 Axes>"
      ]
     },
     "metadata": {
      "needs_background": "light"
     },
     "output_type": "display_data"
    },
    {
     "data": {
      "image/png": "[encoded data removed]",
      "text/plain": [
       "<Figure size 432x288 with 1 Axes>"
      ]
     },
     "metadata": {
      "needs_background": "light"
     },
     "output_type": "display_data"
    }
   ],
   "source": [
    "ABC_train_test2.training_GAN_skip_connection(disc3,gen3,disc_opt,gen_opt,train_data,batch_size,n_epochs,criterion,prior_model,variance,bias,device)"
   ]
  },
  {
   "cell_type": "code",
   "execution_count": 17,
   "id": "c5e0717b",
   "metadata": {
    "execution": {
     "iopub.execute_input": "2022-06-22T12:51:27.333570Z",
     "iopub.status.busy": "2022-06-22T12:51:27.312702Z",
     "iopub.status.idle": "2022-06-22T12:51:28.601742Z",
     "shell.execute_reply": "2022-06-22T12:51:28.602783Z"
    },
    "id": "c5e0717b",
    "papermill": {
     "duration": 1.412351,
     "end_time": "2022-06-22T12:51:28.603029",
     "exception": false,
     "start_time": "2022-06-22T12:51:27.190678",
     "status": "completed"
    },
    "tags": []
   },
   "outputs": [
    {
     "data": {
      "application/scrapbook.scrap.json+json": {
       "data": 178.5562843499492,
       "encoder": "json",
       "name": "ABC-GAN Model 3 MSE",
       "version": 1
      }
     },
     "metadata": {
      "scrapbook": {
       "data": true,
       "display": false,
       "name": "ABC-GAN Model 3 MSE"
      }
     },
     "output_type": "display_data"
    },
    {
     "data": {
      "application/scrapbook.scrap.json+json": {
       "data": 13.117395903458819,
       "encoder": "json",
       "name": "ABC-GAN Model 3 MAE",
       "version": 1
      }
     },
     "metadata": {
      "scrapbook": {
       "data": true,
       "display": false,
       "name": "ABC-GAN Model 3 MAE"
      }
     },
     "output_type": "display_data"
    },
    {
     "data": {
      "application/scrapbook.scrap.json+json": {
       "data": 262.3479180691764,
       "encoder": "json",
       "name": "ABC-GAN Model 3 Manhattan Distance",
       "version": 1
      }
     },
     "metadata": {
      "scrapbook": {
       "data": true,
       "display": false,
       "name": "ABC-GAN Model 3 Manhattan Distance"
      }
     },
     "output_type": "display_data"
    },
    {
     "data": {
      "application/scrapbook.scrap.json+json": {
       "data": 59.75762297292457,
       "encoder": "json",
       "name": "ABC-GAN Model 3 Euclidean distance",
       "version": 1
      }
     },
     "metadata": {
      "scrapbook": {
       "data": true,
       "display": false,
       "name": "ABC-GAN Model 3 Euclidean distance"
      }
     },
     "output_type": "display_data"
    },
    {
     "data": {
      "application/scrapbook.scrap.json+json": {
       "data": [
        [
         178.2916602668302,
         175.75272208382688,
         180.35552725648643,
         177.91775572669354,
         180.4244152936571,
         178.59992087773026,
         179.3230184863849,
         175.91413282080148,
         176.6239993636837,
         177.1963454847357,
         178.84735444344142,
         181.90197898421272,
         179.88894386179032,
         178.31357373097285,
         179.90713607788135,
         179.00047773014586,
         177.26676248323372,
         180.38254150751828,
         180.50179494458186,
         176.46357234206315,
         175.4883471058838,
         180.91134275346258,
         177.3157742140153,
         176.99426898613757,
         172.4250883817318,
         180.23614325767494,
         178.7805942866252,
         178.02396653154722,
         175.59266646317207,
         180.72824248717765,
         179.54069819888977,
         177.33016089886564,
         176.23440437674722,
         176.78423107650173,
         178.5760271913012,
         174.82566760131076,
         179.33431566865798,
         177.0633399035244,
         177.05387785948506,
         181.60152392522565,
         178.7707972433669,
         177.33303249191525,
         175.71473721445457,
         178.7101373660174,
         179.62253040058772,
         177.72079171229183,
         174.9061063595718,
         178.28124171715794,
         173.66892257782973,
         180.20909239454878,
         180.83838047664491,
         179.62527478660544,
         182.16960778487672,
         174.391232444428,
         184.0057944300692,
         180.38503925168112,
         181.7278231613913,
         177.29275044538832,
         183.99104686924542,
         181.1536245984118,
         179.8727441643793,
         177.21212003031116,
         180.01749469278855,
         180.68769027341713,
         180.23333719144378,
         179.7426786532809,
         177.8379975285912,
         173.29522701334741,
         178.86348445107123,
         175.419190302601,
         179.53571563365009,
         175.8998036752579,
         176.1747920901764,
         181.8829364344296,
         180.71317815732442,
         176.12780833621832,
         175.868845259925,
         177.01126180330132,
         181.33101921158718,
         181.83015330333177,
         183.3779892666203,
         180.1205473112862,
         177.9563380759142,
         180.64254115197414,
         176.65422833366148,
         177.90278113284623,
         175.86192337184875,
         177.5408618130485,
         175.35436775472758,
         178.740543282995,
         177.5453017764692,
         180.6920497998446,
         179.1150085552513,
         179.23218364216046,
         183.22905767305218,
         176.33956926095254,
         179.42783858509543,
         179.66733437008915,
         179.3664250300581,
         179.0717879394985
        ],
        [
         13.118019741168245,
         12.975933998217807,
         13.199550932040438,
         13.086817305674776,
         13.193030326953158,
         13.092336671939119,
         13.1606887513306,
         13.034268897166475,
         13.054550712695345,
         13.086686151614412,
         13.11490780650638,
         13.258459537616,
         13.12859074412845,
         13.09145457088016,
         13.155720584979282,
         13.143208091845736,
         13.061812942614779,
         13.172577207675204,
         13.168148630252109,
         13.047333257785066,
         13.023185747256502,
         13.188005130877718,
         13.09228555499576,
         13.073045652499422,
         12.883697288623079,
         13.180293815722688,
         13.13577362834476,
         13.093357818713411,
         13.013704650988803,
         13.20995084582828,
         13.132189910998568,
         13.040186708560213,
         13.036773436656222,
         13.066247575869784,
         13.110315435519443,
         12.989417522540316,
         13.15047008334659,
         13.069776743045077,
         13.064038532366975,
         13.191671865573152,
         13.12296423255466,
         13.085794180026278,
         13.02733046351932,
         13.100098150363191,
         13.163402288546786,
         13.099017303576693,
         12.999492424121126,
         13.09891773997806,
         12.96505064307712,
         13.182219856372104,
         13.20791785060428,
         13.169091194262728,
         13.255686276545749,
         12.966213815798984,
         13.2966196232941,
         13.174921625247226,
         13.24590875445865,
         13.072405164828524,
         13.299381893267855,
         13.177162855258212,
         13.18058928786777,
         13.059154170146211,
         13.16018220721744,
         13.167615526309238,
         13.17299491702579,
         13.150826876750216,
         13.083382886042818,
         12.929724710574373,
         13.135626142611727,
         13.015774601092563,
         13.149279087176547,
         13.045112650981173,
         13.036004107585176,
         13.235433118930086,
         13.174265545001253,
         13.045101755252109,
         13.048335235705599,
         13.068130653491243,
         13.229312770953403,
         13.239955776324496,
         13.299245899310336,
         13.193479364505038,
         13.096224349131807,
         13.190153830638156,
         13.053639429202303,
         13.088824766268953,
         13.024410312762484,
         13.105941169848666,
         13.006520813098177,
         13.12674624263309,
         13.077279871096835,
         13.18259670077823,
         13.115678661456332,
         13.136341779818759,
         13.300816124072298,
         13.041930382838473,
         13.126920765032992,
         13.166569536319003,
         13.151270168414339,
         13.130117004504427
        ],
        [
         262.3603948233649,
         259.5186799643561,
         263.99101864080876,
         261.73634611349553,
         263.86060653906316,
         261.8467334387824,
         263.213775026612,
         260.6853779433295,
         261.0910142539069,
         261.73372303228825,
         262.2981561301276,
         265.16919075232,
         262.571814882569,
         261.8290914176032,
         263.1144116995856,
         262.8641618369147,
         261.2362588522956,
         263.4515441535041,
         263.36297260504216,
         260.94666515570134,
         260.46371494513005,
         263.76010261755437,
         261.8457110999152,
         261.46091304998845,
         257.6739457724616,
         263.6058763144538,
         262.7154725668952,
         261.86715637426823,
         260.27409301977605,
         264.1990169165656,
         262.64379821997136,
         260.80373417120427,
         260.73546873312443,
         261.3249515173957,
         262.20630871038884,
         259.7883504508063,
         263.0094016669318,
         261.39553486090153,
         261.2807706473395,
         263.83343731146306,
         262.4592846510932,
         261.71588360052556,
         260.5466092703864,
         262.00196300726384,
         263.2680457709357,
         261.98034607153386,
         259.98984848242253,
         261.9783547995612,
         259.3010128615424,
         263.64439712744206,
         264.1583570120856,
         263.38182388525456,
         265.11372553091496,
         259.32427631597966,
         265.932392465882,
         263.4984325049445,
         264.918175089173,
         261.4481032965705,
         265.9876378653571,
         263.54325710516423,
         263.6117857573554,
         261.18308340292424,
         263.2036441443488,
         263.35231052618474,
         263.4598983405158,
         263.0165375350043,
         261.66765772085637,
         258.5944942114875,
         262.71252285223454,
         260.31549202185124,
         262.98558174353093,
         260.90225301962346,
         260.72008215170354,
         264.70866237860173,
         263.48531090002507,
         260.90203510504216,
         260.966704714112,
         261.3626130698249,
         264.58625541906804,
         264.7991155264899,
         265.9849179862067,
         263.86958729010075,
         261.92448698263615,
         263.8030766127631,
         261.07278858404607,
         261.7764953253791,
         260.4882062552497,
         262.1188233969733,
         260.13041626196355,
         262.5349248526618,
         261.5455974219367,
         263.6519340155646,
         262.31357322912663,
         262.72683559637517,
         266.01632248144597,
         260.83860765676945,
         262.53841530065984,
         263.33139072638005,
         263.0254033682868,
         262.60234009008855
        ],
        [
         59.71459792493461,
         59.28789456268908,
         60.05922531243413,
         59.651949796581434,
         60.07069423498569,
         59.76619795130526,
         59.88706345887815,
         59.31511322096612,
         59.43466990968885,
         59.530890382176494,
         59.807583874194655,
         60.31616350269847,
         59.98148778778171,
         59.718267511871574,
         59.98452068290307,
         59.83318105034127,
         59.54271785587784,
         60.063723079329385,
         60.083574285254,
         59.407671616056994,
         59.24328605097522,
         60.1516986881439,
         59.550948642992296,
         59.49693588515925,
         58.72394543654774,
         60.0393443098232,
         59.79642034212837,
         59.66975222531886,
         59.26089207279487,
         60.12125123235172,
         59.92340080450872,
         59.55336445556466,
         59.3690836002624,
         59.461623098684704,
         59.76219995805061,
         59.1313229348559,
         59.88894984363275,
         59.50854390816909,
         59.50695385574446,
         60.26632955892131,
         59.79478192005836,
         59.55384664182747,
         59.2814873656953,
         59.78463638193635,
         59.937055383224774,
         59.618921780302585,
         59.144924779658275,
         59.71285317536885,
         58.93537521350479,
         60.03483861801392,
         60.13956775312655,
         59.93751325949475,
         60.36051818612506,
         59.05780768779485,
         60.66395872840301,
         60.06413892693062,
         60.28728276533804,
         59.5470822871093,
         60.661527654559684,
         60.191963682606634,
         59.97878694411539,
         59.53354013164531,
         60.002915711286654,
         60.114505782451076,
         60.03887693677219,
         59.95709777053604,
         59.63857770413228,
         58.87193338312364,
         59.81028079704545,
         59.23161154360077,
         59.922569309676646,
         59.31269740540518,
         59.359041786433245,
         60.31300629788398,
         60.118745522062326,
         59.35112607798075,
         59.3074776499431,
         59.49979189935059,
         60.22142794912575,
         60.304254129096364,
         60.56038131759414,
         60.02008785586476,
         59.658417356801245,
         60.106994792948036,
         59.43975577568627,
         59.64943941611626,
         59.306310519513644,
         59.58873413876964,
         59.22066662149753,
         59.78972207378037,
         59.58947923525916,
         60.11523098181435,
         59.85231968023484,
         59.87189384714008,
         60.535784074058576,
         59.386794704033754,
         59.904563863715,
         59.94453008742152,
         59.89431108712381,
         59.84509803475946
        ]
       ],
       "encoder": "json",
       "name": "ABC_GAN_3 Metrics",
       "version": 1
      }
     },
     "metadata": {
      "scrapbook": {
       "data": true,
       "display": false,
       "name": "ABC_GAN_3 Metrics"
      }
     },
     "output_type": "display_data"
    },
    {
     "name": "stdout",
     "output_type": "stream",
     "text": [
      "MSE\n",
      "178.5562843499492\n"
     ]
    }
   ],
   "source": [
    "ABC_GAN3_metrics=ABC_train_test2.test_generator(gen3,test_data,prior_model,variance,bias,\"3\",device)\n",
    "sb.glue(\"ABC_GAN_3 Metrics\",ABC_GAN3_metrics)\n",
    "\n",
    "print(\"MSE\")\n",
    "print(mean(ABC_GAN3_metrics[0]))"
   ]
  },
  {
   "cell_type": "code",
   "execution_count": 18,
   "id": "c8e46b48",
   "metadata": {
    "execution": {
     "iopub.execute_input": "2022-06-22T12:51:28.795328Z",
     "iopub.status.busy": "2022-06-22T12:51:28.792582Z",
     "iopub.status.idle": "2022-06-22T12:51:29.894112Z",
     "shell.execute_reply": "2022-06-22T12:51:29.895101Z"
    },
    "id": "c8e46b48",
    "papermill": {
     "duration": 1.236048,
     "end_time": "2022-06-22T12:51:29.895351",
     "exception": false,
     "start_time": "2022-06-22T12:51:28.659303",
     "status": "completed"
    },
    "tags": []
   },
   "outputs": [
    {
     "data": {
      "image/png": "[encoded data removed]",
      "text/plain": [
       "<Figure size 432x288 with 1 Axes>"
      ]
     },
     "metadata": {
      "needs_background": "light"
     },
     "output_type": "display_data"
    },
    {
     "data": {
      "image/png": "[encoded data removed]",
      "text/plain": [
       "<Figure size 432x288 with 1 Axes>"
      ]
     },
     "metadata": {
      "needs_background": "light"
     },
     "output_type": "display_data"
    },
    {
     "data": {
      "image/png": "[encoded data removed]",
      "text/plain": [
       "<Figure size 432x288 with 1 Axes>"
      ]
     },
     "metadata": {
      "needs_background": "light"
     },
     "output_type": "display_data"
    },
    {
     "data": {
      "image/png": "[encoded data removed]",
      "text/plain": [
       "<Figure size 432x288 with 1 Axes>"
      ]
     },
     "metadata": {
      "needs_background": "light"
     },
     "output_type": "display_data"
    }
   ],
   "source": [
    "sanityChecks.discProbVsError(train_data,disc3,device)\n",
    "sanityChecks.discProbVsError(test_data,disc3,device)"
   ]
  },
  {
   "cell_type": "markdown",
   "id": "a5bd74c3",
   "metadata": {
    "id": "a5bd74c3",
    "papermill": {
     "duration": 0.082578,
     "end_time": "2022-06-22T12:51:30.034035",
     "exception": false,
     "start_time": "2022-06-22T12:51:29.951457",
     "status": "completed"
    },
    "tags": []
   },
   "source": [
    "## Skip Connection Model Analysis - ABC-GAN "
   ]
  },
  {
   "cell_type": "markdown",
   "id": "5744a8bf",
   "metadata": {
    "id": "5744a8bf",
    "papermill": {
     "duration": 0.145099,
     "end_time": "2022-06-22T12:51:30.284355",
     "exception": false,
     "start_time": "2022-06-22T12:51:30.139256",
     "status": "completed"
    },
    "tags": []
   },
   "source": [
    "### Weight Analysis \n",
    "\n",
    "Study the weights of the skip connection layer\n",
    "\n",
    "Equation of the skip connection is \n",
    "\n",
    "$output = y_{gan} * w + y_{abc} * (1-w)$"
   ]
  },
  {
   "cell_type": "code",
   "execution_count": 19,
   "id": "52c31dea",
   "metadata": {
    "execution": {
     "iopub.execute_input": "2022-06-22T12:51:30.912318Z",
     "iopub.status.busy": "2022-06-22T12:51:30.892428Z",
     "iopub.status.idle": "2022-06-22T12:51:30.925673Z",
     "shell.execute_reply": "2022-06-22T12:51:30.900496Z"
    },
    "id": "52c31dea",
    "papermill": {
     "duration": 0.357122,
     "end_time": "2022-06-22T12:51:30.926028",
     "exception": false,
     "start_time": "2022-06-22T12:51:30.568906",
     "status": "completed"
    },
    "tags": []
   },
   "outputs": [
    {
     "name": "stdout",
     "output_type": "stream",
     "text": [
      "Weight of the node at skip connection\n",
      "Parameter containing:\n",
      "tensor([[0.0512]], requires_grad=True)\n"
     ]
    },
    {
     "data": {
      "application/scrapbook.scrap.json+json": {
       "data": 0.051207736134529114,
       "encoder": "json",
       "name": "Skip Connection Weight",
       "version": 1
      }
     },
     "metadata": {
      "scrapbook": {
       "data": true,
       "display": false,
       "name": "Skip Connection Weight"
      }
     },
     "output_type": "display_data"
    }
   ],
   "source": [
    "print(\"Weight of the node at skip connection\")\n",
    "for name,param in gen3.named_parameters():\n",
    "    if(name == \"skipNode.weight\"):\n",
    "        print(param)\n",
    "        sb.glue(\"Skip Connection Weight\",param.item())"
   ]
  }
 ],
 "metadata": {
  "colab": {
   "collapsed_sections": [],
   "name": "ABC_GAN_Model-Catboost_Pre-gen.ipynb",
   "provenance": []
  },
  "interpreter": {
   "hash": "31f2aee4e71d21fbe5cf8b01ff0e069b9275f58929596ceb00d14d90e3e16cd6"
  },
  "kernelspec": {
   "display_name": "Python 3 (ipykernel)",
   "language": "python",
   "name": "python3"
  },
  "language_info": {
   "codemirror_mode": {
    "name": "ipython",
    "version": 3
   },
   "file_extension": ".py",
   "mimetype": "text/x-python",
   "name": "python",
   "nbconvert_exporter": "python",
   "pygments_lexer": "ipython3",
   "version": "3.8.3"
  },
  "papermill": {
   "default_parameters": {},
   "duration": 156.546895,
   "end_time": "2022-06-22T12:51:31.845317",
   "environment_variables": {},
   "exception": null,
   "input_path": "ABC_GAN-TabNet.ipynb",
   "output_path": "./ABC_GAN_TabNet/ABC-GAN_output_3_10.ipynb",
   "parameters": {
    "bias": 0,
    "variance": 0.1
   },
   "start_time": "2022-06-22T12:48:55.298422",
   "version": "2.3.3"
  }
 },
 "nbformat": 4,
 "nbformat_minor": 5
}