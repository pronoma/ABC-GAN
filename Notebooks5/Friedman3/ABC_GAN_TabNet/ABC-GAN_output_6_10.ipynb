{
 "cells": [
  {
   "cell_type": "markdown",
   "id": "622780e6",
   "metadata": {
    "id": "622780e6",
    "papermill": {
     "duration": 0.047854,
     "end_time": "2022-06-22T14:38:05.808583",
     "exception": false,
     "start_time": "2022-06-22T14:38:05.760729",
     "status": "completed"
    },
    "tags": []
   },
   "source": [
    "## Import Libraries "
   ]
  },
  {
   "cell_type": "code",
   "execution_count": 1,
   "id": "a62397e3",
   "metadata": {
    "execution": {
     "iopub.execute_input": "2022-06-22T14:38:05.897544Z",
     "iopub.status.busy": "2022-06-22T14:38:05.896483Z",
     "iopub.status.idle": "2022-06-22T14:38:05.903082Z",
     "shell.execute_reply": "2022-06-22T14:38:05.903691Z"
    },
    "id": "a62397e3",
    "papermill": {
     "duration": 0.046818,
     "end_time": "2022-06-22T14:38:05.904685",
     "exception": false,
     "start_time": "2022-06-22T14:38:05.857867",
     "status": "completed"
    },
    "tags": []
   },
   "outputs": [],
   "source": [
    "import warnings\n",
    "import sys\n",
    "sys.path.insert(0, '../../src')\n",
    "warnings.filterwarnings('ignore')"
   ]
  },
  {
   "cell_type": "code",
   "execution_count": 2,
   "id": "d6a4e155",
   "metadata": {
    "execution": {
     "iopub.execute_input": "2022-06-22T14:38:05.948318Z",
     "iopub.status.busy": "2022-06-22T14:38:05.946929Z",
     "iopub.status.idle": "2022-06-22T14:38:12.713502Z",
     "shell.execute_reply": "2022-06-22T14:38:12.714916Z"
    },
    "id": "d6a4e155",
    "papermill": {
     "duration": 6.789643,
     "end_time": "2022-06-22T14:38:12.715358",
     "exception": false,
     "start_time": "2022-06-22T14:38:05.925715",
     "status": "completed"
    },
    "tags": []
   },
   "outputs": [],
   "source": [
    "import ABC_train_test2\n",
    "import friedman3Dataset\n",
    "import network\n",
    "import dataset\n",
    "import sanityChecks\n",
    "import torch \n",
    "import scrapbook as sb\n",
    "from statistics import mean \n",
    "import catboost as ctb \n",
    "from sklearn.model_selection import train_test_split\n",
    "from sklearn.metrics import mean_squared_error,mean_absolute_error\n",
    "import numpy as np\n",
    "from pytorch_tabnet.tab_model import TabNetRegressor"
   ]
  },
  {
   "cell_type": "markdown",
   "id": "2fa5b0f7",
   "metadata": {
    "id": "2fa5b0f7",
    "papermill": {
     "duration": 0.040001,
     "end_time": "2022-06-22T14:38:12.775308",
     "exception": false,
     "start_time": "2022-06-22T14:38:12.735307",
     "status": "completed"
    },
    "tags": []
   },
   "source": [
    "## Parameters "
   ]
  },
  {
   "cell_type": "code",
   "execution_count": 3,
   "id": "783186fb",
   "metadata": {
    "execution": {
     "iopub.execute_input": "2022-06-22T14:38:12.847047Z",
     "iopub.status.busy": "2022-06-22T14:38:12.846061Z",
     "iopub.status.idle": "2022-06-22T14:38:12.851407Z",
     "shell.execute_reply": "2022-06-22T14:38:12.852371Z"
    },
    "id": "783186fb",
    "papermill": {
     "duration": 0.044585,
     "end_time": "2022-06-22T14:38:12.852604",
     "exception": false,
     "start_time": "2022-06-22T14:38:12.808019",
     "status": "completed"
    },
    "tags": [
     "parameters"
    ]
   },
   "outputs": [],
   "source": [
    "variance = 1\n",
    "bias = 1 "
   ]
  },
  {
   "cell_type": "code",
   "execution_count": 4,
   "id": "95e5db40",
   "metadata": {
    "execution": {
     "iopub.execute_input": "2022-06-22T14:38:12.935672Z",
     "iopub.status.busy": "2022-06-22T14:38:12.931464Z",
     "iopub.status.idle": "2022-06-22T14:38:12.936977Z",
     "shell.execute_reply": "2022-06-22T14:38:12.936389Z"
    },
    "papermill": {
     "duration": 0.063079,
     "end_time": "2022-06-22T14:38:12.937179",
     "exception": false,
     "start_time": "2022-06-22T14:38:12.874100",
     "status": "completed"
    },
    "tags": [
     "injected-parameters"
    ]
   },
   "outputs": [],
   "source": [
    "# Parameters\n",
    "variance = 0.1\n",
    "bias = 0\n"
   ]
  },
  {
   "cell_type": "markdown",
   "id": "391cdbfd",
   "metadata": {
    "id": "391cdbfd",
    "papermill": {
     "duration": 0.051924,
     "end_time": "2022-06-22T14:38:13.046652",
     "exception": false,
     "start_time": "2022-06-22T14:38:12.994728",
     "status": "completed"
    },
    "tags": []
   },
   "source": [
    "## Dataset \n"
   ]
  },
  {
   "cell_type": "code",
   "execution_count": 5,
   "id": "5b51f161",
   "metadata": {
    "execution": {
     "iopub.execute_input": "2022-06-22T14:38:13.114677Z",
     "iopub.status.busy": "2022-06-22T14:38:13.111914Z",
     "iopub.status.idle": "2022-06-22T14:38:13.116288Z",
     "shell.execute_reply": "2022-06-22T14:38:13.117305Z"
    },
    "id": "5b51f161",
    "papermill": {
     "duration": 0.044707,
     "end_time": "2022-06-22T14:38:13.117624",
     "exception": false,
     "start_time": "2022-06-22T14:38:13.072917",
     "status": "completed"
    },
    "tags": []
   },
   "outputs": [],
   "source": [
    "#Parameters \n",
    "n_features = 4\n",
    "n_samples= 100\n",
    "n_target = 1"
   ]
  },
  {
   "cell_type": "code",
   "execution_count": 6,
   "id": "5d6eced4",
   "metadata": {
    "execution": {
     "iopub.execute_input": "2022-06-22T14:38:13.202723Z",
     "iopub.status.busy": "2022-06-22T14:38:13.201915Z",
     "iopub.status.idle": "2022-06-22T14:38:13.227073Z",
     "shell.execute_reply": "2022-06-22T14:38:13.226424Z"
    },
    "id": "5d6eced4",
    "papermill": {
     "duration": 0.084253,
     "end_time": "2022-06-22T14:38:13.227280",
     "exception": false,
     "start_time": "2022-06-22T14:38:13.143027",
     "status": "completed"
    },
    "tags": []
   },
   "outputs": [
    {
     "name": "stdout",
     "output_type": "stream",
     "text": [
      "          X1           X2        X3         X4         Y\n",
      "0  61.885728   339.795101  0.580300   6.577087  1.274331\n",
      "1  45.776138   262.255082  0.612069   4.443122  1.306073\n",
      "2  94.798006  1371.723758  0.456690  10.547258  1.356739\n",
      "3  30.830859  1687.056833  0.106011   9.175558  1.440312\n",
      "4  29.347002  1218.242062  0.794505   4.917131  1.419988\n"
     ]
    }
   ],
   "source": [
    "X,Y = friedman3Dataset.friedman3_data(n_samples)"
   ]
  },
  {
   "cell_type": "code",
   "execution_count": 7,
   "id": "fe007438",
   "metadata": {
    "execution": {
     "iopub.execute_input": "2022-06-22T14:38:13.323479Z",
     "iopub.status.busy": "2022-06-22T14:38:13.320219Z",
     "iopub.status.idle": "2022-06-22T14:38:13.324547Z",
     "shell.execute_reply": "2022-06-22T14:38:13.321397Z"
    },
    "id": "fe007438",
    "papermill": {
     "duration": 0.070615,
     "end_time": "2022-06-22T14:38:13.325004",
     "exception": false,
     "start_time": "2022-06-22T14:38:13.254389",
     "status": "completed"
    },
    "tags": []
   },
   "outputs": [],
   "source": [
    "#Train test split for dataset \n",
    "X_train,X_test,Y_train,Y_test = train_test_split(X,Y,test_size = 0.2)\n",
    "train_data = dataset.CustomDataset(X_train,Y_train)\n",
    "test_data = dataset.CustomDataset(X_test,Y_test)\n"
   ]
  },
  {
   "cell_type": "markdown",
   "id": "a9a1af34",
   "metadata": {
    "id": "a9a1af34",
    "papermill": {
     "duration": 0.053837,
     "end_time": "2022-06-22T14:38:13.415300",
     "exception": false,
     "start_time": "2022-06-22T14:38:13.361463",
     "status": "completed"
    },
    "tags": []
   },
   "source": [
    "## Training Parameters "
   ]
  },
  {
   "cell_type": "code",
   "execution_count": 8,
   "id": "952b7fc8",
   "metadata": {
    "execution": {
     "iopub.execute_input": "2022-06-22T14:38:13.496383Z",
     "iopub.status.busy": "2022-06-22T14:38:13.495195Z",
     "iopub.status.idle": "2022-06-22T14:38:13.497263Z",
     "shell.execute_reply": "2022-06-22T14:38:13.497707Z"
    },
    "id": "952b7fc8",
    "papermill": {
     "duration": 0.041777,
     "end_time": "2022-06-22T14:38:13.497932",
     "exception": false,
     "start_time": "2022-06-22T14:38:13.456155",
     "status": "completed"
    },
    "tags": []
   },
   "outputs": [],
   "source": [
    "batch_size = 32\n",
    "n_epochs = 1000\n",
    "#Select the device \n",
    "device = torch.device('cuda' if torch.cuda.is_available() else 'cpu')"
   ]
  },
  {
   "cell_type": "markdown",
   "id": "a95e1600",
   "metadata": {
    "id": "a95e1600",
    "papermill": {
     "duration": 0.031196,
     "end_time": "2022-06-22T14:38:13.562615",
     "exception": false,
     "start_time": "2022-06-22T14:38:13.531419",
     "status": "completed"
    },
    "tags": []
   },
   "source": [
    "# ABC Pre-generator Model \n",
    "\n",
    "1. The catboost model is used as a pre-generator model for the ABC-GAN. \n",
    "2. The model is first trained on the entire dataset \n",
    "3. It generats X,Y pairs and we add some Gaussian noise with mean 0 and variance 1 to it which is then feed as input to the generator.\n"
   ]
  },
  {
   "cell_type": "code",
   "execution_count": 9,
   "id": "ff8ce7bd",
   "metadata": {
    "execution": {
     "iopub.execute_input": "2022-06-22T14:38:13.612725Z",
     "iopub.status.busy": "2022-06-22T14:38:13.611834Z",
     "iopub.status.idle": "2022-06-22T14:38:39.084443Z",
     "shell.execute_reply": "2022-06-22T14:38:39.084900Z"
    },
    "id": "ff8ce7bd",
    "papermill": {
     "duration": 25.498883,
     "end_time": "2022-06-22T14:38:39.085138",
     "exception": false,
     "start_time": "2022-06-22T14:38:13.586255",
     "status": "completed"
    },
    "tags": []
   },
   "outputs": [
    {
     "name": "stdout",
     "output_type": "stream",
     "text": [
      "Device used : cpu\n"
     ]
    },
    {
     "name": "stdout",
     "output_type": "stream",
     "text": [
      "epoch 0  | loss: 1.22369 | train_mse: 2.3225  | train_mae: 1.15555 |  0:00:00s\n",
      "epoch 1  | loss: 0.90072 | train_mse: 1.78518 | train_mae: 1.04599 |  0:00:00s\n"
     ]
    },
    {
     "name": "stdout",
     "output_type": "stream",
     "text": [
      "epoch 2  | loss: 0.77221 | train_mse: 1.92071 | train_mae: 1.01621 |  0:00:00s\n",
      "epoch 3  | loss: 0.7228  | train_mse: 2.13636 | train_mae: 1.01377 |  0:00:00s\n"
     ]
    },
    {
     "name": "stdout",
     "output_type": "stream",
     "text": [
      "epoch 4  | loss: 0.67479 | train_mse: 1.35773 | train_mae: 0.89499 |  0:00:00s\n",
      "epoch 5  | loss: 0.69735 | train_mse: 1.86304 | train_mae: 1.05433 |  0:00:01s\n"
     ]
    },
    {
     "name": "stdout",
     "output_type": "stream",
     "text": [
      "epoch 6  | loss: 0.73541 | train_mse: 1.6617  | train_mae: 1.02792 |  0:00:01s\n"
     ]
    },
    {
     "name": "stdout",
     "output_type": "stream",
     "text": [
      "epoch 7  | loss: 0.50156 | train_mse: 1.27597 | train_mae: 0.89233 |  0:00:01s\n",
      "epoch 8  | loss: 0.43352 | train_mse: 0.96303 | train_mae: 0.74725 |  0:00:01s\n"
     ]
    },
    {
     "name": "stdout",
     "output_type": "stream",
     "text": [
      "epoch 9  | loss: 0.54272 | train_mse: 0.70255 | train_mae: 0.63118 |  0:00:01s\n",
      "epoch 10 | loss: 0.50841 | train_mse: 0.80216 | train_mae: 0.62923 |  0:00:01s\n"
     ]
    },
    {
     "name": "stdout",
     "output_type": "stream",
     "text": [
      "epoch 11 | loss: 0.46123 | train_mse: 0.85885 | train_mae: 0.66813 |  0:00:02s\n",
      "epoch 12 | loss: 0.51961 | train_mse: 0.77635 | train_mae: 0.62772 |  0:00:02s\n"
     ]
    },
    {
     "name": "stdout",
     "output_type": "stream",
     "text": [
      "epoch 13 | loss: 0.42495 | train_mse: 0.61768 | train_mae: 0.57241 |  0:00:02s\n",
      "epoch 14 | loss: 0.46796 | train_mse: 0.59736 | train_mae: 0.56035 |  0:00:02s\n"
     ]
    },
    {
     "name": "stdout",
     "output_type": "stream",
     "text": [
      "epoch 15 | loss: 0.35905 | train_mse: 0.54512 | train_mae: 0.52551 |  0:00:02s\n",
      "epoch 16 | loss: 0.43755 | train_mse: 0.47263 | train_mae: 0.49926 |  0:00:02s\n"
     ]
    },
    {
     "name": "stdout",
     "output_type": "stream",
     "text": [
      "epoch 17 | loss: 0.43508 | train_mse: 0.4363  | train_mae: 0.49705 |  0:00:02s\n"
     ]
    },
    {
     "name": "stdout",
     "output_type": "stream",
     "text": [
      "epoch 18 | loss: 0.35832 | train_mse: 0.50174 | train_mae: 0.54085 |  0:00:03s\n",
      "epoch 19 | loss: 0.27469 | train_mse: 0.48508 | train_mae: 0.54031 |  0:00:03s\n"
     ]
    },
    {
     "name": "stdout",
     "output_type": "stream",
     "text": [
      "epoch 20 | loss: 0.40697 | train_mse: 0.49218 | train_mae: 0.52777 |  0:00:03s\n",
      "epoch 21 | loss: 0.30243 | train_mse: 0.40086 | train_mae: 0.47864 |  0:00:03s\n"
     ]
    },
    {
     "name": "stdout",
     "output_type": "stream",
     "text": [
      "epoch 22 | loss: 0.57108 | train_mse: 0.39778 | train_mae: 0.48431 |  0:00:03s\n",
      "epoch 23 | loss: 0.27004 | train_mse: 0.37784 | train_mae: 0.46981 |  0:00:03s\n"
     ]
    },
    {
     "name": "stdout",
     "output_type": "stream",
     "text": [
      "epoch 24 | loss: 0.39914 | train_mse: 0.34398 | train_mae: 0.42871 |  0:00:04s\n",
      "epoch 25 | loss: 0.29995 | train_mse: 0.31184 | train_mae: 0.41312 |  0:00:04s\n"
     ]
    },
    {
     "name": "stdout",
     "output_type": "stream",
     "text": [
      "epoch 26 | loss: 0.28302 | train_mse: 0.28628 | train_mae: 0.40685 |  0:00:04s\n",
      "epoch 27 | loss: 0.25451 | train_mse: 0.25396 | train_mae: 0.382   |  0:00:04s\n"
     ]
    },
    {
     "name": "stdout",
     "output_type": "stream",
     "text": [
      "epoch 28 | loss: 0.28095 | train_mse: 0.25064 | train_mae: 0.37729 |  0:00:04s\n",
      "epoch 29 | loss: 0.47725 | train_mse: 0.31923 | train_mae: 0.42691 |  0:00:04s\n"
     ]
    },
    {
     "name": "stdout",
     "output_type": "stream",
     "text": [
      "epoch 30 | loss: 0.31498 | train_mse: 0.4049  | train_mae: 0.47951 |  0:00:04s\n",
      "epoch 31 | loss: 0.32596 | train_mse: 0.46191 | train_mae: 0.49854 |  0:00:04s\n"
     ]
    },
    {
     "name": "stdout",
     "output_type": "stream",
     "text": [
      "epoch 32 | loss: 0.21983 | train_mse: 0.43438 | train_mae: 0.47618 |  0:00:05s\n",
      "epoch 33 | loss: 0.52012 | train_mse: 0.34504 | train_mae: 0.43111 |  0:00:05s\n"
     ]
    },
    {
     "name": "stdout",
     "output_type": "stream",
     "text": [
      "epoch 34 | loss: 0.2912  | train_mse: 0.25221 | train_mae: 0.39069 |  0:00:05s\n",
      "epoch 35 | loss: 0.19965 | train_mse: 0.25299 | train_mae: 0.38546 |  0:00:05s\n"
     ]
    },
    {
     "name": "stdout",
     "output_type": "stream",
     "text": [
      "epoch 36 | loss: 0.23629 | train_mse: 0.27046 | train_mae: 0.38142 |  0:00:05s\n"
     ]
    },
    {
     "name": "stdout",
     "output_type": "stream",
     "text": [
      "epoch 37 | loss: 0.19374 | train_mse: 0.29307 | train_mae: 0.38478 |  0:00:05s\n",
      "epoch 38 | loss: 0.30569 | train_mse: 0.24925 | train_mae: 0.37555 |  0:00:05s\n"
     ]
    },
    {
     "name": "stdout",
     "output_type": "stream",
     "text": [
      "epoch 39 | loss: 0.39233 | train_mse: 0.23477 | train_mae: 0.36735 |  0:00:06s\n",
      "epoch 40 | loss: 0.25711 | train_mse: 0.21756 | train_mae: 0.34408 |  0:00:06s\n"
     ]
    },
    {
     "name": "stdout",
     "output_type": "stream",
     "text": [
      "epoch 41 | loss: 0.22931 | train_mse: 0.22092 | train_mae: 0.3412  |  0:00:06s\n",
      "epoch 42 | loss: 0.20063 | train_mse: 0.21373 | train_mae: 0.34363 |  0:00:06s\n"
     ]
    },
    {
     "name": "stdout",
     "output_type": "stream",
     "text": [
      "epoch 43 | loss: 0.31625 | train_mse: 0.21914 | train_mae: 0.36847 |  0:00:06s\n",
      "epoch 44 | loss: 0.27238 | train_mse: 0.24052 | train_mae: 0.39139 |  0:00:06s\n"
     ]
    },
    {
     "name": "stdout",
     "output_type": "stream",
     "text": [
      "epoch 45 | loss: 0.30605 | train_mse: 0.32803 | train_mae: 0.42391 |  0:00:06s\n",
      "epoch 46 | loss: 0.25125 | train_mse: 0.3853  | train_mae: 0.40869 |  0:00:06s\n"
     ]
    },
    {
     "name": "stdout",
     "output_type": "stream",
     "text": [
      "epoch 47 | loss: 0.31811 | train_mse: 0.32963 | train_mae: 0.38042 |  0:00:07s\n",
      "epoch 48 | loss: 0.26232 | train_mse: 0.3415  | train_mae: 0.39396 |  0:00:07s\n"
     ]
    },
    {
     "name": "stdout",
     "output_type": "stream",
     "text": [
      "epoch 49 | loss: 0.34215 | train_mse: 0.31712 | train_mae: 0.38672 |  0:00:07s\n",
      "epoch 50 | loss: 0.25651 | train_mse: 0.32918 | train_mae: 0.40466 |  0:00:07s\n"
     ]
    },
    {
     "name": "stdout",
     "output_type": "stream",
     "text": [
      "epoch 51 | loss: 0.29765 | train_mse: 0.31441 | train_mae: 0.3979  |  0:00:07s\n",
      "epoch 52 | loss: 0.29652 | train_mse: 0.25745 | train_mae: 0.35853 |  0:00:07s\n"
     ]
    },
    {
     "name": "stdout",
     "output_type": "stream",
     "text": [
      "epoch 53 | loss: 0.28569 | train_mse: 0.23852 | train_mae: 0.34547 |  0:00:07s\n",
      "epoch 54 | loss: 0.24809 | train_mse: 0.21563 | train_mae: 0.33493 |  0:00:07s\n"
     ]
    },
    {
     "name": "stdout",
     "output_type": "stream",
     "text": [
      "epoch 55 | loss: 0.3286  | train_mse: 0.23637 | train_mae: 0.36412 |  0:00:08s\n",
      "epoch 56 | loss: 0.23977 | train_mse: 0.26006 | train_mae: 0.38273 |  0:00:08s\n"
     ]
    },
    {
     "name": "stdout",
     "output_type": "stream",
     "text": [
      "epoch 57 | loss: 0.31207 | train_mse: 0.25709 | train_mae: 0.3792  |  0:00:08s\n"
     ]
    },
    {
     "name": "stdout",
     "output_type": "stream",
     "text": [
      "epoch 58 | loss: 0.34549 | train_mse: 0.23037 | train_mae: 0.34542 |  0:00:08s\n",
      "epoch 59 | loss: 0.31857 | train_mse: 0.21629 | train_mae: 0.33996 |  0:00:08s\n"
     ]
    },
    {
     "name": "stdout",
     "output_type": "stream",
     "text": [
      "epoch 60 | loss: 0.35858 | train_mse: 0.20117 | train_mae: 0.32657 |  0:00:08s\n",
      "epoch 61 | loss: 0.33957 | train_mse: 0.20098 | train_mae: 0.32906 |  0:00:08s\n"
     ]
    },
    {
     "name": "stdout",
     "output_type": "stream",
     "text": [
      "epoch 62 | loss: 0.26486 | train_mse: 0.21043 | train_mae: 0.33426 |  0:00:09s\n",
      "epoch 63 | loss: 0.273   | train_mse: 0.20807 | train_mae: 0.31709 |  0:00:09s\n"
     ]
    },
    {
     "name": "stdout",
     "output_type": "stream",
     "text": [
      "epoch 64 | loss: 0.22598 | train_mse: 0.21546 | train_mae: 0.3438  |  0:00:09s\n",
      "epoch 65 | loss: 0.25971 | train_mse: 0.18752 | train_mae: 0.33029 |  0:00:09s\n"
     ]
    },
    {
     "name": "stdout",
     "output_type": "stream",
     "text": [
      "epoch 66 | loss: 0.27526 | train_mse: 0.17013 | train_mae: 0.30026 |  0:00:09s\n",
      "epoch 67 | loss: 0.20241 | train_mse: 0.16227 | train_mae: 0.26921 |  0:00:09s\n"
     ]
    },
    {
     "name": "stdout",
     "output_type": "stream",
     "text": [
      "epoch 68 | loss: 0.23825 | train_mse: 0.17312 | train_mae: 0.27024 |  0:00:09s\n",
      "epoch 69 | loss: 0.30158 | train_mse: 0.16239 | train_mae: 0.26838 |  0:00:10s\n"
     ]
    },
    {
     "name": "stdout",
     "output_type": "stream",
     "text": [
      "epoch 70 | loss: 0.31432 | train_mse: 0.28205 | train_mae: 0.35877 |  0:00:10s\n",
      "epoch 71 | loss: 0.3685  | train_mse: 0.25438 | train_mae: 0.33324 |  0:00:10s\n"
     ]
    },
    {
     "name": "stdout",
     "output_type": "stream",
     "text": [
      "epoch 72 | loss: 0.47832 | train_mse: 0.1963  | train_mae: 0.29407 |  0:00:10s\n",
      "epoch 73 | loss: 0.32699 | train_mse: 0.17877 | train_mae: 0.2803  |  0:00:10s\n"
     ]
    },
    {
     "name": "stdout",
     "output_type": "stream",
     "text": [
      "epoch 74 | loss: 0.30032 | train_mse: 0.19171 | train_mae: 0.30959 |  0:00:10s\n",
      "epoch 75 | loss: 0.28648 | train_mse: 0.24805 | train_mae: 0.34029 |  0:00:10s\n"
     ]
    },
    {
     "name": "stdout",
     "output_type": "stream",
     "text": [
      "epoch 76 | loss: 0.36646 | train_mse: 0.31719 | train_mae: 0.38246 |  0:00:11s\n",
      "epoch 77 | loss: 0.39548 | train_mse: 0.25091 | train_mae: 0.35097 |  0:00:11s\n"
     ]
    },
    {
     "name": "stdout",
     "output_type": "stream",
     "text": [
      "epoch 78 | loss: 0.30665 | train_mse: 0.16964 | train_mae: 0.30478 |  0:00:11s\n",
      "epoch 79 | loss: 0.20081 | train_mse: 0.19483 | train_mae: 0.31901 |  0:00:11s\n"
     ]
    },
    {
     "name": "stdout",
     "output_type": "stream",
     "text": [
      "epoch 80 | loss: 0.30016 | train_mse: 0.27597 | train_mae: 0.34855 |  0:00:11s\n",
      "epoch 81 | loss: 0.28632 | train_mse: 0.26042 | train_mae: 0.33942 |  0:00:11s\n"
     ]
    },
    {
     "name": "stdout",
     "output_type": "stream",
     "text": [
      "epoch 82 | loss: 0.24064 | train_mse: 0.22628 | train_mae: 0.31955 |  0:00:11s\n",
      "epoch 83 | loss: 0.25849 | train_mse: 0.20098 | train_mae: 0.30933 |  0:00:11s\n"
     ]
    },
    {
     "name": "stdout",
     "output_type": "stream",
     "text": [
      "epoch 84 | loss: 0.21827 | train_mse: 0.1933  | train_mae: 0.31055 |  0:00:12s\n",
      "epoch 85 | loss: 0.21921 | train_mse: 0.22955 | train_mae: 0.33227 |  0:00:12s\n"
     ]
    },
    {
     "name": "stdout",
     "output_type": "stream",
     "text": [
      "epoch 86 | loss: 0.30209 | train_mse: 0.18162 | train_mae: 0.30339 |  0:00:12s\n",
      "epoch 87 | loss: 0.19213 | train_mse: 0.13586 | train_mae: 0.26435 |  0:00:12s\n"
     ]
    },
    {
     "name": "stdout",
     "output_type": "stream",
     "text": [
      "epoch 88 | loss: 0.28233 | train_mse: 0.13439 | train_mae: 0.25483 |  0:00:12s\n",
      "epoch 89 | loss: 0.25796 | train_mse: 0.18874 | train_mae: 0.3037  |  0:00:12s\n"
     ]
    },
    {
     "name": "stdout",
     "output_type": "stream",
     "text": [
      "epoch 90 | loss: 0.19943 | train_mse: 0.20086 | train_mae: 0.31594 |  0:00:12s\n",
      "epoch 91 | loss: 0.23126 | train_mse: 0.17945 | train_mae: 0.30071 |  0:00:12s\n"
     ]
    },
    {
     "name": "stdout",
     "output_type": "stream",
     "text": [
      "epoch 92 | loss: 0.31601 | train_mse: 0.25001 | train_mae: 0.32587 |  0:00:13s\n",
      "epoch 93 | loss: 0.17201 | train_mse: 0.24048 | train_mae: 0.31904 |  0:00:13s\n"
     ]
    },
    {
     "name": "stdout",
     "output_type": "stream",
     "text": [
      "epoch 94 | loss: 0.18376 | train_mse: 0.2513  | train_mae: 0.33447 |  0:00:13s\n",
      "epoch 95 | loss: 0.15279 | train_mse: 0.36221 | train_mae: 0.39215 |  0:00:13s\n"
     ]
    },
    {
     "name": "stdout",
     "output_type": "stream",
     "text": [
      "epoch 96 | loss: 0.36177 | train_mse: 0.2209  | train_mae: 0.31422 |  0:00:13s\n",
      "epoch 97 | loss: 0.23058 | train_mse: 0.26654 | train_mae: 0.33849 |  0:00:13s\n"
     ]
    },
    {
     "name": "stdout",
     "output_type": "stream",
     "text": [
      "epoch 98 | loss: 0.33809 | train_mse: 0.34212 | train_mae: 0.35904 |  0:00:13s\n",
      "epoch 99 | loss: 0.45457 | train_mse: 0.29109 | train_mae: 0.3337  |  0:00:13s\n",
      "epoch 100| loss: 0.24503 | train_mse: 0.1681  | train_mae: 0.27793 |  0:00:13s\n"
     ]
    },
    {
     "name": "stdout",
     "output_type": "stream",
     "text": [
      "epoch 101| loss: 0.1249  | train_mse: 0.14052 | train_mae: 0.27389 |  0:00:14s\n",
      "epoch 102| loss: 0.34881 | train_mse: 0.20429 | train_mae: 0.31484 |  0:00:14s\n"
     ]
    },
    {
     "name": "stdout",
     "output_type": "stream",
     "text": [
      "epoch 103| loss: 0.32999 | train_mse: 0.15169 | train_mae: 0.27472 |  0:00:14s\n",
      "epoch 104| loss: 0.15286 | train_mse: 0.14318 | train_mae: 0.26052 |  0:00:14s\n",
      "epoch 105| loss: 0.14859 | train_mse: 0.14943 | train_mae: 0.27588 |  0:00:14s\n"
     ]
    },
    {
     "name": "stdout",
     "output_type": "stream",
     "text": [
      "epoch 106| loss: 0.20182 | train_mse: 0.15119 | train_mae: 0.28105 |  0:00:14s\n",
      "epoch 107| loss: 0.15521 | train_mse: 0.17256 | train_mae: 0.29152 |  0:00:14s\n",
      "epoch 108| loss: 0.19298 | train_mse: 0.15977 | train_mae: 0.28081 |  0:00:14s\n"
     ]
    },
    {
     "name": "stdout",
     "output_type": "stream",
     "text": [
      "epoch 109| loss: 0.14878 | train_mse: 0.15408 | train_mae: 0.2732  |  0:00:14s\n"
     ]
    },
    {
     "name": "stdout",
     "output_type": "stream",
     "text": [
      "epoch 110| loss: 0.17821 | train_mse: 0.13803 | train_mae: 0.26262 |  0:00:15s\n",
      "epoch 111| loss: 0.31768 | train_mse: 0.13883 | train_mae: 0.27054 |  0:00:15s\n"
     ]
    },
    {
     "name": "stdout",
     "output_type": "stream",
     "text": [
      "epoch 112| loss: 0.20541 | train_mse: 0.13936 | train_mae: 0.26899 |  0:00:15s\n",
      "epoch 113| loss: 0.28172 | train_mse: 0.13819 | train_mae: 0.24839 |  0:00:15s\n"
     ]
    },
    {
     "name": "stdout",
     "output_type": "stream",
     "text": [
      "epoch 114| loss: 0.21351 | train_mse: 0.13735 | train_mae: 0.24875 |  0:00:15s\n",
      "epoch 115| loss: 0.19473 | train_mse: 0.15273 | train_mae: 0.26151 |  0:00:15s\n"
     ]
    },
    {
     "name": "stdout",
     "output_type": "stream",
     "text": [
      "epoch 116| loss: 0.20064 | train_mse: 0.14896 | train_mae: 0.25998 |  0:00:15s\n",
      "epoch 117| loss: 0.29655 | train_mse: 0.1264  | train_mae: 0.24117 |  0:00:15s\n"
     ]
    },
    {
     "name": "stdout",
     "output_type": "stream",
     "text": [
      "epoch 118| loss: 0.14994 | train_mse: 0.13111 | train_mae: 0.23794 |  0:00:16s\n",
      "epoch 119| loss: 0.26787 | train_mse: 0.12919 | train_mae: 0.23755 |  0:00:16s\n"
     ]
    },
    {
     "name": "stdout",
     "output_type": "stream",
     "text": [
      "epoch 120| loss: 0.13818 | train_mse: 0.12528 | train_mae: 0.23635 |  0:00:16s\n",
      "epoch 121| loss: 0.14131 | train_mse: 0.09995 | train_mae: 0.2229  |  0:00:16s\n"
     ]
    },
    {
     "name": "stdout",
     "output_type": "stream",
     "text": [
      "epoch 122| loss: 0.21164 | train_mse: 0.10624 | train_mae: 0.23812 |  0:00:16s\n",
      "epoch 123| loss: 0.21758 | train_mse: 0.09809 | train_mae: 0.22405 |  0:00:16s\n"
     ]
    },
    {
     "name": "stdout",
     "output_type": "stream",
     "text": [
      "epoch 124| loss: 0.34753 | train_mse: 0.17647 | train_mae: 0.26786 |  0:00:16s\n",
      "epoch 125| loss: 0.11881 | train_mse: 0.16476 | train_mae: 0.26047 |  0:00:16s\n"
     ]
    },
    {
     "name": "stdout",
     "output_type": "stream",
     "text": [
      "epoch 126| loss: 0.14182 | train_mse: 0.16207 | train_mae: 0.26401 |  0:00:17s\n",
      "epoch 127| loss: 0.17166 | train_mse: 0.16706 | train_mae: 0.26696 |  0:00:17s\n"
     ]
    },
    {
     "name": "stdout",
     "output_type": "stream",
     "text": [
      "epoch 128| loss: 0.17019 | train_mse: 0.12588 | train_mae: 0.23158 |  0:00:17s\n",
      "epoch 129| loss: 0.13584 | train_mse: 0.11337 | train_mae: 0.22722 |  0:00:17s\n"
     ]
    },
    {
     "name": "stdout",
     "output_type": "stream",
     "text": [
      "epoch 130| loss: 0.10215 | train_mse: 0.15657 | train_mae: 0.25774 |  0:00:17s\n"
     ]
    },
    {
     "name": "stdout",
     "output_type": "stream",
     "text": [
      "epoch 131| loss: 0.13663 | train_mse: 0.2438  | train_mae: 0.28848 |  0:00:18s\n",
      "epoch 132| loss: 0.20752 | train_mse: 0.25877 | train_mae: 0.29586 |  0:00:18s\n"
     ]
    },
    {
     "name": "stdout",
     "output_type": "stream",
     "text": [
      "epoch 133| loss: 0.13498 | train_mse: 0.20853 | train_mae: 0.28213 |  0:00:18s\n",
      "epoch 134| loss: 0.1081  | train_mse: 0.11507 | train_mae: 0.23138 |  0:00:18s\n"
     ]
    },
    {
     "name": "stdout",
     "output_type": "stream",
     "text": [
      "epoch 135| loss: 0.29428 | train_mse: 0.10811 | train_mae: 0.23927 |  0:00:18s\n",
      "epoch 136| loss: 0.22322 | train_mse: 0.10309 | train_mae: 0.22891 |  0:00:18s\n"
     ]
    },
    {
     "name": "stdout",
     "output_type": "stream",
     "text": [
      "epoch 137| loss: 0.23094 | train_mse: 0.0893  | train_mae: 0.21883 |  0:00:18s\n",
      "epoch 138| loss: 0.24563 | train_mse: 0.11486 | train_mae: 0.24226 |  0:00:18s\n"
     ]
    },
    {
     "name": "stdout",
     "output_type": "stream",
     "text": [
      "epoch 139| loss: 0.24863 | train_mse: 0.19184 | train_mae: 0.27865 |  0:00:19s\n",
      "epoch 140| loss: 0.45645 | train_mse: 0.2223  | train_mae: 0.28639 |  0:00:19s\n",
      "epoch 141| loss: 0.26063 | train_mse: 0.17457 | train_mae: 0.27065 |  0:00:19s\n"
     ]
    },
    {
     "name": "stdout",
     "output_type": "stream",
     "text": [
      "epoch 142| loss: 0.14449 | train_mse: 0.14561 | train_mae: 0.26704 |  0:00:19s\n",
      "epoch 143| loss: 0.12241 | train_mse: 0.14941 | train_mae: 0.28    |  0:00:19s\n"
     ]
    },
    {
     "name": "stdout",
     "output_type": "stream",
     "text": [
      "epoch 144| loss: 0.1893  | train_mse: 0.20607 | train_mae: 0.3129  |  0:00:19s\n"
     ]
    },
    {
     "name": "stdout",
     "output_type": "stream",
     "text": [
      "epoch 145| loss: 0.22945 | train_mse: 0.16493 | train_mae: 0.27582 |  0:00:20s\n",
      "epoch 146| loss: 0.16887 | train_mse: 0.09484 | train_mae: 0.2319  |  0:00:20s\n"
     ]
    },
    {
     "name": "stdout",
     "output_type": "stream",
     "text": [
      "epoch 147| loss: 0.1751  | train_mse: 0.07046 | train_mae: 0.20396 |  0:00:20s\n",
      "epoch 148| loss: 0.09982 | train_mse: 0.07834 | train_mae: 0.19635 |  0:00:20s\n",
      "epoch 149| loss: 0.09368 | train_mse: 0.09075 | train_mae: 0.21337 |  0:00:20s\n"
     ]
    },
    {
     "name": "stdout",
     "output_type": "stream",
     "text": [
      "epoch 150| loss: 0.10465 | train_mse: 0.12272 | train_mae: 0.23638 |  0:00:20s\n",
      "epoch 151| loss: 0.19434 | train_mse: 0.18311 | train_mae: 0.26319 |  0:00:20s\n",
      "epoch 152| loss: 0.19855 | train_mse: 0.17491 | train_mae: 0.2612  |  0:00:20s\n"
     ]
    },
    {
     "name": "stdout",
     "output_type": "stream",
     "text": [
      "epoch 153| loss: 0.13524 | train_mse: 0.14571 | train_mae: 0.24381 |  0:00:20s\n",
      "epoch 154| loss: 0.13338 | train_mse: 0.11223 | train_mae: 0.22693 |  0:00:20s\n",
      "epoch 155| loss: 0.37107 | train_mse: 0.04636 | train_mae: 0.16565 |  0:00:20s\n"
     ]
    },
    {
     "name": "stdout",
     "output_type": "stream",
     "text": [
      "epoch 156| loss: 0.26282 | train_mse: 0.07311 | train_mae: 0.20226 |  0:00:21s\n",
      "epoch 157| loss: 0.30694 | train_mse: 0.07729 | train_mae: 0.19555 |  0:00:21s\n",
      "epoch 158| loss: 0.14804 | train_mse: 0.08334 | train_mae: 0.21581 |  0:00:21s\n"
     ]
    },
    {
     "name": "stdout",
     "output_type": "stream",
     "text": [
      "epoch 159| loss: 0.10448 | train_mse: 0.12445 | train_mae: 0.25551 |  0:00:21s\n",
      "epoch 160| loss: 0.17719 | train_mse: 0.1252  | train_mae: 0.25764 |  0:00:21s\n"
     ]
    },
    {
     "name": "stdout",
     "output_type": "stream",
     "text": [
      "epoch 161| loss: 0.20624 | train_mse: 0.09922 | train_mae: 0.23182 |  0:00:21s\n",
      "epoch 162| loss: 0.15943 | train_mse: 0.08708 | train_mae: 0.21237 |  0:00:21s\n",
      "epoch 163| loss: 0.12158 | train_mse: 0.0746  | train_mae: 0.2043  |  0:00:21s\n"
     ]
    },
    {
     "name": "stdout",
     "output_type": "stream",
     "text": [
      "epoch 164| loss: 0.30195 | train_mse: 0.06343 | train_mae: 0.19568 |  0:00:21s\n",
      "epoch 165| loss: 0.12661 | train_mse: 0.06139 | train_mae: 0.18923 |  0:00:21s\n",
      "epoch 166| loss: 0.27627 | train_mse: 0.3202  | train_mae: 0.29512 |  0:00:21s\n"
     ]
    },
    {
     "name": "stdout",
     "output_type": "stream",
     "text": [
      "epoch 167| loss: 0.19315 | train_mse: 0.3672  | train_mae: 0.32184 |  0:00:22s\n",
      "epoch 168| loss: 0.15819 | train_mse: 0.28281 | train_mae: 0.29684 |  0:00:22s\n",
      "epoch 169| loss: 0.31001 | train_mse: 0.09047 | train_mae: 0.21698 |  0:00:22s\n"
     ]
    },
    {
     "name": "stdout",
     "output_type": "stream",
     "text": [
      "epoch 170| loss: 0.15    | train_mse: 0.06372 | train_mae: 0.19304 |  0:00:22s\n",
      "epoch 171| loss: 0.16881 | train_mse: 0.08877 | train_mae: 0.21086 |  0:00:22s\n",
      "epoch 172| loss: 0.13534 | train_mse: 0.1214  | train_mae: 0.24229 |  0:00:22s\n"
     ]
    },
    {
     "name": "stdout",
     "output_type": "stream",
     "text": [
      "epoch 173| loss: 0.18862 | train_mse: 0.12706 | train_mae: 0.25099 |  0:00:22s\n",
      "epoch 174| loss: 0.1072  | train_mse: 0.11721 | train_mae: 0.24722 |  0:00:22s\n",
      "epoch 175| loss: 0.19495 | train_mse: 0.10241 | train_mae: 0.23269 |  0:00:22s\n"
     ]
    },
    {
     "name": "stdout",
     "output_type": "stream",
     "text": [
      "epoch 176| loss: 0.15337 | train_mse: 0.08633 | train_mae: 0.219   |  0:00:22s\n",
      "epoch 177| loss: 0.12521 | train_mse: 0.08316 | train_mae: 0.22809 |  0:00:22s\n",
      "epoch 178| loss: 0.13468 | train_mse: 0.06982 | train_mae: 0.20426 |  0:00:23s\n"
     ]
    },
    {
     "name": "stdout",
     "output_type": "stream",
     "text": [
      "epoch 179| loss: 0.26161 | train_mse: 0.06483 | train_mae: 0.1969  |  0:00:23s\n",
      "epoch 180| loss: 0.08761 | train_mse: 0.06482 | train_mae: 0.20064 |  0:00:23s\n",
      "epoch 181| loss: 0.09557 | train_mse: 0.05361 | train_mae: 0.19122 |  0:00:23s\n"
     ]
    },
    {
     "name": "stdout",
     "output_type": "stream",
     "text": [
      "epoch 182| loss: 0.13185 | train_mse: 0.05008 | train_mae: 0.1846  |  0:00:23s\n",
      "epoch 183| loss: 0.16866 | train_mse: 0.06709 | train_mae: 0.21235 |  0:00:23s\n",
      "epoch 184| loss: 0.19198 | train_mse: 0.08154 | train_mae: 0.21084 |  0:00:23s\n"
     ]
    },
    {
     "name": "stdout",
     "output_type": "stream",
     "text": [
      "epoch 185| loss: 0.09215 | train_mse: 0.07471 | train_mae: 0.20183 |  0:00:23s\n",
      "epoch 186| loss: 0.11283 | train_mse: 0.08823 | train_mae: 0.21507 |  0:00:23s\n"
     ]
    },
    {
     "name": "stdout",
     "output_type": "stream",
     "text": [
      "epoch 187| loss: 0.15119 | train_mse: 0.10922 | train_mae: 0.22689 |  0:00:23s\n",
      "epoch 188| loss: 0.22291 | train_mse: 0.19959 | train_mae: 0.27461 |  0:00:23s\n",
      "epoch 189| loss: 0.22442 | train_mse: 0.32786 | train_mae: 0.33592 |  0:00:24s\n"
     ]
    },
    {
     "name": "stdout",
     "output_type": "stream",
     "text": [
      "epoch 190| loss: 0.09219 | train_mse: 0.29307 | train_mae: 0.30937 |  0:00:24s\n",
      "epoch 191| loss: 0.13491 | train_mse: 0.25789 | train_mae: 0.28724 |  0:00:24s\n",
      "epoch 192| loss: 0.16063 | train_mse: 0.32609 | train_mae: 0.31749 |  0:00:24s\n"
     ]
    },
    {
     "name": "stdout",
     "output_type": "stream",
     "text": [
      "epoch 193| loss: 0.16016 | train_mse: 0.30493 | train_mae: 0.31007 |  0:00:24s\n",
      "epoch 194| loss: 0.09613 | train_mse: 0.18577 | train_mae: 0.26674 |  0:00:24s\n",
      "epoch 195| loss: 0.34832 | train_mse: 0.14283 | train_mae: 0.25059 |  0:00:24s\n"
     ]
    },
    {
     "name": "stdout",
     "output_type": "stream",
     "text": [
      "epoch 196| loss: 0.14286 | train_mse: 0.07676 | train_mae: 0.21419 |  0:00:24s\n",
      "epoch 197| loss: 0.11276 | train_mse: 0.07956 | train_mae: 0.2138  |  0:00:24s\n",
      "epoch 198| loss: 0.14837 | train_mse: 0.09248 | train_mae: 0.21901 |  0:00:24s"
     ]
    },
    {
     "name": "stdout",
     "output_type": "stream",
     "text": [
      "\n",
      "epoch 199| loss: 0.08956 | train_mse: 0.07231 | train_mae: 0.19503 |  0:00:24s\n",
      "epoch 200| loss: 0.19796 | train_mse: 0.06323 | train_mae: 0.18375 |  0:00:24s\n"
     ]
    },
    {
     "name": "stdout",
     "output_type": "stream",
     "text": [
      "epoch 201| loss: 0.12996 | train_mse: 0.09175 | train_mae: 0.21951 |  0:00:25s\n",
      "epoch 202| loss: 0.24493 | train_mse: 0.13795 | train_mae: 0.2476  |  0:00:25s\n",
      "epoch 203| loss: 0.20599 | train_mse: 0.122   | train_mae: 0.23354 |  0:00:25s\n"
     ]
    },
    {
     "name": "stdout",
     "output_type": "stream",
     "text": [
      "epoch 204| loss: 0.14621 | train_mse: 0.13689 | train_mae: 0.23763 |  0:00:25s\n",
      "epoch 205| loss: 0.25254 | train_mse: 0.13776 | train_mae: 0.23734 |  0:00:25s\n",
      "\n",
      "Early stopping occurred at epoch 205 with best_epoch = 155 and best_train_mae = 0.16565\n",
      "Best weights from best epoch are automatically used!\n"
     ]
    }
   ],
   "source": [
    "#Train the Model\n",
    "\n",
    "Y_train = np.reshape(Y_train, (-1, 1))\n",
    "Y_test = np.reshape(Y_test, (-1, 1))\n",
    "\n",
    "prior_model = TabNetRegressor(optimizer_fn=torch.optim.Adam, optimizer_params=dict(lr = 0.02),\n",
    "          #scheduler_params={\"step_size\":10, ], \"gamma\":0.9},\n",
    "          #scheduler_fn=torch.optim.lr_scheduler.StepLR\n",
    "          )  #TabNetRegressor()\n",
    "\n",
    "prior_model.fit(X_train,Y_train,eval_set=[(X_train, Y_train)],\n",
    "            eval_name=['train'], \n",
    "            eval_metric=[ 'mse', 'mae'], \n",
    "            max_epochs = n_epochs, \n",
    "            batch_size = batch_size,\n",
    "            patience=50\n",
    "            )"
   ]
  },
  {
   "cell_type": "code",
   "execution_count": 10,
   "id": "af65dcda",
   "metadata": {
    "execution": {
     "iopub.execute_input": "2022-06-22T14:38:39.196371Z",
     "iopub.status.busy": "2022-06-22T14:38:39.195261Z",
     "iopub.status.idle": "2022-06-22T14:38:39.221781Z",
     "shell.execute_reply": "2022-06-22T14:38:39.222362Z"
    },
    "id": "af65dcda",
    "papermill": {
     "duration": 0.09224,
     "end_time": "2022-06-22T14:38:39.222636",
     "exception": false,
     "start_time": "2022-06-22T14:38:39.130396",
     "status": "completed"
    },
    "tags": []
   },
   "outputs": [
    {
     "data": {
      "application/scrapbook.scrap.json+json": {
       "data": 0.15942956936181726,
       "encoder": "json",
       "name": "Prior Model MSE",
       "version": 1
      }
     },
     "metadata": {
      "scrapbook": {
       "data": true,
       "display": false,
       "name": "Prior Model MSE"
      }
     },
     "output_type": "display_data"
    },
    {
     "data": {
      "application/scrapbook.scrap.json+json": {
       "data": 0.17505224167290118,
       "encoder": "json",
       "name": "ABC Pre-generator MSE",
       "version": 1
      }
     },
     "metadata": {
      "scrapbook": {
       "data": true,
       "display": false,
       "name": "ABC Pre-generator MSE"
      }
     },
     "output_type": "display_data"
    },
    {
     "data": {
      "application/scrapbook.scrap.json+json": {
       "data": 0.33103677280202704,
       "encoder": "json",
       "name": "Prior Model MSE",
       "version": 1
      }
     },
     "metadata": {
      "scrapbook": {
       "data": true,
       "display": false,
       "name": "Prior Model MSE"
      }
     },
     "output_type": "display_data"
    },
    {
     "data": {
      "application/scrapbook.scrap.json+json": {
       "data": 0.33736951200588383,
       "encoder": "json",
       "name": "ABC Pre-generator MSE",
       "version": 1
      }
     },
     "metadata": {
      "scrapbook": {
       "data": true,
       "display": false,
       "name": "ABC Pre-generator MSE"
      }
     },
     "output_type": "display_data"
    }
   ],
   "source": [
    "y_pred = prior_model.predict(X_test)\n",
    "y_abc = y_pred + np.random.normal(0,variance, y_pred.shape) + bias \n",
    "mse = mean_squared_error(y_pred,Y_test)\n",
    "sb.glue(\"Prior Model MSE\",mse)\n",
    "mse = mean_squared_error(y_abc,Y_test)\n",
    "sb.glue(\"ABC Pre-generator MSE\",mse)\n",
    "mae = mean_absolute_error(y_pred,Y_test)\n",
    "sb.glue(\"Prior Model MSE\",mae)\n",
    "mae = mean_absolute_error(y_abc,Y_test)\n",
    "sb.glue(\"ABC Pre-generator MSE\",mae)"
   ]
  },
  {
   "cell_type": "markdown",
   "id": "25609da2",
   "metadata": {
    "papermill": {
     "duration": 0.096388,
     "end_time": "2022-06-22T14:38:39.376761",
     "exception": false,
     "start_time": "2022-06-22T14:38:39.280373",
     "status": "completed"
    },
    "tags": []
   },
   "source": [
    "# ABC GAN Model"
   ]
  },
  {
   "cell_type": "code",
   "execution_count": 11,
   "id": "dfc3464d",
   "metadata": {
    "execution": {
     "iopub.execute_input": "2022-06-22T14:38:39.502694Z",
     "iopub.status.busy": "2022-06-22T14:38:39.501750Z",
     "iopub.status.idle": "2022-06-22T14:38:39.506549Z",
     "shell.execute_reply": "2022-06-22T14:38:39.506997Z"
    },
    "papermill": {
     "duration": 0.078044,
     "end_time": "2022-06-22T14:38:39.507212",
     "exception": false,
     "start_time": "2022-06-22T14:38:39.429168",
     "status": "completed"
    },
    "tags": []
   },
   "outputs": [],
   "source": [
    "gen = network.Generator(n_features+1).to(device)\n",
    "disc = network.Discriminator(n_features+1).to(device)\n",
    "\n",
    "criterion = torch.nn.BCELoss()\n",
    "gen_opt = torch.optim.Adam(gen.parameters(), lr=0.001, betas=(0.5, 0.999))\n",
    "disc_opt = torch.optim.Adam(disc.parameters(), lr=0.001, betas=(0.5, 0.999))"
   ]
  },
  {
   "cell_type": "code",
   "execution_count": 12,
   "id": "b75fdd85",
   "metadata": {
    "execution": {
     "iopub.execute_input": "2022-06-22T14:38:39.629114Z",
     "iopub.status.busy": "2022-06-22T14:38:39.628291Z",
     "iopub.status.idle": "2022-06-22T14:39:32.417067Z",
     "shell.execute_reply": "2022-06-22T14:39:32.417734Z"
    },
    "papermill": {
     "duration": 52.859788,
     "end_time": "2022-06-22T14:39:32.418079",
     "exception": false,
     "start_time": "2022-06-22T14:38:39.558291",
     "status": "completed"
    },
    "tags": []
   },
   "outputs": [
    {
     "data": {
      "image/png": "[encoded data removed]",
      "text/plain": [
       "<Figure size 432x288 with 1 Axes>"
      ]
     },
     "metadata": {
      "needs_background": "light"
     },
     "output_type": "display_data"
    },
    {
     "data": {
      "image/png": "[encoded data removed]",
      "text/plain": [
       "<Figure size 432x288 with 1 Axes>"
      ]
     },
     "metadata": {
      "needs_background": "light"
     },
     "output_type": "display_data"
    }
   ],
   "source": [
    "#Training the ABC_GAN \n",
    "ABC_train_test2.training_GAN(disc,gen,disc_opt,gen_opt,train_data,batch_size,n_epochs,criterion,prior_model,variance,bias,device)"
   ]
  },
  {
   "cell_type": "code",
   "execution_count": 13,
   "id": "1fa7c368",
   "metadata": {
    "execution": {
     "iopub.execute_input": "2022-06-22T14:39:32.557301Z",
     "iopub.status.busy": "2022-06-22T14:39:32.556523Z",
     "iopub.status.idle": "2022-06-22T14:39:33.390629Z",
     "shell.execute_reply": "2022-06-22T14:39:33.391407Z"
    },
    "papermill": {
     "duration": 0.911182,
     "end_time": "2022-06-22T14:39:33.391632",
     "exception": false,
     "start_time": "2022-06-22T14:39:32.480450",
     "status": "completed"
    },
    "tags": []
   },
   "outputs": [
    {
     "data": {
      "application/scrapbook.scrap.json+json": {
       "data": 0.3171426309901259,
       "encoder": "json",
       "name": "ABC-GAN Model 1 MSE",
       "version": 1
      }
     },
     "metadata": {
      "scrapbook": {
       "data": true,
       "display": false,
       "name": "ABC-GAN Model 1 MSE"
      }
     },
     "output_type": "display_data"
    },
    {
     "data": {
      "application/scrapbook.scrap.json+json": {
       "data": 0.49741417628293855,
       "encoder": "json",
       "name": "ABC-GAN Model 1 MAE",
       "version": 1
      }
     },
     "metadata": {
      "scrapbook": {
       "data": true,
       "display": false,
       "name": "ABC-GAN Model 1 MAE"
      }
     },
     "output_type": "display_data"
    },
    {
     "data": {
      "application/scrapbook.scrap.json+json": {
       "data": 9.948283525658772,
       "encoder": "json",
       "name": "ABC-GAN Model 1 Manhattan Distance",
       "version": 1
      }
     },
     "metadata": {
      "scrapbook": {
       "data": true,
       "display": false,
       "name": "ABC-GAN Model 1 Manhattan Distance"
      }
     },
     "output_type": "display_data"
    },
    {
     "data": {
      "application/scrapbook.scrap.json+json": {
       "data": 2.5168658760596028,
       "encoder": "json",
       "name": "ABC-GAN Model 1 Euclidean distance",
       "version": 1
      }
     },
     "metadata": {
      "scrapbook": {
       "data": true,
       "display": false,
       "name": "ABC-GAN Model 1 Euclidean distance"
      }
     },
     "output_type": "display_data"
    },
    {
     "data": {
      "application/scrapbook.scrap.json+json": {
       "data": [
        [
         0.2946595466111378,
         0.3315176385888854,
         0.3059230017990283,
         0.29278085953391836,
         0.3085165053114468,
         0.3215662146085536,
         0.30600195723780854,
         0.34235818340989965,
         0.33060422243250914,
         0.2843949974983987,
         0.3415903188018343,
         0.317542262913512,
         0.3254088496170953,
         0.30309773537123996,
         0.31106850186601054,
         0.3670585037716704,
         0.3310875754699355,
         0.30772837438919837,
         0.34992145861167095,
         0.2900506082594455,
         0.3109561034848857,
         0.3149794182594601,
         0.3115419077702437,
         0.2956270814749079,
         0.31177586620133907,
         0.2835668797940767,
         0.28431967401422076,
         0.2873743556895666,
         0.3429598463124748,
         0.3437893083490637,
         0.3383531698840574,
         0.3262086862785369,
         0.3158574829795287,
         0.30571729589547925,
         0.30508927360327853,
         0.3123950904568634,
         0.33162632010844756,
         0.3398502820492831,
         0.35438998983791187,
         0.309680003221684,
         0.32100168064392004,
         0.31380128671510044,
         0.3426253252098194,
         0.31111843743486867,
         0.3060535536880409,
         0.29747161541437483,
         0.32656329618984964,
         0.3449471581622837,
         0.2973252022142375,
         0.3103139325067135,
         0.30403347835111394,
         0.29683365983225624,
         0.27129842843484064,
         0.297105721124492,
         0.3238090022188878,
         0.3281018821621015,
         0.31304035065464714,
         0.3213285261640246,
         0.34553952599749055,
         0.33639254673151237,
         0.3541767787666205,
         0.2929430434681222,
         0.28826979014981313,
         0.3222909883016663,
         0.327155630396,
         0.31220308047158574,
         0.28841476615534783,
         0.3165925848140977,
         0.30634902433762073,
         0.3405142352637635,
         0.29354811141165865,
         0.3384355732221117,
         0.33209974782041146,
         0.32961092362826167,
         0.3434145310678637,
         0.34237606936009124,
         0.362544365209193,
         0.28643150283088537,
         0.3128116927805741,
         0.33609544762202204,
         0.3058137830531798,
         0.3514740513496001,
         0.3357474488706259,
         0.2997142731518746,
         0.3101465191661183,
         0.3491017030735288,
         0.33921815772310693,
         0.2791812155631655,
         0.2730185585745037,
         0.36873985911183105,
         0.2944585278253186,
         0.33861337369699784,
         0.2772550314778685,
         0.29342299179882125,
         0.2773523044316666,
         0.34977865734601105,
         0.33306925132131393,
         0.2760536843363155,
         0.3318763563324518,
         0.30630950211149593
        ],
        [
         0.4840290661319159,
         0.507731665240135,
         0.4768006812199019,
         0.48878507347544653,
         0.4981559667154215,
         0.50713126094779,
         0.4895940184011124,
         0.5294202278717421,
         0.5281113672419451,
         0.46330076673766596,
         0.5149016811861656,
         0.4921115289791487,
         0.5079085058881901,
         0.4898957181139849,
         0.49089750678976996,
         0.5251618008478545,
         0.5087427999242209,
         0.49952625477453694,
         0.5169073562487029,
         0.4781271490617655,
         0.4971073362394236,
         0.5128025974496268,
         0.48699046516558153,
         0.47962560126325116,
         0.49484467873116955,
         0.47692386390408503,
         0.4710199456079863,
         0.47582741336664186,
         0.5145764354034327,
         0.5232071868493222,
         0.5119018878205679,
         0.49085177624365317,
         0.5003424208029174,
         0.4922421126975678,
         0.4851452197297476,
         0.5018743667169474,
         0.4919407549663447,
         0.5088142621680163,
         0.528579888807144,
         0.4892933397903107,
         0.506472181843128,
         0.4987558949156664,
         0.508460815192666,
         0.48939623789628967,
         0.47384590686997397,
         0.48249458404025064,
         0.4934609848423861,
         0.5304034280939959,
         0.4839092328562401,
         0.4911263856454752,
         0.4912692061974667,
         0.47471937568625433,
         0.45614764796337115,
         0.4811170759960078,
         0.5069045889540575,
         0.5091202277108096,
         0.4979393749847077,
         0.4890840690000914,
         0.5013789992197417,
         0.5127848106785677,
         0.527744268195238,
         0.4752790197147988,
         0.46913222478469835,
         0.5073498296900653,
         0.5158871147199534,
         0.4977234765305184,
         0.475472849921789,
         0.4972518238588236,
         0.4996450658305548,
         0.5007303662016056,
         0.47783106671413406,
         0.5102560422732495,
         0.5030242736800574,
         0.5113529502763413,
         0.5176464333548211,
         0.5199632945819758,
         0.5402745983912609,
         0.4601313795312308,
         0.48608788395067676,
         0.5127599175437354,
         0.4887182887061499,
         0.5141367166652344,
         0.5235277737840078,
         0.49018706971546633,
         0.49964095609029757,
         0.5292339566512965,
         0.5028045139624737,
         0.4733841638430022,
         0.4701222281320952,
         0.5375851228251122,
         0.4870823561563157,
         0.5148972849710844,
         0.46314580956241114,
         0.4830252423300408,
         0.45351128758629783,
         0.5212775807245634,
         0.5178198728128336,
         0.4565505321486853,
         0.5096561740501784,
         0.48962383972248064
        ],
        [
         9.680581322638318,
         10.1546333048027,
         9.536013624398038,
         9.775701469508931,
         9.96311933430843,
         10.1426252189558,
         9.791880368022248,
         10.588404557434842,
         10.562227344838902,
         9.26601533475332,
         10.298033623723313,
         9.842230579582974,
         10.158170117763802,
         9.797914362279698,
         9.8179501357954,
         10.50323601695709,
         10.174855998484418,
         9.990525095490739,
         10.338147124974057,
         9.56254298123531,
         9.942146724788472,
         10.256051948992535,
         9.739809303311631,
         9.592512025265023,
         9.896893574623391,
         9.5384772780817,
         9.420398912159726,
         9.516548267332837,
         10.291528708068654,
         10.464143736986443,
         10.238037756411359,
         9.817035524873063,
         10.006848416058347,
         9.844842253951356,
         9.702904394594952,
         10.037487334338948,
         9.838815099326894,
         10.176285243360326,
         10.57159777614288,
         9.785866795806214,
         10.129443636862561,
         9.975117898313329,
         10.169216303853318,
         9.787924757925794,
         9.47691813739948,
         9.649891680805013,
         9.869219696847722,
         10.608068561879918,
         9.678184657124802,
         9.822527712909505,
         9.825384123949334,
         9.494387513725087,
         9.122952959267423,
         9.622341519920155,
         10.138091779081151,
         10.182404554216191,
         9.958787499694154,
         9.781681380001828,
         10.027579984394833,
         10.255696213571355,
         10.55488536390476,
         9.505580394295976,
         9.382644495693967,
         10.146996593801305,
         10.317742294399068,
         9.954469530610368,
         9.50945699843578,
         9.945036477176473,
         9.992901316611096,
         10.014607324032113,
         9.556621334282681,
         10.20512084546499,
         10.060485473601148,
         10.227059005526826,
         10.352928667096421,
         10.399265891639516,
         10.805491967825219,
         9.202627590624616,
         9.721757679013535,
         10.255198350874707,
         9.774365774122998,
         10.282734333304688,
         10.470555475680158,
         9.803741394309327,
         9.992819121805951,
         10.58467913302593,
         10.056090279249474,
         9.467683276860043,
         9.402444562641904,
         10.751702456502244,
         9.741647123126313,
         10.297945699421689,
         9.262916191248223,
         9.660504846600816,
         9.070225751725957,
         10.425551614491269,
         10.356397456256673,
         9.131010642973706,
         10.193123481003568,
         9.792476794449612
        ],
        [
         2.4275895312475617,
         2.5749471396084442,
         2.473552109008534,
         2.419838257131738,
         2.484014916667961,
         2.536005578103304,
         2.473871287022866,
         2.6167085562205803,
         2.5713973727625574,
         2.3849318543656493,
         2.613772441517564,
         2.5200883433463677,
         2.5511128929041744,
         2.4621037158139374,
         2.494267435003755,
         2.7094593695852693,
         2.5732764152726983,
         2.4808400770271284,
         2.645454435864171,
         2.40852904595085,
         2.4938167674666305,
         2.5098980786456653,
         2.4961646891591256,
         2.4315718433758353,
         2.497101784875174,
         2.3814570321300224,
         2.384616002689828,
         2.397391731401302,
         2.619006858763355,
         2.622172032300946,
         2.6013579910656563,
         2.5542462147511813,
         2.513394051793426,
         2.4727203476959514,
         2.4701792388540493,
         2.4995803266023016,
         2.575369177840131,
         2.6071067567297015,
         2.662292207245147,
         2.488694449793642,
         2.5337785248277718,
         2.505199739402431,
         2.6177292648775556,
         2.494467628312176,
         2.4740798438532288,
         2.439145815298359,
         2.5556341529641897,
         2.626583934171089,
         2.438545477181992,
         2.4912403838518418,
         2.465901370092137,
         2.436528923826911,
         2.329370852547274,
         2.437645261823352,
         2.544833991516491,
         2.5616474471015778,
         2.5021604690932477,
         2.5350681496323704,
         2.628838245299587,
         2.5938101192319856,
         2.6614912314964347,
         2.420508390682099,
         2.401123862485287,
         2.5388619036949067,
         2.55795086112302,
         2.4988120396363778,
         2.4017275705431196,
         2.5163170897726608,
         2.4752738205605485,
         2.6096522192191185,
         2.423006856827519,
         2.6016747422462774,
         2.5772068128903096,
         2.567531591347073,
         2.6207423798147875,
         2.6167769081833905,
         2.6927471667766842,
         2.3934556725825753,
         2.5012464603895954,
         2.5926644504139826,
         2.473110523422598,
         2.6513168477177524,
         2.591321859092868,
         2.4483229899336183,
         2.4905682852157187,
         2.642353886494119,
         2.6046810081969998,
         2.362969384326278,
         2.336743711126677,
         2.7156577807663136,
         2.4267613307670723,
         2.602358060286854,
         2.3548037348274633,
         2.4224904202032307,
         2.35521678166434,
         2.644914582159549,
         2.580965909582356,
         2.349696509493579,
         2.5763398701741655,
         2.4751141473131937
        ]
       ],
       "encoder": "json",
       "name": "ABC_GAN_1 Metrics",
       "version": 1
      }
     },
     "metadata": {
      "scrapbook": {
       "data": true,
       "display": false,
       "name": "ABC_GAN_1 Metrics"
      }
     },
     "output_type": "display_data"
    },
    {
     "name": "stdout",
     "output_type": "stream",
     "text": [
      "MSE\n",
      "0.3171426309901259\n"
     ]
    }
   ],
   "source": [
    "ABC_GAN1_metrics=ABC_train_test2.test_generator(gen,test_data,prior_model,variance,bias,\"1\",device)\n",
    "sb.glue(\"ABC_GAN_1 Metrics\",ABC_GAN1_metrics)\n",
    "\n",
    "print(\"MSE\")\n",
    "print(mean(ABC_GAN1_metrics[0]))"
   ]
  },
  {
   "cell_type": "code",
   "execution_count": 14,
   "id": "eb22ce5c",
   "metadata": {
    "execution": {
     "iopub.execute_input": "2022-06-22T14:39:33.542568Z",
     "iopub.status.busy": "2022-06-22T14:39:33.541663Z",
     "iopub.status.idle": "2022-06-22T14:39:34.394602Z",
     "shell.execute_reply": "2022-06-22T14:39:34.395475Z"
    },
    "papermill": {
     "duration": 0.950416,
     "end_time": "2022-06-22T14:39:34.398229",
     "exception": false,
     "start_time": "2022-06-22T14:39:33.447813",
     "status": "completed"
    },
    "tags": []
   },
   "outputs": [
    {
     "data": {
      "image/png": "[encoded data removed]",
      "text/plain": [
       "<Figure size 432x288 with 1 Axes>"
      ]
     },
     "metadata": {
      "needs_background": "light"
     },
     "output_type": "display_data"
    },
    {
     "data": {
      "image/png": "[encoded data removed]",
      "text/plain": [
       "<Figure size 432x288 with 1 Axes>"
      ]
     },
     "metadata": {
      "needs_background": "light"
     },
     "output_type": "display_data"
    },
    {
     "data": {
      "image/png": "[encoded data removed]",
      "text/plain": [
       "<Figure size 432x288 with 1 Axes>"
      ]
     },
     "metadata": {
      "needs_background": "light"
     },
     "output_type": "display_data"
    },
    {
     "data": {
      "image/png": "[encoded data removed]",
      "text/plain": [
       "<Figure size 432x288 with 1 Axes>"
      ]
     },
     "metadata": {
      "needs_background": "light"
     },
     "output_type": "display_data"
    }
   ],
   "source": [
    "sanityChecks.discProbVsError(train_data,disc,device)\n",
    "sanityChecks.discProbVsError(test_data,disc,device)"
   ]
  },
  {
   "cell_type": "markdown",
   "id": "130f3a4d",
   "metadata": {
    "id": "130f3a4d",
    "papermill": {
     "duration": 0.073782,
     "end_time": "2022-06-22T14:39:34.539185",
     "exception": false,
     "start_time": "2022-06-22T14:39:34.465403",
     "status": "completed"
    },
    "tags": []
   },
   "source": [
    "# ABC - GAN Model with skip connection"
   ]
  },
  {
   "cell_type": "code",
   "execution_count": 15,
   "id": "4e43dad1",
   "metadata": {
    "execution": {
     "iopub.execute_input": "2022-06-22T14:39:34.668312Z",
     "iopub.status.busy": "2022-06-22T14:39:34.667505Z",
     "iopub.status.idle": "2022-06-22T14:39:34.670925Z",
     "shell.execute_reply": "2022-06-22T14:39:34.671428Z"
    },
    "id": "4e43dad1",
    "papermill": {
     "duration": 0.072755,
     "end_time": "2022-06-22T14:39:34.671642",
     "exception": false,
     "start_time": "2022-06-22T14:39:34.598887",
     "status": "completed"
    },
    "tags": []
   },
   "outputs": [],
   "source": [
    "#Generator\n",
    "gen3 = network.GeneratorWithSkipConnection(n_features+1).to(device)\n",
    "constraints=network.weightConstraint()\n",
    "#Discriminator \n",
    "disc3 = network.Discriminator(n_features+1).to(device)\n",
    "\n",
    "criterion = torch.nn.BCELoss()\n",
    "gen_opt = torch.optim.Adam(gen3.parameters(), lr=0.001, betas=(0.5, 0.999))\n",
    "disc_opt = torch.optim.Adam(disc3.parameters(), lr=0.001, betas=(0.5, 0.999))\n"
   ]
  },
  {
   "cell_type": "code",
   "execution_count": 16,
   "id": "26acbc37",
   "metadata": {
    "execution": {
     "iopub.execute_input": "2022-06-22T14:39:34.799108Z",
     "iopub.status.busy": "2022-06-22T14:39:34.797148Z",
     "iopub.status.idle": "2022-06-22T14:40:58.906928Z",
     "shell.execute_reply": "2022-06-22T14:40:58.907757Z"
    },
    "id": "26acbc37",
    "papermill": {
     "duration": 84.177837,
     "end_time": "2022-06-22T14:40:58.908061",
     "exception": false,
     "start_time": "2022-06-22T14:39:34.730224",
     "status": "completed"
    },
    "tags": []
   },
   "outputs": [
    {
     "data": {
      "image/png": "[encoded data removed]",
      "text/plain": [
       "<Figure size 432x288 with 1 Axes>"
      ]
     },
     "metadata": {
      "needs_background": "light"
     },
     "output_type": "display_data"
    },
    {
     "data": {
      "image/png": "[encoded data removed]",
      "text/plain": [
       "<Figure size 432x288 with 1 Axes>"
      ]
     },
     "metadata": {
      "needs_background": "light"
     },
     "output_type": "display_data"
    }
   ],
   "source": [
    "ABC_train_test2.training_GAN_skip_connection(disc3,gen3,disc_opt,gen_opt,train_data,batch_size,n_epochs,criterion,prior_model,variance,bias,device)"
   ]
  },
  {
   "cell_type": "code",
   "execution_count": 17,
   "id": "c5e0717b",
   "metadata": {
    "execution": {
     "iopub.execute_input": "2022-06-22T14:40:59.044381Z",
     "iopub.status.busy": "2022-06-22T14:40:59.043681Z",
     "iopub.status.idle": "2022-06-22T14:41:00.179977Z",
     "shell.execute_reply": "2022-06-22T14:41:00.180932Z"
    },
    "id": "c5e0717b",
    "papermill": {
     "duration": 1.21336,
     "end_time": "2022-06-22T14:41:00.181291",
     "exception": false,
     "start_time": "2022-06-22T14:40:58.967931",
     "status": "completed"
    },
    "tags": []
   },
   "outputs": [
    {
     "data": {
      "application/scrapbook.scrap.json+json": {
       "data": 0.2949345337904422,
       "encoder": "json",
       "name": "ABC-GAN Model 3 MSE",
       "version": 1
      }
     },
     "metadata": {
      "scrapbook": {
       "data": true,
       "display": false,
       "name": "ABC-GAN Model 3 MSE"
      }
     },
     "output_type": "display_data"
    },
    {
     "data": {
      "application/scrapbook.scrap.json+json": {
       "data": 0.4796377787697129,
       "encoder": "json",
       "name": "ABC-GAN Model 3 MAE",
       "version": 1
      }
     },
     "metadata": {
      "scrapbook": {
       "data": true,
       "display": false,
       "name": "ABC-GAN Model 3 MAE"
      }
     },
     "output_type": "display_data"
    },
    {
     "data": {
      "application/scrapbook.scrap.json+json": {
       "data": 9.592755575394257,
       "encoder": "json",
       "name": "ABC-GAN Model 3 Manhattan Distance",
       "version": 1
      }
     },
     "metadata": {
      "scrapbook": {
       "data": true,
       "display": false,
       "name": "ABC-GAN Model 3 Manhattan Distance"
      }
     },
     "output_type": "display_data"
    },
    {
     "data": {
      "application/scrapbook.scrap.json+json": {
       "data": 2.427057234735078,
       "encoder": "json",
       "name": "ABC-GAN Model 3 Euclidean distance",
       "version": 1
      }
     },
     "metadata": {
      "scrapbook": {
       "data": true,
       "display": false,
       "name": "ABC-GAN Model 3 Euclidean distance"
      }
     },
     "output_type": "display_data"
    },
    {
     "data": {
      "application/scrapbook.scrap.json+json": {
       "data": [
        [
         0.31445072100997395,
         0.33676763970503143,
         0.28501933240752914,
         0.2783801014084722,
         0.2636309726481574,
         0.263234826597003,
         0.3238944101808788,
         0.3056136016476477,
         0.26248695826993695,
         0.2759904794609757,
         0.3233384439941801,
         0.32773111705124336,
         0.2836515343115769,
         0.2696096943431421,
         0.3123852044392762,
         0.317294040103867,
         0.2973455095803603,
         0.2679643316659536,
         0.3275036637774991,
         0.26715610459410716,
         0.2656046554006984,
         0.26935135687924805,
         0.3142543172475051,
         0.3000130005764378,
         0.3409980180642907,
         0.29018999511829563,
         0.254489794891989,
         0.25825542126856277,
         0.3159840439366883,
         0.33196810629539386,
         0.2887965317643849,
         0.2933707488389827,
         0.2641784148779077,
         0.2693542776474279,
         0.2600854938838143,
         0.32329343828274226,
         0.277650949226775,
         0.2880513178656932,
         0.2933687100042201,
         0.31125034913907645,
         0.2694673232868575,
         0.2888182848852839,
         0.27085878147851206,
         0.280546332444379,
         0.29338223787000856,
         0.30888486414784466,
         0.30148482107353936,
         0.31099619548073465,
         0.31490671182722013,
         0.31948893820773117,
         0.3011366208335108,
         0.3117985315906782,
         0.2739483998012139,
         0.2977950970258666,
         0.28685864103053194,
         0.28217899777264716,
         0.30448128731130536,
         0.28242307976144415,
         0.2786057697901031,
         0.3321743071262158,
         0.30774656437392633,
         0.30829417274876725,
         0.2693299833918084,
         0.2861733979941978,
         0.299992883209382,
         0.2727758116585774,
         0.29189838086690123,
         0.3046353403079119,
         0.28111038062075433,
         0.29264022891555974,
         0.29977545777968256,
         0.32811777506870665,
         0.2847941087245129,
         0.27885845940411647,
         0.2616102413184956,
         0.29930554850336305,
         0.28067412066035946,
         0.29662691066270863,
         0.33041894825512774,
         0.3293372713540333,
         0.3235508873771831,
         0.24691247590454535,
         0.2544612732868263,
         0.2900291866050399,
         0.29009739840825544,
         0.30551069922288854,
         0.3286899214606489,
         0.31638092827172265,
         0.31260003736887904,
         0.2896894754654237,
         0.2990454409311972,
         0.27979143342717994,
         0.2907245947552867,
         0.3132838685281435,
         0.31197702859818305,
         0.29149025928050576,
         0.29721203869361096,
         0.3033127094312067,
         0.30047787393810865,
         0.31990701111791875
        ],
        [
         0.49798053646227347,
         0.5120584781630896,
         0.4755577906384133,
         0.46971622029086574,
         0.4523605510010384,
         0.45380358094116674,
         0.5051956354989671,
         0.47498729372164233,
         0.46230869510909545,
         0.4615132148726843,
         0.5041908189072274,
         0.5081302798702382,
         0.47177996853133664,
         0.4569058644934557,
         0.49354927459498865,
         0.4930913067772053,
         0.48550392346223814,
         0.4530939407064579,
         0.5076335856108927,
         0.4528537712409161,
         0.457368486316409,
         0.4617578293546103,
         0.49412688383599745,
         0.4737595803453587,
         0.5099489613785408,
         0.4761384188546799,
         0.44540353709599,
         0.44639049166580663,
         0.4968258760287426,
         0.5042331594391726,
         0.47150925392052156,
         0.4790056332363747,
         0.4579268350615166,
         0.45688287237426267,
         0.4530141438706778,
         0.501078020723071,
         0.4641159079386853,
         0.4792719989432953,
         0.47696196915348993,
         0.48731758961221205,
         0.46334969321032987,
         0.4796263262047432,
         0.4617453477694653,
         0.47090746307512743,
         0.4822617239668034,
         0.48663801805814727,
         0.48020200127502904,
         0.48913430789252743,
         0.49778518223902213,
         0.4945036827935837,
         0.48631671065231785,
         0.49266897881170735,
         0.4610060586943291,
         0.4773028730764054,
         0.48345594996353614,
         0.4752919487073086,
         0.48220277497312053,
         0.4753464072360657,
         0.4688957087113522,
         0.5049486249103211,
         0.4982269979431294,
         0.489594163687434,
         0.4623383752419613,
         0.4773561037494801,
         0.4774859301163815,
         0.461838082538452,
         0.48285244771977887,
         0.4828131608082913,
         0.472925049753394,
         0.4718915774836205,
         0.4861745885922574,
         0.5082751333131454,
         0.4754267870797776,
         0.4661339021637104,
         0.4565669506206177,
         0.4870209283544682,
         0.4714786528958939,
         0.483416357205715,
         0.5067665472044609,
         0.5023928701295517,
         0.5005484446301125,
         0.4409300691797398,
         0.44850863137980923,
         0.475737048627343,
         0.4755322172655724,
         0.48492918530246243,
         0.5069014481618069,
         0.5005256056203506,
         0.4983461826457642,
         0.4755550514324568,
         0.4901267133071087,
         0.46760137447854505,
         0.47609640242299067,
         0.4965685795410536,
         0.4869936435832642,
         0.4764046489610337,
         0.47962433168431745,
         0.4807495064451359,
         0.4863420761539601,
         0.49594014728209
        ],
        [
         9.959610729245469,
         10.241169563261792,
         9.511155812768266,
         9.394324405817315,
         9.047211020020768,
         9.076071618823335,
         10.10391270997934,
         9.499745874432847,
         9.246173902181908,
         9.230264297453687,
         10.083816378144547,
         10.162605597404763,
         9.435599370626733,
         9.138117289869115,
         9.870985491899773,
         9.861826135544106,
         9.710078469244763,
         9.061878814129159,
         10.152671712217852,
         9.057075424818322,
         9.14736972632818,
         9.235156587092206,
         9.882537676719949,
         9.475191606907174,
         10.198979227570817,
         9.522768377093598,
         8.9080707419198,
         8.927809833316132,
         9.936517520574853,
         10.084663188783452,
         9.430185078410432,
         9.580112664727494,
         9.158536701230332,
         9.137657447485253,
         9.060282877413556,
         10.021560414461419,
         9.282318158773705,
         9.585439978865907,
         9.539239383069798,
         9.74635179224424,
         9.266993864206597,
         9.592526524094865,
         9.234906955389306,
         9.418149261502549,
         9.645234479336068,
         9.732760361162946,
         9.60404002550058,
         9.782686157850549,
         9.955703644780442,
         9.890073655871674,
         9.726334213046357,
         9.853379576234147,
         9.220121173886582,
         9.546057461528108,
         9.669118999270722,
         9.505838974146172,
         9.64405549946241,
         9.506928144721314,
         9.377914174227044,
         10.098972498206422,
         9.964539958862588,
         9.791883273748681,
         9.246767504839227,
         9.547122074989602,
         9.54971860232763,
         9.23676165076904,
         9.657048954395577,
         9.656263216165826,
         9.45850099506788,
         9.43783154967241,
         9.723491771845147,
         10.16550266626291,
         9.508535741595551,
         9.322678043274209,
         9.131339012412354,
         9.740418567089364,
         9.429573057917878,
         9.6683271441143,
         10.135330944089219,
         10.047857402591035,
         10.01096889260225,
         8.818601383594796,
         8.970172627596185,
         9.51474097254686,
         9.510644345311448,
         9.698583706049249,
         10.138028963236138,
         10.010512112407014,
         9.966923652915284,
         9.511101028649136,
         9.802534266142175,
         9.3520274895709,
         9.521928048459813,
         9.931371590821072,
         9.739872871665284,
         9.528092979220673,
         9.592486633686349,
         9.614990128902718,
         9.726841523079202,
         9.9188029456418
        ],
        [
         2.507790744898681,
         2.5952558244035653,
         2.387548250434027,
         2.3595766629142276,
         2.2962185115888136,
         2.2944926524048967,
         2.545169582487103,
         2.4723009592185483,
         2.291230927994544,
         2.3494275024395868,
         2.5429842468807395,
         2.56019966819482,
         2.381812479233312,
         2.322109792163764,
         2.4995407755796912,
         2.519103174162849,
         2.438628752312907,
         2.3150133116937086,
         2.559311093937191,
         2.311519433593874,
         2.304797845368215,
         2.32099701369583,
         2.5070074481241775,
         2.449542816839248,
         2.6115053822050247,
         2.409107698374216,
         2.2560576007362445,
         2.272687489597119,
         2.5138975473821055,
         2.5766959707943577,
         2.403316590732003,
         2.4222747525373034,
         2.298601378568749,
         2.321009597771745,
         2.2807257348651735,
         2.542807260815268,
         2.356484454549934,
         2.4002138149160515,
         2.4222663354974823,
         2.4949963893323632,
         2.32149660041473,
         2.4034071019504117,
         2.3274826808314257,
         2.3687394641217048,
         2.4223221828237818,
         2.4854973914604885,
         2.4555440174166674,
         2.4939775278888727,
         2.509608383103707,
         2.5278011718002316,
         2.4541255910548294,
         2.497192550007621,
         2.3407195466403654,
         2.4404716635350083,
         2.3952396165333103,
         2.375622014431787,
         2.4677167070444104,
         2.3766492368940106,
         2.3605328626820814,
         2.577496099419806,
         2.480913397819143,
         2.483119702103655,
         2.3209049243422637,
         2.392377052198076,
         2.4494606884348316,
         2.335704654525385,
         2.416188655162925,
         2.468340901528441,
         2.371119485056602,
         2.4192570302287426,
         2.4485728814135084,
         2.561709488090742,
         2.3866047378001785,
         2.3616030970682456,
         2.287401326040079,
         2.4466530138266975,
         2.3692788804206204,
         2.4356802362490386,
         2.5706767523557983,
         2.566465551508663,
         2.5438195194517363,
         2.2222172526760087,
         2.2559311748669386,
         2.4084401034903897,
         2.4087233066844997,
         2.4718847029054105,
         2.5639419707187168,
         2.5154758129297234,
         2.5004001174567203,
         2.4070291874650116,
         2.445589666854181,
         2.36555039442063,
         2.411325754663964,
         2.5031335103351697,
         2.497907238462562,
         2.414498951254714,
         2.4380813714624496,
         2.4629766926676617,
         2.451439878675831,
         2.5294545305971354
        ]
       ],
       "encoder": "json",
       "name": "ABC_GAN_3 Metrics",
       "version": 1
      }
     },
     "metadata": {
      "scrapbook": {
       "data": true,
       "display": false,
       "name": "ABC_GAN_3 Metrics"
      }
     },
     "output_type": "display_data"
    },
    {
     "name": "stdout",
     "output_type": "stream",
     "text": [
      "MSE\n",
      "0.2949345337904422\n"
     ]
    }
   ],
   "source": [
    "ABC_GAN3_metrics=ABC_train_test2.test_generator(gen3,test_data,prior_model,variance,bias,\"3\",device)\n",
    "sb.glue(\"ABC_GAN_3 Metrics\",ABC_GAN3_metrics)\n",
    "\n",
    "print(\"MSE\")\n",
    "print(mean(ABC_GAN3_metrics[0]))"
   ]
  },
  {
   "cell_type": "code",
   "execution_count": 18,
   "id": "c8e46b48",
   "metadata": {
    "execution": {
     "iopub.execute_input": "2022-06-22T14:41:00.345539Z",
     "iopub.status.busy": "2022-06-22T14:41:00.342614Z",
     "iopub.status.idle": "2022-06-22T14:41:01.222186Z",
     "shell.execute_reply": "2022-06-22T14:41:01.222670Z"
    },
    "id": "c8e46b48",
    "papermill": {
     "duration": 0.967118,
     "end_time": "2022-06-22T14:41:01.222879",
     "exception": false,
     "start_time": "2022-06-22T14:41:00.255761",
     "status": "completed"
    },
    "tags": []
   },
   "outputs": [
    {
     "data": {
      "image/png": "[encoded data removed]",
      "text/plain": [
       "<Figure size 432x288 with 1 Axes>"
      ]
     },
     "metadata": {
      "needs_background": "light"
     },
     "output_type": "display_data"
    },
    {
     "data": {
      "image/png": "[encoded data removed]",
      "text/plain": [
       "<Figure size 432x288 with 1 Axes>"
      ]
     },
     "metadata": {
      "needs_background": "light"
     },
     "output_type": "display_data"
    },
    {
     "data": {
      "image/png": "[encoded data removed]",
      "text/plain": [
       "<Figure size 432x288 with 1 Axes>"
      ]
     },
     "metadata": {
      "needs_background": "light"
     },
     "output_type": "display_data"
    },
    {
     "data": {
      "image/png": "[encoded data removed]",
      "text/plain": [
       "<Figure size 432x288 with 1 Axes>"
      ]
     },
     "metadata": {
      "needs_background": "light"
     },
     "output_type": "display_data"
    }
   ],
   "source": [
    "sanityChecks.discProbVsError(train_data,disc3,device)\n",
    "sanityChecks.discProbVsError(test_data,disc3,device)"
   ]
  },
  {
   "cell_type": "markdown",
   "id": "a5bd74c3",
   "metadata": {
    "id": "a5bd74c3",
    "papermill": {
     "duration": 0.086665,
     "end_time": "2022-06-22T14:41:01.382345",
     "exception": false,
     "start_time": "2022-06-22T14:41:01.295680",
     "status": "completed"
    },
    "tags": []
   },
   "source": [
    "## Skip Connection Model Analysis - ABC-GAN "
   ]
  },
  {
   "cell_type": "markdown",
   "id": "5744a8bf",
   "metadata": {
    "id": "5744a8bf",
    "papermill": {
     "duration": 0.075836,
     "end_time": "2022-06-22T14:41:01.545623",
     "exception": false,
     "start_time": "2022-06-22T14:41:01.469787",
     "status": "completed"
    },
    "tags": []
   },
   "source": [
    "### Weight Analysis \n",
    "\n",
    "Study the weights of the skip connection layer\n",
    "\n",
    "Equation of the skip connection is \n",
    "\n",
    "$output = y_{gan} * w + y_{abc} * (1-w)$"
   ]
  },
  {
   "cell_type": "code",
   "execution_count": 19,
   "id": "52c31dea",
   "metadata": {
    "execution": {
     "iopub.execute_input": "2022-06-22T14:41:01.705613Z",
     "iopub.status.busy": "2022-06-22T14:41:01.704303Z",
     "iopub.status.idle": "2022-06-22T14:41:01.711147Z",
     "shell.execute_reply": "2022-06-22T14:41:01.711843Z"
    },
    "id": "52c31dea",
    "papermill": {
     "duration": 0.090563,
     "end_time": "2022-06-22T14:41:01.712136",
     "exception": false,
     "start_time": "2022-06-22T14:41:01.621573",
     "status": "completed"
    },
    "tags": []
   },
   "outputs": [
    {
     "name": "stdout",
     "output_type": "stream",
     "text": [
      "Weight of the node at skip connection\n",
      "Parameter containing:\n",
      "tensor([[0.3053]], requires_grad=True)\n"
     ]
    },
    {
     "data": {
      "application/scrapbook.scrap.json+json": {
       "data": 0.30527904629707336,
       "encoder": "json",
       "name": "Skip Connection Weight",
       "version": 1
      }
     },
     "metadata": {
      "scrapbook": {
       "data": true,
       "display": false,
       "name": "Skip Connection Weight"
      }
     },
     "output_type": "display_data"
    }
   ],
   "source": [
    "print(\"Weight of the node at skip connection\")\n",
    "for name,param in gen3.named_parameters():\n",
    "    if(name == \"skipNode.weight\"):\n",
    "        print(param)\n",
    "        sb.glue(\"Skip Connection Weight\",param.item())"
   ]
  }
 ],
 "metadata": {
  "colab": {
   "collapsed_sections": [],
   "name": "ABC_GAN_Model-Catboost_Pre-gen.ipynb",
   "provenance": []
  },
  "interpreter": {
   "hash": "31f2aee4e71d21fbe5cf8b01ff0e069b9275f58929596ceb00d14d90e3e16cd6"
  },
  "kernelspec": {
   "display_name": "Python 3 (ipykernel)",
   "language": "python",
   "name": "python3"
  },
  "language_info": {
   "codemirror_mode": {
    "name": "ipython",
    "version": 3
   },
   "file_extension": ".py",
   "mimetype": "text/x-python",
   "name": "python",
   "nbconvert_exporter": "python",
   "pygments_lexer": "ipython3",
   "version": "3.8.3"
  },
  "papermill": {
   "default_parameters": {},
   "duration": 180.216891,
   "end_time": "2022-06-22T14:41:02.753602",
   "environment_variables": {},
   "exception": null,
   "input_path": "ABC_GAN-TabNet.ipynb",
   "output_path": "./ABC_GAN_TabNet/ABC-GAN_output_6_10.ipynb",
   "parameters": {
    "bias": 0,
    "variance": 0.1
   },
   "start_time": "2022-06-22T14:38:02.536711",
   "version": "2.3.3"
  }
 },
 "nbformat": 4,
 "nbformat_minor": 5
}