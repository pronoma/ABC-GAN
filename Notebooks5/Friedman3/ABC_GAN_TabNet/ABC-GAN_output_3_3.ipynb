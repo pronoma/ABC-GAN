{
 "cells": [
  {
   "cell_type": "markdown",
   "id": "622780e6",
   "metadata": {
    "id": "622780e6",
    "papermill": {
     "duration": 0.025105,
     "end_time": "2022-06-22T12:31:11.986672",
     "exception": false,
     "start_time": "2022-06-22T12:31:11.961567",
     "status": "completed"
    },
    "tags": []
   },
   "source": [
    "## Import Libraries "
   ]
  },
  {
   "cell_type": "code",
   "execution_count": 1,
   "id": "a62397e3",
   "metadata": {
    "execution": {
     "iopub.execute_input": "2022-06-22T12:31:12.040480Z",
     "iopub.status.busy": "2022-06-22T12:31:12.038961Z",
     "iopub.status.idle": "2022-06-22T12:31:12.046829Z",
     "shell.execute_reply": "2022-06-22T12:31:12.047942Z"
    },
    "id": "a62397e3",
    "papermill": {
     "duration": 0.040398,
     "end_time": "2022-06-22T12:31:12.048452",
     "exception": false,
     "start_time": "2022-06-22T12:31:12.008054",
     "status": "completed"
    },
    "tags": []
   },
   "outputs": [],
   "source": [
    "import warnings\n",
    "import sys\n",
    "sys.path.insert(0, '../../src')\n",
    "warnings.filterwarnings('ignore')"
   ]
  },
  {
   "cell_type": "code",
   "execution_count": 2,
   "id": "d6a4e155",
   "metadata": {
    "execution": {
     "iopub.execute_input": "2022-06-22T12:31:12.090399Z",
     "iopub.status.busy": "2022-06-22T12:31:12.088529Z",
     "iopub.status.idle": "2022-06-22T12:31:17.885482Z",
     "shell.execute_reply": "2022-06-22T12:31:17.886462Z"
    },
    "id": "d6a4e155",
    "papermill": {
     "duration": 5.820046,
     "end_time": "2022-06-22T12:31:17.886686",
     "exception": false,
     "start_time": "2022-06-22T12:31:12.066640",
     "status": "completed"
    },
    "tags": []
   },
   "outputs": [],
   "source": [
    "import ABC_train_test2\n",
    "import friedman3Dataset\n",
    "import network\n",
    "import dataset\n",
    "import sanityChecks\n",
    "import torch \n",
    "import scrapbook as sb\n",
    "from statistics import mean \n",
    "import catboost as ctb \n",
    "from sklearn.model_selection import train_test_split\n",
    "from sklearn.metrics import mean_squared_error,mean_absolute_error\n",
    "import numpy as np\n",
    "from pytorch_tabnet.tab_model import TabNetRegressor"
   ]
  },
  {
   "cell_type": "markdown",
   "id": "2fa5b0f7",
   "metadata": {
    "id": "2fa5b0f7",
    "papermill": {
     "duration": 0.017539,
     "end_time": "2022-06-22T12:31:17.919212",
     "exception": false,
     "start_time": "2022-06-22T12:31:17.901673",
     "status": "completed"
    },
    "tags": []
   },
   "source": [
    "## Parameters "
   ]
  },
  {
   "cell_type": "code",
   "execution_count": 3,
   "id": "783186fb",
   "metadata": {
    "execution": {
     "iopub.execute_input": "2022-06-22T12:31:17.976492Z",
     "iopub.status.busy": "2022-06-22T12:31:17.975652Z",
     "iopub.status.idle": "2022-06-22T12:31:17.982558Z",
     "shell.execute_reply": "2022-06-22T12:31:17.983591Z"
    },
    "id": "783186fb",
    "papermill": {
     "duration": 0.04859,
     "end_time": "2022-06-22T12:31:17.983830",
     "exception": false,
     "start_time": "2022-06-22T12:31:17.935240",
     "status": "completed"
    },
    "tags": [
     "parameters"
    ]
   },
   "outputs": [],
   "source": [
    "variance = 1\n",
    "bias = 1 "
   ]
  },
  {
   "cell_type": "code",
   "execution_count": 4,
   "id": "4b398519",
   "metadata": {
    "execution": {
     "iopub.execute_input": "2022-06-22T12:31:18.019579Z",
     "iopub.status.busy": "2022-06-22T12:31:18.018056Z",
     "iopub.status.idle": "2022-06-22T12:31:18.020780Z",
     "shell.execute_reply": "2022-06-22T12:31:18.021269Z"
    },
    "papermill": {
     "duration": 0.022233,
     "end_time": "2022-06-22T12:31:18.021654",
     "exception": false,
     "start_time": "2022-06-22T12:31:17.999421",
     "status": "completed"
    },
    "tags": [
     "injected-parameters"
    ]
   },
   "outputs": [],
   "source": [
    "# Parameters\n",
    "variance = 1\n",
    "bias = 0.1\n"
   ]
  },
  {
   "cell_type": "markdown",
   "id": "391cdbfd",
   "metadata": {
    "id": "391cdbfd",
    "papermill": {
     "duration": 0.040595,
     "end_time": "2022-06-22T12:31:18.076395",
     "exception": false,
     "start_time": "2022-06-22T12:31:18.035800",
     "status": "completed"
    },
    "tags": []
   },
   "source": [
    "## Dataset \n"
   ]
  },
  {
   "cell_type": "code",
   "execution_count": 5,
   "id": "5b51f161",
   "metadata": {
    "execution": {
     "iopub.execute_input": "2022-06-22T12:31:18.118827Z",
     "iopub.status.busy": "2022-06-22T12:31:18.116931Z",
     "iopub.status.idle": "2022-06-22T12:31:18.120210Z",
     "shell.execute_reply": "2022-06-22T12:31:18.120737Z"
    },
    "id": "5b51f161",
    "papermill": {
     "duration": 0.026738,
     "end_time": "2022-06-22T12:31:18.120961",
     "exception": false,
     "start_time": "2022-06-22T12:31:18.094223",
     "status": "completed"
    },
    "tags": []
   },
   "outputs": [],
   "source": [
    "#Parameters \n",
    "n_features = 4\n",
    "n_samples= 100\n",
    "n_target = 1"
   ]
  },
  {
   "cell_type": "code",
   "execution_count": 6,
   "id": "5d6eced4",
   "metadata": {
    "execution": {
     "iopub.execute_input": "2022-06-22T12:31:18.209127Z",
     "iopub.status.busy": "2022-06-22T12:31:18.203587Z",
     "iopub.status.idle": "2022-06-22T12:31:18.212572Z",
     "shell.execute_reply": "2022-06-22T12:31:18.213202Z"
    },
    "id": "5d6eced4",
    "papermill": {
     "duration": 0.076439,
     "end_time": "2022-06-22T12:31:18.213434",
     "exception": false,
     "start_time": "2022-06-22T12:31:18.136995",
     "status": "completed"
    },
    "tags": []
   },
   "outputs": [
    {
     "name": "stdout",
     "output_type": "stream",
     "text": [
      "          X1           X2        X3        X4         Y\n",
      "0  25.451449   292.683124  0.443619  7.330704  1.451127\n",
      "1  70.234435  1567.484035  0.630085  3.755201  1.561860\n",
      "2  23.019871  1690.965395  0.262600  5.315012  1.525357\n",
      "3  24.622083   595.505075  0.441488  4.077369  1.546820\n",
      "4  26.201140  1527.445724  0.186505  2.895484  1.600581\n"
     ]
    }
   ],
   "source": [
    "X,Y = friedman3Dataset.friedman3_data(n_samples)"
   ]
  },
  {
   "cell_type": "code",
   "execution_count": 7,
   "id": "fe007438",
   "metadata": {
    "execution": {
     "iopub.execute_input": "2022-06-22T12:31:18.250356Z",
     "iopub.status.busy": "2022-06-22T12:31:18.248307Z",
     "iopub.status.idle": "2022-06-22T12:31:18.252136Z",
     "shell.execute_reply": "2022-06-22T12:31:18.252748Z"
    },
    "id": "fe007438",
    "papermill": {
     "duration": 0.024038,
     "end_time": "2022-06-22T12:31:18.253208",
     "exception": false,
     "start_time": "2022-06-22T12:31:18.229170",
     "status": "completed"
    },
    "tags": []
   },
   "outputs": [],
   "source": [
    "#Train test split for dataset \n",
    "X_train,X_test,Y_train,Y_test = train_test_split(X,Y,test_size = 0.2)\n",
    "train_data = dataset.CustomDataset(X_train,Y_train)\n",
    "test_data = dataset.CustomDataset(X_test,Y_test)\n"
   ]
  },
  {
   "cell_type": "markdown",
   "id": "a9a1af34",
   "metadata": {
    "id": "a9a1af34",
    "papermill": {
     "duration": 0.028155,
     "end_time": "2022-06-22T12:31:18.297722",
     "exception": false,
     "start_time": "2022-06-22T12:31:18.269567",
     "status": "completed"
    },
    "tags": []
   },
   "source": [
    "## Training Parameters "
   ]
  },
  {
   "cell_type": "code",
   "execution_count": 8,
   "id": "952b7fc8",
   "metadata": {
    "execution": {
     "iopub.execute_input": "2022-06-22T12:31:18.338466Z",
     "iopub.status.busy": "2022-06-22T12:31:18.335728Z",
     "iopub.status.idle": "2022-06-22T12:31:18.339679Z",
     "shell.execute_reply": "2022-06-22T12:31:18.339122Z"
    },
    "id": "952b7fc8",
    "papermill": {
     "duration": 0.025237,
     "end_time": "2022-06-22T12:31:18.339874",
     "exception": false,
     "start_time": "2022-06-22T12:31:18.314637",
     "status": "completed"
    },
    "tags": []
   },
   "outputs": [],
   "source": [
    "batch_size = 32\n",
    "n_epochs = 1000\n",
    "#Select the device \n",
    "device = torch.device('cuda' if torch.cuda.is_available() else 'cpu')"
   ]
  },
  {
   "cell_type": "markdown",
   "id": "a95e1600",
   "metadata": {
    "id": "a95e1600",
    "papermill": {
     "duration": 0.017423,
     "end_time": "2022-06-22T12:31:18.373790",
     "exception": false,
     "start_time": "2022-06-22T12:31:18.356367",
     "status": "completed"
    },
    "tags": []
   },
   "source": [
    "# ABC Pre-generator Model \n",
    "\n",
    "1. The catboost model is used as a pre-generator model for the ABC-GAN. \n",
    "2. The model is first trained on the entire dataset \n",
    "3. It generats X,Y pairs and we add some Gaussian noise with mean 0 and variance 1 to it which is then feed as input to the generator.\n"
   ]
  },
  {
   "cell_type": "code",
   "execution_count": 9,
   "id": "ff8ce7bd",
   "metadata": {
    "execution": {
     "iopub.execute_input": "2022-06-22T12:31:18.427167Z",
     "iopub.status.busy": "2022-06-22T12:31:18.425557Z",
     "iopub.status.idle": "2022-06-22T12:31:35.175812Z",
     "shell.execute_reply": "2022-06-22T12:31:35.176323Z"
    },
    "id": "ff8ce7bd",
    "papermill": {
     "duration": 16.785947,
     "end_time": "2022-06-22T12:31:35.176554",
     "exception": false,
     "start_time": "2022-06-22T12:31:18.390607",
     "status": "completed"
    },
    "tags": []
   },
   "outputs": [
    {
     "name": "stdout",
     "output_type": "stream",
     "text": [
      "Device used : cpu\n"
     ]
    },
    {
     "name": "stdout",
     "output_type": "stream",
     "text": [
      "epoch 0  | loss: 1.05899 | train_mse: 6.04551 | train_mae: 1.63004 |  0:00:00s\n",
      "epoch 1  | loss: 1.10356 | train_mse: 2.05846 | train_mae: 1.10915 |  0:00:00s\n",
      "epoch 2  | loss: 0.66885 | train_mse: 2.94005 | train_mae: 1.34897 |  0:00:00s\n"
     ]
    },
    {
     "name": "stdout",
     "output_type": "stream",
     "text": [
      "epoch 3  | loss: 0.48629 | train_mse: 1.96059 | train_mae: 1.11774 |  0:00:00s\n",
      "epoch 4  | loss: 0.51094 | train_mse: 1.17695 | train_mae: 0.86891 |  0:00:00s\n",
      "epoch 5  | loss: 0.38247 | train_mse: 3.16846 | train_mae: 1.29987 |  0:00:00s\n"
     ]
    },
    {
     "name": "stdout",
     "output_type": "stream",
     "text": [
      "epoch 6  | loss: 0.37214 | train_mse: 5.64261 | train_mae: 1.58886 |  0:00:00s\n",
      "epoch 7  | loss: 0.35295 | train_mse: 6.34755 | train_mae: 1.53558 |  0:00:00s\n"
     ]
    },
    {
     "name": "stdout",
     "output_type": "stream",
     "text": [
      "epoch 8  | loss: 0.34585 | train_mse: 5.78029 | train_mae: 1.43245 |  0:00:00s\n",
      "epoch 9  | loss: 0.44628 | train_mse: 3.24775 | train_mae: 1.17086 |  0:00:01s\n",
      "epoch 10 | loss: 0.37192 | train_mse: 1.74417 | train_mae: 0.95974 |  0:00:01s\n"
     ]
    },
    {
     "name": "stdout",
     "output_type": "stream",
     "text": [
      "epoch 11 | loss: 0.39328 | train_mse: 0.81449 | train_mae: 0.68645 |  0:00:01s\n",
      "epoch 12 | loss: 0.41444 | train_mse: 0.87176 | train_mae: 0.7091  |  0:00:01s\n",
      "epoch 13 | loss: 0.53173 | train_mse: 0.85405 | train_mae: 0.69329 |  0:00:01s\n",
      "epoch 14 | loss: 0.3006  | train_mse: 0.76015 | train_mae: 0.60623 |  0:00:01s\n"
     ]
    },
    {
     "name": "stdout",
     "output_type": "stream",
     "text": [
      "epoch 15 | loss: 0.28835 | train_mse: 0.78697 | train_mae: 0.6141  |  0:00:01s\n",
      "epoch 16 | loss: 0.33227 | train_mse: 0.64177 | train_mae: 0.57198 |  0:00:01s\n",
      "epoch 17 | loss: 0.49663 | train_mse: 0.54442 | train_mae: 0.53664 |  0:00:01s\n"
     ]
    },
    {
     "name": "stdout",
     "output_type": "stream",
     "text": [
      "epoch 18 | loss: 0.41738 | train_mse: 0.49301 | train_mae: 0.5246  |  0:00:01s\n",
      "epoch 19 | loss: 0.30335 | train_mse: 0.37354 | train_mae: 0.48636 |  0:00:01s\n",
      "epoch 20 | loss: 0.31271 | train_mse: 0.31509 | train_mae: 0.45331 |  0:00:01s\n"
     ]
    },
    {
     "name": "stdout",
     "output_type": "stream",
     "text": [
      "epoch 21 | loss: 0.33732 | train_mse: 0.31107 | train_mae: 0.45277 |  0:00:01s\n",
      "epoch 22 | loss: 0.30883 | train_mse: 0.31655 | train_mae: 0.44076 |  0:00:01s\n",
      "epoch 23 | loss: 0.29863 | train_mse: 0.38483 | train_mae: 0.47333 |  0:00:02s\n"
     ]
    },
    {
     "name": "stdout",
     "output_type": "stream",
     "text": [
      "epoch 24 | loss: 0.38848 | train_mse: 0.37221 | train_mae: 0.46498 |  0:00:02s\n",
      "epoch 25 | loss: 0.33638 | train_mse: 0.27431 | train_mae: 0.39337 |  0:00:02s\n",
      "epoch 26 | loss: 0.35479 | train_mse: 0.2586  | train_mae: 0.38898 |  0:00:02s\n",
      "epoch 27 | loss: 0.28216 | train_mse: 0.27062 | train_mae: 0.39584 |  0:00:02s\n"
     ]
    },
    {
     "name": "stdout",
     "output_type": "stream",
     "text": [
      "epoch 28 | loss: 0.31194 | train_mse: 0.22971 | train_mae: 0.36975 |  0:00:02s\n",
      "epoch 29 | loss: 0.22944 | train_mse: 0.28257 | train_mae: 0.38062 |  0:00:02s\n",
      "epoch 30 | loss: 0.31809 | train_mse: 0.29923 | train_mae: 0.37524 |  0:00:02s\n",
      "epoch 31 | loss: 0.24506 | train_mse: 0.3349  | train_mae: 0.38939 |  0:00:02s\n"
     ]
    },
    {
     "name": "stdout",
     "output_type": "stream",
     "text": [
      "epoch 32 | loss: 0.33702 | train_mse: 0.31543 | train_mae: 0.3781  |  0:00:02s\n",
      "epoch 33 | loss: 0.27713 | train_mse: 0.24818 | train_mae: 0.35526 |  0:00:02s\n",
      "epoch 34 | loss: 0.25419 | train_mse: 0.20238 | train_mae: 0.3379  |  0:00:02s\n",
      "epoch 35 | loss: 0.22265 | train_mse: 0.19715 | train_mae: 0.34086 |  0:00:02s\n"
     ]
    },
    {
     "name": "stdout",
     "output_type": "stream",
     "text": [
      "epoch 36 | loss: 0.24333 | train_mse: 0.23973 | train_mae: 0.36961 |  0:00:02s\n",
      "epoch 37 | loss: 0.29575 | train_mse: 0.25999 | train_mae: 0.37489 |  0:00:02s\n",
      "epoch 38 | loss: 0.24915 | train_mse: 0.2796  | train_mae: 0.37217 |  0:00:03s\n"
     ]
    },
    {
     "name": "stdout",
     "output_type": "stream",
     "text": [
      "epoch 39 | loss: 0.26475 | train_mse: 0.32473 | train_mae: 0.3857  |  0:00:03s\n",
      "epoch 40 | loss: 0.32633 | train_mse: 0.30897 | train_mae: 0.3771  |  0:00:03s\n",
      "epoch 41 | loss: 0.18936 | train_mse: 0.27274 | train_mae: 0.35965 |  0:00:03s\n",
      "epoch 42 | loss: 0.17251 | train_mse: 0.24156 | train_mae: 0.34746 |  0:00:03s\n"
     ]
    },
    {
     "name": "stdout",
     "output_type": "stream",
     "text": [
      "epoch 43 | loss: 0.23309 | train_mse: 0.31907 | train_mae: 0.39869 |  0:00:03s\n",
      "epoch 44 | loss: 0.21144 | train_mse: 0.35517 | train_mae: 0.41921 |  0:00:03s\n",
      "epoch 45 | loss: 0.23489 | train_mse: 0.27534 | train_mae: 0.37237 |  0:00:03s\n",
      "epoch 46 | loss: 0.3385  | train_mse: 0.24704 | train_mae: 0.34827 |  0:00:03s\n"
     ]
    },
    {
     "name": "stdout",
     "output_type": "stream",
     "text": [
      "epoch 47 | loss: 0.17506 | train_mse: 0.17583 | train_mae: 0.30559 |  0:00:03s\n",
      "epoch 48 | loss: 0.24185 | train_mse: 0.17655 | train_mae: 0.30375 |  0:00:03s\n",
      "epoch 49 | loss: 0.21563 | train_mse: 0.20054 | train_mae: 0.32289 |  0:00:03s\n"
     ]
    },
    {
     "name": "stdout",
     "output_type": "stream",
     "text": [
      "epoch 50 | loss: 0.21036 | train_mse: 0.18874 | train_mae: 0.31433 |  0:00:03s\n",
      "epoch 51 | loss: 0.20687 | train_mse: 0.14004 | train_mae: 0.2793  |  0:00:03s\n",
      "epoch 52 | loss: 0.27242 | train_mse: 0.15532 | train_mae: 0.30306 |  0:00:04s\n"
     ]
    },
    {
     "name": "stdout",
     "output_type": "stream",
     "text": [
      "epoch 53 | loss: 0.16241 | train_mse: 0.10883 | train_mae: 0.2503  |  0:00:04s\n",
      "epoch 54 | loss: 0.16371 | train_mse: 0.16057 | train_mae: 0.29479 |  0:00:04s\n",
      "epoch 55 | loss: 0.24615 | train_mse: 0.19072 | train_mae: 0.3259  |  0:00:04s\n"
     ]
    },
    {
     "name": "stdout",
     "output_type": "stream",
     "text": [
      "epoch 56 | loss: 0.20461 | train_mse: 0.13518 | train_mae: 0.28511 |  0:00:04s\n",
      "epoch 57 | loss: 0.17294 | train_mse: 0.12126 | train_mae: 0.27165 |  0:00:04s\n",
      "epoch 58 | loss: 0.19982 | train_mse: 0.14139 | train_mae: 0.29813 |  0:00:04s\n",
      "epoch 59 | loss: 0.13294 | train_mse: 0.12131 | train_mae: 0.2684  |  0:00:04s\n"
     ]
    },
    {
     "name": "stdout",
     "output_type": "stream",
     "text": [
      "epoch 60 | loss: 0.19415 | train_mse: 0.11925 | train_mae: 0.26428 |  0:00:04s\n",
      "epoch 61 | loss: 0.12194 | train_mse: 0.09809 | train_mae: 0.2445  |  0:00:04s\n",
      "epoch 62 | loss: 0.11818 | train_mse: 0.12013 | train_mae: 0.26722 |  0:00:04s\n"
     ]
    },
    {
     "name": "stdout",
     "output_type": "stream",
     "text": [
      "epoch 63 | loss: 0.26786 | train_mse: 0.12947 | train_mae: 0.28186 |  0:00:04s\n",
      "epoch 64 | loss: 0.14741 | train_mse: 0.11461 | train_mae: 0.25799 |  0:00:04s\n",
      "epoch 65 | loss: 0.15578 | train_mse: 0.28969 | train_mae: 0.37921 |  0:00:05s\n"
     ]
    },
    {
     "name": "stdout",
     "output_type": "stream",
     "text": [
      "epoch 66 | loss: 0.13537 | train_mse: 0.3766  | train_mae: 0.4248  |  0:00:05s\n",
      "epoch 67 | loss: 0.17585 | train_mse: 0.27232 | train_mae: 0.37574 |  0:00:05s\n",
      "epoch 68 | loss: 0.12083 | train_mse: 0.22457 | train_mae: 0.34057 |  0:00:05s\n"
     ]
    },
    {
     "name": "stdout",
     "output_type": "stream",
     "text": [
      "epoch 69 | loss: 0.13288 | train_mse: 0.11532 | train_mae: 0.2566  |  0:00:05s\n",
      "epoch 70 | loss: 0.16453 | train_mse: 0.10396 | train_mae: 0.24751 |  0:00:05s\n",
      "epoch 71 | loss: 0.17705 | train_mse: 0.09576 | train_mae: 0.24023 |  0:00:05s\n"
     ]
    },
    {
     "name": "stdout",
     "output_type": "stream",
     "text": [
      "epoch 72 | loss: 0.1641  | train_mse: 0.09398 | train_mae: 0.23754 |  0:00:05s\n",
      "epoch 73 | loss: 0.17173 | train_mse: 0.11089 | train_mae: 0.2642  |  0:00:05s\n",
      "epoch 74 | loss: 0.14883 | train_mse: 0.1185  | train_mae: 0.27146 |  0:00:05s\n"
     ]
    },
    {
     "name": "stdout",
     "output_type": "stream",
     "text": [
      "epoch 75 | loss: 0.20683 | train_mse: 0.1239  | train_mae: 0.26917 |  0:00:05s\n"
     ]
    },
    {
     "name": "stdout",
     "output_type": "stream",
     "text": [
      "epoch 76 | loss: 0.19644 | train_mse: 0.14881 | train_mae: 0.29212 |  0:00:06s\n",
      "epoch 77 | loss: 0.14734 | train_mse: 0.15741 | train_mae: 0.29536 |  0:00:06s\n",
      "epoch 78 | loss: 0.25433 | train_mse: 0.1716  | train_mae: 0.30562 |  0:00:06s\n"
     ]
    },
    {
     "name": "stdout",
     "output_type": "stream",
     "text": [
      "epoch 79 | loss: 0.36813 | train_mse: 0.15115 | train_mae: 0.28323 |  0:00:06s\n",
      "epoch 80 | loss: 0.20934 | train_mse: 0.12261 | train_mae: 0.26356 |  0:00:06s\n",
      "epoch 81 | loss: 0.30145 | train_mse: 0.19172 | train_mae: 0.34857 |  0:00:06s\n",
      "epoch 82 | loss: 0.30973 | train_mse: 0.14408 | train_mae: 0.30281 |  0:00:06s\n"
     ]
    },
    {
     "name": "stdout",
     "output_type": "stream",
     "text": [
      "epoch 83 | loss: 0.15715 | train_mse: 0.09718 | train_mae: 0.24588 |  0:00:06s\n",
      "epoch 84 | loss: 0.14884 | train_mse: 0.11077 | train_mae: 0.26657 |  0:00:06s\n",
      "epoch 85 | loss: 0.19403 | train_mse: 0.11631 | train_mae: 0.26118 |  0:00:06s\n"
     ]
    },
    {
     "name": "stdout",
     "output_type": "stream",
     "text": [
      "epoch 86 | loss: 0.20175 | train_mse: 0.12604 | train_mae: 0.27416 |  0:00:07s\n",
      "epoch 87 | loss: 0.15808 | train_mse: 0.11116 | train_mae: 0.26376 |  0:00:07s\n",
      "epoch 88 | loss: 0.14001 | train_mse: 0.09342 | train_mae: 0.24576 |  0:00:07s\n",
      "epoch 89 | loss: 0.13903 | train_mse: 0.08985 | train_mae: 0.23597 |  0:00:07s\n"
     ]
    },
    {
     "name": "stdout",
     "output_type": "stream",
     "text": [
      "epoch 90 | loss: 0.15547 | train_mse: 0.09055 | train_mae: 0.2365  |  0:00:07s\n",
      "epoch 91 | loss: 0.16199 | train_mse: 0.09679 | train_mae: 0.2472  |  0:00:07s\n",
      "epoch 92 | loss: 0.10748 | train_mse: 0.12036 | train_mae: 0.26457 |  0:00:07s\n",
      "epoch 93 | loss: 0.16042 | train_mse: 0.10176 | train_mae: 0.23978 |  0:00:07s\n"
     ]
    },
    {
     "name": "stdout",
     "output_type": "stream",
     "text": [
      "epoch 94 | loss: 0.10441 | train_mse: 0.10511 | train_mae: 0.24975 |  0:00:07s\n",
      "epoch 95 | loss: 0.11474 | train_mse: 0.10789 | train_mae: 0.26205 |  0:00:07s\n",
      "epoch 96 | loss: 0.14524 | train_mse: 0.10975 | train_mae: 0.26916 |  0:00:07s\n",
      "epoch 97 | loss: 0.23845 | train_mse: 0.11457 | train_mae: 0.26881 |  0:00:07s\n"
     ]
    },
    {
     "name": "stdout",
     "output_type": "stream",
     "text": [
      "epoch 98 | loss: 0.16681 | train_mse: 0.10845 | train_mae: 0.25896 |  0:00:07s\n",
      "epoch 99 | loss: 0.16702 | train_mse: 0.11573 | train_mae: 0.26924 |  0:00:07s\n",
      "epoch 100| loss: 0.1945  | train_mse: 0.1305  | train_mae: 0.28267 |  0:00:07s\n",
      "epoch 101| loss: 0.11367 | train_mse: 0.09888 | train_mae: 0.24846 |  0:00:08s\n"
     ]
    },
    {
     "name": "stdout",
     "output_type": "stream",
     "text": [
      "epoch 102| loss: 0.21455 | train_mse: 0.09184 | train_mae: 0.23445 |  0:00:08s\n",
      "epoch 103| loss: 0.17218 | train_mse: 0.0928  | train_mae: 0.23483 |  0:00:08s\n",
      "epoch 104| loss: 0.1906  | train_mse: 0.14717 | train_mae: 0.28046 |  0:00:08s\n",
      "epoch 105| loss: 0.2279  | train_mse: 0.14974 | train_mae: 0.28237 |  0:00:08s\n"
     ]
    },
    {
     "name": "stdout",
     "output_type": "stream",
     "text": [
      "epoch 106| loss: 0.1861  | train_mse: 0.11094 | train_mae: 0.24463 |  0:00:08s\n",
      "epoch 107| loss: 0.241   | train_mse: 0.12468 | train_mae: 0.268   |  0:00:08s\n",
      "epoch 108| loss: 0.13948 | train_mse: 0.13694 | train_mae: 0.28254 |  0:00:08s\n",
      "epoch 109| loss: 0.15658 | train_mse: 0.15358 | train_mae: 0.29074 |  0:00:08s\n"
     ]
    },
    {
     "name": "stdout",
     "output_type": "stream",
     "text": [
      "epoch 110| loss: 0.14938 | train_mse: 0.16093 | train_mae: 0.28642 |  0:00:08s\n",
      "epoch 111| loss: 0.09623 | train_mse: 0.13981 | train_mae: 0.2807  |  0:00:08s\n",
      "epoch 112| loss: 0.15412 | train_mse: 0.12025 | train_mae: 0.26134 |  0:00:08s\n",
      "epoch 113| loss: 0.13841 | train_mse: 0.13674 | train_mae: 0.27101 |  0:00:08s\n"
     ]
    },
    {
     "name": "stdout",
     "output_type": "stream",
     "text": [
      "epoch 114| loss: 0.09702 | train_mse: 0.20481 | train_mae: 0.30143 |  0:00:08s\n",
      "epoch 115| loss: 0.13116 | train_mse: 0.17337 | train_mae: 0.28273 |  0:00:08s\n",
      "epoch 116| loss: 0.10247 | train_mse: 0.1378  | train_mae: 0.26024 |  0:00:09s\n"
     ]
    },
    {
     "name": "stdout",
     "output_type": "stream",
     "text": [
      "epoch 117| loss: 0.20241 | train_mse: 0.13188 | train_mae: 0.26848 |  0:00:09s\n",
      "epoch 118| loss: 0.11571 | train_mse: 0.17448 | train_mae: 0.29636 |  0:00:09s\n",
      "epoch 119| loss: 0.20164 | train_mse: 0.24953 | train_mae: 0.34007 |  0:00:09s\n",
      "epoch 120| loss: 0.14891 | train_mse: 0.19714 | train_mae: 0.31265 |  0:00:09s\n"
     ]
    },
    {
     "name": "stdout",
     "output_type": "stream",
     "text": [
      "epoch 121| loss: 0.10235 | train_mse: 0.12765 | train_mae: 0.25702 |  0:00:09s\n",
      "epoch 122| loss: 0.18591 | train_mse: 0.10041 | train_mae: 0.24889 |  0:00:09s\n",
      "epoch 123| loss: 0.17752 | train_mse: 0.09824 | train_mae: 0.24749 |  0:00:09s\n",
      "epoch 124| loss: 0.15091 | train_mse: 0.08122 | train_mae: 0.22002 |  0:00:09s\n"
     ]
    },
    {
     "name": "stdout",
     "output_type": "stream",
     "text": [
      "epoch 125| loss: 0.1242  | train_mse: 0.15442 | train_mae: 0.27437 |  0:00:09s\n",
      "epoch 126| loss: 0.14229 | train_mse: 0.32167 | train_mae: 0.37387 |  0:00:09s\n",
      "epoch 127| loss: 0.13572 | train_mse: 0.3667  | train_mae: 0.39231 |  0:00:09s\n",
      "epoch 128| loss: 0.13323 | train_mse: 0.26406 | train_mae: 0.33805 |  0:00:09s\n"
     ]
    },
    {
     "name": "stdout",
     "output_type": "stream",
     "text": [
      "epoch 129| loss: 0.15139 | train_mse: 0.18524 | train_mae: 0.28533 |  0:00:09s\n",
      "epoch 130| loss: 0.25125 | train_mse: 0.10992 | train_mae: 0.23134 |  0:00:09s\n",
      "epoch 131| loss: 0.23369 | train_mse: 0.09023 | train_mae: 0.23424 |  0:00:10s\n"
     ]
    },
    {
     "name": "stdout",
     "output_type": "stream",
     "text": [
      "epoch 132| loss: 0.11588 | train_mse: 0.07888 | train_mae: 0.21432 |  0:00:10s\n",
      "epoch 133| loss: 0.14405 | train_mse: 0.07776 | train_mae: 0.21369 |  0:00:10s\n",
      "epoch 134| loss: 0.14223 | train_mse: 0.08276 | train_mae: 0.22175 |  0:00:10s\n"
     ]
    },
    {
     "name": "stdout",
     "output_type": "stream",
     "text": [
      "epoch 135| loss: 0.15758 | train_mse: 0.08879 | train_mae: 0.23118 |  0:00:10s\n",
      "epoch 136| loss: 0.17979 | train_mse: 0.08634 | train_mae: 0.22938 |  0:00:10s\n",
      "epoch 137| loss: 0.12343 | train_mse: 0.08946 | train_mae: 0.23405 |  0:00:10s\n",
      "epoch 138| loss: 0.21841 | train_mse: 0.08508 | train_mae: 0.2265  |  0:00:10s\n"
     ]
    },
    {
     "name": "stdout",
     "output_type": "stream",
     "text": [
      "epoch 139| loss: 0.11689 | train_mse: 0.08588 | train_mae: 0.23253 |  0:00:10s\n",
      "epoch 140| loss: 0.1781  | train_mse: 0.08253 | train_mae: 0.2312  |  0:00:10s\n",
      "epoch 141| loss: 0.14476 | train_mse: 0.07596 | train_mae: 0.22015 |  0:00:10s\n",
      "epoch 142| loss: 0.11857 | train_mse: 0.07876 | train_mae: 0.22537 |  0:00:10s\n"
     ]
    },
    {
     "name": "stdout",
     "output_type": "stream",
     "text": [
      "epoch 143| loss: 0.22703 | train_mse: 0.08417 | train_mae: 0.22343 |  0:00:10s\n",
      "epoch 144| loss: 0.23507 | train_mse: 0.07747 | train_mae: 0.2099  |  0:00:10s\n",
      "epoch 145| loss: 0.11261 | train_mse: 0.07952 | train_mae: 0.21306 |  0:00:10s\n",
      "epoch 146| loss: 0.14525 | train_mse: 0.08167 | train_mae: 0.21805 |  0:00:11s\n"
     ]
    },
    {
     "name": "stdout",
     "output_type": "stream",
     "text": [
      "epoch 147| loss: 0.08472 | train_mse: 0.09822 | train_mae: 0.23377 |  0:00:11s\n",
      "epoch 148| loss: 0.10257 | train_mse: 0.1134  | train_mae: 0.24605 |  0:00:11s\n",
      "epoch 149| loss: 0.15186 | train_mse: 0.10261 | train_mae: 0.2386  |  0:00:11s\n"
     ]
    },
    {
     "name": "stdout",
     "output_type": "stream",
     "text": [
      "epoch 150| loss: 0.13398 | train_mse: 0.10362 | train_mae: 0.23703 |  0:00:11s\n",
      "epoch 151| loss: 0.09246 | train_mse: 0.11766 | train_mae: 0.24237 |  0:00:11s\n",
      "epoch 152| loss: 0.20192 | train_mse: 0.12475 | train_mae: 0.2485  |  0:00:11s\n"
     ]
    },
    {
     "name": "stdout",
     "output_type": "stream",
     "text": [
      "epoch 153| loss: 0.10884 | train_mse: 0.13554 | train_mae: 0.26118 |  0:00:11s\n",
      "epoch 154| loss: 0.19354 | train_mse: 0.11633 | train_mae: 0.25339 |  0:00:11s\n",
      "epoch 155| loss: 0.24143 | train_mse: 0.07656 | train_mae: 0.22487 |  0:00:11s\n",
      "epoch 156| loss: 0.16578 | train_mse: 0.06192 | train_mae: 0.19862 |  0:00:11s\n",
      "epoch 157| loss: 0.10105 | train_mse: 0.06902 | train_mae: 0.21038 |  0:00:11s\n"
     ]
    },
    {
     "name": "stdout",
     "output_type": "stream",
     "text": [
      "epoch 158| loss: 0.12368 | train_mse: 0.07629 | train_mae: 0.22409 |  0:00:11s\n",
      "epoch 159| loss: 0.09229 | train_mse: 0.07646 | train_mae: 0.22157 |  0:00:11s\n",
      "epoch 160| loss: 0.20738 | train_mse: 0.0739  | train_mae: 0.20805 |  0:00:12s\n"
     ]
    },
    {
     "name": "stdout",
     "output_type": "stream",
     "text": [
      "epoch 161| loss: 0.13895 | train_mse: 0.08174 | train_mae: 0.21968 |  0:00:12s\n",
      "epoch 162| loss: 0.11633 | train_mse: 0.08804 | train_mae: 0.21728 |  0:00:12s\n",
      "epoch 163| loss: 0.10814 | train_mse: 0.08473 | train_mae: 0.214   |  0:00:12s\n"
     ]
    },
    {
     "name": "stdout",
     "output_type": "stream",
     "text": [
      "epoch 164| loss: 0.10656 | train_mse: 0.0815  | train_mae: 0.21159 |  0:00:12s\n",
      "epoch 165| loss: 0.11392 | train_mse: 0.07098 | train_mae: 0.20792 |  0:00:12s\n",
      "epoch 166| loss: 0.09659 | train_mse: 0.06783 | train_mae: 0.20656 |  0:00:12s\n",
      "epoch 167| loss: 0.20622 | train_mse: 0.08239 | train_mae: 0.22418 |  0:00:12s\n"
     ]
    },
    {
     "name": "stdout",
     "output_type": "stream",
     "text": [
      "epoch 168| loss: 0.14167 | train_mse: 0.08373 | train_mae: 0.22262 |  0:00:12s\n",
      "epoch 169| loss: 0.12269 | train_mse: 0.08022 | train_mae: 0.2217  |  0:00:12s\n",
      "epoch 170| loss: 0.10397 | train_mse: 0.07624 | train_mae: 0.21162 |  0:00:12s\n",
      "epoch 171| loss: 0.10432 | train_mse: 0.07824 | train_mae: 0.21237 |  0:00:12s\n"
     ]
    },
    {
     "name": "stdout",
     "output_type": "stream",
     "text": [
      "epoch 172| loss: 0.18093 | train_mse: 0.09021 | train_mae: 0.21945 |  0:00:12s\n",
      "epoch 173| loss: 0.10527 | train_mse: 0.09773 | train_mae: 0.22652 |  0:00:12s\n",
      "epoch 174| loss: 0.13882 | train_mse: 0.09236 | train_mae: 0.22282 |  0:00:13s\n"
     ]
    },
    {
     "name": "stdout",
     "output_type": "stream",
     "text": [
      "epoch 175| loss: 0.14094 | train_mse: 0.06749 | train_mae: 0.20167 |  0:00:13s\n",
      "epoch 176| loss: 0.21066 | train_mse: 0.06662 | train_mae: 0.20072 |  0:00:13s\n",
      "epoch 177| loss: 0.11037 | train_mse: 0.06429 | train_mae: 0.19898 |  0:00:13s\n"
     ]
    },
    {
     "name": "stdout",
     "output_type": "stream",
     "text": [
      "epoch 178| loss: 0.11657 | train_mse: 0.06568 | train_mae: 0.19857 |  0:00:13s\n",
      "epoch 179| loss: 0.10595 | train_mse: 0.09449 | train_mae: 0.22044 |  0:00:13s\n",
      "epoch 180| loss: 0.09219 | train_mse: 0.12572 | train_mae: 0.2527  |  0:00:13s\n",
      "epoch 181| loss: 0.17951 | train_mse: 0.11747 | train_mae: 0.25251 |  0:00:13s\n"
     ]
    },
    {
     "name": "stdout",
     "output_type": "stream",
     "text": [
      "epoch 182| loss: 0.17324 | train_mse: 0.1106  | train_mae: 0.2493  |  0:00:13s\n",
      "epoch 183| loss: 0.13165 | train_mse: 0.15091 | train_mae: 0.27927 |  0:00:13s\n",
      "epoch 184| loss: 0.11718 | train_mse: 0.15695 | train_mae: 0.27578 |  0:00:13s\n"
     ]
    },
    {
     "name": "stdout",
     "output_type": "stream",
     "text": [
      "epoch 185| loss: 0.0772  | train_mse: 0.16841 | train_mae: 0.27692 |  0:00:13s\n",
      "epoch 186| loss: 0.10412 | train_mse: 0.17685 | train_mae: 0.27301 |  0:00:13s\n",
      "epoch 187| loss: 0.11147 | train_mse: 0.18331 | train_mae: 0.27284 |  0:00:13s\n",
      "epoch 188| loss: 0.12012 | train_mse: 0.19906 | train_mae: 0.28623 |  0:00:14s\n"
     ]
    },
    {
     "name": "stdout",
     "output_type": "stream",
     "text": [
      "epoch 189| loss: 0.13947 | train_mse: 0.21496 | train_mae: 0.28782 |  0:00:14s\n",
      "epoch 190| loss: 0.12676 | train_mse: 0.20241 | train_mae: 0.28781 |  0:00:14s\n",
      "epoch 191| loss: 0.12917 | train_mse: 0.2123  | train_mae: 0.30184 |  0:00:14s\n",
      "epoch 192| loss: 0.12288 | train_mse: 0.21853 | train_mae: 0.31719 |  0:00:14s\n"
     ]
    },
    {
     "name": "stdout",
     "output_type": "stream",
     "text": [
      "epoch 193| loss: 0.08558 | train_mse: 0.15196 | train_mae: 0.26728 |  0:00:14s\n",
      "epoch 194| loss: 0.19149 | train_mse: 0.13341 | train_mae: 0.25307 |  0:00:14s\n",
      "epoch 195| loss: 0.15916 | train_mse: 0.1085  | train_mae: 0.24836 |  0:00:14s\n",
      "epoch 196| loss: 0.14547 | train_mse: 0.11471 | train_mae: 0.25385 |  0:00:14s\n"
     ]
    },
    {
     "name": "stdout",
     "output_type": "stream",
     "text": [
      "epoch 197| loss: 0.12256 | train_mse: 0.1294  | train_mae: 0.25059 |  0:00:14s\n",
      "epoch 198| loss: 0.24982 | train_mse: 0.1677  | train_mae: 0.28661 |  0:00:14s\n",
      "epoch 199| loss: 0.13894 | train_mse: 0.15492 | train_mae: 0.29562 |  0:00:14s\n",
      "epoch 200| loss: 0.13774 | train_mse: 0.08756 | train_mae: 0.23017 |  0:00:14s\n"
     ]
    },
    {
     "name": "stdout",
     "output_type": "stream",
     "text": [
      "epoch 201| loss: 0.18834 | train_mse: 0.07597 | train_mae: 0.21394 |  0:00:14s\n",
      "epoch 202| loss: 0.15599 | train_mse: 0.08019 | train_mae: 0.22331 |  0:00:14s\n",
      "epoch 203| loss: 0.17048 | train_mse: 0.08882 | train_mae: 0.23992 |  0:00:15s\n",
      "epoch 204| loss: 0.1075  | train_mse: 0.08115 | train_mae: 0.22971 |  0:00:15s\n"
     ]
    },
    {
     "name": "stdout",
     "output_type": "stream",
     "text": [
      "epoch 205| loss: 0.19729 | train_mse: 0.07728 | train_mae: 0.22285 |  0:00:15s\n",
      "epoch 206| loss: 0.1029  | train_mse: 0.10187 | train_mae: 0.24141 |  0:00:15s\n",
      "epoch 207| loss: 0.14267 | train_mse: 0.12849 | train_mae: 0.25301 |  0:00:15s\n",
      "epoch 208| loss: 0.12472 | train_mse: 0.13145 | train_mae: 0.25336 |  0:00:15s\n"
     ]
    },
    {
     "name": "stdout",
     "output_type": "stream",
     "text": [
      "epoch 209| loss: 0.09537 | train_mse: 0.10782 | train_mae: 0.23866 |  0:00:15s\n",
      "epoch 210| loss: 0.14147 | train_mse: 0.07258 | train_mae: 0.2087  |  0:00:15s\n",
      "epoch 211| loss: 0.1539  | train_mse: 0.06496 | train_mae: 0.20349 |  0:00:15s\n",
      "epoch 212| loss: 0.15806 | train_mse: 0.08046 | train_mae: 0.22572 |  0:00:15s\n"
     ]
    },
    {
     "name": "stdout",
     "output_type": "stream",
     "text": [
      "epoch 213| loss: 0.11738 | train_mse: 0.08973 | train_mae: 0.22958 |  0:00:15s\n",
      "epoch 214| loss: 0.18582 | train_mse: 0.06671 | train_mae: 0.2038  |  0:00:15s\n",
      "epoch 215| loss: 0.10871 | train_mse: 0.06763 | train_mae: 0.20291 |  0:00:15s\n",
      "epoch 216| loss: 0.14852 | train_mse: 0.07102 | train_mae: 0.20937 |  0:00:15s\n"
     ]
    },
    {
     "name": "stdout",
     "output_type": "stream",
     "text": [
      "epoch 217| loss: 0.15459 | train_mse: 0.07281 | train_mae: 0.21413 |  0:00:15s\n",
      "epoch 218| loss: 0.17586 | train_mse: 0.09624 | train_mae: 0.25146 |  0:00:16s\n",
      "epoch 219| loss: 0.09133 | train_mse: 0.09266 | train_mae: 0.2414  |  0:00:16s\n"
     ]
    },
    {
     "name": "stdout",
     "output_type": "stream",
     "text": [
      "epoch 220| loss: 0.14016 | train_mse: 0.08562 | train_mae: 0.23162 |  0:00:16s\n",
      "epoch 221| loss: 0.14501 | train_mse: 0.08732 | train_mae: 0.22922 |  0:00:16s\n",
      "epoch 222| loss: 0.13949 | train_mse: 0.08297 | train_mae: 0.21818 |  0:00:16s\n",
      "epoch 223| loss: 0.10853 | train_mse: 0.10364 | train_mae: 0.23958 |  0:00:16s\n"
     ]
    },
    {
     "name": "stdout",
     "output_type": "stream",
     "text": [
      "epoch 224| loss: 0.29155 | train_mse: 0.2586  | train_mae: 0.36918 |  0:00:16s\n",
      "epoch 225| loss: 0.1565  | train_mse: 0.21423 | train_mae: 0.33615 |  0:00:16s\n",
      "epoch 226| loss: 0.1422  | train_mse: 0.12171 | train_mae: 0.27015 |  0:00:16s\n",
      "epoch 227| loss: 0.15929 | train_mse: 0.09868 | train_mae: 0.23527 |  0:00:16s\n"
     ]
    },
    {
     "name": "stdout",
     "output_type": "stream",
     "text": [
      "epoch 228| loss: 0.13501 | train_mse: 0.12599 | train_mae: 0.24459 |  0:00:16s\n",
      "\n",
      "Early stopping occurred at epoch 228 with best_epoch = 178 and best_train_mae = 0.19857\n",
      "Best weights from best epoch are automatically used!\n"
     ]
    }
   ],
   "source": [
    "#Train the Model\n",
    "\n",
    "Y_train = np.reshape(Y_train, (-1, 1))\n",
    "Y_test = np.reshape(Y_test, (-1, 1))\n",
    "\n",
    "prior_model = TabNetRegressor(optimizer_fn=torch.optim.Adam, optimizer_params=dict(lr = 0.02),\n",
    "          #scheduler_params={\"step_size\":10, ], \"gamma\":0.9},\n",
    "          #scheduler_fn=torch.optim.lr_scheduler.StepLR\n",
    "          )  #TabNetRegressor()\n",
    "\n",
    "prior_model.fit(X_train,Y_train,eval_set=[(X_train, Y_train)],\n",
    "            eval_name=['train'], \n",
    "            eval_metric=[ 'mse', 'mae'], \n",
    "            max_epochs = n_epochs, \n",
    "            batch_size = batch_size,\n",
    "            patience=50\n",
    "            )"
   ]
  },
  {
   "cell_type": "code",
   "execution_count": 10,
   "id": "af65dcda",
   "metadata": {
    "execution": {
     "iopub.execute_input": "2022-06-22T12:31:35.254172Z",
     "iopub.status.busy": "2022-06-22T12:31:35.253286Z",
     "iopub.status.idle": "2022-06-22T12:31:35.277998Z",
     "shell.execute_reply": "2022-06-22T12:31:35.278475Z"
    },
    "id": "af65dcda",
    "papermill": {
     "duration": 0.071311,
     "end_time": "2022-06-22T12:31:35.278720",
     "exception": false,
     "start_time": "2022-06-22T12:31:35.207409",
     "status": "completed"
    },
    "tags": []
   },
   "outputs": [
    {
     "data": {
      "application/scrapbook.scrap.json+json": {
       "data": 0.23967433882254197,
       "encoder": "json",
       "name": "Prior Model MSE",
       "version": 1
      }
     },
     "metadata": {
      "scrapbook": {
       "data": true,
       "display": false,
       "name": "Prior Model MSE"
      }
     },
     "output_type": "display_data"
    },
    {
     "data": {
      "application/scrapbook.scrap.json+json": {
       "data": 1.072688708950464,
       "encoder": "json",
       "name": "ABC Pre-generator MSE",
       "version": 1
      }
     },
     "metadata": {
      "scrapbook": {
       "data": true,
       "display": false,
       "name": "ABC Pre-generator MSE"
      }
     },
     "output_type": "display_data"
    },
    {
     "data": {
      "application/scrapbook.scrap.json+json": {
       "data": 0.34348166968970084,
       "encoder": "json",
       "name": "Prior Model MSE",
       "version": 1
      }
     },
     "metadata": {
      "scrapbook": {
       "data": true,
       "display": false,
       "name": "Prior Model MSE"
      }
     },
     "output_type": "display_data"
    },
    {
     "data": {
      "application/scrapbook.scrap.json+json": {
       "data": 0.8094056381036824,
       "encoder": "json",
       "name": "ABC Pre-generator MSE",
       "version": 1
      }
     },
     "metadata": {
      "scrapbook": {
       "data": true,
       "display": false,
       "name": "ABC Pre-generator MSE"
      }
     },
     "output_type": "display_data"
    }
   ],
   "source": [
    "y_pred = prior_model.predict(X_test)\n",
    "y_abc = y_pred + np.random.normal(0,variance, y_pred.shape) + bias \n",
    "mse = mean_squared_error(y_pred,Y_test)\n",
    "sb.glue(\"Prior Model MSE\",mse)\n",
    "mse = mean_squared_error(y_abc,Y_test)\n",
    "sb.glue(\"ABC Pre-generator MSE\",mse)\n",
    "mae = mean_absolute_error(y_pred,Y_test)\n",
    "sb.glue(\"Prior Model MSE\",mae)\n",
    "mae = mean_absolute_error(y_abc,Y_test)\n",
    "sb.glue(\"ABC Pre-generator MSE\",mae)"
   ]
  },
  {
   "cell_type": "markdown",
   "id": "25609da2",
   "metadata": {
    "papermill": {
     "duration": 0.042094,
     "end_time": "2022-06-22T12:31:35.355662",
     "exception": false,
     "start_time": "2022-06-22T12:31:35.313568",
     "status": "completed"
    },
    "tags": []
   },
   "source": [
    "# ABC GAN Model"
   ]
  },
  {
   "cell_type": "code",
   "execution_count": 11,
   "id": "dfc3464d",
   "metadata": {
    "execution": {
     "iopub.execute_input": "2022-06-22T12:31:35.431080Z",
     "iopub.status.busy": "2022-06-22T12:31:35.430367Z",
     "iopub.status.idle": "2022-06-22T12:31:35.432472Z",
     "shell.execute_reply": "2022-06-22T12:31:35.433356Z"
    },
    "papermill": {
     "duration": 0.044123,
     "end_time": "2022-06-22T12:31:35.433569",
     "exception": false,
     "start_time": "2022-06-22T12:31:35.389446",
     "status": "completed"
    },
    "tags": []
   },
   "outputs": [],
   "source": [
    "gen = network.Generator(n_features+1).to(device)\n",
    "disc = network.Discriminator(n_features+1).to(device)\n",
    "\n",
    "criterion = torch.nn.BCELoss()\n",
    "gen_opt = torch.optim.Adam(gen.parameters(), lr=0.001, betas=(0.5, 0.999))\n",
    "disc_opt = torch.optim.Adam(disc.parameters(), lr=0.001, betas=(0.5, 0.999))"
   ]
  },
  {
   "cell_type": "code",
   "execution_count": 12,
   "id": "b75fdd85",
   "metadata": {
    "execution": {
     "iopub.execute_input": "2022-06-22T12:31:35.526050Z",
     "iopub.status.busy": "2022-06-22T12:31:35.522139Z",
     "iopub.status.idle": "2022-06-22T12:32:17.875735Z",
     "shell.execute_reply": "2022-06-22T12:32:17.876309Z"
    },
    "papermill": {
     "duration": 42.406823,
     "end_time": "2022-06-22T12:32:17.876546",
     "exception": false,
     "start_time": "2022-06-22T12:31:35.469723",
     "status": "completed"
    },
    "tags": []
   },
   "outputs": [
    {
     "data": {
      "image/png": "[encoded data removed]",
      "text/plain": [
       "<Figure size 432x288 with 1 Axes>"
      ]
     },
     "metadata": {
      "needs_background": "light"
     },
     "output_type": "display_data"
    },
    {
     "data": {
      "image/png": "[encoded data removed]",
      "text/plain": [
       "<Figure size 432x288 with 1 Axes>"
      ]
     },
     "metadata": {
      "needs_background": "light"
     },
     "output_type": "display_data"
    }
   ],
   "source": [
    "#Training the ABC_GAN \n",
    "ABC_train_test2.training_GAN(disc,gen,disc_opt,gen_opt,train_data,batch_size,n_epochs,criterion,prior_model,variance,bias,device)"
   ]
  },
  {
   "cell_type": "code",
   "execution_count": 13,
   "id": "1fa7c368",
   "metadata": {
    "execution": {
     "iopub.execute_input": "2022-06-22T12:32:17.982953Z",
     "iopub.status.busy": "2022-06-22T12:32:17.982177Z",
     "iopub.status.idle": "2022-06-22T12:32:18.668493Z",
     "shell.execute_reply": "2022-06-22T12:32:18.669259Z"
    },
    "papermill": {
     "duration": 0.756092,
     "end_time": "2022-06-22T12:32:18.669484",
     "exception": false,
     "start_time": "2022-06-22T12:32:17.913392",
     "status": "completed"
    },
    "tags": []
   },
   "outputs": [
    {
     "data": {
      "application/scrapbook.scrap.json+json": {
       "data": 0.459421855835475,
       "encoder": "json",
       "name": "ABC-GAN Model 1 MSE",
       "version": 1
      }
     },
     "metadata": {
      "scrapbook": {
       "data": true,
       "display": false,
       "name": "ABC-GAN Model 1 MSE"
      }
     },
     "output_type": "display_data"
    },
    {
     "data": {
      "application/scrapbook.scrap.json+json": {
       "data": 0.4690821150224656,
       "encoder": "json",
       "name": "ABC-GAN Model 1 MAE",
       "version": 1
      }
     },
     "metadata": {
      "scrapbook": {
       "data": true,
       "display": false,
       "name": "ABC-GAN Model 1 MAE"
      }
     },
     "output_type": "display_data"
    },
    {
     "data": {
      "application/scrapbook.scrap.json+json": {
       "data": 9.381642300449311,
       "encoder": "json",
       "name": "ABC-GAN Model 1 Manhattan Distance",
       "version": 1
      }
     },
     "metadata": {
      "scrapbook": {
       "data": true,
       "display": false,
       "name": "ABC-GAN Model 1 Manhattan Distance"
      }
     },
     "output_type": "display_data"
    },
    {
     "data": {
      "application/scrapbook.scrap.json+json": {
       "data": 3.0280499681837845,
       "encoder": "json",
       "name": "ABC-GAN Model 1 Euclidean distance",
       "version": 1
      }
     },
     "metadata": {
      "scrapbook": {
       "data": true,
       "display": false,
       "name": "ABC-GAN Model 1 Euclidean distance"
      }
     },
     "output_type": "display_data"
    },
    {
     "data": {
      "application/scrapbook.scrap.json+json": {
       "data": [
        [
         0.4439493136563165,
         0.41609576587695135,
         0.41962881060874063,
         0.43720751671685454,
         0.5034037132764707,
         0.4373550004539698,
         0.4938637687855156,
         0.4256016769528519,
         0.5096494555451757,
         0.4057515924967928,
         0.4028474832965527,
         0.4382230584360137,
         0.46712934997010364,
         0.44357690505273634,
         0.41774052047091936,
         0.40635929435890344,
         0.38810040323824785,
         0.5527370445250828,
         0.4818127739924095,
         0.41353698875750344,
         0.48462278167920586,
         0.5196697980130208,
         0.4072189926853412,
         0.402270699473095,
         0.4339699986848922,
         0.4011854875039106,
         0.41837788915239243,
         0.4383244454782135,
         0.43194412857183195,
         0.48803873746961646,
         0.5053448774217737,
         0.4580747293607718,
         0.41608707666655675,
         0.5082421122944918,
         0.4231211054598969,
         0.4714771436596095,
         0.5489339335049068,
         0.47410830381102026,
         0.4747221862765822,
         0.45657448372066334,
         0.5648545162529681,
         0.3993849966926595,
         0.48029707479969497,
         0.39173452384573143,
         0.43518489340516575,
         0.4974051365819193,
         0.5306892061388104,
         0.46544293432106854,
         0.5018295296826952,
         0.42557656395891197,
         0.41961144525137384,
         0.4552512702502957,
         0.46032313028202376,
         0.42733487036561046,
         0.4838073304406172,
         0.5082661163038127,
         0.4729199624874153,
         0.42788678171200534,
         0.48569140622029694,
         0.4790786364641459,
         0.4894538920509131,
         0.42412892831239,
         0.45458276373184,
         0.4482098088731063,
         0.4738401170930939,
         0.44792872210171597,
         0.4909819181269931,
         0.47263497582386815,
         0.49088353034054927,
         0.46970947521750395,
         0.5311573821902459,
         0.5357685048623448,
         0.4660959373028516,
         0.47142137438950443,
         0.474780446264593,
         0.420974528361592,
         0.4113669836321169,
         0.4499416920362789,
         0.41346012129022974,
         0.46091189086079465,
         0.4438497472868271,
         0.5130421321602487,
         0.43424263206329405,
         0.5263112894006967,
         0.46130470195281237,
         0.46733618402682725,
         0.5901666477254549,
         0.4587165048390817,
         0.48651644299800284,
         0.4644033448053932,
         0.4050621766414704,
         0.4062980707227052,
         0.4369262758613933,
         0.46016239091718025,
         0.49523233306618086,
         0.4488181766675245,
         0.38784399763091265,
         0.4138831667061261,
         0.42876090076549966,
         0.5356258016342178
        ],
        [
         0.45172265493310987,
         0.4440956989768893,
         0.447133236611262,
         0.4650688807014376,
         0.49289084686897694,
         0.4397842930164188,
         0.48996496298350395,
         0.4575850965920836,
         0.4996873608324677,
         0.42944864653982223,
         0.43838102617301045,
         0.44774713316000997,
         0.48670204454101623,
         0.4611893987748772,
         0.44561387845315037,
         0.4060972450766712,
         0.40415134229697286,
         0.5268797634635121,
         0.4627972400281578,
         0.43204390578903257,
         0.4616180123295635,
         0.4953794086817652,
         0.40166139318607746,
         0.44110259278677405,
         0.43761726007796825,
         0.4392163021955639,
         0.47613729746080935,
         0.4457806183490902,
         0.4457673410419375,
         0.4897131895180792,
         0.5078281296882778,
         0.45520514422096314,
         0.4621288149151951,
         0.4718141416553408,
         0.44716815077699723,
         0.4822384557221085,
         0.5297619170043617,
         0.47686016098596157,
         0.4965799311641604,
         0.4609270604792982,
         0.5357108949217946,
         0.4197805269155651,
         0.4611138230655342,
         0.4293868205044419,
         0.4407728301826864,
         0.4849387446884066,
         0.5059639649931341,
         0.45078961164690556,
         0.49532994790934026,
         0.4330648670438677,
         0.4637734568212181,
         0.4460839352104813,
         0.4433335436973721,
         0.44542345753870904,
         0.49601974212564526,
         0.5080533670727163,
         0.4902986301574856,
         0.4584894473198801,
         0.4911213906016201,
         0.4623131429310888,
         0.49694533557631076,
         0.45522138983942567,
         0.4822984925005585,
         0.46663692691363395,
         0.48828442827798424,
         0.4678148048464209,
         0.4963042719755322,
         0.4831632728222758,
         0.5017694196198136,
         0.48466980806551874,
         0.5279529484454543,
         0.5302870518062264,
         0.45895808660425247,
         0.46884988830424845,
         0.4911256077233702,
         0.44883488775230945,
         0.45103581906296314,
         0.45574640170671044,
         0.43987902500666676,
         0.48235098929144443,
         0.48062657401897013,
         0.5079283525701612,
         0.45725901289843024,
         0.5276419179979712,
         0.4699753353837878,
         0.4755494809243828,
         0.5728238341864198,
         0.4935786134097725,
         0.5005980523768813,
         0.461403035512194,
         0.42241255291737617,
         0.43660357161425056,
         0.46027129725553095,
         0.4533171797636896,
         0.49796700277365746,
         0.46211135522462427,
         0.4215498423669487,
         0.45289623984135685,
         0.44760905974544585,
         0.5127082119230181
        ],
        [
         9.034453098662198,
         8.881913979537785,
         8.94266473222524,
         9.301377614028752,
         9.857816937379539,
         8.795685860328376,
         9.799299259670079,
         9.151701931841671,
         9.993747216649354,
         8.588972930796444,
         8.76762052346021,
         8.9549426632002,
         9.734040890820324,
         9.223787975497544,
         8.912277569063008,
         8.121944901533425,
         8.083026845939457,
         10.537595269270241,
         9.255944800563157,
         8.640878115780652,
         9.23236024659127,
         9.907588173635304,
         8.03322786372155,
         8.82205185573548,
         8.752345201559365,
         8.784326043911278,
         9.522745949216187,
         8.915612366981804,
         8.91534682083875,
         9.794263790361583,
         10.156562593765557,
         9.104102884419262,
         9.242576298303902,
         9.436282833106816,
         8.943363015539944,
         9.64476911444217,
         10.595238340087235,
         9.537203219719231,
         9.931598623283207,
         9.218541209585965,
         10.71421789843589,
         8.395610538311303,
         9.222276461310685,
         8.587736410088837,
         8.815456603653729,
         9.698774893768132,
         10.119279299862683,
         9.01579223293811,
         9.906598958186805,
         8.661297340877354,
         9.275469136424363,
         8.921678704209626,
         8.866670873947442,
         8.908469150774181,
         9.920394842512906,
         10.161067341454327,
         9.805972603149712,
         9.169788946397603,
         9.822427812032402,
         9.246262858621776,
         9.938906711526215,
         9.104427796788514,
         9.64596985001117,
         9.332738538272679,
         9.765688565559685,
         9.356296096928418,
         9.926085439510643,
         9.663265456445515,
         10.035388392396271,
         9.693396161310375,
         10.559058968909085,
         10.605741036124527,
         9.17916173208505,
         9.376997766084969,
         9.822512154467404,
         8.976697755046189,
         9.020716381259263,
         9.11492803413421,
         8.797580500133336,
         9.647019785828888,
         9.612531480379403,
         10.158567051403224,
         9.145180257968605,
         10.552838359959424,
         9.399506707675755,
         9.510989618487656,
         11.456476683728397,
         9.87157226819545,
         10.011961047537625,
         9.22806071024388,
         8.448251058347523,
         8.73207143228501,
         9.205425945110619,
         9.066343595273793,
         9.959340055473149,
         9.242227104492486,
         8.430996847338974,
         9.057924796827137,
         8.952181194908917,
         10.254164238460362
        ],
        [
         2.979762788063226,
         2.884773009707874,
         2.896994341067102,
         2.9570509522727355,
         3.1730228907982077,
         2.957549662994587,
         3.1428132899856323,
         2.9175389524489703,
         3.192646098599642,
         2.8486894969329066,
         2.8384766453030847,
         2.9604832660767184,
         3.056564574714899,
         2.978512733069094,
         2.890468890927281,
         2.8508219669383195,
         2.7860380587430886,
         3.324867048545198,
         3.104231866315432,
         2.8758893885457537,
         3.113270889849471,
         3.2238790238252455,
         2.853835989279486,
         2.8364438985218623,
         2.946082139672593,
         2.8326153551229316,
         2.892673120670196,
         2.9608257141487186,
         2.939197606734981,
         3.1242238635207196,
         3.179134716937216,
         3.0267960927712716,
         2.8847428886004964,
         3.1882349734437447,
         2.909024253800222,
         3.0707560751697933,
         3.3134089198434498,
         3.079312598003068,
         3.0813055229125923,
         3.021835481030241,
         3.361114446885045,
         2.8262519232816437,
         3.099345333452518,
         2.7990517102966552,
         2.9502030215060313,
         3.1540613075269137,
         3.2578803113030728,
         3.0510422295375346,
         3.168057858318548,
         2.9174528752283626,
         2.8969343977776707,
         3.017453463602366,
         3.034215319590961,
         2.923473517463808,
         3.11065051216178,
         3.1883102618904977,
         3.075451064437265,
         2.925360769929088,
         3.1167014814393017,
         3.0954115605655605,
         3.1287502043177344,
         2.9124866637029947,
         3.015237183811051,
         2.994026749623678,
         3.0784415443308126,
         2.9930877772017177,
         3.1336302210918032,
         3.074524274823239,
         3.133316231536642,
         3.064994209513303,
         3.2593170517464114,
         3.2734339915823716,
         3.0531817414063367,
         3.07057445566625,
         3.0814945927734256,
         2.901635843318703,
         2.868333954169622,
         2.999805633824561,
         2.8756220937050463,
         3.036155104275125,
         2.9794286273942765,
         3.2032550075204713,
         2.947007404345276,
         3.2444145524291335,
         3.037448606817282,
         3.057241187825479,
         3.435597903496435,
         3.0289156635307024,
         3.119347505482526,
         3.0476329989202875,
         2.8462683522165313,
         2.850607201010708,
         2.9560997136815033,
         3.033685517377107,
         3.14716486084279,
         2.9960579989964295,
         2.7851175832661452,
         2.8770928615744267,
         2.9283473180806254,
         3.2729980190468124
        ]
       ],
       "encoder": "json",
       "name": "ABC_GAN_1 Metrics",
       "version": 1
      }
     },
     "metadata": {
      "scrapbook": {
       "data": true,
       "display": false,
       "name": "ABC_GAN_1 Metrics"
      }
     },
     "output_type": "display_data"
    },
    {
     "name": "stdout",
     "output_type": "stream",
     "text": [
      "MSE\n",
      "0.459421855835475\n"
     ]
    }
   ],
   "source": [
    "ABC_GAN1_metrics=ABC_train_test2.test_generator(gen,test_data,prior_model,variance,bias,\"1\",device)\n",
    "sb.glue(\"ABC_GAN_1 Metrics\",ABC_GAN1_metrics)\n",
    "\n",
    "print(\"MSE\")\n",
    "print(mean(ABC_GAN1_metrics[0]))"
   ]
  },
  {
   "cell_type": "code",
   "execution_count": 14,
   "id": "eb22ce5c",
   "metadata": {
    "execution": {
     "iopub.execute_input": "2022-06-22T12:32:18.759807Z",
     "iopub.status.busy": "2022-06-22T12:32:18.759092Z",
     "iopub.status.idle": "2022-06-22T12:32:19.457274Z",
     "shell.execute_reply": "2022-06-22T12:32:19.457695Z"
    },
    "papermill": {
     "duration": 0.746225,
     "end_time": "2022-06-22T12:32:19.457888",
     "exception": false,
     "start_time": "2022-06-22T12:32:18.711663",
     "status": "completed"
    },
    "tags": []
   },
   "outputs": [
    {
     "data": {
      "image/png": "[encoded data removed]",
      "text/plain": [
       "<Figure size 432x288 with 1 Axes>"
      ]
     },
     "metadata": {
      "needs_background": "light"
     },
     "output_type": "display_data"
    },
    {
     "data": {
      "image/png": "[encoded data removed]",
      "text/plain": [
       "<Figure size 432x288 with 1 Axes>"
      ]
     },
     "metadata": {
      "needs_background": "light"
     },
     "output_type": "display_data"
    },
    {
     "data": {
      "image/png": "[encoded data removed]",
      "text/plain": [
       "<Figure size 432x288 with 1 Axes>"
      ]
     },
     "metadata": {
      "needs_background": "light"
     },
     "output_type": "display_data"
    },
    {
     "data": {
      "image/png": "[encoded data removed]",
      "text/plain": [
       "<Figure size 432x288 with 1 Axes>"
      ]
     },
     "metadata": {
      "needs_background": "light"
     },
     "output_type": "display_data"
    }
   ],
   "source": [
    "sanityChecks.discProbVsError(train_data,disc,device)\n",
    "sanityChecks.discProbVsError(test_data,disc,device)"
   ]
  },
  {
   "cell_type": "markdown",
   "id": "130f3a4d",
   "metadata": {
    "id": "130f3a4d",
    "papermill": {
     "duration": 0.047941,
     "end_time": "2022-06-22T12:32:19.552171",
     "exception": false,
     "start_time": "2022-06-22T12:32:19.504230",
     "status": "completed"
    },
    "tags": []
   },
   "source": [
    "# ABC - GAN Model with skip connection"
   ]
  },
  {
   "cell_type": "code",
   "execution_count": 15,
   "id": "4e43dad1",
   "metadata": {
    "execution": {
     "iopub.execute_input": "2022-06-22T12:32:19.659131Z",
     "iopub.status.busy": "2022-06-22T12:32:19.657590Z",
     "iopub.status.idle": "2022-06-22T12:32:19.662801Z",
     "shell.execute_reply": "2022-06-22T12:32:19.663379Z"
    },
    "id": "4e43dad1",
    "papermill": {
     "duration": 0.064811,
     "end_time": "2022-06-22T12:32:19.663597",
     "exception": false,
     "start_time": "2022-06-22T12:32:19.598786",
     "status": "completed"
    },
    "tags": []
   },
   "outputs": [],
   "source": [
    "#Generator\n",
    "gen3 = network.GeneratorWithSkipConnection(n_features+1).to(device)\n",
    "constraints=network.weightConstraint()\n",
    "#Discriminator \n",
    "disc3 = network.Discriminator(n_features+1).to(device)\n",
    "\n",
    "criterion = torch.nn.BCELoss()\n",
    "gen_opt = torch.optim.Adam(gen3.parameters(), lr=0.001, betas=(0.5, 0.999))\n",
    "disc_opt = torch.optim.Adam(disc3.parameters(), lr=0.001, betas=(0.5, 0.999))\n"
   ]
  },
  {
   "cell_type": "code",
   "execution_count": 16,
   "id": "26acbc37",
   "metadata": {
    "execution": {
     "iopub.execute_input": "2022-06-22T12:32:19.768392Z",
     "iopub.status.busy": "2022-06-22T12:32:19.767600Z",
     "iopub.status.idle": "2022-06-22T12:33:27.026398Z",
     "shell.execute_reply": "2022-06-22T12:33:27.026874Z"
    },
    "id": "26acbc37",
    "papermill": {
     "duration": 67.319622,
     "end_time": "2022-06-22T12:33:27.027081",
     "exception": false,
     "start_time": "2022-06-22T12:32:19.707459",
     "status": "completed"
    },
    "tags": []
   },
   "outputs": [
    {
     "data": {
      "image/png": "[encoded data removed]",
      "text/plain": [
       "<Figure size 432x288 with 1 Axes>"
      ]
     },
     "metadata": {
      "needs_background": "light"
     },
     "output_type": "display_data"
    },
    {
     "data": {
      "image/png": "[encoded data removed]",
      "text/plain": [
       "<Figure size 432x288 with 1 Axes>"
      ]
     },
     "metadata": {
      "needs_background": "light"
     },
     "output_type": "display_data"
    }
   ],
   "source": [
    "ABC_train_test2.training_GAN_skip_connection(disc3,gen3,disc_opt,gen_opt,train_data,batch_size,n_epochs,criterion,prior_model,variance,bias,device)"
   ]
  },
  {
   "cell_type": "code",
   "execution_count": 17,
   "id": "c5e0717b",
   "metadata": {
    "execution": {
     "iopub.execute_input": "2022-06-22T12:33:27.134632Z",
     "iopub.status.busy": "2022-06-22T12:33:27.133835Z",
     "iopub.status.idle": "2022-06-22T12:33:27.922290Z",
     "shell.execute_reply": "2022-06-22T12:33:27.922729Z"
    },
    "id": "c5e0717b",
    "papermill": {
     "duration": 0.851643,
     "end_time": "2022-06-22T12:33:27.922946",
     "exception": false,
     "start_time": "2022-06-22T12:33:27.071303",
     "status": "completed"
    },
    "tags": []
   },
   "outputs": [
    {
     "data": {
      "application/scrapbook.scrap.json+json": {
       "data": 0.34715174193728904,
       "encoder": "json",
       "name": "ABC-GAN Model 3 MSE",
       "version": 1
      }
     },
     "metadata": {
      "scrapbook": {
       "data": true,
       "display": false,
       "name": "ABC-GAN Model 3 MSE"
      }
     },
     "output_type": "display_data"
    },
    {
     "data": {
      "application/scrapbook.scrap.json+json": {
       "data": 0.3946066845990717,
       "encoder": "json",
       "name": "ABC-GAN Model 3 MAE",
       "version": 1
      }
     },
     "metadata": {
      "scrapbook": {
       "data": true,
       "display": false,
       "name": "ABC-GAN Model 3 MAE"
      }
     },
     "output_type": "display_data"
    },
    {
     "data": {
      "application/scrapbook.scrap.json+json": {
       "data": 7.892133691981435,
       "encoder": "json",
       "name": "ABC-GAN Model 3 Manhattan Distance",
       "version": 1
      }
     },
     "metadata": {
      "scrapbook": {
       "data": true,
       "display": false,
       "name": "ABC-GAN Model 3 Manhattan Distance"
      }
     },
     "output_type": "display_data"
    },
    {
     "data": {
      "application/scrapbook.scrap.json+json": {
       "data": 2.630299998226617,
       "encoder": "json",
       "name": "ABC-GAN Model 3 Euclidean distance",
       "version": 1
      }
     },
     "metadata": {
      "scrapbook": {
       "data": true,
       "display": false,
       "name": "ABC-GAN Model 3 Euclidean distance"
      }
     },
     "output_type": "display_data"
    },
    {
     "data": {
      "application/scrapbook.scrap.json+json": {
       "data": [
        [
         0.34132224888035,
         0.32184398529449226,
         0.4067833447386269,
         0.36701439937288377,
         0.3306092447124702,
         0.34547696219632407,
         0.36427216103899945,
         0.30961425843043183,
         0.3699363005185704,
         0.39379787930436777,
         0.39283801545267877,
         0.3315298698193294,
         0.3200024680728838,
         0.39898594478654115,
         0.32932052310308124,
         0.3553979269129216,
         0.3793485957339768,
         0.3444963946870827,
         0.34806790512694386,
         0.3169016360783562,
         0.23967829399308221,
         0.39672887091677994,
         0.31654957720977916,
         0.3364719467770557,
         0.35963496790380883,
         0.3880944421229204,
         0.35220950987524235,
         0.30774214484707785,
         0.3092231931235726,
         0.34259680202591847,
         0.3918314318011385,
         0.38527888690531525,
         0.3358725598938286,
         0.3471844184388384,
         0.3537914091083526,
         0.3538150004537372,
         0.3322773097903845,
         0.3569286727644865,
         0.40662888309487677,
         0.3547793326594585,
         0.3514266083692321,
         0.3261834999715284,
         0.35527245443348665,
         0.39867224574906435,
         0.34103251812398694,
         0.37525747777926843,
         0.36891360711950616,
         0.39458134442552567,
         0.36183538370545604,
         0.3675769579587661,
         0.3003886474287794,
         0.3272997754347017,
         0.32734914155211503,
         0.3168477191216273,
         0.3346865498791852,
         0.35958809624974564,
         0.28102460174291954,
         0.38604059404645213,
         0.37494006852765704,
         0.34859983016648627,
         0.38175727446513574,
         0.39518090758327246,
         0.35335487666796117,
         0.3691884966095831,
         0.3504537517687892,
         0.31423339157100644,
         0.2722924093543011,
         0.39257770374170436,
         0.35031151341210504,
         0.26468942108239146,
         0.3315072981927155,
         0.26150113976078615,
         0.36227150692630106,
         0.43006998091340376,
         0.26033214347007594,
         0.31084843491217934,
         0.3506214491048296,
         0.3347446314659568,
         0.2985280810211662,
         0.40886796263017455,
         0.3296311263147815,
         0.3081459279368942,
         0.3797566960529761,
         0.2346631972065542,
         0.3109534298846132,
         0.3131237061033879,
         0.387320527854981,
         0.3597708649387217,
         0.5051084823818701,
         0.33864309820098254,
         0.3310594149941836,
         0.3662887183909933,
         0.3167420166277072,
         0.3149432392967268,
         0.3392823342134275,
         0.40620651171496397,
         0.3686044180211756,
         0.28504127898135806,
         0.3566569533196727,
         0.33750503688663497
        ],
        [
         0.3783549868967384,
         0.3831585092935711,
         0.44953453303314744,
         0.4132548464927822,
         0.3789071740116924,
         0.40226658270694315,
         0.4013463890645653,
         0.4288016804959625,
         0.4069541035685688,
         0.4418271401431412,
         0.4337507224176079,
         0.3527563640382141,
         0.3292036621365696,
         0.4417503850068897,
         0.39844370768405496,
         0.39234474510885775,
         0.3904774063732475,
         0.39900333001278343,
         0.3998148320708424,
         0.36354887424968185,
         0.36539077744819226,
         0.4101833610329777,
         0.3803077386226505,
         0.38474845453165474,
         0.37471969784237447,
         0.4114899194333702,
         0.36057505463249984,
         0.3203976257238537,
         0.3900759206619114,
         0.3866027093026787,
         0.4244416157249361,
         0.4195901775266975,
         0.4153986723627895,
         0.4085922105703503,
         0.4050307729747146,
         0.3775900804903358,
         0.3752321892883629,
         0.39591496125794945,
         0.4546496213879436,
         0.3977213808801025,
         0.42259959490038457,
         0.4001165264751762,
         0.39314740686677396,
         0.4257412543985993,
         0.38573352904058994,
         0.4175713448319584,
         0.4158925159368664,
         0.4113599175121635,
         0.3860885753761977,
         0.41544378236867485,
         0.3912896843161434,
         0.37125795646570625,
         0.39006559462286533,
         0.37572670890949667,
         0.3751914718654007,
         0.4519243052694947,
         0.3725185683462769,
         0.43974570888094605,
         0.40258333780802785,
         0.4134881781879812,
         0.42782961637713013,
         0.4149650125298649,
         0.4004954463336617,
         0.39518856196664276,
         0.425353334704414,
         0.3739887574221939,
         0.3783377581741661,
         0.42650720761157573,
         0.37505899160169065,
         0.3380712771322578,
         0.349423731258139,
         0.38464708500541744,
         0.4002275100443512,
         0.47390583218075333,
         0.3296252728905529,
         0.33250432000495495,
         0.40778794870711865,
         0.36452009840868416,
         0.39777986337430776,
         0.4181352554354817,
         0.3644576868508011,
         0.3874066115822643,
         0.38230341584421695,
         0.3105342925991863,
         0.3741531005594879,
         0.36673574917949736,
         0.41757137537933886,
         0.36920412196777763,
         0.5136800414416939,
         0.40226420438848437,
         0.37301692427136,
         0.3948340302798897,
         0.4175920547451824,
         0.39425254822708666,
         0.39752349541522564,
         0.4335785886738449,
         0.3746623604092747,
         0.3311561940703541,
         0.39369498207233844,
         0.3460549219045788
        ],
        [
         7.567099737934768,
         7.663170185871422,
         8.990690660662949,
         8.265096929855645,
         7.578143480233848,
         8.045331654138863,
         8.026927781291306,
         8.57603360991925,
         8.139082071371377,
         8.836542802862823,
         8.675014448352158,
         7.055127280764282,
         6.584073242731392,
         8.835007700137794,
         7.968874153681099,
         7.846894902177155,
         7.80954812746495,
         7.980066600255668,
         7.996296641416848,
         7.270977484993637,
         7.307815548963845,
         8.203667220659554,
         7.60615477245301,
         7.694969090633094,
         7.494393956847489,
         8.229798388667405,
         7.211501092649996,
         6.407952514477074,
         7.801518413238227,
         7.732054186053574,
         8.488832314498723,
         8.39180355053395,
         8.30797344725579,
         8.171844211407006,
         8.100615459494293,
         7.551801609806716,
         7.504643785767257,
         7.918299225158989,
         9.092992427758873,
         7.95442761760205,
         8.451991898007691,
         8.002330529503524,
         7.862948137335479,
         8.514825087971985,
         7.714670580811799,
         8.351426896639168,
         8.317850318737328,
         8.22719835024327,
         7.721771507523954,
         8.308875647373497,
         7.825793686322868,
         7.425159129314125,
         7.801311892457306,
         7.514534178189933,
         7.503829437308013,
         9.038486105389893,
         7.450371366925538,
         8.79491417761892,
         8.051666756160557,
         8.269763563759625,
         8.556592327542603,
         8.299300250597298,
         8.009908926673234,
         7.903771239332855,
         8.50706669408828,
         7.479775148443878,
         7.566755163483322,
         8.530144152231514,
         7.501179832033813,
         6.761425542645156,
         6.98847462516278,
         7.692941700108349,
         8.004550200887024,
         9.478116643615067,
         6.592505457811058,
         6.650086400099099,
         8.155758974142373,
         7.290401968173683,
         7.955597267486155,
         8.362705108709633,
         7.289153737016022,
         7.748132231645286,
         7.646068316884339,
         6.210685851983726,
         7.483062011189759,
         7.334714983589947,
         8.351427507586777,
         7.384082439355552,
         10.273600828833878,
         8.045284087769687,
         7.460338485427201,
         7.896680605597794,
         8.351841094903648,
         7.885050964541733,
         7.9504699083045125,
         8.671571773476899,
         7.493247208185494,
         6.623123881407082,
         7.873899641446769,
         6.921098438091576
        ],
        [
         2.6127466347901014,
         2.53710064953873,
         2.8523090461541045,
         2.7092965853626425,
         2.5714169040140895,
         2.62860024422248,
         2.6991560200884996,
         2.488430261954037,
         2.720059927716926,
         2.8064136519920497,
         2.802991314480581,
         2.5749946400694874,
         2.5298318840305725,
         2.8248396230106274,
         2.5664002926397944,
         2.6660754937282687,
         2.7544458452980223,
         2.624867214497079,
         2.6384385728189463,
         2.517544979055414,
         2.1894213573137637,
         2.8168381952706474,
         2.5161461690838998,
         2.594116214733086,
         2.6819208336705573,
         2.786016662272214,
         2.654089334876437,
         2.4808955836434463,
         2.4868582312772576,
         2.6176203010594126,
         2.7993979059831364,
         2.77589224180376,
         2.5918046218564723,
         2.63508792429717,
         2.6600428910389873,
         2.660131577398897,
         2.577895691413384,
         2.671810894372902,
         2.8517674628022416,
         2.6637542403887733,
         2.6511379004843643,
         2.5541476072127405,
         2.6656048260516285,
         2.8237289025296475,
         2.6116374868039665,
         2.7395528021166826,
         2.7162975062371433,
         2.809203959934293,
         2.6901129482066586,
         2.7113721911931092,
         2.4510758757279603,
         2.55851431668733,
         2.55870725778513,
         2.517330805125251,
         2.5872245742462527,
         2.6817460590061306,
         2.370757692143672,
         2.7786348952190614,
         2.7383939399861994,
         2.6404538631321937,
         2.7631767025115703,
         2.8113374311287234,
         2.6584013115704,
         2.7173093184603885,
         2.647465776053731,
         2.506923977989785,
         2.3336341159414906,
         2.802062468046365,
         2.6469284592225195,
         2.3008234225267765,
         2.5749069815925996,
         2.2869243090263662,
         2.6917336678293453,
         2.9328142829487303,
         2.2818069307900526,
         2.493384987971891,
         2.648099126184024,
         2.58744905830417,
         2.443473269840152,
         2.859608234112409,
         2.567610275391425,
         2.48252261998514,
         2.7559270529278383,
         2.1663942263888822,
         2.4938060465265264,
         2.5024935808244857,
         2.7832374237746267,
         2.6824275011217793,
         3.1783910469980565,
         2.602472279202922,
         2.5731669786245264,
         2.7066167752047696,
         2.5169108709992383,
         2.509753929359318,
         2.604927385603781,
         2.8502859916680783,
         2.715158993580949,
         2.387640169629243,
         2.670793714683606,
         2.5980955982666805
        ]
       ],
       "encoder": "json",
       "name": "ABC_GAN_3 Metrics",
       "version": 1
      }
     },
     "metadata": {
      "scrapbook": {
       "data": true,
       "display": false,
       "name": "ABC_GAN_3 Metrics"
      }
     },
     "output_type": "display_data"
    },
    {
     "name": "stdout",
     "output_type": "stream",
     "text": [
      "MSE\n",
      "0.34715174193728904\n"
     ]
    }
   ],
   "source": [
    "ABC_GAN3_metrics=ABC_train_test2.test_generator(gen3,test_data,prior_model,variance,bias,\"3\",device)\n",
    "sb.glue(\"ABC_GAN_3 Metrics\",ABC_GAN3_metrics)\n",
    "\n",
    "print(\"MSE\")\n",
    "print(mean(ABC_GAN3_metrics[0]))"
   ]
  },
  {
   "cell_type": "code",
   "execution_count": 18,
   "id": "c8e46b48",
   "metadata": {
    "execution": {
     "iopub.execute_input": "2022-06-22T12:33:28.034030Z",
     "iopub.status.busy": "2022-06-22T12:33:28.033269Z",
     "iopub.status.idle": "2022-06-22T12:33:28.805081Z",
     "shell.execute_reply": "2022-06-22T12:33:28.805663Z"
    },
    "id": "c8e46b48",
    "papermill": {
     "duration": 0.831509,
     "end_time": "2022-06-22T12:33:28.805943",
     "exception": false,
     "start_time": "2022-06-22T12:33:27.974434",
     "status": "completed"
    },
    "tags": []
   },
   "outputs": [
    {
     "data": {
      "image/png": "[encoded data removed]",
      "text/plain": [
       "<Figure size 432x288 with 1 Axes>"
      ]
     },
     "metadata": {
      "needs_background": "light"
     },
     "output_type": "display_data"
    },
    {
     "data": {
      "image/png": "[encoded data removed]",
      "text/plain": [
       "<Figure size 432x288 with 1 Axes>"
      ]
     },
     "metadata": {
      "needs_background": "light"
     },
     "output_type": "display_data"
    },
    {
     "data": {
      "image/png": "[encoded data removed]",
      "text/plain": [
       "<Figure size 432x288 with 1 Axes>"
      ]
     },
     "metadata": {
      "needs_background": "light"
     },
     "output_type": "display_data"
    },
    {
     "data": {
      "image/png": "[encoded data removed]",
      "text/plain": [
       "<Figure size 432x288 with 1 Axes>"
      ]
     },
     "metadata": {
      "needs_background": "light"
     },
     "output_type": "display_data"
    }
   ],
   "source": [
    "sanityChecks.discProbVsError(train_data,disc3,device)\n",
    "sanityChecks.discProbVsError(test_data,disc3,device)"
   ]
  },
  {
   "cell_type": "markdown",
   "id": "a5bd74c3",
   "metadata": {
    "id": "a5bd74c3",
    "papermill": {
     "duration": 0.059893,
     "end_time": "2022-06-22T12:33:28.916528",
     "exception": false,
     "start_time": "2022-06-22T12:33:28.856635",
     "status": "completed"
    },
    "tags": []
   },
   "source": [
    "## Skip Connection Model Analysis - ABC-GAN "
   ]
  },
  {
   "cell_type": "markdown",
   "id": "5744a8bf",
   "metadata": {
    "id": "5744a8bf",
    "papermill": {
     "duration": 0.060871,
     "end_time": "2022-06-22T12:33:29.034698",
     "exception": false,
     "start_time": "2022-06-22T12:33:28.973827",
     "status": "completed"
    },
    "tags": []
   },
   "source": [
    "### Weight Analysis \n",
    "\n",
    "Study the weights of the skip connection layer\n",
    "\n",
    "Equation of the skip connection is \n",
    "\n",
    "$output = y_{gan} * w + y_{abc} * (1-w)$"
   ]
  },
  {
   "cell_type": "code",
   "execution_count": 19,
   "id": "52c31dea",
   "metadata": {
    "execution": {
     "iopub.execute_input": "2022-06-22T12:33:29.161334Z",
     "iopub.status.busy": "2022-06-22T12:33:29.160613Z",
     "iopub.status.idle": "2022-06-22T12:33:29.166665Z",
     "shell.execute_reply": "2022-06-22T12:33:29.167127Z"
    },
    "id": "52c31dea",
    "papermill": {
     "duration": 0.074807,
     "end_time": "2022-06-22T12:33:29.167331",
     "exception": false,
     "start_time": "2022-06-22T12:33:29.092524",
     "status": "completed"
    },
    "tags": []
   },
   "outputs": [
    {
     "name": "stdout",
     "output_type": "stream",
     "text": [
      "Weight of the node at skip connection\n",
      "Parameter containing:\n",
      "tensor([[0.2061]], requires_grad=True)\n"
     ]
    },
    {
     "data": {
      "application/scrapbook.scrap.json+json": {
       "data": 0.20607371628284454,
       "encoder": "json",
       "name": "Skip Connection Weight",
       "version": 1
      }
     },
     "metadata": {
      "scrapbook": {
       "data": true,
       "display": false,
       "name": "Skip Connection Weight"
      }
     },
     "output_type": "display_data"
    }
   ],
   "source": [
    "print(\"Weight of the node at skip connection\")\n",
    "for name,param in gen3.named_parameters():\n",
    "    if(name == \"skipNode.weight\"):\n",
    "        print(param)\n",
    "        sb.glue(\"Skip Connection Weight\",param.item())"
   ]
  }
 ],
 "metadata": {
  "colab": {
   "collapsed_sections": [],
   "name": "ABC_GAN_Model-Catboost_Pre-gen.ipynb",
   "provenance": []
  },
  "interpreter": {
   "hash": "31f2aee4e71d21fbe5cf8b01ff0e069b9275f58929596ceb00d14d90e3e16cd6"
  },
  "kernelspec": {
   "display_name": "Python 3 (ipykernel)",
   "language": "python",
   "name": "python3"
  },
  "language_info": {
   "codemirror_mode": {
    "name": "ipython",
    "version": 3
   },
   "file_extension": ".py",
   "mimetype": "text/x-python",
   "name": "python",
   "nbconvert_exporter": "python",
   "pygments_lexer": "ipython3",
   "version": "3.8.3"
  },
  "papermill": {
   "default_parameters": {},
   "duration": 140.388486,
   "end_time": "2022-06-22T12:33:30.078034",
   "environment_variables": {},
   "exception": null,
   "input_path": "ABC_GAN-TabNet.ipynb",
   "output_path": "./ABC_GAN_TabNet/ABC-GAN_output_3_3.ipynb",
   "parameters": {
    "bias": 0.1,
    "variance": 1
   },
   "start_time": "2022-06-22T12:31:09.689548",
   "version": "2.3.3"
  }
 },
 "nbformat": 4,
 "nbformat_minor": 5
}