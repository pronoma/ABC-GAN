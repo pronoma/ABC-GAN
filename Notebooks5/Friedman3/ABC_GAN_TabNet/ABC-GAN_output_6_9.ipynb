{
 "cells": [
  {
   "cell_type": "markdown",
   "id": "622780e6",
   "metadata": {
    "id": "622780e6",
    "papermill": {
     "duration": 0.022283,
     "end_time": "2022-06-22T14:35:08.047918",
     "exception": false,
     "start_time": "2022-06-22T14:35:08.025635",
     "status": "completed"
    },
    "tags": []
   },
   "source": [
    "## Import Libraries "
   ]
  },
  {
   "cell_type": "code",
   "execution_count": 1,
   "id": "a62397e3",
   "metadata": {
    "execution": {
     "iopub.execute_input": "2022-06-22T14:35:08.132802Z",
     "iopub.status.busy": "2022-06-22T14:35:08.123888Z",
     "iopub.status.idle": "2022-06-22T14:35:08.144719Z",
     "shell.execute_reply": "2022-06-22T14:35:08.145316Z"
    },
    "id": "a62397e3",
    "papermill": {
     "duration": 0.079169,
     "end_time": "2022-06-22T14:35:08.145665",
     "exception": false,
     "start_time": "2022-06-22T14:35:08.066496",
     "status": "completed"
    },
    "tags": []
   },
   "outputs": [],
   "source": [
    "import warnings\n",
    "import sys\n",
    "sys.path.insert(0, '../../src')\n",
    "warnings.filterwarnings('ignore')"
   ]
  },
  {
   "cell_type": "code",
   "execution_count": 2,
   "id": "d6a4e155",
   "metadata": {
    "execution": {
     "iopub.execute_input": "2022-06-22T14:35:08.206543Z",
     "iopub.status.busy": "2022-06-22T14:35:08.205557Z",
     "iopub.status.idle": "2022-06-22T14:35:14.604172Z",
     "shell.execute_reply": "2022-06-22T14:35:14.604743Z"
    },
    "id": "d6a4e155",
    "papermill": {
     "duration": 6.435129,
     "end_time": "2022-06-22T14:35:14.604978",
     "exception": false,
     "start_time": "2022-06-22T14:35:08.169849",
     "status": "completed"
    },
    "tags": []
   },
   "outputs": [],
   "source": [
    "import ABC_train_test2\n",
    "import friedman3Dataset\n",
    "import network\n",
    "import dataset\n",
    "import sanityChecks\n",
    "import torch \n",
    "import scrapbook as sb\n",
    "from statistics import mean \n",
    "import catboost as ctb \n",
    "from sklearn.model_selection import train_test_split\n",
    "from sklearn.metrics import mean_squared_error,mean_absolute_error\n",
    "import numpy as np\n",
    "from pytorch_tabnet.tab_model import TabNetRegressor"
   ]
  },
  {
   "cell_type": "markdown",
   "id": "2fa5b0f7",
   "metadata": {
    "id": "2fa5b0f7",
    "papermill": {
     "duration": 0.020437,
     "end_time": "2022-06-22T14:35:14.657093",
     "exception": false,
     "start_time": "2022-06-22T14:35:14.636656",
     "status": "completed"
    },
    "tags": []
   },
   "source": [
    "## Parameters "
   ]
  },
  {
   "cell_type": "code",
   "execution_count": 3,
   "id": "783186fb",
   "metadata": {
    "execution": {
     "iopub.execute_input": "2022-06-22T14:35:14.701728Z",
     "iopub.status.busy": "2022-06-22T14:35:14.700481Z",
     "iopub.status.idle": "2022-06-22T14:35:14.703201Z",
     "shell.execute_reply": "2022-06-22T14:35:14.703946Z"
    },
    "id": "783186fb",
    "papermill": {
     "duration": 0.026357,
     "end_time": "2022-06-22T14:35:14.704180",
     "exception": false,
     "start_time": "2022-06-22T14:35:14.677823",
     "status": "completed"
    },
    "tags": [
     "parameters"
    ]
   },
   "outputs": [],
   "source": [
    "variance = 1\n",
    "bias = 1 "
   ]
  },
  {
   "cell_type": "code",
   "execution_count": 4,
   "id": "49966043",
   "metadata": {
    "execution": {
     "iopub.execute_input": "2022-06-22T14:35:14.746997Z",
     "iopub.status.busy": "2022-06-22T14:35:14.745020Z",
     "iopub.status.idle": "2022-06-22T14:35:14.748329Z",
     "shell.execute_reply": "2022-06-22T14:35:14.748991Z"
    },
    "papermill": {
     "duration": 0.026949,
     "end_time": "2022-06-22T14:35:14.749221",
     "exception": false,
     "start_time": "2022-06-22T14:35:14.722272",
     "status": "completed"
    },
    "tags": [
     "injected-parameters"
    ]
   },
   "outputs": [],
   "source": [
    "# Parameters\n",
    "variance = 1\n",
    "bias = 0\n"
   ]
  },
  {
   "cell_type": "markdown",
   "id": "391cdbfd",
   "metadata": {
    "id": "391cdbfd",
    "papermill": {
     "duration": 0.019389,
     "end_time": "2022-06-22T14:35:14.787184",
     "exception": false,
     "start_time": "2022-06-22T14:35:14.767795",
     "status": "completed"
    },
    "tags": []
   },
   "source": [
    "## Dataset \n"
   ]
  },
  {
   "cell_type": "code",
   "execution_count": 5,
   "id": "5b51f161",
   "metadata": {
    "execution": {
     "iopub.execute_input": "2022-06-22T14:35:14.831127Z",
     "iopub.status.busy": "2022-06-22T14:35:14.829386Z",
     "iopub.status.idle": "2022-06-22T14:35:14.833861Z",
     "shell.execute_reply": "2022-06-22T14:35:14.834767Z"
    },
    "id": "5b51f161",
    "papermill": {
     "duration": 0.029803,
     "end_time": "2022-06-22T14:35:14.835055",
     "exception": false,
     "start_time": "2022-06-22T14:35:14.805252",
     "status": "completed"
    },
    "tags": []
   },
   "outputs": [],
   "source": [
    "#Parameters \n",
    "n_features = 4\n",
    "n_samples= 100\n",
    "n_target = 1"
   ]
  },
  {
   "cell_type": "code",
   "execution_count": 6,
   "id": "5d6eced4",
   "metadata": {
    "execution": {
     "iopub.execute_input": "2022-06-22T14:35:14.873167Z",
     "iopub.status.busy": "2022-06-22T14:35:14.872062Z",
     "iopub.status.idle": "2022-06-22T14:35:14.886376Z",
     "shell.execute_reply": "2022-06-22T14:35:14.886869Z"
    },
    "id": "5d6eced4",
    "papermill": {
     "duration": 0.035379,
     "end_time": "2022-06-22T14:35:14.887098",
     "exception": false,
     "start_time": "2022-06-22T14:35:14.851719",
     "status": "completed"
    },
    "tags": []
   },
   "outputs": [
    {
     "name": "stdout",
     "output_type": "stream",
     "text": [
      "          X1           X2        X3         X4         Y\n",
      "0  10.289520   319.906606  0.078507   3.431539  1.095931\n",
      "1  49.879215   619.384372  0.821147   1.736127  1.639421\n",
      "2  60.944338  1646.056708  0.801870   5.197876  1.591440\n",
      "3  22.491491   624.465504  0.372342   4.442795  1.483259\n",
      "4   0.062051   745.066678  0.894322  10.319682  1.433147\n"
     ]
    }
   ],
   "source": [
    "X,Y = friedman3Dataset.friedman3_data(n_samples)"
   ]
  },
  {
   "cell_type": "code",
   "execution_count": 7,
   "id": "fe007438",
   "metadata": {
    "execution": {
     "iopub.execute_input": "2022-06-22T14:35:14.941956Z",
     "iopub.status.busy": "2022-06-22T14:35:14.939145Z",
     "iopub.status.idle": "2022-06-22T14:35:14.947311Z",
     "shell.execute_reply": "2022-06-22T14:35:14.948865Z"
    },
    "id": "fe007438",
    "papermill": {
     "duration": 0.046335,
     "end_time": "2022-06-22T14:35:14.949579",
     "exception": false,
     "start_time": "2022-06-22T14:35:14.903244",
     "status": "completed"
    },
    "tags": []
   },
   "outputs": [],
   "source": [
    "#Train test split for dataset \n",
    "X_train,X_test,Y_train,Y_test = train_test_split(X,Y,test_size = 0.2)\n",
    "train_data = dataset.CustomDataset(X_train,Y_train)\n",
    "test_data = dataset.CustomDataset(X_test,Y_test)\n"
   ]
  },
  {
   "cell_type": "markdown",
   "id": "a9a1af34",
   "metadata": {
    "id": "a9a1af34",
    "papermill": {
     "duration": 0.058892,
     "end_time": "2022-06-22T14:35:15.034068",
     "exception": false,
     "start_time": "2022-06-22T14:35:14.975176",
     "status": "completed"
    },
    "tags": []
   },
   "source": [
    "## Training Parameters "
   ]
  },
  {
   "cell_type": "code",
   "execution_count": 8,
   "id": "952b7fc8",
   "metadata": {
    "execution": {
     "iopub.execute_input": "2022-06-22T14:35:15.121478Z",
     "iopub.status.busy": "2022-06-22T14:35:15.117361Z",
     "iopub.status.idle": "2022-06-22T14:35:15.122889Z",
     "shell.execute_reply": "2022-06-22T14:35:15.122323Z"
    },
    "id": "952b7fc8",
    "papermill": {
     "duration": 0.050727,
     "end_time": "2022-06-22T14:35:15.123097",
     "exception": false,
     "start_time": "2022-06-22T14:35:15.072370",
     "status": "completed"
    },
    "tags": []
   },
   "outputs": [],
   "source": [
    "batch_size = 32\n",
    "n_epochs = 1000\n",
    "#Select the device \n",
    "device = torch.device('cuda' if torch.cuda.is_available() else 'cpu')"
   ]
  },
  {
   "cell_type": "markdown",
   "id": "a95e1600",
   "metadata": {
    "id": "a95e1600",
    "papermill": {
     "duration": 0.02747,
     "end_time": "2022-06-22T14:35:15.173943",
     "exception": false,
     "start_time": "2022-06-22T14:35:15.146473",
     "status": "completed"
    },
    "tags": []
   },
   "source": [
    "# ABC Pre-generator Model \n",
    "\n",
    "1. The catboost model is used as a pre-generator model for the ABC-GAN. \n",
    "2. The model is first trained on the entire dataset \n",
    "3. It generats X,Y pairs and we add some Gaussian noise with mean 0 and variance 1 to it which is then feed as input to the generator.\n"
   ]
  },
  {
   "cell_type": "code",
   "execution_count": 9,
   "id": "ff8ce7bd",
   "metadata": {
    "execution": {
     "iopub.execute_input": "2022-06-22T14:35:15.237853Z",
     "iopub.status.busy": "2022-06-22T14:35:15.236227Z",
     "iopub.status.idle": "2022-06-22T14:35:31.030351Z",
     "shell.execute_reply": "2022-06-22T14:35:31.031232Z"
    },
    "id": "ff8ce7bd",
    "papermill": {
     "duration": 15.837621,
     "end_time": "2022-06-22T14:35:31.031573",
     "exception": false,
     "start_time": "2022-06-22T14:35:15.193952",
     "status": "completed"
    },
    "tags": []
   },
   "outputs": [
    {
     "name": "stdout",
     "output_type": "stream",
     "text": [
      "Device used : cpu\n"
     ]
    },
    {
     "name": "stdout",
     "output_type": "stream",
     "text": [
      "epoch 0  | loss: 1.06003 | train_mse: 8.02502 | train_mae: 1.8085  |  0:00:00s\n",
      "epoch 1  | loss: 0.7817  | train_mse: 5.37796 | train_mae: 1.6653  |  0:00:00s\n",
      "epoch 2  | loss: 0.58175 | train_mse: 2.6888  | train_mae: 1.2531  |  0:00:00s\n"
     ]
    },
    {
     "name": "stdout",
     "output_type": "stream",
     "text": [
      "epoch 3  | loss: 0.78346 | train_mse: 1.72679 | train_mae: 0.96456 |  0:00:00s\n",
      "epoch 4  | loss: 0.43103 | train_mse: 1.44346 | train_mae: 0.87973 |  0:00:00s\n",
      "epoch 5  | loss: 0.45706 | train_mse: 1.23556 | train_mae: 0.80384 |  0:00:00s\n"
     ]
    },
    {
     "name": "stdout",
     "output_type": "stream",
     "text": [
      "epoch 6  | loss: 0.33388 | train_mse: 1.34351 | train_mae: 0.88213 |  0:00:00s\n",
      "epoch 7  | loss: 0.28964 | train_mse: 1.61897 | train_mae: 0.98135 |  0:00:00s\n",
      "epoch 8  | loss: 0.30764 | train_mse: 1.89946 | train_mae: 1.10349 |  0:00:00s\n"
     ]
    },
    {
     "name": "stdout",
     "output_type": "stream",
     "text": [
      "epoch 9  | loss: 0.44411 | train_mse: 1.64937 | train_mae: 1.02813 |  0:00:01s\n",
      "epoch 10 | loss: 0.19881 | train_mse: 1.49552 | train_mae: 0.967   |  0:00:01s\n",
      "epoch 11 | loss: 0.24553 | train_mse: 1.32092 | train_mae: 0.86707 |  0:00:01s\n"
     ]
    },
    {
     "name": "stdout",
     "output_type": "stream",
     "text": [
      "epoch 12 | loss: 0.28907 | train_mse: 0.92537 | train_mae: 0.74558 |  0:00:01s\n",
      "epoch 13 | loss: 0.21208 | train_mse: 0.84823 | train_mae: 0.7019  |  0:00:01s\n"
     ]
    },
    {
     "name": "stdout",
     "output_type": "stream",
     "text": [
      "epoch 14 | loss: 0.2365  | train_mse: 0.62302 | train_mae: 0.61577 |  0:00:01s\n",
      "epoch 15 | loss: 0.17077 | train_mse: 0.38878 | train_mae: 0.49811 |  0:00:01s\n",
      "epoch 16 | loss: 0.20521 | train_mse: 0.37766 | train_mae: 0.50446 |  0:00:01s\n"
     ]
    },
    {
     "name": "stdout",
     "output_type": "stream",
     "text": [
      "epoch 17 | loss: 0.25957 | train_mse: 0.49466 | train_mae: 0.56546 |  0:00:01s\n",
      "epoch 18 | loss: 0.18573 | train_mse: 0.38    | train_mae: 0.51059 |  0:00:01s\n",
      "epoch 19 | loss: 0.21084 | train_mse: 0.281   | train_mae: 0.4265  |  0:00:01s\n"
     ]
    },
    {
     "name": "stdout",
     "output_type": "stream",
     "text": [
      "epoch 20 | loss: 0.16827 | train_mse: 0.38383 | train_mae: 0.48538 |  0:00:02s\n",
      "epoch 21 | loss: 0.18167 | train_mse: 0.38086 | train_mae: 0.50524 |  0:00:02s\n",
      "epoch 22 | loss: 0.474   | train_mse: 0.38052 | train_mae: 0.50423 |  0:00:02s\n"
     ]
    },
    {
     "name": "stdout",
     "output_type": "stream",
     "text": [
      "epoch 23 | loss: 0.23122 | train_mse: 0.41449 | train_mae: 0.5138  |  0:00:02s\n",
      "epoch 24 | loss: 0.17211 | train_mse: 0.43514 | train_mae: 0.50781 |  0:00:02s\n",
      "epoch 25 | loss: 0.18923 | train_mse: 0.34236 | train_mae: 0.4499  |  0:00:02s\n"
     ]
    },
    {
     "name": "stdout",
     "output_type": "stream",
     "text": [
      "epoch 26 | loss: 0.14854 | train_mse: 0.35186 | train_mae: 0.45829 |  0:00:02s\n",
      "epoch 27 | loss: 0.15508 | train_mse: 0.45894 | train_mae: 0.52737 |  0:00:02s\n",
      "epoch 28 | loss: 0.16002 | train_mse: 0.36157 | train_mae: 0.47329 |  0:00:02s\n"
     ]
    },
    {
     "name": "stdout",
     "output_type": "stream",
     "text": [
      "epoch 29 | loss: 0.11759 | train_mse: 0.34345 | train_mae: 0.46272 |  0:00:02s\n",
      "epoch 30 | loss: 0.13983 | train_mse: 0.29022 | train_mae: 0.4256  |  0:00:02s\n",
      "epoch 31 | loss: 0.15209 | train_mse: 0.25549 | train_mae: 0.40973 |  0:00:02s\n"
     ]
    },
    {
     "name": "stdout",
     "output_type": "stream",
     "text": [
      "epoch 32 | loss: 0.16111 | train_mse: 0.21606 | train_mae: 0.38626 |  0:00:03s\n",
      "epoch 33 | loss: 0.15768 | train_mse: 0.16958 | train_mae: 0.33791 |  0:00:03s\n",
      "epoch 34 | loss: 0.13322 | train_mse: 0.11736 | train_mae: 0.26723 |  0:00:03s\n"
     ]
    },
    {
     "name": "stdout",
     "output_type": "stream",
     "text": [
      "epoch 35 | loss: 0.23862 | train_mse: 0.17683 | train_mae: 0.28071 |  0:00:03s\n",
      "epoch 36 | loss: 0.16023 | train_mse: 0.23936 | train_mae: 0.29996 |  0:00:03s\n",
      "epoch 37 | loss: 0.189   | train_mse: 0.11044 | train_mae: 0.26794 |  0:00:03s\n"
     ]
    },
    {
     "name": "stdout",
     "output_type": "stream",
     "text": [
      "epoch 38 | loss: 0.18419 | train_mse: 0.16858 | train_mae: 0.33979 |  0:00:03s\n",
      "epoch 39 | loss: 0.16316 | train_mse: 0.16728 | train_mae: 0.3367  |  0:00:03s\n",
      "epoch 40 | loss: 0.22522 | train_mse: 0.12085 | train_mae: 0.30161 |  0:00:03s\n"
     ]
    },
    {
     "name": "stdout",
     "output_type": "stream",
     "text": [
      "epoch 41 | loss: 0.17896 | train_mse: 0.11802 | train_mae: 0.28462 |  0:00:03s\n",
      "epoch 42 | loss: 0.16664 | train_mse: 0.11392 | train_mae: 0.28365 |  0:00:03s\n"
     ]
    },
    {
     "name": "stdout",
     "output_type": "stream",
     "text": [
      "epoch 43 | loss: 0.25769 | train_mse: 0.20201 | train_mae: 0.3615  |  0:00:04s\n",
      "epoch 44 | loss: 0.13159 | train_mse: 0.32272 | train_mae: 0.43986 |  0:00:04s\n",
      "epoch 45 | loss: 0.16936 | train_mse: 0.34202 | train_mae: 0.4518  |  0:00:04s\n"
     ]
    },
    {
     "name": "stdout",
     "output_type": "stream",
     "text": [
      "epoch 46 | loss: 0.12376 | train_mse: 0.22254 | train_mae: 0.36562 |  0:00:04s\n",
      "epoch 47 | loss: 0.1624  | train_mse: 0.14806 | train_mae: 0.31162 |  0:00:04s\n",
      "epoch 48 | loss: 0.19249 | train_mse: 0.11925 | train_mae: 0.28317 |  0:00:04s\n"
     ]
    },
    {
     "name": "stdout",
     "output_type": "stream",
     "text": [
      "epoch 49 | loss: 0.17913 | train_mse: 0.14448 | train_mae: 0.31744 |  0:00:04s\n",
      "epoch 50 | loss: 0.14293 | train_mse: 0.17677 | train_mae: 0.33902 |  0:00:04s\n",
      "epoch 51 | loss: 0.26344 | train_mse: 0.17627 | train_mae: 0.33003 |  0:00:04s\n"
     ]
    },
    {
     "name": "stdout",
     "output_type": "stream",
     "text": [
      "epoch 52 | loss: 0.13105 | train_mse: 0.11294 | train_mae: 0.26554 |  0:00:04s\n",
      "epoch 53 | loss: 0.25477 | train_mse: 0.10669 | train_mae: 0.26508 |  0:00:04s\n",
      "epoch 54 | loss: 0.25465 | train_mse: 0.12601 | train_mae: 0.28988 |  0:00:04s\n"
     ]
    },
    {
     "name": "stdout",
     "output_type": "stream",
     "text": [
      "epoch 55 | loss: 0.19161 | train_mse: 0.09    | train_mae: 0.23786 |  0:00:05s\n",
      "epoch 56 | loss: 0.12127 | train_mse: 0.08483 | train_mae: 0.22398 |  0:00:05s\n"
     ]
    },
    {
     "name": "stdout",
     "output_type": "stream",
     "text": [
      "epoch 57 | loss: 0.13797 | train_mse: 0.08879 | train_mae: 0.23352 |  0:00:05s\n",
      "epoch 58 | loss: 0.16533 | train_mse: 0.09528 | train_mae: 0.24069 |  0:00:05s\n",
      "epoch 59 | loss: 0.22417 | train_mse: 0.12959 | train_mae: 0.26343 |  0:00:05s\n"
     ]
    },
    {
     "name": "stdout",
     "output_type": "stream",
     "text": [
      "epoch 60 | loss: 0.25562 | train_mse: 0.12389 | train_mae: 0.2577  |  0:00:05s\n",
      "epoch 61 | loss: 0.17776 | train_mse: 0.09302 | train_mae: 0.24773 |  0:00:05s\n",
      "epoch 62 | loss: 0.14569 | train_mse: 0.11864 | train_mae: 0.27596 |  0:00:05s\n"
     ]
    },
    {
     "name": "stdout",
     "output_type": "stream",
     "text": [
      "epoch 63 | loss: 0.16349 | train_mse: 0.12951 | train_mae: 0.28489 |  0:00:05s\n",
      "epoch 64 | loss: 0.18238 | train_mse: 0.11088 | train_mae: 0.2532  |  0:00:05s\n",
      "epoch 65 | loss: 0.15394 | train_mse: 0.09767 | train_mae: 0.23683 |  0:00:05s\n"
     ]
    },
    {
     "name": "stdout",
     "output_type": "stream",
     "text": [
      "epoch 66 | loss: 0.33688 | train_mse: 0.10582 | train_mae: 0.25279 |  0:00:06s\n",
      "epoch 67 | loss: 0.13554 | train_mse: 0.11011 | train_mae: 0.25382 |  0:00:06s\n",
      "epoch 68 | loss: 0.18342 | train_mse: 0.10155 | train_mae: 0.25646 |  0:00:06s\n"
     ]
    },
    {
     "name": "stdout",
     "output_type": "stream",
     "text": [
      "epoch 69 | loss: 0.19015 | train_mse: 0.11187 | train_mae: 0.27742 |  0:00:06s\n",
      "epoch 70 | loss: 0.23567 | train_mse: 0.11133 | train_mae: 0.27914 |  0:00:06s\n",
      "epoch 71 | loss: 0.10775 | train_mse: 0.09977 | train_mae: 0.24369 |  0:00:06s\n"
     ]
    },
    {
     "name": "stdout",
     "output_type": "stream",
     "text": [
      "epoch 72 | loss: 0.13124 | train_mse: 0.11965 | train_mae: 0.2589  |  0:00:06s\n",
      "epoch 73 | loss: 0.08155 | train_mse: 0.13567 | train_mae: 0.27451 |  0:00:06s\n",
      "epoch 74 | loss: 0.10895 | train_mse: 0.15891 | train_mae: 0.29102 |  0:00:06s\n"
     ]
    },
    {
     "name": "stdout",
     "output_type": "stream",
     "text": [
      "epoch 75 | loss: 0.24971 | train_mse: 0.16776 | train_mae: 0.30575 |  0:00:06s\n",
      "epoch 76 | loss: 0.08299 | train_mse: 0.17771 | train_mae: 0.31723 |  0:00:06s\n",
      "epoch 77 | loss: 0.16268 | train_mse: 0.19761 | train_mae: 0.3162  |  0:00:06s\n"
     ]
    },
    {
     "name": "stdout",
     "output_type": "stream",
     "text": [
      "epoch 78 | loss: 0.1417  | train_mse: 0.18457 | train_mae: 0.31287 |  0:00:07s\n",
      "epoch 79 | loss: 0.17069 | train_mse: 0.1732  | train_mae: 0.29795 |  0:00:07s\n",
      "epoch 80 | loss: 0.25671 | train_mse: 0.16784 | train_mae: 0.29247 |  0:00:07s\n"
     ]
    },
    {
     "name": "stdout",
     "output_type": "stream",
     "text": [
      "epoch 81 | loss: 0.09494 | train_mse: 0.11689 | train_mae: 0.25734 |  0:00:07s\n",
      "epoch 82 | loss: 0.1609  | train_mse: 0.1008  | train_mae: 0.24573 |  0:00:07s\n",
      "epoch 83 | loss: 0.11129 | train_mse: 0.08653 | train_mae: 0.23625 |  0:00:07s\n"
     ]
    },
    {
     "name": "stdout",
     "output_type": "stream",
     "text": [
      "epoch 84 | loss: 0.11427 | train_mse: 0.08579 | train_mae: 0.22992 |  0:00:07s\n",
      "epoch 85 | loss: 0.09583 | train_mse: 0.12296 | train_mae: 0.26212 |  0:00:07s\n",
      "epoch 86 | loss: 0.15588 | train_mse: 0.16959 | train_mae: 0.29586 |  0:00:07s\n"
     ]
    },
    {
     "name": "stdout",
     "output_type": "stream",
     "text": [
      "epoch 87 | loss: 0.17082 | train_mse: 0.12159 | train_mae: 0.26145 |  0:00:07s\n",
      "epoch 88 | loss: 0.16335 | train_mse: 0.09437 | train_mae: 0.24986 |  0:00:07s\n",
      "epoch 89 | loss: 0.19007 | train_mse: 0.08952 | train_mae: 0.2401  |  0:00:07s\n"
     ]
    },
    {
     "name": "stdout",
     "output_type": "stream",
     "text": [
      "epoch 90 | loss: 0.2172  | train_mse: 0.08653 | train_mae: 0.23625 |  0:00:08s\n",
      "epoch 91 | loss: 0.13562 | train_mse: 0.08956 | train_mae: 0.24132 |  0:00:08s\n",
      "epoch 92 | loss: 0.11242 | train_mse: 0.09858 | train_mae: 0.24987 |  0:00:08s\n"
     ]
    },
    {
     "name": "stdout",
     "output_type": "stream",
     "text": [
      "epoch 93 | loss: 0.12914 | train_mse: 0.14227 | train_mae: 0.28395 |  0:00:08s\n",
      "epoch 94 | loss: 0.18344 | train_mse: 0.13926 | train_mae: 0.27589 |  0:00:08s\n",
      "epoch 95 | loss: 0.14602 | train_mse: 0.145   | train_mae: 0.27957 |  0:00:08s\n"
     ]
    },
    {
     "name": "stdout",
     "output_type": "stream",
     "text": [
      "epoch 96 | loss: 0.20251 | train_mse: 0.12269 | train_mae: 0.26422 |  0:00:08s\n",
      "epoch 97 | loss: 0.25447 | train_mse: 0.08851 | train_mae: 0.23807 |  0:00:08s\n",
      "epoch 98 | loss: 0.15145 | train_mse: 0.08726 | train_mae: 0.23417 |  0:00:08s\n"
     ]
    },
    {
     "name": "stdout",
     "output_type": "stream",
     "text": [
      "epoch 99 | loss: 0.15201 | train_mse: 0.11334 | train_mae: 0.2596  |  0:00:08s\n",
      "epoch 100| loss: 0.12471 | train_mse: 0.13378 | train_mae: 0.27585 |  0:00:08s\n",
      "epoch 101| loss: 0.09787 | train_mse: 0.11182 | train_mae: 0.25013 |  0:00:08s\n"
     ]
    },
    {
     "name": "stdout",
     "output_type": "stream",
     "text": [
      "epoch 102| loss: 0.20968 | train_mse: 0.09645 | train_mae: 0.24    |  0:00:09s\n",
      "epoch 103| loss: 0.13291 | train_mse: 0.08265 | train_mae: 0.22488 |  0:00:09s\n",
      "epoch 104| loss: 0.15537 | train_mse: 0.06802 | train_mae: 0.2104  |  0:00:09s\n"
     ]
    },
    {
     "name": "stdout",
     "output_type": "stream",
     "text": [
      "epoch 105| loss: 0.11633 | train_mse: 0.06371 | train_mae: 0.199   |  0:00:09s\n",
      "epoch 106| loss: 0.10271 | train_mse: 0.06674 | train_mae: 0.20451 |  0:00:09s\n",
      "epoch 107| loss: 0.18758 | train_mse: 0.07574 | train_mae: 0.21156 |  0:00:09s\n"
     ]
    },
    {
     "name": "stdout",
     "output_type": "stream",
     "text": [
      "epoch 108| loss: 0.11809 | train_mse: 0.0777  | train_mae: 0.21117 |  0:00:09s\n",
      "epoch 109| loss: 0.10166 | train_mse: 0.08132 | train_mae: 0.22259 |  0:00:09s\n",
      "epoch 110| loss: 0.22885 | train_mse: 0.07663 | train_mae: 0.21691 |  0:00:09s\n"
     ]
    },
    {
     "name": "stdout",
     "output_type": "stream",
     "text": [
      "epoch 111| loss: 0.15095 | train_mse: 0.10605 | train_mae: 0.2509  |  0:00:09s\n",
      "epoch 112| loss: 0.12896 | train_mse: 0.10699 | train_mae: 0.25158 |  0:00:10s\n"
     ]
    },
    {
     "name": "stdout",
     "output_type": "stream",
     "text": [
      "epoch 113| loss: 0.15368 | train_mse: 0.10545 | train_mae: 0.24963 |  0:00:10s\n",
      "epoch 114| loss: 0.12919 | train_mse: 0.06663 | train_mae: 0.20326 |  0:00:10s\n",
      "epoch 115| loss: 0.18917 | train_mse: 0.07569 | train_mae: 0.21835 |  0:00:10s\n"
     ]
    },
    {
     "name": "stdout",
     "output_type": "stream",
     "text": [
      "epoch 116| loss: 0.30964 | train_mse: 0.06543 | train_mae: 0.21105 |  0:00:10s\n",
      "epoch 117| loss: 0.31014 | train_mse: 0.07054 | train_mae: 0.21637 |  0:00:10s\n",
      "epoch 118| loss: 0.09902 | train_mse: 0.07461 | train_mae: 0.22494 |  0:00:10s\n"
     ]
    },
    {
     "name": "stdout",
     "output_type": "stream",
     "text": [
      "epoch 119| loss: 0.20809 | train_mse: 0.07456 | train_mae: 0.21795 |  0:00:10s\n",
      "epoch 120| loss: 0.28376 | train_mse: 0.06875 | train_mae: 0.21186 |  0:00:10s\n",
      "epoch 121| loss: 0.10864 | train_mse: 0.06934 | train_mae: 0.21146 |  0:00:10s\n"
     ]
    },
    {
     "name": "stdout",
     "output_type": "stream",
     "text": [
      "epoch 122| loss: 0.09503 | train_mse: 0.08305 | train_mae: 0.22667 |  0:00:10s\n",
      "epoch 123| loss: 0.15237 | train_mse: 0.08534 | train_mae: 0.22554 |  0:00:11s\n"
     ]
    },
    {
     "name": "stdout",
     "output_type": "stream",
     "text": [
      "epoch 124| loss: 0.1559  | train_mse: 0.07714 | train_mae: 0.21125 |  0:00:11s\n",
      "epoch 125| loss: 0.1923  | train_mse: 0.06234 | train_mae: 0.1986  |  0:00:11s\n",
      "epoch 126| loss: 0.25213 | train_mse: 0.06761 | train_mae: 0.19792 |  0:00:11s\n"
     ]
    },
    {
     "name": "stdout",
     "output_type": "stream",
     "text": [
      "epoch 127| loss: 0.10785 | train_mse: 0.05044 | train_mae: 0.18011 |  0:00:11s\n",
      "epoch 128| loss: 0.08459 | train_mse: 0.06054 | train_mae: 0.19151 |  0:00:11s\n",
      "epoch 129| loss: 0.14793 | train_mse: 0.0756  | train_mae: 0.20365 |  0:00:11s\n"
     ]
    },
    {
     "name": "stdout",
     "output_type": "stream",
     "text": [
      "epoch 130| loss: 0.10866 | train_mse: 0.20806 | train_mae: 0.24347 |  0:00:11s\n",
      "epoch 131| loss: 0.14893 | train_mse: 0.07681 | train_mae: 0.21108 |  0:00:11s\n",
      "epoch 132| loss: 0.16825 | train_mse: 0.0872  | train_mae: 0.21967 |  0:00:11s\n"
     ]
    },
    {
     "name": "stdout",
     "output_type": "stream",
     "text": [
      "epoch 133| loss: 0.12709 | train_mse: 0.09756 | train_mae: 0.23036 |  0:00:11s\n",
      "epoch 134| loss: 0.20901 | train_mse: 0.07879 | train_mae: 0.21231 |  0:00:11s\n",
      "epoch 135| loss: 0.20284 | train_mse: 0.06883 | train_mae: 0.19985 |  0:00:12s\n"
     ]
    },
    {
     "name": "stdout",
     "output_type": "stream",
     "text": [
      "epoch 136| loss: 0.09775 | train_mse: 0.07234 | train_mae: 0.20709 |  0:00:12s\n",
      "epoch 137| loss: 0.13204 | train_mse: 0.07102 | train_mae: 0.21032 |  0:00:12s\n",
      "epoch 138| loss: 0.14757 | train_mse: 0.07599 | train_mae: 0.21924 |  0:00:12s\n"
     ]
    },
    {
     "name": "stdout",
     "output_type": "stream",
     "text": [
      "epoch 139| loss: 0.29577 | train_mse: 0.0782  | train_mae: 0.22545 |  0:00:12s\n",
      "epoch 140| loss: 0.10174 | train_mse: 0.0772  | train_mae: 0.22639 |  0:00:12s\n",
      "epoch 141| loss: 0.11859 | train_mse: 0.07006 | train_mae: 0.21383 |  0:00:12s\n"
     ]
    },
    {
     "name": "stdout",
     "output_type": "stream",
     "text": [
      "epoch 142| loss: 0.17902 | train_mse: 0.06513 | train_mae: 0.20058 |  0:00:12s\n",
      "epoch 143| loss: 0.09487 | train_mse: 0.06418 | train_mae: 0.20372 |  0:00:12s\n",
      "epoch 144| loss: 0.17682 | train_mse: 0.06502 | train_mae: 0.20181 |  0:00:12s\n"
     ]
    },
    {
     "name": "stdout",
     "output_type": "stream",
     "text": [
      "epoch 145| loss: 0.16417 | train_mse: 0.06736 | train_mae: 0.20063 |  0:00:12s\n",
      "epoch 146| loss: 0.2372  | train_mse: 0.06822 | train_mae: 0.19624 |  0:00:12s\n",
      "epoch 147| loss: 0.10964 | train_mse: 0.05903 | train_mae: 0.18534 |  0:00:13s\n"
     ]
    },
    {
     "name": "stdout",
     "output_type": "stream",
     "text": [
      "epoch 148| loss: 0.1431  | train_mse: 0.0537  | train_mae: 0.1854  |  0:00:13s\n",
      "epoch 149| loss: 0.16507 | train_mse: 0.08072 | train_mae: 0.21803 |  0:00:13s\n",
      "epoch 150| loss: 0.16023 | train_mse: 0.08446 | train_mae: 0.21791 |  0:00:13s\n"
     ]
    },
    {
     "name": "stdout",
     "output_type": "stream",
     "text": [
      "epoch 151| loss: 0.08555 | train_mse: 0.07827 | train_mae: 0.20261 |  0:00:13s\n",
      "epoch 152| loss: 0.17825 | train_mse: 0.07708 | train_mae: 0.20489 |  0:00:13s\n",
      "epoch 153| loss: 0.09421 | train_mse: 0.07735 | train_mae: 0.21746 |  0:00:13s\n"
     ]
    },
    {
     "name": "stdout",
     "output_type": "stream",
     "text": [
      "epoch 154| loss: 0.08609 | train_mse: 0.07608 | train_mae: 0.20986 |  0:00:13s\n",
      "epoch 155| loss: 0.14341 | train_mse: 0.08729 | train_mae: 0.22397 |  0:00:13s\n",
      "epoch 156| loss: 0.11031 | train_mse: 0.08455 | train_mae: 0.22026 |  0:00:13s\n"
     ]
    },
    {
     "name": "stdout",
     "output_type": "stream",
     "text": [
      "epoch 157| loss: 0.1197  | train_mse: 0.10527 | train_mae: 0.23334 |  0:00:13s\n",
      "epoch 158| loss: 0.086   | train_mse: 0.12938 | train_mae: 0.2507  |  0:00:13s\n",
      "epoch 159| loss: 0.13273 | train_mse: 0.13324 | train_mae: 0.25444 |  0:00:14s\n"
     ]
    },
    {
     "name": "stdout",
     "output_type": "stream",
     "text": [
      "epoch 160| loss: 0.12917 | train_mse: 0.13015 | train_mae: 0.24978 |  0:00:14s\n",
      "epoch 161| loss: 0.18548 | train_mse: 0.11223 | train_mae: 0.23886 |  0:00:14s\n",
      "epoch 162| loss: 0.13358 | train_mse: 0.12639 | train_mae: 0.25653 |  0:00:14s\n"
     ]
    },
    {
     "name": "stdout",
     "output_type": "stream",
     "text": [
      "epoch 163| loss: 0.17249 | train_mse: 0.16073 | train_mae: 0.27577 |  0:00:14s\n",
      "epoch 164| loss: 0.14616 | train_mse: 0.19765 | train_mae: 0.29672 |  0:00:14s\n",
      "epoch 165| loss: 0.12973 | train_mse: 0.17388 | train_mae: 0.28981 |  0:00:14s\n"
     ]
    },
    {
     "name": "stdout",
     "output_type": "stream",
     "text": [
      "epoch 166| loss: 0.10998 | train_mse: 0.12411 | train_mae: 0.25371 |  0:00:14s\n",
      "epoch 167| loss: 0.12929 | train_mse: 0.09487 | train_mae: 0.2282  |  0:00:14s\n",
      "epoch 168| loss: 0.2707  | train_mse: 0.10747 | train_mae: 0.24529 |  0:00:14s\n"
     ]
    },
    {
     "name": "stdout",
     "output_type": "stream",
     "text": [
      "epoch 169| loss: 0.11019 | train_mse: 0.15438 | train_mae: 0.27506 |  0:00:14s\n",
      "epoch 170| loss: 0.31846 | train_mse: 0.20878 | train_mae: 0.2994  |  0:00:15s\n",
      "epoch 171| loss: 0.10763 | train_mse: 0.19611 | train_mae: 0.3039  |  0:00:15s\n"
     ]
    },
    {
     "name": "stdout",
     "output_type": "stream",
     "text": [
      "epoch 172| loss: 0.20068 | train_mse: 0.14259 | train_mae: 0.2818  |  0:00:15s\n",
      "epoch 173| loss: 0.1495  | train_mse: 0.10303 | train_mae: 0.24158 |  0:00:15s\n",
      "epoch 174| loss: 0.12993 | train_mse: 0.09519 | train_mae: 0.22522 |  0:00:15s\n"
     ]
    },
    {
     "name": "stdout",
     "output_type": "stream",
     "text": [
      "epoch 175| loss: 0.08955 | train_mse: 0.10099 | train_mae: 0.23222 |  0:00:15s\n",
      "epoch 176| loss: 0.09942 | train_mse: 0.07757 | train_mae: 0.2131  |  0:00:15s\n"
     ]
    },
    {
     "name": "stdout",
     "output_type": "stream",
     "text": [
      "epoch 177| loss: 0.15624 | train_mse: 0.06494 | train_mae: 0.19449 |  0:00:15s\n",
      "\n",
      "Early stopping occurred at epoch 177 with best_epoch = 127 and best_train_mae = 0.18011\n",
      "Best weights from best epoch are automatically used!\n"
     ]
    }
   ],
   "source": [
    "#Train the Model\n",
    "\n",
    "Y_train = np.reshape(Y_train, (-1, 1))\n",
    "Y_test = np.reshape(Y_test, (-1, 1))\n",
    "\n",
    "prior_model = TabNetRegressor(optimizer_fn=torch.optim.Adam, optimizer_params=dict(lr = 0.02),\n",
    "          #scheduler_params={\"step_size\":10, ], \"gamma\":0.9},\n",
    "          #scheduler_fn=torch.optim.lr_scheduler.StepLR\n",
    "          )  #TabNetRegressor()\n",
    "\n",
    "prior_model.fit(X_train,Y_train,eval_set=[(X_train, Y_train)],\n",
    "            eval_name=['train'], \n",
    "            eval_metric=[ 'mse', 'mae'], \n",
    "            max_epochs = n_epochs, \n",
    "            batch_size = batch_size,\n",
    "            patience=50\n",
    "            )"
   ]
  },
  {
   "cell_type": "code",
   "execution_count": 10,
   "id": "af65dcda",
   "metadata": {
    "execution": {
     "iopub.execute_input": "2022-06-22T14:35:31.142013Z",
     "iopub.status.busy": "2022-06-22T14:35:31.140196Z",
     "iopub.status.idle": "2022-06-22T14:35:31.183245Z",
     "shell.execute_reply": "2022-06-22T14:35:31.184343Z"
    },
    "id": "af65dcda",
    "papermill": {
     "duration": 0.112373,
     "end_time": "2022-06-22T14:35:31.184576",
     "exception": false,
     "start_time": "2022-06-22T14:35:31.072203",
     "status": "completed"
    },
    "tags": []
   },
   "outputs": [
    {
     "data": {
      "application/scrapbook.scrap.json+json": {
       "data": 0.26353159697270895,
       "encoder": "json",
       "name": "Prior Model MSE",
       "version": 1
      }
     },
     "metadata": {
      "scrapbook": {
       "data": true,
       "display": false,
       "name": "Prior Model MSE"
      }
     },
     "output_type": "display_data"
    },
    {
     "data": {
      "application/scrapbook.scrap.json+json": {
       "data": 1.3679780268862454,
       "encoder": "json",
       "name": "ABC Pre-generator MSE",
       "version": 1
      }
     },
     "metadata": {
      "scrapbook": {
       "data": true,
       "display": false,
       "name": "ABC Pre-generator MSE"
      }
     },
     "output_type": "display_data"
    },
    {
     "data": {
      "application/scrapbook.scrap.json+json": {
       "data": 0.4067506763281952,
       "encoder": "json",
       "name": "Prior Model MSE",
       "version": 1
      }
     },
     "metadata": {
      "scrapbook": {
       "data": true,
       "display": false,
       "name": "Prior Model MSE"
      }
     },
     "output_type": "display_data"
    },
    {
     "data": {
      "application/scrapbook.scrap.json+json": {
       "data": 0.966404074969016,
       "encoder": "json",
       "name": "ABC Pre-generator MSE",
       "version": 1
      }
     },
     "metadata": {
      "scrapbook": {
       "data": true,
       "display": false,
       "name": "ABC Pre-generator MSE"
      }
     },
     "output_type": "display_data"
    }
   ],
   "source": [
    "y_pred = prior_model.predict(X_test)\n",
    "y_abc = y_pred + np.random.normal(0,variance, y_pred.shape) + bias \n",
    "mse = mean_squared_error(y_pred,Y_test)\n",
    "sb.glue(\"Prior Model MSE\",mse)\n",
    "mse = mean_squared_error(y_abc,Y_test)\n",
    "sb.glue(\"ABC Pre-generator MSE\",mse)\n",
    "mae = mean_absolute_error(y_pred,Y_test)\n",
    "sb.glue(\"Prior Model MSE\",mae)\n",
    "mae = mean_absolute_error(y_abc,Y_test)\n",
    "sb.glue(\"ABC Pre-generator MSE\",mae)"
   ]
  },
  {
   "cell_type": "markdown",
   "id": "25609da2",
   "metadata": {
    "papermill": {
     "duration": 0.061971,
     "end_time": "2022-06-22T14:35:31.316098",
     "exception": false,
     "start_time": "2022-06-22T14:35:31.254127",
     "status": "completed"
    },
    "tags": []
   },
   "source": [
    "# ABC GAN Model"
   ]
  },
  {
   "cell_type": "code",
   "execution_count": 11,
   "id": "dfc3464d",
   "metadata": {
    "execution": {
     "iopub.execute_input": "2022-06-22T14:35:31.431497Z",
     "iopub.status.busy": "2022-06-22T14:35:31.430583Z",
     "iopub.status.idle": "2022-06-22T14:35:31.435199Z",
     "shell.execute_reply": "2022-06-22T14:35:31.435693Z"
    },
    "papermill": {
     "duration": 0.051573,
     "end_time": "2022-06-22T14:35:31.435919",
     "exception": false,
     "start_time": "2022-06-22T14:35:31.384346",
     "status": "completed"
    },
    "tags": []
   },
   "outputs": [],
   "source": [
    "gen = network.Generator(n_features+1).to(device)\n",
    "disc = network.Discriminator(n_features+1).to(device)\n",
    "\n",
    "criterion = torch.nn.BCELoss()\n",
    "gen_opt = torch.optim.Adam(gen.parameters(), lr=0.001, betas=(0.5, 0.999))\n",
    "disc_opt = torch.optim.Adam(disc.parameters(), lr=0.001, betas=(0.5, 0.999))"
   ]
  },
  {
   "cell_type": "code",
   "execution_count": 12,
   "id": "b75fdd85",
   "metadata": {
    "execution": {
     "iopub.execute_input": "2022-06-22T14:35:31.553130Z",
     "iopub.status.busy": "2022-06-22T14:35:31.545619Z",
     "iopub.status.idle": "2022-06-22T14:36:23.736618Z",
     "shell.execute_reply": "2022-06-22T14:36:23.737327Z"
    },
    "papermill": {
     "duration": 52.260035,
     "end_time": "2022-06-22T14:36:23.737759",
     "exception": false,
     "start_time": "2022-06-22T14:35:31.477724",
     "status": "completed"
    },
    "tags": []
   },
   "outputs": [
    {
     "data": {
      "image/png": "[encoded data removed]",
      "text/plain": [
       "<Figure size 432x288 with 1 Axes>"
      ]
     },
     "metadata": {
      "needs_background": "light"
     },
     "output_type": "display_data"
    },
    {
     "data": {
      "image/png": "[encoded data removed]",
      "text/plain": [
       "<Figure size 432x288 with 1 Axes>"
      ]
     },
     "metadata": {
      "needs_background": "light"
     },
     "output_type": "display_data"
    }
   ],
   "source": [
    "#Training the ABC_GAN \n",
    "ABC_train_test2.training_GAN(disc,gen,disc_opt,gen_opt,train_data,batch_size,n_epochs,criterion,prior_model,variance,bias,device)"
   ]
  },
  {
   "cell_type": "code",
   "execution_count": 13,
   "id": "1fa7c368",
   "metadata": {
    "execution": {
     "iopub.execute_input": "2022-06-22T14:36:23.830417Z",
     "iopub.status.busy": "2022-06-22T14:36:23.829429Z",
     "iopub.status.idle": "2022-06-22T14:36:24.864183Z",
     "shell.execute_reply": "2022-06-22T14:36:24.865233Z"
    },
    "papermill": {
     "duration": 1.088915,
     "end_time": "2022-06-22T14:36:24.865496",
     "exception": false,
     "start_time": "2022-06-22T14:36:23.776581",
     "status": "completed"
    },
    "tags": []
   },
   "outputs": [
    {
     "data": {
      "application/scrapbook.scrap.json+json": {
       "data": 0.2298585038496397,
       "encoder": "json",
       "name": "ABC-GAN Model 1 MSE",
       "version": 1
      }
     },
     "metadata": {
      "scrapbook": {
       "data": true,
       "display": false,
       "name": "ABC-GAN Model 1 MSE"
      }
     },
     "output_type": "display_data"
    },
    {
     "data": {
      "application/scrapbook.scrap.json+json": {
       "data": 0.3905882057771087,
       "encoder": "json",
       "name": "ABC-GAN Model 1 MAE",
       "version": 1
      }
     },
     "metadata": {
      "scrapbook": {
       "data": true,
       "display": false,
       "name": "ABC-GAN Model 1 MAE"
      }
     },
     "output_type": "display_data"
    },
    {
     "data": {
      "application/scrapbook.scrap.json+json": {
       "data": 7.811764115542173,
       "encoder": "json",
       "name": "ABC-GAN Model 1 Manhattan Distance",
       "version": 1
      }
     },
     "metadata": {
      "scrapbook": {
       "data": true,
       "display": false,
       "name": "ABC-GAN Model 1 Manhattan Distance"
      }
     },
     "output_type": "display_data"
    },
    {
     "data": {
      "application/scrapbook.scrap.json+json": {
       "data": 2.1434326564614916,
       "encoder": "json",
       "name": "ABC-GAN Model 1 Euclidean distance",
       "version": 1
      }
     },
     "metadata": {
      "scrapbook": {
       "data": true,
       "display": false,
       "name": "ABC-GAN Model 1 Euclidean distance"
      }
     },
     "output_type": "display_data"
    },
    {
     "data": {
      "application/scrapbook.scrap.json+json": {
       "data": [
        [
         0.22313596186012888,
         0.23018267663559513,
         0.21811723238687186,
         0.2297455488374312,
         0.23067233100459958,
         0.22877476158741333,
         0.22327489162718953,
         0.21758839870629196,
         0.22851433963562057,
         0.23506247183527415,
         0.22084367762191123,
         0.22863727499962755,
         0.2499614186756794,
         0.24402470884361782,
         0.232546084489003,
         0.2205458607268072,
         0.23425479817355246,
         0.23465465259457413,
         0.22723417878076804,
         0.21227043030004009,
         0.22799711437063422,
         0.23162386506908442,
         0.23455945252985813,
         0.2127573021382811,
         0.24160773408167252,
         0.24054156701423857,
         0.22671147098315703,
         0.23681773999677086,
         0.24013802106386234,
         0.2342142115957017,
         0.2332443897452674,
         0.23000209112286535,
         0.23243952819472158,
         0.22129070654160063,
         0.2178076397386862,
         0.22979419045803762,
         0.22674546691137687,
         0.22465764236503188,
         0.21611677899100962,
         0.20607123951919798,
         0.19733682383355483,
         0.20993188699758333,
         0.21803820694885526,
         0.22632222268907762,
         0.22406036786672737,
         0.22707733361509477,
         0.2409815355052361,
         0.2254283008874578,
         0.230098082143962,
         0.2378911746624318,
         0.24573951087196585,
         0.23983558464401988,
         0.244583575540993,
         0.24238588892911994,
         0.25888614835662355,
         0.2395518055349138,
         0.22994969744962818,
         0.23226791191116317,
         0.23099017835744676,
         0.23679605880752566,
         0.22637627301746818,
         0.2413316094117563,
         0.21496032320398087,
         0.24547452338329837,
         0.2306402368469981,
         0.22929229120026468,
         0.22305723177325804,
         0.23161008583218984,
         0.21989388227474707,
         0.2487699003540175,
         0.2307268635013015,
         0.2071945281685311,
         0.19395047796256518,
         0.2379618438553756,
         0.2356493459286657,
         0.22624057104407527,
         0.2302767138240042,
         0.23167281107951704,
         0.22076720872531902,
         0.1961978723190591,
         0.2210968534919148,
         0.24155901551202447,
         0.2351549394393853,
         0.23350946145590107,
         0.24006632237245068,
         0.23771913147391924,
         0.22191476568288787,
         0.23659539812520727,
         0.24207512445946916,
         0.24554207082339566,
         0.23443886525979024,
         0.23722865191062253,
         0.22940963836947809,
         0.21994278487159039,
         0.2260423818665033,
         0.24980647947449014,
         0.24116561770983774,
         0.23742864546335793,
         0.23590072770761655,
         0.22387676848130159
        ],
        [
         0.3830398842692375,
         0.38694697991013527,
         0.3703326262533665,
         0.3896734081208706,
         0.386466933041811,
         0.38843031600117683,
         0.3815457262098789,
         0.38603757619857787,
         0.38113443925976753,
         0.39712911918759347,
         0.38153755441308024,
         0.4031651243567467,
         0.4098349310457706,
         0.3969223864376545,
         0.3923277176916599,
         0.3812766209244728,
         0.39441687762737276,
         0.39519720822572707,
         0.39504468217492106,
         0.37503106594085694,
         0.39604111537337305,
         0.3890863470733166,
         0.3940146766602993,
         0.3749260291457176,
         0.4036596707999706,
         0.39032836332917215,
         0.3983896680176258,
         0.39987715184688566,
         0.40239792987704276,
         0.38698505237698555,
         0.39094373509287833,
         0.3895191170275211,
         0.39287264123558996,
         0.39047746285796164,
         0.37922612503170966,
         0.39116221070289614,
         0.3950088880956173,
         0.3887242659926414,
         0.3829907186329365,
         0.3670420408248901,
         0.3672162026166916,
         0.37128906697034836,
         0.3747832216322422,
         0.38411102816462517,
         0.39109718799591064,
         0.3793187074363232,
         0.4105379648506641,
         0.37818493843078616,
         0.39030336812138555,
         0.4116167910397053,
         0.4109160594642162,
         0.3934562556445599,
         0.3993328735232353,
         0.39065120965242384,
         0.4145225495100021,
         0.4010501816868782,
         0.3858987055718899,
         0.3892067790031433,
         0.3937018357217312,
         0.3960378557443619,
         0.3876787044107914,
         0.40215051248669625,
         0.37362865880131724,
         0.40094665363430976,
         0.39292883351445196,
         0.3843149922788143,
         0.3793245792388916,
         0.39140286222100257,
         0.3849331773817539,
         0.399097890406847,
         0.38858567252755166,
         0.3816476039588451,
         0.36918687298893926,
         0.391651301831007,
         0.4013810120522976,
         0.3896716423332691,
         0.3900931105017662,
         0.38711090907454493,
         0.37989538013935087,
         0.36831617131829264,
         0.40416317954659464,
         0.40995559841394424,
         0.39481510147452353,
         0.38960565701127053,
         0.3877265892922878,
         0.4027910016477108,
         0.3811378426849842,
         0.3849963150918484,
         0.4012191630899906,
         0.4000979229807854,
         0.39577179923653605,
         0.39592183753848076,
         0.39649715796113016,
         0.38037261590361593,
         0.38553157299757,
         0.4079766824841499,
         0.41081426963210105,
         0.39655510857701304,
         0.3921634487807751,
         0.3843640021979809
        ],
        [
         7.66079768538475,
         7.738939598202705,
         7.406652525067329,
         7.793468162417412,
         7.72933866083622,
         7.768606320023537,
         7.630914524197578,
         7.720751523971558,
         7.622688785195351,
         7.942582383751869,
         7.630751088261604,
         8.063302487134933,
         8.196698620915413,
         7.93844772875309,
         7.8465543538331985,
         7.625532418489456,
         7.888337552547455,
         7.903944164514542,
         7.900893643498421,
         7.500621318817139,
         7.920822307467461,
         7.7817269414663315,
         7.880293533205986,
         7.498520582914352,
         8.073193415999413,
         7.806567266583443,
         7.967793360352516,
         7.997543036937714,
         8.047958597540855,
         7.739701047539711,
         7.818874701857567,
         7.790382340550423,
         7.8574528247118,
         7.809549257159233,
         7.584522500634193,
         7.823244214057922,
         7.900177761912346,
         7.774485319852829,
         7.6598143726587296,
         7.340840816497803,
         7.344324052333832,
         7.425781339406967,
         7.495664432644844,
         7.682220563292503,
         7.821943759918213,
         7.586374148726463,
         8.210759297013283,
         7.563698768615723,
         7.8060673624277115,
         8.232335820794106,
         8.218321189284325,
         7.869125112891197,
         7.986657470464706,
         7.813024193048477,
         8.290450990200043,
         8.021003633737564,
         7.7179741114377975,
         7.784135580062866,
         7.874036714434624,
         7.9207571148872375,
         7.753574088215828,
         8.043010249733925,
         7.472573176026344,
         8.018933072686195,
         7.85857667028904,
         7.686299845576286,
         7.586491584777832,
         7.828057244420052,
         7.698663547635078,
         7.98195780813694,
         7.771713450551033,
         7.632952079176903,
         7.383737459778786,
         7.83302603662014,
         8.027620241045952,
         7.793432846665382,
         7.801862210035324,
         7.742218181490898,
         7.597907602787018,
         7.366323426365852,
         8.083263590931892,
         8.199111968278885,
         7.896302029490471,
         7.7921131402254105,
         7.7545317858457565,
         8.055820032954216,
         7.622756853699684,
         7.6999263018369675,
         8.024383261799812,
         8.001958459615707,
         7.9154359847307205,
         7.918436750769615,
         7.929943159222603,
         7.607452318072319,
         7.710631459951401,
         8.159533649682999,
         8.216285392642021,
         7.93110217154026,
         7.843268975615501,
         7.687280043959618
        ],
        [
         2.1125149081610233,
         2.1456126241034057,
         2.0886226676298993,
         2.1435743459811754,
         2.14789353090231,
         2.1390407269961615,
         2.113172456886515,
         2.0860891577604823,
         2.137822909577033,
         2.1682364808077286,
         2.1016359229034474,
         2.1383978815909237,
         2.235895429914733,
         2.209184052285449,
         2.1565995663961495,
         2.100218373059369,
         2.1645082498043404,
         2.1663547843997026,
         2.1318263474343686,
         2.06043893527588,
         2.1354021371658978,
         2.1523190519487785,
         2.165915291648582,
         2.062800533926056,
         2.198216249970291,
         2.1933607410284273,
         2.1293730109267237,
         2.1763167967773938,
         2.191520116557739,
         2.1643207322192417,
         2.159835131417523,
         2.1447708088411934,
         2.156105415765758,
         2.103761899748166,
         2.087139859897684,
         2.143801252252818,
         2.1295326572343374,
         2.1197058398043436,
         2.079022746345069,
         2.0301292546002974,
         1.9866394933835116,
         2.0490577688175766,
         2.088244271865029,
         2.1275442307462265,
         2.116886240999867,
         2.1310904889989764,
         2.195365734929996,
         2.1233384133833106,
         2.1452183205630235,
         2.1812435657781633,
         2.2169326145463506,
         2.190139651456134,
         2.2117123481185024,
         2.201753341903311,
         2.275461044960443,
         2.188843555555827,
         2.1445265092771795,
         2.1553093138162938,
         2.1493728311181695,
         2.1762171711827185,
         2.1277982658958448,
         2.1969597602676125,
         2.0734527880035314,
         2.215737003271365,
         2.1477441041567222,
         2.1414588074500274,
         2.112142191109576,
         2.152255030576952,
         2.0971117389149634,
         2.2305600209544574,
         2.148147404166211,
         2.0356548242201136,
         1.9695201342589275,
         2.181567527514909,
         2.170941482070236,
         2.1271604125879895,
         2.1460508559864286,
         2.152546450507013,
         2.1012720372446734,
         1.9808981413442697,
         2.102840238781419,
         2.197994611058109,
         2.168662903447123,
         2.161062060450375,
         2.1911929279388005,
         2.180454684114849,
         2.106726207568928,
         2.175294913914926,
         2.200341448318734,
         2.2160418354507465,
         2.165358470368314,
         2.1782040855283626,
         2.142006715066403,
         2.097344916181363,
         2.12622850073318,
         2.2352023598524142,
         2.196204078449167,
         2.179122050108061,
         2.172099112414609,
         2.1160187545544185
        ]
       ],
       "encoder": "json",
       "name": "ABC_GAN_1 Metrics",
       "version": 1
      }
     },
     "metadata": {
      "scrapbook": {
       "data": true,
       "display": false,
       "name": "ABC_GAN_1 Metrics"
      }
     },
     "output_type": "display_data"
    },
    {
     "name": "stdout",
     "output_type": "stream",
     "text": [
      "MSE\n",
      "0.2298585038496397\n"
     ]
    }
   ],
   "source": [
    "ABC_GAN1_metrics=ABC_train_test2.test_generator(gen,test_data,prior_model,variance,bias,\"1\",device)\n",
    "sb.glue(\"ABC_GAN_1 Metrics\",ABC_GAN1_metrics)\n",
    "\n",
    "print(\"MSE\")\n",
    "print(mean(ABC_GAN1_metrics[0]))"
   ]
  },
  {
   "cell_type": "code",
   "execution_count": 14,
   "id": "eb22ce5c",
   "metadata": {
    "execution": {
     "iopub.execute_input": "2022-06-22T14:36:25.051590Z",
     "iopub.status.busy": "2022-06-22T14:36:25.050813Z",
     "iopub.status.idle": "2022-06-22T14:36:26.080074Z",
     "shell.execute_reply": "2022-06-22T14:36:26.080844Z"
    },
    "papermill": {
     "duration": 1.164568,
     "end_time": "2022-06-22T14:36:26.081060",
     "exception": false,
     "start_time": "2022-06-22T14:36:24.916492",
     "status": "completed"
    },
    "tags": []
   },
   "outputs": [
    {
     "data": {
      "image/png": "[encoded data removed]",
      "text/plain": [
       "<Figure size 432x288 with 1 Axes>"
      ]
     },
     "metadata": {
      "needs_background": "light"
     },
     "output_type": "display_data"
    },
    {
     "data": {
      "image/png": "[encoded data removed]",
      "text/plain": [
       "<Figure size 432x288 with 1 Axes>"
      ]
     },
     "metadata": {
      "needs_background": "light"
     },
     "output_type": "display_data"
    },
    {
     "data": {
      "image/png": "[encoded data removed]",
      "text/plain": [
       "<Figure size 432x288 with 1 Axes>"
      ]
     },
     "metadata": {
      "needs_background": "light"
     },
     "output_type": "display_data"
    },
    {
     "data": {
      "image/png": "[encoded data removed]",
      "text/plain": [
       "<Figure size 432x288 with 1 Axes>"
      ]
     },
     "metadata": {
      "needs_background": "light"
     },
     "output_type": "display_data"
    }
   ],
   "source": [
    "sanityChecks.discProbVsError(train_data,disc,device)\n",
    "sanityChecks.discProbVsError(test_data,disc,device)"
   ]
  },
  {
   "cell_type": "markdown",
   "id": "130f3a4d",
   "metadata": {
    "id": "130f3a4d",
    "papermill": {
     "duration": 0.066341,
     "end_time": "2022-06-22T14:36:26.197975",
     "exception": false,
     "start_time": "2022-06-22T14:36:26.131634",
     "status": "completed"
    },
    "tags": []
   },
   "source": [
    "# ABC - GAN Model with skip connection"
   ]
  },
  {
   "cell_type": "code",
   "execution_count": 15,
   "id": "4e43dad1",
   "metadata": {
    "execution": {
     "iopub.execute_input": "2022-06-22T14:36:26.368030Z",
     "iopub.status.busy": "2022-06-22T14:36:26.365729Z",
     "iopub.status.idle": "2022-06-22T14:36:26.370812Z",
     "shell.execute_reply": "2022-06-22T14:36:26.371594Z"
    },
    "id": "4e43dad1",
    "papermill": {
     "duration": 0.106933,
     "end_time": "2022-06-22T14:36:26.371936",
     "exception": false,
     "start_time": "2022-06-22T14:36:26.265003",
     "status": "completed"
    },
    "tags": []
   },
   "outputs": [],
   "source": [
    "#Generator\n",
    "gen3 = network.GeneratorWithSkipConnection(n_features+1).to(device)\n",
    "constraints=network.weightConstraint()\n",
    "#Discriminator \n",
    "disc3 = network.Discriminator(n_features+1).to(device)\n",
    "\n",
    "criterion = torch.nn.BCELoss()\n",
    "gen_opt = torch.optim.Adam(gen3.parameters(), lr=0.001, betas=(0.5, 0.999))\n",
    "disc_opt = torch.optim.Adam(disc3.parameters(), lr=0.001, betas=(0.5, 0.999))\n"
   ]
  },
  {
   "cell_type": "code",
   "execution_count": 16,
   "id": "26acbc37",
   "metadata": {
    "execution": {
     "iopub.execute_input": "2022-06-22T14:36:26.535284Z",
     "iopub.status.busy": "2022-06-22T14:36:26.534047Z",
     "iopub.status.idle": "2022-06-22T14:37:55.534652Z",
     "shell.execute_reply": "2022-06-22T14:37:55.535294Z"
    },
    "id": "26acbc37",
    "papermill": {
     "duration": 89.095283,
     "end_time": "2022-06-22T14:37:55.535498",
     "exception": false,
     "start_time": "2022-06-22T14:36:26.440215",
     "status": "completed"
    },
    "tags": []
   },
   "outputs": [
    {
     "data": {
      "image/png": "[encoded data removed]",
      "text/plain": [
       "<Figure size 432x288 with 1 Axes>"
      ]
     },
     "metadata": {
      "needs_background": "light"
     },
     "output_type": "display_data"
    },
    {
     "data": {
      "image/png": "[encoded data removed]",
      "text/plain": [
       "<Figure size 432x288 with 1 Axes>"
      ]
     },
     "metadata": {
      "needs_background": "light"
     },
     "output_type": "display_data"
    }
   ],
   "source": [
    "ABC_train_test2.training_GAN_skip_connection(disc3,gen3,disc_opt,gen_opt,train_data,batch_size,n_epochs,criterion,prior_model,variance,bias,device)"
   ]
  },
  {
   "cell_type": "code",
   "execution_count": 17,
   "id": "c5e0717b",
   "metadata": {
    "execution": {
     "iopub.execute_input": "2022-06-22T14:37:55.659537Z",
     "iopub.status.busy": "2022-06-22T14:37:55.658087Z",
     "iopub.status.idle": "2022-06-22T14:37:56.595557Z",
     "shell.execute_reply": "2022-06-22T14:37:56.596590Z"
    },
    "id": "c5e0717b",
    "papermill": {
     "duration": 1.00753,
     "end_time": "2022-06-22T14:37:56.597092",
     "exception": false,
     "start_time": "2022-06-22T14:37:55.589562",
     "status": "completed"
    },
    "tags": []
   },
   "outputs": [
    {
     "data": {
      "application/scrapbook.scrap.json+json": {
       "data": 0.2377997336458065,
       "encoder": "json",
       "name": "ABC-GAN Model 3 MSE",
       "version": 1
      }
     },
     "metadata": {
      "scrapbook": {
       "data": true,
       "display": false,
       "name": "ABC-GAN Model 3 MSE"
      }
     },
     "output_type": "display_data"
    },
    {
     "data": {
      "application/scrapbook.scrap.json+json": {
       "data": 0.38550773965194823,
       "encoder": "json",
       "name": "ABC-GAN Model 3 MAE",
       "version": 1
      }
     },
     "metadata": {
      "scrapbook": {
       "data": true,
       "display": false,
       "name": "ABC-GAN Model 3 MAE"
      }
     },
     "output_type": "display_data"
    },
    {
     "data": {
      "application/scrapbook.scrap.json+json": {
       "data": 7.7101547930389644,
       "encoder": "json",
       "name": "ABC-GAN Model 3 Manhattan Distance",
       "version": 1
      }
     },
     "metadata": {
      "scrapbook": {
       "data": true,
       "display": false,
       "name": "ABC-GAN Model 3 Manhattan Distance"
      }
     },
     "output_type": "display_data"
    },
    {
     "data": {
      "application/scrapbook.scrap.json+json": {
       "data": 2.1791870354374083,
       "encoder": "json",
       "name": "ABC-GAN Model 3 Euclidean distance",
       "version": 1
      }
     },
     "metadata": {
      "scrapbook": {
       "data": true,
       "display": false,
       "name": "ABC-GAN Model 3 Euclidean distance"
      }
     },
     "output_type": "display_data"
    },
    {
     "data": {
      "application/scrapbook.scrap.json+json": {
       "data": [
        [
         0.2500477908947331,
         0.2336195928825242,
         0.2601548172221557,
         0.24917556055689202,
         0.2232904402625905,
         0.24731166042799094,
         0.23867736930000022,
         0.23349831121730102,
         0.2538737417437082,
         0.27806385605727557,
         0.23589900597015806,
         0.22011304291161649,
         0.24050338294555412,
         0.23993670872663614,
         0.27271045903203106,
         0.24296753085027953,
         0.22875464478033858,
         0.23813882696325547,
         0.2303001176897943,
         0.1991062557458036,
         0.26340981046442197,
         0.23907593369373376,
         0.23869251400527328,
         0.27340950710552436,
         0.23284993482771804,
         0.23836096060341308,
         0.2514120389967647,
         0.2536064047481565,
         0.22922996565678697,
         0.23121370188300636,
         0.23186102756149837,
         0.25544238252020557,
         0.23801089770669076,
         0.24895365682595774,
         0.22400045317063552,
         0.2493544256560157,
         0.22054818987255492,
         0.2193756210364855,
         0.2392076658641348,
         0.23802473780042638,
         0.24507856906111852,
         0.2150146302471198,
         0.2455633111462403,
         0.2350181329562402,
         0.2211798773904748,
         0.2507997874883991,
         0.23736743542537292,
         0.26297275857645824,
         0.23544307055366026,
         0.19075481344892992,
         0.23671194788313077,
         0.2100923563041251,
         0.2523900804108646,
         0.21651017393649868,
         0.20702673916582642,
         0.24075529316588912,
         0.20958567908173698,
         0.21420932469687615,
         0.2238338816106733,
         0.21429974165917862,
         0.2546704978918217,
         0.22785769824907942,
         0.23577577890523096,
         0.2207792180240704,
         0.25867940863583183,
         0.2514485908316352,
         0.23961644751652494,
         0.22170007720923818,
         0.22525469471519816,
         0.20141405477374144,
         0.25541348348635073,
         0.2503029265647367,
         0.2517608308412579,
         0.2608826545461034,
         0.26943640478711395,
         0.2395713519215977,
         0.24975019462808468,
         0.1994766019250856,
         0.24957026740397675,
         0.2567666543765981,
         0.23007581968082264,
         0.2348986473259536,
         0.23856574111240522,
         0.20873611377068135,
         0.25269032853565804,
         0.1977921157095333,
         0.2430027620714142,
         0.25927932818831334,
         0.2513134906959512,
         0.2513530249175796,
         0.22978814335889272,
         0.24005296592934383,
         0.28451201184168184,
         0.232200499575832,
         0.26377984371958607,
         0.22784003933208163,
         0.2155081705272674,
         0.22212833847149743,
         0.2512497492179725,
         0.22828784297604815
        ],
        [
         0.39031150937080383,
         0.37367698848247527,
         0.39840095639228823,
         0.39654085636138914,
         0.34975287318229675,
         0.4139461681246758,
         0.39709690362215044,
         0.37485136911273004,
         0.41042022183537485,
         0.42361917346715927,
         0.3957150109112263,
         0.3557542324066162,
         0.37974504455924035,
         0.397500941157341,
         0.421790711581707,
         0.3770767502486706,
         0.3801929533481598,
         0.3861634947359562,
         0.3889262527227402,
         0.36478800550103185,
         0.40149921737611294,
         0.3801479026675224,
         0.39271225258708,
         0.41982414685189723,
         0.38312889263033867,
         0.3852082297205925,
         0.408034498244524,
         0.3930791676044464,
         0.37957731634378433,
         0.3828006159514189,
         0.39037067219614985,
         0.3993091069161892,
         0.3776744782924652,
         0.393356179818511,
         0.38209160417318344,
         0.40331435948610306,
         0.3801841728389263,
         0.37288990393280985,
         0.3905305817723274,
         0.38214069977402687,
         0.3934858120977879,
         0.3677546977996826,
         0.39489968195557595,
         0.3863870963454247,
         0.3506132237613201,
         0.39135070890188217,
         0.39622839316725733,
         0.3968987062573433,
         0.37620881497859954,
         0.33823594376444815,
         0.38248017653822897,
         0.373199999332428,
         0.38368458300828934,
         0.3654659137129784,
         0.35768647864460945,
         0.3987546689808369,
         0.36412448026239874,
         0.36958290077745914,
         0.37296709790825844,
         0.36686412878334523,
         0.40442767143249514,
         0.37825447916984556,
         0.3914844110608101,
         0.36255914233624936,
         0.40576380044221877,
         0.3933697544038296,
         0.38555966019630433,
         0.36528452336788175,
         0.37003391087055204,
         0.3562699884176254,
         0.4125490516424179,
         0.41981839314103125,
         0.4045357957482338,
         0.3937498226761818,
         0.4251446396112442,
         0.39339901953935624,
         0.3920798435807228,
         0.3599254310131073,
         0.41014343351125715,
         0.39177063927054406,
         0.3770528234541416,
         0.377529601752758,
         0.39232316613197327,
         0.35757978484034536,
         0.3903873421251774,
         0.34823695942759514,
         0.3769525773823261,
         0.399930077791214,
         0.39571899771690366,
         0.39292258843779565,
         0.37860058173537253,
         0.38747948631644247,
         0.4192031554877758,
         0.38225191794335844,
         0.40640566051006316,
         0.37920952886343,
         0.3492572568356991,
         0.3685105174779892,
         0.37862510308623315,
         0.3754555031657219
        ],
        [
         7.806230187416077,
         7.473539769649506,
         7.968019127845764,
         7.930817127227783,
         6.995057463645935,
         8.278923362493515,
         7.941938072443008,
         7.4970273822546005,
         8.208404436707497,
         8.472383469343185,
         7.9143002182245255,
         7.115084648132324,
         7.594900891184807,
         7.95001882314682,
         8.43581423163414,
         7.541535004973412,
         7.603859066963196,
         7.723269894719124,
         7.7785250544548035,
         7.2957601100206375,
         8.029984347522259,
         7.602958053350449,
         7.8542450517416,
         8.396482937037945,
         7.662577852606773,
         7.70416459441185,
         8.16068996489048,
         7.861583352088928,
         7.591546326875687,
         7.6560123190283775,
         7.8074134439229965,
         7.986182138323784,
         7.553489565849304,
         7.86712359637022,
         7.641832083463669,
         8.066287189722061,
         7.603683456778526,
         7.457798078656197,
         7.8106116354465485,
         7.642813995480537,
         7.869716241955757,
         7.355093955993652,
         7.897993639111519,
         7.727741926908493,
         7.012264475226402,
         7.827014178037643,
         7.924567863345146,
         7.937974125146866,
         7.524176299571991,
         6.764718875288963,
         7.64960353076458,
         7.46399998664856,
         7.673691660165787,
         7.309318274259567,
         7.153729572892189,
         7.975093379616737,
         7.282489605247974,
         7.391658015549183,
         7.459341958165169,
         7.3372825756669044,
         8.088553428649902,
         7.565089583396912,
         7.829688221216202,
         7.251182846724987,
         8.115276008844376,
         7.8673950880765915,
         7.711193203926086,
         7.3056904673576355,
         7.400678217411041,
         7.1253997683525085,
         8.250981032848358,
         8.396367862820625,
         8.090715914964676,
         7.874996453523636,
         8.502892792224884,
         7.867980390787125,
         7.841596871614456,
         7.198508620262146,
         8.202868670225143,
         7.835412785410881,
         7.541056469082832,
         7.5505920350551605,
         7.846463322639465,
         7.151595696806908,
         7.807746842503548,
         6.964739188551903,
         7.5390515476465225,
         7.99860155582428,
         7.914379954338074,
         7.858451768755913,
         7.572011634707451,
         7.74958972632885,
         8.384063109755516,
         7.645038358867168,
         8.128113210201263,
         7.5841905772686005,
         6.985145136713982,
         7.370210349559784,
         7.572502061724663,
         7.509110063314438
        ],
        [
         2.236281694665201,
         2.1615716175159414,
         2.281029667593807,
         2.2323779274884976,
         2.1132460351913145,
         2.22401286159946,
         2.1848449340857132,
         2.1610104637289522,
         2.253325283858095,
         2.3582360189653433,
         2.17209118579381,
         2.0981565380667693,
         2.193186644795897,
         2.1906013271548805,
         2.335424839432993,
         2.2043934805305496,
         2.1389466790003837,
         2.1823786425057197,
         2.1461599087197314,
         1.995526275175567,
         2.2952551512388424,
         2.1866683959564317,
         2.1849142500577603,
         2.3384161610180696,
         2.1580080390384,
         2.18339625630994,
         2.2423739161735035,
         2.252138560338402,
         2.141167745211883,
         2.1504125273212407,
         2.153420662859435,
         2.260276011995905,
         2.1817923719120973,
         2.2313836820500312,
         2.116603189880595,
         2.2331790150187945,
         2.1002294630470972,
         2.0946389714530067,
         2.187270746222949,
         2.1818558055033166,
         2.2139492725043115,
         2.073714687449167,
         2.2161376814008658,
         2.168031978344601,
         2.103235019632731,
         2.239641879803104,
         2.1788411388872433,
         2.2933502069089156,
         2.169991108523997,
         1.9532271421876664,
         2.1758306362542594,
         2.049840756274131,
         2.246731316427777,
         2.0809140969126942,
         2.0348304065244673,
         2.194334947841323,
         2.0473674759638874,
         2.069827648365323,
         2.115816067670691,
         2.070264435569421,
         2.2568584266268084,
         2.134749157391001,
         2.171523791742706,
         2.1013291889852503,
         2.2745523016006106,
         2.2425369153333246,
         2.189138860449583,
         2.10570689892605,
         2.1225206463787254,
         2.007057820660588,
         2.2601481521632634,
         2.237422296146781,
         2.2439288350625466,
         2.284218266918043,
         2.321363413113569,
         2.1889328537970174,
         2.2349505347013148,
         1.9973812952217491,
         2.2341453283256967,
         2.2661273325945217,
         2.1451145409083527,
         2.167480783425558,
         2.184333953920074,
         2.043213712613937,
         2.248067296749179,
         1.9889299420016449,
         2.204553297479624,
         2.277188302219706,
         2.2419343910826255,
         2.242110723927699,
         2.1437730446989613,
         2.191131971969483,
         2.385422444103693,
         2.154996517750467,
         2.296866751553455,
         2.134666434514215,
         2.0760933048746506,
         2.107739730002248,
         2.2416500584077457,
         2.1367631734754706
        ]
       ],
       "encoder": "json",
       "name": "ABC_GAN_3 Metrics",
       "version": 1
      }
     },
     "metadata": {
      "scrapbook": {
       "data": true,
       "display": false,
       "name": "ABC_GAN_3 Metrics"
      }
     },
     "output_type": "display_data"
    },
    {
     "name": "stdout",
     "output_type": "stream",
     "text": [
      "MSE\n",
      "0.2377997336458065\n"
     ]
    }
   ],
   "source": [
    "ABC_GAN3_metrics=ABC_train_test2.test_generator(gen3,test_data,prior_model,variance,bias,\"3\",device)\n",
    "sb.glue(\"ABC_GAN_3 Metrics\",ABC_GAN3_metrics)\n",
    "\n",
    "print(\"MSE\")\n",
    "print(mean(ABC_GAN3_metrics[0]))"
   ]
  },
  {
   "cell_type": "code",
   "execution_count": 18,
   "id": "c8e46b48",
   "metadata": {
    "execution": {
     "iopub.execute_input": "2022-06-22T14:37:56.780940Z",
     "iopub.status.busy": "2022-06-22T14:37:56.780189Z",
     "iopub.status.idle": "2022-06-22T14:37:57.744074Z",
     "shell.execute_reply": "2022-06-22T14:37:57.744578Z"
    },
    "id": "c8e46b48",
    "papermill": {
     "duration": 1.068935,
     "end_time": "2022-06-22T14:37:57.744796",
     "exception": false,
     "start_time": "2022-06-22T14:37:56.675861",
     "status": "completed"
    },
    "tags": []
   },
   "outputs": [
    {
     "data": {
      "image/png": "[encoded data removed]",
      "text/plain": [
       "<Figure size 432x288 with 1 Axes>"
      ]
     },
     "metadata": {
      "needs_background": "light"
     },
     "output_type": "display_data"
    },
    {
     "data": {
      "image/png": "[encoded data removed]",
      "text/plain": [
       "<Figure size 432x288 with 1 Axes>"
      ]
     },
     "metadata": {
      "needs_background": "light"
     },
     "output_type": "display_data"
    },
    {
     "data": {
      "image/png": "[encoded data removed]",
      "text/plain": [
       "<Figure size 432x288 with 1 Axes>"
      ]
     },
     "metadata": {
      "needs_background": "light"
     },
     "output_type": "display_data"
    },
    {
     "data": {
      "image/png": "[encoded data removed]",
      "text/plain": [
       "<Figure size 432x288 with 1 Axes>"
      ]
     },
     "metadata": {
      "needs_background": "light"
     },
     "output_type": "display_data"
    }
   ],
   "source": [
    "sanityChecks.discProbVsError(train_data,disc3,device)\n",
    "sanityChecks.discProbVsError(test_data,disc3,device)"
   ]
  },
  {
   "cell_type": "markdown",
   "id": "a5bd74c3",
   "metadata": {
    "id": "a5bd74c3",
    "papermill": {
     "duration": 0.069199,
     "end_time": "2022-06-22T14:37:57.873859",
     "exception": false,
     "start_time": "2022-06-22T14:37:57.804660",
     "status": "completed"
    },
    "tags": []
   },
   "source": [
    "## Skip Connection Model Analysis - ABC-GAN "
   ]
  },
  {
   "cell_type": "markdown",
   "id": "5744a8bf",
   "metadata": {
    "id": "5744a8bf",
    "papermill": {
     "duration": 0.083563,
     "end_time": "2022-06-22T14:37:58.029061",
     "exception": false,
     "start_time": "2022-06-22T14:37:57.945498",
     "status": "completed"
    },
    "tags": []
   },
   "source": [
    "### Weight Analysis \n",
    "\n",
    "Study the weights of the skip connection layer\n",
    "\n",
    "Equation of the skip connection is \n",
    "\n",
    "$output = y_{gan} * w + y_{abc} * (1-w)$"
   ]
  },
  {
   "cell_type": "code",
   "execution_count": 19,
   "id": "52c31dea",
   "metadata": {
    "execution": {
     "iopub.execute_input": "2022-06-22T14:37:58.163763Z",
     "iopub.status.busy": "2022-06-22T14:37:58.162932Z",
     "iopub.status.idle": "2022-06-22T14:37:58.172417Z",
     "shell.execute_reply": "2022-06-22T14:37:58.172936Z"
    },
    "id": "52c31dea",
    "papermill": {
     "duration": 0.081913,
     "end_time": "2022-06-22T14:37:58.173175",
     "exception": false,
     "start_time": "2022-06-22T14:37:58.091262",
     "status": "completed"
    },
    "tags": []
   },
   "outputs": [
    {
     "name": "stdout",
     "output_type": "stream",
     "text": [
      "Weight of the node at skip connection\n",
      "Parameter containing:\n",
      "tensor([[0.5416]], requires_grad=True)\n"
     ]
    },
    {
     "data": {
      "application/scrapbook.scrap.json+json": {
       "data": 0.5416089296340942,
       "encoder": "json",
       "name": "Skip Connection Weight",
       "version": 1
      }
     },
     "metadata": {
      "scrapbook": {
       "data": true,
       "display": false,
       "name": "Skip Connection Weight"
      }
     },
     "output_type": "display_data"
    }
   ],
   "source": [
    "print(\"Weight of the node at skip connection\")\n",
    "for name,param in gen3.named_parameters():\n",
    "    if(name == \"skipNode.weight\"):\n",
    "        print(param)\n",
    "        sb.glue(\"Skip Connection Weight\",param.item())"
   ]
  }
 ],
 "metadata": {
  "colab": {
   "collapsed_sections": [],
   "name": "ABC_GAN_Model-Catboost_Pre-gen.ipynb",
   "provenance": []
  },
  "interpreter": {
   "hash": "31f2aee4e71d21fbe5cf8b01ff0e069b9275f58929596ceb00d14d90e3e16cd6"
  },
  "kernelspec": {
   "display_name": "Python 3 (ipykernel)",
   "language": "python",
   "name": "python3"
  },
  "language_info": {
   "codemirror_mode": {
    "name": "ipython",
    "version": 3
   },
   "file_extension": ".py",
   "mimetype": "text/x-python",
   "name": "python",
   "nbconvert_exporter": "python",
   "pygments_lexer": "ipython3",
   "version": "3.8.3"
  },
  "papermill": {
   "default_parameters": {},
   "duration": 174.354309,
   "end_time": "2022-06-22T14:37:59.728281",
   "environment_variables": {},
   "exception": null,
   "input_path": "ABC_GAN-TabNet.ipynb",
   "output_path": "./ABC_GAN_TabNet/ABC-GAN_output_6_9.ipynb",
   "parameters": {
    "bias": 0,
    "variance": 1
   },
   "start_time": "2022-06-22T14:35:05.373972",
   "version": "2.3.3"
  }
 },
 "nbformat": 4,
 "nbformat_minor": 5
}