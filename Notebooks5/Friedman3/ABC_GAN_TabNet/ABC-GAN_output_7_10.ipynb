{
 "cells": [
  {
   "cell_type": "markdown",
   "id": "622780e6",
   "metadata": {
    "id": "622780e6",
    "papermill": {
     "duration": 0.02509,
     "end_time": "2022-06-22T15:09:22.657332",
     "exception": false,
     "start_time": "2022-06-22T15:09:22.632242",
     "status": "completed"
    },
    "tags": []
   },
   "source": [
    "## Import Libraries "
   ]
  },
  {
   "cell_type": "code",
   "execution_count": 1,
   "id": "a62397e3",
   "metadata": {
    "execution": {
     "iopub.execute_input": "2022-06-22T15:09:22.707695Z",
     "iopub.status.busy": "2022-06-22T15:09:22.706719Z",
     "iopub.status.idle": "2022-06-22T15:09:22.709358Z",
     "shell.execute_reply": "2022-06-22T15:09:22.710033Z"
    },
    "id": "a62397e3",
    "papermill": {
     "duration": 0.029274,
     "end_time": "2022-06-22T15:09:22.710382",
     "exception": false,
     "start_time": "2022-06-22T15:09:22.681108",
     "status": "completed"
    },
    "tags": []
   },
   "outputs": [],
   "source": [
    "import warnings\n",
    "import sys\n",
    "sys.path.insert(0, '../../src')\n",
    "warnings.filterwarnings('ignore')"
   ]
  },
  {
   "cell_type": "code",
   "execution_count": 2,
   "id": "d6a4e155",
   "metadata": {
    "execution": {
     "iopub.execute_input": "2022-06-22T15:09:22.749587Z",
     "iopub.status.busy": "2022-06-22T15:09:22.748768Z",
     "iopub.status.idle": "2022-06-22T15:09:28.114275Z",
     "shell.execute_reply": "2022-06-22T15:09:28.114872Z"
    },
    "id": "d6a4e155",
    "papermill": {
     "duration": 5.386035,
     "end_time": "2022-06-22T15:09:28.115143",
     "exception": false,
     "start_time": "2022-06-22T15:09:22.729108",
     "status": "completed"
    },
    "tags": []
   },
   "outputs": [],
   "source": [
    "import ABC_train_test2\n",
    "import friedman3Dataset\n",
    "import network\n",
    "import dataset\n",
    "import sanityChecks\n",
    "import torch \n",
    "import scrapbook as sb\n",
    "from statistics import mean \n",
    "import catboost as ctb \n",
    "from sklearn.model_selection import train_test_split\n",
    "from sklearn.metrics import mean_squared_error,mean_absolute_error\n",
    "import numpy as np\n",
    "from pytorch_tabnet.tab_model import TabNetRegressor"
   ]
  },
  {
   "cell_type": "markdown",
   "id": "2fa5b0f7",
   "metadata": {
    "id": "2fa5b0f7",
    "papermill": {
     "duration": 0.017968,
     "end_time": "2022-06-22T15:09:28.150011",
     "exception": false,
     "start_time": "2022-06-22T15:09:28.132043",
     "status": "completed"
    },
    "tags": []
   },
   "source": [
    "## Parameters "
   ]
  },
  {
   "cell_type": "code",
   "execution_count": 3,
   "id": "783186fb",
   "metadata": {
    "execution": {
     "iopub.execute_input": "2022-06-22T15:09:28.193385Z",
     "iopub.status.busy": "2022-06-22T15:09:28.192586Z",
     "iopub.status.idle": "2022-06-22T15:09:28.195693Z",
     "shell.execute_reply": "2022-06-22T15:09:28.196243Z"
    },
    "id": "783186fb",
    "papermill": {
     "duration": 0.028882,
     "end_time": "2022-06-22T15:09:28.196474",
     "exception": false,
     "start_time": "2022-06-22T15:09:28.167592",
     "status": "completed"
    },
    "tags": [
     "parameters"
    ]
   },
   "outputs": [],
   "source": [
    "variance = 1\n",
    "bias = 1 "
   ]
  },
  {
   "cell_type": "code",
   "execution_count": 4,
   "id": "63654da6",
   "metadata": {
    "execution": {
     "iopub.execute_input": "2022-06-22T15:09:28.236598Z",
     "iopub.status.busy": "2022-06-22T15:09:28.234246Z",
     "iopub.status.idle": "2022-06-22T15:09:28.237827Z",
     "shell.execute_reply": "2022-06-22T15:09:28.238377Z"
    },
    "papermill": {
     "duration": 0.0249,
     "end_time": "2022-06-22T15:09:28.238619",
     "exception": false,
     "start_time": "2022-06-22T15:09:28.213719",
     "status": "completed"
    },
    "tags": [
     "injected-parameters"
    ]
   },
   "outputs": [],
   "source": [
    "# Parameters\n",
    "variance = 0.1\n",
    "bias = 0\n"
   ]
  },
  {
   "cell_type": "markdown",
   "id": "391cdbfd",
   "metadata": {
    "id": "391cdbfd",
    "papermill": {
     "duration": 0.020787,
     "end_time": "2022-06-22T15:09:28.278656",
     "exception": false,
     "start_time": "2022-06-22T15:09:28.257869",
     "status": "completed"
    },
    "tags": []
   },
   "source": [
    "## Dataset \n"
   ]
  },
  {
   "cell_type": "code",
   "execution_count": 5,
   "id": "5b51f161",
   "metadata": {
    "execution": {
     "iopub.execute_input": "2022-06-22T15:09:28.323634Z",
     "iopub.status.busy": "2022-06-22T15:09:28.322716Z",
     "iopub.status.idle": "2022-06-22T15:09:28.325023Z",
     "shell.execute_reply": "2022-06-22T15:09:28.325610Z"
    },
    "id": "5b51f161",
    "papermill": {
     "duration": 0.020906,
     "end_time": "2022-06-22T15:09:28.325812",
     "exception": false,
     "start_time": "2022-06-22T15:09:28.304906",
     "status": "completed"
    },
    "tags": []
   },
   "outputs": [],
   "source": [
    "#Parameters \n",
    "n_features = 4\n",
    "n_samples= 100\n",
    "n_target = 1"
   ]
  },
  {
   "cell_type": "code",
   "execution_count": 6,
   "id": "5d6eced4",
   "metadata": {
    "execution": {
     "iopub.execute_input": "2022-06-22T15:09:28.358725Z",
     "iopub.status.busy": "2022-06-22T15:09:28.357998Z",
     "iopub.status.idle": "2022-06-22T15:09:28.371165Z",
     "shell.execute_reply": "2022-06-22T15:09:28.371680Z"
    },
    "id": "5d6eced4",
    "papermill": {
     "duration": 0.032441,
     "end_time": "2022-06-22T15:09:28.371887",
     "exception": false,
     "start_time": "2022-06-22T15:09:28.339446",
     "status": "completed"
    },
    "tags": []
   },
   "outputs": [
    {
     "name": "stdout",
     "output_type": "stream",
     "text": [
      "          X1           X2        X3        X4         Y\n",
      "0  81.789629  1272.292341  0.352969  3.662552  1.561730\n",
      "1  36.874749   429.041223  0.903700  6.418155  1.416151\n",
      "2   8.887090   967.531189  0.195010  3.238342  1.538985\n",
      "3  62.829015   521.318183  0.254843  8.976661  1.197192\n",
      "4  68.567997  1357.192438  0.020034  3.005026  0.234456\n"
     ]
    }
   ],
   "source": [
    "X,Y = friedman3Dataset.friedman3_data(n_samples)"
   ]
  },
  {
   "cell_type": "code",
   "execution_count": 7,
   "id": "fe007438",
   "metadata": {
    "execution": {
     "iopub.execute_input": "2022-06-22T15:09:28.419211Z",
     "iopub.status.busy": "2022-06-22T15:09:28.417021Z",
     "iopub.status.idle": "2022-06-22T15:09:28.421319Z",
     "shell.execute_reply": "2022-06-22T15:09:28.422523Z"
    },
    "id": "fe007438",
    "papermill": {
     "duration": 0.035413,
     "end_time": "2022-06-22T15:09:28.422820",
     "exception": false,
     "start_time": "2022-06-22T15:09:28.387407",
     "status": "completed"
    },
    "tags": []
   },
   "outputs": [],
   "source": [
    "#Train test split for dataset \n",
    "X_train,X_test,Y_train,Y_test = train_test_split(X,Y,test_size = 0.2)\n",
    "train_data = dataset.CustomDataset(X_train,Y_train)\n",
    "test_data = dataset.CustomDataset(X_test,Y_test)\n"
   ]
  },
  {
   "cell_type": "markdown",
   "id": "a9a1af34",
   "metadata": {
    "id": "a9a1af34",
    "papermill": {
     "duration": 0.01529,
     "end_time": "2022-06-22T15:09:28.454798",
     "exception": false,
     "start_time": "2022-06-22T15:09:28.439508",
     "status": "completed"
    },
    "tags": []
   },
   "source": [
    "## Training Parameters "
   ]
  },
  {
   "cell_type": "code",
   "execution_count": 8,
   "id": "952b7fc8",
   "metadata": {
    "execution": {
     "iopub.execute_input": "2022-06-22T15:09:28.485670Z",
     "iopub.status.busy": "2022-06-22T15:09:28.484988Z",
     "iopub.status.idle": "2022-06-22T15:09:28.487263Z",
     "shell.execute_reply": "2022-06-22T15:09:28.487898Z"
    },
    "id": "952b7fc8",
    "papermill": {
     "duration": 0.019639,
     "end_time": "2022-06-22T15:09:28.488085",
     "exception": false,
     "start_time": "2022-06-22T15:09:28.468446",
     "status": "completed"
    },
    "tags": []
   },
   "outputs": [],
   "source": [
    "batch_size = 32\n",
    "n_epochs = 1000\n",
    "#Select the device \n",
    "device = torch.device('cuda' if torch.cuda.is_available() else 'cpu')"
   ]
  },
  {
   "cell_type": "markdown",
   "id": "a95e1600",
   "metadata": {
    "id": "a95e1600",
    "papermill": {
     "duration": 0.015697,
     "end_time": "2022-06-22T15:09:28.517689",
     "exception": false,
     "start_time": "2022-06-22T15:09:28.501992",
     "status": "completed"
    },
    "tags": []
   },
   "source": [
    "# ABC Pre-generator Model \n",
    "\n",
    "1. The catboost model is used as a pre-generator model for the ABC-GAN. \n",
    "2. The model is first trained on the entire dataset \n",
    "3. It generats X,Y pairs and we add some Gaussian noise with mean 0 and variance 1 to it which is then feed as input to the generator.\n"
   ]
  },
  {
   "cell_type": "code",
   "execution_count": 9,
   "id": "ff8ce7bd",
   "metadata": {
    "execution": {
     "iopub.execute_input": "2022-06-22T15:09:28.554432Z",
     "iopub.status.busy": "2022-06-22T15:09:28.553549Z",
     "iopub.status.idle": "2022-06-22T15:09:36.293461Z",
     "shell.execute_reply": "2022-06-22T15:09:36.294005Z"
    },
    "id": "ff8ce7bd",
    "papermill": {
     "duration": 7.760756,
     "end_time": "2022-06-22T15:09:36.294294",
     "exception": false,
     "start_time": "2022-06-22T15:09:28.533538",
     "status": "completed"
    },
    "tags": []
   },
   "outputs": [
    {
     "name": "stdout",
     "output_type": "stream",
     "text": [
      "Device used : cpu\n"
     ]
    },
    {
     "name": "stdout",
     "output_type": "stream",
     "text": [
      "epoch 0  | loss: 0.96104 | train_mse: 6.64075 | train_mae: 1.94129 |  0:00:00s\n",
      "epoch 1  | loss: 0.84573 | train_mse: 13.76626| train_mae: 2.61265 |  0:00:00s\n",
      "epoch 2  | loss: 0.35861 | train_mse: 7.15524 | train_mae: 1.92957 |  0:00:00s\n"
     ]
    },
    {
     "name": "stdout",
     "output_type": "stream",
     "text": [
      "epoch 3  | loss: 0.58608 | train_mse: 3.97705 | train_mae: 1.49758 |  0:00:00s\n",
      "epoch 4  | loss: 0.47328 | train_mse: 3.11586 | train_mae: 1.32646 |  0:00:00s\n",
      "epoch 5  | loss: 0.41063 | train_mse: 3.35943 | train_mae: 1.38693 |  0:00:00s\n"
     ]
    },
    {
     "name": "stdout",
     "output_type": "stream",
     "text": [
      "epoch 6  | loss: 0.22094 | train_mse: 4.16334 | train_mae: 1.50938 |  0:00:00s\n",
      "epoch 7  | loss: 0.26248 | train_mse: 3.4559  | train_mae: 1.32973 |  0:00:00s\n",
      "epoch 8  | loss: 0.25388 | train_mse: 2.35023 | train_mae: 1.02463 |  0:00:00s\n"
     ]
    },
    {
     "name": "stdout",
     "output_type": "stream",
     "text": [
      "epoch 9  | loss: 0.34053 | train_mse: 1.15541 | train_mae: 0.77104 |  0:00:00s\n",
      "epoch 10 | loss: 0.51484 | train_mse: 0.67986 | train_mae: 0.61517 |  0:00:01s\n",
      "epoch 11 | loss: 0.39296 | train_mse: 0.5407  | train_mae: 0.56619 |  0:00:01s\n"
     ]
    },
    {
     "name": "stdout",
     "output_type": "stream",
     "text": [
      "epoch 12 | loss: 0.31641 | train_mse: 0.55849 | train_mae: 0.61452 |  0:00:01s\n",
      "epoch 13 | loss: 0.39451 | train_mse: 0.43037 | train_mae: 0.52818 |  0:00:01s\n",
      "epoch 14 | loss: 0.33144 | train_mse: 0.57373 | train_mae: 0.56021 |  0:00:01s\n"
     ]
    },
    {
     "name": "stdout",
     "output_type": "stream",
     "text": [
      "epoch 15 | loss: 0.32187 | train_mse: 0.61671 | train_mae: 0.55748 |  0:00:01s\n",
      "epoch 16 | loss: 0.27538 | train_mse: 0.50628 | train_mae: 0.49255 |  0:00:01s\n",
      "epoch 17 | loss: 0.20914 | train_mse: 0.67491 | train_mae: 0.54078 |  0:00:01s\n"
     ]
    },
    {
     "name": "stdout",
     "output_type": "stream",
     "text": [
      "epoch 18 | loss: 0.17669 | train_mse: 0.66315 | train_mae: 0.54701 |  0:00:01s\n",
      "epoch 19 | loss: 0.11705 | train_mse: 0.68025 | train_mae: 0.58325 |  0:00:01s\n",
      "epoch 20 | loss: 0.21692 | train_mse: 0.72975 | train_mae: 0.59085 |  0:00:01s\n",
      "epoch 21 | loss: 0.10594 | train_mse: 0.59185 | train_mae: 0.50482 |  0:00:01s\n"
     ]
    },
    {
     "name": "stdout",
     "output_type": "stream",
     "text": [
      "epoch 22 | loss: 0.13737 | train_mse: 0.49077 | train_mae: 0.45584 |  0:00:01s\n",
      "epoch 23 | loss: 0.1407  | train_mse: 0.32881 | train_mae: 0.38443 |  0:00:01s\n",
      "epoch 24 | loss: 0.10131 | train_mse: 0.38879 | train_mae: 0.43824 |  0:00:02s\n",
      "epoch 25 | loss: 0.10727 | train_mse: 0.43569 | train_mae: 0.46721 |  0:00:02s\n"
     ]
    },
    {
     "name": "stdout",
     "output_type": "stream",
     "text": [
      "epoch 26 | loss: 0.13925 | train_mse: 0.44939 | train_mae: 0.46155 |  0:00:02s\n",
      "epoch 27 | loss: 0.1731  | train_mse: 0.46042 | train_mae: 0.46445 |  0:00:02s\n",
      "epoch 28 | loss: 0.13489 | train_mse: 0.2616  | train_mae: 0.35659 |  0:00:02s\n",
      "epoch 29 | loss: 0.25253 | train_mse: 0.12892 | train_mae: 0.27028 |  0:00:02s\n"
     ]
    },
    {
     "name": "stdout",
     "output_type": "stream",
     "text": [
      "epoch 30 | loss: 0.18209 | train_mse: 0.19636 | train_mae: 0.32174 |  0:00:02s\n",
      "epoch 31 | loss: 0.11879 | train_mse: 0.26021 | train_mae: 0.37317 |  0:00:02s\n",
      "epoch 32 | loss: 0.11072 | train_mse: 0.19033 | train_mae: 0.31355 |  0:00:02s\n"
     ]
    },
    {
     "name": "stdout",
     "output_type": "stream",
     "text": [
      "epoch 33 | loss: 0.07853 | train_mse: 0.11232 | train_mae: 0.25088 |  0:00:02s\n",
      "epoch 34 | loss: 0.24184 | train_mse: 0.11043 | train_mae: 0.25137 |  0:00:02s\n",
      "epoch 35 | loss: 0.15625 | train_mse: 0.10002 | train_mae: 0.24905 |  0:00:02s\n"
     ]
    },
    {
     "name": "stdout",
     "output_type": "stream",
     "text": [
      "epoch 36 | loss: 0.20554 | train_mse: 0.10744 | train_mae: 0.25423 |  0:00:02s\n",
      "epoch 37 | loss: 0.09472 | train_mse: 0.09319 | train_mae: 0.23891 |  0:00:02s\n",
      "epoch 38 | loss: 0.17723 | train_mse: 0.08955 | train_mae: 0.2396  |  0:00:03s\n",
      "epoch 39 | loss: 0.22192 | train_mse: 0.13976 | train_mae: 0.27641 |  0:00:03s\n"
     ]
    },
    {
     "name": "stdout",
     "output_type": "stream",
     "text": [
      "epoch 40 | loss: 0.14917 | train_mse: 0.09776 | train_mae: 0.24843 |  0:00:03s\n",
      "epoch 41 | loss: 0.32115 | train_mse: 0.10671 | train_mae: 0.25113 |  0:00:03s\n",
      "epoch 42 | loss: 0.09679 | train_mse: 0.1096  | train_mae: 0.24993 |  0:00:03s\n",
      "epoch 43 | loss: 0.40305 | train_mse: 0.10896 | train_mae: 0.24869 |  0:00:03s\n"
     ]
    },
    {
     "name": "stdout",
     "output_type": "stream",
     "text": [
      "epoch 44 | loss: 0.09856 | train_mse: 0.10446 | train_mae: 0.24421 |  0:00:03s\n",
      "epoch 45 | loss: 0.16284 | train_mse: 0.1122  | train_mae: 0.24977 |  0:00:03s\n",
      "epoch 46 | loss: 0.12143 | train_mse: 0.10008 | train_mae: 0.23732 |  0:00:03s\n",
      "epoch 47 | loss: 0.08172 | train_mse: 0.07713 | train_mae: 0.2124  |  0:00:03s\n"
     ]
    },
    {
     "name": "stdout",
     "output_type": "stream",
     "text": [
      "epoch 48 | loss: 0.08789 | train_mse: 0.07335 | train_mae: 0.20532 |  0:00:03s\n",
      "epoch 49 | loss: 0.08844 | train_mse: 0.07562 | train_mae: 0.21065 |  0:00:03s\n",
      "epoch 50 | loss: 0.10843 | train_mse: 0.0838  | train_mae: 0.21889 |  0:00:03s\n",
      "epoch 51 | loss: 0.16878 | train_mse: 0.11373 | train_mae: 0.25516 |  0:00:03s\n"
     ]
    },
    {
     "name": "stdout",
     "output_type": "stream",
     "text": [
      "epoch 52 | loss: 0.08234 | train_mse: 0.13795 | train_mae: 0.27536 |  0:00:03s\n",
      "epoch 53 | loss: 0.23857 | train_mse: 0.14415 | train_mae: 0.26951 |  0:00:04s\n",
      "epoch 54 | loss: 0.18604 | train_mse: 0.09283 | train_mae: 0.23566 |  0:00:04s\n",
      "epoch 55 | loss: 0.09625 | train_mse: 0.07855 | train_mae: 0.22045 |  0:00:04s\n"
     ]
    },
    {
     "name": "stdout",
     "output_type": "stream",
     "text": [
      "epoch 56 | loss: 0.10192 | train_mse: 0.07616 | train_mae: 0.21549 |  0:00:04s\n",
      "epoch 57 | loss: 0.11196 | train_mse: 0.07539 | train_mae: 0.21601 |  0:00:04s\n",
      "epoch 58 | loss: 0.11489 | train_mse: 0.06643 | train_mae: 0.19755 |  0:00:04s\n",
      "epoch 59 | loss: 0.16468 | train_mse: 0.07896 | train_mae: 0.20966 |  0:00:04s\n"
     ]
    },
    {
     "name": "stdout",
     "output_type": "stream",
     "text": [
      "epoch 60 | loss: 0.13283 | train_mse: 0.06788 | train_mae: 0.19989 |  0:00:04s\n",
      "epoch 61 | loss: 0.10887 | train_mse: 0.06818 | train_mae: 0.20274 |  0:00:04s\n",
      "epoch 62 | loss: 0.45207 | train_mse: 0.08486 | train_mae: 0.23354 |  0:00:04s\n"
     ]
    },
    {
     "name": "stdout",
     "output_type": "stream",
     "text": [
      "epoch 63 | loss: 0.15795 | train_mse: 0.09321 | train_mae: 0.24817 |  0:00:04s\n",
      "epoch 64 | loss: 0.11715 | train_mse: 0.08025 | train_mae: 0.23178 |  0:00:04s\n",
      "epoch 65 | loss: 0.10195 | train_mse: 0.09057 | train_mae: 0.23967 |  0:00:04s\n",
      "epoch 66 | loss: 0.24134 | train_mse: 0.09525 | train_mae: 0.24233 |  0:00:04s\n"
     ]
    },
    {
     "name": "stdout",
     "output_type": "stream",
     "text": [
      "epoch 67 | loss: 0.13995 | train_mse: 0.11632 | train_mae: 0.25322 |  0:00:04s\n",
      "epoch 68 | loss: 0.12293 | train_mse: 0.17368 | train_mae: 0.29245 |  0:00:05s\n",
      "epoch 69 | loss: 0.11625 | train_mse: 0.16236 | train_mae: 0.28537 |  0:00:05s\n",
      "epoch 70 | loss: 0.08035 | train_mse: 0.14985 | train_mae: 0.28018 |  0:00:05s\n"
     ]
    },
    {
     "name": "stdout",
     "output_type": "stream",
     "text": [
      "epoch 71 | loss: 0.09137 | train_mse: 0.20601 | train_mae: 0.32218 |  0:00:05s\n",
      "epoch 72 | loss: 0.27798 | train_mse: 0.31956 | train_mae: 0.37047 |  0:00:05s\n",
      "epoch 73 | loss: 0.07525 | train_mse: 0.34909 | train_mae: 0.36914 |  0:00:05s\n",
      "epoch 74 | loss: 0.11345 | train_mse: 0.27518 | train_mae: 0.33319 |  0:00:05s\n"
     ]
    },
    {
     "name": "stdout",
     "output_type": "stream",
     "text": [
      "epoch 75 | loss: 0.08246 | train_mse: 0.19397 | train_mae: 0.2957  |  0:00:05s\n",
      "epoch 76 | loss: 0.15041 | train_mse: 0.12574 | train_mae: 0.25441 |  0:00:05s\n",
      "epoch 77 | loss: 0.09772 | train_mse: 0.12099 | train_mae: 0.24948 |  0:00:05s\n"
     ]
    },
    {
     "name": "stdout",
     "output_type": "stream",
     "text": [
      "epoch 78 | loss: 0.17791 | train_mse: 0.12343 | train_mae: 0.24932 |  0:00:05s\n",
      "epoch 79 | loss: 0.09771 | train_mse: 0.09503 | train_mae: 0.22952 |  0:00:05s\n",
      "epoch 80 | loss: 0.10712 | train_mse: 0.08087 | train_mae: 0.21365 |  0:00:05s\n",
      "epoch 81 | loss: 0.12527 | train_mse: 0.07503 | train_mae: 0.21338 |  0:00:05s\n"
     ]
    },
    {
     "name": "stdout",
     "output_type": "stream",
     "text": [
      "epoch 82 | loss: 0.10996 | train_mse: 0.08203 | train_mae: 0.2216  |  0:00:05s\n",
      "epoch 83 | loss: 0.1424  | train_mse: 0.10781 | train_mae: 0.24026 |  0:00:06s\n",
      "epoch 84 | loss: 0.10549 | train_mse: 0.16368 | train_mae: 0.26604 |  0:00:06s\n",
      "epoch 85 | loss: 0.17124 | train_mse: 0.15607 | train_mae: 0.25621 |  0:00:06s\n"
     ]
    },
    {
     "name": "stdout",
     "output_type": "stream",
     "text": [
      "epoch 86 | loss: 0.16578 | train_mse: 0.18478 | train_mae: 0.27348 |  0:00:06s\n",
      "epoch 87 | loss: 0.16061 | train_mse: 0.15263 | train_mae: 0.26074 |  0:00:06s\n",
      "epoch 88 | loss: 0.09696 | train_mse: 0.12698 | train_mae: 0.24941 |  0:00:06s\n",
      "epoch 89 | loss: 0.07476 | train_mse: 0.13734 | train_mae: 0.27296 |  0:00:06s\n"
     ]
    },
    {
     "name": "stdout",
     "output_type": "stream",
     "text": [
      "epoch 90 | loss: 0.08089 | train_mse: 0.13581 | train_mae: 0.27091 |  0:00:06s\n",
      "epoch 91 | loss: 0.08245 | train_mse: 0.13348 | train_mae: 0.26178 |  0:00:06s\n",
      "epoch 92 | loss: 0.08322 | train_mse: 0.13193 | train_mae: 0.25071 |  0:00:06s\n",
      "epoch 93 | loss: 0.09668 | train_mse: 0.15983 | train_mae: 0.27047 |  0:00:06s\n"
     ]
    },
    {
     "name": "stdout",
     "output_type": "stream",
     "text": [
      "epoch 94 | loss: 0.11777 | train_mse: 0.16818 | train_mae: 0.28039 |  0:00:06s\n",
      "epoch 95 | loss: 0.10935 | train_mse: 0.15444 | train_mae: 0.27921 |  0:00:06s\n",
      "epoch 96 | loss: 0.17762 | train_mse: 0.12908 | train_mae: 0.2582  |  0:00:06s\n",
      "epoch 97 | loss: 0.11052 | train_mse: 0.08308 | train_mae: 0.21144 |  0:00:06s\n"
     ]
    },
    {
     "name": "stdout",
     "output_type": "stream",
     "text": [
      "epoch 98 | loss: 0.09802 | train_mse: 0.07355 | train_mae: 0.20064 |  0:00:07s\n",
      "epoch 99 | loss: 0.11009 | train_mse: 0.0756  | train_mae: 0.20395 |  0:00:07s\n",
      "epoch 100| loss: 0.07192 | train_mse: 0.09825 | train_mae: 0.23345 |  0:00:07s\n",
      "epoch 101| loss: 0.22321 | train_mse: 0.09666 | train_mae: 0.23613 |  0:00:07s\n"
     ]
    },
    {
     "name": "stdout",
     "output_type": "stream",
     "text": [
      "epoch 102| loss: 0.08508 | train_mse: 0.07903 | train_mae: 0.21304 |  0:00:07s\n",
      "epoch 103| loss: 0.07977 | train_mse: 0.09015 | train_mae: 0.22392 |  0:00:07s\n",
      "epoch 104| loss: 0.07773 | train_mse: 0.10105 | train_mae: 0.23526 |  0:00:07s\n",
      "epoch 105| loss: 0.07313 | train_mse: 0.10155 | train_mae: 0.23288 |  0:00:07s\n"
     ]
    },
    {
     "name": "stdout",
     "output_type": "stream",
     "text": [
      "epoch 106| loss: 0.06802 | train_mse: 0.0843  | train_mae: 0.21603 |  0:00:07s\n",
      "epoch 107| loss: 0.10469 | train_mse: 0.09658 | train_mae: 0.22596 |  0:00:07s\n",
      "epoch 108| loss: 0.09886 | train_mse: 0.11033 | train_mae: 0.23058 |  0:00:07s\n",
      "\n",
      "Early stopping occurred at epoch 108 with best_epoch = 58 and best_train_mae = 0.19755\n",
      "Best weights from best epoch are automatically used!\n"
     ]
    }
   ],
   "source": [
    "#Train the Model\n",
    "\n",
    "Y_train = np.reshape(Y_train, (-1, 1))\n",
    "Y_test = np.reshape(Y_test, (-1, 1))\n",
    "\n",
    "prior_model = TabNetRegressor(optimizer_fn=torch.optim.Adam, optimizer_params=dict(lr = 0.02),\n",
    "          #scheduler_params={\"step_size\":10, ], \"gamma\":0.9},\n",
    "          #scheduler_fn=torch.optim.lr_scheduler.StepLR\n",
    "          )  #TabNetRegressor()\n",
    "\n",
    "prior_model.fit(X_train,Y_train,eval_set=[(X_train, Y_train)],\n",
    "            eval_name=['train'], \n",
    "            eval_metric=[ 'mse', 'mae'], \n",
    "            max_epochs = n_epochs, \n",
    "            batch_size = batch_size,\n",
    "            patience=50\n",
    "            )"
   ]
  },
  {
   "cell_type": "code",
   "execution_count": 10,
   "id": "af65dcda",
   "metadata": {
    "execution": {
     "iopub.execute_input": "2022-06-22T15:09:36.365165Z",
     "iopub.status.busy": "2022-06-22T15:09:36.361819Z",
     "iopub.status.idle": "2022-06-22T15:09:36.384329Z",
     "shell.execute_reply": "2022-06-22T15:09:36.385226Z"
    },
    "id": "af65dcda",
    "papermill": {
     "duration": 0.067165,
     "end_time": "2022-06-22T15:09:36.385471",
     "exception": false,
     "start_time": "2022-06-22T15:09:36.318306",
     "status": "completed"
    },
    "tags": []
   },
   "outputs": [
    {
     "data": {
      "application/scrapbook.scrap.json+json": {
       "data": 0.4810829229263705,
       "encoder": "json",
       "name": "Prior Model MSE",
       "version": 1
      }
     },
     "metadata": {
      "scrapbook": {
       "data": true,
       "display": false,
       "name": "Prior Model MSE"
      }
     },
     "output_type": "display_data"
    },
    {
     "data": {
      "application/scrapbook.scrap.json+json": {
       "data": 0.532767529341173,
       "encoder": "json",
       "name": "ABC Pre-generator MSE",
       "version": 1
      }
     },
     "metadata": {
      "scrapbook": {
       "data": true,
       "display": false,
       "name": "ABC Pre-generator MSE"
      }
     },
     "output_type": "display_data"
    },
    {
     "data": {
      "application/scrapbook.scrap.json+json": {
       "data": 0.44510905974514736,
       "encoder": "json",
       "name": "Prior Model MSE",
       "version": 1
      }
     },
     "metadata": {
      "scrapbook": {
       "data": true,
       "display": false,
       "name": "Prior Model MSE"
      }
     },
     "output_type": "display_data"
    },
    {
     "data": {
      "application/scrapbook.scrap.json+json": {
       "data": 0.47035130917364076,
       "encoder": "json",
       "name": "ABC Pre-generator MSE",
       "version": 1
      }
     },
     "metadata": {
      "scrapbook": {
       "data": true,
       "display": false,
       "name": "ABC Pre-generator MSE"
      }
     },
     "output_type": "display_data"
    }
   ],
   "source": [
    "y_pred = prior_model.predict(X_test)\n",
    "y_abc = y_pred + np.random.normal(0,variance, y_pred.shape) + bias \n",
    "mse = mean_squared_error(y_pred,Y_test)\n",
    "sb.glue(\"Prior Model MSE\",mse)\n",
    "mse = mean_squared_error(y_abc,Y_test)\n",
    "sb.glue(\"ABC Pre-generator MSE\",mse)\n",
    "mae = mean_absolute_error(y_pred,Y_test)\n",
    "sb.glue(\"Prior Model MSE\",mae)\n",
    "mae = mean_absolute_error(y_abc,Y_test)\n",
    "sb.glue(\"ABC Pre-generator MSE\",mae)"
   ]
  },
  {
   "cell_type": "markdown",
   "id": "25609da2",
   "metadata": {
    "papermill": {
     "duration": 0.024792,
     "end_time": "2022-06-22T15:09:36.436311",
     "exception": false,
     "start_time": "2022-06-22T15:09:36.411519",
     "status": "completed"
    },
    "tags": []
   },
   "source": [
    "# ABC GAN Model"
   ]
  },
  {
   "cell_type": "code",
   "execution_count": 11,
   "id": "dfc3464d",
   "metadata": {
    "execution": {
     "iopub.execute_input": "2022-06-22T15:09:36.495246Z",
     "iopub.status.busy": "2022-06-22T15:09:36.494374Z",
     "iopub.status.idle": "2022-06-22T15:09:36.498665Z",
     "shell.execute_reply": "2022-06-22T15:09:36.497944Z"
    },
    "papermill": {
     "duration": 0.038165,
     "end_time": "2022-06-22T15:09:36.498894",
     "exception": false,
     "start_time": "2022-06-22T15:09:36.460729",
     "status": "completed"
    },
    "tags": []
   },
   "outputs": [],
   "source": [
    "gen = network.Generator(n_features+1).to(device)\n",
    "disc = network.Discriminator(n_features+1).to(device)\n",
    "\n",
    "criterion = torch.nn.BCELoss()\n",
    "gen_opt = torch.optim.Adam(gen.parameters(), lr=0.001, betas=(0.5, 0.999))\n",
    "disc_opt = torch.optim.Adam(disc.parameters(), lr=0.001, betas=(0.5, 0.999))"
   ]
  },
  {
   "cell_type": "code",
   "execution_count": 12,
   "id": "b75fdd85",
   "metadata": {
    "execution": {
     "iopub.execute_input": "2022-06-22T15:09:36.553569Z",
     "iopub.status.busy": "2022-06-22T15:09:36.552681Z",
     "iopub.status.idle": "2022-06-22T15:10:16.442714Z",
     "shell.execute_reply": "2022-06-22T15:10:16.443417Z"
    },
    "papermill": {
     "duration": 39.921302,
     "end_time": "2022-06-22T15:10:16.443623",
     "exception": false,
     "start_time": "2022-06-22T15:09:36.522321",
     "status": "completed"
    },
    "tags": []
   },
   "outputs": [
    {
     "data": {
      "image/png": "[encoded data removed]",
      "text/plain": [
       "<Figure size 432x288 with 1 Axes>"
      ]
     },
     "metadata": {
      "needs_background": "light"
     },
     "output_type": "display_data"
    },
    {
     "data": {
      "image/png": "[encoded data removed]",
      "text/plain": [
       "<Figure size 432x288 with 1 Axes>"
      ]
     },
     "metadata": {
      "needs_background": "light"
     },
     "output_type": "display_data"
    }
   ],
   "source": [
    "#Training the ABC_GAN \n",
    "ABC_train_test2.training_GAN(disc,gen,disc_opt,gen_opt,train_data,batch_size,n_epochs,criterion,prior_model,variance,bias,device)"
   ]
  },
  {
   "cell_type": "code",
   "execution_count": 13,
   "id": "1fa7c368",
   "metadata": {
    "execution": {
     "iopub.execute_input": "2022-06-22T15:10:16.519536Z",
     "iopub.status.busy": "2022-06-22T15:10:16.518348Z",
     "iopub.status.idle": "2022-06-22T15:10:17.125908Z",
     "shell.execute_reply": "2022-06-22T15:10:17.126356Z"
    },
    "papermill": {
     "duration": 0.658647,
     "end_time": "2022-06-22T15:10:17.126590",
     "exception": false,
     "start_time": "2022-06-22T15:10:16.467943",
     "status": "completed"
    },
    "tags": []
   },
   "outputs": [
    {
     "data": {
      "application/scrapbook.scrap.json+json": {
       "data": 0.6511726705161991,
       "encoder": "json",
       "name": "ABC-GAN Model 1 MSE",
       "version": 1
      }
     },
     "metadata": {
      "scrapbook": {
       "data": true,
       "display": false,
       "name": "ABC-GAN Model 1 MSE"
      }
     },
     "output_type": "display_data"
    },
    {
     "data": {
      "application/scrapbook.scrap.json+json": {
       "data": 0.502973753354163,
       "encoder": "json",
       "name": "ABC-GAN Model 1 MAE",
       "version": 1
      }
     },
     "metadata": {
      "scrapbook": {
       "data": true,
       "display": false,
       "name": "ABC-GAN Model 1 MAE"
      }
     },
     "output_type": "display_data"
    },
    {
     "data": {
      "application/scrapbook.scrap.json+json": {
       "data": 10.059475067083259,
       "encoder": "json",
       "name": "ABC-GAN Model 1 Manhattan Distance",
       "version": 1
      }
     },
     "metadata": {
      "scrapbook": {
       "data": true,
       "display": false,
       "name": "ABC-GAN Model 1 Manhattan Distance"
      }
     },
     "output_type": "display_data"
    },
    {
     "data": {
      "application/scrapbook.scrap.json+json": {
       "data": 3.6081711343164886,
       "encoder": "json",
       "name": "ABC-GAN Model 1 Euclidean distance",
       "version": 1
      }
     },
     "metadata": {
      "scrapbook": {
       "data": true,
       "display": false,
       "name": "ABC-GAN Model 1 Euclidean distance"
      }
     },
     "output_type": "display_data"
    },
    {
     "data": {
      "application/scrapbook.scrap.json+json": {
       "data": [
        [
         0.6560553184951997,
         0.6500463696411221,
         0.6817582694509282,
         0.6338811659103841,
         0.6772698882461455,
         0.6400015206064718,
         0.67069707408962,
         0.6767663532684043,
         0.6333984869975401,
         0.5972219771099077,
         0.6499852721666987,
         0.6437707764472597,
         0.6775809647141214,
         0.6558092182873684,
         0.6382543585860544,
         0.6772986849442801,
         0.6267022891155933,
         0.672201093599887,
         0.6291690624751254,
         0.6367383964553677,
         0.6466799078846164,
         0.6497898083055047,
         0.6545412296813827,
         0.6187717521667156,
         0.65973560229758,
         0.645972226644804,
         0.6395442552907632,
         0.6553300702500255,
         0.6503492848640973,
         0.6676348053536275,
         0.6621442896789438,
         0.673367980650936,
         0.6842320394719472,
         0.6652208203957155,
         0.6621753130406356,
         0.6770574643622163,
         0.6543455780414416,
         0.646557567926169,
         0.6816905157176828,
         0.6815005320031148,
         0.6765297813715423,
         0.5512940372225182,
         0.646826813446021,
         0.6346561277426499,
         0.649513950601666,
         0.6258987164509552,
         0.6116527285983425,
         0.6233933156295342,
         0.6617392328810198,
         0.6024096662416132,
         0.6621520364466484,
         0.621851058328352,
         0.654564307039055,
         0.6514330646832202,
         0.6430845822588624,
         0.6372939151516255,
         0.6643429823803801,
         0.6527566838885492,
         0.6613119458713964,
         0.6472205637672452,
         0.6922911354230115,
         0.6700393853243808,
         0.6731302484822393,
         0.6841151747732269,
         0.6278814556187419,
         0.6226436995993462,
         0.6407565312466087,
         0.6378373007910394,
         0.6644514404201713,
         0.6227677420356541,
         0.6694575511361156,
         0.6534549120215645,
         0.6524185479260404,
         0.6885336756356782,
         0.6419742051581923,
         0.586316270383033,
         0.6365890339487723,
         0.6163523158732902,
         0.64577147780874,
         0.6453547545207312,
         0.625084235895863,
         0.647122570092925,
         0.6371701585253454,
         0.69039571173074,
         0.6582256457151345,
         0.6808614427298002,
         0.6974303845454697,
         0.6535702548481718,
         0.6544712952753666,
         0.6482730002670951,
         0.6841334111738033,
         0.6779350204913793,
         0.6798762079201797,
         0.6291080333033398,
         0.6323871051964141,
         0.6576182837111768,
         0.6390975188562329,
         0.6660044980504962,
         0.6267728129100012,
         0.678419507617801
        ],
        [
         0.5072483238211134,
         0.49342088591365607,
         0.5109979886939982,
         0.5086589839687804,
         0.5013621766498545,
         0.5034118356561521,
         0.5163316239049891,
         0.5029292811086634,
         0.4935031075408915,
         0.49246704842953476,
         0.5076801272487501,
         0.49979300316481384,
         0.5190006707241992,
         0.5043847483029822,
         0.507684052400873,
         0.5139807153871516,
         0.49751196842698847,
         0.5114735003939131,
         0.5027283538511256,
         0.5015894968440989,
         0.5005312275519828,
         0.49563071247248447,
         0.5007105205586413,
         0.49735290225653445,
         0.5045711551239946,
         0.497986975722597,
         0.5034975726535776,
         0.5026814926794032,
         0.5018246610095958,
         0.505744806342409,
         0.5117534410586814,
         0.5035515491297702,
         0.5050395552447299,
         0.5066317411517958,
         0.5067278024187545,
         0.5146381680300692,
         0.5062401313713053,
         0.49977308757661376,
         0.5128646161785582,
         0.5123547168826917,
         0.5120426264038542,
         0.4803612048184732,
         0.49755286224244627,
         0.49662823867111,
         0.5006356686732033,
         0.48975406628160273,
         0.4906020116439322,
         0.5066231284668902,
         0.504396740757511,
         0.49091595377831254,
         0.5051030714443187,
         0.49837242405919824,
         0.5058341566851595,
         0.5026769172778586,
         0.49374359887151514,
         0.48763136904744897,
         0.5050489586225012,
         0.4990124602249125,
         0.502920102738426,
         0.5027381834021071,
         0.5114099767437438,
         0.5051200051238993,
         0.511616775058792,
         0.5166434970131377,
         0.49846373837499414,
         0.4992034804454306,
         0.4970647033682326,
         0.5013142798474292,
         0.5083878863981226,
         0.4996952014422277,
         0.5025615085294703,
         0.49310562055616175,
         0.5007933820044854,
         0.5167156022420386,
         0.5053075950971107,
         0.4883424450090388,
         0.4993823204567889,
         0.4868203554680804,
         0.5024891201785067,
         0.504222628325806,
         0.49838889990060126,
         0.49803062494902406,
         0.5026925387239316,
         0.5179288734128932,
         0.5087048475077609,
         0.5181636970868567,
         0.5223440025380114,
         0.5011133220425108,
         0.5021715272596339,
         0.5035305317869643,
         0.5138052229216555,
         0.5118544023862341,
         0.5075168323150138,
         0.49108760248927863,
         0.49143993746547493,
         0.4972338069608668,
         0.5005046639969806,
         0.5014651235571363,
         0.49844708185701164,
         0.5034332026174525
        ],
        [
         10.144966476422269,
         9.868417718273122,
         10.219959773879964,
         10.173179679375608,
         10.02724353299709,
         10.068236713123042,
         10.326632478099782,
         10.058585622173268,
         9.87006215081783,
         9.849340968590695,
         10.153602544975001,
         9.995860063296277,
         10.380013414483983,
         10.087694966059644,
         10.15368104801746,
         10.279614307743032,
         9.95023936853977,
         10.229470007878263,
         10.054567077022512,
         10.031789936881978,
         10.010624551039655,
         9.912614249449689,
         10.014210411172826,
         9.947058045130689,
         10.091423102479894,
         9.95973951445194,
         10.069951453071553,
         10.053629853588063,
         10.036493220191915,
         10.11489612684818,
         10.235068821173627,
         10.071030982595403,
         10.100791104894597,
         10.132634823035914,
         10.134556048375089,
         10.292763360601384,
         10.124802627426106,
         9.995461751532275,
         10.257292323571164,
         10.247094337653834,
         10.240852528077085,
         9.607224096369464,
         9.951057244848926,
         9.9325647734222,
         10.012713373464067,
         9.795081325632054,
         9.812040232878644,
         10.132462569337804,
         10.08793481515022,
         9.81831907556625,
         10.102061428886373,
         9.967448481183965,
         10.11668313370319,
         10.053538345557172,
         9.874871977430303,
         9.75262738094898,
         10.100979172450025,
         9.98024920449825,
         10.058402054768521,
         10.054763668042142,
         10.228199534874875,
         10.102400102477986,
         10.23233550117584,
         10.332869940262754,
         9.969274767499883,
         9.984069608908612,
         9.941294067364652,
         10.026285596948583,
         10.167757727962453,
         9.993904028844554,
         10.051230170589406,
         9.862112411123235,
         10.01586764008971,
         10.334312044840772,
         10.106151901942212,
         9.766848900180776,
         9.987646409135778,
         9.736407109361608,
         10.049782403570134,
         10.08445256651612,
         9.967777998012025,
         9.960612498980481,
         10.053850774478633,
         10.358577468257863,
         10.174096950155217,
         10.363273941737134,
         10.446880050760228,
         10.022266440850217,
         10.043430545192678,
         10.070610635739285,
         10.27610445843311,
         10.237088047724683,
         10.150336646300275,
         9.821752049785573,
         9.828798749309499,
         9.944676139217336,
         10.01009327993961,
         10.029302471142728,
         9.968941637140233,
         10.06866405234905
        ],
        [
         3.6223067746815696,
         3.605679879415592,
         3.6925824823581888,
         3.560565027942571,
         3.68040728247879,
         3.577713014221436,
         3.662504809797852,
         3.679038877936476,
         3.559209145294893,
         3.4560728496659547,
         3.605510427572492,
         3.5882329256815524,
         3.6812524083907134,
         3.6216273090625113,
         3.5728262162776807,
         3.680485524884672,
         3.5403454326254478,
         3.6666090426984086,
         3.5473061961864114,
         3.5685806603056283,
         3.5963312080080065,
         3.604968261456693,
         3.6181244580068905,
         3.517873653691149,
         3.6324526212948185,
         3.5943628827507217,
         3.576434691954442,
         3.6203040486954285,
         3.6065198872710997,
         3.654134111807139,
         3.6390776020275895,
         3.6697901320128263,
         3.6992757114655492,
         3.6475219544115576,
         3.6391628516477126,
         3.6798300622779205,
         3.6175836632797904,
         3.5959910120192706,
         3.6923989917604594,
         3.691884429402185,
         3.678395795374778,
         3.3205241671233723,
         3.5967396721086753,
         3.5627408767482653,
         3.6042029648777163,
         3.5380749467781354,
         3.4975783868223527,
         3.5309865919584973,
         3.637964356287785,
         3.471050752269731,
         3.639098889688623,
         3.5266161070588673,
         3.6181882400976737,
         3.609523693462117,
         3.5863200700965394,
         3.570137014602172,
         3.6451144903291586,
         3.613188851661505,
         3.6367896443742698,
         3.597834247897602,
         3.720997542119617,
         3.6607086344706015,
         3.669142266204022,
         3.6989597855970993,
         3.54367452122438,
         3.528862988554093,
         3.5798227085893757,
         3.5716587205135912,
         3.645412021761522,
         3.529214479273409,
         3.659118886114841,
         3.615120778125026,
         3.6122528923818176,
         3.710885812405653,
         3.5832225863269844,
         3.4243722647604566,
         3.5681620869819586,
         3.5109893644763157,
         3.5938043291440898,
         3.592644581699479,
         3.5357721529981623,
         3.597561869080016,
         3.5697903538593003,
         3.715900191691752,
         3.628293388674997,
         3.690152958157155,
         3.734783486483439,
         3.615439820680664,
         3.6179311637325733,
         3.600758254221172,
         3.6990090866982293,
         3.6822140635530123,
         3.687482089231566,
         3.5471341483043455,
         3.5563664186818937,
         3.626619041783067,
         3.5751853626245254,
         3.6496698427405625,
         3.5405446273419607,
         3.6835295780482094
        ]
       ],
       "encoder": "json",
       "name": "ABC_GAN_1 Metrics",
       "version": 1
      }
     },
     "metadata": {
      "scrapbook": {
       "data": true,
       "display": false,
       "name": "ABC_GAN_1 Metrics"
      }
     },
     "output_type": "display_data"
    },
    {
     "name": "stdout",
     "output_type": "stream",
     "text": [
      "MSE\n",
      "0.6511726705161991\n"
     ]
    }
   ],
   "source": [
    "ABC_GAN1_metrics=ABC_train_test2.test_generator(gen,test_data,prior_model,variance,bias,\"1\",device)\n",
    "sb.glue(\"ABC_GAN_1 Metrics\",ABC_GAN1_metrics)\n",
    "\n",
    "print(\"MSE\")\n",
    "print(mean(ABC_GAN1_metrics[0]))"
   ]
  },
  {
   "cell_type": "code",
   "execution_count": 14,
   "id": "eb22ce5c",
   "metadata": {
    "execution": {
     "iopub.execute_input": "2022-06-22T15:10:17.191244Z",
     "iopub.status.busy": "2022-06-22T15:10:17.190439Z",
     "iopub.status.idle": "2022-06-22T15:10:17.914667Z",
     "shell.execute_reply": "2022-06-22T15:10:17.914117Z"
    },
    "papermill": {
     "duration": 0.761494,
     "end_time": "2022-06-22T15:10:17.914842",
     "exception": false,
     "start_time": "2022-06-22T15:10:17.153348",
     "status": "completed"
    },
    "tags": []
   },
   "outputs": [
    {
     "data": {
      "image/png": "[encoded data removed]",
      "text/plain": [
       "<Figure size 432x288 with 1 Axes>"
      ]
     },
     "metadata": {
      "needs_background": "light"
     },
     "output_type": "display_data"
    },
    {
     "data": {
      "image/png": "[encoded data removed]",
      "text/plain": [
       "<Figure size 432x288 with 1 Axes>"
      ]
     },
     "metadata": {
      "needs_background": "light"
     },
     "output_type": "display_data"
    },
    {
     "data": {
      "image/png": "[encoded data removed]",
      "text/plain": [
       "<Figure size 432x288 with 1 Axes>"
      ]
     },
     "metadata": {
      "needs_background": "light"
     },
     "output_type": "display_data"
    },
    {
     "data": {
      "image/png": "[encoded data removed]",
      "text/plain": [
       "<Figure size 432x288 with 1 Axes>"
      ]
     },
     "metadata": {
      "needs_background": "light"
     },
     "output_type": "display_data"
    }
   ],
   "source": [
    "sanityChecks.discProbVsError(train_data,disc,device)\n",
    "sanityChecks.discProbVsError(test_data,disc,device)"
   ]
  },
  {
   "cell_type": "markdown",
   "id": "130f3a4d",
   "metadata": {
    "id": "130f3a4d",
    "papermill": {
     "duration": 0.044004,
     "end_time": "2022-06-22T15:10:17.991335",
     "exception": false,
     "start_time": "2022-06-22T15:10:17.947331",
     "status": "completed"
    },
    "tags": []
   },
   "source": [
    "# ABC - GAN Model with skip connection"
   ]
  },
  {
   "cell_type": "code",
   "execution_count": 15,
   "id": "4e43dad1",
   "metadata": {
    "execution": {
     "iopub.execute_input": "2022-06-22T15:10:18.061742Z",
     "iopub.status.busy": "2022-06-22T15:10:18.061001Z",
     "iopub.status.idle": "2022-06-22T15:10:18.063796Z",
     "shell.execute_reply": "2022-06-22T15:10:18.064545Z"
    },
    "id": "4e43dad1",
    "papermill": {
     "duration": 0.039447,
     "end_time": "2022-06-22T15:10:18.064745",
     "exception": false,
     "start_time": "2022-06-22T15:10:18.025298",
     "status": "completed"
    },
    "tags": []
   },
   "outputs": [],
   "source": [
    "#Generator\n",
    "gen3 = network.GeneratorWithSkipConnection(n_features+1).to(device)\n",
    "constraints=network.weightConstraint()\n",
    "#Discriminator \n",
    "disc3 = network.Discriminator(n_features+1).to(device)\n",
    "\n",
    "criterion = torch.nn.BCELoss()\n",
    "gen_opt = torch.optim.Adam(gen3.parameters(), lr=0.001, betas=(0.5, 0.999))\n",
    "disc_opt = torch.optim.Adam(disc3.parameters(), lr=0.001, betas=(0.5, 0.999))\n"
   ]
  },
  {
   "cell_type": "code",
   "execution_count": 16,
   "id": "26acbc37",
   "metadata": {
    "execution": {
     "iopub.execute_input": "2022-06-22T15:10:18.137960Z",
     "iopub.status.busy": "2022-06-22T15:10:18.137138Z",
     "iopub.status.idle": "2022-06-22T15:11:22.693644Z",
     "shell.execute_reply": "2022-06-22T15:11:22.694127Z"
    },
    "id": "26acbc37",
    "papermill": {
     "duration": 64.599897,
     "end_time": "2022-06-22T15:11:22.694340",
     "exception": false,
     "start_time": "2022-06-22T15:10:18.094443",
     "status": "completed"
    },
    "tags": []
   },
   "outputs": [
    {
     "data": {
      "image/png": "[encoded data removed]",
      "text/plain": [
       "<Figure size 432x288 with 1 Axes>"
      ]
     },
     "metadata": {
      "needs_background": "light"
     },
     "output_type": "display_data"
    },
    {
     "data": {
      "image/png": "[encoded data removed]",
      "text/plain": [
       "<Figure size 432x288 with 1 Axes>"
      ]
     },
     "metadata": {
      "needs_background": "light"
     },
     "output_type": "display_data"
    }
   ],
   "source": [
    "ABC_train_test2.training_GAN_skip_connection(disc3,gen3,disc_opt,gen_opt,train_data,batch_size,n_epochs,criterion,prior_model,variance,bias,device)"
   ]
  },
  {
   "cell_type": "code",
   "execution_count": 17,
   "id": "c5e0717b",
   "metadata": {
    "execution": {
     "iopub.execute_input": "2022-06-22T15:11:22.774078Z",
     "iopub.status.busy": "2022-06-22T15:11:22.773305Z",
     "iopub.status.idle": "2022-06-22T15:11:23.524220Z",
     "shell.execute_reply": "2022-06-22T15:11:23.524659Z"
    },
    "id": "c5e0717b",
    "papermill": {
     "duration": 0.796845,
     "end_time": "2022-06-22T15:11:23.524942",
     "exception": false,
     "start_time": "2022-06-22T15:11:22.728097",
     "status": "completed"
    },
    "tags": []
   },
   "outputs": [
    {
     "data": {
      "application/scrapbook.scrap.json+json": {
       "data": 0.5954762333258502,
       "encoder": "json",
       "name": "ABC-GAN Model 3 MSE",
       "version": 1
      }
     },
     "metadata": {
      "scrapbook": {
       "data": true,
       "display": false,
       "name": "ABC-GAN Model 3 MSE"
      }
     },
     "output_type": "display_data"
    },
    {
     "data": {
      "application/scrapbook.scrap.json+json": {
       "data": 0.5132450521901483,
       "encoder": "json",
       "name": "ABC-GAN Model 3 MAE",
       "version": 1
      }
     },
     "metadata": {
      "scrapbook": {
       "data": true,
       "display": false,
       "name": "ABC-GAN Model 3 MAE"
      }
     },
     "output_type": "display_data"
    },
    {
     "data": {
      "application/scrapbook.scrap.json+json": {
       "data": 10.264901043802965,
       "encoder": "json",
       "name": "ABC-GAN Model 3 Manhattan Distance",
       "version": 1
      }
     },
     "metadata": {
      "scrapbook": {
       "data": true,
       "display": false,
       "name": "ABC-GAN Model 3 Manhattan Distance"
      }
     },
     "output_type": "display_data"
    },
    {
     "data": {
      "application/scrapbook.scrap.json+json": {
       "data": 3.4502554877643035,
       "encoder": "json",
       "name": "ABC-GAN Model 3 Euclidean distance",
       "version": 1
      }
     },
     "metadata": {
      "scrapbook": {
       "data": true,
       "display": false,
       "name": "ABC-GAN Model 3 Euclidean distance"
      }
     },
     "output_type": "display_data"
    },
    {
     "data": {
      "application/scrapbook.scrap.json+json": {
       "data": [
        [
         0.5892311517974276,
         0.5652043460015008,
         0.6228450776302606,
         0.6592056541182586,
         0.5584570563719167,
         0.6233380803491679,
         0.579135895863725,
         0.5730614134859388,
         0.6600489058781732,
         0.6052879673424035,
         0.6240920462661972,
         0.6027773414939059,
         0.6416699850656699,
         0.5506174347610902,
         0.6099429967087897,
         0.5740622014121598,
         0.6367727271082715,
         0.5908667096110012,
         0.5792309066459451,
         0.5709749011079601,
         0.6022141891235101,
         0.5920649753763589,
         0.6073432601725985,
         0.5813034427196516,
         0.5723094294252551,
         0.645779828424663,
         0.6330997789491802,
         0.5886766016522291,
         0.6408246812662837,
         0.5378005843252247,
         0.6053122864595742,
         0.6322551277832507,
         0.5922256392274207,
         0.6283811093780374,
         0.5855615103847911,
         0.5855238617083283,
         0.6315222526856253,
         0.5616027701482553,
         0.5573143747376591,
         0.5639035381798808,
         0.592345112866274,
         0.5782390285753315,
         0.5863814917602946,
         0.5656236712035477,
         0.5720835321405049,
         0.6190125344549136,
         0.5939437704454564,
         0.5684350981053257,
         0.6263116249351814,
         0.5840919641606017,
         0.5501323514098511,
         0.6073833651442284,
         0.6096373586246742,
         0.6071284773905982,
         0.6000912573317148,
         0.5930067358617854,
         0.5698710672375963,
         0.6174428328603552,
         0.5728064582625239,
         0.5657163404193857,
         0.5947817314413393,
         0.6169839886211429,
         0.5971634085469526,
         0.5890182646459837,
         0.6018062202934701,
         0.5785413853236289,
         0.5690000182325428,
         0.6012129372072068,
         0.6130709655036732,
         0.5906692454153328,
         0.5920018174878798,
         0.6089444750222348,
         0.5711188243522173,
         0.5689929434427459,
         0.5772506927489511,
         0.5837174217338876,
         0.5589516095029479,
         0.6001570224582407,
         0.5855758098277024,
         0.6269199794627375,
         0.606976379601576,
         0.5743125923348631,
         0.6288329666696462,
         0.6255637805225,
         0.5828025036982857,
         0.5892101837793853,
         0.5965727725318147,
         0.5912459766402149,
         0.6035757748535939,
         0.608964504614056,
         0.6152375515128206,
         0.5713506776546076,
         0.5999233944183835,
         0.5739020323452134,
         0.5742389458192653,
         0.6169912960292877,
         0.6149276421553349,
         0.571411910819801,
         0.6385043311208104,
         0.5956732398550584
        ],
        [
         0.5068643764039734,
         0.49628198094724213,
         0.5199704248836496,
         0.5307250157376984,
         0.4960551806172589,
         0.5237287748983362,
         0.5194177378347377,
         0.5088129370851675,
         0.5362434903538087,
         0.5223056074610213,
         0.5178762022784212,
         0.5197375094896415,
         0.5264545842452207,
         0.4885838954156497,
         0.5123768287157873,
         0.502304498423473,
         0.5200404243922094,
         0.5315129328897455,
         0.5048700679471949,
         0.5068883937230566,
         0.5102945091581205,
         0.5145224968349794,
         0.5176058618730167,
         0.5144107960542896,
         0.5136040674900869,
         0.5271342503285268,
         0.5239430232351878,
         0.5105054410552838,
         0.5308185103727737,
         0.4931548037013272,
         0.5152514845511178,
         0.5178397886833409,
         0.5176454978442052,
         0.5208859680598834,
         0.5036594126751879,
         0.5087205744726816,
         0.523836568594561,
         0.49874433562217746,
         0.5092142866371432,
         0.5012114840006688,
         0.51931347794889,
         0.5111125533847372,
         0.5008130804082611,
         0.511110133343027,
         0.5080924610054354,
         0.5124558607494691,
         0.5076564331917325,
         0.5128781972831348,
         0.5219668314239243,
         0.5146577641746262,
         0.5068869574373821,
         0.5237995017698267,
         0.5165791552892187,
         0.5141935140272835,
         0.5143964467948535,
         0.5203473754605511,
         0.5117292404553154,
         0.5273878006642917,
         0.5039980224712053,
         0.49962753582804,
         0.5129946891596774,
         0.5137958854815224,
         0.5188285084819654,
         0.514850427993224,
         0.5141794788098195,
         0.5116541315248468,
         0.5093968175729969,
         0.5101159328973154,
         0.519745927900658,
         0.5198145665606717,
         0.4961407274386147,
         0.5135264812415699,
         0.5081919769203523,
         0.5102554265788057,
         0.5113608941814164,
         0.5027139248704771,
         0.5144353721669177,
         0.5108967204025248,
         0.5040591198398033,
         0.5303749503946165,
         0.5078601943707326,
         0.4931162979832152,
         0.5286734234920004,
         0.5146231923630694,
         0.5113757688930491,
         0.5165018931409577,
         0.5073381713038543,
         0.5086021485185483,
         0.5216383532067994,
         0.5109334614506225,
         0.5100866180291632,
         0.5116855074098566,
         0.5098347728519002,
         0.5005849041423062,
         0.513896373231546,
         0.5217135716608027,
         0.5288794397754828,
         0.5046630030876258,
         0.5283725403627614,
         0.5037372552236775
        ],
        [
         10.137287528079469,
         9.925639618944842,
         10.399408497672994,
         10.614500314753968,
         9.921103612345178,
         10.474575497966725,
         10.388354756694753,
         10.17625874170335,
         10.724869807076175,
         10.446112149220426,
         10.357524045568425,
         10.39475018979283,
         10.529091684904415,
         9.771677908312995,
         10.247536574315745,
         10.04608996846946,
         10.400808487844188,
         10.630258657794911,
         10.097401358943898,
         10.137767874461133,
         10.20589018316241,
         10.290449936699588,
         10.352117237460334,
         10.288215921085794,
         10.272081349801738,
         10.542685006570537,
         10.478860464703757,
         10.210108821105678,
         10.616370207455475,
         9.863096074026544,
         10.305029691022355,
         10.356795773666818,
         10.352909956884105,
         10.417719361197669,
         10.073188253503758,
         10.174411489453632,
         10.47673137189122,
         9.97488671244355,
         10.184285732742865,
         10.024229680013377,
         10.386269558977801,
         10.222251067694742,
         10.016261608165223,
         10.22220266686054,
         10.161849220108707,
         10.249117214989383,
         10.15312866383465,
         10.257563945662696,
         10.439336628478486,
         10.293155283492524,
         10.137739148747642,
         10.475990035396535,
         10.331583105784375,
         10.28387028054567,
         10.287928935897071,
         10.406947509211022,
         10.234584809106309,
         10.547756013285834,
         10.079960449424107,
         9.9925507165608,
         10.259893783193547,
         10.275917709630448,
         10.376570169639308,
         10.29700855986448,
         10.283589576196391,
         10.233082630496938,
         10.187936351459939,
         10.202318657946307,
         10.39491855801316,
         10.396291331213433,
         9.922814548772294,
         10.270529624831397,
         10.163839538407046,
         10.205108531576116,
         10.227217883628327,
         10.054278497409541,
         10.288707443338353,
         10.217934408050496,
         10.081182396796066,
         10.60749900789233,
         10.157203887414653,
         9.862325959664304,
         10.573468469840009,
         10.292463847261388,
         10.227515377860982,
         10.330037862819154,
         10.146763426077086,
         10.172042970370967,
         10.432767064135987,
         10.218669229012448,
         10.201732360583264,
         10.233710148197133,
         10.196695457038004,
         10.011698082846124,
         10.27792746463092,
         10.434271433216054,
         10.577588795509655,
         10.093260061752517,
         10.567450807255227,
         10.07474510447355
        ],
        [
         3.4328738741684863,
         3.3621551005315053,
         3.5294336022377886,
         3.6309934015865646,
         3.3420265001101255,
         3.530830158331516,
         3.4033392304139327,
         3.385443585369394,
         3.6333150314228826,
         3.4793331756024846,
         3.5329648916064738,
         3.4721098527952883,
         3.5823734731757653,
         3.3184859040263834,
         3.4926866355537527,
         3.3883984459096887,
         3.5686768615504305,
         3.4376349707640608,
         3.4036183882625415,
         3.379274777546094,
         3.4704875424744293,
         3.4411189324879747,
         3.4852353153627904,
         3.4097021650568005,
         3.3832216286411243,
         3.593827565214177,
         3.5583697923323827,
         3.4312580831299444,
         3.580013076138923,
         3.2796359076129917,
         3.4794030708142287,
         3.555995297475098,
         3.4415857950294386,
         3.5450842285566004,
         3.4221674721871547,
         3.422057456292422,
         3.553933743573803,
         3.3514258760958904,
         3.3386056213265416,
         3.3582839015779493,
         3.441932924582564,
         3.400702952553579,
         3.424562721750894,
         3.363402061019609,
         3.382553863992427,
         3.5185580411723025,
         3.4465744455776854,
         3.3717505782762927,
         3.5392417971514223,
         3.417870577305705,
         3.3170238208666847,
         3.485350384521557,
         3.491811445724623,
         3.484618996075749,
         3.464365042346764,
         3.443854630677042,
         3.376006715744494,
         3.5140940023293488,
         3.384690409070005,
         3.3636775720017686,
         3.4490048751526556,
         3.5127880340867224,
         3.455903379861632,
         3.432253675490737,
         3.4693118058008854,
         3.4015919370895413,
         3.3734256127341617,
         3.467601295441005,
         3.5016309500107896,
         3.43706050402181,
         3.4409353887798586,
         3.4898265716858616,
         3.379700650508022,
         3.373404640545649,
         3.397795440425898,
         3.416774565972674,
         3.343505972786494,
         3.464554870277683,
         3.4222092566869793,
         3.5409602637215163,
         3.4841824854665004,
         3.389137330752069,
         3.5463586019173134,
         3.537128158612577,
         3.4140957915626378,
         3.4328127935539547,
         3.4541938930286316,
         3.4387380727243966,
         3.4744086542995887,
         3.4898839654465763,
         3.5078128556490027,
         3.380386598170711,
         3.463880466812859,
         3.3879257144902497,
         3.3889200221287763,
         3.512808836328239,
         3.506929261206547,
         3.3805677358094783,
         3.5735257970827927,
         3.4515887352205166
        ]
       ],
       "encoder": "json",
       "name": "ABC_GAN_3 Metrics",
       "version": 1
      }
     },
     "metadata": {
      "scrapbook": {
       "data": true,
       "display": false,
       "name": "ABC_GAN_3 Metrics"
      }
     },
     "output_type": "display_data"
    },
    {
     "name": "stdout",
     "output_type": "stream",
     "text": [
      "MSE\n",
      "0.5954762333258502\n"
     ]
    }
   ],
   "source": [
    "ABC_GAN3_metrics=ABC_train_test2.test_generator(gen3,test_data,prior_model,variance,bias,\"3\",device)\n",
    "sb.glue(\"ABC_GAN_3 Metrics\",ABC_GAN3_metrics)\n",
    "\n",
    "print(\"MSE\")\n",
    "print(mean(ABC_GAN3_metrics[0]))"
   ]
  },
  {
   "cell_type": "code",
   "execution_count": 18,
   "id": "c8e46b48",
   "metadata": {
    "execution": {
     "iopub.execute_input": "2022-06-22T15:11:23.633625Z",
     "iopub.status.busy": "2022-06-22T15:11:23.632868Z",
     "iopub.status.idle": "2022-06-22T15:11:24.342541Z",
     "shell.execute_reply": "2022-06-22T15:11:24.342957Z"
    },
    "id": "c8e46b48",
    "papermill": {
     "duration": 0.769216,
     "end_time": "2022-06-22T15:11:24.343163",
     "exception": false,
     "start_time": "2022-06-22T15:11:23.573947",
     "status": "completed"
    },
    "tags": []
   },
   "outputs": [
    {
     "data": {
      "image/png": "[encoded data removed]",
      "text/plain": [
       "<Figure size 432x288 with 1 Axes>"
      ]
     },
     "metadata": {
      "needs_background": "light"
     },
     "output_type": "display_data"
    },
    {
     "data": {
      "image/png": "[encoded data removed]",
      "text/plain": [
       "<Figure size 432x288 with 1 Axes>"
      ]
     },
     "metadata": {
      "needs_background": "light"
     },
     "output_type": "display_data"
    },
    {
     "data": {
      "image/png": "[encoded data removed]",
      "text/plain": [
       "<Figure size 432x288 with 1 Axes>"
      ]
     },
     "metadata": {
      "needs_background": "light"
     },
     "output_type": "display_data"
    },
    {
     "data": {
      "image/png": "[encoded data removed]",
      "text/plain": [
       "<Figure size 432x288 with 1 Axes>"
      ]
     },
     "metadata": {
      "needs_background": "light"
     },
     "output_type": "display_data"
    }
   ],
   "source": [
    "sanityChecks.discProbVsError(train_data,disc3,device)\n",
    "sanityChecks.discProbVsError(test_data,disc3,device)"
   ]
  },
  {
   "cell_type": "markdown",
   "id": "a5bd74c3",
   "metadata": {
    "id": "a5bd74c3",
    "papermill": {
     "duration": 0.045449,
     "end_time": "2022-06-22T15:11:24.430749",
     "exception": false,
     "start_time": "2022-06-22T15:11:24.385300",
     "status": "completed"
    },
    "tags": []
   },
   "source": [
    "## Skip Connection Model Analysis - ABC-GAN "
   ]
  },
  {
   "cell_type": "markdown",
   "id": "5744a8bf",
   "metadata": {
    "id": "5744a8bf",
    "papermill": {
     "duration": 0.041187,
     "end_time": "2022-06-22T15:11:24.511863",
     "exception": false,
     "start_time": "2022-06-22T15:11:24.470676",
     "status": "completed"
    },
    "tags": []
   },
   "source": [
    "### Weight Analysis \n",
    "\n",
    "Study the weights of the skip connection layer\n",
    "\n",
    "Equation of the skip connection is \n",
    "\n",
    "$output = y_{gan} * w + y_{abc} * (1-w)$"
   ]
  },
  {
   "cell_type": "code",
   "execution_count": 19,
   "id": "52c31dea",
   "metadata": {
    "execution": {
     "iopub.execute_input": "2022-06-22T15:11:24.598241Z",
     "iopub.status.busy": "2022-06-22T15:11:24.597175Z",
     "iopub.status.idle": "2022-06-22T15:11:24.605289Z",
     "shell.execute_reply": "2022-06-22T15:11:24.605758Z"
    },
    "id": "52c31dea",
    "papermill": {
     "duration": 0.054744,
     "end_time": "2022-06-22T15:11:24.606022",
     "exception": false,
     "start_time": "2022-06-22T15:11:24.551278",
     "status": "completed"
    },
    "tags": []
   },
   "outputs": [
    {
     "name": "stdout",
     "output_type": "stream",
     "text": [
      "Weight of the node at skip connection\n",
      "Parameter containing:\n",
      "tensor([[0.7355]], requires_grad=True)\n"
     ]
    },
    {
     "data": {
      "application/scrapbook.scrap.json+json": {
       "data": 0.7355237603187561,
       "encoder": "json",
       "name": "Skip Connection Weight",
       "version": 1
      }
     },
     "metadata": {
      "scrapbook": {
       "data": true,
       "display": false,
       "name": "Skip Connection Weight"
      }
     },
     "output_type": "display_data"
    }
   ],
   "source": [
    "print(\"Weight of the node at skip connection\")\n",
    "for name,param in gen3.named_parameters():\n",
    "    if(name == \"skipNode.weight\"):\n",
    "        print(param)\n",
    "        sb.glue(\"Skip Connection Weight\",param.item())"
   ]
  }
 ],
 "metadata": {
  "colab": {
   "collapsed_sections": [],
   "name": "ABC_GAN_Model-Catboost_Pre-gen.ipynb",
   "provenance": []
  },
  "interpreter": {
   "hash": "31f2aee4e71d21fbe5cf8b01ff0e069b9275f58929596ceb00d14d90e3e16cd6"
  },
  "kernelspec": {
   "display_name": "Python 3 (ipykernel)",
   "language": "python",
   "name": "python3"
  },
  "language_info": {
   "codemirror_mode": {
    "name": "ipython",
    "version": 3
   },
   "file_extension": ".py",
   "mimetype": "text/x-python",
   "name": "python",
   "nbconvert_exporter": "python",
   "pygments_lexer": "ipython3",
   "version": "3.8.3"
  },
  "papermill": {
   "default_parameters": {},
   "duration": 125.205786,
   "end_time": "2022-06-22T15:11:25.949286",
   "environment_variables": {},
   "exception": null,
   "input_path": "ABC_GAN-TabNet.ipynb",
   "output_path": "./ABC_GAN_TabNet/ABC-GAN_output_7_10.ipynb",
   "parameters": {
    "bias": 0,
    "variance": 0.1
   },
   "start_time": "2022-06-22T15:09:20.743500",
   "version": "2.3.3"
  }
 },
 "nbformat": 4,
 "nbformat_minor": 5
}