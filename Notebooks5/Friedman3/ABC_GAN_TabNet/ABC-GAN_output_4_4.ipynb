{
 "cells": [
  {
   "cell_type": "markdown",
   "id": "622780e6",
   "metadata": {
    "id": "622780e6",
    "papermill": {
     "duration": 0.059365,
     "end_time": "2022-06-22T13:07:02.927055",
     "exception": false,
     "start_time": "2022-06-22T13:07:02.867690",
     "status": "completed"
    },
    "tags": []
   },
   "source": [
    "## Import Libraries "
   ]
  },
  {
   "cell_type": "code",
   "execution_count": 1,
   "id": "a62397e3",
   "metadata": {
    "execution": {
     "iopub.execute_input": "2022-06-22T13:07:02.976333Z",
     "iopub.status.busy": "2022-06-22T13:07:02.975214Z",
     "iopub.status.idle": "2022-06-22T13:07:02.977480Z",
     "shell.execute_reply": "2022-06-22T13:07:02.978189Z"
    },
    "id": "a62397e3",
    "papermill": {
     "duration": 0.030531,
     "end_time": "2022-06-22T13:07:02.978522",
     "exception": false,
     "start_time": "2022-06-22T13:07:02.947991",
     "status": "completed"
    },
    "tags": []
   },
   "outputs": [],
   "source": [
    "import warnings\n",
    "import sys\n",
    "sys.path.insert(0, '../../src')\n",
    "warnings.filterwarnings('ignore')"
   ]
  },
  {
   "cell_type": "code",
   "execution_count": 2,
   "id": "d6a4e155",
   "metadata": {
    "execution": {
     "iopub.execute_input": "2022-06-22T13:07:03.016703Z",
     "iopub.status.busy": "2022-06-22T13:07:03.015833Z",
     "iopub.status.idle": "2022-06-22T13:07:09.244080Z",
     "shell.execute_reply": "2022-06-22T13:07:09.244716Z"
    },
    "id": "d6a4e155",
    "papermill": {
     "duration": 6.248789,
     "end_time": "2022-06-22T13:07:09.244984",
     "exception": false,
     "start_time": "2022-06-22T13:07:02.996195",
     "status": "completed"
    },
    "tags": []
   },
   "outputs": [],
   "source": [
    "import ABC_train_test2\n",
    "import friedman3Dataset\n",
    "import network\n",
    "import dataset\n",
    "import sanityChecks\n",
    "import torch \n",
    "import scrapbook as sb\n",
    "from statistics import mean \n",
    "import catboost as ctb \n",
    "from sklearn.model_selection import train_test_split\n",
    "from sklearn.metrics import mean_squared_error,mean_absolute_error\n",
    "import numpy as np\n",
    "from pytorch_tabnet.tab_model import TabNetRegressor"
   ]
  },
  {
   "cell_type": "markdown",
   "id": "2fa5b0f7",
   "metadata": {
    "id": "2fa5b0f7",
    "papermill": {
     "duration": 0.018868,
     "end_time": "2022-06-22T13:07:09.282791",
     "exception": false,
     "start_time": "2022-06-22T13:07:09.263923",
     "status": "completed"
    },
    "tags": []
   },
   "source": [
    "## Parameters "
   ]
  },
  {
   "cell_type": "code",
   "execution_count": 3,
   "id": "783186fb",
   "metadata": {
    "execution": {
     "iopub.execute_input": "2022-06-22T13:07:09.368239Z",
     "iopub.status.busy": "2022-06-22T13:07:09.338373Z",
     "iopub.status.idle": "2022-06-22T13:07:09.371166Z",
     "shell.execute_reply": "2022-06-22T13:07:09.369317Z"
    },
    "id": "783186fb",
    "papermill": {
     "duration": 0.071537,
     "end_time": "2022-06-22T13:07:09.371456",
     "exception": false,
     "start_time": "2022-06-22T13:07:09.299919",
     "status": "completed"
    },
    "tags": [
     "parameters"
    ]
   },
   "outputs": [],
   "source": [
    "variance = 1\n",
    "bias = 1 "
   ]
  },
  {
   "cell_type": "code",
   "execution_count": 4,
   "id": "ae4920c3",
   "metadata": {
    "execution": {
     "iopub.execute_input": "2022-06-22T13:07:09.430949Z",
     "iopub.status.busy": "2022-06-22T13:07:09.428919Z",
     "iopub.status.idle": "2022-06-22T13:07:09.433559Z",
     "shell.execute_reply": "2022-06-22T13:07:09.438979Z"
    },
    "papermill": {
     "duration": 0.04873,
     "end_time": "2022-06-22T13:07:09.440065",
     "exception": false,
     "start_time": "2022-06-22T13:07:09.391335",
     "status": "completed"
    },
    "tags": [
     "injected-parameters"
    ]
   },
   "outputs": [],
   "source": [
    "# Parameters\n",
    "variance = 0.1\n",
    "bias = 0.1\n"
   ]
  },
  {
   "cell_type": "markdown",
   "id": "391cdbfd",
   "metadata": {
    "id": "391cdbfd",
    "papermill": {
     "duration": 0.018908,
     "end_time": "2022-06-22T13:07:09.480849",
     "exception": false,
     "start_time": "2022-06-22T13:07:09.461941",
     "status": "completed"
    },
    "tags": []
   },
   "source": [
    "## Dataset \n"
   ]
  },
  {
   "cell_type": "code",
   "execution_count": 5,
   "id": "5b51f161",
   "metadata": {
    "execution": {
     "iopub.execute_input": "2022-06-22T13:07:09.568790Z",
     "iopub.status.busy": "2022-06-22T13:07:09.567403Z",
     "iopub.status.idle": "2022-06-22T13:07:09.570298Z",
     "shell.execute_reply": "2022-06-22T13:07:09.569490Z"
    },
    "id": "5b51f161",
    "papermill": {
     "duration": 0.061787,
     "end_time": "2022-06-22T13:07:09.571723",
     "exception": false,
     "start_time": "2022-06-22T13:07:09.509936",
     "status": "completed"
    },
    "tags": []
   },
   "outputs": [],
   "source": [
    "#Parameters \n",
    "n_features = 4\n",
    "n_samples= 100\n",
    "n_target = 1"
   ]
  },
  {
   "cell_type": "code",
   "execution_count": 6,
   "id": "5d6eced4",
   "metadata": {
    "execution": {
     "iopub.execute_input": "2022-06-22T13:07:09.621452Z",
     "iopub.status.busy": "2022-06-22T13:07:09.610193Z",
     "iopub.status.idle": "2022-06-22T13:07:09.625652Z",
     "shell.execute_reply": "2022-06-22T13:07:09.625151Z"
    },
    "id": "5d6eced4",
    "papermill": {
     "duration": 0.035367,
     "end_time": "2022-06-22T13:07:09.625840",
     "exception": false,
     "start_time": "2022-06-22T13:07:09.590473",
     "status": "completed"
    },
    "tags": []
   },
   "outputs": [
    {
     "name": "stdout",
     "output_type": "stream",
     "text": [
      "          X1           X2        X3        X4         Y\n",
      "0  48.097870  1045.972405  0.154941  6.048277  1.321016\n",
      "1  64.932113  1349.484318  0.865341  9.762036  1.517741\n",
      "2  72.020769  1315.463826  0.468267  8.051303  1.454949\n",
      "3  40.810735  1007.243333  0.060553  4.042461  0.985791\n",
      "4  54.312489  1236.700721  0.239321  3.575622  1.536032\n"
     ]
    }
   ],
   "source": [
    "X,Y = friedman3Dataset.friedman3_data(n_samples)"
   ]
  },
  {
   "cell_type": "code",
   "execution_count": 7,
   "id": "fe007438",
   "metadata": {
    "execution": {
     "iopub.execute_input": "2022-06-22T13:07:09.674623Z",
     "iopub.status.busy": "2022-06-22T13:07:09.672867Z",
     "iopub.status.idle": "2022-06-22T13:07:09.675983Z",
     "shell.execute_reply": "2022-06-22T13:07:09.675377Z"
    },
    "id": "fe007438",
    "papermill": {
     "duration": 0.033542,
     "end_time": "2022-06-22T13:07:09.676185",
     "exception": false,
     "start_time": "2022-06-22T13:07:09.642643",
     "status": "completed"
    },
    "tags": []
   },
   "outputs": [],
   "source": [
    "#Train test split for dataset \n",
    "X_train,X_test,Y_train,Y_test = train_test_split(X,Y,test_size = 0.2)\n",
    "train_data = dataset.CustomDataset(X_train,Y_train)\n",
    "test_data = dataset.CustomDataset(X_test,Y_test)\n"
   ]
  },
  {
   "cell_type": "markdown",
   "id": "a9a1af34",
   "metadata": {
    "id": "a9a1af34",
    "papermill": {
     "duration": 0.015233,
     "end_time": "2022-06-22T13:07:09.709258",
     "exception": false,
     "start_time": "2022-06-22T13:07:09.694025",
     "status": "completed"
    },
    "tags": []
   },
   "source": [
    "## Training Parameters "
   ]
  },
  {
   "cell_type": "code",
   "execution_count": 8,
   "id": "952b7fc8",
   "metadata": {
    "execution": {
     "iopub.execute_input": "2022-06-22T13:07:09.748667Z",
     "iopub.status.busy": "2022-06-22T13:07:09.743147Z",
     "iopub.status.idle": "2022-06-22T13:07:09.750127Z",
     "shell.execute_reply": "2022-06-22T13:07:09.750659Z"
    },
    "id": "952b7fc8",
    "papermill": {
     "duration": 0.027705,
     "end_time": "2022-06-22T13:07:09.750899",
     "exception": false,
     "start_time": "2022-06-22T13:07:09.723194",
     "status": "completed"
    },
    "tags": []
   },
   "outputs": [],
   "source": [
    "batch_size = 32\n",
    "n_epochs = 1000\n",
    "#Select the device \n",
    "device = torch.device('cuda' if torch.cuda.is_available() else 'cpu')"
   ]
  },
  {
   "cell_type": "markdown",
   "id": "a95e1600",
   "metadata": {
    "id": "a95e1600",
    "papermill": {
     "duration": 0.019869,
     "end_time": "2022-06-22T13:07:09.786399",
     "exception": false,
     "start_time": "2022-06-22T13:07:09.766530",
     "status": "completed"
    },
    "tags": []
   },
   "source": [
    "# ABC Pre-generator Model \n",
    "\n",
    "1. The catboost model is used as a pre-generator model for the ABC-GAN. \n",
    "2. The model is first trained on the entire dataset \n",
    "3. It generats X,Y pairs and we add some Gaussian noise with mean 0 and variance 1 to it which is then feed as input to the generator.\n"
   ]
  },
  {
   "cell_type": "code",
   "execution_count": 9,
   "id": "ff8ce7bd",
   "metadata": {
    "execution": {
     "iopub.execute_input": "2022-06-22T13:07:09.859997Z",
     "iopub.status.busy": "2022-06-22T13:07:09.840642Z",
     "iopub.status.idle": "2022-06-22T13:07:31.519750Z",
     "shell.execute_reply": "2022-06-22T13:07:31.522984Z"
    },
    "id": "ff8ce7bd",
    "papermill": {
     "duration": 21.721096,
     "end_time": "2022-06-22T13:07:31.523270",
     "exception": false,
     "start_time": "2022-06-22T13:07:09.802174",
     "status": "completed"
    },
    "tags": []
   },
   "outputs": [
    {
     "name": "stdout",
     "output_type": "stream",
     "text": [
      "Device used : cpu\n"
     ]
    },
    {
     "name": "stdout",
     "output_type": "stream",
     "text": [
      "epoch 0  | loss: 0.74044 | train_mse: 4.73939 | train_mae: 1.66499 |  0:00:00s\n",
      "epoch 1  | loss: 0.81419 | train_mse: 4.01088 | train_mae: 1.52241 |  0:00:00s\n",
      "epoch 2  | loss: 0.79227 | train_mse: 3.03242 | train_mae: 1.32032 |  0:00:00s\n"
     ]
    },
    {
     "name": "stdout",
     "output_type": "stream",
     "text": [
      "epoch 3  | loss: 0.74789 | train_mse: 3.18324 | train_mae: 1.296   |  0:00:00s\n",
      "epoch 4  | loss: 0.71878 | train_mse: 1.87007 | train_mae: 1.00461 |  0:00:00s\n",
      "epoch 5  | loss: 0.58579 | train_mse: 1.71728 | train_mae: 0.91608 |  0:00:00s\n"
     ]
    },
    {
     "name": "stdout",
     "output_type": "stream",
     "text": [
      "epoch 6  | loss: 0.49466 | train_mse: 1.73166 | train_mae: 0.90996 |  0:00:00s\n",
      "epoch 7  | loss: 0.90354 | train_mse: 1.58418 | train_mae: 0.91928 |  0:00:00s\n",
      "epoch 8  | loss: 0.58395 | train_mse: 1.68997 | train_mae: 0.99543 |  0:00:00s\n"
     ]
    },
    {
     "name": "stdout",
     "output_type": "stream",
     "text": [
      "epoch 9  | loss: 0.52895 | train_mse: 1.4869  | train_mae: 0.91618 |  0:00:01s\n",
      "epoch 10 | loss: 0.45209 | train_mse: 1.12526 | train_mae: 0.77196 |  0:00:01s\n",
      "epoch 11 | loss: 0.47939 | train_mse: 0.81774 | train_mae: 0.66399 |  0:00:01s\n"
     ]
    },
    {
     "name": "stdout",
     "output_type": "stream",
     "text": [
      "epoch 12 | loss: 0.55849 | train_mse: 0.44616 | train_mae: 0.49688 |  0:00:01s\n",
      "epoch 13 | loss: 0.33179 | train_mse: 0.50328 | train_mae: 0.52056 |  0:00:01s\n",
      "epoch 14 | loss: 0.53618 | train_mse: 0.53176 | train_mae: 0.53431 |  0:00:01s\n"
     ]
    },
    {
     "name": "stdout",
     "output_type": "stream",
     "text": [
      "epoch 15 | loss: 0.41629 | train_mse: 0.59008 | train_mae: 0.55468 |  0:00:01s\n",
      "epoch 16 | loss: 0.26923 | train_mse: 0.44484 | train_mae: 0.4799  |  0:00:01s\n",
      "epoch 17 | loss: 0.28684 | train_mse: 0.35253 | train_mae: 0.44085 |  0:00:01s\n"
     ]
    },
    {
     "name": "stdout",
     "output_type": "stream",
     "text": [
      "epoch 18 | loss: 0.38211 | train_mse: 0.28469 | train_mae: 0.41349 |  0:00:01s\n",
      "epoch 19 | loss: 0.48809 | train_mse: 0.24167 | train_mae: 0.36942 |  0:00:01s\n",
      "epoch 20 | loss: 0.24954 | train_mse: 0.36166 | train_mae: 0.40137 |  0:00:01s\n",
      "epoch 21 | loss: 0.29921 | train_mse: 0.36063 | train_mae: 0.41911 |  0:00:01s\n"
     ]
    },
    {
     "name": "stdout",
     "output_type": "stream",
     "text": [
      "epoch 22 | loss: 0.26178 | train_mse: 0.21317 | train_mae: 0.35451 |  0:00:01s\n",
      "epoch 23 | loss: 0.21607 | train_mse: 0.21218 | train_mae: 0.34432 |  0:00:02s\n",
      "epoch 24 | loss: 0.24608 | train_mse: 0.29792 | train_mae: 0.38591 |  0:00:02s\n"
     ]
    },
    {
     "name": "stdout",
     "output_type": "stream",
     "text": [
      "epoch 25 | loss: 0.42343 | train_mse: 0.46878 | train_mae: 0.43708 |  0:00:02s\n",
      "epoch 26 | loss: 0.34259 | train_mse: 0.41593 | train_mae: 0.4225  |  0:00:02s\n",
      "epoch 27 | loss: 0.30757 | train_mse: 0.25347 | train_mae: 0.37014 |  0:00:02s\n"
     ]
    },
    {
     "name": "stdout",
     "output_type": "stream",
     "text": [
      "epoch 28 | loss: 0.59138 | train_mse: 0.21659 | train_mae: 0.32456 |  0:00:02s\n",
      "epoch 29 | loss: 0.2799  | train_mse: 0.24084 | train_mae: 0.3401  |  0:00:02s\n",
      "epoch 30 | loss: 0.35334 | train_mse: 0.22572 | train_mae: 0.35166 |  0:00:02s\n"
     ]
    },
    {
     "name": "stdout",
     "output_type": "stream",
     "text": [
      "epoch 31 | loss: 0.28203 | train_mse: 0.28216 | train_mae: 0.39551 |  0:00:02s\n",
      "epoch 32 | loss: 0.29664 | train_mse: 0.28444 | train_mae: 0.39287 |  0:00:02s\n",
      "epoch 33 | loss: 0.18179 | train_mse: 0.26145 | train_mae: 0.36731 |  0:00:02s\n"
     ]
    },
    {
     "name": "stdout",
     "output_type": "stream",
     "text": [
      "epoch 34 | loss: 0.49544 | train_mse: 0.25284 | train_mae: 0.3544  |  0:00:02s\n",
      "epoch 35 | loss: 0.25394 | train_mse: 0.23454 | train_mae: 0.33806 |  0:00:02s\n",
      "epoch 36 | loss: 0.24358 | train_mse: 0.17262 | train_mae: 0.30607 |  0:00:03s\n"
     ]
    },
    {
     "name": "stdout",
     "output_type": "stream",
     "text": [
      "epoch 37 | loss: 0.4638  | train_mse: 0.14635 | train_mae: 0.29854 |  0:00:03s\n"
     ]
    },
    {
     "name": "stdout",
     "output_type": "stream",
     "text": [
      "epoch 38 | loss: 0.25039 | train_mse: 0.14504 | train_mae: 0.28585 |  0:00:03s\n"
     ]
    },
    {
     "name": "stdout",
     "output_type": "stream",
     "text": [
      "epoch 39 | loss: 0.30315 | train_mse: 0.14493 | train_mae: 0.29434 |  0:00:03s\n"
     ]
    },
    {
     "name": "stdout",
     "output_type": "stream",
     "text": [
      "epoch 40 | loss: 0.21282 | train_mse: 0.14134 | train_mae: 0.28903 |  0:00:03s\n",
      "epoch 41 | loss: 0.30299 | train_mse: 0.14063 | train_mae: 0.28663 |  0:00:04s\n"
     ]
    },
    {
     "name": "stdout",
     "output_type": "stream",
     "text": [
      "epoch 42 | loss: 0.1889  | train_mse: 0.12985 | train_mae: 0.27331 |  0:00:04s\n"
     ]
    },
    {
     "name": "stdout",
     "output_type": "stream",
     "text": [
      "epoch 43 | loss: 0.24789 | train_mse: 0.12925 | train_mae: 0.26204 |  0:00:04s\n"
     ]
    },
    {
     "name": "stdout",
     "output_type": "stream",
     "text": [
      "epoch 44 | loss: 0.19    | train_mse: 0.11972 | train_mae: 0.26112 |  0:00:05s\n",
      "epoch 45 | loss: 0.45626 | train_mse: 0.13531 | train_mae: 0.27497 |  0:00:05s\n"
     ]
    },
    {
     "name": "stdout",
     "output_type": "stream",
     "text": [
      "epoch 46 | loss: 0.38397 | train_mse: 0.12957 | train_mae: 0.27537 |  0:00:05s\n",
      "epoch 47 | loss: 0.21259 | train_mse: 0.13559 | train_mae: 0.2746  |  0:00:05s\n"
     ]
    },
    {
     "name": "stdout",
     "output_type": "stream",
     "text": [
      "epoch 48 | loss: 0.2744  | train_mse: 0.14085 | train_mae: 0.28812 |  0:00:05s\n"
     ]
    },
    {
     "name": "stdout",
     "output_type": "stream",
     "text": [
      "epoch 49 | loss: 0.20379 | train_mse: 0.12481 | train_mae: 0.26624 |  0:00:06s\n"
     ]
    },
    {
     "name": "stdout",
     "output_type": "stream",
     "text": [
      "epoch 50 | loss: 0.17721 | train_mse: 0.15554 | train_mae: 0.28597 |  0:00:06s\n"
     ]
    },
    {
     "name": "stdout",
     "output_type": "stream",
     "text": [
      "epoch 51 | loss: 0.17231 | train_mse: 0.14439 | train_mae: 0.2681  |  0:00:06s\n",
      "epoch 52 | loss: 0.25012 | train_mse: 0.13355 | train_mae: 0.27494 |  0:00:06s\n"
     ]
    },
    {
     "name": "stdout",
     "output_type": "stream",
     "text": [
      "epoch 53 | loss: 0.18687 | train_mse: 0.15292 | train_mae: 0.28499 |  0:00:06s\n"
     ]
    },
    {
     "name": "stdout",
     "output_type": "stream",
     "text": [
      "epoch 54 | loss: 0.24905 | train_mse: 0.1657  | train_mae: 0.29431 |  0:00:07s\n",
      "epoch 55 | loss: 0.16211 | train_mse: 0.13825 | train_mae: 0.28018 |  0:00:07s\n"
     ]
    },
    {
     "name": "stdout",
     "output_type": "stream",
     "text": [
      "epoch 56 | loss: 0.15702 | train_mse: 0.13607 | train_mae: 0.27671 |  0:00:07s\n",
      "epoch 57 | loss: 0.30092 | train_mse: 0.15909 | train_mae: 0.30336 |  0:00:07s\n"
     ]
    },
    {
     "name": "stdout",
     "output_type": "stream",
     "text": [
      "epoch 58 | loss: 0.25258 | train_mse: 0.19707 | train_mae: 0.32962 |  0:00:07s\n"
     ]
    },
    {
     "name": "stdout",
     "output_type": "stream",
     "text": [
      "epoch 59 | loss: 0.32629 | train_mse: 0.21685 | train_mae: 0.34459 |  0:00:08s\n",
      "epoch 60 | loss: 0.29991 | train_mse: 0.20874 | train_mae: 0.3348  |  0:00:08s\n",
      "epoch 61 | loss: 0.21551 | train_mse: 0.20922 | train_mae: 0.34741 |  0:00:08s\n"
     ]
    },
    {
     "name": "stdout",
     "output_type": "stream",
     "text": [
      "epoch 62 | loss: 0.25303 | train_mse: 0.2003  | train_mae: 0.32702 |  0:00:08s\n",
      "epoch 63 | loss: 0.20697 | train_mse: 0.12377 | train_mae: 0.26755 |  0:00:08s\n"
     ]
    },
    {
     "name": "stdout",
     "output_type": "stream",
     "text": [
      "epoch 64 | loss: 0.21024 | train_mse: 0.13523 | train_mae: 0.2772  |  0:00:08s\n",
      "epoch 65 | loss: 0.24231 | train_mse: 0.14849 | train_mae: 0.28183 |  0:00:08s\n",
      "epoch 66 | loss: 0.18971 | train_mse: 0.21198 | train_mae: 0.32711 |  0:00:08s\n"
     ]
    },
    {
     "name": "stdout",
     "output_type": "stream",
     "text": [
      "epoch 67 | loss: 0.23082 | train_mse: 0.23867 | train_mae: 0.34479 |  0:00:08s\n",
      "epoch 68 | loss: 0.1651  | train_mse: 0.30342 | train_mae: 0.37197 |  0:00:09s\n"
     ]
    },
    {
     "name": "stdout",
     "output_type": "stream",
     "text": [
      "epoch 69 | loss: 0.17039 | train_mse: 0.18924 | train_mae: 0.31627 |  0:00:09s\n"
     ]
    },
    {
     "name": "stdout",
     "output_type": "stream",
     "text": [
      "epoch 70 | loss: 0.46838 | train_mse: 0.12033 | train_mae: 0.27615 |  0:00:09s\n",
      "epoch 71 | loss: 0.13942 | train_mse: 0.11371 | train_mae: 0.25899 |  0:00:10s\n"
     ]
    },
    {
     "name": "stdout",
     "output_type": "stream",
     "text": [
      "epoch 72 | loss: 0.13692 | train_mse: 0.11568 | train_mae: 0.26649 |  0:00:10s\n",
      "epoch 73 | loss: 0.22833 | train_mse: 0.1788  | train_mae: 0.31441 |  0:00:10s\n",
      "epoch 74 | loss: 0.14985 | train_mse: 0.24809 | train_mae: 0.34279 |  0:00:10s\n",
      "epoch 75 | loss: 0.13709 | train_mse: 0.24114 | train_mae: 0.32969 |  0:00:10s\n"
     ]
    },
    {
     "name": "stdout",
     "output_type": "stream",
     "text": [
      "epoch 76 | loss: 0.14865 | train_mse: 0.13189 | train_mae: 0.26683 |  0:00:10s\n",
      "epoch 77 | loss: 0.15649 | train_mse: 0.08686 | train_mae: 0.23165 |  0:00:10s\n",
      "epoch 78 | loss: 0.26725 | train_mse: 0.09216 | train_mae: 0.23576 |  0:00:10s\n"
     ]
    },
    {
     "name": "stdout",
     "output_type": "stream",
     "text": [
      "epoch 79 | loss: 0.21953 | train_mse: 0.11666 | train_mae: 0.25188 |  0:00:10s\n",
      "epoch 80 | loss: 0.14387 | train_mse: 0.10183 | train_mae: 0.24872 |  0:00:10s\n",
      "epoch 81 | loss: 0.12891 | train_mse: 0.09842 | train_mae: 0.23942 |  0:00:10s\n"
     ]
    },
    {
     "name": "stdout",
     "output_type": "stream",
     "text": [
      "epoch 82 | loss: 0.21018 | train_mse: 0.11334 | train_mae: 0.24142 |  0:00:10s\n",
      "epoch 83 | loss: 0.11534 | train_mse: 0.10721 | train_mae: 0.23275 |  0:00:10s\n",
      "epoch 84 | loss: 0.16484 | train_mse: 0.08767 | train_mae: 0.22585 |  0:00:11s\n"
     ]
    },
    {
     "name": "stdout",
     "output_type": "stream",
     "text": [
      "epoch 85 | loss: 0.11797 | train_mse: 0.07014 | train_mae: 0.20668 |  0:00:11s\n",
      "epoch 86 | loss: 0.23595 | train_mse: 0.11033 | train_mae: 0.24325 |  0:00:11s\n",
      "epoch 87 | loss: 0.24483 | train_mse: 0.11918 | train_mae: 0.25205 |  0:00:11s\n",
      "epoch 88 | loss: 0.14414 | train_mse: 0.13835 | train_mae: 0.26718 |  0:00:11s\n"
     ]
    },
    {
     "name": "stdout",
     "output_type": "stream",
     "text": [
      "epoch 89 | loss: 0.09909 | train_mse: 0.11409 | train_mae: 0.24109 |  0:00:11s\n",
      "epoch 90 | loss: 0.11556 | train_mse: 0.07256 | train_mae: 0.20407 |  0:00:11s\n",
      "epoch 91 | loss: 0.24657 | train_mse: 0.07769 | train_mae: 0.2181  |  0:00:11s\n"
     ]
    },
    {
     "name": "stdout",
     "output_type": "stream",
     "text": [
      "epoch 92 | loss: 0.32353 | train_mse: 0.1029  | train_mae: 0.24093 |  0:00:11s\n",
      "epoch 93 | loss: 0.14674 | train_mse: 0.16922 | train_mae: 0.28212 |  0:00:11s\n",
      "epoch 94 | loss: 0.11083 | train_mse: 0.22813 | train_mae: 0.30998 |  0:00:11s\n"
     ]
    },
    {
     "name": "stdout",
     "output_type": "stream",
     "text": [
      "epoch 95 | loss: 0.32301 | train_mse: 0.22702 | train_mae: 0.30302 |  0:00:11s\n",
      "epoch 96 | loss: 0.24938 | train_mse: 0.17629 | train_mae: 0.27003 |  0:00:11s\n",
      "epoch 97 | loss: 0.1196  | train_mse: 0.17251 | train_mae: 0.27058 |  0:00:12s\n"
     ]
    },
    {
     "name": "stdout",
     "output_type": "stream",
     "text": [
      "epoch 98 | loss: 0.17482 | train_mse: 0.16325 | train_mae: 0.26973 |  0:00:12s\n",
      "epoch 99 | loss: 0.12058 | train_mse: 0.12542 | train_mae: 0.24858 |  0:00:12s\n",
      "epoch 100| loss: 0.30641 | train_mse: 0.10367 | train_mae: 0.23565 |  0:00:12s\n"
     ]
    },
    {
     "name": "stdout",
     "output_type": "stream",
     "text": [
      "epoch 101| loss: 0.12596 | train_mse: 0.11509 | train_mae: 0.23998 |  0:00:12s\n",
      "epoch 102| loss: 0.12168 | train_mse: 0.14615 | train_mae: 0.2606  |  0:00:12s\n"
     ]
    },
    {
     "name": "stdout",
     "output_type": "stream",
     "text": [
      "epoch 103| loss: 0.14477 | train_mse: 0.17216 | train_mae: 0.27674 |  0:00:12s\n",
      "epoch 104| loss: 0.12562 | train_mse: 0.14051 | train_mae: 0.26047 |  0:00:12s\n",
      "epoch 105| loss: 0.34602 | train_mse: 0.09073 | train_mae: 0.22615 |  0:00:12s\n"
     ]
    },
    {
     "name": "stdout",
     "output_type": "stream",
     "text": [
      "epoch 106| loss: 0.10604 | train_mse: 0.08699 | train_mae: 0.22449 |  0:00:12s\n",
      "epoch 107| loss: 0.25758 | train_mse: 0.0888  | train_mae: 0.22032 |  0:00:12s\n",
      "epoch 108| loss: 0.12203 | train_mse: 0.09043 | train_mae: 0.22236 |  0:00:12s\n",
      "epoch 109| loss: 0.24169 | train_mse: 0.08622 | train_mae: 0.2187  |  0:00:13s\n"
     ]
    },
    {
     "name": "stdout",
     "output_type": "stream",
     "text": [
      "epoch 110| loss: 0.14394 | train_mse: 0.19492 | train_mae: 0.25825 |  0:00:13s\n",
      "epoch 111| loss: 0.36188 | train_mse: 0.33593 | train_mae: 0.35647 |  0:00:13s\n",
      "epoch 112| loss: 0.15805 | train_mse: 0.21547 | train_mae: 0.33127 |  0:00:13s\n",
      "epoch 113| loss: 0.10628 | train_mse: 0.15735 | train_mae: 0.29135 |  0:00:13s\n"
     ]
    },
    {
     "name": "stdout",
     "output_type": "stream",
     "text": [
      "epoch 114| loss: 0.13087 | train_mse: 0.07281 | train_mae: 0.21004 |  0:00:13s\n",
      "epoch 115| loss: 0.12031 | train_mse: 0.07475 | train_mae: 0.20901 |  0:00:13s\n",
      "epoch 116| loss: 0.08471 | train_mse: 0.14318 | train_mae: 0.27288 |  0:00:13s\n"
     ]
    },
    {
     "name": "stdout",
     "output_type": "stream",
     "text": [
      "epoch 117| loss: 0.18433 | train_mse: 0.17679 | train_mae: 0.29834 |  0:00:13s\n",
      "epoch 118| loss: 0.13754 | train_mse: 0.09077 | train_mae: 0.21776 |  0:00:13s\n",
      "epoch 119| loss: 0.09607 | train_mse: 0.06681 | train_mae: 0.18344 |  0:00:13s\n"
     ]
    },
    {
     "name": "stdout",
     "output_type": "stream",
     "text": [
      "epoch 120| loss: 0.12484 | train_mse: 0.08318 | train_mae: 0.20655 |  0:00:13s\n",
      "epoch 121| loss: 0.26972 | train_mse: 0.06996 | train_mae: 0.19605 |  0:00:13s\n",
      "epoch 122| loss: 0.11384 | train_mse: 0.08578 | train_mae: 0.21485 |  0:00:13s\n",
      "epoch 123| loss: 0.3041  | train_mse: 0.26115 | train_mae: 0.28291 |  0:00:13s\n"
     ]
    },
    {
     "name": "stdout",
     "output_type": "stream",
     "text": [
      "epoch 124| loss: 0.09326 | train_mse: 0.32022 | train_mae: 0.29671 |  0:00:14s\n"
     ]
    },
    {
     "name": "stdout",
     "output_type": "stream",
     "text": [
      "epoch 125| loss: 0.39287 | train_mse: 0.12632 | train_mae: 0.26711 |  0:00:14s\n"
     ]
    },
    {
     "name": "stdout",
     "output_type": "stream",
     "text": [
      "epoch 126| loss: 0.33655 | train_mse: 0.12134 | train_mae: 0.27352 |  0:00:14s\n",
      "epoch 127| loss: 0.36871 | train_mse: 0.09784 | train_mae: 0.24997 |  0:00:14s\n",
      "epoch 128| loss: 0.16071 | train_mse: 0.08256 | train_mae: 0.22463 |  0:00:14s\n"
     ]
    },
    {
     "name": "stdout",
     "output_type": "stream",
     "text": [
      "epoch 129| loss: 0.16397 | train_mse: 0.08318 | train_mae: 0.22373 |  0:00:14s\n",
      "epoch 130| loss: 0.16821 | train_mse: 0.09058 | train_mae: 0.22929 |  0:00:14s\n",
      "epoch 131| loss: 0.209   | train_mse: 0.09754 | train_mae: 0.23219 |  0:00:14s\n"
     ]
    },
    {
     "name": "stdout",
     "output_type": "stream",
     "text": [
      "epoch 132| loss: 0.27645 | train_mse: 0.1176  | train_mae: 0.25566 |  0:00:15s\n",
      "epoch 133| loss: 0.53166 | train_mse: 0.16854 | train_mae: 0.28749 |  0:00:15s\n",
      "epoch 134| loss: 0.12256 | train_mse: 0.19349 | train_mae: 0.30101 |  0:00:15s\n"
     ]
    },
    {
     "name": "stdout",
     "output_type": "stream",
     "text": [
      "epoch 135| loss: 0.27384 | train_mse: 0.19515 | train_mae: 0.30098 |  0:00:15s\n",
      "epoch 136| loss: 0.21621 | train_mse: 0.17469 | train_mae: 0.28602 |  0:00:15s\n",
      "epoch 137| loss: 0.09824 | train_mse: 0.15727 | train_mae: 0.27392 |  0:00:15s\n"
     ]
    },
    {
     "name": "stdout",
     "output_type": "stream",
     "text": [
      "epoch 138| loss: 0.14345 | train_mse: 0.13629 | train_mae: 0.26171 |  0:00:15s\n",
      "epoch 139| loss: 0.23319 | train_mse: 0.12246 | train_mae: 0.24689 |  0:00:15s\n",
      "epoch 140| loss: 0.17854 | train_mse: 0.15349 | train_mae: 0.2723  |  0:00:15s\n"
     ]
    },
    {
     "name": "stdout",
     "output_type": "stream",
     "text": [
      "epoch 141| loss: 0.28316 | train_mse: 0.20113 | train_mae: 0.30688 |  0:00:15s\n",
      "epoch 142| loss: 0.15681 | train_mse: 0.20077 | train_mae: 0.29938 |  0:00:15s\n"
     ]
    },
    {
     "name": "stdout",
     "output_type": "stream",
     "text": [
      "epoch 143| loss: 0.19912 | train_mse: 0.30146 | train_mae: 0.34028 |  0:00:16s\n",
      "epoch 144| loss: 0.11555 | train_mse: 0.33363 | train_mae: 0.34552 |  0:00:16s\n"
     ]
    },
    {
     "name": "stdout",
     "output_type": "stream",
     "text": [
      "epoch 145| loss: 0.12947 | train_mse: 0.30298 | train_mae: 0.33742 |  0:00:16s\n"
     ]
    },
    {
     "name": "stdout",
     "output_type": "stream",
     "text": [
      "epoch 146| loss: 0.19727 | train_mse: 0.22776 | train_mae: 0.31688 |  0:00:16s\n",
      "epoch 147| loss: 0.16573 | train_mse: 0.20996 | train_mae: 0.30206 |  0:00:16s\n"
     ]
    },
    {
     "name": "stdout",
     "output_type": "stream",
     "text": [
      "epoch 148| loss: 0.19045 | train_mse: 0.2408  | train_mae: 0.32546 |  0:00:17s\n",
      "epoch 149| loss: 0.11362 | train_mse: 0.28613 | train_mae: 0.34342 |  0:00:17s\n"
     ]
    },
    {
     "name": "stdout",
     "output_type": "stream",
     "text": [
      "epoch 150| loss: 0.12616 | train_mse: 0.29609 | train_mae: 0.33746 |  0:00:17s\n"
     ]
    },
    {
     "name": "stdout",
     "output_type": "stream",
     "text": [
      "epoch 151| loss: 0.13964 | train_mse: 0.29515 | train_mae: 0.33809 |  0:00:17s\n",
      "epoch 152| loss: 0.10358 | train_mse: 0.2386  | train_mae: 0.32548 |  0:00:17s\n"
     ]
    },
    {
     "name": "stdout",
     "output_type": "stream",
     "text": [
      "epoch 153| loss: 0.12529 | train_mse: 0.20133 | train_mae: 0.30846 |  0:00:18s\n"
     ]
    },
    {
     "name": "stdout",
     "output_type": "stream",
     "text": [
      "epoch 154| loss: 0.10049 | train_mse: 0.16646 | train_mae: 0.2859  |  0:00:18s\n"
     ]
    },
    {
     "name": "stdout",
     "output_type": "stream",
     "text": [
      "epoch 155| loss: 0.17033 | train_mse: 0.13778 | train_mae: 0.25867 |  0:00:18s\n",
      "epoch 156| loss: 0.23947 | train_mse: 0.13129 | train_mae: 0.25684 |  0:00:19s\n"
     ]
    },
    {
     "name": "stdout",
     "output_type": "stream",
     "text": [
      "epoch 157| loss: 0.12328 | train_mse: 0.11382 | train_mae: 0.25321 |  0:00:19s\n",
      "epoch 158| loss: 0.1032  | train_mse: 0.11126 | train_mae: 0.24551 |  0:00:19s\n",
      "epoch 159| loss: 0.26425 | train_mse: 0.11891 | train_mae: 0.24665 |  0:00:19s\n"
     ]
    },
    {
     "name": "stdout",
     "output_type": "stream",
     "text": [
      "epoch 160| loss: 0.1209  | train_mse: 0.09859 | train_mae: 0.23108 |  0:00:19s\n",
      "epoch 161| loss: 0.1777  | train_mse: 0.08553 | train_mae: 0.22682 |  0:00:20s\n"
     ]
    },
    {
     "name": "stdout",
     "output_type": "stream",
     "text": [
      "epoch 162| loss: 0.19813 | train_mse: 0.08218 | train_mae: 0.22169 |  0:00:20s\n",
      "epoch 163| loss: 0.15895 | train_mse: 0.079   | train_mae: 0.20752 |  0:00:20s\n"
     ]
    },
    {
     "name": "stdout",
     "output_type": "stream",
     "text": [
      "epoch 164| loss: 0.15221 | train_mse: 0.07002 | train_mae: 0.19127 |  0:00:20s\n",
      "epoch 165| loss: 0.11446 | train_mse: 0.07382 | train_mae: 0.194   |  0:00:20s\n"
     ]
    },
    {
     "name": "stdout",
     "output_type": "stream",
     "text": [
      "epoch 166| loss: 0.19941 | train_mse: 0.07212 | train_mae: 0.19797 |  0:00:21s\n"
     ]
    },
    {
     "name": "stdout",
     "output_type": "stream",
     "text": [
      "epoch 167| loss: 0.2891  | train_mse: 0.07556 | train_mae: 0.20217 |  0:00:21s\n",
      "epoch 168| loss: 0.22361 | train_mse: 0.10746 | train_mae: 0.23951 |  0:00:21s\n"
     ]
    },
    {
     "name": "stdout",
     "output_type": "stream",
     "text": [
      "epoch 169| loss: 0.17497 | train_mse: 0.13461 | train_mae: 0.24696 |  0:00:21s\n",
      "\n",
      "Early stopping occurred at epoch 169 with best_epoch = 119 and best_train_mae = 0.18344\n",
      "Best weights from best epoch are automatically used!\n"
     ]
    }
   ],
   "source": [
    "#Train the Model\n",
    "\n",
    "Y_train = np.reshape(Y_train, (-1, 1))\n",
    "Y_test = np.reshape(Y_test, (-1, 1))\n",
    "\n",
    "prior_model = TabNetRegressor(optimizer_fn=torch.optim.Adam, optimizer_params=dict(lr = 0.02),\n",
    "          #scheduler_params={\"step_size\":10, ], \"gamma\":0.9},\n",
    "          #scheduler_fn=torch.optim.lr_scheduler.StepLR\n",
    "          )  #TabNetRegressor()\n",
    "\n",
    "prior_model.fit(X_train,Y_train,eval_set=[(X_train, Y_train)],\n",
    "            eval_name=['train'], \n",
    "            eval_metric=[ 'mse', 'mae'], \n",
    "            max_epochs = n_epochs, \n",
    "            batch_size = batch_size,\n",
    "            patience=50\n",
    "            )"
   ]
  },
  {
   "cell_type": "code",
   "execution_count": 10,
   "id": "af65dcda",
   "metadata": {
    "execution": {
     "iopub.execute_input": "2022-06-22T13:07:31.681071Z",
     "iopub.status.busy": "2022-06-22T13:07:31.678242Z",
     "iopub.status.idle": "2022-06-22T13:07:31.730532Z",
     "shell.execute_reply": "2022-06-22T13:07:31.731701Z"
    },
    "id": "af65dcda",
    "papermill": {
     "duration": 0.140266,
     "end_time": "2022-06-22T13:07:31.732517",
     "exception": false,
     "start_time": "2022-06-22T13:07:31.592251",
     "status": "completed"
    },
    "tags": []
   },
   "outputs": [
    {
     "data": {
      "application/scrapbook.scrap.json+json": {
       "data": 0.4101441130185782,
       "encoder": "json",
       "name": "Prior Model MSE",
       "version": 1
      }
     },
     "metadata": {
      "scrapbook": {
       "data": true,
       "display": false,
       "name": "Prior Model MSE"
      }
     },
     "output_type": "display_data"
    },
    {
     "data": {
      "application/scrapbook.scrap.json+json": {
       "data": 0.41245649650669447,
       "encoder": "json",
       "name": "ABC Pre-generator MSE",
       "version": 1
      }
     },
     "metadata": {
      "scrapbook": {
       "data": true,
       "display": false,
       "name": "ABC Pre-generator MSE"
      }
     },
     "output_type": "display_data"
    },
    {
     "data": {
      "application/scrapbook.scrap.json+json": {
       "data": 0.4624115198881757,
       "encoder": "json",
       "name": "Prior Model MSE",
       "version": 1
      }
     },
     "metadata": {
      "scrapbook": {
       "data": true,
       "display": false,
       "name": "Prior Model MSE"
      }
     },
     "output_type": "display_data"
    },
    {
     "data": {
      "application/scrapbook.scrap.json+json": {
       "data": 0.4688388249801668,
       "encoder": "json",
       "name": "ABC Pre-generator MSE",
       "version": 1
      }
     },
     "metadata": {
      "scrapbook": {
       "data": true,
       "display": false,
       "name": "ABC Pre-generator MSE"
      }
     },
     "output_type": "display_data"
    }
   ],
   "source": [
    "y_pred = prior_model.predict(X_test)\n",
    "y_abc = y_pred + np.random.normal(0,variance, y_pred.shape) + bias \n",
    "mse = mean_squared_error(y_pred,Y_test)\n",
    "sb.glue(\"Prior Model MSE\",mse)\n",
    "mse = mean_squared_error(y_abc,Y_test)\n",
    "sb.glue(\"ABC Pre-generator MSE\",mse)\n",
    "mae = mean_absolute_error(y_pred,Y_test)\n",
    "sb.glue(\"Prior Model MSE\",mae)\n",
    "mae = mean_absolute_error(y_abc,Y_test)\n",
    "sb.glue(\"ABC Pre-generator MSE\",mae)"
   ]
  },
  {
   "cell_type": "markdown",
   "id": "25609da2",
   "metadata": {
    "papermill": {
     "duration": 0.077835,
     "end_time": "2022-06-22T13:07:31.862793",
     "exception": false,
     "start_time": "2022-06-22T13:07:31.784958",
     "status": "completed"
    },
    "tags": []
   },
   "source": [
    "# ABC GAN Model"
   ]
  },
  {
   "cell_type": "code",
   "execution_count": 11,
   "id": "dfc3464d",
   "metadata": {
    "execution": {
     "iopub.execute_input": "2022-06-22T13:07:31.960475Z",
     "iopub.status.busy": "2022-06-22T13:07:31.958835Z",
     "iopub.status.idle": "2022-06-22T13:07:31.962978Z",
     "shell.execute_reply": "2022-06-22T13:07:31.964014Z"
    },
    "papermill": {
     "duration": 0.059092,
     "end_time": "2022-06-22T13:07:31.966578",
     "exception": false,
     "start_time": "2022-06-22T13:07:31.907486",
     "status": "completed"
    },
    "tags": []
   },
   "outputs": [],
   "source": [
    "gen = network.Generator(n_features+1).to(device)\n",
    "disc = network.Discriminator(n_features+1).to(device)\n",
    "\n",
    "criterion = torch.nn.BCELoss()\n",
    "gen_opt = torch.optim.Adam(gen.parameters(), lr=0.001, betas=(0.5, 0.999))\n",
    "disc_opt = torch.optim.Adam(disc.parameters(), lr=0.001, betas=(0.5, 0.999))"
   ]
  },
  {
   "cell_type": "code",
   "execution_count": 12,
   "id": "b75fdd85",
   "metadata": {
    "execution": {
     "iopub.execute_input": "2022-06-22T13:07:32.105812Z",
     "iopub.status.busy": "2022-06-22T13:07:32.104963Z",
     "iopub.status.idle": "2022-06-22T13:08:16.259602Z",
     "shell.execute_reply": "2022-06-22T13:08:16.260095Z"
    },
    "papermill": {
     "duration": 44.227972,
     "end_time": "2022-06-22T13:08:16.260317",
     "exception": false,
     "start_time": "2022-06-22T13:07:32.032345",
     "status": "completed"
    },
    "tags": []
   },
   "outputs": [
    {
     "data": {
      "image/png": "[encoded data removed]",
      "text/plain": [
       "<Figure size 432x288 with 1 Axes>"
      ]
     },
     "metadata": {
      "needs_background": "light"
     },
     "output_type": "display_data"
    },
    {
     "data": {
      "image/png": "[encoded data removed]",
      "text/plain": [
       "<Figure size 432x288 with 1 Axes>"
      ]
     },
     "metadata": {
      "needs_background": "light"
     },
     "output_type": "display_data"
    }
   ],
   "source": [
    "#Training the ABC_GAN \n",
    "ABC_train_test2.training_GAN(disc,gen,disc_opt,gen_opt,train_data,batch_size,n_epochs,criterion,prior_model,variance,bias,device)"
   ]
  },
  {
   "cell_type": "code",
   "execution_count": 13,
   "id": "1fa7c368",
   "metadata": {
    "execution": {
     "iopub.execute_input": "2022-06-22T13:08:16.365529Z",
     "iopub.status.busy": "2022-06-22T13:08:16.364834Z",
     "iopub.status.idle": "2022-06-22T13:08:17.010070Z",
     "shell.execute_reply": "2022-06-22T13:08:17.010679Z"
    },
    "papermill": {
     "duration": 0.710017,
     "end_time": "2022-06-22T13:08:17.010910",
     "exception": false,
     "start_time": "2022-06-22T13:08:16.300893",
     "status": "completed"
    },
    "tags": []
   },
   "outputs": [
    {
     "data": {
      "application/scrapbook.scrap.json+json": {
       "data": 0.28647791589725907,
       "encoder": "json",
       "name": "ABC-GAN Model 1 MSE",
       "version": 1
      }
     },
     "metadata": {
      "scrapbook": {
       "data": true,
       "display": false,
       "name": "ABC-GAN Model 1 MSE"
      }
     },
     "output_type": "display_data"
    },
    {
     "data": {
      "application/scrapbook.scrap.json+json": {
       "data": 0.39055227032769474,
       "encoder": "json",
       "name": "ABC-GAN Model 1 MAE",
       "version": 1
      }
     },
     "metadata": {
      "scrapbook": {
       "data": true,
       "display": false,
       "name": "ABC-GAN Model 1 MAE"
      }
     },
     "output_type": "display_data"
    },
    {
     "data": {
      "application/scrapbook.scrap.json+json": {
       "data": 7.811045406553895,
       "encoder": "json",
       "name": "ABC-GAN Model 1 Manhattan Distance",
       "version": 1
      }
     },
     "metadata": {
      "scrapbook": {
       "data": true,
       "display": false,
       "name": "ABC-GAN Model 1 Manhattan Distance"
      }
     },
     "output_type": "display_data"
    },
    {
     "data": {
      "application/scrapbook.scrap.json+json": {
       "data": 2.3903357832212535,
       "encoder": "json",
       "name": "ABC-GAN Model 1 Euclidean distance",
       "version": 1
      }
     },
     "metadata": {
      "scrapbook": {
       "data": true,
       "display": false,
       "name": "ABC-GAN Model 1 Euclidean distance"
      }
     },
     "output_type": "display_data"
    },
    {
     "data": {
      "application/scrapbook.scrap.json+json": {
       "data": [
        [
         0.3085576812200601,
         0.2839133275382023,
         0.26967609713299506,
         0.2539398974008703,
         0.2720959459991931,
         0.27987145644054634,
         0.276142125920037,
         0.27945112632681746,
         0.2775908051950981,
         0.28735770997477783,
         0.26937490034667155,
         0.34377335668990744,
         0.2570067245699651,
         0.298409628449781,
         0.22695267740968683,
         0.27128048238800473,
         0.28256517994287994,
         0.2975725039578888,
         0.2664653043465343,
         0.26860386539176556,
         0.31444170820203665,
         0.30193219209903893,
         0.28905778161221307,
         0.2720070904563544,
         0.24405303067339817,
         0.32548682885378727,
         0.2616627604102143,
         0.3491106675426203,
         0.25120371757819304,
         0.2873701902885212,
         0.2930245538226722,
         0.26091801540038445,
         0.2885287398693218,
         0.26013990324307057,
         0.30534295131801575,
         0.27032355792494217,
         0.2873983457059621,
         0.2865769673278021,
         0.2556956984606004,
         0.2302146950034786,
         0.2527798262979909,
         0.28442583995310033,
         0.31158692371054625,
         0.3424708282901765,
         0.2741786339788009,
         0.3546369298693395,
         0.27148818281777326,
         0.24691983199120826,
         0.28659470970628453,
         0.27477660012147354,
         0.2877586120169011,
         0.30905804607523824,
         0.29642399290927146,
         0.2776164385754032,
         0.2729912425926587,
         0.29657409322666595,
         0.2488514791991494,
         0.24775104103376738,
         0.301431266213777,
         0.2828813058732521,
         0.2879252283623269,
         0.25152275310849304,
         0.2730613659832478,
         0.35693577461564074,
         0.3034354292306294,
         0.27229866880956977,
         0.28624650078131253,
         0.2669836331922369,
         0.26258806865404377,
         0.2554174835534993,
         0.2936729406875367,
         0.3469759526633673,
         0.24762718655678778,
         0.28812135373808867,
         0.25277742994560043,
         0.30461362851374163,
         0.3052560735669275,
         0.24276980719144814,
         0.3415338283836127,
         0.30078044379119373,
         0.2950424435993891,
         0.2752160568034306,
         0.3730621689179293,
         0.28291917368219466,
         0.3147369784529924,
         0.3255456920065877,
         0.30956887584002646,
         0.2398117628750603,
         0.27291808911539517,
         0.32306958809362263,
         0.2854723525595736,
         0.3685192635408044,
         0.31010903373486254,
         0.3218256223139145,
         0.2838681571143008,
         0.252727627789582,
         0.269432296161075,
         0.2499626349617948,
         0.34230377772721965,
         0.28485042621975587
        ],
        [
         0.3934857934713364,
         0.38992550410330296,
         0.3846383776515722,
         0.3717232800088823,
         0.3777252357453108,
         0.3874420213513076,
         0.3805173344910145,
         0.3849438214674592,
         0.37496437020599843,
         0.3719424203038216,
         0.37664813473820685,
         0.41165927713736894,
         0.372407828271389,
         0.40414115963503716,
         0.3666778246872127,
         0.38087720815092324,
         0.38840475790202617,
         0.3939904633909464,
         0.39398670587688683,
         0.3921615513972938,
         0.4019953324459493,
         0.41205107122659684,
         0.385088961198926,
         0.38207996524870397,
         0.3765588730573654,
         0.39998910753056405,
         0.39408717676997185,
         0.41588061340153215,
         0.37646509138867257,
         0.3975326202809811,
         0.41216269163414837,
         0.38084269538521764,
         0.3881487525999546,
         0.37653852440416813,
         0.40712506202980875,
         0.38407598361372947,
         0.4028711158782244,
         0.38693113178014754,
         0.3743590176105499,
         0.3603959120810032,
         0.37423075176775455,
         0.3729373554699123,
         0.39665074637159703,
         0.4160978431813419,
         0.3821980721317232,
         0.4221757534891367,
         0.38790039978921415,
         0.3635181786492467,
         0.39633349180221555,
         0.3943628765642643,
         0.39787174863740804,
         0.4021282184869051,
         0.4097338918596506,
         0.3848346228711307,
         0.3852423444390297,
         0.3796905244700611,
         0.3762609209865332,
         0.36474216245114804,
         0.375884797424078,
         0.37694644741714,
         0.38680775044485927,
         0.38558565489947794,
         0.39886722778901457,
         0.4107021693140268,
         0.4114439716562629,
         0.3770681921392679,
         0.39671056931838394,
         0.3753114535473287,
         0.38072534603998065,
         0.37172525711357596,
         0.3957371893338859,
         0.41207246109843254,
         0.36807281486690047,
         0.4049186684191227,
         0.38618271006271243,
         0.40058638267219066,
         0.4052985238842666,
         0.3672570905648172,
         0.4124869323335588,
         0.3958209156990051,
         0.39909105338156226,
         0.38037294074892997,
         0.43645677231252195,
         0.392271676287055,
         0.40130991730839016,
         0.416106419544667,
         0.4102874404750764,
         0.3628553576767445,
         0.3952997673302889,
         0.39707246571779253,
         0.3842146959155798,
         0.41417548758909106,
         0.41254400489851834,
         0.3912811703979969,
         0.38575811833143236,
         0.38255916014313696,
         0.3891894741915166,
         0.36652845619246366,
         0.426695966348052,
         0.394591488968581
        ],
        [
         7.869715869426727,
         7.798510082066059,
         7.6927675530314445,
         7.434465600177646,
         7.554504714906216,
         7.748840427026153,
         7.61034668982029,
         7.698876429349184,
         7.499287404119968,
         7.438848406076431,
         7.532962694764137,
         8.233185542747378,
         7.44815656542778,
         8.082823192700744,
         7.333556493744254,
         7.617544163018465,
         7.7680951580405235,
         7.879809267818928,
         7.879734117537737,
         7.843231027945876,
         8.039906648918986,
         8.241021424531937,
         7.701779223978519,
         7.641599304974079,
         7.531177461147308,
         7.999782150611281,
         7.881743535399437,
         8.317612268030643,
         7.529301827773452,
         7.950652405619621,
         8.243253832682967,
         7.616853907704353,
         7.762975051999092,
         7.530770488083363,
         8.142501240596175,
         7.6815196722745895,
         8.057422317564487,
         7.738622635602951,
         7.4871803522109985,
         7.207918241620064,
         7.484615035355091,
         7.458747109398246,
         7.933014927431941,
         8.321956863626838,
         7.643961442634463,
         8.443515069782734,
         7.758007995784283,
         7.270363572984934,
         7.9266698360443115,
         7.887257531285286,
         7.95743497274816,
         8.042564369738102,
         8.194677837193012,
         7.696692457422614,
         7.704846888780594,
         7.593810489401221,
         7.525218419730663,
         7.294843249022961,
         7.51769594848156,
         7.5389289483428,
         7.736155008897185,
         7.711713097989559,
         7.977344555780292,
         8.214043386280537,
         8.228879433125257,
         7.541363842785358,
         7.934211386367679,
         7.506229070946574,
         7.614506920799613,
         7.434505142271519,
         7.914743786677718,
         8.24144922196865,
         7.361456297338009,
         8.098373368382454,
         7.723654201254249,
         8.011727653443813,
         8.105970477685332,
         7.345141811296344,
         8.249738646671176,
         7.9164183139801025,
         7.981821067631245,
         7.6074588149785995,
         8.729135446250439,
         7.8454335257411,
         8.026198346167803,
         8.32212839089334,
         8.205748809501529,
         7.257107153534889,
         7.905995346605778,
         7.94144931435585,
         7.684293918311596,
         8.283509751781821,
         8.250880097970366,
         7.825623407959938,
         7.715162366628647,
         7.65118320286274,
         7.783789483830333,
         7.330569123849273,
         8.53391932696104,
         7.891829779371619
        ],
        [
         2.484180674669458,
         2.3829113602406715,
         2.3223957334312986,
         2.2536188559775154,
         2.3327920867458083,
         2.36588865520145,
         2.3500728751255227,
         2.3641113608576796,
         2.3562292129379014,
         2.3973222977930098,
         2.3210984483501407,
         2.622111197832416,
         2.267186470363499,
         2.4429884504425354,
         2.130505467769031,
         2.3292938088098922,
         2.3772470630663523,
         2.4395594026704446,
         2.308528987673901,
         2.317774214162223,
         2.507754805406767,
         2.4573652235638033,
         2.404403383844787,
         2.3324111578208266,
         2.209312248974319,
         2.5514185421203917,
         2.2876309160798396,
         2.6423878123493543,
         2.2414447018750785,
         2.397374356618178,
         2.4208451161636595,
         2.284373066731371,
         2.4022020725547706,
         2.2809642839951287,
         2.471205986226222,
         2.325181962449142,
         2.397491796465473,
         2.3940633547498367,
         2.2613964644024738,
         2.1457618460746226,
         2.2484653713054636,
         2.385061173023033,
         2.4963450230709143,
         2.617139003913153,
         2.341702944349692,
         2.663219592408179,
         2.3301853266114834,
         2.2222503548934727,
         2.39413746349822,
         2.3442551060900927,
         2.3989940058987274,
         2.48619406352456,
         2.434846988659745,
         2.3563380002682264,
         2.33662681056543,
         2.435463377785287,
         2.2309257235468394,
         2.2259876056877195,
         2.4553259099914904,
         2.3785764897234314,
         2.399688431285724,
         2.2428675980025794,
         2.336926896517081,
         2.6718374749061393,
         2.463474900341505,
         2.333660938566568,
         2.392682598178507,
         2.3107731744688267,
         2.2916721783625325,
         2.26016585034594,
         2.423521985406927,
         2.6342966904407987,
         2.2254311337661643,
         2.400505587321507,
         2.248454713555959,
         2.4682529388769767,
         2.470854401080434,
         2.203496345317814,
         2.6135563065815615,
         2.4526738217349395,
         2.4291662915469128,
         2.3461289683366964,
         2.731527663846476,
         2.378735688058657,
         2.5089319578378064,
         2.551649239243465,
         2.488247880899435,
         2.19003088049032,
         2.336313716586003,
         2.5419267813751936,
         2.3894449253312935,
         2.7148453493368803,
         2.4904177711173783,
         2.5370282706896052,
         2.3827217928843507,
         2.2482332076080636,
         2.3213457138525273,
         2.235900869724751,
         2.6165006314817494,
         2.3868406994173528
        ]
       ],
       "encoder": "json",
       "name": "ABC_GAN_1 Metrics",
       "version": 1
      }
     },
     "metadata": {
      "scrapbook": {
       "data": true,
       "display": false,
       "name": "ABC_GAN_1 Metrics"
      }
     },
     "output_type": "display_data"
    },
    {
     "name": "stdout",
     "output_type": "stream",
     "text": [
      "MSE\n",
      "0.28647791589725907\n"
     ]
    }
   ],
   "source": [
    "ABC_GAN1_metrics=ABC_train_test2.test_generator(gen,test_data,prior_model,variance,bias,\"1\",device)\n",
    "sb.glue(\"ABC_GAN_1 Metrics\",ABC_GAN1_metrics)\n",
    "\n",
    "print(\"MSE\")\n",
    "print(mean(ABC_GAN1_metrics[0]))"
   ]
  },
  {
   "cell_type": "code",
   "execution_count": 14,
   "id": "eb22ce5c",
   "metadata": {
    "execution": {
     "iopub.execute_input": "2022-06-22T13:08:17.098630Z",
     "iopub.status.busy": "2022-06-22T13:08:17.097961Z",
     "iopub.status.idle": "2022-06-22T13:08:17.853198Z",
     "shell.execute_reply": "2022-06-22T13:08:17.853662Z"
    },
    "papermill": {
     "duration": 0.800277,
     "end_time": "2022-06-22T13:08:17.853890",
     "exception": false,
     "start_time": "2022-06-22T13:08:17.053613",
     "status": "completed"
    },
    "tags": []
   },
   "outputs": [
    {
     "data": {
      "image/png": "[encoded data removed]",
      "text/plain": [
       "<Figure size 432x288 with 1 Axes>"
      ]
     },
     "metadata": {
      "needs_background": "light"
     },
     "output_type": "display_data"
    },
    {
     "data": {
      "image/png": "[encoded data removed]",
      "text/plain": [
       "<Figure size 432x288 with 1 Axes>"
      ]
     },
     "metadata": {
      "needs_background": "light"
     },
     "output_type": "display_data"
    },
    {
     "data": {
      "image/png": "[encoded data removed]",
      "text/plain": [
       "<Figure size 432x288 with 1 Axes>"
      ]
     },
     "metadata": {
      "needs_background": "light"
     },
     "output_type": "display_data"
    },
    {
     "data": {
      "image/png": "[encoded data removed]",
      "text/plain": [
       "<Figure size 432x288 with 1 Axes>"
      ]
     },
     "metadata": {
      "needs_background": "light"
     },
     "output_type": "display_data"
    }
   ],
   "source": [
    "sanityChecks.discProbVsError(train_data,disc,device)\n",
    "sanityChecks.discProbVsError(test_data,disc,device)"
   ]
  },
  {
   "cell_type": "markdown",
   "id": "130f3a4d",
   "metadata": {
    "id": "130f3a4d",
    "papermill": {
     "duration": 0.046472,
     "end_time": "2022-06-22T13:08:17.940822",
     "exception": false,
     "start_time": "2022-06-22T13:08:17.894350",
     "status": "completed"
    },
    "tags": []
   },
   "source": [
    "# ABC - GAN Model with skip connection"
   ]
  },
  {
   "cell_type": "code",
   "execution_count": 15,
   "id": "4e43dad1",
   "metadata": {
    "execution": {
     "iopub.execute_input": "2022-06-22T13:08:18.034904Z",
     "iopub.status.busy": "2022-06-22T13:08:18.034232Z",
     "iopub.status.idle": "2022-06-22T13:08:18.036228Z",
     "shell.execute_reply": "2022-06-22T13:08:18.037013Z"
    },
    "id": "4e43dad1",
    "papermill": {
     "duration": 0.051633,
     "end_time": "2022-06-22T13:08:18.037225",
     "exception": false,
     "start_time": "2022-06-22T13:08:17.985592",
     "status": "completed"
    },
    "tags": []
   },
   "outputs": [],
   "source": [
    "#Generator\n",
    "gen3 = network.GeneratorWithSkipConnection(n_features+1).to(device)\n",
    "constraints=network.weightConstraint()\n",
    "#Discriminator \n",
    "disc3 = network.Discriminator(n_features+1).to(device)\n",
    "\n",
    "criterion = torch.nn.BCELoss()\n",
    "gen_opt = torch.optim.Adam(gen3.parameters(), lr=0.001, betas=(0.5, 0.999))\n",
    "disc_opt = torch.optim.Adam(disc3.parameters(), lr=0.001, betas=(0.5, 0.999))\n"
   ]
  },
  {
   "cell_type": "code",
   "execution_count": 16,
   "id": "26acbc37",
   "metadata": {
    "execution": {
     "iopub.execute_input": "2022-06-22T13:08:18.130588Z",
     "iopub.status.busy": "2022-06-22T13:08:18.129862Z",
     "iopub.status.idle": "2022-06-22T13:09:26.073887Z",
     "shell.execute_reply": "2022-06-22T13:09:26.074591Z"
    },
    "id": "26acbc37",
    "papermill": {
     "duration": 67.996333,
     "end_time": "2022-06-22T13:09:26.074835",
     "exception": false,
     "start_time": "2022-06-22T13:08:18.078502",
     "status": "completed"
    },
    "tags": []
   },
   "outputs": [
    {
     "data": {
      "image/png": "[encoded data removed]",
      "text/plain": [
       "<Figure size 432x288 with 1 Axes>"
      ]
     },
     "metadata": {
      "needs_background": "light"
     },
     "output_type": "display_data"
    },
    {
     "data": {
      "image/png": "[encoded data removed]",
      "text/plain": [
       "<Figure size 432x288 with 1 Axes>"
      ]
     },
     "metadata": {
      "needs_background": "light"
     },
     "output_type": "display_data"
    }
   ],
   "source": [
    "ABC_train_test2.training_GAN_skip_connection(disc3,gen3,disc_opt,gen_opt,train_data,batch_size,n_epochs,criterion,prior_model,variance,bias,device)"
   ]
  },
  {
   "cell_type": "code",
   "execution_count": 17,
   "id": "c5e0717b",
   "metadata": {
    "execution": {
     "iopub.execute_input": "2022-06-22T13:09:26.209162Z",
     "iopub.status.busy": "2022-06-22T13:09:26.206942Z",
     "iopub.status.idle": "2022-06-22T13:09:27.355201Z",
     "shell.execute_reply": "2022-06-22T13:09:27.355814Z"
    },
    "id": "c5e0717b",
    "papermill": {
     "duration": 1.220709,
     "end_time": "2022-06-22T13:09:27.356192",
     "exception": false,
     "start_time": "2022-06-22T13:09:26.135483",
     "status": "completed"
    },
    "tags": []
   },
   "outputs": [
    {
     "data": {
      "application/scrapbook.scrap.json+json": {
       "data": 0.12886337193412375,
       "encoder": "json",
       "name": "ABC-GAN Model 3 MSE",
       "version": 1
      }
     },
     "metadata": {
      "scrapbook": {
       "data": true,
       "display": false,
       "name": "ABC-GAN Model 3 MSE"
      }
     },
     "output_type": "display_data"
    },
    {
     "data": {
      "application/scrapbook.scrap.json+json": {
       "data": 0.31078321451041846,
       "encoder": "json",
       "name": "ABC-GAN Model 3 MAE",
       "version": 1
      }
     },
     "metadata": {
      "scrapbook": {
       "data": true,
       "display": false,
       "name": "ABC-GAN Model 3 MAE"
      }
     },
     "output_type": "display_data"
    },
    {
     "data": {
      "application/scrapbook.scrap.json+json": {
       "data": 6.21566429020837,
       "encoder": "json",
       "name": "ABC-GAN Model 3 Manhattan Distance",
       "version": 1
      }
     },
     "metadata": {
      "scrapbook": {
       "data": true,
       "display": false,
       "name": "ABC-GAN Model 3 Manhattan Distance"
      }
     },
     "output_type": "display_data"
    },
    {
     "data": {
      "application/scrapbook.scrap.json+json": {
       "data": 1.6046838395119623,
       "encoder": "json",
       "name": "ABC-GAN Model 3 Euclidean distance",
       "version": 1
      }
     },
     "metadata": {
      "scrapbook": {
       "data": true,
       "display": false,
       "name": "ABC-GAN Model 3 Euclidean distance"
      }
     },
     "output_type": "display_data"
    },
    {
     "data": {
      "application/scrapbook.scrap.json+json": {
       "data": [
        [
         0.12184634296508738,
         0.12451338192591174,
         0.12044797244153034,
         0.13565953432024708,
         0.11856114753386433,
         0.1282053407018418,
         0.13176957730530328,
         0.11945661478873593,
         0.12412221964338484,
         0.1325701042912519,
         0.12368689484458831,
         0.13259457464277435,
         0.12626310498974305,
         0.12445069988156429,
         0.1161494766680962,
         0.13169357835943915,
         0.12516503590905864,
         0.11862960447968803,
         0.13090351460175148,
         0.1363801065003481,
         0.14679290009077164,
         0.1144699440490029,
         0.1335510187313409,
         0.13718319530216433,
         0.1387655241437075,
         0.12240718062960979,
         0.1407999521877663,
         0.1351228882402098,
         0.12287241742579669,
         0.12186436911931557,
         0.12226030218358855,
         0.134681358920034,
         0.12109871290264414,
         0.1451037409749416,
         0.128952859400274,
         0.12318991236537502,
         0.1269857950556191,
         0.11807166467241126,
         0.1287522711696747,
         0.1314203740533077,
         0.12739496281966442,
         0.11773549509735586,
         0.14038232538683357,
         0.1394829630182708,
         0.12126102163885433,
         0.13508844278169113,
         0.12732637870402735,
         0.12861675196495695,
         0.12717840418865706,
         0.12832771883144875,
         0.12464188985078425,
         0.12628068955639007,
         0.1209473549910431,
         0.14420072500158265,
         0.14807554082901303,
         0.14658165483424831,
         0.13162777643646734,
         0.1493346722863591,
         0.13548030945900905,
         0.13152209622654915,
         0.12712421894898948,
         0.12576635128054758,
         0.11744288507843863,
         0.11829827518829725,
         0.12228163075238144,
         0.12475195190187827,
         0.12143534101981064,
         0.12262095811489733,
         0.13190042070186841,
         0.12127275140633167,
         0.12717120359586284,
         0.1398597502446302,
         0.1338460974731527,
         0.13435444109171915,
         0.12762886945528015,
         0.1276060516342074,
         0.12966863707539197,
         0.1277492266613039,
         0.12281629717851636,
         0.12211956409949502,
         0.12847929512467987,
         0.12149813955253486,
         0.1384816081371349,
         0.12970831609798533,
         0.13008524780995692,
         0.11837529744836281,
         0.13461773823570217,
         0.1322517320313926,
         0.11549848180077697,
         0.13689496099522405,
         0.12931549085384295,
         0.1340957861614375,
         0.12575060126700408,
         0.13979855943995845,
         0.12809303367513877,
         0.13019539481256204,
         0.1262825860473452,
         0.13169814427432597,
         0.12556685908376966,
         0.1350326153452667
        ],
        [
         0.3012842383235693,
         0.3059691939502954,
         0.30055150426924226,
         0.3212317518889904,
         0.2955269791185856,
         0.30935625098645686,
         0.31639600209891794,
         0.30150632932782173,
         0.3026626627892256,
         0.3171364825218916,
         0.30997252352535726,
         0.3159198444336653,
         0.31003152932971717,
         0.30432775169610976,
         0.28810110278427603,
         0.3217928476631641,
         0.3098890963941813,
         0.2980556771159172,
         0.31659480817615987,
         0.320576349645853,
         0.3391740143299103,
         0.2966813903301954,
         0.3113224431872368,
         0.32301443554461,
         0.31819681227207186,
         0.30724099203944205,
         0.3294374864548445,
         0.3149234037846327,
         0.29716029204428196,
         0.2932188380509615,
         0.2962970118969679,
         0.31315629817545415,
         0.30326443649828433,
         0.33301055915653704,
         0.3040556486696005,
         0.3011792428791523,
         0.309953894931823,
         0.296002996340394,
         0.31175285801291464,
         0.3095823351293802,
         0.3069411929696798,
         0.29781472831964495,
         0.32937877289950845,
         0.31822833642363546,
         0.3013560626655817,
         0.3141633953899145,
         0.3217623570933938,
         0.31340751983225346,
         0.3183470282703638,
         0.312820041924715,
         0.30774122625589373,
         0.3097873512655497,
         0.301197062805295,
         0.3342921010218561,
         0.33134794495999814,
         0.3378658462315798,
         0.3136299468576908,
         0.32867227010428907,
         0.3172179818153381,
         0.31520236767828463,
         0.3018598224967718,
         0.31224900502711533,
         0.30969892228022217,
         0.29824099838733675,
         0.28776979371905326,
         0.3007720034569502,
         0.2943920627236366,
         0.3026329059153795,
         0.3106774177402258,
         0.30401907078921797,
         0.306256359629333,
         0.32585418187081816,
         0.3217642899602652,
         0.3213836861774325,
         0.31148515921086073,
         0.30598126612603666,
         0.30913449861109255,
         0.3072654575109482,
         0.30771166272461414,
         0.30076200030744077,
         0.3119547575712204,
         0.3012909825891256,
         0.31222344245761635,
         0.31442978121340276,
         0.30759986247867344,
         0.30252987761050465,
         0.31395505368709564,
         0.31510676480829714,
         0.28796566389501094,
         0.31719543151557444,
         0.3140239749103785,
         0.31140916533768176,
         0.3077446300536394,
         0.3292869295924902,
         0.30933449435979127,
         0.3177686039358377,
         0.30634080469608305,
         0.31355751529335973,
         0.30953037813305856,
         0.32848092168569565
        ],
        [
         6.025684766471386,
         6.119383879005909,
         6.011030085384846,
         6.424635037779808,
         5.910539582371712,
         6.187125019729137,
         6.327920041978359,
         6.030126586556435,
         6.053253255784512,
         6.342729650437832,
         6.199450470507145,
         6.3183968886733055,
         6.200630586594343,
         6.086555033922195,
         5.76202205568552,
         6.435856953263283,
         6.197781927883625,
         5.961113542318344,
         6.331896163523197,
         6.411526992917061,
         6.783480286598206,
         5.9336278066039085,
         6.226448863744736,
         6.4602887108922005,
         6.363936245441437,
         6.144819840788841,
         6.5887497290968895,
         6.298468075692654,
         5.943205840885639,
         5.86437676101923,
         5.925940237939358,
         6.263125963509083,
         6.065288729965687,
         6.660211183130741,
         6.08111297339201,
         6.023584857583046,
         6.19907789863646,
         5.92005992680788,
         6.235057160258293,
         6.1916467025876045,
         6.138823859393597,
         5.956294566392899,
         6.5875754579901695,
         6.36456672847271,
         6.027121253311634,
         6.28326790779829,
         6.435247141867876,
         6.268150396645069,
         6.366940565407276,
         6.256400838494301,
         6.154824525117874,
         6.195747025310993,
         6.0239412561059,
         6.685842020437121,
         6.626958899199963,
         6.757316924631596,
         6.272598937153816,
         6.573445402085781,
         6.344359636306763,
         6.304047353565693,
         6.037196449935436,
         6.244980100542307,
         6.1939784456044436,
         5.964819967746735,
         5.755395874381065,
         6.015440069139004,
         5.8878412544727325,
         6.0526581183075905,
         6.213548354804516,
         6.080381415784359,
         6.12512719258666,
         6.517083637416363,
         6.435285799205303,
         6.427673723548651,
         6.229703184217215,
         6.119625322520733,
         6.182689972221851,
         6.145309150218964,
         6.154233254492283,
         6.015240006148815,
         6.239095151424408,
         6.025819651782513,
         6.244468849152327,
         6.288595624268055,
         6.151997249573469,
         6.0505975522100925,
         6.279101073741913,
         6.302135296165943,
         5.759313277900219,
         6.343908630311489,
         6.280479498207569,
         6.228183306753635,
         6.154892601072788,
         6.585738591849804,
         6.186689887195826,
         6.355372078716755,
         6.126816093921661,
         6.271150305867195,
         6.190607562661171,
         6.569618433713913
        ],
        [
         1.5610659368847133,
         1.5780581860369518,
         1.5520822944775212,
         1.6471765802138338,
         1.5398775765226556,
         1.6012828650918725,
         1.6233889078425001,
         1.5456818222954938,
         1.5755774791700015,
         1.6283126499002083,
         1.572812098405835,
         1.6284629233898718,
         1.5891073279658807,
         1.577660926064687,
         1.524135667636554,
         1.622920690356982,
         1.5821822645261743,
         1.54032207333199,
         1.6180452070430633,
         1.6515453763087957,
         1.713434563038645,
         1.5130759666917117,
         1.6343256635771275,
         1.6564008892907798,
         1.6659263137588498,
         1.564654470671463,
         1.6780938721523673,
         1.6439153764121182,
         1.5676250663076083,
         1.5611814059827613,
         1.5637154612242505,
         1.641227339036454,
         1.5562693398164993,
         1.7035477156507335,
         1.6059443290492608,
         1.5696490841291566,
         1.5936486128103593,
         1.5366955760488885,
         1.6046948069316775,
         1.6212364050520682,
         1.596214038402522,
         1.5345064033581344,
         1.6756033264877075,
         1.6702273079929615,
         1.5573119253306598,
         1.6437058300175926,
         1.595784313145278,
         1.603850067587098,
         1.5948567596411727,
         1.602046933341522,
         1.5788723181485211,
         1.589217980998139,
         1.5552964668579627,
         1.6982386463720733,
         1.7209040695460802,
         1.712201243045036,
         1.6225151859780378,
         1.7282052672432118,
         1.6460881474514604,
         1.6218637194693588,
         1.5945169735627744,
         1.5859782550876766,
         1.5325983497214046,
         1.5381695302423413,
         1.5638518520140035,
         1.5795692571196633,
         1.558430884061341,
         1.5660201666319455,
         1.624194697084487,
         1.5573872441132401,
         1.5948116101650556,
         1.672481690450632,
         1.636130174974795,
         1.6392342181135626,
         1.5976787502829233,
         1.5975359253187855,
         1.6103952128306391,
         1.5984318982133952,
         1.5672670300782592,
         1.5628151784487827,
         1.6029927955214263,
         1.5588337919902484,
         1.6642211880464381,
         1.6106415870576876,
         1.6129801474907055,
         1.5386701884963054,
         1.6408396523469448,
         1.6263562465302157,
         1.51985842630672,
         1.6546598502122667,
         1.608200801230014,
         1.6376555569559643,
         1.5858789441001107,
         1.6721157821153319,
         1.6005813548529095,
         1.6136628818471475,
         1.589229914438721,
         1.6229488240503824,
         1.5847199063794817,
         1.6433661511986104
        ]
       ],
       "encoder": "json",
       "name": "ABC_GAN_3 Metrics",
       "version": 1
      }
     },
     "metadata": {
      "scrapbook": {
       "data": true,
       "display": false,
       "name": "ABC_GAN_3 Metrics"
      }
     },
     "output_type": "display_data"
    },
    {
     "name": "stdout",
     "output_type": "stream",
     "text": [
      "MSE\n",
      "0.12886337193412375\n"
     ]
    }
   ],
   "source": [
    "ABC_GAN3_metrics=ABC_train_test2.test_generator(gen3,test_data,prior_model,variance,bias,\"3\",device)\n",
    "sb.glue(\"ABC_GAN_3 Metrics\",ABC_GAN3_metrics)\n",
    "\n",
    "print(\"MSE\")\n",
    "print(mean(ABC_GAN3_metrics[0]))"
   ]
  },
  {
   "cell_type": "code",
   "execution_count": 18,
   "id": "c8e46b48",
   "metadata": {
    "execution": {
     "iopub.execute_input": "2022-06-22T13:09:27.507058Z",
     "iopub.status.busy": "2022-06-22T13:09:27.506318Z",
     "iopub.status.idle": "2022-06-22T13:09:29.735567Z",
     "shell.execute_reply": "2022-06-22T13:09:29.736664Z"
    },
    "id": "c8e46b48",
    "papermill": {
     "duration": 2.317592,
     "end_time": "2022-06-22T13:09:29.737267",
     "exception": false,
     "start_time": "2022-06-22T13:09:27.419675",
     "status": "completed"
    },
    "tags": []
   },
   "outputs": [
    {
     "data": {
      "image/png": "[encoded data removed]",
      "text/plain": [
       "<Figure size 432x288 with 1 Axes>"
      ]
     },
     "metadata": {
      "needs_background": "light"
     },
     "output_type": "display_data"
    },
    {
     "data": {
      "image/png": "[encoded data removed]",
      "text/plain": [
       "<Figure size 432x288 with 1 Axes>"
      ]
     },
     "metadata": {
      "needs_background": "light"
     },
     "output_type": "display_data"
    },
    {
     "data": {
      "image/png": "[encoded data removed]",
      "text/plain": [
       "<Figure size 432x288 with 1 Axes>"
      ]
     },
     "metadata": {
      "needs_background": "light"
     },
     "output_type": "display_data"
    },
    {
     "data": {
      "image/png": "[encoded data removed]",
      "text/plain": [
       "<Figure size 432x288 with 1 Axes>"
      ]
     },
     "metadata": {
      "needs_background": "light"
     },
     "output_type": "display_data"
    }
   ],
   "source": [
    "sanityChecks.discProbVsError(train_data,disc3,device)\n",
    "sanityChecks.discProbVsError(test_data,disc3,device)"
   ]
  },
  {
   "cell_type": "markdown",
   "id": "a5bd74c3",
   "metadata": {
    "id": "a5bd74c3",
    "papermill": {
     "duration": 0.077215,
     "end_time": "2022-06-22T13:09:29.875184",
     "exception": false,
     "start_time": "2022-06-22T13:09:29.797969",
     "status": "completed"
    },
    "tags": []
   },
   "source": [
    "## Skip Connection Model Analysis - ABC-GAN "
   ]
  },
  {
   "cell_type": "markdown",
   "id": "5744a8bf",
   "metadata": {
    "id": "5744a8bf",
    "papermill": {
     "duration": 0.077074,
     "end_time": "2022-06-22T13:09:30.024933",
     "exception": false,
     "start_time": "2022-06-22T13:09:29.947859",
     "status": "completed"
    },
    "tags": []
   },
   "source": [
    "### Weight Analysis \n",
    "\n",
    "Study the weights of the skip connection layer\n",
    "\n",
    "Equation of the skip connection is \n",
    "\n",
    "$output = y_{gan} * w + y_{abc} * (1-w)$"
   ]
  },
  {
   "cell_type": "code",
   "execution_count": 19,
   "id": "52c31dea",
   "metadata": {
    "execution": {
     "iopub.execute_input": "2022-06-22T13:09:30.258316Z",
     "iopub.status.busy": "2022-06-22T13:09:30.247405Z",
     "iopub.status.idle": "2022-06-22T13:09:30.356205Z",
     "shell.execute_reply": "2022-06-22T13:09:30.260967Z"
    },
    "id": "52c31dea",
    "papermill": {
     "duration": 0.214944,
     "end_time": "2022-06-22T13:09:30.357635",
     "exception": false,
     "start_time": "2022-06-22T13:09:30.142691",
     "status": "completed"
    },
    "tags": []
   },
   "outputs": [
    {
     "name": "stdout",
     "output_type": "stream",
     "text": [
      "Weight of the node at skip connection\n",
      "Parameter containing:\n",
      "tensor([[0.3287]], requires_grad=True)\n"
     ]
    },
    {
     "data": {
      "application/scrapbook.scrap.json+json": {
       "data": 0.32872122526168823,
       "encoder": "json",
       "name": "Skip Connection Weight",
       "version": 1
      }
     },
     "metadata": {
      "scrapbook": {
       "data": true,
       "display": false,
       "name": "Skip Connection Weight"
      }
     },
     "output_type": "display_data"
    }
   ],
   "source": [
    "print(\"Weight of the node at skip connection\")\n",
    "for name,param in gen3.named_parameters():\n",
    "    if(name == \"skipNode.weight\"):\n",
    "        print(param)\n",
    "        sb.glue(\"Skip Connection Weight\",param.item())"
   ]
  }
 ],
 "metadata": {
  "colab": {
   "collapsed_sections": [],
   "name": "ABC_GAN_Model-Catboost_Pre-gen.ipynb",
   "provenance": []
  },
  "interpreter": {
   "hash": "31f2aee4e71d21fbe5cf8b01ff0e069b9275f58929596ceb00d14d90e3e16cd6"
  },
  "kernelspec": {
   "display_name": "Python 3 (ipykernel)",
   "language": "python",
   "name": "python3"
  },
  "language_info": {
   "codemirror_mode": {
    "name": "ipython",
    "version": 3
   },
   "file_extension": ".py",
   "mimetype": "text/x-python",
   "name": "python",
   "nbconvert_exporter": "python",
   "pygments_lexer": "ipython3",
   "version": "3.8.3"
  },
  "papermill": {
   "default_parameters": {},
   "duration": 153.339673,
   "end_time": "2022-06-22T13:09:32.701123",
   "environment_variables": {},
   "exception": null,
   "input_path": "ABC_GAN-TabNet.ipynb",
   "output_path": "./ABC_GAN_TabNet/ABC-GAN_output_4_4.ipynb",
   "parameters": {
    "bias": 0.1,
    "variance": 0.1
   },
   "start_time": "2022-06-22T13:06:59.361450",
   "version": "2.3.3"
  }
 },
 "nbformat": 4,
 "nbformat_minor": 5
}