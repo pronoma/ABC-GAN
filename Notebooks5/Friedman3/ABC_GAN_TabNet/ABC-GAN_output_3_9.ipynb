{
 "cells": [
  {
   "cell_type": "markdown",
   "id": "622780e6",
   "metadata": {
    "id": "622780e6",
    "papermill": {
     "duration": 0.017651,
     "end_time": "2022-06-22T12:46:25.221249",
     "exception": false,
     "start_time": "2022-06-22T12:46:25.203598",
     "status": "completed"
    },
    "tags": []
   },
   "source": [
    "## Import Libraries "
   ]
  },
  {
   "cell_type": "code",
   "execution_count": 1,
   "id": "a62397e3",
   "metadata": {
    "execution": {
     "iopub.execute_input": "2022-06-22T12:46:25.283690Z",
     "iopub.status.busy": "2022-06-22T12:46:25.278129Z",
     "iopub.status.idle": "2022-06-22T12:46:25.289791Z",
     "shell.execute_reply": "2022-06-22T12:46:25.290498Z"
    },
    "id": "a62397e3",
    "papermill": {
     "duration": 0.052765,
     "end_time": "2022-06-22T12:46:25.290837",
     "exception": false,
     "start_time": "2022-06-22T12:46:25.238072",
     "status": "completed"
    },
    "tags": []
   },
   "outputs": [],
   "source": [
    "import warnings\n",
    "import sys\n",
    "sys.path.insert(0, '../../src')\n",
    "warnings.filterwarnings('ignore')"
   ]
  },
  {
   "cell_type": "code",
   "execution_count": 2,
   "id": "d6a4e155",
   "metadata": {
    "execution": {
     "iopub.execute_input": "2022-06-22T12:46:25.336648Z",
     "iopub.status.busy": "2022-06-22T12:46:25.335735Z",
     "iopub.status.idle": "2022-06-22T12:46:31.988528Z",
     "shell.execute_reply": "2022-06-22T12:46:31.989378Z"
    },
    "id": "d6a4e155",
    "papermill": {
     "duration": 6.680381,
     "end_time": "2022-06-22T12:46:31.989615",
     "exception": false,
     "start_time": "2022-06-22T12:46:25.309234",
     "status": "completed"
    },
    "tags": []
   },
   "outputs": [],
   "source": [
    "import ABC_train_test2\n",
    "import friedman3Dataset\n",
    "import network\n",
    "import dataset\n",
    "import sanityChecks\n",
    "import torch \n",
    "import scrapbook as sb\n",
    "from statistics import mean \n",
    "import catboost as ctb \n",
    "from sklearn.model_selection import train_test_split\n",
    "from sklearn.metrics import mean_squared_error,mean_absolute_error\n",
    "import numpy as np\n",
    "from pytorch_tabnet.tab_model import TabNetRegressor"
   ]
  },
  {
   "cell_type": "markdown",
   "id": "2fa5b0f7",
   "metadata": {
    "id": "2fa5b0f7",
    "papermill": {
     "duration": 0.018492,
     "end_time": "2022-06-22T12:46:32.023482",
     "exception": false,
     "start_time": "2022-06-22T12:46:32.004990",
     "status": "completed"
    },
    "tags": []
   },
   "source": [
    "## Parameters "
   ]
  },
  {
   "cell_type": "code",
   "execution_count": 3,
   "id": "783186fb",
   "metadata": {
    "execution": {
     "iopub.execute_input": "2022-06-22T12:46:32.098564Z",
     "iopub.status.busy": "2022-06-22T12:46:32.096107Z",
     "iopub.status.idle": "2022-06-22T12:46:32.099867Z",
     "shell.execute_reply": "2022-06-22T12:46:32.100445Z"
    },
    "id": "783186fb",
    "papermill": {
     "duration": 0.061742,
     "end_time": "2022-06-22T12:46:32.100681",
     "exception": false,
     "start_time": "2022-06-22T12:46:32.038939",
     "status": "completed"
    },
    "tags": [
     "parameters"
    ]
   },
   "outputs": [],
   "source": [
    "variance = 1\n",
    "bias = 1 "
   ]
  },
  {
   "cell_type": "code",
   "execution_count": 4,
   "id": "d37e2dd7",
   "metadata": {
    "execution": {
     "iopub.execute_input": "2022-06-22T12:46:32.261905Z",
     "iopub.status.busy": "2022-06-22T12:46:32.259281Z",
     "iopub.status.idle": "2022-06-22T12:46:32.263210Z",
     "shell.execute_reply": "2022-06-22T12:46:32.263770Z"
    },
    "papermill": {
     "duration": 0.069285,
     "end_time": "2022-06-22T12:46:32.267818",
     "exception": false,
     "start_time": "2022-06-22T12:46:32.198533",
     "status": "completed"
    },
    "tags": [
     "injected-parameters"
    ]
   },
   "outputs": [],
   "source": [
    "# Parameters\n",
    "variance = 1\n",
    "bias = 0\n"
   ]
  },
  {
   "cell_type": "markdown",
   "id": "391cdbfd",
   "metadata": {
    "id": "391cdbfd",
    "papermill": {
     "duration": 0.038748,
     "end_time": "2022-06-22T12:46:32.347916",
     "exception": false,
     "start_time": "2022-06-22T12:46:32.309168",
     "status": "completed"
    },
    "tags": []
   },
   "source": [
    "## Dataset \n"
   ]
  },
  {
   "cell_type": "code",
   "execution_count": 5,
   "id": "5b51f161",
   "metadata": {
    "execution": {
     "iopub.execute_input": "2022-06-22T12:46:32.398935Z",
     "iopub.status.busy": "2022-06-22T12:46:32.397605Z",
     "iopub.status.idle": "2022-06-22T12:46:32.399739Z",
     "shell.execute_reply": "2022-06-22T12:46:32.398344Z"
    },
    "id": "5b51f161",
    "papermill": {
     "duration": 0.0329,
     "end_time": "2022-06-22T12:46:32.400490",
     "exception": false,
     "start_time": "2022-06-22T12:46:32.367590",
     "status": "completed"
    },
    "tags": []
   },
   "outputs": [],
   "source": [
    "#Parameters \n",
    "n_features = 4\n",
    "n_samples= 100\n",
    "n_target = 1"
   ]
  },
  {
   "cell_type": "code",
   "execution_count": 6,
   "id": "5d6eced4",
   "metadata": {
    "execution": {
     "iopub.execute_input": "2022-06-22T12:46:32.442042Z",
     "iopub.status.busy": "2022-06-22T12:46:32.440856Z",
     "iopub.status.idle": "2022-06-22T12:46:32.460559Z",
     "shell.execute_reply": "2022-06-22T12:46:32.461058Z"
    },
    "id": "5d6eced4",
    "papermill": {
     "duration": 0.042479,
     "end_time": "2022-06-22T12:46:32.461293",
     "exception": false,
     "start_time": "2022-06-22T12:46:32.418814",
     "status": "completed"
    },
    "tags": []
   },
   "outputs": [
    {
     "name": "stdout",
     "output_type": "stream",
     "text": [
      "          X1           X2        X3        X4         Y\n",
      "0  52.613335   511.884485  0.954894  4.760146  1.422107\n",
      "1   3.223466  1087.656351  0.711098  1.432762  1.742769\n",
      "2  43.969547  1218.295368  0.949403  9.088493  1.516062\n",
      "3  70.531344  1666.931592  0.939414  2.492032  1.536784\n",
      "4  59.007992   609.890317  0.539990  3.206265  1.299655\n"
     ]
    }
   ],
   "source": [
    "X,Y = friedman3Dataset.friedman3_data(n_samples)"
   ]
  },
  {
   "cell_type": "code",
   "execution_count": 7,
   "id": "fe007438",
   "metadata": {
    "execution": {
     "iopub.execute_input": "2022-06-22T12:46:32.504032Z",
     "iopub.status.busy": "2022-06-22T12:46:32.503176Z",
     "iopub.status.idle": "2022-06-22T12:46:32.506911Z",
     "shell.execute_reply": "2022-06-22T12:46:32.506346Z"
    },
    "id": "fe007438",
    "papermill": {
     "duration": 0.026721,
     "end_time": "2022-06-22T12:46:32.507131",
     "exception": false,
     "start_time": "2022-06-22T12:46:32.480410",
     "status": "completed"
    },
    "tags": []
   },
   "outputs": [],
   "source": [
    "#Train test split for dataset \n",
    "X_train,X_test,Y_train,Y_test = train_test_split(X,Y,test_size = 0.2)\n",
    "train_data = dataset.CustomDataset(X_train,Y_train)\n",
    "test_data = dataset.CustomDataset(X_test,Y_test)\n"
   ]
  },
  {
   "cell_type": "markdown",
   "id": "a9a1af34",
   "metadata": {
    "id": "a9a1af34",
    "papermill": {
     "duration": 0.019152,
     "end_time": "2022-06-22T12:46:32.542946",
     "exception": false,
     "start_time": "2022-06-22T12:46:32.523794",
     "status": "completed"
    },
    "tags": []
   },
   "source": [
    "## Training Parameters "
   ]
  },
  {
   "cell_type": "code",
   "execution_count": 8,
   "id": "952b7fc8",
   "metadata": {
    "execution": {
     "iopub.execute_input": "2022-06-22T12:46:32.595717Z",
     "iopub.status.busy": "2022-06-22T12:46:32.594697Z",
     "iopub.status.idle": "2022-06-22T12:46:32.596952Z",
     "shell.execute_reply": "2022-06-22T12:46:32.597518Z"
    },
    "id": "952b7fc8",
    "papermill": {
     "duration": 0.02758,
     "end_time": "2022-06-22T12:46:32.597880",
     "exception": false,
     "start_time": "2022-06-22T12:46:32.570300",
     "status": "completed"
    },
    "tags": []
   },
   "outputs": [],
   "source": [
    "batch_size = 32\n",
    "n_epochs = 1000\n",
    "#Select the device \n",
    "device = torch.device('cuda' if torch.cuda.is_available() else 'cpu')"
   ]
  },
  {
   "cell_type": "markdown",
   "id": "a95e1600",
   "metadata": {
    "id": "a95e1600",
    "papermill": {
     "duration": 0.027877,
     "end_time": "2022-06-22T12:46:32.642549",
     "exception": false,
     "start_time": "2022-06-22T12:46:32.614672",
     "status": "completed"
    },
    "tags": []
   },
   "source": [
    "# ABC Pre-generator Model \n",
    "\n",
    "1. The catboost model is used as a pre-generator model for the ABC-GAN. \n",
    "2. The model is first trained on the entire dataset \n",
    "3. It generats X,Y pairs and we add some Gaussian noise with mean 0 and variance 1 to it which is then feed as input to the generator.\n"
   ]
  },
  {
   "cell_type": "code",
   "execution_count": 9,
   "id": "ff8ce7bd",
   "metadata": {
    "execution": {
     "iopub.execute_input": "2022-06-22T12:46:32.691597Z",
     "iopub.status.busy": "2022-06-22T12:46:32.690034Z",
     "iopub.status.idle": "2022-06-22T12:46:42.883877Z",
     "shell.execute_reply": "2022-06-22T12:46:42.884357Z"
    },
    "id": "ff8ce7bd",
    "papermill": {
     "duration": 10.219865,
     "end_time": "2022-06-22T12:46:42.884569",
     "exception": false,
     "start_time": "2022-06-22T12:46:32.664704",
     "status": "completed"
    },
    "tags": []
   },
   "outputs": [
    {
     "name": "stdout",
     "output_type": "stream",
     "text": [
      "Device used : cpu\n"
     ]
    },
    {
     "name": "stdout",
     "output_type": "stream",
     "text": [
      "epoch 0  | loss: 1.21088 | train_mse: 3.68151 | train_mae: 1.46422 |  0:00:00s\n",
      "epoch 1  | loss: 0.71669 | train_mse: 4.27053 | train_mae: 1.4332  |  0:00:00s\n"
     ]
    },
    {
     "name": "stdout",
     "output_type": "stream",
     "text": [
      "epoch 2  | loss: 0.79578 | train_mse: 3.88185 | train_mae: 1.42715 |  0:00:00s\n",
      "epoch 3  | loss: 0.40801 | train_mse: 3.85537 | train_mae: 1.34669 |  0:00:00s\n",
      "epoch 4  | loss: 0.38505 | train_mse: 3.02671 | train_mae: 1.15723 |  0:00:00s\n"
     ]
    },
    {
     "name": "stdout",
     "output_type": "stream",
     "text": [
      "epoch 5  | loss: 0.42333 | train_mse: 1.27294 | train_mae: 0.79137 |  0:00:00s\n",
      "epoch 6  | loss: 0.25823 | train_mse: 0.86597 | train_mae: 0.66807 |  0:00:00s\n",
      "epoch 7  | loss: 0.27967 | train_mse: 0.6234  | train_mae: 0.58179 |  0:00:01s\n"
     ]
    },
    {
     "name": "stdout",
     "output_type": "stream",
     "text": [
      "epoch 8  | loss: 0.48935 | train_mse: 0.61337 | train_mae: 0.58853 |  0:00:01s\n",
      "epoch 9  | loss: 0.30376 | train_mse: 0.77574 | train_mae: 0.63536 |  0:00:01s\n",
      "epoch 10 | loss: 0.26075 | train_mse: 0.72949 | train_mae: 0.59032 |  0:00:01s\n"
     ]
    },
    {
     "name": "stdout",
     "output_type": "stream",
     "text": [
      "epoch 11 | loss: 0.28596 | train_mse: 0.43281 | train_mae: 0.44938 |  0:00:01s\n",
      "epoch 12 | loss: 0.24632 | train_mse: 0.32295 | train_mae: 0.40223 |  0:00:01s\n"
     ]
    },
    {
     "name": "stdout",
     "output_type": "stream",
     "text": [
      "epoch 13 | loss: 0.17623 | train_mse: 0.32081 | train_mae: 0.40461 |  0:00:01s\n",
      "epoch 14 | loss: 0.23514 | train_mse: 0.38373 | train_mae: 0.43486 |  0:00:01s\n",
      "epoch 15 | loss: 0.38171 | train_mse: 0.50248 | train_mae: 0.48375 |  0:00:01s\n"
     ]
    },
    {
     "name": "stdout",
     "output_type": "stream",
     "text": [
      "epoch 16 | loss: 0.13253 | train_mse: 0.29405 | train_mae: 0.39705 |  0:00:01s\n",
      "epoch 17 | loss: 0.29538 | train_mse: 0.17708 | train_mae: 0.31598 |  0:00:01s\n",
      "epoch 18 | loss: 0.1987  | train_mse: 0.14036 | train_mae: 0.28953 |  0:00:02s\n"
     ]
    },
    {
     "name": "stdout",
     "output_type": "stream",
     "text": [
      "epoch 19 | loss: 0.46018 | train_mse: 0.13984 | train_mae: 0.28852 |  0:00:02s\n",
      "epoch 20 | loss: 0.14465 | train_mse: 0.14888 | train_mae: 0.29755 |  0:00:02s\n",
      "epoch 21 | loss: 0.11767 | train_mse: 0.12292 | train_mae: 0.27086 |  0:00:02s\n",
      "epoch 22 | loss: 0.301   | train_mse: 0.11431 | train_mae: 0.26842 |  0:00:02s\n"
     ]
    },
    {
     "name": "stdout",
     "output_type": "stream",
     "text": [
      "epoch 23 | loss: 0.22941 | train_mse: 0.14729 | train_mae: 0.27707 |  0:00:02s\n",
      "epoch 24 | loss: 0.19586 | train_mse: 0.11282 | train_mae: 0.25837 |  0:00:02s\n"
     ]
    },
    {
     "name": "stdout",
     "output_type": "stream",
     "text": [
      "epoch 25 | loss: 0.24667 | train_mse: 0.13175 | train_mae: 0.26915 |  0:00:02s\n",
      "epoch 26 | loss: 0.26406 | train_mse: 0.13072 | train_mae: 0.26862 |  0:00:02s\n"
     ]
    },
    {
     "name": "stdout",
     "output_type": "stream",
     "text": [
      "epoch 27 | loss: 0.24267 | train_mse: 0.15645 | train_mae: 0.28743 |  0:00:02s\n",
      "epoch 28 | loss: 0.10188 | train_mse: 0.18213 | train_mae: 0.3107  |  0:00:02s\n"
     ]
    },
    {
     "name": "stdout",
     "output_type": "stream",
     "text": [
      "epoch 29 | loss: 0.23832 | train_mse: 0.13606 | train_mae: 0.26831 |  0:00:03s\n",
      "epoch 30 | loss: 0.09245 | train_mse: 0.10053 | train_mae: 0.23356 |  0:00:03s\n",
      "epoch 31 | loss: 0.13124 | train_mse: 0.09612 | train_mae: 0.24459 |  0:00:03s\n"
     ]
    },
    {
     "name": "stdout",
     "output_type": "stream",
     "text": [
      "epoch 32 | loss: 0.11766 | train_mse: 0.11    | train_mae: 0.24969 |  0:00:03s\n",
      "epoch 33 | loss: 0.07762 | train_mse: 0.07831 | train_mae: 0.2216  |  0:00:03s\n"
     ]
    },
    {
     "name": "stdout",
     "output_type": "stream",
     "text": [
      "epoch 34 | loss: 0.11349 | train_mse: 0.08668 | train_mae: 0.22531 |  0:00:03s\n",
      "epoch 35 | loss: 0.1476  | train_mse: 0.08641 | train_mae: 0.22754 |  0:00:03s\n",
      "epoch 36 | loss: 0.30865 | train_mse: 0.08598 | train_mae: 0.22895 |  0:00:03s\n"
     ]
    },
    {
     "name": "stdout",
     "output_type": "stream",
     "text": [
      "epoch 37 | loss: 0.15134 | train_mse: 0.15003 | train_mae: 0.28476 |  0:00:03s\n",
      "epoch 38 | loss: 0.12429 | train_mse: 0.14786 | train_mae: 0.27759 |  0:00:04s\n",
      "epoch 39 | loss: 0.12762 | train_mse: 0.12662 | train_mae: 0.26271 |  0:00:04s"
     ]
    },
    {
     "name": "stdout",
     "output_type": "stream",
     "text": [
      "\n",
      "epoch 40 | loss: 0.15773 | train_mse: 0.12144 | train_mae: 0.26479 |  0:00:04s\n"
     ]
    },
    {
     "name": "stdout",
     "output_type": "stream",
     "text": [
      "epoch 41 | loss: 0.14513 | train_mse: 0.12806 | train_mae: 0.27194 |  0:00:04s\n",
      "epoch 42 | loss: 0.25724 | train_mse: 0.12617 | train_mae: 0.27278 |  0:00:04s\n",
      "epoch 43 | loss: 0.11486 | train_mse: 0.12045 | train_mae: 0.26992 |  0:00:04s\n",
      "epoch 44 | loss: 0.24819 | train_mse: 0.10762 | train_mae: 0.25767 |  0:00:04s\n"
     ]
    },
    {
     "name": "stdout",
     "output_type": "stream",
     "text": [
      "epoch 45 | loss: 0.14994 | train_mse: 0.08587 | train_mae: 0.22676 |  0:00:04s\n",
      "epoch 46 | loss: 0.09881 | train_mse: 0.09683 | train_mae: 0.23815 |  0:00:04s\n",
      "epoch 47 | loss: 0.09947 | train_mse: 0.13431 | train_mae: 0.27211 |  0:00:04s\n"
     ]
    },
    {
     "name": "stdout",
     "output_type": "stream",
     "text": [
      "epoch 48 | loss: 0.12755 | train_mse: 0.12777 | train_mae: 0.27469 |  0:00:04s\n",
      "epoch 49 | loss: 0.14417 | train_mse: 0.10794 | train_mae: 0.26369 |  0:00:04s\n",
      "epoch 50 | loss: 0.31513 | train_mse: 0.14402 | train_mae: 0.2864  |  0:00:04s\n"
     ]
    },
    {
     "name": "stdout",
     "output_type": "stream",
     "text": [
      "epoch 51 | loss: 0.4703  | train_mse: 0.18395 | train_mae: 0.32051 |  0:00:05s\n",
      "epoch 52 | loss: 0.32033 | train_mse: 0.12616 | train_mae: 0.27562 |  0:00:05s\n",
      "epoch 53 | loss: 0.13396 | train_mse: 0.10236 | train_mae: 0.25294 |  0:00:05s\n",
      "epoch 54 | loss: 0.1804  | train_mse: 0.08946 | train_mae: 0.22691 |  0:00:05s\n",
      "epoch 55 | loss: 0.13424 | train_mse: 0.08838 | train_mae: 0.22042 |  0:00:05s\n"
     ]
    },
    {
     "name": "stdout",
     "output_type": "stream",
     "text": [
      "epoch 56 | loss: 0.13224 | train_mse: 0.07298 | train_mae: 0.21557 |  0:00:05s\n",
      "epoch 57 | loss: 0.16978 | train_mse: 0.10053 | train_mae: 0.23728 |  0:00:05s\n",
      "epoch 58 | loss: 0.21329 | train_mse: 0.11101 | train_mae: 0.24978 |  0:00:05s\n",
      "epoch 59 | loss: 0.15635 | train_mse: 0.0869  | train_mae: 0.22826 |  0:00:05s\n"
     ]
    },
    {
     "name": "stdout",
     "output_type": "stream",
     "text": [
      "epoch 60 | loss: 0.0773  | train_mse: 0.08367 | train_mae: 0.22613 |  0:00:05s\n",
      "epoch 61 | loss: 0.18251 | train_mse: 0.07046 | train_mae: 0.21043 |  0:00:05s\n",
      "epoch 62 | loss: 0.11359 | train_mse: 0.05829 | train_mae: 0.19455 |  0:00:05s\n"
     ]
    },
    {
     "name": "stdout",
     "output_type": "stream",
     "text": [
      "epoch 63 | loss: 0.19709 | train_mse: 0.07112 | train_mae: 0.21473 |  0:00:05s\n",
      "epoch 64 | loss: 0.15852 | train_mse: 0.10313 | train_mae: 0.24966 |  0:00:05s\n",
      "epoch 65 | loss: 0.297   | train_mse: 0.07559 | train_mae: 0.22514 |  0:00:06s\n"
     ]
    },
    {
     "name": "stdout",
     "output_type": "stream",
     "text": [
      "epoch 66 | loss: 0.21256 | train_mse: 0.05827 | train_mae: 0.20077 |  0:00:06s\n",
      "epoch 67 | loss: 0.3819  | train_mse: 0.07491 | train_mae: 0.20959 |  0:00:06s\n",
      "epoch 68 | loss: 0.23777 | train_mse: 0.11182 | train_mae: 0.23682 |  0:00:06s\n"
     ]
    },
    {
     "name": "stdout",
     "output_type": "stream",
     "text": [
      "epoch 69 | loss: 0.25554 | train_mse: 0.14764 | train_mae: 0.2642  |  0:00:06s\n"
     ]
    },
    {
     "name": "stdout",
     "output_type": "stream",
     "text": [
      "epoch 70 | loss: 0.25716 | train_mse: 0.14943 | train_mae: 0.26688 |  0:00:06s\n",
      "epoch 71 | loss: 0.22867 | train_mse: 0.15146 | train_mae: 0.26966 |  0:00:06s\n"
     ]
    },
    {
     "name": "stdout",
     "output_type": "stream",
     "text": [
      "epoch 72 | loss: 0.15023 | train_mse: 0.14301 | train_mae: 0.27222 |  0:00:07s\n",
      "epoch 73 | loss: 0.20035 | train_mse: 0.10292 | train_mae: 0.21915 |  0:00:07s\n",
      "epoch 74 | loss: 0.16567 | train_mse: 0.10776 | train_mae: 0.22396 |  0:00:07s\n",
      "epoch 75 | loss: 0.15193 | train_mse: 0.10793 | train_mae: 0.24012 |  0:00:07s\n"
     ]
    },
    {
     "name": "stdout",
     "output_type": "stream",
     "text": [
      "epoch 76 | loss: 0.32537 | train_mse: 0.14628 | train_mae: 0.28416 |  0:00:07s\n",
      "epoch 77 | loss: 0.14674 | train_mse: 0.12258 | train_mae: 0.25761 |  0:00:07s\n",
      "epoch 78 | loss: 0.17655 | train_mse: 0.13755 | train_mae: 0.2469  |  0:00:07s\n",
      "epoch 79 | loss: 0.23505 | train_mse: 0.12939 | train_mae: 0.23754 |  0:00:07s\n"
     ]
    },
    {
     "name": "stdout",
     "output_type": "stream",
     "text": [
      "epoch 80 | loss: 0.24343 | train_mse: 0.10771 | train_mae: 0.25264 |  0:00:07s\n",
      "epoch 81 | loss: 0.14716 | train_mse: 0.09542 | train_mae: 0.24842 |  0:00:07s\n",
      "epoch 82 | loss: 0.20741 | train_mse: 0.10362 | train_mae: 0.25325 |  0:00:07s\n",
      "epoch 83 | loss: 0.11432 | train_mse: 0.08852 | train_mae: 0.23075 |  0:00:07s\n"
     ]
    },
    {
     "name": "stdout",
     "output_type": "stream",
     "text": [
      "epoch 84 | loss: 0.20767 | train_mse: 0.07825 | train_mae: 0.22677 |  0:00:07s\n",
      "epoch 85 | loss: 0.10978 | train_mse: 0.07107 | train_mae: 0.20746 |  0:00:07s\n",
      "epoch 86 | loss: 0.12837 | train_mse: 0.10351 | train_mae: 0.24929 |  0:00:07s\n"
     ]
    },
    {
     "name": "stdout",
     "output_type": "stream",
     "text": [
      "epoch 87 | loss: 0.20986 | train_mse: 0.12499 | train_mae: 0.26619 |  0:00:08s\n",
      "epoch 88 | loss: 0.15948 | train_mse: 0.1029  | train_mae: 0.22244 |  0:00:08s\n",
      "epoch 89 | loss: 0.15755 | train_mse: 0.09619 | train_mae: 0.22055 |  0:00:08s\n",
      "epoch 90 | loss: 0.24159 | train_mse: 0.09777 | train_mae: 0.22963 |  0:00:08s\n"
     ]
    },
    {
     "name": "stdout",
     "output_type": "stream",
     "text": [
      "epoch 91 | loss: 0.11295 | train_mse: 0.06495 | train_mae: 0.20313 |  0:00:08s\n",
      "epoch 92 | loss: 0.15256 | train_mse: 0.07008 | train_mae: 0.20978 |  0:00:08s\n",
      "epoch 93 | loss: 0.12005 | train_mse: 0.08441 | train_mae: 0.22919 |  0:00:08s\n",
      "epoch 94 | loss: 0.09308 | train_mse: 0.07595 | train_mae: 0.21608 |  0:00:08s\n"
     ]
    },
    {
     "name": "stdout",
     "output_type": "stream",
     "text": [
      "epoch 95 | loss: 0.09707 | train_mse: 0.0849  | train_mae: 0.22351 |  0:00:08s\n",
      "epoch 96 | loss: 0.10821 | train_mse: 0.10092 | train_mae: 0.23865 |  0:00:08s\n",
      "epoch 97 | loss: 0.13838 | train_mse: 0.08201 | train_mae: 0.23069 |  0:00:08s\n"
     ]
    },
    {
     "name": "stdout",
     "output_type": "stream",
     "text": [
      "epoch 98 | loss: 0.24957 | train_mse: 0.06719 | train_mae: 0.216   |  0:00:08s\n",
      "epoch 99 | loss: 0.13623 | train_mse: 0.07983 | train_mae: 0.21786 |  0:00:08s\n",
      "epoch 100| loss: 0.13312 | train_mse: 0.07668 | train_mae: 0.2186  |  0:00:08s\n"
     ]
    },
    {
     "name": "stdout",
     "output_type": "stream",
     "text": [
      "epoch 101| loss: 0.13842 | train_mse: 0.06556 | train_mae: 0.21301 |  0:00:09s\n",
      "epoch 102| loss: 0.11543 | train_mse: 0.08011 | train_mae: 0.23003 |  0:00:09s\n",
      "epoch 103| loss: 0.12947 | train_mse: 0.11746 | train_mae: 0.26811 |  0:00:09s\n"
     ]
    },
    {
     "name": "stdout",
     "output_type": "stream",
     "text": [
      "epoch 104| loss: 0.14997 | train_mse: 0.0946  | train_mae: 0.2461  |  0:00:09s\n",
      "epoch 105| loss: 0.10191 | train_mse: 0.1161  | train_mae: 0.25331 |  0:00:09s\n",
      "epoch 106| loss: 0.18243 | train_mse: 0.13409 | train_mae: 0.26467 |  0:00:09s\n"
     ]
    },
    {
     "name": "stdout",
     "output_type": "stream",
     "text": [
      "epoch 107| loss: 0.18313 | train_mse: 0.11719 | train_mae: 0.25494 |  0:00:09s\n",
      "epoch 108| loss: 0.17368 | train_mse: 0.08483 | train_mae: 0.23466 |  0:00:09s\n",
      "epoch 109| loss: 0.13609 | train_mse: 0.09148 | train_mae: 0.24087 |  0:00:09s\n"
     ]
    },
    {
     "name": "stdout",
     "output_type": "stream",
     "text": [
      "epoch 110| loss: 0.11669 | train_mse: 0.09789 | train_mae: 0.24743 |  0:00:09s\n",
      "epoch 111| loss: 0.15826 | train_mse: 0.06984 | train_mae: 0.20576 |  0:00:10s\n",
      "epoch 112| loss: 0.12585 | train_mse: 0.06581 | train_mae: 0.20832 |  0:00:10s\n",
      "\n",
      "Early stopping occurred at epoch 112 with best_epoch = 62 and best_train_mae = 0.19455\n",
      "Best weights from best epoch are automatically used!\n"
     ]
    }
   ],
   "source": [
    "#Train the Model\n",
    "\n",
    "Y_train = np.reshape(Y_train, (-1, 1))\n",
    "Y_test = np.reshape(Y_test, (-1, 1))\n",
    "\n",
    "prior_model = TabNetRegressor(optimizer_fn=torch.optim.Adam, optimizer_params=dict(lr = 0.02),\n",
    "          #scheduler_params={\"step_size\":10, ], \"gamma\":0.9},\n",
    "          #scheduler_fn=torch.optim.lr_scheduler.StepLR\n",
    "          )  #TabNetRegressor()\n",
    "\n",
    "prior_model.fit(X_train,Y_train,eval_set=[(X_train, Y_train)],\n",
    "            eval_name=['train'], \n",
    "            eval_metric=[ 'mse', 'mae'], \n",
    "            max_epochs = n_epochs, \n",
    "            batch_size = batch_size,\n",
    "            patience=50\n",
    "            )"
   ]
  },
  {
   "cell_type": "code",
   "execution_count": 10,
   "id": "af65dcda",
   "metadata": {
    "execution": {
     "iopub.execute_input": "2022-06-22T12:46:42.948459Z",
     "iopub.status.busy": "2022-06-22T12:46:42.947703Z",
     "iopub.status.idle": "2022-06-22T12:46:42.969253Z",
     "shell.execute_reply": "2022-06-22T12:46:42.969765Z"
    },
    "id": "af65dcda",
    "papermill": {
     "duration": 0.057477,
     "end_time": "2022-06-22T12:46:42.970050",
     "exception": false,
     "start_time": "2022-06-22T12:46:42.912573",
     "status": "completed"
    },
    "tags": []
   },
   "outputs": [
    {
     "data": {
      "application/scrapbook.scrap.json+json": {
       "data": 0.20038343526157498,
       "encoder": "json",
       "name": "Prior Model MSE",
       "version": 1
      }
     },
     "metadata": {
      "scrapbook": {
       "data": true,
       "display": false,
       "name": "Prior Model MSE"
      }
     },
     "output_type": "display_data"
    },
    {
     "data": {
      "application/scrapbook.scrap.json+json": {
       "data": 1.7848570362082445,
       "encoder": "json",
       "name": "ABC Pre-generator MSE",
       "version": 1
      }
     },
     "metadata": {
      "scrapbook": {
       "data": true,
       "display": false,
       "name": "ABC Pre-generator MSE"
      }
     },
     "output_type": "display_data"
    },
    {
     "data": {
      "application/scrapbook.scrap.json+json": {
       "data": 0.36374444378869425,
       "encoder": "json",
       "name": "Prior Model MSE",
       "version": 1
      }
     },
     "metadata": {
      "scrapbook": {
       "data": true,
       "display": false,
       "name": "Prior Model MSE"
      }
     },
     "output_type": "display_data"
    },
    {
     "data": {
      "application/scrapbook.scrap.json+json": {
       "data": 1.166854718829974,
       "encoder": "json",
       "name": "ABC Pre-generator MSE",
       "version": 1
      }
     },
     "metadata": {
      "scrapbook": {
       "data": true,
       "display": false,
       "name": "ABC Pre-generator MSE"
      }
     },
     "output_type": "display_data"
    }
   ],
   "source": [
    "y_pred = prior_model.predict(X_test)\n",
    "y_abc = y_pred + np.random.normal(0,variance, y_pred.shape) + bias \n",
    "mse = mean_squared_error(y_pred,Y_test)\n",
    "sb.glue(\"Prior Model MSE\",mse)\n",
    "mse = mean_squared_error(y_abc,Y_test)\n",
    "sb.glue(\"ABC Pre-generator MSE\",mse)\n",
    "mae = mean_absolute_error(y_pred,Y_test)\n",
    "sb.glue(\"Prior Model MSE\",mae)\n",
    "mae = mean_absolute_error(y_abc,Y_test)\n",
    "sb.glue(\"ABC Pre-generator MSE\",mae)"
   ]
  },
  {
   "cell_type": "markdown",
   "id": "25609da2",
   "metadata": {
    "papermill": {
     "duration": 0.033757,
     "end_time": "2022-06-22T12:46:43.033083",
     "exception": false,
     "start_time": "2022-06-22T12:46:42.999326",
     "status": "completed"
    },
    "tags": []
   },
   "source": [
    "# ABC GAN Model"
   ]
  },
  {
   "cell_type": "code",
   "execution_count": 11,
   "id": "dfc3464d",
   "metadata": {
    "execution": {
     "iopub.execute_input": "2022-06-22T12:46:43.101088Z",
     "iopub.status.busy": "2022-06-22T12:46:43.100227Z",
     "iopub.status.idle": "2022-06-22T12:46:43.102935Z",
     "shell.execute_reply": "2022-06-22T12:46:43.103550Z"
    },
    "papermill": {
     "duration": 0.041859,
     "end_time": "2022-06-22T12:46:43.103813",
     "exception": false,
     "start_time": "2022-06-22T12:46:43.061954",
     "status": "completed"
    },
    "tags": []
   },
   "outputs": [],
   "source": [
    "gen = network.Generator(n_features+1).to(device)\n",
    "disc = network.Discriminator(n_features+1).to(device)\n",
    "\n",
    "criterion = torch.nn.BCELoss()\n",
    "gen_opt = torch.optim.Adam(gen.parameters(), lr=0.001, betas=(0.5, 0.999))\n",
    "disc_opt = torch.optim.Adam(disc.parameters(), lr=0.001, betas=(0.5, 0.999))"
   ]
  },
  {
   "cell_type": "code",
   "execution_count": 12,
   "id": "b75fdd85",
   "metadata": {
    "execution": {
     "iopub.execute_input": "2022-06-22T12:46:43.198698Z",
     "iopub.status.busy": "2022-06-22T12:46:43.194276Z",
     "iopub.status.idle": "2022-06-22T12:47:31.710996Z",
     "shell.execute_reply": "2022-06-22T12:47:31.711648Z"
    },
    "papermill": {
     "duration": 48.575745,
     "end_time": "2022-06-22T12:47:31.711847",
     "exception": false,
     "start_time": "2022-06-22T12:46:43.136102",
     "status": "completed"
    },
    "tags": []
   },
   "outputs": [
    {
     "data": {
      "image/png": "[encoded data removed]",
      "text/plain": [
       "<Figure size 432x288 with 1 Axes>"
      ]
     },
     "metadata": {
      "needs_background": "light"
     },
     "output_type": "display_data"
    },
    {
     "data": {
      "image/png": "[encoded data removed]",
      "text/plain": [
       "<Figure size 432x288 with 1 Axes>"
      ]
     },
     "metadata": {
      "needs_background": "light"
     },
     "output_type": "display_data"
    }
   ],
   "source": [
    "#Training the ABC_GAN \n",
    "ABC_train_test2.training_GAN(disc,gen,disc_opt,gen_opt,train_data,batch_size,n_epochs,criterion,prior_model,variance,bias,device)"
   ]
  },
  {
   "cell_type": "code",
   "execution_count": 13,
   "id": "1fa7c368",
   "metadata": {
    "execution": {
     "iopub.execute_input": "2022-06-22T12:47:31.792755Z",
     "iopub.status.busy": "2022-06-22T12:47:31.791774Z",
     "iopub.status.idle": "2022-06-22T12:47:32.449424Z",
     "shell.execute_reply": "2022-06-22T12:47:32.450086Z"
    },
    "papermill": {
     "duration": 0.709726,
     "end_time": "2022-06-22T12:47:32.450420",
     "exception": false,
     "start_time": "2022-06-22T12:47:31.740694",
     "status": "completed"
    },
    "tags": []
   },
   "outputs": [
    {
     "data": {
      "application/scrapbook.scrap.json+json": {
       "data": 0.3887321836889764,
       "encoder": "json",
       "name": "ABC-GAN Model 1 MSE",
       "version": 1
      }
     },
     "metadata": {
      "scrapbook": {
       "data": true,
       "display": false,
       "name": "ABC-GAN Model 1 MSE"
      }
     },
     "output_type": "display_data"
    },
    {
     "data": {
      "application/scrapbook.scrap.json+json": {
       "data": 0.42633572027087213,
       "encoder": "json",
       "name": "ABC-GAN Model 1 MAE",
       "version": 1
      }
     },
     "metadata": {
      "scrapbook": {
       "data": true,
       "display": false,
       "name": "ABC-GAN Model 1 MAE"
      }
     },
     "output_type": "display_data"
    },
    {
     "data": {
      "application/scrapbook.scrap.json+json": {
       "data": 8.526714405417442,
       "encoder": "json",
       "name": "ABC-GAN Model 1 Manhattan Distance",
       "version": 1
      }
     },
     "metadata": {
      "scrapbook": {
       "data": true,
       "display": false,
       "name": "ABC-GAN Model 1 Manhattan Distance"
      }
     },
     "output_type": "display_data"
    },
    {
     "data": {
      "application/scrapbook.scrap.json+json": {
       "data": 2.7881412968545254,
       "encoder": "json",
       "name": "ABC-GAN Model 1 Euclidean distance",
       "version": 1
      }
     },
     "metadata": {
      "scrapbook": {
       "data": true,
       "display": false,
       "name": "ABC-GAN Model 1 Euclidean distance"
      }
     },
     "output_type": "display_data"
    },
    {
     "data": {
      "application/scrapbook.scrap.json+json": {
       "data": [
        [
         0.40983822296213546,
         0.3802506911912817,
         0.37963856003552154,
         0.38864605593095447,
         0.38902606745624885,
         0.3884713830015167,
         0.3892139896057318,
         0.37126371151345267,
         0.40468959927615467,
         0.39125455842421764,
         0.38517818033002305,
         0.38459710214241444,
         0.3933204889925958,
         0.39417186403703663,
         0.391185590666394,
         0.38535960356587246,
         0.3908074598499474,
         0.3849450313763597,
         0.3834634177309629,
         0.3762805280775571,
         0.3807145859673672,
         0.38447089483758,
         0.40264891725200336,
         0.40443714526526586,
         0.38966415524062636,
         0.40085331556346004,
         0.39736433715401565,
         0.3825558898084629,
         0.4052773568344086,
         0.3959841865388727,
         0.39810169973726794,
         0.3871620505644122,
         0.3980923682203238,
         0.39309307642866176,
         0.38382958861252703,
         0.40096305668292337,
         0.3955003363276184,
         0.3847417556939029,
         0.38471435919357944,
         0.3699522346121776,
         0.3822634665882677,
         0.4001939991940217,
         0.3745538137747112,
         0.401850904687476,
         0.3855135205950323,
         0.37966917046643756,
         0.3909022406850592,
         0.38867945158177963,
         0.39102999295910124,
         0.3919669810409072,
         0.3777872076966998,
         0.3829785487682049,
         0.4083199947598114,
         0.3819636915811139,
         0.3934945686460389,
         0.38040382222569896,
         0.3842572634775729,
         0.37777934795096935,
         0.3896260859868174,
         0.38028447490409506,
         0.38179280480373967,
         0.38447938417144073,
         0.39375633985574043,
         0.38722293845574945,
         0.37387114402054966,
         0.39022217940465037,
         0.3789088231186903,
         0.3875811775777439,
         0.37623754537173204,
         0.38092298914077916,
         0.3891456013302215,
         0.38916280285596627,
         0.3965351965533662,
         0.38334114433137806,
         0.3834548323467762,
         0.38569979453771813,
         0.397236811870285,
         0.38690738204147757,
         0.3929680021675136,
         0.3770265727505275,
         0.38527747382065514,
         0.3947304807770825,
         0.38313901706552594,
         0.39023180217288117,
         0.3969506200460821,
         0.3900456847685623,
         0.3807100095932253,
         0.39936256519246877,
         0.39363938643929425,
         0.399060374608437,
         0.3854397431723117,
         0.39369821477613154,
         0.39102994578801115,
         0.3945383389275037,
         0.3700711519749109,
         0.40130328416588784,
         0.3971396966860322,
         0.38392676507709267,
         0.38582639684307585,
         0.39538198602476726
        ],
        [
         0.44704112713225186,
         0.41096208547241986,
         0.4125317652244121,
         0.43172798533923923,
         0.4318167910445482,
         0.4219808254856616,
         0.42882792209275067,
         0.4106879175174981,
         0.4394369535613805,
         0.4261869477573782,
         0.417218227731064,
         0.4236965198535472,
         0.43164258082397283,
         0.43593970057554543,
         0.4301382795441896,
         0.4296377560589463,
         0.4263010260183364,
         0.41625646804459393,
         0.42224103179760275,
         0.41387474690563975,
         0.4252420060802251,
         0.42952026952989397,
         0.4426122870761901,
         0.42834266391582787,
         0.42270966176874936,
         0.43099429165013137,
         0.42900790297426283,
         0.4253057830501348,
         0.43622908596880733,
         0.43208602485246955,
         0.4352195961866528,
         0.42954226401634515,
         0.4304171935189515,
         0.42579743009991944,
         0.4295027815271169,
         0.4316983201075345,
         0.43399976124055684,
         0.42848464925773444,
         0.42429335047490896,
         0.4150030591059476,
         0.4269898653496057,
         0.4342349037993699,
         0.40401274603791537,
         0.4428148668725044,
         0.4288968008477241,
         0.4231999617535621,
         0.4281797510106117,
         0.4298058080021292,
         0.4227966204751283,
         0.42587338988669216,
         0.4164111499208957,
         0.4194179464597255,
         0.427613376872614,
         0.423618482099846,
         0.43799733673222363,
         0.41218480323441326,
         0.41784917437471447,
         0.4162676472682506,
         0.42875309926457705,
         0.42526307781226935,
         0.42602425296790897,
         0.4263933048117906,
         0.42817417648620903,
         0.422595999063924,
         0.4153034456539899,
         0.4238616385031492,
         0.4231148407328874,
         0.4244248860049993,
         0.4209848799277097,
         0.42604605075903235,
         0.4299615396652371,
         0.41916178655810654,
         0.4365807753521949,
         0.421540153818205,
         0.41279089977033434,
         0.4196466461289674,
         0.42784436312504115,
         0.42863746439106765,
         0.4384256039280444,
         0.4272075213957578,
         0.4159887493122369,
         0.42905108076520265,
         0.4163128296379,
         0.4293420209083706,
         0.43401938495226206,
         0.4226074815262109,
         0.4088880325201899,
         0.4381075725425035,
         0.43440139484591783,
         0.4379398286808282,
         0.4262346756178886,
         0.43055504639633,
         0.42455751416273413,
         0.43841052358038723,
         0.4200425535906106,
         0.4333226416725665,
         0.43623844427056613,
         0.41931749996729195,
         0.42054238584823905,
         0.432636288786307
        ],
        [
         8.940822542645037,
         8.219241709448397,
         8.250635304488242,
         8.634559706784785,
         8.636335820890963,
         8.439616509713233,
         8.576558441855013,
         8.213758350349963,
         8.78873907122761,
         8.523738955147564,
         8.34436455462128,
         8.473930397070944,
         8.632851616479456,
         8.718794011510909,
         8.602765590883791,
         8.592755121178925,
         8.526020520366728,
         8.325129360891879,
         8.444820635952055,
         8.277494938112795,
         8.504840121604502,
         8.59040539059788,
         8.852245741523802,
         8.566853278316557,
         8.454193235374987,
         8.619885833002627,
         8.580158059485257,
         8.506115661002696,
         8.724581719376147,
         8.641720497049391,
         8.704391923733056,
         8.590845280326903,
         8.60834387037903,
         8.515948601998389,
         8.590055630542338,
         8.63396640215069,
         8.679995224811137,
         8.569692985154688,
         8.485867009498179,
         8.300061182118952,
         8.539797306992114,
         8.684698075987399,
         8.080254920758307,
         8.856297337450087,
         8.577936016954482,
         8.463999235071242,
         8.563595020212233,
         8.596116160042584,
         8.455932409502566,
         8.517467797733843,
         8.328222998417914,
         8.38835892919451,
         8.55226753745228,
         8.47236964199692,
         8.759946734644473,
         8.243696064688265,
         8.35698348749429,
         8.325352945365012,
         8.57506198529154,
         8.505261556245387,
         8.52048505935818,
         8.527866096235812,
         8.56348352972418,
         8.451919981278479,
         8.306068913079798,
         8.477232770062983,
         8.462296814657748,
         8.488497720099986,
         8.419697598554194,
         8.520921015180647,
         8.599230793304741,
         8.38323573116213,
         8.731615507043898,
         8.4308030763641,
         8.255817995406687,
         8.392932922579348,
         8.556887262500823,
         8.572749287821352,
         8.768512078560889,
         8.544150427915156,
         8.319774986244738,
         8.581021615304053,
         8.326256592758,
         8.586840418167412,
         8.68038769904524,
         8.452149630524218,
         8.177760650403798,
         8.76215145085007,
         8.688027896918356,
         8.758796573616564,
         8.524693512357771,
         8.6111009279266,
         8.491150283254683,
         8.768210471607745,
         8.400851071812212,
         8.66645283345133,
         8.724768885411322,
         8.386349999345839,
         8.410847716964781,
         8.65272577572614
        ],
        [
         2.862999206993028,
         2.7577189530163575,
         2.7554983579582175,
         2.7879958964494707,
         2.78935859098915,
         2.7873693081524618,
         2.7900322206230226,
         2.7249356378213876,
         2.844959048127599,
         2.7973364417753457,
         2.775529428163294,
         2.7734350619490424,
         2.8047120671919097,
         2.8077459430548077,
         2.7970898829547615,
         2.7761830039313775,
         2.795737683867882,
         2.774689284861855,
         2.7693443907573605,
         2.743284630065051,
         2.7594006087096785,
         2.7729799668860933,
         2.8377770076311606,
         2.8440715366012363,
         2.791645232620457,
         2.8314424435734518,
         2.819093248383301,
         2.7660653998358855,
         2.847024259940222,
         2.814193264645741,
         2.8217076380704924,
         2.7826679664106972,
         2.8216745674167454,
         2.8039011267470246,
         2.7706663047452214,
         2.83182999730889,
         2.8124734179281354,
         2.7739565811090228,
         2.7738578160878378,
         2.7201185070219918,
         2.7650080165824753,
         2.829112932330633,
         2.7369830608708967,
         2.8349635083629416,
         2.7767373681896252,
         2.7556094442661414,
         2.7960766823714227,
         2.788115677592232,
         2.796533543367936,
         2.79988207266273,
         2.7487713899002215,
         2.767592993083358,
         2.857691357581541,
         2.763923629846215,
         2.8053326670683423,
         2.7582741786330778,
         2.7722094562914,
         2.7487427960832176,
         2.7915088607662253,
         2.7578414562990923,
         2.763305284631937,
         2.7730105811966914,
         2.8062656319591,
         2.7828867690071384,
         2.7344876815248216,
         2.7936434253664166,
         2.7528487903213654,
         2.7841737646122016,
         2.7431279422284773,
         2.76015575336168,
         2.789787093418498,
         2.789848751656499,
         2.81615055191787,
         2.7689028308388797,
         2.769313389079597,
         2.777408124628853,
         2.8186408493111887,
         2.781752620350981,
         2.8034550189632563,
         2.746002814093705,
         2.7758871512388796,
         2.809734794520944,
         2.7681727441239135,
         2.7936778703811975,
         2.817625312372396,
         2.7930115816751004,
         2.759384023992403,
         2.8261725537994624,
         2.8058488428256223,
         2.8251030940779382,
         2.7764716572380554,
         2.8060584982360273,
         2.7965333746909264,
         2.8090508679178585,
         2.7205556490353615,
         2.833031182905998,
         2.8182962821038964,
         2.771017015743832,
         2.777863916188393,
         2.8120525813887878
        ]
       ],
       "encoder": "json",
       "name": "ABC_GAN_1 Metrics",
       "version": 1
      }
     },
     "metadata": {
      "scrapbook": {
       "data": true,
       "display": false,
       "name": "ABC_GAN_1 Metrics"
      }
     },
     "output_type": "display_data"
    },
    {
     "name": "stdout",
     "output_type": "stream",
     "text": [
      "MSE\n",
      "0.3887321836889764\n"
     ]
    }
   ],
   "source": [
    "ABC_GAN1_metrics=ABC_train_test2.test_generator(gen,test_data,prior_model,variance,bias,\"1\",device)\n",
    "sb.glue(\"ABC_GAN_1 Metrics\",ABC_GAN1_metrics)\n",
    "\n",
    "print(\"MSE\")\n",
    "print(mean(ABC_GAN1_metrics[0]))"
   ]
  },
  {
   "cell_type": "code",
   "execution_count": 14,
   "id": "eb22ce5c",
   "metadata": {
    "execution": {
     "iopub.execute_input": "2022-06-22T12:47:32.548855Z",
     "iopub.status.busy": "2022-06-22T12:47:32.548008Z",
     "iopub.status.idle": "2022-06-22T12:47:33.301277Z",
     "shell.execute_reply": "2022-06-22T12:47:33.301956Z"
    },
    "papermill": {
     "duration": 0.819992,
     "end_time": "2022-06-22T12:47:33.302160",
     "exception": false,
     "start_time": "2022-06-22T12:47:32.482168",
     "status": "completed"
    },
    "tags": []
   },
   "outputs": [
    {
     "data": {
      "image/png": "[encoded data removed]",
      "text/plain": [
       "<Figure size 432x288 with 1 Axes>"
      ]
     },
     "metadata": {
      "needs_background": "light"
     },
     "output_type": "display_data"
    },
    {
     "data": {
      "image/png": "[encoded data removed]",
      "text/plain": [
       "<Figure size 432x288 with 1 Axes>"
      ]
     },
     "metadata": {
      "needs_background": "light"
     },
     "output_type": "display_data"
    },
    {
     "data": {
      "image/png": "[encoded data removed]",
      "text/plain": [
       "<Figure size 432x288 with 1 Axes>"
      ]
     },
     "metadata": {
      "needs_background": "light"
     },
     "output_type": "display_data"
    },
    {
     "data": {
      "image/png": "[encoded data removed]",
      "text/plain": [
       "<Figure size 432x288 with 1 Axes>"
      ]
     },
     "metadata": {
      "needs_background": "light"
     },
     "output_type": "display_data"
    }
   ],
   "source": [
    "sanityChecks.discProbVsError(train_data,disc,device)\n",
    "sanityChecks.discProbVsError(test_data,disc,device)"
   ]
  },
  {
   "cell_type": "markdown",
   "id": "130f3a4d",
   "metadata": {
    "id": "130f3a4d",
    "papermill": {
     "duration": 0.035815,
     "end_time": "2022-06-22T12:47:33.372437",
     "exception": false,
     "start_time": "2022-06-22T12:47:33.336622",
     "status": "completed"
    },
    "tags": []
   },
   "source": [
    "# ABC - GAN Model with skip connection"
   ]
  },
  {
   "cell_type": "code",
   "execution_count": 15,
   "id": "4e43dad1",
   "metadata": {
    "execution": {
     "iopub.execute_input": "2022-06-22T12:47:33.457819Z",
     "iopub.status.busy": "2022-06-22T12:47:33.456915Z",
     "iopub.status.idle": "2022-06-22T12:47:33.461404Z",
     "shell.execute_reply": "2022-06-22T12:47:33.462172Z"
    },
    "id": "4e43dad1",
    "papermill": {
     "duration": 0.052018,
     "end_time": "2022-06-22T12:47:33.462398",
     "exception": false,
     "start_time": "2022-06-22T12:47:33.410380",
     "status": "completed"
    },
    "tags": []
   },
   "outputs": [],
   "source": [
    "#Generator\n",
    "gen3 = network.GeneratorWithSkipConnection(n_features+1).to(device)\n",
    "constraints=network.weightConstraint()\n",
    "#Discriminator \n",
    "disc3 = network.Discriminator(n_features+1).to(device)\n",
    "\n",
    "criterion = torch.nn.BCELoss()\n",
    "gen_opt = torch.optim.Adam(gen3.parameters(), lr=0.001, betas=(0.5, 0.999))\n",
    "disc_opt = torch.optim.Adam(disc3.parameters(), lr=0.001, betas=(0.5, 0.999))\n"
   ]
  },
  {
   "cell_type": "code",
   "execution_count": 16,
   "id": "26acbc37",
   "metadata": {
    "execution": {
     "iopub.execute_input": "2022-06-22T12:47:33.545200Z",
     "iopub.status.busy": "2022-06-22T12:47:33.544463Z",
     "iopub.status.idle": "2022-06-22T12:48:50.137429Z",
     "shell.execute_reply": "2022-06-22T12:48:50.136689Z"
    },
    "id": "26acbc37",
    "papermill": {
     "duration": 76.638396,
     "end_time": "2022-06-22T12:48:50.137829",
     "exception": false,
     "start_time": "2022-06-22T12:47:33.499433",
     "status": "completed"
    },
    "tags": []
   },
   "outputs": [
    {
     "data": {
      "image/png": "[encoded data removed]",
      "text/plain": [
       "<Figure size 432x288 with 1 Axes>"
      ]
     },
     "metadata": {
      "needs_background": "light"
     },
     "output_type": "display_data"
    },
    {
     "data": {
      "image/png": "[encoded data removed]",
      "text/plain": [
       "<Figure size 432x288 with 1 Axes>"
      ]
     },
     "metadata": {
      "needs_background": "light"
     },
     "output_type": "display_data"
    }
   ],
   "source": [
    "ABC_train_test2.training_GAN_skip_connection(disc3,gen3,disc_opt,gen_opt,train_data,batch_size,n_epochs,criterion,prior_model,variance,bias,device)"
   ]
  },
  {
   "cell_type": "code",
   "execution_count": 17,
   "id": "c5e0717b",
   "metadata": {
    "execution": {
     "iopub.execute_input": "2022-06-22T12:48:50.241638Z",
     "iopub.status.busy": "2022-06-22T12:48:50.240857Z",
     "iopub.status.idle": "2022-06-22T12:48:51.082752Z",
     "shell.execute_reply": "2022-06-22T12:48:51.083276Z"
    },
    "id": "c5e0717b",
    "papermill": {
     "duration": 0.9029,
     "end_time": "2022-06-22T12:48:51.083503",
     "exception": false,
     "start_time": "2022-06-22T12:48:50.180603",
     "status": "completed"
    },
    "tags": []
   },
   "outputs": [
    {
     "data": {
      "application/scrapbook.scrap.json+json": {
       "data": 0.5303231960991739,
       "encoder": "json",
       "name": "ABC-GAN Model 3 MSE",
       "version": 1
      }
     },
     "metadata": {
      "scrapbook": {
       "data": true,
       "display": false,
       "name": "ABC-GAN Model 3 MSE"
      }
     },
     "output_type": "display_data"
    },
    {
     "data": {
      "application/scrapbook.scrap.json+json": {
       "data": 0.5630814974941313,
       "encoder": "json",
       "name": "ABC-GAN Model 3 MAE",
       "version": 1
      }
     },
     "metadata": {
      "scrapbook": {
       "data": true,
       "display": false,
       "name": "ABC-GAN Model 3 MAE"
      }
     },
     "output_type": "display_data"
    },
    {
     "data": {
      "application/scrapbook.scrap.json+json": {
       "data": 11.261629949882627,
       "encoder": "json",
       "name": "ABC-GAN Model 3 Manhattan Distance",
       "version": 1
      }
     },
     "metadata": {
      "scrapbook": {
       "data": true,
       "display": false,
       "name": "ABC-GAN Model 3 Manhattan Distance"
      }
     },
     "output_type": "display_data"
    },
    {
     "data": {
      "application/scrapbook.scrap.json+json": {
       "data": 3.2557297955723445,
       "encoder": "json",
       "name": "ABC-GAN Model 3 Euclidean distance",
       "version": 1
      }
     },
     "metadata": {
      "scrapbook": {
       "data": true,
       "display": false,
       "name": "ABC-GAN Model 3 Euclidean distance"
      }
     },
     "output_type": "display_data"
    },
    {
     "data": {
      "application/scrapbook.scrap.json+json": {
       "data": [
        [
         0.546627217141362,
         0.5473379072127006,
         0.5543316840613205,
         0.5422866667428023,
         0.5750494591417228,
         0.5245753459850937,
         0.544745086314127,
         0.5458134587398942,
         0.5201022028358127,
         0.5226916840371787,
         0.4837393559191561,
         0.4934965414981539,
         0.49032429474397093,
         0.46576936257428053,
         0.5289138285908296,
         0.5355844872152579,
         0.5445523451384784,
         0.5908264302498386,
         0.5052130822177897,
         0.5608056665626246,
         0.47127683224237293,
         0.5604534874427863,
         0.524970637173421,
         0.552323997384066,
         0.48826835526130596,
         0.5305357052313354,
         0.5052984685900188,
         0.5371785893274359,
         0.5118059947839498,
         0.5510054028495077,
         0.5132787266180525,
         0.5281576497415227,
         0.5662903279446294,
         0.49633883821997565,
         0.5103171722200243,
         0.5686550056539712,
         0.5649422825835353,
         0.5372062881132276,
         0.47869421698067677,
         0.5084891022330809,
         0.5162806991356874,
         0.5066389770311851,
         0.5636673885273196,
         0.5685742040382328,
         0.5300102102863053,
         0.5642178673635913,
         0.5236338034929737,
         0.534131184968634,
         0.5504372235554074,
         0.528968773798046,
         0.47761797000199235,
         0.5249390062655876,
         0.5099548900178746,
         0.5772813705846124,
         0.5579232661716842,
         0.5215209807321189,
         0.5236612995602915,
         0.5309791537998629,
         0.5073935146241844,
         0.5573387131255266,
         0.4878747129987374,
         0.5380388795350615,
         0.5472080515814092,
         0.5340630605279438,
         0.5124223610676019,
         0.5301828489427434,
         0.5660583084508609,
         0.529320137847232,
         0.5451920359319435,
         0.5453048842657738,
         0.4993311182484028,
         0.5631927733064964,
         0.5201776247819785,
         0.4613699637235625,
         0.49381409472297244,
         0.5441920355663715,
         0.5305438911809608,
         0.5429906999541283,
         0.561407687734645,
         0.5602395472434164,
         0.5220947280698944,
         0.5618576322969565,
         0.5179313061140796,
         0.5409543243165684,
         0.5246644288680413,
         0.5445114386392083,
         0.5046730700775506,
         0.5524829934399899,
         0.545980248646776,
         0.5052208514635839,
         0.499059922441581,
         0.5187102287152208,
         0.555037497356467,
         0.5258678442605227,
         0.5161271276023287,
         0.5416022309602846,
         0.5624099222155475,
         0.508078286305407,
         0.5357278077746768,
         0.5329593181420513
        ],
        [
         0.5795304663944989,
         0.5933811396826059,
         0.56649364461191,
         0.5807518527377397,
         0.6010609871242195,
         0.5546526037622244,
         0.5645125031936914,
         0.5683213383425028,
         0.547526539163664,
         0.5582250398118049,
         0.5430588020477444,
         0.5428296365309506,
         0.5224090032745152,
         0.5275235698092728,
         0.5552317910362035,
         0.5776333131361753,
         0.5691997308749706,
         0.6080321856308728,
         0.5271190450061113,
         0.5921109915245324,
         0.5470672332216054,
         0.5894439382944257,
         0.569465807126835,
         0.5828113802243025,
         0.5378078021574766,
         0.5498458281625063,
         0.5411142580676824,
         0.5885925792623311,
         0.5654534861911088,
         0.5973520104307681,
         0.5384921923745424,
         0.567742193909362,
         0.5842691340018064,
         0.5527103351894767,
         0.5360857032705099,
         0.5995962039101869,
         0.5958581351209432,
         0.5620012116152793,
         0.513178599299863,
         0.5417639676947147,
         0.5413063958752901,
         0.5405190572608263,
         0.5913826987612992,
         0.5804782238323242,
         0.5491868764627725,
         0.5887627244461328,
         0.5798309147823602,
         0.5571866170037538,
         0.5593793858308345,
         0.5692445241380483,
         0.535760015854612,
         0.5641074903775006,
         0.5309534557629376,
         0.5906515796203167,
         0.5816460056696087,
         0.5661704112309962,
         0.5528803043533117,
         0.5478489801753312,
         0.5274660923052579,
         0.5876028933096678,
         0.5367930196691304,
         0.5548927799332887,
         0.5746791169513017,
         0.5639497310388834,
         0.5390090190339833,
         0.5511852816212922,
         0.6128568660933524,
         0.5495207943487912,
         0.5707688253838569,
         0.5647740889806301,
         0.5465828877408058,
         0.5753337808419019,
         0.5518840890843422,
         0.5521185547579079,
         0.5295557268429547,
         0.567187511222437,
         0.5686246589291841,
         0.5788763650227338,
         0.582795210974291,
         0.5994066760409623,
         0.5501290118787437,
         0.5825241566170007,
         0.5542228445876389,
         0.5724441543687135,
         0.5610285789240151,
         0.5844722791109234,
         0.5448315181303769,
         0.5714279845822603,
         0.5839725740719587,
         0.5634299077559263,
         0.5412260078359395,
         0.5493257489521056,
         0.5711860977578909,
         0.5740315238479525,
         0.5327752072829753,
         0.5653465491253883,
         0.5672207359690219,
         0.5413971193600446,
         0.5864309523720295,
         0.5573109820950777
        ],
        [
         11.590609327889979,
         11.867622793652117,
         11.3298728922382,
         11.615037054754794,
         12.02121974248439,
         11.093052075244486,
         11.290250063873827,
         11.366426766850054,
         10.95053078327328,
         11.164500796236098,
         10.861176040954888,
         10.856592730619013,
         10.448180065490305,
         10.550471396185458,
         11.10463582072407,
         11.552666262723505,
         11.383994617499411,
         12.160643712617457,
         10.542380900122225,
         11.842219830490649,
         10.941344664432108,
         11.788878765888512,
         11.3893161425367,
         11.656227604486048,
         10.75615604314953,
         10.996916563250124,
         10.822285161353648,
         11.771851585246623,
         11.309069723822176,
         11.947040208615363,
         10.769843847490847,
         11.35484387818724,
         11.685382680036128,
         11.054206703789532,
         10.721714065410197,
         11.991924078203738,
         11.917162702418864,
         11.240024232305586,
         10.26357198599726,
         10.835279353894293,
         10.8261279175058,
         10.810381145216525,
         11.827653975225985,
         11.609564476646483,
         10.98373752925545,
         11.775254488922656,
         11.596618295647204,
         11.143732340075076,
         11.18758771661669,
         11.384890482760966,
         10.71520031709224,
         11.282149807550013,
         10.619069115258753,
         11.813031592406332,
         11.632920113392174,
         11.323408224619925,
         11.057606087066233,
         10.956979603506625,
         10.549321846105158,
         11.752057866193354,
         10.735860393382609,
         11.097855598665774,
         11.493582339026034,
         11.278994620777667,
         10.780180380679667,
         11.023705632425845,
         12.257137321867049,
         10.990415886975825,
         11.415376507677138,
         11.2954817796126,
         10.931657754816115,
         11.506675616838038,
         11.037681781686842,
         11.04237109515816,
         10.591114536859095,
         11.34375022444874,
         11.372493178583682,
         11.577527300454676,
         11.65590421948582,
         11.988133520819247,
         11.002580237574875,
         11.650483132340014,
         11.08445689175278,
         11.44888308737427,
         11.220571578480303,
         11.689445582218468,
         10.896630362607539,
         11.428559691645205,
         11.679451481439173,
         11.268598155118525,
         10.82452015671879,
         10.986514979042113,
         11.423721955157816,
         11.48063047695905,
         10.655504145659506,
         11.306930982507765,
         11.344414719380438,
         10.827942387200892,
         11.728619047440588,
         11.146219641901553
        ],
        [
         3.3064398290044896,
         3.3085885426045367,
         3.3296596945072943,
         3.293286099757512,
         3.391310835478585,
         3.239059573348701,
         3.3007426022461273,
         3.3039777806150394,
         3.225220001289254,
         3.233238883958866,
         3.1104319826003466,
         3.141644605929047,
         3.131530918716821,
         3.0521119329876494,
         3.2524262592434883,
         3.2728717885528544,
         3.3001586178196893,
         3.4375177970443693,
         3.178720126773635,
         3.349046630199779,
         3.070103686334951,
         3.3479948848311767,
         3.2402797322867696,
         3.3236245196594205,
         3.1249587365637517,
         3.2574091091888824,
         3.1789887341417833,
         3.2777388221987294,
         3.199393676257893,
         3.319654809914752,
         3.203993528763916,
         3.2501004591905236,
         3.365383567870472,
         3.1506787783586434,
         3.1947368349209118,
         3.3724027210698644,
         3.3613755594504324,
         3.277823326883948,
         3.0941694102963293,
         3.189009571114771,
         3.213349340285576,
         3.183202717488112,
         3.3575806424487245,
         3.3721631159783265,
         3.2557954797139987,
         3.359219752750901,
         3.2361514287590856,
         3.2684283225080337,
         3.3179428070881736,
         3.252595190914621,
         3.0906891464590625,
         3.240182112985589,
         3.193602636577928,
         3.397885726697154,
         3.340428913093898,
         3.2296160165942918,
         3.2362363929734537,
         3.2587701784564773,
         3.1855722080159614,
         3.3386785203895464,
         3.123698810700985,
         3.2803624175845614,
         3.3081960388749914,
         3.2682198840590386,
         3.2013196062486537,
         3.2563256868524175,
         3.3646940676705244,
         3.253675269129456,
         3.3020964126807186,
         3.3024381425418823,
         3.1601617624685066,
         3.356166781631975,
         3.2254538433590345,
         3.0376634564202876,
         3.142655229970263,
         3.299066642450169,
         3.257434239339179,
         3.295423189680282,
         3.350843737731275,
         3.347355813902718,
         3.231392046997376,
         3.3521862486948915,
         3.2184819592909935,
         3.289237979583017,
         3.2393345886710785,
         3.3000346623610124,
         3.177020837443628,
         3.3241028667596604,
         3.304482557517215,
         3.178744568107301,
         3.1593034752666007,
         3.220901205300221,
         3.331778796248235,
         3.2430474688493924,
         3.2128713874113566,
         3.2912071674699686,
         3.3538333954314057,
         3.1877210866241326,
         3.273309663856069,
         3.2648409398990674
        ]
       ],
       "encoder": "json",
       "name": "ABC_GAN_3 Metrics",
       "version": 1
      }
     },
     "metadata": {
      "scrapbook": {
       "data": true,
       "display": false,
       "name": "ABC_GAN_3 Metrics"
      }
     },
     "output_type": "display_data"
    },
    {
     "name": "stdout",
     "output_type": "stream",
     "text": [
      "MSE\n",
      "0.5303231960991739\n"
     ]
    }
   ],
   "source": [
    "ABC_GAN3_metrics=ABC_train_test2.test_generator(gen3,test_data,prior_model,variance,bias,\"3\",device)\n",
    "sb.glue(\"ABC_GAN_3 Metrics\",ABC_GAN3_metrics)\n",
    "\n",
    "print(\"MSE\")\n",
    "print(mean(ABC_GAN3_metrics[0]))"
   ]
  },
  {
   "cell_type": "code",
   "execution_count": 18,
   "id": "c8e46b48",
   "metadata": {
    "execution": {
     "iopub.execute_input": "2022-06-22T12:48:51.180359Z",
     "iopub.status.busy": "2022-06-22T12:48:51.179615Z",
     "iopub.status.idle": "2022-06-22T12:48:52.142166Z",
     "shell.execute_reply": "2022-06-22T12:48:52.142631Z"
    },
    "id": "c8e46b48",
    "papermill": {
     "duration": 1.016209,
     "end_time": "2022-06-22T12:48:52.142837",
     "exception": false,
     "start_time": "2022-06-22T12:48:51.126628",
     "status": "completed"
    },
    "tags": []
   },
   "outputs": [
    {
     "data": {
      "image/png": "[encoded data removed]",
      "text/plain": [
       "<Figure size 432x288 with 1 Axes>"
      ]
     },
     "metadata": {
      "needs_background": "light"
     },
     "output_type": "display_data"
    },
    {
     "data": {
      "image/png": "[encoded data removed]",
      "text/plain": [
       "<Figure size 432x288 with 1 Axes>"
      ]
     },
     "metadata": {
      "needs_background": "light"
     },
     "output_type": "display_data"
    },
    {
     "data": {
      "image/png": "[encoded data removed]",
      "text/plain": [
       "<Figure size 432x288 with 1 Axes>"
      ]
     },
     "metadata": {
      "needs_background": "light"
     },
     "output_type": "display_data"
    },
    {
     "data": {
      "image/png": "[encoded data removed]",
      "text/plain": [
       "<Figure size 432x288 with 1 Axes>"
      ]
     },
     "metadata": {
      "needs_background": "light"
     },
     "output_type": "display_data"
    }
   ],
   "source": [
    "sanityChecks.discProbVsError(train_data,disc3,device)\n",
    "sanityChecks.discProbVsError(test_data,disc3,device)"
   ]
  },
  {
   "cell_type": "markdown",
   "id": "a5bd74c3",
   "metadata": {
    "id": "a5bd74c3",
    "papermill": {
     "duration": 0.056746,
     "end_time": "2022-06-22T12:48:52.248543",
     "exception": false,
     "start_time": "2022-06-22T12:48:52.191797",
     "status": "completed"
    },
    "tags": []
   },
   "source": [
    "## Skip Connection Model Analysis - ABC-GAN "
   ]
  },
  {
   "cell_type": "markdown",
   "id": "5744a8bf",
   "metadata": {
    "id": "5744a8bf",
    "papermill": {
     "duration": 0.093718,
     "end_time": "2022-06-22T12:48:52.404803",
     "exception": false,
     "start_time": "2022-06-22T12:48:52.311085",
     "status": "completed"
    },
    "tags": []
   },
   "source": [
    "### Weight Analysis \n",
    "\n",
    "Study the weights of the skip connection layer\n",
    "\n",
    "Equation of the skip connection is \n",
    "\n",
    "$output = y_{gan} * w + y_{abc} * (1-w)$"
   ]
  },
  {
   "cell_type": "code",
   "execution_count": 19,
   "id": "52c31dea",
   "metadata": {
    "execution": {
     "iopub.execute_input": "2022-06-22T12:48:52.604185Z",
     "iopub.status.busy": "2022-06-22T12:48:52.602355Z",
     "iopub.status.idle": "2022-06-22T12:48:52.622209Z",
     "shell.execute_reply": "2022-06-22T12:48:52.617431Z"
    },
    "id": "52c31dea",
    "papermill": {
     "duration": 0.157651,
     "end_time": "2022-06-22T12:48:52.623024",
     "exception": false,
     "start_time": "2022-06-22T12:48:52.465373",
     "status": "completed"
    },
    "tags": []
   },
   "outputs": [
    {
     "name": "stdout",
     "output_type": "stream",
     "text": [
      "Weight of the node at skip connection\n",
      "Parameter containing:\n",
      "tensor([[0.1998]], requires_grad=True)\n"
     ]
    },
    {
     "data": {
      "application/scrapbook.scrap.json+json": {
       "data": 0.19978280365467072,
       "encoder": "json",
       "name": "Skip Connection Weight",
       "version": 1
      }
     },
     "metadata": {
      "scrapbook": {
       "data": true,
       "display": false,
       "name": "Skip Connection Weight"
      }
     },
     "output_type": "display_data"
    }
   ],
   "source": [
    "print(\"Weight of the node at skip connection\")\n",
    "for name,param in gen3.named_parameters():\n",
    "    if(name == \"skipNode.weight\"):\n",
    "        print(param)\n",
    "        sb.glue(\"Skip Connection Weight\",param.item())"
   ]
  }
 ],
 "metadata": {
  "colab": {
   "collapsed_sections": [],
   "name": "ABC_GAN_Model-Catboost_Pre-gen.ipynb",
   "provenance": []
  },
  "interpreter": {
   "hash": "31f2aee4e71d21fbe5cf8b01ff0e069b9275f58929596ceb00d14d90e3e16cd6"
  },
  "kernelspec": {
   "display_name": "Python 3 (ipykernel)",
   "language": "python",
   "name": "python3"
  },
  "language_info": {
   "codemirror_mode": {
    "name": "ipython",
    "version": 3
   },
   "file_extension": ".py",
   "mimetype": "text/x-python",
   "name": "python",
   "nbconvert_exporter": "python",
   "pygments_lexer": "ipython3",
   "version": "3.8.3"
  },
  "papermill": {
   "default_parameters": {},
   "duration": 151.211345,
   "end_time": "2022-06-22T12:48:53.464723",
   "environment_variables": {},
   "exception": null,
   "input_path": "ABC_GAN-TabNet.ipynb",
   "output_path": "./ABC_GAN_TabNet/ABC-GAN_output_3_9.ipynb",
   "parameters": {
    "bias": 0,
    "variance": 1
   },
   "start_time": "2022-06-22T12:46:22.253378",
   "version": "2.3.3"
  }
 },
 "nbformat": 4,
 "nbformat_minor": 5
}