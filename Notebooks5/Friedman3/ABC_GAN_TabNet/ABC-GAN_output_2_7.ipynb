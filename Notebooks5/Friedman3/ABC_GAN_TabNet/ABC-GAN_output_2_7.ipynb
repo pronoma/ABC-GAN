{
 "cells": [
  {
   "cell_type": "markdown",
   "id": "622780e6",
   "metadata": {
    "id": "622780e6",
    "papermill": {
     "duration": 0.026232,
     "end_time": "2022-06-22T12:12:18.007148",
     "exception": false,
     "start_time": "2022-06-22T12:12:17.980916",
     "status": "completed"
    },
    "tags": []
   },
   "source": [
    "## Import Libraries "
   ]
  },
  {
   "cell_type": "code",
   "execution_count": 1,
   "id": "a62397e3",
   "metadata": {
    "execution": {
     "iopub.execute_input": "2022-06-22T12:12:18.059371Z",
     "iopub.status.busy": "2022-06-22T12:12:18.057839Z",
     "iopub.status.idle": "2022-06-22T12:12:18.061268Z",
     "shell.execute_reply": "2022-06-22T12:12:18.061840Z"
    },
    "id": "a62397e3",
    "papermill": {
     "duration": 0.034999,
     "end_time": "2022-06-22T12:12:18.062198",
     "exception": false,
     "start_time": "2022-06-22T12:12:18.027199",
     "status": "completed"
    },
    "tags": []
   },
   "outputs": [],
   "source": [
    "import warnings\n",
    "import sys\n",
    "sys.path.insert(0, '../../src')\n",
    "warnings.filterwarnings('ignore')"
   ]
  },
  {
   "cell_type": "code",
   "execution_count": 2,
   "id": "d6a4e155",
   "metadata": {
    "execution": {
     "iopub.execute_input": "2022-06-22T12:12:18.103260Z",
     "iopub.status.busy": "2022-06-22T12:12:18.102233Z",
     "iopub.status.idle": "2022-06-22T12:12:23.988288Z",
     "shell.execute_reply": "2022-06-22T12:12:23.988854Z"
    },
    "id": "d6a4e155",
    "papermill": {
     "duration": 5.907738,
     "end_time": "2022-06-22T12:12:23.989378",
     "exception": false,
     "start_time": "2022-06-22T12:12:18.081640",
     "status": "completed"
    },
    "tags": []
   },
   "outputs": [],
   "source": [
    "import ABC_train_test2\n",
    "import friedman3Dataset\n",
    "import network\n",
    "import dataset\n",
    "import sanityChecks\n",
    "import torch \n",
    "import scrapbook as sb\n",
    "from statistics import mean \n",
    "import catboost as ctb \n",
    "from sklearn.model_selection import train_test_split\n",
    "from sklearn.metrics import mean_squared_error,mean_absolute_error\n",
    "import numpy as np\n",
    "from pytorch_tabnet.tab_model import TabNetRegressor"
   ]
  },
  {
   "cell_type": "markdown",
   "id": "2fa5b0f7",
   "metadata": {
    "id": "2fa5b0f7",
    "papermill": {
     "duration": 0.02035,
     "end_time": "2022-06-22T12:12:24.027303",
     "exception": false,
     "start_time": "2022-06-22T12:12:24.006953",
     "status": "completed"
    },
    "tags": []
   },
   "source": [
    "## Parameters "
   ]
  },
  {
   "cell_type": "code",
   "execution_count": 3,
   "id": "783186fb",
   "metadata": {
    "execution": {
     "iopub.execute_input": "2022-06-22T12:12:24.114586Z",
     "iopub.status.busy": "2022-06-22T12:12:24.112435Z",
     "iopub.status.idle": "2022-06-22T12:12:24.117791Z",
     "shell.execute_reply": "2022-06-22T12:12:24.121138Z"
    },
    "id": "783186fb",
    "papermill": {
     "duration": 0.074954,
     "end_time": "2022-06-22T12:12:24.121477",
     "exception": false,
     "start_time": "2022-06-22T12:12:24.046523",
     "status": "completed"
    },
    "tags": [
     "parameters"
    ]
   },
   "outputs": [],
   "source": [
    "variance = 1\n",
    "bias = 1 "
   ]
  },
  {
   "cell_type": "code",
   "execution_count": 4,
   "id": "88c99fb6",
   "metadata": {
    "execution": {
     "iopub.execute_input": "2022-06-22T12:12:24.184852Z",
     "iopub.status.busy": "2022-06-22T12:12:24.182110Z",
     "iopub.status.idle": "2022-06-22T12:12:24.186220Z",
     "shell.execute_reply": "2022-06-22T12:12:24.185597Z"
    },
    "papermill": {
     "duration": 0.048897,
     "end_time": "2022-06-22T12:12:24.186964",
     "exception": false,
     "start_time": "2022-06-22T12:12:24.138067",
     "status": "completed"
    },
    "tags": [
     "injected-parameters"
    ]
   },
   "outputs": [],
   "source": [
    "# Parameters\n",
    "variance = 0.1\n",
    "bias = 0.01\n"
   ]
  },
  {
   "cell_type": "markdown",
   "id": "391cdbfd",
   "metadata": {
    "id": "391cdbfd",
    "papermill": {
     "duration": 0.016577,
     "end_time": "2022-06-22T12:12:24.221047",
     "exception": false,
     "start_time": "2022-06-22T12:12:24.204470",
     "status": "completed"
    },
    "tags": []
   },
   "source": [
    "## Dataset \n"
   ]
  },
  {
   "cell_type": "code",
   "execution_count": 5,
   "id": "5b51f161",
   "metadata": {
    "execution": {
     "iopub.execute_input": "2022-06-22T12:12:24.303210Z",
     "iopub.status.busy": "2022-06-22T12:12:24.301103Z",
     "iopub.status.idle": "2022-06-22T12:12:24.305264Z",
     "shell.execute_reply": "2022-06-22T12:12:24.303956Z"
    },
    "id": "5b51f161",
    "papermill": {
     "duration": 0.037182,
     "end_time": "2022-06-22T12:12:24.305544",
     "exception": false,
     "start_time": "2022-06-22T12:12:24.268362",
     "status": "completed"
    },
    "tags": []
   },
   "outputs": [],
   "source": [
    "#Parameters \n",
    "n_features = 4\n",
    "n_samples= 100\n",
    "n_target = 1"
   ]
  },
  {
   "cell_type": "code",
   "execution_count": 6,
   "id": "5d6eced4",
   "metadata": {
    "execution": {
     "iopub.execute_input": "2022-06-22T12:12:24.348431Z",
     "iopub.status.busy": "2022-06-22T12:12:24.345332Z",
     "iopub.status.idle": "2022-06-22T12:12:24.361170Z",
     "shell.execute_reply": "2022-06-22T12:12:24.360666Z"
    },
    "id": "5d6eced4",
    "papermill": {
     "duration": 0.038237,
     "end_time": "2022-06-22T12:12:24.361362",
     "exception": false,
     "start_time": "2022-06-22T12:12:24.323125",
     "status": "completed"
    },
    "tags": []
   },
   "outputs": [
    {
     "name": "stdout",
     "output_type": "stream",
     "text": [
      "          X1           X2        X3        X4         Y\n",
      "0  93.819310   618.588499  0.329928  7.712146  0.946205\n",
      "1  86.396162   186.617768  0.293214  1.882016  0.662608\n",
      "2  93.838980  1349.288854  0.011970  8.579892  0.141852\n",
      "3  78.703183   730.663356  0.224169  3.467332  1.118110\n",
      "4  55.896872   911.731884  0.292735  2.558580  1.284917\n"
     ]
    }
   ],
   "source": [
    "X,Y = friedman3Dataset.friedman3_data(n_samples)"
   ]
  },
  {
   "cell_type": "code",
   "execution_count": 7,
   "id": "fe007438",
   "metadata": {
    "execution": {
     "iopub.execute_input": "2022-06-22T12:12:24.417462Z",
     "iopub.status.busy": "2022-06-22T12:12:24.415933Z",
     "iopub.status.idle": "2022-06-22T12:12:24.420021Z",
     "shell.execute_reply": "2022-06-22T12:12:24.419198Z"
    },
    "id": "fe007438",
    "papermill": {
     "duration": 0.044507,
     "end_time": "2022-06-22T12:12:24.422277",
     "exception": false,
     "start_time": "2022-06-22T12:12:24.377770",
     "status": "completed"
    },
    "tags": []
   },
   "outputs": [],
   "source": [
    "#Train test split for dataset \n",
    "X_train,X_test,Y_train,Y_test = train_test_split(X,Y,test_size = 0.2)\n",
    "train_data = dataset.CustomDataset(X_train,Y_train)\n",
    "test_data = dataset.CustomDataset(X_test,Y_test)\n"
   ]
  },
  {
   "cell_type": "markdown",
   "id": "a9a1af34",
   "metadata": {
    "id": "a9a1af34",
    "papermill": {
     "duration": 0.01949,
     "end_time": "2022-06-22T12:12:24.458519",
     "exception": false,
     "start_time": "2022-06-22T12:12:24.439029",
     "status": "completed"
    },
    "tags": []
   },
   "source": [
    "## Training Parameters "
   ]
  },
  {
   "cell_type": "code",
   "execution_count": 8,
   "id": "952b7fc8",
   "metadata": {
    "execution": {
     "iopub.execute_input": "2022-06-22T12:12:24.499898Z",
     "iopub.status.busy": "2022-06-22T12:12:24.498174Z",
     "iopub.status.idle": "2022-06-22T12:12:24.502083Z",
     "shell.execute_reply": "2022-06-22T12:12:24.502595Z"
    },
    "id": "952b7fc8",
    "papermill": {
     "duration": 0.029363,
     "end_time": "2022-06-22T12:12:24.502829",
     "exception": false,
     "start_time": "2022-06-22T12:12:24.473466",
     "status": "completed"
    },
    "tags": []
   },
   "outputs": [],
   "source": [
    "batch_size = 32\n",
    "n_epochs = 1000\n",
    "#Select the device \n",
    "device = torch.device('cuda' if torch.cuda.is_available() else 'cpu')"
   ]
  },
  {
   "cell_type": "markdown",
   "id": "a95e1600",
   "metadata": {
    "id": "a95e1600",
    "papermill": {
     "duration": 0.018881,
     "end_time": "2022-06-22T12:12:24.537540",
     "exception": false,
     "start_time": "2022-06-22T12:12:24.518659",
     "status": "completed"
    },
    "tags": []
   },
   "source": [
    "# ABC Pre-generator Model \n",
    "\n",
    "1. The catboost model is used as a pre-generator model for the ABC-GAN. \n",
    "2. The model is first trained on the entire dataset \n",
    "3. It generats X,Y pairs and we add some Gaussian noise with mean 0 and variance 1 to it which is then feed as input to the generator.\n"
   ]
  },
  {
   "cell_type": "code",
   "execution_count": 9,
   "id": "ff8ce7bd",
   "metadata": {
    "execution": {
     "iopub.execute_input": "2022-06-22T12:12:24.616119Z",
     "iopub.status.busy": "2022-06-22T12:12:24.615070Z",
     "iopub.status.idle": "2022-06-22T12:12:39.938109Z",
     "shell.execute_reply": "2022-06-22T12:12:39.938796Z"
    },
    "id": "ff8ce7bd",
    "papermill": {
     "duration": 15.354684,
     "end_time": "2022-06-22T12:12:39.939058",
     "exception": false,
     "start_time": "2022-06-22T12:12:24.584374",
     "status": "completed"
    },
    "tags": []
   },
   "outputs": [
    {
     "name": "stdout",
     "output_type": "stream",
     "text": [
      "Device used : cpu\n"
     ]
    },
    {
     "name": "stdout",
     "output_type": "stream",
     "text": [
      "epoch 0  | loss: 0.94548 | train_mse: 3.44158 | train_mae: 1.38841 |  0:00:00s\n",
      "epoch 1  | loss: 0.79707 | train_mse: 2.31036 | train_mae: 1.13074 |  0:00:00s\n",
      "epoch 2  | loss: 0.56175 | train_mse: 1.63838 | train_mae: 0.86166 |  0:00:00s\n"
     ]
    },
    {
     "name": "stdout",
     "output_type": "stream",
     "text": [
      "epoch 3  | loss: 0.55681 | train_mse: 1.47936 | train_mae: 0.79313 |  0:00:00s\n",
      "epoch 4  | loss: 0.72142 | train_mse: 1.68436 | train_mae: 0.82187 |  0:00:00s\n",
      "epoch 5  | loss: 0.3476  | train_mse: 1.58884 | train_mae: 0.81843 |  0:00:00s\n"
     ]
    },
    {
     "name": "stdout",
     "output_type": "stream",
     "text": [
      "epoch 6  | loss: 0.51318 | train_mse: 1.54705 | train_mae: 0.77543 |  0:00:00s\n",
      "epoch 7  | loss: 0.45872 | train_mse: 0.60331 | train_mae: 0.50596 |  0:00:00s\n",
      "epoch 8  | loss: 0.52209 | train_mse: 0.71005 | train_mae: 0.55897 |  0:00:00s\n"
     ]
    },
    {
     "name": "stdout",
     "output_type": "stream",
     "text": [
      "epoch 9  | loss: 0.42021 | train_mse: 1.19586 | train_mae: 0.67025 |  0:00:00s\n",
      "epoch 10 | loss: 0.40319 | train_mse: 1.32446 | train_mae: 0.68397 |  0:00:01s\n",
      "epoch 11 | loss: 0.44434 | train_mse: 0.89635 | train_mae: 0.63464 |  0:00:01s\n"
     ]
    },
    {
     "name": "stdout",
     "output_type": "stream",
     "text": [
      "epoch 12 | loss: 0.29931 | train_mse: 0.68357 | train_mae: 0.59911 |  0:00:01s\n",
      "epoch 13 | loss: 0.30091 | train_mse: 0.54976 | train_mae: 0.55274 |  0:00:01s\n",
      "epoch 14 | loss: 0.26437 | train_mse: 0.47065 | train_mae: 0.51536 |  0:00:01s\n",
      "epoch 15 | loss: 0.41818 | train_mse: 0.51745 | train_mae: 0.53232 |  0:00:01s\n"
     ]
    },
    {
     "name": "stdout",
     "output_type": "stream",
     "text": [
      "epoch 16 | loss: 0.36625 | train_mse: 0.58024 | train_mae: 0.56337 |  0:00:01s\n",
      "epoch 17 | loss: 0.39997 | train_mse: 0.74998 | train_mae: 0.60465 |  0:00:01s\n",
      "epoch 18 | loss: 0.43282 | train_mse: 0.81205 | train_mae: 0.60373 |  0:00:01s\n",
      "epoch 19 | loss: 0.29244 | train_mse: 0.60747 | train_mae: 0.53963 |  0:00:01s\n"
     ]
    },
    {
     "name": "stdout",
     "output_type": "stream",
     "text": [
      "epoch 20 | loss: 0.24118 | train_mse: 0.35915 | train_mae: 0.44335 |  0:00:01s\n",
      "epoch 21 | loss: 0.34089 | train_mse: 0.40829 | train_mae: 0.49825 |  0:00:01s\n",
      "epoch 22 | loss: 0.5677  | train_mse: 0.35957 | train_mae: 0.48633 |  0:00:01s\n"
     ]
    },
    {
     "name": "stdout",
     "output_type": "stream",
     "text": [
      "epoch 23 | loss: 0.39108 | train_mse: 0.51933 | train_mae: 0.5338  |  0:00:01s\n",
      "epoch 24 | loss: 0.3354  | train_mse: 0.54441 | train_mae: 0.53337 |  0:00:02s\n",
      "epoch 25 | loss: 0.3767  | train_mse: 0.83338 | train_mae: 0.57213 |  0:00:02s\n",
      "epoch 26 | loss: 0.22945 | train_mse: 0.65201 | train_mae: 0.53164 |  0:00:02s\n"
     ]
    },
    {
     "name": "stdout",
     "output_type": "stream",
     "text": [
      "epoch 27 | loss: 0.39624 | train_mse: 0.35216 | train_mae: 0.43105 |  0:00:02s\n",
      "epoch 28 | loss: 0.37425 | train_mse: 0.33351 | train_mae: 0.44708 |  0:00:02s\n",
      "epoch 29 | loss: 0.444   | train_mse: 0.26928 | train_mae: 0.40109 |  0:00:02s\n",
      "epoch 30 | loss: 0.33868 | train_mse: 0.24359 | train_mae: 0.36933 |  0:00:02s\n"
     ]
    },
    {
     "name": "stdout",
     "output_type": "stream",
     "text": [
      "epoch 31 | loss: 0.2757  | train_mse: 0.33878 | train_mae: 0.4088  |  0:00:02s\n",
      "epoch 32 | loss: 0.30714 | train_mse: 0.31916 | train_mae: 0.37898 |  0:00:02s\n",
      "epoch 33 | loss: 0.27639 | train_mse: 0.32207 | train_mae: 0.39162 |  0:00:02s\n"
     ]
    },
    {
     "name": "stdout",
     "output_type": "stream",
     "text": [
      "epoch 34 | loss: 0.21227 | train_mse: 0.21121 | train_mae: 0.33232 |  0:00:02s\n",
      "epoch 35 | loss: 0.22112 | train_mse: 0.18268 | train_mae: 0.30138 |  0:00:02s\n",
      "epoch 36 | loss: 0.29607 | train_mse: 0.21869 | train_mae: 0.31749 |  0:00:02s\n"
     ]
    },
    {
     "name": "stdout",
     "output_type": "stream",
     "text": [
      "epoch 37 | loss: 0.36081 | train_mse: 0.26055 | train_mae: 0.32641 |  0:00:02s\n",
      "epoch 38 | loss: 0.44115 | train_mse: 0.17713 | train_mae: 0.30174 |  0:00:03s\n",
      "epoch 39 | loss: 0.27567 | train_mse: 0.17899 | train_mae: 0.30419 |  0:00:03s\n",
      "epoch 40 | loss: 0.22265 | train_mse: 0.13192 | train_mae: 0.27991 |  0:00:03s\n"
     ]
    },
    {
     "name": "stdout",
     "output_type": "stream",
     "text": [
      "epoch 41 | loss: 0.27522 | train_mse: 0.17559 | train_mae: 0.302   |  0:00:03s\n",
      "epoch 42 | loss: 0.28281 | train_mse: 0.2001  | train_mae: 0.30319 |  0:00:03s\n",
      "epoch 43 | loss: 0.38331 | train_mse: 0.2318  | train_mae: 0.34    |  0:00:03s\n",
      "epoch 44 | loss: 0.15921 | train_mse: 0.33195 | train_mae: 0.37923 |  0:00:03s\n"
     ]
    },
    {
     "name": "stdout",
     "output_type": "stream",
     "text": [
      "epoch 45 | loss: 0.23498 | train_mse: 0.30333 | train_mae: 0.3427  |  0:00:03s\n",
      "epoch 46 | loss: 0.18922 | train_mse: 0.20138 | train_mae: 0.30891 |  0:00:03s\n",
      "epoch 47 | loss: 0.40663 | train_mse: 0.29517 | train_mae: 0.33152 |  0:00:03s\n",
      "epoch 48 | loss: 0.45199 | train_mse: 0.19437 | train_mae: 0.29886 |  0:00:03s\n"
     ]
    },
    {
     "name": "stdout",
     "output_type": "stream",
     "text": [
      "epoch 49 | loss: 0.34671 | train_mse: 0.16691 | train_mae: 0.30678 |  0:00:03s\n",
      "epoch 50 | loss: 0.23113 | train_mse: 0.1839  | train_mae: 0.30883 |  0:00:03s\n",
      "epoch 51 | loss: 0.28394 | train_mse: 0.17546 | train_mae: 0.30034 |  0:00:03s\n"
     ]
    },
    {
     "name": "stdout",
     "output_type": "stream",
     "text": [
      "epoch 52 | loss: 0.28075 | train_mse: 0.18645 | train_mae: 0.30811 |  0:00:03s\n",
      "epoch 53 | loss: 0.16566 | train_mse: 0.15099 | train_mae: 0.29505 |  0:00:04s\n",
      "epoch 54 | loss: 0.27631 | train_mse: 0.16805 | train_mae: 0.28552 |  0:00:04s\n"
     ]
    },
    {
     "name": "stdout",
     "output_type": "stream",
     "text": [
      "epoch 55 | loss: 0.26099 | train_mse: 0.12522 | train_mae: 0.26137 |  0:00:04s\n",
      "epoch 56 | loss: 0.2866  | train_mse: 0.11603 | train_mae: 0.25598 |  0:00:04s\n",
      "epoch 57 | loss: 0.11144 | train_mse: 0.13624 | train_mae: 0.26284 |  0:00:04s\n"
     ]
    },
    {
     "name": "stdout",
     "output_type": "stream",
     "text": [
      "epoch 58 | loss: 0.24415 | train_mse: 0.19356 | train_mae: 0.28903 |  0:00:04s\n",
      "epoch 59 | loss: 0.14411 | train_mse: 0.16869 | train_mae: 0.28147 |  0:00:04s\n",
      "epoch 60 | loss: 0.33944 | train_mse: 0.1587  | train_mae: 0.27872 |  0:00:04s\n"
     ]
    },
    {
     "name": "stdout",
     "output_type": "stream",
     "text": [
      "epoch 61 | loss: 0.12574 | train_mse: 0.12469 | train_mae: 0.26035 |  0:00:04s\n",
      "epoch 62 | loss: 0.18058 | train_mse: 0.08852 | train_mae: 0.22534 |  0:00:04s\n",
      "epoch 63 | loss: 0.13017 | train_mse: 0.14468 | train_mae: 0.26218 |  0:00:04s\n"
     ]
    },
    {
     "name": "stdout",
     "output_type": "stream",
     "text": [
      "epoch 64 | loss: 0.17091 | train_mse: 0.14616 | train_mae: 0.24678 |  0:00:04s\n",
      "epoch 65 | loss: 0.66635 | train_mse: 0.17292 | train_mae: 0.25448 |  0:00:04s\n",
      "epoch 66 | loss: 0.41418 | train_mse: 0.28546 | train_mae: 0.29087 |  0:00:05s\n"
     ]
    },
    {
     "name": "stdout",
     "output_type": "stream",
     "text": [
      "epoch 67 | loss: 0.31648 | train_mse: 0.28498 | train_mae: 0.29865 |  0:00:05s\n",
      "epoch 68 | loss: 0.24929 | train_mse: 0.22537 | train_mae: 0.30673 |  0:00:05s\n",
      "epoch 69 | loss: 0.14107 | train_mse: 0.13284 | train_mae: 0.29614 |  0:00:05s\n"
     ]
    },
    {
     "name": "stdout",
     "output_type": "stream",
     "text": [
      "epoch 70 | loss: 0.21317 | train_mse: 0.177   | train_mae: 0.28714 |  0:00:05s\n",
      "epoch 71 | loss: 0.23541 | train_mse: 0.30051 | train_mae: 0.32418 |  0:00:05s\n",
      "epoch 72 | loss: 0.23387 | train_mse: 0.23185 | train_mae: 0.317   |  0:00:05s\n"
     ]
    },
    {
     "name": "stdout",
     "output_type": "stream",
     "text": [
      "epoch 73 | loss: 0.1621  | train_mse: 0.14417 | train_mae: 0.27255 |  0:00:05s\n",
      "epoch 74 | loss: 0.19385 | train_mse: 0.09679 | train_mae: 0.22543 |  0:00:05s\n",
      "epoch 75 | loss: 0.12242 | train_mse: 0.12329 | train_mae: 0.26054 |  0:00:05s\n"
     ]
    },
    {
     "name": "stdout",
     "output_type": "stream",
     "text": [
      "epoch 76 | loss: 0.3371  | train_mse: 0.17622 | train_mae: 0.31018 |  0:00:05s\n"
     ]
    },
    {
     "name": "stdout",
     "output_type": "stream",
     "text": [
      "epoch 77 | loss: 0.4144  | train_mse: 0.16094 | train_mae: 0.29046 |  0:00:06s\n"
     ]
    },
    {
     "name": "stdout",
     "output_type": "stream",
     "text": [
      "epoch 78 | loss: 0.18781 | train_mse: 0.11702 | train_mae: 0.24731 |  0:00:06s\n",
      "epoch 79 | loss: 0.11983 | train_mse: 0.08707 | train_mae: 0.2232  |  0:00:06s\n",
      "epoch 80 | loss: 0.43354 | train_mse: 0.11023 | train_mae: 0.24141 |  0:00:06s\n"
     ]
    },
    {
     "name": "stdout",
     "output_type": "stream",
     "text": [
      "epoch 81 | loss: 0.17301 | train_mse: 0.11393 | train_mae: 0.24623 |  0:00:06s\n",
      "epoch 82 | loss: 0.1839  | train_mse: 0.15739 | train_mae: 0.27109 |  0:00:06s\n",
      "epoch 83 | loss: 0.26519 | train_mse: 0.15197 | train_mae: 0.26533 |  0:00:06s\n",
      "epoch 84 | loss: 0.20875 | train_mse: 0.10077 | train_mae: 0.23492 |  0:00:06s\n"
     ]
    },
    {
     "name": "stdout",
     "output_type": "stream",
     "text": [
      "epoch 85 | loss: 0.28009 | train_mse: 0.12787 | train_mae: 0.25441 |  0:00:06s\n",
      "epoch 86 | loss: 0.14568 | train_mse: 0.09385 | train_mae: 0.23164 |  0:00:07s\n",
      "epoch 87 | loss: 0.28892 | train_mse: 0.07659 | train_mae: 0.21462 |  0:00:07s\n",
      "epoch 88 | loss: 0.20984 | train_mse: 0.17244 | train_mae: 0.27841 |  0:00:07s\n"
     ]
    },
    {
     "name": "stdout",
     "output_type": "stream",
     "text": [
      "epoch 89 | loss: 0.17397 | train_mse: 0.21692 | train_mae: 0.28992 |  0:00:07s\n",
      "epoch 90 | loss: 0.26245 | train_mse: 0.20384 | train_mae: 0.27478 |  0:00:07s\n",
      "epoch 91 | loss: 0.1681  | train_mse: 0.17288 | train_mae: 0.26507 |  0:00:07s\n"
     ]
    },
    {
     "name": "stdout",
     "output_type": "stream",
     "text": [
      "epoch 92 | loss: 0.27743 | train_mse: 0.13285 | train_mae: 0.25873 |  0:00:07s\n",
      "epoch 93 | loss: 0.08616 | train_mse: 0.10466 | train_mae: 0.23582 |  0:00:07s\n",
      "epoch 94 | loss: 0.19948 | train_mse: 0.12097 | train_mae: 0.22237 |  0:00:07s\n"
     ]
    },
    {
     "name": "stdout",
     "output_type": "stream",
     "text": [
      "epoch 95 | loss: 0.14418 | train_mse: 0.27189 | train_mae: 0.30367 |  0:00:07s\n",
      "epoch 96 | loss: 0.45028 | train_mse: 0.38118 | train_mae: 0.34574 |  0:00:07s\n",
      "epoch 97 | loss: 0.23855 | train_mse: 0.2542  | train_mae: 0.29954 |  0:00:07s\n"
     ]
    },
    {
     "name": "stdout",
     "output_type": "stream",
     "text": [
      "epoch 98 | loss: 0.28589 | train_mse: 0.13952 | train_mae: 0.26089 |  0:00:07s\n",
      "epoch 99 | loss: 0.26834 | train_mse: 0.11738 | train_mae: 0.24798 |  0:00:07s\n",
      "epoch 100| loss: 0.0926  | train_mse: 0.12052 | train_mae: 0.2334  |  0:00:07s\n"
     ]
    },
    {
     "name": "stdout",
     "output_type": "stream",
     "text": [
      "epoch 101| loss: 0.17782 | train_mse: 0.12143 | train_mae: 0.23713 |  0:00:08s\n",
      "epoch 102| loss: 0.31397 | train_mse: 0.09206 | train_mae: 0.22297 |  0:00:08s\n",
      "epoch 103| loss: 0.16654 | train_mse: 0.09005 | train_mae: 0.22927 |  0:00:08s\n",
      "epoch 104| loss: 0.23457 | train_mse: 0.10024 | train_mae: 0.22671 |  0:00:08s\n"
     ]
    },
    {
     "name": "stdout",
     "output_type": "stream",
     "text": [
      "epoch 105| loss: 0.21061 | train_mse: 0.10905 | train_mae: 0.23989 |  0:00:08s\n",
      "epoch 106| loss: 0.13573 | train_mse: 0.09323 | train_mae: 0.23816 |  0:00:08s\n",
      "epoch 107| loss: 0.22161 | train_mse: 0.08273 | train_mae: 0.22408 |  0:00:08s\n",
      "epoch 108| loss: 0.24196 | train_mse: 0.07917 | train_mae: 0.22855 |  0:00:08s\n"
     ]
    },
    {
     "name": "stdout",
     "output_type": "stream",
     "text": [
      "epoch 109| loss: 0.23348 | train_mse: 0.07765 | train_mae: 0.22933 |  0:00:08s\n",
      "epoch 110| loss: 0.14411 | train_mse: 0.07759 | train_mae: 0.2203  |  0:00:08s\n",
      "epoch 111| loss: 0.19662 | train_mse: 0.071   | train_mae: 0.20736 |  0:00:08s\n",
      "epoch 112| loss: 0.10637 | train_mse: 0.07112 | train_mae: 0.20975 |  0:00:08s\n"
     ]
    },
    {
     "name": "stdout",
     "output_type": "stream",
     "text": [
      "epoch 113| loss: 0.43738 | train_mse: 0.06925 | train_mae: 0.20372 |  0:00:08s\n",
      "epoch 114| loss: 0.18049 | train_mse: 0.0771  | train_mae: 0.19619 |  0:00:08s\n",
      "epoch 115| loss: 0.1399  | train_mse: 0.05861 | train_mae: 0.18727 |  0:00:09s\n"
     ]
    },
    {
     "name": "stdout",
     "output_type": "stream",
     "text": [
      "epoch 116| loss: 0.46802 | train_mse: 0.07296 | train_mae: 0.20451 |  0:00:09s\n",
      "epoch 117| loss: 0.17068 | train_mse: 0.06724 | train_mae: 0.19931 |  0:00:09s\n",
      "epoch 118| loss: 0.13311 | train_mse: 0.06644 | train_mae: 0.19927 |  0:00:09s\n",
      "epoch 119| loss: 0.14788 | train_mse: 0.07648 | train_mae: 0.20815 |  0:00:09s\n"
     ]
    },
    {
     "name": "stdout",
     "output_type": "stream",
     "text": [
      "epoch 120| loss: 0.20252 | train_mse: 0.07177 | train_mae: 0.20841 |  0:00:09s\n",
      "epoch 121| loss: 0.07834 | train_mse: 0.06274 | train_mae: 0.19344 |  0:00:09s\n",
      "epoch 122| loss: 0.31177 | train_mse: 0.06889 | train_mae: 0.19874 |  0:00:09s\n",
      "epoch 123| loss: 0.17903 | train_mse: 0.07546 | train_mae: 0.21304 |  0:00:09s\n"
     ]
    },
    {
     "name": "stdout",
     "output_type": "stream",
     "text": [
      "epoch 124| loss: 0.31477 | train_mse: 0.10021 | train_mae: 0.20541 |  0:00:09s\n",
      "epoch 125| loss: 0.37389 | train_mse: 0.11806 | train_mae: 0.20754 |  0:00:09s\n",
      "epoch 126| loss: 0.10649 | train_mse: 0.0971  | train_mae: 0.20153 |  0:00:09s\n",
      "epoch 127| loss: 0.09735 | train_mse: 0.10057 | train_mae: 0.20422 |  0:00:09s\n"
     ]
    },
    {
     "name": "stdout",
     "output_type": "stream",
     "text": [
      "epoch 128| loss: 0.26305 | train_mse: 0.07468 | train_mae: 0.20077 |  0:00:09s\n",
      "epoch 129| loss: 0.11618 | train_mse: 0.07153 | train_mae: 0.20033 |  0:00:09s\n",
      "epoch 130| loss: 0.20247 | train_mse: 0.10414 | train_mae: 0.22025 |  0:00:10s\n"
     ]
    },
    {
     "name": "stdout",
     "output_type": "stream",
     "text": [
      "epoch 131| loss: 0.11812 | train_mse: 0.2316  | train_mae: 0.26795 |  0:00:10s\n",
      "epoch 132| loss: 0.28095 | train_mse: 0.23457 | train_mae: 0.27087 |  0:00:10s\n",
      "epoch 133| loss: 0.18189 | train_mse: 0.10042 | train_mae: 0.23076 |  0:00:10s\n",
      "epoch 134| loss: 0.20113 | train_mse: 0.08994 | train_mae: 0.21858 |  0:00:10s\n"
     ]
    },
    {
     "name": "stdout",
     "output_type": "stream",
     "text": [
      "epoch 135| loss: 0.14857 | train_mse: 0.09174 | train_mae: 0.21966 |  0:00:10s\n",
      "epoch 136| loss: 0.11459 | train_mse: 0.08802 | train_mae: 0.21659 |  0:00:10s\n",
      "epoch 137| loss: 0.21382 | train_mse: 0.1264  | train_mae: 0.22292 |  0:00:10s\n",
      "epoch 138| loss: 0.38068 | train_mse: 0.10521 | train_mae: 0.20078 |  0:00:10s\n"
     ]
    },
    {
     "name": "stdout",
     "output_type": "stream",
     "text": [
      "epoch 139| loss: 0.13887 | train_mse: 0.06379 | train_mae: 0.19144 |  0:00:10s\n",
      "epoch 140| loss: 0.09044 | train_mse: 0.08315 | train_mae: 0.22048 |  0:00:10s\n",
      "epoch 141| loss: 0.30379 | train_mse: 0.07307 | train_mae: 0.20806 |  0:00:10s\n",
      "epoch 142| loss: 0.27785 | train_mse: 0.09418 | train_mae: 0.19485 |  0:00:10s\n"
     ]
    },
    {
     "name": "stdout",
     "output_type": "stream",
     "text": [
      "epoch 143| loss: 0.15832 | train_mse: 0.0943  | train_mae: 0.19796 |  0:00:10s\n",
      "epoch 144| loss: 0.14912 | train_mse: 0.0714  | train_mae: 0.1948  |  0:00:10s\n",
      "epoch 145| loss: 0.15316 | train_mse: 0.07401 | train_mae: 0.20658 |  0:00:11s\n"
     ]
    },
    {
     "name": "stdout",
     "output_type": "stream",
     "text": [
      "epoch 146| loss: 0.2019  | train_mse: 0.09726 | train_mae: 0.23927 |  0:00:11s\n",
      "epoch 147| loss: 0.2289  | train_mse: 0.09286 | train_mae: 0.23105 |  0:00:11s\n",
      "epoch 148| loss: 0.11658 | train_mse: 0.09768 | train_mae: 0.22161 |  0:00:11s\n",
      "epoch 149| loss: 0.15302 | train_mse: 0.07568 | train_mae: 0.19355 |  0:00:11s\n"
     ]
    },
    {
     "name": "stdout",
     "output_type": "stream",
     "text": [
      "epoch 150| loss: 0.15754 | train_mse: 0.06615 | train_mae: 0.19146 |  0:00:11s\n",
      "epoch 151| loss: 0.08441 | train_mse: 0.06275 | train_mae: 0.18596 |  0:00:11s\n",
      "epoch 152| loss: 0.18078 | train_mse: 0.06623 | train_mae: 0.19806 |  0:00:11s\n",
      "epoch 153| loss: 0.12034 | train_mse: 0.1094  | train_mae: 0.22596 |  0:00:11s\n"
     ]
    },
    {
     "name": "stdout",
     "output_type": "stream",
     "text": [
      "epoch 154| loss: 0.18867 | train_mse: 0.11169 | train_mae: 0.21929 |  0:00:11s\n",
      "epoch 155| loss: 0.11693 | train_mse: 0.06141 | train_mae: 0.18713 |  0:00:11s\n",
      "epoch 156| loss: 0.29332 | train_mse: 0.06634 | train_mae: 0.18358 |  0:00:11s\n",
      "epoch 157| loss: 0.19626 | train_mse: 0.06713 | train_mae: 0.18756 |  0:00:11s\n"
     ]
    },
    {
     "name": "stdout",
     "output_type": "stream",
     "text": [
      "epoch 158| loss: 0.22554 | train_mse: 0.08436 | train_mae: 0.21813 |  0:00:11s\n",
      "epoch 159| loss: 0.11939 | train_mse: 0.13759 | train_mae: 0.25195 |  0:00:12s\n",
      "epoch 160| loss: 0.10362 | train_mse: 0.11703 | train_mae: 0.2348  |  0:00:12s\n"
     ]
    },
    {
     "name": "stdout",
     "output_type": "stream",
     "text": [
      "epoch 161| loss: 0.12667 | train_mse: 0.07699 | train_mae: 0.19767 |  0:00:12s\n",
      "epoch 162| loss: 0.17971 | train_mse: 0.10998 | train_mae: 0.22831 |  0:00:12s\n",
      "epoch 163| loss: 0.42433 | train_mse: 0.15109 | train_mae: 0.24461 |  0:00:12s\n",
      "epoch 164| loss: 0.11792 | train_mse: 0.14883 | train_mae: 0.23704 |  0:00:12s\n"
     ]
    },
    {
     "name": "stdout",
     "output_type": "stream",
     "text": [
      "epoch 165| loss: 0.29339 | train_mse: 0.13271 | train_mae: 0.23626 |  0:00:12s\n",
      "epoch 166| loss: 0.14078 | train_mse: 0.10888 | train_mae: 0.2239  |  0:00:12s\n",
      "epoch 167| loss: 0.30081 | train_mse: 0.11301 | train_mae: 0.22534 |  0:00:12s\n",
      "epoch 168| loss: 0.31926 | train_mse: 0.11408 | train_mae: 0.22673 |  0:00:12s\n"
     ]
    },
    {
     "name": "stdout",
     "output_type": "stream",
     "text": [
      "epoch 169| loss: 0.36728 | train_mse: 0.09798 | train_mae: 0.22346 |  0:00:12s\n",
      "epoch 170| loss: 0.11403 | train_mse: 0.07818 | train_mae: 0.21187 |  0:00:12s\n",
      "epoch 171| loss: 0.13067 | train_mse: 0.07435 | train_mae: 0.20791 |  0:00:12s\n"
     ]
    },
    {
     "name": "stdout",
     "output_type": "stream",
     "text": [
      "epoch 172| loss: 0.17984 | train_mse: 0.10285 | train_mae: 0.22927 |  0:00:12s\n",
      "epoch 173| loss: 0.29293 | train_mse: 0.1139  | train_mae: 0.23665 |  0:00:12s\n",
      "epoch 174| loss: 0.10088 | train_mse: 0.07923 | train_mae: 0.21112 |  0:00:13s\n"
     ]
    },
    {
     "name": "stdout",
     "output_type": "stream",
     "text": [
      "epoch 175| loss: 0.17889 | train_mse: 0.08942 | train_mae: 0.21035 |  0:00:13s\n",
      "epoch 176| loss: 0.16598 | train_mse: 0.16901 | train_mae: 0.25899 |  0:00:13s\n",
      "epoch 177| loss: 0.14432 | train_mse: 0.24855 | train_mae: 0.29131 |  0:00:13s\n",
      "epoch 178| loss: 0.12669 | train_mse: 0.13584 | train_mae: 0.23869 |  0:00:13s\n"
     ]
    },
    {
     "name": "stdout",
     "output_type": "stream",
     "text": [
      "epoch 179| loss: 0.24924 | train_mse: 0.08838 | train_mae: 0.22376 |  0:00:13s\n",
      "epoch 180| loss: 0.36668 | train_mse: 0.08889 | train_mae: 0.22043 |  0:00:13s\n",
      "epoch 181| loss: 0.13138 | train_mse: 0.1037  | train_mae: 0.23539 |  0:00:13s\n"
     ]
    },
    {
     "name": "stdout",
     "output_type": "stream",
     "text": [
      "epoch 182| loss: 0.09932 | train_mse: 0.20309 | train_mae: 0.28005 |  0:00:13s\n",
      "epoch 183| loss: 0.20189 | train_mse: 0.26134 | train_mae: 0.28854 |  0:00:13s\n",
      "epoch 184| loss: 0.38837 | train_mse: 0.31628 | train_mae: 0.29437 |  0:00:13s\n",
      "epoch 185| loss: 0.23724 | train_mse: 0.28064 | train_mae: 0.29095 |  0:00:13s\n"
     ]
    },
    {
     "name": "stdout",
     "output_type": "stream",
     "text": [
      "epoch 186| loss: 0.14357 | train_mse: 0.1795  | train_mae: 0.27814 |  0:00:13s\n",
      "epoch 187| loss: 0.17771 | train_mse: 0.13329 | train_mae: 0.2684  |  0:00:13s\n",
      "epoch 188| loss: 0.1362  | train_mse: 0.12453 | train_mae: 0.25892 |  0:00:13s\n"
     ]
    },
    {
     "name": "stdout",
     "output_type": "stream",
     "text": [
      "epoch 189| loss: 0.30337 | train_mse: 0.13188 | train_mae: 0.25804 |  0:00:14s\n",
      "epoch 190| loss: 0.16842 | train_mse: 0.19259 | train_mae: 0.281   |  0:00:14s\n",
      "epoch 191| loss: 0.16409 | train_mse: 0.36595 | train_mae: 0.32743 |  0:00:14s\n",
      "epoch 192| loss: 0.21708 | train_mse: 0.36908 | train_mae: 0.31894 |  0:00:14s\n"
     ]
    },
    {
     "name": "stdout",
     "output_type": "stream",
     "text": [
      "epoch 193| loss: 0.14523 | train_mse: 0.29248 | train_mae: 0.28795 |  0:00:14s\n",
      "epoch 194| loss: 0.07711 | train_mse: 0.20629 | train_mae: 0.26029 |  0:00:14s\n",
      "epoch 195| loss: 0.38429 | train_mse: 0.09583 | train_mae: 0.21811 |  0:00:14s\n"
     ]
    },
    {
     "name": "stdout",
     "output_type": "stream",
     "text": [
      "epoch 196| loss: 0.099   | train_mse: 0.08092 | train_mae: 0.20536 |  0:00:14s\n",
      "epoch 197| loss: 0.14332 | train_mse: 0.10279 | train_mae: 0.21512 |  0:00:14s\n",
      "epoch 198| loss: 0.12999 | train_mse: 0.15298 | train_mae: 0.23466 |  0:00:14s\n",
      "epoch 199| loss: 0.09377 | train_mse: 0.23362 | train_mae: 0.26706 |  0:00:14s\n"
     ]
    },
    {
     "name": "stdout",
     "output_type": "stream",
     "text": [
      "epoch 200| loss: 0.41236 | train_mse: 0.22402 | train_mae: 0.26769 |  0:00:14s\n",
      "epoch 201| loss: 0.17985 | train_mse: 0.20933 | train_mae: 0.25749 |  0:00:14s\n",
      "epoch 202| loss: 0.11393 | train_mse: 0.09834 | train_mae: 0.20819 |  0:00:15s\n"
     ]
    },
    {
     "name": "stdout",
     "output_type": "stream",
     "text": [
      "epoch 203| loss: 0.2503  | train_mse: 0.07332 | train_mae: 0.19434 |  0:00:15s\n",
      "epoch 204| loss: 0.40972 | train_mse: 0.26338 | train_mae: 0.31032 |  0:00:15s\n",
      "epoch 205| loss: 0.14957 | train_mse: 0.20187 | train_mae: 0.29101 |  0:00:15s\n",
      "epoch 206| loss: 0.13046 | train_mse: 0.09543 | train_mae: 0.23293 |  0:00:15s\n",
      "\n",
      "Early stopping occurred at epoch 206 with best_epoch = 156 and best_train_mae = 0.18358"
     ]
    },
    {
     "name": "stdout",
     "output_type": "stream",
     "text": [
      "\n",
      "Best weights from best epoch are automatically used!\n"
     ]
    }
   ],
   "source": [
    "#Train the Model\n",
    "\n",
    "Y_train = np.reshape(Y_train, (-1, 1))\n",
    "Y_test = np.reshape(Y_test, (-1, 1))\n",
    "\n",
    "prior_model = TabNetRegressor(optimizer_fn=torch.optim.Adam, optimizer_params=dict(lr = 0.02),\n",
    "          #scheduler_params={\"step_size\":10, ], \"gamma\":0.9},\n",
    "          #scheduler_fn=torch.optim.lr_scheduler.StepLR\n",
    "          )  #TabNetRegressor()\n",
    "\n",
    "prior_model.fit(X_train,Y_train,eval_set=[(X_train, Y_train)],\n",
    "            eval_name=['train'], \n",
    "            eval_metric=[ 'mse', 'mae'], \n",
    "            max_epochs = n_epochs, \n",
    "            batch_size = batch_size,\n",
    "            patience=50\n",
    "            )"
   ]
  },
  {
   "cell_type": "code",
   "execution_count": 10,
   "id": "af65dcda",
   "metadata": {
    "execution": {
     "iopub.execute_input": "2022-06-22T12:12:40.037754Z",
     "iopub.status.busy": "2022-06-22T12:12:40.021730Z",
     "iopub.status.idle": "2022-06-22T12:12:40.063252Z",
     "shell.execute_reply": "2022-06-22T12:12:40.064169Z"
    },
    "id": "af65dcda",
    "papermill": {
     "duration": 0.091938,
     "end_time": "2022-06-22T12:12:40.064491",
     "exception": false,
     "start_time": "2022-06-22T12:12:39.972553",
     "status": "completed"
    },
    "tags": []
   },
   "outputs": [
    {
     "data": {
      "application/scrapbook.scrap.json+json": {
       "data": 0.21236392465178983,
       "encoder": "json",
       "name": "Prior Model MSE",
       "version": 1
      }
     },
     "metadata": {
      "scrapbook": {
       "data": true,
       "display": false,
       "name": "Prior Model MSE"
      }
     },
     "output_type": "display_data"
    },
    {
     "data": {
      "application/scrapbook.scrap.json+json": {
       "data": 0.20375986006916472,
       "encoder": "json",
       "name": "ABC Pre-generator MSE",
       "version": 1
      }
     },
     "metadata": {
      "scrapbook": {
       "data": true,
       "display": false,
       "name": "ABC Pre-generator MSE"
      }
     },
     "output_type": "display_data"
    },
    {
     "data": {
      "application/scrapbook.scrap.json+json": {
       "data": 0.36190160631491536,
       "encoder": "json",
       "name": "Prior Model MSE",
       "version": 1
      }
     },
     "metadata": {
      "scrapbook": {
       "data": true,
       "display": false,
       "name": "Prior Model MSE"
      }
     },
     "output_type": "display_data"
    },
    {
     "data": {
      "application/scrapbook.scrap.json+json": {
       "data": 0.35044191528125435,
       "encoder": "json",
       "name": "ABC Pre-generator MSE",
       "version": 1
      }
     },
     "metadata": {
      "scrapbook": {
       "data": true,
       "display": false,
       "name": "ABC Pre-generator MSE"
      }
     },
     "output_type": "display_data"
    }
   ],
   "source": [
    "y_pred = prior_model.predict(X_test)\n",
    "y_abc = y_pred + np.random.normal(0,variance, y_pred.shape) + bias \n",
    "mse = mean_squared_error(y_pred,Y_test)\n",
    "sb.glue(\"Prior Model MSE\",mse)\n",
    "mse = mean_squared_error(y_abc,Y_test)\n",
    "sb.glue(\"ABC Pre-generator MSE\",mse)\n",
    "mae = mean_absolute_error(y_pred,Y_test)\n",
    "sb.glue(\"Prior Model MSE\",mae)\n",
    "mae = mean_absolute_error(y_abc,Y_test)\n",
    "sb.glue(\"ABC Pre-generator MSE\",mae)"
   ]
  },
  {
   "cell_type": "markdown",
   "id": "25609da2",
   "metadata": {
    "papermill": {
     "duration": 0.040409,
     "end_time": "2022-06-22T12:12:40.144848",
     "exception": false,
     "start_time": "2022-06-22T12:12:40.104439",
     "status": "completed"
    },
    "tags": []
   },
   "source": [
    "# ABC GAN Model"
   ]
  },
  {
   "cell_type": "code",
   "execution_count": 11,
   "id": "dfc3464d",
   "metadata": {
    "execution": {
     "iopub.execute_input": "2022-06-22T12:12:40.216152Z",
     "iopub.status.busy": "2022-06-22T12:12:40.215375Z",
     "iopub.status.idle": "2022-06-22T12:12:40.218446Z",
     "shell.execute_reply": "2022-06-22T12:12:40.219608Z"
    },
    "papermill": {
     "duration": 0.042265,
     "end_time": "2022-06-22T12:12:40.219937",
     "exception": false,
     "start_time": "2022-06-22T12:12:40.177672",
     "status": "completed"
    },
    "tags": []
   },
   "outputs": [],
   "source": [
    "gen = network.Generator(n_features+1).to(device)\n",
    "disc = network.Discriminator(n_features+1).to(device)\n",
    "\n",
    "criterion = torch.nn.BCELoss()\n",
    "gen_opt = torch.optim.Adam(gen.parameters(), lr=0.001, betas=(0.5, 0.999))\n",
    "disc_opt = torch.optim.Adam(disc.parameters(), lr=0.001, betas=(0.5, 0.999))"
   ]
  },
  {
   "cell_type": "code",
   "execution_count": 12,
   "id": "b75fdd85",
   "metadata": {
    "execution": {
     "iopub.execute_input": "2022-06-22T12:12:40.314116Z",
     "iopub.status.busy": "2022-06-22T12:12:40.313350Z",
     "iopub.status.idle": "2022-06-22T12:13:22.766669Z",
     "shell.execute_reply": "2022-06-22T12:13:22.767117Z"
    },
    "papermill": {
     "duration": 42.502097,
     "end_time": "2022-06-22T12:13:22.767318",
     "exception": false,
     "start_time": "2022-06-22T12:12:40.265221",
     "status": "completed"
    },
    "tags": []
   },
   "outputs": [
    {
     "data": {
      "image/png": "[encoded data removed]",
      "text/plain": [
       "<Figure size 432x288 with 1 Axes>"
      ]
     },
     "metadata": {
      "needs_background": "light"
     },
     "output_type": "display_data"
    },
    {
     "data": {
      "image/png": "[encoded data removed]",
      "text/plain": [
       "<Figure size 432x288 with 1 Axes>"
      ]
     },
     "metadata": {
      "needs_background": "light"
     },
     "output_type": "display_data"
    }
   ],
   "source": [
    "#Training the ABC_GAN \n",
    "ABC_train_test2.training_GAN(disc,gen,disc_opt,gen_opt,train_data,batch_size,n_epochs,criterion,prior_model,variance,bias,device)"
   ]
  },
  {
   "cell_type": "code",
   "execution_count": 13,
   "id": "1fa7c368",
   "metadata": {
    "execution": {
     "iopub.execute_input": "2022-06-22T12:13:22.849599Z",
     "iopub.status.busy": "2022-06-22T12:13:22.848473Z",
     "iopub.status.idle": "2022-06-22T12:13:23.526082Z",
     "shell.execute_reply": "2022-06-22T12:13:23.526595Z"
    },
    "papermill": {
     "duration": 0.728729,
     "end_time": "2022-06-22T12:13:23.526866",
     "exception": false,
     "start_time": "2022-06-22T12:13:22.798137",
     "status": "completed"
    },
    "tags": []
   },
   "outputs": [
    {
     "data": {
      "application/scrapbook.scrap.json+json": {
       "data": 0.1571858828324681,
       "encoder": "json",
       "name": "ABC-GAN Model 1 MSE",
       "version": 1
      }
     },
     "metadata": {
      "scrapbook": {
       "data": true,
       "display": false,
       "name": "ABC-GAN Model 1 MSE"
      }
     },
     "output_type": "display_data"
    },
    {
     "data": {
      "application/scrapbook.scrap.json+json": {
       "data": 0.3153457214944065,
       "encoder": "json",
       "name": "ABC-GAN Model 1 MAE",
       "version": 1
      }
     },
     "metadata": {
      "scrapbook": {
       "data": true,
       "display": false,
       "name": "ABC-GAN Model 1 MAE"
      }
     },
     "output_type": "display_data"
    },
    {
     "data": {
      "application/scrapbook.scrap.json+json": {
       "data": 6.3069144298881294,
       "encoder": "json",
       "name": "ABC-GAN Model 1 Manhattan Distance",
       "version": 1
      }
     },
     "metadata": {
      "scrapbook": {
       "data": true,
       "display": false,
       "name": "ABC-GAN Model 1 Manhattan Distance"
      }
     },
     "output_type": "display_data"
    },
    {
     "data": {
      "application/scrapbook.scrap.json+json": {
       "data": 1.7722407666967523,
       "encoder": "json",
       "name": "ABC-GAN Model 1 Euclidean distance",
       "version": 1
      }
     },
     "metadata": {
      "scrapbook": {
       "data": true,
       "display": false,
       "name": "ABC-GAN Model 1 Euclidean distance"
      }
     },
     "output_type": "display_data"
    },
    {
     "data": {
      "application/scrapbook.scrap.json+json": {
       "data": [
        [
         0.16095320999929735,
         0.14525220721989376,
         0.15986807278118229,
         0.16309124396719882,
         0.1578075525258769,
         0.14059345393529804,
         0.16410765748492648,
         0.14293265167218844,
         0.15245505544170596,
         0.14385943274325272,
         0.14777255989432148,
         0.14087175998198226,
         0.17000129925561788,
         0.158110008660865,
         0.14490281618297005,
         0.16414422676307666,
         0.14770375735523442,
         0.14920426470259446,
         0.15172803858931275,
         0.1427868886141947,
         0.1382933785401779,
         0.1643317087431787,
         0.1763645977744071,
         0.16156779272749808,
         0.15073574830873565,
         0.18025712098167815,
         0.16069343890333826,
         0.15344403561418013,
         0.16197228590806273,
         0.15620104003967572,
         0.1619996476853551,
         0.152857236562659,
         0.1379500782022694,
         0.1453610609129057,
         0.1732625769454039,
         0.16035376854903066,
         0.16732854820699375,
         0.14933043888105618,
         0.15732436115774948,
         0.1388634092943344,
         0.15536106048278225,
         0.15482410547685038,
         0.14861853926492458,
         0.15500372222703096,
         0.1705463949376336,
         0.15759278272430283,
         0.15903900318178613,
         0.16232285677090486,
         0.16355607848485115,
         0.14497370502077675,
         0.14792357643444937,
         0.16989029400655198,
         0.16243677413121652,
         0.16841060643766334,
         0.16346678645729618,
         0.1706295771612657,
         0.1695529377491283,
         0.1472928135875921,
         0.17685710376355906,
         0.1519781552039656,
         0.16111635136149244,
         0.1515973160283211,
         0.1624669917142042,
         0.16175067192137435,
         0.15524551782050705,
         0.15694398484926625,
         0.16988666898284974,
         0.17205275280368093,
         0.14534017671861915,
         0.15775494290346143,
         0.15783581410908545,
         0.16709022979444804,
         0.15953724361955388,
         0.15727308210968513,
         0.1645386289669408,
         0.16141934961395912,
         0.15326916838187243,
         0.14970051553300762,
         0.1555277567896573,
         0.14305530461684873,
         0.15934708166944553,
         0.1627709851061706,
         0.1724129777936218,
         0.1579404040460413,
         0.1531303821966827,
         0.15999482048623134,
         0.16488475887807513,
         0.14966971703378124,
         0.148544369972168,
         0.15915903455007235,
         0.15704769391590848,
         0.1664938320050065,
         0.15117790821212365,
         0.16008281440487665,
         0.14692115404074463,
         0.14527010056391862,
         0.14281634381447256,
         0.1715197612029144,
         0.16855394802752943,
         0.16053242147397667
        ],
        [
         0.31529174661263826,
         0.3073353196494281,
         0.31571842906996606,
         0.3187345522455871,
         0.30761103658005595,
         0.3060903019271791,
         0.3140381488017738,
         0.30014089262112975,
         0.3207538562826812,
         0.303031403478235,
         0.31421748427674173,
         0.30319149820134045,
         0.325725472997874,
         0.3151041335426271,
         0.3093650388531387,
         0.3152042324654758,
         0.30605798615142704,
         0.30888973018154503,
         0.3199034850113094,
         0.3050253069959581,
         0.3020616981200874,
         0.31556713944301007,
         0.3276787064038217,
         0.319335628580302,
         0.31125891199335454,
         0.3339975136332214,
         0.3180349524132907,
         0.3179480290971696,
         0.31679173251613973,
         0.3089954785071313,
         0.3234762358479202,
         0.317039308231324,
         0.3040508604608476,
         0.3092789131216705,
         0.3262679952196777,
         0.318492169585079,
         0.3261097352020442,
         0.3090339398942888,
         0.3162524654529989,
         0.30418424783274534,
         0.32231308734044434,
         0.3105335778556764,
         0.3072655095718801,
         0.3122982080094516,
         0.3219043958000839,
         0.30819755075499417,
         0.31802295250818136,
         0.3123320057056844,
         0.3208460065536201,
         0.30929043805226686,
         0.31304970001801846,
         0.33272156631574035,
         0.3197320125065744,
         0.31977791180834175,
         0.3130291781388223,
         0.3287601317279041,
         0.3251442304812372,
         0.3129455461166799,
         0.3253208047710359,
         0.3202352515421808,
         0.32570454133674503,
         0.3139266817830503,
         0.3248168065212667,
         0.31709994105622175,
         0.31095915352925657,
         0.31029531797394155,
         0.3322037442587316,
         0.31728186598047614,
         0.3070349327288568,
         0.30873807026073335,
         0.31894090203568337,
         0.3199849999509752,
         0.3137219390831888,
         0.321256401669234,
         0.317095588054508,
         0.3153225569985807,
         0.312337080668658,
         0.3127008377574384,
         0.30996495140716435,
         0.3022825817577541,
         0.32537462590262295,
         0.32382590090855956,
         0.3273559219203889,
         0.3124332129023969,
         0.3159543714486063,
         0.32356422385200856,
         0.32002880265936257,
         0.3076853985898197,
         0.3167862634174526,
         0.31404089061543344,
         0.3138330521993339,
         0.32494596717879176,
         0.30600294647738335,
         0.3066577925346792,
         0.3051733563654125,
         0.3007740217261016,
         0.30913450149819255,
         0.3273514355532825,
         0.3154412909410894,
         0.3155334948562086
        ],
        [
         6.305834932252765,
         6.146706392988563,
         6.314368581399322,
         6.374691044911742,
         6.152220731601119,
         6.121806038543582,
         6.280762976035476,
         6.002817852422595,
         6.4150771256536245,
         6.0606280695647,
         6.284349685534835,
         6.063829964026809,
         6.51450945995748,
         6.302082670852542,
         6.187300777062774,
         6.304084649309516,
         6.121159723028541,
         6.1777946036309,
         6.398069700226188,
         6.100506139919162,
         6.041233962401748,
         6.311342788860202,
         6.553574128076434,
         6.38671257160604,
         6.225178239867091,
         6.679950272664428,
         6.360699048265815,
         6.358960581943393,
         6.335834650322795,
         6.179909570142627,
         6.469524716958404,
         6.340786164626479,
         6.081017209216952,
         6.18557826243341,
         6.525359904393554,
         6.369843391701579,
         6.522194704040885,
         6.180678797885776,
         6.3250493090599775,
         6.083684956654906,
         6.4462617468088865,
         6.210671557113528,
         6.145310191437602,
         6.2459641601890326,
         6.4380879160016775,
         6.163951015099883,
         6.360459050163627,
         6.2466401141136885,
         6.416920131072402,
         6.185808761045337,
         6.26099400036037,
         6.654431326314807,
         6.394640250131488,
         6.395558236166835,
         6.260583562776446,
         6.575202634558082,
         6.5028846096247435,
         6.258910922333598,
         6.506416095420718,
         6.4047050308436155,
         6.5140908267349005,
         6.278533635661006,
         6.496336130425334,
         6.3419988211244345,
         6.219183070585132,
         6.205906359478831,
         6.644074885174632,
         6.345637319609523,
         6.140698654577136,
         6.174761405214667,
         6.378818040713668,
         6.399699999019504,
         6.274438781663775,
         6.425128033384681,
         6.341911761090159,
         6.306451139971614,
         6.24674161337316,
         6.254016755148768,
         6.199299028143287,
         6.045651635155082,
         6.507492518052459,
         6.476518018171191,
         6.547118438407779,
         6.248664258047938,
         6.319087428972125,
         6.471284477040172,
         6.400576053187251,
         6.153707971796393,
         6.3357252683490515,
         6.280817812308669,
         6.276661043986678,
         6.498919343575835,
         6.1200589295476675,
         6.1331558506935835,
         6.1034671273082495,
         6.015480434522033,
         6.182690029963851,
         6.54702871106565,
         6.308825818821788,
         6.310669897124171
        ],
        [
         1.7941750750654037,
         1.7044190049391832,
         1.788116734339133,
         1.8060522914201507,
         1.7765559519805554,
         1.6768628681874858,
         1.8116713691225927,
         1.6907551666174996,
         1.7461675489007689,
         1.6962277721064039,
         1.7191425763695196,
         1.6785217304639357,
         1.8439159376480148,
         1.7782576228480789,
         1.7023678579142056,
         1.8118732116959875,
         1.7187423155041852,
         1.727450518553828,
         1.741999073417163,
         1.6898928286385186,
         1.6630897663095512,
         1.8129076575665883,
         1.8781086112065357,
         1.7975972448104056,
         1.7362934562379462,
         1.8987212590671552,
         1.792726632274638,
         1.7518221120546464,
         1.7998460262370375,
         1.7674899719074828,
         1.7999980426953528,
         1.748469253734014,
         1.6610242514922497,
         1.7050575410402178,
         1.8615186109486195,
         1.7908309163571567,
         1.8293635407266307,
         1.728180771106172,
         1.7738340461145146,
         1.6665137820872313,
         1.7627311790672011,
         1.7596823888239057,
         1.7240564913304004,
         1.7607028268679015,
         1.8468697568460728,
         1.7753466293898936,
         1.7834741555839049,
         1.8017927559567157,
         1.8086242201455291,
         1.7027842201569567,
         1.7200207930978588,
         1.843313831156008,
         1.8024248895929977,
         1.8352689527023733,
         1.8081304513629328,
         1.84732009766183,
         1.841482759892844,
         1.716349693900355,
         1.8807291339454444,
         1.7434342844166257,
         1.7950841281761278,
         1.7412484947779345,
         1.802592531406941,
         1.7986143106367989,
         1.7620755819232445,
         1.7716883746825582,
         1.8432941652533366,
         1.8550081013498616,
         1.7049350528311578,
         1.776259794644136,
         1.7767150255968764,
         1.8280603370482498,
         1.786265622014564,
         1.7735449366152816,
         1.8140486706091477,
         1.7967712687705084,
         1.7508236255081344,
         1.7303208692783407,
         1.7636765961460015,
         1.6914804439711901,
         1.7852007263579384,
         1.8042781665041043,
         1.8569489911875436,
         1.777303598409913,
         1.7500307551393646,
         1.7888254274033077,
         1.8159557201544048,
         1.7301428671284995,
         1.7236262354244205,
         1.7841470485925333,
         1.7722736465676423,
         1.8247949583720715,
         1.7388381650523066,
         1.7893172687082448,
         1.714182919298548,
         1.7045239837791584,
         1.6900671218296186,
         1.8521326151380975,
         1.8360498251819282,
         1.7918282366006886
        ]
       ],
       "encoder": "json",
       "name": "ABC_GAN_1 Metrics",
       "version": 1
      }
     },
     "metadata": {
      "scrapbook": {
       "data": true,
       "display": false,
       "name": "ABC_GAN_1 Metrics"
      }
     },
     "output_type": "display_data"
    },
    {
     "name": "stdout",
     "output_type": "stream",
     "text": [
      "MSE\n",
      "0.1571858828324681\n"
     ]
    }
   ],
   "source": [
    "ABC_GAN1_metrics=ABC_train_test2.test_generator(gen,test_data,prior_model,variance,bias,\"1\",device)\n",
    "sb.glue(\"ABC_GAN_1 Metrics\",ABC_GAN1_metrics)\n",
    "\n",
    "print(\"MSE\")\n",
    "print(mean(ABC_GAN1_metrics[0]))"
   ]
  },
  {
   "cell_type": "code",
   "execution_count": 14,
   "id": "eb22ce5c",
   "metadata": {
    "execution": {
     "iopub.execute_input": "2022-06-22T12:13:23.617382Z",
     "iopub.status.busy": "2022-06-22T12:13:23.616621Z",
     "iopub.status.idle": "2022-06-22T12:13:24.349064Z",
     "shell.execute_reply": "2022-06-22T12:13:24.349679Z"
    },
    "papermill": {
     "duration": 0.782078,
     "end_time": "2022-06-22T12:13:24.349876",
     "exception": false,
     "start_time": "2022-06-22T12:13:23.567798",
     "status": "completed"
    },
    "tags": []
   },
   "outputs": [
    {
     "data": {
      "image/png": "[encoded data removed]",
      "text/plain": [
       "<Figure size 432x288 with 1 Axes>"
      ]
     },
     "metadata": {
      "needs_background": "light"
     },
     "output_type": "display_data"
    },
    {
     "data": {
      "image/png": "[encoded data removed]",
      "text/plain": [
       "<Figure size 432x288 with 1 Axes>"
      ]
     },
     "metadata": {
      "needs_background": "light"
     },
     "output_type": "display_data"
    },
    {
     "data": {
      "image/png": "[encoded data removed]",
      "text/plain": [
       "<Figure size 432x288 with 1 Axes>"
      ]
     },
     "metadata": {
      "needs_background": "light"
     },
     "output_type": "display_data"
    },
    {
     "data": {
      "image/png": "[encoded data removed]",
      "text/plain": [
       "<Figure size 432x288 with 1 Axes>"
      ]
     },
     "metadata": {
      "needs_background": "light"
     },
     "output_type": "display_data"
    }
   ],
   "source": [
    "sanityChecks.discProbVsError(train_data,disc,device)\n",
    "sanityChecks.discProbVsError(test_data,disc,device)"
   ]
  },
  {
   "cell_type": "markdown",
   "id": "130f3a4d",
   "metadata": {
    "id": "130f3a4d",
    "papermill": {
     "duration": 0.045482,
     "end_time": "2022-06-22T12:13:24.434020",
     "exception": false,
     "start_time": "2022-06-22T12:13:24.388538",
     "status": "completed"
    },
    "tags": []
   },
   "source": [
    "# ABC - GAN Model with skip connection"
   ]
  },
  {
   "cell_type": "code",
   "execution_count": 15,
   "id": "4e43dad1",
   "metadata": {
    "execution": {
     "iopub.execute_input": "2022-06-22T12:13:24.529172Z",
     "iopub.status.busy": "2022-06-22T12:13:24.528255Z",
     "iopub.status.idle": "2022-06-22T12:13:24.532432Z",
     "shell.execute_reply": "2022-06-22T12:13:24.532968Z"
    },
    "id": "4e43dad1",
    "papermill": {
     "duration": 0.057649,
     "end_time": "2022-06-22T12:13:24.533189",
     "exception": false,
     "start_time": "2022-06-22T12:13:24.475540",
     "status": "completed"
    },
    "tags": []
   },
   "outputs": [],
   "source": [
    "#Generator\n",
    "gen3 = network.GeneratorWithSkipConnection(n_features+1).to(device)\n",
    "constraints=network.weightConstraint()\n",
    "#Discriminator \n",
    "disc3 = network.Discriminator(n_features+1).to(device)\n",
    "\n",
    "criterion = torch.nn.BCELoss()\n",
    "gen_opt = torch.optim.Adam(gen3.parameters(), lr=0.001, betas=(0.5, 0.999))\n",
    "disc_opt = torch.optim.Adam(disc3.parameters(), lr=0.001, betas=(0.5, 0.999))\n"
   ]
  },
  {
   "cell_type": "code",
   "execution_count": 16,
   "id": "26acbc37",
   "metadata": {
    "execution": {
     "iopub.execute_input": "2022-06-22T12:13:24.637644Z",
     "iopub.status.busy": "2022-06-22T12:13:24.636830Z",
     "iopub.status.idle": "2022-06-22T12:14:31.541321Z",
     "shell.execute_reply": "2022-06-22T12:14:31.542030Z"
    },
    "id": "26acbc37",
    "papermill": {
     "duration": 66.962397,
     "end_time": "2022-06-22T12:14:31.542321",
     "exception": false,
     "start_time": "2022-06-22T12:13:24.579924",
     "status": "completed"
    },
    "tags": []
   },
   "outputs": [
    {
     "data": {
      "image/png": "[encoded data removed]",
      "text/plain": [
       "<Figure size 432x288 with 1 Axes>"
      ]
     },
     "metadata": {
      "needs_background": "light"
     },
     "output_type": "display_data"
    },
    {
     "data": {
      "image/png": "[encoded data removed]",
      "text/plain": [
       "<Figure size 432x288 with 1 Axes>"
      ]
     },
     "metadata": {
      "needs_background": "light"
     },
     "output_type": "display_data"
    }
   ],
   "source": [
    "ABC_train_test2.training_GAN_skip_connection(disc3,gen3,disc_opt,gen_opt,train_data,batch_size,n_epochs,criterion,prior_model,variance,bias,device)"
   ]
  },
  {
   "cell_type": "code",
   "execution_count": 17,
   "id": "c5e0717b",
   "metadata": {
    "execution": {
     "iopub.execute_input": "2022-06-22T12:14:31.651349Z",
     "iopub.status.busy": "2022-06-22T12:14:31.650125Z",
     "iopub.status.idle": "2022-06-22T12:14:32.404600Z",
     "shell.execute_reply": "2022-06-22T12:14:32.405276Z"
    },
    "id": "c5e0717b",
    "papermill": {
     "duration": 0.815532,
     "end_time": "2022-06-22T12:14:32.405496",
     "exception": false,
     "start_time": "2022-06-22T12:14:31.589964",
     "status": "completed"
    },
    "tags": []
   },
   "outputs": [
    {
     "data": {
      "application/scrapbook.scrap.json+json": {
       "data": 0.2138076704438585,
       "encoder": "json",
       "name": "ABC-GAN Model 3 MSE",
       "version": 1
      }
     },
     "metadata": {
      "scrapbook": {
       "data": true,
       "display": false,
       "name": "ABC-GAN Model 3 MSE"
      }
     },
     "output_type": "display_data"
    },
    {
     "data": {
      "application/scrapbook.scrap.json+json": {
       "data": 0.3637534334398806,
       "encoder": "json",
       "name": "ABC-GAN Model 3 MAE",
       "version": 1
      }
     },
     "metadata": {
      "scrapbook": {
       "data": true,
       "display": false,
       "name": "ABC-GAN Model 3 MAE"
      }
     },
     "output_type": "display_data"
    },
    {
     "data": {
      "application/scrapbook.scrap.json+json": {
       "data": 7.275068668797612,
       "encoder": "json",
       "name": "ABC-GAN Model 3 Manhattan Distance",
       "version": 1
      }
     },
     "metadata": {
      "scrapbook": {
       "data": true,
       "display": false,
       "name": "ABC-GAN Model 3 Manhattan Distance"
      }
     },
     "output_type": "display_data"
    },
    {
     "data": {
      "application/scrapbook.scrap.json+json": {
       "data": 2.0669814952122767,
       "encoder": "json",
       "name": "ABC-GAN Model 3 Euclidean distance",
       "version": 1
      }
     },
     "metadata": {
      "scrapbook": {
       "data": true,
       "display": false,
       "name": "ABC-GAN Model 3 Euclidean distance"
      }
     },
     "output_type": "display_data"
    },
    {
     "data": {
      "application/scrapbook.scrap.json+json": {
       "data": [
        [
         0.2341634105532433,
         0.19576773775339545,
         0.2005369944374325,
         0.20172131360836515,
         0.2136338097530762,
         0.22759954535169916,
         0.24613341988175713,
         0.223211977489518,
         0.225915819907701,
         0.21864930290469725,
         0.2087416016877195,
         0.2142847249417355,
         0.21787163339482696,
         0.21379124924778153,
         0.20495037158420565,
         0.2036175406120217,
         0.21756553507190518,
         0.22500262084865916,
         0.21788072032993658,
         0.22679900613514886,
         0.19548750001685275,
         0.20812485257798802,
         0.2127954288494509,
         0.21799258665316584,
         0.20546038673319314,
         0.22587697706716522,
         0.22497032689612495,
         0.2250774615514723,
         0.20961282545619464,
         0.2246023386241643,
         0.2146230287341815,
         0.2064125154070687,
         0.22030196633518956,
         0.20255864699276432,
         0.19674708035114946,
         0.20093376123527434,
         0.21201395837078857,
         0.202948065181681,
         0.21017100862163401,
         0.23720794732136433,
         0.2171709992762411,
         0.21845089342274365,
         0.20720153587334567,
         0.2067008792019695,
         0.2315722547116083,
         0.22600737673893745,
         0.22133653888177385,
         0.20601439054164947,
         0.2007211540307543,
         0.22837766345176544,
         0.19164961767689298,
         0.21268274309605667,
         0.22901692110926594,
         0.19532050487018274,
         0.19316386224972745,
         0.22653750636216916,
         0.21778196154928975,
         0.20560085838758693,
         0.21421582291056404,
         0.22830551827529194,
         0.23458600740734062,
         0.20071172297211085,
         0.2102539923962874,
         0.21136719891888683,
         0.20203411913041563,
         0.1976788181493946,
         0.1965924021898145,
         0.21355570811103464,
         0.22996879656882774,
         0.21858587979503943,
         0.21235898065107445,
         0.24319903603142573,
         0.20651684409158907,
         0.23681024934692935,
         0.21252250705842873,
         0.196527341915247,
         0.20765599472681834,
         0.22094935669421117,
         0.2229782152132776,
         0.2134902753016882,
         0.227390305795224,
         0.23985474677534283,
         0.19460519546493885,
         0.22282542582150217,
         0.2074560299428007,
         0.20721694449376088,
         0.18587266804339875,
         0.21025272969031844,
         0.21435601098727103,
         0.19584420415982548,
         0.2326339391036934,
         0.21028256045097843,
         0.19768241971205744,
         0.2152189852800442,
         0.21055817722670084,
         0.21744875265803137,
         0.22662376073042473,
         0.18826134089924007,
         0.20994297727793892,
         0.2085104221130055
        ],
        [
         0.37834703670814634,
         0.34548308001831174,
         0.3641656388528645,
         0.3585398127324879,
         0.36069886879995466,
         0.37516355561092496,
         0.38600207315757873,
         0.36951066749170425,
         0.36561168255284426,
         0.3727506776340306,
         0.36591789619997145,
         0.3742826689966023,
         0.37868121759966017,
         0.36197805078700185,
         0.3667794574983418,
         0.35976413236930965,
         0.37031716676428916,
         0.3645137337036431,
         0.3675537911243737,
         0.366077006328851,
         0.35282960729673507,
         0.35910404594615103,
         0.35162736373022196,
         0.36705720173195006,
         0.3451126773841679,
         0.3640691411681473,
         0.34869033517315984,
         0.3656190966255963,
         0.34768815906718376,
         0.3806261439807713,
         0.3670095850713551,
         0.36127044083550575,
         0.375748245883733,
         0.35505985291674735,
         0.3563457173295319,
         0.3421428305096924,
         0.369424466509372,
         0.35761631624773144,
         0.35684622945263983,
         0.36427247868850826,
         0.3550173562951386,
         0.37160499589517715,
         0.35498807625845075,
         0.3748343248851597,
         0.37491777585819364,
         0.3869464431889355,
         0.3668172520585358,
         0.3541397606022656,
         0.35013672756031156,
         0.36853152262046934,
         0.33210947858169676,
         0.3528514196164906,
         0.3763361071236432,
         0.3462365654297173,
         0.3610659291036427,
         0.3587964464910328,
         0.35760255055502055,
         0.35178649770095943,
         0.36504851626232265,
         0.3818973978050053,
         0.3894335483200848,
         0.3518492584116757,
         0.37244040789082644,
         0.3698798601515591,
         0.36198823200538754,
         0.354544832278043,
         0.3495990437455475,
         0.3502855424769223,
         0.3750283499248326,
         0.37717438535764813,
         0.3530697223730385,
         0.36455569313839076,
         0.3506134902127087,
         0.3887573008425534,
         0.36119623528793454,
         0.34994431333616377,
         0.37280212761834264,
         0.3721090738661587,
         0.3743865822441876,
         0.3651758556254208,
         0.3840422463603318,
         0.38057508366182446,
         0.3502795395441353,
         0.37026877673342823,
         0.38124565379694103,
         0.36175780491903425,
         0.34642705516889694,
         0.3526142512448132,
         0.37559199081733824,
         0.34091558130458,
         0.36081747161224487,
         0.3698292394168675,
         0.36160393254831436,
         0.3885277700610459,
         0.3612906579859555,
         0.38033794509246943,
         0.37617068709805607,
         0.34054523007944226,
         0.35416359873488545,
         0.35154167832806704
        ],
        [
         7.566940734162927,
         6.909661600366235,
         7.28331277705729,
         7.170796254649758,
         7.213977375999093,
         7.503271112218499,
         7.720041463151574,
         7.3902133498340845,
         7.312233651056886,
         7.455013552680612,
         7.318357923999429,
         7.485653379932046,
         7.573624351993203,
         7.239561015740037,
         7.335589149966836,
         7.195282647386193,
         7.406343335285783,
         7.290274674072862,
         7.3510758224874735,
         7.32154012657702,
         7.056592145934701,
         7.18208091892302,
         7.03254727460444,
         7.341144034639001,
         6.902253547683358,
         7.2813828233629465,
         6.973806703463197,
         7.312381932511926,
         6.953763181343675,
         7.612522879615426,
         7.340191701427102,
         7.2254088167101145,
         7.514964917674661,
         7.101197058334947,
         7.126914346590638,
         6.842856610193849,
         7.38848933018744,
         7.152326324954629,
         7.136924589052796,
         7.285449573770165,
         7.100347125902772,
         7.4320999179035425,
         7.099761525169015,
         7.496686497703195,
         7.498355517163873,
         7.73892886377871,
         7.336345041170716,
         7.082795212045312,
         7.002734551206231,
         7.370630452409387,
         6.642189571633935,
         7.057028392329812,
         7.526722142472863,
         6.924731308594346,
         7.221318582072854,
         7.175928929820657,
         7.152051011100411,
         7.035729954019189,
         7.300970325246453,
         7.637947956100106,
         7.788670966401696,
         7.036985168233514,
         7.448808157816529,
         7.397597203031182,
         7.239764640107751,
         7.090896645560861,
         6.991980874910951,
         7.0057108495384455,
         7.500566998496652,
         7.543487707152963,
         7.061394447460771,
         7.291113862767816,
         7.012269804254174,
         7.7751460168510675,
         7.223924705758691,
         6.998886266723275,
         7.456042552366853,
         7.4421814773231745,
         7.487731644883752,
         7.303517112508416,
         7.6808449272066355,
         7.611501673236489,
         7.005590790882707,
         7.405375534668565,
         7.624913075938821,
         7.235156098380685,
         6.928541103377938,
         7.052285024896264,
         7.511839816346765,
         6.8183116260915995,
         7.216349432244897,
         7.39658478833735,
         7.232078650966287,
         7.770555401220918,
         7.2258131597191095,
         7.606758901849389,
         7.523413741961122,
         6.810904601588845,
         7.083271974697709,
         7.030833566561341
        ],
        [
         2.1640859989993158,
         1.978725538084529,
         2.0026831723337195,
         2.008588129051674,
         2.067045281328284,
         2.1335395255382505,
         2.218708723026784,
         2.1128747122795426,
         2.125633175821741,
         2.091168586722253,
         2.04324057167882,
         2.0701918990361037,
         2.0874464467134333,
         2.0678068055201946,
         2.0246005610203985,
         2.0180066432597377,
         2.085979554415168,
         2.1213326983227274,
         2.087489977604379,
         2.1297840554157075,
         1.9773087771860658,
         2.0402198537313962,
         2.06298535549553,
         2.0880257979879744,
         2.0271180860186373,
         2.125450432577364,
         2.121180458594341,
         2.1216854693920695,
         2.047500063278117,
         2.1194449208420787,
         2.071825420899075,
         2.0318096141472934,
         2.0990567707195993,
         2.0127525779030284,
         1.9836687241127204,
         2.004663369422778,
         2.0591938149226676,
         2.0146864032979472,
         2.0502244200166673,
         2.1781090299678034,
         2.084087326751166,
         2.0902195742205825,
         2.0356892487476848,
         2.033228364950526,
         2.152079249059422,
         2.1260638595250962,
         2.103979747439475,
         2.0298492088904014,
         2.003602525606086,
         2.137183489791017,
         1.9578029404252768,
         2.062439056535037,
         2.1401725215938363,
         1.9764640389856967,
         1.9655221303751707,
         2.1285558783464866,
         2.087016825755316,
         2.027810929981328,
         2.069859043077881,
         2.1368458918475706,
         2.166037891669214,
         2.0035554545462966,
         2.050629134662274,
         2.056050577777146,
         2.0101448660751573,
         1.9883602196251795,
         1.982888812766941,
         2.0666674048382077,
         2.144615567269937,
         2.0908652744499796,
         2.0608686549660287,
         2.205443429478189,
         2.032323025956204,
         2.176282377573872,
         2.061661985187818,
         1.9825606770802604,
         2.037920482878654,
         2.1021387047205575,
         2.1117680517200634,
         2.0663507703276722,
         2.1325585844014885,
         2.190227142445928,
         1.97284158241324,
         2.1110444136564355,
         2.0369390267889744,
         2.03576493974015,
         1.9280698537314396,
         2.0506229770014697,
         2.0705362155116775,
         1.9791119430685344,
         2.1570069035758483,
         2.050768443540023,
         1.9883783327730034,
         2.074699907360311,
         2.052111971734003,
         2.0854196347883147,
         2.1289610646060426,
         1.940419237686743,
         2.0491118919079985,
         2.0421088223354085
        ]
       ],
       "encoder": "json",
       "name": "ABC_GAN_3 Metrics",
       "version": 1
      }
     },
     "metadata": {
      "scrapbook": {
       "data": true,
       "display": false,
       "name": "ABC_GAN_3 Metrics"
      }
     },
     "output_type": "display_data"
    },
    {
     "name": "stdout",
     "output_type": "stream",
     "text": [
      "MSE\n",
      "0.2138076704438585\n"
     ]
    }
   ],
   "source": [
    "ABC_GAN3_metrics=ABC_train_test2.test_generator(gen3,test_data,prior_model,variance,bias,\"3\",device)\n",
    "sb.glue(\"ABC_GAN_3 Metrics\",ABC_GAN3_metrics)\n",
    "\n",
    "print(\"MSE\")\n",
    "print(mean(ABC_GAN3_metrics[0]))"
   ]
  },
  {
   "cell_type": "code",
   "execution_count": 18,
   "id": "c8e46b48",
   "metadata": {
    "execution": {
     "iopub.execute_input": "2022-06-22T12:14:32.521751Z",
     "iopub.status.busy": "2022-06-22T12:14:32.519114Z",
     "iopub.status.idle": "2022-06-22T12:14:33.261026Z",
     "shell.execute_reply": "2022-06-22T12:14:33.261562Z"
    },
    "id": "c8e46b48",
    "papermill": {
     "duration": 0.810209,
     "end_time": "2022-06-22T12:14:33.261768",
     "exception": false,
     "start_time": "2022-06-22T12:14:32.451559",
     "status": "completed"
    },
    "tags": []
   },
   "outputs": [
    {
     "data": {
      "image/png": "[encoded data removed]",
      "text/plain": [
       "<Figure size 432x288 with 1 Axes>"
      ]
     },
     "metadata": {
      "needs_background": "light"
     },
     "output_type": "display_data"
    },
    {
     "data": {
      "image/png": "[encoded data removed]",
      "text/plain": [
       "<Figure size 432x288 with 1 Axes>"
      ]
     },
     "metadata": {
      "needs_background": "light"
     },
     "output_type": "display_data"
    },
    {
     "data": {
      "image/png": "[encoded data removed]",
      "text/plain": [
       "<Figure size 432x288 with 1 Axes>"
      ]
     },
     "metadata": {
      "needs_background": "light"
     },
     "output_type": "display_data"
    },
    {
     "data": {
      "image/png": "[encoded data removed]",
      "text/plain": [
       "<Figure size 432x288 with 1 Axes>"
      ]
     },
     "metadata": {
      "needs_background": "light"
     },
     "output_type": "display_data"
    }
   ],
   "source": [
    "sanityChecks.discProbVsError(train_data,disc3,device)\n",
    "sanityChecks.discProbVsError(test_data,disc3,device)"
   ]
  },
  {
   "cell_type": "markdown",
   "id": "a5bd74c3",
   "metadata": {
    "id": "a5bd74c3",
    "papermill": {
     "duration": 0.054825,
     "end_time": "2022-06-22T12:14:33.365341",
     "exception": false,
     "start_time": "2022-06-22T12:14:33.310516",
     "status": "completed"
    },
    "tags": []
   },
   "source": [
    "## Skip Connection Model Analysis - ABC-GAN "
   ]
  },
  {
   "cell_type": "markdown",
   "id": "5744a8bf",
   "metadata": {
    "id": "5744a8bf",
    "papermill": {
     "duration": 0.053971,
     "end_time": "2022-06-22T12:14:33.467263",
     "exception": false,
     "start_time": "2022-06-22T12:14:33.413292",
     "status": "completed"
    },
    "tags": []
   },
   "source": [
    "### Weight Analysis \n",
    "\n",
    "Study the weights of the skip connection layer\n",
    "\n",
    "Equation of the skip connection is \n",
    "\n",
    "$output = y_{gan} * w + y_{abc} * (1-w)$"
   ]
  },
  {
   "cell_type": "code",
   "execution_count": 19,
   "id": "52c31dea",
   "metadata": {
    "execution": {
     "iopub.execute_input": "2022-06-22T12:14:33.588993Z",
     "iopub.status.busy": "2022-06-22T12:14:33.587807Z",
     "iopub.status.idle": "2022-06-22T12:14:33.599306Z",
     "shell.execute_reply": "2022-06-22T12:14:33.599974Z"
    },
    "id": "52c31dea",
    "papermill": {
     "duration": 0.077575,
     "end_time": "2022-06-22T12:14:33.600251",
     "exception": false,
     "start_time": "2022-06-22T12:14:33.522676",
     "status": "completed"
    },
    "tags": []
   },
   "outputs": [
    {
     "name": "stdout",
     "output_type": "stream",
     "text": [
      "Weight of the node at skip connection\n",
      "Parameter containing:\n",
      "tensor([[0.1122]], requires_grad=True)\n"
     ]
    },
    {
     "data": {
      "application/scrapbook.scrap.json+json": {
       "data": 0.11220108717679977,
       "encoder": "json",
       "name": "Skip Connection Weight",
       "version": 1
      }
     },
     "metadata": {
      "scrapbook": {
       "data": true,
       "display": false,
       "name": "Skip Connection Weight"
      }
     },
     "output_type": "display_data"
    }
   ],
   "source": [
    "print(\"Weight of the node at skip connection\")\n",
    "for name,param in gen3.named_parameters():\n",
    "    if(name == \"skipNode.weight\"):\n",
    "        print(param)\n",
    "        sb.glue(\"Skip Connection Weight\",param.item())"
   ]
  }
 ],
 "metadata": {
  "colab": {
   "collapsed_sections": [],
   "name": "ABC_GAN_Model-Catboost_Pre-gen.ipynb",
   "provenance": []
  },
  "interpreter": {
   "hash": "31f2aee4e71d21fbe5cf8b01ff0e069b9275f58929596ceb00d14d90e3e16cd6"
  },
  "kernelspec": {
   "display_name": "Python 3 (ipykernel)",
   "language": "python",
   "name": "python3"
  },
  "language_info": {
   "codemirror_mode": {
    "name": "ipython",
    "version": 3
   },
   "file_extension": ".py",
   "mimetype": "text/x-python",
   "name": "python",
   "nbconvert_exporter": "python",
   "pygments_lexer": "ipython3",
   "version": "3.8.3"
  },
  "papermill": {
   "default_parameters": {},
   "duration": 139.58333,
   "end_time": "2022-06-22T12:14:35.018793",
   "environment_variables": {},
   "exception": null,
   "input_path": "ABC_GAN-TabNet.ipynb",
   "output_path": "./ABC_GAN_TabNet/ABC-GAN_output_2_7.ipynb",
   "parameters": {
    "bias": 0.01,
    "variance": 0.1
   },
   "start_time": "2022-06-22T12:12:15.435463",
   "version": "2.3.3"
  }
 },
 "nbformat": 4,
 "nbformat_minor": 5
}