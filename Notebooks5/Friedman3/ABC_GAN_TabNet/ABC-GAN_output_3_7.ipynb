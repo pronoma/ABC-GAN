{
 "cells": [
  {
   "cell_type": "markdown",
   "id": "622780e6",
   "metadata": {
    "id": "622780e6",
    "papermill": {
     "duration": 0.021518,
     "end_time": "2022-06-22T12:41:09.753904",
     "exception": false,
     "start_time": "2022-06-22T12:41:09.732386",
     "status": "completed"
    },
    "tags": []
   },
   "source": [
    "## Import Libraries "
   ]
  },
  {
   "cell_type": "code",
   "execution_count": 1,
   "id": "a62397e3",
   "metadata": {
    "execution": {
     "iopub.execute_input": "2022-06-22T12:41:09.860893Z",
     "iopub.status.busy": "2022-06-22T12:41:09.849584Z",
     "iopub.status.idle": "2022-06-22T12:41:09.863485Z",
     "shell.execute_reply": "2022-06-22T12:41:09.864080Z"
    },
    "id": "a62397e3",
    "papermill": {
     "duration": 0.09416,
     "end_time": "2022-06-22T12:41:09.864447",
     "exception": false,
     "start_time": "2022-06-22T12:41:09.770287",
     "status": "completed"
    },
    "tags": []
   },
   "outputs": [],
   "source": [
    "import warnings\n",
    "import sys\n",
    "sys.path.insert(0, '../../src')\n",
    "warnings.filterwarnings('ignore')"
   ]
  },
  {
   "cell_type": "code",
   "execution_count": 2,
   "id": "d6a4e155",
   "metadata": {
    "execution": {
     "iopub.execute_input": "2022-06-22T12:41:09.914421Z",
     "iopub.status.busy": "2022-06-22T12:41:09.911528Z",
     "iopub.status.idle": "2022-06-22T12:41:15.481416Z",
     "shell.execute_reply": "2022-06-22T12:41:15.481955Z"
    },
    "id": "d6a4e155",
    "papermill": {
     "duration": 5.598402,
     "end_time": "2022-06-22T12:41:15.482180",
     "exception": false,
     "start_time": "2022-06-22T12:41:09.883778",
     "status": "completed"
    },
    "tags": []
   },
   "outputs": [],
   "source": [
    "import ABC_train_test2\n",
    "import friedman3Dataset\n",
    "import network\n",
    "import dataset\n",
    "import sanityChecks\n",
    "import torch \n",
    "import scrapbook as sb\n",
    "from statistics import mean \n",
    "import catboost as ctb \n",
    "from sklearn.model_selection import train_test_split\n",
    "from sklearn.metrics import mean_squared_error,mean_absolute_error\n",
    "import numpy as np\n",
    "from pytorch_tabnet.tab_model import TabNetRegressor"
   ]
  },
  {
   "cell_type": "markdown",
   "id": "2fa5b0f7",
   "metadata": {
    "id": "2fa5b0f7",
    "papermill": {
     "duration": 0.015884,
     "end_time": "2022-06-22T12:41:15.513225",
     "exception": false,
     "start_time": "2022-06-22T12:41:15.497341",
     "status": "completed"
    },
    "tags": []
   },
   "source": [
    "## Parameters "
   ]
  },
  {
   "cell_type": "code",
   "execution_count": 3,
   "id": "783186fb",
   "metadata": {
    "execution": {
     "iopub.execute_input": "2022-06-22T12:41:15.576768Z",
     "iopub.status.busy": "2022-06-22T12:41:15.570415Z",
     "iopub.status.idle": "2022-06-22T12:41:15.580581Z",
     "shell.execute_reply": "2022-06-22T12:41:15.582074Z"
    },
    "id": "783186fb",
    "papermill": {
     "duration": 0.052189,
     "end_time": "2022-06-22T12:41:15.584564",
     "exception": false,
     "start_time": "2022-06-22T12:41:15.532375",
     "status": "completed"
    },
    "tags": [
     "parameters"
    ]
   },
   "outputs": [],
   "source": [
    "variance = 1\n",
    "bias = 1 "
   ]
  },
  {
   "cell_type": "code",
   "execution_count": 4,
   "id": "a2133616",
   "metadata": {
    "execution": {
     "iopub.execute_input": "2022-06-22T12:41:15.635303Z",
     "iopub.status.busy": "2022-06-22T12:41:15.634267Z",
     "iopub.status.idle": "2022-06-22T12:41:15.637248Z",
     "shell.execute_reply": "2022-06-22T12:41:15.637793Z"
    },
    "papermill": {
     "duration": 0.037364,
     "end_time": "2022-06-22T12:41:15.638019",
     "exception": false,
     "start_time": "2022-06-22T12:41:15.600655",
     "status": "completed"
    },
    "tags": [
     "injected-parameters"
    ]
   },
   "outputs": [],
   "source": [
    "# Parameters\n",
    "variance = 0.1\n",
    "bias = 0.01\n"
   ]
  },
  {
   "cell_type": "markdown",
   "id": "391cdbfd",
   "metadata": {
    "id": "391cdbfd",
    "papermill": {
     "duration": 0.030822,
     "end_time": "2022-06-22T12:41:15.685991",
     "exception": false,
     "start_time": "2022-06-22T12:41:15.655169",
     "status": "completed"
    },
    "tags": []
   },
   "source": [
    "## Dataset \n"
   ]
  },
  {
   "cell_type": "code",
   "execution_count": 5,
   "id": "5b51f161",
   "metadata": {
    "execution": {
     "iopub.execute_input": "2022-06-22T12:41:15.730603Z",
     "iopub.status.busy": "2022-06-22T12:41:15.727109Z",
     "iopub.status.idle": "2022-06-22T12:41:15.734234Z",
     "shell.execute_reply": "2022-06-22T12:41:15.733696Z"
    },
    "id": "5b51f161",
    "papermill": {
     "duration": 0.03183,
     "end_time": "2022-06-22T12:41:15.734438",
     "exception": false,
     "start_time": "2022-06-22T12:41:15.702608",
     "status": "completed"
    },
    "tags": []
   },
   "outputs": [],
   "source": [
    "#Parameters \n",
    "n_features = 4\n",
    "n_samples= 100\n",
    "n_target = 1"
   ]
  },
  {
   "cell_type": "code",
   "execution_count": 6,
   "id": "5d6eced4",
   "metadata": {
    "execution": {
     "iopub.execute_input": "2022-06-22T12:41:15.800062Z",
     "iopub.status.busy": "2022-06-22T12:41:15.798056Z",
     "iopub.status.idle": "2022-06-22T12:41:15.805428Z",
     "shell.execute_reply": "2022-06-22T12:41:15.804568Z"
    },
    "id": "5d6eced4",
    "papermill": {
     "duration": 0.055293,
     "end_time": "2022-06-22T12:41:15.805861",
     "exception": false,
     "start_time": "2022-06-22T12:41:15.750568",
     "status": "completed"
    },
    "tags": []
   },
   "outputs": [
    {
     "name": "stdout",
     "output_type": "stream",
     "text": [
      "          X1           X2        X3        X4         Y\n",
      "0  17.369735   498.460313  0.726168  3.316645  1.386132\n",
      "1  38.733691  1117.571713  0.169597  2.161548  1.353562\n",
      "2   5.029493   276.038127  0.671097  5.024838  1.508856\n",
      "3  68.295733  1251.740395  0.078931  1.117672  1.011064\n",
      "4  25.188177  1415.885579  0.625810  1.438505  1.476967\n"
     ]
    }
   ],
   "source": [
    "X,Y = friedman3Dataset.friedman3_data(n_samples)"
   ]
  },
  {
   "cell_type": "code",
   "execution_count": 7,
   "id": "fe007438",
   "metadata": {
    "execution": {
     "iopub.execute_input": "2022-06-22T12:41:15.866592Z",
     "iopub.status.busy": "2022-06-22T12:41:15.864037Z",
     "iopub.status.idle": "2022-06-22T12:41:15.868909Z",
     "shell.execute_reply": "2022-06-22T12:41:15.870749Z"
    },
    "id": "fe007438",
    "papermill": {
     "duration": 0.048194,
     "end_time": "2022-06-22T12:41:15.879636",
     "exception": false,
     "start_time": "2022-06-22T12:41:15.831442",
     "status": "completed"
    },
    "tags": []
   },
   "outputs": [],
   "source": [
    "#Train test split for dataset \n",
    "X_train,X_test,Y_train,Y_test = train_test_split(X,Y,test_size = 0.2)\n",
    "train_data = dataset.CustomDataset(X_train,Y_train)\n",
    "test_data = dataset.CustomDataset(X_test,Y_test)\n"
   ]
  },
  {
   "cell_type": "markdown",
   "id": "a9a1af34",
   "metadata": {
    "id": "a9a1af34",
    "papermill": {
     "duration": 0.027563,
     "end_time": "2022-06-22T12:41:15.930951",
     "exception": false,
     "start_time": "2022-06-22T12:41:15.903388",
     "status": "completed"
    },
    "tags": []
   },
   "source": [
    "## Training Parameters "
   ]
  },
  {
   "cell_type": "code",
   "execution_count": 8,
   "id": "952b7fc8",
   "metadata": {
    "execution": {
     "iopub.execute_input": "2022-06-22T12:41:16.000503Z",
     "iopub.status.busy": "2022-06-22T12:41:15.997494Z",
     "iopub.status.idle": "2022-06-22T12:41:16.001419Z",
     "shell.execute_reply": "2022-06-22T12:41:16.001902Z"
    },
    "id": "952b7fc8",
    "papermill": {
     "duration": 0.051276,
     "end_time": "2022-06-22T12:41:16.002133",
     "exception": false,
     "start_time": "2022-06-22T12:41:15.950857",
     "status": "completed"
    },
    "tags": []
   },
   "outputs": [],
   "source": [
    "batch_size = 32\n",
    "n_epochs = 1000\n",
    "#Select the device \n",
    "device = torch.device('cuda' if torch.cuda.is_available() else 'cpu')"
   ]
  },
  {
   "cell_type": "markdown",
   "id": "a95e1600",
   "metadata": {
    "id": "a95e1600",
    "papermill": {
     "duration": 0.017434,
     "end_time": "2022-06-22T12:41:16.044569",
     "exception": false,
     "start_time": "2022-06-22T12:41:16.027135",
     "status": "completed"
    },
    "tags": []
   },
   "source": [
    "# ABC Pre-generator Model \n",
    "\n",
    "1. The catboost model is used as a pre-generator model for the ABC-GAN. \n",
    "2. The model is first trained on the entire dataset \n",
    "3. It generats X,Y pairs and we add some Gaussian noise with mean 0 and variance 1 to it which is then feed as input to the generator.\n"
   ]
  },
  {
   "cell_type": "code",
   "execution_count": 9,
   "id": "ff8ce7bd",
   "metadata": {
    "execution": {
     "iopub.execute_input": "2022-06-22T12:41:16.097723Z",
     "iopub.status.busy": "2022-06-22T12:41:16.096636Z",
     "iopub.status.idle": "2022-06-22T12:41:29.311815Z",
     "shell.execute_reply": "2022-06-22T12:41:29.312269Z"
    },
    "id": "ff8ce7bd",
    "papermill": {
     "duration": 13.246882,
     "end_time": "2022-06-22T12:41:29.312464",
     "exception": false,
     "start_time": "2022-06-22T12:41:16.065582",
     "status": "completed"
    },
    "tags": []
   },
   "outputs": [
    {
     "name": "stdout",
     "output_type": "stream",
     "text": [
      "Device used : cpu\n"
     ]
    },
    {
     "name": "stdout",
     "output_type": "stream",
     "text": [
      "epoch 0  | loss: 1.11682 | train_mse: 4.67824 | train_mae: 1.68189 |  0:00:00s\n",
      "epoch 1  | loss: 0.80359 | train_mse: 3.22724 | train_mae: 1.34249 |  0:00:00s\n",
      "epoch 2  | loss: 0.44568 | train_mse: 4.08777 | train_mae: 1.51341 |  0:00:00s\n"
     ]
    },
    {
     "name": "stdout",
     "output_type": "stream",
     "text": [
      "epoch 3  | loss: 0.36829 | train_mse: 5.41369 | train_mae: 1.58909 |  0:00:00s\n",
      "epoch 4  | loss: 0.35935 | train_mse: 5.61362 | train_mae: 1.52291 |  0:00:00s\n",
      "epoch 5  | loss: 0.2982  | train_mse: 4.1605  | train_mae: 1.34137 |  0:00:00s\n"
     ]
    },
    {
     "name": "stdout",
     "output_type": "stream",
     "text": [
      "epoch 6  | loss: 0.5078  | train_mse: 2.23902 | train_mae: 1.10223 |  0:00:00s\n",
      "epoch 7  | loss: 0.38186 | train_mse: 1.47071 | train_mae: 0.92004 |  0:00:00s\n",
      "epoch 8  | loss: 0.33999 | train_mse: 0.93729 | train_mae: 0.72024 |  0:00:00s\n"
     ]
    },
    {
     "name": "stdout",
     "output_type": "stream",
     "text": [
      "epoch 9  | loss: 0.35098 | train_mse: 0.64791 | train_mae: 0.57382 |  0:00:00s\n",
      "epoch 10 | loss: 0.32289 | train_mse: 0.63221 | train_mae: 0.54555 |  0:00:01s\n",
      "epoch 11 | loss: 0.16143 | train_mse: 0.53195 | train_mae: 0.50394 |  0:00:01s\n"
     ]
    },
    {
     "name": "stdout",
     "output_type": "stream",
     "text": [
      "epoch 12 | loss: 0.38568 | train_mse: 0.42831 | train_mae: 0.46226 |  0:00:01s\n",
      "epoch 13 | loss: 0.30643 | train_mse: 0.36659 | train_mae: 0.41284 |  0:00:01s\n"
     ]
    },
    {
     "name": "stdout",
     "output_type": "stream",
     "text": [
      "epoch 14 | loss: 0.21653 | train_mse: 0.46138 | train_mae: 0.48605 |  0:00:01s\n",
      "epoch 15 | loss: 0.22835 | train_mse: 0.46293 | train_mae: 0.50364 |  0:00:01s\n"
     ]
    },
    {
     "name": "stdout",
     "output_type": "stream",
     "text": [
      "epoch 16 | loss: 0.26997 | train_mse: 0.61523 | train_mae: 0.56467 |  0:00:01s\n",
      "epoch 17 | loss: 0.27006 | train_mse: 0.54822 | train_mae: 0.52177 |  0:00:01s\n"
     ]
    },
    {
     "name": "stdout",
     "output_type": "stream",
     "text": [
      "epoch 18 | loss: 0.36057 | train_mse: 0.55578 | train_mae: 0.51894 |  0:00:01s\n",
      "epoch 19 | loss: 0.17678 | train_mse: 0.49997 | train_mae: 0.45917 |  0:00:02s\n"
     ]
    },
    {
     "name": "stdout",
     "output_type": "stream",
     "text": [
      "epoch 20 | loss: 0.26411 | train_mse: 0.52602 | train_mae: 0.4491  |  0:00:02s\n",
      "epoch 21 | loss: 0.31811 | train_mse: 0.74933 | train_mae: 0.5112  |  0:00:02s\n",
      "epoch 22 | loss: 0.20267 | train_mse: 0.97998 | train_mae: 0.56548 |  0:00:02s\n"
     ]
    },
    {
     "name": "stdout",
     "output_type": "stream",
     "text": [
      "epoch 23 | loss: 0.24444 | train_mse: 0.88625 | train_mae: 0.50954 |  0:00:02s\n",
      "epoch 24 | loss: 0.2473  | train_mse: 0.57998 | train_mae: 0.4373  |  0:00:02s\n",
      "epoch 25 | loss: 0.30579 | train_mse: 0.5217  | train_mae: 0.43058 |  0:00:02s\n"
     ]
    },
    {
     "name": "stdout",
     "output_type": "stream",
     "text": [
      "epoch 26 | loss: 0.18868 | train_mse: 0.39349 | train_mae: 0.39222 |  0:00:02s\n",
      "epoch 27 | loss: 0.19495 | train_mse: 0.2734  | train_mae: 0.33405 |  0:00:02s\n",
      "epoch 28 | loss: 0.31513 | train_mse: 0.19735 | train_mae: 0.29514 |  0:00:02s\n"
     ]
    },
    {
     "name": "stdout",
     "output_type": "stream",
     "text": [
      "epoch 29 | loss: 0.24518 | train_mse: 0.16876 | train_mae: 0.26535 |  0:00:03s\n",
      "epoch 30 | loss: 0.16547 | train_mse: 0.15419 | train_mae: 0.27166 |  0:00:03s\n",
      "epoch 31 | loss: 0.15445 | train_mse: 0.11911 | train_mae: 0.24914 |  0:00:03s\n"
     ]
    },
    {
     "name": "stdout",
     "output_type": "stream",
     "text": [
      "epoch 32 | loss: 0.12648 | train_mse: 0.11788 | train_mae: 0.25314 |  0:00:03s\n",
      "epoch 33 | loss: 0.20295 | train_mse: 0.09785 | train_mae: 0.22794 |  0:00:03s\n",
      "epoch 34 | loss: 0.15925 | train_mse: 0.09836 | train_mae: 0.23677 |  0:00:03s\n"
     ]
    },
    {
     "name": "stdout",
     "output_type": "stream",
     "text": [
      "epoch 35 | loss: 0.27343 | train_mse: 0.10284 | train_mae: 0.24399 |  0:00:03s\n",
      "epoch 36 | loss: 0.21109 | train_mse: 0.10406 | train_mae: 0.24394 |  0:00:03s\n",
      "epoch 37 | loss: 0.13344 | train_mse: 0.11369 | train_mae: 0.24825 |  0:00:03s\n",
      "epoch 38 | loss: 0.14543 | train_mse: 0.2174  | train_mae: 0.34065 |  0:00:03s\n"
     ]
    },
    {
     "name": "stdout",
     "output_type": "stream",
     "text": [
      "epoch 39 | loss: 0.13458 | train_mse: 0.2455  | train_mae: 0.35248 |  0:00:03s\n",
      "epoch 40 | loss: 0.20642 | train_mse: 0.26455 | train_mae: 0.36805 |  0:00:03s\n",
      "epoch 41 | loss: 0.14091 | train_mse: 0.16789 | train_mae: 0.29969 |  0:00:03s\n"
     ]
    },
    {
     "name": "stdout",
     "output_type": "stream",
     "text": [
      "epoch 42 | loss: 0.16027 | train_mse: 0.12477 | train_mae: 0.26401 |  0:00:03s\n",
      "epoch 43 | loss: 0.09528 | train_mse: 0.17879 | train_mae: 0.31164 |  0:00:04s\n",
      "epoch 44 | loss: 0.18067 | train_mse: 0.28037 | train_mae: 0.36472 |  0:00:04s\n",
      "epoch 45 | loss: 0.21585 | train_mse: 0.24941 | train_mae: 0.33925 |  0:00:04s\n"
     ]
    },
    {
     "name": "stdout",
     "output_type": "stream",
     "text": [
      "epoch 46 | loss: 0.2541  | train_mse: 0.21977 | train_mae: 0.3189  |  0:00:04s\n",
      "epoch 47 | loss: 0.17663 | train_mse: 0.17132 | train_mae: 0.30193 |  0:00:04s\n",
      "epoch 48 | loss: 0.20839 | train_mse: 0.16099 | train_mae: 0.28343 |  0:00:04s\n"
     ]
    },
    {
     "name": "stdout",
     "output_type": "stream",
     "text": [
      "epoch 49 | loss: 0.17941 | train_mse: 0.11991 | train_mae: 0.25033 |  0:00:04s\n",
      "epoch 50 | loss: 0.1647  | train_mse: 0.09471 | train_mae: 0.23374 |  0:00:04s\n",
      "epoch 51 | loss: 0.11745 | train_mse: 0.10313 | train_mae: 0.25256 |  0:00:04s\n",
      "epoch 52 | loss: 0.12873 | train_mse: 0.11303 | train_mae: 0.27189 |  0:00:04s\n"
     ]
    },
    {
     "name": "stdout",
     "output_type": "stream",
     "text": [
      "epoch 53 | loss: 0.23799 | train_mse: 0.11419 | train_mae: 0.27358 |  0:00:04s\n",
      "epoch 54 | loss: 0.21853 | train_mse: 0.11901 | train_mae: 0.27051 |  0:00:04s\n",
      "epoch 55 | loss: 0.14901 | train_mse: 0.08625 | train_mae: 0.22604 |  0:00:04s\n"
     ]
    },
    {
     "name": "stdout",
     "output_type": "stream",
     "text": [
      "epoch 56 | loss: 0.1727  | train_mse: 0.09951 | train_mae: 0.2357  |  0:00:04s\n",
      "epoch 57 | loss: 0.3019  | train_mse: 0.11237 | train_mae: 0.23159 |  0:00:05s\n",
      "epoch 58 | loss: 0.2246  | train_mse: 0.14211 | train_mae: 0.26734 |  0:00:05s\n"
     ]
    },
    {
     "name": "stdout",
     "output_type": "stream",
     "text": [
      "epoch 59 | loss: 0.15935 | train_mse: 0.12613 | train_mae: 0.25887 |  0:00:05s\n",
      "epoch 60 | loss: 0.17578 | train_mse: 0.13072 | train_mae: 0.27015 |  0:00:05s\n",
      "epoch 61 | loss: 0.2324  | train_mse: 0.10407 | train_mae: 0.25028 |  0:00:05s\n"
     ]
    },
    {
     "name": "stdout",
     "output_type": "stream",
     "text": [
      "epoch 62 | loss: 0.16747 | train_mse: 0.17765 | train_mae: 0.31602 |  0:00:05s\n",
      "epoch 63 | loss: 0.11607 | train_mse: 0.21259 | train_mae: 0.32972 |  0:00:05s\n",
      "epoch 64 | loss: 0.08926 | train_mse: 0.1403  | train_mae: 0.28222 |  0:00:05s\n"
     ]
    },
    {
     "name": "stdout",
     "output_type": "stream",
     "text": [
      "epoch 65 | loss: 0.12381 | train_mse: 0.13057 | train_mae: 0.27382 |  0:00:05s\n",
      "epoch 66 | loss: 0.18695 | train_mse: 0.1436  | train_mae: 0.28511 |  0:00:05s\n",
      "epoch 67 | loss: 0.13077 | train_mse: 0.12999 | train_mae: 0.27243 |  0:00:05s\n"
     ]
    },
    {
     "name": "stdout",
     "output_type": "stream",
     "text": [
      "epoch 68 | loss: 0.11376 | train_mse: 0.12605 | train_mae: 0.27107 |  0:00:05s\n",
      "epoch 69 | loss: 0.11362 | train_mse: 0.1397  | train_mae: 0.27626 |  0:00:05s\n",
      "epoch 70 | loss: 0.11803 | train_mse: 0.11646 | train_mae: 0.25517 |  0:00:06s\n",
      "epoch 71 | loss: 0.09239 | train_mse: 0.08109 | train_mae: 0.21596 |  0:00:06s\n"
     ]
    },
    {
     "name": "stdout",
     "output_type": "stream",
     "text": [
      "epoch 72 | loss: 0.08465 | train_mse: 0.08117 | train_mae: 0.21373 |  0:00:06s\n",
      "epoch 73 | loss: 0.14456 | train_mse: 0.08565 | train_mae: 0.21715 |  0:00:06s\n",
      "epoch 74 | loss: 0.10024 | train_mse: 0.06465 | train_mae: 0.19887 |  0:00:06s\n"
     ]
    },
    {
     "name": "stdout",
     "output_type": "stream",
     "text": [
      "epoch 75 | loss: 0.08635 | train_mse: 0.0663  | train_mae: 0.19287 |  0:00:06s\n",
      "epoch 76 | loss: 0.11259 | train_mse: 0.07354 | train_mae: 0.19769 |  0:00:06s\n",
      "epoch 77 | loss: 0.20815 | train_mse: 0.07684 | train_mae: 0.20726 |  0:00:06s\n"
     ]
    },
    {
     "name": "stdout",
     "output_type": "stream",
     "text": [
      "epoch 78 | loss: 0.09295 | train_mse: 0.07215 | train_mae: 0.20649 |  0:00:06s\n",
      "epoch 79 | loss: 0.21513 | train_mse: 0.07477 | train_mae: 0.21336 |  0:00:06s\n",
      "epoch 80 | loss: 0.08472 | train_mse: 0.08615 | train_mae: 0.22838 |  0:00:06s\n"
     ]
    },
    {
     "name": "stdout",
     "output_type": "stream",
     "text": [
      "epoch 81 | loss: 0.09546 | train_mse: 0.08368 | train_mae: 0.22425 |  0:00:06s\n",
      "epoch 82 | loss: 0.07886 | train_mse: 0.07047 | train_mae: 0.20325 |  0:00:06s\n",
      "epoch 83 | loss: 0.13967 | train_mse: 0.07485 | train_mae: 0.20229 |  0:00:06s\n",
      "epoch 84 | loss: 0.07352 | train_mse: 0.07546 | train_mae: 0.20308 |  0:00:07s\n"
     ]
    },
    {
     "name": "stdout",
     "output_type": "stream",
     "text": [
      "epoch 85 | loss: 0.17513 | train_mse: 0.08109 | train_mae: 0.20699 |  0:00:07s\n",
      "epoch 86 | loss: 0.1449  | train_mse: 0.09203 | train_mae: 0.21888 |  0:00:07s\n",
      "epoch 87 | loss: 0.2095  | train_mse: 0.08505 | train_mae: 0.21214 |  0:00:07s\n"
     ]
    },
    {
     "name": "stdout",
     "output_type": "stream",
     "text": [
      "epoch 88 | loss: 0.07143 | train_mse: 0.0689  | train_mae: 0.19375 |  0:00:07s\n",
      "epoch 89 | loss: 0.09637 | train_mse: 0.08136 | train_mae: 0.20353 |  0:00:07s\n",
      "epoch 90 | loss: 0.19659 | train_mse: 0.0855  | train_mae: 0.21306 |  0:00:07s\n"
     ]
    },
    {
     "name": "stdout",
     "output_type": "stream",
     "text": [
      "epoch 91 | loss: 0.19279 | train_mse: 0.08818 | train_mae: 0.21695 |  0:00:07s\n",
      "epoch 92 | loss: 0.11583 | train_mse: 0.07353 | train_mae: 0.2061  |  0:00:07s\n",
      "epoch 93 | loss: 0.08054 | train_mse: 0.08085 | train_mae: 0.20667 |  0:00:07s\n"
     ]
    },
    {
     "name": "stdout",
     "output_type": "stream",
     "text": [
      "epoch 94 | loss: 0.09251 | train_mse: 0.0683  | train_mae: 0.19002 |  0:00:07s\n",
      "epoch 95 | loss: 0.06602 | train_mse: 0.06625 | train_mae: 0.18903 |  0:00:08s\n",
      "epoch 96 | loss: 0.15943 | train_mse: 0.06659 | train_mae: 0.19389 |  0:00:08s\n"
     ]
    },
    {
     "name": "stdout",
     "output_type": "stream",
     "text": [
      "epoch 97 | loss: 0.11203 | train_mse: 0.04628 | train_mae: 0.16887 |  0:00:08s\n",
      "epoch 98 | loss: 0.06262 | train_mse: 0.07412 | train_mae: 0.20428 |  0:00:08s\n",
      "epoch 99 | loss: 0.06589 | train_mse: 0.10785 | train_mae: 0.2273  |  0:00:08s\n"
     ]
    },
    {
     "name": "stdout",
     "output_type": "stream",
     "text": [
      "epoch 100| loss: 0.1916  | train_mse: 0.08695 | train_mae: 0.21075 |  0:00:08s\n",
      "epoch 101| loss: 0.14066 | train_mse: 0.05194 | train_mae: 0.18037 |  0:00:08s\n",
      "epoch 102| loss: 0.21846 | train_mse: 0.05242 | train_mae: 0.18459 |  0:00:08s\n"
     ]
    },
    {
     "name": "stdout",
     "output_type": "stream",
     "text": [
      "epoch 103| loss: 0.1502  | train_mse: 0.05499 | train_mae: 0.18313 |  0:00:08s\n",
      "epoch 104| loss: 0.07212 | train_mse: 0.04692 | train_mae: 0.16905 |  0:00:08s\n",
      "epoch 105| loss: 0.1747  | train_mse: 0.04076 | train_mae: 0.15828 |  0:00:08s\n"
     ]
    },
    {
     "name": "stdout",
     "output_type": "stream",
     "text": [
      "epoch 106| loss: 0.13143 | train_mse: 0.03832 | train_mae: 0.14999 |  0:00:08s\n",
      "epoch 107| loss: 0.0537  | train_mse: 0.03812 | train_mae: 0.14643 |  0:00:09s\n",
      "epoch 108| loss: 0.18228 | train_mse: 0.0438  | train_mae: 0.15598 |  0:00:09s\n"
     ]
    },
    {
     "name": "stdout",
     "output_type": "stream",
     "text": [
      "epoch 109| loss: 0.12843 | train_mse: 0.0683  | train_mae: 0.18864 |  0:00:09s\n",
      "epoch 110| loss: 0.07    | train_mse: 0.0546  | train_mae: 0.16967 |  0:00:09s\n",
      "epoch 111| loss: 0.09825 | train_mse: 0.04624 | train_mae: 0.16141 |  0:00:09s\n"
     ]
    },
    {
     "name": "stdout",
     "output_type": "stream",
     "text": [
      "epoch 112| loss: 0.0613  | train_mse: 0.04176 | train_mae: 0.15327 |  0:00:09s\n",
      "epoch 113| loss: 0.06589 | train_mse: 0.04261 | train_mae: 0.15995 |  0:00:09s\n",
      "epoch 114| loss: 0.07749 | train_mse: 0.04462 | train_mae: 0.16484 |  0:00:09s\n"
     ]
    },
    {
     "name": "stdout",
     "output_type": "stream",
     "text": [
      "epoch 115| loss: 0.09124 | train_mse: 0.04331 | train_mae: 0.15788 |  0:00:09s\n",
      "epoch 116| loss: 0.08883 | train_mse: 0.04436 | train_mae: 0.15934 |  0:00:09s\n",
      "epoch 117| loss: 0.05557 | train_mse: 0.04251 | train_mae: 0.15475 |  0:00:09s\n"
     ]
    },
    {
     "name": "stdout",
     "output_type": "stream",
     "text": [
      "epoch 118| loss: 0.06344 | train_mse: 0.05457 | train_mae: 0.17701 |  0:00:10s\n",
      "epoch 119| loss: 0.06638 | train_mse: 0.06205 | train_mae: 0.1896  |  0:00:10s\n",
      "epoch 120| loss: 0.16092 | train_mse: 0.07368 | train_mae: 0.20722 |  0:00:10s\n"
     ]
    },
    {
     "name": "stdout",
     "output_type": "stream",
     "text": [
      "epoch 121| loss: 0.11015 | train_mse: 0.08099 | train_mae: 0.20883 |  0:00:10s\n",
      "epoch 122| loss: 0.08416 | train_mse: 0.05747 | train_mae: 0.18564 |  0:00:10s\n",
      "epoch 123| loss: 0.08836 | train_mse: 0.04485 | train_mae: 0.16956 |  0:00:10s\n"
     ]
    },
    {
     "name": "stdout",
     "output_type": "stream",
     "text": [
      "epoch 124| loss: 0.09321 | train_mse: 0.04476 | train_mae: 0.16519 |  0:00:10s\n",
      "epoch 125| loss: 0.08903 | train_mse: 0.04413 | train_mae: 0.16474 |  0:00:10s\n",
      "epoch 126| loss: 0.04726 | train_mse: 0.05483 | train_mae: 0.17983 |  0:00:10s\n"
     ]
    },
    {
     "name": "stdout",
     "output_type": "stream",
     "text": [
      "epoch 127| loss: 0.10866 | train_mse: 0.06669 | train_mae: 0.18948 |  0:00:10s\n",
      "epoch 128| loss: 0.09439 | train_mse: 0.09231 | train_mae: 0.2067  |  0:00:10s\n",
      "epoch 129| loss: 0.16676 | train_mse: 0.09027 | train_mae: 0.19848 |  0:00:10s\n"
     ]
    },
    {
     "name": "stdout",
     "output_type": "stream",
     "text": [
      "epoch 130| loss: 0.05551 | train_mse: 0.08511 | train_mae: 0.1945  |  0:00:11s\n",
      "epoch 131| loss: 0.06217 | train_mse: 0.07463 | train_mae: 0.18768 |  0:00:11s\n",
      "epoch 132| loss: 0.06952 | train_mse: 0.06994 | train_mae: 0.18863 |  0:00:11s\n"
     ]
    },
    {
     "name": "stdout",
     "output_type": "stream",
     "text": [
      "epoch 133| loss: 0.15635 | train_mse: 0.06898 | train_mae: 0.18193 |  0:00:11s\n",
      "epoch 134| loss: 0.07862 | train_mse: 0.06286 | train_mae: 0.17388 |  0:00:11s\n",
      "epoch 135| loss: 0.04671 | train_mse: 0.06102 | train_mae: 0.17063 |  0:00:11s\n"
     ]
    },
    {
     "name": "stdout",
     "output_type": "stream",
     "text": [
      "epoch 136| loss: 0.12619 | train_mse: 0.07033 | train_mae: 0.18463 |  0:00:11s\n",
      "epoch 137| loss: 0.07081 | train_mse: 0.0536  | train_mae: 0.17912 |  0:00:11s\n",
      "epoch 138| loss: 0.10495 | train_mse: 0.05702 | train_mae: 0.18656 |  0:00:11s\n"
     ]
    },
    {
     "name": "stdout",
     "output_type": "stream",
     "text": [
      "epoch 139| loss: 0.07636 | train_mse: 0.09884 | train_mae: 0.21103 |  0:00:11s\n",
      "epoch 140| loss: 0.12976 | train_mse: 0.12455 | train_mae: 0.22628 |  0:00:11s\n"
     ]
    },
    {
     "name": "stdout",
     "output_type": "stream",
     "text": [
      "epoch 141| loss: 0.10274 | train_mse: 0.09114 | train_mae: 0.20722 |  0:00:11s\n",
      "epoch 142| loss: 0.09612 | train_mse: 0.10682 | train_mae: 0.22293 |  0:00:12s\n",
      "epoch 143| loss: 0.10132 | train_mse: 0.1111  | train_mae: 0.23234 |  0:00:12s\n"
     ]
    },
    {
     "name": "stdout",
     "output_type": "stream",
     "text": [
      "epoch 144| loss: 0.08124 | train_mse: 0.1258  | train_mae: 0.2279  |  0:00:12s\n",
      "epoch 145| loss: 0.14158 | train_mse: 0.15063 | train_mae: 0.23583 |  0:00:12s\n",
      "epoch 146| loss: 0.0801  | train_mse: 0.15528 | train_mae: 0.23686 |  0:00:12s\n"
     ]
    },
    {
     "name": "stdout",
     "output_type": "stream",
     "text": [
      "epoch 147| loss: 0.07174 | train_mse: 0.14538 | train_mae: 0.22765 |  0:00:12s\n",
      "epoch 148| loss: 0.16501 | train_mse: 0.11859 | train_mae: 0.22248 |  0:00:12s\n",
      "epoch 149| loss: 0.11386 | train_mse: 0.08434 | train_mae: 0.20489 |  0:00:12s\n",
      "epoch 150| loss: 0.08272 | train_mse: 0.06957 | train_mae: 0.19736 |  0:00:12s\n"
     ]
    },
    {
     "name": "stdout",
     "output_type": "stream",
     "text": [
      "epoch 151| loss: 0.10366 | train_mse: 0.0755  | train_mae: 0.20552 |  0:00:12s\n",
      "epoch 152| loss: 0.07041 | train_mse: 0.05577 | train_mae: 0.18967 |  0:00:12s\n",
      "epoch 153| loss: 0.16974 | train_mse: 0.04223 | train_mae: 0.16634 |  0:00:12s\n"
     ]
    },
    {
     "name": "stdout",
     "output_type": "stream",
     "text": [
      "epoch 154| loss: 0.08909 | train_mse: 0.03685 | train_mae: 0.15574 |  0:00:12s\n",
      "epoch 155| loss: 0.05988 | train_mse: 0.03552 | train_mae: 0.15182 |  0:00:13s\n",
      "epoch 156| loss: 0.33953 | train_mse: 0.05785 | train_mae: 0.18761 |  0:00:13s\n",
      "epoch 157| loss: 0.11006 | train_mse: 0.05438 | train_mae: 0.18022 |  0:00:13s\n"
     ]
    },
    {
     "name": "stdout",
     "output_type": "stream",
     "text": [
      "\n",
      "Early stopping occurred at epoch 157 with best_epoch = 107 and best_train_mae = 0.14643\n",
      "Best weights from best epoch are automatically used!\n"
     ]
    }
   ],
   "source": [
    "#Train the Model\n",
    "\n",
    "Y_train = np.reshape(Y_train, (-1, 1))\n",
    "Y_test = np.reshape(Y_test, (-1, 1))\n",
    "\n",
    "prior_model = TabNetRegressor(optimizer_fn=torch.optim.Adam, optimizer_params=dict(lr = 0.02),\n",
    "          #scheduler_params={\"step_size\":10, ], \"gamma\":0.9},\n",
    "          #scheduler_fn=torch.optim.lr_scheduler.StepLR\n",
    "          )  #TabNetRegressor()\n",
    "\n",
    "prior_model.fit(X_train,Y_train,eval_set=[(X_train, Y_train)],\n",
    "            eval_name=['train'], \n",
    "            eval_metric=[ 'mse', 'mae'], \n",
    "            max_epochs = n_epochs, \n",
    "            batch_size = batch_size,\n",
    "            patience=50\n",
    "            )"
   ]
  },
  {
   "cell_type": "code",
   "execution_count": 10,
   "id": "af65dcda",
   "metadata": {
    "execution": {
     "iopub.execute_input": "2022-06-22T12:41:29.380411Z",
     "iopub.status.busy": "2022-06-22T12:41:29.379218Z",
     "iopub.status.idle": "2022-06-22T12:41:29.402423Z",
     "shell.execute_reply": "2022-06-22T12:41:29.403109Z"
    },
    "id": "af65dcda",
    "papermill": {
     "duration": 0.062817,
     "end_time": "2022-06-22T12:41:29.403332",
     "exception": false,
     "start_time": "2022-06-22T12:41:29.340515",
     "status": "completed"
    },
    "tags": []
   },
   "outputs": [
    {
     "data": {
      "application/scrapbook.scrap.json+json": {
       "data": 0.3500343986187653,
       "encoder": "json",
       "name": "Prior Model MSE",
       "version": 1
      }
     },
     "metadata": {
      "scrapbook": {
       "data": true,
       "display": false,
       "name": "Prior Model MSE"
      }
     },
     "output_type": "display_data"
    },
    {
     "data": {
      "application/scrapbook.scrap.json+json": {
       "data": 0.3115447588716008,
       "encoder": "json",
       "name": "ABC Pre-generator MSE",
       "version": 1
      }
     },
     "metadata": {
      "scrapbook": {
       "data": true,
       "display": false,
       "name": "ABC Pre-generator MSE"
      }
     },
     "output_type": "display_data"
    },
    {
     "data": {
      "application/scrapbook.scrap.json+json": {
       "data": 0.3737936741745352,
       "encoder": "json",
       "name": "Prior Model MSE",
       "version": 1
      }
     },
     "metadata": {
      "scrapbook": {
       "data": true,
       "display": false,
       "name": "Prior Model MSE"
      }
     },
     "output_type": "display_data"
    },
    {
     "data": {
      "application/scrapbook.scrap.json+json": {
       "data": 0.36396812141205537,
       "encoder": "json",
       "name": "ABC Pre-generator MSE",
       "version": 1
      }
     },
     "metadata": {
      "scrapbook": {
       "data": true,
       "display": false,
       "name": "ABC Pre-generator MSE"
      }
     },
     "output_type": "display_data"
    }
   ],
   "source": [
    "y_pred = prior_model.predict(X_test)\n",
    "y_abc = y_pred + np.random.normal(0,variance, y_pred.shape) + bias \n",
    "mse = mean_squared_error(y_pred,Y_test)\n",
    "sb.glue(\"Prior Model MSE\",mse)\n",
    "mse = mean_squared_error(y_abc,Y_test)\n",
    "sb.glue(\"ABC Pre-generator MSE\",mse)\n",
    "mae = mean_absolute_error(y_pred,Y_test)\n",
    "sb.glue(\"Prior Model MSE\",mae)\n",
    "mae = mean_absolute_error(y_abc,Y_test)\n",
    "sb.glue(\"ABC Pre-generator MSE\",mae)"
   ]
  },
  {
   "cell_type": "markdown",
   "id": "25609da2",
   "metadata": {
    "papermill": {
     "duration": 0.029913,
     "end_time": "2022-06-22T12:41:29.461498",
     "exception": false,
     "start_time": "2022-06-22T12:41:29.431585",
     "status": "completed"
    },
    "tags": []
   },
   "source": [
    "# ABC GAN Model"
   ]
  },
  {
   "cell_type": "code",
   "execution_count": 11,
   "id": "dfc3464d",
   "metadata": {
    "execution": {
     "iopub.execute_input": "2022-06-22T12:41:29.541676Z",
     "iopub.status.busy": "2022-06-22T12:41:29.539675Z",
     "iopub.status.idle": "2022-06-22T12:41:29.544081Z",
     "shell.execute_reply": "2022-06-22T12:41:29.544628Z"
    },
    "papermill": {
     "duration": 0.045908,
     "end_time": "2022-06-22T12:41:29.544887",
     "exception": false,
     "start_time": "2022-06-22T12:41:29.498979",
     "status": "completed"
    },
    "tags": []
   },
   "outputs": [],
   "source": [
    "gen = network.Generator(n_features+1).to(device)\n",
    "disc = network.Discriminator(n_features+1).to(device)\n",
    "\n",
    "criterion = torch.nn.BCELoss()\n",
    "gen_opt = torch.optim.Adam(gen.parameters(), lr=0.001, betas=(0.5, 0.999))\n",
    "disc_opt = torch.optim.Adam(disc.parameters(), lr=0.001, betas=(0.5, 0.999))"
   ]
  },
  {
   "cell_type": "code",
   "execution_count": 12,
   "id": "b75fdd85",
   "metadata": {
    "execution": {
     "iopub.execute_input": "2022-06-22T12:41:29.624105Z",
     "iopub.status.busy": "2022-06-22T12:41:29.623288Z",
     "iopub.status.idle": "2022-06-22T12:42:17.591563Z",
     "shell.execute_reply": "2022-06-22T12:42:17.592075Z"
    },
    "papermill": {
     "duration": 48.010604,
     "end_time": "2022-06-22T12:42:17.592344",
     "exception": false,
     "start_time": "2022-06-22T12:41:29.581740",
     "status": "completed"
    },
    "tags": []
   },
   "outputs": [
    {
     "data": {
      "image/png": "[encoded data removed]",
      "text/plain": [
       "<Figure size 432x288 with 1 Axes>"
      ]
     },
     "metadata": {
      "needs_background": "light"
     },
     "output_type": "display_data"
    },
    {
     "data": {
      "image/png": "[encoded data removed]",
      "text/plain": [
       "<Figure size 432x288 with 1 Axes>"
      ]
     },
     "metadata": {
      "needs_background": "light"
     },
     "output_type": "display_data"
    }
   ],
   "source": [
    "#Training the ABC_GAN \n",
    "ABC_train_test2.training_GAN(disc,gen,disc_opt,gen_opt,train_data,batch_size,n_epochs,criterion,prior_model,variance,bias,device)"
   ]
  },
  {
   "cell_type": "code",
   "execution_count": 13,
   "id": "1fa7c368",
   "metadata": {
    "execution": {
     "iopub.execute_input": "2022-06-22T12:42:17.825883Z",
     "iopub.status.busy": "2022-06-22T12:42:17.824341Z",
     "iopub.status.idle": "2022-06-22T12:42:18.781495Z",
     "shell.execute_reply": "2022-06-22T12:42:18.782283Z"
    },
    "papermill": {
     "duration": 1.134341,
     "end_time": "2022-06-22T12:42:18.782502",
     "exception": false,
     "start_time": "2022-06-22T12:42:17.648161",
     "status": "completed"
    },
    "tags": []
   },
   "outputs": [
    {
     "data": {
      "application/scrapbook.scrap.json+json": {
       "data": 0.3475256423295814,
       "encoder": "json",
       "name": "ABC-GAN Model 1 MSE",
       "version": 1
      }
     },
     "metadata": {
      "scrapbook": {
       "data": true,
       "display": false,
       "name": "ABC-GAN Model 1 MSE"
      }
     },
     "output_type": "display_data"
    },
    {
     "data": {
      "application/scrapbook.scrap.json+json": {
       "data": 0.39433359215781094,
       "encoder": "json",
       "name": "ABC-GAN Model 1 MAE",
       "version": 1
      }
     },
     "metadata": {
      "scrapbook": {
       "data": true,
       "display": false,
       "name": "ABC-GAN Model 1 MAE"
      }
     },
     "output_type": "display_data"
    },
    {
     "data": {
      "application/scrapbook.scrap.json+json": {
       "data": 7.886671843156218,
       "encoder": "json",
       "name": "ABC-GAN Model 1 Manhattan Distance",
       "version": 1
      }
     },
     "metadata": {
      "scrapbook": {
       "data": true,
       "display": false,
       "name": "ABC-GAN Model 1 Manhattan Distance"
      }
     },
     "output_type": "display_data"
    },
    {
     "data": {
      "application/scrapbook.scrap.json+json": {
       "data": 2.635329337675067,
       "encoder": "json",
       "name": "ABC-GAN Model 1 Euclidean distance",
       "version": 1
      }
     },
     "metadata": {
      "scrapbook": {
       "data": true,
       "display": false,
       "name": "ABC-GAN Model 1 Euclidean distance"
      }
     },
     "output_type": "display_data"
    },
    {
     "data": {
      "application/scrapbook.scrap.json+json": {
       "data": [
        [
         0.37736441459456954,
         0.3519644815118038,
         0.33674815080413967,
         0.36785367704938815,
         0.34826635051706856,
         0.3607748952932096,
         0.3436651260677125,
         0.386516459135482,
         0.319178826575886,
         0.36277422323447717,
         0.33254958085044345,
         0.33825129435652157,
         0.35913144799922253,
         0.3494803312082668,
         0.31810745170351595,
         0.32741381240814454,
         0.38972071522503926,
         0.36651551745624034,
         0.3542781568793138,
         0.3704165900885294,
         0.299426825299296,
         0.38280300618551083,
         0.29730225577259806,
         0.3469776138115205,
         0.3627860082062733,
         0.35034147190736237,
         0.35849711576064935,
         0.36570426155510105,
         0.34112894243258757,
         0.3568797617215937,
         0.35034294799826904,
         0.3704965973016271,
         0.3324307509948953,
         0.3705659940964726,
         0.3540437176832353,
         0.3703265486990269,
         0.3286872067394095,
         0.3609348500510543,
         0.34145678461807155,
         0.3624689515589479,
         0.36590924872819003,
         0.3258489317494264,
         0.31449713763711407,
         0.3820305605464416,
         0.3378311105911087,
         0.3331185448277539,
         0.3484240491058646,
         0.3409001197029099,
         0.35727194993117994,
         0.3346929058657891,
         0.3335526189064325,
         0.3223103085433673,
         0.3554657471685642,
         0.3745011414899595,
         0.3522797756407916,
         0.33819750159910106,
         0.3288032385705913,
         0.37906033868056654,
         0.3348956261259519,
         0.32716340666093907,
         0.35782770068290526,
         0.37020121900080616,
         0.3406857398375819,
         0.3285179784856639,
         0.351259425394977,
         0.3499421153110016,
         0.3405312589779163,
         0.322156070177072,
         0.34159284817947694,
         0.3689085322410443,
         0.32400084983434874,
         0.3844986935087223,
         0.36216803770945466,
         0.32824646132594765,
         0.3639203194321038,
         0.3576050826250132,
         0.3564095775144064,
         0.3652540332037137,
         0.34080798756465225,
         0.3276934900670596,
         0.3198239712548389,
         0.31781460782802173,
         0.33844021224050147,
         0.3383005190519327,
         0.3483128628924023,
         0.35068120236083394,
         0.33741675653364517,
         0.35399470090737883,
         0.3119576219105496,
         0.3466074545783363,
         0.3935143091995327,
         0.3298160563242599,
         0.3209325939302324,
         0.3550814089144856,
         0.34230852062250594,
         0.3409176665432509,
         0.3536904089695366,
         0.3271763170890166,
         0.3523246370176326,
         0.3398976062908573
        ],
        [
         0.40302420891821383,
         0.41152581200003624,
         0.36752217523753644,
         0.4108772873878479,
         0.39920620396733286,
         0.42223602496087553,
         0.4096940364688635,
         0.4124460931867361,
         0.39053807891905307,
         0.4035085555166006,
         0.3654711987823248,
         0.38603748120367526,
         0.39570929370820523,
         0.39609203301370144,
         0.4022930797189474,
         0.38274478949606416,
         0.4102620009332895,
         0.3847108919173479,
         0.3833700615912676,
         0.3958488043397665,
         0.3758965376764536,
         0.38466914258897306,
         0.3658854950219393,
         0.3817118924111128,
         0.4003507014364004,
         0.382620944455266,
         0.3891327869147062,
         0.4128492895513773,
         0.39204447232186795,
         0.38966290168464185,
         0.39729222320020197,
         0.4120464097708464,
         0.3820958849042654,
         0.4090775053948164,
         0.38641603849828243,
         0.3907328311353922,
         0.3940008651465178,
         0.3839199233800173,
         0.4083856102079153,
         0.3978843200951815,
         0.3961628843098879,
         0.3916239313781261,
         0.38390772603452206,
         0.4405184853821993,
         0.38828784972429276,
         0.39968597032129766,
         0.4052191499620676,
         0.38648949898779394,
         0.39182573594152925,
         0.3879578810185194,
         0.3892171818763018,
         0.3829595785588026,
         0.39512011371552946,
         0.40378906242549417,
         0.40560128502547743,
         0.39129067622125147,
         0.40102999098598957,
         0.4129971142858267,
         0.38462467677891254,
         0.38277346082031727,
         0.4038183119148016,
         0.3869418676942587,
         0.3945593025535345,
         0.3848004825413227,
         0.3973028413951397,
         0.3957519542425871,
         0.40302371233701706,
         0.3791540194302797,
         0.39450941793620586,
         0.41845928095281126,
         0.3812696631997824,
         0.3963775847107172,
         0.39787625931203363,
         0.3803293164819479,
         0.4125242579728365,
         0.38984593711793425,
         0.38452928327023983,
         0.38774026557803154,
         0.40890072248876097,
         0.37535874731838703,
         0.38950888253748417,
         0.3762774791568518,
         0.38189564235508444,
         0.38976427391171453,
         0.38241846300661564,
         0.3980266060680151,
         0.378854600712657,
         0.40864156261086465,
         0.3796456802636385,
         0.3952134605497122,
         0.43257270865142344,
         0.38192986883223057,
         0.389939771220088,
         0.3996009808033705,
         0.3922919791191816,
         0.38593607358634474,
         0.4106961276382208,
         0.4012060102075338,
         0.40119123496115205,
         0.39379844032227995
        ],
        [
         8.060484178364277,
         8.230516240000725,
         7.350443504750729,
         8.217545747756958,
         7.984124079346657,
         8.44472049921751,
         8.19388072937727,
         8.248921863734722,
         7.8107615783810616,
         8.070171110332012,
         7.309423975646496,
         7.720749624073505,
         7.9141858741641045,
         7.921840660274029,
         8.045861594378948,
         7.654895789921284,
         8.20524001866579,
         7.694217838346958,
         7.667401231825352,
         7.91697608679533,
         7.517930753529072,
         7.693382851779461,
         7.3177099004387856,
         7.634237848222256,
         8.007014028728008,
         7.65241888910532,
         7.782655738294125,
         8.256985791027546,
         7.840889446437359,
         7.793258033692837,
         7.94584446400404,
         8.240928195416927,
         7.641917698085308,
         8.181550107896328,
         7.728320769965649,
         7.814656622707844,
         7.880017302930355,
         7.678398467600346,
         8.167712204158306,
         7.957686401903629,
         7.923257686197758,
         7.832478627562523,
         7.678154520690441,
         8.810369707643986,
         7.765756994485855,
         7.993719406425953,
         8.104382999241352,
         7.7297899797558784,
         7.8365147188305855,
         7.759157620370388,
         7.784343637526035,
         7.659191571176052,
         7.902402274310589,
         8.075781248509884,
         8.112025700509548,
         7.82581352442503,
         8.020599819719791,
         8.259942285716534,
         7.692493535578251,
         7.655469216406345,
         8.076366238296032,
         7.738837353885174,
         7.89118605107069,
         7.696009650826454,
         7.946056827902794,
         7.915039084851742,
         8.060474246740341,
         7.583080388605595,
         7.890188358724117,
         8.369185619056225,
         7.625393263995647,
         7.927551694214344,
         7.957525186240673,
         7.606586329638958,
         8.25048515945673,
         7.7969187423586845,
         7.690585665404797,
         7.754805311560631,
         8.178014449775219,
         7.507174946367741,
         7.790177650749683,
         7.525549583137035,
         7.637912847101688,
         7.795285478234291,
         7.648369260132313,
         7.960532121360302,
         7.5770920142531395,
         8.172831252217293,
         7.59291360527277,
         7.904269210994244,
         8.651454173028469,
         7.638597376644611,
         7.79879542440176,
         7.9920196160674095,
         7.845839582383633,
         7.718721471726894,
         8.213922552764416,
         8.024120204150677,
         8.023824699223042,
         7.875968806445599
        ],
        [
         2.7472328426784998,
         2.6531659635680684,
         2.595180728982626,
         2.712392586073735,
         2.639190597577479,
         2.686167884899265,
         2.6216984039653095,
         2.7803469536569785,
         2.526574070063595,
         2.6936006505585683,
         2.578951650769915,
         2.600966337177479,
         2.680042716074587,
         2.6437864180310284,
         2.522330080316674,
         2.5589599934666607,
         2.791847829753761,
         2.7074545885618853,
         2.661872111425768,
         2.7218250865495723,
         2.447148648118034,
         2.7669586414889213,
         2.438451376478924,
         2.6343029962839144,
         2.693644401944226,
         2.647041638914516,
         2.6776747963882745,
         2.70445655004883,
         2.6120066708666254,
         2.6716278248348653,
         2.647047215288269,
         2.7221190176097263,
         2.5784908415384966,
         2.7223739423395625,
         2.6609912351724696,
         2.7214942538944555,
         2.5639313826208747,
         2.686763294564872,
         2.6132615047793113,
         2.692467090082803,
         2.705214404546117,
         2.552837369475096,
         2.5079758277826922,
         2.764165554182461,
         2.599350344186442,
         2.581156891115896,
         2.63978805628734,
         2.611130482005485,
         2.67309539646897,
         2.5872491409440608,
         2.5828380472125327,
         2.5389380005953956,
         2.6663298639461854,
         2.7367906075911597,
         2.6543540669654138,
         2.60075951060109,
         2.5643838970426844,
         2.753399130821997,
         2.588032558241692,
         2.557981261311111,
         2.675173641776942,
         2.7210336969644686,
         2.610309329706278,
         2.5632712633885,
         2.6505072171000665,
         2.6455325184582468,
         2.609717452054595,
         2.538330436239821,
         2.6137821186146213,
         2.7162788230998833,
         2.545587750733998,
         2.7730802134403625,
         2.6913492441875864,
         2.5622117840879106,
         2.697852180650763,
         2.6743413492858883,
         2.6698673282184133,
         2.702791272753831,
         2.6107776142929224,
         2.5600526950321147,
         2.529126217707764,
         2.521168807628802,
         2.6016925730781546,
         2.6011555857039106,
         2.6393668289663803,
         2.648324762414285,
         2.5977557873427797,
         2.6608070238458814,
         2.497829545467623,
         2.6328974707661383,
         2.8054030341451215,
         2.568330416142985,
         2.533505847359474,
         2.664888023593057,
         2.616518758283632,
         2.611197681307376,
         2.6596631702888116,
         2.558031731972912,
         2.654523072107804,
         2.607288270563335
        ]
       ],
       "encoder": "json",
       "name": "ABC_GAN_1 Metrics",
       "version": 1
      }
     },
     "metadata": {
      "scrapbook": {
       "data": true,
       "display": false,
       "name": "ABC_GAN_1 Metrics"
      }
     },
     "output_type": "display_data"
    },
    {
     "name": "stdout",
     "output_type": "stream",
     "text": [
      "MSE\n",
      "0.3475256423295814\n"
     ]
    }
   ],
   "source": [
    "ABC_GAN1_metrics=ABC_train_test2.test_generator(gen,test_data,prior_model,variance,bias,\"1\",device)\n",
    "sb.glue(\"ABC_GAN_1 Metrics\",ABC_GAN1_metrics)\n",
    "\n",
    "print(\"MSE\")\n",
    "print(mean(ABC_GAN1_metrics[0]))"
   ]
  },
  {
   "cell_type": "code",
   "execution_count": 14,
   "id": "eb22ce5c",
   "metadata": {
    "execution": {
     "iopub.execute_input": "2022-06-22T12:42:19.030248Z",
     "iopub.status.busy": "2022-06-22T12:42:19.017633Z",
     "iopub.status.idle": "2022-06-22T12:42:20.993366Z",
     "shell.execute_reply": "2022-06-22T12:42:20.994367Z"
    },
    "papermill": {
     "duration": 2.173033,
     "end_time": "2022-06-22T12:42:20.994604",
     "exception": false,
     "start_time": "2022-06-22T12:42:18.821571",
     "status": "completed"
    },
    "tags": []
   },
   "outputs": [
    {
     "data": {
      "image/png": "[encoded data removed]",
      "text/plain": [
       "<Figure size 432x288 with 1 Axes>"
      ]
     },
     "metadata": {
      "needs_background": "light"
     },
     "output_type": "display_data"
    },
    {
     "data": {
      "image/png": "[encoded data removed]",
      "text/plain": [
       "<Figure size 432x288 with 1 Axes>"
      ]
     },
     "metadata": {
      "needs_background": "light"
     },
     "output_type": "display_data"
    },
    {
     "data": {
      "image/png": "[encoded data removed]",
      "text/plain": [
       "<Figure size 432x288 with 1 Axes>"
      ]
     },
     "metadata": {
      "needs_background": "light"
     },
     "output_type": "display_data"
    },
    {
     "data": {
      "image/png": "[encoded data removed]",
      "text/plain": [
       "<Figure size 432x288 with 1 Axes>"
      ]
     },
     "metadata": {
      "needs_background": "light"
     },
     "output_type": "display_data"
    }
   ],
   "source": [
    "sanityChecks.discProbVsError(train_data,disc,device)\n",
    "sanityChecks.discProbVsError(test_data,disc,device)"
   ]
  },
  {
   "cell_type": "markdown",
   "id": "130f3a4d",
   "metadata": {
    "id": "130f3a4d",
    "papermill": {
     "duration": 0.050984,
     "end_time": "2022-06-22T12:42:21.089393",
     "exception": false,
     "start_time": "2022-06-22T12:42:21.038409",
     "status": "completed"
    },
    "tags": []
   },
   "source": [
    "# ABC - GAN Model with skip connection"
   ]
  },
  {
   "cell_type": "code",
   "execution_count": 15,
   "id": "4e43dad1",
   "metadata": {
    "execution": {
     "iopub.execute_input": "2022-06-22T12:42:21.327150Z",
     "iopub.status.busy": "2022-06-22T12:42:21.325766Z",
     "iopub.status.idle": "2022-06-22T12:42:21.327874Z",
     "shell.execute_reply": "2022-06-22T12:42:21.326588Z"
    },
    "id": "4e43dad1",
    "papermill": {
     "duration": 0.188968,
     "end_time": "2022-06-22T12:42:21.328069",
     "exception": false,
     "start_time": "2022-06-22T12:42:21.139101",
     "status": "completed"
    },
    "tags": []
   },
   "outputs": [],
   "source": [
    "#Generator\n",
    "gen3 = network.GeneratorWithSkipConnection(n_features+1).to(device)\n",
    "constraints=network.weightConstraint()\n",
    "#Discriminator \n",
    "disc3 = network.Discriminator(n_features+1).to(device)\n",
    "\n",
    "criterion = torch.nn.BCELoss()\n",
    "gen_opt = torch.optim.Adam(gen3.parameters(), lr=0.001, betas=(0.5, 0.999))\n",
    "disc_opt = torch.optim.Adam(disc3.parameters(), lr=0.001, betas=(0.5, 0.999))\n"
   ]
  },
  {
   "cell_type": "code",
   "execution_count": 16,
   "id": "26acbc37",
   "metadata": {
    "execution": {
     "iopub.execute_input": "2022-06-22T12:42:21.577584Z",
     "iopub.status.busy": "2022-06-22T12:42:21.576523Z",
     "iopub.status.idle": "2022-06-22T12:43:36.971795Z",
     "shell.execute_reply": "2022-06-22T12:43:36.972260Z"
    },
    "id": "26acbc37",
    "papermill": {
     "duration": 75.538655,
     "end_time": "2022-06-22T12:43:36.972468",
     "exception": false,
     "start_time": "2022-06-22T12:42:21.433813",
     "status": "completed"
    },
    "tags": []
   },
   "outputs": [
    {
     "data": {
      "image/png": "[encoded data removed]",
      "text/plain": [
       "<Figure size 432x288 with 1 Axes>"
      ]
     },
     "metadata": {
      "needs_background": "light"
     },
     "output_type": "display_data"
    },
    {
     "data": {
      "image/png": "[encoded data removed]",
      "text/plain": [
       "<Figure size 432x288 with 1 Axes>"
      ]
     },
     "metadata": {
      "needs_background": "light"
     },
     "output_type": "display_data"
    }
   ],
   "source": [
    "ABC_train_test2.training_GAN_skip_connection(disc3,gen3,disc_opt,gen_opt,train_data,batch_size,n_epochs,criterion,prior_model,variance,bias,device)"
   ]
  },
  {
   "cell_type": "code",
   "execution_count": 17,
   "id": "c5e0717b",
   "metadata": {
    "execution": {
     "iopub.execute_input": "2022-06-22T12:43:37.082797Z",
     "iopub.status.busy": "2022-06-22T12:43:37.075454Z",
     "iopub.status.idle": "2022-06-22T12:43:37.874337Z",
     "shell.execute_reply": "2022-06-22T12:43:37.874867Z"
    },
    "id": "c5e0717b",
    "papermill": {
     "duration": 0.862953,
     "end_time": "2022-06-22T12:43:37.875080",
     "exception": false,
     "start_time": "2022-06-22T12:43:37.012127",
     "status": "completed"
    },
    "tags": []
   },
   "outputs": [
    {
     "data": {
      "application/scrapbook.scrap.json+json": {
       "data": 0.24637485673504186,
       "encoder": "json",
       "name": "ABC-GAN Model 3 MSE",
       "version": 1
      }
     },
     "metadata": {
      "scrapbook": {
       "data": true,
       "display": false,
       "name": "ABC-GAN Model 3 MSE"
      }
     },
     "output_type": "display_data"
    },
    {
     "data": {
      "application/scrapbook.scrap.json+json": {
       "data": 0.33936987501382826,
       "encoder": "json",
       "name": "ABC-GAN Model 3 MAE",
       "version": 1
      }
     },
     "metadata": {
      "scrapbook": {
       "data": true,
       "display": false,
       "name": "ABC-GAN Model 3 MAE"
      }
     },
     "output_type": "display_data"
    },
    {
     "data": {
      "application/scrapbook.scrap.json+json": {
       "data": 6.787397500276565,
       "encoder": "json",
       "name": "ABC-GAN Model 3 Manhattan Distance",
       "version": 1
      }
     },
     "metadata": {
      "scrapbook": {
       "data": true,
       "display": false,
       "name": "ABC-GAN Model 3 Manhattan Distance"
      }
     },
     "output_type": "display_data"
    },
    {
     "data": {
      "application/scrapbook.scrap.json+json": {
       "data": 2.2186861769658393,
       "encoder": "json",
       "name": "ABC-GAN Model 3 Euclidean distance",
       "version": 1
      }
     },
     "metadata": {
      "scrapbook": {
       "data": true,
       "display": false,
       "name": "ABC-GAN Model 3 Euclidean distance"
      }
     },
     "output_type": "display_data"
    },
    {
     "data": {
      "application/scrapbook.scrap.json+json": {
       "data": [
        [
         0.2540062887382778,
         0.2440120459480238,
         0.22140967358260863,
         0.24513752732306648,
         0.23277426963209685,
         0.21988309025482983,
         0.26517370308071053,
         0.23807109264746637,
         0.2647258323813535,
         0.2359255864356673,
         0.2657669549917224,
         0.231580450950763,
         0.2773718945677184,
         0.23866307722294647,
         0.21245814206119276,
         0.26964477164904416,
         0.23915017475953743,
         0.25829190308443656,
         0.23281966230158072,
         0.232484234961487,
         0.238714560683414,
         0.25644615093442613,
         0.23611325757015905,
         0.25653769250695824,
         0.24212887536981992,
         0.24306276501156843,
         0.2541172304599944,
         0.26110034303804397,
         0.2535657213222041,
         0.24439442042124374,
         0.2343187133970177,
         0.2505036298584996,
         0.26798440586177047,
         0.2544054236185385,
         0.2424450280845875,
         0.2907505285559834,
         0.2581027281201872,
         0.2550946465203462,
         0.25028024675241817,
         0.20656858421552643,
         0.25618646748959756,
         0.2466751748861904,
         0.24745796531711428,
         0.2292031947193242,
         0.23460645642526776,
         0.23707254594074684,
         0.22844292920542064,
         0.24603521459856292,
         0.24251277086137799,
         0.2471633404419355,
         0.24047426237452924,
         0.26027397108964023,
         0.25789347378153493,
         0.24352668511442982,
         0.2337444495097602,
         0.23107516657535224,
         0.23194943388641157,
         0.23104535145427466,
         0.2238380323335863,
         0.2720818864731648,
         0.24968677487391613,
         0.24465454214717783,
         0.2613606338499105,
         0.2500571638284031,
         0.2293794497487697,
         0.23909520253470937,
         0.26618528937292246,
         0.24412638900007133,
         0.2720286819681702,
         0.24536859256057159,
         0.23137289002271136,
         0.25970970237351815,
         0.22779321249572204,
         0.2618497015093138,
         0.25267586670943776,
         0.22200045096958249,
         0.2636585856720992,
         0.2560109343493488,
         0.23115609816940735,
         0.2271430245160561,
         0.24318551566586719,
         0.22170602685485763,
         0.23708722189347115,
         0.25435574874026984,
         0.23912162111887988,
         0.24866104966211097,
         0.2515179043680637,
         0.2517985002914741,
         0.22987059615743316,
         0.22186785413714455,
         0.26272648264240217,
         0.26998033235124047,
         0.2758024896372698,
         0.24804820527389287,
         0.2551222362368063,
         0.2582133032576327,
         0.27827194577367387,
         0.23099355155253445,
         0.2619273071263928,
         0.24467049273549116
        ],
        [
         0.3398609425872564,
         0.3315302159637213,
         0.3234328430145979,
         0.32548534609377383,
         0.3228615265339613,
         0.3257575388997793,
         0.3506488766521215,
         0.31898825205862524,
         0.35585719607770444,
         0.33334149084985254,
         0.3505828555673361,
         0.34459726996719836,
         0.3580838512629271,
         0.320928805693984,
         0.31909429393708705,
         0.34840065948665144,
         0.3385838445276022,
         0.34806974418461323,
         0.31125934310257436,
         0.32522770278155805,
         0.33236757181584836,
         0.33795056827366354,
         0.3301059167832136,
         0.335585343465209,
         0.3342409562319517,
         0.32512043230235577,
         0.33295535780489444,
         0.35202374272048476,
         0.33675910346210003,
         0.3429644089192152,
         0.33014462552964685,
         0.3415324311703444,
         0.352213042601943,
         0.35762303583323957,
         0.34156297855079176,
         0.3621603850275278,
         0.33602402321994307,
         0.33963923417031766,
         0.3655318211764097,
         0.3029843132942915,
         0.341395128890872,
         0.3456953849643469,
         0.34166183732450006,
         0.34016089998185634,
         0.3255030941218138,
         0.33951296620070937,
         0.32096533589065074,
         0.3443604167550802,
         0.3317819979041815,
         0.3293107595294714,
         0.3281431566923857,
         0.3421679612249136,
         0.3508579533547163,
         0.3329172130674124,
         0.3405267413705587,
         0.33155029006302356,
         0.3293170090764761,
         0.32909129224717615,
         0.32744602523744104,
         0.35544638745486734,
         0.3547505956143141,
         0.33937363885343075,
         0.3298879947513342,
         0.3608311232179403,
         0.33909615911543367,
         0.34867168851196767,
         0.3524984087795019,
         0.3530874978750944,
         0.3586131397634745,
         0.3428524944931269,
         0.3212326031178236,
         0.34172245748341085,
         0.34040798209607603,
         0.351899741217494,
         0.3500605892390013,
         0.33480877839028833,
         0.3412472303956747,
         0.34642194025218487,
         0.32545364610850813,
         0.3234962474554777,
         0.3339013893157244,
         0.3344284866005182,
         0.3449986811727285,
         0.3487322811037302,
         0.34720038138329984,
         0.352272255346179,
         0.3284010227769613,
         0.3498283583670855,
         0.33340198136866095,
         0.31637717969715595,
         0.3500029381364584,
         0.353388699516654,
         0.34389958940446375,
         0.34609078653156755,
         0.33844369612634184,
         0.36206034682691096,
         0.3556448947638273,
         0.32839306108653543,
         0.35959471948444843,
         0.3436190526932478
        ],
        [
         6.797218851745129,
         6.6306043192744255,
         6.468656860291958,
         6.509706921875477,
         6.457230530679226,
         6.515150777995586,
         7.012977533042431,
         6.379765041172504,
         7.117143921554089,
         6.666829816997051,
         7.011657111346722,
         6.891945399343967,
         7.161677025258541,
         6.418576113879681,
         6.381885878741741,
         6.968013189733028,
         6.771676890552044,
         6.961394883692265,
         6.225186862051487,
         6.504554055631161,
         6.647351436316967,
         6.75901136547327,
         6.602118335664272,
         6.71170686930418,
         6.684819124639034,
         6.502408646047115,
         6.659107156097889,
         7.040474854409695,
         6.735182069242001,
         6.859288178384304,
         6.6028925105929375,
         6.830648623406887,
         7.04426085203886,
         7.152460716664791,
         6.831259571015835,
         7.243207700550556,
         6.720480464398861,
         6.792784683406353,
         7.310636423528194,
         6.05968626588583,
         6.82790257781744,
         6.913907699286938,
         6.833236746490002,
         6.803217999637127,
         6.5100618824362755,
         6.790259324014187,
         6.419306717813015,
         6.8872083351016045,
         6.63563995808363,
         6.586215190589428,
         6.5628631338477135,
         6.843359224498272,
         7.017159067094326,
         6.6583442613482475,
         6.810534827411175,
         6.631005801260471,
         6.586340181529522,
         6.581825844943523,
         6.548920504748821,
         7.108927749097347,
         7.095011912286282,
         6.787472777068615,
         6.597759895026684,
         7.216622464358807,
         6.781923182308674,
         6.973433770239353,
         7.049968175590038,
         7.061749957501888,
         7.172262795269489,
         6.857049889862537,
         6.424652062356472,
         6.834449149668217,
         6.80815964192152,
         7.03799482434988,
         7.0012117847800255,
         6.696175567805767,
         6.824944607913494,
         6.928438805043697,
         6.509072922170162,
         6.469924949109554,
         6.6780277863144875,
         6.6885697320103645,
         6.899973623454571,
         6.974645622074604,
         6.9440076276659966,
         7.04544510692358,
         6.5680204555392265,
         6.996567167341709,
         6.6680396273732185,
         6.327543593943119,
         7.000058762729168,
         7.06777399033308,
         6.877991788089275,
         6.9218157306313515,
         6.768873922526836,
         7.2412069365382195,
         7.1128978952765465,
         6.567861221730709,
         7.191894389688969,
         6.872381053864956
        ],
        [
         2.2539134355084616,
         2.209126732209014,
         2.1043273204642317,
         2.21421556007118,
         2.157657385370054,
         2.097060276934499,
         2.302927281008719,
         2.1820682512124425,
         2.300981670423967,
         2.1722135550431836,
         2.305501919286655,
         2.1521173339330875,
         2.355299957830078,
         2.1847795185004206,
         2.061349761982147,
         2.3222608451637994,
         2.1870078864034186,
         2.2728480067282835,
         2.157867754527977,
         2.156312755429912,
         2.185015151816637,
         2.2647125686692613,
         2.1730773459320725,
         2.265116740951593,
         2.200585719165786,
         2.2048254579969293,
         2.254405599975277,
         2.2851710791012736,
         2.251957909563161,
         2.2108569398368756,
         2.164803517167402,
         2.2383191455129876,
         2.315100023159995,
         2.25568359314217,
         2.202021925797232,
         2.4114333022332732,
         2.2720155286449395,
         2.258737021082119,
         2.2373209280405804,
         2.032577596135146,
         2.2635656274541613,
         2.2211491390097624,
         2.22467060625664,
         2.1410427119481956,
         2.166132297092067,
         2.177487294753964,
         2.1374888500547584,
         2.2182660552718327,
         2.202329543285373,
         2.223345859023897,
         2.1930538633354595,
         2.281551976570511,
         2.271094334375104,
         2.2069285675545993,
         2.162149160024628,
         2.1497682041343538,
         2.1538311627721036,
         2.149629509726151,
         2.11583568517778,
         2.332731816875505,
         2.2346667531151763,
         2.2120331920980654,
         2.286309838363604,
         2.2363236073001738,
         2.141865774266771,
         2.186756513810851,
         2.307315710399955,
         2.209644265487417,
         2.332503727620473,
         2.2152588677649914,
         2.151152667863029,
         2.27907745534687,
         2.134447059524888,
         2.2884479522563486,
         2.2480029657873577,
         2.107132890776386,
         2.2963387627791296,
         2.262790022734539,
         2.1501446377832694,
         2.1313987168808004,
         2.2053821241039713,
         2.1057351535977054,
         2.1775546922797195,
         2.25546336144159,
         2.1868773222057056,
         2.230071970417596,
         2.2428459794112645,
         2.244096701532597,
         2.144157625537046,
         2.1065035207050786,
         2.2922760856511246,
         2.3237053700985437,
         2.348627214511787,
         2.227322182684368,
         2.258859164431489,
         2.2725021595485124,
         2.359118249574081,
         2.149388524918352,
         2.2887870461289874,
         2.212105299191208
        ]
       ],
       "encoder": "json",
       "name": "ABC_GAN_3 Metrics",
       "version": 1
      }
     },
     "metadata": {
      "scrapbook": {
       "data": true,
       "display": false,
       "name": "ABC_GAN_3 Metrics"
      }
     },
     "output_type": "display_data"
    },
    {
     "name": "stdout",
     "output_type": "stream",
     "text": [
      "MSE\n",
      "0.24637485673504186\n"
     ]
    }
   ],
   "source": [
    "ABC_GAN3_metrics=ABC_train_test2.test_generator(gen3,test_data,prior_model,variance,bias,\"3\",device)\n",
    "sb.glue(\"ABC_GAN_3 Metrics\",ABC_GAN3_metrics)\n",
    "\n",
    "print(\"MSE\")\n",
    "print(mean(ABC_GAN3_metrics[0]))"
   ]
  },
  {
   "cell_type": "code",
   "execution_count": 18,
   "id": "c8e46b48",
   "metadata": {
    "execution": {
     "iopub.execute_input": "2022-06-22T12:43:37.977716Z",
     "iopub.status.busy": "2022-06-22T12:43:37.977011Z",
     "iopub.status.idle": "2022-06-22T12:43:38.754578Z",
     "shell.execute_reply": "2022-06-22T12:43:38.755051Z"
    },
    "id": "c8e46b48",
    "papermill": {
     "duration": 0.833743,
     "end_time": "2022-06-22T12:43:38.755323",
     "exception": false,
     "start_time": "2022-06-22T12:43:37.921580",
     "status": "completed"
    },
    "tags": []
   },
   "outputs": [
    {
     "data": {
      "image/png": "[encoded data removed]",
      "text/plain": [
       "<Figure size 432x288 with 1 Axes>"
      ]
     },
     "metadata": {
      "needs_background": "light"
     },
     "output_type": "display_data"
    },
    {
     "data": {
      "image/png": "[encoded data removed]",
      "text/plain": [
       "<Figure size 432x288 with 1 Axes>"
      ]
     },
     "metadata": {
      "needs_background": "light"
     },
     "output_type": "display_data"
    },
    {
     "data": {
      "image/png": "[encoded data removed]",
      "text/plain": [
       "<Figure size 432x288 with 1 Axes>"
      ]
     },
     "metadata": {
      "needs_background": "light"
     },
     "output_type": "display_data"
    },
    {
     "data": {
      "image/png": "[encoded data removed]",
      "text/plain": [
       "<Figure size 432x288 with 1 Axes>"
      ]
     },
     "metadata": {
      "needs_background": "light"
     },
     "output_type": "display_data"
    }
   ],
   "source": [
    "sanityChecks.discProbVsError(train_data,disc3,device)\n",
    "sanityChecks.discProbVsError(test_data,disc3,device)"
   ]
  },
  {
   "cell_type": "markdown",
   "id": "a5bd74c3",
   "metadata": {
    "id": "a5bd74c3",
    "papermill": {
     "duration": 0.059774,
     "end_time": "2022-06-22T12:43:38.864515",
     "exception": false,
     "start_time": "2022-06-22T12:43:38.804741",
     "status": "completed"
    },
    "tags": []
   },
   "source": [
    "## Skip Connection Model Analysis - ABC-GAN "
   ]
  },
  {
   "cell_type": "markdown",
   "id": "5744a8bf",
   "metadata": {
    "id": "5744a8bf",
    "papermill": {
     "duration": 0.066603,
     "end_time": "2022-06-22T12:43:38.990030",
     "exception": false,
     "start_time": "2022-06-22T12:43:38.923427",
     "status": "completed"
    },
    "tags": []
   },
   "source": [
    "### Weight Analysis \n",
    "\n",
    "Study the weights of the skip connection layer\n",
    "\n",
    "Equation of the skip connection is \n",
    "\n",
    "$output = y_{gan} * w + y_{abc} * (1-w)$"
   ]
  },
  {
   "cell_type": "code",
   "execution_count": 19,
   "id": "52c31dea",
   "metadata": {
    "execution": {
     "iopub.execute_input": "2022-06-22T12:43:39.107038Z",
     "iopub.status.busy": "2022-06-22T12:43:39.106031Z",
     "iopub.status.idle": "2022-06-22T12:43:39.112495Z",
     "shell.execute_reply": "2022-06-22T12:43:39.113065Z"
    },
    "id": "52c31dea",
    "papermill": {
     "duration": 0.06928,
     "end_time": "2022-06-22T12:43:39.113281",
     "exception": false,
     "start_time": "2022-06-22T12:43:39.044001",
     "status": "completed"
    },
    "tags": []
   },
   "outputs": [
    {
     "name": "stdout",
     "output_type": "stream",
     "text": [
      "Weight of the node at skip connection\n",
      "Parameter containing:\n",
      "tensor([[0.2598]], requires_grad=True)\n"
     ]
    },
    {
     "data": {
      "application/scrapbook.scrap.json+json": {
       "data": 0.2597763240337372,
       "encoder": "json",
       "name": "Skip Connection Weight",
       "version": 1
      }
     },
     "metadata": {
      "scrapbook": {
       "data": true,
       "display": false,
       "name": "Skip Connection Weight"
      }
     },
     "output_type": "display_data"
    }
   ],
   "source": [
    "print(\"Weight of the node at skip connection\")\n",
    "for name,param in gen3.named_parameters():\n",
    "    if(name == \"skipNode.weight\"):\n",
    "        print(param)\n",
    "        sb.glue(\"Skip Connection Weight\",param.item())"
   ]
  }
 ],
 "metadata": {
  "colab": {
   "collapsed_sections": [],
   "name": "ABC_GAN_Model-Catboost_Pre-gen.ipynb",
   "provenance": []
  },
  "interpreter": {
   "hash": "31f2aee4e71d21fbe5cf8b01ff0e069b9275f58929596ceb00d14d90e3e16cd6"
  },
  "kernelspec": {
   "display_name": "Python 3 (ipykernel)",
   "language": "python",
   "name": "python3"
  },
  "language_info": {
   "codemirror_mode": {
    "name": "ipython",
    "version": 3
   },
   "file_extension": ".py",
   "mimetype": "text/x-python",
   "name": "python",
   "nbconvert_exporter": "python",
   "pygments_lexer": "ipython3",
   "version": "3.8.3"
  },
  "papermill": {
   "default_parameters": {},
   "duration": 153.819027,
   "end_time": "2022-06-22T12:43:40.792182",
   "environment_variables": {},
   "exception": null,
   "input_path": "ABC_GAN-TabNet.ipynb",
   "output_path": "./ABC_GAN_TabNet/ABC-GAN_output_3_7.ipynb",
   "parameters": {
    "bias": 0.01,
    "variance": 0.1
   },
   "start_time": "2022-06-22T12:41:06.973155",
   "version": "2.3.3"
  }
 },
 "nbformat": 4,
 "nbformat_minor": 5
}