{
 "cells": [
  {
   "cell_type": "markdown",
   "id": "622780e6",
   "metadata": {
    "id": "622780e6",
    "papermill": {
     "duration": 0.028532,
     "end_time": "2022-06-22T15:02:39.652137",
     "exception": false,
     "start_time": "2022-06-22T15:02:39.623605",
     "status": "completed"
    },
    "tags": []
   },
   "source": [
    "## Import Libraries "
   ]
  },
  {
   "cell_type": "code",
   "execution_count": 1,
   "id": "a62397e3",
   "metadata": {
    "execution": {
     "iopub.execute_input": "2022-06-22T15:02:39.701105Z",
     "iopub.status.busy": "2022-06-22T15:02:39.699556Z",
     "iopub.status.idle": "2022-06-22T15:02:39.703089Z",
     "shell.execute_reply": "2022-06-22T15:02:39.703773Z"
    },
    "id": "a62397e3",
    "papermill": {
     "duration": 0.033099,
     "end_time": "2022-06-22T15:02:39.704251",
     "exception": false,
     "start_time": "2022-06-22T15:02:39.671152",
     "status": "completed"
    },
    "tags": []
   },
   "outputs": [],
   "source": [
    "import warnings\n",
    "import sys\n",
    "sys.path.insert(0, '../../src')\n",
    "warnings.filterwarnings('ignore')"
   ]
  },
  {
   "cell_type": "code",
   "execution_count": 2,
   "id": "d6a4e155",
   "metadata": {
    "execution": {
     "iopub.execute_input": "2022-06-22T15:02:39.739478Z",
     "iopub.status.busy": "2022-06-22T15:02:39.738622Z",
     "iopub.status.idle": "2022-06-22T15:02:45.654014Z",
     "shell.execute_reply": "2022-06-22T15:02:45.654726Z"
    },
    "id": "d6a4e155",
    "papermill": {
     "duration": 5.93456,
     "end_time": "2022-06-22T15:02:45.654978",
     "exception": false,
     "start_time": "2022-06-22T15:02:39.720418",
     "status": "completed"
    },
    "tags": []
   },
   "outputs": [],
   "source": [
    "import ABC_train_test2\n",
    "import friedman3Dataset\n",
    "import network\n",
    "import dataset\n",
    "import sanityChecks\n",
    "import torch \n",
    "import scrapbook as sb\n",
    "from statistics import mean \n",
    "import catboost as ctb \n",
    "from sklearn.model_selection import train_test_split\n",
    "from sklearn.metrics import mean_squared_error,mean_absolute_error\n",
    "import numpy as np\n",
    "from pytorch_tabnet.tab_model import TabNetRegressor"
   ]
  },
  {
   "cell_type": "markdown",
   "id": "2fa5b0f7",
   "metadata": {
    "id": "2fa5b0f7",
    "papermill": {
     "duration": 0.018368,
     "end_time": "2022-06-22T15:02:45.689330",
     "exception": false,
     "start_time": "2022-06-22T15:02:45.670962",
     "status": "completed"
    },
    "tags": []
   },
   "source": [
    "## Parameters "
   ]
  },
  {
   "cell_type": "code",
   "execution_count": 3,
   "id": "783186fb",
   "metadata": {
    "execution": {
     "iopub.execute_input": "2022-06-22T15:02:45.741821Z",
     "iopub.status.busy": "2022-06-22T15:02:45.740262Z",
     "iopub.status.idle": "2022-06-22T15:02:45.744187Z",
     "shell.execute_reply": "2022-06-22T15:02:45.745076Z"
    },
    "id": "783186fb",
    "papermill": {
     "duration": 0.031531,
     "end_time": "2022-06-22T15:02:45.745323",
     "exception": false,
     "start_time": "2022-06-22T15:02:45.713792",
     "status": "completed"
    },
    "tags": [
     "parameters"
    ]
   },
   "outputs": [],
   "source": [
    "variance = 1\n",
    "bias = 1 "
   ]
  },
  {
   "cell_type": "code",
   "execution_count": 4,
   "id": "57bb3ed8",
   "metadata": {
    "execution": {
     "iopub.execute_input": "2022-06-22T15:02:45.784924Z",
     "iopub.status.busy": "2022-06-22T15:02:45.783692Z",
     "iopub.status.idle": "2022-06-22T15:02:45.785605Z",
     "shell.execute_reply": "2022-06-22T15:02:45.784363Z"
    },
    "papermill": {
     "duration": 0.025946,
     "end_time": "2022-06-22T15:02:45.786121",
     "exception": false,
     "start_time": "2022-06-22T15:02:45.760175",
     "status": "completed"
    },
    "tags": [
     "injected-parameters"
    ]
   },
   "outputs": [],
   "source": [
    "# Parameters\n",
    "variance = 0.1\n",
    "bias = 0.01\n"
   ]
  },
  {
   "cell_type": "markdown",
   "id": "391cdbfd",
   "metadata": {
    "id": "391cdbfd",
    "papermill": {
     "duration": 0.037254,
     "end_time": "2022-06-22T15:02:45.844069",
     "exception": false,
     "start_time": "2022-06-22T15:02:45.806815",
     "status": "completed"
    },
    "tags": []
   },
   "source": [
    "## Dataset \n"
   ]
  },
  {
   "cell_type": "code",
   "execution_count": 5,
   "id": "5b51f161",
   "metadata": {
    "execution": {
     "iopub.execute_input": "2022-06-22T15:02:45.894429Z",
     "iopub.status.busy": "2022-06-22T15:02:45.893096Z",
     "iopub.status.idle": "2022-06-22T15:02:45.895354Z",
     "shell.execute_reply": "2022-06-22T15:02:45.895884Z"
    },
    "id": "5b51f161",
    "papermill": {
     "duration": 0.032569,
     "end_time": "2022-06-22T15:02:45.896102",
     "exception": false,
     "start_time": "2022-06-22T15:02:45.863533",
     "status": "completed"
    },
    "tags": []
   },
   "outputs": [],
   "source": [
    "#Parameters \n",
    "n_features = 4\n",
    "n_samples= 100\n",
    "n_target = 1"
   ]
  },
  {
   "cell_type": "code",
   "execution_count": 6,
   "id": "5d6eced4",
   "metadata": {
    "execution": {
     "iopub.execute_input": "2022-06-22T15:02:45.959521Z",
     "iopub.status.busy": "2022-06-22T15:02:45.958550Z",
     "iopub.status.idle": "2022-06-22T15:02:45.962188Z",
     "shell.execute_reply": "2022-06-22T15:02:45.960155Z"
    },
    "id": "5d6eced4",
    "papermill": {
     "duration": 0.049904,
     "end_time": "2022-06-22T15:02:45.962496",
     "exception": false,
     "start_time": "2022-06-22T15:02:45.912592",
     "status": "completed"
    },
    "tags": []
   },
   "outputs": [
    {
     "name": "stdout",
     "output_type": "stream",
     "text": [
      "          X1          X2        X3         X4         Y\n",
      "0  53.768816  765.274893  0.917705   9.454081  1.438781\n",
      "1  52.253365  423.566436  0.094172   7.255491  0.697916\n",
      "2  69.909141  308.322959  0.161468   1.746776  0.528057\n",
      "3  76.099571  160.138414  0.313067   8.847224  0.643949\n",
      "4  43.247985  741.450163  0.024022  10.872184  0.316126\n"
     ]
    }
   ],
   "source": [
    "X,Y = friedman3Dataset.friedman3_data(n_samples)"
   ]
  },
  {
   "cell_type": "code",
   "execution_count": 7,
   "id": "fe007438",
   "metadata": {
    "execution": {
     "iopub.execute_input": "2022-06-22T15:02:46.016740Z",
     "iopub.status.busy": "2022-06-22T15:02:46.010433Z",
     "iopub.status.idle": "2022-06-22T15:02:46.018661Z",
     "shell.execute_reply": "2022-06-22T15:02:46.017791Z"
    },
    "id": "fe007438",
    "papermill": {
     "duration": 0.041453,
     "end_time": "2022-06-22T15:02:46.018878",
     "exception": false,
     "start_time": "2022-06-22T15:02:45.977425",
     "status": "completed"
    },
    "tags": []
   },
   "outputs": [],
   "source": [
    "#Train test split for dataset \n",
    "X_train,X_test,Y_train,Y_test = train_test_split(X,Y,test_size = 0.2)\n",
    "train_data = dataset.CustomDataset(X_train,Y_train)\n",
    "test_data = dataset.CustomDataset(X_test,Y_test)\n"
   ]
  },
  {
   "cell_type": "markdown",
   "id": "a9a1af34",
   "metadata": {
    "id": "a9a1af34",
    "papermill": {
     "duration": 0.020429,
     "end_time": "2022-06-22T15:02:46.055046",
     "exception": false,
     "start_time": "2022-06-22T15:02:46.034617",
     "status": "completed"
    },
    "tags": []
   },
   "source": [
    "## Training Parameters "
   ]
  },
  {
   "cell_type": "code",
   "execution_count": 8,
   "id": "952b7fc8",
   "metadata": {
    "execution": {
     "iopub.execute_input": "2022-06-22T15:02:46.097188Z",
     "iopub.status.busy": "2022-06-22T15:02:46.095070Z",
     "iopub.status.idle": "2022-06-22T15:02:46.098247Z",
     "shell.execute_reply": "2022-06-22T15:02:46.098718Z"
    },
    "id": "952b7fc8",
    "papermill": {
     "duration": 0.023609,
     "end_time": "2022-06-22T15:02:46.098924",
     "exception": false,
     "start_time": "2022-06-22T15:02:46.075315",
     "status": "completed"
    },
    "tags": []
   },
   "outputs": [],
   "source": [
    "batch_size = 32\n",
    "n_epochs = 1000\n",
    "#Select the device \n",
    "device = torch.device('cuda' if torch.cuda.is_available() else 'cpu')"
   ]
  },
  {
   "cell_type": "markdown",
   "id": "a95e1600",
   "metadata": {
    "id": "a95e1600",
    "papermill": {
     "duration": 0.015341,
     "end_time": "2022-06-22T15:02:46.128880",
     "exception": false,
     "start_time": "2022-06-22T15:02:46.113539",
     "status": "completed"
    },
    "tags": []
   },
   "source": [
    "# ABC Pre-generator Model \n",
    "\n",
    "1. The catboost model is used as a pre-generator model for the ABC-GAN. \n",
    "2. The model is first trained on the entire dataset \n",
    "3. It generats X,Y pairs and we add some Gaussian noise with mean 0 and variance 1 to it which is then feed as input to the generator.\n"
   ]
  },
  {
   "cell_type": "code",
   "execution_count": 9,
   "id": "ff8ce7bd",
   "metadata": {
    "execution": {
     "iopub.execute_input": "2022-06-22T15:02:46.195523Z",
     "iopub.status.busy": "2022-06-22T15:02:46.174774Z",
     "iopub.status.idle": "2022-06-22T15:02:56.964740Z",
     "shell.execute_reply": "2022-06-22T15:02:56.965514Z"
    },
    "id": "ff8ce7bd",
    "papermill": {
     "duration": 10.821029,
     "end_time": "2022-06-22T15:02:56.965719",
     "exception": false,
     "start_time": "2022-06-22T15:02:46.144690",
     "status": "completed"
    },
    "tags": []
   },
   "outputs": [
    {
     "name": "stdout",
     "output_type": "stream",
     "text": [
      "Device used : cpu\n"
     ]
    },
    {
     "name": "stdout",
     "output_type": "stream",
     "text": [
      "epoch 0  | loss: 0.82014 | train_mse: 2.20782 | train_mae: 1.18853 |  0:00:00s\n",
      "epoch 1  | loss: 0.65159 | train_mse: 1.62324 | train_mae: 1.0285  |  0:00:00s\n",
      "epoch 2  | loss: 0.33212 | train_mse: 1.34166 | train_mae: 0.94865 |  0:00:00s\n"
     ]
    },
    {
     "name": "stdout",
     "output_type": "stream",
     "text": [
      "epoch 3  | loss: 0.31666 | train_mse: 1.23384 | train_mae: 0.85875 |  0:00:00s\n",
      "epoch 4  | loss: 0.34178 | train_mse: 1.48329 | train_mae: 0.88956 |  0:00:00s\n",
      "epoch 5  | loss: 0.38582 | train_mse: 1.11943 | train_mae: 0.80527 |  0:00:00s\n"
     ]
    },
    {
     "name": "stdout",
     "output_type": "stream",
     "text": [
      "epoch 6  | loss: 0.31111 | train_mse: 0.64118 | train_mae: 0.62879 |  0:00:00s\n",
      "epoch 7  | loss: 0.26826 | train_mse: 0.70119 | train_mae: 0.64531 |  0:00:00s\n"
     ]
    },
    {
     "name": "stdout",
     "output_type": "stream",
     "text": [
      "epoch 8  | loss: 0.25371 | train_mse: 0.84286 | train_mae: 0.69626 |  0:00:00s\n"
     ]
    },
    {
     "name": "stdout",
     "output_type": "stream",
     "text": [
      "epoch 9  | loss: 0.21312 | train_mse: 0.63692 | train_mae: 0.58394 |  0:00:01s\n",
      "epoch 10 | loss: 0.17269 | train_mse: 0.36519 | train_mae: 0.45644 |  0:00:01s\n",
      "epoch 11 | loss: 0.24239 | train_mse: 0.26485 | train_mae: 0.39322 |  0:00:01s\n"
     ]
    },
    {
     "name": "stdout",
     "output_type": "stream",
     "text": [
      "epoch 12 | loss: 0.25531 | train_mse: 0.37388 | train_mae: 0.4515  |  0:00:01s\n",
      "epoch 13 | loss: 0.20929 | train_mse: 0.42711 | train_mae: 0.48749 |  0:00:01s\n",
      "epoch 14 | loss: 0.27163 | train_mse: 0.37074 | train_mae: 0.44933 |  0:00:01s\n",
      "epoch 15 | loss: 0.23141 | train_mse: 0.37943 | train_mae: 0.44281 |  0:00:01s\n"
     ]
    },
    {
     "name": "stdout",
     "output_type": "stream",
     "text": [
      "epoch 16 | loss: 0.1887  | train_mse: 0.384   | train_mae: 0.47165 |  0:00:01s\n",
      "epoch 17 | loss: 0.23821 | train_mse: 0.205   | train_mae: 0.36862 |  0:00:01s\n",
      "epoch 18 | loss: 0.16046 | train_mse: 0.18571 | train_mae: 0.34755 |  0:00:01s\n",
      "epoch 19 | loss: 0.28981 | train_mse: 0.20425 | train_mae: 0.35574 |  0:00:01s\n"
     ]
    },
    {
     "name": "stdout",
     "output_type": "stream",
     "text": [
      "epoch 20 | loss: 0.15859 | train_mse: 0.26696 | train_mae: 0.40241 |  0:00:02s\n",
      "epoch 21 | loss: 0.1453  | train_mse: 0.37016 | train_mae: 0.44497 |  0:00:02s\n",
      "epoch 22 | loss: 0.18319 | train_mse: 0.29062 | train_mae: 0.41678 |  0:00:02s\n"
     ]
    },
    {
     "name": "stdout",
     "output_type": "stream",
     "text": [
      "epoch 23 | loss: 0.29317 | train_mse: 0.18995 | train_mae: 0.33828 |  0:00:02s\n",
      "epoch 24 | loss: 0.21628 | train_mse: 0.17291 | train_mae: 0.31531 |  0:00:02s\n",
      "epoch 25 | loss: 0.25221 | train_mse: 0.16165 | train_mae: 0.31819 |  0:00:02s\n"
     ]
    },
    {
     "name": "stdout",
     "output_type": "stream",
     "text": [
      "epoch 26 | loss: 0.19523 | train_mse: 0.18507 | train_mae: 0.33421 |  0:00:02s\n",
      "epoch 27 | loss: 0.14822 | train_mse: 0.16286 | train_mae: 0.31223 |  0:00:02s\n",
      "epoch 28 | loss: 0.17096 | train_mse: 0.13734 | train_mae: 0.2856  |  0:00:02s\n",
      "epoch 29 | loss: 0.19437 | train_mse: 0.1685  | train_mae: 0.31868 |  0:00:02s\n"
     ]
    },
    {
     "name": "stdout",
     "output_type": "stream",
     "text": [
      "epoch 30 | loss: 0.17335 | train_mse: 0.13413 | train_mae: 0.29095 |  0:00:02s\n",
      "epoch 31 | loss: 0.275   | train_mse: 0.14834 | train_mae: 0.30466 |  0:00:02s\n",
      "epoch 32 | loss: 0.14526 | train_mse: 0.23874 | train_mae: 0.3502  |  0:00:02s\n",
      "epoch 33 | loss: 0.19478 | train_mse: 0.21287 | train_mae: 0.32889 |  0:00:02s\n"
     ]
    },
    {
     "name": "stdout",
     "output_type": "stream",
     "text": [
      "epoch 34 | loss: 0.17    | train_mse: 0.11983 | train_mae: 0.26786 |  0:00:02s\n",
      "epoch 35 | loss: 0.23009 | train_mse: 0.11063 | train_mae: 0.25771 |  0:00:03s\n",
      "epoch 36 | loss: 0.11424 | train_mse: 0.15412 | train_mae: 0.28303 |  0:00:03s\n"
     ]
    },
    {
     "name": "stdout",
     "output_type": "stream",
     "text": [
      "epoch 37 | loss: 0.18224 | train_mse: 0.15188 | train_mae: 0.2771  |  0:00:03s\n",
      "epoch 38 | loss: 0.11698 | train_mse: 0.14458 | train_mae: 0.27194 |  0:00:03s\n",
      "epoch 39 | loss: 0.14838 | train_mse: 0.12575 | train_mae: 0.25979 |  0:00:03s\n",
      "epoch 40 | loss: 0.26192 | train_mse: 0.12208 | train_mae: 0.26995 |  0:00:03s\n"
     ]
    },
    {
     "name": "stdout",
     "output_type": "stream",
     "text": [
      "epoch 41 | loss: 0.11261 | train_mse: 0.12358 | train_mae: 0.2669  |  0:00:03s\n",
      "epoch 42 | loss: 0.15095 | train_mse: 0.12498 | train_mae: 0.25743 |  0:00:03s\n",
      "epoch 43 | loss: 0.16803 | train_mse: 0.11349 | train_mae: 0.24395 |  0:00:03s\n",
      "epoch 44 | loss: 0.10321 | train_mse: 0.11937 | train_mae: 0.25703 |  0:00:03s\n"
     ]
    },
    {
     "name": "stdout",
     "output_type": "stream",
     "text": [
      "epoch 45 | loss: 0.20106 | train_mse: 0.10023 | train_mae: 0.24367 |  0:00:03s\n",
      "epoch 46 | loss: 0.22422 | train_mse: 0.12823 | train_mae: 0.27783 |  0:00:03s\n",
      "epoch 47 | loss: 0.14118 | train_mse: 0.14819 | train_mae: 0.29072 |  0:00:03s\n",
      "epoch 48 | loss: 0.15908 | train_mse: 0.15264 | train_mae: 0.2798  |  0:00:03s\n"
     ]
    },
    {
     "name": "stdout",
     "output_type": "stream",
     "text": [
      "epoch 49 | loss: 0.12154 | train_mse: 0.14189 | train_mae: 0.273   |  0:00:03s\n",
      "epoch 50 | loss: 0.16314 | train_mse: 0.11028 | train_mae: 0.24963 |  0:00:04s\n",
      "epoch 51 | loss: 0.14955 | train_mse: 0.10397 | train_mae: 0.24608 |  0:00:04s\n",
      "epoch 52 | loss: 0.13358 | train_mse: 0.13397 | train_mae: 0.27153 |  0:00:04s\n"
     ]
    },
    {
     "name": "stdout",
     "output_type": "stream",
     "text": [
      "epoch 53 | loss: 0.13554 | train_mse: 0.18724 | train_mae: 0.32758 |  0:00:04s\n",
      "epoch 54 | loss: 0.20126 | train_mse: 0.1992  | train_mae: 0.34211 |  0:00:04s\n",
      "epoch 55 | loss: 0.17497 | train_mse: 0.18419 | train_mae: 0.33158 |  0:00:04s\n",
      "epoch 56 | loss: 0.15351 | train_mse: 0.14179 | train_mae: 0.28609 |  0:00:04s\n"
     ]
    },
    {
     "name": "stdout",
     "output_type": "stream",
     "text": [
      "epoch 57 | loss: 0.14799 | train_mse: 0.13627 | train_mae: 0.27559 |  0:00:04s\n",
      "epoch 58 | loss: 0.11749 | train_mse: 0.16125 | train_mae: 0.30569 |  0:00:04s\n",
      "epoch 59 | loss: 0.10798 | train_mse: 0.1462  | train_mae: 0.29146 |  0:00:04s\n",
      "epoch 60 | loss: 0.14464 | train_mse: 0.13179 | train_mae: 0.28074 |  0:00:04s\n"
     ]
    },
    {
     "name": "stdout",
     "output_type": "stream",
     "text": [
      "epoch 61 | loss: 0.13441 | train_mse: 0.10688 | train_mae: 0.25709 |  0:00:04s\n",
      "epoch 62 | loss: 0.16986 | train_mse: 0.08894 | train_mae: 0.23884 |  0:00:04s\n",
      "epoch 63 | loss: 0.08637 | train_mse: 0.06944 | train_mae: 0.20441 |  0:00:04s\n"
     ]
    },
    {
     "name": "stdout",
     "output_type": "stream",
     "text": [
      "epoch 64 | loss: 0.09479 | train_mse: 0.06345 | train_mae: 0.19135 |  0:00:05s\n",
      "epoch 65 | loss: 0.11283 | train_mse: 0.07042 | train_mae: 0.20156 |  0:00:05s\n",
      "epoch 66 | loss: 0.1273  | train_mse: 0.07148 | train_mae: 0.20553 |  0:00:05s\n"
     ]
    },
    {
     "name": "stdout",
     "output_type": "stream",
     "text": [
      "epoch 67 | loss: 0.17576 | train_mse: 0.07469 | train_mae: 0.21261 |  0:00:05s\n",
      "epoch 68 | loss: 0.08079 | train_mse: 0.07217 | train_mae: 0.21418 |  0:00:05s\n",
      "epoch 69 | loss: 0.0742  | train_mse: 0.06418 | train_mae: 0.206   |  0:00:05s\n"
     ]
    },
    {
     "name": "stdout",
     "output_type": "stream",
     "text": [
      "epoch 70 | loss: 0.1644  | train_mse: 0.06095 | train_mae: 0.20696 |  0:00:05s\n",
      "epoch 71 | loss: 0.1301  | train_mse: 0.07063 | train_mae: 0.21921 |  0:00:05s\n",
      "epoch 72 | loss: 0.07878 | train_mse: 0.0756  | train_mae: 0.22973 |  0:00:05s\n"
     ]
    },
    {
     "name": "stdout",
     "output_type": "stream",
     "text": [
      "epoch 73 | loss: 0.15318 | train_mse: 0.07512 | train_mae: 0.22395 |  0:00:05s\n",
      "epoch 74 | loss: 0.09228 | train_mse: 0.06436 | train_mae: 0.20111 |  0:00:05s\n",
      "epoch 75 | loss: 0.10125 | train_mse: 0.05613 | train_mae: 0.18798 |  0:00:05s\n"
     ]
    },
    {
     "name": "stdout",
     "output_type": "stream",
     "text": [
      "epoch 76 | loss: 0.09879 | train_mse: 0.06926 | train_mae: 0.20884 |  0:00:06s\n",
      "epoch 77 | loss: 0.11208 | train_mse: 0.07902 | train_mae: 0.21635 |  0:00:06s\n"
     ]
    },
    {
     "name": "stdout",
     "output_type": "stream",
     "text": [
      "epoch 78 | loss: 0.1209  | train_mse: 0.0542  | train_mae: 0.17824 |  0:00:06s\n",
      "epoch 79 | loss: 0.13811 | train_mse: 0.05747 | train_mae: 0.18931 |  0:00:06s\n"
     ]
    },
    {
     "name": "stdout",
     "output_type": "stream",
     "text": [
      "epoch 80 | loss: 0.13064 | train_mse: 0.06138 | train_mae: 0.20064 |  0:00:06s\n",
      "epoch 81 | loss: 0.07633 | train_mse: 0.05922 | train_mae: 0.19787 |  0:00:06s\n",
      "epoch 82 | loss: 0.12223 | train_mse: 0.0681  | train_mae: 0.19787 |  0:00:07s\n"
     ]
    },
    {
     "name": "stdout",
     "output_type": "stream",
     "text": [
      "epoch 83 | loss: 0.12118 | train_mse: 0.06262 | train_mae: 0.18303 |  0:00:07s\n",
      "epoch 84 | loss: 0.08532 | train_mse: 0.06568 | train_mae: 0.19272 |  0:00:07s\n",
      "epoch 85 | loss: 0.26478 | train_mse: 0.0729  | train_mae: 0.19489 |  0:00:07s\n",
      "epoch 86 | loss: 0.14285 | train_mse: 0.06363 | train_mae: 0.18586 |  0:00:07s\n"
     ]
    },
    {
     "name": "stdout",
     "output_type": "stream",
     "text": [
      "epoch 87 | loss: 0.10354 | train_mse: 0.05652 | train_mae: 0.19386 |  0:00:07s\n",
      "epoch 88 | loss: 0.14968 | train_mse: 0.04918 | train_mae: 0.17004 |  0:00:07s\n",
      "epoch 89 | loss: 0.12017 | train_mse: 0.04694 | train_mae: 0.17271 |  0:00:07s\n",
      "epoch 90 | loss: 0.08278 | train_mse: 0.05191 | train_mae: 0.18066 |  0:00:07s\n"
     ]
    },
    {
     "name": "stdout",
     "output_type": "stream",
     "text": [
      "epoch 91 | loss: 0.09264 | train_mse: 0.05379 | train_mae: 0.18504 |  0:00:07s\n",
      "epoch 92 | loss: 0.11449 | train_mse: 0.04997 | train_mae: 0.18431 |  0:00:07s\n",
      "epoch 93 | loss: 0.08044 | train_mse: 0.06095 | train_mae: 0.19854 |  0:00:07s\n",
      "epoch 94 | loss: 0.11397 | train_mse: 0.06173 | train_mae: 0.19158 |  0:00:07s\n"
     ]
    },
    {
     "name": "stdout",
     "output_type": "stream",
     "text": [
      "epoch 95 | loss: 0.07812 | train_mse: 0.05471 | train_mae: 0.18586 |  0:00:07s\n",
      "epoch 96 | loss: 0.15778 | train_mse: 0.05054 | train_mae: 0.17911 |  0:00:07s\n",
      "epoch 97 | loss: 0.07214 | train_mse: 0.06071 | train_mae: 0.18835 |  0:00:08s\n",
      "epoch 98 | loss: 0.16599 | train_mse: 0.08507 | train_mae: 0.20056 |  0:00:08s\n"
     ]
    },
    {
     "name": "stdout",
     "output_type": "stream",
     "text": [
      "epoch 99 | loss: 0.14991 | train_mse: 0.09515 | train_mae: 0.20373 |  0:00:08s\n",
      "epoch 100| loss: 0.11871 | train_mse: 0.08501 | train_mae: 0.2128  |  0:00:08s\n",
      "epoch 101| loss: 0.12413 | train_mse: 0.05773 | train_mae: 0.18873 |  0:00:08s\n",
      "epoch 102| loss: 0.10596 | train_mse: 0.05938 | train_mae: 0.18937 |  0:00:08s\n"
     ]
    },
    {
     "name": "stdout",
     "output_type": "stream",
     "text": [
      "epoch 103| loss: 0.11291 | train_mse: 0.06023 | train_mae: 0.19074 |  0:00:08s\n",
      "epoch 104| loss: 0.11343 | train_mse: 0.06318 | train_mae: 0.20448 |  0:00:08s\n",
      "epoch 105| loss: 0.07909 | train_mse: 0.08695 | train_mae: 0.23961 |  0:00:08s\n",
      "epoch 106| loss: 0.11767 | train_mse: 0.09359 | train_mae: 0.24428 |  0:00:08s\n"
     ]
    },
    {
     "name": "stdout",
     "output_type": "stream",
     "text": [
      "epoch 107| loss: 0.1649  | train_mse: 0.07538 | train_mae: 0.22602 |  0:00:08s\n",
      "epoch 108| loss: 0.10967 | train_mse: 0.05086 | train_mae: 0.18385 |  0:00:08s\n",
      "epoch 109| loss: 0.12076 | train_mse: 0.05436 | train_mae: 0.18897 |  0:00:08s\n",
      "epoch 110| loss: 0.09231 | train_mse: 0.06212 | train_mae: 0.20131 |  0:00:08s\n"
     ]
    },
    {
     "name": "stdout",
     "output_type": "stream",
     "text": [
      "epoch 111| loss: 0.09991 | train_mse: 0.07787 | train_mae: 0.22139 |  0:00:08s\n",
      "epoch 112| loss: 0.11759 | train_mse: 0.08797 | train_mae: 0.22674 |  0:00:09s\n",
      "epoch 113| loss: 0.17757 | train_mse: 0.11859 | train_mae: 0.2371  |  0:00:09s\n"
     ]
    },
    {
     "name": "stdout",
     "output_type": "stream",
     "text": [
      "epoch 114| loss: 0.18338 | train_mse: 0.08171 | train_mae: 0.21533 |  0:00:09s\n",
      "epoch 115| loss: 0.11923 | train_mse: 0.06534 | train_mae: 0.1977  |  0:00:09s\n",
      "epoch 116| loss: 0.09129 | train_mse: 0.09397 | train_mae: 0.2332  |  0:00:09s\n",
      "epoch 117| loss: 0.14729 | train_mse: 0.10422 | train_mae: 0.23555 |  0:00:09s\n"
     ]
    },
    {
     "name": "stdout",
     "output_type": "stream",
     "text": [
      "epoch 118| loss: 0.10061 | train_mse: 0.07906 | train_mae: 0.21667 |  0:00:09s\n",
      "epoch 119| loss: 0.10103 | train_mse: 0.07445 | train_mae: 0.21339 |  0:00:09s\n",
      "epoch 120| loss: 0.05831 | train_mse: 0.06549 | train_mae: 0.20573 |  0:00:09s\n",
      "epoch 121| loss: 0.16535 | train_mse: 0.05453 | train_mae: 0.19038 |  0:00:09s\n"
     ]
    },
    {
     "name": "stdout",
     "output_type": "stream",
     "text": [
      "epoch 122| loss: 0.17851 | train_mse: 0.05494 | train_mae: 0.18544 |  0:00:09s\n",
      "epoch 123| loss: 0.09949 | train_mse: 0.07384 | train_mae: 0.20037 |  0:00:09s\n",
      "epoch 124| loss: 0.09141 | train_mse: 0.07024 | train_mae: 0.20113 |  0:00:09s\n",
      "epoch 125| loss: 0.08323 | train_mse: 0.05375 | train_mae: 0.1859  |  0:00:09s\n"
     ]
    },
    {
     "name": "stdout",
     "output_type": "stream",
     "text": [
      "epoch 126| loss: 0.10708 | train_mse: 0.05483 | train_mae: 0.18636 |  0:00:09s\n",
      "epoch 127| loss: 0.07183 | train_mse: 0.06005 | train_mae: 0.1933  |  0:00:10s\n",
      "epoch 128| loss: 0.09591 | train_mse: 0.06436 | train_mae: 0.19899 |  0:00:10s\n"
     ]
    },
    {
     "name": "stdout",
     "output_type": "stream",
     "text": [
      "epoch 129| loss: 0.17455 | train_mse: 0.06707 | train_mae: 0.1945  |  0:00:10s\n",
      "epoch 130| loss: 0.09672 | train_mse: 0.0649  | train_mae: 0.18594 |  0:00:10s\n",
      "epoch 131| loss: 0.0762  | train_mse: 0.05325 | train_mae: 0.1761  |  0:00:10s\n",
      "epoch 132| loss: 0.08715 | train_mse: 0.05134 | train_mae: 0.17892 |  0:00:10s\n"
     ]
    },
    {
     "name": "stdout",
     "output_type": "stream",
     "text": [
      "epoch 133| loss: 0.09246 | train_mse: 0.05057 | train_mae: 0.17475 |  0:00:10s\n",
      "epoch 134| loss: 0.1745  | train_mse: 0.04961 | train_mae: 0.17838 |  0:00:10s\n",
      "epoch 135| loss: 0.08968 | train_mse: 0.05048 | train_mae: 0.18243 |  0:00:10s\n",
      "epoch 136| loss: 0.14443 | train_mse: 0.06059 | train_mae: 0.197   |  0:00:10s\n"
     ]
    },
    {
     "name": "stdout",
     "output_type": "stream",
     "text": [
      "epoch 137| loss: 0.11235 | train_mse: 0.05285 | train_mae: 0.17606 |  0:00:10s\n",
      "epoch 138| loss: 0.08874 | train_mse: 0.05033 | train_mae: 0.17213 |  0:00:10s\n",
      "\n",
      "Early stopping occurred at epoch 138 with best_epoch = 88 and best_train_mae = 0.17004\n",
      "Best weights from best epoch are automatically used!\n"
     ]
    }
   ],
   "source": [
    "#Train the Model\n",
    "\n",
    "Y_train = np.reshape(Y_train, (-1, 1))\n",
    "Y_test = np.reshape(Y_test, (-1, 1))\n",
    "\n",
    "prior_model = TabNetRegressor(optimizer_fn=torch.optim.Adam, optimizer_params=dict(lr = 0.02),\n",
    "          #scheduler_params={\"step_size\":10, ], \"gamma\":0.9},\n",
    "          #scheduler_fn=torch.optim.lr_scheduler.StepLR\n",
    "          )  #TabNetRegressor()\n",
    "\n",
    "prior_model.fit(X_train,Y_train,eval_set=[(X_train, Y_train)],\n",
    "            eval_name=['train'], \n",
    "            eval_metric=[ 'mse', 'mae'], \n",
    "            max_epochs = n_epochs, \n",
    "            batch_size = batch_size,\n",
    "            patience=50\n",
    "            )"
   ]
  },
  {
   "cell_type": "code",
   "execution_count": 10,
   "id": "af65dcda",
   "metadata": {
    "execution": {
     "iopub.execute_input": "2022-06-22T15:02:57.022380Z",
     "iopub.status.busy": "2022-06-22T15:02:57.021619Z",
     "iopub.status.idle": "2022-06-22T15:02:57.039886Z",
     "shell.execute_reply": "2022-06-22T15:02:57.040336Z"
    },
    "id": "af65dcda",
    "papermill": {
     "duration": 0.051061,
     "end_time": "2022-06-22T15:02:57.040559",
     "exception": false,
     "start_time": "2022-06-22T15:02:56.989498",
     "status": "completed"
    },
    "tags": []
   },
   "outputs": [
    {
     "data": {
      "application/scrapbook.scrap.json+json": {
       "data": 0.19735767523597147,
       "encoder": "json",
       "name": "Prior Model MSE",
       "version": 1
      }
     },
     "metadata": {
      "scrapbook": {
       "data": true,
       "display": false,
       "name": "Prior Model MSE"
      }
     },
     "output_type": "display_data"
    },
    {
     "data": {
      "application/scrapbook.scrap.json+json": {
       "data": 0.26755382867989874,
       "encoder": "json",
       "name": "ABC Pre-generator MSE",
       "version": 1
      }
     },
     "metadata": {
      "scrapbook": {
       "data": true,
       "display": false,
       "name": "ABC Pre-generator MSE"
      }
     },
     "output_type": "display_data"
    },
    {
     "data": {
      "application/scrapbook.scrap.json+json": {
       "data": 0.2996394718743279,
       "encoder": "json",
       "name": "Prior Model MSE",
       "version": 1
      }
     },
     "metadata": {
      "scrapbook": {
       "data": true,
       "display": false,
       "name": "Prior Model MSE"
      }
     },
     "output_type": "display_data"
    },
    {
     "data": {
      "application/scrapbook.scrap.json+json": {
       "data": 0.3591762227956619,
       "encoder": "json",
       "name": "ABC Pre-generator MSE",
       "version": 1
      }
     },
     "metadata": {
      "scrapbook": {
       "data": true,
       "display": false,
       "name": "ABC Pre-generator MSE"
      }
     },
     "output_type": "display_data"
    }
   ],
   "source": [
    "y_pred = prior_model.predict(X_test)\n",
    "y_abc = y_pred + np.random.normal(0,variance, y_pred.shape) + bias \n",
    "mse = mean_squared_error(y_pred,Y_test)\n",
    "sb.glue(\"Prior Model MSE\",mse)\n",
    "mse = mean_squared_error(y_abc,Y_test)\n",
    "sb.glue(\"ABC Pre-generator MSE\",mse)\n",
    "mae = mean_absolute_error(y_pred,Y_test)\n",
    "sb.glue(\"Prior Model MSE\",mae)\n",
    "mae = mean_absolute_error(y_abc,Y_test)\n",
    "sb.glue(\"ABC Pre-generator MSE\",mae)"
   ]
  },
  {
   "cell_type": "markdown",
   "id": "25609da2",
   "metadata": {
    "papermill": {
     "duration": 0.031202,
     "end_time": "2022-06-22T15:02:57.095910",
     "exception": false,
     "start_time": "2022-06-22T15:02:57.064708",
     "status": "completed"
    },
    "tags": []
   },
   "source": [
    "# ABC GAN Model"
   ]
  },
  {
   "cell_type": "code",
   "execution_count": 11,
   "id": "dfc3464d",
   "metadata": {
    "execution": {
     "iopub.execute_input": "2022-06-22T15:02:57.162453Z",
     "iopub.status.busy": "2022-06-22T15:02:57.160959Z",
     "iopub.status.idle": "2022-06-22T15:02:57.164745Z",
     "shell.execute_reply": "2022-06-22T15:02:57.165215Z"
    },
    "papermill": {
     "duration": 0.034685,
     "end_time": "2022-06-22T15:02:57.165428",
     "exception": false,
     "start_time": "2022-06-22T15:02:57.130743",
     "status": "completed"
    },
    "tags": []
   },
   "outputs": [],
   "source": [
    "gen = network.Generator(n_features+1).to(device)\n",
    "disc = network.Discriminator(n_features+1).to(device)\n",
    "\n",
    "criterion = torch.nn.BCELoss()\n",
    "gen_opt = torch.optim.Adam(gen.parameters(), lr=0.001, betas=(0.5, 0.999))\n",
    "disc_opt = torch.optim.Adam(disc.parameters(), lr=0.001, betas=(0.5, 0.999))"
   ]
  },
  {
   "cell_type": "code",
   "execution_count": 12,
   "id": "b75fdd85",
   "metadata": {
    "execution": {
     "iopub.execute_input": "2022-06-22T15:02:57.239037Z",
     "iopub.status.busy": "2022-06-22T15:02:57.237088Z",
     "iopub.status.idle": "2022-06-22T15:03:37.130545Z",
     "shell.execute_reply": "2022-06-22T15:03:37.130994Z"
    },
    "papermill": {
     "duration": 39.938356,
     "end_time": "2022-06-22T15:03:37.131197",
     "exception": false,
     "start_time": "2022-06-22T15:02:57.192841",
     "status": "completed"
    },
    "tags": []
   },
   "outputs": [
    {
     "data": {
      "image/png": "[encoded data removed]",
      "text/plain": [
       "<Figure size 432x288 with 1 Axes>"
      ]
     },
     "metadata": {
      "needs_background": "light"
     },
     "output_type": "display_data"
    },
    {
     "data": {
      "image/png": "[encoded data removed]",
      "text/plain": [
       "<Figure size 432x288 with 1 Axes>"
      ]
     },
     "metadata": {
      "needs_background": "light"
     },
     "output_type": "display_data"
    }
   ],
   "source": [
    "#Training the ABC_GAN \n",
    "ABC_train_test2.training_GAN(disc,gen,disc_opt,gen_opt,train_data,batch_size,n_epochs,criterion,prior_model,variance,bias,device)"
   ]
  },
  {
   "cell_type": "code",
   "execution_count": 13,
   "id": "1fa7c368",
   "metadata": {
    "execution": {
     "iopub.execute_input": "2022-06-22T15:03:37.218750Z",
     "iopub.status.busy": "2022-06-22T15:03:37.210551Z",
     "iopub.status.idle": "2022-06-22T15:03:37.831968Z",
     "shell.execute_reply": "2022-06-22T15:03:37.832521Z"
    },
    "papermill": {
     "duration": 0.676601,
     "end_time": "2022-06-22T15:03:37.832731",
     "exception": false,
     "start_time": "2022-06-22T15:03:37.156130",
     "status": "completed"
    },
    "tags": []
   },
   "outputs": [
    {
     "data": {
      "application/scrapbook.scrap.json+json": {
       "data": 0.3240770946223665,
       "encoder": "json",
       "name": "ABC-GAN Model 1 MSE",
       "version": 1
      }
     },
     "metadata": {
      "scrapbook": {
       "data": true,
       "display": false,
       "name": "ABC-GAN Model 1 MSE"
      }
     },
     "output_type": "display_data"
    },
    {
     "data": {
      "application/scrapbook.scrap.json+json": {
       "data": 0.4029853871464729,
       "encoder": "json",
       "name": "ABC-GAN Model 1 MAE",
       "version": 1
      }
     },
     "metadata": {
      "scrapbook": {
       "data": true,
       "display": false,
       "name": "ABC-GAN Model 1 MAE"
      }
     },
     "output_type": "display_data"
    },
    {
     "data": {
      "application/scrapbook.scrap.json+json": {
       "data": 8.059707742929458,
       "encoder": "json",
       "name": "ABC-GAN Model 1 Manhattan Distance",
       "version": 1
      }
     },
     "metadata": {
      "scrapbook": {
       "data": true,
       "display": false,
       "name": "ABC-GAN Model 1 Manhattan Distance"
      }
     },
     "output_type": "display_data"
    },
    {
     "data": {
      "application/scrapbook.scrap.json+json": {
       "data": 2.5450918272796024,
       "encoder": "json",
       "name": "ABC-GAN Model 1 Euclidean distance",
       "version": 1
      }
     },
     "metadata": {
      "scrapbook": {
       "data": true,
       "display": false,
       "name": "ABC-GAN Model 1 Euclidean distance"
      }
     },
     "output_type": "display_data"
    },
    {
     "data": {
      "application/scrapbook.scrap.json+json": {
       "data": [
        [
         0.32613959884690635,
         0.32986044300723333,
         0.31524547702628525,
         0.3548263727876611,
         0.318887966670541,
         0.3201225483293795,
         0.3402388322512197,
         0.3129267027384507,
         0.3201669374935689,
         0.31575859740597256,
         0.3073453289481346,
         0.3092542089490669,
         0.3409526479133562,
         0.3207146284447421,
         0.3557052101534443,
         0.3218297393822377,
         0.3372074042982316,
         0.3302713095760105,
         0.3242022453912263,
         0.3279265138793174,
         0.349099920281056,
         0.33471971996288996,
         0.3344636128150319,
         0.3178664893543596,
         0.31917612791883443,
         0.3171758977596162,
         0.3378841116106454,
         0.3219110410648124,
         0.31361308142160604,
         0.3297636566511511,
         0.28397336609636004,
         0.30695318622974066,
         0.3186886519149039,
         0.3189661643339346,
         0.32234383431436575,
         0.29512834362338064,
         0.31771779363741354,
         0.3230399424855582,
         0.3512582394335473,
         0.33628276913064686,
         0.3361856214613316,
         0.3270127495313363,
         0.31750768821454345,
         0.25589178337732693,
         0.319953129714504,
         0.32400198334069585,
         0.33746065659746033,
         0.32211341849993563,
         0.30614978393793557,
         0.3128670919042441,
         0.3138405573970362,
         0.3448680564990356,
         0.29842673383338536,
         0.3095971952195601,
         0.30707964894490114,
         0.31871134955900104,
         0.3275801412321504,
         0.32487325372625153,
         0.34018396924705085,
         0.3146261861625884,
         0.34095772041231864,
         0.3345275534925005,
         0.33806772368338783,
         0.3122036344635336,
         0.3123393795419093,
         0.3250360148030986,
         0.30024181378784515,
         0.33372123443425883,
         0.2984876862346841,
         0.3239068793153116,
         0.3239564155670721,
         0.3378341838144807,
         0.322363127553711,
         0.3329878230110942,
         0.3457351237709724,
         0.3147144301054328,
         0.3532283330723512,
         0.3438193957259622,
         0.3325799624801471,
         0.3294676046585189,
         0.3355005744141616,
         0.3041791029066979,
         0.32799694003567237,
         0.32105478048529,
         0.337697064058517,
         0.31987867712189766,
         0.30456166048346345,
         0.3358157576284421,
         0.33171509576990543,
         0.36358347453313805,
         0.31678148161468694,
         0.321041638994391,
         0.34834332196460555,
         0.3214347153714463,
         0.3026262578746251,
         0.31405903586861084,
         0.33127834808958345,
         0.31522514679900443,
         0.35140990945237427,
         0.3088107769084289
        ],
        [
         0.4086338870227337,
         0.41817974150180814,
         0.3951039154082537,
         0.4365343727171421,
         0.3884337991476059,
         0.4005418986082077,
         0.4197730883955956,
         0.39784625768661497,
         0.4056291118264198,
         0.3880901426076889,
         0.3998097002506256,
         0.3944586902856827,
         0.42382086515426637,
         0.38373840749263766,
         0.43973140642046926,
         0.39234628081321715,
         0.4161531813442707,
         0.41740027219057085,
         0.4163938954472542,
         0.3951185069978237,
         0.4166004166007042,
         0.4118046164512634,
         0.41271880343556405,
         0.39651536010205746,
         0.39679661616683004,
         0.4010905534029007,
         0.42605641558766366,
         0.40138270184397695,
         0.38502453565597533,
         0.4095630064606667,
         0.3743680417537689,
         0.3854359097778797,
         0.4024121716618538,
         0.401175769418478,
         0.39923055097460747,
         0.37732130512595174,
         0.3944678708910942,
         0.406420774012804,
         0.439046536013484,
         0.40423140674829483,
         0.4218124754726887,
         0.3974864684045315,
         0.3899234004318714,
         0.3652004964649677,
         0.39430232867598536,
         0.4064119830727577,
         0.4138321429491043,
         0.41019581630825996,
         0.3842540726065636,
         0.3914998859167099,
         0.3975338347256184,
         0.4271683007478714,
         0.374451245367527,
         0.4029953144490719,
         0.37943839132785795,
         0.39127627536654475,
         0.4154841221868992,
         0.4078062243759632,
         0.41834671795368195,
         0.3896185763180256,
         0.42024120464921,
         0.4044657751917839,
         0.40989681482315066,
         0.3777086868882179,
         0.41520147025585175,
         0.3944317489862442,
         0.37906465828418734,
         0.4035929501056671,
         0.3788369297981262,
         0.40678890645503996,
         0.3906894914805889,
         0.4218784742057323,
         0.3965038150548935,
         0.4112133555114269,
         0.42432901784777644,
         0.3932856485247612,
         0.42782850936055183,
         0.422264002263546,
         0.40388004332780836,
         0.4068444803357124,
         0.4147337734699249,
         0.3873662181198597,
         0.41122671142220496,
         0.3979548871517181,
         0.4052236177027225,
         0.39333691000938414,
         0.37560100927948953,
         0.44208979830145834,
         0.4022240549325943,
         0.4330079644918442,
         0.40236620232462883,
         0.3929931975901127,
         0.42450170367956164,
         0.38805952072143557,
         0.38070248886942865,
         0.39143577590584755,
         0.412871852144599,
         0.3885372720658779,
         0.42273117452859876,
         0.3841897420585155
        ],
        [
         8.172677740454674,
         8.363594830036163,
         7.902078308165073,
         8.730687454342842,
         7.768675982952118,
         8.010837972164154,
         8.395461767911911,
         7.9569251537323,
         8.112582236528397,
         7.761802852153778,
         7.996194005012512,
         7.889173805713654,
         8.476417303085327,
         7.674768149852753,
         8.794628128409386,
         7.846925616264343,
         8.323063626885414,
         8.348005443811417,
         8.327877908945084,
         7.902370139956474,
         8.332008332014084,
         8.236092329025269,
         8.25437606871128,
         7.930307202041149,
         7.935932323336601,
         8.021811068058014,
         8.521128311753273,
         8.02765403687954,
         7.700490713119507,
         8.191260129213333,
         7.487360835075378,
         7.708718195557594,
         8.048243433237076,
         8.02351538836956,
         7.984611019492149,
         7.546426102519035,
         7.889357417821884,
         8.12841548025608,
         8.78093072026968,
         8.084628134965897,
         8.436249509453773,
         7.94972936809063,
         7.798468008637428,
         7.3040099292993546,
         7.886046573519707,
         8.128239661455154,
         8.276642858982086,
         8.2039163261652,
         7.685081452131271,
         7.829997718334198,
         7.950676694512367,
         8.543366014957428,
         7.48902490735054,
         8.059906288981438,
         7.588767826557159,
         7.8255255073308945,
         8.309682443737984,
         8.156124487519264,
         8.366934359073639,
         7.792371526360512,
         8.4048240929842,
         8.089315503835678,
         8.197936296463013,
         7.5541737377643585,
         8.304029405117035,
         7.888634979724884,
         7.581293165683746,
         8.071859002113342,
         7.576738595962524,
         8.1357781291008,
         7.813789829611778,
         8.437569484114647,
         7.93007630109787,
         8.224267110228539,
         8.486580356955528,
         7.865712970495224,
         8.556570187211037,
         8.44528004527092,
         8.077600866556168,
         8.136889606714249,
         8.294675469398499,
         7.747324362397194,
         8.2245342284441,
         7.959097743034363,
         8.104472354054451,
         7.866738200187683,
         7.51202018558979,
         8.841795966029167,
         8.044481098651886,
         8.660159289836884,
         8.047324046492577,
         7.859863951802254,
         8.490034073591232,
         7.761190414428711,
         7.614049777388573,
         7.828715518116951,
         8.25743704289198,
         7.770745441317558,
         8.454623490571976,
         7.683794841170311
        ],
        [
         2.5539757197236876,
         2.568503233430837,
         2.510957893021248,
         2.663930827884467,
         2.525422604914041,
         2.5303064965706406,
         2.608596681172541,
         2.5017062287105203,
         2.530481920479057,
         2.5130005865736385,
         2.479295581200977,
         2.4869829470628337,
         2.6113316446340407,
         2.5326453697458002,
         2.6672278123679063,
         2.5370444985543226,
         2.5969497657761176,
         2.570102369852261,
         2.5463787832576137,
         2.5609627638031656,
         2.6423471394994866,
         2.587352778277017,
         2.586362746464741,
         2.5213745828589595,
         2.526563388948848,
         2.518634144768216,
         2.599554237213163,
         2.5373649365623874,
         2.50444836809069,
         2.568126385718394,
         2.383163301565212,
         2.477713406468717,
         2.5246332482754954,
         2.525732227825961,
         2.539070043596142,
         2.4295198851764135,
         2.5207847731903392,
         2.541810152177216,
         2.6505027426265655,
         2.5933868555641553,
         2.593012230828584,
         2.55739222463562,
         2.519951143234898,
         2.26226339482089,
         2.5296368502791227,
         2.5455922035577334,
         2.5979247741128315,
         2.538162400241307,
         2.4744687669798364,
         2.501467936649375,
         2.505356491188574,
         2.626282758954319,
         2.4430584677137195,
         2.488361690830174,
         2.478223754808678,
         2.5247231513930437,
         2.5596098969653576,
         2.54901256853022,
         2.6083863565317573,
         2.5084903275180808,
         2.6113510695129394,
         2.5866099570383643,
         2.6002604626590307,
         2.4988142566566793,
         2.499357435589833,
         2.549651014562968,
         2.450476744586021,
         2.5834907951616892,
         2.443307947167872,
         2.5452185733854433,
         2.545413190690549,
         2.5993621672036418,
         2.5391460279145464,
         2.5806503948078445,
         2.629582186473632,
         2.5088420839320786,
         2.657925255052712,
         2.6222867719834237,
         2.5790694542029966,
         2.5669733331630806,
         2.59036898689805,
         2.4664918524361594,
         2.561237747791768,
         2.5339880839707596,
         2.5988346005797176,
         2.5293425118868247,
         2.4680423840909356,
         2.5915854515274703,
         2.5757138652028315,
         2.6966033246776884,
         2.5170676654181823,
         2.5339362225375406,
         2.639482229395021,
         2.535486996107242,
         2.460188032954494,
         2.506228384918704,
         2.5740176692850554,
         2.510876925693509,
         2.6510749120022026,
         2.4851992954627558
        ]
       ],
       "encoder": "json",
       "name": "ABC_GAN_1 Metrics",
       "version": 1
      }
     },
     "metadata": {
      "scrapbook": {
       "data": true,
       "display": false,
       "name": "ABC_GAN_1 Metrics"
      }
     },
     "output_type": "display_data"
    },
    {
     "name": "stdout",
     "output_type": "stream",
     "text": [
      "MSE\n",
      "0.3240770946223665\n"
     ]
    }
   ],
   "source": [
    "ABC_GAN1_metrics=ABC_train_test2.test_generator(gen,test_data,prior_model,variance,bias,\"1\",device)\n",
    "sb.glue(\"ABC_GAN_1 Metrics\",ABC_GAN1_metrics)\n",
    "\n",
    "print(\"MSE\")\n",
    "print(mean(ABC_GAN1_metrics[0]))"
   ]
  },
  {
   "cell_type": "code",
   "execution_count": 14,
   "id": "eb22ce5c",
   "metadata": {
    "execution": {
     "iopub.execute_input": "2022-06-22T15:03:37.900181Z",
     "iopub.status.busy": "2022-06-22T15:03:37.899466Z",
     "iopub.status.idle": "2022-06-22T15:03:38.616990Z",
     "shell.execute_reply": "2022-06-22T15:03:38.617409Z"
    },
    "papermill": {
     "duration": 0.755888,
     "end_time": "2022-06-22T15:03:38.617659",
     "exception": false,
     "start_time": "2022-06-22T15:03:37.861771",
     "status": "completed"
    },
    "tags": []
   },
   "outputs": [
    {
     "data": {
      "image/png": "[encoded data removed]",
      "text/plain": [
       "<Figure size 432x288 with 1 Axes>"
      ]
     },
     "metadata": {
      "needs_background": "light"
     },
     "output_type": "display_data"
    },
    {
     "data": {
      "image/png": "[encoded data removed]",
      "text/plain": [
       "<Figure size 432x288 with 1 Axes>"
      ]
     },
     "metadata": {
      "needs_background": "light"
     },
     "output_type": "display_data"
    },
    {
     "data": {
      "image/png": "[encoded data removed]",
      "text/plain": [
       "<Figure size 432x288 with 1 Axes>"
      ]
     },
     "metadata": {
      "needs_background": "light"
     },
     "output_type": "display_data"
    },
    {
     "data": {
      "image/png": "[encoded data removed]",
      "text/plain": [
       "<Figure size 432x288 with 1 Axes>"
      ]
     },
     "metadata": {
      "needs_background": "light"
     },
     "output_type": "display_data"
    }
   ],
   "source": [
    "sanityChecks.discProbVsError(train_data,disc,device)\n",
    "sanityChecks.discProbVsError(test_data,disc,device)"
   ]
  },
  {
   "cell_type": "markdown",
   "id": "130f3a4d",
   "metadata": {
    "id": "130f3a4d",
    "papermill": {
     "duration": 0.034525,
     "end_time": "2022-06-22T15:03:38.684442",
     "exception": false,
     "start_time": "2022-06-22T15:03:38.649917",
     "status": "completed"
    },
    "tags": []
   },
   "source": [
    "# ABC - GAN Model with skip connection"
   ]
  },
  {
   "cell_type": "code",
   "execution_count": 15,
   "id": "4e43dad1",
   "metadata": {
    "execution": {
     "iopub.execute_input": "2022-06-22T15:03:38.765709Z",
     "iopub.status.busy": "2022-06-22T15:03:38.764699Z",
     "iopub.status.idle": "2022-06-22T15:03:38.767441Z",
     "shell.execute_reply": "2022-06-22T15:03:38.767920Z"
    },
    "id": "4e43dad1",
    "papermill": {
     "duration": 0.050555,
     "end_time": "2022-06-22T15:03:38.768193",
     "exception": false,
     "start_time": "2022-06-22T15:03:38.717638",
     "status": "completed"
    },
    "tags": []
   },
   "outputs": [],
   "source": [
    "#Generator\n",
    "gen3 = network.GeneratorWithSkipConnection(n_features+1).to(device)\n",
    "constraints=network.weightConstraint()\n",
    "#Discriminator \n",
    "disc3 = network.Discriminator(n_features+1).to(device)\n",
    "\n",
    "criterion = torch.nn.BCELoss()\n",
    "gen_opt = torch.optim.Adam(gen3.parameters(), lr=0.001, betas=(0.5, 0.999))\n",
    "disc_opt = torch.optim.Adam(disc3.parameters(), lr=0.001, betas=(0.5, 0.999))\n"
   ]
  },
  {
   "cell_type": "code",
   "execution_count": 16,
   "id": "26acbc37",
   "metadata": {
    "execution": {
     "iopub.execute_input": "2022-06-22T15:03:38.848007Z",
     "iopub.status.busy": "2022-06-22T15:03:38.847336Z",
     "iopub.status.idle": "2022-06-22T15:04:41.776831Z",
     "shell.execute_reply": "2022-06-22T15:04:41.777291Z"
    },
    "id": "26acbc37",
    "papermill": {
     "duration": 62.971897,
     "end_time": "2022-06-22T15:04:41.777502",
     "exception": false,
     "start_time": "2022-06-22T15:03:38.805605",
     "status": "completed"
    },
    "tags": []
   },
   "outputs": [
    {
     "data": {
      "image/png": "[encoded data removed]",
      "text/plain": [
       "<Figure size 432x288 with 1 Axes>"
      ]
     },
     "metadata": {
      "needs_background": "light"
     },
     "output_type": "display_data"
    },
    {
     "data": {
      "image/png": "[encoded data removed]",
      "text/plain": [
       "<Figure size 432x288 with 1 Axes>"
      ]
     },
     "metadata": {
      "needs_background": "light"
     },
     "output_type": "display_data"
    }
   ],
   "source": [
    "ABC_train_test2.training_GAN_skip_connection(disc3,gen3,disc_opt,gen_opt,train_data,batch_size,n_epochs,criterion,prior_model,variance,bias,device)"
   ]
  },
  {
   "cell_type": "code",
   "execution_count": 17,
   "id": "c5e0717b",
   "metadata": {
    "execution": {
     "iopub.execute_input": "2022-06-22T15:04:41.871428Z",
     "iopub.status.busy": "2022-06-22T15:04:41.870558Z",
     "iopub.status.idle": "2022-06-22T15:04:42.618581Z",
     "shell.execute_reply": "2022-06-22T15:04:42.619046Z"
    },
    "id": "c5e0717b",
    "papermill": {
     "duration": 0.809185,
     "end_time": "2022-06-22T15:04:42.619253",
     "exception": false,
     "start_time": "2022-06-22T15:04:41.810068",
     "status": "completed"
    },
    "tags": []
   },
   "outputs": [
    {
     "data": {
      "application/scrapbook.scrap.json+json": {
       "data": 0.32687721897157973,
       "encoder": "json",
       "name": "ABC-GAN Model 3 MSE",
       "version": 1
      }
     },
     "metadata": {
      "scrapbook": {
       "data": true,
       "display": false,
       "name": "ABC-GAN Model 3 MSE"
      }
     },
     "output_type": "display_data"
    },
    {
     "data": {
      "application/scrapbook.scrap.json+json": {
       "data": 0.45072827152954414,
       "encoder": "json",
       "name": "ABC-GAN Model 3 MAE",
       "version": 1
      }
     },
     "metadata": {
      "scrapbook": {
       "data": true,
       "display": false,
       "name": "ABC-GAN Model 3 MAE"
      }
     },
     "output_type": "display_data"
    },
    {
     "data": {
      "application/scrapbook.scrap.json+json": {
       "data": 9.014565430590883,
       "encoder": "json",
       "name": "ABC-GAN Model 3 Manhattan Distance",
       "version": 1
      }
     },
     "metadata": {
      "scrapbook": {
       "data": true,
       "display": false,
       "name": "ABC-GAN Model 3 Manhattan Distance"
      }
     },
     "output_type": "display_data"
    },
    {
     "data": {
      "application/scrapbook.scrap.json+json": {
       "data": 2.5562921639725196,
       "encoder": "json",
       "name": "ABC-GAN Model 3 Euclidean distance",
       "version": 1
      }
     },
     "metadata": {
      "scrapbook": {
       "data": true,
       "display": false,
       "name": "ABC-GAN Model 3 Euclidean distance"
      }
     },
     "output_type": "display_data"
    },
    {
     "data": {
      "application/scrapbook.scrap.json+json": {
       "data": [
        [
         0.3329953551382164,
         0.319100864589163,
         0.3013117865830965,
         0.3375376309002052,
         0.32497210018127537,
         0.3403019407108174,
         0.33002498661217755,
         0.33169072682080725,
         0.34682997696168066,
         0.3057172956724809,
         0.33076523701862304,
         0.32741827681020574,
         0.3464001625830758,
         0.3224709192260721,
         0.33781535283662667,
         0.346177422168536,
         0.3411476888990968,
         0.32543309738614284,
         0.3307055208141239,
         0.30535792534715606,
         0.34584712242873583,
         0.3412076300861943,
         0.3367562087925304,
         0.3175922310098406,
         0.3434697998218742,
         0.34018111254692796,
         0.32596034527152584,
         0.32484665587810974,
         0.3385719953907706,
         0.34204455948998264,
         0.3254569676217822,
         0.3245728822206241,
         0.3320599693023135,
         0.34702229612608876,
         0.34564412976713826,
         0.3420331182156437,
         0.3266395961488233,
         0.29339188567081587,
         0.3216361477893712,
         0.33022916379620276,
         0.3409889577887272,
         0.3471071620117525,
         0.35964580411252445,
         0.3201368943427955,
         0.3281889985754568,
         0.31571295164909136,
         0.32194201960722185,
         0.3147718218437944,
         0.2984924206164704,
         0.3149057929853959,
         0.315951834159546,
         0.3054125789831252,
         0.3463556626685881,
         0.337386766220868,
         0.3156595413495634,
         0.31956527933152096,
         0.3054581511399398,
         0.344714228916749,
         0.32145471728920194,
         0.3218401944362092,
         0.31022066814555826,
         0.31888874609862594,
         0.31095556872104957,
         0.3296270701441992,
         0.32423007628232947,
         0.32035924259539594,
         0.3297538164727042,
         0.3359645512894092,
         0.3346862653631311,
         0.3153478486836194,
         0.3240056675561115,
         0.32884731243361903,
         0.3275940373827687,
         0.3101746404451483,
         0.3316559425116192,
         0.3043858979074898,
         0.3431316140771029,
         0.3129434671393447,
         0.3249382775163129,
         0.3149029194594135,
         0.33030424063455316,
         0.3316485612520247,
         0.33527629979767243,
         0.31996348089059606,
         0.32886443962361234,
         0.2760495210916699,
         0.3369408381160591,
         0.32670329857815705,
         0.3211125287301883,
         0.3252301064488159,
         0.33317195459449644,
         0.3034734748681967,
         0.3410321538285475,
         0.3434935823839632,
         0.33521662608762537,
         0.3203613279933075,
         0.32921438435282224,
         0.32500932201469845,
         0.32293670835277954,
         0.3240755546298196
        ],
        [
         0.458150533773005,
         0.4563666138797998,
         0.4245755147188902,
         0.457413911819458,
         0.4489681689068675,
         0.4657538422383368,
         0.4501898651942611,
         0.45292976070195434,
         0.4628630369435996,
         0.43989288378506897,
         0.454742156714201,
         0.4527660455554724,
         0.4701058053411543,
         0.4441898070275784,
         0.46535363057628276,
         0.4684693716466427,
         0.4709840787574649,
         0.4470999460667372,
         0.45028055934235456,
         0.4361099506728351,
         0.46589382737874985,
         0.4631696199066937,
         0.45510846227407453,
         0.4459104323759675,
         0.4668264601379633,
         0.4614924255758524,
         0.44391604159027337,
         0.4550206419080496,
         0.46714351177215574,
         0.4744966130703688,
         0.4596806585788727,
         0.4466824811883271,
         0.4520039025694132,
         0.46690244395285846,
         0.4630798976868391,
         0.46290104240179064,
         0.45416101403534415,
         0.43579966966062783,
         0.4396399796009064,
         0.4497171873226762,
         0.4679320313036442,
         0.47829190120100973,
         0.4823172312229872,
         0.44441859275102613,
         0.45193413347005845,
         0.44215929210186006,
         0.45469607375562193,
         0.452389411162585,
         0.42719600684940817,
         0.4429008542560041,
         0.435343661159277,
         0.44460541792213915,
         0.46479038503021003,
         0.4592237636446953,
         0.44490201249718664,
         0.44422487616539,
         0.4342857275158167,
         0.4630550656467676,
         0.437282089330256,
         0.4406811204738915,
         0.4284029953181744,
         0.4456626005470753,
         0.4348992138169706,
         0.4480376336723566,
         0.4413517225533724,
         0.4436200767755508,
         0.4503078948706388,
         0.45159625057131053,
         0.45179860945791006,
         0.43803061414510014,
         0.44265188220888374,
         0.4517460960894823,
         0.4531078768894076,
         0.43421684615314005,
         0.4559638027101755,
         0.44843198768794534,
         0.46961675491183996,
         0.4374147364869714,
         0.4498448671773076,
         0.44332196936011314,
         0.45660866908729075,
         0.4394836599007249,
         0.45821957271546127,
         0.4400184531696141,
         0.4552422231063247,
         0.4074996127746999,
         0.4552291818894446,
         0.44262352902442215,
         0.4335239504463971,
         0.4356976542621851,
         0.4533446103334427,
         0.4367713252082467,
         0.4611869802698493,
         0.46675641760230063,
         0.4651273049414158,
         0.43895963169634344,
         0.4567822452634573,
         0.4404892560094595,
         0.4433820143342018,
         0.4464749854058027
        ],
        [
         9.1630106754601,
         9.127332277595997,
         8.491510294377804,
         9.14827823638916,
         8.97936337813735,
         9.315076844766736,
         9.003797303885221,
         9.058595214039087,
         9.257260738871992,
         8.79785767570138,
         9.09484313428402,
         9.055320911109447,
         9.402116106823087,
         8.883796140551567,
         9.307072611525655,
         9.369387432932854,
         9.419681575149298,
         8.941998921334743,
         9.00561118684709,
         8.722199013456702,
         9.317876547574997,
         9.263392398133874,
         9.102169245481491,
         8.91820864751935,
         9.336529202759266,
         9.229848511517048,
         8.878320831805468,
         9.100412838160992,
         9.342870235443115,
         9.489932261407375,
         9.193613171577454,
         8.933649623766541,
         9.040078051388264,
         9.338048879057169,
         9.261597953736782,
         9.258020848035812,
         9.083220280706882,
         8.715993393212557,
         8.792799592018127,
         8.994343746453524,
         9.358640626072884,
         9.565838024020195,
         9.646344624459743,
         8.888371855020523,
         9.038682669401169,
         8.843185842037201,
         9.093921475112438,
         9.0477882232517,
         8.543920136988163,
         8.858017085120082,
         8.70687322318554,
         8.892108358442783,
         9.2958077006042,
         9.184475272893906,
         8.898040249943733,
         8.8844975233078,
         8.685714550316334,
         9.261101312935352,
         8.74564178660512,
         8.81362240947783,
         8.568059906363487,
         8.913252010941505,
         8.697984276339412,
         8.960752673447132,
         8.827034451067448,
         8.872401535511017,
         9.006157897412777,
         9.03192501142621,
         9.035972189158201,
         8.760612282902002,
         8.853037644177675,
         9.034921921789646,
         9.062157537788153,
         8.684336923062801,
         9.11927605420351,
         8.968639753758907,
         9.3923350982368,
         8.748294729739428,
         8.996897343546152,
         8.866439387202263,
         9.132173381745815,
         8.789673198014498,
         9.164391454309225,
         8.800369063392282,
         9.104844462126493,
         8.149992255493999,
         9.104583637788892,
         8.852470580488443,
         8.670479008927941,
         8.713953085243702,
         9.066892206668854,
         8.735426504164934,
         9.223739605396986,
         9.335128352046013,
         9.302546098828316,
         8.779192633926868,
         9.135644905269146,
         8.80978512018919,
         8.867640286684036,
         8.929499708116055
        ],
        [
         2.580679581576203,
         2.526265483234741,
         2.454839247621304,
         2.5982210487185466,
         2.549400322355339,
         2.608838594895504,
         2.569143774148024,
         2.575619252998421,
         2.6337424967588636,
         2.4727203467941172,
         2.5720234719715256,
         2.558977439565288,
         2.6321100379090376,
         2.5395705118231,
         2.5992897215840585,
         2.631263659037368,
         2.6120784402429296,
         2.551207938942425,
         2.5717912855211402,
         2.4712665794978736,
         2.6300080700588575,
         2.6123079071433914,
         2.595211778612799,
         2.520286614692228,
         2.6209532610173505,
         2.6083754045264573,
         2.553273762335429,
         2.5489082207019917,
         2.6021990523046874,
         2.6155097380433614,
         2.551301501672361,
         2.547833912250263,
         2.577052460864208,
         2.6344726080416505,
         2.6292361239232136,
         2.6154659937213625,
         2.5559326914018032,
         2.4223620112229955,
         2.5362813242594804,
         2.569938379791246,
         2.611470688285538,
         2.6347947244965875,
         2.681961238021625,
         2.5303631926772705,
         2.56198750416725,
         2.512818941543904,
         2.537487023049465,
         2.5090708313787973,
         2.4433273240254585,
         2.5096047218053914,
         2.513769417267805,
         2.4714877259785255,
         2.6319409669237954,
         2.5976403377714474,
         2.5126063812287165,
         2.5281031598078467,
         2.4716721106972894,
         2.625696970012911,
         2.535565882753599,
         2.537085707800228,
         2.4908659865418623,
         2.5254256912395023,
         2.493814623106736,
         2.56759447788859,
         2.5464880768710834,
         2.5312417608572906,
         2.5680880688664245,
         2.592159529386296,
         2.587223474550009,
         2.51136555954572,
         2.5456066764373144,
         2.5645557604919373,
         2.5596641865009118,
         2.49068119375061,
         2.5754841972398865,
         2.4673301275163397,
         2.6196626274278256,
         2.5017732396815853,
         2.549267649801852,
         2.5095932716654046,
         2.5702304979692117,
         2.5754555373837253,
         2.5895030403445074,
         2.529677769561159,
         2.564622543859475,
         2.3496787912038952,
         2.5959231040847843,
         2.556181912846412,
         2.5342159684217456,
         2.550412148845029,
         2.5813638046369847,
         2.4636293344096902,
         2.6116360919107677,
         2.6210439995694967,
         2.589272585447988,
         2.531249999479733,
         2.565986688791749,
         2.5495463204840916,
         2.541403975572477,
         2.545881201587456
        ]
       ],
       "encoder": "json",
       "name": "ABC_GAN_3 Metrics",
       "version": 1
      }
     },
     "metadata": {
      "scrapbook": {
       "data": true,
       "display": false,
       "name": "ABC_GAN_3 Metrics"
      }
     },
     "output_type": "display_data"
    },
    {
     "name": "stdout",
     "output_type": "stream",
     "text": [
      "MSE\n",
      "0.32687721897157973\n"
     ]
    }
   ],
   "source": [
    "ABC_GAN3_metrics=ABC_train_test2.test_generator(gen3,test_data,prior_model,variance,bias,\"3\",device)\n",
    "sb.glue(\"ABC_GAN_3 Metrics\",ABC_GAN3_metrics)\n",
    "\n",
    "print(\"MSE\")\n",
    "print(mean(ABC_GAN3_metrics[0]))"
   ]
  },
  {
   "cell_type": "code",
   "execution_count": 18,
   "id": "c8e46b48",
   "metadata": {
    "execution": {
     "iopub.execute_input": "2022-06-22T15:04:42.706265Z",
     "iopub.status.busy": "2022-06-22T15:04:42.705552Z",
     "iopub.status.idle": "2022-06-22T15:04:43.415693Z",
     "shell.execute_reply": "2022-06-22T15:04:43.416142Z"
    },
    "id": "c8e46b48",
    "papermill": {
     "duration": 0.760051,
     "end_time": "2022-06-22T15:04:43.416347",
     "exception": false,
     "start_time": "2022-06-22T15:04:42.656296",
     "status": "completed"
    },
    "tags": []
   },
   "outputs": [
    {
     "data": {
      "image/png": "[encoded data removed]",
      "text/plain": [
       "<Figure size 432x288 with 1 Axes>"
      ]
     },
     "metadata": {
      "needs_background": "light"
     },
     "output_type": "display_data"
    },
    {
     "data": {
      "image/png": "[encoded data removed]",
      "text/plain": [
       "<Figure size 432x288 with 1 Axes>"
      ]
     },
     "metadata": {
      "needs_background": "light"
     },
     "output_type": "display_data"
    },
    {
     "data": {
      "image/png": "[encoded data removed]",
      "text/plain": [
       "<Figure size 432x288 with 1 Axes>"
      ]
     },
     "metadata": {
      "needs_background": "light"
     },
     "output_type": "display_data"
    },
    {
     "data": {
      "image/png": "[encoded data removed]",
      "text/plain": [
       "<Figure size 432x288 with 1 Axes>"
      ]
     },
     "metadata": {
      "needs_background": "light"
     },
     "output_type": "display_data"
    }
   ],
   "source": [
    "sanityChecks.discProbVsError(train_data,disc3,device)\n",
    "sanityChecks.discProbVsError(test_data,disc3,device)"
   ]
  },
  {
   "cell_type": "markdown",
   "id": "a5bd74c3",
   "metadata": {
    "id": "a5bd74c3",
    "papermill": {
     "duration": 0.04466,
     "end_time": "2022-06-22T15:04:43.501498",
     "exception": false,
     "start_time": "2022-06-22T15:04:43.456838",
     "status": "completed"
    },
    "tags": []
   },
   "source": [
    "## Skip Connection Model Analysis - ABC-GAN "
   ]
  },
  {
   "cell_type": "markdown",
   "id": "5744a8bf",
   "metadata": {
    "id": "5744a8bf",
    "papermill": {
     "duration": 0.043234,
     "end_time": "2022-06-22T15:04:43.590770",
     "exception": false,
     "start_time": "2022-06-22T15:04:43.547536",
     "status": "completed"
    },
    "tags": []
   },
   "source": [
    "### Weight Analysis \n",
    "\n",
    "Study the weights of the skip connection layer\n",
    "\n",
    "Equation of the skip connection is \n",
    "\n",
    "$output = y_{gan} * w + y_{abc} * (1-w)$"
   ]
  },
  {
   "cell_type": "code",
   "execution_count": 19,
   "id": "52c31dea",
   "metadata": {
    "execution": {
     "iopub.execute_input": "2022-06-22T15:04:43.678882Z",
     "iopub.status.busy": "2022-06-22T15:04:43.678208Z",
     "iopub.status.idle": "2022-06-22T15:04:43.684057Z",
     "shell.execute_reply": "2022-06-22T15:04:43.684511Z"
    },
    "id": "52c31dea",
    "papermill": {
     "duration": 0.053171,
     "end_time": "2022-06-22T15:04:43.684760",
     "exception": false,
     "start_time": "2022-06-22T15:04:43.631589",
     "status": "completed"
    },
    "tags": []
   },
   "outputs": [
    {
     "name": "stdout",
     "output_type": "stream",
     "text": [
      "Weight of the node at skip connection\n",
      "Parameter containing:\n",
      "tensor([[0.6703]], requires_grad=True)\n"
     ]
    },
    {
     "data": {
      "application/scrapbook.scrap.json+json": {
       "data": 0.670251727104187,
       "encoder": "json",
       "name": "Skip Connection Weight",
       "version": 1
      }
     },
     "metadata": {
      "scrapbook": {
       "data": true,
       "display": false,
       "name": "Skip Connection Weight"
      }
     },
     "output_type": "display_data"
    }
   ],
   "source": [
    "print(\"Weight of the node at skip connection\")\n",
    "for name,param in gen3.named_parameters():\n",
    "    if(name == \"skipNode.weight\"):\n",
    "        print(param)\n",
    "        sb.glue(\"Skip Connection Weight\",param.item())"
   ]
  }
 ],
 "metadata": {
  "colab": {
   "collapsed_sections": [],
   "name": "ABC_GAN_Model-Catboost_Pre-gen.ipynb",
   "provenance": []
  },
  "interpreter": {
   "hash": "31f2aee4e71d21fbe5cf8b01ff0e069b9275f58929596ceb00d14d90e3e16cd6"
  },
  "kernelspec": {
   "display_name": "Python 3 (ipykernel)",
   "language": "python",
   "name": "python3"
  },
  "language_info": {
   "codemirror_mode": {
    "name": "ipython",
    "version": 3
   },
   "file_extension": ".py",
   "mimetype": "text/x-python",
   "name": "python",
   "nbconvert_exporter": "python",
   "pygments_lexer": "ipython3",
   "version": "3.8.3"
  },
  "papermill": {
   "default_parameters": {},
   "duration": 127.005533,
   "end_time": "2022-06-22T15:04:44.619015",
   "environment_variables": {},
   "exception": null,
   "input_path": "ABC_GAN-TabNet.ipynb",
   "output_path": "./ABC_GAN_TabNet/ABC-GAN_output_7_7.ipynb",
   "parameters": {
    "bias": 0.01,
    "variance": 0.1
   },
   "start_time": "2022-06-22T15:02:37.613482",
   "version": "2.3.3"
  }
 },
 "nbformat": 4,
 "nbformat_minor": 5
}