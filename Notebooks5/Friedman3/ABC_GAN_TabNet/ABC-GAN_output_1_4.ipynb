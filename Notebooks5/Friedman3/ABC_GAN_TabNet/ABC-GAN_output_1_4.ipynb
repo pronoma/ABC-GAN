{
 "cells": [
  {
   "cell_type": "markdown",
   "id": "622780e6",
   "metadata": {
    "id": "622780e6",
    "papermill": {
     "duration": 0.069296,
     "end_time": "2022-06-22T11:34:20.582130",
     "exception": false,
     "start_time": "2022-06-22T11:34:20.512834",
     "status": "completed"
    },
    "tags": []
   },
   "source": [
    "## Import Libraries "
   ]
  },
  {
   "cell_type": "code",
   "execution_count": 1,
   "id": "a62397e3",
   "metadata": {
    "execution": {
     "iopub.execute_input": "2022-06-22T11:34:20.782818Z",
     "iopub.status.busy": "2022-06-22T11:34:20.770740Z",
     "iopub.status.idle": "2022-06-22T11:34:20.792107Z",
     "shell.execute_reply": "2022-06-22T11:34:20.775640Z"
    },
    "id": "a62397e3",
    "papermill": {
     "duration": 0.164777,
     "end_time": "2022-06-22T11:34:20.792740",
     "exception": false,
     "start_time": "2022-06-22T11:34:20.627963",
     "status": "completed"
    },
    "tags": []
   },
   "outputs": [],
   "source": [
    "import warnings\n",
    "import sys\n",
    "sys.path.insert(0, '../../src')\n",
    "warnings.filterwarnings('ignore')"
   ]
  },
  {
   "cell_type": "code",
   "execution_count": 2,
   "id": "d6a4e155",
   "metadata": {
    "execution": {
     "iopub.execute_input": "2022-06-22T11:34:21.045799Z",
     "iopub.status.busy": "2022-06-22T11:34:21.037807Z",
     "iopub.status.idle": "2022-06-22T11:34:29.608388Z",
     "shell.execute_reply": "2022-06-22T11:34:29.609143Z"
    },
    "id": "d6a4e155",
    "papermill": {
     "duration": 8.700146,
     "end_time": "2022-06-22T11:34:29.609508",
     "exception": false,
     "start_time": "2022-06-22T11:34:20.909362",
     "status": "completed"
    },
    "tags": []
   },
   "outputs": [],
   "source": [
    "import ABC_train_test2\n",
    "import friedman3Dataset\n",
    "import network\n",
    "import dataset\n",
    "import sanityChecks\n",
    "import torch \n",
    "import scrapbook as sb\n",
    "from statistics import mean \n",
    "import catboost as ctb \n",
    "from sklearn.model_selection import train_test_split\n",
    "from sklearn.metrics import mean_squared_error,mean_absolute_error\n",
    "import numpy as np\n",
    "from pytorch_tabnet.tab_model import TabNetRegressor"
   ]
  },
  {
   "cell_type": "markdown",
   "id": "2fa5b0f7",
   "metadata": {
    "id": "2fa5b0f7",
    "papermill": {
     "duration": 0.021062,
     "end_time": "2022-06-22T11:34:29.651688",
     "exception": false,
     "start_time": "2022-06-22T11:34:29.630626",
     "status": "completed"
    },
    "tags": []
   },
   "source": [
    "## Parameters "
   ]
  },
  {
   "cell_type": "code",
   "execution_count": 3,
   "id": "783186fb",
   "metadata": {
    "execution": {
     "iopub.execute_input": "2022-06-22T11:34:29.705191Z",
     "iopub.status.busy": "2022-06-22T11:34:29.702936Z",
     "iopub.status.idle": "2022-06-22T11:34:29.706737Z",
     "shell.execute_reply": "2022-06-22T11:34:29.707319Z"
    },
    "id": "783186fb",
    "papermill": {
     "duration": 0.034414,
     "end_time": "2022-06-22T11:34:29.707552",
     "exception": false,
     "start_time": "2022-06-22T11:34:29.673138",
     "status": "completed"
    },
    "tags": [
     "parameters"
    ]
   },
   "outputs": [],
   "source": [
    "variance = 1\n",
    "bias = 1 "
   ]
  },
  {
   "cell_type": "code",
   "execution_count": 4,
   "id": "e000433f",
   "metadata": {
    "execution": {
     "iopub.execute_input": "2022-06-22T11:34:29.779396Z",
     "iopub.status.busy": "2022-06-22T11:34:29.777509Z",
     "iopub.status.idle": "2022-06-22T11:34:29.781682Z",
     "shell.execute_reply": "2022-06-22T11:34:29.782390Z"
    },
    "papermill": {
     "duration": 0.047527,
     "end_time": "2022-06-22T11:34:29.782663",
     "exception": false,
     "start_time": "2022-06-22T11:34:29.735136",
     "status": "completed"
    },
    "tags": [
     "injected-parameters"
    ]
   },
   "outputs": [],
   "source": [
    "# Parameters\n",
    "variance = 0.1\n",
    "bias = 0.1\n"
   ]
  },
  {
   "cell_type": "markdown",
   "id": "391cdbfd",
   "metadata": {
    "id": "391cdbfd",
    "papermill": {
     "duration": 0.017733,
     "end_time": "2022-06-22T11:34:29.832139",
     "exception": false,
     "start_time": "2022-06-22T11:34:29.814406",
     "status": "completed"
    },
    "tags": []
   },
   "source": [
    "## Dataset \n"
   ]
  },
  {
   "cell_type": "code",
   "execution_count": 5,
   "id": "5b51f161",
   "metadata": {
    "execution": {
     "iopub.execute_input": "2022-06-22T11:34:29.877189Z",
     "iopub.status.busy": "2022-06-22T11:34:29.875413Z",
     "iopub.status.idle": "2022-06-22T11:34:29.895289Z",
     "shell.execute_reply": "2022-06-22T11:34:29.899143Z"
    },
    "id": "5b51f161",
    "papermill": {
     "duration": 0.05121,
     "end_time": "2022-06-22T11:34:29.900941",
     "exception": false,
     "start_time": "2022-06-22T11:34:29.849731",
     "status": "completed"
    },
    "tags": []
   },
   "outputs": [],
   "source": [
    "#Parameters \n",
    "n_features = 4\n",
    "n_samples= 100\n",
    "n_target = 1"
   ]
  },
  {
   "cell_type": "code",
   "execution_count": 6,
   "id": "5d6eced4",
   "metadata": {
    "execution": {
     "iopub.execute_input": "2022-06-22T11:34:29.948408Z",
     "iopub.status.busy": "2022-06-22T11:34:29.947521Z",
     "iopub.status.idle": "2022-06-22T11:34:29.963028Z",
     "shell.execute_reply": "2022-06-22T11:34:29.963570Z"
    },
    "id": "5d6eced4",
    "papermill": {
     "duration": 0.041706,
     "end_time": "2022-06-22T11:34:29.963794",
     "exception": false,
     "start_time": "2022-06-22T11:34:29.922088",
     "status": "completed"
    },
    "tags": []
   },
   "outputs": [
    {
     "name": "stdout",
     "output_type": "stream",
     "text": [
      "          X1           X2        X3         X4         Y\n",
      "0  38.873554   974.430553  0.332926  10.869907  1.519992\n",
      "1  77.182483  1239.296992  0.603458   4.854161  1.577485\n",
      "2  31.276930   220.702194  0.483854   4.568801  1.349745\n",
      "3  61.937471   564.779348  0.001847   7.906703 -0.113646\n",
      "4  20.444590   619.755879  0.537635   1.714154  1.410703\n"
     ]
    }
   ],
   "source": [
    "X,Y = friedman3Dataset.friedman3_data(n_samples)"
   ]
  },
  {
   "cell_type": "code",
   "execution_count": 7,
   "id": "fe007438",
   "metadata": {
    "execution": {
     "iopub.execute_input": "2022-06-22T11:34:30.026269Z",
     "iopub.status.busy": "2022-06-22T11:34:30.024744Z",
     "iopub.status.idle": "2022-06-22T11:34:30.027180Z",
     "shell.execute_reply": "2022-06-22T11:34:30.027717Z"
    },
    "id": "fe007438",
    "papermill": {
     "duration": 0.041366,
     "end_time": "2022-06-22T11:34:30.027941",
     "exception": false,
     "start_time": "2022-06-22T11:34:29.986575",
     "status": "completed"
    },
    "tags": []
   },
   "outputs": [],
   "source": [
    "#Train test split for dataset \n",
    "X_train,X_test,Y_train,Y_test = train_test_split(X,Y,test_size = 0.2)\n",
    "train_data = dataset.CustomDataset(X_train,Y_train)\n",
    "test_data = dataset.CustomDataset(X_test,Y_test)\n"
   ]
  },
  {
   "cell_type": "markdown",
   "id": "a9a1af34",
   "metadata": {
    "id": "a9a1af34",
    "papermill": {
     "duration": 0.021449,
     "end_time": "2022-06-22T11:34:30.069440",
     "exception": false,
     "start_time": "2022-06-22T11:34:30.047991",
     "status": "completed"
    },
    "tags": []
   },
   "source": [
    "## Training Parameters "
   ]
  },
  {
   "cell_type": "code",
   "execution_count": 8,
   "id": "952b7fc8",
   "metadata": {
    "execution": {
     "iopub.execute_input": "2022-06-22T11:34:30.114059Z",
     "iopub.status.busy": "2022-06-22T11:34:30.113066Z",
     "iopub.status.idle": "2022-06-22T11:34:30.115114Z",
     "shell.execute_reply": "2022-06-22T11:34:30.115782Z"
    },
    "id": "952b7fc8",
    "papermill": {
     "duration": 0.03124,
     "end_time": "2022-06-22T11:34:30.116011",
     "exception": false,
     "start_time": "2022-06-22T11:34:30.084771",
     "status": "completed"
    },
    "tags": []
   },
   "outputs": [],
   "source": [
    "batch_size = 32\n",
    "n_epochs = 1000\n",
    "#Select the device \n",
    "device = torch.device('cuda' if torch.cuda.is_available() else 'cpu')"
   ]
  },
  {
   "cell_type": "markdown",
   "id": "a95e1600",
   "metadata": {
    "id": "a95e1600",
    "papermill": {
     "duration": 0.021912,
     "end_time": "2022-06-22T11:34:30.156159",
     "exception": false,
     "start_time": "2022-06-22T11:34:30.134247",
     "status": "completed"
    },
    "tags": []
   },
   "source": [
    "# ABC Pre-generator Model \n",
    "\n",
    "1. The catboost model is used as a pre-generator model for the ABC-GAN. \n",
    "2. The model is first trained on the entire dataset \n",
    "3. It generats X,Y pairs and we add some Gaussian noise with mean 0 and variance 1 to it which is then feed as input to the generator.\n"
   ]
  },
  {
   "cell_type": "code",
   "execution_count": 9,
   "id": "ff8ce7bd",
   "metadata": {
    "execution": {
     "iopub.execute_input": "2022-06-22T11:34:30.205326Z",
     "iopub.status.busy": "2022-06-22T11:34:30.204397Z",
     "iopub.status.idle": "2022-06-22T11:34:47.056232Z",
     "shell.execute_reply": "2022-06-22T11:34:47.056758Z"
    },
    "id": "ff8ce7bd",
    "papermill": {
     "duration": 16.879438,
     "end_time": "2022-06-22T11:34:47.056990",
     "exception": false,
     "start_time": "2022-06-22T11:34:30.177552",
     "status": "completed"
    },
    "tags": []
   },
   "outputs": [
    {
     "name": "stdout",
     "output_type": "stream",
     "text": [
      "Device used : cpu\n"
     ]
    },
    {
     "name": "stdout",
     "output_type": "stream",
     "text": [
      "epoch 0  | loss: 1.36896 | train_mse: 3.8683  | train_mae: 1.23397 |  0:00:00s\n",
      "epoch 1  | loss: 1.32854 | train_mse: 2.72779 | train_mae: 1.16808 |  0:00:00s\n",
      "epoch 2  | loss: 0.62476 | train_mse: 2.04662 | train_mae: 1.01153 |  0:00:00s\n"
     ]
    },
    {
     "name": "stdout",
     "output_type": "stream",
     "text": [
      "epoch 3  | loss: 0.6004  | train_mse: 1.86867 | train_mae: 0.91764 |  0:00:00s\n",
      "epoch 4  | loss: 0.56803 | train_mse: 1.18073 | train_mae: 0.69783 |  0:00:00s\n"
     ]
    },
    {
     "name": "stdout",
     "output_type": "stream",
     "text": [
      "epoch 5  | loss: 0.49831 | train_mse: 0.76601 | train_mae: 0.57981 |  0:00:00s\n",
      "epoch 6  | loss: 0.41122 | train_mse: 0.71097 | train_mae: 0.57598 |  0:00:01s\n",
      "epoch 7  | loss: 0.41138 | train_mse: 0.75237 | train_mae: 0.64848 |  0:00:01s\n"
     ]
    },
    {
     "name": "stdout",
     "output_type": "stream",
     "text": [
      "epoch 8  | loss: 0.40716 | train_mse: 0.63909 | train_mae: 0.59065 |  0:00:01s\n",
      "epoch 9  | loss: 0.4061  | train_mse: 0.48479 | train_mae: 0.49628 |  0:00:01s\n"
     ]
    },
    {
     "name": "stdout",
     "output_type": "stream",
     "text": [
      "epoch 10 | loss: 0.34674 | train_mse: 0.36058 | train_mae: 0.42739 |  0:00:01s\n",
      "epoch 11 | loss: 0.37502 | train_mse: 0.32785 | train_mae: 0.40005 |  0:00:01s\n",
      "epoch 12 | loss: 0.26491 | train_mse: 0.29002 | train_mae: 0.40792 |  0:00:01s\n"
     ]
    },
    {
     "name": "stdout",
     "output_type": "stream",
     "text": [
      "epoch 13 | loss: 0.33286 | train_mse: 0.35255 | train_mae: 0.41898 |  0:00:01s\n",
      "epoch 14 | loss: 0.34117 | train_mse: 0.51509 | train_mae: 0.45328 |  0:00:01s\n",
      "epoch 15 | loss: 0.28424 | train_mse: 0.50696 | train_mae: 0.45514 |  0:00:01s\n"
     ]
    },
    {
     "name": "stdout",
     "output_type": "stream",
     "text": [
      "epoch 16 | loss: 0.15681 | train_mse: 0.40887 | train_mae: 0.45982 |  0:00:01s\n",
      "epoch 17 | loss: 0.32577 | train_mse: 0.29898 | train_mae: 0.42281 |  0:00:02s\n",
      "epoch 18 | loss: 0.20431 | train_mse: 0.25188 | train_mae: 0.3925  |  0:00:02s\n"
     ]
    },
    {
     "name": "stdout",
     "output_type": "stream",
     "text": [
      "epoch 19 | loss: 0.20839 | train_mse: 0.19992 | train_mae: 0.35129 |  0:00:02s\n",
      "epoch 20 | loss: 0.20952 | train_mse: 0.20768 | train_mae: 0.35922 |  0:00:02s\n",
      "epoch 21 | loss: 0.17086 | train_mse: 0.23387 | train_mae: 0.37127 |  0:00:02s\n"
     ]
    },
    {
     "name": "stdout",
     "output_type": "stream",
     "text": [
      "epoch 22 | loss: 0.17791 | train_mse: 0.22277 | train_mae: 0.37332 |  0:00:02s\n",
      "epoch 23 | loss: 0.13483 | train_mse: 0.19862 | train_mae: 0.34954 |  0:00:02s\n",
      "epoch 24 | loss: 0.56759 | train_mse: 0.1618  | train_mae: 0.32268 |  0:00:02s\n"
     ]
    },
    {
     "name": "stdout",
     "output_type": "stream",
     "text": [
      "epoch 25 | loss: 0.23388 | train_mse: 0.16081 | train_mae: 0.31934 |  0:00:02s\n",
      "epoch 26 | loss: 0.19777 | train_mse: 0.16823 | train_mae: 0.31609 |  0:00:02s\n",
      "epoch 27 | loss: 0.27024 | train_mse: 0.2127  | train_mae: 0.32951 |  0:00:02s\n"
     ]
    },
    {
     "name": "stdout",
     "output_type": "stream",
     "text": [
      "epoch 28 | loss: 0.16926 | train_mse: 0.18824 | train_mae: 0.31683 |  0:00:03s\n",
      "epoch 29 | loss: 0.16558 | train_mse: 0.15169 | train_mae: 0.29276 |  0:00:03s\n",
      "epoch 30 | loss: 0.31053 | train_mse: 0.18004 | train_mae: 0.30237 |  0:00:03s\n"
     ]
    },
    {
     "name": "stdout",
     "output_type": "stream",
     "text": [
      "epoch 31 | loss: 0.23072 | train_mse: 0.2975  | train_mae: 0.36103 |  0:00:03s\n",
      "epoch 32 | loss: 0.18945 | train_mse: 0.27971 | train_mae: 0.35591 |  0:00:03s\n",
      "epoch 33 | loss: 0.16685 | train_mse: 0.25751 | train_mae: 0.34874 |  0:00:03s\n"
     ]
    },
    {
     "name": "stdout",
     "output_type": "stream",
     "text": [
      "epoch 34 | loss: 0.18869 | train_mse: 0.18429 | train_mae: 0.32048 |  0:00:03s\n",
      "epoch 35 | loss: 0.21872 | train_mse: 0.19104 | train_mae: 0.30785 |  0:00:03s\n",
      "epoch 36 | loss: 0.2129  | train_mse: 0.20042 | train_mae: 0.30808 |  0:00:03s\n"
     ]
    },
    {
     "name": "stdout",
     "output_type": "stream",
     "text": [
      "epoch 37 | loss: 0.12438 | train_mse: 0.23007 | train_mae: 0.3127  |  0:00:03s\n",
      "epoch 38 | loss: 0.24838 | train_mse: 0.21057 | train_mae: 0.30853 |  0:00:03s\n",
      "epoch 39 | loss: 0.12634 | train_mse: 0.21081 | train_mae: 0.31909 |  0:00:03s\n"
     ]
    },
    {
     "name": "stdout",
     "output_type": "stream",
     "text": [
      "epoch 40 | loss: 0.27532 | train_mse: 0.26904 | train_mae: 0.34557 |  0:00:04s\n",
      "epoch 41 | loss: 0.12019 | train_mse: 0.19286 | train_mae: 0.29948 |  0:00:04s\n"
     ]
    },
    {
     "name": "stdout",
     "output_type": "stream",
     "text": [
      "epoch 42 | loss: 0.16716 | train_mse: 0.11582 | train_mae: 0.25175 |  0:00:04s\n",
      "epoch 43 | loss: 0.22275 | train_mse: 0.1062  | train_mae: 0.24333 |  0:00:04s\n",
      "epoch 44 | loss: 0.15197 | train_mse: 0.08899 | train_mae: 0.23246 |  0:00:04s\n"
     ]
    },
    {
     "name": "stdout",
     "output_type": "stream",
     "text": [
      "epoch 45 | loss: 0.08548 | train_mse: 0.13082 | train_mae: 0.27046 |  0:00:04s\n",
      "epoch 46 | loss: 0.17234 | train_mse: 0.14492 | train_mae: 0.28129 |  0:00:04s\n",
      "epoch 47 | loss: 0.1047  | train_mse: 0.16873 | train_mae: 0.29374 |  0:00:04s\n"
     ]
    },
    {
     "name": "stdout",
     "output_type": "stream",
     "text": [
      "epoch 48 | loss: 0.23619 | train_mse: 0.16338 | train_mae: 0.28922 |  0:00:04s\n",
      "epoch 49 | loss: 0.1894  | train_mse: 0.16015 | train_mae: 0.28928 |  0:00:04s\n",
      "epoch 50 | loss: 0.26096 | train_mse: 0.13878 | train_mae: 0.27671 |  0:00:04s\n"
     ]
    },
    {
     "name": "stdout",
     "output_type": "stream",
     "text": [
      "epoch 51 | loss: 0.1143  | train_mse: 0.10196 | train_mae: 0.24868 |  0:00:05s\n",
      "epoch 52 | loss: 0.35142 | train_mse: 0.15902 | train_mae: 0.28242 |  0:00:05s\n",
      "epoch 53 | loss: 0.13049 | train_mse: 0.22618 | train_mae: 0.32073 |  0:00:05s\n"
     ]
    },
    {
     "name": "stdout",
     "output_type": "stream",
     "text": [
      "epoch 54 | loss: 0.16092 | train_mse: 0.16718 | train_mae: 0.29134 |  0:00:05s\n",
      "epoch 55 | loss: 0.16411 | train_mse: 0.10251 | train_mae: 0.24668 |  0:00:05s\n",
      "epoch 56 | loss: 0.0964  | train_mse: 0.07944 | train_mae: 0.23204 |  0:00:05s\n"
     ]
    },
    {
     "name": "stdout",
     "output_type": "stream",
     "text": [
      "epoch 57 | loss: 0.30905 | train_mse: 0.08662 | train_mae: 0.24118 |  0:00:05s\n",
      "epoch 58 | loss: 0.08905 | train_mse: 0.1008  | train_mae: 0.24611 |  0:00:05s\n",
      "epoch 59 | loss: 0.1631  | train_mse: 0.13167 | train_mae: 0.26955 |  0:00:05s\n"
     ]
    },
    {
     "name": "stdout",
     "output_type": "stream",
     "text": [
      "epoch 60 | loss: 0.31739 | train_mse: 0.14296 | train_mae: 0.27804 |  0:00:05s\n",
      "epoch 61 | loss: 0.18892 | train_mse: 0.10241 | train_mae: 0.26261 |  0:00:05s\n",
      "epoch 62 | loss: 0.09083 | train_mse: 0.10074 | train_mae: 0.25459 |  0:00:06s\n"
     ]
    },
    {
     "name": "stdout",
     "output_type": "stream",
     "text": [
      "epoch 63 | loss: 0.16795 | train_mse: 0.11117 | train_mae: 0.25238 |  0:00:06s\n",
      "epoch 64 | loss: 0.14947 | train_mse: 0.07682 | train_mae: 0.21454 |  0:00:06s\n"
     ]
    },
    {
     "name": "stdout",
     "output_type": "stream",
     "text": [
      "epoch 65 | loss: 0.0911  | train_mse: 0.06345 | train_mae: 0.19591 |  0:00:06s\n",
      "epoch 66 | loss: 0.10842 | train_mse: 0.05668 | train_mae: 0.19582 |  0:00:06s\n",
      "epoch 67 | loss: 0.09012 | train_mse: 0.05838 | train_mae: 0.20123 |  0:00:06s\n"
     ]
    },
    {
     "name": "stdout",
     "output_type": "stream",
     "text": [
      "epoch 68 | loss: 0.23023 | train_mse: 0.08978 | train_mae: 0.22433 |  0:00:06s\n",
      "epoch 69 | loss: 0.14133 | train_mse: 0.06047 | train_mae: 0.20158 |  0:00:06s\n",
      "epoch 70 | loss: 0.10569 | train_mse: 0.06596 | train_mae: 0.21006 |  0:00:06s\n"
     ]
    },
    {
     "name": "stdout",
     "output_type": "stream",
     "text": [
      "epoch 71 | loss: 0.1496  | train_mse: 0.0887  | train_mae: 0.23226 |  0:00:06s\n",
      "epoch 72 | loss: 0.22925 | train_mse: 0.07879 | train_mae: 0.22237 |  0:00:06s\n",
      "epoch 73 | loss: 0.47514 | train_mse: 0.07591 | train_mae: 0.21721 |  0:00:07s\n"
     ]
    },
    {
     "name": "stdout",
     "output_type": "stream",
     "text": [
      "epoch 74 | loss: 0.15878 | train_mse: 0.08219 | train_mae: 0.21575 |  0:00:07s\n",
      "epoch 75 | loss: 0.15913 | train_mse: 0.0783  | train_mae: 0.22602 |  0:00:07s\n",
      "epoch 76 | loss: 0.14603 | train_mse: 0.0654  | train_mae: 0.20747 |  0:00:07s\n"
     ]
    },
    {
     "name": "stdout",
     "output_type": "stream",
     "text": [
      "epoch 77 | loss: 0.10394 | train_mse: 0.10157 | train_mae: 0.23778 |  0:00:07s\n",
      "epoch 78 | loss: 0.24463 | train_mse: 0.11542 | train_mae: 0.2429  |  0:00:07s\n",
      "epoch 79 | loss: 0.11116 | train_mse: 0.11177 | train_mae: 0.23494 |  0:00:07s\n"
     ]
    },
    {
     "name": "stdout",
     "output_type": "stream",
     "text": [
      "epoch 80 | loss: 0.21593 | train_mse: 0.06073 | train_mae: 0.18686 |  0:00:07s\n",
      "epoch 81 | loss: 0.18492 | train_mse: 0.05948 | train_mae: 0.19295 |  0:00:07s\n",
      "epoch 82 | loss: 0.19363 | train_mse: 0.06265 | train_mae: 0.19517 |  0:00:07s\n"
     ]
    },
    {
     "name": "stdout",
     "output_type": "stream",
     "text": [
      "epoch 83 | loss: 0.25026 | train_mse: 0.06147 | train_mae: 0.19284 |  0:00:07s\n",
      "epoch 84 | loss: 0.14762 | train_mse: 0.0612  | train_mae: 0.18895 |  0:00:07s\n",
      "epoch 85 | loss: 0.10949 | train_mse: 0.06088 | train_mae: 0.19716 |  0:00:08s\n"
     ]
    },
    {
     "name": "stdout",
     "output_type": "stream",
     "text": [
      "epoch 86 | loss: 0.12001 | train_mse: 0.05448 | train_mae: 0.19068 |  0:00:08s\n",
      "epoch 87 | loss: 0.10774 | train_mse: 0.06221 | train_mae: 0.19697 |  0:00:08s\n",
      "epoch 88 | loss: 0.15811 | train_mse: 0.07752 | train_mae: 0.20723 |  0:00:08s\n"
     ]
    },
    {
     "name": "stdout",
     "output_type": "stream",
     "text": [
      "epoch 89 | loss: 0.11907 | train_mse: 0.07565 | train_mae: 0.19928 |  0:00:08s\n",
      "epoch 90 | loss: 0.06253 | train_mse: 0.1004  | train_mae: 0.22528 |  0:00:08s\n",
      "epoch 91 | loss: 0.21316 | train_mse: 0.1504  | train_mae: 0.26195 |  0:00:08s\n"
     ]
    },
    {
     "name": "stdout",
     "output_type": "stream",
     "text": [
      "epoch 92 | loss: 0.11378 | train_mse: 0.10367 | train_mae: 0.23332 |  0:00:08s\n",
      "epoch 93 | loss: 0.17866 | train_mse: 0.07014 | train_mae: 0.20713 |  0:00:08s\n",
      "epoch 94 | loss: 0.0624  | train_mse: 0.05033 | train_mae: 0.18231 |  0:00:08s\n"
     ]
    },
    {
     "name": "stdout",
     "output_type": "stream",
     "text": [
      "epoch 95 | loss: 0.08357 | train_mse: 0.04819 | train_mae: 0.17757 |  0:00:08s\n",
      "epoch 96 | loss: 0.09426 | train_mse: 0.0495  | train_mae: 0.18278 |  0:00:09s\n",
      "epoch 97 | loss: 0.19323 | train_mse: 0.05709 | train_mae: 0.18854 |  0:00:09s\n"
     ]
    },
    {
     "name": "stdout",
     "output_type": "stream",
     "text": [
      "epoch 98 | loss: 0.14125 | train_mse: 0.07078 | train_mae: 0.2003  |  0:00:09s\n",
      "epoch 99 | loss: 0.11519 | train_mse: 0.10577 | train_mae: 0.22994 |  0:00:09s\n"
     ]
    },
    {
     "name": "stdout",
     "output_type": "stream",
     "text": [
      "epoch 100| loss: 0.16567 | train_mse: 0.18212 | train_mae: 0.278   |  0:00:09s\n",
      "epoch 101| loss: 0.20517 | train_mse: 0.21023 | train_mae: 0.29869 |  0:00:09s\n",
      "epoch 102| loss: 0.1036  | train_mse: 0.11304 | train_mae: 0.24074 |  0:00:09s\n"
     ]
    },
    {
     "name": "stdout",
     "output_type": "stream",
     "text": [
      "epoch 103| loss: 0.28829 | train_mse: 0.06358 | train_mae: 0.20038 |  0:00:09s\n",
      "epoch 104| loss: 0.18726 | train_mse: 0.05654 | train_mae: 0.19292 |  0:00:09s\n",
      "epoch 105| loss: 0.31413 | train_mse: 0.05383 | train_mae: 0.18569 |  0:00:09s\n"
     ]
    },
    {
     "name": "stdout",
     "output_type": "stream",
     "text": [
      "epoch 106| loss: 0.21305 | train_mse: 0.08326 | train_mae: 0.21867 |  0:00:10s\n",
      "epoch 107| loss: 0.09271 | train_mse: 0.08924 | train_mae: 0.21953 |  0:00:10s\n",
      "epoch 108| loss: 0.09294 | train_mse: 0.06535 | train_mae: 0.20125 |  0:00:10s\n"
     ]
    },
    {
     "name": "stdout",
     "output_type": "stream",
     "text": [
      "epoch 109| loss: 0.08477 | train_mse: 0.05471 | train_mae: 0.18763 |  0:00:10s\n",
      "epoch 110| loss: 0.13069 | train_mse: 0.06784 | train_mae: 0.20801 |  0:00:10s\n",
      "epoch 111| loss: 0.11179 | train_mse: 0.09761 | train_mae: 0.23437 |  0:00:10s\n"
     ]
    },
    {
     "name": "stdout",
     "output_type": "stream",
     "text": [
      "epoch 112| loss: 0.22008 | train_mse: 0.12949 | train_mae: 0.24141 |  0:00:10s\n",
      "epoch 113| loss: 0.07611 | train_mse: 0.14954 | train_mae: 0.25167 |  0:00:10s\n"
     ]
    },
    {
     "name": "stdout",
     "output_type": "stream",
     "text": [
      "epoch 114| loss: 0.1989  | train_mse: 0.15498 | train_mae: 0.25826 |  0:00:10s\n",
      "epoch 115| loss: 0.19411 | train_mse: 0.18262 | train_mae: 0.28206 |  0:00:10s\n",
      "epoch 116| loss: 0.26257 | train_mse: 0.24112 | train_mae: 0.31147 |  0:00:10s\n"
     ]
    },
    {
     "name": "stdout",
     "output_type": "stream",
     "text": [
      "epoch 117| loss: 0.21486 | train_mse: 0.31723 | train_mae: 0.33462 |  0:00:11s\n",
      "epoch 118| loss: 0.30202 | train_mse: 0.38418 | train_mae: 0.3529  |  0:00:11s\n",
      "epoch 119| loss: 0.49965 | train_mse: 0.46938 | train_mae: 0.37692 |  0:00:11s\n"
     ]
    },
    {
     "name": "stdout",
     "output_type": "stream",
     "text": [
      "epoch 120| loss: 0.3365  | train_mse: 0.30236 | train_mae: 0.33546 |  0:00:11s\n",
      "epoch 121| loss: 0.18341 | train_mse: 0.10876 | train_mae: 0.25059 |  0:00:11s\n",
      "epoch 122| loss: 0.25044 | train_mse: 0.08737 | train_mae: 0.22921 |  0:00:11s\n"
     ]
    },
    {
     "name": "stdout",
     "output_type": "stream",
     "text": [
      "epoch 123| loss: 0.21387 | train_mse: 0.06214 | train_mae: 0.19769 |  0:00:11s\n",
      "epoch 124| loss: 0.22681 | train_mse: 0.08386 | train_mae: 0.22632 |  0:00:11s\n",
      "epoch 125| loss: 0.19606 | train_mse: 0.08835 | train_mae: 0.23386 |  0:00:11s\n"
     ]
    },
    {
     "name": "stdout",
     "output_type": "stream",
     "text": [
      "epoch 126| loss: 0.27882 | train_mse: 0.07154 | train_mae: 0.21419 |  0:00:11s\n",
      "epoch 127| loss: 0.11414 | train_mse: 0.05769 | train_mae: 0.18915 |  0:00:11s\n",
      "epoch 128| loss: 0.14077 | train_mse: 0.06897 | train_mae: 0.20439 |  0:00:11s\n"
     ]
    },
    {
     "name": "stdout",
     "output_type": "stream",
     "text": [
      "epoch 129| loss: 0.22481 | train_mse: 0.06423 | train_mae: 0.19578 |  0:00:12s\n",
      "epoch 130| loss: 0.16097 | train_mse: 0.05778 | train_mae: 0.18704 |  0:00:12s\n",
      "epoch 131| loss: 0.23099 | train_mse: 0.05083 | train_mae: 0.17753 |  0:00:12s\n"
     ]
    },
    {
     "name": "stdout",
     "output_type": "stream",
     "text": [
      "epoch 132| loss: 0.26906 | train_mse: 0.04947 | train_mae: 0.18277 |  0:00:12s\n",
      "epoch 133| loss: 0.10932 | train_mse: 0.05598 | train_mae: 0.19425 |  0:00:12s\n",
      "epoch 134| loss: 0.43916 | train_mse: 0.07578 | train_mae: 0.22199 |  0:00:12s\n"
     ]
    },
    {
     "name": "stdout",
     "output_type": "stream",
     "text": [
      "epoch 135| loss: 0.07748 | train_mse: 0.05336 | train_mae: 0.18873 |  0:00:12s\n",
      "epoch 136| loss: 0.08962 | train_mse: 0.05666 | train_mae: 0.19331 |  0:00:12s\n",
      "epoch 137| loss: 0.28901 | train_mse: 0.08613 | train_mae: 0.22073 |  0:00:12s\n"
     ]
    },
    {
     "name": "stdout",
     "output_type": "stream",
     "text": [
      "epoch 138| loss: 0.17748 | train_mse: 0.08715 | train_mae: 0.22277 |  0:00:12s\n",
      "epoch 139| loss: 0.09612 | train_mse: 0.0628  | train_mae: 0.20345 |  0:00:12s\n",
      "epoch 140| loss: 0.08161 | train_mse: 0.08183 | train_mae: 0.22972 |  0:00:13s\n"
     ]
    },
    {
     "name": "stdout",
     "output_type": "stream",
     "text": [
      "epoch 141| loss: 0.1167  | train_mse: 0.06442 | train_mae: 0.19559 |  0:00:13s\n",
      "epoch 142| loss: 0.21786 | train_mse: 0.05385 | train_mae: 0.18135 |  0:00:13s\n"
     ]
    },
    {
     "name": "stdout",
     "output_type": "stream",
     "text": [
      "epoch 143| loss: 0.20997 | train_mse: 0.0676  | train_mae: 0.19858 |  0:00:13s\n",
      "epoch 144| loss: 0.10051 | train_mse: 0.06838 | train_mae: 0.20267 |  0:00:13s\n",
      "epoch 145| loss: 0.16503 | train_mse: 0.06577 | train_mae: 0.20804 |  0:00:13s\n"
     ]
    },
    {
     "name": "stdout",
     "output_type": "stream",
     "text": [
      "epoch 146| loss: 0.09505 | train_mse: 0.08066 | train_mae: 0.22183 |  0:00:13s\n",
      "epoch 147| loss: 0.10934 | train_mse: 0.0855  | train_mae: 0.22566 |  0:00:13s\n",
      "epoch 148| loss: 0.12536 | train_mse: 0.05995 | train_mae: 0.18877 |  0:00:13s\n"
     ]
    },
    {
     "name": "stdout",
     "output_type": "stream",
     "text": [
      "epoch 149| loss: 0.20738 | train_mse: 0.0551  | train_mae: 0.18685 |  0:00:13s\n",
      "epoch 150| loss: 0.3301  | train_mse: 0.06205 | train_mae: 0.19505 |  0:00:13s\n"
     ]
    },
    {
     "name": "stdout",
     "output_type": "stream",
     "text": [
      "epoch 151| loss: 0.09343 | train_mse: 0.0581  | train_mae: 0.19113 |  0:00:14s\n",
      "epoch 152| loss: 0.08128 | train_mse: 0.0605  | train_mae: 0.19414 |  0:00:14s\n"
     ]
    },
    {
     "name": "stdout",
     "output_type": "stream",
     "text": [
      "epoch 153| loss: 0.10487 | train_mse: 0.06177 | train_mae: 0.1889  |  0:00:14s\n",
      "epoch 154| loss: 0.06694 | train_mse: 0.08008 | train_mae: 0.20561 |  0:00:14s\n",
      "epoch 155| loss: 0.0911  | train_mse: 0.07625 | train_mae: 0.20534 |  0:00:14s\n"
     ]
    },
    {
     "name": "stdout",
     "output_type": "stream",
     "text": [
      "epoch 156| loss: 0.13239 | train_mse: 0.08757 | train_mae: 0.22245 |  0:00:14s\n",
      "epoch 157| loss: 0.1035  | train_mse: 0.06811 | train_mae: 0.20955 |  0:00:14s\n",
      "epoch 158| loss: 0.09566 | train_mse: 0.08469 | train_mae: 0.22312 |  0:00:14s\n"
     ]
    },
    {
     "name": "stdout",
     "output_type": "stream",
     "text": [
      "epoch 159| loss: 0.10809 | train_mse: 0.0972  | train_mae: 0.23348 |  0:00:14s\n",
      "epoch 160| loss: 0.08114 | train_mse: 0.06878 | train_mae: 0.20442 |  0:00:14s\n",
      "epoch 161| loss: 0.31022 | train_mse: 0.05644 | train_mae: 0.19342 |  0:00:15s\n"
     ]
    },
    {
     "name": "stdout",
     "output_type": "stream",
     "text": [
      "epoch 162| loss: 0.1074  | train_mse: 0.05424 | train_mae: 0.18289 |  0:00:15s\n",
      "epoch 163| loss: 0.08215 | train_mse: 0.05899 | train_mae: 0.17976 |  0:00:15s\n",
      "epoch 164| loss: 0.15474 | train_mse: 0.05403 | train_mae: 0.18158 |  0:00:15s\n"
     ]
    },
    {
     "name": "stdout",
     "output_type": "stream",
     "text": [
      "epoch 165| loss: 0.14271 | train_mse: 0.05688 | train_mae: 0.1934  |  0:00:15s\n",
      "epoch 166| loss: 0.20377 | train_mse: 0.05385 | train_mae: 0.18872 |  0:00:15s\n",
      "epoch 167| loss: 0.35107 | train_mse: 0.07607 | train_mae: 0.2118  |  0:00:15s\n"
     ]
    },
    {
     "name": "stdout",
     "output_type": "stream",
     "text": [
      "epoch 168| loss: 0.08793 | train_mse: 0.06759 | train_mae: 0.20739 |  0:00:15s\n",
      "epoch 169| loss: 0.09763 | train_mse: 0.07764 | train_mae: 0.21108 |  0:00:15s\n",
      "epoch 170| loss: 0.08945 | train_mse: 0.08844 | train_mae: 0.21732 |  0:00:15s\n"
     ]
    },
    {
     "name": "stdout",
     "output_type": "stream",
     "text": [
      "epoch 171| loss: 0.07904 | train_mse: 0.13733 | train_mae: 0.24877 |  0:00:15s\n",
      "epoch 172| loss: 0.12848 | train_mse: 0.15358 | train_mae: 0.26084 |  0:00:15s\n",
      "epoch 173| loss: 0.13366 | train_mse: 0.17307 | train_mae: 0.26122 |  0:00:16s\n"
     ]
    },
    {
     "name": "stdout",
     "output_type": "stream",
     "text": [
      "epoch 174| loss: 0.17535 | train_mse: 0.14518 | train_mae: 0.23953 |  0:00:16s\n",
      "epoch 175| loss: 0.07795 | train_mse: 0.16998 | train_mae: 0.26912 |  0:00:16s\n",
      "epoch 176| loss: 0.13979 | train_mse: 0.17524 | train_mae: 0.29801 |  0:00:16s\n"
     ]
    },
    {
     "name": "stdout",
     "output_type": "stream",
     "text": [
      "epoch 177| loss: 0.14109 | train_mse: 0.20376 | train_mae: 0.31059 |  0:00:16s\n",
      "epoch 178| loss: 0.08124 | train_mse: 0.16183 | train_mae: 0.27675 |  0:00:16s\n",
      "epoch 179| loss: 0.05175 | train_mse: 0.12606 | train_mae: 0.24264 |  0:00:16s\n"
     ]
    },
    {
     "name": "stdout",
     "output_type": "stream",
     "text": [
      "epoch 180| loss: 0.19364 | train_mse: 0.13681 | train_mae: 0.2487  |  0:00:16s\n",
      "epoch 181| loss: 0.21423 | train_mse: 0.1333  | train_mae: 0.24599 |  0:00:16s\n",
      "\n",
      "Early stopping occurred at epoch 181 with best_epoch = 131 and best_train_mae = 0.17753\n",
      "Best weights from best epoch are automatically used!\n"
     ]
    }
   ],
   "source": [
    "#Train the Model\n",
    "\n",
    "Y_train = np.reshape(Y_train, (-1, 1))\n",
    "Y_test = np.reshape(Y_test, (-1, 1))\n",
    "\n",
    "prior_model = TabNetRegressor(optimizer_fn=torch.optim.Adam, optimizer_params=dict(lr = 0.02),\n",
    "          #scheduler_params={\"step_size\":10, ], \"gamma\":0.9},\n",
    "          #scheduler_fn=torch.optim.lr_scheduler.StepLR\n",
    "          )  #TabNetRegressor()\n",
    "\n",
    "prior_model.fit(X_train,Y_train,eval_set=[(X_train, Y_train)],\n",
    "            eval_name=['train'], \n",
    "            eval_metric=[ 'mse', 'mae'], \n",
    "            max_epochs = n_epochs, \n",
    "            batch_size = batch_size,\n",
    "            patience=50\n",
    "            )"
   ]
  },
  {
   "cell_type": "code",
   "execution_count": 10,
   "id": "af65dcda",
   "metadata": {
    "execution": {
     "iopub.execute_input": "2022-06-22T11:34:47.165708Z",
     "iopub.status.busy": "2022-06-22T11:34:47.164816Z",
     "iopub.status.idle": "2022-06-22T11:34:47.198881Z",
     "shell.execute_reply": "2022-06-22T11:34:47.199626Z"
    },
    "id": "af65dcda",
    "papermill": {
     "duration": 0.090967,
     "end_time": "2022-06-22T11:34:47.199851",
     "exception": false,
     "start_time": "2022-06-22T11:34:47.108884",
     "status": "completed"
    },
    "tags": []
   },
   "outputs": [
    {
     "data": {
      "application/scrapbook.scrap.json+json": {
       "data": 0.15940603458074523,
       "encoder": "json",
       "name": "Prior Model MSE",
       "version": 1
      }
     },
     "metadata": {
      "scrapbook": {
       "data": true,
       "display": false,
       "name": "Prior Model MSE"
      }
     },
     "output_type": "display_data"
    },
    {
     "data": {
      "application/scrapbook.scrap.json+json": {
       "data": 0.1530382025694399,
       "encoder": "json",
       "name": "ABC Pre-generator MSE",
       "version": 1
      }
     },
     "metadata": {
      "scrapbook": {
       "data": true,
       "display": false,
       "name": "ABC Pre-generator MSE"
      }
     },
     "output_type": "display_data"
    },
    {
     "data": {
      "application/scrapbook.scrap.json+json": {
       "data": 0.3388951327921739,
       "encoder": "json",
       "name": "Prior Model MSE",
       "version": 1
      }
     },
     "metadata": {
      "scrapbook": {
       "data": true,
       "display": false,
       "name": "Prior Model MSE"
      }
     },
     "output_type": "display_data"
    },
    {
     "data": {
      "application/scrapbook.scrap.json+json": {
       "data": 0.3316408414323694,
       "encoder": "json",
       "name": "ABC Pre-generator MSE",
       "version": 1
      }
     },
     "metadata": {
      "scrapbook": {
       "data": true,
       "display": false,
       "name": "ABC Pre-generator MSE"
      }
     },
     "output_type": "display_data"
    }
   ],
   "source": [
    "y_pred = prior_model.predict(X_test)\n",
    "y_abc = y_pred + np.random.normal(0,variance, y_pred.shape) + bias \n",
    "mse = mean_squared_error(y_pred,Y_test)\n",
    "sb.glue(\"Prior Model MSE\",mse)\n",
    "mse = mean_squared_error(y_abc,Y_test)\n",
    "sb.glue(\"ABC Pre-generator MSE\",mse)\n",
    "mae = mean_absolute_error(y_pred,Y_test)\n",
    "sb.glue(\"Prior Model MSE\",mae)\n",
    "mae = mean_absolute_error(y_abc,Y_test)\n",
    "sb.glue(\"ABC Pre-generator MSE\",mae)"
   ]
  },
  {
   "cell_type": "markdown",
   "id": "25609da2",
   "metadata": {
    "papermill": {
     "duration": 0.042994,
     "end_time": "2022-06-22T11:34:47.284297",
     "exception": false,
     "start_time": "2022-06-22T11:34:47.241303",
     "status": "completed"
    },
    "tags": []
   },
   "source": [
    "# ABC GAN Model"
   ]
  },
  {
   "cell_type": "code",
   "execution_count": 11,
   "id": "dfc3464d",
   "metadata": {
    "execution": {
     "iopub.execute_input": "2022-06-22T11:34:47.370853Z",
     "iopub.status.busy": "2022-06-22T11:34:47.370124Z",
     "iopub.status.idle": "2022-06-22T11:34:47.372691Z",
     "shell.execute_reply": "2022-06-22T11:34:47.373300Z"
    },
    "papermill": {
     "duration": 0.049898,
     "end_time": "2022-06-22T11:34:47.373519",
     "exception": false,
     "start_time": "2022-06-22T11:34:47.323621",
     "status": "completed"
    },
    "tags": []
   },
   "outputs": [],
   "source": [
    "gen = network.Generator(n_features+1).to(device)\n",
    "disc = network.Discriminator(n_features+1).to(device)\n",
    "\n",
    "criterion = torch.nn.BCELoss()\n",
    "gen_opt = torch.optim.Adam(gen.parameters(), lr=0.001, betas=(0.5, 0.999))\n",
    "disc_opt = torch.optim.Adam(disc.parameters(), lr=0.001, betas=(0.5, 0.999))"
   ]
  },
  {
   "cell_type": "code",
   "execution_count": 12,
   "id": "b75fdd85",
   "metadata": {
    "execution": {
     "iopub.execute_input": "2022-06-22T11:34:47.462111Z",
     "iopub.status.busy": "2022-06-22T11:34:47.461155Z",
     "iopub.status.idle": "2022-06-22T11:35:39.827593Z",
     "shell.execute_reply": "2022-06-22T11:35:39.828273Z"
    },
    "papermill": {
     "duration": 52.415476,
     "end_time": "2022-06-22T11:35:39.828560",
     "exception": false,
     "start_time": "2022-06-22T11:34:47.413084",
     "status": "completed"
    },
    "tags": []
   },
   "outputs": [
    {
     "data": {
      "image/png": "[encoded data removed]",
      "text/plain": [
       "<Figure size 432x288 with 1 Axes>"
      ]
     },
     "metadata": {
      "needs_background": "light"
     },
     "output_type": "display_data"
    },
    {
     "data": {
      "image/png": "[encoded data removed]",
      "text/plain": [
       "<Figure size 432x288 with 1 Axes>"
      ]
     },
     "metadata": {
      "needs_background": "light"
     },
     "output_type": "display_data"
    }
   ],
   "source": [
    "#Training the ABC_GAN \n",
    "ABC_train_test2.training_GAN(disc,gen,disc_opt,gen_opt,train_data,batch_size,n_epochs,criterion,prior_model,variance,bias,device)"
   ]
  },
  {
   "cell_type": "code",
   "execution_count": 13,
   "id": "1fa7c368",
   "metadata": {
    "execution": {
     "iopub.execute_input": "2022-06-22T11:35:39.931572Z",
     "iopub.status.busy": "2022-06-22T11:35:39.927296Z",
     "iopub.status.idle": "2022-06-22T11:35:40.731857Z",
     "shell.execute_reply": "2022-06-22T11:35:40.732409Z"
    },
    "papermill": {
     "duration": 0.867588,
     "end_time": "2022-06-22T11:35:40.732628",
     "exception": false,
     "start_time": "2022-06-22T11:35:39.865040",
     "status": "completed"
    },
    "tags": []
   },
   "outputs": [
    {
     "data": {
      "application/scrapbook.scrap.json+json": {
       "data": 0.36376789194611125,
       "encoder": "json",
       "name": "ABC-GAN Model 1 MSE",
       "version": 1
      }
     },
     "metadata": {
      "scrapbook": {
       "data": true,
       "display": false,
       "name": "ABC-GAN Model 1 MSE"
      }
     },
     "output_type": "display_data"
    },
    {
     "data": {
      "application/scrapbook.scrap.json+json": {
       "data": 0.49810436644218864,
       "encoder": "json",
       "name": "ABC-GAN Model 1 MAE",
       "version": 1
      }
     },
     "metadata": {
      "scrapbook": {
       "data": true,
       "display": false,
       "name": "ABC-GAN Model 1 MAE"
      }
     },
     "output_type": "display_data"
    },
    {
     "data": {
      "application/scrapbook.scrap.json+json": {
       "data": 9.962087328843772,
       "encoder": "json",
       "name": "ABC-GAN Model 1 Manhattan Distance",
       "version": 1
      }
     },
     "metadata": {
      "scrapbook": {
       "data": true,
       "display": false,
       "name": "ABC-GAN Model 1 Manhattan Distance"
      }
     },
     "output_type": "display_data"
    },
    {
     "data": {
      "application/scrapbook.scrap.json+json": {
       "data": 2.696840659275767,
       "encoder": "json",
       "name": "ABC-GAN Model 1 Euclidean distance",
       "version": 1
      }
     },
     "metadata": {
      "scrapbook": {
       "data": true,
       "display": false,
       "name": "ABC-GAN Model 1 Euclidean distance"
      }
     },
     "output_type": "display_data"
    },
    {
     "data": {
      "application/scrapbook.scrap.json+json": {
       "data": [
        [
         0.37439227845436474,
         0.36180049336646675,
         0.38069463025784356,
         0.3857150537026126,
         0.3600483584621509,
         0.3566403421103347,
         0.3883316795980741,
         0.3662573668588293,
         0.32957627153339486,
         0.34683671773451763,
         0.37821587979660826,
         0.3739115598647176,
         0.3562070859774038,
         0.3570376984990638,
         0.36607889660982823,
         0.36010835398510055,
         0.38050059242625867,
         0.3638525608600361,
         0.35939853139942285,
         0.38185009203785053,
         0.3559150756730528,
         0.3563108178923922,
         0.3958949744690875,
         0.3754274746910944,
         0.3657287890545111,
         0.36054039474213134,
         0.35775885773258603,
         0.3523294267643723,
         0.34858194929660347,
         0.37730069708911707,
         0.3677654190233082,
         0.3575772650077504,
         0.35583232848483004,
         0.3575386658611466,
         0.36631728349854414,
         0.36064718746530827,
         0.3965057274753692,
         0.3760230648850955,
         0.3481978823216249,
         0.372648013506173,
         0.36132491475234996,
         0.3574864949568385,
         0.3656421951427964,
         0.39032415270929816,
         0.3455629548809794,
         0.37471350692036565,
         0.3473594536244395,
         0.3635648860719062,
         0.346634449009107,
         0.3715190204990736,
         0.35399648138034884,
         0.35160641688103145,
         0.35982691755166263,
         0.3835099473833977,
         0.3407187845253157,
         0.3605082385012458,
         0.3670208894840856,
         0.3498155114763526,
         0.36514070355118344,
         0.3772083511501534,
         0.34089929165811594,
         0.3852370692789043,
         0.34591171508267055,
         0.3629897898237101,
         0.37931952364758603,
         0.35555255682478315,
         0.36973546421673953,
         0.35456152401082097,
         0.3503746729519904,
         0.36379689387093916,
         0.3437006598056299,
         0.37456483181075195,
         0.3679661002683391,
         0.3737206436299947,
         0.38232088191781666,
         0.36892572750029035,
         0.36017431076944,
         0.3845832471931489,
         0.3803339450036287,
         0.34610494491486254,
         0.35231218507703,
         0.3756811442440675,
         0.3657522259498752,
         0.34960636146670354,
         0.3503108547916568,
         0.37140271263589575,
         0.35677787837519637,
         0.3571726225981959,
         0.36278070706516197,
         0.36514736513216717,
         0.3487458339566024,
         0.35206986882058655,
         0.37060099511476896,
         0.35888912461339484,
         0.376706570703099,
         0.3695510623448304,
         0.3472612226537525,
         0.36217056047732027,
         0.34336338109666376,
         0.3839327143930839
        ],
        [
         0.5037111414596438,
         0.4905439719557762,
         0.504935709014535,
         0.517527199536562,
         0.49555409625172614,
         0.4907214641571045,
         0.5080487418919801,
         0.502567102201283,
         0.47061239518225195,
         0.4848952041938901,
         0.5160999789834022,
         0.5064472235739231,
         0.4973460003733635,
         0.4919806506484747,
         0.4978740196675062,
         0.5065943267196417,
         0.5013712303712964,
         0.49609347209334376,
         0.4982806144282222,
         0.5023747701197863,
         0.4903158938512206,
         0.49311019107699394,
         0.5225138118490577,
         0.5007678685709834,
         0.5031448619440198,
         0.4962613916024566,
         0.490814190544188,
         0.4945821363478899,
         0.4891108704730868,
         0.510840761847794,
         0.4980861287564039,
         0.4906174775213003,
         0.4899170296266675,
         0.4944629814475775,
         0.5058181062340736,
         0.49660949483513833,
         0.514572748541832,
         0.5062424963340163,
         0.49374535381793977,
         0.5062934376299382,
         0.497982494905591,
         0.49338577333837746,
         0.4991011809557676,
         0.5173729628324508,
         0.4827554140239954,
         0.5099214563146234,
         0.48796395044773816,
         0.49147205483168366,
         0.4875884076580405,
         0.503345525637269,
         0.4981365045532584,
         0.49760686233639717,
         0.4952569605782628,
         0.5106376048177481,
         0.4817041765898466,
         0.49847366493195294,
         0.4988058120012283,
         0.4911428986117244,
         0.49654276836663486,
         0.5056470595300198,
         0.4815717929974198,
         0.5070878259837628,
         0.48829520158469675,
         0.4985357865691185,
         0.5045196609571576,
         0.4904996667057276,
         0.5061504200100899,
         0.49218901302665474,
         0.491382310539484,
         0.49668501745909455,
         0.48562314212322233,
         0.5103911526501179,
         0.5036467339843511,
         0.5055367313325405,
         0.5087417840957642,
         0.4995946744456887,
         0.4952482843771577,
         0.5084493521600961,
         0.5121342930942774,
         0.49172765351831915,
         0.4894333044067025,
         0.5060856603085995,
         0.491957201808691,
         0.4916068810969591,
         0.48719380851835015,
         0.5008397428318858,
         0.49493335243314507,
         0.4949046028777957,
         0.49906049352139237,
         0.4923368401825428,
         0.4899567667394876,
         0.49981382936239244,
         0.4958926742896438,
         0.49394888486713173,
         0.503902124427259,
         0.5027065612375736,
         0.48557896744459866,
         0.49395558424293995,
         0.4834799475967884,
         0.5185888394713402
        ],
        [
         10.074222829192877,
         9.810879439115524,
         10.098714180290699,
         10.35054399073124,
         9.911081925034523,
         9.81442928314209,
         10.160974837839603,
         10.05134204402566,
         9.412247903645039,
         9.697904083877802,
         10.321999579668045,
         10.128944471478462,
         9.94692000746727,
         9.839613012969494,
         9.957480393350124,
         10.131886534392834,
         10.027424607425928,
         9.921869441866875,
         9.965612288564444,
         10.047495402395725,
         9.806317877024412,
         9.862203821539879,
         10.450276236981153,
         10.015357371419668,
         10.062897238880396,
         9.925227832049131,
         9.81628381088376,
         9.891642726957798,
         9.782217409461737,
         10.216815236955881,
         9.961722575128078,
         9.812349550426006,
         9.79834059253335,
         9.88925962895155,
         10.116362124681473,
         9.932189896702766,
         10.29145497083664,
         10.124849926680326,
         9.874907076358795,
         10.125868752598763,
         9.95964989811182,
         9.86771546676755,
         9.982023619115353,
         10.347459256649017,
         9.655108280479908,
         10.198429126292467,
         9.759279008954763,
         9.829441096633673,
         9.75176815316081,
         10.06691051274538,
         9.962730091065168,
         9.952137246727943,
         9.905139211565256,
         10.212752096354961,
         9.634083531796932,
         9.969473298639059,
         9.976116240024567,
         9.822857972234488,
         9.930855367332697,
         10.112941190600395,
         9.631435859948397,
         10.141756519675255,
         9.765904031693935,
         9.97071573138237,
         10.090393219143152,
         9.809993334114552,
         10.123008400201797,
         9.843780260533094,
         9.82764621078968,
         9.93370034918189,
         9.712462842464447,
         10.207823053002357,
         10.072934679687023,
         10.11073462665081,
         10.174835681915283,
         9.991893488913774,
         9.904965687543154,
         10.168987043201923,
         10.242685861885548,
         9.834553070366383,
         9.78866608813405,
         10.12171320617199,
         9.83914403617382,
         9.832137621939182,
         9.743876170367002,
         10.016794856637716,
         9.898667048662901,
         9.898092057555914,
         9.981209870427847,
         9.846736803650856,
         9.799135334789753,
         9.996276587247849,
         9.917853485792875,
         9.878977697342634,
         10.07804248854518,
         10.054131224751472,
         9.711579348891973,
         9.879111684858799,
         9.669598951935768,
         10.371776789426804
        ],
        [
         2.7363928024111037,
         2.68998324666332,
         2.7593282887610293,
         2.777463064390281,
         2.683461788295674,
         2.670731518181244,
         2.786868061455633,
         2.706500939807076,
         2.5673966251181173,
         2.6337680905292995,
         2.750330452133373,
         2.7346354779557642,
         2.6691087875071853,
         2.6722189225400816,
         2.705841446241181,
         2.6836853540797234,
         2.7586249923694184,
         2.69760101149164,
         2.6810390948265668,
         2.7635125910255973,
         2.668014526471146,
         2.669497397984842,
         2.813876239172887,
         2.7401732598180515,
         2.7045472414232705,
         2.6852947500865945,
         2.6749162892792966,
         2.654541115765104,
         2.640386143338142,
         2.747000899486992,
         2.7120671784574517,
         2.6742373305589404,
         2.667704363248784,
         2.674092989636473,
         2.706722311204251,
         2.685692415245306,
         2.816045906853683,
         2.7423459478522965,
         2.6389311560615782,
         2.730011038461834,
         2.688214704045605,
         2.67389788494938,
         2.7042270435109415,
         2.794008420564613,
         2.628927366364386,
         2.737566462829225,
         2.6357520885866315,
         2.6965343909244184,
         2.632999996236639,
         2.725872412638103,
         2.6608137153147298,
         2.651816045207629,
         2.6826364552494346,
         2.7695124025120297,
         2.610435919632258,
         2.685174998026184,
         2.709320540224377,
         2.645053918075594,
         2.7023719342502925,
         2.7466647088793104,
         2.611127310791704,
         2.775741592003493,
         2.630253657283535,
         2.694400823276708,
         2.7543402972312117,
         2.6666554214025595,
         2.719321474988713,
         2.6629364393872454,
         2.6471670629259134,
         2.6973946462130423,
         2.6218339375545123,
         2.7370233167101516,
         2.712807034303542,
         2.7339372473778347,
         2.7652156585619743,
         2.7163421268326653,
         2.683931112265886,
         2.773385105581801,
         2.7580208302463154,
         2.630988198053585,
         2.6544761633023946,
         2.7410988462442116,
         2.704633897405988,
         2.644263078692071,
         2.646925970977114,
         2.725445697994718,
         2.671246444546801,
         2.67272378893965,
         2.6936247216906883,
         2.7023965850043816,
         2.641006754844078,
         2.653563147244047,
         2.722502507307455,
         2.679138386173416,
         2.744837229065137,
         2.718643273196505,
         2.6353793755501407,
         2.6913586177888678,
         2.6205471989516376,
         2.771038485453004
        ]
       ],
       "encoder": "json",
       "name": "ABC_GAN_1 Metrics",
       "version": 1
      }
     },
     "metadata": {
      "scrapbook": {
       "data": true,
       "display": false,
       "name": "ABC_GAN_1 Metrics"
      }
     },
     "output_type": "display_data"
    },
    {
     "name": "stdout",
     "output_type": "stream",
     "text": [
      "MSE\n",
      "0.36376789194611125\n"
     ]
    }
   ],
   "source": [
    "ABC_GAN1_metrics=ABC_train_test2.test_generator(gen,test_data,prior_model,variance,bias,\"1\",device)\n",
    "sb.glue(\"ABC_GAN_1 Metrics\",ABC_GAN1_metrics)\n",
    "\n",
    "print(\"MSE\")\n",
    "print(mean(ABC_GAN1_metrics[0]))"
   ]
  },
  {
   "cell_type": "code",
   "execution_count": 14,
   "id": "eb22ce5c",
   "metadata": {
    "execution": {
     "iopub.execute_input": "2022-06-22T11:35:40.838224Z",
     "iopub.status.busy": "2022-06-22T11:35:40.832637Z",
     "iopub.status.idle": "2022-06-22T11:35:41.757766Z",
     "shell.execute_reply": "2022-06-22T11:35:41.758444Z"
    },
    "papermill": {
     "duration": 0.982363,
     "end_time": "2022-06-22T11:35:41.758662",
     "exception": false,
     "start_time": "2022-06-22T11:35:40.776299",
     "status": "completed"
    },
    "tags": []
   },
   "outputs": [
    {
     "data": {
      "image/png": "[encoded data removed]",
      "text/plain": [
       "<Figure size 432x288 with 1 Axes>"
      ]
     },
     "metadata": {
      "needs_background": "light"
     },
     "output_type": "display_data"
    },
    {
     "data": {
      "image/png": "[encoded data removed]",
      "text/plain": [
       "<Figure size 432x288 with 1 Axes>"
      ]
     },
     "metadata": {
      "needs_background": "light"
     },
     "output_type": "display_data"
    },
    {
     "data": {
      "image/png": "[encoded data removed]",
      "text/plain": [
       "<Figure size 432x288 with 1 Axes>"
      ]
     },
     "metadata": {
      "needs_background": "light"
     },
     "output_type": "display_data"
    },
    {
     "data": {
      "image/png": "[encoded data removed]",
      "text/plain": [
       "<Figure size 432x288 with 1 Axes>"
      ]
     },
     "metadata": {
      "needs_background": "light"
     },
     "output_type": "display_data"
    }
   ],
   "source": [
    "sanityChecks.discProbVsError(train_data,disc,device)\n",
    "sanityChecks.discProbVsError(test_data,disc,device)"
   ]
  },
  {
   "cell_type": "markdown",
   "id": "130f3a4d",
   "metadata": {
    "id": "130f3a4d",
    "papermill": {
     "duration": 0.05281,
     "end_time": "2022-06-22T11:35:41.858815",
     "exception": false,
     "start_time": "2022-06-22T11:35:41.806005",
     "status": "completed"
    },
    "tags": []
   },
   "source": [
    "# ABC - GAN Model with skip connection"
   ]
  },
  {
   "cell_type": "code",
   "execution_count": 15,
   "id": "4e43dad1",
   "metadata": {
    "execution": {
     "iopub.execute_input": "2022-06-22T11:35:41.977981Z",
     "iopub.status.busy": "2022-06-22T11:35:41.977167Z",
     "iopub.status.idle": "2022-06-22T11:35:41.981700Z",
     "shell.execute_reply": "2022-06-22T11:35:41.982725Z"
    },
    "id": "4e43dad1",
    "papermill": {
     "duration": 0.072011,
     "end_time": "2022-06-22T11:35:41.983021",
     "exception": false,
     "start_time": "2022-06-22T11:35:41.911010",
     "status": "completed"
    },
    "tags": []
   },
   "outputs": [],
   "source": [
    "#Generator\n",
    "gen3 = network.GeneratorWithSkipConnection(n_features+1).to(device)\n",
    "constraints=network.weightConstraint()\n",
    "#Discriminator \n",
    "disc3 = network.Discriminator(n_features+1).to(device)\n",
    "\n",
    "criterion = torch.nn.BCELoss()\n",
    "gen_opt = torch.optim.Adam(gen3.parameters(), lr=0.001, betas=(0.5, 0.999))\n",
    "disc_opt = torch.optim.Adam(disc3.parameters(), lr=0.001, betas=(0.5, 0.999))\n"
   ]
  },
  {
   "cell_type": "code",
   "execution_count": 16,
   "id": "26acbc37",
   "metadata": {
    "execution": {
     "iopub.execute_input": "2022-06-22T11:35:42.094601Z",
     "iopub.status.busy": "2022-06-22T11:35:42.093832Z",
     "iopub.status.idle": "2022-06-22T11:37:07.898655Z",
     "shell.execute_reply": "2022-06-22T11:37:07.899216Z"
    },
    "id": "26acbc37",
    "papermill": {
     "duration": 85.869274,
     "end_time": "2022-06-22T11:37:07.899754",
     "exception": false,
     "start_time": "2022-06-22T11:35:42.030480",
     "status": "completed"
    },
    "tags": []
   },
   "outputs": [
    {
     "data": {
      "image/png": "[encoded data removed]",
      "text/plain": [
       "<Figure size 432x288 with 1 Axes>"
      ]
     },
     "metadata": {
      "needs_background": "light"
     },
     "output_type": "display_data"
    },
    {
     "data": {
      "image/png": "[encoded data removed]",
      "text/plain": [
       "<Figure size 432x288 with 1 Axes>"
      ]
     },
     "metadata": {
      "needs_background": "light"
     },
     "output_type": "display_data"
    }
   ],
   "source": [
    "ABC_train_test2.training_GAN_skip_connection(disc3,gen3,disc_opt,gen_opt,train_data,batch_size,n_epochs,criterion,prior_model,variance,bias,device)"
   ]
  },
  {
   "cell_type": "code",
   "execution_count": 17,
   "id": "c5e0717b",
   "metadata": {
    "execution": {
     "iopub.execute_input": "2022-06-22T11:37:08.021455Z",
     "iopub.status.busy": "2022-06-22T11:37:08.020278Z",
     "iopub.status.idle": "2022-06-22T11:37:09.092403Z",
     "shell.execute_reply": "2022-06-22T11:37:09.093486Z"
    },
    "id": "c5e0717b",
    "papermill": {
     "duration": 1.136377,
     "end_time": "2022-06-22T11:37:09.093957",
     "exception": false,
     "start_time": "2022-06-22T11:37:07.957580",
     "status": "completed"
    },
    "tags": []
   },
   "outputs": [
    {
     "data": {
      "application/scrapbook.scrap.json+json": {
       "data": 0.2045530524129038,
       "encoder": "json",
       "name": "ABC-GAN Model 3 MSE",
       "version": 1
      }
     },
     "metadata": {
      "scrapbook": {
       "data": true,
       "display": false,
       "name": "ABC-GAN Model 3 MSE"
      }
     },
     "output_type": "display_data"
    },
    {
     "data": {
      "application/scrapbook.scrap.json+json": {
       "data": 0.3839309515319765,
       "encoder": "json",
       "name": "ABC-GAN Model 3 MAE",
       "version": 1
      }
     },
     "metadata": {
      "scrapbook": {
       "data": true,
       "display": false,
       "name": "ABC-GAN Model 3 MAE"
      }
     },
     "output_type": "display_data"
    },
    {
     "data": {
      "application/scrapbook.scrap.json+json": {
       "data": 7.678619030639529,
       "encoder": "json",
       "name": "ABC-GAN Model 3 Manhattan Distance",
       "version": 1
      }
     },
     "metadata": {
      "scrapbook": {
       "data": true,
       "display": false,
       "name": "ABC-GAN Model 3 Manhattan Distance"
      }
     },
     "output_type": "display_data"
    },
    {
     "data": {
      "application/scrapbook.scrap.json+json": {
       "data": 2.0222471639915875,
       "encoder": "json",
       "name": "ABC-GAN Model 3 Euclidean distance",
       "version": 1
      }
     },
     "metadata": {
      "scrapbook": {
       "data": true,
       "display": false,
       "name": "ABC-GAN Model 3 Euclidean distance"
      }
     },
     "output_type": "display_data"
    },
    {
     "data": {
      "application/scrapbook.scrap.json+json": {
       "data": [
        [
         0.20366503047299825,
         0.20243332681424997,
         0.19588204547797772,
         0.22419925337879648,
         0.20196142547363713,
         0.21664375832315602,
         0.2078622152076898,
         0.20725237124555074,
         0.19719491287156532,
         0.21937886277831717,
         0.1951648222126614,
         0.20802906517219205,
         0.20017225726407362,
         0.22107437787859743,
         0.21066728539885532,
         0.19708582855041254,
         0.1986818754388806,
         0.2056379116028993,
         0.20830037715692978,
         0.20222963167149577,
         0.193720772587054,
         0.19808121920813312,
         0.20017710612539838,
         0.20038527737559422,
         0.20609786484179748,
         0.1997464037517155,
         0.2052612788388127,
         0.19485339742823576,
         0.19909746575908419,
         0.19260614424334804,
         0.2039778232703379,
         0.19404333121599487,
         0.20812906578016035,
         0.21473935011399856,
         0.19688686132258026,
         0.20622876857527225,
         0.21844438694568452,
         0.1957891428153961,
         0.21217552309924653,
         0.20294585460214484,
         0.20110060353191744,
         0.20979848909397192,
         0.20079827508723866,
         0.19928530345786294,
         0.207035228598132,
         0.20907101435418912,
         0.20016999968056984,
         0.18766355972191887,
         0.20123406399319732,
         0.2171717906947838,
         0.1982019404586098,
         0.207020404373322,
         0.21307439286400626,
         0.18918403056921357,
         0.2092051570556582,
         0.21306608728980708,
         0.21636902035753205,
         0.1979476388539554,
         0.19645245091571834,
         0.22181287537131328,
         0.18120193635935983,
         0.20288288584767913,
         0.207157837266224,
         0.2076589144946545,
         0.21469813445894328,
         0.1941457967447954,
         0.20068410546950372,
         0.20184795832194324,
         0.19772013087832266,
         0.2040705607162415,
         0.20526857992610564,
         0.21060032671798834,
         0.20513075259161834,
         0.2119830788530567,
         0.21465486842242712,
         0.21122808061421802,
         0.2103146318918167,
         0.21102681025015563,
         0.1978118046782062,
         0.21212254981332318,
         0.2147286659336954,
         0.20136118331144187,
         0.20158731148679748,
         0.21390074774587164,
         0.19733858902977083,
         0.1999001498854399,
         0.2015067934120956,
         0.19921703230983442,
         0.21699481846282867,
         0.19630462012207364,
         0.20953223832747017,
         0.21655407832942614,
         0.1958657549917704,
         0.1960233276052985,
         0.19554788511158933,
         0.2136523518364203,
         0.20951394820832916,
         0.20261115419294726,
         0.20276403121103176,
         0.20562481684582182
        ],
        [
         0.3807920578867197,
         0.38689740374684334,
         0.3650524906814098,
         0.3916118495166302,
         0.3837696768343449,
         0.39732552170753477,
         0.3969820611178875,
         0.3835076689720154,
         0.3748436037451029,
         0.40087741389870646,
         0.3754297561943531,
         0.39385557994246484,
         0.37888084128499033,
         0.4079007595777512,
         0.38493308126926423,
         0.38208478391170503,
         0.3838706538081169,
         0.37311414554715155,
         0.3944722682237625,
         0.3658365778625011,
         0.37273413091897967,
         0.3734712690114975,
         0.38901180773973465,
         0.38465752452611923,
         0.38332969695329666,
         0.38445027470588683,
         0.3883413091301918,
         0.37977243289351464,
         0.3812226213514805,
         0.35654429979622365,
         0.38487914130091666,
         0.36834294348955154,
         0.3855273172259331,
         0.3978176906704903,
         0.3694646812975407,
         0.37976314723491666,
         0.4048516474664211,
         0.38066141307353973,
         0.3841369390487671,
         0.38638218194246293,
         0.37805862799286843,
         0.37742762714624406,
         0.38041952922940253,
         0.37775073349475863,
         0.3901365227997303,
         0.3895018197596073,
         0.372246065735817,
         0.3593614839017391,
         0.3727785550057888,
         0.39861239716410635,
         0.3792614981532097,
         0.3889316380023956,
         0.3793102607131004,
         0.3659127399325371,
         0.38910785913467405,
         0.39674081951379775,
         0.39942107871174815,
         0.3819251388311386,
         0.3688611123710871,
         0.40786297172307967,
         0.36095423474907873,
         0.3846181109547615,
         0.38620500788092615,
         0.3889605775475502,
         0.4027241952717304,
         0.375079970061779,
         0.3819440722465515,
         0.3832149811089039,
         0.38548784852027895,
         0.38583968579769135,
         0.3790749691426754,
         0.38581200912594793,
         0.3889253903180361,
         0.3942511022090912,
         0.3904942378401756,
         0.3901521436870098,
         0.3835812732577324,
         0.3988742120563984,
         0.3779515761882067,
         0.38664019778370856,
         0.3900907523930073,
         0.3781433619558811,
         0.38096185624599455,
         0.39050559177994726,
         0.378818379342556,
         0.3877188742160797,
         0.38671468794345853,
         0.37827005982398987,
         0.40433003157377245,
         0.38388269059360025,
         0.3909969083964825,
         0.3978224270045757,
         0.3717697627842426,
         0.3676370866596699,
         0.37224381491541864,
         0.3904029943048954,
         0.39482623562216757,
         0.37864493802189825,
         0.3863367892801762,
         0.3811629697680473
        ],
        [
         7.615841157734394,
         7.737948074936867,
         7.301049813628197,
         7.8322369903326035,
         7.675393536686897,
         7.946510434150696,
         7.93964122235775,
         7.670153379440308,
         7.496872074902058,
         8.017548277974129,
         7.508595123887062,
         7.877111598849297,
         7.577616825699806,
         8.158015191555023,
         7.698661625385284,
         7.6416956782341,
         7.677413076162338,
         7.462282910943031,
         7.88944536447525,
         7.316731557250023,
         7.454682618379593,
         7.46942538022995,
         7.780236154794693,
         7.693150490522385,
         7.666593939065933,
         7.689005494117737,
         7.766826182603836,
         7.595448657870293,
         7.62445242702961,
         7.130885995924473,
         7.697582826018333,
         7.366858869791031,
         7.7105463445186615,
         7.956353813409805,
         7.389293625950813,
         7.595262944698334,
         8.097032949328423,
         7.613228261470795,
         7.682738780975342,
         7.727643638849258,
         7.5611725598573685,
         7.548552542924881,
         7.608390584588051,
         7.555014669895172,
         7.802730455994606,
         7.790036395192146,
         7.444921314716339,
         7.187229678034782,
         7.455571100115776,
         7.972247943282127,
         7.585229963064194,
         7.778632760047913,
         7.586205214262009,
         7.318254798650742,
         7.7821571826934814,
         7.934816390275955,
         7.9884215742349625,
         7.638502776622772,
         7.3772222474217415,
         8.157259434461594,
         7.219084694981575,
         7.69236221909523,
         7.724100157618523,
         7.779211550951004,
         8.054483905434608,
         7.5015994012355804,
         7.63888144493103,
         7.664299622178078,
         7.709756970405579,
         7.716793715953827,
         7.581499382853508,
         7.716240182518959,
         7.778507806360722,
         7.885022044181824,
         7.809884756803513,
         7.803042873740196,
         7.671625465154648,
         7.977484241127968,
         7.5590315237641335,
         7.7328039556741714,
         7.801815047860146,
         7.562867239117622,
         7.619237124919891,
         7.810111835598946,
         7.57636758685112,
         7.754377484321594,
         7.734293758869171,
         7.565401196479797,
         8.086600631475449,
         7.6776538118720055,
         7.819938167929649,
         7.956448540091515,
         7.435395255684853,
         7.3527417331933975,
         7.4448762983083725,
         7.808059886097908,
         7.896524712443352,
         7.572898760437965,
         7.726735785603523,
         7.623259395360947
        ],
        [
         2.018241960088028,
         2.0121298507514367,
         1.9793031373590941,
         2.117542223327773,
         2.009783199619487,
         2.0815559484345165,
         2.038932148001447,
         2.0359389541219093,
         1.985925038220553,
         2.094654447770883,
         1.975676199242484,
         2.0397503041901577,
         2.0008611009466577,
         2.102733353892487,
         2.052643590099632,
         1.9853756750318692,
         1.9933984821850375,
         2.027993646947146,
         2.041079994301692,
         2.011117259990057,
         1.9683534874968673,
         1.9903829742445704,
         2.000885334672621,
         2.00192546002889,
         2.030260401238213,
         1.9987316165594393,
         2.0261356264515595,
         1.9740992752556075,
         1.9954822262254512,
         1.9626825736391915,
         2.0197911935164874,
         1.9699915289969894,
         2.040240504353153,
         2.072386788772784,
         1.9843732578453088,
         2.030905062159589,
         2.090188445789922,
         1.9788337111308574,
         2.0599782673574327,
         2.014675430942388,
         2.0054954676185006,
         2.0484066446580957,
         2.0039874005953164,
         1.9964233191277991,
         2.034872126685763,
         2.0448521430860915,
         2.000849817855252,
         1.93733610776199,
         2.0061608310063144,
         2.0840911241823554,
         1.9909894045856187,
         2.034799274490346,
         2.064337147192804,
         1.9451685303295112,
         2.04550803985542,
         2.0642969131876696,
         2.0802356614457507,
         1.9897117321559692,
         1.982182892246416,
         2.106242509167989,
         1.903690817120048,
         2.0143628563279217,
         2.0354745749639025,
         2.0379348100204506,
         2.0721878991005775,
         1.9705115921749627,
         2.00341760733754,
         2.0092185462111543,
         1.9885679816306139,
         2.0202502850698547,
         2.0261716606749074,
         2.052317357125785,
         2.0254913112211486,
         2.059043850203568,
         2.071979094597371,
         2.055373837598494,
         2.0509248250085457,
         2.054394364527685,
         1.9890289323094632,
         2.0597210967183064,
         2.072335233178722,
         2.006794375672016,
         2.0079208723791755,
         2.068336277039455,
         1.986648378701026,
         1.999500687098856,
         2.007519830099297,
         1.9960813225409149,
         2.0832417932771445,
         1.9814369539406176,
         2.047106437523316,
         2.0811250723078905,
         1.9792208314979425,
         1.9800168060160424,
         1.9776141439198358,
         2.0671349827063557,
         2.0470170893684747,
         2.0130134336012127,
         2.013772734004668,
         2.0279290759088284
        ]
       ],
       "encoder": "json",
       "name": "ABC_GAN_3 Metrics",
       "version": 1
      }
     },
     "metadata": {
      "scrapbook": {
       "data": true,
       "display": false,
       "name": "ABC_GAN_3 Metrics"
      }
     },
     "output_type": "display_data"
    },
    {
     "name": "stdout",
     "output_type": "stream",
     "text": [
      "MSE\n",
      "0.2045530524129038\n"
     ]
    }
   ],
   "source": [
    "ABC_GAN3_metrics=ABC_train_test2.test_generator(gen3,test_data,prior_model,variance,bias,\"3\",device)\n",
    "sb.glue(\"ABC_GAN_3 Metrics\",ABC_GAN3_metrics)\n",
    "\n",
    "print(\"MSE\")\n",
    "print(mean(ABC_GAN3_metrics[0]))"
   ]
  },
  {
   "cell_type": "code",
   "execution_count": 18,
   "id": "c8e46b48",
   "metadata": {
    "execution": {
     "iopub.execute_input": "2022-06-22T11:37:09.214630Z",
     "iopub.status.busy": "2022-06-22T11:37:09.213858Z",
     "iopub.status.idle": "2022-06-22T11:37:10.087597Z",
     "shell.execute_reply": "2022-06-22T11:37:10.088263Z"
    },
    "id": "c8e46b48",
    "papermill": {
     "duration": 0.936048,
     "end_time": "2022-06-22T11:37:10.088564",
     "exception": false,
     "start_time": "2022-06-22T11:37:09.152516",
     "status": "completed"
    },
    "tags": []
   },
   "outputs": [
    {
     "data": {
      "image/png": "[encoded data removed]",
      "text/plain": [
       "<Figure size 432x288 with 1 Axes>"
      ]
     },
     "metadata": {
      "needs_background": "light"
     },
     "output_type": "display_data"
    },
    {
     "data": {
      "image/png": "[encoded data removed]",
      "text/plain": [
       "<Figure size 432x288 with 1 Axes>"
      ]
     },
     "metadata": {
      "needs_background": "light"
     },
     "output_type": "display_data"
    },
    {
     "data": {
      "image/png": "[encoded data removed]",
      "text/plain": [
       "<Figure size 432x288 with 1 Axes>"
      ]
     },
     "metadata": {
      "needs_background": "light"
     },
     "output_type": "display_data"
    },
    {
     "data": {
      "image/png": "[encoded data removed]",
      "text/plain": [
       "<Figure size 432x288 with 1 Axes>"
      ]
     },
     "metadata": {
      "needs_background": "light"
     },
     "output_type": "display_data"
    }
   ],
   "source": [
    "sanityChecks.discProbVsError(train_data,disc3,device)\n",
    "sanityChecks.discProbVsError(test_data,disc3,device)"
   ]
  },
  {
   "cell_type": "markdown",
   "id": "a5bd74c3",
   "metadata": {
    "id": "a5bd74c3",
    "papermill": {
     "duration": 0.081045,
     "end_time": "2022-06-22T11:37:10.243944",
     "exception": false,
     "start_time": "2022-06-22T11:37:10.162899",
     "status": "completed"
    },
    "tags": []
   },
   "source": [
    "## Skip Connection Model Analysis - ABC-GAN "
   ]
  },
  {
   "cell_type": "markdown",
   "id": "5744a8bf",
   "metadata": {
    "id": "5744a8bf",
    "papermill": {
     "duration": 0.07743,
     "end_time": "2022-06-22T11:37:10.398643",
     "exception": false,
     "start_time": "2022-06-22T11:37:10.321213",
     "status": "completed"
    },
    "tags": []
   },
   "source": [
    "### Weight Analysis \n",
    "\n",
    "Study the weights of the skip connection layer\n",
    "\n",
    "Equation of the skip connection is \n",
    "\n",
    "$output = y_{gan} * w + y_{abc} * (1-w)$"
   ]
  },
  {
   "cell_type": "code",
   "execution_count": 19,
   "id": "52c31dea",
   "metadata": {
    "execution": {
     "iopub.execute_input": "2022-06-22T11:37:10.543947Z",
     "iopub.status.busy": "2022-06-22T11:37:10.542681Z",
     "iopub.status.idle": "2022-06-22T11:37:10.571456Z",
     "shell.execute_reply": "2022-06-22T11:37:10.571956Z"
    },
    "id": "52c31dea",
    "papermill": {
     "duration": 0.109923,
     "end_time": "2022-06-22T11:37:10.572187",
     "exception": false,
     "start_time": "2022-06-22T11:37:10.462264",
     "status": "completed"
    },
    "tags": []
   },
   "outputs": [
    {
     "name": "stdout",
     "output_type": "stream",
     "text": [
      "Weight of the node at skip connection\n",
      "Parameter containing:\n",
      "tensor([[0.1688]], requires_grad=True)\n"
     ]
    },
    {
     "data": {
      "application/scrapbook.scrap.json+json": {
       "data": 0.16883625090122223,
       "encoder": "json",
       "name": "Skip Connection Weight",
       "version": 1
      }
     },
     "metadata": {
      "scrapbook": {
       "data": true,
       "display": false,
       "name": "Skip Connection Weight"
      }
     },
     "output_type": "display_data"
    }
   ],
   "source": [
    "print(\"Weight of the node at skip connection\")\n",
    "for name,param in gen3.named_parameters():\n",
    "    if(name == \"skipNode.weight\"):\n",
    "        print(param)\n",
    "        sb.glue(\"Skip Connection Weight\",param.item())"
   ]
  }
 ],
 "metadata": {
  "colab": {
   "collapsed_sections": [],
   "name": "ABC_GAN_Model-Catboost_Pre-gen.ipynb",
   "provenance": []
  },
  "interpreter": {
   "hash": "31f2aee4e71d21fbe5cf8b01ff0e069b9275f58929596ceb00d14d90e3e16cd6"
  },
  "kernelspec": {
   "display_name": "Python 3 (ipykernel)",
   "language": "python",
   "name": "python3"
  },
  "language_info": {
   "codemirror_mode": {
    "name": "ipython",
    "version": 3
   },
   "file_extension": ".py",
   "mimetype": "text/x-python",
   "name": "python",
   "nbconvert_exporter": "python",
   "pygments_lexer": "ipython3",
   "version": "3.8.3"
  },
  "papermill": {
   "default_parameters": {},
   "duration": 174.759083,
   "end_time": "2022-06-22T11:37:11.962821",
   "environment_variables": {},
   "exception": null,
   "input_path": "ABC_GAN-TabNet.ipynb",
   "output_path": "./ABC_GAN_TabNet/ABC-GAN_output_1_4.ipynb",
   "parameters": {
    "bias": 0.1,
    "variance": 0.1
   },
   "start_time": "2022-06-22T11:34:17.203738",
   "version": "2.3.3"
  }
 },
 "nbformat": 4,
 "nbformat_minor": 5
}