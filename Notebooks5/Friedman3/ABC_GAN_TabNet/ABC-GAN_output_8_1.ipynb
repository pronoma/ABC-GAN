{
 "cells": [
  {
   "cell_type": "markdown",
   "id": "622780e6",
   "metadata": {
    "id": "622780e6",
    "papermill": {
     "duration": 0.024561,
     "end_time": "2022-06-22T15:16:02.461332",
     "exception": false,
     "start_time": "2022-06-22T15:16:02.436771",
     "status": "completed"
    },
    "tags": []
   },
   "source": [
    "## Import Libraries "
   ]
  },
  {
   "cell_type": "code",
   "execution_count": 1,
   "id": "a62397e3",
   "metadata": {
    "execution": {
     "iopub.execute_input": "2022-06-22T15:16:02.508729Z",
     "iopub.status.busy": "2022-06-22T15:16:02.507934Z",
     "iopub.status.idle": "2022-06-22T15:16:02.511066Z",
     "shell.execute_reply": "2022-06-22T15:16:02.511657Z"
    },
    "id": "a62397e3",
    "papermill": {
     "duration": 0.032642,
     "end_time": "2022-06-22T15:16:02.512391",
     "exception": false,
     "start_time": "2022-06-22T15:16:02.479749",
     "status": "completed"
    },
    "tags": []
   },
   "outputs": [],
   "source": [
    "import warnings\n",
    "import sys\n",
    "sys.path.insert(0, '../../src')\n",
    "warnings.filterwarnings('ignore')"
   ]
  },
  {
   "cell_type": "code",
   "execution_count": 2,
   "id": "d6a4e155",
   "metadata": {
    "execution": {
     "iopub.execute_input": "2022-06-22T15:16:02.562644Z",
     "iopub.status.busy": "2022-06-22T15:16:02.561839Z",
     "iopub.status.idle": "2022-06-22T15:16:08.377978Z",
     "shell.execute_reply": "2022-06-22T15:16:08.379129Z"
    },
    "id": "d6a4e155",
    "papermill": {
     "duration": 5.847329,
     "end_time": "2022-06-22T15:16:08.379386",
     "exception": false,
     "start_time": "2022-06-22T15:16:02.532057",
     "status": "completed"
    },
    "tags": []
   },
   "outputs": [],
   "source": [
    "import ABC_train_test2\n",
    "import friedman3Dataset\n",
    "import network\n",
    "import dataset\n",
    "import sanityChecks\n",
    "import torch \n",
    "import scrapbook as sb\n",
    "from statistics import mean \n",
    "import catboost as ctb \n",
    "from sklearn.model_selection import train_test_split\n",
    "from sklearn.metrics import mean_squared_error,mean_absolute_error\n",
    "import numpy as np\n",
    "from pytorch_tabnet.tab_model import TabNetRegressor"
   ]
  },
  {
   "cell_type": "markdown",
   "id": "2fa5b0f7",
   "metadata": {
    "id": "2fa5b0f7",
    "papermill": {
     "duration": 0.017622,
     "end_time": "2022-06-22T15:16:08.412812",
     "exception": false,
     "start_time": "2022-06-22T15:16:08.395190",
     "status": "completed"
    },
    "tags": []
   },
   "source": [
    "## Parameters "
   ]
  },
  {
   "cell_type": "code",
   "execution_count": 3,
   "id": "783186fb",
   "metadata": {
    "execution": {
     "iopub.execute_input": "2022-06-22T15:16:08.452402Z",
     "iopub.status.busy": "2022-06-22T15:16:08.451602Z",
     "iopub.status.idle": "2022-06-22T15:16:08.454607Z",
     "shell.execute_reply": "2022-06-22T15:16:08.455372Z"
    },
    "id": "783186fb",
    "papermill": {
     "duration": 0.027187,
     "end_time": "2022-06-22T15:16:08.455600",
     "exception": false,
     "start_time": "2022-06-22T15:16:08.428413",
     "status": "completed"
    },
    "tags": [
     "parameters"
    ]
   },
   "outputs": [],
   "source": [
    "variance = 1\n",
    "bias = 1 "
   ]
  },
  {
   "cell_type": "code",
   "execution_count": 4,
   "id": "d9dcd0a8",
   "metadata": {
    "execution": {
     "iopub.execute_input": "2022-06-22T15:16:08.504066Z",
     "iopub.status.busy": "2022-06-22T15:16:08.501439Z",
     "iopub.status.idle": "2022-06-22T15:16:08.505451Z",
     "shell.execute_reply": "2022-06-22T15:16:08.504794Z"
    },
    "papermill": {
     "duration": 0.033835,
     "end_time": "2022-06-22T15:16:08.507848",
     "exception": false,
     "start_time": "2022-06-22T15:16:08.474013",
     "status": "completed"
    },
    "tags": [
     "injected-parameters"
    ]
   },
   "outputs": [],
   "source": [
    "# Parameters\n",
    "variance = 0.1\n",
    "bias = 1\n"
   ]
  },
  {
   "cell_type": "markdown",
   "id": "391cdbfd",
   "metadata": {
    "id": "391cdbfd",
    "papermill": {
     "duration": 0.05562,
     "end_time": "2022-06-22T15:16:08.584185",
     "exception": false,
     "start_time": "2022-06-22T15:16:08.528565",
     "status": "completed"
    },
    "tags": []
   },
   "source": [
    "## Dataset \n"
   ]
  },
  {
   "cell_type": "code",
   "execution_count": 5,
   "id": "5b51f161",
   "metadata": {
    "execution": {
     "iopub.execute_input": "2022-06-22T15:16:08.620442Z",
     "iopub.status.busy": "2022-06-22T15:16:08.618736Z",
     "iopub.status.idle": "2022-06-22T15:16:08.621481Z",
     "shell.execute_reply": "2022-06-22T15:16:08.621931Z"
    },
    "id": "5b51f161",
    "papermill": {
     "duration": 0.023541,
     "end_time": "2022-06-22T15:16:08.622130",
     "exception": false,
     "start_time": "2022-06-22T15:16:08.598589",
     "status": "completed"
    },
    "tags": []
   },
   "outputs": [],
   "source": [
    "#Parameters \n",
    "n_features = 4\n",
    "n_samples= 100\n",
    "n_target = 1"
   ]
  },
  {
   "cell_type": "code",
   "execution_count": 6,
   "id": "5d6eced4",
   "metadata": {
    "execution": {
     "iopub.execute_input": "2022-06-22T15:16:08.676579Z",
     "iopub.status.busy": "2022-06-22T15:16:08.665767Z",
     "iopub.status.idle": "2022-06-22T15:16:08.682590Z",
     "shell.execute_reply": "2022-06-22T15:16:08.683136Z"
    },
    "id": "5d6eced4",
    "papermill": {
     "duration": 0.047912,
     "end_time": "2022-06-22T15:16:08.683363",
     "exception": false,
     "start_time": "2022-06-22T15:16:08.635451",
     "status": "completed"
    },
    "tags": []
   },
   "outputs": [
    {
     "name": "stdout",
     "output_type": "stream",
     "text": [
      "          X1           X2        X3         X4         Y\n",
      "0  81.598196  1600.032139  0.254664   6.620985  1.260867\n",
      "1  92.035814  1695.135466  0.763768   8.554872  1.600617\n",
      "2  96.193463   923.093957  0.172780   8.355380  1.024783\n",
      "3  69.911382   497.194700  0.283042  10.550040  1.154365\n",
      "4  77.879671   625.855406  0.408194   9.995472  1.310415\n"
     ]
    }
   ],
   "source": [
    "X,Y = friedman3Dataset.friedman3_data(n_samples)"
   ]
  },
  {
   "cell_type": "code",
   "execution_count": 7,
   "id": "fe007438",
   "metadata": {
    "execution": {
     "iopub.execute_input": "2022-06-22T15:16:08.720012Z",
     "iopub.status.busy": "2022-06-22T15:16:08.718742Z",
     "iopub.status.idle": "2022-06-22T15:16:08.723196Z",
     "shell.execute_reply": "2022-06-22T15:16:08.722664Z"
    },
    "id": "fe007438",
    "papermill": {
     "duration": 0.025546,
     "end_time": "2022-06-22T15:16:08.723409",
     "exception": false,
     "start_time": "2022-06-22T15:16:08.697863",
     "status": "completed"
    },
    "tags": []
   },
   "outputs": [],
   "source": [
    "#Train test split for dataset \n",
    "X_train,X_test,Y_train,Y_test = train_test_split(X,Y,test_size = 0.2)\n",
    "train_data = dataset.CustomDataset(X_train,Y_train)\n",
    "test_data = dataset.CustomDataset(X_test,Y_test)\n"
   ]
  },
  {
   "cell_type": "markdown",
   "id": "a9a1af34",
   "metadata": {
    "id": "a9a1af34",
    "papermill": {
     "duration": 0.018353,
     "end_time": "2022-06-22T15:16:08.758582",
     "exception": false,
     "start_time": "2022-06-22T15:16:08.740229",
     "status": "completed"
    },
    "tags": []
   },
   "source": [
    "## Training Parameters "
   ]
  },
  {
   "cell_type": "code",
   "execution_count": 8,
   "id": "952b7fc8",
   "metadata": {
    "execution": {
     "iopub.execute_input": "2022-06-22T15:16:08.803815Z",
     "iopub.status.busy": "2022-06-22T15:16:08.802385Z",
     "iopub.status.idle": "2022-06-22T15:16:08.806056Z",
     "shell.execute_reply": "2022-06-22T15:16:08.806552Z"
    },
    "id": "952b7fc8",
    "papermill": {
     "duration": 0.032559,
     "end_time": "2022-06-22T15:16:08.806795",
     "exception": false,
     "start_time": "2022-06-22T15:16:08.774236",
     "status": "completed"
    },
    "tags": []
   },
   "outputs": [],
   "source": [
    "batch_size = 32\n",
    "n_epochs = 1000\n",
    "#Select the device \n",
    "device = torch.device('cuda' if torch.cuda.is_available() else 'cpu')"
   ]
  },
  {
   "cell_type": "markdown",
   "id": "a95e1600",
   "metadata": {
    "id": "a95e1600",
    "papermill": {
     "duration": 0.018167,
     "end_time": "2022-06-22T15:16:08.842164",
     "exception": false,
     "start_time": "2022-06-22T15:16:08.823997",
     "status": "completed"
    },
    "tags": []
   },
   "source": [
    "# ABC Pre-generator Model \n",
    "\n",
    "1. The catboost model is used as a pre-generator model for the ABC-GAN. \n",
    "2. The model is first trained on the entire dataset \n",
    "3. It generats X,Y pairs and we add some Gaussian noise with mean 0 and variance 1 to it which is then feed as input to the generator.\n"
   ]
  },
  {
   "cell_type": "code",
   "execution_count": 9,
   "id": "ff8ce7bd",
   "metadata": {
    "execution": {
     "iopub.execute_input": "2022-06-22T15:16:08.894991Z",
     "iopub.status.busy": "2022-06-22T15:16:08.889035Z",
     "iopub.status.idle": "2022-06-22T15:16:18.278054Z",
     "shell.execute_reply": "2022-06-22T15:16:18.277458Z"
    },
    "id": "ff8ce7bd",
    "papermill": {
     "duration": 9.415859,
     "end_time": "2022-06-22T15:16:18.278307",
     "exception": false,
     "start_time": "2022-06-22T15:16:08.862448",
     "status": "completed"
    },
    "tags": []
   },
   "outputs": [
    {
     "name": "stdout",
     "output_type": "stream",
     "text": [
      "Device used : cpu\n"
     ]
    },
    {
     "name": "stdout",
     "output_type": "stream",
     "text": [
      "epoch 0  | loss: 1.3967  | train_mse: 4.77355 | train_mae: 1.66176 |  0:00:00s\n",
      "epoch 1  | loss: 0.97796 | train_mse: 2.83099 | train_mae: 1.31096 |  0:00:00s\n",
      "epoch 2  | loss: 0.86861 | train_mse: 1.97844 | train_mae: 1.02319 |  0:00:00s\n"
     ]
    },
    {
     "name": "stdout",
     "output_type": "stream",
     "text": [
      "epoch 3  | loss: 0.7631  | train_mse: 1.70821 | train_mae: 0.96745 |  0:00:00s\n",
      "epoch 4  | loss: 0.78899 | train_mse: 1.89142 | train_mae: 1.03991 |  0:00:00s\n",
      "epoch 5  | loss: 0.85825 | train_mse: 1.80331 | train_mae: 1.0657  |  0:00:00s\n"
     ]
    },
    {
     "name": "stdout",
     "output_type": "stream",
     "text": [
      "epoch 6  | loss: 0.83958 | train_mse: 1.43771 | train_mae: 0.90825 |  0:00:00s\n"
     ]
    },
    {
     "name": "stdout",
     "output_type": "stream",
     "text": [
      "epoch 7  | loss: 0.86959 | train_mse: 1.19712 | train_mae: 0.76102 |  0:00:01s\n",
      "epoch 8  | loss: 0.83543 | train_mse: 1.08476 | train_mae: 0.72406 |  0:00:01s\n",
      "epoch 9  | loss: 0.69326 | train_mse: 1.32931 | train_mae: 0.81753 |  0:00:01s\n"
     ]
    },
    {
     "name": "stdout",
     "output_type": "stream",
     "text": [
      "epoch 10 | loss: 0.66777 | train_mse: 1.00106 | train_mae: 0.74567 |  0:00:01s\n",
      "epoch 11 | loss: 0.53628 | train_mse: 1.0641  | train_mae: 0.76837 |  0:00:01s\n",
      "epoch 12 | loss: 0.64073 | train_mse: 1.27984 | train_mae: 0.80585 |  0:00:01s\n"
     ]
    },
    {
     "name": "stdout",
     "output_type": "stream",
     "text": [
      "epoch 13 | loss: 0.52952 | train_mse: 0.8692  | train_mae: 0.69062 |  0:00:01s\n",
      "epoch 14 | loss: 0.59473 | train_mse: 1.02051 | train_mae: 0.70381 |  0:00:01s\n",
      "epoch 15 | loss: 0.64167 | train_mse: 1.2906  | train_mae: 0.81131 |  0:00:01s\n",
      "epoch 16 | loss: 0.62005 | train_mse: 1.15533 | train_mae: 0.78333 |  0:00:01s\n"
     ]
    },
    {
     "name": "stdout",
     "output_type": "stream",
     "text": [
      "epoch 17 | loss: 0.7127  | train_mse: 0.91357 | train_mae: 0.69316 |  0:00:01s\n",
      "epoch 18 | loss: 0.52419 | train_mse: 1.00351 | train_mae: 0.71824 |  0:00:01s\n",
      "epoch 19 | loss: 0.63539 | train_mse: 1.21273 | train_mae: 0.76736 |  0:00:01s\n",
      "epoch 20 | loss: 0.61368 | train_mse: 0.94025 | train_mae: 0.68012 |  0:00:01s\n"
     ]
    },
    {
     "name": "stdout",
     "output_type": "stream",
     "text": [
      "epoch 21 | loss: 0.63223 | train_mse: 0.61141 | train_mae: 0.57798 |  0:00:01s\n",
      "epoch 22 | loss: 0.5023  | train_mse: 0.58403 | train_mae: 0.56475 |  0:00:02s\n",
      "epoch 23 | loss: 0.42152 | train_mse: 0.61709 | train_mae: 0.56622 |  0:00:02s\n"
     ]
    },
    {
     "name": "stdout",
     "output_type": "stream",
     "text": [
      "epoch 24 | loss: 0.47807 | train_mse: 0.64073 | train_mae: 0.59328 |  0:00:02s\n",
      "epoch 25 | loss: 0.5008  | train_mse: 0.48069 | train_mae: 0.4996  |  0:00:02s\n"
     ]
    },
    {
     "name": "stdout",
     "output_type": "stream",
     "text": [
      "epoch 26 | loss: 0.42635 | train_mse: 0.40476 | train_mae: 0.4514  |  0:00:02s\n",
      "epoch 27 | loss: 0.41581 | train_mse: 0.40411 | train_mae: 0.45898 |  0:00:02s\n",
      "epoch 28 | loss: 0.38298 | train_mse: 0.41073 | train_mae: 0.45497 |  0:00:02s\n",
      "epoch 29 | loss: 0.41417 | train_mse: 0.46826 | train_mae: 0.48758 |  0:00:02s\n"
     ]
    },
    {
     "name": "stdout",
     "output_type": "stream",
     "text": [
      "epoch 30 | loss: 0.37839 | train_mse: 0.55951 | train_mae: 0.52638 |  0:00:02s\n",
      "epoch 31 | loss: 0.31378 | train_mse: 0.38594 | train_mae: 0.41645 |  0:00:02s\n",
      "epoch 32 | loss: 0.3541  | train_mse: 0.36524 | train_mae: 0.40307 |  0:00:02s\n",
      "epoch 33 | loss: 0.44504 | train_mse: 0.35942 | train_mae: 0.38907 |  0:00:02s\n"
     ]
    },
    {
     "name": "stdout",
     "output_type": "stream",
     "text": [
      "epoch 34 | loss: 0.43935 | train_mse: 0.39254 | train_mae: 0.43414 |  0:00:02s\n",
      "epoch 35 | loss: 0.35908 | train_mse: 0.41249 | train_mae: 0.45644 |  0:00:03s\n",
      "epoch 36 | loss: 0.35197 | train_mse: 0.39822 | train_mae: 0.43966 |  0:00:03s\n",
      "epoch 37 | loss: 0.42896 | train_mse: 0.40157 | train_mae: 0.44095 |  0:00:03s\n"
     ]
    },
    {
     "name": "stdout",
     "output_type": "stream",
     "text": [
      "epoch 38 | loss: 0.47337 | train_mse: 0.49222 | train_mae: 0.48742 |  0:00:03s\n",
      "epoch 39 | loss: 0.57068 | train_mse: 0.54849 | train_mae: 0.50395 |  0:00:03s\n",
      "epoch 40 | loss: 0.3882  | train_mse: 0.39932 | train_mae: 0.41405 |  0:00:03s\n"
     ]
    },
    {
     "name": "stdout",
     "output_type": "stream",
     "text": [
      "epoch 41 | loss: 0.35865 | train_mse: 0.35331 | train_mae: 0.39699 |  0:00:03s\n",
      "epoch 42 | loss: 0.50746 | train_mse: 0.36288 | train_mae: 0.40669 |  0:00:03s\n",
      "epoch 43 | loss: 0.45066 | train_mse: 0.35204 | train_mae: 0.39178 |  0:00:03s\n",
      "epoch 44 | loss: 0.34032 | train_mse: 0.41095 | train_mae: 0.42973 |  0:00:03s\n"
     ]
    },
    {
     "name": "stdout",
     "output_type": "stream",
     "text": [
      "epoch 45 | loss: 0.61321 | train_mse: 0.43734 | train_mae: 0.44788 |  0:00:03s\n",
      "epoch 46 | loss: 0.51292 | train_mse: 0.35614 | train_mae: 0.36081 |  0:00:03s\n",
      "epoch 47 | loss: 0.33591 | train_mse: 0.33469 | train_mae: 0.34371 |  0:00:03s\n"
     ]
    },
    {
     "name": "stdout",
     "output_type": "stream",
     "text": [
      "epoch 48 | loss: 0.38821 | train_mse: 0.35477 | train_mae: 0.44563 |  0:00:03s\n",
      "epoch 49 | loss: 0.31273 | train_mse: 0.32122 | train_mae: 0.43159 |  0:00:03s\n",
      "epoch 50 | loss: 0.25455 | train_mse: 0.23691 | train_mae: 0.37234 |  0:00:04s\n",
      "epoch 51 | loss: 0.25921 | train_mse: 0.20439 | train_mae: 0.3556  |  0:00:04s\n",
      "epoch 52 | loss: 0.48777 | train_mse: 0.18231 | train_mae: 0.34922 |  0:00:04s\n"
     ]
    },
    {
     "name": "stdout",
     "output_type": "stream",
     "text": [
      "epoch 53 | loss: 0.24986 | train_mse: 0.31039 | train_mae: 0.41799 |  0:00:04s\n",
      "epoch 54 | loss: 0.19326 | train_mse: 0.53214 | train_mae: 0.51384 |  0:00:04s\n",
      "epoch 55 | loss: 0.2033  | train_mse: 0.54538 | train_mae: 0.51415 |  0:00:04s\n"
     ]
    },
    {
     "name": "stdout",
     "output_type": "stream",
     "text": [
      "epoch 56 | loss: 0.30585 | train_mse: 0.34397 | train_mae: 0.43169 |  0:00:04s\n",
      "epoch 57 | loss: 0.3081  | train_mse: 0.1881  | train_mae: 0.34718 |  0:00:04s\n",
      "epoch 58 | loss: 0.24574 | train_mse: 0.14698 | train_mae: 0.30471 |  0:00:04s\n"
     ]
    },
    {
     "name": "stdout",
     "output_type": "stream",
     "text": [
      "epoch 59 | loss: 0.15318 | train_mse: 0.17742 | train_mae: 0.32983 |  0:00:04s\n",
      "epoch 60 | loss: 0.16537 | train_mse: 0.19722 | train_mae: 0.34423 |  0:00:04s\n",
      "epoch 61 | loss: 0.42291 | train_mse: 0.17474 | train_mae: 0.33311 |  0:00:04s\n"
     ]
    },
    {
     "name": "stdout",
     "output_type": "stream",
     "text": [
      "epoch 62 | loss: 0.14539 | train_mse: 0.12269 | train_mae: 0.28815 |  0:00:04s\n",
      "epoch 63 | loss: 0.42556 | train_mse: 0.11736 | train_mae: 0.29214 |  0:00:04s\n",
      "epoch 64 | loss: 0.26612 | train_mse: 0.14651 | train_mae: 0.31832 |  0:00:05s\n"
     ]
    },
    {
     "name": "stdout",
     "output_type": "stream",
     "text": [
      "epoch 65 | loss: 0.13847 | train_mse: 0.13025 | train_mae: 0.29814 |  0:00:05s\n",
      "epoch 66 | loss: 0.31205 | train_mse: 0.13135 | train_mae: 0.29346 |  0:00:05s\n",
      "epoch 67 | loss: 0.25439 | train_mse: 0.22725 | train_mae: 0.36013 |  0:00:05s\n"
     ]
    },
    {
     "name": "stdout",
     "output_type": "stream",
     "text": [
      "epoch 68 | loss: 0.13936 | train_mse: 0.17059 | train_mae: 0.31806 |  0:00:05s\n",
      "epoch 69 | loss: 0.18114 | train_mse: 0.09731 | train_mae: 0.25176 |  0:00:05s\n",
      "epoch 70 | loss: 0.14995 | train_mse: 0.08925 | train_mae: 0.24305 |  0:00:05s\n"
     ]
    },
    {
     "name": "stdout",
     "output_type": "stream",
     "text": [
      "epoch 71 | loss: 0.24683 | train_mse: 0.1003  | train_mae: 0.25436 |  0:00:05s\n",
      "epoch 72 | loss: 0.27704 | train_mse: 0.10001 | train_mae: 0.23732 |  0:00:05s\n",
      "epoch 73 | loss: 0.13655 | train_mse: 0.0972  | train_mae: 0.24219 |  0:00:05s\n"
     ]
    },
    {
     "name": "stdout",
     "output_type": "stream",
     "text": [
      "epoch 74 | loss: 0.27683 | train_mse: 0.09265 | train_mae: 0.24295 |  0:00:05s\n",
      "epoch 75 | loss: 0.271   | train_mse: 0.08992 | train_mae: 0.23367 |  0:00:05s\n",
      "epoch 76 | loss: 0.17342 | train_mse: 0.1072  | train_mae: 0.25505 |  0:00:06s\n"
     ]
    },
    {
     "name": "stdout",
     "output_type": "stream",
     "text": [
      "epoch 77 | loss: 0.18391 | train_mse: 0.10994 | train_mae: 0.26275 |  0:00:06s\n",
      "epoch 78 | loss: 0.1904  | train_mse: 0.15037 | train_mae: 0.29812 |  0:00:06s\n",
      "epoch 79 | loss: 0.27739 | train_mse: 0.162   | train_mae: 0.31649 |  0:00:06s\n",
      "epoch 80 | loss: 0.15173 | train_mse: 0.10928 | train_mae: 0.26961 |  0:00:06s\n"
     ]
    },
    {
     "name": "stdout",
     "output_type": "stream",
     "text": [
      "epoch 81 | loss: 0.14836 | train_mse: 0.08709 | train_mae: 0.23704 |  0:00:06s\n",
      "epoch 82 | loss: 0.28545 | train_mse: 0.12209 | train_mae: 0.26527 |  0:00:06s\n",
      "epoch 83 | loss: 0.1915  | train_mse: 0.13537 | train_mae: 0.27149 |  0:00:06s\n",
      "epoch 84 | loss: 0.16259 | train_mse: 0.12597 | train_mae: 0.26726 |  0:00:06s\n"
     ]
    },
    {
     "name": "stdout",
     "output_type": "stream",
     "text": [
      "epoch 85 | loss: 0.13453 | train_mse: 0.09228 | train_mae: 0.2438  |  0:00:06s\n",
      "epoch 86 | loss: 0.24518 | train_mse: 0.10359 | train_mae: 0.25381 |  0:00:06s\n",
      "epoch 87 | loss: 0.18915 | train_mse: 0.09296 | train_mae: 0.24791 |  0:00:06s\n",
      "epoch 88 | loss: 0.14657 | train_mse: 0.1589  | train_mae: 0.3035  |  0:00:06s\n"
     ]
    },
    {
     "name": "stdout",
     "output_type": "stream",
     "text": [
      "epoch 89 | loss: 0.2471  | train_mse: 0.17665 | train_mae: 0.31925 |  0:00:06s\n",
      "epoch 90 | loss: 0.13005 | train_mse: 0.15285 | train_mae: 0.29364 |  0:00:06s\n",
      "epoch 91 | loss: 0.15723 | train_mse: 0.10571 | train_mae: 0.25743 |  0:00:07s\n",
      "epoch 92 | loss: 0.24275 | train_mse: 0.13205 | train_mae: 0.29618 |  0:00:07s\n"
     ]
    },
    {
     "name": "stdout",
     "output_type": "stream",
     "text": [
      "epoch 93 | loss: 0.15477 | train_mse: 0.19137 | train_mae: 0.33711 |  0:00:07s\n",
      "epoch 94 | loss: 0.1337  | train_mse: 0.15027 | train_mae: 0.30234 |  0:00:07s\n",
      "epoch 95 | loss: 0.12284 | train_mse: 0.11953 | train_mae: 0.26129 |  0:00:07s\n",
      "epoch 96 | loss: 0.18775 | train_mse: 0.14829 | train_mae: 0.28999 |  0:00:07s\n"
     ]
    },
    {
     "name": "stdout",
     "output_type": "stream",
     "text": [
      "epoch 97 | loss: 0.15363 | train_mse: 0.1578  | train_mae: 0.30672 |  0:00:07s\n",
      "epoch 98 | loss: 0.23076 | train_mse: 0.16803 | train_mae: 0.31119 |  0:00:07s\n",
      "epoch 99 | loss: 0.14988 | train_mse: 0.14358 | train_mae: 0.29196 |  0:00:07s\n",
      "epoch 100| loss: 0.35964 | train_mse: 0.11609 | train_mae: 0.26812 |  0:00:07s\n"
     ]
    },
    {
     "name": "stdout",
     "output_type": "stream",
     "text": [
      "epoch 101| loss: 0.29267 | train_mse: 0.18585 | train_mae: 0.32087 |  0:00:07s\n",
      "epoch 102| loss: 0.18669 | train_mse: 0.25133 | train_mae: 0.36231 |  0:00:07s\n",
      "epoch 103| loss: 0.21373 | train_mse: 0.22437 | train_mae: 0.34715 |  0:00:07s\n",
      "epoch 104| loss: 0.18006 | train_mse: 0.19368 | train_mae: 0.33306 |  0:00:07s\n"
     ]
    },
    {
     "name": "stdout",
     "output_type": "stream",
     "text": [
      "epoch 105| loss: 0.19661 | train_mse: 0.15863 | train_mae: 0.3105  |  0:00:07s\n",
      "epoch 106| loss: 0.18151 | train_mse: 0.20855 | train_mae: 0.35312 |  0:00:07s\n",
      "epoch 107| loss: 0.50122 | train_mse: 0.25354 | train_mae: 0.37741 |  0:00:08s\n",
      "epoch 108| loss: 0.26237 | train_mse: 0.24848 | train_mae: 0.37337 |  0:00:08s\n"
     ]
    },
    {
     "name": "stdout",
     "output_type": "stream",
     "text": [
      "epoch 109| loss: 0.19782 | train_mse: 0.15062 | train_mae: 0.30296 |  0:00:08s\n",
      "epoch 110| loss: 0.1913  | train_mse: 0.12076 | train_mae: 0.27449 |  0:00:08s\n",
      "epoch 111| loss: 0.26524 | train_mse: 0.10959 | train_mae: 0.26853 |  0:00:08s\n"
     ]
    },
    {
     "name": "stdout",
     "output_type": "stream",
     "text": [
      "epoch 112| loss: 0.1049  | train_mse: 0.10115 | train_mae: 0.26292 |  0:00:08s\n",
      "epoch 113| loss: 0.15863 | train_mse: 0.14242 | train_mae: 0.30905 |  0:00:08s\n",
      "epoch 114| loss: 0.1566  | train_mse: 0.18289 | train_mae: 0.33238 |  0:00:08s\n",
      "epoch 115| loss: 0.14491 | train_mse: 0.12217 | train_mae: 0.26969 |  0:00:08s\n"
     ]
    },
    {
     "name": "stdout",
     "output_type": "stream",
     "text": [
      "epoch 116| loss: 0.14757 | train_mse: 0.10595 | train_mae: 0.25393 |  0:00:08s\n",
      "epoch 117| loss: 0.11722 | train_mse: 0.11564 | train_mae: 0.26325 |  0:00:08s\n",
      "epoch 118| loss: 0.1401  | train_mse: 0.13515 | train_mae: 0.28061 |  0:00:08s\n"
     ]
    },
    {
     "name": "stdout",
     "output_type": "stream",
     "text": [
      "epoch 119| loss: 0.33397 | train_mse: 0.12131 | train_mae: 0.26631 |  0:00:08s\n",
      "epoch 120| loss: 0.13698 | train_mse: 0.10624 | train_mae: 0.25461 |  0:00:09s\n",
      "epoch 121| loss: 0.17244 | train_mse: 0.10985 | train_mae: 0.25764 |  0:00:09s\n"
     ]
    },
    {
     "name": "stdout",
     "output_type": "stream",
     "text": [
      "epoch 122| loss: 0.18418 | train_mse: 0.14468 | train_mae: 0.28534 |  0:00:09s\n",
      "epoch 123| loss: 0.22687 | train_mse: 0.13082 | train_mae: 0.27625 |  0:00:09s\n",
      "epoch 124| loss: 0.10574 | train_mse: 0.11182 | train_mae: 0.26243 |  0:00:09s\n",
      "epoch 125| loss: 0.16568 | train_mse: 0.09581 | train_mae: 0.23721 |  0:00:09s\n"
     ]
    },
    {
     "name": "stdout",
     "output_type": "stream",
     "text": [
      "\n",
      "Early stopping occurred at epoch 125 with best_epoch = 75 and best_train_mae = 0.23367\n",
      "Best weights from best epoch are automatically used!\n"
     ]
    }
   ],
   "source": [
    "#Train the Model\n",
    "\n",
    "Y_train = np.reshape(Y_train, (-1, 1))\n",
    "Y_test = np.reshape(Y_test, (-1, 1))\n",
    "\n",
    "prior_model = TabNetRegressor(optimizer_fn=torch.optim.Adam, optimizer_params=dict(lr = 0.02),\n",
    "          #scheduler_params={\"step_size\":10, ], \"gamma\":0.9},\n",
    "          #scheduler_fn=torch.optim.lr_scheduler.StepLR\n",
    "          )  #TabNetRegressor()\n",
    "\n",
    "prior_model.fit(X_train,Y_train,eval_set=[(X_train, Y_train)],\n",
    "            eval_name=['train'], \n",
    "            eval_metric=[ 'mse', 'mae'], \n",
    "            max_epochs = n_epochs, \n",
    "            batch_size = batch_size,\n",
    "            patience=50\n",
    "            )"
   ]
  },
  {
   "cell_type": "code",
   "execution_count": 10,
   "id": "af65dcda",
   "metadata": {
    "execution": {
     "iopub.execute_input": "2022-06-22T15:16:18.337637Z",
     "iopub.status.busy": "2022-06-22T15:16:18.336681Z",
     "iopub.status.idle": "2022-06-22T15:16:18.358098Z",
     "shell.execute_reply": "2022-06-22T15:16:18.358639Z"
    },
    "id": "af65dcda",
    "papermill": {
     "duration": 0.054418,
     "end_time": "2022-06-22T15:16:18.358870",
     "exception": false,
     "start_time": "2022-06-22T15:16:18.304452",
     "status": "completed"
    },
    "tags": []
   },
   "outputs": [
    {
     "data": {
      "application/scrapbook.scrap.json+json": {
       "data": 0.2680139136137641,
       "encoder": "json",
       "name": "Prior Model MSE",
       "version": 1
      }
     },
     "metadata": {
      "scrapbook": {
       "data": true,
       "display": false,
       "name": "Prior Model MSE"
      }
     },
     "output_type": "display_data"
    },
    {
     "data": {
      "application/scrapbook.scrap.json+json": {
       "data": 1.7544562316333192,
       "encoder": "json",
       "name": "ABC Pre-generator MSE",
       "version": 1
      }
     },
     "metadata": {
      "scrapbook": {
       "data": true,
       "display": false,
       "name": "ABC Pre-generator MSE"
      }
     },
     "output_type": "display_data"
    },
    {
     "data": {
      "application/scrapbook.scrap.json+json": {
       "data": 0.4226907378357062,
       "encoder": "json",
       "name": "Prior Model MSE",
       "version": 1
      }
     },
     "metadata": {
      "scrapbook": {
       "data": true,
       "display": false,
       "name": "Prior Model MSE"
      }
     },
     "output_type": "display_data"
    },
    {
     "data": {
      "application/scrapbook.scrap.json+json": {
       "data": 1.2266177450212459,
       "encoder": "json",
       "name": "ABC Pre-generator MSE",
       "version": 1
      }
     },
     "metadata": {
      "scrapbook": {
       "data": true,
       "display": false,
       "name": "ABC Pre-generator MSE"
      }
     },
     "output_type": "display_data"
    }
   ],
   "source": [
    "y_pred = prior_model.predict(X_test)\n",
    "y_abc = y_pred + np.random.normal(0,variance, y_pred.shape) + bias \n",
    "mse = mean_squared_error(y_pred,Y_test)\n",
    "sb.glue(\"Prior Model MSE\",mse)\n",
    "mse = mean_squared_error(y_abc,Y_test)\n",
    "sb.glue(\"ABC Pre-generator MSE\",mse)\n",
    "mae = mean_absolute_error(y_pred,Y_test)\n",
    "sb.glue(\"Prior Model MSE\",mae)\n",
    "mae = mean_absolute_error(y_abc,Y_test)\n",
    "sb.glue(\"ABC Pre-generator MSE\",mae)"
   ]
  },
  {
   "cell_type": "markdown",
   "id": "25609da2",
   "metadata": {
    "papermill": {
     "duration": 0.028984,
     "end_time": "2022-06-22T15:16:18.412882",
     "exception": false,
     "start_time": "2022-06-22T15:16:18.383898",
     "status": "completed"
    },
    "tags": []
   },
   "source": [
    "# ABC GAN Model"
   ]
  },
  {
   "cell_type": "code",
   "execution_count": 11,
   "id": "dfc3464d",
   "metadata": {
    "execution": {
     "iopub.execute_input": "2022-06-22T15:16:18.476341Z",
     "iopub.status.busy": "2022-06-22T15:16:18.475690Z",
     "iopub.status.idle": "2022-06-22T15:16:18.478596Z",
     "shell.execute_reply": "2022-06-22T15:16:18.478178Z"
    },
    "papermill": {
     "duration": 0.036174,
     "end_time": "2022-06-22T15:16:18.478798",
     "exception": false,
     "start_time": "2022-06-22T15:16:18.442624",
     "status": "completed"
    },
    "tags": []
   },
   "outputs": [],
   "source": [
    "gen = network.Generator(n_features+1).to(device)\n",
    "disc = network.Discriminator(n_features+1).to(device)\n",
    "\n",
    "criterion = torch.nn.BCELoss()\n",
    "gen_opt = torch.optim.Adam(gen.parameters(), lr=0.001, betas=(0.5, 0.999))\n",
    "disc_opt = torch.optim.Adam(disc.parameters(), lr=0.001, betas=(0.5, 0.999))"
   ]
  },
  {
   "cell_type": "code",
   "execution_count": 12,
   "id": "b75fdd85",
   "metadata": {
    "execution": {
     "iopub.execute_input": "2022-06-22T15:16:18.565859Z",
     "iopub.status.busy": "2022-06-22T15:16:18.558546Z",
     "iopub.status.idle": "2022-06-22T15:17:00.947194Z",
     "shell.execute_reply": "2022-06-22T15:17:00.947855Z"
    },
    "papermill": {
     "duration": 42.443205,
     "end_time": "2022-06-22T15:17:00.948079",
     "exception": false,
     "start_time": "2022-06-22T15:16:18.504874",
     "status": "completed"
    },
    "tags": []
   },
   "outputs": [
    {
     "data": {
      "image/png": "[encoded data removed]",
      "text/plain": [
       "<Figure size 432x288 with 1 Axes>"
      ]
     },
     "metadata": {
      "needs_background": "light"
     },
     "output_type": "display_data"
    },
    {
     "data": {
      "image/png": "[encoded data removed]",
      "text/plain": [
       "<Figure size 432x288 with 1 Axes>"
      ]
     },
     "metadata": {
      "needs_background": "light"
     },
     "output_type": "display_data"
    }
   ],
   "source": [
    "#Training the ABC_GAN \n",
    "ABC_train_test2.training_GAN(disc,gen,disc_opt,gen_opt,train_data,batch_size,n_epochs,criterion,prior_model,variance,bias,device)"
   ]
  },
  {
   "cell_type": "code",
   "execution_count": 13,
   "id": "1fa7c368",
   "metadata": {
    "execution": {
     "iopub.execute_input": "2022-06-22T15:17:01.012315Z",
     "iopub.status.busy": "2022-06-22T15:17:01.008881Z",
     "iopub.status.idle": "2022-06-22T15:17:01.918311Z",
     "shell.execute_reply": "2022-06-22T15:17:01.918873Z"
    },
    "papermill": {
     "duration": 0.945823,
     "end_time": "2022-06-22T15:17:01.919079",
     "exception": false,
     "start_time": "2022-06-22T15:17:00.973256",
     "status": "completed"
    },
    "tags": []
   },
   "outputs": [
    {
     "data": {
      "application/scrapbook.scrap.json+json": {
       "data": 0.2905379079304029,
       "encoder": "json",
       "name": "ABC-GAN Model 1 MSE",
       "version": 1
      }
     },
     "metadata": {
      "scrapbook": {
       "data": true,
       "display": false,
       "name": "ABC-GAN Model 1 MSE"
      }
     },
     "output_type": "display_data"
    },
    {
     "data": {
      "application/scrapbook.scrap.json+json": {
       "data": 0.4587447103997692,
       "encoder": "json",
       "name": "ABC-GAN Model 1 MAE",
       "version": 1
      }
     },
     "metadata": {
      "scrapbook": {
       "data": true,
       "display": false,
       "name": "ABC-GAN Model 1 MAE"
      }
     },
     "output_type": "display_data"
    },
    {
     "data": {
      "application/scrapbook.scrap.json+json": {
       "data": 9.174894207995385,
       "encoder": "json",
       "name": "ABC-GAN Model 1 Manhattan Distance",
       "version": 1
      }
     },
     "metadata": {
      "scrapbook": {
       "data": true,
       "display": false,
       "name": "ABC-GAN Model 1 Manhattan Distance"
      }
     },
     "output_type": "display_data"
    },
    {
     "data": {
      "application/scrapbook.scrap.json+json": {
       "data": 2.4098772710053646,
       "encoder": "json",
       "name": "ABC-GAN Model 1 Euclidean distance",
       "version": 1
      }
     },
     "metadata": {
      "scrapbook": {
       "data": true,
       "display": false,
       "name": "ABC-GAN Model 1 Euclidean distance"
      }
     },
     "output_type": "display_data"
    },
    {
     "data": {
      "application/scrapbook.scrap.json+json": {
       "data": [
        [
         0.27220526354830443,
         0.2893248160297647,
         0.2892522026824578,
         0.2590491986467485,
         0.30541634270792867,
         0.292501926005298,
         0.2869887168984816,
         0.29305583951678954,
         0.28258204460474856,
         0.2773489949700844,
         0.2962755620958489,
         0.26606541052463994,
         0.31082293583333304,
         0.29135413493345913,
         0.288357585601835,
         0.30063152714080055,
         0.3138147081594671,
         0.284194423118792,
         0.29660494541812427,
         0.29987356065927206,
         0.29892651788477187,
         0.2713494980539013,
         0.29302285434388453,
         0.2933542116974092,
         0.2848102086286185,
         0.3060470213736992,
         0.2776053862207844,
         0.29361956972495007,
         0.30040099722045277,
         0.30670650929293297,
         0.303465744542868,
         0.2635400171361094,
         0.2897186801740164,
         0.3236486168878113,
         0.3064136478773178,
         0.27660176242283663,
         0.29508859488209976,
         0.28404789784851664,
         0.2770406443734858,
         0.2986987364939735,
         0.29946911890248196,
         0.27355140691304614,
         0.2741651632077622,
         0.26578293920422824,
         0.27635862177178694,
         0.30243471112611436,
         0.2834839073362788,
         0.307705245061867,
         0.28643583846398296,
         0.2840100363933159,
         0.3125613298499336,
         0.2893611557842889,
         0.2965651132108584,
         0.2993236849088,
         0.30959084372025775,
         0.29491396018201693,
         0.30184263747480217,
         0.27945365768096997,
         0.2654060522944667,
         0.2793534722471554,
         0.2851219965829957,
         0.30655297463460324,
         0.2862430728827307,
         0.3104462656541311,
         0.2766628933597267,
         0.30728724174630895,
         0.3111969331231928,
         0.2844198133184713,
         0.3174797731514059,
         0.27301368894434586,
         0.27013847162103904,
         0.2911681090126149,
         0.304030167622735,
         0.2912903943012253,
         0.2814767102790018,
         0.2706230178144159,
         0.28205699024216146,
         0.28801749039569535,
         0.2831783506919747,
         0.28532083952202003,
         0.3186511715915799,
         0.29378738685661826,
         0.27940575574924065,
         0.29544968045712533,
         0.29619947229954285,
         0.2929067399093965,
         0.27712351701843957,
         0.2916594718436536,
         0.28794852570278934,
         0.2891974468160617,
         0.28770682609508724,
         0.30925040742488236,
         0.3014509916575805,
         0.3066442636393405,
         0.2842461954879715,
         0.2737499528699488,
         0.2654240593257654,
         0.30807111571038115,
         0.287302526119491,
         0.2802939396535662
        ],
        [
         0.43969908116851003,
         0.46012367627117784,
         0.46112961119506507,
         0.4315149607369676,
         0.4709663959452882,
         0.46445105916354806,
         0.45492766483221203,
         0.4579779779771343,
         0.4543770360061899,
         0.44944044856820253,
         0.4646144988248125,
         0.44204011170659213,
         0.4684544367948547,
         0.4691243594745174,
         0.4584712049225345,
         0.468491086200811,
         0.47683051286730915,
         0.4542540891328827,
         0.4646611506352201,
         0.4699591683456674,
         0.47140846906695516,
         0.44360329492483286,
         0.46584065130446106,
         0.4631877130130306,
         0.4523751167813316,
         0.47339906489942224,
         0.45124043135438113,
         0.46648768840823324,
         0.4702873649308458,
         0.47225435099098834,
         0.4735909031936899,
         0.4396690665045753,
         0.4613179778913036,
         0.4842071613529697,
         0.47534294857177883,
         0.45509742556605487,
         0.449589185253717,
         0.4577135959872976,
         0.44676970376167446,
         0.46845387315843257,
         0.4685874456772581,
         0.44379263466689733,
         0.44077126926276833,
         0.44393370097968726,
         0.4476374434540048,
         0.46398706680629404,
         0.44482680468354374,
         0.47230467258486897,
         0.4595114970812574,
         0.44416566102299837,
         0.47408018542919306,
         0.4540810534963384,
         0.457767221913673,
         0.4706571372458711,
         0.46580825245473534,
         0.4647148711839691,
         0.4657734291860834,
         0.45156270659063014,
         0.43306592835579066,
         0.45250362700317054,
         0.45393494500312953,
         0.46875844097230585,
         0.45855137242469934,
         0.4711855603614822,
         0.4532856011996046,
         0.4710302351275459,
         0.47371725423727185,
         0.44942871837411075,
         0.4772875106194988,
         0.44387245459947733,
         0.44731435349676757,
         0.45607983006630093,
         0.4716200856724754,
         0.46180843806359917,
         0.4491723178187385,
         0.4460458694258705,
         0.45681497680488975,
         0.45423641859088093,
         0.4519494807580486,
         0.452595610008575,
         0.47906926481518897,
         0.4615855349460617,
         0.4536696514347568,
         0.46653425043914465,
         0.46386795698199423,
         0.4618813222507015,
         0.44403782694134863,
         0.4593273489037529,
         0.45569762943778186,
         0.4502392111578956,
         0.4531109927454963,
         0.4708270492265001,
         0.4594375023851171,
         0.4764717879006639,
         0.4555435179034248,
         0.4524782872060314,
         0.42548282018397005,
         0.46618584676180036,
         0.45317350609693674,
         0.4542831318685785
        ],
        [
         8.7939816233702,
         9.202473525423557,
         9.222592223901302,
         8.630299214739352,
         9.419327918905765,
         9.289021183270961,
         9.09855329664424,
         9.159559559542686,
         9.087540720123798,
         8.988808971364051,
         9.29228997649625,
         8.840802234131843,
         9.369088735897094,
         9.382487189490348,
         9.16942409845069,
         9.36982172401622,
         9.536610257346183,
         9.085081782657653,
         9.293223012704402,
         9.399183366913348,
         9.428169381339103,
         8.872065898496658,
         9.316813026089221,
         9.263754260260612,
         9.047502335626632,
         9.467981297988445,
         9.024808627087623,
         9.329753768164665,
         9.405747298616916,
         9.445087019819766,
         9.471818063873798,
         8.793381330091506,
         9.226359557826072,
         9.684143227059394,
         9.506858971435577,
         9.101948511321098,
         8.99178370507434,
         9.154271919745952,
         8.93539407523349,
         9.36907746316865,
         9.371748913545161,
         8.875852693337947,
         8.815425385255367,
         8.878674019593745,
         8.952748869080096,
         9.27974133612588,
         8.896536093670875,
         9.44609345169738,
         9.190229941625148,
         8.883313220459968,
         9.481603708583862,
         9.081621069926769,
         9.15534443827346,
         9.413142744917423,
         9.316165049094707,
         9.294297423679382,
         9.315468583721668,
         9.031254131812602,
         8.661318567115813,
         9.050072540063411,
         9.07869890006259,
         9.375168819446117,
         9.171027448493987,
         9.423711207229644,
         9.065712023992091,
         9.420604702550918,
         9.474345084745437,
         8.988574367482215,
         9.545750212389976,
         8.877449091989547,
         8.946287069935352,
         9.121596601326019,
         9.432401713449508,
         9.236168761271983,
         8.98344635637477,
         8.92091738851741,
         9.136299536097795,
         9.084728371817619,
         9.038989615160972,
         9.0519122001715,
         9.581385296303779,
         9.231710698921233,
         9.073393028695136,
         9.330685008782893,
         9.277359139639884,
         9.23762644501403,
         8.880756538826972,
         9.186546978075057,
         9.113952588755637,
         9.004784223157912,
         9.062219854909927,
         9.416540984530002,
         9.188750047702342,
         9.529435758013278,
         9.110870358068496,
         9.049565744120628,
         8.5096564036794,
         9.323716935236007,
         9.063470121938735,
         9.08566263737157
        ],
        [
         2.333260652170282,
         2.405513733196153,
         2.4052118521346837,
         2.2761774915271813,
         2.471502954511399,
         2.4186852875283216,
         2.395782614923489,
         2.4209743473105596,
         2.377318003989995,
         2.3552027300004745,
         2.434237301890877,
         2.3067960920924064,
         2.4932827189604194,
         2.4139351065571715,
         2.401489477810948,
         2.4520665861301585,
         2.5052533131779993,
         2.3840906992763173,
         2.435590053429042,
         2.4489735019361567,
         2.44510334294799,
         2.329590084344889,
         2.4208380959654634,
         2.422206480452933,
         2.3866721962959994,
         2.4740534407069674,
         2.356291095008358,
         2.423301754734437,
         2.4511262603972597,
         2.4767176233593244,
         2.463597956416055,
         2.29582236741482,
         2.4071505153355757,
         2.544203674581936,
         2.4755348831204853,
         2.352027901292145,
         2.429356272275023,
         2.3834760239973747,
         2.353893134250091,
         2.444171583559442,
         2.4473214701076027,
         2.3390229024660965,
         2.3416454181099335,
         2.305571248971622,
         2.350993925010386,
         2.4594093239073254,
         2.381108596163891,
         2.480746843439963,
         2.3934737870466973,
         2.3833171689614283,
         2.5002453073645943,
         2.4056647970334057,
         2.435426505607831,
         2.4467271401151374,
         2.4883361658757353,
         2.428637314141479,
         2.4570007630230895,
         2.3641220682569246,
         2.303935989972233,
         2.3636982558996626,
         2.387978210047134,
         2.476097633917545,
         2.3926682715442635,
         2.4917715210433364,
         2.3522877942961262,
         2.479061280994518,
         2.494782287588209,
         2.3850359046289906,
         2.519840364592193,
         2.336722871648865,
         2.324385818322935,
         2.4131643500292927,
         2.4658879440182804,
         2.413671039314286,
         2.372663947039284,
         2.3264695046976906,
         2.3751083774942208,
         2.4000728755423046,
         2.3798249964733738,
         2.388810748142347,
         2.524484785422879,
         2.42399417019356,
         2.363919439190941,
         2.430842160474947,
         2.4339247001480673,
         2.4203584028378793,
         2.3542451742265063,
         2.4151996681171255,
         2.3997855141774207,
         2.4049841862933805,
         2.398778131028742,
         2.4869676613292837,
         2.4554062460520885,
         2.4764662874319145,
         2.3843078471035217,
         2.339871589937998,
         2.3040141463357617,
         2.482221246022929,
         2.3970920971856335,
         2.367673709165037
        ]
       ],
       "encoder": "json",
       "name": "ABC_GAN_1 Metrics",
       "version": 1
      }
     },
     "metadata": {
      "scrapbook": {
       "data": true,
       "display": false,
       "name": "ABC_GAN_1 Metrics"
      }
     },
     "output_type": "display_data"
    },
    {
     "name": "stdout",
     "output_type": "stream",
     "text": [
      "MSE\n",
      "0.2905379079304029\n"
     ]
    }
   ],
   "source": [
    "ABC_GAN1_metrics=ABC_train_test2.test_generator(gen,test_data,prior_model,variance,bias,\"1\",device)\n",
    "sb.glue(\"ABC_GAN_1 Metrics\",ABC_GAN1_metrics)\n",
    "\n",
    "print(\"MSE\")\n",
    "print(mean(ABC_GAN1_metrics[0]))"
   ]
  },
  {
   "cell_type": "code",
   "execution_count": 14,
   "id": "eb22ce5c",
   "metadata": {
    "execution": {
     "iopub.execute_input": "2022-06-22T15:17:02.068671Z",
     "iopub.status.busy": "2022-06-22T15:17:02.067853Z",
     "iopub.status.idle": "2022-06-22T15:17:02.762881Z",
     "shell.execute_reply": "2022-06-22T15:17:02.763417Z"
    },
    "papermill": {
     "duration": 0.815133,
     "end_time": "2022-06-22T15:17:02.763650",
     "exception": false,
     "start_time": "2022-06-22T15:17:01.948517",
     "status": "completed"
    },
    "tags": []
   },
   "outputs": [
    {
     "data": {
      "image/png": "[encoded data removed]",
      "text/plain": [
       "<Figure size 432x288 with 1 Axes>"
      ]
     },
     "metadata": {
      "needs_background": "light"
     },
     "output_type": "display_data"
    },
    {
     "data": {
      "image/png": "[encoded data removed]",
      "text/plain": [
       "<Figure size 432x288 with 1 Axes>"
      ]
     },
     "metadata": {
      "needs_background": "light"
     },
     "output_type": "display_data"
    },
    {
     "data": {
      "image/png": "[encoded data removed]",
      "text/plain": [
       "<Figure size 432x288 with 1 Axes>"
      ]
     },
     "metadata": {
      "needs_background": "light"
     },
     "output_type": "display_data"
    },
    {
     "data": {
      "image/png": "[encoded data removed]",
      "text/plain": [
       "<Figure size 432x288 with 1 Axes>"
      ]
     },
     "metadata": {
      "needs_background": "light"
     },
     "output_type": "display_data"
    }
   ],
   "source": [
    "sanityChecks.discProbVsError(train_data,disc,device)\n",
    "sanityChecks.discProbVsError(test_data,disc,device)"
   ]
  },
  {
   "cell_type": "markdown",
   "id": "130f3a4d",
   "metadata": {
    "id": "130f3a4d",
    "papermill": {
     "duration": 0.03815,
     "end_time": "2022-06-22T15:17:02.834431",
     "exception": false,
     "start_time": "2022-06-22T15:17:02.796281",
     "status": "completed"
    },
    "tags": []
   },
   "source": [
    "# ABC - GAN Model with skip connection"
   ]
  },
  {
   "cell_type": "code",
   "execution_count": 15,
   "id": "4e43dad1",
   "metadata": {
    "execution": {
     "iopub.execute_input": "2022-06-22T15:17:02.910931Z",
     "iopub.status.busy": "2022-06-22T15:17:02.909955Z",
     "iopub.status.idle": "2022-06-22T15:17:02.914173Z",
     "shell.execute_reply": "2022-06-22T15:17:02.914692Z"
    },
    "id": "4e43dad1",
    "papermill": {
     "duration": 0.045382,
     "end_time": "2022-06-22T15:17:02.914934",
     "exception": false,
     "start_time": "2022-06-22T15:17:02.869552",
     "status": "completed"
    },
    "tags": []
   },
   "outputs": [],
   "source": [
    "#Generator\n",
    "gen3 = network.GeneratorWithSkipConnection(n_features+1).to(device)\n",
    "constraints=network.weightConstraint()\n",
    "#Discriminator \n",
    "disc3 = network.Discriminator(n_features+1).to(device)\n",
    "\n",
    "criterion = torch.nn.BCELoss()\n",
    "gen_opt = torch.optim.Adam(gen3.parameters(), lr=0.001, betas=(0.5, 0.999))\n",
    "disc_opt = torch.optim.Adam(disc3.parameters(), lr=0.001, betas=(0.5, 0.999))\n"
   ]
  },
  {
   "cell_type": "code",
   "execution_count": 16,
   "id": "26acbc37",
   "metadata": {
    "execution": {
     "iopub.execute_input": "2022-06-22T15:17:02.990296Z",
     "iopub.status.busy": "2022-06-22T15:17:02.989041Z",
     "iopub.status.idle": "2022-06-22T15:18:09.714266Z",
     "shell.execute_reply": "2022-06-22T15:18:09.713778Z"
    },
    "id": "26acbc37",
    "papermill": {
     "duration": 66.767643,
     "end_time": "2022-06-22T15:18:09.714505",
     "exception": false,
     "start_time": "2022-06-22T15:17:02.946862",
     "status": "completed"
    },
    "tags": []
   },
   "outputs": [
    {
     "data": {
      "image/png": "[encoded data removed]",
      "text/plain": [
       "<Figure size 432x288 with 1 Axes>"
      ]
     },
     "metadata": {
      "needs_background": "light"
     },
     "output_type": "display_data"
    },
    {
     "data": {
      "image/png": "[encoded data removed]",
      "text/plain": [
       "<Figure size 432x288 with 1 Axes>"
      ]
     },
     "metadata": {
      "needs_background": "light"
     },
     "output_type": "display_data"
    }
   ],
   "source": [
    "ABC_train_test2.training_GAN_skip_connection(disc3,gen3,disc_opt,gen_opt,train_data,batch_size,n_epochs,criterion,prior_model,variance,bias,device)"
   ]
  },
  {
   "cell_type": "code",
   "execution_count": 17,
   "id": "c5e0717b",
   "metadata": {
    "execution": {
     "iopub.execute_input": "2022-06-22T15:18:09.801228Z",
     "iopub.status.busy": "2022-06-22T15:18:09.800494Z",
     "iopub.status.idle": "2022-06-22T15:18:10.560507Z",
     "shell.execute_reply": "2022-06-22T15:18:10.561327Z"
    },
    "id": "c5e0717b",
    "papermill": {
     "duration": 0.81234,
     "end_time": "2022-06-22T15:18:10.561548",
     "exception": false,
     "start_time": "2022-06-22T15:18:09.749208",
     "status": "completed"
    },
    "tags": []
   },
   "outputs": [
    {
     "data": {
      "application/scrapbook.scrap.json+json": {
       "data": 0.3732275834182992,
       "encoder": "json",
       "name": "ABC-GAN Model 3 MSE",
       "version": 1
      }
     },
     "metadata": {
      "scrapbook": {
       "data": true,
       "display": false,
       "name": "ABC-GAN Model 3 MSE"
      }
     },
     "output_type": "display_data"
    },
    {
     "data": {
      "application/scrapbook.scrap.json+json": {
       "data": 0.4811293680900708,
       "encoder": "json",
       "name": "ABC-GAN Model 3 MAE",
       "version": 1
      }
     },
     "metadata": {
      "scrapbook": {
       "data": true,
       "display": false,
       "name": "ABC-GAN Model 3 MAE"
      }
     },
     "output_type": "display_data"
    },
    {
     "data": {
      "application/scrapbook.scrap.json+json": {
       "data": 9.622587361801415,
       "encoder": "json",
       "name": "ABC-GAN Model 3 Manhattan Distance",
       "version": 1
      }
     },
     "metadata": {
      "scrapbook": {
       "data": true,
       "display": false,
       "name": "ABC-GAN Model 3 Manhattan Distance"
      }
     },
     "output_type": "display_data"
    },
    {
     "data": {
      "application/scrapbook.scrap.json+json": {
       "data": 2.73136658780471,
       "encoder": "json",
       "name": "ABC-GAN Model 3 Euclidean distance",
       "version": 1
      }
     },
     "metadata": {
      "scrapbook": {
       "data": true,
       "display": false,
       "name": "ABC-GAN Model 3 Euclidean distance"
      }
     },
     "output_type": "display_data"
    },
    {
     "data": {
      "application/scrapbook.scrap.json+json": {
       "data": [
        [
         0.3621009748296987,
         0.3534094556016138,
         0.4019296771441211,
         0.3760569188913915,
         0.36870817565192376,
         0.3537805887406869,
         0.3638458623299057,
         0.3856840988664922,
         0.3913558358899704,
         0.37245861105455774,
         0.3612267711909273,
         0.3354682271949556,
         0.3808012709059597,
         0.4149393309636812,
         0.35996769485144114,
         0.3592774340618018,
         0.37040748815907926,
         0.346103376465284,
         0.33405730327871286,
         0.3875147933354365,
         0.36696767972392175,
         0.34982478367758774,
         0.38724413930921625,
         0.3698946481923194,
         0.39767266791736583,
         0.37896942861727784,
         0.35870535308665485,
         0.3784363781303254,
         0.3726197764448323,
         0.35677882201697,
         0.3804103053839395,
         0.3803584244087025,
         0.3712410220979915,
         0.3717003220403221,
         0.38126947436247793,
         0.35283433115585766,
         0.37363558547384934,
         0.386581494344647,
         0.3650303474735028,
         0.40431042941560563,
         0.37968396133509136,
         0.3556385536967233,
         0.36229086271855737,
         0.38119455476249575,
         0.39464563997653146,
         0.3606999810992805,
         0.37795047997055115,
         0.3399040696013089,
         0.37967799265977925,
         0.3683363913951396,
         0.35681945289178557,
         0.3868866007565444,
         0.37620674175712626,
         0.3980152473304569,
         0.3726025269940408,
         0.39293891320388313,
         0.3469531431170118,
         0.3694950650975374,
         0.32179760040470784,
         0.3759148783274448,
         0.38146509949452756,
         0.3854303564658535,
         0.3766989858177412,
         0.3582010762210104,
         0.34416808078635003,
         0.36726018259952253,
         0.35932668890129704,
         0.37982128666703124,
         0.3650728643770571,
         0.3881205448268378,
         0.3695515349544155,
         0.38018704884137783,
         0.38343462395874545,
         0.3853454768015791,
         0.36346785420123795,
         0.3831586246673241,
         0.40324726393715304,
         0.3663775063081172,
         0.3818871304591316,
         0.3597795709732642,
         0.3740986528174296,
         0.4047880379016127,
         0.3771713707434908,
         0.3732463575432905,
         0.38678780522491835,
         0.3580461077336841,
         0.38773808914150304,
         0.42477213835972155,
         0.4112386606413681,
         0.364178455174887,
         0.37454749809977655,
         0.3684658609318474,
         0.34725720824354156,
         0.4025863415894479,
         0.35901199036990805,
         0.38034048036086215,
         0.36037153607751726,
         0.3911834258382325,
         0.3635890500395677,
         0.3701055139607307
        ],
        [
         0.470372642041184,
         0.46131518653128295,
         0.4947826871881261,
         0.4721377702662721,
         0.4787906067678705,
         0.4742484452435747,
         0.4669510672101751,
         0.4967179553816095,
         0.4919047156581655,
         0.4920390250394121,
         0.46442140063736587,
         0.4343979368219152,
         0.48767960390541704,
         0.5052372889826074,
         0.47124891004059466,
         0.4814007522771135,
         0.4868448512861505,
         0.4459598237881437,
         0.4582854287931696,
         0.4972697431454435,
         0.4857659938046709,
         0.4710331687936559,
         0.4917975815245882,
         0.48693475148174914,
         0.4966062607476488,
         0.48413126936648043,
         0.4840386616298929,
         0.49690086937043815,
         0.4815330313751474,
         0.4681638198206201,
         0.4723008888075128,
         0.47868296077940614,
         0.4871225821087137,
         0.47783252692315725,
         0.49513210526201873,
         0.4605294497916475,
         0.48987556418869643,
         0.48705024665687235,
         0.46239067933056505,
         0.4961376058170572,
         0.4847299093613401,
         0.4741791548440233,
         0.4754019702086225,
         0.4760636793682352,
         0.4865480752894655,
         0.4703710677335039,
         0.4838705169269815,
         0.44882600551936774,
         0.4837695332476869,
         0.48632731309626254,
         0.47726072689983995,
         0.49252524247858676,
         0.4845072010764852,
         0.5032691048691049,
         0.48455548903439194,
         0.4888274403521791,
         0.4731403129408136,
         0.48558650112245233,
         0.44401655888650565,
         0.4705388160655275,
         0.48462517133448274,
         0.47039756944868716,
         0.4865427347132936,
         0.45980240947101264,
         0.4438401403138414,
         0.4846328782150522,
         0.4770850362489,
         0.49313901832792906,
         0.47853642425034193,
         0.4905212002107874,
         0.49417755028698596,
         0.48380604705307634,
         0.47978934890124947,
         0.4906836899230257,
         0.4744324343511835,
         0.49565794339869174,
         0.5112795697757975,
         0.4669642785796896,
         0.4886792162666097,
         0.482304902584292,
         0.4747586408862844,
         0.5062783161411062,
         0.4926147552439943,
         0.47493761649820954,
         0.4791761787841097,
         0.47036992555949836,
         0.5024973990628496,
         0.5045823814580217,
         0.5232802110025659,
         0.48904068416450175,
         0.4756409907946363,
         0.470730415196158,
         0.46385748630855234,
         0.48984048238489775,
         0.4804726461181417,
         0.4921229766914621,
         0.4675528438994661,
         0.49877757153008134,
         0.4764861988136545,
         0.4827410469064489
        ],
        [
         9.40745284082368,
         9.22630373062566,
         9.895653743762523,
         9.442755405325443,
         9.57581213535741,
         9.484968904871494,
         9.339021344203502,
         9.93435910763219,
         9.83809431316331,
         9.840780500788242,
         9.288428012747318,
         8.687958736438304,
         9.75359207810834,
         10.104745779652148,
         9.424978200811893,
         9.62801504554227,
         9.73689702572301,
         8.919196475762874,
         9.165708575863391,
         9.94539486290887,
         9.715319876093417,
         9.420663375873119,
         9.835951630491763,
         9.738695029634982,
         9.932125214952976,
         9.682625387329608,
         9.680773232597858,
         9.938017387408763,
         9.630660627502948,
         9.363276396412402,
         9.446017776150256,
         9.573659215588123,
         9.742451642174274,
         9.556650538463145,
         9.902642105240375,
         9.21058899583295,
         9.797511283773929,
         9.741004933137447,
         9.2478135866113,
         9.922752116341144,
         9.694598187226802,
         9.483583096880466,
         9.50803940417245,
         9.521273587364703,
         9.73096150578931,
         9.407421354670078,
         9.67741033853963,
         8.976520110387355,
         9.675390664953738,
         9.72654626192525,
         9.545214537996799,
         9.850504849571735,
         9.690144021529704,
         10.065382097382098,
         9.691109780687839,
         9.776548807043582,
         9.462806258816272,
         9.711730022449046,
         8.880331177730113,
         9.41077632131055,
         9.692503426689655,
         9.407951388973743,
         9.730854694265872,
         9.196048189420253,
         8.876802806276828,
         9.692657564301044,
         9.541700724978,
         9.862780366558582,
         9.570728485006839,
         9.810424004215747,
         9.883551005739719,
         9.676120941061527,
         9.59578697802499,
         9.813673798460513,
         9.48864868702367,
         9.913158867973834,
         10.225591395515949,
         9.339285571593791,
         9.773584325332195,
         9.64609805168584,
         9.495172817725688,
         10.125566322822124,
         9.852295104879886,
         9.49875232996419,
         9.583523575682193,
         9.407398511189967,
         10.049947981256992,
         10.091647629160434,
         10.465604220051318,
         9.780813683290035,
         9.512819815892726,
         9.41460830392316,
         9.277149726171046,
         9.796809647697955,
         9.609452922362834,
         9.842459533829242,
         9.351056877989322,
         9.975551430601627,
         9.52972397627309,
         9.654820938128978
        ],
        [
         2.6911000532484803,
         2.65860661099612,
         2.835241355313939,
         2.7424693941460547,
         2.7155411086997883,
         2.660002213309932,
         2.697576179943416,
         2.77735161211717,
         2.7976984679910393,
         2.729317171215386,
         2.68784959099622,
         2.5902441089401425,
         2.7597147349172153,
         2.88076146518132,
         2.683161176118353,
         2.680587376161433,
         2.7217916458064133,
         2.630982236600179,
         2.584791300197031,
         2.783935320137436,
         2.7091241378863455,
         2.6450889727099454,
         2.7829629509183778,
         2.7199067932277363,
         2.8201867594801797,
         2.753068937085586,
         2.6784523631629322,
         2.751132051103056,
         2.729907604461485,
         2.6712499771341878,
         2.7582976829339487,
         2.7581095859617415,
         2.7248523706725525,
         2.726537445333631,
         2.7614107784336537,
         2.6564424750250386,
         2.733626110037177,
         2.7805808542268537,
         2.70196353592532,
         2.8436259578770398,
         2.7556631192331595,
         2.6669778915346236,
         2.691805575143039,
         2.7611394559583395,
         2.8094328252390426,
         2.6858889816940703,
         2.7493653084686698,
         2.607313059842676,
         2.75564145947828,
         2.714171665149939,
         2.671402077156434,
         2.7816779136217202,
         2.743015646171659,
         2.8214012381455316,
         2.7298444167902343,
         2.8033512559216804,
         2.6342101021635,
         2.7184372904208676,
         2.5369178165825863,
         2.741951415789291,
         2.7621191121837145,
         2.7764378489923143,
         2.7448095956468133,
         2.676568983684188,
         2.623616133455312,
         2.710203618178983,
         2.6807711163070116,
         2.7561614127878333,
         2.702120886922186,
         2.7861103525411113,
         2.718645011598298,
         2.757488164403894,
         2.76924041556072,
         2.7761321178992153,
         2.6961745277382843,
         2.768243575508933,
         2.839884729833776,
         2.7069447955513137,
         2.763646614381555,
         2.682459956731001,
         2.7353195528765175,
         2.8453050377828126,
         2.7465300680804163,
         2.732201886915718,
         2.781322725700555,
         2.6759899391951536,
         2.784737291528603,
         2.9146942836589966,
         2.8678865411357126,
         2.698808830483875,
         2.7369599854575024,
         2.7146486363131688,
         2.6353641427458996,
         2.837556489620772,
         2.6795969486842908,
         2.758044525967129,
         2.684665849142188,
         2.7970821433709543,
         2.696624000633265,
         2.720681951131851
        ]
       ],
       "encoder": "json",
       "name": "ABC_GAN_3 Metrics",
       "version": 1
      }
     },
     "metadata": {
      "scrapbook": {
       "data": true,
       "display": false,
       "name": "ABC_GAN_3 Metrics"
      }
     },
     "output_type": "display_data"
    },
    {
     "name": "stdout",
     "output_type": "stream",
     "text": [
      "MSE\n",
      "0.3732275834182992\n"
     ]
    }
   ],
   "source": [
    "ABC_GAN3_metrics=ABC_train_test2.test_generator(gen3,test_data,prior_model,variance,bias,\"3\",device)\n",
    "sb.glue(\"ABC_GAN_3 Metrics\",ABC_GAN3_metrics)\n",
    "\n",
    "print(\"MSE\")\n",
    "print(mean(ABC_GAN3_metrics[0]))"
   ]
  },
  {
   "cell_type": "code",
   "execution_count": 18,
   "id": "c8e46b48",
   "metadata": {
    "execution": {
     "iopub.execute_input": "2022-06-22T15:18:10.656285Z",
     "iopub.status.busy": "2022-06-22T15:18:10.655597Z",
     "iopub.status.idle": "2022-06-22T15:18:11.393478Z",
     "shell.execute_reply": "2022-06-22T15:18:11.393053Z"
    },
    "id": "c8e46b48",
    "papermill": {
     "duration": 0.790764,
     "end_time": "2022-06-22T15:18:11.393713",
     "exception": false,
     "start_time": "2022-06-22T15:18:10.602949",
     "status": "completed"
    },
    "tags": []
   },
   "outputs": [
    {
     "data": {
      "image/png": "[encoded data removed]",
      "text/plain": [
       "<Figure size 432x288 with 1 Axes>"
      ]
     },
     "metadata": {
      "needs_background": "light"
     },
     "output_type": "display_data"
    },
    {
     "data": {
      "image/png": "[encoded data removed]",
      "text/plain": [
       "<Figure size 432x288 with 1 Axes>"
      ]
     },
     "metadata": {
      "needs_background": "light"
     },
     "output_type": "display_data"
    },
    {
     "data": {
      "image/png": "[encoded data removed]",
      "text/plain": [
       "<Figure size 432x288 with 1 Axes>"
      ]
     },
     "metadata": {
      "needs_background": "light"
     },
     "output_type": "display_data"
    },
    {
     "data": {
      "image/png": "[encoded data removed]",
      "text/plain": [
       "<Figure size 432x288 with 1 Axes>"
      ]
     },
     "metadata": {
      "needs_background": "light"
     },
     "output_type": "display_data"
    }
   ],
   "source": [
    "sanityChecks.discProbVsError(train_data,disc3,device)\n",
    "sanityChecks.discProbVsError(test_data,disc3,device)"
   ]
  },
  {
   "cell_type": "markdown",
   "id": "a5bd74c3",
   "metadata": {
    "id": "a5bd74c3",
    "papermill": {
     "duration": 0.045723,
     "end_time": "2022-06-22T15:18:11.482475",
     "exception": false,
     "start_time": "2022-06-22T15:18:11.436752",
     "status": "completed"
    },
    "tags": []
   },
   "source": [
    "## Skip Connection Model Analysis - ABC-GAN "
   ]
  },
  {
   "cell_type": "markdown",
   "id": "5744a8bf",
   "metadata": {
    "id": "5744a8bf",
    "papermill": {
     "duration": 0.041566,
     "end_time": "2022-06-22T15:18:11.564963",
     "exception": false,
     "start_time": "2022-06-22T15:18:11.523397",
     "status": "completed"
    },
    "tags": []
   },
   "source": [
    "### Weight Analysis \n",
    "\n",
    "Study the weights of the skip connection layer\n",
    "\n",
    "Equation of the skip connection is \n",
    "\n",
    "$output = y_{gan} * w + y_{abc} * (1-w)$"
   ]
  },
  {
   "cell_type": "code",
   "execution_count": 19,
   "id": "52c31dea",
   "metadata": {
    "execution": {
     "iopub.execute_input": "2022-06-22T15:18:11.659624Z",
     "iopub.status.busy": "2022-06-22T15:18:11.658919Z",
     "iopub.status.idle": "2022-06-22T15:18:11.665302Z",
     "shell.execute_reply": "2022-06-22T15:18:11.665780Z"
    },
    "id": "52c31dea",
    "papermill": {
     "duration": 0.055373,
     "end_time": "2022-06-22T15:18:11.665982",
     "exception": false,
     "start_time": "2022-06-22T15:18:11.610609",
     "status": "completed"
    },
    "tags": []
   },
   "outputs": [
    {
     "name": "stdout",
     "output_type": "stream",
     "text": [
      "Weight of the node at skip connection\n",
      "Parameter containing:\n",
      "tensor([[0.4878]], requires_grad=True)\n"
     ]
    },
    {
     "data": {
      "application/scrapbook.scrap.json+json": {
       "data": 0.4878338873386383,
       "encoder": "json",
       "name": "Skip Connection Weight",
       "version": 1
      }
     },
     "metadata": {
      "scrapbook": {
       "data": true,
       "display": false,
       "name": "Skip Connection Weight"
      }
     },
     "output_type": "display_data"
    }
   ],
   "source": [
    "print(\"Weight of the node at skip connection\")\n",
    "for name,param in gen3.named_parameters():\n",
    "    if(name == \"skipNode.weight\"):\n",
    "        print(param)\n",
    "        sb.glue(\"Skip Connection Weight\",param.item())"
   ]
  }
 ],
 "metadata": {
  "colab": {
   "collapsed_sections": [],
   "name": "ABC_GAN_Model-Catboost_Pre-gen.ipynb",
   "provenance": []
  },
  "interpreter": {
   "hash": "31f2aee4e71d21fbe5cf8b01ff0e069b9275f58929596ceb00d14d90e3e16cd6"
  },
  "kernelspec": {
   "display_name": "Python 3 (ipykernel)",
   "language": "python",
   "name": "python3"
  },
  "language_info": {
   "codemirror_mode": {
    "name": "ipython",
    "version": 3
   },
   "file_extension": ".py",
   "mimetype": "text/x-python",
   "name": "python",
   "nbconvert_exporter": "python",
   "pygments_lexer": "ipython3",
   "version": "3.8.3"
  },
  "papermill": {
   "default_parameters": {},
   "duration": 133.25076,
   "end_time": "2022-06-22T15:18:13.379838",
   "environment_variables": {},
   "exception": null,
   "input_path": "ABC_GAN-TabNet.ipynb",
   "output_path": "./ABC_GAN_TabNet/ABC-GAN_output_8_1.ipynb",
   "parameters": {
    "bias": 1,
    "variance": 0.1
   },
   "start_time": "2022-06-22T15:16:00.129078",
   "version": "2.3.3"
  }
 },
 "nbformat": 4,
 "nbformat_minor": 5
}