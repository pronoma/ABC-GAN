{
 "cells": [
  {
   "cell_type": "markdown",
   "id": "622780e6",
   "metadata": {
    "id": "622780e6",
    "papermill": {
     "duration": 0.024863,
     "end_time": "2022-06-22T14:23:15.403816",
     "exception": false,
     "start_time": "2022-06-22T14:23:15.378953",
     "status": "completed"
    },
    "tags": []
   },
   "source": [
    "## Import Libraries "
   ]
  },
  {
   "cell_type": "code",
   "execution_count": 1,
   "id": "a62397e3",
   "metadata": {
    "execution": {
     "iopub.execute_input": "2022-06-22T14:23:15.493079Z",
     "iopub.status.busy": "2022-06-22T14:23:15.492133Z",
     "iopub.status.idle": "2022-06-22T14:23:15.500410Z",
     "shell.execute_reply": "2022-06-22T14:23:15.501628Z"
    },
    "id": "a62397e3",
    "papermill": {
     "duration": 0.073992,
     "end_time": "2022-06-22T14:23:15.502074",
     "exception": false,
     "start_time": "2022-06-22T14:23:15.428082",
     "status": "completed"
    },
    "tags": []
   },
   "outputs": [],
   "source": [
    "import warnings\n",
    "import sys\n",
    "sys.path.insert(0, '../../src')\n",
    "warnings.filterwarnings('ignore')"
   ]
  },
  {
   "cell_type": "code",
   "execution_count": 2,
   "id": "d6a4e155",
   "metadata": {
    "execution": {
     "iopub.execute_input": "2022-06-22T14:23:15.572923Z",
     "iopub.status.busy": "2022-06-22T14:23:15.572027Z",
     "iopub.status.idle": "2022-06-22T14:23:22.203217Z",
     "shell.execute_reply": "2022-06-22T14:23:22.203907Z"
    },
    "id": "d6a4e155",
    "papermill": {
     "duration": 6.670015,
     "end_time": "2022-06-22T14:23:22.204199",
     "exception": false,
     "start_time": "2022-06-22T14:23:15.534184",
     "status": "completed"
    },
    "tags": []
   },
   "outputs": [],
   "source": [
    "import ABC_train_test2\n",
    "import friedman3Dataset\n",
    "import network\n",
    "import dataset\n",
    "import sanityChecks\n",
    "import torch \n",
    "import scrapbook as sb\n",
    "from statistics import mean \n",
    "import catboost as ctb \n",
    "from sklearn.model_selection import train_test_split\n",
    "from sklearn.metrics import mean_squared_error,mean_absolute_error\n",
    "import numpy as np\n",
    "from pytorch_tabnet.tab_model import TabNetRegressor"
   ]
  },
  {
   "cell_type": "markdown",
   "id": "2fa5b0f7",
   "metadata": {
    "id": "2fa5b0f7",
    "papermill": {
     "duration": 0.035285,
     "end_time": "2022-06-22T14:23:22.257112",
     "exception": false,
     "start_time": "2022-06-22T14:23:22.221827",
     "status": "completed"
    },
    "tags": []
   },
   "source": [
    "## Parameters "
   ]
  },
  {
   "cell_type": "code",
   "execution_count": 3,
   "id": "783186fb",
   "metadata": {
    "execution": {
     "iopub.execute_input": "2022-06-22T14:23:22.331646Z",
     "iopub.status.busy": "2022-06-22T14:23:22.329213Z",
     "iopub.status.idle": "2022-06-22T14:23:22.333131Z",
     "shell.execute_reply": "2022-06-22T14:23:22.332411Z"
    },
    "id": "783186fb",
    "papermill": {
     "duration": 0.04682,
     "end_time": "2022-06-22T14:23:22.333448",
     "exception": false,
     "start_time": "2022-06-22T14:23:22.286628",
     "status": "completed"
    },
    "tags": [
     "parameters"
    ]
   },
   "outputs": [],
   "source": [
    "variance = 1\n",
    "bias = 1 "
   ]
  },
  {
   "cell_type": "code",
   "execution_count": 4,
   "id": "b4546fd8",
   "metadata": {
    "execution": {
     "iopub.execute_input": "2022-06-22T14:23:22.401935Z",
     "iopub.status.busy": "2022-06-22T14:23:22.399687Z",
     "iopub.status.idle": "2022-06-22T14:23:22.403250Z",
     "shell.execute_reply": "2022-06-22T14:23:22.402640Z"
    },
    "papermill": {
     "duration": 0.049043,
     "end_time": "2022-06-22T14:23:22.403469",
     "exception": false,
     "start_time": "2022-06-22T14:23:22.354426",
     "status": "completed"
    },
    "tags": [
     "injected-parameters"
    ]
   },
   "outputs": [],
   "source": [
    "# Parameters\n",
    "variance = 0.01\n",
    "bias = 0.1\n"
   ]
  },
  {
   "cell_type": "markdown",
   "id": "391cdbfd",
   "metadata": {
    "id": "391cdbfd",
    "papermill": {
     "duration": 0.017298,
     "end_time": "2022-06-22T14:23:22.438979",
     "exception": false,
     "start_time": "2022-06-22T14:23:22.421681",
     "status": "completed"
    },
    "tags": []
   },
   "source": [
    "## Dataset \n"
   ]
  },
  {
   "cell_type": "code",
   "execution_count": 5,
   "id": "5b51f161",
   "metadata": {
    "execution": {
     "iopub.execute_input": "2022-06-22T14:23:22.485915Z",
     "iopub.status.busy": "2022-06-22T14:23:22.483963Z",
     "iopub.status.idle": "2022-06-22T14:23:22.489089Z",
     "shell.execute_reply": "2022-06-22T14:23:22.489920Z"
    },
    "id": "5b51f161",
    "papermill": {
     "duration": 0.033103,
     "end_time": "2022-06-22T14:23:22.490162",
     "exception": false,
     "start_time": "2022-06-22T14:23:22.457059",
     "status": "completed"
    },
    "tags": []
   },
   "outputs": [],
   "source": [
    "#Parameters \n",
    "n_features = 4\n",
    "n_samples= 100\n",
    "n_target = 1"
   ]
  },
  {
   "cell_type": "code",
   "execution_count": 6,
   "id": "5d6eced4",
   "metadata": {
    "execution": {
     "iopub.execute_input": "2022-06-22T14:23:22.538625Z",
     "iopub.status.busy": "2022-06-22T14:23:22.532470Z",
     "iopub.status.idle": "2022-06-22T14:23:22.546706Z",
     "shell.execute_reply": "2022-06-22T14:23:22.547266Z"
    },
    "id": "5d6eced4",
    "papermill": {
     "duration": 0.039909,
     "end_time": "2022-06-22T14:23:22.547494",
     "exception": false,
     "start_time": "2022-06-22T14:23:22.507585",
     "status": "completed"
    },
    "tags": []
   },
   "outputs": [
    {
     "name": "stdout",
     "output_type": "stream",
     "text": [
      "          X1           X2        X3        X4         Y\n",
      "0  62.279083   816.401896  0.109120  8.822327  1.089682\n",
      "1   0.386027   306.929655  0.534901  6.013777  1.722340\n",
      "2  72.110704  1216.162804  0.611781  8.253826  1.513646\n",
      "3  93.753086   375.336887  0.448124  4.075323  1.049043\n",
      "4  22.728259   509.786854  0.886830  8.376397  1.523318\n"
     ]
    }
   ],
   "source": [
    "X,Y = friedman3Dataset.friedman3_data(n_samples)"
   ]
  },
  {
   "cell_type": "code",
   "execution_count": 7,
   "id": "fe007438",
   "metadata": {
    "execution": {
     "iopub.execute_input": "2022-06-22T14:23:22.597693Z",
     "iopub.status.busy": "2022-06-22T14:23:22.593173Z",
     "iopub.status.idle": "2022-06-22T14:23:22.599210Z",
     "shell.execute_reply": "2022-06-22T14:23:22.599800Z"
    },
    "id": "fe007438",
    "papermill": {
     "duration": 0.035484,
     "end_time": "2022-06-22T14:23:22.600045",
     "exception": false,
     "start_time": "2022-06-22T14:23:22.564561",
     "status": "completed"
    },
    "tags": []
   },
   "outputs": [],
   "source": [
    "#Train test split for dataset \n",
    "X_train,X_test,Y_train,Y_test = train_test_split(X,Y,test_size = 0.2)\n",
    "train_data = dataset.CustomDataset(X_train,Y_train)\n",
    "test_data = dataset.CustomDataset(X_test,Y_test)\n"
   ]
  },
  {
   "cell_type": "markdown",
   "id": "a9a1af34",
   "metadata": {
    "id": "a9a1af34",
    "papermill": {
     "duration": 0.018842,
     "end_time": "2022-06-22T14:23:22.638340",
     "exception": false,
     "start_time": "2022-06-22T14:23:22.619498",
     "status": "completed"
    },
    "tags": []
   },
   "source": [
    "## Training Parameters "
   ]
  },
  {
   "cell_type": "code",
   "execution_count": 8,
   "id": "952b7fc8",
   "metadata": {
    "execution": {
     "iopub.execute_input": "2022-06-22T14:23:22.680627Z",
     "iopub.status.busy": "2022-06-22T14:23:22.679671Z",
     "iopub.status.idle": "2022-06-22T14:23:22.683765Z",
     "shell.execute_reply": "2022-06-22T14:23:22.684653Z"
    },
    "id": "952b7fc8",
    "papermill": {
     "duration": 0.026511,
     "end_time": "2022-06-22T14:23:22.685069",
     "exception": false,
     "start_time": "2022-06-22T14:23:22.658558",
     "status": "completed"
    },
    "tags": []
   },
   "outputs": [],
   "source": [
    "batch_size = 32\n",
    "n_epochs = 1000\n",
    "#Select the device \n",
    "device = torch.device('cuda' if torch.cuda.is_available() else 'cpu')"
   ]
  },
  {
   "cell_type": "markdown",
   "id": "a95e1600",
   "metadata": {
    "id": "a95e1600",
    "papermill": {
     "duration": 0.018797,
     "end_time": "2022-06-22T14:23:22.723110",
     "exception": false,
     "start_time": "2022-06-22T14:23:22.704313",
     "status": "completed"
    },
    "tags": []
   },
   "source": [
    "# ABC Pre-generator Model \n",
    "\n",
    "1. The catboost model is used as a pre-generator model for the ABC-GAN. \n",
    "2. The model is first trained on the entire dataset \n",
    "3. It generats X,Y pairs and we add some Gaussian noise with mean 0 and variance 1 to it which is then feed as input to the generator.\n"
   ]
  },
  {
   "cell_type": "code",
   "execution_count": 9,
   "id": "ff8ce7bd",
   "metadata": {
    "execution": {
     "iopub.execute_input": "2022-06-22T14:23:22.773640Z",
     "iopub.status.busy": "2022-06-22T14:23:22.772215Z",
     "iopub.status.idle": "2022-06-22T14:23:54.669806Z",
     "shell.execute_reply": "2022-06-22T14:23:54.670659Z"
    },
    "id": "ff8ce7bd",
    "papermill": {
     "duration": 31.923572,
     "end_time": "2022-06-22T14:23:54.670898",
     "exception": false,
     "start_time": "2022-06-22T14:23:22.747326",
     "status": "completed"
    },
    "tags": []
   },
   "outputs": [
    {
     "name": "stdout",
     "output_type": "stream",
     "text": [
      "Device used : cpu\n"
     ]
    },
    {
     "name": "stdout",
     "output_type": "stream",
     "text": [
      "epoch 0  | loss: 1.1089  | train_mse: 2.98002 | train_mae: 1.36738 |  0:00:00s\n",
      "epoch 1  | loss: 0.81433 | train_mse: 2.04178 | train_mae: 1.11227 |  0:00:00s\n",
      "epoch 2  | loss: 0.62469 | train_mse: 1.42088 | train_mae: 0.91695 |  0:00:00s\n"
     ]
    },
    {
     "name": "stdout",
     "output_type": "stream",
     "text": [
      "epoch 3  | loss: 0.61433 | train_mse: 1.21289 | train_mae: 0.83989 |  0:00:00s\n",
      "epoch 4  | loss: 0.76353 | train_mse: 1.28184 | train_mae: 0.83623 |  0:00:00s\n",
      "epoch 5  | loss: 0.70423 | train_mse: 0.9214  | train_mae: 0.73815 |  0:00:00s\n"
     ]
    },
    {
     "name": "stdout",
     "output_type": "stream",
     "text": [
      "epoch 6  | loss: 0.44187 | train_mse: 0.77358 | train_mae: 0.69541 |  0:00:00s\n",
      "epoch 7  | loss: 0.49194 | train_mse: 0.75935 | train_mae: 0.71024 |  0:00:00s\n",
      "epoch 8  | loss: 0.53882 | train_mse: 0.83756 | train_mae: 0.71931 |  0:00:00s\n"
     ]
    },
    {
     "name": "stdout",
     "output_type": "stream",
     "text": [
      "epoch 9  | loss: 0.66671 | train_mse: 0.77181 | train_mae: 0.64885 |  0:00:01s\n",
      "epoch 10 | loss: 0.39028 | train_mse: 0.55638 | train_mae: 0.55791 |  0:00:01s\n",
      "epoch 11 | loss: 0.52746 | train_mse: 0.62205 | train_mae: 0.58101 |  0:00:01s\n"
     ]
    },
    {
     "name": "stdout",
     "output_type": "stream",
     "text": [
      "epoch 12 | loss: 0.59183 | train_mse: 0.59724 | train_mae: 0.56502 |  0:00:01s\n",
      "epoch 13 | loss: 0.36965 | train_mse: 0.55025 | train_mae: 0.56383 |  0:00:01s\n",
      "epoch 14 | loss: 0.44572 | train_mse: 0.46315 | train_mae: 0.51678 |  0:00:01s\n"
     ]
    },
    {
     "name": "stdout",
     "output_type": "stream",
     "text": [
      "epoch 15 | loss: 0.51814 | train_mse: 0.36424 | train_mae: 0.44067 |  0:00:01s\n",
      "epoch 16 | loss: 0.45415 | train_mse: 0.34281 | train_mae: 0.4345  |  0:00:01s\n",
      "epoch 17 | loss: 0.37177 | train_mse: 0.34102 | train_mae: 0.44804 |  0:00:01s\n"
     ]
    },
    {
     "name": "stdout",
     "output_type": "stream",
     "text": [
      "epoch 18 | loss: 0.4084  | train_mse: 0.36984 | train_mae: 0.49091 |  0:00:01s\n",
      "epoch 19 | loss: 0.27758 | train_mse: 0.33083 | train_mae: 0.45668 |  0:00:01s\n",
      "epoch 20 | loss: 0.31354 | train_mse: 0.27374 | train_mae: 0.40042 |  0:00:01s\n"
     ]
    },
    {
     "name": "stdout",
     "output_type": "stream",
     "text": [
      "epoch 21 | loss: 0.39014 | train_mse: 0.3317  | train_mae: 0.44216 |  0:00:02s\n",
      "epoch 22 | loss: 0.29482 | train_mse: 0.31874 | train_mae: 0.42327 |  0:00:02s\n"
     ]
    },
    {
     "name": "stdout",
     "output_type": "stream",
     "text": [
      "epoch 23 | loss: 0.2863  | train_mse: 0.26235 | train_mae: 0.39854 |  0:00:02s\n",
      "epoch 24 | loss: 0.29839 | train_mse: 0.29465 | train_mae: 0.41132 |  0:00:02s\n",
      "epoch 25 | loss: 0.43624 | train_mse: 0.26952 | train_mae: 0.39005 |  0:00:02s\n"
     ]
    },
    {
     "name": "stdout",
     "output_type": "stream",
     "text": [
      "epoch 26 | loss: 0.35684 | train_mse: 0.27746 | train_mae: 0.399   |  0:00:02s\n",
      "epoch 27 | loss: 0.30305 | train_mse: 0.27782 | train_mae: 0.39513 |  0:00:02s\n",
      "epoch 28 | loss: 0.29248 | train_mse: 0.24264 | train_mae: 0.38683 |  0:00:02s\n"
     ]
    },
    {
     "name": "stdout",
     "output_type": "stream",
     "text": [
      "epoch 29 | loss: 0.40808 | train_mse: 0.31524 | train_mae: 0.43817 |  0:00:02s\n",
      "epoch 30 | loss: 0.26497 | train_mse: 0.35334 | train_mae: 0.45465 |  0:00:02s\n",
      "epoch 31 | loss: 0.26266 | train_mse: 0.33603 | train_mae: 0.44898 |  0:00:03s\n"
     ]
    },
    {
     "name": "stdout",
     "output_type": "stream",
     "text": [
      "epoch 32 | loss: 0.34461 | train_mse: 0.31844 | train_mae: 0.43137 |  0:00:03s\n",
      "epoch 33 | loss: 0.27824 | train_mse: 0.28384 | train_mae: 0.38241 |  0:00:03s\n",
      "epoch 34 | loss: 0.33105 | train_mse: 0.33023 | train_mae: 0.41906 |  0:00:03s\n"
     ]
    },
    {
     "name": "stdout",
     "output_type": "stream",
     "text": [
      "epoch 35 | loss: 0.30695 | train_mse: 0.30579 | train_mae: 0.41645 |  0:00:03s\n",
      "epoch 36 | loss: 0.26146 | train_mse: 0.44773 | train_mae: 0.4383  |  0:00:03s\n",
      "epoch 37 | loss: 0.41232 | train_mse: 0.53067 | train_mae: 0.49434 |  0:00:03s\n"
     ]
    },
    {
     "name": "stdout",
     "output_type": "stream",
     "text": [
      "epoch 38 | loss: 0.36246 | train_mse: 0.36573 | train_mae: 0.44338 |  0:00:03s\n",
      "epoch 39 | loss: 0.37404 | train_mse: 0.37248 | train_mae: 0.43524 |  0:00:03s\n",
      "epoch 40 | loss: 0.31253 | train_mse: 0.39457 | train_mae: 0.45409 |  0:00:03s\n"
     ]
    },
    {
     "name": "stdout",
     "output_type": "stream",
     "text": [
      "epoch 41 | loss: 0.41182 | train_mse: 0.44488 | train_mae: 0.4636  |  0:00:03s\n",
      "epoch 42 | loss: 0.317   | train_mse: 0.38576 | train_mae: 0.41877 |  0:00:03s\n",
      "epoch 43 | loss: 0.39119 | train_mse: 0.3121  | train_mae: 0.39535 |  0:00:04s\n"
     ]
    },
    {
     "name": "stdout",
     "output_type": "stream",
     "text": [
      "epoch 44 | loss: 0.30808 | train_mse: 0.24212 | train_mae: 0.37431 |  0:00:04s\n",
      "epoch 45 | loss: 0.23142 | train_mse: 0.20968 | train_mae: 0.34779 |  0:00:04s\n",
      "epoch 46 | loss: 0.27594 | train_mse: 0.19318 | train_mae: 0.32422 |  0:00:04s\n"
     ]
    },
    {
     "name": "stdout",
     "output_type": "stream",
     "text": [
      "epoch 47 | loss: 0.19687 | train_mse: 0.17063 | train_mae: 0.315   |  0:00:04s\n",
      "epoch 48 | loss: 0.2102  | train_mse: 0.17171 | train_mae: 0.31269 |  0:00:04s\n",
      "epoch 49 | loss: 0.21909 | train_mse: 0.17545 | train_mae: 0.31687 |  0:00:04s\n"
     ]
    },
    {
     "name": "stdout",
     "output_type": "stream",
     "text": [
      "epoch 50 | loss: 0.22296 | train_mse: 0.19063 | train_mae: 0.33427 |  0:00:04s\n",
      "epoch 51 | loss: 0.21989 | train_mse: 0.17315 | train_mae: 0.33147 |  0:00:04s\n",
      "epoch 52 | loss: 0.27303 | train_mse: 0.22566 | train_mae: 0.36349 |  0:00:04s\n"
     ]
    },
    {
     "name": "stdout",
     "output_type": "stream",
     "text": [
      "epoch 53 | loss: 0.30758 | train_mse: 0.23688 | train_mae: 0.36688 |  0:00:04s\n",
      "epoch 54 | loss: 0.2641  | train_mse: 0.26412 | train_mae: 0.38689 |  0:00:04s\n",
      "epoch 55 | loss: 0.26212 | train_mse: 0.24888 | train_mae: 0.37693 |  0:00:05s\n"
     ]
    },
    {
     "name": "stdout",
     "output_type": "stream",
     "text": [
      "epoch 56 | loss: 0.31521 | train_mse: 0.23851 | train_mae: 0.3611  |  0:00:05s\n",
      "epoch 57 | loss: 0.32718 | train_mse: 0.2304  | train_mae: 0.36841 |  0:00:05s\n",
      "epoch 58 | loss: 0.27927 | train_mse: 0.19949 | train_mae: 0.35232 |  0:00:05s\n"
     ]
    },
    {
     "name": "stdout",
     "output_type": "stream",
     "text": [
      "epoch 59 | loss: 0.26415 | train_mse: 0.15807 | train_mae: 0.31452 |  0:00:05s\n",
      "epoch 60 | loss: 0.54158 | train_mse: 0.15983 | train_mae: 0.31908 |  0:00:05s\n",
      "epoch 61 | loss: 0.26329 | train_mse: 0.18138 | train_mae: 0.32774 |  0:00:05s\n"
     ]
    },
    {
     "name": "stdout",
     "output_type": "stream",
     "text": [
      "epoch 62 | loss: 0.26267 | train_mse: 0.15214 | train_mae: 0.3054  |  0:00:05s\n",
      "epoch 63 | loss: 0.23327 | train_mse: 0.13346 | train_mae: 0.29658 |  0:00:05s\n",
      "epoch 64 | loss: 0.21517 | train_mse: 0.14486 | train_mae: 0.30459 |  0:00:05s\n"
     ]
    },
    {
     "name": "stdout",
     "output_type": "stream",
     "text": [
      "epoch 65 | loss: 0.17648 | train_mse: 0.14612 | train_mae: 0.29534 |  0:00:05s\n",
      "epoch 66 | loss: 0.14971 | train_mse: 0.14307 | train_mae: 0.29111 |  0:00:06s\n"
     ]
    },
    {
     "name": "stdout",
     "output_type": "stream",
     "text": [
      "epoch 67 | loss: 0.19797 | train_mse: 0.16549 | train_mae: 0.30339 |  0:00:06s\n",
      "epoch 68 | loss: 0.19917 | train_mse: 0.15567 | train_mae: 0.30264 |  0:00:06s\n",
      "epoch 69 | loss: 0.1914  | train_mse: 0.15156 | train_mae: 0.29477 |  0:00:06s\n"
     ]
    },
    {
     "name": "stdout",
     "output_type": "stream",
     "text": [
      "epoch 70 | loss: 0.31206 | train_mse: 0.13517 | train_mae: 0.29272 |  0:00:06s\n",
      "epoch 71 | loss: 0.21647 | train_mse: 0.13071 | train_mae: 0.29288 |  0:00:06s\n",
      "epoch 72 | loss: 0.20524 | train_mse: 0.13616 | train_mae: 0.29572 |  0:00:06s\n"
     ]
    },
    {
     "name": "stdout",
     "output_type": "stream",
     "text": [
      "epoch 73 | loss: 0.2555  | train_mse: 0.13525 | train_mae: 0.28384 |  0:00:06s\n",
      "epoch 74 | loss: 0.46689 | train_mse: 0.13601 | train_mae: 0.29105 |  0:00:06s\n",
      "epoch 75 | loss: 0.20742 | train_mse: 0.15059 | train_mae: 0.30151 |  0:00:06s\n"
     ]
    },
    {
     "name": "stdout",
     "output_type": "stream",
     "text": [
      "epoch 76 | loss: 0.19667 | train_mse: 0.13804 | train_mae: 0.29361 |  0:00:06s\n",
      "epoch 77 | loss: 0.21844 | train_mse: 0.13004 | train_mae: 0.29039 |  0:00:06s\n",
      "epoch 78 | loss: 0.19746 | train_mse: 0.1369  | train_mae: 0.28382 |  0:00:07s\n"
     ]
    },
    {
     "name": "stdout",
     "output_type": "stream",
     "text": [
      "epoch 79 | loss: 0.22322 | train_mse: 0.16653 | train_mae: 0.30561 |  0:00:07s\n",
      "epoch 80 | loss: 0.18201 | train_mse: 0.12952 | train_mae: 0.2768  |  0:00:07s\n",
      "epoch 81 | loss: 0.16844 | train_mse: 0.10926 | train_mae: 0.26341 |  0:00:07s\n"
     ]
    },
    {
     "name": "stdout",
     "output_type": "stream",
     "text": [
      "epoch 82 | loss: 0.18006 | train_mse: 0.12547 | train_mae: 0.27598 |  0:00:07s\n",
      "epoch 83 | loss: 0.13291 | train_mse: 0.14403 | train_mae: 0.28631 |  0:00:07s\n",
      "epoch 84 | loss: 0.22219 | train_mse: 0.13674 | train_mae: 0.27865 |  0:00:07s\n"
     ]
    },
    {
     "name": "stdout",
     "output_type": "stream",
     "text": [
      "epoch 85 | loss: 0.14854 | train_mse: 0.11403 | train_mae: 0.25546 |  0:00:07s\n",
      "epoch 86 | loss: 0.19422 | train_mse: 0.13809 | train_mae: 0.28363 |  0:00:07s\n",
      "epoch 87 | loss: 0.28223 | train_mse: 0.16224 | train_mae: 0.30488 |  0:00:07s\n"
     ]
    },
    {
     "name": "stdout",
     "output_type": "stream",
     "text": [
      "epoch 88 | loss: 0.15061 | train_mse: 0.15847 | train_mae: 0.30667 |  0:00:07s\n",
      "epoch 89 | loss: 0.19002 | train_mse: 0.16076 | train_mae: 0.30892 |  0:00:08s\n",
      "epoch 90 | loss: 0.23628 | train_mse: 0.16509 | train_mae: 0.31109 |  0:00:08s\n"
     ]
    },
    {
     "name": "stdout",
     "output_type": "stream",
     "text": [
      "epoch 91 | loss: 0.20221 | train_mse: 0.14063 | train_mae: 0.28815 |  0:00:08s\n",
      "epoch 92 | loss: 0.15815 | train_mse: 0.12846 | train_mae: 0.27979 |  0:00:08s\n",
      "epoch 93 | loss: 0.13589 | train_mse: 0.13695 | train_mae: 0.28846 |  0:00:08s\n"
     ]
    },
    {
     "name": "stdout",
     "output_type": "stream",
     "text": [
      "epoch 94 | loss: 0.16108 | train_mse: 0.14516 | train_mae: 0.29163 |  0:00:08s\n",
      "epoch 95 | loss: 0.19965 | train_mse: 0.17399 | train_mae: 0.30615 |  0:00:08s\n",
      "epoch 96 | loss: 0.15434 | train_mse: 0.16731 | train_mae: 0.30221 |  0:00:08s\n"
     ]
    },
    {
     "name": "stdout",
     "output_type": "stream",
     "text": [
      "epoch 97 | loss: 0.13508 | train_mse: 0.15033 | train_mae: 0.28661 |  0:00:08s\n",
      "epoch 98 | loss: 0.38393 | train_mse: 0.1459  | train_mae: 0.28582 |  0:00:08s\n",
      "epoch 99 | loss: 0.22502 | train_mse: 0.14007 | train_mae: 0.28499 |  0:00:08s\n"
     ]
    },
    {
     "name": "stdout",
     "output_type": "stream",
     "text": [
      "epoch 100| loss: 0.16012 | train_mse: 0.13367 | train_mae: 0.28751 |  0:00:08s\n",
      "epoch 101| loss: 0.16235 | train_mse: 0.1293  | train_mae: 0.28515 |  0:00:09s\n",
      "epoch 102| loss: 0.17769 | train_mse: 0.13769 | train_mae: 0.2966  |  0:00:09s\n"
     ]
    },
    {
     "name": "stdout",
     "output_type": "stream",
     "text": [
      "epoch 103| loss: 0.20557 | train_mse: 0.14478 | train_mae: 0.29452 |  0:00:09s\n",
      "epoch 104| loss: 0.13756 | train_mse: 0.14384 | train_mae: 0.29307 |  0:00:09s\n",
      "epoch 105| loss: 0.17752 | train_mse: 0.15095 | train_mae: 0.30698 |  0:00:09s\n"
     ]
    },
    {
     "name": "stdout",
     "output_type": "stream",
     "text": [
      "epoch 106| loss: 0.2008  | train_mse: 0.14435 | train_mae: 0.30608 |  0:00:09s\n",
      "epoch 107| loss: 0.17395 | train_mse: 0.1435  | train_mae: 0.30595 |  0:00:09s\n"
     ]
    },
    {
     "name": "stdout",
     "output_type": "stream",
     "text": [
      "epoch 108| loss: 0.13467 | train_mse: 0.15048 | train_mae: 0.30578 |  0:00:09s\n",
      "epoch 109| loss: 0.18463 | train_mse: 0.15925 | train_mae: 0.30633 |  0:00:09s\n",
      "epoch 110| loss: 0.17601 | train_mse: 0.14828 | train_mae: 0.29915 |  0:00:09s\n"
     ]
    },
    {
     "name": "stdout",
     "output_type": "stream",
     "text": [
      "epoch 111| loss: 0.16112 | train_mse: 0.13932 | train_mae: 0.29122 |  0:00:09s\n",
      "epoch 112| loss: 0.16095 | train_mse: 0.1343  | train_mae: 0.28325 |  0:00:09s\n"
     ]
    },
    {
     "name": "stdout",
     "output_type": "stream",
     "text": [
      "epoch 113| loss: 0.17246 | train_mse: 0.12396 | train_mae: 0.27321 |  0:00:10s\n",
      "epoch 114| loss: 0.1159  | train_mse: 0.12368 | train_mae: 0.27574 |  0:00:10s\n",
      "epoch 115| loss: 0.14948 | train_mse: 0.13579 | train_mae: 0.28756 |  0:00:10s\n"
     ]
    },
    {
     "name": "stdout",
     "output_type": "stream",
     "text": [
      "epoch 116| loss: 0.16317 | train_mse: 0.15176 | train_mae: 0.29096 |  0:00:10s\n",
      "epoch 117| loss: 0.16235 | train_mse: 0.17013 | train_mae: 0.31131 |  0:00:10s\n",
      "epoch 118| loss: 0.12761 | train_mse: 0.1544  | train_mae: 0.30314 |  0:00:10s\n"
     ]
    },
    {
     "name": "stdout",
     "output_type": "stream",
     "text": [
      "epoch 119| loss: 0.20758 | train_mse: 0.14976 | train_mae: 0.29193 |  0:00:10s\n",
      "epoch 120| loss: 0.13116 | train_mse: 0.15425 | train_mae: 0.29999 |  0:00:10s\n",
      "epoch 121| loss: 0.20147 | train_mse: 0.17987 | train_mae: 0.33684 |  0:00:10s\n"
     ]
    },
    {
     "name": "stdout",
     "output_type": "stream",
     "text": [
      "epoch 122| loss: 0.15331 | train_mse: 0.14001 | train_mae: 0.2879  |  0:00:10s\n",
      "epoch 123| loss: 0.11439 | train_mse: 0.12372 | train_mae: 0.26995 |  0:00:10s\n",
      "epoch 124| loss: 0.12161 | train_mse: 0.12519 | train_mae: 0.27801 |  0:00:11s\n"
     ]
    },
    {
     "name": "stdout",
     "output_type": "stream",
     "text": [
      "epoch 125| loss: 0.17097 | train_mse: 0.12916 | train_mae: 0.27853 |  0:00:11s\n",
      "epoch 126| loss: 0.15301 | train_mse: 0.14417 | train_mae: 0.28747 |  0:00:11s\n",
      "epoch 127| loss: 0.23662 | train_mse: 0.12618 | train_mae: 0.27215 |  0:00:11s\n"
     ]
    },
    {
     "name": "stdout",
     "output_type": "stream",
     "text": [
      "epoch 128| loss: 0.12545 | train_mse: 0.11896 | train_mae: 0.26327 |  0:00:11s\n",
      "epoch 129| loss: 0.12584 | train_mse: 0.1129  | train_mae: 0.25496 |  0:00:11s\n",
      "epoch 130| loss: 0.14279 | train_mse: 0.12857 | train_mae: 0.25977 |  0:00:11s\n"
     ]
    },
    {
     "name": "stdout",
     "output_type": "stream",
     "text": [
      "epoch 131| loss: 0.20123 | train_mse: 0.15804 | train_mae: 0.29425 |  0:00:11s\n",
      "epoch 132| loss: 0.1754  | train_mse: 0.16131 | train_mae: 0.29871 |  0:00:11s\n",
      "epoch 133| loss: 0.14619 | train_mse: 0.12293 | train_mae: 0.26901 |  0:00:11s\n"
     ]
    },
    {
     "name": "stdout",
     "output_type": "stream",
     "text": [
      "epoch 134| loss: 0.13287 | train_mse: 0.11395 | train_mae: 0.26337 |  0:00:11s\n",
      "epoch 135| loss: 0.24454 | train_mse: 0.10857 | train_mae: 0.25103 |  0:00:11s\n",
      "epoch 136| loss: 0.1329  | train_mse: 0.10909 | train_mae: 0.25344 |  0:00:12s\n"
     ]
    },
    {
     "name": "stdout",
     "output_type": "stream",
     "text": [
      "epoch 137| loss: 0.17793 | train_mse: 0.11417 | train_mae: 0.26243 |  0:00:12s\n",
      "epoch 138| loss: 0.13322 | train_mse: 0.12571 | train_mae: 0.26799 |  0:00:12s\n",
      "epoch 139| loss: 0.15951 | train_mse: 0.13441 | train_mae: 0.26539 |  0:00:12s\n"
     ]
    },
    {
     "name": "stdout",
     "output_type": "stream",
     "text": [
      "epoch 140| loss: 0.23488 | train_mse: 0.14424 | train_mae: 0.26882 |  0:00:12s\n",
      "epoch 141| loss: 0.16675 | train_mse: 0.1231  | train_mae: 0.25558 |  0:00:12s\n",
      "epoch 142| loss: 0.14137 | train_mse: 0.13921 | train_mae: 0.28415 |  0:00:12s\n"
     ]
    },
    {
     "name": "stdout",
     "output_type": "stream",
     "text": [
      "epoch 143| loss: 0.16923 | train_mse: 0.13471 | train_mae: 0.28281 |  0:00:12s\n",
      "epoch 144| loss: 0.12825 | train_mse: 0.11594 | train_mae: 0.26412 |  0:00:12s\n",
      "epoch 145| loss: 0.16095 | train_mse: 0.11138 | train_mae: 0.25849 |  0:00:12s\n"
     ]
    },
    {
     "name": "stdout",
     "output_type": "stream",
     "text": [
      "epoch 146| loss: 0.18173 | train_mse: 0.10986 | train_mae: 0.25599 |  0:00:12s\n",
      "epoch 147| loss: 0.2603  | train_mse: 0.11576 | train_mae: 0.2653  |  0:00:13s\n",
      "epoch 148| loss: 0.11388 | train_mse: 0.10922 | train_mae: 0.25666 |  0:00:13s\n"
     ]
    },
    {
     "name": "stdout",
     "output_type": "stream",
     "text": [
      "epoch 149| loss: 0.11801 | train_mse: 0.10477 | train_mae: 0.25162 |  0:00:13s\n",
      "epoch 150| loss: 0.19245 | train_mse: 0.11432 | train_mae: 0.26713 |  0:00:13s\n",
      "epoch 151| loss: 0.1374  | train_mse: 0.11265 | train_mae: 0.2696  |  0:00:13s\n"
     ]
    },
    {
     "name": "stdout",
     "output_type": "stream",
     "text": [
      "epoch 152| loss: 0.12283 | train_mse: 0.10419 | train_mae: 0.25819 |  0:00:13s\n",
      "epoch 153| loss: 0.1473  | train_mse: 0.09737 | train_mae: 0.23929 |  0:00:13s\n"
     ]
    },
    {
     "name": "stdout",
     "output_type": "stream",
     "text": [
      "epoch 154| loss: 0.1336  | train_mse: 0.10997 | train_mae: 0.25273 |  0:00:13s\n",
      "epoch 155| loss: 0.12778 | train_mse: 0.1062  | train_mae: 0.24979 |  0:00:13s\n",
      "epoch 156| loss: 0.12458 | train_mse: 0.09908 | train_mae: 0.23946 |  0:00:13s\n"
     ]
    },
    {
     "name": "stdout",
     "output_type": "stream",
     "text": [
      "epoch 157| loss: 0.23214 | train_mse: 0.10539 | train_mae: 0.24634 |  0:00:13s\n",
      "epoch 158| loss: 0.13114 | train_mse: 0.10935 | train_mae: 0.24713 |  0:00:14s\n"
     ]
    },
    {
     "name": "stdout",
     "output_type": "stream",
     "text": [
      "epoch 159| loss: 0.17043 | train_mse: 0.10296 | train_mae: 0.2503  |  0:00:14s\n",
      "epoch 160| loss: 0.14335 | train_mse: 0.09797 | train_mae: 0.24849 |  0:00:14s\n",
      "epoch 161| loss: 0.1201  | train_mse: 0.09193 | train_mae: 0.244   |  0:00:14s\n"
     ]
    },
    {
     "name": "stdout",
     "output_type": "stream",
     "text": [
      "epoch 162| loss: 0.1222  | train_mse: 0.08932 | train_mae: 0.23171 |  0:00:14s\n",
      "epoch 163| loss: 0.1155  | train_mse: 0.09151 | train_mae: 0.23611 |  0:00:14s\n",
      "epoch 164| loss: 0.10366 | train_mse: 0.09338 | train_mae: 0.23868 |  0:00:14s\n"
     ]
    },
    {
     "name": "stdout",
     "output_type": "stream",
     "text": [
      "epoch 165| loss: 0.12279 | train_mse: 0.1019  | train_mae: 0.25073 |  0:00:14s\n",
      "epoch 166| loss: 0.15552 | train_mse: 0.0948  | train_mae: 0.24304 |  0:00:14s\n",
      "epoch 167| loss: 0.17956 | train_mse: 0.08946 | train_mae: 0.23328 |  0:00:14s\n"
     ]
    },
    {
     "name": "stdout",
     "output_type": "stream",
     "text": [
      "epoch 168| loss: 0.10812 | train_mse: 0.08296 | train_mae: 0.22076 |  0:00:14s\n",
      "epoch 169| loss: 0.13092 | train_mse: 0.08557 | train_mae: 0.21803 |  0:00:15s\n",
      "epoch 170| loss: 0.15365 | train_mse: 0.08156 | train_mae: 0.21231 |  0:00:15s\n"
     ]
    },
    {
     "name": "stdout",
     "output_type": "stream",
     "text": [
      "epoch 171| loss: 0.14279 | train_mse: 0.08265 | train_mae: 0.2196  |  0:00:15s\n",
      "epoch 172| loss: 0.11986 | train_mse: 0.09188 | train_mae: 0.23263 |  0:00:15s\n",
      "epoch 173| loss: 0.1241  | train_mse: 0.099   | train_mae: 0.23462 |  0:00:15s\n"
     ]
    },
    {
     "name": "stdout",
     "output_type": "stream",
     "text": [
      "epoch 174| loss: 0.15626 | train_mse: 0.09695 | train_mae: 0.22788 |  0:00:15s\n",
      "epoch 175| loss: 0.13173 | train_mse: 0.08832 | train_mae: 0.22043 |  0:00:15s\n",
      "epoch 176| loss: 0.09843 | train_mse: 0.08496 | train_mae: 0.22654 |  0:00:15s\n"
     ]
    },
    {
     "name": "stdout",
     "output_type": "stream",
     "text": [
      "epoch 177| loss: 0.14737 | train_mse: 0.09107 | train_mae: 0.23362 |  0:00:15s\n",
      "epoch 178| loss: 0.10621 | train_mse: 0.10371 | train_mae: 0.23925 |  0:00:15s\n",
      "epoch 179| loss: 0.13635 | train_mse: 0.1154  | train_mae: 0.25297 |  0:00:15s\n"
     ]
    },
    {
     "name": "stdout",
     "output_type": "stream",
     "text": [
      "epoch 180| loss: 0.2019  | train_mse: 0.1267  | train_mae: 0.26452 |  0:00:16s\n",
      "epoch 181| loss: 0.14126 | train_mse: 0.10573 | train_mae: 0.24316 |  0:00:16s\n",
      "epoch 182| loss: 0.11382 | train_mse: 0.08888 | train_mae: 0.23124 |  0:00:16s\n"
     ]
    },
    {
     "name": "stdout",
     "output_type": "stream",
     "text": [
      "epoch 183| loss: 0.18136 | train_mse: 0.09563 | train_mae: 0.24333 |  0:00:16s\n",
      "epoch 184| loss: 0.14047 | train_mse: 0.10477 | train_mae: 0.25293 |  0:00:16s\n",
      "epoch 185| loss: 0.18817 | train_mse: 0.11323 | train_mae: 0.25716 |  0:00:16s\n"
     ]
    },
    {
     "name": "stdout",
     "output_type": "stream",
     "text": [
      "epoch 186| loss: 0.12157 | train_mse: 0.1049  | train_mae: 0.24566 |  0:00:16s\n",
      "epoch 187| loss: 0.14283 | train_mse: 0.10081 | train_mae: 0.23949 |  0:00:16s\n",
      "epoch 188| loss: 0.11284 | train_mse: 0.11184 | train_mae: 0.25432 |  0:00:16s\n"
     ]
    },
    {
     "name": "stdout",
     "output_type": "stream",
     "text": [
      "epoch 189| loss: 0.13923 | train_mse: 0.09958 | train_mae: 0.24663 |  0:00:16s\n",
      "epoch 190| loss: 0.12311 | train_mse: 0.08476 | train_mae: 0.22675 |  0:00:16s\n",
      "epoch 191| loss: 0.10235 | train_mse: 0.09188 | train_mae: 0.23969 |  0:00:16s\n"
     ]
    },
    {
     "name": "stdout",
     "output_type": "stream",
     "text": [
      "epoch 192| loss: 0.13941 | train_mse: 0.09116 | train_mae: 0.2372  |  0:00:17s\n",
      "epoch 193| loss: 0.13776 | train_mse: 0.10003 | train_mae: 0.2535  |  0:00:17s\n",
      "epoch 194| loss: 0.19027 | train_mse: 0.09841 | train_mae: 0.24911 |  0:00:17s\n"
     ]
    },
    {
     "name": "stdout",
     "output_type": "stream",
     "text": [
      "epoch 195| loss: 0.10095 | train_mse: 0.09617 | train_mae: 0.23978 |  0:00:17s\n",
      "epoch 196| loss: 0.09947 | train_mse: 0.08578 | train_mae: 0.22216 |  0:00:17s\n",
      "epoch 197| loss: 0.114   | train_mse: 0.0835  | train_mae: 0.21865 |  0:00:17s\n"
     ]
    },
    {
     "name": "stdout",
     "output_type": "stream",
     "text": [
      "epoch 198| loss: 0.12249 | train_mse: 0.08652 | train_mae: 0.22576 |  0:00:17s\n",
      "epoch 199| loss: 0.10805 | train_mse: 0.08647 | train_mae: 0.22209 |  0:00:17s\n",
      "epoch 200| loss: 0.10215 | train_mse: 0.07995 | train_mae: 0.21128 |  0:00:17s\n"
     ]
    },
    {
     "name": "stdout",
     "output_type": "stream",
     "text": [
      "epoch 201| loss: 0.12231 | train_mse: 0.09121 | train_mae: 0.23401 |  0:00:17s\n",
      "epoch 202| loss: 0.11927 | train_mse: 0.10141 | train_mae: 0.24873 |  0:00:17s\n",
      "epoch 203| loss: 0.26232 | train_mse: 0.11382 | train_mae: 0.25757 |  0:00:17s\n"
     ]
    },
    {
     "name": "stdout",
     "output_type": "stream",
     "text": [
      "epoch 204| loss: 0.14782 | train_mse: 0.098   | train_mae: 0.23743 |  0:00:18s\n",
      "epoch 205| loss: 0.18529 | train_mse: 0.08612 | train_mae: 0.2159  |  0:00:18s\n",
      "epoch 206| loss: 0.13361 | train_mse: 0.08038 | train_mae: 0.20899 |  0:00:18s\n"
     ]
    },
    {
     "name": "stdout",
     "output_type": "stream",
     "text": [
      "epoch 207| loss: 0.13053 | train_mse: 0.08176 | train_mae: 0.21328 |  0:00:18s\n",
      "epoch 208| loss: 0.15347 | train_mse: 0.08552 | train_mae: 0.21172 |  0:00:18s\n",
      "epoch 209| loss: 0.14816 | train_mse: 0.09235 | train_mae: 0.22606 |  0:00:18s\n"
     ]
    },
    {
     "name": "stdout",
     "output_type": "stream",
     "text": [
      "epoch 210| loss: 0.0933  | train_mse: 0.09428 | train_mae: 0.24053 |  0:00:18s\n",
      "epoch 211| loss: 0.11675 | train_mse: 0.09463 | train_mae: 0.24153 |  0:00:18s\n",
      "epoch 212| loss: 0.13183 | train_mse: 0.08068 | train_mae: 0.21933 |  0:00:18s\n"
     ]
    },
    {
     "name": "stdout",
     "output_type": "stream",
     "text": [
      "epoch 213| loss: 0.10669 | train_mse: 0.07641 | train_mae: 0.2146  |  0:00:18s\n",
      "epoch 214| loss: 0.09393 | train_mse: 0.07725 | train_mae: 0.21352 |  0:00:18s\n",
      "epoch 215| loss: 0.09846 | train_mse: 0.07472 | train_mae: 0.20846 |  0:00:18s\n"
     ]
    },
    {
     "name": "stdout",
     "output_type": "stream",
     "text": [
      "epoch 216| loss: 0.10846 | train_mse: 0.07304 | train_mae: 0.20661 |  0:00:18s\n",
      "epoch 217| loss: 0.16632 | train_mse: 0.08113 | train_mae: 0.22098 |  0:00:19s\n",
      "epoch 218| loss: 0.10416 | train_mse: 0.07502 | train_mae: 0.21066 |  0:00:19s\n"
     ]
    },
    {
     "name": "stdout",
     "output_type": "stream",
     "text": [
      "epoch 219| loss: 0.13951 | train_mse: 0.07462 | train_mae: 0.2149  |  0:00:19s\n",
      "epoch 220| loss: 0.08887 | train_mse: 0.07887 | train_mae: 0.22466 |  0:00:19s\n",
      "epoch 221| loss: 0.07691 | train_mse: 0.07806 | train_mae: 0.21312 |  0:00:19s\n"
     ]
    },
    {
     "name": "stdout",
     "output_type": "stream",
     "text": [
      "epoch 222| loss: 0.16316 | train_mse: 0.09553 | train_mae: 0.23696 |  0:00:19s\n",
      "epoch 223| loss: 0.11878 | train_mse: 0.09827 | train_mae: 0.24338 |  0:00:19s\n",
      "epoch 224| loss: 0.20769 | train_mse: 0.08222 | train_mae: 0.22529 |  0:00:19s\n"
     ]
    },
    {
     "name": "stdout",
     "output_type": "stream",
     "text": [
      "epoch 225| loss: 0.17418 | train_mse: 0.09558 | train_mae: 0.24022 |  0:00:19s\n",
      "epoch 226| loss: 0.19389 | train_mse: 0.07062 | train_mae: 0.19936 |  0:00:19s\n",
      "epoch 227| loss: 0.17623 | train_mse: 0.07768 | train_mae: 0.21678 |  0:00:19s\n"
     ]
    },
    {
     "name": "stdout",
     "output_type": "stream",
     "text": [
      "epoch 228| loss: 0.10269 | train_mse: 0.08865 | train_mae: 0.23469 |  0:00:19s\n",
      "epoch 229| loss: 0.11631 | train_mse: 0.07879 | train_mae: 0.22053 |  0:00:20s\n",
      "epoch 230| loss: 0.1047  | train_mse: 0.08467 | train_mae: 0.2371  |  0:00:20s\n"
     ]
    },
    {
     "name": "stdout",
     "output_type": "stream",
     "text": [
      "epoch 231| loss: 0.11628 | train_mse: 0.08116 | train_mae: 0.23368 |  0:00:20s\n",
      "epoch 232| loss: 0.0861  | train_mse: 0.06576 | train_mae: 0.20193 |  0:00:20s\n",
      "epoch 233| loss: 0.13233 | train_mse: 0.07128 | train_mae: 0.20004 |  0:00:20s\n"
     ]
    },
    {
     "name": "stdout",
     "output_type": "stream",
     "text": [
      "epoch 234| loss: 0.1593  | train_mse: 0.0881  | train_mae: 0.22036 |  0:00:20s\n",
      "epoch 235| loss: 0.13774 | train_mse: 0.0959  | train_mae: 0.23906 |  0:00:20s\n",
      "epoch 236| loss: 0.17    | train_mse: 0.10279 | train_mae: 0.24274 |  0:00:20s\n"
     ]
    },
    {
     "name": "stdout",
     "output_type": "stream",
     "text": [
      "epoch 237| loss: 0.15688 | train_mse: 0.10634 | train_mae: 0.24849 |  0:00:20s\n",
      "epoch 238| loss: 0.11231 | train_mse: 0.1203  | train_mae: 0.27369 |  0:00:20s\n",
      "epoch 239| loss: 0.16349 | train_mse: 0.10122 | train_mae: 0.24957 |  0:00:20s\n"
     ]
    },
    {
     "name": "stdout",
     "output_type": "stream",
     "text": [
      "epoch 240| loss: 0.11112 | train_mse: 0.08603 | train_mae: 0.22387 |  0:00:20s\n",
      "epoch 241| loss: 0.16779 | train_mse: 0.08532 | train_mae: 0.23054 |  0:00:21s\n",
      "epoch 242| loss: 0.16203 | train_mse: 0.08718 | train_mae: 0.23557 |  0:00:21s\n"
     ]
    },
    {
     "name": "stdout",
     "output_type": "stream",
     "text": [
      "epoch 243| loss: 0.09335 | train_mse: 0.08545 | train_mae: 0.22931 |  0:00:21s\n",
      "epoch 244| loss: 0.11614 | train_mse: 0.08492 | train_mae: 0.22497 |  0:00:21s\n",
      "epoch 245| loss: 0.17985 | train_mse: 0.07272 | train_mae: 0.20369 |  0:00:21s\n"
     ]
    },
    {
     "name": "stdout",
     "output_type": "stream",
     "text": [
      "epoch 246| loss: 0.11027 | train_mse: 0.08906 | train_mae: 0.22771 |  0:00:21s\n",
      "epoch 247| loss: 0.14715 | train_mse: 0.08854 | train_mae: 0.23236 |  0:00:21s\n",
      "epoch 248| loss: 0.12968 | train_mse: 0.09489 | train_mae: 0.24068 |  0:00:21s\n"
     ]
    },
    {
     "name": "stdout",
     "output_type": "stream",
     "text": [
      "epoch 249| loss: 0.11658 | train_mse: 0.08568 | train_mae: 0.22134 |  0:00:21s\n",
      "epoch 250| loss: 0.10512 | train_mse: 0.08701 | train_mae: 0.22129 |  0:00:21s\n",
      "epoch 251| loss: 0.17975 | train_mse: 0.08078 | train_mae: 0.21251 |  0:00:21s\n"
     ]
    },
    {
     "name": "stdout",
     "output_type": "stream",
     "text": [
      "epoch 252| loss: 0.14419 | train_mse: 0.07882 | train_mae: 0.21842 |  0:00:21s\n",
      "epoch 253| loss: 0.09648 | train_mse: 0.1037  | train_mae: 0.24934 |  0:00:22s\n",
      "epoch 254| loss: 0.1086  | train_mse: 0.09693 | train_mae: 0.23271 |  0:00:22s\n"
     ]
    },
    {
     "name": "stdout",
     "output_type": "stream",
     "text": [
      "epoch 255| loss: 0.12703 | train_mse: 0.07879 | train_mae: 0.21365 |  0:00:22s\n",
      "epoch 256| loss: 0.12534 | train_mse: 0.07833 | train_mae: 0.21579 |  0:00:22s\n",
      "epoch 257| loss: 0.24625 | train_mse: 0.08511 | train_mae: 0.22589 |  0:00:22s\n"
     ]
    },
    {
     "name": "stdout",
     "output_type": "stream",
     "text": [
      "epoch 258| loss: 0.10438 | train_mse: 0.09751 | train_mae: 0.24705 |  0:00:22s\n",
      "epoch 259| loss: 0.09486 | train_mse: 0.09686 | train_mae: 0.24452 |  0:00:22s\n",
      "epoch 260| loss: 0.09765 | train_mse: 0.10094 | train_mae: 0.25366 |  0:00:22s\n"
     ]
    },
    {
     "name": "stdout",
     "output_type": "stream",
     "text": [
      "epoch 261| loss: 0.17526 | train_mse: 0.07875 | train_mae: 0.21944 |  0:00:22s\n",
      "epoch 262| loss: 0.07594 | train_mse: 0.06902 | train_mae: 0.20414 |  0:00:22s\n",
      "epoch 263| loss: 0.10338 | train_mse: 0.07181 | train_mae: 0.21112 |  0:00:22s\n"
     ]
    },
    {
     "name": "stdout",
     "output_type": "stream",
     "text": [
      "epoch 264| loss: 0.10619 | train_mse: 0.08896 | train_mae: 0.23746 |  0:00:22s\n",
      "epoch 265| loss: 0.10144 | train_mse: 0.10487 | train_mae: 0.25396 |  0:00:23s\n",
      "epoch 266| loss: 0.08992 | train_mse: 0.09238 | train_mae: 0.23744 |  0:00:23s\n"
     ]
    },
    {
     "name": "stdout",
     "output_type": "stream",
     "text": [
      "epoch 267| loss: 0.2776  | train_mse: 0.09301 | train_mae: 0.24358 |  0:00:23s\n",
      "epoch 268| loss: 0.11335 | train_mse: 0.08805 | train_mae: 0.23622 |  0:00:23s\n",
      "epoch 269| loss: 0.1087  | train_mse: 0.1088  | train_mae: 0.26249 |  0:00:23s\n"
     ]
    },
    {
     "name": "stdout",
     "output_type": "stream",
     "text": [
      "epoch 270| loss: 0.13933 | train_mse: 0.07334 | train_mae: 0.20552 |  0:00:23s\n",
      "epoch 271| loss: 0.10914 | train_mse: 0.06965 | train_mae: 0.20318 |  0:00:23s\n",
      "epoch 272| loss: 0.35219 | train_mse: 0.08369 | train_mae: 0.21996 |  0:00:23s\n"
     ]
    },
    {
     "name": "stdout",
     "output_type": "stream",
     "text": [
      "epoch 273| loss: 0.15596 | train_mse: 0.09145 | train_mae: 0.22734 |  0:00:23s\n",
      "epoch 274| loss: 0.09592 | train_mse: 0.0757  | train_mae: 0.20484 |  0:00:23s\n",
      "epoch 275| loss: 0.11609 | train_mse: 0.06957 | train_mae: 0.197   |  0:00:23s\n"
     ]
    },
    {
     "name": "stdout",
     "output_type": "stream",
     "text": [
      "epoch 276| loss: 0.12731 | train_mse: 0.06609 | train_mae: 0.19395 |  0:00:23s\n",
      "epoch 277| loss: 0.22577 | train_mse: 0.07014 | train_mae: 0.1953  |  0:00:24s\n",
      "epoch 278| loss: 0.10159 | train_mse: 0.06885 | train_mae: 0.19354 |  0:00:24s\n"
     ]
    },
    {
     "name": "stdout",
     "output_type": "stream",
     "text": [
      "epoch 279| loss: 0.09437 | train_mse: 0.07007 | train_mae: 0.19866 |  0:00:24s\n",
      "epoch 280| loss: 0.12992 | train_mse: 0.06734 | train_mae: 0.19733 |  0:00:24s\n",
      "epoch 281| loss: 0.11547 | train_mse: 0.06348 | train_mae: 0.19077 |  0:00:24s\n"
     ]
    },
    {
     "name": "stdout",
     "output_type": "stream",
     "text": [
      "epoch 282| loss: 0.13752 | train_mse: 0.06489 | train_mae: 0.19902 |  0:00:24s\n",
      "epoch 283| loss: 0.08782 | train_mse: 0.06294 | train_mae: 0.19799 |  0:00:24s\n",
      "epoch 284| loss: 0.11985 | train_mse: 0.06752 | train_mae: 0.20149 |  0:00:24s\n"
     ]
    },
    {
     "name": "stdout",
     "output_type": "stream",
     "text": [
      "epoch 285| loss: 0.09434 | train_mse: 0.0599  | train_mae: 0.19286 |  0:00:24s\n",
      "epoch 286| loss: 0.06616 | train_mse: 0.06591 | train_mae: 0.20753 |  0:00:24s\n",
      "epoch 287| loss: 0.11155 | train_mse: 0.06315 | train_mae: 0.20162 |  0:00:24s\n"
     ]
    },
    {
     "name": "stdout",
     "output_type": "stream",
     "text": [
      "epoch 288| loss: 0.08995 | train_mse: 0.05792 | train_mae: 0.18426 |  0:00:24s\n",
      "epoch 289| loss: 0.13387 | train_mse: 0.06584 | train_mae: 0.19987 |  0:00:25s\n",
      "epoch 290| loss: 0.09678 | train_mse: 0.06288 | train_mae: 0.19071 |  0:00:25s\n"
     ]
    },
    {
     "name": "stdout",
     "output_type": "stream",
     "text": [
      "epoch 291| loss: 0.10755 | train_mse: 0.06552 | train_mae: 0.19555 |  0:00:25s\n",
      "epoch 292| loss: 0.10284 | train_mse: 0.06048 | train_mae: 0.18766 |  0:00:25s\n",
      "epoch 293| loss: 0.08015 | train_mse: 0.05768 | train_mae: 0.18207 |  0:00:25s\n"
     ]
    },
    {
     "name": "stdout",
     "output_type": "stream",
     "text": [
      "epoch 294| loss: 0.09711 | train_mse: 0.05815 | train_mae: 0.17882 |  0:00:25s\n",
      "epoch 295| loss: 0.10368 | train_mse: 0.06293 | train_mae: 0.18428 |  0:00:25s\n",
      "epoch 296| loss: 0.20216 | train_mse: 0.06671 | train_mae: 0.19576 |  0:00:25s\n"
     ]
    },
    {
     "name": "stdout",
     "output_type": "stream",
     "text": [
      "epoch 297| loss: 0.08502 | train_mse: 0.06733 | train_mae: 0.199   |  0:00:25s\n",
      "epoch 298| loss: 0.13061 | train_mse: 0.0701  | train_mae: 0.2015  |  0:00:25s\n",
      "epoch 299| loss: 0.19997 | train_mse: 0.07096 | train_mae: 0.20203 |  0:00:25s\n"
     ]
    },
    {
     "name": "stdout",
     "output_type": "stream",
     "text": [
      "epoch 300| loss: 0.11461 | train_mse: 0.07793 | train_mae: 0.20782 |  0:00:25s\n",
      "epoch 301| loss: 0.11931 | train_mse: 0.08279 | train_mae: 0.21878 |  0:00:26s\n",
      "epoch 302| loss: 0.13892 | train_mse: 0.07664 | train_mae: 0.21767 |  0:00:26s\n"
     ]
    },
    {
     "name": "stdout",
     "output_type": "stream",
     "text": [
      "epoch 303| loss: 0.14943 | train_mse: 0.09931 | train_mae: 0.24677 |  0:00:26s\n",
      "epoch 304| loss: 0.1531  | train_mse: 0.09859 | train_mae: 0.24204 |  0:00:26s\n",
      "epoch 305| loss: 0.18188 | train_mse: 0.08334 | train_mae: 0.22821 |  0:00:26s\n"
     ]
    },
    {
     "name": "stdout",
     "output_type": "stream",
     "text": [
      "epoch 306| loss: 0.11572 | train_mse: 0.07777 | train_mae: 0.22367 |  0:00:26s\n",
      "epoch 307| loss: 0.12167 | train_mse: 0.06572 | train_mae: 0.20039 |  0:00:26s\n",
      "epoch 308| loss: 0.11824 | train_mse: 0.06625 | train_mae: 0.19357 |  0:00:26s\n"
     ]
    },
    {
     "name": "stdout",
     "output_type": "stream",
     "text": [
      "epoch 309| loss: 0.10032 | train_mse: 0.06816 | train_mae: 0.19835 |  0:00:26s\n",
      "epoch 310| loss: 0.10917 | train_mse: 0.07567 | train_mae: 0.21264 |  0:00:26s\n",
      "epoch 311| loss: 0.06807 | train_mse: 0.08932 | train_mae: 0.22279 |  0:00:26s\n"
     ]
    },
    {
     "name": "stdout",
     "output_type": "stream",
     "text": [
      "epoch 312| loss: 0.08343 | train_mse: 0.09163 | train_mae: 0.22347 |  0:00:26s\n",
      "epoch 313| loss: 0.10281 | train_mse: 0.0703  | train_mae: 0.19615 |  0:00:27s\n",
      "epoch 314| loss: 0.12266 | train_mse: 0.06469 | train_mae: 0.19208 |  0:00:27s\n"
     ]
    },
    {
     "name": "stdout",
     "output_type": "stream",
     "text": [
      "epoch 315| loss: 0.12531 | train_mse: 0.0655  | train_mae: 0.1924  |  0:00:27s\n",
      "epoch 316| loss: 0.11501 | train_mse: 0.07398 | train_mae: 0.20307 |  0:00:27s\n",
      "epoch 317| loss: 0.08203 | train_mse: 0.07826 | train_mae: 0.20931 |  0:00:27s\n"
     ]
    },
    {
     "name": "stdout",
     "output_type": "stream",
     "text": [
      "epoch 318| loss: 0.18268 | train_mse: 0.0656  | train_mae: 0.19479 |  0:00:27s\n",
      "epoch 319| loss: 0.11722 | train_mse: 0.06178 | train_mae: 0.18367 |  0:00:27s\n",
      "epoch 320| loss: 0.10983 | train_mse: 0.06486 | train_mae: 0.18564 |  0:00:27s\n"
     ]
    },
    {
     "name": "stdout",
     "output_type": "stream",
     "text": [
      "epoch 321| loss: 0.1484  | train_mse: 0.06152 | train_mae: 0.1865  |  0:00:27s\n",
      "epoch 322| loss: 0.16169 | train_mse: 0.08036 | train_mae: 0.21396 |  0:00:27s\n",
      "epoch 323| loss: 0.12331 | train_mse: 0.08278 | train_mae: 0.21503 |  0:00:27s\n"
     ]
    },
    {
     "name": "stdout",
     "output_type": "stream",
     "text": [
      "epoch 324| loss: 0.13865 | train_mse: 0.06642 | train_mae: 0.18549 |  0:00:27s\n",
      "epoch 325| loss: 0.13432 | train_mse: 0.08596 | train_mae: 0.21527 |  0:00:28s\n",
      "epoch 326| loss: 0.12381 | train_mse: 0.10624 | train_mae: 0.24762 |  0:00:28s\n"
     ]
    },
    {
     "name": "stdout",
     "output_type": "stream",
     "text": [
      "epoch 327| loss: 0.19961 | train_mse: 0.11365 | train_mae: 0.26315 |  0:00:28s\n",
      "epoch 328| loss: 0.11689 | train_mse: 0.12633 | train_mae: 0.27554 |  0:00:28s\n"
     ]
    },
    {
     "name": "stdout",
     "output_type": "stream",
     "text": [
      "epoch 329| loss: 0.09498 | train_mse: 0.11169 | train_mae: 0.26413 |  0:00:28s\n",
      "epoch 330| loss: 0.08469 | train_mse: 0.08253 | train_mae: 0.22838 |  0:00:28s\n"
     ]
    },
    {
     "name": "stdout",
     "output_type": "stream",
     "text": [
      "epoch 331| loss: 0.10391 | train_mse: 0.06494 | train_mae: 0.19451 |  0:00:29s\n"
     ]
    },
    {
     "name": "stdout",
     "output_type": "stream",
     "text": [
      "epoch 332| loss: 0.08803 | train_mse: 0.06285 | train_mae: 0.19029 |  0:00:29s\n",
      "epoch 333| loss: 0.14936 | train_mse: 0.0755  | train_mae: 0.20578 |  0:00:29s\n"
     ]
    },
    {
     "name": "stdout",
     "output_type": "stream",
     "text": [
      "epoch 334| loss: 0.12433 | train_mse: 0.07999 | train_mae: 0.21984 |  0:00:29s\n"
     ]
    },
    {
     "name": "stdout",
     "output_type": "stream",
     "text": [
      "epoch 335| loss: 0.1174  | train_mse: 0.08267 | train_mae: 0.22505 |  0:00:30s\n"
     ]
    },
    {
     "name": "stdout",
     "output_type": "stream",
     "text": [
      "epoch 336| loss: 0.12602 | train_mse: 0.09714 | train_mae: 0.25254 |  0:00:30s\n",
      "epoch 337| loss: 0.13756 | train_mse: 0.10933 | train_mae: 0.26746 |  0:00:30s\n"
     ]
    },
    {
     "name": "stdout",
     "output_type": "stream",
     "text": [
      "epoch 338| loss: 0.10847 | train_mse: 0.10199 | train_mae: 0.2547  |  0:00:30s\n",
      "epoch 339| loss: 0.16534 | train_mse: 0.10351 | train_mae: 0.25611 |  0:00:31s\n",
      "epoch 340| loss: 0.232   | train_mse: 0.13344 | train_mae: 0.2787  |  0:00:31s\n"
     ]
    },
    {
     "name": "stdout",
     "output_type": "stream",
     "text": [
      "epoch 341| loss: 0.17056 | train_mse: 0.09499 | train_mae: 0.25124 |  0:00:31s\n",
      "epoch 342| loss: 0.13853 | train_mse: 0.12672 | train_mae: 0.26463 |  0:00:31s\n"
     ]
    },
    {
     "name": "stdout",
     "output_type": "stream",
     "text": [
      "epoch 343| loss: 0.20991 | train_mse: 0.2243  | train_mae: 0.29114 |  0:00:31s\n"
     ]
    },
    {
     "name": "stdout",
     "output_type": "stream",
     "text": [
      "epoch 344| loss: 0.23956 | train_mse: 0.16813 | train_mae: 0.27514 |  0:00:31s\n",
      "\n",
      "Early stopping occurred at epoch 344 with best_epoch = 294 and best_train_mae = 0.17882\n",
      "Best weights from best epoch are automatically used!\n"
     ]
    }
   ],
   "source": [
    "#Train the Model\n",
    "\n",
    "Y_train = np.reshape(Y_train, (-1, 1))\n",
    "Y_test = np.reshape(Y_test, (-1, 1))\n",
    "\n",
    "prior_model = TabNetRegressor(optimizer_fn=torch.optim.Adam, optimizer_params=dict(lr = 0.02),\n",
    "          #scheduler_params={\"step_size\":10, ], \"gamma\":0.9},\n",
    "          #scheduler_fn=torch.optim.lr_scheduler.StepLR\n",
    "          )  #TabNetRegressor()\n",
    "\n",
    "prior_model.fit(X_train,Y_train,eval_set=[(X_train, Y_train)],\n",
    "            eval_name=['train'], \n",
    "            eval_metric=[ 'mse', 'mae'], \n",
    "            max_epochs = n_epochs, \n",
    "            batch_size = batch_size,\n",
    "            patience=50\n",
    "            )"
   ]
  },
  {
   "cell_type": "code",
   "execution_count": 10,
   "id": "af65dcda",
   "metadata": {
    "execution": {
     "iopub.execute_input": "2022-06-22T14:23:54.806763Z",
     "iopub.status.busy": "2022-06-22T14:23:54.805764Z",
     "iopub.status.idle": "2022-06-22T14:23:54.834850Z",
     "shell.execute_reply": "2022-06-22T14:23:54.835350Z"
    },
    "id": "af65dcda",
    "papermill": {
     "duration": 0.108003,
     "end_time": "2022-06-22T14:23:54.835582",
     "exception": false,
     "start_time": "2022-06-22T14:23:54.727579",
     "status": "completed"
    },
    "tags": []
   },
   "outputs": [
    {
     "data": {
      "application/scrapbook.scrap.json+json": {
       "data": 0.1733530855210185,
       "encoder": "json",
       "name": "Prior Model MSE",
       "version": 1
      }
     },
     "metadata": {
      "scrapbook": {
       "data": true,
       "display": false,
       "name": "Prior Model MSE"
      }
     },
     "output_type": "display_data"
    },
    {
     "data": {
      "application/scrapbook.scrap.json+json": {
       "data": 0.21601211552747562,
       "encoder": "json",
       "name": "ABC Pre-generator MSE",
       "version": 1
      }
     },
     "metadata": {
      "scrapbook": {
       "data": true,
       "display": false,
       "name": "ABC Pre-generator MSE"
      }
     },
     "output_type": "display_data"
    },
    {
     "data": {
      "application/scrapbook.scrap.json+json": {
       "data": 0.2736584019980391,
       "encoder": "json",
       "name": "Prior Model MSE",
       "version": 1
      }
     },
     "metadata": {
      "scrapbook": {
       "data": true,
       "display": false,
       "name": "Prior Model MSE"
      }
     },
     "output_type": "display_data"
    },
    {
     "data": {
      "application/scrapbook.scrap.json+json": {
       "data": 0.3095181550362505,
       "encoder": "json",
       "name": "ABC Pre-generator MSE",
       "version": 1
      }
     },
     "metadata": {
      "scrapbook": {
       "data": true,
       "display": false,
       "name": "ABC Pre-generator MSE"
      }
     },
     "output_type": "display_data"
    }
   ],
   "source": [
    "y_pred = prior_model.predict(X_test)\n",
    "y_abc = y_pred + np.random.normal(0,variance, y_pred.shape) + bias \n",
    "mse = mean_squared_error(y_pred,Y_test)\n",
    "sb.glue(\"Prior Model MSE\",mse)\n",
    "mse = mean_squared_error(y_abc,Y_test)\n",
    "sb.glue(\"ABC Pre-generator MSE\",mse)\n",
    "mae = mean_absolute_error(y_pred,Y_test)\n",
    "sb.glue(\"Prior Model MSE\",mae)\n",
    "mae = mean_absolute_error(y_abc,Y_test)\n",
    "sb.glue(\"ABC Pre-generator MSE\",mae)"
   ]
  },
  {
   "cell_type": "markdown",
   "id": "25609da2",
   "metadata": {
    "papermill": {
     "duration": 0.086537,
     "end_time": "2022-06-22T14:23:54.982132",
     "exception": false,
     "start_time": "2022-06-22T14:23:54.895595",
     "status": "completed"
    },
    "tags": []
   },
   "source": [
    "# ABC GAN Model"
   ]
  },
  {
   "cell_type": "code",
   "execution_count": 11,
   "id": "dfc3464d",
   "metadata": {
    "execution": {
     "iopub.execute_input": "2022-06-22T14:23:55.104470Z",
     "iopub.status.busy": "2022-06-22T14:23:55.103196Z",
     "iopub.status.idle": "2022-06-22T14:23:55.106379Z",
     "shell.execute_reply": "2022-06-22T14:23:55.107014Z"
    },
    "papermill": {
     "duration": 0.068948,
     "end_time": "2022-06-22T14:23:55.107600",
     "exception": false,
     "start_time": "2022-06-22T14:23:55.038652",
     "status": "completed"
    },
    "tags": []
   },
   "outputs": [],
   "source": [
    "gen = network.Generator(n_features+1).to(device)\n",
    "disc = network.Discriminator(n_features+1).to(device)\n",
    "\n",
    "criterion = torch.nn.BCELoss()\n",
    "gen_opt = torch.optim.Adam(gen.parameters(), lr=0.001, betas=(0.5, 0.999))\n",
    "disc_opt = torch.optim.Adam(disc.parameters(), lr=0.001, betas=(0.5, 0.999))"
   ]
  },
  {
   "cell_type": "code",
   "execution_count": 12,
   "id": "b75fdd85",
   "metadata": {
    "execution": {
     "iopub.execute_input": "2022-06-22T14:23:55.499321Z",
     "iopub.status.busy": "2022-06-22T14:23:55.488669Z",
     "iopub.status.idle": "2022-06-22T14:24:51.597631Z",
     "shell.execute_reply": "2022-06-22T14:24:51.598244Z"
    },
    "papermill": {
     "duration": 56.434032,
     "end_time": "2022-06-22T14:24:51.598466",
     "exception": false,
     "start_time": "2022-06-22T14:23:55.164434",
     "status": "completed"
    },
    "tags": []
   },
   "outputs": [
    {
     "data": {
      "image/png": "[encoded data removed]",
      "text/plain": [
       "<Figure size 432x288 with 1 Axes>"
      ]
     },
     "metadata": {
      "needs_background": "light"
     },
     "output_type": "display_data"
    },
    {
     "data": {
      "image/png": "[encoded data removed]",
      "text/plain": [
       "<Figure size 432x288 with 1 Axes>"
      ]
     },
     "metadata": {
      "needs_background": "light"
     },
     "output_type": "display_data"
    }
   ],
   "source": [
    "#Training the ABC_GAN \n",
    "ABC_train_test2.training_GAN(disc,gen,disc_opt,gen_opt,train_data,batch_size,n_epochs,criterion,prior_model,variance,bias,device)"
   ]
  },
  {
   "cell_type": "code",
   "execution_count": 13,
   "id": "1fa7c368",
   "metadata": {
    "execution": {
     "iopub.execute_input": "2022-06-22T14:24:51.754333Z",
     "iopub.status.busy": "2022-06-22T14:24:51.753479Z",
     "iopub.status.idle": "2022-06-22T14:24:52.555620Z",
     "shell.execute_reply": "2022-06-22T14:24:52.556453Z"
    },
    "papermill": {
     "duration": 0.89746,
     "end_time": "2022-06-22T14:24:52.556860",
     "exception": false,
     "start_time": "2022-06-22T14:24:51.659400",
     "status": "completed"
    },
    "tags": []
   },
   "outputs": [
    {
     "data": {
      "application/scrapbook.scrap.json+json": {
       "data": 0.22973956341095328,
       "encoder": "json",
       "name": "ABC-GAN Model 1 MSE",
       "version": 1
      }
     },
     "metadata": {
      "scrapbook": {
       "data": true,
       "display": false,
       "name": "ABC-GAN Model 1 MSE"
      }
     },
     "output_type": "display_data"
    },
    {
     "data": {
      "application/scrapbook.scrap.json+json": {
       "data": 0.36969014636054637,
       "encoder": "json",
       "name": "ABC-GAN Model 1 MAE",
       "version": 1
      }
     },
     "metadata": {
      "scrapbook": {
       "data": true,
       "display": false,
       "name": "ABC-GAN Model 1 MAE"
      }
     },
     "output_type": "display_data"
    },
    {
     "data": {
      "application/scrapbook.scrap.json+json": {
       "data": 7.393802927210927,
       "encoder": "json",
       "name": "ABC-GAN Model 1 Manhattan Distance",
       "version": 1
      }
     },
     "metadata": {
      "scrapbook": {
       "data": true,
       "display": false,
       "name": "ABC-GAN Model 1 Manhattan Distance"
      }
     },
     "output_type": "display_data"
    },
    {
     "data": {
      "application/scrapbook.scrap.json+json": {
       "data": 2.1435043369677667,
       "encoder": "json",
       "name": "ABC-GAN Model 1 Euclidean distance",
       "version": 1
      }
     },
     "metadata": {
      "scrapbook": {
       "data": true,
       "display": false,
       "name": "ABC-GAN Model 1 Euclidean distance"
      }
     },
     "output_type": "display_data"
    },
    {
     "data": {
      "application/scrapbook.scrap.json+json": {
       "data": [
        [
         0.23146671370622357,
         0.2261404915114548,
         0.22535081091744447,
         0.23152303878950953,
         0.23194023273586004,
         0.22663121464241948,
         0.2282843200196471,
         0.22711447982267313,
         0.22854882589613892,
         0.23173076490035935,
         0.23491552924746087,
         0.2268922425529431,
         0.2285672308505327,
         0.2307404949975173,
         0.22939156944461253,
         0.23400698534435818,
         0.22584769447019432,
         0.22679292915557037,
         0.22709220531103513,
         0.22898197883476165,
         0.22881030693765156,
         0.22997683370043215,
         0.2296163494023244,
         0.22507652659792768,
         0.22932346606918003,
         0.23003455908739695,
         0.23154860613699663,
         0.22733920895761273,
         0.23057438268263625,
         0.22839034694407015,
         0.23249286296331242,
         0.2290576202991434,
         0.23646716431798817,
         0.2335292721338768,
         0.2297176517750849,
         0.2307873298481346,
         0.2290152365113065,
         0.22758998305436423,
         0.22782765499915408,
         0.23449959465421893,
         0.22762965298158494,
         0.227167973895707,
         0.2327740401203439,
         0.22931889038318407,
         0.2288042422087213,
         0.22768418526746587,
         0.23209539462813833,
         0.22697852673602048,
         0.2289113825777715,
         0.22888046605281992,
         0.23196640654312803,
         0.23315267499946618,
         0.23473454952997366,
         0.22503994277168365,
         0.22865469561332602,
         0.23518816679064738,
         0.2318396191364843,
         0.23211231567987073,
         0.22870378890993934,
         0.23196817850177504,
         0.23037929630307413,
         0.2284572405306422,
         0.23407928384929924,
         0.23155131110421912,
         0.22605218194923063,
         0.2271963862491452,
         0.22873795838082978,
         0.22597158093994563,
         0.2325486699046054,
         0.22960987844272457,
         0.22423769737785046,
         0.2279858906940604,
         0.23151666200078802,
         0.2326315985669291,
         0.22477698980257546,
         0.22829371637548382,
         0.22931082698839328,
         0.2258876179731803,
         0.2326936528647495,
         0.2276802683920148,
         0.23494475204996448,
         0.22832909041515656,
         0.22650293184291095,
         0.232853008256419,
         0.22585622725292792,
         0.22777330983409771,
         0.2303436212842745,
         0.23149300922370308,
         0.22824235782676938,
         0.22668774920215493,
         0.23083925108170505,
         0.22296426768212774,
         0.23200163210024183,
         0.23558606088274714,
         0.23400933743164493,
         0.23428824064041084,
         0.2312934608542448,
         0.23274670244370652,
         0.23134368516844836,
         0.22901913338034988
        ],
        [
         0.3735474589280784,
         0.3643730322830379,
         0.3672701257281005,
         0.37241159891709685,
         0.3705605464987457,
         0.36704853652045133,
         0.3691789015196264,
         0.3678083076141775,
         0.3678880291990936,
         0.3718077915720642,
         0.37371452813968065,
         0.3681114795617759,
         0.3673584281466901,
         0.3688015486113727,
         0.3698407276533544,
         0.3744261863641441,
         0.3673629230819643,
         0.36642395285889506,
         0.36795401899144053,
         0.3689887556247413,
         0.36806044904515145,
         0.37104605017229914,
         0.3711371607147157,
         0.3653747378848493,
         0.3694306100718677,
         0.37045409260317685,
         0.37156500210985544,
         0.366992790158838,
         0.3679596400819719,
         0.36642367159947753,
         0.3699209268204868,
         0.3680936235003173,
         0.3759770459495485,
         0.37152110328897836,
         0.37134948475286367,
         0.37089281706139443,
         0.3712407405488193,
         0.3668804774992168,
         0.3675159513019025,
         0.3734763870947063,
         0.36807059636339545,
         0.3676307766698301,
         0.3711289673112333,
         0.37090437961742284,
         0.36858284277841447,
         0.3679004835896194,
         0.37443807115778327,
         0.3689664165489376,
         0.36653832560405136,
         0.36809695651754737,
         0.3709341022185981,
         0.3720109432004392,
         0.3753405473195016,
         0.3667792364023626,
         0.36866699857637286,
         0.3732996421866119,
         0.3699664528481662,
         0.37025974383577703,
         0.3683070856146514,
         0.37101230723783374,
         0.3717261082492769,
         0.37011049492284653,
         0.37162021873518825,
         0.3698782484047115,
         0.36590293226763604,
         0.36833515455946325,
         0.36718896208330987,
         0.367544528003782,
         0.37063919557258485,
         0.3720648321323097,
         0.36660023583099244,
         0.3687521810643375,
         0.37009436963126063,
         0.37233511162921784,
         0.36648422246798873,
         0.36871207123622296,
         0.36982544464990497,
         0.3659028331749141,
         0.3728606763295829,
         0.36658088183030485,
         0.3734036291949451,
         0.3692928801290691,
         0.3656447379849851,
         0.3728291428647935,
         0.36562154022976756,
         0.366666258033365,
         0.3730061355046928,
         0.3720099131576717,
         0.3698825675062835,
         0.3682386024855077,
         0.37021368285641076,
         0.36317142387852075,
         0.371710295137018,
         0.3756318542174995,
         0.3711037839762866,
         0.3725303574465215,
         0.3713766316883266,
         0.3723319540731609,
         0.37369886292144655,
         0.3684671643190086
        ],
        [
         7.470949178561568,
         7.287460645660758,
         7.345402514562011,
         7.448231978341937,
         7.411210929974914,
         7.340970730409026,
         7.383578030392528,
         7.356166152283549,
         7.357760583981872,
         7.436155831441283,
         7.4742905627936125,
         7.3622295912355185,
         7.347168562933803,
         7.376030972227454,
         7.396814553067088,
         7.488523727282882,
         7.347258461639285,
         7.328479057177901,
         7.359080379828811,
         7.379775112494826,
         7.361208980903029,
         7.420921003445983,
         7.422743214294314,
         7.307494757696986,
         7.388612201437354,
         7.409081852063537,
         7.431300042197108,
         7.339855803176761,
         7.359192801639438,
         7.328473431989551,
         7.398418536409736,
         7.361872470006347,
         7.51954091899097,
         7.430422065779567,
         7.426989695057273,
         7.417856341227889,
         7.424814810976386,
         7.337609549984336,
         7.350319026038051,
         7.469527741894126,
         7.361411927267909,
         7.352615533396602,
         7.422579346224666,
         7.418087592348456,
         7.37165685556829,
         7.358009671792388,
         7.488761423155665,
         7.379328330978751,
         7.330766512081027,
         7.361939130350947,
         7.4186820443719625,
         7.440218864008784,
         7.506810946390033,
         7.335584728047252,
         7.373339971527457,
         7.465992843732238,
         7.3993290569633245,
         7.405194876715541,
         7.366141712293029,
         7.420246144756675,
         7.4345221649855375,
         7.402209898456931,
         7.432404374703765,
         7.39756496809423,
         7.318058645352721,
         7.366703091189265,
         7.343779241666198,
         7.350890560075641,
         7.412783911451697,
         7.4412966426461935,
         7.332004716619849,
         7.37504362128675,
         7.401887392625213,
         7.446702232584357,
         7.329684449359775,
         7.37424142472446,
         7.396508892998099,
         7.318056663498282,
         7.457213526591659,
         7.331617636606097,
         7.468072583898902,
         7.385857602581382,
         7.312894759699702,
         7.456582857295871,
         7.312430804595351,
         7.3333251606673,
         7.460122710093856,
         7.440198263153434,
         7.39765135012567,
         7.3647720497101545,
         7.404273657128215,
         7.2634284775704145,
         7.434205902740359,
         7.51263708434999,
         7.422075679525733,
         7.45060714893043,
         7.427532633766532,
         7.446639081463218,
         7.473977258428931,
         7.369343286380172
        ],
        [
         2.151588779047816,
         2.126689876363993,
         2.122973437975353,
         2.151850546806211,
         2.153788442423536,
         2.1289960762876925,
         2.136746686061065,
         2.1312647879729685,
         2.1379842183521323,
         2.152815667447445,
         2.1675586693211364,
         2.130221784476645,
         2.1380703021675065,
         2.1482108602160883,
         2.1419223582782476,
         2.1633630548031375,
         2.1253126568587235,
         2.1297555219112376,
         2.1311602722978633,
         2.140009246871432,
         2.1392068947984044,
         2.144653042804044,
         2.142971532252934,
         2.1216810627326983,
         2.1416043802214264,
         2.144922185476186,
         2.151969359154524,
         2.1323189674981213,
         2.1474374621051773,
         2.1372428357305124,
         2.1563527678156578,
         2.140362680945187,
         2.174705333225576,
         2.1611537295337264,
         2.1434441992974063,
         2.148428867093973,
         2.140164650260846,
         2.1334947061305973,
         2.1346084184184884,
         2.1656389110570533,
         2.133680636747613,
         2.1315157700364638,
         2.1576563216617415,
         2.141583014422668,
         2.1391785442488027,
         2.133936199924758,
         2.154508735782421,
         2.1306267938614707,
         2.1396793338151,
         2.1395348375421226,
         2.153909963499533,
         2.159410451949634,
         2.1667235611862146,
         2.121508627235268,
         2.1384793457657056,
         2.168816113877096,
         2.153321244665943,
         2.1545872722165176,
         2.1387089045026175,
         2.1539181901909603,
         2.146528808579443,
         2.137555802923714,
         2.163697223963183,
         2.1519819288470763,
         2.126274591623719,
         2.1316490623418534,
         2.138868665350118,
         2.1258954863301516,
         2.156611554752526,
         2.1429413358406455,
         2.1177237656401293,
         2.1353495765052632,
         2.1518209126262717,
         2.1569960526942515,
         2.1202688027822107,
         2.1367906606660547,
         2.1415453625286265,
         2.1255004962275605,
         2.157283722020585,
         2.133917844679194,
         2.1676934840976223,
         2.136956201774648,
         2.128393440334333,
         2.1580222809619873,
         2.125352804844071,
         2.1343538124411223,
         2.1463626034958514,
         2.151710989997045,
         2.136550293472023,
         2.129261605355974,
         2.1486705242158695,
         2.1117020039869625,
         2.1540734996756346,
         2.1706499528148115,
         2.163373927140867,
         2.164662748052965,
         2.1507833961338125,
         2.157529617148773,
         2.151016899833418,
         2.1401828584508844
        ]
       ],
       "encoder": "json",
       "name": "ABC_GAN_1 Metrics",
       "version": 1
      }
     },
     "metadata": {
      "scrapbook": {
       "data": true,
       "display": false,
       "name": "ABC_GAN_1 Metrics"
      }
     },
     "output_type": "display_data"
    },
    {
     "name": "stdout",
     "output_type": "stream",
     "text": [
      "MSE\n",
      "0.22973956341095328\n"
     ]
    }
   ],
   "source": [
    "ABC_GAN1_metrics=ABC_train_test2.test_generator(gen,test_data,prior_model,variance,bias,\"1\",device)\n",
    "sb.glue(\"ABC_GAN_1 Metrics\",ABC_GAN1_metrics)\n",
    "\n",
    "print(\"MSE\")\n",
    "print(mean(ABC_GAN1_metrics[0]))"
   ]
  },
  {
   "cell_type": "code",
   "execution_count": 14,
   "id": "eb22ce5c",
   "metadata": {
    "execution": {
     "iopub.execute_input": "2022-06-22T14:24:52.743625Z",
     "iopub.status.busy": "2022-06-22T14:24:52.742648Z",
     "iopub.status.idle": "2022-06-22T14:24:53.588158Z",
     "shell.execute_reply": "2022-06-22T14:24:53.587609Z"
    },
    "papermill": {
     "duration": 0.97362,
     "end_time": "2022-06-22T14:24:53.588413",
     "exception": false,
     "start_time": "2022-06-22T14:24:52.614793",
     "status": "completed"
    },
    "tags": []
   },
   "outputs": [
    {
     "data": {
      "image/png": "[encoded data removed]",
      "text/plain": [
       "<Figure size 432x288 with 1 Axes>"
      ]
     },
     "metadata": {
      "needs_background": "light"
     },
     "output_type": "display_data"
    },
    {
     "data": {
      "image/png": "[encoded data removed]",
      "text/plain": [
       "<Figure size 432x288 with 1 Axes>"
      ]
     },
     "metadata": {
      "needs_background": "light"
     },
     "output_type": "display_data"
    },
    {
     "data": {
      "image/png": "[encoded data removed]",
      "text/plain": [
       "<Figure size 432x288 with 1 Axes>"
      ]
     },
     "metadata": {
      "needs_background": "light"
     },
     "output_type": "display_data"
    },
    {
     "data": {
      "image/png": "[encoded data removed]",
      "text/plain": [
       "<Figure size 432x288 with 1 Axes>"
      ]
     },
     "metadata": {
      "needs_background": "light"
     },
     "output_type": "display_data"
    }
   ],
   "source": [
    "sanityChecks.discProbVsError(train_data,disc,device)\n",
    "sanityChecks.discProbVsError(test_data,disc,device)"
   ]
  },
  {
   "cell_type": "markdown",
   "id": "130f3a4d",
   "metadata": {
    "id": "130f3a4d",
    "papermill": {
     "duration": 0.090151,
     "end_time": "2022-06-22T14:24:53.756477",
     "exception": false,
     "start_time": "2022-06-22T14:24:53.666326",
     "status": "completed"
    },
    "tags": []
   },
   "source": [
    "# ABC - GAN Model with skip connection"
   ]
  },
  {
   "cell_type": "code",
   "execution_count": 15,
   "id": "4e43dad1",
   "metadata": {
    "execution": {
     "iopub.execute_input": "2022-06-22T14:24:53.932110Z",
     "iopub.status.busy": "2022-06-22T14:24:53.931287Z",
     "iopub.status.idle": "2022-06-22T14:24:53.933814Z",
     "shell.execute_reply": "2022-06-22T14:24:53.934354Z"
    },
    "id": "4e43dad1",
    "papermill": {
     "duration": 0.092696,
     "end_time": "2022-06-22T14:24:53.934594",
     "exception": false,
     "start_time": "2022-06-22T14:24:53.841898",
     "status": "completed"
    },
    "tags": []
   },
   "outputs": [],
   "source": [
    "#Generator\n",
    "gen3 = network.GeneratorWithSkipConnection(n_features+1).to(device)\n",
    "constraints=network.weightConstraint()\n",
    "#Discriminator \n",
    "disc3 = network.Discriminator(n_features+1).to(device)\n",
    "\n",
    "criterion = torch.nn.BCELoss()\n",
    "gen_opt = torch.optim.Adam(gen3.parameters(), lr=0.001, betas=(0.5, 0.999))\n",
    "disc_opt = torch.optim.Adam(disc3.parameters(), lr=0.001, betas=(0.5, 0.999))\n"
   ]
  },
  {
   "cell_type": "code",
   "execution_count": 16,
   "id": "26acbc37",
   "metadata": {
    "execution": {
     "iopub.execute_input": "2022-06-22T14:24:54.097305Z",
     "iopub.status.busy": "2022-06-22T14:24:54.095420Z",
     "iopub.status.idle": "2022-06-22T14:26:17.809123Z",
     "shell.execute_reply": "2022-06-22T14:26:17.810197Z"
    },
    "id": "26acbc37",
    "papermill": {
     "duration": 83.798919,
     "end_time": "2022-06-22T14:26:17.810464",
     "exception": false,
     "start_time": "2022-06-22T14:24:54.011545",
     "status": "completed"
    },
    "tags": []
   },
   "outputs": [
    {
     "data": {
      "image/png": "[encoded data removed]",
      "text/plain": [
       "<Figure size 432x288 with 1 Axes>"
      ]
     },
     "metadata": {
      "needs_background": "light"
     },
     "output_type": "display_data"
    },
    {
     "data": {
      "image/png": "[encoded data removed]",
      "text/plain": [
       "<Figure size 432x288 with 1 Axes>"
      ]
     },
     "metadata": {
      "needs_background": "light"
     },
     "output_type": "display_data"
    }
   ],
   "source": [
    "ABC_train_test2.training_GAN_skip_connection(disc3,gen3,disc_opt,gen_opt,train_data,batch_size,n_epochs,criterion,prior_model,variance,bias,device)"
   ]
  },
  {
   "cell_type": "code",
   "execution_count": 17,
   "id": "c5e0717b",
   "metadata": {
    "execution": {
     "iopub.execute_input": "2022-06-22T14:26:18.137289Z",
     "iopub.status.busy": "2022-06-22T14:26:18.134326Z",
     "iopub.status.idle": "2022-06-22T14:26:19.174553Z",
     "shell.execute_reply": "2022-06-22T14:26:19.175209Z"
    },
    "id": "c5e0717b",
    "papermill": {
     "duration": 1.176314,
     "end_time": "2022-06-22T14:26:19.175420",
     "exception": false,
     "start_time": "2022-06-22T14:26:17.999106",
     "status": "completed"
    },
    "tags": []
   },
   "outputs": [
    {
     "data": {
      "application/scrapbook.scrap.json+json": {
       "data": 0.1880674125892957,
       "encoder": "json",
       "name": "ABC-GAN Model 3 MSE",
       "version": 1
      }
     },
     "metadata": {
      "scrapbook": {
       "data": true,
       "display": false,
       "name": "ABC-GAN Model 3 MSE"
      }
     },
     "output_type": "display_data"
    },
    {
     "data": {
      "application/scrapbook.scrap.json+json": {
       "data": 0.36188307935371994,
       "encoder": "json",
       "name": "ABC-GAN Model 3 MAE",
       "version": 1
      }
     },
     "metadata": {
      "scrapbook": {
       "data": true,
       "display": false,
       "name": "ABC-GAN Model 3 MAE"
      }
     },
     "output_type": "display_data"
    },
    {
     "data": {
      "application/scrapbook.scrap.json+json": {
       "data": 7.237661587074399,
       "encoder": "json",
       "name": "ABC-GAN Model 3 Manhattan Distance",
       "version": 1
      }
     },
     "metadata": {
      "scrapbook": {
       "data": true,
       "display": false,
       "name": "ABC-GAN Model 3 Manhattan Distance"
      }
     },
     "output_type": "display_data"
    },
    {
     "data": {
      "application/scrapbook.scrap.json+json": {
       "data": 1.9393900588287551,
       "encoder": "json",
       "name": "ABC-GAN Model 3 Euclidean distance",
       "version": 1
      }
     },
     "metadata": {
      "scrapbook": {
       "data": true,
       "display": false,
       "name": "ABC-GAN Model 3 Euclidean distance"
      }
     },
     "output_type": "display_data"
    },
    {
     "data": {
      "application/scrapbook.scrap.json+json": {
       "data": [
        [
         0.19202855584761827,
         0.18252408519633428,
         0.18755366346381883,
         0.18830472782815905,
         0.18919221502844627,
         0.19325656647300735,
         0.19071649878576044,
         0.18979191383738503,
         0.19252415681588017,
         0.18845045628596696,
         0.19030455912438238,
         0.18600621700044623,
         0.18620142555807945,
         0.1892675820426578,
         0.1887510772579035,
         0.18457433685253433,
         0.18698723432323872,
         0.1870620166649509,
         0.18878281860594173,
         0.19136901971059292,
         0.1884160230660681,
         0.1879779207178837,
         0.18887246119528275,
         0.18616549571650884,
         0.1862403772943304,
         0.1889115187104622,
         0.18862590109751082,
         0.18809007061903035,
         0.18938750373014931,
         0.18945751711474332,
         0.19027433793027684,
         0.18657153633685591,
         0.1889651645252,
         0.1861220969265021,
         0.18690622504927895,
         0.1906600872376411,
         0.1898069543165193,
         0.18642446849633515,
         0.18838306932196874,
         0.18870490013337024,
         0.1858508180983268,
         0.18817463408523852,
         0.18891438913188335,
         0.1875789321727509,
         0.18844392293319134,
         0.18703251996743306,
         0.18537236061775036,
         0.18681400868197864,
         0.1875326485944504,
         0.1882765953788224,
         0.18957041922081277,
         0.19111132133888714,
         0.1873877086578792,
         0.18562552954796802,
         0.18936285339876452,
         0.18356603657669002,
         0.18761731563417972,
         0.18665177919182857,
         0.18828697910966674,
         0.18799894044708904,
         0.18586373199615377,
         0.1876592946639776,
         0.1890259738325746,
         0.19412176647978963,
         0.18443081475302914,
         0.186206150068493,
         0.1891040906644916,
         0.18946632463409083,
         0.19017336363654197,
         0.18764281891278917,
         0.1868132376531338,
         0.1863946643445066,
         0.18471033094088146,
         0.1866635084265333,
         0.1865367182796561,
         0.189254889816175,
         0.1892214867852667,
         0.18989965449274712,
         0.18475831269836268,
         0.19127744951754813,
         0.18916955449351278,
         0.18409067084781583,
         0.18800809307415642,
         0.18508289014155171,
         0.19008138805913588,
         0.1884820853117223,
         0.18686750447193604,
         0.18922017907958863,
         0.19036129452416736,
         0.18830203712000748,
         0.18610777492014313,
         0.18849363016604015,
         0.18864668642361188,
         0.186706349098884,
         0.18780002860656028,
         0.18900269719584523,
         0.1904522265753457,
         0.19023007205200543,
         0.18405495352412662,
         0.18657409162205923
        ],
        [
         0.3670224382542074,
         0.3562728482298553,
         0.3612936492078006,
         0.36215370101854205,
         0.36378426095470784,
         0.36724037444218993,
         0.36360181933268904,
         0.36410836381837725,
         0.366987010743469,
         0.36124575277790427,
         0.36505305944010613,
         0.3610103110782802,
         0.35796606121584773,
         0.36291296100243925,
         0.3598992212675512,
         0.3597923292778432,
         0.3621101233176887,
         0.3605566310696304,
         0.364477155264467,
         0.36632493091747165,
         0.36354593811556696,
         0.3622379190288484,
         0.3628869681619108,
         0.3592794521711767,
         0.3593496414832771,
         0.36338440841063857,
         0.36305975122377276,
         0.36274370877072215,
         0.3624135780148208,
         0.3629571321420372,
         0.3641749224625528,
         0.35894011287018657,
         0.36500549865886567,
         0.35990001996979115,
         0.36221582992002366,
         0.366156620066613,
         0.3629205952398479,
         0.36156313298270104,
         0.3610618061386049,
         0.3590327306650579,
         0.36166040068492294,
         0.3615259232930839,
         0.362512135785073,
         0.36128125293180346,
         0.3584265931509435,
         0.36152493534609675,
         0.3575790054164827,
         0.3615522692911327,
         0.3599869008176029,
         0.3635823796503246,
         0.3637702870182693,
         0.3670639987103641,
         0.3597652307711542,
         0.3610816693864763,
         0.36251182882115246,
         0.3591144531033933,
         0.36223130924627184,
         0.363049407210201,
         0.3616039163433015,
         0.3609293862245977,
         0.35839689141139386,
         0.3618480912409723,
         0.3589085820131004,
         0.3666933598928154,
         0.35871282098814844,
         0.3608860391192138,
         0.3613327368162572,
         0.3636832973919809,
         0.3659476469270885,
         0.35867026215419173,
         0.3581979050301015,
         0.3614700994454324,
         0.35948929293081167,
         0.3601253374479711,
         0.3611526950262487,
         0.3621709312312305,
         0.362503198813647,
         0.36385227693244815,
         0.35786488382145765,
         0.36526890797540545,
         0.36041633477434515,
         0.36057315496727826,
         0.3636515296064317,
         0.36051997458562257,
         0.3611650831066072,
         0.3626757829450071,
         0.36138789197430016,
         0.36207531159743667,
         0.36364235347136853,
         0.3622495698742568,
         0.3605492270551622,
         0.36017039297148584,
         0.36181517941877245,
         0.3612239847891033,
         0.3617982498370111,
         0.36392043707892296,
         0.36125501049682496,
         0.3633064224384725,
         0.35999206369742753,
         0.3613486717455089
        ],
        [
         7.3404487650841475,
         7.125456964597106,
         7.2258729841560125,
         7.243074020370841,
         7.275685219094157,
         7.344807488843799,
         7.272036386653781,
         7.282167276367545,
         7.33974021486938,
         7.224915055558085,
         7.301061188802123,
         7.220206221565604,
         7.159321224316955,
         7.258259220048785,
         7.197984425351024,
         7.195846585556865,
         7.242202466353774,
         7.211132621392608,
         7.28954310528934,
         7.326498618349433,
         7.270918762311339,
         7.244758380576968,
         7.2577393632382154,
         7.185589043423533,
         7.186992829665542,
         7.267688168212771,
         7.261195024475455,
         7.254874175414443,
         7.248271560296416,
         7.259142642840743,
         7.283498449251056,
         7.178802257403731,
         7.300109973177314,
         7.1980003993958235,
         7.244316598400474,
         7.323132401332259,
         7.258411904796958,
         7.231262659654021,
         7.221236122772098,
         7.180654613301158,
         7.233208013698459,
         7.230518465861678,
         7.250242715701461,
         7.225625058636069,
         7.16853186301887,
         7.230498706921935,
         7.151580108329654,
         7.231045385822654,
         7.1997380163520575,
         7.271647593006492,
         7.275405740365386,
         7.341279974207282,
         7.195304615423083,
         7.221633387729526,
         7.250236576423049,
         7.182289062067866,
         7.244626184925437,
         7.2609881442040205,
         7.232078326866031,
         7.218587724491954,
         7.167937828227878,
         7.236961824819446,
         7.178171640262008,
         7.333867197856307,
         7.174256419762969,
         7.217720782384276,
         7.226654736325145,
         7.273665947839618,
         7.31895293854177,
         7.173405243083835,
         7.163958100602031,
         7.2294019889086485,
         7.189785858616233,
         7.202506748959422,
         7.223053900524974,
         7.24341862462461,
         7.250063976272941,
         7.277045538648963,
         7.1572976764291525,
         7.305378159508109,
         7.208326695486903,
         7.211463099345565,
         7.2730305921286345,
         7.210399491712451,
         7.223301662132144,
         7.253515658900142,
         7.227757839486003,
         7.241506231948733,
         7.272847069427371,
         7.244991397485137,
         7.210984541103244,
         7.203407859429717,
         7.236303588375449,
         7.224479695782065,
         7.235964996740222,
         7.27840874157846,
         7.2251002099365,
         7.26612844876945,
         7.19984127394855,
         7.226973434910178
        ],
        [
         1.9597375122583038,
         1.9106233809745672,
         1.9367687702140326,
         1.940642820449755,
         1.945210605710581,
         1.9659937256919584,
         1.9530309715197065,
         1.9482911170427535,
         1.9622647977063654,
         1.941393604017315,
         1.9509205987142704,
         1.9287623855749894,
         1.929774212482276,
         1.9455980162544255,
         1.9429414672496106,
         1.9213242144548863,
         1.9338419497117065,
         1.934228614538369,
         1.9431048278769816,
         1.9563691865831097,
         1.941216232499966,
         1.9389580744197832,
         1.9435661099910275,
         1.9295880167357427,
         1.929976048008526,
         1.943767057599558,
         1.9422970993002633,
         1.9395363910946881,
         1.946214293083623,
         1.9465740012377815,
         1.950765685213254,
         1.9316911571825135,
         1.9440430269168427,
         1.9293630914190416,
         1.9334230010490667,
         1.9527421091257344,
         1.948368313828365,
         1.9309296646762415,
         1.9410464668418874,
         1.9427037866508123,
         1.9279565249160926,
         1.9399723404483813,
         1.9437818248552656,
         1.9368992342027032,
         1.9413599508241193,
         1.9340761100196293,
         1.9254732437390574,
         1.9329459831147824,
         1.9366602623818685,
         1.9404978504436556,
         1.9471539190357436,
         1.955051515121211,
         1.9359117162612516,
         1.9267876351480357,
         1.9460876311141002,
         1.916069083184059,
         1.9370973937011,
         1.9321065146198775,
         1.9405513603595588,
         1.939066478731913,
         1.9280235060608248,
         1.937314092572382,
         1.9443557999120151,
         1.970389639029751,
         1.9205770734496919,
         1.9297986945196797,
         1.944757520435345,
         1.946619246971995,
         1.9502480028783107,
         1.937229046410306,
         1.9329419942312485,
         1.9307753071991913,
         1.922031898491185,
         1.932167220643872,
         1.9315109022713597,
         1.9455327795551274,
         1.9453610810606174,
         1.9488440393871806,
         1.9222815230780463,
         1.9559010686512144,
         1.9450941082297935,
         1.918805205578804,
         1.939113679360529,
         1.923969283234801,
         1.9497763361941587,
         1.9415565163637256,
         1.9332227211158883,
         1.9453543588744373,
         1.951211390517016,
         1.9406289553647678,
         1.9292888582073089,
         1.9416159773036488,
         1.9424041104961236,
         1.932388931343191,
         1.938040394865702,
         1.9442360823513445,
         1.951677363579061,
         1.9505387566106214,
         1.9186190529864264,
         1.9317043853657279
        ]
       ],
       "encoder": "json",
       "name": "ABC_GAN_3 Metrics",
       "version": 1
      }
     },
     "metadata": {
      "scrapbook": {
       "data": true,
       "display": false,
       "name": "ABC_GAN_3 Metrics"
      }
     },
     "output_type": "display_data"
    },
    {
     "name": "stdout",
     "output_type": "stream",
     "text": [
      "MSE\n",
      "0.1880674125892957\n"
     ]
    }
   ],
   "source": [
    "ABC_GAN3_metrics=ABC_train_test2.test_generator(gen3,test_data,prior_model,variance,bias,\"3\",device)\n",
    "sb.glue(\"ABC_GAN_3 Metrics\",ABC_GAN3_metrics)\n",
    "\n",
    "print(\"MSE\")\n",
    "print(mean(ABC_GAN3_metrics[0]))"
   ]
  },
  {
   "cell_type": "code",
   "execution_count": 18,
   "id": "c8e46b48",
   "metadata": {
    "execution": {
     "iopub.execute_input": "2022-06-22T14:26:19.375852Z",
     "iopub.status.busy": "2022-06-22T14:26:19.374970Z",
     "iopub.status.idle": "2022-06-22T14:26:20.346596Z",
     "shell.execute_reply": "2022-06-22T14:26:20.347153Z"
    },
    "id": "c8e46b48",
    "papermill": {
     "duration": 1.089102,
     "end_time": "2022-06-22T14:26:20.347557",
     "exception": false,
     "start_time": "2022-06-22T14:26:19.258455",
     "status": "completed"
    },
    "tags": []
   },
   "outputs": [
    {
     "data": {
      "image/png": "[encoded data removed]",
      "text/plain": [
       "<Figure size 432x288 with 1 Axes>"
      ]
     },
     "metadata": {
      "needs_background": "light"
     },
     "output_type": "display_data"
    },
    {
     "data": {
      "image/png": "[encoded data removed]",
      "text/plain": [
       "<Figure size 432x288 with 1 Axes>"
      ]
     },
     "metadata": {
      "needs_background": "light"
     },
     "output_type": "display_data"
    },
    {
     "data": {
      "image/png": "[encoded data removed]",
      "text/plain": [
       "<Figure size 432x288 with 1 Axes>"
      ]
     },
     "metadata": {
      "needs_background": "light"
     },
     "output_type": "display_data"
    },
    {
     "data": {
      "image/png": "[encoded data removed]",
      "text/plain": [
       "<Figure size 432x288 with 1 Axes>"
      ]
     },
     "metadata": {
      "needs_background": "light"
     },
     "output_type": "display_data"
    }
   ],
   "source": [
    "sanityChecks.discProbVsError(train_data,disc3,device)\n",
    "sanityChecks.discProbVsError(test_data,disc3,device)"
   ]
  },
  {
   "cell_type": "markdown",
   "id": "a5bd74c3",
   "metadata": {
    "id": "a5bd74c3",
    "papermill": {
     "duration": 0.094558,
     "end_time": "2022-06-22T14:26:20.525749",
     "exception": false,
     "start_time": "2022-06-22T14:26:20.431191",
     "status": "completed"
    },
    "tags": []
   },
   "source": [
    "## Skip Connection Model Analysis - ABC-GAN "
   ]
  },
  {
   "cell_type": "markdown",
   "id": "5744a8bf",
   "metadata": {
    "id": "5744a8bf",
    "papermill": {
     "duration": 0.080995,
     "end_time": "2022-06-22T14:26:20.696268",
     "exception": false,
     "start_time": "2022-06-22T14:26:20.615273",
     "status": "completed"
    },
    "tags": []
   },
   "source": [
    "### Weight Analysis \n",
    "\n",
    "Study the weights of the skip connection layer\n",
    "\n",
    "Equation of the skip connection is \n",
    "\n",
    "$output = y_{gan} * w + y_{abc} * (1-w)$"
   ]
  },
  {
   "cell_type": "code",
   "execution_count": 19,
   "id": "52c31dea",
   "metadata": {
    "execution": {
     "iopub.execute_input": "2022-06-22T14:26:20.865668Z",
     "iopub.status.busy": "2022-06-22T14:26:20.864946Z",
     "iopub.status.idle": "2022-06-22T14:26:20.874095Z",
     "shell.execute_reply": "2022-06-22T14:26:20.873566Z"
    },
    "id": "52c31dea",
    "papermill": {
     "duration": 0.102976,
     "end_time": "2022-06-22T14:26:20.874277",
     "exception": false,
     "start_time": "2022-06-22T14:26:20.771301",
     "status": "completed"
    },
    "tags": []
   },
   "outputs": [
    {
     "name": "stdout",
     "output_type": "stream",
     "text": [
      "Weight of the node at skip connection\n",
      "Parameter containing:\n",
      "tensor([[0.2930]], requires_grad=True)\n"
     ]
    },
    {
     "data": {
      "application/scrapbook.scrap.json+json": {
       "data": 0.29302752017974854,
       "encoder": "json",
       "name": "Skip Connection Weight",
       "version": 1
      }
     },
     "metadata": {
      "scrapbook": {
       "data": true,
       "display": false,
       "name": "Skip Connection Weight"
      }
     },
     "output_type": "display_data"
    }
   ],
   "source": [
    "print(\"Weight of the node at skip connection\")\n",
    "for name,param in gen3.named_parameters():\n",
    "    if(name == \"skipNode.weight\"):\n",
    "        print(param)\n",
    "        sb.glue(\"Skip Connection Weight\",param.item())"
   ]
  }
 ],
 "metadata": {
  "colab": {
   "collapsed_sections": [],
   "name": "ABC_GAN_Model-Catboost_Pre-gen.ipynb",
   "provenance": []
  },
  "interpreter": {
   "hash": "31f2aee4e71d21fbe5cf8b01ff0e069b9275f58929596ceb00d14d90e3e16cd6"
  },
  "kernelspec": {
   "display_name": "Python 3 (ipykernel)",
   "language": "python",
   "name": "python3"
  },
  "language_info": {
   "codemirror_mode": {
    "name": "ipython",
    "version": 3
   },
   "file_extension": ".py",
   "mimetype": "text/x-python",
   "name": "python",
   "nbconvert_exporter": "python",
   "pygments_lexer": "ipython3",
   "version": "3.8.3"
  },
  "papermill": {
   "default_parameters": {},
   "duration": 189.461822,
   "end_time": "2022-06-22T14:26:22.220166",
   "environment_variables": {},
   "exception": null,
   "input_path": "ABC_GAN-TabNet.ipynb",
   "output_path": "./ABC_GAN_TabNet/ABC-GAN_output_6_5.ipynb",
   "parameters": {
    "bias": 0.1,
    "variance": 0.01
   },
   "start_time": "2022-06-22T14:23:12.758344",
   "version": "2.3.3"
  }
 },
 "nbformat": 4,
 "nbformat_minor": 5
}