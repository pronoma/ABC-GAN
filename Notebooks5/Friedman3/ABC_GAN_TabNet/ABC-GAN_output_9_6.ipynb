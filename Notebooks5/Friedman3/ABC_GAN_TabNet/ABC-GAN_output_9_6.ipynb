{
 "cells": [
  {
   "cell_type": "markdown",
   "id": "622780e6",
   "metadata": {
    "id": "622780e6",
    "papermill": {
     "duration": 0.042386,
     "end_time": "2022-06-22T16:16:03.235809",
     "exception": false,
     "start_time": "2022-06-22T16:16:03.193423",
     "status": "completed"
    },
    "tags": []
   },
   "source": [
    "## Import Libraries "
   ]
  },
  {
   "cell_type": "code",
   "execution_count": 1,
   "id": "a62397e3",
   "metadata": {
    "execution": {
     "iopub.execute_input": "2022-06-22T16:16:03.313064Z",
     "iopub.status.busy": "2022-06-22T16:16:03.310700Z",
     "iopub.status.idle": "2022-06-22T16:16:03.316370Z",
     "shell.execute_reply": "2022-06-22T16:16:03.315429Z"
    },
    "id": "a62397e3",
    "papermill": {
     "duration": 0.057589,
     "end_time": "2022-06-22T16:16:03.317155",
     "exception": false,
     "start_time": "2022-06-22T16:16:03.259566",
     "status": "completed"
    },
    "tags": []
   },
   "outputs": [],
   "source": [
    "import warnings\n",
    "import sys\n",
    "sys.path.insert(0, '../../src')\n",
    "warnings.filterwarnings('ignore')"
   ]
  },
  {
   "cell_type": "code",
   "execution_count": 2,
   "id": "d6a4e155",
   "metadata": {
    "execution": {
     "iopub.execute_input": "2022-06-22T16:16:03.381570Z",
     "iopub.status.busy": "2022-06-22T16:16:03.380624Z",
     "iopub.status.idle": "2022-06-22T16:16:11.200067Z",
     "shell.execute_reply": "2022-06-22T16:16:11.200892Z"
    },
    "id": "d6a4e155",
    "papermill": {
     "duration": 7.853349,
     "end_time": "2022-06-22T16:16:11.201210",
     "exception": false,
     "start_time": "2022-06-22T16:16:03.347861",
     "status": "completed"
    },
    "tags": []
   },
   "outputs": [],
   "source": [
    "import ABC_train_test2\n",
    "import friedman3Dataset\n",
    "import network\n",
    "import dataset\n",
    "import sanityChecks\n",
    "import torch \n",
    "import scrapbook as sb\n",
    "from statistics import mean \n",
    "import catboost as ctb \n",
    "from sklearn.model_selection import train_test_split\n",
    "from sklearn.metrics import mean_squared_error,mean_absolute_error\n",
    "import numpy as np\n",
    "from pytorch_tabnet.tab_model import TabNetRegressor"
   ]
  },
  {
   "cell_type": "markdown",
   "id": "2fa5b0f7",
   "metadata": {
    "id": "2fa5b0f7",
    "papermill": {
     "duration": 0.023152,
     "end_time": "2022-06-22T16:16:11.247658",
     "exception": false,
     "start_time": "2022-06-22T16:16:11.224506",
     "status": "completed"
    },
    "tags": []
   },
   "source": [
    "## Parameters "
   ]
  },
  {
   "cell_type": "code",
   "execution_count": 3,
   "id": "783186fb",
   "metadata": {
    "execution": {
     "iopub.execute_input": "2022-06-22T16:16:11.305633Z",
     "iopub.status.busy": "2022-06-22T16:16:11.300505Z",
     "iopub.status.idle": "2022-06-22T16:16:11.307803Z",
     "shell.execute_reply": "2022-06-22T16:16:11.307222Z"
    },
    "id": "783186fb",
    "papermill": {
     "duration": 0.037127,
     "end_time": "2022-06-22T16:16:11.308032",
     "exception": false,
     "start_time": "2022-06-22T16:16:11.270905",
     "status": "completed"
    },
    "tags": [
     "parameters"
    ]
   },
   "outputs": [],
   "source": [
    "variance = 1\n",
    "bias = 1 "
   ]
  },
  {
   "cell_type": "code",
   "execution_count": 4,
   "id": "82950135",
   "metadata": {
    "execution": {
     "iopub.execute_input": "2022-06-22T16:16:11.375153Z",
     "iopub.status.busy": "2022-06-22T16:16:11.372349Z",
     "iopub.status.idle": "2022-06-22T16:16:11.376393Z",
     "shell.execute_reply": "2022-06-22T16:16:11.376956Z"
    },
    "papermill": {
     "duration": 0.050638,
     "end_time": "2022-06-22T16:16:11.377328",
     "exception": false,
     "start_time": "2022-06-22T16:16:11.326690",
     "status": "completed"
    },
    "tags": [
     "injected-parameters"
    ]
   },
   "outputs": [],
   "source": [
    "# Parameters\n",
    "variance = 1\n",
    "bias = 0.01\n"
   ]
  },
  {
   "cell_type": "markdown",
   "id": "391cdbfd",
   "metadata": {
    "id": "391cdbfd",
    "papermill": {
     "duration": 0.024156,
     "end_time": "2022-06-22T16:16:11.430001",
     "exception": false,
     "start_time": "2022-06-22T16:16:11.405845",
     "status": "completed"
    },
    "tags": []
   },
   "source": [
    "## Dataset \n"
   ]
  },
  {
   "cell_type": "code",
   "execution_count": 5,
   "id": "5b51f161",
   "metadata": {
    "execution": {
     "iopub.execute_input": "2022-06-22T16:16:11.494762Z",
     "iopub.status.busy": "2022-06-22T16:16:11.491808Z",
     "iopub.status.idle": "2022-06-22T16:16:11.495768Z",
     "shell.execute_reply": "2022-06-22T16:16:11.496327Z"
    },
    "id": "5b51f161",
    "papermill": {
     "duration": 0.038813,
     "end_time": "2022-06-22T16:16:11.497230",
     "exception": false,
     "start_time": "2022-06-22T16:16:11.458417",
     "status": "completed"
    },
    "tags": []
   },
   "outputs": [],
   "source": [
    "#Parameters \n",
    "n_features = 4\n",
    "n_samples= 100\n",
    "n_target = 1"
   ]
  },
  {
   "cell_type": "code",
   "execution_count": 6,
   "id": "5d6eced4",
   "metadata": {
    "execution": {
     "iopub.execute_input": "2022-06-22T16:16:11.559155Z",
     "iopub.status.busy": "2022-06-22T16:16:11.556085Z",
     "iopub.status.idle": "2022-06-22T16:16:11.576384Z",
     "shell.execute_reply": "2022-06-22T16:16:11.576959Z"
    },
    "id": "5d6eced4",
    "papermill": {
     "duration": 0.055874,
     "end_time": "2022-06-22T16:16:11.577191",
     "exception": false,
     "start_time": "2022-06-22T16:16:11.521317",
     "status": "completed"
    },
    "tags": []
   },
   "outputs": [
    {
     "name": "stdout",
     "output_type": "stream",
     "text": [
      "          X1           X2        X3         X4         Y\n",
      "0  82.834395   447.707102  0.648391   5.695276  1.366972\n",
      "1  51.219959  1689.847608  0.861902   9.906841  1.636618\n",
      "2  62.243677   906.698072  0.836613   1.673297  1.611516\n",
      "3  94.630278   644.739650  0.819119   1.808386  1.291702\n",
      "4  27.061264   246.700015  0.173126  10.983120  0.952204\n"
     ]
    }
   ],
   "source": [
    "X,Y = friedman3Dataset.friedman3_data(n_samples)"
   ]
  },
  {
   "cell_type": "code",
   "execution_count": 7,
   "id": "fe007438",
   "metadata": {
    "execution": {
     "iopub.execute_input": "2022-06-22T16:16:11.652711Z",
     "iopub.status.busy": "2022-06-22T16:16:11.651467Z",
     "iopub.status.idle": "2022-06-22T16:16:11.654846Z",
     "shell.execute_reply": "2022-06-22T16:16:11.653678Z"
    },
    "id": "fe007438",
    "papermill": {
     "duration": 0.055045,
     "end_time": "2022-06-22T16:16:11.655406",
     "exception": false,
     "start_time": "2022-06-22T16:16:11.600361",
     "status": "completed"
    },
    "tags": []
   },
   "outputs": [],
   "source": [
    "#Train test split for dataset \n",
    "X_train,X_test,Y_train,Y_test = train_test_split(X,Y,test_size = 0.2)\n",
    "train_data = dataset.CustomDataset(X_train,Y_train)\n",
    "test_data = dataset.CustomDataset(X_test,Y_test)\n"
   ]
  },
  {
   "cell_type": "markdown",
   "id": "a9a1af34",
   "metadata": {
    "id": "a9a1af34",
    "papermill": {
     "duration": 0.022856,
     "end_time": "2022-06-22T16:16:11.698943",
     "exception": false,
     "start_time": "2022-06-22T16:16:11.676087",
     "status": "completed"
    },
    "tags": []
   },
   "source": [
    "## Training Parameters "
   ]
  },
  {
   "cell_type": "code",
   "execution_count": 8,
   "id": "952b7fc8",
   "metadata": {
    "execution": {
     "iopub.execute_input": "2022-06-22T16:16:11.755090Z",
     "iopub.status.busy": "2022-06-22T16:16:11.753880Z",
     "iopub.status.idle": "2022-06-22T16:16:11.757820Z",
     "shell.execute_reply": "2022-06-22T16:16:11.758491Z"
    },
    "id": "952b7fc8",
    "papermill": {
     "duration": 0.040181,
     "end_time": "2022-06-22T16:16:11.758730",
     "exception": false,
     "start_time": "2022-06-22T16:16:11.718549",
     "status": "completed"
    },
    "tags": []
   },
   "outputs": [],
   "source": [
    "batch_size = 32\n",
    "n_epochs = 1000\n",
    "#Select the device \n",
    "device = torch.device('cuda' if torch.cuda.is_available() else 'cpu')"
   ]
  },
  {
   "cell_type": "markdown",
   "id": "a95e1600",
   "metadata": {
    "id": "a95e1600",
    "papermill": {
     "duration": 0.020868,
     "end_time": "2022-06-22T16:16:11.797905",
     "exception": false,
     "start_time": "2022-06-22T16:16:11.777037",
     "status": "completed"
    },
    "tags": []
   },
   "source": [
    "# ABC Pre-generator Model \n",
    "\n",
    "1. The catboost model is used as a pre-generator model for the ABC-GAN. \n",
    "2. The model is first trained on the entire dataset \n",
    "3. It generats X,Y pairs and we add some Gaussian noise with mean 0 and variance 1 to it which is then feed as input to the generator.\n"
   ]
  },
  {
   "cell_type": "code",
   "execution_count": 9,
   "id": "ff8ce7bd",
   "metadata": {
    "execution": {
     "iopub.execute_input": "2022-06-22T16:16:11.853814Z",
     "iopub.status.busy": "2022-06-22T16:16:11.852883Z",
     "iopub.status.idle": "2022-06-22T16:16:26.970685Z",
     "shell.execute_reply": "2022-06-22T16:16:26.971276Z"
    },
    "id": "ff8ce7bd",
    "papermill": {
     "duration": 15.155804,
     "end_time": "2022-06-22T16:16:26.971504",
     "exception": false,
     "start_time": "2022-06-22T16:16:11.815700",
     "status": "completed"
    },
    "tags": []
   },
   "outputs": [
    {
     "name": "stdout",
     "output_type": "stream",
     "text": [
      "Device used : cpu\n"
     ]
    },
    {
     "name": "stdout",
     "output_type": "stream",
     "text": [
      "epoch 0  | loss: 1.31586 | train_mse: 2.36847 | train_mae: 1.13827 |  0:00:00s\n",
      "epoch 1  | loss: 0.87357 | train_mse: 2.48316 | train_mae: 1.0815  |  0:00:00s\n"
     ]
    },
    {
     "name": "stdout",
     "output_type": "stream",
     "text": [
      "epoch 2  | loss: 0.78287 | train_mse: 2.54733 | train_mae: 1.15736 |  0:00:00s\n",
      "epoch 3  | loss: 0.87249 | train_mse: 2.34062 | train_mae: 1.03292 |  0:00:00s\n"
     ]
    },
    {
     "name": "stdout",
     "output_type": "stream",
     "text": [
      "epoch 4  | loss: 0.66238 | train_mse: 1.52572 | train_mae: 0.81976 |  0:00:00s\n",
      "epoch 5  | loss: 0.61481 | train_mse: 1.0054  | train_mae: 0.71158 |  0:00:00s\n"
     ]
    },
    {
     "name": "stdout",
     "output_type": "stream",
     "text": [
      "epoch 6  | loss: 0.40842 | train_mse: 0.94818 | train_mae: 0.68259 |  0:00:01s\n"
     ]
    },
    {
     "name": "stdout",
     "output_type": "stream",
     "text": [
      "epoch 7  | loss: 0.57323 | train_mse: 1.08068 | train_mae: 0.71605 |  0:00:01s\n",
      "epoch 8  | loss: 0.51149 | train_mse: 0.96853 | train_mae: 0.67144 |  0:00:01s\n"
     ]
    },
    {
     "name": "stdout",
     "output_type": "stream",
     "text": [
      "epoch 9  | loss: 0.56853 | train_mse: 0.90959 | train_mae: 0.64652 |  0:00:01s\n",
      "epoch 10 | loss: 0.60389 | train_mse: 1.25732 | train_mae: 0.7518  |  0:00:01s\n"
     ]
    },
    {
     "name": "stdout",
     "output_type": "stream",
     "text": [
      "epoch 11 | loss: 0.35368 | train_mse: 1.23598 | train_mae: 0.72437 |  0:00:01s\n",
      "epoch 12 | loss: 0.36954 | train_mse: 0.82515 | train_mae: 0.62992 |  0:00:01s\n",
      "epoch 13 | loss: 0.34944 | train_mse: 0.9417  | train_mae: 0.62155 |  0:00:01s\n"
     ]
    },
    {
     "name": "stdout",
     "output_type": "stream",
     "text": [
      "epoch 14 | loss: 0.56561 | train_mse: 0.85328 | train_mae: 0.57418 |  0:00:02s\n",
      "epoch 15 | loss: 0.29207 | train_mse: 0.48568 | train_mae: 0.49421 |  0:00:02s\n"
     ]
    },
    {
     "name": "stdout",
     "output_type": "stream",
     "text": [
      "epoch 16 | loss: 0.39914 | train_mse: 0.5388  | train_mae: 0.51495 |  0:00:02s\n",
      "epoch 17 | loss: 0.37234 | train_mse: 0.45637 | train_mae: 0.462   |  0:00:02s\n",
      "epoch 18 | loss: 0.50344 | train_mse: 0.45716 | train_mae: 0.48198 |  0:00:02s\n"
     ]
    },
    {
     "name": "stdout",
     "output_type": "stream",
     "text": [
      "epoch 19 | loss: 0.33321 | train_mse: 0.27766 | train_mae: 0.40048 |  0:00:02s\n",
      "epoch 20 | loss: 0.41537 | train_mse: 0.28296 | train_mae: 0.4069  |  0:00:02s\n"
     ]
    },
    {
     "name": "stdout",
     "output_type": "stream",
     "text": [
      "epoch 21 | loss: 0.25948 | train_mse: 0.25207 | train_mae: 0.39001 |  0:00:02s\n",
      "epoch 22 | loss: 0.34866 | train_mse: 0.2609  | train_mae: 0.37904 |  0:00:02s\n"
     ]
    },
    {
     "name": "stdout",
     "output_type": "stream",
     "text": [
      "epoch 23 | loss: 0.37142 | train_mse: 0.20766 | train_mae: 0.34571 |  0:00:03s\n",
      "epoch 24 | loss: 0.43532 | train_mse: 0.22587 | train_mae: 0.34357 |  0:00:03s\n"
     ]
    },
    {
     "name": "stdout",
     "output_type": "stream",
     "text": [
      "epoch 25 | loss: 0.40243 | train_mse: 0.23863 | train_mae: 0.34695 |  0:00:03s\n",
      "epoch 26 | loss: 0.21279 | train_mse: 0.31014 | train_mae: 0.37107 |  0:00:03s\n",
      "epoch 27 | loss: 0.4916  | train_mse: 0.33768 | train_mae: 0.39326 |  0:00:03s\n"
     ]
    },
    {
     "name": "stdout",
     "output_type": "stream",
     "text": [
      "epoch 28 | loss: 0.33589 | train_mse: 0.27625 | train_mae: 0.36009 |  0:00:03s\n",
      "epoch 29 | loss: 0.31813 | train_mse: 0.24035 | train_mae: 0.35602 |  0:00:03s\n"
     ]
    },
    {
     "name": "stdout",
     "output_type": "stream",
     "text": [
      "epoch 30 | loss: 0.37122 | train_mse: 0.25237 | train_mae: 0.37983 |  0:00:03s\n",
      "epoch 31 | loss: 0.27089 | train_mse: 0.3446  | train_mae: 0.40349 |  0:00:03s\n",
      "epoch 32 | loss: 0.28714 | train_mse: 0.4021  | train_mae: 0.42987 |  0:00:04s\n"
     ]
    },
    {
     "name": "stdout",
     "output_type": "stream",
     "text": [
      "epoch 33 | loss: 0.33029 | train_mse: 0.52632 | train_mae: 0.47257 |  0:00:04s\n",
      "epoch 34 | loss: 0.56703 | train_mse: 0.35989 | train_mae: 0.41292 |  0:00:04s\n"
     ]
    },
    {
     "name": "stdout",
     "output_type": "stream",
     "text": [
      "epoch 35 | loss: 0.36005 | train_mse: 0.18389 | train_mae: 0.32108 |  0:00:04s\n",
      "epoch 36 | loss: 0.25244 | train_mse: 0.18952 | train_mae: 0.3152  |  0:00:04s\n"
     ]
    },
    {
     "name": "stdout",
     "output_type": "stream",
     "text": [
      "epoch 37 | loss: 0.30363 | train_mse: 0.17912 | train_mae: 0.31254 |  0:00:04s\n",
      "epoch 38 | loss: 0.39633 | train_mse: 0.29783 | train_mae: 0.39189 |  0:00:04s\n",
      "epoch 39 | loss: 0.3434  | train_mse: 0.3362  | train_mae: 0.4177  |  0:00:04s\n"
     ]
    },
    {
     "name": "stdout",
     "output_type": "stream",
     "text": [
      "epoch 40 | loss: 0.35053 | train_mse: 0.34165 | train_mae: 0.40745 |  0:00:04s\n",
      "epoch 41 | loss: 0.29815 | train_mse: 0.36571 | train_mae: 0.41085 |  0:00:05s\n"
     ]
    },
    {
     "name": "stdout",
     "output_type": "stream",
     "text": [
      "epoch 42 | loss: 0.46245 | train_mse: 0.4217  | train_mae: 0.40823 |  0:00:05s\n",
      "epoch 43 | loss: 0.44162 | train_mse: 0.3071  | train_mae: 0.3559  |  0:00:05s\n"
     ]
    },
    {
     "name": "stdout",
     "output_type": "stream",
     "text": [
      "epoch 44 | loss: 0.36446 | train_mse: 0.15283 | train_mae: 0.28786 |  0:00:05s\n",
      "epoch 45 | loss: 0.37042 | train_mse: 0.14739 | train_mae: 0.28778 |  0:00:05s\n"
     ]
    },
    {
     "name": "stdout",
     "output_type": "stream",
     "text": [
      "epoch 46 | loss: 0.31411 | train_mse: 0.1735  | train_mae: 0.31002 |  0:00:05s\n",
      "epoch 47 | loss: 0.38274 | train_mse: 0.26    | train_mae: 0.36383 |  0:00:05s\n",
      "epoch 48 | loss: 0.17097 | train_mse: 0.26396 | train_mae: 0.36888 |  0:00:05s\n"
     ]
    },
    {
     "name": "stdout",
     "output_type": "stream",
     "text": [
      "epoch 49 | loss: 0.19036 | train_mse: 0.26533 | train_mae: 0.3664  |  0:00:06s\n",
      "epoch 50 | loss: 0.26623 | train_mse: 0.21944 | train_mae: 0.33484 |  0:00:06s\n"
     ]
    },
    {
     "name": "stdout",
     "output_type": "stream",
     "text": [
      "epoch 51 | loss: 0.30976 | train_mse: 0.30986 | train_mae: 0.35239 |  0:00:06s\n",
      "epoch 52 | loss: 0.27403 | train_mse: 0.34183 | train_mae: 0.35003 |  0:00:06s\n"
     ]
    },
    {
     "name": "stdout",
     "output_type": "stream",
     "text": [
      "epoch 53 | loss: 0.22252 | train_mse: 0.20881 | train_mae: 0.30978 |  0:00:06s\n",
      "epoch 54 | loss: 0.2733  | train_mse: 0.11033 | train_mae: 0.26707 |  0:00:06s\n",
      "epoch 55 | loss: 0.34828 | train_mse: 0.11456 | train_mae: 0.27654 |  0:00:06s\n"
     ]
    },
    {
     "name": "stdout",
     "output_type": "stream",
     "text": [
      "epoch 56 | loss: 0.30375 | train_mse: 0.12887 | train_mae: 0.27542 |  0:00:06s\n",
      "epoch 57 | loss: 0.20909 | train_mse: 0.10389 | train_mae: 0.25356 |  0:00:06s\n",
      "epoch 58 | loss: 0.22056 | train_mse: 0.1249  | train_mae: 0.27168 |  0:00:06s\n"
     ]
    },
    {
     "name": "stdout",
     "output_type": "stream",
     "text": [
      "epoch 59 | loss: 0.41135 | train_mse: 0.1435  | train_mae: 0.28898 |  0:00:07s\n",
      "epoch 60 | loss: 0.32616 | train_mse: 0.14436 | train_mae: 0.28935 |  0:00:07s\n"
     ]
    },
    {
     "name": "stdout",
     "output_type": "stream",
     "text": [
      "epoch 61 | loss: 0.24251 | train_mse: 0.13678 | train_mae: 0.27467 |  0:00:07s\n",
      "epoch 62 | loss: 0.17958 | train_mse: 0.13483 | train_mae: 0.27904 |  0:00:07s\n"
     ]
    },
    {
     "name": "stdout",
     "output_type": "stream",
     "text": [
      "epoch 63 | loss: 0.33909 | train_mse: 0.12104 | train_mae: 0.27195 |  0:00:07s\n",
      "epoch 64 | loss: 0.33304 | train_mse: 0.13014 | train_mae: 0.28075 |  0:00:07s\n"
     ]
    },
    {
     "name": "stdout",
     "output_type": "stream",
     "text": [
      "epoch 65 | loss: 0.18178 | train_mse: 0.12982 | train_mae: 0.27615 |  0:00:07s\n",
      "epoch 66 | loss: 0.30065 | train_mse: 0.1264  | train_mae: 0.27338 |  0:00:07s\n",
      "epoch 67 | loss: 0.30804 | train_mse: 0.11454 | train_mae: 0.25876 |  0:00:07s\n"
     ]
    },
    {
     "name": "stdout",
     "output_type": "stream",
     "text": [
      "epoch 68 | loss: 0.21502 | train_mse: 0.08496 | train_mae: 0.2297  |  0:00:08s\n",
      "epoch 69 | loss: 0.17826 | train_mse: 0.138   | train_mae: 0.25242 |  0:00:08s\n"
     ]
    },
    {
     "name": "stdout",
     "output_type": "stream",
     "text": [
      "epoch 70 | loss: 0.21811 | train_mse: 0.14397 | train_mae: 0.26521 |  0:00:08s\n",
      "epoch 71 | loss: 0.25857 | train_mse: 0.11213 | train_mae: 0.26285 |  0:00:08s\n",
      "epoch 72 | loss: 0.23812 | train_mse: 0.10014 | train_mae: 0.25319 |  0:00:08s\n"
     ]
    },
    {
     "name": "stdout",
     "output_type": "stream",
     "text": [
      "epoch 73 | loss: 0.25405 | train_mse: 0.13962 | train_mae: 0.29679 |  0:00:08s\n",
      "epoch 74 | loss: 0.25463 | train_mse: 0.16324 | train_mae: 0.29602 |  0:00:08s\n",
      "epoch 75 | loss: 0.27325 | train_mse: 0.11229 | train_mae: 0.26114 |  0:00:08s\n"
     ]
    },
    {
     "name": "stdout",
     "output_type": "stream",
     "text": [
      "epoch 76 | loss: 0.30213 | train_mse: 0.11347 | train_mae: 0.26506 |  0:00:08s\n",
      "epoch 77 | loss: 0.23383 | train_mse: 0.14456 | train_mae: 0.29129 |  0:00:08s\n",
      "epoch 78 | loss: 0.14419 | train_mse: 0.14435 | train_mae: 0.28418 |  0:00:09s\n"
     ]
    },
    {
     "name": "stdout",
     "output_type": "stream",
     "text": [
      "epoch 79 | loss: 0.19436 | train_mse: 0.13849 | train_mae: 0.2799  |  0:00:09s\n",
      "epoch 80 | loss: 0.16476 | train_mse: 0.13569 | train_mae: 0.28638 |  0:00:09s\n"
     ]
    },
    {
     "name": "stdout",
     "output_type": "stream",
     "text": [
      "epoch 81 | loss: 0.23029 | train_mse: 0.13973 | train_mae: 0.29247 |  0:00:09s\n",
      "epoch 82 | loss: 0.32922 | train_mse: 0.13989 | train_mae: 0.28801 |  0:00:09s\n",
      "epoch 83 | loss: 0.23966 | train_mse: 0.17275 | train_mae: 0.31511 |  0:00:09s\n"
     ]
    },
    {
     "name": "stdout",
     "output_type": "stream",
     "text": [
      "epoch 84 | loss: 0.141   | train_mse: 0.21752 | train_mae: 0.33998 |  0:00:09s\n",
      "epoch 85 | loss: 0.24312 | train_mse: 0.25221 | train_mae: 0.37527 |  0:00:09s\n"
     ]
    },
    {
     "name": "stdout",
     "output_type": "stream",
     "text": [
      "epoch 86 | loss: 0.41194 | train_mse: 0.22994 | train_mae: 0.35867 |  0:00:10s\n"
     ]
    },
    {
     "name": "stdout",
     "output_type": "stream",
     "text": [
      "epoch 87 | loss: 0.3175  | train_mse: 0.22646 | train_mae: 0.35246 |  0:00:10s\n"
     ]
    },
    {
     "name": "stdout",
     "output_type": "stream",
     "text": [
      "epoch 88 | loss: 0.2232  | train_mse: 0.17945 | train_mae: 0.31796 |  0:00:10s\n",
      "epoch 89 | loss: 0.18575 | train_mse: 0.09774 | train_mae: 0.24942 |  0:00:10s\n"
     ]
    },
    {
     "name": "stdout",
     "output_type": "stream",
     "text": [
      "epoch 90 | loss: 0.21944 | train_mse: 0.08878 | train_mae: 0.236   |  0:00:10s\n"
     ]
    },
    {
     "name": "stdout",
     "output_type": "stream",
     "text": [
      "epoch 91 | loss: 0.36476 | train_mse: 0.10913 | train_mae: 0.24869 |  0:00:11s\n",
      "epoch 92 | loss: 0.22672 | train_mse: 0.09517 | train_mae: 0.25356 |  0:00:11s\n"
     ]
    },
    {
     "name": "stdout",
     "output_type": "stream",
     "text": [
      "epoch 93 | loss: 0.27948 | train_mse: 0.1276  | train_mae: 0.28826 |  0:00:11s\n"
     ]
    },
    {
     "name": "stdout",
     "output_type": "stream",
     "text": [
      "epoch 94 | loss: 0.16843 | train_mse: 0.1473  | train_mae: 0.31049 |  0:00:11s\n",
      "epoch 95 | loss: 0.33035 | train_mse: 0.15131 | train_mae: 0.30429 |  0:00:12s\n"
     ]
    },
    {
     "name": "stdout",
     "output_type": "stream",
     "text": [
      "epoch 96 | loss: 0.16892 | train_mse: 0.16297 | train_mae: 0.30384 |  0:00:12s\n",
      "epoch 97 | loss: 0.17508 | train_mse: 0.16349 | train_mae: 0.29866 |  0:00:12s\n"
     ]
    },
    {
     "name": "stdout",
     "output_type": "stream",
     "text": [
      "epoch 98 | loss: 0.33761 | train_mse: 0.1495  | train_mae: 0.30613 |  0:00:12s\n",
      "epoch 99 | loss: 0.24482 | train_mse: 0.15508 | train_mae: 0.30934 |  0:00:12s\n",
      "epoch 100| loss: 0.18208 | train_mse: 0.14718 | train_mae: 0.30399 |  0:00:12s\n"
     ]
    },
    {
     "name": "stdout",
     "output_type": "stream",
     "text": [
      "epoch 101| loss: 0.11243 | train_mse: 0.13384 | train_mae: 0.28856 |  0:00:12s\n",
      "epoch 102| loss: 0.23043 | train_mse: 0.19322 | train_mae: 0.31843 |  0:00:12s\n"
     ]
    },
    {
     "name": "stdout",
     "output_type": "stream",
     "text": [
      "epoch 103| loss: 0.14281 | train_mse: 0.18564 | train_mae: 0.31732 |  0:00:13s\n"
     ]
    },
    {
     "name": "stdout",
     "output_type": "stream",
     "text": [
      "epoch 104| loss: 0.23934 | train_mse: 0.11932 | train_mae: 0.27671 |  0:00:13s\n",
      "epoch 105| loss: 0.39766 | train_mse: 0.17    | train_mae: 0.32296 |  0:00:13s\n"
     ]
    },
    {
     "name": "stdout",
     "output_type": "stream",
     "text": [
      "epoch 106| loss: 0.32268 | train_mse: 0.14489 | train_mae: 0.2964  |  0:00:13s\n",
      "epoch 107| loss: 0.26132 | train_mse: 0.10959 | train_mae: 0.26634 |  0:00:13s\n",
      "epoch 108| loss: 0.12511 | train_mse: 0.11506 | train_mae: 0.26861 |  0:00:13s\n"
     ]
    },
    {
     "name": "stdout",
     "output_type": "stream",
     "text": [
      "epoch 109| loss: 0.16172 | train_mse: 0.15384 | train_mae: 0.29211 |  0:00:13s\n",
      "epoch 110| loss: 0.13783 | train_mse: 0.16511 | train_mae: 0.31597 |  0:00:14s\n"
     ]
    },
    {
     "name": "stdout",
     "output_type": "stream",
     "text": [
      "epoch 111| loss: 0.13753 | train_mse: 0.16642 | train_mae: 0.31534 |  0:00:14s\n"
     ]
    },
    {
     "name": "stdout",
     "output_type": "stream",
     "text": [
      "epoch 112| loss: 0.13894 | train_mse: 0.18579 | train_mae: 0.29436 |  0:00:14s\n",
      "epoch 113| loss: 0.20898 | train_mse: 0.23191 | train_mae: 0.31579 |  0:00:14s\n"
     ]
    },
    {
     "name": "stdout",
     "output_type": "stream",
     "text": [
      "epoch 114| loss: 0.32638 | train_mse: 0.14745 | train_mae: 0.28957 |  0:00:14s\n",
      "epoch 115| loss: 0.25754 | train_mse: 0.11724 | train_mae: 0.27401 |  0:00:14s\n"
     ]
    },
    {
     "name": "stdout",
     "output_type": "stream",
     "text": [
      "epoch 116| loss: 0.30991 | train_mse: 0.15402 | train_mae: 0.30274 |  0:00:14s\n",
      "epoch 117| loss: 0.53644 | train_mse: 0.14284 | train_mae: 0.29837 |  0:00:14s\n"
     ]
    },
    {
     "name": "stdout",
     "output_type": "stream",
     "text": [
      "epoch 118| loss: 0.41266 | train_mse: 0.1317  | train_mae: 0.29583 |  0:00:15s\n",
      "\n",
      "Early stopping occurred at epoch 118 with best_epoch = 68 and best_train_mae = 0.2297\n",
      "Best weights from best epoch are automatically used!\n"
     ]
    }
   ],
   "source": [
    "#Train the Model\n",
    "\n",
    "Y_train = np.reshape(Y_train, (-1, 1))\n",
    "Y_test = np.reshape(Y_test, (-1, 1))\n",
    "\n",
    "prior_model = TabNetRegressor(optimizer_fn=torch.optim.Adam, optimizer_params=dict(lr = 0.02),\n",
    "          #scheduler_params={\"step_size\":10, ], \"gamma\":0.9},\n",
    "          #scheduler_fn=torch.optim.lr_scheduler.StepLR\n",
    "          )  #TabNetRegressor()\n",
    "\n",
    "prior_model.fit(X_train,Y_train,eval_set=[(X_train, Y_train)],\n",
    "            eval_name=['train'], \n",
    "            eval_metric=[ 'mse', 'mae'], \n",
    "            max_epochs = n_epochs, \n",
    "            batch_size = batch_size,\n",
    "            patience=50\n",
    "            )"
   ]
  },
  {
   "cell_type": "code",
   "execution_count": 10,
   "id": "af65dcda",
   "metadata": {
    "execution": {
     "iopub.execute_input": "2022-06-22T16:16:27.110643Z",
     "iopub.status.busy": "2022-06-22T16:16:27.109632Z",
     "iopub.status.idle": "2022-06-22T16:16:27.153046Z",
     "shell.execute_reply": "2022-06-22T16:16:27.154335Z"
    },
    "id": "af65dcda",
    "papermill": {
     "duration": 0.126308,
     "end_time": "2022-06-22T16:16:27.154696",
     "exception": false,
     "start_time": "2022-06-22T16:16:27.028388",
     "status": "completed"
    },
    "tags": []
   },
   "outputs": [
    {
     "data": {
      "application/scrapbook.scrap.json+json": {
       "data": 0.3721145489075588,
       "encoder": "json",
       "name": "Prior Model MSE",
       "version": 1
      }
     },
     "metadata": {
      "scrapbook": {
       "data": true,
       "display": false,
       "name": "Prior Model MSE"
      }
     },
     "output_type": "display_data"
    },
    {
     "data": {
      "application/scrapbook.scrap.json+json": {
       "data": 1.400996140752554,
       "encoder": "json",
       "name": "ABC Pre-generator MSE",
       "version": 1
      }
     },
     "metadata": {
      "scrapbook": {
       "data": true,
       "display": false,
       "name": "ABC Pre-generator MSE"
      }
     },
     "output_type": "display_data"
    },
    {
     "data": {
      "application/scrapbook.scrap.json+json": {
       "data": 0.43971215862697405,
       "encoder": "json",
       "name": "Prior Model MSE",
       "version": 1
      }
     },
     "metadata": {
      "scrapbook": {
       "data": true,
       "display": false,
       "name": "Prior Model MSE"
      }
     },
     "output_type": "display_data"
    },
    {
     "data": {
      "application/scrapbook.scrap.json+json": {
       "data": 0.9934527223986198,
       "encoder": "json",
       "name": "ABC Pre-generator MSE",
       "version": 1
      }
     },
     "metadata": {
      "scrapbook": {
       "data": true,
       "display": false,
       "name": "ABC Pre-generator MSE"
      }
     },
     "output_type": "display_data"
    }
   ],
   "source": [
    "y_pred = prior_model.predict(X_test)\n",
    "y_abc = y_pred + np.random.normal(0,variance, y_pred.shape) + bias \n",
    "mse = mean_squared_error(y_pred,Y_test)\n",
    "sb.glue(\"Prior Model MSE\",mse)\n",
    "mse = mean_squared_error(y_abc,Y_test)\n",
    "sb.glue(\"ABC Pre-generator MSE\",mse)\n",
    "mae = mean_absolute_error(y_pred,Y_test)\n",
    "sb.glue(\"Prior Model MSE\",mae)\n",
    "mae = mean_absolute_error(y_abc,Y_test)\n",
    "sb.glue(\"ABC Pre-generator MSE\",mae)"
   ]
  },
  {
   "cell_type": "markdown",
   "id": "25609da2",
   "metadata": {
    "papermill": {
     "duration": 0.048145,
     "end_time": "2022-06-22T16:16:27.243587",
     "exception": false,
     "start_time": "2022-06-22T16:16:27.195442",
     "status": "completed"
    },
    "tags": []
   },
   "source": [
    "# ABC GAN Model"
   ]
  },
  {
   "cell_type": "code",
   "execution_count": 11,
   "id": "dfc3464d",
   "metadata": {
    "execution": {
     "iopub.execute_input": "2022-06-22T16:16:27.363122Z",
     "iopub.status.busy": "2022-06-22T16:16:27.362286Z",
     "iopub.status.idle": "2022-06-22T16:16:27.367790Z",
     "shell.execute_reply": "2022-06-22T16:16:27.369704Z"
    },
    "papermill": {
     "duration": 0.067031,
     "end_time": "2022-06-22T16:16:27.369954",
     "exception": false,
     "start_time": "2022-06-22T16:16:27.302923",
     "status": "completed"
    },
    "tags": []
   },
   "outputs": [],
   "source": [
    "gen = network.Generator(n_features+1).to(device)\n",
    "disc = network.Discriminator(n_features+1).to(device)\n",
    "\n",
    "criterion = torch.nn.BCELoss()\n",
    "gen_opt = torch.optim.Adam(gen.parameters(), lr=0.001, betas=(0.5, 0.999))\n",
    "disc_opt = torch.optim.Adam(disc.parameters(), lr=0.001, betas=(0.5, 0.999))"
   ]
  },
  {
   "cell_type": "code",
   "execution_count": 12,
   "id": "b75fdd85",
   "metadata": {
    "execution": {
     "iopub.execute_input": "2022-06-22T16:16:27.470492Z",
     "iopub.status.busy": "2022-06-22T16:16:27.464892Z",
     "iopub.status.idle": "2022-06-22T16:17:37.427670Z",
     "shell.execute_reply": "2022-06-22T16:17:37.428228Z"
    },
    "papermill": {
     "duration": 70.01743,
     "end_time": "2022-06-22T16:17:37.428458",
     "exception": false,
     "start_time": "2022-06-22T16:16:27.411028",
     "status": "completed"
    },
    "tags": []
   },
   "outputs": [
    {
     "data": {
      "image/png": "[encoded data removed]",
      "text/plain": [
       "<Figure size 432x288 with 1 Axes>"
      ]
     },
     "metadata": {
      "needs_background": "light"
     },
     "output_type": "display_data"
    },
    {
     "data": {
      "image/png": "[encoded data removed]",
      "text/plain": [
       "<Figure size 432x288 with 1 Axes>"
      ]
     },
     "metadata": {
      "needs_background": "light"
     },
     "output_type": "display_data"
    }
   ],
   "source": [
    "#Training the ABC_GAN \n",
    "ABC_train_test2.training_GAN(disc,gen,disc_opt,gen_opt,train_data,batch_size,n_epochs,criterion,prior_model,variance,bias,device)"
   ]
  },
  {
   "cell_type": "code",
   "execution_count": 13,
   "id": "1fa7c368",
   "metadata": {
    "execution": {
     "iopub.execute_input": "2022-06-22T16:17:37.560477Z",
     "iopub.status.busy": "2022-06-22T16:17:37.557250Z",
     "iopub.status.idle": "2022-06-22T16:17:38.770541Z",
     "shell.execute_reply": "2022-06-22T16:17:38.772751Z"
    },
    "papermill": {
     "duration": 1.30237,
     "end_time": "2022-06-22T16:17:38.773051",
     "exception": false,
     "start_time": "2022-06-22T16:17:37.470681",
     "status": "completed"
    },
    "tags": []
   },
   "outputs": [
    {
     "data": {
      "application/scrapbook.scrap.json+json": {
       "data": 0.28532927564125693,
       "encoder": "json",
       "name": "ABC-GAN Model 1 MSE",
       "version": 1
      }
     },
     "metadata": {
      "scrapbook": {
       "data": true,
       "display": false,
       "name": "ABC-GAN Model 1 MSE"
      }
     },
     "output_type": "display_data"
    },
    {
     "data": {
      "application/scrapbook.scrap.json+json": {
       "data": 0.46655077217146756,
       "encoder": "json",
       "name": "ABC-GAN Model 1 MAE",
       "version": 1
      }
     },
     "metadata": {
      "scrapbook": {
       "data": true,
       "display": false,
       "name": "ABC-GAN Model 1 MAE"
      }
     },
     "output_type": "display_data"
    },
    {
     "data": {
      "application/scrapbook.scrap.json+json": {
       "data": 9.33101544342935,
       "encoder": "json",
       "name": "ABC-GAN Model 1 Manhattan Distance",
       "version": 1
      }
     },
     "metadata": {
      "scrapbook": {
       "data": true,
       "display": false,
       "name": "ABC-GAN Model 1 Manhattan Distance"
      }
     },
     "output_type": "display_data"
    },
    {
     "data": {
      "application/scrapbook.scrap.json+json": {
       "data": 2.3876744997622543,
       "encoder": "json",
       "name": "ABC-GAN Model 1 Euclidean distance",
       "version": 1
      }
     },
     "metadata": {
      "scrapbook": {
       "data": true,
       "display": false,
       "name": "ABC-GAN Model 1 Euclidean distance"
      }
     },
     "output_type": "display_data"
    },
    {
     "data": {
      "application/scrapbook.scrap.json+json": {
       "data": [
        [
         0.30965394924421635,
         0.2918271105728606,
         0.2777871087380563,
         0.2840862258719835,
         0.3072818544946792,
         0.34007177822183193,
         0.2738254075203752,
         0.2980604925681906,
         0.2748518119627873,
         0.27939900085538893,
         0.2829744852328125,
         0.28006996648184046,
         0.29198975519628834,
         0.2924009222936622,
         0.2775187532618641,
         0.29198984750786505,
         0.3223888831200566,
         0.26697294011716244,
         0.2560082393493398,
         0.26914117504344415,
         0.2938371846696554,
         0.30710951200770753,
         0.2461613695475362,
         0.2633118367515274,
         0.27670123825746107,
         0.2745804668411835,
         0.29006936059529453,
         0.2984828466805811,
         0.30361639350508585,
         0.28099431785501255,
         0.2588698410135625,
         0.2862078092184867,
         0.28974848578731843,
         0.2654220537558041,
         0.2967395542915022,
         0.27061124538111664,
         0.27215686480024187,
         0.2988972663028485,
         0.25396559115782685,
         0.2918591814831168,
         0.2726659831948178,
         0.2847487038583136,
         0.30443706724190833,
         0.2502490502592857,
         0.2849826744749929,
         0.316992374992792,
         0.2912825962920441,
         0.27884127265542485,
         0.2790956755227587,
         0.3148614046377331,
         0.3237439360877976,
         0.27718989560927076,
         0.27557229287045465,
         0.2777691674880093,
         0.29546000939595823,
         0.33126130827368977,
         0.27863048176790634,
         0.2884961158672385,
         0.29755755182124805,
         0.27466942610846734,
         0.29492975340026717,
         0.29127368415354726,
         0.3046146904701619,
         0.27810268403068983,
         0.29297646575782627,
         0.2611000992718647,
         0.28766912147614204,
         0.2922252962195429,
         0.29436237374415325,
         0.2922028221900893,
         0.27622220471537784,
         0.28765247705276564,
         0.3049506253693877,
         0.2889096285087514,
         0.29437088824921215,
         0.24576837416979253,
         0.2997333398354462,
         0.32028396271503373,
         0.27771232143468183,
         0.2776902698380468,
         0.27319058758989057,
         0.28465694260816066,
         0.2580088955565622,
         0.25524531371103143,
         0.2743402129659048,
         0.25864800231692214,
         0.3110946228040051,
         0.28312619878392503,
         0.27356864359916,
         0.26946325097350765,
         0.28674894317276384,
         0.2741456571388044,
         0.27010339172895725,
         0.29424276502746083,
         0.28080176081896213,
         0.2939535080591972,
         0.2797774547073875,
         0.2651587684599745,
         0.28728809309731446,
         0.3104643524253332
        ],
        [
         0.4932594334706664,
         0.4718485394492745,
         0.4606795499101281,
         0.4692070508375764,
         0.4990403516218066,
         0.5134796286001801,
         0.45955909285694363,
         0.48374400530010464,
         0.4657603969797492,
         0.4441334081813693,
         0.4731186987832189,
         0.4636168682947755,
         0.47796813752502204,
         0.47074562665075065,
         0.4614264590665698,
         0.47244215440005066,
         0.5054392335936427,
         0.44286569114774466,
         0.42345591727644205,
         0.44629311952739953,
         0.47953286338597534,
         0.486891726963222,
         0.4239725338295102,
         0.4494336018338799,
         0.467529777623713,
         0.45549860056489705,
         0.4742245512083173,
         0.4749637333676219,
         0.485658916272223,
         0.4576254205778241,
         0.4439687615260482,
         0.47408813815563916,
         0.46170012895017865,
         0.4509529011324048,
         0.47899934332817795,
         0.4509320570155978,
         0.4576057890430093,
         0.4789542118087411,
         0.44295287858694793,
         0.4732480959966779,
         0.45905086901038883,
         0.467807319201529,
         0.48761345688253643,
         0.43317016754299403,
         0.47447242084890606,
         0.48800015430897475,
         0.47772397864609956,
         0.46682972740381956,
         0.4637939868494868,
         0.4934357604011893,
         0.49900377821177244,
         0.44506332408636806,
         0.4564143938943744,
         0.4682503333315253,
         0.4706350130960345,
         0.500969292037189,
         0.4529445407912135,
         0.47076528873294593,
         0.4752270864322782,
         0.4630209529772401,
         0.47539399433881047,
         0.4714578388258815,
         0.48186134081333876,
         0.45958047192543744,
         0.48058759439736604,
         0.443486831523478,
         0.47160897869616747,
         0.47156599070876837,
         0.479633111320436,
         0.4800600355491042,
         0.4675236510112882,
         0.46607038881629703,
         0.4648260762915015,
         0.46555045042186977,
         0.4713949868455529,
         0.4244166133925319,
         0.4798999847844243,
         0.5014072904363275,
         0.46384458187967537,
         0.4712017407640815,
         0.45423828680068257,
         0.46939006838947533,
         0.43270427975803616,
         0.43997366186231374,
         0.4594295362010598,
         0.4395206579938531,
         0.4827827295288444,
         0.458884391374886,
         0.44751343335956334,
         0.4536202786490321,
         0.4746260209009051,
         0.4438575295731425,
         0.45199273582547905,
         0.4762505849823356,
         0.4588093044236302,
         0.4779896592721343,
         0.45371857564896345,
         0.4478006249293685,
         0.4616476049646735,
         0.49794606063514946
        ],
        [
         9.865188669413328,
         9.43697078898549,
         9.213590998202562,
         9.384141016751528,
         9.980807032436132,
         10.269592572003603,
         9.191181857138872,
         9.674880106002092,
         9.315207939594984,
         8.882668163627386,
         9.462373975664377,
         9.27233736589551,
         9.55936275050044,
         9.414912533015013,
         9.228529181331396,
         9.448843088001013,
         10.108784671872854,
         8.857313822954893,
         8.469118345528841,
         8.92586239054799,
         9.590657267719507,
         9.73783453926444,
         8.479450676590204,
         8.988672036677599,
         9.35059555247426,
         9.109972011297941,
         9.484491024166346,
         9.499274667352438,
         9.71317832544446,
         9.152508411556482,
         8.879375230520964,
         9.481762763112783,
         9.234002579003572,
         9.019058022648096,
         9.579986866563559,
         9.018641140311956,
         9.152115780860186,
         9.579084236174822,
         8.859057571738958,
         9.464961919933558,
         9.181017380207777,
         9.35614638403058,
         9.752269137650728,
         8.66340335085988,
         9.48944841697812,
         9.760003086179495,
         9.554479572921991,
         9.336594548076391,
         9.275879736989737,
         9.868715208023787,
         9.980075564235449,
         8.901266481727362,
         9.128287877887487,
         9.365006666630507,
         9.41270026192069,
         10.01938584074378,
         9.05889081582427,
         9.415305774658918,
         9.504541728645563,
         9.260419059544802,
         9.507879886776209,
         9.42915677651763,
         9.637226816266775,
         9.191609438508749,
         9.611751887947321,
         8.86973663046956,
         9.43217957392335,
         9.431319814175367,
         9.59266222640872,
         9.601200710982084,
         9.350473020225763,
         9.321407776325941,
         9.29652152583003,
         9.311009008437395,
         9.427899736911058,
         8.488332267850637,
         9.597999695688486,
         10.02814580872655,
         9.276891637593508,
         9.42403481528163,
         9.084765736013651,
         9.387801367789507,
         8.654085595160723,
         8.799473237246275,
         9.188590724021196,
         8.790413159877062,
         9.655654590576887,
         9.17768782749772,
         8.950268667191267,
         9.072405572980642,
         9.492520418018103,
         8.87715059146285,
         9.03985471650958,
         9.525011699646711,
         9.176186088472605,
         9.559793185442686,
         9.074371512979269,
         8.95601249858737,
         9.23295209929347,
         9.95892121270299
        ],
        [
         2.488589758253523,
         2.4158936672497013,
         2.3570621915344376,
         2.3836368258272214,
         2.479039549884911,
         2.6079562044705886,
         2.340194041187077,
         2.441558897787193,
         2.344575918850943,
         2.363890864043384,
         2.378968201690861,
         2.3667275571211843,
         2.4165668010476695,
         2.418267653894673,
         2.355923399696451,
         2.4165671830423627,
         2.5392474598591472,
         2.310726899125738,
         2.26277811262766,
         2.320091269943681,
         2.424199598505269,
         2.478344253761804,
         2.2188346921189788,
         2.294828258286565,
         2.352450799729767,
         2.343418301717316,
         2.4086069027356647,
         2.443288139702647,
         2.4642093803290575,
         2.3706299494227796,
         2.275389377726645,
         2.392520884834599,
         2.407274333296139,
         2.3040054416420293,
         2.4361426653277194,
         2.326418902008478,
         2.3330532132818655,
         2.444983706705828,
         2.253732864195874,
         2.416026413279113,
         2.3352343916395966,
         2.386414481427372,
         2.4675375062677705,
         2.2371814868681787,
         2.387394707521121,
         2.517905379448529,
         2.413638731426243,
         2.361530320175563,
         2.362607354270949,
         2.5094278417110667,
         2.5445782993957864,
         2.3545271100977825,
         2.347646876642459,
         2.3569860733063708,
         2.43088465129861,
         2.5739514691372474,
         2.3606375484936537,
         2.4020662599821785,
         2.439498111584627,
         2.3437978842403084,
         2.4287023424053724,
         2.4136018070657275,
         2.4682572413351163,
         2.358400661595437,
         2.420646466371437,
         2.285170012370479,
         2.3986209432761236,
         2.4175412973496146,
         2.426365074526722,
         2.417448333222819,
         2.350413600689793,
         2.3985515506353647,
         2.4696178869184915,
         2.403787130794869,
         2.426400165880361,
         2.217062805469401,
         2.44840086519935,
         2.5309443404193375,
         2.3567448798488213,
         2.356651309965251,
         2.3374797863934162,
         2.386029935303246,
         2.27160249848675,
         2.2594039643721593,
         2.3423928490580086,
         2.274414220483693,
         2.4943721566919606,
         2.3796058446050474,
         2.3390965931280396,
         2.321479058589621,
         2.394781589927415,
         2.3415621159337388,
         2.3242348922987848,
         2.4258720701119456,
         2.3698175491753037,
         2.4246793934835886,
         2.36549130079731,
         2.3028624294993154,
         2.3970318858843513,
         2.4918441059798795
        ]
       ],
       "encoder": "json",
       "name": "ABC_GAN_1 Metrics",
       "version": 1
      }
     },
     "metadata": {
      "scrapbook": {
       "data": true,
       "display": false,
       "name": "ABC_GAN_1 Metrics"
      }
     },
     "output_type": "display_data"
    },
    {
     "name": "stdout",
     "output_type": "stream",
     "text": [
      "MSE\n",
      "0.28532927564125693\n"
     ]
    }
   ],
   "source": [
    "ABC_GAN1_metrics=ABC_train_test2.test_generator(gen,test_data,prior_model,variance,bias,\"1\",device)\n",
    "sb.glue(\"ABC_GAN_1 Metrics\",ABC_GAN1_metrics)\n",
    "\n",
    "print(\"MSE\")\n",
    "print(mean(ABC_GAN1_metrics[0]))"
   ]
  },
  {
   "cell_type": "code",
   "execution_count": 14,
   "id": "eb22ce5c",
   "metadata": {
    "execution": {
     "iopub.execute_input": "2022-06-22T16:17:38.969814Z",
     "iopub.status.busy": "2022-06-22T16:17:38.965411Z",
     "iopub.status.idle": "2022-06-22T16:17:40.438348Z",
     "shell.execute_reply": "2022-06-22T16:17:40.438983Z"
    },
    "papermill": {
     "duration": 1.615081,
     "end_time": "2022-06-22T16:17:40.439589",
     "exception": false,
     "start_time": "2022-06-22T16:17:38.824508",
     "status": "completed"
    },
    "tags": []
   },
   "outputs": [
    {
     "data": {
      "image/png": "[encoded data removed]",
      "text/plain": [
       "<Figure size 432x288 with 1 Axes>"
      ]
     },
     "metadata": {
      "needs_background": "light"
     },
     "output_type": "display_data"
    },
    {
     "data": {
      "image/png": "[encoded data removed]",
      "text/plain": [
       "<Figure size 432x288 with 1 Axes>"
      ]
     },
     "metadata": {
      "needs_background": "light"
     },
     "output_type": "display_data"
    },
    {
     "data": {
      "image/png": "[encoded data removed]",
      "text/plain": [
       "<Figure size 432x288 with 1 Axes>"
      ]
     },
     "metadata": {
      "needs_background": "light"
     },
     "output_type": "display_data"
    },
    {
     "data": {
      "image/png": "[encoded data removed]",
      "text/plain": [
       "<Figure size 432x288 with 1 Axes>"
      ]
     },
     "metadata": {
      "needs_background": "light"
     },
     "output_type": "display_data"
    }
   ],
   "source": [
    "sanityChecks.discProbVsError(train_data,disc,device)\n",
    "sanityChecks.discProbVsError(test_data,disc,device)"
   ]
  },
  {
   "cell_type": "markdown",
   "id": "130f3a4d",
   "metadata": {
    "id": "130f3a4d",
    "papermill": {
     "duration": 0.089518,
     "end_time": "2022-06-22T16:17:40.579621",
     "exception": false,
     "start_time": "2022-06-22T16:17:40.490103",
     "status": "completed"
    },
    "tags": []
   },
   "source": [
    "# ABC - GAN Model with skip connection"
   ]
  },
  {
   "cell_type": "code",
   "execution_count": 15,
   "id": "4e43dad1",
   "metadata": {
    "execution": {
     "iopub.execute_input": "2022-06-22T16:17:40.701937Z",
     "iopub.status.busy": "2022-06-22T16:17:40.698737Z",
     "iopub.status.idle": "2022-06-22T16:17:40.706036Z",
     "shell.execute_reply": "2022-06-22T16:17:40.706604Z"
    },
    "id": "4e43dad1",
    "papermill": {
     "duration": 0.076658,
     "end_time": "2022-06-22T16:17:40.706902",
     "exception": false,
     "start_time": "2022-06-22T16:17:40.630244",
     "status": "completed"
    },
    "tags": []
   },
   "outputs": [],
   "source": [
    "#Generator\n",
    "gen3 = network.GeneratorWithSkipConnection(n_features+1).to(device)\n",
    "constraints=network.weightConstraint()\n",
    "#Discriminator \n",
    "disc3 = network.Discriminator(n_features+1).to(device)\n",
    "\n",
    "criterion = torch.nn.BCELoss()\n",
    "gen_opt = torch.optim.Adam(gen3.parameters(), lr=0.001, betas=(0.5, 0.999))\n",
    "disc_opt = torch.optim.Adam(disc3.parameters(), lr=0.001, betas=(0.5, 0.999))\n"
   ]
  },
  {
   "cell_type": "code",
   "execution_count": 16,
   "id": "26acbc37",
   "metadata": {
    "execution": {
     "iopub.execute_input": "2022-06-22T16:17:40.839046Z",
     "iopub.status.busy": "2022-06-22T16:17:40.835073Z",
     "iopub.status.idle": "2022-06-22T16:19:33.165948Z",
     "shell.execute_reply": "2022-06-22T16:19:33.166543Z"
    },
    "id": "26acbc37",
    "papermill": {
     "duration": 112.409414,
     "end_time": "2022-06-22T16:19:33.166766",
     "exception": false,
     "start_time": "2022-06-22T16:17:40.757352",
     "status": "completed"
    },
    "tags": []
   },
   "outputs": [
    {
     "data": {
      "image/png": "[encoded data removed]",
      "text/plain": [
       "<Figure size 432x288 with 1 Axes>"
      ]
     },
     "metadata": {
      "needs_background": "light"
     },
     "output_type": "display_data"
    },
    {
     "data": {
      "image/png": "[encoded data removed]",
      "text/plain": [
       "<Figure size 432x288 with 1 Axes>"
      ]
     },
     "metadata": {
      "needs_background": "light"
     },
     "output_type": "display_data"
    }
   ],
   "source": [
    "ABC_train_test2.training_GAN_skip_connection(disc3,gen3,disc_opt,gen_opt,train_data,batch_size,n_epochs,criterion,prior_model,variance,bias,device)"
   ]
  },
  {
   "cell_type": "code",
   "execution_count": 17,
   "id": "c5e0717b",
   "metadata": {
    "execution": {
     "iopub.execute_input": "2022-06-22T16:19:33.294559Z",
     "iopub.status.busy": "2022-06-22T16:19:33.293701Z",
     "iopub.status.idle": "2022-06-22T16:19:34.823010Z",
     "shell.execute_reply": "2022-06-22T16:19:34.824387Z"
    },
    "id": "c5e0717b",
    "papermill": {
     "duration": 1.604782,
     "end_time": "2022-06-22T16:19:34.824674",
     "exception": false,
     "start_time": "2022-06-22T16:19:33.219892",
     "status": "completed"
    },
    "tags": []
   },
   "outputs": [
    {
     "data": {
      "application/scrapbook.scrap.json+json": {
       "data": 0.35835618997503477,
       "encoder": "json",
       "name": "ABC-GAN Model 3 MSE",
       "version": 1
      }
     },
     "metadata": {
      "scrapbook": {
       "data": true,
       "display": false,
       "name": "ABC-GAN Model 3 MSE"
      }
     },
     "output_type": "display_data"
    },
    {
     "data": {
      "application/scrapbook.scrap.json+json": {
       "data": 0.5203833984667435,
       "encoder": "json",
       "name": "ABC-GAN Model 3 MAE",
       "version": 1
      }
     },
     "metadata": {
      "scrapbook": {
       "data": true,
       "display": false,
       "name": "ABC-GAN Model 3 MAE"
      }
     },
     "output_type": "display_data"
    },
    {
     "data": {
      "application/scrapbook.scrap.json+json": {
       "data": 10.40766796933487,
       "encoder": "json",
       "name": "ABC-GAN Model 3 Manhattan Distance",
       "version": 1
      }
     },
     "metadata": {
      "scrapbook": {
       "data": true,
       "display": false,
       "name": "ABC-GAN Model 3 Manhattan Distance"
      }
     },
     "output_type": "display_data"
    },
    {
     "data": {
      "application/scrapbook.scrap.json+json": {
       "data": 2.6767270962981815,
       "encoder": "json",
       "name": "ABC-GAN Model 3 Euclidean distance",
       "version": 1
      }
     },
     "metadata": {
      "scrapbook": {
       "data": true,
       "display": false,
       "name": "ABC-GAN Model 3 Euclidean distance"
      }
     },
     "output_type": "display_data"
    },
    {
     "data": {
      "application/scrapbook.scrap.json+json": {
       "data": [
        [
         0.35806149251865,
         0.34704554818943956,
         0.3542951837315315,
         0.3487584457713173,
         0.35616032178569346,
         0.361390994375832,
         0.3632005404772438,
         0.35120551429745,
         0.3702724063983672,
         0.3796005961499786,
         0.3237293353511552,
         0.3637366993676,
         0.3663730961588326,
         0.36063078221800765,
         0.3766088224143782,
         0.3710813227954079,
         0.34646119886829,
         0.3582301673940449,
         0.3649785583098744,
         0.3616000233718223,
         0.358565870382481,
         0.35964273468980523,
         0.35077045935999235,
         0.38180327035893014,
         0.3481010016665852,
         0.37199214914610335,
         0.3460906784927837,
         0.3520066452312779,
         0.3500234942060092,
         0.3484152116263388,
         0.3392779840870862,
         0.35758282209327935,
         0.37679745249344576,
         0.35074275099377195,
         0.3535014615357769,
         0.3584287558263015,
         0.35673965185477946,
         0.38724787632703117,
         0.3552717598774503,
         0.36610116141356125,
         0.3507969246638719,
         0.3528777760658652,
         0.3668607150329289,
         0.35071716467405123,
         0.33744530561655045,
         0.34442224885710754,
         0.3611031943546832,
         0.35364073165010135,
         0.32655012054824806,
         0.35097986702829653,
         0.3451014963040112,
         0.35740699589315056,
         0.3493123748758201,
         0.35845815848062507,
         0.3524242045067313,
         0.3554688326458207,
         0.3915193637085302,
         0.35748096011737174,
         0.35304079418563433,
         0.34092731170227447,
         0.3583973172223286,
         0.3455886012901904,
         0.3366479435569637,
         0.34925116891877606,
         0.3432078859110408,
         0.3512637766002503,
         0.3629717946636013,
         0.3579055520291549,
         0.3793003221759992,
         0.3738219251262377,
         0.3541106866230443,
         0.36831093967193046,
         0.35093968538447284,
         0.39407081789351617,
         0.35559684806148695,
         0.3484482924028972,
         0.3649206580598737,
         0.35035539397882387,
         0.38471393490036954,
         0.35770574110952486,
         0.35198277394234656,
         0.380463649183211,
         0.3688079060526171,
         0.3579618600461687,
         0.35013796789684914,
         0.3575013011913936,
         0.3607541636620591,
         0.36314094700672517,
         0.34466535813506133,
         0.35312997252988315,
         0.35575675616223135,
         0.3517724851882825,
         0.3606722307723401,
         0.36644183553722814,
         0.3555944437666324,
         0.35809881673894134,
         0.3800463803770349,
         0.3697386760588876,
         0.3900181991009817,
         0.3623452060547371
        ],
        [
         0.5226348128169775,
         0.5107219314202667,
         0.5129902064800262,
         0.5107145933434367,
         0.5160704392939806,
         0.5159303778782487,
         0.5221587985754013,
         0.5144699895754457,
         0.5270615336485207,
         0.5322451164014638,
         0.496069510653615,
         0.5191137600690127,
         0.5280910223722458,
         0.5172287588939071,
         0.5390124931931496,
         0.532918999157846,
         0.5152272497303784,
         0.5238949647173285,
         0.5203651193529367,
         0.5243429694324732,
         0.5214825546368956,
         0.5222369283437729,
         0.5099756937474013,
         0.5389982377178967,
         0.5119041064754128,
         0.5342273842543364,
         0.5177411679178476,
         0.5149346990510821,
         0.5194376081228256,
         0.5135710632428527,
         0.5062220188789069,
         0.5218555806204677,
         0.5340705487877131,
         0.5140981841832399,
         0.5172641761600971,
         0.5190533140674234,
         0.5162068603560328,
         0.5469754507765174,
         0.5192858478054404,
         0.5208646507933736,
         0.5105427388101816,
         0.5148207219317555,
         0.523950595408678,
         0.5158688142895699,
         0.5047004227526486,
         0.506788195669651,
         0.5200212683528662,
         0.5207643065601587,
         0.4974178958684206,
         0.5117636747658253,
         0.5151307201012969,
         0.5137878362089395,
         0.5096002995967865,
         0.5201383953914046,
         0.5156349809840322,
         0.5191693811677396,
         0.5457844976335764,
         0.5179419199004769,
         0.5181450914591551,
         0.5020645380020141,
         0.5207965338602663,
         0.5187652969732881,
         0.5027633607387543,
         0.5158463019877673,
         0.5061715408228338,
         0.5121186895295977,
         0.5217859990894794,
         0.5215278951451182,
         0.543702595680952,
         0.534351485595107,
         0.5115645689889788,
         0.5278668865561486,
         0.5192666774615645,
         0.5524661494418979,
         0.522512044198811,
         0.5086722844280303,
         0.5244957560673356,
         0.5183514533564448,
         0.5426927896216511,
         0.5178258780390024,
         0.507871016766876,
         0.5419786917045712,
         0.5274744839407504,
         0.5199159996584057,
         0.510517019033432,
         0.5221898456104099,
         0.5187907020561398,
         0.5288772476837039,
         0.5125558318570256,
         0.5143244506791234,
         0.5187358553521335,
         0.5119502629153431,
         0.5274552300572395,
         0.5230469549074769,
         0.5192971873097122,
         0.5230820206925273,
         0.5411148816347122,
         0.5265606947243213,
         0.5462440975941718,
         0.5271081671118736
        ],
        [
         10.45269625633955,
         10.214438628405333,
         10.259804129600525,
         10.214291866868734,
         10.321408785879612,
         10.318607557564974,
         10.443175971508026,
         10.289399791508913,
         10.541230672970414,
         10.644902328029275,
         9.9213902130723,
         10.382275201380253,
         10.561820447444916,
         10.344575177878141,
         10.780249863862991,
         10.65837998315692,
         10.304544994607568,
         10.477899294346571,
         10.407302387058735,
         10.486859388649464,
         10.429651092737913,
         10.444738566875458,
         10.199513874948025,
         10.779964754357934,
         10.238082129508257,
         10.684547685086727,
         10.354823358356953,
         10.298693981021643,
         10.388752162456512,
         10.271421264857054,
         10.12444037757814,
         10.437111612409353,
         10.681410975754261,
         10.281963683664799,
         10.345283523201942,
         10.381066281348467,
         10.324137207120657,
         10.939509015530348,
         10.385716956108809,
         10.417293015867472,
         10.210854776203632,
         10.29641443863511,
         10.479011908173561,
         10.317376285791397,
         10.094008455052972,
         10.13576391339302,
         10.400425367057323,
         10.415286131203175,
         9.948357917368412,
         10.235273495316505,
         10.302614402025938,
         10.275756724178791,
         10.19200599193573,
         10.402767907828093,
         10.312699619680643,
         10.383387623354793,
         10.915689952671528,
         10.358838398009539,
         10.362901829183102,
         10.041290760040283,
         10.415930677205324,
         10.375305939465761,
         10.055267214775085,
         10.316926039755344,
         10.123430816456676,
         10.242373790591955,
         10.435719981789589,
         10.430557902902365,
         10.874051913619041,
         10.687029711902142,
         10.231291379779577,
         10.55733773112297,
         10.38533354923129,
         11.049322988837957,
         10.450240883976221,
         10.173445688560605,
         10.489915121346712,
         10.367029067128897,
         10.853855792433023,
         10.356517560780048,
         10.15742033533752,
         10.839573834091425,
         10.549489678815007,
         10.398319993168116,
         10.21034038066864,
         10.4437969122082,
         10.375814041122794,
         10.577544953674078,
         10.251116637140512,
         10.286489013582468,
         10.37471710704267,
         10.239005258306861,
         10.54910460114479,
         10.460939098149538,
         10.385943746194243,
         10.461640413850546,
         10.822297632694244,
         10.531213894486427,
         10.924881951883435,
         10.542163342237473
        ],
        [
         2.6760474305163204,
         2.6345608673531897,
         2.661936076360706,
         2.641054508227035,
         2.6689335764896565,
         2.6884605051063404,
         2.695182889813765,
         2.6503038101223413,
         2.7212953033376115,
         2.755360579488567,
         2.544520918959619,
         2.69717147904096,
         2.7069285035214086,
         2.6856313306856086,
         2.744481089074502,
         2.7242662233908344,
         2.6323419187798915,
         2.6766776697766392,
         2.701771856800179,
         2.6892378971441793,
         2.677931553951598,
         2.6819497933026457,
         2.6486617728958612,
         2.763343157694788,
         2.638564009709013,
         2.7276075566184494,
         2.630933972918301,
         2.653324877323837,
         2.6458401093263713,
         2.6397545780861478,
         2.604910685943325,
         2.674258110554325,
         2.74516830993455,
         2.6485571581288254,
         2.6589526567269934,
         2.6774194883368634,
         2.6711033370305217,
         2.7829763790842033,
         2.6656022204276852,
         2.705923729204359,
         2.648761690540966,
         2.656606015448528,
         2.7087292778457166,
         2.6484605516188124,
         2.5978656840435397,
         2.6245847247025864,
         2.68738979068792,
         2.659476383238254,
         2.5555825971713304,
         2.649452271803727,
         2.627171468724534,
         2.6736005531610383,
         2.64315105461576,
         2.6775293032220024,
         2.654898131781072,
         2.6663414359223414,
         2.7982829153197866,
         2.6738771853522807,
         2.6572195776248315,
         2.6112346187283686,
         2.6773020644758354,
         2.6290249192055613,
         2.5947945720498327,
         2.6429194801157907,
         2.6199537626112446,
         2.6505236335496063,
         2.6943340352064786,
         2.675464640129467,
         2.754270582844028,
         2.734307682490168,
         2.661242892420924,
         2.7140778900832245,
         2.64930060727156,
         2.807386036488449,
         2.666821509068378,
         2.639879892733369,
         2.701557543565836,
         2.6470942332256473,
         2.77385628647329,
         2.67471770887892,
         2.653234908342443,
         2.758491070071502,
         2.7159083417988064,
         2.6756750925557786,
         2.6462727293189157,
         2.6739532575996674,
         2.68609070458188,
         2.6949617696981347,
         2.6255108384276813,
         2.6575551641683117,
         2.667421062233075,
         2.652442214972015,
         2.6857856607418995,
         2.7071824302666716,
         2.666812493470932,
         2.676186902063985,
         2.7569779845948537,
         2.7193332861526467,
         2.7929131712281414,
         2.692007451901785
        ]
       ],
       "encoder": "json",
       "name": "ABC_GAN_3 Metrics",
       "version": 1
      }
     },
     "metadata": {
      "scrapbook": {
       "data": true,
       "display": false,
       "name": "ABC_GAN_3 Metrics"
      }
     },
     "output_type": "display_data"
    },
    {
     "name": "stdout",
     "output_type": "stream",
     "text": [
      "MSE\n",
      "0.35835618997503477\n"
     ]
    }
   ],
   "source": [
    "ABC_GAN3_metrics=ABC_train_test2.test_generator(gen3,test_data,prior_model,variance,bias,\"3\",device)\n",
    "sb.glue(\"ABC_GAN_3 Metrics\",ABC_GAN3_metrics)\n",
    "\n",
    "print(\"MSE\")\n",
    "print(mean(ABC_GAN3_metrics[0]))"
   ]
  },
  {
   "cell_type": "code",
   "execution_count": 18,
   "id": "c8e46b48",
   "metadata": {
    "execution": {
     "iopub.execute_input": "2022-06-22T16:19:35.166190Z",
     "iopub.status.busy": "2022-06-22T16:19:35.156244Z",
     "iopub.status.idle": "2022-06-22T16:19:37.334898Z",
     "shell.execute_reply": "2022-06-22T16:19:37.335537Z"
    },
    "id": "c8e46b48",
    "papermill": {
     "duration": 2.421789,
     "end_time": "2022-06-22T16:19:37.335793",
     "exception": false,
     "start_time": "2022-06-22T16:19:34.914004",
     "status": "completed"
    },
    "tags": []
   },
   "outputs": [
    {
     "data": {
      "image/png": "[encoded data removed]",
      "text/plain": [
       "<Figure size 432x288 with 1 Axes>"
      ]
     },
     "metadata": {
      "needs_background": "light"
     },
     "output_type": "display_data"
    },
    {
     "data": {
      "image/png": "[encoded data removed]",
      "text/plain": [
       "<Figure size 432x288 with 1 Axes>"
      ]
     },
     "metadata": {
      "needs_background": "light"
     },
     "output_type": "display_data"
    },
    {
     "data": {
      "image/png": "[encoded data removed]",
      "text/plain": [
       "<Figure size 432x288 with 1 Axes>"
      ]
     },
     "metadata": {
      "needs_background": "light"
     },
     "output_type": "display_data"
    },
    {
     "data": {
      "image/png": "[encoded data removed]",
      "text/plain": [
       "<Figure size 432x288 with 1 Axes>"
      ]
     },
     "metadata": {
      "needs_background": "light"
     },
     "output_type": "display_data"
    }
   ],
   "source": [
    "sanityChecks.discProbVsError(train_data,disc3,device)\n",
    "sanityChecks.discProbVsError(test_data,disc3,device)"
   ]
  },
  {
   "cell_type": "markdown",
   "id": "a5bd74c3",
   "metadata": {
    "id": "a5bd74c3",
    "papermill": {
     "duration": 0.079683,
     "end_time": "2022-06-22T16:19:37.488411",
     "exception": false,
     "start_time": "2022-06-22T16:19:37.408728",
     "status": "completed"
    },
    "tags": []
   },
   "source": [
    "## Skip Connection Model Analysis - ABC-GAN "
   ]
  },
  {
   "cell_type": "markdown",
   "id": "5744a8bf",
   "metadata": {
    "id": "5744a8bf",
    "papermill": {
     "duration": 0.127869,
     "end_time": "2022-06-22T16:19:37.708082",
     "exception": false,
     "start_time": "2022-06-22T16:19:37.580213",
     "status": "completed"
    },
    "tags": []
   },
   "source": [
    "### Weight Analysis \n",
    "\n",
    "Study the weights of the skip connection layer\n",
    "\n",
    "Equation of the skip connection is \n",
    "\n",
    "$output = y_{gan} * w + y_{abc} * (1-w)$"
   ]
  },
  {
   "cell_type": "code",
   "execution_count": 19,
   "id": "52c31dea",
   "metadata": {
    "execution": {
     "iopub.execute_input": "2022-06-22T16:19:37.920836Z",
     "iopub.status.busy": "2022-06-22T16:19:37.909688Z",
     "iopub.status.idle": "2022-06-22T16:19:37.928072Z",
     "shell.execute_reply": "2022-06-22T16:19:37.921867Z"
    },
    "id": "52c31dea",
    "papermill": {
     "duration": 0.141736,
     "end_time": "2022-06-22T16:19:37.942166",
     "exception": false,
     "start_time": "2022-06-22T16:19:37.800430",
     "status": "completed"
    },
    "tags": []
   },
   "outputs": [
    {
     "name": "stdout",
     "output_type": "stream",
     "text": [
      "Weight of the node at skip connection\n",
      "Parameter containing:\n",
      "tensor([[0.9647]], requires_grad=True)\n"
     ]
    },
    {
     "data": {
      "application/scrapbook.scrap.json+json": {
       "data": 0.9646662473678589,
       "encoder": "json",
       "name": "Skip Connection Weight",
       "version": 1
      }
     },
     "metadata": {
      "scrapbook": {
       "data": true,
       "display": false,
       "name": "Skip Connection Weight"
      }
     },
     "output_type": "display_data"
    }
   ],
   "source": [
    "print(\"Weight of the node at skip connection\")\n",
    "for name,param in gen3.named_parameters():\n",
    "    if(name == \"skipNode.weight\"):\n",
    "        print(param)\n",
    "        sb.glue(\"Skip Connection Weight\",param.item())"
   ]
  }
 ],
 "metadata": {
  "colab": {
   "collapsed_sections": [],
   "name": "ABC_GAN_Model-Catboost_Pre-gen.ipynb",
   "provenance": []
  },
  "interpreter": {
   "hash": "31f2aee4e71d21fbe5cf8b01ff0e069b9275f58929596ceb00d14d90e3e16cd6"
  },
  "kernelspec": {
   "display_name": "Python 3 (ipykernel)",
   "language": "python",
   "name": "python3"
  },
  "language_info": {
   "codemirror_mode": {
    "name": "ipython",
    "version": 3
   },
   "file_extension": ".py",
   "mimetype": "text/x-python",
   "name": "python",
   "nbconvert_exporter": "python",
   "pygments_lexer": "ipython3",
   "version": "3.8.3"
  },
  "papermill": {
   "default_parameters": {},
   "duration": 221.284388,
   "end_time": "2022-06-22T16:19:40.663537",
   "environment_variables": {},
   "exception": null,
   "input_path": "ABC_GAN-TabNet.ipynb",
   "output_path": "./ABC_GAN_TabNet/ABC-GAN_output_9_6.ipynb",
   "parameters": {
    "bias": 0.01,
    "variance": 1
   },
   "start_time": "2022-06-22T16:15:59.379149",
   "version": "2.3.3"
  }
 },
 "nbformat": 4,
 "nbformat_minor": 5
}