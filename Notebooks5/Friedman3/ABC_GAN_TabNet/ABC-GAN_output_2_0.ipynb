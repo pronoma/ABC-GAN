{
 "cells": [
  {
   "cell_type": "markdown",
   "id": "622780e6",
   "metadata": {
    "id": "622780e6",
    "papermill": {
     "duration": 0.023826,
     "end_time": "2022-06-22T11:56:05.360316",
     "exception": false,
     "start_time": "2022-06-22T11:56:05.336490",
     "status": "completed"
    },
    "tags": []
   },
   "source": [
    "## Import Libraries "
   ]
  },
  {
   "cell_type": "code",
   "execution_count": 1,
   "id": "a62397e3",
   "metadata": {
    "execution": {
     "iopub.execute_input": "2022-06-22T11:56:05.430751Z",
     "iopub.status.busy": "2022-06-22T11:56:05.427240Z",
     "iopub.status.idle": "2022-06-22T11:56:05.434444Z",
     "shell.execute_reply": "2022-06-22T11:56:05.435317Z"
    },
    "id": "a62397e3",
    "papermill": {
     "duration": 0.054968,
     "end_time": "2022-06-22T11:56:05.435964",
     "exception": false,
     "start_time": "2022-06-22T11:56:05.380996",
     "status": "completed"
    },
    "tags": []
   },
   "outputs": [],
   "source": [
    "import warnings\n",
    "import sys\n",
    "sys.path.insert(0, '../../src')\n",
    "warnings.filterwarnings('ignore')"
   ]
  },
  {
   "cell_type": "code",
   "execution_count": 2,
   "id": "d6a4e155",
   "metadata": {
    "execution": {
     "iopub.execute_input": "2022-06-22T11:56:05.483720Z",
     "iopub.status.busy": "2022-06-22T11:56:05.482268Z",
     "iopub.status.idle": "2022-06-22T11:56:12.114849Z",
     "shell.execute_reply": "2022-06-22T11:56:12.115768Z"
    },
    "id": "d6a4e155",
    "papermill": {
     "duration": 6.660934,
     "end_time": "2022-06-22T11:56:12.116021",
     "exception": false,
     "start_time": "2022-06-22T11:56:05.455087",
     "status": "completed"
    },
    "tags": []
   },
   "outputs": [],
   "source": [
    "import ABC_train_test2\n",
    "import friedman3Dataset\n",
    "import network\n",
    "import dataset\n",
    "import sanityChecks\n",
    "import torch \n",
    "import scrapbook as sb\n",
    "from statistics import mean \n",
    "import catboost as ctb \n",
    "from sklearn.model_selection import train_test_split\n",
    "from sklearn.metrics import mean_squared_error,mean_absolute_error\n",
    "import numpy as np\n",
    "from pytorch_tabnet.tab_model import TabNetRegressor"
   ]
  },
  {
   "cell_type": "markdown",
   "id": "2fa5b0f7",
   "metadata": {
    "id": "2fa5b0f7",
    "papermill": {
     "duration": 0.015383,
     "end_time": "2022-06-22T11:56:12.145839",
     "exception": false,
     "start_time": "2022-06-22T11:56:12.130456",
     "status": "completed"
    },
    "tags": []
   },
   "source": [
    "## Parameters "
   ]
  },
  {
   "cell_type": "code",
   "execution_count": 3,
   "id": "783186fb",
   "metadata": {
    "execution": {
     "iopub.execute_input": "2022-06-22T11:56:12.195372Z",
     "iopub.status.busy": "2022-06-22T11:56:12.193784Z",
     "iopub.status.idle": "2022-06-22T11:56:12.197562Z",
     "shell.execute_reply": "2022-06-22T11:56:12.198384Z"
    },
    "id": "783186fb",
    "papermill": {
     "duration": 0.039114,
     "end_time": "2022-06-22T11:56:12.198615",
     "exception": false,
     "start_time": "2022-06-22T11:56:12.159501",
     "status": "completed"
    },
    "tags": [
     "parameters"
    ]
   },
   "outputs": [],
   "source": [
    "variance = 1\n",
    "bias = 1 "
   ]
  },
  {
   "cell_type": "code",
   "execution_count": 4,
   "id": "d47aa98d",
   "metadata": {
    "execution": {
     "iopub.execute_input": "2022-06-22T11:56:12.249360Z",
     "iopub.status.busy": "2022-06-22T11:56:12.248465Z",
     "iopub.status.idle": "2022-06-22T11:56:12.251293Z",
     "shell.execute_reply": "2022-06-22T11:56:12.251837Z"
    },
    "papermill": {
     "duration": 0.036624,
     "end_time": "2022-06-22T11:56:12.252084",
     "exception": false,
     "start_time": "2022-06-22T11:56:12.215460",
     "status": "completed"
    },
    "tags": [
     "injected-parameters"
    ]
   },
   "outputs": [],
   "source": [
    "# Parameters\n",
    "variance = 1\n",
    "bias = 1\n"
   ]
  },
  {
   "cell_type": "markdown",
   "id": "391cdbfd",
   "metadata": {
    "id": "391cdbfd",
    "papermill": {
     "duration": 0.025128,
     "end_time": "2022-06-22T11:56:12.292714",
     "exception": false,
     "start_time": "2022-06-22T11:56:12.267586",
     "status": "completed"
    },
    "tags": []
   },
   "source": [
    "## Dataset \n"
   ]
  },
  {
   "cell_type": "code",
   "execution_count": 5,
   "id": "5b51f161",
   "metadata": {
    "execution": {
     "iopub.execute_input": "2022-06-22T11:56:12.350054Z",
     "iopub.status.busy": "2022-06-22T11:56:12.330080Z",
     "iopub.status.idle": "2022-06-22T11:56:12.351314Z",
     "shell.execute_reply": "2022-06-22T11:56:12.350747Z"
    },
    "id": "5b51f161",
    "papermill": {
     "duration": 0.041622,
     "end_time": "2022-06-22T11:56:12.351505",
     "exception": false,
     "start_time": "2022-06-22T11:56:12.309883",
     "status": "completed"
    },
    "tags": []
   },
   "outputs": [],
   "source": [
    "#Parameters \n",
    "n_features = 4\n",
    "n_samples= 100\n",
    "n_target = 1"
   ]
  },
  {
   "cell_type": "code",
   "execution_count": 6,
   "id": "5d6eced4",
   "metadata": {
    "execution": {
     "iopub.execute_input": "2022-06-22T11:56:12.421672Z",
     "iopub.status.busy": "2022-06-22T11:56:12.416002Z",
     "iopub.status.idle": "2022-06-22T11:56:12.427549Z",
     "shell.execute_reply": "2022-06-22T11:56:12.433528Z"
    },
    "id": "5d6eced4",
    "papermill": {
     "duration": 0.065295,
     "end_time": "2022-06-22T11:56:12.434304",
     "exception": false,
     "start_time": "2022-06-22T11:56:12.369009",
     "status": "completed"
    },
    "tags": []
   },
   "outputs": [
    {
     "name": "stdout",
     "output_type": "stream",
     "text": [
      "          X1           X2        X3        X4         Y\n",
      "0  16.879282  1404.777160  0.003000  4.698986  0.165893\n",
      "1  99.243463   745.716484  0.377831  4.905058  1.342880\n",
      "2  78.416215  1110.354287  0.663842  7.413239  1.399476\n",
      "3  54.394806  1517.789797  0.348662  8.273188  1.576747\n",
      "4   3.221836   610.018379  0.095738  2.997726  1.520175\n"
     ]
    }
   ],
   "source": [
    "X,Y = friedman3Dataset.friedman3_data(n_samples)"
   ]
  },
  {
   "cell_type": "code",
   "execution_count": 7,
   "id": "fe007438",
   "metadata": {
    "execution": {
     "iopub.execute_input": "2022-06-22T11:56:12.501274Z",
     "iopub.status.busy": "2022-06-22T11:56:12.499716Z",
     "iopub.status.idle": "2022-06-22T11:56:12.502474Z",
     "shell.execute_reply": "2022-06-22T11:56:12.501928Z"
    },
    "id": "fe007438",
    "papermill": {
     "duration": 0.051694,
     "end_time": "2022-06-22T11:56:12.502661",
     "exception": false,
     "start_time": "2022-06-22T11:56:12.450967",
     "status": "completed"
    },
    "tags": []
   },
   "outputs": [],
   "source": [
    "#Train test split for dataset \n",
    "X_train,X_test,Y_train,Y_test = train_test_split(X,Y,test_size = 0.2)\n",
    "train_data = dataset.CustomDataset(X_train,Y_train)\n",
    "test_data = dataset.CustomDataset(X_test,Y_test)\n"
   ]
  },
  {
   "cell_type": "markdown",
   "id": "a9a1af34",
   "metadata": {
    "id": "a9a1af34",
    "papermill": {
     "duration": 0.054325,
     "end_time": "2022-06-22T11:56:12.575714",
     "exception": false,
     "start_time": "2022-06-22T11:56:12.521389",
     "status": "completed"
    },
    "tags": []
   },
   "source": [
    "## Training Parameters "
   ]
  },
  {
   "cell_type": "code",
   "execution_count": 8,
   "id": "952b7fc8",
   "metadata": {
    "execution": {
     "iopub.execute_input": "2022-06-22T11:56:12.676582Z",
     "iopub.status.busy": "2022-06-22T11:56:12.667515Z",
     "iopub.status.idle": "2022-06-22T11:56:12.680956Z",
     "shell.execute_reply": "2022-06-22T11:56:12.677378Z"
    },
    "id": "952b7fc8",
    "papermill": {
     "duration": 0.066423,
     "end_time": "2022-06-22T11:56:12.681263",
     "exception": false,
     "start_time": "2022-06-22T11:56:12.614840",
     "status": "completed"
    },
    "tags": []
   },
   "outputs": [],
   "source": [
    "batch_size = 32\n",
    "n_epochs = 1000\n",
    "#Select the device \n",
    "device = torch.device('cuda' if torch.cuda.is_available() else 'cpu')"
   ]
  },
  {
   "cell_type": "markdown",
   "id": "a95e1600",
   "metadata": {
    "id": "a95e1600",
    "papermill": {
     "duration": 0.158795,
     "end_time": "2022-06-22T11:56:12.870132",
     "exception": false,
     "start_time": "2022-06-22T11:56:12.711337",
     "status": "completed"
    },
    "tags": []
   },
   "source": [
    "# ABC Pre-generator Model \n",
    "\n",
    "1. The catboost model is used as a pre-generator model for the ABC-GAN. \n",
    "2. The model is first trained on the entire dataset \n",
    "3. It generats X,Y pairs and we add some Gaussian noise with mean 0 and variance 1 to it which is then feed as input to the generator.\n"
   ]
  },
  {
   "cell_type": "code",
   "execution_count": 9,
   "id": "ff8ce7bd",
   "metadata": {
    "execution": {
     "iopub.execute_input": "2022-06-22T11:56:12.993328Z",
     "iopub.status.busy": "2022-06-22T11:56:12.990831Z",
     "iopub.status.idle": "2022-06-22T11:56:28.251402Z",
     "shell.execute_reply": "2022-06-22T11:56:28.252195Z"
    },
    "id": "ff8ce7bd",
    "papermill": {
     "duration": 15.323421,
     "end_time": "2022-06-22T11:56:28.252456",
     "exception": false,
     "start_time": "2022-06-22T11:56:12.929035",
     "status": "completed"
    },
    "tags": []
   },
   "outputs": [
    {
     "name": "stdout",
     "output_type": "stream",
     "text": [
      "Device used : cpu\n"
     ]
    },
    {
     "name": "stdout",
     "output_type": "stream",
     "text": [
      "epoch 0  | loss: 1.47704 | train_mse: 2.5742  | train_mae: 1.22509 |  0:00:00s\n",
      "epoch 1  | loss: 0.73114 | train_mse: 3.29872 | train_mae: 1.36759 |  0:00:00s\n",
      "epoch 2  | loss: 0.72499 | train_mse: 1.51453 | train_mae: 0.94929 |  0:00:00s\n"
     ]
    },
    {
     "name": "stdout",
     "output_type": "stream",
     "text": [
      "epoch 3  | loss: 0.48931 | train_mse: 2.30134 | train_mae: 1.11762 |  0:00:00s\n",
      "epoch 4  | loss: 0.48937 | train_mse: 4.25098 | train_mae: 1.45041 |  0:00:00s\n",
      "epoch 5  | loss: 0.29395 | train_mse: 6.62327 | train_mae: 1.79074 |  0:00:00s\n"
     ]
    },
    {
     "name": "stdout",
     "output_type": "stream",
     "text": [
      "epoch 6  | loss: 0.31784 | train_mse: 5.98165 | train_mae: 1.72631 |  0:00:00s\n",
      "epoch 7  | loss: 0.27543 | train_mse: 4.79386 | train_mae: 1.56024 |  0:00:00s\n",
      "epoch 8  | loss: 0.26536 | train_mse: 4.03256 | train_mae: 1.43296 |  0:00:00s\n",
      "epoch 9  | loss: 0.20052 | train_mse: 3.34781 | train_mae: 1.29797 |  0:00:00s\n"
     ]
    },
    {
     "name": "stdout",
     "output_type": "stream",
     "text": [
      "epoch 10 | loss: 0.23595 | train_mse: 3.0125  | train_mae: 1.23629 |  0:00:00s\n",
      "epoch 11 | loss: 0.30788 | train_mse: 3.35315 | train_mae: 1.32016 |  0:00:01s\n",
      "epoch 12 | loss: 0.37688 | train_mse: 2.63478 | train_mae: 1.15472 |  0:00:01s\n",
      "epoch 13 | loss: 0.19863 | train_mse: 3.59358 | train_mae: 1.27525 |  0:00:01s\n"
     ]
    },
    {
     "name": "stdout",
     "output_type": "stream",
     "text": [
      "epoch 14 | loss: 0.23295 | train_mse: 4.39177 | train_mae: 1.37847 |  0:00:01s\n",
      "epoch 15 | loss: 0.23733 | train_mse: 3.92195 | train_mae: 1.32229 |  0:00:01s\n",
      "epoch 16 | loss: 0.13665 | train_mse: 3.48531 | train_mae: 1.28638 |  0:00:01s\n",
      "epoch 17 | loss: 0.20472 | train_mse: 2.6405  | train_mae: 1.11961 |  0:00:01s\n"
     ]
    },
    {
     "name": "stdout",
     "output_type": "stream",
     "text": [
      "epoch 18 | loss: 0.17387 | train_mse: 2.42863 | train_mae: 1.03813 |  0:00:01s\n",
      "epoch 19 | loss: 0.24829 | train_mse: 2.61468 | train_mae: 0.98771 |  0:00:01s\n",
      "epoch 20 | loss: 0.19713 | train_mse: 1.76853 | train_mae: 0.81954 |  0:00:01s\n"
     ]
    },
    {
     "name": "stdout",
     "output_type": "stream",
     "text": [
      "epoch 21 | loss: 0.32117 | train_mse: 0.97824 | train_mae: 0.63131 |  0:00:01s\n",
      "epoch 22 | loss: 0.19975 | train_mse: 0.77433 | train_mae: 0.56814 |  0:00:01s\n",
      "epoch 23 | loss: 0.20315 | train_mse: 0.92773 | train_mae: 0.62291 |  0:00:01s\n"
     ]
    },
    {
     "name": "stdout",
     "output_type": "stream",
     "text": [
      "epoch 24 | loss: 0.17525 | train_mse: 0.87825 | train_mae: 0.6179  |  0:00:01s\n",
      "epoch 25 | loss: 0.17724 | train_mse: 1.0733  | train_mae: 0.68715 |  0:00:02s\n",
      "epoch 26 | loss: 0.20157 | train_mse: 0.82011 | train_mae: 0.61485 |  0:00:02s\n",
      "epoch 27 | loss: 0.2598  | train_mse: 0.63808 | train_mae: 0.54382 |  0:00:02s\n"
     ]
    },
    {
     "name": "stdout",
     "output_type": "stream",
     "text": [
      "epoch 28 | loss: 0.23865 | train_mse: 0.44122 | train_mae: 0.46096 |  0:00:02s\n",
      "epoch 29 | loss: 0.1506  | train_mse: 0.59115 | train_mae: 0.50992 |  0:00:02s\n"
     ]
    },
    {
     "name": "stdout",
     "output_type": "stream",
     "text": [
      "epoch 30 | loss: 0.16069 | train_mse: 0.6395  | train_mae: 0.50885 |  0:00:02s\n",
      "epoch 31 | loss: 0.10712 | train_mse: 0.5112  | train_mae: 0.43956 |  0:00:02s\n",
      "epoch 32 | loss: 0.19122 | train_mse: 0.49655 | train_mae: 0.43382 |  0:00:02s\n"
     ]
    },
    {
     "name": "stdout",
     "output_type": "stream",
     "text": [
      "epoch 33 | loss: 0.26566 | train_mse: 0.41285 | train_mae: 0.40293 |  0:00:02s\n",
      "epoch 34 | loss: 0.17228 | train_mse: 0.15953 | train_mae: 0.28753 |  0:00:02s\n",
      "epoch 35 | loss: 0.32748 | train_mse: 0.08899 | train_mae: 0.22146 |  0:00:02s\n",
      "epoch 36 | loss: 0.12476 | train_mse: 0.09354 | train_mae: 0.22745 |  0:00:02s\n"
     ]
    },
    {
     "name": "stdout",
     "output_type": "stream",
     "text": [
      "epoch 37 | loss: 0.13697 | train_mse: 0.1423  | train_mae: 0.25505 |  0:00:02s\n",
      "epoch 38 | loss: 0.14332 | train_mse: 0.18572 | train_mae: 0.27363 |  0:00:03s\n",
      "epoch 39 | loss: 0.23399 | train_mse: 0.17285 | train_mae: 0.26555 |  0:00:03s\n"
     ]
    },
    {
     "name": "stdout",
     "output_type": "stream",
     "text": [
      "epoch 40 | loss: 0.11935 | train_mse: 0.20925 | train_mae: 0.28239 |  0:00:03s\n",
      "epoch 41 | loss: 0.19909 | train_mse: 0.26804 | train_mae: 0.32208 |  0:00:03s\n",
      "epoch 42 | loss: 0.16975 | train_mse: 0.16915 | train_mae: 0.27601 |  0:00:03s\n"
     ]
    },
    {
     "name": "stdout",
     "output_type": "stream",
     "text": [
      "epoch 43 | loss: 0.1725  | train_mse: 0.13612 | train_mae: 0.25074 |  0:00:03s\n",
      "epoch 44 | loss: 0.22375 | train_mse: 0.19565 | train_mae: 0.28142 |  0:00:03s\n"
     ]
    },
    {
     "name": "stdout",
     "output_type": "stream",
     "text": [
      "epoch 45 | loss: 0.15949 | train_mse: 0.13117 | train_mae: 0.23627 |  0:00:03s\n",
      "epoch 46 | loss: 0.24519 | train_mse: 0.14745 | train_mae: 0.23807 |  0:00:03s\n",
      "epoch 47 | loss: 0.16496 | train_mse: 0.19014 | train_mae: 0.2535  |  0:00:03s\n"
     ]
    },
    {
     "name": "stdout",
     "output_type": "stream",
     "text": [
      "epoch 48 | loss: 0.15463 | train_mse: 0.17636 | train_mae: 0.24674 |  0:00:03s\n",
      "epoch 49 | loss: 0.117   | train_mse: 0.19199 | train_mae: 0.27887 |  0:00:04s\n",
      "epoch 50 | loss: 0.20311 | train_mse: 0.16393 | train_mae: 0.266   |  0:00:04s\n"
     ]
    },
    {
     "name": "stdout",
     "output_type": "stream",
     "text": [
      "epoch 51 | loss: 0.21723 | train_mse: 0.12824 | train_mae: 0.27198 |  0:00:04s\n",
      "epoch 52 | loss: 0.23235 | train_mse: 0.2718  | train_mae: 0.33934 |  0:00:04s\n",
      "epoch 53 | loss: 0.13317 | train_mse: 0.19637 | train_mae: 0.28781 |  0:00:04s\n"
     ]
    },
    {
     "name": "stdout",
     "output_type": "stream",
     "text": [
      "epoch 54 | loss: 0.13367 | train_mse: 0.1144  | train_mae: 0.24127 |  0:00:04s\n",
      "epoch 55 | loss: 0.23032 | train_mse: 0.11631 | train_mae: 0.26241 |  0:00:04s\n"
     ]
    },
    {
     "name": "stdout",
     "output_type": "stream",
     "text": [
      "epoch 56 | loss: 0.12949 | train_mse: 0.1297  | train_mae: 0.2718  |  0:00:04s\n",
      "epoch 57 | loss: 0.14243 | train_mse: 0.12254 | train_mae: 0.24836 |  0:00:04s\n"
     ]
    },
    {
     "name": "stdout",
     "output_type": "stream",
     "text": [
      "epoch 58 | loss: 0.1007  | train_mse: 0.07158 | train_mae: 0.21726 |  0:00:04s\n",
      "epoch 59 | loss: 0.20046 | train_mse: 0.15001 | train_mae: 0.2708  |  0:00:04s\n",
      "epoch 60 | loss: 0.13295 | train_mse: 0.22104 | train_mae: 0.28318 |  0:00:05s\n"
     ]
    },
    {
     "name": "stdout",
     "output_type": "stream",
     "text": [
      "epoch 61 | loss: 0.21234 | train_mse: 0.17756 | train_mae: 0.28444 |  0:00:05s\n",
      "epoch 62 | loss: 0.27429 | train_mse: 0.19275 | train_mae: 0.29536 |  0:00:05s\n",
      "epoch 63 | loss: 0.20575 | train_mse: 0.18984 | train_mae: 0.29025 |  0:00:05s\n",
      "epoch 64 | loss: 0.17214 | train_mse: 0.14711 | train_mae: 0.26133 |  0:00:05s\n"
     ]
    },
    {
     "name": "stdout",
     "output_type": "stream",
     "text": [
      "epoch 65 | loss: 0.1522  | train_mse: 0.0989  | train_mae: 0.23912 |  0:00:05s\n",
      "epoch 66 | loss: 0.10765 | train_mse: 0.07403 | train_mae: 0.21307 |  0:00:05s\n",
      "epoch 67 | loss: 0.15476 | train_mse: 0.08071 | train_mae: 0.22342 |  0:00:05s\n"
     ]
    },
    {
     "name": "stdout",
     "output_type": "stream",
     "text": [
      "epoch 68 | loss: 0.44063 | train_mse: 0.10657 | train_mae: 0.25146 |  0:00:05s\n",
      "epoch 69 | loss: 0.26405 | train_mse: 0.1285  | train_mae: 0.27635 |  0:00:05s\n",
      "epoch 70 | loss: 0.16355 | train_mse: 0.16439 | train_mae: 0.29376 |  0:00:05s\n",
      "epoch 71 | loss: 0.14296 | train_mse: 0.1745  | train_mae: 0.28297 |  0:00:05s\n"
     ]
    },
    {
     "name": "stdout",
     "output_type": "stream",
     "text": [
      "epoch 72 | loss: 0.11538 | train_mse: 0.20237 | train_mae: 0.27845 |  0:00:05s\n",
      "epoch 73 | loss: 0.2     | train_mse: 0.23972 | train_mae: 0.27966 |  0:00:05s\n",
      "epoch 74 | loss: 0.23493 | train_mse: 0.24117 | train_mae: 0.28503 |  0:00:06s\n"
     ]
    },
    {
     "name": "stdout",
     "output_type": "stream",
     "text": [
      "epoch 75 | loss: 0.25355 | train_mse: 0.20786 | train_mae: 0.26823 |  0:00:06s\n",
      "epoch 76 | loss: 0.12651 | train_mse: 0.1468  | train_mae: 0.24898 |  0:00:06s\n",
      "epoch 77 | loss: 0.18268 | train_mse: 0.09521 | train_mae: 0.23168 |  0:00:06s\n",
      "epoch 78 | loss: 0.09756 | train_mse: 0.08207 | train_mae: 0.21347 |  0:00:06s\n"
     ]
    },
    {
     "name": "stdout",
     "output_type": "stream",
     "text": [
      "epoch 79 | loss: 0.37664 | train_mse: 0.10366 | train_mae: 0.22439 |  0:00:06s\n",
      "epoch 80 | loss: 0.19438 | train_mse: 0.19132 | train_mae: 0.27527 |  0:00:06s\n",
      "epoch 81 | loss: 0.12626 | train_mse: 0.24243 | train_mae: 0.29425 |  0:00:06s\n"
     ]
    },
    {
     "name": "stdout",
     "output_type": "stream",
     "text": [
      "epoch 82 | loss: 0.14442 | train_mse: 0.26352 | train_mae: 0.30738 |  0:00:06s\n",
      "epoch 83 | loss: 0.23662 | train_mse: 0.23233 | train_mae: 0.30774 |  0:00:06s\n",
      "epoch 84 | loss: 0.1796  | train_mse: 0.22784 | train_mae: 0.29567 |  0:00:06s\n",
      "epoch 85 | loss: 0.21225 | train_mse: 0.225   | train_mae: 0.29576 |  0:00:06s\n"
     ]
    },
    {
     "name": "stdout",
     "output_type": "stream",
     "text": [
      "epoch 86 | loss: 0.19547 | train_mse: 0.11824 | train_mae: 0.24423 |  0:00:06s\n",
      "epoch 87 | loss: 0.14914 | train_mse: 0.09253 | train_mae: 0.22359 |  0:00:06s\n",
      "epoch 88 | loss: 0.12294 | train_mse: 0.07328 | train_mae: 0.20552 |  0:00:06s\n",
      "epoch 89 | loss: 0.08033 | train_mse: 0.06777 | train_mae: 0.19946 |  0:00:07s\n"
     ]
    },
    {
     "name": "stdout",
     "output_type": "stream",
     "text": [
      "epoch 90 | loss: 0.11395 | train_mse: 0.07279 | train_mae: 0.20713 |  0:00:07s\n",
      "epoch 91 | loss: 0.0925  | train_mse: 0.06858 | train_mae: 0.20087 |  0:00:07s\n",
      "epoch 92 | loss: 0.17645 | train_mse: 0.06412 | train_mae: 0.20002 |  0:00:07s\n",
      "epoch 93 | loss: 0.10165 | train_mse: 0.05756 | train_mae: 0.18803 |  0:00:07s\n"
     ]
    },
    {
     "name": "stdout",
     "output_type": "stream",
     "text": [
      "epoch 94 | loss: 0.22885 | train_mse: 0.06548 | train_mae: 0.20296 |  0:00:07s\n",
      "epoch 95 | loss: 0.11873 | train_mse: 0.07017 | train_mae: 0.20513 |  0:00:07s\n",
      "epoch 96 | loss: 0.08104 | train_mse: 0.06884 | train_mae: 0.19794 |  0:00:07s\n"
     ]
    },
    {
     "name": "stdout",
     "output_type": "stream",
     "text": [
      "epoch 97 | loss: 0.09565 | train_mse: 0.06975 | train_mae: 0.19641 |  0:00:07s\n",
      "epoch 98 | loss: 0.20389 | train_mse: 0.07784 | train_mae: 0.20278 |  0:00:07s\n",
      "epoch 99 | loss: 0.09703 | train_mse: 0.13411 | train_mae: 0.23657 |  0:00:07s\n",
      "epoch 100| loss: 0.15007 | train_mse: 0.16411 | train_mae: 0.24648 |  0:00:07s\n"
     ]
    },
    {
     "name": "stdout",
     "output_type": "stream",
     "text": [
      "epoch 101| loss: 0.0953  | train_mse: 0.15536 | train_mae: 0.24494 |  0:00:07s\n",
      "epoch 102| loss: 0.08902 | train_mse: 0.16891 | train_mae: 0.26149 |  0:00:07s\n",
      "epoch 103| loss: 0.12043 | train_mse: 0.19088 | train_mae: 0.26676 |  0:00:07s\n",
      "epoch 104| loss: 0.15435 | train_mse: 0.19913 | train_mae: 0.26807 |  0:00:08s\n"
     ]
    },
    {
     "name": "stdout",
     "output_type": "stream",
     "text": [
      "epoch 105| loss: 0.12231 | train_mse: 0.17187 | train_mae: 0.25888 |  0:00:08s\n",
      "epoch 106| loss: 0.12733 | train_mse: 0.16334 | train_mae: 0.25962 |  0:00:08s\n",
      "epoch 107| loss: 0.13735 | train_mse: 0.16245 | train_mae: 0.2768  |  0:00:08s\n",
      "epoch 108| loss: 0.12269 | train_mse: 0.15798 | train_mae: 0.26772 |  0:00:08s\n"
     ]
    },
    {
     "name": "stdout",
     "output_type": "stream",
     "text": [
      "epoch 109| loss: 0.10484 | train_mse: 0.19247 | train_mae: 0.27823 |  0:00:08s\n",
      "epoch 110| loss: 0.14003 | train_mse: 0.09895 | train_mae: 0.22826 |  0:00:08s\n",
      "epoch 111| loss: 0.1856  | train_mse: 0.08218 | train_mae: 0.21464 |  0:00:08s\n"
     ]
    },
    {
     "name": "stdout",
     "output_type": "stream",
     "text": [
      "epoch 112| loss: 0.1108  | train_mse: 0.16055 | train_mae: 0.27841 |  0:00:08s\n",
      "epoch 113| loss: 0.28579 | train_mse: 0.25265 | train_mae: 0.33992 |  0:00:08s\n",
      "epoch 114| loss: 0.17114 | train_mse: 0.15102 | train_mae: 0.2759  |  0:00:08s\n",
      "epoch 115| loss: 0.09845 | train_mse: 0.09771 | train_mae: 0.22804 |  0:00:08s\n"
     ]
    },
    {
     "name": "stdout",
     "output_type": "stream",
     "text": [
      "epoch 116| loss: 0.14252 | train_mse: 0.06878 | train_mae: 0.20015 |  0:00:08s\n",
      "epoch 117| loss: 0.08488 | train_mse: 0.05486 | train_mae: 0.18431 |  0:00:08s\n",
      "epoch 118| loss: 0.0829  | train_mse: 0.05381 | train_mae: 0.18205 |  0:00:09s\n"
     ]
    },
    {
     "name": "stdout",
     "output_type": "stream",
     "text": [
      "epoch 119| loss: 0.11918 | train_mse: 0.05489 | train_mae: 0.18066 |  0:00:09s\n",
      "epoch 120| loss: 0.13496 | train_mse: 0.0624  | train_mae: 0.19246 |  0:00:09s\n",
      "epoch 121| loss: 0.19125 | train_mse: 0.05939 | train_mae: 0.19114 |  0:00:09s\n"
     ]
    },
    {
     "name": "stdout",
     "output_type": "stream",
     "text": [
      "epoch 122| loss: 0.13052 | train_mse: 0.0653  | train_mae: 0.203   |  0:00:09s\n",
      "epoch 123| loss: 0.08415 | train_mse: 0.09172 | train_mae: 0.22972 |  0:00:09s\n",
      "epoch 124| loss: 0.08614 | train_mse: 0.11635 | train_mae: 0.24922 |  0:00:09s\n"
     ]
    },
    {
     "name": "stdout",
     "output_type": "stream",
     "text": [
      "epoch 125| loss: 0.23548 | train_mse: 0.13852 | train_mae: 0.27005 |  0:00:09s\n",
      "epoch 126| loss: 0.06359 | train_mse: 0.16493 | train_mae: 0.29721 |  0:00:09s\n",
      "epoch 127| loss: 0.16293 | train_mse: 0.1216  | train_mae: 0.26449 |  0:00:09s\n",
      "epoch 128| loss: 0.08576 | train_mse: 0.08934 | train_mae: 0.24017 |  0:00:09s\n"
     ]
    },
    {
     "name": "stdout",
     "output_type": "stream",
     "text": [
      "epoch 129| loss: 0.1001  | train_mse: 0.06918 | train_mae: 0.20916 |  0:00:09s\n",
      "epoch 130| loss: 0.08784 | train_mse: 0.06139 | train_mae: 0.20006 |  0:00:09s\n",
      "epoch 131| loss: 0.0978  | train_mse: 0.05714 | train_mae: 0.19393 |  0:00:09s\n",
      "epoch 132| loss: 0.19294 | train_mse: 0.05315 | train_mae: 0.18897 |  0:00:10s\n"
     ]
    },
    {
     "name": "stdout",
     "output_type": "stream",
     "text": [
      "epoch 133| loss: 0.10759 | train_mse: 0.05173 | train_mae: 0.18435 |  0:00:10s\n",
      "epoch 134| loss: 0.10539 | train_mse: 0.05066 | train_mae: 0.18024 |  0:00:10s\n",
      "epoch 135| loss: 0.06099 | train_mse: 0.05766 | train_mae: 0.19088 |  0:00:10s\n",
      "epoch 136| loss: 0.19912 | train_mse: 0.06866 | train_mae: 0.19257 |  0:00:10s\n"
     ]
    },
    {
     "name": "stdout",
     "output_type": "stream",
     "text": [
      "epoch 137| loss: 0.20777 | train_mse: 0.06498 | train_mae: 0.19305 |  0:00:10s\n",
      "epoch 138| loss: 0.12306 | train_mse: 0.06134 | train_mae: 0.18534 |  0:00:10s\n",
      "epoch 139| loss: 0.13351 | train_mse: 0.05612 | train_mae: 0.17902 |  0:00:10s\n"
     ]
    },
    {
     "name": "stdout",
     "output_type": "stream",
     "text": [
      "epoch 140| loss: 0.07429 | train_mse: 0.06276 | train_mae: 0.19508 |  0:00:10s\n",
      "epoch 141| loss: 0.27363 | train_mse: 0.05712 | train_mae: 0.18779 |  0:00:10s\n",
      "epoch 142| loss: 0.0904  | train_mse: 0.05348 | train_mae: 0.18873 |  0:00:10s\n"
     ]
    },
    {
     "name": "stdout",
     "output_type": "stream",
     "text": [
      "epoch 143| loss: 0.16464 | train_mse: 0.07932 | train_mae: 0.22476 |  0:00:10s\n",
      "epoch 144| loss: 0.07901 | train_mse: 0.07161 | train_mae: 0.21188 |  0:00:10s\n",
      "epoch 145| loss: 0.19128 | train_mse: 0.05613 | train_mae: 0.19027 |  0:00:10s\n"
     ]
    },
    {
     "name": "stdout",
     "output_type": "stream",
     "text": [
      "epoch 146| loss: 0.14342 | train_mse: 0.06113 | train_mae: 0.18533 |  0:00:11s\n",
      "epoch 147| loss: 0.1147  | train_mse: 0.07954 | train_mae: 0.20537 |  0:00:11s\n",
      "epoch 148| loss: 0.07918 | train_mse: 0.11326 | train_mae: 0.22359 |  0:00:11s\n",
      "epoch 149| loss: 0.08092 | train_mse: 0.13634 | train_mae: 0.23147 |  0:00:11s\n"
     ]
    },
    {
     "name": "stdout",
     "output_type": "stream",
     "text": [
      "epoch 150| loss: 0.15419 | train_mse: 0.08952 | train_mae: 0.2135  |  0:00:11s\n",
      "epoch 151| loss: 0.10944 | train_mse: 0.05375 | train_mae: 0.17864 |  0:00:11s\n",
      "epoch 152| loss: 0.24327 | train_mse: 0.06823 | train_mae: 0.20231 |  0:00:11s\n"
     ]
    },
    {
     "name": "stdout",
     "output_type": "stream",
     "text": [
      "epoch 153| loss: 0.09538 | train_mse: 0.09292 | train_mae: 0.22922 |  0:00:11s\n",
      "epoch 154| loss: 0.10474 | train_mse: 0.0866  | train_mae: 0.22193 |  0:00:11s\n",
      "epoch 155| loss: 0.07712 | train_mse: 0.08623 | train_mae: 0.225   |  0:00:11s\n",
      "epoch 156| loss: 0.07657 | train_mse: 0.07464 | train_mae: 0.21188 |  0:00:11s\n"
     ]
    },
    {
     "name": "stdout",
     "output_type": "stream",
     "text": [
      "epoch 157| loss: 0.22875 | train_mse: 0.05554 | train_mae: 0.19222 |  0:00:11s\n",
      "epoch 158| loss: 0.06915 | train_mse: 0.04729 | train_mae: 0.17458 |  0:00:11s\n",
      "epoch 159| loss: 0.09474 | train_mse: 0.0514  | train_mae: 0.17914 |  0:00:11s\n",
      "epoch 160| loss: 0.10798 | train_mse: 0.05914 | train_mae: 0.18233 |  0:00:12s\n"
     ]
    },
    {
     "name": "stdout",
     "output_type": "stream",
     "text": [
      "epoch 161| loss: 0.11233 | train_mse: 0.14658 | train_mae: 0.23251 |  0:00:12s\n",
      "epoch 162| loss: 0.11097 | train_mse: 0.2149  | train_mae: 0.25167 |  0:00:12s\n",
      "epoch 163| loss: 0.12819 | train_mse: 0.16582 | train_mae: 0.2401  |  0:00:12s\n",
      "epoch 164| loss: 0.14908 | train_mse: 0.08255 | train_mae: 0.21681 |  0:00:12s\n"
     ]
    },
    {
     "name": "stdout",
     "output_type": "stream",
     "text": [
      "epoch 165| loss: 0.13564 | train_mse: 0.07373 | train_mae: 0.19755 |  0:00:12s\n",
      "epoch 166| loss: 0.09797 | train_mse: 0.05794 | train_mae: 0.18548 |  0:00:12s\n",
      "epoch 167| loss: 0.10389 | train_mse: 0.0575  | train_mae: 0.18452 |  0:00:12s\n",
      "epoch 168| loss: 0.07232 | train_mse: 0.04786 | train_mae: 0.17644 |  0:00:12s\n"
     ]
    },
    {
     "name": "stdout",
     "output_type": "stream",
     "text": [
      "epoch 169| loss: 0.0843  | train_mse: 0.05983 | train_mae: 0.18793 |  0:00:12s\n",
      "epoch 170| loss: 0.07335 | train_mse: 0.07301 | train_mae: 0.20179 |  0:00:12s\n",
      "epoch 171| loss: 0.09035 | train_mse: 0.08082 | train_mae: 0.20989 |  0:00:12s\n",
      "epoch 172| loss: 0.16969 | train_mse: 0.06445 | train_mae: 0.20013 |  0:00:12s\n"
     ]
    },
    {
     "name": "stdout",
     "output_type": "stream",
     "text": [
      "epoch 173| loss: 0.14632 | train_mse: 0.10817 | train_mae: 0.21025 |  0:00:12s\n",
      "epoch 174| loss: 0.09257 | train_mse: 0.11868 | train_mae: 0.21505 |  0:00:12s\n",
      "epoch 175| loss: 0.26439 | train_mse: 0.16319 | train_mae: 0.25294 |  0:00:13s\n"
     ]
    },
    {
     "name": "stdout",
     "output_type": "stream",
     "text": [
      "epoch 176| loss: 0.1188  | train_mse: 0.18465 | train_mae: 0.26481 |  0:00:13s\n",
      "epoch 177| loss: 0.21129 | train_mse: 0.16097 | train_mae: 0.23923 |  0:00:13s\n",
      "epoch 178| loss: 0.10623 | train_mse: 0.16398 | train_mae: 0.24403 |  0:00:13s\n",
      "epoch 179| loss: 0.10462 | train_mse: 0.09895 | train_mae: 0.21765 |  0:00:13s\n"
     ]
    },
    {
     "name": "stdout",
     "output_type": "stream",
     "text": [
      "epoch 180| loss: 0.10133 | train_mse: 0.06095 | train_mae: 0.18567 |  0:00:13s\n",
      "epoch 181| loss: 0.09224 | train_mse: 0.07172 | train_mae: 0.20787 |  0:00:13s\n",
      "epoch 182| loss: 0.2428  | train_mse: 0.07129 | train_mae: 0.20898 |  0:00:13s\n"
     ]
    },
    {
     "name": "stdout",
     "output_type": "stream",
     "text": [
      "epoch 183| loss: 0.24913 | train_mse: 0.0632  | train_mae: 0.19297 |  0:00:13s\n",
      "epoch 184| loss: 0.09266 | train_mse: 0.06306 | train_mae: 0.18971 |  0:00:13s\n",
      "epoch 185| loss: 0.10808 | train_mse: 0.0676  | train_mae: 0.18684 |  0:00:13s\n",
      "epoch 186| loss: 0.12298 | train_mse: 0.08441 | train_mae: 0.19821 |  0:00:13s\n"
     ]
    },
    {
     "name": "stdout",
     "output_type": "stream",
     "text": [
      "epoch 187| loss: 0.1082  | train_mse: 0.08325 | train_mae: 0.20347 |  0:00:13s\n",
      "epoch 188| loss: 0.23198 | train_mse: 0.07089 | train_mae: 0.195   |  0:00:13s\n",
      "epoch 189| loss: 0.10104 | train_mse: 0.07125 | train_mae: 0.20169 |  0:00:13s\n",
      "epoch 190| loss: 0.08491 | train_mse: 0.08711 | train_mae: 0.21507 |  0:00:14s\n"
     ]
    },
    {
     "name": "stdout",
     "output_type": "stream",
     "text": [
      "epoch 191| loss: 0.14453 | train_mse: 0.1086  | train_mae: 0.21512 |  0:00:14s\n",
      "epoch 192| loss: 0.08336 | train_mse: 0.09607 | train_mae: 0.21489 |  0:00:14s\n",
      "epoch 193| loss: 0.20983 | train_mse: 0.05983 | train_mae: 0.18998 |  0:00:14s\n",
      "epoch 194| loss: 0.07182 | train_mse: 0.06336 | train_mae: 0.1924  |  0:00:14s\n"
     ]
    },
    {
     "name": "stdout",
     "output_type": "stream",
     "text": [
      "epoch 195| loss: 0.08592 | train_mse: 0.05977 | train_mae: 0.18953 |  0:00:14s\n",
      "epoch 196| loss: 0.09849 | train_mse: 0.05791 | train_mae: 0.18214 |  0:00:14s\n",
      "epoch 197| loss: 0.06356 | train_mse: 0.06751 | train_mae: 0.19803 |  0:00:14s\n"
     ]
    },
    {
     "name": "stdout",
     "output_type": "stream",
     "text": [
      "epoch 198| loss: 0.10682 | train_mse: 0.06624 | train_mae: 0.19779 |  0:00:14s\n",
      "epoch 199| loss: 0.09587 | train_mse: 0.1033  | train_mae: 0.23879 |  0:00:14s\n",
      "epoch 200| loss: 0.08476 | train_mse: 0.16575 | train_mae: 0.27337 |  0:00:14s\n",
      "epoch 201| loss: 0.35189 | train_mse: 0.19538 | train_mae: 0.30031 |  0:00:14s\n"
     ]
    },
    {
     "name": "stdout",
     "output_type": "stream",
     "text": [
      "epoch 202| loss: 0.08934 | train_mse: 0.17278 | train_mae: 0.29706 |  0:00:14s\n",
      "epoch 203| loss: 0.14965 | train_mse: 0.13847 | train_mae: 0.26586 |  0:00:14s\n",
      "epoch 204| loss: 0.08838 | train_mse: 0.0795  | train_mae: 0.20682 |  0:00:14s\n",
      "epoch 205| loss: 0.11461 | train_mse: 0.05971 | train_mae: 0.18887 |  0:00:15s\n"
     ]
    },
    {
     "name": "stdout",
     "output_type": "stream",
     "text": [
      "epoch 206| loss: 0.0648  | train_mse: 0.06868 | train_mae: 0.20347 |  0:00:15s\n",
      "epoch 207| loss: 0.10601 | train_mse: 0.06458 | train_mae: 0.19702 |  0:00:15s\n",
      "epoch 208| loss: 0.07823 | train_mse: 0.04871 | train_mae: 0.18049 |  0:00:15s\n",
      "\n",
      "Early stopping occurred at epoch 208 with best_epoch = 158 and best_train_mae = 0.17458\n",
      "Best weights from best epoch are automatically used!\n"
     ]
    }
   ],
   "source": [
    "#Train the Model\n",
    "\n",
    "Y_train = np.reshape(Y_train, (-1, 1))\n",
    "Y_test = np.reshape(Y_test, (-1, 1))\n",
    "\n",
    "prior_model = TabNetRegressor(optimizer_fn=torch.optim.Adam, optimizer_params=dict(lr = 0.02),\n",
    "          #scheduler_params={\"step_size\":10, ], \"gamma\":0.9},\n",
    "          #scheduler_fn=torch.optim.lr_scheduler.StepLR\n",
    "          )  #TabNetRegressor()\n",
    "\n",
    "prior_model.fit(X_train,Y_train,eval_set=[(X_train, Y_train)],\n",
    "            eval_name=['train'], \n",
    "            eval_metric=[ 'mse', 'mae'], \n",
    "            max_epochs = n_epochs, \n",
    "            batch_size = batch_size,\n",
    "            patience=50\n",
    "            )"
   ]
  },
  {
   "cell_type": "code",
   "execution_count": 10,
   "id": "af65dcda",
   "metadata": {
    "execution": {
     "iopub.execute_input": "2022-06-22T11:56:28.330028Z",
     "iopub.status.busy": "2022-06-22T11:56:28.329172Z",
     "iopub.status.idle": "2022-06-22T11:56:28.354694Z",
     "shell.execute_reply": "2022-06-22T11:56:28.354107Z"
    },
    "id": "af65dcda",
    "papermill": {
     "duration": 0.07011,
     "end_time": "2022-06-22T11:56:28.354894",
     "exception": false,
     "start_time": "2022-06-22T11:56:28.284784",
     "status": "completed"
    },
    "tags": []
   },
   "outputs": [
    {
     "data": {
      "application/scrapbook.scrap.json+json": {
       "data": 0.09743059679641981,
       "encoder": "json",
       "name": "Prior Model MSE",
       "version": 1
      }
     },
     "metadata": {
      "scrapbook": {
       "data": true,
       "display": false,
       "name": "Prior Model MSE"
      }
     },
     "output_type": "display_data"
    },
    {
     "data": {
      "application/scrapbook.scrap.json+json": {
       "data": 1.704842557982899,
       "encoder": "json",
       "name": "ABC Pre-generator MSE",
       "version": 1
      }
     },
     "metadata": {
      "scrapbook": {
       "data": true,
       "display": false,
       "name": "ABC Pre-generator MSE"
      }
     },
     "output_type": "display_data"
    },
    {
     "data": {
      "application/scrapbook.scrap.json+json": {
       "data": 0.2514438246062461,
       "encoder": "json",
       "name": "Prior Model MSE",
       "version": 1
      }
     },
     "metadata": {
      "scrapbook": {
       "data": true,
       "display": false,
       "name": "Prior Model MSE"
      }
     },
     "output_type": "display_data"
    },
    {
     "data": {
      "application/scrapbook.scrap.json+json": {
       "data": 1.0743178605510373,
       "encoder": "json",
       "name": "ABC Pre-generator MSE",
       "version": 1
      }
     },
     "metadata": {
      "scrapbook": {
       "data": true,
       "display": false,
       "name": "ABC Pre-generator MSE"
      }
     },
     "output_type": "display_data"
    }
   ],
   "source": [
    "y_pred = prior_model.predict(X_test)\n",
    "y_abc = y_pred + np.random.normal(0,variance, y_pred.shape) + bias \n",
    "mse = mean_squared_error(y_pred,Y_test)\n",
    "sb.glue(\"Prior Model MSE\",mse)\n",
    "mse = mean_squared_error(y_abc,Y_test)\n",
    "sb.glue(\"ABC Pre-generator MSE\",mse)\n",
    "mae = mean_absolute_error(y_pred,Y_test)\n",
    "sb.glue(\"Prior Model MSE\",mae)\n",
    "mae = mean_absolute_error(y_abc,Y_test)\n",
    "sb.glue(\"ABC Pre-generator MSE\",mae)"
   ]
  },
  {
   "cell_type": "markdown",
   "id": "25609da2",
   "metadata": {
    "papermill": {
     "duration": 0.037231,
     "end_time": "2022-06-22T11:56:28.423760",
     "exception": false,
     "start_time": "2022-06-22T11:56:28.386529",
     "status": "completed"
    },
    "tags": []
   },
   "source": [
    "# ABC GAN Model"
   ]
  },
  {
   "cell_type": "code",
   "execution_count": 11,
   "id": "dfc3464d",
   "metadata": {
    "execution": {
     "iopub.execute_input": "2022-06-22T11:56:28.508390Z",
     "iopub.status.busy": "2022-06-22T11:56:28.507578Z",
     "iopub.status.idle": "2022-06-22T11:56:28.510436Z",
     "shell.execute_reply": "2022-06-22T11:56:28.511237Z"
    },
    "papermill": {
     "duration": 0.049036,
     "end_time": "2022-06-22T11:56:28.511462",
     "exception": false,
     "start_time": "2022-06-22T11:56:28.462426",
     "status": "completed"
    },
    "tags": []
   },
   "outputs": [],
   "source": [
    "gen = network.Generator(n_features+1).to(device)\n",
    "disc = network.Discriminator(n_features+1).to(device)\n",
    "\n",
    "criterion = torch.nn.BCELoss()\n",
    "gen_opt = torch.optim.Adam(gen.parameters(), lr=0.001, betas=(0.5, 0.999))\n",
    "disc_opt = torch.optim.Adam(disc.parameters(), lr=0.001, betas=(0.5, 0.999))"
   ]
  },
  {
   "cell_type": "code",
   "execution_count": 12,
   "id": "b75fdd85",
   "metadata": {
    "execution": {
     "iopub.execute_input": "2022-06-22T11:56:28.593624Z",
     "iopub.status.busy": "2022-06-22T11:56:28.592837Z",
     "iopub.status.idle": "2022-06-22T11:57:11.110149Z",
     "shell.execute_reply": "2022-06-22T11:57:11.110985Z"
    },
    "papermill": {
     "duration": 42.562802,
     "end_time": "2022-06-22T11:57:11.111250",
     "exception": false,
     "start_time": "2022-06-22T11:56:28.548448",
     "status": "completed"
    },
    "tags": []
   },
   "outputs": [
    {
     "data": {
      "image/png": "[encoded data removed]",
      "text/plain": [
       "<Figure size 432x288 with 1 Axes>"
      ]
     },
     "metadata": {
      "needs_background": "light"
     },
     "output_type": "display_data"
    },
    {
     "data": {
      "image/png": "[encoded data removed]",
      "text/plain": [
       "<Figure size 432x288 with 1 Axes>"
      ]
     },
     "metadata": {
      "needs_background": "light"
     },
     "output_type": "display_data"
    }
   ],
   "source": [
    "#Training the ABC_GAN \n",
    "ABC_train_test2.training_GAN(disc,gen,disc_opt,gen_opt,train_data,batch_size,n_epochs,criterion,prior_model,variance,bias,device)"
   ]
  },
  {
   "cell_type": "code",
   "execution_count": 13,
   "id": "1fa7c368",
   "metadata": {
    "execution": {
     "iopub.execute_input": "2022-06-22T11:57:11.191630Z",
     "iopub.status.busy": "2022-06-22T11:57:11.190849Z",
     "iopub.status.idle": "2022-06-22T11:57:11.837885Z",
     "shell.execute_reply": "2022-06-22T11:57:11.838449Z"
    },
    "papermill": {
     "duration": 0.693948,
     "end_time": "2022-06-22T11:57:11.838662",
     "exception": false,
     "start_time": "2022-06-22T11:57:11.144714",
     "status": "completed"
    },
    "tags": []
   },
   "outputs": [
    {
     "data": {
      "application/scrapbook.scrap.json+json": {
       "data": 0.1597361335047586,
       "encoder": "json",
       "name": "ABC-GAN Model 1 MSE",
       "version": 1
      }
     },
     "metadata": {
      "scrapbook": {
       "data": true,
       "display": false,
       "name": "ABC-GAN Model 1 MSE"
      }
     },
     "output_type": "display_data"
    },
    {
     "data": {
      "application/scrapbook.scrap.json+json": {
       "data": 0.3159543986981735,
       "encoder": "json",
       "name": "ABC-GAN Model 1 MAE",
       "version": 1
      }
     },
     "metadata": {
      "scrapbook": {
       "data": true,
       "display": false,
       "name": "ABC-GAN Model 1 MAE"
      }
     },
     "output_type": "display_data"
    },
    {
     "data": {
      "application/scrapbook.scrap.json+json": {
       "data": 6.3190879739634696,
       "encoder": "json",
       "name": "ABC-GAN Model 1 Manhattan Distance",
       "version": 1
      }
     },
     "metadata": {
      "scrapbook": {
       "data": true,
       "display": false,
       "name": "ABC-GAN Model 1 Manhattan Distance"
      }
     },
     "output_type": "display_data"
    },
    {
     "data": {
      "application/scrapbook.scrap.json+json": {
       "data": 1.7861210311932951,
       "encoder": "json",
       "name": "ABC-GAN Model 1 Euclidean distance",
       "version": 1
      }
     },
     "metadata": {
      "scrapbook": {
       "data": true,
       "display": false,
       "name": "ABC-GAN Model 1 Euclidean distance"
      }
     },
     "output_type": "display_data"
    },
    {
     "data": {
      "application/scrapbook.scrap.json+json": {
       "data": [
        [
         0.163009162125135,
         0.1443315610045859,
         0.1619679593235877,
         0.16100929636433586,
         0.1747178644284401,
         0.17364433501217036,
         0.15230002880439236,
         0.16628720055688095,
         0.15132322711112683,
         0.1606357105801124,
         0.14731593859926395,
         0.16840470381456374,
         0.14804297346106624,
         0.17091839331636965,
         0.15059914943686192,
         0.1717666207265202,
         0.1758334576791032,
         0.16088678481713284,
         0.14985478721732498,
         0.14250216441888924,
         0.16447837400531723,
         0.1546561636072025,
         0.150051553216281,
         0.1740128989576934,
         0.16521386783281766,
         0.17784001652000453,
         0.17290776863556148,
         0.1567940101623657,
         0.16542922443987712,
         0.15502548908220576,
         0.15386641180747315,
         0.14742549711476388,
         0.1741175164207492,
         0.14297126529574944,
         0.13492391103749388,
         0.17107387332504492,
         0.17464441163008093,
         0.15724700105013928,
         0.15865523244990837,
         0.13403946320624258,
         0.18445851425173132,
         0.17666229640272862,
         0.15352342534051938,
         0.131103986511221,
         0.17691196653416363,
         0.15983684623054828,
         0.15175543845179792,
         0.1640593458687063,
         0.15341753689577603,
         0.16286028739488081,
         0.18652523386907832,
         0.14624519552349713,
         0.17370169173934397,
         0.17254057378486537,
         0.15444851852622926,
         0.1482581287414671,
         0.16060059508552482,
         0.1538992108650448,
         0.1590188736233497,
         0.1537179691189015,
         0.18200535783619376,
         0.17817432761881086,
         0.15151128266981498,
         0.15219568071889705,
         0.14543946384278375,
         0.15847409081571429,
         0.16469989420963188,
         0.16385263659346208,
         0.1535783893895865,
         0.17334401008770425,
         0.16031427573550916,
         0.152326947131369,
         0.17279699128188022,
         0.15168169544100896,
         0.15323675641479806,
         0.1684628941548629,
         0.17004157222518437,
         0.15458281692902903,
         0.16226826826003057,
         0.15948987515625013,
         0.16344621704853682,
         0.15726118262228267,
         0.16925725977969033,
         0.19115869549430725,
         0.1694503844412735,
         0.1501288027179656,
         0.15435720424615376,
         0.14675713905030352,
         0.17421125216981387,
         0.1472521455044046,
         0.1417281733384433,
         0.14831294418005458,
         0.15775511279261317,
         0.1503752337087721,
         0.17159475575639868,
         0.15095356212778274,
         0.15882348634937782,
         0.13819718210494464,
         0.15014076561118808,
         0.1497037215648198
        ],
        [
         0.32446580603718755,
         0.3045165929943323,
         0.3116408876143396,
         0.3195908724330366,
         0.335655368771404,
         0.3332353986799717,
         0.30586905470117925,
         0.31729924185201525,
         0.30440817316994073,
         0.3270796421915293,
         0.30135724171996114,
         0.33215670883655546,
         0.30356028750538827,
         0.33390847891569136,
         0.29191814437508584,
         0.3321882329881191,
         0.33221102608367803,
         0.3133838734589517,
         0.2969843531958759,
         0.2944217104464769,
         0.3133733108639717,
         0.3069227017462254,
         0.30322449207305907,
         0.34446761608123777,
         0.3330187495797873,
         0.3376693080179393,
         0.34064767314121125,
         0.30974539471790197,
         0.3202806252986193,
         0.3108037456870079,
         0.3072744831442833,
         0.30518313571810723,
         0.3396296851336956,
         0.28496735394001005,
         0.3038387816399336,
         0.3220096491277218,
         0.3361808054149151,
         0.32474778667092324,
         0.31073217270895837,
         0.2794149976223707,
         0.3401790551841259,
         0.3398580147884786,
         0.3227062486112118,
         0.2870221193879843,
         0.33114487677812576,
         0.3102778299711645,
         0.30273125097155573,
         0.3264331310987473,
         0.3004800192080438,
         0.3173131263814867,
         0.3510682716965675,
         0.2992968030273914,
         0.33236756548285484,
         0.33775520920753477,
         0.3005302228033543,
         0.3113411322236061,
         0.3150874308310449,
         0.30790959522128103,
         0.31856671124696734,
         0.30245212465524673,
         0.3438359751366079,
         0.34170893793925644,
         0.3046072258614004,
         0.3134752415120602,
         0.3011295683681965,
         0.3045498259365559,
         0.3130924075841904,
         0.31144937193021177,
         0.30011896407231686,
         0.33568805223330855,
         0.3140828087925911,
         0.3133657433092594,
         0.32955567305907607,
         0.312112295627594,
         0.3145745314657688,
         0.32512463107705114,
         0.3397812142968178,
         0.30186000615358355,
         0.3237066112458706,
         0.3009969800710678,
         0.32541924407705664,
         0.30684051848948,
         0.33278563134372235,
         0.3625698197633028,
         0.3423933814279735,
         0.2977098233997822,
         0.30441342294216156,
         0.29433111352846025,
         0.3276731979101896,
         0.29720918983221056,
         0.2912134826183319,
         0.3033695156686008,
         0.3157583437860012,
         0.3036070853471756,
         0.3262021604925394,
         0.29775617495179174,
         0.3163998942822218,
         0.29105770885944365,
         0.3012110944837332,
         0.3081986978650093
        ],
        [
         6.4893161207437515,
         6.090331859886646,
         6.232817752286792,
         6.391817448660731,
         6.713107375428081,
         6.664707973599434,
         6.117381094023585,
         6.345984837040305,
         6.088163463398814,
         6.5415928438305855,
         6.027144834399223,
         6.64313417673111,
         6.071205750107765,
         6.6781695783138275,
         5.838362887501717,
         6.6437646597623825,
         6.64422052167356,
         6.267677469179034,
         5.939687063917518,
         5.888434208929539,
         6.267466217279434,
         6.138454034924507,
         6.064489841461182,
         6.889352321624756,
         6.660374991595745,
         6.753386160358787,
         6.812953462824225,
         6.194907894358039,
         6.405612505972385,
         6.216074913740158,
         6.145489662885666,
         6.1036627143621445,
         6.792593702673912,
         5.699347078800201,
         6.076775632798672,
         6.440192982554436,
         6.723616108298302,
         6.494955733418465,
         6.214643454179168,
         5.588299952447414,
         6.803581103682518,
         6.797160295769572,
         6.4541249722242355,
         5.7404423877596855,
         6.622897535562515,
         6.205556599423289,
         6.054625019431114,
         6.528662621974945,
         6.009600384160876,
         6.346262527629733,
         7.021365433931351,
         5.985936060547829,
         6.647351309657097,
         6.755104184150696,
         6.010604456067085,
         6.226822644472122,
         6.301748616620898,
         6.158191904425621,
         6.371334224939346,
         6.049042493104935,
         6.876719502732158,
         6.834178758785129,
         6.092144517228007,
         6.269504830241203,
         6.02259136736393,
         6.090996518731117,
         6.261848151683807,
         6.228987438604236,
         6.002379281446338,
         6.713761044666171,
         6.281656175851822,
         6.267314866185188,
         6.591113461181521,
         6.24224591255188,
         6.291490629315376,
         6.502492621541023,
         6.795624285936356,
         6.0372001230716705,
         6.474132224917412,
         6.019939601421356,
         6.508384881541133,
         6.1368103697896,
         6.655712626874447,
         7.251396395266056,
         6.84786762855947,
         5.954196467995644,
         6.088268458843231,
         5.886622270569205,
         6.553463958203793,
         5.944183796644211,
         5.824269652366638,
         6.067390313372016,
         6.315166875720024,
         6.072141706943512,
         6.524043209850788,
         5.955123499035835,
         6.327997885644436,
         5.821154177188873,
         6.0242218896746635,
         6.163973957300186
        ],
        [
         1.8055977521316038,
         1.6990088934704604,
         1.7998219874398007,
         1.7944876503578167,
         1.869320006999551,
         1.8635682708834167,
         1.7452795123096607,
         1.8236622524847137,
         1.739673688431982,
         1.7924045892605407,
         1.71648442229613,
         1.8352367902511313,
         1.7207148134485635,
         1.8488828698236655,
         1.7355065510499343,
         1.8534649752640067,
         1.875278420283789,
         1.793804809989832,
         1.731212218171562,
         1.68820712247573,
         1.8137164828347194,
         1.7587277424729644,
         1.732348424632187,
         1.865544955007482,
         1.8177671348817903,
         1.8859481250554297,
         1.8596116187825968,
         1.770841665211013,
         1.8189514806056655,
         1.7608264484735896,
         1.7542315229608272,
         1.7171225763745808,
         1.86610565842746,
         1.690983532124127,
         1.6427045445696793,
         1.8497236189498416,
         1.8689270270937863,
         1.7733978744215257,
         1.7813210404074185,
         1.637311596527934,
         1.9207212929091577,
         1.879693040912418,
         1.752275237173198,
         1.6192837089974135,
         1.8810208214379958,
         1.7879420920742835,
         1.7421563560817264,
         1.8114046807309863,
         1.7516708417723692,
         1.8047730460912854,
         1.9314514431850383,
         1.71023504538702,
         1.8638760245217167,
         1.857635991171927,
         1.7575466908519344,
         1.721964742620865,
         1.7922086657837855,
         1.754418484085509,
         1.7833612848963034,
         1.7533851209526188,
         1.907906485319413,
         1.8877199348357312,
         1.7407543345906968,
         1.7446815223352201,
         1.7055173047658223,
         1.7803038550523576,
         1.8149374325834589,
         1.8102631664675835,
         1.7525888815668464,
         1.8619560149890988,
         1.790610374902978,
         1.7454337405434157,
         1.859015821782484,
         1.741733018812062,
         1.7506384916069797,
         1.8355538355213825,
         1.8441343347228496,
         1.7583106490551037,
         1.8014897627243436,
         1.786000420807622,
         1.8080166871383505,
         1.773477840979597,
         1.8398764076953122,
         1.9552938167667142,
         1.8409257695044279,
         1.7327942908375802,
         1.7570270586769787,
         1.7132258406310799,
         1.8666078976036389,
         1.7161127323366876,
         1.6836161874871796,
         1.7222830439858285,
         1.776260751087031,
         1.7342158672366719,
         1.852537480087238,
         1.7375474792234182,
         1.7822653357420035,
         1.662511245705993,
         1.7328633276238958,
         1.7303393977183772
        ]
       ],
       "encoder": "json",
       "name": "ABC_GAN_1 Metrics",
       "version": 1
      }
     },
     "metadata": {
      "scrapbook": {
       "data": true,
       "display": false,
       "name": "ABC_GAN_1 Metrics"
      }
     },
     "output_type": "display_data"
    },
    {
     "name": "stdout",
     "output_type": "stream",
     "text": [
      "MSE\n",
      "0.1597361335047586\n"
     ]
    }
   ],
   "source": [
    "ABC_GAN1_metrics=ABC_train_test2.test_generator(gen,test_data,prior_model,variance,bias,\"1\",device)\n",
    "sb.glue(\"ABC_GAN_1 Metrics\",ABC_GAN1_metrics)\n",
    "\n",
    "print(\"MSE\")\n",
    "print(mean(ABC_GAN1_metrics[0]))"
   ]
  },
  {
   "cell_type": "code",
   "execution_count": 14,
   "id": "eb22ce5c",
   "metadata": {
    "execution": {
     "iopub.execute_input": "2022-06-22T11:57:11.921509Z",
     "iopub.status.busy": "2022-06-22T11:57:11.920781Z",
     "iopub.status.idle": "2022-06-22T11:57:12.682127Z",
     "shell.execute_reply": "2022-06-22T11:57:12.682730Z"
    },
    "papermill": {
     "duration": 0.809588,
     "end_time": "2022-06-22T11:57:12.682971",
     "exception": false,
     "start_time": "2022-06-22T11:57:11.873383",
     "status": "completed"
    },
    "tags": []
   },
   "outputs": [
    {
     "data": {
      "image/png": "[encoded data removed]",
      "text/plain": [
       "<Figure size 432x288 with 1 Axes>"
      ]
     },
     "metadata": {
      "needs_background": "light"
     },
     "output_type": "display_data"
    },
    {
     "data": {
      "image/png": "[encoded data removed]",
      "text/plain": [
       "<Figure size 432x288 with 1 Axes>"
      ]
     },
     "metadata": {
      "needs_background": "light"
     },
     "output_type": "display_data"
    },
    {
     "data": {
      "image/png": "[encoded data removed]",
      "text/plain": [
       "<Figure size 432x288 with 1 Axes>"
      ]
     },
     "metadata": {
      "needs_background": "light"
     },
     "output_type": "display_data"
    },
    {
     "data": {
      "image/png": "[encoded data removed]",
      "text/plain": [
       "<Figure size 432x288 with 1 Axes>"
      ]
     },
     "metadata": {
      "needs_background": "light"
     },
     "output_type": "display_data"
    }
   ],
   "source": [
    "sanityChecks.discProbVsError(train_data,disc,device)\n",
    "sanityChecks.discProbVsError(test_data,disc,device)"
   ]
  },
  {
   "cell_type": "markdown",
   "id": "130f3a4d",
   "metadata": {
    "id": "130f3a4d",
    "papermill": {
     "duration": 0.052461,
     "end_time": "2022-06-22T11:57:12.778775",
     "exception": false,
     "start_time": "2022-06-22T11:57:12.726314",
     "status": "completed"
    },
    "tags": []
   },
   "source": [
    "# ABC - GAN Model with skip connection"
   ]
  },
  {
   "cell_type": "code",
   "execution_count": 15,
   "id": "4e43dad1",
   "metadata": {
    "execution": {
     "iopub.execute_input": "2022-06-22T11:57:12.878759Z",
     "iopub.status.busy": "2022-06-22T11:57:12.876245Z",
     "iopub.status.idle": "2022-06-22T11:57:12.879794Z",
     "shell.execute_reply": "2022-06-22T11:57:12.880226Z"
    },
    "id": "4e43dad1",
    "papermill": {
     "duration": 0.059177,
     "end_time": "2022-06-22T11:57:12.880437",
     "exception": false,
     "start_time": "2022-06-22T11:57:12.821260",
     "status": "completed"
    },
    "tags": []
   },
   "outputs": [],
   "source": [
    "#Generator\n",
    "gen3 = network.GeneratorWithSkipConnection(n_features+1).to(device)\n",
    "constraints=network.weightConstraint()\n",
    "#Discriminator \n",
    "disc3 = network.Discriminator(n_features+1).to(device)\n",
    "\n",
    "criterion = torch.nn.BCELoss()\n",
    "gen_opt = torch.optim.Adam(gen3.parameters(), lr=0.001, betas=(0.5, 0.999))\n",
    "disc_opt = torch.optim.Adam(disc3.parameters(), lr=0.001, betas=(0.5, 0.999))\n"
   ]
  },
  {
   "cell_type": "code",
   "execution_count": 16,
   "id": "26acbc37",
   "metadata": {
    "execution": {
     "iopub.execute_input": "2022-06-22T11:57:13.014159Z",
     "iopub.status.busy": "2022-06-22T11:57:13.013447Z",
     "iopub.status.idle": "2022-06-22T11:58:19.698915Z",
     "shell.execute_reply": "2022-06-22T11:58:19.699455Z"
    },
    "id": "26acbc37",
    "papermill": {
     "duration": 66.750224,
     "end_time": "2022-06-22T11:58:19.699773",
     "exception": false,
     "start_time": "2022-06-22T11:57:12.949549",
     "status": "completed"
    },
    "tags": []
   },
   "outputs": [
    {
     "data": {
      "image/png": "[encoded data removed]",
      "text/plain": [
       "<Figure size 432x288 with 1 Axes>"
      ]
     },
     "metadata": {
      "needs_background": "light"
     },
     "output_type": "display_data"
    },
    {
     "data": {
      "image/png": "[encoded data removed]",
      "text/plain": [
       "<Figure size 432x288 with 1 Axes>"
      ]
     },
     "metadata": {
      "needs_background": "light"
     },
     "output_type": "display_data"
    }
   ],
   "source": [
    "ABC_train_test2.training_GAN_skip_connection(disc3,gen3,disc_opt,gen_opt,train_data,batch_size,n_epochs,criterion,prior_model,variance,bias,device)"
   ]
  },
  {
   "cell_type": "code",
   "execution_count": 17,
   "id": "c5e0717b",
   "metadata": {
    "execution": {
     "iopub.execute_input": "2022-06-22T11:58:19.793765Z",
     "iopub.status.busy": "2022-06-22T11:58:19.793021Z",
     "iopub.status.idle": "2022-06-22T11:58:20.569817Z",
     "shell.execute_reply": "2022-06-22T11:58:20.570641Z"
    },
    "id": "c5e0717b",
    "papermill": {
     "duration": 0.830603,
     "end_time": "2022-06-22T11:58:20.570925",
     "exception": false,
     "start_time": "2022-06-22T11:58:19.740322",
     "status": "completed"
    },
    "tags": []
   },
   "outputs": [
    {
     "data": {
      "application/scrapbook.scrap.json+json": {
       "data": 0.0981015693899128,
       "encoder": "json",
       "name": "ABC-GAN Model 3 MSE",
       "version": 1
      }
     },
     "metadata": {
      "scrapbook": {
       "data": true,
       "display": false,
       "name": "ABC-GAN Model 3 MSE"
      }
     },
     "output_type": "display_data"
    },
    {
     "data": {
      "application/scrapbook.scrap.json+json": {
       "data": 0.2691274269595742,
       "encoder": "json",
       "name": "ABC-GAN Model 3 MAE",
       "version": 1
      }
     },
     "metadata": {
      "scrapbook": {
       "data": true,
       "display": false,
       "name": "ABC-GAN Model 3 MAE"
      }
     },
     "output_type": "display_data"
    },
    {
     "data": {
      "application/scrapbook.scrap.json+json": {
       "data": 5.382548539191484,
       "encoder": "json",
       "name": "ABC-GAN Model 3 Manhattan Distance",
       "version": 1
      }
     },
     "metadata": {
      "scrapbook": {
       "data": true,
       "display": false,
       "name": "ABC-GAN Model 3 Manhattan Distance"
      }
     },
     "output_type": "display_data"
    },
    {
     "data": {
      "application/scrapbook.scrap.json+json": {
       "data": 1.3960660060249719,
       "encoder": "json",
       "name": "ABC-GAN Model 3 Euclidean distance",
       "version": 1
      }
     },
     "metadata": {
      "scrapbook": {
       "data": true,
       "display": false,
       "name": "ABC-GAN Model 3 Euclidean distance"
      }
     },
     "output_type": "display_data"
    },
    {
     "data": {
      "application/scrapbook.scrap.json+json": {
       "data": [
        [
         0.10536749278100414,
         0.0991972782853638,
         0.07433628526134481,
         0.11323547972429407,
         0.09264601628192501,
         0.12069218431945253,
         0.10053643675543307,
         0.1276245143382198,
         0.07788128504424044,
         0.07540683715130139,
         0.10143526755639098,
         0.10047775994240778,
         0.07995538225936114,
         0.08155325591664483,
         0.10601279426304433,
         0.10267995435203625,
         0.11672690990126586,
         0.09597642084571525,
         0.09467353971495256,
         0.0994386988774925,
         0.08714143934628175,
         0.10551038241264865,
         0.10382218983266411,
         0.09716458468799694,
         0.07141545650870093,
         0.09374463397767316,
         0.14028128043469806,
         0.07337428822487504,
         0.08445049365349173,
         0.08747724252827416,
         0.07410430174646794,
         0.10344059997597732,
         0.10121997626101176,
         0.0884590075734096,
         0.10376034004673004,
         0.09096054189511463,
         0.11073263059191789,
         0.08775663225261665,
         0.11724662641855228,
         0.0890177603809535,
         0.06904742016521195,
         0.10359462614753698,
         0.10453928564246673,
         0.07938165270015855,
         0.12526370026695552,
         0.10273679262174236,
         0.1122032334280219,
         0.09526582512973913,
         0.11390531145264834,
         0.11145452016482107,
         0.1010346712083567,
         0.09158435515950376,
         0.11787895173693816,
         0.08536577309441178,
         0.11199526829540626,
         0.08864830201807261,
         0.07754440185676219,
         0.1051192293683266,
         0.09708520160777034,
         0.09781590712314289,
         0.08122398478154427,
         0.0830597434780922,
         0.07908919561092027,
         0.08441774382168518,
         0.09139975034823515,
         0.11108355265062739,
         0.08740227851458435,
         0.11069088669120201,
         0.07677017477294615,
         0.1091747606948577,
         0.09364668376178557,
         0.11458972763392139,
         0.108138171643089,
         0.08268701691014994,
         0.08866026752600945,
         0.07003076230045169,
         0.13920856562468362,
         0.07636550686044608,
         0.09560966089037817,
         0.08459275779398338,
         0.10417907536413451,
         0.08471619889898316,
         0.11941757970119596,
         0.09389242899373414,
         0.08855579936427663,
         0.1370866797910982,
         0.14713594592545123,
         0.10637858499617461,
         0.08157369278181337,
         0.12070852829975207,
         0.09902055803355549,
         0.09250071564684563,
         0.08978190853591395,
         0.0899473201825161,
         0.10645819093284344,
         0.09384934842902168,
         0.12284099117725575,
         0.0928225786306486,
         0.11549701494068465,
         0.08755397454584682
        ],
        [
         0.27604629285633564,
         0.2654812205582857,
         0.2317225757986307,
         0.2813731739297509,
         0.2551376510411501,
         0.287695268727839,
         0.2702943030744791,
         0.3099782455712557,
         0.24402722604572774,
         0.23339908756315708,
         0.27213602401316167,
         0.27258966974914073,
         0.24939221031963826,
         0.2545108165591955,
         0.28624528385698794,
         0.27119954861700535,
         0.299516311660409,
         0.27144942320883275,
         0.2650595102459192,
         0.27329762019217013,
         0.2584792274981737,
         0.2795223373919725,
         0.2905396673828363,
         0.2642043922096491,
         0.241280010715127,
         0.2770969394594431,
         0.2882939551025629,
         0.22661049701273442,
         0.25718064941465857,
         0.2575000558048487,
         0.22932520546019078,
         0.26473458893597124,
         0.26721835471689703,
         0.2545376647263765,
         0.2769931260496378,
         0.2689216438680887,
         0.285177493467927,
         0.25798423774540424,
         0.2852287027984858,
         0.2646626431494951,
         0.23085419721901418,
         0.2672032628208399,
         0.27288512177765367,
         0.2510127816349268,
         0.31309926100075247,
         0.2579171728342772,
         0.2932668920606375,
         0.2635053414851427,
         0.2881704460829496,
         0.29498542807996275,
         0.2626200396567583,
         0.2663202080875635,
         0.2933189574629068,
         0.2579995084553957,
         0.29430092833936217,
         0.25171618200838564,
         0.23449664004147053,
         0.2863309506326914,
         0.25067299492657186,
         0.28298861868679526,
         0.24794598557054998,
         0.24718136228621007,
         0.24550773836672307,
         0.2528949219733477,
         0.2669963095337152,
         0.2893145103007555,
         0.24399816282093525,
         0.2916738081723452,
         0.2434344470500946,
         0.27012133710086345,
         0.2634777072817087,
         0.28711860813200474,
         0.28511921055614947,
         0.24348595626652242,
         0.25704372115433216,
         0.23373191095888615,
         0.3158969569951296,
         0.24182376302778721,
         0.27046617306768894,
         0.2534121204167604,
         0.28170373328030107,
         0.26704588122665884,
         0.2918823193758726,
         0.2598474849015474,
         0.26875542141497133,
         0.3307848427444696,
         0.31573860831558703,
         0.2837386477738619,
         0.24883586950600148,
         0.3008858297020197,
         0.27139780931174756,
         0.2625414181500673,
         0.26387952603399756,
         0.26634639091789725,
         0.2723436538130045,
         0.26240462251007557,
         0.3152442891150713,
         0.2735756177455187,
         0.2947932187467813,
         0.2506450105458498
        ],
        [
         5.520925857126713,
         5.309624411165714,
         4.634451515972614,
         5.627463478595018,
         5.102753020823002,
         5.75390537455678,
         5.405886061489582,
         6.199564911425114,
         4.880544520914555,
         4.667981751263142,
         5.442720480263233,
         5.451793394982815,
         4.987844206392765,
         5.09021633118391,
         5.724905677139759,
         5.423990972340107,
         5.9903262332081795,
         5.428988464176655,
         5.3011902049183846,
         5.465952403843403,
         5.169584549963474,
         5.590446747839451,
         5.810793347656727,
         5.284087844192982,
         4.82560021430254,
         5.541938789188862,
         5.765879102051258,
         4.532209940254688,
         5.143612988293171,
         5.150001116096973,
         4.5865041092038155,
         5.294691778719425,
         5.34436709433794,
         5.090753294527531,
         5.539862520992756,
         5.3784328773617744,
         5.70354986935854,
         5.159684754908085,
         5.704574055969715,
         5.2932528629899025,
         4.617083944380283,
         5.344065256416798,
         5.457702435553074,
         5.020255632698536,
         6.261985220015049,
         5.158343456685543,
         5.8653378412127495,
         5.270106829702854,
         5.763408921658993,
         5.899708561599255,
         5.252400793135166,
         5.32640416175127,
         5.866379149258137,
         5.159990169107914,
         5.886018566787243,
         5.034323640167713,
         4.6899328008294106,
         5.726619012653828,
         5.013459898531437,
         5.659772373735905,
         4.958919711410999,
         4.943627245724201,
         4.910154767334461,
         5.057898439466953,
         5.339926190674305,
         5.78629020601511,
         4.879963256418705,
         5.833476163446903,
         4.868688941001892,
         5.402426742017269,
         5.269554145634174,
         5.742372162640095,
         5.70238421112299,
         4.869719125330448,
         5.140874423086643,
         4.674638219177723,
         6.317939139902592,
         4.836475260555744,
         5.409323461353779,
         5.068242408335209,
         5.634074665606022,
         5.340917624533176,
         5.837646387517452,
         5.196949698030949,
         5.375108428299427,
         6.615696854889393,
         6.314772166311741,
         5.674772955477238,
         4.9767173901200294,
         6.017716594040394,
         5.427956186234951,
         5.250828363001347,
         5.277590520679951,
         5.3269278183579445,
         5.44687307626009,
         5.248092450201511,
         6.304885782301426,
         5.471512354910374,
         5.895864374935627,
         5.012900210916996
        ],
        [
         1.4516714007033695,
         1.4085260259247168,
         1.2193136205369381,
         1.504895210466789,
         1.3612201606053667,
         1.5536549444419925,
         1.4180016696424096,
         1.5976514910218673,
         1.248048757414873,
         1.228062190211077,
         1.4243262797294094,
         1.4175878099250696,
         1.2645582806605724,
         1.2771315978915003,
         1.4561098465640863,
         1.4330384108741556,
         1.5279195652995996,
         1.3854704677164018,
         1.3760344451717228,
         1.4102389788790586,
         1.3201624092988087,
         1.452655378351305,
         1.4409870910779465,
         1.3940199760978818,
         1.1951188770051366,
         1.3692672053158446,
         1.67500018169968,
         1.2113982683236346,
         1.2996191261557497,
         1.3227036140290398,
         1.2174095592401757,
         1.4383365390337362,
         1.4228139461012586,
         1.3301053159311078,
         1.4405578089526991,
         1.3487812416779426,
         1.4881708947020695,
         1.3248141926520614,
         1.531317252685101,
         1.3342995194554594,
         1.1751376103692022,
         1.4394070039258318,
         1.4459549484162135,
         1.260013116599653,
         1.5828057383453948,
         1.4334349836790112,
         1.4980202497164175,
         1.380332026214991,
         1.509339666560502,
         1.4930138657415146,
         1.4215109651941253,
         1.353398353475456,
         1.5354409903147574,
         1.3066428210831893,
         1.4966313393445045,
         1.3315277091977666,
         1.245346553026604,
         1.4499602019940174,
         1.3934504053447352,
         1.3986844327663255,
         1.2745507818956785,
         1.2888734885790165,
         1.2576899109949182,
         1.299367106107317,
         1.35203365600295,
         1.4905271057624372,
         1.3221367441727376,
         1.4878903635093683,
         1.2391139961516546,
         1.4776654607512332,
         1.3685516706488328,
         1.513867415818977,
         1.4706336841177616,
         1.2859783583727211,
         1.3316175691692373,
         1.183475916953545,
         1.668583624663047,
         1.235843896780221,
         1.382820746809782,
         1.300713325786919,
         1.443461640391836,
         1.3016620060444506,
         1.5454292588222598,
         1.3703461533038588,
         1.3308328171808554,
         1.6558181046908396,
         1.7154354894629598,
         1.458619792791628,
         1.2772916094754037,
         1.553760137857527,
         1.407270819945866,
         1.3601523124036192,
         1.3400142427296358,
         1.3412480768486947,
         1.459165452804057,
         1.3700317399901485,
         1.567424583048612,
         1.3625166320500355,
         1.5198487749818048,
         1.3232836018469118
        ]
       ],
       "encoder": "json",
       "name": "ABC_GAN_3 Metrics",
       "version": 1
      }
     },
     "metadata": {
      "scrapbook": {
       "data": true,
       "display": false,
       "name": "ABC_GAN_3 Metrics"
      }
     },
     "output_type": "display_data"
    },
    {
     "name": "stdout",
     "output_type": "stream",
     "text": [
      "MSE\n",
      "0.0981015693899128\n"
     ]
    }
   ],
   "source": [
    "ABC_GAN3_metrics=ABC_train_test2.test_generator(gen3,test_data,prior_model,variance,bias,\"3\",device)\n",
    "sb.glue(\"ABC_GAN_3 Metrics\",ABC_GAN3_metrics)\n",
    "\n",
    "print(\"MSE\")\n",
    "print(mean(ABC_GAN3_metrics[0]))"
   ]
  },
  {
   "cell_type": "code",
   "execution_count": 18,
   "id": "c8e46b48",
   "metadata": {
    "execution": {
     "iopub.execute_input": "2022-06-22T11:58:20.673310Z",
     "iopub.status.busy": "2022-06-22T11:58:20.672636Z",
     "iopub.status.idle": "2022-06-22T11:58:21.415264Z",
     "shell.execute_reply": "2022-06-22T11:58:21.415846Z"
    },
    "id": "c8e46b48",
    "papermill": {
     "duration": 0.800959,
     "end_time": "2022-06-22T11:58:21.416108",
     "exception": false,
     "start_time": "2022-06-22T11:58:20.615149",
     "status": "completed"
    },
    "tags": []
   },
   "outputs": [
    {
     "data": {
      "image/png": "[encoded data removed]",
      "text/plain": [
       "<Figure size 432x288 with 1 Axes>"
      ]
     },
     "metadata": {
      "needs_background": "light"
     },
     "output_type": "display_data"
    },
    {
     "data": {
      "image/png": "[encoded data removed]",
      "text/plain": [
       "<Figure size 432x288 with 1 Axes>"
      ]
     },
     "metadata": {
      "needs_background": "light"
     },
     "output_type": "display_data"
    },
    {
     "data": {
      "image/png": "[encoded data removed]",
      "text/plain": [
       "<Figure size 432x288 with 1 Axes>"
      ]
     },
     "metadata": {
      "needs_background": "light"
     },
     "output_type": "display_data"
    },
    {
     "data": {
      "image/png": "[encoded data removed]",
      "text/plain": [
       "<Figure size 432x288 with 1 Axes>"
      ]
     },
     "metadata": {
      "needs_background": "light"
     },
     "output_type": "display_data"
    }
   ],
   "source": [
    "sanityChecks.discProbVsError(train_data,disc3,device)\n",
    "sanityChecks.discProbVsError(test_data,disc3,device)"
   ]
  },
  {
   "cell_type": "markdown",
   "id": "a5bd74c3",
   "metadata": {
    "id": "a5bd74c3",
    "papermill": {
     "duration": 0.072699,
     "end_time": "2022-06-22T11:58:21.544390",
     "exception": false,
     "start_time": "2022-06-22T11:58:21.471691",
     "status": "completed"
    },
    "tags": []
   },
   "source": [
    "## Skip Connection Model Analysis - ABC-GAN "
   ]
  },
  {
   "cell_type": "markdown",
   "id": "5744a8bf",
   "metadata": {
    "id": "5744a8bf",
    "papermill": {
     "duration": 0.063975,
     "end_time": "2022-06-22T11:58:21.660960",
     "exception": false,
     "start_time": "2022-06-22T11:58:21.596985",
     "status": "completed"
    },
    "tags": []
   },
   "source": [
    "### Weight Analysis \n",
    "\n",
    "Study the weights of the skip connection layer\n",
    "\n",
    "Equation of the skip connection is \n",
    "\n",
    "$output = y_{gan} * w + y_{abc} * (1-w)$"
   ]
  },
  {
   "cell_type": "code",
   "execution_count": 19,
   "id": "52c31dea",
   "metadata": {
    "execution": {
     "iopub.execute_input": "2022-06-22T11:58:21.785677Z",
     "iopub.status.busy": "2022-06-22T11:58:21.782447Z",
     "iopub.status.idle": "2022-06-22T11:58:21.789691Z",
     "shell.execute_reply": "2022-06-22T11:58:21.790173Z"
    },
    "id": "52c31dea",
    "papermill": {
     "duration": 0.081227,
     "end_time": "2022-06-22T11:58:21.790376",
     "exception": false,
     "start_time": "2022-06-22T11:58:21.709149",
     "status": "completed"
    },
    "tags": []
   },
   "outputs": [
    {
     "name": "stdout",
     "output_type": "stream",
     "text": [
      "Weight of the node at skip connection\n",
      "Parameter containing:\n",
      "tensor([[0.1476]], requires_grad=True)\n"
     ]
    },
    {
     "data": {
      "application/scrapbook.scrap.json+json": {
       "data": 0.14760494232177734,
       "encoder": "json",
       "name": "Skip Connection Weight",
       "version": 1
      }
     },
     "metadata": {
      "scrapbook": {
       "data": true,
       "display": false,
       "name": "Skip Connection Weight"
      }
     },
     "output_type": "display_data"
    }
   ],
   "source": [
    "print(\"Weight of the node at skip connection\")\n",
    "for name,param in gen3.named_parameters():\n",
    "    if(name == \"skipNode.weight\"):\n",
    "        print(param)\n",
    "        sb.glue(\"Skip Connection Weight\",param.item())"
   ]
  }
 ],
 "metadata": {
  "colab": {
   "collapsed_sections": [],
   "name": "ABC_GAN_Model-Catboost_Pre-gen.ipynb",
   "provenance": []
  },
  "interpreter": {
   "hash": "31f2aee4e71d21fbe5cf8b01ff0e069b9275f58929596ceb00d14d90e3e16cd6"
  },
  "kernelspec": {
   "display_name": "Python 3 (ipykernel)",
   "language": "python",
   "name": "python3"
  },
  "language_info": {
   "codemirror_mode": {
    "name": "ipython",
    "version": 3
   },
   "file_extension": ".py",
   "mimetype": "text/x-python",
   "name": "python",
   "nbconvert_exporter": "python",
   "pygments_lexer": "ipython3",
   "version": "3.8.3"
  },
  "papermill": {
   "default_parameters": {},
   "duration": 140.435338,
   "end_time": "2022-06-22T11:58:22.704793",
   "environment_variables": {},
   "exception": null,
   "input_path": "ABC_GAN-TabNet.ipynb",
   "output_path": "./ABC_GAN_TabNet/ABC-GAN_output_2_0.ipynb",
   "parameters": {
    "bias": 1,
    "variance": 1
   },
   "start_time": "2022-06-22T11:56:02.269455",
   "version": "2.3.3"
  }
 },
 "nbformat": 4,
 "nbformat_minor": 5
}