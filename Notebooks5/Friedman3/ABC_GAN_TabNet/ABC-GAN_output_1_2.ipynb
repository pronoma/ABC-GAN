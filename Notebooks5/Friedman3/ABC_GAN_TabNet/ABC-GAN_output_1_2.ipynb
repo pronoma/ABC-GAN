{
 "cells": [
  {
   "cell_type": "markdown",
   "id": "622780e6",
   "metadata": {
    "id": "622780e6",
    "papermill": {
     "duration": 0.0262,
     "end_time": "2022-06-22T11:28:29.605765",
     "exception": false,
     "start_time": "2022-06-22T11:28:29.579565",
     "status": "completed"
    },
    "tags": []
   },
   "source": [
    "## Import Libraries "
   ]
  },
  {
   "cell_type": "code",
   "execution_count": 1,
   "id": "a62397e3",
   "metadata": {
    "execution": {
     "iopub.execute_input": "2022-06-22T11:28:29.695466Z",
     "iopub.status.busy": "2022-06-22T11:28:29.689962Z",
     "iopub.status.idle": "2022-06-22T11:28:29.709063Z",
     "shell.execute_reply": "2022-06-22T11:28:29.709687Z"
    },
    "id": "a62397e3",
    "papermill": {
     "duration": 0.082125,
     "end_time": "2022-06-22T11:28:29.710058",
     "exception": false,
     "start_time": "2022-06-22T11:28:29.627933",
     "status": "completed"
    },
    "tags": []
   },
   "outputs": [],
   "source": [
    "import warnings\n",
    "import sys\n",
    "sys.path.insert(0, '../../src')\n",
    "warnings.filterwarnings('ignore')"
   ]
  },
  {
   "cell_type": "code",
   "execution_count": 2,
   "id": "d6a4e155",
   "metadata": {
    "execution": {
     "iopub.execute_input": "2022-06-22T11:28:29.810275Z",
     "iopub.status.busy": "2022-06-22T11:28:29.808942Z",
     "iopub.status.idle": "2022-06-22T11:28:36.486193Z",
     "shell.execute_reply": "2022-06-22T11:28:36.485222Z"
    },
    "id": "d6a4e155",
    "papermill": {
     "duration": 6.744547,
     "end_time": "2022-06-22T11:28:36.486565",
     "exception": false,
     "start_time": "2022-06-22T11:28:29.742018",
     "status": "completed"
    },
    "tags": []
   },
   "outputs": [],
   "source": [
    "import ABC_train_test2\n",
    "import friedman3Dataset\n",
    "import network\n",
    "import dataset\n",
    "import sanityChecks\n",
    "import torch \n",
    "import scrapbook as sb\n",
    "from statistics import mean \n",
    "import catboost as ctb \n",
    "from sklearn.model_selection import train_test_split\n",
    "from sklearn.metrics import mean_squared_error,mean_absolute_error\n",
    "import numpy as np\n",
    "from pytorch_tabnet.tab_model import TabNetRegressor"
   ]
  },
  {
   "cell_type": "markdown",
   "id": "2fa5b0f7",
   "metadata": {
    "id": "2fa5b0f7",
    "papermill": {
     "duration": 0.019303,
     "end_time": "2022-06-22T11:28:36.526667",
     "exception": false,
     "start_time": "2022-06-22T11:28:36.507364",
     "status": "completed"
    },
    "tags": []
   },
   "source": [
    "## Parameters "
   ]
  },
  {
   "cell_type": "code",
   "execution_count": 3,
   "id": "783186fb",
   "metadata": {
    "execution": {
     "iopub.execute_input": "2022-06-22T11:28:36.573201Z",
     "iopub.status.busy": "2022-06-22T11:28:36.572100Z",
     "iopub.status.idle": "2022-06-22T11:28:36.574279Z",
     "shell.execute_reply": "2022-06-22T11:28:36.574836Z"
    },
    "id": "783186fb",
    "papermill": {
     "duration": 0.028608,
     "end_time": "2022-06-22T11:28:36.575071",
     "exception": false,
     "start_time": "2022-06-22T11:28:36.546463",
     "status": "completed"
    },
    "tags": [
     "parameters"
    ]
   },
   "outputs": [],
   "source": [
    "variance = 1\n",
    "bias = 1 "
   ]
  },
  {
   "cell_type": "code",
   "execution_count": 4,
   "id": "dde7a12e",
   "metadata": {
    "execution": {
     "iopub.execute_input": "2022-06-22T11:28:36.616287Z",
     "iopub.status.busy": "2022-06-22T11:28:36.615531Z",
     "iopub.status.idle": "2022-06-22T11:28:36.617681Z",
     "shell.execute_reply": "2022-06-22T11:28:36.618319Z"
    },
    "papermill": {
     "duration": 0.025418,
     "end_time": "2022-06-22T11:28:36.619328",
     "exception": false,
     "start_time": "2022-06-22T11:28:36.593910",
     "status": "completed"
    },
    "tags": [
     "injected-parameters"
    ]
   },
   "outputs": [],
   "source": [
    "# Parameters\n",
    "variance = 0.01\n",
    "bias = 1\n"
   ]
  },
  {
   "cell_type": "markdown",
   "id": "391cdbfd",
   "metadata": {
    "id": "391cdbfd",
    "papermill": {
     "duration": 0.019698,
     "end_time": "2022-06-22T11:28:36.659481",
     "exception": false,
     "start_time": "2022-06-22T11:28:36.639783",
     "status": "completed"
    },
    "tags": []
   },
   "source": [
    "## Dataset \n"
   ]
  },
  {
   "cell_type": "code",
   "execution_count": 5,
   "id": "5b51f161",
   "metadata": {
    "execution": {
     "iopub.execute_input": "2022-06-22T11:28:36.705570Z",
     "iopub.status.busy": "2022-06-22T11:28:36.704551Z",
     "iopub.status.idle": "2022-06-22T11:28:36.706977Z",
     "shell.execute_reply": "2022-06-22T11:28:36.707626Z"
    },
    "id": "5b51f161",
    "papermill": {
     "duration": 0.029905,
     "end_time": "2022-06-22T11:28:36.707901",
     "exception": false,
     "start_time": "2022-06-22T11:28:36.677996",
     "status": "completed"
    },
    "tags": []
   },
   "outputs": [],
   "source": [
    "#Parameters \n",
    "n_features = 4\n",
    "n_samples= 100\n",
    "n_target = 1"
   ]
  },
  {
   "cell_type": "code",
   "execution_count": 6,
   "id": "5d6eced4",
   "metadata": {
    "execution": {
     "iopub.execute_input": "2022-06-22T11:28:36.749910Z",
     "iopub.status.busy": "2022-06-22T11:28:36.749103Z",
     "iopub.status.idle": "2022-06-22T11:28:36.771636Z",
     "shell.execute_reply": "2022-06-22T11:28:36.772211Z"
    },
    "id": "5d6eced4",
    "papermill": {
     "duration": 0.047046,
     "end_time": "2022-06-22T11:28:36.772462",
     "exception": false,
     "start_time": "2022-06-22T11:28:36.725416",
     "status": "completed"
    },
    "tags": []
   },
   "outputs": [
    {
     "name": "stdout",
     "output_type": "stream",
     "text": [
      "          X1           X2        X3        X4         Y\n",
      "0  48.616053  1051.734534  0.628346  4.684279  1.680437\n",
      "1   9.956904   211.625164  0.086003  3.293180  0.808100\n",
      "2  89.732850   369.993599  0.723843  8.340986  1.262255\n",
      "3  24.369644  1656.469152  0.321174  8.386604  1.479169\n",
      "4  42.668982   765.063256  0.237299  4.651678  1.585883\n"
     ]
    }
   ],
   "source": [
    "X,Y = friedman3Dataset.friedman3_data(n_samples)"
   ]
  },
  {
   "cell_type": "code",
   "execution_count": 7,
   "id": "fe007438",
   "metadata": {
    "execution": {
     "iopub.execute_input": "2022-06-22T11:28:36.843775Z",
     "iopub.status.busy": "2022-06-22T11:28:36.842569Z",
     "iopub.status.idle": "2022-06-22T11:28:36.845226Z",
     "shell.execute_reply": "2022-06-22T11:28:36.844563Z"
    },
    "id": "fe007438",
    "papermill": {
     "duration": 0.055433,
     "end_time": "2022-06-22T11:28:36.845813",
     "exception": false,
     "start_time": "2022-06-22T11:28:36.790380",
     "status": "completed"
    },
    "tags": []
   },
   "outputs": [],
   "source": [
    "#Train test split for dataset \n",
    "X_train,X_test,Y_train,Y_test = train_test_split(X,Y,test_size = 0.2)\n",
    "train_data = dataset.CustomDataset(X_train,Y_train)\n",
    "test_data = dataset.CustomDataset(X_test,Y_test)\n"
   ]
  },
  {
   "cell_type": "markdown",
   "id": "a9a1af34",
   "metadata": {
    "id": "a9a1af34",
    "papermill": {
     "duration": 0.020297,
     "end_time": "2022-06-22T11:28:36.885220",
     "exception": false,
     "start_time": "2022-06-22T11:28:36.864923",
     "status": "completed"
    },
    "tags": []
   },
   "source": [
    "## Training Parameters "
   ]
  },
  {
   "cell_type": "code",
   "execution_count": 8,
   "id": "952b7fc8",
   "metadata": {
    "execution": {
     "iopub.execute_input": "2022-06-22T11:28:36.944963Z",
     "iopub.status.busy": "2022-06-22T11:28:36.943765Z",
     "iopub.status.idle": "2022-06-22T11:28:36.946066Z",
     "shell.execute_reply": "2022-06-22T11:28:36.946595Z"
    },
    "id": "952b7fc8",
    "papermill": {
     "duration": 0.040812,
     "end_time": "2022-06-22T11:28:36.946817",
     "exception": false,
     "start_time": "2022-06-22T11:28:36.906005",
     "status": "completed"
    },
    "tags": []
   },
   "outputs": [],
   "source": [
    "batch_size = 32\n",
    "n_epochs = 1000\n",
    "#Select the device \n",
    "device = torch.device('cuda' if torch.cuda.is_available() else 'cpu')"
   ]
  },
  {
   "cell_type": "markdown",
   "id": "a95e1600",
   "metadata": {
    "id": "a95e1600",
    "papermill": {
     "duration": 0.01852,
     "end_time": "2022-06-22T11:28:36.983731",
     "exception": false,
     "start_time": "2022-06-22T11:28:36.965211",
     "status": "completed"
    },
    "tags": []
   },
   "source": [
    "# ABC Pre-generator Model \n",
    "\n",
    "1. The catboost model is used as a pre-generator model for the ABC-GAN. \n",
    "2. The model is first trained on the entire dataset \n",
    "3. It generats X,Y pairs and we add some Gaussian noise with mean 0 and variance 1 to it which is then feed as input to the generator.\n"
   ]
  },
  {
   "cell_type": "code",
   "execution_count": 9,
   "id": "ff8ce7bd",
   "metadata": {
    "execution": {
     "iopub.execute_input": "2022-06-22T11:28:37.026761Z",
     "iopub.status.busy": "2022-06-22T11:28:37.025616Z",
     "iopub.status.idle": "2022-06-22T11:28:47.297990Z",
     "shell.execute_reply": "2022-06-22T11:28:47.298425Z"
    },
    "id": "ff8ce7bd",
    "papermill": {
     "duration": 10.298828,
     "end_time": "2022-06-22T11:28:47.298645",
     "exception": false,
     "start_time": "2022-06-22T11:28:36.999817",
     "status": "completed"
    },
    "tags": []
   },
   "outputs": [
    {
     "name": "stdout",
     "output_type": "stream",
     "text": [
      "Device used : cpu\n"
     ]
    },
    {
     "name": "stdout",
     "output_type": "stream",
     "text": [
      "epoch 0  | loss: 0.77423 | train_mse: 6.55808 | train_mae: 1.49853 |  0:00:00s\n",
      "epoch 1  | loss: 0.53313 | train_mse: 5.51367 | train_mae: 1.42435 |  0:00:00s\n",
      "epoch 2  | loss: 0.44172 | train_mse: 3.81787 | train_mae: 1.11583 |  0:00:00s\n"
     ]
    },
    {
     "name": "stdout",
     "output_type": "stream",
     "text": [
      "epoch 3  | loss: 0.39496 | train_mse: 1.96785 | train_mae: 0.96158 |  0:00:00s\n",
      "epoch 4  | loss: 0.40313 | train_mse: 1.5492  | train_mae: 0.9268  |  0:00:00s\n",
      "epoch 5  | loss: 0.31838 | train_mse: 1.2581  | train_mae: 0.88269 |  0:00:00s\n"
     ]
    },
    {
     "name": "stdout",
     "output_type": "stream",
     "text": [
      "epoch 6  | loss: 0.30003 | train_mse: 0.68956 | train_mae: 0.66432 |  0:00:00s\n",
      "epoch 7  | loss: 0.38995 | train_mse: 0.55593 | train_mae: 0.57139 |  0:00:00s\n",
      "epoch 8  | loss: 0.22157 | train_mse: 1.9125  | train_mae: 0.93408 |  0:00:00s\n"
     ]
    },
    {
     "name": "stdout",
     "output_type": "stream",
     "text": [
      "epoch 9  | loss: 0.42567 | train_mse: 1.02539 | train_mae: 0.79261 |  0:00:01s\n",
      "epoch 10 | loss: 0.22891 | train_mse: 0.84906 | train_mae: 0.74262 |  0:00:01s\n",
      "epoch 11 | loss: 0.24223 | train_mse: 0.84171 | train_mae: 0.73404 |  0:00:01s\n"
     ]
    },
    {
     "name": "stdout",
     "output_type": "stream",
     "text": [
      "epoch 12 | loss: 0.28085 | train_mse: 0.74561 | train_mae: 0.65993 |  0:00:01s\n",
      "epoch 13 | loss: 0.15629 | train_mse: 0.66473 | train_mae: 0.60018 |  0:00:01s\n",
      "epoch 14 | loss: 0.25331 | train_mse: 0.59259 | train_mae: 0.58292 |  0:00:01s\n"
     ]
    },
    {
     "name": "stdout",
     "output_type": "stream",
     "text": [
      "epoch 15 | loss: 0.25768 | train_mse: 0.34801 | train_mae: 0.46744 |  0:00:01s\n",
      "epoch 16 | loss: 0.16672 | train_mse: 0.32052 | train_mae: 0.45658 |  0:00:01s\n",
      "epoch 17 | loss: 0.1736  | train_mse: 0.68166 | train_mae: 0.62036 |  0:00:01s\n"
     ]
    },
    {
     "name": "stdout",
     "output_type": "stream",
     "text": [
      "epoch 18 | loss: 0.18583 | train_mse: 0.89609 | train_mae: 0.69931 |  0:00:01s\n",
      "epoch 19 | loss: 0.17685 | train_mse: 0.78642 | train_mae: 0.69024 |  0:00:01s\n",
      "epoch 20 | loss: 0.21594 | train_mse: 0.42072 | train_mae: 0.5053  |  0:00:01s\n"
     ]
    },
    {
     "name": "stdout",
     "output_type": "stream",
     "text": [
      "epoch 21 | loss: 0.20991 | train_mse: 0.38846 | train_mae: 0.51232 |  0:00:02s\n",
      "epoch 22 | loss: 0.15057 | train_mse: 0.34559 | train_mae: 0.47823 |  0:00:02s\n",
      "epoch 23 | loss: 0.16822 | train_mse: 0.38299 | train_mae: 0.49071 |  0:00:02s\n"
     ]
    },
    {
     "name": "stdout",
     "output_type": "stream",
     "text": [
      "epoch 24 | loss: 0.23941 | train_mse: 0.27371 | train_mae: 0.40882 |  0:00:02s\n",
      "epoch 25 | loss: 0.14425 | train_mse: 0.21073 | train_mae: 0.36165 |  0:00:02s\n",
      "epoch 26 | loss: 0.26222 | train_mse: 0.21935 | train_mae: 0.37072 |  0:00:02s\n"
     ]
    },
    {
     "name": "stdout",
     "output_type": "stream",
     "text": [
      "epoch 27 | loss: 0.15994 | train_mse: 0.19569 | train_mae: 0.34628 |  0:00:02s\n",
      "epoch 28 | loss: 0.16441 | train_mse: 0.16828 | train_mae: 0.33236 |  0:00:02s\n",
      "epoch 29 | loss: 0.26208 | train_mse: 0.1432  | train_mae: 0.29926 |  0:00:02s"
     ]
    },
    {
     "name": "stdout",
     "output_type": "stream",
     "text": [
      "\n",
      "epoch 30 | loss: 0.174   | train_mse: 0.14588 | train_mae: 0.29966 |  0:00:02s\n"
     ]
    },
    {
     "name": "stdout",
     "output_type": "stream",
     "text": [
      "epoch 31 | loss: 0.15075 | train_mse: 0.13253 | train_mae: 0.27576 |  0:00:03s\n",
      "epoch 32 | loss: 0.11384 | train_mse: 0.13998 | train_mae: 0.29288 |  0:00:03s\n",
      "epoch 33 | loss: 0.21385 | train_mse: 0.14471 | train_mae: 0.30985 |  0:00:03s\n"
     ]
    },
    {
     "name": "stdout",
     "output_type": "stream",
     "text": [
      "epoch 34 | loss: 0.23263 | train_mse: 0.17423 | train_mae: 0.33443 |  0:00:03s\n",
      "epoch 35 | loss: 0.16729 | train_mse: 0.17199 | train_mae: 0.32888 |  0:00:03s\n",
      "epoch 36 | loss: 0.22177 | train_mse: 0.14709 | train_mae: 0.29999 |  0:00:03s\n"
     ]
    },
    {
     "name": "stdout",
     "output_type": "stream",
     "text": [
      "epoch 37 | loss: 0.16226 | train_mse: 0.13538 | train_mae: 0.28045 |  0:00:03s\n",
      "epoch 38 | loss: 0.18763 | train_mse: 0.13185 | train_mae: 0.2827  |  0:00:03s\n",
      "epoch 39 | loss: 0.1612  | train_mse: 0.18473 | train_mae: 0.3497  |  0:00:03s\n"
     ]
    },
    {
     "name": "stdout",
     "output_type": "stream",
     "text": [
      "epoch 40 | loss: 0.14228 | train_mse: 0.16181 | train_mae: 0.32475 |  0:00:03s\n",
      "epoch 41 | loss: 0.11906 | train_mse: 0.13394 | train_mae: 0.28614 |  0:00:03s\n",
      "epoch 42 | loss: 0.21158 | train_mse: 0.12928 | train_mae: 0.27794 |  0:00:04s\n"
     ]
    },
    {
     "name": "stdout",
     "output_type": "stream",
     "text": [
      "epoch 43 | loss: 0.1362  | train_mse: 0.12748 | train_mae: 0.27249 |  0:00:04s\n",
      "epoch 44 | loss: 0.18648 | train_mse: 0.12806 | train_mae: 0.27956 |  0:00:04s\n",
      "epoch 45 | loss: 0.15545 | train_mse: 0.15715 | train_mae: 0.31614 |  0:00:04s\n"
     ]
    },
    {
     "name": "stdout",
     "output_type": "stream",
     "text": [
      "epoch 46 | loss: 0.13888 | train_mse: 0.167   | train_mae: 0.32171 |  0:00:04s\n",
      "epoch 47 | loss: 0.12512 | train_mse: 0.12146 | train_mae: 0.26918 |  0:00:04s\n",
      "epoch 48 | loss: 0.15249 | train_mse: 0.11469 | train_mae: 0.25774 |  0:00:04s\n"
     ]
    },
    {
     "name": "stdout",
     "output_type": "stream",
     "text": [
      "epoch 49 | loss: 0.1409  | train_mse: 0.10903 | train_mae: 0.25669 |  0:00:04s\n",
      "epoch 50 | loss: 0.13319 | train_mse: 0.10355 | train_mae: 0.24932 |  0:00:04s\n",
      "epoch 51 | loss: 0.16515 | train_mse: 0.10657 | train_mae: 0.25589 |  0:00:04s\n"
     ]
    },
    {
     "name": "stdout",
     "output_type": "stream",
     "text": [
      "epoch 52 | loss: 0.10881 | train_mse: 0.09328 | train_mae: 0.23857 |  0:00:04s\n",
      "epoch 53 | loss: 0.13306 | train_mse: 0.09059 | train_mae: 0.23695 |  0:00:04s\n",
      "epoch 54 | loss: 0.22491 | train_mse: 0.08901 | train_mae: 0.22911 |  0:00:05s\n"
     ]
    },
    {
     "name": "stdout",
     "output_type": "stream",
     "text": [
      "epoch 55 | loss: 0.09642 | train_mse: 0.09588 | train_mae: 0.23927 |  0:00:05s\n",
      "epoch 56 | loss: 0.14856 | train_mse: 0.11397 | train_mae: 0.25872 |  0:00:05s\n"
     ]
    },
    {
     "name": "stdout",
     "output_type": "stream",
     "text": [
      "epoch 57 | loss: 0.14994 | train_mse: 0.10209 | train_mae: 0.24962 |  0:00:05s\n",
      "epoch 58 | loss: 0.11198 | train_mse: 0.08876 | train_mae: 0.22642 |  0:00:05s\n",
      "epoch 59 | loss: 0.11252 | train_mse: 0.09298 | train_mae: 0.23582 |  0:00:05s\n"
     ]
    },
    {
     "name": "stdout",
     "output_type": "stream",
     "text": [
      "epoch 60 | loss: 0.15513 | train_mse: 0.10937 | train_mae: 0.26106 |  0:00:05s\n",
      "epoch 61 | loss: 0.15252 | train_mse: 0.10618 | train_mae: 0.25164 |  0:00:05s\n",
      "epoch 62 | loss: 0.15741 | train_mse: 0.09395 | train_mae: 0.23491 |  0:00:05s\n"
     ]
    },
    {
     "name": "stdout",
     "output_type": "stream",
     "text": [
      "epoch 63 | loss: 0.13578 | train_mse: 0.08238 | train_mae: 0.22474 |  0:00:05s\n",
      "epoch 64 | loss: 0.11703 | train_mse: 0.09525 | train_mae: 0.24527 |  0:00:05s\n",
      "epoch 65 | loss: 0.14339 | train_mse: 0.11712 | train_mae: 0.2721  |  0:00:06s\n"
     ]
    },
    {
     "name": "stdout",
     "output_type": "stream",
     "text": [
      "epoch 66 | loss: 0.18887 | train_mse: 0.12764 | train_mae: 0.28062 |  0:00:06s\n",
      "epoch 67 | loss: 0.10524 | train_mse: 0.10257 | train_mae: 0.25046 |  0:00:06s\n",
      "epoch 68 | loss: 0.1184  | train_mse: 0.0944  | train_mae: 0.23939 |  0:00:06s\n"
     ]
    },
    {
     "name": "stdout",
     "output_type": "stream",
     "text": [
      "epoch 69 | loss: 0.13833 | train_mse: 0.09641 | train_mae: 0.24634 |  0:00:06s\n",
      "epoch 70 | loss: 0.12775 | train_mse: 0.09663 | train_mae: 0.24283 |  0:00:06s\n",
      "epoch 71 | loss: 0.10077 | train_mse: 0.10579 | train_mae: 0.25335 |  0:00:06s\n"
     ]
    },
    {
     "name": "stdout",
     "output_type": "stream",
     "text": [
      "epoch 72 | loss: 0.21013 | train_mse: 0.13514 | train_mae: 0.2846  |  0:00:06s\n",
      "epoch 73 | loss: 0.12582 | train_mse: 0.14047 | train_mae: 0.29193 |  0:00:06s\n",
      "epoch 74 | loss: 0.17857 | train_mse: 0.11383 | train_mae: 0.26134 |  0:00:06s\n"
     ]
    },
    {
     "name": "stdout",
     "output_type": "stream",
     "text": [
      "epoch 75 | loss: 0.13603 | train_mse: 0.11616 | train_mae: 0.25918 |  0:00:06s\n",
      "epoch 76 | loss: 0.13352 | train_mse: 0.12246 | train_mae: 0.26247 |  0:00:07s\n",
      "epoch 77 | loss: 0.12832 | train_mse: 0.10803 | train_mae: 0.23764 |  0:00:07s\n"
     ]
    },
    {
     "name": "stdout",
     "output_type": "stream",
     "text": [
      "epoch 78 | loss: 0.1454  | train_mse: 0.10662 | train_mae: 0.24021 |  0:00:07s\n",
      "epoch 79 | loss: 0.18216 | train_mse: 0.12295 | train_mae: 0.26512 |  0:00:07s\n",
      "epoch 80 | loss: 0.17199 | train_mse: 0.13103 | train_mae: 0.27883 |  0:00:07s\n"
     ]
    },
    {
     "name": "stdout",
     "output_type": "stream",
     "text": [
      "epoch 81 | loss: 0.16264 | train_mse: 0.13304 | train_mae: 0.28004 |  0:00:07s\n",
      "epoch 82 | loss: 0.17946 | train_mse: 0.11861 | train_mae: 0.25617 |  0:00:07s\n",
      "epoch 83 | loss: 0.13206 | train_mse: 0.10537 | train_mae: 0.23659 |  0:00:07s\n"
     ]
    },
    {
     "name": "stdout",
     "output_type": "stream",
     "text": [
      "epoch 84 | loss: 0.12574 | train_mse: 0.10514 | train_mae: 0.23678 |  0:00:07s\n",
      "epoch 85 | loss: 0.14159 | train_mse: 0.1048  | train_mae: 0.23817 |  0:00:07s\n",
      "epoch 86 | loss: 0.11317 | train_mse: 0.11684 | train_mae: 0.26179 |  0:00:07s\n"
     ]
    },
    {
     "name": "stdout",
     "output_type": "stream",
     "text": [
      "epoch 87 | loss: 0.18608 | train_mse: 0.13511 | train_mae: 0.28624 |  0:00:07s\n",
      "epoch 88 | loss: 0.167   | train_mse: 0.10769 | train_mae: 0.25241 |  0:00:08s\n",
      "epoch 89 | loss: 0.19021 | train_mse: 0.10769 | train_mae: 0.25998 |  0:00:08s\n"
     ]
    },
    {
     "name": "stdout",
     "output_type": "stream",
     "text": [
      "epoch 90 | loss: 0.14983 | train_mse: 0.12233 | train_mae: 0.27251 |  0:00:08s\n",
      "epoch 91 | loss: 0.1378  | train_mse: 0.11349 | train_mae: 0.25849 |  0:00:08s\n",
      "epoch 92 | loss: 0.09509 | train_mse: 0.11666 | train_mae: 0.26577 |  0:00:08s\n"
     ]
    },
    {
     "name": "stdout",
     "output_type": "stream",
     "text": [
      "epoch 93 | loss: 0.18918 | train_mse: 0.10498 | train_mae: 0.25447 |  0:00:08s\n",
      "epoch 94 | loss: 0.13277 | train_mse: 0.1085  | train_mae: 0.26525 |  0:00:08s\n",
      "epoch 95 | loss: 0.10249 | train_mse: 0.1048  | train_mae: 0.25926 |  0:00:08s\n"
     ]
    },
    {
     "name": "stdout",
     "output_type": "stream",
     "text": [
      "epoch 96 | loss: 0.14592 | train_mse: 0.09481 | train_mae: 0.2523  |  0:00:08s\n",
      "epoch 97 | loss: 0.1253  | train_mse: 0.09706 | train_mae: 0.2523  |  0:00:08s\n",
      "epoch 98 | loss: 0.1486  | train_mse: 0.09619 | train_mae: 0.25196 |  0:00:08s\n"
     ]
    },
    {
     "name": "stdout",
     "output_type": "stream",
     "text": [
      "epoch 99 | loss: 0.30433 | train_mse: 0.09217 | train_mae: 0.24696 |  0:00:08s\n",
      "epoch 100| loss: 0.09876 | train_mse: 0.0992  | train_mae: 0.25724 |  0:00:09s\n",
      "epoch 101| loss: 0.19099 | train_mse: 0.10089 | train_mae: 0.25996 |  0:00:09s\n"
     ]
    },
    {
     "name": "stdout",
     "output_type": "stream",
     "text": [
      "epoch 102| loss: 0.1674  | train_mse: 0.09386 | train_mae: 0.24432 |  0:00:09s\n",
      "epoch 103| loss: 0.13182 | train_mse: 0.09304 | train_mae: 0.23836 |  0:00:09s\n",
      "epoch 104| loss: 0.17992 | train_mse: 0.09466 | train_mae: 0.23764 |  0:00:09s\n"
     ]
    },
    {
     "name": "stdout",
     "output_type": "stream",
     "text": [
      "epoch 105| loss: 0.11406 | train_mse: 0.09066 | train_mae: 0.23433 |  0:00:09s\n",
      "epoch 106| loss: 0.16653 | train_mse: 0.10225 | train_mae: 0.25873 |  0:00:09s\n",
      "epoch 107| loss: 0.11497 | train_mse: 0.12074 | train_mae: 0.27951 |  0:00:09s\n"
     ]
    },
    {
     "name": "stdout",
     "output_type": "stream",
     "text": [
      "epoch 108| loss: 0.12856 | train_mse: 0.10728 | train_mae: 0.25478 |  0:00:09s\n",
      "epoch 109| loss: 0.08906 | train_mse: 0.10943 | train_mae: 0.2558  |  0:00:09s\n",
      "epoch 110| loss: 0.16616 | train_mse: 0.10021 | train_mae: 0.24802 |  0:00:09s\n"
     ]
    },
    {
     "name": "stdout",
     "output_type": "stream",
     "text": [
      "epoch 111| loss: 0.24725 | train_mse: 0.09438 | train_mae: 0.24326 |  0:00:10s\n",
      "epoch 112| loss: 0.13887 | train_mse: 0.11106 | train_mae: 0.26329 |  0:00:10s\n",
      "epoch 113| loss: 0.14611 | train_mse: 0.11368 | train_mae: 0.26735 |  0:00:10s\n",
      "\n",
      "Early stopping occurred at epoch 113 with best_epoch = 63 and best_train_mae = 0.22474\n",
      "Best weights from best epoch are automatically used!\n"
     ]
    }
   ],
   "source": [
    "#Train the Model\n",
    "\n",
    "Y_train = np.reshape(Y_train, (-1, 1))\n",
    "Y_test = np.reshape(Y_test, (-1, 1))\n",
    "\n",
    "prior_model = TabNetRegressor(optimizer_fn=torch.optim.Adam, optimizer_params=dict(lr = 0.02),\n",
    "          #scheduler_params={\"step_size\":10, ], \"gamma\":0.9},\n",
    "          #scheduler_fn=torch.optim.lr_scheduler.StepLR\n",
    "          )  #TabNetRegressor()\n",
    "\n",
    "prior_model.fit(X_train,Y_train,eval_set=[(X_train, Y_train)],\n",
    "            eval_name=['train'], \n",
    "            eval_metric=[ 'mse', 'mae'], \n",
    "            max_epochs = n_epochs, \n",
    "            batch_size = batch_size,\n",
    "            patience=50\n",
    "            )"
   ]
  },
  {
   "cell_type": "code",
   "execution_count": 10,
   "id": "af65dcda",
   "metadata": {
    "execution": {
     "iopub.execute_input": "2022-06-22T11:28:47.373292Z",
     "iopub.status.busy": "2022-06-22T11:28:47.372048Z",
     "iopub.status.idle": "2022-06-22T11:28:47.417102Z",
     "shell.execute_reply": "2022-06-22T11:28:47.417761Z"
    },
    "id": "af65dcda",
    "papermill": {
     "duration": 0.091507,
     "end_time": "2022-06-22T11:28:47.418134",
     "exception": false,
     "start_time": "2022-06-22T11:28:47.326627",
     "status": "completed"
    },
    "tags": []
   },
   "outputs": [
    {
     "data": {
      "application/scrapbook.scrap.json+json": {
       "data": 0.617034827789545,
       "encoder": "json",
       "name": "Prior Model MSE",
       "version": 1
      }
     },
     "metadata": {
      "scrapbook": {
       "data": true,
       "display": false,
       "name": "Prior Model MSE"
      }
     },
     "output_type": "display_data"
    },
    {
     "data": {
      "application/scrapbook.scrap.json+json": {
       "data": 1.680700919654484,
       "encoder": "json",
       "name": "ABC Pre-generator MSE",
       "version": 1
      }
     },
     "metadata": {
      "scrapbook": {
       "data": true,
       "display": false,
       "name": "ABC Pre-generator MSE"
      }
     },
     "output_type": "display_data"
    },
    {
     "data": {
      "application/scrapbook.scrap.json+json": {
       "data": 0.6102836378360756,
       "encoder": "json",
       "name": "Prior Model MSE",
       "version": 1
      }
     },
     "metadata": {
      "scrapbook": {
       "data": true,
       "display": false,
       "name": "Prior Model MSE"
      }
     },
     "output_type": "display_data"
    },
    {
     "data": {
      "application/scrapbook.scrap.json+json": {
       "data": 1.04073779992969,
       "encoder": "json",
       "name": "ABC Pre-generator MSE",
       "version": 1
      }
     },
     "metadata": {
      "scrapbook": {
       "data": true,
       "display": false,
       "name": "ABC Pre-generator MSE"
      }
     },
     "output_type": "display_data"
    }
   ],
   "source": [
    "y_pred = prior_model.predict(X_test)\n",
    "y_abc = y_pred + np.random.normal(0,variance, y_pred.shape) + bias \n",
    "mse = mean_squared_error(y_pred,Y_test)\n",
    "sb.glue(\"Prior Model MSE\",mse)\n",
    "mse = mean_squared_error(y_abc,Y_test)\n",
    "sb.glue(\"ABC Pre-generator MSE\",mse)\n",
    "mae = mean_absolute_error(y_pred,Y_test)\n",
    "sb.glue(\"Prior Model MSE\",mae)\n",
    "mae = mean_absolute_error(y_abc,Y_test)\n",
    "sb.glue(\"ABC Pre-generator MSE\",mae)"
   ]
  },
  {
   "cell_type": "markdown",
   "id": "25609da2",
   "metadata": {
    "papermill": {
     "duration": 0.071082,
     "end_time": "2022-06-22T11:28:47.531978",
     "exception": false,
     "start_time": "2022-06-22T11:28:47.460896",
     "status": "completed"
    },
    "tags": []
   },
   "source": [
    "# ABC GAN Model"
   ]
  },
  {
   "cell_type": "code",
   "execution_count": 11,
   "id": "dfc3464d",
   "metadata": {
    "execution": {
     "iopub.execute_input": "2022-06-22T11:28:47.642584Z",
     "iopub.status.busy": "2022-06-22T11:28:47.640917Z",
     "iopub.status.idle": "2022-06-22T11:28:47.644303Z",
     "shell.execute_reply": "2022-06-22T11:28:47.643475Z"
    },
    "papermill": {
     "duration": 0.069628,
     "end_time": "2022-06-22T11:28:47.644542",
     "exception": false,
     "start_time": "2022-06-22T11:28:47.574914",
     "status": "completed"
    },
    "tags": []
   },
   "outputs": [],
   "source": [
    "gen = network.Generator(n_features+1).to(device)\n",
    "disc = network.Discriminator(n_features+1).to(device)\n",
    "\n",
    "criterion = torch.nn.BCELoss()\n",
    "gen_opt = torch.optim.Adam(gen.parameters(), lr=0.001, betas=(0.5, 0.999))\n",
    "disc_opt = torch.optim.Adam(disc.parameters(), lr=0.001, betas=(0.5, 0.999))"
   ]
  },
  {
   "cell_type": "code",
   "execution_count": 12,
   "id": "b75fdd85",
   "metadata": {
    "execution": {
     "iopub.execute_input": "2022-06-22T11:28:47.744633Z",
     "iopub.status.busy": "2022-06-22T11:28:47.743853Z",
     "iopub.status.idle": "2022-06-22T11:29:41.015263Z",
     "shell.execute_reply": "2022-06-22T11:29:41.016446Z"
    },
    "papermill": {
     "duration": 53.332938,
     "end_time": "2022-06-22T11:29:41.016663",
     "exception": false,
     "start_time": "2022-06-22T11:28:47.683725",
     "status": "completed"
    },
    "tags": []
   },
   "outputs": [
    {
     "data": {
      "image/png": "[encoded data removed]",
      "text/plain": [
       "<Figure size 432x288 with 1 Axes>"
      ]
     },
     "metadata": {
      "needs_background": "light"
     },
     "output_type": "display_data"
    },
    {
     "data": {
      "image/png": "[encoded data removed]",
      "text/plain": [
       "<Figure size 432x288 with 1 Axes>"
      ]
     },
     "metadata": {
      "needs_background": "light"
     },
     "output_type": "display_data"
    }
   ],
   "source": [
    "#Training the ABC_GAN \n",
    "ABC_train_test2.training_GAN(disc,gen,disc_opt,gen_opt,train_data,batch_size,n_epochs,criterion,prior_model,variance,bias,device)"
   ]
  },
  {
   "cell_type": "code",
   "execution_count": 13,
   "id": "1fa7c368",
   "metadata": {
    "execution": {
     "iopub.execute_input": "2022-06-22T11:29:41.099759Z",
     "iopub.status.busy": "2022-06-22T11:29:41.098939Z",
     "iopub.status.idle": "2022-06-22T11:29:41.895145Z",
     "shell.execute_reply": "2022-06-22T11:29:41.895740Z"
    },
    "papermill": {
     "duration": 0.845928,
     "end_time": "2022-06-22T11:29:41.895969",
     "exception": false,
     "start_time": "2022-06-22T11:29:41.050041",
     "status": "completed"
    },
    "tags": []
   },
   "outputs": [
    {
     "data": {
      "application/scrapbook.scrap.json+json": {
       "data": 0.4805794414831653,
       "encoder": "json",
       "name": "ABC-GAN Model 1 MSE",
       "version": 1
      }
     },
     "metadata": {
      "scrapbook": {
       "data": true,
       "display": false,
       "name": "ABC-GAN Model 1 MSE"
      }
     },
     "output_type": "display_data"
    },
    {
     "data": {
      "application/scrapbook.scrap.json+json": {
       "data": 0.5508181972950696,
       "encoder": "json",
       "name": "ABC-GAN Model 1 MAE",
       "version": 1
      }
     },
     "metadata": {
      "scrapbook": {
       "data": true,
       "display": false,
       "name": "ABC-GAN Model 1 MAE"
      }
     },
     "output_type": "display_data"
    },
    {
     "data": {
      "application/scrapbook.scrap.json+json": {
       "data": 11.016363945901395,
       "encoder": "json",
       "name": "ABC-GAN Model 1 Manhattan Distance",
       "version": 1
      }
     },
     "metadata": {
      "scrapbook": {
       "data": true,
       "display": false,
       "name": "ABC-GAN Model 1 Manhattan Distance"
      }
     },
     "output_type": "display_data"
    },
    {
     "data": {
      "application/scrapbook.scrap.json+json": {
       "data": 3.1002432056582236,
       "encoder": "json",
       "name": "ABC-GAN Model 1 Euclidean distance",
       "version": 1
      }
     },
     "metadata": {
      "scrapbook": {
       "data": true,
       "display": false,
       "name": "ABC-GAN Model 1 Euclidean distance"
      }
     },
     "output_type": "display_data"
    },
    {
     "data": {
      "application/scrapbook.scrap.json+json": {
       "data": [
        [
         0.47826162602216515,
         0.48482583303089466,
         0.4782206218432289,
         0.48369801308049676,
         0.4818453575497424,
         0.4811649150886663,
         0.4908477125726785,
         0.4791020041620824,
         0.47814951364297065,
         0.4803387432971623,
         0.4853682521755106,
         0.47690443462907534,
         0.4775135709714725,
         0.48124486257507576,
         0.47531870161149536,
         0.4816233072426465,
         0.48136746101953803,
         0.4820412562190527,
         0.4788635291803409,
         0.4782937325034459,
         0.48140891813920217,
         0.4809725445415687,
         0.47822012183002893,
         0.4814971020174492,
         0.47767405910493643,
         0.48161262613171785,
         0.4850066265884479,
         0.48267131487677084,
         0.48051498894432176,
         0.47732384888994855,
         0.4791196493911051,
         0.48334775682571224,
         0.48329902929163876,
         0.48127955817809875,
         0.4787788756015609,
         0.4826874068025585,
         0.47862010079646833,
         0.4800538146643719,
         0.4800802431424299,
         0.473961948309225,
         0.47454063218878073,
         0.47773346056670274,
         0.4803876912948694,
         0.4821648966392532,
         0.4781197100437865,
         0.48471672875887784,
         0.47994844616041055,
         0.48094450778011916,
         0.4789641348341422,
         0.4802630870803931,
         0.4796611268260766,
         0.478543595196182,
         0.4838849764382244,
         0.4817084833519731,
         0.4820748870522051,
         0.47890051593957494,
         0.47876122246067626,
         0.4783819068168752,
         0.48143304514875657,
         0.48080070961343857,
         0.48039245916732254,
         0.4782371790923518,
         0.480702201609761,
         0.4830885084559222,
         0.4783416416941158,
         0.4774145708275227,
         0.47597962265116706,
         0.4794109377746901,
         0.48634033294502094,
         0.4825576273058731,
         0.48498070842431373,
         0.4820657121520348,
         0.48035378290265396,
         0.4799804122052375,
         0.4769799914240487,
         0.47897387920429757,
         0.4863871799159251,
         0.4836450355981875,
         0.4797418018406917,
         0.4819307849134707,
         0.4813469579569795,
         0.47713105124030253,
         0.48215386198430343,
         0.48408958551861037,
         0.47555072771777873,
         0.47924492502349436,
         0.48208276053987265,
         0.4789110548103599,
         0.48094705688647876,
         0.48534953795478863,
         0.4777693047510462,
         0.48281423961896824,
         0.4821046840740963,
         0.48354487002140206,
         0.48171696379950174,
         0.4802597423651044,
         0.48305213808237457,
         0.4773428784145867,
         0.4826360530055583,
         0.4773336377696924
        ],
        [
         0.5496479079127312,
         0.5521799780428409,
         0.5497919909656048,
         0.5513584777712822,
         0.5518394097685814,
         0.5504168279469013,
         0.5578258529305458,
         0.5500962816178798,
         0.5485696777701378,
         0.5529347933828831,
         0.5534024231135846,
         0.5484055280685425,
         0.5480353780090809,
         0.5520760118961334,
         0.5482704922556877,
         0.5517897710204125,
         0.5512022584676742,
         0.5520309783518315,
         0.5502447351813317,
         0.5494964420795441,
         0.5517335750162602,
         0.5506571725010871,
         0.5500004954636097,
         0.5511462584137916,
         0.5495994880795478,
         0.5508793145418167,
         0.5532703667879104,
         0.5513634040951729,
         0.5506086498498917,
         0.5488981038331986,
         0.5511753290891648,
         0.5527923755347729,
         0.5515068024396896,
         0.5503198303282261,
         0.5488399900496006,
         0.5520208768546582,
         0.5492455065250397,
         0.5505392715334892,
         0.5511963568627835,
         0.549210112541914,
         0.5481215983629226,
         0.5490107960999012,
         0.5517659030854702,
         0.551446870714426,
         0.5496093966066837,
         0.5534076690673828,
         0.5509659379720688,
         0.5506427012383938,
         0.5504142671823502,
         0.5512261018157005,
         0.5510586440563202,
         0.5499540954828263,
         0.5524201184511185,
         0.5505647979676723,
         0.5516123294830322,
         0.5487051665782928,
         0.5492523543536663,
         0.5498021334409714,
         0.552275325357914,
         0.5501969672739506,
         0.549881973862648,
         0.549763023108244,
         0.5517838604748249,
         0.5510891959071159,
         0.5495585642755032,
         0.5489226572215558,
         0.549356946349144,
         0.5504962675273418,
         0.5540670081973076,
         0.5510806247591973,
         0.5519397370517254,
         0.5517948269844055,
         0.551087848097086,
         0.5498563706874847,
         0.549860379844904,
         0.5510800711810588,
         0.5537827461957932,
         0.5530028641223907,
         0.5497387461364269,
         0.5496063828468323,
         0.5511049434542656,
         0.548867043107748,
         0.5507839702069759,
         0.5520566768944264,
         0.5488880552351475,
         0.5506971791386605,
         0.5502738364040851,
         0.5496207520365715,
         0.5502489328384399,
         0.5539938062429428,
         0.5496300414204598,
         0.5527458719909191,
         0.5531857684254646,
         0.5516954198479652,
         0.5521741963922977,
         0.5505763299763202,
         0.5513846963644028,
         0.5484349623322486,
         0.5516291409730911,
         0.5490063399076461
        ],
        [
         10.992958158254623,
         11.04359956085682,
         10.995839819312096,
         11.027169555425644,
         11.036788195371628,
         11.008336558938026,
         11.156517058610916,
         11.001925632357597,
         10.971393555402756,
         11.058695867657661,
         11.06804846227169,
         10.96811056137085,
         10.960707560181618,
         11.041520237922668,
         10.965409845113754,
         11.035795420408249,
         11.024045169353485,
         11.040619567036629,
         11.004894703626633,
         10.989928841590881,
         11.034671500325203,
         11.013143450021744,
         11.000009909272194,
         11.022925168275833,
         10.991989761590958,
         11.017586290836334,
         11.06540733575821,
         11.027268081903458,
         11.012172996997833,
         10.977962076663971,
         11.023506581783295,
         11.055847510695457,
         11.030136048793793,
         11.006396606564522,
         10.976799800992012,
         11.040417537093163,
         10.984910130500793,
         11.010785430669785,
         11.023927137255669,
         10.98420225083828,
         10.962431967258453,
         10.980215921998024,
         11.035318061709404,
         11.02893741428852,
         10.992187932133675,
         11.068153381347656,
         11.019318759441376,
         11.012854024767876,
         11.008285343647003,
         11.02452203631401,
         11.021172881126404,
         10.999081909656525,
         11.04840236902237,
         11.011295959353447,
         11.032246589660645,
         10.974103331565857,
         10.985047087073326,
         10.996042668819427,
         11.04550650715828,
         11.003939345479012,
         10.99763947725296,
         10.995260462164879,
         11.035677209496498,
         11.021783918142319,
         10.991171285510063,
         10.978453144431114,
         10.98713892698288,
         11.009925350546837,
         11.081340163946152,
         11.021612495183945,
         11.038794741034508,
         11.03589653968811,
         11.021756961941719,
         10.997127413749695,
         10.997207596898079,
         11.021601423621178,
         11.075654923915863,
         11.060057282447815,
         10.994774922728539,
         10.992127656936646,
         11.022098869085312,
         10.97734086215496,
         11.015679404139519,
         11.041133537888527,
         10.97776110470295,
         11.013943582773209,
         11.005476728081703,
         10.99241504073143,
         11.004978656768799,
         11.079876124858856,
         10.992600828409195,
         11.054917439818382,
         11.063715368509293,
         11.033908396959305,
         11.043483927845955,
         11.011526599526405,
         11.027693927288055,
         10.968699246644974,
         11.032582819461823,
         10.980126798152924
        ],
        [
         3.092771010023746,
         3.1139230338301385,
         3.0926384264676945,
         3.110299063050036,
         3.1043368295007627,
         3.1021441458728707,
         3.1332019168022938,
         3.0954870510537833,
         3.092408490620121,
         3.0994797734367046,
         3.115664462600267,
         3.088379622485148,
         3.090351342392876,
         3.1024018520336005,
         3.08324083266778,
         3.103621456436485,
         3.102796999545855,
         3.104967813743172,
         3.0947165594940707,
         3.0928748196570965,
         3.102930608760699,
         3.1015239626402007,
         3.092636809682084,
         3.1032147912042736,
         3.090870618789911,
         3.10358704125313,
         3.114503577100042,
         3.106996346559715,
         3.1000483510562273,
         3.0897373638869325,
         3.095544053607072,
         3.1091727415044415,
         3.109016015692549,
         3.1025136846695736,
         3.09444300513537,
         3.1070481386761886,
         3.0939298660327395,
         3.0985603581804626,
         3.098645649771622,
         3.078837275041424,
         3.0807162549925975,
         3.091062796407419,
         3.0996376926823865,
         3.105365990150769,
         3.092312112461439,
         3.1135726384938502,
         3.098220283196179,
         3.1014335645959568,
         3.095041630848096,
         3.0992356705497346,
         3.097292775396206,
         3.093682579697478,
         3.1109001155235583,
         3.10389588534143,
         3.1050761248388263,
         3.094836073007987,
         3.094385956730919,
         3.0931598950486703,
         3.1030083633427625,
         3.100969879290796,
         3.0996530746756887,
         3.092691963621181,
         3.100652194651187,
         3.1083388118283444,
         3.09302971758797,
         3.090030973396618,
         3.0853836800345174,
         3.0964849031593555,
         3.1187828810131073,
         3.106630416724439,
         3.114420358347003,
         3.1050465766298414,
         3.0995282960562043,
         3.098323456985205,
         3.088624261460266,
         3.0950731144976125,
         3.118933086540733,
         3.1101287291627897,
         3.0975532338950744,
         3.104612004465198,
         3.102730919551289,
         3.0891133072139083,
         3.1053304557946917,
         3.1115577626604023,
         3.083993280530224,
         3.095948723811473,
         3.1051014815618267,
         3.094870125903056,
         3.1014417837079535,
         3.1156043970786427,
         3.0911787549446124,
         3.1074563218779705,
         3.1051720856470943,
         3.109806650007045,
         3.1039232071670257,
         3.0992248784659187,
         3.108221800587515,
         3.089798952730053,
         3.1068828526533094,
         3.0897690456397946
        ]
       ],
       "encoder": "json",
       "name": "ABC_GAN_1 Metrics",
       "version": 1
      }
     },
     "metadata": {
      "scrapbook": {
       "data": true,
       "display": false,
       "name": "ABC_GAN_1 Metrics"
      }
     },
     "output_type": "display_data"
    },
    {
     "name": "stdout",
     "output_type": "stream",
     "text": [
      "MSE\n",
      "0.4805794414831653\n"
     ]
    }
   ],
   "source": [
    "ABC_GAN1_metrics=ABC_train_test2.test_generator(gen,test_data,prior_model,variance,bias,\"1\",device)\n",
    "sb.glue(\"ABC_GAN_1 Metrics\",ABC_GAN1_metrics)\n",
    "\n",
    "print(\"MSE\")\n",
    "print(mean(ABC_GAN1_metrics[0]))"
   ]
  },
  {
   "cell_type": "code",
   "execution_count": 14,
   "id": "eb22ce5c",
   "metadata": {
    "execution": {
     "iopub.execute_input": "2022-06-22T11:29:42.023480Z",
     "iopub.status.busy": "2022-06-22T11:29:42.021799Z",
     "iopub.status.idle": "2022-06-22T11:29:42.838557Z",
     "shell.execute_reply": "2022-06-22T11:29:42.839014Z"
    },
    "papermill": {
     "duration": 0.90924,
     "end_time": "2022-06-22T11:29:42.839233",
     "exception": false,
     "start_time": "2022-06-22T11:29:41.929993",
     "status": "completed"
    },
    "tags": []
   },
   "outputs": [
    {
     "data": {
      "image/png": "[encoded data removed]",
      "text/plain": [
       "<Figure size 432x288 with 1 Axes>"
      ]
     },
     "metadata": {
      "needs_background": "light"
     },
     "output_type": "display_data"
    },
    {
     "data": {
      "image/png": "[encoded data removed]",
      "text/plain": [
       "<Figure size 432x288 with 1 Axes>"
      ]
     },
     "metadata": {
      "needs_background": "light"
     },
     "output_type": "display_data"
    },
    {
     "data": {
      "image/png": "[encoded data removed]",
      "text/plain": [
       "<Figure size 432x288 with 1 Axes>"
      ]
     },
     "metadata": {
      "needs_background": "light"
     },
     "output_type": "display_data"
    },
    {
     "data": {
      "image/png": "[encoded data removed]",
      "text/plain": [
       "<Figure size 432x288 with 1 Axes>"
      ]
     },
     "metadata": {
      "needs_background": "light"
     },
     "output_type": "display_data"
    }
   ],
   "source": [
    "sanityChecks.discProbVsError(train_data,disc,device)\n",
    "sanityChecks.discProbVsError(test_data,disc,device)"
   ]
  },
  {
   "cell_type": "markdown",
   "id": "130f3a4d",
   "metadata": {
    "id": "130f3a4d",
    "papermill": {
     "duration": 0.045675,
     "end_time": "2022-06-22T11:29:42.924375",
     "exception": false,
     "start_time": "2022-06-22T11:29:42.878700",
     "status": "completed"
    },
    "tags": []
   },
   "source": [
    "# ABC - GAN Model with skip connection"
   ]
  },
  {
   "cell_type": "code",
   "execution_count": 15,
   "id": "4e43dad1",
   "metadata": {
    "execution": {
     "iopub.execute_input": "2022-06-22T11:29:43.025263Z",
     "iopub.status.busy": "2022-06-22T11:29:43.024379Z",
     "iopub.status.idle": "2022-06-22T11:29:43.026628Z",
     "shell.execute_reply": "2022-06-22T11:29:43.027245Z"
    },
    "id": "4e43dad1",
    "papermill": {
     "duration": 0.060016,
     "end_time": "2022-06-22T11:29:43.027472",
     "exception": false,
     "start_time": "2022-06-22T11:29:42.967456",
     "status": "completed"
    },
    "tags": []
   },
   "outputs": [],
   "source": [
    "#Generator\n",
    "gen3 = network.GeneratorWithSkipConnection(n_features+1).to(device)\n",
    "constraints=network.weightConstraint()\n",
    "#Discriminator \n",
    "disc3 = network.Discriminator(n_features+1).to(device)\n",
    "\n",
    "criterion = torch.nn.BCELoss()\n",
    "gen_opt = torch.optim.Adam(gen3.parameters(), lr=0.001, betas=(0.5, 0.999))\n",
    "disc_opt = torch.optim.Adam(disc3.parameters(), lr=0.001, betas=(0.5, 0.999))\n"
   ]
  },
  {
   "cell_type": "code",
   "execution_count": 16,
   "id": "26acbc37",
   "metadata": {
    "execution": {
     "iopub.execute_input": "2022-06-22T11:29:43.129596Z",
     "iopub.status.busy": "2022-06-22T11:29:43.128664Z",
     "iopub.status.idle": "2022-06-22T11:31:19.389370Z",
     "shell.execute_reply": "2022-06-22T11:31:19.389850Z"
    },
    "id": "26acbc37",
    "papermill": {
     "duration": 96.318158,
     "end_time": "2022-06-22T11:31:19.390195",
     "exception": false,
     "start_time": "2022-06-22T11:29:43.072037",
     "status": "completed"
    },
    "tags": []
   },
   "outputs": [
    {
     "data": {
      "image/png": "[encoded data removed]",
      "text/plain": [
       "<Figure size 432x288 with 1 Axes>"
      ]
     },
     "metadata": {
      "needs_background": "light"
     },
     "output_type": "display_data"
    },
    {
     "data": {
      "image/png": "[encoded data removed]",
      "text/plain": [
       "<Figure size 432x288 with 1 Axes>"
      ]
     },
     "metadata": {
      "needs_background": "light"
     },
     "output_type": "display_data"
    }
   ],
   "source": [
    "ABC_train_test2.training_GAN_skip_connection(disc3,gen3,disc_opt,gen_opt,train_data,batch_size,n_epochs,criterion,prior_model,variance,bias,device)"
   ]
  },
  {
   "cell_type": "code",
   "execution_count": 17,
   "id": "c5e0717b",
   "metadata": {
    "execution": {
     "iopub.execute_input": "2022-06-22T11:31:19.504771Z",
     "iopub.status.busy": "2022-06-22T11:31:19.499427Z",
     "iopub.status.idle": "2022-06-22T11:31:20.512136Z",
     "shell.execute_reply": "2022-06-22T11:31:20.515053Z"
    },
    "id": "c5e0717b",
    "papermill": {
     "duration": 1.079034,
     "end_time": "2022-06-22T11:31:20.515456",
     "exception": false,
     "start_time": "2022-06-22T11:31:19.436422",
     "status": "completed"
    },
    "tags": []
   },
   "outputs": [
    {
     "data": {
      "application/scrapbook.scrap.json+json": {
       "data": 0.5623959414103781,
       "encoder": "json",
       "name": "ABC-GAN Model 3 MSE",
       "version": 1
      }
     },
     "metadata": {
      "scrapbook": {
       "data": true,
       "display": false,
       "name": "ABC-GAN Model 3 MSE"
      }
     },
     "output_type": "display_data"
    },
    {
     "data": {
      "application/scrapbook.scrap.json+json": {
       "data": 0.6052330855876207,
       "encoder": "json",
       "name": "ABC-GAN Model 3 MAE",
       "version": 1
      }
     },
     "metadata": {
      "scrapbook": {
       "data": true,
       "display": false,
       "name": "ABC-GAN Model 3 MAE"
      }
     },
     "output_type": "display_data"
    },
    {
     "data": {
      "application/scrapbook.scrap.json+json": {
       "data": 12.104661711752415,
       "encoder": "json",
       "name": "ABC-GAN Model 3 Manhattan Distance",
       "version": 1
      }
     },
     "metadata": {
      "scrapbook": {
       "data": true,
       "display": false,
       "name": "ABC-GAN Model 3 Manhattan Distance"
      }
     },
     "output_type": "display_data"
    },
    {
     "data": {
      "application/scrapbook.scrap.json+json": {
       "data": 3.3537779765841496,
       "encoder": "json",
       "name": "ABC-GAN Model 3 Euclidean distance",
       "version": 1
      }
     },
     "metadata": {
      "scrapbook": {
       "data": true,
       "display": false,
       "name": "ABC-GAN Model 3 Euclidean distance"
      }
     },
     "output_type": "display_data"
    },
    {
     "data": {
      "application/scrapbook.scrap.json+json": {
       "data": [
        [
         0.5580157477178453,
         0.5596205882085503,
         0.5637966222050652,
         0.5590355761338021,
         0.5621957879314241,
         0.5628109852809476,
         0.5610068233946437,
         0.5595518162632624,
         0.5622128845242634,
         0.5679207758133733,
         0.5607713415610526,
         0.5620862636041407,
         0.5552272569876904,
         0.566875150717584,
         0.5630726117827904,
         0.5655824571907999,
         0.5593966605236179,
         0.5615997164093889,
         0.5683254316269857,
         0.5626843904871779,
         0.5610490571579455,
         0.5584044973899462,
         0.5646032931687645,
         0.5604995751139908,
         0.5611061278288931,
         0.5630123169680428,
         0.5602242529918824,
         0.5633706977405186,
         0.5643269879387821,
         0.5668137952854686,
         0.5635505640805965,
         0.56342120118323,
         0.5543595117306997,
         0.565142684334392,
         0.5642737032782904,
         0.5620622986681207,
         0.5696061119229514,
         0.5607795839563282,
         0.5589281846917104,
         0.5626335574097471,
         0.5612998322951235,
         0.5654931729020445,
         0.5572593705784687,
         0.5588897083862456,
         0.5626229405269731,
         0.5641166067809269,
         0.5632672162511076,
         0.557385459236379,
         0.5644728619098733,
         0.5640948069354172,
         0.5614937598314201,
         0.5580081374951377,
         0.561540675178662,
         0.558905314333008,
         0.5599271642944516,
         0.5664135094923697,
         0.5674794855798153,
         0.5613927018080591,
         0.564428881102458,
         0.5689911643986486,
         0.5624385659524507,
         0.5647445246243891,
         0.5629947598203797,
         0.5621289373898369,
         0.5654463480505578,
         0.5544990214829939,
         0.5727500566925163,
         0.5604799875702777,
         0.560776664461099,
         0.5612074281767194,
         0.5612486644837364,
         0.5621842483796305,
         0.5640248868918505,
         0.5631918618102361,
         0.5648607205662108,
         0.563184319398971,
         0.5699804683732884,
         0.5656136036551229,
         0.562663230643936,
         0.5592406633094965,
         0.5621411864267362,
         0.5622496687469318,
         0.5553335863835207,
         0.5613729390410835,
         0.5629290777961309,
         0.5640385121178209,
         0.5610684531617732,
         0.5632392919323191,
         0.5608075862401001,
         0.56014599105744,
         0.5623251698348201,
         0.559907630846633,
         0.5623710425176796,
         0.5644482835473422,
         0.5645609112831455,
         0.5647997378755105,
         0.5588847319884588,
         0.5670623474774661,
         0.5605585521586747,
         0.5602508183492272
        ],
        [
         0.6021286159753799,
         0.603545005619526,
         0.6049191579222679,
         0.6031747832894325,
         0.6062632888555527,
         0.6059336185455322,
         0.6025611385703087,
         0.6016025871038437,
         0.6059728860855103,
         0.6076033636927605,
         0.6057886421680451,
         0.6061214253306388,
         0.600626540184021,
         0.6073922142386436,
         0.6053345710039139,
         0.6063030257821083,
         0.6031396150588989,
         0.6061213746666908,
         0.6050604209303856,
         0.605934226512909,
         0.6062238290905952,
         0.6026975929737091,
         0.6061850547790527,
         0.6046777307987213,
         0.6051463901996612,
         0.6056697338819503,
         0.6054101154208184,
         0.6054905310273171,
         0.6071612119674683,
         0.6080089166760445,
         0.6055698394775391,
         0.6072223961353302,
         0.6013917058706284,
         0.6089289829134941,
         0.6059144839644433,
         0.6051931127905845,
         0.6087193056941033,
         0.6031756639480591,
         0.6064967229962349,
         0.6066555812954902,
         0.6067926183342933,
         0.6054529100656509,
         0.6042637750506401,
         0.6026117354631424,
         0.60377037525177,
         0.6055241897702217,
         0.6060394749045372,
         0.6033645525574685,
         0.606403911113739,
         0.6059414714574813,
         0.6072077661752701,
         0.604280249774456,
         0.6057578057050705,
         0.6056362435221672,
         0.6040019273757935,
         0.6056238323450088,
         0.6085458144545555,
         0.603066448867321,
         0.6037617743015289,
         0.6080037817358971,
         0.6050969332456588,
         0.60479826182127,
         0.6055539846420288,
         0.6076627805829048,
         0.6085499703884125,
         0.6003388315439224,
         0.6102857530117035,
         0.6050143599510193,
         0.6072226390242577,
         0.6036791056394577,
         0.6039463400840759,
         0.6071244731545449,
         0.60462666451931,
         0.6062651395797729,
         0.6044280707836152,
         0.6050483629107475,
         0.6059261053800583,
         0.6043579027056694,
         0.6041991755366325,
         0.6035789579153061,
         0.6026454046368599,
         0.604419207572937,
         0.6015969321131707,
         0.6051771640777588,
         0.6059245020151138,
         0.6053433567285538,
         0.6030854344367981,
         0.6053143203258514,
         0.6052546739578247,
         0.6037131071090698,
         0.6060258373618126,
         0.6026176333427429,
         0.6080861940979958,
         0.6043732345104218,
         0.6056173220276833,
         0.6077471509575844,
         0.6037374958395958,
         0.6086399763822555,
         0.6060365378856659,
         0.6027331992983818
        ],
        [
         12.042572319507599,
         12.070900112390518,
         12.098383158445358,
         12.06349566578865,
         12.125265777111053,
         12.118672370910645,
         12.051222771406174,
         12.032051742076874,
         12.119457721710205,
         12.15206727385521,
         12.1157728433609,
         12.122428506612778,
         12.01253080368042,
         12.147844284772873,
         12.106691420078278,
         12.126060515642166,
         12.062792301177979,
         12.122427493333817,
         12.101208418607712,
         12.118684530258179,
         12.124476581811905,
         12.053951859474182,
         12.123701095581055,
         12.093554615974426,
         12.102927803993225,
         12.113394677639008,
         12.108202308416367,
         12.109810620546341,
         12.143224239349365,
         12.16017833352089,
         12.111396789550781,
         12.144447922706604,
         12.027834117412567,
         12.178579658269882,
         12.118289679288864,
         12.103862255811691,
         12.174386113882065,
         12.063513278961182,
         12.129934459924698,
         12.133111625909805,
         12.135852366685867,
         12.109058201313019,
         12.085275501012802,
         12.052234709262848,
         12.0754075050354,
         12.110483795404434,
         12.120789498090744,
         12.067291051149368,
         12.12807822227478,
         12.118829429149628,
         12.144155323505402,
         12.08560499548912,
         12.11515611410141,
         12.112724870443344,
         12.08003854751587,
         12.112476646900177,
         12.17091628909111,
         12.06132897734642,
         12.075235486030579,
         12.160075634717941,
         12.101938664913177,
         12.0959652364254,
         12.111079692840576,
         12.153255611658096,
         12.17099940776825,
         12.006776630878448,
         12.20571506023407,
         12.100287199020386,
         12.144452780485153,
         12.073582112789154,
         12.078926801681519,
         12.142489463090897,
         12.0925332903862,
         12.125302791595459,
         12.088561415672302,
         12.10096725821495,
         12.118522107601166,
         12.087158054113388,
         12.08398351073265,
         12.071579158306122,
         12.052908092737198,
         12.08838415145874,
         12.031938642263412,
         12.103543281555176,
         12.118490040302277,
         12.106867134571075,
         12.061708688735962,
         12.106286406517029,
         12.105093479156494,
         12.074262142181396,
         12.120516747236252,
         12.052352666854858,
         12.161723881959915,
         12.087464690208435,
         12.112346440553665,
         12.154943019151688,
         12.074749916791916,
         12.172799527645111,
         12.120730757713318,
         12.054663985967636
        ],
        [
         3.3407057569257583,
         3.345506204473548,
         3.35796552157721,
         3.3437570968412222,
         3.35319485843404,
         3.3550290171053594,
         3.349647215438198,
         3.3453006330171955,
         3.353245844027137,
         3.370224846544733,
         3.3489441367722232,
         3.3528682157345244,
         3.332348292083798,
         3.367120879082258,
         3.355808730493412,
         3.3632795221057674,
         3.3448367987799283,
         3.3514167643233774,
         3.3714253117249555,
         3.3546516674229467,
         3.3497732972783263,
         3.341869229607724,
         3.360366923919959,
         3.348132539533018,
         3.349943664687193,
         3.3556290527054466,
         3.347310123044718,
         3.35669688158022,
         3.359544576095939,
         3.3669386548776576,
         3.357232682077894,
         3.3568473339823783,
         3.3297432685740196,
         3.361971696294875,
         3.3593859655546887,
         3.352796739046734,
         3.375221805816475,
         3.348968748604048,
         3.3434359114291703,
         3.3545001338791063,
         3.350521846802744,
         3.363014043687729,
         3.3384408653695474,
         3.343320829314009,
         3.354468484058162,
         3.3589182984434944,
         3.3563885837343315,
         3.3388185312663494,
         3.359978755616986,
         3.3588533964298506,
         3.3511005948237957,
         3.3406829765637376,
         3.3512405917172288,
         3.343367506969606,
         3.3464224607614965,
         3.365749573252204,
         3.3689152128832665,
         3.3507990145875928,
         3.3598478569794135,
         3.373399366806867,
         3.3539188003064435,
         3.3607871834568432,
         3.3555767308180564,
         3.3529954887826405,
         3.3628748060270035,
         3.330162222724274,
         3.3845237676592443,
         3.3480740361296606,
         3.348960030997978,
         3.350246045223304,
         3.350369127376076,
         3.3531604446540597,
         3.3586452235740842,
         3.3561640657460003,
         3.361132905929817,
         3.3561415923615945,
         3.376330755045448,
         3.363372128252011,
         3.3545885907035933,
         3.344370384121641,
         3.353032020207192,
         3.353355539595919,
         3.3326673592890144,
         3.350740034801517,
         3.355380985212054,
         3.358685790954018,
         3.349831199215188,
         3.356305385188657,
         3.3490523622066584,
         3.3470763094301867,
         3.353580682896477,
         3.346364089117121,
         3.353717467282179,
         3.3599056044696916,
         3.360240798761736,
         3.3609514661045328,
         3.343305944685466,
         3.3676767881655922,
         3.34830868397367,
         3.3473894854026987
        ]
       ],
       "encoder": "json",
       "name": "ABC_GAN_3 Metrics",
       "version": 1
      }
     },
     "metadata": {
      "scrapbook": {
       "data": true,
       "display": false,
       "name": "ABC_GAN_3 Metrics"
      }
     },
     "output_type": "display_data"
    },
    {
     "name": "stdout",
     "output_type": "stream",
     "text": [
      "MSE\n",
      "0.5623959414103781\n"
     ]
    }
   ],
   "source": [
    "ABC_GAN3_metrics=ABC_train_test2.test_generator(gen3,test_data,prior_model,variance,bias,\"3\",device)\n",
    "sb.glue(\"ABC_GAN_3 Metrics\",ABC_GAN3_metrics)\n",
    "\n",
    "print(\"MSE\")\n",
    "print(mean(ABC_GAN3_metrics[0]))"
   ]
  },
  {
   "cell_type": "code",
   "execution_count": 18,
   "id": "c8e46b48",
   "metadata": {
    "execution": {
     "iopub.execute_input": "2022-06-22T11:31:20.695125Z",
     "iopub.status.busy": "2022-06-22T11:31:20.694370Z",
     "iopub.status.idle": "2022-06-22T11:31:21.694027Z",
     "shell.execute_reply": "2022-06-22T11:31:21.694696Z"
    },
    "id": "c8e46b48",
    "papermill": {
     "duration": 1.113679,
     "end_time": "2022-06-22T11:31:21.694923",
     "exception": false,
     "start_time": "2022-06-22T11:31:20.581244",
     "status": "completed"
    },
    "tags": []
   },
   "outputs": [
    {
     "data": {
      "image/png": "[encoded data removed]",
      "text/plain": [
       "<Figure size 432x288 with 1 Axes>"
      ]
     },
     "metadata": {
      "needs_background": "light"
     },
     "output_type": "display_data"
    },
    {
     "data": {
      "image/png": "[encoded data removed]",
      "text/plain": [
       "<Figure size 432x288 with 1 Axes>"
      ]
     },
     "metadata": {
      "needs_background": "light"
     },
     "output_type": "display_data"
    },
    {
     "data": {
      "image/png": "[encoded data removed]",
      "text/plain": [
       "<Figure size 432x288 with 1 Axes>"
      ]
     },
     "metadata": {
      "needs_background": "light"
     },
     "output_type": "display_data"
    },
    {
     "data": {
      "image/png": "[encoded data removed]",
      "text/plain": [
       "<Figure size 432x288 with 1 Axes>"
      ]
     },
     "metadata": {
      "needs_background": "light"
     },
     "output_type": "display_data"
    }
   ],
   "source": [
    "sanityChecks.discProbVsError(train_data,disc3,device)\n",
    "sanityChecks.discProbVsError(test_data,disc3,device)"
   ]
  },
  {
   "cell_type": "markdown",
   "id": "a5bd74c3",
   "metadata": {
    "id": "a5bd74c3",
    "papermill": {
     "duration": 0.068904,
     "end_time": "2022-06-22T11:31:21.816774",
     "exception": false,
     "start_time": "2022-06-22T11:31:21.747870",
     "status": "completed"
    },
    "tags": []
   },
   "source": [
    "## Skip Connection Model Analysis - ABC-GAN "
   ]
  },
  {
   "cell_type": "markdown",
   "id": "5744a8bf",
   "metadata": {
    "id": "5744a8bf",
    "papermill": {
     "duration": 0.057608,
     "end_time": "2022-06-22T11:31:21.931684",
     "exception": false,
     "start_time": "2022-06-22T11:31:21.874076",
     "status": "completed"
    },
    "tags": []
   },
   "source": [
    "### Weight Analysis \n",
    "\n",
    "Study the weights of the skip connection layer\n",
    "\n",
    "Equation of the skip connection is \n",
    "\n",
    "$output = y_{gan} * w + y_{abc} * (1-w)$"
   ]
  },
  {
   "cell_type": "code",
   "execution_count": 19,
   "id": "52c31dea",
   "metadata": {
    "execution": {
     "iopub.execute_input": "2022-06-22T11:31:22.062731Z",
     "iopub.status.busy": "2022-06-22T11:31:22.061989Z",
     "iopub.status.idle": "2022-06-22T11:31:22.070232Z",
     "shell.execute_reply": "2022-06-22T11:31:22.071050Z"
    },
    "id": "52c31dea",
    "papermill": {
     "duration": 0.084067,
     "end_time": "2022-06-22T11:31:22.071283",
     "exception": false,
     "start_time": "2022-06-22T11:31:21.987216",
     "status": "completed"
    },
    "tags": []
   },
   "outputs": [
    {
     "name": "stdout",
     "output_type": "stream",
     "text": [
      "Weight of the node at skip connection\n",
      "Parameter containing:\n",
      "tensor([[0.3266]], requires_grad=True)\n"
     ]
    },
    {
     "data": {
      "application/scrapbook.scrap.json+json": {
       "data": 0.326557993888855,
       "encoder": "json",
       "name": "Skip Connection Weight",
       "version": 1
      }
     },
     "metadata": {
      "scrapbook": {
       "data": true,
       "display": false,
       "name": "Skip Connection Weight"
      }
     },
     "output_type": "display_data"
    }
   ],
   "source": [
    "print(\"Weight of the node at skip connection\")\n",
    "for name,param in gen3.named_parameters():\n",
    "    if(name == \"skipNode.weight\"):\n",
    "        print(param)\n",
    "        sb.glue(\"Skip Connection Weight\",param.item())"
   ]
  }
 ],
 "metadata": {
  "colab": {
   "collapsed_sections": [],
   "name": "ABC_GAN_Model-Catboost_Pre-gen.ipynb",
   "provenance": []
  },
  "interpreter": {
   "hash": "31f2aee4e71d21fbe5cf8b01ff0e069b9275f58929596ceb00d14d90e3e16cd6"
  },
  "kernelspec": {
   "display_name": "Python 3 (ipykernel)",
   "language": "python",
   "name": "python3"
  },
  "language_info": {
   "codemirror_mode": {
    "name": "ipython",
    "version": 3
   },
   "file_extension": ".py",
   "mimetype": "text/x-python",
   "name": "python",
   "nbconvert_exporter": "python",
   "pygments_lexer": "ipython3",
   "version": "3.8.3"
  },
  "papermill": {
   "default_parameters": {},
   "duration": 177.513472,
   "end_time": "2022-06-22T11:31:23.995773",
   "environment_variables": {},
   "exception": null,
   "input_path": "ABC_GAN-TabNet.ipynb",
   "output_path": "./ABC_GAN_TabNet/ABC-GAN_output_1_2.ipynb",
   "parameters": {
    "bias": 1,
    "variance": 0.01
   },
   "start_time": "2022-06-22T11:28:26.482301",
   "version": "2.3.3"
  }
 },
 "nbformat": 4,
 "nbformat_minor": 5
}