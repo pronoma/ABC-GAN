{
 "cells": [
  {
   "cell_type": "markdown",
   "id": "622780e6",
   "metadata": {
    "id": "622780e6",
    "papermill": {
     "duration": 0.043317,
     "end_time": "2022-06-22T14:44:20.306078",
     "exception": false,
     "start_time": "2022-06-22T14:44:20.262761",
     "status": "completed"
    },
    "tags": []
   },
   "source": [
    "## Import Libraries "
   ]
  },
  {
   "cell_type": "code",
   "execution_count": 1,
   "id": "a62397e3",
   "metadata": {
    "execution": {
     "iopub.execute_input": "2022-06-22T14:44:20.378198Z",
     "iopub.status.busy": "2022-06-22T14:44:20.375795Z",
     "iopub.status.idle": "2022-06-22T14:44:20.379199Z",
     "shell.execute_reply": "2022-06-22T14:44:20.379755Z"
    },
    "id": "a62397e3",
    "papermill": {
     "duration": 0.04011,
     "end_time": "2022-06-22T14:44:20.380406",
     "exception": false,
     "start_time": "2022-06-22T14:44:20.340296",
     "status": "completed"
    },
    "tags": []
   },
   "outputs": [],
   "source": [
    "import warnings\n",
    "import sys\n",
    "sys.path.insert(0, '../../src')\n",
    "warnings.filterwarnings('ignore')"
   ]
  },
  {
   "cell_type": "code",
   "execution_count": 2,
   "id": "d6a4e155",
   "metadata": {
    "execution": {
     "iopub.execute_input": "2022-06-22T14:44:20.421699Z",
     "iopub.status.busy": "2022-06-22T14:44:20.420782Z",
     "iopub.status.idle": "2022-06-22T14:44:28.002420Z",
     "shell.execute_reply": "2022-06-22T14:44:28.003101Z"
    },
    "id": "d6a4e155",
    "papermill": {
     "duration": 7.602589,
     "end_time": "2022-06-22T14:44:28.003366",
     "exception": false,
     "start_time": "2022-06-22T14:44:20.400777",
     "status": "completed"
    },
    "tags": []
   },
   "outputs": [],
   "source": [
    "import ABC_train_test2\n",
    "import friedman3Dataset\n",
    "import network\n",
    "import dataset\n",
    "import sanityChecks\n",
    "import torch \n",
    "import scrapbook as sb\n",
    "from statistics import mean \n",
    "import catboost as ctb \n",
    "from sklearn.model_selection import train_test_split\n",
    "from sklearn.metrics import mean_squared_error,mean_absolute_error\n",
    "import numpy as np\n",
    "from pytorch_tabnet.tab_model import TabNetRegressor"
   ]
  },
  {
   "cell_type": "markdown",
   "id": "2fa5b0f7",
   "metadata": {
    "id": "2fa5b0f7",
    "papermill": {
     "duration": 0.033956,
     "end_time": "2022-06-22T14:44:28.066946",
     "exception": false,
     "start_time": "2022-06-22T14:44:28.032990",
     "status": "completed"
    },
    "tags": []
   },
   "source": [
    "## Parameters "
   ]
  },
  {
   "cell_type": "code",
   "execution_count": 3,
   "id": "783186fb",
   "metadata": {
    "execution": {
     "iopub.execute_input": "2022-06-22T14:44:28.197617Z",
     "iopub.status.busy": "2022-06-22T14:44:28.190063Z",
     "iopub.status.idle": "2022-06-22T14:44:28.203187Z",
     "shell.execute_reply": "2022-06-22T14:44:28.191920Z"
    },
    "id": "783186fb",
    "papermill": {
     "duration": 0.110119,
     "end_time": "2022-06-22T14:44:28.207020",
     "exception": false,
     "start_time": "2022-06-22T14:44:28.096901",
     "status": "completed"
    },
    "tags": [
     "parameters"
    ]
   },
   "outputs": [],
   "source": [
    "variance = 1\n",
    "bias = 1 "
   ]
  },
  {
   "cell_type": "code",
   "execution_count": 4,
   "id": "1458fb43",
   "metadata": {
    "execution": {
     "iopub.execute_input": "2022-06-22T14:44:28.339724Z",
     "iopub.status.busy": "2022-06-22T14:44:28.334395Z",
     "iopub.status.idle": "2022-06-22T14:44:28.347021Z",
     "shell.execute_reply": "2022-06-22T14:44:28.351050Z"
    },
    "papermill": {
     "duration": 0.077751,
     "end_time": "2022-06-22T14:44:28.352188",
     "exception": false,
     "start_time": "2022-06-22T14:44:28.274437",
     "status": "completed"
    },
    "tags": [
     "injected-parameters"
    ]
   },
   "outputs": [],
   "source": [
    "# Parameters\n",
    "variance = 1\n",
    "bias = 1\n"
   ]
  },
  {
   "cell_type": "markdown",
   "id": "391cdbfd",
   "metadata": {
    "id": "391cdbfd",
    "papermill": {
     "duration": 0.042515,
     "end_time": "2022-06-22T14:44:28.424267",
     "exception": false,
     "start_time": "2022-06-22T14:44:28.381752",
     "status": "completed"
    },
    "tags": []
   },
   "source": [
    "## Dataset \n"
   ]
  },
  {
   "cell_type": "code",
   "execution_count": 5,
   "id": "5b51f161",
   "metadata": {
    "execution": {
     "iopub.execute_input": "2022-06-22T14:44:28.495725Z",
     "iopub.status.busy": "2022-06-22T14:44:28.494706Z",
     "iopub.status.idle": "2022-06-22T14:44:28.497230Z",
     "shell.execute_reply": "2022-06-22T14:44:28.498200Z"
    },
    "id": "5b51f161",
    "papermill": {
     "duration": 0.038365,
     "end_time": "2022-06-22T14:44:28.498466",
     "exception": false,
     "start_time": "2022-06-22T14:44:28.460101",
     "status": "completed"
    },
    "tags": []
   },
   "outputs": [],
   "source": [
    "#Parameters \n",
    "n_features = 4\n",
    "n_samples= 100\n",
    "n_target = 1"
   ]
  },
  {
   "cell_type": "code",
   "execution_count": 6,
   "id": "5d6eced4",
   "metadata": {
    "execution": {
     "iopub.execute_input": "2022-06-22T14:44:28.584954Z",
     "iopub.status.busy": "2022-06-22T14:44:28.582652Z",
     "iopub.status.idle": "2022-06-22T14:44:28.588306Z",
     "shell.execute_reply": "2022-06-22T14:44:28.587574Z"
    },
    "id": "5d6eced4",
    "papermill": {
     "duration": 0.070099,
     "end_time": "2022-06-22T14:44:28.588541",
     "exception": false,
     "start_time": "2022-06-22T14:44:28.518442",
     "status": "completed"
    },
    "tags": []
   },
   "outputs": [
    {
     "name": "stdout",
     "output_type": "stream",
     "text": [
      "          X1           X2        X3         X4         Y\n",
      "0  34.577863   563.649841  0.346853   8.226788  1.458241\n",
      "1  46.024712  1120.188722  0.997012   2.460179  1.592723\n",
      "2  27.178711   850.416446  0.856046   9.512756  1.517250\n",
      "3  52.066645   636.273649  0.806801  10.974413  1.539420\n",
      "4  81.717034   842.652539  0.731774   4.366139  1.438509\n"
     ]
    }
   ],
   "source": [
    "X,Y = friedman3Dataset.friedman3_data(n_samples)"
   ]
  },
  {
   "cell_type": "code",
   "execution_count": 7,
   "id": "fe007438",
   "metadata": {
    "execution": {
     "iopub.execute_input": "2022-06-22T14:44:28.683955Z",
     "iopub.status.busy": "2022-06-22T14:44:28.683110Z",
     "iopub.status.idle": "2022-06-22T14:44:28.684767Z",
     "shell.execute_reply": "2022-06-22T14:44:28.682446Z"
    },
    "id": "fe007438",
    "papermill": {
     "duration": 0.064785,
     "end_time": "2022-06-22T14:44:28.685039",
     "exception": false,
     "start_time": "2022-06-22T14:44:28.620254",
     "status": "completed"
    },
    "tags": []
   },
   "outputs": [],
   "source": [
    "#Train test split for dataset \n",
    "X_train,X_test,Y_train,Y_test = train_test_split(X,Y,test_size = 0.2)\n",
    "train_data = dataset.CustomDataset(X_train,Y_train)\n",
    "test_data = dataset.CustomDataset(X_test,Y_test)\n"
   ]
  },
  {
   "cell_type": "markdown",
   "id": "a9a1af34",
   "metadata": {
    "id": "a9a1af34",
    "papermill": {
     "duration": 0.02229,
     "end_time": "2022-06-22T14:44:28.729861",
     "exception": false,
     "start_time": "2022-06-22T14:44:28.707571",
     "status": "completed"
    },
    "tags": []
   },
   "source": [
    "## Training Parameters "
   ]
  },
  {
   "cell_type": "code",
   "execution_count": 8,
   "id": "952b7fc8",
   "metadata": {
    "execution": {
     "iopub.execute_input": "2022-06-22T14:44:28.788527Z",
     "iopub.status.busy": "2022-06-22T14:44:28.786420Z",
     "iopub.status.idle": "2022-06-22T14:44:28.791109Z",
     "shell.execute_reply": "2022-06-22T14:44:28.792203Z"
    },
    "id": "952b7fc8",
    "papermill": {
     "duration": 0.042752,
     "end_time": "2022-06-22T14:44:28.792900",
     "exception": false,
     "start_time": "2022-06-22T14:44:28.750148",
     "status": "completed"
    },
    "tags": []
   },
   "outputs": [],
   "source": [
    "batch_size = 32\n",
    "n_epochs = 1000\n",
    "#Select the device \n",
    "device = torch.device('cuda' if torch.cuda.is_available() else 'cpu')"
   ]
  },
  {
   "cell_type": "markdown",
   "id": "a95e1600",
   "metadata": {
    "id": "a95e1600",
    "papermill": {
     "duration": 0.020392,
     "end_time": "2022-06-22T14:44:28.835907",
     "exception": false,
     "start_time": "2022-06-22T14:44:28.815515",
     "status": "completed"
    },
    "tags": []
   },
   "source": [
    "# ABC Pre-generator Model \n",
    "\n",
    "1. The catboost model is used as a pre-generator model for the ABC-GAN. \n",
    "2. The model is first trained on the entire dataset \n",
    "3. It generats X,Y pairs and we add some Gaussian noise with mean 0 and variance 1 to it which is then feed as input to the generator.\n"
   ]
  },
  {
   "cell_type": "code",
   "execution_count": 9,
   "id": "ff8ce7bd",
   "metadata": {
    "execution": {
     "iopub.execute_input": "2022-06-22T14:44:28.891003Z",
     "iopub.status.busy": "2022-06-22T14:44:28.889979Z",
     "iopub.status.idle": "2022-06-22T14:44:52.772794Z",
     "shell.execute_reply": "2022-06-22T14:44:52.773431Z"
    },
    "id": "ff8ce7bd",
    "papermill": {
     "duration": 23.916285,
     "end_time": "2022-06-22T14:44:52.773645",
     "exception": false,
     "start_time": "2022-06-22T14:44:28.857360",
     "status": "completed"
    },
    "tags": []
   },
   "outputs": [
    {
     "name": "stdout",
     "output_type": "stream",
     "text": [
      "Device used : cpu\n"
     ]
    },
    {
     "name": "stdout",
     "output_type": "stream",
     "text": [
      "epoch 0  | loss: 1.27055 | train_mse: 4.79103 | train_mae: 1.67797 |  0:00:00s\n",
      "epoch 1  | loss: 0.8096  | train_mse: 4.49434 | train_mae: 1.6684  |  0:00:00s\n"
     ]
    },
    {
     "name": "stdout",
     "output_type": "stream",
     "text": [
      "epoch 2  | loss: 0.52037 | train_mse: 4.61631 | train_mae: 1.66635 |  0:00:00s\n",
      "epoch 3  | loss: 0.61821 | train_mse: 3.11424 | train_mae: 1.37349 |  0:00:00s\n"
     ]
    },
    {
     "name": "stdout",
     "output_type": "stream",
     "text": [
      "epoch 4  | loss: 0.47925 | train_mse: 3.59577 | train_mae: 1.38174 |  0:00:01s\n",
      "epoch 5  | loss: 0.39073 | train_mse: 3.55131 | train_mae: 1.37894 |  0:00:01s\n"
     ]
    },
    {
     "name": "stdout",
     "output_type": "stream",
     "text": [
      "epoch 6  | loss: 0.43741 | train_mse: 3.31531 | train_mae: 1.30767 |  0:00:01s\n",
      "epoch 7  | loss: 0.40265 | train_mse: 2.93102 | train_mae: 1.25528 |  0:00:01s\n"
     ]
    },
    {
     "name": "stdout",
     "output_type": "stream",
     "text": [
      "epoch 8  | loss: 0.29616 | train_mse: 2.57924 | train_mae: 1.19206 |  0:00:01s\n",
      "epoch 9  | loss: 0.36414 | train_mse: 1.46086 | train_mae: 0.91493 |  0:00:01s\n",
      "epoch 10 | loss: 0.50466 | train_mse: 0.88273 | train_mae: 0.71316 |  0:00:01s\n"
     ]
    },
    {
     "name": "stdout",
     "output_type": "stream",
     "text": [
      "epoch 11 | loss: 0.33842 | train_mse: 0.89678 | train_mae: 0.67912 |  0:00:02s\n",
      "epoch 12 | loss: 0.42479 | train_mse: 0.70208 | train_mae: 0.62025 |  0:00:02s\n",
      "epoch 13 | loss: 0.30192 | train_mse: 0.72259 | train_mae: 0.60637 |  0:00:02s\n"
     ]
    },
    {
     "name": "stdout",
     "output_type": "stream",
     "text": [
      "epoch 14 | loss: 0.16382 | train_mse: 0.55721 | train_mae: 0.54578 |  0:00:02s\n",
      "epoch 15 | loss: 0.19113 | train_mse: 0.4672  | train_mae: 0.47669 |  0:00:02s\n",
      "epoch 16 | loss: 0.22822 | train_mse: 0.63963 | train_mae: 0.55986 |  0:00:02s\n"
     ]
    },
    {
     "name": "stdout",
     "output_type": "stream",
     "text": [
      "epoch 17 | loss: 0.41763 | train_mse: 0.66106 | train_mae: 0.58365 |  0:00:02s\n"
     ]
    },
    {
     "name": "stdout",
     "output_type": "stream",
     "text": [
      "epoch 18 | loss: 0.28026 | train_mse: 0.7618  | train_mae: 0.60555 |  0:00:02s\n"
     ]
    },
    {
     "name": "stdout",
     "output_type": "stream",
     "text": [
      "epoch 19 | loss: 0.14842 | train_mse: 0.48867 | train_mae: 0.47919 |  0:00:03s\n"
     ]
    },
    {
     "name": "stdout",
     "output_type": "stream",
     "text": [
      "epoch 20 | loss: 0.1106  | train_mse: 0.23696 | train_mae: 0.3483  |  0:00:03s\n",
      "epoch 21 | loss: 0.25789 | train_mse: 0.18315 | train_mae: 0.30034 |  0:00:03s\n"
     ]
    },
    {
     "name": "stdout",
     "output_type": "stream",
     "text": [
      "epoch 22 | loss: 0.24904 | train_mse: 0.35515 | train_mae: 0.41282 |  0:00:03s\n",
      "epoch 23 | loss: 0.16215 | train_mse: 0.3812  | train_mae: 0.43207 |  0:00:03s\n",
      "epoch 24 | loss: 0.28144 | train_mse: 0.2158  | train_mae: 0.3636  |  0:00:03s\n"
     ]
    },
    {
     "name": "stdout",
     "output_type": "stream",
     "text": [
      "epoch 25 | loss: 0.14635 | train_mse: 0.17215 | train_mae: 0.32165 |  0:00:03s\n",
      "epoch 26 | loss: 0.2981  | train_mse: 0.14134 | train_mae: 0.29692 |  0:00:03s\n",
      "epoch 27 | loss: 0.17554 | train_mse: 0.20775 | train_mae: 0.3383  |  0:00:03s\n",
      "epoch 28 | loss: 0.17194 | train_mse: 0.2043  | train_mae: 0.3471  |  0:00:03s\n"
     ]
    },
    {
     "name": "stdout",
     "output_type": "stream",
     "text": [
      "epoch 29 | loss: 0.21616 | train_mse: 0.33317 | train_mae: 0.42163 |  0:00:04s\n",
      "epoch 30 | loss: 0.19245 | train_mse: 0.43382 | train_mae: 0.45017 |  0:00:04s\n",
      "epoch 31 | loss: 0.19119 | train_mse: 0.42276 | train_mae: 0.44801 |  0:00:04s\n"
     ]
    },
    {
     "name": "stdout",
     "output_type": "stream",
     "text": [
      "epoch 32 | loss: 0.2519  | train_mse: 0.51123 | train_mae: 0.46054 |  0:00:04s\n",
      "epoch 33 | loss: 0.12091 | train_mse: 0.46933 | train_mae: 0.43724 |  0:00:04s\n",
      "epoch 34 | loss: 0.20279 | train_mse: 0.30551 | train_mae: 0.36118 |  0:00:04s\n"
     ]
    },
    {
     "name": "stdout",
     "output_type": "stream",
     "text": [
      "epoch 35 | loss: 0.1838  | train_mse: 0.23186 | train_mae: 0.33973 |  0:00:04s\n",
      "epoch 36 | loss: 0.09599 | train_mse: 0.29569 | train_mae: 0.37574 |  0:00:04s\n",
      "epoch 37 | loss: 0.15251 | train_mse: 0.32351 | train_mae: 0.38316 |  0:00:04s\n",
      "epoch 38 | loss: 0.15982 | train_mse: 0.09875 | train_mae: 0.25462 |  0:00:04s\n"
     ]
    },
    {
     "name": "stdout",
     "output_type": "stream",
     "text": [
      "epoch 39 | loss: 0.12954 | train_mse: 0.06795 | train_mae: 0.20858 |  0:00:04s\n",
      "epoch 40 | loss: 0.25918 | train_mse: 0.07035 | train_mae: 0.20957 |  0:00:04s\n",
      "epoch 41 | loss: 0.13585 | train_mse: 0.13849 | train_mae: 0.27455 |  0:00:04s\n",
      "epoch 42 | loss: 0.16975 | train_mse: 0.41195 | train_mae: 0.42125 |  0:00:04s\n"
     ]
    },
    {
     "name": "stdout",
     "output_type": "stream",
     "text": [
      "epoch 43 | loss: 0.13204 | train_mse: 0.50943 | train_mae: 0.43528 |  0:00:05s\n",
      "epoch 44 | loss: 0.19825 | train_mse: 0.50868 | train_mae: 0.43112 |  0:00:05s\n",
      "epoch 45 | loss: 0.21073 | train_mse: 0.35137 | train_mae: 0.3878  |  0:00:05s\n"
     ]
    },
    {
     "name": "stdout",
     "output_type": "stream",
     "text": [
      "epoch 46 | loss: 0.21771 | train_mse: 0.21612 | train_mae: 0.31867 |  0:00:05s\n",
      "epoch 47 | loss: 0.28307 | train_mse: 0.19351 | train_mae: 0.31906 |  0:00:05s\n",
      "epoch 48 | loss: 0.13405 | train_mse: 0.16251 | train_mae: 0.31358 |  0:00:05s\n"
     ]
    },
    {
     "name": "stdout",
     "output_type": "stream",
     "text": [
      "epoch 49 | loss: 0.19091 | train_mse: 0.21371 | train_mae: 0.34645 |  0:00:05s\n",
      "epoch 50 | loss: 0.13817 | train_mse: 0.29641 | train_mae: 0.37106 |  0:00:05s\n",
      "epoch 51 | loss: 0.093   | train_mse: 0.27704 | train_mae: 0.35413 |  0:00:05s\n"
     ]
    },
    {
     "name": "stdout",
     "output_type": "stream",
     "text": [
      "epoch 52 | loss: 0.1658  | train_mse: 0.2612  | train_mae: 0.35545 |  0:00:05s\n",
      "epoch 53 | loss: 0.29275 | train_mse: 0.20626 | train_mae: 0.32491 |  0:00:05s\n"
     ]
    },
    {
     "name": "stdout",
     "output_type": "stream",
     "text": [
      "epoch 54 | loss: 0.22903 | train_mse: 0.0983  | train_mae: 0.24379 |  0:00:06s\n",
      "epoch 55 | loss: 0.14405 | train_mse: 0.07466 | train_mae: 0.2205  |  0:00:06s\n"
     ]
    },
    {
     "name": "stdout",
     "output_type": "stream",
     "text": [
      "epoch 56 | loss: 0.09494 | train_mse: 0.08138 | train_mae: 0.2242  |  0:00:06s\n",
      "epoch 57 | loss: 0.13407 | train_mse: 0.12695 | train_mae: 0.25722 |  0:00:06s\n",
      "epoch 58 | loss: 0.0693  | train_mse: 0.21101 | train_mae: 0.30393 |  0:00:06s\n"
     ]
    },
    {
     "name": "stdout",
     "output_type": "stream",
     "text": [
      "epoch 59 | loss: 0.10707 | train_mse: 0.20679 | train_mae: 0.2926  |  0:00:06s\n",
      "epoch 60 | loss: 0.14097 | train_mse: 0.10614 | train_mae: 0.23694 |  0:00:06s\n",
      "epoch 61 | loss: 0.09541 | train_mse: 0.07284 | train_mae: 0.20954 |  0:00:06s\n",
      "epoch 62 | loss: 0.09399 | train_mse: 0.06691 | train_mae: 0.1984  |  0:00:06s\n"
     ]
    },
    {
     "name": "stdout",
     "output_type": "stream",
     "text": [
      "epoch 63 | loss: 0.21151 | train_mse: 0.06559 | train_mae: 0.19395 |  0:00:06s\n",
      "epoch 64 | loss: 0.16291 | train_mse: 0.07781 | train_mae: 0.21371 |  0:00:06s\n"
     ]
    },
    {
     "name": "stdout",
     "output_type": "stream",
     "text": [
      "epoch 65 | loss: 0.10678 | train_mse: 0.07602 | train_mae: 0.2107  |  0:00:07s\n",
      "epoch 66 | loss: 0.13898 | train_mse: 0.11162 | train_mae: 0.25284 |  0:00:07s\n",
      "epoch 67 | loss: 0.137   | train_mse: 0.09556 | train_mae: 0.22819 |  0:00:07s\n"
     ]
    },
    {
     "name": "stdout",
     "output_type": "stream",
     "text": [
      "epoch 68 | loss: 0.11246 | train_mse: 0.07104 | train_mae: 0.20966 |  0:00:07s\n",
      "epoch 69 | loss: 0.22567 | train_mse: 0.11137 | train_mae: 0.2529  |  0:00:07s\n",
      "epoch 70 | loss: 0.14556 | train_mse: 0.09179 | train_mae: 0.22696 |  0:00:07s\n"
     ]
    },
    {
     "name": "stdout",
     "output_type": "stream",
     "text": [
      "epoch 71 | loss: 0.12695 | train_mse: 0.07465 | train_mae: 0.2092  |  0:00:07s\n",
      "epoch 72 | loss: 0.2616  | train_mse: 0.08225 | train_mae: 0.20962 |  0:00:07s\n",
      "epoch 73 | loss: 0.27564 | train_mse: 0.15006 | train_mae: 0.27558 |  0:00:07s\n"
     ]
    },
    {
     "name": "stdout",
     "output_type": "stream",
     "text": [
      "epoch 74 | loss: 0.22455 | train_mse: 0.14176 | train_mae: 0.275   |  0:00:07s\n",
      "epoch 75 | loss: 0.12985 | train_mse: 0.10081 | train_mae: 0.24524 |  0:00:08s\n"
     ]
    },
    {
     "name": "stdout",
     "output_type": "stream",
     "text": [
      "epoch 76 | loss: 0.08921 | train_mse: 0.1076  | train_mae: 0.24808 |  0:00:08s\n",
      "epoch 77 | loss: 0.15894 | train_mse: 0.11095 | train_mae: 0.25096 |  0:00:08s\n"
     ]
    },
    {
     "name": "stdout",
     "output_type": "stream",
     "text": [
      "epoch 78 | loss: 0.15397 | train_mse: 0.09642 | train_mae: 0.23526 |  0:00:08s\n",
      "epoch 79 | loss: 0.26676 | train_mse: 0.08033 | train_mae: 0.22694 |  0:00:08s\n"
     ]
    },
    {
     "name": "stdout",
     "output_type": "stream",
     "text": [
      "epoch 80 | loss: 0.09961 | train_mse: 0.07352 | train_mae: 0.21728 |  0:00:08s\n",
      "epoch 81 | loss: 0.17497 | train_mse: 0.07598 | train_mae: 0.21712 |  0:00:08s\n"
     ]
    },
    {
     "name": "stdout",
     "output_type": "stream",
     "text": [
      "epoch 82 | loss: 0.13279 | train_mse: 0.06445 | train_mae: 0.20269 |  0:00:09s\n"
     ]
    },
    {
     "name": "stdout",
     "output_type": "stream",
     "text": [
      "epoch 83 | loss: 0.11773 | train_mse: 0.07026 | train_mae: 0.21418 |  0:00:09s\n",
      "epoch 84 | loss: 0.16986 | train_mse: 0.0839  | train_mae: 0.22825 |  0:00:09s\n"
     ]
    },
    {
     "name": "stdout",
     "output_type": "stream",
     "text": [
      "epoch 85 | loss: 0.24021 | train_mse: 0.0818  | train_mae: 0.22888 |  0:00:09s\n"
     ]
    },
    {
     "name": "stdout",
     "output_type": "stream",
     "text": [
      "epoch 86 | loss: 0.10073 | train_mse: 0.07232 | train_mae: 0.21989 |  0:00:09s\n"
     ]
    },
    {
     "name": "stdout",
     "output_type": "stream",
     "text": [
      "epoch 87 | loss: 0.15411 | train_mse: 0.06273 | train_mae: 0.20335 |  0:00:10s\n",
      "epoch 88 | loss: 0.11823 | train_mse: 0.06348 | train_mae: 0.203   |  0:00:10s\n"
     ]
    },
    {
     "name": "stdout",
     "output_type": "stream",
     "text": [
      "epoch 89 | loss: 0.08346 | train_mse: 0.07853 | train_mae: 0.22302 |  0:00:10s\n"
     ]
    },
    {
     "name": "stdout",
     "output_type": "stream",
     "text": [
      "epoch 90 | loss: 0.24125 | train_mse: 0.07478 | train_mae: 0.21893 |  0:00:10s\n",
      "epoch 91 | loss: 0.09182 | train_mse: 0.05964 | train_mae: 0.19216 |  0:00:10s\n"
     ]
    },
    {
     "name": "stdout",
     "output_type": "stream",
     "text": [
      "epoch 92 | loss: 0.0633  | train_mse: 0.05328 | train_mae: 0.18375 |  0:00:11s\n",
      "epoch 93 | loss: 0.08104 | train_mse: 0.06197 | train_mae: 0.2028  |  0:00:11s\n"
     ]
    },
    {
     "name": "stdout",
     "output_type": "stream",
     "text": [
      "epoch 94 | loss: 0.15069 | train_mse: 0.09295 | train_mae: 0.22228 |  0:00:11s\n"
     ]
    },
    {
     "name": "stdout",
     "output_type": "stream",
     "text": [
      "epoch 95 | loss: 0.2226  | train_mse: 0.08916 | train_mae: 0.21911 |  0:00:11s\n",
      "epoch 96 | loss: 0.16017 | train_mse: 0.072   | train_mae: 0.20817 |  0:00:11s\n"
     ]
    },
    {
     "name": "stdout",
     "output_type": "stream",
     "text": [
      "epoch 97 | loss: 0.06863 | train_mse: 0.09151 | train_mae: 0.23073 |  0:00:12s\n",
      "epoch 98 | loss: 0.17906 | train_mse: 0.10682 | train_mae: 0.25114 |  0:00:12s\n"
     ]
    },
    {
     "name": "stdout",
     "output_type": "stream",
     "text": [
      "epoch 99 | loss: 0.09638 | train_mse: 0.10258 | train_mae: 0.24829 |  0:00:12s\n",
      "epoch 100| loss: 0.12216 | train_mse: 0.08727 | train_mae: 0.23695 |  0:00:12s\n"
     ]
    },
    {
     "name": "stdout",
     "output_type": "stream",
     "text": [
      "epoch 101| loss: 0.17796 | train_mse: 0.06772 | train_mae: 0.21186 |  0:00:12s\n",
      "epoch 102| loss: 0.13946 | train_mse: 0.07213 | train_mae: 0.21745 |  0:00:12s\n"
     ]
    },
    {
     "name": "stdout",
     "output_type": "stream",
     "text": [
      "epoch 103| loss: 0.16975 | train_mse: 0.08649 | train_mae: 0.23684 |  0:00:12s\n"
     ]
    },
    {
     "name": "stdout",
     "output_type": "stream",
     "text": [
      "epoch 104| loss: 0.20736 | train_mse: 0.11704 | train_mae: 0.25722 |  0:00:13s\n"
     ]
    },
    {
     "name": "stdout",
     "output_type": "stream",
     "text": [
      "epoch 105| loss: 0.10424 | train_mse: 0.15101 | train_mae: 0.27021 |  0:00:13s\n",
      "epoch 106| loss: 0.19107 | train_mse: 0.13376 | train_mae: 0.26186 |  0:00:13s\n"
     ]
    },
    {
     "name": "stdout",
     "output_type": "stream",
     "text": [
      "epoch 107| loss: 0.07353 | train_mse: 0.11346 | train_mae: 0.24722 |  0:00:13s\n",
      "epoch 108| loss: 0.11041 | train_mse: 0.09981 | train_mae: 0.23673 |  0:00:13s\n"
     ]
    },
    {
     "name": "stdout",
     "output_type": "stream",
     "text": [
      "epoch 109| loss: 0.1028  | train_mse: 0.12113 | train_mae: 0.25299 |  0:00:13s\n",
      "epoch 110| loss: 0.10675 | train_mse: 0.11894 | train_mae: 0.25373 |  0:00:14s\n"
     ]
    },
    {
     "name": "stdout",
     "output_type": "stream",
     "text": [
      "epoch 111| loss: 0.15669 | train_mse: 0.16509 | train_mae: 0.28424 |  0:00:14s\n",
      "epoch 112| loss: 0.0869  | train_mse: 0.16387 | train_mae: 0.28469 |  0:00:14s\n"
     ]
    },
    {
     "name": "stdout",
     "output_type": "stream",
     "text": [
      "epoch 113| loss: 0.20675 | train_mse: 0.08425 | train_mae: 0.21918 |  0:00:14s\n",
      "epoch 114| loss: 0.34576 | train_mse: 0.10285 | train_mae: 0.24165 |  0:00:14s\n"
     ]
    },
    {
     "name": "stdout",
     "output_type": "stream",
     "text": [
      "epoch 115| loss: 0.07331 | train_mse: 0.16825 | train_mae: 0.28101 |  0:00:14s\n",
      "epoch 116| loss: 0.25356 | train_mse: 0.42668 | train_mae: 0.38404 |  0:00:14s\n"
     ]
    },
    {
     "name": "stdout",
     "output_type": "stream",
     "text": [
      "epoch 117| loss: 0.1334  | train_mse: 0.34793 | train_mae: 0.35021 |  0:00:15s\n",
      "epoch 118| loss: 0.11323 | train_mse: 0.29125 | train_mae: 0.32508 |  0:00:15s\n"
     ]
    },
    {
     "name": "stdout",
     "output_type": "stream",
     "text": [
      "epoch 119| loss: 0.07211 | train_mse: 0.32393 | train_mae: 0.34993 |  0:00:15s\n",
      "epoch 120| loss: 0.08419 | train_mse: 0.33291 | train_mae: 0.34482 |  0:00:15s\n",
      "epoch 121| loss: 0.12574 | train_mse: 0.24916 | train_mae: 0.30549 |  0:00:15s\n"
     ]
    },
    {
     "name": "stdout",
     "output_type": "stream",
     "text": [
      "epoch 122| loss: 0.11712 | train_mse: 0.14608 | train_mae: 0.25375 |  0:00:15s\n",
      "epoch 123| loss: 0.19381 | train_mse: 0.11827 | train_mae: 0.24422 |  0:00:15s\n"
     ]
    },
    {
     "name": "stdout",
     "output_type": "stream",
     "text": [
      "epoch 124| loss: 0.08396 | train_mse: 0.09137 | train_mae: 0.23408 |  0:00:16s\n",
      "epoch 125| loss: 0.10905 | train_mse: 0.07838 | train_mae: 0.21627 |  0:00:16s\n"
     ]
    },
    {
     "name": "stdout",
     "output_type": "stream",
     "text": [
      "epoch 126| loss: 0.13631 | train_mse: 0.1108  | train_mae: 0.23398 |  0:00:16s\n",
      "epoch 127| loss: 0.10517 | train_mse: 0.2051  | train_mae: 0.28829 |  0:00:16s\n"
     ]
    },
    {
     "name": "stdout",
     "output_type": "stream",
     "text": [
      "epoch 128| loss: 0.13657 | train_mse: 0.24356 | train_mae: 0.31829 |  0:00:16s\n"
     ]
    },
    {
     "name": "stdout",
     "output_type": "stream",
     "text": [
      "epoch 129| loss: 0.11074 | train_mse: 0.174   | train_mae: 0.28907 |  0:00:16s\n",
      "epoch 130| loss: 0.21001 | train_mse: 0.10651 | train_mae: 0.24892 |  0:00:17s\n"
     ]
    },
    {
     "name": "stdout",
     "output_type": "stream",
     "text": [
      "epoch 131| loss: 0.14433 | train_mse: 0.07105 | train_mae: 0.21365 |  0:00:17s\n",
      "epoch 132| loss: 0.09598 | train_mse: 0.06284 | train_mae: 0.20274 |  0:00:17s\n"
     ]
    },
    {
     "name": "stdout",
     "output_type": "stream",
     "text": [
      "epoch 133| loss: 0.09481 | train_mse: 0.07528 | train_mae: 0.22573 |  0:00:17s\n",
      "epoch 134| loss: 0.10977 | train_mse: 0.08441 | train_mae: 0.22831 |  0:00:17s\n"
     ]
    },
    {
     "name": "stdout",
     "output_type": "stream",
     "text": [
      "epoch 135| loss: 0.11527 | train_mse: 0.06901 | train_mae: 0.19927 |  0:00:17s\n",
      "epoch 136| loss: 0.12192 | train_mse: 0.05247 | train_mae: 0.17727 |  0:00:17s\n",
      "epoch 137| loss: 0.08316 | train_mse: 0.06049 | train_mae: 0.20438 |  0:00:17s\n"
     ]
    },
    {
     "name": "stdout",
     "output_type": "stream",
     "text": [
      "epoch 138| loss: 0.17139 | train_mse: 0.07066 | train_mae: 0.22027 |  0:00:17s\n",
      "epoch 139| loss: 0.08206 | train_mse: 0.05565 | train_mae: 0.19625 |  0:00:17s\n",
      "epoch 140| loss: 0.09496 | train_mse: 0.05191 | train_mae: 0.18604 |  0:00:18s\n"
     ]
    },
    {
     "name": "stdout",
     "output_type": "stream",
     "text": [
      "epoch 141| loss: 0.20462 | train_mse: 0.05103 | train_mae: 0.18403 |  0:00:18s\n",
      "epoch 142| loss: 0.08192 | train_mse: 0.05383 | train_mae: 0.18485 |  0:00:18s\n"
     ]
    },
    {
     "name": "stdout",
     "output_type": "stream",
     "text": [
      "epoch 143| loss: 0.13239 | train_mse: 0.04723 | train_mae: 0.17197 |  0:00:18s\n",
      "epoch 144| loss: 0.12272 | train_mse: 0.04459 | train_mae: 0.165   |  0:00:18s\n"
     ]
    },
    {
     "name": "stdout",
     "output_type": "stream",
     "text": [
      "epoch 145| loss: 0.06549 | train_mse: 0.04681 | train_mae: 0.16983 |  0:00:18s\n",
      "epoch 146| loss: 0.07436 | train_mse: 0.04726 | train_mae: 0.17163 |  0:00:18s\n"
     ]
    },
    {
     "name": "stdout",
     "output_type": "stream",
     "text": [
      "epoch 147| loss: 0.08311 | train_mse: 0.05396 | train_mae: 0.18866 |  0:00:18s\n",
      "epoch 148| loss: 0.13398 | train_mse: 0.0508  | train_mae: 0.18304 |  0:00:18s\n",
      "epoch 149| loss: 0.11459 | train_mse: 0.0498  | train_mae: 0.18053 |  0:00:19s\n"
     ]
    },
    {
     "name": "stdout",
     "output_type": "stream",
     "text": [
      "epoch 150| loss: 0.11826 | train_mse: 0.05068 | train_mae: 0.18559 |  0:00:19s\n",
      "epoch 151| loss: 0.1266  | train_mse: 0.05308 | train_mae: 0.18424 |  0:00:19s\n"
     ]
    },
    {
     "name": "stdout",
     "output_type": "stream",
     "text": [
      "epoch 152| loss: 0.06897 | train_mse: 0.05202 | train_mae: 0.17899 |  0:00:19s\n",
      "epoch 153| loss: 0.10981 | train_mse: 0.04841 | train_mae: 0.17656 |  0:00:19s\n"
     ]
    },
    {
     "name": "stdout",
     "output_type": "stream",
     "text": [
      "epoch 154| loss: 0.07927 | train_mse: 0.05648 | train_mae: 0.19015 |  0:00:19s\n",
      "epoch 155| loss: 0.14309 | train_mse: 0.05717 | train_mae: 0.1948  |  0:00:19s\n",
      "epoch 156| loss: 0.20216 | train_mse: 0.06045 | train_mae: 0.20445 |  0:00:19s\n"
     ]
    },
    {
     "name": "stdout",
     "output_type": "stream",
     "text": [
      "epoch 157| loss: 0.09461 | train_mse: 0.05439 | train_mae: 0.18917 |  0:00:19s\n",
      "epoch 158| loss: 0.09873 | train_mse: 0.05781 | train_mae: 0.19511 |  0:00:19s\n"
     ]
    },
    {
     "name": "stdout",
     "output_type": "stream",
     "text": [
      "epoch 159| loss: 0.08301 | train_mse: 0.0652  | train_mae: 0.20626 |  0:00:20s\n",
      "epoch 160| loss: 0.16026 | train_mse: 0.06591 | train_mae: 0.20645 |  0:00:20s\n",
      "epoch 161| loss: 0.06409 | train_mse: 0.06114 | train_mae: 0.2015  |  0:00:20s\n"
     ]
    },
    {
     "name": "stdout",
     "output_type": "stream",
     "text": [
      "epoch 162| loss: 0.09191 | train_mse: 0.05166 | train_mae: 0.18272 |  0:00:20s\n",
      "epoch 163| loss: 0.14462 | train_mse: 0.05694 | train_mae: 0.1861  |  0:00:20s\n",
      "epoch 164| loss: 0.07954 | train_mse: 0.07589 | train_mae: 0.19965 |  0:00:20s\n"
     ]
    },
    {
     "name": "stdout",
     "output_type": "stream",
     "text": [
      "epoch 165| loss: 0.11743 | train_mse: 0.06114 | train_mae: 0.19113 |  0:00:20s\n"
     ]
    },
    {
     "name": "stdout",
     "output_type": "stream",
     "text": [
      "epoch 166| loss: 0.06385 | train_mse: 0.05975 | train_mae: 0.18802 |  0:00:20s\n",
      "epoch 167| loss: 0.06684 | train_mse: 0.06409 | train_mae: 0.1923  |  0:00:20s\n"
     ]
    },
    {
     "name": "stdout",
     "output_type": "stream",
     "text": [
      "epoch 168| loss: 0.11803 | train_mse: 0.05617 | train_mae: 0.1817  |  0:00:21s\n",
      "epoch 169| loss: 0.14011 | train_mse: 0.05177 | train_mae: 0.17509 |  0:00:21s\n"
     ]
    },
    {
     "name": "stdout",
     "output_type": "stream",
     "text": [
      "epoch 170| loss: 0.15995 | train_mse: 0.07387 | train_mae: 0.19769 |  0:00:21s\n",
      "epoch 171| loss: 0.13098 | train_mse: 0.12505 | train_mae: 0.24388 |  0:00:21s\n"
     ]
    },
    {
     "name": "stdout",
     "output_type": "stream",
     "text": [
      "epoch 172| loss: 0.09108 | train_mse: 0.17796 | train_mae: 0.2669  |  0:00:21s\n",
      "epoch 173| loss: 0.06801 | train_mse: 0.14683 | train_mae: 0.25397 |  0:00:21s\n",
      "epoch 174| loss: 0.08849 | train_mse: 0.07024 | train_mae: 0.19857 |  0:00:21s\n"
     ]
    },
    {
     "name": "stdout",
     "output_type": "stream",
     "text": [
      "epoch 175| loss: 0.112   | train_mse: 0.06052 | train_mae: 0.18521 |  0:00:21s\n",
      "epoch 176| loss: 0.0732  | train_mse: 0.057   | train_mae: 0.18154 |  0:00:21s\n",
      "epoch 177| loss: 0.09265 | train_mse: 0.05855 | train_mae: 0.18627 |  0:00:21s\n"
     ]
    },
    {
     "name": "stdout",
     "output_type": "stream",
     "text": [
      "epoch 178| loss: 0.13807 | train_mse: 0.06189 | train_mae: 0.18742 |  0:00:21s\n",
      "epoch 179| loss: 0.19595 | train_mse: 0.08407 | train_mae: 0.20676 |  0:00:22s\n"
     ]
    },
    {
     "name": "stdout",
     "output_type": "stream",
     "text": [
      "epoch 180| loss: 0.20802 | train_mse: 0.12716 | train_mae: 0.26011 |  0:00:22s\n",
      "epoch 181| loss: 0.09214 | train_mse: 0.08739 | train_mae: 0.22633 |  0:00:22s\n",
      "epoch 182| loss: 0.11334 | train_mse: 0.06321 | train_mae: 0.2033  |  0:00:22s\n"
     ]
    },
    {
     "name": "stdout",
     "output_type": "stream",
     "text": [
      "epoch 183| loss: 0.10059 | train_mse: 0.06165 | train_mae: 0.19994 |  0:00:22s\n"
     ]
    },
    {
     "name": "stdout",
     "output_type": "stream",
     "text": [
      "epoch 184| loss: 0.08639 | train_mse: 0.06457 | train_mae: 0.20005 |  0:00:22s\n",
      "epoch 185| loss: 0.14291 | train_mse: 0.07874 | train_mae: 0.21424 |  0:00:23s\n"
     ]
    },
    {
     "name": "stdout",
     "output_type": "stream",
     "text": [
      "epoch 186| loss: 0.09956 | train_mse: 0.08257 | train_mae: 0.22    |  0:00:23s\n",
      "epoch 187| loss: 0.10152 | train_mse: 0.08062 | train_mae: 0.21905 |  0:00:23s\n",
      "epoch 188| loss: 0.38508 | train_mse: 0.06013 | train_mae: 0.19882 |  0:00:23s\n"
     ]
    },
    {
     "name": "stdout",
     "output_type": "stream",
     "text": [
      "epoch 189| loss: 0.06258 | train_mse: 0.06318 | train_mae: 0.19829 |  0:00:23s\n",
      "epoch 190| loss: 0.08766 | train_mse: 0.06625 | train_mae: 0.20632 |  0:00:23s\n",
      "epoch 191| loss: 0.09388 | train_mse: 0.0801  | train_mae: 0.22748 |  0:00:23s\n"
     ]
    },
    {
     "name": "stdout",
     "output_type": "stream",
     "text": [
      "epoch 192| loss: 0.09597 | train_mse: 0.11003 | train_mae: 0.25207 |  0:00:23s\n",
      "epoch 193| loss: 0.16152 | train_mse: 0.1028  | train_mae: 0.23672 |  0:00:23s\n",
      "epoch 194| loss: 0.10034 | train_mse: 0.07628 | train_mae: 0.21412 |  0:00:23s\n",
      "\n",
      "Early stopping occurred at epoch 194 with best_epoch = 144 and best_train_mae = 0.165\n",
      "Best weights from best epoch are automatically used!\n"
     ]
    }
   ],
   "source": [
    "#Train the Model\n",
    "\n",
    "Y_train = np.reshape(Y_train, (-1, 1))\n",
    "Y_test = np.reshape(Y_test, (-1, 1))\n",
    "\n",
    "prior_model = TabNetRegressor(optimizer_fn=torch.optim.Adam, optimizer_params=dict(lr = 0.02),\n",
    "          #scheduler_params={\"step_size\":10, ], \"gamma\":0.9},\n",
    "          #scheduler_fn=torch.optim.lr_scheduler.StepLR\n",
    "          )  #TabNetRegressor()\n",
    "\n",
    "prior_model.fit(X_train,Y_train,eval_set=[(X_train, Y_train)],\n",
    "            eval_name=['train'], \n",
    "            eval_metric=[ 'mse', 'mae'], \n",
    "            max_epochs = n_epochs, \n",
    "            batch_size = batch_size,\n",
    "            patience=50\n",
    "            )"
   ]
  },
  {
   "cell_type": "code",
   "execution_count": 10,
   "id": "af65dcda",
   "metadata": {
    "execution": {
     "iopub.execute_input": "2022-06-22T14:44:52.861192Z",
     "iopub.status.busy": "2022-06-22T14:44:52.860067Z",
     "iopub.status.idle": "2022-06-22T14:44:52.882082Z",
     "shell.execute_reply": "2022-06-22T14:44:52.882649Z"
    },
    "id": "af65dcda",
    "papermill": {
     "duration": 0.072593,
     "end_time": "2022-06-22T14:44:52.882938",
     "exception": false,
     "start_time": "2022-06-22T14:44:52.810345",
     "status": "completed"
    },
    "tags": []
   },
   "outputs": [
    {
     "data": {
      "application/scrapbook.scrap.json+json": {
       "data": 0.08285429387995026,
       "encoder": "json",
       "name": "Prior Model MSE",
       "version": 1
      }
     },
     "metadata": {
      "scrapbook": {
       "data": true,
       "display": false,
       "name": "Prior Model MSE"
      }
     },
     "output_type": "display_data"
    },
    {
     "data": {
      "application/scrapbook.scrap.json+json": {
       "data": 2.1326018255968626,
       "encoder": "json",
       "name": "ABC Pre-generator MSE",
       "version": 1
      }
     },
     "metadata": {
      "scrapbook": {
       "data": true,
       "display": false,
       "name": "ABC Pre-generator MSE"
      }
     },
     "output_type": "display_data"
    },
    {
     "data": {
      "application/scrapbook.scrap.json+json": {
       "data": 0.228036309985016,
       "encoder": "json",
       "name": "Prior Model MSE",
       "version": 1
      }
     },
     "metadata": {
      "scrapbook": {
       "data": true,
       "display": false,
       "name": "Prior Model MSE"
      }
     },
     "output_type": "display_data"
    },
    {
     "data": {
      "application/scrapbook.scrap.json+json": {
       "data": 1.2034252509858436,
       "encoder": "json",
       "name": "ABC Pre-generator MSE",
       "version": 1
      }
     },
     "metadata": {
      "scrapbook": {
       "data": true,
       "display": false,
       "name": "ABC Pre-generator MSE"
      }
     },
     "output_type": "display_data"
    }
   ],
   "source": [
    "y_pred = prior_model.predict(X_test)\n",
    "y_abc = y_pred + np.random.normal(0,variance, y_pred.shape) + bias \n",
    "mse = mean_squared_error(y_pred,Y_test)\n",
    "sb.glue(\"Prior Model MSE\",mse)\n",
    "mse = mean_squared_error(y_abc,Y_test)\n",
    "sb.glue(\"ABC Pre-generator MSE\",mse)\n",
    "mae = mean_absolute_error(y_pred,Y_test)\n",
    "sb.glue(\"Prior Model MSE\",mae)\n",
    "mae = mean_absolute_error(y_abc,Y_test)\n",
    "sb.glue(\"ABC Pre-generator MSE\",mae)"
   ]
  },
  {
   "cell_type": "markdown",
   "id": "25609da2",
   "metadata": {
    "papermill": {
     "duration": 0.058964,
     "end_time": "2022-06-22T14:44:52.987629",
     "exception": false,
     "start_time": "2022-06-22T14:44:52.928665",
     "status": "completed"
    },
    "tags": []
   },
   "source": [
    "# ABC GAN Model"
   ]
  },
  {
   "cell_type": "code",
   "execution_count": 11,
   "id": "dfc3464d",
   "metadata": {
    "execution": {
     "iopub.execute_input": "2022-06-22T14:44:53.078122Z",
     "iopub.status.busy": "2022-06-22T14:44:53.077430Z",
     "iopub.status.idle": "2022-06-22T14:44:53.079441Z",
     "shell.execute_reply": "2022-06-22T14:44:53.080103Z"
    },
    "papermill": {
     "duration": 0.049385,
     "end_time": "2022-06-22T14:44:53.080356",
     "exception": false,
     "start_time": "2022-06-22T14:44:53.030971",
     "status": "completed"
    },
    "tags": []
   },
   "outputs": [],
   "source": [
    "gen = network.Generator(n_features+1).to(device)\n",
    "disc = network.Discriminator(n_features+1).to(device)\n",
    "\n",
    "criterion = torch.nn.BCELoss()\n",
    "gen_opt = torch.optim.Adam(gen.parameters(), lr=0.001, betas=(0.5, 0.999))\n",
    "disc_opt = torch.optim.Adam(disc.parameters(), lr=0.001, betas=(0.5, 0.999))"
   ]
  },
  {
   "cell_type": "code",
   "execution_count": 12,
   "id": "b75fdd85",
   "metadata": {
    "execution": {
     "iopub.execute_input": "2022-06-22T14:44:53.170361Z",
     "iopub.status.busy": "2022-06-22T14:44:53.169621Z",
     "iopub.status.idle": "2022-06-22T14:45:45.376380Z",
     "shell.execute_reply": "2022-06-22T14:45:45.376933Z"
    },
    "papermill": {
     "duration": 52.257031,
     "end_time": "2022-06-22T14:45:45.377168",
     "exception": false,
     "start_time": "2022-06-22T14:44:53.120137",
     "status": "completed"
    },
    "tags": []
   },
   "outputs": [
    {
     "data": {
      "image/png": "[encoded data removed]",
      "text/plain": [
       "<Figure size 432x288 with 1 Axes>"
      ]
     },
     "metadata": {
      "needs_background": "light"
     },
     "output_type": "display_data"
    },
    {
     "data": {
      "image/png": "[encoded data removed]",
      "text/plain": [
       "<Figure size 432x288 with 1 Axes>"
      ]
     },
     "metadata": {
      "needs_background": "light"
     },
     "output_type": "display_data"
    }
   ],
   "source": [
    "#Training the ABC_GAN \n",
    "ABC_train_test2.training_GAN(disc,gen,disc_opt,gen_opt,train_data,batch_size,n_epochs,criterion,prior_model,variance,bias,device)"
   ]
  },
  {
   "cell_type": "code",
   "execution_count": 13,
   "id": "1fa7c368",
   "metadata": {
    "execution": {
     "iopub.execute_input": "2022-06-22T14:45:45.621450Z",
     "iopub.status.busy": "2022-06-22T14:45:45.616214Z",
     "iopub.status.idle": "2022-06-22T14:45:46.443769Z",
     "shell.execute_reply": "2022-06-22T14:45:46.444494Z"
    },
    "papermill": {
     "duration": 0.99793,
     "end_time": "2022-06-22T14:45:46.444719",
     "exception": false,
     "start_time": "2022-06-22T14:45:45.446789",
     "status": "completed"
    },
    "tags": []
   },
   "outputs": [
    {
     "data": {
      "application/scrapbook.scrap.json+json": {
       "data": 0.1681958802748914,
       "encoder": "json",
       "name": "ABC-GAN Model 1 MSE",
       "version": 1
      }
     },
     "metadata": {
      "scrapbook": {
       "data": true,
       "display": false,
       "name": "ABC-GAN Model 1 MSE"
      }
     },
     "output_type": "display_data"
    },
    {
     "data": {
      "application/scrapbook.scrap.json+json": {
       "data": 0.30350768961757424,
       "encoder": "json",
       "name": "ABC-GAN Model 1 MAE",
       "version": 1
      }
     },
     "metadata": {
      "scrapbook": {
       "data": true,
       "display": false,
       "name": "ABC-GAN Model 1 MAE"
      }
     },
     "output_type": "display_data"
    },
    {
     "data": {
      "application/scrapbook.scrap.json+json": {
       "data": 6.070153792351484,
       "encoder": "json",
       "name": "ABC-GAN Model 1 Manhattan Distance",
       "version": 1
      }
     },
     "metadata": {
      "scrapbook": {
       "data": true,
       "display": false,
       "name": "ABC-GAN Model 1 Manhattan Distance"
      }
     },
     "output_type": "display_data"
    },
    {
     "data": {
      "application/scrapbook.scrap.json+json": {
       "data": 1.8338692325718515,
       "encoder": "json",
       "name": "ABC-GAN Model 1 Euclidean distance",
       "version": 1
      }
     },
     "metadata": {
      "scrapbook": {
       "data": true,
       "display": false,
       "name": "ABC-GAN Model 1 Euclidean distance"
      }
     },
     "output_type": "display_data"
    },
    {
     "data": {
      "application/scrapbook.scrap.json+json": {
       "data": [
        [
         0.17819519688955876,
         0.16194787605431632,
         0.16504085125772644,
         0.16904561221785364,
         0.16436726096880352,
         0.16746716332116204,
         0.1778243539646843,
         0.1689626431587396,
         0.17164531066515692,
         0.16299654015873652,
         0.15870479111316968,
         0.17358707497132403,
         0.17120785338234948,
         0.16539673038004152,
         0.17149154949575435,
         0.16348321576747044,
         0.17405886173536295,
         0.1701959162288632,
         0.17435544516865562,
         0.18111588443296758,
         0.17357424517450207,
         0.17010221836838663,
         0.1732227698282871,
         0.16820306435947951,
         0.17061388232378338,
         0.16795000422937095,
         0.1646258725335165,
         0.1600692717113894,
         0.17393639185387486,
         0.1652211339303331,
         0.17124217589953467,
         0.16063007724515127,
         0.1653716925249508,
         0.16169241764167436,
         0.18041995818724993,
         0.16989184521394202,
         0.16224213775599305,
         0.17227516712296614,
         0.1619594119559395,
         0.1678900613328868,
         0.17485214822906067,
         0.16573721602314126,
         0.16209512982367924,
         0.18427465112108593,
         0.1753435902914539,
         0.16671701086441965,
         0.17001635708127383,
         0.16655537826840822,
         0.16367627077533276,
         0.17181165191789516,
         0.17433723602355497,
         0.16866607166153624,
         0.15826299044124253,
         0.17204426942142642,
         0.1714149708759866,
         0.1669114419977391,
         0.15886817561819566,
         0.1673833684986681,
         0.17631514597215317,
         0.15782018283367658,
         0.1715299482986384,
         0.16072239482820255,
         0.1637906579695681,
         0.1672441315373736,
         0.17061994027048585,
         0.16593676864215787,
         0.15518233514225557,
         0.16764455133626932,
         0.16473462924130916,
         0.16251608814649018,
         0.16718022294224072,
         0.17329828604038489,
         0.16301381492033254,
         0.16803826045795772,
         0.17350524547426094,
         0.17359103929618067,
         0.16964661027733935,
         0.17012278088567023,
         0.16880704369095553,
         0.16137453981562738,
         0.1690184928158019,
         0.17455090034633716,
         0.17085722347795293,
         0.16805346274682173,
         0.1624481573809317,
         0.17122677546833603,
         0.1634685881516605,
         0.16864344712724783,
         0.16676663385088458,
         0.1676103237439357,
         0.17389190667709611,
         0.17019575000888296,
         0.16773759181089684,
         0.16695271161816036,
         0.16255881880075707,
         0.16417096973966183,
         0.16524027335051675,
         0.1639917874128358,
         0.17182259117565396,
         0.1665551443052283
        ],
        [
         0.31344261951744556,
         0.30064290314912795,
         0.30101908966898916,
         0.2968645911663771,
         0.305581234395504,
         0.3112525276839733,
         0.31781964637339116,
         0.30974017083644867,
         0.30378834940493105,
         0.2908430345356464,
         0.29467111751437186,
         0.3117385320365429,
         0.2988492548465729,
         0.28817334920167925,
         0.31026111617684365,
         0.2986368376761675,
         0.30833322554826736,
         0.30430019162595273,
         0.3086759716272354,
         0.3212711106985807,
         0.30145994760096073,
         0.2952495738863945,
         0.3185900256037712,
         0.3064705263823271,
         0.3052480038255453,
         0.2931443527340889,
         0.3058185759931803,
         0.28864636048674586,
         0.314134219661355,
         0.29447499588131903,
         0.30736013874411583,
         0.29326619766652584,
         0.3076241534203291,
         0.2986110046505928,
         0.2998850427567959,
         0.2988705761730671,
         0.29743483327329157,
         0.31338453516364095,
         0.29674402736127375,
         0.30238384045660494,
         0.3094589550048113,
         0.31117612645030024,
         0.3082070641219616,
         0.32736891359090803,
         0.3093596763908863,
         0.29554030373692514,
         0.30013154074549675,
         0.309413193538785,
         0.29505513831973074,
         0.311477592214942,
         0.3034612577408552,
         0.30389584302902223,
         0.3048854969441891,
         0.31490055471658707,
         0.305397006124258,
         0.30228554978966715,
         0.2924417246133089,
         0.2950819477438927,
         0.30489605888724325,
         0.2980181433260441,
         0.3112724080681801,
         0.293523633107543,
         0.28934924975037574,
         0.29819034077227113,
         0.30141690000891685,
         0.29433543495833875,
         0.29109688587486743,
         0.3066533900797367,
         0.2994533531367779,
         0.29380244985222814,
         0.294031248614192,
         0.3122176632285118,
         0.28514362722635267,
         0.30363910682499407,
         0.3143451251089573,
         0.31227073445916176,
         0.3120597779750824,
         0.3147942967712879,
         0.30188366398215294,
         0.3069427378475666,
         0.3085856154561043,
         0.3089427385479212,
         0.30087240785360336,
         0.2967532142996788,
         0.29649352431297304,
         0.3145310588181019,
         0.2928261302411556,
         0.31403216198086736,
         0.3005008578300476,
         0.3009760659188032,
         0.30918034762144087,
         0.29465594291687014,
         0.30222628228366377,
         0.30961024910211565,
         0.30691336914896966,
         0.3016889199614525,
         0.2971336245536804,
         0.3040252450853586,
         0.31472900360822675,
         0.30251228213310244
        ],
        [
         6.268852390348911,
         6.012858062982559,
         6.020381793379784,
         5.937291823327541,
         6.11162468791008,
         6.225050553679466,
         6.356392927467823,
         6.194803416728973,
         6.075766988098621,
         5.816860690712929,
         5.893422350287437,
         6.234770640730858,
         5.9769850969314575,
         5.763466984033585,
         6.205222323536873,
         5.97273675352335,
         6.166664510965347,
         6.086003832519054,
         6.173519432544708,
         6.425422213971615,
         6.029198952019215,
         5.90499147772789,
         6.371800512075424,
         6.129410527646542,
         6.104960076510906,
         5.862887054681778,
         6.1163715198636055,
         5.772927209734917,
         6.2826843932271,
         5.889499917626381,
         6.147202774882317,
         5.865323953330517,
         6.152483068406582,
         5.972220093011856,
         5.997700855135918,
         5.977411523461342,
         5.948696665465832,
         6.2676907032728195,
         5.934880547225475,
         6.047676809132099,
         6.189179100096226,
         6.223522529006004,
         6.164141282439232,
         6.547378271818161,
         6.187193527817726,
         5.9108060747385025,
         6.002630814909935,
         6.1882638707757,
         5.901102766394615,
         6.22955184429884,
         6.069225154817104,
         6.077916860580444,
         6.097709938883781,
         6.298011094331741,
         6.107940122485161,
         6.045710995793343,
         5.848834492266178,
         5.901638954877853,
         6.097921177744865,
         5.960362866520882,
         6.225448161363602,
         5.87047266215086,
         5.786984995007515,
         5.963806815445423,
         6.028338000178337,
         5.886708699166775,
         5.821937717497349,
         6.133067801594734,
         5.989067062735558,
         5.876048997044563,
         5.88062497228384,
         6.244353264570236,
         5.702872544527054,
         6.072782136499882,
         6.286902502179146,
         6.245414689183235,
         6.241195559501648,
         6.295885935425758,
         6.037673279643059,
         6.138854756951332,
         6.171712309122086,
         6.178854770958424,
         6.017448157072067,
         5.935064285993576,
         5.9298704862594604,
         6.290621176362038,
         5.8565226048231125,
         6.280643239617348,
         6.010017156600952,
         6.019521318376064,
         6.183606952428818,
         5.893118858337402,
         6.044525645673275,
         6.192204982042313,
         6.138267382979393,
         6.03377839922905,
         5.942672491073608,
         6.080504901707172,
         6.2945800721645355,
         6.050245642662048
        ],
        [
         1.8878304843897333,
         1.799710399227144,
         1.816815077313739,
         1.838725712105281,
         1.8131037530643608,
         1.8301211070372476,
         1.8858650745198307,
         1.8382744254258643,
         1.852810355460898,
         1.8055278461366167,
         1.7815992316633373,
         1.8632609853229043,
         1.8504478019244395,
         1.8187728301249801,
         1.8519802887490695,
         1.8082213126023619,
         1.8657913159587969,
         1.8449710904448513,
         1.867380224639083,
         1.9032387366432388,
         1.8631921273690595,
         1.8444631650883494,
         1.861304756498984,
         1.8341377503310896,
         1.847235135675929,
         1.8327575083975016,
         1.814529539762395,
         1.7892415807340796,
         1.8651348039960804,
         1.8178071070954314,
         1.850633274852339,
         1.7923731600598758,
         1.8186351614601033,
         1.7982903972477546,
         1.8995786805881452,
         1.8433222464557955,
         1.8013447074671356,
         1.856206707901715,
         1.7997744967408529,
         1.832430415229385,
         1.870038225433163,
         1.82064393016944,
         1.8005284214567636,
         1.9197637933927492,
         1.8726643601641693,
         1.8260175840578297,
         1.8439975980530658,
         1.8251322049013776,
         1.8092886490294064,
         1.853707916139407,
         1.8672827103765246,
         1.836660402260234,
         1.77911770516311,
         1.8549623684669532,
         1.851566746709319,
         1.827082056163538,
         1.7825160623017995,
         1.8296631848439653,
         1.8778452863436494,
         1.776627044900964,
         1.8521876162993771,
         1.7928881439074915,
         1.809920760528306,
         1.8289020287449713,
         1.8472679300550088,
         1.8217396556157956,
         1.7617169758065883,
         1.8310901197716583,
         1.8151288066763147,
         1.802864876503451,
         1.8285525584037268,
         1.8617104288282045,
         1.8056235206727482,
         1.8332389940100975,
         1.862821759988115,
         1.8632822614739863,
         1.8419913695635997,
         1.8445746441153865,
         1.83742778737536,
         1.7965218607945042,
         1.838578215990834,
         1.8684266126681945,
         1.8485519926577827,
         1.8333219179774278,
         1.8024880436825743,
         1.8505500558933068,
         1.808140415740218,
         1.836537215126597,
         1.8262893190887612,
         1.8309031855558922,
         1.8648962795667543,
         1.844970189509212,
         1.8315981645049595,
         1.8273079194167596,
         1.803101876216411,
         1.8120208041833397,
         1.8179123925564549,
         1.8110316806330904,
         1.8537669280449143,
         1.8251309230037625
        ]
       ],
       "encoder": "json",
       "name": "ABC_GAN_1 Metrics",
       "version": 1
      }
     },
     "metadata": {
      "scrapbook": {
       "data": true,
       "display": false,
       "name": "ABC_GAN_1 Metrics"
      }
     },
     "output_type": "display_data"
    },
    {
     "name": "stdout",
     "output_type": "stream",
     "text": [
      "MSE\n",
      "0.1681958802748914\n"
     ]
    }
   ],
   "source": [
    "ABC_GAN1_metrics=ABC_train_test2.test_generator(gen,test_data,prior_model,variance,bias,\"1\",device)\n",
    "sb.glue(\"ABC_GAN_1 Metrics\",ABC_GAN1_metrics)\n",
    "\n",
    "print(\"MSE\")\n",
    "print(mean(ABC_GAN1_metrics[0]))"
   ]
  },
  {
   "cell_type": "code",
   "execution_count": 14,
   "id": "eb22ce5c",
   "metadata": {
    "execution": {
     "iopub.execute_input": "2022-06-22T14:45:46.570503Z",
     "iopub.status.busy": "2022-06-22T14:45:46.569796Z",
     "iopub.status.idle": "2022-06-22T14:45:47.317862Z",
     "shell.execute_reply": "2022-06-22T14:45:47.318449Z"
    },
    "papermill": {
     "duration": 0.827189,
     "end_time": "2022-06-22T14:45:47.318803",
     "exception": false,
     "start_time": "2022-06-22T14:45:46.491614",
     "status": "completed"
    },
    "tags": []
   },
   "outputs": [
    {
     "data": {
      "image/png": "[encoded data removed]",
      "text/plain": [
       "<Figure size 432x288 with 1 Axes>"
      ]
     },
     "metadata": {
      "needs_background": "light"
     },
     "output_type": "display_data"
    },
    {
     "data": {
      "image/png": "[encoded data removed]",
      "text/plain": [
       "<Figure size 432x288 with 1 Axes>"
      ]
     },
     "metadata": {
      "needs_background": "light"
     },
     "output_type": "display_data"
    },
    {
     "data": {
      "image/png": "[encoded data removed]",
      "text/plain": [
       "<Figure size 432x288 with 1 Axes>"
      ]
     },
     "metadata": {
      "needs_background": "light"
     },
     "output_type": "display_data"
    },
    {
     "data": {
      "image/png": "[encoded data removed]",
      "text/plain": [
       "<Figure size 432x288 with 1 Axes>"
      ]
     },
     "metadata": {
      "needs_background": "light"
     },
     "output_type": "display_data"
    }
   ],
   "source": [
    "sanityChecks.discProbVsError(train_data,disc,device)\n",
    "sanityChecks.discProbVsError(test_data,disc,device)"
   ]
  },
  {
   "cell_type": "markdown",
   "id": "130f3a4d",
   "metadata": {
    "id": "130f3a4d",
    "papermill": {
     "duration": 0.056761,
     "end_time": "2022-06-22T14:45:47.426856",
     "exception": false,
     "start_time": "2022-06-22T14:45:47.370095",
     "status": "completed"
    },
    "tags": []
   },
   "source": [
    "# ABC - GAN Model with skip connection"
   ]
  },
  {
   "cell_type": "code",
   "execution_count": 15,
   "id": "4e43dad1",
   "metadata": {
    "execution": {
     "iopub.execute_input": "2022-06-22T14:45:47.537310Z",
     "iopub.status.busy": "2022-06-22T14:45:47.536581Z",
     "iopub.status.idle": "2022-06-22T14:45:47.540460Z",
     "shell.execute_reply": "2022-06-22T14:45:47.541079Z"
    },
    "id": "4e43dad1",
    "papermill": {
     "duration": 0.067192,
     "end_time": "2022-06-22T14:45:47.541290",
     "exception": false,
     "start_time": "2022-06-22T14:45:47.474098",
     "status": "completed"
    },
    "tags": []
   },
   "outputs": [],
   "source": [
    "#Generator\n",
    "gen3 = network.GeneratorWithSkipConnection(n_features+1).to(device)\n",
    "constraints=network.weightConstraint()\n",
    "#Discriminator \n",
    "disc3 = network.Discriminator(n_features+1).to(device)\n",
    "\n",
    "criterion = torch.nn.BCELoss()\n",
    "gen_opt = torch.optim.Adam(gen3.parameters(), lr=0.001, betas=(0.5, 0.999))\n",
    "disc_opt = torch.optim.Adam(disc3.parameters(), lr=0.001, betas=(0.5, 0.999))\n"
   ]
  },
  {
   "cell_type": "code",
   "execution_count": 16,
   "id": "26acbc37",
   "metadata": {
    "execution": {
     "iopub.execute_input": "2022-06-22T14:45:47.674009Z",
     "iopub.status.busy": "2022-06-22T14:45:47.671314Z",
     "iopub.status.idle": "2022-06-22T14:47:31.600862Z",
     "shell.execute_reply": "2022-06-22T14:47:31.601470Z"
    },
    "id": "26acbc37",
    "papermill": {
     "duration": 104.00093,
     "end_time": "2022-06-22T14:47:31.602155",
     "exception": false,
     "start_time": "2022-06-22T14:45:47.601225",
     "status": "completed"
    },
    "tags": []
   },
   "outputs": [
    {
     "data": {
      "image/png": "[encoded data removed]",
      "text/plain": [
       "<Figure size 432x288 with 1 Axes>"
      ]
     },
     "metadata": {
      "needs_background": "light"
     },
     "output_type": "display_data"
    },
    {
     "data": {
      "image/png": "[encoded data removed]",
      "text/plain": [
       "<Figure size 432x288 with 1 Axes>"
      ]
     },
     "metadata": {
      "needs_background": "light"
     },
     "output_type": "display_data"
    }
   ],
   "source": [
    "ABC_train_test2.training_GAN_skip_connection(disc3,gen3,disc_opt,gen_opt,train_data,batch_size,n_epochs,criterion,prior_model,variance,bias,device)"
   ]
  },
  {
   "cell_type": "code",
   "execution_count": 17,
   "id": "c5e0717b",
   "metadata": {
    "execution": {
     "iopub.execute_input": "2022-06-22T14:47:31.731806Z",
     "iopub.status.busy": "2022-06-22T14:47:31.730769Z",
     "iopub.status.idle": "2022-06-22T14:47:32.602936Z",
     "shell.execute_reply": "2022-06-22T14:47:32.602406Z"
    },
    "id": "c5e0717b",
    "papermill": {
     "duration": 0.948689,
     "end_time": "2022-06-22T14:47:32.603125",
     "exception": false,
     "start_time": "2022-06-22T14:47:31.654436",
     "status": "completed"
    },
    "tags": []
   },
   "outputs": [
    {
     "data": {
      "application/scrapbook.scrap.json+json": {
       "data": 0.2941583729984351,
       "encoder": "json",
       "name": "ABC-GAN Model 3 MSE",
       "version": 1
      }
     },
     "metadata": {
      "scrapbook": {
       "data": true,
       "display": false,
       "name": "ABC-GAN Model 3 MSE"
      }
     },
     "output_type": "display_data"
    },
    {
     "data": {
      "application/scrapbook.scrap.json+json": {
       "data": 0.4067242718152702,
       "encoder": "json",
       "name": "ABC-GAN Model 3 MAE",
       "version": 1
      }
     },
     "metadata": {
      "scrapbook": {
       "data": true,
       "display": false,
       "name": "ABC-GAN Model 3 MAE"
      }
     },
     "output_type": "display_data"
    },
    {
     "data": {
      "application/scrapbook.scrap.json+json": {
       "data": 8.134485436305404,
       "encoder": "json",
       "name": "ABC-GAN Model 3 Manhattan Distance",
       "version": 1
      }
     },
     "metadata": {
      "scrapbook": {
       "data": true,
       "display": false,
       "name": "ABC-GAN Model 3 Manhattan Distance"
      }
     },
     "output_type": "display_data"
    },
    {
     "data": {
      "application/scrapbook.scrap.json+json": {
       "data": 2.418845463752332,
       "encoder": "json",
       "name": "ABC-GAN Model 3 Euclidean distance",
       "version": 1
      }
     },
     "metadata": {
      "scrapbook": {
       "data": true,
       "display": false,
       "name": "ABC-GAN Model 3 Euclidean distance"
      }
     },
     "output_type": "display_data"
    },
    {
     "data": {
      "application/scrapbook.scrap.json+json": {
       "data": [
        [
         0.26876418688742143,
         0.33274335356289375,
         0.2594716835707657,
         0.28966672356579665,
         0.31798327374254653,
         0.2561291347215449,
         0.29323260652765815,
         0.2806743355507998,
         0.3985661183434343,
         0.32619909562041893,
         0.3452408706326661,
         0.3835967715386846,
         0.25474154615819267,
         0.3528571625191406,
         0.33871033639468523,
         0.30828018100779236,
         0.22020300685423097,
         0.2519180328015992,
         0.3291500976492746,
         0.25967640810393344,
         0.3239959245377016,
         0.28784373769494126,
         0.32102252099415285,
         0.29800125603489563,
         0.24604908454533372,
         0.27446257246256817,
         0.30113990336770824,
         0.3882796170145807,
         0.28659204976115304,
         0.28375085877850637,
         0.2528810359438604,
         0.3490582043679744,
         0.29002872834141563,
         0.250277891476142,
         0.3741716233082074,
         0.3415020988283913,
         0.35425880688341616,
         0.3363135861689202,
         0.31545774091797424,
         0.22051434957195837,
         0.37119897554354064,
         0.33648412125424465,
         0.2742502535662318,
         0.22053038353867302,
         0.2657734492658543,
         0.30466157883238776,
         0.30252666900106606,
         0.3493125024460152,
         0.25767341529834104,
         0.37492861170483527,
         0.31839781561739017,
         0.2801330587058604,
         0.31436252090524086,
         0.2750206209775327,
         0.38523972339516904,
         0.33341726727026166,
         0.281455635075301,
         0.29510964734129674,
         0.26249377122798906,
         0.25926361867412073,
         0.22318409330375827,
         0.2928823208486947,
         0.2553608352222996,
         0.2849176201361677,
         0.3004608248907889,
         0.22126188218784373,
         0.26233629542830644,
         0.31663951502658194,
         0.24601364625035144,
         0.3011871926474704,
         0.24304862058032867,
         0.34039212610638575,
         0.3708838515589433,
         0.3445345060825426,
         0.24203535520790886,
         0.2726689811978992,
         0.2613076913903224,
         0.324987266649859,
         0.22254955497282564,
         0.3274090247286139,
         0.2643707229573832,
         0.2352436276702628,
         0.2426484873668525,
         0.2446907120758524,
         0.22678242849715025,
         0.3309507898998878,
         0.32845405237436587,
         0.22453054601164224,
         0.2784807839810432,
         0.2907098356259511,
         0.307206585974996,
         0.2852721119878246,
         0.31146762082835033,
         0.29128147879917216,
         0.2628936346947496,
         0.29683718972726286,
         0.25145518346208007,
         0.2774185020408389,
         0.32348170361204565,
         0.26195994144327334
        ],
        [
         0.3881122745573521,
         0.4405218534171581,
         0.3923660673201084,
         0.3889823369681835,
         0.41706723645329474,
         0.37910359650850295,
         0.4136784888803959,
         0.3842828325927258,
         0.46636093929409983,
         0.4155181206762791,
         0.4617781348526478,
         0.46707159504294393,
         0.38243853524327276,
         0.4340317353606224,
         0.4309933610260487,
         0.43231322094798086,
         0.35692165419459343,
         0.40266638025641444,
         0.43085394725203513,
         0.4097411535680294,
         0.42308451905846595,
         0.4220805898308754,
         0.4192661188542843,
         0.42937721498310566,
         0.3800041116774082,
         0.4074390470981598,
         0.4168909087777138,
         0.4648550473153591,
         0.39429956004023553,
         0.38807189241051676,
         0.39576312229037286,
         0.42430607974529266,
         0.4015003852546215,
         0.37643481269478796,
         0.44140512123703957,
         0.43439908176660535,
         0.43693815991282464,
         0.43416268154978754,
         0.4282525800168514,
         0.3661952205002308,
         0.4455124191939831,
         0.4338565804064274,
         0.37464685216546056,
         0.3886139430105686,
         0.39785708859562874,
         0.3991665355861187,
         0.4053190492093563,
         0.44428535029292104,
         0.39149838909506796,
         0.46391951814293864,
         0.4146882951259613,
         0.3982043735682964,
         0.4182865612208843,
         0.3840573824942112,
         0.4630303308367729,
         0.4187012664973736,
         0.41555571332573893,
         0.3999335490167141,
         0.36205637976527216,
         0.36895583793520925,
         0.3650643236935139,
         0.41593190729618074,
         0.3909589074552059,
         0.39008802399039266,
         0.41684356406331063,
         0.3721067301928997,
         0.3855809845030308,
         0.4100239984691143,
         0.3938972197473049,
         0.4175812996923923,
         0.3891360439360142,
         0.4401682808995247,
         0.46398075148463247,
         0.4284690238535404,
         0.3689103953540325,
         0.3812835268676281,
         0.3871279962360859,
         0.40760161355137825,
         0.36835053041577337,
         0.436089675873518,
         0.3743415080010891,
         0.37039894312620164,
         0.3611178584396839,
         0.3712526701390743,
         0.35589797273278234,
         0.455550117790699,
         0.42807918079197405,
         0.36549838781356814,
         0.3716066930443048,
         0.41064495369791987,
         0.42162774577736856,
         0.3934269808232784,
         0.42599212750792503,
         0.40537483654916284,
         0.3590470764786005,
         0.39924085810780524,
         0.382628071308136,
         0.4134259633719921,
         0.4297794349491596,
         0.38062586858868597
        ],
        [
         7.762245491147041,
         8.810437068343163,
         7.847321346402168,
         7.77964673936367,
         8.341344729065895,
         7.582071930170059,
         8.273569777607918,
         7.685656651854515,
         9.327218785881996,
         8.310362413525581,
         9.235562697052956,
         9.341431900858879,
         7.648770704865456,
         8.680634707212448,
         8.619867220520973,
         8.646264418959618,
         7.138433083891869,
         8.053327605128288,
         8.617078945040703,
         8.194823071360588,
         8.46169038116932,
         8.441611796617508,
         8.385322377085686,
         8.587544299662113,
         7.600082233548164,
         8.148780941963196,
         8.337818175554276,
         9.297100946307182,
         7.88599120080471,
         7.761437848210335,
         7.915262445807457,
         8.486121594905853,
         8.03000770509243,
         7.52869625389576,
         8.828102424740791,
         8.687981635332108,
         8.738763198256493,
         8.68325363099575,
         8.565051600337029,
         7.323904410004616,
         8.910248383879662,
         8.677131608128548,
         7.492937043309212,
         7.772278860211372,
         7.957141771912575,
         7.983330711722374,
         8.106380984187126,
         8.885707005858421,
         7.82996778190136,
         9.278390362858772,
         8.293765902519226,
         7.964087471365929,
         8.365731224417686,
         7.681147649884224,
         9.260606616735458,
         8.374025329947472,
         8.311114266514778,
         7.998670980334282,
         7.241127595305443,
         7.3791167587041855,
         7.301286473870277,
         8.318638145923615,
         7.819178149104118,
         7.801760479807854,
         8.336871281266212,
         7.442134603857994,
         7.7116196900606155,
         8.200479969382286,
         7.877944394946098,
         8.351625993847847,
         7.7827208787202835,
         8.803365617990494,
         9.27961502969265,
         8.569380477070808,
         7.37820790708065,
         7.625670537352562,
         7.742559924721718,
         8.152032271027565,
         7.367010608315468,
         8.72179351747036,
         7.486830160021782,
         7.407978862524033,
         7.222357168793678,
         7.4250534027814865,
         7.117959454655647,
         9.11100235581398,
         8.561583615839481,
         7.309967756271362,
         7.432133860886097,
         8.212899073958397,
         8.432554915547371,
         7.8685396164655685,
         8.5198425501585,
         8.107496730983257,
         7.18094152957201,
         7.984817162156105,
         7.65256142616272,
         8.268519267439842,
         8.595588698983192,
         7.61251737177372
        ],
        [
         2.318465815522935,
         2.5797029036805528,
         2.2780328512590233,
         2.406934662868091,
         2.521837717786561,
         2.2633123280782304,
         2.421704385459374,
         2.3692797874071343,
         2.8233530361732457,
         2.554208666575301,
         2.6277019261425605,
         2.7698258845591166,
         2.2571732151440775,
         2.6565284207745288,
         2.6027306291458023,
         2.4830633540358664,
         2.098585270386843,
         2.2446292914492547,
         2.565736142510662,
         2.278931364056116,
         2.5455684022932936,
         2.3993488187212013,
         2.533860773579136,
         2.441316268060718,
         2.2183285804647324,
         2.3429151604894622,
         2.4541389665938165,
         2.7866812412422797,
         2.394126353228472,
         2.38222945485319,
         2.248915453919335,
         2.642189260321729,
         2.4084382007492557,
         2.237310400798879,
         2.735586311225465,
         2.613434900005704,
         2.6617994172492265,
         2.5935056821565676,
         2.5118031010330975,
         2.10006833018337,
         2.7246980586609615,
         2.5941631454256866,
         2.3420087684132684,
         2.10014467853371,
         2.305530087705881,
         2.4684471994854893,
         2.4597831977679094,
         2.6431515372600765,
         2.270125174074509,
         2.7383521019212824,
         2.52348099108113,
         2.3669941221129402,
         2.5074390158296604,
         2.345295806407084,
         2.7757511538146535,
         2.58231395175049,
         2.372575120308316,
         2.429442929320616,
         2.291260662726915,
         2.277119314722532,
         2.112742735421226,
         2.420257510467408,
         2.259915198507677,
         2.3871222010452993,
         2.451370330614242,
         2.1036248819019217,
         2.290573270726376,
         2.5165035864332954,
         2.2181688224765557,
         2.4543316509692423,
         2.2047613049050394,
         2.609184263736027,
         2.723541266656128,
         2.6250124040946647,
         2.2001606996213203,
         2.3352472297292173,
         2.2860782637098076,
         2.549459811998844,
         2.1097372109948935,
         2.5589412839243257,
         2.2994378572050307,
         2.1690718184064943,
         2.202945697773109,
         2.2121967004579517,
         2.129706216815597,
         2.5727447984589835,
         2.56302185856604,
         2.1191061606802153,
         2.360003321951235,
         2.4112645463571645,
         2.478735911608964,
         2.3886067570356766,
         2.495867067086508,
         2.4136341015123737,
         2.2930051665652633,
         2.4365434111760162,
         2.242566313231696,
         2.355497832904284,
         2.543547536854956,
         2.2889296251447897
        ]
       ],
       "encoder": "json",
       "name": "ABC_GAN_3 Metrics",
       "version": 1
      }
     },
     "metadata": {
      "scrapbook": {
       "data": true,
       "display": false,
       "name": "ABC_GAN_3 Metrics"
      }
     },
     "output_type": "display_data"
    },
    {
     "name": "stdout",
     "output_type": "stream",
     "text": [
      "MSE\n",
      "0.2941583729984351\n"
     ]
    }
   ],
   "source": [
    "ABC_GAN3_metrics=ABC_train_test2.test_generator(gen3,test_data,prior_model,variance,bias,\"3\",device)\n",
    "sb.glue(\"ABC_GAN_3 Metrics\",ABC_GAN3_metrics)\n",
    "\n",
    "print(\"MSE\")\n",
    "print(mean(ABC_GAN3_metrics[0]))"
   ]
  },
  {
   "cell_type": "code",
   "execution_count": 18,
   "id": "c8e46b48",
   "metadata": {
    "execution": {
     "iopub.execute_input": "2022-06-22T14:47:32.728689Z",
     "iopub.status.busy": "2022-06-22T14:47:32.727897Z",
     "iopub.status.idle": "2022-06-22T14:47:33.429690Z",
     "shell.execute_reply": "2022-06-22T14:47:33.430264Z"
    },
    "id": "c8e46b48",
    "papermill": {
     "duration": 0.774623,
     "end_time": "2022-06-22T14:47:33.430499",
     "exception": false,
     "start_time": "2022-06-22T14:47:32.655876",
     "status": "completed"
    },
    "tags": []
   },
   "outputs": [
    {
     "data": {
      "image/png": "[encoded data removed]",
      "text/plain": [
       "<Figure size 432x288 with 1 Axes>"
      ]
     },
     "metadata": {
      "needs_background": "light"
     },
     "output_type": "display_data"
    },
    {
     "data": {
      "image/png": "[encoded data removed]",
      "text/plain": [
       "<Figure size 432x288 with 1 Axes>"
      ]
     },
     "metadata": {
      "needs_background": "light"
     },
     "output_type": "display_data"
    },
    {
     "data": {
      "image/png": "[encoded data removed]",
      "text/plain": [
       "<Figure size 432x288 with 1 Axes>"
      ]
     },
     "metadata": {
      "needs_background": "light"
     },
     "output_type": "display_data"
    },
    {
     "data": {
      "image/png": "[encoded data removed]",
      "text/plain": [
       "<Figure size 432x288 with 1 Axes>"
      ]
     },
     "metadata": {
      "needs_background": "light"
     },
     "output_type": "display_data"
    }
   ],
   "source": [
    "sanityChecks.discProbVsError(train_data,disc3,device)\n",
    "sanityChecks.discProbVsError(test_data,disc3,device)"
   ]
  },
  {
   "cell_type": "markdown",
   "id": "a5bd74c3",
   "metadata": {
    "id": "a5bd74c3",
    "papermill": {
     "duration": 0.066078,
     "end_time": "2022-06-22T14:47:33.558531",
     "exception": false,
     "start_time": "2022-06-22T14:47:33.492453",
     "status": "completed"
    },
    "tags": []
   },
   "source": [
    "## Skip Connection Model Analysis - ABC-GAN "
   ]
  },
  {
   "cell_type": "markdown",
   "id": "5744a8bf",
   "metadata": {
    "id": "5744a8bf",
    "papermill": {
     "duration": 0.069334,
     "end_time": "2022-06-22T14:47:33.691932",
     "exception": false,
     "start_time": "2022-06-22T14:47:33.622598",
     "status": "completed"
    },
    "tags": []
   },
   "source": [
    "### Weight Analysis \n",
    "\n",
    "Study the weights of the skip connection layer\n",
    "\n",
    "Equation of the skip connection is \n",
    "\n",
    "$output = y_{gan} * w + y_{abc} * (1-w)$"
   ]
  },
  {
   "cell_type": "code",
   "execution_count": 19,
   "id": "52c31dea",
   "metadata": {
    "execution": {
     "iopub.execute_input": "2022-06-22T14:47:33.927818Z",
     "iopub.status.busy": "2022-06-22T14:47:33.922913Z",
     "iopub.status.idle": "2022-06-22T14:47:33.934452Z",
     "shell.execute_reply": "2022-06-22T14:47:33.935067Z"
    },
    "id": "52c31dea",
    "papermill": {
     "duration": 0.151922,
     "end_time": "2022-06-22T14:47:33.935304",
     "exception": false,
     "start_time": "2022-06-22T14:47:33.783382",
     "status": "completed"
    },
    "tags": []
   },
   "outputs": [
    {
     "name": "stdout",
     "output_type": "stream",
     "text": [
      "Weight of the node at skip connection\n",
      "Parameter containing:\n",
      "tensor([[0.1273]], requires_grad=True)\n"
     ]
    },
    {
     "data": {
      "application/scrapbook.scrap.json+json": {
       "data": 0.12734854221343994,
       "encoder": "json",
       "name": "Skip Connection Weight",
       "version": 1
      }
     },
     "metadata": {
      "scrapbook": {
       "data": true,
       "display": false,
       "name": "Skip Connection Weight"
      }
     },
     "output_type": "display_data"
    }
   ],
   "source": [
    "print(\"Weight of the node at skip connection\")\n",
    "for name,param in gen3.named_parameters():\n",
    "    if(name == \"skipNode.weight\"):\n",
    "        print(param)\n",
    "        sb.glue(\"Skip Connection Weight\",param.item())"
   ]
  }
 ],
 "metadata": {
  "colab": {
   "collapsed_sections": [],
   "name": "ABC_GAN_Model-Catboost_Pre-gen.ipynb",
   "provenance": []
  },
  "interpreter": {
   "hash": "31f2aee4e71d21fbe5cf8b01ff0e069b9275f58929596ceb00d14d90e3e16cd6"
  },
  "kernelspec": {
   "display_name": "Python 3 (ipykernel)",
   "language": "python",
   "name": "python3"
  },
  "language_info": {
   "codemirror_mode": {
    "name": "ipython",
    "version": 3
   },
   "file_extension": ".py",
   "mimetype": "text/x-python",
   "name": "python",
   "nbconvert_exporter": "python",
   "pygments_lexer": "ipython3",
   "version": "3.8.3"
  },
  "papermill": {
   "default_parameters": {},
   "duration": 198.633445,
   "end_time": "2022-06-22T14:47:36.118854",
   "environment_variables": {},
   "exception": null,
   "input_path": "ABC_GAN-TabNet.ipynb",
   "output_path": "./ABC_GAN_TabNet/ABC-GAN_output_7_0.ipynb",
   "parameters": {
    "bias": 1,
    "variance": 1
   },
   "start_time": "2022-06-22T14:44:17.485409",
   "version": "2.3.3"
  }
 },
 "nbformat": 4,
 "nbformat_minor": 5
}