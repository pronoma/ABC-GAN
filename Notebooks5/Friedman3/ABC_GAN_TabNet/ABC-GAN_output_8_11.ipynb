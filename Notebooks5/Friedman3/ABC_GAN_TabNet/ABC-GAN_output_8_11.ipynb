{
 "cells": [
  {
   "cell_type": "markdown",
   "id": "622780e6",
   "metadata": {
    "id": "622780e6",
    "papermill": {
     "duration": 0.036665,
     "end_time": "2022-06-22T15:46:11.474566",
     "exception": false,
     "start_time": "2022-06-22T15:46:11.437901",
     "status": "completed"
    },
    "tags": []
   },
   "source": [
    "## Import Libraries "
   ]
  },
  {
   "cell_type": "code",
   "execution_count": 1,
   "id": "a62397e3",
   "metadata": {
    "execution": {
     "iopub.execute_input": "2022-06-22T15:46:11.527400Z",
     "iopub.status.busy": "2022-06-22T15:46:11.525893Z",
     "iopub.status.idle": "2022-06-22T15:46:11.529215Z",
     "shell.execute_reply": "2022-06-22T15:46:11.529727Z"
    },
    "id": "a62397e3",
    "papermill": {
     "duration": 0.035086,
     "end_time": "2022-06-22T15:46:11.530178",
     "exception": false,
     "start_time": "2022-06-22T15:46:11.495092",
     "status": "completed"
    },
    "tags": []
   },
   "outputs": [],
   "source": [
    "import warnings\n",
    "import sys\n",
    "sys.path.insert(0, '../../src')\n",
    "warnings.filterwarnings('ignore')"
   ]
  },
  {
   "cell_type": "code",
   "execution_count": 2,
   "id": "d6a4e155",
   "metadata": {
    "execution": {
     "iopub.execute_input": "2022-06-22T15:46:11.576927Z",
     "iopub.status.busy": "2022-06-22T15:46:11.575541Z",
     "iopub.status.idle": "2022-06-22T15:46:18.860772Z",
     "shell.execute_reply": "2022-06-22T15:46:18.862309Z"
    },
    "id": "d6a4e155",
    "papermill": {
     "duration": 7.313308,
     "end_time": "2022-06-22T15:46:18.862664",
     "exception": false,
     "start_time": "2022-06-22T15:46:11.549356",
     "status": "completed"
    },
    "tags": []
   },
   "outputs": [],
   "source": [
    "import ABC_train_test2\n",
    "import friedman3Dataset\n",
    "import network\n",
    "import dataset\n",
    "import sanityChecks\n",
    "import torch \n",
    "import scrapbook as sb\n",
    "from statistics import mean \n",
    "import catboost as ctb \n",
    "from sklearn.model_selection import train_test_split\n",
    "from sklearn.metrics import mean_squared_error,mean_absolute_error\n",
    "import numpy as np\n",
    "from pytorch_tabnet.tab_model import TabNetRegressor"
   ]
  },
  {
   "cell_type": "markdown",
   "id": "2fa5b0f7",
   "metadata": {
    "id": "2fa5b0f7",
    "papermill": {
     "duration": 0.021733,
     "end_time": "2022-06-22T15:46:18.901991",
     "exception": false,
     "start_time": "2022-06-22T15:46:18.880258",
     "status": "completed"
    },
    "tags": []
   },
   "source": [
    "## Parameters "
   ]
  },
  {
   "cell_type": "code",
   "execution_count": 3,
   "id": "783186fb",
   "metadata": {
    "execution": {
     "iopub.execute_input": "2022-06-22T15:46:18.958629Z",
     "iopub.status.busy": "2022-06-22T15:46:18.957818Z",
     "iopub.status.idle": "2022-06-22T15:46:18.962856Z",
     "shell.execute_reply": "2022-06-22T15:46:18.963663Z"
    },
    "id": "783186fb",
    "papermill": {
     "duration": 0.040963,
     "end_time": "2022-06-22T15:46:18.963899",
     "exception": false,
     "start_time": "2022-06-22T15:46:18.922936",
     "status": "completed"
    },
    "tags": [
     "parameters"
    ]
   },
   "outputs": [],
   "source": [
    "variance = 1\n",
    "bias = 1 "
   ]
  },
  {
   "cell_type": "code",
   "execution_count": 4,
   "id": "79e0451e",
   "metadata": {
    "execution": {
     "iopub.execute_input": "2022-06-22T15:46:19.020543Z",
     "iopub.status.busy": "2022-06-22T15:46:19.019136Z",
     "iopub.status.idle": "2022-06-22T15:46:19.023395Z",
     "shell.execute_reply": "2022-06-22T15:46:19.023977Z"
    },
    "papermill": {
     "duration": 0.04127,
     "end_time": "2022-06-22T15:46:19.024213",
     "exception": false,
     "start_time": "2022-06-22T15:46:18.982943",
     "status": "completed"
    },
    "tags": [
     "injected-parameters"
    ]
   },
   "outputs": [],
   "source": [
    "# Parameters\n",
    "variance = 0.01\n",
    "bias = 0\n"
   ]
  },
  {
   "cell_type": "markdown",
   "id": "391cdbfd",
   "metadata": {
    "id": "391cdbfd",
    "papermill": {
     "duration": 0.031895,
     "end_time": "2022-06-22T15:46:19.078954",
     "exception": false,
     "start_time": "2022-06-22T15:46:19.047059",
     "status": "completed"
    },
    "tags": []
   },
   "source": [
    "## Dataset \n"
   ]
  },
  {
   "cell_type": "code",
   "execution_count": 5,
   "id": "5b51f161",
   "metadata": {
    "execution": {
     "iopub.execute_input": "2022-06-22T15:46:19.141008Z",
     "iopub.status.busy": "2022-06-22T15:46:19.138606Z",
     "iopub.status.idle": "2022-06-22T15:46:19.144125Z",
     "shell.execute_reply": "2022-06-22T15:46:19.144765Z"
    },
    "id": "5b51f161",
    "papermill": {
     "duration": 0.04313,
     "end_time": "2022-06-22T15:46:19.144996",
     "exception": false,
     "start_time": "2022-06-22T15:46:19.101866",
     "status": "completed"
    },
    "tags": []
   },
   "outputs": [],
   "source": [
    "#Parameters \n",
    "n_features = 4\n",
    "n_samples= 100\n",
    "n_target = 1"
   ]
  },
  {
   "cell_type": "code",
   "execution_count": 6,
   "id": "5d6eced4",
   "metadata": {
    "execution": {
     "iopub.execute_input": "2022-06-22T15:46:19.213257Z",
     "iopub.status.busy": "2022-06-22T15:46:19.211188Z",
     "iopub.status.idle": "2022-06-22T15:46:19.229835Z",
     "shell.execute_reply": "2022-06-22T15:46:19.230400Z"
    },
    "id": "5d6eced4",
    "papermill": {
     "duration": 0.049916,
     "end_time": "2022-06-22T15:46:19.230689",
     "exception": false,
     "start_time": "2022-06-22T15:46:19.180773",
     "status": "completed"
    },
    "tags": []
   },
   "outputs": [
    {
     "name": "stdout",
     "output_type": "stream",
     "text": [
      "          X1           X2        X3         X4         Y\n",
      "0  66.062184   426.723321  0.049430  10.267801  0.289361\n",
      "1  49.486222  1520.909186  0.700796   3.583107  1.656229\n",
      "2  91.844692  1454.897208  0.202870   4.484063  1.290809\n",
      "3  17.634787  1510.891827  0.508932   2.064810  1.495208\n",
      "4  22.044288  1690.643818  0.718688  10.319330  1.543935\n"
     ]
    }
   ],
   "source": [
    "X,Y = friedman3Dataset.friedman3_data(n_samples)"
   ]
  },
  {
   "cell_type": "code",
   "execution_count": 7,
   "id": "fe007438",
   "metadata": {
    "execution": {
     "iopub.execute_input": "2022-06-22T15:46:19.284025Z",
     "iopub.status.busy": "2022-06-22T15:46:19.283015Z",
     "iopub.status.idle": "2022-06-22T15:46:19.286384Z",
     "shell.execute_reply": "2022-06-22T15:46:19.285680Z"
    },
    "id": "fe007438",
    "papermill": {
     "duration": 0.037364,
     "end_time": "2022-06-22T15:46:19.286931",
     "exception": false,
     "start_time": "2022-06-22T15:46:19.249567",
     "status": "completed"
    },
    "tags": []
   },
   "outputs": [],
   "source": [
    "#Train test split for dataset \n",
    "X_train,X_test,Y_train,Y_test = train_test_split(X,Y,test_size = 0.2)\n",
    "train_data = dataset.CustomDataset(X_train,Y_train)\n",
    "test_data = dataset.CustomDataset(X_test,Y_test)\n"
   ]
  },
  {
   "cell_type": "markdown",
   "id": "a9a1af34",
   "metadata": {
    "id": "a9a1af34",
    "papermill": {
     "duration": 0.017648,
     "end_time": "2022-06-22T15:46:19.324309",
     "exception": false,
     "start_time": "2022-06-22T15:46:19.306661",
     "status": "completed"
    },
    "tags": []
   },
   "source": [
    "## Training Parameters "
   ]
  },
  {
   "cell_type": "code",
   "execution_count": 8,
   "id": "952b7fc8",
   "metadata": {
    "execution": {
     "iopub.execute_input": "2022-06-22T15:46:19.364106Z",
     "iopub.status.busy": "2022-06-22T15:46:19.363003Z",
     "iopub.status.idle": "2022-06-22T15:46:19.365133Z",
     "shell.execute_reply": "2022-06-22T15:46:19.365846Z"
    },
    "id": "952b7fc8",
    "papermill": {
     "duration": 0.025453,
     "end_time": "2022-06-22T15:46:19.366128",
     "exception": false,
     "start_time": "2022-06-22T15:46:19.340675",
     "status": "completed"
    },
    "tags": []
   },
   "outputs": [],
   "source": [
    "batch_size = 32\n",
    "n_epochs = 1000\n",
    "#Select the device \n",
    "device = torch.device('cuda' if torch.cuda.is_available() else 'cpu')"
   ]
  },
  {
   "cell_type": "markdown",
   "id": "a95e1600",
   "metadata": {
    "id": "a95e1600",
    "papermill": {
     "duration": 0.020323,
     "end_time": "2022-06-22T15:46:19.403599",
     "exception": false,
     "start_time": "2022-06-22T15:46:19.383276",
     "status": "completed"
    },
    "tags": []
   },
   "source": [
    "# ABC Pre-generator Model \n",
    "\n",
    "1. The catboost model is used as a pre-generator model for the ABC-GAN. \n",
    "2. The model is first trained on the entire dataset \n",
    "3. It generats X,Y pairs and we add some Gaussian noise with mean 0 and variance 1 to it which is then feed as input to the generator.\n"
   ]
  },
  {
   "cell_type": "code",
   "execution_count": 9,
   "id": "ff8ce7bd",
   "metadata": {
    "execution": {
     "iopub.execute_input": "2022-06-22T15:46:19.447495Z",
     "iopub.status.busy": "2022-06-22T15:46:19.446498Z",
     "iopub.status.idle": "2022-06-22T15:46:51.436818Z",
     "shell.execute_reply": "2022-06-22T15:46:51.437356Z"
    },
    "id": "ff8ce7bd",
    "papermill": {
     "duration": 32.015847,
     "end_time": "2022-06-22T15:46:51.437581",
     "exception": false,
     "start_time": "2022-06-22T15:46:19.421734",
     "status": "completed"
    },
    "tags": []
   },
   "outputs": [
    {
     "name": "stdout",
     "output_type": "stream",
     "text": [
      "Device used : cpu\n"
     ]
    },
    {
     "name": "stdout",
     "output_type": "stream",
     "text": [
      "epoch 0  | loss: 0.93291 | train_mse: 6.70689 | train_mae: 1.86929 |  0:00:00s\n",
      "epoch 1  | loss: 0.56787 | train_mse: 3.54455 | train_mae: 1.3525  |  0:00:00s\n",
      "epoch 2  | loss: 0.43897 | train_mse: 2.77183 | train_mae: 1.129   |  0:00:00s\n"
     ]
    },
    {
     "name": "stdout",
     "output_type": "stream",
     "text": [
      "epoch 3  | loss: 0.30622 | train_mse: 2.10443 | train_mae: 0.88777 |  0:00:00s\n",
      "epoch 4  | loss: 0.3926  | train_mse: 1.1544  | train_mae: 0.76328 |  0:00:00s\n"
     ]
    },
    {
     "name": "stdout",
     "output_type": "stream",
     "text": [
      "epoch 5  | loss: 0.45667 | train_mse: 0.98376 | train_mae: 0.66715 |  0:00:00s\n",
      "epoch 6  | loss: 0.3438  | train_mse: 0.97223 | train_mae: 0.69481 |  0:00:00s\n",
      "epoch 7  | loss: 0.42153 | train_mse: 0.93453 | train_mae: 0.68948 |  0:00:01s\n"
     ]
    },
    {
     "name": "stdout",
     "output_type": "stream",
     "text": [
      "epoch 8  | loss: 0.34189 | train_mse: 0.828   | train_mae: 0.62666 |  0:00:01s\n",
      "epoch 9  | loss: 0.39276 | train_mse: 0.66582 | train_mae: 0.5794  |  0:00:01s\n",
      "epoch 10 | loss: 0.25456 | train_mse: 0.38559 | train_mae: 0.47355 |  0:00:01s\n"
     ]
    },
    {
     "name": "stdout",
     "output_type": "stream",
     "text": [
      "epoch 11 | loss: 0.25354 | train_mse: 0.60508 | train_mae: 0.5589  |  0:00:01s\n",
      "epoch 12 | loss: 0.22001 | train_mse: 0.55061 | train_mae: 0.54003 |  0:00:01s\n",
      "epoch 13 | loss: 0.24004 | train_mse: 0.44669 | train_mae: 0.49453 |  0:00:01s\n"
     ]
    },
    {
     "name": "stdout",
     "output_type": "stream",
     "text": [
      "epoch 14 | loss: 0.36474 | train_mse: 0.26354 | train_mae: 0.40006 |  0:00:01s\n",
      "epoch 15 | loss: 0.24519 | train_mse: 0.29948 | train_mae: 0.44944 |  0:00:01s\n",
      "epoch 16 | loss: 0.34221 | train_mse: 0.31919 | train_mae: 0.44977 |  0:00:01s\n"
     ]
    },
    {
     "name": "stdout",
     "output_type": "stream",
     "text": [
      "epoch 17 | loss: 0.28872 | train_mse: 0.36122 | train_mae: 0.45374 |  0:00:01s\n",
      "epoch 18 | loss: 0.19661 | train_mse: 0.31649 | train_mae: 0.41905 |  0:00:02s\n",
      "epoch 19 | loss: 0.22975 | train_mse: 0.35206 | train_mae: 0.43658 |  0:00:02s\n"
     ]
    },
    {
     "name": "stdout",
     "output_type": "stream",
     "text": [
      "epoch 20 | loss: 0.16812 | train_mse: 0.56139 | train_mae: 0.50967 |  0:00:02s\n",
      "epoch 21 | loss: 0.19481 | train_mse: 0.37333 | train_mae: 0.44164 |  0:00:02s\n",
      "epoch 22 | loss: 0.1929  | train_mse: 0.35956 | train_mae: 0.44003 |  0:00:02s\n"
     ]
    },
    {
     "name": "stdout",
     "output_type": "stream",
     "text": [
      "epoch 23 | loss: 0.13057 | train_mse: 0.35704 | train_mae: 0.43736 |  0:00:02s\n",
      "epoch 24 | loss: 0.12407 | train_mse: 0.4084  | train_mae: 0.45293 |  0:00:02s\n"
     ]
    },
    {
     "name": "stdout",
     "output_type": "stream",
     "text": [
      "epoch 25 | loss: 0.18549 | train_mse: 0.31267 | train_mae: 0.40296 |  0:00:02s\n",
      "epoch 26 | loss: 0.36249 | train_mse: 0.5658  | train_mae: 0.50437 |  0:00:02s\n",
      "epoch 27 | loss: 0.20998 | train_mse: 0.46502 | train_mae: 0.48627 |  0:00:02s\n"
     ]
    },
    {
     "name": "stdout",
     "output_type": "stream",
     "text": [
      "epoch 28 | loss: 0.18873 | train_mse: 0.18793 | train_mae: 0.34697 |  0:00:02s\n",
      "epoch 29 | loss: 0.2752  | train_mse: 0.27271 | train_mae: 0.37368 |  0:00:03s\n",
      "epoch 30 | loss: 0.09335 | train_mse: 0.44117 | train_mae: 0.44831 |  0:00:03s\n"
     ]
    },
    {
     "name": "stdout",
     "output_type": "stream",
     "text": [
      "epoch 31 | loss: 0.17032 | train_mse: 0.63199 | train_mae: 0.50314 |  0:00:03s\n",
      "epoch 32 | loss: 0.19376 | train_mse: 0.57719 | train_mae: 0.48565 |  0:00:03s\n",
      "epoch 33 | loss: 0.1155  | train_mse: 0.41815 | train_mae: 0.42901 |  0:00:03s\n"
     ]
    },
    {
     "name": "stdout",
     "output_type": "stream",
     "text": [
      "epoch 34 | loss: 0.10307 | train_mse: 0.2506  | train_mae: 0.33501 |  0:00:03s\n",
      "epoch 35 | loss: 0.16195 | train_mse: 0.13441 | train_mae: 0.26359 |  0:00:03s\n"
     ]
    },
    {
     "name": "stdout",
     "output_type": "stream",
     "text": [
      "epoch 36 | loss: 0.18375 | train_mse: 0.08257 | train_mae: 0.23087 |  0:00:03s\n",
      "epoch 37 | loss: 0.25426 | train_mse: 0.10115 | train_mae: 0.24845 |  0:00:03s\n"
     ]
    },
    {
     "name": "stdout",
     "output_type": "stream",
     "text": [
      "epoch 38 | loss: 0.11714 | train_mse: 0.2977  | train_mae: 0.37451 |  0:00:03s\n",
      "epoch 39 | loss: 0.23646 | train_mse: 0.21249 | train_mae: 0.31144 |  0:00:03s\n",
      "epoch 40 | loss: 0.09386 | train_mse: 0.24256 | train_mae: 0.33035 |  0:00:04s\n"
     ]
    },
    {
     "name": "stdout",
     "output_type": "stream",
     "text": [
      "epoch 41 | loss: 0.15507 | train_mse: 0.24933 | train_mae: 0.35468 |  0:00:04s\n",
      "epoch 42 | loss: 0.09556 | train_mse: 0.22139 | train_mae: 0.33374 |  0:00:04s\n",
      "epoch 43 | loss: 0.1385  | train_mse: 0.21123 | train_mae: 0.3168  |  0:00:04s\n"
     ]
    },
    {
     "name": "stdout",
     "output_type": "stream",
     "text": [
      "epoch 44 | loss: 0.17205 | train_mse: 0.27563 | train_mae: 0.34613 |  0:00:04s\n",
      "epoch 45 | loss: 0.22862 | train_mse: 0.27266 | train_mae: 0.3405  |  0:00:04s\n",
      "epoch 46 | loss: 0.08988 | train_mse: 0.28959 | train_mae: 0.35839 |  0:00:04s"
     ]
    },
    {
     "name": "stdout",
     "output_type": "stream",
     "text": [
      "\n",
      "epoch 47 | loss: 0.19021 | train_mse: 0.25026 | train_mae: 0.34438 |  0:00:04s\n"
     ]
    },
    {
     "name": "stdout",
     "output_type": "stream",
     "text": [
      "epoch 48 | loss: 0.10329 | train_mse: 0.27457 | train_mae: 0.36335 |  0:00:04s\n",
      "epoch 49 | loss: 0.13037 | train_mse: 0.25194 | train_mae: 0.34242 |  0:00:04s\n",
      "epoch 50 | loss: 0.10791 | train_mse: 0.14902 | train_mae: 0.26774 |  0:00:05s\n"
     ]
    },
    {
     "name": "stdout",
     "output_type": "stream",
     "text": [
      "epoch 51 | loss: 0.12908 | train_mse: 0.1198  | train_mae: 0.25347 |  0:00:05s\n",
      "epoch 52 | loss: 0.20771 | train_mse: 0.09594 | train_mae: 0.21765 |  0:00:05s\n",
      "epoch 53 | loss: 0.13865 | train_mse: 0.11556 | train_mae: 0.22995 |  0:00:05s\n"
     ]
    },
    {
     "name": "stdout",
     "output_type": "stream",
     "text": [
      "epoch 54 | loss: 0.09935 | train_mse: 0.13974 | train_mae: 0.25237 |  0:00:05s\n",
      "epoch 55 | loss: 0.11553 | train_mse: 0.15788 | train_mae: 0.25759 |  0:00:05s\n",
      "epoch 56 | loss: 0.08841 | train_mse: 0.12757 | train_mae: 0.23215 |  0:00:05s\n"
     ]
    },
    {
     "name": "stdout",
     "output_type": "stream",
     "text": [
      "epoch 57 | loss: 0.12196 | train_mse: 0.10459 | train_mae: 0.22055 |  0:00:05s\n",
      "epoch 58 | loss: 0.107   | train_mse: 0.08962 | train_mae: 0.2114  |  0:00:05s\n"
     ]
    },
    {
     "name": "stdout",
     "output_type": "stream",
     "text": [
      "epoch 59 | loss: 0.18116 | train_mse: 0.11363 | train_mae: 0.23348 |  0:00:05s\n",
      "epoch 60 | loss: 0.0663  | train_mse: 0.09744 | train_mae: 0.20986 |  0:00:06s\n",
      "epoch 61 | loss: 0.25658 | train_mse: 0.10993 | train_mae: 0.23436 |  0:00:06s\n"
     ]
    },
    {
     "name": "stdout",
     "output_type": "stream",
     "text": [
      "epoch 62 | loss: 0.11588 | train_mse: 0.13821 | train_mae: 0.24487 |  0:00:06s\n",
      "epoch 63 | loss: 0.09159 | train_mse: 0.26568 | train_mae: 0.33462 |  0:00:06s\n",
      "epoch 64 | loss: 0.12838 | train_mse: 0.40142 | train_mae: 0.40484 |  0:00:06s\n"
     ]
    },
    {
     "name": "stdout",
     "output_type": "stream",
     "text": [
      "epoch 65 | loss: 0.11084 | train_mse: 0.3301  | train_mae: 0.36174 |  0:00:06s\n",
      "epoch 66 | loss: 0.11612 | train_mse: 0.23175 | train_mae: 0.32087 |  0:00:06s\n"
     ]
    },
    {
     "name": "stdout",
     "output_type": "stream",
     "text": [
      "epoch 67 | loss: 0.064   | train_mse: 0.19238 | train_mae: 0.27487 |  0:00:06s\n",
      "epoch 68 | loss: 0.43477 | train_mse: 0.27741 | train_mae: 0.35624 |  0:00:06s\n",
      "epoch 69 | loss: 0.06085 | train_mse: 0.22052 | train_mae: 0.31825 |  0:00:06s\n"
     ]
    },
    {
     "name": "stdout",
     "output_type": "stream",
     "text": [
      "epoch 70 | loss: 0.07959 | train_mse: 0.1624  | train_mae: 0.26189 |  0:00:07s\n",
      "epoch 71 | loss: 0.27327 | train_mse: 0.20492 | train_mae: 0.28624 |  0:00:07s\n",
      "epoch 72 | loss: 0.08018 | train_mse: 0.22178 | train_mae: 0.30183 |  0:00:07s\n"
     ]
    },
    {
     "name": "stdout",
     "output_type": "stream",
     "text": [
      "epoch 73 | loss: 0.18869 | train_mse: 0.22957 | train_mae: 0.32747 |  0:00:07s\n",
      "epoch 74 | loss: 0.09285 | train_mse: 0.18103 | train_mae: 0.29792 |  0:00:07s\n",
      "epoch 75 | loss: 0.28822 | train_mse: 0.09646 | train_mae: 0.23168 |  0:00:07s\n"
     ]
    },
    {
     "name": "stdout",
     "output_type": "stream",
     "text": [
      "epoch 76 | loss: 0.14534 | train_mse: 0.07723 | train_mae: 0.20344 |  0:00:07s\n",
      "epoch 77 | loss: 0.06736 | train_mse: 0.08645 | train_mae: 0.20767 |  0:00:07s\n",
      "epoch 78 | loss: 0.08914 | train_mse: 0.1502  | train_mae: 0.25734 |  0:00:07s\n"
     ]
    },
    {
     "name": "stdout",
     "output_type": "stream",
     "text": [
      "epoch 79 | loss: 0.2898  | train_mse: 0.1568  | train_mae: 0.25829 |  0:00:07s\n",
      "epoch 80 | loss: 0.10905 | train_mse: 0.13079 | train_mae: 0.24257 |  0:00:07s\n",
      "epoch 81 | loss: 0.08428 | train_mse: 0.09337 | train_mae: 0.21431 |  0:00:07s\n"
     ]
    },
    {
     "name": "stdout",
     "output_type": "stream",
     "text": [
      "epoch 82 | loss: 0.1854  | train_mse: 0.09261 | train_mae: 0.21236 |  0:00:08s\n",
      "epoch 83 | loss: 0.16989 | train_mse: 0.06184 | train_mae: 0.18874 |  0:00:08s\n",
      "epoch 84 | loss: 0.09974 | train_mse: 0.06573 | train_mae: 0.1916  |  0:00:08s\n"
     ]
    },
    {
     "name": "stdout",
     "output_type": "stream",
     "text": [
      "epoch 85 | loss: 0.10458 | train_mse: 0.07677 | train_mae: 0.19855 |  0:00:08s\n",
      "epoch 86 | loss: 0.06995 | train_mse: 0.12992 | train_mae: 0.23657 |  0:00:08s\n",
      "epoch 87 | loss: 0.06525 | train_mse: 0.12818 | train_mae: 0.22511 |  0:00:08s\n"
     ]
    },
    {
     "name": "stdout",
     "output_type": "stream",
     "text": [
      "epoch 88 | loss: 0.08153 | train_mse: 0.11439 | train_mae: 0.21669 |  0:00:08s\n",
      "epoch 89 | loss: 0.06864 | train_mse: 0.10237 | train_mae: 0.20428 |  0:00:08s\n",
      "epoch 90 | loss: 0.30785 | train_mse: 0.09796 | train_mae: 0.21539 |  0:00:08s\n"
     ]
    },
    {
     "name": "stdout",
     "output_type": "stream",
     "text": [
      "epoch 91 | loss: 0.07427 | train_mse: 0.11497 | train_mae: 0.22529 |  0:00:08s\n",
      "epoch 92 | loss: 0.2441  | train_mse: 0.15769 | train_mae: 0.25464 |  0:00:08s\n",
      "epoch 93 | loss: 0.10245 | train_mse: 0.13956 | train_mae: 0.24478 |  0:00:08s\n"
     ]
    },
    {
     "name": "stdout",
     "output_type": "stream",
     "text": [
      "epoch 94 | loss: 0.13733 | train_mse: 0.11024 | train_mae: 0.2361  |  0:00:09s\n",
      "epoch 95 | loss: 0.07857 | train_mse: 0.08725 | train_mae: 0.2138  |  0:00:09s\n",
      "epoch 96 | loss: 0.08226 | train_mse: 0.06632 | train_mae: 0.20105 |  0:00:09s\n"
     ]
    },
    {
     "name": "stdout",
     "output_type": "stream",
     "text": [
      "epoch 97 | loss: 0.12136 | train_mse: 0.06027 | train_mae: 0.19236 |  0:00:09s\n",
      "epoch 98 | loss: 0.07689 | train_mse: 0.05507 | train_mae: 0.17994 |  0:00:09s\n",
      "epoch 99 | loss: 0.09454 | train_mse: 0.0654  | train_mae: 0.19357 |  0:00:09s\n"
     ]
    },
    {
     "name": "stdout",
     "output_type": "stream",
     "text": [
      "epoch 100| loss: 0.13858 | train_mse: 0.05933 | train_mae: 0.18727 |  0:00:09s\n",
      "epoch 101| loss: 0.24917 | train_mse: 0.05977 | train_mae: 0.18586 |  0:00:09s\n"
     ]
    },
    {
     "name": "stdout",
     "output_type": "stream",
     "text": [
      "epoch 102| loss: 0.06134 | train_mse: 0.06139 | train_mae: 0.18855 |  0:00:09s\n",
      "epoch 103| loss: 0.05498 | train_mse: 0.05786 | train_mae: 0.18623 |  0:00:09s\n",
      "epoch 104| loss: 0.10503 | train_mse: 0.05413 | train_mae: 0.18385 |  0:00:10s\n"
     ]
    },
    {
     "name": "stdout",
     "output_type": "stream",
     "text": [
      "epoch 105| loss: 0.07516 | train_mse: 0.05668 | train_mae: 0.18113 |  0:00:10s\n",
      "epoch 106| loss: 0.09393 | train_mse: 0.06275 | train_mae: 0.1863  |  0:00:10s\n",
      "epoch 107| loss: 0.15314 | train_mse: 0.06639 | train_mae: 0.18852 |  0:00:10s\n"
     ]
    },
    {
     "name": "stdout",
     "output_type": "stream",
     "text": [
      "epoch 108| loss: 0.09197 | train_mse: 0.06984 | train_mae: 0.18435 |  0:00:10s\n",
      "epoch 109| loss: 0.1357  | train_mse: 0.07413 | train_mae: 0.19069 |  0:00:10s\n",
      "epoch 110| loss: 0.0694  | train_mse: 0.05581 | train_mae: 0.1736  |  0:00:10s\n"
     ]
    },
    {
     "name": "stdout",
     "output_type": "stream",
     "text": [
      "epoch 111| loss: 0.24428 | train_mse: 0.05362 | train_mae: 0.17721 |  0:00:10s\n",
      "epoch 112| loss: 0.13124 | train_mse: 0.07596 | train_mae: 0.19966 |  0:00:10s\n",
      "epoch 113| loss: 0.06593 | train_mse: 0.0591  | train_mae: 0.18275 |  0:00:10s\n"
     ]
    },
    {
     "name": "stdout",
     "output_type": "stream",
     "text": [
      "epoch 114| loss: 0.25184 | train_mse: 0.04662 | train_mae: 0.17267 |  0:00:10s\n",
      "epoch 115| loss: 0.08829 | train_mse: 0.07363 | train_mae: 0.20039 |  0:00:11s\n",
      "epoch 116| loss: 0.19396 | train_mse: 0.08582 | train_mae: 0.21003 |  0:00:11s\n"
     ]
    },
    {
     "name": "stdout",
     "output_type": "stream",
     "text": [
      "epoch 117| loss: 0.13644 | train_mse: 0.08154 | train_mae: 0.20108 |  0:00:11s\n",
      "epoch 118| loss: 0.08247 | train_mse: 0.05524 | train_mae: 0.18261 |  0:00:11s\n",
      "epoch 119| loss: 0.10891 | train_mse: 0.04918 | train_mae: 0.17836 |  0:00:11s\n"
     ]
    },
    {
     "name": "stdout",
     "output_type": "stream",
     "text": [
      "epoch 120| loss: 0.11791 | train_mse: 0.04319 | train_mae: 0.16907 |  0:00:11s\n",
      "epoch 121| loss: 0.09057 | train_mse: 0.04071 | train_mae: 0.16791 |  0:00:11s\n"
     ]
    },
    {
     "name": "stdout",
     "output_type": "stream",
     "text": [
      "epoch 122| loss: 0.0454  | train_mse: 0.04493 | train_mae: 0.17188 |  0:00:11s\n",
      "epoch 123| loss: 0.05254 | train_mse: 0.0604  | train_mae: 0.18657 |  0:00:11s\n",
      "epoch 124| loss: 0.06054 | train_mse: 0.0903  | train_mae: 0.21154 |  0:00:12s\n"
     ]
    },
    {
     "name": "stdout",
     "output_type": "stream",
     "text": [
      "epoch 125| loss: 0.20454 | train_mse: 0.07629 | train_mae: 0.20445 |  0:00:12s\n",
      "epoch 126| loss: 0.05778 | train_mse: 0.05182 | train_mae: 0.18027 |  0:00:12s\n",
      "epoch 127| loss: 0.06486 | train_mse: 0.04967 | train_mae: 0.17271 |  0:00:12s\n"
     ]
    },
    {
     "name": "stdout",
     "output_type": "stream",
     "text": [
      "epoch 128| loss: 0.08215 | train_mse: 0.05164 | train_mae: 0.17557 |  0:00:12s\n",
      "epoch 129| loss: 0.14896 | train_mse: 0.05443 | train_mae: 0.1859  |  0:00:12s\n",
      "epoch 130| loss: 0.05594 | train_mse: 0.05696 | train_mae: 0.18921 |  0:00:12s\n"
     ]
    },
    {
     "name": "stdout",
     "output_type": "stream",
     "text": [
      "epoch 131| loss: 0.07962 | train_mse: 0.04809 | train_mae: 0.17383 |  0:00:12s\n",
      "epoch 132| loss: 0.08226 | train_mse: 0.05375 | train_mae: 0.17958 |  0:00:12s\n",
      "epoch 133| loss: 0.15645 | train_mse: 0.03443 | train_mae: 0.15578 |  0:00:12s\n"
     ]
    },
    {
     "name": "stdout",
     "output_type": "stream",
     "text": [
      "epoch 134| loss: 0.09993 | train_mse: 0.04884 | train_mae: 0.1771  |  0:00:12s\n",
      "epoch 135| loss: 0.19245 | train_mse: 0.10558 | train_mae: 0.22296 |  0:00:13s\n",
      "epoch 136| loss: 0.074   | train_mse: 0.10464 | train_mae: 0.21638 |  0:00:13s\n"
     ]
    },
    {
     "name": "stdout",
     "output_type": "stream",
     "text": [
      "epoch 137| loss: 0.06923 | train_mse: 0.06977 | train_mae: 0.19476 |  0:00:13s\n",
      "epoch 138| loss: 0.15811 | train_mse: 0.0719  | train_mae: 0.20195 |  0:00:13s\n",
      "epoch 139| loss: 0.07578 | train_mse: 0.05993 | train_mae: 0.18492 |  0:00:13s\n"
     ]
    },
    {
     "name": "stdout",
     "output_type": "stream",
     "text": [
      "epoch 140| loss: 0.09386 | train_mse: 0.05756 | train_mae: 0.17963 |  0:00:13s\n",
      "epoch 141| loss: 0.11686 | train_mse: 0.06752 | train_mae: 0.19938 |  0:00:13s\n"
     ]
    },
    {
     "name": "stdout",
     "output_type": "stream",
     "text": [
      "epoch 142| loss: 0.06041 | train_mse: 0.05852 | train_mae: 0.18834 |  0:00:13s\n",
      "epoch 143| loss: 0.26277 | train_mse: 0.04716 | train_mae: 0.17315 |  0:00:13s\n",
      "epoch 144| loss: 0.07784 | train_mse: 0.04705 | train_mae: 0.17044 |  0:00:13s\n"
     ]
    },
    {
     "name": "stdout",
     "output_type": "stream",
     "text": [
      "epoch 145| loss: 0.16671 | train_mse: 0.04871 | train_mae: 0.17241 |  0:00:14s\n",
      "epoch 146| loss: 0.09668 | train_mse: 0.04332 | train_mae: 0.16773 |  0:00:14s\n",
      "epoch 147| loss: 0.05672 | train_mse: 0.05277 | train_mae: 0.1826  |  0:00:14s\n"
     ]
    },
    {
     "name": "stdout",
     "output_type": "stream",
     "text": [
      "epoch 148| loss: 0.08283 | train_mse: 0.05831 | train_mae: 0.18725 |  0:00:14s\n",
      "epoch 149| loss: 0.08193 | train_mse: 0.07038 | train_mae: 0.19699 |  0:00:14s\n",
      "epoch 150| loss: 0.0541  | train_mse: 0.13691 | train_mae: 0.23745 |  0:00:14s\n"
     ]
    },
    {
     "name": "stdout",
     "output_type": "stream",
     "text": [
      "epoch 151| loss: 0.16028 | train_mse: 0.1673  | train_mae: 0.23878 |  0:00:14s\n"
     ]
    },
    {
     "name": "stdout",
     "output_type": "stream",
     "text": [
      "epoch 152| loss: 0.07644 | train_mse: 0.07251 | train_mae: 0.1892  |  0:00:14s\n",
      "epoch 153| loss: 0.10895 | train_mse: 0.05409 | train_mae: 0.1789  |  0:00:14s\n"
     ]
    },
    {
     "name": "stdout",
     "output_type": "stream",
     "text": [
      "epoch 154| loss: 0.08333 | train_mse: 0.04694 | train_mae: 0.16629 |  0:00:15s\n",
      "epoch 155| loss: 0.07552 | train_mse: 0.05369 | train_mae: 0.17766 |  0:00:15s\n",
      "epoch 156| loss: 0.12426 | train_mse: 0.06461 | train_mae: 0.18912 |  0:00:15s\n"
     ]
    },
    {
     "name": "stdout",
     "output_type": "stream",
     "text": [
      "epoch 157| loss: 0.33336 | train_mse: 0.05569 | train_mae: 0.1754  |  0:00:15s\n",
      "epoch 158| loss: 0.1199  | train_mse: 0.08046 | train_mae: 0.19806 |  0:00:15s\n",
      "epoch 159| loss: 0.12913 | train_mse: 0.06251 | train_mae: 0.18187 |  0:00:15s\n"
     ]
    },
    {
     "name": "stdout",
     "output_type": "stream",
     "text": [
      "epoch 160| loss: 0.09222 | train_mse: 0.05659 | train_mae: 0.18332 |  0:00:15s\n",
      "epoch 161| loss: 0.12347 | train_mse: 0.07201 | train_mae: 0.19023 |  0:00:15s\n"
     ]
    },
    {
     "name": "stdout",
     "output_type": "stream",
     "text": [
      "epoch 162| loss: 0.26484 | train_mse: 0.07217 | train_mae: 0.19839 |  0:00:15s\n",
      "epoch 163| loss: 0.14142 | train_mse: 0.08339 | train_mae: 0.21305 |  0:00:15s\n",
      "epoch 164| loss: 0.11605 | train_mse: 0.06614 | train_mae: 0.18755 |  0:00:15s\n"
     ]
    },
    {
     "name": "stdout",
     "output_type": "stream",
     "text": [
      "epoch 165| loss: 0.08856 | train_mse: 0.05211 | train_mae: 0.17633 |  0:00:16s\n",
      "epoch 166| loss: 0.11906 | train_mse: 0.04662 | train_mae: 0.16926 |  0:00:16s\n",
      "epoch 167| loss: 0.06684 | train_mse: 0.04649 | train_mae: 0.16137 |  0:00:16s\n"
     ]
    },
    {
     "name": "stdout",
     "output_type": "stream",
     "text": [
      "epoch 168| loss: 0.08302 | train_mse: 0.073   | train_mae: 0.20348 |  0:00:16s\n",
      "epoch 169| loss: 0.07008 | train_mse: 0.07142 | train_mae: 0.19801 |  0:00:16s\n",
      "epoch 170| loss: 0.04728 | train_mse: 0.0675  | train_mae: 0.19942 |  0:00:16s\n"
     ]
    },
    {
     "name": "stdout",
     "output_type": "stream",
     "text": [
      "epoch 171| loss: 0.10385 | train_mse: 0.06455 | train_mae: 0.20277 |  0:00:16s\n",
      "epoch 172| loss: 0.10099 | train_mse: 0.0508  | train_mae: 0.17413 |  0:00:16s\n"
     ]
    },
    {
     "name": "stdout",
     "output_type": "stream",
     "text": [
      "epoch 173| loss: 0.08674 | train_mse: 0.04166 | train_mae: 0.16087 |  0:00:16s\n",
      "epoch 174| loss: 0.06426 | train_mse: 0.0399  | train_mae: 0.15408 |  0:00:16s\n",
      "epoch 175| loss: 0.08822 | train_mse: 0.05377 | train_mae: 0.16717 |  0:00:16s\n"
     ]
    },
    {
     "name": "stdout",
     "output_type": "stream",
     "text": [
      "epoch 176| loss: 0.05667 | train_mse: 0.09522 | train_mae: 0.20886 |  0:00:17s\n",
      "epoch 177| loss: 0.09427 | train_mse: 0.09988 | train_mae: 0.20831 |  0:00:17s\n",
      "epoch 178| loss: 0.04873 | train_mse: 0.08498 | train_mae: 0.20064 |  0:00:17s\n"
     ]
    },
    {
     "name": "stdout",
     "output_type": "stream",
     "text": [
      "epoch 179| loss: 0.13798 | train_mse: 0.06419 | train_mae: 0.19555 |  0:00:17s\n",
      "epoch 180| loss: 0.08565 | train_mse: 0.05689 | train_mae: 0.17251 |  0:00:17s\n",
      "epoch 181| loss: 0.07981 | train_mse: 0.05348 | train_mae: 0.16882 |  0:00:17s\n"
     ]
    },
    {
     "name": "stdout",
     "output_type": "stream",
     "text": [
      "epoch 182| loss: 0.05805 | train_mse: 0.07101 | train_mae: 0.1966  |  0:00:17s\n",
      "epoch 183| loss: 0.0865  | train_mse: 0.06849 | train_mae: 0.18873 |  0:00:17s\n",
      "epoch 184| loss: 0.061   | train_mse: 0.05437 | train_mae: 0.16089 |  0:00:17s\n"
     ]
    },
    {
     "name": "stdout",
     "output_type": "stream",
     "text": [
      "epoch 185| loss: 0.04839 | train_mse: 0.04707 | train_mae: 0.16033 |  0:00:17s\n",
      "epoch 186| loss: 0.0648  | train_mse: 0.03042 | train_mae: 0.13595 |  0:00:17s\n",
      "epoch 187| loss: 0.06028 | train_mse: 0.03002 | train_mae: 0.13982 |  0:00:17s\n"
     ]
    },
    {
     "name": "stdout",
     "output_type": "stream",
     "text": [
      "epoch 188| loss: 0.04527 | train_mse: 0.03667 | train_mae: 0.15692 |  0:00:18s\n",
      "epoch 189| loss: 0.07491 | train_mse: 0.03077 | train_mae: 0.1428  |  0:00:18s\n"
     ]
    },
    {
     "name": "stdout",
     "output_type": "stream",
     "text": [
      "epoch 190| loss: 0.17086 | train_mse: 0.03934 | train_mae: 0.15956 |  0:00:18s\n",
      "epoch 191| loss: 0.07082 | train_mse: 0.03918 | train_mae: 0.1582  |  0:00:18s\n",
      "epoch 192| loss: 0.0586  | train_mse: 0.03067 | train_mae: 0.13901 |  0:00:18s\n"
     ]
    },
    {
     "name": "stdout",
     "output_type": "stream",
     "text": [
      "epoch 193| loss: 0.11797 | train_mse: 0.03616 | train_mae: 0.15098 |  0:00:18s\n",
      "epoch 194| loss: 0.17169 | train_mse: 0.03903 | train_mae: 0.15282 |  0:00:18s\n"
     ]
    },
    {
     "name": "stdout",
     "output_type": "stream",
     "text": [
      "epoch 195| loss: 0.08141 | train_mse: 0.06038 | train_mae: 0.18072 |  0:00:18s\n",
      "epoch 196| loss: 0.05385 | train_mse: 0.10379 | train_mae: 0.21885 |  0:00:18s\n",
      "epoch 197| loss: 0.11897 | train_mse: 0.11214 | train_mae: 0.2178  |  0:00:18s\n"
     ]
    },
    {
     "name": "stdout",
     "output_type": "stream",
     "text": [
      "epoch 198| loss: 0.05082 | train_mse: 0.06835 | train_mae: 0.19324 |  0:00:19s\n",
      "epoch 199| loss: 0.13743 | train_mse: 0.03974 | train_mae: 0.15325 |  0:00:19s\n"
     ]
    },
    {
     "name": "stdout",
     "output_type": "stream",
     "text": [
      "epoch 200| loss: 0.08025 | train_mse: 0.02974 | train_mae: 0.13909 |  0:00:19s\n",
      "epoch 201| loss: 0.12269 | train_mse: 0.03428 | train_mae: 0.14961 |  0:00:19s\n"
     ]
    },
    {
     "name": "stdout",
     "output_type": "stream",
     "text": [
      "epoch 202| loss: 0.05562 | train_mse: 0.04937 | train_mae: 0.17094 |  0:00:19s\n"
     ]
    },
    {
     "name": "stdout",
     "output_type": "stream",
     "text": [
      "epoch 203| loss: 0.06273 | train_mse: 0.05776 | train_mae: 0.18389 |  0:00:19s\n"
     ]
    },
    {
     "name": "stdout",
     "output_type": "stream",
     "text": [
      "epoch 204| loss: 0.07058 | train_mse: 0.05009 | train_mae: 0.1756  |  0:00:20s\n",
      "epoch 205| loss: 0.08454 | train_mse: 0.04528 | train_mae: 0.16635 |  0:00:20s\n"
     ]
    },
    {
     "name": "stdout",
     "output_type": "stream",
     "text": [
      "epoch 206| loss: 0.04606 | train_mse: 0.0563  | train_mae: 0.17089 |  0:00:20s\n",
      "epoch 207| loss: 0.04403 | train_mse: 0.07048 | train_mae: 0.18706 |  0:00:20s\n"
     ]
    },
    {
     "name": "stdout",
     "output_type": "stream",
     "text": [
      "epoch 208| loss: 0.08704 | train_mse: 0.06236 | train_mae: 0.18526 |  0:00:20s\n",
      "epoch 209| loss: 0.05536 | train_mse: 0.06887 | train_mae: 0.19468 |  0:00:20s\n"
     ]
    },
    {
     "name": "stdout",
     "output_type": "stream",
     "text": [
      "epoch 210| loss: 0.06149 | train_mse: 0.0679  | train_mae: 0.19145 |  0:00:20s\n",
      "epoch 211| loss: 0.12351 | train_mse: 0.06008 | train_mae: 0.17816 |  0:00:21s\n"
     ]
    },
    {
     "name": "stdout",
     "output_type": "stream",
     "text": [
      "epoch 212| loss: 0.06388 | train_mse: 0.07447 | train_mae: 0.18717 |  0:00:21s\n",
      "epoch 213| loss: 0.06339 | train_mse: 0.10844 | train_mae: 0.21417 |  0:00:21s\n"
     ]
    },
    {
     "name": "stdout",
     "output_type": "stream",
     "text": [
      "epoch 214| loss: 0.05731 | train_mse: 0.15017 | train_mae: 0.23585 |  0:00:21s\n",
      "epoch 215| loss: 0.06105 | train_mse: 0.29142 | train_mae: 0.2818  |  0:00:21s\n"
     ]
    },
    {
     "name": "stdout",
     "output_type": "stream",
     "text": [
      "epoch 216| loss: 0.13169 | train_mse: 0.31249 | train_mae: 0.30113 |  0:00:21s\n",
      "epoch 217| loss: 0.06742 | train_mse: 0.24158 | train_mae: 0.28924 |  0:00:21s\n",
      "epoch 218| loss: 0.15543 | train_mse: 0.27744 | train_mae: 0.2891  |  0:00:21s\n"
     ]
    },
    {
     "name": "stdout",
     "output_type": "stream",
     "text": [
      "epoch 219| loss: 0.102   | train_mse: 0.37866 | train_mae: 0.30208 |  0:00:21s\n",
      "epoch 220| loss: 0.06058 | train_mse: 0.38445 | train_mae: 0.30147 |  0:00:22s\n",
      "epoch 221| loss: 0.09225 | train_mse: 0.33767 | train_mae: 0.29565 |  0:00:22s\n"
     ]
    },
    {
     "name": "stdout",
     "output_type": "stream",
     "text": [
      "epoch 222| loss: 0.08804 | train_mse: 0.28821 | train_mae: 0.29509 |  0:00:22s\n",
      "epoch 223| loss: 0.04925 | train_mse: 0.36416 | train_mae: 0.32241 |  0:00:22s\n",
      "epoch 224| loss: 0.05751 | train_mse: 0.3535  | train_mae: 0.31368 |  0:00:22s\n"
     ]
    },
    {
     "name": "stdout",
     "output_type": "stream",
     "text": [
      "epoch 225| loss: 0.04419 | train_mse: 0.27853 | train_mae: 0.26861 |  0:00:22s\n",
      "epoch 226| loss: 0.13199 | train_mse: 0.22528 | train_mae: 0.23675 |  0:00:22s\n"
     ]
    },
    {
     "name": "stdout",
     "output_type": "stream",
     "text": [
      "epoch 227| loss: 0.06928 | train_mse: 0.06939 | train_mae: 0.18126 |  0:00:22s\n",
      "epoch 228| loss: 0.04679 | train_mse: 0.04725 | train_mae: 0.16165 |  0:00:22s\n"
     ]
    },
    {
     "name": "stdout",
     "output_type": "stream",
     "text": [
      "epoch 229| loss: 0.08693 | train_mse: 0.03397 | train_mae: 0.14244 |  0:00:22s\n",
      "epoch 230| loss: 0.04122 | train_mse: 0.03039 | train_mae: 0.14059 |  0:00:23s\n"
     ]
    },
    {
     "name": "stdout",
     "output_type": "stream",
     "text": [
      "epoch 231| loss: 0.05473 | train_mse: 0.02876 | train_mae: 0.13859 |  0:00:23s\n",
      "epoch 232| loss: 0.06149 | train_mse: 0.02852 | train_mae: 0.13812 |  0:00:23s\n"
     ]
    },
    {
     "name": "stdout",
     "output_type": "stream",
     "text": [
      "epoch 233| loss: 0.06543 | train_mse: 0.0292  | train_mae: 0.13469 |  0:00:23s\n",
      "epoch 234| loss: 0.20095 | train_mse: 0.03384 | train_mae: 0.14177 |  0:00:23s\n"
     ]
    },
    {
     "name": "stdout",
     "output_type": "stream",
     "text": [
      "epoch 235| loss: 0.08582 | train_mse: 0.04551 | train_mae: 0.15244 |  0:00:23s\n",
      "epoch 236| loss: 0.05586 | train_mse: 0.05584 | train_mae: 0.15745 |  0:00:23s\n",
      "epoch 237| loss: 0.06641 | train_mse: 0.07116 | train_mae: 0.18394 |  0:00:23s"
     ]
    },
    {
     "name": "stdout",
     "output_type": "stream",
     "text": [
      "\n",
      "epoch 238| loss: 0.06076 | train_mse: 0.07776 | train_mae: 0.18482 |  0:00:23s\n",
      "epoch 239| loss: 0.0759  | train_mse: 0.08333 | train_mae: 0.17828 |  0:00:24s\n"
     ]
    },
    {
     "name": "stdout",
     "output_type": "stream",
     "text": [
      "epoch 240| loss: 0.04706 | train_mse: 0.09214 | train_mae: 0.18641 |  0:00:24s\n",
      "epoch 241| loss: 0.07471 | train_mse: 0.08128 | train_mae: 0.18145 |  0:00:24s\n",
      "epoch 242| loss: 0.11423 | train_mse: 0.07074 | train_mae: 0.17523 |  0:00:24s\n"
     ]
    },
    {
     "name": "stdout",
     "output_type": "stream",
     "text": [
      "epoch 243| loss: 0.12774 | train_mse: 0.05844 | train_mae: 0.16481 |  0:00:24s\n",
      "epoch 244| loss: 0.13619 | train_mse: 0.06971 | train_mae: 0.17992 |  0:00:24s\n",
      "epoch 245| loss: 0.08495 | train_mse: 0.03495 | train_mae: 0.14419 |  0:00:24s\n"
     ]
    },
    {
     "name": "stdout",
     "output_type": "stream",
     "text": [
      "epoch 246| loss: 0.07496 | train_mse: 0.04832 | train_mae: 0.16231 |  0:00:24s\n",
      "epoch 247| loss: 0.05894 | train_mse: 0.20174 | train_mae: 0.24446 |  0:00:24s\n",
      "epoch 248| loss: 0.04812 | train_mse: 0.35744 | train_mae: 0.30621 |  0:00:24s\n"
     ]
    },
    {
     "name": "stdout",
     "output_type": "stream",
     "text": [
      "epoch 249| loss: 0.03253 | train_mse: 0.46814 | train_mae: 0.33344 |  0:00:24s\n",
      "epoch 250| loss: 0.04915 | train_mse: 0.50597 | train_mae: 0.34264 |  0:00:25s\n",
      "epoch 251| loss: 0.13875 | train_mse: 0.31459 | train_mae: 0.29137 |  0:00:25s\n"
     ]
    },
    {
     "name": "stdout",
     "output_type": "stream",
     "text": [
      "epoch 252| loss: 0.0956  | train_mse: 0.06849 | train_mae: 0.19045 |  0:00:25s\n",
      "epoch 253| loss: 0.06389 | train_mse: 0.04912 | train_mae: 0.17127 |  0:00:25s\n",
      "epoch 254| loss: 0.1589  | train_mse: 0.05626 | train_mae: 0.17841 |  0:00:25s\n"
     ]
    },
    {
     "name": "stdout",
     "output_type": "stream",
     "text": [
      "epoch 255| loss: 0.10493 | train_mse: 0.10229 | train_mae: 0.20628 |  0:00:25s\n",
      "epoch 256| loss: 0.13715 | train_mse: 0.15903 | train_mae: 0.2325  |  0:00:25s\n"
     ]
    },
    {
     "name": "stdout",
     "output_type": "stream",
     "text": [
      "epoch 257| loss: 0.0953  | train_mse: 0.14025 | train_mae: 0.22081 |  0:00:25s\n",
      "epoch 258| loss: 0.09089 | train_mse: 0.12584 | train_mae: 0.2188  |  0:00:25s\n",
      "epoch 259| loss: 0.10992 | train_mse: 0.12875 | train_mae: 0.22658 |  0:00:25s\n"
     ]
    },
    {
     "name": "stdout",
     "output_type": "stream",
     "text": [
      "epoch 260| loss: 0.18993 | train_mse: 0.14069 | train_mae: 0.23482 |  0:00:25s\n",
      "epoch 261| loss: 0.07928 | train_mse: 0.12605 | train_mae: 0.22245 |  0:00:26s\n",
      "epoch 262| loss: 0.05503 | train_mse: 0.13217 | train_mae: 0.23008 |  0:00:26s\n"
     ]
    },
    {
     "name": "stdout",
     "output_type": "stream",
     "text": [
      "epoch 263| loss: 0.04004 | train_mse: 0.1386  | train_mae: 0.22976 |  0:00:26s\n",
      "epoch 264| loss: 0.04303 | train_mse: 0.09888 | train_mae: 0.20369 |  0:00:26s\n",
      "epoch 265| loss: 0.03336 | train_mse: 0.07071 | train_mae: 0.18317 |  0:00:26s\n"
     ]
    },
    {
     "name": "stdout",
     "output_type": "stream",
     "text": [
      "epoch 266| loss: 0.05076 | train_mse: 0.0488  | train_mae: 0.16355 |  0:00:26s\n",
      "epoch 267| loss: 0.03718 | train_mse: 0.03507 | train_mae: 0.1464  |  0:00:26s\n",
      "epoch 268| loss: 0.1435  | train_mse: 0.03022 | train_mae: 0.13469 |  0:00:26s\n"
     ]
    },
    {
     "name": "stdout",
     "output_type": "stream",
     "text": [
      "epoch 269| loss: 0.03348 | train_mse: 0.03076 | train_mae: 0.13529 |  0:00:26s\n",
      "epoch 270| loss: 0.07531 | train_mse: 0.0368  | train_mae: 0.14142 |  0:00:26s\n",
      "epoch 271| loss: 0.05015 | train_mse: 0.05141 | train_mae: 0.15893 |  0:00:26s\n"
     ]
    },
    {
     "name": "stdout",
     "output_type": "stream",
     "text": [
      "epoch 272| loss: 0.04098 | train_mse: 0.05321 | train_mae: 0.16067 |  0:00:27s\n",
      "epoch 273| loss: 0.11811 | train_mse: 0.08003 | train_mae: 0.184   |  0:00:27s\n",
      "epoch 274| loss: 0.0445  | train_mse: 0.09863 | train_mae: 0.20034 |  0:00:27s\n"
     ]
    },
    {
     "name": "stdout",
     "output_type": "stream",
     "text": [
      "epoch 275| loss: 0.04154 | train_mse: 0.08877 | train_mae: 0.19479 |  0:00:27s\n",
      "epoch 276| loss: 0.04132 | train_mse: 0.10025 | train_mae: 0.19091 |  0:00:27s\n",
      "epoch 277| loss: 0.05599 | train_mse: 0.12642 | train_mae: 0.18737 |  0:00:27s\n"
     ]
    },
    {
     "name": "stdout",
     "output_type": "stream",
     "text": [
      "epoch 278| loss: 0.03377 | train_mse: 0.13591 | train_mae: 0.19365 |  0:00:27s\n",
      "epoch 279| loss: 0.12977 | train_mse: 0.09631 | train_mae: 0.19038 |  0:00:27s\n"
     ]
    },
    {
     "name": "stdout",
     "output_type": "stream",
     "text": [
      "epoch 280| loss: 0.042   | train_mse: 0.08314 | train_mae: 0.19188 |  0:00:27s\n",
      "epoch 281| loss: 0.05028 | train_mse: 0.07127 | train_mae: 0.17946 |  0:00:27s\n",
      "epoch 282| loss: 0.05537 | train_mse: 0.16158 | train_mae: 0.21337 |  0:00:27s\n"
     ]
    },
    {
     "name": "stdout",
     "output_type": "stream",
     "text": [
      "epoch 283| loss: 0.04497 | train_mse: 0.20776 | train_mae: 0.23469 |  0:00:28s\n",
      "epoch 284| loss: 0.03642 | train_mse: 0.21505 | train_mae: 0.23847 |  0:00:28s\n",
      "epoch 285| loss: 0.03513 | train_mse: 0.22922 | train_mae: 0.24801 |  0:00:28s\n"
     ]
    },
    {
     "name": "stdout",
     "output_type": "stream",
     "text": [
      "epoch 286| loss: 0.05006 | train_mse: 0.28714 | train_mae: 0.25849 |  0:00:28s\n",
      "epoch 287| loss: 0.12618 | train_mse: 0.33101 | train_mae: 0.26075 |  0:00:28s\n"
     ]
    },
    {
     "name": "stdout",
     "output_type": "stream",
     "text": [
      "epoch 288| loss: 0.06833 | train_mse: 0.24943 | train_mae: 0.24745 |  0:00:28s\n",
      "epoch 289| loss: 0.07814 | train_mse: 0.15775 | train_mae: 0.22456 |  0:00:28s\n"
     ]
    },
    {
     "name": "stdout",
     "output_type": "stream",
     "text": [
      "epoch 290| loss: 0.10186 | train_mse: 0.07692 | train_mae: 0.1841  |  0:00:28s\n",
      "epoch 291| loss: 0.05749 | train_mse: 0.05046 | train_mae: 0.16473 |  0:00:29s\n"
     ]
    },
    {
     "name": "stdout",
     "output_type": "stream",
     "text": [
      "epoch 292| loss: 0.22276 | train_mse: 0.04171 | train_mae: 0.15481 |  0:00:29s\n"
     ]
    },
    {
     "name": "stdout",
     "output_type": "stream",
     "text": [
      "epoch 293| loss: 0.13445 | train_mse: 0.04516 | train_mae: 0.16076 |  0:00:29s\n",
      "epoch 294| loss: 0.05831 | train_mse: 0.04047 | train_mae: 0.14891 |  0:00:29s\n"
     ]
    },
    {
     "name": "stdout",
     "output_type": "stream",
     "text": [
      "epoch 295| loss: 0.05242 | train_mse: 0.03943 | train_mae: 0.14038 |  0:00:29s\n",
      "epoch 296| loss: 0.08616 | train_mse: 0.04767 | train_mae: 0.15887 |  0:00:29s\n",
      "epoch 297| loss: 0.05751 | train_mse: 0.18359 | train_mae: 0.23236 |  0:00:29s\n"
     ]
    },
    {
     "name": "stdout",
     "output_type": "stream",
     "text": [
      "epoch 298| loss: 0.05132 | train_mse: 0.25875 | train_mae: 0.25881 |  0:00:30s\n",
      "epoch 299| loss: 0.04881 | train_mse: 0.26351 | train_mae: 0.26395 |  0:00:30s\n",
      "epoch 300| loss: 0.10387 | train_mse: 0.22424 | train_mae: 0.24403 |  0:00:30s\n"
     ]
    },
    {
     "name": "stdout",
     "output_type": "stream",
     "text": [
      "epoch 301| loss: 0.05799 | train_mse: 0.20956 | train_mae: 0.23695 |  0:00:30s\n",
      "epoch 302| loss: 0.04236 | train_mse: 0.19046 | train_mae: 0.2284  |  0:00:30s\n"
     ]
    },
    {
     "name": "stdout",
     "output_type": "stream",
     "text": [
      "epoch 303| loss: 0.05301 | train_mse: 0.16273 | train_mae: 0.21897 |  0:00:30s\n",
      "epoch 304| loss: 0.05543 | train_mse: 0.1495  | train_mae: 0.21747 |  0:00:30s\n",
      "epoch 305| loss: 0.05436 | train_mse: 0.1083  | train_mae: 0.19985 |  0:00:30s\n"
     ]
    },
    {
     "name": "stdout",
     "output_type": "stream",
     "text": [
      "epoch 306| loss: 0.05519 | train_mse: 0.13469 | train_mae: 0.20206 |  0:00:30s\n",
      "epoch 307| loss: 0.05441 | train_mse: 0.16328 | train_mae: 0.21754 |  0:00:30s\n",
      "epoch 308| loss: 0.09241 | train_mse: 0.1065  | train_mae: 0.20637 |  0:00:30s\n"
     ]
    },
    {
     "name": "stdout",
     "output_type": "stream",
     "text": [
      "epoch 309| loss: 0.05438 | train_mse: 0.14918 | train_mae: 0.21483 |  0:00:31s\n",
      "epoch 310| loss: 0.04314 | train_mse: 0.17192 | train_mae: 0.21835 |  0:00:31s\n",
      "epoch 311| loss: 0.0451  | train_mse: 0.10056 | train_mae: 0.19379 |  0:00:31s\n"
     ]
    },
    {
     "name": "stdout",
     "output_type": "stream",
     "text": [
      "epoch 312| loss: 0.04597 | train_mse: 0.07068 | train_mae: 0.17636 |  0:00:31s\n",
      "epoch 313| loss: 0.04384 | train_mse: 0.05702 | train_mae: 0.16547 |  0:00:31s\n",
      "epoch 314| loss: 0.03947 | train_mse: 0.05036 | train_mae: 0.15832 |  0:00:31s\n"
     ]
    },
    {
     "name": "stdout",
     "output_type": "stream",
     "text": [
      "epoch 315| loss: 0.03645 | train_mse: 0.04723 | train_mae: 0.15474 |  0:00:31s\n",
      "epoch 316| loss: 0.04207 | train_mse: 0.04579 | train_mae: 0.15521 |  0:00:31s\n",
      "epoch 317| loss: 0.04492 | train_mse: 0.05904 | train_mae: 0.1704  |  0:00:31s\n"
     ]
    },
    {
     "name": "stdout",
     "output_type": "stream",
     "text": [
      "epoch 318| loss: 0.08989 | train_mse: 0.11626 | train_mae: 0.20281 |  0:00:31s\n",
      "\n",
      "Early stopping occurred at epoch 318 with best_epoch = 268 and best_train_mae = 0.13469\n",
      "Best weights from best epoch are automatically used!\n"
     ]
    }
   ],
   "source": [
    "#Train the Model\n",
    "\n",
    "Y_train = np.reshape(Y_train, (-1, 1))\n",
    "Y_test = np.reshape(Y_test, (-1, 1))\n",
    "\n",
    "prior_model = TabNetRegressor(optimizer_fn=torch.optim.Adam, optimizer_params=dict(lr = 0.02),\n",
    "          #scheduler_params={\"step_size\":10, ], \"gamma\":0.9},\n",
    "          #scheduler_fn=torch.optim.lr_scheduler.StepLR\n",
    "          )  #TabNetRegressor()\n",
    "\n",
    "prior_model.fit(X_train,Y_train,eval_set=[(X_train, Y_train)],\n",
    "            eval_name=['train'], \n",
    "            eval_metric=[ 'mse', 'mae'], \n",
    "            max_epochs = n_epochs, \n",
    "            batch_size = batch_size,\n",
    "            patience=50\n",
    "            )"
   ]
  },
  {
   "cell_type": "code",
   "execution_count": 10,
   "id": "af65dcda",
   "metadata": {
    "execution": {
     "iopub.execute_input": "2022-06-22T15:46:51.565328Z",
     "iopub.status.busy": "2022-06-22T15:46:51.563800Z",
     "iopub.status.idle": "2022-06-22T15:46:51.590560Z",
     "shell.execute_reply": "2022-06-22T15:46:51.591484Z"
    },
    "id": "af65dcda",
    "papermill": {
     "duration": 0.099208,
     "end_time": "2022-06-22T15:46:51.591766",
     "exception": false,
     "start_time": "2022-06-22T15:46:51.492558",
     "status": "completed"
    },
    "tags": []
   },
   "outputs": [
    {
     "data": {
      "application/scrapbook.scrap.json+json": {
       "data": 0.16079130636612166,
       "encoder": "json",
       "name": "Prior Model MSE",
       "version": 1
      }
     },
     "metadata": {
      "scrapbook": {
       "data": true,
       "display": false,
       "name": "Prior Model MSE"
      }
     },
     "output_type": "display_data"
    },
    {
     "data": {
      "application/scrapbook.scrap.json+json": {
       "data": 0.16221217520891387,
       "encoder": "json",
       "name": "ABC Pre-generator MSE",
       "version": 1
      }
     },
     "metadata": {
      "scrapbook": {
       "data": true,
       "display": false,
       "name": "ABC Pre-generator MSE"
      }
     },
     "output_type": "display_data"
    },
    {
     "data": {
      "application/scrapbook.scrap.json+json": {
       "data": 0.32542658072930164,
       "encoder": "json",
       "name": "Prior Model MSE",
       "version": 1
      }
     },
     "metadata": {
      "scrapbook": {
       "data": true,
       "display": false,
       "name": "Prior Model MSE"
      }
     },
     "output_type": "display_data"
    },
    {
     "data": {
      "application/scrapbook.scrap.json+json": {
       "data": 0.3281028077495331,
       "encoder": "json",
       "name": "ABC Pre-generator MSE",
       "version": 1
      }
     },
     "metadata": {
      "scrapbook": {
       "data": true,
       "display": false,
       "name": "ABC Pre-generator MSE"
      }
     },
     "output_type": "display_data"
    }
   ],
   "source": [
    "y_pred = prior_model.predict(X_test)\n",
    "y_abc = y_pred + np.random.normal(0,variance, y_pred.shape) + bias \n",
    "mse = mean_squared_error(y_pred,Y_test)\n",
    "sb.glue(\"Prior Model MSE\",mse)\n",
    "mse = mean_squared_error(y_abc,Y_test)\n",
    "sb.glue(\"ABC Pre-generator MSE\",mse)\n",
    "mae = mean_absolute_error(y_pred,Y_test)\n",
    "sb.glue(\"Prior Model MSE\",mae)\n",
    "mae = mean_absolute_error(y_abc,Y_test)\n",
    "sb.glue(\"ABC Pre-generator MSE\",mae)"
   ]
  },
  {
   "cell_type": "markdown",
   "id": "25609da2",
   "metadata": {
    "papermill": {
     "duration": 0.062171,
     "end_time": "2022-06-22T15:46:51.709371",
     "exception": false,
     "start_time": "2022-06-22T15:46:51.647200",
     "status": "completed"
    },
    "tags": []
   },
   "source": [
    "# ABC GAN Model"
   ]
  },
  {
   "cell_type": "code",
   "execution_count": 11,
   "id": "dfc3464d",
   "metadata": {
    "execution": {
     "iopub.execute_input": "2022-06-22T15:46:51.821790Z",
     "iopub.status.busy": "2022-06-22T15:46:51.821024Z",
     "iopub.status.idle": "2022-06-22T15:46:51.824750Z",
     "shell.execute_reply": "2022-06-22T15:46:51.825279Z"
    },
    "papermill": {
     "duration": 0.066584,
     "end_time": "2022-06-22T15:46:51.825502",
     "exception": false,
     "start_time": "2022-06-22T15:46:51.758918",
     "status": "completed"
    },
    "tags": []
   },
   "outputs": [],
   "source": [
    "gen = network.Generator(n_features+1).to(device)\n",
    "disc = network.Discriminator(n_features+1).to(device)\n",
    "\n",
    "criterion = torch.nn.BCELoss()\n",
    "gen_opt = torch.optim.Adam(gen.parameters(), lr=0.001, betas=(0.5, 0.999))\n",
    "disc_opt = torch.optim.Adam(disc.parameters(), lr=0.001, betas=(0.5, 0.999))"
   ]
  },
  {
   "cell_type": "code",
   "execution_count": 12,
   "id": "b75fdd85",
   "metadata": {
    "execution": {
     "iopub.execute_input": "2022-06-22T15:46:51.963474Z",
     "iopub.status.busy": "2022-06-22T15:46:51.960273Z",
     "iopub.status.idle": "2022-06-22T15:48:00.868844Z",
     "shell.execute_reply": "2022-06-22T15:48:00.869413Z"
    },
    "papermill": {
     "duration": 68.984942,
     "end_time": "2022-06-22T15:48:00.869681",
     "exception": false,
     "start_time": "2022-06-22T15:46:51.884739",
     "status": "completed"
    },
    "tags": []
   },
   "outputs": [
    {
     "data": {
      "image/png": "[encoded data removed]",
      "text/plain": [
       "<Figure size 432x288 with 1 Axes>"
      ]
     },
     "metadata": {
      "needs_background": "light"
     },
     "output_type": "display_data"
    },
    {
     "data": {
      "image/png": "[encoded data removed]",
      "text/plain": [
       "<Figure size 432x288 with 1 Axes>"
      ]
     },
     "metadata": {
      "needs_background": "light"
     },
     "output_type": "display_data"
    }
   ],
   "source": [
    "#Training the ABC_GAN \n",
    "ABC_train_test2.training_GAN(disc,gen,disc_opt,gen_opt,train_data,batch_size,n_epochs,criterion,prior_model,variance,bias,device)"
   ]
  },
  {
   "cell_type": "code",
   "execution_count": 13,
   "id": "1fa7c368",
   "metadata": {
    "execution": {
     "iopub.execute_input": "2022-06-22T15:48:01.013345Z",
     "iopub.status.busy": "2022-06-22T15:48:01.009879Z",
     "iopub.status.idle": "2022-06-22T15:48:01.877127Z",
     "shell.execute_reply": "2022-06-22T15:48:01.877747Z"
    },
    "papermill": {
     "duration": 0.953117,
     "end_time": "2022-06-22T15:48:01.877983",
     "exception": false,
     "start_time": "2022-06-22T15:48:00.924866",
     "status": "completed"
    },
    "tags": []
   },
   "outputs": [
    {
     "data": {
      "application/scrapbook.scrap.json+json": {
       "data": 0.1606439118453704,
       "encoder": "json",
       "name": "ABC-GAN Model 1 MSE",
       "version": 1
      }
     },
     "metadata": {
      "scrapbook": {
       "data": true,
       "display": false,
       "name": "ABC-GAN Model 1 MSE"
      }
     },
     "output_type": "display_data"
    },
    {
     "data": {
      "application/scrapbook.scrap.json+json": {
       "data": 0.3225371053516865,
       "encoder": "json",
       "name": "ABC-GAN Model 1 MAE",
       "version": 1
      }
     },
     "metadata": {
      "scrapbook": {
       "data": true,
       "display": false,
       "name": "ABC-GAN Model 1 MAE"
      }
     },
     "output_type": "display_data"
    },
    {
     "data": {
      "application/scrapbook.scrap.json+json": {
       "data": 6.450742107033729,
       "encoder": "json",
       "name": "ABC-GAN Model 1 Manhattan Distance",
       "version": 1
      }
     },
     "metadata": {
      "scrapbook": {
       "data": true,
       "display": false,
       "name": "ABC-GAN Model 1 Manhattan Distance"
      }
     },
     "output_type": "display_data"
    },
    {
     "data": {
      "application/scrapbook.scrap.json+json": {
       "data": 1.7924328613446718,
       "encoder": "json",
       "name": "ABC-GAN Model 1 Euclidean distance",
       "version": 1
      }
     },
     "metadata": {
      "scrapbook": {
       "data": true,
       "display": false,
       "name": "ABC-GAN Model 1 Euclidean distance"
      }
     },
     "output_type": "display_data"
    },
    {
     "data": {
      "application/scrapbook.scrap.json+json": {
       "data": [
        [
         0.16168943083837228,
         0.15824935783569893,
         0.1607192177171474,
         0.16043418536318504,
         0.1594076429533077,
         0.1609542604856217,
         0.162907047644936,
         0.15993825543098145,
         0.16011156989398137,
         0.15958175733063912,
         0.16059401825152558,
         0.16116959442554046,
         0.16037771239701212,
         0.16037456404021055,
         0.16171576342530644,
         0.1603703873497569,
         0.160346106989988,
         0.1607983907527258,
         0.16384135344751374,
         0.15842529660961518,
         0.16165024156588137,
         0.15944319703389437,
         0.161913210910819,
         0.15938212940097504,
         0.16099211139120614,
         0.16153922677887583,
         0.1586405019740987,
         0.16095651851278886,
         0.1618670971837551,
         0.15895267083170633,
         0.16209900670254235,
         0.16097689197653828,
         0.15884886605976037,
         0.16114759810766183,
         0.16021616564332244,
         0.16181737322862513,
         0.16276097079074922,
         0.15709825126333565,
         0.15963409102885429,
         0.1596275437668635,
         0.1603792821957577,
         0.16202186904585628,
         0.16215237701199378,
         0.15865261958678029,
         0.16017105731492323,
         0.16081142972740564,
         0.16117837231965507,
         0.1621148527991337,
         0.1607235295805935,
         0.16216977907024654,
         0.15819976248177553,
         0.16086273451102776,
         0.15977480259869345,
         0.1611590710804524,
         0.1609159490567645,
         0.15967089787332583,
         0.1636926795693391,
         0.15968872041707502,
         0.16215342802953167,
         0.16172998808961564,
         0.16002404493209949,
         0.15953599910282956,
         0.16153394530041526,
         0.16233554743807574,
         0.16000019595156298,
         0.16122446026195067,
         0.16132900845563874,
         0.16200425126988938,
         0.15681079340167944,
         0.16035321396215582,
         0.1647524952204543,
         0.16049444459385115,
         0.15970491892952002,
         0.16148500285043355,
         0.16053746174241676,
         0.15848292000384348,
         0.1622044547441725,
         0.15889079040681792,
         0.1603585575035782,
         0.15841087790699046,
         0.160046997938503,
         0.15725790143587187,
         0.16210055896468747,
         0.16031710585791398,
         0.16171508843511145,
         0.16158942093099332,
         0.16150052639952447,
         0.16109312462424957,
         0.15870695096005968,
         0.1618729471371295,
         0.16125382208801495,
         0.15994120753903746,
         0.1608487741170413,
         0.16131133055131652,
         0.16029077344810702,
         0.15916303090489564,
         0.16033729430792504,
         0.1600881154888131,
         0.16103742453508998,
         0.1636526251991151
        ],
        [
         0.32256498783826826,
         0.32048183530569074,
         0.32350339032709596,
         0.3219861302524805,
         0.3222667954862118,
         0.3240250673145056,
         0.3242087509483099,
         0.3216953508555889,
         0.3228495392948389,
         0.32302812933921815,
         0.32209574319422246,
         0.3218265321105719,
         0.32357210405170916,
         0.32188424095511436,
         0.32454530969262124,
         0.3231023531407118,
         0.32136571072041986,
         0.32200748547911645,
         0.32682078778743745,
         0.32050498090684415,
         0.3238334830850363,
         0.32000841684639453,
         0.32260557971894743,
         0.3215840939432383,
         0.32278213985264304,
         0.3235046241432428,
         0.321148044988513,
         0.32348227947950364,
         0.3231211420148611,
         0.3218117572367191,
         0.32413176000118255,
         0.32398799397051337,
         0.3208231579512358,
         0.3236753333359957,
         0.32324311286211016,
         0.32437751553952693,
         0.3247646663337946,
         0.3193797402083874,
         0.32011367864906787,
         0.3210627116262913,
         0.3217819336801767,
         0.32452713772654534,
         0.32502724342048167,
         0.3213605869561434,
         0.32226580679416655,
         0.32304923571646216,
         0.32265141382813456,
         0.3225029204040766,
         0.3222013644874096,
         0.325085499510169,
         0.31937009990215304,
         0.32393325343728063,
         0.3213599182665348,
         0.3218918528407812,
         0.32390774972736835,
         0.3222109440714121,
         0.32606330178678034,
         0.3213748402893543,
         0.3222357761114836,
         0.32342859022319315,
         0.32229318767786025,
         0.321476512029767,
         0.3258381921797991,
         0.32221482768654824,
         0.32086146883666516,
         0.3233298499137163,
         0.32268601655960083,
         0.323199650645256,
         0.320789785310626,
         0.3231529228389263,
         0.32558622434735296,
         0.32317796498537066,
         0.3200864765793085,
         0.3231180366128683,
         0.32168710567057135,
         0.3197817776352167,
         0.32224210575222967,
         0.32116161547601224,
         0.32256327345967295,
         0.3189892411231995,
         0.32150464728474615,
         0.31936490051448346,
         0.3239138562232256,
         0.32307149432599547,
         0.3234068963676691,
         0.3240675929933786,
         0.32366944663226604,
         0.32361065335571765,
         0.32109720818698406,
         0.32319550290703775,
         0.3234612748026848,
         0.3201982405036688,
         0.3228554245084524,
         0.3222090244293213,
         0.3212309893220663,
         0.32157167196273806,
         0.3212143607437611,
         0.32125291116535665,
         0.3221429094672203,
         0.32642936818301677
        ],
        [
         6.451299756765366,
         6.409636706113815,
         6.47006780654192,
         6.43972260504961,
         6.4453359097242355,
         6.4805013462901115,
         6.484175018966198,
         6.433907017111778,
         6.456990785896778,
         6.460562586784363,
         6.441914863884449,
         6.436530642211437,
         6.4714420810341835,
         6.437684819102287,
         6.490906193852425,
         6.462047062814236,
         6.427314214408398,
         6.440149709582329,
         6.536415755748749,
         6.410099618136883,
         6.4766696617007256,
         6.400168336927891,
         6.452111594378948,
         6.431681878864765,
         6.45564279705286,
         6.470092482864857,
         6.42296089977026,
         6.469645589590073,
         6.462422840297222,
         6.436235144734383,
         6.482635200023651,
         6.479759879410267,
         6.416463159024715,
         6.4735066667199135,
         6.464862257242203,
         6.487550310790539,
         6.495293326675892,
         6.3875948041677475,
         6.402273572981358,
         6.4212542325258255,
         6.435638673603535,
         6.490542754530907,
         6.500544868409634,
         6.427211739122868,
         6.445316135883331,
         6.460984714329243,
         6.453028276562691,
         6.4500584080815315,
         6.444027289748192,
         6.501709990203381,
         6.38740199804306,
         6.478665068745613,
         6.427198365330696,
         6.437837056815624,
         6.478154994547367,
         6.444218881428242,
         6.521266035735607,
         6.4274968057870865,
         6.4447155222296715,
         6.468571804463863,
         6.445863753557205,
         6.429530240595341,
         6.516763843595982,
         6.444296553730965,
         6.417229376733303,
         6.466596998274326,
         6.453720331192017,
         6.463993012905121,
         6.415795706212521,
         6.463058456778526,
         6.51172448694706,
         6.463559299707413,
         6.40172953158617,
         6.462360732257366,
         6.4337421134114265,
         6.395635552704334,
         6.444842115044594,
         6.423232309520245,
         6.451265469193459,
         6.379784822463989,
         6.430092945694923,
         6.387298010289669,
         6.478277124464512,
         6.461429886519909,
         6.468137927353382,
         6.481351859867573,
         6.473388932645321,
         6.472213067114353,
         6.421944163739681,
         6.463910058140755,
         6.469225496053696,
         6.403964810073376,
         6.457108490169048,
         6.444180488586426,
         6.424619786441326,
         6.431433439254761,
         6.424287214875221,
         6.425058223307133,
         6.442858189344406,
         6.5285873636603355
        ],
        [
         1.7982737880443693,
         1.779041077860199,
         1.7928704231881756,
         1.79127990756992,
         1.7855399348841665,
         1.7941809300381146,
         1.8050321196307615,
         1.7885091860596156,
         1.7894779679782669,
         1.7865148044762411,
         1.7921719685985804,
         1.7953807085158315,
         1.7909646138157622,
         1.7909470346172192,
         1.7984202146623378,
         1.7909237133376557,
         1.7907881336997293,
         1.7933119681345229,
         1.8102008366339561,
         1.78002975598508,
         1.7980558476637,
         1.7857390460752902,
         1.7995177737984085,
         1.7853970393219265,
         1.7943918824560379,
         1.7974383259454318,
         1.7812383443778586,
         1.794193515275255,
         1.7992614995255978,
         1.7829900214622982,
         1.800549953222861,
         1.7943070638914527,
         1.7824077314675246,
         1.7952581881593623,
         1.790062376808822,
         1.7989851207201528,
         1.8042226624823734,
         1.772558891903655,
         1.7868077178524515,
         1.786771075246426,
         1.790973378896279,
         1.8001214905992111,
         1.8008463399856955,
         1.7813063722267446,
         1.7898103660160383,
         1.793384675564089,
         1.7954295993976208,
         1.8006379580533878,
         1.7928944730830843,
         1.8009429700589996,
         1.7787622802486875,
         1.7936707307141284,
         1.7875950469762074,
         1.7953220941126549,
         1.7939673857501675,
         1.7870136981753992,
         1.8093793387199884,
         1.7871134290641713,
         1.800852176218424,
         1.7984993082546106,
         1.7889887922069243,
         1.7862586548584143,
         1.7974089423412538,
         1.801863188136523,
         1.7888554774020342,
         1.7956862769534698,
         1.7962684011897483,
         1.8000236180111047,
         1.7709364381686852,
         1.7908278195413194,
         1.8152272321693188,
         1.791616279195136,
         1.7872040674165892,
         1.797136627251437,
         1.7918563655740756,
         1.7803534480762153,
         1.801135501533255,
         1.7826429278283293,
         1.7908576576801305,
         1.7799487515487094,
         1.789117089172774,
         1.7734593394598699,
         1.8005585742468222,
         1.790626180183424,
         1.798416461418831,
         1.797717558077427,
         1.79722300452406,
         1.7949547327119397,
         1.7816113547014663,
         1.7992940123122152,
         1.7958497826266815,
         1.7885256919543395,
         1.7935928976054811,
         1.7961699838897014,
         1.7904791171533223,
         1.7841694476976993,
         1.7907389218304552,
         1.7893468947569284,
         1.7946443911543588,
         1.8091579544037337
        ]
       ],
       "encoder": "json",
       "name": "ABC_GAN_1 Metrics",
       "version": 1
      }
     },
     "metadata": {
      "scrapbook": {
       "data": true,
       "display": false,
       "name": "ABC_GAN_1 Metrics"
      }
     },
     "output_type": "display_data"
    },
    {
     "name": "stdout",
     "output_type": "stream",
     "text": [
      "MSE\n",
      "0.1606439118453704\n"
     ]
    }
   ],
   "source": [
    "ABC_GAN1_metrics=ABC_train_test2.test_generator(gen,test_data,prior_model,variance,bias,\"1\",device)\n",
    "sb.glue(\"ABC_GAN_1 Metrics\",ABC_GAN1_metrics)\n",
    "\n",
    "print(\"MSE\")\n",
    "print(mean(ABC_GAN1_metrics[0]))"
   ]
  },
  {
   "cell_type": "code",
   "execution_count": 14,
   "id": "eb22ce5c",
   "metadata": {
    "execution": {
     "iopub.execute_input": "2022-06-22T15:48:02.063413Z",
     "iopub.status.busy": "2022-06-22T15:48:02.062053Z",
     "iopub.status.idle": "2022-06-22T15:48:02.876874Z",
     "shell.execute_reply": "2022-06-22T15:48:02.877754Z"
    },
    "papermill": {
     "duration": 0.94885,
     "end_time": "2022-06-22T15:48:02.878056",
     "exception": false,
     "start_time": "2022-06-22T15:48:01.929206",
     "status": "completed"
    },
    "tags": []
   },
   "outputs": [
    {
     "data": {
      "image/png": "[encoded data removed]",
      "text/plain": [
       "<Figure size 432x288 with 1 Axes>"
      ]
     },
     "metadata": {
      "needs_background": "light"
     },
     "output_type": "display_data"
    },
    {
     "data": {
      "image/png": "[encoded data removed]",
      "text/plain": [
       "<Figure size 432x288 with 1 Axes>"
      ]
     },
     "metadata": {
      "needs_background": "light"
     },
     "output_type": "display_data"
    },
    {
     "data": {
      "image/png": "[encoded data removed]",
      "text/plain": [
       "<Figure size 432x288 with 1 Axes>"
      ]
     },
     "metadata": {
      "needs_background": "light"
     },
     "output_type": "display_data"
    },
    {
     "data": {
      "image/png": "[encoded data removed]",
      "text/plain": [
       "<Figure size 432x288 with 1 Axes>"
      ]
     },
     "metadata": {
      "needs_background": "light"
     },
     "output_type": "display_data"
    }
   ],
   "source": [
    "sanityChecks.discProbVsError(train_data,disc,device)\n",
    "sanityChecks.discProbVsError(test_data,disc,device)"
   ]
  },
  {
   "cell_type": "markdown",
   "id": "130f3a4d",
   "metadata": {
    "id": "130f3a4d",
    "papermill": {
     "duration": 0.076745,
     "end_time": "2022-06-22T15:48:03.010760",
     "exception": false,
     "start_time": "2022-06-22T15:48:02.934015",
     "status": "completed"
    },
    "tags": []
   },
   "source": [
    "# ABC - GAN Model with skip connection"
   ]
  },
  {
   "cell_type": "code",
   "execution_count": 15,
   "id": "4e43dad1",
   "metadata": {
    "execution": {
     "iopub.execute_input": "2022-06-22T15:48:03.188112Z",
     "iopub.status.busy": "2022-06-22T15:48:03.176799Z",
     "iopub.status.idle": "2022-06-22T15:48:03.193025Z",
     "shell.execute_reply": "2022-06-22T15:48:03.193586Z"
    },
    "id": "4e43dad1",
    "papermill": {
     "duration": 0.107386,
     "end_time": "2022-06-22T15:48:03.193813",
     "exception": false,
     "start_time": "2022-06-22T15:48:03.086427",
     "status": "completed"
    },
    "tags": []
   },
   "outputs": [],
   "source": [
    "#Generator\n",
    "gen3 = network.GeneratorWithSkipConnection(n_features+1).to(device)\n",
    "constraints=network.weightConstraint()\n",
    "#Discriminator \n",
    "disc3 = network.Discriminator(n_features+1).to(device)\n",
    "\n",
    "criterion = torch.nn.BCELoss()\n",
    "gen_opt = torch.optim.Adam(gen3.parameters(), lr=0.001, betas=(0.5, 0.999))\n",
    "disc_opt = torch.optim.Adam(disc3.parameters(), lr=0.001, betas=(0.5, 0.999))\n"
   ]
  },
  {
   "cell_type": "code",
   "execution_count": 16,
   "id": "26acbc37",
   "metadata": {
    "execution": {
     "iopub.execute_input": "2022-06-22T15:48:03.357760Z",
     "iopub.status.busy": "2022-06-22T15:48:03.357025Z",
     "iopub.status.idle": "2022-06-22T15:49:46.457502Z",
     "shell.execute_reply": "2022-06-22T15:49:46.458077Z"
    },
    "id": "26acbc37",
    "papermill": {
     "duration": 103.177929,
     "end_time": "2022-06-22T15:49:46.458349",
     "exception": false,
     "start_time": "2022-06-22T15:48:03.280420",
     "status": "completed"
    },
    "tags": []
   },
   "outputs": [
    {
     "data": {
      "image/png": "[encoded data removed]",
      "text/plain": [
       "<Figure size 432x288 with 1 Axes>"
      ]
     },
     "metadata": {
      "needs_background": "light"
     },
     "output_type": "display_data"
    },
    {
     "data": {
      "image/png": "[encoded data removed]",
      "text/plain": [
       "<Figure size 432x288 with 1 Axes>"
      ]
     },
     "metadata": {
      "needs_background": "light"
     },
     "output_type": "display_data"
    }
   ],
   "source": [
    "ABC_train_test2.training_GAN_skip_connection(disc3,gen3,disc_opt,gen_opt,train_data,batch_size,n_epochs,criterion,prior_model,variance,bias,device)"
   ]
  },
  {
   "cell_type": "code",
   "execution_count": 17,
   "id": "c5e0717b",
   "metadata": {
    "execution": {
     "iopub.execute_input": "2022-06-22T15:49:46.591455Z",
     "iopub.status.busy": "2022-06-22T15:49:46.590164Z",
     "iopub.status.idle": "2022-06-22T15:49:47.617727Z",
     "shell.execute_reply": "2022-06-22T15:49:47.618760Z"
    },
    "id": "c5e0717b",
    "papermill": {
     "duration": 1.102248,
     "end_time": "2022-06-22T15:49:47.618998",
     "exception": false,
     "start_time": "2022-06-22T15:49:46.516750",
     "status": "completed"
    },
    "tags": []
   },
   "outputs": [
    {
     "data": {
      "application/scrapbook.scrap.json+json": {
       "data": 0.1529617782271059,
       "encoder": "json",
       "name": "ABC-GAN Model 3 MSE",
       "version": 1
      }
     },
     "metadata": {
      "scrapbook": {
       "data": true,
       "display": false,
       "name": "ABC-GAN Model 3 MSE"
      }
     },
     "output_type": "display_data"
    },
    {
     "data": {
      "application/scrapbook.scrap.json+json": {
       "data": 0.3261454341020435,
       "encoder": "json",
       "name": "ABC-GAN Model 3 MAE",
       "version": 1
      }
     },
     "metadata": {
      "scrapbook": {
       "data": true,
       "display": false,
       "name": "ABC-GAN Model 3 MAE"
      }
     },
     "output_type": "display_data"
    },
    {
     "data": {
      "application/scrapbook.scrap.json+json": {
       "data": 6.52290868204087,
       "encoder": "json",
       "name": "ABC-GAN Model 3 Manhattan Distance",
       "version": 1
      }
     },
     "metadata": {
      "scrapbook": {
       "data": true,
       "display": false,
       "name": "ABC-GAN Model 3 Manhattan Distance"
      }
     },
     "output_type": "display_data"
    },
    {
     "data": {
      "application/scrapbook.scrap.json+json": {
       "data": 1.7490307100783518,
       "encoder": "json",
       "name": "ABC-GAN Model 3 Euclidean distance",
       "version": 1
      }
     },
     "metadata": {
      "scrapbook": {
       "data": true,
       "display": false,
       "name": "ABC-GAN Model 3 Euclidean distance"
      }
     },
     "output_type": "display_data"
    },
    {
     "data": {
      "application/scrapbook.scrap.json+json": {
       "data": [
        [
         0.15741302964747828,
         0.15239860172444905,
         0.1493561097986662,
         0.15356031186734154,
         0.15279603002788117,
         0.15292968863464332,
         0.1518935593042519,
         0.15458250865131878,
         0.15159432125804123,
         0.15418520421508106,
         0.1508461325532179,
         0.1554318950182371,
         0.1523506309335489,
         0.15602520327285685,
         0.1533220808104916,
         0.15169145181949814,
         0.15018926630081833,
         0.15073636374105642,
         0.15394648720906412,
         0.15471493667479405,
         0.15095623317206697,
         0.1529321188546931,
         0.15369777258316186,
         0.152241927793951,
         0.1541650662849443,
         0.15574713195951345,
         0.15405838414120568,
         0.15576039524267332,
         0.1527774638922544,
         0.15426441711297462,
         0.15163987178990937,
         0.15145040039807775,
         0.15371234029507191,
         0.14939316402984043,
         0.15339790437831516,
         0.15444400024843138,
         0.1560032993704732,
         0.1518213095465259,
         0.15148689028793508,
         0.14949429412582602,
         0.15159806185078173,
         0.15436194957723512,
         0.15141863288337357,
         0.1548867241356906,
         0.15215000199609469,
         0.1554082265037488,
         0.14954174953226648,
         0.15120446938774293,
         0.1531003795666675,
         0.1550687066399805,
         0.15464462985086574,
         0.15152807060075446,
         0.15605533562390064,
         0.15092351020821576,
         0.15208353160668775,
         0.15251899362750637,
         0.15781650461331406,
         0.15051404483947017,
         0.15273582366740635,
         0.15442540662313814,
         0.15542768073441382,
         0.14889335430959258,
         0.15382171067896022,
         0.15451261564025315,
         0.1524633910308512,
         0.1528998829958043,
         0.153542621329805,
         0.15201295214157534,
         0.15224068478436872,
         0.15137936229829657,
         0.1553291063038414,
         0.15454646667270258,
         0.15023626911672627,
         0.15447006798337787,
         0.15606383311376498,
         0.14945932109027837,
         0.15350512390366888,
         0.1516339774593741,
         0.15533408314371075,
         0.1574774421454815,
         0.15073725511033548,
         0.15114294036734094,
         0.1521984475275874,
         0.15293946906450145,
         0.15280099647797157,
         0.15351664205078128,
         0.15278342887593968,
         0.14990044299637267,
         0.1516279868440723,
         0.15307136832205154,
         0.1556760590332275,
         0.15099740233123482,
         0.15363499163687397,
         0.15032260099710842,
         0.15451043781528812,
         0.1535297577393621,
         0.15167955629496102,
         0.15226491496612185,
         0.15547269449489387,
         0.15072753058229488
        ],
        [
         0.33064725417643787,
         0.32492022812366483,
         0.3228675303980708,
         0.3273951498791575,
         0.32690556701272727,
         0.32456100434064866,
         0.3229055354371667,
         0.32953302226960657,
         0.32560098338872195,
         0.32458265125751495,
         0.3246318018063903,
         0.33083423022180797,
         0.3271416375413537,
         0.3296973077580333,
         0.32568323202431204,
         0.3240227898582816,
         0.322607745975256,
         0.32451421581208706,
         0.32477913834154604,
         0.3276951231062412,
         0.322869367711246,
         0.3267829293385148,
         0.3254136458970606,
         0.3248579386621714,
         0.32766997888684274,
         0.3297712029889226,
         0.3259717745706439,
         0.3292018630541861,
         0.3263815434649587,
         0.3320772107690573,
         0.3267229223623872,
         0.3227049145847559,
         0.32558842469006777,
         0.3241425696760416,
         0.32636822797358034,
         0.32709828708320854,
         0.3275494253262877,
         0.3234095092862844,
         0.3244139878079295,
         0.3199551090598106,
         0.3244636146351695,
         0.32703464329242704,
         0.3252875266596675,
         0.32918371744453906,
         0.32300649397075176,
         0.32695194203406575,
         0.3203643253073096,
         0.32483145613223313,
         0.32736297491937877,
         0.3285552717745304,
         0.3286234922707081,
         0.3274147273972631,
         0.33077048137784004,
         0.32289218306541445,
         0.3265574427321553,
         0.3256405904889107,
         0.33146775551140306,
         0.3224921591579914,
         0.32484004758298396,
         0.3284492753446102,
         0.3260370284318924,
         0.3224364146590233,
         0.3260945320129395,
         0.3273273203521967,
         0.3267565919086337,
         0.326885244064033,
         0.32706848755478857,
         0.3241154357790947,
         0.3253994630649686,
         0.32520349994301795,
         0.32825389578938485,
         0.3285482361912727,
         0.3243357319384813,
         0.32707278318703176,
         0.32986862678080797,
         0.32158695757389066,
         0.32850641310214995,
         0.32398929316550495,
         0.3278827892616391,
         0.3338598910719156,
         0.3232631552964449,
         0.32311018332839014,
         0.327659765817225,
         0.3273442411795259,
         0.3253877583891153,
         0.3255426036193967,
         0.3262698883190751,
         0.3233577599748969,
         0.3242147408425808,
         0.32572486214339735,
         0.3310880856588483,
         0.32331812344491484,
         0.3268649123609066,
         0.32430043201893566,
         0.32701138556003573,
         0.3262727031484246,
         0.3233417356386781,
         0.3267840204760432,
         0.3303430361673236,
         0.32544827796518805
        ],
        [
         6.612945083528757,
         6.498404562473297,
         6.457350607961416,
         6.547902997583151,
         6.538111340254545,
         6.491220086812973,
         6.458110708743334,
         6.590660445392132,
         6.512019667774439,
         6.491653025150299,
         6.492636036127806,
         6.616684604436159,
         6.542832750827074,
         6.5939461551606655,
         6.51366464048624,
         6.480455797165632,
         6.452154919505119,
         6.490284316241741,
         6.495582766830921,
         6.5539024621248245,
         6.45738735422492,
         6.535658586770296,
         6.508272917941213,
         6.497158773243427,
         6.5533995777368546,
         6.595424059778452,
         6.519435491412878,
         6.584037261083722,
         6.527630869299173,
         6.6415442153811455,
         6.534458447247744,
         6.454098291695118,
         6.511768493801355,
         6.482851393520832,
         6.527364559471607,
         6.541965741664171,
         6.550988506525755,
         6.468190185725689,
         6.48827975615859,
         6.399102181196213,
         6.48927229270339,
         6.540692865848541,
         6.50575053319335,
         6.583674348890781,
         6.460129879415035,
         6.5390388406813145,
         6.4072865061461926,
         6.496629122644663,
         6.547259498387575,
         6.571105435490608,
         6.572469845414162,
         6.548294547945261,
         6.615409627556801,
         6.457843661308289,
         6.5311488546431065,
         6.5128118097782135,
         6.629355110228062,
         6.449843183159828,
         6.496800951659679,
         6.568985506892204,
         6.520740568637848,
         6.448728293180466,
         6.521890640258789,
         6.546546407043934,
         6.535131838172674,
         6.537704881280661,
         6.541369751095772,
         6.482308715581894,
         6.507989261299372,
         6.504069998860359,
         6.565077915787697,
         6.570964723825455,
         6.486714638769627,
         6.541455663740635,
         6.597372535616159,
         6.431739151477814,
         6.570128262042999,
         6.479785863310099,
         6.557655785232782,
         6.6771978214383125,
         6.465263105928898,
         6.462203666567802,
         6.5531953163445,
         6.546884823590517,
         6.507755167782307,
         6.510852072387934,
         6.525397766381502,
         6.467155199497938,
         6.484294816851616,
         6.514497242867947,
         6.621761713176966,
         6.466362468898296,
         6.537298247218132,
         6.486008640378714,
         6.540227711200714,
         6.5254540629684925,
         6.4668347127735615,
         6.5356804095208645,
         6.606860723346472,
         6.5089655593037605
        ],
        [
         1.774333844841372,
         1.745844218276356,
         1.7283293077342998,
         1.7524857309966408,
         1.7481191608576412,
         1.7488835789419679,
         1.7429489912458822,
         1.7583088957934485,
         1.7412312957102583,
         1.7560478593425697,
         1.7369290863660376,
         1.7631329786390875,
         1.745569425336895,
         1.7664948529381954,
         1.7511258139293795,
         1.7417890332614805,
         1.7331431925886467,
         1.7362970007522125,
         1.7546879335600625,
         1.7590618901834811,
         1.737562851652089,
         1.7488974747233932,
         1.75326993120376,
         1.7449465767979888,
         1.7559331780278218,
         1.764920009289449,
         1.7553255204730869,
         1.7649951571756413,
         1.7480129512807072,
         1.7564988876340035,
         1.7414928756093684,
         1.740404552959327,
         1.753353018048972,
         1.7285436877894662,
         1.7515587593815696,
         1.7575209827961167,
         1.7663708521738757,
         1.742534415995999,
         1.7406142035955876,
         1.7291286483418522,
         1.7412527780352955,
         1.7570540661985057,
         1.7402220139015225,
         1.7600382049017607,
         1.7444196857184036,
         1.7629987322953402,
         1.7294030735040717,
         1.7389909107740784,
         1.7498593061538832,
         1.7610718704242625,
         1.7586621611376403,
         1.7408507724716353,
         1.7666654217700681,
         1.7373745146525879,
         1.7440385982350721,
         1.7465336734658532,
         1.7766063413897524,
         1.7350161085100633,
         1.747774720422551,
         1.7574151849983437,
         1.7631090762310415,
         1.7256497576831318,
         1.753976685585987,
         1.7579113495296237,
         1.7462152847278094,
         1.7487131439764745,
         1.7523847826878947,
         1.7436338614604576,
         1.7449394533012812,
         1.7399963350438217,
         1.7625498932163106,
         1.758103902917587,
         1.7334143712149515,
         1.757669297583467,
         1.766713520148442,
         1.7289263783647837,
         1.7521707902123518,
         1.741459028856976,
         1.7625781295801373,
         1.7746968312671407,
         1.7363021344819884,
         1.7386370545190903,
         1.7446973807946604,
         1.748939501895371,
         1.7481475708759346,
         1.7522365254199062,
         1.7480470753154198,
         1.7314759195343878,
         1.7414246285387853,
         1.749693506429349,
         1.7645172656181494,
         1.7377997717299587,
         1.7529118154480787,
         1.7339123449419722,
         1.7578989607783955,
         1.752311374952306,
         1.7417207370583898,
         1.7450783075044045,
         1.7633643667426984,
         1.7362461264595803
        ]
       ],
       "encoder": "json",
       "name": "ABC_GAN_3 Metrics",
       "version": 1
      }
     },
     "metadata": {
      "scrapbook": {
       "data": true,
       "display": false,
       "name": "ABC_GAN_3 Metrics"
      }
     },
     "output_type": "display_data"
    },
    {
     "name": "stdout",
     "output_type": "stream",
     "text": [
      "MSE\n",
      "0.1529617782271059\n"
     ]
    }
   ],
   "source": [
    "ABC_GAN3_metrics=ABC_train_test2.test_generator(gen3,test_data,prior_model,variance,bias,\"3\",device)\n",
    "sb.glue(\"ABC_GAN_3 Metrics\",ABC_GAN3_metrics)\n",
    "\n",
    "print(\"MSE\")\n",
    "print(mean(ABC_GAN3_metrics[0]))"
   ]
  },
  {
   "cell_type": "code",
   "execution_count": 18,
   "id": "c8e46b48",
   "metadata": {
    "execution": {
     "iopub.execute_input": "2022-06-22T15:49:47.780560Z",
     "iopub.status.busy": "2022-06-22T15:49:47.779572Z",
     "iopub.status.idle": "2022-06-22T15:49:48.977945Z",
     "shell.execute_reply": "2022-06-22T15:49:48.976863Z"
    },
    "id": "c8e46b48",
    "papermill": {
     "duration": 1.288419,
     "end_time": "2022-06-22T15:49:48.978220",
     "exception": false,
     "start_time": "2022-06-22T15:49:47.689801",
     "status": "completed"
    },
    "tags": []
   },
   "outputs": [
    {
     "data": {
      "image/png": "[encoded data removed]",
      "text/plain": [
       "<Figure size 432x288 with 1 Axes>"
      ]
     },
     "metadata": {
      "needs_background": "light"
     },
     "output_type": "display_data"
    },
    {
     "data": {
      "image/png": "[encoded data removed]",
      "text/plain": [
       "<Figure size 432x288 with 1 Axes>"
      ]
     },
     "metadata": {
      "needs_background": "light"
     },
     "output_type": "display_data"
    },
    {
     "data": {
      "image/png": "[encoded data removed]",
      "text/plain": [
       "<Figure size 432x288 with 1 Axes>"
      ]
     },
     "metadata": {
      "needs_background": "light"
     },
     "output_type": "display_data"
    },
    {
     "data": {
      "image/png": "[encoded data removed]",
      "text/plain": [
       "<Figure size 432x288 with 1 Axes>"
      ]
     },
     "metadata": {
      "needs_background": "light"
     },
     "output_type": "display_data"
    }
   ],
   "source": [
    "sanityChecks.discProbVsError(train_data,disc3,device)\n",
    "sanityChecks.discProbVsError(test_data,disc3,device)"
   ]
  },
  {
   "cell_type": "markdown",
   "id": "a5bd74c3",
   "metadata": {
    "id": "a5bd74c3",
    "papermill": {
     "duration": 0.108995,
     "end_time": "2022-06-22T15:49:49.279633",
     "exception": false,
     "start_time": "2022-06-22T15:49:49.170638",
     "status": "completed"
    },
    "tags": []
   },
   "source": [
    "## Skip Connection Model Analysis - ABC-GAN "
   ]
  },
  {
   "cell_type": "markdown",
   "id": "5744a8bf",
   "metadata": {
    "id": "5744a8bf",
    "papermill": {
     "duration": 0.097897,
     "end_time": "2022-06-22T15:49:49.445079",
     "exception": false,
     "start_time": "2022-06-22T15:49:49.347182",
     "status": "completed"
    },
    "tags": []
   },
   "source": [
    "### Weight Analysis \n",
    "\n",
    "Study the weights of the skip connection layer\n",
    "\n",
    "Equation of the skip connection is \n",
    "\n",
    "$output = y_{gan} * w + y_{abc} * (1-w)$"
   ]
  },
  {
   "cell_type": "code",
   "execution_count": 19,
   "id": "52c31dea",
   "metadata": {
    "execution": {
     "iopub.execute_input": "2022-06-22T15:49:49.648031Z",
     "iopub.status.busy": "2022-06-22T15:49:49.645240Z",
     "iopub.status.idle": "2022-06-22T15:49:49.657996Z",
     "shell.execute_reply": "2022-06-22T15:49:49.658564Z"
    },
    "id": "52c31dea",
    "papermill": {
     "duration": 0.130411,
     "end_time": "2022-06-22T15:49:49.659318",
     "exception": false,
     "start_time": "2022-06-22T15:49:49.528907",
     "status": "completed"
    },
    "tags": []
   },
   "outputs": [
    {
     "name": "stdout",
     "output_type": "stream",
     "text": [
      "Weight of the node at skip connection\n",
      "Parameter containing:\n",
      "tensor([[0.5424]], requires_grad=True)\n"
     ]
    },
    {
     "data": {
      "application/scrapbook.scrap.json+json": {
       "data": 0.5424224734306335,
       "encoder": "json",
       "name": "Skip Connection Weight",
       "version": 1
      }
     },
     "metadata": {
      "scrapbook": {
       "data": true,
       "display": false,
       "name": "Skip Connection Weight"
      }
     },
     "output_type": "display_data"
    }
   ],
   "source": [
    "print(\"Weight of the node at skip connection\")\n",
    "for name,param in gen3.named_parameters():\n",
    "    if(name == \"skipNode.weight\"):\n",
    "        print(param)\n",
    "        sb.glue(\"Skip Connection Weight\",param.item())"
   ]
  }
 ],
 "metadata": {
  "colab": {
   "collapsed_sections": [],
   "name": "ABC_GAN_Model-Catboost_Pre-gen.ipynb",
   "provenance": []
  },
  "interpreter": {
   "hash": "31f2aee4e71d21fbe5cf8b01ff0e069b9275f58929596ceb00d14d90e3e16cd6"
  },
  "kernelspec": {
   "display_name": "Python 3 (ipykernel)",
   "language": "python",
   "name": "python3"
  },
  "language_info": {
   "codemirror_mode": {
    "name": "ipython",
    "version": 3
   },
   "file_extension": ".py",
   "mimetype": "text/x-python",
   "name": "python",
   "nbconvert_exporter": "python",
   "pygments_lexer": "ipython3",
   "version": "3.8.3"
  },
  "papermill": {
   "default_parameters": {},
   "duration": 224.575018,
   "end_time": "2022-06-22T15:49:52.115107",
   "environment_variables": {},
   "exception": null,
   "input_path": "ABC_GAN-TabNet.ipynb",
   "output_path": "./ABC_GAN_TabNet/ABC-GAN_output_8_11.ipynb",
   "parameters": {
    "bias": 0,
    "variance": 0.01
   },
   "start_time": "2022-06-22T15:46:07.540089",
   "version": "2.3.3"
  }
 },
 "nbformat": 4,
 "nbformat_minor": 5
}