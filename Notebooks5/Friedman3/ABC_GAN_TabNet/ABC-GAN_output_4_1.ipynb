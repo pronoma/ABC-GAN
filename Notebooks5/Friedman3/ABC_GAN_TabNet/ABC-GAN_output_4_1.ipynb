{
 "cells": [
  {
   "cell_type": "markdown",
   "id": "622780e6",
   "metadata": {
    "id": "622780e6",
    "papermill": {
     "duration": 0.026453,
     "end_time": "2022-06-22T12:58:08.263827",
     "exception": false,
     "start_time": "2022-06-22T12:58:08.237374",
     "status": "completed"
    },
    "tags": []
   },
   "source": [
    "## Import Libraries "
   ]
  },
  {
   "cell_type": "code",
   "execution_count": 1,
   "id": "a62397e3",
   "metadata": {
    "execution": {
     "iopub.execute_input": "2022-06-22T12:58:08.336755Z",
     "iopub.status.busy": "2022-06-22T12:58:08.329338Z",
     "iopub.status.idle": "2022-06-22T12:58:08.341793Z",
     "shell.execute_reply": "2022-06-22T12:58:08.342932Z"
    },
    "id": "a62397e3",
    "papermill": {
     "duration": 0.058549,
     "end_time": "2022-06-22T12:58:08.343374",
     "exception": false,
     "start_time": "2022-06-22T12:58:08.284825",
     "status": "completed"
    },
    "tags": []
   },
   "outputs": [],
   "source": [
    "import warnings\n",
    "import sys\n",
    "sys.path.insert(0, '../../src')\n",
    "warnings.filterwarnings('ignore')"
   ]
  },
  {
   "cell_type": "code",
   "execution_count": 2,
   "id": "d6a4e155",
   "metadata": {
    "execution": {
     "iopub.execute_input": "2022-06-22T12:58:08.399296Z",
     "iopub.status.busy": "2022-06-22T12:58:08.395513Z",
     "iopub.status.idle": "2022-06-22T12:58:16.158823Z",
     "shell.execute_reply": "2022-06-22T12:58:16.159717Z"
    },
    "id": "d6a4e155",
    "papermill": {
     "duration": 7.795857,
     "end_time": "2022-06-22T12:58:16.160085",
     "exception": false,
     "start_time": "2022-06-22T12:58:08.364228",
     "status": "completed"
    },
    "tags": []
   },
   "outputs": [],
   "source": [
    "import ABC_train_test2\n",
    "import friedman3Dataset\n",
    "import network\n",
    "import dataset\n",
    "import sanityChecks\n",
    "import torch \n",
    "import scrapbook as sb\n",
    "from statistics import mean \n",
    "import catboost as ctb \n",
    "from sklearn.model_selection import train_test_split\n",
    "from sklearn.metrics import mean_squared_error,mean_absolute_error\n",
    "import numpy as np\n",
    "from pytorch_tabnet.tab_model import TabNetRegressor"
   ]
  },
  {
   "cell_type": "markdown",
   "id": "2fa5b0f7",
   "metadata": {
    "id": "2fa5b0f7",
    "papermill": {
     "duration": 0.021965,
     "end_time": "2022-06-22T12:58:16.200222",
     "exception": false,
     "start_time": "2022-06-22T12:58:16.178257",
     "status": "completed"
    },
    "tags": []
   },
   "source": [
    "## Parameters "
   ]
  },
  {
   "cell_type": "code",
   "execution_count": 3,
   "id": "783186fb",
   "metadata": {
    "execution": {
     "iopub.execute_input": "2022-06-22T12:58:16.260717Z",
     "iopub.status.busy": "2022-06-22T12:58:16.259879Z",
     "iopub.status.idle": "2022-06-22T12:58:16.267861Z",
     "shell.execute_reply": "2022-06-22T12:58:16.269613Z"
    },
    "id": "783186fb",
    "papermill": {
     "duration": 0.046735,
     "end_time": "2022-06-22T12:58:16.269853",
     "exception": false,
     "start_time": "2022-06-22T12:58:16.223118",
     "status": "completed"
    },
    "tags": [
     "parameters"
    ]
   },
   "outputs": [],
   "source": [
    "variance = 1\n",
    "bias = 1 "
   ]
  },
  {
   "cell_type": "code",
   "execution_count": 4,
   "id": "2912d7dc",
   "metadata": {
    "execution": {
     "iopub.execute_input": "2022-06-22T12:58:16.315931Z",
     "iopub.status.busy": "2022-06-22T12:58:16.314942Z",
     "iopub.status.idle": "2022-06-22T12:58:16.317093Z",
     "shell.execute_reply": "2022-06-22T12:58:16.317851Z"
    },
    "papermill": {
     "duration": 0.033689,
     "end_time": "2022-06-22T12:58:16.318072",
     "exception": false,
     "start_time": "2022-06-22T12:58:16.284383",
     "status": "completed"
    },
    "tags": [
     "injected-parameters"
    ]
   },
   "outputs": [],
   "source": [
    "# Parameters\n",
    "variance = 0.1\n",
    "bias = 1\n"
   ]
  },
  {
   "cell_type": "markdown",
   "id": "391cdbfd",
   "metadata": {
    "id": "391cdbfd",
    "papermill": {
     "duration": 0.017362,
     "end_time": "2022-06-22T12:58:16.353440",
     "exception": false,
     "start_time": "2022-06-22T12:58:16.336078",
     "status": "completed"
    },
    "tags": []
   },
   "source": [
    "## Dataset \n"
   ]
  },
  {
   "cell_type": "code",
   "execution_count": 5,
   "id": "5b51f161",
   "metadata": {
    "execution": {
     "iopub.execute_input": "2022-06-22T12:58:16.394874Z",
     "iopub.status.busy": "2022-06-22T12:58:16.392314Z",
     "iopub.status.idle": "2022-06-22T12:58:16.403312Z",
     "shell.execute_reply": "2022-06-22T12:58:16.395689Z"
    },
    "id": "5b51f161",
    "papermill": {
     "duration": 0.036462,
     "end_time": "2022-06-22T12:58:16.404737",
     "exception": false,
     "start_time": "2022-06-22T12:58:16.368275",
     "status": "completed"
    },
    "tags": []
   },
   "outputs": [],
   "source": [
    "#Parameters \n",
    "n_features = 4\n",
    "n_samples= 100\n",
    "n_target = 1"
   ]
  },
  {
   "cell_type": "code",
   "execution_count": 6,
   "id": "5d6eced4",
   "metadata": {
    "execution": {
     "iopub.execute_input": "2022-06-22T12:58:16.473420Z",
     "iopub.status.busy": "2022-06-22T12:58:16.471962Z",
     "iopub.status.idle": "2022-06-22T12:58:16.488179Z",
     "shell.execute_reply": "2022-06-22T12:58:16.489025Z"
    },
    "id": "5d6eced4",
    "papermill": {
     "duration": 0.063216,
     "end_time": "2022-06-22T12:58:16.489391",
     "exception": false,
     "start_time": "2022-06-22T12:58:16.426175",
     "status": "completed"
    },
    "tags": []
   },
   "outputs": [
    {
     "name": "stdout",
     "output_type": "stream",
     "text": [
      "          X1           X2        X3         X4         Y\n",
      "0  88.514079  1085.589085  0.807143   5.294106  1.500188\n",
      "1  52.752141   699.504934  0.228508   7.668302  1.327732\n",
      "2  37.381156   373.707128  0.866129   2.385753  1.451759\n",
      "3  80.832457   741.332138  0.737159  10.042015  1.224556\n",
      "4  64.209845   570.135401  0.126604   7.225397  0.760069\n"
     ]
    }
   ],
   "source": [
    "X,Y = friedman3Dataset.friedman3_data(n_samples)"
   ]
  },
  {
   "cell_type": "code",
   "execution_count": 7,
   "id": "fe007438",
   "metadata": {
    "execution": {
     "iopub.execute_input": "2022-06-22T12:58:16.528582Z",
     "iopub.status.busy": "2022-06-22T12:58:16.527677Z",
     "iopub.status.idle": "2022-06-22T12:58:16.531063Z",
     "shell.execute_reply": "2022-06-22T12:58:16.530229Z"
    },
    "id": "fe007438",
    "papermill": {
     "duration": 0.024073,
     "end_time": "2022-06-22T12:58:16.531283",
     "exception": false,
     "start_time": "2022-06-22T12:58:16.507210",
     "status": "completed"
    },
    "tags": []
   },
   "outputs": [],
   "source": [
    "#Train test split for dataset \n",
    "X_train,X_test,Y_train,Y_test = train_test_split(X,Y,test_size = 0.2)\n",
    "train_data = dataset.CustomDataset(X_train,Y_train)\n",
    "test_data = dataset.CustomDataset(X_test,Y_test)\n"
   ]
  },
  {
   "cell_type": "markdown",
   "id": "a9a1af34",
   "metadata": {
    "id": "a9a1af34",
    "papermill": {
     "duration": 0.019051,
     "end_time": "2022-06-22T12:58:16.566221",
     "exception": false,
     "start_time": "2022-06-22T12:58:16.547170",
     "status": "completed"
    },
    "tags": []
   },
   "source": [
    "## Training Parameters "
   ]
  },
  {
   "cell_type": "code",
   "execution_count": 8,
   "id": "952b7fc8",
   "metadata": {
    "execution": {
     "iopub.execute_input": "2022-06-22T12:58:16.604733Z",
     "iopub.status.busy": "2022-06-22T12:58:16.603967Z",
     "iopub.status.idle": "2022-06-22T12:58:16.606008Z",
     "shell.execute_reply": "2022-06-22T12:58:16.606824Z"
    },
    "id": "952b7fc8",
    "papermill": {
     "duration": 0.024011,
     "end_time": "2022-06-22T12:58:16.607050",
     "exception": false,
     "start_time": "2022-06-22T12:58:16.583039",
     "status": "completed"
    },
    "tags": []
   },
   "outputs": [],
   "source": [
    "batch_size = 32\n",
    "n_epochs = 1000\n",
    "#Select the device \n",
    "device = torch.device('cuda' if torch.cuda.is_available() else 'cpu')"
   ]
  },
  {
   "cell_type": "markdown",
   "id": "a95e1600",
   "metadata": {
    "id": "a95e1600",
    "papermill": {
     "duration": 0.014225,
     "end_time": "2022-06-22T12:58:16.636142",
     "exception": false,
     "start_time": "2022-06-22T12:58:16.621917",
     "status": "completed"
    },
    "tags": []
   },
   "source": [
    "# ABC Pre-generator Model \n",
    "\n",
    "1. The catboost model is used as a pre-generator model for the ABC-GAN. \n",
    "2. The model is first trained on the entire dataset \n",
    "3. It generats X,Y pairs and we add some Gaussian noise with mean 0 and variance 1 to it which is then feed as input to the generator.\n"
   ]
  },
  {
   "cell_type": "code",
   "execution_count": 9,
   "id": "ff8ce7bd",
   "metadata": {
    "execution": {
     "iopub.execute_input": "2022-06-22T12:58:16.673355Z",
     "iopub.status.busy": "2022-06-22T12:58:16.672131Z",
     "iopub.status.idle": "2022-06-22T12:58:32.766597Z",
     "shell.execute_reply": "2022-06-22T12:58:32.767062Z"
    },
    "id": "ff8ce7bd",
    "papermill": {
     "duration": 16.117432,
     "end_time": "2022-06-22T12:58:32.767265",
     "exception": false,
     "start_time": "2022-06-22T12:58:16.649833",
     "status": "completed"
    },
    "tags": []
   },
   "outputs": [
    {
     "name": "stdout",
     "output_type": "stream",
     "text": [
      "Device used : cpu\n"
     ]
    },
    {
     "name": "stdout",
     "output_type": "stream",
     "text": [
      "epoch 0  | loss: 1.28193 | train_mse: 6.32744 | train_mae: 1.61718 |  0:00:00s\n",
      "epoch 1  | loss: 0.61016 | train_mse: 7.71496 | train_mae: 1.84496 |  0:00:00s\n",
      "epoch 2  | loss: 0.47898 | train_mse: 7.01015 | train_mae: 1.82775 |  0:00:00s\n"
     ]
    },
    {
     "name": "stdout",
     "output_type": "stream",
     "text": [
      "epoch 3  | loss: 0.79596 | train_mse: 6.33418 | train_mae: 1.633   |  0:00:00s\n",
      "epoch 4  | loss: 0.6703  | train_mse: 2.10533 | train_mae: 1.00138 |  0:00:00s\n",
      "epoch 5  | loss: 0.65958 | train_mse: 1.70221 | train_mae: 0.91412 |  0:00:00s\n"
     ]
    },
    {
     "name": "stdout",
     "output_type": "stream",
     "text": [
      "epoch 6  | loss: 0.63125 | train_mse: 1.98344 | train_mae: 0.97256 |  0:00:00s\n",
      "epoch 7  | loss: 0.47626 | train_mse: 1.94808 | train_mae: 0.98541 |  0:00:00s\n",
      "epoch 8  | loss: 0.38196 | train_mse: 1.34519 | train_mae: 0.82363 |  0:00:00s\n"
     ]
    },
    {
     "name": "stdout",
     "output_type": "stream",
     "text": [
      "epoch 9  | loss: 0.36447 | train_mse: 0.96255 | train_mae: 0.66682 |  0:00:00s\n",
      "epoch 10 | loss: 0.29416 | train_mse: 0.75652 | train_mae: 0.61115 |  0:00:01s\n",
      "epoch 11 | loss: 0.42748 | train_mse: 0.51012 | train_mae: 0.53776 |  0:00:01s\n"
     ]
    },
    {
     "name": "stdout",
     "output_type": "stream",
     "text": [
      "epoch 12 | loss: 0.28423 | train_mse: 0.48111 | train_mae: 0.50163 |  0:00:01s\n",
      "epoch 13 | loss: 0.32537 | train_mse: 0.44986 | train_mae: 0.498   |  0:00:01s\n",
      "epoch 14 | loss: 0.37318 | train_mse: 0.46551 | train_mae: 0.50733 |  0:00:01s\n"
     ]
    },
    {
     "name": "stdout",
     "output_type": "stream",
     "text": [
      "epoch 15 | loss: 0.35698 | train_mse: 0.38635 | train_mae: 0.47474 |  0:00:01s\n",
      "epoch 16 | loss: 0.24751 | train_mse: 0.3296  | train_mae: 0.43461 |  0:00:01s\n",
      "epoch 17 | loss: 0.25675 | train_mse: 0.34055 | train_mae: 0.41686 |  0:00:01s\n"
     ]
    },
    {
     "name": "stdout",
     "output_type": "stream",
     "text": [
      "epoch 18 | loss: 0.24462 | train_mse: 0.54337 | train_mae: 0.47783 |  0:00:01s\n",
      "epoch 19 | loss: 0.26872 | train_mse: 0.77565 | train_mae: 0.55145 |  0:00:01s\n",
      "epoch 20 | loss: 0.41494 | train_mse: 0.82226 | train_mae: 0.53765 |  0:00:01s\n"
     ]
    },
    {
     "name": "stdout",
     "output_type": "stream",
     "text": [
      "epoch 21 | loss: 0.62648 | train_mse: 0.31331 | train_mae: 0.40714 |  0:00:01s\n",
      "epoch 22 | loss: 0.29375 | train_mse: 0.20799 | train_mae: 0.33246 |  0:00:01s\n",
      "epoch 23 | loss: 0.26291 | train_mse: 0.20607 | train_mae: 0.34069 |  0:00:02s\n"
     ]
    },
    {
     "name": "stdout",
     "output_type": "stream",
     "text": [
      "epoch 24 | loss: 0.36481 | train_mse: 0.21342 | train_mae: 0.36326 |  0:00:02s\n",
      "epoch 25 | loss: 0.20808 | train_mse: 0.2643  | train_mae: 0.39307 |  0:00:02s\n",
      "epoch 26 | loss: 0.26817 | train_mse: 0.2454  | train_mae: 0.36673 |  0:00:02s\n"
     ]
    },
    {
     "name": "stdout",
     "output_type": "stream",
     "text": [
      "epoch 27 | loss: 0.1905  | train_mse: 0.25741 | train_mae: 0.37517 |  0:00:02s\n",
      "epoch 28 | loss: 0.30401 | train_mse: 0.18277 | train_mae: 0.32666 |  0:00:02s\n",
      "epoch 29 | loss: 0.22524 | train_mse: 0.17    | train_mae: 0.3351  |  0:00:02s\n"
     ]
    },
    {
     "name": "stdout",
     "output_type": "stream",
     "text": [
      "epoch 30 | loss: 0.29126 | train_mse: 0.15856 | train_mae: 0.31777 |  0:00:02s\n",
      "epoch 31 | loss: 0.2121  | train_mse: 0.19995 | train_mae: 0.35632 |  0:00:02s\n",
      "epoch 32 | loss: 0.25891 | train_mse: 0.15494 | train_mae: 0.32029 |  0:00:02s\n",
      "epoch 33 | loss: 0.18997 | train_mse: 0.1648  | train_mae: 0.33495 |  0:00:02s\n"
     ]
    },
    {
     "name": "stdout",
     "output_type": "stream",
     "text": [
      "epoch 34 | loss: 0.40633 | train_mse: 0.15692 | train_mae: 0.32789 |  0:00:02s\n",
      "epoch 35 | loss: 0.32417 | train_mse: 0.16176 | train_mae: 0.33004 |  0:00:02s\n",
      "epoch 36 | loss: 0.20067 | train_mse: 0.16664 | train_mae: 0.32299 |  0:00:03s\n"
     ]
    },
    {
     "name": "stdout",
     "output_type": "stream",
     "text": [
      "epoch 37 | loss: 0.21658 | train_mse: 0.16387 | train_mae: 0.32117 |  0:00:03s\n",
      "epoch 38 | loss: 0.19187 | train_mse: 0.15421 | train_mae: 0.31142 |  0:00:03s\n"
     ]
    },
    {
     "name": "stdout",
     "output_type": "stream",
     "text": [
      "epoch 39 | loss: 0.22099 | train_mse: 0.15697 | train_mae: 0.31417 |  0:00:03s\n",
      "epoch 40 | loss: 0.27829 | train_mse: 0.15229 | train_mae: 0.31234 |  0:00:03s\n",
      "epoch 41 | loss: 0.23162 | train_mse: 0.1509  | train_mae: 0.30901 |  0:00:03s\n"
     ]
    },
    {
     "name": "stdout",
     "output_type": "stream",
     "text": [
      "epoch 42 | loss: 0.12508 | train_mse: 0.14747 | train_mae: 0.30299 |  0:00:03s\n",
      "epoch 43 | loss: 0.1892  | train_mse: 0.13956 | train_mae: 0.29055 |  0:00:03s\n"
     ]
    },
    {
     "name": "stdout",
     "output_type": "stream",
     "text": [
      "epoch 44 | loss: 0.29032 | train_mse: 0.1666  | train_mae: 0.32593 |  0:00:04s\n"
     ]
    },
    {
     "name": "stdout",
     "output_type": "stream",
     "text": [
      "epoch 45 | loss: 0.16476 | train_mse: 0.14609 | train_mae: 0.31294 |  0:00:04s\n",
      "epoch 46 | loss: 0.17351 | train_mse: 0.13621 | train_mae: 0.2958  |  0:00:04s\n"
     ]
    },
    {
     "name": "stdout",
     "output_type": "stream",
     "text": [
      "epoch 47 | loss: 0.18471 | train_mse: 0.137   | train_mae: 0.29068 |  0:00:04s\n",
      "epoch 48 | loss: 0.15436 | train_mse: 0.12333 | train_mae: 0.28353 |  0:00:04s\n",
      "epoch 49 | loss: 0.18312 | train_mse: 0.11443 | train_mae: 0.26929 |  0:00:04s\n"
     ]
    },
    {
     "name": "stdout",
     "output_type": "stream",
     "text": [
      "epoch 50 | loss: 0.2267  | train_mse: 0.12573 | train_mae: 0.28659 |  0:00:05s\n",
      "epoch 51 | loss: 0.24614 | train_mse: 0.14878 | train_mae: 0.31523 |  0:00:05s\n",
      "epoch 52 | loss: 0.17364 | train_mse: 0.13763 | train_mae: 0.31022 |  0:00:05s\n"
     ]
    },
    {
     "name": "stdout",
     "output_type": "stream",
     "text": [
      "epoch 53 | loss: 0.18377 | train_mse: 0.10684 | train_mae: 0.27169 |  0:00:05s\n",
      "epoch 54 | loss: 0.14448 | train_mse: 0.10564 | train_mae: 0.2648  |  0:00:05s\n",
      "epoch 55 | loss: 0.21086 | train_mse: 0.12054 | train_mae: 0.28141 |  0:00:05s\n"
     ]
    },
    {
     "name": "stdout",
     "output_type": "stream",
     "text": [
      "epoch 56 | loss: 0.14181 | train_mse: 0.13425 | train_mae: 0.29323 |  0:00:05s\n"
     ]
    },
    {
     "name": "stdout",
     "output_type": "stream",
     "text": [
      "epoch 57 | loss: 0.23493 | train_mse: 0.12743 | train_mae: 0.28088 |  0:00:05s\n",
      "epoch 58 | loss: 0.24989 | train_mse: 0.13257 | train_mae: 0.29155 |  0:00:06s\n"
     ]
    },
    {
     "name": "stdout",
     "output_type": "stream",
     "text": [
      "epoch 59 | loss: 0.17873 | train_mse: 0.14307 | train_mae: 0.30348 |  0:00:06s\n",
      "epoch 60 | loss: 0.22867 | train_mse: 0.16819 | train_mae: 0.32141 |  0:00:06s\n"
     ]
    },
    {
     "name": "stdout",
     "output_type": "stream",
     "text": [
      "epoch 61 | loss: 0.2961  | train_mse: 0.20352 | train_mae: 0.33483 |  0:00:06s\n"
     ]
    },
    {
     "name": "stdout",
     "output_type": "stream",
     "text": [
      "epoch 62 | loss: 0.24799 | train_mse: 0.1531  | train_mae: 0.30406 |  0:00:06s\n",
      "epoch 63 | loss: 0.15435 | train_mse: 0.14079 | train_mae: 0.30387 |  0:00:07s\n"
     ]
    },
    {
     "name": "stdout",
     "output_type": "stream",
     "text": [
      "epoch 64 | loss: 0.12397 | train_mse: 0.14653 | train_mae: 0.30705 |  0:00:07s\n",
      "epoch 65 | loss: 0.20334 | train_mse: 0.11445 | train_mae: 0.2714  |  0:00:07s\n"
     ]
    },
    {
     "name": "stdout",
     "output_type": "stream",
     "text": [
      "epoch 66 | loss: 0.1465  | train_mse: 0.11262 | train_mae: 0.27186 |  0:00:07s\n",
      "epoch 67 | loss: 0.13126 | train_mse: 0.10551 | train_mae: 0.26054 |  0:00:07s\n"
     ]
    },
    {
     "name": "stdout",
     "output_type": "stream",
     "text": [
      "epoch 68 | loss: 0.1846  | train_mse: 0.11519 | train_mae: 0.27782 |  0:00:07s\n",
      "epoch 69 | loss: 0.15499 | train_mse: 0.12182 | train_mae: 0.28315 |  0:00:07s\n"
     ]
    },
    {
     "name": "stdout",
     "output_type": "stream",
     "text": [
      "epoch 70 | loss: 0.15523 | train_mse: 0.09822 | train_mae: 0.25218 |  0:00:07s\n",
      "epoch 71 | loss: 0.17889 | train_mse: 0.08715 | train_mae: 0.23084 |  0:00:08s\n"
     ]
    },
    {
     "name": "stdout",
     "output_type": "stream",
     "text": [
      "epoch 72 | loss: 0.14503 | train_mse: 0.07904 | train_mae: 0.22281 |  0:00:08s\n",
      "epoch 73 | loss: 0.17512 | train_mse: 0.08719 | train_mae: 0.23182 |  0:00:08s\n"
     ]
    },
    {
     "name": "stdout",
     "output_type": "stream",
     "text": [
      "epoch 74 | loss: 0.16027 | train_mse: 0.08576 | train_mae: 0.22911 |  0:00:08s\n",
      "epoch 75 | loss: 0.12227 | train_mse: 0.08862 | train_mae: 0.23392 |  0:00:08s\n"
     ]
    },
    {
     "name": "stdout",
     "output_type": "stream",
     "text": [
      "epoch 76 | loss: 0.17975 | train_mse: 0.0907  | train_mae: 0.23552 |  0:00:08s\n",
      "epoch 77 | loss: 0.25744 | train_mse: 0.10727 | train_mae: 0.25565 |  0:00:09s\n"
     ]
    },
    {
     "name": "stdout",
     "output_type": "stream",
     "text": [
      "epoch 78 | loss: 0.15608 | train_mse: 0.0913  | train_mae: 0.22981 |  0:00:09s\n",
      "epoch 79 | loss: 0.14513 | train_mse: 0.10198 | train_mae: 0.24434 |  0:00:09s\n",
      "epoch 80 | loss: 0.12362 | train_mse: 0.0907  | train_mae: 0.23868 |  0:00:09s\n"
     ]
    },
    {
     "name": "stdout",
     "output_type": "stream",
     "text": [
      "epoch 81 | loss: 0.1679  | train_mse: 0.11287 | train_mae: 0.25583 |  0:00:09s\n",
      "epoch 82 | loss: 0.31796 | train_mse: 0.09035 | train_mae: 0.23497 |  0:00:09s\n",
      "epoch 83 | loss: 0.1269  | train_mse: 0.10358 | train_mae: 0.25793 |  0:00:09s\n"
     ]
    },
    {
     "name": "stdout",
     "output_type": "stream",
     "text": [
      "epoch 84 | loss: 0.16475 | train_mse: 0.10299 | train_mae: 0.2579  |  0:00:09s\n",
      "epoch 85 | loss: 0.11157 | train_mse: 0.09469 | train_mae: 0.24595 |  0:00:09s\n",
      "epoch 86 | loss: 0.24648 | train_mse: 0.11558 | train_mae: 0.262   |  0:00:09s\n"
     ]
    },
    {
     "name": "stdout",
     "output_type": "stream",
     "text": [
      "epoch 87 | loss: 0.21883 | train_mse: 0.10609 | train_mae: 0.24768 |  0:00:09s\n",
      "epoch 88 | loss: 0.18304 | train_mse: 0.19397 | train_mae: 0.31974 |  0:00:09s\n",
      "epoch 89 | loss: 0.1486  | train_mse: 0.12265 | train_mae: 0.26254 |  0:00:10s\n"
     ]
    },
    {
     "name": "stdout",
     "output_type": "stream",
     "text": [
      "epoch 90 | loss: 0.17345 | train_mse: 0.09079 | train_mae: 0.23418 |  0:00:10s\n",
      "epoch 91 | loss: 0.17501 | train_mse: 0.09009 | train_mae: 0.22811 |  0:00:10s\n",
      "epoch 92 | loss: 0.14489 | train_mse: 0.09469 | train_mae: 0.23143 |  0:00:10s\n"
     ]
    },
    {
     "name": "stdout",
     "output_type": "stream",
     "text": [
      "epoch 93 | loss: 0.20896 | train_mse: 0.08042 | train_mae: 0.21585 |  0:00:10s\n",
      "epoch 94 | loss: 0.10958 | train_mse: 0.08083 | train_mae: 0.21798 |  0:00:10s\n",
      "epoch 95 | loss: 0.15325 | train_mse: 0.075   | train_mae: 0.21288 |  0:00:10s\n"
     ]
    },
    {
     "name": "stdout",
     "output_type": "stream",
     "text": [
      "epoch 96 | loss: 0.13851 | train_mse: 0.08126 | train_mae: 0.22531 |  0:00:10s\n",
      "epoch 97 | loss: 0.08346 | train_mse: 0.07492 | train_mae: 0.21095 |  0:00:10s\n",
      "epoch 98 | loss: 0.15331 | train_mse: 0.08538 | train_mae: 0.22871 |  0:00:10s\n"
     ]
    },
    {
     "name": "stdout",
     "output_type": "stream",
     "text": [
      "epoch 99 | loss: 0.12376 | train_mse: 0.10212 | train_mae: 0.24669 |  0:00:10s\n",
      "epoch 100| loss: 0.11152 | train_mse: 0.0985  | train_mae: 0.24544 |  0:00:10s\n",
      "epoch 101| loss: 0.16096 | train_mse: 0.08855 | train_mae: 0.22834 |  0:00:10s\n"
     ]
    },
    {
     "name": "stdout",
     "output_type": "stream",
     "text": [
      "epoch 102| loss: 0.20501 | train_mse: 0.09591 | train_mae: 0.23744 |  0:00:10s\n",
      "epoch 103| loss: 0.11369 | train_mse: 0.09255 | train_mae: 0.23949 |  0:00:11s\n",
      "epoch 104| loss: 0.18744 | train_mse: 0.0927  | train_mae: 0.24636 |  0:00:11s\n"
     ]
    },
    {
     "name": "stdout",
     "output_type": "stream",
     "text": [
      "epoch 105| loss: 0.23299 | train_mse: 0.09044 | train_mae: 0.23883 |  0:00:11s\n",
      "epoch 106| loss: 0.14302 | train_mse: 0.09677 | train_mae: 0.24187 |  0:00:11s\n",
      "epoch 107| loss: 0.14707 | train_mse: 0.09395 | train_mae: 0.23899 |  0:00:11s\n"
     ]
    },
    {
     "name": "stdout",
     "output_type": "stream",
     "text": [
      "epoch 108| loss: 0.15956 | train_mse: 0.08484 | train_mae: 0.22988 |  0:00:11s\n",
      "epoch 109| loss: 0.12069 | train_mse: 0.08927 | train_mae: 0.23562 |  0:00:11s\n",
      "epoch 110| loss: 0.10215 | train_mse: 0.07966 | train_mae: 0.2283  |  0:00:11s\n"
     ]
    },
    {
     "name": "stdout",
     "output_type": "stream",
     "text": [
      "epoch 111| loss: 0.14668 | train_mse: 0.08037 | train_mae: 0.22991 |  0:00:11s\n",
      "epoch 112| loss: 0.15297 | train_mse: 0.08274 | train_mae: 0.22841 |  0:00:11s\n",
      "epoch 113| loss: 0.21544 | train_mse: 0.08869 | train_mae: 0.23308 |  0:00:11s\n"
     ]
    },
    {
     "name": "stdout",
     "output_type": "stream",
     "text": [
      "epoch 114| loss: 0.17933 | train_mse: 0.0824  | train_mae: 0.21639 |  0:00:11s\n",
      "epoch 115| loss: 0.17998 | train_mse: 0.0723  | train_mae: 0.20801 |  0:00:11s\n",
      "epoch 116| loss: 0.07841 | train_mse: 0.06768 | train_mae: 0.20449 |  0:00:12s\n"
     ]
    },
    {
     "name": "stdout",
     "output_type": "stream",
     "text": [
      "epoch 117| loss: 0.19451 | train_mse: 0.06904 | train_mae: 0.20044 |  0:00:12s\n",
      "epoch 118| loss: 0.09343 | train_mse: 0.07925 | train_mae: 0.20602 |  0:00:12s\n",
      "epoch 119| loss: 0.10025 | train_mse: 0.08827 | train_mae: 0.23255 |  0:00:12s\n"
     ]
    },
    {
     "name": "stdout",
     "output_type": "stream",
     "text": [
      "epoch 120| loss: 0.13922 | train_mse: 0.1082  | train_mae: 0.27036 |  0:00:12s\n",
      "epoch 121| loss: 0.13934 | train_mse: 0.09881 | train_mae: 0.2552  |  0:00:12s\n",
      "epoch 122| loss: 0.08352 | train_mse: 0.1017  | train_mae: 0.24428 |  0:00:12s\n"
     ]
    },
    {
     "name": "stdout",
     "output_type": "stream",
     "text": [
      "epoch 123| loss: 0.1602  | train_mse: 0.10708 | train_mae: 0.24698 |  0:00:12s\n",
      "epoch 124| loss: 0.09819 | train_mse: 0.10285 | train_mae: 0.25326 |  0:00:12s\n",
      "epoch 125| loss: 0.23363 | train_mse: 0.1085  | train_mae: 0.26752 |  0:00:12s\n"
     ]
    },
    {
     "name": "stdout",
     "output_type": "stream",
     "text": [
      "epoch 126| loss: 0.23463 | train_mse: 0.1051  | train_mae: 0.26412 |  0:00:12s\n",
      "epoch 127| loss: 0.13021 | train_mse: 0.11352 | train_mae: 0.26246 |  0:00:12s\n",
      "epoch 128| loss: 0.18768 | train_mse: 0.11685 | train_mae: 0.25602 |  0:00:12s\n"
     ]
    },
    {
     "name": "stdout",
     "output_type": "stream",
     "text": [
      "epoch 129| loss: 0.16546 | train_mse: 0.10554 | train_mae: 0.25601 |  0:00:12s\n",
      "epoch 130| loss: 0.14796 | train_mse: 0.12176 | train_mae: 0.27515 |  0:00:13s\n",
      "epoch 131| loss: 0.14408 | train_mse: 0.12304 | train_mae: 0.26223 |  0:00:13s\n"
     ]
    },
    {
     "name": "stdout",
     "output_type": "stream",
     "text": [
      "epoch 132| loss: 0.17413 | train_mse: 0.12938 | train_mae: 0.26536 |  0:00:13s\n",
      "epoch 133| loss: 0.14905 | train_mse: 0.12737 | train_mae: 0.26428 |  0:00:13s\n",
      "epoch 134| loss: 0.22129 | train_mse: 0.11986 | train_mae: 0.25885 |  0:00:13s\n"
     ]
    },
    {
     "name": "stdout",
     "output_type": "stream",
     "text": [
      "epoch 135| loss: 0.15781 | train_mse: 0.12138 | train_mae: 0.26476 |  0:00:13s\n",
      "epoch 136| loss: 0.22294 | train_mse: 0.12924 | train_mae: 0.27549 |  0:00:13s\n",
      "epoch 137| loss: 0.15671 | train_mse: 0.11855 | train_mae: 0.25776 |  0:00:13s\n"
     ]
    },
    {
     "name": "stdout",
     "output_type": "stream",
     "text": [
      "epoch 138| loss: 0.25599 | train_mse: 0.13918 | train_mae: 0.27904 |  0:00:13s\n",
      "epoch 139| loss: 0.17002 | train_mse: 0.15083 | train_mae: 0.29242 |  0:00:13s\n",
      "epoch 140| loss: 0.20834 | train_mse: 0.12386 | train_mae: 0.28448 |  0:00:13s\n"
     ]
    },
    {
     "name": "stdout",
     "output_type": "stream",
     "text": [
      "epoch 141| loss: 0.12361 | train_mse: 0.13106 | train_mae: 0.28763 |  0:00:13s\n",
      "epoch 142| loss: 0.17188 | train_mse: 0.12833 | train_mae: 0.28233 |  0:00:13s\n",
      "epoch 143| loss: 0.27814 | train_mse: 0.09946 | train_mae: 0.24372 |  0:00:14s\n"
     ]
    },
    {
     "name": "stdout",
     "output_type": "stream",
     "text": [
      "epoch 144| loss: 0.11989 | train_mse: 0.10225 | train_mae: 0.2483  |  0:00:14s\n",
      "epoch 145| loss: 0.14238 | train_mse: 0.11421 | train_mae: 0.26936 |  0:00:14s\n",
      "epoch 146| loss: 0.12298 | train_mse: 0.10679 | train_mae: 0.26729 |  0:00:14s\n"
     ]
    },
    {
     "name": "stdout",
     "output_type": "stream",
     "text": [
      "epoch 147| loss: 0.13876 | train_mse: 0.11146 | train_mae: 0.26664 |  0:00:14s\n",
      "epoch 148| loss: 0.11128 | train_mse: 0.09726 | train_mae: 0.2514  |  0:00:14s\n"
     ]
    },
    {
     "name": "stdout",
     "output_type": "stream",
     "text": [
      "epoch 149| loss: 0.19559 | train_mse: 0.11703 | train_mae: 0.26623 |  0:00:14s\n",
      "epoch 150| loss: 0.15323 | train_mse: 0.08779 | train_mae: 0.23475 |  0:00:14s\n"
     ]
    },
    {
     "name": "stdout",
     "output_type": "stream",
     "text": [
      "epoch 151| loss: 0.12486 | train_mse: 0.08495 | train_mae: 0.22937 |  0:00:14s\n",
      "epoch 152| loss: 0.17762 | train_mse: 0.0884  | train_mae: 0.23456 |  0:00:14s\n",
      "epoch 153| loss: 0.08851 | train_mse: 0.09265 | train_mae: 0.2399  |  0:00:15s\n"
     ]
    },
    {
     "name": "stdout",
     "output_type": "stream",
     "text": [
      "epoch 154| loss: 0.15856 | train_mse: 0.07137 | train_mae: 0.21877 |  0:00:15s\n",
      "epoch 155| loss: 0.2343  | train_mse: 0.08578 | train_mae: 0.23213 |  0:00:15s\n",
      "epoch 156| loss: 0.1415  | train_mse: 0.09219 | train_mae: 0.24422 |  0:00:15s\n"
     ]
    },
    {
     "name": "stdout",
     "output_type": "stream",
     "text": [
      "epoch 157| loss: 0.13326 | train_mse: 0.10214 | train_mae: 0.25642 |  0:00:15s\n",
      "epoch 158| loss: 0.16275 | train_mse: 0.08342 | train_mae: 0.24135 |  0:00:15s\n",
      "epoch 159| loss: 0.12125 | train_mse: 0.08553 | train_mae: 0.24046 |  0:00:15s\n"
     ]
    },
    {
     "name": "stdout",
     "output_type": "stream",
     "text": [
      "epoch 160| loss: 0.12523 | train_mse: 0.08586 | train_mae: 0.23631 |  0:00:15s\n",
      "epoch 161| loss: 0.11549 | train_mse: 0.07857 | train_mae: 0.22676 |  0:00:15s\n",
      "epoch 162| loss: 0.15115 | train_mse: 0.0812  | train_mae: 0.23134 |  0:00:15s\n"
     ]
    },
    {
     "name": "stdout",
     "output_type": "stream",
     "text": [
      "epoch 163| loss: 0.14705 | train_mse: 0.07513 | train_mae: 0.22046 |  0:00:15s\n",
      "epoch 164| loss: 0.09345 | train_mse: 0.07611 | train_mae: 0.22144 |  0:00:15s\n",
      "epoch 165| loss: 0.125   | train_mse: 0.07917 | train_mae: 0.22988 |  0:00:15s\n"
     ]
    },
    {
     "name": "stdout",
     "output_type": "stream",
     "text": [
      "epoch 166| loss: 0.15459 | train_mse: 0.0791  | train_mae: 0.22892 |  0:00:15s\n",
      "epoch 167| loss: 0.12277 | train_mse: 0.06421 | train_mae: 0.20268 |  0:00:16s\n",
      "\n",
      "Early stopping occurred at epoch 167 with best_epoch = 117 and best_train_mae = 0.20044\n",
      "Best weights from best epoch are automatically used!\n"
     ]
    }
   ],
   "source": [
    "#Train the Model\n",
    "\n",
    "Y_train = np.reshape(Y_train, (-1, 1))\n",
    "Y_test = np.reshape(Y_test, (-1, 1))\n",
    "\n",
    "prior_model = TabNetRegressor(optimizer_fn=torch.optim.Adam, optimizer_params=dict(lr = 0.02),\n",
    "          #scheduler_params={\"step_size\":10, ], \"gamma\":0.9},\n",
    "          #scheduler_fn=torch.optim.lr_scheduler.StepLR\n",
    "          )  #TabNetRegressor()\n",
    "\n",
    "prior_model.fit(X_train,Y_train,eval_set=[(X_train, Y_train)],\n",
    "            eval_name=['train'], \n",
    "            eval_metric=[ 'mse', 'mae'], \n",
    "            max_epochs = n_epochs, \n",
    "            batch_size = batch_size,\n",
    "            patience=50\n",
    "            )"
   ]
  },
  {
   "cell_type": "code",
   "execution_count": 10,
   "id": "af65dcda",
   "metadata": {
    "execution": {
     "iopub.execute_input": "2022-06-22T12:58:32.842045Z",
     "iopub.status.busy": "2022-06-22T12:58:32.841187Z",
     "iopub.status.idle": "2022-06-22T12:58:32.863149Z",
     "shell.execute_reply": "2022-06-22T12:58:32.862406Z"
    },
    "id": "af65dcda",
    "papermill": {
     "duration": 0.061624,
     "end_time": "2022-06-22T12:58:32.863494",
     "exception": false,
     "start_time": "2022-06-22T12:58:32.801870",
     "status": "completed"
    },
    "tags": []
   },
   "outputs": [
    {
     "data": {
      "application/scrapbook.scrap.json+json": {
       "data": 0.3414507379975586,
       "encoder": "json",
       "name": "Prior Model MSE",
       "version": 1
      }
     },
     "metadata": {
      "scrapbook": {
       "data": true,
       "display": false,
       "name": "Prior Model MSE"
      }
     },
     "output_type": "display_data"
    },
    {
     "data": {
      "application/scrapbook.scrap.json+json": {
       "data": 1.4576229793666085,
       "encoder": "json",
       "name": "ABC Pre-generator MSE",
       "version": 1
      }
     },
     "metadata": {
      "scrapbook": {
       "data": true,
       "display": false,
       "name": "ABC Pre-generator MSE"
      }
     },
     "output_type": "display_data"
    },
    {
     "data": {
      "application/scrapbook.scrap.json+json": {
       "data": 0.47641588818196856,
       "encoder": "json",
       "name": "Prior Model MSE",
       "version": 1
      }
     },
     "metadata": {
      "scrapbook": {
       "data": true,
       "display": false,
       "name": "Prior Model MSE"
      }
     },
     "output_type": "display_data"
    },
    {
     "data": {
      "application/scrapbook.scrap.json+json": {
       "data": 1.0403088602985446,
       "encoder": "json",
       "name": "ABC Pre-generator MSE",
       "version": 1
      }
     },
     "metadata": {
      "scrapbook": {
       "data": true,
       "display": false,
       "name": "ABC Pre-generator MSE"
      }
     },
     "output_type": "display_data"
    }
   ],
   "source": [
    "y_pred = prior_model.predict(X_test)\n",
    "y_abc = y_pred + np.random.normal(0,variance, y_pred.shape) + bias \n",
    "mse = mean_squared_error(y_pred,Y_test)\n",
    "sb.glue(\"Prior Model MSE\",mse)\n",
    "mse = mean_squared_error(y_abc,Y_test)\n",
    "sb.glue(\"ABC Pre-generator MSE\",mse)\n",
    "mae = mean_absolute_error(y_pred,Y_test)\n",
    "sb.glue(\"Prior Model MSE\",mae)\n",
    "mae = mean_absolute_error(y_abc,Y_test)\n",
    "sb.glue(\"ABC Pre-generator MSE\",mae)"
   ]
  },
  {
   "cell_type": "markdown",
   "id": "25609da2",
   "metadata": {
    "papermill": {
     "duration": 0.047043,
     "end_time": "2022-06-22T12:58:32.947093",
     "exception": false,
     "start_time": "2022-06-22T12:58:32.900050",
     "status": "completed"
    },
    "tags": []
   },
   "source": [
    "# ABC GAN Model"
   ]
  },
  {
   "cell_type": "code",
   "execution_count": 11,
   "id": "dfc3464d",
   "metadata": {
    "execution": {
     "iopub.execute_input": "2022-06-22T12:58:33.070531Z",
     "iopub.status.busy": "2022-06-22T12:58:33.068530Z",
     "iopub.status.idle": "2022-06-22T12:58:33.071476Z",
     "shell.execute_reply": "2022-06-22T12:58:33.072033Z"
    },
    "papermill": {
     "duration": 0.084662,
     "end_time": "2022-06-22T12:58:33.072256",
     "exception": false,
     "start_time": "2022-06-22T12:58:32.987594",
     "status": "completed"
    },
    "tags": []
   },
   "outputs": [],
   "source": [
    "gen = network.Generator(n_features+1).to(device)\n",
    "disc = network.Discriminator(n_features+1).to(device)\n",
    "\n",
    "criterion = torch.nn.BCELoss()\n",
    "gen_opt = torch.optim.Adam(gen.parameters(), lr=0.001, betas=(0.5, 0.999))\n",
    "disc_opt = torch.optim.Adam(disc.parameters(), lr=0.001, betas=(0.5, 0.999))"
   ]
  },
  {
   "cell_type": "code",
   "execution_count": 12,
   "id": "b75fdd85",
   "metadata": {
    "execution": {
     "iopub.execute_input": "2022-06-22T12:58:33.162918Z",
     "iopub.status.busy": "2022-06-22T12:58:33.162150Z",
     "iopub.status.idle": "2022-06-22T12:59:48.254312Z",
     "shell.execute_reply": "2022-06-22T12:59:48.254918Z"
    },
    "papermill": {
     "duration": 75.146511,
     "end_time": "2022-06-22T12:59:48.255132",
     "exception": false,
     "start_time": "2022-06-22T12:58:33.108621",
     "status": "completed"
    },
    "tags": []
   },
   "outputs": [
    {
     "data": {
      "image/png": "[encoded data removed]",
      "text/plain": [
       "<Figure size 432x288 with 1 Axes>"
      ]
     },
     "metadata": {
      "needs_background": "light"
     },
     "output_type": "display_data"
    },
    {
     "data": {
      "image/png": "[encoded data removed]",
      "text/plain": [
       "<Figure size 432x288 with 1 Axes>"
      ]
     },
     "metadata": {
      "needs_background": "light"
     },
     "output_type": "display_data"
    }
   ],
   "source": [
    "#Training the ABC_GAN \n",
    "ABC_train_test2.training_GAN(disc,gen,disc_opt,gen_opt,train_data,batch_size,n_epochs,criterion,prior_model,variance,bias,device)"
   ]
  },
  {
   "cell_type": "code",
   "execution_count": 13,
   "id": "1fa7c368",
   "metadata": {
    "execution": {
     "iopub.execute_input": "2022-06-22T12:59:48.358059Z",
     "iopub.status.busy": "2022-06-22T12:59:48.357265Z",
     "iopub.status.idle": "2022-06-22T12:59:49.774362Z",
     "shell.execute_reply": "2022-06-22T12:59:49.775091Z"
    },
    "papermill": {
     "duration": 1.483403,
     "end_time": "2022-06-22T12:59:49.775378",
     "exception": false,
     "start_time": "2022-06-22T12:59:48.291975",
     "status": "completed"
    },
    "tags": []
   },
   "outputs": [
    {
     "data": {
      "application/scrapbook.scrap.json+json": {
       "data": 0.4856315579733148,
       "encoder": "json",
       "name": "ABC-GAN Model 1 MSE",
       "version": 1
      }
     },
     "metadata": {
      "scrapbook": {
       "data": true,
       "display": false,
       "name": "ABC-GAN Model 1 MSE"
      }
     },
     "output_type": "display_data"
    },
    {
     "data": {
      "application/scrapbook.scrap.json+json": {
       "data": 0.5857985482178628,
       "encoder": "json",
       "name": "ABC-GAN Model 1 MAE",
       "version": 1
      }
     },
     "metadata": {
      "scrapbook": {
       "data": true,
       "display": false,
       "name": "ABC-GAN Model 1 MAE"
      }
     },
     "output_type": "display_data"
    },
    {
     "data": {
      "application/scrapbook.scrap.json+json": {
       "data": 11.715970964357258,
       "encoder": "json",
       "name": "ABC-GAN Model 1 Manhattan Distance",
       "version": 1
      }
     },
     "metadata": {
      "scrapbook": {
       "data": true,
       "display": false,
       "name": "ABC-GAN Model 1 Manhattan Distance"
      }
     },
     "output_type": "display_data"
    },
    {
     "data": {
      "application/scrapbook.scrap.json+json": {
       "data": 3.115710115983872,
       "encoder": "json",
       "name": "ABC-GAN Model 1 Euclidean distance",
       "version": 1
      }
     },
     "metadata": {
      "scrapbook": {
       "data": true,
       "display": false,
       "name": "ABC-GAN Model 1 Euclidean distance"
      }
     },
     "output_type": "display_data"
    },
    {
     "data": {
      "application/scrapbook.scrap.json+json": {
       "data": [
        [
         0.5001484486099939,
         0.481811127408994,
         0.5243262775189103,
         0.5092964423174091,
         0.5102737082521962,
         0.4605906816895978,
         0.47818869300572936,
         0.4644458578244331,
         0.5060597586084085,
         0.5078547199911975,
         0.5010373677451859,
         0.49639271187154305,
         0.5049074400591349,
         0.48885002617855366,
         0.4465340530625883,
         0.4670129551809704,
         0.5157407317137166,
         0.5005451452174358,
         0.52088494433162,
         0.5099493933436345,
         0.5511268208998039,
         0.488379225456386,
         0.4847956296102228,
         0.5000931510768758,
         0.48569413160091257,
         0.4834704728462845,
         0.4685896855440056,
         0.4805946595781617,
         0.4873627698992397,
         0.470500798121391,
         0.4398307575976762,
         0.5059367395346787,
         0.44464081108101466,
         0.4819571991305332,
         0.5050206728051663,
         0.4594114337633376,
         0.5004849637227404,
         0.4707588661402631,
         0.46718386774627013,
         0.4569702379660649,
         0.49585493710041717,
         0.4760181904648955,
         0.48407769494170266,
         0.4892921233682005,
         0.4657374475041419,
         0.49375699262851,
         0.5035120174050822,
         0.4802096834109172,
         0.4804396166377825,
         0.5054180781794777,
         0.5035757586923422,
         0.46765418735088343,
         0.4810338351827859,
         0.4629492890294797,
         0.46413180032442103,
         0.4852339989375133,
         0.5476784729623438,
         0.45358829864925293,
         0.47462532582806316,
         0.48500033223946043,
         0.4208910530476372,
         0.4933241069663423,
         0.44787620557214486,
         0.48115121406656625,
         0.49243642334869514,
         0.49029220860528683,
         0.48278314182345367,
         0.4957132096745789,
         0.47178674997542247,
         0.5043086894104123,
         0.4505027055434786,
         0.48388705664702564,
         0.473025893040094,
         0.46597863222275615,
         0.5070117798511683,
         0.47712180591161735,
         0.5025831082750586,
         0.5037902937729933,
         0.5396644890444107,
         0.49589651788856726,
         0.495383688862897,
         0.47116466633287934,
         0.5029977774508745,
         0.45983466043446264,
         0.4938840846880474,
         0.4898625537743927,
         0.4820543143701473,
         0.47391902904885574,
         0.48641740854627535,
         0.5078338535319393,
         0.5142172083721465,
         0.470129293632484,
         0.4987681732689893,
         0.461711462954894,
         0.4915294108354168,
         0.4523018011195717,
         0.47966606607543055,
         0.4757010516214777,
         0.4643094961519744,
         0.4840030526806601
        ],
        [
         0.58666663588956,
         0.5849789415486157,
         0.6119257734157145,
         0.5928267643786966,
         0.588372299540788,
         0.5615124073810875,
         0.5843484410084784,
         0.5810591948218644,
         0.5987012938596308,
         0.6113695778883994,
         0.6030625534243882,
         0.5978650980629027,
         0.6008857236243784,
         0.5791946833021939,
         0.5746561684645712,
         0.5779263046570122,
         0.6189972215332091,
         0.5797883884049952,
         0.5931712009944021,
         0.6137959414161742,
         0.6295631729997695,
         0.588112220261246,
         0.5719217550940812,
         0.6031538751907647,
         0.5954629604704678,
         0.5884435535408556,
         0.581656560394913,
         0.5917426117695868,
         0.5829850540496408,
         0.5773505234159529,
         0.5616135281510651,
         0.5981957742013038,
         0.5730704565532505,
         0.5800963182933628,
         0.6039254584349691,
         0.5656289250589908,
         0.589056655857712,
         0.5624120061285793,
         0.5779546947218478,
         0.5655983154661953,
         0.592922426853329,
         0.5886304595507681,
         0.5816823762841523,
         0.587045790348202,
         0.5725785278715193,
         0.5920529988594353,
         0.5827063624747097,
         0.572863403800875,
         0.5764994752593339,
         0.5982417077757418,
         0.58693912262097,
         0.5672408726997673,
         0.5835729272104799,
         0.5720983383245766,
         0.5634026990272105,
         0.5839133561588824,
         0.6064761173911393,
         0.5811261885799468,
         0.5823234998621046,
         0.5823854562826455,
         0.5393831764347852,
         0.6038920120336115,
         0.5530501645989716,
         0.5688811671920121,
         0.5916150906123221,
         0.6030012466944754,
         0.5728176415897905,
         0.5910356109030545,
         0.5742988065816462,
         0.5942366317845881,
         0.5796607104130089,
         0.5763178401626646,
         0.5786142573691905,
         0.5776311275549233,
         0.5988681972958148,
         0.5879374721087516,
         0.6002789420075715,
         0.5975022126920522,
         0.6098859363235534,
         0.5870961927808821,
         0.5978849289007485,
         0.5830596067942679,
         0.5910574962384999,
         0.5831394010223448,
         0.5897604738362133,
         0.5874633793719113,
         0.5777386461384595,
         0.5829373897053302,
         0.5893218264915049,
         0.5978640464134515,
         0.60727603668347,
         0.5835387882776558,
         0.5945055921562016,
         0.5698541772551835,
         0.5797193766571581,
         0.5771710616536438,
         0.5855817918665707,
         0.5602178749628365,
         0.5776606143452228,
         0.5943467349745333
        ],
        [
         11.7333327177912,
         11.699578830972314,
         12.23851546831429,
         11.856535287573934,
         11.767445990815759,
         11.23024814762175,
         11.686968820169568,
         11.621183896437287,
         11.974025877192616,
         12.227391557767987,
         12.061251068487763,
         11.957301961258054,
         12.017714472487569,
         11.583893666043878,
         11.493123369291425,
         11.558526093140244,
         12.379944430664182,
         11.595767768099904,
         11.863424019888043,
         12.275918828323483,
         12.591263459995389,
         11.76224440522492,
         11.438435101881623,
         12.063077503815293,
         11.909259209409356,
         11.768871070817113,
         11.63313120789826,
         11.834852235391736,
         11.659701080992818,
         11.547010468319058,
         11.232270563021302,
         11.963915484026074,
         11.461409131065011,
         11.601926365867257,
         12.078509168699384,
         11.312578501179814,
         11.78113311715424,
         11.248240122571588,
         11.559093894436955,
         11.311966309323907,
         11.858448537066579,
         11.772609191015363,
         11.633647525683045,
         11.74091580696404,
         11.451570557430387,
         11.841059977188706,
         11.654127249494195,
         11.457268076017499,
         11.529989505186677,
         11.964834155514836,
         11.7387824524194,
         11.344817453995347,
         11.6714585442096,
         11.441966766491532,
         11.26805398054421,
         11.678267123177648,
         12.129522347822785,
         11.622523771598935,
         11.646469997242093,
         11.64770912565291,
         10.787663528695703,
         12.07784024067223,
         11.061003291979432,
         11.377623343840241,
         11.832301812246442,
         12.060024933889508,
         11.456352831795812,
         11.82071221806109,
         11.485976131632924,
         11.884732635691762,
         11.593214208260179,
         11.526356803253293,
         11.572285147383809,
         11.552622551098466,
         11.977363945916295,
         11.75874944217503,
         12.00557884015143,
         11.950044253841043,
         12.197718726471066,
         11.741923855617642,
         11.95769857801497,
         11.661192135885358,
         11.821149924769998,
         11.662788020446897,
         11.795209476724267,
         11.749267587438226,
         11.554772922769189,
         11.658747794106603,
         11.786436529830098,
         11.957280928269029,
         12.1455207336694,
         11.670775765553117,
         11.890111843124032,
         11.39708354510367,
         11.594387533143163,
         11.543421233072877,
         11.711635837331414,
         11.20435749925673,
         11.553212286904454,
         11.886934699490666
        ],
        [
         3.162747061053077,
         3.1042265619925167,
         3.238290529025801,
         3.1915401997073736,
         3.1946007833599372,
         3.035096972716351,
         3.092535183326875,
         3.047772490933118,
         3.181382588147513,
         3.1870196735859584,
         3.1655564052633336,
         3.1508497643383224,
         3.1777584554498,
         3.1268195540470622,
         2.988424511553164,
         3.056183748340307,
         3.211668512514069,
         3.164001091078939,
         3.2276460287076714,
         3.1935854250156965,
         3.32002054481536,
         3.1253135057347,
         3.1138260375628657,
         3.1625722160193455,
         3.1167102258660897,
         3.1095674067184476,
         3.0613385488834965,
         3.100305338440592,
         3.1220594802125077,
         3.0675749318358663,
         2.965908823944783,
         3.180995880332694,
         2.982082530987413,
         3.104697083873186,
         3.1781147644638836,
         3.0312091111084287,
         3.163810878427282,
         3.0684160934927425,
         3.0567429324242172,
         3.0231448459048895,
         3.1491425407574587,
         3.085508679180454,
         3.111519548200534,
         3.1282331222854873,
         3.052007364028278,
         3.1424735245615354,
         3.17336420035609,
         3.0990633533728125,
         3.0998052088406545,
         3.179364962313945,
         3.1735650574467265,
         3.0582811752711145,
         3.10172157094342,
         3.042858159788194,
         3.0467418673869338,
         3.1152335351864497,
         3.309617721013543,
         3.0119372458577316,
         3.0809911581439606,
         3.1144833672359225,
         2.901348145423562,
         3.14109569088986,
         2.9929123126885786,
         3.102099979261037,
         3.138268386702116,
         3.1314284555304366,
         3.107356245503414,
         3.148692457749975,
         3.071764151022739,
         3.175873704700526,
         3.0016752174193617,
         3.1109068023553057,
         3.0757954842287356,
         3.052797511210844,
         3.1843736585117277,
         3.089083378323147,
         3.170435642857488,
         3.1742409920262618,
         3.285314259076019,
         3.14927457643365,
         3.14764575155114,
         3.069738315664315,
         3.1717432980960942,
         3.032605020224238,
         3.142877931730876,
         3.1300560818438785,
         3.1050098691313277,
         3.078697871012535,
         3.1190300048132764,
         3.1869541996456094,
         3.206921291120649,
         3.0663636236835448,
         3.1583798798402616,
         3.038787465272601,
         3.1353768859115383,
         3.0076628837673005,
         3.0973087223440627,
         3.0844806746727325,
         3.047325043876923,
         3.1112796488925905
        ]
       ],
       "encoder": "json",
       "name": "ABC_GAN_1 Metrics",
       "version": 1
      }
     },
     "metadata": {
      "scrapbook": {
       "data": true,
       "display": false,
       "name": "ABC_GAN_1 Metrics"
      }
     },
     "output_type": "display_data"
    },
    {
     "name": "stdout",
     "output_type": "stream",
     "text": [
      "MSE\n",
      "0.4856315579733148\n"
     ]
    }
   ],
   "source": [
    "ABC_GAN1_metrics=ABC_train_test2.test_generator(gen,test_data,prior_model,variance,bias,\"1\",device)\n",
    "sb.glue(\"ABC_GAN_1 Metrics\",ABC_GAN1_metrics)\n",
    "\n",
    "print(\"MSE\")\n",
    "print(mean(ABC_GAN1_metrics[0]))"
   ]
  },
  {
   "cell_type": "code",
   "execution_count": 14,
   "id": "eb22ce5c",
   "metadata": {
    "execution": {
     "iopub.execute_input": "2022-06-22T12:59:49.931959Z",
     "iopub.status.busy": "2022-06-22T12:59:49.923127Z",
     "iopub.status.idle": "2022-06-22T12:59:51.922466Z",
     "shell.execute_reply": "2022-06-22T12:59:51.924323Z"
    },
    "papermill": {
     "duration": 2.090468,
     "end_time": "2022-06-22T12:59:51.924594",
     "exception": false,
     "start_time": "2022-06-22T12:59:49.834126",
     "status": "completed"
    },
    "tags": []
   },
   "outputs": [
    {
     "data": {
      "image/png": "[encoded data removed]",
      "text/plain": [
       "<Figure size 432x288 with 1 Axes>"
      ]
     },
     "metadata": {
      "needs_background": "light"
     },
     "output_type": "display_data"
    },
    {
     "data": {
      "image/png": "[encoded data removed]",
      "text/plain": [
       "<Figure size 432x288 with 1 Axes>"
      ]
     },
     "metadata": {
      "needs_background": "light"
     },
     "output_type": "display_data"
    },
    {
     "data": {
      "image/png": "[encoded data removed]",
      "text/plain": [
       "<Figure size 432x288 with 1 Axes>"
      ]
     },
     "metadata": {
      "needs_background": "light"
     },
     "output_type": "display_data"
    },
    {
     "data": {
      "image/png": "[encoded data removed]",
      "text/plain": [
       "<Figure size 432x288 with 1 Axes>"
      ]
     },
     "metadata": {
      "needs_background": "light"
     },
     "output_type": "display_data"
    }
   ],
   "source": [
    "sanityChecks.discProbVsError(train_data,disc,device)\n",
    "sanityChecks.discProbVsError(test_data,disc,device)"
   ]
  },
  {
   "cell_type": "markdown",
   "id": "130f3a4d",
   "metadata": {
    "id": "130f3a4d",
    "papermill": {
     "duration": 0.067349,
     "end_time": "2022-06-22T12:59:52.065123",
     "exception": false,
     "start_time": "2022-06-22T12:59:51.997774",
     "status": "completed"
    },
    "tags": []
   },
   "source": [
    "# ABC - GAN Model with skip connection"
   ]
  },
  {
   "cell_type": "code",
   "execution_count": 15,
   "id": "4e43dad1",
   "metadata": {
    "execution": {
     "iopub.execute_input": "2022-06-22T12:59:52.322998Z",
     "iopub.status.busy": "2022-06-22T12:59:52.317765Z",
     "iopub.status.idle": "2022-06-22T12:59:52.325293Z",
     "shell.execute_reply": "2022-06-22T12:59:52.323889Z"
    },
    "id": "4e43dad1",
    "papermill": {
     "duration": 0.168596,
     "end_time": "2022-06-22T12:59:52.326709",
     "exception": false,
     "start_time": "2022-06-22T12:59:52.158113",
     "status": "completed"
    },
    "tags": []
   },
   "outputs": [],
   "source": [
    "#Generator\n",
    "gen3 = network.GeneratorWithSkipConnection(n_features+1).to(device)\n",
    "constraints=network.weightConstraint()\n",
    "#Discriminator \n",
    "disc3 = network.Discriminator(n_features+1).to(device)\n",
    "\n",
    "criterion = torch.nn.BCELoss()\n",
    "gen_opt = torch.optim.Adam(gen3.parameters(), lr=0.001, betas=(0.5, 0.999))\n",
    "disc_opt = torch.optim.Adam(disc3.parameters(), lr=0.001, betas=(0.5, 0.999))\n"
   ]
  },
  {
   "cell_type": "code",
   "execution_count": 16,
   "id": "26acbc37",
   "metadata": {
    "execution": {
     "iopub.execute_input": "2022-06-22T12:59:52.540901Z",
     "iopub.status.busy": "2022-06-22T12:59:52.540111Z",
     "iopub.status.idle": "2022-06-22T13:01:24.667528Z",
     "shell.execute_reply": "2022-06-22T13:01:24.668079Z"
    },
    "id": "26acbc37",
    "papermill": {
     "duration": 92.211037,
     "end_time": "2022-06-22T13:01:24.668878",
     "exception": false,
     "start_time": "2022-06-22T12:59:52.457841",
     "status": "completed"
    },
    "tags": []
   },
   "outputs": [
    {
     "data": {
      "image/png": "[encoded data removed]",
      "text/plain": [
       "<Figure size 432x288 with 1 Axes>"
      ]
     },
     "metadata": {
      "needs_background": "light"
     },
     "output_type": "display_data"
    },
    {
     "data": {
      "image/png": "[encoded data removed]",
      "text/plain": [
       "<Figure size 432x288 with 1 Axes>"
      ]
     },
     "metadata": {
      "needs_background": "light"
     },
     "output_type": "display_data"
    }
   ],
   "source": [
    "ABC_train_test2.training_GAN_skip_connection(disc3,gen3,disc_opt,gen_opt,train_data,batch_size,n_epochs,criterion,prior_model,variance,bias,device)"
   ]
  },
  {
   "cell_type": "code",
   "execution_count": 17,
   "id": "c5e0717b",
   "metadata": {
    "execution": {
     "iopub.execute_input": "2022-06-22T13:01:24.777744Z",
     "iopub.status.busy": "2022-06-22T13:01:24.776437Z",
     "iopub.status.idle": "2022-06-22T13:01:25.847698Z",
     "shell.execute_reply": "2022-06-22T13:01:25.848399Z"
    },
    "id": "c5e0717b",
    "papermill": {
     "duration": 1.134412,
     "end_time": "2022-06-22T13:01:25.848638",
     "exception": false,
     "start_time": "2022-06-22T13:01:24.714226",
     "status": "completed"
    },
    "tags": []
   },
   "outputs": [
    {
     "data": {
      "application/scrapbook.scrap.json+json": {
       "data": 0.384001731291912,
       "encoder": "json",
       "name": "ABC-GAN Model 3 MSE",
       "version": 1
      }
     },
     "metadata": {
      "scrapbook": {
       "data": true,
       "display": false,
       "name": "ABC-GAN Model 3 MSE"
      }
     },
     "output_type": "display_data"
    },
    {
     "data": {
      "application/scrapbook.scrap.json+json": {
       "data": 0.5009970690794289,
       "encoder": "json",
       "name": "ABC-GAN Model 3 MAE",
       "version": 1
      }
     },
     "metadata": {
      "scrapbook": {
       "data": true,
       "display": false,
       "name": "ABC-GAN Model 3 MAE"
      }
     },
     "output_type": "display_data"
    },
    {
     "data": {
      "application/scrapbook.scrap.json+json": {
       "data": 10.019941381588579,
       "encoder": "json",
       "name": "ABC-GAN Model 3 Manhattan Distance",
       "version": 1
      }
     },
     "metadata": {
      "scrapbook": {
       "data": true,
       "display": false,
       "name": "ABC-GAN Model 3 Manhattan Distance"
      }
     },
     "output_type": "display_data"
    },
    {
     "data": {
      "application/scrapbook.scrap.json+json": {
       "data": 2.770486583655023,
       "encoder": "json",
       "name": "ABC-GAN Model 3 Euclidean distance",
       "version": 1
      }
     },
     "metadata": {
      "scrapbook": {
       "data": true,
       "display": false,
       "name": "ABC-GAN Model 3 Euclidean distance"
      }
     },
     "output_type": "display_data"
    },
    {
     "data": {
      "application/scrapbook.scrap.json+json": {
       "data": [
        [
         0.37391697284557424,
         0.38644415714508906,
         0.38204164881311253,
         0.43438027139659774,
         0.4333370310979129,
         0.39454458293435657,
         0.37802858649054755,
         0.38276030184357746,
         0.3758559716341455,
         0.3671785615552373,
         0.4134830845688772,
         0.39945113757674405,
         0.38904009733900974,
         0.38567999883049037,
         0.395060152517131,
         0.3724624026136243,
         0.38379917779462336,
         0.3602463499454128,
         0.38313650174513403,
         0.36845893685718634,
         0.37168933375019053,
         0.3813154370458438,
         0.3727372951363674,
         0.38958012609760123,
         0.40076285160536995,
         0.41477698118633005,
         0.36729590037411936,
         0.38598701096065724,
         0.38493569960873125,
         0.3872782581717179,
         0.3848072106150757,
         0.4077387861677212,
         0.40363780824048723,
         0.40729156252294657,
         0.4250296021548664,
         0.3496169576785,
         0.40128468965936276,
         0.36001928503409614,
         0.3776466156117643,
         0.37889150528954085,
         0.3895514551153881,
         0.35403051549722564,
         0.37825223081582593,
         0.3789824191981586,
         0.4078379903606428,
         0.37238015570668936,
         0.3918516422064511,
         0.3458396130319948,
         0.3954542358763661,
         0.3857247510670735,
         0.39163247197079687,
         0.3888559640986902,
         0.37736369364416367,
         0.3766986511746569,
         0.3800852893682825,
         0.4112779704028842,
         0.3755591962296321,
         0.38427370203643746,
         0.36147300776930014,
         0.40312982137125203,
         0.39824074033235946,
         0.4035281535975047,
         0.3746481600030483,
         0.3842027699955019,
         0.3916113577261833,
         0.37638437440922573,
         0.3434016886933412,
         0.40178803766448645,
         0.36409440199631155,
         0.38588663294565906,
         0.3424133138362255,
         0.374355661694822,
         0.3975371001591185,
         0.3859633376584851,
         0.3441461970760739,
         0.39282198980438165,
         0.3989431089558636,
         0.40144117611968316,
         0.36857292918056234,
         0.41834069069535895,
         0.35105341372497245,
         0.3786453376790166,
         0.3706316150218921,
         0.3845477466573787,
         0.36559553700921227,
         0.38341436175232524,
         0.38922281344779697,
         0.3863728975506874,
         0.3437378262902837,
         0.37512066305697983,
         0.3806784796353809,
         0.3695404112043311,
         0.37279396928818437,
         0.37805701232725203,
         0.41241193711117907,
         0.3830606611596893,
         0.37802980291968,
         0.3856272774471686,
         0.39851524593736815,
         0.40291067802864244
        ],
        [
         0.4874757592566311,
         0.502077002543956,
         0.5075116922147572,
         0.5222567950375379,
         0.5458097313530743,
         0.517954905796796,
         0.4879412909038365,
         0.49887487487867477,
         0.4928922553546727,
         0.47603202881291506,
         0.501365598011762,
         0.5108438861556351,
         0.49785584630444646,
         0.5059583817608655,
         0.5111334298737347,
         0.48973543392494323,
         0.4962367844767869,
         0.4760708619840443,
         0.5003832873888314,
         0.4856856388039887,
         0.5021985125727951,
         0.5006876279599964,
         0.49230195255950093,
         0.47401636661961677,
         0.5214859058149159,
         0.5323333089239896,
         0.4850104321725667,
         0.49335566433146594,
         0.506431018281728,
         0.5039520022459328,
         0.5244261388666928,
         0.5289373171515763,
         0.5113486704416573,
         0.5229046945460141,
         0.5238956158049405,
         0.46886321576312184,
         0.5088455450721086,
         0.476551138330251,
         0.4893608388490975,
         0.4990846452303231,
         0.5134186861105263,
         0.4730520029552281,
         0.5010765929706394,
         0.49773673312738537,
         0.5098607716150582,
         0.5061902021057904,
         0.5039806430228054,
         0.47920613633468745,
         0.5000427846796811,
         0.5058634822256863,
         0.5144532431848348,
         0.5125164111144841,
         0.5072445456869901,
         0.49324005739763377,
         0.49634675281122326,
         0.5121100385673344,
         0.49382138894870875,
         0.48251196565106513,
         0.48802148224785924,
         0.5191164587624371,
         0.515452713984996,
         0.5076797162182629,
         0.4925520052202046,
         0.5145897236652672,
         0.5215758983977139,
         0.49701769249513744,
         0.4634248253889382,
         0.5195143018849194,
         0.49177881153300407,
         0.5143203740008175,
         0.46445373790338634,
         0.5085792777128517,
         0.5142811906524003,
         0.5306310762651265,
         0.47348844455555084,
         0.49702298240736126,
         0.5121938233263791,
         0.5127310235984623,
         0.5028539349325001,
         0.5445505079813302,
         0.48372182371094824,
         0.48618474500253794,
         0.49386911215260626,
         0.519687529373914,
         0.48077926533296705,
         0.5156321224756539,
         0.4977395539171994,
         0.49502004059031607,
         0.4762565393932164,
         0.4821966734714806,
         0.49780572997406125,
         0.4883022581227124,
         0.49786997558549045,
         0.4957861130125821,
         0.5133607846684753,
         0.4863843229599297,
         0.5012047973461449,
         0.4945159432478249,
         0.5002700512297451,
         0.5045309883542359
        ],
        [
         9.749515185132623,
         10.04154005087912,
         10.150233844295144,
         10.445135900750756,
         10.916194627061486,
         10.359098115935922,
         9.75882581807673,
         9.977497497573495,
         9.857845107093453,
         9.520640576258302,
         10.027311960235238,
         10.216877723112702,
         9.95711692608893,
         10.119167635217309,
         10.222668597474694,
         9.794708678498864,
         9.924735689535737,
         9.521417239680886,
         10.007665747776628,
         9.713712776079774,
         10.043970251455903,
         10.01375255919993,
         9.846039051190019,
         9.480327332392335,
         10.429718116298318,
         10.64666617847979,
         9.700208643451333,
         9.86711328662932,
         10.12862036563456,
         10.079040044918656,
         10.488522777333856,
         10.578746343031526,
         10.226973408833146,
         10.458093890920281,
         10.47791231609881,
         9.377264315262437,
         10.17691090144217,
         9.53102276660502,
         9.78721677698195,
         9.981692904606462,
         10.268373722210526,
         9.461040059104562,
         10.02153185941279,
         9.954734662547708,
         10.197215432301164,
         10.123804042115808,
         10.079612860456109,
         9.58412272669375,
         10.000855693593621,
         10.117269644513726,
         10.289064863696694,
         10.250328222289681,
         10.1448909137398,
         9.864801147952676,
         9.926935056224465,
         10.242200771346688,
         9.876427778974175,
         9.650239313021302,
         9.760429644957185,
         10.382329175248742,
         10.309054279699922,
         10.153594324365258,
         9.851040104404092,
         10.291794473305345,
         10.431517967954278,
         9.940353849902749,
         9.268496507778764,
         10.390286037698388,
         9.835576230660081,
         10.28640748001635,
         9.289074758067727,
         10.171585554257035,
         10.285623813048005,
         10.61262152530253,
         9.469768891111016,
         9.940459648147225,
         10.243876466527581,
         10.254620471969247,
         10.057078698650002,
         10.891010159626603,
         9.674436474218965,
         9.72369490005076,
         9.877382243052125,
         10.39375058747828,
         9.61558530665934,
         10.312642449513078,
         9.954791078343987,
         9.900400811806321,
         9.525130787864327,
         9.643933469429612,
         9.956114599481225,
         9.766045162454247,
         9.95739951170981,
         9.915722260251641,
         10.267215693369508,
         9.727686459198594,
         10.024095946922898,
         9.890318864956498,
         10.005401024594903,
         10.090619767084718
        ],
        [
         2.734655272042801,
         2.7800868948473143,
         2.764205668227719,
         2.9474744151445917,
         2.9439328494308863,
         2.8090730960028667,
         2.7496493830688578,
         2.7668043004288445,
         2.741736572445083,
         2.709902439407136,
         2.8757019475908043,
         2.8264859369073254,
         2.789408888417077,
         2.777336849683489,
         2.8109078694156127,
         2.7293310631494463,
         2.7705565426268537,
         2.684199508029956,
         2.768163657535927,
         2.7146231298549948,
         2.726497143773272,
         2.7615772197997424,
         2.7303380564917865,
         2.791344214164929,
         2.8311229277633636,
         2.880197844545857,
         2.7103354049789457,
         2.778442048921147,
         2.774655652900847,
         2.783085547272013,
         2.7741925333872404,
         2.8556567936911508,
         2.8412596088372046,
         2.854090266697767,
         2.9155774802082224,
         2.6443031508452277,
         2.8329655474762228,
         2.6833534431158936,
         2.7482598698513367,
         2.7527858808470405,
         2.7912414983852187,
         2.6609416209200294,
         2.7504626186000998,
         2.7531161224988625,
         2.8560041679263803,
         2.7290297019515535,
         2.7994701005956504,
         2.629979517152157,
         2.8123094988865147,
         2.7774979786385927,
         2.7986870920872766,
         2.788748694661067,
         2.747230218398755,
         2.7448083764614855,
         2.7571191101157835,
         2.868023606607464,
         2.7406539228061324,
         2.7722687533370114,
         2.688765544889699,
         2.8394711527721213,
         2.822200348424468,
         2.8408736458966444,
         2.737327748016478,
         2.772012878741734,
         2.7986116476788387,
         2.7436631513698093,
         2.620693376544998,
         2.8347417436672657,
         2.6984973670408183,
         2.7780807509705654,
         2.6169192338940284,
         2.7362589851650445,
         2.819706013608931,
         2.7783568441022295,
         2.623532721641085,
         2.802934140519116,
         2.824687979072604,
         2.8335178704913195,
         2.715043016898857,
         2.8925445223725044,
         2.649729849343032,
         2.751891486519832,
         2.7226149746958055,
         2.7732570982776865,
         2.7040545002244767,
         2.769167245770198,
         2.790063846752604,
         2.779830561565533,
         2.6219756913071626,
         2.739053351276604,
         2.7592697571472815,
         2.7186040947675005,
         2.730545620524163,
         2.7497527609850745,
         2.871974711278562,
         2.767889669620844,
         2.749653807008002,
         2.7771470160838394,
         2.823172846062983,
         2.8386992726551448
        ]
       ],
       "encoder": "json",
       "name": "ABC_GAN_3 Metrics",
       "version": 1
      }
     },
     "metadata": {
      "scrapbook": {
       "data": true,
       "display": false,
       "name": "ABC_GAN_3 Metrics"
      }
     },
     "output_type": "display_data"
    },
    {
     "name": "stdout",
     "output_type": "stream",
     "text": [
      "MSE\n",
      "0.384001731291912\n"
     ]
    }
   ],
   "source": [
    "ABC_GAN3_metrics=ABC_train_test2.test_generator(gen3,test_data,prior_model,variance,bias,\"3\",device)\n",
    "sb.glue(\"ABC_GAN_3 Metrics\",ABC_GAN3_metrics)\n",
    "\n",
    "print(\"MSE\")\n",
    "print(mean(ABC_GAN3_metrics[0]))"
   ]
  },
  {
   "cell_type": "code",
   "execution_count": 18,
   "id": "c8e46b48",
   "metadata": {
    "execution": {
     "iopub.execute_input": "2022-06-22T13:01:25.986156Z",
     "iopub.status.busy": "2022-06-22T13:01:25.984344Z",
     "iopub.status.idle": "2022-06-22T13:01:26.797714Z",
     "shell.execute_reply": "2022-06-22T13:01:26.798396Z"
    },
    "id": "c8e46b48",
    "papermill": {
     "duration": 0.897865,
     "end_time": "2022-06-22T13:01:26.798612",
     "exception": false,
     "start_time": "2022-06-22T13:01:25.900747",
     "status": "completed"
    },
    "tags": []
   },
   "outputs": [
    {
     "data": {
      "image/png": "[encoded data removed]",
      "text/plain": [
       "<Figure size 432x288 with 1 Axes>"
      ]
     },
     "metadata": {
      "needs_background": "light"
     },
     "output_type": "display_data"
    },
    {
     "data": {
      "image/png": "[encoded data removed]",
      "text/plain": [
       "<Figure size 432x288 with 1 Axes>"
      ]
     },
     "metadata": {
      "needs_background": "light"
     },
     "output_type": "display_data"
    },
    {
     "data": {
      "image/png": "[encoded data removed]",
      "text/plain": [
       "<Figure size 432x288 with 1 Axes>"
      ]
     },
     "metadata": {
      "needs_background": "light"
     },
     "output_type": "display_data"
    },
    {
     "data": {
      "image/png": "[encoded data removed]",
      "text/plain": [
       "<Figure size 432x288 with 1 Axes>"
      ]
     },
     "metadata": {
      "needs_background": "light"
     },
     "output_type": "display_data"
    }
   ],
   "source": [
    "sanityChecks.discProbVsError(train_data,disc3,device)\n",
    "sanityChecks.discProbVsError(test_data,disc3,device)"
   ]
  },
  {
   "cell_type": "markdown",
   "id": "a5bd74c3",
   "metadata": {
    "id": "a5bd74c3",
    "papermill": {
     "duration": 0.060348,
     "end_time": "2022-06-22T13:01:26.914181",
     "exception": false,
     "start_time": "2022-06-22T13:01:26.853833",
     "status": "completed"
    },
    "tags": []
   },
   "source": [
    "## Skip Connection Model Analysis - ABC-GAN "
   ]
  },
  {
   "cell_type": "markdown",
   "id": "5744a8bf",
   "metadata": {
    "id": "5744a8bf",
    "papermill": {
     "duration": 0.06408,
     "end_time": "2022-06-22T13:01:27.040355",
     "exception": false,
     "start_time": "2022-06-22T13:01:26.976275",
     "status": "completed"
    },
    "tags": []
   },
   "source": [
    "### Weight Analysis \n",
    "\n",
    "Study the weights of the skip connection layer\n",
    "\n",
    "Equation of the skip connection is \n",
    "\n",
    "$output = y_{gan} * w + y_{abc} * (1-w)$"
   ]
  },
  {
   "cell_type": "code",
   "execution_count": 19,
   "id": "52c31dea",
   "metadata": {
    "execution": {
     "iopub.execute_input": "2022-06-22T13:01:27.271158Z",
     "iopub.status.busy": "2022-06-22T13:01:27.268028Z",
     "iopub.status.idle": "2022-06-22T13:01:27.274953Z",
     "shell.execute_reply": "2022-06-22T13:01:27.275492Z"
    },
    "id": "52c31dea",
    "papermill": {
     "duration": 0.134183,
     "end_time": "2022-06-22T13:01:27.275705",
     "exception": false,
     "start_time": "2022-06-22T13:01:27.141522",
     "status": "completed"
    },
    "tags": []
   },
   "outputs": [
    {
     "name": "stdout",
     "output_type": "stream",
     "text": [
      "Weight of the node at skip connection\n",
      "Parameter containing:\n",
      "tensor([[0.6674]], requires_grad=True)\n"
     ]
    },
    {
     "data": {
      "application/scrapbook.scrap.json+json": {
       "data": 0.6674004793167114,
       "encoder": "json",
       "name": "Skip Connection Weight",
       "version": 1
      }
     },
     "metadata": {
      "scrapbook": {
       "data": true,
       "display": false,
       "name": "Skip Connection Weight"
      }
     },
     "output_type": "display_data"
    }
   ],
   "source": [
    "print(\"Weight of the node at skip connection\")\n",
    "for name,param in gen3.named_parameters():\n",
    "    if(name == \"skipNode.weight\"):\n",
    "        print(param)\n",
    "        sb.glue(\"Skip Connection Weight\",param.item())"
   ]
  }
 ],
 "metadata": {
  "colab": {
   "collapsed_sections": [],
   "name": "ABC_GAN_Model-Catboost_Pre-gen.ipynb",
   "provenance": []
  },
  "interpreter": {
   "hash": "31f2aee4e71d21fbe5cf8b01ff0e069b9275f58929596ceb00d14d90e3e16cd6"
  },
  "kernelspec": {
   "display_name": "Python 3 (ipykernel)",
   "language": "python",
   "name": "python3"
  },
  "language_info": {
   "codemirror_mode": {
    "name": "ipython",
    "version": 3
   },
   "file_extension": ".py",
   "mimetype": "text/x-python",
   "name": "python",
   "nbconvert_exporter": "python",
   "pygments_lexer": "ipython3",
   "version": "3.8.3"
  },
  "papermill": {
   "default_parameters": {},
   "duration": 203.770093,
   "end_time": "2022-06-22T13:01:28.802337",
   "environment_variables": {},
   "exception": null,
   "input_path": "ABC_GAN-TabNet.ipynb",
   "output_path": "./ABC_GAN_TabNet/ABC-GAN_output_4_1.ipynb",
   "parameters": {
    "bias": 1,
    "variance": 0.1
   },
   "start_time": "2022-06-22T12:58:05.032244",
   "version": "2.3.3"
  }
 },
 "nbformat": 4,
 "nbformat_minor": 5
}