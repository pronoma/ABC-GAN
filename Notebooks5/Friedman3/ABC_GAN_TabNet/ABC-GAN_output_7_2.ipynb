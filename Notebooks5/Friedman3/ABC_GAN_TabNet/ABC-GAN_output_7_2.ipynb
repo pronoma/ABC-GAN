{
 "cells": [
  {
   "cell_type": "markdown",
   "id": "622780e6",
   "metadata": {
    "id": "622780e6",
    "papermill": {
     "duration": 0.060279,
     "end_time": "2022-06-22T14:50:48.608454",
     "exception": false,
     "start_time": "2022-06-22T14:50:48.548175",
     "status": "completed"
    },
    "tags": []
   },
   "source": [
    "## Import Libraries "
   ]
  },
  {
   "cell_type": "code",
   "execution_count": 1,
   "id": "a62397e3",
   "metadata": {
    "execution": {
     "iopub.execute_input": "2022-06-22T14:50:48.677538Z",
     "iopub.status.busy": "2022-06-22T14:50:48.676089Z",
     "iopub.status.idle": "2022-06-22T14:50:48.678290Z",
     "shell.execute_reply": "2022-06-22T14:50:48.676838Z"
    },
    "id": "a62397e3",
    "papermill": {
     "duration": 0.037319,
     "end_time": "2022-06-22T14:50:48.678525",
     "exception": false,
     "start_time": "2022-06-22T14:50:48.641206",
     "status": "completed"
    },
    "tags": []
   },
   "outputs": [],
   "source": [
    "import warnings\n",
    "import sys\n",
    "sys.path.insert(0, '../../src')\n",
    "warnings.filterwarnings('ignore')"
   ]
  },
  {
   "cell_type": "code",
   "execution_count": 2,
   "id": "d6a4e155",
   "metadata": {
    "execution": {
     "iopub.execute_input": "2022-06-22T14:50:48.721329Z",
     "iopub.status.busy": "2022-06-22T14:50:48.717756Z",
     "iopub.status.idle": "2022-06-22T14:50:54.940444Z",
     "shell.execute_reply": "2022-06-22T14:50:54.941216Z"
    },
    "id": "d6a4e155",
    "papermill": {
     "duration": 6.246912,
     "end_time": "2022-06-22T14:50:54.941447",
     "exception": false,
     "start_time": "2022-06-22T14:50:48.694535",
     "status": "completed"
    },
    "tags": []
   },
   "outputs": [],
   "source": [
    "import ABC_train_test2\n",
    "import friedman3Dataset\n",
    "import network\n",
    "import dataset\n",
    "import sanityChecks\n",
    "import torch \n",
    "import scrapbook as sb\n",
    "from statistics import mean \n",
    "import catboost as ctb \n",
    "from sklearn.model_selection import train_test_split\n",
    "from sklearn.metrics import mean_squared_error,mean_absolute_error\n",
    "import numpy as np\n",
    "from pytorch_tabnet.tab_model import TabNetRegressor"
   ]
  },
  {
   "cell_type": "markdown",
   "id": "2fa5b0f7",
   "metadata": {
    "id": "2fa5b0f7",
    "papermill": {
     "duration": 0.018625,
     "end_time": "2022-06-22T14:50:54.975646",
     "exception": false,
     "start_time": "2022-06-22T14:50:54.957021",
     "status": "completed"
    },
    "tags": []
   },
   "source": [
    "## Parameters "
   ]
  },
  {
   "cell_type": "code",
   "execution_count": 3,
   "id": "783186fb",
   "metadata": {
    "execution": {
     "iopub.execute_input": "2022-06-22T14:50:55.012231Z",
     "iopub.status.busy": "2022-06-22T14:50:55.011465Z",
     "iopub.status.idle": "2022-06-22T14:50:55.013679Z",
     "shell.execute_reply": "2022-06-22T14:50:55.014120Z"
    },
    "id": "783186fb",
    "papermill": {
     "duration": 0.021479,
     "end_time": "2022-06-22T14:50:55.014365",
     "exception": false,
     "start_time": "2022-06-22T14:50:54.992886",
     "status": "completed"
    },
    "tags": [
     "parameters"
    ]
   },
   "outputs": [],
   "source": [
    "variance = 1\n",
    "bias = 1 "
   ]
  },
  {
   "cell_type": "code",
   "execution_count": 4,
   "id": "21400a39",
   "metadata": {
    "execution": {
     "iopub.execute_input": "2022-06-22T14:50:55.043705Z",
     "iopub.status.busy": "2022-06-22T14:50:55.043057Z",
     "iopub.status.idle": "2022-06-22T14:50:55.044743Z",
     "shell.execute_reply": "2022-06-22T14:50:55.045360Z"
    },
    "papermill": {
     "duration": 0.017723,
     "end_time": "2022-06-22T14:50:55.045552",
     "exception": false,
     "start_time": "2022-06-22T14:50:55.027829",
     "status": "completed"
    },
    "tags": [
     "injected-parameters"
    ]
   },
   "outputs": [],
   "source": [
    "# Parameters\n",
    "variance = 0.01\n",
    "bias = 1\n"
   ]
  },
  {
   "cell_type": "markdown",
   "id": "391cdbfd",
   "metadata": {
    "id": "391cdbfd",
    "papermill": {
     "duration": 0.017509,
     "end_time": "2022-06-22T14:50:55.075627",
     "exception": false,
     "start_time": "2022-06-22T14:50:55.058118",
     "status": "completed"
    },
    "tags": []
   },
   "source": [
    "## Dataset \n"
   ]
  },
  {
   "cell_type": "code",
   "execution_count": 5,
   "id": "5b51f161",
   "metadata": {
    "execution": {
     "iopub.execute_input": "2022-06-22T14:50:55.111042Z",
     "iopub.status.busy": "2022-06-22T14:50:55.110314Z",
     "iopub.status.idle": "2022-06-22T14:50:55.112555Z",
     "shell.execute_reply": "2022-06-22T14:50:55.113023Z"
    },
    "id": "5b51f161",
    "papermill": {
     "duration": 0.021286,
     "end_time": "2022-06-22T14:50:55.113445",
     "exception": false,
     "start_time": "2022-06-22T14:50:55.092159",
     "status": "completed"
    },
    "tags": []
   },
   "outputs": [],
   "source": [
    "#Parameters \n",
    "n_features = 4\n",
    "n_samples= 100\n",
    "n_target = 1"
   ]
  },
  {
   "cell_type": "code",
   "execution_count": 6,
   "id": "5d6eced4",
   "metadata": {
    "execution": {
     "iopub.execute_input": "2022-06-22T14:50:55.144616Z",
     "iopub.status.busy": "2022-06-22T14:50:55.143921Z",
     "iopub.status.idle": "2022-06-22T14:50:55.155697Z",
     "shell.execute_reply": "2022-06-22T14:50:55.156247Z"
    },
    "id": "5d6eced4",
    "papermill": {
     "duration": 0.029579,
     "end_time": "2022-06-22T14:50:55.156452",
     "exception": false,
     "start_time": "2022-06-22T14:50:55.126873",
     "status": "completed"
    },
    "tags": []
   },
   "outputs": [
    {
     "name": "stdout",
     "output_type": "stream",
     "text": [
      "          X1          X2        X3         X4         Y\n",
      "0  38.563027  147.166810  0.189833   8.281029  0.603530\n",
      "1  24.504411  216.685648  0.306205   9.965351  1.195494\n",
      "2  27.471607  707.339324  0.783594   7.311948  1.501034\n",
      "3   2.117146  480.824570  0.976824   7.240817  1.509928\n",
      "4  83.403236  490.098278  0.787059  10.457307  1.456909\n"
     ]
    }
   ],
   "source": [
    "X,Y = friedman3Dataset.friedman3_data(n_samples)"
   ]
  },
  {
   "cell_type": "code",
   "execution_count": 7,
   "id": "fe007438",
   "metadata": {
    "execution": {
     "iopub.execute_input": "2022-06-22T14:50:55.204867Z",
     "iopub.status.busy": "2022-06-22T14:50:55.201524Z",
     "iopub.status.idle": "2022-06-22T14:50:55.205984Z",
     "shell.execute_reply": "2022-06-22T14:50:55.206473Z"
    },
    "id": "fe007438",
    "papermill": {
     "duration": 0.036083,
     "end_time": "2022-06-22T14:50:55.206704",
     "exception": false,
     "start_time": "2022-06-22T14:50:55.170621",
     "status": "completed"
    },
    "tags": []
   },
   "outputs": [],
   "source": [
    "#Train test split for dataset \n",
    "X_train,X_test,Y_train,Y_test = train_test_split(X,Y,test_size = 0.2)\n",
    "train_data = dataset.CustomDataset(X_train,Y_train)\n",
    "test_data = dataset.CustomDataset(X_test,Y_test)\n"
   ]
  },
  {
   "cell_type": "markdown",
   "id": "a9a1af34",
   "metadata": {
    "id": "a9a1af34",
    "papermill": {
     "duration": 0.016031,
     "end_time": "2022-06-22T14:50:55.237963",
     "exception": false,
     "start_time": "2022-06-22T14:50:55.221932",
     "status": "completed"
    },
    "tags": []
   },
   "source": [
    "## Training Parameters "
   ]
  },
  {
   "cell_type": "code",
   "execution_count": 8,
   "id": "952b7fc8",
   "metadata": {
    "execution": {
     "iopub.execute_input": "2022-06-22T14:50:55.274149Z",
     "iopub.status.busy": "2022-06-22T14:50:55.273130Z",
     "iopub.status.idle": "2022-06-22T14:50:55.275380Z",
     "shell.execute_reply": "2022-06-22T14:50:55.276032Z"
    },
    "id": "952b7fc8",
    "papermill": {
     "duration": 0.021608,
     "end_time": "2022-06-22T14:50:55.276253",
     "exception": false,
     "start_time": "2022-06-22T14:50:55.254645",
     "status": "completed"
    },
    "tags": []
   },
   "outputs": [],
   "source": [
    "batch_size = 32\n",
    "n_epochs = 1000\n",
    "#Select the device \n",
    "device = torch.device('cuda' if torch.cuda.is_available() else 'cpu')"
   ]
  },
  {
   "cell_type": "markdown",
   "id": "a95e1600",
   "metadata": {
    "id": "a95e1600",
    "papermill": {
     "duration": 0.017837,
     "end_time": "2022-06-22T14:50:55.309414",
     "exception": false,
     "start_time": "2022-06-22T14:50:55.291577",
     "status": "completed"
    },
    "tags": []
   },
   "source": [
    "# ABC Pre-generator Model \n",
    "\n",
    "1. The catboost model is used as a pre-generator model for the ABC-GAN. \n",
    "2. The model is first trained on the entire dataset \n",
    "3. It generats X,Y pairs and we add some Gaussian noise with mean 0 and variance 1 to it which is then feed as input to the generator.\n"
   ]
  },
  {
   "cell_type": "code",
   "execution_count": 9,
   "id": "ff8ce7bd",
   "metadata": {
    "execution": {
     "iopub.execute_input": "2022-06-22T14:50:55.346589Z",
     "iopub.status.busy": "2022-06-22T14:50:55.345722Z",
     "iopub.status.idle": "2022-06-22T14:51:10.490478Z",
     "shell.execute_reply": "2022-06-22T14:51:10.490919Z"
    },
    "id": "ff8ce7bd",
    "papermill": {
     "duration": 15.165222,
     "end_time": "2022-06-22T14:51:10.491120",
     "exception": false,
     "start_time": "2022-06-22T14:50:55.325898",
     "status": "completed"
    },
    "tags": []
   },
   "outputs": [
    {
     "name": "stdout",
     "output_type": "stream",
     "text": [
      "Device used : cpu\n",
      "epoch 0  | loss: 0.78537 | train_mse: 3.37382 | train_mae: 1.46531 |  0:00:00s\n"
     ]
    },
    {
     "name": "stdout",
     "output_type": "stream",
     "text": [
      "epoch 1  | loss: 0.77899 | train_mse: 3.4033  | train_mae: 1.39651 |  0:00:00s\n",
      "epoch 2  | loss: 0.63378 | train_mse: 2.17874 | train_mae: 1.0428  |  0:00:00s\n",
      "epoch 3  | loss: 0.5538  | train_mse: 1.84702 | train_mae: 0.84664 |  0:00:00s\n"
     ]
    },
    {
     "name": "stdout",
     "output_type": "stream",
     "text": [
      "epoch 4  | loss: 0.74558 | train_mse: 2.41837 | train_mae: 0.92127 |  0:00:00s\n",
      "epoch 5  | loss: 0.64371 | train_mse: 1.05823 | train_mae: 0.71286 |  0:00:00s\n",
      "epoch 6  | loss: 0.57586 | train_mse: 0.79181 | train_mae: 0.66989 |  0:00:00s\n",
      "epoch 7  | loss: 0.58182 | train_mse: 0.87061 | train_mae: 0.67107 |  0:00:00s\n"
     ]
    },
    {
     "name": "stdout",
     "output_type": "stream",
     "text": [
      "epoch 8  | loss: 0.53118 | train_mse: 0.96834 | train_mae: 0.68602 |  0:00:00s\n",
      "epoch 9  | loss: 0.54611 | train_mse: 0.95122 | train_mae: 0.69913 |  0:00:00s\n",
      "epoch 10 | loss: 0.39866 | train_mse: 0.90666 | train_mae: 0.70298 |  0:00:00s\n"
     ]
    },
    {
     "name": "stdout",
     "output_type": "stream",
     "text": [
      "epoch 11 | loss: 0.45845 | train_mse: 1.00142 | train_mae: 0.73513 |  0:00:00s\n",
      "epoch 12 | loss: 0.49292 | train_mse: 0.90725 | train_mae: 0.72716 |  0:00:01s\n",
      "epoch 13 | loss: 0.41997 | train_mse: 0.97251 | train_mae: 0.73049 |  0:00:01s\n",
      "epoch 14 | loss: 0.41198 | train_mse: 1.1075  | train_mae: 0.7419  |  0:00:01s\n"
     ]
    },
    {
     "name": "stdout",
     "output_type": "stream",
     "text": [
      "epoch 15 | loss: 0.37564 | train_mse: 0.91352 | train_mae: 0.68121 |  0:00:01s\n",
      "epoch 16 | loss: 0.51367 | train_mse: 0.65    | train_mae: 0.56477 |  0:00:01s\n",
      "epoch 17 | loss: 0.32875 | train_mse: 0.77075 | train_mae: 0.59626 |  0:00:01s\n",
      "epoch 18 | loss: 0.32898 | train_mse: 0.72301 | train_mae: 0.5767  |  0:00:01s\n"
     ]
    },
    {
     "name": "stdout",
     "output_type": "stream",
     "text": [
      "epoch 19 | loss: 0.28985 | train_mse: 0.8223  | train_mae: 0.63434 |  0:00:01s\n",
      "epoch 20 | loss: 0.43004 | train_mse: 0.8575  | train_mae: 0.67776 |  0:00:01s\n",
      "epoch 21 | loss: 0.38435 | train_mse: 0.73437 | train_mae: 0.6176  |  0:00:01s\n",
      "epoch 22 | loss: 0.45436 | train_mse: 0.54291 | train_mae: 0.52661 |  0:00:01s\n"
     ]
    },
    {
     "name": "stdout",
     "output_type": "stream",
     "text": [
      "epoch 23 | loss: 0.31509 | train_mse: 0.54153 | train_mae: 0.51697 |  0:00:01s\n",
      "epoch 24 | loss: 0.29807 | train_mse: 0.50854 | train_mae: 0.50068 |  0:00:01s\n",
      "epoch 25 | loss: 0.23868 | train_mse: 0.46663 | train_mae: 0.47934 |  0:00:01s\n"
     ]
    },
    {
     "name": "stdout",
     "output_type": "stream",
     "text": [
      "epoch 26 | loss: 0.28681 | train_mse: 0.46453 | train_mae: 0.47061 |  0:00:01s\n",
      "epoch 27 | loss: 0.25694 | train_mse: 0.37427 | train_mae: 0.43652 |  0:00:02s\n",
      "epoch 28 | loss: 0.25809 | train_mse: 0.35228 | train_mae: 0.41448 |  0:00:02s\n"
     ]
    },
    {
     "name": "stdout",
     "output_type": "stream",
     "text": [
      "epoch 29 | loss: 0.33008 | train_mse: 0.31204 | train_mae: 0.39095 |  0:00:02s\n",
      "epoch 30 | loss: 0.26666 | train_mse: 0.37161 | train_mae: 0.4208  |  0:00:02s\n",
      "epoch 31 | loss: 0.24756 | train_mse: 0.33615 | train_mae: 0.40161 |  0:00:02s\n",
      "epoch 32 | loss: 0.19698 | train_mse: 0.29757 | train_mae: 0.39757 |  0:00:02s\n"
     ]
    },
    {
     "name": "stdout",
     "output_type": "stream",
     "text": [
      "epoch 33 | loss: 0.2142  | train_mse: 0.34439 | train_mae: 0.42154 |  0:00:02s\n",
      "epoch 34 | loss: 0.21287 | train_mse: 0.33406 | train_mae: 0.39163 |  0:00:02s\n",
      "epoch 35 | loss: 0.23552 | train_mse: 0.44155 | train_mae: 0.41204 |  0:00:02s\n",
      "epoch 36 | loss: 0.23269 | train_mse: 0.53829 | train_mae: 0.44497 |  0:00:02s\n"
     ]
    },
    {
     "name": "stdout",
     "output_type": "stream",
     "text": [
      "epoch 37 | loss: 0.19313 | train_mse: 0.36874 | train_mae: 0.37894 |  0:00:02s\n",
      "epoch 38 | loss: 0.33466 | train_mse: 0.33323 | train_mae: 0.38231 |  0:00:02s\n",
      "epoch 39 | loss: 0.20294 | train_mse: 0.16065 | train_mae: 0.29592 |  0:00:02s\n"
     ]
    },
    {
     "name": "stdout",
     "output_type": "stream",
     "text": [
      "epoch 40 | loss: 0.259   | train_mse: 0.1232  | train_mae: 0.27396 |  0:00:02s\n",
      "epoch 41 | loss: 0.24869 | train_mse: 0.21112 | train_mae: 0.3332  |  0:00:02s\n",
      "epoch 42 | loss: 0.16815 | train_mse: 0.2494  | train_mae: 0.34145 |  0:00:03s\n",
      "epoch 43 | loss: 0.29123 | train_mse: 0.18115 | train_mae: 0.31139 |  0:00:03s\n"
     ]
    },
    {
     "name": "stdout",
     "output_type": "stream",
     "text": [
      "epoch 44 | loss: 0.24812 | train_mse: 0.11859 | train_mae: 0.26633 |  0:00:03s\n",
      "epoch 45 | loss: 0.22632 | train_mse: 0.11986 | train_mae: 0.26578 |  0:00:03s\n",
      "epoch 46 | loss: 0.16414 | train_mse: 0.16841 | train_mae: 0.3148  |  0:00:03s\n"
     ]
    },
    {
     "name": "stdout",
     "output_type": "stream",
     "text": [
      "epoch 47 | loss: 0.25529 | train_mse: 0.24866 | train_mae: 0.35999 |  0:00:03s\n",
      "epoch 48 | loss: 0.17117 | train_mse: 0.32368 | train_mae: 0.36243 |  0:00:03s\n",
      "epoch 49 | loss: 0.15006 | train_mse: 0.27387 | train_mae: 0.3375  |  0:00:03s\n"
     ]
    },
    {
     "name": "stdout",
     "output_type": "stream",
     "text": [
      "epoch 50 | loss: 0.19543 | train_mse: 0.20323 | train_mae: 0.31199 |  0:00:03s\n",
      "epoch 51 | loss: 0.12837 | train_mse: 0.18213 | train_mae: 0.30715 |  0:00:03s\n",
      "epoch 52 | loss: 0.23131 | train_mse: 0.17151 | train_mae: 0.30782 |  0:00:03s\n"
     ]
    },
    {
     "name": "stdout",
     "output_type": "stream",
     "text": [
      "epoch 53 | loss: 0.15179 | train_mse: 0.14081 | train_mae: 0.29041 |  0:00:03s\n",
      "epoch 54 | loss: 0.11623 | train_mse: 0.10995 | train_mae: 0.2677  |  0:00:03s\n",
      "epoch 55 | loss: 0.33263 | train_mse: 0.11406 | train_mae: 0.27091 |  0:00:04s\n"
     ]
    },
    {
     "name": "stdout",
     "output_type": "stream",
     "text": [
      "epoch 56 | loss: 0.17269 | train_mse: 0.11266 | train_mae: 0.25434 |  0:00:04s\n",
      "epoch 57 | loss: 0.14422 | train_mse: 0.10918 | train_mae: 0.25367 |  0:00:04s\n",
      "epoch 58 | loss: 0.18686 | train_mse: 0.15607 | train_mae: 0.29355 |  0:00:04s\n"
     ]
    },
    {
     "name": "stdout",
     "output_type": "stream",
     "text": [
      "epoch 59 | loss: 0.18475 | train_mse: 0.15019 | train_mae: 0.29923 |  0:00:04s\n",
      "epoch 60 | loss: 0.14312 | train_mse: 0.15434 | train_mae: 0.30514 |  0:00:04s\n",
      "epoch 61 | loss: 0.24921 | train_mse: 0.16709 | train_mae: 0.31675 |  0:00:04s\n"
     ]
    },
    {
     "name": "stdout",
     "output_type": "stream",
     "text": [
      "epoch 62 | loss: 0.25226 | train_mse: 0.14837 | train_mae: 0.30122 |  0:00:04s\n",
      "epoch 63 | loss: 0.21623 | train_mse: 0.12453 | train_mae: 0.27288 |  0:00:04s\n"
     ]
    },
    {
     "name": "stdout",
     "output_type": "stream",
     "text": [
      "epoch 64 | loss: 0.31069 | train_mse: 0.10831 | train_mae: 0.25748 |  0:00:04s\n"
     ]
    },
    {
     "name": "stdout",
     "output_type": "stream",
     "text": [
      "epoch 65 | loss: 0.18165 | train_mse: 0.13561 | train_mae: 0.27378 |  0:00:05s\n",
      "epoch 66 | loss: 0.2162  | train_mse: 0.09773 | train_mae: 0.24507 |  0:00:05s\n",
      "epoch 67 | loss: 0.1437  | train_mse: 0.09119 | train_mae: 0.24486 |  0:00:05s\n"
     ]
    },
    {
     "name": "stdout",
     "output_type": "stream",
     "text": [
      "epoch 68 | loss: 0.11218 | train_mse: 0.09559 | train_mae: 0.24672 |  0:00:05s\n",
      "epoch 69 | loss: 0.14371 | train_mse: 0.10942 | train_mae: 0.25915 |  0:00:05s\n",
      "epoch 70 | loss: 0.23486 | train_mse: 0.09859 | train_mae: 0.2502  |  0:00:05s\n",
      "epoch 71 | loss: 0.16294 | train_mse: 0.08468 | train_mae: 0.23044 |  0:00:05s\n"
     ]
    },
    {
     "name": "stdout",
     "output_type": "stream",
     "text": [
      "epoch 72 | loss: 0.13536 | train_mse: 0.10718 | train_mae: 0.2526  |  0:00:05s\n",
      "epoch 73 | loss: 0.10651 | train_mse: 0.13627 | train_mae: 0.27724 |  0:00:05s\n",
      "epoch 74 | loss: 0.25803 | train_mse: 0.1246  | train_mae: 0.27509 |  0:00:05s\n"
     ]
    },
    {
     "name": "stdout",
     "output_type": "stream",
     "text": [
      "epoch 75 | loss: 0.09795 | train_mse: 0.10789 | train_mae: 0.25406 |  0:00:05s\n",
      "epoch 76 | loss: 0.24974 | train_mse: 0.11785 | train_mae: 0.27045 |  0:00:05s\n",
      "epoch 77 | loss: 0.24529 | train_mse: 0.10755 | train_mae: 0.26728 |  0:00:05s\n",
      "epoch 78 | loss: 0.12436 | train_mse: 0.10812 | train_mae: 0.26967 |  0:00:06s\n"
     ]
    },
    {
     "name": "stdout",
     "output_type": "stream",
     "text": [
      "epoch 79 | loss: 0.1129  | train_mse: 0.12675 | train_mae: 0.28333 |  0:00:06s\n",
      "epoch 80 | loss: 0.28878 | train_mse: 0.14184 | train_mae: 0.29751 |  0:00:06s\n"
     ]
    },
    {
     "name": "stdout",
     "output_type": "stream",
     "text": [
      "epoch 81 | loss: 0.11279 | train_mse: 0.09357 | train_mae: 0.24849 |  0:00:06s\n",
      "epoch 82 | loss: 0.15942 | train_mse: 0.07709 | train_mae: 0.22042 |  0:00:06s\n",
      "epoch 83 | loss: 0.16697 | train_mse: 0.08702 | train_mae: 0.23096 |  0:00:06s\n",
      "epoch 84 | loss: 0.15159 | train_mse: 0.08963 | train_mae: 0.22612 |  0:00:06s\n"
     ]
    },
    {
     "name": "stdout",
     "output_type": "stream",
     "text": [
      "epoch 85 | loss: 0.13148 | train_mse: 0.11588 | train_mae: 0.25417 |  0:00:06s\n",
      "epoch 86 | loss: 0.1156  | train_mse: 0.10329 | train_mae: 0.23376 |  0:00:06s\n",
      "epoch 87 | loss: 0.15167 | train_mse: 0.08876 | train_mae: 0.22176 |  0:00:06s\n",
      "epoch 88 | loss: 0.12763 | train_mse: 0.07949 | train_mae: 0.21995 |  0:00:06s\n"
     ]
    },
    {
     "name": "stdout",
     "output_type": "stream",
     "text": [
      "epoch 89 | loss: 0.17434 | train_mse: 0.07693 | train_mae: 0.22475 |  0:00:06s\n",
      "epoch 90 | loss: 0.19427 | train_mse: 0.08069 | train_mae: 0.226   |  0:00:06s\n",
      "epoch 91 | loss: 0.11399 | train_mse: 0.09966 | train_mae: 0.23888 |  0:00:06s\n"
     ]
    },
    {
     "name": "stdout",
     "output_type": "stream",
     "text": [
      "epoch 92 | loss: 0.14485 | train_mse: 0.09675 | train_mae: 0.23981 |  0:00:07s\n",
      "epoch 93 | loss: 0.13783 | train_mse: 0.08526 | train_mae: 0.23245 |  0:00:07s\n",
      "epoch 94 | loss: 0.12339 | train_mse: 0.09265 | train_mae: 0.24042 |  0:00:07s\n",
      "epoch 95 | loss: 0.12904 | train_mse: 0.09595 | train_mae: 0.23979 |  0:00:07s\n"
     ]
    },
    {
     "name": "stdout",
     "output_type": "stream",
     "text": [
      "epoch 96 | loss: 0.08626 | train_mse: 0.08742 | train_mae: 0.23308 |  0:00:07s\n",
      "epoch 97 | loss: 0.14032 | train_mse: 0.08503 | train_mae: 0.23677 |  0:00:07s\n",
      "epoch 98 | loss: 0.32442 | train_mse: 0.09801 | train_mae: 0.25775 |  0:00:07s\n",
      "epoch 99 | loss: 0.18448 | train_mse: 0.13324 | train_mae: 0.29015 |  0:00:07s\n"
     ]
    },
    {
     "name": "stdout",
     "output_type": "stream",
     "text": [
      "epoch 100| loss: 0.1196  | train_mse: 0.12009 | train_mae: 0.28117 |  0:00:07s\n",
      "epoch 101| loss: 0.16217 | train_mse: 0.0917  | train_mae: 0.25087 |  0:00:07s\n",
      "epoch 102| loss: 0.079   | train_mse: 0.08068 | train_mae: 0.24058 |  0:00:07s\n",
      "epoch 103| loss: 0.21838 | train_mse: 0.07678 | train_mae: 0.22778 |  0:00:07s\n"
     ]
    },
    {
     "name": "stdout",
     "output_type": "stream",
     "text": [
      "epoch 104| loss: 0.15589 | train_mse: 0.07134 | train_mae: 0.22055 |  0:00:07s\n",
      "epoch 105| loss: 0.15899 | train_mse: 0.07156 | train_mae: 0.21672 |  0:00:07s\n",
      "epoch 106| loss: 0.17116 | train_mse: 0.07595 | train_mae: 0.21801 |  0:00:07s\n"
     ]
    },
    {
     "name": "stdout",
     "output_type": "stream",
     "text": [
      "epoch 107| loss: 0.11072 | train_mse: 0.07273 | train_mae: 0.20849 |  0:00:08s\n",
      "epoch 108| loss: 0.19165 | train_mse: 0.08524 | train_mae: 0.22244 |  0:00:08s\n",
      "epoch 109| loss: 0.16996 | train_mse: 0.11148 | train_mae: 0.2461  |  0:00:08s\n",
      "epoch 110| loss: 0.14713 | train_mse: 0.11468 | train_mae: 0.26761 |  0:00:08s\n"
     ]
    },
    {
     "name": "stdout",
     "output_type": "stream",
     "text": [
      "epoch 111| loss: 0.13419 | train_mse: 0.08054 | train_mae: 0.22692 |  0:00:08s\n",
      "epoch 112| loss: 0.17991 | train_mse: 0.08515 | train_mae: 0.22814 |  0:00:08s\n",
      "epoch 113| loss: 0.11464 | train_mse: 0.08316 | train_mae: 0.23138 |  0:00:08s\n",
      "epoch 114| loss: 0.10278 | train_mse: 0.08232 | train_mae: 0.22665 |  0:00:08s\n"
     ]
    },
    {
     "name": "stdout",
     "output_type": "stream",
     "text": [
      "epoch 115| loss: 0.10664 | train_mse: 0.0911  | train_mae: 0.23491 |  0:00:08s\n",
      "epoch 116| loss: 0.08288 | train_mse: 0.08701 | train_mae: 0.22339 |  0:00:08s\n",
      "epoch 117| loss: 0.18836 | train_mse: 0.07803 | train_mae: 0.22219 |  0:00:08s\n",
      "epoch 118| loss: 0.1544  | train_mse: 0.08334 | train_mae: 0.23467 |  0:00:08s\n"
     ]
    },
    {
     "name": "stdout",
     "output_type": "stream",
     "text": [
      "epoch 119| loss: 0.16325 | train_mse: 0.07394 | train_mae: 0.22073 |  0:00:08s\n",
      "epoch 120| loss: 0.17601 | train_mse: 0.07361 | train_mae: 0.21403 |  0:00:08s\n",
      "epoch 121| loss: 0.13268 | train_mse: 0.08966 | train_mae: 0.22713 |  0:00:08s\n",
      "epoch 122| loss: 0.14871 | train_mse: 0.09346 | train_mae: 0.22506 |  0:00:09s\n"
     ]
    },
    {
     "name": "stdout",
     "output_type": "stream",
     "text": [
      "epoch 123| loss: 0.13274 | train_mse: 0.09004 | train_mae: 0.22255 |  0:00:09s\n",
      "epoch 124| loss: 0.22661 | train_mse: 0.08398 | train_mae: 0.21855 |  0:00:09s\n",
      "epoch 125| loss: 0.15981 | train_mse: 0.10141 | train_mae: 0.23869 |  0:00:09s\n",
      "epoch 126| loss: 0.21039 | train_mse: 0.12065 | train_mae: 0.25437 |  0:00:09s\n"
     ]
    },
    {
     "name": "stdout",
     "output_type": "stream",
     "text": [
      "epoch 127| loss: 0.11307 | train_mse: 0.09222 | train_mae: 0.2264  |  0:00:09s\n",
      "epoch 128| loss: 0.11391 | train_mse: 0.07576 | train_mae: 0.2251  |  0:00:09s\n",
      "epoch 129| loss: 0.25194 | train_mse: 0.09285 | train_mae: 0.24586 |  0:00:09s\n"
     ]
    },
    {
     "name": "stdout",
     "output_type": "stream",
     "text": [
      "epoch 130| loss: 0.10782 | train_mse: 0.07094 | train_mae: 0.21982 |  0:00:09s\n",
      "epoch 131| loss: 0.17772 | train_mse: 0.09156 | train_mae: 0.24315 |  0:00:09s\n",
      "epoch 132| loss: 0.13759 | train_mse: 0.06996 | train_mae: 0.21449 |  0:00:09s\n",
      "epoch 133| loss: 0.1661  | train_mse: 0.06058 | train_mae: 0.20101 |  0:00:09s\n"
     ]
    },
    {
     "name": "stdout",
     "output_type": "stream",
     "text": [
      "epoch 134| loss: 0.19707 | train_mse: 0.06701 | train_mae: 0.2039  |  0:00:09s\n",
      "epoch 135| loss: 0.2502  | train_mse: 0.08113 | train_mae: 0.22567 |  0:00:09s\n",
      "epoch 136| loss: 0.11379 | train_mse: 0.06525 | train_mae: 0.199   |  0:00:10s\n"
     ]
    },
    {
     "name": "stdout",
     "output_type": "stream",
     "text": [
      "epoch 137| loss: 0.19304 | train_mse: 0.07935 | train_mae: 0.21835 |  0:00:10s\n",
      "epoch 138| loss: 0.09971 | train_mse: 0.09133 | train_mae: 0.23867 |  0:00:10s\n",
      "epoch 139| loss: 0.13492 | train_mse: 0.07579 | train_mae: 0.21479 |  0:00:10s\n"
     ]
    },
    {
     "name": "stdout",
     "output_type": "stream",
     "text": [
      "epoch 140| loss: 0.14349 | train_mse: 0.07695 | train_mae: 0.21514 |  0:00:10s\n",
      "epoch 141| loss: 0.12268 | train_mse: 0.09892 | train_mae: 0.24515 |  0:00:10s\n",
      "epoch 142| loss: 0.30722 | train_mse: 0.19414 | train_mae: 0.31333 |  0:00:10s\n",
      "epoch 143| loss: 0.27721 | train_mse: 0.23861 | train_mae: 0.34805 |  0:00:10s\n"
     ]
    },
    {
     "name": "stdout",
     "output_type": "stream",
     "text": [
      "epoch 144| loss: 0.17402 | train_mse: 0.09792 | train_mae: 0.2505  |  0:00:10s\n",
      "epoch 145| loss: 0.10722 | train_mse: 0.07139 | train_mae: 0.20512 |  0:00:10s\n",
      "epoch 146| loss: 0.12379 | train_mse: 0.07446 | train_mae: 0.20448 |  0:00:10s\n"
     ]
    },
    {
     "name": "stdout",
     "output_type": "stream",
     "text": [
      "epoch 147| loss: 0.1156  | train_mse: 0.07123 | train_mae: 0.20012 |  0:00:10s\n",
      "epoch 148| loss: 0.15094 | train_mse: 0.06707 | train_mae: 0.19552 |  0:00:10s\n",
      "epoch 149| loss: 0.17253 | train_mse: 0.07652 | train_mae: 0.20311 |  0:00:10s\n"
     ]
    },
    {
     "name": "stdout",
     "output_type": "stream",
     "text": [
      "epoch 150| loss: 0.09152 | train_mse: 0.08412 | train_mae: 0.21559 |  0:00:10s\n",
      "epoch 151| loss: 0.12384 | train_mse: 0.11502 | train_mae: 0.24422 |  0:00:11s\n",
      "epoch 152| loss: 0.16795 | train_mse: 0.12199 | train_mae: 0.24827 |  0:00:11s\n",
      "epoch 153| loss: 0.05538 | train_mse: 0.09628 | train_mae: 0.22352 |  0:00:11s\n"
     ]
    },
    {
     "name": "stdout",
     "output_type": "stream",
     "text": [
      "epoch 154| loss: 0.0759  | train_mse: 0.08055 | train_mae: 0.20113 |  0:00:11s\n",
      "epoch 155| loss: 0.07921 | train_mse: 0.07959 | train_mae: 0.18992 |  0:00:11s\n",
      "epoch 156| loss: 0.12116 | train_mse: 0.07704 | train_mae: 0.18906 |  0:00:11s\n"
     ]
    },
    {
     "name": "stdout",
     "output_type": "stream",
     "text": [
      "epoch 157| loss: 0.0821  | train_mse: 0.06446 | train_mae: 0.18511 |  0:00:11s\n",
      "epoch 158| loss: 0.10473 | train_mse: 0.05751 | train_mae: 0.17763 |  0:00:11s\n",
      "epoch 159| loss: 0.17336 | train_mse: 0.05101 | train_mae: 0.16522 |  0:00:11s\n"
     ]
    },
    {
     "name": "stdout",
     "output_type": "stream",
     "text": [
      "epoch 160| loss: 0.11854 | train_mse: 0.05129 | train_mae: 0.16513 |  0:00:11s\n",
      "epoch 161| loss: 0.15059 | train_mse: 0.05665 | train_mae: 0.17885 |  0:00:11s\n",
      "epoch 162| loss: 0.09536 | train_mse: 0.05657 | train_mae: 0.1831  |  0:00:11s\n"
     ]
    },
    {
     "name": "stdout",
     "output_type": "stream",
     "text": [
      "epoch 163| loss: 0.09732 | train_mse: 0.06755 | train_mae: 0.18923 |  0:00:11s\n",
      "epoch 164| loss: 0.10753 | train_mse: 0.06941 | train_mae: 0.19331 |  0:00:12s\n",
      "epoch 165| loss: 0.1073  | train_mse: 0.06638 | train_mae: 0.20232 |  0:00:12s\n",
      "epoch 166| loss: 0.24501 | train_mse: 0.07348 | train_mae: 0.21962 |  0:00:12s\n"
     ]
    },
    {
     "name": "stdout",
     "output_type": "stream",
     "text": [
      "epoch 167| loss: 0.17745 | train_mse: 0.11318 | train_mae: 0.24468 |  0:00:12s\n",
      "epoch 168| loss: 0.18734 | train_mse: 0.12537 | train_mae: 0.24422 |  0:00:12s\n",
      "epoch 169| loss: 0.19939 | train_mse: 0.11406 | train_mae: 0.23398 |  0:00:12s\n",
      "epoch 170| loss: 0.08935 | train_mse: 0.0831  | train_mae: 0.21588 |  0:00:12s\n"
     ]
    },
    {
     "name": "stdout",
     "output_type": "stream",
     "text": [
      "epoch 171| loss: 0.15631 | train_mse: 0.07686 | train_mae: 0.21014 |  0:00:12s\n",
      "epoch 172| loss: 0.10317 | train_mse: 0.07711 | train_mae: 0.20367 |  0:00:12s\n",
      "epoch 173| loss: 0.14674 | train_mse: 0.08064 | train_mae: 0.20871 |  0:00:12s\n",
      "epoch 174| loss: 0.09394 | train_mse: 0.08988 | train_mae: 0.21694 |  0:00:12s\n"
     ]
    },
    {
     "name": "stdout",
     "output_type": "stream",
     "text": [
      "epoch 175| loss: 0.08458 | train_mse: 0.07789 | train_mae: 0.20315 |  0:00:12s\n",
      "epoch 176| loss: 0.15875 | train_mse: 0.09112 | train_mae: 0.21165 |  0:00:12s\n",
      "epoch 177| loss: 0.12876 | train_mse: 0.10609 | train_mae: 0.22085 |  0:00:12s\n"
     ]
    },
    {
     "name": "stdout",
     "output_type": "stream",
     "text": [
      "epoch 178| loss: 0.07182 | train_mse: 0.10948 | train_mae: 0.22611 |  0:00:12s\n",
      "epoch 179| loss: 0.11717 | train_mse: 0.11077 | train_mae: 0.22637 |  0:00:13s\n",
      "epoch 180| loss: 0.1538  | train_mse: 0.09987 | train_mae: 0.22175 |  0:00:13s\n",
      "epoch 181| loss: 0.07936 | train_mse: 0.09254 | train_mae: 0.21959 |  0:00:13s\n"
     ]
    },
    {
     "name": "stdout",
     "output_type": "stream",
     "text": [
      "epoch 182| loss: 0.09738 | train_mse: 0.09026 | train_mae: 0.21876 |  0:00:13s\n",
      "epoch 183| loss: 0.09068 | train_mse: 0.08469 | train_mae: 0.21719 |  0:00:13s\n",
      "epoch 184| loss: 0.08985 | train_mse: 0.09333 | train_mae: 0.23364 |  0:00:13s\n"
     ]
    },
    {
     "name": "stdout",
     "output_type": "stream",
     "text": [
      "epoch 185| loss: 0.10979 | train_mse: 0.11005 | train_mae: 0.24606 |  0:00:13s\n",
      "epoch 186| loss: 0.07325 | train_mse: 0.10634 | train_mae: 0.23878 |  0:00:13s\n",
      "epoch 187| loss: 0.21778 | train_mse: 0.1033  | train_mae: 0.23497 |  0:00:13s\n",
      "epoch 188| loss: 0.08145 | train_mse: 0.09281 | train_mae: 0.22013 |  0:00:13s\n"
     ]
    },
    {
     "name": "stdout",
     "output_type": "stream",
     "text": [
      "epoch 189| loss: 0.11926 | train_mse: 0.0784  | train_mae: 0.20082 |  0:00:13s\n",
      "epoch 190| loss: 0.12753 | train_mse: 0.06333 | train_mae: 0.18521 |  0:00:13s\n",
      "epoch 191| loss: 0.09371 | train_mse: 0.0573  | train_mae: 0.18304 |  0:00:13s\n"
     ]
    },
    {
     "name": "stdout",
     "output_type": "stream",
     "text": [
      "epoch 192| loss: 0.08365 | train_mse: 0.06075 | train_mae: 0.18598 |  0:00:13s\n",
      "epoch 193| loss: 0.08948 | train_mse: 0.056   | train_mae: 0.17834 |  0:00:13s\n",
      "epoch 194| loss: 0.13789 | train_mse: 0.05525 | train_mae: 0.18071 |  0:00:14s\n",
      "epoch 195| loss: 0.07579 | train_mse: 0.04917 | train_mae: 0.17843 |  0:00:14s\n"
     ]
    },
    {
     "name": "stdout",
     "output_type": "stream",
     "text": [
      "epoch 196| loss: 0.09432 | train_mse: 0.0495  | train_mae: 0.1745  |  0:00:14s\n",
      "epoch 197| loss: 0.13566 | train_mse: 0.09882 | train_mae: 0.23344 |  0:00:14s\n",
      "epoch 198| loss: 0.11203 | train_mse: 0.11867 | train_mae: 0.24103 |  0:00:14s\n",
      "epoch 199| loss: 0.10249 | train_mse: 0.11767 | train_mae: 0.23259 |  0:00:14s\n"
     ]
    },
    {
     "name": "stdout",
     "output_type": "stream",
     "text": [
      "epoch 200| loss: 0.1102  | train_mse: 0.11303 | train_mae: 0.23778 |  0:00:14s\n",
      "epoch 201| loss: 0.1126  | train_mse: 0.08823 | train_mae: 0.21665 |  0:00:14s\n",
      "epoch 202| loss: 0.12643 | train_mse: 0.07747 | train_mae: 0.21688 |  0:00:14s\n",
      "epoch 203| loss: 0.10412 | train_mse: 0.06558 | train_mae: 0.2032  |  0:00:14s\n"
     ]
    },
    {
     "name": "stdout",
     "output_type": "stream",
     "text": [
      "epoch 204| loss: 0.12316 | train_mse: 0.05265 | train_mae: 0.18365 |  0:00:14s\n",
      "epoch 205| loss: 0.08431 | train_mse: 0.06212 | train_mae: 0.19192 |  0:00:14s\n",
      "epoch 206| loss: 0.08589 | train_mse: 0.07942 | train_mae: 0.21267 |  0:00:14s\n",
      "epoch 207| loss: 0.14993 | train_mse: 0.07911 | train_mae: 0.21129 |  0:00:14s\n"
     ]
    },
    {
     "name": "stdout",
     "output_type": "stream",
     "text": [
      "epoch 208| loss: 0.13611 | train_mse: 0.06931 | train_mae: 0.19799 |  0:00:14s\n",
      "epoch 209| loss: 0.1151  | train_mse: 0.07483 | train_mae: 0.21251 |  0:00:15s\n",
      "epoch 210| loss: 0.20554 | train_mse: 0.07237 | train_mae: 0.21454 |  0:00:15s\n",
      "\n",
      "Early stopping occurred at epoch 210 with best_epoch = 160 and best_train_mae = 0.16513\n",
      "Best weights from best epoch are automatically used!\n"
     ]
    }
   ],
   "source": [
    "#Train the Model\n",
    "\n",
    "Y_train = np.reshape(Y_train, (-1, 1))\n",
    "Y_test = np.reshape(Y_test, (-1, 1))\n",
    "\n",
    "prior_model = TabNetRegressor(optimizer_fn=torch.optim.Adam, optimizer_params=dict(lr = 0.02),\n",
    "          #scheduler_params={\"step_size\":10, ], \"gamma\":0.9},\n",
    "          #scheduler_fn=torch.optim.lr_scheduler.StepLR\n",
    "          )  #TabNetRegressor()\n",
    "\n",
    "prior_model.fit(X_train,Y_train,eval_set=[(X_train, Y_train)],\n",
    "            eval_name=['train'], \n",
    "            eval_metric=[ 'mse', 'mae'], \n",
    "            max_epochs = n_epochs, \n",
    "            batch_size = batch_size,\n",
    "            patience=50\n",
    "            )"
   ]
  },
  {
   "cell_type": "code",
   "execution_count": 10,
   "id": "af65dcda",
   "metadata": {
    "execution": {
     "iopub.execute_input": "2022-06-22T14:51:10.564703Z",
     "iopub.status.busy": "2022-06-22T14:51:10.562635Z",
     "iopub.status.idle": "2022-06-22T14:51:10.592464Z",
     "shell.execute_reply": "2022-06-22T14:51:10.593128Z"
    },
    "id": "af65dcda",
    "papermill": {
     "duration": 0.073627,
     "end_time": "2022-06-22T14:51:10.593369",
     "exception": false,
     "start_time": "2022-06-22T14:51:10.519742",
     "status": "completed"
    },
    "tags": []
   },
   "outputs": [
    {
     "data": {
      "application/scrapbook.scrap.json+json": {
       "data": 0.19696915252702493,
       "encoder": "json",
       "name": "Prior Model MSE",
       "version": 1
      }
     },
     "metadata": {
      "scrapbook": {
       "data": true,
       "display": false,
       "name": "Prior Model MSE"
      }
     },
     "output_type": "display_data"
    },
    {
     "data": {
      "application/scrapbook.scrap.json+json": {
       "data": 1.0134961769106632,
       "encoder": "json",
       "name": "ABC Pre-generator MSE",
       "version": 1
      }
     },
     "metadata": {
      "scrapbook": {
       "data": true,
       "display": false,
       "name": "ABC Pre-generator MSE"
      }
     },
     "output_type": "display_data"
    },
    {
     "data": {
      "application/scrapbook.scrap.json+json": {
       "data": 0.3989103425452159,
       "encoder": "json",
       "name": "Prior Model MSE",
       "version": 1
      }
     },
     "metadata": {
      "scrapbook": {
       "data": true,
       "display": false,
       "name": "Prior Model MSE"
      }
     },
     "output_type": "display_data"
    },
    {
     "data": {
      "application/scrapbook.scrap.json+json": {
       "data": 0.907629352532323,
       "encoder": "json",
       "name": "ABC Pre-generator MSE",
       "version": 1
      }
     },
     "metadata": {
      "scrapbook": {
       "data": true,
       "display": false,
       "name": "ABC Pre-generator MSE"
      }
     },
     "output_type": "display_data"
    }
   ],
   "source": [
    "y_pred = prior_model.predict(X_test)\n",
    "y_abc = y_pred + np.random.normal(0,variance, y_pred.shape) + bias \n",
    "mse = mean_squared_error(y_pred,Y_test)\n",
    "sb.glue(\"Prior Model MSE\",mse)\n",
    "mse = mean_squared_error(y_abc,Y_test)\n",
    "sb.glue(\"ABC Pre-generator MSE\",mse)\n",
    "mae = mean_absolute_error(y_pred,Y_test)\n",
    "sb.glue(\"Prior Model MSE\",mae)\n",
    "mae = mean_absolute_error(y_abc,Y_test)\n",
    "sb.glue(\"ABC Pre-generator MSE\",mae)"
   ]
  },
  {
   "cell_type": "markdown",
   "id": "25609da2",
   "metadata": {
    "papermill": {
     "duration": 0.037128,
     "end_time": "2022-06-22T14:51:10.664246",
     "exception": false,
     "start_time": "2022-06-22T14:51:10.627118",
     "status": "completed"
    },
    "tags": []
   },
   "source": [
    "# ABC GAN Model"
   ]
  },
  {
   "cell_type": "code",
   "execution_count": 11,
   "id": "dfc3464d",
   "metadata": {
    "execution": {
     "iopub.execute_input": "2022-06-22T14:51:10.736806Z",
     "iopub.status.busy": "2022-06-22T14:51:10.735821Z",
     "iopub.status.idle": "2022-06-22T14:51:10.738093Z",
     "shell.execute_reply": "2022-06-22T14:51:10.738691Z"
    },
    "papermill": {
     "duration": 0.042636,
     "end_time": "2022-06-22T14:51:10.738905",
     "exception": false,
     "start_time": "2022-06-22T14:51:10.696269",
     "status": "completed"
    },
    "tags": []
   },
   "outputs": [],
   "source": [
    "gen = network.Generator(n_features+1).to(device)\n",
    "disc = network.Discriminator(n_features+1).to(device)\n",
    "\n",
    "criterion = torch.nn.BCELoss()\n",
    "gen_opt = torch.optim.Adam(gen.parameters(), lr=0.001, betas=(0.5, 0.999))\n",
    "disc_opt = torch.optim.Adam(disc.parameters(), lr=0.001, betas=(0.5, 0.999))"
   ]
  },
  {
   "cell_type": "code",
   "execution_count": 12,
   "id": "b75fdd85",
   "metadata": {
    "execution": {
     "iopub.execute_input": "2022-06-22T14:51:10.836226Z",
     "iopub.status.busy": "2022-06-22T14:51:10.832134Z",
     "iopub.status.idle": "2022-06-22T14:51:56.332669Z",
     "shell.execute_reply": "2022-06-22T14:51:56.333497Z"
    },
    "papermill": {
     "duration": 45.548203,
     "end_time": "2022-06-22T14:51:56.333911",
     "exception": false,
     "start_time": "2022-06-22T14:51:10.785708",
     "status": "completed"
    },
    "tags": []
   },
   "outputs": [
    {
     "data": {
      "image/png": "[encoded data removed]",
      "text/plain": [
       "<Figure size 432x288 with 1 Axes>"
      ]
     },
     "metadata": {
      "needs_background": "light"
     },
     "output_type": "display_data"
    },
    {
     "data": {
      "image/png": "[encoded data removed]",
      "text/plain": [
       "<Figure size 432x288 with 1 Axes>"
      ]
     },
     "metadata": {
      "needs_background": "light"
     },
     "output_type": "display_data"
    }
   ],
   "source": [
    "#Training the ABC_GAN \n",
    "ABC_train_test2.training_GAN(disc,gen,disc_opt,gen_opt,train_data,batch_size,n_epochs,criterion,prior_model,variance,bias,device)"
   ]
  },
  {
   "cell_type": "code",
   "execution_count": 13,
   "id": "1fa7c368",
   "metadata": {
    "execution": {
     "iopub.execute_input": "2022-06-22T14:51:56.436167Z",
     "iopub.status.busy": "2022-06-22T14:51:56.434992Z",
     "iopub.status.idle": "2022-06-22T14:51:57.141189Z",
     "shell.execute_reply": "2022-06-22T14:51:57.141714Z"
    },
    "papermill": {
     "duration": 0.769978,
     "end_time": "2022-06-22T14:51:57.141960",
     "exception": false,
     "start_time": "2022-06-22T14:51:56.371982",
     "status": "completed"
    },
    "tags": []
   },
   "outputs": [
    {
     "data": {
      "application/scrapbook.scrap.json+json": {
       "data": 0.3509901259542944,
       "encoder": "json",
       "name": "ABC-GAN Model 1 MSE",
       "version": 1
      }
     },
     "metadata": {
      "scrapbook": {
       "data": true,
       "display": false,
       "name": "ABC-GAN Model 1 MSE"
      }
     },
     "output_type": "display_data"
    },
    {
     "data": {
      "application/scrapbook.scrap.json+json": {
       "data": 0.4957068192213774,
       "encoder": "json",
       "name": "ABC-GAN Model 1 MAE",
       "version": 1
      }
     },
     "metadata": {
      "scrapbook": {
       "data": true,
       "display": false,
       "name": "ABC-GAN Model 1 MAE"
      }
     },
     "output_type": "display_data"
    },
    {
     "data": {
      "application/scrapbook.scrap.json+json": {
       "data": 9.914136384427547,
       "encoder": "json",
       "name": "ABC-GAN Model 1 Manhattan Distance",
       "version": 1
      }
     },
     "metadata": {
      "scrapbook": {
       "data": true,
       "display": false,
       "name": "ABC-GAN Model 1 Manhattan Distance"
      }
     },
     "output_type": "display_data"
    },
    {
     "data": {
      "application/scrapbook.scrap.json+json": {
       "data": 2.6494792752205094,
       "encoder": "json",
       "name": "ABC-GAN Model 1 Euclidean distance",
       "version": 1
      }
     },
     "metadata": {
      "scrapbook": {
       "data": true,
       "display": false,
       "name": "ABC-GAN Model 1 Euclidean distance"
      }
     },
     "output_type": "display_data"
    },
    {
     "data": {
      "application/scrapbook.scrap.json+json": {
       "data": [
        [
         0.3517634323613401,
         0.35113765200365854,
         0.35056722859637557,
         0.34853107009094,
         0.3504664744585583,
         0.3497390186741706,
         0.35313117445504194,
         0.35070274743693675,
         0.3489032622413872,
         0.3499157696140246,
         0.34994828679392664,
         0.3505749575378555,
         0.34811658930826184,
         0.3510686805269109,
         0.3517830993087168,
         0.35011262603424687,
         0.3568295141678824,
         0.35119801875000134,
         0.3451371849560132,
         0.3509295522220003,
         0.3516735183845636,
         0.35038456636023435,
         0.3489461456421434,
         0.34834699958095994,
         0.3549442748341503,
         0.348646454354954,
         0.35370004795888377,
         0.351857097919933,
         0.3515160396245564,
         0.3510039107144659,
         0.3516784690511263,
         0.3529516683404237,
         0.3522186027833129,
         0.3559431301755205,
         0.3538723097804166,
         0.3506016890722245,
         0.35097604077425915,
         0.3526005313500476,
         0.3522076606440445,
         0.35535973624752665,
         0.35162551989011637,
         0.3522785675472336,
         0.3494590782238593,
         0.3499633482300287,
         0.3527721886518075,
         0.3519417923438661,
         0.34957913979497224,
         0.3514320535698453,
         0.34546578014882784,
         0.3474497260260171,
         0.3533226289038674,
         0.3503538982048534,
         0.3517508093439214,
         0.3534899419877596,
         0.34798710582742004,
         0.35063262072759666,
         0.3517180211319132,
         0.35121918240950406,
         0.35005402751131354,
         0.34893927577354833,
         0.35261288601635105,
         0.35213391338880806,
         0.349486859038367,
         0.35230151305308477,
         0.35062246182090034,
         0.3514474142256363,
         0.35099779305443757,
         0.3525125792274615,
         0.34867689296046545,
         0.3496842294352278,
         0.3515463915124869,
         0.35207563116689033,
         0.3515005647737873,
         0.3506311825223337,
         0.3483013920787833,
         0.35435394397914044,
         0.34734661723130517,
         0.3514349821817582,
         0.348147094553431,
         0.3507174770852207,
         0.35103389868241186,
         0.35244937209687677,
         0.35298798790237,
         0.3536094307096142,
         0.3463126197001328,
         0.35187588987057977,
         0.3495842784662193,
         0.3494669418346089,
         0.34875824217704615,
         0.3485745527915122,
         0.3523681136301503,
         0.35021845035459764,
         0.3541103378404299,
         0.3512996294355621,
         0.34822736348181904,
         0.35208548645910887,
         0.3516828688589508,
         0.349832437905058,
         0.3513152861604033,
         0.3552676483858456
        ],
        [
         0.4971425000578165,
         0.49461901374161243,
         0.496045071259141,
         0.4942446492612362,
         0.49500718154013157,
         0.49570830427110196,
         0.4970196679234505,
         0.496428332105279,
         0.49234034307301044,
         0.49393730200827124,
         0.4967806704342365,
         0.49525629840791224,
         0.49527182467281816,
         0.49654270634055137,
         0.49676074236631396,
         0.493736782297492,
         0.4998701009899378,
         0.49517229385674,
         0.49121728502213957,
         0.4943586181849241,
         0.4969325587153435,
         0.4956960570067167,
         0.49270062111318114,
         0.4940040372312069,
         0.4993399567902088,
         0.49282886646687984,
         0.49957109354436396,
         0.4968610547482967,
         0.49240537956357,
         0.49635309875011446,
         0.4961352664977312,
         0.49869554191827775,
         0.4958776507526636,
         0.4983027458190918,
         0.49723310507833957,
         0.49423672147095205,
         0.49604617469012735,
         0.49903195463120936,
         0.49599792845547197,
         0.500509587675333,
         0.49830155707895757,
         0.4976063597947359,
         0.49484048821032045,
         0.49507906623184683,
         0.49667545072734354,
         0.4962948452681303,
         0.49326957315206527,
         0.49853600151836874,
         0.4889090783894062,
         0.4932069968432188,
         0.49722646474838256,
         0.4961829621344805,
         0.4941994775086641,
         0.4937750451266766,
         0.4932108331471682,
         0.49512096792459487,
         0.4959652617573738,
         0.4952218893915415,
         0.496686178073287,
         0.4939312033355236,
         0.4961346186697483,
         0.49642060436308383,
         0.49448848105967047,
         0.4953144744038582,
         0.4968379639089108,
         0.4961629297584295,
         0.4957506027072668,
         0.4948003198951483,
         0.49332180097699163,
         0.49582020193338394,
         0.49638775549829006,
         0.4967627994716167,
         0.4962761905044317,
         0.49418454729020594,
         0.495467896386981,
         0.4997221391648054,
         0.4929604183882475,
         0.4956274513155222,
         0.49355591759085654,
         0.49326166063547133,
         0.4964369062334299,
         0.49672253541648387,
         0.49577444456517694,
         0.5008787218481302,
         0.4910064525902271,
         0.4974240094423294,
         0.4957795549184084,
         0.49226682595908644,
         0.49696388840675354,
         0.49477069899439813,
         0.4964590523391962,
         0.4957421075552702,
         0.49561854228377344,
         0.4964390296489,
         0.49544436745345594,
         0.49841432794928553,
         0.4961226798593998,
         0.4937939580529928,
         0.4972590494900942,
         0.49764720611274244
        ],
        [
         9.94285000115633,
         9.892380274832249,
         9.92090142518282,
         9.884892985224724,
         9.900143630802631,
         9.914166085422039,
         9.94039335846901,
         9.92856664210558,
         9.846806861460209,
         9.878746040165424,
         9.93561340868473,
         9.905125968158245,
         9.905436493456364,
         9.930854126811028,
         9.935214847326279,
         9.87473564594984,
         9.997402019798756,
         9.9034458771348,
         9.824345700442791,
         9.887172363698483,
         9.93865117430687,
         9.913921140134335,
         9.854012422263622,
         9.880080744624138,
         9.986799135804176,
         9.856577329337597,
         9.99142187088728,
         9.937221094965935,
         9.8481075912714,
         9.927061975002289,
         9.922705329954624,
         9.973910838365555,
         9.917553015053272,
         9.966054916381836,
         9.944662101566792,
         9.88473442941904,
         9.920923493802547,
         9.980639092624187,
         9.91995856910944,
         10.01019175350666,
         9.966031141579151,
         9.952127195894718,
         9.89680976420641,
         9.901581324636936,
         9.933509014546871,
         9.925896905362606,
         9.865391463041306,
         9.970720030367374,
         9.778181567788124,
         9.864139936864376,
         9.944529294967651,
         9.92365924268961,
         9.883989550173283,
         9.875500902533531,
         9.864216662943363,
         9.902419358491898,
         9.919305235147476,
         9.90443778783083,
         9.93372356146574,
         9.878624066710472,
         9.922692373394966,
         9.928412087261677,
         9.889769621193409,
         9.906289488077164,
         9.936759278178215,
         9.92325859516859,
         9.915012054145336,
         9.896006397902966,
         9.866436019539833,
         9.916404038667679,
         9.927755109965801,
         9.935255989432335,
         9.925523810088634,
         9.883690945804119,
         9.90935792773962,
         9.994442783296108,
         9.85920836776495,
         9.912549026310444,
         9.871118351817131,
         9.865233212709427,
         9.928738124668598,
         9.934450708329678,
         9.91548889130354,
         10.017574436962605,
         9.820129051804543,
         9.948480188846588,
         9.915591098368168,
         9.845336519181728,
         9.93927776813507,
         9.895413979887962,
         9.929181046783924,
         9.914842151105404,
         9.912370845675468,
         9.928780592978,
         9.908887349069118,
         9.96828655898571,
         9.922453597187996,
         9.875879161059856,
         9.945180989801884,
         9.952944122254848
        ],
        [
         2.6524080845953555,
         2.650047742979958,
         2.647894365704099,
         2.6401934402272116,
         2.6475138317242397,
         2.6447647104200804,
         2.657559686836937,
         2.6484061147676603,
         2.641602779531348,
         2.645432930973774,
         2.6455558462974342,
         2.6479235545530972,
         2.6386230852786148,
         2.6497874651636155,
         2.6524822310760796,
         2.6461769632216465,
         2.6714397397953125,
         2.6502755281291086,
         2.627307309608121,
         2.6492623585519057,
         2.6520690729487555,
         2.64720443623168,
         2.641765113109579,
         2.6394961624558575,
         2.6643733778663616,
         2.6406304336463067,
         2.659699411433118,
         2.652761195132095,
         2.6514752106122224,
         2.649543019897831,
         2.652087740068666,
         2.6568841462902504,
         2.6541235946478188,
         2.668119675634961,
         2.660347006615553,
         2.6480245054463696,
         2.6494378300849375,
         2.655562205447455,
         2.654082367388188,
         2.6659322431281955,
         2.6518880816886536,
         2.654349515595991,
         2.6437060283770557,
         2.64561277676847,
         2.656208533424315,
         2.653080444856002,
         2.64416013053284,
         2.6511584395122267,
         2.6285577039465116,
         2.6360945583420072,
         2.6582800037011425,
         2.6470885825935384,
         2.6523604933866793,
         2.6589093327443853,
         2.6381323159668093,
         2.6481413131764575,
         2.6522368715177502,
         2.6503553814894487,
         2.6459555079831314,
         2.641739108138986,
         2.655608728771432,
         2.6538044893654393,
         2.6438111091315393,
         2.654435959118565,
         2.6481029504945623,
         2.651216378289921,
         2.6495199303060075,
         2.65523098515915,
         2.6407457013520457,
         2.644557541197498,
         2.651589679842969,
         2.653584862659909,
         2.6514168467963963,
         2.6481358821719616,
         2.6393233681335193,
         2.6621568097283093,
         2.635703387072624,
         2.651169486025962,
         2.6387386932147376,
         2.6484617312138785,
         2.64965619914136,
         2.654992926909135,
         2.657020842606885,
         2.6593586847569632,
         2.631777421060272,
         2.652832033395932,
         2.644179564500941,
         2.6437357728585846,
         2.6410537373444187,
         2.640358130222157,
         2.654686850195896,
         2.6465768470029265,
         2.6612415818201467,
         2.6506588970879,
         2.6390428699883564,
         2.6536220019404,
         2.6521043299951486,
         2.645117910056404,
         2.650717963723803,
         2.665586796132685
        ]
       ],
       "encoder": "json",
       "name": "ABC_GAN_1 Metrics",
       "version": 1
      }
     },
     "metadata": {
      "scrapbook": {
       "data": true,
       "display": false,
       "name": "ABC_GAN_1 Metrics"
      }
     },
     "output_type": "display_data"
    },
    {
     "name": "stdout",
     "output_type": "stream",
     "text": [
      "MSE\n",
      "0.3509901259542944\n"
     ]
    }
   ],
   "source": [
    "ABC_GAN1_metrics=ABC_train_test2.test_generator(gen,test_data,prior_model,variance,bias,\"1\",device)\n",
    "sb.glue(\"ABC_GAN_1 Metrics\",ABC_GAN1_metrics)\n",
    "\n",
    "print(\"MSE\")\n",
    "print(mean(ABC_GAN1_metrics[0]))"
   ]
  },
  {
   "cell_type": "code",
   "execution_count": 14,
   "id": "eb22ce5c",
   "metadata": {
    "execution": {
     "iopub.execute_input": "2022-06-22T14:51:57.228844Z",
     "iopub.status.busy": "2022-06-22T14:51:57.223470Z",
     "iopub.status.idle": "2022-06-22T14:51:58.661364Z",
     "shell.execute_reply": "2022-06-22T14:51:58.662321Z"
    },
    "papermill": {
     "duration": 1.485666,
     "end_time": "2022-06-22T14:51:58.662640",
     "exception": false,
     "start_time": "2022-06-22T14:51:57.176974",
     "status": "completed"
    },
    "tags": []
   },
   "outputs": [
    {
     "data": {
      "image/png": "[encoded data removed]",
      "text/plain": [
       "<Figure size 432x288 with 1 Axes>"
      ]
     },
     "metadata": {
      "needs_background": "light"
     },
     "output_type": "display_data"
    },
    {
     "data": {
      "image/png": "[encoded data removed]",
      "text/plain": [
       "<Figure size 432x288 with 1 Axes>"
      ]
     },
     "metadata": {
      "needs_background": "light"
     },
     "output_type": "display_data"
    },
    {
     "data": {
      "image/png": "[encoded data removed]",
      "text/plain": [
       "<Figure size 432x288 with 1 Axes>"
      ]
     },
     "metadata": {
      "needs_background": "light"
     },
     "output_type": "display_data"
    },
    {
     "data": {
      "image/png": "[encoded data removed]",
      "text/plain": [
       "<Figure size 432x288 with 1 Axes>"
      ]
     },
     "metadata": {
      "needs_background": "light"
     },
     "output_type": "display_data"
    }
   ],
   "source": [
    "sanityChecks.discProbVsError(train_data,disc,device)\n",
    "sanityChecks.discProbVsError(test_data,disc,device)"
   ]
  },
  {
   "cell_type": "markdown",
   "id": "130f3a4d",
   "metadata": {
    "id": "130f3a4d",
    "papermill": {
     "duration": 0.192968,
     "end_time": "2022-06-22T14:51:58.904424",
     "exception": false,
     "start_time": "2022-06-22T14:51:58.711456",
     "status": "completed"
    },
    "tags": []
   },
   "source": [
    "# ABC - GAN Model with skip connection"
   ]
  },
  {
   "cell_type": "code",
   "execution_count": 15,
   "id": "4e43dad1",
   "metadata": {
    "execution": {
     "iopub.execute_input": "2022-06-22T14:51:59.138039Z",
     "iopub.status.busy": "2022-06-22T14:51:59.136768Z",
     "iopub.status.idle": "2022-06-22T14:51:59.138763Z",
     "shell.execute_reply": "2022-06-22T14:51:59.137370Z"
    },
    "id": "4e43dad1",
    "papermill": {
     "duration": 0.106112,
     "end_time": "2022-06-22T14:51:59.138970",
     "exception": false,
     "start_time": "2022-06-22T14:51:59.032858",
     "status": "completed"
    },
    "tags": []
   },
   "outputs": [],
   "source": [
    "#Generator\n",
    "gen3 = network.GeneratorWithSkipConnection(n_features+1).to(device)\n",
    "constraints=network.weightConstraint()\n",
    "#Discriminator \n",
    "disc3 = network.Discriminator(n_features+1).to(device)\n",
    "\n",
    "criterion = torch.nn.BCELoss()\n",
    "gen_opt = torch.optim.Adam(gen3.parameters(), lr=0.001, betas=(0.5, 0.999))\n",
    "disc_opt = torch.optim.Adam(disc3.parameters(), lr=0.001, betas=(0.5, 0.999))\n"
   ]
  },
  {
   "cell_type": "code",
   "execution_count": 16,
   "id": "26acbc37",
   "metadata": {
    "execution": {
     "iopub.execute_input": "2022-06-22T14:51:59.328923Z",
     "iopub.status.busy": "2022-06-22T14:51:59.308457Z",
     "iopub.status.idle": "2022-06-22T14:53:10.126083Z",
     "shell.execute_reply": "2022-06-22T14:53:10.126800Z"
    },
    "id": "26acbc37",
    "papermill": {
     "duration": 70.906865,
     "end_time": "2022-06-22T14:53:10.127023",
     "exception": false,
     "start_time": "2022-06-22T14:51:59.220158",
     "status": "completed"
    },
    "tags": []
   },
   "outputs": [
    {
     "data": {
      "image/png": "[encoded data removed]",
      "text/plain": [
       "<Figure size 432x288 with 1 Axes>"
      ]
     },
     "metadata": {
      "needs_background": "light"
     },
     "output_type": "display_data"
    },
    {
     "data": {
      "image/png": "[encoded data removed]",
      "text/plain": [
       "<Figure size 432x288 with 1 Axes>"
      ]
     },
     "metadata": {
      "needs_background": "light"
     },
     "output_type": "display_data"
    }
   ],
   "source": [
    "ABC_train_test2.training_GAN_skip_connection(disc3,gen3,disc_opt,gen_opt,train_data,batch_size,n_epochs,criterion,prior_model,variance,bias,device)"
   ]
  },
  {
   "cell_type": "code",
   "execution_count": 17,
   "id": "c5e0717b",
   "metadata": {
    "execution": {
     "iopub.execute_input": "2022-06-22T14:53:10.248596Z",
     "iopub.status.busy": "2022-06-22T14:53:10.247495Z",
     "iopub.status.idle": "2022-06-22T14:53:11.013609Z",
     "shell.execute_reply": "2022-06-22T14:53:11.014093Z"
    },
    "id": "c5e0717b",
    "papermill": {
     "duration": 0.843413,
     "end_time": "2022-06-22T14:53:11.014305",
     "exception": false,
     "start_time": "2022-06-22T14:53:10.170892",
     "status": "completed"
    },
    "tags": []
   },
   "outputs": [
    {
     "data": {
      "application/scrapbook.scrap.json+json": {
       "data": 0.381267167141452,
       "encoder": "json",
       "name": "ABC-GAN Model 3 MSE",
       "version": 1
      }
     },
     "metadata": {
      "scrapbook": {
       "data": true,
       "display": false,
       "name": "ABC-GAN Model 3 MSE"
      }
     },
     "output_type": "display_data"
    },
    {
     "data": {
      "application/scrapbook.scrap.json+json": {
       "data": 0.5108616294264794,
       "encoder": "json",
       "name": "ABC-GAN Model 3 MAE",
       "version": 1
      }
     },
     "metadata": {
      "scrapbook": {
       "data": true,
       "display": false,
       "name": "ABC-GAN Model 3 MAE"
      }
     },
     "output_type": "display_data"
    },
    {
     "data": {
      "application/scrapbook.scrap.json+json": {
       "data": 10.217232588529587,
       "encoder": "json",
       "name": "ABC-GAN Model 3 Manhattan Distance",
       "version": 1
      }
     },
     "metadata": {
      "scrapbook": {
       "data": true,
       "display": false,
       "name": "ABC-GAN Model 3 Manhattan Distance"
      }
     },
     "output_type": "display_data"
    },
    {
     "data": {
      "application/scrapbook.scrap.json+json": {
       "data": 2.761386922574044,
       "encoder": "json",
       "name": "ABC-GAN Model 3 Euclidean distance",
       "version": 1
      }
     },
     "metadata": {
      "scrapbook": {
       "data": true,
       "display": false,
       "name": "ABC-GAN Model 3 Euclidean distance"
      }
     },
     "output_type": "display_data"
    },
    {
     "data": {
      "application/scrapbook.scrap.json+json": {
       "data": [
        [
         0.3812077461440953,
         0.38371996801347985,
         0.3824452681358996,
         0.3834796819518581,
         0.3846220234301457,
         0.3803234539229755,
         0.38047556146074596,
         0.38091069891018664,
         0.38211768961525416,
         0.3812138937086074,
         0.38205901193178404,
         0.3804698831225899,
         0.37977392609097915,
         0.37778687875629907,
         0.3753989595848911,
         0.3813498255123218,
         0.37594199100968895,
         0.3791313342142827,
         0.383621078427936,
         0.3812831951487295,
         0.3801058118358459,
         0.3838913552794575,
         0.3828075948034451,
         0.3815837573901125,
         0.3858912978262973,
         0.38153305271908583,
         0.3827002775047088,
         0.3852484354443858,
         0.3756985771061244,
         0.37821196244296534,
         0.3824255788085451,
         0.3773571815632432,
         0.3811637192202566,
         0.3804443993665625,
         0.3872005701798278,
         0.38259603000438125,
         0.38457903535161697,
         0.38067683665485363,
         0.3807933901814734,
         0.3775700859236539,
         0.3801789212607276,
         0.3773485534676909,
         0.38038531945711745,
         0.38103321578648686,
         0.3797884378484051,
         0.3793486877425451,
         0.3857006057297362,
         0.37988887955901773,
         0.3821312490468633,
         0.38141215741897255,
         0.38116994077368616,
         0.3790080458511945,
         0.3867554396887534,
         0.3811981442283416,
         0.3799629564707309,
         0.37950772985520237,
         0.3767270331406124,
         0.38017758913094585,
         0.38272212829843444,
         0.3793155852092821,
         0.38599298663993686,
         0.3809218568047587,
         0.38507842777231993,
         0.37948939611368143,
         0.38268031181648865,
         0.3801672833553754,
         0.38347764828578124,
         0.3812125046688654,
         0.3768593240467621,
         0.3797901650369071,
         0.37977534155760617,
         0.3763529621491545,
         0.37929284968814847,
         0.3800856071159239,
         0.38343927545865586,
         0.38643188574966403,
         0.3799258766991048,
         0.38214945409683404,
         0.37878166106422023,
         0.38449677434401697,
         0.38279495664554386,
         0.3797259702980764,
         0.3790984170336525,
         0.38266656731235005,
         0.3820126710536243,
         0.3798571030749562,
         0.3811811356613869,
         0.38282311242538725,
         0.37740256340620204,
         0.37996024159583874,
         0.38234155969080447,
         0.38348117133523374,
         0.3804156921920329,
         0.3859775319650326,
         0.38406353345367206,
         0.38172644100959524,
         0.3862059396217231,
         0.38216816034615403,
         0.3794243156321012,
         0.3834163992632861
        ],
        [
         0.5103564094752073,
         0.5135876458138228,
         0.5131296318024396,
         0.5144098203629255,
         0.514024380967021,
         0.5131065290421247,
         0.5099124621599913,
         0.5099368523806334,
         0.5134021740406751,
         0.5103048723191023,
         0.5115004550665617,
         0.5113807182759047,
         0.5103948246687651,
         0.5093918334692716,
         0.5068392004817724,
         0.5109330337494612,
         0.5047073047608137,
         0.5123592507094145,
         0.5104057621210814,
         0.5096637111157178,
         0.5098849337548017,
         0.5141274761408567,
         0.5125192444771528,
         0.5104928385466337,
         0.5116752665489912,
         0.5105674367398023,
         0.5102351676672697,
         0.5150938522070646,
         0.5069898765534162,
         0.5090347211807966,
         0.5098601918667555,
         0.5101747374981642,
         0.5104486268013716,
         0.5116479467600584,
         0.5162101369351149,
         0.5117894094437361,
         0.5131501328200102,
         0.5120402853935957,
         0.5079837959259749,
         0.5113142531365156,
         0.5089225273579359,
         0.5078379433602095,
         0.5093899469822645,
         0.5099422346800566,
         0.5104583781212568,
         0.5113527607172728,
         0.5146538447588682,
         0.5084535520523786,
         0.5103542368859053,
         0.5114540796726942,
         0.5116403233259916,
         0.5043509613722563,
         0.5148713242262601,
         0.5112335633486509,
         0.5100325386971235,
         0.508122093603015,
         0.505493639037013,
         0.5101439129561186,
         0.5124664198607206,
         0.5087560515850782,
         0.5129597585648298,
         0.5103274565190077,
         0.5140359502285718,
         0.5082067053765058,
         0.5106082331389189,
         0.5130849581211805,
         0.5111972253769637,
         0.5120632123202086,
         0.5104222904890776,
         0.5118285607546568,
         0.510175795480609,
         0.5094058226794005,
         0.5103649895638227,
         0.5082609217613936,
         0.5124429415911436,
         0.5153830390423536,
         0.5090414237231016,
         0.5127532791346312,
         0.5077576469630003,
         0.5122342240065336,
         0.5093643229454756,
         0.5086313616484404,
         0.5103716652840375,
         0.5112502258270979,
         0.510677195712924,
         0.5076638173311949,
         0.5085755359381438,
         0.5130838315933943,
         0.507773981615901,
         0.5099419932812452,
         0.5124231409281492,
         0.513126740977168,
         0.5102289479225874,
         0.5154028933495283,
         0.5144522350281477,
         0.5099917840212583,
         0.5145101349800825,
         0.5106036882847548,
         0.5091896634548903,
         0.5114278119057417
        ],
        [
         10.207128189504147,
         10.271752916276455,
         10.262592636048794,
         10.28819640725851,
         10.28048761934042,
         10.262130580842495,
         10.198249243199825,
         10.198737047612667,
         10.268043480813503,
         10.206097446382046,
         10.230009101331234,
         10.227614365518093,
         10.207896493375301,
         10.187836669385433,
         10.136784009635448,
         10.218660674989223,
         10.094146095216274,
         10.24718501418829,
         10.208115242421627,
         10.193274222314358,
         10.197698675096035,
         10.282549522817135,
         10.250384889543056,
         10.209856770932674,
         10.233505330979824,
         10.211348734796047,
         10.204703353345394,
         10.301877044141293,
         10.139797531068325,
         10.180694423615932,
         10.19720383733511,
         10.203494749963284,
         10.208972536027431,
         10.232958935201168,
         10.324202738702297,
         10.235788188874722,
         10.263002656400204,
         10.240805707871914,
         10.159675918519497,
         10.226285062730312,
         10.178450547158718,
         10.15675886720419,
         10.18779893964529,
         10.198844693601131,
         10.209167562425137,
         10.227055214345455,
         10.293076895177364,
         10.169071041047573,
         10.207084737718105,
         10.229081593453884,
         10.232806466519833,
         10.087019227445126,
         10.297426484525204,
         10.224671266973019,
         10.20065077394247,
         10.162441872060299,
         10.109872780740261,
         10.202878259122372,
         10.249328397214413,
         10.175121031701565,
         10.259195171296597,
         10.206549130380154,
         10.280719004571438,
         10.164134107530117,
         10.212164662778378,
         10.26169916242361,
         10.223944507539272,
         10.241264246404171,
         10.208445809781551,
         10.236571215093136,
         10.203515909612179,
         10.188116453588009,
         10.207299791276455,
         10.165218435227871,
         10.248858831822872,
         10.307660780847073,
         10.180828474462032,
         10.255065582692623,
         10.155152939260006,
         10.244684480130672,
         10.187286458909512,
         10.172627232968807,
         10.207433305680752,
         10.225004516541958,
         10.21354391425848,
         10.153276346623898,
         10.171510718762875,
         10.261676631867886,
         10.15547963231802,
         10.198839865624905,
         10.248462818562984,
         10.262534819543362,
         10.204578958451748,
         10.308057866990566,
         10.289044700562954,
         10.199835680425167,
         10.29020269960165,
         10.212073765695095,
         10.183793269097805,
         10.228556238114834
        ],
        [
         2.7611872306821037,
         2.770270629427673,
         2.765665446636305,
         2.7694031196337527,
         2.7735249176098837,
         2.75798279154521,
         2.758534253768642,
         2.7601112256943074,
         2.7644807455117286,
         2.761209494799724,
         2.764268481648568,
         2.758513669071045,
         2.755989572153636,
         2.748770193218411,
         2.7400691946915905,
         2.761701741724916,
         2.742050294978883,
         2.753656965616025,
         2.769913639187821,
         2.761460465582404,
         2.757193543572326,
         2.7708892265099934,
         2.7669752250551327,
         2.7625486688567586,
         2.7780975426586347,
         2.7623651196722196,
         2.766587347273564,
         2.775782539913333,
         2.7411624435852917,
         2.7503162088856814,
         2.765594253713097,
         2.7472065141275537,
         2.761027776826074,
         2.7584212853244967,
         2.7828063898871145,
         2.7662105126124485,
         2.7733699188951224,
         2.759263802737439,
         2.75968617846839,
         2.7479813897610508,
         2.757458689666003,
         2.747175107151675,
         2.7582070968551924,
         2.7605550738447038,
         2.7560422269929217,
         2.754446179334587,
         2.777411045307252,
         2.7564066447424542,
         2.7645297938234026,
         2.7619274335831943,
         2.761050310203297,
         2.7532092032796727,
         2.7812063558418436,
         2.7611524558717924,
         2.7566753761396385,
         2.7550235202451625,
         2.7449117768723,
         2.757453858656372,
         2.7666663271830756,
         2.754325998168271,
         2.778463556140108,
         2.7601516509234005,
         2.775170004782842,
         2.7549569728534107,
         2.766515179125134,
         2.757416484158225,
         2.7693957762868826,
         2.761204464246954,
         2.7453936841435405,
         2.7560484939017567,
         2.755994708113955,
         2.743548658759871,
         2.754243452159407,
         2.757120262578054,
         2.7692572125342774,
         2.780042754166432,
         2.7565408638331657,
         2.7645956452864278,
         2.7523868226113137,
         2.7730732927350368,
         2.766929549683345,
         2.7558155609477075,
         2.7535374231473684,
         2.766465497028112,
         2.7641008341000304,
         2.75629136005233,
         2.761090855663344,
         2.7670313060223486,
         2.7473717018496133,
         2.7566655277557293,
         2.765290435707629,
         2.7694084976226736,
         2.758317212330855,
         2.778407932485914,
         2.7715105392318895,
         2.7630651132740076,
         2.779229891972678,
         2.7646633080581586,
         2.754720732241659,
         2.7691746036076745
        ]
       ],
       "encoder": "json",
       "name": "ABC_GAN_3 Metrics",
       "version": 1
      }
     },
     "metadata": {
      "scrapbook": {
       "data": true,
       "display": false,
       "name": "ABC_GAN_3 Metrics"
      }
     },
     "output_type": "display_data"
    },
    {
     "name": "stdout",
     "output_type": "stream",
     "text": [
      "MSE\n",
      "0.381267167141452\n"
     ]
    }
   ],
   "source": [
    "ABC_GAN3_metrics=ABC_train_test2.test_generator(gen3,test_data,prior_model,variance,bias,\"3\",device)\n",
    "sb.glue(\"ABC_GAN_3 Metrics\",ABC_GAN3_metrics)\n",
    "\n",
    "print(\"MSE\")\n",
    "print(mean(ABC_GAN3_metrics[0]))"
   ]
  },
  {
   "cell_type": "code",
   "execution_count": 18,
   "id": "c8e46b48",
   "metadata": {
    "execution": {
     "iopub.execute_input": "2022-06-22T14:53:11.117531Z",
     "iopub.status.busy": "2022-06-22T14:53:11.116843Z",
     "iopub.status.idle": "2022-06-22T14:53:12.364723Z",
     "shell.execute_reply": "2022-06-22T14:53:12.365887Z"
    },
    "id": "c8e46b48",
    "papermill": {
     "duration": 1.306628,
     "end_time": "2022-06-22T14:53:12.366127",
     "exception": false,
     "start_time": "2022-06-22T14:53:11.059499",
     "status": "completed"
    },
    "tags": []
   },
   "outputs": [
    {
     "data": {
      "image/png": "[encoded data removed]",
      "text/plain": [
       "<Figure size 432x288 with 1 Axes>"
      ]
     },
     "metadata": {
      "needs_background": "light"
     },
     "output_type": "display_data"
    },
    {
     "data": {
      "image/png": "[encoded data removed]",
      "text/plain": [
       "<Figure size 432x288 with 1 Axes>"
      ]
     },
     "metadata": {
      "needs_background": "light"
     },
     "output_type": "display_data"
    },
    {
     "data": {
      "image/png": "[encoded data removed]",
      "text/plain": [
       "<Figure size 432x288 with 1 Axes>"
      ]
     },
     "metadata": {
      "needs_background": "light"
     },
     "output_type": "display_data"
    },
    {
     "data": {
      "image/png": "[encoded data removed]",
      "text/plain": [
       "<Figure size 432x288 with 1 Axes>"
      ]
     },
     "metadata": {
      "needs_background": "light"
     },
     "output_type": "display_data"
    }
   ],
   "source": [
    "sanityChecks.discProbVsError(train_data,disc3,device)\n",
    "sanityChecks.discProbVsError(test_data,disc3,device)"
   ]
  },
  {
   "cell_type": "markdown",
   "id": "a5bd74c3",
   "metadata": {
    "id": "a5bd74c3",
    "papermill": {
     "duration": 0.113963,
     "end_time": "2022-06-22T14:53:12.549892",
     "exception": false,
     "start_time": "2022-06-22T14:53:12.435929",
     "status": "completed"
    },
    "tags": []
   },
   "source": [
    "## Skip Connection Model Analysis - ABC-GAN "
   ]
  },
  {
   "cell_type": "markdown",
   "id": "5744a8bf",
   "metadata": {
    "id": "5744a8bf",
    "papermill": {
     "duration": 0.117406,
     "end_time": "2022-06-22T14:53:12.735134",
     "exception": false,
     "start_time": "2022-06-22T14:53:12.617728",
     "status": "completed"
    },
    "tags": []
   },
   "source": [
    "### Weight Analysis \n",
    "\n",
    "Study the weights of the skip connection layer\n",
    "\n",
    "Equation of the skip connection is \n",
    "\n",
    "$output = y_{gan} * w + y_{abc} * (1-w)$"
   ]
  },
  {
   "cell_type": "code",
   "execution_count": 19,
   "id": "52c31dea",
   "metadata": {
    "execution": {
     "iopub.execute_input": "2022-06-22T14:53:13.118327Z",
     "iopub.status.busy": "2022-06-22T14:53:13.109801Z",
     "iopub.status.idle": "2022-06-22T14:53:13.132188Z",
     "shell.execute_reply": "2022-06-22T14:53:13.124125Z"
    },
    "id": "52c31dea",
    "papermill": {
     "duration": 0.191364,
     "end_time": "2022-06-22T14:53:13.134583",
     "exception": false,
     "start_time": "2022-06-22T14:53:12.943219",
     "status": "completed"
    },
    "tags": []
   },
   "outputs": [
    {
     "name": "stdout",
     "output_type": "stream",
     "text": [
      "Weight of the node at skip connection\n",
      "Parameter containing:\n",
      "tensor([[0.0989]], requires_grad=True)\n"
     ]
    },
    {
     "data": {
      "application/scrapbook.scrap.json+json": {
       "data": 0.09889122098684311,
       "encoder": "json",
       "name": "Skip Connection Weight",
       "version": 1
      }
     },
     "metadata": {
      "scrapbook": {
       "data": true,
       "display": false,
       "name": "Skip Connection Weight"
      }
     },
     "output_type": "display_data"
    }
   ],
   "source": [
    "print(\"Weight of the node at skip connection\")\n",
    "for name,param in gen3.named_parameters():\n",
    "    if(name == \"skipNode.weight\"):\n",
    "        print(param)\n",
    "        sb.glue(\"Skip Connection Weight\",param.item())"
   ]
  }
 ],
 "metadata": {
  "colab": {
   "collapsed_sections": [],
   "name": "ABC_GAN_Model-Catboost_Pre-gen.ipynb",
   "provenance": []
  },
  "interpreter": {
   "hash": "31f2aee4e71d21fbe5cf8b01ff0e069b9275f58929596ceb00d14d90e3e16cd6"
  },
  "kernelspec": {
   "display_name": "Python 3 (ipykernel)",
   "language": "python",
   "name": "python3"
  },
  "language_info": {
   "codemirror_mode": {
    "name": "ipython",
    "version": 3
   },
   "file_extension": ".py",
   "mimetype": "text/x-python",
   "name": "python",
   "nbconvert_exporter": "python",
   "pygments_lexer": "ipython3",
   "version": "3.8.3"
  },
  "papermill": {
   "default_parameters": {},
   "duration": 148.174996,
   "end_time": "2022-06-22T14:53:14.160301",
   "environment_variables": {},
   "exception": null,
   "input_path": "ABC_GAN-TabNet.ipynb",
   "output_path": "./ABC_GAN_TabNet/ABC-GAN_output_7_2.ipynb",
   "parameters": {
    "bias": 1,
    "variance": 0.01
   },
   "start_time": "2022-06-22T14:50:45.985305",
   "version": "2.3.3"
  }
 },
 "nbformat": 4,
 "nbformat_minor": 5
}