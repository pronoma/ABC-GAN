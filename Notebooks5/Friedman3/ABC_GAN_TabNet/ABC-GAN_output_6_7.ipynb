{
 "cells": [
  {
   "cell_type": "markdown",
   "id": "622780e6",
   "metadata": {
    "id": "622780e6",
    "papermill": {
     "duration": 0.025267,
     "end_time": "2022-06-22T14:29:17.011046",
     "exception": false,
     "start_time": "2022-06-22T14:29:16.985779",
     "status": "completed"
    },
    "tags": []
   },
   "source": [
    "## Import Libraries "
   ]
  },
  {
   "cell_type": "code",
   "execution_count": 1,
   "id": "a62397e3",
   "metadata": {
    "execution": {
     "iopub.execute_input": "2022-06-22T14:29:17.088714Z",
     "iopub.status.busy": "2022-06-22T14:29:17.086971Z",
     "iopub.status.idle": "2022-06-22T14:29:17.100048Z",
     "shell.execute_reply": "2022-06-22T14:29:17.101403Z"
    },
    "id": "a62397e3",
    "papermill": {
     "duration": 0.071282,
     "end_time": "2022-06-22T14:29:17.102681",
     "exception": false,
     "start_time": "2022-06-22T14:29:17.031399",
     "status": "completed"
    },
    "tags": []
   },
   "outputs": [],
   "source": [
    "import warnings\n",
    "import sys\n",
    "sys.path.insert(0, '../../src')\n",
    "warnings.filterwarnings('ignore')"
   ]
  },
  {
   "cell_type": "code",
   "execution_count": 2,
   "id": "d6a4e155",
   "metadata": {
    "execution": {
     "iopub.execute_input": "2022-06-22T14:29:17.152461Z",
     "iopub.status.busy": "2022-06-22T14:29:17.151474Z",
     "iopub.status.idle": "2022-06-22T14:29:23.600104Z",
     "shell.execute_reply": "2022-06-22T14:29:23.600923Z"
    },
    "id": "d6a4e155",
    "papermill": {
     "duration": 6.478068,
     "end_time": "2022-06-22T14:29:23.601165",
     "exception": false,
     "start_time": "2022-06-22T14:29:17.123097",
     "status": "completed"
    },
    "tags": []
   },
   "outputs": [],
   "source": [
    "import ABC_train_test2\n",
    "import friedman3Dataset\n",
    "import network\n",
    "import dataset\n",
    "import sanityChecks\n",
    "import torch \n",
    "import scrapbook as sb\n",
    "from statistics import mean \n",
    "import catboost as ctb \n",
    "from sklearn.model_selection import train_test_split\n",
    "from sklearn.metrics import mean_squared_error,mean_absolute_error\n",
    "import numpy as np\n",
    "from pytorch_tabnet.tab_model import TabNetRegressor"
   ]
  },
  {
   "cell_type": "markdown",
   "id": "2fa5b0f7",
   "metadata": {
    "id": "2fa5b0f7",
    "papermill": {
     "duration": 0.029072,
     "end_time": "2022-06-22T14:29:23.649369",
     "exception": false,
     "start_time": "2022-06-22T14:29:23.620297",
     "status": "completed"
    },
    "tags": []
   },
   "source": [
    "## Parameters "
   ]
  },
  {
   "cell_type": "code",
   "execution_count": 3,
   "id": "783186fb",
   "metadata": {
    "execution": {
     "iopub.execute_input": "2022-06-22T14:29:23.701490Z",
     "iopub.status.busy": "2022-06-22T14:29:23.697446Z",
     "iopub.status.idle": "2022-06-22T14:29:23.702923Z",
     "shell.execute_reply": "2022-06-22T14:29:23.703802Z"
    },
    "id": "783186fb",
    "papermill": {
     "duration": 0.031494,
     "end_time": "2022-06-22T14:29:23.704055",
     "exception": false,
     "start_time": "2022-06-22T14:29:23.672561",
     "status": "completed"
    },
    "tags": [
     "parameters"
    ]
   },
   "outputs": [],
   "source": [
    "variance = 1\n",
    "bias = 1 "
   ]
  },
  {
   "cell_type": "code",
   "execution_count": 4,
   "id": "f914d1c3",
   "metadata": {
    "execution": {
     "iopub.execute_input": "2022-06-22T14:29:23.750520Z",
     "iopub.status.busy": "2022-06-22T14:29:23.748157Z",
     "iopub.status.idle": "2022-06-22T14:29:23.752871Z",
     "shell.execute_reply": "2022-06-22T14:29:23.753602Z"
    },
    "papermill": {
     "duration": 0.032647,
     "end_time": "2022-06-22T14:29:23.753848",
     "exception": false,
     "start_time": "2022-06-22T14:29:23.721201",
     "status": "completed"
    },
    "tags": [
     "injected-parameters"
    ]
   },
   "outputs": [],
   "source": [
    "# Parameters\n",
    "variance = 0.1\n",
    "bias = 0.01\n"
   ]
  },
  {
   "cell_type": "markdown",
   "id": "391cdbfd",
   "metadata": {
    "id": "391cdbfd",
    "papermill": {
     "duration": 0.01713,
     "end_time": "2022-06-22T14:29:23.787333",
     "exception": false,
     "start_time": "2022-06-22T14:29:23.770203",
     "status": "completed"
    },
    "tags": []
   },
   "source": [
    "## Dataset \n"
   ]
  },
  {
   "cell_type": "code",
   "execution_count": 5,
   "id": "5b51f161",
   "metadata": {
    "execution": {
     "iopub.execute_input": "2022-06-22T14:29:23.822377Z",
     "iopub.status.busy": "2022-06-22T14:29:23.821649Z",
     "iopub.status.idle": "2022-06-22T14:29:23.823649Z",
     "shell.execute_reply": "2022-06-22T14:29:23.824190Z"
    },
    "id": "5b51f161",
    "papermill": {
     "duration": 0.021208,
     "end_time": "2022-06-22T14:29:23.824405",
     "exception": false,
     "start_time": "2022-06-22T14:29:23.803197",
     "status": "completed"
    },
    "tags": []
   },
   "outputs": [],
   "source": [
    "#Parameters \n",
    "n_features = 4\n",
    "n_samples= 100\n",
    "n_target = 1"
   ]
  },
  {
   "cell_type": "code",
   "execution_count": 6,
   "id": "5d6eced4",
   "metadata": {
    "execution": {
     "iopub.execute_input": "2022-06-22T14:29:23.874870Z",
     "iopub.status.busy": "2022-06-22T14:29:23.873992Z",
     "iopub.status.idle": "2022-06-22T14:29:23.890902Z",
     "shell.execute_reply": "2022-06-22T14:29:23.891462Z"
    },
    "id": "5d6eced4",
    "papermill": {
     "duration": 0.052007,
     "end_time": "2022-06-22T14:29:23.891691",
     "exception": false,
     "start_time": "2022-06-22T14:29:23.839684",
     "status": "completed"
    },
    "tags": []
   },
   "outputs": [
    {
     "name": "stdout",
     "output_type": "stream",
     "text": [
      "          X1           X2        X3        X4         Y\n",
      "0  83.985097  1125.173145  0.091763  2.325748  0.948834\n",
      "1  69.600038  1659.903793  0.849168  8.888328  1.546357\n",
      "2  31.678034   744.049588  0.351386  5.405259  1.475398\n",
      "3  30.735930   235.397119  0.856436  8.873808  1.347526\n",
      "4  74.309190  1463.581378  0.419080  3.486067  1.335989\n"
     ]
    }
   ],
   "source": [
    "X,Y = friedman3Dataset.friedman3_data(n_samples)"
   ]
  },
  {
   "cell_type": "code",
   "execution_count": 7,
   "id": "fe007438",
   "metadata": {
    "execution": {
     "iopub.execute_input": "2022-06-22T14:29:23.938034Z",
     "iopub.status.busy": "2022-06-22T14:29:23.935578Z",
     "iopub.status.idle": "2022-06-22T14:29:23.940947Z",
     "shell.execute_reply": "2022-06-22T14:29:23.941546Z"
    },
    "id": "fe007438",
    "papermill": {
     "duration": 0.031355,
     "end_time": "2022-06-22T14:29:23.941780",
     "exception": false,
     "start_time": "2022-06-22T14:29:23.910425",
     "status": "completed"
    },
    "tags": []
   },
   "outputs": [],
   "source": [
    "#Train test split for dataset \n",
    "X_train,X_test,Y_train,Y_test = train_test_split(X,Y,test_size = 0.2)\n",
    "train_data = dataset.CustomDataset(X_train,Y_train)\n",
    "test_data = dataset.CustomDataset(X_test,Y_test)\n"
   ]
  },
  {
   "cell_type": "markdown",
   "id": "a9a1af34",
   "metadata": {
    "id": "a9a1af34",
    "papermill": {
     "duration": 0.021515,
     "end_time": "2022-06-22T14:29:23.984127",
     "exception": false,
     "start_time": "2022-06-22T14:29:23.962612",
     "status": "completed"
    },
    "tags": []
   },
   "source": [
    "## Training Parameters "
   ]
  },
  {
   "cell_type": "code",
   "execution_count": 8,
   "id": "952b7fc8",
   "metadata": {
    "execution": {
     "iopub.execute_input": "2022-06-22T14:29:24.023143Z",
     "iopub.status.busy": "2022-06-22T14:29:24.022327Z",
     "iopub.status.idle": "2022-06-22T14:29:24.024452Z",
     "shell.execute_reply": "2022-06-22T14:29:24.025292Z"
    },
    "id": "952b7fc8",
    "papermill": {
     "duration": 0.024169,
     "end_time": "2022-06-22T14:29:24.025771",
     "exception": false,
     "start_time": "2022-06-22T14:29:24.001602",
     "status": "completed"
    },
    "tags": []
   },
   "outputs": [],
   "source": [
    "batch_size = 32\n",
    "n_epochs = 1000\n",
    "#Select the device \n",
    "device = torch.device('cuda' if torch.cuda.is_available() else 'cpu')"
   ]
  },
  {
   "cell_type": "markdown",
   "id": "a95e1600",
   "metadata": {
    "id": "a95e1600",
    "papermill": {
     "duration": 0.015276,
     "end_time": "2022-06-22T14:29:24.059246",
     "exception": false,
     "start_time": "2022-06-22T14:29:24.043970",
     "status": "completed"
    },
    "tags": []
   },
   "source": [
    "# ABC Pre-generator Model \n",
    "\n",
    "1. The catboost model is used as a pre-generator model for the ABC-GAN. \n",
    "2. The model is first trained on the entire dataset \n",
    "3. It generats X,Y pairs and we add some Gaussian noise with mean 0 and variance 1 to it which is then feed as input to the generator.\n"
   ]
  },
  {
   "cell_type": "code",
   "execution_count": 9,
   "id": "ff8ce7bd",
   "metadata": {
    "execution": {
     "iopub.execute_input": "2022-06-22T14:29:24.103595Z",
     "iopub.status.busy": "2022-06-22T14:29:24.102708Z",
     "iopub.status.idle": "2022-06-22T14:29:32.256475Z",
     "shell.execute_reply": "2022-06-22T14:29:32.257319Z"
    },
    "id": "ff8ce7bd",
    "papermill": {
     "duration": 8.182915,
     "end_time": "2022-06-22T14:29:32.257671",
     "exception": false,
     "start_time": "2022-06-22T14:29:24.074756",
     "status": "completed"
    },
    "tags": []
   },
   "outputs": [
    {
     "name": "stdout",
     "output_type": "stream",
     "text": [
      "Device used : cpu\n"
     ]
    },
    {
     "name": "stdout",
     "output_type": "stream",
     "text": [
      "epoch 0  | loss: 1.28857 | train_mse: 3.79509 | train_mae: 1.43944 |  0:00:00s\n",
      "epoch 1  | loss: 0.51442 | train_mse: 1.89481 | train_mae: 1.07001 |  0:00:00s\n",
      "epoch 2  | loss: 0.46032 | train_mse: 1.76748 | train_mae: 0.93734 |  0:00:00s\n"
     ]
    },
    {
     "name": "stdout",
     "output_type": "stream",
     "text": [
      "epoch 3  | loss: 0.42556 | train_mse: 1.31247 | train_mae: 0.82071 |  0:00:00s\n",
      "epoch 4  | loss: 0.35088 | train_mse: 0.95241 | train_mae: 0.72326 |  0:00:00s\n",
      "epoch 5  | loss: 0.29544 | train_mse: 0.61029 | train_mae: 0.59848 |  0:00:00s\n"
     ]
    },
    {
     "name": "stdout",
     "output_type": "stream",
     "text": [
      "epoch 6  | loss: 0.38754 | train_mse: 0.46854 | train_mae: 0.53224 |  0:00:00s\n",
      "epoch 7  | loss: 0.35352 | train_mse: 0.4645  | train_mae: 0.54963 |  0:00:00s\n",
      "epoch 8  | loss: 0.26581 | train_mse: 0.55169 | train_mae: 0.58474 |  0:00:00s\n"
     ]
    },
    {
     "name": "stdout",
     "output_type": "stream",
     "text": [
      "epoch 9  | loss: 0.2297  | train_mse: 0.46049 | train_mae: 0.53239 |  0:00:01s\n",
      "epoch 10 | loss: 0.30244 | train_mse: 0.53905 | train_mae: 0.52372 |  0:00:01s\n"
     ]
    },
    {
     "name": "stdout",
     "output_type": "stream",
     "text": [
      "epoch 11 | loss: 0.24466 | train_mse: 0.5162  | train_mae: 0.53304 |  0:00:01s\n",
      "epoch 12 | loss: 0.26604 | train_mse: 0.45292 | train_mae: 0.49094 |  0:00:01s\n",
      "epoch 13 | loss: 0.47184 | train_mse: 0.38316 | train_mae: 0.43029 |  0:00:01s\n"
     ]
    },
    {
     "name": "stdout",
     "output_type": "stream",
     "text": [
      "epoch 14 | loss: 0.27168 | train_mse: 0.37186 | train_mae: 0.42588 |  0:00:01s\n",
      "epoch 15 | loss: 0.31613 | train_mse: 0.40505 | train_mae: 0.45125 |  0:00:01s\n",
      "epoch 16 | loss: 0.26622 | train_mse: 0.32706 | train_mae: 0.41091 |  0:00:01s\n"
     ]
    },
    {
     "name": "stdout",
     "output_type": "stream",
     "text": [
      "epoch 17 | loss: 0.21675 | train_mse: 0.25174 | train_mae: 0.38081 |  0:00:01s\n",
      "epoch 18 | loss: 0.23644 | train_mse: 0.22969 | train_mae: 0.36839 |  0:00:01s\n",
      "epoch 19 | loss: 0.25843 | train_mse: 0.19736 | train_mae: 0.33775 |  0:00:01s\n"
     ]
    },
    {
     "name": "stdout",
     "output_type": "stream",
     "text": [
      "epoch 20 | loss: 0.269   | train_mse: 0.15931 | train_mae: 0.29742 |  0:00:02s\n",
      "epoch 21 | loss: 0.2132  | train_mse: 0.16638 | train_mae: 0.30486 |  0:00:02s\n",
      "epoch 22 | loss: 0.21129 | train_mse: 0.18653 | train_mae: 0.3287  |  0:00:02s\n"
     ]
    },
    {
     "name": "stdout",
     "output_type": "stream",
     "text": [
      "epoch 23 | loss: 0.19078 | train_mse: 0.21234 | train_mae: 0.35378 |  0:00:02s\n",
      "epoch 24 | loss: 0.24821 | train_mse: 0.24225 | train_mae: 0.38759 |  0:00:02s\n"
     ]
    },
    {
     "name": "stdout",
     "output_type": "stream",
     "text": [
      "epoch 25 | loss: 0.26216 | train_mse: 0.2125  | train_mae: 0.36615 |  0:00:02s\n",
      "epoch 26 | loss: 0.1817  | train_mse: 0.1837  | train_mae: 0.3365  |  0:00:02s\n",
      "epoch 27 | loss: 0.18081 | train_mse: 0.15183 | train_mae: 0.3011  |  0:00:02s\n"
     ]
    },
    {
     "name": "stdout",
     "output_type": "stream",
     "text": [
      "epoch 28 | loss: 0.19459 | train_mse: 0.17609 | train_mae: 0.32244 |  0:00:02s\n",
      "epoch 29 | loss: 0.17015 | train_mse: 0.15791 | train_mae: 0.30209 |  0:00:02s\n",
      "epoch 30 | loss: 0.13665 | train_mse: 0.14744 | train_mae: 0.29779 |  0:00:02s\n"
     ]
    },
    {
     "name": "stdout",
     "output_type": "stream",
     "text": [
      "epoch 31 | loss: 0.24778 | train_mse: 0.15484 | train_mae: 0.31298 |  0:00:03s\n",
      "epoch 32 | loss: 0.16098 | train_mse: 0.14188 | train_mae: 0.29954 |  0:00:03s\n"
     ]
    },
    {
     "name": "stdout",
     "output_type": "stream",
     "text": [
      "epoch 33 | loss: 0.18326 | train_mse: 0.13525 | train_mae: 0.28971 |  0:00:03s\n",
      "epoch 34 | loss: 0.22759 | train_mse: 0.13918 | train_mae: 0.28736 |  0:00:03s\n",
      "epoch 35 | loss: 0.14919 | train_mse: 0.13193 | train_mae: 0.27731 |  0:00:03s\n"
     ]
    },
    {
     "name": "stdout",
     "output_type": "stream",
     "text": [
      "epoch 36 | loss: 0.14927 | train_mse: 0.11938 | train_mae: 0.26801 |  0:00:03s\n",
      "epoch 37 | loss: 0.18842 | train_mse: 0.13528 | train_mae: 0.2844  |  0:00:03s\n",
      "epoch 38 | loss: 0.16009 | train_mse: 0.11267 | train_mae: 0.25793 |  0:00:03s\n"
     ]
    },
    {
     "name": "stdout",
     "output_type": "stream",
     "text": [
      "epoch 39 | loss: 0.24986 | train_mse: 0.10972 | train_mae: 0.24731 |  0:00:03s\n",
      "epoch 40 | loss: 0.21062 | train_mse: 0.11297 | train_mae: 0.25822 |  0:00:03s\n",
      "epoch 41 | loss: 0.21482 | train_mse: 0.10849 | train_mae: 0.25428 |  0:00:04s\n"
     ]
    },
    {
     "name": "stdout",
     "output_type": "stream",
     "text": [
      "epoch 42 | loss: 0.19747 | train_mse: 0.11159 | train_mae: 0.253   |  0:00:04s\n",
      "epoch 43 | loss: 0.12874 | train_mse: 0.11158 | train_mae: 0.26194 |  0:00:04s\n",
      "epoch 44 | loss: 0.15452 | train_mse: 0.14563 | train_mae: 0.2995  |  0:00:04s\n"
     ]
    },
    {
     "name": "stdout",
     "output_type": "stream",
     "text": [
      "epoch 45 | loss: 0.13812 | train_mse: 0.15997 | train_mae: 0.30733 |  0:00:04s\n",
      "epoch 46 | loss: 0.18712 | train_mse: 0.13514 | train_mae: 0.29057 |  0:00:04s\n",
      "epoch 47 | loss: 0.17855 | train_mse: 0.14003 | train_mae: 0.28943 |  0:00:04s\n"
     ]
    },
    {
     "name": "stdout",
     "output_type": "stream",
     "text": [
      "epoch 48 | loss: 0.16145 | train_mse: 0.12133 | train_mae: 0.2687  |  0:00:04s\n",
      "epoch 49 | loss: 0.17697 | train_mse: 0.12966 | train_mae: 0.27495 |  0:00:04s\n",
      "epoch 50 | loss: 0.14293 | train_mse: 0.12189 | train_mae: 0.26705 |  0:00:04s\n"
     ]
    },
    {
     "name": "stdout",
     "output_type": "stream",
     "text": [
      "epoch 51 | loss: 0.15924 | train_mse: 0.12903 | train_mae: 0.27534 |  0:00:04s\n",
      "epoch 52 | loss: 0.23759 | train_mse: 0.13543 | train_mae: 0.28052 |  0:00:04s\n",
      "epoch 53 | loss: 0.13481 | train_mse: 0.13318 | train_mae: 0.27539 |  0:00:05s\n"
     ]
    },
    {
     "name": "stdout",
     "output_type": "stream",
     "text": [
      "epoch 54 | loss: 0.17878 | train_mse: 0.13365 | train_mae: 0.27305 |  0:00:05s\n",
      "epoch 55 | loss: 0.2298  | train_mse: 0.14977 | train_mae: 0.29183 |  0:00:05s\n",
      "epoch 56 | loss: 0.18297 | train_mse: 0.13533 | train_mae: 0.27891 |  0:00:05s\n"
     ]
    },
    {
     "name": "stdout",
     "output_type": "stream",
     "text": [
      "epoch 57 | loss: 0.1687  | train_mse: 0.1316  | train_mae: 0.27266 |  0:00:05s\n",
      "epoch 58 | loss: 0.17309 | train_mse: 0.13372 | train_mae: 0.27587 |  0:00:05s\n",
      "epoch 59 | loss: 0.19297 | train_mse: 0.13279 | train_mae: 0.27351 |  0:00:05s"
     ]
    },
    {
     "name": "stdout",
     "output_type": "stream",
     "text": [
      "\n",
      "epoch 60 | loss: 0.12524 | train_mse: 0.11667 | train_mae: 0.25005 |  0:00:05s\n",
      "epoch 61 | loss: 0.1383  | train_mse: 0.11435 | train_mae: 0.25109 |  0:00:05s\n"
     ]
    },
    {
     "name": "stdout",
     "output_type": "stream",
     "text": [
      "epoch 62 | loss: 0.12288 | train_mse: 0.1258  | train_mae: 0.26658 |  0:00:05s\n",
      "epoch 63 | loss: 0.1849  | train_mse: 0.1713  | train_mae: 0.32075 |  0:00:05s\n",
      "epoch 64 | loss: 0.21982 | train_mse: 0.15397 | train_mae: 0.29785 |  0:00:05s\n"
     ]
    },
    {
     "name": "stdout",
     "output_type": "stream",
     "text": [
      "epoch 65 | loss: 0.19772 | train_mse: 0.13862 | train_mae: 0.27937 |  0:00:06s\n",
      "epoch 66 | loss: 0.21583 | train_mse: 0.14331 | train_mae: 0.27888 |  0:00:06s\n",
      "epoch 67 | loss: 0.23251 | train_mse: 0.14971 | train_mae: 0.28655 |  0:00:06s\n"
     ]
    },
    {
     "name": "stdout",
     "output_type": "stream",
     "text": [
      "epoch 68 | loss: 0.17928 | train_mse: 0.15029 | train_mae: 0.29338 |  0:00:06s\n",
      "epoch 69 | loss: 0.23512 | train_mse: 0.14163 | train_mae: 0.29006 |  0:00:06s\n",
      "epoch 70 | loss: 0.14829 | train_mse: 0.13603 | train_mae: 0.28379 |  0:00:06s\n"
     ]
    },
    {
     "name": "stdout",
     "output_type": "stream",
     "text": [
      "epoch 71 | loss: 0.21376 | train_mse: 0.14898 | train_mae: 0.29952 |  0:00:06s\n",
      "epoch 72 | loss: 0.263   | train_mse: 0.1319  | train_mae: 0.28598 |  0:00:06s\n",
      "epoch 73 | loss: 0.14211 | train_mse: 0.11837 | train_mae: 0.2794  |  0:00:06s\n"
     ]
    },
    {
     "name": "stdout",
     "output_type": "stream",
     "text": [
      "epoch 74 | loss: 0.29223 | train_mse: 0.12023 | train_mae: 0.28332 |  0:00:06s\n",
      "epoch 75 | loss: 0.14817 | train_mse: 0.12763 | train_mae: 0.2879  |  0:00:06s\n"
     ]
    },
    {
     "name": "stdout",
     "output_type": "stream",
     "text": [
      "epoch 76 | loss: 0.19285 | train_mse: 0.14125 | train_mae: 0.29331 |  0:00:07s\n",
      "epoch 77 | loss: 0.21833 | train_mse: 0.15429 | train_mae: 0.30929 |  0:00:07s\n",
      "epoch 78 | loss: 0.20693 | train_mse: 0.13962 | train_mae: 0.29399 |  0:00:07s\n"
     ]
    },
    {
     "name": "stdout",
     "output_type": "stream",
     "text": [
      "epoch 79 | loss: 0.18367 | train_mse: 0.12138 | train_mae: 0.27509 |  0:00:07s\n",
      "epoch 80 | loss: 0.19394 | train_mse: 0.11918 | train_mae: 0.26609 |  0:00:07s\n",
      "epoch 81 | loss: 0.16688 | train_mse: 0.11693 | train_mae: 0.26256 |  0:00:07s\n"
     ]
    },
    {
     "name": "stdout",
     "output_type": "stream",
     "text": [
      "epoch 82 | loss: 0.14563 | train_mse: 0.12165 | train_mae: 0.27216 |  0:00:07s\n",
      "epoch 83 | loss: 0.14453 | train_mse: 0.14542 | train_mae: 0.28857 |  0:00:07s\n",
      "epoch 84 | loss: 0.1732  | train_mse: 0.14389 | train_mae: 0.28998 |  0:00:07s\n"
     ]
    },
    {
     "name": "stdout",
     "output_type": "stream",
     "text": [
      "epoch 85 | loss: 0.20849 | train_mse: 0.12481 | train_mae: 0.27862 |  0:00:07s\n",
      "epoch 86 | loss: 0.128   | train_mse: 0.11276 | train_mae: 0.26534 |  0:00:07s\n",
      "epoch 87 | loss: 0.1652  | train_mse: 0.10913 | train_mae: 0.26224 |  0:00:07s\n"
     ]
    },
    {
     "name": "stdout",
     "output_type": "stream",
     "text": [
      "epoch 88 | loss: 0.15262 | train_mse: 0.10431 | train_mae: 0.26238 |  0:00:08s\n",
      "epoch 89 | loss: 0.13135 | train_mse: 0.10576 | train_mae: 0.25965 |  0:00:08s\n",
      "\n",
      "Early stopping occurred at epoch 89 with best_epoch = 39 and best_train_mae = 0.24731\n",
      "Best weights from best epoch are automatically used!\n"
     ]
    }
   ],
   "source": [
    "#Train the Model\n",
    "\n",
    "Y_train = np.reshape(Y_train, (-1, 1))\n",
    "Y_test = np.reshape(Y_test, (-1, 1))\n",
    "\n",
    "prior_model = TabNetRegressor(optimizer_fn=torch.optim.Adam, optimizer_params=dict(lr = 0.02),\n",
    "          #scheduler_params={\"step_size\":10, ], \"gamma\":0.9},\n",
    "          #scheduler_fn=torch.optim.lr_scheduler.StepLR\n",
    "          )  #TabNetRegressor()\n",
    "\n",
    "prior_model.fit(X_train,Y_train,eval_set=[(X_train, Y_train)],\n",
    "            eval_name=['train'], \n",
    "            eval_metric=[ 'mse', 'mae'], \n",
    "            max_epochs = n_epochs, \n",
    "            batch_size = batch_size,\n",
    "            patience=50\n",
    "            )"
   ]
  },
  {
   "cell_type": "code",
   "execution_count": 10,
   "id": "af65dcda",
   "metadata": {
    "execution": {
     "iopub.execute_input": "2022-06-22T14:29:32.322580Z",
     "iopub.status.busy": "2022-06-22T14:29:32.321657Z",
     "iopub.status.idle": "2022-06-22T14:29:32.348398Z",
     "shell.execute_reply": "2022-06-22T14:29:32.349172Z"
    },
    "id": "af65dcda",
    "papermill": {
     "duration": 0.06351,
     "end_time": "2022-06-22T14:29:32.349411",
     "exception": false,
     "start_time": "2022-06-22T14:29:32.285901",
     "status": "completed"
    },
    "tags": []
   },
   "outputs": [
    {
     "data": {
      "application/scrapbook.scrap.json+json": {
       "data": 0.2167825854388518,
       "encoder": "json",
       "name": "Prior Model MSE",
       "version": 1
      }
     },
     "metadata": {
      "scrapbook": {
       "data": true,
       "display": false,
       "name": "Prior Model MSE"
      }
     },
     "output_type": "display_data"
    },
    {
     "data": {
      "application/scrapbook.scrap.json+json": {
       "data": 0.20927100093289797,
       "encoder": "json",
       "name": "ABC Pre-generator MSE",
       "version": 1
      }
     },
     "metadata": {
      "scrapbook": {
       "data": true,
       "display": false,
       "name": "ABC Pre-generator MSE"
      }
     },
     "output_type": "display_data"
    },
    {
     "data": {
      "application/scrapbook.scrap.json+json": {
       "data": 0.3770232767718937,
       "encoder": "json",
       "name": "Prior Model MSE",
       "version": 1
      }
     },
     "metadata": {
      "scrapbook": {
       "data": true,
       "display": false,
       "name": "Prior Model MSE"
      }
     },
     "output_type": "display_data"
    },
    {
     "data": {
      "application/scrapbook.scrap.json+json": {
       "data": 0.3589741357833539,
       "encoder": "json",
       "name": "ABC Pre-generator MSE",
       "version": 1
      }
     },
     "metadata": {
      "scrapbook": {
       "data": true,
       "display": false,
       "name": "ABC Pre-generator MSE"
      }
     },
     "output_type": "display_data"
    }
   ],
   "source": [
    "y_pred = prior_model.predict(X_test)\n",
    "y_abc = y_pred + np.random.normal(0,variance, y_pred.shape) + bias \n",
    "mse = mean_squared_error(y_pred,Y_test)\n",
    "sb.glue(\"Prior Model MSE\",mse)\n",
    "mse = mean_squared_error(y_abc,Y_test)\n",
    "sb.glue(\"ABC Pre-generator MSE\",mse)\n",
    "mae = mean_absolute_error(y_pred,Y_test)\n",
    "sb.glue(\"Prior Model MSE\",mae)\n",
    "mae = mean_absolute_error(y_abc,Y_test)\n",
    "sb.glue(\"ABC Pre-generator MSE\",mae)"
   ]
  },
  {
   "cell_type": "markdown",
   "id": "25609da2",
   "metadata": {
    "papermill": {
     "duration": 0.034299,
     "end_time": "2022-06-22T14:29:32.414533",
     "exception": false,
     "start_time": "2022-06-22T14:29:32.380234",
     "status": "completed"
    },
    "tags": []
   },
   "source": [
    "# ABC GAN Model"
   ]
  },
  {
   "cell_type": "code",
   "execution_count": 11,
   "id": "dfc3464d",
   "metadata": {
    "execution": {
     "iopub.execute_input": "2022-06-22T14:29:32.492932Z",
     "iopub.status.busy": "2022-06-22T14:29:32.491020Z",
     "iopub.status.idle": "2022-06-22T14:29:32.497690Z",
     "shell.execute_reply": "2022-06-22T14:29:32.499789Z"
    },
    "papermill": {
     "duration": 0.048271,
     "end_time": "2022-06-22T14:29:32.500481",
     "exception": false,
     "start_time": "2022-06-22T14:29:32.452210",
     "status": "completed"
    },
    "tags": []
   },
   "outputs": [],
   "source": [
    "gen = network.Generator(n_features+1).to(device)\n",
    "disc = network.Discriminator(n_features+1).to(device)\n",
    "\n",
    "criterion = torch.nn.BCELoss()\n",
    "gen_opt = torch.optim.Adam(gen.parameters(), lr=0.001, betas=(0.5, 0.999))\n",
    "disc_opt = torch.optim.Adam(disc.parameters(), lr=0.001, betas=(0.5, 0.999))"
   ]
  },
  {
   "cell_type": "code",
   "execution_count": 12,
   "id": "b75fdd85",
   "metadata": {
    "execution": {
     "iopub.execute_input": "2022-06-22T14:29:32.595339Z",
     "iopub.status.busy": "2022-06-22T14:29:32.594569Z",
     "iopub.status.idle": "2022-06-22T14:30:29.788807Z",
     "shell.execute_reply": "2022-06-22T14:30:29.790349Z"
    },
    "papermill": {
     "duration": 57.257806,
     "end_time": "2022-06-22T14:30:29.790735",
     "exception": false,
     "start_time": "2022-06-22T14:29:32.532929",
     "status": "completed"
    },
    "tags": []
   },
   "outputs": [
    {
     "data": {
      "image/png": "[encoded data removed]",
      "text/plain": [
       "<Figure size 432x288 with 1 Axes>"
      ]
     },
     "metadata": {
      "needs_background": "light"
     },
     "output_type": "display_data"
    },
    {
     "data": {
      "image/png": "[encoded data removed]",
      "text/plain": [
       "<Figure size 432x288 with 1 Axes>"
      ]
     },
     "metadata": {
      "needs_background": "light"
     },
     "output_type": "display_data"
    }
   ],
   "source": [
    "#Training the ABC_GAN \n",
    "ABC_train_test2.training_GAN(disc,gen,disc_opt,gen_opt,train_data,batch_size,n_epochs,criterion,prior_model,variance,bias,device)"
   ]
  },
  {
   "cell_type": "code",
   "execution_count": 13,
   "id": "1fa7c368",
   "metadata": {
    "execution": {
     "iopub.execute_input": "2022-06-22T14:30:29.869582Z",
     "iopub.status.busy": "2022-06-22T14:30:29.868684Z",
     "iopub.status.idle": "2022-06-22T14:30:30.709402Z",
     "shell.execute_reply": "2022-06-22T14:30:30.710499Z"
    },
    "papermill": {
     "duration": 0.89008,
     "end_time": "2022-06-22T14:30:30.710763",
     "exception": false,
     "start_time": "2022-06-22T14:30:29.820683",
     "status": "completed"
    },
    "tags": []
   },
   "outputs": [
    {
     "data": {
      "application/scrapbook.scrap.json+json": {
       "data": 0.34482808809041987,
       "encoder": "json",
       "name": "ABC-GAN Model 1 MSE",
       "version": 1
      }
     },
     "metadata": {
      "scrapbook": {
       "data": true,
       "display": false,
       "name": "ABC-GAN Model 1 MSE"
      }
     },
     "output_type": "display_data"
    },
    {
     "data": {
      "application/scrapbook.scrap.json+json": {
       "data": 0.5031990095153451,
       "encoder": "json",
       "name": "ABC-GAN Model 1 MAE",
       "version": 1
      }
     },
     "metadata": {
      "scrapbook": {
       "data": true,
       "display": false,
       "name": "ABC-GAN Model 1 MAE"
      }
     },
     "output_type": "display_data"
    },
    {
     "data": {
      "application/scrapbook.scrap.json+json": {
       "data": 10.063980190306902,
       "encoder": "json",
       "name": "ABC-GAN Model 1 Manhattan Distance",
       "version": 1
      }
     },
     "metadata": {
      "scrapbook": {
       "data": true,
       "display": false,
       "name": "ABC-GAN Model 1 Manhattan Distance"
      }
     },
     "output_type": "display_data"
    },
    {
     "data": {
      "application/scrapbook.scrap.json+json": {
       "data": 2.6250949984273046,
       "encoder": "json",
       "name": "ABC-GAN Model 1 Euclidean distance",
       "version": 1
      }
     },
     "metadata": {
      "scrapbook": {
       "data": true,
       "display": false,
       "name": "ABC-GAN Model 1 Euclidean distance"
      }
     },
     "output_type": "display_data"
    },
    {
     "data": {
      "application/scrapbook.scrap.json+json": {
       "data": [
        [
         0.31997910263684387,
         0.3529575533388061,
         0.31531416985319166,
         0.33371271967249855,
         0.31114870649582543,
         0.349814121582855,
         0.30268460411827564,
         0.34449009415267456,
         0.3078394166583132,
         0.3777867637982736,
         0.35559388106879014,
         0.3404676563001213,
         0.3653390250325236,
         0.3368255274801786,
         0.3745140109482229,
         0.3213292350283949,
         0.34584826691060955,
         0.38636441747345873,
         0.3514134862317485,
         0.33822325429828104,
         0.35172171360404814,
         0.32139094839485627,
         0.3491151013363093,
         0.34761105384270014,
         0.33653062859093047,
         0.3584201353546358,
         0.34235680050295003,
         0.34624978597948053,
         0.34187896664671186,
         0.3389658966434629,
         0.31880383755115893,
         0.3602594000273796,
         0.3406475918524372,
         0.33514974788968466,
         0.35907753950528326,
         0.32521845738109323,
         0.3281649790797512,
         0.3225439893784784,
         0.3292313066762172,
         0.3323332188481891,
         0.36975273462658775,
         0.37502985519832804,
         0.35349788244848845,
         0.33115720875777266,
         0.38564804913773326,
         0.3350308123321914,
         0.34952841513086724,
         0.3488322872192493,
         0.37003858224309927,
         0.3385614448806129,
         0.35859672084615796,
         0.33622056648246273,
         0.36619575382911085,
         0.3686998559335829,
         0.3298035360090956,
         0.36350336084094803,
         0.3804078701513396,
         0.35134907347118693,
         0.33599011133859247,
         0.33719871720221406,
         0.3784237556601263,
         0.3134204160188638,
         0.3245876929630407,
         0.3449197272597883,
         0.32615948810514567,
         0.36046186763299015,
         0.36720801576359835,
         0.33751733951357105,
         0.3300656452746339,
         0.33261498698596575,
         0.369495364579355,
         0.3562539832053214,
         0.3241253936254981,
         0.365797809705477,
         0.34880147654327937,
         0.36763253321296013,
         0.3347070629141806,
         0.3720889935224377,
         0.3388860071564654,
         0.3452130973870494,
         0.34116284179927886,
         0.33690406080574514,
         0.35046893427186987,
         0.31947395095597814,
         0.3208717303116071,
         0.3542441772080566,
         0.38227320787919844,
         0.3679624234536075,
         0.3642356693074072,
         0.3001249775874319,
         0.3485854711613032,
         0.3307549684348283,
         0.3654328547977918,
         0.35165290886491996,
         0.33147948473109845,
         0.341651333380557,
         0.36048953573515274,
         0.31499023549735805,
         0.330588156077526,
         0.3287212795062585
        ],
        [
         0.4855834200046957,
         0.5044601595960557,
         0.4712453565560281,
         0.4950638572685421,
         0.4803656733594835,
         0.5092506303451956,
         0.47121346620842813,
         0.4980800590477884,
         0.4780521313659847,
         0.5351939379237592,
         0.5064359157346189,
         0.5101007322780788,
         0.5167245297692716,
         0.4956021561287344,
         0.5257329727523029,
         0.4886450166814029,
         0.5273759073577822,
         0.5474350701086224,
         0.5100899710319936,
         0.5033558047376573,
         0.5116720556281507,
         0.4784520692192018,
         0.49901314741000535,
         0.5178469738923013,
         0.5037596619687974,
         0.5067712723277509,
         0.5001168965362013,
         0.513963075261563,
         0.5109457503072917,
         0.5013373821042478,
         0.4748629859648645,
         0.5184046878479421,
         0.5049794170074164,
         0.4980411882512271,
         0.512958253454417,
         0.49481031140312554,
         0.4856357703916728,
         0.4806183393113315,
         0.485986443888396,
         0.48300304627045987,
         0.5248252092860639,
         0.5208677957765758,
         0.5003077208064497,
         0.49572802847251296,
         0.5316671836189926,
         0.48797324700281025,
         0.5115583068691194,
         0.5105942650698125,
         0.5210564187727869,
         0.496041268017143,
         0.52886449014768,
         0.4894169553183019,
         0.5094518779776991,
         0.5348608533851802,
         0.492693120893091,
         0.5336540195159614,
         0.5336269016377628,
         0.5106256566010415,
         0.5149974509142339,
         0.500943576451391,
         0.518838660698384,
         0.47177363066002725,
         0.487133380305022,
         0.49667574716731905,
         0.4839630267582834,
         0.5129884514026344,
         0.5079068253748119,
         0.5020351014100015,
         0.48082452258095143,
         0.5076405725441873,
         0.5189535315148532,
         0.5084437890909612,
         0.49388604974374173,
         0.5015320691280067,
         0.49975360771641136,
         0.5301578122191131,
         0.4967282875441015,
         0.5062226026318968,
         0.5011511973105371,
         0.49468132397159936,
         0.5078840642236173,
         0.5066764234565199,
         0.510365657042712,
         0.4809906124137342,
         0.4805657695047557,
         0.49547049244865776,
         0.5337891212664545,
         0.5309224537573755,
         0.510112056788057,
         0.47105653239414097,
         0.5105259879492223,
         0.4969201802276075,
         0.5063064712099731,
         0.4989601562730968,
         0.4913962404243648,
         0.49682779153808954,
         0.5289042948745191,
         0.4757304172031581,
         0.48095603650435803,
         0.49131015902385117
        ],
        [
         9.711668400093913,
         10.089203191921115,
         9.424907131120563,
         9.901277145370841,
         9.60731346718967,
         10.18501260690391,
         9.424269324168563,
         9.961601180955768,
         9.561042627319694,
         10.703878758475184,
         10.128718314692378,
         10.202014645561576,
         10.334490595385432,
         9.912043122574687,
         10.514659455046058,
         9.772900333628058,
         10.547518147155643,
         10.948701402172446,
         10.201799420639873,
         10.067116094753146,
         10.233441112563014,
         9.569041384384036,
         9.980262948200107,
         10.356939477846026,
         10.075193239375949,
         10.135425446555018,
         10.002337930724025,
         10.279261505231261,
         10.218915006145835,
         10.026747642084956,
         9.49725971929729,
         10.368093756958842,
         10.09958834014833,
         9.960823765024543,
         10.25916506908834,
         9.89620622806251,
         9.712715407833457,
         9.61236678622663,
         9.71972887776792,
         9.660060925409198,
         10.496504185721278,
         10.417355915531516,
         10.006154416128993,
         9.91456056945026,
         10.633343672379851,
         9.759464940056205,
         10.231166137382388,
         10.21188530139625,
         10.421128375455737,
         9.92082536034286,
         10.5772898029536,
         9.788339106366038,
         10.18903755955398,
         10.697217067703605,
         9.85386241786182,
         10.673080390319228,
         10.672538032755256,
         10.212513132020831,
         10.299949018284678,
         10.01887152902782,
         10.376773213967681,
         9.435472613200545,
         9.74266760610044,
         9.933514943346381,
         9.679260535165668,
         10.259769028052688,
         10.158136507496238,
         10.04070202820003,
         9.616490451619029,
         10.152811450883746,
         10.379070630297065,
         10.168875781819224,
         9.877720994874835,
         10.030641382560134,
         9.995072154328227,
         10.603156244382262,
         9.93456575088203,
         10.124452052637935,
         10.023023946210742,
         9.893626479431987,
         10.157681284472346,
         10.133528469130397,
         10.20731314085424,
         9.619812248274684,
         9.611315390095115,
         9.909409848973155,
         10.67578242532909,
         10.61844907514751,
         10.202241135761142,
         9.42113064788282,
         10.210519758984447,
         9.93840360455215,
         10.126129424199462,
         9.979203125461936,
         9.827924808487296,
         9.93655583076179,
         10.578085897490382,
         9.514608344063163,
         9.619120730087161,
         9.826203180477023
        ],
        [
         2.5297395227052286,
         2.656906296197915,
         2.5112314503175197,
         2.5834578365922622,
         2.4945889701344606,
         2.645048663381659,
         2.4604251832489266,
         2.6248432111372844,
         2.4812876361208636,
         2.7487697750021685,
         2.666810383468574,
         2.609473725869342,
         2.70310571392435,
         2.595478867107874,
         2.7368376310925826,
         2.5350709458648093,
         2.63001242168401,
         2.7798000556639275,
         2.651088403775885,
         2.600858528633501,
         2.6522507935866404,
         2.5353143725970404,
         2.6424045917925185,
         2.6367064828785933,
         2.5943424160697464,
         2.6773872912025105,
         2.616703271305136,
         2.6315386600978545,
         2.6148765425798284,
         2.6037123368124324,
         2.5250894540635938,
         2.684248125741656,
         2.610163182072865,
         2.5890142830416547,
         2.6798415606348196,
         2.5503664731998548,
         2.561893749083873,
         2.539858221942628,
         2.5660526365459346,
         2.578112560956907,
         2.719384984244003,
         2.738721801126679,
         2.658939196177635,
         2.573547002709578,
         2.7772218101467274,
         2.5885548567963226,
         2.6439682869916092,
         2.6413340842053636,
         2.720435929196272,
         2.6021585073957847,
         2.67804675405848,
         2.5931469934520206,
         2.706273281947375,
         2.7155104711032987,
         2.5682816668313295,
         2.696306217182863,
         2.758288854167886,
         2.650845425411248,
         2.5922581327429275,
         2.5969163144091265,
         2.751086169715977,
         2.503678957130342,
         2.54789204230886,
         2.6264794964354405,
         2.5540535942111537,
         2.6850023003081027,
         2.7100111282561126,
         2.5981429503149784,
         2.5693020269117213,
         2.579205253507234,
         2.7184383920896753,
         2.669284485420471,
         2.5460769573031294,
         2.704802431622232,
         2.6412174334699494,
         2.711577154399115,
         2.587303858900924,
         2.7279625859693812,
         2.6034054895711707,
         2.6275962299677986,
         2.612136450491356,
         2.5957814268760964,
         2.6475231227389493,
         2.5277418814268917,
         2.5332656012017654,
         2.661744455082255,
         2.7650432469644968,
         2.712793480726491,
         2.6990208198804515,
         2.4499999085201285,
         2.6403994817500744,
         2.5719835475166954,
         2.703452810010901,
         2.651991360713379,
         2.5747989619816862,
         2.614005866024623,
         2.685105345177923,
         2.5099411765910293,
         2.5713348909759928,
         2.564064271839762
        ]
       ],
       "encoder": "json",
       "name": "ABC_GAN_1 Metrics",
       "version": 1
      }
     },
     "metadata": {
      "scrapbook": {
       "data": true,
       "display": false,
       "name": "ABC_GAN_1 Metrics"
      }
     },
     "output_type": "display_data"
    },
    {
     "name": "stdout",
     "output_type": "stream",
     "text": [
      "MSE\n",
      "0.34482808809041987\n"
     ]
    }
   ],
   "source": [
    "ABC_GAN1_metrics=ABC_train_test2.test_generator(gen,test_data,prior_model,variance,bias,\"1\",device)\n",
    "sb.glue(\"ABC_GAN_1 Metrics\",ABC_GAN1_metrics)\n",
    "\n",
    "print(\"MSE\")\n",
    "print(mean(ABC_GAN1_metrics[0]))"
   ]
  },
  {
   "cell_type": "code",
   "execution_count": 14,
   "id": "eb22ce5c",
   "metadata": {
    "execution": {
     "iopub.execute_input": "2022-06-22T14:30:30.813371Z",
     "iopub.status.busy": "2022-06-22T14:30:30.812180Z",
     "iopub.status.idle": "2022-06-22T14:30:31.717138Z",
     "shell.execute_reply": "2022-06-22T14:30:31.717785Z"
    },
    "papermill": {
     "duration": 0.966307,
     "end_time": "2022-06-22T14:30:31.718077",
     "exception": false,
     "start_time": "2022-06-22T14:30:30.751770",
     "status": "completed"
    },
    "tags": []
   },
   "outputs": [
    {
     "data": {
      "image/png": "[encoded data removed]",
      "text/plain": [
       "<Figure size 432x288 with 1 Axes>"
      ]
     },
     "metadata": {
      "needs_background": "light"
     },
     "output_type": "display_data"
    },
    {
     "data": {
      "image/png": "[encoded data removed]",
      "text/plain": [
       "<Figure size 432x288 with 1 Axes>"
      ]
     },
     "metadata": {
      "needs_background": "light"
     },
     "output_type": "display_data"
    },
    {
     "data": {
      "image/png": "[encoded data removed]",
      "text/plain": [
       "<Figure size 432x288 with 1 Axes>"
      ]
     },
     "metadata": {
      "needs_background": "light"
     },
     "output_type": "display_data"
    },
    {
     "data": {
      "image/png": "[encoded data removed]",
      "text/plain": [
       "<Figure size 432x288 with 1 Axes>"
      ]
     },
     "metadata": {
      "needs_background": "light"
     },
     "output_type": "display_data"
    }
   ],
   "source": [
    "sanityChecks.discProbVsError(train_data,disc,device)\n",
    "sanityChecks.discProbVsError(test_data,disc,device)"
   ]
  },
  {
   "cell_type": "markdown",
   "id": "130f3a4d",
   "metadata": {
    "id": "130f3a4d",
    "papermill": {
     "duration": 0.046294,
     "end_time": "2022-06-22T14:30:31.803925",
     "exception": false,
     "start_time": "2022-06-22T14:30:31.757631",
     "status": "completed"
    },
    "tags": []
   },
   "source": [
    "# ABC - GAN Model with skip connection"
   ]
  },
  {
   "cell_type": "code",
   "execution_count": 15,
   "id": "4e43dad1",
   "metadata": {
    "execution": {
     "iopub.execute_input": "2022-06-22T14:30:31.893379Z",
     "iopub.status.busy": "2022-06-22T14:30:31.891997Z",
     "iopub.status.idle": "2022-06-22T14:30:31.896422Z",
     "shell.execute_reply": "2022-06-22T14:30:31.897011Z"
    },
    "id": "4e43dad1",
    "papermill": {
     "duration": 0.055704,
     "end_time": "2022-06-22T14:30:31.897239",
     "exception": false,
     "start_time": "2022-06-22T14:30:31.841535",
     "status": "completed"
    },
    "tags": []
   },
   "outputs": [],
   "source": [
    "#Generator\n",
    "gen3 = network.GeneratorWithSkipConnection(n_features+1).to(device)\n",
    "constraints=network.weightConstraint()\n",
    "#Discriminator \n",
    "disc3 = network.Discriminator(n_features+1).to(device)\n",
    "\n",
    "criterion = torch.nn.BCELoss()\n",
    "gen_opt = torch.optim.Adam(gen3.parameters(), lr=0.001, betas=(0.5, 0.999))\n",
    "disc_opt = torch.optim.Adam(disc3.parameters(), lr=0.001, betas=(0.5, 0.999))\n"
   ]
  },
  {
   "cell_type": "code",
   "execution_count": 16,
   "id": "26acbc37",
   "metadata": {
    "execution": {
     "iopub.execute_input": "2022-06-22T14:30:31.998915Z",
     "iopub.status.busy": "2022-06-22T14:30:31.997939Z",
     "iopub.status.idle": "2022-06-22T14:31:58.485171Z",
     "shell.execute_reply": "2022-06-22T14:31:58.486114Z"
    },
    "id": "26acbc37",
    "papermill": {
     "duration": 86.547429,
     "end_time": "2022-06-22T14:31:58.486820",
     "exception": false,
     "start_time": "2022-06-22T14:30:31.939391",
     "status": "completed"
    },
    "tags": []
   },
   "outputs": [
    {
     "data": {
      "image/png": "[encoded data removed]",
      "text/plain": [
       "<Figure size 432x288 with 1 Axes>"
      ]
     },
     "metadata": {
      "needs_background": "light"
     },
     "output_type": "display_data"
    },
    {
     "data": {
      "image/png": "[encoded data removed]",
      "text/plain": [
       "<Figure size 432x288 with 1 Axes>"
      ]
     },
     "metadata": {
      "needs_background": "light"
     },
     "output_type": "display_data"
    }
   ],
   "source": [
    "ABC_train_test2.training_GAN_skip_connection(disc3,gen3,disc_opt,gen_opt,train_data,batch_size,n_epochs,criterion,prior_model,variance,bias,device)"
   ]
  },
  {
   "cell_type": "code",
   "execution_count": 17,
   "id": "c5e0717b",
   "metadata": {
    "execution": {
     "iopub.execute_input": "2022-06-22T14:31:58.595741Z",
     "iopub.status.busy": "2022-06-22T14:31:58.594753Z",
     "iopub.status.idle": "2022-06-22T14:32:00.561828Z",
     "shell.execute_reply": "2022-06-22T14:32:00.563176Z"
    },
    "id": "c5e0717b",
    "papermill": {
     "duration": 2.036649,
     "end_time": "2022-06-22T14:32:00.564156",
     "exception": false,
     "start_time": "2022-06-22T14:31:58.527507",
     "status": "completed"
    },
    "tags": []
   },
   "outputs": [
    {
     "data": {
      "application/scrapbook.scrap.json+json": {
       "data": 722.7954718912307,
       "encoder": "json",
       "name": "ABC-GAN Model 3 MSE",
       "version": 1
      }
     },
     "metadata": {
      "scrapbook": {
       "data": true,
       "display": false,
       "name": "ABC-GAN Model 3 MSE"
      }
     },
     "output_type": "display_data"
    },
    {
     "data": {
      "application/scrapbook.scrap.json+json": {
       "data": 25.74965915559605,
       "encoder": "json",
       "name": "ABC-GAN Model 3 MAE",
       "version": 1
      }
     },
     "metadata": {
      "scrapbook": {
       "data": true,
       "display": false,
       "name": "ABC-GAN Model 3 MAE"
      }
     },
     "output_type": "display_data"
    },
    {
     "data": {
      "application/scrapbook.scrap.json+json": {
       "data": 514.993183111921,
       "encoder": "json",
       "name": "ABC-GAN Model 3 Manhattan Distance",
       "version": 1
      }
     },
     "metadata": {
      "scrapbook": {
       "data": true,
       "display": false,
       "name": "ABC-GAN Model 3 Manhattan Distance"
      }
     },
     "output_type": "display_data"
    },
    {
     "data": {
      "application/scrapbook.scrap.json+json": {
       "data": 120.23060406357054,
       "encoder": "json",
       "name": "ABC-GAN Model 3 Euclidean distance",
       "version": 1
      }
     },
     "metadata": {
      "scrapbook": {
       "data": true,
       "display": false,
       "name": "ABC-GAN Model 3 Euclidean distance"
      }
     },
     "output_type": "display_data"
    },
    {
     "data": {
      "application/scrapbook.scrap.json+json": {
       "data": [
        [
         724.7130401555502,
         732.4707646813241,
         730.9262303256373,
         716.4603834209648,
         729.3804512379098,
         725.801099449237,
         727.595763067213,
         729.0208862958652,
         715.5705185243763,
         732.4699897476376,
         724.3238875216498,
         733.165149810663,
         718.0355067771966,
         722.9868880937016,
         721.12268208712,
         723.4772100496616,
         703.9331552161084,
         701.8569115462711,
         711.6845779108052,
         718.262107944382,
         719.5808054423903,
         727.2234816027701,
         732.3163652797259,
         720.5458706895528,
         725.2226641534437,
         725.2573298247577,
         723.9233658094893,
         729.8871697779476,
         732.6336446584952,
         724.0611782035074,
         715.5181746861679,
         714.8582186622366,
         743.113164877554,
         718.1017033230789,
         738.8568255175071,
         731.6565471764485,
         716.6798978330582,
         730.3329844956763,
         739.9940458871317,
         714.6347559979811,
         716.999501152716,
         731.4349630430412,
         709.814140366344,
         726.7510661167223,
         706.1172144724954,
         704.3299516045638,
         727.1922201827371,
         731.1280859882054,
         719.5654196629615,
         721.664405225329,
         716.7098324306088,
         710.1722629186766,
         717.0971272030537,
         713.54687381576,
         730.6991992221826,
         719.3437155063821,
         722.6914901658612,
         717.3522974485016,
         716.0635899874745,
         731.815460798382,
         730.2406295244893,
         736.3234551208632,
         722.5146565025968,
         710.2032110294825,
         727.7868049840288,
         712.310658215959,
         726.4521857408907,
         720.9144418028438,
         731.0473136920849,
         723.4208049095802,
         706.3172112950685,
         717.459146082105,
         718.8464518368786,
         726.8769817117134,
         725.3465949533231,
         717.6173068033705,
         732.1051148141686,
         720.3973737766116,
         719.9511764183479,
         722.507850861712,
         729.2641919052323,
         729.9827514872763,
         720.3548648487947,
         726.3368319491054,
         709.832373184126,
         727.9264801169181,
         736.4974837854555,
         717.306161297782,
         727.4439136043933,
         724.5675408493667,
         726.7349073027042,
         732.354186486166,
         720.9701160469251,
         735.9507408760048,
         698.5701256224717,
         714.8421882608911,
         727.7198175133793,
         717.9604740239421,
         728.0350617407107,
         720.1133930711167
        ],
        [
         25.759207541216163,
         25.87167192148045,
         25.87549806283787,
         25.622941500414164,
         25.82740235971287,
         25.83730364488438,
         25.822872835863382,
         25.85306983636692,
         25.68261395143345,
         25.88041644738987,
         25.831421858537944,
         25.942518622148782,
         25.62189837144688,
         25.68281498597935,
         25.675545794237404,
         25.72389822648838,
         25.45704937623814,
         25.40916090654209,
         25.587811094988137,
         25.66004462884739,
         25.67782846139744,
         25.888773066271096,
         25.847715002764016,
         25.673299366701393,
         25.765723950136454,
         25.75652352022007,
         25.82603650735691,
         25.874448734987528,
         25.85244651483372,
         25.788522011507304,
         25.65372377084568,
         25.64053049730137,
         26.01676235841587,
         25.659395558107644,
         26.017002445925026,
         25.93601194070652,
         25.71126967119053,
         25.94129634546116,
         26.05623374627903,
         25.61109705613926,
         25.694783264864235,
         25.98197737382725,
         25.54769030259922,
         25.75413757013157,
         25.432692820299415,
         25.447515684831888,
         25.818487078417093,
         25.886251360643655,
         25.680799633730203,
         25.8098957602866,
         25.61830378221348,
         25.53852606462315,
         25.72298784898594,
         25.56248946832493,
         25.921991688478737,
         25.72343826936558,
         25.768327671755106,
         25.66171403573826,
         25.643335825670512,
         25.929714972246437,
         25.834664780367167,
         25.984489924181254,
         25.707871062029152,
         25.557327992189677,
         25.809145552385598,
         25.536695105303078,
         25.791300589311867,
         25.725478941667824,
         25.907918125856668,
         25.746492392290385,
         25.448516470659523,
         25.641444260347633,
         25.729406172502785,
         25.785670096147804,
         25.818452746141702,
         25.661889988649637,
         25.915159279573707,
         25.697610861528666,
         25.674746186006814,
         25.721339184511454,
         25.85260325120762,
         25.915859562624245,
         25.724358565080912,
         25.80373154329136,
         25.51659432100132,
         25.853877407778054,
         25.972075230348857,
         25.647857434023173,
         25.843116051424296,
         25.7618290011771,
         25.824315172899514,
         25.976415783632547,
         25.665022093523294,
         25.966986424196513,
         25.378610998857766,
         25.64976697610691,
         25.786997706163675,
         25.641706473100932,
         25.806337744463235,
         25.71737113641575
        ],
        [
         515.1841508243233,
         517.4334384296089,
         517.5099612567574,
         512.4588300082833,
         516.5480471942574,
         516.7460728976876,
         516.4574567172676,
         517.0613967273384,
         513.652279028669,
         517.6083289477974,
         516.6284371707588,
         518.8503724429756,
         512.4379674289376,
         513.656299719587,
         513.5109158847481,
         514.4779645297676,
         509.14098752476275,
         508.18321813084185,
         511.75622189976275,
         513.2008925769478,
         513.5565692279488,
         517.7754613254219,
         516.9543000552803,
         513.4659873340279,
         515.3144790027291,
         515.1304704044014,
         516.5207301471382,
         517.4889746997505,
         517.0489302966744,
         515.770440230146,
         513.0744754169136,
         512.8106099460274,
         520.3352471683174,
         513.1879111621529,
         520.3400489185005,
         518.7202388141304,
         514.2253934238106,
         518.8259269092232,
         521.1246749255806,
         512.2219411227852,
         513.8956652972847,
         519.639547476545,
         510.95380605198443,
         515.0827514026314,
         508.65385640598834,
         508.95031369663775,
         516.3697415683419,
         517.7250272128731,
         513.6159926746041,
         516.197915205732,
         512.3660756442696,
         510.77052129246294,
         514.4597569797188,
         511.2497893664986,
         518.4398337695748,
         514.4687653873116,
         515.3665534351021,
         513.2342807147652,
         512.8667165134102,
         518.5942994449288,
         516.6932956073433,
         519.689798483625,
         514.1574212405831,
         511.1465598437935,
         516.182911047712,
         510.7339021060616,
         515.8260117862374,
         514.5095788333565,
         518.1583625171334,
         514.9298478458077,
         508.9703294131905,
         512.8288852069527,
         514.5881234500557,
         515.7134019229561,
         516.369054922834,
         513.2377997729927,
         518.3031855914742,
         513.9522172305733,
         513.4949237201363,
         514.4267836902291,
         517.0520650241524,
         518.3171912524849,
         514.4871713016182,
         516.0746308658272,
         510.3318864200264,
         517.0775481555611,
         519.4415046069771,
         512.9571486804634,
         516.8623210284859,
         515.236580023542,
         516.4863034579903,
         519.5283156726509,
         513.3004418704659,
         519.3397284839302,
         507.5722199771553,
         512.9953395221382,
         515.7399541232735,
         512.8341294620186,
         516.1267548892647,
         514.347422728315
        ],
        [
         120.39211271138574,
         121.03476894523524,
         120.90709080328061,
         119.70466853226442,
         120.77917463188012,
         120.48245510855405,
         120.63131957060016,
         120.74940051990862,
         119.63030707344828,
         121.03470491950954,
         120.3597846061258,
         121.09212607024975,
         119.83618041119273,
         120.24864972994096,
         120.09352039865598,
         120.28941849137534,
         118.65354231678953,
         118.47842939086179,
         119.30503576218442,
         119.85508816436472,
         119.96506203410976,
         120.60045452673636,
         121.02201165736139,
         120.04548060543993,
         120.43443561983787,
         120.43731397077548,
         120.32650296667724,
         120.82112147947872,
         121.04822548542337,
         120.3379556252729,
         119.6259315270872,
         119.57075049210293,
         121.91088260508609,
         119.84170420376032,
         121.56124592299201,
         120.96747886737563,
         119.72300512708976,
         120.85801458700834,
         121.65476117991697,
         119.55206029157182,
         119.74969738189036,
         120.94915981874709,
         119.14815486329145,
         120.56127621394211,
         118.83747005658573,
         118.68697920198018,
         120.5978623510995,
         120.92378475620133,
         119.96377950556256,
         120.13862037041453,
         119.72550542224566,
         119.17820798440263,
         119.75784961354756,
         119.46102911123444,
         120.88831202578541,
         119.94529715719428,
         120.22408162808823,
         119.77915490171915,
         119.67151624237695,
         120.98061504211175,
         120.8503727362468,
         121.35266417519337,
         120.2093720558091,
         119.18080474887577,
         120.64715537334719,
         119.35750149998609,
         120.53648292039144,
         120.076179303211,
         120.91710496799737,
         120.2847292809507,
         118.85429830637752,
         119.78807503938822,
         119.90383245225136,
         120.5717198775661,
         120.44472549292668,
         119.8012776896282,
         121.00455485758943,
         120.03310991360773,
         119.9959312992193,
         120.20880590553355,
         120.7695484718919,
         120.82903223044337,
         120.02956842784987,
         120.52691250912434,
         119.1496851178488,
         120.65873197716924,
         121.36700406498099,
         119.77530307185884,
         120.61873101673665,
         120.38002665304296,
         120.55993590763924,
         121.0251367680422,
         120.08081579061037,
         121.32194697382702,
         118.20068744491054,
         119.56940982215232,
         120.64160289994322,
         119.82991897050937,
         120.6677307104688,
         120.00944905057406
        ]
       ],
       "encoder": "json",
       "name": "ABC_GAN_3 Metrics",
       "version": 1
      }
     },
     "metadata": {
      "scrapbook": {
       "data": true,
       "display": false,
       "name": "ABC_GAN_3 Metrics"
      }
     },
     "output_type": "display_data"
    },
    {
     "name": "stdout",
     "output_type": "stream",
     "text": [
      "MSE\n",
      "722.7954718912307\n"
     ]
    }
   ],
   "source": [
    "ABC_GAN3_metrics=ABC_train_test2.test_generator(gen3,test_data,prior_model,variance,bias,\"3\",device)\n",
    "sb.glue(\"ABC_GAN_3 Metrics\",ABC_GAN3_metrics)\n",
    "\n",
    "print(\"MSE\")\n",
    "print(mean(ABC_GAN3_metrics[0]))"
   ]
  },
  {
   "cell_type": "code",
   "execution_count": 18,
   "id": "c8e46b48",
   "metadata": {
    "execution": {
     "iopub.execute_input": "2022-06-22T14:32:00.750744Z",
     "iopub.status.busy": "2022-06-22T14:32:00.745973Z",
     "iopub.status.idle": "2022-06-22T14:32:01.764732Z",
     "shell.execute_reply": "2022-06-22T14:32:01.765276Z"
    },
    "id": "c8e46b48",
    "papermill": {
     "duration": 1.109211,
     "end_time": "2022-06-22T14:32:01.765492",
     "exception": false,
     "start_time": "2022-06-22T14:32:00.656281",
     "status": "completed"
    },
    "tags": []
   },
   "outputs": [
    {
     "data": {
      "image/png": "[encoded data removed]",
      "text/plain": [
       "<Figure size 432x288 with 1 Axes>"
      ]
     },
     "metadata": {
      "needs_background": "light"
     },
     "output_type": "display_data"
    },
    {
     "data": {
      "image/png": "[encoded data removed]",
      "text/plain": [
       "<Figure size 432x288 with 1 Axes>"
      ]
     },
     "metadata": {
      "needs_background": "light"
     },
     "output_type": "display_data"
    },
    {
     "data": {
      "image/png": "[encoded data removed]",
      "text/plain": [
       "<Figure size 432x288 with 1 Axes>"
      ]
     },
     "metadata": {
      "needs_background": "light"
     },
     "output_type": "display_data"
    },
    {
     "data": {
      "image/png": "[encoded data removed]",
      "text/plain": [
       "<Figure size 432x288 with 1 Axes>"
      ]
     },
     "metadata": {
      "needs_background": "light"
     },
     "output_type": "display_data"
    }
   ],
   "source": [
    "sanityChecks.discProbVsError(train_data,disc3,device)\n",
    "sanityChecks.discProbVsError(test_data,disc3,device)"
   ]
  },
  {
   "cell_type": "markdown",
   "id": "a5bd74c3",
   "metadata": {
    "id": "a5bd74c3",
    "papermill": {
     "duration": 0.058209,
     "end_time": "2022-06-22T14:32:01.873388",
     "exception": false,
     "start_time": "2022-06-22T14:32:01.815179",
     "status": "completed"
    },
    "tags": []
   },
   "source": [
    "## Skip Connection Model Analysis - ABC-GAN "
   ]
  },
  {
   "cell_type": "markdown",
   "id": "5744a8bf",
   "metadata": {
    "id": "5744a8bf",
    "papermill": {
     "duration": 0.084624,
     "end_time": "2022-06-22T14:32:02.014529",
     "exception": false,
     "start_time": "2022-06-22T14:32:01.929905",
     "status": "completed"
    },
    "tags": []
   },
   "source": [
    "### Weight Analysis \n",
    "\n",
    "Study the weights of the skip connection layer\n",
    "\n",
    "Equation of the skip connection is \n",
    "\n",
    "$output = y_{gan} * w + y_{abc} * (1-w)$"
   ]
  },
  {
   "cell_type": "code",
   "execution_count": 19,
   "id": "52c31dea",
   "metadata": {
    "execution": {
     "iopub.execute_input": "2022-06-22T14:32:02.130405Z",
     "iopub.status.busy": "2022-06-22T14:32:02.129499Z",
     "iopub.status.idle": "2022-06-22T14:32:02.140544Z",
     "shell.execute_reply": "2022-06-22T14:32:02.141076Z"
    },
    "id": "52c31dea",
    "papermill": {
     "duration": 0.076504,
     "end_time": "2022-06-22T14:32:02.142306",
     "exception": false,
     "start_time": "2022-06-22T14:32:02.065802",
     "status": "completed"
    },
    "tags": []
   },
   "outputs": [
    {
     "name": "stdout",
     "output_type": "stream",
     "text": [
      "Weight of the node at skip connection\n",
      "Parameter containing:\n",
      "tensor([[0.0599]], requires_grad=True)\n"
     ]
    },
    {
     "data": {
      "application/scrapbook.scrap.json+json": {
       "data": 0.059858422726392746,
       "encoder": "json",
       "name": "Skip Connection Weight",
       "version": 1
      }
     },
     "metadata": {
      "scrapbook": {
       "data": true,
       "display": false,
       "name": "Skip Connection Weight"
      }
     },
     "output_type": "display_data"
    }
   ],
   "source": [
    "print(\"Weight of the node at skip connection\")\n",
    "for name,param in gen3.named_parameters():\n",
    "    if(name == \"skipNode.weight\"):\n",
    "        print(param)\n",
    "        sb.glue(\"Skip Connection Weight\",param.item())"
   ]
  }
 ],
 "metadata": {
  "colab": {
   "collapsed_sections": [],
   "name": "ABC_GAN_Model-Catboost_Pre-gen.ipynb",
   "provenance": []
  },
  "interpreter": {
   "hash": "31f2aee4e71d21fbe5cf8b01ff0e069b9275f58929596ceb00d14d90e3e16cd6"
  },
  "kernelspec": {
   "display_name": "Python 3 (ipykernel)",
   "language": "python",
   "name": "python3"
  },
  "language_info": {
   "codemirror_mode": {
    "name": "ipython",
    "version": 3
   },
   "file_extension": ".py",
   "mimetype": "text/x-python",
   "name": "python",
   "nbconvert_exporter": "python",
   "pygments_lexer": "ipython3",
   "version": "3.8.3"
  },
  "papermill": {
   "default_parameters": {},
   "duration": 169.026907,
   "end_time": "2022-06-22T14:32:03.256825",
   "environment_variables": {},
   "exception": null,
   "input_path": "ABC_GAN-TabNet.ipynb",
   "output_path": "./ABC_GAN_TabNet/ABC-GAN_output_6_7.ipynb",
   "parameters": {
    "bias": 0.01,
    "variance": 0.1
   },
   "start_time": "2022-06-22T14:29:14.229918",
   "version": "2.3.3"
  }
 },
 "nbformat": 4,
 "nbformat_minor": 5
}