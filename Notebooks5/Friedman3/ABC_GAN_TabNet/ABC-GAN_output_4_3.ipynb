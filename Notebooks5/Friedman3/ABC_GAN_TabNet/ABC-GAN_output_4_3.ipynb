{
 "cells": [
  {
   "cell_type": "markdown",
   "id": "622780e6",
   "metadata": {
    "id": "622780e6",
    "papermill": {
     "duration": 0.026912,
     "end_time": "2022-06-22T13:04:31.720035",
     "exception": false,
     "start_time": "2022-06-22T13:04:31.693123",
     "status": "completed"
    },
    "tags": []
   },
   "source": [
    "## Import Libraries "
   ]
  },
  {
   "cell_type": "code",
   "execution_count": 1,
   "id": "a62397e3",
   "metadata": {
    "execution": {
     "iopub.execute_input": "2022-06-22T13:04:31.799947Z",
     "iopub.status.busy": "2022-06-22T13:04:31.797341Z",
     "iopub.status.idle": "2022-06-22T13:04:31.800856Z",
     "shell.execute_reply": "2022-06-22T13:04:31.799105Z"
    },
    "id": "a62397e3",
    "papermill": {
     "duration": 0.046511,
     "end_time": "2022-06-22T13:04:31.801161",
     "exception": false,
     "start_time": "2022-06-22T13:04:31.754650",
     "status": "completed"
    },
    "tags": []
   },
   "outputs": [],
   "source": [
    "import warnings\n",
    "import sys\n",
    "sys.path.insert(0, '../../src')\n",
    "warnings.filterwarnings('ignore')"
   ]
  },
  {
   "cell_type": "code",
   "execution_count": 2,
   "id": "d6a4e155",
   "metadata": {
    "execution": {
     "iopub.execute_input": "2022-06-22T13:04:31.846305Z",
     "iopub.status.busy": "2022-06-22T13:04:31.845479Z",
     "iopub.status.idle": "2022-06-22T13:04:37.527314Z",
     "shell.execute_reply": "2022-06-22T13:04:37.527931Z"
    },
    "id": "d6a4e155",
    "papermill": {
     "duration": 5.704233,
     "end_time": "2022-06-22T13:04:37.528179",
     "exception": false,
     "start_time": "2022-06-22T13:04:31.823946",
     "status": "completed"
    },
    "tags": []
   },
   "outputs": [],
   "source": [
    "import ABC_train_test2\n",
    "import friedman3Dataset\n",
    "import network\n",
    "import dataset\n",
    "import sanityChecks\n",
    "import torch \n",
    "import scrapbook as sb\n",
    "from statistics import mean \n",
    "import catboost as ctb \n",
    "from sklearn.model_selection import train_test_split\n",
    "from sklearn.metrics import mean_squared_error,mean_absolute_error\n",
    "import numpy as np\n",
    "from pytorch_tabnet.tab_model import TabNetRegressor"
   ]
  },
  {
   "cell_type": "markdown",
   "id": "2fa5b0f7",
   "metadata": {
    "id": "2fa5b0f7",
    "papermill": {
     "duration": 0.022294,
     "end_time": "2022-06-22T13:04:37.567901",
     "exception": false,
     "start_time": "2022-06-22T13:04:37.545607",
     "status": "completed"
    },
    "tags": []
   },
   "source": [
    "## Parameters "
   ]
  },
  {
   "cell_type": "code",
   "execution_count": 3,
   "id": "783186fb",
   "metadata": {
    "execution": {
     "iopub.execute_input": "2022-06-22T13:04:37.607981Z",
     "iopub.status.busy": "2022-06-22T13:04:37.607049Z",
     "iopub.status.idle": "2022-06-22T13:04:37.610482Z",
     "shell.execute_reply": "2022-06-22T13:04:37.611083Z"
    },
    "id": "783186fb",
    "papermill": {
     "duration": 0.024379,
     "end_time": "2022-06-22T13:04:37.611311",
     "exception": false,
     "start_time": "2022-06-22T13:04:37.586932",
     "status": "completed"
    },
    "tags": [
     "parameters"
    ]
   },
   "outputs": [],
   "source": [
    "variance = 1\n",
    "bias = 1 "
   ]
  },
  {
   "cell_type": "code",
   "execution_count": 4,
   "id": "fca7de78",
   "metadata": {
    "execution": {
     "iopub.execute_input": "2022-06-22T13:04:37.645085Z",
     "iopub.status.busy": "2022-06-22T13:04:37.644387Z",
     "iopub.status.idle": "2022-06-22T13:04:37.646205Z",
     "shell.execute_reply": "2022-06-22T13:04:37.646873Z"
    },
    "papermill": {
     "duration": 0.020548,
     "end_time": "2022-06-22T13:04:37.647135",
     "exception": false,
     "start_time": "2022-06-22T13:04:37.626587",
     "status": "completed"
    },
    "tags": [
     "injected-parameters"
    ]
   },
   "outputs": [],
   "source": [
    "# Parameters\n",
    "variance = 1\n",
    "bias = 0.1\n"
   ]
  },
  {
   "cell_type": "markdown",
   "id": "391cdbfd",
   "metadata": {
    "id": "391cdbfd",
    "papermill": {
     "duration": 0.017044,
     "end_time": "2022-06-22T13:04:37.678664",
     "exception": false,
     "start_time": "2022-06-22T13:04:37.661620",
     "status": "completed"
    },
    "tags": []
   },
   "source": [
    "## Dataset \n"
   ]
  },
  {
   "cell_type": "code",
   "execution_count": 5,
   "id": "5b51f161",
   "metadata": {
    "execution": {
     "iopub.execute_input": "2022-06-22T13:04:37.715773Z",
     "iopub.status.busy": "2022-06-22T13:04:37.714943Z",
     "iopub.status.idle": "2022-06-22T13:04:37.716694Z",
     "shell.execute_reply": "2022-06-22T13:04:37.717267Z"
    },
    "id": "5b51f161",
    "papermill": {
     "duration": 0.021184,
     "end_time": "2022-06-22T13:04:37.717473",
     "exception": false,
     "start_time": "2022-06-22T13:04:37.696289",
     "status": "completed"
    },
    "tags": []
   },
   "outputs": [],
   "source": [
    "#Parameters \n",
    "n_features = 4\n",
    "n_samples= 100\n",
    "n_target = 1"
   ]
  },
  {
   "cell_type": "code",
   "execution_count": 6,
   "id": "5d6eced4",
   "metadata": {
    "execution": {
     "iopub.execute_input": "2022-06-22T13:04:37.751639Z",
     "iopub.status.busy": "2022-06-22T13:04:37.750885Z",
     "iopub.status.idle": "2022-06-22T13:04:37.763960Z",
     "shell.execute_reply": "2022-06-22T13:04:37.764485Z"
    },
    "id": "5d6eced4",
    "papermill": {
     "duration": 0.032724,
     "end_time": "2022-06-22T13:04:37.764704",
     "exception": false,
     "start_time": "2022-06-22T13:04:37.731980",
     "status": "completed"
    },
    "tags": []
   },
   "outputs": [
    {
     "name": "stdout",
     "output_type": "stream",
     "text": [
      "          X1           X2        X3        X4         Y\n",
      "0   0.755290  1080.587657  0.706678  1.697052  1.682400\n",
      "1  20.856960  1574.940397  0.664780  3.745436  1.604103\n",
      "2  99.750208   151.469843  0.334819  3.353350  0.506778\n",
      "3  65.137085  1328.838958  0.495336  3.074966  1.443132\n",
      "4  99.349961  1365.254334  0.995013  4.970353  1.463770\n"
     ]
    }
   ],
   "source": [
    "X,Y = friedman3Dataset.friedman3_data(n_samples)"
   ]
  },
  {
   "cell_type": "code",
   "execution_count": 7,
   "id": "fe007438",
   "metadata": {
    "execution": {
     "iopub.execute_input": "2022-06-22T13:04:37.804411Z",
     "iopub.status.busy": "2022-06-22T13:04:37.803440Z",
     "iopub.status.idle": "2022-06-22T13:04:37.807510Z",
     "shell.execute_reply": "2022-06-22T13:04:37.808624Z"
    },
    "id": "fe007438",
    "papermill": {
     "duration": 0.029205,
     "end_time": "2022-06-22T13:04:37.808967",
     "exception": false,
     "start_time": "2022-06-22T13:04:37.779762",
     "status": "completed"
    },
    "tags": []
   },
   "outputs": [],
   "source": [
    "#Train test split for dataset \n",
    "X_train,X_test,Y_train,Y_test = train_test_split(X,Y,test_size = 0.2)\n",
    "train_data = dataset.CustomDataset(X_train,Y_train)\n",
    "test_data = dataset.CustomDataset(X_test,Y_test)\n"
   ]
  },
  {
   "cell_type": "markdown",
   "id": "a9a1af34",
   "metadata": {
    "id": "a9a1af34",
    "papermill": {
     "duration": 0.016906,
     "end_time": "2022-06-22T13:04:37.843486",
     "exception": false,
     "start_time": "2022-06-22T13:04:37.826580",
     "status": "completed"
    },
    "tags": []
   },
   "source": [
    "## Training Parameters "
   ]
  },
  {
   "cell_type": "code",
   "execution_count": 8,
   "id": "952b7fc8",
   "metadata": {
    "execution": {
     "iopub.execute_input": "2022-06-22T13:04:37.878597Z",
     "iopub.status.busy": "2022-06-22T13:04:37.877024Z",
     "iopub.status.idle": "2022-06-22T13:04:37.879777Z",
     "shell.execute_reply": "2022-06-22T13:04:37.880475Z"
    },
    "id": "952b7fc8",
    "papermill": {
     "duration": 0.02224,
     "end_time": "2022-06-22T13:04:37.880678",
     "exception": false,
     "start_time": "2022-06-22T13:04:37.858438",
     "status": "completed"
    },
    "tags": []
   },
   "outputs": [],
   "source": [
    "batch_size = 32\n",
    "n_epochs = 1000\n",
    "#Select the device \n",
    "device = torch.device('cuda' if torch.cuda.is_available() else 'cpu')"
   ]
  },
  {
   "cell_type": "markdown",
   "id": "a95e1600",
   "metadata": {
    "id": "a95e1600",
    "papermill": {
     "duration": 0.019177,
     "end_time": "2022-06-22T13:04:37.914851",
     "exception": false,
     "start_time": "2022-06-22T13:04:37.895674",
     "status": "completed"
    },
    "tags": []
   },
   "source": [
    "# ABC Pre-generator Model \n",
    "\n",
    "1. The catboost model is used as a pre-generator model for the ABC-GAN. \n",
    "2. The model is first trained on the entire dataset \n",
    "3. It generats X,Y pairs and we add some Gaussian noise with mean 0 and variance 1 to it which is then feed as input to the generator.\n"
   ]
  },
  {
   "cell_type": "code",
   "execution_count": 9,
   "id": "ff8ce7bd",
   "metadata": {
    "execution": {
     "iopub.execute_input": "2022-06-22T13:04:37.962365Z",
     "iopub.status.busy": "2022-06-22T13:04:37.961062Z",
     "iopub.status.idle": "2022-06-22T13:05:02.294587Z",
     "shell.execute_reply": "2022-06-22T13:05:02.295111Z"
    },
    "id": "ff8ce7bd",
    "papermill": {
     "duration": 24.360525,
     "end_time": "2022-06-22T13:05:02.295473",
     "exception": false,
     "start_time": "2022-06-22T13:04:37.934948",
     "status": "completed"
    },
    "tags": []
   },
   "outputs": [
    {
     "name": "stdout",
     "output_type": "stream",
     "text": [
      "Device used : cpu\n"
     ]
    },
    {
     "name": "stdout",
     "output_type": "stream",
     "text": [
      "epoch 0  | loss: 1.38807 | train_mse: 3.69972 | train_mae: 1.46571 |  0:00:00s\n",
      "epoch 1  | loss: 0.89287 | train_mse: 3.70166 | train_mae: 1.40864 |  0:00:00s\n"
     ]
    },
    {
     "name": "stdout",
     "output_type": "stream",
     "text": [
      "epoch 2  | loss: 0.93456 | train_mse: 3.29261 | train_mae: 1.31721 |  0:00:00s\n",
      "epoch 3  | loss: 0.43722 | train_mse: 1.70321 | train_mae: 0.98755 |  0:00:00s\n",
      "epoch 4  | loss: 0.28563 | train_mse: 0.75049 | train_mae: 0.69516 |  0:00:00s\n"
     ]
    },
    {
     "name": "stdout",
     "output_type": "stream",
     "text": [
      "epoch 5  | loss: 0.31741 | train_mse: 0.83798 | train_mae: 0.66624 |  0:00:00s\n",
      "epoch 6  | loss: 0.21392 | train_mse: 1.39597 | train_mae: 0.86596 |  0:00:00s\n",
      "epoch 7  | loss: 0.34608 | train_mse: 1.25858 | train_mae: 0.84332 |  0:00:00s\n"
     ]
    },
    {
     "name": "stdout",
     "output_type": "stream",
     "text": [
      "epoch 8  | loss: 0.29322 | train_mse: 0.66966 | train_mae: 0.59583 |  0:00:01s\n",
      "epoch 9  | loss: 0.18359 | train_mse: 0.65063 | train_mae: 0.60495 |  0:00:01s\n",
      "epoch 10 | loss: 0.27691 | train_mse: 0.7824  | train_mae: 0.64398 |  0:00:01s\n"
     ]
    },
    {
     "name": "stdout",
     "output_type": "stream",
     "text": [
      "epoch 11 | loss: 0.36981 | train_mse: 0.93139 | train_mae: 0.66942 |  0:00:01s\n",
      "epoch 12 | loss: 0.40819 | train_mse: 1.00511 | train_mae: 0.73249 |  0:00:01s\n"
     ]
    },
    {
     "name": "stdout",
     "output_type": "stream",
     "text": [
      "epoch 13 | loss: 0.21815 | train_mse: 0.86698 | train_mae: 0.67785 |  0:00:01s\n"
     ]
    },
    {
     "name": "stdout",
     "output_type": "stream",
     "text": [
      "epoch 14 | loss: 0.20698 | train_mse: 0.8952  | train_mae: 0.67645 |  0:00:01s\n",
      "epoch 15 | loss: 0.28331 | train_mse: 0.7958  | train_mae: 0.66235 |  0:00:01s\n",
      "epoch 16 | loss: 0.17069 | train_mse: 0.69138 | train_mae: 0.61092 |  0:00:02s\n"
     ]
    },
    {
     "name": "stdout",
     "output_type": "stream",
     "text": [
      "epoch 17 | loss: 0.16555 | train_mse: 0.71992 | train_mae: 0.61038 |  0:00:02s\n",
      "epoch 18 | loss: 0.17259 | train_mse: 0.73472 | train_mae: 0.60721 |  0:00:02s\n",
      "epoch 19 | loss: 0.24055 | train_mse: 0.38856 | train_mae: 0.48533 |  0:00:02s\n"
     ]
    },
    {
     "name": "stdout",
     "output_type": "stream",
     "text": [
      "epoch 20 | loss: 0.22818 | train_mse: 0.2756  | train_mae: 0.43468 |  0:00:02s\n",
      "epoch 21 | loss: 0.17647 | train_mse: 0.43157 | train_mae: 0.50101 |  0:00:02s\n",
      "epoch 22 | loss: 0.19988 | train_mse: 0.28706 | train_mae: 0.43531 |  0:00:02s\n"
     ]
    },
    {
     "name": "stdout",
     "output_type": "stream",
     "text": [
      "epoch 23 | loss: 0.20454 | train_mse: 0.2466  | train_mae: 0.40461 |  0:00:02s\n",
      "epoch 24 | loss: 0.17163 | train_mse: 0.26074 | train_mae: 0.42006 |  0:00:02s\n",
      "epoch 25 | loss: 0.13507 | train_mse: 0.39892 | train_mae: 0.46282 |  0:00:02s\n"
     ]
    },
    {
     "name": "stdout",
     "output_type": "stream",
     "text": [
      "epoch 26 | loss: 0.19264 | train_mse: 0.26301 | train_mae: 0.37423 |  0:00:02s\n",
      "epoch 27 | loss: 0.21115 | train_mse: 0.14521 | train_mae: 0.31139 |  0:00:02s\n",
      "epoch 28 | loss: 0.23916 | train_mse: 0.1885  | train_mae: 0.33684 |  0:00:02s\n"
     ]
    },
    {
     "name": "stdout",
     "output_type": "stream",
     "text": [
      "epoch 29 | loss: 0.20511 | train_mse: 0.23989 | train_mae: 0.36694 |  0:00:03s\n",
      "epoch 30 | loss: 0.15417 | train_mse: 0.19925 | train_mae: 0.34059 |  0:00:03s\n",
      "epoch 31 | loss: 0.13887 | train_mse: 0.17099 | train_mae: 0.30257 |  0:00:03s\n",
      "epoch 32 | loss: 0.14489 | train_mse: 0.16505 | train_mae: 0.29759 |  0:00:03s\n"
     ]
    },
    {
     "name": "stdout",
     "output_type": "stream",
     "text": [
      "epoch 33 | loss: 0.28243 | train_mse: 0.24055 | train_mae: 0.37758 |  0:00:03s\n",
      "epoch 34 | loss: 0.20569 | train_mse: 0.20838 | train_mae: 0.35421 |  0:00:03s\n",
      "epoch 35 | loss: 0.15986 | train_mse: 0.11255 | train_mae: 0.25663 |  0:00:03s\n"
     ]
    },
    {
     "name": "stdout",
     "output_type": "stream",
     "text": [
      "epoch 36 | loss: 0.15324 | train_mse: 0.13611 | train_mae: 0.2891  |  0:00:03s\n",
      "epoch 37 | loss: 0.16409 | train_mse: 0.11523 | train_mae: 0.26407 |  0:00:03s\n",
      "epoch 38 | loss: 0.15932 | train_mse: 0.0913  | train_mae: 0.22905 |  0:00:03s\n",
      "epoch 39 | loss: 0.15876 | train_mse: 0.10409 | train_mae: 0.25147 |  0:00:03s\n"
     ]
    },
    {
     "name": "stdout",
     "output_type": "stream",
     "text": [
      "epoch 40 | loss: 0.18159 | train_mse: 0.10791 | train_mae: 0.25713 |  0:00:03s\n",
      "epoch 41 | loss: 0.163   | train_mse: 0.10049 | train_mae: 0.25313 |  0:00:03s\n",
      "epoch 42 | loss: 0.20233 | train_mse: 0.11469 | train_mae: 0.26434 |  0:00:03s\n",
      "epoch 43 | loss: 0.12801 | train_mse: 0.1489  | train_mae: 0.2843  |  0:00:03s\n"
     ]
    },
    {
     "name": "stdout",
     "output_type": "stream",
     "text": [
      "epoch 44 | loss: 0.13358 | train_mse: 0.09715 | train_mae: 0.2363  |  0:00:04s\n",
      "epoch 45 | loss: 0.11993 | train_mse: 0.10165 | train_mae: 0.23724 |  0:00:04s\n",
      "epoch 46 | loss: 0.15366 | train_mse: 0.11893 | train_mae: 0.25891 |  0:00:04s\n",
      "epoch 47 | loss: 0.22887 | train_mse: 0.14502 | train_mae: 0.2982  |  0:00:04s\n"
     ]
    },
    {
     "name": "stdout",
     "output_type": "stream",
     "text": [
      "epoch 48 | loss: 0.1839  | train_mse: 0.17988 | train_mae: 0.30814 |  0:00:04s\n",
      "epoch 49 | loss: 0.18013 | train_mse: 0.13786 | train_mae: 0.27931 |  0:00:04s\n",
      "epoch 50 | loss: 0.13383 | train_mse: 0.09211 | train_mae: 0.24478 |  0:00:04s\n"
     ]
    },
    {
     "name": "stdout",
     "output_type": "stream",
     "text": [
      "epoch 51 | loss: 0.12887 | train_mse: 0.10023 | train_mae: 0.25516 |  0:00:04s\n",
      "epoch 52 | loss: 0.12009 | train_mse: 0.09025 | train_mae: 0.24272 |  0:00:04s\n",
      "epoch 53 | loss: 0.1254  | train_mse: 0.10984 | train_mae: 0.25492 |  0:00:04s\n",
      "epoch 54 | loss: 0.17793 | train_mse: 0.1053  | train_mae: 0.25138 |  0:00:04s\n"
     ]
    },
    {
     "name": "stdout",
     "output_type": "stream",
     "text": [
      "epoch 55 | loss: 0.12461 | train_mse: 0.10691 | train_mae: 0.24611 |  0:00:04s\n",
      "epoch 56 | loss: 0.1643  | train_mse: 0.08431 | train_mae: 0.22941 |  0:00:04s\n",
      "epoch 57 | loss: 0.08276 | train_mse: 0.09929 | train_mae: 0.24347 |  0:00:04s\n",
      "epoch 58 | loss: 0.11049 | train_mse: 0.10478 | train_mae: 0.24845 |  0:00:04s\n"
     ]
    },
    {
     "name": "stdout",
     "output_type": "stream",
     "text": [
      "epoch 59 | loss: 0.15248 | train_mse: 0.08495 | train_mae: 0.21862 |  0:00:05s\n",
      "epoch 60 | loss: 0.09473 | train_mse: 0.08671 | train_mae: 0.22301 |  0:00:05s\n",
      "epoch 61 | loss: 0.11151 | train_mse: 0.08635 | train_mae: 0.21862 |  0:00:05s\n",
      "epoch 62 | loss: 0.1793  | train_mse: 0.08418 | train_mae: 0.22056 |  0:00:05s\n"
     ]
    },
    {
     "name": "stdout",
     "output_type": "stream",
     "text": [
      "epoch 63 | loss: 0.20533 | train_mse: 0.07837 | train_mae: 0.22307 |  0:00:05s\n",
      "epoch 64 | loss: 0.18032 | train_mse: 0.08184 | train_mae: 0.23252 |  0:00:05s\n",
      "epoch 65 | loss: 0.11052 | train_mse: 0.07116 | train_mae: 0.21486 |  0:00:05s\n"
     ]
    },
    {
     "name": "stdout",
     "output_type": "stream",
     "text": [
      "epoch 66 | loss: 0.13038 | train_mse: 0.06852 | train_mae: 0.20805 |  0:00:05s\n",
      "epoch 67 | loss: 0.13403 | train_mse: 0.08845 | train_mae: 0.23113 |  0:00:05s\n",
      "epoch 68 | loss: 0.22795 | train_mse: 0.08808 | train_mae: 0.22774 |  0:00:05s\n",
      "epoch 69 | loss: 0.1523  | train_mse: 0.08271 | train_mae: 0.22317 |  0:00:05s\n"
     ]
    },
    {
     "name": "stdout",
     "output_type": "stream",
     "text": [
      "epoch 70 | loss: 0.1295  | train_mse: 0.07348 | train_mae: 0.22066 |  0:00:05s\n",
      "epoch 71 | loss: 0.10749 | train_mse: 0.08732 | train_mae: 0.22251 |  0:00:05s\n",
      "epoch 72 | loss: 0.10349 | train_mse: 0.07181 | train_mae: 0.21072 |  0:00:05s\n",
      "epoch 73 | loss: 0.09498 | train_mse: 0.09506 | train_mae: 0.23118 |  0:00:05s\n"
     ]
    },
    {
     "name": "stdout",
     "output_type": "stream",
     "text": [
      "epoch 74 | loss: 0.23719 | train_mse: 0.08915 | train_mae: 0.23159 |  0:00:06s\n",
      "epoch 75 | loss: 0.11912 | train_mse: 0.07177 | train_mae: 0.20973 |  0:00:06s\n",
      "epoch 76 | loss: 0.11304 | train_mse: 0.07742 | train_mae: 0.21647 |  0:00:06s\n",
      "epoch 77 | loss: 0.09484 | train_mse: 0.08278 | train_mae: 0.2191  |  0:00:06s\n"
     ]
    },
    {
     "name": "stdout",
     "output_type": "stream",
     "text": [
      "epoch 78 | loss: 0.10287 | train_mse: 0.07646 | train_mae: 0.20683 |  0:00:06s\n",
      "epoch 79 | loss: 0.1079  | train_mse: 0.07848 | train_mae: 0.20868 |  0:00:06s\n",
      "epoch 80 | loss: 0.17611 | train_mse: 0.11489 | train_mae: 0.24868 |  0:00:06s\n"
     ]
    },
    {
     "name": "stdout",
     "output_type": "stream",
     "text": [
      "epoch 81 | loss: 0.12867 | train_mse: 0.12572 | train_mae: 0.25427 |  0:00:06s\n",
      "epoch 82 | loss: 0.22004 | train_mse: 0.11119 | train_mae: 0.24104 |  0:00:06s\n",
      "epoch 83 | loss: 0.32299 | train_mse: 0.09696 | train_mae: 0.23316 |  0:00:06s\n",
      "epoch 84 | loss: 0.10121 | train_mse: 0.08161 | train_mae: 0.2169  |  0:00:06s\n"
     ]
    },
    {
     "name": "stdout",
     "output_type": "stream",
     "text": [
      "epoch 85 | loss: 0.10043 | train_mse: 0.08019 | train_mae: 0.21713 |  0:00:06s\n",
      "epoch 86 | loss: 0.09949 | train_mse: 0.08373 | train_mae: 0.23141 |  0:00:06s\n",
      "epoch 87 | loss: 0.08449 | train_mse: 0.07241 | train_mae: 0.21634 |  0:00:06s\n",
      "epoch 88 | loss: 0.08523 | train_mse: 0.07271 | train_mae: 0.21012 |  0:00:07s\n"
     ]
    },
    {
     "name": "stdout",
     "output_type": "stream",
     "text": [
      "epoch 89 | loss: 0.15007 | train_mse: 0.06306 | train_mae: 0.19351 |  0:00:07s\n",
      "epoch 90 | loss: 0.08378 | train_mse: 0.07473 | train_mae: 0.21451 |  0:00:07s\n"
     ]
    },
    {
     "name": "stdout",
     "output_type": "stream",
     "text": [
      "epoch 91 | loss: 0.13119 | train_mse: 0.07901 | train_mae: 0.21865 |  0:00:07s\n",
      "epoch 92 | loss: 0.09597 | train_mse: 0.07406 | train_mae: 0.21631 |  0:00:07s\n",
      "epoch 93 | loss: 0.07155 | train_mse: 0.0754  | train_mae: 0.21884 |  0:00:07s\n"
     ]
    },
    {
     "name": "stdout",
     "output_type": "stream",
     "text": [
      "epoch 94 | loss: 0.10914 | train_mse: 0.07632 | train_mae: 0.21689 |  0:00:07s\n",
      "epoch 95 | loss: 0.08694 | train_mse: 0.07262 | train_mae: 0.21457 |  0:00:07s\n",
      "epoch 96 | loss: 0.07799 | train_mse: 0.07652 | train_mae: 0.21534 |  0:00:07s\n",
      "epoch 97 | loss: 0.08701 | train_mse: 0.07501 | train_mae: 0.20832 |  0:00:07s\n"
     ]
    },
    {
     "name": "stdout",
     "output_type": "stream",
     "text": [
      "epoch 98 | loss: 0.08398 | train_mse: 0.06236 | train_mae: 0.19095 |  0:00:07s\n",
      "epoch 99 | loss: 0.1126  | train_mse: 0.05983 | train_mae: 0.18651 |  0:00:07s\n",
      "epoch 100| loss: 0.0814  | train_mse: 0.05397 | train_mae: 0.18344 |  0:00:07s\n"
     ]
    },
    {
     "name": "stdout",
     "output_type": "stream",
     "text": [
      "epoch 101| loss: 0.1615  | train_mse: 0.06735 | train_mae: 0.19885 |  0:00:08s\n",
      "epoch 102| loss: 0.10197 | train_mse: 0.05529 | train_mae: 0.19209 |  0:00:08s\n",
      "epoch 103| loss: 0.09453 | train_mse: 0.05394 | train_mae: 0.18634 |  0:00:08s\n",
      "epoch 104| loss: 0.08787 | train_mse: 0.05891 | train_mae: 0.19231 |  0:00:08s\n"
     ]
    },
    {
     "name": "stdout",
     "output_type": "stream",
     "text": [
      "epoch 105| loss: 0.12104 | train_mse: 0.05864 | train_mae: 0.19163 |  0:00:08s\n",
      "epoch 106| loss: 0.13323 | train_mse: 0.05911 | train_mae: 0.19258 |  0:00:08s\n",
      "epoch 107| loss: 0.10053 | train_mse: 0.08339 | train_mae: 0.21413 |  0:00:08s\n"
     ]
    },
    {
     "name": "stdout",
     "output_type": "stream",
     "text": [
      "epoch 108| loss: 0.10729 | train_mse: 0.07334 | train_mae: 0.20741 |  0:00:08s\n",
      "epoch 109| loss: 0.0961  | train_mse: 0.05736 | train_mae: 0.19253 |  0:00:08s\n",
      "epoch 110| loss: 0.09905 | train_mse: 0.05081 | train_mae: 0.17958 |  0:00:08s\n",
      "epoch 111| loss: 0.0972  | train_mse: 0.05071 | train_mae: 0.17326 |  0:00:08s\n"
     ]
    },
    {
     "name": "stdout",
     "output_type": "stream",
     "text": [
      "epoch 112| loss: 0.09925 | train_mse: 0.07781 | train_mae: 0.20359 |  0:00:08s\n",
      "epoch 113| loss: 0.12328 | train_mse: 0.07761 | train_mae: 0.20983 |  0:00:08s\n",
      "epoch 114| loss: 0.12023 | train_mse: 0.05813 | train_mae: 0.18942 |  0:00:08s\n",
      "epoch 115| loss: 0.15472 | train_mse: 0.07268 | train_mae: 0.21132 |  0:00:08s\n"
     ]
    },
    {
     "name": "stdout",
     "output_type": "stream",
     "text": [
      "epoch 116| loss: 0.14327 | train_mse: 0.05725 | train_mae: 0.18289 |  0:00:09s\n",
      "epoch 117| loss: 0.05606 | train_mse: 0.04995 | train_mae: 0.17244 |  0:00:09s\n",
      "epoch 118| loss: 0.1015  | train_mse: 0.05368 | train_mae: 0.17754 |  0:00:09s\n",
      "epoch 119| loss: 0.08271 | train_mse: 0.05056 | train_mae: 0.16955 |  0:00:09s\n"
     ]
    },
    {
     "name": "stdout",
     "output_type": "stream",
     "text": [
      "epoch 120| loss: 0.07427 | train_mse: 0.04825 | train_mae: 0.16723 |  0:00:09s\n",
      "epoch 121| loss: 0.1071  | train_mse: 0.05599 | train_mae: 0.1875  |  0:00:09s\n",
      "epoch 122| loss: 0.07947 | train_mse: 0.07602 | train_mae: 0.21208 |  0:00:09s\n"
     ]
    },
    {
     "name": "stdout",
     "output_type": "stream",
     "text": [
      "epoch 123| loss: 0.10054 | train_mse: 0.05993 | train_mae: 0.19227 |  0:00:09s\n",
      "epoch 124| loss: 0.09573 | train_mse: 0.07084 | train_mae: 0.20658 |  0:00:09s\n",
      "epoch 125| loss: 0.13979 | train_mse: 0.05889 | train_mae: 0.18965 |  0:00:09s\n"
     ]
    },
    {
     "name": "stdout",
     "output_type": "stream",
     "text": [
      "epoch 126| loss: 0.14164 | train_mse: 0.08529 | train_mae: 0.21359 |  0:00:09s\n",
      "epoch 127| loss: 0.23011 | train_mse: 0.1334  | train_mae: 0.25668 |  0:00:09s\n",
      "epoch 128| loss: 0.13711 | train_mse: 0.10314 | train_mae: 0.23475 |  0:00:09s\n",
      "epoch 129| loss: 0.15931 | train_mse: 0.10164 | train_mae: 0.24382 |  0:00:09s\n"
     ]
    },
    {
     "name": "stdout",
     "output_type": "stream",
     "text": [
      "epoch 130| loss: 0.0884  | train_mse: 0.07808 | train_mae: 0.22347 |  0:00:09s\n",
      "epoch 131| loss: 0.09663 | train_mse: 0.07255 | train_mae: 0.21674 |  0:00:10s\n",
      "epoch 132| loss: 0.15578 | train_mse: 0.06671 | train_mae: 0.20754 |  0:00:10s\n"
     ]
    },
    {
     "name": "stdout",
     "output_type": "stream",
     "text": [
      "epoch 133| loss: 0.10925 | train_mse: 0.06223 | train_mae: 0.20132 |  0:00:10s\n",
      "epoch 134| loss: 0.0651  | train_mse: 0.06624 | train_mae: 0.21284 |  0:00:10s\n",
      "epoch 135| loss: 0.06221 | train_mse: 0.05918 | train_mae: 0.20092 |  0:00:10s\n"
     ]
    },
    {
     "name": "stdout",
     "output_type": "stream",
     "text": [
      "epoch 136| loss: 0.06227 | train_mse: 0.04134 | train_mae: 0.16553 |  0:00:10s\n",
      "epoch 137| loss: 0.0806  | train_mse: 0.04066 | train_mae: 0.16426 |  0:00:10s\n",
      "epoch 138| loss: 0.09283 | train_mse: 0.04079 | train_mae: 0.16338 |  0:00:10s\n"
     ]
    },
    {
     "name": "stdout",
     "output_type": "stream",
     "text": [
      "epoch 139| loss: 0.08995 | train_mse: 0.05309 | train_mae: 0.18316 |  0:00:10s\n",
      "epoch 140| loss: 0.15866 | train_mse: 0.07468 | train_mae: 0.20698 |  0:00:10s\n",
      "epoch 141| loss: 0.09707 | train_mse: 0.06215 | train_mae: 0.19644 |  0:00:10s\n",
      "epoch 142| loss: 0.10928 | train_mse: 0.04587 | train_mae: 0.17553 |  0:00:10s\n"
     ]
    },
    {
     "name": "stdout",
     "output_type": "stream",
     "text": [
      "epoch 143| loss: 0.08039 | train_mse: 0.06315 | train_mae: 0.19868 |  0:00:10s\n",
      "epoch 144| loss: 0.09996 | train_mse: 0.07374 | train_mae: 0.20803 |  0:00:10s\n",
      "epoch 145| loss: 0.07793 | train_mse: 0.05984 | train_mae: 0.1926  |  0:00:11s\n",
      "epoch 146| loss: 0.14296 | train_mse: 0.05941 | train_mae: 0.19583 |  0:00:11s\n"
     ]
    },
    {
     "name": "stdout",
     "output_type": "stream",
     "text": [
      "epoch 147| loss: 0.08578 | train_mse: 0.07385 | train_mae: 0.20862 |  0:00:11s\n",
      "epoch 148| loss: 0.20687 | train_mse: 0.06495 | train_mae: 0.19516 |  0:00:11s\n",
      "epoch 149| loss: 0.1464  | train_mse: 0.05038 | train_mae: 0.1788  |  0:00:11s\n"
     ]
    },
    {
     "name": "stdout",
     "output_type": "stream",
     "text": [
      "epoch 150| loss: 0.06995 | train_mse: 0.05692 | train_mae: 0.18482 |  0:00:11s\n",
      "epoch 151| loss: 0.10535 | train_mse: 0.06418 | train_mae: 0.20318 |  0:00:11s\n",
      "epoch 152| loss: 0.088   | train_mse: 0.07971 | train_mae: 0.22975 |  0:00:11s\n"
     ]
    },
    {
     "name": "stdout",
     "output_type": "stream",
     "text": [
      "epoch 153| loss: 0.08726 | train_mse: 0.07561 | train_mae: 0.22393 |  0:00:11s\n",
      "epoch 154| loss: 0.1255  | train_mse: 0.06335 | train_mae: 0.20105 |  0:00:11s\n",
      "epoch 155| loss: 0.06181 | train_mse: 0.05144 | train_mae: 0.1794  |  0:00:11s\n",
      "epoch 156| loss: 0.08657 | train_mse: 0.04759 | train_mae: 0.17467 |  0:00:11s\n"
     ]
    },
    {
     "name": "stdout",
     "output_type": "stream",
     "text": [
      "epoch 157| loss: 0.08374 | train_mse: 0.04462 | train_mae: 0.16992 |  0:00:11s\n",
      "epoch 158| loss: 0.06582 | train_mse: 0.0422  | train_mae: 0.16506 |  0:00:11s\n",
      "epoch 159| loss: 0.08673 | train_mse: 0.04949 | train_mae: 0.17658 |  0:00:11s\n",
      "epoch 160| loss: 0.08403 | train_mse: 0.05693 | train_mae: 0.18927 |  0:00:12s\n"
     ]
    },
    {
     "name": "stdout",
     "output_type": "stream",
     "text": [
      "epoch 161| loss: 0.09921 | train_mse: 0.06319 | train_mae: 0.19694 |  0:00:12s\n",
      "epoch 162| loss: 0.09489 | train_mse: 0.05855 | train_mae: 0.19628 |  0:00:12s\n",
      "epoch 163| loss: 0.1293  | train_mse: 0.05674 | train_mae: 0.19901 |  0:00:12s\n"
     ]
    },
    {
     "name": "stdout",
     "output_type": "stream",
     "text": [
      "epoch 164| loss: 0.08043 | train_mse: 0.05749 | train_mae: 0.19455 |  0:00:12s\n",
      "epoch 165| loss: 0.0708  | train_mse: 0.05561 | train_mae: 0.18874 |  0:00:12s\n",
      "epoch 166| loss: 0.07983 | train_mse: 0.05983 | train_mae: 0.19356 |  0:00:12s\n"
     ]
    },
    {
     "name": "stdout",
     "output_type": "stream",
     "text": [
      "epoch 167| loss: 0.07489 | train_mse: 0.06079 | train_mae: 0.1958  |  0:00:12s\n",
      "epoch 168| loss: 0.11672 | train_mse: 0.05433 | train_mae: 0.18625 |  0:00:12s\n",
      "epoch 169| loss: 0.12489 | train_mse: 0.05821 | train_mae: 0.18999 |  0:00:12s\n",
      "epoch 170| loss: 0.08681 | train_mse: 0.05265 | train_mae: 0.18197 |  0:00:12s\n"
     ]
    },
    {
     "name": "stdout",
     "output_type": "stream",
     "text": [
      "epoch 171| loss: 0.07469 | train_mse: 0.04295 | train_mae: 0.1675  |  0:00:12s\n",
      "epoch 172| loss: 0.08727 | train_mse: 0.04337 | train_mae: 0.16815 |  0:00:12s\n",
      "epoch 173| loss: 0.07895 | train_mse: 0.04408 | train_mae: 0.16784 |  0:00:12s\n",
      "epoch 174| loss: 0.06577 | train_mse: 0.04087 | train_mae: 0.16646 |  0:00:12s\n"
     ]
    },
    {
     "name": "stdout",
     "output_type": "stream",
     "text": [
      "epoch 175| loss: 0.05951 | train_mse: 0.03876 | train_mae: 0.16126 |  0:00:13s\n",
      "epoch 176| loss: 0.1012  | train_mse: 0.05207 | train_mae: 0.17948 |  0:00:13s\n",
      "epoch 177| loss: 0.16841 | train_mse: 0.05903 | train_mae: 0.18839 |  0:00:13s\n",
      "epoch 178| loss: 0.08918 | train_mse: 0.05637 | train_mae: 0.18979 |  0:00:13s\n"
     ]
    },
    {
     "name": "stdout",
     "output_type": "stream",
     "text": [
      "epoch 179| loss: 0.06422 | train_mse: 0.04267 | train_mae: 0.16869 |  0:00:13s\n",
      "epoch 180| loss: 0.1021  | train_mse: 0.04444 | train_mae: 0.17232 |  0:00:13s\n",
      "epoch 181| loss: 0.13056 | train_mse: 0.05834 | train_mae: 0.20058 |  0:00:13s\n"
     ]
    },
    {
     "name": "stdout",
     "output_type": "stream",
     "text": [
      "epoch 182| loss: 0.10402 | train_mse: 0.05822 | train_mae: 0.19794 |  0:00:13s\n",
      "epoch 183| loss: 0.08797 | train_mse: 0.05724 | train_mae: 0.18796 |  0:00:13s\n",
      "epoch 184| loss: 0.1224  | train_mse: 0.0624  | train_mae: 0.19873 |  0:00:13s\n",
      "epoch 185| loss: 0.06717 | train_mse: 0.06422 | train_mae: 0.20571 |  0:00:13s\n"
     ]
    },
    {
     "name": "stdout",
     "output_type": "stream",
     "text": [
      "epoch 186| loss: 0.06957 | train_mse: 0.06831 | train_mae: 0.21017 |  0:00:13s\n",
      "epoch 187| loss: 0.09728 | train_mse: 0.05848 | train_mae: 0.19876 |  0:00:13s\n",
      "epoch 188| loss: 0.08176 | train_mse: 0.05063 | train_mae: 0.17893 |  0:00:13s\n",
      "epoch 189| loss: 0.08854 | train_mse: 0.04519 | train_mae: 0.1696  |  0:00:14s\n"
     ]
    },
    {
     "name": "stdout",
     "output_type": "stream",
     "text": [
      "epoch 190| loss: 0.04314 | train_mse: 0.04624 | train_mae: 0.17242 |  0:00:14s\n",
      "epoch 191| loss: 0.057   | train_mse: 0.05004 | train_mae: 0.16884 |  0:00:14s\n",
      "epoch 192| loss: 0.14336 | train_mse: 0.06722 | train_mae: 0.19727 |  0:00:14s\n",
      "epoch 193| loss: 0.08313 | train_mse: 0.05774 | train_mae: 0.18872 |  0:00:14s\n"
     ]
    },
    {
     "name": "stdout",
     "output_type": "stream",
     "text": [
      "epoch 194| loss: 0.10784 | train_mse: 0.05068 | train_mae: 0.18086 |  0:00:14s\n",
      "epoch 195| loss: 0.13505 | train_mse: 0.07162 | train_mae: 0.20137 |  0:00:14s\n",
      "epoch 196| loss: 0.13346 | train_mse: 0.08597 | train_mae: 0.22398 |  0:00:14s\n"
     ]
    },
    {
     "name": "stdout",
     "output_type": "stream",
     "text": [
      "epoch 197| loss: 0.07573 | train_mse: 0.07267 | train_mae: 0.20681 |  0:00:14s\n",
      "epoch 198| loss: 0.07402 | train_mse: 0.05431 | train_mae: 0.18285 |  0:00:14s\n",
      "epoch 199| loss: 0.07154 | train_mse: 0.05347 | train_mae: 0.18208 |  0:00:14s\n",
      "epoch 200| loss: 0.11598 | train_mse: 0.04576 | train_mae: 0.16928 |  0:00:14s\n"
     ]
    },
    {
     "name": "stdout",
     "output_type": "stream",
     "text": [
      "epoch 201| loss: 0.08099 | train_mse: 0.04838 | train_mae: 0.17985 |  0:00:14s\n",
      "epoch 202| loss: 0.08952 | train_mse: 0.04648 | train_mae: 0.17451 |  0:00:14s\n",
      "epoch 203| loss: 0.04675 | train_mse: 0.04163 | train_mae: 0.16257 |  0:00:14s\n",
      "epoch 204| loss: 0.05953 | train_mse: 0.03746 | train_mae: 0.15236 |  0:00:15s\n"
     ]
    },
    {
     "name": "stdout",
     "output_type": "stream",
     "text": [
      "epoch 205| loss: 0.10484 | train_mse: 0.04104 | train_mae: 0.15682 |  0:00:15s\n",
      "epoch 206| loss: 0.07228 | train_mse: 0.05501 | train_mae: 0.17785 |  0:00:15s\n",
      "epoch 207| loss: 0.1005  | train_mse: 0.07148 | train_mae: 0.21098 |  0:00:15s\n",
      "epoch 208| loss: 0.14751 | train_mse: 0.06126 | train_mae: 0.18751 |  0:00:15s\n"
     ]
    },
    {
     "name": "stdout",
     "output_type": "stream",
     "text": [
      "epoch 209| loss: 0.11915 | train_mse: 0.06464 | train_mae: 0.19059 |  0:00:15s\n",
      "epoch 210| loss: 0.08451 | train_mse: 0.06776 | train_mae: 0.18825 |  0:00:15s\n",
      "epoch 211| loss: 0.11541 | train_mse: 0.06442 | train_mae: 0.19637 |  0:00:15s\n"
     ]
    },
    {
     "name": "stdout",
     "output_type": "stream",
     "text": [
      "epoch 212| loss: 0.06752 | train_mse: 0.07137 | train_mae: 0.20503 |  0:00:15s\n",
      "epoch 213| loss: 0.06911 | train_mse: 0.06587 | train_mae: 0.19535 |  0:00:15s\n",
      "epoch 214| loss: 0.06267 | train_mse: 0.06278 | train_mae: 0.19944 |  0:00:15s\n",
      "epoch 215| loss: 0.11587 | train_mse: 0.05881 | train_mae: 0.19135 |  0:00:15s\n"
     ]
    },
    {
     "name": "stdout",
     "output_type": "stream",
     "text": [
      "epoch 216| loss: 0.05189 | train_mse: 0.05866 | train_mae: 0.18286 |  0:00:15s\n",
      "epoch 217| loss: 0.06849 | train_mse: 0.06039 | train_mae: 0.18129 |  0:00:15s\n",
      "epoch 218| loss: 0.0854  | train_mse: 0.05178 | train_mae: 0.17511 |  0:00:15s\n",
      "epoch 219| loss: 0.09075 | train_mse: 0.06078 | train_mae: 0.19025 |  0:00:16s\n"
     ]
    },
    {
     "name": "stdout",
     "output_type": "stream",
     "text": [
      "epoch 220| loss: 0.10378 | train_mse: 0.07949 | train_mae: 0.2087  |  0:00:16s\n",
      "epoch 221| loss: 0.20485 | train_mse: 0.08188 | train_mae: 0.20866 |  0:00:16s\n",
      "epoch 222| loss: 0.09206 | train_mse: 0.07288 | train_mae: 0.19735 |  0:00:16s\n",
      "epoch 223| loss: 0.12488 | train_mse: 0.05402 | train_mae: 0.17768 |  0:00:16s\n"
     ]
    },
    {
     "name": "stdout",
     "output_type": "stream",
     "text": [
      "epoch 224| loss: 0.10366 | train_mse: 0.05184 | train_mae: 0.17782 |  0:00:16s\n",
      "epoch 225| loss: 0.08372 | train_mse: 0.08935 | train_mae: 0.2288  |  0:00:16s\n",
      "epoch 226| loss: 0.06029 | train_mse: 0.11804 | train_mae: 0.26364 |  0:00:16s\n"
     ]
    },
    {
     "name": "stdout",
     "output_type": "stream",
     "text": [
      "epoch 227| loss: 0.10959 | train_mse: 0.08985 | train_mae: 0.22189 |  0:00:16s\n",
      "epoch 228| loss: 0.09912 | train_mse: 0.05044 | train_mae: 0.17264 |  0:00:16s\n",
      "epoch 229| loss: 0.05307 | train_mse: 0.04693 | train_mae: 0.17146 |  0:00:16s\n",
      "epoch 230| loss: 0.07811 | train_mse: 0.04042 | train_mae: 0.16613 |  0:00:16s\n"
     ]
    },
    {
     "name": "stdout",
     "output_type": "stream",
     "text": [
      "epoch 231| loss: 0.04661 | train_mse: 0.03404 | train_mae: 0.14895 |  0:00:16s\n",
      "epoch 232| loss: 0.09582 | train_mse: 0.03531 | train_mae: 0.15112 |  0:00:16s\n",
      "epoch 233| loss: 0.05305 | train_mse: 0.0344  | train_mae: 0.14662 |  0:00:16s\n"
     ]
    },
    {
     "name": "stdout",
     "output_type": "stream",
     "text": [
      "epoch 234| loss: 0.05539 | train_mse: 0.034   | train_mae: 0.14674 |  0:00:17s\n",
      "epoch 235| loss: 0.10722 | train_mse: 0.03841 | train_mae: 0.15742 |  0:00:17s\n",
      "epoch 236| loss: 0.05787 | train_mse: 0.04564 | train_mae: 0.17016 |  0:00:17s\n",
      "epoch 237| loss: 0.07165 | train_mse: 0.04121 | train_mae: 0.15878 |  0:00:17s\n"
     ]
    },
    {
     "name": "stdout",
     "output_type": "stream",
     "text": [
      "epoch 238| loss: 0.053   | train_mse: 0.03534 | train_mae: 0.15006 |  0:00:17s\n",
      "epoch 239| loss: 0.0608  | train_mse: 0.03514 | train_mae: 0.15292 |  0:00:17s\n",
      "epoch 240| loss: 0.08529 | train_mse: 0.03886 | train_mae: 0.1612  |  0:00:17s\n"
     ]
    },
    {
     "name": "stdout",
     "output_type": "stream",
     "text": [
      "epoch 241| loss: 0.07342 | train_mse: 0.04115 | train_mae: 0.1633  |  0:00:17s\n",
      "epoch 242| loss: 0.06835 | train_mse: 0.03404 | train_mae: 0.14738 |  0:00:17s\n",
      "epoch 243| loss: 0.07532 | train_mse: 0.03155 | train_mae: 0.14336 |  0:00:17s\n",
      "epoch 244| loss: 0.04148 | train_mse: 0.03454 | train_mae: 0.15096 |  0:00:17s\n"
     ]
    },
    {
     "name": "stdout",
     "output_type": "stream",
     "text": [
      "epoch 245| loss: 0.06344 | train_mse: 0.03328 | train_mae: 0.14628 |  0:00:17s\n",
      "epoch 246| loss: 0.07199 | train_mse: 0.03876 | train_mae: 0.15822 |  0:00:17s\n",
      "epoch 247| loss: 0.09263 | train_mse: 0.03787 | train_mae: 0.1584  |  0:00:17s\n",
      "epoch 248| loss: 0.05494 | train_mse: 0.03726 | train_mae: 0.15254 |  0:00:17s\n"
     ]
    },
    {
     "name": "stdout",
     "output_type": "stream",
     "text": [
      "epoch 249| loss: 0.16293 | train_mse: 0.03612 | train_mae: 0.15015 |  0:00:18s\n",
      "epoch 250| loss: 0.09824 | train_mse: 0.04153 | train_mae: 0.16108 |  0:00:18s\n",
      "epoch 251| loss: 0.11703 | train_mse: 0.06584 | train_mae: 0.19834 |  0:00:18s\n"
     ]
    },
    {
     "name": "stdout",
     "output_type": "stream",
     "text": [
      "epoch 252| loss: 0.09835 | train_mse: 0.05559 | train_mae: 0.17449 |  0:00:18s\n",
      "epoch 253| loss: 0.0873  | train_mse: 0.04268 | train_mae: 0.15848 |  0:00:18s\n",
      "epoch 254| loss: 0.09352 | train_mse: 0.04043 | train_mae: 0.15912 |  0:00:18s\n"
     ]
    },
    {
     "name": "stdout",
     "output_type": "stream",
     "text": [
      "epoch 255| loss: 0.09593 | train_mse: 0.04041 | train_mae: 0.1528  |  0:00:18s\n",
      "epoch 256| loss: 0.09559 | train_mse: 0.06154 | train_mae: 0.18618 |  0:00:18s\n",
      "epoch 257| loss: 0.09081 | train_mse: 0.04951 | train_mae: 0.17322 |  0:00:18s\n",
      "epoch 258| loss: 0.05784 | train_mse: 0.04631 | train_mae: 0.17128 |  0:00:18s\n"
     ]
    },
    {
     "name": "stdout",
     "output_type": "stream",
     "text": [
      "epoch 259| loss: 0.06924 | train_mse: 0.04692 | train_mae: 0.17268 |  0:00:18s\n",
      "epoch 260| loss: 0.0911  | train_mse: 0.04035 | train_mae: 0.16062 |  0:00:18s\n",
      "epoch 261| loss: 0.08907 | train_mse: 0.04046 | train_mae: 0.15833 |  0:00:18s\n",
      "epoch 262| loss: 0.08674 | train_mse: 0.03988 | train_mae: 0.15802 |  0:00:18s\n"
     ]
    },
    {
     "name": "stdout",
     "output_type": "stream",
     "text": [
      "epoch 263| loss: 0.05183 | train_mse: 0.05764 | train_mae: 0.18339 |  0:00:19s\n",
      "epoch 264| loss: 0.04604 | train_mse: 0.07031 | train_mae: 0.20031 |  0:00:19s\n",
      "epoch 265| loss: 0.09114 | train_mse: 0.0612  | train_mae: 0.18986 |  0:00:19s\n",
      "epoch 266| loss: 0.05616 | train_mse: 0.07478 | train_mae: 0.20861 |  0:00:19s\n"
     ]
    },
    {
     "name": "stdout",
     "output_type": "stream",
     "text": [
      "epoch 267| loss: 0.13572 | train_mse: 0.07978 | train_mae: 0.21328 |  0:00:19s\n",
      "epoch 268| loss: 0.07298 | train_mse: 0.06002 | train_mae: 0.18701 |  0:00:19s\n",
      "epoch 269| loss: 0.10151 | train_mse: 0.07261 | train_mae: 0.19722 |  0:00:19s\n"
     ]
    },
    {
     "name": "stdout",
     "output_type": "stream",
     "text": [
      "epoch 270| loss: 0.05553 | train_mse: 0.08541 | train_mae: 0.2109  |  0:00:19s\n",
      "epoch 271| loss: 0.15824 | train_mse: 0.06917 | train_mae: 0.19388 |  0:00:19s\n",
      "epoch 272| loss: 0.06979 | train_mse: 0.0627  | train_mae: 0.18679 |  0:00:19s\n",
      "epoch 273| loss: 0.0622  | train_mse: 0.05072 | train_mae: 0.1669  |  0:00:19s\n"
     ]
    },
    {
     "name": "stdout",
     "output_type": "stream",
     "text": [
      "epoch 274| loss: 0.06997 | train_mse: 0.04462 | train_mae: 0.16243 |  0:00:19s\n",
      "epoch 275| loss: 0.08808 | train_mse: 0.03865 | train_mae: 0.15357 |  0:00:19s\n",
      "epoch 276| loss: 0.05009 | train_mse: 0.0417  | train_mae: 0.15407 |  0:00:19s\n",
      "epoch 277| loss: 0.0519  | train_mse: 0.04469 | train_mae: 0.16316 |  0:00:19s\n"
     ]
    },
    {
     "name": "stdout",
     "output_type": "stream",
     "text": [
      "epoch 278| loss: 0.08574 | train_mse: 0.04109 | train_mae: 0.15958 |  0:00:20s\n",
      "epoch 279| loss: 0.0482  | train_mse: 0.0446  | train_mae: 0.16577 |  0:00:20s\n",
      "epoch 280| loss: 0.04739 | train_mse: 0.05102 | train_mae: 0.17412 |  0:00:20s\n",
      "epoch 281| loss: 0.06944 | train_mse: 0.05264 | train_mae: 0.17864 |  0:00:20s\n"
     ]
    },
    {
     "name": "stdout",
     "output_type": "stream",
     "text": [
      "epoch 282| loss: 0.07304 | train_mse: 0.03998 | train_mae: 0.1633  |  0:00:20s\n",
      "epoch 283| loss: 0.06273 | train_mse: 0.03659 | train_mae: 0.15501 |  0:00:20s\n",
      "epoch 284| loss: 0.10412 | train_mse: 0.02963 | train_mae: 0.14027 |  0:00:20s\n"
     ]
    },
    {
     "name": "stdout",
     "output_type": "stream",
     "text": [
      "epoch 285| loss: 0.06165 | train_mse: 0.03138 | train_mae: 0.13972 |  0:00:20s\n",
      "epoch 286| loss: 0.04284 | train_mse: 0.03933 | train_mae: 0.15441 |  0:00:20s\n",
      "epoch 287| loss: 0.07479 | train_mse: 0.03535 | train_mae: 0.15244 |  0:00:20s\n",
      "epoch 288| loss: 0.06126 | train_mse: 0.03193 | train_mae: 0.14348 |  0:00:20s\n"
     ]
    },
    {
     "name": "stdout",
     "output_type": "stream",
     "text": [
      "epoch 289| loss: 0.05808 | train_mse: 0.02892 | train_mae: 0.1331  |  0:00:20s\n",
      "epoch 290| loss: 0.09994 | train_mse: 0.02895 | train_mae: 0.13242 |  0:00:20s\n",
      "epoch 291| loss: 0.05128 | train_mse: 0.02919 | train_mae: 0.13474 |  0:00:20s\n",
      "epoch 292| loss: 0.05867 | train_mse: 0.03299 | train_mae: 0.14814 |  0:00:20s\n"
     ]
    },
    {
     "name": "stdout",
     "output_type": "stream",
     "text": [
      "epoch 293| loss: 0.10271 | train_mse: 0.04096 | train_mae: 0.15697 |  0:00:21s\n",
      "epoch 294| loss: 0.19314 | train_mse: 0.04139 | train_mae: 0.15884 |  0:00:21s\n",
      "epoch 295| loss: 0.0636  | train_mse: 0.04061 | train_mae: 0.16139 |  0:00:21s\n",
      "epoch 296| loss: 0.06078 | train_mse: 0.04427 | train_mae: 0.17101 |  0:00:21s\n"
     ]
    },
    {
     "name": "stdout",
     "output_type": "stream",
     "text": [
      "epoch 297| loss: 0.06229 | train_mse: 0.04234 | train_mae: 0.1641  |  0:00:21s\n",
      "epoch 298| loss: 0.07287 | train_mse: 0.04346 | train_mae: 0.15998 |  0:00:21s\n",
      "epoch 299| loss: 0.05941 | train_mse: 0.04925 | train_mae: 0.16746 |  0:00:21s\n"
     ]
    },
    {
     "name": "stdout",
     "output_type": "stream",
     "text": [
      "epoch 300| loss: 0.11625 | train_mse: 0.04793 | train_mae: 0.16678 |  0:00:21s\n",
      "epoch 301| loss: 0.07113 | train_mse: 0.05111 | train_mae: 0.17969 |  0:00:21s\n",
      "epoch 302| loss: 0.08761 | train_mse: 0.03931 | train_mae: 0.15649 |  0:00:21s\n",
      "epoch 303| loss: 0.05741 | train_mse: 0.03493 | train_mae: 0.14932 |  0:00:21s\n"
     ]
    },
    {
     "name": "stdout",
     "output_type": "stream",
     "text": [
      "epoch 304| loss: 0.04616 | train_mse: 0.03185 | train_mae: 0.14646 |  0:00:21s\n",
      "epoch 305| loss: 0.11413 | train_mse: 0.02945 | train_mae: 0.13966 |  0:00:21s\n",
      "epoch 306| loss: 0.12358 | train_mse: 0.03143 | train_mae: 0.14102 |  0:00:21s\n",
      "epoch 307| loss: 0.06385 | train_mse: 0.02947 | train_mae: 0.13942 |  0:00:21s\n"
     ]
    },
    {
     "name": "stdout",
     "output_type": "stream",
     "text": [
      "epoch 308| loss: 0.04877 | train_mse: 0.0324  | train_mae: 0.14822 |  0:00:22s\n",
      "epoch 309| loss: 0.17777 | train_mse: 0.04115 | train_mae: 0.15935 |  0:00:22s\n",
      "epoch 310| loss: 0.05561 | train_mse: 0.04509 | train_mae: 0.16517 |  0:00:22s\n"
     ]
    },
    {
     "name": "stdout",
     "output_type": "stream",
     "text": [
      "epoch 311| loss: 0.06872 | train_mse: 0.04907 | train_mae: 0.17347 |  0:00:22s\n",
      "epoch 312| loss: 0.08358 | train_mse: 0.05137 | train_mae: 0.17381 |  0:00:22s\n",
      "epoch 313| loss: 0.04886 | train_mse: 0.04278 | train_mae: 0.16645 |  0:00:22s\n"
     ]
    },
    {
     "name": "stdout",
     "output_type": "stream",
     "text": [
      "epoch 314| loss: 0.09181 | train_mse: 0.0474  | train_mae: 0.176   |  0:00:22s\n",
      "epoch 315| loss: 0.06133 | train_mse: 0.04801 | train_mae: 0.17428 |  0:00:22s\n",
      "epoch 316| loss: 0.05691 | train_mse: 0.04531 | train_mae: 0.16772 |  0:00:22s\n",
      "epoch 317| loss: 0.12566 | train_mse: 0.03087 | train_mae: 0.14334 |  0:00:22s\n"
     ]
    },
    {
     "name": "stdout",
     "output_type": "stream",
     "text": [
      "epoch 318| loss: 0.08027 | train_mse: 0.02754 | train_mae: 0.13768 |  0:00:22s\n",
      "epoch 319| loss: 0.06817 | train_mse: 0.03574 | train_mae: 0.15699 |  0:00:22s\n",
      "epoch 320| loss: 0.05419 | train_mse: 0.0333  | train_mae: 0.14601 |  0:00:22s\n",
      "epoch 321| loss: 0.07394 | train_mse: 0.03987 | train_mae: 0.15262 |  0:00:22s\n"
     ]
    },
    {
     "name": "stdout",
     "output_type": "stream",
     "text": [
      "epoch 322| loss: 0.10046 | train_mse: 0.05    | train_mae: 0.16709 |  0:00:22s\n",
      "epoch 323| loss: 0.06924 | train_mse: 0.0491  | train_mae: 0.17266 |  0:00:23s\n"
     ]
    },
    {
     "name": "stdout",
     "output_type": "stream",
     "text": [
      "epoch 324| loss: 0.06759 | train_mse: 0.04862 | train_mae: 0.16833 |  0:00:23s\n",
      "epoch 325| loss: 0.04698 | train_mse: 0.03251 | train_mae: 0.14428 |  0:00:23s\n",
      "epoch 326| loss: 0.06767 | train_mse: 0.03894 | train_mae: 0.15423 |  0:00:23s\n"
     ]
    },
    {
     "name": "stdout",
     "output_type": "stream",
     "text": [
      "epoch 327| loss: 0.07941 | train_mse: 0.03949 | train_mae: 0.15565 |  0:00:23s\n",
      "epoch 328| loss: 0.05833 | train_mse: 0.03579 | train_mae: 0.14973 |  0:00:23s\n",
      "epoch 329| loss: 0.07447 | train_mse: 0.03493 | train_mae: 0.15053 |  0:00:23s\n",
      "epoch 330| loss: 0.06129 | train_mse: 0.03699 | train_mae: 0.15331 |  0:00:23s\n"
     ]
    },
    {
     "name": "stdout",
     "output_type": "stream",
     "text": [
      "epoch 331| loss: 0.03973 | train_mse: 0.03225 | train_mae: 0.14242 |  0:00:23s\n",
      "epoch 332| loss: 0.07142 | train_mse: 0.03092 | train_mae: 0.14048 |  0:00:23s\n",
      "epoch 333| loss: 0.04973 | train_mse: 0.03547 | train_mae: 0.15277 |  0:00:23s\n"
     ]
    },
    {
     "name": "stdout",
     "output_type": "stream",
     "text": [
      "epoch 334| loss: 0.12189 | train_mse: 0.03716 | train_mae: 0.15769 |  0:00:23s\n",
      "epoch 335| loss: 0.06682 | train_mse: 0.03924 | train_mae: 0.16187 |  0:00:23s\n",
      "epoch 336| loss: 0.06325 | train_mse: 0.03605 | train_mae: 0.1545  |  0:00:24s\n",
      "epoch 337| loss: 0.06101 | train_mse: 0.03358 | train_mae: 0.15241 |  0:00:24s\n"
     ]
    },
    {
     "name": "stdout",
     "output_type": "stream",
     "text": [
      "epoch 338| loss: 0.07822 | train_mse: 0.03078 | train_mae: 0.14156 |  0:00:24s\n",
      "epoch 339| loss: 0.08675 | train_mse: 0.02764 | train_mae: 0.13453 |  0:00:24s\n",
      "epoch 340| loss: 0.06177 | train_mse: 0.02831 | train_mae: 0.143   |  0:00:24s\n",
      "\n",
      "Early stopping occurred at epoch 340 with best_epoch = 290 and best_train_mae = 0.13242\n",
      "Best weights from best epoch are automatically used!\n"
     ]
    }
   ],
   "source": [
    "#Train the Model\n",
    "\n",
    "Y_train = np.reshape(Y_train, (-1, 1))\n",
    "Y_test = np.reshape(Y_test, (-1, 1))\n",
    "\n",
    "prior_model = TabNetRegressor(optimizer_fn=torch.optim.Adam, optimizer_params=dict(lr = 0.02),\n",
    "          #scheduler_params={\"step_size\":10, ], \"gamma\":0.9},\n",
    "          #scheduler_fn=torch.optim.lr_scheduler.StepLR\n",
    "          )  #TabNetRegressor()\n",
    "\n",
    "prior_model.fit(X_train,Y_train,eval_set=[(X_train, Y_train)],\n",
    "            eval_name=['train'], \n",
    "            eval_metric=[ 'mse', 'mae'], \n",
    "            max_epochs = n_epochs, \n",
    "            batch_size = batch_size,\n",
    "            patience=50\n",
    "            )"
   ]
  },
  {
   "cell_type": "code",
   "execution_count": 10,
   "id": "af65dcda",
   "metadata": {
    "execution": {
     "iopub.execute_input": "2022-06-22T13:05:02.406766Z",
     "iopub.status.busy": "2022-06-22T13:05:02.405693Z",
     "iopub.status.idle": "2022-06-22T13:05:02.428343Z",
     "shell.execute_reply": "2022-06-22T13:05:02.428976Z"
    },
    "id": "af65dcda",
    "papermill": {
     "duration": 0.083452,
     "end_time": "2022-06-22T13:05:02.429228",
     "exception": false,
     "start_time": "2022-06-22T13:05:02.345776",
     "status": "completed"
    },
    "tags": []
   },
   "outputs": [
    {
     "data": {
      "application/scrapbook.scrap.json+json": {
       "data": 0.10230101200247488,
       "encoder": "json",
       "name": "Prior Model MSE",
       "version": 1
      }
     },
     "metadata": {
      "scrapbook": {
       "data": true,
       "display": false,
       "name": "Prior Model MSE"
      }
     },
     "output_type": "display_data"
    },
    {
     "data": {
      "application/scrapbook.scrap.json+json": {
       "data": 1.3443125384146242,
       "encoder": "json",
       "name": "ABC Pre-generator MSE",
       "version": 1
      }
     },
     "metadata": {
      "scrapbook": {
       "data": true,
       "display": false,
       "name": "ABC Pre-generator MSE"
      }
     },
     "output_type": "display_data"
    },
    {
     "data": {
      "application/scrapbook.scrap.json+json": {
       "data": 0.25703523865150585,
       "encoder": "json",
       "name": "Prior Model MSE",
       "version": 1
      }
     },
     "metadata": {
      "scrapbook": {
       "data": true,
       "display": false,
       "name": "Prior Model MSE"
      }
     },
     "output_type": "display_data"
    },
    {
     "data": {
      "application/scrapbook.scrap.json+json": {
       "data": 0.9421360337440252,
       "encoder": "json",
       "name": "ABC Pre-generator MSE",
       "version": 1
      }
     },
     "metadata": {
      "scrapbook": {
       "data": true,
       "display": false,
       "name": "ABC Pre-generator MSE"
      }
     },
     "output_type": "display_data"
    }
   ],
   "source": [
    "y_pred = prior_model.predict(X_test)\n",
    "y_abc = y_pred + np.random.normal(0,variance, y_pred.shape) + bias \n",
    "mse = mean_squared_error(y_pred,Y_test)\n",
    "sb.glue(\"Prior Model MSE\",mse)\n",
    "mse = mean_squared_error(y_abc,Y_test)\n",
    "sb.glue(\"ABC Pre-generator MSE\",mse)\n",
    "mae = mean_absolute_error(y_pred,Y_test)\n",
    "sb.glue(\"Prior Model MSE\",mae)\n",
    "mae = mean_absolute_error(y_abc,Y_test)\n",
    "sb.glue(\"ABC Pre-generator MSE\",mae)"
   ]
  },
  {
   "cell_type": "markdown",
   "id": "25609da2",
   "metadata": {
    "papermill": {
     "duration": 0.056923,
     "end_time": "2022-06-22T13:05:02.563924",
     "exception": false,
     "start_time": "2022-06-22T13:05:02.507001",
     "status": "completed"
    },
    "tags": []
   },
   "source": [
    "# ABC GAN Model"
   ]
  },
  {
   "cell_type": "code",
   "execution_count": 11,
   "id": "dfc3464d",
   "metadata": {
    "execution": {
     "iopub.execute_input": "2022-06-22T13:05:02.691809Z",
     "iopub.status.busy": "2022-06-22T13:05:02.688981Z",
     "iopub.status.idle": "2022-06-22T13:05:02.696633Z",
     "shell.execute_reply": "2022-06-22T13:05:02.697262Z"
    },
    "papermill": {
     "duration": 0.094234,
     "end_time": "2022-06-22T13:05:02.697504",
     "exception": false,
     "start_time": "2022-06-22T13:05:02.603270",
     "status": "completed"
    },
    "tags": []
   },
   "outputs": [],
   "source": [
    "gen = network.Generator(n_features+1).to(device)\n",
    "disc = network.Discriminator(n_features+1).to(device)\n",
    "\n",
    "criterion = torch.nn.BCELoss()\n",
    "gen_opt = torch.optim.Adam(gen.parameters(), lr=0.001, betas=(0.5, 0.999))\n",
    "disc_opt = torch.optim.Adam(disc.parameters(), lr=0.001, betas=(0.5, 0.999))"
   ]
  },
  {
   "cell_type": "code",
   "execution_count": 12,
   "id": "b75fdd85",
   "metadata": {
    "execution": {
     "iopub.execute_input": "2022-06-22T13:05:02.788272Z",
     "iopub.status.busy": "2022-06-22T13:05:02.787341Z",
     "iopub.status.idle": "2022-06-22T13:05:43.983553Z",
     "shell.execute_reply": "2022-06-22T13:05:43.984095Z"
    },
    "papermill": {
     "duration": 41.245482,
     "end_time": "2022-06-22T13:05:43.984302",
     "exception": false,
     "start_time": "2022-06-22T13:05:02.738820",
     "status": "completed"
    },
    "tags": []
   },
   "outputs": [
    {
     "data": {
      "image/png": "[encoded data removed]",
      "text/plain": [
       "<Figure size 432x288 with 1 Axes>"
      ]
     },
     "metadata": {
      "needs_background": "light"
     },
     "output_type": "display_data"
    },
    {
     "data": {
      "image/png": "[encoded data removed]",
      "text/plain": [
       "<Figure size 432x288 with 1 Axes>"
      ]
     },
     "metadata": {
      "needs_background": "light"
     },
     "output_type": "display_data"
    }
   ],
   "source": [
    "#Training the ABC_GAN \n",
    "ABC_train_test2.training_GAN(disc,gen,disc_opt,gen_opt,train_data,batch_size,n_epochs,criterion,prior_model,variance,bias,device)"
   ]
  },
  {
   "cell_type": "code",
   "execution_count": 13,
   "id": "1fa7c368",
   "metadata": {
    "execution": {
     "iopub.execute_input": "2022-06-22T13:05:44.111668Z",
     "iopub.status.busy": "2022-06-22T13:05:44.110576Z",
     "iopub.status.idle": "2022-06-22T13:05:44.761096Z",
     "shell.execute_reply": "2022-06-22T13:05:44.761574Z"
    },
    "papermill": {
     "duration": 0.737009,
     "end_time": "2022-06-22T13:05:44.761900",
     "exception": false,
     "start_time": "2022-06-22T13:05:44.024891",
     "status": "completed"
    },
    "tags": []
   },
   "outputs": [
    {
     "data": {
      "application/scrapbook.scrap.json+json": {
       "data": 0.10317094394961493,
       "encoder": "json",
       "name": "ABC-GAN Model 1 MSE",
       "version": 1
      }
     },
     "metadata": {
      "scrapbook": {
       "data": true,
       "display": false,
       "name": "ABC-GAN Model 1 MSE"
      }
     },
     "output_type": "display_data"
    },
    {
     "data": {
      "application/scrapbook.scrap.json+json": {
       "data": 0.23783314464241265,
       "encoder": "json",
       "name": "ABC-GAN Model 1 MAE",
       "version": 1
      }
     },
     "metadata": {
      "scrapbook": {
       "data": true,
       "display": false,
       "name": "ABC-GAN Model 1 MAE"
      }
     },
     "output_type": "display_data"
    },
    {
     "data": {
      "application/scrapbook.scrap.json+json": {
       "data": 4.7566628928482535,
       "encoder": "json",
       "name": "ABC-GAN Model 1 Manhattan Distance",
       "version": 1
      }
     },
     "metadata": {
      "scrapbook": {
       "data": true,
       "display": false,
       "name": "ABC-GAN Model 1 Manhattan Distance"
      }
     },
     "output_type": "display_data"
    },
    {
     "data": {
      "application/scrapbook.scrap.json+json": {
       "data": 1.4226178626879236,
       "encoder": "json",
       "name": "ABC-GAN Model 1 Euclidean distance",
       "version": 1
      }
     },
     "metadata": {
      "scrapbook": {
       "data": true,
       "display": false,
       "name": "ABC-GAN Model 1 Euclidean distance"
      }
     },
     "output_type": "display_data"
    },
    {
     "data": {
      "application/scrapbook.scrap.json+json": {
       "data": [
        [
         0.08574756604151884,
         0.1014325221435874,
         0.07484772984961428,
         0.09743622819629462,
         0.07734612450247616,
         0.10597647881573571,
         0.08276332708384417,
         0.11838485955933184,
         0.08706888864386372,
         0.08663938784640514,
         0.11977117949554286,
         0.07691684437598162,
         0.1052441283831214,
         0.09392496773100129,
         0.08021108146721209,
         0.0814162476426624,
         0.08896619924835095,
         0.0764862588246017,
         0.1056178865583723,
         0.07755401801813787,
         0.07677708464803021,
         0.10185360832870032,
         0.11146342471491213,
         0.0738066929456061,
         0.14968603740047493,
         0.09819833894093102,
         0.08921218166960908,
         0.18295764492369354,
         0.09575764810385158,
         0.0975862636762857,
         0.07530673389054152,
         0.1000326701121423,
         0.08566436375260446,
         0.07482737045611035,
         0.1831943115457905,
         0.06718178468070889,
         0.13890923852703776,
         0.11507977082219267,
         0.0933445669309597,
         0.07281899788257876,
         0.08051725245678992,
         0.07322216554875718,
         0.15952673359053823,
         0.1720196617080036,
         0.06988402286801684,
         0.18684498209051054,
         0.09277685422886137,
         0.09693002184249712,
         0.0996796350969433,
         0.06999992230111915,
         0.09965638573123538,
         0.08875865291837971,
         0.08663289682872538,
         0.07627664402618622,
         0.1603461016317939,
         0.06883659685932121,
         0.07106233076305785,
         0.1587185015212315,
         0.07925137338027227,
         0.07038029159837658,
         0.15158299544488316,
         0.11029588740961738,
         0.09814745251050248,
         0.07429341728630498,
         0.09033556391214069,
         0.08460373571063742,
         0.1334247746231858,
         0.07916022147303706,
         0.11100338500663617,
         0.11247623639864268,
         0.08758956137767862,
         0.10805228112751926,
         0.08696685076175253,
         0.11397768443579173,
         0.1694809792922948,
         0.10221115389423385,
         0.07687794229242925,
         0.14877345661301003,
         0.12205857348843727,
         0.08512577049738682,
         0.15800682227845617,
         0.11781115078796969,
         0.0834092194675594,
         0.07939034562704814,
         0.08212853415617688,
         0.18153394410755444,
         0.10859226590722315,
         0.08702166802901133,
         0.14415147193830374,
         0.1096691865841235,
         0.10651930249523556,
         0.11814666538092027,
         0.12677069129228782,
         0.09564980027441737,
         0.07587889137747227,
         0.13352611009276902,
         0.07705098282806785,
         0.06868667776117193,
         0.11798689265853154,
         0.12999416299003594
        ],
        [
         0.2330840654671192,
         0.24386024996638297,
         0.21796484366059304,
         0.2374277077615261,
         0.22577834203839303,
         0.24030117318034172,
         0.22355777397751808,
         0.24396988227963448,
         0.22361029610037803,
         0.2309015490114689,
         0.25615583434700967,
         0.2202658735215664,
         0.24771951660513877,
         0.23846278265118598,
         0.22940080240368843,
         0.23170261457562447,
         0.23274441733956336,
         0.21698492765426636,
         0.25668429508805274,
         0.22701395228505133,
         0.2201570264995098,
         0.24639956429600715,
         0.2487299807369709,
         0.21714967414736747,
         0.2596017859876156,
         0.22342361882328987,
         0.23010858967900277,
         0.27370988950133324,
         0.2484250120818615,
         0.24276819601655006,
         0.22200915440917016,
         0.24958444908261299,
         0.23389982357621192,
         0.21186545863747597,
         0.2831215672194958,
         0.20406687185168265,
         0.2585490979254246,
         0.2417782001197338,
         0.2293037809431553,
         0.20820921733975412,
         0.2250913731753826,
         0.22370567992329599,
         0.25836193934082985,
         0.26979666873812674,
         0.21740769371390342,
         0.27042072638869286,
         0.24598367437720298,
         0.2304101012647152,
         0.24188175722956656,
         0.21559616550803185,
         0.24238839074969293,
         0.23248905763030053,
         0.22823627218604087,
         0.2144682787358761,
         0.27705461755394933,
         0.21247876957058906,
         0.2144120417535305,
         0.2599007301032543,
         0.21893284544348718,
         0.20984626486897467,
         0.2653941161930561,
         0.2523682497441769,
         0.23042843118309975,
         0.21691968962550162,
         0.24047140255570412,
         0.22065634950995444,
         0.252751762419939,
         0.21207655742764472,
         0.23804346695542336,
         0.2326757751405239,
         0.23294507786631585,
         0.24039435610175133,
         0.23064625784754753,
         0.2529443882405758,
         0.26003464236855506,
         0.24800247624516486,
         0.2187500648200512,
         0.26559621915221215,
         0.24410876706242562,
         0.2194282628595829,
         0.2640081845223904,
         0.2570961244404316,
         0.23021186366677285,
         0.231419787555933,
         0.22462136670947075,
         0.2810204394161701,
         0.2398183114826679,
         0.23370032384991646,
         0.26419265642762185,
         0.25184490755200384,
         0.2501432605087757,
         0.24706152752041816,
         0.24877207353711128,
         0.25312846079468726,
         0.22301126644015312,
         0.24507792964577674,
         0.2188275046646595,
         0.21446534767746925,
         0.2403211109340191,
         0.2506207965314388
        ],
        [
         4.661681309342384,
         4.87720499932766,
         4.359296873211861,
         4.748554155230522,
         4.51556684076786,
         4.806023463606834,
         4.471155479550362,
         4.8793976455926895,
         4.472205922007561,
         4.618030980229378,
         5.123116686940193,
         4.405317470431328,
         4.954390332102776,
         4.76925565302372,
         4.588016048073769,
         4.634052291512489,
         4.654888346791267,
         4.339698553085327,
         5.133685901761055,
         4.540279045701027,
         4.403140529990196,
         4.927991285920143,
         4.974599614739418,
         4.3429934829473495,
         5.192035719752312,
         4.468472376465797,
         4.602171793580055,
         5.474197790026665,
         4.96850024163723,
         4.855363920331001,
         4.440183088183403,
         4.99168898165226,
         4.677996471524239,
         4.237309172749519,
         5.6624313443899155,
         4.081337437033653,
         5.1709819585084915,
         4.835564002394676,
         4.586075618863106,
         4.164184346795082,
         4.501827463507652,
         4.4741135984659195,
         5.167238786816597,
         5.395933374762535,
         4.3481538742780685,
         5.408414527773857,
         4.91967348754406,
         4.608202025294304,
         4.8376351445913315,
         4.311923310160637,
         4.847767814993858,
         4.64978115260601,
         4.564725443720818,
         4.289365574717522,
         5.541092351078987,
         4.249575391411781,
         4.28824083507061,
         5.198014602065086,
         4.378656908869743,
         4.196925297379494,
         5.307882323861122,
         5.047364994883537,
         4.608568623661995,
         4.338393792510033,
         4.809428051114082,
         4.413126990199089,
         5.055035248398781,
         4.241531148552895,
         4.760869339108467,
         4.653515502810478,
         4.658901557326317,
         4.8078871220350266,
         4.612925156950951,
         5.058887764811516,
         5.200692847371101,
         4.960049524903297,
         4.375001296401024,
         5.311924383044243,
         4.882175341248512,
         4.388565257191658,
         5.280163690447807,
         5.141922488808632,
         4.604237273335457,
         4.62839575111866,
         4.492427334189415,
         5.620408788323402,
         4.7963662296533585,
         4.674006476998329,
         5.283853128552437,
         5.036898151040077,
         5.002865210175514,
         4.941230550408363,
         4.975441470742226,
         5.062569215893745,
         4.460225328803062,
         4.901558592915535,
         4.37655009329319,
         4.289306953549385,
         4.806422218680382,
         5.0124159306287766
        ],
        [
         1.3095614994456644,
         1.4243070044311894,
         1.2235009591301045,
         1.395967250305641,
         1.243753387954993,
         1.455860424736765,
         1.286571623220753,
         1.5387323325343616,
         1.31961273594842,
         1.3163539633883063,
         1.5477156036917303,
         1.2402970964731121,
         1.4508213424341496,
         1.3705835817709278,
         1.2665787102838266,
         1.2760583657706446,
         1.3339130350090365,
         1.236820591877429,
         1.4533952425845649,
         1.2454237673831174,
         1.2391697595408806,
         1.427260370981415,
         1.4930735059930045,
         1.2149624928005482,
         1.7302371941469465,
         1.4014159906389754,
         1.3357558285076587,
         1.9128912406286644,
         1.3838905166511661,
         1.3970416148152902,
         1.227246787655535,
         1.4144445560865389,
         1.3089260006020542,
         1.2233345450538897,
         1.9141280602184927,
         1.1591530069900944,
         1.6667887600235236,
         1.5171009908519122,
         1.3663423211696233,
         1.2068056834683765,
         1.2689937151679667,
         1.2101418557240071,
         1.786206783049142,
         1.8548297048947842,
         1.1822353646209103,
         1.9331062158635284,
         1.362181002869012,
         1.3923363231812715,
         1.4119464231828578,
         1.1832152999443435,
         1.411781751767853,
         1.3323562055124727,
         1.3163046518851582,
         1.2351246416956163,
         1.7907881037788582,
         1.1733422080477733,
         1.1921604821755991,
         1.7816761856253873,
         1.2589787399338583,
         1.1864256537885263,
         1.741166249643515,
         1.4852332302343452,
         1.4010528363377484,
         1.2189619951934922,
         1.3441396051909242,
         1.3007977222507536,
         1.6335530271355492,
         1.2582545169641717,
         1.48998916107894,
         1.499841567624012,
         1.323552502756718,
         1.470049530645272,
         1.3188392681578187,
         1.5098190913867247,
         1.8410919547501956,
         1.4297632943549352,
         1.2399834054730672,
         1.7249548203533334,
         1.562424868519682,
         1.3048047401614298,
         1.7776772613635816,
         1.534999353667419,
         1.291582126444613,
         1.260082105476053,
         1.281628137613847,
         1.9054340403569705,
         1.4737181949560312,
         1.3192548505047184,
         1.6979485972096078,
         1.4810076744171417,
         1.459584204458486,
         1.5371835634101756,
         1.5922982841935605,
         1.3831109881308685,
         1.2319000882983349,
         1.6341732471973038,
         1.2413781279535083,
         1.1720638016863412,
         1.5361438256786475,
         1.6124153496542752
        ]
       ],
       "encoder": "json",
       "name": "ABC_GAN_1 Metrics",
       "version": 1
      }
     },
     "metadata": {
      "scrapbook": {
       "data": true,
       "display": false,
       "name": "ABC_GAN_1 Metrics"
      }
     },
     "output_type": "display_data"
    },
    {
     "name": "stdout",
     "output_type": "stream",
     "text": [
      "MSE\n",
      "0.10317094394961493\n"
     ]
    }
   ],
   "source": [
    "ABC_GAN1_metrics=ABC_train_test2.test_generator(gen,test_data,prior_model,variance,bias,\"1\",device)\n",
    "sb.glue(\"ABC_GAN_1 Metrics\",ABC_GAN1_metrics)\n",
    "\n",
    "print(\"MSE\")\n",
    "print(mean(ABC_GAN1_metrics[0]))"
   ]
  },
  {
   "cell_type": "code",
   "execution_count": 14,
   "id": "eb22ce5c",
   "metadata": {
    "execution": {
     "iopub.execute_input": "2022-06-22T13:05:44.854812Z",
     "iopub.status.busy": "2022-06-22T13:05:44.854078Z",
     "iopub.status.idle": "2022-06-22T13:05:45.596844Z",
     "shell.execute_reply": "2022-06-22T13:05:45.597341Z"
    },
    "papermill": {
     "duration": 0.795789,
     "end_time": "2022-06-22T13:05:45.597594",
     "exception": false,
     "start_time": "2022-06-22T13:05:44.801805",
     "status": "completed"
    },
    "tags": []
   },
   "outputs": [
    {
     "data": {
      "image/png": "[encoded data removed]",
      "text/plain": [
       "<Figure size 432x288 with 1 Axes>"
      ]
     },
     "metadata": {
      "needs_background": "light"
     },
     "output_type": "display_data"
    },
    {
     "data": {
      "image/png": "[encoded data removed]",
      "text/plain": [
       "<Figure size 432x288 with 1 Axes>"
      ]
     },
     "metadata": {
      "needs_background": "light"
     },
     "output_type": "display_data"
    },
    {
     "data": {
      "image/png": "[encoded data removed]",
      "text/plain": [
       "<Figure size 432x288 with 1 Axes>"
      ]
     },
     "metadata": {
      "needs_background": "light"
     },
     "output_type": "display_data"
    },
    {
     "data": {
      "image/png": "[encoded data removed]",
      "text/plain": [
       "<Figure size 432x288 with 1 Axes>"
      ]
     },
     "metadata": {
      "needs_background": "light"
     },
     "output_type": "display_data"
    }
   ],
   "source": [
    "sanityChecks.discProbVsError(train_data,disc,device)\n",
    "sanityChecks.discProbVsError(test_data,disc,device)"
   ]
  },
  {
   "cell_type": "markdown",
   "id": "130f3a4d",
   "metadata": {
    "id": "130f3a4d",
    "papermill": {
     "duration": 0.059234,
     "end_time": "2022-06-22T13:05:45.707197",
     "exception": false,
     "start_time": "2022-06-22T13:05:45.647963",
     "status": "completed"
    },
    "tags": []
   },
   "source": [
    "# ABC - GAN Model with skip connection"
   ]
  },
  {
   "cell_type": "code",
   "execution_count": 15,
   "id": "4e43dad1",
   "metadata": {
    "execution": {
     "iopub.execute_input": "2022-06-22T13:05:45.821942Z",
     "iopub.status.busy": "2022-06-22T13:05:45.820988Z",
     "iopub.status.idle": "2022-06-22T13:05:45.824244Z",
     "shell.execute_reply": "2022-06-22T13:05:45.824723Z"
    },
    "id": "4e43dad1",
    "papermill": {
     "duration": 0.069252,
     "end_time": "2022-06-22T13:05:45.824940",
     "exception": false,
     "start_time": "2022-06-22T13:05:45.755688",
     "status": "completed"
    },
    "tags": []
   },
   "outputs": [],
   "source": [
    "#Generator\n",
    "gen3 = network.GeneratorWithSkipConnection(n_features+1).to(device)\n",
    "constraints=network.weightConstraint()\n",
    "#Discriminator \n",
    "disc3 = network.Discriminator(n_features+1).to(device)\n",
    "\n",
    "criterion = torch.nn.BCELoss()\n",
    "gen_opt = torch.optim.Adam(gen3.parameters(), lr=0.001, betas=(0.5, 0.999))\n",
    "disc_opt = torch.optim.Adam(disc3.parameters(), lr=0.001, betas=(0.5, 0.999))\n"
   ]
  },
  {
   "cell_type": "code",
   "execution_count": 16,
   "id": "26acbc37",
   "metadata": {
    "execution": {
     "iopub.execute_input": "2022-06-22T13:05:45.965448Z",
     "iopub.status.busy": "2022-06-22T13:05:45.963483Z",
     "iopub.status.idle": "2022-06-22T13:06:54.173424Z",
     "shell.execute_reply": "2022-06-22T13:06:54.172942Z"
    },
    "id": "26acbc37",
    "papermill": {
     "duration": 68.29153,
     "end_time": "2022-06-22T13:06:54.173602",
     "exception": false,
     "start_time": "2022-06-22T13:05:45.882072",
     "status": "completed"
    },
    "tags": []
   },
   "outputs": [
    {
     "data": {
      "image/png": "[encoded data removed]",
      "text/plain": [
       "<Figure size 432x288 with 1 Axes>"
      ]
     },
     "metadata": {
      "needs_background": "light"
     },
     "output_type": "display_data"
    },
    {
     "data": {
      "image/png": "[encoded data removed]",
      "text/plain": [
       "<Figure size 432x288 with 1 Axes>"
      ]
     },
     "metadata": {
      "needs_background": "light"
     },
     "output_type": "display_data"
    }
   ],
   "source": [
    "ABC_train_test2.training_GAN_skip_connection(disc3,gen3,disc_opt,gen_opt,train_data,batch_size,n_epochs,criterion,prior_model,variance,bias,device)"
   ]
  },
  {
   "cell_type": "code",
   "execution_count": 17,
   "id": "c5e0717b",
   "metadata": {
    "execution": {
     "iopub.execute_input": "2022-06-22T13:06:54.307180Z",
     "iopub.status.busy": "2022-06-22T13:06:54.304717Z",
     "iopub.status.idle": "2022-06-22T13:06:55.089094Z",
     "shell.execute_reply": "2022-06-22T13:06:55.089808Z"
    },
    "id": "c5e0717b",
    "papermill": {
     "duration": 0.860771,
     "end_time": "2022-06-22T13:06:55.090012",
     "exception": false,
     "start_time": "2022-06-22T13:06:54.229241",
     "status": "completed"
    },
    "tags": []
   },
   "outputs": [
    {
     "data": {
      "application/scrapbook.scrap.json+json": {
       "data": 0.08538360437752807,
       "encoder": "json",
       "name": "ABC-GAN Model 3 MSE",
       "version": 1
      }
     },
     "metadata": {
      "scrapbook": {
       "data": true,
       "display": false,
       "name": "ABC-GAN Model 3 MSE"
      }
     },
     "output_type": "display_data"
    },
    {
     "data": {
      "application/scrapbook.scrap.json+json": {
       "data": 0.22466927268356085,
       "encoder": "json",
       "name": "ABC-GAN Model 3 MAE",
       "version": 1
      }
     },
     "metadata": {
      "scrapbook": {
       "data": true,
       "display": false,
       "name": "ABC-GAN Model 3 MAE"
      }
     },
     "output_type": "display_data"
    },
    {
     "data": {
      "application/scrapbook.scrap.json+json": {
       "data": 4.493385453671217,
       "encoder": "json",
       "name": "ABC-GAN Model 3 Manhattan Distance",
       "version": 1
      }
     },
     "metadata": {
      "scrapbook": {
       "data": true,
       "display": false,
       "name": "ABC-GAN Model 3 Manhattan Distance"
      }
     },
     "output_type": "display_data"
    },
    {
     "data": {
      "application/scrapbook.scrap.json+json": {
       "data": 1.3048227683270872,
       "encoder": "json",
       "name": "ABC-GAN Model 3 Euclidean distance",
       "version": 1
      }
     },
     "metadata": {
      "scrapbook": {
       "data": true,
       "display": false,
       "name": "ABC-GAN Model 3 Euclidean distance"
      }
     },
     "output_type": "display_data"
    },
    {
     "data": {
      "application/scrapbook.scrap.json+json": {
       "data": [
        [
         0.0812499292381696,
         0.10319771206387736,
         0.07642307212204089,
         0.0674165743616055,
         0.05812661899987513,
         0.0762414413677781,
         0.09154625216940003,
         0.08833321678210779,
         0.07477065389451579,
         0.06995018778019754,
         0.06766640377338974,
         0.07267494092487717,
         0.0897548994254787,
         0.09161907251149307,
         0.07616623776644196,
         0.08360135024937891,
         0.0818220361566285,
         0.07471560863873458,
         0.08133793208943488,
         0.087724305028231,
         0.11156350528067219,
         0.08405290677110523,
         0.08686440601958983,
         0.08898825476014435,
         0.08218378774879198,
         0.07982955585744578,
         0.09037084547445576,
         0.09372377540234642,
         0.07875257597162358,
         0.0806219657578947,
         0.07817055193149237,
         0.08846021821801134,
         0.08378424001527748,
         0.08238332709881023,
         0.0822068832439686,
         0.07980459444932451,
         0.09301517118781356,
         0.06745598679068615,
         0.08571237535178092,
         0.08264002264953008,
         0.0834780966766207,
         0.07806104841320055,
         0.10964456154082942,
         0.07916702974308773,
         0.07337530272522833,
         0.0798367225093459,
         0.08998238427506475,
         0.07220554688925569,
         0.10300793261766246,
         0.08236041052956358,
         0.08443019151030748,
         0.07575941308498457,
         0.08695197259375582,
         0.09167083132319817,
         0.094412163211886,
         0.09433687957628366,
         0.07895328322554951,
         0.09319184022232962,
         0.09556129151045793,
         0.08200436590653877,
         0.09770464081859856,
         0.09313962560974923,
         0.07866317128740491,
         0.08685048961608059,
         0.08218523520023573,
         0.09578319156812945,
         0.08644527459068527,
         0.08044256123613978,
         0.0720039876292546,
         0.0874161970128274,
         0.08859595309190284,
         0.07333545221710028,
         0.08528562470665256,
         0.08702186259662703,
         0.0849703590227355,
         0.08788008805178069,
         0.08605047735015924,
         0.08427020798137015,
         0.09174025002515171,
         0.08909617463089499,
         0.09221407199315836,
         0.0835381864062566,
         0.10215995157345045,
         0.10105006136355414,
         0.08829643060979248,
         0.09061116458874299,
         0.09078779385199025,
         0.09077169870645616,
         0.08271141528776285,
         0.09231470313632117,
         0.09919103846806046,
         0.08416111243415636,
         0.10158698951867644,
         0.08161182180292995,
         0.08573905904053258,
         0.08846535247185888,
         0.10508694802542932,
         0.08716680914745518,
         0.07765561788594001,
         0.07104472378722944
        ],
        [
         0.21352612189948558,
         0.24853272512555122,
         0.20828426405787467,
         0.20366149470210076,
         0.19980006739497186,
         0.21477535516023635,
         0.21797649636864663,
         0.21874338909983634,
         0.21191810667514802,
         0.2154022768139839,
         0.2002416379749775,
         0.2118608199059963,
         0.23182383850216864,
         0.23410105854272842,
         0.210776636749506,
         0.23564362823963164,
         0.21685291677713395,
         0.21359034180641173,
         0.21696359887719155,
         0.23195141330361366,
         0.25177043452858927,
         0.22412265166640283,
         0.23174723014235496,
         0.23409327045083045,
         0.22994653470814228,
         0.22663990706205367,
         0.23349805548787117,
         0.22642604857683182,
         0.21936450079083442,
         0.22760118767619134,
         0.223465908318758,
         0.22013552114367485,
         0.2227122224867344,
         0.22132377102971076,
         0.22266884818673133,
         0.22367543503642082,
         0.2288062460720539,
         0.20216434970498084,
         0.2234220139682293,
         0.22150206714868545,
         0.21582111939787865,
         0.2175831042230129,
         0.24844990149140359,
         0.22776639088988304,
         0.21264258101582528,
         0.21290348693728448,
         0.2189757138490677,
         0.22199088633060454,
         0.2496834360063076,
         0.2229319341480732,
         0.2260310798883438,
         0.21934244632720948,
         0.2269923210144043,
         0.23293624296784401,
         0.2327183686196804,
         0.2201724521815777,
         0.22820982038974763,
         0.21403964310884477,
         0.23904961347579956,
         0.22747209221124648,
         0.246598332375288,
         0.2126448664814234,
         0.21777307465672494,
         0.23215190917253495,
         0.21320999711751937,
         0.23023597225546838,
         0.22518009543418885,
         0.2247985951602459,
         0.21343031525611877,
         0.2267298385500908,
         0.22351804412901402,
         0.22066625580191612,
         0.22685312256217002,
         0.22128617763519287,
         0.22169306129217148,
         0.23187976479530334,
         0.23282756842672825,
         0.22381206452846528,
         0.24123259037733077,
         0.2347680151462555,
         0.23012429848313332,
         0.22268942072987558,
         0.24429109171032906,
         0.24934181496500968,
         0.2269946776330471,
         0.24523321017622948,
         0.23088821172714233,
         0.21144412830471992,
         0.21417330913245677,
         0.22757417261600493,
         0.24361947700381278,
         0.22278464287519456,
         0.23266364485025406,
         0.22006694599986076,
         0.2246889978647232,
         0.22856658473610877,
         0.23948546200990678,
         0.22887610495090485,
         0.21212738379836082,
         0.20277900099754334
        ],
        [
         4.270522437989712,
         4.9706545025110245,
         4.165685281157494,
         4.073229894042015,
         3.996001347899437,
         4.295507103204727,
         4.359529927372932,
         4.374867781996727,
         4.23836213350296,
         4.308045536279678,
         4.00483275949955,
         4.2372163981199265,
         4.636476770043373,
         4.6820211708545685,
         4.21553273499012,
         4.712872564792633,
         4.337058335542679,
         4.271806836128235,
         4.339271977543831,
         4.639028266072273,
         5.035408690571785,
         4.482453033328056,
         4.634944602847099,
         4.681865409016609,
         4.598930694162846,
         4.532798141241074,
         4.669961109757423,
         4.528520971536636,
         4.3872900158166885,
         4.552023753523827,
         4.46931816637516,
         4.402710422873497,
         4.454244449734688,
         4.426475420594215,
         4.453376963734627,
         4.473508700728416,
         4.576124921441078,
         4.043286994099617,
         4.468440279364586,
         4.430041342973709,
         4.316422387957573,
         4.3516620844602585,
         4.968998029828072,
         4.555327817797661,
         4.252851620316505,
         4.258069738745689,
         4.379514276981354,
         4.439817726612091,
         4.993668720126152,
         4.458638682961464,
         4.520621597766876,
         4.3868489265441895,
         4.539846420288086,
         4.65872485935688,
         4.654367372393608,
         4.403449043631554,
         4.564196407794952,
         4.280792862176895,
         4.780992269515991,
         4.54944184422493,
         4.93196664750576,
         4.252897329628468,
         4.355461493134499,
         4.643038183450699,
         4.264199942350388,
         4.604719445109367,
         4.503601908683777,
         4.495971903204918,
         4.2686063051223755,
         4.534596771001816,
         4.47036088258028,
         4.4133251160383224,
         4.537062451243401,
         4.425723552703857,
         4.43386122584343,
         4.637595295906067,
         4.656551368534565,
         4.476241290569305,
         4.824651807546616,
         4.69536030292511,
         4.602485969662666,
         4.453788414597511,
         4.885821834206581,
         4.986836299300194,
         4.539893552660942,
         4.9046642035245895,
         4.617764234542847,
         4.2288825660943985,
         4.283466182649136,
         4.551483452320099,
         4.872389540076256,
         4.455692857503891,
         4.653272897005081,
         4.401338919997215,
         4.493779957294464,
         4.571331694722176,
         4.789709240198135,
         4.577522099018097,
         4.2425476759672165,
         4.055580019950867
        ],
        [
         1.2747543232966076,
         1.4366468742448673,
         1.236309606223626,
         1.161176768296761,
         1.0782079484021172,
         1.2348395958000222,
         1.353116788524923,
         1.3291592589461036,
         1.2228708345080095,
         1.1827948916037603,
         1.163326297935276,
         1.2056113878433397,
         1.3398126691853507,
         1.3536548490031945,
         1.2342304304014058,
         1.2930688322697976,
         1.2792344285284736,
         1.2224206202345786,
         1.2754444879290896,
         1.3245701569054846,
         1.4937436545851646,
         1.296556260029662,
         1.3180622596796392,
         1.3340783692133258,
         1.2820591854418577,
         1.2635628663224143,
         1.344402063926233,
         1.3691148629851801,
         1.2550105654664712,
         1.2698186150619677,
         1.2503643623479708,
         1.3301144177702258,
         1.294482444958428,
         1.2836146392029832,
         1.2822393165393784,
         1.263365303064197,
         1.363929405708474,
         1.1615161366996685,
         1.3092927507000176,
         1.2856128705759762,
         1.2921152942103944,
         1.2494882825637106,
         1.4808413928630535,
         1.2583086246472899,
         1.2114066429174666,
         1.2636195828598564,
         1.3415094802129783,
         1.2017116699879027,
         1.4353252775427767,
         1.2834360952502746,
         1.2994629006655594,
         1.2309298362212573,
         1.3187264507376488,
         1.3540371584502264,
         1.374133641331046,
         1.373585669525448,
         1.256608795334089,
         1.3652240857993212,
         1.3824709147787373,
         1.2806589390352043,
         1.397888699565159,
         1.3648415703644818,
         1.2542979812421362,
         1.3179566731579653,
         1.282070475443809,
         1.3840750815481757,
         1.3148785083853585,
         1.268404992391151,
         1.2000332297836973,
         1.3222420127406889,
         1.3311345017833685,
         1.2110776376194903,
         1.3060292853274964,
         1.3192563253335345,
         1.3036131253001062,
         1.325745737702224,
         1.311872534586796,
         1.298231165712564,
         1.354549740874448,
         1.334887071110474,
         1.3580432393201503,
         1.2925802598388743,
         1.4294051320283585,
         1.4216192272444415,
         1.3288824674123176,
         1.3461884310061722,
         1.3474998616103102,
         1.3473804118099397,
         1.2861680705705834,
         1.3587840382954253,
         1.4084817248942954,
         1.2973905536433996,
         1.425391100846897,
         1.2775900892142984,
         1.3094965371510732,
         1.3301530173018357,
         1.4497375488372324,
         1.3203545671330499,
         1.2462392858993012,
         1.192012783381365
        ]
       ],
       "encoder": "json",
       "name": "ABC_GAN_3 Metrics",
       "version": 1
      }
     },
     "metadata": {
      "scrapbook": {
       "data": true,
       "display": false,
       "name": "ABC_GAN_3 Metrics"
      }
     },
     "output_type": "display_data"
    },
    {
     "name": "stdout",
     "output_type": "stream",
     "text": [
      "MSE\n",
      "0.08538360437752807\n"
     ]
    }
   ],
   "source": [
    "ABC_GAN3_metrics=ABC_train_test2.test_generator(gen3,test_data,prior_model,variance,bias,\"3\",device)\n",
    "sb.glue(\"ABC_GAN_3 Metrics\",ABC_GAN3_metrics)\n",
    "\n",
    "print(\"MSE\")\n",
    "print(mean(ABC_GAN3_metrics[0]))"
   ]
  },
  {
   "cell_type": "code",
   "execution_count": 18,
   "id": "c8e46b48",
   "metadata": {
    "execution": {
     "iopub.execute_input": "2022-06-22T13:06:55.215953Z",
     "iopub.status.busy": "2022-06-22T13:06:55.215237Z",
     "iopub.status.idle": "2022-06-22T13:06:55.988399Z",
     "shell.execute_reply": "2022-06-22T13:06:55.989216Z"
    },
    "id": "c8e46b48",
    "papermill": {
     "duration": 0.842166,
     "end_time": "2022-06-22T13:06:55.989435",
     "exception": false,
     "start_time": "2022-06-22T13:06:55.147269",
     "status": "completed"
    },
    "tags": []
   },
   "outputs": [
    {
     "data": {
      "image/png": "[encoded data removed]",
      "text/plain": [
       "<Figure size 432x288 with 1 Axes>"
      ]
     },
     "metadata": {
      "needs_background": "light"
     },
     "output_type": "display_data"
    },
    {
     "data": {
      "image/png": "[encoded data removed]",
      "text/plain": [
       "<Figure size 432x288 with 1 Axes>"
      ]
     },
     "metadata": {
      "needs_background": "light"
     },
     "output_type": "display_data"
    },
    {
     "data": {
      "image/png": "[encoded data removed]",
      "text/plain": [
       "<Figure size 432x288 with 1 Axes>"
      ]
     },
     "metadata": {
      "needs_background": "light"
     },
     "output_type": "display_data"
    },
    {
     "data": {
      "image/png": "[encoded data removed]",
      "text/plain": [
       "<Figure size 432x288 with 1 Axes>"
      ]
     },
     "metadata": {
      "needs_background": "light"
     },
     "output_type": "display_data"
    }
   ],
   "source": [
    "sanityChecks.discProbVsError(train_data,disc3,device)\n",
    "sanityChecks.discProbVsError(test_data,disc3,device)"
   ]
  },
  {
   "cell_type": "markdown",
   "id": "a5bd74c3",
   "metadata": {
    "id": "a5bd74c3",
    "papermill": {
     "duration": 0.074029,
     "end_time": "2022-06-22T13:06:56.123458",
     "exception": false,
     "start_time": "2022-06-22T13:06:56.049429",
     "status": "completed"
    },
    "tags": []
   },
   "source": [
    "## Skip Connection Model Analysis - ABC-GAN "
   ]
  },
  {
   "cell_type": "markdown",
   "id": "5744a8bf",
   "metadata": {
    "id": "5744a8bf",
    "papermill": {
     "duration": 0.069944,
     "end_time": "2022-06-22T13:06:56.291684",
     "exception": false,
     "start_time": "2022-06-22T13:06:56.221740",
     "status": "completed"
    },
    "tags": []
   },
   "source": [
    "### Weight Analysis \n",
    "\n",
    "Study the weights of the skip connection layer\n",
    "\n",
    "Equation of the skip connection is \n",
    "\n",
    "$output = y_{gan} * w + y_{abc} * (1-w)$"
   ]
  },
  {
   "cell_type": "code",
   "execution_count": 19,
   "id": "52c31dea",
   "metadata": {
    "execution": {
     "iopub.execute_input": "2022-06-22T13:06:56.435412Z",
     "iopub.status.busy": "2022-06-22T13:06:56.434697Z",
     "iopub.status.idle": "2022-06-22T13:06:56.441182Z",
     "shell.execute_reply": "2022-06-22T13:06:56.441750Z"
    },
    "id": "52c31dea",
    "papermill": {
     "duration": 0.089824,
     "end_time": "2022-06-22T13:06:56.441962",
     "exception": false,
     "start_time": "2022-06-22T13:06:56.352138",
     "status": "completed"
    },
    "tags": []
   },
   "outputs": [
    {
     "name": "stdout",
     "output_type": "stream",
     "text": [
      "Weight of the node at skip connection\n",
      "Parameter containing:\n",
      "tensor([[0.8180]], requires_grad=True)\n"
     ]
    },
    {
     "data": {
      "application/scrapbook.scrap.json+json": {
       "data": 0.8179671764373779,
       "encoder": "json",
       "name": "Skip Connection Weight",
       "version": 1
      }
     },
     "metadata": {
      "scrapbook": {
       "data": true,
       "display": false,
       "name": "Skip Connection Weight"
      }
     },
     "output_type": "display_data"
    }
   ],
   "source": [
    "print(\"Weight of the node at skip connection\")\n",
    "for name,param in gen3.named_parameters():\n",
    "    if(name == \"skipNode.weight\"):\n",
    "        print(param)\n",
    "        sb.glue(\"Skip Connection Weight\",param.item())"
   ]
  }
 ],
 "metadata": {
  "colab": {
   "collapsed_sections": [],
   "name": "ABC_GAN_Model-Catboost_Pre-gen.ipynb",
   "provenance": []
  },
  "interpreter": {
   "hash": "31f2aee4e71d21fbe5cf8b01ff0e069b9275f58929596ceb00d14d90e3e16cd6"
  },
  "kernelspec": {
   "display_name": "Python 3 (ipykernel)",
   "language": "python",
   "name": "python3"
  },
  "language_info": {
   "codemirror_mode": {
    "name": "ipython",
    "version": 3
   },
   "file_extension": ".py",
   "mimetype": "text/x-python",
   "name": "python",
   "nbconvert_exporter": "python",
   "pygments_lexer": "ipython3",
   "version": "3.8.3"
  },
  "papermill": {
   "default_parameters": {},
   "duration": 148.244587,
   "end_time": "2022-06-22T13:06:57.332801",
   "environment_variables": {},
   "exception": null,
   "input_path": "ABC_GAN-TabNet.ipynb",
   "output_path": "./ABC_GAN_TabNet/ABC-GAN_output_4_3.ipynb",
   "parameters": {
    "bias": 0.1,
    "variance": 1
   },
   "start_time": "2022-06-22T13:04:29.088214",
   "version": "2.3.3"
  }
 },
 "nbformat": 4,
 "nbformat_minor": 5
}