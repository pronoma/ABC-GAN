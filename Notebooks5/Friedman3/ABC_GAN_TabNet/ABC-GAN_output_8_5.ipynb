{
 "cells": [
  {
   "cell_type": "markdown",
   "id": "622780e6",
   "metadata": {
    "id": "622780e6",
    "papermill": {
     "duration": 0.025831,
     "end_time": "2022-06-22T15:25:10.612295",
     "exception": false,
     "start_time": "2022-06-22T15:25:10.586464",
     "status": "completed"
    },
    "tags": []
   },
   "source": [
    "## Import Libraries "
   ]
  },
  {
   "cell_type": "code",
   "execution_count": 1,
   "id": "a62397e3",
   "metadata": {
    "execution": {
     "iopub.execute_input": "2022-06-22T15:25:10.670520Z",
     "iopub.status.busy": "2022-06-22T15:25:10.664861Z",
     "iopub.status.idle": "2022-06-22T15:25:10.672789Z",
     "shell.execute_reply": "2022-06-22T15:25:10.673634Z"
    },
    "id": "a62397e3",
    "papermill": {
     "duration": 0.043213,
     "end_time": "2022-06-22T15:25:10.675067",
     "exception": false,
     "start_time": "2022-06-22T15:25:10.631854",
     "status": "completed"
    },
    "tags": []
   },
   "outputs": [],
   "source": [
    "import warnings\n",
    "import sys\n",
    "sys.path.insert(0, '../../src')\n",
    "warnings.filterwarnings('ignore')"
   ]
  },
  {
   "cell_type": "code",
   "execution_count": 2,
   "id": "d6a4e155",
   "metadata": {
    "execution": {
     "iopub.execute_input": "2022-06-22T15:25:10.719832Z",
     "iopub.status.busy": "2022-06-22T15:25:10.718944Z",
     "iopub.status.idle": "2022-06-22T15:25:17.039107Z",
     "shell.execute_reply": "2022-06-22T15:25:17.039756Z"
    },
    "id": "d6a4e155",
    "papermill": {
     "duration": 6.342342,
     "end_time": "2022-06-22T15:25:17.040023",
     "exception": false,
     "start_time": "2022-06-22T15:25:10.697681",
     "status": "completed"
    },
    "tags": []
   },
   "outputs": [],
   "source": [
    "import ABC_train_test2\n",
    "import friedman3Dataset\n",
    "import network\n",
    "import dataset\n",
    "import sanityChecks\n",
    "import torch \n",
    "import scrapbook as sb\n",
    "from statistics import mean \n",
    "import catboost as ctb \n",
    "from sklearn.model_selection import train_test_split\n",
    "from sklearn.metrics import mean_squared_error,mean_absolute_error\n",
    "import numpy as np\n",
    "from pytorch_tabnet.tab_model import TabNetRegressor"
   ]
  },
  {
   "cell_type": "markdown",
   "id": "2fa5b0f7",
   "metadata": {
    "id": "2fa5b0f7",
    "papermill": {
     "duration": 0.02161,
     "end_time": "2022-06-22T15:25:17.080081",
     "exception": false,
     "start_time": "2022-06-22T15:25:17.058471",
     "status": "completed"
    },
    "tags": []
   },
   "source": [
    "## Parameters "
   ]
  },
  {
   "cell_type": "code",
   "execution_count": 3,
   "id": "783186fb",
   "metadata": {
    "execution": {
     "iopub.execute_input": "2022-06-22T15:25:17.121441Z",
     "iopub.status.busy": "2022-06-22T15:25:17.120552Z",
     "iopub.status.idle": "2022-06-22T15:25:17.123734Z",
     "shell.execute_reply": "2022-06-22T15:25:17.125216Z"
    },
    "id": "783186fb",
    "papermill": {
     "duration": 0.028355,
     "end_time": "2022-06-22T15:25:17.125927",
     "exception": false,
     "start_time": "2022-06-22T15:25:17.097572",
     "status": "completed"
    },
    "tags": [
     "parameters"
    ]
   },
   "outputs": [],
   "source": [
    "variance = 1\n",
    "bias = 1 "
   ]
  },
  {
   "cell_type": "code",
   "execution_count": 4,
   "id": "eccc2148",
   "metadata": {
    "execution": {
     "iopub.execute_input": "2022-06-22T15:25:17.218813Z",
     "iopub.status.busy": "2022-06-22T15:25:17.216324Z",
     "iopub.status.idle": "2022-06-22T15:25:17.220163Z",
     "shell.execute_reply": "2022-06-22T15:25:17.220901Z"
    },
    "papermill": {
     "duration": 0.034538,
     "end_time": "2022-06-22T15:25:17.221173",
     "exception": false,
     "start_time": "2022-06-22T15:25:17.186635",
     "status": "completed"
    },
    "tags": [
     "injected-parameters"
    ]
   },
   "outputs": [],
   "source": [
    "# Parameters\n",
    "variance = 0.01\n",
    "bias = 0.1\n"
   ]
  },
  {
   "cell_type": "markdown",
   "id": "391cdbfd",
   "metadata": {
    "id": "391cdbfd",
    "papermill": {
     "duration": 0.015597,
     "end_time": "2022-06-22T15:25:17.253389",
     "exception": false,
     "start_time": "2022-06-22T15:25:17.237792",
     "status": "completed"
    },
    "tags": []
   },
   "source": [
    "## Dataset \n"
   ]
  },
  {
   "cell_type": "code",
   "execution_count": 5,
   "id": "5b51f161",
   "metadata": {
    "execution": {
     "iopub.execute_input": "2022-06-22T15:25:17.283302Z",
     "iopub.status.busy": "2022-06-22T15:25:17.282590Z",
     "iopub.status.idle": "2022-06-22T15:25:17.284366Z",
     "shell.execute_reply": "2022-06-22T15:25:17.284893Z"
    },
    "id": "5b51f161",
    "papermill": {
     "duration": 0.018319,
     "end_time": "2022-06-22T15:25:17.285090",
     "exception": false,
     "start_time": "2022-06-22T15:25:17.266771",
     "status": "completed"
    },
    "tags": []
   },
   "outputs": [],
   "source": [
    "#Parameters \n",
    "n_features = 4\n",
    "n_samples= 100\n",
    "n_target = 1"
   ]
  },
  {
   "cell_type": "code",
   "execution_count": 6,
   "id": "5d6eced4",
   "metadata": {
    "execution": {
     "iopub.execute_input": "2022-06-22T15:25:17.327287Z",
     "iopub.status.busy": "2022-06-22T15:25:17.323224Z",
     "iopub.status.idle": "2022-06-22T15:25:17.339337Z",
     "shell.execute_reply": "2022-06-22T15:25:17.339939Z"
    },
    "id": "5d6eced4",
    "papermill": {
     "duration": 0.042257,
     "end_time": "2022-06-22T15:25:17.340192",
     "exception": false,
     "start_time": "2022-06-22T15:25:17.297935",
     "status": "completed"
    },
    "tags": []
   },
   "outputs": [
    {
     "name": "stdout",
     "output_type": "stream",
     "text": [
      "          X1           X2        X3         X4         Y\n",
      "0  24.528525  1115.689131  0.836021   9.872959  1.329749\n",
      "1  60.264349   556.357974  0.272624  10.235146  1.284605\n",
      "2   9.529292  1721.731699  0.232134   9.158696  1.404337\n",
      "3  62.158185  1452.761663  0.763752   2.926928  1.336139\n",
      "4  56.091464  1521.851952  0.844549   1.551826  1.695277\n"
     ]
    }
   ],
   "source": [
    "X,Y = friedman3Dataset.friedman3_data(n_samples)"
   ]
  },
  {
   "cell_type": "code",
   "execution_count": 7,
   "id": "fe007438",
   "metadata": {
    "execution": {
     "iopub.execute_input": "2022-06-22T15:25:17.382835Z",
     "iopub.status.busy": "2022-06-22T15:25:17.381607Z",
     "iopub.status.idle": "2022-06-22T15:25:17.385149Z",
     "shell.execute_reply": "2022-06-22T15:25:17.385744Z"
    },
    "id": "fe007438",
    "papermill": {
     "duration": 0.029095,
     "end_time": "2022-06-22T15:25:17.386090",
     "exception": false,
     "start_time": "2022-06-22T15:25:17.356995",
     "status": "completed"
    },
    "tags": []
   },
   "outputs": [],
   "source": [
    "#Train test split for dataset \n",
    "X_train,X_test,Y_train,Y_test = train_test_split(X,Y,test_size = 0.2)\n",
    "train_data = dataset.CustomDataset(X_train,Y_train)\n",
    "test_data = dataset.CustomDataset(X_test,Y_test)\n"
   ]
  },
  {
   "cell_type": "markdown",
   "id": "a9a1af34",
   "metadata": {
    "id": "a9a1af34",
    "papermill": {
     "duration": 0.024453,
     "end_time": "2022-06-22T15:25:17.427513",
     "exception": false,
     "start_time": "2022-06-22T15:25:17.403060",
     "status": "completed"
    },
    "tags": []
   },
   "source": [
    "## Training Parameters "
   ]
  },
  {
   "cell_type": "code",
   "execution_count": 8,
   "id": "952b7fc8",
   "metadata": {
    "execution": {
     "iopub.execute_input": "2022-06-22T15:25:17.473547Z",
     "iopub.status.busy": "2022-06-22T15:25:17.472672Z",
     "iopub.status.idle": "2022-06-22T15:25:17.475655Z",
     "shell.execute_reply": "2022-06-22T15:25:17.475128Z"
    },
    "id": "952b7fc8",
    "papermill": {
     "duration": 0.028302,
     "end_time": "2022-06-22T15:25:17.475948",
     "exception": false,
     "start_time": "2022-06-22T15:25:17.447646",
     "status": "completed"
    },
    "tags": []
   },
   "outputs": [],
   "source": [
    "batch_size = 32\n",
    "n_epochs = 1000\n",
    "#Select the device \n",
    "device = torch.device('cuda' if torch.cuda.is_available() else 'cpu')"
   ]
  },
  {
   "cell_type": "markdown",
   "id": "a95e1600",
   "metadata": {
    "id": "a95e1600",
    "papermill": {
     "duration": 0.018927,
     "end_time": "2022-06-22T15:25:17.510873",
     "exception": false,
     "start_time": "2022-06-22T15:25:17.491946",
     "status": "completed"
    },
    "tags": []
   },
   "source": [
    "# ABC Pre-generator Model \n",
    "\n",
    "1. The catboost model is used as a pre-generator model for the ABC-GAN. \n",
    "2. The model is first trained on the entire dataset \n",
    "3. It generats X,Y pairs and we add some Gaussian noise with mean 0 and variance 1 to it which is then feed as input to the generator.\n"
   ]
  },
  {
   "cell_type": "code",
   "execution_count": 9,
   "id": "ff8ce7bd",
   "metadata": {
    "execution": {
     "iopub.execute_input": "2022-06-22T15:25:17.576985Z",
     "iopub.status.busy": "2022-06-22T15:25:17.575632Z",
     "iopub.status.idle": "2022-06-22T15:25:44.653678Z",
     "shell.execute_reply": "2022-06-22T15:25:44.654286Z"
    },
    "id": "ff8ce7bd",
    "papermill": {
     "duration": 27.114854,
     "end_time": "2022-06-22T15:25:44.654495",
     "exception": false,
     "start_time": "2022-06-22T15:25:17.539641",
     "status": "completed"
    },
    "tags": []
   },
   "outputs": [
    {
     "name": "stdout",
     "output_type": "stream",
     "text": [
      "Device used : cpu\n"
     ]
    },
    {
     "name": "stdout",
     "output_type": "stream",
     "text": [
      "epoch 0  | loss: 1.09401 | train_mse: 4.49737 | train_mae: 1.63454 |  0:00:00s\n",
      "epoch 1  | loss: 0.89781 | train_mse: 3.85107 | train_mae: 1.52164 |  0:00:00s\n",
      "epoch 2  | loss: 0.76269 | train_mse: 2.55925 | train_mae: 1.23415 |  0:00:00s\n"
     ]
    },
    {
     "name": "stdout",
     "output_type": "stream",
     "text": [
      "epoch 3  | loss: 0.7089  | train_mse: 1.32387 | train_mae: 0.86718 |  0:00:00s\n",
      "epoch 4  | loss: 0.54668 | train_mse: 1.21142 | train_mae: 0.82041 |  0:00:00s\n",
      "epoch 5  | loss: 0.61336 | train_mse: 2.24432 | train_mae: 1.05685 |  0:00:00s\n"
     ]
    },
    {
     "name": "stdout",
     "output_type": "stream",
     "text": [
      "epoch 6  | loss: 0.54587 | train_mse: 2.08909 | train_mae: 1.01119 |  0:00:00s\n",
      "epoch 7  | loss: 0.42569 | train_mse: 1.51847 | train_mae: 0.90133 |  0:00:00s\n",
      "epoch 8  | loss: 0.31922 | train_mse: 1.01915 | train_mae: 0.68137 |  0:00:00s\n"
     ]
    },
    {
     "name": "stdout",
     "output_type": "stream",
     "text": [
      "epoch 9  | loss: 0.39837 | train_mse: 0.83208 | train_mae: 0.62251 |  0:00:00s\n",
      "epoch 10 | loss: 0.32569 | train_mse: 0.64541 | train_mae: 0.53579 |  0:00:00s\n",
      "epoch 11 | loss: 0.48234 | train_mse: 0.72525 | train_mae: 0.54596 |  0:00:01s\n"
     ]
    },
    {
     "name": "stdout",
     "output_type": "stream",
     "text": [
      "epoch 12 | loss: 0.41521 | train_mse: 0.66763 | train_mae: 0.54976 |  0:00:01s\n",
      "epoch 13 | loss: 0.3764  | train_mse: 0.78837 | train_mae: 0.56789 |  0:00:01s\n",
      "epoch 14 | loss: 0.44775 | train_mse: 0.90127 | train_mae: 0.6     |  0:00:01s\n"
     ]
    },
    {
     "name": "stdout",
     "output_type": "stream",
     "text": [
      "epoch 15 | loss: 0.26728 | train_mse: 1.23622 | train_mae: 0.68834 |  0:00:01s\n",
      "epoch 16 | loss: 0.41326 | train_mse: 1.65665 | train_mae: 0.80103 |  0:00:01s\n",
      "epoch 17 | loss: 0.35555 | train_mse: 1.84349 | train_mae: 0.83544 |  0:00:01s\n"
     ]
    },
    {
     "name": "stdout",
     "output_type": "stream",
     "text": [
      "epoch 18 | loss: 0.48136 | train_mse: 1.12635 | train_mae: 0.69176 |  0:00:01s\n",
      "epoch 19 | loss: 0.39553 | train_mse: 0.70089 | train_mae: 0.52493 |  0:00:01s\n",
      "epoch 20 | loss: 0.19815 | train_mse: 0.63879 | train_mae: 0.51489 |  0:00:01s\n"
     ]
    },
    {
     "name": "stdout",
     "output_type": "stream",
     "text": [
      "epoch 21 | loss: 0.34085 | train_mse: 0.45035 | train_mae: 0.46789 |  0:00:01s\n",
      "epoch 22 | loss: 0.36052 | train_mse: 0.27196 | train_mae: 0.37323 |  0:00:01s\n",
      "epoch 23 | loss: 0.39876 | train_mse: 0.26624 | train_mae: 0.37294 |  0:00:01s\n"
     ]
    },
    {
     "name": "stdout",
     "output_type": "stream",
     "text": [
      "epoch 24 | loss: 0.24442 | train_mse: 0.30917 | train_mae: 0.40198 |  0:00:02s\n",
      "epoch 25 | loss: 0.34687 | train_mse: 0.35439 | train_mae: 0.44953 |  0:00:02s\n",
      "epoch 26 | loss: 0.56043 | train_mse: 0.27918 | train_mae: 0.37785 |  0:00:02s\n",
      "epoch 27 | loss: 0.2263  | train_mse: 0.30889 | train_mae: 0.37274 |  0:00:02s\n"
     ]
    },
    {
     "name": "stdout",
     "output_type": "stream",
     "text": [
      "epoch 28 | loss: 0.2903  | train_mse: 0.31404 | train_mae: 0.36885 |  0:00:02s\n",
      "epoch 29 | loss: 0.32865 | train_mse: 0.25883 | train_mae: 0.34742 |  0:00:02s\n",
      "epoch 30 | loss: 0.17654 | train_mse: 0.25617 | train_mae: 0.33392 |  0:00:02s\n"
     ]
    },
    {
     "name": "stdout",
     "output_type": "stream",
     "text": [
      "epoch 31 | loss: 0.17251 | train_mse: 0.35157 | train_mae: 0.37155 |  0:00:02s\n",
      "epoch 32 | loss: 0.35479 | train_mse: 0.4739  | train_mae: 0.42209 |  0:00:02s\n",
      "epoch 33 | loss: 0.22363 | train_mse: 0.2547  | train_mae: 0.32353 |  0:00:02s\n"
     ]
    },
    {
     "name": "stdout",
     "output_type": "stream",
     "text": [
      "epoch 34 | loss: 0.28517 | train_mse: 0.19593 | train_mae: 0.31446 |  0:00:02s\n",
      "epoch 35 | loss: 0.42557 | train_mse: 0.17767 | train_mae: 0.31612 |  0:00:02s\n",
      "epoch 36 | loss: 0.24736 | train_mse: 0.18652 | train_mae: 0.28862 |  0:00:02s\n"
     ]
    },
    {
     "name": "stdout",
     "output_type": "stream",
     "text": [
      "epoch 37 | loss: 0.46872 | train_mse: 0.23742 | train_mae: 0.34227 |  0:00:02s\n",
      "epoch 38 | loss: 0.31498 | train_mse: 0.30015 | train_mae: 0.39649 |  0:00:03s\n",
      "epoch 39 | loss: 0.3552  | train_mse: 0.24144 | train_mae: 0.37514 |  0:00:03s\n",
      "epoch 40 | loss: 0.27036 | train_mse: 0.2238  | train_mae: 0.329   |  0:00:03s\n"
     ]
    },
    {
     "name": "stdout",
     "output_type": "stream",
     "text": [
      "epoch 41 | loss: 0.54072 | train_mse: 0.3073  | train_mae: 0.36507 |  0:00:03s\n",
      "epoch 42 | loss: 0.25205 | train_mse: 0.3704  | train_mae: 0.40433 |  0:00:03s\n",
      "epoch 43 | loss: 0.12497 | train_mse: 0.24857 | train_mae: 0.34056 |  0:00:03s\n"
     ]
    },
    {
     "name": "stdout",
     "output_type": "stream",
     "text": [
      "epoch 44 | loss: 0.61687 | train_mse: 0.15453 | train_mae: 0.28069 |  0:00:03s\n",
      "epoch 45 | loss: 0.39242 | train_mse: 0.1742  | train_mae: 0.29851 |  0:00:03s\n",
      "epoch 46 | loss: 0.27112 | train_mse: 0.19577 | train_mae: 0.31293 |  0:00:03s\n"
     ]
    },
    {
     "name": "stdout",
     "output_type": "stream",
     "text": [
      "epoch 47 | loss: 0.51771 | train_mse: 0.1778  | train_mae: 0.31158 |  0:00:03s\n",
      "epoch 48 | loss: 0.46801 | train_mse: 0.30342 | train_mae: 0.33643 |  0:00:03s\n",
      "epoch 49 | loss: 0.40533 | train_mse: 0.57081 | train_mae: 0.42325 |  0:00:03s\n",
      "epoch 50 | loss: 0.28556 | train_mse: 0.44132 | train_mae: 0.37892 |  0:00:03s\n"
     ]
    },
    {
     "name": "stdout",
     "output_type": "stream",
     "text": [
      "epoch 51 | loss: 0.47484 | train_mse: 0.26475 | train_mae: 0.30639 |  0:00:03s\n",
      "epoch 52 | loss: 0.49524 | train_mse: 0.20233 | train_mae: 0.31189 |  0:00:04s\n",
      "epoch 53 | loss: 0.68414 | train_mse: 0.21068 | train_mae: 0.33703 |  0:00:04s\n"
     ]
    },
    {
     "name": "stdout",
     "output_type": "stream",
     "text": [
      "epoch 54 | loss: 0.48653 | train_mse: 0.21511 | train_mae: 0.3409  |  0:00:04s\n",
      "epoch 55 | loss: 0.40915 | train_mse: 0.20683 | train_mae: 0.32756 |  0:00:04s\n",
      "epoch 56 | loss: 0.32979 | train_mse: 0.20433 | train_mae: 0.31997 |  0:00:04s\n",
      "epoch 57 | loss: 0.52107 | train_mse: 0.21454 | train_mae: 0.31583 |  0:00:04s\n"
     ]
    },
    {
     "name": "stdout",
     "output_type": "stream",
     "text": [
      "epoch 58 | loss: 0.44959 | train_mse: 0.21171 | train_mae: 0.31782 |  0:00:04s\n",
      "epoch 59 | loss: 0.38499 | train_mse: 0.20196 | train_mae: 0.30836 |  0:00:04s\n",
      "epoch 60 | loss: 0.30951 | train_mse: 0.19669 | train_mae: 0.30228 |  0:00:04s\n"
     ]
    },
    {
     "name": "stdout",
     "output_type": "stream",
     "text": [
      "epoch 61 | loss: 0.36836 | train_mse: 0.19112 | train_mae: 0.29715 |  0:00:04s\n",
      "epoch 62 | loss: 0.43676 | train_mse: 0.18996 | train_mae: 0.29925 |  0:00:04s\n",
      "epoch 63 | loss: 0.23947 | train_mse: 0.18255 | train_mae: 0.2839  |  0:00:04s\n",
      "epoch 64 | loss: 0.23447 | train_mse: 0.1716  | train_mae: 0.27634 |  0:00:04s\n"
     ]
    },
    {
     "name": "stdout",
     "output_type": "stream",
     "text": [
      "epoch 65 | loss: 0.38917 | train_mse: 0.19021 | train_mae: 0.3062  |  0:00:04s\n",
      "epoch 66 | loss: 0.30887 | train_mse: 0.21215 | train_mae: 0.32476 |  0:00:04s\n",
      "epoch 67 | loss: 0.23742 | train_mse: 0.22905 | train_mae: 0.33836 |  0:00:05s\n",
      "epoch 68 | loss: 0.41974 | train_mse: 0.17632 | train_mae: 0.29083 |  0:00:05s\n"
     ]
    },
    {
     "name": "stdout",
     "output_type": "stream",
     "text": [
      "epoch 69 | loss: 0.16071 | train_mse: 0.16805 | train_mae: 0.30185 |  0:00:05s\n",
      "epoch 70 | loss: 0.23413 | train_mse: 0.19176 | train_mae: 0.30395 |  0:00:05s\n",
      "epoch 71 | loss: 0.26385 | train_mse: 0.17542 | train_mae: 0.28732 |  0:00:05s\n",
      "epoch 72 | loss: 0.47921 | train_mse: 0.18777 | train_mae: 0.30137 |  0:00:05s\n"
     ]
    },
    {
     "name": "stdout",
     "output_type": "stream",
     "text": [
      "epoch 73 | loss: 0.34021 | train_mse: 0.23986 | train_mae: 0.32712 |  0:00:05s\n",
      "epoch 74 | loss: 0.26408 | train_mse: 0.19786 | train_mae: 0.3155  |  0:00:05s\n",
      "epoch 75 | loss: 0.47378 | train_mse: 0.18396 | train_mae: 0.28844 |  0:00:05s\n"
     ]
    },
    {
     "name": "stdout",
     "output_type": "stream",
     "text": [
      "epoch 76 | loss: 0.64847 | train_mse: 0.19809 | train_mae: 0.28829 |  0:00:05s\n",
      "epoch 77 | loss: 0.32987 | train_mse: 0.19737 | train_mae: 0.27094 |  0:00:05s\n",
      "epoch 78 | loss: 0.5341  | train_mse: 0.29653 | train_mae: 0.31685 |  0:00:05s\n"
     ]
    },
    {
     "name": "stdout",
     "output_type": "stream",
     "text": [
      "epoch 79 | loss: 0.52047 | train_mse: 0.24526 | train_mae: 0.29504 |  0:00:05s\n",
      "epoch 80 | loss: 0.18316 | train_mse: 0.24902 | train_mae: 0.31086 |  0:00:05s\n",
      "epoch 81 | loss: 0.47449 | train_mse: 0.18452 | train_mae: 0.27916 |  0:00:05s\n"
     ]
    },
    {
     "name": "stdout",
     "output_type": "stream",
     "text": [
      "epoch 82 | loss: 0.51076 | train_mse: 0.19128 | train_mae: 0.28109 |  0:00:06s\n",
      "epoch 83 | loss: 0.14397 | train_mse: 0.15973 | train_mae: 0.27146 |  0:00:06s\n",
      "epoch 84 | loss: 0.28449 | train_mse: 0.14782 | train_mae: 0.26943 |  0:00:06s\n",
      "epoch 85 | loss: 0.38505 | train_mse: 0.15593 | train_mae: 0.27972 |  0:00:06s\n"
     ]
    },
    {
     "name": "stdout",
     "output_type": "stream",
     "text": [
      "epoch 86 | loss: 0.20137 | train_mse: 0.16509 | train_mae: 0.29871 |  0:00:06s\n",
      "epoch 87 | loss: 0.31043 | train_mse: 0.199   | train_mae: 0.32412 |  0:00:06s\n"
     ]
    },
    {
     "name": "stdout",
     "output_type": "stream",
     "text": [
      "epoch 88 | loss: 0.19521 | train_mse: 0.33712 | train_mae: 0.3556  |  0:00:06s\n",
      "epoch 89 | loss: 0.49384 | train_mse: 0.20074 | train_mae: 0.30219 |  0:00:06s\n",
      "epoch 90 | loss: 0.45306 | train_mse: 0.17379 | train_mae: 0.30413 |  0:00:06s\n"
     ]
    },
    {
     "name": "stdout",
     "output_type": "stream",
     "text": [
      "epoch 91 | loss: 0.25298 | train_mse: 0.16133 | train_mae: 0.29525 |  0:00:06s\n",
      "epoch 92 | loss: 0.15166 | train_mse: 0.20883 | train_mae: 0.2931  |  0:00:06s\n",
      "epoch 93 | loss: 0.37567 | train_mse: 0.32205 | train_mae: 0.32927 |  0:00:06s\n"
     ]
    },
    {
     "name": "stdout",
     "output_type": "stream",
     "text": [
      "epoch 94 | loss: 0.70384 | train_mse: 0.38281 | train_mae: 0.34227 |  0:00:07s\n",
      "epoch 95 | loss: 0.33648 | train_mse: 0.33003 | train_mae: 0.34544 |  0:00:07s\n",
      "epoch 96 | loss: 0.22587 | train_mse: 0.22893 | train_mae: 0.35603 |  0:00:07s\n"
     ]
    },
    {
     "name": "stdout",
     "output_type": "stream",
     "text": [
      "epoch 97 | loss: 0.29071 | train_mse: 0.16523 | train_mae: 0.30769 |  0:00:07s\n",
      "epoch 98 | loss: 0.17732 | train_mse: 0.17378 | train_mae: 0.29511 |  0:00:07s\n",
      "epoch 99 | loss: 0.37906 | train_mse: 0.29248 | train_mae: 0.29316 |  0:00:07s\n",
      "epoch 100| loss: 0.28262 | train_mse: 0.25616 | train_mae: 0.29652 |  0:00:07s\n"
     ]
    },
    {
     "name": "stdout",
     "output_type": "stream",
     "text": [
      "epoch 101| loss: 0.26725 | train_mse: 0.14757 | train_mae: 0.27568 |  0:00:07s\n",
      "epoch 102| loss: 0.19471 | train_mse: 0.21195 | train_mae: 0.29059 |  0:00:07s\n",
      "epoch 103| loss: 0.37238 | train_mse: 0.37167 | train_mae: 0.32287 |  0:00:07s\n",
      "epoch 104| loss: 0.35234 | train_mse: 0.21954 | train_mae: 0.28432 |  0:00:07s\n",
      "epoch 105| loss: 0.28715 | train_mse: 0.18823 | train_mae: 0.28623 |  0:00:07s\n"
     ]
    },
    {
     "name": "stdout",
     "output_type": "stream",
     "text": [
      "epoch 106| loss: 0.46068 | train_mse: 0.23477 | train_mae: 0.33396 |  0:00:07s\n",
      "epoch 107| loss: 0.59314 | train_mse: 0.33993 | train_mae: 0.3947  |  0:00:07s\n",
      "epoch 108| loss: 0.3106  | train_mse: 0.23754 | train_mae: 0.34747 |  0:00:08s\n"
     ]
    },
    {
     "name": "stdout",
     "output_type": "stream",
     "text": [
      "epoch 109| loss: 0.36274 | train_mse: 0.16632 | train_mae: 0.28128 |  0:00:08s\n",
      "epoch 110| loss: 0.22113 | train_mse: 0.25103 | train_mae: 0.28531 |  0:00:08s\n",
      "epoch 111| loss: 0.19946 | train_mse: 0.27659 | train_mae: 0.29404 |  0:00:08s\n",
      "epoch 112| loss: 0.29858 | train_mse: 0.16991 | train_mae: 0.24933 |  0:00:08s\n"
     ]
    },
    {
     "name": "stdout",
     "output_type": "stream",
     "text": [
      "epoch 113| loss: 0.45224 | train_mse: 0.17592 | train_mae: 0.28826 |  0:00:08s\n",
      "epoch 114| loss: 0.3766  | train_mse: 0.15484 | train_mae: 0.28263 |  0:00:08s\n",
      "epoch 115| loss: 0.32996 | train_mse: 0.12812 | train_mae: 0.25284 |  0:00:08s\n"
     ]
    },
    {
     "name": "stdout",
     "output_type": "stream",
     "text": [
      "epoch 116| loss: 0.45456 | train_mse: 0.25169 | train_mae: 0.31419 |  0:00:08s\n",
      "epoch 117| loss: 0.47733 | train_mse: 0.2602  | train_mae: 0.30821 |  0:00:08s\n",
      "epoch 118| loss: 0.26385 | train_mse: 0.24186 | train_mae: 0.28192 |  0:00:08s\n",
      "epoch 119| loss: 0.28374 | train_mse: 0.1343  | train_mae: 0.25061 |  0:00:08s\n"
     ]
    },
    {
     "name": "stdout",
     "output_type": "stream",
     "text": [
      "epoch 120| loss: 0.52589 | train_mse: 0.15875 | train_mae: 0.25839 |  0:00:08s\n",
      "epoch 121| loss: 0.24503 | train_mse: 0.13126 | train_mae: 0.24157 |  0:00:08s\n",
      "epoch 122| loss: 0.27909 | train_mse: 0.1338  | train_mae: 0.24934 |  0:00:08s\n",
      "epoch 123| loss: 0.43393 | train_mse: 0.23932 | train_mae: 0.26795 |  0:00:09s\n"
     ]
    },
    {
     "name": "stdout",
     "output_type": "stream",
     "text": [
      "epoch 124| loss: 0.23984 | train_mse: 0.20849 | train_mae: 0.29047 |  0:00:09s\n",
      "epoch 125| loss: 0.57307 | train_mse: 0.18867 | train_mae: 0.28692 |  0:00:09s\n",
      "epoch 126| loss: 0.33363 | train_mse: 0.16906 | train_mae: 0.29974 |  0:00:09s\n",
      "epoch 127| loss: 0.27195 | train_mse: 0.15868 | train_mae: 0.30946 |  0:00:09s\n"
     ]
    },
    {
     "name": "stdout",
     "output_type": "stream",
     "text": [
      "epoch 128| loss: 0.34156 | train_mse: 0.18032 | train_mae: 0.29654 |  0:00:09s\n",
      "epoch 129| loss: 0.31742 | train_mse: 0.2067  | train_mae: 0.29006 |  0:00:09s\n",
      "epoch 130| loss: 0.16109 | train_mse: 0.18464 | train_mae: 0.26787 |  0:00:09s\n",
      "epoch 131| loss: 0.45358 | train_mse: 0.16256 | train_mae: 0.27443 |  0:00:09s\n"
     ]
    },
    {
     "name": "stdout",
     "output_type": "stream",
     "text": [
      "epoch 132| loss: 0.28357 | train_mse: 0.18602 | train_mae: 0.30617 |  0:00:09s\n",
      "epoch 133| loss: 0.30658 | train_mse: 0.17759 | train_mae: 0.2993  |  0:00:09s\n",
      "epoch 134| loss: 0.31178 | train_mse: 0.15646 | train_mae: 0.28024 |  0:00:09s\n",
      "epoch 135| loss: 0.22209 | train_mse: 0.18389 | train_mae: 0.29666 |  0:00:09s\n"
     ]
    },
    {
     "name": "stdout",
     "output_type": "stream",
     "text": [
      "epoch 136| loss: 0.50526 | train_mse: 0.20351 | train_mae: 0.30895 |  0:00:09s\n",
      "epoch 137| loss: 0.2467  | train_mse: 0.18391 | train_mae: 0.29983 |  0:00:09s\n",
      "epoch 138| loss: 0.2649  | train_mse: 0.14949 | train_mae: 0.26331 |  0:00:10s\n"
     ]
    },
    {
     "name": "stdout",
     "output_type": "stream",
     "text": [
      "epoch 139| loss: 0.23393 | train_mse: 0.13223 | train_mae: 0.24281 |  0:00:10s\n",
      "epoch 140| loss: 0.27223 | train_mse: 0.15793 | train_mae: 0.26913 |  0:00:10s\n",
      "epoch 141| loss: 0.26679 | train_mse: 0.15139 | train_mae: 0.26013 |  0:00:10s\n",
      "epoch 142| loss: 0.35428 | train_mse: 0.18221 | train_mae: 0.2446  |  0:00:10s\n"
     ]
    },
    {
     "name": "stdout",
     "output_type": "stream",
     "text": [
      "epoch 143| loss: 0.38453 | train_mse: 0.23226 | train_mae: 0.27341 |  0:00:10s\n",
      "epoch 144| loss: 0.26436 | train_mse: 0.19304 | train_mae: 0.24958 |  0:00:10s\n",
      "epoch 145| loss: 0.32879 | train_mse: 0.20155 | train_mae: 0.30073 |  0:00:10s\n"
     ]
    },
    {
     "name": "stdout",
     "output_type": "stream",
     "text": [
      "epoch 146| loss: 0.5586  | train_mse: 0.20562 | train_mae: 0.3089  |  0:00:10s\n",
      "epoch 147| loss: 0.26233 | train_mse: 0.15998 | train_mae: 0.25923 |  0:00:10s\n",
      "epoch 148| loss: 0.36375 | train_mse: 0.14611 | train_mae: 0.25217 |  0:00:10s\n",
      "epoch 149| loss: 0.15925 | train_mse: 0.12771 | train_mae: 0.24078 |  0:00:10s\n"
     ]
    },
    {
     "name": "stdout",
     "output_type": "stream",
     "text": [
      "epoch 150| loss: 0.3249  | train_mse: 0.15925 | train_mae: 0.26722 |  0:00:10s\n",
      "epoch 151| loss: 0.38722 | train_mse: 0.16726 | train_mae: 0.27006 |  0:00:10s\n",
      "epoch 152| loss: 0.27766 | train_mse: 0.14322 | train_mae: 0.26058 |  0:00:10s\n",
      "epoch 153| loss: 0.28897 | train_mse: 0.14175 | train_mae: 0.26613 |  0:00:11s\n"
     ]
    },
    {
     "name": "stdout",
     "output_type": "stream",
     "text": [
      "epoch 154| loss: 0.33443 | train_mse: 0.1402  | train_mae: 0.26418 |  0:00:11s\n",
      "epoch 155| loss: 0.2677  | train_mse: 0.16653 | train_mae: 0.25794 |  0:00:11s\n",
      "epoch 156| loss: 0.19498 | train_mse: 0.13854 | train_mae: 0.2549  |  0:00:11s\n",
      "epoch 157| loss: 0.19195 | train_mse: 0.11513 | train_mae: 0.24165 |  0:00:11s\n"
     ]
    },
    {
     "name": "stdout",
     "output_type": "stream",
     "text": [
      "epoch 158| loss: 0.18014 | train_mse: 0.11897 | train_mae: 0.2524  |  0:00:11s\n",
      "epoch 159| loss: 0.35689 | train_mse: 0.29798 | train_mae: 0.30032 |  0:00:11s\n",
      "epoch 160| loss: 0.24597 | train_mse: 0.34815 | train_mae: 0.30174 |  0:00:11s\n",
      "epoch 161| loss: 0.4044  | train_mse: 0.32355 | train_mae: 0.31234 |  0:00:11s\n"
     ]
    },
    {
     "name": "stdout",
     "output_type": "stream",
     "text": [
      "epoch 162| loss: 0.38804 | train_mse: 0.17882 | train_mae: 0.28664 |  0:00:11s\n",
      "epoch 163| loss: 0.30129 | train_mse: 0.10858 | train_mae: 0.2404  |  0:00:11s\n",
      "epoch 164| loss: 0.43314 | train_mse: 0.11745 | train_mae: 0.24255 |  0:00:11s\n",
      "epoch 165| loss: 0.17762 | train_mse: 0.1066  | train_mae: 0.23951 |  0:00:11s\n"
     ]
    },
    {
     "name": "stdout",
     "output_type": "stream",
     "text": [
      "epoch 166| loss: 0.14747 | train_mse: 0.10454 | train_mae: 0.24591 |  0:00:11s\n",
      "epoch 167| loss: 0.46799 | train_mse: 0.15809 | train_mae: 0.29695 |  0:00:11s\n",
      "epoch 168| loss: 0.50825 | train_mse: 0.25001 | train_mae: 0.32878 |  0:00:12s\n",
      "epoch 169| loss: 0.17744 | train_mse: 0.20424 | train_mae: 0.28334 |  0:00:12s\n"
     ]
    },
    {
     "name": "stdout",
     "output_type": "stream",
     "text": [
      "epoch 170| loss: 0.20971 | train_mse: 0.16111 | train_mae: 0.26925 |  0:00:12s\n",
      "epoch 171| loss: 0.35146 | train_mse: 0.17575 | train_mae: 0.28961 |  0:00:12s\n",
      "epoch 172| loss: 0.14543 | train_mse: 0.32563 | train_mae: 0.35002 |  0:00:12s\n",
      "epoch 173| loss: 0.1507  | train_mse: 0.39595 | train_mae: 0.37973 |  0:00:12s\n"
     ]
    },
    {
     "name": "stdout",
     "output_type": "stream",
     "text": [
      "epoch 174| loss: 0.86167 | train_mse: 0.16769 | train_mae: 0.29131 |  0:00:12s\n",
      "epoch 175| loss: 0.10384 | train_mse: 0.14606 | train_mae: 0.26774 |  0:00:12s\n",
      "epoch 176| loss: 0.22643 | train_mse: 0.14182 | train_mae: 0.26023 |  0:00:12s\n"
     ]
    },
    {
     "name": "stdout",
     "output_type": "stream",
     "text": [
      "epoch 177| loss: 0.20018 | train_mse: 0.26365 | train_mae: 0.31019 |  0:00:12s\n",
      "epoch 178| loss: 0.13302 | train_mse: 0.27002 | train_mae: 0.30931 |  0:00:12s\n",
      "epoch 179| loss: 0.31258 | train_mse: 0.15704 | train_mae: 0.26223 |  0:00:12s\n",
      "epoch 180| loss: 0.21106 | train_mse: 0.09954 | train_mae: 0.24131 |  0:00:12s\n"
     ]
    },
    {
     "name": "stdout",
     "output_type": "stream",
     "text": [
      "epoch 181| loss: 0.16958 | train_mse: 0.10116 | train_mae: 0.24629 |  0:00:12s\n",
      "epoch 182| loss: 0.37046 | train_mse: 0.13353 | train_mae: 0.27075 |  0:00:12s\n",
      "epoch 183| loss: 0.26963 | train_mse: 0.12164 | train_mae: 0.25793 |  0:00:13s\n",
      "epoch 184| loss: 0.18312 | train_mse: 0.14798 | train_mae: 0.26053 |  0:00:13s\n"
     ]
    },
    {
     "name": "stdout",
     "output_type": "stream",
     "text": [
      "epoch 185| loss: 0.13079 | train_mse: 0.12677 | train_mae: 0.24796 |  0:00:13s\n",
      "epoch 186| loss: 0.17404 | train_mse: 0.11318 | train_mae: 0.24648 |  0:00:13s\n",
      "epoch 187| loss: 0.15559 | train_mse: 0.13086 | train_mae: 0.22261 |  0:00:13s\n",
      "epoch 188| loss: 0.58433 | train_mse: 0.48663 | train_mae: 0.29452 |  0:00:13s\n"
     ]
    },
    {
     "name": "stdout",
     "output_type": "stream",
     "text": [
      "epoch 189| loss: 0.59263 | train_mse: 0.51507 | train_mae: 0.32114 |  0:00:13s\n",
      "epoch 190| loss: 0.68938 | train_mse: 0.4729  | train_mae: 0.29719 |  0:00:13s\n",
      "epoch 191| loss: 0.49698 | train_mse: 0.3823  | train_mae: 0.30111 |  0:00:13s\n"
     ]
    },
    {
     "name": "stdout",
     "output_type": "stream",
     "text": [
      "epoch 192| loss: 0.23718 | train_mse: 0.31502 | train_mae: 0.30024 |  0:00:13s\n",
      "epoch 193| loss: 0.25571 | train_mse: 0.34982 | train_mae: 0.3211  |  0:00:13s\n",
      "epoch 194| loss: 0.22284 | train_mse: 0.17724 | train_mae: 0.29015 |  0:00:13s\n",
      "epoch 195| loss: 0.12263 | train_mse: 0.24714 | train_mae: 0.33495 |  0:00:13s\n"
     ]
    },
    {
     "name": "stdout",
     "output_type": "stream",
     "text": [
      "epoch 196| loss: 0.40568 | train_mse: 0.32309 | train_mae: 0.35647 |  0:00:13s\n",
      "epoch 197| loss: 0.16511 | train_mse: 0.21173 | train_mae: 0.30859 |  0:00:13s\n",
      "epoch 198| loss: 0.23514 | train_mse: 0.12595 | train_mae: 0.27158 |  0:00:14s\n",
      "epoch 199| loss: 0.41604 | train_mse: 0.11544 | train_mae: 0.27199 |  0:00:14s\n"
     ]
    },
    {
     "name": "stdout",
     "output_type": "stream",
     "text": [
      "epoch 200| loss: 0.16991 | train_mse: 0.1617  | train_mae: 0.29457 |  0:00:14s\n",
      "epoch 201| loss: 0.14713 | train_mse: 0.30395 | train_mae: 0.3194  |  0:00:14s\n",
      "epoch 202| loss: 0.21982 | train_mse: 0.38525 | train_mae: 0.34779 |  0:00:14s\n",
      "epoch 203| loss: 0.18823 | train_mse: 0.43649 | train_mae: 0.3598  |  0:00:14s\n"
     ]
    },
    {
     "name": "stdout",
     "output_type": "stream",
     "text": [
      "epoch 204| loss: 0.35446 | train_mse: 0.43318 | train_mae: 0.35372 |  0:00:14s\n",
      "epoch 205| loss: 0.18778 | train_mse: 0.34739 | train_mae: 0.32192 |  0:00:14s\n",
      "epoch 206| loss: 0.30012 | train_mse: 0.32627 | train_mae: 0.31911 |  0:00:14s\n"
     ]
    },
    {
     "name": "stdout",
     "output_type": "stream",
     "text": [
      "epoch 207| loss: 0.29392 | train_mse: 0.36194 | train_mae: 0.34784 |  0:00:14s\n",
      "epoch 208| loss: 0.34287 | train_mse: 0.28496 | train_mae: 0.34522 |  0:00:14s\n",
      "epoch 209| loss: 0.21975 | train_mse: 0.37158 | train_mae: 0.37644 |  0:00:14s\n"
     ]
    },
    {
     "name": "stdout",
     "output_type": "stream",
     "text": [
      "epoch 210| loss: 0.29817 | train_mse: 0.29001 | train_mae: 0.34442 |  0:00:14s\n",
      "epoch 211| loss: 0.40934 | train_mse: 0.13809 | train_mae: 0.26259 |  0:00:15s\n"
     ]
    },
    {
     "name": "stdout",
     "output_type": "stream",
     "text": [
      "epoch 212| loss: 0.14273 | train_mse: 0.11453 | train_mae: 0.24844 |  0:00:15s\n",
      "epoch 213| loss: 0.18473 | train_mse: 0.12641 | train_mae: 0.26304 |  0:00:15s\n"
     ]
    },
    {
     "name": "stdout",
     "output_type": "stream",
     "text": [
      "epoch 214| loss: 0.1946  | train_mse: 0.14208 | train_mae: 0.26685 |  0:00:15s\n",
      "epoch 215| loss: 0.12089 | train_mse: 0.1491  | train_mae: 0.26537 |  0:00:15s\n"
     ]
    },
    {
     "name": "stdout",
     "output_type": "stream",
     "text": [
      "epoch 216| loss: 0.31809 | train_mse: 0.10967 | train_mae: 0.25478 |  0:00:15s\n",
      "epoch 217| loss: 0.27435 | train_mse: 0.11196 | train_mae: 0.26019 |  0:00:15s\n",
      "epoch 218| loss: 0.3415  | train_mse: 0.10761 | train_mae: 0.25015 |  0:00:15s\n"
     ]
    },
    {
     "name": "stdout",
     "output_type": "stream",
     "text": [
      "epoch 219| loss: 0.29056 | train_mse: 0.08986 | train_mae: 0.23078 |  0:00:16s\n",
      "epoch 220| loss: 0.12547 | train_mse: 0.15426 | train_mae: 0.26536 |  0:00:16s\n",
      "epoch 221| loss: 0.12011 | train_mse: 0.29144 | train_mae: 0.30993 |  0:00:16s\n"
     ]
    },
    {
     "name": "stdout",
     "output_type": "stream",
     "text": [
      "epoch 222| loss: 0.29326 | train_mse: 0.17915 | train_mae: 0.31445 |  0:00:16s\n",
      "epoch 223| loss: 0.11012 | train_mse: 0.15392 | train_mae: 0.29344 |  0:00:16s\n",
      "epoch 224| loss: 0.14941 | train_mse: 0.11211 | train_mae: 0.26064 |  0:00:16s\n"
     ]
    },
    {
     "name": "stdout",
     "output_type": "stream",
     "text": [
      "epoch 225| loss: 0.11947 | train_mse: 0.1206  | train_mae: 0.27236 |  0:00:16s\n"
     ]
    },
    {
     "name": "stdout",
     "output_type": "stream",
     "text": [
      "epoch 226| loss: 0.19338 | train_mse: 0.11774 | train_mae: 0.26897 |  0:00:16s\n",
      "epoch 227| loss: 0.23218 | train_mse: 0.09443 | train_mae: 0.23804 |  0:00:16s\n",
      "epoch 228| loss: 0.8525  | train_mse: 0.08755 | train_mae: 0.23083 |  0:00:16s\n"
     ]
    },
    {
     "name": "stdout",
     "output_type": "stream",
     "text": [
      "epoch 229| loss: 0.13353 | train_mse: 0.07011 | train_mae: 0.20322 |  0:00:16s\n",
      "epoch 230| loss: 0.17665 | train_mse: 0.08164 | train_mae: 0.22408 |  0:00:17s\n",
      "epoch 231| loss: 0.08062 | train_mse: 0.10074 | train_mae: 0.2287  |  0:00:17s\n",
      "epoch 232| loss: 0.07307 | train_mse: 0.12614 | train_mae: 0.24759 |  0:00:17s\n"
     ]
    },
    {
     "name": "stdout",
     "output_type": "stream",
     "text": [
      "epoch 233| loss: 0.43004 | train_mse: 0.12383 | train_mae: 0.24725 |  0:00:17s\n",
      "epoch 234| loss: 0.15152 | train_mse: 0.09873 | train_mae: 0.22165 |  0:00:17s\n",
      "epoch 235| loss: 0.19966 | train_mse: 0.09323 | train_mae: 0.23292 |  0:00:17s\n",
      "epoch 236| loss: 0.1788  | train_mse: 0.11085 | train_mae: 0.23675 |  0:00:17s\n"
     ]
    },
    {
     "name": "stdout",
     "output_type": "stream",
     "text": [
      "epoch 237| loss: 0.19487 | train_mse: 0.07257 | train_mae: 0.19861 |  0:00:17s\n",
      "epoch 238| loss: 0.15408 | train_mse: 0.06373 | train_mae: 0.19525 |  0:00:17s\n",
      "epoch 239| loss: 0.32968 | train_mse: 0.07412 | train_mae: 0.21173 |  0:00:17s\n"
     ]
    },
    {
     "name": "stdout",
     "output_type": "stream",
     "text": [
      "epoch 240| loss: 0.13325 | train_mse: 0.07785 | train_mae: 0.21553 |  0:00:17s\n",
      "epoch 241| loss: 0.12952 | train_mse: 0.06846 | train_mae: 0.2007  |  0:00:17s\n",
      "epoch 242| loss: 0.17492 | train_mse: 0.06113 | train_mae: 0.19522 |  0:00:17s\n",
      "epoch 243| loss: 0.49991 | train_mse: 0.07479 | train_mae: 0.21703 |  0:00:17s\n"
     ]
    },
    {
     "name": "stdout",
     "output_type": "stream",
     "text": [
      "epoch 244| loss: 0.12345 | train_mse: 0.08236 | train_mae: 0.22571 |  0:00:17s\n",
      "epoch 245| loss: 0.29071 | train_mse: 0.07789 | train_mae: 0.21067 |  0:00:17s\n",
      "epoch 246| loss: 0.22399 | train_mse: 0.28829 | train_mae: 0.23786 |  0:00:18s\n",
      "epoch 247| loss: 0.18385 | train_mse: 0.07635 | train_mae: 0.19538 |  0:00:18s\n"
     ]
    },
    {
     "name": "stdout",
     "output_type": "stream",
     "text": [
      "epoch 248| loss: 0.19485 | train_mse: 0.13042 | train_mae: 0.24691 |  0:00:18s\n",
      "epoch 249| loss: 0.09728 | train_mse: 0.14088 | train_mae: 0.24946 |  0:00:18s\n",
      "epoch 250| loss: 0.22954 | train_mse: 0.12045 | train_mae: 0.23691 |  0:00:18s\n",
      "epoch 251| loss: 0.21135 | train_mse: 0.0843  | train_mae: 0.22492 |  0:00:18s\n"
     ]
    },
    {
     "name": "stdout",
     "output_type": "stream",
     "text": [
      "epoch 252| loss: 0.11955 | train_mse: 0.08379 | train_mae: 0.23306 |  0:00:18s\n",
      "epoch 253| loss: 0.15389 | train_mse: 0.07478 | train_mae: 0.22005 |  0:00:18s\n",
      "epoch 254| loss: 0.12118 | train_mse: 0.0626  | train_mae: 0.19776 |  0:00:18s\n"
     ]
    },
    {
     "name": "stdout",
     "output_type": "stream",
     "text": [
      "epoch 255| loss: 0.1378  | train_mse: 0.08652 | train_mae: 0.22194 |  0:00:18s\n",
      "epoch 256| loss: 0.13707 | train_mse: 0.15975 | train_mae: 0.24815 |  0:00:18s\n",
      "epoch 257| loss: 0.21847 | train_mse: 0.20845 | train_mae: 0.25584 |  0:00:18s\n"
     ]
    },
    {
     "name": "stdout",
     "output_type": "stream",
     "text": [
      "epoch 258| loss: 0.18816 | train_mse: 0.22195 | train_mae: 0.25463 |  0:00:18s\n",
      "epoch 259| loss: 0.37435 | train_mse: 0.11136 | train_mae: 0.23594 |  0:00:19s\n",
      "epoch 260| loss: 0.18323 | train_mse: 0.10866 | train_mae: 0.24199 |  0:00:19s\n",
      "epoch 261| loss: 0.36853 | train_mse: 0.13728 | train_mae: 0.27308 |  0:00:19s\n"
     ]
    },
    {
     "name": "stdout",
     "output_type": "stream",
     "text": [
      "epoch 262| loss: 0.20916 | train_mse: 0.11086 | train_mae: 0.24669 |  0:00:19s\n",
      "epoch 263| loss: 0.15729 | train_mse: 0.10869 | train_mae: 0.23203 |  0:00:19s\n",
      "epoch 264| loss: 0.34978 | train_mse: 0.11031 | train_mae: 0.23487 |  0:00:19s\n",
      "epoch 265| loss: 0.10271 | train_mse: 0.09249 | train_mae: 0.22146 |  0:00:19s\n"
     ]
    },
    {
     "name": "stdout",
     "output_type": "stream",
     "text": [
      "epoch 266| loss: 0.15147 | train_mse: 0.07173 | train_mae: 0.19532 |  0:00:19s\n",
      "epoch 267| loss: 0.11059 | train_mse: 0.06446 | train_mae: 0.18681 |  0:00:19s\n",
      "epoch 268| loss: 0.1328  | train_mse: 0.09677 | train_mae: 0.21512 |  0:00:19s\n"
     ]
    },
    {
     "name": "stdout",
     "output_type": "stream",
     "text": [
      "epoch 269| loss: 0.10819 | train_mse: 0.11089 | train_mae: 0.22628 |  0:00:19s\n",
      "epoch 270| loss: 0.2472  | train_mse: 0.09586 | train_mae: 0.2283  |  0:00:19s\n",
      "epoch 271| loss: 0.22039 | train_mse: 0.06187 | train_mae: 0.19314 |  0:00:19s\n",
      "epoch 272| loss: 0.24032 | train_mse: 0.07658 | train_mae: 0.20574 |  0:00:19s\n"
     ]
    },
    {
     "name": "stdout",
     "output_type": "stream",
     "text": [
      "epoch 273| loss: 0.12727 | train_mse: 0.11823 | train_mae: 0.20761 |  0:00:19s\n",
      "epoch 274| loss: 0.24765 | train_mse: 0.06174 | train_mae: 0.18739 |  0:00:20s\n",
      "epoch 275| loss: 0.15008 | train_mse: 0.0879  | train_mae: 0.21095 |  0:00:20s\n",
      "epoch 276| loss: 0.10692 | train_mse: 0.08723 | train_mae: 0.21978 |  0:00:20s\n"
     ]
    },
    {
     "name": "stdout",
     "output_type": "stream",
     "text": [
      "epoch 277| loss: 0.20721 | train_mse: 0.07035 | train_mae: 0.21101 |  0:00:20s\n",
      "epoch 278| loss: 0.0705  | train_mse: 0.09495 | train_mae: 0.22257 |  0:00:20s\n",
      "epoch 279| loss: 0.18216 | train_mse: 0.06751 | train_mae: 0.20048 |  0:00:20s\n",
      "epoch 280| loss: 0.44317 | train_mse: 0.08814 | train_mae: 0.20134 |  0:00:20s\n"
     ]
    },
    {
     "name": "stdout",
     "output_type": "stream",
     "text": [
      "epoch 281| loss: 0.16597 | train_mse: 0.05606 | train_mae: 0.18368 |  0:00:20s\n",
      "epoch 282| loss: 0.39137 | train_mse: 0.08705 | train_mae: 0.22119 |  0:00:20s\n",
      "epoch 283| loss: 0.21346 | train_mse: 0.08523 | train_mae: 0.2212  |  0:00:20s\n"
     ]
    },
    {
     "name": "stdout",
     "output_type": "stream",
     "text": [
      "epoch 284| loss: 0.21838 | train_mse: 0.07866 | train_mae: 0.20648 |  0:00:20s\n",
      "epoch 285| loss: 0.17255 | train_mse: 0.12461 | train_mae: 0.22144 |  0:00:20s\n",
      "epoch 286| loss: 0.14004 | train_mse: 0.0846  | train_mae: 0.21699 |  0:00:20s\n"
     ]
    },
    {
     "name": "stdout",
     "output_type": "stream",
     "text": [
      "epoch 287| loss: 0.50176 | train_mse: 0.10306 | train_mae: 0.22898 |  0:00:20s\n",
      "epoch 288| loss: 0.20759 | train_mse: 0.07431 | train_mae: 0.2052  |  0:00:20s\n",
      "epoch 289| loss: 0.26633 | train_mse: 0.05388 | train_mae: 0.17779 |  0:00:21s\n"
     ]
    },
    {
     "name": "stdout",
     "output_type": "stream",
     "text": [
      "epoch 290| loss: 0.07879 | train_mse: 0.04745 | train_mae: 0.1738  |  0:00:21s\n",
      "epoch 291| loss: 0.11209 | train_mse: 0.04406 | train_mae: 0.16166 |  0:00:21s\n",
      "epoch 292| loss: 0.47437 | train_mse: 0.05378 | train_mae: 0.17556 |  0:00:21s\n"
     ]
    },
    {
     "name": "stdout",
     "output_type": "stream",
     "text": [
      "epoch 293| loss: 0.1464  | train_mse: 0.07266 | train_mae: 0.20317 |  0:00:21s\n",
      "epoch 294| loss: 0.09079 | train_mse: 0.07    | train_mae: 0.19893 |  0:00:21s\n",
      "epoch 295| loss: 0.20129 | train_mse: 0.07543 | train_mae: 0.213   |  0:00:21s\n"
     ]
    },
    {
     "name": "stdout",
     "output_type": "stream",
     "text": [
      "epoch 296| loss: 0.1129  | train_mse: 0.08864 | train_mae: 0.225   |  0:00:21s\n",
      "epoch 297| loss: 0.1345  | train_mse: 0.10485 | train_mae: 0.23452 |  0:00:21s\n",
      "epoch 298| loss: 0.10813 | train_mse: 0.0921  | train_mae: 0.22807 |  0:00:21s\n"
     ]
    },
    {
     "name": "stdout",
     "output_type": "stream",
     "text": [
      "epoch 299| loss: 0.10491 | train_mse: 0.07951 | train_mae: 0.21625 |  0:00:21s\n",
      "epoch 300| loss: 0.21541 | train_mse: 0.07409 | train_mae: 0.2105  |  0:00:21s\n",
      "epoch 301| loss: 0.1057  | train_mse: 0.05836 | train_mae: 0.19241 |  0:00:21s\n"
     ]
    },
    {
     "name": "stdout",
     "output_type": "stream",
     "text": [
      "epoch 302| loss: 0.07983 | train_mse: 0.06752 | train_mae: 0.20592 |  0:00:21s\n",
      "epoch 303| loss: 0.15127 | train_mse: 0.05755 | train_mae: 0.19633 |  0:00:22s\n",
      "epoch 304| loss: 0.09092 | train_mse: 0.06528 | train_mae: 0.2037  |  0:00:22s\n",
      "epoch 305| loss: 0.07863 | train_mse: 0.09184 | train_mae: 0.21792 |  0:00:22s\n"
     ]
    },
    {
     "name": "stdout",
     "output_type": "stream",
     "text": [
      "epoch 306| loss: 0.12076 | train_mse: 0.09755 | train_mae: 0.21503 |  0:00:22s\n",
      "epoch 307| loss: 0.11017 | train_mse: 0.08689 | train_mae: 0.20416 |  0:00:22s\n",
      "epoch 308| loss: 0.24154 | train_mse: 0.05946 | train_mae: 0.19243 |  0:00:22s\n",
      "epoch 309| loss: 0.11123 | train_mse: 0.0534  | train_mae: 0.18377 |  0:00:22s\n"
     ]
    },
    {
     "name": "stdout",
     "output_type": "stream",
     "text": [
      "epoch 310| loss: 0.06914 | train_mse: 0.05468 | train_mae: 0.18602 |  0:00:22s\n",
      "epoch 311| loss: 0.15894 | train_mse: 0.05044 | train_mae: 0.17947 |  0:00:22s\n",
      "epoch 312| loss: 0.21336 | train_mse: 0.06898 | train_mae: 0.20032 |  0:00:22s\n"
     ]
    },
    {
     "name": "stdout",
     "output_type": "stream",
     "text": [
      "epoch 313| loss: 0.33353 | train_mse: 0.11921 | train_mae: 0.24757 |  0:00:22s\n",
      "epoch 314| loss: 0.07968 | train_mse: 0.24238 | train_mae: 0.30692 |  0:00:22s\n",
      "epoch 315| loss: 0.09799 | train_mse: 0.32689 | train_mae: 0.33413 |  0:00:22s\n"
     ]
    },
    {
     "name": "stdout",
     "output_type": "stream",
     "text": [
      "epoch 316| loss: 0.12573 | train_mse: 0.23132 | train_mae: 0.29218 |  0:00:22s\n",
      "epoch 317| loss: 0.14727 | train_mse: 0.09431 | train_mae: 0.20923 |  0:00:22s\n",
      "epoch 318| loss: 0.40693 | train_mse: 0.03853 | train_mae: 0.16017 |  0:00:23s\n",
      "epoch 319| loss: 0.16151 | train_mse: 0.06218 | train_mae: 0.18672 |  0:00:23s\n"
     ]
    },
    {
     "name": "stdout",
     "output_type": "stream",
     "text": [
      "epoch 320| loss: 0.11578 | train_mse: 0.07196 | train_mae: 0.19867 |  0:00:23s\n",
      "epoch 321| loss: 0.07484 | train_mse: 0.08186 | train_mae: 0.21158 |  0:00:23s\n",
      "epoch 322| loss: 0.09886 | train_mse: 0.06116 | train_mae: 0.18732 |  0:00:23s\n",
      "epoch 323| loss: 0.08441 | train_mse: 0.0752  | train_mae: 0.20416 |  0:00:23s\n"
     ]
    },
    {
     "name": "stdout",
     "output_type": "stream",
     "text": [
      "epoch 324| loss: 0.15162 | train_mse: 0.09712 | train_mae: 0.22169 |  0:00:23s\n",
      "epoch 325| loss: 0.21041 | train_mse: 0.08331 | train_mae: 0.20571 |  0:00:23s\n",
      "epoch 326| loss: 0.07545 | train_mse: 0.04229 | train_mae: 0.15622 |  0:00:23s\n"
     ]
    },
    {
     "name": "stdout",
     "output_type": "stream",
     "text": [
      "epoch 327| loss: 0.2233  | train_mse: 0.11515 | train_mae: 0.19985 |  0:00:23s\n",
      "epoch 328| loss: 0.31837 | train_mse: 0.04824 | train_mae: 0.17078 |  0:00:23s\n",
      "epoch 329| loss: 0.06591 | train_mse: 0.05898 | train_mae: 0.18729 |  0:00:23s\n",
      "epoch 330| loss: 0.06478 | train_mse: 0.05056 | train_mae: 0.17696 |  0:00:23s\n"
     ]
    },
    {
     "name": "stdout",
     "output_type": "stream",
     "text": [
      "epoch 331| loss: 0.12528 | train_mse: 0.05209 | train_mae: 0.17902 |  0:00:23s\n",
      "epoch 332| loss: 0.08566 | train_mse: 0.05921 | train_mae: 0.18624 |  0:00:24s\n",
      "epoch 333| loss: 0.20065 | train_mse: 0.07069 | train_mae: 0.19748 |  0:00:24s\n"
     ]
    },
    {
     "name": "stdout",
     "output_type": "stream",
     "text": [
      "epoch 334| loss: 0.22138 | train_mse: 0.07601 | train_mae: 0.20488 |  0:00:24s\n",
      "epoch 335| loss: 0.13536 | train_mse: 0.09753 | train_mae: 0.22481 |  0:00:24s\n",
      "epoch 336| loss: 0.15425 | train_mse: 0.09798 | train_mae: 0.22389 |  0:00:24s\n",
      "epoch 337| loss: 0.35825 | train_mse: 0.10716 | train_mae: 0.23336 |  0:00:24s\n"
     ]
    },
    {
     "name": "stdout",
     "output_type": "stream",
     "text": [
      "epoch 338| loss: 0.31007 | train_mse: 0.10025 | train_mae: 0.22691 |  0:00:24s\n",
      "epoch 339| loss: 0.09335 | train_mse: 0.08996 | train_mae: 0.22127 |  0:00:24s\n",
      "epoch 340| loss: 0.30354 | train_mse: 0.09626 | train_mae: 0.24117 |  0:00:24s\n"
     ]
    },
    {
     "name": "stdout",
     "output_type": "stream",
     "text": [
      "epoch 341| loss: 0.18284 | train_mse: 0.07833 | train_mae: 0.22531 |  0:00:24s\n",
      "epoch 342| loss: 0.16297 | train_mse: 0.06877 | train_mae: 0.20973 |  0:00:24s\n",
      "epoch 343| loss: 0.54524 | train_mse: 0.07204 | train_mae: 0.20182 |  0:00:24s\n",
      "epoch 344| loss: 0.16964 | train_mse: 0.08169 | train_mae: 0.20349 |  0:00:24s\n"
     ]
    },
    {
     "name": "stdout",
     "output_type": "stream",
     "text": [
      "epoch 345| loss: 0.13577 | train_mse: 0.0669  | train_mae: 0.19886 |  0:00:24s\n",
      "epoch 346| loss: 0.07378 | train_mse: 0.08713 | train_mae: 0.23394 |  0:00:24s\n",
      "epoch 347| loss: 0.12108 | train_mse: 0.10019 | train_mae: 0.24641 |  0:00:25s\n",
      "epoch 348| loss: 0.26934 | train_mse: 0.06611 | train_mae: 0.20099 |  0:00:25s\n"
     ]
    },
    {
     "name": "stdout",
     "output_type": "stream",
     "text": [
      "epoch 349| loss: 0.07835 | train_mse: 0.06392 | train_mae: 0.19537 |  0:00:25s\n",
      "epoch 350| loss: 0.11589 | train_mse: 0.06603 | train_mae: 0.20058 |  0:00:25s\n",
      "epoch 351| loss: 0.09053 | train_mse: 0.09519 | train_mae: 0.23249 |  0:00:25s\n",
      "epoch 352| loss: 0.14829 | train_mse: 0.09694 | train_mae: 0.23365 |  0:00:25s\n"
     ]
    },
    {
     "name": "stdout",
     "output_type": "stream",
     "text": [
      "epoch 353| loss: 0.19818 | train_mse: 0.06399 | train_mae: 0.19523 |  0:00:25s\n",
      "epoch 354| loss: 0.14974 | train_mse: 0.05662 | train_mae: 0.19769 |  0:00:25s\n",
      "epoch 355| loss: 0.13433 | train_mse: 0.0596  | train_mae: 0.20096 |  0:00:25s\n"
     ]
    },
    {
     "name": "stdout",
     "output_type": "stream",
     "text": [
      "epoch 356| loss: 0.09674 | train_mse: 0.08981 | train_mae: 0.2291  |  0:00:25s\n",
      "epoch 357| loss: 0.28323 | train_mse: 0.10624 | train_mae: 0.24609 |  0:00:25s\n",
      "epoch 358| loss: 0.14966 | train_mse: 0.09453 | train_mae: 0.23554 |  0:00:25s\n",
      "epoch 359| loss: 0.36561 | train_mse: 0.09709 | train_mae: 0.23782 |  0:00:25s\n"
     ]
    },
    {
     "name": "stdout",
     "output_type": "stream",
     "text": [
      "epoch 360| loss: 0.12224 | train_mse: 0.0829  | train_mae: 0.2226  |  0:00:25s\n",
      "epoch 361| loss: 0.08928 | train_mse: 0.07699 | train_mae: 0.21305 |  0:00:25s\n",
      "epoch 362| loss: 0.1266  | train_mse: 0.06754 | train_mae: 0.20176 |  0:00:26s\n",
      "epoch 363| loss: 0.19596 | train_mse: 0.05057 | train_mae: 0.17889 |  0:00:26s\n"
     ]
    },
    {
     "name": "stdout",
     "output_type": "stream",
     "text": [
      "epoch 364| loss: 0.1705  | train_mse: 0.05277 | train_mae: 0.17801 |  0:00:26s\n",
      "epoch 365| loss: 0.07661 | train_mse: 0.07234 | train_mae: 0.18259 |  0:00:26s\n",
      "epoch 366| loss: 0.19303 | train_mse: 0.07471 | train_mae: 0.20478 |  0:00:26s\n",
      "epoch 367| loss: 0.10179 | train_mse: 0.058   | train_mae: 0.17846 |  0:00:26s\n"
     ]
    },
    {
     "name": "stdout",
     "output_type": "stream",
     "text": [
      "epoch 368| loss: 0.09023 | train_mse: 0.06578 | train_mae: 0.1807  |  0:00:26s\n",
      "epoch 369| loss: 0.1277  | train_mse: 0.05059 | train_mae: 0.17967 |  0:00:26s\n",
      "epoch 370| loss: 0.07835 | train_mse: 0.03991 | train_mae: 0.15678 |  0:00:26s\n"
     ]
    },
    {
     "name": "stdout",
     "output_type": "stream",
     "text": [
      "epoch 371| loss: 0.06514 | train_mse: 0.04812 | train_mae: 0.17662 |  0:00:26s\n",
      "epoch 372| loss: 0.05927 | train_mse: 0.0496  | train_mae: 0.18018 |  0:00:26s\n",
      "epoch 373| loss: 0.16936 | train_mse: 0.05251 | train_mae: 0.17384 |  0:00:26s\n"
     ]
    },
    {
     "name": "stdout",
     "output_type": "stream",
     "text": [
      "epoch 374| loss: 0.12246 | train_mse: 0.05877 | train_mae: 0.17357 |  0:00:26s\n",
      "epoch 375| loss: 0.41484 | train_mse: 0.04862 | train_mae: 0.16985 |  0:00:26s\n",
      "epoch 376| loss: 0.41397 | train_mse: 0.05488 | train_mae: 0.18317 |  0:00:27s\n",
      "\n",
      "Early stopping occurred at epoch 376 with best_epoch = 326 and best_train_mae = 0.15622\n",
      "Best weights from best epoch are automatically used!\n"
     ]
    }
   ],
   "source": [
    "#Train the Model\n",
    "\n",
    "Y_train = np.reshape(Y_train, (-1, 1))\n",
    "Y_test = np.reshape(Y_test, (-1, 1))\n",
    "\n",
    "prior_model = TabNetRegressor(optimizer_fn=torch.optim.Adam, optimizer_params=dict(lr = 0.02),\n",
    "          #scheduler_params={\"step_size\":10, ], \"gamma\":0.9},\n",
    "          #scheduler_fn=torch.optim.lr_scheduler.StepLR\n",
    "          )  #TabNetRegressor()\n",
    "\n",
    "prior_model.fit(X_train,Y_train,eval_set=[(X_train, Y_train)],\n",
    "            eval_name=['train'], \n",
    "            eval_metric=[ 'mse', 'mae'], \n",
    "            max_epochs = n_epochs, \n",
    "            batch_size = batch_size,\n",
    "            patience=50\n",
    "            )"
   ]
  },
  {
   "cell_type": "code",
   "execution_count": 10,
   "id": "af65dcda",
   "metadata": {
    "execution": {
     "iopub.execute_input": "2022-06-22T15:25:44.764622Z",
     "iopub.status.busy": "2022-06-22T15:25:44.762778Z",
     "iopub.status.idle": "2022-06-22T15:25:44.790269Z",
     "shell.execute_reply": "2022-06-22T15:25:44.790834Z"
    },
    "id": "af65dcda",
    "papermill": {
     "duration": 0.095643,
     "end_time": "2022-06-22T15:25:44.791077",
     "exception": false,
     "start_time": "2022-06-22T15:25:44.695434",
     "status": "completed"
    },
    "tags": []
   },
   "outputs": [
    {
     "data": {
      "application/scrapbook.scrap.json+json": {
       "data": 0.2469037702104365,
       "encoder": "json",
       "name": "Prior Model MSE",
       "version": 1
      }
     },
     "metadata": {
      "scrapbook": {
       "data": true,
       "display": false,
       "name": "Prior Model MSE"
      }
     },
     "output_type": "display_data"
    },
    {
     "data": {
      "application/scrapbook.scrap.json+json": {
       "data": 0.24394117685945665,
       "encoder": "json",
       "name": "ABC Pre-generator MSE",
       "version": 1
      }
     },
     "metadata": {
      "scrapbook": {
       "data": true,
       "display": false,
       "name": "ABC Pre-generator MSE"
      }
     },
     "output_type": "display_data"
    },
    {
     "data": {
      "application/scrapbook.scrap.json+json": {
       "data": 0.40434143830334807,
       "encoder": "json",
       "name": "Prior Model MSE",
       "version": 1
      }
     },
     "metadata": {
      "scrapbook": {
       "data": true,
       "display": false,
       "name": "Prior Model MSE"
      }
     },
     "output_type": "display_data"
    },
    {
     "data": {
      "application/scrapbook.scrap.json+json": {
       "data": 0.4066957539725748,
       "encoder": "json",
       "name": "ABC Pre-generator MSE",
       "version": 1
      }
     },
     "metadata": {
      "scrapbook": {
       "data": true,
       "display": false,
       "name": "ABC Pre-generator MSE"
      }
     },
     "output_type": "display_data"
    }
   ],
   "source": [
    "y_pred = prior_model.predict(X_test)\n",
    "y_abc = y_pred + np.random.normal(0,variance, y_pred.shape) + bias \n",
    "mse = mean_squared_error(y_pred,Y_test)\n",
    "sb.glue(\"Prior Model MSE\",mse)\n",
    "mse = mean_squared_error(y_abc,Y_test)\n",
    "sb.glue(\"ABC Pre-generator MSE\",mse)\n",
    "mae = mean_absolute_error(y_pred,Y_test)\n",
    "sb.glue(\"Prior Model MSE\",mae)\n",
    "mae = mean_absolute_error(y_abc,Y_test)\n",
    "sb.glue(\"ABC Pre-generator MSE\",mae)"
   ]
  },
  {
   "cell_type": "markdown",
   "id": "25609da2",
   "metadata": {
    "papermill": {
     "duration": 0.050615,
     "end_time": "2022-06-22T15:25:44.900366",
     "exception": false,
     "start_time": "2022-06-22T15:25:44.849751",
     "status": "completed"
    },
    "tags": []
   },
   "source": [
    "# ABC GAN Model"
   ]
  },
  {
   "cell_type": "code",
   "execution_count": 11,
   "id": "dfc3464d",
   "metadata": {
    "execution": {
     "iopub.execute_input": "2022-06-22T15:25:44.996114Z",
     "iopub.status.busy": "2022-06-22T15:25:44.995278Z",
     "iopub.status.idle": "2022-06-22T15:25:44.999765Z",
     "shell.execute_reply": "2022-06-22T15:25:45.000192Z"
    },
    "papermill": {
     "duration": 0.057132,
     "end_time": "2022-06-22T15:25:45.000515",
     "exception": false,
     "start_time": "2022-06-22T15:25:44.943383",
     "status": "completed"
    },
    "tags": []
   },
   "outputs": [],
   "source": [
    "gen = network.Generator(n_features+1).to(device)\n",
    "disc = network.Discriminator(n_features+1).to(device)\n",
    "\n",
    "criterion = torch.nn.BCELoss()\n",
    "gen_opt = torch.optim.Adam(gen.parameters(), lr=0.001, betas=(0.5, 0.999))\n",
    "disc_opt = torch.optim.Adam(disc.parameters(), lr=0.001, betas=(0.5, 0.999))"
   ]
  },
  {
   "cell_type": "code",
   "execution_count": 12,
   "id": "b75fdd85",
   "metadata": {
    "execution": {
     "iopub.execute_input": "2022-06-22T15:25:45.098105Z",
     "iopub.status.busy": "2022-06-22T15:25:45.097098Z",
     "iopub.status.idle": "2022-06-22T15:26:29.240853Z",
     "shell.execute_reply": "2022-06-22T15:26:29.241412Z"
    },
    "papermill": {
     "duration": 44.198554,
     "end_time": "2022-06-22T15:26:29.241625",
     "exception": false,
     "start_time": "2022-06-22T15:25:45.043071",
     "status": "completed"
    },
    "tags": []
   },
   "outputs": [
    {
     "data": {
      "image/png": "[encoded data removed]",
      "text/plain": [
       "<Figure size 432x288 with 1 Axes>"
      ]
     },
     "metadata": {
      "needs_background": "light"
     },
     "output_type": "display_data"
    },
    {
     "data": {
      "image/png": "[encoded data removed]",
      "text/plain": [
       "<Figure size 432x288 with 1 Axes>"
      ]
     },
     "metadata": {
      "needs_background": "light"
     },
     "output_type": "display_data"
    }
   ],
   "source": [
    "#Training the ABC_GAN \n",
    "ABC_train_test2.training_GAN(disc,gen,disc_opt,gen_opt,train_data,batch_size,n_epochs,criterion,prior_model,variance,bias,device)"
   ]
  },
  {
   "cell_type": "code",
   "execution_count": 13,
   "id": "1fa7c368",
   "metadata": {
    "execution": {
     "iopub.execute_input": "2022-06-22T15:26:29.345055Z",
     "iopub.status.busy": "2022-06-22T15:26:29.344117Z",
     "iopub.status.idle": "2022-06-22T15:26:30.016134Z",
     "shell.execute_reply": "2022-06-22T15:26:30.016925Z"
    },
    "papermill": {
     "duration": 0.729404,
     "end_time": "2022-06-22T15:26:30.017141",
     "exception": false,
     "start_time": "2022-06-22T15:26:29.287737",
     "status": "completed"
    },
    "tags": []
   },
   "outputs": [
    {
     "data": {
      "application/scrapbook.scrap.json+json": {
       "data": 0.29989962267118575,
       "encoder": "json",
       "name": "ABC-GAN Model 1 MSE",
       "version": 1
      }
     },
     "metadata": {
      "scrapbook": {
       "data": true,
       "display": false,
       "name": "ABC-GAN Model 1 MSE"
      }
     },
     "output_type": "display_data"
    },
    {
     "data": {
      "application/scrapbook.scrap.json+json": {
       "data": 0.391910383220762,
       "encoder": "json",
       "name": "ABC-GAN Model 1 MAE",
       "version": 1
      }
     },
     "metadata": {
      "scrapbook": {
       "data": true,
       "display": false,
       "name": "ABC-GAN Model 1 MAE"
      }
     },
     "output_type": "display_data"
    },
    {
     "data": {
      "application/scrapbook.scrap.json+json": {
       "data": 7.83820766441524,
       "encoder": "json",
       "name": "ABC-GAN Model 1 Manhattan Distance",
       "version": 1
      }
     },
     "metadata": {
      "scrapbook": {
       "data": true,
       "display": false,
       "name": "ABC-GAN Model 1 Manhattan Distance"
      }
     },
     "output_type": "display_data"
    },
    {
     "data": {
      "application/scrapbook.scrap.json+json": {
       "data": 2.449047298134809,
       "encoder": "json",
       "name": "ABC-GAN Model 1 Euclidean distance",
       "version": 1
      }
     },
     "metadata": {
      "scrapbook": {
       "data": true,
       "display": false,
       "name": "ABC-GAN Model 1 Euclidean distance"
      }
     },
     "output_type": "display_data"
    },
    {
     "data": {
      "application/scrapbook.scrap.json+json": {
       "data": [
        [
         0.2998923839932425,
         0.2989304426031691,
         0.29567054430780154,
         0.2961139084245844,
         0.301685915532687,
         0.2920004223741216,
         0.30536995520534416,
         0.298494624712598,
         0.30075583617293083,
         0.3064610396591057,
         0.2975712629564763,
         0.29912088537725,
         0.30432808369463826,
         0.30218205221187017,
         0.30021825146102776,
         0.3008286098760245,
         0.2989568205287373,
         0.2969517072733927,
         0.3027188829018964,
         0.29778180815222094,
         0.3007055491614517,
         0.2991623071446135,
         0.2962221064760073,
         0.3008701812210791,
         0.3020626430996492,
         0.29582544879287587,
         0.2976328907994054,
         0.29881017439068835,
         0.29751733263106706,
         0.2976582910317608,
         0.30071882051722076,
         0.3017320225169323,
         0.3016069218164458,
         0.3059241334128715,
         0.29898007930493103,
         0.30244524704394976,
         0.3011955723410792,
         0.3037705316263582,
         0.3058102650996896,
         0.3049814635943873,
         0.2989428852853634,
         0.30053772593134176,
         0.299361085534967,
         0.2966145782440528,
         0.2948074702015758,
         0.2992410640394296,
         0.29570036922924503,
         0.29585248541413545,
         0.29630498739897015,
         0.2993996294679857,
         0.2970985109560091,
         0.3016248733096744,
         0.30198464059662605,
         0.2970267784638289,
         0.29864894594252916,
         0.2954292795359871,
         0.29991518556496055,
         0.2982767404261907,
         0.30374630067114905,
         0.29967336229416774,
         0.30285026531076714,
         0.29734989621513686,
         0.29888399822568823,
         0.2962080379818782,
         0.30277722328847756,
         0.3029606436960211,
         0.3009033484651033,
         0.3033747653371002,
         0.30127541058308804,
         0.3027077629446855,
         0.30241987142846327,
         0.2987576464954636,
         0.298486518992739,
         0.2952488053554577,
         0.2962594314134236,
         0.30020913250955816,
         0.30044000810607063,
         0.3020302320424988,
         0.30386456380463756,
         0.29801575700850735,
         0.3015435024026606,
         0.3011114208063098,
         0.29893490944172457,
         0.2986717148351506,
         0.30260015810449276,
         0.2983583947456703,
         0.29682333014167933,
         0.29934938001503747,
         0.3024502704405946,
         0.2930893000098337,
         0.30754976688493,
         0.3033327279739792,
         0.3009042497432258,
         0.29823682999429846,
         0.30149996448890437,
         0.30098835375124644,
         0.30480079490724077,
         0.3050076758452248,
         0.29637107082644576,
         0.2934628146053865
        ],
        [
         0.3883881507441401,
         0.3898345982655883,
         0.38747032936662434,
         0.387537051923573,
         0.39337521214038135,
         0.38657105769962075,
         0.3979271462187171,
         0.38689657766371965,
         0.3932311287149787,
         0.39790948648005725,
         0.38809841517359017,
         0.39391730185598134,
         0.39618189353495836,
         0.3941299578174949,
         0.3894294502213597,
         0.3914153704419732,
         0.3948868351057172,
         0.3877613889053464,
         0.3943324344232678,
         0.39284263271838427,
         0.38847827930003404,
         0.392254657112062,
         0.3868710620328784,
         0.3945148056373,
         0.39079400766640904,
         0.39184169974178074,
         0.3927669109776616,
         0.3926607048138976,
         0.38995831590145824,
         0.3873858669772744,
         0.39312225934118034,
         0.3945941453799605,
         0.3938675979152322,
         0.3986098224297166,
         0.386695615015924,
         0.3927062386646867,
         0.39271508511155845,
         0.3949414139613509,
         0.39633302446454766,
         0.3943620005622506,
         0.39245927091687915,
         0.39168652798980474,
         0.39246007036417724,
         0.38794542457908393,
         0.38783669862896203,
         0.38813169915229084,
         0.38909789342433215,
         0.385533276386559,
         0.3855632605031133,
         0.3910575037822127,
         0.38839631248265505,
         0.3951628213748336,
         0.394221736676991,
         0.39029192831367254,
         0.3907258527353406,
         0.38895529229193926,
         0.3932286327704787,
         0.3948804860934615,
         0.3950706010684371,
         0.3937869997695088,
         0.39637586530297997,
         0.38734789807349446,
         0.39414385948330166,
         0.38801355864852666,
         0.39384008254855873,
         0.395291562192142,
         0.3922901151701808,
         0.39576167333871126,
         0.3930434944108129,
         0.39336944464594126,
         0.39334169682115316,
         0.39091555047780274,
         0.3938010176643729,
         0.38851920533925294,
         0.39012414421886205,
         0.39032867159694434,
         0.3940655579790473,
         0.3932763984426856,
         0.39760099034756424,
         0.3931514283642173,
         0.3926616271957755,
         0.39289604853838683,
         0.388904489018023,
         0.3903006983920932,
         0.39144475627690556,
         0.39187122192233803,
         0.38827463518828154,
         0.3935347041115165,
         0.3934743167832494,
         0.3900311918929219,
         0.3975822636857629,
         0.3970512246713042,
         0.3927477618679404,
         0.38767151404172184,
         0.3948638400062919,
         0.3907986437901855,
         0.39628348406404257,
         0.3979722371324897,
         0.38780433889478444,
         0.3861648878082633
        ],
        [
         7.767763014882803,
         7.796691965311766,
         7.749406587332487,
         7.75074103847146,
         7.867504242807627,
         7.7314211539924145,
         7.958542924374342,
         7.737931553274393,
         7.864622574299574,
         7.958189729601145,
         7.761968303471804,
         7.878346037119627,
         7.923637870699167,
         7.882599156349897,
         7.788589004427195,
         7.828307408839464,
         7.897736702114344,
         7.755227778106928,
         7.886648688465357,
         7.856852654367685,
         7.769565586000681,
         7.8450931422412395,
         7.737421240657568,
         7.890296112746,
         7.81588015332818,
         7.836833994835615,
         7.855338219553232,
         7.853214096277952,
         7.799166318029165,
         7.747717339545488,
         7.8624451868236065,
         7.891882907599211,
         7.877351958304644,
         7.972196448594332,
         7.7339123003184795,
         7.854124773293734,
         7.854301702231169,
         7.898828279227018,
         7.926660489290953,
         7.887240011245012,
         7.8491854183375835,
         7.833730559796095,
         7.8492014072835445,
         7.758908491581678,
         7.756733972579241,
         7.762633983045816,
         7.781957868486643,
         7.71066552773118,
         7.711265210062265,
         7.821150075644255,
         7.767926249653101,
         7.903256427496672,
         7.88443473353982,
         7.805838566273451,
         7.814517054706812,
         7.779105845838785,
         7.8645726554095745,
         7.89760972186923,
         7.901412021368742,
         7.875739995390177,
         7.927517306059599,
         7.746957961469889,
         7.882877189666033,
         7.760271172970533,
         7.876801650971174,
         7.90583124384284,
         7.845802303403616,
         7.915233466774225,
         7.860869888216257,
         7.867388892918825,
         7.866833936423063,
         7.818311009556055,
         7.876020353287458,
         7.770384106785059,
         7.802482884377241,
         7.806573431938887,
         7.881311159580946,
         7.865527968853712,
         7.952019806951284,
         7.863028567284346,
         7.85323254391551,
         7.857920970767736,
         7.77808978036046,
         7.806013967841864,
         7.828895125538111,
         7.83742443844676,
         7.765492703765631,
         7.8706940822303295,
         7.869486335664988,
         7.8006238378584385,
         7.951645273715258,
         7.9410244934260845,
         7.8549552373588085,
         7.753430280834436,
         7.897276800125837,
         7.815972875803709,
         7.925669681280851,
         7.959444742649794,
         7.756086777895689,
         7.723297756165266
        ],
        [
         2.4490503628681974,
         2.445119394234846,
         2.4317505805810002,
         2.4335731278290544,
         2.4563628214605715,
         2.4166109425148337,
         2.47131525793592,
         2.443336344888268,
         2.4525734899200504,
         2.475726316292274,
         2.439554315675207,
         2.4458981392414936,
         2.4670957974697223,
         2.4583817938305277,
         2.450380588647518,
         2.4528701958156063,
         2.4452272717632497,
         2.437013365877966,
         2.4605644998735405,
         2.440417210856459,
         2.4523684436130377,
         2.4460674853511852,
         2.4340176929349027,
         2.453039670372573,
         2.457896023429995,
         2.4323875052831356,
         2.4398069218665865,
         2.444627474240966,
         2.4393332393548324,
         2.4399110271965276,
         2.4524225594999765,
         2.4565505185806065,
         2.4560412122619026,
         2.4735566838577663,
         2.4453223889905846,
         2.4594521627547454,
         2.4543657931982312,
         2.464834808364886,
         2.4730962985686165,
         2.4697427541927817,
         2.445170281536087,
         2.4516840168804044,
         2.446879995156963,
         2.435629603384114,
         2.428198798292989,
         2.4463894376792488,
         2.4318732254344386,
         2.4324986553506474,
         2.434358179886313,
         2.4470375128632,
         2.4376156832282203,
         2.4561143023469993,
         2.4575786481682576,
         2.437321392282228,
         2.443967863710688,
         2.43075823370399,
         2.449143464825858,
         2.4424444330473136,
         2.464736499795258,
         2.4481558867611666,
         2.4610983942571947,
         2.438646740367029,
         2.4449294395777077,
         2.4339598927750563,
         2.460801590085952,
         2.461546845770038,
         2.4531748754016838,
         2.4632286346870043,
         2.454691062366456,
         2.460519306750855,
         2.4593489847049494,
         2.444412594041618,
         2.443303169861403,
         2.430015659848544,
         2.4341710351305372,
         2.4503433739358167,
         2.4512854101718573,
         2.4577641548468345,
         2.465216273695424,
         2.441375665515274,
         2.4557829806506133,
         2.4540229045642983,
         2.4451376625528654,
         2.4440610255685127,
         2.460081942149459,
         2.4427787240995458,
         2.4364865283505233,
         2.4468321561359185,
         2.459472587530077,
         2.421112554218963,
         2.480120024857386,
         2.463057969167511,
         2.4531785493242264,
         2.4422810239376567,
         2.45560568694937,
         2.453521362251596,
         2.4690111174607567,
         2.4698488854390455,
         2.434629626150334,
         2.4226548025064836
        ]
       ],
       "encoder": "json",
       "name": "ABC_GAN_1 Metrics",
       "version": 1
      }
     },
     "metadata": {
      "scrapbook": {
       "data": true,
       "display": false,
       "name": "ABC_GAN_1 Metrics"
      }
     },
     "output_type": "display_data"
    },
    {
     "name": "stdout",
     "output_type": "stream",
     "text": [
      "MSE\n",
      "0.29989962267118575\n"
     ]
    }
   ],
   "source": [
    "ABC_GAN1_metrics=ABC_train_test2.test_generator(gen,test_data,prior_model,variance,bias,\"1\",device)\n",
    "sb.glue(\"ABC_GAN_1 Metrics\",ABC_GAN1_metrics)\n",
    "\n",
    "print(\"MSE\")\n",
    "print(mean(ABC_GAN1_metrics[0]))"
   ]
  },
  {
   "cell_type": "code",
   "execution_count": 14,
   "id": "eb22ce5c",
   "metadata": {
    "execution": {
     "iopub.execute_input": "2022-06-22T15:26:30.123098Z",
     "iopub.status.busy": "2022-06-22T15:26:30.122353Z",
     "iopub.status.idle": "2022-06-22T15:26:30.875902Z",
     "shell.execute_reply": "2022-06-22T15:26:30.876376Z"
    },
    "papermill": {
     "duration": 0.81304,
     "end_time": "2022-06-22T15:26:30.876582",
     "exception": false,
     "start_time": "2022-06-22T15:26:30.063542",
     "status": "completed"
    },
    "tags": []
   },
   "outputs": [
    {
     "data": {
      "image/png": "[encoded data removed]",
      "text/plain": [
       "<Figure size 432x288 with 1 Axes>"
      ]
     },
     "metadata": {
      "needs_background": "light"
     },
     "output_type": "display_data"
    },
    {
     "data": {
      "image/png": "[encoded data removed]",
      "text/plain": [
       "<Figure size 432x288 with 1 Axes>"
      ]
     },
     "metadata": {
      "needs_background": "light"
     },
     "output_type": "display_data"
    },
    {
     "data": {
      "image/png": "[encoded data removed]",
      "text/plain": [
       "<Figure size 432x288 with 1 Axes>"
      ]
     },
     "metadata": {
      "needs_background": "light"
     },
     "output_type": "display_data"
    },
    {
     "data": {
      "image/png": "[encoded data removed]",
      "text/plain": [
       "<Figure size 432x288 with 1 Axes>"
      ]
     },
     "metadata": {
      "needs_background": "light"
     },
     "output_type": "display_data"
    }
   ],
   "source": [
    "sanityChecks.discProbVsError(train_data,disc,device)\n",
    "sanityChecks.discProbVsError(test_data,disc,device)"
   ]
  },
  {
   "cell_type": "markdown",
   "id": "130f3a4d",
   "metadata": {
    "id": "130f3a4d",
    "papermill": {
     "duration": 0.054334,
     "end_time": "2022-06-22T15:26:30.981795",
     "exception": false,
     "start_time": "2022-06-22T15:26:30.927461",
     "status": "completed"
    },
    "tags": []
   },
   "source": [
    "# ABC - GAN Model with skip connection"
   ]
  },
  {
   "cell_type": "code",
   "execution_count": 15,
   "id": "4e43dad1",
   "metadata": {
    "execution": {
     "iopub.execute_input": "2022-06-22T15:26:31.105724Z",
     "iopub.status.busy": "2022-06-22T15:26:31.103973Z",
     "iopub.status.idle": "2022-06-22T15:26:31.109529Z",
     "shell.execute_reply": "2022-06-22T15:26:31.110071Z"
    },
    "id": "4e43dad1",
    "papermill": {
     "duration": 0.070094,
     "end_time": "2022-06-22T15:26:31.110294",
     "exception": false,
     "start_time": "2022-06-22T15:26:31.040200",
     "status": "completed"
    },
    "tags": []
   },
   "outputs": [],
   "source": [
    "#Generator\n",
    "gen3 = network.GeneratorWithSkipConnection(n_features+1).to(device)\n",
    "constraints=network.weightConstraint()\n",
    "#Discriminator \n",
    "disc3 = network.Discriminator(n_features+1).to(device)\n",
    "\n",
    "criterion = torch.nn.BCELoss()\n",
    "gen_opt = torch.optim.Adam(gen3.parameters(), lr=0.001, betas=(0.5, 0.999))\n",
    "disc_opt = torch.optim.Adam(disc3.parameters(), lr=0.001, betas=(0.5, 0.999))\n"
   ]
  },
  {
   "cell_type": "code",
   "execution_count": 16,
   "id": "26acbc37",
   "metadata": {
    "execution": {
     "iopub.execute_input": "2022-06-22T15:26:31.290258Z",
     "iopub.status.busy": "2022-06-22T15:26:31.289391Z",
     "iopub.status.idle": "2022-06-22T15:27:42.011173Z",
     "shell.execute_reply": "2022-06-22T15:27:42.011714Z"
    },
    "id": "26acbc37",
    "papermill": {
     "duration": 70.833035,
     "end_time": "2022-06-22T15:27:42.011926",
     "exception": false,
     "start_time": "2022-06-22T15:26:31.178891",
     "status": "completed"
    },
    "tags": []
   },
   "outputs": [
    {
     "data": {
      "image/png": "[encoded data removed]",
      "text/plain": [
       "<Figure size 432x288 with 1 Axes>"
      ]
     },
     "metadata": {
      "needs_background": "light"
     },
     "output_type": "display_data"
    },
    {
     "data": {
      "image/png": "[encoded data removed]",
      "text/plain": [
       "<Figure size 432x288 with 1 Axes>"
      ]
     },
     "metadata": {
      "needs_background": "light"
     },
     "output_type": "display_data"
    }
   ],
   "source": [
    "ABC_train_test2.training_GAN_skip_connection(disc3,gen3,disc_opt,gen_opt,train_data,batch_size,n_epochs,criterion,prior_model,variance,bias,device)"
   ]
  },
  {
   "cell_type": "code",
   "execution_count": 17,
   "id": "c5e0717b",
   "metadata": {
    "execution": {
     "iopub.execute_input": "2022-06-22T15:27:42.157284Z",
     "iopub.status.busy": "2022-06-22T15:27:42.156371Z",
     "iopub.status.idle": "2022-06-22T15:27:42.897803Z",
     "shell.execute_reply": "2022-06-22T15:27:42.898391Z"
    },
    "id": "c5e0717b",
    "papermill": {
     "duration": 0.825458,
     "end_time": "2022-06-22T15:27:42.898627",
     "exception": false,
     "start_time": "2022-06-22T15:27:42.073169",
     "status": "completed"
    },
    "tags": []
   },
   "outputs": [
    {
     "data": {
      "application/scrapbook.scrap.json+json": {
       "data": 0.2793926619375143,
       "encoder": "json",
       "name": "ABC-GAN Model 3 MSE",
       "version": 1
      }
     },
     "metadata": {
      "scrapbook": {
       "data": true,
       "display": false,
       "name": "ABC-GAN Model 3 MSE"
      }
     },
     "output_type": "display_data"
    },
    {
     "data": {
      "application/scrapbook.scrap.json+json": {
       "data": 0.4328667604010552,
       "encoder": "json",
       "name": "ABC-GAN Model 3 MAE",
       "version": 1
      }
     },
     "metadata": {
      "scrapbook": {
       "data": true,
       "display": false,
       "name": "ABC-GAN Model 3 MAE"
      }
     },
     "output_type": "display_data"
    },
    {
     "data": {
      "application/scrapbook.scrap.json+json": {
       "data": 8.657335208021104,
       "encoder": "json",
       "name": "ABC-GAN Model 3 Manhattan Distance",
       "version": 1
      }
     },
     "metadata": {
      "scrapbook": {
       "data": true,
       "display": false,
       "name": "ABC-GAN Model 3 Manhattan Distance"
      }
     },
     "output_type": "display_data"
    },
    {
     "data": {
      "application/scrapbook.scrap.json+json": {
       "data": 2.363821719907003,
       "encoder": "json",
       "name": "ABC-GAN Model 3 Euclidean distance",
       "version": 1
      }
     },
     "metadata": {
      "scrapbook": {
       "data": true,
       "display": false,
       "name": "ABC-GAN Model 3 Euclidean distance"
      }
     },
     "output_type": "display_data"
    },
    {
     "data": {
      "application/scrapbook.scrap.json+json": {
       "data": [
        [
         0.2758806824267609,
         0.275269790158038,
         0.2780865095507426,
         0.2855967639650028,
         0.2786017600369486,
         0.2884271018199851,
         0.2812238540711899,
         0.2814484003584321,
         0.27592231882584456,
         0.2786688455061569,
         0.2820169370933964,
         0.2749812892663298,
         0.28075236777152335,
         0.2786712670142739,
         0.2777114825705778,
         0.28436880562880035,
         0.27951023538934083,
         0.2748671738384942,
         0.284499854136175,
         0.27928185863558075,
         0.28112103702547275,
         0.28090429970156905,
         0.27213937436275315,
         0.28059022394977073,
         0.27284738001859854,
         0.274344817533561,
         0.27781446411734817,
         0.27876270111704743,
         0.2821174924947024,
         0.27537134602963,
         0.2755390811393284,
         0.27600084185102997,
         0.27766537834073324,
         0.2822576852888349,
         0.2795549873855448,
         0.27963881093255505,
         0.28489837133835627,
         0.28221972306291165,
         0.27535260414044893,
         0.2822550479118122,
         0.2792233356746988,
         0.27733437843754394,
         0.28162175258483535,
         0.28053822553703256,
         0.28679694435719744,
         0.2811123664976029,
         0.2777566401882716,
         0.2787576053148735,
         0.28238876908218014,
         0.2786076275503268,
         0.28267578918628067,
         0.2808388802362022,
         0.2798398149339858,
         0.27619232177839936,
         0.2802388030568853,
         0.27749415038263364,
         0.2831007580679085,
         0.276185794763404,
         0.27237040130018275,
         0.27790177662707805,
         0.27731288633168677,
         0.2768582746331382,
         0.2801496848025215,
         0.27849910756126667,
         0.27304731034162555,
         0.277620457240044,
         0.28062030235478697,
         0.2799472893287279,
         0.2831007568550787,
         0.27726804048937154,
         0.278784634312473,
         0.28129044082096777,
         0.2872376248287511,
         0.27642099834165196,
         0.2803463516420807,
         0.2784474231579914,
         0.2770594411381358,
         0.2806809457542503,
         0.2774106227470927,
         0.2853102624876469,
         0.27367748823196647,
         0.2803058879498896,
         0.2763928423503151,
         0.2764576026150947,
         0.27729041251554787,
         0.27486728197142546,
         0.28470518451489785,
         0.27623961281799,
         0.279943011681576,
         0.28267383190681594,
         0.2811842681886459,
         0.2831368685811121,
         0.27961490703670155,
         0.27917761186839596,
         0.28323890143608244,
         0.2805854195866764,
         0.27934860164077613,
         0.2860721369965399,
         0.27782453688331576,
         0.2809578284452464
        ],
        [
         0.42952061221003535,
         0.4286717427894473,
         0.4348765542730689,
         0.43740173652768133,
         0.43498448226600883,
         0.43739905282855035,
         0.43448498398065566,
         0.433992438390851,
         0.4305391188710928,
         0.43255994487553834,
         0.43418853022158144,
         0.42607250064611435,
         0.43367573861032727,
         0.4323947636410594,
         0.43396407533437015,
         0.4358186833560467,
         0.4334858113899827,
         0.42833362314850093,
         0.4362908374518156,
         0.43467603661119936,
         0.43473674952983854,
         0.4333102468401194,
         0.42915587555617096,
         0.4359217435121536,
         0.4255021935328841,
         0.42890526317059996,
         0.4303380813449621,
         0.4324975099414587,
         0.4358584923669696,
         0.42781819868832827,
         0.42932744789868593,
         0.4301063196733594,
         0.43542034812271596,
         0.43303509671241047,
         0.4318006122484803,
         0.4318077225238085,
         0.4359519092366099,
         0.43705408927053213,
         0.42987063284963367,
         0.4417495081201196,
         0.43545319326221943,
         0.4315769327804446,
         0.43425273429602385,
         0.4323681216686964,
         0.4404946453869343,
         0.43518977984786034,
         0.42973424550145867,
         0.4289362706243992,
         0.4350791644304991,
         0.4300314659252763,
         0.4366451967507601,
         0.4340306198224425,
         0.43564491290599106,
         0.42750445529818537,
         0.4321600092574954,
         0.4304733270779252,
         0.43840076085180046,
         0.43009871151298285,
         0.42549991700798273,
         0.4316560495644808,
         0.43289487697184087,
         0.4330888194963336,
         0.4309894911944866,
         0.4304657965898514,
         0.4311818784102798,
         0.43109513372182845,
         0.4342776108533144,
         0.4332102134823799,
         0.43619124628603456,
         0.4308181570842862,
         0.4323551146313548,
         0.434044642187655,
         0.4378125574439764,
         0.4311262506991625,
         0.435487493686378,
         0.43362510688602923,
         0.4304055754095316,
         0.4332781333476305,
         0.4293317824602127,
         0.43774198517203333,
         0.42933577876538037,
         0.432600037753582,
         0.4300912482663989,
         0.4294594809412956,
         0.4317802399396896,
         0.4272041438147426,
         0.43460374865680934,
         0.4306875512003899,
         0.43520577698946,
         0.4343429420143366,
         0.4345894608646631,
         0.4359146974980831,
         0.43415961768478156,
         0.43188701178878547,
         0.4355387553572655,
         0.4350928829982877,
         0.4338937943801284,
         0.43664377704262736,
         0.4319596841931343,
         0.43353372160345316
        ],
        [
         8.590412244200706,
         8.573434855788946,
         8.697531085461378,
         8.748034730553627,
         8.699689645320177,
         8.747981056571007,
         8.689699679613113,
         8.67984876781702,
         8.610782377421856,
         8.651198897510767,
         8.68377060443163,
         8.521450012922287,
         8.673514772206545,
         8.647895272821188,
         8.679281506687403,
         8.716373667120934,
         8.669716227799654,
         8.566672462970018,
         8.725816749036312,
         8.693520732223988,
         8.694734990596771,
         8.666204936802387,
         8.583117511123419,
         8.718434870243073,
         8.510043870657682,
         8.578105263411999,
         8.606761626899242,
         8.649950198829174,
         8.717169847339392,
         8.556363973766565,
         8.586548957973719,
         8.602126393467188,
         8.708406962454319,
         8.660701934248209,
         8.636012244969606,
         8.63615445047617,
         8.719038184732199,
         8.741081785410643,
         8.597412656992674,
         8.834990162402391,
         8.709063865244389,
         8.631538655608892,
         8.685054685920477,
         8.647362433373928,
         8.809892907738686,
         8.703795596957207,
         8.594684910029173,
         8.578725412487984,
         8.701583288609982,
         8.600629318505526,
         8.732903935015202,
         8.68061239644885,
         8.712898258119822,
         8.550089105963707,
         8.643200185149908,
         8.609466541558504,
         8.768015217036009,
         8.601974230259657,
         8.509998340159655,
         8.633120991289616,
         8.657897539436817,
         8.661776389926672,
         8.619789823889732,
         8.609315931797028,
         8.623637568205595,
         8.62190267443657,
         8.685552217066288,
         8.664204269647598,
         8.723824925720692,
         8.616363141685724,
         8.647102292627096,
         8.6808928437531,
         8.756251148879528,
         8.62252501398325,
         8.70974987372756,
         8.672502137720585,
         8.608111508190632,
         8.66556266695261,
         8.586635649204254,
         8.754839703440666,
         8.586715575307608,
         8.65200075507164,
         8.601824965327978,
         8.589189618825912,
         8.635604798793793,
         8.544082876294851,
         8.692074973136187,
         8.613751024007797,
         8.7041155397892,
         8.686858840286732,
         8.691789217293262,
         8.718293949961662,
         8.683192353695631,
         8.63774023577571,
         8.71077510714531,
         8.701857659965754,
         8.677875887602568,
         8.732875540852547,
         8.639193683862686,
         8.670674432069063
        ],
        [
         2.348960120677918,
         2.3463579870004407,
         2.358332078188916,
         2.3899655393540833,
         2.360515875976896,
         2.4017789316254112,
         2.3715980016486347,
         2.372544627013082,
         2.349137368592329,
         2.360800057210084,
         2.3749397343654697,
         2.3451280957181413,
         2.369609114480797,
         2.3608103143381673,
         2.3567413204277545,
         2.3848220295393125,
         2.3643613741953273,
         2.3446414388494214,
         2.38537147688227,
         2.3633952637490867,
         2.3711644271347896,
         2.370250196504871,
         2.3329782440595244,
         2.3689247516532506,
         2.3360110445740556,
         2.3424125065135772,
         2.357178245773315,
         2.361197582232573,
         2.375363098537579,
         2.34679077051888,
         2.347505404208171,
         2.34947160804735,
         2.356545685280611,
         2.375953220452098,
         2.364550643930236,
         2.364905118318936,
         2.387041563686549,
         2.3757934382555717,
         2.346710907378448,
         2.3759421201359774,
         2.363147628374913,
         2.355140668569688,
         2.373275174036232,
         2.368705239311268,
         2.394982022300783,
         2.371127860312906,
         2.3569329230517853,
         2.3611760007033507,
         2.376504866740988,
         2.360540732757335,
         2.3777123004530245,
         2.3699741780711543,
         2.3657549109490854,
         2.350286458193551,
         2.3674408252663266,
         2.355818967504225,
         2.3794989307327223,
         2.3502586868828033,
         2.333968300128272,
         2.3575486278211866,
         2.355049410656544,
         2.3531182487632796,
         2.367064362464703,
         2.3600809628538872,
         2.336866749909483,
         2.356355054910206,
         2.3690517189575533,
         2.3662091595153965,
         2.3794989256357257,
         2.3548589787474388,
         2.36129047053713,
         2.37187875247015,
         2.3968213318007296,
         2.351259230036756,
         2.367895063730995,
         2.359861958496689,
         2.3539729868379364,
         2.3693076868750085,
         2.3554643820151164,
         2.388766470325833,
         2.339561874505423,
         2.3677241729132623,
         2.351139478424515,
         2.3514149043292836,
         2.3549539805081023,
         2.344641900041136,
         2.3862321115721237,
         2.350487663520019,
         2.366191081386184,
         2.3777040686629443,
         2.371431079279539,
         2.379650682689004,
         2.3648040385482325,
         2.362954133572617,
         2.3800794164736705,
         2.368904470790987,
         2.3636776499378085,
         2.3919537495383976,
         2.3572209776909574,
         2.3704760215840466
        ]
       ],
       "encoder": "json",
       "name": "ABC_GAN_3 Metrics",
       "version": 1
      }
     },
     "metadata": {
      "scrapbook": {
       "data": true,
       "display": false,
       "name": "ABC_GAN_3 Metrics"
      }
     },
     "output_type": "display_data"
    },
    {
     "name": "stdout",
     "output_type": "stream",
     "text": [
      "MSE\n",
      "0.2793926619375143\n"
     ]
    }
   ],
   "source": [
    "ABC_GAN3_metrics=ABC_train_test2.test_generator(gen3,test_data,prior_model,variance,bias,\"3\",device)\n",
    "sb.glue(\"ABC_GAN_3 Metrics\",ABC_GAN3_metrics)\n",
    "\n",
    "print(\"MSE\")\n",
    "print(mean(ABC_GAN3_metrics[0]))"
   ]
  },
  {
   "cell_type": "code",
   "execution_count": 18,
   "id": "c8e46b48",
   "metadata": {
    "execution": {
     "iopub.execute_input": "2022-06-22T15:27:43.024505Z",
     "iopub.status.busy": "2022-06-22T15:27:43.023758Z",
     "iopub.status.idle": "2022-06-22T15:27:43.753877Z",
     "shell.execute_reply": "2022-06-22T15:27:43.754472Z"
    },
    "id": "c8e46b48",
    "papermill": {
     "duration": 0.798622,
     "end_time": "2022-06-22T15:27:43.754692",
     "exception": false,
     "start_time": "2022-06-22T15:27:42.956070",
     "status": "completed"
    },
    "tags": []
   },
   "outputs": [
    {
     "data": {
      "image/png": "[encoded data removed]",
      "text/plain": [
       "<Figure size 432x288 with 1 Axes>"
      ]
     },
     "metadata": {
      "needs_background": "light"
     },
     "output_type": "display_data"
    },
    {
     "data": {
      "image/png": "[encoded data removed]",
      "text/plain": [
       "<Figure size 432x288 with 1 Axes>"
      ]
     },
     "metadata": {
      "needs_background": "light"
     },
     "output_type": "display_data"
    },
    {
     "data": {
      "image/png": "[encoded data removed]",
      "text/plain": [
       "<Figure size 432x288 with 1 Axes>"
      ]
     },
     "metadata": {
      "needs_background": "light"
     },
     "output_type": "display_data"
    },
    {
     "data": {
      "image/png": "[encoded data removed]",
      "text/plain": [
       "<Figure size 432x288 with 1 Axes>"
      ]
     },
     "metadata": {
      "needs_background": "light"
     },
     "output_type": "display_data"
    }
   ],
   "source": [
    "sanityChecks.discProbVsError(train_data,disc3,device)\n",
    "sanityChecks.discProbVsError(test_data,disc3,device)"
   ]
  },
  {
   "cell_type": "markdown",
   "id": "a5bd74c3",
   "metadata": {
    "id": "a5bd74c3",
    "papermill": {
     "duration": 0.072807,
     "end_time": "2022-06-22T15:27:43.893793",
     "exception": false,
     "start_time": "2022-06-22T15:27:43.820986",
     "status": "completed"
    },
    "tags": []
   },
   "source": [
    "## Skip Connection Model Analysis - ABC-GAN "
   ]
  },
  {
   "cell_type": "markdown",
   "id": "5744a8bf",
   "metadata": {
    "id": "5744a8bf",
    "papermill": {
     "duration": 0.068793,
     "end_time": "2022-06-22T15:27:44.026886",
     "exception": false,
     "start_time": "2022-06-22T15:27:43.958093",
     "status": "completed"
    },
    "tags": []
   },
   "source": [
    "### Weight Analysis \n",
    "\n",
    "Study the weights of the skip connection layer\n",
    "\n",
    "Equation of the skip connection is \n",
    "\n",
    "$output = y_{gan} * w + y_{abc} * (1-w)$"
   ]
  },
  {
   "cell_type": "code",
   "execution_count": 19,
   "id": "52c31dea",
   "metadata": {
    "execution": {
     "iopub.execute_input": "2022-06-22T15:27:44.169990Z",
     "iopub.status.busy": "2022-06-22T15:27:44.169239Z",
     "iopub.status.idle": "2022-06-22T15:27:44.177490Z",
     "shell.execute_reply": "2022-06-22T15:27:44.178080Z"
    },
    "id": "52c31dea",
    "papermill": {
     "duration": 0.091179,
     "end_time": "2022-06-22T15:27:44.178294",
     "exception": false,
     "start_time": "2022-06-22T15:27:44.087115",
     "status": "completed"
    },
    "tags": []
   },
   "outputs": [
    {
     "name": "stdout",
     "output_type": "stream",
     "text": [
      "Weight of the node at skip connection\n",
      "Parameter containing:\n",
      "tensor([[0.4087]], requires_grad=True)\n"
     ]
    },
    {
     "data": {
      "application/scrapbook.scrap.json+json": {
       "data": 0.4086814820766449,
       "encoder": "json",
       "name": "Skip Connection Weight",
       "version": 1
      }
     },
     "metadata": {
      "scrapbook": {
       "data": true,
       "display": false,
       "name": "Skip Connection Weight"
      }
     },
     "output_type": "display_data"
    }
   ],
   "source": [
    "print(\"Weight of the node at skip connection\")\n",
    "for name,param in gen3.named_parameters():\n",
    "    if(name == \"skipNode.weight\"):\n",
    "        print(param)\n",
    "        sb.glue(\"Skip Connection Weight\",param.item())"
   ]
  }
 ],
 "metadata": {
  "colab": {
   "collapsed_sections": [],
   "name": "ABC_GAN_Model-Catboost_Pre-gen.ipynb",
   "provenance": []
  },
  "interpreter": {
   "hash": "31f2aee4e71d21fbe5cf8b01ff0e069b9275f58929596ceb00d14d90e3e16cd6"
  },
  "kernelspec": {
   "display_name": "Python 3 (ipykernel)",
   "language": "python",
   "name": "python3"
  },
  "language_info": {
   "codemirror_mode": {
    "name": "ipython",
    "version": 3
   },
   "file_extension": ".py",
   "mimetype": "text/x-python",
   "name": "python",
   "nbconvert_exporter": "python",
   "pygments_lexer": "ipython3",
   "version": "3.8.3"
  },
  "papermill": {
   "default_parameters": {},
   "duration": 157.322069,
   "end_time": "2022-06-22T15:27:45.099695",
   "environment_variables": {},
   "exception": null,
   "input_path": "ABC_GAN-TabNet.ipynb",
   "output_path": "./ABC_GAN_TabNet/ABC-GAN_output_8_5.ipynb",
   "parameters": {
    "bias": 0.1,
    "variance": 0.01
   },
   "start_time": "2022-06-22T15:25:07.777626",
   "version": "2.3.3"
  }
 },
 "nbformat": 4,
 "nbformat_minor": 5
}