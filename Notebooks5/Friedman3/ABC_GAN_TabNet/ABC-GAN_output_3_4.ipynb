{
 "cells": [
  {
   "cell_type": "markdown",
   "id": "622780e6",
   "metadata": {
    "id": "622780e6",
    "papermill": {
     "duration": 0.029764,
     "end_time": "2022-06-22T12:33:34.852850",
     "exception": false,
     "start_time": "2022-06-22T12:33:34.823086",
     "status": "completed"
    },
    "tags": []
   },
   "source": [
    "## Import Libraries "
   ]
  },
  {
   "cell_type": "code",
   "execution_count": 1,
   "id": "a62397e3",
   "metadata": {
    "execution": {
     "iopub.execute_input": "2022-06-22T12:33:34.908322Z",
     "iopub.status.busy": "2022-06-22T12:33:34.906858Z",
     "iopub.status.idle": "2022-06-22T12:33:34.911890Z",
     "shell.execute_reply": "2022-06-22T12:33:34.912794Z"
    },
    "id": "a62397e3",
    "papermill": {
     "duration": 0.0392,
     "end_time": "2022-06-22T12:33:34.913130",
     "exception": false,
     "start_time": "2022-06-22T12:33:34.873930",
     "status": "completed"
    },
    "tags": []
   },
   "outputs": [],
   "source": [
    "import warnings\n",
    "import sys\n",
    "sys.path.insert(0, '../../src')\n",
    "warnings.filterwarnings('ignore')"
   ]
  },
  {
   "cell_type": "code",
   "execution_count": 2,
   "id": "d6a4e155",
   "metadata": {
    "execution": {
     "iopub.execute_input": "2022-06-22T12:33:34.950878Z",
     "iopub.status.busy": "2022-06-22T12:33:34.949947Z",
     "iopub.status.idle": "2022-06-22T12:33:40.714020Z",
     "shell.execute_reply": "2022-06-22T12:33:40.714609Z"
    },
    "id": "d6a4e155",
    "papermill": {
     "duration": 5.784372,
     "end_time": "2022-06-22T12:33:40.714870",
     "exception": false,
     "start_time": "2022-06-22T12:33:34.930498",
     "status": "completed"
    },
    "tags": []
   },
   "outputs": [],
   "source": [
    "import ABC_train_test2\n",
    "import friedman3Dataset\n",
    "import network\n",
    "import dataset\n",
    "import sanityChecks\n",
    "import torch \n",
    "import scrapbook as sb\n",
    "from statistics import mean \n",
    "import catboost as ctb \n",
    "from sklearn.model_selection import train_test_split\n",
    "from sklearn.metrics import mean_squared_error,mean_absolute_error\n",
    "import numpy as np\n",
    "from pytorch_tabnet.tab_model import TabNetRegressor"
   ]
  },
  {
   "cell_type": "markdown",
   "id": "2fa5b0f7",
   "metadata": {
    "id": "2fa5b0f7",
    "papermill": {
     "duration": 0.018745,
     "end_time": "2022-06-22T12:33:40.751474",
     "exception": false,
     "start_time": "2022-06-22T12:33:40.732729",
     "status": "completed"
    },
    "tags": []
   },
   "source": [
    "## Parameters "
   ]
  },
  {
   "cell_type": "code",
   "execution_count": 3,
   "id": "783186fb",
   "metadata": {
    "execution": {
     "iopub.execute_input": "2022-06-22T12:33:40.794058Z",
     "iopub.status.busy": "2022-06-22T12:33:40.793219Z",
     "iopub.status.idle": "2022-06-22T12:33:40.795817Z",
     "shell.execute_reply": "2022-06-22T12:33:40.796836Z"
    },
    "id": "783186fb",
    "papermill": {
     "duration": 0.028558,
     "end_time": "2022-06-22T12:33:40.797125",
     "exception": false,
     "start_time": "2022-06-22T12:33:40.768567",
     "status": "completed"
    },
    "tags": [
     "parameters"
    ]
   },
   "outputs": [],
   "source": [
    "variance = 1\n",
    "bias = 1 "
   ]
  },
  {
   "cell_type": "code",
   "execution_count": 4,
   "id": "7734ea17",
   "metadata": {
    "execution": {
     "iopub.execute_input": "2022-06-22T12:33:40.831761Z",
     "iopub.status.busy": "2022-06-22T12:33:40.830960Z",
     "iopub.status.idle": "2022-06-22T12:33:40.833136Z",
     "shell.execute_reply": "2022-06-22T12:33:40.833677Z"
    },
    "papermill": {
     "duration": 0.021307,
     "end_time": "2022-06-22T12:33:40.833876",
     "exception": false,
     "start_time": "2022-06-22T12:33:40.812569",
     "status": "completed"
    },
    "tags": [
     "injected-parameters"
    ]
   },
   "outputs": [],
   "source": [
    "# Parameters\n",
    "variance = 0.1\n",
    "bias = 0.1\n"
   ]
  },
  {
   "cell_type": "markdown",
   "id": "391cdbfd",
   "metadata": {
    "id": "391cdbfd",
    "papermill": {
     "duration": 0.025292,
     "end_time": "2022-06-22T12:33:40.876225",
     "exception": false,
     "start_time": "2022-06-22T12:33:40.850933",
     "status": "completed"
    },
    "tags": []
   },
   "source": [
    "## Dataset \n"
   ]
  },
  {
   "cell_type": "code",
   "execution_count": 5,
   "id": "5b51f161",
   "metadata": {
    "execution": {
     "iopub.execute_input": "2022-06-22T12:33:40.914548Z",
     "iopub.status.busy": "2022-06-22T12:33:40.913755Z",
     "iopub.status.idle": "2022-06-22T12:33:40.915798Z",
     "shell.execute_reply": "2022-06-22T12:33:40.916255Z"
    },
    "id": "5b51f161",
    "papermill": {
     "duration": 0.022157,
     "end_time": "2022-06-22T12:33:40.916522",
     "exception": false,
     "start_time": "2022-06-22T12:33:40.894365",
     "status": "completed"
    },
    "tags": []
   },
   "outputs": [],
   "source": [
    "#Parameters \n",
    "n_features = 4\n",
    "n_samples= 100\n",
    "n_target = 1"
   ]
  },
  {
   "cell_type": "code",
   "execution_count": 6,
   "id": "5d6eced4",
   "metadata": {
    "execution": {
     "iopub.execute_input": "2022-06-22T12:33:40.951354Z",
     "iopub.status.busy": "2022-06-22T12:33:40.950559Z",
     "iopub.status.idle": "2022-06-22T12:33:40.966334Z",
     "shell.execute_reply": "2022-06-22T12:33:40.967848Z"
    },
    "id": "5d6eced4",
    "papermill": {
     "duration": 0.037323,
     "end_time": "2022-06-22T12:33:40.968512",
     "exception": false,
     "start_time": "2022-06-22T12:33:40.931189",
     "status": "completed"
    },
    "tags": []
   },
   "outputs": [
    {
     "name": "stdout",
     "output_type": "stream",
     "text": [
      "          X1           X2        X3        X4         Y\n",
      "0  75.442056  1414.003062  0.580130  7.835273  1.533039\n",
      "1  21.221688  1301.273744  0.573472  2.580264  1.530017\n",
      "2  92.495320  1040.097203  0.719508  3.146299  1.478314\n",
      "3  32.710804   166.573353  0.046806  1.489424  0.258381\n",
      "4  11.586110  1128.520918  0.631463  6.358872  1.678582\n"
     ]
    }
   ],
   "source": [
    "X,Y = friedman3Dataset.friedman3_data(n_samples)"
   ]
  },
  {
   "cell_type": "code",
   "execution_count": 7,
   "id": "fe007438",
   "metadata": {
    "execution": {
     "iopub.execute_input": "2022-06-22T12:33:41.010756Z",
     "iopub.status.busy": "2022-06-22T12:33:41.009431Z",
     "iopub.status.idle": "2022-06-22T12:33:41.013260Z",
     "shell.execute_reply": "2022-06-22T12:33:41.014080Z"
    },
    "id": "fe007438",
    "papermill": {
     "duration": 0.029511,
     "end_time": "2022-06-22T12:33:41.014361",
     "exception": false,
     "start_time": "2022-06-22T12:33:40.984850",
     "status": "completed"
    },
    "tags": []
   },
   "outputs": [],
   "source": [
    "#Train test split for dataset \n",
    "X_train,X_test,Y_train,Y_test = train_test_split(X,Y,test_size = 0.2)\n",
    "train_data = dataset.CustomDataset(X_train,Y_train)\n",
    "test_data = dataset.CustomDataset(X_test,Y_test)\n"
   ]
  },
  {
   "cell_type": "markdown",
   "id": "a9a1af34",
   "metadata": {
    "id": "a9a1af34",
    "papermill": {
     "duration": 0.016724,
     "end_time": "2022-06-22T12:33:41.048425",
     "exception": false,
     "start_time": "2022-06-22T12:33:41.031701",
     "status": "completed"
    },
    "tags": []
   },
   "source": [
    "## Training Parameters "
   ]
  },
  {
   "cell_type": "code",
   "execution_count": 8,
   "id": "952b7fc8",
   "metadata": {
    "execution": {
     "iopub.execute_input": "2022-06-22T12:33:41.082156Z",
     "iopub.status.busy": "2022-06-22T12:33:41.081375Z",
     "iopub.status.idle": "2022-06-22T12:33:41.083343Z",
     "shell.execute_reply": "2022-06-22T12:33:41.083790Z"
    },
    "id": "952b7fc8",
    "papermill": {
     "duration": 0.020371,
     "end_time": "2022-06-22T12:33:41.084041",
     "exception": false,
     "start_time": "2022-06-22T12:33:41.063670",
     "status": "completed"
    },
    "tags": []
   },
   "outputs": [],
   "source": [
    "batch_size = 32\n",
    "n_epochs = 1000\n",
    "#Select the device \n",
    "device = torch.device('cuda' if torch.cuda.is_available() else 'cpu')"
   ]
  },
  {
   "cell_type": "markdown",
   "id": "a95e1600",
   "metadata": {
    "id": "a95e1600",
    "papermill": {
     "duration": 0.015723,
     "end_time": "2022-06-22T12:33:41.113732",
     "exception": false,
     "start_time": "2022-06-22T12:33:41.098009",
     "status": "completed"
    },
    "tags": []
   },
   "source": [
    "# ABC Pre-generator Model \n",
    "\n",
    "1. The catboost model is used as a pre-generator model for the ABC-GAN. \n",
    "2. The model is first trained on the entire dataset \n",
    "3. It generats X,Y pairs and we add some Gaussian noise with mean 0 and variance 1 to it which is then feed as input to the generator.\n"
   ]
  },
  {
   "cell_type": "code",
   "execution_count": 9,
   "id": "ff8ce7bd",
   "metadata": {
    "execution": {
     "iopub.execute_input": "2022-06-22T12:33:41.154984Z",
     "iopub.status.busy": "2022-06-22T12:33:41.153598Z",
     "iopub.status.idle": "2022-06-22T12:34:02.145984Z",
     "shell.execute_reply": "2022-06-22T12:34:02.146596Z"
    },
    "id": "ff8ce7bd",
    "papermill": {
     "duration": 21.015797,
     "end_time": "2022-06-22T12:34:02.146788",
     "exception": false,
     "start_time": "2022-06-22T12:33:41.130991",
     "status": "completed"
    },
    "tags": []
   },
   "outputs": [
    {
     "name": "stdout",
     "output_type": "stream",
     "text": [
      "Device used : cpu\n"
     ]
    },
    {
     "name": "stdout",
     "output_type": "stream",
     "text": [
      "epoch 0  | loss: 1.20401 | train_mse: 8.90509 | train_mae: 1.89413 |  0:00:00s\n",
      "epoch 1  | loss: 0.60035 | train_mse: 3.54292 | train_mae: 1.30904 |  0:00:00s\n",
      "epoch 2  | loss: 0.44307 | train_mse: 1.60469 | train_mae: 0.97184 |  0:00:00s\n"
     ]
    },
    {
     "name": "stdout",
     "output_type": "stream",
     "text": [
      "epoch 3  | loss: 0.42362 | train_mse: 1.16089 | train_mae: 0.77266 |  0:00:00s\n",
      "epoch 4  | loss: 0.40676 | train_mse: 1.33747 | train_mae: 0.78738 |  0:00:00s\n",
      "epoch 5  | loss: 0.44761 | train_mse: 1.27192 | train_mae: 0.76501 |  0:00:00s\n"
     ]
    },
    {
     "name": "stdout",
     "output_type": "stream",
     "text": [
      "epoch 6  | loss: 0.30623 | train_mse: 0.64405 | train_mae: 0.60627 |  0:00:00s\n",
      "epoch 7  | loss: 0.3777  | train_mse: 0.78657 | train_mae: 0.64976 |  0:00:00s\n",
      "epoch 8  | loss: 0.41651 | train_mse: 0.96362 | train_mae: 0.72976 |  0:00:00s\n",
      "epoch 9  | loss: 0.28012 | train_mse: 1.05044 | train_mae: 0.74384 |  0:00:00s\n"
     ]
    },
    {
     "name": "stdout",
     "output_type": "stream",
     "text": [
      "epoch 10 | loss: 0.33823 | train_mse: 0.6681  | train_mae: 0.61728 |  0:00:00s\n",
      "epoch 11 | loss: 0.26971 | train_mse: 0.47196 | train_mae: 0.49323 |  0:00:00s\n",
      "epoch 12 | loss: 0.325   | train_mse: 0.41133 | train_mae: 0.47045 |  0:00:01s\n"
     ]
    },
    {
     "name": "stdout",
     "output_type": "stream",
     "text": [
      "epoch 13 | loss: 0.24547 | train_mse: 0.48206 | train_mae: 0.51083 |  0:00:01s\n",
      "epoch 14 | loss: 0.20252 | train_mse: 0.67093 | train_mae: 0.58803 |  0:00:01s\n",
      "epoch 15 | loss: 0.29511 | train_mse: 1.04994 | train_mae: 0.71893 |  0:00:01s\n"
     ]
    },
    {
     "name": "stdout",
     "output_type": "stream",
     "text": [
      "epoch 16 | loss: 0.26325 | train_mse: 0.65925 | train_mae: 0.57966 |  0:00:01s\n",
      "epoch 17 | loss: 0.3746  | train_mse: 0.35896 | train_mae: 0.44614 |  0:00:01s\n",
      "epoch 18 | loss: 0.24849 | train_mse: 0.35952 | train_mae: 0.45096 |  0:00:01s\n"
     ]
    },
    {
     "name": "stdout",
     "output_type": "stream",
     "text": [
      "epoch 19 | loss: 0.25415 | train_mse: 0.48862 | train_mae: 0.52268 |  0:00:01s\n",
      "epoch 20 | loss: 0.28292 | train_mse: 0.5594  | train_mae: 0.5623  |  0:00:01s\n",
      "epoch 21 | loss: 0.4527  | train_mse: 0.65381 | train_mae: 0.5514  |  0:00:01s\n"
     ]
    },
    {
     "name": "stdout",
     "output_type": "stream",
     "text": [
      "epoch 22 | loss: 0.19777 | train_mse: 0.30844 | train_mae: 0.41515 |  0:00:01s\n",
      "epoch 23 | loss: 0.22994 | train_mse: 0.19003 | train_mae: 0.35333 |  0:00:01s\n",
      "epoch 24 | loss: 0.30013 | train_mse: 0.20023 | train_mae: 0.34005 |  0:00:02s\n"
     ]
    },
    {
     "name": "stdout",
     "output_type": "stream",
     "text": [
      "epoch 25 | loss: 0.30647 | train_mse: 0.20405 | train_mae: 0.34854 |  0:00:02s\n",
      "epoch 26 | loss: 0.24856 | train_mse: 0.22948 | train_mae: 0.37423 |  0:00:02s\n",
      "epoch 27 | loss: 0.26276 | train_mse: 0.17669 | train_mae: 0.3168  |  0:00:02s\n"
     ]
    },
    {
     "name": "stdout",
     "output_type": "stream",
     "text": [
      "epoch 28 | loss: 0.20286 | train_mse: 0.20225 | train_mae: 0.33447 |  0:00:02s\n",
      "epoch 29 | loss: 0.16314 | train_mse: 0.1795  | train_mae: 0.31919 |  0:00:02s\n"
     ]
    },
    {
     "name": "stdout",
     "output_type": "stream",
     "text": [
      "epoch 30 | loss: 0.21286 | train_mse: 0.19703 | train_mae: 0.32668 |  0:00:02s\n",
      "epoch 31 | loss: 0.23079 | train_mse: 0.17696 | train_mae: 0.33364 |  0:00:03s\n",
      "epoch 32 | loss: 0.21795 | train_mse: 0.1487  | train_mae: 0.30769 |  0:00:03s\n"
     ]
    },
    {
     "name": "stdout",
     "output_type": "stream",
     "text": [
      "epoch 33 | loss: 0.16969 | train_mse: 0.13622 | train_mae: 0.29755 |  0:00:03s\n",
      "epoch 34 | loss: 0.37292 | train_mse: 0.19764 | train_mae: 0.34754 |  0:00:03s\n",
      "epoch 35 | loss: 0.28902 | train_mse: 0.17121 | train_mae: 0.32152 |  0:00:03s\n"
     ]
    },
    {
     "name": "stdout",
     "output_type": "stream",
     "text": [
      "epoch 36 | loss: 0.23956 | train_mse: 0.16183 | train_mae: 0.30396 |  0:00:03s\n",
      "epoch 37 | loss: 0.27702 | train_mse: 0.16205 | train_mae: 0.31355 |  0:00:03s\n",
      "epoch 38 | loss: 0.23606 | train_mse: 0.20038 | train_mae: 0.3354  |  0:00:03s\n",
      "epoch 39 | loss: 0.34825 | train_mse: 0.20683 | train_mae: 0.33639 |  0:00:03s\n"
     ]
    },
    {
     "name": "stdout",
     "output_type": "stream",
     "text": [
      "epoch 40 | loss: 0.27415 | train_mse: 0.24839 | train_mae: 0.36895 |  0:00:03s\n",
      "epoch 41 | loss: 0.27016 | train_mse: 0.20477 | train_mae: 0.33795 |  0:00:03s\n",
      "epoch 42 | loss: 0.25346 | train_mse: 0.1751  | train_mae: 0.32241 |  0:00:03s\n"
     ]
    },
    {
     "name": "stdout",
     "output_type": "stream",
     "text": [
      "epoch 43 | loss: 0.21914 | train_mse: 0.15714 | train_mae: 0.30386 |  0:00:03s\n",
      "epoch 44 | loss: 0.2542  | train_mse: 0.14525 | train_mae: 0.29666 |  0:00:03s\n",
      "epoch 45 | loss: 0.24713 | train_mse: 0.15874 | train_mae: 0.30634 |  0:00:04s\n"
     ]
    },
    {
     "name": "stdout",
     "output_type": "stream",
     "text": [
      "epoch 46 | loss: 0.20114 | train_mse: 0.18925 | train_mae: 0.32876 |  0:00:04s\n",
      "epoch 47 | loss: 0.25808 | train_mse: 0.16024 | train_mae: 0.30526 |  0:00:04s\n",
      "epoch 48 | loss: 0.28293 | train_mse: 0.14995 | train_mae: 0.29193 |  0:00:04s\n",
      "epoch 49 | loss: 0.26082 | train_mse: 0.16129 | train_mae: 0.31214 |  0:00:04s\n"
     ]
    },
    {
     "name": "stdout",
     "output_type": "stream",
     "text": [
      "epoch 50 | loss: 0.18137 | train_mse: 0.14389 | train_mae: 0.29294 |  0:00:04s\n",
      "epoch 51 | loss: 0.23641 | train_mse: 0.1441  | train_mae: 0.28875 |  0:00:04s\n",
      "epoch 52 | loss: 0.38504 | train_mse: 0.15347 | train_mae: 0.29932 |  0:00:04s\n"
     ]
    },
    {
     "name": "stdout",
     "output_type": "stream",
     "text": [
      "epoch 53 | loss: 0.46245 | train_mse: 0.14766 | train_mae: 0.28338 |  0:00:04s\n",
      "epoch 54 | loss: 0.15289 | train_mse: 0.21856 | train_mae: 0.37269 |  0:00:04s\n",
      "epoch 55 | loss: 0.17728 | train_mse: 0.29965 | train_mae: 0.44082 |  0:00:04s\n",
      "epoch 56 | loss: 0.23562 | train_mse: 0.23831 | train_mae: 0.38149 |  0:00:04s\n"
     ]
    },
    {
     "name": "stdout",
     "output_type": "stream",
     "text": [
      "epoch 57 | loss: 0.21574 | train_mse: 0.1881  | train_mae: 0.31561 |  0:00:04s\n",
      "epoch 58 | loss: 0.21227 | train_mse: 0.16998 | train_mae: 0.31111 |  0:00:04s\n",
      "epoch 59 | loss: 0.24858 | train_mse: 0.1852  | train_mae: 0.34584 |  0:00:04s\n",
      "epoch 60 | loss: 0.17049 | train_mse: 0.25783 | train_mae: 0.4003  |  0:00:05s\n"
     ]
    },
    {
     "name": "stdout",
     "output_type": "stream",
     "text": [
      "epoch 61 | loss: 0.21719 | train_mse: 0.26481 | train_mae: 0.38661 |  0:00:05s\n",
      "epoch 62 | loss: 0.29571 | train_mse: 0.21639 | train_mae: 0.33919 |  0:00:05s\n",
      "epoch 63 | loss: 0.15476 | train_mse: 0.15305 | train_mae: 0.2963  |  0:00:05s\n",
      "epoch 64 | loss: 0.19455 | train_mse: 0.12489 | train_mae: 0.27074 |  0:00:05s\n"
     ]
    },
    {
     "name": "stdout",
     "output_type": "stream",
     "text": [
      "epoch 65 | loss: 0.15263 | train_mse: 0.13    | train_mae: 0.28872 |  0:00:05s\n",
      "epoch 66 | loss: 0.22328 | train_mse: 0.12704 | train_mae: 0.2783  |  0:00:05s\n",
      "epoch 67 | loss: 0.17993 | train_mse: 0.1628  | train_mae: 0.2926  |  0:00:05s\n",
      "epoch 68 | loss: 0.21012 | train_mse: 0.15872 | train_mae: 0.30235 |  0:00:05s\n"
     ]
    },
    {
     "name": "stdout",
     "output_type": "stream",
     "text": [
      "epoch 69 | loss: 0.15831 | train_mse: 0.12224 | train_mae: 0.26907 |  0:00:05s\n",
      "epoch 70 | loss: 0.1315  | train_mse: 0.11494 | train_mae: 0.2588  |  0:00:05s\n",
      "epoch 71 | loss: 0.28332 | train_mse: 0.15123 | train_mae: 0.2848  |  0:00:05s\n"
     ]
    },
    {
     "name": "stdout",
     "output_type": "stream",
     "text": [
      "epoch 72 | loss: 0.19501 | train_mse: 0.1563  | train_mae: 0.28863 |  0:00:05s\n",
      "epoch 73 | loss: 0.20686 | train_mse: 0.09706 | train_mae: 0.24428 |  0:00:05s\n",
      "epoch 74 | loss: 0.12805 | train_mse: 0.11025 | train_mae: 0.2542  |  0:00:06s\n",
      "epoch 75 | loss: 0.27699 | train_mse: 0.16853 | train_mae: 0.2965  |  0:00:06s\n"
     ]
    },
    {
     "name": "stdout",
     "output_type": "stream",
     "text": [
      "epoch 76 | loss: 0.23441 | train_mse: 0.20272 | train_mae: 0.31684 |  0:00:06s\n",
      "epoch 77 | loss: 0.20255 | train_mse: 0.15669 | train_mae: 0.30139 |  0:00:06s\n",
      "epoch 78 | loss: 0.17091 | train_mse: 0.11753 | train_mae: 0.26484 |  0:00:06s\n",
      "epoch 79 | loss: 0.23149 | train_mse: 0.09491 | train_mae: 0.23475 |  0:00:06s\n"
     ]
    },
    {
     "name": "stdout",
     "output_type": "stream",
     "text": [
      "epoch 80 | loss: 0.23758 | train_mse: 0.09638 | train_mae: 0.24126 |  0:00:06s\n",
      "epoch 81 | loss: 0.11606 | train_mse: 0.10295 | train_mae: 0.24774 |  0:00:06s\n",
      "epoch 82 | loss: 0.19088 | train_mse: 0.15718 | train_mae: 0.29692 |  0:00:06s\n"
     ]
    },
    {
     "name": "stdout",
     "output_type": "stream",
     "text": [
      "epoch 83 | loss: 0.21109 | train_mse: 0.16339 | train_mae: 0.30661 |  0:00:06s\n",
      "epoch 84 | loss: 0.12935 | train_mse: 0.16167 | train_mae: 0.31392 |  0:00:06s\n",
      "epoch 85 | loss: 0.15995 | train_mse: 0.13081 | train_mae: 0.27391 |  0:00:06s\n",
      "epoch 86 | loss: 0.18284 | train_mse: 0.10499 | train_mae: 0.24348 |  0:00:06s\n"
     ]
    },
    {
     "name": "stdout",
     "output_type": "stream",
     "text": [
      "epoch 87 | loss: 0.1705  | train_mse: 0.11166 | train_mae: 0.25708 |  0:00:06s\n",
      "epoch 88 | loss: 0.1827  | train_mse: 0.13164 | train_mae: 0.27177 |  0:00:06s\n",
      "epoch 89 | loss: 0.16101 | train_mse: 0.1244  | train_mae: 0.25768 |  0:00:07s\n",
      "epoch 90 | loss: 0.15607 | train_mse: 0.10865 | train_mae: 0.249   |  0:00:07s\n"
     ]
    },
    {
     "name": "stdout",
     "output_type": "stream",
     "text": [
      "epoch 91 | loss: 0.26322 | train_mse: 0.08998 | train_mae: 0.23308 |  0:00:07s\n",
      "epoch 92 | loss: 0.13251 | train_mse: 0.09908 | train_mae: 0.23536 |  0:00:07s\n",
      "epoch 93 | loss: 0.19649 | train_mse: 0.08689 | train_mae: 0.232   |  0:00:07s\n"
     ]
    },
    {
     "name": "stdout",
     "output_type": "stream",
     "text": [
      "epoch 94 | loss: 0.13938 | train_mse: 0.07895 | train_mae: 0.21611 |  0:00:07s\n",
      "epoch 95 | loss: 0.12226 | train_mse: 0.08311 | train_mae: 0.22896 |  0:00:07s\n",
      "epoch 96 | loss: 0.0939  | train_mse: 0.07973 | train_mae: 0.22226 |  0:00:07s\n"
     ]
    },
    {
     "name": "stdout",
     "output_type": "stream",
     "text": [
      "epoch 97 | loss: 0.1323  | train_mse: 0.07509 | train_mae: 0.20855 |  0:00:07s\n",
      "epoch 98 | loss: 0.12229 | train_mse: 0.07579 | train_mae: 0.21163 |  0:00:07s\n",
      "epoch 99 | loss: 0.14166 | train_mse: 0.09398 | train_mae: 0.24047 |  0:00:07s\n",
      "epoch 100| loss: 0.15032 | train_mse: 0.10911 | train_mae: 0.24851 |  0:00:07s\n"
     ]
    },
    {
     "name": "stdout",
     "output_type": "stream",
     "text": [
      "epoch 101| loss: 0.14467 | train_mse: 0.12134 | train_mae: 0.25483 |  0:00:07s\n",
      "epoch 102| loss: 0.15904 | train_mse: 0.09234 | train_mae: 0.23225 |  0:00:07s\n",
      "epoch 103| loss: 0.11779 | train_mse: 0.08854 | train_mae: 0.22988 |  0:00:08s\n",
      "epoch 104| loss: 0.09768 | train_mse: 0.10285 | train_mae: 0.25419 |  0:00:08s\n"
     ]
    },
    {
     "name": "stdout",
     "output_type": "stream",
     "text": [
      "epoch 105| loss: 0.26093 | train_mse: 0.11482 | train_mae: 0.26674 |  0:00:08s\n",
      "epoch 106| loss: 0.14459 | train_mse: 0.0845  | train_mae: 0.22712 |  0:00:08s\n",
      "epoch 107| loss: 0.14944 | train_mse: 0.07075 | train_mae: 0.20815 |  0:00:08s\n"
     ]
    },
    {
     "name": "stdout",
     "output_type": "stream",
     "text": [
      "epoch 108| loss: 0.11378 | train_mse: 0.06573 | train_mae: 0.20128 |  0:00:08s\n",
      "epoch 109| loss: 0.13082 | train_mse: 0.06726 | train_mae: 0.20324 |  0:00:08s\n",
      "epoch 110| loss: 0.13383 | train_mse: 0.0849  | train_mae: 0.23044 |  0:00:08s\n"
     ]
    },
    {
     "name": "stdout",
     "output_type": "stream",
     "text": [
      "epoch 111| loss: 0.09107 | train_mse: 0.09237 | train_mae: 0.23865 |  0:00:08s\n",
      "epoch 112| loss: 0.22957 | train_mse: 0.10755 | train_mae: 0.24341 |  0:00:08s\n",
      "epoch 113| loss: 0.12955 | train_mse: 0.12494 | train_mae: 0.23527 |  0:00:08s\n",
      "epoch 114| loss: 0.17797 | train_mse: 0.10471 | train_mae: 0.22472 |  0:00:08s\n"
     ]
    },
    {
     "name": "stdout",
     "output_type": "stream",
     "text": [
      "epoch 115| loss: 0.21572 | train_mse: 0.07395 | train_mae: 0.20565 |  0:00:08s\n",
      "epoch 116| loss: 0.10287 | train_mse: 0.10833 | train_mae: 0.22841 |  0:00:08s\n",
      "epoch 117| loss: 0.26366 | train_mse: 0.0966  | train_mae: 0.22947 |  0:00:08s\n",
      "epoch 118| loss: 0.16377 | train_mse: 0.08406 | train_mae: 0.21517 |  0:00:09s\n"
     ]
    },
    {
     "name": "stdout",
     "output_type": "stream",
     "text": [
      "epoch 119| loss: 0.10926 | train_mse: 0.08433 | train_mae: 0.21002 |  0:00:09s\n",
      "epoch 120| loss: 0.11593 | train_mse: 0.08581 | train_mae: 0.20801 |  0:00:09s\n",
      "epoch 121| loss: 0.15014 | train_mse: 0.097   | train_mae: 0.2212  |  0:00:09s\n",
      "epoch 122| loss: 0.11715 | train_mse: 0.09899 | train_mae: 0.22213 |  0:00:09s\n"
     ]
    },
    {
     "name": "stdout",
     "output_type": "stream",
     "text": [
      "epoch 123| loss: 0.13883 | train_mse: 0.09718 | train_mae: 0.22947 |  0:00:09s\n",
      "epoch 124| loss: 0.11729 | train_mse: 0.07377 | train_mae: 0.20162 |  0:00:09s\n",
      "epoch 125| loss: 0.17242 | train_mse: 0.07562 | train_mae: 0.20316 |  0:00:09s\n"
     ]
    },
    {
     "name": "stdout",
     "output_type": "stream",
     "text": [
      "epoch 126| loss: 0.12471 | train_mse: 0.08095 | train_mae: 0.20973 |  0:00:09s\n",
      "epoch 127| loss: 0.11021 | train_mse: 0.10152 | train_mae: 0.21816 |  0:00:09s\n",
      "epoch 128| loss: 0.21492 | train_mse: 0.13149 | train_mae: 0.2359  |  0:00:09s\n",
      "epoch 129| loss: 0.15378 | train_mse: 0.126   | train_mae: 0.24464 |  0:00:09s\n"
     ]
    },
    {
     "name": "stdout",
     "output_type": "stream",
     "text": [
      "epoch 130| loss: 0.15728 | train_mse: 0.09161 | train_mae: 0.2277  |  0:00:09s\n",
      "epoch 131| loss: 0.09218 | train_mse: 0.10628 | train_mae: 0.24373 |  0:00:09s\n",
      "epoch 132| loss: 0.17917 | train_mse: 0.11608 | train_mae: 0.24324 |  0:00:09s\n",
      "epoch 133| loss: 0.13401 | train_mse: 0.11081 | train_mae: 0.23545 |  0:00:10s\n"
     ]
    },
    {
     "name": "stdout",
     "output_type": "stream",
     "text": [
      "epoch 134| loss: 0.18544 | train_mse: 0.08309 | train_mae: 0.21596 |  0:00:10s\n",
      "epoch 135| loss: 0.15584 | train_mse: 0.08975 | train_mae: 0.23057 |  0:00:10s\n",
      "epoch 136| loss: 0.17617 | train_mse: 0.087   | train_mae: 0.22757 |  0:00:10s\n",
      "epoch 137| loss: 0.16375 | train_mse: 0.09885 | train_mae: 0.23966 |  0:00:10s\n"
     ]
    },
    {
     "name": "stdout",
     "output_type": "stream",
     "text": [
      "epoch 138| loss: 0.13352 | train_mse: 0.09612 | train_mae: 0.2394  |  0:00:10s\n",
      "epoch 139| loss: 0.15172 | train_mse: 0.0912  | train_mae: 0.22989 |  0:00:10s\n",
      "epoch 140| loss: 0.16065 | train_mse: 0.10065 | train_mae: 0.23599 |  0:00:10s\n",
      "epoch 141| loss: 0.28628 | train_mse: 0.13696 | train_mae: 0.27336 |  0:00:10s\n"
     ]
    },
    {
     "name": "stdout",
     "output_type": "stream",
     "text": [
      "epoch 142| loss: 0.14009 | train_mse: 0.14042 | train_mae: 0.2664  |  0:00:10s\n",
      "epoch 143| loss: 0.1562  | train_mse: 0.15018 | train_mae: 0.28042 |  0:00:10s\n",
      "epoch 144| loss: 0.16634 | train_mse: 0.10378 | train_mae: 0.24807 |  0:00:10s\n",
      "epoch 145| loss: 0.1236  | train_mse: 0.07769 | train_mae: 0.2191  |  0:00:10s\n"
     ]
    },
    {
     "name": "stdout",
     "output_type": "stream",
     "text": [
      "epoch 146| loss: 0.09644 | train_mse: 0.07021 | train_mae: 0.21164 |  0:00:10s\n",
      "epoch 147| loss: 0.12795 | train_mse: 0.07803 | train_mae: 0.21715 |  0:00:11s\n",
      "epoch 148| loss: 0.13193 | train_mse: 0.08974 | train_mae: 0.23449 |  0:00:11s\n",
      "epoch 149| loss: 0.21072 | train_mse: 0.06932 | train_mae: 0.20983 |  0:00:11s\n"
     ]
    },
    {
     "name": "stdout",
     "output_type": "stream",
     "text": [
      "epoch 150| loss: 0.09368 | train_mse: 0.06827 | train_mae: 0.20697 |  0:00:11s\n",
      "epoch 151| loss: 0.13832 | train_mse: 0.06188 | train_mae: 0.18836 |  0:00:11s\n",
      "epoch 152| loss: 0.15014 | train_mse: 0.07157 | train_mae: 0.20463 |  0:00:11s\n"
     ]
    },
    {
     "name": "stdout",
     "output_type": "stream",
     "text": [
      "epoch 153| loss: 0.14269 | train_mse: 0.10496 | train_mae: 0.23799 |  0:00:11s\n",
      "epoch 154| loss: 0.19559 | train_mse: 0.09431 | train_mae: 0.23858 |  0:00:11s\n",
      "epoch 155| loss: 0.10035 | train_mse: 0.08715 | train_mae: 0.23456 |  0:00:11s\n"
     ]
    },
    {
     "name": "stdout",
     "output_type": "stream",
     "text": [
      "epoch 156| loss: 0.11707 | train_mse: 0.10878 | train_mae: 0.25213 |  0:00:11s\n",
      "epoch 157| loss: 0.18485 | train_mse: 0.09837 | train_mae: 0.21838 |  0:00:11s\n",
      "epoch 158| loss: 0.1066  | train_mse: 0.07531 | train_mae: 0.20103 |  0:00:11s\n"
     ]
    },
    {
     "name": "stdout",
     "output_type": "stream",
     "text": [
      "epoch 159| loss: 0.10075 | train_mse: 0.06144 | train_mae: 0.19665 |  0:00:11s\n",
      "epoch 160| loss: 0.08746 | train_mse: 0.06066 | train_mae: 0.19317 |  0:00:11s\n",
      "epoch 161| loss: 0.16548 | train_mse: 0.09656 | train_mae: 0.21594 |  0:00:11s\n",
      "epoch 162| loss: 0.08189 | train_mse: 0.08946 | train_mae: 0.21222 |  0:00:12s\n"
     ]
    },
    {
     "name": "stdout",
     "output_type": "stream",
     "text": [
      "epoch 163| loss: 0.16759 | train_mse: 0.08296 | train_mae: 0.21385 |  0:00:12s\n",
      "epoch 164| loss: 0.14546 | train_mse: 0.0841  | train_mae: 0.22193 |  0:00:12s\n",
      "epoch 165| loss: 0.09374 | train_mse: 0.09552 | train_mae: 0.22767 |  0:00:12s\n",
      "epoch 166| loss: 0.1204  | train_mse: 0.10063 | train_mae: 0.21917 |  0:00:12s\n"
     ]
    },
    {
     "name": "stdout",
     "output_type": "stream",
     "text": [
      "epoch 167| loss: 0.1315  | train_mse: 0.09791 | train_mae: 0.21304 |  0:00:12s\n",
      "epoch 168| loss: 0.21001 | train_mse: 0.10968 | train_mae: 0.2269  |  0:00:12s\n",
      "epoch 169| loss: 0.13074 | train_mse: 0.10117 | train_mae: 0.23465 |  0:00:12s\n"
     ]
    },
    {
     "name": "stdout",
     "output_type": "stream",
     "text": [
      "epoch 170| loss: 0.09456 | train_mse: 0.08251 | train_mae: 0.21865 |  0:00:12s\n",
      "epoch 171| loss: 0.15045 | train_mse: 0.0763  | train_mae: 0.21154 |  0:00:12s\n",
      "epoch 172| loss: 0.21116 | train_mse: 0.06483 | train_mae: 0.18935 |  0:00:12s\n",
      "epoch 173| loss: 0.14714 | train_mse: 0.06812 | train_mae: 0.19107 |  0:00:12s\n"
     ]
    },
    {
     "name": "stdout",
     "output_type": "stream",
     "text": [
      "epoch 174| loss: 0.08308 | train_mse: 0.07525 | train_mae: 0.19124 |  0:00:12s\n",
      "epoch 175| loss: 0.11607 | train_mse: 0.0902  | train_mae: 0.21011 |  0:00:12s\n",
      "epoch 176| loss: 0.13174 | train_mse: 0.12279 | train_mae: 0.24866 |  0:00:12s\n",
      "epoch 177| loss: 0.19121 | train_mse: 0.12625 | train_mae: 0.25516 |  0:00:13s\n"
     ]
    },
    {
     "name": "stdout",
     "output_type": "stream",
     "text": [
      "epoch 178| loss: 0.19712 | train_mse: 0.08891 | train_mae: 0.22021 |  0:00:13s\n",
      "epoch 179| loss: 0.13246 | train_mse: 0.07907 | train_mae: 0.20965 |  0:00:13s\n",
      "epoch 180| loss: 0.10742 | train_mse: 0.09042 | train_mae: 0.23564 |  0:00:13s\n"
     ]
    },
    {
     "name": "stdout",
     "output_type": "stream",
     "text": [
      "epoch 181| loss: 0.17417 | train_mse: 0.10359 | train_mae: 0.24156 |  0:00:13s\n",
      "epoch 182| loss: 0.13941 | train_mse: 0.09043 | train_mae: 0.22888 |  0:00:13s\n",
      "epoch 183| loss: 0.15962 | train_mse: 0.07469 | train_mae: 0.21304 |  0:00:13s\n"
     ]
    },
    {
     "name": "stdout",
     "output_type": "stream",
     "text": [
      "epoch 184| loss: 0.08562 | train_mse: 0.06437 | train_mae: 0.19846 |  0:00:13s\n",
      "epoch 185| loss: 0.08901 | train_mse: 0.06216 | train_mae: 0.19487 |  0:00:13s\n",
      "epoch 186| loss: 0.09746 | train_mse: 0.06525 | train_mae: 0.20128 |  0:00:13s\n",
      "epoch 187| loss: 0.09493 | train_mse: 0.07564 | train_mae: 0.20392 |  0:00:13s\n"
     ]
    },
    {
     "name": "stdout",
     "output_type": "stream",
     "text": [
      "epoch 188| loss: 0.08394 | train_mse: 0.07116 | train_mae: 0.19091 |  0:00:13s\n",
      "epoch 189| loss: 0.07158 | train_mse: 0.06077 | train_mae: 0.18276 |  0:00:13s\n",
      "epoch 190| loss: 0.15464 | train_mse: 0.05669 | train_mae: 0.18005 |  0:00:13s\n",
      "epoch 191| loss: 0.10958 | train_mse: 0.06096 | train_mae: 0.18657 |  0:00:14s\n"
     ]
    },
    {
     "name": "stdout",
     "output_type": "stream",
     "text": [
      "epoch 192| loss: 0.09028 | train_mse: 0.07047 | train_mae: 0.20222 |  0:00:14s\n",
      "epoch 193| loss: 0.14506 | train_mse: 0.07632 | train_mae: 0.21278 |  0:00:14s\n",
      "epoch 194| loss: 0.27958 | train_mse: 0.05988 | train_mae: 0.18911 |  0:00:14s\n",
      "epoch 195| loss: 0.09603 | train_mse: 0.05974 | train_mae: 0.18756 |  0:00:14s\n"
     ]
    },
    {
     "name": "stdout",
     "output_type": "stream",
     "text": [
      "epoch 196| loss: 0.15696 | train_mse: 0.05465 | train_mae: 0.1861  |  0:00:14s\n",
      "epoch 197| loss: 0.12199 | train_mse: 0.05419 | train_mae: 0.185   |  0:00:14s\n",
      "epoch 198| loss: 0.14644 | train_mse: 0.05426 | train_mae: 0.18444 |  0:00:14s\n"
     ]
    },
    {
     "name": "stdout",
     "output_type": "stream",
     "text": [
      "epoch 199| loss: 0.28613 | train_mse: 0.05661 | train_mae: 0.19172 |  0:00:14s\n",
      "epoch 200| loss: 0.14619 | train_mse: 0.06089 | train_mae: 0.20202 |  0:00:14s\n",
      "epoch 201| loss: 0.11854 | train_mse: 0.06143 | train_mae: 0.19947 |  0:00:14s\n",
      "epoch 202| loss: 0.1601  | train_mse: 0.0569  | train_mae: 0.18591 |  0:00:14s\n"
     ]
    },
    {
     "name": "stdout",
     "output_type": "stream",
     "text": [
      "epoch 203| loss: 0.08617 | train_mse: 0.05961 | train_mae: 0.18753 |  0:00:14s\n",
      "epoch 204| loss: 0.09267 | train_mse: 0.07074 | train_mae: 0.20746 |  0:00:14s\n",
      "epoch 205| loss: 0.18959 | train_mse: 0.0655  | train_mae: 0.20334 |  0:00:14s\n",
      "epoch 206| loss: 0.20507 | train_mse: 0.06547 | train_mae: 0.20144 |  0:00:15s\n"
     ]
    },
    {
     "name": "stdout",
     "output_type": "stream",
     "text": [
      "epoch 207| loss: 0.09938 | train_mse: 0.0728  | train_mae: 0.21044 |  0:00:15s\n",
      "epoch 208| loss: 0.15615 | train_mse: 0.0845  | train_mae: 0.21867 |  0:00:15s\n",
      "epoch 209| loss: 0.0867  | train_mse: 0.08634 | train_mae: 0.22421 |  0:00:15s\n",
      "epoch 210| loss: 0.09627 | train_mse: 0.08503 | train_mae: 0.22203 |  0:00:15s\n"
     ]
    },
    {
     "name": "stdout",
     "output_type": "stream",
     "text": [
      "epoch 211| loss: 0.08606 | train_mse: 0.07843 | train_mae: 0.21636 |  0:00:15s\n",
      "epoch 212| loss: 0.25871 | train_mse: 0.09081 | train_mae: 0.23006 |  0:00:15s\n",
      "epoch 213| loss: 0.15866 | train_mse: 0.08643 | train_mae: 0.2255  |  0:00:15s\n"
     ]
    },
    {
     "name": "stdout",
     "output_type": "stream",
     "text": [
      "epoch 214| loss: 0.088   | train_mse: 0.0771  | train_mae: 0.21251 |  0:00:15s\n",
      "epoch 215| loss: 0.20184 | train_mse: 0.0946  | train_mae: 0.23226 |  0:00:15s\n",
      "epoch 216| loss: 0.10652 | train_mse: 0.1007  | train_mae: 0.23861 |  0:00:15s\n",
      "epoch 217| loss: 0.1125  | train_mse: 0.08079 | train_mae: 0.21592 |  0:00:15s\n"
     ]
    },
    {
     "name": "stdout",
     "output_type": "stream",
     "text": [
      "epoch 218| loss: 0.07265 | train_mse: 0.08273 | train_mae: 0.22254 |  0:00:15s\n",
      "epoch 219| loss: 0.10925 | train_mse: 0.08502 | train_mae: 0.22074 |  0:00:15s\n",
      "epoch 220| loss: 0.08822 | train_mse: 0.09633 | train_mae: 0.22784 |  0:00:15s\n",
      "epoch 221| loss: 0.07265 | train_mse: 0.07728 | train_mae: 0.20487 |  0:00:16s\n"
     ]
    },
    {
     "name": "stdout",
     "output_type": "stream",
     "text": [
      "epoch 222| loss: 0.10367 | train_mse: 0.07441 | train_mae: 0.20296 |  0:00:16s\n",
      "epoch 223| loss: 0.11376 | train_mse: 0.07564 | train_mae: 0.21043 |  0:00:16s\n",
      "epoch 224| loss: 0.20256 | train_mse: 0.07135 | train_mae: 0.20672 |  0:00:16s\n",
      "epoch 225| loss: 0.15514 | train_mse: 0.06208 | train_mae: 0.20273 |  0:00:16s\n"
     ]
    },
    {
     "name": "stdout",
     "output_type": "stream",
     "text": [
      "epoch 226| loss: 0.12369 | train_mse: 0.05485 | train_mae: 0.18992 |  0:00:16s\n",
      "epoch 227| loss: 0.11283 | train_mse: 0.06961 | train_mae: 0.20399 |  0:00:16s\n",
      "epoch 228| loss: 0.14255 | train_mse: 0.0856  | train_mae: 0.23037 |  0:00:16s\n",
      "epoch 229| loss: 0.12399 | train_mse: 0.09524 | train_mae: 0.23817 |  0:00:16s"
     ]
    },
    {
     "name": "stdout",
     "output_type": "stream",
     "text": [
      "\n",
      "epoch 230| loss: 0.08805 | train_mse: 0.09493 | train_mae: 0.23136 |  0:00:16s\n",
      "epoch 231| loss: 0.11579 | train_mse: 0.07721 | train_mae: 0.21295 |  0:00:16s\n",
      "epoch 232| loss: 0.07339 | train_mse: 0.05038 | train_mae: 0.17211 |  0:00:16s\n"
     ]
    },
    {
     "name": "stdout",
     "output_type": "stream",
     "text": [
      "epoch 233| loss: 0.09013 | train_mse: 0.05019 | train_mae: 0.16963 |  0:00:16s\n",
      "epoch 234| loss: 0.08737 | train_mse: 0.06284 | train_mae: 0.19001 |  0:00:16s\n",
      "epoch 235| loss: 0.09889 | train_mse: 0.08686 | train_mae: 0.21924 |  0:00:16s\n",
      "epoch 236| loss: 0.13041 | train_mse: 0.08605 | train_mae: 0.22476 |  0:00:17s\n"
     ]
    },
    {
     "name": "stdout",
     "output_type": "stream",
     "text": [
      "epoch 237| loss: 0.15554 | train_mse: 0.07633 | train_mae: 0.21319 |  0:00:17s\n",
      "epoch 238| loss: 0.16354 | train_mse: 0.07681 | train_mae: 0.21263 |  0:00:17s\n",
      "epoch 239| loss: 0.07639 | train_mse: 0.07052 | train_mae: 0.21035 |  0:00:17s\n"
     ]
    },
    {
     "name": "stdout",
     "output_type": "stream",
     "text": [
      "epoch 240| loss: 0.06617 | train_mse: 0.05179 | train_mae: 0.18218 |  0:00:17s\n",
      "epoch 241| loss: 0.08196 | train_mse: 0.04204 | train_mae: 0.15403 |  0:00:17s\n",
      "epoch 242| loss: 0.11602 | train_mse: 0.04205 | train_mae: 0.15559 |  0:00:17s\n"
     ]
    },
    {
     "name": "stdout",
     "output_type": "stream",
     "text": [
      "epoch 243| loss: 0.11049 | train_mse: 0.05811 | train_mae: 0.17204 |  0:00:17s\n",
      "epoch 244| loss: 0.06026 | train_mse: 0.08781 | train_mae: 0.21518 |  0:00:17s\n",
      "epoch 245| loss: 0.14813 | train_mse: 0.05828 | train_mae: 0.18365 |  0:00:17s\n"
     ]
    },
    {
     "name": "stdout",
     "output_type": "stream",
     "text": [
      "epoch 246| loss: 0.12871 | train_mse: 0.04692 | train_mae: 0.16724 |  0:00:17s\n",
      "epoch 247| loss: 0.17293 | train_mse: 0.05281 | train_mae: 0.17448 |  0:00:17s\n",
      "epoch 248| loss: 0.11928 | train_mse: 0.05131 | train_mae: 0.17103 |  0:00:17s\n",
      "epoch 249| loss: 0.09563 | train_mse: 0.04747 | train_mae: 0.16625 |  0:00:17s\n"
     ]
    },
    {
     "name": "stdout",
     "output_type": "stream",
     "text": [
      "epoch 250| loss: 0.13934 | train_mse: 0.04751 | train_mae: 0.1672  |  0:00:18s\n",
      "epoch 251| loss: 0.0697  | train_mse: 0.05253 | train_mae: 0.17149 |  0:00:18s\n",
      "epoch 252| loss: 0.06161 | train_mse: 0.06395 | train_mae: 0.19221 |  0:00:18s\n",
      "epoch 253| loss: 0.06964 | train_mse: 0.06196 | train_mae: 0.18256 |  0:00:18s\n"
     ]
    },
    {
     "name": "stdout",
     "output_type": "stream",
     "text": [
      "epoch 254| loss: 0.14876 | train_mse: 0.05014 | train_mae: 0.1625  |  0:00:18s\n",
      "epoch 255| loss: 0.0882  | train_mse: 0.04896 | train_mae: 0.16722 |  0:00:18s\n",
      "epoch 256| loss: 0.11022 | train_mse: 0.0796  | train_mae: 0.20503 |  0:00:18s\n"
     ]
    },
    {
     "name": "stdout",
     "output_type": "stream",
     "text": [
      "epoch 257| loss: 0.12945 | train_mse: 0.09155 | train_mae: 0.22993 |  0:00:18s\n",
      "epoch 258| loss: 0.32393 | train_mse: 0.0724  | train_mae: 0.203   |  0:00:18s\n",
      "epoch 259| loss: 0.08634 | train_mse: 0.07016 | train_mae: 0.20177 |  0:00:18s\n",
      "epoch 260| loss: 0.10147 | train_mse: 0.0641  | train_mae: 0.19858 |  0:00:18s\n"
     ]
    },
    {
     "name": "stdout",
     "output_type": "stream",
     "text": [
      "epoch 261| loss: 0.09374 | train_mse: 0.05385 | train_mae: 0.1837  |  0:00:18s\n",
      "epoch 262| loss: 0.08816 | train_mse: 0.06285 | train_mae: 0.19457 |  0:00:18s\n",
      "epoch 263| loss: 0.09903 | train_mse: 0.07367 | train_mae: 0.2077  |  0:00:18s\n",
      "epoch 264| loss: 0.16161 | train_mse: 0.05502 | train_mae: 0.18548 |  0:00:18s\n"
     ]
    },
    {
     "name": "stdout",
     "output_type": "stream",
     "text": [
      "epoch 265| loss: 0.10095 | train_mse: 0.05972 | train_mae: 0.18376 |  0:00:19s\n",
      "epoch 266| loss: 0.10555 | train_mse: 0.07208 | train_mae: 0.2189  |  0:00:19s\n",
      "epoch 267| loss: 0.0753  | train_mse: 0.08368 | train_mae: 0.23335 |  0:00:19s\n",
      "epoch 268| loss: 0.089   | train_mse: 0.08603 | train_mae: 0.22189 |  0:00:19s\n"
     ]
    },
    {
     "name": "stdout",
     "output_type": "stream",
     "text": [
      "epoch 269| loss: 0.10045 | train_mse: 0.08587 | train_mae: 0.22415 |  0:00:19s\n",
      "epoch 270| loss: 0.10154 | train_mse: 0.07233 | train_mae: 0.20477 |  0:00:19s\n"
     ]
    },
    {
     "name": "stdout",
     "output_type": "stream",
     "text": [
      "epoch 271| loss: 0.07075 | train_mse: 0.06592 | train_mae: 0.19322 |  0:00:19s\n",
      "epoch 272| loss: 0.08817 | train_mse: 0.07978 | train_mae: 0.21022 |  0:00:19s\n",
      "epoch 273| loss: 0.0888  | train_mse: 0.09593 | train_mae: 0.22084 |  0:00:19s\n",
      "epoch 274| loss: 0.10287 | train_mse: 0.10582 | train_mae: 0.22559 |  0:00:19s\n"
     ]
    },
    {
     "name": "stdout",
     "output_type": "stream",
     "text": [
      "epoch 275| loss: 0.16661 | train_mse: 0.09233 | train_mae: 0.21637 |  0:00:19s\n",
      "epoch 276| loss: 0.07248 | train_mse: 0.0658  | train_mae: 0.19017 |  0:00:19s\n",
      "epoch 277| loss: 0.09428 | train_mse: 0.05567 | train_mae: 0.183   |  0:00:19s\n",
      "epoch 278| loss: 0.09109 | train_mse: 0.06216 | train_mae: 0.18953 |  0:00:20s\n"
     ]
    },
    {
     "name": "stdout",
     "output_type": "stream",
     "text": [
      "epoch 279| loss: 0.06088 | train_mse: 0.11103 | train_mae: 0.23764 |  0:00:20s\n",
      "epoch 280| loss: 0.0824  | train_mse: 0.1209  | train_mae: 0.24524 |  0:00:20s\n",
      "epoch 281| loss: 0.07034 | train_mse: 0.10065 | train_mae: 0.24123 |  0:00:20s\n",
      "epoch 282| loss: 0.18867 | train_mse: 0.06705 | train_mae: 0.20235 |  0:00:20s\n"
     ]
    },
    {
     "name": "stdout",
     "output_type": "stream",
     "text": [
      "epoch 283| loss: 0.14756 | train_mse: 0.04718 | train_mae: 0.16625 |  0:00:20s\n",
      "epoch 284| loss: 0.15963 | train_mse: 0.04748 | train_mae: 0.16763 |  0:00:20s\n",
      "epoch 285| loss: 0.08117 | train_mse: 0.05329 | train_mae: 0.18309 |  0:00:20s\n"
     ]
    },
    {
     "name": "stdout",
     "output_type": "stream",
     "text": [
      "epoch 286| loss: 0.08779 | train_mse: 0.04639 | train_mae: 0.1679  |  0:00:20s\n",
      "epoch 287| loss: 0.11197 | train_mse: 0.0485  | train_mae: 0.17245 |  0:00:20s\n",
      "epoch 288| loss: 0.10372 | train_mse: 0.05304 | train_mae: 0.18249 |  0:00:20s\n",
      "epoch 289| loss: 0.07119 | train_mse: 0.05615 | train_mae: 0.18231 |  0:00:20s\n"
     ]
    },
    {
     "name": "stdout",
     "output_type": "stream",
     "text": [
      "epoch 290| loss: 0.11709 | train_mse: 0.0621  | train_mae: 0.1968  |  0:00:20s\n",
      "epoch 291| loss: 0.09924 | train_mse: 0.06713 | train_mae: 0.20189 |  0:00:20s\n",
      "\n",
      "Early stopping occurred at epoch 291 with best_epoch = 241 and best_train_mae = 0.15403\n",
      "Best weights from best epoch are automatically used!\n"
     ]
    }
   ],
   "source": [
    "#Train the Model\n",
    "\n",
    "Y_train = np.reshape(Y_train, (-1, 1))\n",
    "Y_test = np.reshape(Y_test, (-1, 1))\n",
    "\n",
    "prior_model = TabNetRegressor(optimizer_fn=torch.optim.Adam, optimizer_params=dict(lr = 0.02),\n",
    "          #scheduler_params={\"step_size\":10, ], \"gamma\":0.9},\n",
    "          #scheduler_fn=torch.optim.lr_scheduler.StepLR\n",
    "          )  #TabNetRegressor()\n",
    "\n",
    "prior_model.fit(X_train,Y_train,eval_set=[(X_train, Y_train)],\n",
    "            eval_name=['train'], \n",
    "            eval_metric=[ 'mse', 'mae'], \n",
    "            max_epochs = n_epochs, \n",
    "            batch_size = batch_size,\n",
    "            patience=50\n",
    "            )"
   ]
  },
  {
   "cell_type": "code",
   "execution_count": 10,
   "id": "af65dcda",
   "metadata": {
    "execution": {
     "iopub.execute_input": "2022-06-22T12:34:02.235203Z",
     "iopub.status.busy": "2022-06-22T12:34:02.233969Z",
     "iopub.status.idle": "2022-06-22T12:34:02.261143Z",
     "shell.execute_reply": "2022-06-22T12:34:02.261956Z"
    },
    "id": "af65dcda",
    "papermill": {
     "duration": 0.078661,
     "end_time": "2022-06-22T12:34:02.262182",
     "exception": false,
     "start_time": "2022-06-22T12:34:02.183521",
     "status": "completed"
    },
    "tags": []
   },
   "outputs": [
    {
     "data": {
      "application/scrapbook.scrap.json+json": {
       "data": 0.09041263183824387,
       "encoder": "json",
       "name": "Prior Model MSE",
       "version": 1
      }
     },
     "metadata": {
      "scrapbook": {
       "data": true,
       "display": false,
       "name": "Prior Model MSE"
      }
     },
     "output_type": "display_data"
    },
    {
     "data": {
      "application/scrapbook.scrap.json+json": {
       "data": 0.10849286309769965,
       "encoder": "json",
       "name": "ABC Pre-generator MSE",
       "version": 1
      }
     },
     "metadata": {
      "scrapbook": {
       "data": true,
       "display": false,
       "name": "ABC Pre-generator MSE"
      }
     },
     "output_type": "display_data"
    },
    {
     "data": {
      "application/scrapbook.scrap.json+json": {
       "data": 0.22530439765251759,
       "encoder": "json",
       "name": "Prior Model MSE",
       "version": 1
      }
     },
     "metadata": {
      "scrapbook": {
       "data": true,
       "display": false,
       "name": "Prior Model MSE"
      }
     },
     "output_type": "display_data"
    },
    {
     "data": {
      "application/scrapbook.scrap.json+json": {
       "data": 0.264881434258786,
       "encoder": "json",
       "name": "ABC Pre-generator MSE",
       "version": 1
      }
     },
     "metadata": {
      "scrapbook": {
       "data": true,
       "display": false,
       "name": "ABC Pre-generator MSE"
      }
     },
     "output_type": "display_data"
    }
   ],
   "source": [
    "y_pred = prior_model.predict(X_test)\n",
    "y_abc = y_pred + np.random.normal(0,variance, y_pred.shape) + bias \n",
    "mse = mean_squared_error(y_pred,Y_test)\n",
    "sb.glue(\"Prior Model MSE\",mse)\n",
    "mse = mean_squared_error(y_abc,Y_test)\n",
    "sb.glue(\"ABC Pre-generator MSE\",mse)\n",
    "mae = mean_absolute_error(y_pred,Y_test)\n",
    "sb.glue(\"Prior Model MSE\",mae)\n",
    "mae = mean_absolute_error(y_abc,Y_test)\n",
    "sb.glue(\"ABC Pre-generator MSE\",mae)"
   ]
  },
  {
   "cell_type": "markdown",
   "id": "25609da2",
   "metadata": {
    "papermill": {
     "duration": 0.054117,
     "end_time": "2022-06-22T12:34:02.353563",
     "exception": false,
     "start_time": "2022-06-22T12:34:02.299446",
     "status": "completed"
    },
    "tags": []
   },
   "source": [
    "# ABC GAN Model"
   ]
  },
  {
   "cell_type": "code",
   "execution_count": 11,
   "id": "dfc3464d",
   "metadata": {
    "execution": {
     "iopub.execute_input": "2022-06-22T12:34:02.439794Z",
     "iopub.status.busy": "2022-06-22T12:34:02.438764Z",
     "iopub.status.idle": "2022-06-22T12:34:02.442793Z",
     "shell.execute_reply": "2022-06-22T12:34:02.442208Z"
    },
    "papermill": {
     "duration": 0.050797,
     "end_time": "2022-06-22T12:34:02.442972",
     "exception": false,
     "start_time": "2022-06-22T12:34:02.392175",
     "status": "completed"
    },
    "tags": []
   },
   "outputs": [],
   "source": [
    "gen = network.Generator(n_features+1).to(device)\n",
    "disc = network.Discriminator(n_features+1).to(device)\n",
    "\n",
    "criterion = torch.nn.BCELoss()\n",
    "gen_opt = torch.optim.Adam(gen.parameters(), lr=0.001, betas=(0.5, 0.999))\n",
    "disc_opt = torch.optim.Adam(disc.parameters(), lr=0.001, betas=(0.5, 0.999))"
   ]
  },
  {
   "cell_type": "code",
   "execution_count": 12,
   "id": "b75fdd85",
   "metadata": {
    "execution": {
     "iopub.execute_input": "2022-06-22T12:34:02.543395Z",
     "iopub.status.busy": "2022-06-22T12:34:02.542235Z",
     "iopub.status.idle": "2022-06-22T12:34:46.042945Z",
     "shell.execute_reply": "2022-06-22T12:34:46.043403Z"
    },
    "papermill": {
     "duration": 43.5615,
     "end_time": "2022-06-22T12:34:46.043676",
     "exception": false,
     "start_time": "2022-06-22T12:34:02.482176",
     "status": "completed"
    },
    "tags": []
   },
   "outputs": [
    {
     "data": {
      "image/png": "[encoded data removed]",
      "text/plain": [
       "<Figure size 432x288 with 1 Axes>"
      ]
     },
     "metadata": {
      "needs_background": "light"
     },
     "output_type": "display_data"
    },
    {
     "data": {
      "image/png": "[encoded data removed]",
      "text/plain": [
       "<Figure size 432x288 with 1 Axes>"
      ]
     },
     "metadata": {
      "needs_background": "light"
     },
     "output_type": "display_data"
    }
   ],
   "source": [
    "#Training the ABC_GAN \n",
    "ABC_train_test2.training_GAN(disc,gen,disc_opt,gen_opt,train_data,batch_size,n_epochs,criterion,prior_model,variance,bias,device)"
   ]
  },
  {
   "cell_type": "code",
   "execution_count": 13,
   "id": "1fa7c368",
   "metadata": {
    "execution": {
     "iopub.execute_input": "2022-06-22T12:34:46.145641Z",
     "iopub.status.busy": "2022-06-22T12:34:46.144712Z",
     "iopub.status.idle": "2022-06-22T12:34:46.796136Z",
     "shell.execute_reply": "2022-06-22T12:34:46.796714Z"
    },
    "papermill": {
     "duration": 0.71362,
     "end_time": "2022-06-22T12:34:46.796913",
     "exception": false,
     "start_time": "2022-06-22T12:34:46.083293",
     "status": "completed"
    },
    "tags": []
   },
   "outputs": [
    {
     "data": {
      "application/scrapbook.scrap.json+json": {
       "data": 0.10825908712875815,
       "encoder": "json",
       "name": "ABC-GAN Model 1 MSE",
       "version": 1
      }
     },
     "metadata": {
      "scrapbook": {
       "data": true,
       "display": false,
       "name": "ABC-GAN Model 1 MSE"
      }
     },
     "output_type": "display_data"
    },
    {
     "data": {
      "application/scrapbook.scrap.json+json": {
       "data": 0.2854398444946855,
       "encoder": "json",
       "name": "ABC-GAN Model 1 MAE",
       "version": 1
      }
     },
     "metadata": {
      "scrapbook": {
       "data": true,
       "display": false,
       "name": "ABC-GAN Model 1 MAE"
      }
     },
     "output_type": "display_data"
    },
    {
     "data": {
      "application/scrapbook.scrap.json+json": {
       "data": 5.70879688989371,
       "encoder": "json",
       "name": "ABC-GAN Model 1 Manhattan Distance",
       "version": 1
      }
     },
     "metadata": {
      "scrapbook": {
       "data": true,
       "display": false,
       "name": "ABC-GAN Model 1 Manhattan Distance"
      }
     },
     "output_type": "display_data"
    },
    {
     "data": {
      "application/scrapbook.scrap.json+json": {
       "data": 1.470383514544182,
       "encoder": "json",
       "name": "ABC-GAN Model 1 Euclidean distance",
       "version": 1
      }
     },
     "metadata": {
      "scrapbook": {
       "data": true,
       "display": false,
       "name": "ABC-GAN Model 1 Euclidean distance"
      }
     },
     "output_type": "display_data"
    },
    {
     "data": {
      "application/scrapbook.scrap.json+json": {
       "data": [
        [
         0.10293467960517658,
         0.09757125937901827,
         0.11509217229973664,
         0.095619483931185,
         0.11328365219656233,
         0.11094957707545854,
         0.10333762639260025,
         0.10816340474545086,
         0.10432077065701104,
         0.10649173338006315,
         0.10128937116395775,
         0.11324315329686097,
         0.11013106361286748,
         0.10653311974763816,
         0.12627701438065736,
         0.1072244081502943,
         0.09468777283565213,
         0.10264454011013517,
         0.10239320436626373,
         0.10997634048352674,
         0.11938876034121719,
         0.10052453544816782,
         0.11967534984446977,
         0.09552137876493957,
         0.1101294856616116,
         0.10099267653125747,
         0.09381330528590215,
         0.12101095656377084,
         0.10447835489459703,
         0.09604365044765506,
         0.09973663559692114,
         0.11196943948791456,
         0.11435323750379682,
         0.11321729079714397,
         0.10341219814100477,
         0.09914049724760296,
         0.11191484764819584,
         0.11750099785634563,
         0.09916721196458499,
         0.10618263949631065,
         0.10610810182428634,
         0.10621828163012567,
         0.11016329257133006,
         0.11931136165756646,
         0.11749660181983357,
         0.12366950648375145,
         0.11392444240846196,
         0.09624958684125215,
         0.1277565911053601,
         0.127692989154556,
         0.1109522799491645,
         0.11572688076490394,
         0.12082338530827533,
         0.10961296272038216,
         0.11167499118193844,
         0.10024676345243635,
         0.09950207830301802,
         0.10831579085183138,
         0.11031921938646376,
         0.09867574522501621,
         0.10919114461128401,
         0.09140373734886087,
         0.10478241416536074,
         0.11204420110315627,
         0.10739977388483038,
         0.10686672244525672,
         0.10954305654158085,
         0.10940644111472726,
         0.1144690992198161,
         0.1258254048287856,
         0.10917870048019358,
         0.10728814931549388,
         0.10494128165265963,
         0.11277311650920512,
         0.1112153689493387,
         0.10690814823809461,
         0.09849924872910369,
         0.1218528980922489,
         0.10504708444178634,
         0.09860318517972103,
         0.10601249452221459,
         0.10602069856623438,
         0.10663244317671076,
         0.09807583150763963,
         0.11797238840666939,
         0.10658713298049335,
         0.11478369688377228,
         0.12427836357287644,
         0.10346366823474798,
         0.11101978632642254,
         0.1217180873971668,
         0.10654773868216297,
         0.11219343864831807,
         0.10759008285771994,
         0.08975319081677587,
         0.1071132127245398,
         0.09705396177356138,
         0.10607701314337374,
         0.11214469429076587,
         0.09885296153866395
        ],
        [
         0.2795137004926801,
         0.2764329711906612,
         0.29497372908517716,
         0.26396418903023006,
         0.2989866813644767,
         0.2785159426741302,
         0.2794810152612627,
         0.28098759409040214,
         0.2860026958398521,
         0.28289717016741633,
         0.2810868101194501,
         0.2858132283203304,
         0.2904308432713151,
         0.2853153134696186,
         0.3111513270996511,
         0.2841934906318784,
         0.27131646117195485,
         0.27817100984975696,
         0.26728241397067903,
         0.27855621008202436,
         0.3083323392085731,
         0.2668219323270023,
         0.3101944002322853,
         0.2675524356774986,
         0.2767759571783245,
         0.2699864761903882,
         0.25410248367115856,
         0.30049008755013346,
         0.28580758040770887,
         0.2761995325796306,
         0.26346556274220345,
         0.2884507971815765,
         0.2949543165974319,
         0.2996181334368885,
         0.28454559212550523,
         0.2654387000016868,
         0.277012690436095,
         0.2969284969381988,
         0.2788484546355903,
         0.28354909997433425,
         0.2855401420965791,
         0.2844518619589508,
         0.2793088278733194,
         0.2966715461574495,
         0.30258659888058903,
         0.3087165288627148,
         0.29642664883285763,
         0.2729590768925846,
         0.3172773296944797,
         0.31100297113880515,
         0.29591011283919216,
         0.3014314423315227,
         0.3058298064395785,
         0.28781091822311283,
         0.28833313351497053,
         0.2831272499635816,
         0.27616876652464273,
         0.29312511403113606,
         0.2871776263229549,
         0.2744884959422052,
         0.29005856765434146,
         0.26585046676918866,
         0.2821386261843145,
         0.28873442402109506,
         0.2806045124307275,
         0.28932137256488205,
         0.2892946767620742,
         0.2750148597173393,
         0.291529584210366,
         0.3153665135614574,
         0.28882674342021347,
         0.28101289449259637,
         0.27766053853556516,
         0.2860046686604619,
         0.287671554274857,
         0.28198169646784665,
         0.27732031894847753,
         0.3085425766184926,
         0.28452886510640385,
         0.26813012985512613,
         0.27766322661191223,
         0.2903394273482263,
         0.289328836183995,
         0.26979340268298985,
         0.3003774079494178,
         0.27545553389936683,
         0.29294304652139547,
         0.3085641614161432,
         0.27545418916270137,
         0.27631513131782415,
         0.2996505650691688,
         0.2794055360369384,
         0.2943953978829086,
         0.28338918937370183,
         0.2586421503685415,
         0.2903007376007736,
         0.2716746935620904,
         0.2845733187161386,
         0.29144750265404584,
         0.2721853400580585
        ],
        [
         5.5902740098536015,
         5.528659423813224,
         5.899474581703544,
         5.279283780604601,
         5.979733627289534,
         5.570318853482604,
         5.589620305225253,
         5.6197518818080425,
         5.720053916797042,
         5.657943403348327,
         5.621736202389002,
         5.716264566406608,
         5.808616865426302,
         5.706306269392371,
         6.223026541993022,
         5.6838698126375675,
         5.426329223439097,
         5.563420196995139,
         5.345648279413581,
         5.571124201640487,
         6.166646784171462,
         5.336438646540046,
         6.203888004645705,
         5.351048713549972,
         5.535519143566489,
         5.399729523807764,
         5.082049673423171,
         6.009801751002669,
         5.716151608154178,
         5.523990651592612,
         5.2693112548440695,
         5.76901594363153,
         5.899086331948638,
         5.992362668737769,
         5.690911842510104,
         5.308774000033736,
         5.5402538087219,
         5.938569938763976,
         5.576969092711806,
         5.670981999486685,
         5.7108028419315815,
         5.689037239179015,
         5.586176557466388,
         5.93343092314899,
         6.05173197761178,
         6.174330577254295,
         5.928532976657152,
         5.459181537851691,
         6.345546593889594,
         6.220059422776103,
         5.918202256783843,
         6.028628846630454,
         6.116596128791571,
         5.756218364462256,
         5.766662670299411,
         5.662544999271631,
         5.523375330492854,
         5.862502280622721,
         5.743552526459098,
         5.489769918844104,
         5.801171353086829,
         5.317009335383773,
         5.64277252368629,
         5.774688480421901,
         5.61209024861455,
         5.786427451297641,
         5.785893535241485,
         5.5002971943467855,
         5.83059168420732,
         6.307330271229148,
         5.776534868404269,
         5.620257889851928,
         5.553210770711303,
         5.720093373209238,
         5.753431085497141,
         5.639633929356933,
         5.54640637896955,
         6.170851532369852,
         5.6905773021280766,
         5.362602597102523,
         5.553264532238245,
         5.806788546964526,
         5.7865767236799,
         5.395868053659797,
         6.007548158988357,
         5.509110677987337,
         5.858860930427909,
         6.171283228322864,
         5.509083783254027,
         5.5263026263564825,
         5.993011301383376,
         5.588110720738769,
         5.887907957658172,
         5.667783787474036,
         5.17284300737083,
         5.8060147520154715,
         5.433493871241808,
         5.691466374322772,
         5.828950053080916,
         5.44370680116117
        ],
        [
         1.434814828506986,
         1.3969342101832734,
         1.5171827332245555,
         1.3828917812409254,
         1.505215281589729,
         1.489627987622806,
         1.4376204394248173,
         1.4708052539031187,
         1.4444429421545943,
         1.4593953088869591,
         1.4233015925232273,
         1.5049462003464507,
         1.4841230650648045,
         1.4596788670638356,
         1.5891948551430524,
         1.464407102893825,
         1.376137877072295,
         1.4327912626069101,
         1.4310360188776783,
         1.483080176413445,
         1.5452427663070758,
         1.417917737022623,
         1.5470963114458631,
         1.3821821787661681,
         1.484112432813711,
         1.4212155116748302,
         1.3697686321850282,
         1.555705348475545,
         1.445533499401498,
         1.3859556302252614,
         1.4123500670649691,
         1.4964587497683628,
         1.5123044501937883,
         1.5047743405384342,
         1.4381390624067254,
         1.4081228444109766,
         1.4960938984448526,
         1.5329774809588406,
         1.408312550285518,
         1.457275811206037,
         1.4567642350379577,
         1.4575203712478648,
         1.4843402074412055,
         1.544741801451404,
         1.532948804232115,
         1.5727015386509384,
         1.5094664117393402,
         1.3874407147064132,
         1.5984779704791687,
         1.5980800302522775,
         1.4896461321345047,
         1.521360448841128,
         1.5544991817834792,
         1.4806279932540933,
         1.4944898205202901,
         1.415957368372624,
         1.410688330589135,
         1.4718409618693957,
         1.485390314943946,
         1.4048184596239914,
         1.4777763336261953,
         1.3520631445968851,
         1.4476354110435454,
         1.496958256620112,
         1.465604134033678,
         1.4619625333452066,
         1.4801557792447446,
         1.47923251123498,
         1.513070383160123,
         1.5863505591689726,
         1.4776921227386548,
         1.4648423076597281,
         1.4487324228625493,
         1.5018196729914355,
         1.491411203855856,
         1.4622458633081825,
         1.4035615321681034,
         1.5611079276734772,
         1.4494625517189903,
         1.4043018562952982,
         1.4561077880583881,
         1.4561641292535288,
         1.4603591556648712,
         1.4005415488848565,
         1.5360494028947727,
         1.4600488552133684,
         1.5151481570049332,
         1.5765681943568217,
         1.4384969116042479,
         1.4900992337856063,
         1.560244130879311,
         1.4597790153455623,
         1.497954863460966,
         1.4669020612005421,
         1.3397999165306427,
         1.4636475854831983,
         1.3932261968076927,
         1.456550810259455,
         1.4976294220585136,
         1.4060793828135305
        ]
       ],
       "encoder": "json",
       "name": "ABC_GAN_1 Metrics",
       "version": 1
      }
     },
     "metadata": {
      "scrapbook": {
       "data": true,
       "display": false,
       "name": "ABC_GAN_1 Metrics"
      }
     },
     "output_type": "display_data"
    },
    {
     "name": "stdout",
     "output_type": "stream",
     "text": [
      "MSE\n",
      "0.10825908712875815\n"
     ]
    }
   ],
   "source": [
    "ABC_GAN1_metrics=ABC_train_test2.test_generator(gen,test_data,prior_model,variance,bias,\"1\",device)\n",
    "sb.glue(\"ABC_GAN_1 Metrics\",ABC_GAN1_metrics)\n",
    "\n",
    "print(\"MSE\")\n",
    "print(mean(ABC_GAN1_metrics[0]))"
   ]
  },
  {
   "cell_type": "code",
   "execution_count": 14,
   "id": "eb22ce5c",
   "metadata": {
    "execution": {
     "iopub.execute_input": "2022-06-22T12:34:46.893194Z",
     "iopub.status.busy": "2022-06-22T12:34:46.892494Z",
     "iopub.status.idle": "2022-06-22T12:34:47.582124Z",
     "shell.execute_reply": "2022-06-22T12:34:47.582768Z"
    },
    "papermill": {
     "duration": 0.741374,
     "end_time": "2022-06-22T12:34:47.582984",
     "exception": false,
     "start_time": "2022-06-22T12:34:46.841610",
     "status": "completed"
    },
    "tags": []
   },
   "outputs": [
    {
     "data": {
      "image/png": "[encoded data removed]",
      "text/plain": [
       "<Figure size 432x288 with 1 Axes>"
      ]
     },
     "metadata": {
      "needs_background": "light"
     },
     "output_type": "display_data"
    },
    {
     "data": {
      "image/png": "[encoded data removed]",
      "text/plain": [
       "<Figure size 432x288 with 1 Axes>"
      ]
     },
     "metadata": {
      "needs_background": "light"
     },
     "output_type": "display_data"
    },
    {
     "data": {
      "image/png": "[encoded data removed]",
      "text/plain": [
       "<Figure size 432x288 with 1 Axes>"
      ]
     },
     "metadata": {
      "needs_background": "light"
     },
     "output_type": "display_data"
    },
    {
     "data": {
      "image/png": "[encoded data removed]",
      "text/plain": [
       "<Figure size 432x288 with 1 Axes>"
      ]
     },
     "metadata": {
      "needs_background": "light"
     },
     "output_type": "display_data"
    }
   ],
   "source": [
    "sanityChecks.discProbVsError(train_data,disc,device)\n",
    "sanityChecks.discProbVsError(test_data,disc,device)"
   ]
  },
  {
   "cell_type": "markdown",
   "id": "130f3a4d",
   "metadata": {
    "id": "130f3a4d",
    "papermill": {
     "duration": 0.049643,
     "end_time": "2022-06-22T12:34:47.683297",
     "exception": false,
     "start_time": "2022-06-22T12:34:47.633654",
     "status": "completed"
    },
    "tags": []
   },
   "source": [
    "# ABC - GAN Model with skip connection"
   ]
  },
  {
   "cell_type": "code",
   "execution_count": 15,
   "id": "4e43dad1",
   "metadata": {
    "execution": {
     "iopub.execute_input": "2022-06-22T12:34:47.792377Z",
     "iopub.status.busy": "2022-06-22T12:34:47.791598Z",
     "iopub.status.idle": "2022-06-22T12:34:47.796451Z",
     "shell.execute_reply": "2022-06-22T12:34:47.797216Z"
    },
    "id": "4e43dad1",
    "papermill": {
     "duration": 0.067066,
     "end_time": "2022-06-22T12:34:47.797446",
     "exception": false,
     "start_time": "2022-06-22T12:34:47.730380",
     "status": "completed"
    },
    "tags": []
   },
   "outputs": [],
   "source": [
    "#Generator\n",
    "gen3 = network.GeneratorWithSkipConnection(n_features+1).to(device)\n",
    "constraints=network.weightConstraint()\n",
    "#Discriminator \n",
    "disc3 = network.Discriminator(n_features+1).to(device)\n",
    "\n",
    "criterion = torch.nn.BCELoss()\n",
    "gen_opt = torch.optim.Adam(gen3.parameters(), lr=0.001, betas=(0.5, 0.999))\n",
    "disc_opt = torch.optim.Adam(disc3.parameters(), lr=0.001, betas=(0.5, 0.999))\n"
   ]
  },
  {
   "cell_type": "code",
   "execution_count": 16,
   "id": "26acbc37",
   "metadata": {
    "execution": {
     "iopub.execute_input": "2022-06-22T12:34:47.905624Z",
     "iopub.status.busy": "2022-06-22T12:34:47.904911Z",
     "iopub.status.idle": "2022-06-22T12:35:56.450199Z",
     "shell.execute_reply": "2022-06-22T12:35:56.450765Z"
    },
    "id": "26acbc37",
    "papermill": {
     "duration": 68.608688,
     "end_time": "2022-06-22T12:35:56.450965",
     "exception": false,
     "start_time": "2022-06-22T12:34:47.842277",
     "status": "completed"
    },
    "tags": []
   },
   "outputs": [
    {
     "data": {
      "image/png": "[encoded data removed]",
      "text/plain": [
       "<Figure size 432x288 with 1 Axes>"
      ]
     },
     "metadata": {
      "needs_background": "light"
     },
     "output_type": "display_data"
    },
    {
     "data": {
      "image/png": "[encoded data removed]",
      "text/plain": [
       "<Figure size 432x288 with 1 Axes>"
      ]
     },
     "metadata": {
      "needs_background": "light"
     },
     "output_type": "display_data"
    }
   ],
   "source": [
    "ABC_train_test2.training_GAN_skip_connection(disc3,gen3,disc_opt,gen_opt,train_data,batch_size,n_epochs,criterion,prior_model,variance,bias,device)"
   ]
  },
  {
   "cell_type": "code",
   "execution_count": 17,
   "id": "c5e0717b",
   "metadata": {
    "execution": {
     "iopub.execute_input": "2022-06-22T12:35:56.592315Z",
     "iopub.status.busy": "2022-06-22T12:35:56.591560Z",
     "iopub.status.idle": "2022-06-22T12:35:57.341303Z",
     "shell.execute_reply": "2022-06-22T12:35:57.341862Z"
    },
    "id": "c5e0717b",
    "papermill": {
     "duration": 0.823594,
     "end_time": "2022-06-22T12:35:57.342073",
     "exception": false,
     "start_time": "2022-06-22T12:35:56.518479",
     "status": "completed"
    },
    "tags": []
   },
   "outputs": [
    {
     "data": {
      "application/scrapbook.scrap.json+json": {
       "data": 0.07998956604085293,
       "encoder": "json",
       "name": "ABC-GAN Model 3 MSE",
       "version": 1
      }
     },
     "metadata": {
      "scrapbook": {
       "data": true,
       "display": false,
       "name": "ABC-GAN Model 3 MSE"
      }
     },
     "output_type": "display_data"
    },
    {
     "data": {
      "application/scrapbook.scrap.json+json": {
       "data": 0.22867358996346593,
       "encoder": "json",
       "name": "ABC-GAN Model 3 MAE",
       "version": 1
      }
     },
     "metadata": {
      "scrapbook": {
       "data": true,
       "display": false,
       "name": "ABC-GAN Model 3 MAE"
      }
     },
     "output_type": "display_data"
    },
    {
     "data": {
      "application/scrapbook.scrap.json+json": {
       "data": 4.573471799269319,
       "encoder": "json",
       "name": "ABC-GAN Model 3 Manhattan Distance",
       "version": 1
      }
     },
     "metadata": {
      "scrapbook": {
       "data": true,
       "display": false,
       "name": "ABC-GAN Model 3 Manhattan Distance"
      }
     },
     "output_type": "display_data"
    },
    {
     "data": {
      "application/scrapbook.scrap.json+json": {
       "data": 1.264031839140222,
       "encoder": "json",
       "name": "ABC-GAN Model 3 Euclidean distance",
       "version": 1
      }
     },
     "metadata": {
      "scrapbook": {
       "data": true,
       "display": false,
       "name": "ABC-GAN Model 3 Euclidean distance"
      }
     },
     "output_type": "display_data"
    },
    {
     "data": {
      "application/scrapbook.scrap.json+json": {
       "data": [
        [
         0.08751825289430086,
         0.08355243116932552,
         0.07947275460551914,
         0.0863489859421468,
         0.07684934730133866,
         0.08384552502920867,
         0.07508530292833954,
         0.06929260261044683,
         0.08625884275684419,
         0.07394380831447875,
         0.07926143624464617,
         0.07115024401179103,
         0.08923484062029284,
         0.08378121924309383,
         0.08001077786906657,
         0.08314977490635708,
         0.07909376826895012,
         0.07695502704528281,
         0.07870633998972988,
         0.08306596182695017,
         0.08380295410110239,
         0.08573754392110988,
         0.08021695440765697,
         0.07878104468600645,
         0.08420099124228946,
         0.08507025725276408,
         0.07470879956940667,
         0.07287584826207379,
         0.08175943398992211,
         0.08133084422146668,
         0.08095560976174579,
         0.08495560957538664,
         0.0750313790877162,
         0.07184195878415676,
         0.07578335628374186,
         0.08670530236330655,
         0.08757744537912812,
         0.0679273554152137,
         0.07641929117130361,
         0.0764914349491574,
         0.07575859178902689,
         0.08298418996557118,
         0.07770890190462432,
         0.07244242906966514,
         0.074876104468951,
         0.08156505075660167,
         0.07375233359484654,
         0.08643987631525683,
         0.07469286805391351,
         0.06972400650570412,
         0.07537256292445985,
         0.08631202625780228,
         0.07843956845566045,
         0.0769175778912202,
         0.06870817545364698,
         0.07874431444700292,
         0.0834211262965173,
         0.0766285102632312,
         0.08703304639410545,
         0.07736565736919289,
         0.07970396933575698,
         0.06830824074286732,
         0.07361450844954683,
         0.0764101756182789,
         0.08317169334649505,
         0.07999284331326632,
         0.08278937401945806,
         0.08784601673079535,
         0.07603328575544147,
         0.07469904106472362,
         0.08758938009495218,
         0.07029033955567954,
         0.076563015418564,
         0.09064778110688988,
         0.08599406634151573,
         0.08771785140338323,
         0.08737800513679136,
         0.07860695221768886,
         0.08720880158081643,
         0.08161639795495888,
         0.07977998992476149,
         0.0836853847095832,
         0.07510729078193767,
         0.07605913210173829,
         0.0921384471378328,
         0.07967441424763375,
         0.08206067297959009,
         0.07913107941296363,
         0.08215782621597686,
         0.07361035522489773,
         0.08664555006013566,
         0.08061810497640123,
         0.09019339908552024,
         0.08683347835864452,
         0.07922192745722136,
         0.0822741856912134,
         0.0858194776094722,
         0.06900512811885039,
         0.08488856963212849,
         0.07623287499115497
        ],
        [
         0.2366030036471784,
         0.23508691238239407,
         0.22581531098112465,
         0.23743305085226893,
         0.22453593825921417,
         0.2266999670304358,
         0.22331923032179474,
         0.20672285249456762,
         0.2345447692088783,
         0.22166700651869178,
         0.22210240764543415,
         0.21677811359986662,
         0.2329408741556108,
         0.23233628757297992,
         0.22642840361222624,
         0.22530967481434344,
         0.24126834338530898,
         0.22151538776233792,
         0.2307611190713942,
         0.22859817515127362,
         0.2384527594782412,
         0.23371172798797488,
         0.22673817528411747,
         0.23076113471761345,
         0.24236664222553372,
         0.22303430670872332,
         0.22130557456985117,
         0.22330014882609248,
         0.23876687632873655,
         0.22641164856031537,
         0.23090980304405093,
         0.22921516289934515,
         0.21165705742314458,
         0.21768832625821233,
         0.22431702697649597,
         0.2315079870633781,
         0.2344803568907082,
         0.21277892170473933,
         0.2360789763741195,
         0.22679922180250287,
         0.2269092763774097,
         0.2327370627783239,
         0.2196854659356177,
         0.21883129430934786,
         0.2214321036823094,
         0.23502600556239486,
         0.22305571334436536,
         0.24337903233245015,
         0.2236394709907472,
         0.2141085066832602,
         0.2194612585939467,
         0.23447198225185276,
         0.2292804722674191,
         0.22624824633821844,
         0.21634755609557033,
         0.22683523660525678,
         0.2275329458527267,
         0.23199733747169377,
         0.23821758171543478,
         0.21954632317647338,
         0.22876536911353468,
         0.216368021722883,
         0.21859557675197722,
         0.23111283546313643,
         0.22691175965592264,
         0.22837855061516166,
         0.2200063738040626,
         0.23214027052745223,
         0.22496546022593975,
         0.21684806225821376,
         0.24492020225152372,
         0.22320298440754413,
         0.22802275465801358,
         0.25024246936663985,
         0.23383690072223545,
         0.23867611242458225,
         0.2389456178061664,
         0.22367945211008192,
         0.24411992421373724,
         0.22407918022945522,
         0.21882559461519122,
         0.2349481544457376,
         0.2215441050939262,
         0.22457864275202155,
         0.24980265079066158,
         0.23051650440320373,
         0.24053472569212317,
         0.23018022505566477,
         0.22911040475592018,
         0.22893939940258862,
         0.2286931256763637,
         0.23432776341214775,
         0.24899903228506445,
         0.24880301831290125,
         0.21628338964655996,
         0.23778358814306558,
         0.2409614666365087,
         0.22285356996580957,
         0.22693724846467375,
         0.21942697251215576
        ],
        [
         4.732060072943568,
         4.7017382476478815,
         4.516306219622493,
         4.748661017045379,
         4.490718765184283,
         4.533999340608716,
         4.466384606435895,
         4.134457049891353,
         4.690895384177566,
         4.433340130373836,
         4.442048152908683,
         4.335562271997333,
         4.658817483112216,
         4.6467257514595985,
         4.528568072244525,
         4.506193496286869,
         4.82536686770618,
         4.4303077552467585,
         4.615222381427884,
         4.571963503025472,
         4.769055189564824,
         4.674234559759498,
         4.534763505682349,
         4.615222694352269,
         4.8473328445106745,
         4.460686134174466,
         4.426111491397023,
         4.46600297652185,
         4.775337526574731,
         4.528232971206307,
         4.618196060881019,
         4.584303257986903,
         4.233141148462892,
         4.353766525164247,
         4.48634053952992,
         4.630159741267562,
         4.689607137814164,
         4.255578434094787,
         4.72157952748239,
         4.535984436050057,
         4.538185527548194,
         4.654741255566478,
         4.393709318712354,
         4.376625886186957,
         4.428642073646188,
         4.700520111247897,
         4.461114266887307,
         4.867580646649003,
         4.472789419814944,
         4.282170133665204,
         4.389225171878934,
         4.689439645037055,
         4.585609445348382,
         4.524964926764369,
         4.3269511219114065,
         4.536704732105136,
         4.550658917054534,
         4.639946749433875,
         4.764351634308696,
         4.390926463529468,
         4.575307382270694,
         4.32736043445766,
         4.371911535039544,
         4.622256709262729,
         4.538235193118453,
         4.567571012303233,
         4.400127476081252,
         4.642805410549045,
         4.499309204518795,
         4.336961245164275,
         4.898404045030475,
         4.464059688150883,
         4.560455093160272,
         5.004849387332797,
         4.676738014444709,
         4.773522248491645,
         4.778912356123328,
         4.473589042201638,
         4.882398484274745,
         4.481583604589105,
         4.376511892303824,
         4.698963088914752,
         4.430882101878524,
         4.491572855040431,
         4.9960530158132315,
         4.6103300880640745,
         4.8106945138424635,
         4.6036045011132956,
         4.582208095118403,
         4.578787988051772,
         4.573862513527274,
         4.686555268242955,
         4.979980645701289,
         4.976060366258025,
         4.325667792931199,
         4.755671762861311,
         4.819229332730174,
         4.457071399316192,
         4.538744969293475,
         4.388539450243115
        ],
        [
         1.3230136272487965,
         1.2926904592308672,
         1.260735932743405,
         1.3141460036247632,
         1.239752776172239,
         1.2949557909767317,
         1.2254411689537734,
         1.1772221762305264,
         1.3134598795307315,
         1.2160905255323615,
         1.2590586661839565,
         1.192897682215797,
         1.3359254516648214,
         1.294459108995675,
         1.2649962677341509,
         1.2895718274400778,
         1.2577262680643202,
         1.240604909270335,
         1.2546421002798358,
         1.2889217340626247,
         1.294627004979445,
         1.3094849668561293,
         1.2666250779741965,
         1.2552373854056966,
         1.2976978942904196,
         1.3043792182702396,
         1.2223649174400144,
         1.2072766730296232,
         1.2787449627656182,
         1.275388914970384,
         1.2724433956899284,
         1.3034999775633802,
         1.225001053776822,
         1.1986822663588277,
         1.2311243339625926,
         1.3168546036925,
         1.3234609580877565,
         1.1655672903373167,
         1.2362790232896748,
         1.2368624414150298,
         1.230923164044181,
         1.2882871571631163,
         1.2466667710709571,
         1.2036812623752613,
         1.2237328504943472,
         1.277223948699692,
         1.2145149945130076,
         1.314837452427157,
         1.2222345769443237,
         1.1808810821221933,
         1.227783066542782,
         1.3138647286368736,
         1.2525140195276097,
         1.2403030104875195,
         1.1722472047622632,
         1.2549447354127026,
         1.2916743110902014,
         1.2379701956285636,
         1.3193410961090044,
         1.2439104257879092,
         1.2625685671341338,
         1.1688305329932762,
         1.2133796475097711,
         1.2362052873069174,
         1.289741783044149,
         1.2648544842254885,
         1.2867740595726824,
         1.3254887153861052,
         1.2331527541666643,
         1.222285081842396,
         1.3235511330881946,
         1.1856672345618693,
         1.2374410322804397,
         1.3464604049647348,
         1.3114424603581794,
         1.324521433600704,
         1.321953139387258,
         1.2538496896972051,
         1.3206725679048266,
         1.27762590733719,
         1.263170534209546,
         1.2937185529285973,
         1.2256205838834273,
         1.2333623320155218,
         1.357486258772683,
         1.2623344584351148,
         1.2810985362538674,
         1.2580228886070686,
         1.281856670739571,
         1.2133454184600339,
         1.3164007752970648,
         1.2697882105012728,
         1.3430815245957353,
         1.3178275938729203,
         1.2587448308312639,
         1.2827640912592886,
         1.3101105114414753,
         1.1747776650826351,
         1.3029855688543024,
         1.234770221467581
        ]
       ],
       "encoder": "json",
       "name": "ABC_GAN_3 Metrics",
       "version": 1
      }
     },
     "metadata": {
      "scrapbook": {
       "data": true,
       "display": false,
       "name": "ABC_GAN_3 Metrics"
      }
     },
     "output_type": "display_data"
    },
    {
     "name": "stdout",
     "output_type": "stream",
     "text": [
      "MSE\n",
      "0.07998956604085293\n"
     ]
    }
   ],
   "source": [
    "ABC_GAN3_metrics=ABC_train_test2.test_generator(gen3,test_data,prior_model,variance,bias,\"3\",device)\n",
    "sb.glue(\"ABC_GAN_3 Metrics\",ABC_GAN3_metrics)\n",
    "\n",
    "print(\"MSE\")\n",
    "print(mean(ABC_GAN3_metrics[0]))"
   ]
  },
  {
   "cell_type": "code",
   "execution_count": 18,
   "id": "c8e46b48",
   "metadata": {
    "execution": {
     "iopub.execute_input": "2022-06-22T12:35:57.458631Z",
     "iopub.status.busy": "2022-06-22T12:35:57.457712Z",
     "iopub.status.idle": "2022-06-22T12:35:58.233378Z",
     "shell.execute_reply": "2022-06-22T12:35:58.234418Z"
    },
    "id": "c8e46b48",
    "papermill": {
     "duration": 0.836593,
     "end_time": "2022-06-22T12:35:58.234635",
     "exception": false,
     "start_time": "2022-06-22T12:35:57.398042",
     "status": "completed"
    },
    "tags": []
   },
   "outputs": [
    {
     "data": {
      "image/png": "[encoded data removed]",
      "text/plain": [
       "<Figure size 432x288 with 1 Axes>"
      ]
     },
     "metadata": {
      "needs_background": "light"
     },
     "output_type": "display_data"
    },
    {
     "data": {
      "image/png": "[encoded data removed]",
      "text/plain": [
       "<Figure size 432x288 with 1 Axes>"
      ]
     },
     "metadata": {
      "needs_background": "light"
     },
     "output_type": "display_data"
    },
    {
     "data": {
      "image/png": "[encoded data removed]",
      "text/plain": [
       "<Figure size 432x288 with 1 Axes>"
      ]
     },
     "metadata": {
      "needs_background": "light"
     },
     "output_type": "display_data"
    },
    {
     "data": {
      "image/png": "[encoded data removed]",
      "text/plain": [
       "<Figure size 432x288 with 1 Axes>"
      ]
     },
     "metadata": {
      "needs_background": "light"
     },
     "output_type": "display_data"
    }
   ],
   "source": [
    "sanityChecks.discProbVsError(train_data,disc3,device)\n",
    "sanityChecks.discProbVsError(test_data,disc3,device)"
   ]
  },
  {
   "cell_type": "markdown",
   "id": "a5bd74c3",
   "metadata": {
    "id": "a5bd74c3",
    "papermill": {
     "duration": 0.061791,
     "end_time": "2022-06-22T12:35:58.352209",
     "exception": false,
     "start_time": "2022-06-22T12:35:58.290418",
     "status": "completed"
    },
    "tags": []
   },
   "source": [
    "## Skip Connection Model Analysis - ABC-GAN "
   ]
  },
  {
   "cell_type": "markdown",
   "id": "5744a8bf",
   "metadata": {
    "id": "5744a8bf",
    "papermill": {
     "duration": 0.069719,
     "end_time": "2022-06-22T12:35:58.478505",
     "exception": false,
     "start_time": "2022-06-22T12:35:58.408786",
     "status": "completed"
    },
    "tags": []
   },
   "source": [
    "### Weight Analysis \n",
    "\n",
    "Study the weights of the skip connection layer\n",
    "\n",
    "Equation of the skip connection is \n",
    "\n",
    "$output = y_{gan} * w + y_{abc} * (1-w)$"
   ]
  },
  {
   "cell_type": "code",
   "execution_count": 19,
   "id": "52c31dea",
   "metadata": {
    "execution": {
     "iopub.execute_input": "2022-06-22T12:35:58.644982Z",
     "iopub.status.busy": "2022-06-22T12:35:58.644281Z",
     "iopub.status.idle": "2022-06-22T12:35:58.651194Z",
     "shell.execute_reply": "2022-06-22T12:35:58.651677Z"
    },
    "id": "52c31dea",
    "papermill": {
     "duration": 0.092187,
     "end_time": "2022-06-22T12:35:58.651885",
     "exception": false,
     "start_time": "2022-06-22T12:35:58.559698",
     "status": "completed"
    },
    "tags": []
   },
   "outputs": [
    {
     "name": "stdout",
     "output_type": "stream",
     "text": [
      "Weight of the node at skip connection\n",
      "Parameter containing:\n",
      "tensor([[0.9510]], requires_grad=True)\n"
     ]
    },
    {
     "data": {
      "application/scrapbook.scrap.json+json": {
       "data": 0.9510001540184021,
       "encoder": "json",
       "name": "Skip Connection Weight",
       "version": 1
      }
     },
     "metadata": {
      "scrapbook": {
       "data": true,
       "display": false,
       "name": "Skip Connection Weight"
      }
     },
     "output_type": "display_data"
    }
   ],
   "source": [
    "print(\"Weight of the node at skip connection\")\n",
    "for name,param in gen3.named_parameters():\n",
    "    if(name == \"skipNode.weight\"):\n",
    "        print(param)\n",
    "        sb.glue(\"Skip Connection Weight\",param.item())"
   ]
  }
 ],
 "metadata": {
  "colab": {
   "collapsed_sections": [],
   "name": "ABC_GAN_Model-Catboost_Pre-gen.ipynb",
   "provenance": []
  },
  "interpreter": {
   "hash": "31f2aee4e71d21fbe5cf8b01ff0e069b9275f58929596ceb00d14d90e3e16cd6"
  },
  "kernelspec": {
   "display_name": "Python 3 (ipykernel)",
   "language": "python",
   "name": "python3"
  },
  "language_info": {
   "codemirror_mode": {
    "name": "ipython",
    "version": 3
   },
   "file_extension": ".py",
   "mimetype": "text/x-python",
   "name": "python",
   "nbconvert_exporter": "python",
   "pygments_lexer": "ipython3",
   "version": "3.8.3"
  },
  "papermill": {
   "default_parameters": {},
   "duration": 147.802167,
   "end_time": "2022-06-22T12:35:59.569377",
   "environment_variables": {},
   "exception": null,
   "input_path": "ABC_GAN-TabNet.ipynb",
   "output_path": "./ABC_GAN_TabNet/ABC-GAN_output_3_4.ipynb",
   "parameters": {
    "bias": 0.1,
    "variance": 0.1
   },
   "start_time": "2022-06-22T12:33:31.767210",
   "version": "2.3.3"
  }
 },
 "nbformat": 4,
 "nbformat_minor": 5
}