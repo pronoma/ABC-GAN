{
 "cells": [
  {
   "cell_type": "markdown",
   "id": "622780e6",
   "metadata": {
    "id": "622780e6",
    "papermill": {
     "duration": 0.025515,
     "end_time": "2022-06-22T11:43:21.366129",
     "exception": false,
     "start_time": "2022-06-22T11:43:21.340614",
     "status": "completed"
    },
    "tags": []
   },
   "source": [
    "## Import Libraries "
   ]
  },
  {
   "cell_type": "code",
   "execution_count": 1,
   "id": "a62397e3",
   "metadata": {
    "execution": {
     "iopub.execute_input": "2022-06-22T11:43:21.426923Z",
     "iopub.status.busy": "2022-06-22T11:43:21.424653Z",
     "iopub.status.idle": "2022-06-22T11:43:21.430603Z",
     "shell.execute_reply": "2022-06-22T11:43:21.432517Z"
    },
    "id": "a62397e3",
    "papermill": {
     "duration": 0.047267,
     "end_time": "2022-06-22T11:43:21.433202",
     "exception": false,
     "start_time": "2022-06-22T11:43:21.385935",
     "status": "completed"
    },
    "tags": []
   },
   "outputs": [],
   "source": [
    "import warnings\n",
    "import sys\n",
    "sys.path.insert(0, '../../src')\n",
    "warnings.filterwarnings('ignore')"
   ]
  },
  {
   "cell_type": "code",
   "execution_count": 2,
   "id": "d6a4e155",
   "metadata": {
    "execution": {
     "iopub.execute_input": "2022-06-22T11:43:21.482906Z",
     "iopub.status.busy": "2022-06-22T11:43:21.480386Z",
     "iopub.status.idle": "2022-06-22T11:43:28.680189Z",
     "shell.execute_reply": "2022-06-22T11:43:28.680832Z"
    },
    "id": "d6a4e155",
    "papermill": {
     "duration": 7.229381,
     "end_time": "2022-06-22T11:43:28.681544",
     "exception": false,
     "start_time": "2022-06-22T11:43:21.452163",
     "status": "completed"
    },
    "tags": []
   },
   "outputs": [],
   "source": [
    "import ABC_train_test2\n",
    "import friedman3Dataset\n",
    "import network\n",
    "import dataset\n",
    "import sanityChecks\n",
    "import torch \n",
    "import scrapbook as sb\n",
    "from statistics import mean \n",
    "import catboost as ctb \n",
    "from sklearn.model_selection import train_test_split\n",
    "from sklearn.metrics import mean_squared_error,mean_absolute_error\n",
    "import numpy as np\n",
    "from pytorch_tabnet.tab_model import TabNetRegressor"
   ]
  },
  {
   "cell_type": "markdown",
   "id": "2fa5b0f7",
   "metadata": {
    "id": "2fa5b0f7",
    "papermill": {
     "duration": 0.031549,
     "end_time": "2022-06-22T11:43:28.738376",
     "exception": false,
     "start_time": "2022-06-22T11:43:28.706827",
     "status": "completed"
    },
    "tags": []
   },
   "source": [
    "## Parameters "
   ]
  },
  {
   "cell_type": "code",
   "execution_count": 3,
   "id": "783186fb",
   "metadata": {
    "execution": {
     "iopub.execute_input": "2022-06-22T11:43:28.796852Z",
     "iopub.status.busy": "2022-06-22T11:43:28.795090Z",
     "iopub.status.idle": "2022-06-22T11:43:28.801574Z",
     "shell.execute_reply": "2022-06-22T11:43:28.803021Z"
    },
    "id": "783186fb",
    "papermill": {
     "duration": 0.030656,
     "end_time": "2022-06-22T11:43:28.803334",
     "exception": false,
     "start_time": "2022-06-22T11:43:28.772678",
     "status": "completed"
    },
    "tags": [
     "parameters"
    ]
   },
   "outputs": [],
   "source": [
    "variance = 1\n",
    "bias = 1 "
   ]
  },
  {
   "cell_type": "code",
   "execution_count": 4,
   "id": "4e9220a3",
   "metadata": {
    "execution": {
     "iopub.execute_input": "2022-06-22T11:43:28.853704Z",
     "iopub.status.busy": "2022-06-22T11:43:28.852884Z",
     "iopub.status.idle": "2022-06-22T11:43:28.855164Z",
     "shell.execute_reply": "2022-06-22T11:43:28.855684Z"
    },
    "papermill": {
     "duration": 0.033478,
     "end_time": "2022-06-22T11:43:28.855924",
     "exception": false,
     "start_time": "2022-06-22T11:43:28.822446",
     "status": "completed"
    },
    "tags": [
     "injected-parameters"
    ]
   },
   "outputs": [],
   "source": [
    "# Parameters\n",
    "variance = 0.1\n",
    "bias = 0.01\n"
   ]
  },
  {
   "cell_type": "markdown",
   "id": "391cdbfd",
   "metadata": {
    "id": "391cdbfd",
    "papermill": {
     "duration": 0.018461,
     "end_time": "2022-06-22T11:43:28.891774",
     "exception": false,
     "start_time": "2022-06-22T11:43:28.873313",
     "status": "completed"
    },
    "tags": []
   },
   "source": [
    "## Dataset \n"
   ]
  },
  {
   "cell_type": "code",
   "execution_count": 5,
   "id": "5b51f161",
   "metadata": {
    "execution": {
     "iopub.execute_input": "2022-06-22T11:43:28.930903Z",
     "iopub.status.busy": "2022-06-22T11:43:28.929725Z",
     "iopub.status.idle": "2022-06-22T11:43:28.934982Z",
     "shell.execute_reply": "2022-06-22T11:43:28.934285Z"
    },
    "id": "5b51f161",
    "papermill": {
     "duration": 0.027042,
     "end_time": "2022-06-22T11:43:28.935191",
     "exception": false,
     "start_time": "2022-06-22T11:43:28.908149",
     "status": "completed"
    },
    "tags": []
   },
   "outputs": [],
   "source": [
    "#Parameters \n",
    "n_features = 4\n",
    "n_samples= 100\n",
    "n_target = 1"
   ]
  },
  {
   "cell_type": "code",
   "execution_count": 6,
   "id": "5d6eced4",
   "metadata": {
    "execution": {
     "iopub.execute_input": "2022-06-22T11:43:28.986780Z",
     "iopub.status.busy": "2022-06-22T11:43:28.982494Z",
     "iopub.status.idle": "2022-06-22T11:43:28.996666Z",
     "shell.execute_reply": "2022-06-22T11:43:28.997616Z"
    },
    "id": "5d6eced4",
    "papermill": {
     "duration": 0.046945,
     "end_time": "2022-06-22T11:43:28.999220",
     "exception": false,
     "start_time": "2022-06-22T11:43:28.952275",
     "status": "completed"
    },
    "tags": []
   },
   "outputs": [
    {
     "name": "stdout",
     "output_type": "stream",
     "text": [
      "          X1           X2        X3         X4         Y\n",
      "0  63.921900  1186.388610  0.686318   2.162475  1.337316\n",
      "1  10.449667   599.225012  0.299838  10.574172  1.471717\n",
      "2  83.081114   414.098280  0.668658   4.404324  1.376852\n",
      "3  22.912037  1680.234437  0.360579   9.452941  1.497907\n",
      "4  37.139583  1186.618166  0.532566   4.698633  1.464167\n"
     ]
    }
   ],
   "source": [
    "X,Y = friedman3Dataset.friedman3_data(n_samples)"
   ]
  },
  {
   "cell_type": "code",
   "execution_count": 7,
   "id": "fe007438",
   "metadata": {
    "execution": {
     "iopub.execute_input": "2022-06-22T11:43:29.044200Z",
     "iopub.status.busy": "2022-06-22T11:43:29.043279Z",
     "iopub.status.idle": "2022-06-22T11:43:29.046199Z",
     "shell.execute_reply": "2022-06-22T11:43:29.046813Z"
    },
    "id": "fe007438",
    "papermill": {
     "duration": 0.028145,
     "end_time": "2022-06-22T11:43:29.047071",
     "exception": false,
     "start_time": "2022-06-22T11:43:29.018926",
     "status": "completed"
    },
    "tags": []
   },
   "outputs": [],
   "source": [
    "#Train test split for dataset \n",
    "X_train,X_test,Y_train,Y_test = train_test_split(X,Y,test_size = 0.2)\n",
    "train_data = dataset.CustomDataset(X_train,Y_train)\n",
    "test_data = dataset.CustomDataset(X_test,Y_test)\n"
   ]
  },
  {
   "cell_type": "markdown",
   "id": "a9a1af34",
   "metadata": {
    "id": "a9a1af34",
    "papermill": {
     "duration": 0.027971,
     "end_time": "2022-06-22T11:43:29.093073",
     "exception": false,
     "start_time": "2022-06-22T11:43:29.065102",
     "status": "completed"
    },
    "tags": []
   },
   "source": [
    "## Training Parameters "
   ]
  },
  {
   "cell_type": "code",
   "execution_count": 8,
   "id": "952b7fc8",
   "metadata": {
    "execution": {
     "iopub.execute_input": "2022-06-22T11:43:29.146289Z",
     "iopub.status.busy": "2022-06-22T11:43:29.144824Z",
     "iopub.status.idle": "2022-06-22T11:43:29.147804Z",
     "shell.execute_reply": "2022-06-22T11:43:29.149405Z"
    },
    "id": "952b7fc8",
    "papermill": {
     "duration": 0.037352,
     "end_time": "2022-06-22T11:43:29.149983",
     "exception": false,
     "start_time": "2022-06-22T11:43:29.112631",
     "status": "completed"
    },
    "tags": []
   },
   "outputs": [],
   "source": [
    "batch_size = 32\n",
    "n_epochs = 1000\n",
    "#Select the device \n",
    "device = torch.device('cuda' if torch.cuda.is_available() else 'cpu')"
   ]
  },
  {
   "cell_type": "markdown",
   "id": "a95e1600",
   "metadata": {
    "id": "a95e1600",
    "papermill": {
     "duration": 0.032028,
     "end_time": "2022-06-22T11:43:29.208131",
     "exception": false,
     "start_time": "2022-06-22T11:43:29.176103",
     "status": "completed"
    },
    "tags": []
   },
   "source": [
    "# ABC Pre-generator Model \n",
    "\n",
    "1. The catboost model is used as a pre-generator model for the ABC-GAN. \n",
    "2. The model is first trained on the entire dataset \n",
    "3. It generats X,Y pairs and we add some Gaussian noise with mean 0 and variance 1 to it which is then feed as input to the generator.\n"
   ]
  },
  {
   "cell_type": "code",
   "execution_count": 9,
   "id": "ff8ce7bd",
   "metadata": {
    "execution": {
     "iopub.execute_input": "2022-06-22T11:43:29.255693Z",
     "iopub.status.busy": "2022-06-22T11:43:29.254069Z",
     "iopub.status.idle": "2022-06-22T11:43:50.361649Z",
     "shell.execute_reply": "2022-06-22T11:43:50.362107Z"
    },
    "id": "ff8ce7bd",
    "papermill": {
     "duration": 21.134931,
     "end_time": "2022-06-22T11:43:50.362331",
     "exception": false,
     "start_time": "2022-06-22T11:43:29.227400",
     "status": "completed"
    },
    "tags": []
   },
   "outputs": [
    {
     "name": "stdout",
     "output_type": "stream",
     "text": [
      "Device used : cpu\n"
     ]
    },
    {
     "name": "stdout",
     "output_type": "stream",
     "text": [
      "epoch 0  | loss: 1.05112 | train_mse: 5.31096 | train_mae: 1.77958 |  0:00:00s\n",
      "epoch 1  | loss: 0.6126  | train_mse: 3.36685 | train_mae: 1.42136 |  0:00:00s\n"
     ]
    },
    {
     "name": "stdout",
     "output_type": "stream",
     "text": [
      "epoch 2  | loss: 0.41179 | train_mse: 2.90104 | train_mae: 1.17071 |  0:00:00s\n",
      "epoch 3  | loss: 0.40971 | train_mse: 2.32646 | train_mae: 1.04028 |  0:00:00s\n"
     ]
    },
    {
     "name": "stdout",
     "output_type": "stream",
     "text": [
      "epoch 4  | loss: 0.45682 | train_mse: 0.82294 | train_mae: 0.64271 |  0:00:00s\n",
      "epoch 5  | loss: 0.46349 | train_mse: 0.35319 | train_mae: 0.45091 |  0:00:00s\n",
      "epoch 6  | loss: 0.42303 | train_mse: 0.50396 | train_mae: 0.52582 |  0:00:00s\n"
     ]
    },
    {
     "name": "stdout",
     "output_type": "stream",
     "text": [
      "epoch 7  | loss: 0.27875 | train_mse: 0.69474 | train_mae: 0.61213 |  0:00:01s\n",
      "epoch 8  | loss: 0.32355 | train_mse: 0.54564 | train_mae: 0.54516 |  0:00:01s\n",
      "epoch 9  | loss: 0.29017 | train_mse: 0.4066  | train_mae: 0.47572 |  0:00:01s\n"
     ]
    },
    {
     "name": "stdout",
     "output_type": "stream",
     "text": [
      "epoch 10 | loss: 0.38456 | train_mse: 0.45627 | train_mae: 0.50204 |  0:00:01s\n",
      "epoch 11 | loss: 0.23471 | train_mse: 0.36034 | train_mae: 0.4576  |  0:00:01s\n",
      "epoch 12 | loss: 0.22393 | train_mse: 0.3355  | train_mae: 0.45683 |  0:00:01s\n"
     ]
    },
    {
     "name": "stdout",
     "output_type": "stream",
     "text": [
      "epoch 13 | loss: 0.19132 | train_mse: 0.40265 | train_mae: 0.43364 |  0:00:01s\n",
      "epoch 14 | loss: 0.2958  | train_mse: 0.3203  | train_mae: 0.40871 |  0:00:01s\n",
      "epoch 15 | loss: 0.19346 | train_mse: 0.23717 | train_mae: 0.35241 |  0:00:01s\n"
     ]
    },
    {
     "name": "stdout",
     "output_type": "stream",
     "text": [
      "epoch 16 | loss: 0.16711 | train_mse: 0.25924 | train_mae: 0.38162 |  0:00:01s\n",
      "epoch 17 | loss: 0.30703 | train_mse: 0.35375 | train_mae: 0.42281 |  0:00:01s\n",
      "epoch 18 | loss: 0.44301 | train_mse: 0.25898 | train_mae: 0.35526 |  0:00:02s\n"
     ]
    },
    {
     "name": "stdout",
     "output_type": "stream",
     "text": [
      "epoch 19 | loss: 0.35598 | train_mse: 0.21461 | train_mae: 0.32636 |  0:00:02s\n",
      "epoch 20 | loss: 0.22383 | train_mse: 0.25004 | train_mae: 0.37271 |  0:00:02s\n",
      "epoch 21 | loss: 0.18841 | train_mse: 0.37841 | train_mae: 0.45349 |  0:00:02s\n"
     ]
    },
    {
     "name": "stdout",
     "output_type": "stream",
     "text": [
      "epoch 22 | loss: 0.24749 | train_mse: 0.4745  | train_mae: 0.48637 |  0:00:02s\n",
      "epoch 23 | loss: 0.20081 | train_mse: 0.33253 | train_mae: 0.4059  |  0:00:02s\n",
      "epoch 24 | loss: 0.25142 | train_mse: 0.19302 | train_mae: 0.31207 |  0:00:02s\n"
     ]
    },
    {
     "name": "stdout",
     "output_type": "stream",
     "text": [
      "epoch 25 | loss: 0.23134 | train_mse: 0.16053 | train_mae: 0.2914  |  0:00:02s\n",
      "epoch 26 | loss: 0.18882 | train_mse: 0.18574 | train_mae: 0.31752 |  0:00:02s\n",
      "epoch 27 | loss: 0.22621 | train_mse: 0.31268 | train_mae: 0.37828 |  0:00:02s\n"
     ]
    },
    {
     "name": "stdout",
     "output_type": "stream",
     "text": [
      "epoch 28 | loss: 0.20855 | train_mse: 0.30298 | train_mae: 0.35355 |  0:00:02s\n",
      "epoch 29 | loss: 0.11529 | train_mse: 0.19289 | train_mae: 0.29255 |  0:00:03s\n",
      "epoch 30 | loss: 0.14726 | train_mse: 0.15086 | train_mae: 0.28099 |  0:00:03s\n"
     ]
    },
    {
     "name": "stdout",
     "output_type": "stream",
     "text": [
      "epoch 31 | loss: 0.15022 | train_mse: 0.14707 | train_mae: 0.29082 |  0:00:03s\n",
      "epoch 32 | loss: 0.23369 | train_mse: 0.12551 | train_mae: 0.2767  |  0:00:03s\n",
      "epoch 33 | loss: 0.15606 | train_mse: 0.14909 | train_mae: 0.28726 |  0:00:03s\n"
     ]
    },
    {
     "name": "stdout",
     "output_type": "stream",
     "text": [
      "epoch 34 | loss: 0.13157 | train_mse: 0.18755 | train_mae: 0.30666 |  0:00:03s\n",
      "epoch 35 | loss: 0.18511 | train_mse: 0.23642 | train_mae: 0.31938 |  0:00:03s\n",
      "epoch 36 | loss: 0.1364  | train_mse: 0.17412 | train_mae: 0.28059 |  0:00:03s\n"
     ]
    },
    {
     "name": "stdout",
     "output_type": "stream",
     "text": [
      "epoch 37 | loss: 0.15922 | train_mse: 0.11727 | train_mae: 0.25748 |  0:00:03s\n",
      "epoch 38 | loss: 0.1315  | train_mse: 0.12351 | train_mae: 0.27339 |  0:00:03s\n",
      "epoch 39 | loss: 0.11714 | train_mse: 0.12101 | train_mae: 0.27155 |  0:00:03s\n"
     ]
    },
    {
     "name": "stdout",
     "output_type": "stream",
     "text": [
      "epoch 40 | loss: 0.10824 | train_mse: 0.15082 | train_mae: 0.30005 |  0:00:03s\n",
      "epoch 41 | loss: 0.2125  | train_mse: 0.16375 | train_mae: 0.29944 |  0:00:04s\n",
      "epoch 42 | loss: 0.17648 | train_mse: 0.19922 | train_mae: 0.32186 |  0:00:04s\n"
     ]
    },
    {
     "name": "stdout",
     "output_type": "stream",
     "text": [
      "epoch 43 | loss: 0.12117 | train_mse: 0.17727 | train_mae: 0.30427 |  0:00:04s\n",
      "epoch 44 | loss: 0.14166 | train_mse: 0.12383 | train_mae: 0.27019 |  0:00:04s\n",
      "epoch 45 | loss: 0.1164  | train_mse: 0.12087 | train_mae: 0.26113 |  0:00:04s\n"
     ]
    },
    {
     "name": "stdout",
     "output_type": "stream",
     "text": [
      "epoch 46 | loss: 0.1188  | train_mse: 0.11892 | train_mae: 0.26632 |  0:00:04s\n",
      "epoch 47 | loss: 0.16882 | train_mse: 0.10433 | train_mae: 0.25801 |  0:00:04s\n",
      "epoch 48 | loss: 0.12671 | train_mse: 0.10173 | train_mae: 0.25679 |  0:00:04s\n"
     ]
    },
    {
     "name": "stdout",
     "output_type": "stream",
     "text": [
      "epoch 49 | loss: 0.12296 | train_mse: 0.09619 | train_mae: 0.24743 |  0:00:04s\n",
      "epoch 50 | loss: 0.22779 | train_mse: 0.10866 | train_mae: 0.25576 |  0:00:04s\n",
      "epoch 51 | loss: 0.18222 | train_mse: 0.12413 | train_mae: 0.26722 |  0:00:04s\n"
     ]
    },
    {
     "name": "stdout",
     "output_type": "stream",
     "text": [
      "epoch 52 | loss: 0.13759 | train_mse: 0.11243 | train_mae: 0.25492 |  0:00:04s\n",
      "epoch 53 | loss: 0.20465 | train_mse: 0.11765 | train_mae: 0.25825 |  0:00:05s\n",
      "epoch 54 | loss: 0.12045 | train_mse: 0.13645 | train_mae: 0.26863 |  0:00:05s\n"
     ]
    },
    {
     "name": "stdout",
     "output_type": "stream",
     "text": [
      "epoch 55 | loss: 0.08628 | train_mse: 0.1669  | train_mae: 0.29091 |  0:00:05s\n",
      "epoch 56 | loss: 0.19902 | train_mse: 0.14144 | train_mae: 0.27124 |  0:00:05s\n",
      "epoch 57 | loss: 0.09189 | train_mse: 0.11341 | train_mae: 0.24391 |  0:00:05s\n"
     ]
    },
    {
     "name": "stdout",
     "output_type": "stream",
     "text": [
      "epoch 58 | loss: 0.17125 | train_mse: 0.10744 | train_mae: 0.23994 |  0:00:05s\n",
      "epoch 59 | loss: 0.30294 | train_mse: 0.09789 | train_mae: 0.23138 |  0:00:05s\n",
      "epoch 60 | loss: 0.11596 | train_mse: 0.10684 | train_mae: 0.24177 |  0:00:05s\n"
     ]
    },
    {
     "name": "stdout",
     "output_type": "stream",
     "text": [
      "epoch 61 | loss: 0.1863  | train_mse: 0.12963 | train_mae: 0.25735 |  0:00:05s\n",
      "epoch 62 | loss: 0.23015 | train_mse: 0.09784 | train_mae: 0.23873 |  0:00:05s\n",
      "epoch 63 | loss: 0.16311 | train_mse: 0.09207 | train_mae: 0.23674 |  0:00:05s\n"
     ]
    },
    {
     "name": "stdout",
     "output_type": "stream",
     "text": [
      "epoch 64 | loss: 0.11149 | train_mse: 0.07828 | train_mae: 0.21801 |  0:00:05s\n",
      "epoch 65 | loss: 0.12809 | train_mse: 0.08767 | train_mae: 0.22703 |  0:00:06s\n",
      "epoch 66 | loss: 0.26649 | train_mse: 0.09423 | train_mae: 0.22741 |  0:00:06s\n"
     ]
    },
    {
     "name": "stdout",
     "output_type": "stream",
     "text": [
      "epoch 67 | loss: 0.1195  | train_mse: 0.09457 | train_mae: 0.22646 |  0:00:06s\n",
      "epoch 68 | loss: 0.18886 | train_mse: 0.09589 | train_mae: 0.23317 |  0:00:06s\n",
      "epoch 69 | loss: 0.16852 | train_mse: 0.10489 | train_mae: 0.246   |  0:00:06s\n"
     ]
    },
    {
     "name": "stdout",
     "output_type": "stream",
     "text": [
      "epoch 70 | loss: 0.12376 | train_mse: 0.09286 | train_mae: 0.22981 |  0:00:06s\n",
      "epoch 71 | loss: 0.09085 | train_mse: 0.10195 | train_mae: 0.23731 |  0:00:06s\n",
      "epoch 72 | loss: 0.10191 | train_mse: 0.10158 | train_mae: 0.24076 |  0:00:06s\n"
     ]
    },
    {
     "name": "stdout",
     "output_type": "stream",
     "text": [
      "epoch 73 | loss: 0.13024 | train_mse: 0.0949  | train_mae: 0.24008 |  0:00:06s\n",
      "epoch 74 | loss: 0.10382 | train_mse: 0.11406 | train_mae: 0.25665 |  0:00:06s\n",
      "epoch 75 | loss: 0.16559 | train_mse: 0.15914 | train_mae: 0.28509 |  0:00:06s\n"
     ]
    },
    {
     "name": "stdout",
     "output_type": "stream",
     "text": [
      "epoch 76 | loss: 0.12884 | train_mse: 0.17094 | train_mae: 0.28855 |  0:00:06s\n",
      "epoch 77 | loss: 0.14378 | train_mse: 0.18035 | train_mae: 0.29048 |  0:00:07s\n",
      "epoch 78 | loss: 0.10055 | train_mse: 0.21884 | train_mae: 0.31122 |  0:00:07s\n"
     ]
    },
    {
     "name": "stdout",
     "output_type": "stream",
     "text": [
      "epoch 79 | loss: 0.09318 | train_mse: 0.24024 | train_mae: 0.32087 |  0:00:07s\n",
      "epoch 80 | loss: 0.2323  | train_mse: 0.20667 | train_mae: 0.29689 |  0:00:07s\n",
      "epoch 81 | loss: 0.12252 | train_mse: 0.20583 | train_mae: 0.29991 |  0:00:07s\n"
     ]
    },
    {
     "name": "stdout",
     "output_type": "stream",
     "text": [
      "epoch 82 | loss: 0.16568 | train_mse: 0.18259 | train_mae: 0.29133 |  0:00:07s\n",
      "epoch 83 | loss: 0.11074 | train_mse: 0.12477 | train_mae: 0.25825 |  0:00:07s\n",
      "epoch 84 | loss: 0.15803 | train_mse: 0.09547 | train_mae: 0.23945 |  0:00:07s\n"
     ]
    },
    {
     "name": "stdout",
     "output_type": "stream",
     "text": [
      "epoch 85 | loss: 0.11875 | train_mse: 0.10512 | train_mae: 0.24533 |  0:00:07s\n",
      "epoch 86 | loss: 0.12492 | train_mse: 0.1149  | train_mae: 0.24975 |  0:00:07s\n",
      "epoch 87 | loss: 0.12156 | train_mse: 0.12694 | train_mae: 0.25832 |  0:00:07s\n"
     ]
    },
    {
     "name": "stdout",
     "output_type": "stream",
     "text": [
      "epoch 88 | loss: 0.29062 | train_mse: 0.15079 | train_mae: 0.2786  |  0:00:07s\n",
      "epoch 89 | loss: 0.13016 | train_mse: 0.12967 | train_mae: 0.26471 |  0:00:07s\n",
      "epoch 90 | loss: 0.11573 | train_mse: 0.14126 | train_mae: 0.27862 |  0:00:08s\n"
     ]
    },
    {
     "name": "stdout",
     "output_type": "stream",
     "text": [
      "epoch 91 | loss: 0.20138 | train_mse: 0.10733 | train_mae: 0.25047 |  0:00:08s\n",
      "epoch 92 | loss: 0.11573 | train_mse: 0.08936 | train_mae: 0.23511 |  0:00:08s\n",
      "epoch 93 | loss: 0.10157 | train_mse: 0.0841  | train_mae: 0.22903 |  0:00:08s\n"
     ]
    },
    {
     "name": "stdout",
     "output_type": "stream",
     "text": [
      "epoch 94 | loss: 0.10583 | train_mse: 0.09439 | train_mae: 0.24225 |  0:00:08s\n",
      "epoch 95 | loss: 0.11789 | train_mse: 0.10809 | train_mae: 0.25195 |  0:00:08s\n",
      "epoch 96 | loss: 0.16077 | train_mse: 0.07907 | train_mae: 0.22753 |  0:00:08s\n"
     ]
    },
    {
     "name": "stdout",
     "output_type": "stream",
     "text": [
      "epoch 97 | loss: 0.15179 | train_mse: 0.09858 | train_mae: 0.24254 |  0:00:08s\n",
      "epoch 98 | loss: 0.12066 | train_mse: 0.1158  | train_mae: 0.24956 |  0:00:08s\n",
      "epoch 99 | loss: 0.10572 | train_mse: 0.13506 | train_mae: 0.27052 |  0:00:08s\n"
     ]
    },
    {
     "name": "stdout",
     "output_type": "stream",
     "text": [
      "epoch 100| loss: 0.10736 | train_mse: 0.14545 | train_mae: 0.28633 |  0:00:08s\n",
      "epoch 101| loss: 0.16662 | train_mse: 0.1554  | train_mae: 0.28471 |  0:00:08s\n",
      "epoch 102| loss: 0.11072 | train_mse: 0.10513 | train_mae: 0.255   |  0:00:09s\n"
     ]
    },
    {
     "name": "stdout",
     "output_type": "stream",
     "text": [
      "epoch 103| loss: 0.18145 | train_mse: 0.06818 | train_mae: 0.21497 |  0:00:09s\n",
      "epoch 104| loss: 0.15702 | train_mse: 0.05971 | train_mae: 0.20368 |  0:00:09s\n",
      "epoch 105| loss: 0.10019 | train_mse: 0.05637 | train_mae: 0.19583 |  0:00:09s\n"
     ]
    },
    {
     "name": "stdout",
     "output_type": "stream",
     "text": [
      "epoch 106| loss: 0.15073 | train_mse: 0.05934 | train_mae: 0.2079  |  0:00:09s\n",
      "epoch 107| loss: 0.09695 | train_mse: 0.06688 | train_mae: 0.22049 |  0:00:09s\n",
      "epoch 108| loss: 0.14831 | train_mse: 0.06678 | train_mae: 0.21813 |  0:00:09s\n"
     ]
    },
    {
     "name": "stdout",
     "output_type": "stream",
     "text": [
      "epoch 109| loss: 0.20244 | train_mse: 0.06785 | train_mae: 0.21743 |  0:00:09s\n",
      "epoch 110| loss: 0.08563 | train_mse: 0.0601  | train_mae: 0.20389 |  0:00:09s\n",
      "epoch 111| loss: 0.13891 | train_mse: 0.06722 | train_mae: 0.21285 |  0:00:09s\n"
     ]
    },
    {
     "name": "stdout",
     "output_type": "stream",
     "text": [
      "epoch 112| loss: 0.1235  | train_mse: 0.09011 | train_mae: 0.23988 |  0:00:09s\n",
      "epoch 113| loss: 0.12121 | train_mse: 0.14575 | train_mae: 0.28192 |  0:00:10s\n",
      "epoch 114| loss: 0.18863 | train_mse: 0.13724 | train_mae: 0.27782 |  0:00:10s\n"
     ]
    },
    {
     "name": "stdout",
     "output_type": "stream",
     "text": [
      "epoch 115| loss: 0.1589  | train_mse: 0.06409 | train_mae: 0.20945 |  0:00:10s\n",
      "epoch 116| loss: 0.12575 | train_mse: 0.0602  | train_mae: 0.20209 |  0:00:10s\n",
      "epoch 117| loss: 0.09182 | train_mse: 0.06522 | train_mae: 0.20805 |  0:00:10s\n"
     ]
    },
    {
     "name": "stdout",
     "output_type": "stream",
     "text": [
      "epoch 118| loss: 0.16252 | train_mse: 0.05477 | train_mae: 0.19428 |  0:00:10s\n",
      "epoch 119| loss: 0.1565  | train_mse: 0.06925 | train_mae: 0.21424 |  0:00:10s\n",
      "epoch 120| loss: 0.11804 | train_mse: 0.07541 | train_mae: 0.21506 |  0:00:10s\n"
     ]
    },
    {
     "name": "stdout",
     "output_type": "stream",
     "text": [
      "epoch 121| loss: 0.14717 | train_mse: 0.05487 | train_mae: 0.18799 |  0:00:10s\n",
      "epoch 122| loss: 0.11346 | train_mse: 0.06421 | train_mae: 0.20133 |  0:00:10s\n",
      "epoch 123| loss: 0.24832 | train_mse: 0.06804 | train_mae: 0.20816 |  0:00:10s\n"
     ]
    },
    {
     "name": "stdout",
     "output_type": "stream",
     "text": [
      "epoch 124| loss: 0.13303 | train_mse: 0.07042 | train_mae: 0.21634 |  0:00:10s\n",
      "epoch 125| loss: 0.11855 | train_mse: 0.077   | train_mae: 0.22026 |  0:00:11s\n",
      "epoch 126| loss: 0.12684 | train_mse: 0.08963 | train_mae: 0.23319 |  0:00:11s\n"
     ]
    },
    {
     "name": "stdout",
     "output_type": "stream",
     "text": [
      "epoch 127| loss: 0.12129 | train_mse: 0.13651 | train_mae: 0.25549 |  0:00:11s\n",
      "epoch 128| loss: 0.14818 | train_mse: 0.07233 | train_mae: 0.2019  |  0:00:11s\n",
      "epoch 129| loss: 0.18053 | train_mse: 0.05769 | train_mae: 0.19551 |  0:00:11s\n"
     ]
    },
    {
     "name": "stdout",
     "output_type": "stream",
     "text": [
      "epoch 130| loss: 0.22745 | train_mse: 0.09567 | train_mae: 0.23938 |  0:00:11s\n",
      "epoch 131| loss: 0.14724 | train_mse: 0.09324 | train_mae: 0.23465 |  0:00:11s\n",
      "epoch 132| loss: 0.17059 | train_mse: 0.07533 | train_mae: 0.21633 |  0:00:11s\n"
     ]
    },
    {
     "name": "stdout",
     "output_type": "stream",
     "text": [
      "epoch 133| loss: 0.14503 | train_mse: 0.06542 | train_mae: 0.20377 |  0:00:11s\n",
      "epoch 134| loss: 0.13221 | train_mse: 0.06398 | train_mae: 0.20508 |  0:00:11s\n",
      "epoch 135| loss: 0.2058  | train_mse: 0.06403 | train_mae: 0.20159 |  0:00:11s\n"
     ]
    },
    {
     "name": "stdout",
     "output_type": "stream",
     "text": [
      "epoch 136| loss: 0.13596 | train_mse: 0.08355 | train_mae: 0.22425 |  0:00:11s\n",
      "epoch 137| loss: 0.11474 | train_mse: 0.08621 | train_mae: 0.22705 |  0:00:12s\n",
      "epoch 138| loss: 0.1121  | train_mse: 0.08969 | train_mae: 0.23113 |  0:00:12s\n"
     ]
    },
    {
     "name": "stdout",
     "output_type": "stream",
     "text": [
      "epoch 139| loss: 0.09878 | train_mse: 0.10706 | train_mae: 0.24586 |  0:00:12s\n",
      "epoch 140| loss: 0.12116 | train_mse: 0.11594 | train_mae: 0.25521 |  0:00:12s\n",
      "epoch 141| loss: 0.15356 | train_mse: 0.12758 | train_mae: 0.26558 |  0:00:12s\n"
     ]
    },
    {
     "name": "stdout",
     "output_type": "stream",
     "text": [
      "epoch 142| loss: 0.08797 | train_mse: 0.09987 | train_mae: 0.2441  |  0:00:12s\n",
      "epoch 143| loss: 0.10734 | train_mse: 0.08082 | train_mae: 0.22411 |  0:00:12s\n",
      "epoch 144| loss: 0.09167 | train_mse: 0.07646 | train_mae: 0.22159 |  0:00:12s\n"
     ]
    },
    {
     "name": "stdout",
     "output_type": "stream",
     "text": [
      "epoch 145| loss: 0.11478 | train_mse: 0.07434 | train_mae: 0.21674 |  0:00:12s\n",
      "epoch 146| loss: 0.10508 | train_mse: 0.05865 | train_mae: 0.19887 |  0:00:12s\n",
      "epoch 147| loss: 0.13346 | train_mse: 0.06001 | train_mae: 0.20073 |  0:00:12s\n"
     ]
    },
    {
     "name": "stdout",
     "output_type": "stream",
     "text": [
      "epoch 148| loss: 0.0671  | train_mse: 0.06793 | train_mae: 0.2092  |  0:00:12s\n",
      "epoch 149| loss: 0.10628 | train_mse: 0.06287 | train_mae: 0.20815 |  0:00:13s\n",
      "epoch 150| loss: 0.13686 | train_mse: 0.06116 | train_mae: 0.20574 |  0:00:13s\n"
     ]
    },
    {
     "name": "stdout",
     "output_type": "stream",
     "text": [
      "epoch 151| loss: 0.12565 | train_mse: 0.05605 | train_mae: 0.19624 |  0:00:13s\n",
      "epoch 152| loss: 0.1112  | train_mse: 0.05264 | train_mae: 0.19336 |  0:00:13s\n",
      "epoch 153| loss: 0.15256 | train_mse: 0.0804  | train_mae: 0.23153 |  0:00:13s\n"
     ]
    },
    {
     "name": "stdout",
     "output_type": "stream",
     "text": [
      "epoch 154| loss: 0.12678 | train_mse: 0.06882 | train_mae: 0.21871 |  0:00:13s\n",
      "epoch 155| loss: 0.17355 | train_mse: 0.07798 | train_mae: 0.23007 |  0:00:13s\n",
      "epoch 156| loss: 0.0678  | train_mse: 0.08715 | train_mae: 0.23736 |  0:00:13s\n"
     ]
    },
    {
     "name": "stdout",
     "output_type": "stream",
     "text": [
      "epoch 157| loss: 0.164   | train_mse: 0.07264 | train_mae: 0.21995 |  0:00:13s\n",
      "epoch 158| loss: 0.11531 | train_mse: 0.06728 | train_mae: 0.2113  |  0:00:13s\n",
      "epoch 159| loss: 0.13089 | train_mse: 0.0733  | train_mae: 0.22685 |  0:00:13s\n"
     ]
    },
    {
     "name": "stdout",
     "output_type": "stream",
     "text": [
      "epoch 160| loss: 0.15772 | train_mse: 0.06626 | train_mae: 0.21658 |  0:00:13s\n",
      "epoch 161| loss: 0.11605 | train_mse: 0.05551 | train_mae: 0.19477 |  0:00:14s\n",
      "epoch 162| loss: 0.11219 | train_mse: 0.06023 | train_mae: 0.20417 |  0:00:14s\n"
     ]
    },
    {
     "name": "stdout",
     "output_type": "stream",
     "text": [
      "epoch 163| loss: 0.10517 | train_mse: 0.06535 | train_mae: 0.20834 |  0:00:14s\n"
     ]
    },
    {
     "name": "stdout",
     "output_type": "stream",
     "text": [
      "epoch 164| loss: 0.07162 | train_mse: 0.05921 | train_mae: 0.19905 |  0:00:14s\n",
      "epoch 165| loss: 0.07977 | train_mse: 0.05146 | train_mae: 0.18752 |  0:00:14s\n",
      "epoch 166| loss: 0.11022 | train_mse: 0.05947 | train_mae: 0.20016 |  0:00:14s\n"
     ]
    },
    {
     "name": "stdout",
     "output_type": "stream",
     "text": [
      "epoch 167| loss: 0.25046 | train_mse: 0.06381 | train_mae: 0.20712 |  0:00:14s\n",
      "epoch 168| loss: 0.11033 | train_mse: 0.07095 | train_mae: 0.21604 |  0:00:14s\n",
      "epoch 169| loss: 0.05891 | train_mse: 0.08539 | train_mae: 0.23787 |  0:00:14s\n"
     ]
    },
    {
     "name": "stdout",
     "output_type": "stream",
     "text": [
      "epoch 170| loss: 0.06028 | train_mse: 0.09866 | train_mae: 0.25647 |  0:00:14s\n"
     ]
    },
    {
     "name": "stdout",
     "output_type": "stream",
     "text": [
      "epoch 171| loss: 0.17509 | train_mse: 0.10014 | train_mae: 0.25559 |  0:00:15s\n",
      "epoch 172| loss: 0.09711 | train_mse: 0.07315 | train_mae: 0.21613 |  0:00:15s\n",
      "epoch 173| loss: 0.09708 | train_mse: 0.05187 | train_mae: 0.1765  |  0:00:15s\n"
     ]
    },
    {
     "name": "stdout",
     "output_type": "stream",
     "text": [
      "epoch 174| loss: 0.08613 | train_mse: 0.04976 | train_mae: 0.17744 |  0:00:15s\n",
      "epoch 175| loss: 0.08725 | train_mse: 0.06885 | train_mae: 0.20811 |  0:00:15s\n",
      "epoch 176| loss: 0.07071 | train_mse: 0.0646  | train_mae: 0.1996  |  0:00:15s\n"
     ]
    },
    {
     "name": "stdout",
     "output_type": "stream",
     "text": [
      "epoch 177| loss: 0.07273 | train_mse: 0.04799 | train_mae: 0.17637 |  0:00:15s\n",
      "epoch 178| loss: 0.07637 | train_mse: 0.05314 | train_mae: 0.18866 |  0:00:15s\n",
      "epoch 179| loss: 0.07679 | train_mse: 0.05904 | train_mae: 0.20031 |  0:00:15s\n"
     ]
    },
    {
     "name": "stdout",
     "output_type": "stream",
     "text": [
      "epoch 180| loss: 0.17939 | train_mse: 0.0657  | train_mae: 0.19827 |  0:00:15s\n",
      "epoch 181| loss: 0.07283 | train_mse: 0.0687  | train_mae: 0.20597 |  0:00:16s\n",
      "epoch 182| loss: 0.13844 | train_mse: 0.05114 | train_mae: 0.18711 |  0:00:16s\n"
     ]
    },
    {
     "name": "stdout",
     "output_type": "stream",
     "text": [
      "epoch 183| loss: 0.11216 | train_mse: 0.05331 | train_mae: 0.1889  |  0:00:16s\n",
      "epoch 184| loss: 0.14859 | train_mse: 0.07967 | train_mae: 0.21074 |  0:00:16s\n",
      "epoch 185| loss: 0.11535 | train_mse: 0.07695 | train_mae: 0.20533 |  0:00:16s\n"
     ]
    },
    {
     "name": "stdout",
     "output_type": "stream",
     "text": [
      "epoch 186| loss: 0.06235 | train_mse: 0.05494 | train_mae: 0.1825  |  0:00:16s\n",
      "epoch 187| loss: 0.1604  | train_mse: 0.04547 | train_mae: 0.17465 |  0:00:16s\n",
      "epoch 188| loss: 0.08038 | train_mse: 0.06138 | train_mae: 0.20472 |  0:00:16s\n"
     ]
    },
    {
     "name": "stdout",
     "output_type": "stream",
     "text": [
      "epoch 189| loss: 0.06868 | train_mse: 0.05476 | train_mae: 0.19351 |  0:00:16s\n",
      "epoch 190| loss: 0.07424 | train_mse: 0.04566 | train_mae: 0.16902 |  0:00:16s\n",
      "epoch 191| loss: 0.09975 | train_mse: 0.0452  | train_mae: 0.17195 |  0:00:16s\n"
     ]
    },
    {
     "name": "stdout",
     "output_type": "stream",
     "text": [
      "epoch 192| loss: 0.12607 | train_mse: 0.0488  | train_mae: 0.18203 |  0:00:16s\n",
      "epoch 193| loss: 0.16355 | train_mse: 0.04804 | train_mae: 0.17608 |  0:00:17s\n",
      "epoch 194| loss: 0.1035  | train_mse: 0.05744 | train_mae: 0.18725 |  0:00:17s\n"
     ]
    },
    {
     "name": "stdout",
     "output_type": "stream",
     "text": [
      "epoch 195| loss: 0.07612 | train_mse: 0.06973 | train_mae: 0.19575 |  0:00:17s\n",
      "epoch 196| loss: 0.1167  | train_mse: 0.06438 | train_mae: 0.1951  |  0:00:17s\n",
      "epoch 197| loss: 0.09032 | train_mse: 0.059   | train_mae: 0.19231 |  0:00:17s\n"
     ]
    },
    {
     "name": "stdout",
     "output_type": "stream",
     "text": [
      "epoch 198| loss: 0.16572 | train_mse: 0.06566 | train_mae: 0.20891 |  0:00:17s\n",
      "epoch 199| loss: 0.13094 | train_mse: 0.0835  | train_mae: 0.23437 |  0:00:17s\n",
      "epoch 200| loss: 0.09285 | train_mse: 0.0775  | train_mae: 0.21918 |  0:00:17s\n"
     ]
    },
    {
     "name": "stdout",
     "output_type": "stream",
     "text": [
      "epoch 201| loss: 0.0972  | train_mse: 0.07028 | train_mae: 0.20541 |  0:00:17s\n",
      "epoch 202| loss: 0.06821 | train_mse: 0.06343 | train_mae: 0.19762 |  0:00:17s\n",
      "epoch 203| loss: 0.10795 | train_mse: 0.06518 | train_mae: 0.20103 |  0:00:17s\n"
     ]
    },
    {
     "name": "stdout",
     "output_type": "stream",
     "text": [
      "epoch 204| loss: 0.08234 | train_mse: 0.07276 | train_mae: 0.20912 |  0:00:18s\n",
      "epoch 205| loss: 0.09431 | train_mse: 0.07701 | train_mae: 0.21265 |  0:00:18s\n",
      "epoch 206| loss: 0.12681 | train_mse: 0.09764 | train_mae: 0.23421 |  0:00:18s\n"
     ]
    },
    {
     "name": "stdout",
     "output_type": "stream",
     "text": [
      "epoch 207| loss: 0.25674 | train_mse: 0.11231 | train_mae: 0.23512 |  0:00:18s\n",
      "epoch 208| loss: 0.06386 | train_mse: 0.15806 | train_mae: 0.26391 |  0:00:18s\n",
      "epoch 209| loss: 0.11548 | train_mse: 0.14425 | train_mae: 0.25445 |  0:00:18s\n"
     ]
    },
    {
     "name": "stdout",
     "output_type": "stream",
     "text": [
      "epoch 210| loss: 0.12984 | train_mse: 0.13037 | train_mae: 0.25299 |  0:00:18s\n",
      "epoch 211| loss: 0.08248 | train_mse: 0.09394 | train_mae: 0.22571 |  0:00:18s\n",
      "epoch 212| loss: 0.07834 | train_mse: 0.06257 | train_mae: 0.19966 |  0:00:18s\n"
     ]
    },
    {
     "name": "stdout",
     "output_type": "stream",
     "text": [
      "epoch 213| loss: 0.08388 | train_mse: 0.06359 | train_mae: 0.18883 |  0:00:18s\n",
      "epoch 214| loss: 0.10968 | train_mse: 0.06455 | train_mae: 0.19547 |  0:00:18s\n",
      "epoch 215| loss: 0.07024 | train_mse: 0.06682 | train_mae: 0.20384 |  0:00:18s\n"
     ]
    },
    {
     "name": "stdout",
     "output_type": "stream",
     "text": [
      "epoch 216| loss: 0.1001  | train_mse: 0.07079 | train_mae: 0.20866 |  0:00:19s\n",
      "epoch 217| loss: 0.10571 | train_mse: 0.07293 | train_mae: 0.21042 |  0:00:19s\n",
      "epoch 218| loss: 0.11755 | train_mse: 0.06994 | train_mae: 0.21108 |  0:00:19s\n"
     ]
    },
    {
     "name": "stdout",
     "output_type": "stream",
     "text": [
      "epoch 219| loss: 0.07122 | train_mse: 0.07597 | train_mae: 0.22064 |  0:00:19s\n",
      "epoch 220| loss: 0.08273 | train_mse: 0.07391 | train_mae: 0.21705 |  0:00:19s\n",
      "epoch 221| loss: 0.09889 | train_mse: 0.07028 | train_mae: 0.21379 |  0:00:19s\n"
     ]
    },
    {
     "name": "stdout",
     "output_type": "stream",
     "text": [
      "epoch 222| loss: 0.11512 | train_mse: 0.07595 | train_mae: 0.21977 |  0:00:19s\n",
      "epoch 223| loss: 0.19946 | train_mse: 0.10009 | train_mae: 0.24766 |  0:00:19s\n",
      "epoch 224| loss: 0.18261 | train_mse: 0.07871 | train_mae: 0.22298 |  0:00:19s\n"
     ]
    },
    {
     "name": "stdout",
     "output_type": "stream",
     "text": [
      "epoch 225| loss: 0.07461 | train_mse: 0.05497 | train_mae: 0.19048 |  0:00:19s\n",
      "epoch 226| loss: 0.13031 | train_mse: 0.05361 | train_mae: 0.18324 |  0:00:19s\n",
      "epoch 227| loss: 0.09236 | train_mse: 0.05625 | train_mae: 0.18441 |  0:00:19s\n"
     ]
    },
    {
     "name": "stdout",
     "output_type": "stream",
     "text": [
      "epoch 228| loss: 0.13679 | train_mse: 0.05098 | train_mae: 0.18046 |  0:00:20s\n",
      "epoch 229| loss: 0.10102 | train_mse: 0.0587  | train_mae: 0.19445 |  0:00:20s\n",
      "epoch 230| loss: 0.11124 | train_mse: 0.05845 | train_mae: 0.20174 |  0:00:20s\n"
     ]
    },
    {
     "name": "stdout",
     "output_type": "stream",
     "text": [
      "epoch 231| loss: 0.07401 | train_mse: 0.06771 | train_mae: 0.21799 |  0:00:20s\n",
      "epoch 232| loss: 0.10397 | train_mse: 0.10134 | train_mae: 0.25109 |  0:00:20s\n",
      "epoch 233| loss: 0.0895  | train_mse: 0.09932 | train_mae: 0.23607 |  0:00:20s\n"
     ]
    },
    {
     "name": "stdout",
     "output_type": "stream",
     "text": [
      "epoch 234| loss: 0.08529 | train_mse: 0.08659 | train_mae: 0.22516 |  0:00:20s\n",
      "epoch 235| loss: 0.07559 | train_mse: 0.08128 | train_mae: 0.2316  |  0:00:20s\n",
      "epoch 236| loss: 0.07522 | train_mse: 0.09927 | train_mae: 0.25816 |  0:00:20s\n"
     ]
    },
    {
     "name": "stdout",
     "output_type": "stream",
     "text": [
      "epoch 237| loss: 0.1059  | train_mse: 0.19426 | train_mae: 0.3139  |  0:00:20s\n",
      "epoch 238| loss: 0.16916 | train_mse: 0.16417 | train_mae: 0.3041  |  0:00:20s\n",
      "epoch 239| loss: 0.10727 | train_mse: 0.19874 | train_mae: 0.3086  |  0:00:20s\n"
     ]
    },
    {
     "name": "stdout",
     "output_type": "stream",
     "text": [
      "epoch 240| loss: 0.08255 | train_mse: 0.19951 | train_mae: 0.29617 |  0:00:21s\n",
      "\n",
      "Early stopping occurred at epoch 240 with best_epoch = 190 and best_train_mae = 0.16902\n",
      "Best weights from best epoch are automatically used!\n"
     ]
    }
   ],
   "source": [
    "#Train the Model\n",
    "\n",
    "Y_train = np.reshape(Y_train, (-1, 1))\n",
    "Y_test = np.reshape(Y_test, (-1, 1))\n",
    "\n",
    "prior_model = TabNetRegressor(optimizer_fn=torch.optim.Adam, optimizer_params=dict(lr = 0.02),\n",
    "          #scheduler_params={\"step_size\":10, ], \"gamma\":0.9},\n",
    "          #scheduler_fn=torch.optim.lr_scheduler.StepLR\n",
    "          )  #TabNetRegressor()\n",
    "\n",
    "prior_model.fit(X_train,Y_train,eval_set=[(X_train, Y_train)],\n",
    "            eval_name=['train'], \n",
    "            eval_metric=[ 'mse', 'mae'], \n",
    "            max_epochs = n_epochs, \n",
    "            batch_size = batch_size,\n",
    "            patience=50\n",
    "            )"
   ]
  },
  {
   "cell_type": "code",
   "execution_count": 10,
   "id": "af65dcda",
   "metadata": {
    "execution": {
     "iopub.execute_input": "2022-06-22T11:43:50.470653Z",
     "iopub.status.busy": "2022-06-22T11:43:50.466816Z",
     "iopub.status.idle": "2022-06-22T11:43:50.506268Z",
     "shell.execute_reply": "2022-06-22T11:43:50.505641Z"
    },
    "id": "af65dcda",
    "papermill": {
     "duration": 0.101091,
     "end_time": "2022-06-22T11:43:50.506532",
     "exception": false,
     "start_time": "2022-06-22T11:43:50.405441",
     "status": "completed"
    },
    "tags": []
   },
   "outputs": [
    {
     "data": {
      "application/scrapbook.scrap.json+json": {
       "data": 0.36085863321365924,
       "encoder": "json",
       "name": "Prior Model MSE",
       "version": 1
      }
     },
     "metadata": {
      "scrapbook": {
       "data": true,
       "display": false,
       "name": "Prior Model MSE"
      }
     },
     "output_type": "display_data"
    },
    {
     "data": {
      "application/scrapbook.scrap.json+json": {
       "data": 0.39964207228823295,
       "encoder": "json",
       "name": "ABC Pre-generator MSE",
       "version": 1
      }
     },
     "metadata": {
      "scrapbook": {
       "data": true,
       "display": false,
       "name": "ABC Pre-generator MSE"
      }
     },
     "output_type": "display_data"
    },
    {
     "data": {
      "application/scrapbook.scrap.json+json": {
       "data": 0.4588467819873549,
       "encoder": "json",
       "name": "Prior Model MSE",
       "version": 1
      }
     },
     "metadata": {
      "scrapbook": {
       "data": true,
       "display": false,
       "name": "Prior Model MSE"
      }
     },
     "output_type": "display_data"
    },
    {
     "data": {
      "application/scrapbook.scrap.json+json": {
       "data": 0.4984177626459366,
       "encoder": "json",
       "name": "ABC Pre-generator MSE",
       "version": 1
      }
     },
     "metadata": {
      "scrapbook": {
       "data": true,
       "display": false,
       "name": "ABC Pre-generator MSE"
      }
     },
     "output_type": "display_data"
    }
   ],
   "source": [
    "y_pred = prior_model.predict(X_test)\n",
    "y_abc = y_pred + np.random.normal(0,variance, y_pred.shape) + bias \n",
    "mse = mean_squared_error(y_pred,Y_test)\n",
    "sb.glue(\"Prior Model MSE\",mse)\n",
    "mse = mean_squared_error(y_abc,Y_test)\n",
    "sb.glue(\"ABC Pre-generator MSE\",mse)\n",
    "mae = mean_absolute_error(y_pred,Y_test)\n",
    "sb.glue(\"Prior Model MSE\",mae)\n",
    "mae = mean_absolute_error(y_abc,Y_test)\n",
    "sb.glue(\"ABC Pre-generator MSE\",mae)"
   ]
  },
  {
   "cell_type": "markdown",
   "id": "25609da2",
   "metadata": {
    "papermill": {
     "duration": 0.053726,
     "end_time": "2022-06-22T11:43:50.607283",
     "exception": false,
     "start_time": "2022-06-22T11:43:50.553557",
     "status": "completed"
    },
    "tags": []
   },
   "source": [
    "# ABC GAN Model"
   ]
  },
  {
   "cell_type": "code",
   "execution_count": 11,
   "id": "dfc3464d",
   "metadata": {
    "execution": {
     "iopub.execute_input": "2022-06-22T11:43:50.724187Z",
     "iopub.status.busy": "2022-06-22T11:43:50.723174Z",
     "iopub.status.idle": "2022-06-22T11:43:50.726425Z",
     "shell.execute_reply": "2022-06-22T11:43:50.727094Z"
    },
    "papermill": {
     "duration": 0.059415,
     "end_time": "2022-06-22T11:43:50.727324",
     "exception": false,
     "start_time": "2022-06-22T11:43:50.667909",
     "status": "completed"
    },
    "tags": []
   },
   "outputs": [],
   "source": [
    "gen = network.Generator(n_features+1).to(device)\n",
    "disc = network.Discriminator(n_features+1).to(device)\n",
    "\n",
    "criterion = torch.nn.BCELoss()\n",
    "gen_opt = torch.optim.Adam(gen.parameters(), lr=0.001, betas=(0.5, 0.999))\n",
    "disc_opt = torch.optim.Adam(disc.parameters(), lr=0.001, betas=(0.5, 0.999))"
   ]
  },
  {
   "cell_type": "code",
   "execution_count": 12,
   "id": "b75fdd85",
   "metadata": {
    "execution": {
     "iopub.execute_input": "2022-06-22T11:43:50.860936Z",
     "iopub.status.busy": "2022-06-22T11:43:50.860104Z",
     "iopub.status.idle": "2022-06-22T11:44:43.138676Z",
     "shell.execute_reply": "2022-06-22T11:44:43.139195Z"
    },
    "papermill": {
     "duration": 52.346965,
     "end_time": "2022-06-22T11:44:43.139412",
     "exception": false,
     "start_time": "2022-06-22T11:43:50.792447",
     "status": "completed"
    },
    "tags": []
   },
   "outputs": [
    {
     "data": {
      "image/png": "[encoded data removed]",
      "text/plain": [
       "<Figure size 432x288 with 1 Axes>"
      ]
     },
     "metadata": {
      "needs_background": "light"
     },
     "output_type": "display_data"
    },
    {
     "data": {
      "image/png": "[encoded data removed]",
      "text/plain": [
       "<Figure size 432x288 with 1 Axes>"
      ]
     },
     "metadata": {
      "needs_background": "light"
     },
     "output_type": "display_data"
    }
   ],
   "source": [
    "#Training the ABC_GAN \n",
    "ABC_train_test2.training_GAN(disc,gen,disc_opt,gen_opt,train_data,batch_size,n_epochs,criterion,prior_model,variance,bias,device)"
   ]
  },
  {
   "cell_type": "code",
   "execution_count": 13,
   "id": "1fa7c368",
   "metadata": {
    "execution": {
     "iopub.execute_input": "2022-06-22T11:44:43.258220Z",
     "iopub.status.busy": "2022-06-22T11:44:43.257420Z",
     "iopub.status.idle": "2022-06-22T11:44:44.067187Z",
     "shell.execute_reply": "2022-06-22T11:44:44.067705Z"
    },
    "papermill": {
     "duration": 0.879616,
     "end_time": "2022-06-22T11:44:44.067926",
     "exception": false,
     "start_time": "2022-06-22T11:44:43.188310",
     "status": "completed"
    },
    "tags": []
   },
   "outputs": [
    {
     "data": {
      "application/scrapbook.scrap.json+json": {
       "data": 0.28744627359350516,
       "encoder": "json",
       "name": "ABC-GAN Model 1 MSE",
       "version": 1
      }
     },
     "metadata": {
      "scrapbook": {
       "data": true,
       "display": false,
       "name": "ABC-GAN Model 1 MSE"
      }
     },
     "output_type": "display_data"
    },
    {
     "data": {
      "application/scrapbook.scrap.json+json": {
       "data": 0.4454312496036291,
       "encoder": "json",
       "name": "ABC-GAN Model 1 MAE",
       "version": 1
      }
     },
     "metadata": {
      "scrapbook": {
       "data": true,
       "display": false,
       "name": "ABC-GAN Model 1 MAE"
      }
     },
     "output_type": "display_data"
    },
    {
     "data": {
      "application/scrapbook.scrap.json+json": {
       "data": 8.908624992072582,
       "encoder": "json",
       "name": "ABC-GAN Model 1 Manhattan Distance",
       "version": 1
      }
     },
     "metadata": {
      "scrapbook": {
       "data": true,
       "display": false,
       "name": "ABC-GAN Model 1 Manhattan Distance"
      }
     },
     "output_type": "display_data"
    },
    {
     "data": {
      "application/scrapbook.scrap.json+json": {
       "data": 2.3966078934915425,
       "encoder": "json",
       "name": "ABC-GAN Model 1 Euclidean distance",
       "version": 1
      }
     },
     "metadata": {
      "scrapbook": {
       "data": true,
       "display": false,
       "name": "ABC-GAN Model 1 Euclidean distance"
      }
     },
     "output_type": "display_data"
    },
    {
     "data": {
      "application/scrapbook.scrap.json+json": {
       "data": [
        [
         0.26125329317544976,
         0.2702107698401147,
         0.30694956555795033,
         0.2641921903117362,
         0.275327285444949,
         0.2761259600071803,
         0.28277507224655096,
         0.26195816705096825,
         0.29201390016082884,
         0.28582773088610236,
         0.30741772475512613,
         0.28038594904698516,
         0.26198558252977466,
         0.31795337582430055,
         0.2771274217968367,
         0.2673941596514337,
         0.29878362012186727,
         0.3123868366934347,
         0.2874348446030398,
         0.2837407980952019,
         0.25405018329518797,
         0.32145062026696836,
         0.2965111760710957,
         0.2682417759070276,
         0.29000409010240297,
         0.2718157222156821,
         0.3033892994013591,
         0.288691249430373,
         0.26739590701351224,
         0.24010528319839425,
         0.2822062493317991,
         0.2915314886900847,
         0.2922098389242062,
         0.296086270912078,
         0.3027524647517342,
         0.2974825334928865,
         0.27781759712565857,
         0.2501990641141438,
         0.281902653324397,
         0.2749211535886014,
         0.27462633111385804,
         0.2728197811639131,
         0.3085407133300909,
         0.3053716276512318,
         0.2900412460157786,
         0.3181022217039865,
         0.29649046154404307,
         0.29650260018891783,
         0.3027494613275571,
         0.2959668465650392,
         0.31660855375550445,
         0.28303199923761674,
         0.3059635764754728,
         0.2973917694784517,
         0.2650515979210423,
         0.30124146261275386,
         0.30715139640517236,
         0.30308522617383515,
         0.28534927774955776,
         0.27500067781942206,
         0.30413491415332705,
         0.24325464643007297,
         0.2803635069148452,
         0.310723637029163,
         0.27884645084152526,
         0.3008764471287674,
         0.278015683364993,
         0.2801191069697102,
         0.29674004913405505,
         0.2818721109027211,
         0.2877588304800919,
         0.2840540911962851,
         0.28983693233600866,
         0.25772837633023515,
         0.2719218042729322,
         0.28990148189826914,
         0.3028042880080983,
         0.2793855143543379,
         0.28077320771386505,
         0.2946055723651387,
         0.28584581386047014,
         0.27952638750691994,
         0.3017736742670547,
         0.2893566252899892,
         0.2797717415925761,
         0.301124776278348,
         0.2871570528040574,
         0.3132043396539623,
         0.26037162841566647,
         0.28797933452444974,
         0.2952390373060474,
         0.3259124300071005,
         0.2850773080558776,
         0.2840077949386909,
         0.3226303051970188,
         0.2804655407854808,
         0.28562210080006484,
         0.3033854238161318,
         0.27529606696195713,
         0.2860676282735387
        ],
        [
         0.41948549449443817,
         0.4278677061200142,
         0.4623668372631073,
         0.43286399394273756,
         0.4335670232772827,
         0.4383610304445028,
         0.4414142075926065,
         0.43353106677532194,
         0.44136786460876465,
         0.44930967353284357,
         0.4531298477202654,
         0.42186515741050246,
         0.4270838089287281,
         0.46521512791514397,
         0.4316828280687332,
         0.43767342194914816,
         0.4584562238305807,
         0.4651830315589905,
         0.44489964842796326,
         0.4356460817158222,
         0.4371524751186371,
         0.45656793713569643,
         0.44267129004001615,
         0.42724962793290616,
         0.4445431776344776,
         0.43784528523683547,
         0.45823842883110044,
         0.44666852355003356,
         0.4373785242438316,
         0.41283883824944495,
         0.4411506615579128,
         0.4466498479247093,
         0.44752818495035174,
         0.44531047269701957,
         0.4572933346033096,
         0.4585340954363346,
         0.4344551496207714,
         0.4212675455957651,
         0.44059290885925295,
         0.4348046578466892,
         0.4462025173008442,
         0.4361855797469616,
         0.4507013127207756,
         0.45768933221697805,
         0.45207499563694,
         0.4599247440695763,
         0.4531978633254766,
         0.4533585749566555,
         0.4547672517597675,
         0.467743568867445,
         0.4651406917721033,
         0.4332792330533266,
         0.47309635281562806,
         0.45125417336821555,
         0.43116413950920107,
         0.44413784593343736,
         0.4609213795512915,
         0.45508666299283507,
         0.45233626551926137,
         0.4463704064488411,
         0.45124259367585184,
         0.4165361076593399,
         0.43381618708372116,
         0.4637340888381004,
         0.4342681758105755,
         0.46037723384797574,
         0.42438215725123885,
         0.4504733942449093,
         0.4444002993404865,
         0.44882118739187715,
         0.44401891306042673,
         0.44745250828564165,
         0.45531404837965966,
         0.42079414464533327,
         0.4371850438416004,
         0.43976539596915243,
         0.4589663133025169,
         0.45606626123189925,
         0.4343123629689217,
         0.45514611154794693,
         0.4352245558053255,
         0.4489537671208382,
         0.4499948613345623,
         0.4574586201459169,
         0.4361921399831772,
         0.4647347431629896,
         0.4439003001898527,
         0.4737898722290993,
         0.42847597524523734,
         0.44392186403274536,
         0.4563333932310343,
         0.46480139121413233,
         0.45116355009377,
         0.4378070831298828,
         0.4716091133654118,
         0.4364158656448126,
         0.4392931953072548,
         0.4568845212459564,
         0.4296524256467819,
         0.4451012596487999
        ],
        [
         8.389709889888763,
         8.557354122400284,
         9.247336745262146,
         8.657279878854752,
         8.671340465545654,
         8.767220608890057,
         8.828284151852131,
         8.67062133550644,
         8.827357292175293,
         8.986193470656872,
         9.062596954405308,
         8.437303148210049,
         8.541676178574562,
         9.30430255830288,
         8.633656561374664,
         8.753468438982964,
         9.169124476611614,
         9.30366063117981,
         8.897992968559265,
         8.712921634316444,
         8.743049502372742,
         9.131358742713928,
         8.853425800800323,
         8.544992558658123,
         8.890863552689552,
         8.75690570473671,
         9.16476857662201,
         8.933370471000671,
         8.747570484876633,
         8.2567767649889,
         8.823013231158257,
         8.932996958494186,
         8.950563699007034,
         8.906209453940392,
         9.145866692066193,
         9.170681908726692,
         8.689102992415428,
         8.425350911915302,
         8.811858177185059,
         8.696093156933784,
         8.924050346016884,
         8.723711594939232,
         9.014026254415512,
         9.153786644339561,
         9.0414999127388,
         9.198494881391525,
         9.063957266509533,
         9.06717149913311,
         9.09534503519535,
         9.3548713773489,
         9.302813835442066,
         8.665584661066532,
         9.461927056312561,
         9.025083467364311,
         8.623282790184021,
         8.882756918668747,
         9.21842759102583,
         9.101733259856701,
         9.046725310385227,
         8.927408128976822,
         9.024851873517036,
         8.330722153186798,
         8.676323741674423,
         9.274681776762009,
         8.68536351621151,
         9.207544676959515,
         8.487643145024776,
         9.009467884898186,
         8.88800598680973,
         8.976423747837543,
         8.880378261208534,
         8.949050165712833,
         9.106280967593193,
         8.415882892906666,
         8.743700876832008,
         8.795307919383049,
         9.179326266050339,
         9.121325224637985,
         8.686247259378433,
         9.102922230958939,
         8.70449111610651,
         8.979075342416763,
         8.999897226691246,
         9.149172402918339,
         8.723842799663544,
         9.294694863259792,
         8.878006003797054,
         9.475797444581985,
         8.569519504904747,
         8.878437280654907,
         9.126667864620686,
         9.296027824282646,
         9.0232710018754,
         8.756141662597656,
         9.432182267308235,
         8.728317312896252,
         8.785863906145096,
         9.137690424919128,
         8.593048512935638,
         8.902025192975998
        ],
        [
         2.285840297026237,
         2.324696839762616,
         2.477698793469256,
         2.298661307421066,
         2.3466030147638905,
         2.3500040851333868,
         2.3781298208741717,
         2.2889218730702376,
         2.4166667133091764,
         2.3909317467719666,
         2.479587565524259,
         2.368062284007687,
         2.2890416445743167,
         2.521719158924326,
         2.3542617602842584,
         2.3125490682423746,
         2.4445188488611302,
         2.4995473057873285,
         2.397644029471597,
         2.3821872222610967,
         2.25410817528879,
         2.535549724485672,
         2.435205026567971,
         2.3162114579935382,
         2.408335898924413,
         2.331590539591727,
         2.4632876381022135,
         2.4028784797836655,
         2.3125566242300413,
         2.1913707271860425,
         2.3757367250257304,
         2.414669702837573,
         2.4174773584222304,
         2.4334595575520788,
         2.460700976355047,
         2.4391905767811033,
         2.3571915370867025,
         2.2369580421373296,
         2.374458478577366,
         2.3448716535819245,
         2.3436140088071586,
         2.3358928963628154,
         2.4841123699627237,
         2.4713220253590253,
         2.408490174427866,
         2.522309345437179,
         2.4351199623182556,
         2.4351698100498775,
         2.460688770761378,
         2.4329687485253038,
         2.516380550534853,
         2.37920994970018,
         2.473716137617543,
         2.438818441288534,
         2.3023970027822847,
         2.4545527601286303,
         2.4785132495315505,
         2.462052908342285,
         2.3889297928133333,
         2.3452107701416605,
         2.4663126896374155,
         2.205695565711973,
         2.3679675120864525,
         2.492884421826102,
         2.3615522473217707,
         2.453065213681721,
         2.3580317358551093,
         2.366935178536625,
         2.4361446965812807,
         2.3743298460943505,
         2.398994916543559,
         2.3835020083745895,
         2.4076417189275015,
         2.2703672668986186,
         2.3320454724251505,
         2.4079098068585094,
         2.460911570975675,
         2.3638338112242065,
         2.3696970596000875,
         2.427367184276572,
         2.391007377071305,
         2.3644296881358935,
         2.456720066540161,
         2.4056459643513186,
         2.3654671487576238,
         2.454077326729327,
         2.396485146225853,
         2.502815772900444,
         2.2819799666765985,
         2.399913892307179,
         2.429975462040913,
         2.553086093366616,
         2.3877910631203796,
         2.3833077641743663,
         2.5401980442359955,
         2.3683983650791554,
         2.39007155039369,
         2.4632719046671716,
         2.3464699740757693,
         2.3919348999232346
        ]
       ],
       "encoder": "json",
       "name": "ABC_GAN_1 Metrics",
       "version": 1
      }
     },
     "metadata": {
      "scrapbook": {
       "data": true,
       "display": false,
       "name": "ABC_GAN_1 Metrics"
      }
     },
     "output_type": "display_data"
    },
    {
     "name": "stdout",
     "output_type": "stream",
     "text": [
      "MSE\n",
      "0.28744627359350516\n"
     ]
    }
   ],
   "source": [
    "ABC_GAN1_metrics=ABC_train_test2.test_generator(gen,test_data,prior_model,variance,bias,\"1\",device)\n",
    "sb.glue(\"ABC_GAN_1 Metrics\",ABC_GAN1_metrics)\n",
    "\n",
    "print(\"MSE\")\n",
    "print(mean(ABC_GAN1_metrics[0]))"
   ]
  },
  {
   "cell_type": "code",
   "execution_count": 14,
   "id": "eb22ce5c",
   "metadata": {
    "execution": {
     "iopub.execute_input": "2022-06-22T11:44:44.180869Z",
     "iopub.status.busy": "2022-06-22T11:44:44.179839Z",
     "iopub.status.idle": "2022-06-22T11:44:45.119463Z",
     "shell.execute_reply": "2022-06-22T11:44:45.120355Z"
    },
    "papermill": {
     "duration": 1.003053,
     "end_time": "2022-06-22T11:44:45.120704",
     "exception": false,
     "start_time": "2022-06-22T11:44:44.117651",
     "status": "completed"
    },
    "tags": []
   },
   "outputs": [
    {
     "data": {
      "image/png": "[encoded data removed]",
      "text/plain": [
       "<Figure size 432x288 with 1 Axes>"
      ]
     },
     "metadata": {
      "needs_background": "light"
     },
     "output_type": "display_data"
    },
    {
     "data": {
      "image/png": "[encoded data removed]",
      "text/plain": [
       "<Figure size 432x288 with 1 Axes>"
      ]
     },
     "metadata": {
      "needs_background": "light"
     },
     "output_type": "display_data"
    },
    {
     "data": {
      "image/png": "[encoded data removed]",
      "text/plain": [
       "<Figure size 432x288 with 1 Axes>"
      ]
     },
     "metadata": {
      "needs_background": "light"
     },
     "output_type": "display_data"
    },
    {
     "data": {
      "image/png": "[encoded data removed]",
      "text/plain": [
       "<Figure size 432x288 with 1 Axes>"
      ]
     },
     "metadata": {
      "needs_background": "light"
     },
     "output_type": "display_data"
    }
   ],
   "source": [
    "sanityChecks.discProbVsError(train_data,disc,device)\n",
    "sanityChecks.discProbVsError(test_data,disc,device)"
   ]
  },
  {
   "cell_type": "markdown",
   "id": "130f3a4d",
   "metadata": {
    "id": "130f3a4d",
    "papermill": {
     "duration": 0.063665,
     "end_time": "2022-06-22T11:44:45.236517",
     "exception": false,
     "start_time": "2022-06-22T11:44:45.172852",
     "status": "completed"
    },
    "tags": []
   },
   "source": [
    "# ABC - GAN Model with skip connection"
   ]
  },
  {
   "cell_type": "code",
   "execution_count": 15,
   "id": "4e43dad1",
   "metadata": {
    "execution": {
     "iopub.execute_input": "2022-06-22T11:44:45.379874Z",
     "iopub.status.busy": "2022-06-22T11:44:45.378936Z",
     "iopub.status.idle": "2022-06-22T11:44:45.383327Z",
     "shell.execute_reply": "2022-06-22T11:44:45.383892Z"
    },
    "id": "4e43dad1",
    "papermill": {
     "duration": 0.08007,
     "end_time": "2022-06-22T11:44:45.384126",
     "exception": false,
     "start_time": "2022-06-22T11:44:45.304056",
     "status": "completed"
    },
    "tags": []
   },
   "outputs": [],
   "source": [
    "#Generator\n",
    "gen3 = network.GeneratorWithSkipConnection(n_features+1).to(device)\n",
    "constraints=network.weightConstraint()\n",
    "#Discriminator \n",
    "disc3 = network.Discriminator(n_features+1).to(device)\n",
    "\n",
    "criterion = torch.nn.BCELoss()\n",
    "gen_opt = torch.optim.Adam(gen3.parameters(), lr=0.001, betas=(0.5, 0.999))\n",
    "disc_opt = torch.optim.Adam(disc3.parameters(), lr=0.001, betas=(0.5, 0.999))\n"
   ]
  },
  {
   "cell_type": "code",
   "execution_count": 16,
   "id": "26acbc37",
   "metadata": {
    "execution": {
     "iopub.execute_input": "2022-06-22T11:44:45.529710Z",
     "iopub.status.busy": "2022-06-22T11:44:45.528943Z",
     "iopub.status.idle": "2022-06-22T11:46:17.759560Z",
     "shell.execute_reply": "2022-06-22T11:46:17.760002Z"
    },
    "id": "26acbc37",
    "papermill": {
     "duration": 92.316057,
     "end_time": "2022-06-22T11:46:17.760205",
     "exception": false,
     "start_time": "2022-06-22T11:44:45.444148",
     "status": "completed"
    },
    "tags": []
   },
   "outputs": [
    {
     "data": {
      "image/png": "[encoded data removed]",
      "text/plain": [
       "<Figure size 432x288 with 1 Axes>"
      ]
     },
     "metadata": {
      "needs_background": "light"
     },
     "output_type": "display_data"
    },
    {
     "data": {
      "image/png": "[encoded data removed]",
      "text/plain": [
       "<Figure size 432x288 with 1 Axes>"
      ]
     },
     "metadata": {
      "needs_background": "light"
     },
     "output_type": "display_data"
    }
   ],
   "source": [
    "ABC_train_test2.training_GAN_skip_connection(disc3,gen3,disc_opt,gen_opt,train_data,batch_size,n_epochs,criterion,prior_model,variance,bias,device)"
   ]
  },
  {
   "cell_type": "code",
   "execution_count": 17,
   "id": "c5e0717b",
   "metadata": {
    "execution": {
     "iopub.execute_input": "2022-06-22T11:46:17.872592Z",
     "iopub.status.busy": "2022-06-22T11:46:17.870304Z",
     "iopub.status.idle": "2022-06-22T11:46:18.936804Z",
     "shell.execute_reply": "2022-06-22T11:46:18.937311Z"
    },
    "id": "c5e0717b",
    "papermill": {
     "duration": 1.130292,
     "end_time": "2022-06-22T11:46:18.937532",
     "exception": false,
     "start_time": "2022-06-22T11:46:17.807240",
     "status": "completed"
    },
    "tags": []
   },
   "outputs": [
    {
     "data": {
      "application/scrapbook.scrap.json+json": {
       "data": 0.3584347660434502,
       "encoder": "json",
       "name": "ABC-GAN Model 3 MSE",
       "version": 1
      }
     },
     "metadata": {
      "scrapbook": {
       "data": true,
       "display": false,
       "name": "ABC-GAN Model 3 MSE"
      }
     },
     "output_type": "display_data"
    },
    {
     "data": {
      "application/scrapbook.scrap.json+json": {
       "data": 0.46617727977596224,
       "encoder": "json",
       "name": "ABC-GAN Model 3 MAE",
       "version": 1
      }
     },
     "metadata": {
      "scrapbook": {
       "data": true,
       "display": false,
       "name": "ABC-GAN Model 3 MAE"
      }
     },
     "output_type": "display_data"
    },
    {
     "data": {
      "application/scrapbook.scrap.json+json": {
       "data": 9.323545595519244,
       "encoder": "json",
       "name": "ABC-GAN Model 3 Manhattan Distance",
       "version": 1
      }
     },
     "metadata": {
      "scrapbook": {
       "data": true,
       "display": false,
       "name": "ABC-GAN Model 3 Manhattan Distance"
      }
     },
     "output_type": "display_data"
    },
    {
     "data": {
      "application/scrapbook.scrap.json+json": {
       "data": 2.675201783614728,
       "encoder": "json",
       "name": "ABC-GAN Model 3 Euclidean distance",
       "version": 1
      }
     },
     "metadata": {
      "scrapbook": {
       "data": true,
       "display": false,
       "name": "ABC-GAN Model 3 Euclidean distance"
      }
     },
     "output_type": "display_data"
    },
    {
     "data": {
      "application/scrapbook.scrap.json+json": {
       "data": [
        [
         0.33658316480767614,
         0.3477413941082983,
         0.34285192174608337,
         0.37626576369826203,
         0.34848892042050605,
         0.35307563578949147,
         0.3306960004078494,
         0.3034358864685949,
         0.37045852669659035,
         0.34444492447791236,
         0.35868880950329884,
         0.32696589599378384,
         0.3351510480279075,
         0.36974160559302643,
         0.3781871185393813,
         0.3769216940216218,
         0.3593739565978139,
         0.40239171081303127,
         0.40469438091795074,
         0.39137419973883947,
         0.3685482532167685,
         0.34057636761934484,
         0.3364021698778539,
         0.3055614832561091,
         0.3344429231781999,
         0.32853235108198114,
         0.4067802907634698,
         0.34738994385120725,
         0.4273880778609912,
         0.38590604898256514,
         0.347078573789079,
         0.32685870373579945,
         0.32867569757145815,
         0.33897379609595635,
         0.34376245862980154,
         0.3588026122079523,
         0.4566955887664446,
         0.3455566536592942,
         0.3669750459025224,
         0.3493285930691589,
         0.36302103967818405,
         0.35821299930676986,
         0.3619286618307358,
         0.4290950472188097,
         0.33077488606086686,
         0.3790843409890967,
         0.31642823769805595,
         0.3812118621171411,
         0.37659718512948726,
         0.2949363904152081,
         0.40366262700778144,
         0.39066043592023236,
         0.3569418138522224,
         0.3474086465684321,
         0.3831681790460255,
         0.3703180350127485,
         0.3578610985653246,
         0.3590137104594838,
         0.34530526345278645,
         0.36629793231811036,
         0.40172580719825357,
         0.36879006031431694,
         0.32928438138148913,
         0.3292812986039175,
         0.38934489189519467,
         0.3463130950408523,
         0.36766099325910007,
         0.3351825100457847,
         0.4257886293828214,
         0.3832556936773795,
         0.322977811924854,
         0.35374577549140546,
         0.41241389048713206,
         0.3485315003630261,
         0.30292004236230713,
         0.3463070870243226,
         0.35430839171342565,
         0.3438735525419353,
         0.3636155444757183,
         0.3652698261785278,
         0.32898277032472184,
         0.3763936777600248,
         0.33832382466886274,
         0.35449202753944276,
         0.3941815414787748,
         0.3667995945370225,
         0.3347869476588886,
         0.332356872865244,
         0.40253081619335224,
         0.3262597383187627,
         0.3781786201268255,
         0.32925160582871255,
         0.38365086590742586,
         0.33603240378067933,
         0.352227127098726,
         0.3274461352145642,
         0.322659801093372,
         0.38106133464843056,
         0.3335224025146038,
         0.38005112929344104
        ],
        [
         0.4289282999932766,
         0.44858921617269515,
         0.4629165381193161,
         0.4662524376064539,
         0.480630474537611,
         0.44194327741861344,
         0.4422719456255436,
         0.4392282545566559,
         0.46012777648866177,
         0.46061880998313426,
         0.4720185972750187,
         0.43986467085778713,
         0.45266955606639386,
         0.4737230859696865,
         0.4930831391364336,
         0.4748531669378281,
         0.4858751427382231,
         0.5095997024327517,
         0.4998255155980587,
         0.4821816574782133,
         0.46427733413875105,
         0.45278687961399555,
         0.45266272239387034,
         0.4375162322074175,
         0.4492498651146889,
         0.4409421347081661,
         0.5017222555354237,
         0.4618050500750542,
         0.5081127099692822,
         0.46781506314873694,
         0.46519956886768343,
         0.43558207638561725,
         0.43493403531610964,
         0.4702053226530552,
         0.43325759693980215,
         0.46743238531053066,
         0.5364200737327337,
         0.4602306470274925,
         0.4672729507088661,
         0.45125654712319374,
         0.46527895629405974,
         0.4671862319111824,
         0.4725958056747913,
         0.5045386034995317,
         0.4582541897892952,
         0.4983252890408039,
         0.4164179336279631,
         0.48715753443539145,
         0.4569121539592743,
         0.4389520939439535,
         0.5033892717212438,
         0.4859265979379416,
         0.4677337598055601,
         0.4634754478931427,
         0.4702138025313616,
         0.47691678144037725,
         0.45594500117003917,
         0.47063000239431857,
         0.44767992459237577,
         0.4743701420724392,
         0.5074666481465101,
         0.46056662164628503,
         0.4568572826683521,
         0.4461785040795803,
         0.4973275620490313,
         0.45617644414305686,
         0.4537374570965767,
         0.445988205075264,
         0.48956320360302924,
         0.4886789221316576,
         0.4393314730376005,
         0.4662837702780962,
         0.5121145565062761,
         0.478231530636549,
         0.40853220224380493,
         0.4802197342738509,
         0.46803853288292885,
         0.4368251543492079,
         0.4687177585437894,
         0.47724340073764326,
         0.45277857426553964,
         0.48120818212628363,
         0.4464902117848396,
         0.45711519569158554,
         0.4861088883131742,
         0.4801490604877472,
         0.4475255455821753,
         0.448375503346324,
         0.49699676111340524,
         0.4452247269451618,
         0.4785462968051434,
         0.45239976067095994,
         0.4816513791680336,
         0.4520987614989281,
         0.47311572134494784,
         0.44866732507944107,
         0.4577628217637539,
         0.49408571794629097,
         0.45424444153904914,
         0.48932189829647543
        ],
        [
         8.578565999865532,
         8.971784323453903,
         9.258330762386322,
         9.325048752129078,
         9.61260949075222,
         8.838865548372269,
         8.845438912510872,
         8.784565091133118,
         9.202555529773235,
         9.212376199662685,
         9.440371945500374,
         8.797293417155743,
         9.053391121327877,
         9.47446171939373,
         9.861662782728672,
         9.497063338756561,
         9.717502854764462,
         10.191994048655033,
         9.996510311961174,
         9.643633149564266,
         9.28554668277502,
         9.055737592279911,
         9.053254447877407,
         8.75032464414835,
         8.984997302293777,
         8.818842694163322,
         10.034445110708475,
         9.236101001501083,
         10.162254199385643,
         9.356301262974739,
         9.303991377353668,
         8.711641527712345,
         8.698680706322193,
         9.404106453061104,
         8.665151938796043,
         9.348647706210613,
         10.728401474654675,
         9.20461294054985,
         9.345459014177322,
         9.025130942463875,
         9.305579125881195,
         9.343724638223648,
         9.451916113495827,
         10.090772069990635,
         9.165083795785904,
         9.966505780816078,
         8.328358672559261,
         9.743150688707829,
         9.138243079185486,
         8.77904187887907,
         10.067785434424877,
         9.718531958758831,
         9.354675196111202,
         9.269508957862854,
         9.404276050627232,
         9.538335628807545,
         9.118900023400784,
         9.412600047886372,
         8.953598491847515,
         9.487402841448784,
         10.149332962930202,
         9.211332432925701,
         9.137145653367043,
         8.923570081591606,
         9.946551240980625,
         9.123528882861137,
         9.074749141931534,
         8.91976410150528,
         9.791264072060585,
         9.773578442633152,
         8.78662946075201,
         9.325675405561924,
         10.242291130125523,
         9.56463061273098,
         8.170644044876099,
         9.604394685477018,
         9.360770657658577,
         8.736503086984158,
         9.374355170875788,
         9.544868014752865,
         9.055571485310793,
         9.624163642525673,
         8.929804235696793,
         9.14230391383171,
         9.722177766263485,
         9.602981209754944,
         8.950510911643505,
         8.96751006692648,
         9.939935222268105,
         8.904494538903236,
         9.570925936102867,
         9.047995213419199,
         9.633027583360672,
         9.041975229978561,
         9.462314426898956,
         8.973346501588821,
         9.155256435275078,
         9.88171435892582,
         9.084888830780983,
         9.786437965929508
        ],
        [
         2.5945449111845265,
         2.637200766374446,
         2.6185947443088,
         2.743230809459029,
         2.64003378925538,
         2.6573506949196277,
         2.571754266674207,
         2.463476756409911,
         2.72197915751238,
         2.6246711202659747,
         2.678390596994019,
         2.557209009814348,
         2.5890193047866887,
         2.719344059118031,
         2.750225876321366,
         2.7456208551860244,
         2.6809474317778554,
         2.836870496913919,
         2.8449758554966706,
         2.797764106349352,
         2.714952129289828,
         2.609890295086538,
         2.593847219393825,
         2.4720901409783145,
         2.586282750119174,
         2.5633273340795983,
         2.8522983391064467,
         2.6358677654662697,
         2.923655512747667,
         2.778150640201374,
         2.634686219605967,
         2.5567897986960113,
         2.5638864934760983,
         2.603742675826305,
         2.6220696353445745,
         2.6788154554129044,
         3.0222362209676614,
         2.628903397461741,
         2.709151328008542,
         2.643212413216762,
         2.6945168014996086,
         2.6766135294687943,
         2.6904596701334733,
         2.9294881710592713,
         2.5720609870719118,
         2.753486302813568,
         2.5156638793688475,
         2.7612021371755495,
         2.74443868625075,
         2.42872966966358,
         2.8413469587777604,
         2.7952117484020147,
         2.6718600781186965,
         2.635938719198275,
         2.768278089520724,
         2.7214629705830964,
         2.6752984826569337,
         2.679603367886687,
         2.627946968463353,
         2.706650817220834,
         2.8345222073508385,
         2.7158426328280396,
         2.5662594622582073,
         2.5662474495025513,
         2.790501359595421,
         2.631779227218166,
         2.7116821099055843,
         2.5891408229209345,
         2.9181796702150518,
         2.7685942052867896,
         2.5415657061144574,
         2.6598713333219917,
         2.871981512778702,
         2.640195069925804,
         2.4613818978870676,
         2.631756398393752,
         2.6619856938512108,
         2.62249328899784,
         2.6967222492341265,
         2.702849704214157,
         2.5650838985293323,
         2.7436970596624723,
         2.601245181327061,
         2.662675449766429,
         2.8077804097855474,
         2.708503625757302,
         2.5876125971979986,
         2.5782043086816997,
         2.8373608025535004,
         2.554446078189018,
         2.7501949753674757,
         2.5661317418586,
         2.770021176480158,
         2.5924212766472943,
         2.6541557117046692,
         2.5590863026266395,
         2.5403141581047493,
         2.7606569314148057,
         2.5827210554552877,
         2.756995209620216
        ]
       ],
       "encoder": "json",
       "name": "ABC_GAN_3 Metrics",
       "version": 1
      }
     },
     "metadata": {
      "scrapbook": {
       "data": true,
       "display": false,
       "name": "ABC_GAN_3 Metrics"
      }
     },
     "output_type": "display_data"
    },
    {
     "name": "stdout",
     "output_type": "stream",
     "text": [
      "MSE\n",
      "0.3584347660434502\n"
     ]
    }
   ],
   "source": [
    "ABC_GAN3_metrics=ABC_train_test2.test_generator(gen3,test_data,prior_model,variance,bias,\"3\",device)\n",
    "sb.glue(\"ABC_GAN_3 Metrics\",ABC_GAN3_metrics)\n",
    "\n",
    "print(\"MSE\")\n",
    "print(mean(ABC_GAN3_metrics[0]))"
   ]
  },
  {
   "cell_type": "code",
   "execution_count": 18,
   "id": "c8e46b48",
   "metadata": {
    "execution": {
     "iopub.execute_input": "2022-06-22T11:46:19.141375Z",
     "iopub.status.busy": "2022-06-22T11:46:19.138942Z",
     "iopub.status.idle": "2022-06-22T11:46:20.766016Z",
     "shell.execute_reply": "2022-06-22T11:46:20.767086Z"
    },
    "id": "c8e46b48",
    "papermill": {
     "duration": 1.772208,
     "end_time": "2022-06-22T11:46:20.767343",
     "exception": false,
     "start_time": "2022-06-22T11:46:18.995135",
     "status": "completed"
    },
    "tags": []
   },
   "outputs": [
    {
     "data": {
      "image/png": "[encoded data removed]",
      "text/plain": [
       "<Figure size 432x288 with 1 Axes>"
      ]
     },
     "metadata": {
      "needs_background": "light"
     },
     "output_type": "display_data"
    },
    {
     "data": {
      "image/png": "[encoded data removed]",
      "text/plain": [
       "<Figure size 432x288 with 1 Axes>"
      ]
     },
     "metadata": {
      "needs_background": "light"
     },
     "output_type": "display_data"
    },
    {
     "data": {
      "image/png": "[encoded data removed]",
      "text/plain": [
       "<Figure size 432x288 with 1 Axes>"
      ]
     },
     "metadata": {
      "needs_background": "light"
     },
     "output_type": "display_data"
    },
    {
     "data": {
      "image/png": "[encoded data removed]",
      "text/plain": [
       "<Figure size 432x288 with 1 Axes>"
      ]
     },
     "metadata": {
      "needs_background": "light"
     },
     "output_type": "display_data"
    }
   ],
   "source": [
    "sanityChecks.discProbVsError(train_data,disc3,device)\n",
    "sanityChecks.discProbVsError(test_data,disc3,device)"
   ]
  },
  {
   "cell_type": "markdown",
   "id": "a5bd74c3",
   "metadata": {
    "id": "a5bd74c3",
    "papermill": {
     "duration": 0.079962,
     "end_time": "2022-06-22T11:46:20.912315",
     "exception": false,
     "start_time": "2022-06-22T11:46:20.832353",
     "status": "completed"
    },
    "tags": []
   },
   "source": [
    "## Skip Connection Model Analysis - ABC-GAN "
   ]
  },
  {
   "cell_type": "markdown",
   "id": "5744a8bf",
   "metadata": {
    "id": "5744a8bf",
    "papermill": {
     "duration": 0.09572,
     "end_time": "2022-06-22T11:46:21.154824",
     "exception": false,
     "start_time": "2022-06-22T11:46:21.059104",
     "status": "completed"
    },
    "tags": []
   },
   "source": [
    "### Weight Analysis \n",
    "\n",
    "Study the weights of the skip connection layer\n",
    "\n",
    "Equation of the skip connection is \n",
    "\n",
    "$output = y_{gan} * w + y_{abc} * (1-w)$"
   ]
  },
  {
   "cell_type": "code",
   "execution_count": 19,
   "id": "52c31dea",
   "metadata": {
    "execution": {
     "iopub.execute_input": "2022-06-22T11:46:21.643459Z",
     "iopub.status.busy": "2022-06-22T11:46:21.642626Z",
     "iopub.status.idle": "2022-06-22T11:46:21.649505Z",
     "shell.execute_reply": "2022-06-22T11:46:21.650085Z"
    },
    "id": "52c31dea",
    "papermill": {
     "duration": 0.162855,
     "end_time": "2022-06-22T11:46:21.650305",
     "exception": false,
     "start_time": "2022-06-22T11:46:21.487450",
     "status": "completed"
    },
    "tags": []
   },
   "outputs": [
    {
     "name": "stdout",
     "output_type": "stream",
     "text": [
      "Weight of the node at skip connection\n",
      "Parameter containing:\n",
      "tensor([[0.0631]], requires_grad=True)\n"
     ]
    },
    {
     "data": {
      "application/scrapbook.scrap.json+json": {
       "data": 0.06314992159605026,
       "encoder": "json",
       "name": "Skip Connection Weight",
       "version": 1
      }
     },
     "metadata": {
      "scrapbook": {
       "data": true,
       "display": false,
       "name": "Skip Connection Weight"
      }
     },
     "output_type": "display_data"
    }
   ],
   "source": [
    "print(\"Weight of the node at skip connection\")\n",
    "for name,param in gen3.named_parameters():\n",
    "    if(name == \"skipNode.weight\"):\n",
    "        print(param)\n",
    "        sb.glue(\"Skip Connection Weight\",param.item())"
   ]
  }
 ],
 "metadata": {
  "colab": {
   "collapsed_sections": [],
   "name": "ABC_GAN_Model-Catboost_Pre-gen.ipynb",
   "provenance": []
  },
  "interpreter": {
   "hash": "31f2aee4e71d21fbe5cf8b01ff0e069b9275f58929596ceb00d14d90e3e16cd6"
  },
  "kernelspec": {
   "display_name": "Python 3 (ipykernel)",
   "language": "python",
   "name": "python3"
  },
  "language_info": {
   "codemirror_mode": {
    "name": "ipython",
    "version": 3
   },
   "file_extension": ".py",
   "mimetype": "text/x-python",
   "name": "python",
   "nbconvert_exporter": "python",
   "pygments_lexer": "ipython3",
   "version": "3.8.3"
  },
  "papermill": {
   "default_parameters": {},
   "duration": 185.714766,
   "end_time": "2022-06-22T11:46:23.494343",
   "environment_variables": {},
   "exception": null,
   "input_path": "ABC_GAN-TabNet.ipynb",
   "output_path": "./ABC_GAN_TabNet/ABC-GAN_output_1_7.ipynb",
   "parameters": {
    "bias": 0.01,
    "variance": 0.1
   },
   "start_time": "2022-06-22T11:43:17.779577",
   "version": "2.3.3"
  }
 },
 "nbformat": 4,
 "nbformat_minor": 5
}