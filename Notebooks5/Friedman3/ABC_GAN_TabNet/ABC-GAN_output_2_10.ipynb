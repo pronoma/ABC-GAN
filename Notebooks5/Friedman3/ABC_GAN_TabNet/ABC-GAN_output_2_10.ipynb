{
 "cells": [
  {
   "cell_type": "markdown",
   "id": "622780e6",
   "metadata": {
    "id": "622780e6",
    "papermill": {
     "duration": 0.024225,
     "end_time": "2022-06-22T12:19:16.870075",
     "exception": false,
     "start_time": "2022-06-22T12:19:16.845850",
     "status": "completed"
    },
    "tags": []
   },
   "source": [
    "## Import Libraries "
   ]
  },
  {
   "cell_type": "code",
   "execution_count": 1,
   "id": "a62397e3",
   "metadata": {
    "execution": {
     "iopub.execute_input": "2022-06-22T12:19:16.933573Z",
     "iopub.status.busy": "2022-06-22T12:19:16.931844Z",
     "iopub.status.idle": "2022-06-22T12:19:16.935554Z",
     "shell.execute_reply": "2022-06-22T12:19:16.936282Z"
    },
    "id": "a62397e3",
    "papermill": {
     "duration": 0.050493,
     "end_time": "2022-06-22T12:19:16.936668",
     "exception": false,
     "start_time": "2022-06-22T12:19:16.886175",
     "status": "completed"
    },
    "tags": []
   },
   "outputs": [],
   "source": [
    "import warnings\n",
    "import sys\n",
    "sys.path.insert(0, '../../src')\n",
    "warnings.filterwarnings('ignore')"
   ]
  },
  {
   "cell_type": "code",
   "execution_count": 2,
   "id": "d6a4e155",
   "metadata": {
    "execution": {
     "iopub.execute_input": "2022-06-22T12:19:16.984044Z",
     "iopub.status.busy": "2022-06-22T12:19:16.981871Z",
     "iopub.status.idle": "2022-06-22T12:19:22.941457Z",
     "shell.execute_reply": "2022-06-22T12:19:22.942078Z"
    },
    "id": "d6a4e155",
    "papermill": {
     "duration": 5.985395,
     "end_time": "2022-06-22T12:19:22.942295",
     "exception": false,
     "start_time": "2022-06-22T12:19:16.956900",
     "status": "completed"
    },
    "tags": []
   },
   "outputs": [],
   "source": [
    "import ABC_train_test2\n",
    "import friedman3Dataset\n",
    "import network\n",
    "import dataset\n",
    "import sanityChecks\n",
    "import torch \n",
    "import scrapbook as sb\n",
    "from statistics import mean \n",
    "import catboost as ctb \n",
    "from sklearn.model_selection import train_test_split\n",
    "from sklearn.metrics import mean_squared_error,mean_absolute_error\n",
    "import numpy as np\n",
    "from pytorch_tabnet.tab_model import TabNetRegressor"
   ]
  },
  {
   "cell_type": "markdown",
   "id": "2fa5b0f7",
   "metadata": {
    "id": "2fa5b0f7",
    "papermill": {
     "duration": 0.015074,
     "end_time": "2022-06-22T12:19:22.971508",
     "exception": false,
     "start_time": "2022-06-22T12:19:22.956434",
     "status": "completed"
    },
    "tags": []
   },
   "source": [
    "## Parameters "
   ]
  },
  {
   "cell_type": "code",
   "execution_count": 3,
   "id": "783186fb",
   "metadata": {
    "execution": {
     "iopub.execute_input": "2022-06-22T12:19:23.015474Z",
     "iopub.status.busy": "2022-06-22T12:19:23.014231Z",
     "iopub.status.idle": "2022-06-22T12:19:23.017352Z",
     "shell.execute_reply": "2022-06-22T12:19:23.018015Z"
    },
    "id": "783186fb",
    "papermill": {
     "duration": 0.026741,
     "end_time": "2022-06-22T12:19:23.018333",
     "exception": false,
     "start_time": "2022-06-22T12:19:22.991592",
     "status": "completed"
    },
    "tags": [
     "parameters"
    ]
   },
   "outputs": [],
   "source": [
    "variance = 1\n",
    "bias = 1 "
   ]
  },
  {
   "cell_type": "code",
   "execution_count": 4,
   "id": "99d470a9",
   "metadata": {
    "execution": {
     "iopub.execute_input": "2022-06-22T12:19:23.054536Z",
     "iopub.status.busy": "2022-06-22T12:19:23.053086Z",
     "iopub.status.idle": "2022-06-22T12:19:23.057321Z",
     "shell.execute_reply": "2022-06-22T12:19:23.057860Z"
    },
    "papermill": {
     "duration": 0.024711,
     "end_time": "2022-06-22T12:19:23.058120",
     "exception": false,
     "start_time": "2022-06-22T12:19:23.033409",
     "status": "completed"
    },
    "tags": [
     "injected-parameters"
    ]
   },
   "outputs": [],
   "source": [
    "# Parameters\n",
    "variance = 0.1\n",
    "bias = 0\n"
   ]
  },
  {
   "cell_type": "markdown",
   "id": "391cdbfd",
   "metadata": {
    "id": "391cdbfd",
    "papermill": {
     "duration": 0.025823,
     "end_time": "2022-06-22T12:19:23.102088",
     "exception": false,
     "start_time": "2022-06-22T12:19:23.076265",
     "status": "completed"
    },
    "tags": []
   },
   "source": [
    "## Dataset \n"
   ]
  },
  {
   "cell_type": "code",
   "execution_count": 5,
   "id": "5b51f161",
   "metadata": {
    "execution": {
     "iopub.execute_input": "2022-06-22T12:19:23.154650Z",
     "iopub.status.busy": "2022-06-22T12:19:23.153407Z",
     "iopub.status.idle": "2022-06-22T12:19:23.156603Z",
     "shell.execute_reply": "2022-06-22T12:19:23.158394Z"
    },
    "id": "5b51f161",
    "papermill": {
     "duration": 0.037961,
     "end_time": "2022-06-22T12:19:23.160610",
     "exception": false,
     "start_time": "2022-06-22T12:19:23.122649",
     "status": "completed"
    },
    "tags": []
   },
   "outputs": [],
   "source": [
    "#Parameters \n",
    "n_features = 4\n",
    "n_samples= 100\n",
    "n_target = 1"
   ]
  },
  {
   "cell_type": "code",
   "execution_count": 6,
   "id": "5d6eced4",
   "metadata": {
    "execution": {
     "iopub.execute_input": "2022-06-22T12:19:23.210740Z",
     "iopub.status.busy": "2022-06-22T12:19:23.204886Z",
     "iopub.status.idle": "2022-06-22T12:19:23.223677Z",
     "shell.execute_reply": "2022-06-22T12:19:23.224328Z"
    },
    "id": "5d6eced4",
    "papermill": {
     "duration": 0.045159,
     "end_time": "2022-06-22T12:19:23.224570",
     "exception": false,
     "start_time": "2022-06-22T12:19:23.179411",
     "status": "completed"
    },
    "tags": []
   },
   "outputs": [
    {
     "name": "stdout",
     "output_type": "stream",
     "text": [
      "          X1           X2        X3        X4         Y\n",
      "0  15.476677  1446.793955  0.364114  8.975863  1.580782\n",
      "1  46.891511  1591.657609  0.428150  4.401310  1.341000\n",
      "2  67.717437   990.101679  0.617929  2.362972  1.466759\n",
      "3  33.930862  1063.263273  0.304914  5.309884  1.354241\n",
      "4  40.292661   565.646187  0.843170  2.694994  1.544885\n"
     ]
    }
   ],
   "source": [
    "X,Y = friedman3Dataset.friedman3_data(n_samples)"
   ]
  },
  {
   "cell_type": "code",
   "execution_count": 7,
   "id": "fe007438",
   "metadata": {
    "execution": {
     "iopub.execute_input": "2022-06-22T12:19:23.265633Z",
     "iopub.status.busy": "2022-06-22T12:19:23.263222Z",
     "iopub.status.idle": "2022-06-22T12:19:23.266839Z",
     "shell.execute_reply": "2022-06-22T12:19:23.267448Z"
    },
    "id": "fe007438",
    "papermill": {
     "duration": 0.02631,
     "end_time": "2022-06-22T12:19:23.267671",
     "exception": false,
     "start_time": "2022-06-22T12:19:23.241361",
     "status": "completed"
    },
    "tags": []
   },
   "outputs": [],
   "source": [
    "#Train test split for dataset \n",
    "X_train,X_test,Y_train,Y_test = train_test_split(X,Y,test_size = 0.2)\n",
    "train_data = dataset.CustomDataset(X_train,Y_train)\n",
    "test_data = dataset.CustomDataset(X_test,Y_test)\n"
   ]
  },
  {
   "cell_type": "markdown",
   "id": "a9a1af34",
   "metadata": {
    "id": "a9a1af34",
    "papermill": {
     "duration": 0.020721,
     "end_time": "2022-06-22T12:19:23.305027",
     "exception": false,
     "start_time": "2022-06-22T12:19:23.284306",
     "status": "completed"
    },
    "tags": []
   },
   "source": [
    "## Training Parameters "
   ]
  },
  {
   "cell_type": "code",
   "execution_count": 8,
   "id": "952b7fc8",
   "metadata": {
    "execution": {
     "iopub.execute_input": "2022-06-22T12:19:23.347884Z",
     "iopub.status.busy": "2022-06-22T12:19:23.347066Z",
     "iopub.status.idle": "2022-06-22T12:19:23.349602Z",
     "shell.execute_reply": "2022-06-22T12:19:23.350203Z"
    },
    "id": "952b7fc8",
    "papermill": {
     "duration": 0.02312,
     "end_time": "2022-06-22T12:19:23.350418",
     "exception": false,
     "start_time": "2022-06-22T12:19:23.327298",
     "status": "completed"
    },
    "tags": []
   },
   "outputs": [],
   "source": [
    "batch_size = 32\n",
    "n_epochs = 1000\n",
    "#Select the device \n",
    "device = torch.device('cuda' if torch.cuda.is_available() else 'cpu')"
   ]
  },
  {
   "cell_type": "markdown",
   "id": "a95e1600",
   "metadata": {
    "id": "a95e1600",
    "papermill": {
     "duration": 0.013692,
     "end_time": "2022-06-22T12:19:23.378247",
     "exception": false,
     "start_time": "2022-06-22T12:19:23.364555",
     "status": "completed"
    },
    "tags": []
   },
   "source": [
    "# ABC Pre-generator Model \n",
    "\n",
    "1. The catboost model is used as a pre-generator model for the ABC-GAN. \n",
    "2. The model is first trained on the entire dataset \n",
    "3. It generats X,Y pairs and we add some Gaussian noise with mean 0 and variance 1 to it which is then feed as input to the generator.\n"
   ]
  },
  {
   "cell_type": "code",
   "execution_count": 9,
   "id": "ff8ce7bd",
   "metadata": {
    "execution": {
     "iopub.execute_input": "2022-06-22T12:19:23.416945Z",
     "iopub.status.busy": "2022-06-22T12:19:23.415032Z",
     "iopub.status.idle": "2022-06-22T12:19:37.707216Z",
     "shell.execute_reply": "2022-06-22T12:19:37.707820Z"
    },
    "id": "ff8ce7bd",
    "papermill": {
     "duration": 14.316521,
     "end_time": "2022-06-22T12:19:37.708032",
     "exception": false,
     "start_time": "2022-06-22T12:19:23.391511",
     "status": "completed"
    },
    "tags": []
   },
   "outputs": [
    {
     "name": "stdout",
     "output_type": "stream",
     "text": [
      "Device used : cpu\n"
     ]
    },
    {
     "name": "stdout",
     "output_type": "stream",
     "text": [
      "epoch 0  | loss: 1.07454 | train_mse: 4.67803 | train_mae: 1.5643  |  0:00:00s\n",
      "epoch 1  | loss: 0.53251 | train_mse: 7.04183 | train_mae: 1.75381 |  0:00:00s\n",
      "epoch 2  | loss: 0.38234 | train_mse: 6.26284 | train_mae: 1.69845 |  0:00:00s\n",
      "epoch 3  | loss: 0.36242 | train_mse: 4.01287 | train_mae: 1.31173 |  0:00:00s\n"
     ]
    },
    {
     "name": "stdout",
     "output_type": "stream",
     "text": [
      "epoch 4  | loss: 0.39623 | train_mse: 2.51643 | train_mae: 0.99808 |  0:00:00s\n",
      "epoch 5  | loss: 0.40781 | train_mse: 1.00896 | train_mae: 0.69445 |  0:00:00s\n",
      "epoch 6  | loss: 0.32792 | train_mse: 0.7171  | train_mae: 0.61868 |  0:00:00s\n"
     ]
    },
    {
     "name": "stdout",
     "output_type": "stream",
     "text": [
      "epoch 7  | loss: 0.29082 | train_mse: 0.94423 | train_mae: 0.72266 |  0:00:00s\n",
      "epoch 8  | loss: 0.36895 | train_mse: 1.21694 | train_mae: 0.80232 |  0:00:00s\n",
      "epoch 9  | loss: 0.27353 | train_mse: 1.25624 | train_mae: 0.78092 |  0:00:00s\n",
      "epoch 10 | loss: 0.33494 | train_mse: 1.24208 | train_mae: 0.74644 |  0:00:00s\n"
     ]
    },
    {
     "name": "stdout",
     "output_type": "stream",
     "text": [
      "epoch 11 | loss: 0.17881 | train_mse: 1.16349 | train_mae: 0.7658  |  0:00:00s\n",
      "epoch 12 | loss: 0.43604 | train_mse: 0.92833 | train_mae: 0.68956 |  0:00:01s\n",
      "epoch 13 | loss: 0.26984 | train_mse: 1.05274 | train_mae: 0.71996 |  0:00:01s\n"
     ]
    },
    {
     "name": "stdout",
     "output_type": "stream",
     "text": [
      "epoch 14 | loss: 0.2774  | train_mse: 1.06069 | train_mae: 0.71101 |  0:00:01s\n",
      "epoch 15 | loss: 0.29672 | train_mse: 1.38423 | train_mae: 0.79178 |  0:00:01s\n",
      "epoch 16 | loss: 0.2626  | train_mse: 1.11986 | train_mae: 0.72978 |  0:00:01s\n"
     ]
    },
    {
     "name": "stdout",
     "output_type": "stream",
     "text": [
      "epoch 17 | loss: 0.2161  | train_mse: 1.0911  | train_mae: 0.70971 |  0:00:01s\n",
      "epoch 18 | loss: 0.23473 | train_mse: 0.95447 | train_mae: 0.65541 |  0:00:01s\n",
      "epoch 19 | loss: 0.24495 | train_mse: 0.59406 | train_mae: 0.4923  |  0:00:01s\n"
     ]
    },
    {
     "name": "stdout",
     "output_type": "stream",
     "text": [
      "epoch 20 | loss: 0.32096 | train_mse: 0.46165 | train_mae: 0.44719 |  0:00:01s\n",
      "epoch 21 | loss: 0.3249  | train_mse: 0.47223 | train_mae: 0.45257 |  0:00:01s\n",
      "epoch 22 | loss: 0.38538 | train_mse: 0.82165 | train_mae: 0.59713 |  0:00:01s\n",
      "epoch 23 | loss: 0.24346 | train_mse: 0.67687 | train_mae: 0.54024 |  0:00:01s\n"
     ]
    },
    {
     "name": "stdout",
     "output_type": "stream",
     "text": [
      "epoch 24 | loss: 0.44453 | train_mse: 0.22447 | train_mae: 0.35165 |  0:00:01s\n",
      "epoch 25 | loss: 0.37725 | train_mse: 0.18559 | train_mae: 0.33021 |  0:00:01s\n",
      "epoch 26 | loss: 0.17934 | train_mse: 0.30461 | train_mae: 0.41096 |  0:00:02s\n"
     ]
    },
    {
     "name": "stdout",
     "output_type": "stream",
     "text": [
      "epoch 27 | loss: 0.16894 | train_mse: 0.55283 | train_mae: 0.53383 |  0:00:02s\n",
      "epoch 28 | loss: 0.3404  | train_mse: 0.89058 | train_mae: 0.62681 |  0:00:02s\n",
      "epoch 29 | loss: 0.26858 | train_mse: 0.55937 | train_mae: 0.50466 |  0:00:02s\n",
      "epoch 30 | loss: 0.17215 | train_mse: 0.20666 | train_mae: 0.34294 |  0:00:02s\n"
     ]
    },
    {
     "name": "stdout",
     "output_type": "stream",
     "text": [
      "epoch 31 | loss: 0.14004 | train_mse: 0.18706 | train_mae: 0.32102 |  0:00:02s\n",
      "epoch 32 | loss: 0.22785 | train_mse: 0.17125 | train_mae: 0.31278 |  0:00:02s\n",
      "epoch 33 | loss: 0.16637 | train_mse: 0.16656 | train_mae: 0.31084 |  0:00:02s\n",
      "epoch 34 | loss: 0.1736  | train_mse: 0.21681 | train_mae: 0.3454  |  0:00:02s\n"
     ]
    },
    {
     "name": "stdout",
     "output_type": "stream",
     "text": [
      "epoch 35 | loss: 0.33541 | train_mse: 0.19106 | train_mae: 0.30424 |  0:00:02s\n",
      "epoch 36 | loss: 0.19271 | train_mse: 0.1391  | train_mae: 0.27357 |  0:00:02s\n",
      "epoch 37 | loss: 0.247   | train_mse: 0.19757 | train_mae: 0.32675 |  0:00:02s\n",
      "epoch 38 | loss: 0.09745 | train_mse: 0.26453 | train_mae: 0.35831 |  0:00:02s\n"
     ]
    },
    {
     "name": "stdout",
     "output_type": "stream",
     "text": [
      "epoch 39 | loss: 0.19935 | train_mse: 0.21229 | train_mae: 0.32696 |  0:00:02s\n",
      "epoch 40 | loss: 0.12002 | train_mse: 0.13023 | train_mae: 0.26692 |  0:00:02s\n",
      "epoch 41 | loss: 0.17074 | train_mse: 0.11029 | train_mae: 0.24973 |  0:00:03s\n"
     ]
    },
    {
     "name": "stdout",
     "output_type": "stream",
     "text": [
      "epoch 42 | loss: 0.13768 | train_mse: 0.13389 | train_mae: 0.27266 |  0:00:03s\n",
      "epoch 43 | loss: 0.17764 | train_mse: 0.11341 | train_mae: 0.24977 |  0:00:03s\n",
      "epoch 44 | loss: 0.15096 | train_mse: 0.10786 | train_mae: 0.24375 |  0:00:03s\n",
      "epoch 45 | loss: 0.12352 | train_mse: 0.08929 | train_mae: 0.22276 |  0:00:03s\n"
     ]
    },
    {
     "name": "stdout",
     "output_type": "stream",
     "text": [
      "epoch 46 | loss: 0.12538 | train_mse: 0.08498 | train_mae: 0.21642 |  0:00:03s\n",
      "epoch 47 | loss: 0.19788 | train_mse: 0.09207 | train_mae: 0.22639 |  0:00:03s\n",
      "epoch 48 | loss: 0.13209 | train_mse: 0.12678 | train_mae: 0.26575 |  0:00:03s\n"
     ]
    },
    {
     "name": "stdout",
     "output_type": "stream",
     "text": [
      "epoch 49 | loss: 0.30615 | train_mse: 0.14119 | train_mae: 0.28084 |  0:00:03s\n",
      "epoch 50 | loss: 0.17903 | train_mse: 0.16238 | train_mae: 0.29371 |  0:00:03s\n"
     ]
    },
    {
     "name": "stdout",
     "output_type": "stream",
     "text": [
      "epoch 51 | loss: 0.23802 | train_mse: 0.11578 | train_mae: 0.24979 |  0:00:03s\n",
      "epoch 52 | loss: 0.13403 | train_mse: 0.12009 | train_mae: 0.26193 |  0:00:03s\n",
      "epoch 53 | loss: 0.26002 | train_mse: 0.1105  | train_mae: 0.2508  |  0:00:04s\n"
     ]
    },
    {
     "name": "stdout",
     "output_type": "stream",
     "text": [
      "epoch 54 | loss: 0.09577 | train_mse: 0.12857 | train_mae: 0.25893 |  0:00:04s\n",
      "epoch 55 | loss: 0.18803 | train_mse: 0.13031 | train_mae: 0.25289 |  0:00:04s\n",
      "epoch 56 | loss: 0.18611 | train_mse: 0.11061 | train_mae: 0.24713 |  0:00:04s\n"
     ]
    },
    {
     "name": "stdout",
     "output_type": "stream",
     "text": [
      "epoch 57 | loss: 0.11672 | train_mse: 0.09598 | train_mae: 0.23776 |  0:00:04s\n",
      "epoch 58 | loss: 0.2163  | train_mse: 0.09492 | train_mae: 0.23294 |  0:00:04s\n",
      "epoch 59 | loss: 0.11574 | train_mse: 0.14242 | train_mae: 0.2776  |  0:00:04s\n"
     ]
    },
    {
     "name": "stdout",
     "output_type": "stream",
     "text": [
      "epoch 60 | loss: 0.21471 | train_mse: 0.17223 | train_mae: 0.2899  |  0:00:04s\n",
      "epoch 61 | loss: 0.13896 | train_mse: 0.11064 | train_mae: 0.24128 |  0:00:04s\n",
      "epoch 62 | loss: 0.24829 | train_mse: 0.08368 | train_mae: 0.21786 |  0:00:04s\n"
     ]
    },
    {
     "name": "stdout",
     "output_type": "stream",
     "text": [
      "epoch 63 | loss: 0.19091 | train_mse: 0.08174 | train_mae: 0.21394 |  0:00:04s\n"
     ]
    },
    {
     "name": "stdout",
     "output_type": "stream",
     "text": [
      "epoch 64 | loss: 0.12276 | train_mse: 0.08648 | train_mae: 0.22272 |  0:00:05s\n",
      "epoch 65 | loss: 0.2175  | train_mse: 0.09367 | train_mae: 0.23715 |  0:00:05s\n",
      "epoch 66 | loss: 0.12874 | train_mse: 0.07712 | train_mae: 0.20973 |  0:00:05s\n"
     ]
    },
    {
     "name": "stdout",
     "output_type": "stream",
     "text": [
      "epoch 67 | loss: 0.14782 | train_mse: 0.11353 | train_mae: 0.24196 |  0:00:05s\n",
      "epoch 68 | loss: 0.19955 | train_mse: 0.11043 | train_mae: 0.23685 |  0:00:05s\n",
      "epoch 69 | loss: 0.34912 | train_mse: 0.1309  | train_mae: 0.25623 |  0:00:05s\n"
     ]
    },
    {
     "name": "stdout",
     "output_type": "stream",
     "text": [
      "epoch 70 | loss: 0.18729 | train_mse: 0.13811 | train_mae: 0.25849 |  0:00:05s\n",
      "epoch 71 | loss: 0.1841  | train_mse: 0.13681 | train_mae: 0.25458 |  0:00:05s\n",
      "epoch 72 | loss: 0.14539 | train_mse: 0.09924 | train_mae: 0.23509 |  0:00:05s\n"
     ]
    },
    {
     "name": "stdout",
     "output_type": "stream",
     "text": [
      "epoch 73 | loss: 0.23784 | train_mse: 0.12355 | train_mae: 0.25276 |  0:00:05s\n",
      "epoch 74 | loss: 0.13956 | train_mse: 0.10692 | train_mae: 0.23159 |  0:00:06s\n",
      "epoch 75 | loss: 0.11065 | train_mse: 0.10619 | train_mae: 0.24009 |  0:00:06s\n"
     ]
    },
    {
     "name": "stdout",
     "output_type": "stream",
     "text": [
      "epoch 76 | loss: 0.18896 | train_mse: 0.09964 | train_mae: 0.23263 |  0:00:06s\n",
      "epoch 77 | loss: 0.20052 | train_mse: 0.08122 | train_mae: 0.21067 |  0:00:06s\n",
      "epoch 78 | loss: 0.26392 | train_mse: 0.09758 | train_mae: 0.22257 |  0:00:06s\n"
     ]
    },
    {
     "name": "stdout",
     "output_type": "stream",
     "text": [
      "epoch 79 | loss: 0.22869 | train_mse: 0.08446 | train_mae: 0.20981 |  0:00:06s\n",
      "epoch 80 | loss: 0.08214 | train_mse: 0.11915 | train_mae: 0.2346  |  0:00:06s\n",
      "epoch 81 | loss: 0.15216 | train_mse: 0.21557 | train_mae: 0.29278 |  0:00:06s\n",
      "epoch 82 | loss: 0.21908 | train_mse: 0.16836 | train_mae: 0.26715 |  0:00:06s\n"
     ]
    },
    {
     "name": "stdout",
     "output_type": "stream",
     "text": [
      "epoch 83 | loss: 0.11388 | train_mse: 0.09656 | train_mae: 0.21979 |  0:00:06s\n",
      "epoch 84 | loss: 0.23241 | train_mse: 0.07805 | train_mae: 0.20407 |  0:00:06s\n",
      "epoch 85 | loss: 0.11869 | train_mse: 0.07358 | train_mae: 0.20107 |  0:00:06s\n",
      "epoch 86 | loss: 0.35479 | train_mse: 0.12692 | train_mae: 0.24357 |  0:00:06s\n"
     ]
    },
    {
     "name": "stdout",
     "output_type": "stream",
     "text": [
      "epoch 87 | loss: 0.16411 | train_mse: 0.17368 | train_mae: 0.28045 |  0:00:06s\n",
      "epoch 88 | loss: 0.25919 | train_mse: 0.09127 | train_mae: 0.21946 |  0:00:06s\n",
      "epoch 89 | loss: 0.14794 | train_mse: 0.06995 | train_mae: 0.20348 |  0:00:07s\n"
     ]
    },
    {
     "name": "stdout",
     "output_type": "stream",
     "text": [
      "epoch 90 | loss: 0.19984 | train_mse: 0.07432 | train_mae: 0.20355 |  0:00:07s\n",
      "epoch 91 | loss: 0.22246 | train_mse: 0.08907 | train_mae: 0.21518 |  0:00:07s\n",
      "epoch 92 | loss: 0.12531 | train_mse: 0.07644 | train_mae: 0.20365 |  0:00:07s\n"
     ]
    },
    {
     "name": "stdout",
     "output_type": "stream",
     "text": [
      "epoch 93 | loss: 0.13267 | train_mse: 0.08019 | train_mae: 0.21255 |  0:00:07s\n",
      "epoch 94 | loss: 0.11886 | train_mse: 0.08421 | train_mae: 0.21016 |  0:00:07s\n",
      "epoch 95 | loss: 0.08424 | train_mse: 0.0757  | train_mae: 0.19358 |  0:00:07s\n"
     ]
    },
    {
     "name": "stdout",
     "output_type": "stream",
     "text": [
      "epoch 96 | loss: 0.10953 | train_mse: 0.06358 | train_mae: 0.18511 |  0:00:07s\n",
      "epoch 97 | loss: 0.18027 | train_mse: 0.06383 | train_mae: 0.18833 |  0:00:07s\n",
      "epoch 98 | loss: 0.1506  | train_mse: 0.06448 | train_mae: 0.19272 |  0:00:07s\n",
      "epoch 99 | loss: 0.08979 | train_mse: 0.07025 | train_mae: 0.19839 |  0:00:07s\n"
     ]
    },
    {
     "name": "stdout",
     "output_type": "stream",
     "text": [
      "epoch 100| loss: 0.16895 | train_mse: 0.08565 | train_mae: 0.20779 |  0:00:07s\n",
      "epoch 101| loss: 0.10283 | train_mse: 0.07454 | train_mae: 0.2051  |  0:00:07s\n",
      "epoch 102| loss: 0.18039 | train_mse: 0.07368 | train_mae: 0.20438 |  0:00:07s\n",
      "epoch 103| loss: 0.1     | train_mse: 0.06288 | train_mae: 0.18806 |  0:00:08s\n"
     ]
    },
    {
     "name": "stdout",
     "output_type": "stream",
     "text": [
      "epoch 104| loss: 0.28929 | train_mse: 0.06731 | train_mae: 0.19049 |  0:00:08s\n",
      "epoch 105| loss: 0.19891 | train_mse: 0.07018 | train_mae: 0.19858 |  0:00:08s\n",
      "epoch 106| loss: 0.13109 | train_mse: 0.08127 | train_mae: 0.20961 |  0:00:08s\n"
     ]
    },
    {
     "name": "stdout",
     "output_type": "stream",
     "text": [
      "epoch 107| loss: 0.1619  | train_mse: 0.07551 | train_mae: 0.20121 |  0:00:08s\n",
      "epoch 108| loss: 0.12599 | train_mse: 0.07426 | train_mae: 0.20243 |  0:00:08s\n",
      "epoch 109| loss: 0.11642 | train_mse: 0.0653  | train_mae: 0.19027 |  0:00:08s\n"
     ]
    },
    {
     "name": "stdout",
     "output_type": "stream",
     "text": [
      "epoch 110| loss: 0.2884  | train_mse: 0.07385 | train_mae: 0.198   |  0:00:08s\n",
      "epoch 111| loss: 0.09018 | train_mse: 0.07015 | train_mae: 0.19861 |  0:00:08s\n",
      "epoch 112| loss: 0.25798 | train_mse: 0.07057 | train_mae: 0.19934 |  0:00:08s\n"
     ]
    },
    {
     "name": "stdout",
     "output_type": "stream",
     "text": [
      "epoch 113| loss: 0.11101 | train_mse: 0.08236 | train_mae: 0.20028 |  0:00:08s\n",
      "epoch 114| loss: 0.1503  | train_mse: 0.07026 | train_mae: 0.18941 |  0:00:08s\n",
      "epoch 115| loss: 0.15936 | train_mse: 0.09095 | train_mae: 0.21642 |  0:00:08s\n"
     ]
    },
    {
     "name": "stdout",
     "output_type": "stream",
     "text": [
      "epoch 116| loss: 0.10925 | train_mse: 0.07423 | train_mae: 0.20543 |  0:00:09s\n",
      "epoch 117| loss: 0.34761 | train_mse: 0.07604 | train_mae: 0.2068  |  0:00:09s\n",
      "epoch 118| loss: 0.08224 | train_mse: 0.06763 | train_mae: 0.19741 |  0:00:09s\n"
     ]
    },
    {
     "name": "stdout",
     "output_type": "stream",
     "text": [
      "epoch 119| loss: 0.13283 | train_mse: 0.07488 | train_mae: 0.20189 |  0:00:09s\n",
      "epoch 120| loss: 0.11889 | train_mse: 0.07817 | train_mae: 0.20221 |  0:00:09s\n",
      "epoch 121| loss: 0.11306 | train_mse: 0.0714  | train_mae: 0.19829 |  0:00:09s\n",
      "epoch 122| loss: 0.09938 | train_mse: 0.07702 | train_mae: 0.20973 |  0:00:09s\n"
     ]
    },
    {
     "name": "stdout",
     "output_type": "stream",
     "text": [
      "epoch 123| loss: 0.15672 | train_mse: 0.07427 | train_mae: 0.20095 |  0:00:09s\n",
      "epoch 124| loss: 0.08365 | train_mse: 0.12834 | train_mae: 0.24692 |  0:00:09s\n",
      "epoch 125| loss: 0.13425 | train_mse: 0.19393 | train_mae: 0.27284 |  0:00:09s\n"
     ]
    },
    {
     "name": "stdout",
     "output_type": "stream",
     "text": [
      "epoch 126| loss: 0.08845 | train_mse: 0.15186 | train_mae: 0.25329 |  0:00:09s\n",
      "epoch 127| loss: 0.08381 | train_mse: 0.15419 | train_mae: 0.23519 |  0:00:09s\n",
      "epoch 128| loss: 0.20128 | train_mse: 0.09994 | train_mae: 0.21186 |  0:00:09s\n",
      "epoch 129| loss: 0.11967 | train_mse: 0.06676 | train_mae: 0.18484 |  0:00:09s\n"
     ]
    },
    {
     "name": "stdout",
     "output_type": "stream",
     "text": [
      "epoch 130| loss: 0.1376  | train_mse: 0.07789 | train_mae: 0.19841 |  0:00:10s\n",
      "epoch 131| loss: 0.11829 | train_mse: 0.12439 | train_mae: 0.23441 |  0:00:10s\n",
      "epoch 132| loss: 0.23781 | train_mse: 0.10411 | train_mae: 0.2257  |  0:00:10s\n"
     ]
    },
    {
     "name": "stdout",
     "output_type": "stream",
     "text": [
      "epoch 133| loss: 0.12387 | train_mse: 0.06312 | train_mae: 0.19051 |  0:00:10s\n",
      "epoch 134| loss: 0.12221 | train_mse: 0.07695 | train_mae: 0.20762 |  0:00:10s\n",
      "epoch 135| loss: 0.09306 | train_mse: 0.06857 | train_mae: 0.19117 |  0:00:10s\n",
      "epoch 136| loss: 0.10302 | train_mse: 0.06019 | train_mae: 0.18729 |  0:00:10s\n"
     ]
    },
    {
     "name": "stdout",
     "output_type": "stream",
     "text": [
      "epoch 137| loss: 0.14043 | train_mse: 0.11064 | train_mae: 0.22663 |  0:00:10s\n",
      "epoch 138| loss: 0.11862 | train_mse: 0.11959 | train_mae: 0.22443 |  0:00:10s\n",
      "epoch 139| loss: 0.13923 | train_mse: 0.06462 | train_mae: 0.19772 |  0:00:10s\n"
     ]
    },
    {
     "name": "stdout",
     "output_type": "stream",
     "text": [
      "epoch 140| loss: 0.27435 | train_mse: 0.07289 | train_mae: 0.20562 |  0:00:10s\n",
      "epoch 141| loss: 0.09366 | train_mse: 0.08471 | train_mae: 0.20574 |  0:00:10s\n",
      "epoch 142| loss: 0.11037 | train_mse: 0.06246 | train_mae: 0.17737 |  0:00:10s\n",
      "epoch 143| loss: 0.12553 | train_mse: 0.06391 | train_mae: 0.18318 |  0:00:10s\n"
     ]
    },
    {
     "name": "stdout",
     "output_type": "stream",
     "text": [
      "epoch 144| loss: 0.08552 | train_mse: 0.06633 | train_mae: 0.18604 |  0:00:11s\n",
      "epoch 145| loss: 0.08242 | train_mse: 0.07444 | train_mae: 0.19482 |  0:00:11s\n",
      "epoch 146| loss: 0.11638 | train_mse: 0.095   | train_mae: 0.21129 |  0:00:11s\n"
     ]
    },
    {
     "name": "stdout",
     "output_type": "stream",
     "text": [
      "epoch 147| loss: 0.27652 | train_mse: 0.0971  | train_mae: 0.21224 |  0:00:11s\n",
      "epoch 148| loss: 0.14161 | train_mse: 0.06843 | train_mae: 0.19142 |  0:00:11s\n",
      "epoch 149| loss: 0.15518 | train_mse: 0.0755  | train_mae: 0.20085 |  0:00:11s\n"
     ]
    },
    {
     "name": "stdout",
     "output_type": "stream",
     "text": [
      "epoch 150| loss: 0.1085  | train_mse: 0.07643 | train_mae: 0.19876 |  0:00:11s\n",
      "epoch 151| loss: 0.09139 | train_mse: 0.06666 | train_mae: 0.1933  |  0:00:11s\n",
      "epoch 152| loss: 0.14725 | train_mse: 0.06479 | train_mae: 0.19109 |  0:00:11s\n"
     ]
    },
    {
     "name": "stdout",
     "output_type": "stream",
     "text": [
      "epoch 153| loss: 0.22601 | train_mse: 0.08255 | train_mae: 0.2071  |  0:00:11s\n",
      "epoch 154| loss: 0.16379 | train_mse: 0.08    | train_mae: 0.20198 |  0:00:11s\n",
      "epoch 155| loss: 0.17883 | train_mse: 0.07944 | train_mae: 0.20372 |  0:00:11s\n",
      "epoch 156| loss: 0.21613 | train_mse: 0.07909 | train_mae: 0.20666 |  0:00:11s\n"
     ]
    },
    {
     "name": "stdout",
     "output_type": "stream",
     "text": [
      "epoch 157| loss: 0.083   | train_mse: 0.24497 | train_mae: 0.29189 |  0:00:11s\n",
      "epoch 158| loss: 0.15552 | train_mse: 0.27314 | train_mae: 0.30889 |  0:00:11s\n",
      "epoch 159| loss: 0.09652 | train_mse: 0.25919 | train_mae: 0.31238 |  0:00:12s\n"
     ]
    },
    {
     "name": "stdout",
     "output_type": "stream",
     "text": [
      "epoch 160| loss: 0.19643 | train_mse: 0.15415 | train_mae: 0.27879 |  0:00:12s\n",
      "epoch 161| loss: 0.11129 | train_mse: 0.13495 | train_mae: 0.26822 |  0:00:12s\n",
      "epoch 162| loss: 0.13409 | train_mse: 0.13692 | train_mae: 0.26227 |  0:00:12s\n",
      "epoch 163| loss: 0.15104 | train_mse: 0.11857 | train_mae: 0.23567 |  0:00:12s\n"
     ]
    },
    {
     "name": "stdout",
     "output_type": "stream",
     "text": [
      "epoch 164| loss: 0.31318 | train_mse: 0.14468 | train_mae: 0.25322 |  0:00:12s\n",
      "epoch 165| loss: 0.11397 | train_mse: 0.1282  | train_mae: 0.24282 |  0:00:12s\n",
      "epoch 166| loss: 0.0953  | train_mse: 0.06669 | train_mae: 0.18784 |  0:00:12s\n",
      "epoch 167| loss: 0.31087 | train_mse: 0.07478 | train_mae: 0.18693 |  0:00:12s\n"
     ]
    },
    {
     "name": "stdout",
     "output_type": "stream",
     "text": [
      "epoch 168| loss: 0.36381 | train_mse: 0.10205 | train_mae: 0.21759 |  0:00:12s\n",
      "epoch 169| loss: 0.25832 | train_mse: 0.09145 | train_mae: 0.21028 |  0:00:12s\n",
      "epoch 170| loss: 0.1233  | train_mse: 0.07741 | train_mae: 0.21588 |  0:00:12s\n",
      "epoch 171| loss: 0.23957 | train_mse: 0.11639 | train_mae: 0.25388 |  0:00:12s\n"
     ]
    },
    {
     "name": "stdout",
     "output_type": "stream",
     "text": [
      "epoch 172| loss: 0.23542 | train_mse: 0.17232 | train_mae: 0.29323 |  0:00:12s\n",
      "epoch 173| loss: 0.24168 | train_mse: 0.15002 | train_mae: 0.27451 |  0:00:12s\n",
      "epoch 174| loss: 0.17133 | train_mse: 0.14969 | train_mae: 0.27224 |  0:00:13s\n",
      "epoch 175| loss: 0.25931 | train_mse: 0.19537 | train_mae: 0.28906 |  0:00:13s\n"
     ]
    },
    {
     "name": "stdout",
     "output_type": "stream",
     "text": [
      "epoch 176| loss: 0.12311 | train_mse: 0.16229 | train_mae: 0.26481 |  0:00:13s\n",
      "epoch 177| loss: 0.12226 | train_mse: 0.12466 | train_mae: 0.23888 |  0:00:13s\n",
      "epoch 178| loss: 0.08707 | train_mse: 0.09295 | train_mae: 0.22516 |  0:00:13s\n",
      "epoch 179| loss: 0.13042 | train_mse: 0.08359 | train_mae: 0.22405 |  0:00:13s\n"
     ]
    },
    {
     "name": "stdout",
     "output_type": "stream",
     "text": [
      "epoch 180| loss: 0.10976 | train_mse: 0.0799  | train_mae: 0.21492 |  0:00:13s\n",
      "epoch 181| loss: 0.15046 | train_mse: 0.09424 | train_mae: 0.22072 |  0:00:13s\n",
      "epoch 182| loss: 0.14084 | train_mse: 0.17395 | train_mae: 0.25951 |  0:00:13s\n",
      "epoch 183| loss: 0.14012 | train_mse: 0.23449 | train_mae: 0.28712 |  0:00:13s\n"
     ]
    },
    {
     "name": "stdout",
     "output_type": "stream",
     "text": [
      "epoch 184| loss: 0.25598 | train_mse: 0.17373 | train_mae: 0.26331 |  0:00:13s\n",
      "epoch 185| loss: 0.09537 | train_mse: 0.09166 | train_mae: 0.21538 |  0:00:13s\n",
      "epoch 186| loss: 0.27258 | train_mse: 0.0767  | train_mae: 0.20228 |  0:00:13s\n",
      "epoch 187| loss: 0.21803 | train_mse: 0.10576 | train_mae: 0.23123 |  0:00:13s\n"
     ]
    },
    {
     "name": "stdout",
     "output_type": "stream",
     "text": [
      "epoch 188| loss: 0.2159  | train_mse: 0.11502 | train_mae: 0.24435 |  0:00:13s\n",
      "epoch 189| loss: 0.20431 | train_mse: 0.09483 | train_mae: 0.2359  |  0:00:14s\n",
      "epoch 190| loss: 0.10763 | train_mse: 0.11072 | train_mae: 0.24528 |  0:00:14s\n"
     ]
    },
    {
     "name": "stdout",
     "output_type": "stream",
     "text": [
      "epoch 191| loss: 0.19655 | train_mse: 0.11259 | train_mae: 0.24607 |  0:00:14s\n",
      "epoch 192| loss: 0.10415 | train_mse: 0.07283 | train_mae: 0.2134  |  0:00:14s\n",
      "\n",
      "Early stopping occurred at epoch 192 with best_epoch = 142 and best_train_mae = 0.17737\n",
      "Best weights from best epoch are automatically used!\n"
     ]
    }
   ],
   "source": [
    "#Train the Model\n",
    "\n",
    "Y_train = np.reshape(Y_train, (-1, 1))\n",
    "Y_test = np.reshape(Y_test, (-1, 1))\n",
    "\n",
    "prior_model = TabNetRegressor(optimizer_fn=torch.optim.Adam, optimizer_params=dict(lr = 0.02),\n",
    "          #scheduler_params={\"step_size\":10, ], \"gamma\":0.9},\n",
    "          #scheduler_fn=torch.optim.lr_scheduler.StepLR\n",
    "          )  #TabNetRegressor()\n",
    "\n",
    "prior_model.fit(X_train,Y_train,eval_set=[(X_train, Y_train)],\n",
    "            eval_name=['train'], \n",
    "            eval_metric=[ 'mse', 'mae'], \n",
    "            max_epochs = n_epochs, \n",
    "            batch_size = batch_size,\n",
    "            patience=50\n",
    "            )"
   ]
  },
  {
   "cell_type": "code",
   "execution_count": 10,
   "id": "af65dcda",
   "metadata": {
    "execution": {
     "iopub.execute_input": "2022-06-22T12:19:37.790608Z",
     "iopub.status.busy": "2022-06-22T12:19:37.786216Z",
     "iopub.status.idle": "2022-06-22T12:19:37.809486Z",
     "shell.execute_reply": "2022-06-22T12:19:37.810008Z"
    },
    "id": "af65dcda",
    "papermill": {
     "duration": 0.071866,
     "end_time": "2022-06-22T12:19:37.810270",
     "exception": false,
     "start_time": "2022-06-22T12:19:37.738404",
     "status": "completed"
    },
    "tags": []
   },
   "outputs": [
    {
     "data": {
      "application/scrapbook.scrap.json+json": {
       "data": 0.7965262882031482,
       "encoder": "json",
       "name": "Prior Model MSE",
       "version": 1
      }
     },
     "metadata": {
      "scrapbook": {
       "data": true,
       "display": false,
       "name": "Prior Model MSE"
      }
     },
     "output_type": "display_data"
    },
    {
     "data": {
      "application/scrapbook.scrap.json+json": {
       "data": 0.7948692685702484,
       "encoder": "json",
       "name": "ABC Pre-generator MSE",
       "version": 1
      }
     },
     "metadata": {
      "scrapbook": {
       "data": true,
       "display": false,
       "name": "ABC Pre-generator MSE"
      }
     },
     "output_type": "display_data"
    },
    {
     "data": {
      "application/scrapbook.scrap.json+json": {
       "data": 0.45819202338273257,
       "encoder": "json",
       "name": "Prior Model MSE",
       "version": 1
      }
     },
     "metadata": {
      "scrapbook": {
       "data": true,
       "display": false,
       "name": "Prior Model MSE"
      }
     },
     "output_type": "display_data"
    },
    {
     "data": {
      "application/scrapbook.scrap.json+json": {
       "data": 0.4394592434715574,
       "encoder": "json",
       "name": "ABC Pre-generator MSE",
       "version": 1
      }
     },
     "metadata": {
      "scrapbook": {
       "data": true,
       "display": false,
       "name": "ABC Pre-generator MSE"
      }
     },
     "output_type": "display_data"
    }
   ],
   "source": [
    "y_pred = prior_model.predict(X_test)\n",
    "y_abc = y_pred + np.random.normal(0,variance, y_pred.shape) + bias \n",
    "mse = mean_squared_error(y_pred,Y_test)\n",
    "sb.glue(\"Prior Model MSE\",mse)\n",
    "mse = mean_squared_error(y_abc,Y_test)\n",
    "sb.glue(\"ABC Pre-generator MSE\",mse)\n",
    "mae = mean_absolute_error(y_pred,Y_test)\n",
    "sb.glue(\"Prior Model MSE\",mae)\n",
    "mae = mean_absolute_error(y_abc,Y_test)\n",
    "sb.glue(\"ABC Pre-generator MSE\",mae)"
   ]
  },
  {
   "cell_type": "markdown",
   "id": "25609da2",
   "metadata": {
    "papermill": {
     "duration": 0.044142,
     "end_time": "2022-06-22T12:19:37.903474",
     "exception": false,
     "start_time": "2022-06-22T12:19:37.859332",
     "status": "completed"
    },
    "tags": []
   },
   "source": [
    "# ABC GAN Model"
   ]
  },
  {
   "cell_type": "code",
   "execution_count": 11,
   "id": "dfc3464d",
   "metadata": {
    "execution": {
     "iopub.execute_input": "2022-06-22T12:19:37.969927Z",
     "iopub.status.busy": "2022-06-22T12:19:37.969080Z",
     "iopub.status.idle": "2022-06-22T12:19:37.972355Z",
     "shell.execute_reply": "2022-06-22T12:19:37.972826Z"
    },
    "papermill": {
     "duration": 0.037937,
     "end_time": "2022-06-22T12:19:37.973031",
     "exception": false,
     "start_time": "2022-06-22T12:19:37.935094",
     "status": "completed"
    },
    "tags": []
   },
   "outputs": [],
   "source": [
    "gen = network.Generator(n_features+1).to(device)\n",
    "disc = network.Discriminator(n_features+1).to(device)\n",
    "\n",
    "criterion = torch.nn.BCELoss()\n",
    "gen_opt = torch.optim.Adam(gen.parameters(), lr=0.001, betas=(0.5, 0.999))\n",
    "disc_opt = torch.optim.Adam(disc.parameters(), lr=0.001, betas=(0.5, 0.999))"
   ]
  },
  {
   "cell_type": "code",
   "execution_count": 12,
   "id": "b75fdd85",
   "metadata": {
    "execution": {
     "iopub.execute_input": "2022-06-22T12:19:38.053557Z",
     "iopub.status.busy": "2022-06-22T12:19:38.052787Z",
     "iopub.status.idle": "2022-06-22T12:20:19.499569Z",
     "shell.execute_reply": "2022-06-22T12:20:19.500218Z"
    },
    "papermill": {
     "duration": 41.493628,
     "end_time": "2022-06-22T12:20:19.500461",
     "exception": false,
     "start_time": "2022-06-22T12:19:38.006833",
     "status": "completed"
    },
    "tags": []
   },
   "outputs": [
    {
     "data": {
      "image/png": "[encoded data removed]",
      "text/plain": [
       "<Figure size 432x288 with 1 Axes>"
      ]
     },
     "metadata": {
      "needs_background": "light"
     },
     "output_type": "display_data"
    },
    {
     "data": {
      "image/png": "[encoded data removed]",
      "text/plain": [
       "<Figure size 432x288 with 1 Axes>"
      ]
     },
     "metadata": {
      "needs_background": "light"
     },
     "output_type": "display_data"
    }
   ],
   "source": [
    "#Training the ABC_GAN \n",
    "ABC_train_test2.training_GAN(disc,gen,disc_opt,gen_opt,train_data,batch_size,n_epochs,criterion,prior_model,variance,bias,device)"
   ]
  },
  {
   "cell_type": "code",
   "execution_count": 13,
   "id": "1fa7c368",
   "metadata": {
    "execution": {
     "iopub.execute_input": "2022-06-22T12:20:19.592950Z",
     "iopub.status.busy": "2022-06-22T12:20:19.588275Z",
     "iopub.status.idle": "2022-06-22T12:20:20.209352Z",
     "shell.execute_reply": "2022-06-22T12:20:20.209829Z"
    },
    "papermill": {
     "duration": 0.67079,
     "end_time": "2022-06-22T12:20:20.210036",
     "exception": false,
     "start_time": "2022-06-22T12:20:19.539246",
     "status": "completed"
    },
    "tags": []
   },
   "outputs": [
    {
     "data": {
      "application/scrapbook.scrap.json+json": {
       "data": 0.7185177289722617,
       "encoder": "json",
       "name": "ABC-GAN Model 1 MSE",
       "version": 1
      }
     },
     "metadata": {
      "scrapbook": {
       "data": true,
       "display": false,
       "name": "ABC-GAN Model 1 MSE"
      }
     },
     "output_type": "display_data"
    },
    {
     "data": {
      "application/scrapbook.scrap.json+json": {
       "data": 0.43390851885825393,
       "encoder": "json",
       "name": "ABC-GAN Model 1 MAE",
       "version": 1
      }
     },
     "metadata": {
      "scrapbook": {
       "data": true,
       "display": false,
       "name": "ABC-GAN Model 1 MAE"
      }
     },
     "output_type": "display_data"
    },
    {
     "data": {
      "application/scrapbook.scrap.json+json": {
       "data": 8.67817037716508,
       "encoder": "json",
       "name": "ABC-GAN Model 1 Manhattan Distance",
       "version": 1
      }
     },
     "metadata": {
      "scrapbook": {
       "data": true,
       "display": false,
       "name": "ABC-GAN Model 1 Manhattan Distance"
      }
     },
     "output_type": "display_data"
    },
    {
     "data": {
      "application/scrapbook.scrap.json+json": {
       "data": 3.7907358907232207,
       "encoder": "json",
       "name": "ABC-GAN Model 1 Euclidean distance",
       "version": 1
      }
     },
     "metadata": {
      "scrapbook": {
       "data": true,
       "display": false,
       "name": "ABC-GAN Model 1 Euclidean distance"
      }
     },
     "output_type": "display_data"
    },
    {
     "data": {
      "application/scrapbook.scrap.json+json": {
       "data": [
        [
         0.7087633454668001,
         0.7085296732708096,
         0.7141308717587421,
         0.7454183828304826,
         0.7325694953214545,
         0.7163312918337212,
         0.7205900277656913,
         0.7212096164962623,
         0.7225743452413271,
         0.6963845456297104,
         0.7270850597206169,
         0.7148845956928371,
         0.7106453799655059,
         0.7224686135071241,
         0.7225525059480663,
         0.7165771219479302,
         0.7105316017552425,
         0.7075319979607946,
         0.711445348201963,
         0.7149743138549551,
         0.7084842854238123,
         0.7227946406536025,
         0.7045529577170312,
         0.7045397077921722,
         0.7169976704724303,
         0.7198480968601076,
         0.7033222931388048,
         0.7167795940761577,
         0.7257962256045649,
         0.7337383598607286,
         0.7203913143230588,
         0.7122536152467422,
         0.7133763526354407,
         0.7135756722314065,
         0.7045577478338545,
         0.7232593218911252,
         0.7111866253430168,
         0.7405293135918484,
         0.712275543301333,
         0.7187292483328541,
         0.7179634328957464,
         0.7156630395895339,
         0.7047644226212597,
         0.7368269166862748,
         0.7120133529580757,
         0.7287070059483785,
         0.7166476617957865,
         0.7281965510483707,
         0.7217449432689718,
         0.7188076272126267,
         0.7053868016759406,
         0.7245788870528234,
         0.7133258520383832,
         0.7276952117830255,
         0.7164649361804433,
         0.7310957390890968,
         0.7200554117743787,
         0.7147177221329934,
         0.7304144964716797,
         0.7222201707936037,
         0.7173881012261116,
         0.7051871148031552,
         0.7191490883758718,
         0.7205433916095705,
         0.708873537355777,
         0.7145374599834191,
         0.6973035497641058,
         0.704606587980716,
         0.720924025107364,
         0.7107537820620624,
         0.725760965487938,
         0.717027116469481,
         0.7145568288278256,
         0.714794045685589,
         0.7134171230593134,
         0.7123158737533716,
         0.7236810100235165,
         0.7301576171987444,
         0.7116186610140833,
         0.7169922488777998,
         0.7253830355528121,
         0.7212527327489795,
         0.7140510366829587,
         0.7078517146814729,
         0.7189108492233898,
         0.718484135168489,
         0.7418142747118365,
         0.7087951604428252,
         0.7067384996775539,
         0.7263387723667311,
         0.7212757399678056,
         0.7205370811191404,
         0.7442251147761969,
         0.7360933444034842,
         0.7276296247057449,
         0.739539498417676,
         0.709843120796411,
         0.7256200758105908,
         0.7340141174330377,
         0.7243099363556984
        ],
        [
         0.43491834346204994,
         0.43918171990662813,
         0.4244396610185504,
         0.4450264336541295,
         0.43471858818084,
         0.4348925629630685,
         0.4198266504332423,
         0.44009573515504596,
         0.43095992524176835,
         0.41603278573602437,
         0.4348858332261443,
         0.42258548345416785,
         0.42487651892006395,
         0.42745596673339603,
         0.4296803867444396,
         0.4389230655506253,
         0.4265789261087775,
         0.4282866859808564,
         0.42931421380490065,
         0.4337805761024356,
         0.4306997237727046,
         0.43898171056061985,
         0.4214247340336442,
         0.43386475201696156,
         0.4387471878901124,
         0.4415187181904912,
         0.41852608751505616,
         0.43239806648343804,
         0.43809136655181646,
         0.444539007358253,
         0.4352616941556334,
         0.4250991838052869,
         0.42847821991890667,
         0.42685110289603473,
         0.4252260701730847,
         0.4391569187864661,
         0.43857873845845463,
         0.46247277725487945,
         0.4296003533527255,
         0.43148407284170387,
         0.42840476259589194,
         0.44223747290670873,
         0.4176064135506749,
         0.4379171499982476,
         0.43756148461252453,
         0.43746391143649815,
         0.42047386709600687,
         0.4400336792692542,
         0.4360917849466205,
         0.4407455874606967,
         0.4357556255534291,
         0.43205955997109413,
         0.42915066201239827,
         0.43677722197026014,
         0.43728110678493975,
         0.4489753222092986,
         0.44055993128567933,
         0.4161740718409419,
         0.44674389753490684,
         0.43289537336677314,
         0.43996303062886,
         0.41609027329832315,
         0.4325560985133052,
         0.43289739098399876,
         0.43486056234687565,
         0.4345650365576148,
         0.40972630959004164,
         0.42083078566938636,
         0.4345081431791186,
         0.43423518259078264,
         0.4340997127816081,
         0.4359862366691232,
         0.4305733984336257,
         0.4303493006154895,
         0.42888916116207837,
         0.42884699515998365,
         0.44022469874471426,
         0.4359179431572556,
         0.43638801071792843,
         0.4423105658963323,
         0.42254286278039216,
         0.4243687245994806,
         0.43260607179254296,
         0.4320239843800664,
         0.4343675961717963,
         0.4388450486585498,
         0.45115850735455754,
         0.4363129587844014,
         0.43301935363560917,
         0.43405387867242096,
         0.44012340176850556,
         0.43858413156121967,
         0.4616074634715915,
         0.44893625993281605,
         0.43377036023885013,
         0.4583806997165084,
         0.43859598860144616,
         0.43374911043792963,
         0.4339368144050241,
         0.4376803973689675
        ],
        [
         8.698366869241,
         8.783634398132563,
         8.488793220371008,
         8.90052867308259,
         8.6943717636168,
         8.69785125926137,
         8.396533008664846,
         8.80191470310092,
         8.619198504835367,
         8.320655714720488,
         8.697716664522886,
         8.451709669083357,
         8.49753037840128,
         8.549119334667921,
         8.593607734888792,
         8.778461311012506,
         8.53157852217555,
         8.565733719617128,
         8.586284276098013,
         8.675611522048712,
         8.613994475454092,
         8.779634211212397,
         8.428494680672884,
         8.677295040339231,
         8.774943757802248,
         8.830374363809824,
         8.370521750301123,
         8.64796132966876,
         8.76182733103633,
         8.89078014716506,
         8.705233883112669,
         8.501983676105738,
         8.569564398378134,
         8.537022057920694,
         8.504521403461695,
         8.783138375729322,
         8.771574769169092,
         9.24945554509759,
         8.59200706705451,
         8.629681456834078,
         8.568095251917839,
         8.844749458134174,
         8.352128271013498,
         8.758342999964952,
         8.75122969225049,
         8.749278228729963,
         8.409477341920137,
         8.800673585385084,
         8.72183569893241,
         8.814911749213934,
         8.715112511068583,
         8.641191199421883,
         8.583013240247965,
         8.735544439405203,
         8.745622135698795,
         8.979506444185972,
         8.811198625713587,
         8.323481436818838,
         8.934877950698137,
         8.657907467335463,
         8.7992606125772,
         8.321805465966463,
         8.651121970266104,
         8.657947819679976,
         8.697211246937513,
         8.691300731152296,
         8.194526191800833,
         8.416615713387728,
         8.690162863582373,
         8.684703651815653,
         8.681994255632162,
         8.719724733382463,
         8.611467968672514,
         8.60698601230979,
         8.577783223241568,
         8.576939903199673,
         8.804493974894285,
         8.718358863145113,
         8.727760214358568,
         8.846211317926645,
         8.450857255607843,
         8.487374491989613,
         8.652121435850859,
         8.640479687601328,
         8.687351923435926,
         8.776900973170996,
         9.02317014709115,
         8.726259175688028,
         8.660387072712183,
         8.68107757344842,
         8.802468035370111,
         8.771682631224394,
         9.23214926943183,
         8.97872519865632,
         8.675407204777002,
         9.167613994330168,
         8.771919772028923,
         8.674982208758593,
         8.678736288100481,
         8.75360794737935
        ],
        [
         3.7650055656447576,
         3.764384872116053,
         3.779235033068841,
         3.8611355397874405,
         3.8277134044268637,
         3.785052950313169,
         3.7962877334725067,
         3.7979194738600297,
         3.8015111343815025,
         3.7319821693832096,
         3.813358256761661,
         3.781228889376672,
         3.7700010078659285,
         3.801232993403914,
         3.8014536849685974,
         3.785702370625377,
         3.769699196899515,
         3.7617336374623718,
         3.7721223421356918,
         3.781466154429932,
         3.764264298435518,
         3.8020905845432,
         3.7538059558720698,
         3.7537706583971593,
         3.7868130940737763,
         3.794332871164858,
         3.7505260781357186,
         3.786237166570942,
         3.809976970021118,
         3.8307658760637633,
         3.7957642559122626,
         3.774264472044168,
         3.7772380190701265,
         3.7777656683055567,
         3.7538187165441395,
         3.803312561152778,
         3.7714363983581025,
         3.8484524515494494,
         3.7743225704789283,
         3.791382988654283,
         3.7893625661732244,
         3.7832870353425045,
         3.7543692482792896,
         3.8388199142087265,
         3.7736278379248676,
         3.8176092150674052,
         3.7858886983000084,
         3.81627187461368,
         3.799328738787871,
         3.7915897120142805,
         3.7560266284358006,
         3.8067804955180256,
         3.7771043195505816,
         3.8149579598811454,
         3.7854060183299842,
         3.823861239870235,
         3.7948792122395107,
         3.7807875426503235,
         3.8220792678113824,
         3.8005793526608644,
         3.7878439810164086,
         3.755494946882914,
         3.7924901802796316,
         3.7961648847476863,
         3.765298228177356,
         3.780310727925468,
         3.734443866934154,
         3.7539488221890185,
         3.797167431408218,
         3.77028853554224,
         3.8098844220998047,
         3.7868908525846923,
         3.780361963695608,
         3.7809894093625522,
         3.7773459546600003,
         3.7744294237761857,
         3.804421138684613,
         3.821407115706842,
         3.7725817711855716,
         3.786798777008886,
         3.808892320748414,
         3.798032998142537,
         3.7790237805098776,
         3.7625834600217782,
         3.7918619416413084,
         3.79073643285441,
         3.8517899078528064,
         3.7650900664999374,
         3.7596236505202323,
         3.811400719858071,
         3.7980935743285884,
         3.7961482613805804,
         3.8580438431313784,
         3.836908506606547,
         3.814786035168276,
         3.8458796091861114,
         3.7678723991037995,
         3.8095146037535823,
         3.8314856581567356,
         3.8060739255976053
        ]
       ],
       "encoder": "json",
       "name": "ABC_GAN_1 Metrics",
       "version": 1
      }
     },
     "metadata": {
      "scrapbook": {
       "data": true,
       "display": false,
       "name": "ABC_GAN_1 Metrics"
      }
     },
     "output_type": "display_data"
    },
    {
     "name": "stdout",
     "output_type": "stream",
     "text": [
      "MSE\n",
      "0.7185177289722617\n"
     ]
    }
   ],
   "source": [
    "ABC_GAN1_metrics=ABC_train_test2.test_generator(gen,test_data,prior_model,variance,bias,\"1\",device)\n",
    "sb.glue(\"ABC_GAN_1 Metrics\",ABC_GAN1_metrics)\n",
    "\n",
    "print(\"MSE\")\n",
    "print(mean(ABC_GAN1_metrics[0]))"
   ]
  },
  {
   "cell_type": "code",
   "execution_count": 14,
   "id": "eb22ce5c",
   "metadata": {
    "execution": {
     "iopub.execute_input": "2022-06-22T12:20:20.296730Z",
     "iopub.status.busy": "2022-06-22T12:20:20.295965Z",
     "iopub.status.idle": "2022-06-22T12:20:21.051472Z",
     "shell.execute_reply": "2022-06-22T12:20:21.051941Z"
    },
    "papermill": {
     "duration": 0.804986,
     "end_time": "2022-06-22T12:20:21.052156",
     "exception": false,
     "start_time": "2022-06-22T12:20:20.247170",
     "status": "completed"
    },
    "tags": []
   },
   "outputs": [
    {
     "data": {
      "image/png": "[encoded data removed]",
      "text/plain": [
       "<Figure size 432x288 with 1 Axes>"
      ]
     },
     "metadata": {
      "needs_background": "light"
     },
     "output_type": "display_data"
    },
    {
     "data": {
      "image/png": "[encoded data removed]",
      "text/plain": [
       "<Figure size 432x288 with 1 Axes>"
      ]
     },
     "metadata": {
      "needs_background": "light"
     },
     "output_type": "display_data"
    },
    {
     "data": {
      "image/png": "[encoded data removed]",
      "text/plain": [
       "<Figure size 432x288 with 1 Axes>"
      ]
     },
     "metadata": {
      "needs_background": "light"
     },
     "output_type": "display_data"
    },
    {
     "data": {
      "image/png": "[encoded data removed]",
      "text/plain": [
       "<Figure size 432x288 with 1 Axes>"
      ]
     },
     "metadata": {
      "needs_background": "light"
     },
     "output_type": "display_data"
    }
   ],
   "source": [
    "sanityChecks.discProbVsError(train_data,disc,device)\n",
    "sanityChecks.discProbVsError(test_data,disc,device)"
   ]
  },
  {
   "cell_type": "markdown",
   "id": "130f3a4d",
   "metadata": {
    "id": "130f3a4d",
    "papermill": {
     "duration": 0.041677,
     "end_time": "2022-06-22T12:20:21.135876",
     "exception": false,
     "start_time": "2022-06-22T12:20:21.094199",
     "status": "completed"
    },
    "tags": []
   },
   "source": [
    "# ABC - GAN Model with skip connection"
   ]
  },
  {
   "cell_type": "code",
   "execution_count": 15,
   "id": "4e43dad1",
   "metadata": {
    "execution": {
     "iopub.execute_input": "2022-06-22T12:20:21.236437Z",
     "iopub.status.busy": "2022-06-22T12:20:21.234564Z",
     "iopub.status.idle": "2022-06-22T12:20:21.238209Z",
     "shell.execute_reply": "2022-06-22T12:20:21.238734Z"
    },
    "id": "4e43dad1",
    "papermill": {
     "duration": 0.060829,
     "end_time": "2022-06-22T12:20:21.238959",
     "exception": false,
     "start_time": "2022-06-22T12:20:21.178130",
     "status": "completed"
    },
    "tags": []
   },
   "outputs": [],
   "source": [
    "#Generator\n",
    "gen3 = network.GeneratorWithSkipConnection(n_features+1).to(device)\n",
    "constraints=network.weightConstraint()\n",
    "#Discriminator \n",
    "disc3 = network.Discriminator(n_features+1).to(device)\n",
    "\n",
    "criterion = torch.nn.BCELoss()\n",
    "gen_opt = torch.optim.Adam(gen3.parameters(), lr=0.001, betas=(0.5, 0.999))\n",
    "disc_opt = torch.optim.Adam(disc3.parameters(), lr=0.001, betas=(0.5, 0.999))\n"
   ]
  },
  {
   "cell_type": "code",
   "execution_count": 16,
   "id": "26acbc37",
   "metadata": {
    "execution": {
     "iopub.execute_input": "2022-06-22T12:20:21.344617Z",
     "iopub.status.busy": "2022-06-22T12:20:21.342523Z",
     "iopub.status.idle": "2022-06-22T12:21:30.105620Z",
     "shell.execute_reply": "2022-06-22T12:21:30.106323Z"
    },
    "id": "26acbc37",
    "papermill": {
     "duration": 68.82596,
     "end_time": "2022-06-22T12:21:30.106541",
     "exception": false,
     "start_time": "2022-06-22T12:20:21.280581",
     "status": "completed"
    },
    "tags": []
   },
   "outputs": [
    {
     "data": {
      "image/png": "[encoded data removed]",
      "text/plain": [
       "<Figure size 432x288 with 1 Axes>"
      ]
     },
     "metadata": {
      "needs_background": "light"
     },
     "output_type": "display_data"
    },
    {
     "data": {
      "image/png": "[encoded data removed]",
      "text/plain": [
       "<Figure size 432x288 with 1 Axes>"
      ]
     },
     "metadata": {
      "needs_background": "light"
     },
     "output_type": "display_data"
    }
   ],
   "source": [
    "ABC_train_test2.training_GAN_skip_connection(disc3,gen3,disc_opt,gen_opt,train_data,batch_size,n_epochs,criterion,prior_model,variance,bias,device)"
   ]
  },
  {
   "cell_type": "code",
   "execution_count": 17,
   "id": "c5e0717b",
   "metadata": {
    "execution": {
     "iopub.execute_input": "2022-06-22T12:21:30.214292Z",
     "iopub.status.busy": "2022-06-22T12:21:30.213238Z",
     "iopub.status.idle": "2022-06-22T12:21:31.029968Z",
     "shell.execute_reply": "2022-06-22T12:21:31.030710Z"
    },
    "id": "c5e0717b",
    "papermill": {
     "duration": 0.880515,
     "end_time": "2022-06-22T12:21:31.030922",
     "exception": false,
     "start_time": "2022-06-22T12:21:30.150407",
     "status": "completed"
    },
    "tags": []
   },
   "outputs": [
    {
     "data": {
      "application/scrapbook.scrap.json+json": {
       "data": 0.6731557812874516,
       "encoder": "json",
       "name": "ABC-GAN Model 3 MSE",
       "version": 1
      }
     },
     "metadata": {
      "scrapbook": {
       "data": true,
       "display": false,
       "name": "ABC-GAN Model 3 MSE"
      }
     },
     "output_type": "display_data"
    },
    {
     "data": {
      "application/scrapbook.scrap.json+json": {
       "data": 0.399009662790224,
       "encoder": "json",
       "name": "ABC-GAN Model 3 MAE",
       "version": 1
      }
     },
     "metadata": {
      "scrapbook": {
       "data": true,
       "display": false,
       "name": "ABC-GAN Model 3 MAE"
      }
     },
     "output_type": "display_data"
    },
    {
     "data": {
      "application/scrapbook.scrap.json+json": {
       "data": 7.980193255804479,
       "encoder": "json",
       "name": "ABC-GAN Model 3 Manhattan Distance",
       "version": 1
      }
     },
     "metadata": {
      "scrapbook": {
       "data": true,
       "display": false,
       "name": "ABC-GAN Model 3 Manhattan Distance"
      }
     },
     "output_type": "display_data"
    },
    {
     "data": {
      "application/scrapbook.scrap.json+json": {
       "data": 3.6681902121967638,
       "encoder": "json",
       "name": "ABC-GAN Model 3 Euclidean distance",
       "version": 1
      }
     },
     "metadata": {
      "scrapbook": {
       "data": true,
       "display": false,
       "name": "ABC-GAN Model 3 Euclidean distance"
      }
     },
     "output_type": "display_data"
    },
    {
     "data": {
      "application/scrapbook.scrap.json+json": {
       "data": [
        [
         0.6866537137413566,
         0.7215307345710501,
         0.6901577237596731,
         0.6564021310091535,
         0.6919817123349083,
         0.7112239039967013,
         0.7341526961461053,
         0.6882756058748433,
         0.6557373450281933,
         0.6824197141885445,
         0.7143088654387212,
         0.6573572569590478,
         0.6427932683873813,
         0.7034449866889547,
         0.6613949221910527,
         0.6693713191992785,
         0.694238154083776,
         0.7086708486038304,
         0.6895947145384167,
         0.6896516514578395,
         0.6802343343682749,
         0.7042308383367898,
         0.6775661068304636,
         0.6304257096468326,
         0.6656024544055903,
         0.6303981531682623,
         0.6390511538791903,
         0.6613301953043307,
         0.6451331742415741,
         0.6814768988189026,
         0.6788383894098589,
         0.6464462165422079,
         0.675583675300271,
         0.6919448381494119,
         0.7322515931761986,
         0.6709808116201346,
         0.661161071743034,
         0.71681317915567,
         0.6346515655315204,
         0.615542411557584,
         0.7096706249214438,
         0.6618440097462083,
         0.6650249788648421,
         0.6494991306565592,
         0.6694912443698499,
         0.6518719450919391,
         0.677072622058484,
         0.6481640886301173,
         0.7068298983180996,
         0.6632047726476527,
         0.642620481085461,
         0.7232859874504634,
         0.683811328651152,
         0.6834692765236582,
         0.6739998412028498,
         0.6865332596087143,
         0.631415318380985,
         0.6435075767081704,
         0.6636893723370315,
         0.6817758351801502,
         0.7471343998893921,
         0.7089731448319195,
         0.7283609015469565,
         0.6998340328201437,
         0.6063165959015497,
         0.6981589477706234,
         0.6505314543358087,
         0.659507060229289,
         0.6816658720198147,
         0.6226561417443495,
         0.7016603490860233,
         0.6542615308168749,
         0.6437715505533566,
         0.7158262790698707,
         0.6392620570703114,
         0.718680312463532,
         0.6823304201646134,
         0.6230790096193483,
         0.6418517552513696,
         0.6861442521505043,
         0.6224884436054656,
         0.6474570624512891,
         0.6839755377727915,
         0.6992676114447797,
         0.6321263628689786,
         0.7021635163378834,
         0.6976964268630503,
         0.6826724968345899,
         0.6300639287034674,
         0.6246889832900748,
         0.731349611312524,
         0.7180216775201315,
         0.6317162566549331,
         0.696526443765238,
         0.6557098349876942,
         0.6908251304029838,
         0.6181677021957868,
         0.6420701096178162,
         0.6222422255585819,
         0.6705370674026818
        ],
        [
         0.40889711659401656,
         0.4158234676346183,
         0.404993630759418,
         0.38923674914985895,
         0.41220816858112813,
         0.40709592793136834,
         0.42433247435837984,
         0.4011285145767033,
         0.4078096145763993,
         0.4037366810254753,
         0.41073110420256853,
         0.402684635296464,
         0.386131251975894,
         0.4077177886851132,
         0.4029106454923749,
         0.40147634614259003,
         0.40222144927829506,
         0.42059268299490216,
         0.4130991643294692,
         0.40890436973422767,
         0.4014165626838803,
         0.4133387038484216,
         0.41552908811718225,
         0.37394759673625233,
         0.3875502062961459,
         0.38931245896965266,
         0.40667629297822716,
         0.42244689743965863,
         0.3958744389936328,
         0.3966883417218924,
         0.40628578029572965,
         0.3863971265032887,
         0.41131960563361647,
         0.386355440877378,
         0.42427225653082135,
         0.3895823867991567,
         0.3941642472520471,
         0.4068868227303028,
         0.3909511113539338,
         0.37807503808289766,
         0.3929158927872777,
         0.3795526372268796,
         0.39871938768774273,
         0.41311958711594343,
         0.4193244444206357,
         0.4045046383515,
         0.3978740615770221,
         0.4024343196302652,
         0.40695987138897183,
         0.39996245708316563,
         0.3993397314101458,
         0.42969458382576703,
         0.4210216118022799,
         0.40034722033888104,
         0.40485195964574816,
         0.378972146846354,
         0.38797564152628183,
         0.39922009147703647,
         0.37519535776227714,
         0.41777700204402207,
         0.40811928566545247,
         0.3970653867349029,
         0.4119240019470453,
         0.3955551417544484,
         0.38651865553110837,
         0.4010269019752741,
         0.40750083010643723,
         0.41218264047056435,
         0.3956143954768777,
         0.3851066408678889,
         0.41334863696247337,
         0.3857033794745803,
         0.4014764891937375,
         0.4179721323773265,
         0.379169325530529,
         0.40454928483814,
         0.39116840828210114,
         0.3858416980132461,
         0.4160449868068099,
         0.39573970045894385,
         0.4015497824177146,
         0.3779813164845109,
         0.3795592708513141,
         0.38855479210615157,
         0.3828051699325442,
         0.3979862155392766,
         0.3858431184664369,
         0.3991467149928212,
         0.37701591309159993,
         0.39273220766335726,
         0.39637117460370064,
         0.39911204632371666,
         0.3801396518945694,
         0.39939390793442725,
         0.3836279159411788,
         0.39462407063692806,
         0.38502850104123354,
         0.4012602301314473,
         0.36314103389158847,
         0.3849004914984107
        ],
        [
         8.177942331880331,
         8.316469352692366,
         8.09987261518836,
         7.784734982997179,
         8.244163371622562,
         8.141918558627367,
         8.486649487167597,
         8.022570291534066,
         8.156192291527987,
         8.074733620509505,
         8.21462208405137,
         8.05369270592928,
         7.7226250395178795,
         8.154355773702264,
         8.058212909847498,
         8.029526922851801,
         8.0444289855659,
         8.411853659898043,
         8.261983286589384,
         8.178087394684553,
         8.028331253677607,
         8.266774076968431,
         8.310581762343645,
         7.478951934725046,
         7.751004125922918,
         7.786249179393053,
         8.133525859564543,
         8.448937948793173,
         7.917488779872656,
         7.933766834437847,
         8.125715605914593,
         7.727942530065775,
         8.226392112672329,
         7.72710881754756,
         8.485445130616426,
         7.791647735983133,
         7.883284945040941,
         8.137736454606056,
         7.819022227078676,
         7.561500761657953,
         7.858317855745554,
         7.591052744537592,
         7.974387753754854,
         8.262391742318869,
         8.386488888412714,
         8.09009276703,
         7.9574812315404415,
         8.048686392605305,
         8.139197427779436,
         7.999249141663313,
         7.986794628202915,
         8.59389167651534,
         8.420432236045599,
         8.00694440677762,
         8.097039192914963,
         7.57944293692708,
         7.759512830525637,
         7.9844018295407295,
         7.5039071552455425,
         8.355540040880442,
         8.16238571330905,
         7.941307734698057,
         8.238480038940907,
         7.911102835088968,
         7.730373110622168,
         8.020538039505482,
         8.150016602128744,
         8.243652809411287,
         7.912287909537554,
         7.7021328173577785,
         8.266972739249468,
         7.714067589491606,
         8.02952978387475,
         8.35944264754653,
         7.5833865106105804,
         8.0909856967628,
         7.823368165642023,
         7.716833960264921,
         8.320899736136198,
         7.914794009178877,
         8.030995648354292,
         7.559626329690218,
         7.591185417026281,
         7.771095842123032,
         7.656103398650885,
         7.959724310785532,
         7.716862369328737,
         7.982934299856424,
         7.540318261831999,
         7.854644153267145,
         7.927423492074013,
         7.982240926474333,
         7.602793037891388,
         7.987878158688545,
         7.672558318823576,
         7.892481412738562,
         7.700570020824671,
         8.025204602628946,
         7.262820677831769,
         7.698009829968214
        ],
        [
         3.7058162764534255,
         3.798764890253278,
         3.715259678029715,
         3.623264083693468,
         3.7201658896745675,
         3.771535241772775,
         3.8318473251060126,
         3.7101903074501266,
         3.6214288479223034,
         3.69437332761199,
         3.77970598178938,
         3.6258992180121274,
         3.585507686192797,
         3.7508532007770032,
         3.637017795367662,
         3.658883215406795,
         3.7262263862620477,
         3.7647598823931134,
         3.7137439721618306,
         3.7138972830648918,
         3.6884531564553584,
         3.752947743672405,
         3.6812120472215764,
         3.550846968391718,
         3.6485680873613697,
         3.5507693621756458,
         3.5750556747530244,
         3.636839824089949,
         3.5920277678257833,
         3.6918204149684817,
         3.684666577615562,
         3.595681344452559,
         3.6758228338707264,
         3.720066768619649,
         3.8268827867500685,
         3.663279436843809,
         3.6363747654581307,
         3.7863258685846626,
         3.5627280713844,
         3.5086818366947545,
         3.7674145641844192,
         3.6382523544861707,
         3.646984998227555,
         3.604161846134435,
         3.659210965139479,
         3.6107393843697415,
         3.6798712533415725,
         3.6004557728990845,
         3.759866748484844,
         3.641990589355367,
         3.5850257490998887,
         3.8033826719131567,
         3.6981382576944086,
         3.697213211389514,
         3.67151151762554,
         3.7054912214407256,
         3.5536328408573254,
         3.5874993427404847,
         3.643320936555086,
         3.6926300523614604,
         3.865577317528113,
         3.765562759620186,
         3.8167025075238876,
         3.741213794532848,
         3.4822883163274967,
         3.73673372819264,
         3.607024963417383,
         3.6318233994215325,
         3.6923322494591804,
         3.5288982466043124,
         3.7460922281386058,
         3.6173513260861867,
         3.5882350830271883,
         3.783718486013119,
         3.5756455558970366,
         3.7912539151672022,
         3.694131616942237,
         3.5300963432159986,
         3.582880838798214,
         3.7044412592198146,
         3.5284230007340835,
         3.5984915241008673,
         3.698582262902345,
         3.7396994837681268,
         3.5556331724995998,
         3.747435166451538,
         3.7354957552192456,
         3.695057501134697,
         3.549827964010277,
         3.5346541083678185,
         3.824525098133163,
         3.7895162686552264,
         3.554479586816987,
         3.7323623719173837,
         3.6213528825224808,
         3.7170556369335763,
         3.5161561461225994,
         3.5834902249561567,
         3.527725118425703,
         3.662067905986129
        ]
       ],
       "encoder": "json",
       "name": "ABC_GAN_3 Metrics",
       "version": 1
      }
     },
     "metadata": {
      "scrapbook": {
       "data": true,
       "display": false,
       "name": "ABC_GAN_3 Metrics"
      }
     },
     "output_type": "display_data"
    },
    {
     "name": "stdout",
     "output_type": "stream",
     "text": [
      "MSE\n",
      "0.6731557812874516\n"
     ]
    }
   ],
   "source": [
    "ABC_GAN3_metrics=ABC_train_test2.test_generator(gen3,test_data,prior_model,variance,bias,\"3\",device)\n",
    "sb.glue(\"ABC_GAN_3 Metrics\",ABC_GAN3_metrics)\n",
    "\n",
    "print(\"MSE\")\n",
    "print(mean(ABC_GAN3_metrics[0]))"
   ]
  },
  {
   "cell_type": "code",
   "execution_count": 18,
   "id": "c8e46b48",
   "metadata": {
    "execution": {
     "iopub.execute_input": "2022-06-22T12:21:31.223060Z",
     "iopub.status.busy": "2022-06-22T12:21:31.221975Z",
     "iopub.status.idle": "2022-06-22T12:21:31.907248Z",
     "shell.execute_reply": "2022-06-22T12:21:31.909214Z"
    },
    "id": "c8e46b48",
    "papermill": {
     "duration": 0.780276,
     "end_time": "2022-06-22T12:21:31.909488",
     "exception": false,
     "start_time": "2022-06-22T12:21:31.129212",
     "status": "completed"
    },
    "tags": []
   },
   "outputs": [
    {
     "data": {
      "image/png": "[encoded data removed]",
      "text/plain": [
       "<Figure size 432x288 with 1 Axes>"
      ]
     },
     "metadata": {
      "needs_background": "light"
     },
     "output_type": "display_data"
    },
    {
     "data": {
      "image/png": "[encoded data removed]",
      "text/plain": [
       "<Figure size 432x288 with 1 Axes>"
      ]
     },
     "metadata": {
      "needs_background": "light"
     },
     "output_type": "display_data"
    },
    {
     "data": {
      "image/png": "[encoded data removed]",
      "text/plain": [
       "<Figure size 432x288 with 1 Axes>"
      ]
     },
     "metadata": {
      "needs_background": "light"
     },
     "output_type": "display_data"
    },
    {
     "data": {
      "image/png": "[encoded data removed]",
      "text/plain": [
       "<Figure size 432x288 with 1 Axes>"
      ]
     },
     "metadata": {
      "needs_background": "light"
     },
     "output_type": "display_data"
    }
   ],
   "source": [
    "sanityChecks.discProbVsError(train_data,disc3,device)\n",
    "sanityChecks.discProbVsError(test_data,disc3,device)"
   ]
  },
  {
   "cell_type": "markdown",
   "id": "a5bd74c3",
   "metadata": {
    "id": "a5bd74c3",
    "papermill": {
     "duration": 0.057945,
     "end_time": "2022-06-22T12:21:32.013143",
     "exception": false,
     "start_time": "2022-06-22T12:21:31.955198",
     "status": "completed"
    },
    "tags": []
   },
   "source": [
    "## Skip Connection Model Analysis - ABC-GAN "
   ]
  },
  {
   "cell_type": "markdown",
   "id": "5744a8bf",
   "metadata": {
    "id": "5744a8bf",
    "papermill": {
     "duration": 0.060034,
     "end_time": "2022-06-22T12:21:32.131674",
     "exception": false,
     "start_time": "2022-06-22T12:21:32.071640",
     "status": "completed"
    },
    "tags": []
   },
   "source": [
    "### Weight Analysis \n",
    "\n",
    "Study the weights of the skip connection layer\n",
    "\n",
    "Equation of the skip connection is \n",
    "\n",
    "$output = y_{gan} * w + y_{abc} * (1-w)$"
   ]
  },
  {
   "cell_type": "code",
   "execution_count": 19,
   "id": "52c31dea",
   "metadata": {
    "execution": {
     "iopub.execute_input": "2022-06-22T12:21:32.252321Z",
     "iopub.status.busy": "2022-06-22T12:21:32.249109Z",
     "iopub.status.idle": "2022-06-22T12:21:32.256262Z",
     "shell.execute_reply": "2022-06-22T12:21:32.256760Z"
    },
    "id": "52c31dea",
    "papermill": {
     "duration": 0.076192,
     "end_time": "2022-06-22T12:21:32.257071",
     "exception": false,
     "start_time": "2022-06-22T12:21:32.180879",
     "status": "completed"
    },
    "tags": []
   },
   "outputs": [
    {
     "name": "stdout",
     "output_type": "stream",
     "text": [
      "Weight of the node at skip connection\n",
      "Parameter containing:\n",
      "tensor([[0.0695]], requires_grad=True)\n"
     ]
    },
    {
     "data": {
      "application/scrapbook.scrap.json+json": {
       "data": 0.06949649751186371,
       "encoder": "json",
       "name": "Skip Connection Weight",
       "version": 1
      }
     },
     "metadata": {
      "scrapbook": {
       "data": true,
       "display": false,
       "name": "Skip Connection Weight"
      }
     },
     "output_type": "display_data"
    }
   ],
   "source": [
    "print(\"Weight of the node at skip connection\")\n",
    "for name,param in gen3.named_parameters():\n",
    "    if(name == \"skipNode.weight\"):\n",
    "        print(param)\n",
    "        sb.glue(\"Skip Connection Weight\",param.item())"
   ]
  }
 ],
 "metadata": {
  "colab": {
   "collapsed_sections": [],
   "name": "ABC_GAN_Model-Catboost_Pre-gen.ipynb",
   "provenance": []
  },
  "interpreter": {
   "hash": "31f2aee4e71d21fbe5cf8b01ff0e069b9275f58929596ceb00d14d90e3e16cd6"
  },
  "kernelspec": {
   "display_name": "Python 3 (ipykernel)",
   "language": "python",
   "name": "python3"
  },
  "language_info": {
   "codemirror_mode": {
    "name": "ipython",
    "version": 3
   },
   "file_extension": ".py",
   "mimetype": "text/x-python",
   "name": "python",
   "nbconvert_exporter": "python",
   "pygments_lexer": "ipython3",
   "version": "3.8.3"
  },
  "papermill": {
   "default_parameters": {},
   "duration": 139.223775,
   "end_time": "2022-06-22T12:21:33.190757",
   "environment_variables": {},
   "exception": null,
   "input_path": "ABC_GAN-TabNet.ipynb",
   "output_path": "./ABC_GAN_TabNet/ABC-GAN_output_2_10.ipynb",
   "parameters": {
    "bias": 0,
    "variance": 0.1
   },
   "start_time": "2022-06-22T12:19:13.966982",
   "version": "2.3.3"
  }
 },
 "nbformat": 4,
 "nbformat_minor": 5
}