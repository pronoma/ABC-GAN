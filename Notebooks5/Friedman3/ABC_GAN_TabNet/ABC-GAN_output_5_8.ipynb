{
 "cells": [
  {
   "cell_type": "markdown",
   "id": "622780e6",
   "metadata": {
    "id": "622780e6",
    "papermill": {
     "duration": 0.02775,
     "end_time": "2022-06-22T13:54:58.674875",
     "exception": false,
     "start_time": "2022-06-22T13:54:58.647125",
     "status": "completed"
    },
    "tags": []
   },
   "source": [
    "## Import Libraries "
   ]
  },
  {
   "cell_type": "code",
   "execution_count": 1,
   "id": "a62397e3",
   "metadata": {
    "execution": {
     "iopub.execute_input": "2022-06-22T13:54:58.747543Z",
     "iopub.status.busy": "2022-06-22T13:54:58.746542Z",
     "iopub.status.idle": "2022-06-22T13:54:58.748944Z",
     "shell.execute_reply": "2022-06-22T13:54:58.748247Z"
    },
    "id": "a62397e3",
    "papermill": {
     "duration": 0.047899,
     "end_time": "2022-06-22T13:54:58.749215",
     "exception": false,
     "start_time": "2022-06-22T13:54:58.701316",
     "status": "completed"
    },
    "tags": []
   },
   "outputs": [],
   "source": [
    "import warnings\n",
    "import sys\n",
    "sys.path.insert(0, '../../src')\n",
    "warnings.filterwarnings('ignore')"
   ]
  },
  {
   "cell_type": "code",
   "execution_count": 2,
   "id": "d6a4e155",
   "metadata": {
    "execution": {
     "iopub.execute_input": "2022-06-22T13:54:58.793428Z",
     "iopub.status.busy": "2022-06-22T13:54:58.792586Z",
     "iopub.status.idle": "2022-06-22T13:55:05.333584Z",
     "shell.execute_reply": "2022-06-22T13:55:05.334508Z"
    },
    "id": "d6a4e155",
    "papermill": {
     "duration": 6.567615,
     "end_time": "2022-06-22T13:55:05.334793",
     "exception": false,
     "start_time": "2022-06-22T13:54:58.767178",
     "status": "completed"
    },
    "tags": []
   },
   "outputs": [],
   "source": [
    "import ABC_train_test2\n",
    "import friedman3Dataset\n",
    "import network\n",
    "import dataset\n",
    "import sanityChecks\n",
    "import torch \n",
    "import scrapbook as sb\n",
    "from statistics import mean \n",
    "import catboost as ctb \n",
    "from sklearn.model_selection import train_test_split\n",
    "from sklearn.metrics import mean_squared_error,mean_absolute_error\n",
    "import numpy as np\n",
    "from pytorch_tabnet.tab_model import TabNetRegressor"
   ]
  },
  {
   "cell_type": "markdown",
   "id": "2fa5b0f7",
   "metadata": {
    "id": "2fa5b0f7",
    "papermill": {
     "duration": 0.02158,
     "end_time": "2022-06-22T13:55:05.374241",
     "exception": false,
     "start_time": "2022-06-22T13:55:05.352661",
     "status": "completed"
    },
    "tags": []
   },
   "source": [
    "## Parameters "
   ]
  },
  {
   "cell_type": "code",
   "execution_count": 3,
   "id": "783186fb",
   "metadata": {
    "execution": {
     "iopub.execute_input": "2022-06-22T13:55:05.426613Z",
     "iopub.status.busy": "2022-06-22T13:55:05.425369Z",
     "iopub.status.idle": "2022-06-22T13:55:05.428530Z",
     "shell.execute_reply": "2022-06-22T13:55:05.429066Z"
    },
    "id": "783186fb",
    "papermill": {
     "duration": 0.035256,
     "end_time": "2022-06-22T13:55:05.429321",
     "exception": false,
     "start_time": "2022-06-22T13:55:05.394065",
     "status": "completed"
    },
    "tags": [
     "parameters"
    ]
   },
   "outputs": [],
   "source": [
    "variance = 1\n",
    "bias = 1 "
   ]
  },
  {
   "cell_type": "code",
   "execution_count": 4,
   "id": "0d643aa0",
   "metadata": {
    "execution": {
     "iopub.execute_input": "2022-06-22T13:55:05.474487Z",
     "iopub.status.busy": "2022-06-22T13:55:05.472738Z",
     "iopub.status.idle": "2022-06-22T13:55:05.475746Z",
     "shell.execute_reply": "2022-06-22T13:55:05.476809Z"
    },
    "papermill": {
     "duration": 0.028348,
     "end_time": "2022-06-22T13:55:05.477607",
     "exception": false,
     "start_time": "2022-06-22T13:55:05.449259",
     "status": "completed"
    },
    "tags": [
     "injected-parameters"
    ]
   },
   "outputs": [],
   "source": [
    "# Parameters\n",
    "variance = 0.01\n",
    "bias = 0.01\n"
   ]
  },
  {
   "cell_type": "markdown",
   "id": "391cdbfd",
   "metadata": {
    "id": "391cdbfd",
    "papermill": {
     "duration": 0.036874,
     "end_time": "2022-06-22T13:55:05.541276",
     "exception": false,
     "start_time": "2022-06-22T13:55:05.504402",
     "status": "completed"
    },
    "tags": []
   },
   "source": [
    "## Dataset \n"
   ]
  },
  {
   "cell_type": "code",
   "execution_count": 5,
   "id": "5b51f161",
   "metadata": {
    "execution": {
     "iopub.execute_input": "2022-06-22T13:55:05.581794Z",
     "iopub.status.busy": "2022-06-22T13:55:05.580830Z",
     "iopub.status.idle": "2022-06-22T13:55:05.583046Z",
     "shell.execute_reply": "2022-06-22T13:55:05.583582Z"
    },
    "id": "5b51f161",
    "papermill": {
     "duration": 0.025016,
     "end_time": "2022-06-22T13:55:05.583861",
     "exception": false,
     "start_time": "2022-06-22T13:55:05.558845",
     "status": "completed"
    },
    "tags": []
   },
   "outputs": [],
   "source": [
    "#Parameters \n",
    "n_features = 4\n",
    "n_samples= 100\n",
    "n_target = 1"
   ]
  },
  {
   "cell_type": "code",
   "execution_count": 6,
   "id": "5d6eced4",
   "metadata": {
    "execution": {
     "iopub.execute_input": "2022-06-22T13:55:05.623951Z",
     "iopub.status.busy": "2022-06-22T13:55:05.623138Z",
     "iopub.status.idle": "2022-06-22T13:55:05.637080Z",
     "shell.execute_reply": "2022-06-22T13:55:05.637937Z"
    },
    "id": "5d6eced4",
    "papermill": {
     "duration": 0.03825,
     "end_time": "2022-06-22T13:55:05.638258",
     "exception": false,
     "start_time": "2022-06-22T13:55:05.600008",
     "status": "completed"
    },
    "tags": []
   },
   "outputs": [
    {
     "name": "stdout",
     "output_type": "stream",
     "text": [
      "          X1           X2        X3        X4         Y\n",
      "0  46.585511   726.390836  0.415422  7.861805  1.356022\n",
      "1  71.167567   144.966125  0.516201  2.299368  0.929238\n",
      "2  13.831706  1644.349825  0.415030  2.354034  1.424854\n",
      "3  91.915302  1306.958600  0.855297  5.875971  1.511322\n",
      "4  13.906686  1220.943863  0.978195  3.295816  1.720933\n"
     ]
    }
   ],
   "source": [
    "X,Y = friedman3Dataset.friedman3_data(n_samples)"
   ]
  },
  {
   "cell_type": "code",
   "execution_count": 7,
   "id": "fe007438",
   "metadata": {
    "execution": {
     "iopub.execute_input": "2022-06-22T13:55:05.684018Z",
     "iopub.status.busy": "2022-06-22T13:55:05.683211Z",
     "iopub.status.idle": "2022-06-22T13:55:05.686185Z",
     "shell.execute_reply": "2022-06-22T13:55:05.687463Z"
    },
    "id": "fe007438",
    "papermill": {
     "duration": 0.036406,
     "end_time": "2022-06-22T13:55:05.691019",
     "exception": false,
     "start_time": "2022-06-22T13:55:05.654613",
     "status": "completed"
    },
    "tags": []
   },
   "outputs": [],
   "source": [
    "#Train test split for dataset \n",
    "X_train,X_test,Y_train,Y_test = train_test_split(X,Y,test_size = 0.2)\n",
    "train_data = dataset.CustomDataset(X_train,Y_train)\n",
    "test_data = dataset.CustomDataset(X_test,Y_test)\n"
   ]
  },
  {
   "cell_type": "markdown",
   "id": "a9a1af34",
   "metadata": {
    "id": "a9a1af34",
    "papermill": {
     "duration": 0.019102,
     "end_time": "2022-06-22T13:55:05.730898",
     "exception": false,
     "start_time": "2022-06-22T13:55:05.711796",
     "status": "completed"
    },
    "tags": []
   },
   "source": [
    "## Training Parameters "
   ]
  },
  {
   "cell_type": "code",
   "execution_count": 8,
   "id": "952b7fc8",
   "metadata": {
    "execution": {
     "iopub.execute_input": "2022-06-22T13:55:05.777153Z",
     "iopub.status.busy": "2022-06-22T13:55:05.775565Z",
     "iopub.status.idle": "2022-06-22T13:55:05.779914Z",
     "shell.execute_reply": "2022-06-22T13:55:05.779130Z"
    },
    "id": "952b7fc8",
    "papermill": {
     "duration": 0.030815,
     "end_time": "2022-06-22T13:55:05.780152",
     "exception": false,
     "start_time": "2022-06-22T13:55:05.749337",
     "status": "completed"
    },
    "tags": []
   },
   "outputs": [],
   "source": [
    "batch_size = 32\n",
    "n_epochs = 1000\n",
    "#Select the device \n",
    "device = torch.device('cuda' if torch.cuda.is_available() else 'cpu')"
   ]
  },
  {
   "cell_type": "markdown",
   "id": "a95e1600",
   "metadata": {
    "id": "a95e1600",
    "papermill": {
     "duration": 0.026839,
     "end_time": "2022-06-22T13:55:05.824886",
     "exception": false,
     "start_time": "2022-06-22T13:55:05.798047",
     "status": "completed"
    },
    "tags": []
   },
   "source": [
    "# ABC Pre-generator Model \n",
    "\n",
    "1. The catboost model is used as a pre-generator model for the ABC-GAN. \n",
    "2. The model is first trained on the entire dataset \n",
    "3. It generats X,Y pairs and we add some Gaussian noise with mean 0 and variance 1 to it which is then feed as input to the generator.\n"
   ]
  },
  {
   "cell_type": "code",
   "execution_count": 9,
   "id": "ff8ce7bd",
   "metadata": {
    "execution": {
     "iopub.execute_input": "2022-06-22T13:55:05.866428Z",
     "iopub.status.busy": "2022-06-22T13:55:05.865126Z",
     "iopub.status.idle": "2022-06-22T13:55:21.725832Z",
     "shell.execute_reply": "2022-06-22T13:55:21.726538Z"
    },
    "id": "ff8ce7bd",
    "papermill": {
     "duration": 15.884476,
     "end_time": "2022-06-22T13:55:21.726750",
     "exception": false,
     "start_time": "2022-06-22T13:55:05.842274",
     "status": "completed"
    },
    "tags": []
   },
   "outputs": [
    {
     "name": "stdout",
     "output_type": "stream",
     "text": [
      "Device used : cpu\n"
     ]
    },
    {
     "name": "stdout",
     "output_type": "stream",
     "text": [
      "epoch 0  | loss: 1.03691 | train_mse: 1.81833 | train_mae: 1.0568  |  0:00:00s\n",
      "epoch 1  | loss: 0.53697 | train_mse: 1.50556 | train_mae: 0.99178 |  0:00:00s\n",
      "epoch 2  | loss: 0.82817 | train_mse: 1.46379 | train_mae: 0.97351 |  0:00:00s\n"
     ]
    },
    {
     "name": "stdout",
     "output_type": "stream",
     "text": [
      "epoch 3  | loss: 0.52348 | train_mse: 1.20702 | train_mae: 0.86076 |  0:00:00s\n",
      "epoch 4  | loss: 0.62825 | train_mse: 1.29185 | train_mae: 0.85538 |  0:00:00s\n",
      "epoch 5  | loss: 0.51106 | train_mse: 1.05587 | train_mae: 0.82164 |  0:00:00s\n"
     ]
    },
    {
     "name": "stdout",
     "output_type": "stream",
     "text": [
      "epoch 6  | loss: 0.38037 | train_mse: 1.01742 | train_mae: 0.78461 |  0:00:00s\n",
      "epoch 7  | loss: 0.45525 | train_mse: 0.83761 | train_mae: 0.67822 |  0:00:00s\n",
      "epoch 8  | loss: 0.33239 | train_mse: 0.66367 | train_mae: 0.57686 |  0:00:00s\n"
     ]
    },
    {
     "name": "stdout",
     "output_type": "stream",
     "text": [
      "epoch 9  | loss: 0.44726 | train_mse: 0.57903 | train_mae: 0.5554  |  0:00:00s\n",
      "epoch 10 | loss: 0.35135 | train_mse: 0.5739  | train_mae: 0.57079 |  0:00:01s\n",
      "epoch 11 | loss: 0.33942 | train_mse: 0.50164 | train_mae: 0.54871 |  0:00:01s\n"
     ]
    },
    {
     "name": "stdout",
     "output_type": "stream",
     "text": [
      "epoch 12 | loss: 0.42712 | train_mse: 0.45362 | train_mae: 0.51283 |  0:00:01s\n",
      "epoch 13 | loss: 0.2808  | train_mse: 0.48079 | train_mae: 0.50568 |  0:00:01s\n",
      "epoch 14 | loss: 0.30501 | train_mse: 0.47497 | train_mae: 0.52652 |  0:00:01s\n"
     ]
    },
    {
     "name": "stdout",
     "output_type": "stream",
     "text": [
      "epoch 15 | loss: 0.47082 | train_mse: 0.4946  | train_mae: 0.55091 |  0:00:01s\n",
      "epoch 16 | loss: 0.28792 | train_mse: 0.40995 | train_mae: 0.51657 |  0:00:01s\n",
      "epoch 17 | loss: 0.34109 | train_mse: 0.3074  | train_mae: 0.4508  |  0:00:01s\n"
     ]
    },
    {
     "name": "stdout",
     "output_type": "stream",
     "text": [
      "epoch 18 | loss: 0.2952  | train_mse: 0.2723  | train_mae: 0.41009 |  0:00:01s\n",
      "epoch 19 | loss: 0.30601 | train_mse: 0.46095 | train_mae: 0.49261 |  0:00:01s\n",
      "epoch 20 | loss: 0.31739 | train_mse: 0.45191 | train_mae: 0.48034 |  0:00:01s\n"
     ]
    },
    {
     "name": "stdout",
     "output_type": "stream",
     "text": [
      "epoch 21 | loss: 0.22147 | train_mse: 0.41298 | train_mae: 0.47431 |  0:00:01s\n",
      "epoch 22 | loss: 0.32157 | train_mse: 0.31653 | train_mae: 0.43713 |  0:00:02s\n",
      "epoch 23 | loss: 0.19403 | train_mse: 0.24416 | train_mae: 0.39091 |  0:00:02s\n"
     ]
    },
    {
     "name": "stdout",
     "output_type": "stream",
     "text": [
      "epoch 24 | loss: 0.29638 | train_mse: 0.23379 | train_mae: 0.37377 |  0:00:02s\n",
      "epoch 25 | loss: 0.27424 | train_mse: 0.15734 | train_mae: 0.31324 |  0:00:02s\n",
      "epoch 26 | loss: 0.44086 | train_mse: 0.18097 | train_mae: 0.33241 |  0:00:02s\n"
     ]
    },
    {
     "name": "stdout",
     "output_type": "stream",
     "text": [
      "epoch 27 | loss: 0.27238 | train_mse: 0.22074 | train_mae: 0.36323 |  0:00:02s\n",
      "epoch 28 | loss: 0.29469 | train_mse: 0.23993 | train_mae: 0.36799 |  0:00:02s\n",
      "epoch 29 | loss: 0.24253 | train_mse: 0.21876 | train_mae: 0.38614 |  0:00:02s\n"
     ]
    },
    {
     "name": "stdout",
     "output_type": "stream",
     "text": [
      "epoch 30 | loss: 0.20524 | train_mse: 0.22041 | train_mae: 0.36103 |  0:00:02s\n",
      "epoch 31 | loss: 0.19936 | train_mse: 0.21862 | train_mae: 0.36993 |  0:00:02s\n",
      "epoch 32 | loss: 0.21425 | train_mse: 0.19514 | train_mae: 0.3407  |  0:00:02s\n"
     ]
    },
    {
     "name": "stdout",
     "output_type": "stream",
     "text": [
      "epoch 33 | loss: 0.24325 | train_mse: 0.1601  | train_mae: 0.3173  |  0:00:02s\n",
      "epoch 34 | loss: 0.15198 | train_mse: 0.15004 | train_mae: 0.3086  |  0:00:03s\n",
      "epoch 35 | loss: 0.29626 | train_mse: 0.12233 | train_mae: 0.2744  |  0:00:03s\n"
     ]
    },
    {
     "name": "stdout",
     "output_type": "stream",
     "text": [
      "epoch 36 | loss: 0.20548 | train_mse: 0.12589 | train_mae: 0.26543 |  0:00:03s\n",
      "epoch 37 | loss: 0.22266 | train_mse: 0.13071 | train_mae: 0.28853 |  0:00:03s\n",
      "epoch 38 | loss: 0.24054 | train_mse: 0.15482 | train_mae: 0.3184  |  0:00:03s\n"
     ]
    },
    {
     "name": "stdout",
     "output_type": "stream",
     "text": [
      "epoch 39 | loss: 0.19299 | train_mse: 0.11116 | train_mae: 0.26723 |  0:00:03s\n",
      "epoch 40 | loss: 0.23787 | train_mse: 0.11967 | train_mae: 0.26188 |  0:00:03s\n",
      "epoch 41 | loss: 0.2082  | train_mse: 0.12712 | train_mae: 0.26358 |  0:00:03s\n"
     ]
    },
    {
     "name": "stdout",
     "output_type": "stream",
     "text": [
      "epoch 42 | loss: 0.2311  | train_mse: 0.1051  | train_mae: 0.23826 |  0:00:03s\n",
      "epoch 43 | loss: 0.22198 | train_mse: 0.10423 | train_mae: 0.23336 |  0:00:03s\n",
      "epoch 44 | loss: 0.25334 | train_mse: 0.11312 | train_mae: 0.24185 |  0:00:03s\n"
     ]
    },
    {
     "name": "stdout",
     "output_type": "stream",
     "text": [
      "epoch 45 | loss: 0.15006 | train_mse: 0.13927 | train_mae: 0.28038 |  0:00:04s\n",
      "epoch 46 | loss: 0.2529  | train_mse: 0.11871 | train_mae: 0.26751 |  0:00:04s\n",
      "epoch 47 | loss: 0.31548 | train_mse: 0.09834 | train_mae: 0.24033 |  0:00:04s\n"
     ]
    },
    {
     "name": "stdout",
     "output_type": "stream",
     "text": [
      "epoch 48 | loss: 0.20228 | train_mse: 0.11308 | train_mae: 0.24492 |  0:00:04s\n",
      "epoch 49 | loss: 0.13911 | train_mse: 0.12484 | train_mae: 0.25729 |  0:00:04s\n",
      "epoch 50 | loss: 0.13435 | train_mse: 0.12072 | train_mae: 0.27115 |  0:00:04s\n"
     ]
    },
    {
     "name": "stdout",
     "output_type": "stream",
     "text": [
      "epoch 51 | loss: 0.20316 | train_mse: 0.11883 | train_mae: 0.2679  |  0:00:04s\n",
      "epoch 52 | loss: 0.20727 | train_mse: 0.12994 | train_mae: 0.26988 |  0:00:04s\n",
      "epoch 53 | loss: 0.14801 | train_mse: 0.1508  | train_mae: 0.29617 |  0:00:04s\n"
     ]
    },
    {
     "name": "stdout",
     "output_type": "stream",
     "text": [
      "epoch 54 | loss: 0.35965 | train_mse: 0.16732 | train_mae: 0.28233 |  0:00:04s\n",
      "epoch 55 | loss: 0.29977 | train_mse: 0.18522 | train_mae: 0.32303 |  0:00:04s\n",
      "epoch 56 | loss: 0.21642 | train_mse: 0.17034 | train_mae: 0.30958 |  0:00:04s\n"
     ]
    },
    {
     "name": "stdout",
     "output_type": "stream",
     "text": [
      "epoch 57 | loss: 0.21619 | train_mse: 0.13704 | train_mae: 0.27384 |  0:00:05s\n",
      "epoch 58 | loss: 0.2152  | train_mse: 0.12652 | train_mae: 0.27898 |  0:00:05s\n",
      "epoch 59 | loss: 0.29691 | train_mse: 0.1472  | train_mae: 0.3112  |  0:00:05s\n"
     ]
    },
    {
     "name": "stdout",
     "output_type": "stream",
     "text": [
      "epoch 60 | loss: 0.2261  | train_mse: 0.15025 | train_mae: 0.30814 |  0:00:05s\n",
      "epoch 61 | loss: 0.18899 | train_mse: 0.17233 | train_mae: 0.32323 |  0:00:05s\n",
      "epoch 62 | loss: 0.16198 | train_mse: 0.13994 | train_mae: 0.28093 |  0:00:05s\n"
     ]
    },
    {
     "name": "stdout",
     "output_type": "stream",
     "text": [
      "epoch 63 | loss: 0.22551 | train_mse: 0.12226 | train_mae: 0.28074 |  0:00:05s\n",
      "epoch 64 | loss: 0.22104 | train_mse: 0.1098  | train_mae: 0.26107 |  0:00:05s\n",
      "epoch 65 | loss: 0.14936 | train_mse: 0.13424 | train_mae: 0.28657 |  0:00:05s\n"
     ]
    },
    {
     "name": "stdout",
     "output_type": "stream",
     "text": [
      "epoch 66 | loss: 0.19866 | train_mse: 0.15124 | train_mae: 0.29561 |  0:00:05s\n",
      "epoch 67 | loss: 0.22876 | train_mse: 0.13096 | train_mae: 0.27914 |  0:00:05s\n",
      "epoch 68 | loss: 0.16561 | train_mse: 0.10648 | train_mae: 0.2634  |  0:00:06s\n"
     ]
    },
    {
     "name": "stdout",
     "output_type": "stream",
     "text": [
      "epoch 69 | loss: 0.22668 | train_mse: 0.11414 | train_mae: 0.26871 |  0:00:06s\n",
      "epoch 70 | loss: 0.15755 | train_mse: 0.10176 | train_mae: 0.26115 |  0:00:06s\n",
      "epoch 71 | loss: 0.17046 | train_mse: 0.0961  | train_mae: 0.26539 |  0:00:06s\n"
     ]
    },
    {
     "name": "stdout",
     "output_type": "stream",
     "text": [
      "epoch 72 | loss: 0.23777 | train_mse: 0.1442  | train_mae: 0.29573 |  0:00:06s\n",
      "epoch 73 | loss: 0.18438 | train_mse: 0.12602 | train_mae: 0.26606 |  0:00:06s\n",
      "epoch 74 | loss: 0.26762 | train_mse: 0.08369 | train_mae: 0.22963 |  0:00:06s\n"
     ]
    },
    {
     "name": "stdout",
     "output_type": "stream",
     "text": [
      "epoch 75 | loss: 0.2141  | train_mse: 0.07936 | train_mae: 0.22171 |  0:00:06s\n",
      "epoch 76 | loss: 0.09828 | train_mse: 0.08114 | train_mae: 0.22412 |  0:00:06s\n",
      "epoch 77 | loss: 0.23788 | train_mse: 0.09036 | train_mae: 0.23774 |  0:00:06s\n"
     ]
    },
    {
     "name": "stdout",
     "output_type": "stream",
     "text": [
      "epoch 78 | loss: 0.22754 | train_mse: 0.1255  | train_mae: 0.2713  |  0:00:06s\n",
      "epoch 79 | loss: 0.1857  | train_mse: 0.13723 | train_mae: 0.27731 |  0:00:06s\n",
      "epoch 80 | loss: 0.14792 | train_mse: 0.11871 | train_mae: 0.26255 |  0:00:06s\n"
     ]
    },
    {
     "name": "stdout",
     "output_type": "stream",
     "text": [
      "epoch 81 | loss: 0.21725 | train_mse: 0.09499 | train_mae: 0.24587 |  0:00:07s\n",
      "epoch 82 | loss: 0.22449 | train_mse: 0.11693 | train_mae: 0.26712 |  0:00:07s\n",
      "epoch 83 | loss: 0.17434 | train_mse: 0.15324 | train_mae: 0.29774 |  0:00:07s\n"
     ]
    },
    {
     "name": "stdout",
     "output_type": "stream",
     "text": [
      "epoch 84 | loss: 0.18844 | train_mse: 0.15929 | train_mae: 0.30632 |  0:00:07s\n",
      "epoch 85 | loss: 0.13625 | train_mse: 0.154   | train_mae: 0.28651 |  0:00:07s\n",
      "epoch 86 | loss: 0.1141  | train_mse: 0.15921 | train_mae: 0.28531 |  0:00:07s\n"
     ]
    },
    {
     "name": "stdout",
     "output_type": "stream",
     "text": [
      "epoch 87 | loss: 0.17069 | train_mse: 0.14229 | train_mae: 0.27411 |  0:00:07s\n",
      "epoch 88 | loss: 0.1152  | train_mse: 0.11028 | train_mae: 0.24641 |  0:00:07s\n",
      "epoch 89 | loss: 0.18224 | train_mse: 0.11002 | train_mae: 0.25526 |  0:00:07s\n"
     ]
    },
    {
     "name": "stdout",
     "output_type": "stream",
     "text": [
      "epoch 90 | loss: 0.13607 | train_mse: 0.08961 | train_mae: 0.22343 |  0:00:07s\n",
      "epoch 91 | loss: 0.14983 | train_mse: 0.08939 | train_mae: 0.22768 |  0:00:07s\n",
      "epoch 92 | loss: 0.11337 | train_mse: 0.09632 | train_mae: 0.23583 |  0:00:07s\n"
     ]
    },
    {
     "name": "stdout",
     "output_type": "stream",
     "text": [
      "epoch 93 | loss: 0.19665 | train_mse: 0.09889 | train_mae: 0.23359 |  0:00:08s\n",
      "epoch 94 | loss: 0.16489 | train_mse: 0.11776 | train_mae: 0.24381 |  0:00:08s\n",
      "epoch 95 | loss: 0.13849 | train_mse: 0.09936 | train_mae: 0.22796 |  0:00:08s\n"
     ]
    },
    {
     "name": "stdout",
     "output_type": "stream",
     "text": [
      "epoch 96 | loss: 0.2107  | train_mse: 0.07874 | train_mae: 0.21123 |  0:00:08s\n",
      "epoch 97 | loss: 0.17365 | train_mse: 0.07602 | train_mae: 0.21088 |  0:00:08s\n",
      "epoch 98 | loss: 0.14264 | train_mse: 0.07643 | train_mae: 0.218   |  0:00:08s\n"
     ]
    },
    {
     "name": "stdout",
     "output_type": "stream",
     "text": [
      "epoch 99 | loss: 0.12829 | train_mse: 0.0743  | train_mae: 0.21225 |  0:00:08s\n",
      "epoch 100| loss: 0.13354 | train_mse: 0.08603 | train_mae: 0.21814 |  0:00:08s\n",
      "epoch 101| loss: 0.14434 | train_mse: 0.11183 | train_mae: 0.23438 |  0:00:08s\n"
     ]
    },
    {
     "name": "stdout",
     "output_type": "stream",
     "text": [
      "epoch 102| loss: 0.1542  | train_mse: 0.11785 | train_mae: 0.24346 |  0:00:08s\n",
      "epoch 103| loss: 0.21551 | train_mse: 0.1077  | train_mae: 0.24586 |  0:00:08s\n",
      "epoch 104| loss: 0.15825 | train_mse: 0.09195 | train_mae: 0.23455 |  0:00:09s\n"
     ]
    },
    {
     "name": "stdout",
     "output_type": "stream",
     "text": [
      "epoch 105| loss: 0.13029 | train_mse: 0.09801 | train_mae: 0.24357 |  0:00:09s\n",
      "epoch 106| loss: 0.16304 | train_mse: 0.09986 | train_mae: 0.2412  |  0:00:09s\n",
      "epoch 107| loss: 0.13059 | train_mse: 0.08967 | train_mae: 0.22893 |  0:00:09s\n"
     ]
    },
    {
     "name": "stdout",
     "output_type": "stream",
     "text": [
      "epoch 108| loss: 0.14395 | train_mse: 0.08451 | train_mae: 0.22168 |  0:00:09s\n",
      "epoch 109| loss: 0.147   | train_mse: 0.08557 | train_mae: 0.22829 |  0:00:09s\n",
      "epoch 110| loss: 0.16628 | train_mse: 0.08383 | train_mae: 0.225   |  0:00:09s\n"
     ]
    },
    {
     "name": "stdout",
     "output_type": "stream",
     "text": [
      "epoch 111| loss: 0.19631 | train_mse: 0.0809  | train_mae: 0.22109 |  0:00:09s\n",
      "epoch 112| loss: 0.17856 | train_mse: 0.09692 | train_mae: 0.24573 |  0:00:09s\n",
      "epoch 113| loss: 0.13669 | train_mse: 0.08252 | train_mae: 0.22096 |  0:00:09s\n"
     ]
    },
    {
     "name": "stdout",
     "output_type": "stream",
     "text": [
      "epoch 114| loss: 0.18106 | train_mse: 0.08318 | train_mae: 0.2177  |  0:00:09s\n",
      "epoch 115| loss: 0.15899 | train_mse: 0.08655 | train_mae: 0.23248 |  0:00:09s\n",
      "epoch 116| loss: 0.16171 | train_mse: 0.09265 | train_mae: 0.23518 |  0:00:10s\n"
     ]
    },
    {
     "name": "stdout",
     "output_type": "stream",
     "text": [
      "epoch 117| loss: 0.14141 | train_mse: 0.08524 | train_mae: 0.23272 |  0:00:10s\n",
      "epoch 118| loss: 0.1233  | train_mse: 0.12878 | train_mae: 0.27662 |  0:00:10s\n",
      "epoch 119| loss: 0.24607 | train_mse: 0.11629 | train_mae: 0.26102 |  0:00:10s\n"
     ]
    },
    {
     "name": "stdout",
     "output_type": "stream",
     "text": [
      "epoch 120| loss: 0.09998 | train_mse: 0.08781 | train_mae: 0.23789 |  0:00:10s\n",
      "epoch 121| loss: 0.30354 | train_mse: 0.1125  | train_mae: 0.2621  |  0:00:10s\n"
     ]
    },
    {
     "name": "stdout",
     "output_type": "stream",
     "text": [
      "epoch 122| loss: 0.21293 | train_mse: 0.09235 | train_mae: 0.24221 |  0:00:10s\n",
      "epoch 123| loss: 0.13345 | train_mse: 0.09331 | train_mae: 0.24013 |  0:00:10s\n"
     ]
    },
    {
     "name": "stdout",
     "output_type": "stream",
     "text": [
      "epoch 124| loss: 0.18249 | train_mse: 0.09682 | train_mae: 0.23067 |  0:00:10s\n",
      "epoch 125| loss: 0.14577 | train_mse: 0.09405 | train_mae: 0.22938 |  0:00:10s\n",
      "epoch 126| loss: 0.13448 | train_mse: 0.0829  | train_mae: 0.22231 |  0:00:10s\n"
     ]
    },
    {
     "name": "stdout",
     "output_type": "stream",
     "text": [
      "epoch 127| loss: 0.11004 | train_mse: 0.08207 | train_mae: 0.22852 |  0:00:11s\n",
      "epoch 128| loss: 0.11051 | train_mse: 0.07939 | train_mae: 0.22551 |  0:00:11s\n",
      "epoch 129| loss: 0.17753 | train_mse: 0.07205 | train_mae: 0.20511 |  0:00:11s\n"
     ]
    },
    {
     "name": "stdout",
     "output_type": "stream",
     "text": [
      "epoch 130| loss: 0.12663 | train_mse: 0.07404 | train_mae: 0.20499 |  0:00:11s\n",
      "epoch 131| loss: 0.14264 | train_mse: 0.0776  | train_mae: 0.20964 |  0:00:11s\n",
      "epoch 132| loss: 0.28539 | train_mse: 0.07205 | train_mae: 0.20462 |  0:00:11s\n"
     ]
    },
    {
     "name": "stdout",
     "output_type": "stream",
     "text": [
      "epoch 133| loss: 0.14645 | train_mse: 0.07077 | train_mae: 0.19998 |  0:00:11s\n",
      "epoch 134| loss: 0.09767 | train_mse: 0.08512 | train_mae: 0.22735 |  0:00:11s\n",
      "epoch 135| loss: 0.10448 | train_mse: 0.08487 | train_mae: 0.23609 |  0:00:11s\n"
     ]
    },
    {
     "name": "stdout",
     "output_type": "stream",
     "text": [
      "epoch 136| loss: 0.09533 | train_mse: 0.07896 | train_mae: 0.23052 |  0:00:11s\n",
      "epoch 137| loss: 0.13396 | train_mse: 0.07104 | train_mae: 0.21571 |  0:00:11s\n",
      "epoch 138| loss: 0.10606 | train_mse: 0.07259 | train_mae: 0.20577 |  0:00:11s\n"
     ]
    },
    {
     "name": "stdout",
     "output_type": "stream",
     "text": [
      "epoch 139| loss: 0.16916 | train_mse: 0.07563 | train_mae: 0.21308 |  0:00:12s\n",
      "epoch 140| loss: 0.13777 | train_mse: 0.07979 | train_mae: 0.22395 |  0:00:12s\n",
      "epoch 141| loss: 0.19284 | train_mse: 0.08744 | train_mae: 0.23008 |  0:00:12s\n"
     ]
    },
    {
     "name": "stdout",
     "output_type": "stream",
     "text": [
      "epoch 142| loss: 0.12875 | train_mse: 0.07953 | train_mae: 0.22151 |  0:00:12s\n",
      "epoch 143| loss: 0.13859 | train_mse: 0.07145 | train_mae: 0.20335 |  0:00:12s\n",
      "epoch 144| loss: 0.14488 | train_mse: 0.06827 | train_mae: 0.20156 |  0:00:12s\n"
     ]
    },
    {
     "name": "stdout",
     "output_type": "stream",
     "text": [
      "epoch 145| loss: 0.14277 | train_mse: 0.08054 | train_mae: 0.2274  |  0:00:12s\n",
      "epoch 146| loss: 0.1451  | train_mse: 0.07484 | train_mae: 0.22132 |  0:00:12s\n",
      "epoch 147| loss: 0.20487 | train_mse: 0.07116 | train_mae: 0.2129  |  0:00:12s\n"
     ]
    },
    {
     "name": "stdout",
     "output_type": "stream",
     "text": [
      "epoch 148| loss: 0.14371 | train_mse: 0.09139 | train_mae: 0.23295 |  0:00:12s\n",
      "epoch 149| loss: 0.14577 | train_mse: 0.09698 | train_mae: 0.2386  |  0:00:12s\n",
      "epoch 150| loss: 0.09165 | train_mse: 0.08276 | train_mae: 0.2236  |  0:00:12s\n"
     ]
    },
    {
     "name": "stdout",
     "output_type": "stream",
     "text": [
      "epoch 151| loss: 0.12127 | train_mse: 0.07436 | train_mae: 0.21575 |  0:00:13s\n",
      "epoch 152| loss: 0.14548 | train_mse: 0.06965 | train_mae: 0.20554 |  0:00:13s\n",
      "epoch 153| loss: 0.11193 | train_mse: 0.07528 | train_mae: 0.21184 |  0:00:13s\n"
     ]
    },
    {
     "name": "stdout",
     "output_type": "stream",
     "text": [
      "epoch 154| loss: 0.27327 | train_mse: 0.09461 | train_mae: 0.23449 |  0:00:13s\n",
      "epoch 155| loss: 0.12971 | train_mse: 0.09596 | train_mae: 0.23729 |  0:00:13s\n",
      "epoch 156| loss: 0.13613 | train_mse: 0.10829 | train_mae: 0.25244 |  0:00:13s\n"
     ]
    },
    {
     "name": "stdout",
     "output_type": "stream",
     "text": [
      "epoch 157| loss: 0.13831 | train_mse: 0.10396 | train_mae: 0.25165 |  0:00:13s\n",
      "epoch 158| loss: 0.11779 | train_mse: 0.08647 | train_mae: 0.22708 |  0:00:13s\n",
      "epoch 159| loss: 0.13135 | train_mse: 0.08596 | train_mae: 0.21763 |  0:00:13s\n"
     ]
    },
    {
     "name": "stdout",
     "output_type": "stream",
     "text": [
      "epoch 160| loss: 0.11308 | train_mse: 0.09438 | train_mae: 0.22498 |  0:00:13s\n",
      "epoch 161| loss: 0.15399 | train_mse: 0.08464 | train_mae: 0.22758 |  0:00:13s\n",
      "epoch 162| loss: 0.20324 | train_mse: 0.08493 | train_mae: 0.22685 |  0:00:13s\n"
     ]
    },
    {
     "name": "stdout",
     "output_type": "stream",
     "text": [
      "epoch 163| loss: 0.15997 | train_mse: 0.1221  | train_mae: 0.26438 |  0:00:13s\n",
      "epoch 164| loss: 0.16656 | train_mse: 0.13078 | train_mae: 0.26971 |  0:00:14s\n",
      "epoch 165| loss: 0.16056 | train_mse: 0.11216 | train_mae: 0.24553 |  0:00:14s\n"
     ]
    },
    {
     "name": "stdout",
     "output_type": "stream",
     "text": [
      "epoch 166| loss: 0.09802 | train_mse: 0.0985  | train_mae: 0.23335 |  0:00:14s\n",
      "epoch 167| loss: 0.20023 | train_mse: 0.09172 | train_mae: 0.22467 |  0:00:14s\n",
      "epoch 168| loss: 0.15248 | train_mse: 0.08839 | train_mae: 0.21614 |  0:00:14s\n"
     ]
    },
    {
     "name": "stdout",
     "output_type": "stream",
     "text": [
      "epoch 169| loss: 0.1061  | train_mse: 0.08833 | train_mae: 0.21666 |  0:00:14s\n",
      "epoch 170| loss: 0.17052 | train_mse: 0.083   | train_mae: 0.21533 |  0:00:14s\n"
     ]
    },
    {
     "name": "stdout",
     "output_type": "stream",
     "text": [
      "epoch 171| loss: 0.17161 | train_mse: 0.07861 | train_mae: 0.208   |  0:00:14s\n",
      "epoch 172| loss: 0.11589 | train_mse: 0.08112 | train_mae: 0.21394 |  0:00:14s\n",
      "epoch 173| loss: 0.17443 | train_mse: 0.07699 | train_mae: 0.20367 |  0:00:15s\n"
     ]
    },
    {
     "name": "stdout",
     "output_type": "stream",
     "text": [
      "epoch 174| loss: 0.12905 | train_mse: 0.07925 | train_mae: 0.21138 |  0:00:15s\n",
      "epoch 175| loss: 0.15821 | train_mse: 0.08112 | train_mae: 0.22399 |  0:00:15s\n",
      "epoch 176| loss: 0.10088 | train_mse: 0.06783 | train_mae: 0.20162 |  0:00:15s\n"
     ]
    },
    {
     "name": "stdout",
     "output_type": "stream",
     "text": [
      "epoch 177| loss: 0.10459 | train_mse: 0.07086 | train_mae: 0.20669 |  0:00:15s\n",
      "epoch 178| loss: 0.14425 | train_mse: 0.07141 | train_mae: 0.20665 |  0:00:15s\n",
      "epoch 179| loss: 0.1274  | train_mse: 0.0797  | train_mae: 0.2192  |  0:00:15s\n"
     ]
    },
    {
     "name": "stdout",
     "output_type": "stream",
     "text": [
      "epoch 180| loss: 0.11578 | train_mse: 0.10793 | train_mae: 0.23497 |  0:00:15s\n",
      "epoch 181| loss: 0.13232 | train_mse: 0.12131 | train_mae: 0.24127 |  0:00:15s\n",
      "epoch 182| loss: 0.14707 | train_mse: 0.10819 | train_mae: 0.21941 |  0:00:15s\n"
     ]
    },
    {
     "name": "stdout",
     "output_type": "stream",
     "text": [
      "epoch 183| loss: 0.17321 | train_mse: 0.09458 | train_mae: 0.23793 |  0:00:15s\n",
      "\n",
      "Early stopping occurred at epoch 183 with best_epoch = 133 and best_train_mae = 0.19998\n",
      "Best weights from best epoch are automatically used!\n"
     ]
    }
   ],
   "source": [
    "#Train the Model\n",
    "\n",
    "Y_train = np.reshape(Y_train, (-1, 1))\n",
    "Y_test = np.reshape(Y_test, (-1, 1))\n",
    "\n",
    "prior_model = TabNetRegressor(optimizer_fn=torch.optim.Adam, optimizer_params=dict(lr = 0.02),\n",
    "          #scheduler_params={\"step_size\":10, ], \"gamma\":0.9},\n",
    "          #scheduler_fn=torch.optim.lr_scheduler.StepLR\n",
    "          )  #TabNetRegressor()\n",
    "\n",
    "prior_model.fit(X_train,Y_train,eval_set=[(X_train, Y_train)],\n",
    "            eval_name=['train'], \n",
    "            eval_metric=[ 'mse', 'mae'], \n",
    "            max_epochs = n_epochs, \n",
    "            batch_size = batch_size,\n",
    "            patience=50\n",
    "            )"
   ]
  },
  {
   "cell_type": "code",
   "execution_count": 10,
   "id": "af65dcda",
   "metadata": {
    "execution": {
     "iopub.execute_input": "2022-06-22T13:55:21.812857Z",
     "iopub.status.busy": "2022-06-22T13:55:21.811927Z",
     "iopub.status.idle": "2022-06-22T13:55:21.846080Z",
     "shell.execute_reply": "2022-06-22T13:55:21.846564Z"
    },
    "id": "af65dcda",
    "papermill": {
     "duration": 0.083566,
     "end_time": "2022-06-22T13:55:21.846792",
     "exception": false,
     "start_time": "2022-06-22T13:55:21.763226",
     "status": "completed"
    },
    "tags": []
   },
   "outputs": [
    {
     "data": {
      "application/scrapbook.scrap.json+json": {
       "data": 0.638545712908972,
       "encoder": "json",
       "name": "Prior Model MSE",
       "version": 1
      }
     },
     "metadata": {
      "scrapbook": {
       "data": true,
       "display": false,
       "name": "Prior Model MSE"
      }
     },
     "output_type": "display_data"
    },
    {
     "data": {
      "application/scrapbook.scrap.json+json": {
       "data": 0.6403548329592688,
       "encoder": "json",
       "name": "ABC Pre-generator MSE",
       "version": 1
      }
     },
     "metadata": {
      "scrapbook": {
       "data": true,
       "display": false,
       "name": "ABC Pre-generator MSE"
      }
     },
     "output_type": "display_data"
    },
    {
     "data": {
      "application/scrapbook.scrap.json+json": {
       "data": 0.6189042959570796,
       "encoder": "json",
       "name": "Prior Model MSE",
       "version": 1
      }
     },
     "metadata": {
      "scrapbook": {
       "data": true,
       "display": false,
       "name": "Prior Model MSE"
      }
     },
     "output_type": "display_data"
    },
    {
     "data": {
      "application/scrapbook.scrap.json+json": {
       "data": 0.6219415744937878,
       "encoder": "json",
       "name": "ABC Pre-generator MSE",
       "version": 1
      }
     },
     "metadata": {
      "scrapbook": {
       "data": true,
       "display": false,
       "name": "ABC Pre-generator MSE"
      }
     },
     "output_type": "display_data"
    }
   ],
   "source": [
    "y_pred = prior_model.predict(X_test)\n",
    "y_abc = y_pred + np.random.normal(0,variance, y_pred.shape) + bias \n",
    "mse = mean_squared_error(y_pred,Y_test)\n",
    "sb.glue(\"Prior Model MSE\",mse)\n",
    "mse = mean_squared_error(y_abc,Y_test)\n",
    "sb.glue(\"ABC Pre-generator MSE\",mse)\n",
    "mae = mean_absolute_error(y_pred,Y_test)\n",
    "sb.glue(\"Prior Model MSE\",mae)\n",
    "mae = mean_absolute_error(y_abc,Y_test)\n",
    "sb.glue(\"ABC Pre-generator MSE\",mae)"
   ]
  },
  {
   "cell_type": "markdown",
   "id": "25609da2",
   "metadata": {
    "papermill": {
     "duration": 0.045888,
     "end_time": "2022-06-22T13:55:21.948684",
     "exception": false,
     "start_time": "2022-06-22T13:55:21.902796",
     "status": "completed"
    },
    "tags": []
   },
   "source": [
    "# ABC GAN Model"
   ]
  },
  {
   "cell_type": "code",
   "execution_count": 11,
   "id": "dfc3464d",
   "metadata": {
    "execution": {
     "iopub.execute_input": "2022-06-22T13:55:22.026592Z",
     "iopub.status.busy": "2022-06-22T13:55:22.025800Z",
     "iopub.status.idle": "2022-06-22T13:55:22.030470Z",
     "shell.execute_reply": "2022-06-22T13:55:22.031054Z"
    },
    "papermill": {
     "duration": 0.048985,
     "end_time": "2022-06-22T13:55:22.031274",
     "exception": false,
     "start_time": "2022-06-22T13:55:21.982289",
     "status": "completed"
    },
    "tags": []
   },
   "outputs": [],
   "source": [
    "gen = network.Generator(n_features+1).to(device)\n",
    "disc = network.Discriminator(n_features+1).to(device)\n",
    "\n",
    "criterion = torch.nn.BCELoss()\n",
    "gen_opt = torch.optim.Adam(gen.parameters(), lr=0.001, betas=(0.5, 0.999))\n",
    "disc_opt = torch.optim.Adam(disc.parameters(), lr=0.001, betas=(0.5, 0.999))"
   ]
  },
  {
   "cell_type": "code",
   "execution_count": 12,
   "id": "b75fdd85",
   "metadata": {
    "execution": {
     "iopub.execute_input": "2022-06-22T13:55:22.114977Z",
     "iopub.status.busy": "2022-06-22T13:55:22.114208Z",
     "iopub.status.idle": "2022-06-22T13:56:21.562960Z",
     "shell.execute_reply": "2022-06-22T13:56:21.563537Z"
    },
    "papermill": {
     "duration": 59.496161,
     "end_time": "2022-06-22T13:56:21.563761",
     "exception": false,
     "start_time": "2022-06-22T13:55:22.067600",
     "status": "completed"
    },
    "tags": []
   },
   "outputs": [
    {
     "data": {
      "image/png": "[encoded data removed]",
      "text/plain": [
       "<Figure size 432x288 with 1 Axes>"
      ]
     },
     "metadata": {
      "needs_background": "light"
     },
     "output_type": "display_data"
    },
    {
     "data": {
      "image/png": "[encoded data removed]",
      "text/plain": [
       "<Figure size 432x288 with 1 Axes>"
      ]
     },
     "metadata": {
      "needs_background": "light"
     },
     "output_type": "display_data"
    }
   ],
   "source": [
    "#Training the ABC_GAN \n",
    "ABC_train_test2.training_GAN(disc,gen,disc_opt,gen_opt,train_data,batch_size,n_epochs,criterion,prior_model,variance,bias,device)"
   ]
  },
  {
   "cell_type": "code",
   "execution_count": 13,
   "id": "1fa7c368",
   "metadata": {
    "execution": {
     "iopub.execute_input": "2022-06-22T13:56:21.661594Z",
     "iopub.status.busy": "2022-06-22T13:56:21.660698Z",
     "iopub.status.idle": "2022-06-22T13:56:22.414445Z",
     "shell.execute_reply": "2022-06-22T13:56:22.415038Z"
    },
    "papermill": {
     "duration": 0.811944,
     "end_time": "2022-06-22T13:56:22.415321",
     "exception": false,
     "start_time": "2022-06-22T13:56:21.603377",
     "status": "completed"
    },
    "tags": []
   },
   "outputs": [
    {
     "data": {
      "application/scrapbook.scrap.json+json": {
       "data": 0.5297862970823103,
       "encoder": "json",
       "name": "ABC-GAN Model 1 MSE",
       "version": 1
      }
     },
     "metadata": {
      "scrapbook": {
       "data": true,
       "display": false,
       "name": "ABC-GAN Model 1 MSE"
      }
     },
     "output_type": "display_data"
    },
    {
     "data": {
      "application/scrapbook.scrap.json+json": {
       "data": 0.5945640213144943,
       "encoder": "json",
       "name": "ABC-GAN Model 1 MAE",
       "version": 1
      }
     },
     "metadata": {
      "scrapbook": {
       "data": true,
       "display": false,
       "name": "ABC-GAN Model 1 MAE"
      }
     },
     "output_type": "display_data"
    },
    {
     "data": {
      "application/scrapbook.scrap.json+json": {
       "data": 11.891280426289887,
       "encoder": "json",
       "name": "ABC-GAN Model 1 Manhattan Distance",
       "version": 1
      }
     },
     "metadata": {
      "scrapbook": {
       "data": true,
       "display": false,
       "name": "ABC-GAN Model 1 Manhattan Distance"
      }
     },
     "output_type": "display_data"
    },
    {
     "data": {
      "application/scrapbook.scrap.json+json": {
       "data": 3.255094468741715,
       "encoder": "json",
       "name": "ABC-GAN Model 1 Euclidean distance",
       "version": 1
      }
     },
     "metadata": {
      "scrapbook": {
       "data": true,
       "display": false,
       "name": "ABC-GAN Model 1 Euclidean distance"
      }
     },
     "output_type": "display_data"
    },
    {
     "data": {
      "application/scrapbook.scrap.json+json": {
       "data": [
        [
         0.5335160358516831,
         0.5284453551970354,
         0.5303616049602825,
         0.5308526006387029,
         0.528181177029184,
         0.5299743000578611,
         0.5286860950564092,
         0.5320022983288976,
         0.5248408496311823,
         0.5301685928302394,
         0.5321668170324574,
         0.5322979055743151,
         0.528919858678486,
         0.5341505357217465,
         0.5287822232407827,
         0.5321368028391016,
         0.528866553401959,
         0.5332729960232483,
         0.5317586321162489,
         0.5296038758583954,
         0.5304242789919842,
         0.5292073403428055,
         0.5320507832898032,
         0.5316210503420447,
         0.5339578438097556,
         0.5294333703277105,
         0.5301856094521404,
         0.5326043678672702,
         0.5309878787253701,
         0.5283564676896788,
         0.5302534341584538,
         0.5253399524942749,
         0.5304036331141533,
         0.5268015162726096,
         0.5290768428421886,
         0.5351884885117058,
         0.5227485023260657,
         0.529341195823928,
         0.5214702845498586,
         0.533003015178201,
         0.526491983642666,
         0.5314973632706854,
         0.5298578962147803,
         0.5277352428903674,
         0.5284253428202417,
         0.5296097625537877,
         0.5218112658463404,
         0.5277581593507953,
         0.5276260068186023,
         0.5255788190262398,
         0.5303869579198366,
         0.5322570276286492,
         0.5284243991125164,
         0.5295415731588731,
         0.5273909325998057,
         0.5291816439280712,
         0.5273569458809251,
         0.5231957753997839,
         0.5295058523591386,
         0.532627133148398,
         0.5309597698603696,
         0.5376922685832976,
         0.531877925394498,
         0.5300754588813315,
         0.532372676112607,
         0.5357549407787932,
         0.533360257253804,
         0.5269637546192094,
         0.5343784349574114,
         0.5291809209153622,
         0.5292279041047209,
         0.5246683898301635,
         0.5284822412468895,
         0.5273646904806893,
         0.5286296471474097,
         0.531133374560741,
         0.5272242452280858,
         0.5293709806216571,
         0.5282703104309724,
         0.5325994156914551,
         0.5275640599160525,
         0.5292208188929465,
         0.5262694704113207,
         0.5342003286472484,
         0.5305330103268122,
         0.5309904348765011,
         0.5263696460670427,
         0.5292603550617598,
         0.5328527898671792,
         0.5337073755462648,
         0.5292092365081429,
         0.5301862490501821,
         0.5265356106507505,
         0.5293220504718681,
         0.5323294794601217,
         0.5380043125803752,
         0.5317370272268495,
         0.5276689662116215,
         0.5300180181377568,
         0.5253618118720432
        ],
        [
         0.5964138948125765,
         0.5932588693452999,
         0.5949190837098286,
         0.5957603041781112,
         0.5947032299591228,
         0.5942902349634096,
         0.5928973191184923,
         0.5963445723755285,
         0.5911486410303042,
         0.596290556783788,
         0.5971116185886786,
         0.5963744026375934,
         0.5943148636026307,
         0.5937652532709763,
         0.5942778006894514,
         0.5953559691784903,
         0.5926205980358645,
         0.5957866185111925,
         0.5963269722415134,
         0.5956784036708995,
         0.5951841403497383,
         0.5947589696152136,
         0.59445490881335,
         0.5952545934123918,
         0.599169519986026,
         0.5945104696555064,
         0.5932296939892694,
         0.5954873555107042,
         0.5941927251173184,
         0.5944552336586639,
         0.5936184604419396,
         0.5925375432474539,
         0.5959414125187322,
         0.5947305460227653,
         0.5938606208888814,
         0.5976877110777423,
         0.591458988445811,
         0.5927958159474656,
         0.5904325228882954,
         0.5974017155123874,
         0.5949050911469385,
         0.5942433126969263,
         0.5965823762817308,
         0.5934584361268207,
         0.5947919458849356,
         0.5969478067709133,
         0.5917394996387884,
         0.5938083852408453,
         0.5930552736623212,
         0.5935515080345795,
         0.5928836189908907,
         0.5950923309428617,
         0.5931583461118862,
         0.5941801869077608,
         0.5921508383704349,
         0.5940921333385631,
         0.5932338372571394,
         0.592131904955022,
         0.5932185944868251,
         0.5961690698517487,
         0.5946610972983762,
         0.5966248865006492,
         0.5950541564030573,
         0.5974655707133933,
         0.5969488792819903,
         0.5950386230600998,
         0.5954177886946127,
         0.5924145609838888,
         0.5970990978879854,
         0.5939266812754795,
         0.5954249624861404,
         0.5904264454497025,
         0.5932436612201855,
         0.5946101865498349,
         0.593804647657089,
         0.5963439550949261,
         0.5917850584490225,
         0.5937829299597069,
         0.5922739737434313,
         0.5962474358035251,
         0.5931538433535024,
         0.5937901866389439,
         0.5939656211761758,
         0.5971473031444475,
         0.5947191648883745,
         0.5932747930986807,
         0.5930595067096874,
         0.5953274433268234,
         0.5966261696768924,
         0.5958262883825227,
         0.5929596540285275,
         0.5957802486373112,
         0.590024730260484,
         0.59532019875478,
         0.5959453318966552,
         0.5993910551769659,
         0.5974952858639881,
         0.5936714441282674,
         0.5953183372272178,
         0.5928142760647461
        ],
        [
         11.92827789625153,
         11.865177386905998,
         11.898381674196571,
         11.915206083562225,
         11.894064599182457,
         11.885804699268192,
         11.857946382369846,
         11.92689144751057,
         11.822972820606083,
         11.925811135675758,
         11.94223237177357,
         11.927488052751869,
         11.886297272052616,
         11.875305065419525,
         11.885556013789028,
         11.907119383569807,
         11.85241196071729,
         11.91573237022385,
         11.926539444830269,
         11.913568073417991,
         11.903682806994766,
         11.895179392304271,
         11.889098176266998,
         11.905091868247837,
         11.98339039972052,
         11.890209393110126,
         11.864593879785389,
         11.909747110214084,
         11.883854502346367,
         11.889104673173279,
         11.87236920883879,
         11.850750864949077,
         11.918828250374645,
         11.894610920455307,
         11.877212417777628,
         11.953754221554846,
         11.82917976891622,
         11.855916318949312,
         11.808650457765907,
         11.948034310247749,
         11.89810182293877,
         11.884866253938526,
         11.931647525634617,
         11.869168722536415,
         11.895838917698711,
         11.938956135418266,
         11.834789992775768,
         11.876167704816908,
         11.861105473246425,
         11.87103016069159,
         11.857672379817814,
         11.901846618857235,
         11.863166922237724,
         11.883603738155216,
         11.843016767408699,
         11.881842666771263,
         11.864676745142788,
         11.84263809910044,
         11.864371889736503,
         11.923381397034973,
         11.893221945967525,
         11.932497730012983,
         11.901083128061146,
         11.949311414267868,
         11.938977585639805,
         11.900772461201996,
         11.908355773892254,
         11.848291219677776,
         11.941981957759708,
         11.87853362550959,
         11.908499249722809,
         11.808528908994049,
         11.86487322440371,
         11.892203730996698,
         11.876092953141779,
         11.926879101898521,
         11.83570116898045,
         11.87565859919414,
         11.845479474868625,
         11.924948716070503,
         11.863076867070049,
         11.875803732778877,
         11.879312423523515,
         11.94294606288895,
         11.89438329776749,
         11.865495861973614,
         11.861190134193748,
         11.906548866536468,
         11.93252339353785,
         11.916525767650455,
         11.859193080570549,
         11.915604972746223,
         11.800494605209678,
         11.9064039750956,
         11.918906637933105,
         11.987821103539318,
         11.949905717279762,
         11.87342888256535,
         11.906366744544357,
         11.856285521294922
        ],
        [
         3.2665456857410797,
         3.2509855588637593,
         3.2568745906475507,
         3.2583818089312455,
         3.250172847801126,
         3.255685181518204,
         3.2517259880143934,
         3.261908332031719,
         3.2398791632750203,
         3.256281906807945,
         3.26241265640157,
         3.2628144463769773,
         3.25244479946543,
         3.268487527042888,
         3.252021596609662,
         3.2623206551137844,
         3.252280902388227,
         3.2658015739577575,
         3.2611612413870272,
         3.254547206166767,
         3.257067021085026,
         3.2533285734545947,
         3.2620569685086838,
         3.260739334390422,
         3.267897929280398,
         3.2540232645994114,
         3.256334164216383,
         3.263753568721971,
         3.258796952021927,
         3.2507121302560114,
         3.2565424430166847,
         3.2414192955996137,
         3.2570036325253104,
         3.2459251879013156,
         3.252927428769934,
         3.27166162220883,
         3.233414610983459,
         3.2537399890708176,
         3.229459039993722,
         3.264974778396308,
         3.244971444073633,
         3.2603599901565636,
         3.2553276216527895,
         3.248800526010692,
         3.250924000404321,
         3.254565293718311,
         3.2305147139313277,
         3.248871063464339,
         3.2484642735255758,
         3.242156131423161,
         3.2569524341624536,
         3.2626891596615493,
         3.2509210975122618,
         3.2543557677637924,
         3.2477405456711157,
         3.253249587498848,
         3.2476358967129464,
         3.2347975992317783,
         3.2542460028680646,
         3.263823319814962,
         3.2587106955370237,
         3.279305623400471,
         3.261527020873806,
         3.255995881082565,
         3.2630435979698675,
         3.273392554457205,
         3.266068760004308,
         3.246424971007984,
         3.2691847147489588,
         3.2532473650657496,
         3.25339178121763,
         3.2393468163509866,
         3.2510990180149526,
         3.247659743509746,
         3.2515523896976037,
         3.259243392447827,
         3.2472272640764945,
         3.2538315279733125,
         3.2504470782677646,
         3.2637383954338466,
         3.248273571964198,
         3.2533700032211104,
         3.244285654535743,
         3.2686398658991123,
         3.257400836024981,
         3.2588047958615167,
         3.244594415538074,
         3.2534915246908507,
         3.2645146342670275,
         3.2671313886841613,
         3.2533344018349633,
         3.2563361283816574,
         3.2451058862562574,
         3.253681147475481,
         3.262911213809293,
         3.2802570404783076,
         3.261094991645749,
         3.2485965160715837,
         3.2558194610197813,
         3.241486732572087
        ]
       ],
       "encoder": "json",
       "name": "ABC_GAN_1 Metrics",
       "version": 1
      }
     },
     "metadata": {
      "scrapbook": {
       "data": true,
       "display": false,
       "name": "ABC_GAN_1 Metrics"
      }
     },
     "output_type": "display_data"
    },
    {
     "name": "stdout",
     "output_type": "stream",
     "text": [
      "MSE\n",
      "0.5297862970823103\n"
     ]
    }
   ],
   "source": [
    "ABC_GAN1_metrics=ABC_train_test2.test_generator(gen,test_data,prior_model,variance,bias,\"1\",device)\n",
    "sb.glue(\"ABC_GAN_1 Metrics\",ABC_GAN1_metrics)\n",
    "\n",
    "print(\"MSE\")\n",
    "print(mean(ABC_GAN1_metrics[0]))"
   ]
  },
  {
   "cell_type": "code",
   "execution_count": 14,
   "id": "eb22ce5c",
   "metadata": {
    "execution": {
     "iopub.execute_input": "2022-06-22T13:56:22.535345Z",
     "iopub.status.busy": "2022-06-22T13:56:22.534413Z",
     "iopub.status.idle": "2022-06-22T13:56:23.415930Z",
     "shell.execute_reply": "2022-06-22T13:56:23.417305Z"
    },
    "papermill": {
     "duration": 0.95364,
     "end_time": "2022-06-22T13:56:23.417917",
     "exception": false,
     "start_time": "2022-06-22T13:56:22.464277",
     "status": "completed"
    },
    "tags": []
   },
   "outputs": [
    {
     "data": {
      "image/png": "[encoded data removed]",
      "text/plain": [
       "<Figure size 432x288 with 1 Axes>"
      ]
     },
     "metadata": {
      "needs_background": "light"
     },
     "output_type": "display_data"
    },
    {
     "data": {
      "image/png": "[encoded data removed]",
      "text/plain": [
       "<Figure size 432x288 with 1 Axes>"
      ]
     },
     "metadata": {
      "needs_background": "light"
     },
     "output_type": "display_data"
    },
    {
     "data": {
      "image/png": "[encoded data removed]",
      "text/plain": [
       "<Figure size 432x288 with 1 Axes>"
      ]
     },
     "metadata": {
      "needs_background": "light"
     },
     "output_type": "display_data"
    },
    {
     "data": {
      "image/png": "[encoded data removed]",
      "text/plain": [
       "<Figure size 432x288 with 1 Axes>"
      ]
     },
     "metadata": {
      "needs_background": "light"
     },
     "output_type": "display_data"
    }
   ],
   "source": [
    "sanityChecks.discProbVsError(train_data,disc,device)\n",
    "sanityChecks.discProbVsError(test_data,disc,device)"
   ]
  },
  {
   "cell_type": "markdown",
   "id": "130f3a4d",
   "metadata": {
    "id": "130f3a4d",
    "papermill": {
     "duration": 0.062938,
     "end_time": "2022-06-22T13:56:23.537497",
     "exception": false,
     "start_time": "2022-06-22T13:56:23.474559",
     "status": "completed"
    },
    "tags": []
   },
   "source": [
    "# ABC - GAN Model with skip connection"
   ]
  },
  {
   "cell_type": "code",
   "execution_count": 15,
   "id": "4e43dad1",
   "metadata": {
    "execution": {
     "iopub.execute_input": "2022-06-22T13:56:23.657404Z",
     "iopub.status.busy": "2022-06-22T13:56:23.656619Z",
     "iopub.status.idle": "2022-06-22T13:56:23.659340Z",
     "shell.execute_reply": "2022-06-22T13:56:23.658791Z"
    },
    "id": "4e43dad1",
    "papermill": {
     "duration": 0.063909,
     "end_time": "2022-06-22T13:56:23.659669",
     "exception": false,
     "start_time": "2022-06-22T13:56:23.595760",
     "status": "completed"
    },
    "tags": []
   },
   "outputs": [],
   "source": [
    "#Generator\n",
    "gen3 = network.GeneratorWithSkipConnection(n_features+1).to(device)\n",
    "constraints=network.weightConstraint()\n",
    "#Discriminator \n",
    "disc3 = network.Discriminator(n_features+1).to(device)\n",
    "\n",
    "criterion = torch.nn.BCELoss()\n",
    "gen_opt = torch.optim.Adam(gen3.parameters(), lr=0.001, betas=(0.5, 0.999))\n",
    "disc_opt = torch.optim.Adam(disc3.parameters(), lr=0.001, betas=(0.5, 0.999))\n"
   ]
  },
  {
   "cell_type": "code",
   "execution_count": 16,
   "id": "26acbc37",
   "metadata": {
    "execution": {
     "iopub.execute_input": "2022-06-22T13:56:23.776091Z",
     "iopub.status.busy": "2022-06-22T13:56:23.775381Z",
     "iopub.status.idle": "2022-06-22T13:58:01.483815Z",
     "shell.execute_reply": "2022-06-22T13:58:01.484459Z"
    },
    "id": "26acbc37",
    "papermill": {
     "duration": 97.776097,
     "end_time": "2022-06-22T13:58:01.484701",
     "exception": false,
     "start_time": "2022-06-22T13:56:23.708604",
     "status": "completed"
    },
    "tags": []
   },
   "outputs": [
    {
     "data": {
      "image/png": "[encoded data removed]",
      "text/plain": [
       "<Figure size 432x288 with 1 Axes>"
      ]
     },
     "metadata": {
      "needs_background": "light"
     },
     "output_type": "display_data"
    },
    {
     "data": {
      "image/png": "[encoded data removed]",
      "text/plain": [
       "<Figure size 432x288 with 1 Axes>"
      ]
     },
     "metadata": {
      "needs_background": "light"
     },
     "output_type": "display_data"
    }
   ],
   "source": [
    "ABC_train_test2.training_GAN_skip_connection(disc3,gen3,disc_opt,gen_opt,train_data,batch_size,n_epochs,criterion,prior_model,variance,bias,device)"
   ]
  },
  {
   "cell_type": "code",
   "execution_count": 17,
   "id": "c5e0717b",
   "metadata": {
    "execution": {
     "iopub.execute_input": "2022-06-22T13:58:01.598999Z",
     "iopub.status.busy": "2022-06-22T13:58:01.598231Z",
     "iopub.status.idle": "2022-06-22T13:58:02.979000Z",
     "shell.execute_reply": "2022-06-22T13:58:02.979846Z"
    },
    "id": "c5e0717b",
    "papermill": {
     "duration": 1.449685,
     "end_time": "2022-06-22T13:58:02.980098",
     "exception": false,
     "start_time": "2022-06-22T13:58:01.530413",
     "status": "completed"
    },
    "tags": []
   },
   "outputs": [
    {
     "data": {
      "application/scrapbook.scrap.json+json": {
       "data": 0.6454813172149061,
       "encoder": "json",
       "name": "ABC-GAN Model 3 MSE",
       "version": 1
      }
     },
     "metadata": {
      "scrapbook": {
       "data": true,
       "display": false,
       "name": "ABC-GAN Model 3 MSE"
      }
     },
     "output_type": "display_data"
    },
    {
     "data": {
      "application/scrapbook.scrap.json+json": {
       "data": 0.6237222095198772,
       "encoder": "json",
       "name": "ABC-GAN Model 3 MAE",
       "version": 1
      }
     },
     "metadata": {
      "scrapbook": {
       "data": true,
       "display": false,
       "name": "ABC-GAN Model 3 MAE"
      }
     },
     "output_type": "display_data"
    },
    {
     "data": {
      "application/scrapbook.scrap.json+json": {
       "data": 12.474444190397543,
       "encoder": "json",
       "name": "ABC-GAN Model 3 Manhattan Distance",
       "version": 1
      }
     },
     "metadata": {
      "scrapbook": {
       "data": true,
       "display": false,
       "name": "ABC-GAN Model 3 Manhattan Distance"
      }
     },
     "output_type": "display_data"
    },
    {
     "data": {
      "application/scrapbook.scrap.json+json": {
       "data": 3.592981871274236,
       "encoder": "json",
       "name": "ABC-GAN Model 3 Euclidean distance",
       "version": 1
      }
     },
     "metadata": {
      "scrapbook": {
       "data": true,
       "display": false,
       "name": "ABC-GAN Model 3 Euclidean distance"
      }
     },
     "output_type": "display_data"
    },
    {
     "data": {
      "application/scrapbook.scrap.json+json": {
       "data": [
        [
         0.6480120143815119,
         0.6501359441547199,
         0.6494260816595107,
         0.6480283833978391,
         0.6455641402537986,
         0.6439008456200435,
         0.6454069131099854,
         0.6463299350619338,
         0.6457438785914577,
         0.6386596801744414,
         0.6484155790373948,
         0.6509080213573839,
         0.6482021034131453,
         0.6382232958866745,
         0.6367757232592313,
         0.6500305854151752,
         0.6450315253524133,
         0.6493114176271261,
         0.6403573752368826,
         0.6453773617376164,
         0.6424623835384592,
         0.642899730781206,
         0.6491900953409797,
         0.6509785974820288,
         0.638283137272347,
         0.6461177376155295,
         0.6503831778268776,
         0.6447505315633117,
         0.6494414050564734,
         0.6499182458041924,
         0.6421976697036267,
         0.6464149739883961,
         0.6423422854886881,
         0.6450432102620961,
         0.6437707233696282,
         0.6427264106085039,
         0.6412867196674107,
         0.641594878953342,
         0.6441670098571775,
         0.645639807828297,
         0.6395314837680888,
         0.6451169811586828,
         0.6442273405947999,
         0.6412107026013036,
         0.6397358280375479,
         0.6397838900035583,
         0.6471230193333865,
         0.6419514599820136,
         0.6466689687430953,
         0.6460835218971444,
         0.6491369459669383,
         0.6453859063619992,
         0.6471108095451763,
         0.6499982753347072,
         0.6446186834138887,
         0.6473171972274109,
         0.6464932844717277,
         0.6445870940202794,
         0.6440261758496,
         0.6458104653883614,
         0.6523562693763504,
         0.6400237666946519,
         0.6517207359820143,
         0.6394165110447771,
         0.6513428438868676,
         0.6445057394373963,
         0.6433695828370194,
         0.6475328857189633,
         0.6452609395808628,
         0.6486816141126482,
         0.655109337122951,
         0.647522486489344,
         0.6448487361982363,
         0.6405291306011329,
         0.6492824224569913,
         0.6446069016292716,
         0.6515496711575098,
         0.6459093334543734,
         0.6460111284754632,
         0.6468746073380822,
         0.6423186752308295,
         0.6387327013703759,
         0.6513157187038809,
         0.6480366669667473,
         0.6466255931015773,
         0.6461207660344914,
         0.6462904601742292,
         0.6514201090960924,
         0.6449552906922631,
         0.6457465931761792,
         0.6439694057987168,
         0.6429382585942672,
         0.6466226786250477,
         0.6368756513961508,
         0.6495109399698629,
         0.6442819810627032,
         0.6424371007051974,
         0.6442153254168856,
         0.644088095680412,
         0.645807495663224
        ],
        [
         0.6243200588738546,
         0.6234911208739504,
         0.6268161248182877,
         0.6244442864088342,
         0.6222881600959227,
         0.6223048474872485,
         0.6239086370682344,
         0.6238381790695712,
         0.6233988556778058,
         0.6210897036944516,
         0.6255595496622846,
         0.6241094196913763,
         0.6242379622301086,
         0.6201983366394416,
         0.6196315177949145,
         0.6232575816335156,
         0.623086132039316,
         0.6262110836687498,
         0.6221037344774232,
         0.625584188173525,
         0.621961559704505,
         0.6239859064808115,
         0.6269303999608382,
         0.6262991334078833,
         0.6184034031582997,
         0.6250560386804864,
         0.6244129820493981,
         0.622357718157582,
         0.6270563221769407,
         0.6271340854233131,
         0.6234119164291769,
         0.6249509332468733,
         0.6249076662352309,
         0.6248098659678363,
         0.6234163169981912,
         0.6188439660472795,
         0.6238314917543903,
         0.621568906691391,
         0.6236104782903567,
         0.6231334689306095,
         0.6216553517384454,
         0.6220001850044354,
         0.62411005764734,
         0.6211116205202416,
         0.6206625258782879,
         0.6197698418749497,
         0.6232154975412414,
         0.6208596674932323,
         0.6252177307149396,
         0.6246547179063782,
         0.6246546098729595,
         0.6261460478184745,
         0.6267180784372612,
         0.6250341001665219,
         0.6245247185928747,
         0.6238656980684028,
         0.6231419028481469,
         0.6244844965374796,
         0.6224578834837302,
         0.6228826274862513,
         0.625874357088469,
         0.6232773581286892,
         0.6276088711572811,
         0.6220980251673609,
         0.6253823738312349,
         0.6232776683755219,
         0.6231093824608251,
         0.6227650775341317,
         0.625341525231488,
         0.6272643045289442,
         0.6283171348972246,
         0.6242371917469427,
         0.6232929847901687,
         0.6200046454789117,
         0.627452144655399,
         0.6228140460676513,
         0.6253902836469933,
         0.6243256198009476,
         0.6232601218624041,
         0.6249509379966185,
         0.6205359073122964,
         0.6222464896738529,
         0.6255450219614431,
         0.6260386312147602,
         0.6253498223377392,
         0.6209409429458901,
         0.6233872812939808,
         0.6278969513019547,
         0.6236920658266172,
         0.6236696738858882,
         0.6251013106433675,
         0.6192639118758961,
         0.6238998155808076,
         0.6212585131754167,
         0.6249157469486818,
         0.6238374399719759,
         0.6228197501739487,
         0.6217417704523541,
         0.6219903929857538,
         0.624916058476083
        ],
        [
         12.486401177477092,
         12.469822417479008,
         12.536322496365756,
         12.488885728176683,
         12.445763201918453,
         12.44609694974497,
         12.478172741364688,
         12.476763581391424,
         12.467977113556117,
         12.421794073889032,
         12.511190993245691,
         12.482188393827528,
         12.484759244602174,
         12.403966732788831,
         12.39263035589829,
         12.465151632670313,
         12.46172264078632,
         12.524221673374996,
         12.442074689548463,
         12.5116837634705,
         12.439231194090098,
         12.47971812961623,
         12.538607999216765,
         12.525982668157667,
         12.368068063165992,
         12.501120773609728,
         12.488259640987962,
         12.44715436315164,
         12.541126443538815,
         12.542681708466262,
         12.468238328583539,
         12.499018664937466,
         12.498153324704617,
         12.496197319356725,
         12.468326339963824,
         12.37687932094559,
         12.476629835087806,
         12.43137813382782,
         12.472209565807134,
         12.46266937861219,
         12.43310703476891,
         12.44000370008871,
         12.4822011529468,
         12.422232410404831,
         12.413250517565757,
         12.395396837498993,
         12.464309950824827,
         12.417193349864647,
         12.50435461429879,
         12.493094358127564,
         12.493092197459191,
         12.52292095636949,
         12.534361568745226,
         12.50068200333044,
         12.490494371857494,
         12.477313961368054,
         12.462838056962937,
         12.489689930749591,
         12.449157669674605,
         12.457652549725026,
         12.51748714176938,
         12.465547162573785,
         12.552177423145622,
         12.441960503347218,
         12.507647476624697,
         12.465553367510438,
         12.462187649216503,
         12.455301550682634,
         12.506830504629761,
         12.545286090578884,
         12.566342697944492,
         12.484743834938854,
         12.465859695803374,
         12.400092909578234,
         12.54904289310798,
         12.456280921353027,
         12.507805672939867,
         12.486512396018952,
         12.465202437248081,
         12.499018759932369,
         12.410718146245927,
         12.444929793477058,
         12.510900439228863,
         12.520772624295205,
         12.506996446754783,
         12.418818858917803,
         12.467745625879616,
         12.557939026039094,
         12.473841316532344,
         12.473393477717764,
         12.50202621286735,
         12.385278237517923,
         12.477996311616153,
         12.425170263508335,
         12.498314938973635,
         12.47674879943952,
         12.456395003478974,
         12.434835409047082,
         12.439807859715074,
         12.49832116952166
        ],
        [
         3.600033373127288,
         3.6059282969984854,
         3.603959160866035,
         3.600078841908435,
         3.5932273522664793,
         3.588595395471725,
         3.5927897603672427,
         3.5953579378468947,
         3.5937275316625152,
         3.5739604927151656,
         3.601154201189932,
         3.6080687946805665,
         3.6005613546033217,
         3.572739273685317,
         3.5686852572319436,
         3.605636103145117,
         3.591744771980362,
         3.6036409855231866,
         3.578707518747188,
         3.592707507542512,
         3.5845847277989105,
         3.585804598081736,
         3.603304303943755,
         3.6082643957504796,
         3.572906764169328,
         3.5947676910073882,
         3.6066138629658635,
         3.590962354476337,
         3.6040016788466493,
         3.6053245229914954,
         3.583846173327272,
         3.595594454296525,
         3.5842496717965617,
         3.5917773045167927,
         3.588232777760183,
         3.585321214643128,
         3.581303448934231,
         3.5821638124277397,
         3.5893370135922797,
         3.593437929972625,
         3.5763989815681607,
         3.5919826869256566,
         3.589505092891776,
         3.5810911817525777,
         3.5769703047063386,
         3.577104667195407,
         3.5975631178156875,
         3.5831591088926364,
         3.5963007903763975,
         3.5946725077457176,
         3.603156799160809,
         3.5927312907090596,
         3.5975291786034935,
         3.605546492099934,
         3.590595169087957,
         3.5981028257330583,
         3.5958122433512223,
         3.5905071898557157,
         3.5889446243975396,
         3.59391281304475,
         3.6120804791043915,
         3.5777751933140007,
         3.6103205840534836,
         3.5760774908963513,
         3.609273732724819,
         3.5902806002801406,
         3.587114670140946,
         3.598702226411525,
         3.592383441618845,
         3.6018928748996637,
         3.619694288535845,
         3.598673329129345,
         3.591235821268874,
         3.5791874234276495,
         3.603560523862452,
         3.5905623560363673,
         3.609846731254694,
         3.5941879011937408,
         3.5944711112358747,
         3.596872550808778,
         3.58418379894455,
         3.5741648013777305,
         3.609198577811648,
         3.6001018512446215,
         3.5961801765250234,
         3.5947761155167686,
         3.595248142129356,
         3.609487800494947,
         3.5915325160501146,
         3.5937350853288534,
         3.588786440563764,
         3.585912041850071,
         3.596172072148516,
         3.5689652601171415,
         3.604194611754096,
         3.589657312509659,
         3.58451419499267,
         3.589471619659043,
         3.58911714960772,
         3.5939045498266196
        ]
       ],
       "encoder": "json",
       "name": "ABC_GAN_3 Metrics",
       "version": 1
      }
     },
     "metadata": {
      "scrapbook": {
       "data": true,
       "display": false,
       "name": "ABC_GAN_3 Metrics"
      }
     },
     "output_type": "display_data"
    },
    {
     "name": "stdout",
     "output_type": "stream",
     "text": [
      "MSE\n",
      "0.6454813172149061\n"
     ]
    }
   ],
   "source": [
    "ABC_GAN3_metrics=ABC_train_test2.test_generator(gen3,test_data,prior_model,variance,bias,\"3\",device)\n",
    "sb.glue(\"ABC_GAN_3 Metrics\",ABC_GAN3_metrics)\n",
    "\n",
    "print(\"MSE\")\n",
    "print(mean(ABC_GAN3_metrics[0]))"
   ]
  },
  {
   "cell_type": "code",
   "execution_count": 18,
   "id": "c8e46b48",
   "metadata": {
    "execution": {
     "iopub.execute_input": "2022-06-22T13:58:03.172061Z",
     "iopub.status.busy": "2022-06-22T13:58:03.153124Z",
     "iopub.status.idle": "2022-06-22T13:58:04.103913Z",
     "shell.execute_reply": "2022-06-22T13:58:04.104557Z"
    },
    "id": "c8e46b48",
    "papermill": {
     "duration": 1.049318,
     "end_time": "2022-06-22T13:58:04.104814",
     "exception": false,
     "start_time": "2022-06-22T13:58:03.055496",
     "status": "completed"
    },
    "tags": []
   },
   "outputs": [
    {
     "data": {
      "image/png": "[encoded data removed]",
      "text/plain": [
       "<Figure size 432x288 with 1 Axes>"
      ]
     },
     "metadata": {
      "needs_background": "light"
     },
     "output_type": "display_data"
    },
    {
     "data": {
      "image/png": "[encoded data removed]",
      "text/plain": [
       "<Figure size 432x288 with 1 Axes>"
      ]
     },
     "metadata": {
      "needs_background": "light"
     },
     "output_type": "display_data"
    },
    {
     "data": {
      "image/png": "[encoded data removed]",
      "text/plain": [
       "<Figure size 432x288 with 1 Axes>"
      ]
     },
     "metadata": {
      "needs_background": "light"
     },
     "output_type": "display_data"
    },
    {
     "data": {
      "image/png": "[encoded data removed]",
      "text/plain": [
       "<Figure size 432x288 with 1 Axes>"
      ]
     },
     "metadata": {
      "needs_background": "light"
     },
     "output_type": "display_data"
    }
   ],
   "source": [
    "sanityChecks.discProbVsError(train_data,disc3,device)\n",
    "sanityChecks.discProbVsError(test_data,disc3,device)"
   ]
  },
  {
   "cell_type": "markdown",
   "id": "a5bd74c3",
   "metadata": {
    "id": "a5bd74c3",
    "papermill": {
     "duration": 0.096789,
     "end_time": "2022-06-22T13:58:04.263984",
     "exception": false,
     "start_time": "2022-06-22T13:58:04.167195",
     "status": "completed"
    },
    "tags": []
   },
   "source": [
    "## Skip Connection Model Analysis - ABC-GAN "
   ]
  },
  {
   "cell_type": "markdown",
   "id": "5744a8bf",
   "metadata": {
    "id": "5744a8bf",
    "papermill": {
     "duration": 0.160054,
     "end_time": "2022-06-22T13:58:04.784632",
     "exception": false,
     "start_time": "2022-06-22T13:58:04.624578",
     "status": "completed"
    },
    "tags": []
   },
   "source": [
    "### Weight Analysis \n",
    "\n",
    "Study the weights of the skip connection layer\n",
    "\n",
    "Equation of the skip connection is \n",
    "\n",
    "$output = y_{gan} * w + y_{abc} * (1-w)$"
   ]
  },
  {
   "cell_type": "code",
   "execution_count": 19,
   "id": "52c31dea",
   "metadata": {
    "execution": {
     "iopub.execute_input": "2022-06-22T13:58:04.973231Z",
     "iopub.status.busy": "2022-06-22T13:58:04.969017Z",
     "iopub.status.idle": "2022-06-22T13:58:04.982458Z",
     "shell.execute_reply": "2022-06-22T13:58:04.979008Z"
    },
    "id": "52c31dea",
    "papermill": {
     "duration": 0.111538,
     "end_time": "2022-06-22T13:58:04.982703",
     "exception": false,
     "start_time": "2022-06-22T13:58:04.871165",
     "status": "completed"
    },
    "tags": []
   },
   "outputs": [
    {
     "name": "stdout",
     "output_type": "stream",
     "text": [
      "Weight of the node at skip connection\n",
      "Parameter containing:\n",
      "tensor([[0.]], requires_grad=True)\n"
     ]
    },
    {
     "data": {
      "application/scrapbook.scrap.json+json": {
       "data": 0.0,
       "encoder": "json",
       "name": "Skip Connection Weight",
       "version": 1
      }
     },
     "metadata": {
      "scrapbook": {
       "data": true,
       "display": false,
       "name": "Skip Connection Weight"
      }
     },
     "output_type": "display_data"
    }
   ],
   "source": [
    "print(\"Weight of the node at skip connection\")\n",
    "for name,param in gen3.named_parameters():\n",
    "    if(name == \"skipNode.weight\"):\n",
    "        print(param)\n",
    "        sb.glue(\"Skip Connection Weight\",param.item())"
   ]
  }
 ],
 "metadata": {
  "colab": {
   "collapsed_sections": [],
   "name": "ABC_GAN_Model-Catboost_Pre-gen.ipynb",
   "provenance": []
  },
  "interpreter": {
   "hash": "31f2aee4e71d21fbe5cf8b01ff0e069b9275f58929596ceb00d14d90e3e16cd6"
  },
  "kernelspec": {
   "display_name": "Python 3 (ipykernel)",
   "language": "python",
   "name": "python3"
  },
  "language_info": {
   "codemirror_mode": {
    "name": "ipython",
    "version": 3
   },
   "file_extension": ".py",
   "mimetype": "text/x-python",
   "name": "python",
   "nbconvert_exporter": "python",
   "pygments_lexer": "ipython3",
   "version": "3.8.3"
  },
  "papermill": {
   "default_parameters": {},
   "duration": 190.783011,
   "end_time": "2022-06-22T13:58:06.466736",
   "environment_variables": {},
   "exception": null,
   "input_path": "ABC_GAN-TabNet.ipynb",
   "output_path": "./ABC_GAN_TabNet/ABC-GAN_output_5_8.ipynb",
   "parameters": {
    "bias": 0.01,
    "variance": 0.01
   },
   "start_time": "2022-06-22T13:54:55.683725",
   "version": "2.3.3"
  }
 },
 "nbformat": 4,
 "nbformat_minor": 5
}