{
 "cells": [
  {
   "cell_type": "markdown",
   "id": "622780e6",
   "metadata": {
    "id": "622780e6",
    "papermill": {
     "duration": 0.024743,
     "end_time": "2022-06-22T12:38:28.420887",
     "exception": false,
     "start_time": "2022-06-22T12:38:28.396144",
     "status": "completed"
    },
    "tags": []
   },
   "source": [
    "## Import Libraries "
   ]
  },
  {
   "cell_type": "code",
   "execution_count": 1,
   "id": "a62397e3",
   "metadata": {
    "execution": {
     "iopub.execute_input": "2022-06-22T12:38:28.499041Z",
     "iopub.status.busy": "2022-06-22T12:38:28.491993Z",
     "iopub.status.idle": "2022-06-22T12:38:28.504596Z",
     "shell.execute_reply": "2022-06-22T12:38:28.502955Z"
    },
    "id": "a62397e3",
    "papermill": {
     "duration": 0.063918,
     "end_time": "2022-06-22T12:38:28.508051",
     "exception": false,
     "start_time": "2022-06-22T12:38:28.444133",
     "status": "completed"
    },
    "tags": []
   },
   "outputs": [],
   "source": [
    "import warnings\n",
    "import sys\n",
    "sys.path.insert(0, '../../src')\n",
    "warnings.filterwarnings('ignore')"
   ]
  },
  {
   "cell_type": "code",
   "execution_count": 2,
   "id": "d6a4e155",
   "metadata": {
    "execution": {
     "iopub.execute_input": "2022-06-22T12:38:28.573244Z",
     "iopub.status.busy": "2022-06-22T12:38:28.565361Z",
     "iopub.status.idle": "2022-06-22T12:38:36.889343Z",
     "shell.execute_reply": "2022-06-22T12:38:36.890206Z"
    },
    "id": "d6a4e155",
    "papermill": {
     "duration": 8.360575,
     "end_time": "2022-06-22T12:38:36.891722",
     "exception": false,
     "start_time": "2022-06-22T12:38:28.531147",
     "status": "completed"
    },
    "tags": []
   },
   "outputs": [],
   "source": [
    "import ABC_train_test2\n",
    "import friedman3Dataset\n",
    "import network\n",
    "import dataset\n",
    "import sanityChecks\n",
    "import torch \n",
    "import scrapbook as sb\n",
    "from statistics import mean \n",
    "import catboost as ctb \n",
    "from sklearn.model_selection import train_test_split\n",
    "from sklearn.metrics import mean_squared_error,mean_absolute_error\n",
    "import numpy as np\n",
    "from pytorch_tabnet.tab_model import TabNetRegressor"
   ]
  },
  {
   "cell_type": "markdown",
   "id": "2fa5b0f7",
   "metadata": {
    "id": "2fa5b0f7",
    "papermill": {
     "duration": 0.048769,
     "end_time": "2022-06-22T12:38:36.967953",
     "exception": false,
     "start_time": "2022-06-22T12:38:36.919184",
     "status": "completed"
    },
    "tags": []
   },
   "source": [
    "## Parameters "
   ]
  },
  {
   "cell_type": "code",
   "execution_count": 3,
   "id": "783186fb",
   "metadata": {
    "execution": {
     "iopub.execute_input": "2022-06-22T12:38:37.037434Z",
     "iopub.status.busy": "2022-06-22T12:38:37.036019Z",
     "iopub.status.idle": "2022-06-22T12:38:37.038200Z",
     "shell.execute_reply": "2022-06-22T12:38:37.036810Z"
    },
    "id": "783186fb",
    "papermill": {
     "duration": 0.049162,
     "end_time": "2022-06-22T12:38:37.038500",
     "exception": false,
     "start_time": "2022-06-22T12:38:36.989338",
     "status": "completed"
    },
    "tags": [
     "parameters"
    ]
   },
   "outputs": [],
   "source": [
    "variance = 1\n",
    "bias = 1 "
   ]
  },
  {
   "cell_type": "code",
   "execution_count": 4,
   "id": "8f59129a",
   "metadata": {
    "execution": {
     "iopub.execute_input": "2022-06-22T12:38:37.094284Z",
     "iopub.status.busy": "2022-06-22T12:38:37.091008Z",
     "iopub.status.idle": "2022-06-22T12:38:37.102869Z",
     "shell.execute_reply": "2022-06-22T12:38:37.103988Z"
    },
    "papermill": {
     "duration": 0.048042,
     "end_time": "2022-06-22T12:38:37.104235",
     "exception": false,
     "start_time": "2022-06-22T12:38:37.056193",
     "status": "completed"
    },
    "tags": [
     "injected-parameters"
    ]
   },
   "outputs": [],
   "source": [
    "# Parameters\n",
    "variance = 1\n",
    "bias = 0.01\n"
   ]
  },
  {
   "cell_type": "markdown",
   "id": "391cdbfd",
   "metadata": {
    "id": "391cdbfd",
    "papermill": {
     "duration": 0.017768,
     "end_time": "2022-06-22T12:38:37.140296",
     "exception": false,
     "start_time": "2022-06-22T12:38:37.122528",
     "status": "completed"
    },
    "tags": []
   },
   "source": [
    "## Dataset \n"
   ]
  },
  {
   "cell_type": "code",
   "execution_count": 5,
   "id": "5b51f161",
   "metadata": {
    "execution": {
     "iopub.execute_input": "2022-06-22T12:38:37.187298Z",
     "iopub.status.busy": "2022-06-22T12:38:37.185884Z",
     "iopub.status.idle": "2022-06-22T12:38:37.189469Z",
     "shell.execute_reply": "2022-06-22T12:38:37.188764Z"
    },
    "id": "5b51f161",
    "papermill": {
     "duration": 0.032544,
     "end_time": "2022-06-22T12:38:37.189750",
     "exception": false,
     "start_time": "2022-06-22T12:38:37.157206",
     "status": "completed"
    },
    "tags": []
   },
   "outputs": [],
   "source": [
    "#Parameters \n",
    "n_features = 4\n",
    "n_samples= 100\n",
    "n_target = 1"
   ]
  },
  {
   "cell_type": "code",
   "execution_count": 6,
   "id": "5d6eced4",
   "metadata": {
    "execution": {
     "iopub.execute_input": "2022-06-22T12:38:37.252558Z",
     "iopub.status.busy": "2022-06-22T12:38:37.251048Z",
     "iopub.status.idle": "2022-06-22T12:38:37.257290Z",
     "shell.execute_reply": "2022-06-22T12:38:37.258088Z"
    },
    "id": "5d6eced4",
    "papermill": {
     "duration": 0.051309,
     "end_time": "2022-06-22T12:38:37.258338",
     "exception": false,
     "start_time": "2022-06-22T12:38:37.207029",
     "status": "completed"
    },
    "tags": []
   },
   "outputs": [
    {
     "name": "stdout",
     "output_type": "stream",
     "text": [
      "          X1          X2        X3        X4         Y\n",
      "0  41.344573  125.814330  0.077488  7.924572  0.379024\n",
      "1  13.512587  383.505070  0.150005  9.649580  1.273339\n",
      "2  83.477816  572.630142  0.028917  6.782238  0.255305\n",
      "3  32.375795  460.565731  0.332667  4.199980  1.444622\n",
      "4   1.036416  343.839321  0.632933  6.826102  1.583864\n"
     ]
    }
   ],
   "source": [
    "X,Y = friedman3Dataset.friedman3_data(n_samples)"
   ]
  },
  {
   "cell_type": "code",
   "execution_count": 7,
   "id": "fe007438",
   "metadata": {
    "execution": {
     "iopub.execute_input": "2022-06-22T12:38:37.331390Z",
     "iopub.status.busy": "2022-06-22T12:38:37.325339Z",
     "iopub.status.idle": "2022-06-22T12:38:37.332725Z",
     "shell.execute_reply": "2022-06-22T12:38:37.332018Z"
    },
    "id": "fe007438",
    "papermill": {
     "duration": 0.055543,
     "end_time": "2022-06-22T12:38:37.332933",
     "exception": false,
     "start_time": "2022-06-22T12:38:37.277390",
     "status": "completed"
    },
    "tags": []
   },
   "outputs": [],
   "source": [
    "#Train test split for dataset \n",
    "X_train,X_test,Y_train,Y_test = train_test_split(X,Y,test_size = 0.2)\n",
    "train_data = dataset.CustomDataset(X_train,Y_train)\n",
    "test_data = dataset.CustomDataset(X_test,Y_test)\n"
   ]
  },
  {
   "cell_type": "markdown",
   "id": "a9a1af34",
   "metadata": {
    "id": "a9a1af34",
    "papermill": {
     "duration": 0.123767,
     "end_time": "2022-06-22T12:38:37.477719",
     "exception": false,
     "start_time": "2022-06-22T12:38:37.353952",
     "status": "completed"
    },
    "tags": []
   },
   "source": [
    "## Training Parameters "
   ]
  },
  {
   "cell_type": "code",
   "execution_count": 8,
   "id": "952b7fc8",
   "metadata": {
    "execution": {
     "iopub.execute_input": "2022-06-22T12:38:37.597314Z",
     "iopub.status.busy": "2022-06-22T12:38:37.591021Z",
     "iopub.status.idle": "2022-06-22T12:38:37.606218Z",
     "shell.execute_reply": "2022-06-22T12:38:37.607063Z"
    },
    "id": "952b7fc8",
    "papermill": {
     "duration": 0.070718,
     "end_time": "2022-06-22T12:38:37.607644",
     "exception": false,
     "start_time": "2022-06-22T12:38:37.536926",
     "status": "completed"
    },
    "tags": []
   },
   "outputs": [],
   "source": [
    "batch_size = 32\n",
    "n_epochs = 1000\n",
    "#Select the device \n",
    "device = torch.device('cuda' if torch.cuda.is_available() else 'cpu')"
   ]
  },
  {
   "cell_type": "markdown",
   "id": "a95e1600",
   "metadata": {
    "id": "a95e1600",
    "papermill": {
     "duration": 0.020269,
     "end_time": "2022-06-22T12:38:37.652683",
     "exception": false,
     "start_time": "2022-06-22T12:38:37.632414",
     "status": "completed"
    },
    "tags": []
   },
   "source": [
    "# ABC Pre-generator Model \n",
    "\n",
    "1. The catboost model is used as a pre-generator model for the ABC-GAN. \n",
    "2. The model is first trained on the entire dataset \n",
    "3. It generats X,Y pairs and we add some Gaussian noise with mean 0 and variance 1 to it which is then feed as input to the generator.\n"
   ]
  },
  {
   "cell_type": "code",
   "execution_count": 9,
   "id": "ff8ce7bd",
   "metadata": {
    "execution": {
     "iopub.execute_input": "2022-06-22T12:38:37.705233Z",
     "iopub.status.busy": "2022-06-22T12:38:37.701764Z",
     "iopub.status.idle": "2022-06-22T12:38:52.687044Z",
     "shell.execute_reply": "2022-06-22T12:38:52.687632Z"
    },
    "id": "ff8ce7bd",
    "papermill": {
     "duration": 15.011233,
     "end_time": "2022-06-22T12:38:52.687831",
     "exception": false,
     "start_time": "2022-06-22T12:38:37.676598",
     "status": "completed"
    },
    "tags": []
   },
   "outputs": [
    {
     "name": "stdout",
     "output_type": "stream",
     "text": [
      "Device used : cpu\n"
     ]
    },
    {
     "name": "stdout",
     "output_type": "stream",
     "text": [
      "epoch 0  | loss: 1.07983 | train_mse: 5.83948 | train_mae: 1.72869 |  0:00:00s\n",
      "epoch 1  | loss: 0.68175 | train_mse: 5.52906 | train_mae: 1.67932 |  0:00:00s\n",
      "epoch 2  | loss: 0.87142 | train_mse: 2.31345 | train_mae: 1.07144 |  0:00:00s\n"
     ]
    },
    {
     "name": "stdout",
     "output_type": "stream",
     "text": [
      "epoch 3  | loss: 0.47102 | train_mse: 1.49265 | train_mae: 0.84615 |  0:00:00s\n",
      "epoch 4  | loss: 0.5105  | train_mse: 0.97633 | train_mae: 0.67545 |  0:00:00s\n",
      "epoch 5  | loss: 0.31679 | train_mse: 0.70885 | train_mae: 0.60483 |  0:00:00s\n"
     ]
    },
    {
     "name": "stdout",
     "output_type": "stream",
     "text": [
      "epoch 6  | loss: 0.41311 | train_mse: 0.55546 | train_mae: 0.52619 |  0:00:00s\n",
      "epoch 7  | loss: 0.41813 | train_mse: 0.692   | train_mae: 0.58168 |  0:00:00s\n",
      "epoch 8  | loss: 0.38361 | train_mse: 0.71355 | train_mae: 0.54422 |  0:00:00s\n"
     ]
    },
    {
     "name": "stdout",
     "output_type": "stream",
     "text": [
      "epoch 9  | loss: 0.37451 | train_mse: 0.52992 | train_mae: 0.50266 |  0:00:00s\n",
      "epoch 10 | loss: 0.34493 | train_mse: 0.45159 | train_mae: 0.48829 |  0:00:01s\n",
      "epoch 11 | loss: 0.37403 | train_mse: 0.49851 | train_mae: 0.50077 |  0:00:01s\n"
     ]
    },
    {
     "name": "stdout",
     "output_type": "stream",
     "text": [
      "epoch 12 | loss: 0.41904 | train_mse: 0.42997 | train_mae: 0.46561 |  0:00:01s\n",
      "epoch 13 | loss: 0.27954 | train_mse: 0.3255  | train_mae: 0.39301 |  0:00:01s\n"
     ]
    },
    {
     "name": "stdout",
     "output_type": "stream",
     "text": [
      "epoch 14 | loss: 0.26937 | train_mse: 0.27246 | train_mae: 0.34569 |  0:00:01s\n",
      "epoch 15 | loss: 0.35576 | train_mse: 0.37961 | train_mae: 0.41112 |  0:00:01s\n",
      "epoch 16 | loss: 0.2033  | train_mse: 0.36627 | train_mae: 0.3725  |  0:00:01s\n"
     ]
    },
    {
     "name": "stdout",
     "output_type": "stream",
     "text": [
      "epoch 17 | loss: 0.1861  | train_mse: 0.35599 | train_mae: 0.36739 |  0:00:01s\n",
      "epoch 18 | loss: 0.24487 | train_mse: 0.32742 | train_mae: 0.3739  |  0:00:01s\n",
      "epoch 19 | loss: 0.1707  | train_mse: 0.35849 | train_mae: 0.37559 |  0:00:02s\n"
     ]
    },
    {
     "name": "stdout",
     "output_type": "stream",
     "text": [
      "epoch 20 | loss: 0.40472 | train_mse: 0.34166 | train_mae: 0.35228 |  0:00:02s\n",
      "epoch 21 | loss: 0.18331 | train_mse: 0.20511 | train_mae: 0.30667 |  0:00:02s\n",
      "epoch 22 | loss: 0.24273 | train_mse: 0.2421  | train_mae: 0.32201 |  0:00:02s\n"
     ]
    },
    {
     "name": "stdout",
     "output_type": "stream",
     "text": [
      "epoch 23 | loss: 0.14069 | train_mse: 0.2043  | train_mae: 0.32492 |  0:00:02s\n",
      "epoch 24 | loss: 0.29109 | train_mse: 0.22383 | train_mae: 0.33486 |  0:00:02s\n",
      "epoch 25 | loss: 0.15213 | train_mse: 0.14405 | train_mae: 0.30467 |  0:00:02s\n"
     ]
    },
    {
     "name": "stdout",
     "output_type": "stream",
     "text": [
      "epoch 26 | loss: 0.16668 | train_mse: 0.13204 | train_mae: 0.28473 |  0:00:02s\n"
     ]
    },
    {
     "name": "stdout",
     "output_type": "stream",
     "text": [
      "epoch 27 | loss: 0.18396 | train_mse: 0.26603 | train_mae: 0.35675 |  0:00:03s\n",
      "epoch 28 | loss: 0.16244 | train_mse: 0.26809 | train_mae: 0.34033 |  0:00:03s\n"
     ]
    },
    {
     "name": "stdout",
     "output_type": "stream",
     "text": [
      "epoch 29 | loss: 0.20688 | train_mse: 0.2119  | train_mae: 0.33726 |  0:00:03s\n",
      "epoch 30 | loss: 0.2367  | train_mse: 0.16551 | train_mae: 0.29888 |  0:00:03s\n",
      "epoch 31 | loss: 0.17619 | train_mse: 0.20069 | train_mae: 0.31045 |  0:00:03s\n",
      "epoch 32 | loss: 0.15021 | train_mse: 0.20189 | train_mae: 0.30918 |  0:00:03s\n"
     ]
    },
    {
     "name": "stdout",
     "output_type": "stream",
     "text": [
      "epoch 33 | loss: 0.15841 | train_mse: 0.14323 | train_mae: 0.27629 |  0:00:03s\n",
      "epoch 34 | loss: 0.16201 | train_mse: 0.12406 | train_mae: 0.25737 |  0:00:03s\n",
      "epoch 35 | loss: 0.10529 | train_mse: 0.10696 | train_mae: 0.24947 |  0:00:03s\n"
     ]
    },
    {
     "name": "stdout",
     "output_type": "stream",
     "text": [
      "epoch 36 | loss: 0.25833 | train_mse: 0.12118 | train_mae: 0.26217 |  0:00:03s\n",
      "epoch 37 | loss: 0.13239 | train_mse: 0.12154 | train_mae: 0.25914 |  0:00:03s\n",
      "epoch 38 | loss: 0.1082  | train_mse: 0.12319 | train_mae: 0.26489 |  0:00:03s\n"
     ]
    },
    {
     "name": "stdout",
     "output_type": "stream",
     "text": [
      "epoch 39 | loss: 0.16044 | train_mse: 0.14184 | train_mae: 0.29588 |  0:00:04s\n",
      "epoch 40 | loss: 0.32811 | train_mse: 0.22086 | train_mae: 0.35782 |  0:00:04s\n",
      "epoch 41 | loss: 0.25809 | train_mse: 0.25389 | train_mae: 0.3504  |  0:00:04s\n",
      "epoch 42 | loss: 0.18226 | train_mse: 0.19612 | train_mae: 0.31289 |  0:00:04s\n"
     ]
    },
    {
     "name": "stdout",
     "output_type": "stream",
     "text": [
      "epoch 43 | loss: 0.20095 | train_mse: 0.16536 | train_mae: 0.30225 |  0:00:04s\n",
      "epoch 44 | loss: 0.15933 | train_mse: 0.18481 | train_mae: 0.31867 |  0:00:04s\n",
      "epoch 45 | loss: 0.20082 | train_mse: 0.20652 | train_mae: 0.3332  |  0:00:04s\n",
      "epoch 46 | loss: 0.13376 | train_mse: 0.18659 | train_mae: 0.30699 |  0:00:04s\n"
     ]
    },
    {
     "name": "stdout",
     "output_type": "stream",
     "text": [
      "epoch 47 | loss: 0.12812 | train_mse: 0.1577  | train_mae: 0.26876 |  0:00:04s\n",
      "epoch 48 | loss: 0.2439  | train_mse: 0.15502 | train_mae: 0.265   |  0:00:04s\n",
      "epoch 49 | loss: 0.22995 | train_mse: 0.15432 | train_mae: 0.26149 |  0:00:04s\n",
      "epoch 50 | loss: 0.20916 | train_mse: 0.13765 | train_mae: 0.2555  |  0:00:04s\n"
     ]
    },
    {
     "name": "stdout",
     "output_type": "stream",
     "text": [
      "epoch 51 | loss: 0.13643 | train_mse: 0.10266 | train_mae: 0.23801 |  0:00:04s\n",
      "epoch 52 | loss: 0.18243 | train_mse: 0.10027 | train_mae: 0.24349 |  0:00:04s\n",
      "epoch 53 | loss: 0.11348 | train_mse: 0.08454 | train_mae: 0.23137 |  0:00:04s\n"
     ]
    },
    {
     "name": "stdout",
     "output_type": "stream",
     "text": [
      "epoch 54 | loss: 0.15582 | train_mse: 0.07625 | train_mae: 0.21799 |  0:00:05s\n",
      "epoch 55 | loss: 0.14546 | train_mse: 0.08636 | train_mae: 0.22532 |  0:00:05s\n",
      "epoch 56 | loss: 0.13613 | train_mse: 0.07129 | train_mae: 0.20562 |  0:00:05s\n"
     ]
    },
    {
     "name": "stdout",
     "output_type": "stream",
     "text": [
      "epoch 57 | loss: 0.32045 | train_mse: 0.07637 | train_mae: 0.20872 |  0:00:05s\n",
      "epoch 58 | loss: 0.13411 | train_mse: 0.09188 | train_mae: 0.22765 |  0:00:05s\n",
      "epoch 59 | loss: 0.0834  | train_mse: 0.12524 | train_mae: 0.2537  |  0:00:05s\n"
     ]
    },
    {
     "name": "stdout",
     "output_type": "stream",
     "text": [
      "epoch 60 | loss: 0.20197 | train_mse: 0.14979 | train_mae: 0.28167 |  0:00:05s\n",
      "epoch 61 | loss: 0.15218 | train_mse: 0.12324 | train_mae: 0.25608 |  0:00:05s\n",
      "epoch 62 | loss: 0.24238 | train_mse: 0.10575 | train_mae: 0.25257 |  0:00:05s\n",
      "epoch 63 | loss: 0.13452 | train_mse: 0.08393 | train_mae: 0.23443 |  0:00:05s\n"
     ]
    },
    {
     "name": "stdout",
     "output_type": "stream",
     "text": [
      "epoch 64 | loss: 0.10238 | train_mse: 0.07718 | train_mae: 0.22208 |  0:00:05s\n",
      "epoch 65 | loss: 0.1122  | train_mse: 0.0765  | train_mae: 0.21451 |  0:00:05s\n"
     ]
    },
    {
     "name": "stdout",
     "output_type": "stream",
     "text": [
      "epoch 66 | loss: 0.15985 | train_mse: 0.07644 | train_mae: 0.21213 |  0:00:05s\n",
      "epoch 67 | loss: 0.10343 | train_mse: 0.07089 | train_mae: 0.19439 |  0:00:06s\n",
      "epoch 68 | loss: 0.19938 | train_mse: 0.08009 | train_mae: 0.19566 |  0:00:06s\n"
     ]
    },
    {
     "name": "stdout",
     "output_type": "stream",
     "text": [
      "epoch 69 | loss: 0.14165 | train_mse: 0.07147 | train_mae: 0.20341 |  0:00:06s\n",
      "epoch 70 | loss: 0.11761 | train_mse: 0.06694 | train_mae: 0.20159 |  0:00:06s\n",
      "epoch 71 | loss: 0.08628 | train_mse: 0.07465 | train_mae: 0.21952 |  0:00:06s\n",
      "epoch 72 | loss: 0.13689 | train_mse: 0.07369 | train_mae: 0.22248 |  0:00:06s\n"
     ]
    },
    {
     "name": "stdout",
     "output_type": "stream",
     "text": [
      "epoch 73 | loss: 0.10512 | train_mse: 0.05847 | train_mae: 0.19218 |  0:00:06s\n",
      "epoch 74 | loss: 0.09973 | train_mse: 0.05233 | train_mae: 0.17298 |  0:00:06s\n",
      "epoch 75 | loss: 0.1039  | train_mse: 0.05818 | train_mae: 0.18011 |  0:00:06s\n"
     ]
    },
    {
     "name": "stdout",
     "output_type": "stream",
     "text": [
      "epoch 76 | loss: 0.23524 | train_mse: 0.04622 | train_mae: 0.16625 |  0:00:06s\n",
      "epoch 77 | loss: 0.08811 | train_mse: 0.0403  | train_mae: 0.15801 |  0:00:06s\n",
      "epoch 78 | loss: 0.16024 | train_mse: 0.04588 | train_mae: 0.17625 |  0:00:06s\n"
     ]
    },
    {
     "name": "stdout",
     "output_type": "stream",
     "text": [
      "epoch 79 | loss: 0.1577  | train_mse: 0.04316 | train_mae: 0.16846 |  0:00:06s\n",
      "epoch 80 | loss: 0.06508 | train_mse: 0.04731 | train_mae: 0.17277 |  0:00:07s\n"
     ]
    },
    {
     "name": "stdout",
     "output_type": "stream",
     "text": [
      "epoch 81 | loss: 0.09541 | train_mse: 0.06204 | train_mae: 0.18562 |  0:00:07s\n",
      "epoch 82 | loss: 0.10732 | train_mse: 0.05832 | train_mae: 0.18466 |  0:00:07s\n"
     ]
    },
    {
     "name": "stdout",
     "output_type": "stream",
     "text": [
      "epoch 83 | loss: 0.08033 | train_mse: 0.06605 | train_mae: 0.20321 |  0:00:07s\n",
      "epoch 84 | loss: 0.16653 | train_mse: 0.06387 | train_mae: 0.20338 |  0:00:07s\n",
      "epoch 85 | loss: 0.06819 | train_mse: 0.06336 | train_mae: 0.19953 |  0:00:07s\n"
     ]
    },
    {
     "name": "stdout",
     "output_type": "stream",
     "text": [
      "epoch 86 | loss: 0.09976 | train_mse: 0.05316 | train_mae: 0.17578 |  0:00:07s\n",
      "epoch 87 | loss: 0.08432 | train_mse: 0.0568  | train_mae: 0.18706 |  0:00:07s\n"
     ]
    },
    {
     "name": "stdout",
     "output_type": "stream",
     "text": [
      "epoch 88 | loss: 0.0779  | train_mse: 0.08341 | train_mae: 0.22392 |  0:00:08s\n",
      "epoch 89 | loss: 0.08831 | train_mse: 0.07973 | train_mae: 0.20159 |  0:00:08s\n",
      "epoch 90 | loss: 0.08293 | train_mse: 0.06403 | train_mae: 0.19243 |  0:00:08s\n"
     ]
    },
    {
     "name": "stdout",
     "output_type": "stream",
     "text": [
      "epoch 91 | loss: 0.07786 | train_mse: 0.06043 | train_mae: 0.19385 |  0:00:08s\n",
      "epoch 92 | loss: 0.12494 | train_mse: 0.06817 | train_mae: 0.20618 |  0:00:08s\n",
      "epoch 93 | loss: 0.1147  | train_mse: 0.09718 | train_mae: 0.2361  |  0:00:08s\n"
     ]
    },
    {
     "name": "stdout",
     "output_type": "stream",
     "text": [
      "epoch 94 | loss: 0.10319 | train_mse: 0.09313 | train_mae: 0.22425 |  0:00:08s\n",
      "epoch 95 | loss: 0.04553 | train_mse: 0.05765 | train_mae: 0.18822 |  0:00:08s\n",
      "epoch 96 | loss: 0.08811 | train_mse: 0.05328 | train_mae: 0.18629 |  0:00:08s\n"
     ]
    },
    {
     "name": "stdout",
     "output_type": "stream",
     "text": [
      "epoch 97 | loss: 0.07178 | train_mse: 0.05423 | train_mae: 0.18947 |  0:00:08s\n",
      "epoch 98 | loss: 0.13234 | train_mse: 0.05739 | train_mae: 0.19292 |  0:00:08s\n",
      "epoch 99 | loss: 0.15327 | train_mse: 0.08364 | train_mae: 0.21859 |  0:00:08s\n"
     ]
    },
    {
     "name": "stdout",
     "output_type": "stream",
     "text": [
      "epoch 100| loss: 0.09639 | train_mse: 0.07485 | train_mae: 0.20684 |  0:00:09s\n",
      "epoch 101| loss: 0.1395  | train_mse: 0.06398 | train_mae: 0.19718 |  0:00:09s\n"
     ]
    },
    {
     "name": "stdout",
     "output_type": "stream",
     "text": [
      "epoch 102| loss: 0.10667 | train_mse: 0.04955 | train_mae: 0.1847  |  0:00:09s\n",
      "epoch 103| loss: 0.05382 | train_mse: 0.05193 | train_mae: 0.17591 |  0:00:09s\n",
      "epoch 104| loss: 0.09596 | train_mse: 0.06571 | train_mae: 0.18784 |  0:00:09s\n"
     ]
    },
    {
     "name": "stdout",
     "output_type": "stream",
     "text": [
      "epoch 105| loss: 0.1101  | train_mse: 0.0473  | train_mae: 0.16474 |  0:00:09s\n",
      "epoch 106| loss: 0.13748 | train_mse: 0.04433 | train_mae: 0.16186 |  0:00:09s\n",
      "epoch 107| loss: 0.07846 | train_mse: 0.05476 | train_mae: 0.18486 |  0:00:09s"
     ]
    },
    {
     "name": "stdout",
     "output_type": "stream",
     "text": [
      "\n",
      "epoch 108| loss: 0.07641 | train_mse: 0.04769 | train_mae: 0.17027 |  0:00:09s\n"
     ]
    },
    {
     "name": "stdout",
     "output_type": "stream",
     "text": [
      "epoch 109| loss: 0.1338  | train_mse: 0.04841 | train_mae: 0.16808 |  0:00:10s\n",
      "epoch 110| loss: 0.22839 | train_mse: 0.04969 | train_mae: 0.17513 |  0:00:10s\n",
      "epoch 111| loss: 0.09656 | train_mse: 0.04867 | train_mae: 0.17136 |  0:00:10s"
     ]
    },
    {
     "name": "stdout",
     "output_type": "stream",
     "text": [
      "\n",
      "epoch 112| loss: 0.06288 | train_mse: 0.046   | train_mae: 0.16446 |  0:00:10s\n"
     ]
    },
    {
     "name": "stdout",
     "output_type": "stream",
     "text": [
      "epoch 113| loss: 0.13033 | train_mse: 0.04627 | train_mae: 0.16744 |  0:00:10s\n",
      "epoch 114| loss: 0.08256 | train_mse: 0.04042 | train_mae: 0.15149 |  0:00:10s\n",
      "epoch 115| loss: 0.09642 | train_mse: 0.0468  | train_mae: 0.175   |  0:00:10s\n"
     ]
    },
    {
     "name": "stdout",
     "output_type": "stream",
     "text": [
      "epoch 116| loss: 0.13189 | train_mse: 0.05934 | train_mae: 0.19569 |  0:00:10s\n",
      "epoch 117| loss: 0.08027 | train_mse: 0.03786 | train_mae: 0.14984 |  0:00:10s\n",
      "epoch 118| loss: 0.08728 | train_mse: 0.04498 | train_mae: 0.1641  |  0:00:10s\n"
     ]
    },
    {
     "name": "stdout",
     "output_type": "stream",
     "text": [
      "epoch 119| loss: 0.11338 | train_mse: 0.0382  | train_mae: 0.14706 |  0:00:10s\n",
      "epoch 120| loss: 0.08411 | train_mse: 0.03807 | train_mae: 0.15623 |  0:00:11s\n",
      "epoch 121| loss: 0.11251 | train_mse: 0.05701 | train_mae: 0.18019 |  0:00:11s\n"
     ]
    },
    {
     "name": "stdout",
     "output_type": "stream",
     "text": [
      "epoch 122| loss: 0.17157 | train_mse: 0.07361 | train_mae: 0.19048 |  0:00:11s\n",
      "epoch 123| loss: 0.07711 | train_mse: 0.07616 | train_mae: 0.20557 |  0:00:11s\n",
      "epoch 124| loss: 0.11146 | train_mse: 0.04799 | train_mae: 0.16998 |  0:00:11s\n"
     ]
    },
    {
     "name": "stdout",
     "output_type": "stream",
     "text": [
      "epoch 125| loss: 0.08093 | train_mse: 0.04569 | train_mae: 0.16819 |  0:00:11s\n",
      "epoch 126| loss: 0.12139 | train_mse: 0.05421 | train_mae: 0.17947 |  0:00:11s\n",
      "epoch 127| loss: 0.10868 | train_mse: 0.06939 | train_mae: 0.19623 |  0:00:11s\n"
     ]
    },
    {
     "name": "stdout",
     "output_type": "stream",
     "text": [
      "epoch 128| loss: 0.12484 | train_mse: 0.07212 | train_mae: 0.1959  |  0:00:11s\n",
      "epoch 129| loss: 0.20041 | train_mse: 0.06214 | train_mae: 0.1866  |  0:00:11s\n",
      "epoch 130| loss: 0.11555 | train_mse: 0.06967 | train_mae: 0.19353 |  0:00:11s\n"
     ]
    },
    {
     "name": "stdout",
     "output_type": "stream",
     "text": [
      "epoch 131| loss: 0.06337 | train_mse: 0.06806 | train_mae: 0.1973  |  0:00:12s\n",
      "epoch 132| loss: 0.08826 | train_mse: 0.06235 | train_mae: 0.19226 |  0:00:12s\n",
      "epoch 133| loss: 0.1037  | train_mse: 0.05043 | train_mae: 0.17417 |  0:00:12s\n"
     ]
    },
    {
     "name": "stdout",
     "output_type": "stream",
     "text": [
      "epoch 134| loss: 0.05923 | train_mse: 0.04777 | train_mae: 0.17059 |  0:00:12s\n",
      "epoch 135| loss: 0.05183 | train_mse: 0.04237 | train_mae: 0.15475 |  0:00:12s\n",
      "epoch 136| loss: 0.06462 | train_mse: 0.04851 | train_mae: 0.16372 |  0:00:12s\n"
     ]
    },
    {
     "name": "stdout",
     "output_type": "stream",
     "text": [
      "epoch 137| loss: 0.08165 | train_mse: 0.04832 | train_mae: 0.16217 |  0:00:12s\n",
      "epoch 138| loss: 0.06586 | train_mse: 0.05519 | train_mae: 0.17516 |  0:00:12s\n",
      "epoch 139| loss: 0.08465 | train_mse: 0.07583 | train_mae: 0.19951 |  0:00:12s\n"
     ]
    },
    {
     "name": "stdout",
     "output_type": "stream",
     "text": [
      "epoch 140| loss: 0.08395 | train_mse: 0.0705  | train_mae: 0.20254 |  0:00:12s\n",
      "epoch 141| loss: 0.1007  | train_mse: 0.06049 | train_mae: 0.18851 |  0:00:12s\n",
      "epoch 142| loss: 0.06473 | train_mse: 0.05072 | train_mae: 0.17089 |  0:00:13s"
     ]
    },
    {
     "name": "stdout",
     "output_type": "stream",
     "text": [
      "\n",
      "epoch 143| loss: 0.11478 | train_mse: 0.04774 | train_mae: 0.16212 |  0:00:13s\n",
      "epoch 144| loss: 0.10209 | train_mse: 0.05779 | train_mae: 0.17825 |  0:00:13s\n"
     ]
    },
    {
     "name": "stdout",
     "output_type": "stream",
     "text": [
      "epoch 145| loss: 0.06486 | train_mse: 0.055   | train_mae: 0.17929 |  0:00:13s\n",
      "epoch 146| loss: 0.09197 | train_mse: 0.05274 | train_mae: 0.17716 |  0:00:13s\n",
      "epoch 147| loss: 0.13159 | train_mse: 0.05639 | train_mae: 0.18043 |  0:00:13s\n"
     ]
    },
    {
     "name": "stdout",
     "output_type": "stream",
     "text": [
      "epoch 148| loss: 0.07241 | train_mse: 0.06149 | train_mae: 0.18313 |  0:00:13s\n",
      "epoch 149| loss: 0.076   | train_mse: 0.06764 | train_mae: 0.18823 |  0:00:13s\n",
      "epoch 150| loss: 0.09564 | train_mse: 0.05779 | train_mae: 0.1737  |  0:00:13s\n"
     ]
    },
    {
     "name": "stdout",
     "output_type": "stream",
     "text": [
      "epoch 151| loss: 0.06336 | train_mse: 0.04676 | train_mae: 0.15487 |  0:00:13s\n",
      "epoch 152| loss: 0.07309 | train_mse: 0.05565 | train_mae: 0.17196 |  0:00:13s\n",
      "epoch 153| loss: 0.22476 | train_mse: 0.062   | train_mae: 0.18595 |  0:00:13s\n",
      "epoch 154| loss: 0.10858 | train_mse: 0.06276 | train_mae: 0.18737 |  0:00:13s\n"
     ]
    },
    {
     "name": "stdout",
     "output_type": "stream",
     "text": [
      "epoch 155| loss: 0.13325 | train_mse: 0.04701 | train_mae: 0.16857 |  0:00:13s\n",
      "epoch 156| loss: 0.09489 | train_mse: 0.04258 | train_mae: 0.16431 |  0:00:14s\n",
      "epoch 157| loss: 0.09422 | train_mse: 0.04905 | train_mae: 0.17837 |  0:00:14s\n",
      "epoch 158| loss: 0.12076 | train_mse: 0.05379 | train_mae: 0.18099 |  0:00:14s\n"
     ]
    },
    {
     "name": "stdout",
     "output_type": "stream",
     "text": [
      "epoch 159| loss: 0.10448 | train_mse: 0.07881 | train_mae: 0.21392 |  0:00:14s\n",
      "epoch 160| loss: 0.07524 | train_mse: 0.06527 | train_mae: 0.19358 |  0:00:14s\n",
      "epoch 161| loss: 0.1137  | train_mse: 0.05006 | train_mae: 0.17521 |  0:00:14s\n",
      "epoch 162| loss: 0.17264 | train_mse: 0.04022 | train_mae: 0.1533  |  0:00:14s\n"
     ]
    },
    {
     "name": "stdout",
     "output_type": "stream",
     "text": [
      "epoch 163| loss: 0.06864 | train_mse: 0.04544 | train_mae: 0.17073 |  0:00:14s\n",
      "epoch 164| loss: 0.11064 | train_mse: 0.066   | train_mae: 0.21482 |  0:00:14s\n",
      "epoch 165| loss: 0.09854 | train_mse: 0.07356 | train_mae: 0.20242 |  0:00:14s\n",
      "epoch 166| loss: 0.14588 | train_mse: 0.06654 | train_mae: 0.17622 |  0:00:14s\n"
     ]
    },
    {
     "name": "stdout",
     "output_type": "stream",
     "text": [
      "epoch 167| loss: 0.14042 | train_mse: 0.05231 | train_mae: 0.16813 |  0:00:14s\n",
      "epoch 168| loss: 0.09251 | train_mse: 0.04242 | train_mae: 0.16196 |  0:00:14s\n",
      "epoch 169| loss: 0.06868 | train_mse: 0.03876 | train_mae: 0.15355 |  0:00:14s\n",
      "\n",
      "Early stopping occurred at epoch 169 with best_epoch = 119 and best_train_mae = 0.14706\n",
      "Best weights from best epoch are automatically used!\n"
     ]
    }
   ],
   "source": [
    "#Train the Model\n",
    "\n",
    "Y_train = np.reshape(Y_train, (-1, 1))\n",
    "Y_test = np.reshape(Y_test, (-1, 1))\n",
    "\n",
    "prior_model = TabNetRegressor(optimizer_fn=torch.optim.Adam, optimizer_params=dict(lr = 0.02),\n",
    "          #scheduler_params={\"step_size\":10, ], \"gamma\":0.9},\n",
    "          #scheduler_fn=torch.optim.lr_scheduler.StepLR\n",
    "          )  #TabNetRegressor()\n",
    "\n",
    "prior_model.fit(X_train,Y_train,eval_set=[(X_train, Y_train)],\n",
    "            eval_name=['train'], \n",
    "            eval_metric=[ 'mse', 'mae'], \n",
    "            max_epochs = n_epochs, \n",
    "            batch_size = batch_size,\n",
    "            patience=50\n",
    "            )"
   ]
  },
  {
   "cell_type": "code",
   "execution_count": 10,
   "id": "af65dcda",
   "metadata": {
    "execution": {
     "iopub.execute_input": "2022-06-22T12:38:52.757089Z",
     "iopub.status.busy": "2022-06-22T12:38:52.756288Z",
     "iopub.status.idle": "2022-06-22T12:38:52.777279Z",
     "shell.execute_reply": "2022-06-22T12:38:52.777797Z"
    },
    "id": "af65dcda",
    "papermill": {
     "duration": 0.060348,
     "end_time": "2022-06-22T12:38:52.778079",
     "exception": false,
     "start_time": "2022-06-22T12:38:52.717731",
     "status": "completed"
    },
    "tags": []
   },
   "outputs": [
    {
     "data": {
      "application/scrapbook.scrap.json+json": {
       "data": 0.1526860758558559,
       "encoder": "json",
       "name": "Prior Model MSE",
       "version": 1
      }
     },
     "metadata": {
      "scrapbook": {
       "data": true,
       "display": false,
       "name": "Prior Model MSE"
      }
     },
     "output_type": "display_data"
    },
    {
     "data": {
      "application/scrapbook.scrap.json+json": {
       "data": 0.9730151705878679,
       "encoder": "json",
       "name": "ABC Pre-generator MSE",
       "version": 1
      }
     },
     "metadata": {
      "scrapbook": {
       "data": true,
       "display": false,
       "name": "ABC Pre-generator MSE"
      }
     },
     "output_type": "display_data"
    },
    {
     "data": {
      "application/scrapbook.scrap.json+json": {
       "data": 0.3393136554316122,
       "encoder": "json",
       "name": "Prior Model MSE",
       "version": 1
      }
     },
     "metadata": {
      "scrapbook": {
       "data": true,
       "display": false,
       "name": "Prior Model MSE"
      }
     },
     "output_type": "display_data"
    },
    {
     "data": {
      "application/scrapbook.scrap.json+json": {
       "data": 0.8080689062840912,
       "encoder": "json",
       "name": "ABC Pre-generator MSE",
       "version": 1
      }
     },
     "metadata": {
      "scrapbook": {
       "data": true,
       "display": false,
       "name": "ABC Pre-generator MSE"
      }
     },
     "output_type": "display_data"
    }
   ],
   "source": [
    "y_pred = prior_model.predict(X_test)\n",
    "y_abc = y_pred + np.random.normal(0,variance, y_pred.shape) + bias \n",
    "mse = mean_squared_error(y_pred,Y_test)\n",
    "sb.glue(\"Prior Model MSE\",mse)\n",
    "mse = mean_squared_error(y_abc,Y_test)\n",
    "sb.glue(\"ABC Pre-generator MSE\",mse)\n",
    "mae = mean_absolute_error(y_pred,Y_test)\n",
    "sb.glue(\"Prior Model MSE\",mae)\n",
    "mae = mean_absolute_error(y_abc,Y_test)\n",
    "sb.glue(\"ABC Pre-generator MSE\",mae)"
   ]
  },
  {
   "cell_type": "markdown",
   "id": "25609da2",
   "metadata": {
    "papermill": {
     "duration": 0.038867,
     "end_time": "2022-06-22T12:38:52.848512",
     "exception": false,
     "start_time": "2022-06-22T12:38:52.809645",
     "status": "completed"
    },
    "tags": []
   },
   "source": [
    "# ABC GAN Model"
   ]
  },
  {
   "cell_type": "code",
   "execution_count": 11,
   "id": "dfc3464d",
   "metadata": {
    "execution": {
     "iopub.execute_input": "2022-06-22T12:38:52.923731Z",
     "iopub.status.busy": "2022-06-22T12:38:52.923023Z",
     "iopub.status.idle": "2022-06-22T12:38:52.927750Z",
     "shell.execute_reply": "2022-06-22T12:38:52.928524Z"
    },
    "papermill": {
     "duration": 0.044497,
     "end_time": "2022-06-22T12:38:52.928737",
     "exception": false,
     "start_time": "2022-06-22T12:38:52.884240",
     "status": "completed"
    },
    "tags": []
   },
   "outputs": [],
   "source": [
    "gen = network.Generator(n_features+1).to(device)\n",
    "disc = network.Discriminator(n_features+1).to(device)\n",
    "\n",
    "criterion = torch.nn.BCELoss()\n",
    "gen_opt = torch.optim.Adam(gen.parameters(), lr=0.001, betas=(0.5, 0.999))\n",
    "disc_opt = torch.optim.Adam(disc.parameters(), lr=0.001, betas=(0.5, 0.999))"
   ]
  },
  {
   "cell_type": "code",
   "execution_count": 12,
   "id": "b75fdd85",
   "metadata": {
    "execution": {
     "iopub.execute_input": "2022-06-22T12:38:53.021538Z",
     "iopub.status.busy": "2022-06-22T12:38:53.020645Z",
     "iopub.status.idle": "2022-06-22T12:39:40.972043Z",
     "shell.execute_reply": "2022-06-22T12:39:40.972744Z"
    },
    "papermill": {
     "duration": 48.008261,
     "end_time": "2022-06-22T12:39:40.972956",
     "exception": false,
     "start_time": "2022-06-22T12:38:52.964695",
     "status": "completed"
    },
    "tags": []
   },
   "outputs": [
    {
     "data": {
      "image/png": "[encoded data removed]",
      "text/plain": [
       "<Figure size 432x288 with 1 Axes>"
      ]
     },
     "metadata": {
      "needs_background": "light"
     },
     "output_type": "display_data"
    },
    {
     "data": {
      "image/png": "[encoded data removed]",
      "text/plain": [
       "<Figure size 432x288 with 1 Axes>"
      ]
     },
     "metadata": {
      "needs_background": "light"
     },
     "output_type": "display_data"
    }
   ],
   "source": [
    "#Training the ABC_GAN \n",
    "ABC_train_test2.training_GAN(disc,gen,disc_opt,gen_opt,train_data,batch_size,n_epochs,criterion,prior_model,variance,bias,device)"
   ]
  },
  {
   "cell_type": "code",
   "execution_count": 13,
   "id": "1fa7c368",
   "metadata": {
    "execution": {
     "iopub.execute_input": "2022-06-22T12:39:41.065639Z",
     "iopub.status.busy": "2022-06-22T12:39:41.064878Z",
     "iopub.status.idle": "2022-06-22T12:39:41.876340Z",
     "shell.execute_reply": "2022-06-22T12:39:41.877171Z"
    },
    "papermill": {
     "duration": 0.869993,
     "end_time": "2022-06-22T12:39:41.877399",
     "exception": false,
     "start_time": "2022-06-22T12:39:41.007406",
     "status": "completed"
    },
    "tags": []
   },
   "outputs": [
    {
     "data": {
      "application/scrapbook.scrap.json+json": {
       "data": 0.1396355996898853,
       "encoder": "json",
       "name": "ABC-GAN Model 1 MSE",
       "version": 1
      }
     },
     "metadata": {
      "scrapbook": {
       "data": true,
       "display": false,
       "name": "ABC-GAN Model 1 MSE"
      }
     },
     "output_type": "display_data"
    },
    {
     "data": {
      "application/scrapbook.scrap.json+json": {
       "data": 0.3016037753075361,
       "encoder": "json",
       "name": "ABC-GAN Model 1 MAE",
       "version": 1
      }
     },
     "metadata": {
      "scrapbook": {
       "data": true,
       "display": false,
       "name": "ABC-GAN Model 1 MAE"
      }
     },
     "output_type": "display_data"
    },
    {
     "data": {
      "application/scrapbook.scrap.json+json": {
       "data": 6.032075506150722,
       "encoder": "json",
       "name": "ABC-GAN Model 1 Manhattan Distance",
       "version": 1
      }
     },
     "metadata": {
      "scrapbook": {
       "data": true,
       "display": false,
       "name": "ABC-GAN Model 1 Manhattan Distance"
      }
     },
     "output_type": "display_data"
    },
    {
     "data": {
      "application/scrapbook.scrap.json+json": {
       "data": 1.6702666981727161,
       "encoder": "json",
       "name": "ABC-GAN Model 1 Euclidean distance",
       "version": 1
      }
     },
     "metadata": {
      "scrapbook": {
       "data": true,
       "display": false,
       "name": "ABC-GAN Model 1 Euclidean distance"
      }
     },
     "output_type": "display_data"
    },
    {
     "data": {
      "application/scrapbook.scrap.json+json": {
       "data": [
        [
         0.1539789882384607,
         0.1341712120356123,
         0.14303681465797782,
         0.14781197697475865,
         0.1460131122954978,
         0.1419133008470773,
         0.1388330915752108,
         0.13869102734393207,
         0.1508471137851684,
         0.13900939601492968,
         0.13878263748792957,
         0.1429080996914464,
         0.13737387135165582,
         0.14310457762377496,
         0.138901203150238,
         0.1485673238113281,
         0.1386663960759422,
         0.1283709003901338,
         0.13129989507301282,
         0.14021503504039434,
         0.12178140304716176,
         0.11759740347846867,
         0.1440425819357404,
         0.11984697927624395,
         0.1363019958364982,
         0.13502390064736897,
         0.14865726682406968,
         0.1320782452487283,
         0.1366259036288739,
         0.13833263774037124,
         0.14739532463147276,
         0.12185706002077334,
         0.12212003604010535,
         0.13365498636277556,
         0.15559652939169927,
         0.1458515456359301,
         0.12287261972299406,
         0.1347473359244174,
         0.14810604045455703,
         0.13897624089704083,
         0.13453771106617524,
         0.139628641221009,
         0.13994456743805928,
         0.1464194736990639,
         0.1401679570297519,
         0.15620214143999217,
         0.13361907074038154,
         0.14330268393343198,
         0.14408360337520149,
         0.15865382262536737,
         0.13760410319047564,
         0.14526183393844055,
         0.1337752866323231,
         0.13429668722367274,
         0.13984897849999536,
         0.1386031877210099,
         0.13835485483098012,
         0.1229086587247131,
         0.15035787310471962,
         0.1592684208272826,
         0.1375089578505693,
         0.14289723124914439,
         0.1327380637057031,
         0.15038471917453444,
         0.14121114552561648,
         0.14351132913005865,
         0.12881036842055937,
         0.1268546910045062,
         0.13310016507345554,
         0.14031681249967237,
         0.14263446719328657,
         0.1434811805493554,
         0.14510965578668303,
         0.1464844344301945,
         0.13882523296577248,
         0.1465868550067791,
         0.13816371166601382,
         0.15564664960791824,
         0.1505839630278551,
         0.12733921439498486,
         0.1481291079366327,
         0.1581670318237276,
         0.1384503977930403,
         0.13565779470717212,
         0.15152943951332892,
         0.13570457081531467,
         0.1448498733721395,
         0.1204467609994172,
         0.14345200972580172,
         0.1481210773212541,
         0.13411031120017403,
         0.13572859932359052,
         0.13306377282330759,
         0.13217693324385396,
         0.1484683092386813,
         0.13986244407609943,
         0.12787567134119512,
         0.14554150911974065,
         0.1269155498076123,
         0.14231838907196318
        ],
        [
         0.31660999320447447,
         0.29485781379044057,
         0.2978153992444277,
         0.3189393376931548,
         0.31479909364134073,
         0.3103338357061148,
         0.30549582429230215,
         0.3013070482760668,
         0.30154579542577264,
         0.30521297790110113,
         0.2969438899308443,
         0.3019296687096357,
         0.30221310444176197,
         0.3050813900306821,
         0.30163343604654075,
         0.312756116874516,
         0.30908623449504374,
         0.2913011532276869,
         0.2931020827963948,
         0.30418240241706374,
         0.276406105235219,
         0.2790572805330157,
         0.3067733557894826,
         0.2851026887074113,
         0.2961497280746698,
         0.30076243691146376,
         0.3074956890195608,
         0.2946358922868967,
         0.30733157582581044,
         0.2980944400653243,
         0.304890900477767,
         0.2812747899442911,
         0.28695417158305647,
         0.2977527994662523,
         0.3196989959105849,
         0.30391249246895313,
         0.2763921979814768,
         0.2908673960715532,
         0.30854570884257554,
         0.300322100892663,
         0.29201648719608786,
         0.300247647985816,
         0.2985910441726446,
         0.3082756783813238,
         0.30879773404449223,
         0.3231645170599222,
         0.29749635197222235,
         0.30290620364248755,
         0.3067816440016031,
         0.31209816951304675,
         0.299933697655797,
         0.31114255674183366,
         0.3016520831733942,
         0.3004502411931753,
         0.30224531758576634,
         0.29566362239420413,
         0.30785988830029964,
         0.29167611338198185,
         0.30715747736394405,
         0.31718630660325287,
         0.2981330309063196,
         0.3015883307904005,
         0.29465068262070415,
         0.31514173559844494,
         0.3042874651029706,
         0.30570897199213504,
         0.28646167926490307,
         0.28698580972850324,
         0.29191147424280645,
         0.30478452481329443,
         0.29943780936300757,
         0.30587413553148507,
         0.30699459798634054,
         0.30183277688920496,
         0.30898897983133794,
         0.3076621362939477,
         0.29989107735455034,
         0.31687342189252377,
         0.32032469995319846,
         0.27849779166281224,
         0.3122549595311284,
         0.3264334613457322,
         0.3029615182429552,
         0.2979032242670655,
         0.30657539796084166,
         0.30553749669343233,
         0.3057686695829034,
         0.27966299541294576,
         0.29976629428565504,
         0.3212926503270864,
         0.29762883074581625,
         0.3018364118412137,
         0.2904139328747988,
         0.29017792753875254,
         0.31472676433622837,
         0.29805729649960994,
         0.2891406361013651,
         0.30467064697295426,
         0.2809816230088472,
         0.3056455347687006
        ],
        [
         6.332199864089489,
         5.897156275808811,
         5.956307984888554,
         6.378786753863096,
         6.295981872826815,
         6.206676714122295,
         6.109916485846043,
         6.026140965521336,
         6.030915908515453,
         6.104259558022022,
         5.938877798616886,
         6.038593374192715,
         6.044262088835239,
         6.101627800613642,
         6.032668720930815,
         6.25512233749032,
         6.181724689900875,
         5.826023064553738,
         5.8620416559278965,
         6.083648048341274,
         5.52812210470438,
         5.581145610660315,
         6.135467115789652,
         5.702053774148226,
         5.922994561493397,
         6.015248738229275,
         6.149913780391216,
         5.892717845737934,
         6.146631516516209,
         5.961888801306486,
         6.09781800955534,
         5.625495798885822,
         5.739083431661129,
         5.9550559893250465,
         6.3939799182116985,
         6.078249849379063,
         5.527843959629536,
         5.817347921431065,
         6.170914176851511,
         6.00644201785326,
         5.840329743921757,
         6.00495295971632,
         5.971820883452892,
         6.165513567626476,
         6.175954680889845,
         6.463290341198444,
         5.949927039444447,
         6.0581240728497505,
         6.1356328800320625,
         6.241963390260935,
         5.99867395311594,
         6.222851134836674,
         6.033041663467884,
         6.009004823863506,
         6.044906351715326,
         5.913272447884083,
         6.157197766005993,
         5.833522267639637,
         6.143149547278881,
         6.343726132065058,
         5.962660618126392,
         6.03176661580801,
         5.8930136524140835,
         6.302834711968899,
         6.085749302059412,
         6.114179439842701,
         5.729233585298061,
         5.7397161945700645,
         5.838229484856129,
         6.095690496265888,
         5.988756187260151,
         6.117482710629702,
         6.1398919597268105,
         6.0366555377841,
         6.179779596626759,
         6.153242725878954,
         5.997821547091007,
         6.337468437850475,
         6.406493999063969,
         5.569955833256245,
         6.245099190622568,
         6.528669226914644,
         6.059230364859104,
         5.9580644853413105,
         6.131507959216833,
         6.110749933868647,
         6.115373391658068,
         5.593259908258915,
         5.9953258857131,
         6.425853006541729,
         5.952576614916325,
         6.036728236824274,
         5.8082786574959755,
         5.803558550775051,
         6.294535286724567,
         5.961145929992199,
         5.782812722027302,
         6.0934129394590855,
         5.619632460176945,
         6.112910695374012
        ],
        [
         1.7548731477714319,
         1.6381160644814659,
         1.6913711281559576,
         1.7193718444522619,
         1.7088774812460827,
         1.6847154112613638,
         1.666331849153768,
         1.6654790742842258,
         1.7369347355912277,
         1.6673895526536664,
         1.6660290362891612,
         1.690609947276109,
         1.6575516363097458,
         1.6917717199656397,
         1.6667405505971107,
         1.7237594020705331,
         1.6653311747273707,
         1.6023164505810568,
         1.6204931044161393,
         1.6746046401487984,
         1.5606498841646819,
         1.533606230285132,
         1.6973071727636126,
         1.548205278871274,
         1.6510723535720546,
         1.6433131207859868,
         1.7242811071520194,
         1.6252891758005916,
         1.6530329919809459,
         1.6633258113813496,
         1.7169468520107007,
         1.5611345875405704,
         1.5628181982566325,
         1.634961689843377,
         1.7640664918970559,
         1.7079317646553103,
         1.5676263567763464,
         1.6416292877773435,
         1.7210812906690782,
         1.6671906963334509,
         1.6403518589996187,
         1.671099286224544,
         1.6729887473504375,
         1.7112537725250683,
         1.674323487440536,
         1.767496203333926,
         1.634742002521386,
         1.6929423140404518,
         1.697548840977493,
         1.7813131259010435,
         1.658940042258765,
         1.70447548494216,
         1.6356973230541343,
         1.6388818579975357,
         1.6724172834552706,
         1.664951577199829,
         1.6634593763057763,
         1.5678562352761372,
         1.7341157579857212,
         1.784760044528578,
         1.658366412169333,
         1.6905456589465093,
         1.62934381703619,
         1.7342705623664056,
         1.6805424453170854,
         1.694174307030175,
         1.6050568115836858,
         1.5928257343758996,
         1.6315646789107414,
         1.6752122999767662,
         1.6889906287086767,
         1.6939963432626142,
         1.7035824358491316,
         1.7116333394170289,
         1.66628468735551,
         1.7122316140451272,
         1.6623099089280182,
         1.7643505865213878,
         1.7354190446566795,
         1.5958647461171944,
         1.7212153144602955,
         1.778578262679085,
         1.664033640243131,
         1.6471660189985229,
         1.7408586359226812,
         1.6474499738402661,
         1.7020568343750422,
         1.5520744891880491,
         1.6938241332901225,
         1.7211686571702036,
         1.63774424865529,
         1.6475958201184568,
         1.6313416124362645,
         1.6258962651033673,
         1.7231848957014524,
         1.672497797165063,
         1.59922275709918,
         1.706115524340252,
         1.5932077692982312,
         1.6871181883434436
        ]
       ],
       "encoder": "json",
       "name": "ABC_GAN_1 Metrics",
       "version": 1
      }
     },
     "metadata": {
      "scrapbook": {
       "data": true,
       "display": false,
       "name": "ABC_GAN_1 Metrics"
      }
     },
     "output_type": "display_data"
    },
    {
     "name": "stdout",
     "output_type": "stream",
     "text": [
      "MSE\n",
      "0.1396355996898853\n"
     ]
    }
   ],
   "source": [
    "ABC_GAN1_metrics=ABC_train_test2.test_generator(gen,test_data,prior_model,variance,bias,\"1\",device)\n",
    "sb.glue(\"ABC_GAN_1 Metrics\",ABC_GAN1_metrics)\n",
    "\n",
    "print(\"MSE\")\n",
    "print(mean(ABC_GAN1_metrics[0]))"
   ]
  },
  {
   "cell_type": "code",
   "execution_count": 14,
   "id": "eb22ce5c",
   "metadata": {
    "execution": {
     "iopub.execute_input": "2022-06-22T12:39:41.965455Z",
     "iopub.status.busy": "2022-06-22T12:39:41.964745Z",
     "iopub.status.idle": "2022-06-22T12:39:42.812884Z",
     "shell.execute_reply": "2022-06-22T12:39:42.813392Z"
    },
    "papermill": {
     "duration": 0.896611,
     "end_time": "2022-06-22T12:39:42.813612",
     "exception": false,
     "start_time": "2022-06-22T12:39:41.917001",
     "status": "completed"
    },
    "tags": []
   },
   "outputs": [
    {
     "data": {
      "image/png": "[encoded data removed]",
      "text/plain": [
       "<Figure size 432x288 with 1 Axes>"
      ]
     },
     "metadata": {
      "needs_background": "light"
     },
     "output_type": "display_data"
    },
    {
     "data": {
      "image/png": "[encoded data removed]",
      "text/plain": [
       "<Figure size 432x288 with 1 Axes>"
      ]
     },
     "metadata": {
      "needs_background": "light"
     },
     "output_type": "display_data"
    },
    {
     "data": {
      "image/png": "[encoded data removed]",
      "text/plain": [
       "<Figure size 432x288 with 1 Axes>"
      ]
     },
     "metadata": {
      "needs_background": "light"
     },
     "output_type": "display_data"
    },
    {
     "data": {
      "image/png": "[encoded data removed]",
      "text/plain": [
       "<Figure size 432x288 with 1 Axes>"
      ]
     },
     "metadata": {
      "needs_background": "light"
     },
     "output_type": "display_data"
    }
   ],
   "source": [
    "sanityChecks.discProbVsError(train_data,disc,device)\n",
    "sanityChecks.discProbVsError(test_data,disc,device)"
   ]
  },
  {
   "cell_type": "markdown",
   "id": "130f3a4d",
   "metadata": {
    "id": "130f3a4d",
    "papermill": {
     "duration": 0.045649,
     "end_time": "2022-06-22T12:39:42.899592",
     "exception": false,
     "start_time": "2022-06-22T12:39:42.853943",
     "status": "completed"
    },
    "tags": []
   },
   "source": [
    "# ABC - GAN Model with skip connection"
   ]
  },
  {
   "cell_type": "code",
   "execution_count": 15,
   "id": "4e43dad1",
   "metadata": {
    "execution": {
     "iopub.execute_input": "2022-06-22T12:39:42.986616Z",
     "iopub.status.busy": "2022-06-22T12:39:42.985900Z",
     "iopub.status.idle": "2022-06-22T12:39:42.988220Z",
     "shell.execute_reply": "2022-06-22T12:39:42.988792Z"
    },
    "id": "4e43dad1",
    "papermill": {
     "duration": 0.050841,
     "end_time": "2022-06-22T12:39:42.989010",
     "exception": false,
     "start_time": "2022-06-22T12:39:42.938169",
     "status": "completed"
    },
    "tags": []
   },
   "outputs": [],
   "source": [
    "#Generator\n",
    "gen3 = network.GeneratorWithSkipConnection(n_features+1).to(device)\n",
    "constraints=network.weightConstraint()\n",
    "#Discriminator \n",
    "disc3 = network.Discriminator(n_features+1).to(device)\n",
    "\n",
    "criterion = torch.nn.BCELoss()\n",
    "gen_opt = torch.optim.Adam(gen3.parameters(), lr=0.001, betas=(0.5, 0.999))\n",
    "disc_opt = torch.optim.Adam(disc3.parameters(), lr=0.001, betas=(0.5, 0.999))\n"
   ]
  },
  {
   "cell_type": "code",
   "execution_count": 16,
   "id": "26acbc37",
   "metadata": {
    "execution": {
     "iopub.execute_input": "2022-06-22T12:39:43.114042Z",
     "iopub.status.busy": "2022-06-22T12:39:43.109215Z",
     "iopub.status.idle": "2022-06-22T12:40:59.845171Z",
     "shell.execute_reply": "2022-06-22T12:40:59.845607Z"
    },
    "id": "26acbc37",
    "papermill": {
     "duration": 76.811444,
     "end_time": "2022-06-22T12:40:59.845821",
     "exception": false,
     "start_time": "2022-06-22T12:39:43.034377",
     "status": "completed"
    },
    "tags": []
   },
   "outputs": [
    {
     "data": {
      "image/png": "[encoded data removed]",
      "text/plain": [
       "<Figure size 432x288 with 1 Axes>"
      ]
     },
     "metadata": {
      "needs_background": "light"
     },
     "output_type": "display_data"
    },
    {
     "data": {
      "image/png": "[encoded data removed]",
      "text/plain": [
       "<Figure size 432x288 with 1 Axes>"
      ]
     },
     "metadata": {
      "needs_background": "light"
     },
     "output_type": "display_data"
    }
   ],
   "source": [
    "ABC_train_test2.training_GAN_skip_connection(disc3,gen3,disc_opt,gen_opt,train_data,batch_size,n_epochs,criterion,prior_model,variance,bias,device)"
   ]
  },
  {
   "cell_type": "code",
   "execution_count": 17,
   "id": "c5e0717b",
   "metadata": {
    "execution": {
     "iopub.execute_input": "2022-06-22T12:40:59.944426Z",
     "iopub.status.busy": "2022-06-22T12:40:59.943075Z",
     "iopub.status.idle": "2022-06-22T12:41:00.749956Z",
     "shell.execute_reply": "2022-06-22T12:41:00.750516Z"
    },
    "id": "c5e0717b",
    "papermill": {
     "duration": 0.863238,
     "end_time": "2022-06-22T12:41:00.750730",
     "exception": false,
     "start_time": "2022-06-22T12:40:59.887492",
     "status": "completed"
    },
    "tags": []
   },
   "outputs": [
    {
     "data": {
      "application/scrapbook.scrap.json+json": {
       "data": 0.10771392730478012,
       "encoder": "json",
       "name": "ABC-GAN Model 3 MSE",
       "version": 1
      }
     },
     "metadata": {
      "scrapbook": {
       "data": true,
       "display": false,
       "name": "ABC-GAN Model 3 MSE"
      }
     },
     "output_type": "display_data"
    },
    {
     "data": {
      "application/scrapbook.scrap.json+json": {
       "data": 0.250194737251848,
       "encoder": "json",
       "name": "ABC-GAN Model 3 MAE",
       "version": 1
      }
     },
     "metadata": {
      "scrapbook": {
       "data": true,
       "display": false,
       "name": "ABC-GAN Model 3 MAE"
      }
     },
     "output_type": "display_data"
    },
    {
     "data": {
      "application/scrapbook.scrap.json+json": {
       "data": 5.00389474503696,
       "encoder": "json",
       "name": "ABC-GAN Model 3 Manhattan Distance",
       "version": 1
      }
     },
     "metadata": {
      "scrapbook": {
       "data": true,
       "display": false,
       "name": "ABC-GAN Model 3 Manhattan Distance"
      }
     },
     "output_type": "display_data"
    },
    {
     "data": {
      "application/scrapbook.scrap.json+json": {
       "data": 1.4653367773167385,
       "encoder": "json",
       "name": "ABC-GAN Model 3 Euclidean distance",
       "version": 1
      }
     },
     "metadata": {
      "scrapbook": {
       "data": true,
       "display": false,
       "name": "ABC-GAN Model 3 Euclidean distance"
      }
     },
     "output_type": "display_data"
    },
    {
     "data": {
      "application/scrapbook.scrap.json+json": {
       "data": [
        [
         0.09581951174727887,
         0.09478797282293536,
         0.1017113251827099,
         0.11617549977053362,
         0.1364697662014435,
         0.09744564436030335,
         0.11281259287770436,
         0.10592127058655185,
         0.1273744072706772,
         0.10627837129858295,
         0.095867839300928,
         0.10842663331142814,
         0.11251976092369609,
         0.10825349314604645,
         0.10245465074366926,
         0.09905894567283917,
         0.10573916602442135,
         0.10858166486258577,
         0.09678262336729151,
         0.11299524776248668,
         0.09499332639695961,
         0.09247221300065553,
         0.0947764008358564,
         0.10200435861036997,
         0.10131905328029837,
         0.09827253219444375,
         0.10396000966790311,
         0.08929565193735267,
         0.10254343864367521,
         0.125933684925494,
         0.13306126052569106,
         0.1279828881115078,
         0.11915795585189079,
         0.13989037838224078,
         0.11871604547467547,
         0.08957135590654965,
         0.1245973671878204,
         0.1217708828045962,
         0.11445194145326658,
         0.08987920724431071,
         0.1186587839659489,
         0.10103146165296599,
         0.11378504480069696,
         0.10621260035460929,
         0.08875138672478833,
         0.0970833786695663,
         0.10398122156010861,
         0.09664425473433629,
         0.10993032597045445,
         0.12488583300329861,
         0.09501797104091964,
         0.10527463683331476,
         0.10361616755427719,
         0.1315697893874607,
         0.09944397042561373,
         0.08595276339119497,
         0.1052102844877223,
         0.09421535564678042,
         0.10842826366326697,
         0.09400281685968581,
         0.12808039094338824,
         0.10109471800993022,
         0.11947343780618583,
         0.1405893975773707,
         0.11663970460358838,
         0.11044667168450265,
         0.0993222256503882,
         0.10169943390604556,
         0.12883588616858366,
         0.09585236856216243,
         0.10159901666159588,
         0.11521581187284972,
         0.11071158664719664,
         0.09048193676816833,
         0.10897315133021516,
         0.09766167845409393,
         0.11605140188107395,
         0.11623796713999779,
         0.10844364648479368,
         0.12093161283498266,
         0.11095271002123566,
         0.1275220743289771,
         0.09092116503805261,
         0.09528439027297661,
         0.09773792057596517,
         0.10454050179490237,
         0.08991579344707026,
         0.10514241341741315,
         0.0985757200639444,
         0.10863903411628147,
         0.11394437091291339,
         0.09971214206469156,
         0.12525716608969653,
         0.10184279136104438,
         0.12504291321320582,
         0.10780732382201838,
         0.09297782256790549,
         0.10814281472144294,
         0.1079698910851897,
         0.11729907617929022
        ],
        [
         0.2338643077760935,
         0.22645935378968715,
         0.2346489006653428,
         0.24387664161622524,
         0.29291437603533266,
         0.2488294892013073,
         0.24864337779581547,
         0.263524966314435,
         0.26936246268451214,
         0.26069425866007806,
         0.23414821811020375,
         0.2706991072744131,
         0.25561687909066677,
         0.25835627503693104,
         0.23529722057282926,
         0.22388758771121503,
         0.25256212465465067,
         0.25629487819969654,
         0.25206950567662717,
         0.2507443729788065,
         0.21687281019985677,
         0.22822451293468476,
         0.2235283900052309,
         0.24507671780884266,
         0.24606953002512455,
         0.2276425961405039,
         0.25780190490186217,
         0.20871545560657978,
         0.2520188592374325,
         0.28375950194895266,
         0.2966002132743597,
         0.2853558354079723,
         0.2645947378128767,
         0.28548550195991995,
         0.264460089802742,
         0.22043358013033867,
         0.270646708086133,
         0.2649006459861994,
         0.2658421840518713,
         0.2286329984664917,
         0.264843188598752,
         0.23783842138946057,
         0.26143643967807295,
         0.246888292953372,
         0.21576217301189898,
         0.23365825675427915,
         0.24699225947260856,
         0.2351373601704836,
         0.24383273608982564,
         0.286617124453187,
         0.22075083889067174,
         0.2661518272012472,
         0.22783510126173495,
         0.2795881200581789,
         0.2559470281004906,
         0.2090773444622755,
         0.2438692070543766,
         0.2407156251370907,
         0.26811811663210394,
         0.2350171934813261,
         0.2665615897625685,
         0.24944628402590752,
         0.2553771331906319,
         0.2749621495604515,
         0.2600135326385498,
         0.2603527639061213,
         0.24829387329518796,
         0.23516004122793674,
         0.2767211806029081,
         0.2355535004287958,
         0.2399121757596731,
         0.2574763011187315,
         0.25241079814732076,
         0.232915024086833,
         0.2556867066770792,
         0.24801008589565754,
         0.27071088217198847,
         0.26977636106312275,
         0.2510212790220976,
         0.2634444423019886,
         0.25298667289316656,
         0.2603647347539663,
         0.225998929515481,
         0.22980217449367046,
         0.2320251576602459,
         0.24161282293498515,
         0.22106212973594666,
         0.2550313491374254,
         0.2260271904990077,
         0.26614639423787595,
         0.2582658279687166,
         0.2263073269277811,
         0.28781946934759617,
         0.240651123970747,
         0.2796289887279272,
         0.23981743156909943,
         0.23377188257873058,
         0.25822313837707045,
         0.23774128071963788,
         0.2731498617678881
        ],
        [
         4.67728615552187,
         4.529187075793743,
         4.692978013306856,
         4.877532832324505,
         5.858287520706654,
         4.976589784026146,
         4.972867555916309,
         5.2704993262887,
         5.387249253690243,
         5.213885173201561,
         4.682964362204075,
         5.413982145488262,
         5.112337581813335,
         5.167125500738621,
         4.705944411456585,
         4.4777517542243,
         5.051242493093014,
         5.125897563993931,
         5.041390113532543,
         5.01488745957613,
         4.337456203997135,
         4.564490258693695,
         4.470567800104618,
         4.901534356176853,
         4.921390600502491,
         4.552851922810078,
         5.156038098037243,
         4.174309112131596,
         5.04037718474865,
         5.6751900389790535,
         5.932004265487194,
         5.707116708159447,
         5.291894756257534,
         5.709710039198399,
         5.28920179605484,
         4.408671602606773,
         5.41293416172266,
         5.298012919723988,
         5.316843681037426,
         4.572659969329834,
         5.29686377197504,
         4.756768427789211,
         5.228728793561459,
         4.93776585906744,
         4.31524346023798,
         4.673165135085583,
         4.939845189452171,
         4.702747203409672,
         4.876654721796513,
         5.73234248906374,
         4.415016777813435,
         5.323036544024944,
         4.556702025234699,
         5.591762401163578,
         5.118940562009811,
         4.18154688924551,
         4.877384141087532,
         4.814312502741814,
         5.362362332642078,
         4.700343869626522,
         5.3312317952513695,
         4.98892568051815,
         5.107542663812637,
         5.49924299120903,
         5.200270652770996,
         5.207055278122425,
         4.965877465903759,
         4.703200824558735,
         5.534423612058163,
         4.711070008575916,
         4.798243515193462,
         5.14952602237463,
         5.048215962946415,
         4.65830048173666,
         5.113734133541584,
         4.960201717913151,
         5.41421764343977,
         5.395527221262455,
         5.020425580441952,
         5.268888846039772,
         5.059733457863331,
         5.207294695079327,
         4.51997859030962,
         4.596043489873409,
         4.640503153204918,
         4.832256458699703,
         4.421242594718933,
         5.1006269827485085,
         4.520543809980154,
         5.322927884757519,
         5.165316559374332,
         4.526146538555622,
         5.756389386951923,
         4.81302247941494,
         5.592579774558544,
         4.7963486313819885,
         4.675437651574612,
         5.1644627675414085,
         4.754825614392757,
         5.462997235357761
        ],
        [
         1.3843374714806997,
         1.3768658091690371,
         1.4262631256728886,
         1.5243063981400435,
         1.6520881707792927,
         1.3960347012900742,
         1.5020825069063573,
         1.4554811615857612,
         1.5960852563110606,
         1.4579325862232653,
         1.384686529875466,
         1.4725938565091743,
         1.5001317337067175,
         1.4714176371516445,
         1.4314653383415838,
         1.4075435742657432,
         1.4542294593661713,
         1.4736462591991728,
         1.3912772791021315,
         1.5032980260912119,
         1.3783564589536308,
         1.3599427414465326,
         1.3767817607439197,
         1.42831620175905,
         1.4235101213570516,
         1.4019453070248051,
         1.4419432004618151,
         1.3363805740682755,
         1.43208546283855,
         1.5870329859552008,
         1.6313262121702763,
         1.5998930471222619,
         1.5437483982300406,
         1.672664810308633,
         1.5408831589362995,
         1.338442048850451,
         1.5785903026930097,
         1.5605824733386968,
         1.5129569818951667,
         1.340740148159297,
         1.540511499249187,
         1.4214883865369143,
         1.5085426397732147,
         1.4574813916795595,
         1.3323016679775517,
         1.3934373230939834,
         1.4420902992538893,
         1.390282379477898,
         1.4827698808004866,
         1.5804166096526486,
         1.3785352446776227,
         1.451031611187811,
         1.439556650877465,
         1.6221577567392185,
         1.4102763589141933,
         1.3111274796235106,
         1.4505880496386443,
         1.3727006639962,
         1.4726049277607824,
         1.3711514639870084,
         1.6005023645305136,
         1.4219333177749949,
         1.5457906572766302,
         1.6768386778540785,
         1.52734871331722,
         1.4862481063705524,
         1.4094128256148957,
         1.4261797495830992,
         1.6052157871674677,
         1.3845747979951277,
         1.4254754761944932,
         1.5179974431654997,
         1.4880294798638678,
         1.3452281350623643,
         1.4763004526871566,
         1.3975813282531642,
         1.523492053678482,
         1.524716151550824,
         1.4727093839912455,
         1.5551952471312576,
         1.4896490192071128,
         1.5970101710945808,
         1.34848926609041,
         1.3804665173264914,
         1.3981267508775101,
         1.445963359113241,
         1.341013001033698,
         1.4501200875611175,
         1.404106264240313,
         1.474035509180708,
         1.5095984294699925,
         1.4121766324698306,
         1.5827644555630918,
         1.4271845806415115,
         1.5814102137851886,
         1.4683822650932445,
         1.363655547181219,
         1.4706652557359403,
         1.4694889661728645,
         1.531659728394595
        ]
       ],
       "encoder": "json",
       "name": "ABC_GAN_3 Metrics",
       "version": 1
      }
     },
     "metadata": {
      "scrapbook": {
       "data": true,
       "display": false,
       "name": "ABC_GAN_3 Metrics"
      }
     },
     "output_type": "display_data"
    },
    {
     "name": "stdout",
     "output_type": "stream",
     "text": [
      "MSE\n",
      "0.10771392730478012\n"
     ]
    }
   ],
   "source": [
    "ABC_GAN3_metrics=ABC_train_test2.test_generator(gen3,test_data,prior_model,variance,bias,\"3\",device)\n",
    "sb.glue(\"ABC_GAN_3 Metrics\",ABC_GAN3_metrics)\n",
    "\n",
    "print(\"MSE\")\n",
    "print(mean(ABC_GAN3_metrics[0]))"
   ]
  },
  {
   "cell_type": "code",
   "execution_count": 18,
   "id": "c8e46b48",
   "metadata": {
    "execution": {
     "iopub.execute_input": "2022-06-22T12:41:00.856946Z",
     "iopub.status.busy": "2022-06-22T12:41:00.856235Z",
     "iopub.status.idle": "2022-06-22T12:41:01.737927Z",
     "shell.execute_reply": "2022-06-22T12:41:01.738400Z"
    },
    "id": "c8e46b48",
    "papermill": {
     "duration": 0.941651,
     "end_time": "2022-06-22T12:41:01.738611",
     "exception": false,
     "start_time": "2022-06-22T12:41:00.796960",
     "status": "completed"
    },
    "tags": []
   },
   "outputs": [
    {
     "data": {
      "image/png": "[encoded data removed]",
      "text/plain": [
       "<Figure size 432x288 with 1 Axes>"
      ]
     },
     "metadata": {
      "needs_background": "light"
     },
     "output_type": "display_data"
    },
    {
     "data": {
      "image/png": "[encoded data removed]",
      "text/plain": [
       "<Figure size 432x288 with 1 Axes>"
      ]
     },
     "metadata": {
      "needs_background": "light"
     },
     "output_type": "display_data"
    },
    {
     "data": {
      "image/png": "[encoded data removed]",
      "text/plain": [
       "<Figure size 432x288 with 1 Axes>"
      ]
     },
     "metadata": {
      "needs_background": "light"
     },
     "output_type": "display_data"
    },
    {
     "data": {
      "image/png": "[encoded data removed]",
      "text/plain": [
       "<Figure size 432x288 with 1 Axes>"
      ]
     },
     "metadata": {
      "needs_background": "light"
     },
     "output_type": "display_data"
    }
   ],
   "source": [
    "sanityChecks.discProbVsError(train_data,disc3,device)\n",
    "sanityChecks.discProbVsError(test_data,disc3,device)"
   ]
  },
  {
   "cell_type": "markdown",
   "id": "a5bd74c3",
   "metadata": {
    "id": "a5bd74c3",
    "papermill": {
     "duration": 0.055749,
     "end_time": "2022-06-22T12:41:01.842819",
     "exception": false,
     "start_time": "2022-06-22T12:41:01.787070",
     "status": "completed"
    },
    "tags": []
   },
   "source": [
    "## Skip Connection Model Analysis - ABC-GAN "
   ]
  },
  {
   "cell_type": "markdown",
   "id": "5744a8bf",
   "metadata": {
    "id": "5744a8bf",
    "papermill": {
     "duration": 0.132638,
     "end_time": "2022-06-22T12:41:02.060063",
     "exception": false,
     "start_time": "2022-06-22T12:41:01.927425",
     "status": "completed"
    },
    "tags": []
   },
   "source": [
    "### Weight Analysis \n",
    "\n",
    "Study the weights of the skip connection layer\n",
    "\n",
    "Equation of the skip connection is \n",
    "\n",
    "$output = y_{gan} * w + y_{abc} * (1-w)$"
   ]
  },
  {
   "cell_type": "code",
   "execution_count": 19,
   "id": "52c31dea",
   "metadata": {
    "execution": {
     "iopub.execute_input": "2022-06-22T12:41:02.186455Z",
     "iopub.status.busy": "2022-06-22T12:41:02.185755Z",
     "iopub.status.idle": "2022-06-22T12:41:02.194084Z",
     "shell.execute_reply": "2022-06-22T12:41:02.194665Z"
    },
    "id": "52c31dea",
    "papermill": {
     "duration": 0.077018,
     "end_time": "2022-06-22T12:41:02.194932",
     "exception": false,
     "start_time": "2022-06-22T12:41:02.117914",
     "status": "completed"
    },
    "tags": []
   },
   "outputs": [
    {
     "name": "stdout",
     "output_type": "stream",
     "text": [
      "Weight of the node at skip connection\n",
      "Parameter containing:\n",
      "tensor([[0.5159]], requires_grad=True)\n"
     ]
    },
    {
     "data": {
      "application/scrapbook.scrap.json+json": {
       "data": 0.5159298777580261,
       "encoder": "json",
       "name": "Skip Connection Weight",
       "version": 1
      }
     },
     "metadata": {
      "scrapbook": {
       "data": true,
       "display": false,
       "name": "Skip Connection Weight"
      }
     },
     "output_type": "display_data"
    }
   ],
   "source": [
    "print(\"Weight of the node at skip connection\")\n",
    "for name,param in gen3.named_parameters():\n",
    "    if(name == \"skipNode.weight\"):\n",
    "        print(param)\n",
    "        sb.glue(\"Skip Connection Weight\",param.item())"
   ]
  }
 ],
 "metadata": {
  "colab": {
   "collapsed_sections": [],
   "name": "ABC_GAN_Model-Catboost_Pre-gen.ipynb",
   "provenance": []
  },
  "interpreter": {
   "hash": "31f2aee4e71d21fbe5cf8b01ff0e069b9275f58929596ceb00d14d90e3e16cd6"
  },
  "kernelspec": {
   "display_name": "Python 3 (ipykernel)",
   "language": "python",
   "name": "python3"
  },
  "language_info": {
   "codemirror_mode": {
    "name": "ipython",
    "version": 3
   },
   "file_extension": ".py",
   "mimetype": "text/x-python",
   "name": "python",
   "nbconvert_exporter": "python",
   "pygments_lexer": "ipython3",
   "version": "3.8.3"
  },
  "papermill": {
   "default_parameters": {},
   "duration": 158.858189,
   "end_time": "2022-06-22T12:41:03.850835",
   "environment_variables": {},
   "exception": null,
   "input_path": "ABC_GAN-TabNet.ipynb",
   "output_path": "./ABC_GAN_TabNet/ABC-GAN_output_3_6.ipynb",
   "parameters": {
    "bias": 0.01,
    "variance": 1
   },
   "start_time": "2022-06-22T12:38:24.992646",
   "version": "2.3.3"
  }
 },
 "nbformat": 4,
 "nbformat_minor": 5
}