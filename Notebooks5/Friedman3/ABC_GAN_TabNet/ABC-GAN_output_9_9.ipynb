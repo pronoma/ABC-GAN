{
 "cells": [
  {
   "cell_type": "markdown",
   "id": "622780e6",
   "metadata": {
    "id": "622780e6",
    "papermill": {
     "duration": 0.028831,
     "end_time": "2022-06-22T16:27:11.016067",
     "exception": false,
     "start_time": "2022-06-22T16:27:10.987236",
     "status": "completed"
    },
    "tags": []
   },
   "source": [
    "## Import Libraries "
   ]
  },
  {
   "cell_type": "code",
   "execution_count": 1,
   "id": "a62397e3",
   "metadata": {
    "execution": {
     "iopub.execute_input": "2022-06-22T16:27:11.075960Z",
     "iopub.status.busy": "2022-06-22T16:27:11.074706Z",
     "iopub.status.idle": "2022-06-22T16:27:11.096596Z",
     "shell.execute_reply": "2022-06-22T16:27:11.099402Z"
    },
    "id": "a62397e3",
    "papermill": {
     "duration": 0.062287,
     "end_time": "2022-06-22T16:27:11.099960",
     "exception": false,
     "start_time": "2022-06-22T16:27:11.037673",
     "status": "completed"
    },
    "tags": []
   },
   "outputs": [],
   "source": [
    "import warnings\n",
    "import sys\n",
    "sys.path.insert(0, '../../src')\n",
    "warnings.filterwarnings('ignore')"
   ]
  },
  {
   "cell_type": "code",
   "execution_count": 2,
   "id": "d6a4e155",
   "metadata": {
    "execution": {
     "iopub.execute_input": "2022-06-22T16:27:11.235665Z",
     "iopub.status.busy": "2022-06-22T16:27:11.232750Z",
     "iopub.status.idle": "2022-06-22T16:27:19.230453Z",
     "shell.execute_reply": "2022-06-22T16:27:19.231438Z"
    },
    "id": "d6a4e155",
    "papermill": {
     "duration": 8.104014,
     "end_time": "2022-06-22T16:27:19.231860",
     "exception": false,
     "start_time": "2022-06-22T16:27:11.127846",
     "status": "completed"
    },
    "tags": []
   },
   "outputs": [],
   "source": [
    "import ABC_train_test2\n",
    "import friedman3Dataset\n",
    "import network\n",
    "import dataset\n",
    "import sanityChecks\n",
    "import torch \n",
    "import scrapbook as sb\n",
    "from statistics import mean \n",
    "import catboost as ctb \n",
    "from sklearn.model_selection import train_test_split\n",
    "from sklearn.metrics import mean_squared_error,mean_absolute_error\n",
    "import numpy as np\n",
    "from pytorch_tabnet.tab_model import TabNetRegressor"
   ]
  },
  {
   "cell_type": "markdown",
   "id": "2fa5b0f7",
   "metadata": {
    "id": "2fa5b0f7",
    "papermill": {
     "duration": 0.038834,
     "end_time": "2022-06-22T16:27:19.289940",
     "exception": false,
     "start_time": "2022-06-22T16:27:19.251106",
     "status": "completed"
    },
    "tags": []
   },
   "source": [
    "## Parameters "
   ]
  },
  {
   "cell_type": "code",
   "execution_count": 3,
   "id": "783186fb",
   "metadata": {
    "execution": {
     "iopub.execute_input": "2022-06-22T16:27:19.357276Z",
     "iopub.status.busy": "2022-06-22T16:27:19.356096Z",
     "iopub.status.idle": "2022-06-22T16:27:19.358895Z",
     "shell.execute_reply": "2022-06-22T16:27:19.359526Z"
    },
    "id": "783186fb",
    "papermill": {
     "duration": 0.037673,
     "end_time": "2022-06-22T16:27:19.359794",
     "exception": false,
     "start_time": "2022-06-22T16:27:19.322121",
     "status": "completed"
    },
    "tags": [
     "parameters"
    ]
   },
   "outputs": [],
   "source": [
    "variance = 1\n",
    "bias = 1 "
   ]
  },
  {
   "cell_type": "code",
   "execution_count": 4,
   "id": "648449e0",
   "metadata": {
    "execution": {
     "iopub.execute_input": "2022-06-22T16:27:19.424386Z",
     "iopub.status.busy": "2022-06-22T16:27:19.423140Z",
     "iopub.status.idle": "2022-06-22T16:27:19.425475Z",
     "shell.execute_reply": "2022-06-22T16:27:19.426035Z"
    },
    "papermill": {
     "duration": 0.041995,
     "end_time": "2022-06-22T16:27:19.426268",
     "exception": false,
     "start_time": "2022-06-22T16:27:19.384273",
     "status": "completed"
    },
    "tags": [
     "injected-parameters"
    ]
   },
   "outputs": [],
   "source": [
    "# Parameters\n",
    "variance = 1\n",
    "bias = 0\n"
   ]
  },
  {
   "cell_type": "markdown",
   "id": "391cdbfd",
   "metadata": {
    "id": "391cdbfd",
    "papermill": {
     "duration": 0.02264,
     "end_time": "2022-06-22T16:27:19.468779",
     "exception": false,
     "start_time": "2022-06-22T16:27:19.446139",
     "status": "completed"
    },
    "tags": []
   },
   "source": [
    "## Dataset \n"
   ]
  },
  {
   "cell_type": "code",
   "execution_count": 5,
   "id": "5b51f161",
   "metadata": {
    "execution": {
     "iopub.execute_input": "2022-06-22T16:27:19.535452Z",
     "iopub.status.busy": "2022-06-22T16:27:19.534361Z",
     "iopub.status.idle": "2022-06-22T16:27:19.536955Z",
     "shell.execute_reply": "2022-06-22T16:27:19.536310Z"
    },
    "id": "5b51f161",
    "papermill": {
     "duration": 0.047032,
     "end_time": "2022-06-22T16:27:19.537162",
     "exception": false,
     "start_time": "2022-06-22T16:27:19.490130",
     "status": "completed"
    },
    "tags": []
   },
   "outputs": [],
   "source": [
    "#Parameters \n",
    "n_features = 4\n",
    "n_samples= 100\n",
    "n_target = 1"
   ]
  },
  {
   "cell_type": "code",
   "execution_count": 6,
   "id": "5d6eced4",
   "metadata": {
    "execution": {
     "iopub.execute_input": "2022-06-22T16:27:19.592084Z",
     "iopub.status.busy": "2022-06-22T16:27:19.590938Z",
     "iopub.status.idle": "2022-06-22T16:27:19.606794Z",
     "shell.execute_reply": "2022-06-22T16:27:19.607342Z"
    },
    "id": "5d6eced4",
    "papermill": {
     "duration": 0.049403,
     "end_time": "2022-06-22T16:27:19.607585",
     "exception": false,
     "start_time": "2022-06-22T16:27:19.558182",
     "status": "completed"
    },
    "tags": []
   },
   "outputs": [
    {
     "name": "stdout",
     "output_type": "stream",
     "text": [
      "          X1           X2        X3        X4         Y\n",
      "0  83.163320   384.443085  0.067905  6.635435  0.382879\n",
      "1  91.184084   636.996292  0.627750  4.595170  1.423425\n",
      "2  21.584183  1084.270137  0.936237  7.634715  1.584516\n",
      "3  94.819817  1449.861582  0.560342  3.887332  1.351548\n",
      "4  92.692593   596.731997  0.541545  1.164444  1.135315\n"
     ]
    }
   ],
   "source": [
    "X,Y = friedman3Dataset.friedman3_data(n_samples)"
   ]
  },
  {
   "cell_type": "code",
   "execution_count": 7,
   "id": "fe007438",
   "metadata": {
    "execution": {
     "iopub.execute_input": "2022-06-22T16:27:19.662060Z",
     "iopub.status.busy": "2022-06-22T16:27:19.660432Z",
     "iopub.status.idle": "2022-06-22T16:27:19.669669Z",
     "shell.execute_reply": "2022-06-22T16:27:19.670681Z"
    },
    "id": "fe007438",
    "papermill": {
     "duration": 0.044994,
     "end_time": "2022-06-22T16:27:19.671344",
     "exception": false,
     "start_time": "2022-06-22T16:27:19.626350",
     "status": "completed"
    },
    "tags": []
   },
   "outputs": [],
   "source": [
    "#Train test split for dataset \n",
    "X_train,X_test,Y_train,Y_test = train_test_split(X,Y,test_size = 0.2)\n",
    "train_data = dataset.CustomDataset(X_train,Y_train)\n",
    "test_data = dataset.CustomDataset(X_test,Y_test)\n"
   ]
  },
  {
   "cell_type": "markdown",
   "id": "a9a1af34",
   "metadata": {
    "id": "a9a1af34",
    "papermill": {
     "duration": 0.020872,
     "end_time": "2022-06-22T16:27:19.714388",
     "exception": false,
     "start_time": "2022-06-22T16:27:19.693516",
     "status": "completed"
    },
    "tags": []
   },
   "source": [
    "## Training Parameters "
   ]
  },
  {
   "cell_type": "code",
   "execution_count": 8,
   "id": "952b7fc8",
   "metadata": {
    "execution": {
     "iopub.execute_input": "2022-06-22T16:27:19.788605Z",
     "iopub.status.busy": "2022-06-22T16:27:19.786818Z",
     "iopub.status.idle": "2022-06-22T16:27:19.790014Z",
     "shell.execute_reply": "2022-06-22T16:27:19.789403Z"
    },
    "id": "952b7fc8",
    "papermill": {
     "duration": 0.048134,
     "end_time": "2022-06-22T16:27:19.790221",
     "exception": false,
     "start_time": "2022-06-22T16:27:19.742087",
     "status": "completed"
    },
    "tags": []
   },
   "outputs": [],
   "source": [
    "batch_size = 32\n",
    "n_epochs = 1000\n",
    "#Select the device \n",
    "device = torch.device('cuda' if torch.cuda.is_available() else 'cpu')"
   ]
  },
  {
   "cell_type": "markdown",
   "id": "a95e1600",
   "metadata": {
    "id": "a95e1600",
    "papermill": {
     "duration": 0.02321,
     "end_time": "2022-06-22T16:27:19.834339",
     "exception": false,
     "start_time": "2022-06-22T16:27:19.811129",
     "status": "completed"
    },
    "tags": []
   },
   "source": [
    "# ABC Pre-generator Model \n",
    "\n",
    "1. The catboost model is used as a pre-generator model for the ABC-GAN. \n",
    "2. The model is first trained on the entire dataset \n",
    "3. It generats X,Y pairs and we add some Gaussian noise with mean 0 and variance 1 to it which is then feed as input to the generator.\n"
   ]
  },
  {
   "cell_type": "code",
   "execution_count": 9,
   "id": "ff8ce7bd",
   "metadata": {
    "execution": {
     "iopub.execute_input": "2022-06-22T16:27:19.890364Z",
     "iopub.status.busy": "2022-06-22T16:27:19.886536Z",
     "iopub.status.idle": "2022-06-22T16:27:31.743892Z",
     "shell.execute_reply": "2022-06-22T16:27:31.744445Z"
    },
    "id": "ff8ce7bd",
    "papermill": {
     "duration": 11.892651,
     "end_time": "2022-06-22T16:27:31.744802",
     "exception": false,
     "start_time": "2022-06-22T16:27:19.852151",
     "status": "completed"
    },
    "tags": []
   },
   "outputs": [
    {
     "name": "stdout",
     "output_type": "stream",
     "text": [
      "Device used : cpu\n"
     ]
    },
    {
     "name": "stdout",
     "output_type": "stream",
     "text": [
      "epoch 0  | loss: 1.18905 | train_mse: 5.34286 | train_mae: 1.77663 |  0:00:00s\n",
      "epoch 1  | loss: 0.82206 | train_mse: 3.50166 | train_mae: 1.39462 |  0:00:00s\n"
     ]
    },
    {
     "name": "stdout",
     "output_type": "stream",
     "text": [
      "epoch 2  | loss: 0.71341 | train_mse: 4.51289 | train_mae: 1.7522  |  0:00:00s\n",
      "epoch 3  | loss: 0.50043 | train_mse: 4.75819 | train_mae: 1.73065 |  0:00:00s\n",
      "epoch 4  | loss: 0.53439 | train_mse: 2.82594 | train_mae: 1.29644 |  0:00:00s"
     ]
    },
    {
     "name": "stdout",
     "output_type": "stream",
     "text": [
      "\n",
      "epoch 5  | loss: 0.85499 | train_mse: 1.3501  | train_mae: 0.89117 |  0:00:00s\n",
      "epoch 6  | loss: 0.48357 | train_mse: 1.36795 | train_mae: 0.88716 |  0:00:01s\n"
     ]
    },
    {
     "name": "stdout",
     "output_type": "stream",
     "text": [
      "epoch 7  | loss: 0.44401 | train_mse: 1.56417 | train_mae: 0.88234 |  0:00:01s\n"
     ]
    },
    {
     "name": "stdout",
     "output_type": "stream",
     "text": [
      "epoch 8  | loss: 0.43016 | train_mse: 1.4496  | train_mae: 0.82602 |  0:00:01s\n",
      "epoch 9  | loss: 0.5291  | train_mse: 1.677   | train_mae: 0.89472 |  0:00:01s\n"
     ]
    },
    {
     "name": "stdout",
     "output_type": "stream",
     "text": [
      "epoch 10 | loss: 0.31207 | train_mse: 0.77677 | train_mae: 0.64035 |  0:00:01s\n",
      "epoch 11 | loss: 0.35333 | train_mse: 0.47636 | train_mae: 0.51044 |  0:00:01s\n"
     ]
    },
    {
     "name": "stdout",
     "output_type": "stream",
     "text": [
      "epoch 12 | loss: 0.33869 | train_mse: 0.58827 | train_mae: 0.54906 |  0:00:01s\n",
      "epoch 13 | loss: 0.36761 | train_mse: 0.79681 | train_mae: 0.603   |  0:00:01s\n",
      "epoch 14 | loss: 0.30725 | train_mse: 0.76256 | train_mae: 0.59888 |  0:00:02s\n"
     ]
    },
    {
     "name": "stdout",
     "output_type": "stream",
     "text": [
      "epoch 15 | loss: 0.22193 | train_mse: 0.27731 | train_mae: 0.39423 |  0:00:02s\n",
      "epoch 16 | loss: 0.2114  | train_mse: 0.22199 | train_mae: 0.35731 |  0:00:02s\n"
     ]
    },
    {
     "name": "stdout",
     "output_type": "stream",
     "text": [
      "epoch 17 | loss: 0.23019 | train_mse: 0.24287 | train_mae: 0.36193 |  0:00:02s\n",
      "epoch 18 | loss: 0.26341 | train_mse: 0.27593 | train_mae: 0.37763 |  0:00:02s\n",
      "epoch 19 | loss: 0.30892 | train_mse: 0.21461 | train_mae: 0.35686 |  0:00:02s\n"
     ]
    },
    {
     "name": "stdout",
     "output_type": "stream",
     "text": [
      "epoch 20 | loss: 0.1753  | train_mse: 0.22441 | train_mae: 0.36214 |  0:00:02s\n",
      "epoch 21 | loss: 0.21044 | train_mse: 0.24065 | train_mae: 0.35202 |  0:00:02s\n",
      "epoch 22 | loss: 0.24318 | train_mse: 0.2107  | train_mae: 0.32785 |  0:00:02s\n"
     ]
    },
    {
     "name": "stdout",
     "output_type": "stream",
     "text": [
      "epoch 23 | loss: 0.27109 | train_mse: 0.1635  | train_mae: 0.30076 |  0:00:02s\n",
      "epoch 24 | loss: 0.20155 | train_mse: 0.16058 | train_mae: 0.29823 |  0:00:03s\n"
     ]
    },
    {
     "name": "stdout",
     "output_type": "stream",
     "text": [
      "epoch 25 | loss: 0.29244 | train_mse: 0.14703 | train_mae: 0.28744 |  0:00:03s\n",
      "epoch 26 | loss: 0.43953 | train_mse: 0.24174 | train_mae: 0.33588 |  0:00:03s\n"
     ]
    },
    {
     "name": "stdout",
     "output_type": "stream",
     "text": [
      "epoch 27 | loss: 0.24404 | train_mse: 0.23937 | train_mae: 0.36338 |  0:00:03s\n",
      "epoch 28 | loss: 0.21385 | train_mse: 0.12417 | train_mae: 0.28343 |  0:00:03s\n",
      "epoch 29 | loss: 0.14913 | train_mse: 0.16426 | train_mae: 0.30538 |  0:00:03s\n"
     ]
    },
    {
     "name": "stdout",
     "output_type": "stream",
     "text": [
      "epoch 30 | loss: 0.24527 | train_mse: 0.24814 | train_mae: 0.36795 |  0:00:03s\n",
      "epoch 31 | loss: 0.20069 | train_mse: 0.2128  | train_mae: 0.34288 |  0:00:03s\n",
      "epoch 32 | loss: 0.23886 | train_mse: 0.10223 | train_mae: 0.25498 |  0:00:03s\n"
     ]
    },
    {
     "name": "stdout",
     "output_type": "stream",
     "text": [
      "epoch 33 | loss: 0.19246 | train_mse: 0.08444 | train_mae: 0.23081 |  0:00:04s\n",
      "epoch 34 | loss: 0.1472  | train_mse: 0.10176 | train_mae: 0.25099 |  0:00:04s\n"
     ]
    },
    {
     "name": "stdout",
     "output_type": "stream",
     "text": [
      "epoch 35 | loss: 0.28226 | train_mse: 0.23773 | train_mae: 0.34536 |  0:00:04s\n",
      "epoch 36 | loss: 0.19167 | train_mse: 0.3425  | train_mae: 0.39323 |  0:00:04s\n"
     ]
    },
    {
     "name": "stdout",
     "output_type": "stream",
     "text": [
      "epoch 37 | loss: 0.24234 | train_mse: 0.32702 | train_mae: 0.37699 |  0:00:04s\n",
      "epoch 38 | loss: 0.17116 | train_mse: 0.17259 | train_mae: 0.28579 |  0:00:04s\n"
     ]
    },
    {
     "name": "stdout",
     "output_type": "stream",
     "text": [
      "epoch 39 | loss: 0.16483 | train_mse: 0.10289 | train_mae: 0.25358 |  0:00:04s\n",
      "epoch 40 | loss: 0.11479 | train_mse: 0.0905  | train_mae: 0.23239 |  0:00:04s\n",
      "epoch 41 | loss: 0.11807 | train_mse: 0.11881 | train_mae: 0.25441 |  0:00:04s\n"
     ]
    },
    {
     "name": "stdout",
     "output_type": "stream",
     "text": [
      "epoch 42 | loss: 0.19281 | train_mse: 0.09857 | train_mae: 0.24828 |  0:00:05s\n",
      "epoch 43 | loss: 0.09351 | train_mse: 0.11127 | train_mae: 0.2698  |  0:00:05s\n"
     ]
    },
    {
     "name": "stdout",
     "output_type": "stream",
     "text": [
      "epoch 44 | loss: 0.19901 | train_mse: 0.15112 | train_mae: 0.30978 |  0:00:05s\n",
      "epoch 45 | loss: 0.11687 | train_mse: 0.14136 | train_mae: 0.28645 |  0:00:05s\n"
     ]
    },
    {
     "name": "stdout",
     "output_type": "stream",
     "text": [
      "epoch 46 | loss: 0.16888 | train_mse: 0.09806 | train_mae: 0.25243 |  0:00:05s\n",
      "epoch 47 | loss: 0.18345 | train_mse: 0.16845 | train_mae: 0.29529 |  0:00:05s\n",
      "epoch 48 | loss: 0.24975 | train_mse: 0.18003 | train_mae: 0.30182 |  0:00:05s\n"
     ]
    },
    {
     "name": "stdout",
     "output_type": "stream",
     "text": [
      "epoch 49 | loss: 0.12901 | train_mse: 0.10174 | train_mae: 0.23666 |  0:00:05s\n",
      "epoch 50 | loss: 0.09481 | train_mse: 0.06656 | train_mae: 0.19995 |  0:00:05s\n",
      "epoch 51 | loss: 0.08996 | train_mse: 0.08896 | train_mae: 0.23031 |  0:00:05s\n"
     ]
    },
    {
     "name": "stdout",
     "output_type": "stream",
     "text": [
      "epoch 52 | loss: 0.22604 | train_mse: 0.07613 | train_mae: 0.21312 |  0:00:06s\n",
      "epoch 53 | loss: 0.14859 | train_mse: 0.06499 | train_mae: 0.20493 |  0:00:06s\n"
     ]
    },
    {
     "name": "stdout",
     "output_type": "stream",
     "text": [
      "epoch 54 | loss: 0.12215 | train_mse: 0.09175 | train_mae: 0.23006 |  0:00:06s\n",
      "epoch 55 | loss: 0.15284 | train_mse: 0.09323 | train_mae: 0.23601 |  0:00:06s\n",
      "epoch 56 | loss: 0.39715 | train_mse: 0.13392 | train_mae: 0.2727  |  0:00:06s\n"
     ]
    },
    {
     "name": "stdout",
     "output_type": "stream",
     "text": [
      "epoch 57 | loss: 0.10989 | train_mse: 0.07803 | train_mae: 0.2147  |  0:00:06s\n",
      "epoch 58 | loss: 0.12261 | train_mse: 0.07619 | train_mae: 0.21438 |  0:00:06s\n",
      "epoch 59 | loss: 0.0822  | train_mse: 0.083   | train_mae: 0.22346 |  0:00:06s\n"
     ]
    },
    {
     "name": "stdout",
     "output_type": "stream",
     "text": [
      "epoch 60 | loss: 0.17985 | train_mse: 0.06659 | train_mae: 0.20724 |  0:00:06s\n",
      "epoch 61 | loss: 0.13047 | train_mse: 0.05769 | train_mae: 0.193   |  0:00:06s\n",
      "epoch 62 | loss: 0.10262 | train_mse: 0.0726  | train_mae: 0.22498 |  0:00:07s\n"
     ]
    },
    {
     "name": "stdout",
     "output_type": "stream",
     "text": [
      "epoch 63 | loss: 0.09953 | train_mse: 0.10275 | train_mae: 0.23993 |  0:00:07s\n",
      "epoch 64 | loss: 0.16636 | train_mse: 0.11136 | train_mae: 0.23903 |  0:00:07s\n"
     ]
    },
    {
     "name": "stdout",
     "output_type": "stream",
     "text": [
      "epoch 65 | loss: 0.13872 | train_mse: 0.10992 | train_mae: 0.241   |  0:00:07s\n",
      "epoch 66 | loss: 0.23672 | train_mse: 0.08632 | train_mae: 0.2293  |  0:00:07s\n",
      "epoch 67 | loss: 0.15217 | train_mse: 0.09812 | train_mae: 0.24793 |  0:00:07s\n"
     ]
    },
    {
     "name": "stdout",
     "output_type": "stream",
     "text": [
      "epoch 68 | loss: 0.12603 | train_mse: 0.09062 | train_mae: 0.23565 |  0:00:07s\n",
      "epoch 69 | loss: 0.1435  | train_mse: 0.11617 | train_mae: 0.26226 |  0:00:07s\n",
      "epoch 70 | loss: 0.11851 | train_mse: 0.12846 | train_mae: 0.27259 |  0:00:07s\n"
     ]
    },
    {
     "name": "stdout",
     "output_type": "stream",
     "text": [
      "epoch 71 | loss: 0.11893 | train_mse: 0.13251 | train_mae: 0.28218 |  0:00:07s\n",
      "epoch 72 | loss: 0.18834 | train_mse: 0.12051 | train_mae: 0.26874 |  0:00:08s\n"
     ]
    },
    {
     "name": "stdout",
     "output_type": "stream",
     "text": [
      "epoch 73 | loss: 0.18836 | train_mse: 0.11986 | train_mae: 0.2677  |  0:00:08s\n",
      "epoch 74 | loss: 0.27197 | train_mse: 0.12137 | train_mae: 0.26829 |  0:00:08s\n"
     ]
    },
    {
     "name": "stdout",
     "output_type": "stream",
     "text": [
      "epoch 75 | loss: 0.14455 | train_mse: 0.17436 | train_mae: 0.31062 |  0:00:08s\n",
      "epoch 76 | loss: 0.18586 | train_mse: 0.22656 | train_mae: 0.3421  |  0:00:08s\n",
      "epoch 77 | loss: 0.19888 | train_mse: 0.31652 | train_mae: 0.37772 |  0:00:08s\n"
     ]
    },
    {
     "name": "stdout",
     "output_type": "stream",
     "text": [
      "epoch 78 | loss: 0.31551 | train_mse: 0.44271 | train_mae: 0.42209 |  0:00:08s\n",
      "epoch 79 | loss: 0.20676 | train_mse: 0.49706 | train_mae: 0.44972 |  0:00:08s\n"
     ]
    },
    {
     "name": "stdout",
     "output_type": "stream",
     "text": [
      "epoch 80 | loss: 0.18201 | train_mse: 0.49077 | train_mae: 0.42652 |  0:00:08s\n",
      "epoch 81 | loss: 0.21259 | train_mse: 0.45231 | train_mae: 0.41299 |  0:00:09s\n"
     ]
    },
    {
     "name": "stdout",
     "output_type": "stream",
     "text": [
      "epoch 82 | loss: 0.27961 | train_mse: 0.38975 | train_mae: 0.39282 |  0:00:09s\n",
      "epoch 83 | loss: 0.26936 | train_mse: 0.31004 | train_mae: 0.36664 |  0:00:09s\n",
      "epoch 84 | loss: 0.17959 | train_mse: 0.23618 | train_mae: 0.33204 |  0:00:09s\n"
     ]
    },
    {
     "name": "stdout",
     "output_type": "stream",
     "text": [
      "epoch 85 | loss: 0.17247 | train_mse: 0.1864  | train_mae: 0.29764 |  0:00:09s\n",
      "epoch 86 | loss: 0.11636 | train_mse: 0.13408 | train_mae: 0.27067 |  0:00:09s\n"
     ]
    },
    {
     "name": "stdout",
     "output_type": "stream",
     "text": [
      "epoch 87 | loss: 0.26878 | train_mse: 0.09298 | train_mae: 0.2307  |  0:00:09s\n",
      "epoch 88 | loss: 0.11234 | train_mse: 0.08064 | train_mae: 0.2109  |  0:00:09s\n",
      "epoch 89 | loss: 0.28285 | train_mse: 0.07924 | train_mae: 0.21018 |  0:00:09s\n"
     ]
    },
    {
     "name": "stdout",
     "output_type": "stream",
     "text": [
      "epoch 90 | loss: 0.19968 | train_mse: 0.0898  | train_mae: 0.23017 |  0:00:09s\n",
      "epoch 91 | loss: 0.34942 | train_mse: 0.13848 | train_mae: 0.27395 |  0:00:09s\n",
      "epoch 92 | loss: 0.17973 | train_mse: 0.13704 | train_mae: 0.27276 |  0:00:10s\n"
     ]
    },
    {
     "name": "stdout",
     "output_type": "stream",
     "text": [
      "epoch 93 | loss: 0.11476 | train_mse: 0.12302 | train_mae: 0.25874 |  0:00:10s\n",
      "epoch 94 | loss: 0.16182 | train_mse: 0.13064 | train_mae: 0.25535 |  0:00:10s\n",
      "epoch 95 | loss: 0.14393 | train_mse: 0.10894 | train_mae: 0.23863 |  0:00:10s\n"
     ]
    },
    {
     "name": "stdout",
     "output_type": "stream",
     "text": [
      "epoch 96 | loss: 0.1306  | train_mse: 0.10196 | train_mae: 0.23739 |  0:00:10s\n",
      "epoch 97 | loss: 0.10235 | train_mse: 0.10984 | train_mae: 0.23649 |  0:00:10s\n",
      "epoch 98 | loss: 0.42117 | train_mse: 0.22747 | train_mae: 0.30285 |  0:00:10s\n"
     ]
    },
    {
     "name": "stdout",
     "output_type": "stream",
     "text": [
      "epoch 99 | loss: 0.32767 | train_mse: 0.32242 | train_mae: 0.35107 |  0:00:10s\n",
      "epoch 100| loss: 0.14784 | train_mse: 0.30256 | train_mae: 0.34703 |  0:00:10s\n",
      "epoch 101| loss: 0.11854 | train_mse: 0.1888  | train_mae: 0.30522 |  0:00:10s\n"
     ]
    },
    {
     "name": "stdout",
     "output_type": "stream",
     "text": [
      "epoch 102| loss: 0.11292 | train_mse: 0.11102 | train_mae: 0.24814 |  0:00:10s\n",
      "epoch 103| loss: 0.10405 | train_mse: 0.09154 | train_mae: 0.22649 |  0:00:11s\n",
      "epoch 104| loss: 0.12279 | train_mse: 0.08239 | train_mae: 0.2178  |  0:00:11s\n"
     ]
    },
    {
     "name": "stdout",
     "output_type": "stream",
     "text": [
      "epoch 105| loss: 0.10484 | train_mse: 0.0931  | train_mae: 0.23028 |  0:00:11s\n",
      "epoch 106| loss: 0.17271 | train_mse: 0.09449 | train_mae: 0.22766 |  0:00:11s\n"
     ]
    },
    {
     "name": "stdout",
     "output_type": "stream",
     "text": [
      "epoch 107| loss: 0.09482 | train_mse: 0.08975 | train_mae: 0.22168 |  0:00:11s\n",
      "epoch 108| loss: 0.1746  | train_mse: 0.1025  | train_mae: 0.2367  |  0:00:11s\n",
      "epoch 109| loss: 0.11081 | train_mse: 0.10982 | train_mae: 0.24493 |  0:00:11s\n"
     ]
    },
    {
     "name": "stdout",
     "output_type": "stream",
     "text": [
      "epoch 110| loss: 0.22102 | train_mse: 0.10373 | train_mae: 0.23763 |  0:00:11s\n",
      "epoch 111| loss: 0.26307 | train_mse: 0.12049 | train_mae: 0.24604 |  0:00:11s\n",
      "\n",
      "Early stopping occurred at epoch 111 with best_epoch = 61 and best_train_mae = 0.193\n",
      "Best weights from best epoch are automatically used!\n"
     ]
    }
   ],
   "source": [
    "#Train the Model\n",
    "\n",
    "Y_train = np.reshape(Y_train, (-1, 1))\n",
    "Y_test = np.reshape(Y_test, (-1, 1))\n",
    "\n",
    "prior_model = TabNetRegressor(optimizer_fn=torch.optim.Adam, optimizer_params=dict(lr = 0.02),\n",
    "          #scheduler_params={\"step_size\":10, ], \"gamma\":0.9},\n",
    "          #scheduler_fn=torch.optim.lr_scheduler.StepLR\n",
    "          )  #TabNetRegressor()\n",
    "\n",
    "prior_model.fit(X_train,Y_train,eval_set=[(X_train, Y_train)],\n",
    "            eval_name=['train'], \n",
    "            eval_metric=[ 'mse', 'mae'], \n",
    "            max_epochs = n_epochs, \n",
    "            batch_size = batch_size,\n",
    "            patience=50\n",
    "            )"
   ]
  },
  {
   "cell_type": "code",
   "execution_count": 10,
   "id": "af65dcda",
   "metadata": {
    "execution": {
     "iopub.execute_input": "2022-06-22T16:27:31.818148Z",
     "iopub.status.busy": "2022-06-22T16:27:31.816544Z",
     "iopub.status.idle": "2022-06-22T16:27:31.842372Z",
     "shell.execute_reply": "2022-06-22T16:27:31.843245Z"
    },
    "id": "af65dcda",
    "papermill": {
     "duration": 0.064635,
     "end_time": "2022-06-22T16:27:31.843523",
     "exception": false,
     "start_time": "2022-06-22T16:27:31.778888",
     "status": "completed"
    },
    "tags": []
   },
   "outputs": [
    {
     "data": {
      "application/scrapbook.scrap.json+json": {
       "data": 0.22178371395746682,
       "encoder": "json",
       "name": "Prior Model MSE",
       "version": 1
      }
     },
     "metadata": {
      "scrapbook": {
       "data": true,
       "display": false,
       "name": "Prior Model MSE"
      }
     },
     "output_type": "display_data"
    },
    {
     "data": {
      "application/scrapbook.scrap.json+json": {
       "data": 1.0900420727777385,
       "encoder": "json",
       "name": "ABC Pre-generator MSE",
       "version": 1
      }
     },
     "metadata": {
      "scrapbook": {
       "data": true,
       "display": false,
       "name": "ABC Pre-generator MSE"
      }
     },
     "output_type": "display_data"
    },
    {
     "data": {
      "application/scrapbook.scrap.json+json": {
       "data": 0.37773914645357237,
       "encoder": "json",
       "name": "Prior Model MSE",
       "version": 1
      }
     },
     "metadata": {
      "scrapbook": {
       "data": true,
       "display": false,
       "name": "Prior Model MSE"
      }
     },
     "output_type": "display_data"
    },
    {
     "data": {
      "application/scrapbook.scrap.json+json": {
       "data": 0.8608248557710997,
       "encoder": "json",
       "name": "ABC Pre-generator MSE",
       "version": 1
      }
     },
     "metadata": {
      "scrapbook": {
       "data": true,
       "display": false,
       "name": "ABC Pre-generator MSE"
      }
     },
     "output_type": "display_data"
    }
   ],
   "source": [
    "y_pred = prior_model.predict(X_test)\n",
    "y_abc = y_pred + np.random.normal(0,variance, y_pred.shape) + bias \n",
    "mse = mean_squared_error(y_pred,Y_test)\n",
    "sb.glue(\"Prior Model MSE\",mse)\n",
    "mse = mean_squared_error(y_abc,Y_test)\n",
    "sb.glue(\"ABC Pre-generator MSE\",mse)\n",
    "mae = mean_absolute_error(y_pred,Y_test)\n",
    "sb.glue(\"Prior Model MSE\",mae)\n",
    "mae = mean_absolute_error(y_abc,Y_test)\n",
    "sb.glue(\"ABC Pre-generator MSE\",mae)"
   ]
  },
  {
   "cell_type": "markdown",
   "id": "25609da2",
   "metadata": {
    "papermill": {
     "duration": 0.065517,
     "end_time": "2022-06-22T16:27:31.943824",
     "exception": false,
     "start_time": "2022-06-22T16:27:31.878307",
     "status": "completed"
    },
    "tags": []
   },
   "source": [
    "# ABC GAN Model"
   ]
  },
  {
   "cell_type": "code",
   "execution_count": 11,
   "id": "dfc3464d",
   "metadata": {
    "execution": {
     "iopub.execute_input": "2022-06-22T16:27:32.083431Z",
     "iopub.status.busy": "2022-06-22T16:27:32.081528Z",
     "iopub.status.idle": "2022-06-22T16:27:32.084870Z",
     "shell.execute_reply": "2022-06-22T16:27:32.084281Z"
    },
    "papermill": {
     "duration": 0.082187,
     "end_time": "2022-06-22T16:27:32.085067",
     "exception": false,
     "start_time": "2022-06-22T16:27:32.002880",
     "status": "completed"
    },
    "tags": []
   },
   "outputs": [],
   "source": [
    "gen = network.Generator(n_features+1).to(device)\n",
    "disc = network.Discriminator(n_features+1).to(device)\n",
    "\n",
    "criterion = torch.nn.BCELoss()\n",
    "gen_opt = torch.optim.Adam(gen.parameters(), lr=0.001, betas=(0.5, 0.999))\n",
    "disc_opt = torch.optim.Adam(disc.parameters(), lr=0.001, betas=(0.5, 0.999))"
   ]
  },
  {
   "cell_type": "code",
   "execution_count": 12,
   "id": "b75fdd85",
   "metadata": {
    "execution": {
     "iopub.execute_input": "2022-06-22T16:27:32.178720Z",
     "iopub.status.busy": "2022-06-22T16:27:32.174285Z",
     "iopub.status.idle": "2022-06-22T16:28:55.750055Z",
     "shell.execute_reply": "2022-06-22T16:28:55.751112Z"
    },
    "papermill": {
     "duration": 83.620978,
     "end_time": "2022-06-22T16:28:55.751369",
     "exception": false,
     "start_time": "2022-06-22T16:27:32.130391",
     "status": "completed"
    },
    "tags": []
   },
   "outputs": [
    {
     "data": {
      "image/png": "[encoded data removed]",
      "text/plain": [
       "<Figure size 432x288 with 1 Axes>"
      ]
     },
     "metadata": {
      "needs_background": "light"
     },
     "output_type": "display_data"
    },
    {
     "data": {
      "image/png": "[encoded data removed]",
      "text/plain": [
       "<Figure size 432x288 with 1 Axes>"
      ]
     },
     "metadata": {
      "needs_background": "light"
     },
     "output_type": "display_data"
    }
   ],
   "source": [
    "#Training the ABC_GAN \n",
    "ABC_train_test2.training_GAN(disc,gen,disc_opt,gen_opt,train_data,batch_size,n_epochs,criterion,prior_model,variance,bias,device)"
   ]
  },
  {
   "cell_type": "code",
   "execution_count": 13,
   "id": "1fa7c368",
   "metadata": {
    "execution": {
     "iopub.execute_input": "2022-06-22T16:28:55.841761Z",
     "iopub.status.busy": "2022-06-22T16:28:55.840911Z",
     "iopub.status.idle": "2022-06-22T16:28:56.886925Z",
     "shell.execute_reply": "2022-06-22T16:28:56.888720Z"
    },
    "papermill": {
     "duration": 1.101205,
     "end_time": "2022-06-22T16:28:56.889111",
     "exception": false,
     "start_time": "2022-06-22T16:28:55.787906",
     "status": "completed"
    },
    "tags": []
   },
   "outputs": [
    {
     "data": {
      "application/scrapbook.scrap.json+json": {
       "data": 0.2307980676873666,
       "encoder": "json",
       "name": "ABC-GAN Model 1 MSE",
       "version": 1
      }
     },
     "metadata": {
      "scrapbook": {
       "data": true,
       "display": false,
       "name": "ABC-GAN Model 1 MSE"
      }
     },
     "output_type": "display_data"
    },
    {
     "data": {
      "application/scrapbook.scrap.json+json": {
       "data": 0.4142239565066993,
       "encoder": "json",
       "name": "ABC-GAN Model 1 MAE",
       "version": 1
      }
     },
     "metadata": {
      "scrapbook": {
       "data": true,
       "display": false,
       "name": "ABC-GAN Model 1 MAE"
      }
     },
     "output_type": "display_data"
    },
    {
     "data": {
      "application/scrapbook.scrap.json+json": {
       "data": 8.284479130133986,
       "encoder": "json",
       "name": "ABC-GAN Model 1 Manhattan Distance",
       "version": 1
      }
     },
     "metadata": {
      "scrapbook": {
       "data": true,
       "display": false,
       "name": "ABC-GAN Model 1 Manhattan Distance"
      }
     },
     "output_type": "display_data"
    },
    {
     "data": {
      "application/scrapbook.scrap.json+json": {
       "data": 2.147452842297685,
       "encoder": "json",
       "name": "ABC-GAN Model 1 Euclidean distance",
       "version": 1
      }
     },
     "metadata": {
      "scrapbook": {
       "data": true,
       "display": false,
       "name": "ABC-GAN Model 1 Euclidean distance"
      }
     },
     "output_type": "display_data"
    },
    {
     "data": {
      "application/scrapbook.scrap.json+json": {
       "data": [
        [
         0.2322185150944684,
         0.22297048547928563,
         0.22867706614101935,
         0.20894982749709942,
         0.24517220246470664,
         0.232374516248583,
         0.23426762594708186,
         0.21952235573150897,
         0.24293977779991818,
         0.23872375475055377,
         0.21908823662030424,
         0.21869848306726727,
         0.2545008198138155,
         0.25113795724872234,
         0.2582683555321553,
         0.2110145088735828,
         0.219852804745238,
         0.22233223196656846,
         0.24648248820114085,
         0.21621741316299095,
         0.23599134939998848,
         0.21958036061338312,
         0.2268402619439684,
         0.23944011915696847,
         0.2319738822505371,
         0.23141193388821465,
         0.23532234652147338,
         0.2645800562981221,
         0.21148401639799735,
         0.22115002833963993,
         0.2626994816381613,
         0.2183368220393398,
         0.24275159888026857,
         0.24169638487001022,
         0.2153588419253955,
         0.22923003600496566,
         0.23440129373095658,
         0.21626331019738823,
         0.2444907156366814,
         0.24092311473329442,
         0.22397276402518101,
         0.24584361535101018,
         0.22849175698206703,
         0.2492660917266359,
         0.21958606954420498,
         0.2298384775360543,
         0.21952033693394327,
         0.2167292739821241,
         0.22486372965349669,
         0.23131232099941168,
         0.22587138705265164,
         0.21345637530609993,
         0.21074101038581997,
         0.22149009051682772,
         0.2025235368183802,
         0.22723077296234026,
         0.22537948608071723,
         0.23216082156763687,
         0.23871182980141809,
         0.22932423033076882,
         0.2541064280291675,
         0.23614824412535435,
         0.25198942290820436,
         0.21087173749335908,
         0.21719749062947008,
         0.2190854111326579,
         0.23743482797100307,
         0.2374630171605426,
         0.2407902414948556,
         0.2314324495263834,
         0.2611016390419554,
         0.24212834660544674,
         0.22534993742703086,
         0.21958501039734166,
         0.2461056343841364,
         0.25464482675358047,
         0.24744436011809653,
         0.21968250886345836,
         0.23227624905771432,
         0.19441335180612898,
         0.25425887120881074,
         0.25619130527565254,
         0.21355384956463191,
         0.2477816181256894,
         0.21528184498979153,
         0.2322434063617323,
         0.22118490464080626,
         0.22429936552609023,
         0.22697844209973184,
         0.21938681002026864,
         0.22994634525465335,
         0.2200273858656178,
         0.23788789649634728,
         0.20514191334072213,
         0.22687669572758282,
         0.24102454457179392,
         0.21409390878405965,
         0.2399657441189364,
         0.24104387973273358,
         0.22973754369556434
        ],
        [
         0.4220166109502316,
         0.4002810545265675,
         0.4207053318619728,
         0.39459246546030047,
         0.42458826005458833,
         0.4258353352546692,
         0.4206766553223133,
         0.39853404015302657,
         0.43399280309677124,
         0.4198314592242241,
         0.4072784557938576,
         0.40257110074162483,
         0.42629681080579757,
         0.43771532326936724,
         0.43937422186136244,
         0.3862946264445782,
         0.3992202989757061,
         0.40917082950472833,
         0.42636521384119985,
         0.4071713887155056,
         0.4254073046147823,
         0.4068297639489174,
         0.4114352479577065,
         0.4098230980336666,
         0.41255306750535964,
         0.40819682106375693,
         0.4174365945160389,
         0.4450713649392128,
         0.3914966955780983,
         0.40486288294196127,
         0.4364827387034893,
         0.38747922107577326,
         0.4139143340289593,
         0.43060857281088827,
         0.39924625158309934,
         0.4162056431174278,
         0.41313625052571296,
         0.40124702379107474,
         0.42070322409272193,
         0.4274795398116112,
         0.4132517546415329,
         0.4245494082570076,
         0.42348563075065615,
         0.43096858263015747,
         0.39178850278258326,
         0.4241916209459305,
         0.40610534586012365,
         0.4060388937592506,
         0.4111664339900017,
         0.41115670651197433,
         0.4075188212096691,
         0.4119966946542263,
         0.3909058190882206,
         0.40918612107634544,
         0.38271251916885374,
         0.4053063698112965,
         0.41341359689831736,
         0.4222596652805805,
         0.42914699390530586,
         0.4123399041593075,
         0.4296223782002926,
         0.4242133691906929,
         0.4315385416150093,
         0.3982604406774044,
         0.4104725204408169,
         0.39828004986047744,
         0.426333087682724,
         0.4215536706149578,
         0.41779370307922364,
         0.4178152859210968,
         0.4393868394196033,
         0.4297003410756588,
         0.41088604778051374,
         0.3937606893479824,
         0.4304219476878643,
         0.443092380464077,
         0.4297129437327385,
         0.40834093391895293,
         0.41940088421106336,
         0.3820471815764904,
         0.42933533415198327,
         0.4345477715134621,
         0.4058705732226372,
         0.4364334963262081,
         0.3875747360289097,
         0.4193228162825108,
         0.4090569503605366,
         0.39886874333024025,
         0.41439359486103056,
         0.4058252312242985,
         0.4170839861035347,
         0.3994211956858635,
         0.41943644881248476,
         0.3849404938519001,
         0.4126844219863415,
         0.4227362468838692,
         0.39529144391417503,
         0.4157698884606361,
         0.42697441279888154,
         0.41457731649279594
        ],
        [
         8.440332219004631,
         8.00562109053135,
         8.414106637239456,
         7.891849309206009,
         8.491765201091766,
         8.516706705093384,
         8.413533106446266,
         7.970680803060532,
         8.679856061935425,
         8.396629184484482,
         8.145569115877151,
         8.051422014832497,
         8.525936216115952,
         8.754306465387344,
         8.78748443722725,
         7.725892528891563,
         7.984405979514122,
         8.183416590094566,
         8.527304276823997,
         8.143427774310112,
         8.508146092295647,
         8.136595278978348,
         8.228704959154129,
         8.196461960673332,
         8.251061350107193,
         8.163936421275139,
         8.348731890320778,
         8.901427298784256,
         7.829933911561966,
         8.097257658839226,
         8.729654774069786,
         7.749584421515465,
         8.278286680579185,
         8.612171456217766,
         7.984925031661987,
         8.324112862348557,
         8.26272501051426,
         8.024940475821495,
         8.414064481854439,
         8.549590796232224,
         8.265035092830658,
         8.490988165140152,
         8.469712615013123,
         8.61937165260315,
         7.835770055651665,
         8.48383241891861,
         8.122106917202473,
         8.120777875185013,
         8.223328679800034,
         8.223134130239487,
         8.150376424193382,
         8.239933893084526,
         7.818116381764412,
         8.183722421526909,
         7.654250383377075,
         8.10612739622593,
         8.268271937966347,
         8.44519330561161,
         8.582939878106117,
         8.24679808318615,
         8.592447564005852,
         8.484267383813858,
         8.630770832300186,
         7.965208813548088,
         8.209450408816338,
         7.965600997209549,
         8.52666175365448,
         8.431073412299156,
         8.355874061584473,
         8.356305718421936,
         8.787736788392067,
         8.594006821513176,
         8.217720955610275,
         7.875213786959648,
         8.608438953757286,
         8.86184760928154,
         8.59425887465477,
         8.166818678379059,
         8.388017684221268,
         7.640943631529808,
         8.586706683039665,
         8.690955430269241,
         8.117411464452744,
         8.728669926524162,
         7.751494720578194,
         8.386456325650215,
         8.181139007210732,
         7.977374866604805,
         8.287871897220612,
         8.11650462448597,
         8.341679722070694,
         7.98842391371727,
         8.388728976249695,
         7.698809877038002,
         8.25368843972683,
         8.454724937677383,
         7.905828878283501,
         8.315397769212723,
         8.53948825597763,
         8.291546329855919
        ],
        [
         2.1550801149584595,
         2.111731448263655,
         2.138583952717402,
         2.0442594135632564,
         2.214372156909071,
         2.15580386978307,
         2.1645675131401276,
         2.0953393793441144,
         2.2042675781307413,
         2.185057229230181,
         2.093266522066907,
         2.0914037537848458,
         2.25610646829362,
         2.2411512989922047,
         2.2727444006405793,
         2.05433448529485,
         2.0969158530815584,
         2.1087068642491227,
         2.220281460541167,
         2.0795067355649075,
         2.172516280261156,
         2.0956161891595664,
         2.129977755489331,
         2.1883332431646165,
         2.1539446708331997,
         2.1513341622733306,
         2.169434702965145,
         2.300348044527706,
         2.0566186637196373,
         2.103093095132215,
         2.2921582913846126,
         2.089673764200239,
         2.2034137100429803,
         2.1986194980942484,
         2.075373903302224,
         2.141168073762383,
         2.1651849515963137,
         2.079727435013484,
         2.211292453008789,
         2.195099609281066,
         2.116472367054108,
         2.2174021527499703,
         2.1377172730839176,
         2.232783427592725,
         2.0956434312363585,
         2.1440078243143343,
         2.0953297446175068,
         2.081966733558075,
         2.120677861691854,
         2.1508710840002085,
         2.1254241320388343,
         2.066186706501133,
         2.053002729593022,
         2.1047094360829366,
         2.0125781317423685,
         2.1318103713151424,
         2.1231085044373836,
         2.1548123888990283,
         2.1850026535517895,
         2.1416079488588418,
         2.2543576824859337,
         2.1732383400140645,
         2.2449473174584935,
         2.0536393913896327,
         2.0842144353663326,
         2.093253024040132,
         2.179150421476237,
         2.1792797762588565,
         2.194494208216807,
         2.1514295225564948,
         2.285176750459165,
         2.200583316329771,
         2.1229693235043734,
         2.0956383771888776,
         2.2185834867506626,
         2.2567446765355643,
         2.2246094494004853,
         2.096103570262969,
         2.1553479953720434,
         1.9718689196096628,
         2.255033796681596,
         2.263586999766753,
         2.066658411855389,
         2.226124965610374,
         2.0750028674187004,
         2.1551956122901337,
         2.1032589219628015,
         2.118014945773944,
         2.1306263966248604,
         2.0946923880143764,
         2.1445108778211095,
         2.0977482492692863,
         2.1812285368404076,
         2.0255464119132007,
         2.1301488010351894,
         2.1955616346246987,
         2.0692699620110457,
         2.1907338684511015,
         2.1956496976190603,
         2.1435370008262713
        ]
       ],
       "encoder": "json",
       "name": "ABC_GAN_1 Metrics",
       "version": 1
      }
     },
     "metadata": {
      "scrapbook": {
       "data": true,
       "display": false,
       "name": "ABC_GAN_1 Metrics"
      }
     },
     "output_type": "display_data"
    },
    {
     "name": "stdout",
     "output_type": "stream",
     "text": [
      "MSE\n",
      "0.2307980676873666\n"
     ]
    }
   ],
   "source": [
    "ABC_GAN1_metrics=ABC_train_test2.test_generator(gen,test_data,prior_model,variance,bias,\"1\",device)\n",
    "sb.glue(\"ABC_GAN_1 Metrics\",ABC_GAN1_metrics)\n",
    "\n",
    "print(\"MSE\")\n",
    "print(mean(ABC_GAN1_metrics[0]))"
   ]
  },
  {
   "cell_type": "code",
   "execution_count": 14,
   "id": "eb22ce5c",
   "metadata": {
    "execution": {
     "iopub.execute_input": "2022-06-22T16:28:57.078431Z",
     "iopub.status.busy": "2022-06-22T16:28:57.075682Z",
     "iopub.status.idle": "2022-06-22T16:28:58.275080Z",
     "shell.execute_reply": "2022-06-22T16:28:58.275784Z"
    },
    "papermill": {
     "duration": 1.341291,
     "end_time": "2022-06-22T16:28:58.276080",
     "exception": false,
     "start_time": "2022-06-22T16:28:56.934789",
     "status": "completed"
    },
    "tags": []
   },
   "outputs": [
    {
     "data": {
      "image/png": "[encoded data removed]",
      "text/plain": [
       "<Figure size 432x288 with 1 Axes>"
      ]
     },
     "metadata": {
      "needs_background": "light"
     },
     "output_type": "display_data"
    },
    {
     "data": {
      "image/png": "[encoded data removed]",
      "text/plain": [
       "<Figure size 432x288 with 1 Axes>"
      ]
     },
     "metadata": {
      "needs_background": "light"
     },
     "output_type": "display_data"
    },
    {
     "data": {
      "image/png": "[encoded data removed]",
      "text/plain": [
       "<Figure size 432x288 with 1 Axes>"
      ]
     },
     "metadata": {
      "needs_background": "light"
     },
     "output_type": "display_data"
    },
    {
     "data": {
      "image/png": "[encoded data removed]",
      "text/plain": [
       "<Figure size 432x288 with 1 Axes>"
      ]
     },
     "metadata": {
      "needs_background": "light"
     },
     "output_type": "display_data"
    }
   ],
   "source": [
    "sanityChecks.discProbVsError(train_data,disc,device)\n",
    "sanityChecks.discProbVsError(test_data,disc,device)"
   ]
  },
  {
   "cell_type": "markdown",
   "id": "130f3a4d",
   "metadata": {
    "id": "130f3a4d",
    "papermill": {
     "duration": 0.057601,
     "end_time": "2022-06-22T16:28:58.378727",
     "exception": false,
     "start_time": "2022-06-22T16:28:58.321126",
     "status": "completed"
    },
    "tags": []
   },
   "source": [
    "# ABC - GAN Model with skip connection"
   ]
  },
  {
   "cell_type": "code",
   "execution_count": 15,
   "id": "4e43dad1",
   "metadata": {
    "execution": {
     "iopub.execute_input": "2022-06-22T16:28:58.510080Z",
     "iopub.status.busy": "2022-06-22T16:28:58.508969Z",
     "iopub.status.idle": "2022-06-22T16:28:58.513942Z",
     "shell.execute_reply": "2022-06-22T16:28:58.514574Z"
    },
    "id": "4e43dad1",
    "papermill": {
     "duration": 0.082027,
     "end_time": "2022-06-22T16:28:58.515052",
     "exception": false,
     "start_time": "2022-06-22T16:28:58.433025",
     "status": "completed"
    },
    "tags": []
   },
   "outputs": [],
   "source": [
    "#Generator\n",
    "gen3 = network.GeneratorWithSkipConnection(n_features+1).to(device)\n",
    "constraints=network.weightConstraint()\n",
    "#Discriminator \n",
    "disc3 = network.Discriminator(n_features+1).to(device)\n",
    "\n",
    "criterion = torch.nn.BCELoss()\n",
    "gen_opt = torch.optim.Adam(gen3.parameters(), lr=0.001, betas=(0.5, 0.999))\n",
    "disc_opt = torch.optim.Adam(disc3.parameters(), lr=0.001, betas=(0.5, 0.999))\n"
   ]
  },
  {
   "cell_type": "code",
   "execution_count": 16,
   "id": "26acbc37",
   "metadata": {
    "execution": {
     "iopub.execute_input": "2022-06-22T16:28:58.652913Z",
     "iopub.status.busy": "2022-06-22T16:28:58.651590Z",
     "iopub.status.idle": "2022-06-22T16:30:42.184377Z",
     "shell.execute_reply": "2022-06-22T16:30:42.185269Z"
    },
    "id": "26acbc37",
    "papermill": {
     "duration": 103.612402,
     "end_time": "2022-06-22T16:30:42.185541",
     "exception": false,
     "start_time": "2022-06-22T16:28:58.573139",
     "status": "completed"
    },
    "tags": []
   },
   "outputs": [
    {
     "data": {
      "image/png": "[encoded data removed]",
      "text/plain": [
       "<Figure size 432x288 with 1 Axes>"
      ]
     },
     "metadata": {
      "needs_background": "light"
     },
     "output_type": "display_data"
    },
    {
     "data": {
      "image/png": "[encoded data removed]",
      "text/plain": [
       "<Figure size 432x288 with 1 Axes>"
      ]
     },
     "metadata": {
      "needs_background": "light"
     },
     "output_type": "display_data"
    }
   ],
   "source": [
    "ABC_train_test2.training_GAN_skip_connection(disc3,gen3,disc_opt,gen_opt,train_data,batch_size,n_epochs,criterion,prior_model,variance,bias,device)"
   ]
  },
  {
   "cell_type": "code",
   "execution_count": 17,
   "id": "c5e0717b",
   "metadata": {
    "execution": {
     "iopub.execute_input": "2022-06-22T16:30:42.326171Z",
     "iopub.status.busy": "2022-06-22T16:30:42.325361Z",
     "iopub.status.idle": "2022-06-22T16:30:43.737037Z",
     "shell.execute_reply": "2022-06-22T16:30:43.738393Z"
    },
    "id": "c5e0717b",
    "papermill": {
     "duration": 1.499924,
     "end_time": "2022-06-22T16:30:43.738690",
     "exception": false,
     "start_time": "2022-06-22T16:30:42.238766",
     "status": "completed"
    },
    "tags": []
   },
   "outputs": [
    {
     "data": {
      "application/scrapbook.scrap.json+json": {
       "data": 0.20142646248911228,
       "encoder": "json",
       "name": "ABC-GAN Model 3 MSE",
       "version": 1
      }
     },
     "metadata": {
      "scrapbook": {
       "data": true,
       "display": false,
       "name": "ABC-GAN Model 3 MSE"
      }
     },
     "output_type": "display_data"
    },
    {
     "data": {
      "application/scrapbook.scrap.json+json": {
       "data": 0.34994999310933056,
       "encoder": "json",
       "name": "ABC-GAN Model 3 MAE",
       "version": 1
      }
     },
     "metadata": {
      "scrapbook": {
       "data": true,
       "display": false,
       "name": "ABC-GAN Model 3 MAE"
      }
     },
     "output_type": "display_data"
    },
    {
     "data": {
      "application/scrapbook.scrap.json+json": {
       "data": 6.9989998621866105,
       "encoder": "json",
       "name": "ABC-GAN Model 3 Manhattan Distance",
       "version": 1
      }
     },
     "metadata": {
      "scrapbook": {
       "data": true,
       "display": false,
       "name": "ABC-GAN Model 3 Manhattan Distance"
      }
     },
     "output_type": "display_data"
    },
    {
     "data": {
      "application/scrapbook.scrap.json+json": {
       "data": 2.003421881035535,
       "encoder": "json",
       "name": "ABC-GAN Model 3 Euclidean distance",
       "version": 1
      }
     },
     "metadata": {
      "scrapbook": {
       "data": true,
       "display": false,
       "name": "ABC-GAN Model 3 Euclidean distance"
      }
     },
     "output_type": "display_data"
    },
    {
     "data": {
      "application/scrapbook.scrap.json+json": {
       "data": [
        [
         0.24347267793975277,
         0.2120880614470837,
         0.19901433239418392,
         0.18398907586719387,
         0.22340720826443064,
         0.2397760724191794,
         0.22113057419346802,
         0.18681053604936354,
         0.22389269722269428,
         0.1870753873315507,
         0.19672415411646918,
         0.20699298484805548,
         0.21274240175942513,
         0.191473377980264,
         0.18903082653019276,
         0.15204203525146193,
         0.22708714678309022,
         0.17880311454576536,
         0.20393996201528114,
         0.21699939132276222,
         0.19749573619959387,
         0.2819532239693218,
         0.24833521744109427,
         0.1695274685866138,
         0.17023542577241352,
         0.1925992190842377,
         0.20925538594585807,
         0.17263085603848377,
         0.21862855893290328,
         0.1908679243234332,
         0.20913932074288555,
         0.1770413076427043,
         0.1918694757250594,
         0.22276880378527658,
         0.2089493004486343,
         0.21252344398373837,
         0.18742966447161097,
         0.18985771601732226,
         0.21351718988537433,
         0.21424953071635477,
         0.19961304399828067,
         0.20082870811638892,
         0.20435871658218147,
         0.19166208526369508,
         0.21699183398965424,
         0.21235748216306444,
         0.18160629337266232,
         0.1678757869659242,
         0.1972463692031269,
         0.1859363476160203,
         0.16679014487028523,
         0.1936033135670619,
         0.16259139615814083,
         0.21041036113719347,
         0.2493508663606782,
         0.16206294294190995,
         0.2263337171191849,
         0.16488534396054794,
         0.19814780385999028,
         0.21657470600097461,
         0.2001516406364301,
         0.1889112647634607,
         0.21737221410728957,
         0.18641079082256887,
         0.1978521948821693,
         0.20700549044613484,
         0.20434710572601392,
         0.18561165257776646,
         0.2100400785419084,
         0.21622526272733347,
         0.21998788238792813,
         0.21770544540541828,
         0.19743565484214795,
         0.23772864079771186,
         0.18195434409471992,
         0.16823549574609475,
         0.20174993656489018,
         0.20700439249641578,
         0.23391635026580956,
         0.20730605599043464,
         0.21364752904830167,
         0.1809574688367458,
         0.12966252214391297,
         0.19010239396282588,
         0.2500541071401191,
         0.2124580405235162,
         0.1614765748382412,
         0.17437881742757982,
         0.18685014511665182,
         0.20714842104006181,
         0.238664847000759,
         0.18601674576796526,
         0.23926916817623697,
         0.1821144793211391,
         0.17055101368363496,
         0.222163363992133,
         0.23670140711730533,
         0.1718220492518724,
         0.1888497831659254,
         0.22821142629210436
        ],
        [
         0.38507952615618707,
         0.37312361858785154,
         0.33292046561837196,
         0.33365596979856493,
         0.3649134062230587,
         0.3789009414613247,
         0.3628538567572832,
         0.333838277310133,
         0.3677818227559328,
         0.3328672170639038,
         0.3521362476050854,
         0.3498243145644665,
         0.3745191503316164,
         0.3316851660609245,
         0.35880180522799493,
         0.3023244641721249,
         0.37752214558422564,
         0.33940414637327193,
         0.3750648971647024,
         0.34929133728146555,
         0.35073488429188726,
         0.41576191671192647,
         0.41239833533763887,
         0.3344999060034752,
         0.3143471546471119,
         0.3373663887381554,
         0.3652438648045063,
         0.3335529275238514,
         0.35648589860647917,
         0.34116591326892376,
         0.3608375549316406,
         0.310651833564043,
         0.3328331209719181,
         0.36217095926403997,
         0.33644656017422675,
         0.3584148697555065,
         0.3489142760634422,
         0.3527335964143276,
         0.3607842668890953,
         0.35776971112936734,
         0.3439151272177696,
         0.356035116314888,
         0.3551634199917316,
         0.339717011898756,
         0.3514726471155882,
         0.3607796370983124,
         0.3358122281730175,
         0.32633760944008827,
         0.3509927548468113,
         0.34109882935881614,
         0.325066751986742,
         0.34592447951436045,
         0.30937188267707827,
         0.35958532616496086,
         0.3860501892864704,
         0.3202413238584995,
         0.3593148924410343,
         0.3329574391245842,
         0.3562915690243244,
         0.3609965115785599,
         0.3395842738449574,
         0.32633773908019065,
         0.3527394201606512,
         0.33659100010991094,
         0.33441493287682533,
         0.35276786983013153,
         0.36201963797211645,
         0.32775744423270226,
         0.3461897887289524,
         0.34756787642836573,
         0.36937827840447424,
         0.3670151919126511,
         0.3431110017001629,
         0.3653791882097721,
         0.33819003477692605,
         0.3117507521063089,
         0.3572999835014343,
         0.36244686096906664,
         0.3775085538625717,
         0.33754371777176856,
         0.3618402749300003,
         0.33730215299874544,
         0.28840349353849887,
         0.34675398990511896,
         0.40582971945405005,
         0.3632555820047855,
         0.32045975625514983,
         0.3435317508876324,
         0.33355375453829766,
         0.3603392727673054,
         0.392514618486166,
         0.31911089941859244,
         0.361262159049511,
         0.33139773234725,
         0.3308116845786572,
         0.3664846636354923,
         0.39113748297095297,
         0.32634060382843016,
         0.34558086544275285,
         0.3767478451132774
        ],
        [
         7.701590523123741,
         7.4624723717570305,
         6.658409312367439,
         6.673119395971298,
         7.298268124461174,
         7.578018829226494,
         7.257077135145664,
         6.67676554620266,
         7.355636455118656,
         6.657344341278076,
         7.0427249521017075,
         6.9964862912893295,
         7.490383006632328,
         6.633703321218491,
         7.176036104559898,
         6.046489283442497,
         7.550442911684513,
         6.788082927465439,
         7.501297943294048,
         6.985826745629311,
         7.014697685837746,
         8.31523833423853,
         8.247966706752777,
         6.689998120069504,
         6.286943092942238,
         6.747327774763107,
         7.304877296090126,
         6.671058550477028,
         7.129717972129583,
         6.823318265378475,
         7.2167510986328125,
         6.213036671280861,
         6.656662419438362,
         7.2434191852808,
         6.728931203484535,
         7.16829739511013,
         6.978285521268845,
         7.054671928286552,
         7.215685337781906,
         7.155394222587347,
         6.8783025443553925,
         7.12070232629776,
         7.103268399834633,
         6.7943402379751205,
         7.029452942311764,
         7.215592741966248,
         6.71624456346035,
         6.526752188801765,
         7.019855096936226,
         6.821976587176323,
         6.50133503973484,
         6.918489590287209,
         6.187437653541565,
         7.191706523299217,
         7.721003785729408,
         6.4048264771699905,
         7.186297848820686,
         6.659148782491684,
         7.125831380486488,
         7.2199302315711975,
         6.791685476899147,
         6.526754781603813,
         7.054788403213024,
         6.731820002198219,
         6.688298657536507,
         7.055357396602631,
         7.240392759442329,
         6.555148884654045,
         6.923795774579048,
         6.951357528567314,
         7.387565568089485,
         7.340303838253021,
         6.862220034003258,
         7.307583764195442,
         6.763800695538521,
         6.235015042126179,
         7.1459996700286865,
         7.248937219381332,
         7.550171077251434,
         6.750874355435371,
         7.236805498600006,
         6.746043059974909,
         5.768069870769978,
         6.935079798102379,
         8.116594389081001,
         7.265111640095711,
         6.409195125102997,
         6.870635017752647,
         6.671075090765953,
         7.2067854553461075,
         7.85029236972332,
         6.382217988371849,
         7.225243180990219,
         6.627954646945,
         6.616233691573143,
         7.3296932727098465,
         7.82274965941906,
         6.5268120765686035,
         6.911617308855057,
         7.534956902265549
        ],
        [
         2.2066838375252256,
         2.0595536479882415,
         1.9950655748329875,
         1.918275662501059,
         2.1137985157740586,
         2.189867906606147,
         2.1030005905537354,
         1.9329280175390056,
         2.116094030154115,
         1.9342977399126056,
         1.9835531458293179,
         2.03466451705462,
         2.0627282989256006,
         1.9569025421837642,
         1.9443807576202392,
         1.7438006494520062,
         2.1311365361378902,
         1.8910479345895246,
         2.0196037334847703,
         2.0832637438536783,
         1.987439237811279,
         2.374671446618761,
         2.228610407590767,
         1.8413444467921465,
         1.84518522524116,
         1.9626472891695934,
         2.045753582159191,
         1.8581219337733665,
         2.0910693863805827,
         1.9538061537595444,
         2.045186156528963,
         1.8817083070587974,
         1.958925602084262,
         2.110776178495847,
         2.0442568353738446,
         2.06166652969746,
         1.9361284279283282,
         1.9486288308311681,
         2.066481017988669,
         2.0700218874029077,
         1.9980642832415612,
         2.0041392572193626,
         2.021676119373138,
         1.957866620910092,
         2.08322746712717,
         2.060861383805638,
         1.9058137021894996,
         1.8323525150250113,
         1.9861841264249742,
         1.9284001017217371,
         1.8264180511059631,
         1.9677566595850304,
         1.8032825411351423,
         2.0513915332631822,
         2.2331630767173194,
         1.800349649051039,
         2.1275982568106455,
         1.815958942049891,
         1.990717477996264,
         2.0812241878326065,
         2.000758059518592,
         1.9437657511308337,
         2.08505258498336,
         1.9308588287214001,
         1.9892319868842312,
         2.0347259788292615,
         2.021618686726129,
         1.9267156125270095,
         2.0495857071218486,
         2.079544482464049,
         2.0975599270959013,
         2.0866501642844604,
         1.9871369094360256,
         2.1804982953339445,
         1.9076390858583283,
         1.8343145626968933,
         2.008730626863095,
         2.03472058276519,
         2.1629440596825873,
         2.0362026224835024,
         2.0671116517900123,
         1.9024062070795806,
         1.6103572407631355,
         1.949884068158032,
         2.2363099388954075,
         2.0613492694034954,
         1.797089729747745,
         1.8675053811305595,
         1.9331329241242146,
         2.035428313844837,
         2.184787618972421,
         1.9288169730068494,
         2.187551911046853,
         1.908478343189354,
         1.846894765186338,
         2.1079058991906305,
         2.1757821909249344,
         1.8537640046773611,
         1.9434494239157623,
         2.1364055153088533
        ]
       ],
       "encoder": "json",
       "name": "ABC_GAN_3 Metrics",
       "version": 1
      }
     },
     "metadata": {
      "scrapbook": {
       "data": true,
       "display": false,
       "name": "ABC_GAN_3 Metrics"
      }
     },
     "output_type": "display_data"
    },
    {
     "name": "stdout",
     "output_type": "stream",
     "text": [
      "MSE\n",
      "0.20142646248911228\n"
     ]
    }
   ],
   "source": [
    "ABC_GAN3_metrics=ABC_train_test2.test_generator(gen3,test_data,prior_model,variance,bias,\"3\",device)\n",
    "sb.glue(\"ABC_GAN_3 Metrics\",ABC_GAN3_metrics)\n",
    "\n",
    "print(\"MSE\")\n",
    "print(mean(ABC_GAN3_metrics[0]))"
   ]
  },
  {
   "cell_type": "code",
   "execution_count": 18,
   "id": "c8e46b48",
   "metadata": {
    "execution": {
     "iopub.execute_input": "2022-06-22T16:30:43.871260Z",
     "iopub.status.busy": "2022-06-22T16:30:43.867799Z",
     "iopub.status.idle": "2022-06-22T16:30:44.917171Z",
     "shell.execute_reply": "2022-06-22T16:30:44.917689Z"
    },
    "id": "c8e46b48",
    "papermill": {
     "duration": 1.118128,
     "end_time": "2022-06-22T16:30:44.917903",
     "exception": false,
     "start_time": "2022-06-22T16:30:43.799775",
     "status": "completed"
    },
    "tags": []
   },
   "outputs": [
    {
     "data": {
      "image/png": "[encoded data removed]",
      "text/plain": [
       "<Figure size 432x288 with 1 Axes>"
      ]
     },
     "metadata": {
      "needs_background": "light"
     },
     "output_type": "display_data"
    },
    {
     "data": {
      "image/png": "[encoded data removed]",
      "text/plain": [
       "<Figure size 432x288 with 1 Axes>"
      ]
     },
     "metadata": {
      "needs_background": "light"
     },
     "output_type": "display_data"
    },
    {
     "data": {
      "image/png": "[encoded data removed]",
      "text/plain": [
       "<Figure size 432x288 with 1 Axes>"
      ]
     },
     "metadata": {
      "needs_background": "light"
     },
     "output_type": "display_data"
    },
    {
     "data": {
      "image/png": "[encoded data removed]",
      "text/plain": [
       "<Figure size 432x288 with 1 Axes>"
      ]
     },
     "metadata": {
      "needs_background": "light"
     },
     "output_type": "display_data"
    }
   ],
   "source": [
    "sanityChecks.discProbVsError(train_data,disc3,device)\n",
    "sanityChecks.discProbVsError(test_data,disc3,device)"
   ]
  },
  {
   "cell_type": "markdown",
   "id": "a5bd74c3",
   "metadata": {
    "id": "a5bd74c3",
    "papermill": {
     "duration": 0.069318,
     "end_time": "2022-06-22T16:30:45.038792",
     "exception": false,
     "start_time": "2022-06-22T16:30:44.969474",
     "status": "completed"
    },
    "tags": []
   },
   "source": [
    "## Skip Connection Model Analysis - ABC-GAN "
   ]
  },
  {
   "cell_type": "markdown",
   "id": "5744a8bf",
   "metadata": {
    "id": "5744a8bf",
    "papermill": {
     "duration": 0.089313,
     "end_time": "2022-06-22T16:30:45.343807",
     "exception": false,
     "start_time": "2022-06-22T16:30:45.254494",
     "status": "completed"
    },
    "tags": []
   },
   "source": [
    "### Weight Analysis \n",
    "\n",
    "Study the weights of the skip connection layer\n",
    "\n",
    "Equation of the skip connection is \n",
    "\n",
    "$output = y_{gan} * w + y_{abc} * (1-w)$"
   ]
  },
  {
   "cell_type": "code",
   "execution_count": 19,
   "id": "52c31dea",
   "metadata": {
    "execution": {
     "iopub.execute_input": "2022-06-22T16:30:45.507623Z",
     "iopub.status.busy": "2022-06-22T16:30:45.506544Z",
     "iopub.status.idle": "2022-06-22T16:30:45.515719Z",
     "shell.execute_reply": "2022-06-22T16:30:45.516181Z"
    },
    "id": "52c31dea",
    "papermill": {
     "duration": 0.098377,
     "end_time": "2022-06-22T16:30:45.516401",
     "exception": false,
     "start_time": "2022-06-22T16:30:45.418024",
     "status": "completed"
    },
    "tags": []
   },
   "outputs": [
    {
     "name": "stdout",
     "output_type": "stream",
     "text": [
      "Weight of the node at skip connection\n",
      "Parameter containing:\n",
      "tensor([[0.1734]], requires_grad=True)\n"
     ]
    },
    {
     "data": {
      "application/scrapbook.scrap.json+json": {
       "data": 0.17341701686382294,
       "encoder": "json",
       "name": "Skip Connection Weight",
       "version": 1
      }
     },
     "metadata": {
      "scrapbook": {
       "data": true,
       "display": false,
       "name": "Skip Connection Weight"
      }
     },
     "output_type": "display_data"
    }
   ],
   "source": [
    "print(\"Weight of the node at skip connection\")\n",
    "for name,param in gen3.named_parameters():\n",
    "    if(name == \"skipNode.weight\"):\n",
    "        print(param)\n",
    "        sb.glue(\"Skip Connection Weight\",param.item())"
   ]
  }
 ],
 "metadata": {
  "colab": {
   "collapsed_sections": [],
   "name": "ABC_GAN_Model-Catboost_Pre-gen.ipynb",
   "provenance": []
  },
  "interpreter": {
   "hash": "31f2aee4e71d21fbe5cf8b01ff0e069b9275f58929596ceb00d14d90e3e16cd6"
  },
  "kernelspec": {
   "display_name": "Python 3 (ipykernel)",
   "language": "python",
   "name": "python3"
  },
  "language_info": {
   "codemirror_mode": {
    "name": "ipython",
    "version": 3
   },
   "file_extension": ".py",
   "mimetype": "text/x-python",
   "name": "python",
   "nbconvert_exporter": "python",
   "pygments_lexer": "ipython3",
   "version": "3.8.3"
  },
  "papermill": {
   "default_parameters": {},
   "duration": 220.14221,
   "end_time": "2022-06-22T16:30:47.409614",
   "environment_variables": {},
   "exception": null,
   "input_path": "ABC_GAN-TabNet.ipynb",
   "output_path": "./ABC_GAN_TabNet/ABC-GAN_output_9_9.ipynb",
   "parameters": {
    "bias": 0,
    "variance": 1
   },
   "start_time": "2022-06-22T16:27:07.267404",
   "version": "2.3.3"
  }
 },
 "nbformat": 4,
 "nbformat_minor": 5
}