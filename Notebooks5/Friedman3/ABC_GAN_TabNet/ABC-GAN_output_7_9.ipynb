{
 "cells": [
  {
   "cell_type": "markdown",
   "id": "622780e6",
   "metadata": {
    "id": "622780e6",
    "papermill": {
     "duration": 0.01801,
     "end_time": "2022-06-22T15:07:00.642720",
     "exception": false,
     "start_time": "2022-06-22T15:07:00.624710",
     "status": "completed"
    },
    "tags": []
   },
   "source": [
    "## Import Libraries "
   ]
  },
  {
   "cell_type": "code",
   "execution_count": 1,
   "id": "a62397e3",
   "metadata": {
    "execution": {
     "iopub.execute_input": "2022-06-22T15:07:00.718463Z",
     "iopub.status.busy": "2022-06-22T15:07:00.716690Z",
     "iopub.status.idle": "2022-06-22T15:07:00.725839Z",
     "shell.execute_reply": "2022-06-22T15:07:00.726667Z"
    },
    "id": "a62397e3",
    "papermill": {
     "duration": 0.068586,
     "end_time": "2022-06-22T15:07:00.727540",
     "exception": false,
     "start_time": "2022-06-22T15:07:00.658954",
     "status": "completed"
    },
    "tags": []
   },
   "outputs": [],
   "source": [
    "import warnings\n",
    "import sys\n",
    "sys.path.insert(0, '../../src')\n",
    "warnings.filterwarnings('ignore')"
   ]
  },
  {
   "cell_type": "code",
   "execution_count": 2,
   "id": "d6a4e155",
   "metadata": {
    "execution": {
     "iopub.execute_input": "2022-06-22T15:07:00.767721Z",
     "iopub.status.busy": "2022-06-22T15:07:00.765735Z",
     "iopub.status.idle": "2022-06-22T15:07:06.654839Z",
     "shell.execute_reply": "2022-06-22T15:07:06.655414Z"
    },
    "id": "d6a4e155",
    "papermill": {
     "duration": 5.912745,
     "end_time": "2022-06-22T15:07:06.655648",
     "exception": false,
     "start_time": "2022-06-22T15:07:00.742903",
     "status": "completed"
    },
    "tags": []
   },
   "outputs": [],
   "source": [
    "import ABC_train_test2\n",
    "import friedman3Dataset\n",
    "import network\n",
    "import dataset\n",
    "import sanityChecks\n",
    "import torch \n",
    "import scrapbook as sb\n",
    "from statistics import mean \n",
    "import catboost as ctb \n",
    "from sklearn.model_selection import train_test_split\n",
    "from sklearn.metrics import mean_squared_error,mean_absolute_error\n",
    "import numpy as np\n",
    "from pytorch_tabnet.tab_model import TabNetRegressor"
   ]
  },
  {
   "cell_type": "markdown",
   "id": "2fa5b0f7",
   "metadata": {
    "id": "2fa5b0f7",
    "papermill": {
     "duration": 0.014864,
     "end_time": "2022-06-22T15:07:06.687094",
     "exception": false,
     "start_time": "2022-06-22T15:07:06.672230",
     "status": "completed"
    },
    "tags": []
   },
   "source": [
    "## Parameters "
   ]
  },
  {
   "cell_type": "code",
   "execution_count": 3,
   "id": "783186fb",
   "metadata": {
    "execution": {
     "iopub.execute_input": "2022-06-22T15:07:06.725451Z",
     "iopub.status.busy": "2022-06-22T15:07:06.724615Z",
     "iopub.status.idle": "2022-06-22T15:07:06.726795Z",
     "shell.execute_reply": "2022-06-22T15:07:06.727242Z"
    },
    "id": "783186fb",
    "papermill": {
     "duration": 0.021823,
     "end_time": "2022-06-22T15:07:06.727455",
     "exception": false,
     "start_time": "2022-06-22T15:07:06.705632",
     "status": "completed"
    },
    "tags": [
     "parameters"
    ]
   },
   "outputs": [],
   "source": [
    "variance = 1\n",
    "bias = 1 "
   ]
  },
  {
   "cell_type": "code",
   "execution_count": 4,
   "id": "e916cec7",
   "metadata": {
    "execution": {
     "iopub.execute_input": "2022-06-22T15:07:06.757690Z",
     "iopub.status.busy": "2022-06-22T15:07:06.756936Z",
     "iopub.status.idle": "2022-06-22T15:07:06.758690Z",
     "shell.execute_reply": "2022-06-22T15:07:06.759314Z"
    },
    "papermill": {
     "duration": 0.018133,
     "end_time": "2022-06-22T15:07:06.759511",
     "exception": false,
     "start_time": "2022-06-22T15:07:06.741378",
     "status": "completed"
    },
    "tags": [
     "injected-parameters"
    ]
   },
   "outputs": [],
   "source": [
    "# Parameters\n",
    "variance = 1\n",
    "bias = 0\n"
   ]
  },
  {
   "cell_type": "markdown",
   "id": "391cdbfd",
   "metadata": {
    "id": "391cdbfd",
    "papermill": {
     "duration": 0.028368,
     "end_time": "2022-06-22T15:07:06.799965",
     "exception": false,
     "start_time": "2022-06-22T15:07:06.771597",
     "status": "completed"
    },
    "tags": []
   },
   "source": [
    "## Dataset \n"
   ]
  },
  {
   "cell_type": "code",
   "execution_count": 5,
   "id": "5b51f161",
   "metadata": {
    "execution": {
     "iopub.execute_input": "2022-06-22T15:07:06.841554Z",
     "iopub.status.busy": "2022-06-22T15:07:06.840755Z",
     "iopub.status.idle": "2022-06-22T15:07:06.842978Z",
     "shell.execute_reply": "2022-06-22T15:07:06.843513Z"
    },
    "id": "5b51f161",
    "papermill": {
     "duration": 0.024371,
     "end_time": "2022-06-22T15:07:06.843727",
     "exception": false,
     "start_time": "2022-06-22T15:07:06.819356",
     "status": "completed"
    },
    "tags": []
   },
   "outputs": [],
   "source": [
    "#Parameters \n",
    "n_features = 4\n",
    "n_samples= 100\n",
    "n_target = 1"
   ]
  },
  {
   "cell_type": "code",
   "execution_count": 6,
   "id": "5d6eced4",
   "metadata": {
    "execution": {
     "iopub.execute_input": "2022-06-22T15:07:06.877635Z",
     "iopub.status.busy": "2022-06-22T15:07:06.876924Z",
     "iopub.status.idle": "2022-06-22T15:07:06.889098Z",
     "shell.execute_reply": "2022-06-22T15:07:06.889837Z"
    },
    "id": "5d6eced4",
    "papermill": {
     "duration": 0.030993,
     "end_time": "2022-06-22T15:07:06.890048",
     "exception": false,
     "start_time": "2022-06-22T15:07:06.859055",
     "status": "completed"
    },
    "tags": []
   },
   "outputs": [
    {
     "name": "stdout",
     "output_type": "stream",
     "text": [
      "          X1           X2        X3        X4         Y\n",
      "0  39.519452   433.963713  0.024125  4.878481  0.345751\n",
      "1  70.881908   247.390471  0.403572  1.053290  1.043051\n",
      "2  17.646335   282.447404  0.812760  7.437962  1.429251\n",
      "3  63.371024  1436.011955  0.903997  6.658720  1.466566\n",
      "4  58.011350  1221.488226  0.257985  1.078418  1.353216\n"
     ]
    }
   ],
   "source": [
    "X,Y = friedman3Dataset.friedman3_data(n_samples)"
   ]
  },
  {
   "cell_type": "code",
   "execution_count": 7,
   "id": "fe007438",
   "metadata": {
    "execution": {
     "iopub.execute_input": "2022-06-22T15:07:06.921914Z",
     "iopub.status.busy": "2022-06-22T15:07:06.921271Z",
     "iopub.status.idle": "2022-06-22T15:07:06.923471Z",
     "shell.execute_reply": "2022-06-22T15:07:06.923906Z"
    },
    "id": "fe007438",
    "papermill": {
     "duration": 0.020077,
     "end_time": "2022-06-22T15:07:06.924105",
     "exception": false,
     "start_time": "2022-06-22T15:07:06.904028",
     "status": "completed"
    },
    "tags": []
   },
   "outputs": [],
   "source": [
    "#Train test split for dataset \n",
    "X_train,X_test,Y_train,Y_test = train_test_split(X,Y,test_size = 0.2)\n",
    "train_data = dataset.CustomDataset(X_train,Y_train)\n",
    "test_data = dataset.CustomDataset(X_test,Y_test)\n"
   ]
  },
  {
   "cell_type": "markdown",
   "id": "a9a1af34",
   "metadata": {
    "id": "a9a1af34",
    "papermill": {
     "duration": 0.015909,
     "end_time": "2022-06-22T15:07:06.953282",
     "exception": false,
     "start_time": "2022-06-22T15:07:06.937373",
     "status": "completed"
    },
    "tags": []
   },
   "source": [
    "## Training Parameters "
   ]
  },
  {
   "cell_type": "code",
   "execution_count": 8,
   "id": "952b7fc8",
   "metadata": {
    "execution": {
     "iopub.execute_input": "2022-06-22T15:07:06.988511Z",
     "iopub.status.busy": "2022-06-22T15:07:06.987814Z",
     "iopub.status.idle": "2022-06-22T15:07:06.989973Z",
     "shell.execute_reply": "2022-06-22T15:07:06.990511Z"
    },
    "id": "952b7fc8",
    "papermill": {
     "duration": 0.02126,
     "end_time": "2022-06-22T15:07:06.990711",
     "exception": false,
     "start_time": "2022-06-22T15:07:06.969451",
     "status": "completed"
    },
    "tags": []
   },
   "outputs": [],
   "source": [
    "batch_size = 32\n",
    "n_epochs = 1000\n",
    "#Select the device \n",
    "device = torch.device('cuda' if torch.cuda.is_available() else 'cpu')"
   ]
  },
  {
   "cell_type": "markdown",
   "id": "a95e1600",
   "metadata": {
    "id": "a95e1600",
    "papermill": {
     "duration": 0.013091,
     "end_time": "2022-06-22T15:07:07.017632",
     "exception": false,
     "start_time": "2022-06-22T15:07:07.004541",
     "status": "completed"
    },
    "tags": []
   },
   "source": [
    "# ABC Pre-generator Model \n",
    "\n",
    "1. The catboost model is used as a pre-generator model for the ABC-GAN. \n",
    "2. The model is first trained on the entire dataset \n",
    "3. It generats X,Y pairs and we add some Gaussian noise with mean 0 and variance 1 to it which is then feed as input to the generator.\n"
   ]
  },
  {
   "cell_type": "code",
   "execution_count": 9,
   "id": "ff8ce7bd",
   "metadata": {
    "execution": {
     "iopub.execute_input": "2022-06-22T15:07:07.047777Z",
     "iopub.status.busy": "2022-06-22T15:07:07.046929Z",
     "iopub.status.idle": "2022-06-22T15:07:24.576913Z",
     "shell.execute_reply": "2022-06-22T15:07:24.577454Z"
    },
    "id": "ff8ce7bd",
    "papermill": {
     "duration": 17.547875,
     "end_time": "2022-06-22T15:07:24.577654",
     "exception": false,
     "start_time": "2022-06-22T15:07:07.029779",
     "status": "completed"
    },
    "tags": []
   },
   "outputs": [
    {
     "name": "stdout",
     "output_type": "stream",
     "text": [
      "Device used : cpu\n"
     ]
    },
    {
     "name": "stdout",
     "output_type": "stream",
     "text": [
      "epoch 0  | loss: 0.81851 | train_mse: 6.98124 | train_mae: 2.07403 |  0:00:00s\n",
      "epoch 1  | loss: 0.77011 | train_mse: 5.97258 | train_mae: 1.66657 |  0:00:00s\n",
      "epoch 2  | loss: 0.54371 | train_mse: 4.78575 | train_mae: 1.4635  |  0:00:00s\n"
     ]
    },
    {
     "name": "stdout",
     "output_type": "stream",
     "text": [
      "epoch 3  | loss: 0.53281 | train_mse: 4.3186  | train_mae: 1.41538 |  0:00:00s\n",
      "epoch 4  | loss: 0.6566  | train_mse: 3.71762 | train_mae: 1.23584 |  0:00:00s\n",
      "epoch 5  | loss: 0.4261  | train_mse: 4.64274 | train_mae: 1.37303 |  0:00:00s\n"
     ]
    },
    {
     "name": "stdout",
     "output_type": "stream",
     "text": [
      "epoch 6  | loss: 0.58603 | train_mse: 3.78258 | train_mae: 1.29575 |  0:00:00s\n",
      "epoch 7  | loss: 0.41113 | train_mse: 2.43538 | train_mae: 1.05898 |  0:00:00s\n",
      "epoch 8  | loss: 0.29328 | train_mse: 1.88967 | train_mae: 0.954   |  0:00:00s\n",
      "epoch 9  | loss: 0.25955 | train_mse: 1.93026 | train_mae: 1.01248 |  0:00:00s\n"
     ]
    },
    {
     "name": "stdout",
     "output_type": "stream",
     "text": [
      "epoch 10 | loss: 0.3937  | train_mse: 1.82408 | train_mae: 0.95251 |  0:00:00s\n",
      "epoch 11 | loss: 0.31586 | train_mse: 1.03911 | train_mae: 0.71577 |  0:00:00s\n",
      "epoch 12 | loss: 0.27695 | train_mse: 0.40597 | train_mae: 0.47047 |  0:00:01s\n"
     ]
    },
    {
     "name": "stdout",
     "output_type": "stream",
     "text": [
      "epoch 13 | loss: 0.28222 | train_mse: 0.2337  | train_mae: 0.36276 |  0:00:01s\n",
      "epoch 14 | loss: 0.27757 | train_mse: 0.31458 | train_mae: 0.41804 |  0:00:01s\n",
      "epoch 15 | loss: 0.25796 | train_mse: 0.28564 | train_mae: 0.40471 |  0:00:01s\n"
     ]
    },
    {
     "name": "stdout",
     "output_type": "stream",
     "text": [
      "epoch 16 | loss: 0.41546 | train_mse: 0.31867 | train_mae: 0.42568 |  0:00:01s\n",
      "epoch 17 | loss: 0.29072 | train_mse: 0.26058 | train_mae: 0.39194 |  0:00:01s\n",
      "epoch 18 | loss: 0.36423 | train_mse: 0.21352 | train_mae: 0.35013 |  0:00:01s\n",
      "epoch 19 | loss: 0.28354 | train_mse: 0.21159 | train_mae: 0.35155 |  0:00:01s\n"
     ]
    },
    {
     "name": "stdout",
     "output_type": "stream",
     "text": [
      "epoch 20 | loss: 0.36526 | train_mse: 0.23652 | train_mae: 0.3692  |  0:00:01s\n",
      "epoch 21 | loss: 0.26774 | train_mse: 0.26711 | train_mae: 0.38699 |  0:00:01s\n",
      "epoch 22 | loss: 0.35235 | train_mse: 0.22362 | train_mae: 0.37027 |  0:00:01s\n",
      "epoch 23 | loss: 0.4097  | train_mse: 0.26833 | train_mae: 0.37059 |  0:00:01s\n"
     ]
    },
    {
     "name": "stdout",
     "output_type": "stream",
     "text": [
      "epoch 24 | loss: 0.31914 | train_mse: 0.403   | train_mae: 0.44988 |  0:00:01s\n",
      "epoch 25 | loss: 0.45676 | train_mse: 0.55016 | train_mae: 0.5239  |  0:00:01s\n",
      "epoch 26 | loss: 0.34696 | train_mse: 0.4555  | train_mae: 0.49937 |  0:00:01s\n",
      "epoch 27 | loss: 0.38745 | train_mse: 0.45862 | train_mae: 0.50538 |  0:00:02s\n"
     ]
    },
    {
     "name": "stdout",
     "output_type": "stream",
     "text": [
      "epoch 28 | loss: 0.29102 | train_mse: 0.38115 | train_mae: 0.46497 |  0:00:02s\n",
      "epoch 29 | loss: 0.26885 | train_mse: 0.31154 | train_mae: 0.41549 |  0:00:02s\n",
      "epoch 30 | loss: 0.32114 | train_mse: 0.304   | train_mae: 0.45401 |  0:00:02s\n"
     ]
    },
    {
     "name": "stdout",
     "output_type": "stream",
     "text": [
      "epoch 31 | loss: 0.34181 | train_mse: 0.32582 | train_mae: 0.46692 |  0:00:02s\n",
      "epoch 32 | loss: 0.46024 | train_mse: 0.28707 | train_mae: 0.43291 |  0:00:02s\n",
      "epoch 33 | loss: 0.26795 | train_mse: 0.25982 | train_mae: 0.39563 |  0:00:02s\n"
     ]
    },
    {
     "name": "stdout",
     "output_type": "stream",
     "text": [
      "epoch 34 | loss: 0.28588 | train_mse: 0.28134 | train_mae: 0.39215 |  0:00:02s\n",
      "epoch 35 | loss: 0.20982 | train_mse: 0.31421 | train_mae: 0.41687 |  0:00:02s\n",
      "epoch 36 | loss: 0.41185 | train_mse: 0.393   | train_mae: 0.46803 |  0:00:02s\n",
      "epoch 37 | loss: 0.24733 | train_mse: 0.34614 | train_mae: 0.45736 |  0:00:02s\n"
     ]
    },
    {
     "name": "stdout",
     "output_type": "stream",
     "text": [
      "epoch 38 | loss: 0.19438 | train_mse: 0.3054  | train_mae: 0.43072 |  0:00:02s\n",
      "epoch 39 | loss: 0.25518 | train_mse: 0.34318 | train_mae: 0.42457 |  0:00:02s\n",
      "epoch 40 | loss: 0.37604 | train_mse: 0.5174  | train_mae: 0.50231 |  0:00:02s\n",
      "epoch 41 | loss: 0.27803 | train_mse: 0.45021 | train_mae: 0.47824 |  0:00:03s\n"
     ]
    },
    {
     "name": "stdout",
     "output_type": "stream",
     "text": [
      "epoch 42 | loss: 0.23425 | train_mse: 0.31607 | train_mae: 0.42302 |  0:00:03s\n",
      "epoch 43 | loss: 0.24362 | train_mse: 0.22772 | train_mae: 0.34417 |  0:00:03s\n"
     ]
    },
    {
     "name": "stdout",
     "output_type": "stream",
     "text": [
      "epoch 44 | loss: 0.24142 | train_mse: 0.22064 | train_mae: 0.31942 |  0:00:03s\n",
      "epoch 45 | loss: 0.2784  | train_mse: 0.19955 | train_mae: 0.31526 |  0:00:03s\n",
      "epoch 46 | loss: 0.27917 | train_mse: 0.19697 | train_mae: 0.31694 |  0:00:03s\n"
     ]
    },
    {
     "name": "stdout",
     "output_type": "stream",
     "text": [
      "epoch 47 | loss: 0.35282 | train_mse: 0.18412 | train_mae: 0.30671 |  0:00:03s\n",
      "epoch 48 | loss: 0.24362 | train_mse: 0.19749 | train_mae: 0.33626 |  0:00:03s\n",
      "epoch 49 | loss: 0.185   | train_mse: 0.18455 | train_mae: 0.3309  |  0:00:03s\n"
     ]
    },
    {
     "name": "stdout",
     "output_type": "stream",
     "text": [
      "epoch 50 | loss: 0.43836 | train_mse: 0.16972 | train_mae: 0.31535 |  0:00:03s\n",
      "epoch 51 | loss: 0.20806 | train_mse: 0.16166 | train_mae: 0.2844  |  0:00:03s\n",
      "epoch 52 | loss: 0.30173 | train_mse: 0.17077 | train_mae: 0.29186 |  0:00:03s\n"
     ]
    },
    {
     "name": "stdout",
     "output_type": "stream",
     "text": [
      "epoch 53 | loss: 0.22581 | train_mse: 0.15978 | train_mae: 0.28243 |  0:00:04s\n",
      "epoch 54 | loss: 0.18731 | train_mse: 0.17188 | train_mae: 0.31671 |  0:00:04s\n",
      "epoch 55 | loss: 0.32917 | train_mse: 0.19986 | train_mae: 0.33654 |  0:00:04s\n"
     ]
    },
    {
     "name": "stdout",
     "output_type": "stream",
     "text": [
      "epoch 56 | loss: 0.20003 | train_mse: 0.15267 | train_mae: 0.28206 |  0:00:04s\n",
      "epoch 57 | loss: 0.23159 | train_mse: 0.16768 | train_mae: 0.28653 |  0:00:04s\n",
      "epoch 58 | loss: 0.26992 | train_mse: 0.16982 | train_mae: 0.30222 |  0:00:04s\n"
     ]
    },
    {
     "name": "stdout",
     "output_type": "stream",
     "text": [
      "epoch 59 | loss: 0.20209 | train_mse: 0.15653 | train_mae: 0.30075 |  0:00:04s\n",
      "epoch 60 | loss: 0.19874 | train_mse: 0.13828 | train_mae: 0.27135 |  0:00:04s\n",
      "epoch 61 | loss: 0.15607 | train_mse: 0.14315 | train_mae: 0.28398 |  0:00:04s\n"
     ]
    },
    {
     "name": "stdout",
     "output_type": "stream",
     "text": [
      "epoch 62 | loss: 0.18461 | train_mse: 0.15311 | train_mae: 0.29737 |  0:00:05s\n",
      "epoch 63 | loss: 0.29102 | train_mse: 0.17551 | train_mae: 0.29979 |  0:00:05s\n",
      "epoch 64 | loss: 0.22083 | train_mse: 0.24633 | train_mae: 0.34872 |  0:00:05s\n"
     ]
    },
    {
     "name": "stdout",
     "output_type": "stream",
     "text": [
      "epoch 65 | loss: 0.16452 | train_mse: 0.23196 | train_mae: 0.34799 |  0:00:05s\n",
      "epoch 66 | loss: 0.22818 | train_mse: 0.16496 | train_mae: 0.30944 |  0:00:05s\n",
      "epoch 67 | loss: 0.21428 | train_mse: 0.15275 | train_mae: 0.29744 |  0:00:05s\n",
      "epoch 68 | loss: 0.16956 | train_mse: 0.10928 | train_mae: 0.2532  |  0:00:05s\n"
     ]
    },
    {
     "name": "stdout",
     "output_type": "stream",
     "text": [
      "epoch 69 | loss: 0.23283 | train_mse: 0.10462 | train_mae: 0.25593 |  0:00:05s\n",
      "epoch 70 | loss: 0.19729 | train_mse: 0.13024 | train_mae: 0.28066 |  0:00:05s\n",
      "epoch 71 | loss: 0.16453 | train_mse: 0.10583 | train_mae: 0.25647 |  0:00:05s\n"
     ]
    },
    {
     "name": "stdout",
     "output_type": "stream",
     "text": [
      "epoch 72 | loss: 0.13267 | train_mse: 0.1015  | train_mae: 0.24337 |  0:00:05s\n",
      "epoch 73 | loss: 0.20386 | train_mse: 0.1667  | train_mae: 0.30499 |  0:00:05s\n",
      "epoch 74 | loss: 0.29354 | train_mse: 0.17315 | train_mae: 0.31365 |  0:00:06s\n"
     ]
    },
    {
     "name": "stdout",
     "output_type": "stream",
     "text": [
      "epoch 75 | loss: 0.21145 | train_mse: 0.16711 | train_mae: 0.30761 |  0:00:06s\n",
      "epoch 76 | loss: 0.13254 | train_mse: 0.1294  | train_mae: 0.27005 |  0:00:06s\n",
      "epoch 77 | loss: 0.20327 | train_mse: 0.10192 | train_mae: 0.23167 |  0:00:06s\n"
     ]
    },
    {
     "name": "stdout",
     "output_type": "stream",
     "text": [
      "epoch 78 | loss: 0.19473 | train_mse: 0.11145 | train_mae: 0.24493 |  0:00:06s\n",
      "epoch 79 | loss: 0.17394 | train_mse: 0.12516 | train_mae: 0.25459 |  0:00:06s\n",
      "epoch 80 | loss: 0.17095 | train_mse: 0.13474 | train_mae: 0.26589 |  0:00:06s\n",
      "epoch 81 | loss: 0.12418 | train_mse: 0.13479 | train_mae: 0.25724 |  0:00:06s\n"
     ]
    },
    {
     "name": "stdout",
     "output_type": "stream",
     "text": [
      "epoch 82 | loss: 0.12271 | train_mse: 0.14238 | train_mae: 0.27051 |  0:00:06s\n",
      "epoch 83 | loss: 0.29239 | train_mse: 0.16633 | train_mae: 0.29508 |  0:00:06s\n",
      "epoch 84 | loss: 0.13959 | train_mse: 0.16644 | train_mae: 0.3033  |  0:00:06s\n",
      "epoch 85 | loss: 0.13263 | train_mse: 0.17135 | train_mae: 0.30526 |  0:00:06s\n"
     ]
    },
    {
     "name": "stdout",
     "output_type": "stream",
     "text": [
      "epoch 86 | loss: 0.11878 | train_mse: 0.17336 | train_mae: 0.29256 |  0:00:06s\n",
      "epoch 87 | loss: 0.13742 | train_mse: 0.1132  | train_mae: 0.24258 |  0:00:06s\n",
      "epoch 88 | loss: 0.14124 | train_mse: 0.11264 | train_mae: 0.24895 |  0:00:07s\n",
      "epoch 89 | loss: 0.17833 | train_mse: 0.12042 | train_mae: 0.25613 |  0:00:07s\n"
     ]
    },
    {
     "name": "stdout",
     "output_type": "stream",
     "text": [
      "epoch 90 | loss: 0.13579 | train_mse: 0.11916 | train_mae: 0.25025 |  0:00:07s\n",
      "epoch 91 | loss: 0.16496 | train_mse: 0.12411 | train_mae: 0.25553 |  0:00:07s\n",
      "epoch 92 | loss: 0.24503 | train_mse: 0.16061 | train_mae: 0.28187 |  0:00:07s\n"
     ]
    },
    {
     "name": "stdout",
     "output_type": "stream",
     "text": [
      "epoch 93 | loss: 0.28848 | train_mse: 0.13275 | train_mae: 0.27909 |  0:00:07s\n",
      "epoch 94 | loss: 0.14354 | train_mse: 0.1157  | train_mae: 0.2659  |  0:00:07s\n",
      "epoch 95 | loss: 0.23542 | train_mse: 0.12123 | train_mae: 0.26562 |  0:00:07s\n",
      "epoch 96 | loss: 0.16274 | train_mse: 0.12356 | train_mae: 0.27064 |  0:00:07s\n",
      "epoch 97 | loss: 0.11615 | train_mse: 0.10756 | train_mae: 0.24913 |  0:00:07s\n"
     ]
    },
    {
     "name": "stdout",
     "output_type": "stream",
     "text": [
      "epoch 98 | loss: 0.19189 | train_mse: 0.09565 | train_mae: 0.2341  |  0:00:07s\n",
      "epoch 99 | loss: 0.14335 | train_mse: 0.0925  | train_mae: 0.2302  |  0:00:07s\n",
      "epoch 100| loss: 0.12284 | train_mse: 0.08725 | train_mae: 0.23052 |  0:00:07s\n",
      "epoch 101| loss: 0.18643 | train_mse: 0.09356 | train_mae: 0.2427  |  0:00:07s\n"
     ]
    },
    {
     "name": "stdout",
     "output_type": "stream",
     "text": [
      "epoch 102| loss: 0.12055 | train_mse: 0.0839  | train_mae: 0.2365  |  0:00:07s\n",
      "epoch 103| loss: 0.17601 | train_mse: 0.09761 | train_mae: 0.25653 |  0:00:08s\n",
      "epoch 104| loss: 0.10352 | train_mse: 0.09263 | train_mae: 0.25163 |  0:00:08s\n",
      "epoch 105| loss: 0.2445  | train_mse: 0.06731 | train_mae: 0.20588 |  0:00:08s\n"
     ]
    },
    {
     "name": "stdout",
     "output_type": "stream",
     "text": [
      "epoch 106| loss: 0.13355 | train_mse: 0.09435 | train_mae: 0.22867 |  0:00:08s\n",
      "epoch 107| loss: 0.13133 | train_mse: 0.08228 | train_mae: 0.21131 |  0:00:08s\n",
      "epoch 108| loss: 0.07481 | train_mse: 0.08893 | train_mae: 0.22379 |  0:00:08s\n",
      "epoch 109| loss: 0.18941 | train_mse: 0.09597 | train_mae: 0.24908 |  0:00:08s\n"
     ]
    },
    {
     "name": "stdout",
     "output_type": "stream",
     "text": [
      "epoch 110| loss: 0.08947 | train_mse: 0.08498 | train_mae: 0.2319  |  0:00:08s\n",
      "epoch 111| loss: 0.20088 | train_mse: 0.07169 | train_mae: 0.21017 |  0:00:08s\n",
      "epoch 112| loss: 0.16714 | train_mse: 0.06525 | train_mae: 0.20903 |  0:00:08s\n",
      "epoch 113| loss: 0.18809 | train_mse: 0.06362 | train_mae: 0.20066 |  0:00:08s\n"
     ]
    },
    {
     "name": "stdout",
     "output_type": "stream",
     "text": [
      "epoch 114| loss: 0.11342 | train_mse: 0.08529 | train_mae: 0.22271 |  0:00:08s\n",
      "epoch 115| loss: 0.18449 | train_mse: 0.09066 | train_mae: 0.22672 |  0:00:08s\n",
      "epoch 116| loss: 0.13029 | train_mse: 0.0934  | train_mae: 0.22816 |  0:00:08s\n"
     ]
    },
    {
     "name": "stdout",
     "output_type": "stream",
     "text": [
      "epoch 117| loss: 0.21172 | train_mse: 0.08506 | train_mae: 0.22526 |  0:00:08s\n",
      "epoch 118| loss: 0.07245 | train_mse: 0.07253 | train_mae: 0.20897 |  0:00:09s\n",
      "epoch 119| loss: 0.09645 | train_mse: 0.06692 | train_mae: 0.20211 |  0:00:09s\n",
      "epoch 120| loss: 0.0615  | train_mse: 0.08357 | train_mae: 0.21903 |  0:00:09s\n"
     ]
    },
    {
     "name": "stdout",
     "output_type": "stream",
     "text": [
      "epoch 121| loss: 0.1998  | train_mse: 0.13883 | train_mae: 0.26454 |  0:00:09s\n",
      "epoch 122| loss: 0.12876 | train_mse: 0.11284 | train_mae: 0.24509 |  0:00:09s\n",
      "epoch 123| loss: 0.12408 | train_mse: 0.11613 | train_mae: 0.24664 |  0:00:09s\n"
     ]
    },
    {
     "name": "stdout",
     "output_type": "stream",
     "text": [
      "epoch 124| loss: 0.12252 | train_mse: 0.12441 | train_mae: 0.25134 |  0:00:09s\n",
      "epoch 125| loss: 0.13041 | train_mse: 0.10051 | train_mae: 0.23134 |  0:00:09s\n",
      "epoch 126| loss: 0.13325 | train_mse: 0.09662 | train_mae: 0.23181 |  0:00:09s\n",
      "epoch 127| loss: 0.09768 | train_mse: 0.13002 | train_mae: 0.25876 |  0:00:09s\n"
     ]
    },
    {
     "name": "stdout",
     "output_type": "stream",
     "text": [
      "epoch 128| loss: 0.0793  | train_mse: 0.14641 | train_mae: 0.26954 |  0:00:09s\n",
      "epoch 129| loss: 0.15258 | train_mse: 0.14395 | train_mae: 0.26943 |  0:00:09s\n",
      "epoch 130| loss: 0.15658 | train_mse: 0.11341 | train_mae: 0.24513 |  0:00:09s\n",
      "epoch 131| loss: 0.22564 | train_mse: 0.09324 | train_mae: 0.22728 |  0:00:09s\n"
     ]
    },
    {
     "name": "stdout",
     "output_type": "stream",
     "text": [
      "epoch 132| loss: 0.0869  | train_mse: 0.06817 | train_mae: 0.2056  |  0:00:09s\n",
      "epoch 133| loss: 0.14932 | train_mse: 0.07934 | train_mae: 0.21758 |  0:00:10s\n",
      "epoch 134| loss: 0.18475 | train_mse: 0.10569 | train_mae: 0.24538 |  0:00:10s\n",
      "epoch 135| loss: 0.16339 | train_mse: 0.0712  | train_mae: 0.2125  |  0:00:10s\n"
     ]
    },
    {
     "name": "stdout",
     "output_type": "stream",
     "text": [
      "epoch 136| loss: 0.11641 | train_mse: 0.0622  | train_mae: 0.19542 |  0:00:10s\n",
      "epoch 137| loss: 0.10036 | train_mse: 0.07413 | train_mae: 0.21693 |  0:00:10s\n",
      "epoch 138| loss: 0.17185 | train_mse: 0.06762 | train_mae: 0.21172 |  0:00:10s\n",
      "epoch 139| loss: 0.10443 | train_mse: 0.06749 | train_mae: 0.20951 |  0:00:10s\n"
     ]
    },
    {
     "name": "stdout",
     "output_type": "stream",
     "text": [
      "epoch 140| loss: 0.11154 | train_mse: 0.06261 | train_mae: 0.20119 |  0:00:10s\n",
      "epoch 141| loss: 0.10369 | train_mse: 0.07276 | train_mae: 0.21206 |  0:00:10s\n",
      "epoch 142| loss: 0.15755 | train_mse: 0.08068 | train_mae: 0.21973 |  0:00:10s\n",
      "epoch 143| loss: 0.13039 | train_mse: 0.12065 | train_mae: 0.25064 |  0:00:10s\n"
     ]
    },
    {
     "name": "stdout",
     "output_type": "stream",
     "text": [
      "epoch 144| loss: 0.09536 | train_mse: 0.13208 | train_mae: 0.26329 |  0:00:10s\n",
      "epoch 145| loss: 0.13937 | train_mse: 0.09664 | train_mae: 0.23474 |  0:00:10s\n",
      "epoch 146| loss: 0.08523 | train_mse: 0.06993 | train_mae: 0.20329 |  0:00:10s\n",
      "epoch 147| loss: 0.34579 | train_mse: 0.05104 | train_mae: 0.18022 |  0:00:10s\n"
     ]
    },
    {
     "name": "stdout",
     "output_type": "stream",
     "text": [
      "epoch 148| loss: 0.13901 | train_mse: 0.06896 | train_mae: 0.20003 |  0:00:11s\n",
      "epoch 149| loss: 0.13645 | train_mse: 0.11574 | train_mae: 0.24824 |  0:00:11s\n",
      "epoch 150| loss: 0.10174 | train_mse: 0.1332  | train_mae: 0.26628 |  0:00:11s\n",
      "epoch 151| loss: 0.11104 | train_mse: 0.12633 | train_mae: 0.26508 |  0:00:11s\n"
     ]
    },
    {
     "name": "stdout",
     "output_type": "stream",
     "text": [
      "epoch 152| loss: 0.12611 | train_mse: 0.11089 | train_mae: 0.25032 |  0:00:11s\n",
      "epoch 153| loss: 0.27659 | train_mse: 0.10881 | train_mae: 0.24377 |  0:00:11s\n",
      "epoch 154| loss: 0.17648 | train_mse: 0.0967  | train_mae: 0.22575 |  0:00:11s\n"
     ]
    },
    {
     "name": "stdout",
     "output_type": "stream",
     "text": [
      "epoch 155| loss: 0.10032 | train_mse: 0.08733 | train_mae: 0.21159 |  0:00:11s\n",
      "epoch 156| loss: 0.11183 | train_mse: 0.07719 | train_mae: 0.19962 |  0:00:11s\n",
      "epoch 157| loss: 0.11901 | train_mse: 0.08547 | train_mae: 0.21053 |  0:00:11s\n",
      "epoch 158| loss: 0.11523 | train_mse: 0.09875 | train_mae: 0.22613 |  0:00:11s\n"
     ]
    },
    {
     "name": "stdout",
     "output_type": "stream",
     "text": [
      "epoch 159| loss: 0.07234 | train_mse: 0.12101 | train_mae: 0.24477 |  0:00:11s\n",
      "epoch 160| loss: 0.1512  | train_mse: 0.11703 | train_mae: 0.24156 |  0:00:11s\n",
      "epoch 161| loss: 0.09034 | train_mse: 0.14166 | train_mae: 0.25407 |  0:00:11s\n",
      "epoch 162| loss: 0.11123 | train_mse: 0.14131 | train_mae: 0.25439 |  0:00:11s\n"
     ]
    },
    {
     "name": "stdout",
     "output_type": "stream",
     "text": [
      "epoch 163| loss: 0.13065 | train_mse: 0.11584 | train_mae: 0.22815 |  0:00:12s\n",
      "epoch 164| loss: 0.07124 | train_mse: 0.12998 | train_mae: 0.24013 |  0:00:12s\n",
      "epoch 165| loss: 0.20108 | train_mse: 0.12562 | train_mae: 0.24031 |  0:00:12s\n"
     ]
    },
    {
     "name": "stdout",
     "output_type": "stream",
     "text": [
      "epoch 166| loss: 0.10214 | train_mse: 0.13088 | train_mae: 0.24826 |  0:00:12s\n",
      "epoch 167| loss: 0.13398 | train_mse: 0.1464  | train_mae: 0.25815 |  0:00:12s\n",
      "epoch 168| loss: 0.17482 | train_mse: 0.13096 | train_mae: 0.25043 |  0:00:12s\n"
     ]
    },
    {
     "name": "stdout",
     "output_type": "stream",
     "text": [
      "epoch 169| loss: 0.17281 | train_mse: 0.10072 | train_mae: 0.22883 |  0:00:12s\n",
      "epoch 170| loss: 0.09061 | train_mse: 0.07662 | train_mae: 0.20125 |  0:00:12s\n",
      "epoch 171| loss: 0.23033 | train_mse: 0.06698 | train_mae: 0.19036 |  0:00:12s\n"
     ]
    },
    {
     "name": "stdout",
     "output_type": "stream",
     "text": [
      "epoch 172| loss: 0.07357 | train_mse: 0.06976 | train_mae: 0.19467 |  0:00:12s\n",
      "epoch 173| loss: 0.08609 | train_mse: 0.07522 | train_mae: 0.20226 |  0:00:12s\n",
      "epoch 174| loss: 0.08247 | train_mse: 0.0776  | train_mae: 0.20305 |  0:00:12s\n",
      "epoch 175| loss: 0.2682  | train_mse: 0.08596 | train_mae: 0.214   |  0:00:12s\n"
     ]
    },
    {
     "name": "stdout",
     "output_type": "stream",
     "text": [
      "epoch 176| loss: 0.1301  | train_mse: 0.09217 | train_mae: 0.21252 |  0:00:12s\n",
      "epoch 177| loss: 0.09682 | train_mse: 0.11981 | train_mae: 0.241   |  0:00:13s\n",
      "epoch 178| loss: 0.10948 | train_mse: 0.14468 | train_mae: 0.2593  |  0:00:13s\n",
      "epoch 179| loss: 0.14268 | train_mse: 0.20987 | train_mae: 0.3025  |  0:00:13s\n"
     ]
    },
    {
     "name": "stdout",
     "output_type": "stream",
     "text": [
      "epoch 180| loss: 0.18757 | train_mse: 0.19136 | train_mae: 0.28677 |  0:00:13s\n",
      "epoch 181| loss: 0.11639 | train_mse: 0.14359 | train_mae: 0.25997 |  0:00:13s\n",
      "epoch 182| loss: 0.09661 | train_mse: 0.10963 | train_mae: 0.23298 |  0:00:13s\n"
     ]
    },
    {
     "name": "stdout",
     "output_type": "stream",
     "text": [
      "epoch 183| loss: 0.09849 | train_mse: 0.07644 | train_mae: 0.20478 |  0:00:13s\n",
      "epoch 184| loss: 0.09225 | train_mse: 0.07441 | train_mae: 0.20625 |  0:00:13s\n",
      "epoch 185| loss: 0.18561 | train_mse: 0.12877 | train_mae: 0.25865 |  0:00:13s\n",
      "epoch 186| loss: 0.13021 | train_mse: 0.15474 | train_mae: 0.27559 |  0:00:13s\n"
     ]
    },
    {
     "name": "stdout",
     "output_type": "stream",
     "text": [
      "epoch 187| loss: 0.09369 | train_mse: 0.17723 | train_mae: 0.28791 |  0:00:13s\n",
      "epoch 188| loss: 0.09098 | train_mse: 0.15856 | train_mae: 0.28415 |  0:00:13s\n",
      "epoch 189| loss: 0.19192 | train_mse: 0.10337 | train_mae: 0.24005 |  0:00:13s\n",
      "epoch 190| loss: 0.13342 | train_mse: 0.08937 | train_mae: 0.22517 |  0:00:13s\n"
     ]
    },
    {
     "name": "stdout",
     "output_type": "stream",
     "text": [
      "epoch 191| loss: 0.20329 | train_mse: 0.09014 | train_mae: 0.23537 |  0:00:13s\n",
      "epoch 192| loss: 0.12611 | train_mse: 0.08259 | train_mae: 0.22703 |  0:00:14s\n",
      "epoch 193| loss: 0.1425  | train_mse: 0.05437 | train_mae: 0.17915 |  0:00:14s\n",
      "epoch 194| loss: 0.16099 | train_mse: 0.04507 | train_mae: 0.16207 |  0:00:14s\n"
     ]
    },
    {
     "name": "stdout",
     "output_type": "stream",
     "text": [
      "epoch 195| loss: 0.07069 | train_mse: 0.05875 | train_mae: 0.18314 |  0:00:14s\n",
      "epoch 196| loss: 0.15242 | train_mse: 0.05907 | train_mae: 0.17871 |  0:00:14s\n",
      "epoch 197| loss: 0.15719 | train_mse: 0.06863 | train_mae: 0.19456 |  0:00:14s\n",
      "epoch 198| loss: 0.06441 | train_mse: 0.07098 | train_mae: 0.19753 |  0:00:14s\n"
     ]
    },
    {
     "name": "stdout",
     "output_type": "stream",
     "text": [
      "epoch 199| loss: 0.09818 | train_mse: 0.06594 | train_mae: 0.18878 |  0:00:14s\n",
      "epoch 200| loss: 0.12447 | train_mse: 0.05615 | train_mae: 0.17817 |  0:00:14s\n",
      "epoch 201| loss: 0.09663 | train_mse: 0.0473  | train_mae: 0.16859 |  0:00:14s\n",
      "epoch 202| loss: 0.32079 | train_mse: 0.05543 | train_mae: 0.18966 |  0:00:14s\n"
     ]
    },
    {
     "name": "stdout",
     "output_type": "stream",
     "text": [
      "epoch 203| loss: 0.11079 | train_mse: 0.06557 | train_mae: 0.20745 |  0:00:14s\n",
      "epoch 204| loss: 0.13117 | train_mse: 0.05908 | train_mae: 0.19775 |  0:00:14s\n",
      "epoch 205| loss: 0.12144 | train_mse: 0.05859 | train_mae: 0.19724 |  0:00:14s\n",
      "epoch 206| loss: 0.11272 | train_mse: 0.05897 | train_mae: 0.18758 |  0:00:14s\n"
     ]
    },
    {
     "name": "stdout",
     "output_type": "stream",
     "text": [
      "epoch 207| loss: 0.14447 | train_mse: 0.06607 | train_mae: 0.19424 |  0:00:15s\n",
      "epoch 208| loss: 0.13885 | train_mse: 0.09156 | train_mae: 0.22519 |  0:00:15s\n",
      "epoch 209| loss: 0.13109 | train_mse: 0.05664 | train_mae: 0.19212 |  0:00:15s\n",
      "epoch 210| loss: 0.09564 | train_mse: 0.10575 | train_mae: 0.25137 |  0:00:15s\n"
     ]
    },
    {
     "name": "stdout",
     "output_type": "stream",
     "text": [
      "epoch 211| loss: 0.18354 | train_mse: 0.18586 | train_mae: 0.3167  |  0:00:15s\n",
      "epoch 212| loss: 0.13521 | train_mse: 0.14902 | train_mae: 0.28849 |  0:00:15s\n",
      "epoch 213| loss: 0.16947 | train_mse: 0.09524 | train_mae: 0.23876 |  0:00:15s\n",
      "epoch 214| loss: 0.15685 | train_mse: 0.09737 | train_mae: 0.24342 |  0:00:15s\n"
     ]
    },
    {
     "name": "stdout",
     "output_type": "stream",
     "text": [
      "epoch 215| loss: 0.12996 | train_mse: 0.0971  | train_mae: 0.24306 |  0:00:15s\n",
      "epoch 216| loss: 0.09082 | train_mse: 0.07343 | train_mae: 0.21775 |  0:00:15s\n",
      "epoch 217| loss: 0.10408 | train_mse: 0.06518 | train_mae: 0.20558 |  0:00:15s\n"
     ]
    },
    {
     "name": "stdout",
     "output_type": "stream",
     "text": [
      "epoch 218| loss: 0.09929 | train_mse: 0.06888 | train_mae: 0.20273 |  0:00:15s\n",
      "epoch 219| loss: 0.18653 | train_mse: 0.07188 | train_mae: 0.20263 |  0:00:15s\n",
      "epoch 220| loss: 0.11596 | train_mse: 0.07083 | train_mae: 0.20392 |  0:00:15s\n",
      "epoch 221| loss: 0.07642 | train_mse: 0.09115 | train_mae: 0.22484 |  0:00:15s\n",
      "epoch 222| loss: 0.26626 | train_mse: 0.09104 | train_mae: 0.22644 |  0:00:16s\n"
     ]
    },
    {
     "name": "stdout",
     "output_type": "stream",
     "text": [
      "epoch 223| loss: 0.15407 | train_mse: 0.06862 | train_mae: 0.20325 |  0:00:16s\n",
      "epoch 224| loss: 0.13298 | train_mse: 0.05622 | train_mae: 0.18553 |  0:00:16s\n",
      "epoch 225| loss: 0.1374  | train_mse: 0.06196 | train_mae: 0.19289 |  0:00:16s\n"
     ]
    },
    {
     "name": "stdout",
     "output_type": "stream",
     "text": [
      "epoch 226| loss: 0.07617 | train_mse: 0.05199 | train_mae: 0.18624 |  0:00:16s\n",
      "epoch 227| loss: 0.13143 | train_mse: 0.05394 | train_mae: 0.18671 |  0:00:16s\n",
      "epoch 228| loss: 0.11693 | train_mse: 0.04893 | train_mae: 0.17811 |  0:00:16s\n",
      "epoch 229| loss: 0.11961 | train_mse: 0.06598 | train_mae: 0.19923 |  0:00:16s\n"
     ]
    },
    {
     "name": "stdout",
     "output_type": "stream",
     "text": [
      "epoch 230| loss: 0.08097 | train_mse: 0.07701 | train_mae: 0.21228 |  0:00:16s\n",
      "epoch 231| loss: 0.08177 | train_mse: 0.0699  | train_mae: 0.2055  |  0:00:16s\n",
      "epoch 232| loss: 0.07374 | train_mse: 0.07568 | train_mae: 0.20829 |  0:00:16s\n",
      "epoch 233| loss: 0.1404  | train_mse: 0.07848 | train_mae: 0.21139 |  0:00:16s\n"
     ]
    },
    {
     "name": "stdout",
     "output_type": "stream",
     "text": [
      "epoch 234| loss: 0.1652  | train_mse: 0.10545 | train_mae: 0.24028 |  0:00:16s\n",
      "epoch 235| loss: 0.10345 | train_mse: 0.09648 | train_mae: 0.23706 |  0:00:16s\n",
      "epoch 236| loss: 0.09953 | train_mse: 0.08623 | train_mae: 0.22472 |  0:00:16s\n",
      "epoch 237| loss: 0.1877  | train_mse: 0.08542 | train_mae: 0.22405 |  0:00:17s\n"
     ]
    },
    {
     "name": "stdout",
     "output_type": "stream",
     "text": [
      "epoch 238| loss: 0.07924 | train_mse: 0.06767 | train_mae: 0.20452 |  0:00:17s\n",
      "epoch 239| loss: 0.09249 | train_mse: 0.06029 | train_mae: 0.20038 |  0:00:17s\n",
      "epoch 240| loss: 0.16162 | train_mse: 0.06215 | train_mae: 0.20348 |  0:00:17s\n"
     ]
    },
    {
     "name": "stdout",
     "output_type": "stream",
     "text": [
      "epoch 241| loss: 0.09211 | train_mse: 0.05497 | train_mae: 0.19365 |  0:00:17s\n",
      "epoch 242| loss: 0.20003 | train_mse: 0.04728 | train_mae: 0.18238 |  0:00:17s\n",
      "epoch 243| loss: 0.12765 | train_mse: 0.0563  | train_mae: 0.1889  |  0:00:17s\n",
      "epoch 244| loss: 0.06436 | train_mse: 0.06252 | train_mae: 0.1923  |  0:00:17s\n",
      "\n",
      "Early stopping occurred at epoch 244 with best_epoch = 194 and best_train_mae = 0.16207\n",
      "Best weights from best epoch are automatically used!\n"
     ]
    }
   ],
   "source": [
    "#Train the Model\n",
    "\n",
    "Y_train = np.reshape(Y_train, (-1, 1))\n",
    "Y_test = np.reshape(Y_test, (-1, 1))\n",
    "\n",
    "prior_model = TabNetRegressor(optimizer_fn=torch.optim.Adam, optimizer_params=dict(lr = 0.02),\n",
    "          #scheduler_params={\"step_size\":10, ], \"gamma\":0.9},\n",
    "          #scheduler_fn=torch.optim.lr_scheduler.StepLR\n",
    "          )  #TabNetRegressor()\n",
    "\n",
    "prior_model.fit(X_train,Y_train,eval_set=[(X_train, Y_train)],\n",
    "            eval_name=['train'], \n",
    "            eval_metric=[ 'mse', 'mae'], \n",
    "            max_epochs = n_epochs, \n",
    "            batch_size = batch_size,\n",
    "            patience=50\n",
    "            )"
   ]
  },
  {
   "cell_type": "code",
   "execution_count": 10,
   "id": "af65dcda",
   "metadata": {
    "execution": {
     "iopub.execute_input": "2022-06-22T15:07:24.659480Z",
     "iopub.status.busy": "2022-06-22T15:07:24.658427Z",
     "iopub.status.idle": "2022-06-22T15:07:24.681590Z",
     "shell.execute_reply": "2022-06-22T15:07:24.682389Z"
    },
    "id": "af65dcda",
    "papermill": {
     "duration": 0.074972,
     "end_time": "2022-06-22T15:07:24.682613",
     "exception": false,
     "start_time": "2022-06-22T15:07:24.607641",
     "status": "completed"
    },
    "tags": []
   },
   "outputs": [
    {
     "data": {
      "application/scrapbook.scrap.json+json": {
       "data": 0.3109225831469276,
       "encoder": "json",
       "name": "Prior Model MSE",
       "version": 1
      }
     },
     "metadata": {
      "scrapbook": {
       "data": true,
       "display": false,
       "name": "Prior Model MSE"
      }
     },
     "output_type": "display_data"
    },
    {
     "data": {
      "application/scrapbook.scrap.json+json": {
       "data": 0.7080544454753558,
       "encoder": "json",
       "name": "ABC Pre-generator MSE",
       "version": 1
      }
     },
     "metadata": {
      "scrapbook": {
       "data": true,
       "display": false,
       "name": "ABC Pre-generator MSE"
      }
     },
     "output_type": "display_data"
    },
    {
     "data": {
      "application/scrapbook.scrap.json+json": {
       "data": 0.44748284427494306,
       "encoder": "json",
       "name": "Prior Model MSE",
       "version": 1
      }
     },
     "metadata": {
      "scrapbook": {
       "data": true,
       "display": false,
       "name": "Prior Model MSE"
      }
     },
     "output_type": "display_data"
    },
    {
     "data": {
      "application/scrapbook.scrap.json+json": {
       "data": 0.636231670203897,
       "encoder": "json",
       "name": "ABC Pre-generator MSE",
       "version": 1
      }
     },
     "metadata": {
      "scrapbook": {
       "data": true,
       "display": false,
       "name": "ABC Pre-generator MSE"
      }
     },
     "output_type": "display_data"
    }
   ],
   "source": [
    "y_pred = prior_model.predict(X_test)\n",
    "y_abc = y_pred + np.random.normal(0,variance, y_pred.shape) + bias \n",
    "mse = mean_squared_error(y_pred,Y_test)\n",
    "sb.glue(\"Prior Model MSE\",mse)\n",
    "mse = mean_squared_error(y_abc,Y_test)\n",
    "sb.glue(\"ABC Pre-generator MSE\",mse)\n",
    "mae = mean_absolute_error(y_pred,Y_test)\n",
    "sb.glue(\"Prior Model MSE\",mae)\n",
    "mae = mean_absolute_error(y_abc,Y_test)\n",
    "sb.glue(\"ABC Pre-generator MSE\",mae)"
   ]
  },
  {
   "cell_type": "markdown",
   "id": "25609da2",
   "metadata": {
    "papermill": {
     "duration": 0.045257,
     "end_time": "2022-06-22T15:07:24.760397",
     "exception": false,
     "start_time": "2022-06-22T15:07:24.715140",
     "status": "completed"
    },
    "tags": []
   },
   "source": [
    "# ABC GAN Model"
   ]
  },
  {
   "cell_type": "code",
   "execution_count": 11,
   "id": "dfc3464d",
   "metadata": {
    "execution": {
     "iopub.execute_input": "2022-06-22T15:07:24.831279Z",
     "iopub.status.busy": "2022-06-22T15:07:24.830539Z",
     "iopub.status.idle": "2022-06-22T15:07:24.835823Z",
     "shell.execute_reply": "2022-06-22T15:07:24.836336Z"
    },
    "papermill": {
     "duration": 0.044259,
     "end_time": "2022-06-22T15:07:24.836555",
     "exception": false,
     "start_time": "2022-06-22T15:07:24.792296",
     "status": "completed"
    },
    "tags": []
   },
   "outputs": [],
   "source": [
    "gen = network.Generator(n_features+1).to(device)\n",
    "disc = network.Discriminator(n_features+1).to(device)\n",
    "\n",
    "criterion = torch.nn.BCELoss()\n",
    "gen_opt = torch.optim.Adam(gen.parameters(), lr=0.001, betas=(0.5, 0.999))\n",
    "disc_opt = torch.optim.Adam(disc.parameters(), lr=0.001, betas=(0.5, 0.999))"
   ]
  },
  {
   "cell_type": "code",
   "execution_count": 12,
   "id": "b75fdd85",
   "metadata": {
    "execution": {
     "iopub.execute_input": "2022-06-22T15:07:24.914355Z",
     "iopub.status.busy": "2022-06-22T15:07:24.913504Z",
     "iopub.status.idle": "2022-06-22T15:08:07.301048Z",
     "shell.execute_reply": "2022-06-22T15:08:07.301504Z"
    },
    "papermill": {
     "duration": 42.430958,
     "end_time": "2022-06-22T15:08:07.301770",
     "exception": false,
     "start_time": "2022-06-22T15:07:24.870812",
     "status": "completed"
    },
    "tags": []
   },
   "outputs": [
    {
     "data": {
      "image/png": "[encoded data removed]",
      "text/plain": [
       "<Figure size 432x288 with 1 Axes>"
      ]
     },
     "metadata": {
      "needs_background": "light"
     },
     "output_type": "display_data"
    },
    {
     "data": {
      "image/png": "[encoded data removed]",
      "text/plain": [
       "<Figure size 432x288 with 1 Axes>"
      ]
     },
     "metadata": {
      "needs_background": "light"
     },
     "output_type": "display_data"
    }
   ],
   "source": [
    "#Training the ABC_GAN \n",
    "ABC_train_test2.training_GAN(disc,gen,disc_opt,gen_opt,train_data,batch_size,n_epochs,criterion,prior_model,variance,bias,device)"
   ]
  },
  {
   "cell_type": "code",
   "execution_count": 13,
   "id": "1fa7c368",
   "metadata": {
    "execution": {
     "iopub.execute_input": "2022-06-22T15:08:07.394578Z",
     "iopub.status.busy": "2022-06-22T15:08:07.393498Z",
     "iopub.status.idle": "2022-06-22T15:08:08.018097Z",
     "shell.execute_reply": "2022-06-22T15:08:08.017572Z"
    },
    "papermill": {
     "duration": 0.678626,
     "end_time": "2022-06-22T15:08:08.018291",
     "exception": false,
     "start_time": "2022-06-22T15:08:07.339665",
     "status": "completed"
    },
    "tags": []
   },
   "outputs": [
    {
     "data": {
      "application/scrapbook.scrap.json+json": {
       "data": 0.30784139241511205,
       "encoder": "json",
       "name": "ABC-GAN Model 1 MSE",
       "version": 1
      }
     },
     "metadata": {
      "scrapbook": {
       "data": true,
       "display": false,
       "name": "ABC-GAN Model 1 MSE"
      }
     },
     "output_type": "display_data"
    },
    {
     "data": {
      "application/scrapbook.scrap.json+json": {
       "data": 0.45543548328708855,
       "encoder": "json",
       "name": "ABC-GAN Model 1 MAE",
       "version": 1
      }
     },
     "metadata": {
      "scrapbook": {
       "data": true,
       "display": false,
       "name": "ABC-GAN Model 1 MAE"
      }
     },
     "output_type": "display_data"
    },
    {
     "data": {
      "application/scrapbook.scrap.json+json": {
       "data": 9.108709665741772,
       "encoder": "json",
       "name": "ABC-GAN Model 1 Manhattan Distance",
       "version": 1
      }
     },
     "metadata": {
      "scrapbook": {
       "data": true,
       "display": false,
       "name": "ABC-GAN Model 1 Manhattan Distance"
      }
     },
     "output_type": "display_data"
    },
    {
     "data": {
      "application/scrapbook.scrap.json+json": {
       "data": 2.480326582796618,
       "encoder": "json",
       "name": "ABC-GAN Model 1 Euclidean distance",
       "version": 1
      }
     },
     "metadata": {
      "scrapbook": {
       "data": true,
       "display": false,
       "name": "ABC-GAN Model 1 Euclidean distance"
      }
     },
     "output_type": "display_data"
    },
    {
     "data": {
      "application/scrapbook.scrap.json+json": {
       "data": [
        [
         0.29155732883099605,
         0.28883964992601535,
         0.2927006184240977,
         0.3163760083040358,
         0.3074014879872134,
         0.32262487499454584,
         0.369183505216245,
         0.30556646079823585,
         0.3010676515137368,
         0.307871852270896,
         0.3349131074544507,
         0.3053215156168236,
         0.3018746257573527,
         0.32058011565579303,
         0.2927621020920788,
         0.28940810523909966,
         0.31037737312343977,
         0.30565156748979705,
         0.3138307382603591,
         0.3190379627163877,
         0.30467758431426334,
         0.2900427793502696,
         0.31300514089865084,
         0.35505770977061907,
         0.28840356497005565,
         0.31511598564783133,
         0.31494456650372965,
         0.2866610014902468,
         0.3231660211684507,
         0.29630336269254753,
         0.33167419588007474,
         0.3311650829426897,
         0.29028915218068774,
         0.2942965384401682,
         0.31522322874388886,
         0.3154927196936875,
         0.3561379586780997,
         0.3181257111405882,
         0.3065050178915479,
         0.3100979552859392,
         0.31073814070497885,
         0.3012150397900168,
         0.32293355630164317,
         0.28754037595815335,
         0.28870496545700397,
         0.3059059037704394,
         0.30915687621981297,
         0.2846813763339009,
         0.2899270777578177,
         0.2916860676784644,
         0.32059714268894746,
         0.28346427438069116,
         0.29936777700232586,
         0.31229235208515893,
         0.3273664155702096,
         0.29039824756670746,
         0.2886881005756775,
         0.28086730929540293,
         0.3178615173280414,
         0.3148816964409117,
         0.2924117003708409,
         0.28205192814807234,
         0.30222184149505926,
         0.3241208674851164,
         0.3027047031908204,
         0.31503886528853847,
         0.3134840098709978,
         0.301260590560856,
         0.31148858871322754,
         0.3038513688801474,
         0.29882234283218384,
         0.3117584858314605,
         0.3005465805327235,
         0.32844428725930974,
         0.3602321340072327,
         0.29438326041276375,
         0.27863810297903274,
         0.292898764598535,
         0.3202886507821626,
         0.2896332210153583,
         0.29395627498794863,
         0.3000251516594978,
         0.3143635058247847,
         0.30685892545052473,
         0.3264707174675533,
         0.2922411340166126,
         0.29780029014467546,
         0.31718388714502715,
         0.2979389250264121,
         0.3032293615542604,
         0.334197550771487,
         0.33362950385991996,
         0.2886673906082054,
         0.30045191119187986,
         0.33380588688790763,
         0.3257320314448653,
         0.31172723082694936,
         0.29785034539295496,
         0.3073575954456683,
         0.29476518528769124
        ],
        [
         0.44330608984455466,
         0.4430992124602199,
         0.45002844743430614,
         0.4589144367724657,
         0.46324632596224546,
         0.4758028806187212,
         0.4702551934868097,
         0.459775737952441,
         0.4412593450397253,
         0.44992208685725926,
         0.4710581213235855,
         0.46649066628888247,
         0.44880211995914576,
         0.45346373692154884,
         0.444921556673944,
         0.4442320805042982,
         0.4490836676210165,
         0.45872936192899944,
         0.45262520369142295,
         0.47623927388340237,
         0.44835763741284607,
         0.44407989326864483,
         0.4592351155355573,
         0.47125702127814295,
         0.44567534970119593,
         0.4672505923546851,
         0.4706365931779146,
         0.4381062088534236,
         0.4562458835542202,
         0.45202310029417275,
         0.47339439280331136,
         0.4608750969171524,
         0.44888835940510036,
         0.4514447830617428,
         0.4606259881518781,
         0.46380253303796054,
         0.4813748477958143,
         0.45434737941250203,
         0.4630761841312051,
         0.4622046608477831,
         0.4494539761915803,
         0.4585645554587245,
         0.45925356522202493,
         0.4419716976583004,
         0.4448411880992353,
         0.462088356167078,
         0.446253283508122,
         0.43736843662336466,
         0.4444706439971924,
         0.4339160654693842,
         0.4635547300800681,
         0.43807298708707093,
         0.46998479049652814,
         0.4682950494810939,
         0.4599968742579222,
         0.4435026302933693,
         0.4446752812713385,
         0.4366250840947032,
         0.4733600318431854,
         0.458574265986681,
         0.4488119911402464,
         0.44160585859790447,
         0.45728184916079045,
         0.4682540938258171,
         0.4547165708616376,
         0.47233253717422485,
         0.4528192549012601,
         0.4466090238653123,
         0.45226165959611536,
         0.45301511120051147,
         0.4561203129589558,
         0.46723212525248525,
         0.4487200751900673,
         0.4727669131010771,
         0.4812977814115584,
         0.4415901876986027,
         0.42898851046338676,
         0.4441186344251037,
         0.47317611128091813,
         0.4420169430784881,
         0.45340510569512843,
         0.4580117451958358,
         0.461802976205945,
         0.45486283432692287,
         0.4533704952336848,
         0.44480103040114044,
         0.4428414233960211,
         0.4719058033078909,
         0.4536389708518982,
         0.44888589419424535,
         0.47537728445604444,
         0.4648089005611837,
         0.44094091802835467,
         0.4459215300157666,
         0.47424133578315375,
         0.46739143282175066,
         0.457068547885865,
         0.4443263177759945,
         0.45381472827866676,
         0.443414849601686
        ],
        [
         8.866121796891093,
         8.861984249204397,
         9.000568948686123,
         9.178288735449314,
         9.26492651924491,
         9.516057612374425,
         9.405103869736195,
         9.19551475904882,
         8.825186900794506,
         8.998441737145185,
         9.42116242647171,
         9.32981332577765,
         8.976042399182916,
         9.069274738430977,
         8.89843113347888,
         8.884641610085964,
         8.98167335242033,
         9.174587238579988,
         9.052504073828459,
         9.524785477668047,
         8.967152748256922,
         8.881597865372896,
         9.184702310711145,
         9.425140425562859,
         8.913506994023919,
         9.345011847093701,
         9.412731863558292,
         8.762124177068472,
         9.124917671084404,
         9.040462005883455,
         9.467887856066227,
         9.217501938343048,
         8.977767188102007,
         9.028895661234856,
         9.212519763037562,
         9.27605066075921,
         9.627496955916286,
         9.086947588250041,
         9.261523682624102,
         9.244093216955662,
         8.989079523831606,
         9.17129110917449,
         9.185071304440498,
         8.839433953166008,
         8.896823761984706,
         9.24176712334156,
         8.92506567016244,
         8.747368732467294,
         8.889412879943848,
         8.678321309387684,
         9.271094601601362,
         8.761459741741419,
         9.399695809930563,
         9.365900989621878,
         9.199937485158443,
         8.870052605867386,
         8.89350562542677,
         8.732501681894064,
         9.467200636863708,
         9.17148531973362,
         8.976239822804928,
         8.832117171958089,
         9.145636983215809,
         9.365081876516342,
         9.094331417232752,
         9.446650743484497,
         9.056385098025203,
         8.932180477306247,
         9.045233191922307,
         9.060302224010229,
         9.122406259179115,
         9.344642505049706,
         8.974401503801346,
         9.455338262021542,
         9.625955628231168,
         8.831803753972054,
         8.579770209267735,
         8.882372688502073,
         9.463522225618362,
         8.840338861569762,
         9.068102113902569,
         9.160234903916717,
         9.2360595241189,
         9.097256686538458,
         9.067409904673696,
         8.896020608022809,
         8.856828467920423,
         9.438116066157818,
         9.072779417037964,
         8.977717883884907,
         9.507545689120889,
         9.296178011223674,
         8.818818360567093,
         8.918430600315332,
         9.484826715663075,
         9.347828656435013,
         9.1413709577173,
         8.88652635551989,
         9.076294565573335,
         8.86829699203372
        ],
        [
         2.414776713615551,
         2.4034959951121837,
         2.4195066374122547,
         2.5154562540582406,
         2.47952208293136,
         2.540176667062926,
         2.7172909495166135,
         2.4721102758503144,
         2.453844540771631,
         2.48141835356675,
         2.5881001041476375,
         2.471119242840473,
         2.457130951973674,
         2.5321141982769775,
         2.419760740619117,
         2.405859951198738,
         2.4914950255757677,
         2.4724545192573193,
         2.505317298309175,
         2.526016479425214,
         2.4685120389184387,
         2.4084965407916603,
         2.502019747718434,
         2.6647990910033688,
         2.401680932055945,
         2.5104421349548423,
         2.5097592175494827,
         2.3944143396256496,
         2.5423061230640607,
         2.4343515058123693,
         2.5755550698056324,
         2.5735775991513825,
         2.40951925570512,
         2.426093726302297,
         2.5108692866968956,
         2.5119423548070823,
         2.6688497847503507,
         2.522402470426114,
         2.4759039476181135,
         2.49037328642089,
         2.492942601445043,
         2.454445109551309,
         2.5413915727476675,
         2.3980841351301807,
         2.4029355607548197,
         2.473482984661263,
         2.4865915475598843,
         2.386132336371564,
         2.4080161035915757,
         2.4153097841828255,
         2.5321814417175856,
         2.3810261417325567,
         2.446907341941357,
         2.499169270318275,
         2.5587747676191026,
         2.409971981441724,
         2.402865375237146,
         2.370094130178812,
         2.521354863275066,
         2.509508702678322,
         2.418312222897783,
         2.3750870642907906,
         2.458543640023741,
         2.5460591803220773,
         2.4605068713207054,
         2.5101349178422203,
         2.503932945871346,
         2.454630687337124,
         2.495951076095954,
         2.465162748705032,
         2.444677249995115,
         2.4970321817367935,
         2.451720133019768,
         2.562983758275927,
         2.6841465459517395,
         2.4264511551348558,
         2.3606698328187816,
         2.4203254516636186,
         2.5309628633473173,
         2.4067954670696814,
         2.42469080498091,
         2.449592421851022,
         2.5074429438166073,
         2.4773329427048143,
         2.555271873862166,
         2.417606808464158,
         2.4404929426026847,
         2.518665865671853,
         2.4410609374876824,
         2.462638266389363,
         2.5853338305583944,
         2.5831357063070453,
         2.402779185061355,
         2.451333968238028,
         2.5838184413302248,
         2.5523794053583226,
         2.4969070099903576,
         2.4406980370089006,
         2.4793450564440134,
         2.4280246509773793
        ]
       ],
       "encoder": "json",
       "name": "ABC_GAN_1 Metrics",
       "version": 1
      }
     },
     "metadata": {
      "scrapbook": {
       "data": true,
       "display": false,
       "name": "ABC_GAN_1 Metrics"
      }
     },
     "output_type": "display_data"
    },
    {
     "name": "stdout",
     "output_type": "stream",
     "text": [
      "MSE\n",
      "0.30784139241511205\n"
     ]
    }
   ],
   "source": [
    "ABC_GAN1_metrics=ABC_train_test2.test_generator(gen,test_data,prior_model,variance,bias,\"1\",device)\n",
    "sb.glue(\"ABC_GAN_1 Metrics\",ABC_GAN1_metrics)\n",
    "\n",
    "print(\"MSE\")\n",
    "print(mean(ABC_GAN1_metrics[0]))"
   ]
  },
  {
   "cell_type": "code",
   "execution_count": 14,
   "id": "eb22ce5c",
   "metadata": {
    "execution": {
     "iopub.execute_input": "2022-06-22T15:08:08.108507Z",
     "iopub.status.busy": "2022-06-22T15:08:08.107781Z",
     "iopub.status.idle": "2022-06-22T15:08:08.814598Z",
     "shell.execute_reply": "2022-06-22T15:08:08.815039Z"
    },
    "papermill": {
     "duration": 0.753526,
     "end_time": "2022-06-22T15:08:08.815256",
     "exception": false,
     "start_time": "2022-06-22T15:08:08.061730",
     "status": "completed"
    },
    "tags": []
   },
   "outputs": [
    {
     "data": {
      "image/png": "[encoded data removed]",
      "text/plain": [
       "<Figure size 432x288 with 1 Axes>"
      ]
     },
     "metadata": {
      "needs_background": "light"
     },
     "output_type": "display_data"
    },
    {
     "data": {
      "image/png": "[encoded data removed]",
      "text/plain": [
       "<Figure size 432x288 with 1 Axes>"
      ]
     },
     "metadata": {
      "needs_background": "light"
     },
     "output_type": "display_data"
    },
    {
     "data": {
      "image/png": "[encoded data removed]",
      "text/plain": [
       "<Figure size 432x288 with 1 Axes>"
      ]
     },
     "metadata": {
      "needs_background": "light"
     },
     "output_type": "display_data"
    },
    {
     "data": {
      "image/png": "[encoded data removed]",
      "text/plain": [
       "<Figure size 432x288 with 1 Axes>"
      ]
     },
     "metadata": {
      "needs_background": "light"
     },
     "output_type": "display_data"
    }
   ],
   "source": [
    "sanityChecks.discProbVsError(train_data,disc,device)\n",
    "sanityChecks.discProbVsError(test_data,disc,device)"
   ]
  },
  {
   "cell_type": "markdown",
   "id": "130f3a4d",
   "metadata": {
    "id": "130f3a4d",
    "papermill": {
     "duration": 0.043644,
     "end_time": "2022-06-22T15:08:08.900775",
     "exception": false,
     "start_time": "2022-06-22T15:08:08.857131",
     "status": "completed"
    },
    "tags": []
   },
   "source": [
    "# ABC - GAN Model with skip connection"
   ]
  },
  {
   "cell_type": "code",
   "execution_count": 15,
   "id": "4e43dad1",
   "metadata": {
    "execution": {
     "iopub.execute_input": "2022-06-22T15:08:08.992084Z",
     "iopub.status.busy": "2022-06-22T15:08:08.991349Z",
     "iopub.status.idle": "2022-06-22T15:08:08.993510Z",
     "shell.execute_reply": "2022-06-22T15:08:08.994188Z"
    },
    "id": "4e43dad1",
    "papermill": {
     "duration": 0.053353,
     "end_time": "2022-06-22T15:08:08.994394",
     "exception": false,
     "start_time": "2022-06-22T15:08:08.941041",
     "status": "completed"
    },
    "tags": []
   },
   "outputs": [],
   "source": [
    "#Generator\n",
    "gen3 = network.GeneratorWithSkipConnection(n_features+1).to(device)\n",
    "constraints=network.weightConstraint()\n",
    "#Discriminator \n",
    "disc3 = network.Discriminator(n_features+1).to(device)\n",
    "\n",
    "criterion = torch.nn.BCELoss()\n",
    "gen_opt = torch.optim.Adam(gen3.parameters(), lr=0.001, betas=(0.5, 0.999))\n",
    "disc_opt = torch.optim.Adam(disc3.parameters(), lr=0.001, betas=(0.5, 0.999))\n"
   ]
  },
  {
   "cell_type": "code",
   "execution_count": 16,
   "id": "26acbc37",
   "metadata": {
    "execution": {
     "iopub.execute_input": "2022-06-22T15:08:09.082644Z",
     "iopub.status.busy": "2022-06-22T15:08:09.081982Z",
     "iopub.status.idle": "2022-06-22T15:09:15.070928Z",
     "shell.execute_reply": "2022-06-22T15:09:15.071446Z"
    },
    "id": "26acbc37",
    "papermill": {
     "duration": 66.036195,
     "end_time": "2022-06-22T15:09:15.071646",
     "exception": false,
     "start_time": "2022-06-22T15:08:09.035451",
     "status": "completed"
    },
    "tags": []
   },
   "outputs": [
    {
     "data": {
      "image/png": "[encoded data removed]",
      "text/plain": [
       "<Figure size 432x288 with 1 Axes>"
      ]
     },
     "metadata": {
      "needs_background": "light"
     },
     "output_type": "display_data"
    },
    {
     "data": {
      "image/png": "[encoded data removed]",
      "text/plain": [
       "<Figure size 432x288 with 1 Axes>"
      ]
     },
     "metadata": {
      "needs_background": "light"
     },
     "output_type": "display_data"
    }
   ],
   "source": [
    "ABC_train_test2.training_GAN_skip_connection(disc3,gen3,disc_opt,gen_opt,train_data,batch_size,n_epochs,criterion,prior_model,variance,bias,device)"
   ]
  },
  {
   "cell_type": "code",
   "execution_count": 17,
   "id": "c5e0717b",
   "metadata": {
    "execution": {
     "iopub.execute_input": "2022-06-22T15:09:15.179792Z",
     "iopub.status.busy": "2022-06-22T15:09:15.178946Z",
     "iopub.status.idle": "2022-06-22T15:09:15.937828Z",
     "shell.execute_reply": "2022-06-22T15:09:15.938516Z"
    },
    "id": "c5e0717b",
    "papermill": {
     "duration": 0.822385,
     "end_time": "2022-06-22T15:09:15.938728",
     "exception": false,
     "start_time": "2022-06-22T15:09:15.116343",
     "status": "completed"
    },
    "tags": []
   },
   "outputs": [
    {
     "data": {
      "application/scrapbook.scrap.json+json": {
       "data": 0.35548733438633734,
       "encoder": "json",
       "name": "ABC-GAN Model 3 MSE",
       "version": 1
      }
     },
     "metadata": {
      "scrapbook": {
       "data": true,
       "display": false,
       "name": "ABC-GAN Model 3 MSE"
      }
     },
     "output_type": "display_data"
    },
    {
     "data": {
      "application/scrapbook.scrap.json+json": {
       "data": 0.4863476360961795,
       "encoder": "json",
       "name": "ABC-GAN Model 3 MAE",
       "version": 1
      }
     },
     "metadata": {
      "scrapbook": {
       "data": true,
       "display": false,
       "name": "ABC-GAN Model 3 MAE"
      }
     },
     "output_type": "display_data"
    },
    {
     "data": {
      "application/scrapbook.scrap.json+json": {
       "data": 9.72695272192359,
       "encoder": "json",
       "name": "ABC-GAN Model 3 Manhattan Distance",
       "version": 1
      }
     },
     "metadata": {
      "scrapbook": {
       "data": true,
       "display": false,
       "name": "ABC-GAN Model 3 Manhattan Distance"
      }
     },
     "output_type": "display_data"
    },
    {
     "data": {
      "application/scrapbook.scrap.json+json": {
       "data": 2.6629906423857155,
       "encoder": "json",
       "name": "ABC-GAN Model 3 Euclidean distance",
       "version": 1
      }
     },
     "metadata": {
      "scrapbook": {
       "data": true,
       "display": false,
       "name": "ABC-GAN Model 3 Euclidean distance"
      }
     },
     "output_type": "display_data"
    },
    {
     "data": {
      "application/scrapbook.scrap.json+json": {
       "data": [
        [
         0.36525495954427406,
         0.33634237650500853,
         0.3411800511941921,
         0.341282729567459,
         0.3502113675205602,
         0.34798318917768284,
         0.3685962754068496,
         0.3419762171182067,
         0.45307165629204105,
         0.33464042725152787,
         0.333566696335444,
         0.3435185390177773,
         0.3478253011065148,
         0.363533452060662,
         0.3409144185988289,
         0.30672880421668547,
         0.33337019971866677,
         0.3367952579108715,
         0.3250652456036879,
         0.3579295859050558,
         0.3537138030246821,
         0.3399275300082582,
         0.34042655448021564,
         0.3411760589816568,
         0.312180787011722,
         0.3858285387866033,
         0.32721213209279354,
         0.35803657014063683,
         0.36384531805485787,
         0.3457934568208386,
         0.34589544508856795,
         0.3268609683996152,
         0.3249120046260249,
         0.3122234633934144,
         0.40916338604832647,
         0.4162855022030083,
         0.3513516795422428,
         0.3874147428453488,
         0.31683863310588756,
         0.36309447896761127,
         0.3544780993017125,
         0.32811879692906815,
         0.3281982288249271,
         0.35047900491256306,
         0.34943132212510836,
         0.36422573264290176,
         0.34867796600308176,
         0.34825249194948893,
         0.409753051812639,
         0.3169127437422237,
         0.3446324238964573,
         0.42828952649771734,
         0.32479121783987597,
         0.3318214746025898,
         0.4685740177264089,
         0.33838674404411,
         0.42655972788149576,
         0.3668090556733713,
         0.3414726682953855,
         0.3458963797001662,
         0.3163300818046895,
         0.3178150324696066,
         0.3410120096776877,
         0.4922086214381996,
         0.3257491267050148,
         0.3483994448806097,
         0.34651380789885533,
         0.3189504984610379,
         0.3316507920417626,
         0.33600291880833644,
         0.3450227138900145,
         0.3390721597371648,
         0.37557975950467776,
         0.36603870081076895,
         0.3360634878623846,
         0.3161463913370194,
         0.35689166908861975,
         0.36410749422021754,
         0.4529905715692225,
         0.4128323578658474,
         0.281614128504463,
         0.34163299021587534,
         0.3594092397397404,
         0.3684427647990607,
         0.31190699728815235,
         0.359143504540049,
         0.45404222406421,
         0.3694034831127712,
         0.2916807734568338,
         0.35021931775088244,
         0.3460670077343794,
         0.36590954236096646,
         0.4471421274946554,
         0.3497635688457602,
         0.36260614712221534,
         0.38385778932177705,
         0.3595246241158414,
         0.3606172775938779,
         0.378698829237398,
         0.35994498318748824
        ],
        [
         0.49382475968450307,
         0.4845147551968694,
         0.4759961998090148,
         0.4638876808807254,
         0.47979924324899914,
         0.49337907824665306,
         0.49253038577735425,
         0.4810930507257581,
         0.514341082982719,
         0.48335055690258744,
         0.48784385845065115,
         0.48906043749302625,
         0.47630100678652526,
         0.5035336313769221,
         0.47833396438509224,
         0.4631709700450301,
         0.4840757815167308,
         0.48560518901795147,
         0.4619861697778106,
         0.49690103735774754,
         0.49224595483392475,
         0.485088318772614,
         0.47422233279794457,
         0.4869134256616235,
         0.4704877307638526,
         0.48622183594852686,
         0.4814580334350467,
         0.48860633876174686,
         0.5018103143200279,
         0.49109504707157614,
         0.4919748654589057,
         0.4722630487754941,
         0.4762819282710552,
         0.4590998824685812,
         0.4910425407811999,
         0.5069942587986589,
         0.47605892848223447,
         0.5081837283447385,
         0.46209942903369666,
         0.48951336536556483,
         0.4777360172942281,
         0.4654823990538716,
         0.4792838653549552,
         0.49454147797077896,
         0.48976025972515347,
         0.5004494303837419,
         0.4922497682273388,
         0.48251027185469864,
         0.5164317661896348,
         0.4571712790057063,
         0.4884683212265372,
         0.510573454387486,
         0.48060641493648293,
         0.47483174148947,
         0.524161777831614,
         0.4907406013458967,
         0.5053295558318496,
         0.5049283584579826,
         0.477646472863853,
         0.4894879085943103,
         0.4512237016111612,
         0.46380491014569997,
         0.4737976996228099,
         0.55890694539994,
         0.47887607384473085,
         0.48884731587022545,
         0.4698192162439227,
         0.45741921905428173,
         0.4634696362540126,
         0.47778119537979363,
         0.47853760365396736,
         0.470212179236114,
         0.49058698657900096,
         0.48459017015993594,
         0.47505357544869187,
         0.4752673851326108,
         0.4928310548886657,
         0.49683341309428214,
         0.5179080426692962,
         0.5013859504833817,
         0.43956547062844037,
         0.4876185892149806,
         0.4953525273129344,
         0.5008996458724141,
         0.4570188907906413,
         0.49339133258908985,
         0.525469003431499,
         0.5006147077307105,
         0.4563441162928939,
         0.48881974797695876,
         0.47268373277038334,
         0.4778029488399625,
         0.5069867325946689,
         0.48942220751196147,
         0.4984321612864733,
         0.503982445038855,
         0.49663962963968517,
         0.4889984941110015,
         0.5135366333648562,
         0.49045102801173923
        ],
        [
         9.876495193690062,
         9.690295103937387,
         9.519923996180296,
         9.277753617614508,
         9.595984864979982,
         9.867581564933062,
         9.850607715547085,
         9.621861014515162,
         10.286821659654379,
         9.667011138051748,
         9.756877169013023,
         9.781208749860525,
         9.526020135730505,
         10.070672627538443,
         9.566679287701845,
         9.263419400900602,
         9.681515630334616,
         9.71210378035903,
         9.239723395556211,
         9.938020747154951,
         9.844919096678495,
         9.70176637545228,
         9.484446655958891,
         9.73826851323247,
         9.409754615277052,
         9.724436718970537,
         9.629160668700933,
         9.772126775234938,
         10.036206286400557,
         9.821900941431522,
         9.839497309178114,
         9.445260975509882,
         9.525638565421104,
         9.181997649371624,
         9.820850815623999,
         10.139885175973177,
         9.52117856964469,
         10.16367456689477,
         9.241988580673933,
         9.790267307311296,
         9.554720345884562,
         9.309647981077433,
         9.585677307099104,
         9.890829559415579,
         9.795205194503069,
         10.008988607674837,
         9.844995364546776,
         9.650205437093973,
         10.328635323792696,
         9.143425580114126,
         9.769366424530745,
         10.21146908774972,
         9.612128298729658,
         9.4966348297894,
         10.48323555663228,
         9.814812026917934,
         10.106591116636992,
         10.09856716915965,
         9.55292945727706,
         9.789758171886206,
         9.024474032223225,
         9.276098202914,
         9.475953992456198,
         11.1781389079988,
         9.577521476894617,
         9.776946317404509,
         9.396384324878454,
         9.148384381085634,
         9.269392725080252,
         9.555623907595873,
         9.570752073079348,
         9.40424358472228,
         9.811739731580019,
         9.691803403198719,
         9.501071508973837,
         9.505347702652216,
         9.856621097773314,
         9.936668261885643,
         10.358160853385925,
         10.027719009667635,
         8.791309412568808,
         9.752371784299612,
         9.907050546258688,
         10.017992917448282,
         9.140377815812826,
         9.867826651781797,
         10.50938006862998,
         10.01229415461421,
         9.126882325857878,
         9.776394959539175,
         9.453674655407667,
         9.55605897679925,
         10.139734651893377,
         9.78844415023923,
         9.968643225729465,
         10.079648900777102,
         9.932792592793703,
         9.77996988222003,
         10.270732667297125,
         9.809020560234785
        ],
        [
         2.702794700099414,
         2.5936166891235435,
         2.6122023321105585,
         2.61259537459385,
         2.6465500846217145,
         2.6381174696274723,
         2.715129003958558,
         2.615248428422075,
         3.010221441329661,
         2.587046297426963,
         2.5828925503607154,
         2.62113921422643,
         2.637518914080105,
         2.6964178165138355,
         2.61118524275406,
         2.476807639751967,
         2.582131676420344,
         2.5953622402696372,
         2.5497656582662174,
         2.6755544692831643,
         2.6597511275481476,
         2.607403037538532,
         2.6093162111182138,
         2.6121870491282086,
         2.498722821810062,
         2.7778716269352812,
         2.558171738147357,
         2.6759542975941755,
         2.6975741622978893,
         2.6298040110275847,
         2.6301917994266804,
         2.5567986561308076,
         2.54916458717763,
         2.4988936087533395,
         2.8606411380958865,
         2.8854306514037322,
         2.6508552564870183,
         2.7835759118276218,
         2.517294711017713,
         2.694789338585157,
         2.6626231400696287,
         2.5617134770659584,
         2.562023531605153,
         2.6475611604363856,
         2.6436010369384726,
         2.6989840038166277,
         2.640749764756524,
         2.6391380863815703,
         2.862701702282789,
         2.5175890996833603,
         2.6253853960760023,
         2.9267371815648815,
         2.5486907142290764,
         2.576126839278648,
         3.061287368825112,
         2.6014870518382747,
         2.920820870513958,
         2.7085385567621936,
         2.613322285120553,
         2.630195352821407,
         2.5152736702183702,
         2.5211704919326916,
         2.611558958467864,
         3.1375424186397853,
         2.5524463822184975,
         2.639694849336225,
         2.6325417675655416,
         2.525670201990109,
         2.575464199097951,
         2.592307538886297,
         2.626871576191019,
         2.6041204263135174,
         2.7407289523215455,
         2.705692890225234,
         2.592541177541389,
         2.5145432640422767,
         2.671672394170437,
         2.698545883323897,
         3.009952064632334,
         2.8734382118495168,
         2.3732430490974283,
         2.613935692460223,
         2.6810790355367757,
         2.7145635553401974,
         2.497626862796572,
         2.6800877020726355,
         3.013443956884581,
         2.7181003775165156,
         2.415287864652302,
         2.646580124428061,
         2.6308440004469267,
         2.705215489978447,
         2.990458585216172,
         2.6448575343324645,
         2.6929765952277243,
         2.7707680860071173,
         2.6815093664421212,
         2.6855810454867224,
         2.7520858607150975,
         2.6830765296110672
        ]
       ],
       "encoder": "json",
       "name": "ABC_GAN_3 Metrics",
       "version": 1
      }
     },
     "metadata": {
      "scrapbook": {
       "data": true,
       "display": false,
       "name": "ABC_GAN_3 Metrics"
      }
     },
     "output_type": "display_data"
    },
    {
     "name": "stdout",
     "output_type": "stream",
     "text": [
      "MSE\n",
      "0.35548733438633734\n"
     ]
    }
   ],
   "source": [
    "ABC_GAN3_metrics=ABC_train_test2.test_generator(gen3,test_data,prior_model,variance,bias,\"3\",device)\n",
    "sb.glue(\"ABC_GAN_3 Metrics\",ABC_GAN3_metrics)\n",
    "\n",
    "print(\"MSE\")\n",
    "print(mean(ABC_GAN3_metrics[0]))"
   ]
  },
  {
   "cell_type": "code",
   "execution_count": 18,
   "id": "c8e46b48",
   "metadata": {
    "execution": {
     "iopub.execute_input": "2022-06-22T15:09:16.056983Z",
     "iopub.status.busy": "2022-06-22T15:09:16.056302Z",
     "iopub.status.idle": "2022-06-22T15:09:16.790256Z",
     "shell.execute_reply": "2022-06-22T15:09:16.790707Z"
    },
    "id": "c8e46b48",
    "papermill": {
     "duration": 0.798769,
     "end_time": "2022-06-22T15:09:16.790911",
     "exception": false,
     "start_time": "2022-06-22T15:09:15.992142",
     "status": "completed"
    },
    "tags": []
   },
   "outputs": [
    {
     "data": {
      "image/png": "[encoded data removed]",
      "text/plain": [
       "<Figure size 432x288 with 1 Axes>"
      ]
     },
     "metadata": {
      "needs_background": "light"
     },
     "output_type": "display_data"
    },
    {
     "data": {
      "image/png": "[encoded data removed]",
      "text/plain": [
       "<Figure size 432x288 with 1 Axes>"
      ]
     },
     "metadata": {
      "needs_background": "light"
     },
     "output_type": "display_data"
    },
    {
     "data": {
      "image/png": "[encoded data removed]",
      "text/plain": [
       "<Figure size 432x288 with 1 Axes>"
      ]
     },
     "metadata": {
      "needs_background": "light"
     },
     "output_type": "display_data"
    },
    {
     "data": {
      "image/png": "[encoded data removed]",
      "text/plain": [
       "<Figure size 432x288 with 1 Axes>"
      ]
     },
     "metadata": {
      "needs_background": "light"
     },
     "output_type": "display_data"
    }
   ],
   "source": [
    "sanityChecks.discProbVsError(train_data,disc3,device)\n",
    "sanityChecks.discProbVsError(test_data,disc3,device)"
   ]
  },
  {
   "cell_type": "markdown",
   "id": "a5bd74c3",
   "metadata": {
    "id": "a5bd74c3",
    "papermill": {
     "duration": 0.061452,
     "end_time": "2022-06-22T15:09:16.904713",
     "exception": false,
     "start_time": "2022-06-22T15:09:16.843261",
     "status": "completed"
    },
    "tags": []
   },
   "source": [
    "## Skip Connection Model Analysis - ABC-GAN "
   ]
  },
  {
   "cell_type": "markdown",
   "id": "5744a8bf",
   "metadata": {
    "id": "5744a8bf",
    "papermill": {
     "duration": 0.057309,
     "end_time": "2022-06-22T15:09:17.016406",
     "exception": false,
     "start_time": "2022-06-22T15:09:16.959097",
     "status": "completed"
    },
    "tags": []
   },
   "source": [
    "### Weight Analysis \n",
    "\n",
    "Study the weights of the skip connection layer\n",
    "\n",
    "Equation of the skip connection is \n",
    "\n",
    "$output = y_{gan} * w + y_{abc} * (1-w)$"
   ]
  },
  {
   "cell_type": "code",
   "execution_count": 19,
   "id": "52c31dea",
   "metadata": {
    "execution": {
     "iopub.execute_input": "2022-06-22T15:09:17.126018Z",
     "iopub.status.busy": "2022-06-22T15:09:17.125344Z",
     "iopub.status.idle": "2022-06-22T15:09:17.131646Z",
     "shell.execute_reply": "2022-06-22T15:09:17.132107Z"
    },
    "id": "52c31dea",
    "papermill": {
     "duration": 0.06601,
     "end_time": "2022-06-22T15:09:17.132306",
     "exception": false,
     "start_time": "2022-06-22T15:09:17.066296",
     "status": "completed"
    },
    "tags": []
   },
   "outputs": [
    {
     "name": "stdout",
     "output_type": "stream",
     "text": [
      "Weight of the node at skip connection\n",
      "Parameter containing:\n",
      "tensor([[0.7226]], requires_grad=True)\n"
     ]
    },
    {
     "data": {
      "application/scrapbook.scrap.json+json": {
       "data": 0.7226054668426514,
       "encoder": "json",
       "name": "Skip Connection Weight",
       "version": 1
      }
     },
     "metadata": {
      "scrapbook": {
       "data": true,
       "display": false,
       "name": "Skip Connection Weight"
      }
     },
     "output_type": "display_data"
    }
   ],
   "source": [
    "print(\"Weight of the node at skip connection\")\n",
    "for name,param in gen3.named_parameters():\n",
    "    if(name == \"skipNode.weight\"):\n",
    "        print(param)\n",
    "        sb.glue(\"Skip Connection Weight\",param.item())"
   ]
  }
 ],
 "metadata": {
  "colab": {
   "collapsed_sections": [],
   "name": "ABC_GAN_Model-Catboost_Pre-gen.ipynb",
   "provenance": []
  },
  "interpreter": {
   "hash": "31f2aee4e71d21fbe5cf8b01ff0e069b9275f58929596ceb00d14d90e3e16cd6"
  },
  "kernelspec": {
   "display_name": "Python 3 (ipykernel)",
   "language": "python",
   "name": "python3"
  },
  "language_info": {
   "codemirror_mode": {
    "name": "ipython",
    "version": 3
   },
   "file_extension": ".py",
   "mimetype": "text/x-python",
   "name": "python",
   "nbconvert_exporter": "python",
   "pygments_lexer": "ipython3",
   "version": "3.8.3"
  },
  "papermill": {
   "default_parameters": {},
   "duration": 140.468392,
   "end_time": "2022-06-22T15:09:18.911224",
   "environment_variables": {},
   "exception": null,
   "input_path": "ABC_GAN-TabNet.ipynb",
   "output_path": "./ABC_GAN_TabNet/ABC-GAN_output_7_9.ipynb",
   "parameters": {
    "bias": 0,
    "variance": 1
   },
   "start_time": "2022-06-22T15:06:58.442832",
   "version": "2.3.3"
  }
 },
 "nbformat": 4,
 "nbformat_minor": 5
}