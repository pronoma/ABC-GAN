{
 "cells": [
  {
   "cell_type": "markdown",
   "id": "622780e6",
   "metadata": {
    "id": "622780e6",
    "papermill": {
     "duration": 0.027014,
     "end_time": "2022-06-22T11:37:18.437637",
     "exception": false,
     "start_time": "2022-06-22T11:37:18.410623",
     "status": "completed"
    },
    "tags": []
   },
   "source": [
    "## Import Libraries "
   ]
  },
  {
   "cell_type": "code",
   "execution_count": 1,
   "id": "a62397e3",
   "metadata": {
    "execution": {
     "iopub.execute_input": "2022-06-22T11:37:18.497890Z",
     "iopub.status.busy": "2022-06-22T11:37:18.497024Z",
     "iopub.status.idle": "2022-06-22T11:37:18.508504Z",
     "shell.execute_reply": "2022-06-22T11:37:18.509537Z"
    },
    "id": "a62397e3",
    "papermill": {
     "duration": 0.049882,
     "end_time": "2022-06-22T11:37:18.509940",
     "exception": false,
     "start_time": "2022-06-22T11:37:18.460058",
     "status": "completed"
    },
    "tags": []
   },
   "outputs": [],
   "source": [
    "import warnings\n",
    "import sys\n",
    "sys.path.insert(0, '../../src')\n",
    "warnings.filterwarnings('ignore')"
   ]
  },
  {
   "cell_type": "code",
   "execution_count": 2,
   "id": "d6a4e155",
   "metadata": {
    "execution": {
     "iopub.execute_input": "2022-06-22T11:37:18.571098Z",
     "iopub.status.busy": "2022-06-22T11:37:18.570201Z",
     "iopub.status.idle": "2022-06-22T11:37:25.264261Z",
     "shell.execute_reply": "2022-06-22T11:37:25.265151Z"
    },
    "id": "d6a4e155",
    "papermill": {
     "duration": 6.734482,
     "end_time": "2022-06-22T11:37:25.265410",
     "exception": false,
     "start_time": "2022-06-22T11:37:18.530928",
     "status": "completed"
    },
    "tags": []
   },
   "outputs": [],
   "source": [
    "import ABC_train_test2\n",
    "import friedman3Dataset\n",
    "import network\n",
    "import dataset\n",
    "import sanityChecks\n",
    "import torch \n",
    "import scrapbook as sb\n",
    "from statistics import mean \n",
    "import catboost as ctb \n",
    "from sklearn.model_selection import train_test_split\n",
    "from sklearn.metrics import mean_squared_error,mean_absolute_error\n",
    "import numpy as np\n",
    "from pytorch_tabnet.tab_model import TabNetRegressor"
   ]
  },
  {
   "cell_type": "markdown",
   "id": "2fa5b0f7",
   "metadata": {
    "id": "2fa5b0f7",
    "papermill": {
     "duration": 0.034436,
     "end_time": "2022-06-22T11:37:25.320504",
     "exception": false,
     "start_time": "2022-06-22T11:37:25.286068",
     "status": "completed"
    },
    "tags": []
   },
   "source": [
    "## Parameters "
   ]
  },
  {
   "cell_type": "code",
   "execution_count": 3,
   "id": "783186fb",
   "metadata": {
    "execution": {
     "iopub.execute_input": "2022-06-22T11:37:25.369468Z",
     "iopub.status.busy": "2022-06-22T11:37:25.368311Z",
     "iopub.status.idle": "2022-06-22T11:37:25.370795Z",
     "shell.execute_reply": "2022-06-22T11:37:25.370252Z"
    },
    "id": "783186fb",
    "papermill": {
     "duration": 0.029624,
     "end_time": "2022-06-22T11:37:25.371000",
     "exception": false,
     "start_time": "2022-06-22T11:37:25.341376",
     "status": "completed"
    },
    "tags": [
     "parameters"
    ]
   },
   "outputs": [],
   "source": [
    "variance = 1\n",
    "bias = 1 "
   ]
  },
  {
   "cell_type": "code",
   "execution_count": 4,
   "id": "e9c1d7a8",
   "metadata": {
    "execution": {
     "iopub.execute_input": "2022-06-22T11:37:25.415036Z",
     "iopub.status.busy": "2022-06-22T11:37:25.414189Z",
     "iopub.status.idle": "2022-06-22T11:37:25.417439Z",
     "shell.execute_reply": "2022-06-22T11:37:25.418539Z"
    },
    "papermill": {
     "duration": 0.031817,
     "end_time": "2022-06-22T11:37:25.419200",
     "exception": false,
     "start_time": "2022-06-22T11:37:25.387383",
     "status": "completed"
    },
    "tags": [
     "injected-parameters"
    ]
   },
   "outputs": [],
   "source": [
    "# Parameters\n",
    "variance = 0.01\n",
    "bias = 0.1\n"
   ]
  },
  {
   "cell_type": "markdown",
   "id": "391cdbfd",
   "metadata": {
    "id": "391cdbfd",
    "papermill": {
     "duration": 0.018517,
     "end_time": "2022-06-22T11:37:25.454165",
     "exception": false,
     "start_time": "2022-06-22T11:37:25.435648",
     "status": "completed"
    },
    "tags": []
   },
   "source": [
    "## Dataset \n"
   ]
  },
  {
   "cell_type": "code",
   "execution_count": 5,
   "id": "5b51f161",
   "metadata": {
    "execution": {
     "iopub.execute_input": "2022-06-22T11:37:25.503597Z",
     "iopub.status.busy": "2022-06-22T11:37:25.496710Z",
     "iopub.status.idle": "2022-06-22T11:37:25.505350Z",
     "shell.execute_reply": "2022-06-22T11:37:25.504520Z"
    },
    "id": "5b51f161",
    "papermill": {
     "duration": 0.03586,
     "end_time": "2022-06-22T11:37:25.505619",
     "exception": false,
     "start_time": "2022-06-22T11:37:25.469759",
     "status": "completed"
    },
    "tags": []
   },
   "outputs": [],
   "source": [
    "#Parameters \n",
    "n_features = 4\n",
    "n_samples= 100\n",
    "n_target = 1"
   ]
  },
  {
   "cell_type": "code",
   "execution_count": 6,
   "id": "5d6eced4",
   "metadata": {
    "execution": {
     "iopub.execute_input": "2022-06-22T11:37:25.575662Z",
     "iopub.status.busy": "2022-06-22T11:37:25.571600Z",
     "iopub.status.idle": "2022-06-22T11:37:25.589431Z",
     "shell.execute_reply": "2022-06-22T11:37:25.590171Z"
    },
    "id": "5d6eced4",
    "papermill": {
     "duration": 0.057261,
     "end_time": "2022-06-22T11:37:25.590577",
     "exception": false,
     "start_time": "2022-06-22T11:37:25.533316",
     "status": "completed"
    },
    "tags": []
   },
   "outputs": [
    {
     "name": "stdout",
     "output_type": "stream",
     "text": [
      "          X1           X2        X3        X4         Y\n",
      "0  54.906697  1256.412269  0.669734  3.085696  1.500210\n",
      "1  30.628215   675.472854  0.945875  5.344975  1.414458\n",
      "2  49.635201   679.777278  0.970475  6.319462  1.698602\n",
      "3  12.523163  1670.907861  0.204251  3.862730  1.664816\n",
      "4  62.746737   745.622747  0.538216  9.752551  1.358014\n"
     ]
    }
   ],
   "source": [
    "X,Y = friedman3Dataset.friedman3_data(n_samples)"
   ]
  },
  {
   "cell_type": "code",
   "execution_count": 7,
   "id": "fe007438",
   "metadata": {
    "execution": {
     "iopub.execute_input": "2022-06-22T11:37:25.646296Z",
     "iopub.status.busy": "2022-06-22T11:37:25.644920Z",
     "iopub.status.idle": "2022-06-22T11:37:25.647567Z",
     "shell.execute_reply": "2022-06-22T11:37:25.648230Z"
    },
    "id": "fe007438",
    "papermill": {
     "duration": 0.029306,
     "end_time": "2022-06-22T11:37:25.648586",
     "exception": false,
     "start_time": "2022-06-22T11:37:25.619280",
     "status": "completed"
    },
    "tags": []
   },
   "outputs": [],
   "source": [
    "#Train test split for dataset \n",
    "X_train,X_test,Y_train,Y_test = train_test_split(X,Y,test_size = 0.2)\n",
    "train_data = dataset.CustomDataset(X_train,Y_train)\n",
    "test_data = dataset.CustomDataset(X_test,Y_test)\n"
   ]
  },
  {
   "cell_type": "markdown",
   "id": "a9a1af34",
   "metadata": {
    "id": "a9a1af34",
    "papermill": {
     "duration": 0.021563,
     "end_time": "2022-06-22T11:37:25.687622",
     "exception": false,
     "start_time": "2022-06-22T11:37:25.666059",
     "status": "completed"
    },
    "tags": []
   },
   "source": [
    "## Training Parameters "
   ]
  },
  {
   "cell_type": "code",
   "execution_count": 8,
   "id": "952b7fc8",
   "metadata": {
    "execution": {
     "iopub.execute_input": "2022-06-22T11:37:25.732113Z",
     "iopub.status.busy": "2022-06-22T11:37:25.731028Z",
     "iopub.status.idle": "2022-06-22T11:37:25.735944Z",
     "shell.execute_reply": "2022-06-22T11:37:25.736643Z"
    },
    "id": "952b7fc8",
    "papermill": {
     "duration": 0.029223,
     "end_time": "2022-06-22T11:37:25.737357",
     "exception": false,
     "start_time": "2022-06-22T11:37:25.708134",
     "status": "completed"
    },
    "tags": []
   },
   "outputs": [],
   "source": [
    "batch_size = 32\n",
    "n_epochs = 1000\n",
    "#Select the device \n",
    "device = torch.device('cuda' if torch.cuda.is_available() else 'cpu')"
   ]
  },
  {
   "cell_type": "markdown",
   "id": "a95e1600",
   "metadata": {
    "id": "a95e1600",
    "papermill": {
     "duration": 0.01611,
     "end_time": "2022-06-22T11:37:25.770832",
     "exception": false,
     "start_time": "2022-06-22T11:37:25.754722",
     "status": "completed"
    },
    "tags": []
   },
   "source": [
    "# ABC Pre-generator Model \n",
    "\n",
    "1. The catboost model is used as a pre-generator model for the ABC-GAN. \n",
    "2. The model is first trained on the entire dataset \n",
    "3. It generats X,Y pairs and we add some Gaussian noise with mean 0 and variance 1 to it which is then feed as input to the generator.\n"
   ]
  },
  {
   "cell_type": "code",
   "execution_count": 9,
   "id": "ff8ce7bd",
   "metadata": {
    "execution": {
     "iopub.execute_input": "2022-06-22T11:37:25.819843Z",
     "iopub.status.busy": "2022-06-22T11:37:25.815144Z",
     "iopub.status.idle": "2022-06-22T11:37:39.370465Z",
     "shell.execute_reply": "2022-06-22T11:37:39.371921Z"
    },
    "id": "ff8ce7bd",
    "papermill": {
     "duration": 13.584516,
     "end_time": "2022-06-22T11:37:39.372217",
     "exception": false,
     "start_time": "2022-06-22T11:37:25.787701",
     "status": "completed"
    },
    "tags": []
   },
   "outputs": [
    {
     "name": "stdout",
     "output_type": "stream",
     "text": [
      "Device used : cpu\n"
     ]
    },
    {
     "name": "stdout",
     "output_type": "stream",
     "text": [
      "epoch 0  | loss: 1.11295 | train_mse: 2.48108 | train_mae: 1.25507 |  0:00:00s\n",
      "epoch 1  | loss: 0.92634 | train_mse: 2.49187 | train_mae: 1.15153 |  0:00:00s\n",
      "epoch 2  | loss: 0.58452 | train_mse: 6.60324 | train_mae: 1.69642 |  0:00:00s\n"
     ]
    },
    {
     "name": "stdout",
     "output_type": "stream",
     "text": [
      "epoch 3  | loss: 0.76726 | train_mse: 3.87105 | train_mae: 1.38047 |  0:00:00s\n",
      "epoch 4  | loss: 0.74012 | train_mse: 2.35145 | train_mae: 1.12511 |  0:00:00s\n",
      "epoch 5  | loss: 0.53748 | train_mse: 2.47924 | train_mae: 1.05282 |  0:00:00s\n"
     ]
    },
    {
     "name": "stdout",
     "output_type": "stream",
     "text": [
      "epoch 6  | loss: 0.4437  | train_mse: 3.01998 | train_mae: 1.17138 |  0:00:00s\n",
      "epoch 7  | loss: 0.53369 | train_mse: 2.45262 | train_mae: 1.13612 |  0:00:00s\n",
      "epoch 8  | loss: 0.37447 | train_mse: 2.23574 | train_mae: 1.14667 |  0:00:00s\n"
     ]
    },
    {
     "name": "stdout",
     "output_type": "stream",
     "text": [
      "epoch 9  | loss: 0.32585 | train_mse: 1.70561 | train_mae: 1.00099 |  0:00:00s\n",
      "epoch 10 | loss: 0.2551  | train_mse: 1.34288 | train_mae: 0.86973 |  0:00:01s\n",
      "epoch 11 | loss: 0.29233 | train_mse: 1.37537 | train_mae: 0.85831 |  0:00:01s\n"
     ]
    },
    {
     "name": "stdout",
     "output_type": "stream",
     "text": [
      "epoch 12 | loss: 0.34823 | train_mse: 1.53875 | train_mae: 0.8673  |  0:00:01s\n",
      "epoch 13 | loss: 0.49068 | train_mse: 1.85991 | train_mae: 0.91855 |  0:00:01s\n",
      "epoch 14 | loss: 0.2915  | train_mse: 1.66292 | train_mae: 0.83074 |  0:00:01s\n"
     ]
    },
    {
     "name": "stdout",
     "output_type": "stream",
     "text": [
      "epoch 15 | loss: 0.38025 | train_mse: 1.63121 | train_mae: 0.80489 |  0:00:01s\n",
      "epoch 16 | loss: 0.32215 | train_mse: 1.86805 | train_mae: 0.89607 |  0:00:01s\n",
      "epoch 17 | loss: 0.2876  | train_mse: 1.46897 | train_mae: 0.85967 |  0:00:01s\n"
     ]
    },
    {
     "name": "stdout",
     "output_type": "stream",
     "text": [
      "epoch 18 | loss: 0.53278 | train_mse: 0.99921 | train_mae: 0.74624 |  0:00:01s\n",
      "epoch 19 | loss: 0.2994  | train_mse: 0.98159 | train_mae: 0.75429 |  0:00:01s\n",
      "epoch 20 | loss: 0.24992 | train_mse: 0.91881 | train_mae: 0.71334 |  0:00:01s\n"
     ]
    },
    {
     "name": "stdout",
     "output_type": "stream",
     "text": [
      "epoch 21 | loss: 0.22545 | train_mse: 0.84153 | train_mae: 0.62745 |  0:00:01s\n",
      "epoch 22 | loss: 0.17921 | train_mse: 0.65645 | train_mae: 0.57638 |  0:00:02s\n",
      "epoch 23 | loss: 0.37983 | train_mse: 0.42307 | train_mae: 0.48309 |  0:00:02s\n"
     ]
    },
    {
     "name": "stdout",
     "output_type": "stream",
     "text": [
      "epoch 24 | loss: 0.26402 | train_mse: 0.41041 | train_mae: 0.47466 |  0:00:02s\n",
      "epoch 25 | loss: 0.20649 | train_mse: 0.26998 | train_mae: 0.39889 |  0:00:02s\n",
      "epoch 26 | loss: 0.30311 | train_mse: 0.28289 | train_mae: 0.39172 |  0:00:02s\n"
     ]
    },
    {
     "name": "stdout",
     "output_type": "stream",
     "text": [
      "epoch 27 | loss: 0.25351 | train_mse: 0.28378 | train_mae: 0.38465 |  0:00:02s\n",
      "epoch 28 | loss: 0.19187 | train_mse: 0.30883 | train_mae: 0.40027 |  0:00:02s\n",
      "epoch 29 | loss: 0.20844 | train_mse: 0.26449 | train_mae: 0.36702 |  0:00:02s\n"
     ]
    },
    {
     "name": "stdout",
     "output_type": "stream",
     "text": [
      "epoch 30 | loss: 0.33116 | train_mse: 0.17457 | train_mae: 0.31339 |  0:00:02s\n",
      "epoch 31 | loss: 0.34109 | train_mse: 0.16646 | train_mae: 0.3161  |  0:00:02s\n",
      "epoch 32 | loss: 0.23876 | train_mse: 0.18407 | train_mae: 0.33356 |  0:00:02s\n"
     ]
    },
    {
     "name": "stdout",
     "output_type": "stream",
     "text": [
      "epoch 33 | loss: 0.18843 | train_mse: 0.19408 | train_mae: 0.3286  |  0:00:03s\n",
      "epoch 34 | loss: 0.22933 | train_mse: 0.28858 | train_mae: 0.38199 |  0:00:03s\n"
     ]
    },
    {
     "name": "stdout",
     "output_type": "stream",
     "text": [
      "epoch 35 | loss: 0.31945 | train_mse: 0.24354 | train_mae: 0.34587 |  0:00:03s\n",
      "epoch 36 | loss: 0.21407 | train_mse: 0.18296 | train_mae: 0.29695 |  0:00:03s\n",
      "epoch 37 | loss: 0.35672 | train_mse: 0.20675 | train_mae: 0.33348 |  0:00:03s\n"
     ]
    },
    {
     "name": "stdout",
     "output_type": "stream",
     "text": [
      "epoch 38 | loss: 0.19056 | train_mse: 0.17652 | train_mae: 0.30422 |  0:00:03s\n",
      "epoch 39 | loss: 0.24919 | train_mse: 0.17509 | train_mae: 0.31338 |  0:00:03s\n"
     ]
    },
    {
     "name": "stdout",
     "output_type": "stream",
     "text": [
      "epoch 40 | loss: 0.15999 | train_mse: 0.20583 | train_mae: 0.32752 |  0:00:03s\n",
      "epoch 41 | loss: 0.27744 | train_mse: 0.23743 | train_mae: 0.36111 |  0:00:03s\n"
     ]
    },
    {
     "name": "stdout",
     "output_type": "stream",
     "text": [
      "epoch 42 | loss: 0.26932 | train_mse: 0.24242 | train_mae: 0.35647 |  0:00:04s\n",
      "epoch 43 | loss: 0.1571  | train_mse: 0.20477 | train_mae: 0.32329 |  0:00:04s\n",
      "epoch 44 | loss: 0.14562 | train_mse: 0.12922 | train_mae: 0.27679 |  0:00:04s\n"
     ]
    },
    {
     "name": "stdout",
     "output_type": "stream",
     "text": [
      "epoch 45 | loss: 0.24166 | train_mse: 0.0955  | train_mae: 0.24257 |  0:00:04s\n",
      "epoch 46 | loss: 0.18547 | train_mse: 0.11226 | train_mae: 0.26127 |  0:00:04s\n",
      "epoch 47 | loss: 0.18377 | train_mse: 0.1108  | train_mae: 0.25476 |  0:00:04s\n"
     ]
    },
    {
     "name": "stdout",
     "output_type": "stream",
     "text": [
      "epoch 48 | loss: 0.08726 | train_mse: 0.11118 | train_mae: 0.24573 |  0:00:04s\n",
      "epoch 49 | loss: 0.25222 | train_mse: 0.10241 | train_mae: 0.23739 |  0:00:04s\n",
      "epoch 50 | loss: 0.24649 | train_mse: 0.09236 | train_mae: 0.23302 |  0:00:04s\n"
     ]
    },
    {
     "name": "stdout",
     "output_type": "stream",
     "text": [
      "epoch 51 | loss: 0.15148 | train_mse: 0.10709 | train_mae: 0.25073 |  0:00:04s\n",
      "epoch 52 | loss: 0.23257 | train_mse: 0.15284 | train_mae: 0.30186 |  0:00:04s\n",
      "epoch 53 | loss: 0.10849 | train_mse: 0.10898 | train_mae: 0.25032 |  0:00:04s\n"
     ]
    },
    {
     "name": "stdout",
     "output_type": "stream",
     "text": [
      "epoch 54 | loss: 0.16623 | train_mse: 0.09294 | train_mae: 0.23005 |  0:00:05s\n",
      "epoch 55 | loss: 0.14441 | train_mse: 0.08575 | train_mae: 0.22893 |  0:00:05s\n",
      "epoch 56 | loss: 0.13368 | train_mse: 0.09123 | train_mae: 0.23385 |  0:00:05s\n"
     ]
    },
    {
     "name": "stdout",
     "output_type": "stream",
     "text": [
      "epoch 57 | loss: 0.12649 | train_mse: 0.09024 | train_mae: 0.23145 |  0:00:05s\n",
      "epoch 58 | loss: 0.12567 | train_mse: 0.09358 | train_mae: 0.23297 |  0:00:05s\n",
      "epoch 59 | loss: 0.123   | train_mse: 0.0951  | train_mae: 0.2316  |  0:00:05s\n"
     ]
    },
    {
     "name": "stdout",
     "output_type": "stream",
     "text": [
      "epoch 60 | loss: 0.16924 | train_mse: 0.08458 | train_mae: 0.22425 |  0:00:05s\n",
      "epoch 61 | loss: 0.3033  | train_mse: 0.14996 | train_mae: 0.28595 |  0:00:05s\n",
      "epoch 62 | loss: 0.10558 | train_mse: 0.11375 | train_mae: 0.2488  |  0:00:05s\n"
     ]
    },
    {
     "name": "stdout",
     "output_type": "stream",
     "text": [
      "epoch 63 | loss: 0.11044 | train_mse: 0.07149 | train_mae: 0.2003  |  0:00:05s\n",
      "epoch 64 | loss: 0.15306 | train_mse: 0.05767 | train_mae: 0.18669 |  0:00:05s\n",
      "epoch 65 | loss: 0.11499 | train_mse: 0.05367 | train_mae: 0.18662 |  0:00:05s\n"
     ]
    },
    {
     "name": "stdout",
     "output_type": "stream",
     "text": [
      "epoch 66 | loss: 0.08789 | train_mse: 0.06032 | train_mae: 0.19524 |  0:00:06s\n",
      "epoch 67 | loss: 0.14446 | train_mse: 0.06152 | train_mae: 0.19872 |  0:00:06s\n",
      "epoch 68 | loss: 0.21067 | train_mse: 0.06434 | train_mae: 0.20557 |  0:00:06s\n"
     ]
    },
    {
     "name": "stdout",
     "output_type": "stream",
     "text": [
      "epoch 69 | loss: 0.14239 | train_mse: 0.06319 | train_mae: 0.19616 |  0:00:06s\n",
      "epoch 70 | loss: 0.0702  | train_mse: 0.04763 | train_mae: 0.17192 |  0:00:06s\n",
      "epoch 71 | loss: 0.11385 | train_mse: 0.04383 | train_mae: 0.1686  |  0:00:06s\n"
     ]
    },
    {
     "name": "stdout",
     "output_type": "stream",
     "text": [
      "epoch 72 | loss: 0.13881 | train_mse: 0.04588 | train_mae: 0.17417 |  0:00:06s\n",
      "epoch 73 | loss: 0.14065 | train_mse: 0.067   | train_mae: 0.19779 |  0:00:06s\n",
      "epoch 74 | loss: 0.09498 | train_mse: 0.07351 | train_mae: 0.20982 |  0:00:06s\n"
     ]
    },
    {
     "name": "stdout",
     "output_type": "stream",
     "text": [
      "epoch 75 | loss: 0.15281 | train_mse: 0.05939 | train_mae: 0.18919 |  0:00:06s\n",
      "epoch 76 | loss: 0.07993 | train_mse: 0.07409 | train_mae: 0.20652 |  0:00:06s\n",
      "epoch 77 | loss: 0.19464 | train_mse: 0.117   | train_mae: 0.24877 |  0:00:07s\n"
     ]
    },
    {
     "name": "stdout",
     "output_type": "stream",
     "text": [
      "epoch 78 | loss: 0.09138 | train_mse: 0.11183 | train_mae: 0.24098 |  0:00:07s\n",
      "epoch 79 | loss: 0.0735  | train_mse: 0.08784 | train_mae: 0.22027 |  0:00:07s\n",
      "epoch 80 | loss: 0.13223 | train_mse: 0.06901 | train_mae: 0.20375 |  0:00:07s\n"
     ]
    },
    {
     "name": "stdout",
     "output_type": "stream",
     "text": [
      "epoch 81 | loss: 0.07705 | train_mse: 0.10458 | train_mae: 0.22932 |  0:00:07s\n",
      "epoch 82 | loss: 0.14347 | train_mse: 0.15315 | train_mae: 0.26516 |  0:00:07s\n",
      "epoch 83 | loss: 0.1284  | train_mse: 0.13339 | train_mae: 0.24783 |  0:00:07s\n"
     ]
    },
    {
     "name": "stdout",
     "output_type": "stream",
     "text": [
      "epoch 84 | loss: 0.18207 | train_mse: 0.13112 | train_mae: 0.256   |  0:00:07s\n",
      "epoch 85 | loss: 0.13799 | train_mse: 0.0902  | train_mae: 0.21908 |  0:00:07s\n",
      "epoch 86 | loss: 0.17634 | train_mse: 0.11755 | train_mae: 0.23571 |  0:00:07s\n"
     ]
    },
    {
     "name": "stdout",
     "output_type": "stream",
     "text": [
      "epoch 87 | loss: 0.1693  | train_mse: 0.18767 | train_mae: 0.27865 |  0:00:07s\n",
      "epoch 88 | loss: 0.08212 | train_mse: 0.17359 | train_mae: 0.27731 |  0:00:07s\n",
      "epoch 89 | loss: 0.1428  | train_mse: 0.13773 | train_mae: 0.26717 |  0:00:08s\n"
     ]
    },
    {
     "name": "stdout",
     "output_type": "stream",
     "text": [
      "epoch 90 | loss: 0.13471 | train_mse: 0.15898 | train_mae: 0.27894 |  0:00:08s\n",
      "epoch 91 | loss: 0.13233 | train_mse: 0.13266 | train_mae: 0.26468 |  0:00:08s\n",
      "epoch 92 | loss: 0.16284 | train_mse: 0.10197 | train_mae: 0.23181 |  0:00:08s\n"
     ]
    },
    {
     "name": "stdout",
     "output_type": "stream",
     "text": [
      "epoch 93 | loss: 0.08791 | train_mse: 0.09561 | train_mae: 0.22084 |  0:00:08s\n",
      "epoch 94 | loss: 0.11807 | train_mse: 0.09332 | train_mae: 0.22335 |  0:00:08s\n",
      "epoch 95 | loss: 0.12268 | train_mse: 0.07062 | train_mae: 0.20298 |  0:00:08s\n"
     ]
    },
    {
     "name": "stdout",
     "output_type": "stream",
     "text": [
      "epoch 96 | loss: 0.0927  | train_mse: 0.09064 | train_mae: 0.21837 |  0:00:08s\n",
      "epoch 97 | loss: 0.10016 | train_mse: 0.16475 | train_mae: 0.25971 |  0:00:08s\n",
      "epoch 98 | loss: 0.08529 | train_mse: 0.19696 | train_mae: 0.28811 |  0:00:08s\n"
     ]
    },
    {
     "name": "stdout",
     "output_type": "stream",
     "text": [
      "epoch 99 | loss: 0.07379 | train_mse: 0.22433 | train_mae: 0.32383 |  0:00:08s\n",
      "epoch 100| loss: 0.07788 | train_mse: 0.17472 | train_mae: 0.29381 |  0:00:08s\n",
      "epoch 101| loss: 0.35399 | train_mse: 0.09748 | train_mae: 0.23311 |  0:00:09s\n"
     ]
    },
    {
     "name": "stdout",
     "output_type": "stream",
     "text": [
      "epoch 102| loss: 0.14335 | train_mse: 0.04855 | train_mae: 0.1744  |  0:00:09s\n",
      "epoch 103| loss: 0.13721 | train_mse: 0.04482 | train_mae: 0.16153 |  0:00:09s\n",
      "epoch 104| loss: 0.12322 | train_mse: 0.06567 | train_mae: 0.19065 |  0:00:09s\n"
     ]
    },
    {
     "name": "stdout",
     "output_type": "stream",
     "text": [
      "epoch 105| loss: 0.09949 | train_mse: 0.07711 | train_mae: 0.20772 |  0:00:09s\n",
      "epoch 106| loss: 0.13827 | train_mse: 0.09054 | train_mae: 0.21758 |  0:00:09s\n",
      "epoch 107| loss: 0.07433 | train_mse: 0.08701 | train_mae: 0.20835 |  0:00:09s\n"
     ]
    },
    {
     "name": "stdout",
     "output_type": "stream",
     "text": [
      "epoch 108| loss: 0.13998 | train_mse: 0.07936 | train_mae: 0.20029 |  0:00:09s\n",
      "epoch 109| loss: 0.08941 | train_mse: 0.0887  | train_mae: 0.20884 |  0:00:09s\n"
     ]
    },
    {
     "name": "stdout",
     "output_type": "stream",
     "text": [
      "epoch 110| loss: 0.09272 | train_mse: 0.08942 | train_mae: 0.2096  |  0:00:09s\n",
      "epoch 111| loss: 0.11029 | train_mse: 0.07528 | train_mae: 0.19398 |  0:00:09s\n",
      "epoch 112| loss: 0.14541 | train_mse: 0.05404 | train_mae: 0.17311 |  0:00:09s\n"
     ]
    },
    {
     "name": "stdout",
     "output_type": "stream",
     "text": [
      "epoch 113| loss: 0.15629 | train_mse: 0.05134 | train_mae: 0.16962 |  0:00:10s\n",
      "epoch 114| loss: 0.20398 | train_mse: 0.0546  | train_mae: 0.17574 |  0:00:10s\n",
      "epoch 115| loss: 0.17677 | train_mse: 0.06176 | train_mae: 0.19178 |  0:00:10s\n"
     ]
    },
    {
     "name": "stdout",
     "output_type": "stream",
     "text": [
      "epoch 116| loss: 0.08777 | train_mse: 0.07228 | train_mae: 0.20107 |  0:00:10s\n",
      "epoch 117| loss: 0.06376 | train_mse: 0.0939  | train_mae: 0.20894 |  0:00:10s\n",
      "epoch 118| loss: 0.08131 | train_mse: 0.11715 | train_mae: 0.22709 |  0:00:10s\n"
     ]
    },
    {
     "name": "stdout",
     "output_type": "stream",
     "text": [
      "epoch 119| loss: 0.12247 | train_mse: 0.1578  | train_mae: 0.26258 |  0:00:10s\n",
      "epoch 120| loss: 0.10186 | train_mse: 0.21937 | train_mae: 0.29812 |  0:00:10s\n",
      "epoch 121| loss: 0.08603 | train_mse: 0.24049 | train_mae: 0.29372 |  0:00:10s\n"
     ]
    },
    {
     "name": "stdout",
     "output_type": "stream",
     "text": [
      "epoch 122| loss: 0.07556 | train_mse: 0.25454 | train_mae: 0.30574 |  0:00:10s\n",
      "epoch 123| loss: 0.08006 | train_mse: 0.25064 | train_mae: 0.29332 |  0:00:10s\n",
      "epoch 124| loss: 0.12747 | train_mse: 0.24782 | train_mae: 0.29247 |  0:00:10s\n"
     ]
    },
    {
     "name": "stdout",
     "output_type": "stream",
     "text": [
      "epoch 125| loss: 0.20175 | train_mse: 0.24252 | train_mae: 0.30608 |  0:00:11s\n",
      "epoch 126| loss: 0.06667 | train_mse: 0.19241 | train_mae: 0.26359 |  0:00:11s\n",
      "epoch 127| loss: 0.08841 | train_mse: 0.18325 | train_mae: 0.26045 |  0:00:11s\n"
     ]
    },
    {
     "name": "stdout",
     "output_type": "stream",
     "text": [
      "epoch 128| loss: 0.18983 | train_mse: 0.16758 | train_mae: 0.25518 |  0:00:11s\n",
      "epoch 129| loss: 0.14819 | train_mse: 0.12064 | train_mae: 0.23347 |  0:00:11s\n",
      "epoch 130| loss: 0.0977  | train_mse: 0.10795 | train_mae: 0.25447 |  0:00:11s\n"
     ]
    },
    {
     "name": "stdout",
     "output_type": "stream",
     "text": [
      "epoch 131| loss: 0.09651 | train_mse: 0.1109  | train_mae: 0.25851 |  0:00:11s\n",
      "epoch 132| loss: 0.16221 | train_mse: 0.10348 | train_mae: 0.25403 |  0:00:11s\n",
      "epoch 133| loss: 0.09387 | train_mse: 0.14659 | train_mae: 0.2902  |  0:00:11s\n"
     ]
    },
    {
     "name": "stdout",
     "output_type": "stream",
     "text": [
      "epoch 134| loss: 0.2014  | train_mse: 0.13268 | train_mae: 0.28045 |  0:00:11s\n",
      "epoch 135| loss: 0.08578 | train_mse: 0.10808 | train_mae: 0.24999 |  0:00:11s\n",
      "epoch 136| loss: 0.07537 | train_mse: 0.09518 | train_mae: 0.22783 |  0:00:11s\n"
     ]
    },
    {
     "name": "stdout",
     "output_type": "stream",
     "text": [
      "epoch 137| loss: 0.13251 | train_mse: 0.09167 | train_mae: 0.23083 |  0:00:11s\n",
      "epoch 138| loss: 0.13338 | train_mse: 0.08466 | train_mae: 0.22395 |  0:00:12s\n",
      "epoch 139| loss: 0.09094 | train_mse: 0.09001 | train_mae: 0.22569 |  0:00:12s\n"
     ]
    },
    {
     "name": "stdout",
     "output_type": "stream",
     "text": [
      "epoch 140| loss: 0.17027 | train_mse: 0.07969 | train_mae: 0.21706 |  0:00:12s\n",
      "epoch 141| loss: 0.08474 | train_mse: 0.0786  | train_mae: 0.2145  |  0:00:12s\n",
      "epoch 142| loss: 0.06442 | train_mse: 0.06475 | train_mae: 0.19905 |  0:00:12s\n"
     ]
    },
    {
     "name": "stdout",
     "output_type": "stream",
     "text": [
      "epoch 143| loss: 0.1084  | train_mse: 0.06179 | train_mae: 0.19023 |  0:00:12s\n",
      "epoch 144| loss: 0.16022 | train_mse: 0.05531 | train_mae: 0.18315 |  0:00:12s\n",
      "epoch 145| loss: 0.08022 | train_mse: 0.04672 | train_mae: 0.16803 |  0:00:12s\n"
     ]
    },
    {
     "name": "stdout",
     "output_type": "stream",
     "text": [
      "epoch 146| loss: 0.19856 | train_mse: 0.04827 | train_mae: 0.17421 |  0:00:12s\n",
      "epoch 147| loss: 0.09098 | train_mse: 0.04916 | train_mae: 0.17035 |  0:00:12s\n",
      "epoch 148| loss: 0.15621 | train_mse: 0.05939 | train_mae: 0.18329 |  0:00:12s\n"
     ]
    },
    {
     "name": "stdout",
     "output_type": "stream",
     "text": [
      "epoch 149| loss: 0.07686 | train_mse: 0.08413 | train_mae: 0.20697 |  0:00:12s\n",
      "epoch 150| loss: 0.07656 | train_mse: 0.09401 | train_mae: 0.21892 |  0:00:13s\n",
      "epoch 151| loss: 0.11963 | train_mse: 0.10767 | train_mae: 0.23829 |  0:00:13s\n"
     ]
    },
    {
     "name": "stdout",
     "output_type": "stream",
     "text": [
      "epoch 152| loss: 0.16594 | train_mse: 0.11661 | train_mae: 0.25401 |  0:00:13s\n",
      "epoch 153| loss: 0.10517 | train_mse: 0.10339 | train_mae: 0.23931 |  0:00:13s\n",
      "\n",
      "Early stopping occurred at epoch 153 with best_epoch = 103 and best_train_mae = 0.16153\n",
      "Best weights from best epoch are automatically used!\n"
     ]
    }
   ],
   "source": [
    "#Train the Model\n",
    "\n",
    "Y_train = np.reshape(Y_train, (-1, 1))\n",
    "Y_test = np.reshape(Y_test, (-1, 1))\n",
    "\n",
    "prior_model = TabNetRegressor(optimizer_fn=torch.optim.Adam, optimizer_params=dict(lr = 0.02),\n",
    "          #scheduler_params={\"step_size\":10, ], \"gamma\":0.9},\n",
    "          #scheduler_fn=torch.optim.lr_scheduler.StepLR\n",
    "          )  #TabNetRegressor()\n",
    "\n",
    "prior_model.fit(X_train,Y_train,eval_set=[(X_train, Y_train)],\n",
    "            eval_name=['train'], \n",
    "            eval_metric=[ 'mse', 'mae'], \n",
    "            max_epochs = n_epochs, \n",
    "            batch_size = batch_size,\n",
    "            patience=50\n",
    "            )"
   ]
  },
  {
   "cell_type": "code",
   "execution_count": 10,
   "id": "af65dcda",
   "metadata": {
    "execution": {
     "iopub.execute_input": "2022-06-22T11:37:39.459252Z",
     "iopub.status.busy": "2022-06-22T11:37:39.456018Z",
     "iopub.status.idle": "2022-06-22T11:37:39.494836Z",
     "shell.execute_reply": "2022-06-22T11:37:39.496688Z"
    },
    "id": "af65dcda",
    "papermill": {
     "duration": 0.086027,
     "end_time": "2022-06-22T11:37:39.497201",
     "exception": false,
     "start_time": "2022-06-22T11:37:39.411174",
     "status": "completed"
    },
    "tags": []
   },
   "outputs": [
    {
     "data": {
      "application/scrapbook.scrap.json+json": {
       "data": 0.07813759910903317,
       "encoder": "json",
       "name": "Prior Model MSE",
       "version": 1
      }
     },
     "metadata": {
      "scrapbook": {
       "data": true,
       "display": false,
       "name": "Prior Model MSE"
      }
     },
     "output_type": "display_data"
    },
    {
     "data": {
      "application/scrapbook.scrap.json+json": {
       "data": 0.09134637103500697,
       "encoder": "json",
       "name": "ABC Pre-generator MSE",
       "version": 1
      }
     },
     "metadata": {
      "scrapbook": {
       "data": true,
       "display": false,
       "name": "ABC Pre-generator MSE"
      }
     },
     "output_type": "display_data"
    },
    {
     "data": {
      "application/scrapbook.scrap.json+json": {
       "data": 0.23084702944394858,
       "encoder": "json",
       "name": "Prior Model MSE",
       "version": 1
      }
     },
     "metadata": {
      "scrapbook": {
       "data": true,
       "display": false,
       "name": "Prior Model MSE"
      }
     },
     "output_type": "display_data"
    },
    {
     "data": {
      "application/scrapbook.scrap.json+json": {
       "data": 0.2594133711539195,
       "encoder": "json",
       "name": "ABC Pre-generator MSE",
       "version": 1
      }
     },
     "metadata": {
      "scrapbook": {
       "data": true,
       "display": false,
       "name": "ABC Pre-generator MSE"
      }
     },
     "output_type": "display_data"
    }
   ],
   "source": [
    "y_pred = prior_model.predict(X_test)\n",
    "y_abc = y_pred + np.random.normal(0,variance, y_pred.shape) + bias \n",
    "mse = mean_squared_error(y_pred,Y_test)\n",
    "sb.glue(\"Prior Model MSE\",mse)\n",
    "mse = mean_squared_error(y_abc,Y_test)\n",
    "sb.glue(\"ABC Pre-generator MSE\",mse)\n",
    "mae = mean_absolute_error(y_pred,Y_test)\n",
    "sb.glue(\"Prior Model MSE\",mae)\n",
    "mae = mean_absolute_error(y_abc,Y_test)\n",
    "sb.glue(\"ABC Pre-generator MSE\",mae)"
   ]
  },
  {
   "cell_type": "markdown",
   "id": "25609da2",
   "metadata": {
    "papermill": {
     "duration": 0.063913,
     "end_time": "2022-06-22T11:37:39.619482",
     "exception": false,
     "start_time": "2022-06-22T11:37:39.555569",
     "status": "completed"
    },
    "tags": []
   },
   "source": [
    "# ABC GAN Model"
   ]
  },
  {
   "cell_type": "code",
   "execution_count": 11,
   "id": "dfc3464d",
   "metadata": {
    "execution": {
     "iopub.execute_input": "2022-06-22T11:37:39.720093Z",
     "iopub.status.busy": "2022-06-22T11:37:39.719322Z",
     "iopub.status.idle": "2022-06-22T11:37:39.721749Z",
     "shell.execute_reply": "2022-06-22T11:37:39.722275Z"
    },
    "papermill": {
     "duration": 0.053616,
     "end_time": "2022-06-22T11:37:39.722538",
     "exception": false,
     "start_time": "2022-06-22T11:37:39.668922",
     "status": "completed"
    },
    "tags": []
   },
   "outputs": [],
   "source": [
    "gen = network.Generator(n_features+1).to(device)\n",
    "disc = network.Discriminator(n_features+1).to(device)\n",
    "\n",
    "criterion = torch.nn.BCELoss()\n",
    "gen_opt = torch.optim.Adam(gen.parameters(), lr=0.001, betas=(0.5, 0.999))\n",
    "disc_opt = torch.optim.Adam(disc.parameters(), lr=0.001, betas=(0.5, 0.999))"
   ]
  },
  {
   "cell_type": "code",
   "execution_count": 12,
   "id": "b75fdd85",
   "metadata": {
    "execution": {
     "iopub.execute_input": "2022-06-22T11:37:39.803086Z",
     "iopub.status.busy": "2022-06-22T11:37:39.802321Z",
     "iopub.status.idle": "2022-06-22T11:38:37.826021Z",
     "shell.execute_reply": "2022-06-22T11:38:37.826579Z"
    },
    "papermill": {
     "duration": 58.069538,
     "end_time": "2022-06-22T11:38:37.826795",
     "exception": false,
     "start_time": "2022-06-22T11:37:39.757257",
     "status": "completed"
    },
    "tags": []
   },
   "outputs": [
    {
     "data": {
      "image/png": "[encoded data removed]",
      "text/plain": [
       "<Figure size 432x288 with 1 Axes>"
      ]
     },
     "metadata": {
      "needs_background": "light"
     },
     "output_type": "display_data"
    },
    {
     "data": {
      "image/png": "[encoded data removed]",
      "text/plain": [
       "<Figure size 432x288 with 1 Axes>"
      ]
     },
     "metadata": {
      "needs_background": "light"
     },
     "output_type": "display_data"
    }
   ],
   "source": [
    "#Training the ABC_GAN \n",
    "ABC_train_test2.training_GAN(disc,gen,disc_opt,gen_opt,train_data,batch_size,n_epochs,criterion,prior_model,variance,bias,device)"
   ]
  },
  {
   "cell_type": "code",
   "execution_count": 13,
   "id": "1fa7c368",
   "metadata": {
    "execution": {
     "iopub.execute_input": "2022-06-22T11:38:37.924648Z",
     "iopub.status.busy": "2022-06-22T11:38:37.923454Z",
     "iopub.status.idle": "2022-06-22T11:38:38.738228Z",
     "shell.execute_reply": "2022-06-22T11:38:38.739173Z"
    },
    "papermill": {
     "duration": 0.876467,
     "end_time": "2022-06-22T11:38:38.739408",
     "exception": false,
     "start_time": "2022-06-22T11:38:37.862941",
     "status": "completed"
    },
    "tags": []
   },
   "outputs": [
    {
     "data": {
      "application/scrapbook.scrap.json+json": {
       "data": 0.10584118892296254,
       "encoder": "json",
       "name": "ABC-GAN Model 1 MSE",
       "version": 1
      }
     },
     "metadata": {
      "scrapbook": {
       "data": true,
       "display": false,
       "name": "ABC-GAN Model 1 MSE"
      }
     },
     "output_type": "display_data"
    },
    {
     "data": {
      "application/scrapbook.scrap.json+json": {
       "data": 0.27876340173743663,
       "encoder": "json",
       "name": "ABC-GAN Model 1 MAE",
       "version": 1
      }
     },
     "metadata": {
      "scrapbook": {
       "data": true,
       "display": false,
       "name": "ABC-GAN Model 1 MAE"
      }
     },
     "output_type": "display_data"
    },
    {
     "data": {
      "application/scrapbook.scrap.json+json": {
       "data": 5.575268034748733,
       "encoder": "json",
       "name": "ABC-GAN Model 1 Manhattan Distance",
       "version": 1
      }
     },
     "metadata": {
      "scrapbook": {
       "data": true,
       "display": false,
       "name": "ABC-GAN Model 1 Manhattan Distance"
      }
     },
     "output_type": "display_data"
    },
    {
     "data": {
      "application/scrapbook.scrap.json+json": {
       "data": 1.4548886006064847,
       "encoder": "json",
       "name": "ABC-GAN Model 1 Euclidean distance",
       "version": 1
      }
     },
     "metadata": {
      "scrapbook": {
       "data": true,
       "display": false,
       "name": "ABC-GAN Model 1 Euclidean distance"
      }
     },
     "output_type": "display_data"
    },
    {
     "data": {
      "application/scrapbook.scrap.json+json": {
       "data": [
        [
         0.10505040369623422,
         0.1066801926468091,
         0.10212262550938851,
         0.10508439817184867,
         0.10494109146307999,
         0.10498501418530833,
         0.10496099636397993,
         0.10597692077552132,
         0.1069519835178808,
         0.10590269517434965,
         0.10680866311605386,
         0.1071334472560567,
         0.10661476771107137,
         0.1056818848110856,
         0.10755213494139113,
         0.10545849224143314,
         0.1063144648312793,
         0.10539839686384433,
         0.10360518026352075,
         0.10671367017756031,
         0.10371307730830873,
         0.10697754200427115,
         0.1043069874633847,
         0.10655304442533793,
         0.1067198784493382,
         0.10643888122210324,
         0.10559692141429777,
         0.10785968417791195,
         0.10532585617059502,
         0.10439714409061107,
         0.10315012029016128,
         0.10573929370808739,
         0.10406229986959477,
         0.10625039276176391,
         0.10558841434669515,
         0.10792425618512205,
         0.10451512905387605,
         0.10353546160787377,
         0.10658009293186137,
         0.10154885857532622,
         0.10522655907188941,
         0.10570417626530144,
         0.10482104324038381,
         0.10415732720500563,
         0.10949154944870601,
         0.10771246041440978,
         0.10583089125617792,
         0.10435503165179605,
         0.10787638058121951,
         0.10677524764449195,
         0.1064875308504059,
         0.10519762403967974,
         0.10448368110177815,
         0.1105503374023769,
         0.10593374912358042,
         0.1029335280545548,
         0.10639457263286571,
         0.10461293784915959,
         0.10661845415426971,
         0.10543125124461103,
         0.10784178002479275,
         0.10464125132395222,
         0.10493812692683217,
         0.1087313780073352,
         0.10570897018112149,
         0.10376795177794525,
         0.1051320222942876,
         0.10385034597595921,
         0.10527015831868955,
         0.10498018614948679,
         0.1055166935320944,
         0.1070961607058496,
         0.10611129226245167,
         0.10702216210571378,
         0.10614521728886914,
         0.10675968843174717,
         0.10457436783298424,
         0.10779391187078824,
         0.10340659521007241,
         0.10916942750548109,
         0.1058979800635456,
         0.10696916930952013,
         0.10645205783663067,
         0.10461573111400532,
         0.10718456674908343,
         0.10858257751561014,
         0.10730051457511695,
         0.10769677762586638,
         0.10598052853685633,
         0.10825498433812042,
         0.10418705468397005,
         0.10601949633495389,
         0.10546868674212476,
         0.10622708212561305,
         0.10932327049952031,
         0.10350395403052119,
         0.10258931941247514,
         0.10651537562817906,
         0.10629402500612266,
         0.10528295943508306
        ],
        [
         0.2777292441576719,
         0.2783962933346629,
         0.2731012303382158,
         0.277493960224092,
         0.27896161284297705,
         0.27762056346982716,
         0.27898090314120055,
         0.2793405635282397,
         0.2774801585823298,
         0.2777151223272085,
         0.278456412628293,
         0.27993742283433676,
         0.27788950931280854,
         0.2788185549899936,
         0.28026160653680565,
         0.2773565839976072,
         0.2787746397778392,
         0.2757004899904132,
         0.275282109901309,
         0.280767478607595,
         0.2752559740096331,
         0.2811298271641135,
         0.27781625296920537,
         0.2793637027963996,
         0.28043338023126124,
         0.27660681661218406,
         0.27963817249983547,
         0.2833959056064487,
         0.2775136737152934,
         0.2780135562643409,
         0.27446850668638945,
         0.27740292381495235,
         0.27767591159790755,
         0.2792395932599902,
         0.2792666291818023,
         0.2818296356126666,
         0.27792324479669334,
         0.2752610970288515,
         0.2807033462449908,
         0.27244632970541716,
         0.2776298036798835,
         0.27796000223606826,
         0.27777394410222767,
         0.27576276417821644,
         0.28513504546135665,
         0.2816827593371272,
         0.2798109699040651,
         0.27805979214608667,
         0.2806909894570708,
         0.27764935828745363,
         0.2759945783764124,
         0.2777142237871885,
         0.27574682887643576,
         0.28631968405097724,
         0.2798498189076781,
         0.2737480288371444,
         0.28135840855538846,
         0.2780632836744189,
         0.2796265846118331,
         0.27625513356179,
         0.27967963479459285,
         0.27708463203161954,
         0.2779921455308795,
         0.28283768352121114,
         0.2786418182775378,
         0.27715403120964766,
         0.28201688136905434,
         0.2761878905817866,
         0.2762708647176623,
         0.27865320425480605,
         0.2793530646711588,
         0.2814354745671153,
         0.28003898076713085,
         0.27901161890476944,
         0.27887265868484973,
         0.27894130926579236,
         0.2785302331671119,
         0.279071587882936,
         0.27728969492018224,
         0.285199467651546,
         0.2789303747937083,
         0.2813602989539504,
         0.27985444124788045,
         0.27854603435844183,
         0.2791848910972476,
         0.28132471479475496,
         0.28269985448569057,
         0.2820517553016543,
         0.2794566122815013,
         0.2843142939731479,
         0.2758340759202838,
         0.2820324543863535,
         0.27815780248492955,
         0.2768856106325984,
         0.28234383799135687,
         0.27420731764286754,
         0.27527800258249047,
         0.28006020076572896,
         0.27897955309599637,
         0.27829422783106567
        ],
        [
         5.554584883153439,
         5.567925866693258,
         5.462024606764317,
         5.54987920448184,
         5.579232256859541,
         5.5524112693965435,
         5.579618062824011,
         5.5868112705647945,
         5.549603171646595,
         5.55430244654417,
         5.569128252565861,
         5.598748456686735,
         5.55779018625617,
         5.5763710997998714,
         5.605232130736113,
         5.547131679952145,
         5.575492795556784,
         5.514009799808264,
         5.50564219802618,
         5.615349572151899,
         5.505119480192661,
         5.62259654328227,
         5.556325059384108,
         5.587274055927992,
         5.608667604625225,
         5.532136332243681,
         5.59276344999671,
         5.667918112128973,
         5.550273474305868,
         5.5602711252868176,
         5.489370133727789,
         5.5480584762990475,
         5.553518231958151,
         5.584791865199804,
         5.5853325836360455,
         5.636592712253332,
         5.5584648959338665,
         5.50522194057703,
         5.6140669248998165,
         5.448926594108343,
         5.55259607359767,
         5.559200044721365,
         5.555478882044554,
         5.515255283564329,
         5.702700909227133,
         5.633655186742544,
         5.596219398081303,
         5.561195842921734,
         5.6138197891414165,
         5.552987165749073,
         5.519891567528248,
         5.554284475743771,
         5.514936577528715,
         5.726393681019545,
         5.5969963781535625,
         5.4749605767428875,
         5.627168171107769,
         5.5612656734883785,
         5.592531692236662,
         5.5251026712358,
         5.593592695891857,
         5.541692640632391,
         5.55984291061759,
         5.656753670424223,
         5.5728363655507565,
         5.543080624192953,
         5.640337627381086,
         5.523757811635733,
         5.525417294353247,
         5.573064085096121,
         5.587061293423176,
         5.628709491342306,
         5.600779615342617,
         5.580232378095388,
         5.577453173696995,
         5.578826185315847,
         5.5706046633422375,
         5.58143175765872,
         5.545793898403645,
         5.70398935303092,
         5.5786074958741665,
         5.627205979079008,
         5.597088824957609,
         5.570920687168837,
         5.583697821944952,
         5.6264942958951,
         5.653997089713812,
         5.641035106033087,
         5.589132245630026,
         5.686285879462957,
         5.516681518405676,
         5.64064908772707,
         5.563156049698591,
         5.537712212651968,
         5.646876759827137,
         5.484146352857351,
         5.505560051649809,
         5.601204015314579,
         5.579591061919928,
         5.565884556621313
        ],
        [
         1.4494854514360205,
         1.4606860898003315,
         1.4291439781168902,
         1.44971996034992,
         1.4487311100620432,
         1.4490342589829153,
         1.4488684989603433,
         1.4558634604626997,
         1.4625456130861751,
         1.45535353213128,
         1.4615653465791658,
         1.4637858262468364,
         1.4602381155898607,
         1.453835512092655,
         1.466643344111929,
         1.4522981253271185,
         1.4581801317483332,
         1.4518842713098337,
         1.439480324725008,
         1.4609152622760864,
         1.4402296852121104,
         1.4627203560781612,
         1.4443475167935498,
         1.459815361101108,
         1.4609577574272172,
         1.459033112866896,
         1.4532509859917369,
         1.4687388071261136,
         1.4513845539387211,
         1.4449715851227738,
         1.4363155662330007,
         1.4542303373818564,
         1.4426524173867714,
         1.4577406680323075,
         1.453192446627047,
         1.469178383894359,
         1.4457878755465896,
         1.4389959110982475,
         1.4600006365194598,
         1.4251235635924784,
         1.4507002383117569,
         1.4539888325933006,
         1.4479022290222763,
         1.4433109658351913,
         1.4798077540593306,
         1.4677360826416292,
         1.4548600706334471,
         1.4446801144322299,
         1.4688524812330168,
         1.4613367007263722,
         1.4593665122264927,
         1.4505007689738034,
         1.4455703448935175,
         1.4869454421893018,
         1.4555668938498183,
         1.4348068027058891,
         1.458729396652208,
         1.4464642259603906,
         1.4602633608652222,
         1.4521105415539894,
         1.4686169005209817,
         1.4466599553727353,
         1.448710646932866,
         1.4746618460334233,
         1.4540218030079293,
         1.440610646760222,
         1.4500484288070354,
         1.441182472665826,
         1.4510007465104182,
         1.4490009396096801,
         1.4526988231019835,
         1.4635310772638181,
         1.456786135727902,
         1.4630253730247729,
         1.4570189929363937,
         1.4612302243777135,
         1.4461975510488478,
         1.4682909239710518,
         1.4381001022882407,
         1.4776293683158919,
         1.4553211333829081,
         1.4626631143877262,
         1.459123420664823,
         1.4464835368161322,
         1.4641350125523496,
         1.473652452348315,
         1.464926718816453,
         1.467629228557856,
         1.4558882411562801,
         1.4714277715071196,
         1.4435169183904293,
         1.456155873077837,
         1.452368319278032,
         1.4575807499113937,
         1.478670149151056,
         1.4387769391432517,
         1.432405804319957,
         1.45955730019879,
         1.458039951483653,
         1.4510889665012483
        ]
       ],
       "encoder": "json",
       "name": "ABC_GAN_1 Metrics",
       "version": 1
      }
     },
     "metadata": {
      "scrapbook": {
       "data": true,
       "display": false,
       "name": "ABC_GAN_1 Metrics"
      }
     },
     "output_type": "display_data"
    },
    {
     "name": "stdout",
     "output_type": "stream",
     "text": [
      "MSE\n",
      "0.10584118892296254\n"
     ]
    }
   ],
   "source": [
    "ABC_GAN1_metrics=ABC_train_test2.test_generator(gen,test_data,prior_model,variance,bias,\"1\",device)\n",
    "sb.glue(\"ABC_GAN_1 Metrics\",ABC_GAN1_metrics)\n",
    "\n",
    "print(\"MSE\")\n",
    "print(mean(ABC_GAN1_metrics[0]))"
   ]
  },
  {
   "cell_type": "code",
   "execution_count": 14,
   "id": "eb22ce5c",
   "metadata": {
    "execution": {
     "iopub.execute_input": "2022-06-22T11:38:38.840451Z",
     "iopub.status.busy": "2022-06-22T11:38:38.839404Z",
     "iopub.status.idle": "2022-06-22T11:38:39.774086Z",
     "shell.execute_reply": "2022-06-22T11:38:39.774780Z"
    },
    "papermill": {
     "duration": 0.994977,
     "end_time": "2022-06-22T11:38:39.775011",
     "exception": false,
     "start_time": "2022-06-22T11:38:38.780034",
     "status": "completed"
    },
    "tags": []
   },
   "outputs": [
    {
     "data": {
      "image/png": "[encoded data removed]",
      "text/plain": [
       "<Figure size 432x288 with 1 Axes>"
      ]
     },
     "metadata": {
      "needs_background": "light"
     },
     "output_type": "display_data"
    },
    {
     "data": {
      "image/png": "[encoded data removed]",
      "text/plain": [
       "<Figure size 432x288 with 1 Axes>"
      ]
     },
     "metadata": {
      "needs_background": "light"
     },
     "output_type": "display_data"
    },
    {
     "data": {
      "image/png": "[encoded data removed]",
      "text/plain": [
       "<Figure size 432x288 with 1 Axes>"
      ]
     },
     "metadata": {
      "needs_background": "light"
     },
     "output_type": "display_data"
    },
    {
     "data": {
      "image/png": "[encoded data removed]",
      "text/plain": [
       "<Figure size 432x288 with 1 Axes>"
      ]
     },
     "metadata": {
      "needs_background": "light"
     },
     "output_type": "display_data"
    }
   ],
   "source": [
    "sanityChecks.discProbVsError(train_data,disc,device)\n",
    "sanityChecks.discProbVsError(test_data,disc,device)"
   ]
  },
  {
   "cell_type": "markdown",
   "id": "130f3a4d",
   "metadata": {
    "id": "130f3a4d",
    "papermill": {
     "duration": 0.047637,
     "end_time": "2022-06-22T11:38:39.870111",
     "exception": false,
     "start_time": "2022-06-22T11:38:39.822474",
     "status": "completed"
    },
    "tags": []
   },
   "source": [
    "# ABC - GAN Model with skip connection"
   ]
  },
  {
   "cell_type": "code",
   "execution_count": 15,
   "id": "4e43dad1",
   "metadata": {
    "execution": {
     "iopub.execute_input": "2022-06-22T11:38:39.995116Z",
     "iopub.status.busy": "2022-06-22T11:38:39.993958Z",
     "iopub.status.idle": "2022-06-22T11:38:39.998350Z",
     "shell.execute_reply": "2022-06-22T11:38:39.999192Z"
    },
    "id": "4e43dad1",
    "papermill": {
     "duration": 0.080061,
     "end_time": "2022-06-22T11:38:39.999470",
     "exception": false,
     "start_time": "2022-06-22T11:38:39.919409",
     "status": "completed"
    },
    "tags": []
   },
   "outputs": [],
   "source": [
    "#Generator\n",
    "gen3 = network.GeneratorWithSkipConnection(n_features+1).to(device)\n",
    "constraints=network.weightConstraint()\n",
    "#Discriminator \n",
    "disc3 = network.Discriminator(n_features+1).to(device)\n",
    "\n",
    "criterion = torch.nn.BCELoss()\n",
    "gen_opt = torch.optim.Adam(gen3.parameters(), lr=0.001, betas=(0.5, 0.999))\n",
    "disc_opt = torch.optim.Adam(disc3.parameters(), lr=0.001, betas=(0.5, 0.999))\n"
   ]
  },
  {
   "cell_type": "code",
   "execution_count": 16,
   "id": "26acbc37",
   "metadata": {
    "execution": {
     "iopub.execute_input": "2022-06-22T11:38:40.120125Z",
     "iopub.status.busy": "2022-06-22T11:38:40.119337Z",
     "iopub.status.idle": "2022-06-22T11:40:03.544551Z",
     "shell.execute_reply": "2022-06-22T11:40:03.545536Z"
    },
    "id": "26acbc37",
    "papermill": {
     "duration": 83.492514,
     "end_time": "2022-06-22T11:40:03.545800",
     "exception": false,
     "start_time": "2022-06-22T11:38:40.053286",
     "status": "completed"
    },
    "tags": []
   },
   "outputs": [
    {
     "data": {
      "image/png": "[encoded data removed]",
      "text/plain": [
       "<Figure size 432x288 with 1 Axes>"
      ]
     },
     "metadata": {
      "needs_background": "light"
     },
     "output_type": "display_data"
    },
    {
     "data": {
      "image/png": "[encoded data removed]",
      "text/plain": [
       "<Figure size 432x288 with 1 Axes>"
      ]
     },
     "metadata": {
      "needs_background": "light"
     },
     "output_type": "display_data"
    }
   ],
   "source": [
    "ABC_train_test2.training_GAN_skip_connection(disc3,gen3,disc_opt,gen_opt,train_data,batch_size,n_epochs,criterion,prior_model,variance,bias,device)"
   ]
  },
  {
   "cell_type": "code",
   "execution_count": 17,
   "id": "c5e0717b",
   "metadata": {
    "execution": {
     "iopub.execute_input": "2022-06-22T11:40:03.674723Z",
     "iopub.status.busy": "2022-06-22T11:40:03.673930Z",
     "iopub.status.idle": "2022-06-22T11:40:04.572594Z",
     "shell.execute_reply": "2022-06-22T11:40:04.573296Z"
    },
    "id": "c5e0717b",
    "papermill": {
     "duration": 0.963501,
     "end_time": "2022-06-22T11:40:04.573555",
     "exception": false,
     "start_time": "2022-06-22T11:40:03.610054",
     "status": "completed"
    },
    "tags": []
   },
   "outputs": [
    {
     "data": {
      "application/scrapbook.scrap.json+json": {
       "data": 0.10347467802908596,
       "encoder": "json",
       "name": "ABC-GAN Model 3 MSE",
       "version": 1
      }
     },
     "metadata": {
      "scrapbook": {
       "data": true,
       "display": false,
       "name": "ABC-GAN Model 3 MSE"
      }
     },
     "output_type": "display_data"
    },
    {
     "data": {
      "application/scrapbook.scrap.json+json": {
       "data": 0.2492980899736285,
       "encoder": "json",
       "name": "ABC-GAN Model 3 MAE",
       "version": 1
      }
     },
     "metadata": {
      "scrapbook": {
       "data": true,
       "display": false,
       "name": "ABC-GAN Model 3 MAE"
      }
     },
     "output_type": "display_data"
    },
    {
     "data": {
      "application/scrapbook.scrap.json+json": {
       "data": 4.9859617994725705,
       "encoder": "json",
       "name": "ABC-GAN Model 3 Manhattan Distance",
       "version": 1
      }
     },
     "metadata": {
      "scrapbook": {
       "data": true,
       "display": false,
       "name": "ABC-GAN Model 3 Manhattan Distance"
      }
     },
     "output_type": "display_data"
    },
    {
     "data": {
      "application/scrapbook.scrap.json+json": {
       "data": 1.4385444292420506,
       "encoder": "json",
       "name": "ABC-GAN Model 3 Euclidean distance",
       "version": 1
      }
     },
     "metadata": {
      "scrapbook": {
       "data": true,
       "display": false,
       "name": "ABC-GAN Model 3 Euclidean distance"
      }
     },
     "output_type": "display_data"
    },
    {
     "data": {
      "application/scrapbook.scrap.json+json": {
       "data": [
        [
         0.10528575964096931,
         0.1013098743162466,
         0.10352426347154027,
         0.10293613052208524,
         0.10190172734752304,
         0.10504497282089545,
         0.10467438392602842,
         0.10408001335641673,
         0.10297817215844769,
         0.10512217024425197,
         0.10347842237782778,
         0.103247007435602,
         0.10583975228984928,
         0.10415177995077327,
         0.10518956873822596,
         0.10565176755597831,
         0.10373424653247465,
         0.10432397904899404,
         0.10386208639525751,
         0.10161026419670165,
         0.10318705637392389,
         0.10208171891376469,
         0.10415420286151104,
         0.10512508976214488,
         0.10442594211397224,
         0.1027938290201642,
         0.1038810358393976,
         0.10442425342670099,
         0.10387906791677279,
         0.10223405350042376,
         0.10393681507169825,
         0.10482953853897695,
         0.1029845823113725,
         0.10372702397458174,
         0.10342185064559899,
         0.10499797421451254,
         0.10021447194489039,
         0.10170242432596366,
         0.1026099424540817,
         0.1026711950051434,
         0.10275659080596049,
         0.1038899781910346,
         0.1018488442700078,
         0.10319665918117926,
         0.10260233963332403,
         0.10414996108128567,
         0.101908346033784,
         0.10420502613314478,
         0.10330155706548898,
         0.10137137075454077,
         0.10164868622799901,
         0.10374023052851263,
         0.10459843114333531,
         0.10412154107103722,
         0.10068921676459289,
         0.10398505180473357,
         0.10423468908260913,
         0.10513683099460676,
         0.1026453946703815,
         0.10370872919839554,
         0.10040448129902954,
         0.10363458405461387,
         0.10380990099371912,
         0.10350596063990052,
         0.10548778946873534,
         0.1026152034799395,
         0.105319824383445,
         0.1047008624253496,
         0.10210268599541124,
         0.104581331701349,
         0.10257505780694891,
         0.10470930121310955,
         0.10404443521089368,
         0.10223940361514945,
         0.10182488100427167,
         0.10496981354358433,
         0.1018663198162709,
         0.10355161776817487,
         0.10380809316848998,
         0.10196244703874886,
         0.10421084149957922,
         0.10373348061413279,
         0.10257891002667612,
         0.1038691872249307,
         0.10101270751323921,
         0.10240159525652119,
         0.10448545687839102,
         0.10301877306737958,
         0.1065107122158265,
         0.1021572546531954,
         0.10120140622875536,
         0.10263618928183353,
         0.10198123989807897,
         0.10624968357651184,
         0.10398200255693171,
         0.1037605023478397,
         0.10501669028398823,
         0.10370381037036376,
         0.10343329197957205,
         0.10484218763007484
        ],
        [
         0.25026933681219815,
         0.2482366008684039,
         0.24906053002923728,
         0.24726623091846706,
         0.2475372301414609,
         0.25198603626340627,
         0.24989393632858992,
         0.24834852162748575,
         0.2518310172483325,
         0.2524056425318122,
         0.2482529817149043,
         0.25124665889889003,
         0.2484779329970479,
         0.24508670959621667,
         0.25219117719680073,
         0.25127295311540365,
         0.25057640913873913,
         0.2504093227908015,
         0.25164766442030667,
         0.24498116914182902,
         0.24955503400415183,
         0.24417613428086044,
         0.2499353548511863,
         0.25286537129431963,
         0.2520284911617637,
         0.2470911217853427,
         0.24861282166093587,
         0.2496883211657405,
         0.249706113897264,
         0.24914445895701648,
         0.2489842364564538,
         0.252973653934896,
         0.2477553913369775,
         0.24944686908274888,
         0.24809979293495416,
         0.2529942164197564,
         0.2461252024397254,
         0.2475815223529935,
         0.24774954821914436,
         0.2490385426208377,
         0.24579514171928168,
         0.24934694562107323,
         0.24859006348997353,
         0.24915169831365347,
         0.2498641049489379,
         0.2510972397401929,
         0.24752749521285294,
         0.24707376938313247,
         0.247975486330688,
         0.24432938750833272,
         0.247487779147923,
         0.25173683296889066,
         0.2503000108525157,
         0.2506234286352992,
         0.24967464860528707,
         0.2505442341789603,
         0.2507123762741685,
         0.2500776765868068,
         0.25054315123707055,
         0.2487103955820203,
         0.24618054386228322,
         0.2513336317613721,
         0.25361262876540425,
         0.24805636573582887,
         0.2520148975774646,
         0.24502037446945907,
         0.2538312619552016,
         0.2506753908470273,
         0.2482857896015048,
         0.24821116793900727,
         0.24611851442605256,
         0.25015412624925376,
         0.24952324572950602,
         0.24772538635879754,
         0.24744288939982653,
         0.25056685116142036,
         0.24772115256637334,
         0.2519688805565238,
         0.2490372760221362,
         0.24626229237765074,
         0.2510913787409663,
         0.2499611610546708,
         0.24630412068217994,
         0.24869569931179286,
         0.24504130501300098,
         0.2513640595600009,
         0.251874871365726,
         0.24869227949529887,
         0.2526161978021264,
         0.24737976882606744,
         0.24818762373179198,
         0.2472114311531186,
         0.24743545483797788,
         0.25352825950831176,
         0.24977856259793044,
         0.24896373581141235,
         0.2527405509725213,
         0.24779882114380597,
         0.25145552586764097,
         0.25025339554995296
        ],
        [
         5.005386736243963,
         4.964732017368078,
         4.981210600584745,
         4.945324618369341,
         4.950744602829218,
         5.0397207252681255,
         4.997878726571798,
         4.966970432549715,
         5.03662034496665,
         5.048112850636244,
         4.965059634298086,
         5.0249331779778,
         4.969558659940958,
         4.901734191924334,
         5.043823543936014,
         5.025459062308073,
         5.011528182774782,
         5.0081864558160305,
         5.032953288406134,
         4.89962338283658,
         4.991100680083036,
         4.8835226856172085,
         4.9987070970237255,
         5.057307425886393,
         5.040569823235273,
         4.941822435706854,
         4.972256433218718,
         4.99376642331481,
         4.99412227794528,
         4.982889179140329,
         4.979684729129076,
         5.05947307869792,
         4.95510782673955,
         4.988937381654978,
         4.961995858699083,
         5.059884328395128,
         4.922504048794508,
         4.95163044705987,
         4.954990964382887,
         4.980770852416754,
         4.9159028343856335,
         4.986938912421465,
         4.971801269799471,
         4.983033966273069,
         4.997282098978758,
         5.021944794803858,
         4.950549904257059,
         4.941475387662649,
         4.95950972661376,
         4.886587750166655,
         4.94975558295846,
         5.034736659377813,
         5.006000217050314,
         5.012468572705984,
         4.9934929721057415,
         5.0108846835792065,
         5.01424752548337,
         5.0015535317361355,
         5.010863024741411,
         4.974207911640406,
         4.923610877245665,
         5.026672635227442,
         5.0722525753080845,
         4.9611273147165775,
         5.040297951549292,
         4.900407489389181,
         5.0766252391040325,
         5.013507816940546,
         4.965715792030096,
         4.964223358780146,
         4.922370288521051,
         5.003082524985075,
         4.99046491459012,
         4.954507727175951,
         4.9488577879965305,
         5.011337023228407,
         4.954423051327467,
         5.039377611130476,
         4.980745520442724,
         4.925245847553015,
         5.021827574819326,
         4.999223221093416,
         4.926082413643599,
         4.973913986235857,
         4.900826100260019,
         5.027281191200018,
         5.03749742731452,
         4.973845589905977,
         5.052323956042528,
         4.947595376521349,
         4.9637524746358395,
         4.944228623062372,
         4.948709096759558,
         5.070565190166235,
         4.995571251958609,
         4.979274716228247,
         5.054811019450426,
         4.95597642287612,
         5.029110517352819,
         5.00506791099906
        ],
        [
         1.4511082636451997,
         1.4234456386967969,
         1.438918089896296,
         1.434824940695451,
         1.427597473712552,
         1.4494479833432825,
         1.4468889655120631,
         1.4427751963242001,
         1.4351179196041535,
         1.4499804843117852,
         1.438599474334867,
         1.4369899612426107,
         1.4549209757911203,
         1.4432725310957266,
         1.4504452332868412,
         1.453628340092324,
         1.4403766627689762,
         1.444465153951414,
         1.4412639341581923,
         1.425554377754154,
         1.436572701772687,
         1.4288577179954949,
         1.4432893186157172,
         1.4500006190491428,
         1.4451708695789038,
         1.4338328286112312,
         1.4413954061214265,
         1.445159184496303,
         1.4413817531575235,
         1.429923449002944,
         1.4417823349708392,
         1.4479609009843943,
         1.4351625852938927,
         1.4403265183602065,
         1.438206178860312,
         1.449123695303562,
         1.4157292957687242,
         1.42620071747257,
         1.4325497719387044,
         1.4329772852710783,
         1.433573094097127,
         1.4414574443321913,
         1.4272269915469493,
         1.4366395454753378,
         1.4324966990071848,
         1.4432599286426937,
         1.427643835372002,
         1.4436414106913447,
         1.437369521490483,
         1.423877598352757,
         1.4258238757153634,
         1.4404182068310065,
         1.4463639316806494,
         1.4430629998100375,
         1.4190786924240169,
         1.4421168593753668,
         1.4438468691839113,
         1.4500815907707176,
         1.4327972268983598,
         1.4401994945034216,
         1.4170707907442701,
         1.4396845769446436,
         1.4409018078531175,
         1.4387908857085558,
         1.4524998414370678,
         1.4325864963759745,
         1.4513429944947198,
         1.4470719569209376,
         1.4290044506257582,
         1.4462457032008704,
         1.4323062368568316,
         1.4471302720426351,
         1.4425285800350278,
         1.4299608639060681,
         1.4270590807970893,
         1.4489293533059806,
         1.4273494303517336,
         1.439108180563052,
         1.4408892613139286,
         1.4280227381855575,
         1.4436816927534908,
         1.440371345272689,
         1.4323331318284591,
         1.4413132013891408,
         1.421356447294198,
         1.431094652750273,
         1.445582629104203,
         1.435400801639595,
         1.459525348980459,
         1.429386264472941,
         1.4226834238772543,
         1.432732977786395,
         1.428154332683124,
         1.4577358030624878,
         1.4420957149713172,
         1.4405589356068687,
         1.4492528439439976,
         1.4401653403020347,
         1.43828572946805,
         1.4480482563096773
        ]
       ],
       "encoder": "json",
       "name": "ABC_GAN_3 Metrics",
       "version": 1
      }
     },
     "metadata": {
      "scrapbook": {
       "data": true,
       "display": false,
       "name": "ABC_GAN_3 Metrics"
      }
     },
     "output_type": "display_data"
    },
    {
     "name": "stdout",
     "output_type": "stream",
     "text": [
      "MSE\n",
      "0.10347467802908596\n"
     ]
    }
   ],
   "source": [
    "ABC_GAN3_metrics=ABC_train_test2.test_generator(gen3,test_data,prior_model,variance,bias,\"3\",device)\n",
    "sb.glue(\"ABC_GAN_3 Metrics\",ABC_GAN3_metrics)\n",
    "\n",
    "print(\"MSE\")\n",
    "print(mean(ABC_GAN3_metrics[0]))"
   ]
  },
  {
   "cell_type": "code",
   "execution_count": 18,
   "id": "c8e46b48",
   "metadata": {
    "execution": {
     "iopub.execute_input": "2022-06-22T11:40:04.724418Z",
     "iopub.status.busy": "2022-06-22T11:40:04.723529Z",
     "iopub.status.idle": "2022-06-22T11:40:05.570495Z",
     "shell.execute_reply": "2022-06-22T11:40:05.572999Z"
    },
    "id": "c8e46b48",
    "papermill": {
     "duration": 0.939221,
     "end_time": "2022-06-22T11:40:05.573304",
     "exception": false,
     "start_time": "2022-06-22T11:40:04.634083",
     "status": "completed"
    },
    "tags": []
   },
   "outputs": [
    {
     "data": {
      "image/png": "[encoded data removed]",
      "text/plain": [
       "<Figure size 432x288 with 1 Axes>"
      ]
     },
     "metadata": {
      "needs_background": "light"
     },
     "output_type": "display_data"
    },
    {
     "data": {
      "image/png": "[encoded data removed]",
      "text/plain": [
       "<Figure size 432x288 with 1 Axes>"
      ]
     },
     "metadata": {
      "needs_background": "light"
     },
     "output_type": "display_data"
    },
    {
     "data": {
      "image/png": "[encoded data removed]",
      "text/plain": [
       "<Figure size 432x288 with 1 Axes>"
      ]
     },
     "metadata": {
      "needs_background": "light"
     },
     "output_type": "display_data"
    },
    {
     "data": {
      "image/png": "[encoded data removed]",
      "text/plain": [
       "<Figure size 432x288 with 1 Axes>"
      ]
     },
     "metadata": {
      "needs_background": "light"
     },
     "output_type": "display_data"
    }
   ],
   "source": [
    "sanityChecks.discProbVsError(train_data,disc3,device)\n",
    "sanityChecks.discProbVsError(test_data,disc3,device)"
   ]
  },
  {
   "cell_type": "markdown",
   "id": "a5bd74c3",
   "metadata": {
    "id": "a5bd74c3",
    "papermill": {
     "duration": 0.214319,
     "end_time": "2022-06-22T11:40:05.886906",
     "exception": false,
     "start_time": "2022-06-22T11:40:05.672587",
     "status": "completed"
    },
    "tags": []
   },
   "source": [
    "## Skip Connection Model Analysis - ABC-GAN "
   ]
  },
  {
   "cell_type": "markdown",
   "id": "5744a8bf",
   "metadata": {
    "id": "5744a8bf",
    "papermill": {
     "duration": 0.057236,
     "end_time": "2022-06-22T11:40:05.999477",
     "exception": false,
     "start_time": "2022-06-22T11:40:05.942241",
     "status": "completed"
    },
    "tags": []
   },
   "source": [
    "### Weight Analysis \n",
    "\n",
    "Study the weights of the skip connection layer\n",
    "\n",
    "Equation of the skip connection is \n",
    "\n",
    "$output = y_{gan} * w + y_{abc} * (1-w)$"
   ]
  },
  {
   "cell_type": "code",
   "execution_count": 19,
   "id": "52c31dea",
   "metadata": {
    "execution": {
     "iopub.execute_input": "2022-06-22T11:40:06.122449Z",
     "iopub.status.busy": "2022-06-22T11:40:06.121661Z",
     "iopub.status.idle": "2022-06-22T11:40:06.129204Z",
     "shell.execute_reply": "2022-06-22T11:40:06.130038Z"
    },
    "id": "52c31dea",
    "papermill": {
     "duration": 0.075112,
     "end_time": "2022-06-22T11:40:06.130292",
     "exception": false,
     "start_time": "2022-06-22T11:40:06.055180",
     "status": "completed"
    },
    "tags": []
   },
   "outputs": [
    {
     "name": "stdout",
     "output_type": "stream",
     "text": [
      "Weight of the node at skip connection\n",
      "Parameter containing:\n",
      "tensor([[0.7411]], requires_grad=True)\n"
     ]
    },
    {
     "data": {
      "application/scrapbook.scrap.json+json": {
       "data": 0.7411031126976013,
       "encoder": "json",
       "name": "Skip Connection Weight",
       "version": 1
      }
     },
     "metadata": {
      "scrapbook": {
       "data": true,
       "display": false,
       "name": "Skip Connection Weight"
      }
     },
     "output_type": "display_data"
    }
   ],
   "source": [
    "print(\"Weight of the node at skip connection\")\n",
    "for name,param in gen3.named_parameters():\n",
    "    if(name == \"skipNode.weight\"):\n",
    "        print(param)\n",
    "        sb.glue(\"Skip Connection Weight\",param.item())"
   ]
  }
 ],
 "metadata": {
  "colab": {
   "collapsed_sections": [],
   "name": "ABC_GAN_Model-Catboost_Pre-gen.ipynb",
   "provenance": []
  },
  "interpreter": {
   "hash": "31f2aee4e71d21fbe5cf8b01ff0e069b9275f58929596ceb00d14d90e3e16cd6"
  },
  "kernelspec": {
   "display_name": "Python 3 (ipykernel)",
   "language": "python",
   "name": "python3"
  },
  "language_info": {
   "codemirror_mode": {
    "name": "ipython",
    "version": 3
   },
   "file_extension": ".py",
   "mimetype": "text/x-python",
   "name": "python",
   "nbconvert_exporter": "python",
   "pygments_lexer": "ipython3",
   "version": "3.8.3"
  },
  "papermill": {
   "default_parameters": {},
   "duration": 172.916837,
   "end_time": "2022-06-22T11:40:07.627374",
   "environment_variables": {},
   "exception": null,
   "input_path": "ABC_GAN-TabNet.ipynb",
   "output_path": "./ABC_GAN_TabNet/ABC-GAN_output_1_5.ipynb",
   "parameters": {
    "bias": 0.1,
    "variance": 0.01
   },
   "start_time": "2022-06-22T11:37:14.710537",
   "version": "2.3.3"
  }
 },
 "nbformat": 4,
 "nbformat_minor": 5
}