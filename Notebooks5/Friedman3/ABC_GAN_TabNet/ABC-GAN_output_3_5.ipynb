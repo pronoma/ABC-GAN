{
 "cells": [
  {
   "cell_type": "markdown",
   "id": "622780e6",
   "metadata": {
    "id": "622780e6",
    "papermill": {
     "duration": 0.034431,
     "end_time": "2022-06-22T12:36:04.494126",
     "exception": false,
     "start_time": "2022-06-22T12:36:04.459695",
     "status": "completed"
    },
    "tags": []
   },
   "source": [
    "## Import Libraries "
   ]
  },
  {
   "cell_type": "code",
   "execution_count": 1,
   "id": "a62397e3",
   "metadata": {
    "execution": {
     "iopub.execute_input": "2022-06-22T12:36:04.563189Z",
     "iopub.status.busy": "2022-06-22T12:36:04.557694Z",
     "iopub.status.idle": "2022-06-22T12:36:04.565141Z",
     "shell.execute_reply": "2022-06-22T12:36:04.564100Z"
    },
    "id": "a62397e3",
    "papermill": {
     "duration": 0.042807,
     "end_time": "2022-06-22T12:36:04.566407",
     "exception": false,
     "start_time": "2022-06-22T12:36:04.523600",
     "status": "completed"
    },
    "tags": []
   },
   "outputs": [],
   "source": [
    "import warnings\n",
    "import sys\n",
    "sys.path.insert(0, '../../src')\n",
    "warnings.filterwarnings('ignore')"
   ]
  },
  {
   "cell_type": "code",
   "execution_count": 2,
   "id": "d6a4e155",
   "metadata": {
    "execution": {
     "iopub.execute_input": "2022-06-22T12:36:04.609544Z",
     "iopub.status.busy": "2022-06-22T12:36:04.608315Z",
     "iopub.status.idle": "2022-06-22T12:36:10.098473Z",
     "shell.execute_reply": "2022-06-22T12:36:10.099165Z"
    },
    "id": "d6a4e155",
    "papermill": {
     "duration": 5.513223,
     "end_time": "2022-06-22T12:36:10.099522",
     "exception": false,
     "start_time": "2022-06-22T12:36:04.586299",
     "status": "completed"
    },
    "tags": []
   },
   "outputs": [],
   "source": [
    "import ABC_train_test2\n",
    "import friedman3Dataset\n",
    "import network\n",
    "import dataset\n",
    "import sanityChecks\n",
    "import torch \n",
    "import scrapbook as sb\n",
    "from statistics import mean \n",
    "import catboost as ctb \n",
    "from sklearn.model_selection import train_test_split\n",
    "from sklearn.metrics import mean_squared_error,mean_absolute_error\n",
    "import numpy as np\n",
    "from pytorch_tabnet.tab_model import TabNetRegressor"
   ]
  },
  {
   "cell_type": "markdown",
   "id": "2fa5b0f7",
   "metadata": {
    "id": "2fa5b0f7",
    "papermill": {
     "duration": 0.018584,
     "end_time": "2022-06-22T12:36:10.134885",
     "exception": false,
     "start_time": "2022-06-22T12:36:10.116301",
     "status": "completed"
    },
    "tags": []
   },
   "source": [
    "## Parameters "
   ]
  },
  {
   "cell_type": "code",
   "execution_count": 3,
   "id": "783186fb",
   "metadata": {
    "execution": {
     "iopub.execute_input": "2022-06-22T12:36:10.178598Z",
     "iopub.status.busy": "2022-06-22T12:36:10.177822Z",
     "iopub.status.idle": "2022-06-22T12:36:10.180019Z",
     "shell.execute_reply": "2022-06-22T12:36:10.180602Z"
    },
    "id": "783186fb",
    "papermill": {
     "duration": 0.028341,
     "end_time": "2022-06-22T12:36:10.180827",
     "exception": false,
     "start_time": "2022-06-22T12:36:10.152486",
     "status": "completed"
    },
    "tags": [
     "parameters"
    ]
   },
   "outputs": [],
   "source": [
    "variance = 1\n",
    "bias = 1 "
   ]
  },
  {
   "cell_type": "code",
   "execution_count": 4,
   "id": "8217effd",
   "metadata": {
    "execution": {
     "iopub.execute_input": "2022-06-22T12:36:10.213372Z",
     "iopub.status.busy": "2022-06-22T12:36:10.212644Z",
     "iopub.status.idle": "2022-06-22T12:36:10.214752Z",
     "shell.execute_reply": "2022-06-22T12:36:10.215215Z"
    },
    "papermill": {
     "duration": 0.019508,
     "end_time": "2022-06-22T12:36:10.215415",
     "exception": false,
     "start_time": "2022-06-22T12:36:10.195907",
     "status": "completed"
    },
    "tags": [
     "injected-parameters"
    ]
   },
   "outputs": [],
   "source": [
    "# Parameters\n",
    "variance = 0.01\n",
    "bias = 0.1\n"
   ]
  },
  {
   "cell_type": "markdown",
   "id": "391cdbfd",
   "metadata": {
    "id": "391cdbfd",
    "papermill": {
     "duration": 0.017735,
     "end_time": "2022-06-22T12:36:10.246045",
     "exception": false,
     "start_time": "2022-06-22T12:36:10.228310",
     "status": "completed"
    },
    "tags": []
   },
   "source": [
    "## Dataset \n"
   ]
  },
  {
   "cell_type": "code",
   "execution_count": 5,
   "id": "5b51f161",
   "metadata": {
    "execution": {
     "iopub.execute_input": "2022-06-22T12:36:10.282381Z",
     "iopub.status.busy": "2022-06-22T12:36:10.281663Z",
     "iopub.status.idle": "2022-06-22T12:36:10.284408Z",
     "shell.execute_reply": "2022-06-22T12:36:10.284962Z"
    },
    "id": "5b51f161",
    "papermill": {
     "duration": 0.022106,
     "end_time": "2022-06-22T12:36:10.285173",
     "exception": false,
     "start_time": "2022-06-22T12:36:10.263067",
     "status": "completed"
    },
    "tags": []
   },
   "outputs": [],
   "source": [
    "#Parameters \n",
    "n_features = 4\n",
    "n_samples= 100\n",
    "n_target = 1"
   ]
  },
  {
   "cell_type": "code",
   "execution_count": 6,
   "id": "5d6eced4",
   "metadata": {
    "execution": {
     "iopub.execute_input": "2022-06-22T12:36:10.321368Z",
     "iopub.status.busy": "2022-06-22T12:36:10.317888Z",
     "iopub.status.idle": "2022-06-22T12:36:10.333914Z",
     "shell.execute_reply": "2022-06-22T12:36:10.334514Z"
    },
    "id": "5d6eced4",
    "papermill": {
     "duration": 0.03602,
     "end_time": "2022-06-22T12:36:10.334741",
     "exception": false,
     "start_time": "2022-06-22T12:36:10.298721",
     "status": "completed"
    },
    "tags": []
   },
   "outputs": [
    {
     "name": "stdout",
     "output_type": "stream",
     "text": [
      "          X1           X2        X3         X4         Y\n",
      "0  30.266087   819.144298  0.842362   8.348697  1.714471\n",
      "1  68.749960   614.990040  0.503353  10.332690  1.521646\n",
      "2  72.250558   513.438360  0.475832   5.257309  1.295723\n",
      "3  87.472900  1275.202254  0.150210   6.404798  1.172670\n",
      "4  40.306840  1741.921596  0.366172   1.450407  1.191604\n"
     ]
    }
   ],
   "source": [
    "X,Y = friedman3Dataset.friedman3_data(n_samples)"
   ]
  },
  {
   "cell_type": "code",
   "execution_count": 7,
   "id": "fe007438",
   "metadata": {
    "execution": {
     "iopub.execute_input": "2022-06-22T12:36:10.384593Z",
     "iopub.status.busy": "2022-06-22T12:36:10.381369Z",
     "iopub.status.idle": "2022-06-22T12:36:10.385718Z",
     "shell.execute_reply": "2022-06-22T12:36:10.386444Z"
    },
    "id": "fe007438",
    "papermill": {
     "duration": 0.035968,
     "end_time": "2022-06-22T12:36:10.386756",
     "exception": false,
     "start_time": "2022-06-22T12:36:10.350788",
     "status": "completed"
    },
    "tags": []
   },
   "outputs": [],
   "source": [
    "#Train test split for dataset \n",
    "X_train,X_test,Y_train,Y_test = train_test_split(X,Y,test_size = 0.2)\n",
    "train_data = dataset.CustomDataset(X_train,Y_train)\n",
    "test_data = dataset.CustomDataset(X_test,Y_test)\n"
   ]
  },
  {
   "cell_type": "markdown",
   "id": "a9a1af34",
   "metadata": {
    "id": "a9a1af34",
    "papermill": {
     "duration": 0.015946,
     "end_time": "2022-06-22T12:36:10.419137",
     "exception": false,
     "start_time": "2022-06-22T12:36:10.403191",
     "status": "completed"
    },
    "tags": []
   },
   "source": [
    "## Training Parameters "
   ]
  },
  {
   "cell_type": "code",
   "execution_count": 8,
   "id": "952b7fc8",
   "metadata": {
    "execution": {
     "iopub.execute_input": "2022-06-22T12:36:10.455656Z",
     "iopub.status.busy": "2022-06-22T12:36:10.452412Z",
     "iopub.status.idle": "2022-06-22T12:36:10.456562Z",
     "shell.execute_reply": "2022-06-22T12:36:10.457065Z"
    },
    "id": "952b7fc8",
    "papermill": {
     "duration": 0.023184,
     "end_time": "2022-06-22T12:36:10.457272",
     "exception": false,
     "start_time": "2022-06-22T12:36:10.434088",
     "status": "completed"
    },
    "tags": []
   },
   "outputs": [],
   "source": [
    "batch_size = 32\n",
    "n_epochs = 1000\n",
    "#Select the device \n",
    "device = torch.device('cuda' if torch.cuda.is_available() else 'cpu')"
   ]
  },
  {
   "cell_type": "markdown",
   "id": "a95e1600",
   "metadata": {
    "id": "a95e1600",
    "papermill": {
     "duration": 0.020779,
     "end_time": "2022-06-22T12:36:10.493448",
     "exception": false,
     "start_time": "2022-06-22T12:36:10.472669",
     "status": "completed"
    },
    "tags": []
   },
   "source": [
    "# ABC Pre-generator Model \n",
    "\n",
    "1. The catboost model is used as a pre-generator model for the ABC-GAN. \n",
    "2. The model is first trained on the entire dataset \n",
    "3. It generats X,Y pairs and we add some Gaussian noise with mean 0 and variance 1 to it which is then feed as input to the generator.\n"
   ]
  },
  {
   "cell_type": "code",
   "execution_count": 9,
   "id": "ff8ce7bd",
   "metadata": {
    "execution": {
     "iopub.execute_input": "2022-06-22T12:36:10.540568Z",
     "iopub.status.busy": "2022-06-22T12:36:10.539667Z",
     "iopub.status.idle": "2022-06-22T12:36:22.968296Z",
     "shell.execute_reply": "2022-06-22T12:36:22.968803Z"
    },
    "id": "ff8ce7bd",
    "papermill": {
     "duration": 12.452879,
     "end_time": "2022-06-22T12:36:22.969021",
     "exception": false,
     "start_time": "2022-06-22T12:36:10.516142",
     "status": "completed"
    },
    "tags": []
   },
   "outputs": [
    {
     "name": "stdout",
     "output_type": "stream",
     "text": [
      "Device used : cpu\n"
     ]
    },
    {
     "name": "stdout",
     "output_type": "stream",
     "text": [
      "epoch 0  | loss: 0.98174 | train_mse: 2.10917 | train_mae: 1.11071 |  0:00:00s\n",
      "epoch 1  | loss: 0.56006 | train_mse: 1.80193 | train_mae: 1.00489 |  0:00:00s\n",
      "epoch 2  | loss: 0.53036 | train_mse: 1.9364  | train_mae: 1.02985 |  0:00:00s\n"
     ]
    },
    {
     "name": "stdout",
     "output_type": "stream",
     "text": [
      "epoch 3  | loss: 0.66579 | train_mse: 2.02987 | train_mae: 1.08745 |  0:00:00s\n",
      "epoch 4  | loss: 0.45627 | train_mse: 0.89424 | train_mae: 0.77356 |  0:00:00s\n",
      "epoch 5  | loss: 0.3679  | train_mse: 0.57965 | train_mae: 0.61481 |  0:00:00s\n"
     ]
    },
    {
     "name": "stdout",
     "output_type": "stream",
     "text": [
      "epoch 6  | loss: 0.2679  | train_mse: 0.74667 | train_mae: 0.67693 |  0:00:00s\n",
      "epoch 7  | loss: 0.46013 | train_mse: 0.98445 | train_mae: 0.77112 |  0:00:00s\n",
      "epoch 8  | loss: 0.5273  | train_mse: 0.83055 | train_mae: 0.73003 |  0:00:00s\n",
      "epoch 9  | loss: 0.39039 | train_mse: 0.75187 | train_mae: 0.70727 |  0:00:00s\n"
     ]
    },
    {
     "name": "stdout",
     "output_type": "stream",
     "text": [
      "epoch 10 | loss: 0.45986 | train_mse: 0.51865 | train_mae: 0.56842 |  0:00:00s\n",
      "epoch 11 | loss: 0.44286 | train_mse: 0.46926 | train_mae: 0.52854 |  0:00:01s\n",
      "epoch 12 | loss: 0.40677 | train_mse: 0.38407 | train_mae: 0.47455 |  0:00:01s\n"
     ]
    },
    {
     "name": "stdout",
     "output_type": "stream",
     "text": [
      "epoch 13 | loss: 0.36845 | train_mse: 0.40628 | train_mae: 0.46783 |  0:00:01s\n",
      "epoch 14 | loss: 0.36581 | train_mse: 0.36988 | train_mae: 0.44936 |  0:00:01s\n"
     ]
    },
    {
     "name": "stdout",
     "output_type": "stream",
     "text": [
      "epoch 15 | loss: 0.30093 | train_mse: 0.38236 | train_mae: 0.43928 |  0:00:01s\n",
      "epoch 16 | loss: 0.29636 | train_mse: 0.4071  | train_mae: 0.46133 |  0:00:01s\n",
      "epoch 17 | loss: 0.32318 | train_mse: 0.44779 | train_mae: 0.48908 |  0:00:01s\n"
     ]
    },
    {
     "name": "stdout",
     "output_type": "stream",
     "text": [
      "epoch 18 | loss: 0.30848 | train_mse: 0.38981 | train_mae: 0.46491 |  0:00:01s\n",
      "epoch 19 | loss: 0.29932 | train_mse: 0.39344 | train_mae: 0.45728 |  0:00:01s\n",
      "epoch 20 | loss: 0.33751 | train_mse: 0.42586 | train_mae: 0.48309 |  0:00:01s\n"
     ]
    },
    {
     "name": "stdout",
     "output_type": "stream",
     "text": [
      "epoch 21 | loss: 0.27284 | train_mse: 0.33991 | train_mae: 0.43718 |  0:00:02s\n",
      "epoch 22 | loss: 0.31958 | train_mse: 0.34185 | train_mae: 0.44203 |  0:00:02s\n",
      "epoch 23 | loss: 0.24056 | train_mse: 0.35923 | train_mae: 0.4394  |  0:00:02s\n"
     ]
    },
    {
     "name": "stdout",
     "output_type": "stream",
     "text": [
      "epoch 24 | loss: 0.31068 | train_mse: 0.24802 | train_mae: 0.38204 |  0:00:02s\n",
      "epoch 25 | loss: 0.2271  | train_mse: 0.27525 | train_mae: 0.388   |  0:00:02s\n",
      "epoch 26 | loss: 0.38085 | train_mse: 0.31853 | train_mae: 0.41636 |  0:00:02s\n"
     ]
    },
    {
     "name": "stdout",
     "output_type": "stream",
     "text": [
      "epoch 27 | loss: 0.34381 | train_mse: 0.30699 | train_mae: 0.40672 |  0:00:02s\n",
      "epoch 28 | loss: 0.30788 | train_mse: 0.25716 | train_mae: 0.38264 |  0:00:02s\n",
      "epoch 29 | loss: 0.27986 | train_mse: 0.25067 | train_mae: 0.38363 |  0:00:02s\n"
     ]
    },
    {
     "name": "stdout",
     "output_type": "stream",
     "text": [
      "epoch 30 | loss: 0.2385  | train_mse: 0.26447 | train_mae: 0.39273 |  0:00:02s\n",
      "epoch 31 | loss: 0.29779 | train_mse: 0.24057 | train_mae: 0.37962 |  0:00:02s\n",
      "epoch 32 | loss: 0.37592 | train_mse: 0.22963 | train_mae: 0.36442 |  0:00:02s\n"
     ]
    },
    {
     "name": "stdout",
     "output_type": "stream",
     "text": [
      "epoch 33 | loss: 0.33096 | train_mse: 0.20355 | train_mae: 0.33156 |  0:00:03s\n",
      "epoch 34 | loss: 0.26578 | train_mse: 0.17242 | train_mae: 0.30836 |  0:00:03s\n"
     ]
    },
    {
     "name": "stdout",
     "output_type": "stream",
     "text": [
      "epoch 35 | loss: 0.26112 | train_mse: 0.17524 | train_mae: 0.31808 |  0:00:03s\n",
      "epoch 36 | loss: 0.19475 | train_mse: 0.18444 | train_mae: 0.33522 |  0:00:03s\n",
      "epoch 37 | loss: 0.20558 | train_mse: 0.19989 | train_mae: 0.35677 |  0:00:03s\n",
      "epoch 38 | loss: 0.19909 | train_mse: 0.19704 | train_mae: 0.35138 |  0:00:03s\n"
     ]
    },
    {
     "name": "stdout",
     "output_type": "stream",
     "text": [
      "epoch 39 | loss: 0.20113 | train_mse: 0.16598 | train_mae: 0.32    |  0:00:03s\n",
      "epoch 40 | loss: 0.20363 | train_mse: 0.15003 | train_mae: 0.30034 |  0:00:03s\n",
      "epoch 41 | loss: 0.17455 | train_mse: 0.12656 | train_mae: 0.28217 |  0:00:03s\n"
     ]
    },
    {
     "name": "stdout",
     "output_type": "stream",
     "text": [
      "epoch 42 | loss: 0.17785 | train_mse: 0.14859 | train_mae: 0.30486 |  0:00:03s\n",
      "epoch 43 | loss: 0.1714  | train_mse: 0.18034 | train_mae: 0.33555 |  0:00:03s\n",
      "epoch 44 | loss: 0.16597 | train_mse: 0.25114 | train_mae: 0.38502 |  0:00:03s\n"
     ]
    },
    {
     "name": "stdout",
     "output_type": "stream",
     "text": [
      "epoch 45 | loss: 0.1501  | train_mse: 0.22252 | train_mae: 0.35615 |  0:00:03s\n",
      "epoch 46 | loss: 0.17029 | train_mse: 0.17188 | train_mae: 0.30972 |  0:00:04s\n",
      "epoch 47 | loss: 0.16333 | train_mse: 0.15734 | train_mae: 0.29256 |  0:00:04s\n"
     ]
    },
    {
     "name": "stdout",
     "output_type": "stream",
     "text": [
      "epoch 48 | loss: 0.19969 | train_mse: 0.16619 | train_mae: 0.30658 |  0:00:04s\n",
      "epoch 49 | loss: 0.13197 | train_mse: 0.19984 | train_mae: 0.33049 |  0:00:04s\n",
      "epoch 50 | loss: 0.28347 | train_mse: 0.20563 | train_mae: 0.34126 |  0:00:04s\n",
      "epoch 51 | loss: 0.23461 | train_mse: 0.20082 | train_mae: 0.34436 |  0:00:04s\n"
     ]
    },
    {
     "name": "stdout",
     "output_type": "stream",
     "text": [
      "epoch 52 | loss: 0.17151 | train_mse: 0.17401 | train_mae: 0.32061 |  0:00:04s\n",
      "epoch 53 | loss: 0.19325 | train_mse: 0.18577 | train_mae: 0.32758 |  0:00:04s\n",
      "epoch 54 | loss: 0.17152 | train_mse: 0.22349 | train_mae: 0.35896 |  0:00:04s\n",
      "epoch 55 | loss: 0.22837 | train_mse: 0.24174 | train_mae: 0.36307 |  0:00:04s\n"
     ]
    },
    {
     "name": "stdout",
     "output_type": "stream",
     "text": [
      "epoch 56 | loss: 0.22604 | train_mse: 0.20122 | train_mae: 0.3389  |  0:00:04s\n",
      "epoch 57 | loss: 0.26197 | train_mse: 0.18012 | train_mae: 0.31665 |  0:00:04s\n",
      "epoch 58 | loss: 0.1421  | train_mse: 0.14815 | train_mae: 0.28672 |  0:00:04s\n"
     ]
    },
    {
     "name": "stdout",
     "output_type": "stream",
     "text": [
      "epoch 59 | loss: 0.1752  | train_mse: 0.13123 | train_mae: 0.27122 |  0:00:04s\n",
      "epoch 60 | loss: 0.15009 | train_mse: 0.14578 | train_mae: 0.27042 |  0:00:05s\n",
      "epoch 61 | loss: 0.32765 | train_mse: 0.18613 | train_mae: 0.30509 |  0:00:05s\n"
     ]
    },
    {
     "name": "stdout",
     "output_type": "stream",
     "text": [
      "epoch 62 | loss: 0.22688 | train_mse: 0.18189 | train_mae: 0.30681 |  0:00:05s\n",
      "epoch 63 | loss: 0.31749 | train_mse: 0.14264 | train_mae: 0.27492 |  0:00:05s\n",
      "epoch 64 | loss: 0.17281 | train_mse: 0.12395 | train_mae: 0.25296 |  0:00:05s\n",
      "epoch 65 | loss: 0.14025 | train_mse: 0.12318 | train_mae: 0.25958 |  0:00:05s\n"
     ]
    },
    {
     "name": "stdout",
     "output_type": "stream",
     "text": [
      "epoch 66 | loss: 0.23233 | train_mse: 0.12681 | train_mae: 0.25754 |  0:00:05s\n",
      "epoch 67 | loss: 0.21169 | train_mse: 0.12497 | train_mae: 0.25563 |  0:00:05s\n",
      "epoch 68 | loss: 0.27552 | train_mse: 0.11342 | train_mae: 0.24278 |  0:00:05s\n"
     ]
    },
    {
     "name": "stdout",
     "output_type": "stream",
     "text": [
      "epoch 69 | loss: 0.15898 | train_mse: 0.10484 | train_mae: 0.23295 |  0:00:05s\n",
      "epoch 70 | loss: 0.13716 | train_mse: 0.0987  | train_mae: 0.23073 |  0:00:05s\n",
      "epoch 71 | loss: 0.14777 | train_mse: 0.10294 | train_mae: 0.24157 |  0:00:05s\n"
     ]
    },
    {
     "name": "stdout",
     "output_type": "stream",
     "text": [
      "epoch 72 | loss: 0.21348 | train_mse: 0.13969 | train_mae: 0.27252 |  0:00:05s\n",
      "epoch 73 | loss: 0.18937 | train_mse: 0.15426 | train_mae: 0.28962 |  0:00:05s\n",
      "epoch 74 | loss: 0.19427 | train_mse: 0.12466 | train_mae: 0.25569 |  0:00:06s\n"
     ]
    },
    {
     "name": "stdout",
     "output_type": "stream",
     "text": [
      "epoch 75 | loss: 0.1259  | train_mse: 0.11381 | train_mae: 0.24618 |  0:00:06s\n",
      "epoch 76 | loss: 0.21445 | train_mse: 0.10426 | train_mae: 0.23746 |  0:00:06s\n",
      "epoch 77 | loss: 0.31149 | train_mse: 0.10633 | train_mae: 0.23816 |  0:00:06s\n"
     ]
    },
    {
     "name": "stdout",
     "output_type": "stream",
     "text": [
      "epoch 78 | loss: 0.13903 | train_mse: 0.10904 | train_mae: 0.24762 |  0:00:06s\n",
      "epoch 79 | loss: 0.20598 | train_mse: 0.11706 | train_mae: 0.25717 |  0:00:06s\n",
      "epoch 80 | loss: 0.21699 | train_mse: 0.11532 | train_mae: 0.25888 |  0:00:06s\n",
      "epoch 81 | loss: 0.20115 | train_mse: 0.11201 | train_mae: 0.25262 |  0:00:06s\n"
     ]
    },
    {
     "name": "stdout",
     "output_type": "stream",
     "text": [
      "epoch 82 | loss: 0.23679 | train_mse: 0.11015 | train_mae: 0.25386 |  0:00:06s\n",
      "epoch 83 | loss: 0.14371 | train_mse: 0.10514 | train_mae: 0.24286 |  0:00:06s\n",
      "epoch 84 | loss: 0.1375  | train_mse: 0.09892 | train_mae: 0.2384  |  0:00:06s\n"
     ]
    },
    {
     "name": "stdout",
     "output_type": "stream",
     "text": [
      "epoch 85 | loss: 0.25596 | train_mse: 0.10086 | train_mae: 0.24626 |  0:00:06s\n",
      "epoch 86 | loss: 0.14632 | train_mse: 0.13065 | train_mae: 0.28324 |  0:00:06s\n",
      "epoch 87 | loss: 0.12536 | train_mse: 0.14469 | train_mae: 0.29586 |  0:00:06s\n"
     ]
    },
    {
     "name": "stdout",
     "output_type": "stream",
     "text": [
      "epoch 88 | loss: 0.16263 | train_mse: 0.12744 | train_mae: 0.27601 |  0:00:07s\n",
      "epoch 89 | loss: 0.16758 | train_mse: 0.10045 | train_mae: 0.24114 |  0:00:07s\n",
      "epoch 90 | loss: 0.17655 | train_mse: 0.09421 | train_mae: 0.23461 |  0:00:07s\n"
     ]
    },
    {
     "name": "stdout",
     "output_type": "stream",
     "text": [
      "epoch 91 | loss: 0.19141 | train_mse: 0.10408 | train_mae: 0.25035 |  0:00:07s\n",
      "epoch 92 | loss: 0.16339 | train_mse: 0.10626 | train_mae: 0.25048 |  0:00:07s\n",
      "epoch 93 | loss: 0.15984 | train_mse: 0.10652 | train_mae: 0.25726 |  0:00:07s\n"
     ]
    },
    {
     "name": "stdout",
     "output_type": "stream",
     "text": [
      "epoch 94 | loss: 0.16288 | train_mse: 0.09478 | train_mae: 0.23639 |  0:00:07s\n",
      "epoch 95 | loss: 0.3867  | train_mse: 0.09606 | train_mae: 0.23817 |  0:00:07s\n",
      "epoch 96 | loss: 0.23727 | train_mse: 0.10401 | train_mae: 0.25608 |  0:00:07s\n",
      "epoch 97 | loss: 0.23918 | train_mse: 0.09477 | train_mae: 0.23558 |  0:00:07s\n"
     ]
    },
    {
     "name": "stdout",
     "output_type": "stream",
     "text": [
      "epoch 98 | loss: 0.16584 | train_mse: 0.09674 | train_mae: 0.23388 |  0:00:07s\n",
      "epoch 99 | loss: 0.18341 | train_mse: 0.09769 | train_mae: 0.23221 |  0:00:07s\n",
      "epoch 100| loss: 0.13439 | train_mse: 0.09473 | train_mae: 0.23081 |  0:00:07s\n"
     ]
    },
    {
     "name": "stdout",
     "output_type": "stream",
     "text": [
      "epoch 101| loss: 0.18383 | train_mse: 0.09382 | train_mae: 0.23031 |  0:00:07s\n",
      "epoch 102| loss: 0.14792 | train_mse: 0.09914 | train_mae: 0.23565 |  0:00:08s\n",
      "epoch 103| loss: 0.15919 | train_mse: 0.09224 | train_mae: 0.2288  |  0:00:08s\n"
     ]
    },
    {
     "name": "stdout",
     "output_type": "stream",
     "text": [
      "epoch 104| loss: 0.17765 | train_mse: 0.10683 | train_mae: 0.24963 |  0:00:08s\n",
      "epoch 105| loss: 0.25049 | train_mse: 0.1156  | train_mae: 0.26112 |  0:00:08s\n",
      "epoch 106| loss: 0.13525 | train_mse: 0.12763 | train_mae: 0.27647 |  0:00:08s\n"
     ]
    },
    {
     "name": "stdout",
     "output_type": "stream",
     "text": [
      "epoch 107| loss: 0.18656 | train_mse: 0.13582 | train_mae: 0.27994 |  0:00:08s\n",
      "epoch 108| loss: 0.17631 | train_mse: 0.11314 | train_mae: 0.25893 |  0:00:08s\n",
      "epoch 109| loss: 0.17937 | train_mse: 0.09628 | train_mae: 0.24172 |  0:00:08s\n"
     ]
    },
    {
     "name": "stdout",
     "output_type": "stream",
     "text": [
      "epoch 110| loss: 0.20147 | train_mse: 0.09337 | train_mae: 0.2344  |  0:00:08s\n",
      "epoch 111| loss: 0.11434 | train_mse: 0.0896  | train_mae: 0.22932 |  0:00:08s\n",
      "epoch 112| loss: 0.11784 | train_mse: 0.08558 | train_mae: 0.22404 |  0:00:08s\n",
      "epoch 113| loss: 0.11905 | train_mse: 0.08137 | train_mae: 0.21948 |  0:00:08s"
     ]
    },
    {
     "name": "stdout",
     "output_type": "stream",
     "text": [
      "\n",
      "epoch 114| loss: 0.20812 | train_mse: 0.07962 | train_mae: 0.21521 |  0:00:08s\n",
      "epoch 115| loss: 0.19798 | train_mse: 0.08608 | train_mae: 0.22471 |  0:00:08s\n"
     ]
    },
    {
     "name": "stdout",
     "output_type": "stream",
     "text": [
      "epoch 116| loss: 0.1345  | train_mse: 0.08664 | train_mae: 0.22468 |  0:00:09s\n",
      "epoch 117| loss: 0.18039 | train_mse: 0.08533 | train_mae: 0.22466 |  0:00:09s\n",
      "epoch 118| loss: 0.16296 | train_mse: 0.09698 | train_mae: 0.22453 |  0:00:09s\n",
      "epoch 119| loss: 0.13408 | train_mse: 0.09995 | train_mae: 0.22993 |  0:00:09s\n"
     ]
    },
    {
     "name": "stdout",
     "output_type": "stream",
     "text": [
      "epoch 120| loss: 0.12972 | train_mse: 0.11241 | train_mae: 0.24636 |  0:00:09s\n",
      "epoch 121| loss: 0.23692 | train_mse: 0.12626 | train_mae: 0.25027 |  0:00:09s\n",
      "epoch 122| loss: 0.22532 | train_mse: 0.09788 | train_mae: 0.22235 |  0:00:09s\n",
      "epoch 123| loss: 0.1285  | train_mse: 0.10154 | train_mae: 0.21884 |  0:00:09s\n"
     ]
    },
    {
     "name": "stdout",
     "output_type": "stream",
     "text": [
      "epoch 124| loss: 0.1865  | train_mse: 0.1068  | train_mae: 0.22743 |  0:00:09s\n",
      "epoch 125| loss: 0.19514 | train_mse: 0.11545 | train_mae: 0.23527 |  0:00:09s\n",
      "epoch 126| loss: 0.31758 | train_mse: 0.1224  | train_mae: 0.23782 |  0:00:09s\n",
      "epoch 127| loss: 0.11836 | train_mse: 0.10625 | train_mae: 0.2314  |  0:00:09s\n"
     ]
    },
    {
     "name": "stdout",
     "output_type": "stream",
     "text": [
      "epoch 128| loss: 0.11329 | train_mse: 0.09671 | train_mae: 0.2248  |  0:00:09s\n",
      "epoch 129| loss: 0.13161 | train_mse: 0.09721 | train_mae: 0.2174  |  0:00:09s\n",
      "epoch 130| loss: 0.19251 | train_mse: 0.10691 | train_mae: 0.22893 |  0:00:10s\n"
     ]
    },
    {
     "name": "stdout",
     "output_type": "stream",
     "text": [
      "epoch 131| loss: 0.11569 | train_mse: 0.10505 | train_mae: 0.22305 |  0:00:10s\n",
      "epoch 132| loss: 0.14357 | train_mse: 0.11514 | train_mae: 0.23095 |  0:00:10s\n",
      "epoch 133| loss: 0.18386 | train_mse: 0.13905 | train_mae: 0.25502 |  0:00:10s\n",
      "epoch 134| loss: 0.1607  | train_mse: 0.13846 | train_mae: 0.25142 |  0:00:10s\n"
     ]
    },
    {
     "name": "stdout",
     "output_type": "stream",
     "text": [
      "epoch 135| loss: 0.13811 | train_mse: 0.13744 | train_mae: 0.25382 |  0:00:10s\n",
      "epoch 136| loss: 0.13487 | train_mse: 0.14447 | train_mae: 0.26223 |  0:00:10s\n",
      "epoch 137| loss: 0.13307 | train_mse: 0.13275 | train_mae: 0.2489  |  0:00:10s\n",
      "epoch 138| loss: 0.16332 | train_mse: 0.12831 | train_mae: 0.25296 |  0:00:10s\n"
     ]
    },
    {
     "name": "stdout",
     "output_type": "stream",
     "text": [
      "epoch 139| loss: 0.12698 | train_mse: 0.1264  | train_mae: 0.25176 |  0:00:10s\n",
      "epoch 140| loss: 0.17027 | train_mse: 0.1249  | train_mae: 0.25829 |  0:00:10s\n",
      "epoch 141| loss: 0.13795 | train_mse: 0.10989 | train_mae: 0.24618 |  0:00:10s\n"
     ]
    },
    {
     "name": "stdout",
     "output_type": "stream",
     "text": [
      "epoch 142| loss: 0.12765 | train_mse: 0.10651 | train_mae: 0.24745 |  0:00:10s\n",
      "epoch 143| loss: 0.20642 | train_mse: 0.09795 | train_mae: 0.23819 |  0:00:10s\n",
      "epoch 144| loss: 0.2113  | train_mse: 0.09748 | train_mae: 0.23278 |  0:00:10s\n"
     ]
    },
    {
     "name": "stdout",
     "output_type": "stream",
     "text": [
      "epoch 145| loss: 0.17133 | train_mse: 0.09666 | train_mae: 0.23741 |  0:00:11s\n",
      "epoch 146| loss: 0.13936 | train_mse: 0.09704 | train_mae: 0.24158 |  0:00:11s\n",
      "epoch 147| loss: 0.25411 | train_mse: 0.08717 | train_mae: 0.22806 |  0:00:11s\n",
      "epoch 148| loss: 0.09377 | train_mse: 0.08805 | train_mae: 0.22237 |  0:00:11s\n"
     ]
    },
    {
     "name": "stdout",
     "output_type": "stream",
     "text": [
      "epoch 149| loss: 0.18026 | train_mse: 0.08864 | train_mae: 0.22696 |  0:00:11s\n",
      "epoch 150| loss: 0.13359 | train_mse: 0.09345 | train_mae: 0.23047 |  0:00:11s\n",
      "epoch 151| loss: 0.14751 | train_mse: 0.09135 | train_mae: 0.23107 |  0:00:11s\n",
      "epoch 152| loss: 0.11983 | train_mse: 0.07661 | train_mae: 0.21586 |  0:00:11s\n"
     ]
    },
    {
     "name": "stdout",
     "output_type": "stream",
     "text": [
      "epoch 153| loss: 0.11329 | train_mse: 0.07875 | train_mae: 0.22518 |  0:00:11s\n",
      "epoch 154| loss: 0.15024 | train_mse: 0.08876 | train_mae: 0.23839 |  0:00:11s\n",
      "epoch 155| loss: 0.1063  | train_mse: 0.10099 | train_mae: 0.25214 |  0:00:11s\n",
      "epoch 156| loss: 0.14368 | train_mse: 0.10205 | train_mae: 0.24883 |  0:00:11s\n"
     ]
    },
    {
     "name": "stdout",
     "output_type": "stream",
     "text": [
      "epoch 157| loss: 0.13808 | train_mse: 0.11666 | train_mae: 0.25602 |  0:00:11s\n",
      "epoch 158| loss: 0.10279 | train_mse: 0.1192  | train_mae: 0.246   |  0:00:11s\n",
      "epoch 159| loss: 0.12082 | train_mse: 0.12244 | train_mae: 0.2449  |  0:00:12s\n"
     ]
    },
    {
     "name": "stdout",
     "output_type": "stream",
     "text": [
      "epoch 160| loss: 0.15931 | train_mse: 0.12231 | train_mae: 0.24063 |  0:00:12s\n",
      "epoch 161| loss: 0.16602 | train_mse: 0.11284 | train_mae: 0.24107 |  0:00:12s\n",
      "epoch 162| loss: 0.1227  | train_mse: 0.10696 | train_mae: 0.24045 |  0:00:12s\n"
     ]
    },
    {
     "name": "stdout",
     "output_type": "stream",
     "text": [
      "epoch 163| loss: 0.13533 | train_mse: 0.09628 | train_mae: 0.23527 |  0:00:12s\n",
      "epoch 164| loss: 0.21446 | train_mse: 0.10428 | train_mae: 0.23929 |  0:00:12s\n",
      "\n",
      "Early stopping occurred at epoch 164 with best_epoch = 114 and best_train_mae = 0.21521\n",
      "Best weights from best epoch are automatically used!\n"
     ]
    }
   ],
   "source": [
    "#Train the Model\n",
    "\n",
    "Y_train = np.reshape(Y_train, (-1, 1))\n",
    "Y_test = np.reshape(Y_test, (-1, 1))\n",
    "\n",
    "prior_model = TabNetRegressor(optimizer_fn=torch.optim.Adam, optimizer_params=dict(lr = 0.02),\n",
    "          #scheduler_params={\"step_size\":10, ], \"gamma\":0.9},\n",
    "          #scheduler_fn=torch.optim.lr_scheduler.StepLR\n",
    "          )  #TabNetRegressor()\n",
    "\n",
    "prior_model.fit(X_train,Y_train,eval_set=[(X_train, Y_train)],\n",
    "            eval_name=['train'], \n",
    "            eval_metric=[ 'mse', 'mae'], \n",
    "            max_epochs = n_epochs, \n",
    "            batch_size = batch_size,\n",
    "            patience=50\n",
    "            )"
   ]
  },
  {
   "cell_type": "code",
   "execution_count": 10,
   "id": "af65dcda",
   "metadata": {
    "execution": {
     "iopub.execute_input": "2022-06-22T12:36:23.034606Z",
     "iopub.status.busy": "2022-06-22T12:36:23.031943Z",
     "iopub.status.idle": "2022-06-22T12:36:23.055610Z",
     "shell.execute_reply": "2022-06-22T12:36:23.056114Z"
    },
    "id": "af65dcda",
    "papermill": {
     "duration": 0.061367,
     "end_time": "2022-06-22T12:36:23.056327",
     "exception": false,
     "start_time": "2022-06-22T12:36:22.994960",
     "status": "completed"
    },
    "tags": []
   },
   "outputs": [
    {
     "data": {
      "application/scrapbook.scrap.json+json": {
       "data": 0.3593265193290137,
       "encoder": "json",
       "name": "Prior Model MSE",
       "version": 1
      }
     },
     "metadata": {
      "scrapbook": {
       "data": true,
       "display": false,
       "name": "Prior Model MSE"
      }
     },
     "output_type": "display_data"
    },
    {
     "data": {
      "application/scrapbook.scrap.json+json": {
       "data": 0.3987063928412292,
       "encoder": "json",
       "name": "ABC Pre-generator MSE",
       "version": 1
      }
     },
     "metadata": {
      "scrapbook": {
       "data": true,
       "display": false,
       "name": "ABC Pre-generator MSE"
      }
     },
     "output_type": "display_data"
    },
    {
     "data": {
      "application/scrapbook.scrap.json+json": {
       "data": 0.45515866436899977,
       "encoder": "json",
       "name": "Prior Model MSE",
       "version": 1
      }
     },
     "metadata": {
      "scrapbook": {
       "data": true,
       "display": false,
       "name": "Prior Model MSE"
      }
     },
     "output_type": "display_data"
    },
    {
     "data": {
      "application/scrapbook.scrap.json+json": {
       "data": 0.5001652106142181,
       "encoder": "json",
       "name": "ABC Pre-generator MSE",
       "version": 1
      }
     },
     "metadata": {
      "scrapbook": {
       "data": true,
       "display": false,
       "name": "ABC Pre-generator MSE"
      }
     },
     "output_type": "display_data"
    }
   ],
   "source": [
    "y_pred = prior_model.predict(X_test)\n",
    "y_abc = y_pred + np.random.normal(0,variance, y_pred.shape) + bias \n",
    "mse = mean_squared_error(y_pred,Y_test)\n",
    "sb.glue(\"Prior Model MSE\",mse)\n",
    "mse = mean_squared_error(y_abc,Y_test)\n",
    "sb.glue(\"ABC Pre-generator MSE\",mse)\n",
    "mae = mean_absolute_error(y_pred,Y_test)\n",
    "sb.glue(\"Prior Model MSE\",mae)\n",
    "mae = mean_absolute_error(y_abc,Y_test)\n",
    "sb.glue(\"ABC Pre-generator MSE\",mae)"
   ]
  },
  {
   "cell_type": "markdown",
   "id": "25609da2",
   "metadata": {
    "papermill": {
     "duration": 0.035853,
     "end_time": "2022-06-22T12:36:23.122740",
     "exception": false,
     "start_time": "2022-06-22T12:36:23.086887",
     "status": "completed"
    },
    "tags": []
   },
   "source": [
    "# ABC GAN Model"
   ]
  },
  {
   "cell_type": "code",
   "execution_count": 11,
   "id": "dfc3464d",
   "metadata": {
    "execution": {
     "iopub.execute_input": "2022-06-22T12:36:23.197873Z",
     "iopub.status.busy": "2022-06-22T12:36:23.197119Z",
     "iopub.status.idle": "2022-06-22T12:36:23.201650Z",
     "shell.execute_reply": "2022-06-22T12:36:23.202104Z"
    },
    "papermill": {
     "duration": 0.050265,
     "end_time": "2022-06-22T12:36:23.202320",
     "exception": false,
     "start_time": "2022-06-22T12:36:23.152055",
     "status": "completed"
    },
    "tags": []
   },
   "outputs": [],
   "source": [
    "gen = network.Generator(n_features+1).to(device)\n",
    "disc = network.Discriminator(n_features+1).to(device)\n",
    "\n",
    "criterion = torch.nn.BCELoss()\n",
    "gen_opt = torch.optim.Adam(gen.parameters(), lr=0.001, betas=(0.5, 0.999))\n",
    "disc_opt = torch.optim.Adam(disc.parameters(), lr=0.001, betas=(0.5, 0.999))"
   ]
  },
  {
   "cell_type": "code",
   "execution_count": 12,
   "id": "b75fdd85",
   "metadata": {
    "execution": {
     "iopub.execute_input": "2022-06-22T12:36:23.269085Z",
     "iopub.status.busy": "2022-06-22T12:36:23.268176Z",
     "iopub.status.idle": "2022-06-22T12:37:06.270747Z",
     "shell.execute_reply": "2022-06-22T12:37:06.271233Z"
    },
    "papermill": {
     "duration": 43.041299,
     "end_time": "2022-06-22T12:37:06.271452",
     "exception": false,
     "start_time": "2022-06-22T12:36:23.230153",
     "status": "completed"
    },
    "tags": []
   },
   "outputs": [
    {
     "data": {
      "image/png": "[encoded data removed]",
      "text/plain": [
       "<Figure size 432x288 with 1 Axes>"
      ]
     },
     "metadata": {
      "needs_background": "light"
     },
     "output_type": "display_data"
    },
    {
     "data": {
      "image/png": "[encoded data removed]",
      "text/plain": [
       "<Figure size 432x288 with 1 Axes>"
      ]
     },
     "metadata": {
      "needs_background": "light"
     },
     "output_type": "display_data"
    }
   ],
   "source": [
    "#Training the ABC_GAN \n",
    "ABC_train_test2.training_GAN(disc,gen,disc_opt,gen_opt,train_data,batch_size,n_epochs,criterion,prior_model,variance,bias,device)"
   ]
  },
  {
   "cell_type": "code",
   "execution_count": 13,
   "id": "1fa7c368",
   "metadata": {
    "execution": {
     "iopub.execute_input": "2022-06-22T12:37:06.353274Z",
     "iopub.status.busy": "2022-06-22T12:37:06.352341Z",
     "iopub.status.idle": "2022-06-22T12:37:07.109030Z",
     "shell.execute_reply": "2022-06-22T12:37:07.110010Z"
    },
    "papermill": {
     "duration": 0.809675,
     "end_time": "2022-06-22T12:37:07.110287",
     "exception": false,
     "start_time": "2022-06-22T12:37:06.300612",
     "status": "completed"
    },
    "tags": []
   },
   "outputs": [
    {
     "data": {
      "application/scrapbook.scrap.json+json": {
       "data": 0.37356528632401764,
       "encoder": "json",
       "name": "ABC-GAN Model 1 MSE",
       "version": 1
      }
     },
     "metadata": {
      "scrapbook": {
       "data": true,
       "display": false,
       "name": "ABC-GAN Model 1 MSE"
      }
     },
     "output_type": "display_data"
    },
    {
     "data": {
      "application/scrapbook.scrap.json+json": {
       "data": 0.49564646438509224,
       "encoder": "json",
       "name": "ABC-GAN Model 1 MAE",
       "version": 1
      }
     },
     "metadata": {
      "scrapbook": {
       "data": true,
       "display": false,
       "name": "ABC-GAN Model 1 MAE"
      }
     },
     "output_type": "display_data"
    },
    {
     "data": {
      "application/scrapbook.scrap.json+json": {
       "data": 9.912929287701845,
       "encoder": "json",
       "name": "ABC-GAN Model 1 Manhattan Distance",
       "version": 1
      }
     },
     "metadata": {
      "scrapbook": {
       "data": true,
       "display": false,
       "name": "ABC-GAN Model 1 Manhattan Distance"
      }
     },
     "output_type": "display_data"
    },
    {
     "data": {
      "application/scrapbook.scrap.json+json": {
       "data": 2.7333415285971765,
       "encoder": "json",
       "name": "ABC-GAN Model 1 Euclidean distance",
       "version": 1
      }
     },
     "metadata": {
      "scrapbook": {
       "data": true,
       "display": false,
       "name": "ABC-GAN Model 1 Euclidean distance"
      }
     },
     "output_type": "display_data"
    },
    {
     "data": {
      "application/scrapbook.scrap.json+json": {
       "data": [
        [
         0.37675293204219734,
         0.3771339802994085,
         0.3737856088623962,
         0.3699641185001791,
         0.37844656761791196,
         0.3761007903065797,
         0.3753957064826313,
         0.3722697775406727,
         0.37006639228989624,
         0.3749924469798123,
         0.37341935669695436,
         0.3785197493060961,
         0.37183243187178827,
         0.3759038356315876,
         0.37504047120434947,
         0.3809793540353213,
         0.37315451051664283,
         0.3731303594739078,
         0.3724040252269556,
         0.3736927765522628,
         0.37668034488437857,
         0.37675810867365794,
         0.37422568735997247,
         0.37398834019709265,
         0.37325310463784783,
         0.3718997944136084,
         0.3655675541702916,
         0.3768835282019737,
         0.3785717921451871,
         0.3750538745717657,
         0.3796489309659856,
         0.36594275032274537,
         0.3800668946989171,
         0.37329422554716757,
         0.37690226492785284,
         0.3704249745171268,
         0.37174429260213576,
         0.3685049180175993,
         0.3716858306735493,
         0.37077590520462406,
         0.3747424769968474,
         0.37382946098523806,
         0.3751460906606612,
         0.37570421290107203,
         0.37502572507126847,
         0.37298216423369895,
         0.3689630532046212,
         0.3774825768606481,
         0.37029585926890907,
         0.37401287204790956,
         0.37161076130366083,
         0.3682847245297859,
         0.37099658163503657,
         0.375702360571132,
         0.36943277967127175,
         0.3724456599007716,
         0.37977399247471355,
         0.36793983598425234,
         0.3731120600764619,
         0.37963990632067857,
         0.3723342435347168,
         0.37778633959685937,
         0.37496487237192744,
         0.37277688241363893,
         0.3706359034678393,
         0.37098484727508857,
         0.3744206918505944,
         0.3741649171631045,
         0.3755846341323828,
         0.3716621648398566,
         0.3717260920874492,
         0.373170918127959,
         0.37048906595521724,
         0.37818075192703465,
         0.3697132452757875,
         0.3747261638206738,
         0.36478425555338656,
         0.3807166306543282,
         0.36984826265593695,
         0.37503576702222324,
         0.3713640819588889,
         0.37944490106558476,
         0.3768949565830148,
         0.37554488161498456,
         0.37708515172564927,
         0.37348167484570166,
         0.36983402777964647,
         0.3746194876565249,
         0.371501793741994,
         0.37217932241085505,
         0.3734166974978843,
         0.3760766145493382,
         0.3724911913094318,
         0.37035884654005197,
         0.3734964930767476,
         0.37035631549519266,
         0.3703613286314113,
         0.37107935107047013,
         0.3709130127432777,
         0.3703403895094379
        ],
        [
         0.4993359291926026,
         0.4980224842205644,
         0.4941564196720719,
         0.49430339578539134,
         0.4967073241248727,
         0.4984530607238412,
         0.49674667213112117,
         0.494917524792254,
         0.4934593537822366,
         0.4982460105791688,
         0.4938695544376969,
         0.49903789851814506,
         0.49297318402677776,
         0.5000402832403779,
         0.49680481646209956,
         0.5013224819675088,
         0.49474683348089454,
         0.4942322844639421,
         0.4944347823038697,
         0.4970702761784196,
         0.49677323196083306,
         0.49520583245903255,
         0.49702642355114224,
         0.4930858412757516,
         0.4967908332124352,
         0.4943112635985017,
         0.49120253417640924,
         0.4961153561249375,
         0.500741202570498,
         0.4956143254414201,
         0.4970748612657189,
         0.49343015942722557,
         0.4978032628074288,
         0.4970073426142335,
         0.4973037699237466,
         0.4938992688432336,
         0.4941193634644151,
         0.49376529548317194,
         0.49542356822639705,
         0.4940771276131272,
         0.49871288482099774,
         0.4937637561932206,
         0.4951406905427575,
         0.49887736830860374,
         0.49432580415159466,
         0.4960412899032235,
         0.49072237554937603,
         0.4987042540684342,
         0.49197337720543144,
         0.49561660531908275,
         0.4926743874326348,
         0.48933137599378823,
         0.4954186284914613,
         0.49489257130771874,
         0.4946396956220269,
         0.4939769545570016,
         0.4984865734353662,
         0.49054311458021405,
         0.4959965879097581,
         0.4977549919858575,
         0.49571341667324303,
         0.49931201729923486,
         0.49724201057106254,
         0.49628197494894266,
         0.49502665642648935,
         0.4925014743581414,
         0.4976474875584245,
         0.49422079268842933,
         0.4969920003786683,
         0.4955648446455598,
         0.49563736710697415,
         0.4965267965570092,
         0.49541453216224907,
         0.49722655657678844,
         0.49265792313963175,
         0.4962065422907472,
         0.4880184421315789,
         0.49884466025978325,
         0.492683338560164,
         0.49461910370737316,
         0.4959418231621385,
         0.4997950503602624,
         0.4983877340331674,
         0.4994686270132661,
         0.49870138708502054,
         0.4959169620648026,
         0.492973312176764,
         0.497591077722609,
         0.49441191647201777,
         0.4970433393493295,
         0.4970859343186021,
         0.4955875286832452,
         0.49443746600300076,
         0.49373457077890637,
         0.4943205798044801,
         0.49474095050245526,
         0.4954081499949098,
         0.49495410565286874,
         0.4943068275228143,
         0.494256436266005
        ],
        [
         9.986718583852053,
         9.960449684411287,
         9.883128393441439,
         9.886067915707827,
         9.934146482497454,
         9.969061214476824,
         9.934933442622423,
         9.89835049584508,
         9.869187075644732,
         9.964920211583376,
         9.877391088753939,
         9.980757970362902,
         9.859463680535555,
         10.000805664807558,
         9.936096329241991,
         10.026449639350176,
         9.894936669617891,
         9.884645689278841,
         9.888695646077394,
         9.941405523568392,
         9.935464639216661,
         9.90411664918065,
         9.940528471022844,
         9.861716825515032,
         9.935816664248705,
         9.886225271970034,
         9.824050683528185,
         9.92230712249875,
         10.01482405140996,
         9.912286508828402,
         9.941497225314379,
         9.868603188544512,
         9.956065256148577,
         9.94014685228467,
         9.946075398474932,
         9.877985376864672,
         9.882387269288301,
         9.875305909663439,
         9.90847136452794,
         9.881542552262545,
         9.974257696419954,
         9.875275123864412,
         9.90281381085515,
         9.977547366172075,
         9.886516083031893,
         9.92082579806447,
         9.81444751098752,
         9.974085081368685,
         9.83946754410863,
         9.912332106381655,
         9.853487748652697,
         9.786627519875765,
         9.908372569829226,
         9.897851426154375,
         9.892793912440538,
         9.879539091140032,
         9.969731468707323,
         9.81086229160428,
         9.919931758195162,
         9.95509983971715,
         9.914268333464861,
         9.986240345984697,
         9.944840211421251,
         9.925639498978853,
         9.900533128529787,
         9.850029487162828,
         9.95294975116849,
         9.884415853768587,
         9.939840007573366,
         9.911296892911196,
         9.912747342139482,
         9.930535931140184,
         9.908290643244982,
         9.944531131535769,
         9.853158462792635,
         9.924130845814943,
         9.760368842631578,
         9.976893205195665,
         9.85366677120328,
         9.892382074147463,
         9.91883646324277,
         9.995901007205248,
         9.967754680663347,
         9.989372540265322,
         9.97402774170041,
         9.918339241296053,
         9.85946624353528,
         9.95182155445218,
         9.888238329440355,
         9.94086678698659,
         9.941718686372042,
         9.911750573664904,
         9.888749320060015,
         9.874691415578127,
         9.886411596089602,
         9.894819010049105,
         9.908162999898195,
         9.899082113057375,
         9.886136550456285,
         9.8851287253201
        ],
        [
         2.745006127651439,
         2.746393927678287,
         2.73417486222954,
         2.720162195532388,
         2.751169088289238,
         2.7426293599630984,
         2.7400573223297036,
         2.728625212595796,
         2.720538153711123,
         2.7385852076567283,
         2.7328349993988086,
         2.7514350775771397,
         2.7270219356352388,
         2.7419111423661695,
         2.7387605634825016,
         2.7603599549164644,
         2.731865701372023,
         2.731777295000117,
         2.7291171657770783,
         2.733835315275091,
         2.744741681413311,
         2.7450249859469693,
         2.735783936497809,
         2.7349162334415023,
         2.732226581518626,
         2.7272689431503023,
         2.7039510134996587,
         2.7454818455126366,
         2.75162421905749,
         2.7388095025823382,
         2.7555359949236213,
         2.705338242522533,
         2.7570523923165373,
         2.7323770806649934,
         2.7455500903383747,
         2.721855890810999,
         2.726698709436507,
         2.7147925077898654,
         2.7264842954748496,
         2.7231448922325967,
         2.7376722849780517,
         2.7343352427426963,
         2.7391461832500332,
         2.741183003380373,
         2.7387067205937496,
         2.731234754588843,
         2.7164795350034248,
         2.7476629227787313,
         2.721381484720248,
         2.7350059306989065,
         2.726208947618142,
         2.7139812988662464,
         2.7239551451337687,
         2.741176245961328,
         2.718208158590036,
         2.729269718810406,
         2.7559898130244007,
         2.7127102166809203,
         2.73171030702914,
         2.755503243767565,
         2.728861460516883,
         2.7487682317607622,
         2.7384845165599434,
         2.7304830430297087,
         2.722630725852624,
         2.723912066404085,
         2.7364966356661005,
         2.7355617966447205,
         2.7407467381441237,
         2.7263974942764913,
         2.7266319593500303,
         2.7319257608066843,
         2.72209135024972,
         2.7502027268077334,
         2.719239766095618,
         2.737612696568577,
         2.7010525931695093,
         2.7594080185950327,
         2.7197362469766695,
         2.7387433871110423,
         2.725303953539454,
         2.7547954590698187,
         2.745523471336622,
         2.7406016916545335,
         2.7462161303351538,
         2.7330630246875085,
         2.719683907293811,
         2.7372230002560074,
         2.7258092146810053,
         2.7282936880433346,
         2.7328252688303523,
         2.7425412104445694,
         2.7294365400552247,
         2.721612928173483,
         2.7331172425519825,
         2.7216036283602825,
         2.721622048086072,
         2.7242589857444544,
         2.7236483353886847,
         2.721545110812745
        ]
       ],
       "encoder": "json",
       "name": "ABC_GAN_1 Metrics",
       "version": 1
      }
     },
     "metadata": {
      "scrapbook": {
       "data": true,
       "display": false,
       "name": "ABC_GAN_1 Metrics"
      }
     },
     "output_type": "display_data"
    },
    {
     "name": "stdout",
     "output_type": "stream",
     "text": [
      "MSE\n",
      "0.37356528632401764\n"
     ]
    }
   ],
   "source": [
    "ABC_GAN1_metrics=ABC_train_test2.test_generator(gen,test_data,prior_model,variance,bias,\"1\",device)\n",
    "sb.glue(\"ABC_GAN_1 Metrics\",ABC_GAN1_metrics)\n",
    "\n",
    "print(\"MSE\")\n",
    "print(mean(ABC_GAN1_metrics[0]))"
   ]
  },
  {
   "cell_type": "code",
   "execution_count": 14,
   "id": "eb22ce5c",
   "metadata": {
    "execution": {
     "iopub.execute_input": "2022-06-22T12:37:07.192557Z",
     "iopub.status.busy": "2022-06-22T12:37:07.191859Z",
     "iopub.status.idle": "2022-06-22T12:37:07.952091Z",
     "shell.execute_reply": "2022-06-22T12:37:07.952682Z"
    },
    "papermill": {
     "duration": 0.809205,
     "end_time": "2022-06-22T12:37:07.952878",
     "exception": false,
     "start_time": "2022-06-22T12:37:07.143673",
     "status": "completed"
    },
    "tags": []
   },
   "outputs": [
    {
     "data": {
      "image/png": "[encoded data removed]",
      "text/plain": [
       "<Figure size 432x288 with 1 Axes>"
      ]
     },
     "metadata": {
      "needs_background": "light"
     },
     "output_type": "display_data"
    },
    {
     "data": {
      "image/png": "[encoded data removed]",
      "text/plain": [
       "<Figure size 432x288 with 1 Axes>"
      ]
     },
     "metadata": {
      "needs_background": "light"
     },
     "output_type": "display_data"
    },
    {
     "data": {
      "image/png": "[encoded data removed]",
      "text/plain": [
       "<Figure size 432x288 with 1 Axes>"
      ]
     },
     "metadata": {
      "needs_background": "light"
     },
     "output_type": "display_data"
    },
    {
     "data": {
      "image/png": "[encoded data removed]",
      "text/plain": [
       "<Figure size 432x288 with 1 Axes>"
      ]
     },
     "metadata": {
      "needs_background": "light"
     },
     "output_type": "display_data"
    }
   ],
   "source": [
    "sanityChecks.discProbVsError(train_data,disc,device)\n",
    "sanityChecks.discProbVsError(test_data,disc,device)"
   ]
  },
  {
   "cell_type": "markdown",
   "id": "130f3a4d",
   "metadata": {
    "id": "130f3a4d",
    "papermill": {
     "duration": 0.03981,
     "end_time": "2022-06-22T12:37:08.031152",
     "exception": false,
     "start_time": "2022-06-22T12:37:07.991342",
     "status": "completed"
    },
    "tags": []
   },
   "source": [
    "# ABC - GAN Model with skip connection"
   ]
  },
  {
   "cell_type": "code",
   "execution_count": 15,
   "id": "4e43dad1",
   "metadata": {
    "execution": {
     "iopub.execute_input": "2022-06-22T12:37:08.126724Z",
     "iopub.status.busy": "2022-06-22T12:37:08.125928Z",
     "iopub.status.idle": "2022-06-22T12:37:08.128820Z",
     "shell.execute_reply": "2022-06-22T12:37:08.129377Z"
    },
    "id": "4e43dad1",
    "papermill": {
     "duration": 0.060531,
     "end_time": "2022-06-22T12:37:08.129628",
     "exception": false,
     "start_time": "2022-06-22T12:37:08.069097",
     "status": "completed"
    },
    "tags": []
   },
   "outputs": [],
   "source": [
    "#Generator\n",
    "gen3 = network.GeneratorWithSkipConnection(n_features+1).to(device)\n",
    "constraints=network.weightConstraint()\n",
    "#Discriminator \n",
    "disc3 = network.Discriminator(n_features+1).to(device)\n",
    "\n",
    "criterion = torch.nn.BCELoss()\n",
    "gen_opt = torch.optim.Adam(gen3.parameters(), lr=0.001, betas=(0.5, 0.999))\n",
    "disc_opt = torch.optim.Adam(disc3.parameters(), lr=0.001, betas=(0.5, 0.999))\n"
   ]
  },
  {
   "cell_type": "code",
   "execution_count": 16,
   "id": "26acbc37",
   "metadata": {
    "execution": {
     "iopub.execute_input": "2022-06-22T12:37:08.211735Z",
     "iopub.status.busy": "2022-06-22T12:37:08.211015Z",
     "iopub.status.idle": "2022-06-22T12:38:18.894875Z",
     "shell.execute_reply": "2022-06-22T12:38:18.895461Z"
    },
    "id": "26acbc37",
    "papermill": {
     "duration": 70.727196,
     "end_time": "2022-06-22T12:38:18.895798",
     "exception": false,
     "start_time": "2022-06-22T12:37:08.168602",
     "status": "completed"
    },
    "tags": []
   },
   "outputs": [
    {
     "data": {
      "image/png": "[encoded data removed]",
      "text/plain": [
       "<Figure size 432x288 with 1 Axes>"
      ]
     },
     "metadata": {
      "needs_background": "light"
     },
     "output_type": "display_data"
    },
    {
     "data": {
      "image/png": "[encoded data removed]",
      "text/plain": [
       "<Figure size 432x288 with 1 Axes>"
      ]
     },
     "metadata": {
      "needs_background": "light"
     },
     "output_type": "display_data"
    }
   ],
   "source": [
    "ABC_train_test2.training_GAN_skip_connection(disc3,gen3,disc_opt,gen_opt,train_data,batch_size,n_epochs,criterion,prior_model,variance,bias,device)"
   ]
  },
  {
   "cell_type": "code",
   "execution_count": 17,
   "id": "c5e0717b",
   "metadata": {
    "execution": {
     "iopub.execute_input": "2022-06-22T12:38:18.986864Z",
     "iopub.status.busy": "2022-06-22T12:38:18.985959Z",
     "iopub.status.idle": "2022-06-22T12:38:19.759887Z",
     "shell.execute_reply": "2022-06-22T12:38:19.760426Z"
    },
    "id": "c5e0717b",
    "papermill": {
     "duration": 0.82552,
     "end_time": "2022-06-22T12:38:19.760674",
     "exception": false,
     "start_time": "2022-06-22T12:38:18.935154",
     "status": "completed"
    },
    "tags": []
   },
   "outputs": [
    {
     "data": {
      "application/scrapbook.scrap.json+json": {
       "data": 0.3155159991607042,
       "encoder": "json",
       "name": "ABC-GAN Model 3 MSE",
       "version": 1
      }
     },
     "metadata": {
      "scrapbook": {
       "data": true,
       "display": false,
       "name": "ABC-GAN Model 3 MSE"
      }
     },
     "output_type": "display_data"
    },
    {
     "data": {
      "application/scrapbook.scrap.json+json": {
       "data": 0.4541460865661502,
       "encoder": "json",
       "name": "ABC-GAN Model 3 MAE",
       "version": 1
      }
     },
     "metadata": {
      "scrapbook": {
       "data": true,
       "display": false,
       "name": "ABC-GAN Model 3 MAE"
      }
     },
     "output_type": "display_data"
    },
    {
     "data": {
      "application/scrapbook.scrap.json+json": {
       "data": 9.082921731323005,
       "encoder": "json",
       "name": "ABC-GAN Model 3 Manhattan Distance",
       "version": 1
      }
     },
     "metadata": {
      "scrapbook": {
       "data": true,
       "display": false,
       "name": "ABC-GAN Model 3 Manhattan Distance"
      }
     },
     "output_type": "display_data"
    },
    {
     "data": {
      "application/scrapbook.scrap.json+json": {
       "data": 2.512018727534256,
       "encoder": "json",
       "name": "ABC-GAN Model 3 Euclidean distance",
       "version": 1
      }
     },
     "metadata": {
      "scrapbook": {
       "data": true,
       "display": false,
       "name": "ABC-GAN Model 3 Euclidean distance"
      }
     },
     "output_type": "display_data"
    },
    {
     "data": {
      "application/scrapbook.scrap.json+json": {
       "data": [
        [
         0.3152194573183007,
         0.3165827386125144,
         0.31249592698661055,
         0.3147720022610028,
         0.31645742560413737,
         0.3135547635036607,
         0.31485804842549053,
         0.31447576471741473,
         0.316989766235791,
         0.3153778275030505,
         0.3133116895804067,
         0.31547632224708094,
         0.3188183636306846,
         0.31348225163108157,
         0.31614981880040804,
         0.3121613187275653,
         0.31253096153863386,
         0.31349328788639064,
         0.3145963125392023,
         0.31835586015222284,
         0.314722502074149,
         0.3186513738133093,
         0.3143018180271052,
         0.31465778950063694,
         0.31713158560660554,
         0.32061279708930523,
         0.3135223076248698,
         0.31391712915732295,
         0.3172242406575205,
         0.32005386714895545,
         0.3171410210171145,
         0.31411475089883484,
         0.31554906475452016,
         0.3182294258454006,
         0.31651369033364024,
         0.3149850842845892,
         0.31098701621796454,
         0.31812275134244905,
         0.31931537036291774,
         0.3134810570462396,
         0.316309194640943,
         0.3185812033943089,
         0.31911325949970165,
         0.31295840838666117,
         0.3144260157997486,
         0.31879996550798106,
         0.3129940462825166,
         0.31312480461052306,
         0.31260209111561615,
         0.3171416055761796,
         0.31621702824355025,
         0.3125181060625387,
         0.3155210202309906,
         0.31666157420913227,
         0.3154088703986427,
         0.3138711063810552,
         0.31744320309210905,
         0.3164118165841313,
         0.31013627494435236,
         0.3123550762651584,
         0.3155746450664282,
         0.3168397060406488,
         0.3163559419504368,
         0.3109398392467312,
         0.3181813106429164,
         0.315438713590227,
         0.3120047939262953,
         0.3176560460025105,
         0.3138284218549675,
         0.3164517320774284,
         0.31708246213638824,
         0.31271648632058663,
         0.3145744894828329,
         0.3206445195193632,
         0.3151411274550113,
         0.3148846167000537,
         0.31368322070233945,
         0.31886363278607543,
         0.3169636823798385,
         0.3144196199685771,
         0.31511978246729055,
         0.3184410488638581,
         0.31724305842834666,
         0.31735201534898005,
         0.3162667690667568,
         0.31339211871414696,
         0.3163575604532717,
         0.31424837104500924,
         0.3119666615332416,
         0.3126276613222983,
         0.3124015148545317,
         0.31512815157842067,
         0.3168247567638497,
         0.3131035845215188,
         0.3187994448145415,
         0.3160570678907203,
         0.3175724124207576,
         0.3177863390901088,
         0.31712620398249286,
         0.3165511631296803
        ],
        [
         0.4536422172561288,
         0.4546785870566964,
         0.4526872167363763,
         0.4548156255856156,
         0.45531086567789314,
         0.45200575683265926,
         0.45106789860874413,
         0.45107343439012765,
         0.4562556916847825,
         0.4534557456150651,
         0.45328581128269435,
         0.45383765939623116,
         0.45747705940157174,
         0.4516214707866311,
         0.45369531158357856,
         0.4514804581180215,
         0.45052095148712396,
         0.4529752740636468,
         0.45299929920583965,
         0.45712393764406445,
         0.45509301219135523,
         0.45610422138124707,
         0.4534989962354302,
         0.45158805046230555,
         0.4547580176964402,
         0.45958909336477516,
         0.45155234429985286,
         0.4513434419408441,
         0.45619520638138056,
         0.4597664648666978,
         0.4561075711622834,
         0.45379866305738686,
         0.456711801327765,
         0.45520709846168755,
         0.4535685310140252,
         0.45578010771423577,
         0.4505898917093873,
         0.45443265829235313,
         0.45682299677282573,
         0.45291901025921105,
         0.4551797131076455,
         0.4558627808466554,
         0.4538950243964791,
         0.45180708114057777,
         0.4551005223765969,
         0.4562527099624276,
         0.4512568796053529,
         0.45201466474682095,
         0.4537554929032922,
         0.4548224741593003,
         0.4545130247250199,
         0.4511437812820077,
         0.4529673809185624,
         0.45463063661009073,
         0.45349816922098396,
         0.4526616418734193,
         0.45602111611515284,
         0.45505820754915477,
         0.45023225639015435,
         0.45252249483019114,
         0.45300028566271067,
         0.45492231491953133,
         0.45448573771864176,
         0.4517033377662301,
         0.4577458227053285,
         0.4556223342195153,
         0.45274480525404215,
         0.45870829913765193,
         0.4534036749973893,
         0.4556706750765443,
         0.4573461482301354,
         0.45182410124689343,
         0.45359992776066066,
         0.45745354387909176,
         0.4530899846926332,
         0.452934649027884,
         0.4530531311407685,
         0.4558985034003854,
         0.45535401348024607,
         0.4526938671246171,
         0.45438577625900506,
         0.4570886665955186,
         0.4558811763301492,
         0.4534367511048913,
         0.45310854259878397,
         0.452155495621264,
         0.4549044186249375,
         0.4527901092544198,
         0.4530117655172944,
         0.45173279885202644,
         0.4515928277745843,
         0.4542786667123437,
         0.45523919705301524,
         0.45121802631765606,
         0.45676662120968103,
         0.4549771571531892,
         0.4578394452109933,
         0.45541891399770973,
         0.4540960470214486,
         0.45479759220033883
        ],
        [
         9.072844345122576,
         9.093571741133928,
         9.053744334727526,
         9.096312511712313,
         9.106217313557863,
         9.040115136653185,
         9.021357972174883,
         9.021468687802553,
         9.12511383369565,
         9.069114912301302,
         9.065716225653887,
         9.076753187924623,
         9.149541188031435,
         9.032429415732622,
         9.073906231671572,
         9.02960916236043,
         9.01041902974248,
         9.059505481272936,
         9.059985984116793,
         9.142478752881289,
         9.101860243827105,
         9.12208442762494,
         9.069979924708605,
         9.031761009246111,
         9.095160353928804,
         9.191781867295504,
         9.031046885997057,
         9.026868838816881,
         9.123904127627611,
         9.195329297333956,
         9.122151423245668,
         9.075973261147738,
         9.1342360265553,
         9.104141969233751,
         9.071370620280504,
         9.115602154284716,
         9.011797834187746,
         9.088653165847063,
         9.136459935456514,
         9.058380205184221,
         9.10359426215291,
         9.117255616933107,
         9.077900487929583,
         9.036141622811556,
         9.102010447531939,
         9.125054199248552,
         9.025137592107058,
         9.040293294936419,
         9.075109858065844,
         9.096449483186007,
         9.090260494500399,
         9.022875625640154,
         9.059347618371248,
         9.092612732201815,
         9.06996338441968,
         9.053232837468386,
         9.120422322303057,
         9.101164150983095,
         9.004645127803087,
         9.050449896603823,
         9.060005713254213,
         9.098446298390627,
         9.089714754372835,
         9.034066755324602,
         9.15491645410657,
         9.112446684390306,
         9.054896105080843,
         9.174165982753038,
         9.068073499947786,
         9.113413501530886,
         9.146922964602709,
         9.036482024937868,
         9.071998555213213,
         9.149070877581835,
         9.061799693852663,
         9.05869298055768,
         9.06106262281537,
         9.117970068007708,
         9.107080269604921,
         9.053877342492342,
         9.087715525180101,
         9.141773331910372,
         9.117623526602983,
         9.068735022097826,
         9.06217085197568,
         9.04310991242528,
         9.09808837249875,
         9.055802185088396,
         9.060235310345888,
         9.03465597704053,
         9.031856555491686,
         9.085573334246874,
         9.104783941060305,
         9.02436052635312,
         9.13533242419362,
         9.099543143063784,
         9.156788904219866,
         9.108378279954195,
         9.081920940428972,
         9.095951844006777
        ],
        [
         2.5108542662540203,
         2.516277960053358,
         2.4999837078933553,
         2.5090715504385392,
         2.5157799013591684,
         2.504215499926716,
         2.509414467263192,
         2.50789060653536,
         2.5178950186049893,
         2.5114849292920334,
         2.503244652767311,
         2.511877076001455,
         2.5251469803981097,
         2.5039259239485565,
         2.5145568945657524,
         2.498644907655209,
         2.5001238430871133,
         2.5039699993665683,
         2.5083712346429197,
         2.523314725325491,
         2.5088742578062733,
         2.5244855864643365,
         2.5071969129970832,
         2.508616309843484,
         2.518458201386735,
         2.5322432627585574,
         2.50408589159745,
         2.505662104743267,
         2.5188260783846133,
         2.5300350477768303,
         2.5184956661353004,
         2.506450681337396,
         2.5121666535264735,
         2.5228136112103114,
         2.5160035386844757,
         2.5099206532661116,
         2.4939407219016436,
         2.5223907363548936,
         2.5271144428494634,
         2.5039211530966368,
         2.515190627530816,
         2.5242076118826238,
         2.5263145469228556,
         2.5018329615970014,
         2.507692229121224,
         2.525074119735819,
         2.501975404685332,
         2.5024979704707975,
         2.5004083311156045,
         2.518497987198638,
         2.514824161819471,
         2.500072423201131,
         2.51205501624065,
         2.5165912429678854,
         2.5116085300008146,
         2.5054784229007248,
         2.5196952319362316,
         2.5155986030530837,
         2.490527152810635,
         2.4994202378358,
         2.512268477159351,
         2.5172989732673745,
         2.5153764805707985,
         2.4937515483573387,
         2.5226228835991966,
         2.5117273482216453,
         2.49801839034982,
         2.5205398072734755,
         2.50530805233595,
         2.5157572699981547,
         2.5182631400883757,
         2.500865795362025,
         2.5082842322306016,
         2.5323685336828965,
         2.5105422818786036,
         2.509520339427651,
         2.5047284112347965,
         2.525326247383001,
         2.517791422575899,
         2.507666724142493,
         2.510457259015937,
         2.5236523091101835,
         2.5189007857728205,
         2.519333306051345,
         2.515021944503693,
         2.5035659316828345,
         2.515382914998318,
         2.506983729683977,
         2.497865735115647,
         2.5005105931481206,
         2.4996060283753985,
         2.5104905957936614,
         2.5172395863876353,
         2.502413173404899,
         2.525072057643272,
         2.5141880116280895,
         2.520207977214411,
         2.5210566796092024,
         2.518436832570922,
         2.5161524720480686
        ]
       ],
       "encoder": "json",
       "name": "ABC_GAN_3 Metrics",
       "version": 1
      }
     },
     "metadata": {
      "scrapbook": {
       "data": true,
       "display": false,
       "name": "ABC_GAN_3 Metrics"
      }
     },
     "output_type": "display_data"
    },
    {
     "name": "stdout",
     "output_type": "stream",
     "text": [
      "MSE\n",
      "0.3155159991607042\n"
     ]
    }
   ],
   "source": [
    "ABC_GAN3_metrics=ABC_train_test2.test_generator(gen3,test_data,prior_model,variance,bias,\"3\",device)\n",
    "sb.glue(\"ABC_GAN_3 Metrics\",ABC_GAN3_metrics)\n",
    "\n",
    "print(\"MSE\")\n",
    "print(mean(ABC_GAN3_metrics[0]))"
   ]
  },
  {
   "cell_type": "code",
   "execution_count": 18,
   "id": "c8e46b48",
   "metadata": {
    "execution": {
     "iopub.execute_input": "2022-06-22T12:38:19.859255Z",
     "iopub.status.busy": "2022-06-22T12:38:19.858561Z",
     "iopub.status.idle": "2022-06-22T12:38:20.594756Z",
     "shell.execute_reply": "2022-06-22T12:38:20.595184Z"
    },
    "id": "c8e46b48",
    "papermill": {
     "duration": 0.788586,
     "end_time": "2022-06-22T12:38:20.595496",
     "exception": false,
     "start_time": "2022-06-22T12:38:19.806910",
     "status": "completed"
    },
    "tags": []
   },
   "outputs": [
    {
     "data": {
      "image/png": "[encoded data removed]",
      "text/plain": [
       "<Figure size 432x288 with 1 Axes>"
      ]
     },
     "metadata": {
      "needs_background": "light"
     },
     "output_type": "display_data"
    },
    {
     "data": {
      "image/png": "[encoded data removed]",
      "text/plain": [
       "<Figure size 432x288 with 1 Axes>"
      ]
     },
     "metadata": {
      "needs_background": "light"
     },
     "output_type": "display_data"
    },
    {
     "data": {
      "image/png": "[encoded data removed]",
      "text/plain": [
       "<Figure size 432x288 with 1 Axes>"
      ]
     },
     "metadata": {
      "needs_background": "light"
     },
     "output_type": "display_data"
    },
    {
     "data": {
      "image/png": "[encoded data removed]",
      "text/plain": [
       "<Figure size 432x288 with 1 Axes>"
      ]
     },
     "metadata": {
      "needs_background": "light"
     },
     "output_type": "display_data"
    }
   ],
   "source": [
    "sanityChecks.discProbVsError(train_data,disc3,device)\n",
    "sanityChecks.discProbVsError(test_data,disc3,device)"
   ]
  },
  {
   "cell_type": "markdown",
   "id": "a5bd74c3",
   "metadata": {
    "id": "a5bd74c3",
    "papermill": {
     "duration": 0.055063,
     "end_time": "2022-06-22T12:38:20.705676",
     "exception": false,
     "start_time": "2022-06-22T12:38:20.650613",
     "status": "completed"
    },
    "tags": []
   },
   "source": [
    "## Skip Connection Model Analysis - ABC-GAN "
   ]
  },
  {
   "cell_type": "markdown",
   "id": "5744a8bf",
   "metadata": {
    "id": "5744a8bf",
    "papermill": {
     "duration": 0.06482,
     "end_time": "2022-06-22T12:38:20.818872",
     "exception": false,
     "start_time": "2022-06-22T12:38:20.754052",
     "status": "completed"
    },
    "tags": []
   },
   "source": [
    "### Weight Analysis \n",
    "\n",
    "Study the weights of the skip connection layer\n",
    "\n",
    "Equation of the skip connection is \n",
    "\n",
    "$output = y_{gan} * w + y_{abc} * (1-w)$"
   ]
  },
  {
   "cell_type": "code",
   "execution_count": 19,
   "id": "52c31dea",
   "metadata": {
    "execution": {
     "iopub.execute_input": "2022-06-22T12:38:20.937506Z",
     "iopub.status.busy": "2022-06-22T12:38:20.936655Z",
     "iopub.status.idle": "2022-06-22T12:38:20.943799Z",
     "shell.execute_reply": "2022-06-22T12:38:20.944381Z"
    },
    "id": "52c31dea",
    "papermill": {
     "duration": 0.072072,
     "end_time": "2022-06-22T12:38:20.944623",
     "exception": false,
     "start_time": "2022-06-22T12:38:20.872551",
     "status": "completed"
    },
    "tags": []
   },
   "outputs": [
    {
     "name": "stdout",
     "output_type": "stream",
     "text": [
      "Weight of the node at skip connection\n",
      "Parameter containing:\n",
      "tensor([[0.5493]], requires_grad=True)\n"
     ]
    },
    {
     "data": {
      "application/scrapbook.scrap.json+json": {
       "data": 0.5493139028549194,
       "encoder": "json",
       "name": "Skip Connection Weight",
       "version": 1
      }
     },
     "metadata": {
      "scrapbook": {
       "data": true,
       "display": false,
       "name": "Skip Connection Weight"
      }
     },
     "output_type": "display_data"
    }
   ],
   "source": [
    "print(\"Weight of the node at skip connection\")\n",
    "for name,param in gen3.named_parameters():\n",
    "    if(name == \"skipNode.weight\"):\n",
    "        print(param)\n",
    "        sb.glue(\"Skip Connection Weight\",param.item())"
   ]
  }
 ],
 "metadata": {
  "colab": {
   "collapsed_sections": [],
   "name": "ABC_GAN_Model-Catboost_Pre-gen.ipynb",
   "provenance": []
  },
  "interpreter": {
   "hash": "31f2aee4e71d21fbe5cf8b01ff0e069b9275f58929596ceb00d14d90e3e16cd6"
  },
  "kernelspec": {
   "display_name": "Python 3 (ipykernel)",
   "language": "python",
   "name": "python3"
  },
  "language_info": {
   "codemirror_mode": {
    "name": "ipython",
    "version": 3
   },
   "file_extension": ".py",
   "mimetype": "text/x-python",
   "name": "python",
   "nbconvert_exporter": "python",
   "pygments_lexer": "ipython3",
   "version": "3.8.3"
  },
  "papermill": {
   "default_parameters": {},
   "duration": 140.571998,
   "end_time": "2022-06-22T12:38:22.376539",
   "environment_variables": {},
   "exception": null,
   "input_path": "ABC_GAN-TabNet.ipynb",
   "output_path": "./ABC_GAN_TabNet/ABC-GAN_output_3_5.ipynb",
   "parameters": {
    "bias": 0.1,
    "variance": 0.01
   },
   "start_time": "2022-06-22T12:36:01.804541",
   "version": "2.3.3"
  }
 },
 "nbformat": 4,
 "nbformat_minor": 5
}