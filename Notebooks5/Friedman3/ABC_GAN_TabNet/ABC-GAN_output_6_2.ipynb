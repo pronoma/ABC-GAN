{
 "cells": [
  {
   "cell_type": "markdown",
   "id": "622780e6",
   "metadata": {
    "id": "622780e6",
    "papermill": {
     "duration": 0.032379,
     "end_time": "2022-06-22T14:13:53.101772",
     "exception": false,
     "start_time": "2022-06-22T14:13:53.069393",
     "status": "completed"
    },
    "tags": []
   },
   "source": [
    "## Import Libraries "
   ]
  },
  {
   "cell_type": "code",
   "execution_count": 1,
   "id": "a62397e3",
   "metadata": {
    "execution": {
     "iopub.execute_input": "2022-06-22T14:13:53.214774Z",
     "iopub.status.busy": "2022-06-22T14:13:53.212907Z",
     "iopub.status.idle": "2022-06-22T14:13:53.215735Z",
     "shell.execute_reply": "2022-06-22T14:13:53.213939Z"
    },
    "id": "a62397e3",
    "papermill": {
     "duration": 0.089871,
     "end_time": "2022-06-22T14:13:53.215979",
     "exception": false,
     "start_time": "2022-06-22T14:13:53.126108",
     "status": "completed"
    },
    "tags": []
   },
   "outputs": [],
   "source": [
    "import warnings\n",
    "import sys\n",
    "sys.path.insert(0, '../../src')\n",
    "warnings.filterwarnings('ignore')"
   ]
  },
  {
   "cell_type": "code",
   "execution_count": 2,
   "id": "d6a4e155",
   "metadata": {
    "execution": {
     "iopub.execute_input": "2022-06-22T14:13:53.270717Z",
     "iopub.status.busy": "2022-06-22T14:13:53.269751Z",
     "iopub.status.idle": "2022-06-22T14:13:59.512868Z",
     "shell.execute_reply": "2022-06-22T14:13:59.513671Z"
    },
    "id": "d6a4e155",
    "papermill": {
     "duration": 6.278685,
     "end_time": "2022-06-22T14:13:59.513904",
     "exception": false,
     "start_time": "2022-06-22T14:13:53.235219",
     "status": "completed"
    },
    "tags": []
   },
   "outputs": [],
   "source": [
    "import ABC_train_test2\n",
    "import friedman3Dataset\n",
    "import network\n",
    "import dataset\n",
    "import sanityChecks\n",
    "import torch \n",
    "import scrapbook as sb\n",
    "from statistics import mean \n",
    "import catboost as ctb \n",
    "from sklearn.model_selection import train_test_split\n",
    "from sklearn.metrics import mean_squared_error,mean_absolute_error\n",
    "import numpy as np\n",
    "from pytorch_tabnet.tab_model import TabNetRegressor"
   ]
  },
  {
   "cell_type": "markdown",
   "id": "2fa5b0f7",
   "metadata": {
    "id": "2fa5b0f7",
    "papermill": {
     "duration": 0.022697,
     "end_time": "2022-06-22T14:13:59.553846",
     "exception": false,
     "start_time": "2022-06-22T14:13:59.531149",
     "status": "completed"
    },
    "tags": []
   },
   "source": [
    "## Parameters "
   ]
  },
  {
   "cell_type": "code",
   "execution_count": 3,
   "id": "783186fb",
   "metadata": {
    "execution": {
     "iopub.execute_input": "2022-06-22T14:13:59.597548Z",
     "iopub.status.busy": "2022-06-22T14:13:59.596767Z",
     "iopub.status.idle": "2022-06-22T14:13:59.598931Z",
     "shell.execute_reply": "2022-06-22T14:13:59.599561Z"
    },
    "id": "783186fb",
    "papermill": {
     "duration": 0.026134,
     "end_time": "2022-06-22T14:13:59.599791",
     "exception": false,
     "start_time": "2022-06-22T14:13:59.573657",
     "status": "completed"
    },
    "tags": [
     "parameters"
    ]
   },
   "outputs": [],
   "source": [
    "variance = 1\n",
    "bias = 1 "
   ]
  },
  {
   "cell_type": "code",
   "execution_count": 4,
   "id": "4039af43",
   "metadata": {
    "execution": {
     "iopub.execute_input": "2022-06-22T14:13:59.636177Z",
     "iopub.status.busy": "2022-06-22T14:13:59.635408Z",
     "iopub.status.idle": "2022-06-22T14:13:59.637646Z",
     "shell.execute_reply": "2022-06-22T14:13:59.638155Z"
    },
    "papermill": {
     "duration": 0.022389,
     "end_time": "2022-06-22T14:13:59.638374",
     "exception": false,
     "start_time": "2022-06-22T14:13:59.615985",
     "status": "completed"
    },
    "tags": [
     "injected-parameters"
    ]
   },
   "outputs": [],
   "source": [
    "# Parameters\n",
    "variance = 0.01\n",
    "bias = 1\n"
   ]
  },
  {
   "cell_type": "markdown",
   "id": "391cdbfd",
   "metadata": {
    "id": "391cdbfd",
    "papermill": {
     "duration": 0.020509,
     "end_time": "2022-06-22T14:13:59.674807",
     "exception": false,
     "start_time": "2022-06-22T14:13:59.654298",
     "status": "completed"
    },
    "tags": []
   },
   "source": [
    "## Dataset \n"
   ]
  },
  {
   "cell_type": "code",
   "execution_count": 5,
   "id": "5b51f161",
   "metadata": {
    "execution": {
     "iopub.execute_input": "2022-06-22T14:13:59.724370Z",
     "iopub.status.busy": "2022-06-22T14:13:59.722491Z",
     "iopub.status.idle": "2022-06-22T14:13:59.728271Z",
     "shell.execute_reply": "2022-06-22T14:13:59.729196Z"
    },
    "id": "5b51f161",
    "papermill": {
     "duration": 0.037375,
     "end_time": "2022-06-22T14:13:59.729436",
     "exception": false,
     "start_time": "2022-06-22T14:13:59.692061",
     "status": "completed"
    },
    "tags": []
   },
   "outputs": [],
   "source": [
    "#Parameters \n",
    "n_features = 4\n",
    "n_samples= 100\n",
    "n_target = 1"
   ]
  },
  {
   "cell_type": "code",
   "execution_count": 6,
   "id": "5d6eced4",
   "metadata": {
    "execution": {
     "iopub.execute_input": "2022-06-22T14:13:59.766588Z",
     "iopub.status.busy": "2022-06-22T14:13:59.765831Z",
     "iopub.status.idle": "2022-06-22T14:13:59.779462Z",
     "shell.execute_reply": "2022-06-22T14:13:59.779945Z"
    },
    "id": "5d6eced4",
    "papermill": {
     "duration": 0.035472,
     "end_time": "2022-06-22T14:13:59.780168",
     "exception": false,
     "start_time": "2022-06-22T14:13:59.744696",
     "status": "completed"
    },
    "tags": []
   },
   "outputs": [
    {
     "name": "stdout",
     "output_type": "stream",
     "text": [
      "          X1           X2        X3         X4         Y\n",
      "0  94.807388   341.326937  0.153479  10.496675  0.557509\n",
      "1  99.437454  1420.389506  0.873229   1.131477  1.516236\n",
      "2  29.032776  1558.852142  0.157378   7.313185  1.454295\n",
      "3  42.746958  1410.863011  0.526992   9.794672  1.634974\n",
      "4  78.012548   907.416013  0.805511  10.949800  1.402613\n"
     ]
    }
   ],
   "source": [
    "X,Y = friedman3Dataset.friedman3_data(n_samples)"
   ]
  },
  {
   "cell_type": "code",
   "execution_count": 7,
   "id": "fe007438",
   "metadata": {
    "execution": {
     "iopub.execute_input": "2022-06-22T14:13:59.821430Z",
     "iopub.status.busy": "2022-06-22T14:13:59.820652Z",
     "iopub.status.idle": "2022-06-22T14:13:59.823178Z",
     "shell.execute_reply": "2022-06-22T14:13:59.823749Z"
    },
    "id": "fe007438",
    "papermill": {
     "duration": 0.027577,
     "end_time": "2022-06-22T14:13:59.823986",
     "exception": false,
     "start_time": "2022-06-22T14:13:59.796409",
     "status": "completed"
    },
    "tags": []
   },
   "outputs": [],
   "source": [
    "#Train test split for dataset \n",
    "X_train,X_test,Y_train,Y_test = train_test_split(X,Y,test_size = 0.2)\n",
    "train_data = dataset.CustomDataset(X_train,Y_train)\n",
    "test_data = dataset.CustomDataset(X_test,Y_test)\n"
   ]
  },
  {
   "cell_type": "markdown",
   "id": "a9a1af34",
   "metadata": {
    "id": "a9a1af34",
    "papermill": {
     "duration": 0.019188,
     "end_time": "2022-06-22T14:13:59.862250",
     "exception": false,
     "start_time": "2022-06-22T14:13:59.843062",
     "status": "completed"
    },
    "tags": []
   },
   "source": [
    "## Training Parameters "
   ]
  },
  {
   "cell_type": "code",
   "execution_count": 8,
   "id": "952b7fc8",
   "metadata": {
    "execution": {
     "iopub.execute_input": "2022-06-22T14:13:59.903995Z",
     "iopub.status.busy": "2022-06-22T14:13:59.903248Z",
     "iopub.status.idle": "2022-06-22T14:13:59.905680Z",
     "shell.execute_reply": "2022-06-22T14:13:59.906198Z"
    },
    "id": "952b7fc8",
    "papermill": {
     "duration": 0.026068,
     "end_time": "2022-06-22T14:13:59.906415",
     "exception": false,
     "start_time": "2022-06-22T14:13:59.880347",
     "status": "completed"
    },
    "tags": []
   },
   "outputs": [],
   "source": [
    "batch_size = 32\n",
    "n_epochs = 1000\n",
    "#Select the device \n",
    "device = torch.device('cuda' if torch.cuda.is_available() else 'cpu')"
   ]
  },
  {
   "cell_type": "markdown",
   "id": "a95e1600",
   "metadata": {
    "id": "a95e1600",
    "papermill": {
     "duration": 0.031521,
     "end_time": "2022-06-22T14:13:59.955845",
     "exception": false,
     "start_time": "2022-06-22T14:13:59.924324",
     "status": "completed"
    },
    "tags": []
   },
   "source": [
    "# ABC Pre-generator Model \n",
    "\n",
    "1. The catboost model is used as a pre-generator model for the ABC-GAN. \n",
    "2. The model is first trained on the entire dataset \n",
    "3. It generats X,Y pairs and we add some Gaussian noise with mean 0 and variance 1 to it which is then feed as input to the generator.\n"
   ]
  },
  {
   "cell_type": "code",
   "execution_count": 9,
   "id": "ff8ce7bd",
   "metadata": {
    "execution": {
     "iopub.execute_input": "2022-06-22T14:14:00.026476Z",
     "iopub.status.busy": "2022-06-22T14:14:00.024507Z",
     "iopub.status.idle": "2022-06-22T14:14:25.786535Z",
     "shell.execute_reply": "2022-06-22T14:14:25.787169Z"
    },
    "id": "ff8ce7bd",
    "papermill": {
     "duration": 25.801646,
     "end_time": "2022-06-22T14:14:25.787420",
     "exception": false,
     "start_time": "2022-06-22T14:13:59.985774",
     "status": "completed"
    },
    "tags": []
   },
   "outputs": [
    {
     "name": "stdout",
     "output_type": "stream",
     "text": [
      "Device used : cpu\n"
     ]
    },
    {
     "name": "stdout",
     "output_type": "stream",
     "text": [
      "epoch 0  | loss: 0.93888 | train_mse: 5.67    | train_mae: 1.83005 |  0:00:00s\n",
      "epoch 1  | loss: 0.80989 | train_mse: 6.97531 | train_mae: 1.89631 |  0:00:00s\n"
     ]
    },
    {
     "name": "stdout",
     "output_type": "stream",
     "text": [
      "epoch 2  | loss: 0.55629 | train_mse: 4.6041  | train_mae: 1.6624  |  0:00:00s\n"
     ]
    },
    {
     "name": "stdout",
     "output_type": "stream",
     "text": [
      "epoch 3  | loss: 0.48346 | train_mse: 2.43092 | train_mae: 1.20341 |  0:00:00s\n",
      "epoch 4  | loss: 0.33989 | train_mse: 2.49489 | train_mae: 1.19836 |  0:00:00s\n",
      "epoch 5  | loss: 0.30215 | train_mse: 1.82572 | train_mae: 0.98747 |  0:00:00s\n"
     ]
    },
    {
     "name": "stdout",
     "output_type": "stream",
     "text": [
      "epoch 6  | loss: 0.33038 | train_mse: 1.67491 | train_mae: 0.90946 |  0:00:01s\n",
      "epoch 7  | loss: 0.42172 | train_mse: 1.61987 | train_mae: 0.87555 |  0:00:01s\n",
      "epoch 8  | loss: 0.26071 | train_mse: 1.12782 | train_mae: 0.75784 |  0:00:01s\n"
     ]
    },
    {
     "name": "stdout",
     "output_type": "stream",
     "text": [
      "epoch 9  | loss: 0.30228 | train_mse: 1.58271 | train_mae: 0.83533 |  0:00:01s\n",
      "epoch 10 | loss: 0.31568 | train_mse: 1.54769 | train_mae: 0.79376 |  0:00:01s\n",
      "epoch 11 | loss: 0.35655 | train_mse: 1.66955 | train_mae: 0.82773 |  0:00:01s\n"
     ]
    },
    {
     "name": "stdout",
     "output_type": "stream",
     "text": [
      "epoch 12 | loss: 0.19416 | train_mse: 1.58391 | train_mae: 0.82653 |  0:00:01s\n",
      "epoch 13 | loss: 0.21082 | train_mse: 1.07144 | train_mae: 0.70265 |  0:00:01s\n",
      "epoch 14 | loss: 0.2192  | train_mse: 0.99076 | train_mae: 0.69168 |  0:00:01s\n"
     ]
    },
    {
     "name": "stdout",
     "output_type": "stream",
     "text": [
      "epoch 15 | loss: 0.17543 | train_mse: 1.03579 | train_mae: 0.69352 |  0:00:01s\n",
      "epoch 16 | loss: 0.15018 | train_mse: 0.96917 | train_mae: 0.65484 |  0:00:01s\n",
      "epoch 17 | loss: 0.30951 | train_mse: 0.76094 | train_mae: 0.57681 |  0:00:01s\n"
     ]
    },
    {
     "name": "stdout",
     "output_type": "stream",
     "text": [
      "epoch 18 | loss: 0.14641 | train_mse: 0.49163 | train_mae: 0.49169 |  0:00:02s\n",
      "epoch 19 | loss: 0.1543  | train_mse: 0.49951 | train_mae: 0.4975  |  0:00:02s\n",
      "epoch 20 | loss: 0.17474 | train_mse: 0.39537 | train_mae: 0.44979 |  0:00:02s\n"
     ]
    },
    {
     "name": "stdout",
     "output_type": "stream",
     "text": [
      "epoch 21 | loss: 0.18559 | train_mse: 0.35635 | train_mae: 0.42458 |  0:00:02s\n",
      "epoch 22 | loss: 0.22995 | train_mse: 0.29324 | train_mae: 0.38897 |  0:00:02s\n"
     ]
    },
    {
     "name": "stdout",
     "output_type": "stream",
     "text": [
      "epoch 23 | loss: 0.25126 | train_mse: 0.26275 | train_mae: 0.36907 |  0:00:02s\n",
      "epoch 24 | loss: 0.33202 | train_mse: 0.2645  | train_mae: 0.37651 |  0:00:02s\n",
      "epoch 25 | loss: 0.21514 | train_mse: 0.28835 | train_mae: 0.39103 |  0:00:02s\n"
     ]
    },
    {
     "name": "stdout",
     "output_type": "stream",
     "text": [
      "epoch 26 | loss: 0.19296 | train_mse: 0.33415 | train_mae: 0.42226 |  0:00:02s\n",
      "epoch 27 | loss: 0.20143 | train_mse: 0.2876  | train_mae: 0.39741 |  0:00:02s\n",
      "epoch 28 | loss: 0.17335 | train_mse: 0.25094 | train_mae: 0.37103 |  0:00:02s\n"
     ]
    },
    {
     "name": "stdout",
     "output_type": "stream",
     "text": [
      "epoch 29 | loss: 0.15529 | train_mse: 0.26237 | train_mae: 0.37536 |  0:00:03s\n",
      "epoch 30 | loss: 0.17663 | train_mse: 0.23827 | train_mae: 0.34738 |  0:00:03s\n",
      "epoch 31 | loss: 0.17812 | train_mse: 0.17212 | train_mae: 0.284   |  0:00:03s\n"
     ]
    },
    {
     "name": "stdout",
     "output_type": "stream",
     "text": [
      "epoch 32 | loss: 0.18229 | train_mse: 0.16642 | train_mae: 0.29301 |  0:00:03s\n",
      "epoch 33 | loss: 0.24194 | train_mse: 0.18324 | train_mae: 0.31782 |  0:00:03s\n",
      "epoch 34 | loss: 0.2297  | train_mse: 0.20176 | train_mae: 0.33948 |  0:00:03s\n"
     ]
    },
    {
     "name": "stdout",
     "output_type": "stream",
     "text": [
      "epoch 35 | loss: 0.18685 | train_mse: 0.19093 | train_mae: 0.31975 |  0:00:03s\n",
      "epoch 36 | loss: 0.20073 | train_mse: 0.184   | train_mae: 0.30719 |  0:00:03s\n",
      "epoch 37 | loss: 0.23408 | train_mse: 0.15785 | train_mae: 0.29149 |  0:00:03s\n"
     ]
    },
    {
     "name": "stdout",
     "output_type": "stream",
     "text": [
      "epoch 38 | loss: 0.21072 | train_mse: 0.1467  | train_mae: 0.27738 |  0:00:03s\n",
      "epoch 39 | loss: 0.18258 | train_mse: 0.17846 | train_mae: 0.30176 |  0:00:03s\n",
      "epoch 40 | loss: 0.15545 | train_mse: 0.19644 | train_mae: 0.31745 |  0:00:03s\n"
     ]
    },
    {
     "name": "stdout",
     "output_type": "stream",
     "text": [
      "epoch 41 | loss: 0.14116 | train_mse: 0.21667 | train_mae: 0.33303 |  0:00:04s\n",
      "epoch 42 | loss: 0.28911 | train_mse: 0.27239 | train_mae: 0.36261 |  0:00:04s\n",
      "epoch 43 | loss: 0.1476  | train_mse: 0.17902 | train_mae: 0.30225 |  0:00:04s\n"
     ]
    },
    {
     "name": "stdout",
     "output_type": "stream",
     "text": [
      "epoch 44 | loss: 0.23191 | train_mse: 0.10579 | train_mae: 0.23881 |  0:00:04s\n",
      "epoch 45 | loss: 0.18366 | train_mse: 0.09199 | train_mae: 0.22607 |  0:00:04s\n",
      "epoch 46 | loss: 0.16329 | train_mse: 0.11287 | train_mae: 0.25281 |  0:00:04s\n"
     ]
    },
    {
     "name": "stdout",
     "output_type": "stream",
     "text": [
      "epoch 47 | loss: 0.32667 | train_mse: 0.13132 | train_mae: 0.27083 |  0:00:04s\n",
      "epoch 48 | loss: 0.12057 | train_mse: 0.12149 | train_mae: 0.26619 |  0:00:04s\n",
      "epoch 49 | loss: 0.21979 | train_mse: 0.1119  | train_mae: 0.25922 |  0:00:04s\n"
     ]
    },
    {
     "name": "stdout",
     "output_type": "stream",
     "text": [
      "epoch 50 | loss: 0.08753 | train_mse: 0.09259 | train_mae: 0.24418 |  0:00:04s\n",
      "epoch 51 | loss: 0.14362 | train_mse: 0.08434 | train_mae: 0.23216 |  0:00:04s\n",
      "epoch 52 | loss: 0.20444 | train_mse: 0.08953 | train_mae: 0.23313 |  0:00:05s\n"
     ]
    },
    {
     "name": "stdout",
     "output_type": "stream",
     "text": [
      "epoch 53 | loss: 0.14709 | train_mse: 0.09194 | train_mae: 0.2328  |  0:00:05s\n",
      "epoch 54 | loss: 0.20026 | train_mse: 0.09665 | train_mae: 0.23811 |  0:00:05s\n",
      "epoch 55 | loss: 0.11166 | train_mse: 0.08963 | train_mae: 0.23666 |  0:00:05s\n"
     ]
    },
    {
     "name": "stdout",
     "output_type": "stream",
     "text": [
      "epoch 56 | loss: 0.16217 | train_mse: 0.08253 | train_mae: 0.21809 |  0:00:05s\n",
      "epoch 57 | loss: 0.29569 | train_mse: 0.07261 | train_mae: 0.21168 |  0:00:05s\n",
      "epoch 58 | loss: 0.16483 | train_mse: 0.07695 | train_mae: 0.21518 |  0:00:05s\n"
     ]
    },
    {
     "name": "stdout",
     "output_type": "stream",
     "text": [
      "epoch 59 | loss: 0.13196 | train_mse: 0.07435 | train_mae: 0.21944 |  0:00:05s\n",
      "epoch 60 | loss: 0.09328 | train_mse: 0.08321 | train_mae: 0.22179 |  0:00:05s\n",
      "epoch 61 | loss: 0.13037 | train_mse: 0.10355 | train_mae: 0.23938 |  0:00:05s\n"
     ]
    },
    {
     "name": "stdout",
     "output_type": "stream",
     "text": [
      "epoch 62 | loss: 0.19433 | train_mse: 0.12357 | train_mae: 0.24997 |  0:00:05s\n",
      "epoch 63 | loss: 0.18402 | train_mse: 0.12109 | train_mae: 0.24596 |  0:00:05s\n",
      "epoch 64 | loss: 0.13617 | train_mse: 0.11598 | train_mae: 0.24116 |  0:00:06s\n"
     ]
    },
    {
     "name": "stdout",
     "output_type": "stream",
     "text": [
      "epoch 65 | loss: 0.24107 | train_mse: 0.11254 | train_mae: 0.2431  |  0:00:06s\n",
      "epoch 66 | loss: 0.19224 | train_mse: 0.11449 | train_mae: 0.24903 |  0:00:06s\n",
      "epoch 67 | loss: 0.12846 | train_mse: 0.10687 | train_mae: 0.23607 |  0:00:06s\n"
     ]
    },
    {
     "name": "stdout",
     "output_type": "stream",
     "text": [
      "epoch 68 | loss: 0.19986 | train_mse: 0.11075 | train_mae: 0.23798 |  0:00:06s\n",
      "epoch 69 | loss: 0.1574  | train_mse: 0.10371 | train_mae: 0.24092 |  0:00:06s\n",
      "epoch 70 | loss: 0.14061 | train_mse: 0.09825 | train_mae: 0.22962 |  0:00:06s\n"
     ]
    },
    {
     "name": "stdout",
     "output_type": "stream",
     "text": [
      "epoch 71 | loss: 0.30645 | train_mse: 0.11348 | train_mae: 0.25517 |  0:00:06s\n",
      "epoch 72 | loss: 0.10584 | train_mse: 0.09335 | train_mae: 0.24342 |  0:00:06s\n",
      "epoch 73 | loss: 0.20536 | train_mse: 0.09813 | train_mae: 0.24904 |  0:00:06s\n"
     ]
    },
    {
     "name": "stdout",
     "output_type": "stream",
     "text": [
      "epoch 74 | loss: 0.22718 | train_mse: 0.09546 | train_mae: 0.24009 |  0:00:06s\n",
      "epoch 75 | loss: 0.15083 | train_mse: 0.11139 | train_mae: 0.24649 |  0:00:06s\n",
      "epoch 76 | loss: 0.11207 | train_mse: 0.16155 | train_mae: 0.26139 |  0:00:07s\n"
     ]
    },
    {
     "name": "stdout",
     "output_type": "stream",
     "text": [
      "epoch 77 | loss: 0.17738 | train_mse: 0.11502 | train_mae: 0.25353 |  0:00:07s\n",
      "epoch 78 | loss: 0.21279 | train_mse: 0.09305 | train_mae: 0.23933 |  0:00:07s\n"
     ]
    },
    {
     "name": "stdout",
     "output_type": "stream",
     "text": [
      "epoch 79 | loss: 0.11082 | train_mse: 0.08666 | train_mae: 0.22464 |  0:00:07s\n",
      "epoch 80 | loss: 0.1678  | train_mse: 0.08143 | train_mae: 0.21274 |  0:00:07s\n"
     ]
    },
    {
     "name": "stdout",
     "output_type": "stream",
     "text": [
      "epoch 81 | loss: 0.08201 | train_mse: 0.08414 | train_mae: 0.2162  |  0:00:07s\n",
      "epoch 82 | loss: 0.11507 | train_mse: 0.07727 | train_mae: 0.21358 |  0:00:07s\n"
     ]
    },
    {
     "name": "stdout",
     "output_type": "stream",
     "text": [
      "epoch 83 | loss: 0.13326 | train_mse: 0.08702 | train_mae: 0.20312 |  0:00:07s\n",
      "epoch 84 | loss: 0.11884 | train_mse: 0.10031 | train_mae: 0.21549 |  0:00:07s\n"
     ]
    },
    {
     "name": "stdout",
     "output_type": "stream",
     "text": [
      "epoch 85 | loss: 0.13181 | train_mse: 0.10582 | train_mae: 0.22303 |  0:00:08s\n",
      "epoch 86 | loss: 0.11274 | train_mse: 0.09502 | train_mae: 0.21374 |  0:00:08s\n",
      "epoch 87 | loss: 0.09781 | train_mse: 0.09968 | train_mae: 0.22485 |  0:00:08s\n"
     ]
    },
    {
     "name": "stdout",
     "output_type": "stream",
     "text": [
      "epoch 88 | loss: 0.19023 | train_mse: 0.11134 | train_mae: 0.24274 |  0:00:08s\n",
      "epoch 89 | loss: 0.1032  | train_mse: 0.11977 | train_mae: 0.24889 |  0:00:08s\n",
      "epoch 90 | loss: 0.21089 | train_mse: 0.13381 | train_mae: 0.25708 |  0:00:08s\n"
     ]
    },
    {
     "name": "stdout",
     "output_type": "stream",
     "text": [
      "epoch 91 | loss: 0.14568 | train_mse: 0.17222 | train_mae: 0.27883 |  0:00:08s\n",
      "epoch 92 | loss: 0.16741 | train_mse: 0.21503 | train_mae: 0.30756 |  0:00:08s\n",
      "epoch 93 | loss: 0.13738 | train_mse: 0.19899 | train_mae: 0.30175 |  0:00:08s\n"
     ]
    },
    {
     "name": "stdout",
     "output_type": "stream",
     "text": [
      "epoch 94 | loss: 0.11355 | train_mse: 0.14733 | train_mae: 0.27167 |  0:00:08s\n",
      "epoch 95 | loss: 0.08912 | train_mse: 0.11764 | train_mae: 0.25085 |  0:00:08s\n",
      "epoch 96 | loss: 0.19331 | train_mse: 0.10504 | train_mae: 0.24424 |  0:00:08s\n"
     ]
    },
    {
     "name": "stdout",
     "output_type": "stream",
     "text": [
      "epoch 97 | loss: 0.13942 | train_mse: 0.08934 | train_mae: 0.23379 |  0:00:09s\n",
      "epoch 98 | loss: 0.11668 | train_mse: 0.08851 | train_mae: 0.23075 |  0:00:09s\n",
      "epoch 99 | loss: 0.12973 | train_mse: 0.10706 | train_mae: 0.24534 |  0:00:09s\n"
     ]
    },
    {
     "name": "stdout",
     "output_type": "stream",
     "text": [
      "epoch 100| loss: 0.09036 | train_mse: 0.12286 | train_mae: 0.26185 |  0:00:09s\n",
      "epoch 101| loss: 0.12026 | train_mse: 0.10296 | train_mae: 0.24259 |  0:00:09s\n",
      "epoch 102| loss: 0.26212 | train_mse: 0.07346 | train_mae: 0.20609 |  0:00:09s\n"
     ]
    },
    {
     "name": "stdout",
     "output_type": "stream",
     "text": [
      "epoch 103| loss: 0.12666 | train_mse: 0.06211 | train_mae: 0.19638 |  0:00:09s\n",
      "epoch 104| loss: 0.14012 | train_mse: 0.06212 | train_mae: 0.19223 |  0:00:09s\n",
      "epoch 105| loss: 0.12392 | train_mse: 0.06066 | train_mae: 0.19296 |  0:00:09s\n"
     ]
    },
    {
     "name": "stdout",
     "output_type": "stream",
     "text": [
      "epoch 106| loss: 0.12927 | train_mse: 0.09277 | train_mae: 0.23162 |  0:00:09s\n",
      "epoch 107| loss: 0.10756 | train_mse: 0.16902 | train_mae: 0.29237 |  0:00:10s\n",
      "epoch 108| loss: 0.20339 | train_mse: 0.15954 | train_mae: 0.28791 |  0:00:10s\n"
     ]
    },
    {
     "name": "stdout",
     "output_type": "stream",
     "text": [
      "epoch 109| loss: 0.14823 | train_mse: 0.10519 | train_mae: 0.25115 |  0:00:10s\n",
      "epoch 110| loss: 0.09369 | train_mse: 0.07372 | train_mae: 0.21201 |  0:00:10s\n",
      "epoch 111| loss: 0.223   | train_mse: 0.07911 | train_mae: 0.22235 |  0:00:10s\n"
     ]
    },
    {
     "name": "stdout",
     "output_type": "stream",
     "text": [
      "epoch 112| loss: 0.13979 | train_mse: 0.10174 | train_mae: 0.24196 |  0:00:10s\n",
      "epoch 113| loss: 0.09944 | train_mse: 0.10517 | train_mae: 0.24615 |  0:00:10s\n",
      "epoch 114| loss: 0.0951  | train_mse: 0.10872 | train_mae: 0.25514 |  0:00:10s\n"
     ]
    },
    {
     "name": "stdout",
     "output_type": "stream",
     "text": [
      "epoch 115| loss: 0.11546 | train_mse: 0.09737 | train_mae: 0.25037 |  0:00:10s\n",
      "epoch 116| loss: 0.21952 | train_mse: 0.12455 | train_mae: 0.2632  |  0:00:10s\n",
      "epoch 117| loss: 0.09396 | train_mse: 0.16721 | train_mae: 0.28106 |  0:00:10s\n"
     ]
    },
    {
     "name": "stdout",
     "output_type": "stream",
     "text": [
      "epoch 118| loss: 0.10786 | train_mse: 0.14557 | train_mae: 0.25826 |  0:00:10s\n",
      "epoch 119| loss: 0.0982  | train_mse: 0.09581 | train_mae: 0.22375 |  0:00:11s\n"
     ]
    },
    {
     "name": "stdout",
     "output_type": "stream",
     "text": [
      "epoch 120| loss: 0.08715 | train_mse: 0.06708 | train_mae: 0.1985  |  0:00:11s\n",
      "epoch 121| loss: 0.14284 | train_mse: 0.06864 | train_mae: 0.20256 |  0:00:11s\n"
     ]
    },
    {
     "name": "stdout",
     "output_type": "stream",
     "text": [
      "epoch 122| loss: 0.14976 | train_mse: 0.08248 | train_mae: 0.22174 |  0:00:11s\n",
      "epoch 123| loss: 0.07332 | train_mse: 0.06453 | train_mae: 0.20499 |  0:00:11s\n",
      "epoch 124| loss: 0.09164 | train_mse: 0.06501 | train_mae: 0.19818 |  0:00:11s\n"
     ]
    },
    {
     "name": "stdout",
     "output_type": "stream",
     "text": [
      "epoch 125| loss: 0.10367 | train_mse: 0.07109 | train_mae: 0.20466 |  0:00:11s\n",
      "epoch 126| loss: 0.09338 | train_mse: 0.07605 | train_mae: 0.20475 |  0:00:11s\n",
      "epoch 127| loss: 0.0979  | train_mse: 0.07829 | train_mae: 0.2014  |  0:00:11s\n"
     ]
    },
    {
     "name": "stdout",
     "output_type": "stream",
     "text": [
      "epoch 128| loss: 0.23847 | train_mse: 0.09062 | train_mae: 0.21717 |  0:00:12s\n",
      "epoch 129| loss: 0.10757 | train_mse: 0.11091 | train_mae: 0.24358 |  0:00:12s\n",
      "epoch 130| loss: 0.17178 | train_mse: 0.2516  | train_mae: 0.28504 |  0:00:12s\n"
     ]
    },
    {
     "name": "stdout",
     "output_type": "stream",
     "text": [
      "epoch 131| loss: 0.18409 | train_mse: 0.23686 | train_mae: 0.28493 |  0:00:12s\n",
      "epoch 132| loss: 0.19584 | train_mse: 0.2006  | train_mae: 0.26661 |  0:00:12s\n",
      "epoch 133| loss: 0.1985  | train_mse: 0.17797 | train_mae: 0.25447 |  0:00:12s\n"
     ]
    },
    {
     "name": "stdout",
     "output_type": "stream",
     "text": [
      "epoch 134| loss: 0.11486 | train_mse: 0.19163 | train_mae: 0.27133 |  0:00:12s\n",
      "epoch 135| loss: 0.17169 | train_mse: 0.1272  | train_mae: 0.26475 |  0:00:12s\n",
      "epoch 136| loss: 0.17186 | train_mse: 0.13453 | train_mae: 0.26751 |  0:00:12s\n"
     ]
    },
    {
     "name": "stdout",
     "output_type": "stream",
     "text": [
      "epoch 137| loss: 0.23608 | train_mse: 0.1072  | train_mae: 0.248   |  0:00:12s\n",
      "epoch 138| loss: 0.10851 | train_mse: 0.11658 | train_mae: 0.25375 |  0:00:12s\n"
     ]
    },
    {
     "name": "stdout",
     "output_type": "stream",
     "text": [
      "epoch 139| loss: 0.14912 | train_mse: 0.16235 | train_mae: 0.27611 |  0:00:13s\n",
      "epoch 140| loss: 0.1429  | train_mse: 0.16032 | train_mae: 0.27001 |  0:00:13s\n",
      "epoch 141| loss: 0.22132 | train_mse: 0.17795 | train_mae: 0.28045 |  0:00:13s\n"
     ]
    },
    {
     "name": "stdout",
     "output_type": "stream",
     "text": [
      "epoch 142| loss: 0.12404 | train_mse: 0.15039 | train_mae: 0.2552  |  0:00:13s\n",
      "epoch 143| loss: 0.11004 | train_mse: 0.13697 | train_mae: 0.24421 |  0:00:13s\n",
      "epoch 144| loss: 0.09838 | train_mse: 0.12332 | train_mae: 0.24256 |  0:00:13s\n"
     ]
    },
    {
     "name": "stdout",
     "output_type": "stream",
     "text": [
      "epoch 145| loss: 0.113   | train_mse: 0.08671 | train_mae: 0.21335 |  0:00:13s\n",
      "epoch 146| loss: 0.11716 | train_mse: 0.08233 | train_mae: 0.2076  |  0:00:13s\n",
      "epoch 147| loss: 0.10572 | train_mse: 0.07403 | train_mae: 0.20524 |  0:00:13s\n"
     ]
    },
    {
     "name": "stdout",
     "output_type": "stream",
     "text": [
      "epoch 148| loss: 0.1406  | train_mse: 0.06897 | train_mae: 0.20095 |  0:00:13s\n",
      "epoch 149| loss: 0.11557 | train_mse: 0.06965 | train_mae: 0.20427 |  0:00:13s\n",
      "epoch 150| loss: 0.10978 | train_mse: 0.07406 | train_mae: 0.20472 |  0:00:14s\n"
     ]
    },
    {
     "name": "stdout",
     "output_type": "stream",
     "text": [
      "epoch 151| loss: 0.08522 | train_mse: 0.06821 | train_mae: 0.19875 |  0:00:14s\n",
      "epoch 152| loss: 0.1422  | train_mse: 0.06045 | train_mae: 0.18857 |  0:00:14s\n",
      "epoch 153| loss: 0.19572 | train_mse: 0.06301 | train_mae: 0.1939  |  0:00:14s\n"
     ]
    },
    {
     "name": "stdout",
     "output_type": "stream",
     "text": [
      "epoch 154| loss: 0.10613 | train_mse: 0.06657 | train_mae: 0.19832 |  0:00:14s\n",
      "epoch 155| loss: 0.15708 | train_mse: 0.06432 | train_mae: 0.1952  |  0:00:14s\n",
      "epoch 156| loss: 0.25262 | train_mse: 0.0895  | train_mae: 0.19936 |  0:00:14s\n"
     ]
    },
    {
     "name": "stdout",
     "output_type": "stream",
     "text": [
      "epoch 157| loss: 0.14737 | train_mse: 0.07698 | train_mae: 0.20619 |  0:00:14s\n",
      "epoch 158| loss: 0.15012 | train_mse: 0.06701 | train_mae: 0.20461 |  0:00:14s\n",
      "epoch 159| loss: 0.13715 | train_mse: 0.06204 | train_mae: 0.19608 |  0:00:14s\n"
     ]
    },
    {
     "name": "stdout",
     "output_type": "stream",
     "text": [
      "epoch 160| loss: 0.13469 | train_mse: 0.06092 | train_mae: 0.19405 |  0:00:14s\n",
      "epoch 161| loss: 0.0841  | train_mse: 0.06376 | train_mae: 0.20065 |  0:00:15s\n",
      "epoch 162| loss: 0.09258 | train_mse: 0.06508 | train_mae: 0.2008  |  0:00:15s\n"
     ]
    },
    {
     "name": "stdout",
     "output_type": "stream",
     "text": [
      "epoch 163| loss: 0.12336 | train_mse: 0.0607  | train_mae: 0.19622 |  0:00:15s\n",
      "epoch 164| loss: 0.12112 | train_mse: 0.05838 | train_mae: 0.19784 |  0:00:15s\n",
      "epoch 165| loss: 0.07564 | train_mse: 0.05962 | train_mae: 0.19396 |  0:00:15s\n"
     ]
    },
    {
     "name": "stdout",
     "output_type": "stream",
     "text": [
      "epoch 166| loss: 0.15647 | train_mse: 0.05788 | train_mae: 0.18856 |  0:00:15s\n",
      "epoch 167| loss: 0.13867 | train_mse: 0.05417 | train_mae: 0.18417 |  0:00:15s\n",
      "epoch 168| loss: 0.11755 | train_mse: 0.05472 | train_mae: 0.18244 |  0:00:15s\n"
     ]
    },
    {
     "name": "stdout",
     "output_type": "stream",
     "text": [
      "epoch 169| loss: 0.07571 | train_mse: 0.05977 | train_mae: 0.18727 |  0:00:15s\n",
      "epoch 170| loss: 0.10811 | train_mse: 0.0638  | train_mae: 0.19493 |  0:00:15s\n",
      "epoch 171| loss: 0.18272 | train_mse: 0.06639 | train_mae: 0.20344 |  0:00:15s\n"
     ]
    },
    {
     "name": "stdout",
     "output_type": "stream",
     "text": [
      "epoch 172| loss: 0.20009 | train_mse: 0.0713  | train_mae: 0.20478 |  0:00:15s\n",
      "epoch 173| loss: 0.15878 | train_mse: 0.09155 | train_mae: 0.21869 |  0:00:16s\n",
      "epoch 174| loss: 0.10178 | train_mse: 0.07921 | train_mae: 0.20628 |  0:00:16s\n"
     ]
    },
    {
     "name": "stdout",
     "output_type": "stream",
     "text": [
      "epoch 175| loss: 0.12982 | train_mse: 0.07542 | train_mae: 0.20396 |  0:00:16s\n",
      "epoch 176| loss: 0.09185 | train_mse: 0.0723  | train_mae: 0.20015 |  0:00:16s\n",
      "epoch 177| loss: 0.18488 | train_mse: 0.07639 | train_mae: 0.21385 |  0:00:16s\n"
     ]
    },
    {
     "name": "stdout",
     "output_type": "stream",
     "text": [
      "epoch 178| loss: 0.08637 | train_mse: 0.10576 | train_mae: 0.24267 |  0:00:16s\n",
      "epoch 179| loss: 0.08792 | train_mse: 0.14345 | train_mae: 0.27069 |  0:00:16s\n",
      "epoch 180| loss: 0.17507 | train_mse: 0.1648  | train_mae: 0.28504 |  0:00:16s\n"
     ]
    },
    {
     "name": "stdout",
     "output_type": "stream",
     "text": [
      "epoch 181| loss: 0.0755  | train_mse: 0.19181 | train_mae: 0.29702 |  0:00:16s\n",
      "epoch 182| loss: 0.10205 | train_mse: 0.19514 | train_mae: 0.29873 |  0:00:16s\n",
      "epoch 183| loss: 0.12477 | train_mse: 0.19639 | train_mae: 0.30452 |  0:00:16s\n"
     ]
    },
    {
     "name": "stdout",
     "output_type": "stream",
     "text": [
      "epoch 184| loss: 0.08824 | train_mse: 0.21073 | train_mae: 0.31299 |  0:00:17s\n",
      "epoch 185| loss: 0.08703 | train_mse: 0.19679 | train_mae: 0.30031 |  0:00:17s\n",
      "epoch 186| loss: 0.11993 | train_mse: 0.21605 | train_mae: 0.31241 |  0:00:17s\n"
     ]
    },
    {
     "name": "stdout",
     "output_type": "stream",
     "text": [
      "epoch 187| loss: 0.0877  | train_mse: 0.21333 | train_mae: 0.30836 |  0:00:17s\n",
      "epoch 188| loss: 0.17225 | train_mse: 0.20771 | train_mae: 0.30491 |  0:00:17s\n",
      "epoch 189| loss: 0.11429 | train_mse: 0.24316 | train_mae: 0.3235  |  0:00:17s\n"
     ]
    },
    {
     "name": "stdout",
     "output_type": "stream",
     "text": [
      "epoch 190| loss: 0.12036 | train_mse: 0.19481 | train_mae: 0.29045 |  0:00:17s\n",
      "epoch 191| loss: 0.1447  | train_mse: 0.17496 | train_mae: 0.27552 |  0:00:17s\n",
      "epoch 192| loss: 0.09536 | train_mse: 0.19156 | train_mae: 0.28587 |  0:00:17s\n"
     ]
    },
    {
     "name": "stdout",
     "output_type": "stream",
     "text": [
      "epoch 193| loss: 0.10187 | train_mse: 0.19369 | train_mae: 0.29266 |  0:00:17s\n",
      "epoch 194| loss: 0.10938 | train_mse: 0.18858 | train_mae: 0.29497 |  0:00:17s\n",
      "epoch 195| loss: 0.07465 | train_mse: 0.21205 | train_mae: 0.30867 |  0:00:17s\n"
     ]
    },
    {
     "name": "stdout",
     "output_type": "stream",
     "text": [
      "epoch 196| loss: 0.14105 | train_mse: 0.1938  | train_mae: 0.29861 |  0:00:18s\n",
      "epoch 197| loss: 0.11244 | train_mse: 0.11655 | train_mae: 0.25251 |  0:00:18s\n",
      "epoch 198| loss: 0.10314 | train_mse: 0.08208 | train_mae: 0.22148 |  0:00:18s\n"
     ]
    },
    {
     "name": "stdout",
     "output_type": "stream",
     "text": [
      "epoch 199| loss: 0.20244 | train_mse: 0.08434 | train_mae: 0.22151 |  0:00:18s\n",
      "epoch 200| loss: 0.15427 | train_mse: 0.08218 | train_mae: 0.21668 |  0:00:18s\n",
      "epoch 201| loss: 0.0959  | train_mse: 0.08056 | train_mae: 0.22597 |  0:00:18s\n"
     ]
    },
    {
     "name": "stdout",
     "output_type": "stream",
     "text": [
      "epoch 202| loss: 0.09696 | train_mse: 0.08536 | train_mae: 0.23491 |  0:00:18s\n",
      "epoch 203| loss: 0.09581 | train_mse: 0.0812  | train_mae: 0.22626 |  0:00:18s\n",
      "epoch 204| loss: 0.07839 | train_mse: 0.07705 | train_mae: 0.21293 |  0:00:18s\n"
     ]
    },
    {
     "name": "stdout",
     "output_type": "stream",
     "text": [
      "epoch 205| loss: 0.06952 | train_mse: 0.08996 | train_mae: 0.21838 |  0:00:18s\n"
     ]
    },
    {
     "name": "stdout",
     "output_type": "stream",
     "text": [
      "epoch 206| loss: 0.16483 | train_mse: 0.1117  | train_mae: 0.23054 |  0:00:19s\n",
      "epoch 207| loss: 0.08793 | train_mse: 0.08979 | train_mae: 0.21769 |  0:00:19s\n",
      "epoch 208| loss: 0.08715 | train_mse: 0.06409 | train_mae: 0.19545 |  0:00:19s\n"
     ]
    },
    {
     "name": "stdout",
     "output_type": "stream",
     "text": [
      "epoch 209| loss: 0.12375 | train_mse: 0.0559  | train_mae: 0.18345 |  0:00:19s\n",
      "epoch 210| loss: 0.08879 | train_mse: 0.05461 | train_mae: 0.18221 |  0:00:19s\n",
      "epoch 211| loss: 0.0753  | train_mse: 0.06998 | train_mae: 0.20385 |  0:00:19s\n"
     ]
    },
    {
     "name": "stdout",
     "output_type": "stream",
     "text": [
      "epoch 212| loss: 0.0908  | train_mse: 0.07343 | train_mae: 0.20443 |  0:00:19s\n",
      "epoch 213| loss: 0.10357 | train_mse: 0.09612 | train_mae: 0.22687 |  0:00:19s\n",
      "epoch 214| loss: 0.07947 | train_mse: 0.08543 | train_mae: 0.22489 |  0:00:19s\n"
     ]
    },
    {
     "name": "stdout",
     "output_type": "stream",
     "text": [
      "epoch 215| loss: 0.11803 | train_mse: 0.06632 | train_mae: 0.20203 |  0:00:19s\n",
      "epoch 216| loss: 0.17032 | train_mse: 0.06322 | train_mae: 0.19313 |  0:00:19s\n",
      "epoch 217| loss: 0.06064 | train_mse: 0.06577 | train_mae: 0.18904 |  0:00:19s\n"
     ]
    },
    {
     "name": "stdout",
     "output_type": "stream",
     "text": [
      "epoch 218| loss: 0.0692  | train_mse: 0.06649 | train_mae: 0.1888  |  0:00:20s\n",
      "epoch 219| loss: 0.09243 | train_mse: 0.07533 | train_mae: 0.19805 |  0:00:20s\n"
     ]
    },
    {
     "name": "stdout",
     "output_type": "stream",
     "text": [
      "epoch 220| loss: 0.10764 | train_mse: 0.07088 | train_mae: 0.20071 |  0:00:20s\n",
      "epoch 221| loss: 0.08443 | train_mse: 0.07789 | train_mae: 0.2078  |  0:00:20s\n",
      "epoch 222| loss: 0.06959 | train_mse: 0.06802 | train_mae: 0.20041 |  0:00:20s\n"
     ]
    },
    {
     "name": "stdout",
     "output_type": "stream",
     "text": [
      "epoch 223| loss: 0.0727  | train_mse: 0.06458 | train_mae: 0.19147 |  0:00:20s\n",
      "epoch 224| loss: 0.05981 | train_mse: 0.06097 | train_mae: 0.18106 |  0:00:20s\n",
      "epoch 225| loss: 0.12525 | train_mse: 0.05705 | train_mae: 0.1784  |  0:00:20s\n"
     ]
    },
    {
     "name": "stdout",
     "output_type": "stream",
     "text": [
      "epoch 226| loss: 0.14477 | train_mse: 0.05282 | train_mae: 0.17045 |  0:00:20s\n",
      "epoch 227| loss: 0.0721  | train_mse: 0.05453 | train_mae: 0.17395 |  0:00:21s\n",
      "epoch 228| loss: 0.09221 | train_mse: 0.07816 | train_mae: 0.21277 |  0:00:21s\n"
     ]
    },
    {
     "name": "stdout",
     "output_type": "stream",
     "text": [
      "epoch 229| loss: 0.09342 | train_mse: 0.06924 | train_mae: 0.20108 |  0:00:21s\n",
      "epoch 230| loss: 0.16934 | train_mse: 0.06611 | train_mae: 0.20168 |  0:00:21s\n"
     ]
    },
    {
     "name": "stdout",
     "output_type": "stream",
     "text": [
      "epoch 231| loss: 0.06917 | train_mse: 0.05978 | train_mae: 0.19487 |  0:00:21s\n",
      "epoch 232| loss: 0.08577 | train_mse: 0.04578 | train_mae: 0.17976 |  0:00:21s\n",
      "epoch 233| loss: 0.06404 | train_mse: 0.12346 | train_mae: 0.23771 |  0:00:21s\n"
     ]
    },
    {
     "name": "stdout",
     "output_type": "stream",
     "text": [
      "epoch 234| loss: 0.12446 | train_mse: 0.08617 | train_mae: 0.21263 |  0:00:21s\n",
      "epoch 235| loss: 0.07799 | train_mse: 0.06622 | train_mae: 0.19466 |  0:00:21s\n"
     ]
    },
    {
     "name": "stdout",
     "output_type": "stream",
     "text": [
      "epoch 236| loss: 0.05869 | train_mse: 0.08123 | train_mae: 0.20906 |  0:00:22s\n",
      "epoch 237| loss: 0.14866 | train_mse: 0.07368 | train_mae: 0.20049 |  0:00:22s\n",
      "epoch 238| loss: 0.06526 | train_mse: 0.0717  | train_mae: 0.20312 |  0:00:22s\n"
     ]
    },
    {
     "name": "stdout",
     "output_type": "stream",
     "text": [
      "epoch 239| loss: 0.11785 | train_mse: 0.07491 | train_mae: 0.20583 |  0:00:22s\n",
      "epoch 240| loss: 0.06579 | train_mse: 0.05832 | train_mae: 0.18378 |  0:00:22s\n"
     ]
    },
    {
     "name": "stdout",
     "output_type": "stream",
     "text": [
      "epoch 241| loss: 0.09495 | train_mse: 0.06261 | train_mae: 0.19637 |  0:00:22s\n",
      "epoch 242| loss: 0.06945 | train_mse: 0.08061 | train_mae: 0.20756 |  0:00:22s\n",
      "epoch 243| loss: 0.10644 | train_mse: 0.08924 | train_mae: 0.21072 |  0:00:22s\n"
     ]
    },
    {
     "name": "stdout",
     "output_type": "stream",
     "text": [
      "epoch 244| loss: 0.06941 | train_mse: 0.09827 | train_mae: 0.21384 |  0:00:22s\n",
      "epoch 245| loss: 0.12478 | train_mse: 0.09231 | train_mae: 0.20882 |  0:00:22s\n",
      "epoch 246| loss: 0.05794 | train_mse: 0.10224 | train_mae: 0.21697 |  0:00:23s\n"
     ]
    },
    {
     "name": "stdout",
     "output_type": "stream",
     "text": [
      "epoch 247| loss: 0.07134 | train_mse: 0.10265 | train_mae: 0.21462 |  0:00:23s\n",
      "epoch 248| loss: 0.06523 | train_mse: 0.09694 | train_mae: 0.21236 |  0:00:23s\n",
      "epoch 249| loss: 0.08818 | train_mse: 0.08682 | train_mae: 0.19851 |  0:00:23s\n"
     ]
    },
    {
     "name": "stdout",
     "output_type": "stream",
     "text": [
      "epoch 250| loss: 0.06598 | train_mse: 0.09193 | train_mae: 0.20775 |  0:00:23s\n",
      "epoch 251| loss: 0.13214 | train_mse: 0.08068 | train_mae: 0.19455 |  0:00:23s\n",
      "epoch 252| loss: 0.09501 | train_mse: 0.08183 | train_mae: 0.20606 |  0:00:23s\n"
     ]
    },
    {
     "name": "stdout",
     "output_type": "stream",
     "text": [
      "epoch 253| loss: 0.07737 | train_mse: 0.1004  | train_mae: 0.22404 |  0:00:23s\n",
      "epoch 254| loss: 0.07716 | train_mse: 0.0922  | train_mae: 0.22314 |  0:00:23s\n",
      "epoch 255| loss: 0.12769 | train_mse: 0.09177 | train_mae: 0.22706 |  0:00:23s\n"
     ]
    },
    {
     "name": "stdout",
     "output_type": "stream",
     "text": [
      "epoch 256| loss: 0.10137 | train_mse: 0.10892 | train_mae: 0.2377  |  0:00:23s\n",
      "epoch 257| loss: 0.12857 | train_mse: 0.12556 | train_mae: 0.25444 |  0:00:24s\n",
      "epoch 258| loss: 0.143   | train_mse: 0.1429  | train_mae: 0.27367 |  0:00:24s\n"
     ]
    },
    {
     "name": "stdout",
     "output_type": "stream",
     "text": [
      "epoch 259| loss: 0.11461 | train_mse: 0.16305 | train_mae: 0.28734 |  0:00:24s\n",
      "epoch 260| loss: 0.14498 | train_mse: 0.18519 | train_mae: 0.29703 |  0:00:24s\n",
      "epoch 261| loss: 0.11782 | train_mse: 0.16223 | train_mae: 0.28229 |  0:00:24s\n"
     ]
    },
    {
     "name": "stdout",
     "output_type": "stream",
     "text": [
      "epoch 262| loss: 0.09741 | train_mse: 0.1684  | train_mae: 0.28984 |  0:00:24s\n",
      "epoch 263| loss: 0.08572 | train_mse: 0.17098 | train_mae: 0.29393 |  0:00:24s\n",
      "epoch 264| loss: 0.11509 | train_mse: 0.15827 | train_mae: 0.28492 |  0:00:24s\n"
     ]
    },
    {
     "name": "stdout",
     "output_type": "stream",
     "text": [
      "epoch 265| loss: 0.1181  | train_mse: 0.12652 | train_mae: 0.25545 |  0:00:24s\n",
      "epoch 266| loss: 0.07741 | train_mse: 0.12217 | train_mae: 0.25492 |  0:00:24s\n",
      "epoch 267| loss: 0.11215 | train_mse: 0.13492 | train_mae: 0.25974 |  0:00:24s\n"
     ]
    },
    {
     "name": "stdout",
     "output_type": "stream",
     "text": [
      "epoch 268| loss: 0.16551 | train_mse: 0.15414 | train_mae: 0.2685  |  0:00:25s\n",
      "epoch 269| loss: 0.19362 | train_mse: 0.15911 | train_mae: 0.26804 |  0:00:25s\n",
      "epoch 270| loss: 0.09433 | train_mse: 0.14324 | train_mae: 0.25606 |  0:00:25s\n"
     ]
    },
    {
     "name": "stdout",
     "output_type": "stream",
     "text": [
      "epoch 271| loss: 0.11512 | train_mse: 0.14206 | train_mae: 0.25969 |  0:00:25s\n",
      "epoch 272| loss: 0.15468 | train_mse: 0.12822 | train_mae: 0.25472 |  0:00:25s\n",
      "epoch 273| loss: 0.08017 | train_mse: 0.1028  | train_mae: 0.22929 |  0:00:25s\n"
     ]
    },
    {
     "name": "stdout",
     "output_type": "stream",
     "text": [
      "epoch 274| loss: 0.16554 | train_mse: 0.06627 | train_mae: 0.19124 |  0:00:25s\n",
      "epoch 275| loss: 0.06693 | train_mse: 0.06883 | train_mae: 0.18854 |  0:00:25s\n",
      "epoch 276| loss: 0.14626 | train_mse: 0.09569 | train_mae: 0.21376 |  0:00:25s\n",
      "\n",
      "Early stopping occurred at epoch 276 with best_epoch = 226 and best_train_mae = 0.17045\n",
      "Best weights from best epoch are automatically used!\n"
     ]
    }
   ],
   "source": [
    "#Train the Model\n",
    "\n",
    "Y_train = np.reshape(Y_train, (-1, 1))\n",
    "Y_test = np.reshape(Y_test, (-1, 1))\n",
    "\n",
    "prior_model = TabNetRegressor(optimizer_fn=torch.optim.Adam, optimizer_params=dict(lr = 0.02),\n",
    "          #scheduler_params={\"step_size\":10, ], \"gamma\":0.9},\n",
    "          #scheduler_fn=torch.optim.lr_scheduler.StepLR\n",
    "          )  #TabNetRegressor()\n",
    "\n",
    "prior_model.fit(X_train,Y_train,eval_set=[(X_train, Y_train)],\n",
    "            eval_name=['train'], \n",
    "            eval_metric=[ 'mse', 'mae'], \n",
    "            max_epochs = n_epochs, \n",
    "            batch_size = batch_size,\n",
    "            patience=50\n",
    "            )"
   ]
  },
  {
   "cell_type": "code",
   "execution_count": 10,
   "id": "af65dcda",
   "metadata": {
    "execution": {
     "iopub.execute_input": "2022-06-22T14:14:25.908759Z",
     "iopub.status.busy": "2022-06-22T14:14:25.899977Z",
     "iopub.status.idle": "2022-06-22T14:14:25.926507Z",
     "shell.execute_reply": "2022-06-22T14:14:25.927664Z"
    },
    "id": "af65dcda",
    "papermill": {
     "duration": 0.089413,
     "end_time": "2022-06-22T14:14:25.928007",
     "exception": false,
     "start_time": "2022-06-22T14:14:25.838594",
     "status": "completed"
    },
    "tags": []
   },
   "outputs": [
    {
     "data": {
      "application/scrapbook.scrap.json+json": {
       "data": 0.1175333668728448,
       "encoder": "json",
       "name": "Prior Model MSE",
       "version": 1
      }
     },
     "metadata": {
      "scrapbook": {
       "data": true,
       "display": false,
       "name": "Prior Model MSE"
      }
     },
     "output_type": "display_data"
    },
    {
     "data": {
      "application/scrapbook.scrap.json+json": {
       "data": 1.1756335120604733,
       "encoder": "json",
       "name": "ABC Pre-generator MSE",
       "version": 1
      }
     },
     "metadata": {
      "scrapbook": {
       "data": true,
       "display": false,
       "name": "ABC Pre-generator MSE"
      }
     },
     "output_type": "display_data"
    },
    {
     "data": {
      "application/scrapbook.scrap.json+json": {
       "data": 0.27117481679433764,
       "encoder": "json",
       "name": "Prior Model MSE",
       "version": 1
      }
     },
     "metadata": {
      "scrapbook": {
       "data": true,
       "display": false,
       "name": "Prior Model MSE"
      }
     },
     "output_type": "display_data"
    },
    {
     "data": {
      "application/scrapbook.scrap.json+json": {
       "data": 1.0293730910566325,
       "encoder": "json",
       "name": "ABC Pre-generator MSE",
       "version": 1
      }
     },
     "metadata": {
      "scrapbook": {
       "data": true,
       "display": false,
       "name": "ABC Pre-generator MSE"
      }
     },
     "output_type": "display_data"
    }
   ],
   "source": [
    "y_pred = prior_model.predict(X_test)\n",
    "y_abc = y_pred + np.random.normal(0,variance, y_pred.shape) + bias \n",
    "mse = mean_squared_error(y_pred,Y_test)\n",
    "sb.glue(\"Prior Model MSE\",mse)\n",
    "mse = mean_squared_error(y_abc,Y_test)\n",
    "sb.glue(\"ABC Pre-generator MSE\",mse)\n",
    "mae = mean_absolute_error(y_pred,Y_test)\n",
    "sb.glue(\"Prior Model MSE\",mae)\n",
    "mae = mean_absolute_error(y_abc,Y_test)\n",
    "sb.glue(\"ABC Pre-generator MSE\",mae)"
   ]
  },
  {
   "cell_type": "markdown",
   "id": "25609da2",
   "metadata": {
    "papermill": {
     "duration": 0.062337,
     "end_time": "2022-06-22T14:14:26.038413",
     "exception": false,
     "start_time": "2022-06-22T14:14:25.976076",
     "status": "completed"
    },
    "tags": []
   },
   "source": [
    "# ABC GAN Model"
   ]
  },
  {
   "cell_type": "code",
   "execution_count": 11,
   "id": "dfc3464d",
   "metadata": {
    "execution": {
     "iopub.execute_input": "2022-06-22T14:14:26.162465Z",
     "iopub.status.busy": "2022-06-22T14:14:26.161258Z",
     "iopub.status.idle": "2022-06-22T14:14:26.163476Z",
     "shell.execute_reply": "2022-06-22T14:14:26.164058Z"
    },
    "papermill": {
     "duration": 0.073386,
     "end_time": "2022-06-22T14:14:26.164270",
     "exception": false,
     "start_time": "2022-06-22T14:14:26.090884",
     "status": "completed"
    },
    "tags": []
   },
   "outputs": [],
   "source": [
    "gen = network.Generator(n_features+1).to(device)\n",
    "disc = network.Discriminator(n_features+1).to(device)\n",
    "\n",
    "criterion = torch.nn.BCELoss()\n",
    "gen_opt = torch.optim.Adam(gen.parameters(), lr=0.001, betas=(0.5, 0.999))\n",
    "disc_opt = torch.optim.Adam(disc.parameters(), lr=0.001, betas=(0.5, 0.999))"
   ]
  },
  {
   "cell_type": "code",
   "execution_count": 12,
   "id": "b75fdd85",
   "metadata": {
    "execution": {
     "iopub.execute_input": "2022-06-22T14:14:26.271332Z",
     "iopub.status.busy": "2022-06-22T14:14:26.270568Z",
     "iopub.status.idle": "2022-06-22T14:15:21.578080Z",
     "shell.execute_reply": "2022-06-22T14:15:21.583275Z"
    },
    "papermill": {
     "duration": 55.36828,
     "end_time": "2022-06-22T14:15:21.583874",
     "exception": false,
     "start_time": "2022-06-22T14:14:26.215594",
     "status": "completed"
    },
    "tags": []
   },
   "outputs": [
    {
     "data": {
      "image/png": "[encoded data removed]",
      "text/plain": [
       "<Figure size 432x288 with 1 Axes>"
      ]
     },
     "metadata": {
      "needs_background": "light"
     },
     "output_type": "display_data"
    },
    {
     "data": {
      "image/png": "[encoded data removed]",
      "text/plain": [
       "<Figure size 432x288 with 1 Axes>"
      ]
     },
     "metadata": {
      "needs_background": "light"
     },
     "output_type": "display_data"
    }
   ],
   "source": [
    "#Training the ABC_GAN \n",
    "ABC_train_test2.training_GAN(disc,gen,disc_opt,gen_opt,train_data,batch_size,n_epochs,criterion,prior_model,variance,bias,device)"
   ]
  },
  {
   "cell_type": "code",
   "execution_count": 13,
   "id": "1fa7c368",
   "metadata": {
    "execution": {
     "iopub.execute_input": "2022-06-22T14:15:21.741414Z",
     "iopub.status.busy": "2022-06-22T14:15:21.737423Z",
     "iopub.status.idle": "2022-06-22T14:15:22.597125Z",
     "shell.execute_reply": "2022-06-22T14:15:22.597677Z"
    },
    "papermill": {
     "duration": 0.937864,
     "end_time": "2022-06-22T14:15:22.597906",
     "exception": false,
     "start_time": "2022-06-22T14:15:21.660042",
     "status": "completed"
    },
    "tags": []
   },
   "outputs": [
    {
     "data": {
      "application/scrapbook.scrap.json+json": {
       "data": 0.14725164312598288,
       "encoder": "json",
       "name": "ABC-GAN Model 1 MSE",
       "version": 1
      }
     },
     "metadata": {
      "scrapbook": {
       "data": true,
       "display": false,
       "name": "ABC-GAN Model 1 MSE"
      }
     },
     "output_type": "display_data"
    },
    {
     "data": {
      "application/scrapbook.scrap.json+json": {
       "data": 0.32292773613519965,
       "encoder": "json",
       "name": "ABC-GAN Model 1 MAE",
       "version": 1
      }
     },
     "metadata": {
      "scrapbook": {
       "data": true,
       "display": false,
       "name": "ABC-GAN Model 1 MAE"
      }
     },
     "output_type": "display_data"
    },
    {
     "data": {
      "application/scrapbook.scrap.json+json": {
       "data": 6.458554722703993,
       "encoder": "json",
       "name": "ABC-GAN Model 1 Manhattan Distance",
       "version": 1
      }
     },
     "metadata": {
      "scrapbook": {
       "data": true,
       "display": false,
       "name": "ABC-GAN Model 1 Manhattan Distance"
      }
     },
     "output_type": "display_data"
    },
    {
     "data": {
      "application/scrapbook.scrap.json+json": {
       "data": 1.7160955837063725,
       "encoder": "json",
       "name": "ABC-GAN Model 1 Euclidean distance",
       "version": 1
      }
     },
     "metadata": {
      "scrapbook": {
       "data": true,
       "display": false,
       "name": "ABC-GAN Model 1 Euclidean distance"
      }
     },
     "output_type": "display_data"
    },
    {
     "data": {
      "application/scrapbook.scrap.json+json": {
       "data": [
        [
         0.1473326857472133,
         0.14640281073734046,
         0.14873642833889228,
         0.14762293507952798,
         0.14612726028979717,
         0.14706707545423992,
         0.14882257491322273,
         0.14745769709567758,
         0.14709346275013377,
         0.14563655880617085,
         0.14375344843168877,
         0.1477123795147693,
         0.14742595349975227,
         0.14776041182367652,
         0.14740222819392276,
         0.14797480275708474,
         0.1473245315600864,
         0.14648472401076934,
         0.14682745505622946,
         0.14707607861615918,
         0.14567389304606038,
         0.14750431391771582,
         0.14756958231598055,
         0.1459193910225983,
         0.14560639106659629,
         0.14752291550668067,
         0.1473870556249133,
         0.14734374243259016,
         0.15026701323910122,
         0.1472935598947435,
         0.1470724634693212,
         0.14842812687761048,
         0.14563256720410378,
         0.14736791439188934,
         0.14726077240730065,
         0.14860789543017874,
         0.14646140261027923,
         0.14800405490976717,
         0.14678825184708877,
         0.147260058681284,
         0.14701365323722276,
         0.14696841659041268,
         0.1460683726534905,
         0.14827602688143052,
         0.14872797973383395,
         0.14652694216638773,
         0.14720390749232404,
         0.14852270460343797,
         0.14702768263722904,
         0.14592544650615108,
         0.14698842064121026,
         0.14940084221385092,
         0.1472230414138745,
         0.1458526005229946,
         0.14721837864986076,
         0.14657472302515578,
         0.143517886867454,
         0.14827738845148136,
         0.14983932636529057,
         0.14796192153903126,
         0.14575948377007014,
         0.1472199492973647,
         0.14497339119208918,
         0.14812181832025142,
         0.14644394747585956,
         0.14615919979348257,
         0.14761431044492873,
         0.1486420858436405,
         0.14585497584325308,
         0.1491215409200155,
         0.14863947386379076,
         0.14783667721014912,
         0.14821004824838802,
         0.14699644858769836,
         0.14862651964132984,
         0.1464163602253736,
         0.1478478035682586,
         0.14807969017031292,
         0.14880697651517308,
         0.14683797403234505,
         0.1469223865041919,
         0.146901636546512,
         0.14860382291167853,
         0.14513133530550476,
         0.14793235630504278,
         0.14536240684581944,
         0.1494594033044428,
         0.14874362334271665,
         0.1458186689528634,
         0.14752982151078556,
         0.14613854438090668,
         0.1459352676019287,
         0.14703683044654253,
         0.14999305328403917,
         0.14792067995103636,
         0.14682189047698668,
         0.14664879592021088,
         0.14738652459795182,
         0.14722887998766998,
         0.14731117869339996
        ],
        [
         0.3232647003605962,
         0.32171246539801357,
         0.3243953829631209,
         0.3233696423470974,
         0.3215623591095209,
         0.3225029557943344,
         0.3248466832563281,
         0.3221270885318518,
         0.3226314190775156,
         0.321520059928298,
         0.3199765902012587,
         0.324756714142859,
         0.3218963149935007,
         0.32340363748371603,
         0.3230868499726057,
         0.323971807025373,
         0.3235937185585499,
         0.32188642136752604,
         0.3209462374448776,
         0.32326147966086866,
         0.3199500413611531,
         0.32439322732388975,
         0.32346604596823453,
         0.32127951737493277,
         0.3213946567848325,
         0.3242419546470046,
         0.3221575478091836,
         0.3217086112126708,
         0.3253964565694332,
         0.3227294085547328,
         0.3219111168757081,
         0.3243445694446564,
         0.3220288610085845,
         0.32405019197613,
         0.32423718813806773,
         0.32330989427864554,
         0.32226926647126675,
         0.32398759853094816,
         0.32269013617187736,
         0.32353271804749967,
         0.32182640992105005,
         0.322918501496315,
         0.32117940317839383,
         0.32482142448425294,
         0.32437015902251004,
         0.3239764541387558,
         0.3226265715435147,
         0.32359654158353807,
         0.3231451967731118,
         0.3219198651611805,
         0.32309046760201454,
         0.32515931949019433,
         0.323064648360014,
         0.3225550901144743,
         0.32201950792223216,
         0.3206670118495822,
         0.31983916107565163,
         0.324058485776186,
         0.32620884869247674,
         0.32384282294660804,
         0.3209754228591919,
         0.32290853578597306,
         0.3188744157552719,
         0.32392182778567075,
         0.3209524009376764,
         0.32118971087038517,
         0.3249120032414794,
         0.32510317135602235,
         0.32170590609312055,
         0.32370623759925365,
         0.3247747043147683,
         0.3224039196968079,
         0.32384200021624565,
         0.32130822390317915,
         0.32475592084228994,
         0.3216791845858097,
         0.3234078148379922,
         0.32324149925261736,
         0.3246661165729165,
         0.3226294718682766,
         0.323046781308949,
         0.3228597782552242,
         0.3255866328254342,
         0.32054237369447947,
         0.3245195560157299,
         0.32123147901147603,
         0.3260292809456587,
         0.32554573100060225,
         0.3219921140000224,
         0.32358079962432384,
         0.3210363848134875,
         0.32023999504745004,
         0.3219568824395537,
         0.32589822690933945,
         0.3236769674345851,
         0.3225763663649559,
         0.32143175676465036,
         0.32324339020997284,
         0.3230707226321101,
         0.3230724785476923
        ],
        [
         6.465294007211924,
         6.434249307960272,
         6.487907659262419,
         6.467392846941948,
         6.431247182190418,
         6.450059115886688,
         6.496933665126562,
         6.442541770637035,
         6.452628381550312,
         6.43040119856596,
         6.399531804025173,
         6.49513428285718,
         6.437926299870014,
         6.46807274967432,
         6.461736999452114,
         6.47943614050746,
         6.471874371170998,
         6.437728427350521,
         6.4189247488975525,
         6.465229593217373,
         6.3990008272230625,
         6.487864546477795,
         6.469320919364691,
         6.425590347498655,
         6.4278931356966496,
         6.484839092940092,
         6.443150956183672,
         6.434172224253416,
         6.507929131388664,
         6.454588171094656,
         6.438222337514162,
         6.486891388893127,
         6.44057722017169,
         6.4810038395226,
         6.4847437627613544,
         6.46619788557291,
         6.445385329425335,
         6.479751970618963,
         6.453802723437548,
         6.470654360949993,
         6.436528198421001,
         6.4583700299263,
         6.423588063567877,
         6.496428489685059,
         6.487403180450201,
         6.479529082775116,
         6.452531430870295,
         6.471930831670761,
         6.462903935462236,
         6.43839730322361,
         6.461809352040291,
         6.503186389803886,
         6.461292967200279,
         6.451101802289486,
         6.440390158444643,
         6.413340236991644,
         6.396783221513033,
         6.48116971552372,
         6.524176973849535,
         6.476856458932161,
         6.419508457183838,
         6.458170715719461,
         6.377488315105438,
         6.478436555713415,
         6.419048018753529,
         6.423794217407703,
         6.498240064829588,
         6.502063427120447,
         6.4341181218624115,
         6.474124751985073,
         6.495494086295366,
         6.448078393936157,
         6.476840004324913,
         6.426164478063583,
         6.4951184168457985,
         6.433583691716194,
         6.468156296759844,
         6.464829985052347,
         6.49332233145833,
         6.452589437365532,
         6.46093562617898,
         6.457195565104485,
         6.511732656508684,
         6.410847473889589,
         6.490391120314598,
         6.424629580229521,
         6.520585618913174,
         6.510914620012045,
         6.439842280000448,
         6.471615992486477,
         6.420727696269751,
         6.404799900949001,
         6.439137648791075,
         6.517964538186789,
         6.473539348691702,
         6.451527327299118,
         6.428635135293007,
         6.464867804199457,
         6.461414452642202,
         6.461449570953846
        ],
        [
         1.7165819860828864,
         1.7111563969277646,
         1.724740144711036,
         1.7182720103611533,
         1.7095453213635323,
         1.7150339673268278,
         1.7252395480814988,
         1.717310089038538,
         1.7151878191622851,
         1.706672545078117,
         1.695602833399902,
         1.7187924802882357,
         1.717125234219987,
         1.7190719113735557,
         1.716987059904196,
         1.7203185911748133,
         1.7165344829631963,
         1.7116350312538555,
         1.7136362219341037,
         1.7150864620546638,
         1.7068912856187437,
         1.717581520148117,
         1.717961479870725,
         1.708328955573828,
         1.7064957724330656,
         1.7176898177883029,
         1.7168986902255665,
         1.7166463959277702,
         1.7335917237867815,
         1.716354042118021,
         1.715065383414412,
         1.7229516933310143,
         1.706649156705055,
         1.7167871993458557,
         1.7161630016248495,
         1.7239947530672983,
         1.7114987736500382,
         1.7204886219313813,
         1.713407434599773,
         1.716158842772335,
         1.7147224453958885,
         1.714458611867972,
         1.709200822919826,
         1.7220686797072322,
         1.7246911592156664,
         1.711881667443096,
         1.7158316204821733,
         1.7235005343975844,
         1.7148042607669776,
         1.708364402029913,
         1.7145752864264099,
         1.7285881071779414,
         1.7159431308401483,
         1.7079379410446656,
         1.7159159574399951,
         1.7121607577862294,
         1.6942130141599905,
         1.7220765862846017,
         1.7311229093584923,
         1.720243712611857,
         1.707392654137121,
         1.7159251108213593,
         1.7027823771233315,
         1.7211729623733427,
         1.7113967831912011,
         1.7097321415559958,
         1.718221815976789,
         1.7241930625289066,
         1.707951848520637,
         1.726971574288445,
         1.7241779134636352,
         1.7195154969359778,
         1.721685501178354,
         1.7146221075659696,
         1.724102779078613,
         1.7112355783197917,
         1.7195802020740911,
         1.7209281807810164,
         1.7251491327718487,
         1.7136976047853079,
         1.7141901090847065,
         1.7140690566398542,
         1.7239711303364598,
         1.7037096895040817,
         1.7200718374826254,
         1.7050654347902279,
         1.7289268538862064,
         1.7247818606578436,
         1.707739259681427,
         1.7177300225051988,
         1.7096113264769082,
         1.7084218893582974,
         1.7148576060218093,
         1.7320107002212148,
         1.7200039531991567,
         1.7136037492780336,
         1.7125933312973682,
         1.7168955972798803,
         1.7159771559532486,
         1.7164566915212278
        ]
       ],
       "encoder": "json",
       "name": "ABC_GAN_1 Metrics",
       "version": 1
      }
     },
     "metadata": {
      "scrapbook": {
       "data": true,
       "display": false,
       "name": "ABC_GAN_1 Metrics"
      }
     },
     "output_type": "display_data"
    },
    {
     "name": "stdout",
     "output_type": "stream",
     "text": [
      "MSE\n",
      "0.14725164312598288\n"
     ]
    }
   ],
   "source": [
    "ABC_GAN1_metrics=ABC_train_test2.test_generator(gen,test_data,prior_model,variance,bias,\"1\",device)\n",
    "sb.glue(\"ABC_GAN_1 Metrics\",ABC_GAN1_metrics)\n",
    "\n",
    "print(\"MSE\")\n",
    "print(mean(ABC_GAN1_metrics[0]))"
   ]
  },
  {
   "cell_type": "code",
   "execution_count": 14,
   "id": "eb22ce5c",
   "metadata": {
    "execution": {
     "iopub.execute_input": "2022-06-22T14:15:22.781094Z",
     "iopub.status.busy": "2022-06-22T14:15:22.779960Z",
     "iopub.status.idle": "2022-06-22T14:15:23.650226Z",
     "shell.execute_reply": "2022-06-22T14:15:23.650764Z"
    },
    "papermill": {
     "duration": 0.999727,
     "end_time": "2022-06-22T14:15:23.651006",
     "exception": false,
     "start_time": "2022-06-22T14:15:22.651279",
     "status": "completed"
    },
    "tags": []
   },
   "outputs": [
    {
     "data": {
      "image/png": "[encoded data removed]",
      "text/plain": [
       "<Figure size 432x288 with 1 Axes>"
      ]
     },
     "metadata": {
      "needs_background": "light"
     },
     "output_type": "display_data"
    },
    {
     "data": {
      "image/png": "[encoded data removed]",
      "text/plain": [
       "<Figure size 432x288 with 1 Axes>"
      ]
     },
     "metadata": {
      "needs_background": "light"
     },
     "output_type": "display_data"
    },
    {
     "data": {
      "image/png": "[encoded data removed]",
      "text/plain": [
       "<Figure size 432x288 with 1 Axes>"
      ]
     },
     "metadata": {
      "needs_background": "light"
     },
     "output_type": "display_data"
    },
    {
     "data": {
      "image/png": "[encoded data removed]",
      "text/plain": [
       "<Figure size 432x288 with 1 Axes>"
      ]
     },
     "metadata": {
      "needs_background": "light"
     },
     "output_type": "display_data"
    }
   ],
   "source": [
    "sanityChecks.discProbVsError(train_data,disc,device)\n",
    "sanityChecks.discProbVsError(test_data,disc,device)"
   ]
  },
  {
   "cell_type": "markdown",
   "id": "130f3a4d",
   "metadata": {
    "id": "130f3a4d",
    "papermill": {
     "duration": 0.077861,
     "end_time": "2022-06-22T14:15:23.788290",
     "exception": false,
     "start_time": "2022-06-22T14:15:23.710429",
     "status": "completed"
    },
    "tags": []
   },
   "source": [
    "# ABC - GAN Model with skip connection"
   ]
  },
  {
   "cell_type": "code",
   "execution_count": 15,
   "id": "4e43dad1",
   "metadata": {
    "execution": {
     "iopub.execute_input": "2022-06-22T14:15:23.969886Z",
     "iopub.status.busy": "2022-06-22T14:15:23.967851Z",
     "iopub.status.idle": "2022-06-22T14:15:23.971654Z",
     "shell.execute_reply": "2022-06-22T14:15:23.972175Z"
    },
    "id": "4e43dad1",
    "papermill": {
     "duration": 0.118343,
     "end_time": "2022-06-22T14:15:23.972405",
     "exception": false,
     "start_time": "2022-06-22T14:15:23.854062",
     "status": "completed"
    },
    "tags": []
   },
   "outputs": [],
   "source": [
    "#Generator\n",
    "gen3 = network.GeneratorWithSkipConnection(n_features+1).to(device)\n",
    "constraints=network.weightConstraint()\n",
    "#Discriminator \n",
    "disc3 = network.Discriminator(n_features+1).to(device)\n",
    "\n",
    "criterion = torch.nn.BCELoss()\n",
    "gen_opt = torch.optim.Adam(gen3.parameters(), lr=0.001, betas=(0.5, 0.999))\n",
    "disc_opt = torch.optim.Adam(disc3.parameters(), lr=0.001, betas=(0.5, 0.999))\n"
   ]
  },
  {
   "cell_type": "code",
   "execution_count": 16,
   "id": "26acbc37",
   "metadata": {
    "execution": {
     "iopub.execute_input": "2022-06-22T14:15:24.100023Z",
     "iopub.status.busy": "2022-06-22T14:15:24.099090Z",
     "iopub.status.idle": "2022-06-22T14:17:03.616409Z",
     "shell.execute_reply": "2022-06-22T14:17:03.616934Z"
    },
    "id": "26acbc37",
    "papermill": {
     "duration": 99.587108,
     "end_time": "2022-06-22T14:17:03.617231",
     "exception": false,
     "start_time": "2022-06-22T14:15:24.030123",
     "status": "completed"
    },
    "tags": []
   },
   "outputs": [
    {
     "data": {
      "image/png": "[encoded data removed]",
      "text/plain": [
       "<Figure size 432x288 with 1 Axes>"
      ]
     },
     "metadata": {
      "needs_background": "light"
     },
     "output_type": "display_data"
    },
    {
     "data": {
      "image/png": "[encoded data removed]",
      "text/plain": [
       "<Figure size 432x288 with 1 Axes>"
      ]
     },
     "metadata": {
      "needs_background": "light"
     },
     "output_type": "display_data"
    }
   ],
   "source": [
    "ABC_train_test2.training_GAN_skip_connection(disc3,gen3,disc_opt,gen_opt,train_data,batch_size,n_epochs,criterion,prior_model,variance,bias,device)"
   ]
  },
  {
   "cell_type": "code",
   "execution_count": 17,
   "id": "c5e0717b",
   "metadata": {
    "execution": {
     "iopub.execute_input": "2022-06-22T14:17:03.780439Z",
     "iopub.status.busy": "2022-06-22T14:17:03.779401Z",
     "iopub.status.idle": "2022-06-22T14:17:04.886318Z",
     "shell.execute_reply": "2022-06-22T14:17:04.886910Z"
    },
    "id": "c5e0717b",
    "papermill": {
     "duration": 1.202571,
     "end_time": "2022-06-22T14:17:04.887137",
     "exception": false,
     "start_time": "2022-06-22T14:17:03.684566",
     "status": "completed"
    },
    "tags": []
   },
   "outputs": [
    {
     "data": {
      "application/scrapbook.scrap.json+json": {
       "data": 0.21030815601929112,
       "encoder": "json",
       "name": "ABC-GAN Model 3 MSE",
       "version": 1
      }
     },
     "metadata": {
      "scrapbook": {
       "data": true,
       "display": false,
       "name": "ABC-GAN Model 3 MSE"
      }
     },
     "output_type": "display_data"
    },
    {
     "data": {
      "application/scrapbook.scrap.json+json": {
       "data": 0.36248271476477384,
       "encoder": "json",
       "name": "ABC-GAN Model 3 MAE",
       "version": 1
      }
     },
     "metadata": {
      "scrapbook": {
       "data": true,
       "display": false,
       "name": "ABC-GAN Model 3 MAE"
      }
     },
     "output_type": "display_data"
    },
    {
     "data": {
      "application/scrapbook.scrap.json+json": {
       "data": 7.249654295295477,
       "encoder": "json",
       "name": "ABC-GAN Model 3 Manhattan Distance",
       "version": 1
      }
     },
     "metadata": {
      "scrapbook": {
       "data": true,
       "display": false,
       "name": "ABC-GAN Model 3 Manhattan Distance"
      }
     },
     "output_type": "display_data"
    },
    {
     "data": {
      "application/scrapbook.scrap.json+json": {
       "data": 2.050871783815233,
       "encoder": "json",
       "name": "ABC-GAN Model 3 Euclidean distance",
       "version": 1
      }
     },
     "metadata": {
      "scrapbook": {
       "data": true,
       "display": false,
       "name": "ABC-GAN Model 3 Euclidean distance"
      }
     },
     "output_type": "display_data"
    },
    {
     "data": {
      "application/scrapbook.scrap.json+json": {
       "data": [
        [
         0.21172698937345186,
         0.21410945599564166,
         0.21271505743489588,
         0.20792563809690287,
         0.21069252258467824,
         0.2123444102119501,
         0.2085007077956988,
         0.2099694494126732,
         0.2108038374341509,
         0.2137620616077296,
         0.2124677279903892,
         0.21042778777573892,
         0.21294678110819243,
         0.21026921738949694,
         0.21406061944558424,
         0.21103239835951645,
         0.21044347956514392,
         0.21462635592190535,
         0.20878022095440385,
         0.21031107867411683,
         0.20847494888912887,
         0.2088033630066109,
         0.21218303586740134,
         0.2083406546472107,
         0.2118137251450504,
         0.2102359031024811,
         0.2094772048835873,
         0.2101323453886948,
         0.21122274702525018,
         0.20898040163651582,
         0.21209061803934048,
         0.21010250292309998,
         0.20909368175074858,
         0.21140678805404978,
         0.20953438388061665,
         0.20990621742287283,
         0.20827475879404353,
         0.21073246264739795,
         0.20966130712883926,
         0.21245838006978798,
         0.2116873144003204,
         0.21102643228942064,
         0.21039964454238796,
         0.2074658154015565,
         0.20850897799895424,
         0.20938602727792816,
         0.20978415560597732,
         0.21113414771631014,
         0.20935560077623921,
         0.2074425186984267,
         0.21003494814943338,
         0.2061396782073337,
         0.2083398000374343,
         0.20642869276178627,
         0.20680067158393528,
         0.21511988757870962,
         0.21123412220146953,
         0.20927489704337723,
         0.21040601642689497,
         0.2130604649129509,
         0.21407073498932264,
         0.21357600930163026,
         0.2119784986805154,
         0.20970464370606115,
         0.20944942243439524,
         0.20968775713395554,
         0.21248365244656076,
         0.209803383618027,
         0.21115025728478845,
         0.20691695529421167,
         0.2116721296974391,
         0.2108439799565959,
         0.21219875250705886,
         0.20886580890141201,
         0.20809950347039577,
         0.2067269644436433,
         0.20792600618454435,
         0.20984086235511462,
         0.21027469394396325,
         0.21171558435952526,
         0.20885562850561895,
         0.21038304980886036,
         0.21030085857848385,
         0.21058264469421584,
         0.20959455113580625,
         0.2097956573698096,
         0.20902407223614744,
         0.21061842518803592,
         0.20840135713359195,
         0.2126181257401311,
         0.21107358352094133,
         0.21211339145097852,
         0.2093939412185038,
         0.21270043327236232,
         0.20512166848005436,
         0.20854978297822147,
         0.2096421254411271,
         0.2103711934970991,
         0.21090743227927744,
         0.20991103764484825
        ],
        [
         0.36161680053919554,
         0.3658739624544978,
         0.36427605282515285,
         0.3589584676548839,
         0.36250803600996734,
         0.3647975532338023,
         0.35960786174982784,
         0.361566954664886,
         0.36268316488713026,
         0.365192080847919,
         0.3642732171341777,
         0.3629683194682002,
         0.3642817659303546,
         0.36251967381685973,
         0.36579591911286113,
         0.36345723997801543,
         0.3617548493668437,
         0.3637897936627269,
         0.36124314051121476,
         0.36147235315293075,
         0.3580907804891467,
         0.3643592981621623,
         0.36556678246706725,
         0.35850097220391036,
         0.3643751276656985,
         0.36576548796147107,
         0.3624305469915271,
         0.36174001526087524,
         0.3615810154005885,
         0.36341533344238997,
         0.36291419696062804,
         0.3623048124834895,
         0.36075457464903593,
         0.3635950742289424,
         0.3616799829527736,
         0.3616773886606097,
         0.36111459862440826,
         0.3625741956755519,
         0.3625340012833476,
         0.36493247877806423,
         0.363685411028564,
         0.365011733584106,
         0.3626733494922519,
         0.3611564693972468,
         0.3613553760573268,
         0.3627501828595996,
         0.3601647702977061,
         0.36155960243195295,
         0.3605748413130641,
         0.36013220231980086,
         0.361281849257648,
         0.35668847244232893,
         0.36059784423559904,
         0.35937474947422743,
         0.3594516171142459,
         0.3651762275025249,
         0.3637414274737239,
         0.3629064856097102,
         0.3616755722090602,
         0.36509726475924253,
         0.3643385050818324,
         0.3663125304505229,
         0.360827168636024,
         0.36298095118254425,
         0.3634100077673793,
         0.3651154262945056,
         0.36278372537344694,
         0.3616730062291026,
         0.36334032844752073,
         0.3609948618337512,
         0.36372130643576384,
         0.36450963746756315,
         0.3632854549214244,
         0.36031915079802274,
         0.36216570865362885,
         0.35867713373154403,
         0.36177787762135266,
         0.3626158876344562,
         0.36275184731930493,
         0.36200431566685437,
         0.3616944013163447,
         0.36374732237309215,
         0.36197159718722105,
         0.3628191230818629,
         0.3605683041736484,
         0.3643135650083423,
         0.3623961178585887,
         0.3618201641365886,
         0.36187549363821747,
         0.3669364033266902,
         0.36501228641718625,
         0.36344919037073853,
         0.36102057080715894,
         0.36315397303551433,
         0.3584025649353862,
         0.36159921120852234,
         0.36233564745634794,
         0.3634962959215045,
         0.3625502882525325,
         0.36190480422228577
        ],
        [
         7.232336010783911,
         7.317479249089956,
         7.2855210565030575,
         7.179169353097677,
         7.2501607201993465,
         7.295951064676046,
         7.192157234996557,
         7.23133909329772,
         7.253663297742605,
         7.30384161695838,
         7.285464342683554,
         7.259366389364004,
         7.285635318607092,
         7.250393476337194,
         7.315918382257223,
         7.2691447995603085,
         7.235096987336874,
         7.275795873254538,
         7.224862810224295,
         7.229447063058615,
         7.161815609782934,
         7.287185963243246,
         7.311335649341345,
         7.170019444078207,
         7.287502553313971,
         7.315309759229422,
         7.248610939830542,
         7.2348003052175045,
         7.23162030801177,
         7.268306668847799,
         7.258283939212561,
         7.24609624966979,
         7.215091492980719,
         7.271901484578848,
         7.233599659055471,
         7.233547773212194,
         7.222291972488165,
         7.251483913511038,
         7.250680025666952,
         7.298649575561285,
         7.2737082205712795,
         7.300234671682119,
         7.2534669898450375,
         7.223129387944937,
         7.227107521146536,
         7.255003657191992,
         7.2032954059541225,
         7.231192048639059,
         7.211496826261282,
         7.202644046396017,
         7.22563698515296,
         7.133769448846579,
         7.211956884711981,
         7.187494989484549,
         7.189032342284918,
         7.303524550050497,
         7.274828549474478,
         7.258129712194204,
         7.233511444181204,
         7.301945295184851,
         7.286770101636648,
         7.326250609010458,
         7.21654337272048,
         7.259619023650885,
         7.268200155347586,
         7.302308525890112,
         7.255674507468939,
         7.233460124582052,
         7.266806568950415,
         7.219897236675024,
         7.274426128715277,
         7.290192749351263,
         7.265709098428488,
         7.206383015960455,
         7.2433141730725765,
         7.17354267463088,
         7.2355575524270535,
         7.252317752689123,
         7.255036946386099,
         7.240086313337088,
         7.233888026326895,
         7.2749464474618435,
         7.239431943744421,
         7.2563824616372585,
         7.211366083472967,
         7.286271300166845,
         7.247922357171774,
         7.2364032827317715,
         7.237509872764349,
         7.338728066533804,
         7.300245728343725,
         7.26898380741477,
         7.220411416143179,
         7.263079460710287,
         7.168051298707724,
         7.231984224170446,
         7.246712949126959,
         7.26992591843009,
         7.25100576505065,
         7.238096084445715
        ],
        [
         2.0577997442581815,
         2.0693450944472342,
         2.062595730796008,
         2.0392431836193685,
         2.05276653609064,
         2.060797953279021,
         2.0420612517537213,
         2.049241076167825,
         2.053308731945349,
         2.0676656480569076,
         2.061396264624486,
         2.0514764818332134,
         2.063718881573711,
         2.0507033787922473,
         2.069109080960133,
         2.054421565110318,
         2.051552970630512,
         2.071841480045736,
         2.0434295728231198,
         2.0509074999819803,
         2.04193510616341,
         2.0435428207239057,
         2.06001473716768,
         2.041277318970701,
         2.0582211987298664,
         2.050540919379475,
         2.046837584585486,
         2.0500358308512308,
         2.0553478879510894,
         2.0444089690495675,
         2.059566061282524,
         2.049890255223923,
         2.0449629911113236,
         2.056243118184471,
         2.0471169184031313,
         2.0489324899706816,
         2.040954476680181,
         2.052961093870987,
         2.0477368343067877,
         2.061350916606816,
         2.057606932338246,
         2.0543925247596704,
         2.0513392919865203,
         2.0369870662405125,
         2.0421017506429706,
         2.046392080115285,
         2.048336669622342,
         2.0549167755230875,
         2.0462433910766293,
         2.0368726945905418,
         2.049560675605547,
         2.0304663415448863,
         2.041273132324209,
         2.031889233013386,
         2.033719113269752,
         2.074222204001826,
         2.055403231492398,
         2.0458489535807733,
         2.0513703538215373,
         2.0642696767280717,
         2.0691579687849964,
         2.066765634036091,
         2.0590216059114845,
         2.0479484549473463,
         2.046701846554086,
         2.047865997246673,
         2.0614735140018694,
         2.0484305388175943,
         2.0549951692633655,
         2.0342908115321747,
         2.05753313313511,
         2.0535042242790538,
         2.060091029576406,
         2.0438483745200475,
         2.0400956030068578,
         2.033356655600012,
         2.0392449886393953,
         2.0486134938299836,
         2.050730084355146,
         2.0577443201696624,
         2.0437985639764937,
         2.0512583933227932,
         2.0508576673113317,
         2.0522311989355186,
         2.047410809465488,
         2.04839282057817,
         2.0446225677916567,
         2.0524055407644752,
         2.041574672323263,
         2.0621257272054536,
         2.054622026169005,
         2.0596766321487388,
         2.046430752400402,
         2.062524827837776,
         2.0254464617957906,
         2.0423015594089993,
         2.0476431595428295,
         2.0512005923219654,
         2.053813196370485,
         2.0489560153641575
        ]
       ],
       "encoder": "json",
       "name": "ABC_GAN_3 Metrics",
       "version": 1
      }
     },
     "metadata": {
      "scrapbook": {
       "data": true,
       "display": false,
       "name": "ABC_GAN_3 Metrics"
      }
     },
     "output_type": "display_data"
    },
    {
     "name": "stdout",
     "output_type": "stream",
     "text": [
      "MSE\n",
      "0.21030815601929112\n"
     ]
    }
   ],
   "source": [
    "ABC_GAN3_metrics=ABC_train_test2.test_generator(gen3,test_data,prior_model,variance,bias,\"3\",device)\n",
    "sb.glue(\"ABC_GAN_3 Metrics\",ABC_GAN3_metrics)\n",
    "\n",
    "print(\"MSE\")\n",
    "print(mean(ABC_GAN3_metrics[0]))"
   ]
  },
  {
   "cell_type": "code",
   "execution_count": 18,
   "id": "c8e46b48",
   "metadata": {
    "execution": {
     "iopub.execute_input": "2022-06-22T14:17:05.048771Z",
     "iopub.status.busy": "2022-06-22T14:17:05.047904Z",
     "iopub.status.idle": "2022-06-22T14:17:05.953698Z",
     "shell.execute_reply": "2022-06-22T14:17:05.954157Z"
    },
    "id": "c8e46b48",
    "papermill": {
     "duration": 0.997797,
     "end_time": "2022-06-22T14:17:05.954371",
     "exception": false,
     "start_time": "2022-06-22T14:17:04.956574",
     "status": "completed"
    },
    "tags": []
   },
   "outputs": [
    {
     "data": {
      "image/png": "[encoded data removed]",
      "text/plain": [
       "<Figure size 432x288 with 1 Axes>"
      ]
     },
     "metadata": {
      "needs_background": "light"
     },
     "output_type": "display_data"
    },
    {
     "data": {
      "image/png": "[encoded data removed]",
      "text/plain": [
       "<Figure size 432x288 with 1 Axes>"
      ]
     },
     "metadata": {
      "needs_background": "light"
     },
     "output_type": "display_data"
    },
    {
     "data": {
      "image/png": "[encoded data removed]",
      "text/plain": [
       "<Figure size 432x288 with 1 Axes>"
      ]
     },
     "metadata": {
      "needs_background": "light"
     },
     "output_type": "display_data"
    },
    {
     "data": {
      "image/png": "[encoded data removed]",
      "text/plain": [
       "<Figure size 432x288 with 1 Axes>"
      ]
     },
     "metadata": {
      "needs_background": "light"
     },
     "output_type": "display_data"
    }
   ],
   "source": [
    "sanityChecks.discProbVsError(train_data,disc3,device)\n",
    "sanityChecks.discProbVsError(test_data,disc3,device)"
   ]
  },
  {
   "cell_type": "markdown",
   "id": "a5bd74c3",
   "metadata": {
    "id": "a5bd74c3",
    "papermill": {
     "duration": 0.086123,
     "end_time": "2022-06-22T14:17:06.122116",
     "exception": false,
     "start_time": "2022-06-22T14:17:06.035993",
     "status": "completed"
    },
    "tags": []
   },
   "source": [
    "## Skip Connection Model Analysis - ABC-GAN "
   ]
  },
  {
   "cell_type": "markdown",
   "id": "5744a8bf",
   "metadata": {
    "id": "5744a8bf",
    "papermill": {
     "duration": 0.075964,
     "end_time": "2022-06-22T14:17:06.269610",
     "exception": false,
     "start_time": "2022-06-22T14:17:06.193646",
     "status": "completed"
    },
    "tags": []
   },
   "source": [
    "### Weight Analysis \n",
    "\n",
    "Study the weights of the skip connection layer\n",
    "\n",
    "Equation of the skip connection is \n",
    "\n",
    "$output = y_{gan} * w + y_{abc} * (1-w)$"
   ]
  },
  {
   "cell_type": "code",
   "execution_count": 19,
   "id": "52c31dea",
   "metadata": {
    "execution": {
     "iopub.execute_input": "2022-06-22T14:17:06.463148Z",
     "iopub.status.busy": "2022-06-22T14:17:06.461972Z",
     "iopub.status.idle": "2022-06-22T14:17:06.471981Z",
     "shell.execute_reply": "2022-06-22T14:17:06.472521Z"
    },
    "id": "52c31dea",
    "papermill": {
     "duration": 0.128314,
     "end_time": "2022-06-22T14:17:06.472848",
     "exception": false,
     "start_time": "2022-06-22T14:17:06.344534",
     "status": "completed"
    },
    "tags": []
   },
   "outputs": [
    {
     "name": "stdout",
     "output_type": "stream",
     "text": [
      "Weight of the node at skip connection\n",
      "Parameter containing:\n",
      "tensor([[0.1227]], requires_grad=True)\n"
     ]
    },
    {
     "data": {
      "application/scrapbook.scrap.json+json": {
       "data": 0.12269164621829987,
       "encoder": "json",
       "name": "Skip Connection Weight",
       "version": 1
      }
     },
     "metadata": {
      "scrapbook": {
       "data": true,
       "display": false,
       "name": "Skip Connection Weight"
      }
     },
     "output_type": "display_data"
    }
   ],
   "source": [
    "print(\"Weight of the node at skip connection\")\n",
    "for name,param in gen3.named_parameters():\n",
    "    if(name == \"skipNode.weight\"):\n",
    "        print(param)\n",
    "        sb.glue(\"Skip Connection Weight\",param.item())"
   ]
  }
 ],
 "metadata": {
  "colab": {
   "collapsed_sections": [],
   "name": "ABC_GAN_Model-Catboost_Pre-gen.ipynb",
   "provenance": []
  },
  "interpreter": {
   "hash": "31f2aee4e71d21fbe5cf8b01ff0e069b9275f58929596ceb00d14d90e3e16cd6"
  },
  "kernelspec": {
   "display_name": "Python 3 (ipykernel)",
   "language": "python",
   "name": "python3"
  },
  "language_info": {
   "codemirror_mode": {
    "name": "ipython",
    "version": 3
   },
   "file_extension": ".py",
   "mimetype": "text/x-python",
   "name": "python",
   "nbconvert_exporter": "python",
   "pygments_lexer": "ipython3",
   "version": "3.8.3"
  },
  "papermill": {
   "default_parameters": {},
   "duration": 197.37222,
   "end_time": "2022-06-22T14:17:07.528612",
   "environment_variables": {},
   "exception": null,
   "input_path": "ABC_GAN-TabNet.ipynb",
   "output_path": "./ABC_GAN_TabNet/ABC-GAN_output_6_2.ipynb",
   "parameters": {
    "bias": 1,
    "variance": 0.01
   },
   "start_time": "2022-06-22T14:13:50.156392",
   "version": "2.3.3"
  }
 },
 "nbformat": 4,
 "nbformat_minor": 5
}