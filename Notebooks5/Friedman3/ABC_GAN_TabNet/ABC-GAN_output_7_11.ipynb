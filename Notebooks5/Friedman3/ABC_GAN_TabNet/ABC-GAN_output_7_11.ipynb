{
 "cells": [
  {
   "cell_type": "markdown",
   "id": "622780e6",
   "metadata": {
    "id": "622780e6",
    "papermill": {
     "duration": 0.019015,
     "end_time": "2022-06-22T15:11:30.020908",
     "exception": false,
     "start_time": "2022-06-22T15:11:30.001893",
     "status": "completed"
    },
    "tags": []
   },
   "source": [
    "## Import Libraries "
   ]
  },
  {
   "cell_type": "code",
   "execution_count": 1,
   "id": "a62397e3",
   "metadata": {
    "execution": {
     "iopub.execute_input": "2022-06-22T15:11:30.087919Z",
     "iopub.status.busy": "2022-06-22T15:11:30.085979Z",
     "iopub.status.idle": "2022-06-22T15:11:30.090985Z",
     "shell.execute_reply": "2022-06-22T15:11:30.091648Z"
    },
    "id": "a62397e3",
    "papermill": {
     "duration": 0.05246,
     "end_time": "2022-06-22T15:11:30.091972",
     "exception": false,
     "start_time": "2022-06-22T15:11:30.039512",
     "status": "completed"
    },
    "tags": []
   },
   "outputs": [],
   "source": [
    "import warnings\n",
    "import sys\n",
    "sys.path.insert(0, '../../src')\n",
    "warnings.filterwarnings('ignore')"
   ]
  },
  {
   "cell_type": "code",
   "execution_count": 2,
   "id": "d6a4e155",
   "metadata": {
    "execution": {
     "iopub.execute_input": "2022-06-22T15:11:30.128401Z",
     "iopub.status.busy": "2022-06-22T15:11:30.127540Z",
     "iopub.status.idle": "2022-06-22T15:11:35.751094Z",
     "shell.execute_reply": "2022-06-22T15:11:35.751761Z"
    },
    "id": "d6a4e155",
    "papermill": {
     "duration": 5.643577,
     "end_time": "2022-06-22T15:11:35.751971",
     "exception": false,
     "start_time": "2022-06-22T15:11:30.108394",
     "status": "completed"
    },
    "tags": []
   },
   "outputs": [],
   "source": [
    "import ABC_train_test2\n",
    "import friedman3Dataset\n",
    "import network\n",
    "import dataset\n",
    "import sanityChecks\n",
    "import torch \n",
    "import scrapbook as sb\n",
    "from statistics import mean \n",
    "import catboost as ctb \n",
    "from sklearn.model_selection import train_test_split\n",
    "from sklearn.metrics import mean_squared_error,mean_absolute_error\n",
    "import numpy as np\n",
    "from pytorch_tabnet.tab_model import TabNetRegressor"
   ]
  },
  {
   "cell_type": "markdown",
   "id": "2fa5b0f7",
   "metadata": {
    "id": "2fa5b0f7",
    "papermill": {
     "duration": 0.014649,
     "end_time": "2022-06-22T15:11:35.779396",
     "exception": false,
     "start_time": "2022-06-22T15:11:35.764747",
     "status": "completed"
    },
    "tags": []
   },
   "source": [
    "## Parameters "
   ]
  },
  {
   "cell_type": "code",
   "execution_count": 3,
   "id": "783186fb",
   "metadata": {
    "execution": {
     "iopub.execute_input": "2022-06-22T15:11:35.816727Z",
     "iopub.status.busy": "2022-06-22T15:11:35.815921Z",
     "iopub.status.idle": "2022-06-22T15:11:35.819799Z",
     "shell.execute_reply": "2022-06-22T15:11:35.820669Z"
    },
    "id": "783186fb",
    "papermill": {
     "duration": 0.026862,
     "end_time": "2022-06-22T15:11:35.820891",
     "exception": false,
     "start_time": "2022-06-22T15:11:35.794029",
     "status": "completed"
    },
    "tags": [
     "parameters"
    ]
   },
   "outputs": [],
   "source": [
    "variance = 1\n",
    "bias = 1 "
   ]
  },
  {
   "cell_type": "code",
   "execution_count": 4,
   "id": "54621227",
   "metadata": {
    "execution": {
     "iopub.execute_input": "2022-06-22T15:11:35.857693Z",
     "iopub.status.busy": "2022-06-22T15:11:35.856953Z",
     "iopub.status.idle": "2022-06-22T15:11:35.859519Z",
     "shell.execute_reply": "2022-06-22T15:11:35.860360Z"
    },
    "papermill": {
     "duration": 0.024663,
     "end_time": "2022-06-22T15:11:35.860603",
     "exception": false,
     "start_time": "2022-06-22T15:11:35.835940",
     "status": "completed"
    },
    "tags": [
     "injected-parameters"
    ]
   },
   "outputs": [],
   "source": [
    "# Parameters\n",
    "variance = 0.01\n",
    "bias = 0\n"
   ]
  },
  {
   "cell_type": "markdown",
   "id": "391cdbfd",
   "metadata": {
    "id": "391cdbfd",
    "papermill": {
     "duration": 0.017404,
     "end_time": "2022-06-22T15:11:35.893135",
     "exception": false,
     "start_time": "2022-06-22T15:11:35.875731",
     "status": "completed"
    },
    "tags": []
   },
   "source": [
    "## Dataset \n"
   ]
  },
  {
   "cell_type": "code",
   "execution_count": 5,
   "id": "5b51f161",
   "metadata": {
    "execution": {
     "iopub.execute_input": "2022-06-22T15:11:35.931419Z",
     "iopub.status.busy": "2022-06-22T15:11:35.930438Z",
     "iopub.status.idle": "2022-06-22T15:11:35.934856Z",
     "shell.execute_reply": "2022-06-22T15:11:35.935991Z"
    },
    "id": "5b51f161",
    "papermill": {
     "duration": 0.027333,
     "end_time": "2022-06-22T15:11:35.936259",
     "exception": false,
     "start_time": "2022-06-22T15:11:35.908926",
     "status": "completed"
    },
    "tags": []
   },
   "outputs": [],
   "source": [
    "#Parameters \n",
    "n_features = 4\n",
    "n_samples= 100\n",
    "n_target = 1"
   ]
  },
  {
   "cell_type": "code",
   "execution_count": 6,
   "id": "5d6eced4",
   "metadata": {
    "execution": {
     "iopub.execute_input": "2022-06-22T15:11:35.979297Z",
     "iopub.status.busy": "2022-06-22T15:11:35.972930Z",
     "iopub.status.idle": "2022-06-22T15:11:35.988241Z",
     "shell.execute_reply": "2022-06-22T15:11:35.988757Z"
    },
    "id": "5d6eced4",
    "papermill": {
     "duration": 0.037952,
     "end_time": "2022-06-22T15:11:35.988972",
     "exception": false,
     "start_time": "2022-06-22T15:11:35.951020",
     "status": "completed"
    },
    "tags": []
   },
   "outputs": [
    {
     "name": "stdout",
     "output_type": "stream",
     "text": [
      "          X1           X2        X3        X4         Y\n",
      "0  56.882352   860.420125  0.676753  1.315126  1.470107\n",
      "1  56.063857  1605.139047  0.507432  5.852630  1.421848\n",
      "2  66.058556   277.078082  0.897311  3.514847  1.418953\n",
      "3  67.842858  1538.307877  0.364703  8.224388  1.599655\n",
      "4  71.400114  1392.242923  0.753181  7.954897  1.747509\n"
     ]
    }
   ],
   "source": [
    "X,Y = friedman3Dataset.friedman3_data(n_samples)"
   ]
  },
  {
   "cell_type": "code",
   "execution_count": 7,
   "id": "fe007438",
   "metadata": {
    "execution": {
     "iopub.execute_input": "2022-06-22T15:11:36.036751Z",
     "iopub.status.busy": "2022-06-22T15:11:36.035403Z",
     "iopub.status.idle": "2022-06-22T15:11:36.038034Z",
     "shell.execute_reply": "2022-06-22T15:11:36.037446Z"
    },
    "id": "fe007438",
    "papermill": {
     "duration": 0.033658,
     "end_time": "2022-06-22T15:11:36.038344",
     "exception": false,
     "start_time": "2022-06-22T15:11:36.004686",
     "status": "completed"
    },
    "tags": []
   },
   "outputs": [],
   "source": [
    "#Train test split for dataset \n",
    "X_train,X_test,Y_train,Y_test = train_test_split(X,Y,test_size = 0.2)\n",
    "train_data = dataset.CustomDataset(X_train,Y_train)\n",
    "test_data = dataset.CustomDataset(X_test,Y_test)\n"
   ]
  },
  {
   "cell_type": "markdown",
   "id": "a9a1af34",
   "metadata": {
    "id": "a9a1af34",
    "papermill": {
     "duration": 0.016179,
     "end_time": "2022-06-22T15:11:36.070389",
     "exception": false,
     "start_time": "2022-06-22T15:11:36.054210",
     "status": "completed"
    },
    "tags": []
   },
   "source": [
    "## Training Parameters "
   ]
  },
  {
   "cell_type": "code",
   "execution_count": 8,
   "id": "952b7fc8",
   "metadata": {
    "execution": {
     "iopub.execute_input": "2022-06-22T15:11:36.111153Z",
     "iopub.status.busy": "2022-06-22T15:11:36.109224Z",
     "iopub.status.idle": "2022-06-22T15:11:36.112349Z",
     "shell.execute_reply": "2022-06-22T15:11:36.112869Z"
    },
    "id": "952b7fc8",
    "papermill": {
     "duration": 0.025859,
     "end_time": "2022-06-22T15:11:36.113094",
     "exception": false,
     "start_time": "2022-06-22T15:11:36.087235",
     "status": "completed"
    },
    "tags": []
   },
   "outputs": [],
   "source": [
    "batch_size = 32\n",
    "n_epochs = 1000\n",
    "#Select the device \n",
    "device = torch.device('cuda' if torch.cuda.is_available() else 'cpu')"
   ]
  },
  {
   "cell_type": "markdown",
   "id": "a95e1600",
   "metadata": {
    "id": "a95e1600",
    "papermill": {
     "duration": 0.020201,
     "end_time": "2022-06-22T15:11:36.149704",
     "exception": false,
     "start_time": "2022-06-22T15:11:36.129503",
     "status": "completed"
    },
    "tags": []
   },
   "source": [
    "# ABC Pre-generator Model \n",
    "\n",
    "1. The catboost model is used as a pre-generator model for the ABC-GAN. \n",
    "2. The model is first trained on the entire dataset \n",
    "3. It generats X,Y pairs and we add some Gaussian noise with mean 0 and variance 1 to it which is then feed as input to the generator.\n"
   ]
  },
  {
   "cell_type": "code",
   "execution_count": 9,
   "id": "ff8ce7bd",
   "metadata": {
    "execution": {
     "iopub.execute_input": "2022-06-22T15:11:36.190667Z",
     "iopub.status.busy": "2022-06-22T15:11:36.189723Z",
     "iopub.status.idle": "2022-06-22T15:11:49.947467Z",
     "shell.execute_reply": "2022-06-22T15:11:49.947867Z"
    },
    "id": "ff8ce7bd",
    "papermill": {
     "duration": 13.781425,
     "end_time": "2022-06-22T15:11:49.948130",
     "exception": false,
     "start_time": "2022-06-22T15:11:36.166705",
     "status": "completed"
    },
    "tags": []
   },
   "outputs": [
    {
     "name": "stdout",
     "output_type": "stream",
     "text": [
      "Device used : cpu\n"
     ]
    },
    {
     "name": "stdout",
     "output_type": "stream",
     "text": [
      "epoch 0  | loss: 0.85128 | train_mse: 2.94466 | train_mae: 1.28784 |  0:00:00s\n"
     ]
    },
    {
     "name": "stdout",
     "output_type": "stream",
     "text": [
      "epoch 1  | loss: 0.65376 | train_mse: 1.50443 | train_mae: 0.96069 |  0:00:00s\n",
      "epoch 2  | loss: 0.59189 | train_mse: 1.6624  | train_mae: 0.97574 |  0:00:00s\n"
     ]
    },
    {
     "name": "stdout",
     "output_type": "stream",
     "text": [
      "epoch 3  | loss: 0.66452 | train_mse: 1.1566  | train_mae: 0.82605 |  0:00:00s\n",
      "epoch 4  | loss: 0.51083 | train_mse: 0.86172 | train_mae: 0.67252 |  0:00:00s\n",
      "epoch 5  | loss: 0.4962  | train_mse: 0.62275 | train_mae: 0.6045  |  0:00:00s\n",
      "epoch 6  | loss: 0.44523 | train_mse: 0.83668 | train_mae: 0.66867 |  0:00:00s\n"
     ]
    },
    {
     "name": "stdout",
     "output_type": "stream",
     "text": [
      "epoch 7  | loss: 0.45759 | train_mse: 0.94546 | train_mae: 0.64531 |  0:00:01s\n",
      "epoch 8  | loss: 0.36603 | train_mse: 0.59141 | train_mae: 0.57677 |  0:00:01s\n",
      "epoch 9  | loss: 0.35383 | train_mse: 0.60799 | train_mae: 0.59587 |  0:00:01s\n",
      "epoch 10 | loss: 0.38503 | train_mse: 0.54129 | train_mae: 0.55893 |  0:00:01s\n"
     ]
    },
    {
     "name": "stdout",
     "output_type": "stream",
     "text": [
      "epoch 11 | loss: 0.38386 | train_mse: 0.54484 | train_mae: 0.56206 |  0:00:01s\n",
      "epoch 12 | loss: 0.33111 | train_mse: 0.52173 | train_mae: 0.54529 |  0:00:01s\n",
      "epoch 13 | loss: 0.35333 | train_mse: 0.4659  | train_mae: 0.51804 |  0:00:01s\n",
      "epoch 14 | loss: 0.30436 | train_mse: 0.36161 | train_mae: 0.45352 |  0:00:01s\n"
     ]
    },
    {
     "name": "stdout",
     "output_type": "stream",
     "text": [
      "epoch 15 | loss: 0.35343 | train_mse: 0.43859 | train_mae: 0.45045 |  0:00:01s\n",
      "epoch 16 | loss: 0.28751 | train_mse: 0.29498 | train_mae: 0.38911 |  0:00:01s\n",
      "epoch 17 | loss: 0.35499 | train_mse: 0.25809 | train_mae: 0.37368 |  0:00:01s\n",
      "epoch 18 | loss: 0.30972 | train_mse: 0.26608 | train_mae: 0.38273 |  0:00:01s\n"
     ]
    },
    {
     "name": "stdout",
     "output_type": "stream",
     "text": [
      "epoch 19 | loss: 0.27984 | train_mse: 0.24849 | train_mae: 0.37778 |  0:00:01s\n",
      "epoch 20 | loss: 0.28167 | train_mse: 0.24324 | train_mae: 0.36719 |  0:00:01s\n",
      "epoch 21 | loss: 0.2762  | train_mse: 0.23157 | train_mae: 0.35872 |  0:00:01s\n"
     ]
    },
    {
     "name": "stdout",
     "output_type": "stream",
     "text": [
      "epoch 22 | loss: 0.42845 | train_mse: 0.22823 | train_mae: 0.34448 |  0:00:02s\n",
      "epoch 23 | loss: 0.26603 | train_mse: 0.1992  | train_mae: 0.32638 |  0:00:02s\n",
      "epoch 24 | loss: 0.30227 | train_mse: 0.20816 | train_mae: 0.34283 |  0:00:02s\n",
      "epoch 25 | loss: 0.23111 | train_mse: 0.20329 | train_mae: 0.3311  |  0:00:02s\n",
      "epoch 26 | loss: 0.23547 | train_mse: 0.19805 | train_mae: 0.3216  |  0:00:02s\n"
     ]
    },
    {
     "name": "stdout",
     "output_type": "stream",
     "text": [
      "epoch 27 | loss: 0.17803 | train_mse: 0.20576 | train_mae: 0.33212 |  0:00:02s\n",
      "epoch 28 | loss: 0.22375 | train_mse: 0.24567 | train_mae: 0.36666 |  0:00:02s\n",
      "epoch 29 | loss: 0.31077 | train_mse: 0.32647 | train_mae: 0.40024 |  0:00:02s\n",
      "epoch 30 | loss: 0.21035 | train_mse: 0.27615 | train_mae: 0.38269 |  0:00:02s\n"
     ]
    },
    {
     "name": "stdout",
     "output_type": "stream",
     "text": [
      "epoch 31 | loss: 0.28344 | train_mse: 0.22063 | train_mae: 0.34807 |  0:00:02s\n",
      "epoch 32 | loss: 0.33161 | train_mse: 0.17096 | train_mae: 0.32191 |  0:00:02s\n",
      "epoch 33 | loss: 0.23852 | train_mse: 0.22914 | train_mae: 0.33295 |  0:00:02s\n",
      "epoch 34 | loss: 0.21179 | train_mse: 0.28974 | train_mae: 0.36133 |  0:00:02s\n"
     ]
    },
    {
     "name": "stdout",
     "output_type": "stream",
     "text": [
      "epoch 35 | loss: 0.24164 | train_mse: 0.24085 | train_mae: 0.34691 |  0:00:02s\n",
      "epoch 36 | loss: 0.18648 | train_mse: 0.26066 | train_mae: 0.35912 |  0:00:02s\n",
      "epoch 37 | loss: 0.15853 | train_mse: 0.25134 | train_mae: 0.35366 |  0:00:03s\n"
     ]
    },
    {
     "name": "stdout",
     "output_type": "stream",
     "text": [
      "epoch 38 | loss: 0.23948 | train_mse: 0.18322 | train_mae: 0.32075 |  0:00:03s\n",
      "epoch 39 | loss: 0.21646 | train_mse: 0.17974 | train_mae: 0.3246  |  0:00:03s\n",
      "epoch 40 | loss: 0.21242 | train_mse: 0.18031 | train_mae: 0.32814 |  0:00:03s\n",
      "epoch 41 | loss: 0.27729 | train_mse: 0.18146 | train_mae: 0.32792 |  0:00:03s\n"
     ]
    },
    {
     "name": "stdout",
     "output_type": "stream",
     "text": [
      "epoch 42 | loss: 0.20214 | train_mse: 0.16676 | train_mae: 0.3158  |  0:00:03s\n",
      "epoch 43 | loss: 0.21958 | train_mse: 0.22471 | train_mae: 0.34431 |  0:00:03s\n",
      "epoch 44 | loss: 0.19977 | train_mse: 0.22657 | train_mae: 0.34227 |  0:00:03s\n",
      "epoch 45 | loss: 0.22143 | train_mse: 0.25192 | train_mae: 0.34995 |  0:00:03s\n"
     ]
    },
    {
     "name": "stdout",
     "output_type": "stream",
     "text": [
      "epoch 46 | loss: 0.27571 | train_mse: 0.30281 | train_mae: 0.3808  |  0:00:03s\n",
      "epoch 47 | loss: 0.20097 | train_mse: 0.16138 | train_mae: 0.29929 |  0:00:03s\n",
      "epoch 48 | loss: 0.20449 | train_mse: 0.13886 | train_mae: 0.29242 |  0:00:03s\n",
      "epoch 49 | loss: 0.22776 | train_mse: 0.14746 | train_mae: 0.29761 |  0:00:03s\n"
     ]
    },
    {
     "name": "stdout",
     "output_type": "stream",
     "text": [
      "epoch 50 | loss: 0.2807  | train_mse: 0.16848 | train_mae: 0.31612 |  0:00:03s\n",
      "epoch 51 | loss: 0.17339 | train_mse: 0.2131  | train_mae: 0.34958 |  0:00:03s\n",
      "epoch 52 | loss: 0.27673 | train_mse: 0.31744 | train_mae: 0.41352 |  0:00:04s\n"
     ]
    },
    {
     "name": "stdout",
     "output_type": "stream",
     "text": [
      "epoch 53 | loss: 0.24483 | train_mse: 0.27911 | train_mae: 0.36344 |  0:00:04s\n",
      "epoch 54 | loss: 0.24082 | train_mse: 0.17867 | train_mae: 0.32039 |  0:00:04s\n",
      "epoch 55 | loss: 0.23489 | train_mse: 0.18396 | train_mae: 0.33078 |  0:00:04s\n"
     ]
    },
    {
     "name": "stdout",
     "output_type": "stream",
     "text": [
      "epoch 56 | loss: 0.26198 | train_mse: 0.19843 | train_mae: 0.33279 |  0:00:04s\n",
      "epoch 57 | loss: 0.25015 | train_mse: 0.26348 | train_mae: 0.37196 |  0:00:04s\n",
      "epoch 58 | loss: 0.2186  | train_mse: 0.21659 | train_mae: 0.35261 |  0:00:04s\n"
     ]
    },
    {
     "name": "stdout",
     "output_type": "stream",
     "text": [
      "epoch 59 | loss: 0.26623 | train_mse: 0.17889 | train_mae: 0.33609 |  0:00:04s\n",
      "epoch 60 | loss: 0.30513 | train_mse: 0.16044 | train_mae: 0.31634 |  0:00:04s\n",
      "epoch 61 | loss: 0.23369 | train_mse: 0.16013 | train_mae: 0.31365 |  0:00:04s\n"
     ]
    },
    {
     "name": "stdout",
     "output_type": "stream",
     "text": [
      "epoch 62 | loss: 0.18235 | train_mse: 0.16863 | train_mae: 0.31925 |  0:00:04s\n",
      "epoch 63 | loss: 0.21505 | train_mse: 0.20005 | train_mae: 0.33728 |  0:00:04s\n",
      "epoch 64 | loss: 0.15884 | train_mse: 0.19246 | train_mae: 0.32819 |  0:00:05s\n"
     ]
    },
    {
     "name": "stdout",
     "output_type": "stream",
     "text": [
      "epoch 65 | loss: 0.15784 | train_mse: 0.22364 | train_mae: 0.35406 |  0:00:05s\n",
      "epoch 66 | loss: 0.21029 | train_mse: 0.28028 | train_mae: 0.37654 |  0:00:05s\n",
      "epoch 67 | loss: 0.18388 | train_mse: 0.27146 | train_mae: 0.36439 |  0:00:05s\n"
     ]
    },
    {
     "name": "stdout",
     "output_type": "stream",
     "text": [
      "epoch 68 | loss: 0.27975 | train_mse: 0.20782 | train_mae: 0.33699 |  0:00:05s\n",
      "epoch 69 | loss: 0.16905 | train_mse: 0.17179 | train_mae: 0.3225  |  0:00:05s\n",
      "epoch 70 | loss: 0.1903  | train_mse: 0.18222 | train_mae: 0.33139 |  0:00:05s\n"
     ]
    },
    {
     "name": "stdout",
     "output_type": "stream",
     "text": [
      "epoch 71 | loss: 0.23873 | train_mse: 0.16079 | train_mae: 0.31665 |  0:00:05s\n",
      "epoch 72 | loss: 0.24071 | train_mse: 0.17265 | train_mae: 0.32807 |  0:00:05s\n",
      "epoch 73 | loss: 0.217   | train_mse: 0.16193 | train_mae: 0.31497 |  0:00:05s\n",
      "epoch 74 | loss: 0.24089 | train_mse: 0.1547  | train_mae: 0.31698 |  0:00:05s\n"
     ]
    },
    {
     "name": "stdout",
     "output_type": "stream",
     "text": [
      "epoch 75 | loss: 0.21274 | train_mse: 0.15031 | train_mae: 0.31446 |  0:00:05s\n",
      "epoch 76 | loss: 0.2926  | train_mse: 0.14022 | train_mae: 0.29976 |  0:00:06s\n",
      "epoch 77 | loss: 0.19678 | train_mse: 0.13395 | train_mae: 0.29312 |  0:00:06s\n",
      "epoch 78 | loss: 0.1577  | train_mse: 0.14522 | train_mae: 0.29913 |  0:00:06s\n"
     ]
    },
    {
     "name": "stdout",
     "output_type": "stream",
     "text": [
      "epoch 79 | loss: 0.26545 | train_mse: 0.14727 | train_mae: 0.2941  |  0:00:06s\n",
      "epoch 80 | loss: 0.18748 | train_mse: 0.16587 | train_mae: 0.29912 |  0:00:06s\n",
      "epoch 81 | loss: 0.15631 | train_mse: 0.17067 | train_mae: 0.30369 |  0:00:06s\n",
      "epoch 82 | loss: 0.13876 | train_mse: 0.18397 | train_mae: 0.30985 |  0:00:06s\n"
     ]
    },
    {
     "name": "stdout",
     "output_type": "stream",
     "text": [
      "epoch 83 | loss: 0.18244 | train_mse: 0.18625 | train_mae: 0.32416 |  0:00:06s\n",
      "epoch 84 | loss: 0.26829 | train_mse: 0.17309 | train_mae: 0.31888 |  0:00:06s\n",
      "epoch 85 | loss: 0.18903 | train_mse: 0.15171 | train_mae: 0.29975 |  0:00:06s\n",
      "epoch 86 | loss: 0.25981 | train_mse: 0.16382 | train_mae: 0.30817 |  0:00:06s\n"
     ]
    },
    {
     "name": "stdout",
     "output_type": "stream",
     "text": [
      "epoch 87 | loss: 0.16493 | train_mse: 0.16459 | train_mae: 0.30742 |  0:00:06s\n",
      "epoch 88 | loss: 0.25696 | train_mse: 0.14887 | train_mae: 0.3012  |  0:00:06s\n",
      "epoch 89 | loss: 0.24598 | train_mse: 0.15668 | train_mae: 0.29151 |  0:00:06s\n",
      "epoch 90 | loss: 0.18237 | train_mse: 0.16602 | train_mae: 0.29339 |  0:00:06s\n"
     ]
    },
    {
     "name": "stdout",
     "output_type": "stream",
     "text": [
      "epoch 91 | loss: 0.19884 | train_mse: 0.14779 | train_mae: 0.28107 |  0:00:07s\n",
      "epoch 92 | loss: 0.21344 | train_mse: 0.14882 | train_mae: 0.28386 |  0:00:07s\n",
      "epoch 93 | loss: 0.22118 | train_mse: 0.15646 | train_mae: 0.29516 |  0:00:07s\n",
      "epoch 94 | loss: 0.27285 | train_mse: 0.19474 | train_mae: 0.32666 |  0:00:07s\n"
     ]
    },
    {
     "name": "stdout",
     "output_type": "stream",
     "text": [
      "epoch 95 | loss: 0.15532 | train_mse: 0.18793 | train_mae: 0.3205  |  0:00:07s\n",
      "epoch 96 | loss: 0.1614  | train_mse: 0.19134 | train_mae: 0.31686 |  0:00:07s\n",
      "epoch 97 | loss: 0.17962 | train_mse: 0.16678 | train_mae: 0.29445 |  0:00:07s\n",
      "epoch 98 | loss: 0.22558 | train_mse: 0.16972 | train_mae: 0.29311 |  0:00:07s\n"
     ]
    },
    {
     "name": "stdout",
     "output_type": "stream",
     "text": [
      "epoch 99 | loss: 0.18752 | train_mse: 0.20272 | train_mae: 0.30378 |  0:00:07s\n",
      "epoch 100| loss: 0.2184  | train_mse: 0.20331 | train_mae: 0.30055 |  0:00:07s\n",
      "epoch 101| loss: 0.20543 | train_mse: 0.24833 | train_mae: 0.325   |  0:00:07s\n",
      "epoch 102| loss: 0.17716 | train_mse: 0.21892 | train_mae: 0.32251 |  0:00:07s\n"
     ]
    },
    {
     "name": "stdout",
     "output_type": "stream",
     "text": [
      "epoch 103| loss: 0.14798 | train_mse: 0.16331 | train_mae: 0.30345 |  0:00:07s\n",
      "epoch 104| loss: 0.53246 | train_mse: 0.18115 | train_mae: 0.32314 |  0:00:07s\n",
      "epoch 105| loss: 0.24157 | train_mse: 0.17174 | train_mae: 0.32011 |  0:00:07s\n",
      "epoch 106| loss: 0.23638 | train_mse: 0.21853 | train_mae: 0.35867 |  0:00:08s\n"
     ]
    },
    {
     "name": "stdout",
     "output_type": "stream",
     "text": [
      "epoch 107| loss: 0.21278 | train_mse: 0.24627 | train_mae: 0.3737  |  0:00:08s\n",
      "epoch 108| loss: 0.22649 | train_mse: 0.16259 | train_mae: 0.3145  |  0:00:08s\n",
      "epoch 109| loss: 0.21514 | train_mse: 0.12444 | train_mae: 0.27505 |  0:00:08s\n",
      "epoch 110| loss: 0.19346 | train_mse: 0.11575 | train_mae: 0.26421 |  0:00:08s\n"
     ]
    },
    {
     "name": "stdout",
     "output_type": "stream",
     "text": [
      "epoch 111| loss: 0.16179 | train_mse: 0.11703 | train_mae: 0.26452 |  0:00:08s\n",
      "epoch 112| loss: 0.24179 | train_mse: 0.12987 | train_mae: 0.27354 |  0:00:08s\n",
      "epoch 113| loss: 0.18882 | train_mse: 0.13152 | train_mae: 0.281   |  0:00:08s\n",
      "epoch 114| loss: 0.23868 | train_mse: 0.11606 | train_mae: 0.26922 |  0:00:08s\n"
     ]
    },
    {
     "name": "stdout",
     "output_type": "stream",
     "text": [
      "epoch 115| loss: 0.24544 | train_mse: 0.14688 | train_mae: 0.30186 |  0:00:08s\n",
      "epoch 116| loss: 0.20739 | train_mse: 0.1215  | train_mae: 0.27741 |  0:00:08s\n",
      "epoch 117| loss: 0.25411 | train_mse: 0.11412 | train_mae: 0.27325 |  0:00:08s\n",
      "epoch 118| loss: 0.21129 | train_mse: 0.14532 | train_mae: 0.29595 |  0:00:08s\n"
     ]
    },
    {
     "name": "stdout",
     "output_type": "stream",
     "text": [
      "epoch 119| loss: 0.19153 | train_mse: 0.19327 | train_mae: 0.32138 |  0:00:08s\n",
      "epoch 120| loss: 0.17528 | train_mse: 0.18364 | train_mae: 0.31464 |  0:00:08s\n",
      "epoch 121| loss: 0.17989 | train_mse: 0.15472 | train_mae: 0.29495 |  0:00:09s\n"
     ]
    },
    {
     "name": "stdout",
     "output_type": "stream",
     "text": [
      "epoch 122| loss: 0.22106 | train_mse: 0.15117 | train_mae: 0.28361 |  0:00:09s\n",
      "epoch 123| loss: 0.13374 | train_mse: 0.16604 | train_mae: 0.28845 |  0:00:09s\n",
      "epoch 124| loss: 0.16989 | train_mse: 0.13908 | train_mae: 0.27843 |  0:00:09s\n",
      "epoch 125| loss: 0.32964 | train_mse: 0.14507 | train_mae: 0.28571 |  0:00:09s\n"
     ]
    },
    {
     "name": "stdout",
     "output_type": "stream",
     "text": [
      "epoch 126| loss: 0.19384 | train_mse: 0.14029 | train_mae: 0.27861 |  0:00:09s\n",
      "epoch 127| loss: 0.16717 | train_mse: 0.133   | train_mae: 0.26452 |  0:00:09s\n",
      "epoch 128| loss: 0.1481  | train_mse: 0.11258 | train_mae: 0.25199 |  0:00:09s\n",
      "epoch 129| loss: 0.12401 | train_mse: 0.10578 | train_mae: 0.25185 |  0:00:09s\n"
     ]
    },
    {
     "name": "stdout",
     "output_type": "stream",
     "text": [
      "epoch 130| loss: 0.1593  | train_mse: 0.11085 | train_mae: 0.25038 |  0:00:09s\n",
      "epoch 131| loss: 0.19927 | train_mse: 0.1079  | train_mae: 0.25218 |  0:00:09s\n",
      "epoch 132| loss: 0.1347  | train_mse: 0.10475 | train_mae: 0.2531  |  0:00:09s\n",
      "epoch 133| loss: 0.1298  | train_mse: 0.10082 | train_mae: 0.25134 |  0:00:09s\n"
     ]
    },
    {
     "name": "stdout",
     "output_type": "stream",
     "text": [
      "epoch 134| loss: 0.20508 | train_mse: 0.1079  | train_mae: 0.2548  |  0:00:09s\n",
      "epoch 135| loss: 0.2185  | train_mse: 0.12866 | train_mae: 0.27713 |  0:00:09s\n",
      "epoch 136| loss: 0.21638 | train_mse: 0.14009 | train_mae: 0.2861  |  0:00:10s\n"
     ]
    },
    {
     "name": "stdout",
     "output_type": "stream",
     "text": [
      "epoch 137| loss: 0.11603 | train_mse: 0.15625 | train_mae: 0.29242 |  0:00:10s\n",
      "epoch 138| loss: 0.23587 | train_mse: 0.15832 | train_mae: 0.29127 |  0:00:10s\n",
      "epoch 139| loss: 0.2064  | train_mse: 0.13167 | train_mae: 0.26458 |  0:00:10s\n",
      "epoch 140| loss: 0.16706 | train_mse: 0.11248 | train_mae: 0.25312 |  0:00:10s\n"
     ]
    },
    {
     "name": "stdout",
     "output_type": "stream",
     "text": [
      "epoch 141| loss: 0.19304 | train_mse: 0.09447 | train_mae: 0.22994 |  0:00:10s\n",
      "epoch 142| loss: 0.17461 | train_mse: 0.09615 | train_mae: 0.23535 |  0:00:10s\n",
      "epoch 143| loss: 0.23389 | train_mse: 0.09826 | train_mae: 0.24286 |  0:00:10s\n",
      "epoch 144| loss: 0.13735 | train_mse: 0.10504 | train_mae: 0.25886 |  0:00:10s\n"
     ]
    },
    {
     "name": "stdout",
     "output_type": "stream",
     "text": [
      "epoch 145| loss: 0.1386  | train_mse: 0.12201 | train_mae: 0.27886 |  0:00:10s\n",
      "epoch 146| loss: 0.16967 | train_mse: 0.12807 | train_mae: 0.28218 |  0:00:10s\n",
      "epoch 147| loss: 0.17202 | train_mse: 0.12027 | train_mae: 0.27084 |  0:00:10s\n",
      "epoch 148| loss: 0.25021 | train_mse: 0.11738 | train_mae: 0.263   |  0:00:10s\n"
     ]
    },
    {
     "name": "stdout",
     "output_type": "stream",
     "text": [
      "epoch 149| loss: 0.19299 | train_mse: 0.11618 | train_mae: 0.25391 |  0:00:10s\n",
      "epoch 150| loss: 0.14204 | train_mse: 0.1168  | train_mae: 0.24869 |  0:00:10s\n",
      "epoch 151| loss: 0.17671 | train_mse: 0.13178 | train_mae: 0.27079 |  0:00:11s\n",
      "epoch 152| loss: 0.19064 | train_mse: 0.15116 | train_mae: 0.28793 |  0:00:11s\n"
     ]
    },
    {
     "name": "stdout",
     "output_type": "stream",
     "text": [
      "epoch 153| loss: 0.16039 | train_mse: 0.12336 | train_mae: 0.26239 |  0:00:11s\n",
      "epoch 154| loss: 0.11854 | train_mse: 0.11493 | train_mae: 0.24295 |  0:00:11s\n",
      "epoch 155| loss: 0.19947 | train_mse: 0.11724 | train_mae: 0.2509  |  0:00:11s\n",
      "epoch 156| loss: 0.15213 | train_mse: 0.11203 | train_mae: 0.25888 |  0:00:11s\n"
     ]
    },
    {
     "name": "stdout",
     "output_type": "stream",
     "text": [
      "epoch 157| loss: 0.17176 | train_mse: 0.11829 | train_mae: 0.2636  |  0:00:11s\n",
      "epoch 158| loss: 0.24328 | train_mse: 0.11509 | train_mae: 0.25665 |  0:00:11s\n",
      "epoch 159| loss: 0.13903 | train_mse: 0.12726 | train_mae: 0.27475 |  0:00:11s\n"
     ]
    },
    {
     "name": "stdout",
     "output_type": "stream",
     "text": [
      "epoch 160| loss: 0.19647 | train_mse: 0.12891 | train_mae: 0.27644 |  0:00:11s\n",
      "epoch 161| loss: 0.2322  | train_mse: 0.10977 | train_mae: 0.25327 |  0:00:11s\n",
      "epoch 162| loss: 0.20192 | train_mse: 0.11712 | train_mae: 0.25787 |  0:00:11s\n",
      "epoch 163| loss: 0.15043 | train_mse: 0.11589 | train_mae: 0.25739 |  0:00:11s\n"
     ]
    },
    {
     "name": "stdout",
     "output_type": "stream",
     "text": [
      "epoch 164| loss: 0.20055 | train_mse: 0.11382 | train_mae: 0.26517 |  0:00:11s\n",
      "epoch 165| loss: 0.18297 | train_mse: 0.10828 | train_mae: 0.26095 |  0:00:11s\n",
      "epoch 166| loss: 0.22389 | train_mse: 0.1125  | train_mae: 0.25299 |  0:00:12s\n"
     ]
    },
    {
     "name": "stdout",
     "output_type": "stream",
     "text": [
      "epoch 167| loss: 0.19906 | train_mse: 0.11834 | train_mae: 0.2669  |  0:00:12s\n",
      "epoch 168| loss: 0.13725 | train_mse: 0.12679 | train_mae: 0.27626 |  0:00:12s\n",
      "epoch 169| loss: 0.21531 | train_mse: 0.14693 | train_mae: 0.29383 |  0:00:12s\n",
      "epoch 170| loss: 0.18075 | train_mse: 0.14459 | train_mae: 0.29281 |  0:00:12s\n",
      "epoch 171| loss: 0.21345 | train_mse: 0.12023 | train_mae: 0.26941 |  0:00:12s\n"
     ]
    },
    {
     "name": "stdout",
     "output_type": "stream",
     "text": [
      "epoch 172| loss: 0.19302 | train_mse: 0.11243 | train_mae: 0.24908 |  0:00:12s\n",
      "epoch 173| loss: 0.20456 | train_mse: 0.11068 | train_mae: 0.25066 |  0:00:12s\n",
      "epoch 174| loss: 0.20131 | train_mse: 0.16837 | train_mae: 0.29933 |  0:00:12s\n"
     ]
    },
    {
     "name": "stdout",
     "output_type": "stream",
     "text": [
      "epoch 175| loss: 0.19135 | train_mse: 0.22386 | train_mae: 0.31419 |  0:00:12s\n",
      "epoch 176| loss: 0.1629  | train_mse: 0.20968 | train_mae: 0.30008 |  0:00:12s\n",
      "epoch 177| loss: 0.13454 | train_mse: 0.1665  | train_mae: 0.28745 |  0:00:12s\n",
      "epoch 178| loss: 0.1971  | train_mse: 0.21319 | train_mae: 0.32259 |  0:00:12s\n"
     ]
    },
    {
     "name": "stdout",
     "output_type": "stream",
     "text": [
      "epoch 179| loss: 0.18404 | train_mse: 0.34753 | train_mae: 0.37024 |  0:00:12s\n",
      "epoch 180| loss: 0.32651 | train_mse: 0.38465 | train_mae: 0.38666 |  0:00:12s\n",
      "epoch 181| loss: 0.2123  | train_mse: 0.38666 | train_mae: 0.39094 |  0:00:13s\n",
      "epoch 182| loss: 0.21454 | train_mse: 0.4256  | train_mae: 0.40143 |  0:00:13s\n"
     ]
    },
    {
     "name": "stdout",
     "output_type": "stream",
     "text": [
      "epoch 183| loss: 0.36712 | train_mse: 0.45388 | train_mae: 0.41383 |  0:00:13s\n",
      "epoch 184| loss: 0.39381 | train_mse: 0.3825  | train_mae: 0.37262 |  0:00:13s\n",
      "epoch 185| loss: 0.16905 | train_mse: 0.37069 | train_mae: 0.36128 |  0:00:13s\n",
      "epoch 186| loss: 0.22329 | train_mse: 0.36969 | train_mae: 0.35362 |  0:00:13s\n"
     ]
    },
    {
     "name": "stdout",
     "output_type": "stream",
     "text": [
      "epoch 187| loss: 0.25444 | train_mse: 0.36355 | train_mae: 0.35299 |  0:00:13s\n",
      "epoch 188| loss: 0.16606 | train_mse: 0.34855 | train_mae: 0.3527  |  0:00:13s\n",
      "epoch 189| loss: 0.16343 | train_mse: 0.34165 | train_mae: 0.35861 |  0:00:13s\n",
      "epoch 190| loss: 0.26471 | train_mse: 0.26448 | train_mae: 0.32398 |  0:00:13s\n"
     ]
    },
    {
     "name": "stdout",
     "output_type": "stream",
     "text": [
      "epoch 191| loss: 0.21522 | train_mse: 0.2322  | train_mae: 0.32691 |  0:00:13s\n",
      "\n",
      "Early stopping occurred at epoch 191 with best_epoch = 141 and best_train_mae = 0.22994\n",
      "Best weights from best epoch are automatically used!\n"
     ]
    }
   ],
   "source": [
    "#Train the Model\n",
    "\n",
    "Y_train = np.reshape(Y_train, (-1, 1))\n",
    "Y_test = np.reshape(Y_test, (-1, 1))\n",
    "\n",
    "prior_model = TabNetRegressor(optimizer_fn=torch.optim.Adam, optimizer_params=dict(lr = 0.02),\n",
    "          #scheduler_params={\"step_size\":10, ], \"gamma\":0.9},\n",
    "          #scheduler_fn=torch.optim.lr_scheduler.StepLR\n",
    "          )  #TabNetRegressor()\n",
    "\n",
    "prior_model.fit(X_train,Y_train,eval_set=[(X_train, Y_train)],\n",
    "            eval_name=['train'], \n",
    "            eval_metric=[ 'mse', 'mae'], \n",
    "            max_epochs = n_epochs, \n",
    "            batch_size = batch_size,\n",
    "            patience=50\n",
    "            )"
   ]
  },
  {
   "cell_type": "code",
   "execution_count": 10,
   "id": "af65dcda",
   "metadata": {
    "execution": {
     "iopub.execute_input": "2022-06-22T15:11:50.015890Z",
     "iopub.status.busy": "2022-06-22T15:11:50.015015Z",
     "iopub.status.idle": "2022-06-22T15:11:50.044436Z",
     "shell.execute_reply": "2022-06-22T15:11:50.044957Z"
    },
    "id": "af65dcda",
    "papermill": {
     "duration": 0.070393,
     "end_time": "2022-06-22T15:11:50.045210",
     "exception": false,
     "start_time": "2022-06-22T15:11:49.974817",
     "status": "completed"
    },
    "tags": []
   },
   "outputs": [
    {
     "data": {
      "application/scrapbook.scrap.json+json": {
       "data": 0.2858705808272319,
       "encoder": "json",
       "name": "Prior Model MSE",
       "version": 1
      }
     },
     "metadata": {
      "scrapbook": {
       "data": true,
       "display": false,
       "name": "Prior Model MSE"
      }
     },
     "output_type": "display_data"
    },
    {
     "data": {
      "application/scrapbook.scrap.json+json": {
       "data": 0.28816058365755387,
       "encoder": "json",
       "name": "ABC Pre-generator MSE",
       "version": 1
      }
     },
     "metadata": {
      "scrapbook": {
       "data": true,
       "display": false,
       "name": "ABC Pre-generator MSE"
      }
     },
     "output_type": "display_data"
    },
    {
     "data": {
      "application/scrapbook.scrap.json+json": {
       "data": 0.4222091089767064,
       "encoder": "json",
       "name": "Prior Model MSE",
       "version": 1
      }
     },
     "metadata": {
      "scrapbook": {
       "data": true,
       "display": false,
       "name": "Prior Model MSE"
      }
     },
     "output_type": "display_data"
    },
    {
     "data": {
      "application/scrapbook.scrap.json+json": {
       "data": 0.4235038292989916,
       "encoder": "json",
       "name": "ABC Pre-generator MSE",
       "version": 1
      }
     },
     "metadata": {
      "scrapbook": {
       "data": true,
       "display": false,
       "name": "ABC Pre-generator MSE"
      }
     },
     "output_type": "display_data"
    }
   ],
   "source": [
    "y_pred = prior_model.predict(X_test)\n",
    "y_abc = y_pred + np.random.normal(0,variance, y_pred.shape) + bias \n",
    "mse = mean_squared_error(y_pred,Y_test)\n",
    "sb.glue(\"Prior Model MSE\",mse)\n",
    "mse = mean_squared_error(y_abc,Y_test)\n",
    "sb.glue(\"ABC Pre-generator MSE\",mse)\n",
    "mae = mean_absolute_error(y_pred,Y_test)\n",
    "sb.glue(\"Prior Model MSE\",mae)\n",
    "mae = mean_absolute_error(y_abc,Y_test)\n",
    "sb.glue(\"ABC Pre-generator MSE\",mae)"
   ]
  },
  {
   "cell_type": "markdown",
   "id": "25609da2",
   "metadata": {
    "papermill": {
     "duration": 0.050501,
     "end_time": "2022-06-22T15:11:50.126795",
     "exception": false,
     "start_time": "2022-06-22T15:11:50.076294",
     "status": "completed"
    },
    "tags": []
   },
   "source": [
    "# ABC GAN Model"
   ]
  },
  {
   "cell_type": "code",
   "execution_count": 11,
   "id": "dfc3464d",
   "metadata": {
    "execution": {
     "iopub.execute_input": "2022-06-22T15:11:50.190467Z",
     "iopub.status.busy": "2022-06-22T15:11:50.189570Z",
     "iopub.status.idle": "2022-06-22T15:11:50.192133Z",
     "shell.execute_reply": "2022-06-22T15:11:50.192654Z"
    },
    "papermill": {
     "duration": 0.036655,
     "end_time": "2022-06-22T15:11:50.192868",
     "exception": false,
     "start_time": "2022-06-22T15:11:50.156213",
     "status": "completed"
    },
    "tags": []
   },
   "outputs": [],
   "source": [
    "gen = network.Generator(n_features+1).to(device)\n",
    "disc = network.Discriminator(n_features+1).to(device)\n",
    "\n",
    "criterion = torch.nn.BCELoss()\n",
    "gen_opt = torch.optim.Adam(gen.parameters(), lr=0.001, betas=(0.5, 0.999))\n",
    "disc_opt = torch.optim.Adam(disc.parameters(), lr=0.001, betas=(0.5, 0.999))"
   ]
  },
  {
   "cell_type": "code",
   "execution_count": 12,
   "id": "b75fdd85",
   "metadata": {
    "execution": {
     "iopub.execute_input": "2022-06-22T15:11:50.263359Z",
     "iopub.status.busy": "2022-06-22T15:11:50.262573Z",
     "iopub.status.idle": "2022-06-22T15:12:33.538908Z",
     "shell.execute_reply": "2022-06-22T15:12:33.540096Z"
    },
    "papermill": {
     "duration": 43.316808,
     "end_time": "2022-06-22T15:12:33.540404",
     "exception": false,
     "start_time": "2022-06-22T15:11:50.223596",
     "status": "completed"
    },
    "tags": []
   },
   "outputs": [
    {
     "data": {
      "image/png": "[encoded data removed]",
      "text/plain": [
       "<Figure size 432x288 with 1 Axes>"
      ]
     },
     "metadata": {
      "needs_background": "light"
     },
     "output_type": "display_data"
    },
    {
     "data": {
      "image/png": "[encoded data removed]",
      "text/plain": [
       "<Figure size 432x288 with 1 Axes>"
      ]
     },
     "metadata": {
      "needs_background": "light"
     },
     "output_type": "display_data"
    }
   ],
   "source": [
    "#Training the ABC_GAN \n",
    "ABC_train_test2.training_GAN(disc,gen,disc_opt,gen_opt,train_data,batch_size,n_epochs,criterion,prior_model,variance,bias,device)"
   ]
  },
  {
   "cell_type": "code",
   "execution_count": 13,
   "id": "1fa7c368",
   "metadata": {
    "execution": {
     "iopub.execute_input": "2022-06-22T15:12:33.618196Z",
     "iopub.status.busy": "2022-06-22T15:12:33.617463Z",
     "iopub.status.idle": "2022-06-22T15:12:34.226654Z",
     "shell.execute_reply": "2022-06-22T15:12:34.227292Z"
    },
    "papermill": {
     "duration": 0.653525,
     "end_time": "2022-06-22T15:12:34.227529",
     "exception": false,
     "start_time": "2022-06-22T15:12:33.574004",
     "status": "completed"
    },
    "tags": []
   },
   "outputs": [
    {
     "data": {
      "application/scrapbook.scrap.json+json": {
       "data": 0.24171476330908748,
       "encoder": "json",
       "name": "ABC-GAN Model 1 MSE",
       "version": 1
      }
     },
     "metadata": {
      "scrapbook": {
       "data": true,
       "display": false,
       "name": "ABC-GAN Model 1 MSE"
      }
     },
     "output_type": "display_data"
    },
    {
     "data": {
      "application/scrapbook.scrap.json+json": {
       "data": 0.37110583602683617,
       "encoder": "json",
       "name": "ABC-GAN Model 1 MAE",
       "version": 1
      }
     },
     "metadata": {
      "scrapbook": {
       "data": true,
       "display": false,
       "name": "ABC-GAN Model 1 MAE"
      }
     },
     "output_type": "display_data"
    },
    {
     "data": {
      "application/scrapbook.scrap.json+json": {
       "data": 7.4221167205367236,
       "encoder": "json",
       "name": "ABC-GAN Model 1 Manhattan Distance",
       "version": 1
      }
     },
     "metadata": {
      "scrapbook": {
       "data": true,
       "display": false,
       "name": "ABC-GAN Model 1 Manhattan Distance"
      }
     },
     "output_type": "display_data"
    },
    {
     "data": {
      "application/scrapbook.scrap.json+json": {
       "data": 2.1986893193090933,
       "encoder": "json",
       "name": "ABC-GAN Model 1 Euclidean distance",
       "version": 1
      }
     },
     "metadata": {
      "scrapbook": {
       "data": true,
       "display": false,
       "name": "ABC-GAN Model 1 Euclidean distance"
      }
     },
     "output_type": "display_data"
    },
    {
     "data": {
      "application/scrapbook.scrap.json+json": {
       "data": [
        [
         0.24267089189019622,
         0.2430114181888245,
         0.24240584111769778,
         0.2444196161309117,
         0.24116672120708404,
         0.2419201536296824,
         0.24064330388450164,
         0.24170915737867266,
         0.2405995499045384,
         0.24152533740167953,
         0.24171477996593982,
         0.24128645046195724,
         0.23762783782550106,
         0.23920197051682898,
         0.24087418325620663,
         0.2436261844301288,
         0.2427310456196205,
         0.24074143216101945,
         0.24075373677314693,
         0.24087791912303183,
         0.2421631581858386,
         0.24233209567587144,
         0.2421967646201343,
         0.24392719511741875,
         0.24268409998829116,
         0.24073822290509522,
         0.2423450374717619,
         0.24281367360822936,
         0.24010447481213273,
         0.241649105243345,
         0.23961580907128877,
         0.24480719356502928,
         0.23878641512006543,
         0.2423372089779098,
         0.24155938201352453,
         0.24204058332019027,
         0.24097179763887738,
         0.24338376798831574,
         0.2438344717286398,
         0.24234952443764554,
         0.24232839679854226,
         0.24226384474774182,
         0.243087106593426,
         0.2390109127587631,
         0.24444587439536672,
         0.24279096624374885,
         0.24028123253215128,
         0.23959648346562096,
         0.24235027957956018,
         0.24119135747964604,
         0.2422987308457985,
         0.2448335815714945,
         0.2420551623948473,
         0.24641561329697015,
         0.23933172904064529,
         0.2402935672273975,
         0.23949267142114739,
         0.24104224916989447,
         0.2405749306569116,
         0.24018705209929384,
         0.2424955751031225,
         0.24048707881071624,
         0.240177163287278,
         0.24124424019449903,
         0.24478877322645368,
         0.24440065766414323,
         0.23875131867379534,
         0.24414954447042492,
         0.24235192067999578,
         0.24306371056467208,
         0.24223334434510257,
         0.24063003458326832,
         0.24120651895335415,
         0.23941464126608764,
         0.24396121653328057,
         0.2430670972695564,
         0.24003462296058836,
         0.23768987003187791,
         0.2408932110351289,
         0.24169638346157693,
         0.2397490955837473,
         0.24134755905085398,
         0.24270115045641777,
         0.24063793289661045,
         0.23849973490341064,
         0.24208526326863672,
         0.24272726253396565,
         0.2403957084402057,
         0.24523781632998376,
         0.24190808201761654,
         0.2406400226595835,
         0.2412690040098103,
         0.24067815567263268,
         0.24217552817706944,
         0.2448850633737004,
         0.24268004155209613,
         0.240262707911128,
         0.24083090154395914,
         0.24111155060106504,
         0.24489757213558958
        ],
        [
         0.3716715436428785,
         0.3740065984427929,
         0.3731414889451116,
         0.37467406783252954,
         0.3710223514586687,
         0.37222166620194913,
         0.3691836066544056,
         0.37176166363060476,
         0.3688354853540659,
         0.3699725367128849,
         0.3726317938417196,
         0.3713647749274969,
         0.36536858715116977,
         0.3699538644403219,
         0.36968263499438764,
         0.3744640875607729,
         0.37176639810204504,
         0.3699057623744011,
         0.36993947960436346,
         0.36972429789602757,
         0.371021144092083,
         0.37233312875032426,
         0.37056571277789774,
         0.37416568845510484,
         0.3721538923215121,
         0.3705511290580034,
         0.37050992511212827,
         0.3720980603247881,
         0.3696583189070225,
         0.3715840006247163,
         0.36883061192929745,
         0.37342994939535856,
         0.36734386086463927,
         0.3728907652199268,
         0.37056375220417975,
         0.37334240693598986,
         0.370766681805253,
         0.3733775209635496,
         0.3723470948636532,
         0.3703971993178129,
         0.3725694477558136,
         0.37046167999505997,
         0.37324353605508803,
         0.369598601013422,
         0.3734044056385756,
         0.3719996139407158,
         0.3708944175392389,
         0.36960141859017315,
         0.37066977974027393,
         0.37161853197030725,
         0.3720453895628452,
         0.37540489844977853,
         0.3735830887686461,
         0.3749804846942425,
         0.36708002649247645,
         0.36826961673796177,
         0.3686612695455551,
         0.3710718136280775,
         0.3685463901609182,
         0.3678042570129037,
         0.3699887376278639,
         0.37087968960404394,
         0.37200627513229845,
         0.3683724422007799,
         0.37431050911545755,
         0.3741246026009321,
         0.36847667712718246,
         0.37503420263528825,
         0.3704988293349743,
         0.3716399183496833,
         0.3714960392564535,
         0.37102136872708796,
         0.3701894361525774,
         0.3689240250736475,
         0.37279030326753854,
         0.3723752651363611,
         0.36934316009283064,
         0.36584095247089865,
         0.36852830909192563,
         0.372178777679801,
         0.36880822852253914,
         0.3715144120156765,
         0.3717701296787709,
         0.3696058850735426,
         0.367429137788713,
         0.3706697002053261,
         0.3726121295243502,
         0.36803964003920553,
         0.3763483051210642,
         0.37034153677523135,
         0.3710889596492052,
         0.3712507415562868,
         0.3698354749009013,
         0.3704634889960289,
         0.37389323115348816,
         0.3718264982104301,
         0.36949748508632185,
         0.3702404569834471,
         0.37089343667030333,
         0.37570300307124854
        ],
        [
         7.433430872857571,
         7.480131968855858,
         7.462829778902233,
         7.493481356650591,
         7.420447029173374,
         7.444433324038982,
         7.383672133088112,
         7.435233272612095,
         7.376709707081318,
         7.399450734257698,
         7.4526358768343925,
         7.427295498549938,
         7.3073717430233955,
         7.3990772888064384,
         7.3936526998877525,
         7.489281751215458,
         7.435327962040901,
         7.398115247488022,
         7.398789592087269,
         7.394485957920551,
         7.4204228818416595,
         7.446662575006485,
         7.411314255557954,
         7.483313769102097,
         7.443077846430242,
         7.4110225811600685,
         7.410198502242565,
         7.441961206495762,
         7.3931663781404495,
         7.431680012494326,
         7.376612238585949,
         7.468598987907171,
         7.346877217292786,
         7.457815304398537,
         7.411275044083595,
         7.466848138719797,
         7.415333636105061,
         7.467550419270992,
         7.446941897273064,
         7.407943986356258,
         7.451388955116272,
         7.409233599901199,
         7.464870721101761,
         7.39197202026844,
         7.468088112771511,
         7.439992278814316,
         7.417888350784779,
         7.3920283718034625,
         7.413395594805479,
         7.432370639406145,
         7.440907791256905,
         7.508097968995571,
         7.471661775372922,
         7.4996096938848495,
         7.341600529849529,
         7.365392334759235,
         7.373225390911102,
         7.42143627256155,
         7.370927803218365,
         7.356085140258074,
         7.399774752557278,
         7.417593792080879,
         7.440125502645969,
         7.367448844015598,
         7.486210182309151,
         7.482492052018642,
         7.36953354254365,
         7.500684052705765,
         7.409976586699486,
         7.432798366993666,
         7.42992078512907,
         7.4204273745417595,
         7.403788723051548,
         7.37848050147295,
         7.455806065350771,
         7.447505302727222,
         7.386863201856613,
         7.316819049417973,
         7.370566181838512,
         7.44357555359602,
         7.376164570450783,
         7.43028824031353,
         7.435402593575418,
         7.392117701470852,
         7.34858275577426,
         7.413394004106522,
         7.452242590487003,
         7.360792800784111,
         7.526966102421284,
         7.406830735504627,
         7.421779192984104,
         7.425014831125736,
         7.396709498018026,
         7.409269779920578,
         7.477864623069763,
         7.436529964208603,
         7.389949701726437,
         7.4048091396689415,
         7.417868733406067,
         7.514060061424971
        ],
        [
         2.2030473979930445,
         2.2045925618527544,
         2.201843959583411,
         2.2109709004458273,
         2.1962091030094744,
         2.1996370320108833,
         2.1938245321105407,
         2.198677590637939,
         2.1936250814783205,
         2.197841383729406,
         2.1987031630756335,
         2.1967541986392436,
         2.180035953031514,
         2.187244707465669,
         2.194876685630456,
         2.2073793712460428,
         2.203320428896444,
         2.194271779707425,
         2.194327855053328,
         2.194893706415105,
         2.200741503156782,
         2.2015090082753304,
         2.2008942029099643,
         2.208742606631288,
         2.2031073509399905,
         2.194257154050524,
         2.2015677935133495,
         2.2036954127475483,
         2.1913670382303954,
         2.198404445243618,
         2.1891359440258102,
         2.212723179998028,
         2.1853439780504367,
         2.2015322345035506,
         2.1979962784933216,
         2.2001844619040027,
         2.1953213780167924,
         2.2062808886826524,
         2.208322765035219,
         2.2015881741944634,
         2.2014922066568494,
         2.201198967598076,
         2.2049358566335937,
         2.186371024134573,
         2.211089660757187,
         2.203592368128683,
         2.192173499211006,
         2.189047662640633,
         2.201591604178941,
         2.1963212764968882,
         2.201357448692958,
         2.2128424325807496,
         2.2002507238714744,
         2.219980239988501,
         2.187837878091726,
         2.192229765455243,
         2.1885733774363034,
         2.195642271272324,
         2.193512847725819,
         2.191743835849864,
         2.2022514620411653,
         2.1931123036028786,
         2.1916987169192668,
         2.1965620418941008,
         2.2126399310617786,
         2.2108851515361136,
         2.185183372963447,
         2.209749055754634,
         2.2015990583210003,
         2.204829746554922,
         2.201060400557434,
         2.193764046488447,
         2.1963903066320163,
         2.1882168140569966,
         2.2088966319557852,
         2.204845106893255,
         2.1910482557925937,
         2.180320481176462,
         2.1949633757087104,
         2.198619491688259,
         2.189744713813678,
         2.197032357753768,
         2.2031847423964144,
         2.193800049670026,
         2.1840317529899176,
         2.200387526180953,
         2.203303258899989,
         2.1926956398014097,
         2.2146684462012987,
         2.1995821513079092,
         2.19380957541708,
         2.196674777976068,
         2.1939833895115646,
         2.2007977107270422,
         2.2130750704560405,
         2.203088929444729,
         2.1920889941383677,
         2.194679482493784,
         2.1959578802930855,
         2.2131315918200145
        ]
       ],
       "encoder": "json",
       "name": "ABC_GAN_1 Metrics",
       "version": 1
      }
     },
     "metadata": {
      "scrapbook": {
       "data": true,
       "display": false,
       "name": "ABC_GAN_1 Metrics"
      }
     },
     "output_type": "display_data"
    },
    {
     "name": "stdout",
     "output_type": "stream",
     "text": [
      "MSE\n",
      "0.24171476330908748\n"
     ]
    }
   ],
   "source": [
    "ABC_GAN1_metrics=ABC_train_test2.test_generator(gen,test_data,prior_model,variance,bias,\"1\",device)\n",
    "sb.glue(\"ABC_GAN_1 Metrics\",ABC_GAN1_metrics)\n",
    "\n",
    "print(\"MSE\")\n",
    "print(mean(ABC_GAN1_metrics[0]))"
   ]
  },
  {
   "cell_type": "code",
   "execution_count": 14,
   "id": "eb22ce5c",
   "metadata": {
    "execution": {
     "iopub.execute_input": "2022-06-22T15:12:34.315686Z",
     "iopub.status.busy": "2022-06-22T15:12:34.314849Z",
     "iopub.status.idle": "2022-06-22T15:12:35.039760Z",
     "shell.execute_reply": "2022-06-22T15:12:35.040211Z"
    },
    "papermill": {
     "duration": 0.776256,
     "end_time": "2022-06-22T15:12:35.040414",
     "exception": false,
     "start_time": "2022-06-22T15:12:34.264158",
     "status": "completed"
    },
    "tags": []
   },
   "outputs": [
    {
     "data": {
      "image/png": "[encoded data removed]",
      "text/plain": [
       "<Figure size 432x288 with 1 Axes>"
      ]
     },
     "metadata": {
      "needs_background": "light"
     },
     "output_type": "display_data"
    },
    {
     "data": {
      "image/png": "[encoded data removed]",
      "text/plain": [
       "<Figure size 432x288 with 1 Axes>"
      ]
     },
     "metadata": {
      "needs_background": "light"
     },
     "output_type": "display_data"
    },
    {
     "data": {
      "image/png": "[encoded data removed]",
      "text/plain": [
       "<Figure size 432x288 with 1 Axes>"
      ]
     },
     "metadata": {
      "needs_background": "light"
     },
     "output_type": "display_data"
    },
    {
     "data": {
      "image/png": "[encoded data removed]",
      "text/plain": [
       "<Figure size 432x288 with 1 Axes>"
      ]
     },
     "metadata": {
      "needs_background": "light"
     },
     "output_type": "display_data"
    }
   ],
   "source": [
    "sanityChecks.discProbVsError(train_data,disc,device)\n",
    "sanityChecks.discProbVsError(test_data,disc,device)"
   ]
  },
  {
   "cell_type": "markdown",
   "id": "130f3a4d",
   "metadata": {
    "id": "130f3a4d",
    "papermill": {
     "duration": 0.03862,
     "end_time": "2022-06-22T15:12:35.117092",
     "exception": false,
     "start_time": "2022-06-22T15:12:35.078472",
     "status": "completed"
    },
    "tags": []
   },
   "source": [
    "# ABC - GAN Model with skip connection"
   ]
  },
  {
   "cell_type": "code",
   "execution_count": 15,
   "id": "4e43dad1",
   "metadata": {
    "execution": {
     "iopub.execute_input": "2022-06-22T15:12:35.208495Z",
     "iopub.status.busy": "2022-06-22T15:12:35.207690Z",
     "iopub.status.idle": "2022-06-22T15:12:35.210343Z",
     "shell.execute_reply": "2022-06-22T15:12:35.210913Z"
    },
    "id": "4e43dad1",
    "papermill": {
     "duration": 0.057411,
     "end_time": "2022-06-22T15:12:35.211150",
     "exception": false,
     "start_time": "2022-06-22T15:12:35.153739",
     "status": "completed"
    },
    "tags": []
   },
   "outputs": [],
   "source": [
    "#Generator\n",
    "gen3 = network.GeneratorWithSkipConnection(n_features+1).to(device)\n",
    "constraints=network.weightConstraint()\n",
    "#Discriminator \n",
    "disc3 = network.Discriminator(n_features+1).to(device)\n",
    "\n",
    "criterion = torch.nn.BCELoss()\n",
    "gen_opt = torch.optim.Adam(gen3.parameters(), lr=0.001, betas=(0.5, 0.999))\n",
    "disc_opt = torch.optim.Adam(disc3.parameters(), lr=0.001, betas=(0.5, 0.999))\n"
   ]
  },
  {
   "cell_type": "code",
   "execution_count": 16,
   "id": "26acbc37",
   "metadata": {
    "execution": {
     "iopub.execute_input": "2022-06-22T15:12:35.296349Z",
     "iopub.status.busy": "2022-06-22T15:12:35.295529Z",
     "iopub.status.idle": "2022-06-22T15:13:39.914197Z",
     "shell.execute_reply": "2022-06-22T15:13:39.914677Z"
    },
    "id": "26acbc37",
    "papermill": {
     "duration": 64.663381,
     "end_time": "2022-06-22T15:13:39.914891",
     "exception": false,
     "start_time": "2022-06-22T15:12:35.251510",
     "status": "completed"
    },
    "tags": []
   },
   "outputs": [
    {
     "data": {
      "image/png": "[encoded data removed]",
      "text/plain": [
       "<Figure size 432x288 with 1 Axes>"
      ]
     },
     "metadata": {
      "needs_background": "light"
     },
     "output_type": "display_data"
    },
    {
     "data": {
      "image/png": "[encoded data removed]",
      "text/plain": [
       "<Figure size 432x288 with 1 Axes>"
      ]
     },
     "metadata": {
      "needs_background": "light"
     },
     "output_type": "display_data"
    }
   ],
   "source": [
    "ABC_train_test2.training_GAN_skip_connection(disc3,gen3,disc_opt,gen_opt,train_data,batch_size,n_epochs,criterion,prior_model,variance,bias,device)"
   ]
  },
  {
   "cell_type": "code",
   "execution_count": 17,
   "id": "c5e0717b",
   "metadata": {
    "execution": {
     "iopub.execute_input": "2022-06-22T15:13:40.010680Z",
     "iopub.status.busy": "2022-06-22T15:13:40.009991Z",
     "iopub.status.idle": "2022-06-22T15:13:40.751914Z",
     "shell.execute_reply": "2022-06-22T15:13:40.752577Z"
    },
    "id": "c5e0717b",
    "papermill": {
     "duration": 0.795882,
     "end_time": "2022-06-22T15:13:40.752786",
     "exception": false,
     "start_time": "2022-06-22T15:13:39.956904",
     "status": "completed"
    },
    "tags": []
   },
   "outputs": [
    {
     "data": {
      "application/scrapbook.scrap.json+json": {
       "data": 0.2863716985537538,
       "encoder": "json",
       "name": "ABC-GAN Model 3 MSE",
       "version": 1
      }
     },
     "metadata": {
      "scrapbook": {
       "data": true,
       "display": false,
       "name": "ABC-GAN Model 3 MSE"
      }
     },
     "output_type": "display_data"
    },
    {
     "data": {
      "application/scrapbook.scrap.json+json": {
       "data": 0.42248446952254565,
       "encoder": "json",
       "name": "ABC-GAN Model 3 MAE",
       "version": 1
      }
     },
     "metadata": {
      "scrapbook": {
       "data": true,
       "display": false,
       "name": "ABC-GAN Model 3 MAE"
      }
     },
     "output_type": "display_data"
    },
    {
     "data": {
      "application/scrapbook.scrap.json+json": {
       "data": 8.449689390450912,
       "encoder": "json",
       "name": "ABC-GAN Model 3 Manhattan Distance",
       "version": 1
      }
     },
     "metadata": {
      "scrapbook": {
       "data": true,
       "display": false,
       "name": "ABC-GAN Model 3 Manhattan Distance"
      }
     },
     "output_type": "display_data"
    },
    {
     "data": {
      "application/scrapbook.scrap.json+json": {
       "data": 2.3931852880009528,
       "encoder": "json",
       "name": "ABC-GAN Model 3 Euclidean distance",
       "version": 1
      }
     },
     "metadata": {
      "scrapbook": {
       "data": true,
       "display": false,
       "name": "ABC-GAN Model 3 Euclidean distance"
      }
     },
     "output_type": "display_data"
    },
    {
     "data": {
      "application/scrapbook.scrap.json+json": {
       "data": [
        [
         0.2835967842893076,
         0.28325120949810956,
         0.2826325133533741,
         0.28326898231519915,
         0.28696045422975197,
         0.2858640547080509,
         0.2852959034762551,
         0.2894140843082272,
         0.28948034351740703,
         0.28914148761882014,
         0.2874781292513528,
         0.287313749595303,
         0.28686464471645373,
         0.2879181204575361,
         0.28766853454633023,
         0.28748914361552314,
         0.29266575535717887,
         0.28680278987063385,
         0.28432253750658887,
         0.2779515243954779,
         0.2838085232681019,
         0.2851468783157232,
         0.28659306439442356,
         0.2855593875720129,
         0.2868633791035883,
         0.28508489777523294,
         0.2859524324592033,
         0.28753479672812643,
         0.2893729602396173,
         0.2831336202023594,
         0.2892911433901765,
         0.28964500685352695,
         0.28788396291815926,
         0.28646604055953223,
         0.28722073752258637,
         0.2879106513089529,
         0.2867228567827995,
         0.2866826563458404,
         0.2890127485707989,
         0.2830590209499436,
         0.2897416686486328,
         0.2861077016465985,
         0.28461715761665096,
         0.2892305853464471,
         0.2904406305760203,
         0.28677823301332506,
         0.28524208928233863,
         0.28641226172777917,
         0.28456477903007915,
         0.284643872603683,
         0.28558037447686824,
         0.2893531326788755,
         0.2840107679581923,
         0.2866312443181259,
         0.2903025620654831,
         0.28441295509943104,
         0.28754342361985785,
         0.2875625625230189,
         0.2870089541501194,
         0.28524910799979314,
         0.2836021112987678,
         0.2887242331974452,
         0.2853014553853789,
         0.28490749776678614,
         0.283903507156257,
         0.2896816276998143,
         0.28779025037345884,
         0.282312917173533,
         0.28492915769592064,
         0.28581015085384337,
         0.2904630330421351,
         0.28633958718223457,
         0.28580185670011937,
         0.2849775325422141,
         0.2874835672355877,
         0.28481800997281914,
         0.29176172821734364,
         0.28360193598625505,
         0.2849654002075711,
         0.2880971902628306,
         0.28447763639021095,
         0.2880889417879072,
         0.2864512295739398,
         0.28329885303432834,
         0.2800979664379569,
         0.28731355084383486,
         0.2864552043890124,
         0.28738580386449036,
         0.2857918810135941,
         0.28903027022853683,
         0.2841953828163959,
         0.283581638648177,
         0.2884668384710493,
         0.28715061534760133,
         0.2853105432025853,
         0.2856262488626914,
         0.2869912533690811,
         0.2868332428029007,
         0.2841676283132506,
         0.2874227997586086
        ],
        [
         0.42007301008361536,
         0.4204236509744078,
         0.42099485332146286,
         0.42108512404374776,
         0.4230733970180154,
         0.42303470172919333,
         0.4205630556680262,
         0.42554364847019316,
         0.42355432083131744,
         0.42622788465814665,
         0.4220308247487992,
         0.42285111524979585,
         0.4225856098346412,
         0.42246750433878333,
         0.4247780965641141,
         0.42249329558108,
         0.4246757132379571,
         0.42265031090937555,
         0.4213918522465974,
         0.41555393564049153,
         0.4217619858914986,
         0.4218536111759022,
         0.42245205524377527,
         0.4232924774289131,
         0.42320234030485154,
         0.4213382805115543,
         0.4235100595280528,
         0.42212719706876667,
         0.4272047313163057,
         0.41997371199540795,
         0.4239977614022791,
         0.42600877622608097,
         0.4246576108271256,
         0.4224648869596422,
         0.4227068381384015,
         0.4235169534571469,
         0.42344236293574794,
         0.42320518211927266,
         0.4228570776293054,
         0.4187513202195987,
         0.4241014660336077,
         0.42321220118319614,
         0.41847743312828245,
         0.4235749481245875,
         0.42392415762878954,
         0.4235502163879573,
         0.42172021041624247,
         0.4219951479695737,
         0.41968300126027314,
         0.4212961989920586,
         0.4224310508696362,
         0.42487763020180863,
         0.42273411033675073,
         0.41982868704071735,
         0.42531232550973075,
         0.42054092006292193,
         0.42234844164922836,
         0.42338578340713867,
         0.424459326826036,
         0.42199182582553474,
         0.4197902882937342,
         0.42432634038850664,
         0.4197054678108543,
         0.42117202477529647,
         0.4219206330366433,
         0.4265610877308063,
         0.4243700955528766,
         0.4186303870199481,
         0.42086988997180014,
         0.42255405499599874,
         0.427614094177261,
         0.42229003813117744,
         0.4202068264130503,
         0.42321102363057433,
         0.42260891683399676,
         0.4208092761808075,
         0.42547894241288303,
         0.4191015313961543,
         0.4208453012397513,
         0.42446827604435383,
         0.42071652262238785,
         0.4226885882948409,
         0.42113698355387896,
         0.41944726794026793,
         0.41976995307486503,
         0.42167874277511147,
         0.42405812127981335,
         0.4244671031134203,
         0.422477008565329,
         0.42581582376733423,
         0.42215028199134397,
         0.42194580209907145,
         0.4240885996259749,
         0.42354568841401485,
         0.4220765834324993,
         0.4197944021492731,
         0.4237230802420527,
         0.422654070565477,
         0.42160418469575234,
         0.4242514396319166
        ],
        [
         8.401460201672307,
         8.408473019488156,
         8.419897066429257,
         8.421702480874956,
         8.461467940360308,
         8.460694034583867,
         8.411261113360524,
         8.510872969403863,
         8.471086416626349,
         8.524557693162933,
         8.440616494975984,
         8.457022304995917,
         8.451712196692824,
         8.449350086775667,
         8.495561931282282,
         8.4498659116216,
         8.493514264759142,
         8.453006218187511,
         8.427837044931948,
         8.311078712809831,
         8.435239717829973,
         8.437072223518044,
         8.449041104875505,
         8.465849548578262,
         8.46404680609703,
         8.426765610231087,
         8.470201190561056,
         8.442543941375334,
         8.544094626326114,
         8.399474239908159,
         8.479955228045583,
         8.520175524521619,
         8.493152216542512,
         8.449297739192843,
         8.45413676276803,
         8.470339069142938,
         8.468847258714959,
         8.464103642385453,
         8.457141552586108,
         8.375026404391974,
         8.482029320672154,
         8.464244023663923,
         8.369548662565649,
         8.47149896249175,
         8.47848315257579,
         8.471004327759147,
         8.43440420832485,
         8.439902959391475,
         8.393660025205463,
         8.425923979841173,
         8.448621017392725,
         8.497552604036173,
         8.454682206735015,
         8.396573740814347,
         8.506246510194615,
         8.410818401258439,
         8.446968832984567,
         8.467715668142773,
         8.48918653652072,
         8.439836516510695,
         8.395805765874684,
         8.486526807770133,
         8.394109356217086,
         8.423440495505929,
         8.438412660732865,
         8.531221754616126,
         8.487401911057532,
         8.372607740398962,
         8.417397799436003,
         8.451081099919975,
         8.55228188354522,
         8.445800762623549,
         8.404136528261006,
         8.464220472611487,
         8.452178336679935,
         8.41618552361615,
         8.50957884825766,
         8.382030627923086,
         8.416906024795026,
         8.489365520887077,
         8.414330452447757,
         8.453771765896818,
         8.42273967107758,
         8.388945358805358,
         8.3953990614973,
         8.43357485550223,
         8.481162425596267,
         8.489342062268406,
         8.44954017130658,
         8.516316475346684,
         8.443005639826879,
         8.438916041981429,
         8.481771992519498,
         8.470913768280298,
         8.441531668649986,
         8.395888042985462,
         8.474461604841053,
         8.45308141130954,
         8.432083693915047,
         8.485028792638332
        ],
        [
         2.3815826010840255,
         2.380131128732657,
         2.3775302873081303,
         2.3802057991493055,
         2.395664643599984,
         2.3910836652365424,
         2.388706358999595,
         2.405884803178353,
         2.406160192162637,
         2.4047514949317326,
         2.3978245525949258,
         2.3971389179407314,
         2.3952646814765743,
         2.3996588109876624,
         2.39861849632796,
         2.397870486975988,
         2.4193625414855826,
         2.3950064295138493,
         2.384628010850283,
         2.357759633191975,
         2.3824715035781723,
         2.3880824035854507,
         2.394130591235255,
         2.3898091454005814,
         2.3952593976585845,
         2.3878228484342507,
         2.3914532504701125,
         2.3980608696533388,
         2.4057138659434014,
         2.3796370319960958,
         2.405373748049049,
         2.4068444355775345,
         2.399516463449081,
         2.393599968915158,
         2.396750873672883,
         2.3996276849084435,
         2.394672657307464,
         2.3945047769667966,
         2.4042160825133787,
         2.3793235212973607,
         2.4072460142188743,
         2.392102429439837,
         2.385863188100487,
         2.405121973399466,
         2.4101478401791883,
         2.3949038937432334,
         2.3884810624425667,
         2.3933752807605377,
         2.385643640739661,
         2.3859751574720263,
         2.389896962117272,
         2.4056314459155024,
         2.383320238483248,
         2.3942900589449305,
         2.4095749088396614,
         2.3850071492531466,
         2.398096843832033,
         2.3981766512207514,
         2.3958670837511806,
         2.3885104479561865,
         2.381604968498209,
         2.4030157435915616,
         2.388729601212238,
         2.3870797965999637,
         2.382870148187924,
         2.4069965837109715,
         2.3991258840396803,
         2.3761856710852083,
         2.3871705330617696,
         2.39085821768604,
         2.4102407889758033,
         2.393071612728021,
         2.3908235263194118,
         2.387373169582896,
         2.3978472313122356,
         2.3867048831928055,
         2.4156230178458875,
         2.3816042323873003,
         2.387322350281047,
         2.4004049252691955,
         2.385278333403509,
         2.400370562175379,
         2.393538090668038,
         2.3803312922126127,
         2.3668458607943057,
         2.397138088821063,
         2.3935546970521164,
         2.397439483551109,
         2.3907818010583655,
         2.4042889602896604,
         2.3840947246969693,
         2.381519005375254,
         2.401944372674144,
         2.396458283999959,
         2.388767645471553,
         2.3900889057216737,
         2.3957932021319417,
         2.395133577915439,
         2.383978306584398,
         2.3975937927789546
        ]
       ],
       "encoder": "json",
       "name": "ABC_GAN_3 Metrics",
       "version": 1
      }
     },
     "metadata": {
      "scrapbook": {
       "data": true,
       "display": false,
       "name": "ABC_GAN_3 Metrics"
      }
     },
     "output_type": "display_data"
    },
    {
     "name": "stdout",
     "output_type": "stream",
     "text": [
      "MSE\n",
      "0.2863716985537538\n"
     ]
    }
   ],
   "source": [
    "ABC_GAN3_metrics=ABC_train_test2.test_generator(gen3,test_data,prior_model,variance,bias,\"3\",device)\n",
    "sb.glue(\"ABC_GAN_3 Metrics\",ABC_GAN3_metrics)\n",
    "\n",
    "print(\"MSE\")\n",
    "print(mean(ABC_GAN3_metrics[0]))"
   ]
  },
  {
   "cell_type": "code",
   "execution_count": 18,
   "id": "c8e46b48",
   "metadata": {
    "execution": {
     "iopub.execute_input": "2022-06-22T15:13:40.846936Z",
     "iopub.status.busy": "2022-06-22T15:13:40.846141Z",
     "iopub.status.idle": "2022-06-22T15:13:41.597082Z",
     "shell.execute_reply": "2022-06-22T15:13:41.597555Z"
    },
    "id": "c8e46b48",
    "papermill": {
     "duration": 0.802251,
     "end_time": "2022-06-22T15:13:41.597762",
     "exception": false,
     "start_time": "2022-06-22T15:13:40.795511",
     "status": "completed"
    },
    "tags": []
   },
   "outputs": [
    {
     "data": {
      "image/png": "[encoded data removed]",
      "text/plain": [
       "<Figure size 432x288 with 1 Axes>"
      ]
     },
     "metadata": {
      "needs_background": "light"
     },
     "output_type": "display_data"
    },
    {
     "data": {
      "image/png": "[encoded data removed]",
      "text/plain": [
       "<Figure size 432x288 with 1 Axes>"
      ]
     },
     "metadata": {
      "needs_background": "light"
     },
     "output_type": "display_data"
    },
    {
     "data": {
      "image/png": "[encoded data removed]",
      "text/plain": [
       "<Figure size 432x288 with 1 Axes>"
      ]
     },
     "metadata": {
      "needs_background": "light"
     },
     "output_type": "display_data"
    },
    {
     "data": {
      "image/png": "[encoded data removed]",
      "text/plain": [
       "<Figure size 432x288 with 1 Axes>"
      ]
     },
     "metadata": {
      "needs_background": "light"
     },
     "output_type": "display_data"
    }
   ],
   "source": [
    "sanityChecks.discProbVsError(train_data,disc3,device)\n",
    "sanityChecks.discProbVsError(test_data,disc3,device)"
   ]
  },
  {
   "cell_type": "markdown",
   "id": "a5bd74c3",
   "metadata": {
    "id": "a5bd74c3",
    "papermill": {
     "duration": 0.078652,
     "end_time": "2022-06-22T15:13:41.728530",
     "exception": false,
     "start_time": "2022-06-22T15:13:41.649878",
     "status": "completed"
    },
    "tags": []
   },
   "source": [
    "## Skip Connection Model Analysis - ABC-GAN "
   ]
  },
  {
   "cell_type": "markdown",
   "id": "5744a8bf",
   "metadata": {
    "id": "5744a8bf",
    "papermill": {
     "duration": 0.055915,
     "end_time": "2022-06-22T15:13:41.838497",
     "exception": false,
     "start_time": "2022-06-22T15:13:41.782582",
     "status": "completed"
    },
    "tags": []
   },
   "source": [
    "### Weight Analysis \n",
    "\n",
    "Study the weights of the skip connection layer\n",
    "\n",
    "Equation of the skip connection is \n",
    "\n",
    "$output = y_{gan} * w + y_{abc} * (1-w)$"
   ]
  },
  {
   "cell_type": "code",
   "execution_count": 19,
   "id": "52c31dea",
   "metadata": {
    "execution": {
     "iopub.execute_input": "2022-06-22T15:13:41.958394Z",
     "iopub.status.busy": "2022-06-22T15:13:41.956930Z",
     "iopub.status.idle": "2022-06-22T15:13:41.965398Z",
     "shell.execute_reply": "2022-06-22T15:13:41.965917Z"
    },
    "id": "52c31dea",
    "papermill": {
     "duration": 0.074187,
     "end_time": "2022-06-22T15:13:41.966139",
     "exception": false,
     "start_time": "2022-06-22T15:13:41.891952",
     "status": "completed"
    },
    "tags": []
   },
   "outputs": [
    {
     "name": "stdout",
     "output_type": "stream",
     "text": [
      "Weight of the node at skip connection\n",
      "Parameter containing:\n",
      "tensor([[0.]], requires_grad=True)\n"
     ]
    },
    {
     "data": {
      "application/scrapbook.scrap.json+json": {
       "data": 0.0,
       "encoder": "json",
       "name": "Skip Connection Weight",
       "version": 1
      }
     },
     "metadata": {
      "scrapbook": {
       "data": true,
       "display": false,
       "name": "Skip Connection Weight"
      }
     },
     "output_type": "display_data"
    }
   ],
   "source": [
    "print(\"Weight of the node at skip connection\")\n",
    "for name,param in gen3.named_parameters():\n",
    "    if(name == \"skipNode.weight\"):\n",
    "        print(param)\n",
    "        sb.glue(\"Skip Connection Weight\",param.item())"
   ]
  }
 ],
 "metadata": {
  "colab": {
   "collapsed_sections": [],
   "name": "ABC_GAN_Model-Catboost_Pre-gen.ipynb",
   "provenance": []
  },
  "interpreter": {
   "hash": "31f2aee4e71d21fbe5cf8b01ff0e069b9275f58929596ceb00d14d90e3e16cd6"
  },
  "kernelspec": {
   "display_name": "Python 3 (ipykernel)",
   "language": "python",
   "name": "python3"
  },
  "language_info": {
   "codemirror_mode": {
    "name": "ipython",
    "version": 3
   },
   "file_extension": ".py",
   "mimetype": "text/x-python",
   "name": "python",
   "nbconvert_exporter": "python",
   "pygments_lexer": "ipython3",
   "version": "3.8.3"
  },
  "papermill": {
   "default_parameters": {},
   "duration": 135.081052,
   "end_time": "2022-06-22T15:13:42.811094",
   "environment_variables": {},
   "exception": null,
   "input_path": "ABC_GAN-TabNet.ipynb",
   "output_path": "./ABC_GAN_TabNet/ABC-GAN_output_7_11.ipynb",
   "parameters": {
    "bias": 0,
    "variance": 0.01
   },
   "start_time": "2022-06-22T15:11:27.730042",
   "version": "2.3.3"
  }
 },
 "nbformat": 4,
 "nbformat_minor": 5
}