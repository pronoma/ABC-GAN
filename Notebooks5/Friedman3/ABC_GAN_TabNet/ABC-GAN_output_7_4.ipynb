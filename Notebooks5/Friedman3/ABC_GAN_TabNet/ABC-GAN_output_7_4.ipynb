{
 "cells": [
  {
   "cell_type": "markdown",
   "id": "622780e6",
   "metadata": {
    "id": "622780e6",
    "papermill": {
     "duration": 0.026222,
     "end_time": "2022-06-22T14:55:51.063758",
     "exception": false,
     "start_time": "2022-06-22T14:55:51.037536",
     "status": "completed"
    },
    "tags": []
   },
   "source": [
    "## Import Libraries "
   ]
  },
  {
   "cell_type": "code",
   "execution_count": 1,
   "id": "a62397e3",
   "metadata": {
    "execution": {
     "iopub.execute_input": "2022-06-22T14:55:51.113774Z",
     "iopub.status.busy": "2022-06-22T14:55:51.112463Z",
     "iopub.status.idle": "2022-06-22T14:55:51.116934Z",
     "shell.execute_reply": "2022-06-22T14:55:51.118358Z"
    },
    "id": "a62397e3",
    "papermill": {
     "duration": 0.028294,
     "end_time": "2022-06-22T14:55:51.118872",
     "exception": false,
     "start_time": "2022-06-22T14:55:51.090578",
     "status": "completed"
    },
    "tags": []
   },
   "outputs": [],
   "source": [
    "import warnings\n",
    "import sys\n",
    "sys.path.insert(0, '../../src')\n",
    "warnings.filterwarnings('ignore')"
   ]
  },
  {
   "cell_type": "code",
   "execution_count": 2,
   "id": "d6a4e155",
   "metadata": {
    "execution": {
     "iopub.execute_input": "2022-06-22T14:55:51.161555Z",
     "iopub.status.busy": "2022-06-22T14:55:51.160540Z",
     "iopub.status.idle": "2022-06-22T14:55:57.010153Z",
     "shell.execute_reply": "2022-06-22T14:55:57.010921Z"
    },
    "id": "d6a4e155",
    "papermill": {
     "duration": 5.872989,
     "end_time": "2022-06-22T14:55:57.011149",
     "exception": false,
     "start_time": "2022-06-22T14:55:51.138160",
     "status": "completed"
    },
    "tags": []
   },
   "outputs": [],
   "source": [
    "import ABC_train_test2\n",
    "import friedman3Dataset\n",
    "import network\n",
    "import dataset\n",
    "import sanityChecks\n",
    "import torch \n",
    "import scrapbook as sb\n",
    "from statistics import mean \n",
    "import catboost as ctb \n",
    "from sklearn.model_selection import train_test_split\n",
    "from sklearn.metrics import mean_squared_error,mean_absolute_error\n",
    "import numpy as np\n",
    "from pytorch_tabnet.tab_model import TabNetRegressor"
   ]
  },
  {
   "cell_type": "markdown",
   "id": "2fa5b0f7",
   "metadata": {
    "id": "2fa5b0f7",
    "papermill": {
     "duration": 0.026275,
     "end_time": "2022-06-22T14:55:57.055316",
     "exception": false,
     "start_time": "2022-06-22T14:55:57.029041",
     "status": "completed"
    },
    "tags": []
   },
   "source": [
    "## Parameters "
   ]
  },
  {
   "cell_type": "code",
   "execution_count": 3,
   "id": "783186fb",
   "metadata": {
    "execution": {
     "iopub.execute_input": "2022-06-22T14:55:57.107249Z",
     "iopub.status.busy": "2022-06-22T14:55:57.105510Z",
     "iopub.status.idle": "2022-06-22T14:55:57.108385Z",
     "shell.execute_reply": "2022-06-22T14:55:57.108839Z"
    },
    "id": "783186fb",
    "papermill": {
     "duration": 0.022837,
     "end_time": "2022-06-22T14:55:57.109040",
     "exception": false,
     "start_time": "2022-06-22T14:55:57.086203",
     "status": "completed"
    },
    "tags": [
     "parameters"
    ]
   },
   "outputs": [],
   "source": [
    "variance = 1\n",
    "bias = 1 "
   ]
  },
  {
   "cell_type": "code",
   "execution_count": 4,
   "id": "c1ee836f",
   "metadata": {
    "execution": {
     "iopub.execute_input": "2022-06-22T14:55:57.142608Z",
     "iopub.status.busy": "2022-06-22T14:55:57.139228Z",
     "iopub.status.idle": "2022-06-22T14:55:57.143980Z",
     "shell.execute_reply": "2022-06-22T14:55:57.144485Z"
    },
    "papermill": {
     "duration": 0.022863,
     "end_time": "2022-06-22T14:55:57.144697",
     "exception": false,
     "start_time": "2022-06-22T14:55:57.121834",
     "status": "completed"
    },
    "tags": [
     "injected-parameters"
    ]
   },
   "outputs": [],
   "source": [
    "# Parameters\n",
    "variance = 0.1\n",
    "bias = 0.1\n"
   ]
  },
  {
   "cell_type": "markdown",
   "id": "391cdbfd",
   "metadata": {
    "id": "391cdbfd",
    "papermill": {
     "duration": 0.037615,
     "end_time": "2022-06-22T14:55:57.198027",
     "exception": false,
     "start_time": "2022-06-22T14:55:57.160412",
     "status": "completed"
    },
    "tags": []
   },
   "source": [
    "## Dataset \n"
   ]
  },
  {
   "cell_type": "code",
   "execution_count": 5,
   "id": "5b51f161",
   "metadata": {
    "execution": {
     "iopub.execute_input": "2022-06-22T14:55:57.237822Z",
     "iopub.status.busy": "2022-06-22T14:55:57.236588Z",
     "iopub.status.idle": "2022-06-22T14:55:57.238984Z",
     "shell.execute_reply": "2022-06-22T14:55:57.238453Z"
    },
    "id": "5b51f161",
    "papermill": {
     "duration": 0.026128,
     "end_time": "2022-06-22T14:55:57.239172",
     "exception": false,
     "start_time": "2022-06-22T14:55:57.213044",
     "status": "completed"
    },
    "tags": []
   },
   "outputs": [],
   "source": [
    "#Parameters \n",
    "n_features = 4\n",
    "n_samples= 100\n",
    "n_target = 1"
   ]
  },
  {
   "cell_type": "code",
   "execution_count": 6,
   "id": "5d6eced4",
   "metadata": {
    "execution": {
     "iopub.execute_input": "2022-06-22T14:55:57.286490Z",
     "iopub.status.busy": "2022-06-22T14:55:57.280922Z",
     "iopub.status.idle": "2022-06-22T14:55:57.295859Z",
     "shell.execute_reply": "2022-06-22T14:55:57.296440Z"
    },
    "id": "5d6eced4",
    "papermill": {
     "duration": 0.042753,
     "end_time": "2022-06-22T14:55:57.296658",
     "exception": false,
     "start_time": "2022-06-22T14:55:57.253905",
     "status": "completed"
    },
    "tags": []
   },
   "outputs": [
    {
     "name": "stdout",
     "output_type": "stream",
     "text": [
      "          X1           X2        X3        X4         Y\n",
      "0  94.002638  1722.816185  0.591522  6.019375  1.547383\n",
      "1  99.292532  1747.991261  0.824019  3.445648  1.555446\n",
      "2  98.058624  1647.543574  0.019416  5.529475  0.137699\n",
      "3  44.178304   894.980606  0.416800  8.687931  1.100746\n",
      "4  99.849084   715.294881  0.977956  1.145677  1.399637\n"
     ]
    }
   ],
   "source": [
    "X,Y = friedman3Dataset.friedman3_data(n_samples)"
   ]
  },
  {
   "cell_type": "code",
   "execution_count": 7,
   "id": "fe007438",
   "metadata": {
    "execution": {
     "iopub.execute_input": "2022-06-22T14:55:57.357301Z",
     "iopub.status.busy": "2022-06-22T14:55:57.355476Z",
     "iopub.status.idle": "2022-06-22T14:55:57.358940Z",
     "shell.execute_reply": "2022-06-22T14:55:57.359536Z"
    },
    "id": "fe007438",
    "papermill": {
     "duration": 0.048138,
     "end_time": "2022-06-22T14:55:57.359759",
     "exception": false,
     "start_time": "2022-06-22T14:55:57.311621",
     "status": "completed"
    },
    "tags": []
   },
   "outputs": [],
   "source": [
    "#Train test split for dataset \n",
    "X_train,X_test,Y_train,Y_test = train_test_split(X,Y,test_size = 0.2)\n",
    "train_data = dataset.CustomDataset(X_train,Y_train)\n",
    "test_data = dataset.CustomDataset(X_test,Y_test)\n"
   ]
  },
  {
   "cell_type": "markdown",
   "id": "a9a1af34",
   "metadata": {
    "id": "a9a1af34",
    "papermill": {
     "duration": 0.015576,
     "end_time": "2022-06-22T14:55:57.390632",
     "exception": false,
     "start_time": "2022-06-22T14:55:57.375056",
     "status": "completed"
    },
    "tags": []
   },
   "source": [
    "## Training Parameters "
   ]
  },
  {
   "cell_type": "code",
   "execution_count": 8,
   "id": "952b7fc8",
   "metadata": {
    "execution": {
     "iopub.execute_input": "2022-06-22T14:55:57.436066Z",
     "iopub.status.busy": "2022-06-22T14:55:57.433848Z",
     "iopub.status.idle": "2022-06-22T14:55:57.437283Z",
     "shell.execute_reply": "2022-06-22T14:55:57.437780Z"
    },
    "id": "952b7fc8",
    "papermill": {
     "duration": 0.029672,
     "end_time": "2022-06-22T14:55:57.437993",
     "exception": false,
     "start_time": "2022-06-22T14:55:57.408321",
     "status": "completed"
    },
    "tags": []
   },
   "outputs": [],
   "source": [
    "batch_size = 32\n",
    "n_epochs = 1000\n",
    "#Select the device \n",
    "device = torch.device('cuda' if torch.cuda.is_available() else 'cpu')"
   ]
  },
  {
   "cell_type": "markdown",
   "id": "a95e1600",
   "metadata": {
    "id": "a95e1600",
    "papermill": {
     "duration": 0.027106,
     "end_time": "2022-06-22T14:55:57.483917",
     "exception": false,
     "start_time": "2022-06-22T14:55:57.456811",
     "status": "completed"
    },
    "tags": []
   },
   "source": [
    "# ABC Pre-generator Model \n",
    "\n",
    "1. The catboost model is used as a pre-generator model for the ABC-GAN. \n",
    "2. The model is first trained on the entire dataset \n",
    "3. It generats X,Y pairs and we add some Gaussian noise with mean 0 and variance 1 to it which is then feed as input to the generator.\n"
   ]
  },
  {
   "cell_type": "code",
   "execution_count": 9,
   "id": "ff8ce7bd",
   "metadata": {
    "execution": {
     "iopub.execute_input": "2022-06-22T14:55:57.523838Z",
     "iopub.status.busy": "2022-06-22T14:55:57.522480Z",
     "iopub.status.idle": "2022-06-22T14:56:13.945575Z",
     "shell.execute_reply": "2022-06-22T14:56:13.946304Z"
    },
    "id": "ff8ce7bd",
    "papermill": {
     "duration": 16.446635,
     "end_time": "2022-06-22T14:56:13.946517",
     "exception": false,
     "start_time": "2022-06-22T14:55:57.499882",
     "status": "completed"
    },
    "tags": []
   },
   "outputs": [
    {
     "name": "stdout",
     "output_type": "stream",
     "text": [
      "Device used : cpu\n"
     ]
    },
    {
     "name": "stdout",
     "output_type": "stream",
     "text": [
      "epoch 0  | loss: 1.20249 | train_mse: 4.68941 | train_mae: 1.68585 |  0:00:00s\n",
      "epoch 1  | loss: 0.80615 | train_mse: 4.78405 | train_mae: 1.58279 |  0:00:00s\n",
      "epoch 2  | loss: 1.01741 | train_mse: 3.34905 | train_mae: 1.36922 |  0:00:00s\n"
     ]
    },
    {
     "name": "stdout",
     "output_type": "stream",
     "text": [
      "epoch 3  | loss: 0.79115 | train_mse: 2.78727 | train_mae: 1.31177 |  0:00:00s\n"
     ]
    },
    {
     "name": "stdout",
     "output_type": "stream",
     "text": [
      "epoch 4  | loss: 0.62073 | train_mse: 2.26632 | train_mae: 1.1397  |  0:00:00s\n",
      "epoch 5  | loss: 0.64792 | train_mse: 1.33407 | train_mae: 0.83856 |  0:00:00s\n",
      "epoch 6  | loss: 0.50638 | train_mse: 1.62817 | train_mae: 0.9781  |  0:00:00s\n"
     ]
    },
    {
     "name": "stdout",
     "output_type": "stream",
     "text": [
      "epoch 7  | loss: 0.66308 | train_mse: 1.77548 | train_mae: 0.99611 |  0:00:01s\n",
      "epoch 8  | loss: 0.57551 | train_mse: 1.17502 | train_mae: 0.80563 |  0:00:01s\n",
      "epoch 9  | loss: 0.41442 | train_mse: 1.15174 | train_mae: 0.81867 |  0:00:01s\n",
      "epoch 10 | loss: 0.62497 | train_mse: 1.22786 | train_mae: 0.83165 |  0:00:01s\n"
     ]
    },
    {
     "name": "stdout",
     "output_type": "stream",
     "text": [
      "epoch 11 | loss: 0.55588 | train_mse: 1.07108 | train_mae: 0.7792  |  0:00:01s\n",
      "epoch 12 | loss: 0.52416 | train_mse: 0.7951  | train_mae: 0.67354 |  0:00:01s\n",
      "epoch 13 | loss: 0.44694 | train_mse: 0.61751 | train_mae: 0.57614 |  0:00:01s\n"
     ]
    },
    {
     "name": "stdout",
     "output_type": "stream",
     "text": [
      "epoch 14 | loss: 0.40878 | train_mse: 0.76491 | train_mae: 0.6179  |  0:00:01s\n",
      "epoch 15 | loss: 0.45533 | train_mse: 0.79669 | train_mae: 0.64448 |  0:00:01s\n",
      "epoch 16 | loss: 0.3147  | train_mse: 0.68336 | train_mae: 0.60305 |  0:00:01s\n"
     ]
    },
    {
     "name": "stdout",
     "output_type": "stream",
     "text": [
      "epoch 17 | loss: 0.43932 | train_mse: 0.43523 | train_mae: 0.51658 |  0:00:01s\n",
      "epoch 18 | loss: 0.61709 | train_mse: 0.49354 | train_mae: 0.47703 |  0:00:01s\n",
      "epoch 19 | loss: 0.54048 | train_mse: 0.43439 | train_mae: 0.50622 |  0:00:01s\n"
     ]
    },
    {
     "name": "stdout",
     "output_type": "stream",
     "text": [
      "epoch 20 | loss: 0.46481 | train_mse: 0.57778 | train_mae: 0.56426 |  0:00:01s\n",
      "epoch 21 | loss: 0.31816 | train_mse: 0.66824 | train_mae: 0.58534 |  0:00:01s\n",
      "epoch 22 | loss: 0.36506 | train_mse: 0.49144 | train_mae: 0.50602 |  0:00:02s\n",
      "epoch 23 | loss: 0.44922 | train_mse: 0.49975 | train_mae: 0.50264 |  0:00:02s\n"
     ]
    },
    {
     "name": "stdout",
     "output_type": "stream",
     "text": [
      "epoch 24 | loss: 0.37348 | train_mse: 0.34666 | train_mae: 0.45985 |  0:00:02s\n",
      "epoch 25 | loss: 0.41189 | train_mse: 0.32564 | train_mae: 0.44864 |  0:00:02s\n",
      "epoch 26 | loss: 0.44531 | train_mse: 0.3925  | train_mae: 0.46283 |  0:00:02s\n",
      "epoch 27 | loss: 0.425   | train_mse: 0.39207 | train_mae: 0.47569 |  0:00:02s\n"
     ]
    },
    {
     "name": "stdout",
     "output_type": "stream",
     "text": [
      "epoch 28 | loss: 0.36217 | train_mse: 0.42555 | train_mae: 0.47863 |  0:00:02s\n",
      "epoch 29 | loss: 0.45243 | train_mse: 0.50102 | train_mae: 0.47081 |  0:00:02s\n",
      "epoch 30 | loss: 0.35696 | train_mse: 0.54592 | train_mae: 0.45599 |  0:00:02s\n"
     ]
    },
    {
     "name": "stdout",
     "output_type": "stream",
     "text": [
      "epoch 31 | loss: 0.23755 | train_mse: 0.61309 | train_mae: 0.4416  |  0:00:02s\n",
      "epoch 32 | loss: 0.30602 | train_mse: 0.60054 | train_mae: 0.43351 |  0:00:02s\n",
      "epoch 33 | loss: 0.35535 | train_mse: 0.3701  | train_mae: 0.385   |  0:00:02s\n"
     ]
    },
    {
     "name": "stdout",
     "output_type": "stream",
     "text": [
      "epoch 34 | loss: 0.22609 | train_mse: 0.27785 | train_mae: 0.37922 |  0:00:02s\n",
      "epoch 35 | loss: 0.2141  | train_mse: 0.27481 | train_mae: 0.38789 |  0:00:03s\n",
      "epoch 36 | loss: 0.26835 | train_mse: 0.31081 | train_mae: 0.41931 |  0:00:03s\n"
     ]
    },
    {
     "name": "stdout",
     "output_type": "stream",
     "text": [
      "epoch 37 | loss: 0.30996 | train_mse: 0.38981 | train_mae: 0.44848 |  0:00:03s\n",
      "epoch 38 | loss: 0.31303 | train_mse: 0.43486 | train_mae: 0.43143 |  0:00:03s\n",
      "epoch 39 | loss: 0.23493 | train_mse: 0.423   | train_mae: 0.44404 |  0:00:03s\n",
      "epoch 40 | loss: 0.41113 | train_mse: 0.38149 | train_mae: 0.45085 |  0:00:03s\n"
     ]
    },
    {
     "name": "stdout",
     "output_type": "stream",
     "text": [
      "epoch 41 | loss: 0.36419 | train_mse: 0.5478  | train_mae: 0.50344 |  0:00:03s\n",
      "epoch 42 | loss: 0.55458 | train_mse: 0.45516 | train_mae: 0.51039 |  0:00:03s\n",
      "epoch 43 | loss: 0.52109 | train_mse: 0.37405 | train_mae: 0.47501 |  0:00:03s\n",
      "epoch 44 | loss: 0.48843 | train_mse: 0.36784 | train_mae: 0.44372 |  0:00:03s\n"
     ]
    },
    {
     "name": "stdout",
     "output_type": "stream",
     "text": [
      "epoch 45 | loss: 0.34925 | train_mse: 0.30259 | train_mae: 0.40082 |  0:00:03s\n",
      "epoch 46 | loss: 0.31523 | train_mse: 0.2571  | train_mae: 0.37084 |  0:00:03s\n",
      "epoch 47 | loss: 0.2482  | train_mse: 0.24556 | train_mae: 0.36979 |  0:00:03s\n",
      "epoch 48 | loss: 0.27913 | train_mse: 0.25838 | train_mae: 0.39259 |  0:00:03s\n"
     ]
    },
    {
     "name": "stdout",
     "output_type": "stream",
     "text": [
      "epoch 49 | loss: 0.20636 | train_mse: 0.27518 | train_mae: 0.40365 |  0:00:03s\n",
      "epoch 50 | loss: 0.30114 | train_mse: 0.24939 | train_mae: 0.39465 |  0:00:04s\n",
      "epoch 51 | loss: 0.36929 | train_mse: 0.26497 | train_mae: 0.39381 |  0:00:04s\n",
      "epoch 52 | loss: 0.27145 | train_mse: 0.24915 | train_mae: 0.39869 |  0:00:04s\n"
     ]
    },
    {
     "name": "stdout",
     "output_type": "stream",
     "text": [
      "epoch 53 | loss: 0.24956 | train_mse: 0.2396  | train_mae: 0.3867  |  0:00:04s\n",
      "epoch 54 | loss: 0.25416 | train_mse: 0.26188 | train_mae: 0.37887 |  0:00:04s\n",
      "epoch 55 | loss: 0.24873 | train_mse: 0.36152 | train_mae: 0.41626 |  0:00:04s\n"
     ]
    },
    {
     "name": "stdout",
     "output_type": "stream",
     "text": [
      "epoch 56 | loss: 0.24329 | train_mse: 0.334   | train_mae: 0.41045 |  0:00:04s\n",
      "epoch 57 | loss: 0.28005 | train_mse: 0.31365 | train_mae: 0.41369 |  0:00:04s\n",
      "epoch 58 | loss: 0.27191 | train_mse: 0.29929 | train_mae: 0.40175 |  0:00:04s\n"
     ]
    },
    {
     "name": "stdout",
     "output_type": "stream",
     "text": [
      "epoch 59 | loss: 0.37487 | train_mse: 0.25417 | train_mae: 0.39032 |  0:00:04s\n",
      "epoch 60 | loss: 0.31703 | train_mse: 0.22376 | train_mae: 0.36564 |  0:00:04s\n",
      "epoch 61 | loss: 0.30496 | train_mse: 0.20835 | train_mae: 0.35802 |  0:00:04s\n"
     ]
    },
    {
     "name": "stdout",
     "output_type": "stream",
     "text": [
      "epoch 62 | loss: 0.22721 | train_mse: 0.19322 | train_mae: 0.3425  |  0:00:04s\n",
      "epoch 63 | loss: 0.27109 | train_mse: 0.19683 | train_mae: 0.33688 |  0:00:05s\n",
      "epoch 64 | loss: 0.40822 | train_mse: 0.22217 | train_mae: 0.34531 |  0:00:05s\n"
     ]
    },
    {
     "name": "stdout",
     "output_type": "stream",
     "text": [
      "epoch 65 | loss: 0.2534  | train_mse: 0.35859 | train_mae: 0.38662 |  0:00:05s\n",
      "epoch 66 | loss: 0.32281 | train_mse: 0.32282 | train_mae: 0.38315 |  0:00:05s\n",
      "epoch 67 | loss: 0.2246  | train_mse: 0.32225 | train_mae: 0.38306 |  0:00:05s\n"
     ]
    },
    {
     "name": "stdout",
     "output_type": "stream",
     "text": [
      "epoch 68 | loss: 0.34888 | train_mse: 0.37082 | train_mae: 0.40056 |  0:00:05s\n",
      "epoch 69 | loss: 0.34316 | train_mse: 0.29325 | train_mae: 0.39009 |  0:00:05s\n"
     ]
    },
    {
     "name": "stdout",
     "output_type": "stream",
     "text": [
      "epoch 70 | loss: 0.29631 | train_mse: 0.28096 | train_mae: 0.40128 |  0:00:05s\n",
      "epoch 71 | loss: 0.27205 | train_mse: 0.26973 | train_mae: 0.3855  |  0:00:05s\n",
      "epoch 72 | loss: 0.2589  | train_mse: 0.25997 | train_mae: 0.36642 |  0:00:05s\n"
     ]
    },
    {
     "name": "stdout",
     "output_type": "stream",
     "text": [
      "epoch 73 | loss: 0.17689 | train_mse: 0.23235 | train_mae: 0.3681  |  0:00:05s\n",
      "epoch 74 | loss: 0.179   | train_mse: 0.22852 | train_mae: 0.36915 |  0:00:05s\n",
      "epoch 75 | loss: 0.22583 | train_mse: 0.19385 | train_mae: 0.34135 |  0:00:06s\n",
      "epoch 76 | loss: 0.23199 | train_mse: 0.16848 | train_mae: 0.32054 |  0:00:06s\n"
     ]
    },
    {
     "name": "stdout",
     "output_type": "stream",
     "text": [
      "epoch 77 | loss: 0.26227 | train_mse: 0.16772 | train_mae: 0.31763 |  0:00:06s\n",
      "epoch 78 | loss: 0.19858 | train_mse: 0.17821 | train_mae: 0.32739 |  0:00:06s\n",
      "epoch 79 | loss: 0.20898 | train_mse: 0.18882 | train_mae: 0.34182 |  0:00:06s\n",
      "epoch 80 | loss: 0.27635 | train_mse: 0.21363 | train_mae: 0.34738 |  0:00:06s\n"
     ]
    },
    {
     "name": "stdout",
     "output_type": "stream",
     "text": [
      "epoch 81 | loss: 0.18253 | train_mse: 0.20798 | train_mae: 0.32877 |  0:00:06s\n",
      "epoch 82 | loss: 0.14562 | train_mse: 0.21406 | train_mae: 0.33476 |  0:00:06s\n",
      "epoch 83 | loss: 0.18424 | train_mse: 0.19467 | train_mae: 0.33121 |  0:00:06s\n",
      "epoch 84 | loss: 0.22871 | train_mse: 0.19071 | train_mae: 0.329   |  0:00:06s\n"
     ]
    },
    {
     "name": "stdout",
     "output_type": "stream",
     "text": [
      "epoch 85 | loss: 0.28514 | train_mse: 0.22571 | train_mae: 0.3482  |  0:00:06s\n",
      "epoch 86 | loss: 0.23931 | train_mse: 0.20083 | train_mae: 0.33879 |  0:00:06s\n",
      "epoch 87 | loss: 0.16855 | train_mse: 0.17657 | train_mae: 0.31339 |  0:00:06s\n",
      "epoch 88 | loss: 0.2147  | train_mse: 0.16503 | train_mae: 0.31029 |  0:00:06s\n"
     ]
    },
    {
     "name": "stdout",
     "output_type": "stream",
     "text": [
      "epoch 89 | loss: 0.17634 | train_mse: 0.17343 | train_mae: 0.32411 |  0:00:06s\n",
      "epoch 90 | loss: 0.19072 | train_mse: 0.18496 | train_mae: 0.33674 |  0:00:07s\n",
      "epoch 91 | loss: 0.19694 | train_mse: 0.20438 | train_mae: 0.34615 |  0:00:07s\n",
      "epoch 92 | loss: 0.2937  | train_mse: 0.22287 | train_mae: 0.35452 |  0:00:07s\n"
     ]
    },
    {
     "name": "stdout",
     "output_type": "stream",
     "text": [
      "epoch 93 | loss: 0.17054 | train_mse: 0.22291 | train_mae: 0.34627 |  0:00:07s\n",
      "epoch 94 | loss: 0.22653 | train_mse: 0.20464 | train_mae: 0.34361 |  0:00:07s\n",
      "epoch 95 | loss: 0.20571 | train_mse: 0.18379 | train_mae: 0.33629 |  0:00:07s\n",
      "epoch 96 | loss: 0.32278 | train_mse: 0.16639 | train_mae: 0.33044 |  0:00:07s\n"
     ]
    },
    {
     "name": "stdout",
     "output_type": "stream",
     "text": [
      "epoch 97 | loss: 0.27027 | train_mse: 0.17913 | train_mae: 0.33955 |  0:00:07s\n",
      "epoch 98 | loss: 0.16137 | train_mse: 0.1718  | train_mae: 0.32279 |  0:00:07s\n",
      "epoch 99 | loss: 0.3882  | train_mse: 0.18832 | train_mae: 0.33713 |  0:00:07s\n",
      "epoch 100| loss: 0.31091 | train_mse: 0.18124 | train_mae: 0.31944 |  0:00:07s\n"
     ]
    },
    {
     "name": "stdout",
     "output_type": "stream",
     "text": [
      "epoch 101| loss: 0.20614 | train_mse: 0.16811 | train_mae: 0.30556 |  0:00:07s\n",
      "epoch 102| loss: 0.24863 | train_mse: 0.1464  | train_mae: 0.28318 |  0:00:07s\n",
      "epoch 103| loss: 0.19182 | train_mse: 0.16732 | train_mae: 0.30381 |  0:00:07s\n"
     ]
    },
    {
     "name": "stdout",
     "output_type": "stream",
     "text": [
      "epoch 104| loss: 0.27994 | train_mse: 0.16181 | train_mae: 0.30274 |  0:00:07s\n",
      "epoch 105| loss: 0.30095 | train_mse: 0.20164 | train_mae: 0.30647 |  0:00:08s\n",
      "epoch 106| loss: 0.21986 | train_mse: 0.17756 | train_mae: 0.30391 |  0:00:08s\n",
      "epoch 107| loss: 0.18473 | train_mse: 0.15304 | train_mae: 0.30211 |  0:00:08s\n",
      "epoch 108| loss: 0.16367 | train_mse: 0.16754 | train_mae: 0.30483 |  0:00:08s\n"
     ]
    },
    {
     "name": "stdout",
     "output_type": "stream",
     "text": [
      "epoch 109| loss: 0.23603 | train_mse: 0.19938 | train_mae: 0.3206  |  0:00:08s\n",
      "epoch 110| loss: 0.28345 | train_mse: 0.21113 | train_mae: 0.32733 |  0:00:08s\n",
      "epoch 111| loss: 0.23512 | train_mse: 0.19951 | train_mae: 0.32545 |  0:00:08s\n",
      "epoch 112| loss: 0.19757 | train_mse: 0.16989 | train_mae: 0.30829 |  0:00:08s\n"
     ]
    },
    {
     "name": "stdout",
     "output_type": "stream",
     "text": [
      "epoch 113| loss: 0.21701 | train_mse: 0.15288 | train_mae: 0.30289 |  0:00:08s\n",
      "epoch 114| loss: 0.17225 | train_mse: 0.14092 | train_mae: 0.28659 |  0:00:08s\n",
      "epoch 115| loss: 0.24153 | train_mse: 0.14668 | train_mae: 0.2951  |  0:00:08s\n"
     ]
    },
    {
     "name": "stdout",
     "output_type": "stream",
     "text": [
      "epoch 116| loss: 0.25399 | train_mse: 0.14736 | train_mae: 0.29428 |  0:00:08s\n",
      "epoch 117| loss: 0.17409 | train_mse: 0.14245 | train_mae: 0.28158 |  0:00:08s\n",
      "epoch 118| loss: 0.19189 | train_mse: 0.14434 | train_mae: 0.28947 |  0:00:08s\n"
     ]
    },
    {
     "name": "stdout",
     "output_type": "stream",
     "text": [
      "epoch 119| loss: 0.20912 | train_mse: 0.14489 | train_mae: 0.29451 |  0:00:09s\n",
      "epoch 120| loss: 0.24678 | train_mse: 0.1529  | train_mae: 0.30131 |  0:00:09s\n",
      "epoch 121| loss: 0.26643 | train_mse: 0.16145 | train_mae: 0.30439 |  0:00:09s\n"
     ]
    },
    {
     "name": "stdout",
     "output_type": "stream",
     "text": [
      "epoch 122| loss: 0.20352 | train_mse: 0.16725 | train_mae: 0.30711 |  0:00:09s\n",
      "epoch 123| loss: 0.21419 | train_mse: 0.16107 | train_mae: 0.30314 |  0:00:09s\n",
      "epoch 124| loss: 0.18534 | train_mse: 0.1578  | train_mae: 0.30322 |  0:00:09s\n"
     ]
    },
    {
     "name": "stdout",
     "output_type": "stream",
     "text": [
      "epoch 125| loss: 0.24166 | train_mse: 0.16202 | train_mae: 0.29812 |  0:00:09s\n",
      "epoch 126| loss: 0.14794 | train_mse: 0.19197 | train_mae: 0.31241 |  0:00:09s\n",
      "epoch 127| loss: 0.17382 | train_mse: 0.19948 | train_mae: 0.31407 |  0:00:10s\n"
     ]
    },
    {
     "name": "stdout",
     "output_type": "stream",
     "text": [
      "epoch 128| loss: 0.15991 | train_mse: 0.16817 | train_mae: 0.29639 |  0:00:10s\n",
      "epoch 129| loss: 0.16178 | train_mse: 0.14654 | train_mae: 0.27897 |  0:00:10s\n",
      "epoch 130| loss: 0.1859  | train_mse: 0.14591 | train_mae: 0.28106 |  0:00:10s\n",
      "epoch 131| loss: 0.18393 | train_mse: 0.14135 | train_mae: 0.27646 |  0:00:10s\n"
     ]
    },
    {
     "name": "stdout",
     "output_type": "stream",
     "text": [
      "epoch 132| loss: 0.1678  | train_mse: 0.137   | train_mae: 0.26664 |  0:00:10s\n",
      "epoch 133| loss: 0.20022 | train_mse: 0.17761 | train_mae: 0.31153 |  0:00:10s\n",
      "epoch 134| loss: 0.25273 | train_mse: 0.15081 | train_mae: 0.28446 |  0:00:10s\n",
      "epoch 135| loss: 0.13942 | train_mse: 0.1424  | train_mae: 0.27195 |  0:00:10s\n"
     ]
    },
    {
     "name": "stdout",
     "output_type": "stream",
     "text": [
      "epoch 136| loss: 0.15554 | train_mse: 0.13094 | train_mae: 0.27124 |  0:00:10s\n",
      "epoch 137| loss: 0.33501 | train_mse: 0.10987 | train_mae: 0.25775 |  0:00:10s\n",
      "epoch 138| loss: 0.24179 | train_mse: 0.11274 | train_mae: 0.26619 |  0:00:10s\n"
     ]
    },
    {
     "name": "stdout",
     "output_type": "stream",
     "text": [
      "epoch 139| loss: 0.12787 | train_mse: 0.13635 | train_mae: 0.28006 |  0:00:10s\n",
      "epoch 140| loss: 0.31137 | train_mse: 0.16261 | train_mae: 0.29037 |  0:00:10s\n",
      "epoch 141| loss: 0.26569 | train_mse: 0.15375 | train_mae: 0.28362 |  0:00:10s\n",
      "epoch 142| loss: 0.19898 | train_mse: 0.17353 | train_mae: 0.29882 |  0:00:11s\n"
     ]
    },
    {
     "name": "stdout",
     "output_type": "stream",
     "text": [
      "epoch 143| loss: 0.16846 | train_mse: 0.1852  | train_mae: 0.31502 |  0:00:11s\n",
      "epoch 144| loss: 0.13809 | train_mse: 0.21054 | train_mae: 0.31545 |  0:00:11s\n",
      "epoch 145| loss: 0.15488 | train_mse: 0.16573 | train_mae: 0.28791 |  0:00:11s\n",
      "epoch 146| loss: 0.23683 | train_mse: 0.12973 | train_mae: 0.27139 |  0:00:11s\n"
     ]
    },
    {
     "name": "stdout",
     "output_type": "stream",
     "text": [
      "epoch 147| loss: 0.359   | train_mse: 0.14315 | train_mae: 0.28198 |  0:00:11s\n",
      "epoch 148| loss: 0.16524 | train_mse: 0.14721 | train_mae: 0.2809  |  0:00:11s\n",
      "epoch 149| loss: 0.16365 | train_mse: 0.16362 | train_mae: 0.28947 |  0:00:11s\n",
      "epoch 150| loss: 0.15287 | train_mse: 0.16495 | train_mae: 0.29229 |  0:00:11s\n"
     ]
    },
    {
     "name": "stdout",
     "output_type": "stream",
     "text": [
      "epoch 151| loss: 0.17852 | train_mse: 0.14939 | train_mae: 0.28084 |  0:00:11s\n",
      "epoch 152| loss: 0.14875 | train_mse: 0.15646 | train_mae: 0.28685 |  0:00:11s\n",
      "epoch 153| loss: 0.20757 | train_mse: 0.14703 | train_mae: 0.28561 |  0:00:11s\n",
      "epoch 154| loss: 0.20777 | train_mse: 0.14484 | train_mae: 0.29621 |  0:00:11s\n"
     ]
    },
    {
     "name": "stdout",
     "output_type": "stream",
     "text": [
      "epoch 155| loss: 0.16519 | train_mse: 0.14215 | train_mae: 0.29929 |  0:00:11s\n",
      "epoch 156| loss: 0.16376 | train_mse: 0.1439  | train_mae: 0.29411 |  0:00:11s\n",
      "epoch 157| loss: 0.1194  | train_mse: 0.16861 | train_mae: 0.2885  |  0:00:12s\n"
     ]
    },
    {
     "name": "stdout",
     "output_type": "stream",
     "text": [
      "epoch 158| loss: 0.20445 | train_mse: 0.21549 | train_mae: 0.29557 |  0:00:12s\n",
      "epoch 159| loss: 0.17707 | train_mse: 0.214   | train_mae: 0.30933 |  0:00:12s\n",
      "epoch 160| loss: 0.22627 | train_mse: 0.24228 | train_mae: 0.34024 |  0:00:12s\n",
      "epoch 161| loss: 0.27033 | train_mse: 0.23825 | train_mae: 0.34707 |  0:00:12s\n"
     ]
    },
    {
     "name": "stdout",
     "output_type": "stream",
     "text": [
      "epoch 162| loss: 0.15014 | train_mse: 0.18107 | train_mae: 0.307   |  0:00:12s\n",
      "epoch 163| loss: 0.13909 | train_mse: 0.16252 | train_mae: 0.29783 |  0:00:12s\n",
      "epoch 164| loss: 0.17779 | train_mse: 0.16289 | train_mae: 0.2922  |  0:00:12s\n",
      "epoch 165| loss: 0.18275 | train_mse: 0.19073 | train_mae: 0.30062 |  0:00:12s\n"
     ]
    },
    {
     "name": "stdout",
     "output_type": "stream",
     "text": [
      "epoch 166| loss: 0.13864 | train_mse: 0.21202 | train_mae: 0.30982 |  0:00:12s\n",
      "epoch 167| loss: 0.18265 | train_mse: 0.17213 | train_mae: 0.301   |  0:00:12s\n",
      "epoch 168| loss: 0.29837 | train_mse: 0.14622 | train_mae: 0.28798 |  0:00:12s\n",
      "epoch 169| loss: 0.32719 | train_mse: 0.13652 | train_mae: 0.28222 |  0:00:12s\n"
     ]
    },
    {
     "name": "stdout",
     "output_type": "stream",
     "text": [
      "epoch 170| loss: 0.19487 | train_mse: 0.13015 | train_mae: 0.27347 |  0:00:12s\n",
      "epoch 171| loss: 0.16985 | train_mse: 0.12099 | train_mae: 0.26266 |  0:00:12s\n",
      "epoch 172| loss: 0.17895 | train_mse: 0.11254 | train_mae: 0.25371 |  0:00:13s\n",
      "epoch 173| loss: 0.14836 | train_mse: 0.10087 | train_mae: 0.24149 |  0:00:13s\n"
     ]
    },
    {
     "name": "stdout",
     "output_type": "stream",
     "text": [
      "epoch 174| loss: 0.1879  | train_mse: 0.11002 | train_mae: 0.25264 |  0:00:13s\n",
      "epoch 175| loss: 0.12928 | train_mse: 0.12988 | train_mae: 0.26866 |  0:00:13s\n",
      "epoch 176| loss: 0.1919  | train_mse: 0.12853 | train_mae: 0.2715  |  0:00:13s\n",
      "epoch 177| loss: 0.13507 | train_mse: 0.13044 | train_mae: 0.2783  |  0:00:13s\n"
     ]
    },
    {
     "name": "stdout",
     "output_type": "stream",
     "text": [
      "epoch 178| loss: 0.17051 | train_mse: 0.12897 | train_mae: 0.27565 |  0:00:13s\n",
      "epoch 179| loss: 0.19019 | train_mse: 0.14593 | train_mae: 0.28588 |  0:00:13s\n",
      "epoch 180| loss: 0.15536 | train_mse: 0.17457 | train_mae: 0.294   |  0:00:13s\n",
      "epoch 181| loss: 0.23763 | train_mse: 0.15423 | train_mae: 0.28154 |  0:00:13s\n"
     ]
    },
    {
     "name": "stdout",
     "output_type": "stream",
     "text": [
      "epoch 182| loss: 0.14505 | train_mse: 0.11457 | train_mae: 0.25774 |  0:00:13s\n",
      "epoch 183| loss: 0.17243 | train_mse: 0.12154 | train_mae: 0.26076 |  0:00:13s\n",
      "epoch 184| loss: 0.13096 | train_mse: 0.14052 | train_mae: 0.26933 |  0:00:13s\n",
      "epoch 185| loss: 0.15579 | train_mse: 0.14265 | train_mae: 0.27281 |  0:00:13s\n"
     ]
    },
    {
     "name": "stdout",
     "output_type": "stream",
     "text": [
      "epoch 186| loss: 0.21492 | train_mse: 0.13902 | train_mae: 0.28145 |  0:00:13s\n",
      "epoch 187| loss: 0.12708 | train_mse: 0.11977 | train_mae: 0.26237 |  0:00:14s\n",
      "epoch 188| loss: 0.22663 | train_mse: 0.13082 | train_mae: 0.27495 |  0:00:14s\n",
      "epoch 189| loss: 0.18012 | train_mse: 0.14445 | train_mae: 0.28961 |  0:00:14s\n"
     ]
    },
    {
     "name": "stdout",
     "output_type": "stream",
     "text": [
      "epoch 190| loss: 0.13128 | train_mse: 0.12724 | train_mae: 0.2616  |  0:00:14s\n",
      "epoch 191| loss: 0.14403 | train_mse: 0.20864 | train_mae: 0.29505 |  0:00:14s\n",
      "epoch 192| loss: 0.42577 | train_mse: 0.17337 | train_mae: 0.29183 |  0:00:14s\n",
      "epoch 193| loss: 0.13254 | train_mse: 0.11943 | train_mae: 0.26414 |  0:00:14s\n"
     ]
    },
    {
     "name": "stdout",
     "output_type": "stream",
     "text": [
      "epoch 194| loss: 0.16566 | train_mse: 0.12755 | train_mae: 0.26264 |  0:00:14s\n",
      "epoch 195| loss: 0.12946 | train_mse: 0.11056 | train_mae: 0.25624 |  0:00:14s\n",
      "epoch 196| loss: 0.19469 | train_mse: 0.09735 | train_mae: 0.24777 |  0:00:14s\n",
      "epoch 197| loss: 0.13537 | train_mse: 0.09591 | train_mae: 0.25087 |  0:00:14s\n"
     ]
    },
    {
     "name": "stdout",
     "output_type": "stream",
     "text": [
      "epoch 198| loss: 0.18542 | train_mse: 0.12118 | train_mae: 0.26706 |  0:00:14s\n",
      "epoch 199| loss: 0.20506 | train_mse: 0.12677 | train_mae: 0.26474 |  0:00:14s\n",
      "epoch 200| loss: 0.19839 | train_mse: 0.12702 | train_mae: 0.25419 |  0:00:14s\n",
      "epoch 201| loss: 0.21474 | train_mse: 0.17184 | train_mae: 0.28057 |  0:00:14s\n"
     ]
    },
    {
     "name": "stdout",
     "output_type": "stream",
     "text": [
      "epoch 202| loss: 0.15266 | train_mse: 0.19912 | train_mae: 0.28552 |  0:00:15s\n",
      "epoch 203| loss: 0.13912 | train_mse: 0.18652 | train_mae: 0.27915 |  0:00:15s\n",
      "epoch 204| loss: 0.12046 | train_mse: 0.13185 | train_mae: 0.26728 |  0:00:15s\n",
      "epoch 205| loss: 0.16736 | train_mse: 0.1054  | train_mae: 0.2557  |  0:00:15s\n"
     ]
    },
    {
     "name": "stdout",
     "output_type": "stream",
     "text": [
      "epoch 206| loss: 0.12052 | train_mse: 0.1033  | train_mae: 0.25552 |  0:00:15s\n",
      "epoch 207| loss: 0.18525 | train_mse: 0.11241 | train_mae: 0.26363 |  0:00:15s\n",
      "epoch 208| loss: 0.15377 | train_mse: 0.10481 | train_mae: 0.24987 |  0:00:15s\n",
      "epoch 209| loss: 0.15148 | train_mse: 0.10266 | train_mae: 0.25496 |  0:00:15s\n"
     ]
    },
    {
     "name": "stdout",
     "output_type": "stream",
     "text": [
      "epoch 210| loss: 0.15583 | train_mse: 0.11062 | train_mae: 0.26159 |  0:00:15s\n",
      "epoch 211| loss: 0.1465  | train_mse: 0.11977 | train_mae: 0.2692  |  0:00:15s\n",
      "epoch 212| loss: 0.1259  | train_mse: 0.14737 | train_mae: 0.28017 |  0:00:15s\n"
     ]
    },
    {
     "name": "stdout",
     "output_type": "stream",
     "text": [
      "epoch 213| loss: 0.15046 | train_mse: 0.14708 | train_mae: 0.27209 |  0:00:15s\n",
      "epoch 214| loss: 0.19114 | train_mse: 0.13654 | train_mae: 0.26943 |  0:00:15s\n",
      "epoch 215| loss: 0.15168 | train_mse: 0.12759 | train_mae: 0.274   |  0:00:15s\n",
      "epoch 216| loss: 0.17086 | train_mse: 0.10468 | train_mae: 0.26023 |  0:00:15s\n"
     ]
    },
    {
     "name": "stdout",
     "output_type": "stream",
     "text": [
      "epoch 217| loss: 0.25355 | train_mse: 0.11195 | train_mae: 0.26676 |  0:00:15s\n",
      "epoch 218| loss: 0.13705 | train_mse: 0.11238 | train_mae: 0.26387 |  0:00:16s\n",
      "epoch 219| loss: 0.15348 | train_mse: 0.10409 | train_mae: 0.25998 |  0:00:16s\n",
      "epoch 220| loss: 0.17487 | train_mse: 0.1119  | train_mae: 0.26993 |  0:00:16s\n"
     ]
    },
    {
     "name": "stdout",
     "output_type": "stream",
     "text": [
      "epoch 221| loss: 0.13353 | train_mse: 0.10798 | train_mae: 0.26199 |  0:00:16s\n",
      "epoch 222| loss: 0.14662 | train_mse: 0.12361 | train_mae: 0.27887 |  0:00:16s\n",
      "epoch 223| loss: 0.13781 | train_mse: 0.14373 | train_mae: 0.28673 |  0:00:16s\n",
      "\n",
      "Early stopping occurred at epoch 223 with best_epoch = 173 and best_train_mae = 0.24149\n",
      "Best weights from best epoch are automatically used!\n"
     ]
    }
   ],
   "source": [
    "#Train the Model\n",
    "\n",
    "Y_train = np.reshape(Y_train, (-1, 1))\n",
    "Y_test = np.reshape(Y_test, (-1, 1))\n",
    "\n",
    "prior_model = TabNetRegressor(optimizer_fn=torch.optim.Adam, optimizer_params=dict(lr = 0.02),\n",
    "          #scheduler_params={\"step_size\":10, ], \"gamma\":0.9},\n",
    "          #scheduler_fn=torch.optim.lr_scheduler.StepLR\n",
    "          )  #TabNetRegressor()\n",
    "\n",
    "prior_model.fit(X_train,Y_train,eval_set=[(X_train, Y_train)],\n",
    "            eval_name=['train'], \n",
    "            eval_metric=[ 'mse', 'mae'], \n",
    "            max_epochs = n_epochs, \n",
    "            batch_size = batch_size,\n",
    "            patience=50\n",
    "            )"
   ]
  },
  {
   "cell_type": "code",
   "execution_count": 10,
   "id": "af65dcda",
   "metadata": {
    "execution": {
     "iopub.execute_input": "2022-06-22T14:56:14.041827Z",
     "iopub.status.busy": "2022-06-22T14:56:14.037253Z",
     "iopub.status.idle": "2022-06-22T14:56:14.058307Z",
     "shell.execute_reply": "2022-06-22T14:56:14.058850Z"
    },
    "id": "af65dcda",
    "papermill": {
     "duration": 0.081373,
     "end_time": "2022-06-22T14:56:14.059078",
     "exception": false,
     "start_time": "2022-06-22T14:56:13.977705",
     "status": "completed"
    },
    "tags": []
   },
   "outputs": [
    {
     "data": {
      "application/scrapbook.scrap.json+json": {
       "data": 0.2613202695241472,
       "encoder": "json",
       "name": "Prior Model MSE",
       "version": 1
      }
     },
     "metadata": {
      "scrapbook": {
       "data": true,
       "display": false,
       "name": "Prior Model MSE"
      }
     },
     "output_type": "display_data"
    },
    {
     "data": {
      "application/scrapbook.scrap.json+json": {
       "data": 0.2447520681243618,
       "encoder": "json",
       "name": "ABC Pre-generator MSE",
       "version": 1
      }
     },
     "metadata": {
      "scrapbook": {
       "data": true,
       "display": false,
       "name": "ABC Pre-generator MSE"
      }
     },
     "output_type": "display_data"
    },
    {
     "data": {
      "application/scrapbook.scrap.json+json": {
       "data": 0.4029737538145607,
       "encoder": "json",
       "name": "Prior Model MSE",
       "version": 1
      }
     },
     "metadata": {
      "scrapbook": {
       "data": true,
       "display": false,
       "name": "Prior Model MSE"
      }
     },
     "output_type": "display_data"
    },
    {
     "data": {
      "application/scrapbook.scrap.json+json": {
       "data": 0.40299108223765173,
       "encoder": "json",
       "name": "ABC Pre-generator MSE",
       "version": 1
      }
     },
     "metadata": {
      "scrapbook": {
       "data": true,
       "display": false,
       "name": "ABC Pre-generator MSE"
      }
     },
     "output_type": "display_data"
    }
   ],
   "source": [
    "y_pred = prior_model.predict(X_test)\n",
    "y_abc = y_pred + np.random.normal(0,variance, y_pred.shape) + bias \n",
    "mse = mean_squared_error(y_pred,Y_test)\n",
    "sb.glue(\"Prior Model MSE\",mse)\n",
    "mse = mean_squared_error(y_abc,Y_test)\n",
    "sb.glue(\"ABC Pre-generator MSE\",mse)\n",
    "mae = mean_absolute_error(y_pred,Y_test)\n",
    "sb.glue(\"Prior Model MSE\",mae)\n",
    "mae = mean_absolute_error(y_abc,Y_test)\n",
    "sb.glue(\"ABC Pre-generator MSE\",mae)"
   ]
  },
  {
   "cell_type": "markdown",
   "id": "25609da2",
   "metadata": {
    "papermill": {
     "duration": 0.040761,
     "end_time": "2022-06-22T14:56:14.136437",
     "exception": false,
     "start_time": "2022-06-22T14:56:14.095676",
     "status": "completed"
    },
    "tags": []
   },
   "source": [
    "# ABC GAN Model"
   ]
  },
  {
   "cell_type": "code",
   "execution_count": 11,
   "id": "dfc3464d",
   "metadata": {
    "execution": {
     "iopub.execute_input": "2022-06-22T14:56:14.213553Z",
     "iopub.status.busy": "2022-06-22T14:56:14.212708Z",
     "iopub.status.idle": "2022-06-22T14:56:14.218146Z",
     "shell.execute_reply": "2022-06-22T14:56:14.219415Z"
    },
    "papermill": {
     "duration": 0.049531,
     "end_time": "2022-06-22T14:56:14.219758",
     "exception": false,
     "start_time": "2022-06-22T14:56:14.170227",
     "status": "completed"
    },
    "tags": []
   },
   "outputs": [],
   "source": [
    "gen = network.Generator(n_features+1).to(device)\n",
    "disc = network.Discriminator(n_features+1).to(device)\n",
    "\n",
    "criterion = torch.nn.BCELoss()\n",
    "gen_opt = torch.optim.Adam(gen.parameters(), lr=0.001, betas=(0.5, 0.999))\n",
    "disc_opt = torch.optim.Adam(disc.parameters(), lr=0.001, betas=(0.5, 0.999))"
   ]
  },
  {
   "cell_type": "code",
   "execution_count": 12,
   "id": "b75fdd85",
   "metadata": {
    "execution": {
     "iopub.execute_input": "2022-06-22T14:56:14.309905Z",
     "iopub.status.busy": "2022-06-22T14:56:14.308469Z",
     "iopub.status.idle": "2022-06-22T14:56:56.035501Z",
     "shell.execute_reply": "2022-06-22T14:56:56.035063Z"
    },
    "papermill": {
     "duration": 41.781196,
     "end_time": "2022-06-22T14:56:56.035683",
     "exception": false,
     "start_time": "2022-06-22T14:56:14.254487",
     "status": "completed"
    },
    "tags": []
   },
   "outputs": [
    {
     "data": {
      "image/png": "[encoded data removed]",
      "text/plain": [
       "<Figure size 432x288 with 1 Axes>"
      ]
     },
     "metadata": {
      "needs_background": "light"
     },
     "output_type": "display_data"
    },
    {
     "data": {
      "image/png": "[encoded data removed]",
      "text/plain": [
       "<Figure size 432x288 with 1 Axes>"
      ]
     },
     "metadata": {
      "needs_background": "light"
     },
     "output_type": "display_data"
    }
   ],
   "source": [
    "#Training the ABC_GAN \n",
    "ABC_train_test2.training_GAN(disc,gen,disc_opt,gen_opt,train_data,batch_size,n_epochs,criterion,prior_model,variance,bias,device)"
   ]
  },
  {
   "cell_type": "code",
   "execution_count": 13,
   "id": "1fa7c368",
   "metadata": {
    "execution": {
     "iopub.execute_input": "2022-06-22T14:56:56.121201Z",
     "iopub.status.busy": "2022-06-22T14:56:56.120448Z",
     "iopub.status.idle": "2022-06-22T14:56:56.727983Z",
     "shell.execute_reply": "2022-06-22T14:56:56.728543Z"
    },
    "papermill": {
     "duration": 0.66161,
     "end_time": "2022-06-22T14:56:56.728754",
     "exception": false,
     "start_time": "2022-06-22T14:56:56.067144",
     "status": "completed"
    },
    "tags": []
   },
   "outputs": [
    {
     "data": {
      "application/scrapbook.scrap.json+json": {
       "data": 0.4447542450633973,
       "encoder": "json",
       "name": "ABC-GAN Model 1 MSE",
       "version": 1
      }
     },
     "metadata": {
      "scrapbook": {
       "data": true,
       "display": false,
       "name": "ABC-GAN Model 1 MSE"
      }
     },
     "output_type": "display_data"
    },
    {
     "data": {
      "application/scrapbook.scrap.json+json": {
       "data": 0.48521304300054907,
       "encoder": "json",
       "name": "ABC-GAN Model 1 MAE",
       "version": 1
      }
     },
     "metadata": {
      "scrapbook": {
       "data": true,
       "display": false,
       "name": "ABC-GAN Model 1 MAE"
      }
     },
     "output_type": "display_data"
    },
    {
     "data": {
      "application/scrapbook.scrap.json+json": {
       "data": 9.704260860010981,
       "encoder": "json",
       "name": "ABC-GAN Model 1 Manhattan Distance",
       "version": 1
      }
     },
     "metadata": {
      "scrapbook": {
       "data": true,
       "display": false,
       "name": "ABC-GAN Model 1 Manhattan Distance"
      }
     },
     "output_type": "display_data"
    },
    {
     "data": {
      "application/scrapbook.scrap.json+json": {
       "data": 2.9823118751861797,
       "encoder": "json",
       "name": "ABC-GAN Model 1 Euclidean distance",
       "version": 1
      }
     },
     "metadata": {
      "scrapbook": {
       "data": true,
       "display": false,
       "name": "ABC-GAN Model 1 Euclidean distance"
      }
     },
     "output_type": "display_data"
    },
    {
     "data": {
      "application/scrapbook.scrap.json+json": {
       "data": [
        [
         0.47333797844729314,
         0.4474499901696628,
         0.44600427666451675,
         0.4288178852212994,
         0.44455177325999545,
         0.43769728302010547,
         0.44991857360219,
         0.4333468001145562,
         0.45508065644079,
         0.4228752074286882,
         0.4415864613792738,
         0.4496218004134618,
         0.44351985779315833,
         0.437389004287836,
         0.44126712472772384,
         0.44846284832813366,
         0.45621023172521846,
         0.4304508972743795,
         0.4483859566035765,
         0.43293350484582316,
         0.4442157041515795,
         0.4585039971804508,
         0.4438940354345718,
         0.43802020439573963,
         0.4592570649525677,
         0.43499411744848154,
         0.4517042012501937,
         0.44423004243273656,
         0.4399406238093097,
         0.4471613643502378,
         0.43805470044333744,
         0.45118657552657526,
         0.45625703619552294,
         0.4428511893944361,
         0.43997170914407935,
         0.45900158091649146,
         0.44412536106527745,
         0.45109069815182856,
         0.4289227243339816,
         0.43894610704372833,
         0.4534405476837932,
         0.448134843503256,
         0.43757155742940945,
         0.44364608411583983,
         0.4453207418906541,
         0.44760101307320854,
         0.43882934658628675,
         0.43609157392133324,
         0.44203023870194763,
         0.434285353341404,
         0.4424510354809385,
         0.4391980719422012,
         0.44306191047658244,
         0.4544039722924671,
         0.438964122364642,
         0.4563006017623751,
         0.465216081294426,
         0.43373582372010944,
         0.4371949001800086,
         0.44513956443248154,
         0.46659710468879523,
         0.4371143448497515,
         0.44941128578583156,
         0.445718376650526,
         0.45844457720087173,
         0.4300355488562701,
         0.4540848558595151,
         0.4409653623401174,
         0.44114161090604276,
         0.44522723156530875,
         0.45836634029477696,
         0.44878138308509213,
         0.44149809798263223,
         0.45077987589206536,
         0.4619815936826779,
         0.43595475873057754,
         0.44454420580579795,
         0.44078446493821294,
         0.44691045782250105,
         0.45433771056988875,
         0.4454015168594233,
         0.4441256966572557,
         0.4414985954114046,
         0.44604829765618736,
         0.44420658748456426,
         0.4431563261173386,
         0.43417653330609357,
         0.45258106702340173,
         0.45643929343647544,
         0.44619380625354826,
         0.43678610710321414,
         0.44614081098472624,
         0.43769831450669405,
         0.43977520118637176,
         0.44525273524628,
         0.4537364485019193,
         0.42267780622540274,
         0.4400089622584348,
         0.43970236738804813,
         0.4432843116635173
        ],
        [
         0.5064882802311331,
         0.48526307796128093,
         0.4887828259263188,
         0.4711292177904397,
         0.4851114122662693,
         0.4818336440715939,
         0.4977993105072528,
         0.4778433807659894,
         0.4936904810834676,
         0.4709855139721185,
         0.4852996619883925,
         0.48963728290982544,
         0.47190660503692927,
         0.48500091158784925,
         0.4740604725200683,
         0.4879782584030181,
         0.4996375628281385,
         0.4828491993714124,
         0.49044761289842426,
         0.47932384596206246,
         0.48101118081249294,
         0.4979169331956655,
         0.48655975949950514,
         0.4666694794315845,
         0.5013064502272755,
         0.46805727747268977,
         0.4907985847909003,
         0.48240125947631896,
         0.47754298080690205,
         0.48915508543141184,
         0.4821329661179334,
         0.497304678382352,
         0.4853149798233062,
         0.4923835386056453,
         0.4820311207789928,
         0.49414939195849,
         0.48547881306149065,
         0.48222205457277595,
         0.47212811638601127,
         0.4760228701401502,
         0.4919334047008306,
         0.4887166135478765,
         0.48988131680525837,
         0.47539754477329554,
         0.4867278125602752,
         0.4768071497324854,
         0.48291530278511346,
         0.47560221892781557,
         0.4828027640003711,
         0.47628150139935316,
         0.48129398678429425,
         0.47374981571920216,
         0.48125146781094374,
         0.4971975747961551,
         0.474650262715295,
         0.49441021312959493,
         0.5099799117539078,
         0.4765451699960977,
         0.4789931502658874,
         0.4831993464846164,
         0.5053643461782485,
         0.48902932298369706,
         0.4858244289178401,
         0.484501549648121,
         0.5020267688203603,
         0.4668484395835549,
         0.49083469291217624,
         0.47656834465451536,
         0.4776625331956893,
         0.48481296324171125,
         0.49702252694405613,
         0.5039333420339972,
         0.4804371560458094,
         0.48931978293694556,
         0.5022107867989689,
         0.4731513495091349,
         0.49935490400530397,
         0.48441272363997995,
         0.4859714556951076,
         0.48960287612862885,
         0.48459557187743485,
         0.48333106343634424,
         0.4729015497956425,
         0.49004238271154466,
         0.48568338570185005,
         0.47876323987729846,
         0.4879064800683409,
         0.4917594623286277,
         0.5042827690485865,
         0.48985133138485254,
         0.48788167838938534,
         0.48644786630757153,
         0.47265031435526905,
         0.4752666343469173,
         0.48489416525699197,
         0.496301561081782,
         0.4725698829162866,
         0.47396445204503834,
         0.4765477385837585,
         0.4827798689249903
        ],
        [
         10.129765604622662,
         9.705261559225619,
         9.775656518526375,
         9.422584355808794,
         9.702228245325387,
         9.636672881431878,
         9.955986210145056,
         9.556867615319788,
         9.873809621669352,
         9.41971027944237,
         9.70599323976785,
         9.792745658196509,
         9.438132100738585,
         9.700018231756985,
         9.481209450401366,
         9.759565168060362,
         9.99275125656277,
         9.656983987428248,
         9.808952257968485,
         9.58647691924125,
         9.62022361624986,
         9.95833866391331,
         9.731195189990103,
         9.33338958863169,
         10.02612900454551,
         9.361145549453795,
         9.815971695818007,
         9.648025189526379,
         9.550859616138041,
         9.783101708628237,
         9.642659322358668,
         9.94609356764704,
         9.706299596466124,
         9.847670772112906,
         9.640622415579855,
         9.8829878391698,
         9.709576261229813,
         9.64444109145552,
         9.442562327720225,
         9.520457402803004,
         9.838668094016612,
         9.77433227095753,
         9.797626336105168,
         9.50795089546591,
         9.734556251205504,
         9.536142994649708,
         9.658306055702269,
         9.512044378556311,
         9.656055280007422,
         9.525630027987063,
         9.625879735685885,
         9.474996314384043,
         9.625029356218874,
         9.943951495923102,
         9.4930052543059,
         9.888204262591898,
         10.199598235078156,
         9.530903399921954,
         9.579863005317748,
         9.663986929692328,
         10.10728692356497,
         9.780586459673941,
         9.716488578356802,
         9.69003099296242,
         10.040535376407206,
         9.336968791671097,
         9.816693858243525,
         9.531366893090308,
         9.553250663913786,
         9.696259264834225,
         9.940450538881123,
         10.078666840679944,
         9.608743120916188,
         9.786395658738911,
         10.044215735979378,
         9.463026990182698,
         9.98709808010608,
         9.6882544727996,
         9.719429113902152,
         9.792057522572577,
         9.691911437548697,
         9.666621268726885,
         9.45803099591285,
         9.800847654230893,
         9.713667714037001,
         9.57526479754597,
         9.758129601366818,
         9.835189246572554,
         10.08565538097173,
         9.79702662769705,
         9.757633567787707,
         9.72895732615143,
         9.453006287105381,
         9.505332686938345,
         9.69788330513984,
         9.92603122163564,
         9.451397658325732,
         9.479289040900767,
         9.53095477167517,
         9.655597378499806
        ],
        [
         3.0768099663362154,
         2.9914878912329326,
         2.986651223911211,
         2.928541907575507,
         2.9817839400600286,
         2.958706754716004,
         2.9997285663946,
         2.9439660328018604,
         3.0168879874492855,
         2.9081788371030015,
         2.971822543084542,
         2.998739069720678,
         2.9783211975646897,
         2.957664633753584,
         2.9707478005637697,
         2.9948717779836045,
         3.0206298406962038,
         2.93411280381099,
         2.9946150223478694,
         2.942561825504515,
         2.9806566529930265,
         3.0282139857693373,
         2.9795772701327006,
         2.959797980929576,
         3.030699803519206,
         2.949556296965635,
         3.0056753026572705,
         2.9807047570423224,
         2.966279230987231,
         2.9905229119678647,
         2.9599145272907372,
         3.0039526478510785,
         3.020784786096232,
         2.9760752322293067,
         2.9663840248493765,
         3.029856699306063,
         2.980353539650212,
         3.0036334601672974,
         2.9288998765201297,
         2.9629245925056154,
         3.011446654628945,
         2.993776356053524,
         2.958281789922689,
         2.9787449844383787,
         2.984361713635444,
         2.9919926907437744,
         2.9625304946490822,
         2.95327470419307,
         2.9733154514849165,
         2.9471523657300245,
         2.974730359144971,
         2.96377486304949,
         2.9767831982748842,
         3.01464416571,
         2.9629853943772386,
         3.0209290020203228,
         3.0502986125768934,
         2.9452871633173885,
         2.9570082860215616,
         2.983754562401142,
         3.054822759797351,
         2.956735851745135,
         2.9980369770429167,
         2.9856938109944426,
         3.0280177582070804,
         2.932696877811514,
         3.013585425567077,
         2.969731847625699,
         2.9703252714342345,
         2.984048362762603,
         3.027759370540456,
         2.9959351898366964,
         2.9715251908157607,
         3.002598460973646,
         3.039676277772611,
         2.9528114018019425,
         2.9817585610032142,
         2.9691226479827773,
         2.989683788705759,
         3.014424358214645,
         2.9846323621492257,
         2.9803546656639903,
         2.971526864799996,
         2.986798612749736,
         2.9806260667335116,
         2.97710035476582,
         2.9467831046960127,
         3.0085912551338767,
         3.0213880698661515,
         2.987285745467106,
         2.955625507750311,
         2.987108337455226,
         2.9587102409891175,
         2.9657215013765934,
         2.984133828253283,
         3.012429081329283,
         2.9074999784192697,
         2.966509606451443,
         2.965475905779874,
         2.9775302237375096
        ]
       ],
       "encoder": "json",
       "name": "ABC_GAN_1 Metrics",
       "version": 1
      }
     },
     "metadata": {
      "scrapbook": {
       "data": true,
       "display": false,
       "name": "ABC_GAN_1 Metrics"
      }
     },
     "output_type": "display_data"
    },
    {
     "name": "stdout",
     "output_type": "stream",
     "text": [
      "MSE\n",
      "0.4447542450633973\n"
     ]
    }
   ],
   "source": [
    "ABC_GAN1_metrics=ABC_train_test2.test_generator(gen,test_data,prior_model,variance,bias,\"1\",device)\n",
    "sb.glue(\"ABC_GAN_1 Metrics\",ABC_GAN1_metrics)\n",
    "\n",
    "print(\"MSE\")\n",
    "print(mean(ABC_GAN1_metrics[0]))"
   ]
  },
  {
   "cell_type": "code",
   "execution_count": 14,
   "id": "eb22ce5c",
   "metadata": {
    "execution": {
     "iopub.execute_input": "2022-06-22T14:56:56.817312Z",
     "iopub.status.busy": "2022-06-22T14:56:56.816513Z",
     "iopub.status.idle": "2022-06-22T14:56:57.560937Z",
     "shell.execute_reply": "2022-06-22T14:56:57.561402Z"
    },
    "papermill": {
     "duration": 0.795139,
     "end_time": "2022-06-22T14:56:57.561782",
     "exception": false,
     "start_time": "2022-06-22T14:56:56.766643",
     "status": "completed"
    },
    "tags": []
   },
   "outputs": [
    {
     "data": {
      "image/png": "[encoded data removed]",
      "text/plain": [
       "<Figure size 432x288 with 1 Axes>"
      ]
     },
     "metadata": {
      "needs_background": "light"
     },
     "output_type": "display_data"
    },
    {
     "data": {
      "image/png": "[encoded data removed]",
      "text/plain": [
       "<Figure size 432x288 with 1 Axes>"
      ]
     },
     "metadata": {
      "needs_background": "light"
     },
     "output_type": "display_data"
    },
    {
     "data": {
      "image/png": "[encoded data removed]",
      "text/plain": [
       "<Figure size 432x288 with 1 Axes>"
      ]
     },
     "metadata": {
      "needs_background": "light"
     },
     "output_type": "display_data"
    },
    {
     "data": {
      "image/png": "[encoded data removed]",
      "text/plain": [
       "<Figure size 432x288 with 1 Axes>"
      ]
     },
     "metadata": {
      "needs_background": "light"
     },
     "output_type": "display_data"
    }
   ],
   "source": [
    "sanityChecks.discProbVsError(train_data,disc,device)\n",
    "sanityChecks.discProbVsError(test_data,disc,device)"
   ]
  },
  {
   "cell_type": "markdown",
   "id": "130f3a4d",
   "metadata": {
    "id": "130f3a4d",
    "papermill": {
     "duration": 0.05382,
     "end_time": "2022-06-22T14:56:57.656317",
     "exception": false,
     "start_time": "2022-06-22T14:56:57.602497",
     "status": "completed"
    },
    "tags": []
   },
   "source": [
    "# ABC - GAN Model with skip connection"
   ]
  },
  {
   "cell_type": "code",
   "execution_count": 15,
   "id": "4e43dad1",
   "metadata": {
    "execution": {
     "iopub.execute_input": "2022-06-22T14:56:57.742028Z",
     "iopub.status.busy": "2022-06-22T14:56:57.741359Z",
     "iopub.status.idle": "2022-06-22T14:56:57.746281Z",
     "shell.execute_reply": "2022-06-22T14:56:57.746673Z"
    },
    "id": "4e43dad1",
    "papermill": {
     "duration": 0.05047,
     "end_time": "2022-06-22T14:56:57.746933",
     "exception": false,
     "start_time": "2022-06-22T14:56:57.696463",
     "status": "completed"
    },
    "tags": []
   },
   "outputs": [],
   "source": [
    "#Generator\n",
    "gen3 = network.GeneratorWithSkipConnection(n_features+1).to(device)\n",
    "constraints=network.weightConstraint()\n",
    "#Discriminator \n",
    "disc3 = network.Discriminator(n_features+1).to(device)\n",
    "\n",
    "criterion = torch.nn.BCELoss()\n",
    "gen_opt = torch.optim.Adam(gen3.parameters(), lr=0.001, betas=(0.5, 0.999))\n",
    "disc_opt = torch.optim.Adam(disc3.parameters(), lr=0.001, betas=(0.5, 0.999))\n"
   ]
  },
  {
   "cell_type": "code",
   "execution_count": 16,
   "id": "26acbc37",
   "metadata": {
    "execution": {
     "iopub.execute_input": "2022-06-22T14:56:57.835310Z",
     "iopub.status.busy": "2022-06-22T14:56:57.834572Z",
     "iopub.status.idle": "2022-06-22T14:58:03.155716Z",
     "shell.execute_reply": "2022-06-22T14:58:03.155137Z"
    },
    "id": "26acbc37",
    "papermill": {
     "duration": 65.369068,
     "end_time": "2022-06-22T14:58:03.155908",
     "exception": false,
     "start_time": "2022-06-22T14:56:57.786840",
     "status": "completed"
    },
    "tags": []
   },
   "outputs": [
    {
     "data": {
      "image/png": "[encoded data removed]",
      "text/plain": [
       "<Figure size 432x288 with 1 Axes>"
      ]
     },
     "metadata": {
      "needs_background": "light"
     },
     "output_type": "display_data"
    },
    {
     "data": {
      "image/png": "[encoded data removed]",
      "text/plain": [
       "<Figure size 432x288 with 1 Axes>"
      ]
     },
     "metadata": {
      "needs_background": "light"
     },
     "output_type": "display_data"
    }
   ],
   "source": [
    "ABC_train_test2.training_GAN_skip_connection(disc3,gen3,disc_opt,gen_opt,train_data,batch_size,n_epochs,criterion,prior_model,variance,bias,device)"
   ]
  },
  {
   "cell_type": "code",
   "execution_count": 17,
   "id": "c5e0717b",
   "metadata": {
    "execution": {
     "iopub.execute_input": "2022-06-22T14:58:03.265435Z",
     "iopub.status.busy": "2022-06-22T14:58:03.263388Z",
     "iopub.status.idle": "2022-06-22T14:58:04.003712Z",
     "shell.execute_reply": "2022-06-22T14:58:04.004117Z"
    },
    "id": "c5e0717b",
    "papermill": {
     "duration": 0.805797,
     "end_time": "2022-06-22T14:58:04.004335",
     "exception": false,
     "start_time": "2022-06-22T14:58:03.198538",
     "status": "completed"
    },
    "tags": []
   },
   "outputs": [
    {
     "data": {
      "application/scrapbook.scrap.json+json": {
       "data": 0.44936319341395786,
       "encoder": "json",
       "name": "ABC-GAN Model 3 MSE",
       "version": 1
      }
     },
     "metadata": {
      "scrapbook": {
       "data": true,
       "display": false,
       "name": "ABC-GAN Model 3 MSE"
      }
     },
     "output_type": "display_data"
    },
    {
     "data": {
      "application/scrapbook.scrap.json+json": {
       "data": 0.5489277463117614,
       "encoder": "json",
       "name": "ABC-GAN Model 3 MAE",
       "version": 1
      }
     },
     "metadata": {
      "scrapbook": {
       "data": true,
       "display": false,
       "name": "ABC-GAN Model 3 MAE"
      }
     },
     "output_type": "display_data"
    },
    {
     "data": {
      "application/scrapbook.scrap.json+json": {
       "data": 10.978554926235228,
       "encoder": "json",
       "name": "ABC-GAN Model 3 Manhattan Distance",
       "version": 1
      }
     },
     "metadata": {
      "scrapbook": {
       "data": true,
       "display": false,
       "name": "ABC-GAN Model 3 Manhattan Distance"
      }
     },
     "output_type": "display_data"
    },
    {
     "data": {
      "application/scrapbook.scrap.json+json": {
       "data": 2.997364311431012,
       "encoder": "json",
       "name": "ABC-GAN Model 3 Euclidean distance",
       "version": 1
      }
     },
     "metadata": {
      "scrapbook": {
       "data": true,
       "display": false,
       "name": "ABC-GAN Model 3 Euclidean distance"
      }
     },
     "output_type": "display_data"
    },
    {
     "data": {
      "application/scrapbook.scrap.json+json": {
       "data": [
        [
         0.44571062946919965,
         0.447496839501762,
         0.43877329490822203,
         0.44139317642276144,
         0.47056963909830357,
         0.4564220610676961,
         0.44136385652997384,
         0.43067442034305836,
         0.45267531924017934,
         0.4368521020464925,
         0.4355545989525031,
         0.45532789272509727,
         0.44344163623742255,
         0.4513145978390486,
         0.44167752208182237,
         0.4564095179835289,
         0.4288988895959992,
         0.43615962515595486,
         0.46572458088328006,
         0.45421858496201317,
         0.4339295187908826,
         0.4820517390328455,
         0.44935622511831097,
         0.486731201091781,
         0.4686720359725064,
         0.45445107992102374,
         0.46240818925540383,
         0.4545658595057412,
         0.4346479715876276,
         0.4509848053428708,
         0.4542699977921796,
         0.4210246338221101,
         0.45690655116719425,
         0.4271078590741501,
         0.45711023632065934,
         0.4498800147132684,
         0.4508063841091622,
         0.46154916881940433,
         0.4635023844797729,
         0.4575525788305336,
         0.4491702969411119,
         0.4312336810842249,
         0.4314483192865922,
         0.43676758797931525,
         0.46305642926803525,
         0.4223854007302158,
         0.42708760842646,
         0.44800975524096176,
         0.4559821246296048,
         0.4777794347671137,
         0.43019023430698644,
         0.45462920740048485,
         0.4234317128803635,
         0.45210806625209976,
         0.43807221039008215,
         0.4182724801384835,
         0.4291261853876257,
         0.4666018278205824,
         0.4677082207792525,
         0.44748678152406035,
         0.4585324790259658,
         0.4766071393096663,
         0.4546024857270023,
         0.48017694804979616,
         0.45460318428896845,
         0.45770383942744164,
         0.4615195402713669,
         0.4720054461828167,
         0.44265145081691504,
         0.4526681230094242,
         0.4622001006515502,
         0.46121970601028794,
         0.43334789791955924,
         0.4338700322230036,
         0.46182153273830495,
         0.4460761792522753,
         0.46005813640948645,
         0.4411936192423891,
         0.42150615483385145,
         0.42000637033030686,
         0.44177432971129516,
         0.4743087369774911,
         0.46366896148988623,
         0.4222228016835913,
         0.44666222399520417,
         0.4667841082901833,
         0.44507430073499343,
         0.45181466481448823,
         0.43770178123332587,
         0.4457916769285939,
         0.4649685975089703,
         0.4249504583029302,
         0.48291622527932354,
         0.4475949178867344,
         0.5025230104056568,
         0.4358681823560346,
         0.450599167143156,
         0.44192020363676826,
         0.4199220866990044,
         0.4381677555723723
        ],
        [
         0.5451288658659905,
         0.5365304268430918,
         0.5464700213167817,
         0.5447072830516845,
         0.5656528822612017,
         0.5389803607482463,
         0.5527740583289414,
         0.5349451343063265,
         0.5522473011631519,
         0.5316982093732804,
         0.5305268783587962,
         0.5616129380185158,
         0.5371077264193446,
         0.5428736536297947,
         0.5591029685456306,
         0.5649719767738134,
         0.5305014528799802,
         0.5240941927302629,
         0.5603677943814546,
         0.55994957187213,
         0.5325339055154472,
         0.5817496272269637,
         0.5588049995247275,
         0.5772876894567162,
         0.5623873405624181,
         0.5593059853184968,
         0.5635282970499247,
         0.5587089299689978,
         0.5447255645412952,
         0.5541693889070303,
         0.5471371340099722,
         0.5244541599880904,
         0.5604455072898418,
         0.5310430769342929,
         0.5449482046533376,
         0.5450102351140231,
         0.5623068135697394,
         0.5461152926553041,
         0.5508818321395665,
         0.5581719553563744,
         0.5486850420478732,
         0.5311193755362182,
         0.5400562528986483,
         0.534155790740624,
         0.5546005022246391,
         0.5255646974314004,
         0.529516612784937,
         0.5536667654756456,
         0.5511931509245187,
         0.5768907336052507,
         0.5416716505307704,
         0.543420609133318,
         0.5270181574393064,
         0.5520583140198141,
         0.5474697291385382,
         0.5419126859400422,
         0.5478223427664488,
         0.5546018232125789,
         0.566921309614554,
         0.5503407352138311,
         0.553751737298444,
         0.5669403809588403,
         0.5443789143580944,
         0.5530043126549572,
         0.5396002770867199,
         0.5384201247710735,
         0.5682872213888913,
         0.5776600886601955,
         0.5491965979803354,
         0.5320225153584033,
         0.5594727911520749,
         0.5624837449286133,
         0.5310615845490247,
         0.5413639639038592,
         0.5533954907674342,
         0.5516251206863672,
         0.558959267148748,
         0.5474502943921834,
         0.5241757046896964,
         0.5170117171946913,
         0.5451008740346879,
         0.5562884137500077,
         0.5689977054018527,
         0.5258529561106116,
         0.5499781013000756,
         0.5624648025725036,
         0.5461335359606891,
         0.5470884437207133,
         0.5465337617788464,
         0.5479625814128667,
         0.5598589600529522,
         0.5312400423455983,
         0.5755623132456094,
         0.5426243531983346,
         0.5863560021389276,
         0.5385404557455331,
         0.5624451047275215,
         0.5402772637549788,
         0.5433259621728211,
         0.543235230492428
        ],
        [
         10.90257731731981,
         10.730608536861837,
         10.929400426335633,
         10.89414566103369,
         11.313057645224035,
         10.779607214964926,
         11.05548116657883,
         10.69890268612653,
         11.044946023263037,
         10.633964187465608,
         10.610537567175925,
         11.232258760370314,
         10.742154528386891,
         10.857473072595894,
         11.182059370912611,
         11.299439535476267,
         10.610029057599604,
         10.481883854605258,
         11.207355887629092,
         11.1989914374426,
         10.650678110308945,
         11.634992544539273,
         11.17609999049455,
         11.545753789134324,
         11.247746811248362,
         11.186119706369936,
         11.270565940998495,
         11.174178599379957,
         10.894511290825903,
         11.083387778140604,
         10.942742680199444,
         10.489083199761808,
         11.208910145796835,
         10.620861538685858,
         10.898964093066752,
         10.900204702280462,
         11.24613627139479,
         10.922305853106081,
         11.01763664279133,
         11.163439107127488,
         10.973700840957463,
         10.622387510724366,
         10.801125057972968,
         10.683115814812481,
         11.092010044492781,
         10.511293948628008,
         10.59033225569874,
         11.073335309512913,
         11.023863018490374,
         11.537814672105014,
         10.833433010615408,
         10.868412182666361,
         10.540363148786128,
         11.041166280396283,
         10.949394582770765,
         10.838253718800843,
         10.956446855328977,
         11.092036464251578,
         11.338426192291081,
         11.006814704276621,
         11.075034745968878,
         11.338807619176805,
         10.887578287161887,
         11.060086253099144,
         10.792005541734397,
         10.76840249542147,
         11.365744427777827,
         11.55320177320391,
         10.983931959606707,
         10.640450307168067,
         11.189455823041499,
         11.249674898572266,
         10.621231690980494,
         10.827279278077185,
         11.067909815348685,
         11.032502413727343,
         11.17918534297496,
         10.949005887843668,
         10.483514093793929,
         10.340234343893826,
         10.902017480693758,
         11.125768275000155,
         11.379954108037055,
         10.517059122212231,
         10.999562026001513,
         11.249296051450074,
         10.922670719213784,
         10.941768874414265,
         10.930675235576928,
         10.959251628257334,
         11.197179201059043,
         10.624800846911967,
         11.511246264912188,
         10.852487063966691,
         11.727120042778552,
         10.770809114910662,
         11.24890209455043,
         10.805545275099576,
         10.866519243456423,
         10.864704609848559
        ],
        [
         2.9856678632064875,
         2.991644495931166,
         2.9623412865779732,
         2.971172079913115,
         3.0677993386083893,
         3.0213310347186257,
         2.971073397040113,
         2.9348745129666387,
         3.0089045157338554,
         2.9558487851934934,
         2.951455908369641,
         3.017707383843229,
         2.9780585495836798,
         3.004378797152744,
         2.9721289409506526,
         3.0212895193394784,
         2.928818497606156,
         2.9535051215664243,
         3.0519652058412463,
         3.014029147045573,
         2.945944734005995,
         3.1050015749846103,
         2.9978533156854454,
         3.120035900728647,
         3.061607538442857,
         3.014800424310119,
         3.0410793782977903,
         3.0151811206152814,
         2.9483825110986785,
         3.003280890435893,
         3.0141997206296054,
         2.9018085182248337,
         3.022934174497335,
         2.9226969020894047,
         3.0236078989202926,
         2.9996000223805455,
         3.002686743931715,
         3.0382533430226135,
         3.0446753011767047,
         3.025070507708981,
         2.9972330471323443,
         2.936779464257488,
         2.9375102358514167,
         2.9555628498792417,
         3.0432102433714148,
         2.906494110540105,
         2.922627613728646,
         2.993358499214425,
         3.019874582262001,
         3.091211525493245,
         2.933224281595208,
         3.015391209778542,
         2.910091795391903,
         3.007018677202055,
         2.959973683633292,
         2.8923086976963006,
         2.9295944613124383,
         3.054838220988412,
         3.0584578492411905,
         2.9916108755119217,
         3.02830803923896,
         3.087416846846782,
         3.0153025908754243,
         3.0989577217180493,
         3.015304907597135,
         3.025570489766985,
         3.038155823098502,
         3.072476024911559,
         2.9754040089269056,
         3.008880599191081,
         3.0403950422652324,
         3.0371687671589407,
         2.943969761799734,
         2.945742800120213,
         3.0391496598170513,
         2.986891960725313,
         3.033341841631063,
         2.9705003593414667,
         2.9034674264880307,
         2.898297328882276,
         2.972454641239443,
         3.0799634315280144,
         3.0452223613059397,
         2.90593462308976,
         2.9888533720984176,
         3.0554348570708663,
         2.9835358242695644,
         3.0060427968160672,
         2.9587219579856634,
         2.985939305908926,
         3.0494871618322,
         2.91530601585127,
         3.107784501149729,
         2.9919723190121075,
         3.1702460800564256,
         2.952518187432669,
         3.00199655943559,
         2.9729453531364087,
         2.8980065103412187,
         2.960296456682581
        ]
       ],
       "encoder": "json",
       "name": "ABC_GAN_3 Metrics",
       "version": 1
      }
     },
     "metadata": {
      "scrapbook": {
       "data": true,
       "display": false,
       "name": "ABC_GAN_3 Metrics"
      }
     },
     "output_type": "display_data"
    },
    {
     "name": "stdout",
     "output_type": "stream",
     "text": [
      "MSE\n",
      "0.44936319341395786\n"
     ]
    }
   ],
   "source": [
    "ABC_GAN3_metrics=ABC_train_test2.test_generator(gen3,test_data,prior_model,variance,bias,\"3\",device)\n",
    "sb.glue(\"ABC_GAN_3 Metrics\",ABC_GAN3_metrics)\n",
    "\n",
    "print(\"MSE\")\n",
    "print(mean(ABC_GAN3_metrics[0]))"
   ]
  },
  {
   "cell_type": "code",
   "execution_count": 18,
   "id": "c8e46b48",
   "metadata": {
    "execution": {
     "iopub.execute_input": "2022-06-22T14:58:04.100406Z",
     "iopub.status.busy": "2022-06-22T14:58:04.099542Z",
     "iopub.status.idle": "2022-06-22T14:58:04.825182Z",
     "shell.execute_reply": "2022-06-22T14:58:04.825843Z"
    },
    "id": "c8e46b48",
    "papermill": {
     "duration": 0.780083,
     "end_time": "2022-06-22T14:58:04.826053",
     "exception": false,
     "start_time": "2022-06-22T14:58:04.045970",
     "status": "completed"
    },
    "tags": []
   },
   "outputs": [
    {
     "data": {
      "image/png": "[encoded data removed]",
      "text/plain": [
       "<Figure size 432x288 with 1 Axes>"
      ]
     },
     "metadata": {
      "needs_background": "light"
     },
     "output_type": "display_data"
    },
    {
     "data": {
      "image/png": "[encoded data removed]",
      "text/plain": [
       "<Figure size 432x288 with 1 Axes>"
      ]
     },
     "metadata": {
      "needs_background": "light"
     },
     "output_type": "display_data"
    },
    {
     "data": {
      "image/png": "[encoded data removed]",
      "text/plain": [
       "<Figure size 432x288 with 1 Axes>"
      ]
     },
     "metadata": {
      "needs_background": "light"
     },
     "output_type": "display_data"
    },
    {
     "data": {
      "image/png": "[encoded data removed]",
      "text/plain": [
       "<Figure size 432x288 with 1 Axes>"
      ]
     },
     "metadata": {
      "needs_background": "light"
     },
     "output_type": "display_data"
    }
   ],
   "source": [
    "sanityChecks.discProbVsError(train_data,disc3,device)\n",
    "sanityChecks.discProbVsError(test_data,disc3,device)"
   ]
  },
  {
   "cell_type": "markdown",
   "id": "a5bd74c3",
   "metadata": {
    "id": "a5bd74c3",
    "papermill": {
     "duration": 0.0494,
     "end_time": "2022-06-22T14:58:04.927140",
     "exception": false,
     "start_time": "2022-06-22T14:58:04.877740",
     "status": "completed"
    },
    "tags": []
   },
   "source": [
    "## Skip Connection Model Analysis - ABC-GAN "
   ]
  },
  {
   "cell_type": "markdown",
   "id": "5744a8bf",
   "metadata": {
    "id": "5744a8bf",
    "papermill": {
     "duration": 0.047552,
     "end_time": "2022-06-22T14:58:05.020673",
     "exception": false,
     "start_time": "2022-06-22T14:58:04.973121",
     "status": "completed"
    },
    "tags": []
   },
   "source": [
    "### Weight Analysis \n",
    "\n",
    "Study the weights of the skip connection layer\n",
    "\n",
    "Equation of the skip connection is \n",
    "\n",
    "$output = y_{gan} * w + y_{abc} * (1-w)$"
   ]
  },
  {
   "cell_type": "code",
   "execution_count": 19,
   "id": "52c31dea",
   "metadata": {
    "execution": {
     "iopub.execute_input": "2022-06-22T14:58:05.125665Z",
     "iopub.status.busy": "2022-06-22T14:58:05.124924Z",
     "iopub.status.idle": "2022-06-22T14:58:05.131479Z",
     "shell.execute_reply": "2022-06-22T14:58:05.131998Z"
    },
    "id": "52c31dea",
    "papermill": {
     "duration": 0.065448,
     "end_time": "2022-06-22T14:58:05.132220",
     "exception": false,
     "start_time": "2022-06-22T14:58:05.066772",
     "status": "completed"
    },
    "tags": []
   },
   "outputs": [
    {
     "name": "stdout",
     "output_type": "stream",
     "text": [
      "Weight of the node at skip connection\n",
      "Parameter containing:\n",
      "tensor([[0.1162]], requires_grad=True)\n"
     ]
    },
    {
     "data": {
      "application/scrapbook.scrap.json+json": {
       "data": 0.11624547094106674,
       "encoder": "json",
       "name": "Skip Connection Weight",
       "version": 1
      }
     },
     "metadata": {
      "scrapbook": {
       "data": true,
       "display": false,
       "name": "Skip Connection Weight"
      }
     },
     "output_type": "display_data"
    }
   ],
   "source": [
    "print(\"Weight of the node at skip connection\")\n",
    "for name,param in gen3.named_parameters():\n",
    "    if(name == \"skipNode.weight\"):\n",
    "        print(param)\n",
    "        sb.glue(\"Skip Connection Weight\",param.item())"
   ]
  }
 ],
 "metadata": {
  "colab": {
   "collapsed_sections": [],
   "name": "ABC_GAN_Model-Catboost_Pre-gen.ipynb",
   "provenance": []
  },
  "interpreter": {
   "hash": "31f2aee4e71d21fbe5cf8b01ff0e069b9275f58929596ceb00d14d90e3e16cd6"
  },
  "kernelspec": {
   "display_name": "Python 3 (ipykernel)",
   "language": "python",
   "name": "python3"
  },
  "language_info": {
   "codemirror_mode": {
    "name": "ipython",
    "version": 3
   },
   "file_extension": ".py",
   "mimetype": "text/x-python",
   "name": "python",
   "nbconvert_exporter": "python",
   "pygments_lexer": "ipython3",
   "version": "3.8.3"
  },
  "papermill": {
   "default_parameters": {},
   "duration": 138.249523,
   "end_time": "2022-06-22T14:58:06.702308",
   "environment_variables": {},
   "exception": null,
   "input_path": "ABC_GAN-TabNet.ipynb",
   "output_path": "./ABC_GAN_TabNet/ABC-GAN_output_7_4.ipynb",
   "parameters": {
    "bias": 0.1,
    "variance": 0.1
   },
   "start_time": "2022-06-22T14:55:48.452785",
   "version": "2.3.3"
  }
 },
 "nbformat": 4,
 "nbformat_minor": 5
}