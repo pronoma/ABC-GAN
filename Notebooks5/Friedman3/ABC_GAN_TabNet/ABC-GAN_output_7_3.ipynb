{
 "cells": [
  {
   "cell_type": "markdown",
   "id": "622780e6",
   "metadata": {
    "id": "622780e6",
    "papermill": {
     "duration": 0.024251,
     "end_time": "2022-06-22T14:53:19.931369",
     "exception": false,
     "start_time": "2022-06-22T14:53:19.907118",
     "status": "completed"
    },
    "tags": []
   },
   "source": [
    "## Import Libraries "
   ]
  },
  {
   "cell_type": "code",
   "execution_count": 1,
   "id": "a62397e3",
   "metadata": {
    "execution": {
     "iopub.execute_input": "2022-06-22T14:53:19.998035Z",
     "iopub.status.busy": "2022-06-22T14:53:19.985385Z",
     "iopub.status.idle": "2022-06-22T14:53:20.000705Z",
     "shell.execute_reply": "2022-06-22T14:53:20.001706Z"
    },
    "id": "a62397e3",
    "papermill": {
     "duration": 0.05338,
     "end_time": "2022-06-22T14:53:20.002070",
     "exception": false,
     "start_time": "2022-06-22T14:53:19.948690",
     "status": "completed"
    },
    "tags": []
   },
   "outputs": [],
   "source": [
    "import warnings\n",
    "import sys\n",
    "sys.path.insert(0, '../../src')\n",
    "warnings.filterwarnings('ignore')"
   ]
  },
  {
   "cell_type": "code",
   "execution_count": 2,
   "id": "d6a4e155",
   "metadata": {
    "execution": {
     "iopub.execute_input": "2022-06-22T14:53:20.051073Z",
     "iopub.status.busy": "2022-06-22T14:53:20.050155Z",
     "iopub.status.idle": "2022-06-22T14:53:26.739867Z",
     "shell.execute_reply": "2022-06-22T14:53:26.740532Z"
    },
    "id": "d6a4e155",
    "papermill": {
     "duration": 6.720769,
     "end_time": "2022-06-22T14:53:26.740789",
     "exception": false,
     "start_time": "2022-06-22T14:53:20.020020",
     "status": "completed"
    },
    "tags": []
   },
   "outputs": [],
   "source": [
    "import ABC_train_test2\n",
    "import friedman3Dataset\n",
    "import network\n",
    "import dataset\n",
    "import sanityChecks\n",
    "import torch \n",
    "import scrapbook as sb\n",
    "from statistics import mean \n",
    "import catboost as ctb \n",
    "from sklearn.model_selection import train_test_split\n",
    "from sklearn.metrics import mean_squared_error,mean_absolute_error\n",
    "import numpy as np\n",
    "from pytorch_tabnet.tab_model import TabNetRegressor"
   ]
  },
  {
   "cell_type": "markdown",
   "id": "2fa5b0f7",
   "metadata": {
    "id": "2fa5b0f7",
    "papermill": {
     "duration": 0.018662,
     "end_time": "2022-06-22T14:53:26.777280",
     "exception": false,
     "start_time": "2022-06-22T14:53:26.758618",
     "status": "completed"
    },
    "tags": []
   },
   "source": [
    "## Parameters "
   ]
  },
  {
   "cell_type": "code",
   "execution_count": 3,
   "id": "783186fb",
   "metadata": {
    "execution": {
     "iopub.execute_input": "2022-06-22T14:53:26.829292Z",
     "iopub.status.busy": "2022-06-22T14:53:26.828374Z",
     "iopub.status.idle": "2022-06-22T14:53:26.831479Z",
     "shell.execute_reply": "2022-06-22T14:53:26.832022Z"
    },
    "id": "783186fb",
    "papermill": {
     "duration": 0.024485,
     "end_time": "2022-06-22T14:53:26.832250",
     "exception": false,
     "start_time": "2022-06-22T14:53:26.807765",
     "status": "completed"
    },
    "tags": [
     "parameters"
    ]
   },
   "outputs": [],
   "source": [
    "variance = 1\n",
    "bias = 1 "
   ]
  },
  {
   "cell_type": "code",
   "execution_count": 4,
   "id": "3bd73dc0",
   "metadata": {
    "execution": {
     "iopub.execute_input": "2022-06-22T14:53:26.865266Z",
     "iopub.status.busy": "2022-06-22T14:53:26.864123Z",
     "iopub.status.idle": "2022-06-22T14:53:26.866070Z",
     "shell.execute_reply": "2022-06-22T14:53:26.866526Z"
    },
    "papermill": {
     "duration": 0.020095,
     "end_time": "2022-06-22T14:53:26.866807",
     "exception": false,
     "start_time": "2022-06-22T14:53:26.846712",
     "status": "completed"
    },
    "tags": [
     "injected-parameters"
    ]
   },
   "outputs": [],
   "source": [
    "# Parameters\n",
    "variance = 1\n",
    "bias = 0.1\n"
   ]
  },
  {
   "cell_type": "markdown",
   "id": "391cdbfd",
   "metadata": {
    "id": "391cdbfd",
    "papermill": {
     "duration": 0.02041,
     "end_time": "2022-06-22T14:53:26.902256",
     "exception": false,
     "start_time": "2022-06-22T14:53:26.881846",
     "status": "completed"
    },
    "tags": []
   },
   "source": [
    "## Dataset \n"
   ]
  },
  {
   "cell_type": "code",
   "execution_count": 5,
   "id": "5b51f161",
   "metadata": {
    "execution": {
     "iopub.execute_input": "2022-06-22T14:53:26.935932Z",
     "iopub.status.busy": "2022-06-22T14:53:26.935048Z",
     "iopub.status.idle": "2022-06-22T14:53:26.937239Z",
     "shell.execute_reply": "2022-06-22T14:53:26.937708Z"
    },
    "id": "5b51f161",
    "papermill": {
     "duration": 0.020086,
     "end_time": "2022-06-22T14:53:26.937912",
     "exception": false,
     "start_time": "2022-06-22T14:53:26.917826",
     "status": "completed"
    },
    "tags": []
   },
   "outputs": [],
   "source": [
    "#Parameters \n",
    "n_features = 4\n",
    "n_samples= 100\n",
    "n_target = 1"
   ]
  },
  {
   "cell_type": "code",
   "execution_count": 6,
   "id": "5d6eced4",
   "metadata": {
    "execution": {
     "iopub.execute_input": "2022-06-22T14:53:26.968030Z",
     "iopub.status.busy": "2022-06-22T14:53:26.967256Z",
     "iopub.status.idle": "2022-06-22T14:53:26.979049Z",
     "shell.execute_reply": "2022-06-22T14:53:26.979625Z"
    },
    "id": "5d6eced4",
    "papermill": {
     "duration": 0.029158,
     "end_time": "2022-06-22T14:53:26.979845",
     "exception": false,
     "start_time": "2022-06-22T14:53:26.950687",
     "status": "completed"
    },
    "tags": []
   },
   "outputs": [
    {
     "name": "stdout",
     "output_type": "stream",
     "text": [
      "          X1           X2        X3        X4         Y\n",
      "0  66.607271  1610.948421  0.859247  6.943893  1.572264\n",
      "1  61.069221   363.837655  0.076938  8.216874  0.330140\n",
      "2  98.667861   171.062378  0.114429  2.592176  0.182954\n",
      "3  54.949279  1028.873114  0.052143  6.123781  0.831655\n",
      "4  69.583714   811.107149  0.708037  5.563311  1.428298\n"
     ]
    }
   ],
   "source": [
    "X,Y = friedman3Dataset.friedman3_data(n_samples)"
   ]
  },
  {
   "cell_type": "code",
   "execution_count": 7,
   "id": "fe007438",
   "metadata": {
    "execution": {
     "iopub.execute_input": "2022-06-22T14:53:27.018668Z",
     "iopub.status.busy": "2022-06-22T14:53:27.017760Z",
     "iopub.status.idle": "2022-06-22T14:53:27.020808Z",
     "shell.execute_reply": "2022-06-22T14:53:27.020120Z"
    },
    "id": "fe007438",
    "papermill": {
     "duration": 0.028146,
     "end_time": "2022-06-22T14:53:27.021115",
     "exception": false,
     "start_time": "2022-06-22T14:53:26.992969",
     "status": "completed"
    },
    "tags": []
   },
   "outputs": [],
   "source": [
    "#Train test split for dataset \n",
    "X_train,X_test,Y_train,Y_test = train_test_split(X,Y,test_size = 0.2)\n",
    "train_data = dataset.CustomDataset(X_train,Y_train)\n",
    "test_data = dataset.CustomDataset(X_test,Y_test)\n"
   ]
  },
  {
   "cell_type": "markdown",
   "id": "a9a1af34",
   "metadata": {
    "id": "a9a1af34",
    "papermill": {
     "duration": 0.015523,
     "end_time": "2022-06-22T14:53:27.053200",
     "exception": false,
     "start_time": "2022-06-22T14:53:27.037677",
     "status": "completed"
    },
    "tags": []
   },
   "source": [
    "## Training Parameters "
   ]
  },
  {
   "cell_type": "code",
   "execution_count": 8,
   "id": "952b7fc8",
   "metadata": {
    "execution": {
     "iopub.execute_input": "2022-06-22T14:53:27.085300Z",
     "iopub.status.busy": "2022-06-22T14:53:27.084593Z",
     "iopub.status.idle": "2022-06-22T14:53:27.086660Z",
     "shell.execute_reply": "2022-06-22T14:53:27.087178Z"
    },
    "id": "952b7fc8",
    "papermill": {
     "duration": 0.020046,
     "end_time": "2022-06-22T14:53:27.087388",
     "exception": false,
     "start_time": "2022-06-22T14:53:27.067342",
     "status": "completed"
    },
    "tags": []
   },
   "outputs": [],
   "source": [
    "batch_size = 32\n",
    "n_epochs = 1000\n",
    "#Select the device \n",
    "device = torch.device('cuda' if torch.cuda.is_available() else 'cpu')"
   ]
  },
  {
   "cell_type": "markdown",
   "id": "a95e1600",
   "metadata": {
    "id": "a95e1600",
    "papermill": {
     "duration": 0.017321,
     "end_time": "2022-06-22T14:53:27.118188",
     "exception": false,
     "start_time": "2022-06-22T14:53:27.100867",
     "status": "completed"
    },
    "tags": []
   },
   "source": [
    "# ABC Pre-generator Model \n",
    "\n",
    "1. The catboost model is used as a pre-generator model for the ABC-GAN. \n",
    "2. The model is first trained on the entire dataset \n",
    "3. It generats X,Y pairs and we add some Gaussian noise with mean 0 and variance 1 to it which is then feed as input to the generator.\n"
   ]
  },
  {
   "cell_type": "code",
   "execution_count": 9,
   "id": "ff8ce7bd",
   "metadata": {
    "execution": {
     "iopub.execute_input": "2022-06-22T14:53:27.162446Z",
     "iopub.status.busy": "2022-06-22T14:53:27.161531Z",
     "iopub.status.idle": "2022-06-22T14:53:50.386309Z",
     "shell.execute_reply": "2022-06-22T14:53:50.386879Z"
    },
    "id": "ff8ce7bd",
    "papermill": {
     "duration": 23.251189,
     "end_time": "2022-06-22T14:53:50.387097",
     "exception": false,
     "start_time": "2022-06-22T14:53:27.135908",
     "status": "completed"
    },
    "tags": []
   },
   "outputs": [
    {
     "name": "stdout",
     "output_type": "stream",
     "text": [
      "Device used : cpu\n"
     ]
    },
    {
     "name": "stdout",
     "output_type": "stream",
     "text": [
      "epoch 0  | loss: 0.92951 | train_mse: 7.17209 | train_mae: 1.86074 |  0:00:00s\n",
      "epoch 1  | loss: 0.59695 | train_mse: 3.31812 | train_mae: 1.36833 |  0:00:00s\n",
      "epoch 2  | loss: 0.67924 | train_mse: 2.33217 | train_mae: 1.1892  |  0:00:00s\n"
     ]
    },
    {
     "name": "stdout",
     "output_type": "stream",
     "text": [
      "epoch 3  | loss: 0.49981 | train_mse: 1.60702 | train_mae: 0.90724 |  0:00:00s\n",
      "epoch 4  | loss: 0.4129  | train_mse: 1.62236 | train_mae: 0.90164 |  0:00:00s\n",
      "epoch 5  | loss: 0.30032 | train_mse: 1.26495 | train_mae: 0.8373  |  0:00:00s\n"
     ]
    },
    {
     "name": "stdout",
     "output_type": "stream",
     "text": [
      "epoch 6  | loss: 0.26669 | train_mse: 1.07607 | train_mae: 0.76484 |  0:00:00s\n",
      "epoch 7  | loss: 0.23493 | train_mse: 1.17336 | train_mae: 0.80115 |  0:00:00s\n",
      "epoch 8  | loss: 0.37405 | train_mse: 1.0582  | train_mae: 0.73325 |  0:00:00s\n"
     ]
    },
    {
     "name": "stdout",
     "output_type": "stream",
     "text": [
      "epoch 9  | loss: 0.22795 | train_mse: 0.88845 | train_mae: 0.66901 |  0:00:01s\n",
      "epoch 10 | loss: 0.23899 | train_mse: 0.76224 | train_mae: 0.64607 |  0:00:01s\n",
      "epoch 11 | loss: 0.24948 | train_mse: 0.46898 | train_mae: 0.54687 |  0:00:01s\n"
     ]
    },
    {
     "name": "stdout",
     "output_type": "stream",
     "text": [
      "epoch 12 | loss: 0.29201 | train_mse: 0.39804 | train_mae: 0.52077 |  0:00:01s\n",
      "epoch 13 | loss: 0.2188  | train_mse: 0.40989 | train_mae: 0.5213  |  0:00:01s\n",
      "epoch 14 | loss: 0.15655 | train_mse: 0.53472 | train_mae: 0.57424 |  0:00:01s\n",
      "epoch 15 | loss: 0.23854 | train_mse: 0.57798 | train_mae: 0.5938  |  0:00:01s\n"
     ]
    },
    {
     "name": "stdout",
     "output_type": "stream",
     "text": [
      "epoch 16 | loss: 0.2701  | train_mse: 0.37643 | train_mae: 0.47339 |  0:00:01s\n",
      "epoch 17 | loss: 0.15174 | train_mse: 0.24839 | train_mae: 0.37665 |  0:00:01s\n",
      "epoch 18 | loss: 0.14819 | train_mse: 0.17321 | train_mae: 0.31417 |  0:00:01s\n"
     ]
    },
    {
     "name": "stdout",
     "output_type": "stream",
     "text": [
      "epoch 19 | loss: 0.17723 | train_mse: 0.17677 | train_mae: 0.30903 |  0:00:01s\n",
      "epoch 20 | loss: 0.13713 | train_mse: 0.22874 | train_mae: 0.35436 |  0:00:01s\n",
      "epoch 21 | loss: 0.13432 | train_mse: 0.28714 | train_mae: 0.3864  |  0:00:01s\n",
      "epoch 22 | loss: 0.13509 | train_mse: 0.24407 | train_mae: 0.35147 |  0:00:01s\n"
     ]
    },
    {
     "name": "stdout",
     "output_type": "stream",
     "text": [
      "epoch 23 | loss: 0.16056 | train_mse: 0.20428 | train_mae: 0.33173 |  0:00:01s\n",
      "epoch 24 | loss: 0.26391 | train_mse: 0.20847 | train_mae: 0.33788 |  0:00:02s\n",
      "epoch 25 | loss: 0.13231 | train_mse: 0.23993 | train_mae: 0.36423 |  0:00:02s\n"
     ]
    },
    {
     "name": "stdout",
     "output_type": "stream",
     "text": [
      "epoch 26 | loss: 0.13955 | train_mse: 0.23864 | train_mae: 0.35957 |  0:00:02s\n",
      "epoch 27 | loss: 0.10633 | train_mse: 0.16918 | train_mae: 0.31519 |  0:00:02s\n",
      "epoch 28 | loss: 0.20864 | train_mse: 0.14989 | train_mae: 0.28845 |  0:00:02s\n",
      "epoch 29 | loss: 0.27981 | train_mse: 0.11933 | train_mae: 0.26261 |  0:00:02s\n"
     ]
    },
    {
     "name": "stdout",
     "output_type": "stream",
     "text": [
      "epoch 30 | loss: 0.16039 | train_mse: 0.11367 | train_mae: 0.25907 |  0:00:02s\n",
      "epoch 31 | loss: 0.17472 | train_mse: 0.11065 | train_mae: 0.25207 |  0:00:02s\n",
      "epoch 32 | loss: 0.11061 | train_mse: 0.08528 | train_mae: 0.22999 |  0:00:02s\n"
     ]
    },
    {
     "name": "stdout",
     "output_type": "stream",
     "text": [
      "epoch 33 | loss: 0.17866 | train_mse: 0.08017 | train_mae: 0.22535 |  0:00:02s\n",
      "epoch 34 | loss: 0.18518 | train_mse: 0.09435 | train_mae: 0.23956 |  0:00:02s\n",
      "epoch 35 | loss: 0.14701 | train_mse: 0.11059 | train_mae: 0.26427 |  0:00:02s\n"
     ]
    },
    {
     "name": "stdout",
     "output_type": "stream",
     "text": [
      "epoch 36 | loss: 0.13987 | train_mse: 0.10899 | train_mae: 0.25766 |  0:00:02s\n",
      "epoch 37 | loss: 0.10881 | train_mse: 0.17417 | train_mae: 0.27964 |  0:00:02s\n",
      "epoch 38 | loss: 0.165   | train_mse: 0.16055 | train_mae: 0.26176 |  0:00:03s\n",
      "epoch 39 | loss: 0.11479 | train_mse: 0.12272 | train_mae: 0.24555 |  0:00:03s\n"
     ]
    },
    {
     "name": "stdout",
     "output_type": "stream",
     "text": [
      "epoch 40 | loss: 0.2067  | train_mse: 0.10392 | train_mae: 0.23601 |  0:00:03s\n",
      "epoch 41 | loss: 0.16681 | train_mse: 0.09719 | train_mae: 0.22935 |  0:00:03s\n",
      "epoch 42 | loss: 0.24152 | train_mse: 0.10703 | train_mae: 0.24262 |  0:00:03s\n",
      "epoch 43 | loss: 0.13963 | train_mse: 0.11525 | train_mae: 0.25319 |  0:00:03s\n"
     ]
    },
    {
     "name": "stdout",
     "output_type": "stream",
     "text": [
      "epoch 44 | loss: 0.16936 | train_mse: 0.1149  | train_mae: 0.24995 |  0:00:03s\n",
      "epoch 45 | loss: 0.16499 | train_mse: 0.11548 | train_mae: 0.25088 |  0:00:03s\n",
      "epoch 46 | loss: 0.13136 | train_mse: 0.09352 | train_mae: 0.23373 |  0:00:03s\n"
     ]
    },
    {
     "name": "stdout",
     "output_type": "stream",
     "text": [
      "epoch 47 | loss: 0.08246 | train_mse: 0.07643 | train_mae: 0.22252 |  0:00:03s\n",
      "epoch 48 | loss: 0.13276 | train_mse: 0.08175 | train_mae: 0.2191  |  0:00:03s\n",
      "epoch 49 | loss: 0.14277 | train_mse: 0.10347 | train_mae: 0.24443 |  0:00:03s\n"
     ]
    },
    {
     "name": "stdout",
     "output_type": "stream",
     "text": [
      "epoch 50 | loss: 0.14775 | train_mse: 0.14174 | train_mae: 0.28375 |  0:00:03s\n",
      "epoch 51 | loss: 0.13086 | train_mse: 0.18678 | train_mae: 0.3237  |  0:00:03s\n",
      "epoch 52 | loss: 0.12714 | train_mse: 0.11147 | train_mae: 0.25641 |  0:00:03s\n"
     ]
    },
    {
     "name": "stdout",
     "output_type": "stream",
     "text": [
      "epoch 53 | loss: 0.11355 | train_mse: 0.07071 | train_mae: 0.19886 |  0:00:04s\n",
      "epoch 54 | loss: 0.09738 | train_mse: 0.06488 | train_mae: 0.19477 |  0:00:04s\n",
      "epoch 55 | loss: 0.1292  | train_mse: 0.1015  | train_mae: 0.23282 |  0:00:04s\n",
      "epoch 56 | loss: 0.24462 | train_mse: 0.11645 | train_mae: 0.25927 |  0:00:04s\n",
      "epoch 57 | loss: 0.1114  | train_mse: 0.0941  | train_mae: 0.23985 |  0:00:04s\n"
     ]
    },
    {
     "name": "stdout",
     "output_type": "stream",
     "text": [
      "epoch 58 | loss: 0.24826 | train_mse: 0.09045 | train_mae: 0.2281  |  0:00:04s\n",
      "epoch 59 | loss: 0.35039 | train_mse: 0.09566 | train_mae: 0.23137 |  0:00:04s\n",
      "epoch 60 | loss: 0.1153  | train_mse: 0.08831 | train_mae: 0.22549 |  0:00:04s\n",
      "epoch 61 | loss: 0.1     | train_mse: 0.07512 | train_mae: 0.21284 |  0:00:04s\n"
     ]
    },
    {
     "name": "stdout",
     "output_type": "stream",
     "text": [
      "epoch 62 | loss: 0.10238 | train_mse: 0.07654 | train_mae: 0.2188  |  0:00:04s\n",
      "epoch 63 | loss: 0.13427 | train_mse: 0.09013 | train_mae: 0.22896 |  0:00:04s\n",
      "epoch 64 | loss: 0.08959 | train_mse: 0.10642 | train_mae: 0.24014 |  0:00:04s\n",
      "epoch 65 | loss: 0.13649 | train_mse: 0.12786 | train_mae: 0.24144 |  0:00:04s\n"
     ]
    },
    {
     "name": "stdout",
     "output_type": "stream",
     "text": [
      "epoch 66 | loss: 0.06685 | train_mse: 0.19981 | train_mae: 0.28069 |  0:00:04s\n",
      "epoch 67 | loss: 0.08632 | train_mse: 0.2363  | train_mae: 0.29385 |  0:00:04s\n",
      "epoch 68 | loss: 0.14716 | train_mse: 0.24205 | train_mae: 0.29533 |  0:00:05s\n"
     ]
    },
    {
     "name": "stdout",
     "output_type": "stream",
     "text": [
      "epoch 69 | loss: 0.0826  | train_mse: 0.13184 | train_mae: 0.23919 |  0:00:05s\n",
      "epoch 70 | loss: 0.19947 | train_mse: 0.06166 | train_mae: 0.19123 |  0:00:05s\n",
      "epoch 71 | loss: 0.17776 | train_mse: 0.05729 | train_mae: 0.18958 |  0:00:05s\n"
     ]
    },
    {
     "name": "stdout",
     "output_type": "stream",
     "text": [
      "epoch 72 | loss: 0.10511 | train_mse: 0.07328 | train_mae: 0.20249 |  0:00:05s\n",
      "epoch 73 | loss: 0.09304 | train_mse: 0.08183 | train_mae: 0.20827 |  0:00:05s\n",
      "epoch 74 | loss: 0.08814 | train_mse: 0.08126 | train_mae: 0.20504 |  0:00:05s\n",
      "epoch 75 | loss: 0.10376 | train_mse: 0.08244 | train_mae: 0.20487 |  0:00:05s\n"
     ]
    },
    {
     "name": "stdout",
     "output_type": "stream",
     "text": [
      "epoch 76 | loss: 0.08093 | train_mse: 0.07517 | train_mae: 0.19665 |  0:00:05s\n",
      "epoch 77 | loss: 0.0923  | train_mse: 0.08275 | train_mae: 0.20826 |  0:00:05s\n",
      "epoch 78 | loss: 0.17518 | train_mse: 0.08798 | train_mae: 0.22784 |  0:00:05s\n",
      "epoch 79 | loss: 0.43765 | train_mse: 0.12163 | train_mae: 0.25567 |  0:00:05s\n"
     ]
    },
    {
     "name": "stdout",
     "output_type": "stream",
     "text": [
      "epoch 80 | loss: 0.16808 | train_mse: 0.07321 | train_mae: 0.19677 |  0:00:05s\n",
      "epoch 81 | loss: 0.12761 | train_mse: 0.10246 | train_mae: 0.22182 |  0:00:05s\n",
      "epoch 82 | loss: 0.14672 | train_mse: 0.1314  | train_mae: 0.27285 |  0:00:05s\n"
     ]
    },
    {
     "name": "stdout",
     "output_type": "stream",
     "text": [
      "epoch 83 | loss: 0.13511 | train_mse: 0.09269 | train_mae: 0.21322 |  0:00:06s\n",
      "epoch 84 | loss: 0.07912 | train_mse: 0.07499 | train_mae: 0.20272 |  0:00:06s\n",
      "epoch 85 | loss: 0.11075 | train_mse: 0.05982 | train_mae: 0.18838 |  0:00:06s\n",
      "epoch 86 | loss: 0.09704 | train_mse: 0.06126 | train_mae: 0.18824 |  0:00:06s\n"
     ]
    },
    {
     "name": "stdout",
     "output_type": "stream",
     "text": [
      "epoch 87 | loss: 0.11469 | train_mse: 0.06296 | train_mae: 0.18582 |  0:00:06s\n",
      "epoch 88 | loss: 0.07025 | train_mse: 0.0617  | train_mae: 0.18879 |  0:00:06s\n",
      "epoch 89 | loss: 0.15163 | train_mse: 0.06508 | train_mae: 0.19605 |  0:00:06s\n",
      "epoch 90 | loss: 0.11708 | train_mse: 0.13423 | train_mae: 0.24184 |  0:00:06s\n"
     ]
    },
    {
     "name": "stdout",
     "output_type": "stream",
     "text": [
      "epoch 91 | loss: 0.09594 | train_mse: 0.17746 | train_mae: 0.25523 |  0:00:06s\n",
      "epoch 92 | loss: 0.09402 | train_mse: 0.117   | train_mae: 0.23379 |  0:00:06s\n",
      "epoch 93 | loss: 0.0766  | train_mse: 0.12364 | train_mae: 0.25209 |  0:00:06s\n",
      "epoch 94 | loss: 0.07788 | train_mse: 0.12552 | train_mae: 0.26282 |  0:00:06s\n"
     ]
    },
    {
     "name": "stdout",
     "output_type": "stream",
     "text": [
      "epoch 95 | loss: 0.14747 | train_mse: 0.11608 | train_mae: 0.24259 |  0:00:06s\n",
      "epoch 96 | loss: 0.14957 | train_mse: 0.07251 | train_mae: 0.2048  |  0:00:06s\n",
      "epoch 97 | loss: 0.08515 | train_mse: 0.07105 | train_mae: 0.20338 |  0:00:06s\n"
     ]
    },
    {
     "name": "stdout",
     "output_type": "stream",
     "text": [
      "epoch 98 | loss: 0.23654 | train_mse: 0.06196 | train_mae: 0.1919  |  0:00:07s\n",
      "epoch 99 | loss: 0.11862 | train_mse: 0.06233 | train_mae: 0.1891  |  0:00:07s\n",
      "epoch 100| loss: 0.11661 | train_mse: 0.07546 | train_mae: 0.20431 |  0:00:07s\n"
     ]
    },
    {
     "name": "stdout",
     "output_type": "stream",
     "text": [
      "epoch 101| loss: 0.1572  | train_mse: 0.09071 | train_mae: 0.2123  |  0:00:07s\n",
      "epoch 102| loss: 0.0898  | train_mse: 0.07834 | train_mae: 0.20253 |  0:00:07s\n",
      "epoch 103| loss: 0.11115 | train_mse: 0.06922 | train_mae: 0.20327 |  0:00:07s\n"
     ]
    },
    {
     "name": "stdout",
     "output_type": "stream",
     "text": [
      "epoch 104| loss: 0.11337 | train_mse: 0.08879 | train_mae: 0.2342  |  0:00:07s\n",
      "epoch 105| loss: 0.09521 | train_mse: 0.10193 | train_mae: 0.24634 |  0:00:07s\n",
      "epoch 106| loss: 0.07282 | train_mse: 0.11071 | train_mae: 0.23253 |  0:00:07s\n",
      "epoch 107| loss: 0.09025 | train_mse: 0.11223 | train_mae: 0.22653 |  0:00:07s\n"
     ]
    },
    {
     "name": "stdout",
     "output_type": "stream",
     "text": [
      "epoch 108| loss: 0.07007 | train_mse: 0.12026 | train_mae: 0.23719 |  0:00:07s\n",
      "epoch 109| loss: 0.17311 | train_mse: 0.10967 | train_mae: 0.24607 |  0:00:07s\n",
      "epoch 110| loss: 0.094   | train_mse: 0.13833 | train_mae: 0.27014 |  0:00:07s\n",
      "epoch 111| loss: 0.06445 | train_mse: 0.11224 | train_mae: 0.23692 |  0:00:07s\n"
     ]
    },
    {
     "name": "stdout",
     "output_type": "stream",
     "text": [
      "epoch 112| loss: 0.10195 | train_mse: 0.09427 | train_mae: 0.21657 |  0:00:08s\n",
      "epoch 113| loss: 0.11206 | train_mse: 0.0999  | train_mae: 0.22142 |  0:00:08s\n",
      "epoch 114| loss: 0.12318 | train_mse: 0.1273  | train_mae: 0.24808 |  0:00:08s\n"
     ]
    },
    {
     "name": "stdout",
     "output_type": "stream",
     "text": [
      "epoch 115| loss: 0.06367 | train_mse: 0.14186 | train_mae: 0.26068 |  0:00:08s\n",
      "epoch 116| loss: 0.05664 | train_mse: 0.12019 | train_mae: 0.24213 |  0:00:08s\n",
      "epoch 117| loss: 0.08032 | train_mse: 0.0852  | train_mae: 0.20408 |  0:00:08s\n",
      "epoch 118| loss: 0.07697 | train_mse: 0.06894 | train_mae: 0.19684 |  0:00:08s\n",
      "epoch 119| loss: 0.06976 | train_mse: 0.07607 | train_mae: 0.21098 |  0:00:08s\n"
     ]
    },
    {
     "name": "stdout",
     "output_type": "stream",
     "text": [
      "epoch 120| loss: 0.10408 | train_mse: 0.09625 | train_mae: 0.22679 |  0:00:08s\n",
      "epoch 121| loss: 0.10496 | train_mse: 0.08738 | train_mae: 0.21261 |  0:00:08s\n",
      "epoch 122| loss: 0.08045 | train_mse: 0.07267 | train_mae: 0.19373 |  0:00:08s\n",
      "epoch 123| loss: 0.08446 | train_mse: 0.05025 | train_mae: 0.17598 |  0:00:08s\n"
     ]
    },
    {
     "name": "stdout",
     "output_type": "stream",
     "text": [
      "epoch 124| loss: 0.12229 | train_mse: 0.04704 | train_mae: 0.17293 |  0:00:08s\n",
      "epoch 125| loss: 0.05988 | train_mse: 0.05021 | train_mae: 0.17495 |  0:00:08s\n",
      "epoch 126| loss: 0.09432 | train_mse: 0.04441 | train_mae: 0.16371 |  0:00:08s\n"
     ]
    },
    {
     "name": "stdout",
     "output_type": "stream",
     "text": [
      "epoch 127| loss: 0.17077 | train_mse: 0.05044 | train_mae: 0.16952 |  0:00:09s\n",
      "epoch 128| loss: 0.12589 | train_mse: 0.04082 | train_mae: 0.16153 |  0:00:09s\n",
      "epoch 129| loss: 0.08831 | train_mse: 0.03864 | train_mae: 0.16038 |  0:00:09s\n"
     ]
    },
    {
     "name": "stdout",
     "output_type": "stream",
     "text": [
      "epoch 130| loss: 0.14518 | train_mse: 0.0351  | train_mae: 0.15627 |  0:00:09s\n",
      "epoch 131| loss: 0.06912 | train_mse: 0.03695 | train_mae: 0.15639 |  0:00:09s\n",
      "epoch 132| loss: 0.06586 | train_mse: 0.04735 | train_mae: 0.16955 |  0:00:09s\n",
      "epoch 133| loss: 0.09425 | train_mse: 0.06209 | train_mae: 0.18917 |  0:00:09s\n"
     ]
    },
    {
     "name": "stdout",
     "output_type": "stream",
     "text": [
      "epoch 134| loss: 0.0638  | train_mse: 0.07843 | train_mae: 0.20517 |  0:00:09s\n",
      "epoch 135| loss: 0.11798 | train_mse: 0.06726 | train_mae: 0.19435 |  0:00:09s\n",
      "epoch 136| loss: 0.07786 | train_mse: 0.04947 | train_mae: 0.17608 |  0:00:09s\n",
      "epoch 137| loss: 0.07358 | train_mse: 0.04634 | train_mae: 0.1737  |  0:00:09s\n"
     ]
    },
    {
     "name": "stdout",
     "output_type": "stream",
     "text": [
      "epoch 138| loss: 0.06646 | train_mse: 0.0647  | train_mae: 0.19282 |  0:00:09s\n",
      "epoch 139| loss: 0.08208 | train_mse: 0.08374 | train_mae: 0.22387 |  0:00:09s\n",
      "epoch 140| loss: 0.20795 | train_mse: 0.09168 | train_mae: 0.23706 |  0:00:09s\n",
      "epoch 141| loss: 0.07096 | train_mse: 0.07952 | train_mae: 0.2146  |  0:00:09s\n"
     ]
    },
    {
     "name": "stdout",
     "output_type": "stream",
     "text": [
      "epoch 142| loss: 0.09312 | train_mse: 0.0681  | train_mae: 0.20097 |  0:00:10s\n",
      "epoch 143| loss: 0.07996 | train_mse: 0.05694 | train_mae: 0.18716 |  0:00:10s\n",
      "epoch 144| loss: 0.14706 | train_mse: 0.06172 | train_mae: 0.1963  |  0:00:10s\n"
     ]
    },
    {
     "name": "stdout",
     "output_type": "stream",
     "text": [
      "epoch 145| loss: 0.11049 | train_mse: 0.06582 | train_mae: 0.1971  |  0:00:10s\n",
      "epoch 146| loss: 0.08655 | train_mse: 0.06332 | train_mae: 0.18304 |  0:00:10s\n",
      "epoch 147| loss: 0.10158 | train_mse: 0.04679 | train_mae: 0.1676  |  0:00:10s\n",
      "epoch 148| loss: 0.06348 | train_mse: 0.04066 | train_mae: 0.16337 |  0:00:10s\n"
     ]
    },
    {
     "name": "stdout",
     "output_type": "stream",
     "text": [
      "epoch 149| loss: 0.0634  | train_mse: 0.03859 | train_mae: 0.15553 |  0:00:10s\n",
      "epoch 150| loss: 0.08006 | train_mse: 0.04427 | train_mae: 0.17134 |  0:00:10s\n",
      "epoch 151| loss: 0.07824 | train_mse: 0.04163 | train_mae: 0.16807 |  0:00:10s\n",
      "epoch 152| loss: 0.09126 | train_mse: 0.04714 | train_mae: 0.16742 |  0:00:10s\n"
     ]
    },
    {
     "name": "stdout",
     "output_type": "stream",
     "text": [
      "epoch 153| loss: 0.09153 | train_mse: 0.0595  | train_mae: 0.17418 |  0:00:10s\n",
      "epoch 154| loss: 0.05781 | train_mse: 0.05334 | train_mae: 0.17145 |  0:00:10s\n",
      "epoch 155| loss: 0.05122 | train_mse: 0.05256 | train_mae: 0.17566 |  0:00:10s\n",
      "epoch 156| loss: 0.07759 | train_mse: 0.05581 | train_mae: 0.17376 |  0:00:10s\n"
     ]
    },
    {
     "name": "stdout",
     "output_type": "stream",
     "text": [
      "epoch 157| loss: 0.09605 | train_mse: 0.04913 | train_mae: 0.17077 |  0:00:11s\n",
      "epoch 158| loss: 0.05618 | train_mse: 0.04977 | train_mae: 0.17075 |  0:00:11s\n",
      "epoch 159| loss: 0.09051 | train_mse: 0.05068 | train_mae: 0.17027 |  0:00:11s\n",
      "epoch 160| loss: 0.11369 | train_mse: 0.05477 | train_mae: 0.17159 |  0:00:11s\n"
     ]
    },
    {
     "name": "stdout",
     "output_type": "stream",
     "text": [
      "epoch 161| loss: 0.08216 | train_mse: 0.09024 | train_mae: 0.20496 |  0:00:11s\n",
      "epoch 162| loss: 0.0701  | train_mse: 0.11029 | train_mae: 0.21744 |  0:00:11s\n",
      "epoch 163| loss: 0.20641 | train_mse: 0.15524 | train_mae: 0.25212 |  0:00:11s\n",
      "epoch 164| loss: 0.07757 | train_mse: 0.08001 | train_mae: 0.20951 |  0:00:11s\n"
     ]
    },
    {
     "name": "stdout",
     "output_type": "stream",
     "text": [
      "epoch 165| loss: 0.08851 | train_mse: 0.04916 | train_mae: 0.17084 |  0:00:11s\n",
      "epoch 166| loss: 0.15002 | train_mse: 0.03796 | train_mae: 0.15596 |  0:00:11s\n",
      "epoch 167| loss: 0.10277 | train_mse: 0.04468 | train_mae: 0.16533 |  0:00:11s\n",
      "epoch 168| loss: 0.05629 | train_mse: 0.05499 | train_mae: 0.17332 |  0:00:11s\n"
     ]
    },
    {
     "name": "stdout",
     "output_type": "stream",
     "text": [
      "epoch 169| loss: 0.08987 | train_mse: 0.07511 | train_mae: 0.18946 |  0:00:11s\n",
      "epoch 170| loss: 0.14231 | train_mse: 0.09347 | train_mae: 0.20726 |  0:00:11s\n",
      "epoch 171| loss: 0.08587 | train_mse: 0.08944 | train_mae: 0.2016  |  0:00:11s\n"
     ]
    },
    {
     "name": "stdout",
     "output_type": "stream",
     "text": [
      "epoch 172| loss: 0.07422 | train_mse: 0.10866 | train_mae: 0.23438 |  0:00:12s\n",
      "epoch 173| loss: 0.10991 | train_mse: 0.09787 | train_mae: 0.22734 |  0:00:12s\n",
      "epoch 174| loss: 0.12261 | train_mse: 0.05797 | train_mae: 0.18356 |  0:00:12s\n",
      "epoch 175| loss: 0.09338 | train_mse: 0.07604 | train_mae: 0.19094 |  0:00:12s\n"
     ]
    },
    {
     "name": "stdout",
     "output_type": "stream",
     "text": [
      "epoch 176| loss: 0.08956 | train_mse: 0.06866 | train_mae: 0.19102 |  0:00:12s\n",
      "epoch 177| loss: 0.14537 | train_mse: 0.05516 | train_mae: 0.18739 |  0:00:12s\n",
      "epoch 178| loss: 0.2272  | train_mse: 0.04058 | train_mae: 0.16467 |  0:00:12s\n",
      "epoch 179| loss: 0.05852 | train_mse: 0.04136 | train_mae: 0.16496 |  0:00:12s\n"
     ]
    },
    {
     "name": "stdout",
     "output_type": "stream",
     "text": [
      "epoch 180| loss: 0.0755  | train_mse: 0.04712 | train_mae: 0.16676 |  0:00:12s\n",
      "epoch 181| loss: 0.11839 | train_mse: 0.05468 | train_mae: 0.1694  |  0:00:12s\n",
      "epoch 182| loss: 0.05607 | train_mse: 0.04887 | train_mae: 0.16447 |  0:00:12s\n",
      "epoch 183| loss: 0.11757 | train_mse: 0.05459 | train_mae: 0.17982 |  0:00:12s\n"
     ]
    },
    {
     "name": "stdout",
     "output_type": "stream",
     "text": [
      "epoch 184| loss: 0.12363 | train_mse: 0.06298 | train_mae: 0.19179 |  0:00:12s\n",
      "epoch 185| loss: 0.16754 | train_mse: 0.0482  | train_mae: 0.17279 |  0:00:12s\n",
      "epoch 186| loss: 0.07437 | train_mse: 0.0525  | train_mae: 0.18211 |  0:00:12s\n",
      "epoch 187| loss: 0.0801  | train_mse: 0.0509  | train_mae: 0.17345 |  0:00:13s\n"
     ]
    },
    {
     "name": "stdout",
     "output_type": "stream",
     "text": [
      "epoch 188| loss: 0.05397 | train_mse: 0.05516 | train_mae: 0.1691  |  0:00:13s\n",
      "epoch 189| loss: 0.11777 | train_mse: 0.05352 | train_mae: 0.16536 |  0:00:13s\n",
      "epoch 190| loss: 0.05703 | train_mse: 0.04182 | train_mae: 0.16465 |  0:00:13s\n",
      "epoch 191| loss: 0.1221  | train_mse: 0.05619 | train_mae: 0.18269 |  0:00:13s\n"
     ]
    },
    {
     "name": "stdout",
     "output_type": "stream",
     "text": [
      "epoch 192| loss: 0.13359 | train_mse: 0.07843 | train_mae: 0.19467 |  0:00:13s\n",
      "epoch 193| loss: 0.09412 | train_mse: 0.06797 | train_mae: 0.18881 |  0:00:13s\n",
      "epoch 194| loss: 0.0626  | train_mse: 0.0503  | train_mae: 0.1685  |  0:00:13s\n",
      "epoch 195| loss: 0.08064 | train_mse: 0.04302 | train_mae: 0.15187 |  0:00:13s\n"
     ]
    },
    {
     "name": "stdout",
     "output_type": "stream",
     "text": [
      "epoch 196| loss: 0.05955 | train_mse: 0.07139 | train_mae: 0.18428 |  0:00:13s\n",
      "epoch 197| loss: 0.07522 | train_mse: 0.09218 | train_mae: 0.20838 |  0:00:13s\n",
      "epoch 198| loss: 0.10138 | train_mse: 0.07964 | train_mae: 0.19805 |  0:00:13s\n",
      "epoch 199| loss: 0.1296  | train_mse: 0.0803  | train_mae: 0.19411 |  0:00:13s\n"
     ]
    },
    {
     "name": "stdout",
     "output_type": "stream",
     "text": [
      "epoch 200| loss: 0.05436 | train_mse: 0.06789 | train_mae: 0.17835 |  0:00:13s\n",
      "epoch 201| loss: 0.07396 | train_mse: 0.07498 | train_mae: 0.18244 |  0:00:13s\n",
      "epoch 202| loss: 0.10805 | train_mse: 0.07489 | train_mae: 0.18043 |  0:00:13s\n"
     ]
    },
    {
     "name": "stdout",
     "output_type": "stream",
     "text": [
      "epoch 203| loss: 0.08177 | train_mse: 0.07605 | train_mae: 0.203   |  0:00:14s\n",
      "epoch 204| loss: 0.06542 | train_mse: 0.06024 | train_mae: 0.19371 |  0:00:14s\n",
      "epoch 205| loss: 0.05615 | train_mse: 0.04281 | train_mae: 0.15756 |  0:00:14s\n",
      "epoch 206| loss: 0.08738 | train_mse: 0.03826 | train_mae: 0.15345 |  0:00:14s\n"
     ]
    },
    {
     "name": "stdout",
     "output_type": "stream",
     "text": [
      "epoch 207| loss: 0.09379 | train_mse: 0.03174 | train_mae: 0.13983 |  0:00:14s\n",
      "epoch 208| loss: 0.04478 | train_mse: 0.03771 | train_mae: 0.14442 |  0:00:14s\n",
      "epoch 209| loss: 0.0915  | train_mse: 0.0454  | train_mae: 0.16336 |  0:00:14s\n",
      "epoch 210| loss: 0.06434 | train_mse: 0.03698 | train_mae: 0.15313 |  0:00:14s\n"
     ]
    },
    {
     "name": "stdout",
     "output_type": "stream",
     "text": [
      "epoch 211| loss: 0.07316 | train_mse: 0.03309 | train_mae: 0.14384 |  0:00:14s\n",
      "epoch 212| loss: 0.15386 | train_mse: 0.04639 | train_mae: 0.15652 |  0:00:14s\n",
      "epoch 213| loss: 0.05569 | train_mse: 0.04928 | train_mae: 0.15252 |  0:00:14s\n",
      "epoch 214| loss: 0.07593 | train_mse: 0.04636 | train_mae: 0.15711 |  0:00:14s\n"
     ]
    },
    {
     "name": "stdout",
     "output_type": "stream",
     "text": [
      "epoch 215| loss: 0.05799 | train_mse: 0.03893 | train_mae: 0.14997 |  0:00:14s\n",
      "epoch 216| loss: 0.06828 | train_mse: 0.03376 | train_mae: 0.14303 |  0:00:14s\n",
      "epoch 217| loss: 0.05908 | train_mse: 0.02801 | train_mae: 0.12943 |  0:00:14s\n"
     ]
    },
    {
     "name": "stdout",
     "output_type": "stream",
     "text": [
      "epoch 218| loss: 0.06236 | train_mse: 0.02607 | train_mae: 0.12815 |  0:00:15s\n",
      "epoch 219| loss: 0.05494 | train_mse: 0.04092 | train_mae: 0.14484 |  0:00:15s\n",
      "epoch 220| loss: 0.0823  | train_mse: 0.04763 | train_mae: 0.15549 |  0:00:15s\n",
      "epoch 221| loss: 0.08224 | train_mse: 0.05475 | train_mae: 0.17169 |  0:00:15s\n"
     ]
    },
    {
     "name": "stdout",
     "output_type": "stream",
     "text": [
      "epoch 222| loss: 0.05478 | train_mse: 0.04215 | train_mae: 0.16348 |  0:00:15s\n",
      "epoch 223| loss: 0.08496 | train_mse: 0.03606 | train_mae: 0.15389 |  0:00:15s\n",
      "epoch 224| loss: 0.07481 | train_mse: 0.03623 | train_mae: 0.15457 |  0:00:15s\n",
      "epoch 225| loss: 0.0881  | train_mse: 0.03662 | train_mae: 0.15128 |  0:00:15s\n"
     ]
    },
    {
     "name": "stdout",
     "output_type": "stream",
     "text": [
      "epoch 226| loss: 0.08514 | train_mse: 0.03898 | train_mae: 0.14778 |  0:00:15s\n",
      "epoch 227| loss: 0.15002 | train_mse: 0.03823 | train_mae: 0.14165 |  0:00:15s\n",
      "epoch 228| loss: 0.05208 | train_mse: 0.07048 | train_mae: 0.17825 |  0:00:15s\n",
      "epoch 229| loss: 0.08804 | train_mse: 0.0878  | train_mae: 0.19295 |  0:00:15s\n"
     ]
    },
    {
     "name": "stdout",
     "output_type": "stream",
     "text": [
      "epoch 230| loss: 0.04301 | train_mse: 0.11322 | train_mae: 0.20806 |  0:00:15s\n",
      "epoch 231| loss: 0.06768 | train_mse: 0.12174 | train_mae: 0.20937 |  0:00:15s\n",
      "epoch 232| loss: 0.04908 | train_mse: 0.14194 | train_mae: 0.22232 |  0:00:15s\n"
     ]
    },
    {
     "name": "stdout",
     "output_type": "stream",
     "text": [
      "epoch 233| loss: 0.06144 | train_mse: 0.10925 | train_mae: 0.20979 |  0:00:16s\n",
      "epoch 234| loss: 0.04882 | train_mse: 0.07335 | train_mae: 0.19114 |  0:00:16s\n",
      "epoch 235| loss: 0.05658 | train_mse: 0.06745 | train_mae: 0.1871  |  0:00:16s\n",
      "epoch 236| loss: 0.05842 | train_mse: 0.06442 | train_mae: 0.17878 |  0:00:16s\n",
      "epoch 237| loss: 0.09689 | train_mse: 0.0709  | train_mae: 0.18784 |  0:00:16s\n"
     ]
    },
    {
     "name": "stdout",
     "output_type": "stream",
     "text": [
      "epoch 238| loss: 0.10651 | train_mse: 0.05432 | train_mae: 0.17472 |  0:00:16s\n",
      "epoch 239| loss: 0.06141 | train_mse: 0.03599 | train_mae: 0.1477  |  0:00:16s\n",
      "epoch 240| loss: 0.06484 | train_mse: 0.03723 | train_mae: 0.14744 |  0:00:16s\n",
      "epoch 241| loss: 0.05899 | train_mse: 0.0322  | train_mae: 0.13929 |  0:00:16s\n"
     ]
    },
    {
     "name": "stdout",
     "output_type": "stream",
     "text": [
      "epoch 242| loss: 0.07135 | train_mse: 0.03011 | train_mae: 0.13362 |  0:00:16s\n",
      "epoch 243| loss: 0.04717 | train_mse: 0.0291  | train_mae: 0.13529 |  0:00:16s\n",
      "epoch 244| loss: 0.06234 | train_mse: 0.03    | train_mae: 0.14099 |  0:00:16s\n",
      "epoch 245| loss: 0.03485 | train_mse: 0.02465 | train_mae: 0.12354 |  0:00:16s\n"
     ]
    },
    {
     "name": "stdout",
     "output_type": "stream",
     "text": [
      "epoch 246| loss: 0.06565 | train_mse: 0.02517 | train_mae: 0.12355 |  0:00:16s\n",
      "epoch 247| loss: 0.12904 | train_mse: 0.03686 | train_mae: 0.14596 |  0:00:16s\n",
      "epoch 248| loss: 0.06815 | train_mse: 0.06489 | train_mae: 0.18378 |  0:00:17s\n"
     ]
    },
    {
     "name": "stdout",
     "output_type": "stream",
     "text": [
      "epoch 249| loss: 0.04043 | train_mse: 0.06587 | train_mae: 0.17959 |  0:00:17s\n",
      "epoch 250| loss: 0.05959 | train_mse: 0.06065 | train_mae: 0.1676  |  0:00:17s\n",
      "epoch 251| loss: 0.08876 | train_mse: 0.04822 | train_mae: 0.16198 |  0:00:17s\n",
      "epoch 252| loss: 0.06955 | train_mse: 0.05398 | train_mae: 0.16679 |  0:00:17s\n",
      "epoch 253| loss: 0.04615 | train_mse: 0.08892 | train_mae: 0.1938  |  0:00:17s\n"
     ]
    },
    {
     "name": "stdout",
     "output_type": "stream",
     "text": [
      "epoch 254| loss: 0.08948 | train_mse: 0.08327 | train_mae: 0.18828 |  0:00:17s\n",
      "epoch 255| loss: 0.08441 | train_mse: 0.04632 | train_mae: 0.15596 |  0:00:17s\n",
      "epoch 256| loss: 0.06503 | train_mse: 0.03328 | train_mae: 0.13266 |  0:00:17s\n",
      "epoch 257| loss: 0.05543 | train_mse: 0.02748 | train_mae: 0.12245 |  0:00:17s\n"
     ]
    },
    {
     "name": "stdout",
     "output_type": "stream",
     "text": [
      "epoch 258| loss: 0.2065  | train_mse: 0.02806 | train_mae: 0.12794 |  0:00:17s\n",
      "epoch 259| loss: 0.0597  | train_mse: 0.05117 | train_mae: 0.15993 |  0:00:17s\n",
      "epoch 260| loss: 0.089   | train_mse: 0.04903 | train_mae: 0.15598 |  0:00:17s\n",
      "epoch 261| loss: 0.03944 | train_mse: 0.04621 | train_mae: 0.15254 |  0:00:17s\n"
     ]
    },
    {
     "name": "stdout",
     "output_type": "stream",
     "text": [
      "epoch 262| loss: 0.05073 | train_mse: 0.03253 | train_mae: 0.12843 |  0:00:17s\n",
      "epoch 263| loss: 0.1123  | train_mse: 0.03145 | train_mae: 0.13268 |  0:00:18s\n",
      "epoch 264| loss: 0.05613 | train_mse: 0.04397 | train_mae: 0.14973 |  0:00:18s\n",
      "epoch 265| loss: 0.09641 | train_mse: 0.05954 | train_mae: 0.16505 |  0:00:18s\n"
     ]
    },
    {
     "name": "stdout",
     "output_type": "stream",
     "text": [
      "epoch 266| loss: 0.12933 | train_mse: 0.06732 | train_mae: 0.15817 |  0:00:18s\n",
      "epoch 267| loss: 0.1507  | train_mse: 0.07477 | train_mae: 0.17061 |  0:00:18s\n",
      "epoch 268| loss: 0.11946 | train_mse: 0.06429 | train_mae: 0.18538 |  0:00:18s\n",
      "epoch 269| loss: 0.08968 | train_mse: 0.04406 | train_mae: 0.16547 |  0:00:18s\n"
     ]
    },
    {
     "name": "stdout",
     "output_type": "stream",
     "text": [
      "epoch 270| loss: 0.09858 | train_mse: 0.04174 | train_mae: 0.1528  |  0:00:18s\n",
      "epoch 271| loss: 0.18193 | train_mse: 0.07881 | train_mae: 0.20546 |  0:00:18s\n",
      "epoch 272| loss: 0.23646 | train_mse: 0.10442 | train_mae: 0.22629 |  0:00:18s\n",
      "epoch 273| loss: 0.20036 | train_mse: 0.1211  | train_mae: 0.23327 |  0:00:18s\n"
     ]
    },
    {
     "name": "stdout",
     "output_type": "stream",
     "text": [
      "epoch 274| loss: 0.0908  | train_mse: 0.11031 | train_mae: 0.22346 |  0:00:18s\n",
      "epoch 275| loss: 0.12993 | train_mse: 0.16217 | train_mae: 0.26311 |  0:00:18s\n",
      "epoch 276| loss: 0.06346 | train_mse: 0.13293 | train_mae: 0.23791 |  0:00:18s\n",
      "epoch 277| loss: 0.10607 | train_mse: 0.08314 | train_mae: 0.19889 |  0:00:18s\n"
     ]
    },
    {
     "name": "stdout",
     "output_type": "stream",
     "text": [
      "epoch 278| loss: 0.0618  | train_mse: 0.06327 | train_mae: 0.17895 |  0:00:18s\n",
      "epoch 279| loss: 0.0744  | train_mse: 0.05075 | train_mae: 0.16133 |  0:00:19s\n",
      "epoch 280| loss: 0.06223 | train_mse: 0.0454  | train_mae: 0.16135 |  0:00:19s\n"
     ]
    },
    {
     "name": "stdout",
     "output_type": "stream",
     "text": [
      "epoch 281| loss: 0.09105 | train_mse: 0.04507 | train_mae: 0.16391 |  0:00:19s\n",
      "epoch 282| loss: 0.10918 | train_mse: 0.03771 | train_mae: 0.15668 |  0:00:19s\n",
      "epoch 283| loss: 0.05107 | train_mse: 0.03313 | train_mae: 0.14811 |  0:00:19s\n",
      "epoch 284| loss: 0.05586 | train_mse: 0.03197 | train_mae: 0.14813 |  0:00:19s\n"
     ]
    },
    {
     "name": "stdout",
     "output_type": "stream",
     "text": [
      "epoch 285| loss: 0.0552  | train_mse: 0.04031 | train_mae: 0.15592 |  0:00:19s\n",
      "epoch 286| loss: 0.04873 | train_mse: 0.04187 | train_mae: 0.14849 |  0:00:19s\n",
      "epoch 287| loss: 0.07207 | train_mse: 0.0556  | train_mae: 0.16424 |  0:00:19s\n",
      "epoch 288| loss: 0.0682  | train_mse: 0.07539 | train_mae: 0.18398 |  0:00:19s\n"
     ]
    },
    {
     "name": "stdout",
     "output_type": "stream",
     "text": [
      "epoch 289| loss: 0.12132 | train_mse: 0.04032 | train_mae: 0.14682 |  0:00:19s\n",
      "epoch 290| loss: 0.06496 | train_mse: 0.02443 | train_mae: 0.11961 |  0:00:19s\n",
      "epoch 291| loss: 0.06621 | train_mse: 0.0265  | train_mae: 0.12665 |  0:00:19s\n"
     ]
    },
    {
     "name": "stdout",
     "output_type": "stream",
     "text": [
      "epoch 292| loss: 0.0592  | train_mse: 0.04218 | train_mae: 0.14505 |  0:00:19s\n",
      "epoch 293| loss: 0.1402  | train_mse: 0.04275 | train_mae: 0.14122 |  0:00:20s\n",
      "epoch 294| loss: 0.06141 | train_mse: 0.05592 | train_mae: 0.16011 |  0:00:20s\n"
     ]
    },
    {
     "name": "stdout",
     "output_type": "stream",
     "text": [
      "epoch 295| loss: 0.0471  | train_mse: 0.07933 | train_mae: 0.17888 |  0:00:20s\n",
      "epoch 296| loss: 0.13541 | train_mse: 0.08826 | train_mae: 0.18376 |  0:00:20s\n",
      "epoch 297| loss: 0.04944 | train_mse: 0.09051 | train_mae: 0.18606 |  0:00:20s\n",
      "epoch 298| loss: 0.03989 | train_mse: 0.08535 | train_mae: 0.18947 |  0:00:20s\n"
     ]
    },
    {
     "name": "stdout",
     "output_type": "stream",
     "text": [
      "epoch 299| loss: 0.0875  | train_mse: 0.0747  | train_mae: 0.18312 |  0:00:20s\n",
      "epoch 300| loss: 0.08467 | train_mse: 0.05963 | train_mae: 0.16407 |  0:00:20s\n",
      "epoch 301| loss: 0.05648 | train_mse: 0.05214 | train_mae: 0.15894 |  0:00:20s\n"
     ]
    },
    {
     "name": "stdout",
     "output_type": "stream",
     "text": [
      "epoch 302| loss: 0.06894 | train_mse: 0.04745 | train_mae: 0.15856 |  0:00:20s\n",
      "epoch 303| loss: 0.04131 | train_mse: 0.03839 | train_mae: 0.15464 |  0:00:20s\n",
      "epoch 304| loss: 0.07204 | train_mse: 0.03077 | train_mae: 0.14176 |  0:00:20s\n",
      "epoch 305| loss: 0.07262 | train_mse: 0.07839 | train_mae: 0.18312 |  0:00:20s\n"
     ]
    },
    {
     "name": "stdout",
     "output_type": "stream",
     "text": [
      "epoch 306| loss: 0.04996 | train_mse: 0.13607 | train_mae: 0.22009 |  0:00:20s\n",
      "epoch 307| loss: 0.05533 | train_mse: 0.13175 | train_mae: 0.22337 |  0:00:20s\n",
      "epoch 308| loss: 0.08902 | train_mse: 0.09824 | train_mae: 0.20515 |  0:00:21s\n"
     ]
    },
    {
     "name": "stdout",
     "output_type": "stream",
     "text": [
      "epoch 309| loss: 0.0571  | train_mse: 0.12048 | train_mae: 0.23257 |  0:00:21s\n",
      "epoch 310| loss: 0.06009 | train_mse: 0.14373 | train_mae: 0.23993 |  0:00:21s\n",
      "epoch 311| loss: 0.09601 | train_mse: 0.16702 | train_mae: 0.23084 |  0:00:21s\n",
      "epoch 312| loss: 0.11037 | train_mse: 0.15597 | train_mae: 0.23553 |  0:00:21s\n"
     ]
    },
    {
     "name": "stdout",
     "output_type": "stream",
     "text": [
      "epoch 313| loss: 0.06877 | train_mse: 0.12247 | train_mae: 0.21772 |  0:00:21s\n",
      "epoch 314| loss: 0.07326 | train_mse: 0.07389 | train_mae: 0.18018 |  0:00:21s\n",
      "epoch 315| loss: 0.0602  | train_mse: 0.03384 | train_mae: 0.13996 |  0:00:21s\n"
     ]
    },
    {
     "name": "stdout",
     "output_type": "stream",
     "text": [
      "epoch 316| loss: 0.04915 | train_mse: 0.02891 | train_mae: 0.13941 |  0:00:21s\n",
      "epoch 317| loss: 0.0485  | train_mse: 0.03628 | train_mae: 0.15203 |  0:00:21s\n",
      "epoch 318| loss: 0.07655 | train_mse: 0.04639 | train_mae: 0.16216 |  0:00:21s\n",
      "epoch 319| loss: 0.05086 | train_mse: 0.06372 | train_mae: 0.17611 |  0:00:21s\n"
     ]
    },
    {
     "name": "stdout",
     "output_type": "stream",
     "text": [
      "epoch 320| loss: 0.09752 | train_mse: 0.06697 | train_mae: 0.17249 |  0:00:21s\n",
      "epoch 321| loss: 0.04368 | train_mse: 0.08325 | train_mae: 0.18699 |  0:00:21s\n",
      "epoch 322| loss: 0.04827 | train_mse: 0.08975 | train_mae: 0.18774 |  0:00:21s\n"
     ]
    },
    {
     "name": "stdout",
     "output_type": "stream",
     "text": [
      "epoch 323| loss: 0.05003 | train_mse: 0.07548 | train_mae: 0.17076 |  0:00:22s\n",
      "epoch 324| loss: 0.11187 | train_mse: 0.0678  | train_mae: 0.16343 |  0:00:22s\n",
      "epoch 325| loss: 0.09787 | train_mse: 0.0622  | train_mae: 0.16173 |  0:00:22s\n",
      "epoch 326| loss: 0.05416 | train_mse: 0.05637 | train_mae: 0.16865 |  0:00:22s\n",
      "epoch 327| loss: 0.0503  | train_mse: 0.03778 | train_mae: 0.14046 |  0:00:22s\n"
     ]
    },
    {
     "name": "stdout",
     "output_type": "stream",
     "text": [
      "epoch 328| loss: 0.03869 | train_mse: 0.02908 | train_mae: 0.12256 |  0:00:22s\n",
      "epoch 329| loss: 0.04714 | train_mse: 0.03375 | train_mae: 0.13916 |  0:00:22s\n",
      "epoch 330| loss: 0.04726 | train_mse: 0.0324  | train_mae: 0.13618 |  0:00:22s\n",
      "epoch 331| loss: 0.10504 | train_mse: 0.02839 | train_mae: 0.12357 |  0:00:22s\n"
     ]
    },
    {
     "name": "stdout",
     "output_type": "stream",
     "text": [
      "epoch 332| loss: 0.05201 | train_mse: 0.04495 | train_mae: 0.1559  |  0:00:22s\n",
      "epoch 333| loss: 0.0588  | train_mse: 0.04532 | train_mae: 0.15423 |  0:00:22s\n",
      "epoch 334| loss: 0.05807 | train_mse: 0.04494 | train_mae: 0.15527 |  0:00:22s\n",
      "epoch 335| loss: 0.07547 | train_mse: 0.05562 | train_mae: 0.16672 |  0:00:22s\n"
     ]
    },
    {
     "name": "stdout",
     "output_type": "stream",
     "text": [
      "epoch 336| loss: 0.06617 | train_mse: 0.069   | train_mae: 0.18456 |  0:00:22s\n",
      "epoch 337| loss: 0.08218 | train_mse: 0.06794 | train_mae: 0.17987 |  0:00:22s\n",
      "epoch 338| loss: 0.06252 | train_mse: 0.06303 | train_mae: 0.17614 |  0:00:23s\n"
     ]
    },
    {
     "name": "stdout",
     "output_type": "stream",
     "text": [
      "epoch 339| loss: 0.05981 | train_mse: 0.04278 | train_mae: 0.1439  |  0:00:23s\n",
      "epoch 340| loss: 0.04136 | train_mse: 0.05406 | train_mae: 0.15739 |  0:00:23s\n",
      "\n",
      "Early stopping occurred at epoch 340 with best_epoch = 290 and best_train_mae = 0.11961\n",
      "Best weights from best epoch are automatically used!\n"
     ]
    }
   ],
   "source": [
    "#Train the Model\n",
    "\n",
    "Y_train = np.reshape(Y_train, (-1, 1))\n",
    "Y_test = np.reshape(Y_test, (-1, 1))\n",
    "\n",
    "prior_model = TabNetRegressor(optimizer_fn=torch.optim.Adam, optimizer_params=dict(lr = 0.02),\n",
    "          #scheduler_params={\"step_size\":10, ], \"gamma\":0.9},\n",
    "          #scheduler_fn=torch.optim.lr_scheduler.StepLR\n",
    "          )  #TabNetRegressor()\n",
    "\n",
    "prior_model.fit(X_train,Y_train,eval_set=[(X_train, Y_train)],\n",
    "            eval_name=['train'], \n",
    "            eval_metric=[ 'mse', 'mae'], \n",
    "            max_epochs = n_epochs, \n",
    "            batch_size = batch_size,\n",
    "            patience=50\n",
    "            )"
   ]
  },
  {
   "cell_type": "code",
   "execution_count": 10,
   "id": "af65dcda",
   "metadata": {
    "execution": {
     "iopub.execute_input": "2022-06-22T14:53:50.470431Z",
     "iopub.status.busy": "2022-06-22T14:53:50.469658Z",
     "iopub.status.idle": "2022-06-22T14:53:50.489552Z",
     "shell.execute_reply": "2022-06-22T14:53:50.490155Z"
    },
    "id": "af65dcda",
    "papermill": {
     "duration": 0.068811,
     "end_time": "2022-06-22T14:53:50.490373",
     "exception": false,
     "start_time": "2022-06-22T14:53:50.421562",
     "status": "completed"
    },
    "tags": []
   },
   "outputs": [
    {
     "data": {
      "application/scrapbook.scrap.json+json": {
       "data": 0.2655610478092023,
       "encoder": "json",
       "name": "Prior Model MSE",
       "version": 1
      }
     },
     "metadata": {
      "scrapbook": {
       "data": true,
       "display": false,
       "name": "Prior Model MSE"
      }
     },
     "output_type": "display_data"
    },
    {
     "data": {
      "application/scrapbook.scrap.json+json": {
       "data": 0.7587942640749392,
       "encoder": "json",
       "name": "ABC Pre-generator MSE",
       "version": 1
      }
     },
     "metadata": {
      "scrapbook": {
       "data": true,
       "display": false,
       "name": "ABC Pre-generator MSE"
      }
     },
     "output_type": "display_data"
    },
    {
     "data": {
      "application/scrapbook.scrap.json+json": {
       "data": 0.3583700272520606,
       "encoder": "json",
       "name": "Prior Model MSE",
       "version": 1
      }
     },
     "metadata": {
      "scrapbook": {
       "data": true,
       "display": false,
       "name": "Prior Model MSE"
      }
     },
     "output_type": "display_data"
    },
    {
     "data": {
      "application/scrapbook.scrap.json+json": {
       "data": 0.6184727912328916,
       "encoder": "json",
       "name": "ABC Pre-generator MSE",
       "version": 1
      }
     },
     "metadata": {
      "scrapbook": {
       "data": true,
       "display": false,
       "name": "ABC Pre-generator MSE"
      }
     },
     "output_type": "display_data"
    }
   ],
   "source": [
    "y_pred = prior_model.predict(X_test)\n",
    "y_abc = y_pred + np.random.normal(0,variance, y_pred.shape) + bias \n",
    "mse = mean_squared_error(y_pred,Y_test)\n",
    "sb.glue(\"Prior Model MSE\",mse)\n",
    "mse = mean_squared_error(y_abc,Y_test)\n",
    "sb.glue(\"ABC Pre-generator MSE\",mse)\n",
    "mae = mean_absolute_error(y_pred,Y_test)\n",
    "sb.glue(\"Prior Model MSE\",mae)\n",
    "mae = mean_absolute_error(y_abc,Y_test)\n",
    "sb.glue(\"ABC Pre-generator MSE\",mae)"
   ]
  },
  {
   "cell_type": "markdown",
   "id": "25609da2",
   "metadata": {
    "papermill": {
     "duration": 0.041569,
     "end_time": "2022-06-22T14:53:50.574028",
     "exception": false,
     "start_time": "2022-06-22T14:53:50.532459",
     "status": "completed"
    },
    "tags": []
   },
   "source": [
    "# ABC GAN Model"
   ]
  },
  {
   "cell_type": "code",
   "execution_count": 11,
   "id": "dfc3464d",
   "metadata": {
    "execution": {
     "iopub.execute_input": "2022-06-22T14:53:50.659204Z",
     "iopub.status.busy": "2022-06-22T14:53:50.658468Z",
     "iopub.status.idle": "2022-06-22T14:53:50.660621Z",
     "shell.execute_reply": "2022-06-22T14:53:50.661186Z"
    },
    "papermill": {
     "duration": 0.048944,
     "end_time": "2022-06-22T14:53:50.661397",
     "exception": false,
     "start_time": "2022-06-22T14:53:50.612453",
     "status": "completed"
    },
    "tags": []
   },
   "outputs": [],
   "source": [
    "gen = network.Generator(n_features+1).to(device)\n",
    "disc = network.Discriminator(n_features+1).to(device)\n",
    "\n",
    "criterion = torch.nn.BCELoss()\n",
    "gen_opt = torch.optim.Adam(gen.parameters(), lr=0.001, betas=(0.5, 0.999))\n",
    "disc_opt = torch.optim.Adam(disc.parameters(), lr=0.001, betas=(0.5, 0.999))"
   ]
  },
  {
   "cell_type": "code",
   "execution_count": 12,
   "id": "b75fdd85",
   "metadata": {
    "execution": {
     "iopub.execute_input": "2022-06-22T14:53:50.744512Z",
     "iopub.status.busy": "2022-06-22T14:53:50.743786Z",
     "iopub.status.idle": "2022-06-22T14:54:32.593962Z",
     "shell.execute_reply": "2022-06-22T14:54:32.594634Z"
    },
    "papermill": {
     "duration": 41.89649,
     "end_time": "2022-06-22T14:54:32.594855",
     "exception": false,
     "start_time": "2022-06-22T14:53:50.698365",
     "status": "completed"
    },
    "tags": []
   },
   "outputs": [
    {
     "data": {
      "image/png": "[encoded data removed]",
      "text/plain": [
       "<Figure size 432x288 with 1 Axes>"
      ]
     },
     "metadata": {
      "needs_background": "light"
     },
     "output_type": "display_data"
    },
    {
     "data": {
      "image/png": "[encoded data removed]",
      "text/plain": [
       "<Figure size 432x288 with 1 Axes>"
      ]
     },
     "metadata": {
      "needs_background": "light"
     },
     "output_type": "display_data"
    }
   ],
   "source": [
    "#Training the ABC_GAN \n",
    "ABC_train_test2.training_GAN(disc,gen,disc_opt,gen_opt,train_data,batch_size,n_epochs,criterion,prior_model,variance,bias,device)"
   ]
  },
  {
   "cell_type": "code",
   "execution_count": 13,
   "id": "1fa7c368",
   "metadata": {
    "execution": {
     "iopub.execute_input": "2022-06-22T14:54:32.690001Z",
     "iopub.status.busy": "2022-06-22T14:54:32.688994Z",
     "iopub.status.idle": "2022-06-22T14:54:33.312717Z",
     "shell.execute_reply": "2022-06-22T14:54:33.313181Z"
    },
    "papermill": {
     "duration": 0.680015,
     "end_time": "2022-06-22T14:54:33.313389",
     "exception": false,
     "start_time": "2022-06-22T14:54:32.633374",
     "status": "completed"
    },
    "tags": []
   },
   "outputs": [
    {
     "data": {
      "application/scrapbook.scrap.json+json": {
       "data": 0.5132144025320975,
       "encoder": "json",
       "name": "ABC-GAN Model 1 MSE",
       "version": 1
      }
     },
     "metadata": {
      "scrapbook": {
       "data": true,
       "display": false,
       "name": "ABC-GAN Model 1 MSE"
      }
     },
     "output_type": "display_data"
    },
    {
     "data": {
      "application/scrapbook.scrap.json+json": {
       "data": 0.46753996348008514,
       "encoder": "json",
       "name": "ABC-GAN Model 1 MAE",
       "version": 1
      }
     },
     "metadata": {
      "scrapbook": {
       "data": true,
       "display": false,
       "name": "ABC-GAN Model 1 MAE"
      }
     },
     "output_type": "display_data"
    },
    {
     "data": {
      "application/scrapbook.scrap.json+json": {
       "data": 9.350799269601703,
       "encoder": "json",
       "name": "ABC-GAN Model 1 Manhattan Distance",
       "version": 1
      }
     },
     "metadata": {
      "scrapbook": {
       "data": true,
       "display": false,
       "name": "ABC-GAN Model 1 Manhattan Distance"
      }
     },
     "output_type": "display_data"
    },
    {
     "data": {
      "application/scrapbook.scrap.json+json": {
       "data": 3.203119417840565,
       "encoder": "json",
       "name": "ABC-GAN Model 1 Euclidean distance",
       "version": 1
      }
     },
     "metadata": {
      "scrapbook": {
       "data": true,
       "display": false,
       "name": "ABC-GAN Model 1 Euclidean distance"
      }
     },
     "output_type": "display_data"
    },
    {
     "data": {
      "application/scrapbook.scrap.json+json": {
       "data": [
        [
         0.5177037997727254,
         0.5221692640654255,
         0.5276790291928241,
         0.5281637728738604,
         0.5403860179452107,
         0.5321009736417298,
         0.4982533029926162,
         0.5267246868157286,
         0.5278881754447912,
         0.5213613160667131,
         0.5292132725962103,
         0.5032245640642514,
         0.5433023203823223,
         0.527061850392075,
         0.5199934715157666,
         0.4878562383028263,
         0.5115615010846176,
         0.5042460897090704,
         0.5173450772301471,
         0.5269423065139597,
         0.4395585575790986,
         0.5135928012496154,
         0.5434843731505722,
         0.5152911561979645,
         0.49986407066770255,
         0.5150628666144337,
         0.5091983930688823,
         0.5242801807433344,
         0.45151233775878064,
         0.5125968837912016,
         0.5173246413632904,
         0.5267805270805676,
         0.5300939899386334,
         0.4899224801520293,
         0.5211015836645133,
         0.5057668043455248,
         0.5241859537470301,
         0.5256322148609666,
         0.47918476567943236,
         0.500912678130613,
         0.5100076341425155,
         0.5278521241583051,
         0.521304972995472,
         0.5379134489975896,
         0.529150166104701,
         0.5013561270119049,
         0.5181964757159284,
         0.5152070671564363,
         0.46851386020744956,
         0.510086210841824,
         0.5124089638518166,
         0.520712134255364,
         0.5146263894413198,
         0.5372239704961255,
         0.5144378402664491,
         0.5124679798969948,
         0.5293460214253579,
         0.5301180017594547,
         0.5032757109823753,
         0.501149400455562,
         0.5153488125512911,
         0.5382813789714072,
         0.48239684310644126,
         0.4810187320231741,
         0.4972801539877425,
         0.5094711053994408,
         0.5184202031046243,
         0.5203987550540794,
         0.5183255922199934,
         0.5190471494721225,
         0.5266364722969031,
         0.5257630758312328,
         0.46368943576324995,
         0.4795451634032781,
         0.5408654336082439,
         0.528193245141578,
         0.5414927716798823,
         0.5242571842465582,
         0.5169394283894906,
         0.5182944554921792,
         0.4964453478730536,
         0.5033913432693843,
         0.5082026709121639,
         0.47598917238342836,
         0.5319870291516298,
         0.5266787033061223,
         0.4343286625745081,
         0.49966043862482135,
         0.5199893109306191,
         0.5010016347089631,
         0.5166695870672975,
         0.5052332584052478,
         0.5342812273759355,
         0.5039614576454302,
         0.5168523705404191,
         0.5369429225221853,
         0.5000171206644045,
         0.5200632731542718,
         0.5433291130429513,
         0.5068714267639927
        ],
        [
         0.46174444891512395,
         0.47196346074342727,
         0.46936390846967696,
         0.46405340880155566,
         0.48702957592904567,
         0.4769792005419731,
         0.46068141609430313,
         0.48025908321142197,
         0.4721698105335236,
         0.47448776811361315,
         0.4771363154053688,
         0.4619890868663788,
         0.47355460226535795,
         0.4561337247490883,
         0.4581484287977219,
         0.46585559844970703,
         0.47309024184942244,
         0.46405564844608305,
         0.4781979963183403,
         0.46541084796190263,
         0.4462064761668444,
         0.4651583507657051,
         0.47105218172073365,
         0.47258550971746444,
         0.46535817831754683,
         0.4702513564378023,
         0.47516538947820663,
         0.47076331339776517,
         0.45159009397029876,
         0.4571997970342636,
         0.47398365698754785,
         0.4886088684201241,
         0.48142083883285525,
         0.468892864882946,
         0.4793276786804199,
         0.47043812125921247,
         0.47579522281885145,
         0.47180245220661166,
         0.4550556927919388,
         0.4635026827454567,
         0.46402883231639863,
         0.47036232650279997,
         0.4739039584994316,
         0.4800693437457085,
         0.4756259128451347,
         0.4581580996513367,
         0.47711633145809174,
         0.4628834053874016,
         0.44002006500959395,
         0.4706207808107138,
         0.4688198994845152,
         0.4703829064965248,
         0.4606901556253433,
         0.47871037349104884,
         0.4538335531949997,
         0.4663853466510773,
         0.4672902047634125,
         0.47485397160053255,
         0.46795321740210055,
         0.4613545883446932,
         0.46221730299293995,
         0.4778271526098251,
         0.4490378871560097,
         0.45485810190439224,
         0.4674651395529509,
         0.4589221075177193,
         0.4587268099188805,
         0.46929657459259033,
         0.46480288952589033,
         0.485512413084507,
         0.46655154339969157,
         0.47053754776716233,
         0.42711052149534223,
         0.46852058321237566,
         0.469954676553607,
         0.4717132568359375,
         0.4909783869981766,
         0.4653046950697899,
         0.46996602416038513,
         0.46800345592200754,
         0.4535281270742416,
         0.46276742219924927,
         0.4733604550361633,
         0.4436249941587448,
         0.46923479475080965,
         0.48018756210803987,
         0.4482452467083931,
         0.4581537306308746,
         0.46689978539943694,
         0.46840113699436187,
         0.46794688515365124,
         0.4621987044811249,
         0.4759484827518463,
         0.4687196686863899,
         0.4735560894012451,
         0.475363190099597,
         0.4734529510140419,
         0.46623364090919495,
         0.4685446947813034,
         0.4707951430231333
        ],
        [
         9.234888978302479,
         9.439269214868546,
         9.38727816939354,
         9.281068176031113,
         9.740591518580914,
         9.539584010839462,
         9.213628321886063,
         9.60518166422844,
         9.443396210670471,
         9.489755362272263,
         9.542726308107376,
         9.239781737327576,
         9.47109204530716,
         9.122674494981766,
         9.162968575954437,
         9.31711196899414,
         9.461804836988449,
         9.281112968921661,
         9.563959926366806,
         9.308216959238052,
         8.924129523336887,
         9.303167015314102,
         9.421043634414673,
         9.451710194349289,
         9.307163566350937,
         9.405027128756046,
         9.503307789564133,
         9.415266267955303,
         9.031801879405975,
         9.143995940685272,
         9.479673139750957,
         9.772177368402481,
         9.628416776657104,
         9.37785729765892,
         9.586553573608398,
         9.40876242518425,
         9.51590445637703,
         9.436049044132233,
         9.101113855838776,
         9.270053654909134,
         9.280576646327972,
         9.407246530056,
         9.478079169988632,
         9.60138687491417,
         9.512518256902695,
         9.163161993026733,
         9.542326629161835,
         9.257668107748032,
         8.80040130019188,
         9.412415616214275,
         9.376397989690304,
         9.407658129930496,
         9.213803112506866,
         9.574207469820976,
         9.076671063899994,
         9.327706933021545,
         9.34580409526825,
         9.49707943201065,
         9.359064348042011,
         9.227091766893864,
         9.244346059858799,
         9.556543052196503,
         8.980757743120193,
         9.097162038087845,
         9.349302791059017,
         9.178442150354385,
         9.17453619837761,
         9.385931491851807,
         9.296057790517807,
         9.71024826169014,
         9.331030867993832,
         9.410750955343246,
         8.542210429906845,
         9.370411664247513,
         9.39909353107214,
         9.43426513671875,
         9.819567739963531,
         9.306093901395798,
         9.399320483207703,
         9.360069118440151,
         9.070562541484833,
         9.255348443984985,
         9.467209100723267,
         8.872499883174896,
         9.384695895016193,
         9.603751242160797,
         8.964904934167862,
         9.163074612617493,
         9.337995707988739,
         9.368022739887238,
         9.358937703073025,
         9.243974089622498,
         9.518969655036926,
         9.374393373727798,
         9.471121788024902,
         9.50726380199194,
         9.469059020280838,
         9.324672818183899,
         9.370893895626068,
         9.415902860462666
        ],
        [
         3.2177750069659172,
         3.2316227009520326,
         3.2486274923198692,
         3.2501192989607643,
         3.287509750389223,
         3.26221082593302,
         3.156749286822177,
         3.245688484176288,
         3.2492712273517306,
         3.229121602128706,
         3.253346807815639,
         3.1724582394863803,
         3.296368669861799,
         3.246727122479113,
         3.2248828552856508,
         3.123639666487882,
         3.198629397365745,
         3.1756765884109495,
         3.2166599982906092,
         3.2463589034916014,
         2.9649909193085184,
         3.204973638735942,
         3.29692090639303,
         3.2102683881506375,
         3.161847784659162,
         3.209557186324723,
         3.1912329688347176,
         3.2381481767928237,
         3.005036897473243,
         3.2018647185388756,
         3.216596466339197,
         3.2458605240538834,
         3.2560527942238084,
         3.130247530634053,
         3.228317158101147,
         3.1804616153807763,
         3.237857173338658,
         3.24232081960119,
         3.095754401367887,
         3.1651624859732337,
         3.1937677878722353,
         3.2491602735423966,
         3.228947113210348,
         3.2799800273708666,
         3.2531528279645916,
         3.1665632064176608,
         3.2193057503627345,
         3.2100064397332173,
         3.0610908519919806,
         3.194013809744172,
         3.2012777569333672,
         3.2271105783823524,
         3.2081969685208533,
         3.277877271943309,
         3.207609203960012,
         3.201462103155353,
         3.2537548199744797,
         3.256126538571419,
         3.172619457112294,
         3.1659102970727453,
         3.2104479829185553,
         3.2811015801751924,
         3.106112821860923,
         3.101672877732834,
         3.153665023390222,
         3.1920874217334356,
         3.220000630759641,
         3.226139349296863,
         3.2197067947873554,
         3.221947080484477,
         3.2454166829450517,
         3.242724397266079,
         3.0452895946469525,
         3.096918350241989,
         3.2889677213625674,
         3.250209978267798,
         3.2908745697151156,
         3.2380771585821058,
         3.2153986638968757,
         3.2196100866166364,
         3.1510168132622,
         3.172983905630106,
         3.1881112618983787,
         3.085414631401842,
         3.261861521130625,
         3.24554680541237,
         2.9472993148796682,
         3.1612036904471097,
         3.224869953751993,
         3.1654435225066426,
         3.2145593385946314,
         3.178783598816527,
         3.2688873561991563,
         3.1747801739504107,
         3.215127899603433,
         3.277019751305095,
         3.1623317999995018,
         3.225099295073787,
         3.29644994818047,
         3.1839328722948683
        ]
       ],
       "encoder": "json",
       "name": "ABC_GAN_1 Metrics",
       "version": 1
      }
     },
     "metadata": {
      "scrapbook": {
       "data": true,
       "display": false,
       "name": "ABC_GAN_1 Metrics"
      }
     },
     "output_type": "display_data"
    },
    {
     "name": "stdout",
     "output_type": "stream",
     "text": [
      "MSE\n",
      "0.5132144025320975\n"
     ]
    }
   ],
   "source": [
    "ABC_GAN1_metrics=ABC_train_test2.test_generator(gen,test_data,prior_model,variance,bias,\"1\",device)\n",
    "sb.glue(\"ABC_GAN_1 Metrics\",ABC_GAN1_metrics)\n",
    "\n",
    "print(\"MSE\")\n",
    "print(mean(ABC_GAN1_metrics[0]))"
   ]
  },
  {
   "cell_type": "code",
   "execution_count": 14,
   "id": "eb22ce5c",
   "metadata": {
    "execution": {
     "iopub.execute_input": "2022-06-22T14:54:33.408758Z",
     "iopub.status.busy": "2022-06-22T14:54:33.408046Z",
     "iopub.status.idle": "2022-06-22T14:54:34.110823Z",
     "shell.execute_reply": "2022-06-22T14:54:34.111503Z"
    },
    "papermill": {
     "duration": 0.755219,
     "end_time": "2022-06-22T14:54:34.111696",
     "exception": false,
     "start_time": "2022-06-22T14:54:33.356477",
     "status": "completed"
    },
    "tags": []
   },
   "outputs": [
    {
     "data": {
      "image/png": "[encoded data removed]",
      "text/plain": [
       "<Figure size 432x288 with 1 Axes>"
      ]
     },
     "metadata": {
      "needs_background": "light"
     },
     "output_type": "display_data"
    },
    {
     "data": {
      "image/png": "[encoded data removed]",
      "text/plain": [
       "<Figure size 432x288 with 1 Axes>"
      ]
     },
     "metadata": {
      "needs_background": "light"
     },
     "output_type": "display_data"
    },
    {
     "data": {
      "image/png": "[encoded data removed]",
      "text/plain": [
       "<Figure size 432x288 with 1 Axes>"
      ]
     },
     "metadata": {
      "needs_background": "light"
     },
     "output_type": "display_data"
    },
    {
     "data": {
      "image/png": "[encoded data removed]",
      "text/plain": [
       "<Figure size 432x288 with 1 Axes>"
      ]
     },
     "metadata": {
      "needs_background": "light"
     },
     "output_type": "display_data"
    }
   ],
   "source": [
    "sanityChecks.discProbVsError(train_data,disc,device)\n",
    "sanityChecks.discProbVsError(test_data,disc,device)"
   ]
  },
  {
   "cell_type": "markdown",
   "id": "130f3a4d",
   "metadata": {
    "id": "130f3a4d",
    "papermill": {
     "duration": 0.056319,
     "end_time": "2022-06-22T14:54:34.214017",
     "exception": false,
     "start_time": "2022-06-22T14:54:34.157698",
     "status": "completed"
    },
    "tags": []
   },
   "source": [
    "# ABC - GAN Model with skip connection"
   ]
  },
  {
   "cell_type": "code",
   "execution_count": 15,
   "id": "4e43dad1",
   "metadata": {
    "execution": {
     "iopub.execute_input": "2022-06-22T14:54:34.330856Z",
     "iopub.status.busy": "2022-06-22T14:54:34.330133Z",
     "iopub.status.idle": "2022-06-22T14:54:34.334677Z",
     "shell.execute_reply": "2022-06-22T14:54:34.335192Z"
    },
    "id": "4e43dad1",
    "papermill": {
     "duration": 0.061166,
     "end_time": "2022-06-22T14:54:34.335404",
     "exception": false,
     "start_time": "2022-06-22T14:54:34.274238",
     "status": "completed"
    },
    "tags": []
   },
   "outputs": [],
   "source": [
    "#Generator\n",
    "gen3 = network.GeneratorWithSkipConnection(n_features+1).to(device)\n",
    "constraints=network.weightConstraint()\n",
    "#Discriminator \n",
    "disc3 = network.Discriminator(n_features+1).to(device)\n",
    "\n",
    "criterion = torch.nn.BCELoss()\n",
    "gen_opt = torch.optim.Adam(gen3.parameters(), lr=0.001, betas=(0.5, 0.999))\n",
    "disc_opt = torch.optim.Adam(disc3.parameters(), lr=0.001, betas=(0.5, 0.999))\n"
   ]
  },
  {
   "cell_type": "code",
   "execution_count": 16,
   "id": "26acbc37",
   "metadata": {
    "execution": {
     "iopub.execute_input": "2022-06-22T14:54:34.441025Z",
     "iopub.status.busy": "2022-06-22T14:54:34.440317Z",
     "iopub.status.idle": "2022-06-22T14:55:43.036745Z",
     "shell.execute_reply": "2022-06-22T14:55:43.037352Z"
    },
    "id": "26acbc37",
    "papermill": {
     "duration": 68.652868,
     "end_time": "2022-06-22T14:55:43.037585",
     "exception": false,
     "start_time": "2022-06-22T14:54:34.384717",
     "status": "completed"
    },
    "tags": []
   },
   "outputs": [
    {
     "data": {
      "image/png": "[encoded data removed]",
      "text/plain": [
       "<Figure size 432x288 with 1 Axes>"
      ]
     },
     "metadata": {
      "needs_background": "light"
     },
     "output_type": "display_data"
    },
    {
     "data": {
      "image/png": "[encoded data removed]",
      "text/plain": [
       "<Figure size 432x288 with 1 Axes>"
      ]
     },
     "metadata": {
      "needs_background": "light"
     },
     "output_type": "display_data"
    }
   ],
   "source": [
    "ABC_train_test2.training_GAN_skip_connection(disc3,gen3,disc_opt,gen_opt,train_data,batch_size,n_epochs,criterion,prior_model,variance,bias,device)"
   ]
  },
  {
   "cell_type": "code",
   "execution_count": 17,
   "id": "c5e0717b",
   "metadata": {
    "execution": {
     "iopub.execute_input": "2022-06-22T14:55:43.151463Z",
     "iopub.status.busy": "2022-06-22T14:55:43.149797Z",
     "iopub.status.idle": "2022-06-22T14:55:43.921819Z",
     "shell.execute_reply": "2022-06-22T14:55:43.922489Z"
    },
    "id": "c5e0717b",
    "papermill": {
     "duration": 0.833976,
     "end_time": "2022-06-22T14:55:43.922708",
     "exception": false,
     "start_time": "2022-06-22T14:55:43.088732",
     "status": "completed"
    },
    "tags": []
   },
   "outputs": [
    {
     "data": {
      "application/scrapbook.scrap.json+json": {
       "data": 0.48632959520665936,
       "encoder": "json",
       "name": "ABC-GAN Model 3 MSE",
       "version": 1
      }
     },
     "metadata": {
      "scrapbook": {
       "data": true,
       "display": false,
       "name": "ABC-GAN Model 3 MSE"
      }
     },
     "output_type": "display_data"
    },
    {
     "data": {
      "application/scrapbook.scrap.json+json": {
       "data": 0.4784345001038164,
       "encoder": "json",
       "name": "ABC-GAN Model 3 MAE",
       "version": 1
      }
     },
     "metadata": {
      "scrapbook": {
       "data": true,
       "display": false,
       "name": "ABC-GAN Model 3 MAE"
      }
     },
     "output_type": "display_data"
    },
    {
     "data": {
      "application/scrapbook.scrap.json+json": {
       "data": 9.568690002076329,
       "encoder": "json",
       "name": "ABC-GAN Model 3 Manhattan Distance",
       "version": 1
      }
     },
     "metadata": {
      "scrapbook": {
       "data": true,
       "display": false,
       "name": "ABC-GAN Model 3 Manhattan Distance"
      }
     },
     "output_type": "display_data"
    },
    {
     "data": {
      "application/scrapbook.scrap.json+json": {
       "data": 3.1180068799266047,
       "encoder": "json",
       "name": "ABC-GAN Model 3 Euclidean distance",
       "version": 1
      }
     },
     "metadata": {
      "scrapbook": {
       "data": true,
       "display": false,
       "name": "ABC-GAN Model 3 Euclidean distance"
      }
     },
     "output_type": "display_data"
    },
    {
     "data": {
      "application/scrapbook.scrap.json+json": {
       "data": [
        [
         0.4711397333995735,
         0.5128884560706354,
         0.4944400285645643,
         0.48947258309562763,
         0.48630126588406186,
         0.49762100201838927,
         0.5004693626567697,
         0.507426404101628,
         0.4993178022678914,
         0.4840628561536181,
         0.5004567121742041,
         0.43054170495489236,
         0.48427299764669557,
         0.477361952797238,
         0.5111297325208171,
         0.4461641327736987,
         0.5018877322594084,
         0.48809204317202975,
         0.47788298231687676,
         0.49427796836283366,
         0.4386559243843481,
         0.44305520367486173,
         0.485357445354461,
         0.47627887545668635,
         0.49016437125389245,
         0.4810351788282182,
         0.48867351236310463,
         0.48725157557100324,
         0.49199171271758707,
         0.4969954559117828,
         0.5145796126578988,
         0.4876427845115985,
         0.4988527203594281,
         0.48601865783233106,
         0.48661783620008964,
         0.49602952817945833,
         0.4960230191300504,
         0.48618016430171007,
         0.468565378497708,
         0.4586627060496432,
         0.4952247517391978,
         0.48918614865434396,
         0.485081907579215,
         0.48328828467994356,
         0.49352275288741937,
         0.4570367871736541,
         0.49583525581307725,
         0.492787344053646,
         0.44968248256328974,
         0.49908708568060306,
         0.43150125242038906,
         0.47658561433886265,
         0.4843003552067448,
         0.5112357054144832,
         0.4851007881675313,
         0.5115883358330074,
         0.48444284701629403,
         0.492057156943439,
         0.5086989994590512,
         0.49844346313057697,
         0.4634497205482391,
         0.45960200159074127,
         0.4743300573870636,
         0.490818780206986,
         0.4864144278940709,
         0.41655716235521306,
         0.5028800013042551,
         0.5083401618705844,
         0.46837381059632255,
         0.49926698393932484,
         0.4691732765251412,
         0.4268217508800219,
         0.5147372929043171,
         0.48637177690991507,
         0.4491961121332704,
         0.5089353291886495,
         0.47292709329382127,
         0.5044352025456031,
         0.5059564456460502,
         0.5199208189271146,
         0.5017479274115876,
         0.49712174478470805,
         0.4883472555326267,
         0.47806917853468844,
         0.4996573751866341,
         0.45755239980188567,
         0.4795027079881377,
         0.4991338085299136,
         0.5004658278697188,
         0.4992686981508053,
         0.5077525353547896,
         0.5099525371289284,
         0.5175863452513295,
         0.4765961540250473,
         0.5005047147368964,
         0.5093914157775136,
         0.49614953885391627,
         0.4806787224403716,
         0.46885302587274175,
         0.49759296560490596
        ],
        [
         0.47535018967464565,
         0.48801259472966196,
         0.4763586277142167,
         0.47640556171536447,
         0.4757737128064036,
         0.48334243670105936,
         0.4700016837567091,
         0.48978599458932875,
         0.4843360837548971,
         0.4813136912882328,
         0.4915661349892616,
         0.4593834526836872,
         0.47688103653490543,
         0.44986457005143166,
         0.4879351525567472,
         0.4639681801199913,
         0.4978218343108892,
         0.4729355838149786,
         0.46389332339167594,
         0.4958629194647074,
         0.45717494413256643,
         0.4615603256970644,
         0.4743661111220717,
         0.45516792833805086,
         0.4995700277388096,
         0.46546020582318304,
         0.48464332073926925,
         0.4768273228779435,
         0.4761583894491196,
         0.48628504313528537,
         0.4990385726094246,
         0.47371330484747887,
         0.4846990449354053,
         0.48411448746919633,
         0.4682613083161414,
         0.49055959302932023,
         0.4776956826448441,
         0.46761125437915324,
         0.473588514700532,
         0.4634862385690212,
         0.4862795375287533,
         0.4812376797199249,
         0.46123894341289995,
         0.48823081962764264,
         0.47591862455010414,
         0.44886183477938174,
         0.48632371351122855,
         0.4789597305469215,
         0.46405144073069093,
         0.48874196857213975,
         0.44226142540574076,
         0.46851892080158,
         0.4748158983886242,
         0.5007782597094774,
         0.4813809538260102,
         0.4950090005993843,
         0.47575131002813575,
         0.48726976923644544,
         0.4931939519941807,
         0.4834686182439327,
         0.4598591163754463,
         0.4800276353955269,
         0.4656652145087719,
         0.4828678766265512,
         0.4706791091710329,
         0.4392720654606819,
         0.4859099663794041,
         0.4856145389378071,
         0.4777246918529272,
         0.47193004880100486,
         0.45665879603475334,
         0.4548986041918397,
         0.5118149019777775,
         0.48316765055060384,
         0.486979141458869,
         0.49120456874370577,
         0.47100646756589415,
         0.48814849425107243,
         0.49990556202828884,
         0.5104676861315965,
         0.48399990033358337,
         0.483368106931448,
         0.47052738033235075,
         0.47430989407002927,
         0.48707541860640047,
         0.4489673500880599,
         0.4692534200847149,
         0.4843788523226976,
         0.4898723691701889,
         0.4965957090258598,
         0.47889282926917076,
         0.5014037895947695,
         0.4955668978393078,
         0.4573981901630759,
         0.48234195075929165,
         0.48947552889585494,
         0.4859919872134924,
         0.4784346669912338,
         0.48319763205945493,
         0.48552921377122404
        ],
        [
         9.507003793492913,
         9.760251894593239,
         9.527172554284334,
         9.52811123430729,
         9.515474256128073,
         9.666848734021187,
         9.400033675134182,
         9.795719891786575,
         9.686721675097942,
         9.626273825764656,
         9.831322699785233,
         9.187669053673744,
         9.537620730698109,
         8.997291401028633,
         9.758703051134944,
         9.279363602399826,
         9.956436686217785,
         9.458711676299572,
         9.277866467833519,
         9.917258389294147,
         9.143498882651329,
         9.231206513941288,
         9.487322222441435,
         9.103358566761017,
         9.991400554776192,
         9.309204116463661,
         9.692866414785385,
         9.53654645755887,
         9.523167788982391,
         9.725700862705708,
         9.980771452188492,
         9.474266096949577,
         9.693980898708105,
         9.682289749383926,
         9.365226166322827,
         9.811191860586405,
         9.553913652896881,
         9.352225087583065,
         9.47177029401064,
         9.269724771380424,
         9.725590750575066,
         9.624753594398499,
         9.224778868258,
         9.764616392552853,
         9.518372491002083,
         8.977236695587635,
         9.726474270224571,
         9.57919461093843,
         9.28102881461382,
         9.774839371442795,
         8.845228508114815,
         9.370378416031599,
         9.496317967772484,
         10.015565194189548,
         9.627619076520205,
         9.900180011987686,
         9.515026200562716,
         9.745395384728909,
         9.863879039883614,
         9.669372364878654,
         9.197182327508926,
         9.600552707910538,
         9.313304290175438,
         9.657357532531023,
         9.413582183420658,
         8.785441309213638,
         9.718199327588081,
         9.712290778756142,
         9.554493837058544,
         9.438600976020098,
         9.133175920695066,
         9.097972083836794,
         10.23629803955555,
         9.663353011012077,
         9.73958282917738,
         9.824091374874115,
         9.420129351317883,
         9.762969885021448,
         9.998111240565777,
         10.209353722631931,
         9.679998006671667,
         9.66736213862896,
         9.410547606647015,
         9.486197881400585,
         9.74150837212801,
         8.979347001761198,
         9.385068401694298,
         9.687577046453953,
         9.797447383403778,
         9.931914180517197,
         9.577856585383415,
         10.02807579189539,
         9.911337956786156,
         9.147963803261518,
         9.646839015185833,
         9.789510577917099,
         9.719839744269848,
         9.568693339824677,
         9.663952641189098,
         9.71058427542448
        ],
        [
         3.069657092900031,
         3.2027752218057244,
         3.144646334850914,
         3.1288099433990157,
         3.1186576146927765,
         3.1547456379822107,
         3.1637615670488497,
         3.1856754514596366,
         3.1601196251657666,
         3.111471857991385,
         3.163721581221091,
         2.9344222768882204,
         3.11214716119497,
         3.089860685523663,
         3.1972792574963393,
         2.987186411236161,
         3.168241569891439,
         3.12439447948568,
         3.0915464813483777,
         3.1441309399032153,
         2.9619450514293746,
         2.976760667822866,
         3.1156297769615087,
         3.0863534323103257,
         3.131020189184006,
         3.1017259028747795,
         3.1262549875629295,
         3.121703302913341,
         3.136851009268967,
         3.152762141081318,
         3.208051161243844,
         3.1229562421257153,
         3.1586475598250208,
         3.1177512980747233,
         3.119672534738509,
         3.1496969002729718,
         3.1496762345677705,
         3.118269277345079,
         3.0612591477942797,
         3.0287380409987366,
         3.1471407713643753,
         3.127894335345566,
         3.114745278764268,
         3.1089814559753925,
         3.1417280368848584,
         3.0233649702728718,
         3.1490800428476797,
         3.1393863860749787,
         2.9989414217796577,
         3.159389452665192,
         2.9376904275991675,
         3.0873471276772966,
         3.11223506569393,
         3.1976106874179764,
         3.114805894971728,
         3.1987132907874294,
         3.1126928760039725,
         3.1370596326606193,
         3.1896676925944853,
         3.157351621630309,
         3.044502325662567,
         3.031837731775041,
         3.080032653681008,
         3.1331095742312813,
         3.1190204484551587,
         2.8863719869594533,
         3.171371946978957,
         3.1885424942145097,
         3.060633302427203,
         3.159958809666116,
         3.0632442818852734,
         2.9217178196397473,
         3.20854263772298,
         3.1188837006528956,
         2.997319175974659,
         3.1904085292910356,
         3.0754742505630617,
         3.176272036666895,
         3.18105782923244,
         3.224657559887916,
         3.167800269624294,
         3.153162681450826,
         3.1252112105668215,
         3.092148698024364,
         3.161193999698956,
         3.0250699158924763,
         3.0967812579778307,
         3.1595373348954547,
         3.1637503942938325,
         3.159964234452046,
         3.1866990298890467,
         3.193595269062529,
         3.2174099684414776,
         3.0873812658142734,
         3.163873305734275,
         3.1918377646036884,
         3.1500779001602996,
         3.1005764704015015,
         3.062198641083696,
         3.1546567661313203
        ]
       ],
       "encoder": "json",
       "name": "ABC_GAN_3 Metrics",
       "version": 1
      }
     },
     "metadata": {
      "scrapbook": {
       "data": true,
       "display": false,
       "name": "ABC_GAN_3 Metrics"
      }
     },
     "output_type": "display_data"
    },
    {
     "name": "stdout",
     "output_type": "stream",
     "text": [
      "MSE\n",
      "0.48632959520665936\n"
     ]
    }
   ],
   "source": [
    "ABC_GAN3_metrics=ABC_train_test2.test_generator(gen3,test_data,prior_model,variance,bias,\"3\",device)\n",
    "sb.glue(\"ABC_GAN_3 Metrics\",ABC_GAN3_metrics)\n",
    "\n",
    "print(\"MSE\")\n",
    "print(mean(ABC_GAN3_metrics[0]))"
   ]
  },
  {
   "cell_type": "code",
   "execution_count": 18,
   "id": "c8e46b48",
   "metadata": {
    "execution": {
     "iopub.execute_input": "2022-06-22T14:55:44.048266Z",
     "iopub.status.busy": "2022-06-22T14:55:44.047579Z",
     "iopub.status.idle": "2022-06-22T14:55:44.753406Z",
     "shell.execute_reply": "2022-06-22T14:55:44.753975Z"
    },
    "id": "c8e46b48",
    "papermill": {
     "duration": 0.779598,
     "end_time": "2022-06-22T14:55:44.754241",
     "exception": false,
     "start_time": "2022-06-22T14:55:43.974643",
     "status": "completed"
    },
    "tags": []
   },
   "outputs": [
    {
     "data": {
      "image/png": "[encoded data removed]",
      "text/plain": [
       "<Figure size 432x288 with 1 Axes>"
      ]
     },
     "metadata": {
      "needs_background": "light"
     },
     "output_type": "display_data"
    },
    {
     "data": {
      "image/png": "[encoded data removed]",
      "text/plain": [
       "<Figure size 432x288 with 1 Axes>"
      ]
     },
     "metadata": {
      "needs_background": "light"
     },
     "output_type": "display_data"
    },
    {
     "data": {
      "image/png": "[encoded data removed]",
      "text/plain": [
       "<Figure size 432x288 with 1 Axes>"
      ]
     },
     "metadata": {
      "needs_background": "light"
     },
     "output_type": "display_data"
    },
    {
     "data": {
      "image/png": "[encoded data removed]",
      "text/plain": [
       "<Figure size 432x288 with 1 Axes>"
      ]
     },
     "metadata": {
      "needs_background": "light"
     },
     "output_type": "display_data"
    }
   ],
   "source": [
    "sanityChecks.discProbVsError(train_data,disc3,device)\n",
    "sanityChecks.discProbVsError(test_data,disc3,device)"
   ]
  },
  {
   "cell_type": "markdown",
   "id": "a5bd74c3",
   "metadata": {
    "id": "a5bd74c3",
    "papermill": {
     "duration": 0.056822,
     "end_time": "2022-06-22T14:55:44.873722",
     "exception": false,
     "start_time": "2022-06-22T14:55:44.816900",
     "status": "completed"
    },
    "tags": []
   },
   "source": [
    "## Skip Connection Model Analysis - ABC-GAN "
   ]
  },
  {
   "cell_type": "markdown",
   "id": "5744a8bf",
   "metadata": {
    "id": "5744a8bf",
    "papermill": {
     "duration": 0.058354,
     "end_time": "2022-06-22T14:55:44.985726",
     "exception": false,
     "start_time": "2022-06-22T14:55:44.927372",
     "status": "completed"
    },
    "tags": []
   },
   "source": [
    "### Weight Analysis \n",
    "\n",
    "Study the weights of the skip connection layer\n",
    "\n",
    "Equation of the skip connection is \n",
    "\n",
    "$output = y_{gan} * w + y_{abc} * (1-w)$"
   ]
  },
  {
   "cell_type": "code",
   "execution_count": 19,
   "id": "52c31dea",
   "metadata": {
    "execution": {
     "iopub.execute_input": "2022-06-22T14:55:45.115118Z",
     "iopub.status.busy": "2022-06-22T14:55:45.114108Z",
     "iopub.status.idle": "2022-06-22T14:55:45.137687Z",
     "shell.execute_reply": "2022-06-22T14:55:45.138325Z"
    },
    "id": "52c31dea",
    "papermill": {
     "duration": 0.091399,
     "end_time": "2022-06-22T14:55:45.138553",
     "exception": false,
     "start_time": "2022-06-22T14:55:45.047154",
     "status": "completed"
    },
    "tags": []
   },
   "outputs": [
    {
     "name": "stdout",
     "output_type": "stream",
     "text": [
      "Weight of the node at skip connection\n",
      "Parameter containing:\n",
      "tensor([[0.7479]], requires_grad=True)\n"
     ]
    },
    {
     "data": {
      "application/scrapbook.scrap.json+json": {
       "data": 0.7479214668273926,
       "encoder": "json",
       "name": "Skip Connection Weight",
       "version": 1
      }
     },
     "metadata": {
      "scrapbook": {
       "data": true,
       "display": false,
       "name": "Skip Connection Weight"
      }
     },
     "output_type": "display_data"
    }
   ],
   "source": [
    "print(\"Weight of the node at skip connection\")\n",
    "for name,param in gen3.named_parameters():\n",
    "    if(name == \"skipNode.weight\"):\n",
    "        print(param)\n",
    "        sb.glue(\"Skip Connection Weight\",param.item())"
   ]
  }
 ],
 "metadata": {
  "colab": {
   "collapsed_sections": [],
   "name": "ABC_GAN_Model-Catboost_Pre-gen.ipynb",
   "provenance": []
  },
  "interpreter": {
   "hash": "31f2aee4e71d21fbe5cf8b01ff0e069b9275f58929596ceb00d14d90e3e16cd6"
  },
  "kernelspec": {
   "display_name": "Python 3 (ipykernel)",
   "language": "python",
   "name": "python3"
  },
  "language_info": {
   "codemirror_mode": {
    "name": "ipython",
    "version": 3
   },
   "file_extension": ".py",
   "mimetype": "text/x-python",
   "name": "python",
   "nbconvert_exporter": "python",
   "pygments_lexer": "ipython3",
   "version": "3.8.3"
  },
  "papermill": {
   "default_parameters": {},
   "duration": 149.522327,
   "end_time": "2022-06-22T14:55:46.130803",
   "environment_variables": {},
   "exception": null,
   "input_path": "ABC_GAN-TabNet.ipynb",
   "output_path": "./ABC_GAN_TabNet/ABC-GAN_output_7_3.ipynb",
   "parameters": {
    "bias": 0.1,
    "variance": 1
   },
   "start_time": "2022-06-22T14:53:16.608476",
   "version": "2.3.3"
  }
 },
 "nbformat": 4,
 "nbformat_minor": 5
}