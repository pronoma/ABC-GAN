{
 "cells": [
  {
   "cell_type": "markdown",
   "id": "622780e6",
   "metadata": {
    "id": "622780e6",
    "papermill": {
     "duration": 0.025406,
     "end_time": "2022-06-22T12:14:39.660505",
     "exception": false,
     "start_time": "2022-06-22T12:14:39.635099",
     "status": "completed"
    },
    "tags": []
   },
   "source": [
    "## Import Libraries "
   ]
  },
  {
   "cell_type": "code",
   "execution_count": 1,
   "id": "a62397e3",
   "metadata": {
    "execution": {
     "iopub.execute_input": "2022-06-22T12:14:39.729376Z",
     "iopub.status.busy": "2022-06-22T12:14:39.727904Z",
     "iopub.status.idle": "2022-06-22T12:14:39.731147Z",
     "shell.execute_reply": "2022-06-22T12:14:39.729963Z"
    },
    "id": "a62397e3",
    "papermill": {
     "duration": 0.051229,
     "end_time": "2022-06-22T12:14:39.733041",
     "exception": false,
     "start_time": "2022-06-22T12:14:39.681812",
     "status": "completed"
    },
    "tags": []
   },
   "outputs": [],
   "source": [
    "import warnings\n",
    "import sys\n",
    "sys.path.insert(0, '../../src')\n",
    "warnings.filterwarnings('ignore')"
   ]
  },
  {
   "cell_type": "code",
   "execution_count": 2,
   "id": "d6a4e155",
   "metadata": {
    "execution": {
     "iopub.execute_input": "2022-06-22T12:14:39.777102Z",
     "iopub.status.busy": "2022-06-22T12:14:39.776281Z",
     "iopub.status.idle": "2022-06-22T12:14:46.035498Z",
     "shell.execute_reply": "2022-06-22T12:14:46.036691Z"
    },
    "id": "d6a4e155",
    "papermill": {
     "duration": 6.286637,
     "end_time": "2022-06-22T12:14:46.039828",
     "exception": false,
     "start_time": "2022-06-22T12:14:39.753191",
     "status": "completed"
    },
    "tags": []
   },
   "outputs": [],
   "source": [
    "import ABC_train_test2\n",
    "import friedman3Dataset\n",
    "import network\n",
    "import dataset\n",
    "import sanityChecks\n",
    "import torch \n",
    "import scrapbook as sb\n",
    "from statistics import mean \n",
    "import catboost as ctb \n",
    "from sklearn.model_selection import train_test_split\n",
    "from sklearn.metrics import mean_squared_error,mean_absolute_error\n",
    "import numpy as np\n",
    "from pytorch_tabnet.tab_model import TabNetRegressor"
   ]
  },
  {
   "cell_type": "markdown",
   "id": "2fa5b0f7",
   "metadata": {
    "id": "2fa5b0f7",
    "papermill": {
     "duration": 0.015591,
     "end_time": "2022-06-22T12:14:46.069863",
     "exception": false,
     "start_time": "2022-06-22T12:14:46.054272",
     "status": "completed"
    },
    "tags": []
   },
   "source": [
    "## Parameters "
   ]
  },
  {
   "cell_type": "code",
   "execution_count": 3,
   "id": "783186fb",
   "metadata": {
    "execution": {
     "iopub.execute_input": "2022-06-22T12:14:46.135015Z",
     "iopub.status.busy": "2022-06-22T12:14:46.133802Z",
     "iopub.status.idle": "2022-06-22T12:14:46.139313Z",
     "shell.execute_reply": "2022-06-22T12:14:46.140019Z"
    },
    "id": "783186fb",
    "papermill": {
     "duration": 0.053994,
     "end_time": "2022-06-22T12:14:46.140238",
     "exception": false,
     "start_time": "2022-06-22T12:14:46.086244",
     "status": "completed"
    },
    "tags": [
     "parameters"
    ]
   },
   "outputs": [],
   "source": [
    "variance = 1\n",
    "bias = 1 "
   ]
  },
  {
   "cell_type": "code",
   "execution_count": 4,
   "id": "4aae9d76",
   "metadata": {
    "execution": {
     "iopub.execute_input": "2022-06-22T12:14:46.200546Z",
     "iopub.status.busy": "2022-06-22T12:14:46.199730Z",
     "iopub.status.idle": "2022-06-22T12:14:46.204946Z",
     "shell.execute_reply": "2022-06-22T12:14:46.205623Z"
    },
    "papermill": {
     "duration": 0.047208,
     "end_time": "2022-06-22T12:14:46.205856",
     "exception": false,
     "start_time": "2022-06-22T12:14:46.158648",
     "status": "completed"
    },
    "tags": [
     "injected-parameters"
    ]
   },
   "outputs": [],
   "source": [
    "# Parameters\n",
    "variance = 0.01\n",
    "bias = 0.01\n"
   ]
  },
  {
   "cell_type": "markdown",
   "id": "391cdbfd",
   "metadata": {
    "id": "391cdbfd",
    "papermill": {
     "duration": 0.017082,
     "end_time": "2022-06-22T12:14:46.239051",
     "exception": false,
     "start_time": "2022-06-22T12:14:46.221969",
     "status": "completed"
    },
    "tags": []
   },
   "source": [
    "## Dataset \n"
   ]
  },
  {
   "cell_type": "code",
   "execution_count": 5,
   "id": "5b51f161",
   "metadata": {
    "execution": {
     "iopub.execute_input": "2022-06-22T12:14:46.281687Z",
     "iopub.status.busy": "2022-06-22T12:14:46.278683Z",
     "iopub.status.idle": "2022-06-22T12:14:46.282982Z",
     "shell.execute_reply": "2022-06-22T12:14:46.282459Z"
    },
    "id": "5b51f161",
    "papermill": {
     "duration": 0.026479,
     "end_time": "2022-06-22T12:14:46.283176",
     "exception": false,
     "start_time": "2022-06-22T12:14:46.256697",
     "status": "completed"
    },
    "tags": []
   },
   "outputs": [],
   "source": [
    "#Parameters \n",
    "n_features = 4\n",
    "n_samples= 100\n",
    "n_target = 1"
   ]
  },
  {
   "cell_type": "code",
   "execution_count": 6,
   "id": "5d6eced4",
   "metadata": {
    "execution": {
     "iopub.execute_input": "2022-06-22T12:14:46.345258Z",
     "iopub.status.busy": "2022-06-22T12:14:46.333633Z",
     "iopub.status.idle": "2022-06-22T12:14:46.350842Z",
     "shell.execute_reply": "2022-06-22T12:14:46.351387Z"
    },
    "id": "5d6eced4",
    "papermill": {
     "duration": 0.050934,
     "end_time": "2022-06-22T12:14:46.351617",
     "exception": false,
     "start_time": "2022-06-22T12:14:46.300683",
     "status": "completed"
    },
    "tags": []
   },
   "outputs": [
    {
     "name": "stdout",
     "output_type": "stream",
     "text": [
      "          X1           X2        X3        X4         Y\n",
      "0   4.914150  1738.736485  0.117331  6.257399  1.579096\n",
      "1   9.820247   384.799695  0.434333  5.554899  1.521314\n",
      "2  68.901729   748.454642  0.801610  4.307221  1.494463\n",
      "3  91.832282  1097.770109  0.379250  8.640738  1.158020\n",
      "4  32.344606   471.625041  0.282192  5.453598  1.232316\n"
     ]
    }
   ],
   "source": [
    "X,Y = friedman3Dataset.friedman3_data(n_samples)"
   ]
  },
  {
   "cell_type": "code",
   "execution_count": 7,
   "id": "fe007438",
   "metadata": {
    "execution": {
     "iopub.execute_input": "2022-06-22T12:14:46.391935Z",
     "iopub.status.busy": "2022-06-22T12:14:46.389439Z",
     "iopub.status.idle": "2022-06-22T12:14:46.396675Z",
     "shell.execute_reply": "2022-06-22T12:14:46.397897Z"
    },
    "id": "fe007438",
    "papermill": {
     "duration": 0.03064,
     "end_time": "2022-06-22T12:14:46.398485",
     "exception": false,
     "start_time": "2022-06-22T12:14:46.367845",
     "status": "completed"
    },
    "tags": []
   },
   "outputs": [],
   "source": [
    "#Train test split for dataset \n",
    "X_train,X_test,Y_train,Y_test = train_test_split(X,Y,test_size = 0.2)\n",
    "train_data = dataset.CustomDataset(X_train,Y_train)\n",
    "test_data = dataset.CustomDataset(X_test,Y_test)\n"
   ]
  },
  {
   "cell_type": "markdown",
   "id": "a9a1af34",
   "metadata": {
    "id": "a9a1af34",
    "papermill": {
     "duration": 0.05666,
     "end_time": "2022-06-22T12:14:46.484632",
     "exception": false,
     "start_time": "2022-06-22T12:14:46.427972",
     "status": "completed"
    },
    "tags": []
   },
   "source": [
    "## Training Parameters "
   ]
  },
  {
   "cell_type": "code",
   "execution_count": 8,
   "id": "952b7fc8",
   "metadata": {
    "execution": {
     "iopub.execute_input": "2022-06-22T12:14:46.560752Z",
     "iopub.status.busy": "2022-06-22T12:14:46.557775Z",
     "iopub.status.idle": "2022-06-22T12:14:46.562244Z",
     "shell.execute_reply": "2022-06-22T12:14:46.558699Z"
    },
    "id": "952b7fc8",
    "papermill": {
     "duration": 0.05469,
     "end_time": "2022-06-22T12:14:46.562489",
     "exception": false,
     "start_time": "2022-06-22T12:14:46.507799",
     "status": "completed"
    },
    "tags": []
   },
   "outputs": [],
   "source": [
    "batch_size = 32\n",
    "n_epochs = 1000\n",
    "#Select the device \n",
    "device = torch.device('cuda' if torch.cuda.is_available() else 'cpu')"
   ]
  },
  {
   "cell_type": "markdown",
   "id": "a95e1600",
   "metadata": {
    "id": "a95e1600",
    "papermill": {
     "duration": 0.026917,
     "end_time": "2022-06-22T12:14:46.617347",
     "exception": false,
     "start_time": "2022-06-22T12:14:46.590430",
     "status": "completed"
    },
    "tags": []
   },
   "source": [
    "# ABC Pre-generator Model \n",
    "\n",
    "1. The catboost model is used as a pre-generator model for the ABC-GAN. \n",
    "2. The model is first trained on the entire dataset \n",
    "3. It generats X,Y pairs and we add some Gaussian noise with mean 0 and variance 1 to it which is then feed as input to the generator.\n"
   ]
  },
  {
   "cell_type": "code",
   "execution_count": 9,
   "id": "ff8ce7bd",
   "metadata": {
    "execution": {
     "iopub.execute_input": "2022-06-22T12:14:46.663059Z",
     "iopub.status.busy": "2022-06-22T12:14:46.662179Z",
     "iopub.status.idle": "2022-06-22T12:15:02.497582Z",
     "shell.execute_reply": "2022-06-22T12:15:02.498589Z"
    },
    "id": "ff8ce7bd",
    "papermill": {
     "duration": 15.861163,
     "end_time": "2022-06-22T12:15:02.498888",
     "exception": false,
     "start_time": "2022-06-22T12:14:46.637725",
     "status": "completed"
    },
    "tags": []
   },
   "outputs": [
    {
     "name": "stdout",
     "output_type": "stream",
     "text": [
      "Device used : cpu\n"
     ]
    },
    {
     "name": "stdout",
     "output_type": "stream",
     "text": [
      "epoch 0  | loss: 0.90583 | train_mse: 2.99805 | train_mae: 1.33617 |  0:00:00s\n",
      "epoch 1  | loss: 0.6259  | train_mse: 1.84021 | train_mae: 1.11044 |  0:00:00s\n",
      "epoch 2  | loss: 0.59288 | train_mse: 2.01706 | train_mae: 1.17096 |  0:00:00s\n"
     ]
    },
    {
     "name": "stdout",
     "output_type": "stream",
     "text": [
      "epoch 3  | loss: 0.5864  | train_mse: 2.21493 | train_mae: 1.1667  |  0:00:00s\n",
      "epoch 4  | loss: 0.49483 | train_mse: 1.61802 | train_mae: 0.96866 |  0:00:00s\n",
      "epoch 5  | loss: 0.35506 | train_mse: 1.64041 | train_mae: 0.9904  |  0:00:00s\n"
     ]
    },
    {
     "name": "stdout",
     "output_type": "stream",
     "text": [
      "epoch 6  | loss: 0.29289 | train_mse: 1.52345 | train_mae: 0.96446 |  0:00:00s\n",
      "epoch 7  | loss: 0.2455  | train_mse: 0.90721 | train_mae: 0.72438 |  0:00:00s\n",
      "epoch 8  | loss: 0.32238 | train_mse: 0.7977  | train_mae: 0.67481 |  0:00:00s\n"
     ]
    },
    {
     "name": "stdout",
     "output_type": "stream",
     "text": [
      "epoch 9  | loss: 0.39504 | train_mse: 1.11738 | train_mae: 0.78304 |  0:00:00s\n",
      "epoch 10 | loss: 0.28732 | train_mse: 1.21661 | train_mae: 0.83633 |  0:00:00s\n",
      "epoch 11 | loss: 0.27827 | train_mse: 1.05046 | train_mae: 0.76774 |  0:00:01s\n"
     ]
    },
    {
     "name": "stdout",
     "output_type": "stream",
     "text": [
      "epoch 12 | loss: 0.3413  | train_mse: 0.73821 | train_mae: 0.66658 |  0:00:01s\n",
      "epoch 13 | loss: 0.16462 | train_mse: 0.64132 | train_mae: 0.61613 |  0:00:01s\n",
      "epoch 14 | loss: 0.22716 | train_mse: 0.59438 | train_mae: 0.59058 |  0:00:01s\n",
      "epoch 15 | loss: 0.23929 | train_mse: 0.50965 | train_mae: 0.55559 |  0:00:01s\n"
     ]
    },
    {
     "name": "stdout",
     "output_type": "stream",
     "text": [
      "epoch 16 | loss: 0.26103 | train_mse: 0.47292 | train_mae: 0.52497 |  0:00:01s\n",
      "epoch 17 | loss: 0.19945 | train_mse: 0.40561 | train_mae: 0.47886 |  0:00:01s\n"
     ]
    },
    {
     "name": "stdout",
     "output_type": "stream",
     "text": [
      "epoch 18 | loss: 0.23457 | train_mse: 0.47949 | train_mae: 0.51106 |  0:00:01s\n",
      "epoch 19 | loss: 0.17712 | train_mse: 0.47331 | train_mae: 0.51094 |  0:00:01s\n",
      "epoch 20 | loss: 0.19986 | train_mse: 0.34998 | train_mae: 0.45465 |  0:00:01s\n",
      "epoch 21 | loss: 0.20491 | train_mse: 0.39236 | train_mae: 0.46327 |  0:00:01s\n"
     ]
    },
    {
     "name": "stdout",
     "output_type": "stream",
     "text": [
      "epoch 22 | loss: 0.2042  | train_mse: 0.34441 | train_mae: 0.44497 |  0:00:01s\n",
      "epoch 23 | loss: 0.18901 | train_mse: 0.46237 | train_mae: 0.49285 |  0:00:01s\n",
      "epoch 24 | loss: 0.19851 | train_mse: 0.58609 | train_mae: 0.51398 |  0:00:02s\n",
      "epoch 25 | loss: 0.20768 | train_mse: 0.4895  | train_mae: 0.50115 |  0:00:02s\n"
     ]
    },
    {
     "name": "stdout",
     "output_type": "stream",
     "text": [
      "epoch 26 | loss: 0.24448 | train_mse: 0.45433 | train_mae: 0.49269 |  0:00:02s\n",
      "epoch 27 | loss: 0.28685 | train_mse: 0.48202 | train_mae: 0.51136 |  0:00:02s\n",
      "epoch 28 | loss: 0.18777 | train_mse: 0.31295 | train_mae: 0.42541 |  0:00:02s\n",
      "epoch 29 | loss: 0.40326 | train_mse: 0.20825 | train_mae: 0.3594  |  0:00:02s\n"
     ]
    },
    {
     "name": "stdout",
     "output_type": "stream",
     "text": [
      "epoch 30 | loss: 0.21717 | train_mse: 0.18833 | train_mae: 0.34148 |  0:00:02s\n",
      "epoch 31 | loss: 0.26471 | train_mse: 0.33968 | train_mae: 0.43725 |  0:00:02s\n",
      "epoch 32 | loss: 0.16576 | train_mse: 0.34727 | train_mae: 0.43618 |  0:00:02s\n",
      "epoch 33 | loss: 0.18179 | train_mse: 0.2186  | train_mae: 0.3587  |  0:00:02s\n"
     ]
    },
    {
     "name": "stdout",
     "output_type": "stream",
     "text": [
      "epoch 34 | loss: 0.11278 | train_mse: 0.19421 | train_mae: 0.33139 |  0:00:02s\n",
      "epoch 35 | loss: 0.17974 | train_mse: 0.16393 | train_mae: 0.30705 |  0:00:02s\n",
      "epoch 36 | loss: 0.16473 | train_mse: 0.15675 | train_mae: 0.3048  |  0:00:02s\n"
     ]
    },
    {
     "name": "stdout",
     "output_type": "stream",
     "text": [
      "epoch 37 | loss: 0.21613 | train_mse: 0.12913 | train_mae: 0.27453 |  0:00:02s\n",
      "epoch 38 | loss: 0.11993 | train_mse: 0.14492 | train_mae: 0.29363 |  0:00:03s\n",
      "epoch 39 | loss: 0.15418 | train_mse: 0.22295 | train_mae: 0.34906 |  0:00:03s\n",
      "epoch 40 | loss: 0.14893 | train_mse: 0.25653 | train_mae: 0.37214 |  0:00:03s\n"
     ]
    },
    {
     "name": "stdout",
     "output_type": "stream",
     "text": [
      "epoch 41 | loss: 0.11719 | train_mse: 0.22029 | train_mae: 0.34075 |  0:00:03s\n",
      "epoch 42 | loss: 0.14065 | train_mse: 0.18445 | train_mae: 0.32105 |  0:00:03s\n",
      "epoch 43 | loss: 0.14872 | train_mse: 0.13376 | train_mae: 0.27682 |  0:00:03s\n",
      "epoch 44 | loss: 0.11389 | train_mse: 0.14993 | train_mae: 0.2946  |  0:00:03s\n"
     ]
    },
    {
     "name": "stdout",
     "output_type": "stream",
     "text": [
      "epoch 45 | loss: 0.26176 | train_mse: 0.15308 | train_mae: 0.29242 |  0:00:03s\n",
      "epoch 46 | loss: 0.16386 | train_mse: 0.10994 | train_mae: 0.25349 |  0:00:03s\n",
      "epoch 47 | loss: 0.10497 | train_mse: 0.10284 | train_mae: 0.25426 |  0:00:03s\n"
     ]
    },
    {
     "name": "stdout",
     "output_type": "stream",
     "text": [
      "epoch 48 | loss: 0.20409 | train_mse: 0.11302 | train_mae: 0.25719 |  0:00:03s\n",
      "epoch 49 | loss: 0.13618 | train_mse: 0.12652 | train_mae: 0.26951 |  0:00:03s\n"
     ]
    },
    {
     "name": "stdout",
     "output_type": "stream",
     "text": [
      "epoch 50 | loss: 0.11126 | train_mse: 0.13979 | train_mae: 0.29306 |  0:00:03s\n",
      "epoch 51 | loss: 0.13539 | train_mse: 0.17932 | train_mae: 0.33091 |  0:00:04s\n",
      "epoch 52 | loss: 0.24021 | train_mse: 0.21621 | train_mae: 0.35651 |  0:00:04s\n"
     ]
    },
    {
     "name": "stdout",
     "output_type": "stream",
     "text": [
      "epoch 53 | loss: 0.12008 | train_mse: 0.17624 | train_mae: 0.33719 |  0:00:04s\n",
      "epoch 54 | loss: 0.13647 | train_mse: 0.1515  | train_mae: 0.31709 |  0:00:04s\n",
      "epoch 55 | loss: 0.16117 | train_mse: 0.13897 | train_mae: 0.29528 |  0:00:04s\n"
     ]
    },
    {
     "name": "stdout",
     "output_type": "stream",
     "text": [
      "epoch 56 | loss: 0.13537 | train_mse: 0.11791 | train_mae: 0.27002 |  0:00:04s\n",
      "epoch 57 | loss: 0.13764 | train_mse: 0.10311 | train_mae: 0.25818 |  0:00:04s\n",
      "epoch 58 | loss: 0.13989 | train_mse: 0.09686 | train_mae: 0.23741 |  0:00:04s\n"
     ]
    },
    {
     "name": "stdout",
     "output_type": "stream",
     "text": [
      "epoch 59 | loss: 0.10654 | train_mse: 0.07896 | train_mae: 0.21475 |  0:00:04s\n",
      "epoch 60 | loss: 0.10135 | train_mse: 0.08584 | train_mae: 0.22268 |  0:00:04s\n",
      "epoch 61 | loss: 0.1155  | train_mse: 0.10186 | train_mae: 0.23896 |  0:00:04s\n"
     ]
    },
    {
     "name": "stdout",
     "output_type": "stream",
     "text": [
      "epoch 62 | loss: 0.15945 | train_mse: 0.09961 | train_mae: 0.23329 |  0:00:04s\n",
      "epoch 63 | loss: 0.35389 | train_mse: 0.09492 | train_mae: 0.23218 |  0:00:05s\n"
     ]
    },
    {
     "name": "stdout",
     "output_type": "stream",
     "text": [
      "epoch 64 | loss: 0.18096 | train_mse: 0.11208 | train_mae: 0.24327 |  0:00:05s\n",
      "epoch 65 | loss: 0.15362 | train_mse: 0.11222 | train_mae: 0.25008 |  0:00:05s\n",
      "epoch 66 | loss: 0.1128  | train_mse: 0.11179 | train_mae: 0.25658 |  0:00:05s\n"
     ]
    },
    {
     "name": "stdout",
     "output_type": "stream",
     "text": [
      "epoch 67 | loss: 0.14935 | train_mse: 0.08918 | train_mae: 0.23157 |  0:00:05s\n",
      "epoch 68 | loss: 0.18142 | train_mse: 0.08028 | train_mae: 0.2202  |  0:00:05s\n",
      "epoch 69 | loss: 0.10746 | train_mse: 0.11908 | train_mae: 0.26253 |  0:00:05s\n",
      "epoch 70 | loss: 0.18913 | train_mse: 0.16257 | train_mae: 0.29269 |  0:00:05s\n"
     ]
    },
    {
     "name": "stdout",
     "output_type": "stream",
     "text": [
      "epoch 71 | loss: 0.09185 | train_mse: 0.16839 | train_mae: 0.2994  |  0:00:05s\n",
      "epoch 72 | loss: 0.15426 | train_mse: 0.12338 | train_mae: 0.2553  |  0:00:06s\n",
      "epoch 73 | loss: 0.15049 | train_mse: 0.07925 | train_mae: 0.21383 |  0:00:06s\n",
      "epoch 74 | loss: 0.11188 | train_mse: 0.10591 | train_mae: 0.23856 |  0:00:06s\n"
     ]
    },
    {
     "name": "stdout",
     "output_type": "stream",
     "text": [
      "epoch 75 | loss: 0.07669 | train_mse: 0.19352 | train_mae: 0.33308 |  0:00:06s\n",
      "epoch 76 | loss: 0.12845 | train_mse: 0.14993 | train_mae: 0.29186 |  0:00:06s\n",
      "epoch 77 | loss: 0.10642 | train_mse: 0.08016 | train_mae: 0.21637 |  0:00:06s\n"
     ]
    },
    {
     "name": "stdout",
     "output_type": "stream",
     "text": [
      "epoch 78 | loss: 0.10663 | train_mse: 0.07595 | train_mae: 0.20614 |  0:00:06s\n",
      "epoch 79 | loss: 0.16689 | train_mse: 0.08352 | train_mae: 0.21308 |  0:00:06s\n",
      "epoch 80 | loss: 0.17226 | train_mse: 0.07777 | train_mae: 0.20455 |  0:00:06s\n",
      "epoch 81 | loss: 0.25619 | train_mse: 0.07664 | train_mae: 0.21451 |  0:00:06s\n",
      "epoch 82 | loss: 0.13625 | train_mse: 0.07891 | train_mae: 0.21691 |  0:00:06s\n"
     ]
    },
    {
     "name": "stdout",
     "output_type": "stream",
     "text": [
      "epoch 83 | loss: 0.16095 | train_mse: 0.07024 | train_mae: 0.20085 |  0:00:06s\n",
      "epoch 84 | loss: 0.13077 | train_mse: 0.07432 | train_mae: 0.2105  |  0:00:06s\n",
      "epoch 85 | loss: 0.09523 | train_mse: 0.08134 | train_mae: 0.22135 |  0:00:06s\n"
     ]
    },
    {
     "name": "stdout",
     "output_type": "stream",
     "text": [
      "epoch 86 | loss: 0.10775 | train_mse: 0.08161 | train_mae: 0.22116 |  0:00:06s\n",
      "epoch 87 | loss: 0.15434 | train_mse: 0.07384 | train_mae: 0.21216 |  0:00:07s\n",
      "epoch 88 | loss: 0.15989 | train_mse: 0.07123 | train_mae: 0.20914 |  0:00:07s\n",
      "epoch 89 | loss: 0.09935 | train_mse: 0.07438 | train_mae: 0.20913 |  0:00:07s\n"
     ]
    },
    {
     "name": "stdout",
     "output_type": "stream",
     "text": [
      "epoch 90 | loss: 0.18054 | train_mse: 0.08174 | train_mae: 0.2233  |  0:00:07s\n",
      "epoch 91 | loss: 0.07282 | train_mse: 0.06707 | train_mae: 0.20365 |  0:00:07s\n",
      "epoch 92 | loss: 0.13587 | train_mse: 0.07454 | train_mae: 0.22202 |  0:00:07s\n",
      "epoch 93 | loss: 0.12938 | train_mse: 0.06323 | train_mae: 0.2025  |  0:00:07s\n"
     ]
    },
    {
     "name": "stdout",
     "output_type": "stream",
     "text": [
      "epoch 94 | loss: 0.16829 | train_mse: 0.08227 | train_mae: 0.22597 |  0:00:07s\n",
      "epoch 95 | loss: 0.11493 | train_mse: 0.08417 | train_mae: 0.22031 |  0:00:07s\n",
      "epoch 96 | loss: 0.09291 | train_mse: 0.06675 | train_mae: 0.19601 |  0:00:07s\n",
      "epoch 97 | loss: 0.0883  | train_mse: 0.06625 | train_mae: 0.1998  |  0:00:07s\n"
     ]
    },
    {
     "name": "stdout",
     "output_type": "stream",
     "text": [
      "epoch 98 | loss: 0.12228 | train_mse: 0.06895 | train_mae: 0.20796 |  0:00:07s\n",
      "epoch 99 | loss: 0.07537 | train_mse: 0.07035 | train_mae: 0.21347 |  0:00:07s\n",
      "epoch 100| loss: 0.09555 | train_mse: 0.07146 | train_mae: 0.21021 |  0:00:07s\n"
     ]
    },
    {
     "name": "stdout",
     "output_type": "stream",
     "text": [
      "epoch 101| loss: 0.12202 | train_mse: 0.05946 | train_mae: 0.19593 |  0:00:08s\n",
      "epoch 102| loss: 0.07941 | train_mse: 0.0507  | train_mae: 0.17952 |  0:00:08s\n",
      "epoch 103| loss: 0.11899 | train_mse: 0.04972 | train_mae: 0.17254 |  0:00:08s\n"
     ]
    },
    {
     "name": "stdout",
     "output_type": "stream",
     "text": [
      "epoch 104| loss: 0.104   | train_mse: 0.06061 | train_mae: 0.18687 |  0:00:08s\n",
      "epoch 105| loss: 0.06434 | train_mse: 0.06859 | train_mae: 0.19847 |  0:00:08s\n",
      "epoch 106| loss: 0.1102  | train_mse: 0.06053 | train_mae: 0.17962 |  0:00:08s\n",
      "epoch 107| loss: 0.1133  | train_mse: 0.08216 | train_mae: 0.20198 |  0:00:08s\n"
     ]
    },
    {
     "name": "stdout",
     "output_type": "stream",
     "text": [
      "epoch 108| loss: 0.11656 | train_mse: 0.0975  | train_mae: 0.22067 |  0:00:08s\n",
      "epoch 109| loss: 0.08564 | train_mse: 0.08847 | train_mae: 0.21206 |  0:00:08s\n",
      "epoch 110| loss: 0.10225 | train_mse: 0.08359 | train_mae: 0.21524 |  0:00:08s\n",
      "epoch 111| loss: 0.0827  | train_mse: 0.07514 | train_mae: 0.21614 |  0:00:08s\n"
     ]
    },
    {
     "name": "stdout",
     "output_type": "stream",
     "text": [
      "epoch 112| loss: 0.08642 | train_mse: 0.0561  | train_mae: 0.18955 |  0:00:08s\n",
      "epoch 113| loss: 0.09257 | train_mse: 0.04566 | train_mae: 0.16442 |  0:00:08s\n",
      "epoch 114| loss: 0.16116 | train_mse: 0.05228 | train_mae: 0.17319 |  0:00:08s\n"
     ]
    },
    {
     "name": "stdout",
     "output_type": "stream",
     "text": [
      "epoch 115| loss: 0.08468 | train_mse: 0.06623 | train_mae: 0.182   |  0:00:08s\n",
      "epoch 116| loss: 0.14941 | train_mse: 0.05849 | train_mae: 0.16726 |  0:00:09s\n",
      "epoch 117| loss: 0.09247 | train_mse: 0.06709 | train_mae: 0.199   |  0:00:09s\n",
      "epoch 118| loss: 0.15308 | train_mse: 0.07221 | train_mae: 0.20995 |  0:00:09s\n"
     ]
    },
    {
     "name": "stdout",
     "output_type": "stream",
     "text": [
      "epoch 119| loss: 0.16746 | train_mse: 0.08395 | train_mae: 0.22153 |  0:00:09s\n",
      "epoch 120| loss: 0.18385 | train_mse: 0.09016 | train_mae: 0.22987 |  0:00:09s\n",
      "epoch 121| loss: 0.10836 | train_mse: 0.08312 | train_mae: 0.22676 |  0:00:09s\n",
      "epoch 122| loss: 0.11419 | train_mse: 0.07483 | train_mae: 0.21848 |  0:00:09s\n"
     ]
    },
    {
     "name": "stdout",
     "output_type": "stream",
     "text": [
      "epoch 123| loss: 0.08327 | train_mse: 0.07315 | train_mae: 0.21953 |  0:00:09s\n",
      "epoch 124| loss: 0.09301 | train_mse: 0.06509 | train_mae: 0.20877 |  0:00:09s\n",
      "epoch 125| loss: 0.09935 | train_mse: 0.06328 | train_mae: 0.20489 |  0:00:09s\n"
     ]
    },
    {
     "name": "stdout",
     "output_type": "stream",
     "text": [
      "epoch 126| loss: 0.15223 | train_mse: 0.07474 | train_mae: 0.22469 |  0:00:09s\n",
      "epoch 127| loss: 0.11954 | train_mse: 0.0717  | train_mae: 0.21941 |  0:00:09s\n",
      "epoch 128| loss: 0.20754 | train_mse: 0.08101 | train_mae: 0.23208 |  0:00:09s\n"
     ]
    },
    {
     "name": "stdout",
     "output_type": "stream",
     "text": [
      "epoch 129| loss: 0.0974  | train_mse: 0.0744  | train_mae: 0.22694 |  0:00:09s\n",
      "epoch 130| loss: 0.08479 | train_mse: 0.07074 | train_mae: 0.20695 |  0:00:10s\n",
      "epoch 131| loss: 0.10578 | train_mse: 0.06679 | train_mae: 0.20124 |  0:00:10s\n"
     ]
    },
    {
     "name": "stdout",
     "output_type": "stream",
     "text": [
      "epoch 132| loss: 0.13412 | train_mse: 0.05536 | train_mae: 0.1855  |  0:00:10s\n",
      "epoch 133| loss: 0.09795 | train_mse: 0.06604 | train_mae: 0.1993  |  0:00:10s\n",
      "epoch 134| loss: 0.08889 | train_mse: 0.07254 | train_mae: 0.20782 |  0:00:10s\n"
     ]
    },
    {
     "name": "stdout",
     "output_type": "stream",
     "text": [
      "epoch 135| loss: 0.09587 | train_mse: 0.07586 | train_mae: 0.21082 |  0:00:10s\n",
      "epoch 136| loss: 0.11008 | train_mse: 0.06952 | train_mae: 0.20408 |  0:00:10s\n",
      "epoch 137| loss: 0.10475 | train_mse: 0.07041 | train_mae: 0.20661 |  0:00:10s\n"
     ]
    },
    {
     "name": "stdout",
     "output_type": "stream",
     "text": [
      "epoch 138| loss: 0.08511 | train_mse: 0.08665 | train_mae: 0.22669 |  0:00:10s\n",
      "epoch 139| loss: 0.07837 | train_mse: 0.06779 | train_mae: 0.19852 |  0:00:10s\n",
      "epoch 140| loss: 0.10011 | train_mse: 0.06102 | train_mae: 0.19297 |  0:00:10s\n",
      "epoch 141| loss: 0.14795 | train_mse: 0.07161 | train_mae: 0.20275 |  0:00:10s\n"
     ]
    },
    {
     "name": "stdout",
     "output_type": "stream",
     "text": [
      "epoch 142| loss: 0.13843 | train_mse: 0.08372 | train_mae: 0.21913 |  0:00:10s\n",
      "epoch 143| loss: 0.10248 | train_mse: 0.09035 | train_mae: 0.23333 |  0:00:10s\n",
      "epoch 144| loss: 0.26973 | train_mse: 0.11422 | train_mae: 0.26207 |  0:00:11s\n"
     ]
    },
    {
     "name": "stdout",
     "output_type": "stream",
     "text": [
      "epoch 145| loss: 0.07802 | train_mse: 0.10581 | train_mae: 0.25955 |  0:00:11s\n",
      "epoch 146| loss: 0.15031 | train_mse: 0.08456 | train_mae: 0.22814 |  0:00:11s\n",
      "epoch 147| loss: 0.19228 | train_mse: 0.06487 | train_mae: 0.20132 |  0:00:11s\n"
     ]
    },
    {
     "name": "stdout",
     "output_type": "stream",
     "text": [
      "epoch 148| loss: 0.09906 | train_mse: 0.05297 | train_mae: 0.18661 |  0:00:11s\n",
      "epoch 149| loss: 0.10035 | train_mse: 0.05104 | train_mae: 0.17626 |  0:00:11s\n",
      "epoch 150| loss: 0.0913  | train_mse: 0.05718 | train_mae: 0.18112 |  0:00:11s\n"
     ]
    },
    {
     "name": "stdout",
     "output_type": "stream",
     "text": [
      "epoch 151| loss: 0.10681 | train_mse: 0.06169 | train_mae: 0.19783 |  0:00:11s\n",
      "epoch 152| loss: 0.12117 | train_mse: 0.08563 | train_mae: 0.23057 |  0:00:11s\n",
      "epoch 153| loss: 0.09635 | train_mse: 0.09997 | train_mae: 0.23962 |  0:00:11s\n"
     ]
    },
    {
     "name": "stdout",
     "output_type": "stream",
     "text": [
      "epoch 154| loss: 0.08781 | train_mse: 0.09382 | train_mae: 0.23203 |  0:00:11s\n",
      "epoch 155| loss: 0.17428 | train_mse: 0.0872  | train_mae: 0.22155 |  0:00:11s\n",
      "epoch 156| loss: 0.0754  | train_mse: 0.08473 | train_mae: 0.2173  |  0:00:11s\n"
     ]
    },
    {
     "name": "stdout",
     "output_type": "stream",
     "text": [
      "epoch 157| loss: 0.11266 | train_mse: 0.07942 | train_mae: 0.21308 |  0:00:12s\n",
      "epoch 158| loss: 0.14268 | train_mse: 0.05707 | train_mae: 0.18562 |  0:00:12s\n",
      "epoch 159| loss: 0.10467 | train_mse: 0.05288 | train_mae: 0.17921 |  0:00:12s\n",
      "epoch 160| loss: 0.07392 | train_mse: 0.04734 | train_mae: 0.16193 |  0:00:12s\n"
     ]
    },
    {
     "name": "stdout",
     "output_type": "stream",
     "text": [
      "epoch 161| loss: 0.12    | train_mse: 0.05963 | train_mae: 0.18669 |  0:00:12s\n",
      "epoch 162| loss: 0.10235 | train_mse: 0.05484 | train_mae: 0.17471 |  0:00:12s\n",
      "epoch 163| loss: 0.16048 | train_mse: 0.05806 | train_mae: 0.19017 |  0:00:12s\n",
      "epoch 164| loss: 0.07712 | train_mse: 0.06473 | train_mae: 0.19777 |  0:00:12s\n"
     ]
    },
    {
     "name": "stdout",
     "output_type": "stream",
     "text": [
      "epoch 165| loss: 0.10105 | train_mse: 0.05699 | train_mae: 0.18204 |  0:00:12s\n",
      "epoch 166| loss: 0.1213  | train_mse: 0.05405 | train_mae: 0.17901 |  0:00:12s\n",
      "epoch 167| loss: 0.12498 | train_mse: 0.05909 | train_mae: 0.19009 |  0:00:12s\n",
      "epoch 168| loss: 0.08574 | train_mse: 0.06456 | train_mae: 0.19795 |  0:00:12s\n"
     ]
    },
    {
     "name": "stdout",
     "output_type": "stream",
     "text": [
      "epoch 169| loss: 0.07884 | train_mse: 0.10338 | train_mae: 0.24786 |  0:00:12s\n",
      "epoch 170| loss: 0.0951  | train_mse: 0.12751 | train_mae: 0.27465 |  0:00:12s\n",
      "epoch 171| loss: 0.14106 | train_mse: 0.09794 | train_mae: 0.24587 |  0:00:12s\n"
     ]
    },
    {
     "name": "stdout",
     "output_type": "stream",
     "text": [
      "epoch 172| loss: 0.16156 | train_mse: 0.07141 | train_mae: 0.2136  |  0:00:13s\n",
      "epoch 173| loss: 0.10001 | train_mse: 0.05383 | train_mae: 0.1862  |  0:00:13s\n",
      "epoch 174| loss: 0.14487 | train_mse: 0.0626  | train_mae: 0.20178 |  0:00:13s\n",
      "epoch 175| loss: 0.09135 | train_mse: 0.09583 | train_mae: 0.23968 |  0:00:13s\n"
     ]
    },
    {
     "name": "stdout",
     "output_type": "stream",
     "text": [
      "epoch 176| loss: 0.14437 | train_mse: 0.09487 | train_mae: 0.23461 |  0:00:13s\n",
      "epoch 177| loss: 0.12344 | train_mse: 0.0812  | train_mae: 0.21922 |  0:00:13s\n",
      "epoch 178| loss: 0.09756 | train_mse: 0.08198 | train_mae: 0.20455 |  0:00:13s\n",
      "epoch 179| loss: 0.11544 | train_mse: 0.1245  | train_mae: 0.26269 |  0:00:13s\n"
     ]
    },
    {
     "name": "stdout",
     "output_type": "stream",
     "text": [
      "epoch 180| loss: 0.13403 | train_mse: 0.07939 | train_mae: 0.21162 |  0:00:13s\n",
      "epoch 181| loss: 0.11196 | train_mse: 0.06998 | train_mae: 0.21086 |  0:00:13s\n",
      "epoch 182| loss: 0.11354 | train_mse: 0.06039 | train_mae: 0.19618 |  0:00:13s\n"
     ]
    },
    {
     "name": "stdout",
     "output_type": "stream",
     "text": [
      "epoch 183| loss: 0.06894 | train_mse: 0.07732 | train_mae: 0.20229 |  0:00:13s\n",
      "epoch 184| loss: 0.14758 | train_mse: 0.0858  | train_mae: 0.2216  |  0:00:14s\n",
      "epoch 185| loss: 0.0632  | train_mse: 0.07269 | train_mae: 0.20879 |  0:00:14s\n"
     ]
    },
    {
     "name": "stdout",
     "output_type": "stream",
     "text": [
      "epoch 186| loss: 0.1402  | train_mse: 0.06575 | train_mae: 0.20029 |  0:00:14s\n",
      "epoch 187| loss: 0.07132 | train_mse: 0.06059 | train_mae: 0.19403 |  0:00:14s\n",
      "epoch 188| loss: 0.15842 | train_mse: 0.05806 | train_mae: 0.18572 |  0:00:14s\n",
      "epoch 189| loss: 0.06915 | train_mse: 0.06463 | train_mae: 0.18532 |  0:00:14s\n"
     ]
    },
    {
     "name": "stdout",
     "output_type": "stream",
     "text": [
      "epoch 190| loss: 0.08332 | train_mse: 0.07418 | train_mae: 0.19863 |  0:00:14s\n",
      "epoch 191| loss: 0.08775 | train_mse: 0.10605 | train_mae: 0.24309 |  0:00:14s\n",
      "epoch 192| loss: 0.11757 | train_mse: 0.08288 | train_mae: 0.21093 |  0:00:14s\n",
      "epoch 193| loss: 0.08915 | train_mse: 0.0644  | train_mae: 0.18942 |  0:00:14s\n"
     ]
    },
    {
     "name": "stdout",
     "output_type": "stream",
     "text": [
      "epoch 194| loss: 0.16929 | train_mse: 0.07563 | train_mae: 0.21234 |  0:00:14s\n",
      "epoch 195| loss: 0.1408  | train_mse: 0.06746 | train_mae: 0.20887 |  0:00:14s\n",
      "epoch 196| loss: 0.09901 | train_mse: 0.06421 | train_mae: 0.20606 |  0:00:14s\n",
      "epoch 197| loss: 0.09245 | train_mse: 0.05878 | train_mae: 0.19183 |  0:00:14s\n"
     ]
    },
    {
     "name": "stdout",
     "output_type": "stream",
     "text": [
      "epoch 198| loss: 0.16829 | train_mse: 0.05455 | train_mae: 0.179   |  0:00:14s\n",
      "epoch 199| loss: 0.0882  | train_mse: 0.05463 | train_mae: 0.18015 |  0:00:15s\n",
      "epoch 200| loss: 0.13098 | train_mse: 0.06303 | train_mae: 0.19242 |  0:00:15s\n",
      "epoch 201| loss: 0.07442 | train_mse: 0.06726 | train_mae: 0.20622 |  0:00:15s\n"
     ]
    },
    {
     "name": "stdout",
     "output_type": "stream",
     "text": [
      "epoch 202| loss: 0.10932 | train_mse: 0.0587  | train_mae: 0.19169 |  0:00:15s\n",
      "epoch 203| loss: 0.07145 | train_mse: 0.06055 | train_mae: 0.19879 |  0:00:15s\n",
      "epoch 204| loss: 0.14535 | train_mse: 0.05592 | train_mae: 0.18874 |  0:00:15s\n"
     ]
    },
    {
     "name": "stdout",
     "output_type": "stream",
     "text": [
      "epoch 205| loss: 0.15083 | train_mse: 0.11153 | train_mae: 0.25705 |  0:00:15s\n",
      "epoch 206| loss: 0.09561 | train_mse: 0.11654 | train_mae: 0.26138 |  0:00:15s\n",
      "epoch 207| loss: 0.09049 | train_mse: 0.04718 | train_mae: 0.17137 |  0:00:15s\n",
      "epoch 208| loss: 0.16225 | train_mse: 0.05291 | train_mae: 0.18213 |  0:00:15s\n"
     ]
    },
    {
     "name": "stdout",
     "output_type": "stream",
     "text": [
      "epoch 209| loss: 0.08852 | train_mse: 0.07816 | train_mae: 0.21621 |  0:00:15s\n",
      "epoch 210| loss: 0.11293 | train_mse: 0.08081 | train_mae: 0.21729 |  0:00:15s\n",
      "\n",
      "Early stopping occurred at epoch 210 with best_epoch = 160 and best_train_mae = 0.16193\n",
      "Best weights from best epoch are automatically used!\n"
     ]
    }
   ],
   "source": [
    "#Train the Model\n",
    "\n",
    "Y_train = np.reshape(Y_train, (-1, 1))\n",
    "Y_test = np.reshape(Y_test, (-1, 1))\n",
    "\n",
    "prior_model = TabNetRegressor(optimizer_fn=torch.optim.Adam, optimizer_params=dict(lr = 0.02),\n",
    "          #scheduler_params={\"step_size\":10, ], \"gamma\":0.9},\n",
    "          #scheduler_fn=torch.optim.lr_scheduler.StepLR\n",
    "          )  #TabNetRegressor()\n",
    "\n",
    "prior_model.fit(X_train,Y_train,eval_set=[(X_train, Y_train)],\n",
    "            eval_name=['train'], \n",
    "            eval_metric=[ 'mse', 'mae'], \n",
    "            max_epochs = n_epochs, \n",
    "            batch_size = batch_size,\n",
    "            patience=50\n",
    "            )"
   ]
  },
  {
   "cell_type": "code",
   "execution_count": 10,
   "id": "af65dcda",
   "metadata": {
    "execution": {
     "iopub.execute_input": "2022-06-22T12:15:02.588379Z",
     "iopub.status.busy": "2022-06-22T12:15:02.587504Z",
     "iopub.status.idle": "2022-06-22T12:15:02.609350Z",
     "shell.execute_reply": "2022-06-22T12:15:02.609962Z"
    },
    "id": "af65dcda",
    "papermill": {
     "duration": 0.074182,
     "end_time": "2022-06-22T12:15:02.610185",
     "exception": false,
     "start_time": "2022-06-22T12:15:02.536003",
     "status": "completed"
    },
    "tags": []
   },
   "outputs": [
    {
     "data": {
      "application/scrapbook.scrap.json+json": {
       "data": 0.24898142644241364,
       "encoder": "json",
       "name": "Prior Model MSE",
       "version": 1
      }
     },
     "metadata": {
      "scrapbook": {
       "data": true,
       "display": false,
       "name": "Prior Model MSE"
      }
     },
     "output_type": "display_data"
    },
    {
     "data": {
      "application/scrapbook.scrap.json+json": {
       "data": 0.24871770043398894,
       "encoder": "json",
       "name": "ABC Pre-generator MSE",
       "version": 1
      }
     },
     "metadata": {
      "scrapbook": {
       "data": true,
       "display": false,
       "name": "ABC Pre-generator MSE"
      }
     },
     "output_type": "display_data"
    },
    {
     "data": {
      "application/scrapbook.scrap.json+json": {
       "data": 0.3510127626530564,
       "encoder": "json",
       "name": "Prior Model MSE",
       "version": 1
      }
     },
     "metadata": {
      "scrapbook": {
       "data": true,
       "display": false,
       "name": "Prior Model MSE"
      }
     },
     "output_type": "display_data"
    },
    {
     "data": {
      "application/scrapbook.scrap.json+json": {
       "data": 0.353471298339368,
       "encoder": "json",
       "name": "ABC Pre-generator MSE",
       "version": 1
      }
     },
     "metadata": {
      "scrapbook": {
       "data": true,
       "display": false,
       "name": "ABC Pre-generator MSE"
      }
     },
     "output_type": "display_data"
    }
   ],
   "source": [
    "y_pred = prior_model.predict(X_test)\n",
    "y_abc = y_pred + np.random.normal(0,variance, y_pred.shape) + bias \n",
    "mse = mean_squared_error(y_pred,Y_test)\n",
    "sb.glue(\"Prior Model MSE\",mse)\n",
    "mse = mean_squared_error(y_abc,Y_test)\n",
    "sb.glue(\"ABC Pre-generator MSE\",mse)\n",
    "mae = mean_absolute_error(y_pred,Y_test)\n",
    "sb.glue(\"Prior Model MSE\",mae)\n",
    "mae = mean_absolute_error(y_abc,Y_test)\n",
    "sb.glue(\"ABC Pre-generator MSE\",mae)"
   ]
  },
  {
   "cell_type": "markdown",
   "id": "25609da2",
   "metadata": {
    "papermill": {
     "duration": 0.046449,
     "end_time": "2022-06-22T12:15:02.689363",
     "exception": false,
     "start_time": "2022-06-22T12:15:02.642914",
     "status": "completed"
    },
    "tags": []
   },
   "source": [
    "# ABC GAN Model"
   ]
  },
  {
   "cell_type": "code",
   "execution_count": 11,
   "id": "dfc3464d",
   "metadata": {
    "execution": {
     "iopub.execute_input": "2022-06-22T12:15:02.758264Z",
     "iopub.status.busy": "2022-06-22T12:15:02.757545Z",
     "iopub.status.idle": "2022-06-22T12:15:02.762419Z",
     "shell.execute_reply": "2022-06-22T12:15:02.762993Z"
    },
    "papermill": {
     "duration": 0.042485,
     "end_time": "2022-06-22T12:15:02.763205",
     "exception": false,
     "start_time": "2022-06-22T12:15:02.720720",
     "status": "completed"
    },
    "tags": []
   },
   "outputs": [],
   "source": [
    "gen = network.Generator(n_features+1).to(device)\n",
    "disc = network.Discriminator(n_features+1).to(device)\n",
    "\n",
    "criterion = torch.nn.BCELoss()\n",
    "gen_opt = torch.optim.Adam(gen.parameters(), lr=0.001, betas=(0.5, 0.999))\n",
    "disc_opt = torch.optim.Adam(disc.parameters(), lr=0.001, betas=(0.5, 0.999))"
   ]
  },
  {
   "cell_type": "code",
   "execution_count": 12,
   "id": "b75fdd85",
   "metadata": {
    "execution": {
     "iopub.execute_input": "2022-06-22T12:15:02.836276Z",
     "iopub.status.busy": "2022-06-22T12:15:02.834872Z",
     "iopub.status.idle": "2022-06-22T12:15:43.827566Z",
     "shell.execute_reply": "2022-06-22T12:15:43.828076Z"
    },
    "papermill": {
     "duration": 41.032694,
     "end_time": "2022-06-22T12:15:43.828274",
     "exception": false,
     "start_time": "2022-06-22T12:15:02.795580",
     "status": "completed"
    },
    "tags": []
   },
   "outputs": [
    {
     "data": {
      "image/png": "[encoded data removed]",
      "text/plain": [
       "<Figure size 432x288 with 1 Axes>"
      ]
     },
     "metadata": {
      "needs_background": "light"
     },
     "output_type": "display_data"
    },
    {
     "data": {
      "image/png": "[encoded data removed]",
      "text/plain": [
       "<Figure size 432x288 with 1 Axes>"
      ]
     },
     "metadata": {
      "needs_background": "light"
     },
     "output_type": "display_data"
    }
   ],
   "source": [
    "#Training the ABC_GAN \n",
    "ABC_train_test2.training_GAN(disc,gen,disc_opt,gen_opt,train_data,batch_size,n_epochs,criterion,prior_model,variance,bias,device)"
   ]
  },
  {
   "cell_type": "code",
   "execution_count": 13,
   "id": "1fa7c368",
   "metadata": {
    "execution": {
     "iopub.execute_input": "2022-06-22T12:15:43.911543Z",
     "iopub.status.busy": "2022-06-22T12:15:43.910628Z",
     "iopub.status.idle": "2022-06-22T12:15:44.599574Z",
     "shell.execute_reply": "2022-06-22T12:15:44.600105Z"
    },
    "papermill": {
     "duration": 0.740285,
     "end_time": "2022-06-22T12:15:44.600359",
     "exception": false,
     "start_time": "2022-06-22T12:15:43.860074",
     "status": "completed"
    },
    "tags": []
   },
   "outputs": [
    {
     "data": {
      "application/scrapbook.scrap.json+json": {
       "data": 0.3978568912561588,
       "encoder": "json",
       "name": "ABC-GAN Model 1 MSE",
       "version": 1
      }
     },
     "metadata": {
      "scrapbook": {
       "data": true,
       "display": false,
       "name": "ABC-GAN Model 1 MSE"
      }
     },
     "output_type": "display_data"
    },
    {
     "data": {
      "application/scrapbook.scrap.json+json": {
       "data": 0.4554248316027224,
       "encoder": "json",
       "name": "ABC-GAN Model 1 MAE",
       "version": 1
      }
     },
     "metadata": {
      "scrapbook": {
       "data": true,
       "display": false,
       "name": "ABC-GAN Model 1 MAE"
      }
     },
     "output_type": "display_data"
    },
    {
     "data": {
      "application/scrapbook.scrap.json+json": {
       "data": 9.108496632054448,
       "encoder": "json",
       "name": "ABC-GAN Model 1 Manhattan Distance",
       "version": 1
      }
     },
     "metadata": {
      "scrapbook": {
       "data": true,
       "display": false,
       "name": "ABC-GAN Model 1 Manhattan Distance"
      }
     },
     "output_type": "display_data"
    },
    {
     "data": {
      "application/scrapbook.scrap.json+json": {
       "data": 2.820824439989186,
       "encoder": "json",
       "name": "ABC-GAN Model 1 Euclidean distance",
       "version": 1
      }
     },
     "metadata": {
      "scrapbook": {
       "data": true,
       "display": false,
       "name": "ABC-GAN Model 1 Euclidean distance"
      }
     },
     "output_type": "display_data"
    },
    {
     "data": {
      "application/scrapbook.scrap.json+json": {
       "data": [
        [
         0.3988458845567995,
         0.4043801772550292,
         0.3966606334971051,
         0.3956984268172605,
         0.4041553142080206,
         0.39317688657562355,
         0.3954112176696398,
         0.3988437623391318,
         0.39945079808224915,
         0.3985507217739353,
         0.39588011090180264,
         0.3944484737200051,
         0.3993046901624971,
         0.39817921804166617,
         0.39784147861275454,
         0.39584329728002354,
         0.39952662289940494,
         0.3952992205853978,
         0.3951910967788811,
         0.4011403158822494,
         0.3968898604315737,
         0.3978791626834021,
         0.40007529471523,
         0.39333036734268884,
         0.3974158713634906,
         0.4009471505324417,
         0.40039297515550343,
         0.4019375437311429,
         0.39798185546252135,
         0.39345762719460764,
         0.4019688151833793,
         0.39740564384749055,
         0.3933304847941506,
         0.3979183420210399,
         0.3944526897052954,
         0.40384665399540226,
         0.3955231252460535,
         0.39887828027259775,
         0.3970309337409712,
         0.39876512396864444,
         0.3949279254229908,
         0.3964080783374594,
         0.39825021899413215,
         0.3967711186123075,
         0.3950927652623001,
         0.39773034620856756,
         0.40021949897013176,
         0.3984847952846923,
         0.40356132889106516,
         0.39940976567000064,
         0.3994986860032611,
         0.39454916095757386,
         0.39601341254086614,
         0.3974339052899889,
         0.4028487410680496,
         0.39725797232653276,
         0.3970596856599752,
         0.39373932092344377,
         0.39647122075292135,
         0.398429320841445,
         0.3961357394392628,
         0.3969932161969855,
         0.40277201889046915,
         0.39746743719707006,
         0.3962115946924269,
         0.3987371796218363,
         0.39555942131032534,
         0.39697927007812495,
         0.39294525284327975,
         0.39800750768616205,
         0.3972163630426214,
         0.40075692225822845,
         0.3976842154085026,
         0.39947380158994183,
         0.39922375875861593,
         0.39588677264841066,
         0.39597400692243595,
         0.3943806911833936,
         0.4018190287313483,
         0.39702015874758434,
         0.3946314866729803,
         0.4010980967128809,
         0.3942183790342928,
         0.4008132313316972,
         0.4032449589433062,
         0.39638608397825176,
         0.39518120892436503,
         0.3977587727229553,
         0.3989406108183698,
         0.39806938330244657,
         0.4002970299317335,
         0.4016836860029397,
         0.3963544165427796,
         0.39684357342900556,
         0.39738415473837696,
         0.3981646107273591,
         0.397142005824576,
         0.39553465641607743,
         0.39890559930527114,
         0.4003794059643804
        ],
        [
         0.4547289077192545,
         0.4582570236176252,
         0.45271899923682213,
         0.4560974434018135,
         0.4615206427872181,
         0.45401965603232386,
         0.4555782344192266,
         0.45395561680197716,
         0.45718972831964494,
         0.4551893465220928,
         0.45412123054265974,
         0.45314676836133005,
         0.45604655891656876,
         0.45532925948500635,
         0.4568907514214516,
         0.45393260642886163,
         0.45654881522059443,
         0.4540430035442114,
         0.4543000221252441,
         0.4581083945930004,
         0.45235228501260283,
         0.45588826164603236,
         0.4561722993850708,
         0.45022141486406325,
         0.4554812997579575,
         0.4569232862442732,
         0.45950413271784785,
         0.4554747238755226,
         0.4547360956668854,
         0.4545280858874321,
         0.4567586980760098,
         0.45314661487936975,
         0.45295639261603354,
         0.45744759067893026,
         0.45420738570392133,
         0.46132064461708067,
         0.45451056100428106,
         0.45682124234735966,
         0.4549598678946495,
         0.4547836475074291,
         0.4520405687391758,
         0.4575997143983841,
         0.4590510740876198,
         0.4541989333927631,
         0.45530198886990547,
         0.4535763941705227,
         0.45946217253804206,
         0.45710519403219224,
         0.45872527211904524,
         0.45938851945102216,
         0.45610301941633224,
         0.4520972162485123,
         0.4548744410276413,
         0.4565554536879063,
         0.4594377130270004,
         0.45560300126671793,
         0.4551726240664721,
         0.4510187771171331,
         0.4572423942387104,
         0.4562672100961208,
         0.4513049300760031,
         0.45570640712976457,
         0.45846502780914306,
         0.45432391911745074,
         0.4545854959636927,
         0.4562569119036198,
         0.4532455988228321,
         0.4521738298237324,
         0.4531500808894634,
         0.4539742827415466,
         0.452085005864501,
         0.45819090530276296,
         0.45503844134509563,
         0.4568223897367716,
         0.4569429449737072,
         0.4535847008228302,
         0.45419091880321505,
         0.4526650134474039,
         0.457144121825695,
         0.45230861715972426,
         0.45248620174825194,
         0.4562072169035673,
         0.4534059431403875,
         0.45542215891182425,
         0.45937633886933327,
         0.4527147188782692,
         0.4544986881315708,
         0.45661947056651114,
         0.45811890438199043,
         0.4556459836661816,
         0.45825734063982965,
         0.45912005975842474,
         0.4508865673094988,
         0.4561279721558094,
         0.4550484322011471,
         0.4547408793121576,
         0.45461853221058846,
         0.45191360972821715,
         0.45622944720089437,
         0.4581459291279316
        ],
        [
         9.09457815438509,
         9.165140472352505,
         9.054379984736443,
         9.12194886803627,
         9.230412855744362,
         9.080393120646477,
         9.111564688384533,
         9.079112336039543,
         9.143794566392899,
         9.103786930441856,
         9.082424610853195,
         9.0629353672266,
         9.120931178331375,
         9.106585189700127,
         9.137815028429031,
         9.078652128577232,
         9.130976304411888,
         9.080860070884228,
         9.086000442504883,
         9.162167891860008,
         9.047045700252056,
         9.117765232920647,
         9.123445987701416,
         9.004428297281265,
         9.10962599515915,
         9.138465724885464,
         9.190082654356956,
         9.109494477510452,
         9.094721913337708,
         9.090561717748642,
         9.135173961520195,
         9.062932297587395,
         9.059127852320671,
         9.148951813578606,
         9.084147714078426,
         9.226412892341614,
         9.09021122008562,
         9.136424846947193,
         9.09919735789299,
         9.095672950148582,
         9.040811374783516,
         9.151994287967682,
         9.181021481752396,
         9.083978667855263,
         9.10603977739811,
         9.071527883410454,
         9.189243450760841,
         9.142103880643845,
         9.174505442380905,
         9.187770389020443,
         9.122060388326645,
         9.041944324970245,
         9.097488820552826,
         9.131109073758125,
         9.188754260540009,
         9.112060025334358,
         9.103452481329441,
         9.020375542342663,
         9.144847884774208,
         9.125344201922417,
         9.026098601520061,
         9.114128142595291,
         9.169300556182861,
         9.086478382349014,
         9.091709919273853,
         9.125138238072395,
         9.064911976456642,
         9.043476596474648,
         9.063001617789268,
         9.079485654830933,
         9.04170011729002,
         9.16381810605526,
         9.100768826901913,
         9.136447794735432,
         9.138858899474144,
         9.071694016456604,
         9.0838183760643,
         9.053300268948078,
         9.1428824365139,
         9.046172343194485,
         9.049724034965038,
         9.124144338071346,
         9.06811886280775,
         9.108443178236485,
         9.187526777386665,
         9.054294377565384,
         9.089973762631416,
         9.132389411330223,
         9.162378087639809,
         9.112919673323631,
         9.165146812796593,
         9.182401195168495,
         9.017731346189976,
         9.122559443116188,
         9.100968644022942,
         9.094817586243153,
         9.092370644211769,
         9.038272194564342,
         9.124588944017887,
         9.162918582558632
        ],
        [
         2.824343762918386,
         2.843871225126163,
         2.816595936577006,
         2.8131776581554906,
         2.8430804216835672,
         2.8042000163170373,
         2.8121565307416296,
         2.824336248887982,
         2.8264847357884286,
         2.8232985027231368,
         2.8138234162854023,
         2.8087309366331445,
         2.8259677640146466,
         2.8219823459464313,
         2.820785275815068,
         2.813692581928678,
         2.826752988499013,
         2.8117582420449945,
         2.8113736741275823,
         2.832455880970609,
         2.8174096629051792,
         2.820918866906321,
         2.8286933192385137,
         2.8047472875205313,
         2.819276046659818,
         2.8317738275944344,
         2.829816160656036,
         2.83526910091844,
         2.821282883592219,
         2.805200981015826,
         2.8353793932501494,
         2.8192397693260873,
         2.804747706280016,
         2.8210577520534383,
         2.808745946878412,
         2.841994560147511,
         2.812554444792326,
         2.8244584623343205,
         2.8179103383215414,
         2.8240578038299584,
         2.8104374229752596,
         2.8156991257499775,
         2.822233934294364,
         2.8169881739627787,
         2.81102388912759,
         2.8203912714677286,
         2.829203064363291,
         2.823064984320029,
         2.8409904219868998,
         2.826339560880825,
         2.8266541564303944,
         2.8090893932289656,
         2.814297114879188,
         2.819340012449683,
         2.838481076449338,
         2.818715921573271,
         2.8180123692417505,
         2.806204985112256,
         2.8159233681083062,
         2.8228684731720852,
         2.814731743663196,
         2.817776485802185,
         2.838210770504788,
         2.8194589452484324,
         2.8150012244843765,
         2.8239588510523177,
         2.8126834920066117,
         2.8177269920207846,
         2.803373870332959,
         2.821373806095754,
         2.818568299838134,
         2.831101984239453,
         2.820227705021361,
         2.8265661201887418,
         2.8256813647636068,
         2.8138470912557088,
         2.81415709199908,
         2.8084895982837237,
         2.8348510674508045,
         2.817872100531124,
         2.8093824469907274,
         2.8323068220547043,
         2.807911604856153,
         2.831300871796204,
         2.839876613317227,
         2.815621011351676,
         2.811338503006584,
         2.820492058925021,
         2.824679135117367,
         2.8215931078114243,
         2.8294770892577783,
         2.834373602766367,
         2.8155085385868737,
         2.8172453688985115,
         2.8191635452324397,
         2.8219305828718007,
         2.8183044754766153,
         2.812595443415485,
         2.8245551837599887,
         2.829768209463031
        ]
       ],
       "encoder": "json",
       "name": "ABC_GAN_1 Metrics",
       "version": 1
      }
     },
     "metadata": {
      "scrapbook": {
       "data": true,
       "display": false,
       "name": "ABC_GAN_1 Metrics"
      }
     },
     "output_type": "display_data"
    },
    {
     "name": "stdout",
     "output_type": "stream",
     "text": [
      "MSE\n",
      "0.3978568912561588\n"
     ]
    }
   ],
   "source": [
    "ABC_GAN1_metrics=ABC_train_test2.test_generator(gen,test_data,prior_model,variance,bias,\"1\",device)\n",
    "sb.glue(\"ABC_GAN_1 Metrics\",ABC_GAN1_metrics)\n",
    "\n",
    "print(\"MSE\")\n",
    "print(mean(ABC_GAN1_metrics[0]))"
   ]
  },
  {
   "cell_type": "code",
   "execution_count": 14,
   "id": "eb22ce5c",
   "metadata": {
    "execution": {
     "iopub.execute_input": "2022-06-22T12:15:44.692114Z",
     "iopub.status.busy": "2022-06-22T12:15:44.691372Z",
     "iopub.status.idle": "2022-06-22T12:15:45.425919Z",
     "shell.execute_reply": "2022-06-22T12:15:45.426431Z"
    },
    "papermill": {
     "duration": 0.785113,
     "end_time": "2022-06-22T12:15:45.426631",
     "exception": false,
     "start_time": "2022-06-22T12:15:44.641518",
     "status": "completed"
    },
    "tags": []
   },
   "outputs": [
    {
     "data": {
      "image/png": "[encoded data removed]",
      "text/plain": [
       "<Figure size 432x288 with 1 Axes>"
      ]
     },
     "metadata": {
      "needs_background": "light"
     },
     "output_type": "display_data"
    },
    {
     "data": {
      "image/png": "[encoded data removed]",
      "text/plain": [
       "<Figure size 432x288 with 1 Axes>"
      ]
     },
     "metadata": {
      "needs_background": "light"
     },
     "output_type": "display_data"
    },
    {
     "data": {
      "image/png": "[encoded data removed]",
      "text/plain": [
       "<Figure size 432x288 with 1 Axes>"
      ]
     },
     "metadata": {
      "needs_background": "light"
     },
     "output_type": "display_data"
    },
    {
     "data": {
      "image/png": "[encoded data removed]",
      "text/plain": [
       "<Figure size 432x288 with 1 Axes>"
      ]
     },
     "metadata": {
      "needs_background": "light"
     },
     "output_type": "display_data"
    }
   ],
   "source": [
    "sanityChecks.discProbVsError(train_data,disc,device)\n",
    "sanityChecks.discProbVsError(test_data,disc,device)"
   ]
  },
  {
   "cell_type": "markdown",
   "id": "130f3a4d",
   "metadata": {
    "id": "130f3a4d",
    "papermill": {
     "duration": 0.049306,
     "end_time": "2022-06-22T12:15:45.524962",
     "exception": false,
     "start_time": "2022-06-22T12:15:45.475656",
     "status": "completed"
    },
    "tags": []
   },
   "source": [
    "# ABC - GAN Model with skip connection"
   ]
  },
  {
   "cell_type": "code",
   "execution_count": 15,
   "id": "4e43dad1",
   "metadata": {
    "execution": {
     "iopub.execute_input": "2022-06-22T12:15:45.620940Z",
     "iopub.status.busy": "2022-06-22T12:15:45.620213Z",
     "iopub.status.idle": "2022-06-22T12:15:45.624956Z",
     "shell.execute_reply": "2022-06-22T12:15:45.625658Z"
    },
    "id": "4e43dad1",
    "papermill": {
     "duration": 0.056422,
     "end_time": "2022-06-22T12:15:45.625866",
     "exception": false,
     "start_time": "2022-06-22T12:15:45.569444",
     "status": "completed"
    },
    "tags": []
   },
   "outputs": [],
   "source": [
    "#Generator\n",
    "gen3 = network.GeneratorWithSkipConnection(n_features+1).to(device)\n",
    "constraints=network.weightConstraint()\n",
    "#Discriminator \n",
    "disc3 = network.Discriminator(n_features+1).to(device)\n",
    "\n",
    "criterion = torch.nn.BCELoss()\n",
    "gen_opt = torch.optim.Adam(gen3.parameters(), lr=0.001, betas=(0.5, 0.999))\n",
    "disc_opt = torch.optim.Adam(disc3.parameters(), lr=0.001, betas=(0.5, 0.999))\n"
   ]
  },
  {
   "cell_type": "code",
   "execution_count": 16,
   "id": "26acbc37",
   "metadata": {
    "execution": {
     "iopub.execute_input": "2022-06-22T12:15:45.744691Z",
     "iopub.status.busy": "2022-06-22T12:15:45.743872Z",
     "iopub.status.idle": "2022-06-22T12:16:54.629902Z",
     "shell.execute_reply": "2022-06-22T12:16:54.630440Z"
    },
    "id": "26acbc37",
    "papermill": {
     "duration": 68.95384,
     "end_time": "2022-06-22T12:16:54.630670",
     "exception": false,
     "start_time": "2022-06-22T12:15:45.676830",
     "status": "completed"
    },
    "tags": []
   },
   "outputs": [
    {
     "data": {
      "image/png": "[encoded data removed]",
      "text/plain": [
       "<Figure size 432x288 with 1 Axes>"
      ]
     },
     "metadata": {
      "needs_background": "light"
     },
     "output_type": "display_data"
    },
    {
     "data": {
      "image/png": "[encoded data removed]",
      "text/plain": [
       "<Figure size 432x288 with 1 Axes>"
      ]
     },
     "metadata": {
      "needs_background": "light"
     },
     "output_type": "display_data"
    }
   ],
   "source": [
    "ABC_train_test2.training_GAN_skip_connection(disc3,gen3,disc_opt,gen_opt,train_data,batch_size,n_epochs,criterion,prior_model,variance,bias,device)"
   ]
  },
  {
   "cell_type": "code",
   "execution_count": 17,
   "id": "c5e0717b",
   "metadata": {
    "execution": {
     "iopub.execute_input": "2022-06-22T12:16:54.742814Z",
     "iopub.status.busy": "2022-06-22T12:16:54.742067Z",
     "iopub.status.idle": "2022-06-22T12:16:55.530062Z",
     "shell.execute_reply": "2022-06-22T12:16:55.530534Z"
    },
    "id": "c5e0717b",
    "papermill": {
     "duration": 0.854145,
     "end_time": "2022-06-22T12:16:55.530744",
     "exception": false,
     "start_time": "2022-06-22T12:16:54.676599",
     "status": "completed"
    },
    "tags": []
   },
   "outputs": [
    {
     "data": {
      "application/scrapbook.scrap.json+json": {
       "data": 0.24901250708289976,
       "encoder": "json",
       "name": "ABC-GAN Model 3 MSE",
       "version": 1
      }
     },
     "metadata": {
      "scrapbook": {
       "data": true,
       "display": false,
       "name": "ABC-GAN Model 3 MSE"
      }
     },
     "output_type": "display_data"
    },
    {
     "data": {
      "application/scrapbook.scrap.json+json": {
       "data": 0.35284946708194914,
       "encoder": "json",
       "name": "ABC-GAN Model 3 MAE",
       "version": 1
      }
     },
     "metadata": {
      "scrapbook": {
       "data": true,
       "display": false,
       "name": "ABC-GAN Model 3 MAE"
      }
     },
     "output_type": "display_data"
    },
    {
     "data": {
      "application/scrapbook.scrap.json+json": {
       "data": 7.056989341638983,
       "encoder": "json",
       "name": "ABC-GAN Model 3 Manhattan Distance",
       "version": 1
      }
     },
     "metadata": {
      "scrapbook": {
       "data": true,
       "display": false,
       "name": "ABC-GAN Model 3 Manhattan Distance"
      }
     },
     "output_type": "display_data"
    },
    {
     "data": {
      "application/scrapbook.scrap.json+json": {
       "data": 2.2316243985914648,
       "encoder": "json",
       "name": "ABC-GAN Model 3 Euclidean distance",
       "version": 1
      }
     },
     "metadata": {
      "scrapbook": {
       "data": true,
       "display": false,
       "name": "ABC-GAN Model 3 Euclidean distance"
      }
     },
     "output_type": "display_data"
    },
    {
     "data": {
      "application/scrapbook.scrap.json+json": {
       "data": [
        [
         0.24632424069298162,
         0.24964916937534887,
         0.24561844397883598,
         0.25037113511694054,
         0.24830174025389118,
         0.24823673575231636,
         0.2483143038674696,
         0.2470034771373253,
         0.2449755521933265,
         0.24877885597234836,
         0.2513077195828294,
         0.25079869450692216,
         0.24844352179610701,
         0.25090516240884125,
         0.2477785055952364,
         0.25138374123323515,
         0.24807721381919431,
         0.2536472638402666,
         0.2483080625034771,
         0.2516226642668975,
         0.2477995871442961,
         0.24919281951721145,
         0.24903126487753663,
         0.24734581838131167,
         0.24663790605769642,
         0.2472806769271796,
         0.2462481931517238,
         0.2540429936734115,
         0.25099220436362646,
         0.24785308469360223,
         0.24544211309502467,
         0.24474501014588196,
         0.24947776369852886,
         0.251689223188139,
         0.24692145460449058,
         0.2487720626911823,
         0.24581297975967414,
         0.2516583655728848,
         0.24672212240403885,
         0.2485712800917384,
         0.2548366768865455,
         0.24707216563636497,
         0.2541047120358221,
         0.25027044870877424,
         0.24699206975261787,
         0.24688523325153017,
         0.2469242398451194,
         0.24833610693201474,
         0.25089335201444124,
         0.24617844621800122,
         0.24920457173128718,
         0.2503592861354698,
         0.2509105904045613,
         0.24921170547249819,
         0.2519599527538332,
         0.2469662165379504,
         0.2528484457969232,
         0.2470234932961724,
         0.2530643019456398,
         0.24631179726810148,
         0.24701395134283857,
         0.24628630052040604,
         0.24664368789977714,
         0.2462108356957426,
         0.250849782704306,
         0.2504349127905662,
         0.2508497048713529,
         0.24993658158231033,
         0.25253028305837544,
         0.24652769786684772,
         0.25133589867657047,
         0.24764445251648545,
         0.24800232089644814,
         0.250315455984642,
         0.2474101205383771,
         0.24631831037058144,
         0.24959192559916574,
         0.24639105718879026,
         0.2504537489209879,
         0.2481277639891306,
         0.25230145572570917,
         0.24925887298775712,
         0.2508590161293955,
         0.2507023945344502,
         0.2453139311050605,
         0.24912191812123377,
         0.24952458334384944,
         0.25018726220750276,
         0.25015730101938466,
         0.24987150478339099,
         0.2480868943938502,
         0.25142633253528096,
         0.2507884276736564,
         0.24972391007611422,
         0.2499522049839454,
         0.251544563781956,
         0.24854533913776827,
         0.24596390843141772,
         0.247357693818699,
         0.2512514599292131
        ],
        [
         0.3517305897548795,
         0.3558066414669156,
         0.3501452630385756,
         0.3529172306880355,
         0.3515226062387228,
         0.3535261394456029,
         0.35107839312404393,
         0.35002190601080657,
         0.3517974656075239,
         0.3508921515196562,
         0.352739667519927,
         0.3541753014549613,
         0.35451944936066865,
         0.35293991677463055,
         0.3511292368173599,
         0.35555582139641045,
         0.3514945348724723,
         0.35705374702811243,
         0.3525571070611477,
         0.35366276241838934,
         0.3538389500230551,
         0.3521663496270776,
         0.3562543760985136,
         0.35193331688642504,
         0.35152610298246145,
         0.3548778142780066,
         0.35070811212062836,
         0.3573574570938945,
         0.35562382396310566,
         0.3551524620503187,
         0.3505826975218952,
         0.3482099886983633,
         0.3531083665788174,
         0.35573124065995215,
         0.35140859950333836,
         0.3545715602114797,
         0.3489534078165889,
         0.3544760480523109,
         0.35030894409865143,
         0.35407407116144896,
         0.3556216830387712,
         0.35118916165083647,
         0.3573032930493355,
         0.3521461024880409,
         0.3516330625861883,
         0.3498013813048601,
         0.35130826346576216,
         0.3528872763738036,
         0.3543718546628952,
         0.3494873898103833,
         0.35045627038925886,
         0.3550748823210597,
         0.3546571392565966,
         0.3524540103971958,
         0.354611873626709,
         0.3512355322018266,
         0.35521944873034955,
         0.35143137648701667,
         0.3578895881772041,
         0.35443840697407725,
         0.3504803109914064,
         0.35258367341011765,
         0.35214632712304594,
         0.35263577233999965,
         0.35469853077083824,
         0.35547013878822326,
         0.35142773427069185,
         0.35292392000555994,
         0.35542807187885045,
         0.35089203510433437,
         0.3577287059277296,
         0.3493881102651358,
         0.3516217291355133,
         0.35477580353617666,
         0.35310540311038496,
         0.3494543842971325,
         0.35152901746332643,
         0.35066879987716676,
         0.35291707552969453,
         0.35333922877907753,
         0.35635650213807823,
         0.35247243009507656,
         0.3575102848932147,
         0.35228567067533734,
         0.35090202298015355,
         0.35434229858219624,
         0.3514646613970399,
         0.3541941061615944,
         0.3518826276063919,
         0.3532685026526451,
         0.35217112582176924,
         0.35365897603332996,
         0.3547012636438012,
         0.3517990026623011,
         0.3523797683417797,
         0.3536467354744673,
         0.3488532492890954,
         0.3472037146799266,
         0.3483664421364665,
         0.35492493230849503
        ],
        [
         7.0346117950975895,
         7.116132829338312,
         7.002905260771513,
         7.05834461376071,
         7.030452124774456,
         7.070522788912058,
         7.021567862480879,
         7.000438120216131,
         7.035949312150478,
         7.017843030393124,
         7.0547933503985405,
         7.083506029099226,
         7.090388987213373,
         7.058798335492611,
         7.0225847363471985,
         7.111116427928209,
         7.029890697449446,
         7.141074940562248,
         7.051142141222954,
         7.073255248367786,
         7.0767790004611015,
         7.043326992541552,
         7.125087521970272,
         7.0386663377285,
         7.030522059649229,
         7.097556285560131,
         7.014162242412567,
         7.14714914187789,
         7.112476479262114,
         7.103049241006374,
         7.011653950437903,
         6.964199773967266,
         7.062167331576347,
         7.114624813199043,
         7.028171990066767,
         7.091431204229593,
         6.979068156331778,
         7.089520961046219,
         7.006178881973028,
         7.081481423228979,
         7.112433660775423,
         7.023783233016729,
         7.14606586098671,
         7.0429220497608185,
         7.032661251723766,
         6.996027626097202,
         7.026165269315243,
         7.057745527476072,
         7.087437093257904,
         6.989747796207666,
         7.009125407785177,
         7.101497646421194,
         7.093142785131931,
         7.049080207943916,
         7.09223747253418,
         7.0247106440365314,
         7.104388974606991,
         7.028627529740334,
         7.157791763544083,
         7.0887681394815445,
         7.009606219828129,
         7.0516734682023525,
         7.042926542460918,
         7.0527154467999935,
         7.093970615416765,
         7.109402775764465,
         7.028554685413837,
         7.058478400111198,
         7.108561437577009,
         7.017840702086687,
         7.154574118554592,
         6.987762205302715,
         7.032434582710266,
         7.095516070723534,
         7.062108062207699,
         6.98908768594265,
         7.030580349266529,
         7.013375997543335,
         7.058341510593891,
         7.066784575581551,
         7.127130042761564,
         7.049448601901531,
         7.150205697864294,
         7.045713413506746,
         7.018040459603071,
         7.086845971643925,
         7.029293227940798,
         7.083882123231888,
         7.037652552127838,
         7.065370053052902,
         7.043422516435385,
         7.073179520666599,
         7.094025272876024,
         7.035980053246021,
         7.047595366835594,
         7.0729347094893456,
         6.977064985781908,
         6.944074293598533,
         6.96732884272933,
         7.098498646169901
        ],
        [
         2.219568609856346,
         2.2344984644226047,
         2.2163864463528737,
         2.237727128659527,
         2.228460187007572,
         2.2281684664868426,
         2.2285165642977374,
         2.2226267214146658,
         2.213483915429821,
         2.23060017023378,
         2.2419086492666436,
         2.2396369996359775,
         2.2290963271967725,
         2.2401123293658345,
         2.226110983734802,
         2.2422477170608746,
         2.2274524184331943,
         2.2523199765586885,
         2.2284885573117807,
         2.2433130154612733,
         2.2262056829695505,
         2.232455238150192,
         2.2317314573108327,
         2.224166443327979,
         2.220981341919362,
         2.2238735437393,
         2.2192259603371793,
         2.254076279425395,
         2.240500856342735,
         2.2264459782065327,
         2.2155907252695597,
         2.2124421354958956,
         2.2337312447943636,
         2.243609695059009,
         2.222257656548811,
         2.230569715078111,
         2.2172639886115237,
         2.2434721552668524,
         2.2213604948501215,
         2.2296693929447855,
         2.257594635387609,
         2.222935741924921,
         2.254350070578312,
         2.2372771339678694,
         2.222575396933107,
         2.2220946570816023,
         2.2222701898964465,
         2.228614398822797,
         2.2400596064142633,
         2.218911653121869,
         2.232507880081444,
         2.237674177066312,
         2.240136560143427,
         2.2325398337879583,
         2.244816040364258,
         2.222459072909782,
         2.2487705343005686,
         2.2227167759126325,
         2.2497302146952634,
         2.2195125467908556,
         2.222673846261923,
         2.219397668379446,
         2.2210073745927867,
         2.2190576184305923,
         2.23986509729629,
         2.238012121462108,
         2.239864749806795,
         2.2357843437250846,
         2.2473552592252766,
         2.2204850725318903,
         2.242034338169558,
         2.2255087171992183,
         2.227116166240316,
         2.2374782947981506,
         2.2244555313081764,
         2.2195418913396585,
         2.234242267969907,
         2.2198696231481265,
         2.2380962844390226,
         2.227679348511049,
         2.246336821252366,
         2.2327510966865836,
         2.239906320047316,
         2.239206978081527,
         2.2150121042787125,
         2.232137621748416,
         2.2339408378193433,
         2.2369052827846905,
         2.236771338422346,
         2.2354932555630356,
         2.2274958783075234,
         2.2424376581536487,
         2.239591157660953,
         2.234832924744551,
         2.235854221473061,
         2.242964840482151,
         2.229553045512792,
         2.2179445819560852,
         2.224219835442077,
         2.241657689876905
        ]
       ],
       "encoder": "json",
       "name": "ABC_GAN_3 Metrics",
       "version": 1
      }
     },
     "metadata": {
      "scrapbook": {
       "data": true,
       "display": false,
       "name": "ABC_GAN_3 Metrics"
      }
     },
     "output_type": "display_data"
    },
    {
     "name": "stdout",
     "output_type": "stream",
     "text": [
      "MSE\n",
      "0.24901250708289976\n"
     ]
    }
   ],
   "source": [
    "ABC_GAN3_metrics=ABC_train_test2.test_generator(gen3,test_data,prior_model,variance,bias,\"3\",device)\n",
    "sb.glue(\"ABC_GAN_3 Metrics\",ABC_GAN3_metrics)\n",
    "\n",
    "print(\"MSE\")\n",
    "print(mean(ABC_GAN3_metrics[0]))"
   ]
  },
  {
   "cell_type": "code",
   "execution_count": 18,
   "id": "c8e46b48",
   "metadata": {
    "execution": {
     "iopub.execute_input": "2022-06-22T12:16:55.642307Z",
     "iopub.status.busy": "2022-06-22T12:16:55.640583Z",
     "iopub.status.idle": "2022-06-22T12:16:56.332364Z",
     "shell.execute_reply": "2022-06-22T12:16:56.332848Z"
    },
    "id": "c8e46b48",
    "papermill": {
     "duration": 0.753381,
     "end_time": "2022-06-22T12:16:56.333200",
     "exception": false,
     "start_time": "2022-06-22T12:16:55.579819",
     "status": "completed"
    },
    "tags": []
   },
   "outputs": [
    {
     "data": {
      "image/png": "[encoded data removed]",
      "text/plain": [
       "<Figure size 432x288 with 1 Axes>"
      ]
     },
     "metadata": {
      "needs_background": "light"
     },
     "output_type": "display_data"
    },
    {
     "data": {
      "image/png": "[encoded data removed]",
      "text/plain": [
       "<Figure size 432x288 with 1 Axes>"
      ]
     },
     "metadata": {
      "needs_background": "light"
     },
     "output_type": "display_data"
    },
    {
     "data": {
      "image/png": "[encoded data removed]",
      "text/plain": [
       "<Figure size 432x288 with 1 Axes>"
      ]
     },
     "metadata": {
      "needs_background": "light"
     },
     "output_type": "display_data"
    },
    {
     "data": {
      "image/png": "[encoded data removed]",
      "text/plain": [
       "<Figure size 432x288 with 1 Axes>"
      ]
     },
     "metadata": {
      "needs_background": "light"
     },
     "output_type": "display_data"
    }
   ],
   "source": [
    "sanityChecks.discProbVsError(train_data,disc3,device)\n",
    "sanityChecks.discProbVsError(test_data,disc3,device)"
   ]
  },
  {
   "cell_type": "markdown",
   "id": "a5bd74c3",
   "metadata": {
    "id": "a5bd74c3",
    "papermill": {
     "duration": 0.053545,
     "end_time": "2022-06-22T12:16:56.435575",
     "exception": false,
     "start_time": "2022-06-22T12:16:56.382030",
     "status": "completed"
    },
    "tags": []
   },
   "source": [
    "## Skip Connection Model Analysis - ABC-GAN "
   ]
  },
  {
   "cell_type": "markdown",
   "id": "5744a8bf",
   "metadata": {
    "id": "5744a8bf",
    "papermill": {
     "duration": 0.064549,
     "end_time": "2022-06-22T12:16:56.560497",
     "exception": false,
     "start_time": "2022-06-22T12:16:56.495948",
     "status": "completed"
    },
    "tags": []
   },
   "source": [
    "### Weight Analysis \n",
    "\n",
    "Study the weights of the skip connection layer\n",
    "\n",
    "Equation of the skip connection is \n",
    "\n",
    "$output = y_{gan} * w + y_{abc} * (1-w)$"
   ]
  },
  {
   "cell_type": "code",
   "execution_count": 19,
   "id": "52c31dea",
   "metadata": {
    "execution": {
     "iopub.execute_input": "2022-06-22T12:16:56.680125Z",
     "iopub.status.busy": "2022-06-22T12:16:56.679410Z",
     "iopub.status.idle": "2022-06-22T12:16:56.687593Z",
     "shell.execute_reply": "2022-06-22T12:16:56.688122Z"
    },
    "id": "52c31dea",
    "papermill": {
     "duration": 0.075613,
     "end_time": "2022-06-22T12:16:56.688389",
     "exception": false,
     "start_time": "2022-06-22T12:16:56.612776",
     "status": "completed"
    },
    "tags": []
   },
   "outputs": [
    {
     "name": "stdout",
     "output_type": "stream",
     "text": [
      "Weight of the node at skip connection\n",
      "Parameter containing:\n",
      "tensor([[0.]], requires_grad=True)\n"
     ]
    },
    {
     "data": {
      "application/scrapbook.scrap.json+json": {
       "data": 0.0,
       "encoder": "json",
       "name": "Skip Connection Weight",
       "version": 1
      }
     },
     "metadata": {
      "scrapbook": {
       "data": true,
       "display": false,
       "name": "Skip Connection Weight"
      }
     },
     "output_type": "display_data"
    }
   ],
   "source": [
    "print(\"Weight of the node at skip connection\")\n",
    "for name,param in gen3.named_parameters():\n",
    "    if(name == \"skipNode.weight\"):\n",
    "        print(param)\n",
    "        sb.glue(\"Skip Connection Weight\",param.item())"
   ]
  }
 ],
 "metadata": {
  "colab": {
   "collapsed_sections": [],
   "name": "ABC_GAN_Model-Catboost_Pre-gen.ipynb",
   "provenance": []
  },
  "interpreter": {
   "hash": "31f2aee4e71d21fbe5cf8b01ff0e069b9275f58929596ceb00d14d90e3e16cd6"
  },
  "kernelspec": {
   "display_name": "Python 3 (ipykernel)",
   "language": "python",
   "name": "python3"
  },
  "language_info": {
   "codemirror_mode": {
    "name": "ipython",
    "version": 3
   },
   "file_extension": ".py",
   "mimetype": "text/x-python",
   "name": "python",
   "nbconvert_exporter": "python",
   "pygments_lexer": "ipython3",
   "version": "3.8.3"
  },
  "papermill": {
   "default_parameters": {},
   "duration": 140.392559,
   "end_time": "2022-06-22T12:16:57.612012",
   "environment_variables": {},
   "exception": null,
   "input_path": "ABC_GAN-TabNet.ipynb",
   "output_path": "./ABC_GAN_TabNet/ABC-GAN_output_2_8.ipynb",
   "parameters": {
    "bias": 0.01,
    "variance": 0.01
   },
   "start_time": "2022-06-22T12:14:37.219453",
   "version": "2.3.3"
  }
 },
 "nbformat": 4,
 "nbformat_minor": 5
}