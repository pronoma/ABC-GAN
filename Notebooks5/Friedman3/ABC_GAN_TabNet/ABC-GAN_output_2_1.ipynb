{
 "cells": [
  {
   "cell_type": "markdown",
   "id": "622780e6",
   "metadata": {
    "id": "622780e6",
    "papermill": {
     "duration": 0.025959,
     "end_time": "2022-06-22T11:58:27.926496",
     "exception": false,
     "start_time": "2022-06-22T11:58:27.900537",
     "status": "completed"
    },
    "tags": []
   },
   "source": [
    "## Import Libraries "
   ]
  },
  {
   "cell_type": "code",
   "execution_count": 1,
   "id": "a62397e3",
   "metadata": {
    "execution": {
     "iopub.execute_input": "2022-06-22T11:58:27.979578Z",
     "iopub.status.busy": "2022-06-22T11:58:27.974332Z",
     "iopub.status.idle": "2022-06-22T11:58:27.985682Z",
     "shell.execute_reply": "2022-06-22T11:58:27.986991Z"
    },
    "id": "a62397e3",
    "papermill": {
     "duration": 0.041169,
     "end_time": "2022-06-22T11:58:27.987413",
     "exception": false,
     "start_time": "2022-06-22T11:58:27.946244",
     "status": "completed"
    },
    "tags": []
   },
   "outputs": [],
   "source": [
    "import warnings\n",
    "import sys\n",
    "sys.path.insert(0, '../../src')\n",
    "warnings.filterwarnings('ignore')"
   ]
  },
  {
   "cell_type": "code",
   "execution_count": 2,
   "id": "d6a4e155",
   "metadata": {
    "execution": {
     "iopub.execute_input": "2022-06-22T11:58:28.035704Z",
     "iopub.status.busy": "2022-06-22T11:58:28.034587Z",
     "iopub.status.idle": "2022-06-22T11:58:33.740472Z",
     "shell.execute_reply": "2022-06-22T11:58:33.741042Z"
    },
    "id": "d6a4e155",
    "papermill": {
     "duration": 5.733637,
     "end_time": "2022-06-22T11:58:33.741274",
     "exception": false,
     "start_time": "2022-06-22T11:58:28.007637",
     "status": "completed"
    },
    "tags": []
   },
   "outputs": [],
   "source": [
    "import ABC_train_test2\n",
    "import friedman3Dataset\n",
    "import network\n",
    "import dataset\n",
    "import sanityChecks\n",
    "import torch \n",
    "import scrapbook as sb\n",
    "from statistics import mean \n",
    "import catboost as ctb \n",
    "from sklearn.model_selection import train_test_split\n",
    "from sklearn.metrics import mean_squared_error,mean_absolute_error\n",
    "import numpy as np\n",
    "from pytorch_tabnet.tab_model import TabNetRegressor"
   ]
  },
  {
   "cell_type": "markdown",
   "id": "2fa5b0f7",
   "metadata": {
    "id": "2fa5b0f7",
    "papermill": {
     "duration": 0.017564,
     "end_time": "2022-06-22T11:58:33.774863",
     "exception": false,
     "start_time": "2022-06-22T11:58:33.757299",
     "status": "completed"
    },
    "tags": []
   },
   "source": [
    "## Parameters "
   ]
  },
  {
   "cell_type": "code",
   "execution_count": 3,
   "id": "783186fb",
   "metadata": {
    "execution": {
     "iopub.execute_input": "2022-06-22T11:58:33.817412Z",
     "iopub.status.busy": "2022-06-22T11:58:33.816351Z",
     "iopub.status.idle": "2022-06-22T11:58:33.818730Z",
     "shell.execute_reply": "2022-06-22T11:58:33.818099Z"
    },
    "id": "783186fb",
    "papermill": {
     "duration": 0.026085,
     "end_time": "2022-06-22T11:58:33.818965",
     "exception": false,
     "start_time": "2022-06-22T11:58:33.792880",
     "status": "completed"
    },
    "tags": [
     "parameters"
    ]
   },
   "outputs": [],
   "source": [
    "variance = 1\n",
    "bias = 1 "
   ]
  },
  {
   "cell_type": "code",
   "execution_count": 4,
   "id": "3d22c477",
   "metadata": {
    "execution": {
     "iopub.execute_input": "2022-06-22T11:58:33.854425Z",
     "iopub.status.busy": "2022-06-22T11:58:33.853439Z",
     "iopub.status.idle": "2022-06-22T11:58:33.855526Z",
     "shell.execute_reply": "2022-06-22T11:58:33.856057Z"
    },
    "papermill": {
     "duration": 0.021957,
     "end_time": "2022-06-22T11:58:33.856305",
     "exception": false,
     "start_time": "2022-06-22T11:58:33.834348",
     "status": "completed"
    },
    "tags": [
     "injected-parameters"
    ]
   },
   "outputs": [],
   "source": [
    "# Parameters\n",
    "variance = 0.1\n",
    "bias = 1\n"
   ]
  },
  {
   "cell_type": "markdown",
   "id": "391cdbfd",
   "metadata": {
    "id": "391cdbfd",
    "papermill": {
     "duration": 0.024654,
     "end_time": "2022-06-22T11:58:33.896154",
     "exception": false,
     "start_time": "2022-06-22T11:58:33.871500",
     "status": "completed"
    },
    "tags": []
   },
   "source": [
    "## Dataset \n"
   ]
  },
  {
   "cell_type": "code",
   "execution_count": 5,
   "id": "5b51f161",
   "metadata": {
    "execution": {
     "iopub.execute_input": "2022-06-22T11:58:33.932790Z",
     "iopub.status.busy": "2022-06-22T11:58:33.931832Z",
     "iopub.status.idle": "2022-06-22T11:58:33.933838Z",
     "shell.execute_reply": "2022-06-22T11:58:33.934316Z"
    },
    "id": "5b51f161",
    "papermill": {
     "duration": 0.020999,
     "end_time": "2022-06-22T11:58:33.934522",
     "exception": false,
     "start_time": "2022-06-22T11:58:33.913523",
     "status": "completed"
    },
    "tags": []
   },
   "outputs": [],
   "source": [
    "#Parameters \n",
    "n_features = 4\n",
    "n_samples= 100\n",
    "n_target = 1"
   ]
  },
  {
   "cell_type": "code",
   "execution_count": 6,
   "id": "5d6eced4",
   "metadata": {
    "execution": {
     "iopub.execute_input": "2022-06-22T11:58:33.966762Z",
     "iopub.status.busy": "2022-06-22T11:58:33.966046Z",
     "iopub.status.idle": "2022-06-22T11:58:33.978184Z",
     "shell.execute_reply": "2022-06-22T11:58:33.978669Z"
    },
    "id": "5d6eced4",
    "papermill": {
     "duration": 0.030697,
     "end_time": "2022-06-22T11:58:33.978874",
     "exception": false,
     "start_time": "2022-06-22T11:58:33.948177",
     "status": "completed"
    },
    "tags": []
   },
   "outputs": [
    {
     "name": "stdout",
     "output_type": "stream",
     "text": [
      "          X1           X2        X3         X4         Y\n",
      "0  76.487868  1037.605424  0.131880   4.576873  1.164610\n",
      "1  20.570744  1233.556080  0.282801   8.894938  1.502404\n",
      "2  77.240531   562.410176  0.163535  10.469771  0.712526\n",
      "3   1.317032   751.015880  0.423044   7.997672  1.668918\n",
      "4  34.210279  1060.324186  0.744994   2.450793  1.598384\n"
     ]
    }
   ],
   "source": [
    "X,Y = friedman3Dataset.friedman3_data(n_samples)"
   ]
  },
  {
   "cell_type": "code",
   "execution_count": 7,
   "id": "fe007438",
   "metadata": {
    "execution": {
     "iopub.execute_input": "2022-06-22T11:58:34.021993Z",
     "iopub.status.busy": "2022-06-22T11:58:34.019198Z",
     "iopub.status.idle": "2022-06-22T11:58:34.023855Z",
     "shell.execute_reply": "2022-06-22T11:58:34.024890Z"
    },
    "id": "fe007438",
    "papermill": {
     "duration": 0.031608,
     "end_time": "2022-06-22T11:58:34.025189",
     "exception": false,
     "start_time": "2022-06-22T11:58:33.993581",
     "status": "completed"
    },
    "tags": []
   },
   "outputs": [],
   "source": [
    "#Train test split for dataset \n",
    "X_train,X_test,Y_train,Y_test = train_test_split(X,Y,test_size = 0.2)\n",
    "train_data = dataset.CustomDataset(X_train,Y_train)\n",
    "test_data = dataset.CustomDataset(X_test,Y_test)\n"
   ]
  },
  {
   "cell_type": "markdown",
   "id": "a9a1af34",
   "metadata": {
    "id": "a9a1af34",
    "papermill": {
     "duration": 0.017152,
     "end_time": "2022-06-22T11:58:34.060228",
     "exception": false,
     "start_time": "2022-06-22T11:58:34.043076",
     "status": "completed"
    },
    "tags": []
   },
   "source": [
    "## Training Parameters "
   ]
  },
  {
   "cell_type": "code",
   "execution_count": 8,
   "id": "952b7fc8",
   "metadata": {
    "execution": {
     "iopub.execute_input": "2022-06-22T11:58:34.092880Z",
     "iopub.status.busy": "2022-06-22T11:58:34.092202Z",
     "iopub.status.idle": "2022-06-22T11:58:34.094776Z",
     "shell.execute_reply": "2022-06-22T11:58:34.094283Z"
    },
    "id": "952b7fc8",
    "papermill": {
     "duration": 0.020227,
     "end_time": "2022-06-22T11:58:34.095005",
     "exception": false,
     "start_time": "2022-06-22T11:58:34.074778",
     "status": "completed"
    },
    "tags": []
   },
   "outputs": [],
   "source": [
    "batch_size = 32\n",
    "n_epochs = 1000\n",
    "#Select the device \n",
    "device = torch.device('cuda' if torch.cuda.is_available() else 'cpu')"
   ]
  },
  {
   "cell_type": "markdown",
   "id": "a95e1600",
   "metadata": {
    "id": "a95e1600",
    "papermill": {
     "duration": 0.015389,
     "end_time": "2022-06-22T11:58:34.124195",
     "exception": false,
     "start_time": "2022-06-22T11:58:34.108806",
     "status": "completed"
    },
    "tags": []
   },
   "source": [
    "# ABC Pre-generator Model \n",
    "\n",
    "1. The catboost model is used as a pre-generator model for the ABC-GAN. \n",
    "2. The model is first trained on the entire dataset \n",
    "3. It generats X,Y pairs and we add some Gaussian noise with mean 0 and variance 1 to it which is then feed as input to the generator.\n"
   ]
  },
  {
   "cell_type": "code",
   "execution_count": 9,
   "id": "ff8ce7bd",
   "metadata": {
    "execution": {
     "iopub.execute_input": "2022-06-22T11:58:34.166680Z",
     "iopub.status.busy": "2022-06-22T11:58:34.165631Z",
     "iopub.status.idle": "2022-06-22T11:58:43.341583Z",
     "shell.execute_reply": "2022-06-22T11:58:43.342222Z"
    },
    "id": "ff8ce7bd",
    "papermill": {
     "duration": 9.203923,
     "end_time": "2022-06-22T11:58:43.342429",
     "exception": false,
     "start_time": "2022-06-22T11:58:34.138506",
     "status": "completed"
    },
    "tags": []
   },
   "outputs": [
    {
     "name": "stdout",
     "output_type": "stream",
     "text": [
      "Device used : cpu\n"
     ]
    },
    {
     "name": "stdout",
     "output_type": "stream",
     "text": [
      "epoch 0  | loss: 0.96922 | train_mse: 6.32311 | train_mae: 1.91736 |  0:00:00s\n",
      "epoch 1  | loss: 0.59552 | train_mse: 3.59925 | train_mae: 1.39868 |  0:00:00s\n"
     ]
    },
    {
     "name": "stdout",
     "output_type": "stream",
     "text": [
      "epoch 2  | loss: 0.71984 | train_mse: 2.71397 | train_mae: 1.20119 |  0:00:00s\n",
      "epoch 3  | loss: 0.48237 | train_mse: 2.09732 | train_mae: 1.06917 |  0:00:00s\n",
      "epoch 4  | loss: 0.39482 | train_mse: 1.45128 | train_mae: 0.87995 |  0:00:00s\n"
     ]
    },
    {
     "name": "stdout",
     "output_type": "stream",
     "text": [
      "epoch 5  | loss: 0.40075 | train_mse: 1.11933 | train_mae: 0.79318 |  0:00:00s\n",
      "epoch 6  | loss: 0.29358 | train_mse: 1.44294 | train_mae: 0.87584 |  0:00:00s\n",
      "epoch 7  | loss: 0.30508 | train_mse: 2.31423 | train_mae: 1.09877 |  0:00:00s\n"
     ]
    },
    {
     "name": "stdout",
     "output_type": "stream",
     "text": [
      "epoch 8  | loss: 0.21375 | train_mse: 1.40132 | train_mae: 0.86084 |  0:00:00s\n",
      "epoch 9  | loss: 0.38679 | train_mse: 0.75764 | train_mae: 0.62886 |  0:00:01s\n",
      "epoch 10 | loss: 0.29663 | train_mse: 0.64064 | train_mae: 0.61137 |  0:00:01s\n"
     ]
    },
    {
     "name": "stdout",
     "output_type": "stream",
     "text": [
      "epoch 11 | loss: 0.25948 | train_mse: 0.58256 | train_mae: 0.58945 |  0:00:01s\n",
      "epoch 12 | loss: 0.23427 | train_mse: 0.62781 | train_mae: 0.60598 |  0:00:01s\n"
     ]
    },
    {
     "name": "stdout",
     "output_type": "stream",
     "text": [
      "epoch 13 | loss: 0.21982 | train_mse: 0.59504 | train_mae: 0.58966 |  0:00:01s\n",
      "epoch 14 | loss: 0.35921 | train_mse: 0.60899 | train_mae: 0.56879 |  0:00:01s\n",
      "epoch 15 | loss: 0.18477 | train_mse: 0.44118 | train_mae: 0.49319 |  0:00:01s\n"
     ]
    },
    {
     "name": "stdout",
     "output_type": "stream",
     "text": [
      "epoch 16 | loss: 0.18661 | train_mse: 0.48959 | train_mae: 0.48756 |  0:00:01s\n",
      "epoch 17 | loss: 0.25198 | train_mse: 0.40839 | train_mae: 0.46142 |  0:00:02s\n",
      "epoch 18 | loss: 0.18904 | train_mse: 0.57769 | train_mae: 0.53561 |  0:00:02s\n",
      "epoch 19 | loss: 0.21557 | train_mse: 0.66186 | train_mae: 0.54879 |  0:00:02s\n"
     ]
    },
    {
     "name": "stdout",
     "output_type": "stream",
     "text": [
      "epoch 20 | loss: 0.35707 | train_mse: 0.65754 | train_mae: 0.546   |  0:00:02s\n",
      "epoch 21 | loss: 0.44291 | train_mse: 0.38538 | train_mae: 0.44023 |  0:00:02s\n",
      "epoch 22 | loss: 0.24449 | train_mse: 0.41219 | train_mae: 0.48697 |  0:00:02s\n"
     ]
    },
    {
     "name": "stdout",
     "output_type": "stream",
     "text": [
      "epoch 23 | loss: 0.2009  | train_mse: 0.36824 | train_mae: 0.45728 |  0:00:02s\n",
      "epoch 24 | loss: 0.24726 | train_mse: 0.23643 | train_mae: 0.36841 |  0:00:02s\n",
      "epoch 25 | loss: 0.34546 | train_mse: 0.25565 | train_mae: 0.38399 |  0:00:02s\n",
      "epoch 26 | loss: 0.18606 | train_mse: 0.22288 | train_mae: 0.36243 |  0:00:02s\n"
     ]
    },
    {
     "name": "stdout",
     "output_type": "stream",
     "text": [
      "epoch 27 | loss: 0.12884 | train_mse: 0.22695 | train_mae: 0.36767 |  0:00:02s\n",
      "epoch 28 | loss: 0.29948 | train_mse: 0.28754 | train_mae: 0.38854 |  0:00:02s\n",
      "epoch 29 | loss: 0.15809 | train_mse: 0.24178 | train_mae: 0.3825  |  0:00:02s\n",
      "epoch 30 | loss: 0.23365 | train_mse: 0.24157 | train_mae: 0.38999 |  0:00:02s\n"
     ]
    },
    {
     "name": "stdout",
     "output_type": "stream",
     "text": [
      "epoch 31 | loss: 0.13108 | train_mse: 0.15063 | train_mae: 0.29392 |  0:00:03s\n",
      "epoch 32 | loss: 0.21636 | train_mse: 0.21894 | train_mae: 0.33273 |  0:00:03s\n",
      "epoch 33 | loss: 0.15534 | train_mse: 0.28889 | train_mae: 0.36829 |  0:00:03s\n",
      "epoch 34 | loss: 0.16826 | train_mse: 0.33569 | train_mae: 0.39223 |  0:00:03s\n"
     ]
    },
    {
     "name": "stdout",
     "output_type": "stream",
     "text": [
      "epoch 35 | loss: 0.25793 | train_mse: 0.26293 | train_mae: 0.36535 |  0:00:03s\n",
      "epoch 36 | loss: 0.14189 | train_mse: 0.23781 | train_mae: 0.35373 |  0:00:03s\n",
      "epoch 37 | loss: 0.14495 | train_mse: 0.17888 | train_mae: 0.29703 |  0:00:03s\n"
     ]
    },
    {
     "name": "stdout",
     "output_type": "stream",
     "text": [
      "epoch 38 | loss: 0.25122 | train_mse: 0.18722 | train_mae: 0.29163 |  0:00:03s\n",
      "epoch 39 | loss: 0.23466 | train_mse: 0.09199 | train_mae: 0.23798 |  0:00:03s\n",
      "epoch 40 | loss: 0.14911 | train_mse: 0.15006 | train_mae: 0.29025 |  0:00:03s\n",
      "epoch 41 | loss: 0.15159 | train_mse: 0.23614 | train_mae: 0.353   |  0:00:03s\n"
     ]
    },
    {
     "name": "stdout",
     "output_type": "stream",
     "text": [
      "epoch 42 | loss: 0.14598 | train_mse: 0.27379 | train_mae: 0.37041 |  0:00:03s\n",
      "epoch 43 | loss: 0.3064  | train_mse: 0.2678  | train_mae: 0.35301 |  0:00:03s\n",
      "epoch 44 | loss: 0.13625 | train_mse: 0.29698 | train_mae: 0.37987 |  0:00:03s\n",
      "epoch 45 | loss: 0.17792 | train_mse: 0.25939 | train_mae: 0.3653  |  0:00:03s\n"
     ]
    },
    {
     "name": "stdout",
     "output_type": "stream",
     "text": [
      "epoch 46 | loss: 0.11964 | train_mse: 0.26924 | train_mae: 0.37159 |  0:00:04s\n",
      "epoch 47 | loss: 0.12689 | train_mse: 0.15577 | train_mae: 0.29015 |  0:00:04s\n",
      "epoch 48 | loss: 0.13645 | train_mse: 0.10219 | train_mae: 0.23064 |  0:00:04s\n",
      "epoch 49 | loss: 0.15181 | train_mse: 0.12589 | train_mae: 0.24994 |  0:00:04s\n"
     ]
    },
    {
     "name": "stdout",
     "output_type": "stream",
     "text": [
      "epoch 50 | loss: 0.18481 | train_mse: 0.13227 | train_mae: 0.27651 |  0:00:04s\n",
      "epoch 51 | loss: 0.1826  | train_mse: 0.14856 | train_mae: 0.29287 |  0:00:04s\n",
      "epoch 52 | loss: 0.19779 | train_mse: 0.16875 | train_mae: 0.29765 |  0:00:04s\n"
     ]
    },
    {
     "name": "stdout",
     "output_type": "stream",
     "text": [
      "epoch 53 | loss: 0.17143 | train_mse: 0.26645 | train_mae: 0.35858 |  0:00:04s\n",
      "epoch 54 | loss: 0.17952 | train_mse: 0.17013 | train_mae: 0.28736 |  0:00:04s\n",
      "epoch 55 | loss: 0.15452 | train_mse: 0.1389  | train_mae: 0.26743 |  0:00:04s\n",
      "epoch 56 | loss: 0.21203 | train_mse: 0.15338 | train_mae: 0.28136 |  0:00:04s\n"
     ]
    },
    {
     "name": "stdout",
     "output_type": "stream",
     "text": [
      "epoch 57 | loss: 0.27737 | train_mse: 0.18988 | train_mae: 0.31252 |  0:00:04s\n",
      "epoch 58 | loss: 0.13747 | train_mse: 0.1661  | train_mae: 0.29746 |  0:00:04s\n",
      "epoch 59 | loss: 0.19039 | train_mse: 0.1292  | train_mae: 0.27108 |  0:00:04s\n",
      "epoch 60 | loss: 0.13082 | train_mse: 0.12868 | train_mae: 0.26382 |  0:00:05s\n"
     ]
    },
    {
     "name": "stdout",
     "output_type": "stream",
     "text": [
      "epoch 61 | loss: 0.11446 | train_mse: 0.14842 | train_mae: 0.27635 |  0:00:05s\n",
      "epoch 62 | loss: 0.07122 | train_mse: 0.244   | train_mae: 0.33771 |  0:00:05s\n",
      "epoch 63 | loss: 0.10297 | train_mse: 0.29901 | train_mae: 0.36127 |  0:00:05s\n",
      "epoch 64 | loss: 0.09777 | train_mse: 0.2643  | train_mae: 0.34154 |  0:00:05s\n"
     ]
    },
    {
     "name": "stdout",
     "output_type": "stream",
     "text": [
      "epoch 65 | loss: 0.23332 | train_mse: 0.12365 | train_mae: 0.24976 |  0:00:05s\n",
      "epoch 66 | loss: 0.06203 | train_mse: 0.07954 | train_mae: 0.21735 |  0:00:05s\n",
      "epoch 67 | loss: 0.15106 | train_mse: 0.06136 | train_mae: 0.20201 |  0:00:05s\n"
     ]
    },
    {
     "name": "stdout",
     "output_type": "stream",
     "text": [
      "epoch 68 | loss: 0.13286 | train_mse: 0.07304 | train_mae: 0.19618 |  0:00:05s\n",
      "epoch 69 | loss: 0.1437  | train_mse: 0.07303 | train_mae: 0.19587 |  0:00:05s\n",
      "epoch 70 | loss: 0.10464 | train_mse: 0.06402 | train_mae: 0.19041 |  0:00:05s\n",
      "epoch 71 | loss: 0.09886 | train_mse: 0.05139 | train_mae: 0.16886 |  0:00:05s\n"
     ]
    },
    {
     "name": "stdout",
     "output_type": "stream",
     "text": [
      "epoch 72 | loss: 0.08588 | train_mse: 0.06184 | train_mae: 0.18707 |  0:00:05s\n",
      "epoch 73 | loss: 0.09101 | train_mse: 0.04768 | train_mae: 0.17426 |  0:00:05s\n",
      "epoch 74 | loss: 0.11744 | train_mse: 0.05414 | train_mae: 0.18216 |  0:00:05s\n",
      "epoch 75 | loss: 0.10555 | train_mse: 0.06357 | train_mae: 0.20056 |  0:00:06s\n"
     ]
    },
    {
     "name": "stdout",
     "output_type": "stream",
     "text": [
      "epoch 76 | loss: 0.08151 | train_mse: 0.06441 | train_mae: 0.20694 |  0:00:06s\n",
      "epoch 77 | loss: 0.07535 | train_mse: 0.06206 | train_mae: 0.1955  |  0:00:06s\n",
      "epoch 78 | loss: 0.13169 | train_mse: 0.07182 | train_mae: 0.19877 |  0:00:06s\n",
      "epoch 79 | loss: 0.09558 | train_mse: 0.159   | train_mae: 0.26877 |  0:00:06s\n"
     ]
    },
    {
     "name": "stdout",
     "output_type": "stream",
     "text": [
      "epoch 80 | loss: 0.0794  | train_mse: 0.26696 | train_mae: 0.32323 |  0:00:06s\n",
      "epoch 81 | loss: 0.09407 | train_mse: 0.32031 | train_mae: 0.34955 |  0:00:06s\n",
      "epoch 82 | loss: 0.11247 | train_mse: 0.26644 | train_mae: 0.35114 |  0:00:06s\n",
      "epoch 83 | loss: 0.14258 | train_mse: 0.17923 | train_mae: 0.27082 |  0:00:06s\n"
     ]
    },
    {
     "name": "stdout",
     "output_type": "stream",
     "text": [
      "epoch 84 | loss: 0.12336 | train_mse: 0.11058 | train_mae: 0.23357 |  0:00:06s\n",
      "epoch 85 | loss: 0.10079 | train_mse: 0.06423 | train_mae: 0.18681 |  0:00:06s\n",
      "epoch 86 | loss: 0.09889 | train_mse: 0.05403 | train_mae: 0.17812 |  0:00:06s\n",
      "epoch 87 | loss: 0.0845  | train_mse: 0.06502 | train_mae: 0.18901 |  0:00:06s\n"
     ]
    },
    {
     "name": "stdout",
     "output_type": "stream",
     "text": [
      "epoch 88 | loss: 0.13034 | train_mse: 0.06417 | train_mae: 0.18963 |  0:00:06s\n",
      "epoch 89 | loss: 0.0614  | train_mse: 0.07158 | train_mae: 0.2131  |  0:00:06s\n",
      "epoch 90 | loss: 0.12219 | train_mse: 0.11058 | train_mae: 0.24262 |  0:00:07s\n",
      "epoch 91 | loss: 0.09197 | train_mse: 0.09952 | train_mae: 0.23818 |  0:00:07s\n"
     ]
    },
    {
     "name": "stdout",
     "output_type": "stream",
     "text": [
      "epoch 92 | loss: 0.16283 | train_mse: 0.10764 | train_mae: 0.23401 |  0:00:07s\n",
      "epoch 93 | loss: 0.09681 | train_mse: 0.15615 | train_mae: 0.26574 |  0:00:07s\n",
      "epoch 94 | loss: 0.12073 | train_mse: 0.1103  | train_mae: 0.22801 |  0:00:07s\n"
     ]
    },
    {
     "name": "stdout",
     "output_type": "stream",
     "text": [
      "epoch 95 | loss: 0.12039 | train_mse: 0.06594 | train_mae: 0.19544 |  0:00:07s\n",
      "epoch 96 | loss: 0.15077 | train_mse: 0.06757 | train_mae: 0.19053 |  0:00:07s\n",
      "epoch 97 | loss: 0.08976 | train_mse: 0.08789 | train_mae: 0.21915 |  0:00:07s\n",
      "epoch 98 | loss: 0.12004 | train_mse: 0.07425 | train_mae: 0.20931 |  0:00:07s\n"
     ]
    },
    {
     "name": "stdout",
     "output_type": "stream",
     "text": [
      "epoch 99 | loss: 0.08061 | train_mse: 0.05101 | train_mae: 0.18118 |  0:00:07s\n",
      "epoch 100| loss: 0.0802  | train_mse: 0.05122 | train_mae: 0.18512 |  0:00:07s\n",
      "epoch 101| loss: 0.12561 | train_mse: 0.07008 | train_mae: 0.19645 |  0:00:07s\n",
      "epoch 102| loss: 0.10662 | train_mse: 0.09609 | train_mae: 0.22429 |  0:00:07s\n"
     ]
    },
    {
     "name": "stdout",
     "output_type": "stream",
     "text": [
      "epoch 103| loss: 0.08364 | train_mse: 0.10089 | train_mae: 0.20957 |  0:00:07s\n",
      "epoch 104| loss: 0.09176 | train_mse: 0.09526 | train_mae: 0.21389 |  0:00:08s\n",
      "epoch 105| loss: 0.07071 | train_mse: 0.06242 | train_mae: 0.1882  |  0:00:08s\n",
      "epoch 106| loss: 0.06888 | train_mse: 0.05691 | train_mae: 0.17078 |  0:00:08s\n"
     ]
    },
    {
     "name": "stdout",
     "output_type": "stream",
     "text": [
      "epoch 107| loss: 0.23557 | train_mse: 0.0654  | train_mae: 0.19482 |  0:00:08s\n",
      "epoch 108| loss: 0.07877 | train_mse: 0.05666 | train_mae: 0.1747  |  0:00:08s\n",
      "epoch 109| loss: 0.10348 | train_mse: 0.07102 | train_mae: 0.20495 |  0:00:08s\n"
     ]
    },
    {
     "name": "stdout",
     "output_type": "stream",
     "text": [
      "epoch 110| loss: 0.10378 | train_mse: 0.1076  | train_mae: 0.24396 |  0:00:08s\n",
      "epoch 111| loss: 0.16583 | train_mse: 0.09322 | train_mae: 0.20162 |  0:00:08s\n",
      "epoch 112| loss: 0.17691 | train_mse: 0.09325 | train_mae: 0.23831 |  0:00:08s\n",
      "epoch 113| loss: 0.15263 | train_mse: 0.08189 | train_mae: 0.22731 |  0:00:08s\n"
     ]
    },
    {
     "name": "stdout",
     "output_type": "stream",
     "text": [
      "epoch 114| loss: 0.1     | train_mse: 0.06521 | train_mae: 0.19741 |  0:00:08s\n",
      "epoch 115| loss: 0.08254 | train_mse: 0.04767 | train_mae: 0.17297 |  0:00:08s\n",
      "epoch 116| loss: 0.12804 | train_mse: 0.04804 | train_mae: 0.1735  |  0:00:08s\n",
      "epoch 117| loss: 0.09255 | train_mse: 0.05624 | train_mae: 0.18618 |  0:00:08s\n"
     ]
    },
    {
     "name": "stdout",
     "output_type": "stream",
     "text": [
      "epoch 118| loss: 0.14038 | train_mse: 0.06298 | train_mae: 0.19454 |  0:00:08s\n",
      "epoch 119| loss: 0.07368 | train_mse: 0.05969 | train_mae: 0.18362 |  0:00:09s\n",
      "epoch 120| loss: 0.10565 | train_mse: 0.09231 | train_mae: 0.21266 |  0:00:09s\n",
      "epoch 121| loss: 0.10048 | train_mse: 0.1293  | train_mae: 0.22557 |  0:00:09s\n"
     ]
    },
    {
     "name": "stdout",
     "output_type": "stream",
     "text": [
      "\n",
      "Early stopping occurred at epoch 121 with best_epoch = 71 and best_train_mae = 0.16886\n",
      "Best weights from best epoch are automatically used!\n"
     ]
    }
   ],
   "source": [
    "#Train the Model\n",
    "\n",
    "Y_train = np.reshape(Y_train, (-1, 1))\n",
    "Y_test = np.reshape(Y_test, (-1, 1))\n",
    "\n",
    "prior_model = TabNetRegressor(optimizer_fn=torch.optim.Adam, optimizer_params=dict(lr = 0.02),\n",
    "          #scheduler_params={\"step_size\":10, ], \"gamma\":0.9},\n",
    "          #scheduler_fn=torch.optim.lr_scheduler.StepLR\n",
    "          )  #TabNetRegressor()\n",
    "\n",
    "prior_model.fit(X_train,Y_train,eval_set=[(X_train, Y_train)],\n",
    "            eval_name=['train'], \n",
    "            eval_metric=[ 'mse', 'mae'], \n",
    "            max_epochs = n_epochs, \n",
    "            batch_size = batch_size,\n",
    "            patience=50\n",
    "            )"
   ]
  },
  {
   "cell_type": "code",
   "execution_count": 10,
   "id": "af65dcda",
   "metadata": {
    "execution": {
     "iopub.execute_input": "2022-06-22T11:58:43.391654Z",
     "iopub.status.busy": "2022-06-22T11:58:43.390953Z",
     "iopub.status.idle": "2022-06-22T11:58:43.409848Z",
     "shell.execute_reply": "2022-06-22T11:58:43.410307Z"
    },
    "id": "af65dcda",
    "papermill": {
     "duration": 0.046452,
     "end_time": "2022-06-22T11:58:43.410519",
     "exception": false,
     "start_time": "2022-06-22T11:58:43.364067",
     "status": "completed"
    },
    "tags": []
   },
   "outputs": [
    {
     "data": {
      "application/scrapbook.scrap.json+json": {
       "data": 0.5595168376611809,
       "encoder": "json",
       "name": "Prior Model MSE",
       "version": 1
      }
     },
     "metadata": {
      "scrapbook": {
       "data": true,
       "display": false,
       "name": "Prior Model MSE"
      }
     },
     "output_type": "display_data"
    },
    {
     "data": {
      "application/scrapbook.scrap.json+json": {
       "data": 1.2659417907911157,
       "encoder": "json",
       "name": "ABC Pre-generator MSE",
       "version": 1
      }
     },
     "metadata": {
      "scrapbook": {
       "data": true,
       "display": false,
       "name": "ABC Pre-generator MSE"
      }
     },
     "output_type": "display_data"
    },
    {
     "data": {
      "application/scrapbook.scrap.json+json": {
       "data": 0.5241760820168941,
       "encoder": "json",
       "name": "Prior Model MSE",
       "version": 1
      }
     },
     "metadata": {
      "scrapbook": {
       "data": true,
       "display": false,
       "name": "Prior Model MSE"
      }
     },
     "output_type": "display_data"
    },
    {
     "data": {
      "application/scrapbook.scrap.json+json": {
       "data": 0.8754493679375764,
       "encoder": "json",
       "name": "ABC Pre-generator MSE",
       "version": 1
      }
     },
     "metadata": {
      "scrapbook": {
       "data": true,
       "display": false,
       "name": "ABC Pre-generator MSE"
      }
     },
     "output_type": "display_data"
    }
   ],
   "source": [
    "y_pred = prior_model.predict(X_test)\n",
    "y_abc = y_pred + np.random.normal(0,variance, y_pred.shape) + bias \n",
    "mse = mean_squared_error(y_pred,Y_test)\n",
    "sb.glue(\"Prior Model MSE\",mse)\n",
    "mse = mean_squared_error(y_abc,Y_test)\n",
    "sb.glue(\"ABC Pre-generator MSE\",mse)\n",
    "mae = mean_absolute_error(y_pred,Y_test)\n",
    "sb.glue(\"Prior Model MSE\",mae)\n",
    "mae = mean_absolute_error(y_abc,Y_test)\n",
    "sb.glue(\"ABC Pre-generator MSE\",mae)"
   ]
  },
  {
   "cell_type": "markdown",
   "id": "25609da2",
   "metadata": {
    "papermill": {
     "duration": 0.03063,
     "end_time": "2022-06-22T11:58:43.466005",
     "exception": false,
     "start_time": "2022-06-22T11:58:43.435375",
     "status": "completed"
    },
    "tags": []
   },
   "source": [
    "# ABC GAN Model"
   ]
  },
  {
   "cell_type": "code",
   "execution_count": 11,
   "id": "dfc3464d",
   "metadata": {
    "execution": {
     "iopub.execute_input": "2022-06-22T11:58:43.545948Z",
     "iopub.status.busy": "2022-06-22T11:58:43.542210Z",
     "iopub.status.idle": "2022-06-22T11:58:43.548616Z",
     "shell.execute_reply": "2022-06-22T11:58:43.547980Z"
    },
    "papermill": {
     "duration": 0.043981,
     "end_time": "2022-06-22T11:58:43.548803",
     "exception": false,
     "start_time": "2022-06-22T11:58:43.504822",
     "status": "completed"
    },
    "tags": []
   },
   "outputs": [],
   "source": [
    "gen = network.Generator(n_features+1).to(device)\n",
    "disc = network.Discriminator(n_features+1).to(device)\n",
    "\n",
    "criterion = torch.nn.BCELoss()\n",
    "gen_opt = torch.optim.Adam(gen.parameters(), lr=0.001, betas=(0.5, 0.999))\n",
    "disc_opt = torch.optim.Adam(disc.parameters(), lr=0.001, betas=(0.5, 0.999))"
   ]
  },
  {
   "cell_type": "code",
   "execution_count": 12,
   "id": "b75fdd85",
   "metadata": {
    "execution": {
     "iopub.execute_input": "2022-06-22T11:58:43.632344Z",
     "iopub.status.busy": "2022-06-22T11:58:43.631543Z",
     "iopub.status.idle": "2022-06-22T11:59:25.893200Z",
     "shell.execute_reply": "2022-06-22T11:59:25.893604Z"
    },
    "papermill": {
     "duration": 42.31365,
     "end_time": "2022-06-22T11:59:25.893806",
     "exception": false,
     "start_time": "2022-06-22T11:58:43.580156",
     "status": "completed"
    },
    "tags": []
   },
   "outputs": [
    {
     "data": {
      "image/png": "[encoded data removed]",
      "text/plain": [
       "<Figure size 432x288 with 1 Axes>"
      ]
     },
     "metadata": {
      "needs_background": "light"
     },
     "output_type": "display_data"
    },
    {
     "data": {
      "image/png": "[encoded data removed]",
      "text/plain": [
       "<Figure size 432x288 with 1 Axes>"
      ]
     },
     "metadata": {
      "needs_background": "light"
     },
     "output_type": "display_data"
    }
   ],
   "source": [
    "#Training the ABC_GAN \n",
    "ABC_train_test2.training_GAN(disc,gen,disc_opt,gen_opt,train_data,batch_size,n_epochs,criterion,prior_model,variance,bias,device)"
   ]
  },
  {
   "cell_type": "code",
   "execution_count": 13,
   "id": "1fa7c368",
   "metadata": {
    "execution": {
     "iopub.execute_input": "2022-06-22T11:59:25.971070Z",
     "iopub.status.busy": "2022-06-22T11:59:25.969991Z",
     "iopub.status.idle": "2022-06-22T11:59:26.608728Z",
     "shell.execute_reply": "2022-06-22T11:59:26.609547Z"
    },
    "papermill": {
     "duration": 0.688344,
     "end_time": "2022-06-22T11:59:26.609769",
     "exception": false,
     "start_time": "2022-06-22T11:59:25.921425",
     "status": "completed"
    },
    "tags": []
   },
   "outputs": [
    {
     "data": {
      "application/scrapbook.scrap.json+json": {
       "data": 0.3949169280916537,
       "encoder": "json",
       "name": "ABC-GAN Model 1 MSE",
       "version": 1
      }
     },
     "metadata": {
      "scrapbook": {
       "data": true,
       "display": false,
       "name": "ABC-GAN Model 1 MSE"
      }
     },
     "output_type": "display_data"
    },
    {
     "data": {
      "application/scrapbook.scrap.json+json": {
       "data": 0.43033865552209316,
       "encoder": "json",
       "name": "ABC-GAN Model 1 MAE",
       "version": 1
      }
     },
     "metadata": {
      "scrapbook": {
       "data": true,
       "display": false,
       "name": "ABC-GAN Model 1 MAE"
      }
     },
     "output_type": "display_data"
    },
    {
     "data": {
      "application/scrapbook.scrap.json+json": {
       "data": 8.606773110441864,
       "encoder": "json",
       "name": "ABC-GAN Model 1 Manhattan Distance",
       "version": 1
      }
     },
     "metadata": {
      "scrapbook": {
       "data": true,
       "display": false,
       "name": "ABC-GAN Model 1 Manhattan Distance"
      }
     },
     "output_type": "display_data"
    },
    {
     "data": {
      "application/scrapbook.scrap.json+json": {
       "data": 2.8097961523907675,
       "encoder": "json",
       "name": "ABC-GAN Model 1 Euclidean distance",
       "version": 1
      }
     },
     "metadata": {
      "scrapbook": {
       "data": true,
       "display": false,
       "name": "ABC-GAN Model 1 Euclidean distance"
      }
     },
     "output_type": "display_data"
    },
    {
     "data": {
      "application/scrapbook.scrap.json+json": {
       "data": [
        [
         0.391081330611711,
         0.3700322498446743,
         0.428485486077807,
         0.4085721625976352,
         0.4029967128027094,
         0.39544924948559335,
         0.3762658384985208,
         0.4254972394065747,
         0.3964466133970118,
         0.3868441466029201,
         0.3742549020766256,
         0.38924788836790986,
         0.3773512553908564,
         0.3862591899830828,
         0.38493271369634385,
         0.37531542336065,
         0.4124104960965135,
         0.3824715779515569,
         0.3942256137596064,
         0.39943363810885124,
         0.40072771445319777,
         0.40373575321192384,
         0.3626267656782208,
         0.3841707731928724,
         0.38687672322742195,
         0.3769066715640759,
         0.4173745816053227,
         0.3810061278697542,
         0.40303216587693846,
         0.39120835717162744,
         0.38073561552850743,
         0.3997618444301111,
         0.41612554507598504,
         0.36338184803563117,
         0.3979421510735633,
         0.4188623604851621,
         0.4049613024547799,
         0.3963181731073431,
         0.3765498650777401,
         0.38923541554449537,
         0.3966123217319263,
         0.37829897374130006,
         0.41206602578867313,
         0.39101682447243946,
         0.4145379241735606,
         0.39072697432414405,
         0.41241361456676484,
         0.3677525447400976,
         0.40066988557340694,
         0.3898634664682292,
         0.3736958115736818,
         0.3993707704038968,
         0.39750481306436714,
         0.40879977418820523,
         0.399553246604142,
         0.4357281026254743,
         0.3946042254625231,
         0.3719965115350359,
         0.3901013708987867,
         0.3957280255215823,
         0.35945138117986003,
         0.4068425305083797,
         0.3879575682833541,
         0.3961088562170745,
         0.4149924460575655,
         0.3746827705203773,
         0.3697468823348361,
         0.39418756137917654,
         0.4249983439864156,
         0.3940757100209072,
         0.37521835810353893,
         0.37381266739798014,
         0.41117817895817377,
         0.3700365980383666,
         0.41264265274286877,
         0.3759511559300262,
         0.4113019490387826,
         0.4196085854059324,
         0.38472749320420374,
         0.41875781844312493,
         0.3908738108064153,
         0.4133815217468646,
         0.3988121469069922,
         0.3846467444292601,
         0.42717681032639077,
         0.4023997128557165,
         0.4096632312885678,
         0.3980635896804373,
         0.40364065413275874,
         0.3788102073346743,
         0.3945901123393785,
         0.41604461948392696,
         0.40381385230522193,
         0.3932011993730823,
         0.41170073697903087,
         0.39021040969716486,
         0.3785239384007852,
         0.37978894690666554,
         0.40650753567603887,
         0.40340883050498605
        ],
        [
         0.42486843978986144,
         0.4186157940886915,
         0.44415017357096076,
         0.42954571833834054,
         0.4372415571473539,
         0.43947854852303864,
         0.421074924711138,
         0.44827056443318725,
         0.43242801846936346,
         0.4197046390734613,
         0.4138349576853216,
         0.42383837094530463,
         0.42697706585749984,
         0.43055345928296446,
         0.4297739348374307,
         0.4146276540122926,
         0.4360528408549726,
         0.4187003499828279,
         0.4175810291431844,
         0.4343143998645246,
         0.4284025159664452,
         0.4400901018641889,
         0.4232319955714047,
         0.41948341866955163,
         0.42388720652088524,
         0.43129575522616503,
         0.4392921640537679,
         0.4235290755517781,
         0.42624092837795613,
         0.4272492573596537,
         0.41854334315285086,
         0.4314507774077356,
         0.4385373971424997,
         0.4012215628288686,
         0.43543622037395835,
         0.443717625644058,
         0.4265682525001466,
         0.43195604672655463,
         0.4185087434016168,
         0.4244989140890539,
         0.4355327014811337,
         0.4237198322080076,
         0.4453494197688997,
         0.42624497851356863,
         0.43410283839330077,
         0.43273635348305106,
         0.44368163859471677,
         0.40846846913918855,
         0.4267471610568464,
         0.4247096977196634,
         0.4251576437614858,
         0.43134418772533534,
         0.4297795041464269,
         0.43425878053531053,
         0.434354383405298,
         0.45069572823122145,
         0.4179180911742151,
         0.4165519661270082,
         0.4279203415848315,
         0.42269738456234335,
         0.42608545562252403,
         0.4501676774583757,
         0.42335365181788803,
         0.43228576621040704,
         0.435388017911464,
         0.41177382012829183,
         0.41910993242636324,
         0.43023160072043537,
         0.4426978132687509,
         0.4287727332673967,
         0.4159799708984792,
         0.4324786080978811,
         0.44626645604148507,
         0.42319925418123605,
         0.44150244863703847,
         0.42093306994065643,
         0.44202452069148424,
         0.4574839732609689,
         0.4359319263137877,
         0.4467081091366708,
         0.42996511375531554,
         0.4278049468062818,
         0.4370210356079042,
         0.4191833852790296,
         0.4536738351918757,
         0.43663621535524727,
         0.42893766006454825,
         0.42952859019860623,
         0.4305079228244722,
         0.42143026953563095,
         0.42953603630885484,
         0.44463883703574536,
         0.4430155402980745,
         0.4263999006710947,
         0.43624275317415595,
         0.4371241732500494,
         0.42545555671676993,
         0.4199710593558848,
         0.44641756257042287,
         0.4412555075250566
        ],
        [
         8.497368795797229,
         8.37231588177383,
         8.883003471419215,
         8.59091436676681,
         8.744831142947078,
         8.789570970460773,
         8.42149849422276,
         8.965411288663745,
         8.648560369387269,
         8.394092781469226,
         8.276699153706431,
         8.476767418906093,
         8.539541317149997,
         8.61106918565929,
         8.595478696748614,
         8.292553080245852,
         8.721056817099452,
         8.374006999656558,
         8.351620582863688,
         8.686287997290492,
         8.568050319328904,
         8.801802037283778,
         8.464639911428094,
         8.389668373391032,
         8.477744130417705,
         8.625915104523301,
         8.785843281075358,
         8.470581511035562,
         8.524818567559123,
         8.544985147193074,
         8.370866863057017,
         8.629015548154712,
         8.770747942849994,
         8.024431256577373,
         8.708724407479167,
         8.87435251288116,
         8.531365050002933,
         8.639120934531093,
         8.370174868032336,
         8.489978281781077,
         8.710654029622674,
         8.474396644160151,
         8.906988395377994,
         8.524899570271373,
         8.682056767866015,
         8.654727069661021,
         8.873632771894336,
         8.16936938278377,
         8.534943221136928,
         8.494193954393268,
         8.503152875229716,
         8.626883754506707,
         8.595590082928538,
         8.68517561070621,
         8.68708766810596,
         9.013914564624429,
         8.358361823484302,
         8.331039322540164,
         8.55840683169663,
         8.453947691246867,
         8.52170911245048,
         9.003353549167514,
         8.46707303635776,
         8.64571532420814,
         8.70776035822928,
         8.235476402565837,
         8.382198648527265,
         8.604632014408708,
         8.853956265375018,
         8.575454665347934,
         8.319599417969584,
         8.649572161957622,
         8.925329120829701,
         8.46398508362472,
         8.83004897274077,
         8.418661398813128,
         8.840490413829684,
         9.149679465219378,
         8.718638526275754,
         8.934162182733417,
         8.59930227510631,
         8.556098936125636,
         8.740420712158084,
         8.383667705580592,
         9.073476703837514,
         8.732724307104945,
         8.578753201290965,
         8.590571803972125,
         8.610158456489444,
         8.428605390712619,
         8.590720726177096,
         8.892776740714908,
         8.86031080596149,
         8.527998013421893,
         8.724855063483119,
         8.742483465000987,
         8.509111134335399,
         8.399421187117696,
         8.928351251408458,
         8.825110150501132
        ],
        [
         2.7967171133731457,
         2.720412651950708,
         2.9274066546272897,
         2.858573639414018,
         2.8390023346334514,
         2.812291768240249,
         2.7432310821311456,
         2.9171809659552306,
         2.8158359802979,
         2.7815252887684485,
         2.7358907217819417,
         2.7901537175141797,
         2.7471849424123467,
         2.779421486507877,
         2.7746448914999697,
         2.7397643086975565,
         2.871969693769464,
         2.7657605751458565,
         2.807937370240321,
         2.826424023775807,
         2.8309988147408247,
         2.841604311694096,
         2.6930531583250295,
         2.771897448293758,
         2.7816424041469525,
         2.7455661403946396,
         2.889202594507082,
         2.760456947209118,
         2.8391272105241727,
         2.797171275312355,
         2.7594768182701137,
         2.8275849922862126,
         2.8848762367768397,
         2.6958555155483803,
         2.821142148398635,
         2.89434745835797,
         2.8459139215892666,
         2.815379807796252,
         2.7442662592311997,
         2.790109014158749,
         2.8164244059868753,
         2.7506325590354668,
         2.870770021400785,
         2.7964864543653327,
         2.8793677228640338,
         2.7954497825006412,
         2.8719805520468444,
         2.7120197076721166,
         2.830794537134078,
         2.7923590974952672,
         2.7338464169506005,
         2.8262015865960333,
         2.819591506102851,
         2.859369770380198,
         2.826847171688424,
         2.952043707757303,
         2.8092854090053687,
         2.727623550034117,
         2.793210951212911,
         2.8132828706746937,
         2.681236211824165,
         2.8525165398587253,
         2.7855253302863865,
         2.81463623303998,
         2.880945837941302,
         2.737454184165928,
         2.719363463514343,
         2.807801849772083,
         2.915470267337383,
         2.8074034623506012,
         2.739410002549961,
         2.734273824612232,
         2.8676756405080885,
         2.7204286354851015,
         2.8727779334395787,
         2.7420837183792406,
         2.868107212217781,
         2.8969245257891427,
         2.773905164940589,
         2.8939862419960636,
         2.7959750027724333,
         2.8753487501409793,
         2.824224307334643,
         2.7736140482383633,
         2.9229328091024973,
         2.836898704063,
         2.862387923704849,
         2.8215725745776497,
         2.8412696251245104,
         2.752490535259565,
         2.80923517114313,
         2.8845957064515195,
         2.8418791399537806,
         2.8042867163436846,
         2.8694972973642296,
         2.793601294734683,
         2.751450302661435,
         2.7560440740549326,
         2.8513419145238927,
         2.840453592315798
        ]
       ],
       "encoder": "json",
       "name": "ABC_GAN_1 Metrics",
       "version": 1
      }
     },
     "metadata": {
      "scrapbook": {
       "data": true,
       "display": false,
       "name": "ABC_GAN_1 Metrics"
      }
     },
     "output_type": "display_data"
    },
    {
     "name": "stdout",
     "output_type": "stream",
     "text": [
      "MSE\n",
      "0.3949169280916537\n"
     ]
    }
   ],
   "source": [
    "ABC_GAN1_metrics=ABC_train_test2.test_generator(gen,test_data,prior_model,variance,bias,\"1\",device)\n",
    "sb.glue(\"ABC_GAN_1 Metrics\",ABC_GAN1_metrics)\n",
    "\n",
    "print(\"MSE\")\n",
    "print(mean(ABC_GAN1_metrics[0]))"
   ]
  },
  {
   "cell_type": "code",
   "execution_count": 14,
   "id": "eb22ce5c",
   "metadata": {
    "execution": {
     "iopub.execute_input": "2022-06-22T11:59:26.682473Z",
     "iopub.status.busy": "2022-06-22T11:59:26.681771Z",
     "iopub.status.idle": "2022-06-22T11:59:27.398102Z",
     "shell.execute_reply": "2022-06-22T11:59:27.398640Z"
    },
    "papermill": {
     "duration": 0.756679,
     "end_time": "2022-06-22T11:59:27.398840",
     "exception": false,
     "start_time": "2022-06-22T11:59:26.642161",
     "status": "completed"
    },
    "tags": []
   },
   "outputs": [
    {
     "data": {
      "image/png": "[encoded data removed]",
      "text/plain": [
       "<Figure size 432x288 with 1 Axes>"
      ]
     },
     "metadata": {
      "needs_background": "light"
     },
     "output_type": "display_data"
    },
    {
     "data": {
      "image/png": "[encoded data removed]",
      "text/plain": [
       "<Figure size 432x288 with 1 Axes>"
      ]
     },
     "metadata": {
      "needs_background": "light"
     },
     "output_type": "display_data"
    },
    {
     "data": {
      "image/png": "[encoded data removed]",
      "text/plain": [
       "<Figure size 432x288 with 1 Axes>"
      ]
     },
     "metadata": {
      "needs_background": "light"
     },
     "output_type": "display_data"
    },
    {
     "data": {
      "image/png": "[encoded data removed]",
      "text/plain": [
       "<Figure size 432x288 with 1 Axes>"
      ]
     },
     "metadata": {
      "needs_background": "light"
     },
     "output_type": "display_data"
    }
   ],
   "source": [
    "sanityChecks.discProbVsError(train_data,disc,device)\n",
    "sanityChecks.discProbVsError(test_data,disc,device)"
   ]
  },
  {
   "cell_type": "markdown",
   "id": "130f3a4d",
   "metadata": {
    "id": "130f3a4d",
    "papermill": {
     "duration": 0.04086,
     "end_time": "2022-06-22T11:59:27.470668",
     "exception": false,
     "start_time": "2022-06-22T11:59:27.429808",
     "status": "completed"
    },
    "tags": []
   },
   "source": [
    "# ABC - GAN Model with skip connection"
   ]
  },
  {
   "cell_type": "code",
   "execution_count": 15,
   "id": "4e43dad1",
   "metadata": {
    "execution": {
     "iopub.execute_input": "2022-06-22T11:59:27.552991Z",
     "iopub.status.busy": "2022-06-22T11:59:27.552233Z",
     "iopub.status.idle": "2022-06-22T11:59:27.556534Z",
     "shell.execute_reply": "2022-06-22T11:59:27.557018Z"
    },
    "id": "4e43dad1",
    "papermill": {
     "duration": 0.047076,
     "end_time": "2022-06-22T11:59:27.557226",
     "exception": false,
     "start_time": "2022-06-22T11:59:27.510150",
     "status": "completed"
    },
    "tags": []
   },
   "outputs": [],
   "source": [
    "#Generator\n",
    "gen3 = network.GeneratorWithSkipConnection(n_features+1).to(device)\n",
    "constraints=network.weightConstraint()\n",
    "#Discriminator \n",
    "disc3 = network.Discriminator(n_features+1).to(device)\n",
    "\n",
    "criterion = torch.nn.BCELoss()\n",
    "gen_opt = torch.optim.Adam(gen3.parameters(), lr=0.001, betas=(0.5, 0.999))\n",
    "disc_opt = torch.optim.Adam(disc3.parameters(), lr=0.001, betas=(0.5, 0.999))\n"
   ]
  },
  {
   "cell_type": "code",
   "execution_count": 16,
   "id": "26acbc37",
   "metadata": {
    "execution": {
     "iopub.execute_input": "2022-06-22T11:59:27.661264Z",
     "iopub.status.busy": "2022-06-22T11:59:27.660527Z",
     "iopub.status.idle": "2022-06-22T12:00:34.720957Z",
     "shell.execute_reply": "2022-06-22T12:00:34.721597Z"
    },
    "id": "26acbc37",
    "papermill": {
     "duration": 67.120058,
     "end_time": "2022-06-22T12:00:34.721891",
     "exception": false,
     "start_time": "2022-06-22T11:59:27.601833",
     "status": "completed"
    },
    "tags": []
   },
   "outputs": [
    {
     "data": {
      "image/png": "[encoded data removed]",
      "text/plain": [
       "<Figure size 432x288 with 1 Axes>"
      ]
     },
     "metadata": {
      "needs_background": "light"
     },
     "output_type": "display_data"
    },
    {
     "data": {
      "image/png": "[encoded data removed]",
      "text/plain": [
       "<Figure size 432x288 with 1 Axes>"
      ]
     },
     "metadata": {
      "needs_background": "light"
     },
     "output_type": "display_data"
    }
   ],
   "source": [
    "ABC_train_test2.training_GAN_skip_connection(disc3,gen3,disc_opt,gen_opt,train_data,batch_size,n_epochs,criterion,prior_model,variance,bias,device)"
   ]
  },
  {
   "cell_type": "code",
   "execution_count": 17,
   "id": "c5e0717b",
   "metadata": {
    "execution": {
     "iopub.execute_input": "2022-06-22T12:00:34.800236Z",
     "iopub.status.busy": "2022-06-22T12:00:34.799024Z",
     "iopub.status.idle": "2022-06-22T12:00:35.564858Z",
     "shell.execute_reply": "2022-06-22T12:00:35.565329Z"
    },
    "id": "c5e0717b",
    "papermill": {
     "duration": 0.811344,
     "end_time": "2022-06-22T12:00:35.565541",
     "exception": false,
     "start_time": "2022-06-22T12:00:34.754197",
     "status": "completed"
    },
    "tags": []
   },
   "outputs": [
    {
     "data": {
      "application/scrapbook.scrap.json+json": {
       "data": 0.333984082313848,
       "encoder": "json",
       "name": "ABC-GAN Model 3 MSE",
       "version": 1
      }
     },
     "metadata": {
      "scrapbook": {
       "data": true,
       "display": false,
       "name": "ABC-GAN Model 3 MSE"
      }
     },
     "output_type": "display_data"
    },
    {
     "data": {
      "application/scrapbook.scrap.json+json": {
       "data": 0.38303148851171137,
       "encoder": "json",
       "name": "ABC-GAN Model 3 MAE",
       "version": 1
      }
     },
     "metadata": {
      "scrapbook": {
       "data": true,
       "display": false,
       "name": "ABC-GAN Model 3 MAE"
      }
     },
     "output_type": "display_data"
    },
    {
     "data": {
      "application/scrapbook.scrap.json+json": {
       "data": 7.660629770234227,
       "encoder": "json",
       "name": "ABC-GAN Model 3 Manhattan Distance",
       "version": 1
      }
     },
     "metadata": {
      "scrapbook": {
       "data": true,
       "display": false,
       "name": "ABC-GAN Model 3 Manhattan Distance"
      }
     },
     "output_type": "display_data"
    },
    {
     "data": {
      "application/scrapbook.scrap.json+json": {
       "data": 2.5839501429372596,
       "encoder": "json",
       "name": "ABC-GAN Model 3 Euclidean distance",
       "version": 1
      }
     },
     "metadata": {
      "scrapbook": {
       "data": true,
       "display": false,
       "name": "ABC-GAN Model 3 Euclidean distance"
      }
     },
     "output_type": "display_data"
    },
    {
     "data": {
      "application/scrapbook.scrap.json+json": {
       "data": [
        [
         0.34148518478572,
         0.32381772517223006,
         0.32566619645397965,
         0.3302524279067912,
         0.32699794370575275,
         0.31290984446545544,
         0.330128779667242,
         0.32776548167433517,
         0.34826723141583726,
         0.3559860173970163,
         0.30957923633519696,
         0.32743958730360917,
         0.3246905102683614,
         0.3574846920932224,
         0.32735144702952035,
         0.33346079147200774,
         0.3432339134814065,
         0.3369450407773517,
         0.33209936518873145,
         0.3355804063242481,
         0.3648519199833835,
         0.32755834716389,
         0.3112066052312387,
         0.32329750706162624,
         0.323714794081854,
         0.3260828343731373,
         0.32783877355087887,
         0.32543744821749404,
         0.3301878647473825,
         0.3279926077146272,
         0.34130458076177306,
         0.3427008462160712,
         0.36996810800695046,
         0.36173906457717814,
         0.3452921450034484,
         0.3313692536653061,
         0.3262947274814196,
         0.3871031159340361,
         0.32398154542554997,
         0.3215663062330969,
         0.3347270396963581,
         0.33895678682435976,
         0.32806928952559333,
         0.3318224315880005,
         0.3300988493092643,
         0.34344880922454857,
         0.35592343802341675,
         0.3194068938027448,
         0.35068585530531843,
         0.32601506607350356,
         0.33753910558062994,
         0.33102475185866737,
         0.32351748819889026,
         0.3237422561904696,
         0.3615137172356075,
         0.33143800254458655,
         0.3130032216114019,
         0.30953854796658126,
         0.33682420054601525,
         0.33747841731909967,
         0.3437417979237284,
         0.3332858469857903,
         0.3400709732615485,
         0.3153499606399629,
         0.3347825263464718,
         0.32078505999618656,
         0.34194251241240803,
         0.31958470258758503,
         0.33265195791230573,
         0.3365777365010912,
         0.3141665171847482,
         0.3218852997593253,
         0.29675378858970347,
         0.35094993409907926,
         0.3300999908049215,
         0.3388102328552045,
         0.3168748882854542,
         0.31549650031390436,
         0.33707047205458585,
         0.3257840644379445,
         0.32361607634700834,
         0.3292217917809297,
         0.3398481346707052,
         0.34339904116678904,
         0.340480147347131,
         0.34376103515587597,
         0.34478423859308077,
         0.33112838216393237,
         0.32164446615484066,
         0.33503042095789615,
         0.3545158808005162,
         0.33907147206870675,
         0.34120170747584794,
         0.34541864536939093,
         0.33932941503623054,
         0.3300941259165947,
         0.3383040548082802,
         0.33902058788627376,
         0.33774953006938235,
         0.35871992789002677
        ],
        [
         0.4025050033815205,
         0.38106226073578,
         0.3812631760723889,
         0.3841538910754025,
         0.37194857792928815,
         0.3614527274854481,
         0.3974382420070469,
         0.3741667692549527,
         0.3950729389674962,
         0.40320196794345975,
         0.35772527204826476,
         0.38895563976839187,
         0.3776667599566281,
         0.38211155878379943,
         0.3809058849699795,
         0.38148349123075603,
         0.3664847766049206,
         0.38140973197296263,
         0.381533766258508,
         0.3823764373548329,
         0.3971013535745442,
         0.3768222157843411,
         0.36720515536144377,
         0.37534233229234815,
         0.37829881804063914,
         0.36557537512853744,
         0.3858796303160489,
         0.37342841671779753,
         0.37452677683904767,
         0.38150778161361815,
         0.3663217027671635,
         0.3739740286953747,
         0.4238426779396832,
         0.3978355531580746,
         0.3955281679518521,
         0.38255339162424207,
         0.3912439708597958,
         0.43404032932594416,
         0.38544044392183424,
         0.3576841031201184,
         0.3835972552187741,
         0.3926630680449307,
         0.3991788004525006,
         0.35911808954551816,
         0.39028685735538604,
         0.393289961386472,
         0.41326201157644393,
         0.3885890786536038,
         0.3790694077499211,
         0.3720095996744931,
         0.3831906978972256,
         0.3865962882526219,
         0.3682761420495808,
         0.3718373198993504,
         0.4003470350988209,
         0.3776756634004414,
         0.36884845392778515,
         0.3807461072690785,
         0.3778780241496861,
         0.3745448444969952,
         0.3946093206293881,
         0.3783461396582425,
         0.3943414424546063,
         0.368767945934087,
         0.39246765719726684,
         0.37087690429762005,
         0.39159684972837566,
         0.3707748685963452,
         0.37146056788042187,
         0.37515723751857877,
         0.3583707113750279,
         0.38286147760227324,
         0.35514150755479934,
         0.3838695769198239,
         0.3857702319510281,
         0.3888810549862683,
         0.36618524240329864,
         0.35237821834161875,
         0.3886627619154751,
         0.3862242673523724,
         0.3909031947143376,
         0.3814414684660733,
         0.39491895483806727,
         0.3938687195070088,
         0.38492117868736386,
         0.4084352617152035,
         0.39356974409893153,
         0.38664786564186215,
         0.37419177340343596,
         0.38570635663345454,
         0.3801859845407307,
         0.38302569882944226,
         0.40237301783636215,
         0.3960117165930569,
         0.37283621029928327,
         0.3768665035255253,
         0.3915096183307469,
         0.3720813740976155,
         0.3881885935552418,
         0.410645826626569
        ],
        [
         8.05010006763041,
         7.6212452147156,
         7.625263521447778,
         7.68307782150805,
         7.438971558585763,
         7.229054549708962,
         7.948764840140939,
         7.483335385099053,
         7.901458779349923,
         8.064039358869195,
         7.154505440965295,
         7.779112795367837,
         7.553335199132562,
         7.642231175675988,
         7.6181176993995905,
         7.629669824615121,
         7.3296955320984125,
         7.628194639459252,
         7.630675325170159,
         7.647528747096658,
         7.942027071490884,
         7.536444315686822,
         7.344103107228875,
         7.506846645846963,
         7.565976360812783,
         7.311507502570748,
         7.717592606320977,
         7.46856833435595,
         7.490535536780953,
         7.630155632272363,
         7.32643405534327,
         7.4794805739074945,
         8.476853558793664,
         7.956711063161492,
         7.910563359037042,
         7.651067832484841,
         7.824879417195916,
         8.680806586518884,
         7.708808878436685,
         7.153682062402368,
         7.671945104375482,
         7.853261360898614,
         7.983576009050012,
         7.182361790910363,
         7.80573714710772,
         7.86579922772944,
         8.265240231528878,
         7.771781573072076,
         7.581388154998422,
         7.4401919934898615,
         7.663813957944512,
         7.731925765052438,
         7.365522840991616,
         7.436746397987008,
         8.006940701976418,
         7.553513268008828,
         7.376969078555703,
         7.61492214538157,
         7.557560482993722,
         7.490896889939904,
         7.892186412587762,
         7.566922793164849,
         7.886828849092126,
         7.375358918681741,
         7.849353143945336,
         7.417538085952401,
         7.8319369945675135,
         7.415497371926904,
         7.4292113576084375,
         7.503144750371575,
         7.167414227500558,
         7.6572295520454645,
         7.102830151095986,
         7.677391538396478,
         7.715404639020562,
         7.777621099725366,
         7.323704848065972,
         7.0475643668323755,
         7.773255238309503,
         7.724485347047448,
         7.818063894286752,
         7.6288293693214655,
         7.898379096761346,
         7.877374390140176,
         7.698423573747277,
         8.16870523430407,
         7.871394881978631,
         7.732957312837243,
         7.483835468068719,
         7.714127132669091,
         7.603719690814614,
         7.660513976588845,
         8.047460356727242,
         7.920234331861138,
         7.456724205985665,
         7.537330070510507,
         7.830192366614938,
         7.44162748195231,
         7.7637718711048365,
         8.21291653253138
        ],
        [
         2.6133701796175757,
         2.5448682683873054,
         2.552121456568945,
         2.5700289021985383,
         2.5573343297494473,
         2.5016388407020522,
         2.569547741012967,
         2.560333891016307,
         2.639193935336459,
         2.6682804102905537,
         2.4882895182642915,
         2.5590607155892537,
         2.548295549061613,
         2.6738911424858807,
         2.558716268090389,
         2.5824824935399184,
         2.620053104352683,
         2.595939293501879,
         2.5772053282139993,
         2.5906771559738897,
         2.70130309289196,
         2.5595247494950697,
         2.4948210566340774,
         2.5428232618946454,
         2.5444637709421367,
         2.5537534507980104,
         2.560620134072521,
         2.551224992890647,
         2.5697776742254668,
         2.5612208327851276,
         2.6126790111369327,
         2.6180177471364523,
         2.7201768619225866,
         2.689754875735624,
         2.6278970489859317,
         2.5743708111509735,
         2.5545830480977503,
         2.782456166533576,
         2.54551191482401,
         2.536005939398001,
         2.587381068557,
         2.6036773487679294,
         2.5615202108341575,
         2.576130554098532,
         2.5694312573379516,
         2.6208731721491163,
         2.6680458692586857,
         2.5274765826916963,
         2.648342331743834,
         2.553488069576608,
         2.5982267244435384,
         2.5730322650859523,
         2.5436882206704903,
         2.544571697517952,
         2.6889169464139555,
         2.5746378484928187,
         2.502012076755034,
         2.488125993460063,
         2.59547375461982,
         2.597993138247673,
         2.6219908387472612,
         2.581804977087891,
         2.607953117912776,
         2.5113739691251196,
         2.587595510687371,
         2.5329234492822184,
         2.615119547601631,
         2.5281799880055416,
         2.579348591843707,
         2.5945239891012424,
         2.506657205063142,
         2.5372634855659957,
         2.4362010942847205,
         2.6493392915935825,
         2.569435699934604,
         2.603114414908436,
         2.5174387312721405,
         2.5119574053470903,
         2.59642243117173,
         2.552583257948483,
         2.5440757706758985,
         2.5660155563867093,
         2.607098520082067,
         2.620683274135923,
         2.6095215934999696,
         2.6220642065207937,
         2.6259635892109423,
         2.5734349891300243,
         2.5363141215347937,
         2.588553344854597,
         2.6627650320691694,
         2.604117785618411,
         2.612285235099138,
         2.628378379797669,
         2.6051081168973793,
         2.56941287424421,
         2.6011691786897684,
         2.603922379358777,
         2.5990364755785262,
         2.678506777628262
        ]
       ],
       "encoder": "json",
       "name": "ABC_GAN_3 Metrics",
       "version": 1
      }
     },
     "metadata": {
      "scrapbook": {
       "data": true,
       "display": false,
       "name": "ABC_GAN_3 Metrics"
      }
     },
     "output_type": "display_data"
    },
    {
     "name": "stdout",
     "output_type": "stream",
     "text": [
      "MSE\n",
      "0.333984082313848\n"
     ]
    }
   ],
   "source": [
    "ABC_GAN3_metrics=ABC_train_test2.test_generator(gen3,test_data,prior_model,variance,bias,\"3\",device)\n",
    "sb.glue(\"ABC_GAN_3 Metrics\",ABC_GAN3_metrics)\n",
    "\n",
    "print(\"MSE\")\n",
    "print(mean(ABC_GAN3_metrics[0]))"
   ]
  },
  {
   "cell_type": "code",
   "execution_count": 18,
   "id": "c8e46b48",
   "metadata": {
    "execution": {
     "iopub.execute_input": "2022-06-22T12:00:35.666998Z",
     "iopub.status.busy": "2022-06-22T12:00:35.666094Z",
     "iopub.status.idle": "2022-06-22T12:00:36.397200Z",
     "shell.execute_reply": "2022-06-22T12:00:36.397616Z"
    },
    "id": "c8e46b48",
    "papermill": {
     "duration": 0.7862,
     "end_time": "2022-06-22T12:00:36.397828",
     "exception": false,
     "start_time": "2022-06-22T12:00:35.611628",
     "status": "completed"
    },
    "tags": []
   },
   "outputs": [
    {
     "data": {
      "image/png": "[encoded data removed]",
      "text/plain": [
       "<Figure size 432x288 with 1 Axes>"
      ]
     },
     "metadata": {
      "needs_background": "light"
     },
     "output_type": "display_data"
    },
    {
     "data": {
      "image/png": "[encoded data removed]",
      "text/plain": [
       "<Figure size 432x288 with 1 Axes>"
      ]
     },
     "metadata": {
      "needs_background": "light"
     },
     "output_type": "display_data"
    },
    {
     "data": {
      "image/png": "[encoded data removed]",
      "text/plain": [
       "<Figure size 432x288 with 1 Axes>"
      ]
     },
     "metadata": {
      "needs_background": "light"
     },
     "output_type": "display_data"
    },
    {
     "data": {
      "image/png": "[encoded data removed]",
      "text/plain": [
       "<Figure size 432x288 with 1 Axes>"
      ]
     },
     "metadata": {
      "needs_background": "light"
     },
     "output_type": "display_data"
    }
   ],
   "source": [
    "sanityChecks.discProbVsError(train_data,disc3,device)\n",
    "sanityChecks.discProbVsError(test_data,disc3,device)"
   ]
  },
  {
   "cell_type": "markdown",
   "id": "a5bd74c3",
   "metadata": {
    "id": "a5bd74c3",
    "papermill": {
     "duration": 0.070942,
     "end_time": "2022-06-22T12:00:36.514336",
     "exception": false,
     "start_time": "2022-06-22T12:00:36.443394",
     "status": "completed"
    },
    "tags": []
   },
   "source": [
    "## Skip Connection Model Analysis - ABC-GAN "
   ]
  },
  {
   "cell_type": "markdown",
   "id": "5744a8bf",
   "metadata": {
    "id": "5744a8bf",
    "papermill": {
     "duration": 0.068989,
     "end_time": "2022-06-22T12:00:36.637775",
     "exception": false,
     "start_time": "2022-06-22T12:00:36.568786",
     "status": "completed"
    },
    "tags": []
   },
   "source": [
    "### Weight Analysis \n",
    "\n",
    "Study the weights of the skip connection layer\n",
    "\n",
    "Equation of the skip connection is \n",
    "\n",
    "$output = y_{gan} * w + y_{abc} * (1-w)$"
   ]
  },
  {
   "cell_type": "code",
   "execution_count": 19,
   "id": "52c31dea",
   "metadata": {
    "execution": {
     "iopub.execute_input": "2022-06-22T12:00:36.735439Z",
     "iopub.status.busy": "2022-06-22T12:00:36.734618Z",
     "iopub.status.idle": "2022-06-22T12:00:36.741572Z",
     "shell.execute_reply": "2022-06-22T12:00:36.742118Z"
    },
    "id": "52c31dea",
    "papermill": {
     "duration": 0.062255,
     "end_time": "2022-06-22T12:00:36.742354",
     "exception": false,
     "start_time": "2022-06-22T12:00:36.680099",
     "status": "completed"
    },
    "tags": []
   },
   "outputs": [
    {
     "name": "stdout",
     "output_type": "stream",
     "text": [
      "Weight of the node at skip connection\n",
      "Parameter containing:\n",
      "tensor([[0.1139]], requires_grad=True)\n"
     ]
    },
    {
     "data": {
      "application/scrapbook.scrap.json+json": {
       "data": 0.11389831453561783,
       "encoder": "json",
       "name": "Skip Connection Weight",
       "version": 1
      }
     },
     "metadata": {
      "scrapbook": {
       "data": true,
       "display": false,
       "name": "Skip Connection Weight"
      }
     },
     "output_type": "display_data"
    }
   ],
   "source": [
    "print(\"Weight of the node at skip connection\")\n",
    "for name,param in gen3.named_parameters():\n",
    "    if(name == \"skipNode.weight\"):\n",
    "        print(param)\n",
    "        sb.glue(\"Skip Connection Weight\",param.item())"
   ]
  }
 ],
 "metadata": {
  "colab": {
   "collapsed_sections": [],
   "name": "ABC_GAN_Model-Catboost_Pre-gen.ipynb",
   "provenance": []
  },
  "interpreter": {
   "hash": "31f2aee4e71d21fbe5cf8b01ff0e069b9275f58929596ceb00d14d90e3e16cd6"
  },
  "kernelspec": {
   "display_name": "Python 3 (ipykernel)",
   "language": "python",
   "name": "python3"
  },
  "language_info": {
   "codemirror_mode": {
    "name": "ipython",
    "version": 3
   },
   "file_extension": ".py",
   "mimetype": "text/x-python",
   "name": "python",
   "nbconvert_exporter": "python",
   "pygments_lexer": "ipython3",
   "version": "3.8.3"
  },
  "papermill": {
   "default_parameters": {},
   "duration": 133.434608,
   "end_time": "2022-06-22T12:00:38.622973",
   "environment_variables": {},
   "exception": null,
   "input_path": "ABC_GAN-TabNet.ipynb",
   "output_path": "./ABC_GAN_TabNet/ABC-GAN_output_2_1.ipynb",
   "parameters": {
    "bias": 1,
    "variance": 0.1
   },
   "start_time": "2022-06-22T11:58:25.188365",
   "version": "2.3.3"
  }
 },
 "nbformat": 4,
 "nbformat_minor": 5
}