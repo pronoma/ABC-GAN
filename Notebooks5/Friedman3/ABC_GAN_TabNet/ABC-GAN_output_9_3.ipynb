{
 "cells": [
  {
   "cell_type": "markdown",
   "id": "622780e6",
   "metadata": {
    "id": "622780e6",
    "papermill": {
     "duration": 0.03002,
     "end_time": "2022-06-22T16:03:40.086124",
     "exception": false,
     "start_time": "2022-06-22T16:03:40.056104",
     "status": "completed"
    },
    "tags": []
   },
   "source": [
    "## Import Libraries "
   ]
  },
  {
   "cell_type": "code",
   "execution_count": 1,
   "id": "a62397e3",
   "metadata": {
    "execution": {
     "iopub.execute_input": "2022-06-22T16:03:40.154622Z",
     "iopub.status.busy": "2022-06-22T16:03:40.153131Z",
     "iopub.status.idle": "2022-06-22T16:03:40.156067Z",
     "shell.execute_reply": "2022-06-22T16:03:40.156642Z"
    },
    "id": "a62397e3",
    "papermill": {
     "duration": 0.047474,
     "end_time": "2022-06-22T16:03:40.157052",
     "exception": false,
     "start_time": "2022-06-22T16:03:40.109578",
     "status": "completed"
    },
    "tags": []
   },
   "outputs": [],
   "source": [
    "import warnings\n",
    "import sys\n",
    "sys.path.insert(0, '../../src')\n",
    "warnings.filterwarnings('ignore')"
   ]
  },
  {
   "cell_type": "code",
   "execution_count": 2,
   "id": "d6a4e155",
   "metadata": {
    "execution": {
     "iopub.execute_input": "2022-06-22T16:03:40.204281Z",
     "iopub.status.busy": "2022-06-22T16:03:40.202592Z",
     "iopub.status.idle": "2022-06-22T16:03:49.233960Z",
     "shell.execute_reply": "2022-06-22T16:03:49.245439Z"
    },
    "id": "d6a4e155",
    "papermill": {
     "duration": 9.067059,
     "end_time": "2022-06-22T16:03:49.245856",
     "exception": false,
     "start_time": "2022-06-22T16:03:40.178797",
     "status": "completed"
    },
    "tags": []
   },
   "outputs": [],
   "source": [
    "import ABC_train_test2\n",
    "import friedman3Dataset\n",
    "import network\n",
    "import dataset\n",
    "import sanityChecks\n",
    "import torch \n",
    "import scrapbook as sb\n",
    "from statistics import mean \n",
    "import catboost as ctb \n",
    "from sklearn.model_selection import train_test_split\n",
    "from sklearn.metrics import mean_squared_error,mean_absolute_error\n",
    "import numpy as np\n",
    "from pytorch_tabnet.tab_model import TabNetRegressor"
   ]
  },
  {
   "cell_type": "markdown",
   "id": "2fa5b0f7",
   "metadata": {
    "id": "2fa5b0f7",
    "papermill": {
     "duration": 0.055727,
     "end_time": "2022-06-22T16:03:49.331387",
     "exception": false,
     "start_time": "2022-06-22T16:03:49.275660",
     "status": "completed"
    },
    "tags": []
   },
   "source": [
    "## Parameters "
   ]
  },
  {
   "cell_type": "code",
   "execution_count": 3,
   "id": "783186fb",
   "metadata": {
    "execution": {
     "iopub.execute_input": "2022-06-22T16:03:49.406211Z",
     "iopub.status.busy": "2022-06-22T16:03:49.401153Z",
     "iopub.status.idle": "2022-06-22T16:03:49.407486Z",
     "shell.execute_reply": "2022-06-22T16:03:49.408056Z"
    },
    "id": "783186fb",
    "papermill": {
     "duration": 0.051264,
     "end_time": "2022-06-22T16:03:49.408318",
     "exception": false,
     "start_time": "2022-06-22T16:03:49.357054",
     "status": "completed"
    },
    "tags": [
     "parameters"
    ]
   },
   "outputs": [],
   "source": [
    "variance = 1\n",
    "bias = 1 "
   ]
  },
  {
   "cell_type": "code",
   "execution_count": 4,
   "id": "38e633ae",
   "metadata": {
    "execution": {
     "iopub.execute_input": "2022-06-22T16:03:49.501562Z",
     "iopub.status.busy": "2022-06-22T16:03:49.497454Z",
     "iopub.status.idle": "2022-06-22T16:03:49.503313Z",
     "shell.execute_reply": "2022-06-22T16:03:49.500793Z"
    },
    "papermill": {
     "duration": 0.058281,
     "end_time": "2022-06-22T16:03:49.503565",
     "exception": false,
     "start_time": "2022-06-22T16:03:49.445284",
     "status": "completed"
    },
    "tags": [
     "injected-parameters"
    ]
   },
   "outputs": [],
   "source": [
    "# Parameters\n",
    "variance = 1\n",
    "bias = 0.1\n"
   ]
  },
  {
   "cell_type": "markdown",
   "id": "391cdbfd",
   "metadata": {
    "id": "391cdbfd",
    "papermill": {
     "duration": 0.02616,
     "end_time": "2022-06-22T16:03:49.555590",
     "exception": false,
     "start_time": "2022-06-22T16:03:49.529430",
     "status": "completed"
    },
    "tags": []
   },
   "source": [
    "## Dataset \n"
   ]
  },
  {
   "cell_type": "code",
   "execution_count": 5,
   "id": "5b51f161",
   "metadata": {
    "execution": {
     "iopub.execute_input": "2022-06-22T16:03:49.684247Z",
     "iopub.status.busy": "2022-06-22T16:03:49.681837Z",
     "iopub.status.idle": "2022-06-22T16:03:49.690912Z",
     "shell.execute_reply": "2022-06-22T16:03:49.689875Z"
    },
    "id": "5b51f161",
    "papermill": {
     "duration": 0.085718,
     "end_time": "2022-06-22T16:03:49.691240",
     "exception": false,
     "start_time": "2022-06-22T16:03:49.605522",
     "status": "completed"
    },
    "tags": []
   },
   "outputs": [],
   "source": [
    "#Parameters \n",
    "n_features = 4\n",
    "n_samples= 100\n",
    "n_target = 1"
   ]
  },
  {
   "cell_type": "code",
   "execution_count": 6,
   "id": "5d6eced4",
   "metadata": {
    "execution": {
     "iopub.execute_input": "2022-06-22T16:03:49.781414Z",
     "iopub.status.busy": "2022-06-22T16:03:49.780311Z",
     "iopub.status.idle": "2022-06-22T16:03:49.803522Z",
     "shell.execute_reply": "2022-06-22T16:03:49.804204Z"
    },
    "id": "5d6eced4",
    "papermill": {
     "duration": 0.077874,
     "end_time": "2022-06-22T16:03:49.804854",
     "exception": false,
     "start_time": "2022-06-22T16:03:49.726980",
     "status": "completed"
    },
    "tags": []
   },
   "outputs": [
    {
     "name": "stdout",
     "output_type": "stream",
     "text": [
      "          X1           X2        X3         X4         Y\n",
      "0  12.672140  1228.494278  0.205404   9.622233  1.302557\n",
      "1   6.342742   783.100463  0.542057   9.061380  1.598893\n",
      "2  33.724330   658.150431  0.423910   7.115011  1.477557\n",
      "3  93.772940   136.225801  0.623064   2.613652  0.636375\n",
      "4  38.460045   967.391844  0.736017  10.499560  1.591551\n"
     ]
    }
   ],
   "source": [
    "X,Y = friedman3Dataset.friedman3_data(n_samples)"
   ]
  },
  {
   "cell_type": "code",
   "execution_count": 7,
   "id": "fe007438",
   "metadata": {
    "execution": {
     "iopub.execute_input": "2022-06-22T16:03:49.874410Z",
     "iopub.status.busy": "2022-06-22T16:03:49.873016Z",
     "iopub.status.idle": "2022-06-22T16:03:49.876183Z",
     "shell.execute_reply": "2022-06-22T16:03:49.875603Z"
    },
    "id": "fe007438",
    "papermill": {
     "duration": 0.045452,
     "end_time": "2022-06-22T16:03:49.876496",
     "exception": false,
     "start_time": "2022-06-22T16:03:49.831044",
     "status": "completed"
    },
    "tags": []
   },
   "outputs": [],
   "source": [
    "#Train test split for dataset \n",
    "X_train,X_test,Y_train,Y_test = train_test_split(X,Y,test_size = 0.2)\n",
    "train_data = dataset.CustomDataset(X_train,Y_train)\n",
    "test_data = dataset.CustomDataset(X_test,Y_test)\n"
   ]
  },
  {
   "cell_type": "markdown",
   "id": "a9a1af34",
   "metadata": {
    "id": "a9a1af34",
    "papermill": {
     "duration": 0.027889,
     "end_time": "2022-06-22T16:03:49.925610",
     "exception": false,
     "start_time": "2022-06-22T16:03:49.897721",
     "status": "completed"
    },
    "tags": []
   },
   "source": [
    "## Training Parameters "
   ]
  },
  {
   "cell_type": "code",
   "execution_count": 8,
   "id": "952b7fc8",
   "metadata": {
    "execution": {
     "iopub.execute_input": "2022-06-22T16:03:50.097252Z",
     "iopub.status.busy": "2022-06-22T16:03:50.091440Z",
     "iopub.status.idle": "2022-06-22T16:03:50.098899Z",
     "shell.execute_reply": "2022-06-22T16:03:50.098133Z"
    },
    "id": "952b7fc8",
    "papermill": {
     "duration": 0.153894,
     "end_time": "2022-06-22T16:03:50.099178",
     "exception": false,
     "start_time": "2022-06-22T16:03:49.945284",
     "status": "completed"
    },
    "tags": []
   },
   "outputs": [],
   "source": [
    "batch_size = 32\n",
    "n_epochs = 1000\n",
    "#Select the device \n",
    "device = torch.device('cuda' if torch.cuda.is_available() else 'cpu')"
   ]
  },
  {
   "cell_type": "markdown",
   "id": "a95e1600",
   "metadata": {
    "id": "a95e1600",
    "papermill": {
     "duration": 0.0416,
     "end_time": "2022-06-22T16:03:50.233894",
     "exception": false,
     "start_time": "2022-06-22T16:03:50.192294",
     "status": "completed"
    },
    "tags": []
   },
   "source": [
    "# ABC Pre-generator Model \n",
    "\n",
    "1. The catboost model is used as a pre-generator model for the ABC-GAN. \n",
    "2. The model is first trained on the entire dataset \n",
    "3. It generats X,Y pairs and we add some Gaussian noise with mean 0 and variance 1 to it which is then feed as input to the generator.\n"
   ]
  },
  {
   "cell_type": "code",
   "execution_count": 9,
   "id": "ff8ce7bd",
   "metadata": {
    "execution": {
     "iopub.execute_input": "2022-06-22T16:03:50.348843Z",
     "iopub.status.busy": "2022-06-22T16:03:50.335381Z",
     "iopub.status.idle": "2022-06-22T16:04:07.339859Z",
     "shell.execute_reply": "2022-06-22T16:04:07.340427Z"
    },
    "id": "ff8ce7bd",
    "papermill": {
     "duration": 17.072365,
     "end_time": "2022-06-22T16:04:07.340667",
     "exception": false,
     "start_time": "2022-06-22T16:03:50.268302",
     "status": "completed"
    },
    "tags": []
   },
   "outputs": [
    {
     "name": "stdout",
     "output_type": "stream",
     "text": [
      "Device used : cpu\n"
     ]
    },
    {
     "name": "stdout",
     "output_type": "stream",
     "text": [
      "epoch 0  | loss: 0.98408 | train_mse: 6.04458 | train_mae: 1.49857 |  0:00:00s\n"
     ]
    },
    {
     "name": "stdout",
     "output_type": "stream",
     "text": [
      "epoch 1  | loss: 1.08391 | train_mse: 6.68343 | train_mae: 1.80358 |  0:00:00s\n",
      "epoch 2  | loss: 0.5766  | train_mse: 12.02304| train_mae: 2.26282 |  0:00:00s\n"
     ]
    },
    {
     "name": "stdout",
     "output_type": "stream",
     "text": [
      "epoch 3  | loss: 0.60775 | train_mse: 9.86988 | train_mae: 2.0685  |  0:00:01s\n",
      "epoch 4  | loss: 0.56537 | train_mse: 13.53241| train_mae: 2.45057 |  0:00:01s\n"
     ]
    },
    {
     "name": "stdout",
     "output_type": "stream",
     "text": [
      "epoch 5  | loss: 0.60319 | train_mse: 11.51379| train_mae: 2.22926 |  0:00:01s\n",
      "epoch 6  | loss: 0.49843 | train_mse: 11.094  | train_mae: 2.15772 |  0:00:01s\n",
      "epoch 7  | loss: 0.38704 | train_mse: 9.62934 | train_mae: 1.99945 |  0:00:01s\n"
     ]
    },
    {
     "name": "stdout",
     "output_type": "stream",
     "text": [
      "epoch 8  | loss: 0.32413 | train_mse: 5.65834 | train_mae: 1.48185 |  0:00:01s\n",
      "epoch 9  | loss: 0.38409 | train_mse: 2.01119 | train_mae: 0.87134 |  0:00:01s\n"
     ]
    },
    {
     "name": "stdout",
     "output_type": "stream",
     "text": [
      "epoch 10 | loss: 0.33218 | train_mse: 0.81267 | train_mae: 0.60306 |  0:00:01s\n",
      "epoch 11 | loss: 0.66037 | train_mse: 0.43261 | train_mae: 0.43772 |  0:00:01s\n"
     ]
    },
    {
     "name": "stdout",
     "output_type": "stream",
     "text": [
      "epoch 12 | loss: 0.34023 | train_mse: 0.32623 | train_mae: 0.41899 |  0:00:02s\n",
      "epoch 13 | loss: 0.43699 | train_mse: 0.46167 | train_mae: 0.49084 |  0:00:02s\n"
     ]
    },
    {
     "name": "stdout",
     "output_type": "stream",
     "text": [
      "epoch 14 | loss: 0.3199  | train_mse: 0.42927 | train_mae: 0.47738 |  0:00:02s\n",
      "epoch 15 | loss: 0.23051 | train_mse: 0.35335 | train_mae: 0.45127 |  0:00:02s\n"
     ]
    },
    {
     "name": "stdout",
     "output_type": "stream",
     "text": [
      "epoch 16 | loss: 0.30503 | train_mse: 0.26861 | train_mae: 0.39469 |  0:00:02s\n",
      "epoch 17 | loss: 0.237   | train_mse: 0.19965 | train_mae: 0.31904 |  0:00:02s\n"
     ]
    },
    {
     "name": "stdout",
     "output_type": "stream",
     "text": [
      "epoch 18 | loss: 0.22056 | train_mse: 0.23372 | train_mae: 0.36921 |  0:00:02s\n",
      "epoch 19 | loss: 0.23901 | train_mse: 0.24038 | train_mae: 0.37098 |  0:00:03s\n",
      "epoch 20 | loss: 0.24222 | train_mse: 0.19696 | train_mae: 0.31968 |  0:00:03s\n"
     ]
    },
    {
     "name": "stdout",
     "output_type": "stream",
     "text": [
      "epoch 21 | loss: 0.17868 | train_mse: 0.1616  | train_mae: 0.30725 |  0:00:03s\n",
      "epoch 22 | loss: 0.18893 | train_mse: 0.26542 | train_mae: 0.39309 |  0:00:03s\n",
      "epoch 23 | loss: 0.29806 | train_mse: 0.34949 | train_mae: 0.44712 |  0:00:03s\n"
     ]
    },
    {
     "name": "stdout",
     "output_type": "stream",
     "text": [
      "epoch 24 | loss: 0.21896 | train_mse: 0.23634 | train_mae: 0.37723 |  0:00:03s\n",
      "epoch 25 | loss: 0.19537 | train_mse: 0.26204 | train_mae: 0.40343 |  0:00:03s\n"
     ]
    },
    {
     "name": "stdout",
     "output_type": "stream",
     "text": [
      "epoch 26 | loss: 0.14276 | train_mse: 0.31347 | train_mae: 0.44376 |  0:00:03s\n",
      "epoch 27 | loss: 0.17091 | train_mse: 0.34446 | train_mae: 0.4594  |  0:00:03s\n",
      "epoch 28 | loss: 0.30307 | train_mse: 0.25304 | train_mae: 0.39012 |  0:00:03s\n"
     ]
    },
    {
     "name": "stdout",
     "output_type": "stream",
     "text": [
      "epoch 29 | loss: 0.18396 | train_mse: 0.17698 | train_mae: 0.32046 |  0:00:04s\n",
      "epoch 30 | loss: 0.19111 | train_mse: 0.17132 | train_mae: 0.3154  |  0:00:04s\n",
      "epoch 31 | loss: 0.22019 | train_mse: 0.17635 | train_mae: 0.31169 |  0:00:04s\n"
     ]
    },
    {
     "name": "stdout",
     "output_type": "stream",
     "text": [
      "epoch 32 | loss: 0.16152 | train_mse: 0.2692  | train_mae: 0.41566 |  0:00:04s\n",
      "epoch 33 | loss: 0.12126 | train_mse: 0.25682 | train_mae: 0.39935 |  0:00:04s\n",
      "epoch 34 | loss: 0.0943  | train_mse: 0.24851 | train_mae: 0.38076 |  0:00:04s\n"
     ]
    },
    {
     "name": "stdout",
     "output_type": "stream",
     "text": [
      "epoch 35 | loss: 0.15606 | train_mse: 0.18714 | train_mae: 0.32683 |  0:00:04s\n",
      "epoch 36 | loss: 0.225   | train_mse: 0.1408  | train_mae: 0.27714 |  0:00:04s\n"
     ]
    },
    {
     "name": "stdout",
     "output_type": "stream",
     "text": [
      "epoch 37 | loss: 0.19643 | train_mse: 0.12357 | train_mae: 0.25923 |  0:00:05s\n",
      "epoch 38 | loss: 0.16466 | train_mse: 0.10922 | train_mae: 0.25371 |  0:00:05s\n"
     ]
    },
    {
     "name": "stdout",
     "output_type": "stream",
     "text": [
      "epoch 39 | loss: 0.12462 | train_mse: 0.11438 | train_mae: 0.26776 |  0:00:05s\n",
      "epoch 40 | loss: 0.15623 | train_mse: 0.10689 | train_mae: 0.25716 |  0:00:05s\n",
      "epoch 41 | loss: 0.12953 | train_mse: 0.09493 | train_mae: 0.23578 |  0:00:05s\n"
     ]
    },
    {
     "name": "stdout",
     "output_type": "stream",
     "text": [
      "epoch 42 | loss: 0.14088 | train_mse: 0.10664 | train_mae: 0.24343 |  0:00:05s\n",
      "epoch 43 | loss: 0.11341 | train_mse: 0.09849 | train_mae: 0.24162 |  0:00:05s\n"
     ]
    },
    {
     "name": "stdout",
     "output_type": "stream",
     "text": [
      "epoch 44 | loss: 0.12639 | train_mse: 0.09689 | train_mae: 0.24632 |  0:00:05s\n",
      "epoch 45 | loss: 0.16139 | train_mse: 0.09284 | train_mae: 0.23957 |  0:00:06s\n"
     ]
    },
    {
     "name": "stdout",
     "output_type": "stream",
     "text": [
      "epoch 46 | loss: 0.08941 | train_mse: 0.08541 | train_mae: 0.22117 |  0:00:06s\n"
     ]
    },
    {
     "name": "stdout",
     "output_type": "stream",
     "text": [
      "epoch 47 | loss: 0.0951  | train_mse: 0.07497 | train_mae: 0.20301 |  0:00:06s\n",
      "epoch 48 | loss: 0.08854 | train_mse: 0.07021 | train_mae: 0.19313 |  0:00:06s\n"
     ]
    },
    {
     "name": "stdout",
     "output_type": "stream",
     "text": [
      "epoch 49 | loss: 0.14935 | train_mse: 0.07683 | train_mae: 0.20118 |  0:00:06s\n"
     ]
    },
    {
     "name": "stdout",
     "output_type": "stream",
     "text": [
      "epoch 50 | loss: 0.09978 | train_mse: 0.06723 | train_mae: 0.19086 |  0:00:06s\n",
      "epoch 51 | loss: 0.11538 | train_mse: 0.0696  | train_mae: 0.20825 |  0:00:07s\n"
     ]
    },
    {
     "name": "stdout",
     "output_type": "stream",
     "text": [
      "epoch 52 | loss: 0.1453  | train_mse: 0.09568 | train_mae: 0.24896 |  0:00:07s\n",
      "epoch 53 | loss: 0.11799 | train_mse: 0.09874 | train_mae: 0.24504 |  0:00:07s\n",
      "epoch 54 | loss: 0.28536 | train_mse: 0.0805  | train_mae: 0.22245 |  0:00:07s\n"
     ]
    },
    {
     "name": "stdout",
     "output_type": "stream",
     "text": [
      "epoch 55 | loss: 0.09837 | train_mse: 0.08081 | train_mae: 0.22028 |  0:00:07s\n",
      "epoch 56 | loss: 0.10252 | train_mse: 0.09055 | train_mae: 0.23347 |  0:00:07s\n",
      "epoch 57 | loss: 0.10138 | train_mse: 0.08244 | train_mae: 0.22507 |  0:00:07s\n"
     ]
    },
    {
     "name": "stdout",
     "output_type": "stream",
     "text": [
      "epoch 58 | loss: 0.13366 | train_mse: 0.10162 | train_mae: 0.24475 |  0:00:07s\n",
      "epoch 59 | loss: 0.26708 | train_mse: 0.08941 | train_mae: 0.22963 |  0:00:07s\n"
     ]
    },
    {
     "name": "stdout",
     "output_type": "stream",
     "text": [
      "epoch 60 | loss: 0.19015 | train_mse: 0.07621 | train_mae: 0.21797 |  0:00:07s\n",
      "epoch 61 | loss: 0.14993 | train_mse: 0.08581 | train_mae: 0.23186 |  0:00:07s\n",
      "epoch 62 | loss: 0.1184  | train_mse: 0.11847 | train_mae: 0.27084 |  0:00:08s\n"
     ]
    },
    {
     "name": "stdout",
     "output_type": "stream",
     "text": [
      "epoch 63 | loss: 0.15865 | train_mse: 0.12761 | train_mae: 0.26841 |  0:00:08s\n",
      "epoch 64 | loss: 0.13119 | train_mse: 0.13482 | train_mae: 0.26872 |  0:00:08s\n",
      "epoch 65 | loss: 0.09984 | train_mse: 0.1264  | train_mae: 0.25915 |  0:00:08s\n"
     ]
    },
    {
     "name": "stdout",
     "output_type": "stream",
     "text": [
      "epoch 66 | loss: 0.16551 | train_mse: 0.10105 | train_mae: 0.23606 |  0:00:08s\n"
     ]
    },
    {
     "name": "stdout",
     "output_type": "stream",
     "text": [
      "epoch 67 | loss: 0.17223 | train_mse: 0.07118 | train_mae: 0.19252 |  0:00:09s\n",
      "epoch 68 | loss: 0.14677 | train_mse: 0.08473 | train_mae: 0.22014 |  0:00:09s\n"
     ]
    },
    {
     "name": "stdout",
     "output_type": "stream",
     "text": [
      "epoch 69 | loss: 0.08234 | train_mse: 0.13133 | train_mae: 0.26894 |  0:00:09s\n",
      "epoch 70 | loss: 0.09232 | train_mse: 0.11436 | train_mae: 0.25407 |  0:00:09s\n"
     ]
    },
    {
     "name": "stdout",
     "output_type": "stream",
     "text": [
      "epoch 71 | loss: 0.1202  | train_mse: 0.07524 | train_mae: 0.20753 |  0:00:09s\n",
      "epoch 72 | loss: 0.08732 | train_mse: 0.06529 | train_mae: 0.19605 |  0:00:09s\n"
     ]
    },
    {
     "name": "stdout",
     "output_type": "stream",
     "text": [
      "epoch 73 | loss: 0.09354 | train_mse: 0.0605  | train_mae: 0.18951 |  0:00:09s\n",
      "epoch 74 | loss: 0.07977 | train_mse: 0.05681 | train_mae: 0.18606 |  0:00:10s\n",
      "epoch 75 | loss: 0.12697 | train_mse: 0.0536  | train_mae: 0.17801 |  0:00:10s\n"
     ]
    },
    {
     "name": "stdout",
     "output_type": "stream",
     "text": [
      "epoch 76 | loss: 0.11626 | train_mse: 0.05232 | train_mae: 0.17778 |  0:00:10s\n",
      "epoch 77 | loss: 0.11269 | train_mse: 0.07398 | train_mae: 0.2006  |  0:00:10s\n"
     ]
    },
    {
     "name": "stdout",
     "output_type": "stream",
     "text": [
      "epoch 78 | loss: 0.12883 | train_mse: 0.07817 | train_mae: 0.21618 |  0:00:10s\n",
      "epoch 79 | loss: 0.12226 | train_mse: 0.09011 | train_mae: 0.23183 |  0:00:10s\n"
     ]
    },
    {
     "name": "stdout",
     "output_type": "stream",
     "text": [
      "epoch 80 | loss: 0.16701 | train_mse: 0.10414 | train_mae: 0.2469  |  0:00:10s\n",
      "epoch 81 | loss: 0.12518 | train_mse: 0.0886  | train_mae: 0.23025 |  0:00:10s\n"
     ]
    },
    {
     "name": "stdout",
     "output_type": "stream",
     "text": [
      "epoch 82 | loss: 0.10569 | train_mse: 0.0867  | train_mae: 0.22298 |  0:00:11s\n",
      "epoch 83 | loss: 0.10832 | train_mse: 0.08115 | train_mae: 0.21762 |  0:00:11s\n",
      "epoch 84 | loss: 0.11155 | train_mse: 0.08504 | train_mae: 0.22381 |  0:00:11s\n"
     ]
    },
    {
     "name": "stdout",
     "output_type": "stream",
     "text": [
      "epoch 85 | loss: 0.08405 | train_mse: 0.07941 | train_mae: 0.21778 |  0:00:11s\n",
      "epoch 86 | loss: 0.11276 | train_mse: 0.07335 | train_mae: 0.21006 |  0:00:11s\n"
     ]
    },
    {
     "name": "stdout",
     "output_type": "stream",
     "text": [
      "epoch 87 | loss: 0.08908 | train_mse: 0.08941 | train_mae: 0.2294  |  0:00:11s\n"
     ]
    },
    {
     "name": "stdout",
     "output_type": "stream",
     "text": [
      "epoch 88 | loss: 0.14316 | train_mse: 0.08608 | train_mae: 0.22546 |  0:00:11s\n"
     ]
    },
    {
     "name": "stdout",
     "output_type": "stream",
     "text": [
      "epoch 89 | loss: 0.10959 | train_mse: 0.0825  | train_mae: 0.22159 |  0:00:12s\n",
      "epoch 90 | loss: 0.08085 | train_mse: 0.07534 | train_mae: 0.21815 |  0:00:12s\n"
     ]
    },
    {
     "name": "stdout",
     "output_type": "stream",
     "text": [
      "epoch 91 | loss: 0.14214 | train_mse: 0.06032 | train_mae: 0.20032 |  0:00:12s\n"
     ]
    },
    {
     "name": "stdout",
     "output_type": "stream",
     "text": [
      "epoch 92 | loss: 0.07702 | train_mse: 0.06129 | train_mae: 0.2004  |  0:00:12s\n",
      "epoch 93 | loss: 0.12785 | train_mse: 0.05794 | train_mae: 0.19251 |  0:00:12s\n"
     ]
    },
    {
     "name": "stdout",
     "output_type": "stream",
     "text": [
      "epoch 94 | loss: 0.10609 | train_mse: 0.06312 | train_mae: 0.20079 |  0:00:12s\n",
      "epoch 95 | loss: 0.12921 | train_mse: 0.06434 | train_mae: 0.20339 |  0:00:13s\n",
      "epoch 96 | loss: 0.10048 | train_mse: 0.06124 | train_mae: 0.20072 |  0:00:13s\n"
     ]
    },
    {
     "name": "stdout",
     "output_type": "stream",
     "text": [
      "epoch 97 | loss: 0.07475 | train_mse: 0.06892 | train_mae: 0.21589 |  0:00:13s\n",
      "epoch 98 | loss: 0.09321 | train_mse: 0.0771  | train_mae: 0.20715 |  0:00:13s\n",
      "epoch 99 | loss: 0.08581 | train_mse: 0.07677 | train_mae: 0.2174  |  0:00:13s\n"
     ]
    },
    {
     "name": "stdout",
     "output_type": "stream",
     "text": [
      "epoch 100| loss: 0.16354 | train_mse: 0.06788 | train_mae: 0.20992 |  0:00:13s\n",
      "epoch 101| loss: 0.09712 | train_mse: 0.07221 | train_mae: 0.2148  |  0:00:13s\n",
      "epoch 102| loss: 0.13391 | train_mse: 0.06541 | train_mae: 0.20593 |  0:00:13s\n"
     ]
    },
    {
     "name": "stdout",
     "output_type": "stream",
     "text": [
      "epoch 103| loss: 0.09936 | train_mse: 0.05804 | train_mae: 0.19189 |  0:00:13s\n",
      "epoch 104| loss: 0.11186 | train_mse: 0.05877 | train_mae: 0.19141 |  0:00:14s"
     ]
    },
    {
     "name": "stdout",
     "output_type": "stream",
     "text": [
      "\n",
      "epoch 105| loss: 0.0881  | train_mse: 0.06117 | train_mae: 0.19726 |  0:00:14s\n"
     ]
    },
    {
     "name": "stdout",
     "output_type": "stream",
     "text": [
      "epoch 106| loss: 0.09151 | train_mse: 0.07719 | train_mae: 0.22407 |  0:00:14s\n",
      "epoch 107| loss: 0.07104 | train_mse: 0.09993 | train_mae: 0.24439 |  0:00:14s\n",
      "epoch 108| loss: 0.11429 | train_mse: 0.09401 | train_mae: 0.23462 |  0:00:14s\n"
     ]
    },
    {
     "name": "stdout",
     "output_type": "stream",
     "text": [
      "epoch 109| loss: 0.13467 | train_mse: 0.08533 | train_mae: 0.22359 |  0:00:14s\n"
     ]
    },
    {
     "name": "stdout",
     "output_type": "stream",
     "text": [
      "epoch 110| loss: 0.09965 | train_mse: 0.09767 | train_mae: 0.23419 |  0:00:14s\n",
      "epoch 111| loss: 0.15297 | train_mse: 0.11727 | train_mae: 0.25324 |  0:00:15s\n"
     ]
    },
    {
     "name": "stdout",
     "output_type": "stream",
     "text": [
      "epoch 112| loss: 0.09617 | train_mse: 0.09972 | train_mae: 0.23179 |  0:00:15s\n",
      "epoch 113| loss: 0.12915 | train_mse: 0.1007  | train_mae: 0.22937 |  0:00:15s\n",
      "epoch 114| loss: 0.09484 | train_mse: 0.10774 | train_mae: 0.23855 |  0:00:15s\n"
     ]
    },
    {
     "name": "stdout",
     "output_type": "stream",
     "text": [
      "epoch 115| loss: 0.11471 | train_mse: 0.12408 | train_mae: 0.2604  |  0:00:15s\n",
      "epoch 116| loss: 0.0721  | train_mse: 0.15765 | train_mae: 0.28629 |  0:00:15s\n"
     ]
    },
    {
     "name": "stdout",
     "output_type": "stream",
     "text": [
      "epoch 117| loss: 0.098   | train_mse: 0.14289 | train_mae: 0.27148 |  0:00:15s\n",
      "epoch 118| loss: 0.08086 | train_mse: 0.12757 | train_mae: 0.26477 |  0:00:15s\n"
     ]
    },
    {
     "name": "stdout",
     "output_type": "stream",
     "text": [
      "epoch 119| loss: 0.06987 | train_mse: 0.11472 | train_mae: 0.25391 |  0:00:16s\n",
      "epoch 120| loss: 0.08757 | train_mse: 0.08466 | train_mae: 0.21619 |  0:00:16s\n"
     ]
    },
    {
     "name": "stdout",
     "output_type": "stream",
     "text": [
      "epoch 121| loss: 0.1068  | train_mse: 0.07637 | train_mae: 0.20261 |  0:00:16s\n",
      "epoch 122| loss: 0.07582 | train_mse: 0.07195 | train_mae: 0.2109  |  0:00:16s\n"
     ]
    },
    {
     "name": "stdout",
     "output_type": "stream",
     "text": [
      "epoch 123| loss: 0.08156 | train_mse: 0.06492 | train_mae: 0.20469 |  0:00:16s\n",
      "epoch 124| loss: 0.07614 | train_mse: 0.06706 | train_mae: 0.21364 |  0:00:16s\n",
      "epoch 125| loss: 0.08631 | train_mse: 0.05976 | train_mae: 0.19543 |  0:00:16s\n"
     ]
    },
    {
     "name": "stdout",
     "output_type": "stream",
     "text": [
      "epoch 126| loss: 0.09958 | train_mse: 0.09478 | train_mae: 0.19898 |  0:00:16s\n",
      "\n",
      "Early stopping occurred at epoch 126 with best_epoch = 76 and best_train_mae = 0.17778\n",
      "Best weights from best epoch are automatically used!\n"
     ]
    }
   ],
   "source": [
    "#Train the Model\n",
    "\n",
    "Y_train = np.reshape(Y_train, (-1, 1))\n",
    "Y_test = np.reshape(Y_test, (-1, 1))\n",
    "\n",
    "prior_model = TabNetRegressor(optimizer_fn=torch.optim.Adam, optimizer_params=dict(lr = 0.02),\n",
    "          #scheduler_params={\"step_size\":10, ], \"gamma\":0.9},\n",
    "          #scheduler_fn=torch.optim.lr_scheduler.StepLR\n",
    "          )  #TabNetRegressor()\n",
    "\n",
    "prior_model.fit(X_train,Y_train,eval_set=[(X_train, Y_train)],\n",
    "            eval_name=['train'], \n",
    "            eval_metric=[ 'mse', 'mae'], \n",
    "            max_epochs = n_epochs, \n",
    "            batch_size = batch_size,\n",
    "            patience=50\n",
    "            )"
   ]
  },
  {
   "cell_type": "code",
   "execution_count": 10,
   "id": "af65dcda",
   "metadata": {
    "execution": {
     "iopub.execute_input": "2022-06-22T16:04:07.481454Z",
     "iopub.status.busy": "2022-06-22T16:04:07.480516Z",
     "iopub.status.idle": "2022-06-22T16:04:07.510975Z",
     "shell.execute_reply": "2022-06-22T16:04:07.512112Z"
    },
    "id": "af65dcda",
    "papermill": {
     "duration": 0.11231,
     "end_time": "2022-06-22T16:04:07.512356",
     "exception": false,
     "start_time": "2022-06-22T16:04:07.400046",
     "status": "completed"
    },
    "tags": []
   },
   "outputs": [
    {
     "data": {
      "application/scrapbook.scrap.json+json": {
       "data": 0.11682629496306918,
       "encoder": "json",
       "name": "Prior Model MSE",
       "version": 1
      }
     },
     "metadata": {
      "scrapbook": {
       "data": true,
       "display": false,
       "name": "Prior Model MSE"
      }
     },
     "output_type": "display_data"
    },
    {
     "data": {
      "application/scrapbook.scrap.json+json": {
       "data": 0.6935124193482257,
       "encoder": "json",
       "name": "ABC Pre-generator MSE",
       "version": 1
      }
     },
     "metadata": {
      "scrapbook": {
       "data": true,
       "display": false,
       "name": "ABC Pre-generator MSE"
      }
     },
     "output_type": "display_data"
    },
    {
     "data": {
      "application/scrapbook.scrap.json+json": {
       "data": 0.3091596901494568,
       "encoder": "json",
       "name": "Prior Model MSE",
       "version": 1
      }
     },
     "metadata": {
      "scrapbook": {
       "data": true,
       "display": false,
       "name": "Prior Model MSE"
      }
     },
     "output_type": "display_data"
    },
    {
     "data": {
      "application/scrapbook.scrap.json+json": {
       "data": 0.6662055564048003,
       "encoder": "json",
       "name": "ABC Pre-generator MSE",
       "version": 1
      }
     },
     "metadata": {
      "scrapbook": {
       "data": true,
       "display": false,
       "name": "ABC Pre-generator MSE"
      }
     },
     "output_type": "display_data"
    }
   ],
   "source": [
    "y_pred = prior_model.predict(X_test)\n",
    "y_abc = y_pred + np.random.normal(0,variance, y_pred.shape) + bias \n",
    "mse = mean_squared_error(y_pred,Y_test)\n",
    "sb.glue(\"Prior Model MSE\",mse)\n",
    "mse = mean_squared_error(y_abc,Y_test)\n",
    "sb.glue(\"ABC Pre-generator MSE\",mse)\n",
    "mae = mean_absolute_error(y_pred,Y_test)\n",
    "sb.glue(\"Prior Model MSE\",mae)\n",
    "mae = mean_absolute_error(y_abc,Y_test)\n",
    "sb.glue(\"ABC Pre-generator MSE\",mae)"
   ]
  },
  {
   "cell_type": "markdown",
   "id": "25609da2",
   "metadata": {
    "papermill": {
     "duration": 0.039335,
     "end_time": "2022-06-22T16:04:07.597254",
     "exception": false,
     "start_time": "2022-06-22T16:04:07.557919",
     "status": "completed"
    },
    "tags": []
   },
   "source": [
    "# ABC GAN Model"
   ]
  },
  {
   "cell_type": "code",
   "execution_count": 11,
   "id": "dfc3464d",
   "metadata": {
    "execution": {
     "iopub.execute_input": "2022-06-22T16:04:07.687099Z",
     "iopub.status.busy": "2022-06-22T16:04:07.686297Z",
     "iopub.status.idle": "2022-06-22T16:04:07.690036Z",
     "shell.execute_reply": "2022-06-22T16:04:07.690601Z"
    },
    "papermill": {
     "duration": 0.05624,
     "end_time": "2022-06-22T16:04:07.690992",
     "exception": false,
     "start_time": "2022-06-22T16:04:07.634752",
     "status": "completed"
    },
    "tags": []
   },
   "outputs": [],
   "source": [
    "gen = network.Generator(n_features+1).to(device)\n",
    "disc = network.Discriminator(n_features+1).to(device)\n",
    "\n",
    "criterion = torch.nn.BCELoss()\n",
    "gen_opt = torch.optim.Adam(gen.parameters(), lr=0.001, betas=(0.5, 0.999))\n",
    "disc_opt = torch.optim.Adam(disc.parameters(), lr=0.001, betas=(0.5, 0.999))"
   ]
  },
  {
   "cell_type": "code",
   "execution_count": 12,
   "id": "b75fdd85",
   "metadata": {
    "execution": {
     "iopub.execute_input": "2022-06-22T16:04:07.811708Z",
     "iopub.status.busy": "2022-06-22T16:04:07.807789Z",
     "iopub.status.idle": "2022-06-22T16:05:22.764312Z",
     "shell.execute_reply": "2022-06-22T16:05:22.764961Z"
    },
    "papermill": {
     "duration": 75.025913,
     "end_time": "2022-06-22T16:05:22.765193",
     "exception": false,
     "start_time": "2022-06-22T16:04:07.739280",
     "status": "completed"
    },
    "tags": []
   },
   "outputs": [
    {
     "data": {
      "image/png": "[encoded data removed]",
      "text/plain": [
       "<Figure size 432x288 with 1 Axes>"
      ]
     },
     "metadata": {
      "needs_background": "light"
     },
     "output_type": "display_data"
    },
    {
     "data": {
      "image/png": "[encoded data removed]",
      "text/plain": [
       "<Figure size 432x288 with 1 Axes>"
      ]
     },
     "metadata": {
      "needs_background": "light"
     },
     "output_type": "display_data"
    }
   ],
   "source": [
    "#Training the ABC_GAN \n",
    "ABC_train_test2.training_GAN(disc,gen,disc_opt,gen_opt,train_data,batch_size,n_epochs,criterion,prior_model,variance,bias,device)"
   ]
  },
  {
   "cell_type": "code",
   "execution_count": 13,
   "id": "1fa7c368",
   "metadata": {
    "execution": {
     "iopub.execute_input": "2022-06-22T16:05:22.854225Z",
     "iopub.status.busy": "2022-06-22T16:05:22.852134Z",
     "iopub.status.idle": "2022-06-22T16:05:23.888962Z",
     "shell.execute_reply": "2022-06-22T16:05:23.899121Z"
    },
    "papermill": {
     "duration": 1.099806,
     "end_time": "2022-06-22T16:05:23.899681",
     "exception": false,
     "start_time": "2022-06-22T16:05:22.799875",
     "status": "completed"
    },
    "tags": []
   },
   "outputs": [
    {
     "data": {
      "application/scrapbook.scrap.json+json": {
       "data": 0.13182718402222443,
       "encoder": "json",
       "name": "ABC-GAN Model 1 MSE",
       "version": 1
      }
     },
     "metadata": {
      "scrapbook": {
       "data": true,
       "display": false,
       "name": "ABC-GAN Model 1 MSE"
      }
     },
     "output_type": "display_data"
    },
    {
     "data": {
      "application/scrapbook.scrap.json+json": {
       "data": 0.3050681308321655,
       "encoder": "json",
       "name": "ABC-GAN Model 1 MAE",
       "version": 1
      }
     },
     "metadata": {
      "scrapbook": {
       "data": true,
       "display": false,
       "name": "ABC-GAN Model 1 MAE"
      }
     },
     "output_type": "display_data"
    },
    {
     "data": {
      "application/scrapbook.scrap.json+json": {
       "data": 6.10136261664331,
       "encoder": "json",
       "name": "ABC-GAN Model 1 Manhattan Distance",
       "version": 1
      }
     },
     "metadata": {
      "scrapbook": {
       "data": true,
       "display": false,
       "name": "ABC-GAN Model 1 Manhattan Distance"
      }
     },
     "output_type": "display_data"
    },
    {
     "data": {
      "application/scrapbook.scrap.json+json": {
       "data": 1.6217673266549812,
       "encoder": "json",
       "name": "ABC-GAN Model 1 Euclidean distance",
       "version": 1
      }
     },
     "metadata": {
      "scrapbook": {
       "data": true,
       "display": false,
       "name": "ABC-GAN Model 1 Euclidean distance"
      }
     },
     "output_type": "display_data"
    },
    {
     "data": {
      "application/scrapbook.scrap.json+json": {
       "data": [
        [
         0.13777920806532742,
         0.12990365130821574,
         0.1337210020842655,
         0.14310530524784232,
         0.13321622939661548,
         0.12833507877912925,
         0.1270956528617626,
         0.18370443650440468,
         0.12303218950415333,
         0.18446567364856037,
         0.14649601524237307,
         0.1211737578751785,
         0.12184386672481781,
         0.12841210093363026,
         0.13425454707383663,
         0.18531969077151028,
         0.11936686681147583,
         0.1227974732056647,
         0.13409041641015387,
         0.12785255083415253,
         0.1236905214631832,
         0.12126222514751046,
         0.13074295569329142,
         0.12678686216040752,
         0.1285724832670883,
         0.1343498361030923,
         0.12764490994040306,
         0.13469116323882163,
         0.12528101811266895,
         0.12817580052093724,
         0.11506771736242798,
         0.1286524005779195,
         0.13374438229541588,
         0.1345501642609028,
         0.12582024234606373,
         0.12719796103627765,
         0.12449183837342219,
         0.12783295733126074,
         0.13113684343804793,
         0.1310870954458589,
         0.13696354811743597,
         0.1318654533199643,
         0.12730348029101013,
         0.12185189439468794,
         0.12398203074168057,
         0.18275086244060257,
         0.12426793674092391,
         0.1358542306114942,
         0.12261955800737492,
         0.1276592641128139,
         0.1253814899590938,
         0.1279780836694972,
         0.13772716944950822,
         0.12643631559552357,
         0.12788172340540116,
         0.12847564202030665,
         0.12276259160377996,
         0.12273966162459111,
         0.12646015243895276,
         0.1264519886234285,
         0.13107007255809547,
         0.13549212696640875,
         0.12036500612777774,
         0.129631970096494,
         0.11871576258436659,
         0.12446086643297272,
         0.13155150785513867,
         0.1593315843795871,
         0.14709434762905785,
         0.1317132653938432,
         0.13369872196379723,
         0.11776939745111599,
         0.11818025308909139,
         0.11389128477523758,
         0.13081452934497886,
         0.12927075807242436,
         0.1275276388392673,
         0.13036398953918063,
         0.12800652673803525,
         0.13291984625705724,
         0.12825767754244013,
         0.13247907680436022,
         0.13209872337291229,
         0.13137760037630297,
         0.1768712768263972,
         0.12455558409352627,
         0.13328097202457706,
         0.125670809724165,
         0.12863472945528473,
         0.1299316261266352,
         0.1632400086101221,
         0.12563272632160302,
         0.12921200012945114,
         0.13295558608569388,
         0.12024864406066146,
         0.12175639102197018,
         0.1349990945289487,
         0.12418912025582676,
         0.129380462972289,
         0.1319186672292052
        ],
        [
         0.319068787060678,
         0.3003420433029532,
         0.30813814606517553,
         0.32046637367457154,
         0.3007609760388732,
         0.3061972318217158,
         0.3009412283077836,
         0.34597898181527853,
         0.2875569438561797,
         0.3566539419814944,
         0.3218156112357974,
         0.28049659077078104,
         0.2891347737982869,
         0.2997286865487695,
         0.3182489825412631,
         0.3508493760600686,
         0.2855251794680953,
         0.28943009916692974,
         0.31743458230048416,
         0.30225319508463144,
         0.2905523957684636,
         0.2974107997491956,
         0.3090898821130395,
         0.3034787906333804,
         0.29225274082273245,
         0.31134725715965034,
         0.29944553393870593,
         0.32510112281888726,
         0.3016361905261874,
         0.30517692137509583,
         0.2875974403694272,
         0.30331342313438653,
         0.32666387762874366,
         0.3060335977002978,
         0.2926053946837783,
         0.29544678311795,
         0.28692327719181776,
         0.2962984861806035,
         0.3152705436572433,
         0.29755098801106217,
         0.3127996871247888,
         0.30628503803163765,
         0.30455892290920017,
         0.27973963413387537,
         0.2978025397285819,
         0.34551110956817865,
         0.29478275794535874,
         0.3213698538020253,
         0.2927877647802234,
         0.29343667831271886,
         0.29624533262103797,
         0.2966926382854581,
         0.31512365881353616,
         0.3008605854585767,
         0.2960556479170918,
         0.31362415868788956,
         0.2865216387435794,
         0.29722214099019767,
         0.29593194369226694,
         0.2984263921156526,
         0.3123952025547624,
         0.31937633771449325,
         0.28696164283901454,
         0.31080325935035946,
         0.2700353654101491,
         0.3040098274126649,
         0.3105171138420701,
         0.33092943895608185,
         0.33590766284614804,
         0.31352826934307815,
         0.3071666041389108,
         0.2808334732428193,
         0.2785895911976695,
         0.29891229290515187,
         0.3096326107159257,
         0.31009861957281826,
         0.30713051948696374,
         0.30128117073327304,
         0.3019760625436902,
         0.31625660937279465,
         0.3049060178920627,
         0.3110602116212249,
         0.3144756382331252,
         0.300621603243053,
         0.33919864129275085,
         0.30582291539758444,
         0.31744062099605797,
         0.2986620718613267,
         0.3055724544450641,
         0.2996384361758828,
         0.3330288155004382,
         0.30416982527822256,
         0.3006303017958999,
         0.2988615917041898,
         0.28934310022741555,
         0.2835307499393821,
         0.3047722836956382,
         0.288213069178164,
         0.31116861533373597,
         0.29935914408415554
        ],
        [
         6.38137574121356,
         6.006840866059065,
         6.162762921303511,
         6.40932747349143,
         6.015219520777464,
         6.123944636434317,
         6.018824566155672,
         6.919579636305571,
         5.751138877123594,
         7.1330788396298885,
         6.436312224715948,
         5.609931815415621,
         5.782695475965738,
         5.9945737309753895,
         6.364979650825262,
         7.016987521201372,
         5.710503589361906,
         5.788601983338594,
         6.348691646009684,
         6.045063901692629,
         5.811047915369272,
         5.9482159949839115,
         6.18179764226079,
         6.069575812667608,
         5.845054816454649,
         6.2269451431930065,
         5.988910678774118,
         6.502022456377745,
         6.032723810523748,
         6.103538427501917,
         5.751948807388544,
         6.066268462687731,
         6.533277552574873,
         6.120671954005957,
         5.852107893675566,
         5.908935662358999,
         5.738465543836355,
         5.92596972361207,
         6.305410873144865,
         5.951019760221243,
         6.255993742495775,
         6.125700760632753,
         6.091178458184004,
         5.594792682677507,
         5.956050794571638,
         6.910222191363573,
         5.895655158907175,
         6.427397076040506,
         5.855755295604467,
         5.868733566254377,
         5.924906652420759,
         5.933852765709162,
         6.302473176270723,
         6.017211709171534,
         5.921112958341837,
         6.2724831737577915,
         5.730432774871588,
         5.944442819803953,
         5.918638873845339,
         5.968527842313051,
         6.247904051095247,
         6.3875267542898655,
         5.739232856780291,
         6.216065187007189,
         5.400707308202982,
         6.080196548253298,
         6.210342276841402,
         6.618588779121637,
         6.71815325692296,
         6.270565386861563,
         6.143332082778215,
         5.616669464856386,
         5.57179182395339,
         5.978245858103037,
         6.192652214318514,
         6.201972391456366,
         6.142610389739275,
         6.025623414665461,
         6.039521250873804,
         6.325132187455893,
         6.098120357841253,
         6.221204232424498,
         6.289512764662504,
         6.012432064861059,
         6.783972825855017,
         6.116458307951689,
         6.34881241992116,
         5.973241437226534,
         6.111449088901281,
         5.992768723517656,
         6.660576310008764,
         6.083396505564451,
         6.012606035917997,
         5.9772318340837955,
         5.786862004548311,
         5.6706149987876415,
         6.095445673912764,
         5.76426138356328,
         6.223372306674719,
         5.987182881683111
        ],
        [
         1.659995229302346,
         1.6118539096842228,
         1.6353654153385138,
         1.691776020919095,
         1.632275892100447,
         1.602092873582111,
         1.5943378115177638,
         1.9167912588719966,
         1.568643933492578,
         1.9207585670695855,
         1.7117009975014508,
         1.5567514758315053,
         1.56105007430779,
         1.6025735610799916,
         1.6386247103826834,
         1.9251996819629402,
         1.5451010763796382,
         1.5671469184838076,
         1.637622767368321,
         1.5990781771642846,
         1.572835156417755,
         1.55731965342707,
         1.6170526008345643,
         1.5923998377317645,
         1.6035740286440678,
         1.6392061255564678,
         1.5977791458171122,
         1.6412870756745856,
         1.5829151468898701,
         1.6010983762463646,
         1.517021538162382,
         1.6040723211745753,
         1.635508375370887,
         1.640427775069069,
         1.5863180156958676,
         1.5949793794044966,
         1.5779216607513962,
         1.5989556424820595,
         1.6194866065395412,
         1.6191793936797672,
         1.6550743071985377,
         1.6239793922335612,
         1.5956408135354907,
         1.5611014982677323,
         1.5746874657637977,
         1.911809940556867,
         1.5765020567124162,
         1.6483581565393741,
         1.5660112260604961,
         1.5978689815677247,
         1.5835497463552815,
         1.5998630170705068,
         1.6596817131577262,
         1.590196941234158,
         1.5992606004363463,
         1.6029700060843723,
         1.5669243223830562,
         1.5667779780466096,
         1.5903468328572403,
         1.590295498474598,
         1.6190742574576094,
         1.646159937347576,
         1.5515476539750737,
         1.6101675074133994,
         1.540881323037998,
         1.5777253654104237,
         1.6220450539682223,
         1.7851139144580501,
         1.715192978233399,
         1.6230419920251182,
         1.6352291702620598,
         1.5347273207388732,
         1.5374020494918783,
         1.5092467311558941,
         1.6174951582306443,
         1.6079226229668167,
         1.5970450140134893,
         1.6147073390505204,
         1.6000407915927346,
         1.6304591148327348,
         1.6016096749360635,
         1.6277535243663903,
         1.6254151677212336,
         1.620972549898998,
         1.8808044918406444,
         1.5783255943785888,
         1.6326724841472466,
         1.5853757265971056,
         1.6039621532647503,
         1.6120274571274225,
         1.8068758043104243,
         1.5851354915060292,
         1.6075571537550455,
         1.6306783011108836,
         1.5507974984546595,
         1.5604896092058427,
         1.6431621619849253,
         1.5760020320788088,
         1.608604755508879,
         1.624307035195041
        ]
       ],
       "encoder": "json",
       "name": "ABC_GAN_1 Metrics",
       "version": 1
      }
     },
     "metadata": {
      "scrapbook": {
       "data": true,
       "display": false,
       "name": "ABC_GAN_1 Metrics"
      }
     },
     "output_type": "display_data"
    },
    {
     "name": "stdout",
     "output_type": "stream",
     "text": [
      "MSE\n",
      "0.13182718402222443\n"
     ]
    }
   ],
   "source": [
    "ABC_GAN1_metrics=ABC_train_test2.test_generator(gen,test_data,prior_model,variance,bias,\"1\",device)\n",
    "sb.glue(\"ABC_GAN_1 Metrics\",ABC_GAN1_metrics)\n",
    "\n",
    "print(\"MSE\")\n",
    "print(mean(ABC_GAN1_metrics[0]))"
   ]
  },
  {
   "cell_type": "code",
   "execution_count": 14,
   "id": "eb22ce5c",
   "metadata": {
    "execution": {
     "iopub.execute_input": "2022-06-22T16:05:24.006373Z",
     "iopub.status.busy": "2022-06-22T16:05:24.005242Z",
     "iopub.status.idle": "2022-06-22T16:05:25.224169Z",
     "shell.execute_reply": "2022-06-22T16:05:25.225640Z"
    },
    "papermill": {
     "duration": 1.28234,
     "end_time": "2022-06-22T16:05:25.226029",
     "exception": false,
     "start_time": "2022-06-22T16:05:23.943689",
     "status": "completed"
    },
    "tags": []
   },
   "outputs": [
    {
     "data": {
      "image/png": "[encoded data removed]",
      "text/plain": [
       "<Figure size 432x288 with 1 Axes>"
      ]
     },
     "metadata": {
      "needs_background": "light"
     },
     "output_type": "display_data"
    },
    {
     "data": {
      "image/png": "[encoded data removed]",
      "text/plain": [
       "<Figure size 432x288 with 1 Axes>"
      ]
     },
     "metadata": {
      "needs_background": "light"
     },
     "output_type": "display_data"
    },
    {
     "data": {
      "image/png": "[encoded data removed]",
      "text/plain": [
       "<Figure size 432x288 with 1 Axes>"
      ]
     },
     "metadata": {
      "needs_background": "light"
     },
     "output_type": "display_data"
    },
    {
     "data": {
      "image/png": "[encoded data removed]",
      "text/plain": [
       "<Figure size 432x288 with 1 Axes>"
      ]
     },
     "metadata": {
      "needs_background": "light"
     },
     "output_type": "display_data"
    }
   ],
   "source": [
    "sanityChecks.discProbVsError(train_data,disc,device)\n",
    "sanityChecks.discProbVsError(test_data,disc,device)"
   ]
  },
  {
   "cell_type": "markdown",
   "id": "130f3a4d",
   "metadata": {
    "id": "130f3a4d",
    "papermill": {
     "duration": 0.086523,
     "end_time": "2022-06-22T16:05:25.392439",
     "exception": false,
     "start_time": "2022-06-22T16:05:25.305916",
     "status": "completed"
    },
    "tags": []
   },
   "source": [
    "# ABC - GAN Model with skip connection"
   ]
  },
  {
   "cell_type": "code",
   "execution_count": 15,
   "id": "4e43dad1",
   "metadata": {
    "execution": {
     "iopub.execute_input": "2022-06-22T16:05:25.518576Z",
     "iopub.status.busy": "2022-06-22T16:05:25.516479Z",
     "iopub.status.idle": "2022-06-22T16:05:25.520643Z",
     "shell.execute_reply": "2022-06-22T16:05:25.521289Z"
    },
    "id": "4e43dad1",
    "papermill": {
     "duration": 0.073388,
     "end_time": "2022-06-22T16:05:25.521526",
     "exception": false,
     "start_time": "2022-06-22T16:05:25.448138",
     "status": "completed"
    },
    "tags": []
   },
   "outputs": [],
   "source": [
    "#Generator\n",
    "gen3 = network.GeneratorWithSkipConnection(n_features+1).to(device)\n",
    "constraints=network.weightConstraint()\n",
    "#Discriminator \n",
    "disc3 = network.Discriminator(n_features+1).to(device)\n",
    "\n",
    "criterion = torch.nn.BCELoss()\n",
    "gen_opt = torch.optim.Adam(gen3.parameters(), lr=0.001, betas=(0.5, 0.999))\n",
    "disc_opt = torch.optim.Adam(disc3.parameters(), lr=0.001, betas=(0.5, 0.999))\n"
   ]
  },
  {
   "cell_type": "code",
   "execution_count": 16,
   "id": "26acbc37",
   "metadata": {
    "execution": {
     "iopub.execute_input": "2022-06-22T16:05:25.634509Z",
     "iopub.status.busy": "2022-06-22T16:05:25.632653Z",
     "iopub.status.idle": "2022-06-22T16:07:20.235413Z",
     "shell.execute_reply": "2022-06-22T16:07:20.236752Z"
    },
    "id": "26acbc37",
    "papermill": {
     "duration": 114.669192,
     "end_time": "2022-06-22T16:07:20.237103",
     "exception": false,
     "start_time": "2022-06-22T16:05:25.567911",
     "status": "completed"
    },
    "tags": []
   },
   "outputs": [
    {
     "data": {
      "image/png": "[encoded data removed]",
      "text/plain": [
       "<Figure size 432x288 with 1 Axes>"
      ]
     },
     "metadata": {
      "needs_background": "light"
     },
     "output_type": "display_data"
    },
    {
     "data": {
      "image/png": "[encoded data removed]",
      "text/plain": [
       "<Figure size 432x288 with 1 Axes>"
      ]
     },
     "metadata": {
      "needs_background": "light"
     },
     "output_type": "display_data"
    }
   ],
   "source": [
    "ABC_train_test2.training_GAN_skip_connection(disc3,gen3,disc_opt,gen_opt,train_data,batch_size,n_epochs,criterion,prior_model,variance,bias,device)"
   ]
  },
  {
   "cell_type": "code",
   "execution_count": 17,
   "id": "c5e0717b",
   "metadata": {
    "execution": {
     "iopub.execute_input": "2022-06-22T16:07:20.432897Z",
     "iopub.status.busy": "2022-06-22T16:07:20.432062Z",
     "iopub.status.idle": "2022-06-22T16:07:21.984042Z",
     "shell.execute_reply": "2022-06-22T16:07:21.984622Z"
    },
    "id": "c5e0717b",
    "papermill": {
     "duration": 1.644227,
     "end_time": "2022-06-22T16:07:21.984857",
     "exception": false,
     "start_time": "2022-06-22T16:07:20.340630",
     "status": "completed"
    },
    "tags": []
   },
   "outputs": [
    {
     "data": {
      "application/scrapbook.scrap.json+json": {
       "data": 0.11315130348518387,
       "encoder": "json",
       "name": "ABC-GAN Model 3 MSE",
       "version": 1
      }
     },
     "metadata": {
      "scrapbook": {
       "data": true,
       "display": false,
       "name": "ABC-GAN Model 3 MSE"
      }
     },
     "output_type": "display_data"
    },
    {
     "data": {
      "application/scrapbook.scrap.json+json": {
       "data": 0.2837216236786917,
       "encoder": "json",
       "name": "ABC-GAN Model 3 MAE",
       "version": 1
      }
     },
     "metadata": {
      "scrapbook": {
       "data": true,
       "display": false,
       "name": "ABC-GAN Model 3 MAE"
      }
     },
     "output_type": "display_data"
    },
    {
     "data": {
      "application/scrapbook.scrap.json+json": {
       "data": 5.674432473573834,
       "encoder": "json",
       "name": "ABC-GAN Model 3 Manhattan Distance",
       "version": 1
      }
     },
     "metadata": {
      "scrapbook": {
       "data": true,
       "display": false,
       "name": "ABC-GAN Model 3 Manhattan Distance"
      }
     },
     "output_type": "display_data"
    },
    {
     "data": {
      "application/scrapbook.scrap.json+json": {
       "data": 1.503921412831159,
       "encoder": "json",
       "name": "ABC-GAN Model 3 Euclidean distance",
       "version": 1
      }
     },
     "metadata": {
      "scrapbook": {
       "data": true,
       "display": false,
       "name": "ABC-GAN Model 3 Euclidean distance"
      }
     },
     "output_type": "display_data"
    },
    {
     "data": {
      "application/scrapbook.scrap.json+json": {
       "data": [
        [
         0.1151116610416075,
         0.10929504255584606,
         0.11900115367215498,
         0.11670330789511178,
         0.11486407433716408,
         0.10766787665727554,
         0.11811437171514345,
         0.1104829113827667,
         0.11305941580673981,
         0.11159097331743195,
         0.11902494335549041,
         0.11400931555241875,
         0.1130444546253225,
         0.10950828273957225,
         0.11206215293230008,
         0.11299565915213283,
         0.11723012876964276,
         0.1038445340425398,
         0.11584094377492007,
         0.11488646018411215,
         0.11813768598804295,
         0.11846883580984928,
         0.10546390670284703,
         0.11186869870359309,
         0.10864582578748416,
         0.11460976433529302,
         0.11866332075244453,
         0.11765013378841824,
         0.11948370928096952,
         0.11889391295613776,
         0.12170103553950178,
         0.1121676832034398,
         0.1119597142101147,
         0.11058844093393909,
         0.10238852485755734,
         0.11348390448792434,
         0.10873245054084388,
         0.10297157927245301,
         0.11625839824957795,
         0.11479074061209538,
         0.10808488301205621,
         0.11731007780774313,
         0.11779618838938873,
         0.1011334710160289,
         0.1160939309370586,
         0.11266439702210525,
         0.1220258496744615,
         0.10348564370226454,
         0.1110938597691103,
         0.10151329531219785,
         0.11072508185318493,
         0.11144936682688764,
         0.11381507906676964,
         0.10500062627973131,
         0.11157554008296917,
         0.11407803490818433,
         0.11776322582869359,
         0.12209513956945214,
         0.1141112464496569,
         0.11155234072178537,
         0.10571368812239376,
         0.10720494283926732,
         0.11287636447643426,
         0.11256058398165063,
         0.1173931038369493,
         0.12065117268190843,
         0.11576755798489007,
         0.10913728259853701,
         0.116769691485423,
         0.10590489395573835,
         0.11555342069585187,
         0.1106327244720124,
         0.1087662815332878,
         0.10910517718599508,
         0.11247845457273167,
         0.11367037654334386,
         0.11299829868541988,
         0.11647148149018456,
         0.1206455330921922,
         0.11671200464241974,
         0.10885108333507185,
         0.12195030344614977,
         0.11476762585261277,
         0.12066489320435406,
         0.10547262156432793,
         0.12112836606061712,
         0.10437452062724498,
         0.12128680242625171,
         0.11000035019790136,
         0.12196137775617007,
         0.11140548141480688,
         0.10792197667987699,
         0.1075548412787289,
         0.11162861071182453,
         0.11196942144153983,
         0.1214615896492824,
         0.11814375634488879,
         0.11520922868870857,
         0.11755821054610993,
         0.10217304466333701
        ],
        [
         0.28889180440455675,
         0.27429156843572855,
         0.292419078014791,
         0.2910527577623725,
         0.2880444286391139,
         0.273819281347096,
         0.29677799586206677,
         0.278166770003736,
         0.2800285929813981,
         0.28270116206258533,
         0.29391164388507607,
         0.2856379995122552,
         0.2739580063149333,
         0.271712270192802,
         0.2806148765608668,
         0.28549086917191746,
         0.29377766298130153,
         0.2761621670797467,
         0.28548437673598526,
         0.2881574203260243,
         0.2960133882239461,
         0.2952870400622487,
         0.27774874996393917,
         0.2787673568353057,
         0.26773819159716367,
         0.2901774587109685,
         0.2943627698346972,
         0.28283721320331096,
         0.29243034441024063,
         0.29778745006769897,
         0.3018788227811456,
         0.2777862774208188,
         0.28320559579879045,
         0.28571966756135225,
         0.2787774484604597,
         0.28679907564073803,
         0.2767625132575631,
         0.269376259110868,
         0.2902318524196744,
         0.29129211474210026,
         0.2749558897688985,
         0.28958359081298113,
         0.28233135845512153,
         0.2588111789897084,
         0.2867724345996976,
         0.2841023216024041,
         0.3048746507614851,
         0.2711582759395242,
         0.27246596533805134,
         0.26175821069628,
         0.281477209366858,
         0.27526835110038517,
         0.28738608825951817,
         0.2694804010912776,
         0.28318984191864727,
         0.2784241049550474,
         0.3026673326268792,
         0.2910303195938468,
         0.28441721592098473,
         0.28171035591512916,
         0.2693491691723466,
         0.2747728994116187,
         0.28041723612695935,
         0.27793233264237643,
         0.29558210019022224,
         0.30097984094172714,
         0.2908398682251573,
         0.2865506591275334,
         0.28402050491422415,
         0.26063063833862543,
         0.29084040615707635,
         0.2756148690357804,
         0.2857139414176345,
         0.28205467108637094,
         0.2889014916494489,
         0.28270303588360546,
         0.2822399834170938,
         0.2942112678661942,
         0.2923563620075583,
         0.28627723176032305,
         0.287032469175756,
         0.3009837159886956,
         0.2871951637789607,
         0.2860853997990489,
         0.2732692174613476,
         0.2954105095937848,
         0.26681359484791756,
         0.29567637834697963,
         0.27483809236437085,
         0.2966902168467641,
         0.2844121715053916,
         0.279319448210299,
         0.2686405051499605,
         0.2740869889035821,
         0.27896618507802484,
         0.2960346410050988,
         0.2902283461764455,
         0.28670401629060505,
         0.2876561822369695,
         0.26218519564718007
        ],
        [
         5.777836088091135,
         5.485831368714571,
         5.84838156029582,
         5.82105515524745,
         5.760888572782278,
         5.476385626941919,
         5.935559917241335,
         5.56333540007472,
         5.600571859627962,
         5.654023241251707,
         5.878232877701521,
         5.712759990245104,
         5.479160126298666,
         5.434245403856039,
         5.612297531217337,
         5.709817383438349,
         5.875553259626031,
         5.5232433415949345,
         5.709687534719706,
         5.763148406520486,
         5.920267764478922,
         5.905740801244974,
         5.554974999278784,
         5.575347136706114,
         5.3547638319432735,
         5.80354917421937,
         5.887255396693945,
         5.656744264066219,
         5.848606888204813,
         5.955749001353979,
         6.0375764556229115,
         5.555725548416376,
         5.664111915975809,
         5.714393351227045,
         5.575548969209194,
         5.73598151281476,
         5.535250265151262,
         5.3875251822173595,
         5.804637048393488,
         5.825842294842005,
         5.49911779537797,
         5.791671816259623,
         5.64662716910243,
         5.1762235797941685,
         5.735448691993952,
         5.682046432048082,
         6.097493015229702,
         5.4231655187904835,
         5.449319306761026,
         5.2351642139256,
         5.62954418733716,
         5.505367022007704,
         5.747721765190363,
         5.389608021825552,
         5.663796838372946,
         5.568482099100947,
         6.053346652537584,
         5.820606391876936,
         5.688344318419695,
         5.634207118302584,
         5.386983383446932,
         5.495457988232374,
         5.6083447225391865,
         5.5586466528475285,
         5.911642003804445,
         6.019596818834543,
         5.816797364503145,
         5.731013182550669,
         5.680410098284483,
         5.212612766772509,
         5.816808123141527,
         5.512297380715609,
         5.71427882835269,
         5.641093421727419,
         5.778029832988977,
         5.65406071767211,
         5.644799668341875,
         5.884225357323885,
         5.847127240151167,
         5.725544635206461,
         5.7406493835151196,
         6.019674319773912,
         5.743903275579214,
         5.721707995980978,
         5.465384349226952,
         5.908210191875696,
         5.336271896958351,
         5.913527566939592,
         5.4967618472874165,
         5.933804336935282,
         5.688243430107832,
         5.58638896420598,
         5.37281010299921,
         5.481739778071642,
         5.579323701560497,
         5.920692820101976,
         5.80456692352891,
         5.734080325812101,
         5.753123644739389,
         5.243703912943602
        ],
        [
         1.5173111812783,
         1.478479235943786,
         1.542732340181893,
         1.5277650859678118,
         1.5156785565360755,
         1.4674322925251135,
         1.5369734657120366,
         1.4864919198082893,
         1.5037248139652402,
         1.4939275304875532,
         1.5428865373415532,
         1.5100285795468824,
         1.5036253165288387,
         1.4799208272037545,
         1.497078173859335,
         1.5033007626694854,
         1.5312095138787687,
         1.4411421445682573,
         1.5221100076861729,
         1.5158262445551742,
         1.537125147722481,
         1.5392779853544927,
         1.4523354068729923,
         1.495785403750104,
         1.4740815838174233,
         1.5139997644338854,
         1.5405409488387156,
         1.5339500238822532,
         1.545857103881012,
         1.5420370485571204,
         1.5601348373746533,
         1.4977829162027438,
         1.4963937597445045,
         1.4872016738421128,
         1.431003318357839,
         1.5065450838785033,
         1.4746691190965102,
         1.4350719791874762,
         1.5248501450934644,
         1.5151946450017264,
         1.4702712879741358,
         1.531731554860336,
         1.5349018756219481,
         1.4222058290980872,
         1.5237711831968643,
         1.5010955800488206,
         1.562215411999648,
         1.438649670366379,
         1.4905962549873142,
         1.424873996620037,
         1.4881201688921828,
         1.4929793489990923,
         1.5087417212151961,
         1.4491419963532304,
         1.4938242204688554,
         1.5104835974494017,
         1.534687107059244,
         1.562658885166255,
         1.5107034550146294,
         1.4936689105808245,
         1.454054250173588,
         1.464274174048476,
         1.502507001490737,
         1.5004038388490655,
         1.532273499326731,
         1.5533909532497505,
         1.5216277993312954,
         1.4774118085255512,
         1.5281995385774922,
         1.455368640281481,
         1.5202198570986492,
         1.4874994082150916,
         1.474898515378518,
         1.4771944840541145,
         1.4998563569404348,
         1.5077823221098188,
         1.5033183208184477,
         1.5262469098424707,
         1.553354647800638,
         1.5278220095444346,
         1.4754733703803118,
         1.5617317531903472,
         1.5150420842512116,
         1.553479277005999,
         1.4523954114794493,
         1.5564598681663278,
         1.444815009800528,
         1.5574774632478745,
         1.4832420584510226,
         1.5618026620298102,
         1.4926853748516924,
         1.4691628683020612,
         1.4666617965893085,
         1.4941794451258157,
         1.496458629174491,
         1.5585993048200837,
         1.5371646388392415,
         1.517954074988493,
         1.5333506483913582,
         1.4294967272668868
        ]
       ],
       "encoder": "json",
       "name": "ABC_GAN_3 Metrics",
       "version": 1
      }
     },
     "metadata": {
      "scrapbook": {
       "data": true,
       "display": false,
       "name": "ABC_GAN_3 Metrics"
      }
     },
     "output_type": "display_data"
    },
    {
     "name": "stdout",
     "output_type": "stream",
     "text": [
      "MSE\n",
      "0.11315130348518387\n"
     ]
    }
   ],
   "source": [
    "ABC_GAN3_metrics=ABC_train_test2.test_generator(gen3,test_data,prior_model,variance,bias,\"3\",device)\n",
    "sb.glue(\"ABC_GAN_3 Metrics\",ABC_GAN3_metrics)\n",
    "\n",
    "print(\"MSE\")\n",
    "print(mean(ABC_GAN3_metrics[0]))"
   ]
  },
  {
   "cell_type": "code",
   "execution_count": 18,
   "id": "c8e46b48",
   "metadata": {
    "execution": {
     "iopub.execute_input": "2022-06-22T16:07:22.319004Z",
     "iopub.status.busy": "2022-06-22T16:07:22.317609Z",
     "iopub.status.idle": "2022-06-22T16:07:23.647104Z",
     "shell.execute_reply": "2022-06-22T16:07:23.649146Z"
    },
    "id": "c8e46b48",
    "papermill": {
     "duration": 1.511148,
     "end_time": "2022-06-22T16:07:23.649423",
     "exception": false,
     "start_time": "2022-06-22T16:07:22.138275",
     "status": "completed"
    },
    "tags": []
   },
   "outputs": [
    {
     "data": {
      "image/png": "[encoded data removed]",
      "text/plain": [
       "<Figure size 432x288 with 1 Axes>"
      ]
     },
     "metadata": {
      "needs_background": "light"
     },
     "output_type": "display_data"
    },
    {
     "data": {
      "image/png": "[encoded data removed]",
      "text/plain": [
       "<Figure size 432x288 with 1 Axes>"
      ]
     },
     "metadata": {
      "needs_background": "light"
     },
     "output_type": "display_data"
    },
    {
     "data": {
      "image/png": "[encoded data removed]",
      "text/plain": [
       "<Figure size 432x288 with 1 Axes>"
      ]
     },
     "metadata": {
      "needs_background": "light"
     },
     "output_type": "display_data"
    },
    {
     "data": {
      "image/png": "[encoded data removed]",
      "text/plain": [
       "<Figure size 432x288 with 1 Axes>"
      ]
     },
     "metadata": {
      "needs_background": "light"
     },
     "output_type": "display_data"
    }
   ],
   "source": [
    "sanityChecks.discProbVsError(train_data,disc3,device)\n",
    "sanityChecks.discProbVsError(test_data,disc3,device)"
   ]
  },
  {
   "cell_type": "markdown",
   "id": "a5bd74c3",
   "metadata": {
    "id": "a5bd74c3",
    "papermill": {
     "duration": 0.104209,
     "end_time": "2022-06-22T16:07:23.873105",
     "exception": false,
     "start_time": "2022-06-22T16:07:23.768896",
     "status": "completed"
    },
    "tags": []
   },
   "source": [
    "## Skip Connection Model Analysis - ABC-GAN "
   ]
  },
  {
   "cell_type": "markdown",
   "id": "5744a8bf",
   "metadata": {
    "id": "5744a8bf",
    "papermill": {
     "duration": 0.181542,
     "end_time": "2022-06-22T16:07:24.130217",
     "exception": false,
     "start_time": "2022-06-22T16:07:23.948675",
     "status": "completed"
    },
    "tags": []
   },
   "source": [
    "### Weight Analysis \n",
    "\n",
    "Study the weights of the skip connection layer\n",
    "\n",
    "Equation of the skip connection is \n",
    "\n",
    "$output = y_{gan} * w + y_{abc} * (1-w)$"
   ]
  },
  {
   "cell_type": "code",
   "execution_count": 19,
   "id": "52c31dea",
   "metadata": {
    "execution": {
     "iopub.execute_input": "2022-06-22T16:07:24.359216Z",
     "iopub.status.busy": "2022-06-22T16:07:24.358135Z",
     "iopub.status.idle": "2022-06-22T16:07:24.363411Z",
     "shell.execute_reply": "2022-06-22T16:07:24.364386Z"
    },
    "id": "52c31dea",
    "papermill": {
     "duration": 0.091176,
     "end_time": "2022-06-22T16:07:24.364990",
     "exception": false,
     "start_time": "2022-06-22T16:07:24.273814",
     "status": "completed"
    },
    "tags": []
   },
   "outputs": [
    {
     "name": "stdout",
     "output_type": "stream",
     "text": [
      "Weight of the node at skip connection\n",
      "Parameter containing:\n",
      "tensor([[0.7706]], requires_grad=True)\n"
     ]
    },
    {
     "data": {
      "application/scrapbook.scrap.json+json": {
       "data": 0.7705972790718079,
       "encoder": "json",
       "name": "Skip Connection Weight",
       "version": 1
      }
     },
     "metadata": {
      "scrapbook": {
       "data": true,
       "display": false,
       "name": "Skip Connection Weight"
      }
     },
     "output_type": "display_data"
    }
   ],
   "source": [
    "print(\"Weight of the node at skip connection\")\n",
    "for name,param in gen3.named_parameters():\n",
    "    if(name == \"skipNode.weight\"):\n",
    "        print(param)\n",
    "        sb.glue(\"Skip Connection Weight\",param.item())"
   ]
  }
 ],
 "metadata": {
  "colab": {
   "collapsed_sections": [],
   "name": "ABC_GAN_Model-Catboost_Pre-gen.ipynb",
   "provenance": []
  },
  "interpreter": {
   "hash": "31f2aee4e71d21fbe5cf8b01ff0e069b9275f58929596ceb00d14d90e3e16cd6"
  },
  "kernelspec": {
   "display_name": "Python 3 (ipykernel)",
   "language": "python",
   "name": "python3"
  },
  "language_info": {
   "codemirror_mode": {
    "name": "ipython",
    "version": 3
   },
   "file_extension": ".py",
   "mimetype": "text/x-python",
   "name": "python",
   "nbconvert_exporter": "python",
   "pygments_lexer": "ipython3",
   "version": "3.8.3"
  },
  "papermill": {
   "default_parameters": {},
   "duration": 231.581864,
   "end_time": "2022-06-22T16:07:26.788370",
   "environment_variables": {},
   "exception": null,
   "input_path": "ABC_GAN-TabNet.ipynb",
   "output_path": "./ABC_GAN_TabNet/ABC-GAN_output_9_3.ipynb",
   "parameters": {
    "bias": 0.1,
    "variance": 1
   },
   "start_time": "2022-06-22T16:03:35.206506",
   "version": "2.3.3"
  }
 },
 "nbformat": 4,
 "nbformat_minor": 5
}