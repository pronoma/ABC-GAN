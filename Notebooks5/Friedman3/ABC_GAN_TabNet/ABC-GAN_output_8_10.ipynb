{
 "cells": [
  {
   "cell_type": "markdown",
   "id": "622780e6",
   "metadata": {
    "id": "622780e6",
    "papermill": {
     "duration": 0.044794,
     "end_time": "2022-06-22T15:42:32.002843",
     "exception": false,
     "start_time": "2022-06-22T15:42:31.958049",
     "status": "completed"
    },
    "tags": []
   },
   "source": [
    "## Import Libraries "
   ]
  },
  {
   "cell_type": "code",
   "execution_count": 1,
   "id": "a62397e3",
   "metadata": {
    "execution": {
     "iopub.execute_input": "2022-06-22T15:42:32.086684Z",
     "iopub.status.busy": "2022-06-22T15:42:32.085066Z",
     "iopub.status.idle": "2022-06-22T15:42:32.091325Z",
     "shell.execute_reply": "2022-06-22T15:42:32.088682Z"
    },
    "id": "a62397e3",
    "papermill": {
     "duration": 0.060818,
     "end_time": "2022-06-22T15:42:32.091600",
     "exception": false,
     "start_time": "2022-06-22T15:42:32.030782",
     "status": "completed"
    },
    "tags": []
   },
   "outputs": [],
   "source": [
    "import warnings\n",
    "import sys\n",
    "sys.path.insert(0, '../../src')\n",
    "warnings.filterwarnings('ignore')"
   ]
  },
  {
   "cell_type": "code",
   "execution_count": 2,
   "id": "d6a4e155",
   "metadata": {
    "execution": {
     "iopub.execute_input": "2022-06-22T15:42:32.189873Z",
     "iopub.status.busy": "2022-06-22T15:42:32.187931Z",
     "iopub.status.idle": "2022-06-22T15:42:41.793786Z",
     "shell.execute_reply": "2022-06-22T15:42:41.794794Z"
    },
    "id": "d6a4e155",
    "papermill": {
     "duration": 9.669431,
     "end_time": "2022-06-22T15:42:41.795137",
     "exception": false,
     "start_time": "2022-06-22T15:42:32.125706",
     "status": "completed"
    },
    "tags": []
   },
   "outputs": [],
   "source": [
    "import ABC_train_test2\n",
    "import friedman3Dataset\n",
    "import network\n",
    "import dataset\n",
    "import sanityChecks\n",
    "import torch \n",
    "import scrapbook as sb\n",
    "from statistics import mean \n",
    "import catboost as ctb \n",
    "from sklearn.model_selection import train_test_split\n",
    "from sklearn.metrics import mean_squared_error,mean_absolute_error\n",
    "import numpy as np\n",
    "from pytorch_tabnet.tab_model import TabNetRegressor"
   ]
  },
  {
   "cell_type": "markdown",
   "id": "2fa5b0f7",
   "metadata": {
    "id": "2fa5b0f7",
    "papermill": {
     "duration": 0.021535,
     "end_time": "2022-06-22T15:42:41.836323",
     "exception": false,
     "start_time": "2022-06-22T15:42:41.814788",
     "status": "completed"
    },
    "tags": []
   },
   "source": [
    "## Parameters "
   ]
  },
  {
   "cell_type": "code",
   "execution_count": 3,
   "id": "783186fb",
   "metadata": {
    "execution": {
     "iopub.execute_input": "2022-06-22T15:42:41.943765Z",
     "iopub.status.busy": "2022-06-22T15:42:41.942181Z",
     "iopub.status.idle": "2022-06-22T15:42:41.947070Z",
     "shell.execute_reply": "2022-06-22T15:42:41.950960Z"
    },
    "id": "783186fb",
    "papermill": {
     "duration": 0.089908,
     "end_time": "2022-06-22T15:42:41.951603",
     "exception": false,
     "start_time": "2022-06-22T15:42:41.861695",
     "status": "completed"
    },
    "tags": [
     "parameters"
    ]
   },
   "outputs": [],
   "source": [
    "variance = 1\n",
    "bias = 1 "
   ]
  },
  {
   "cell_type": "code",
   "execution_count": 4,
   "id": "e6a14540",
   "metadata": {
    "execution": {
     "iopub.execute_input": "2022-06-22T15:42:42.022097Z",
     "iopub.status.busy": "2022-06-22T15:42:42.019657Z",
     "iopub.status.idle": "2022-06-22T15:42:42.023876Z",
     "shell.execute_reply": "2022-06-22T15:42:42.024685Z"
    },
    "papermill": {
     "duration": 0.048024,
     "end_time": "2022-06-22T15:42:42.025007",
     "exception": false,
     "start_time": "2022-06-22T15:42:41.976983",
     "status": "completed"
    },
    "tags": [
     "injected-parameters"
    ]
   },
   "outputs": [],
   "source": [
    "# Parameters\n",
    "variance = 0.1\n",
    "bias = 0\n"
   ]
  },
  {
   "cell_type": "markdown",
   "id": "391cdbfd",
   "metadata": {
    "id": "391cdbfd",
    "papermill": {
     "duration": 0.041052,
     "end_time": "2022-06-22T15:42:42.091835",
     "exception": false,
     "start_time": "2022-06-22T15:42:42.050783",
     "status": "completed"
    },
    "tags": []
   },
   "source": [
    "## Dataset \n"
   ]
  },
  {
   "cell_type": "code",
   "execution_count": 5,
   "id": "5b51f161",
   "metadata": {
    "execution": {
     "iopub.execute_input": "2022-06-22T15:42:42.145089Z",
     "iopub.status.busy": "2022-06-22T15:42:42.144005Z",
     "iopub.status.idle": "2022-06-22T15:42:42.146388Z",
     "shell.execute_reply": "2022-06-22T15:42:42.146979Z"
    },
    "id": "5b51f161",
    "papermill": {
     "duration": 0.030601,
     "end_time": "2022-06-22T15:42:42.149250",
     "exception": false,
     "start_time": "2022-06-22T15:42:42.118649",
     "status": "completed"
    },
    "tags": []
   },
   "outputs": [],
   "source": [
    "#Parameters \n",
    "n_features = 4\n",
    "n_samples= 100\n",
    "n_target = 1"
   ]
  },
  {
   "cell_type": "code",
   "execution_count": 6,
   "id": "5d6eced4",
   "metadata": {
    "execution": {
     "iopub.execute_input": "2022-06-22T15:42:42.194416Z",
     "iopub.status.busy": "2022-06-22T15:42:42.193246Z",
     "iopub.status.idle": "2022-06-22T15:42:42.210261Z",
     "shell.execute_reply": "2022-06-22T15:42:42.211027Z"
    },
    "id": "5d6eced4",
    "papermill": {
     "duration": 0.042703,
     "end_time": "2022-06-22T15:42:42.211288",
     "exception": false,
     "start_time": "2022-06-22T15:42:42.168585",
     "status": "completed"
    },
    "tags": []
   },
   "outputs": [
    {
     "name": "stdout",
     "output_type": "stream",
     "text": [
      "          X1           X2        X3        X4         Y\n",
      "0  85.312032   370.741040  0.433808  9.694400  1.232548\n",
      "1   4.482324   533.422959  0.002815  2.803515  0.321881\n",
      "2  60.714383  1327.919068  0.790231  5.757376  1.645945\n",
      "3   0.012364  1611.074745  0.161884  1.635966  1.587618\n",
      "4  69.516295   224.989983  0.984064  4.967835  1.363144\n"
     ]
    }
   ],
   "source": [
    "X,Y = friedman3Dataset.friedman3_data(n_samples)"
   ]
  },
  {
   "cell_type": "code",
   "execution_count": 7,
   "id": "fe007438",
   "metadata": {
    "execution": {
     "iopub.execute_input": "2022-06-22T15:42:42.305226Z",
     "iopub.status.busy": "2022-06-22T15:42:42.302510Z",
     "iopub.status.idle": "2022-06-22T15:42:42.306222Z",
     "shell.execute_reply": "2022-06-22T15:42:42.307821Z"
    },
    "id": "fe007438",
    "papermill": {
     "duration": 0.077657,
     "end_time": "2022-06-22T15:42:42.308576",
     "exception": false,
     "start_time": "2022-06-22T15:42:42.230919",
     "status": "completed"
    },
    "tags": []
   },
   "outputs": [],
   "source": [
    "#Train test split for dataset \n",
    "X_train,X_test,Y_train,Y_test = train_test_split(X,Y,test_size = 0.2)\n",
    "train_data = dataset.CustomDataset(X_train,Y_train)\n",
    "test_data = dataset.CustomDataset(X_test,Y_test)\n"
   ]
  },
  {
   "cell_type": "markdown",
   "id": "a9a1af34",
   "metadata": {
    "id": "a9a1af34",
    "papermill": {
     "duration": 0.026934,
     "end_time": "2022-06-22T15:42:42.365101",
     "exception": false,
     "start_time": "2022-06-22T15:42:42.338167",
     "status": "completed"
    },
    "tags": []
   },
   "source": [
    "## Training Parameters "
   ]
  },
  {
   "cell_type": "code",
   "execution_count": 8,
   "id": "952b7fc8",
   "metadata": {
    "execution": {
     "iopub.execute_input": "2022-06-22T15:42:42.426397Z",
     "iopub.status.busy": "2022-06-22T15:42:42.425368Z",
     "iopub.status.idle": "2022-06-22T15:42:42.428545Z",
     "shell.execute_reply": "2022-06-22T15:42:42.429177Z"
    },
    "id": "952b7fc8",
    "papermill": {
     "duration": 0.035652,
     "end_time": "2022-06-22T15:42:42.429442",
     "exception": false,
     "start_time": "2022-06-22T15:42:42.393790",
     "status": "completed"
    },
    "tags": []
   },
   "outputs": [],
   "source": [
    "batch_size = 32\n",
    "n_epochs = 1000\n",
    "#Select the device \n",
    "device = torch.device('cuda' if torch.cuda.is_available() else 'cpu')"
   ]
  },
  {
   "cell_type": "markdown",
   "id": "a95e1600",
   "metadata": {
    "id": "a95e1600",
    "papermill": {
     "duration": 0.046398,
     "end_time": "2022-06-22T15:42:42.500105",
     "exception": false,
     "start_time": "2022-06-22T15:42:42.453707",
     "status": "completed"
    },
    "tags": []
   },
   "source": [
    "# ABC Pre-generator Model \n",
    "\n",
    "1. The catboost model is used as a pre-generator model for the ABC-GAN. \n",
    "2. The model is first trained on the entire dataset \n",
    "3. It generats X,Y pairs and we add some Gaussian noise with mean 0 and variance 1 to it which is then feed as input to the generator.\n"
   ]
  },
  {
   "cell_type": "code",
   "execution_count": 9,
   "id": "ff8ce7bd",
   "metadata": {
    "execution": {
     "iopub.execute_input": "2022-06-22T15:42:42.571439Z",
     "iopub.status.busy": "2022-06-22T15:42:42.570387Z",
     "iopub.status.idle": "2022-06-22T15:43:00.912916Z",
     "shell.execute_reply": "2022-06-22T15:43:00.913718Z"
    },
    "id": "ff8ce7bd",
    "papermill": {
     "duration": 18.391225,
     "end_time": "2022-06-22T15:43:00.913947",
     "exception": false,
     "start_time": "2022-06-22T15:42:42.522722",
     "status": "completed"
    },
    "tags": []
   },
   "outputs": [
    {
     "name": "stdout",
     "output_type": "stream",
     "text": [
      "Device used : cpu\n"
     ]
    },
    {
     "name": "stdout",
     "output_type": "stream",
     "text": [
      "epoch 0  | loss: 0.74095 | train_mse: 4.12299 | train_mae: 1.54018 |  0:00:00s\n",
      "epoch 1  | loss: 0.64713 | train_mse: 5.09251 | train_mae: 1.632   |  0:00:00s\n"
     ]
    },
    {
     "name": "stdout",
     "output_type": "stream",
     "text": [
      "epoch 2  | loss: 0.5626  | train_mse: 6.04698 | train_mae: 1.80186 |  0:00:00s\n",
      "epoch 3  | loss: 0.534   | train_mse: 3.82046 | train_mae: 1.50314 |  0:00:00s\n"
     ]
    },
    {
     "name": "stdout",
     "output_type": "stream",
     "text": [
      "epoch 4  | loss: 0.37642 | train_mse: 1.31404 | train_mae: 0.86696 |  0:00:00s\n",
      "epoch 5  | loss: 0.24736 | train_mse: 1.225   | train_mae: 0.82214 |  0:00:00s\n",
      "epoch 6  | loss: 0.43451 | train_mse: 1.44991 | train_mae: 0.89676 |  0:00:00s\n"
     ]
    },
    {
     "name": "stdout",
     "output_type": "stream",
     "text": [
      "epoch 7  | loss: 0.25367 | train_mse: 1.18449 | train_mae: 0.78693 |  0:00:01s\n",
      "epoch 8  | loss: 0.23263 | train_mse: 1.08217 | train_mae: 0.76755 |  0:00:01s\n"
     ]
    },
    {
     "name": "stdout",
     "output_type": "stream",
     "text": [
      "epoch 9  | loss: 0.22562 | train_mse: 0.7204  | train_mae: 0.68239 |  0:00:01s\n",
      "epoch 10 | loss: 0.25749 | train_mse: 0.63229 | train_mae: 0.64388 |  0:00:01s\n"
     ]
    },
    {
     "name": "stdout",
     "output_type": "stream",
     "text": [
      "epoch 11 | loss: 0.17486 | train_mse: 0.52723 | train_mae: 0.59311 |  0:00:01s\n",
      "epoch 12 | loss: 0.28132 | train_mse: 0.36531 | train_mae: 0.48918 |  0:00:01s\n"
     ]
    },
    {
     "name": "stdout",
     "output_type": "stream",
     "text": [
      "epoch 13 | loss: 0.31804 | train_mse: 0.31274 | train_mae: 0.44068 |  0:00:01s\n",
      "epoch 14 | loss: 0.19829 | train_mse: 0.41874 | train_mae: 0.48397 |  0:00:01s\n"
     ]
    },
    {
     "name": "stdout",
     "output_type": "stream",
     "text": [
      "epoch 15 | loss: 0.13929 | train_mse: 0.51155 | train_mae: 0.48653 |  0:00:02s\n",
      "epoch 16 | loss: 0.20842 | train_mse: 0.67265 | train_mae: 0.57208 |  0:00:02s\n"
     ]
    },
    {
     "name": "stdout",
     "output_type": "stream",
     "text": [
      "epoch 17 | loss: 0.2597  | train_mse: 0.41005 | train_mae: 0.48007 |  0:00:02s\n",
      "epoch 18 | loss: 0.21239 | train_mse: 0.29703 | train_mae: 0.41886 |  0:00:02s\n"
     ]
    },
    {
     "name": "stdout",
     "output_type": "stream",
     "text": [
      "epoch 19 | loss: 0.13887 | train_mse: 0.31646 | train_mae: 0.40364 |  0:00:02s\n",
      "epoch 20 | loss: 0.255   | train_mse: 0.26353 | train_mae: 0.38688 |  0:00:02s\n"
     ]
    },
    {
     "name": "stdout",
     "output_type": "stream",
     "text": [
      "epoch 21 | loss: 0.19817 | train_mse: 0.20777 | train_mae: 0.34713 |  0:00:02s\n",
      "epoch 22 | loss: 0.18142 | train_mse: 0.22318 | train_mae: 0.35845 |  0:00:02s\n"
     ]
    },
    {
     "name": "stdout",
     "output_type": "stream",
     "text": [
      "epoch 23 | loss: 0.2528  | train_mse: 0.30452 | train_mae: 0.40545 |  0:00:02s\n",
      "epoch 24 | loss: 0.12877 | train_mse: 0.26881 | train_mae: 0.37031 |  0:00:03s\n",
      "epoch 25 | loss: 0.18564 | train_mse: 0.24723 | train_mae: 0.34044 |  0:00:03s\n"
     ]
    },
    {
     "name": "stdout",
     "output_type": "stream",
     "text": [
      "epoch 26 | loss: 0.24491 | train_mse: 0.21546 | train_mae: 0.32155 |  0:00:03s\n",
      "epoch 27 | loss: 0.18874 | train_mse: 0.17208 | train_mae: 0.31293 |  0:00:03s\n"
     ]
    },
    {
     "name": "stdout",
     "output_type": "stream",
     "text": [
      "epoch 28 | loss: 0.22167 | train_mse: 0.13682 | train_mae: 0.29662 |  0:00:03s\n",
      "epoch 29 | loss: 0.18684 | train_mse: 0.12199 | train_mae: 0.28189 |  0:00:03s\n"
     ]
    },
    {
     "name": "stdout",
     "output_type": "stream",
     "text": [
      "epoch 30 | loss: 0.39336 | train_mse: 0.13841 | train_mae: 0.29581 |  0:00:04s\n",
      "epoch 31 | loss: 0.34109 | train_mse: 0.15989 | train_mae: 0.30667 |  0:00:04s\n",
      "epoch 32 | loss: 0.21831 | train_mse: 0.18785 | train_mae: 0.32971 |  0:00:04s\n"
     ]
    },
    {
     "name": "stdout",
     "output_type": "stream",
     "text": [
      "epoch 33 | loss: 0.17826 | train_mse: 0.13602 | train_mae: 0.28357 |  0:00:04s\n"
     ]
    },
    {
     "name": "stdout",
     "output_type": "stream",
     "text": [
      "epoch 34 | loss: 0.12711 | train_mse: 0.12565 | train_mae: 0.27481 |  0:00:04s\n",
      "epoch 35 | loss: 0.27495 | train_mse: 0.1175  | train_mae: 0.26258 |  0:00:04s\n"
     ]
    },
    {
     "name": "stdout",
     "output_type": "stream",
     "text": [
      "epoch 36 | loss: 0.21077 | train_mse: 0.13407 | train_mae: 0.27024 |  0:00:05s\n",
      "epoch 37 | loss: 0.30564 | train_mse: 0.17926 | train_mae: 0.30097 |  0:00:05s"
     ]
    },
    {
     "name": "stdout",
     "output_type": "stream",
     "text": [
      "\n",
      "epoch 38 | loss: 0.15226 | train_mse: 0.24627 | train_mae: 0.34136 |  0:00:05s\n",
      "epoch 39 | loss: 0.18007 | train_mse: 0.30492 | train_mae: 0.35196 |  0:00:05s\n"
     ]
    },
    {
     "name": "stdout",
     "output_type": "stream",
     "text": [
      "epoch 40 | loss: 0.17165 | train_mse: 0.20298 | train_mae: 0.30078 |  0:00:05s\n"
     ]
    },
    {
     "name": "stdout",
     "output_type": "stream",
     "text": [
      "epoch 41 | loss: 0.11811 | train_mse: 0.15762 | train_mae: 0.29937 |  0:00:05s\n"
     ]
    },
    {
     "name": "stdout",
     "output_type": "stream",
     "text": [
      "epoch 42 | loss: 0.12634 | train_mse: 0.14632 | train_mae: 0.29734 |  0:00:06s\n"
     ]
    },
    {
     "name": "stdout",
     "output_type": "stream",
     "text": [
      "epoch 43 | loss: 0.16605 | train_mse: 0.12902 | train_mae: 0.28741 |  0:00:06s\n"
     ]
    },
    {
     "name": "stdout",
     "output_type": "stream",
     "text": [
      "epoch 44 | loss: 0.16229 | train_mse: 0.122   | train_mae: 0.27652 |  0:00:06s\n",
      "epoch 45 | loss: 0.08154 | train_mse: 0.09307 | train_mae: 0.24189 |  0:00:07s\n"
     ]
    },
    {
     "name": "stdout",
     "output_type": "stream",
     "text": [
      "epoch 46 | loss: 0.0996  | train_mse: 0.0904  | train_mae: 0.23606 |  0:00:07s\n",
      "epoch 47 | loss: 0.09088 | train_mse: 0.11641 | train_mae: 0.25483 |  0:00:07s\n"
     ]
    },
    {
     "name": "stdout",
     "output_type": "stream",
     "text": [
      "epoch 48 | loss: 0.17308 | train_mse: 0.16942 | train_mae: 0.27656 |  0:00:07s\n",
      "epoch 49 | loss: 0.14276 | train_mse: 0.15885 | train_mae: 0.26982 |  0:00:07s\n"
     ]
    },
    {
     "name": "stdout",
     "output_type": "stream",
     "text": [
      "epoch 50 | loss: 0.28088 | train_mse: 0.13598 | train_mae: 0.26131 |  0:00:07s\n",
      "epoch 51 | loss: 0.15579 | train_mse: 0.10804 | train_mae: 0.24534 |  0:00:07s\n",
      "epoch 52 | loss: 0.27759 | train_mse: 0.09377 | train_mae: 0.24629 |  0:00:07s\n"
     ]
    },
    {
     "name": "stdout",
     "output_type": "stream",
     "text": [
      "epoch 53 | loss: 0.14335 | train_mse: 0.09006 | train_mae: 0.23568 |  0:00:08s\n",
      "epoch 54 | loss: 0.19418 | train_mse: 0.10678 | train_mae: 0.23962 |  0:00:08s\n",
      "epoch 55 | loss: 0.15767 | train_mse: 0.11038 | train_mae: 0.24021 |  0:00:08s\n"
     ]
    },
    {
     "name": "stdout",
     "output_type": "stream",
     "text": [
      "epoch 56 | loss: 0.09056 | train_mse: 0.10491 | train_mae: 0.24308 |  0:00:08s\n",
      "epoch 57 | loss: 0.13014 | train_mse: 0.08165 | train_mae: 0.22386 |  0:00:08s\n",
      "epoch 58 | loss: 0.10725 | train_mse: 0.09116 | train_mae: 0.2271  |  0:00:08s\n"
     ]
    },
    {
     "name": "stdout",
     "output_type": "stream",
     "text": [
      "epoch 59 | loss: 0.14333 | train_mse: 0.12943 | train_mae: 0.25241 |  0:00:08s\n",
      "epoch 60 | loss: 0.15659 | train_mse: 0.09141 | train_mae: 0.23433 |  0:00:08s\n",
      "epoch 61 | loss: 0.16468 | train_mse: 0.08135 | train_mae: 0.23066 |  0:00:08s\n"
     ]
    },
    {
     "name": "stdout",
     "output_type": "stream",
     "text": [
      "epoch 62 | loss: 0.15573 | train_mse: 0.07967 | train_mae: 0.22883 |  0:00:08s\n",
      "epoch 63 | loss: 0.17724 | train_mse: 0.06388 | train_mae: 0.20948 |  0:00:08s\n"
     ]
    },
    {
     "name": "stdout",
     "output_type": "stream",
     "text": [
      "epoch 64 | loss: 0.09349 | train_mse: 0.05808 | train_mae: 0.19902 |  0:00:09s\n",
      "epoch 65 | loss: 0.16108 | train_mse: 0.06281 | train_mae: 0.20708 |  0:00:09s\n"
     ]
    },
    {
     "name": "stdout",
     "output_type": "stream",
     "text": [
      "epoch 66 | loss: 0.31292 | train_mse: 0.06241 | train_mae: 0.20847 |  0:00:09s\n",
      "epoch 67 | loss: 0.22291 | train_mse: 0.06897 | train_mae: 0.21355 |  0:00:09s\n",
      "epoch 68 | loss: 0.12915 | train_mse: 0.06399 | train_mae: 0.20789 |  0:00:09s\n"
     ]
    },
    {
     "name": "stdout",
     "output_type": "stream",
     "text": [
      "epoch 69 | loss: 0.14793 | train_mse: 0.06438 | train_mae: 0.2039  |  0:00:09s\n",
      "epoch 70 | loss: 0.15066 | train_mse: 0.06851 | train_mae: 0.21061 |  0:00:09s\n"
     ]
    },
    {
     "name": "stdout",
     "output_type": "stream",
     "text": [
      "epoch 71 | loss: 0.24013 | train_mse: 0.0831  | train_mae: 0.22432 |  0:00:09s\n",
      "epoch 72 | loss: 0.13242 | train_mse: 0.11656 | train_mae: 0.2568  |  0:00:09s\n"
     ]
    },
    {
     "name": "stdout",
     "output_type": "stream",
     "text": [
      "epoch 73 | loss: 0.16191 | train_mse: 0.17675 | train_mae: 0.30077 |  0:00:10s\n",
      "epoch 74 | loss: 0.10386 | train_mse: 0.09414 | train_mae: 0.24378 |  0:00:10s\n",
      "epoch 75 | loss: 0.18645 | train_mse: 0.08216 | train_mae: 0.22675 |  0:00:10s\n"
     ]
    },
    {
     "name": "stdout",
     "output_type": "stream",
     "text": [
      "epoch 76 | loss: 0.15472 | train_mse: 0.08144 | train_mae: 0.22873 |  0:00:10s\n",
      "epoch 77 | loss: 0.1689  | train_mse: 0.07471 | train_mae: 0.22349 |  0:00:10s\n",
      "epoch 78 | loss: 0.16794 | train_mse: 0.06963 | train_mae: 0.21543 |  0:00:10s\n"
     ]
    },
    {
     "name": "stdout",
     "output_type": "stream",
     "text": [
      "epoch 79 | loss: 0.08688 | train_mse: 0.08752 | train_mae: 0.2233  |  0:00:10s\n",
      "epoch 80 | loss: 0.13547 | train_mse: 0.0825  | train_mae: 0.21485 |  0:00:10s\n",
      "epoch 81 | loss: 0.13658 | train_mse: 0.0848  | train_mae: 0.22798 |  0:00:10s\n"
     ]
    },
    {
     "name": "stdout",
     "output_type": "stream",
     "text": [
      "epoch 82 | loss: 0.14028 | train_mse: 0.08645 | train_mae: 0.22589 |  0:00:10s\n",
      "epoch 83 | loss: 0.15229 | train_mse: 0.09219 | train_mae: 0.23533 |  0:00:11s\n"
     ]
    },
    {
     "name": "stdout",
     "output_type": "stream",
     "text": [
      "epoch 84 | loss: 0.10122 | train_mse: 0.07106 | train_mae: 0.21364 |  0:00:11s\n",
      "epoch 85 | loss: 0.28347 | train_mse: 0.06569 | train_mae: 0.20511 |  0:00:11s\n",
      "epoch 86 | loss: 0.10499 | train_mse: 0.06232 | train_mae: 0.20987 |  0:00:11s\n"
     ]
    },
    {
     "name": "stdout",
     "output_type": "stream",
     "text": [
      "epoch 87 | loss: 0.10136 | train_mse: 0.0623  | train_mae: 0.20641 |  0:00:11s\n",
      "epoch 88 | loss: 0.10975 | train_mse: 0.06804 | train_mae: 0.21748 |  0:00:11s\n"
     ]
    },
    {
     "name": "stdout",
     "output_type": "stream",
     "text": [
      "epoch 89 | loss: 0.11599 | train_mse: 0.07767 | train_mae: 0.22697 |  0:00:11s\n",
      "epoch 90 | loss: 0.10134 | train_mse: 0.06169 | train_mae: 0.20385 |  0:00:11s\n",
      "epoch 91 | loss: 0.19535 | train_mse: 0.05873 | train_mae: 0.19494 |  0:00:11s\n"
     ]
    },
    {
     "name": "stdout",
     "output_type": "stream",
     "text": [
      "epoch 92 | loss: 0.15427 | train_mse: 0.05934 | train_mae: 0.19118 |  0:00:12s\n",
      "epoch 93 | loss: 0.25747 | train_mse: 0.06179 | train_mae: 0.1995  |  0:00:12s\n",
      "epoch 94 | loss: 0.09922 | train_mse: 0.06149 | train_mae: 0.2033  |  0:00:12s\n"
     ]
    },
    {
     "name": "stdout",
     "output_type": "stream",
     "text": [
      "epoch 95 | loss: 0.08331 | train_mse: 0.0667  | train_mae: 0.21173 |  0:00:12s\n",
      "epoch 96 | loss: 0.08876 | train_mse: 0.06622 | train_mae: 0.2118  |  0:00:12s\n",
      "epoch 97 | loss: 0.09108 | train_mse: 0.0663  | train_mae: 0.20961 |  0:00:12s\n"
     ]
    },
    {
     "name": "stdout",
     "output_type": "stream",
     "text": [
      "epoch 98 | loss: 0.1049  | train_mse: 0.07765 | train_mae: 0.2269  |  0:00:12s\n",
      "epoch 99 | loss: 0.11003 | train_mse: 0.09392 | train_mae: 0.23982 |  0:00:12s\n",
      "epoch 100| loss: 0.05838 | train_mse: 0.16198 | train_mae: 0.26231 |  0:00:12s\n"
     ]
    },
    {
     "name": "stdout",
     "output_type": "stream",
     "text": [
      "epoch 101| loss: 0.1345  | train_mse: 0.214   | train_mae: 0.27191 |  0:00:12s\n",
      "epoch 102| loss: 0.14639 | train_mse: 0.11497 | train_mae: 0.21819 |  0:00:12s\n",
      "epoch 103| loss: 0.11353 | train_mse: 0.07858 | train_mae: 0.20022 |  0:00:13s\n"
     ]
    },
    {
     "name": "stdout",
     "output_type": "stream",
     "text": [
      "epoch 104| loss: 0.06899 | train_mse: 0.07053 | train_mae: 0.19434 |  0:00:13s\n",
      "epoch 105| loss: 0.11041 | train_mse: 0.07804 | train_mae: 0.21123 |  0:00:13s\n",
      "epoch 106| loss: 0.16345 | train_mse: 0.08178 | train_mae: 0.22112 |  0:00:13s\n"
     ]
    },
    {
     "name": "stdout",
     "output_type": "stream",
     "text": [
      "epoch 107| loss: 0.09264 | train_mse: 0.08336 | train_mae: 0.22323 |  0:00:13s\n",
      "epoch 108| loss: 0.08446 | train_mse: 0.07235 | train_mae: 0.21147 |  0:00:13s\n"
     ]
    },
    {
     "name": "stdout",
     "output_type": "stream",
     "text": [
      "epoch 109| loss: 0.093   | train_mse: 0.074   | train_mae: 0.20807 |  0:00:13s\n",
      "epoch 110| loss: 0.11736 | train_mse: 0.07063 | train_mae: 0.20639 |  0:00:13s\n"
     ]
    },
    {
     "name": "stdout",
     "output_type": "stream",
     "text": [
      "epoch 111| loss: 0.16551 | train_mse: 0.07134 | train_mae: 0.20667 |  0:00:13s\n",
      "epoch 112| loss: 0.14118 | train_mse: 0.09179 | train_mae: 0.22738 |  0:00:14s\n"
     ]
    },
    {
     "name": "stdout",
     "output_type": "stream",
     "text": [
      "epoch 113| loss: 0.08142 | train_mse: 0.12214 | train_mae: 0.25847 |  0:00:14s\n",
      "epoch 114| loss: 0.12291 | train_mse: 0.28475 | train_mae: 0.30547 |  0:00:14s\n",
      "epoch 115| loss: 0.17467 | train_mse: 0.12739 | train_mae: 0.24939 |  0:00:14s\n"
     ]
    },
    {
     "name": "stdout",
     "output_type": "stream",
     "text": [
      "epoch 116| loss: 0.20693 | train_mse: 0.06537 | train_mae: 0.20783 |  0:00:14s\n",
      "epoch 117| loss: 0.05625 | train_mse: 0.06031 | train_mae: 0.20176 |  0:00:14s\n"
     ]
    },
    {
     "name": "stdout",
     "output_type": "stream",
     "text": [
      "epoch 118| loss: 0.07639 | train_mse: 0.05998 | train_mae: 0.2017  |  0:00:14s\n",
      "epoch 119| loss: 0.08961 | train_mse: 0.06188 | train_mae: 0.1985  |  0:00:14s\n",
      "epoch 120| loss: 0.10416 | train_mse: 0.07067 | train_mae: 0.20653 |  0:00:14s\n"
     ]
    },
    {
     "name": "stdout",
     "output_type": "stream",
     "text": [
      "epoch 121| loss: 0.17774 | train_mse: 0.07575 | train_mae: 0.21129 |  0:00:14s\n",
      "epoch 122| loss: 0.12739 | train_mse: 0.07646 | train_mae: 0.21319 |  0:00:15s\n"
     ]
    },
    {
     "name": "stdout",
     "output_type": "stream",
     "text": [
      "epoch 123| loss: 0.07566 | train_mse: 0.08984 | train_mae: 0.22792 |  0:00:15s\n",
      "epoch 124| loss: 0.08154 | train_mse: 0.14543 | train_mae: 0.25596 |  0:00:15s\n",
      "epoch 125| loss: 0.11803 | train_mse: 0.11084 | train_mae: 0.23567 |  0:00:15s\n"
     ]
    },
    {
     "name": "stdout",
     "output_type": "stream",
     "text": [
      "epoch 126| loss: 0.24501 | train_mse: 0.07224 | train_mae: 0.20454 |  0:00:15s\n",
      "epoch 127| loss: 0.12718 | train_mse: 0.06526 | train_mae: 0.19445 |  0:00:15s\n"
     ]
    },
    {
     "name": "stdout",
     "output_type": "stream",
     "text": [
      "epoch 128| loss: 0.09171 | train_mse: 0.07126 | train_mae: 0.20939 |  0:00:15s\n",
      "epoch 129| loss: 0.16035 | train_mse: 0.08638 | train_mae: 0.23148 |  0:00:15s\n"
     ]
    },
    {
     "name": "stdout",
     "output_type": "stream",
     "text": [
      "epoch 130| loss: 0.07236 | train_mse: 0.19887 | train_mae: 0.29319 |  0:00:15s\n",
      "epoch 131| loss: 0.20083 | train_mse: 0.24868 | train_mae: 0.32402 |  0:00:16s\n"
     ]
    },
    {
     "name": "stdout",
     "output_type": "stream",
     "text": [
      "epoch 132| loss: 0.13054 | train_mse: 0.19236 | train_mae: 0.28197 |  0:00:16s\n",
      "epoch 133| loss: 0.26179 | train_mse: 0.12941 | train_mae: 0.25858 |  0:00:16s\n"
     ]
    },
    {
     "name": "stdout",
     "output_type": "stream",
     "text": [
      "epoch 134| loss: 0.17467 | train_mse: 0.10188 | train_mae: 0.2397  |  0:00:16s\n",
      "epoch 135| loss: 0.16439 | train_mse: 0.11993 | train_mae: 0.23841 |  0:00:16s\n"
     ]
    },
    {
     "name": "stdout",
     "output_type": "stream",
     "text": [
      "epoch 136| loss: 0.12135 | train_mse: 0.17395 | train_mae: 0.28735 |  0:00:17s\n",
      "epoch 137| loss: 0.11763 | train_mse: 0.15219 | train_mae: 0.2707  |  0:00:17s\n"
     ]
    },
    {
     "name": "stdout",
     "output_type": "stream",
     "text": [
      "epoch 138| loss: 0.10268 | train_mse: 0.12835 | train_mae: 0.25318 |  0:00:17s\n"
     ]
    },
    {
     "name": "stdout",
     "output_type": "stream",
     "text": [
      "epoch 139| loss: 0.10783 | train_mse: 0.12799 | train_mae: 0.25245 |  0:00:17s\n"
     ]
    },
    {
     "name": "stdout",
     "output_type": "stream",
     "text": [
      "epoch 140| loss: 0.0888  | train_mse: 0.14099 | train_mae: 0.25836 |  0:00:18s\n",
      "epoch 141| loss: 0.12677 | train_mse: 0.1825  | train_mae: 0.28123 |  0:00:18s\n"
     ]
    },
    {
     "name": "stdout",
     "output_type": "stream",
     "text": [
      "epoch 142| loss: 0.09304 | train_mse: 0.19835 | train_mae: 0.28895 |  0:00:18s\n",
      "\n",
      "Early stopping occurred at epoch 142 with best_epoch = 92 and best_train_mae = 0.19118\n",
      "Best weights from best epoch are automatically used!\n"
     ]
    }
   ],
   "source": [
    "#Train the Model\n",
    "\n",
    "Y_train = np.reshape(Y_train, (-1, 1))\n",
    "Y_test = np.reshape(Y_test, (-1, 1))\n",
    "\n",
    "prior_model = TabNetRegressor(optimizer_fn=torch.optim.Adam, optimizer_params=dict(lr = 0.02),\n",
    "          #scheduler_params={\"step_size\":10, ], \"gamma\":0.9},\n",
    "          #scheduler_fn=torch.optim.lr_scheduler.StepLR\n",
    "          )  #TabNetRegressor()\n",
    "\n",
    "prior_model.fit(X_train,Y_train,eval_set=[(X_train, Y_train)],\n",
    "            eval_name=['train'], \n",
    "            eval_metric=[ 'mse', 'mae'], \n",
    "            max_epochs = n_epochs, \n",
    "            batch_size = batch_size,\n",
    "            patience=50\n",
    "            )"
   ]
  },
  {
   "cell_type": "code",
   "execution_count": 10,
   "id": "af65dcda",
   "metadata": {
    "execution": {
     "iopub.execute_input": "2022-06-22T15:43:01.029312Z",
     "iopub.status.busy": "2022-06-22T15:43:01.028316Z",
     "iopub.status.idle": "2022-06-22T15:43:01.060206Z",
     "shell.execute_reply": "2022-06-22T15:43:01.061562Z"
    },
    "id": "af65dcda",
    "papermill": {
     "duration": 0.107233,
     "end_time": "2022-06-22T15:43:01.062012",
     "exception": false,
     "start_time": "2022-06-22T15:43:00.954779",
     "status": "completed"
    },
    "tags": []
   },
   "outputs": [
    {
     "data": {
      "application/scrapbook.scrap.json+json": {
       "data": 0.19478690586320585,
       "encoder": "json",
       "name": "Prior Model MSE",
       "version": 1
      }
     },
     "metadata": {
      "scrapbook": {
       "data": true,
       "display": false,
       "name": "Prior Model MSE"
      }
     },
     "output_type": "display_data"
    },
    {
     "data": {
      "application/scrapbook.scrap.json+json": {
       "data": 0.1568574008216827,
       "encoder": "json",
       "name": "ABC Pre-generator MSE",
       "version": 1
      }
     },
     "metadata": {
      "scrapbook": {
       "data": true,
       "display": false,
       "name": "ABC Pre-generator MSE"
      }
     },
     "output_type": "display_data"
    },
    {
     "data": {
      "application/scrapbook.scrap.json+json": {
       "data": 0.29831419703756723,
       "encoder": "json",
       "name": "Prior Model MSE",
       "version": 1
      }
     },
     "metadata": {
      "scrapbook": {
       "data": true,
       "display": false,
       "name": "Prior Model MSE"
      }
     },
     "output_type": "display_data"
    },
    {
     "data": {
      "application/scrapbook.scrap.json+json": {
       "data": 0.2724428415031849,
       "encoder": "json",
       "name": "ABC Pre-generator MSE",
       "version": 1
      }
     },
     "metadata": {
      "scrapbook": {
       "data": true,
       "display": false,
       "name": "ABC Pre-generator MSE"
      }
     },
     "output_type": "display_data"
    }
   ],
   "source": [
    "y_pred = prior_model.predict(X_test)\n",
    "y_abc = y_pred + np.random.normal(0,variance, y_pred.shape) + bias \n",
    "mse = mean_squared_error(y_pred,Y_test)\n",
    "sb.glue(\"Prior Model MSE\",mse)\n",
    "mse = mean_squared_error(y_abc,Y_test)\n",
    "sb.glue(\"ABC Pre-generator MSE\",mse)\n",
    "mae = mean_absolute_error(y_pred,Y_test)\n",
    "sb.glue(\"Prior Model MSE\",mae)\n",
    "mae = mean_absolute_error(y_abc,Y_test)\n",
    "sb.glue(\"ABC Pre-generator MSE\",mae)"
   ]
  },
  {
   "cell_type": "markdown",
   "id": "25609da2",
   "metadata": {
    "papermill": {
     "duration": 0.070904,
     "end_time": "2022-06-22T15:43:01.184384",
     "exception": false,
     "start_time": "2022-06-22T15:43:01.113480",
     "status": "completed"
    },
    "tags": []
   },
   "source": [
    "# ABC GAN Model"
   ]
  },
  {
   "cell_type": "code",
   "execution_count": 11,
   "id": "dfc3464d",
   "metadata": {
    "execution": {
     "iopub.execute_input": "2022-06-22T15:43:01.335769Z",
     "iopub.status.busy": "2022-06-22T15:43:01.334829Z",
     "iopub.status.idle": "2022-06-22T15:43:01.338633Z",
     "shell.execute_reply": "2022-06-22T15:43:01.337954Z"
    },
    "papermill": {
     "duration": 0.082251,
     "end_time": "2022-06-22T15:43:01.338837",
     "exception": false,
     "start_time": "2022-06-22T15:43:01.256586",
     "status": "completed"
    },
    "tags": []
   },
   "outputs": [],
   "source": [
    "gen = network.Generator(n_features+1).to(device)\n",
    "disc = network.Discriminator(n_features+1).to(device)\n",
    "\n",
    "criterion = torch.nn.BCELoss()\n",
    "gen_opt = torch.optim.Adam(gen.parameters(), lr=0.001, betas=(0.5, 0.999))\n",
    "disc_opt = torch.optim.Adam(disc.parameters(), lr=0.001, betas=(0.5, 0.999))"
   ]
  },
  {
   "cell_type": "code",
   "execution_count": 12,
   "id": "b75fdd85",
   "metadata": {
    "execution": {
     "iopub.execute_input": "2022-06-22T15:43:01.445422Z",
     "iopub.status.busy": "2022-06-22T15:43:01.443858Z",
     "iopub.status.idle": "2022-06-22T15:44:09.659831Z",
     "shell.execute_reply": "2022-06-22T15:44:09.660524Z"
    },
    "papermill": {
     "duration": 68.276022,
     "end_time": "2022-06-22T15:44:09.660805",
     "exception": false,
     "start_time": "2022-06-22T15:43:01.384783",
     "status": "completed"
    },
    "tags": []
   },
   "outputs": [
    {
     "data": {
      "image/png": "[encoded data removed]",
      "text/plain": [
       "<Figure size 432x288 with 1 Axes>"
      ]
     },
     "metadata": {
      "needs_background": "light"
     },
     "output_type": "display_data"
    },
    {
     "data": {
      "image/png": "[encoded data removed]",
      "text/plain": [
       "<Figure size 432x288 with 1 Axes>"
      ]
     },
     "metadata": {
      "needs_background": "light"
     },
     "output_type": "display_data"
    }
   ],
   "source": [
    "#Training the ABC_GAN \n",
    "ABC_train_test2.training_GAN(disc,gen,disc_opt,gen_opt,train_data,batch_size,n_epochs,criterion,prior_model,variance,bias,device)"
   ]
  },
  {
   "cell_type": "code",
   "execution_count": 13,
   "id": "1fa7c368",
   "metadata": {
    "execution": {
     "iopub.execute_input": "2022-06-22T15:44:09.758106Z",
     "iopub.status.busy": "2022-06-22T15:44:09.748053Z",
     "iopub.status.idle": "2022-06-22T15:44:11.234821Z",
     "shell.execute_reply": "2022-06-22T15:44:11.236376Z"
    },
    "papermill": {
     "duration": 1.538732,
     "end_time": "2022-06-22T15:44:11.236696",
     "exception": false,
     "start_time": "2022-06-22T15:44:09.697964",
     "status": "completed"
    },
    "tags": []
   },
   "outputs": [
    {
     "data": {
      "application/scrapbook.scrap.json+json": {
       "data": 0.2770441574112181,
       "encoder": "json",
       "name": "ABC-GAN Model 1 MSE",
       "version": 1
      }
     },
     "metadata": {
      "scrapbook": {
       "data": true,
       "display": false,
       "name": "ABC-GAN Model 1 MSE"
      }
     },
     "output_type": "display_data"
    },
    {
     "data": {
      "application/scrapbook.scrap.json+json": {
       "data": 0.36620563313737514,
       "encoder": "json",
       "name": "ABC-GAN Model 1 MAE",
       "version": 1
      }
     },
     "metadata": {
      "scrapbook": {
       "data": true,
       "display": false,
       "name": "ABC-GAN Model 1 MAE"
      }
     },
     "output_type": "display_data"
    },
    {
     "data": {
      "application/scrapbook.scrap.json+json": {
       "data": 7.324112662747503,
       "encoder": "json",
       "name": "ABC-GAN Model 1 Manhattan Distance",
       "version": 1
      }
     },
     "metadata": {
      "scrapbook": {
       "data": true,
       "display": false,
       "name": "ABC-GAN Model 1 Manhattan Distance"
      }
     },
     "output_type": "display_data"
    },
    {
     "data": {
      "application/scrapbook.scrap.json+json": {
       "data": 2.3526642077344406,
       "encoder": "json",
       "name": "ABC-GAN Model 1 Euclidean distance",
       "version": 1
      }
     },
     "metadata": {
      "scrapbook": {
       "data": true,
       "display": false,
       "name": "ABC-GAN Model 1 Euclidean distance"
      }
     },
     "output_type": "display_data"
    },
    {
     "data": {
      "application/scrapbook.scrap.json+json": {
       "data": [
        [
         0.27386597749844943,
         0.2909598912000742,
         0.2860789188877102,
         0.26384993950944036,
         0.29949036466775525,
         0.27743816113101055,
         0.287273827874058,
         0.2961113265318972,
         0.2653740547573581,
         0.2852636944420902,
         0.27351521635734366,
         0.29181396518244546,
         0.30140087004903804,
         0.28224217409162666,
         0.2815251765498153,
         0.24931659002140058,
         0.2445914589842319,
         0.30671517602895126,
         0.2889383778250053,
         0.28437930294161806,
         0.2614498134792564,
         0.2860570234569374,
         0.28452141194186076,
         0.23534574207131573,
         0.26963949907058427,
         0.2796099158058657,
         0.27809127768371644,
         0.259438774395436,
         0.2961263716581869,
         0.28682365086199463,
         0.26640945124740634,
         0.2827609760756923,
         0.2814420112958527,
         0.27056675858163415,
         0.29909549340661123,
         0.2507179038550847,
         0.3154653152790606,
         0.2773295606395557,
         0.30591901817841405,
         0.2765273410414498,
         0.2772450131013092,
         0.277382562238419,
         0.3185627523522362,
         0.25385948045029716,
         0.2640790376723305,
         0.23863872616563414,
         0.27999732683713846,
         0.29482534525872933,
         0.26727163080122296,
         0.307872269918945,
         0.2742970057358695,
         0.2676400820511573,
         0.28056368126111936,
         0.2831256008787527,
         0.2946035169494003,
         0.2700425735197,
         0.24913300435378521,
         0.2555900255209314,
         0.27003026075310343,
         0.26248971714189323,
         0.29403197470204373,
         0.26024083252467245,
         0.29684513592161493,
         0.2976885874254081,
         0.2535149977114056,
         0.27933954006224265,
         0.2688315332279208,
         0.27430999251160215,
         0.26696267473661733,
         0.27296445388914864,
         0.26722058169151175,
         0.27009626830618905,
         0.29775653672593916,
         0.27400563534352645,
         0.27673095668555897,
         0.28190830426390284,
         0.2698711552172319,
         0.290200379547814,
         0.2771272217935444,
         0.27668857323426754,
         0.23590007251313372,
         0.2532614447026714,
         0.31097538664678176,
         0.2864816567162899,
         0.26922552904444697,
         0.2999095846305867,
         0.2509701961401531,
         0.24262703931617255,
         0.28170313164742355,
         0.2609702803599322,
         0.28140700276681285,
         0.24343023026371546,
         0.2808869388217924,
         0.27688611324312673,
         0.25955555674846736,
         0.26036607454684496,
         0.31588520442453943,
         0.2896104757639949,
         0.28598490885844524,
         0.2913121909251019
        ],
        [
         0.36103687547147273,
         0.37050335444509985,
         0.37165196910500525,
         0.37013663835823535,
         0.36892892941832545,
         0.3581279136240482,
         0.369566622748971,
         0.37063438855111597,
         0.35763231515884397,
         0.355770318955183,
         0.3676706895232201,
         0.3763369232416153,
         0.37423031106591226,
         0.363808498904109,
         0.36019867546856404,
         0.3567887362092733,
         0.35498968660831454,
         0.3792195737361908,
         0.369082847610116,
         0.3679604321718216,
         0.35475507825613023,
         0.37352758571505545,
         0.3702426001429558,
         0.35607409104704857,
         0.3694219753146172,
         0.37441747039556506,
         0.35311147272586824,
         0.3592855378985405,
         0.3716640114784241,
         0.3635057799518108,
         0.36647932678461076,
         0.36763007529079916,
         0.36123142689466475,
         0.37110587768256664,
         0.38845319822430613,
         0.3685863882303238,
         0.3782617602497339,
         0.36316992454230784,
         0.38067519702017305,
         0.36483965888619424,
         0.36900859847664835,
         0.3674543559551239,
         0.37917305752635,
         0.37018817365169526,
         0.3571855541318655,
         0.3675765708088875,
         0.361254695802927,
         0.3788184177130461,
         0.3671812653541565,
         0.3719673827290535,
         0.37112443186342714,
         0.36395282819867136,
         0.36919162422418594,
         0.3750610828399658,
         0.37625891976058484,
         0.3581567142158747,
         0.35082456544041635,
         0.3843907158821821,
         0.3773687120527029,
         0.3586731519550085,
         0.3635672315955162,
         0.35382422171533107,
         0.3781495675444603,
         0.3776323884725571,
         0.35147817358374595,
         0.36037520654499533,
         0.3634934589266777,
         0.360410276055336,
         0.3608209241181612,
         0.363440477848053,
         0.3736143779009581,
         0.36704965829849245,
         0.37686183080077174,
         0.36733907014131545,
         0.3819576986134052,
         0.36088057309389115,
         0.3506435059010983,
         0.3721707906574011,
         0.36700156703591347,
         0.35403197407722475,
         0.3427357658743858,
         0.35937021635472777,
         0.38181622736155985,
         0.3675472795963287,
         0.3623981013894081,
         0.3596587862819433,
         0.34280993342399596,
         0.3556401826441288,
         0.370397873967886,
         0.3666746713221073,
         0.36172524020075797,
         0.3627522487193346,
         0.362835868448019,
         0.3656971246004105,
         0.3606111392378807,
         0.34745393842458727,
         0.38330625779926775,
         0.3773311782628298,
         0.3640313185751438,
         0.3655020326375961
        ],
        [
         7.220737509429455,
         7.410067088901997,
         7.433039382100105,
         7.402732767164707,
         7.3785785883665085,
         7.162558272480965,
         7.39133245497942,
         7.41268777102232,
         7.15264630317688,
         7.115406379103661,
         7.353413790464401,
         7.526738464832306,
         7.484606221318245,
         7.27616997808218,
         7.203973509371281,
         7.135774724185467,
         7.09979373216629,
         7.584391474723816,
         7.38165695220232,
         7.359208643436432,
         7.095101565122604,
         7.470551714301109,
         7.404852002859116,
         7.121481820940971,
         7.388439506292343,
         7.488349407911301,
         7.0622294545173645,
         7.18571075797081,
         7.4332802295684814,
         7.270115599036217,
         7.329586535692215,
         7.352601505815983,
         7.224628537893295,
         7.422117553651333,
         7.769063964486122,
         7.371727764606476,
         7.5652352049946785,
         7.263398490846157,
         7.6135039404034615,
         7.296793177723885,
         7.380171969532967,
         7.349087119102478,
         7.583461150527,
         7.403763473033905,
         7.14371108263731,
         7.35153141617775,
         7.22509391605854,
         7.5763683542609215,
         7.34362530708313,
         7.43934765458107,
         7.422488637268543,
         7.279056563973427,
         7.383832484483719,
         7.501221656799316,
         7.525178395211697,
         7.163134284317493,
         7.016491308808327,
         7.687814317643642,
         7.547374241054058,
         7.17346303910017,
         7.271344631910324,
         7.0764844343066216,
         7.562991350889206,
         7.552647769451141,
         7.029563471674919,
         7.207504130899906,
         7.269869178533554,
         7.20820552110672,
         7.216418482363224,
         7.26880955696106,
         7.472287558019161,
         7.340993165969849,
         7.537236616015434,
         7.346781402826309,
         7.6391539722681046,
         7.217611461877823,
         7.012870118021965,
         7.443415813148022,
         7.340031340718269,
         7.080639481544495,
         6.854715317487717,
         7.187404327094555,
         7.636324547231197,
         7.350945591926575,
         7.247962027788162,
         7.193175725638866,
         6.856198668479919,
         7.112803652882576,
         7.407957479357719,
         7.333493426442146,
         7.23450480401516,
         7.255044974386692,
         7.2567173689603806,
         7.313942492008209,
         7.212222784757614,
         6.949078768491745,
         7.666125155985355,
         7.546623565256596,
         7.280626371502876,
         7.310040652751923
        ],
        [
         2.3403673963651492,
         2.412301354309093,
         2.3919821023064123,
         2.2971719113267963,
         2.4474082808871724,
         2.355581291872605,
         2.3969723731159607,
         2.433562518333553,
         2.303797103728356,
         2.3885715163758037,
         2.338868172246327,
         2.4158392545136174,
         2.4552021100065797,
         2.3758879354532976,
         2.372868207675324,
         2.2330095835952006,
         2.211747991902477,
         2.4767526159427034,
         2.403906727911902,
         2.384866046307918,
         2.2866998643427445,
         2.3918905637881402,
         2.3854618502162666,
         2.169542541971997,
         2.322238140547107,
         2.3647829321350646,
         2.3583522963447017,
         2.277888383549273,
         2.4336243410115164,
         2.3950935299565845,
         2.3082870326170717,
         2.3780705459497717,
         2.3725176977036555,
         2.3262276697762587,
         2.445794322532503,
         2.239276239569762,
         2.5118332559270753,
         2.3551202119618253,
         2.4735360040978347,
         2.351711466321708,
         2.3547611900203775,
         2.3553452495904668,
         2.5241345144513843,
         2.2532619929794993,
         2.298169000192677,
         2.1846680579238313,
         2.366420617038055,
         2.428272411648781,
         2.3120191642857244,
         2.4814200366682986,
         2.3422083841360894,
         2.3136122494971247,
         2.3688127037025084,
         2.379603331980995,
         2.4273587165864066,
         2.323973207761656,
         2.232187287634195,
         2.260929125474443,
         2.323920225623519,
         2.2912429689663787,
         2.4250029884601947,
         2.2814067262313067,
         2.43657602352816,
         2.44003519411261,
         2.2517326560291546,
         2.363639312848907,
         2.3187562753679862,
         2.3422638301933545,
         2.310682473801268,
         2.33651216084637,
         2.3117983549241994,
         2.3242042436334596,
         2.4403136549465896,
         2.340964055014628,
         2.352577125985709,
         2.374482277313953,
         2.323235481896882,
         2.409150802867326,
         2.3542609107469135,
         2.352396961544831,
         2.1720960960009745,
         2.250606339201378,
         2.4938940901601327,
         2.3936652093235176,
         2.3204548219883403,
         2.4491205957673325,
         2.2404026251553675,
         2.202848334843652,
         2.3736180469798573,
         2.2846018487252095,
         2.372370134556633,
         2.206491469567537,
         2.3701769504481827,
         2.3532365509787865,
         2.278401003987083,
         2.2819556286082556,
         2.513504344235512,
         2.406700960917226,
         2.391589048555145,
         2.413761342490603
        ]
       ],
       "encoder": "json",
       "name": "ABC_GAN_1 Metrics",
       "version": 1
      }
     },
     "metadata": {
      "scrapbook": {
       "data": true,
       "display": false,
       "name": "ABC_GAN_1 Metrics"
      }
     },
     "output_type": "display_data"
    },
    {
     "name": "stdout",
     "output_type": "stream",
     "text": [
      "MSE\n",
      "0.2770441574112181\n"
     ]
    }
   ],
   "source": [
    "ABC_GAN1_metrics=ABC_train_test2.test_generator(gen,test_data,prior_model,variance,bias,\"1\",device)\n",
    "sb.glue(\"ABC_GAN_1 Metrics\",ABC_GAN1_metrics)\n",
    "\n",
    "print(\"MSE\")\n",
    "print(mean(ABC_GAN1_metrics[0]))"
   ]
  },
  {
   "cell_type": "code",
   "execution_count": 14,
   "id": "eb22ce5c",
   "metadata": {
    "execution": {
     "iopub.execute_input": "2022-06-22T15:44:11.400492Z",
     "iopub.status.busy": "2022-06-22T15:44:11.399204Z",
     "iopub.status.idle": "2022-06-22T15:44:12.588745Z",
     "shell.execute_reply": "2022-06-22T15:44:12.589454Z"
    },
    "papermill": {
     "duration": 1.280181,
     "end_time": "2022-06-22T15:44:12.589683",
     "exception": false,
     "start_time": "2022-06-22T15:44:11.309502",
     "status": "completed"
    },
    "tags": []
   },
   "outputs": [
    {
     "data": {
      "image/png": "[encoded data removed]",
      "text/plain": [
       "<Figure size 432x288 with 1 Axes>"
      ]
     },
     "metadata": {
      "needs_background": "light"
     },
     "output_type": "display_data"
    },
    {
     "data": {
      "image/png": "[encoded data removed]",
      "text/plain": [
       "<Figure size 432x288 with 1 Axes>"
      ]
     },
     "metadata": {
      "needs_background": "light"
     },
     "output_type": "display_data"
    },
    {
     "data": {
      "image/png": "[encoded data removed]",
      "text/plain": [
       "<Figure size 432x288 with 1 Axes>"
      ]
     },
     "metadata": {
      "needs_background": "light"
     },
     "output_type": "display_data"
    },
    {
     "data": {
      "image/png": "[encoded data removed]",
      "text/plain": [
       "<Figure size 432x288 with 1 Axes>"
      ]
     },
     "metadata": {
      "needs_background": "light"
     },
     "output_type": "display_data"
    }
   ],
   "source": [
    "sanityChecks.discProbVsError(train_data,disc,device)\n",
    "sanityChecks.discProbVsError(test_data,disc,device)"
   ]
  },
  {
   "cell_type": "markdown",
   "id": "130f3a4d",
   "metadata": {
    "id": "130f3a4d",
    "papermill": {
     "duration": 0.077549,
     "end_time": "2022-06-22T15:44:12.714741",
     "exception": false,
     "start_time": "2022-06-22T15:44:12.637192",
     "status": "completed"
    },
    "tags": []
   },
   "source": [
    "# ABC - GAN Model with skip connection"
   ]
  },
  {
   "cell_type": "code",
   "execution_count": 15,
   "id": "4e43dad1",
   "metadata": {
    "execution": {
     "iopub.execute_input": "2022-06-22T15:44:12.886257Z",
     "iopub.status.busy": "2022-06-22T15:44:12.884798Z",
     "iopub.status.idle": "2022-06-22T15:44:12.889333Z",
     "shell.execute_reply": "2022-06-22T15:44:12.890321Z"
    },
    "id": "4e43dad1",
    "papermill": {
     "duration": 0.101162,
     "end_time": "2022-06-22T15:44:12.891212",
     "exception": false,
     "start_time": "2022-06-22T15:44:12.790050",
     "status": "completed"
    },
    "tags": []
   },
   "outputs": [],
   "source": [
    "#Generator\n",
    "gen3 = network.GeneratorWithSkipConnection(n_features+1).to(device)\n",
    "constraints=network.weightConstraint()\n",
    "#Discriminator \n",
    "disc3 = network.Discriminator(n_features+1).to(device)\n",
    "\n",
    "criterion = torch.nn.BCELoss()\n",
    "gen_opt = torch.optim.Adam(gen3.parameters(), lr=0.001, betas=(0.5, 0.999))\n",
    "disc_opt = torch.optim.Adam(disc3.parameters(), lr=0.001, betas=(0.5, 0.999))\n"
   ]
  },
  {
   "cell_type": "code",
   "execution_count": 16,
   "id": "26acbc37",
   "metadata": {
    "execution": {
     "iopub.execute_input": "2022-06-22T15:44:13.010132Z",
     "iopub.status.busy": "2022-06-22T15:44:13.007872Z",
     "iopub.status.idle": "2022-06-22T15:45:59.015382Z",
     "shell.execute_reply": "2022-06-22T15:45:59.016246Z"
    },
    "id": "26acbc37",
    "papermill": {
     "duration": 106.072493,
     "end_time": "2022-06-22T15:45:59.016599",
     "exception": false,
     "start_time": "2022-06-22T15:44:12.944106",
     "status": "completed"
    },
    "tags": []
   },
   "outputs": [
    {
     "data": {
      "image/png": "[encoded data removed]",
      "text/plain": [
       "<Figure size 432x288 with 1 Axes>"
      ]
     },
     "metadata": {
      "needs_background": "light"
     },
     "output_type": "display_data"
    },
    {
     "data": {
      "image/png": "[encoded data removed]",
      "text/plain": [
       "<Figure size 432x288 with 1 Axes>"
      ]
     },
     "metadata": {
      "needs_background": "light"
     },
     "output_type": "display_data"
    }
   ],
   "source": [
    "ABC_train_test2.training_GAN_skip_connection(disc3,gen3,disc_opt,gen_opt,train_data,batch_size,n_epochs,criterion,prior_model,variance,bias,device)"
   ]
  },
  {
   "cell_type": "code",
   "execution_count": 17,
   "id": "c5e0717b",
   "metadata": {
    "execution": {
     "iopub.execute_input": "2022-06-22T15:45:59.343176Z",
     "iopub.status.busy": "2022-06-22T15:45:59.341507Z",
     "iopub.status.idle": "2022-06-22T15:46:00.763744Z",
     "shell.execute_reply": "2022-06-22T15:46:00.764528Z"
    },
    "id": "c5e0717b",
    "papermill": {
     "duration": 1.69681,
     "end_time": "2022-06-22T15:46:00.764847",
     "exception": false,
     "start_time": "2022-06-22T15:45:59.068037",
     "status": "completed"
    },
    "tags": []
   },
   "outputs": [
    {
     "data": {
      "application/scrapbook.scrap.json+json": {
       "data": 0.22509675574748375,
       "encoder": "json",
       "name": "ABC-GAN Model 3 MSE",
       "version": 1
      }
     },
     "metadata": {
      "scrapbook": {
       "data": true,
       "display": false,
       "name": "ABC-GAN Model 3 MSE"
      }
     },
     "output_type": "display_data"
    },
    {
     "data": {
      "application/scrapbook.scrap.json+json": {
       "data": 0.3687018851910252,
       "encoder": "json",
       "name": "ABC-GAN Model 3 MAE",
       "version": 1
      }
     },
     "metadata": {
      "scrapbook": {
       "data": true,
       "display": false,
       "name": "ABC-GAN Model 3 MAE"
      }
     },
     "output_type": "display_data"
    },
    {
     "data": {
      "application/scrapbook.scrap.json+json": {
       "data": 7.3740377038205045,
       "encoder": "json",
       "name": "ABC-GAN Model 3 Manhattan Distance",
       "version": 1
      }
     },
     "metadata": {
      "scrapbook": {
       "data": true,
       "display": false,
       "name": "ABC-GAN Model 3 Manhattan Distance"
      }
     },
     "output_type": "display_data"
    },
    {
     "data": {
      "application/scrapbook.scrap.json+json": {
       "data": 2.1199261278033013,
       "encoder": "json",
       "name": "ABC-GAN Model 3 Euclidean distance",
       "version": 1
      }
     },
     "metadata": {
      "scrapbook": {
       "data": true,
       "display": false,
       "name": "ABC-GAN Model 3 Euclidean distance"
      }
     },
     "output_type": "display_data"
    },
    {
     "data": {
      "application/scrapbook.scrap.json+json": {
       "data": [
        [
         0.21324280337964355,
         0.2397580887577649,
         0.23078995671463676,
         0.1929220567107169,
         0.253896265661759,
         0.1985729291572189,
         0.20048083675266293,
         0.219705648778652,
         0.25482960251371933,
         0.2599973739213812,
         0.21982833009858943,
         0.21192472929730582,
         0.22792839236745416,
         0.23752190451308505,
         0.2127774049254751,
         0.19696684466782552,
         0.22347509616475086,
         0.21524655796608014,
         0.20268416503461215,
         0.2529960959351595,
         0.21322417269452382,
         0.21612305272434967,
         0.21536381487702427,
         0.21517355356176654,
         0.23554872351369963,
         0.2078418866222667,
         0.23329533799649943,
         0.21606861393257953,
         0.2563536440037325,
         0.21558363192313598,
         0.23971521841424454,
         0.19415632224248608,
         0.22618569312758163,
         0.23025331498198803,
         0.2187757128532742,
         0.2174550009470067,
         0.2088964606976998,
         0.23588381648782217,
         0.24188187382212828,
         0.2071360965805591,
         0.2583269457643137,
         0.20610339586410867,
         0.2213832908493465,
         0.21385145148473392,
         0.26204278902513994,
         0.20068744527638266,
         0.21161450895972034,
         0.22320176484631302,
         0.21412208573906638,
         0.2135835814624782,
         0.2516547279765215,
         0.22937563846531753,
         0.2464981125664972,
         0.19219569019723465,
         0.2440904700076862,
         0.23663734360965988,
         0.21265362861660803,
         0.22325233022579413,
         0.22529497006026325,
         0.22772227800114758,
         0.22309718644674534,
         0.2459676787037075,
         0.21913940213892605,
         0.202724414466388,
         0.22177033965810766,
         0.22156479281771416,
         0.22569956596441246,
         0.20566901645652572,
         0.2524500738373127,
         0.24404453027772965,
         0.22552106303610833,
         0.21451115023792697,
         0.23583637520691303,
         0.22699479110486429,
         0.2410917907108719,
         0.22408702798516758,
         0.19157549641757593,
         0.24262450234377148,
         0.2157190555814536,
         0.25266008656559824,
         0.2698754391582415,
         0.23758063833497284,
         0.2184886137508973,
         0.24373725665058785,
         0.19083201913604655,
         0.20034998456088657,
         0.24859823583824392,
         0.19174167410195597,
         0.22327346410606022,
         0.22407938200977023,
         0.23217151746506737,
         0.2685378514486361,
         0.22006699659997592,
         0.25124909941474943,
         0.18622565113724998,
         0.2422673018759339,
         0.2232246813767111,
         0.21915579173731653,
         0.23389361709184273,
         0.2268245446742144
        ],
        [
         0.35725060626864436,
         0.3853395037353039,
         0.371797239035368,
         0.33224233984947205,
         0.4019646756350994,
         0.3362565003335476,
         0.3331075578927994,
         0.36312929838895797,
         0.39019198194146154,
         0.4087178588612005,
         0.37122576385736467,
         0.36310954913496973,
         0.34972054362297056,
         0.3841029219329357,
         0.3607392546720803,
         0.34011111631989477,
         0.3589931666851044,
         0.3526093900203705,
         0.35066298991441724,
         0.389593119174242,
         0.35978767797350886,
         0.36474597454071045,
         0.36700538620352746,
         0.3565764784812927,
         0.3745862513780594,
         0.34876710548996925,
         0.3754579573869705,
         0.35150001347064974,
         0.4145635686814785,
         0.3539749927818775,
         0.39009570255875586,
         0.3191864177584648,
         0.3717310786247253,
         0.35761568918824194,
         0.3626465380191803,
         0.3609197624027729,
         0.3529182240366936,
         0.36241514459252355,
         0.3725581206381321,
         0.35578477531671526,
         0.4116110008209944,
         0.3523602157831192,
         0.36958529576659205,
         0.3568825043737888,
         0.3884314514696598,
         0.31481099799275397,
         0.35842425674200057,
         0.35805223509669304,
         0.3538905709981918,
         0.36447921171784403,
         0.4086093194782734,
         0.37363306283950803,
         0.39816665574908255,
         0.3327937968075275,
         0.38425317611545323,
         0.37559027820825575,
         0.3586016662418842,
         0.38511978164315225,
         0.3772775523364544,
         0.36085647344589233,
         0.3535945057868958,
         0.39601168781518936,
         0.36074992939829825,
         0.3484164342284203,
         0.39518294036388396,
         0.3746609650552273,
         0.38012645617127416,
         0.35116647481918334,
         0.39104419499635695,
         0.39344085901975634,
         0.37307445853948595,
         0.36787613332271574,
         0.3857587244361639,
         0.38753222599625586,
         0.39181984439492223,
         0.37070306688547133,
         0.3290481917560101,
         0.36703106537461283,
         0.3648731932044029,
         0.3879777366295457,
         0.40210475786589084,
         0.3813985466957092,
         0.36272037103772165,
         0.38912294805049896,
         0.3254739984869957,
         0.3323088750243187,
         0.4057753890752792,
         0.3248343259096146,
         0.3726534202694893,
         0.3807957015931606,
         0.3931492317467928,
         0.41535423416644335,
         0.36827502399683,
         0.4006500817835331,
         0.31475733071565626,
         0.36762292832136156,
         0.36246961206197736,
         0.3755199395120144,
         0.38516026064753534,
         0.38282071352005004
        ],
        [
         7.145012125372887,
         7.706790074706078,
         7.435944780707359,
         6.644846796989441,
         8.039293512701988,
         6.725130006670952,
         6.6621511578559875,
         7.2625859677791595,
         7.803839638829231,
         8.17435717722401,
         7.424515277147293,
         7.262190982699394,
         6.994410872459412,
         7.682058438658714,
         7.214785093441606,
         6.802222326397896,
         7.179863333702087,
         7.05218780040741,
         7.013259798288345,
         7.79186238348484,
         7.195753559470177,
         7.294919490814209,
         7.340107724070549,
         7.1315295696258545,
         7.491725027561188,
         6.975342109799385,
         7.50915914773941,
         7.030000269412994,
         8.29127137362957,
         7.07949985563755,
         7.8019140511751175,
         6.383728355169296,
         7.434621572494507,
         7.152313783764839,
         7.252930760383606,
         7.218395248055458,
         7.0583644807338715,
         7.2483028918504715,
         7.451162412762642,
         7.115695506334305,
         8.232220016419888,
         7.047204315662384,
         7.3917059153318405,
         7.137650087475777,
         7.768629029393196,
         6.29621995985508,
         7.168485134840012,
         7.161044701933861,
         7.077811419963837,
         7.28958423435688,
         8.172186389565468,
         7.472661256790161,
         7.963333114981651,
         6.655875936150551,
         7.685063522309065,
         7.511805564165115,
         7.172033324837685,
         7.702395632863045,
         7.545551046729088,
         7.217129468917847,
         7.071890115737915,
         7.920233756303787,
         7.214998587965965,
         6.968328684568405,
         7.903658807277679,
         7.493219301104546,
         7.602529123425484,
         7.023329496383667,
         7.820883899927139,
         7.868817180395126,
         7.461489170789719,
         7.357522666454315,
         7.715174488723278,
         7.7506445199251175,
         7.836396887898445,
         7.414061337709427,
         6.580963835120201,
         7.340621307492256,
         7.2974638640880585,
         7.759554732590914,
         8.042095157317817,
         7.627970933914185,
         7.254407420754433,
         7.782458961009979,
         6.509479969739914,
         6.646177500486374,
         8.115507781505585,
         6.496686518192291,
         7.453068405389786,
         7.615914031863213,
         7.862984634935856,
         8.307084683328867,
         7.3655004799366,
         8.013001635670662,
         6.295146614313126,
         7.352458566427231,
         7.249392241239548,
         7.510398790240288,
         7.7032052129507065,
         7.656414270401001
        ],
        [
         2.0651527952170685,
         2.1897857829375225,
         2.1484410939778487,
         1.9642915094797764,
         2.2534252402143675,
         1.9928518718520898,
         2.0024027404728697,
         2.096213962259826,
         2.2575632992840724,
         2.2803393340526372,
         2.0967991324806934,
         2.0587604488978597,
         2.1350802906094852,
         2.1795499742519557,
         2.062897985482923,
         1.9847762829489148,
         2.1141196568063547,
         2.0748328027389586,
         2.013376095192412,
         2.249427020088269,
         2.0650625786862915,
         2.0790529224834544,
         2.075397864878078,
         2.074480916093308,
         2.1704779359104283,
         2.0388324434453495,
         2.160071008075889,
         2.0787910618077015,
         2.264304060870503,
         2.0764567509251717,
         2.1895900000422204,
         1.9705650065018716,
         2.126902410208713,
         2.1459418211218497,
         2.0917729936743816,
         2.0854495963556956,
         2.043998340007642,
         2.17202125444399,
         2.199462997288785,
         2.0353677632337557,
         2.273002181100202,
         2.030287643976137,
         2.1042019430147216,
         2.0680979255573657,
         2.289291545544778,
         2.003434277815884,
         2.057253066395675,
         2.112826376427145,
         2.069406126109935,
         2.0668022714448435,
         2.2434559410718165,
         2.141847979971116,
         2.2203518305282035,
         1.9605901672569648,
         2.209481703964467,
         2.175487732025441,
         2.0622978864199424,
         2.113065688641951,
         2.122710390327721,
         2.134114701702547,
         2.112331349228834,
         2.217961580838169,
         2.09351093686623,
         2.0135759954190355,
         2.1060405487934353,
         2.1050643354430485,
         2.124615569765093,
         2.0281470186183532,
         2.2469983259331228,
         2.2092737733369745,
         2.123775237806997,
         2.071285350877213,
         2.171802823494403,
         2.1307031285698357,
         2.195867895438484,
         2.117012177504738,
         1.9574243097375486,
         2.2028368180315647,
         2.077108834805984,
         2.247932768414564,
         2.323253921370807,
         2.1798194344255806,
         2.0904000275109893,
         2.207882499820078,
         1.9536223746468842,
         2.001749157916079,
         2.2297902853777254,
         1.9582730866861036,
         2.1131657015296277,
         2.1169760603737124,
         2.1548620255833892,
         2.3174893805523085,
         2.0979370657861782,
         2.241647159633957,
         1.929899744221186,
         2.2012146732017484,
         2.112934837503093,
         2.0935892230202016,
         2.1628389542073756,
         2.129903963441612
        ]
       ],
       "encoder": "json",
       "name": "ABC_GAN_3 Metrics",
       "version": 1
      }
     },
     "metadata": {
      "scrapbook": {
       "data": true,
       "display": false,
       "name": "ABC_GAN_3 Metrics"
      }
     },
     "output_type": "display_data"
    },
    {
     "name": "stdout",
     "output_type": "stream",
     "text": [
      "MSE\n",
      "0.22509675574748375\n"
     ]
    }
   ],
   "source": [
    "ABC_GAN3_metrics=ABC_train_test2.test_generator(gen3,test_data,prior_model,variance,bias,\"3\",device)\n",
    "sb.glue(\"ABC_GAN_3 Metrics\",ABC_GAN3_metrics)\n",
    "\n",
    "print(\"MSE\")\n",
    "print(mean(ABC_GAN3_metrics[0]))"
   ]
  },
  {
   "cell_type": "code",
   "execution_count": 18,
   "id": "c8e46b48",
   "metadata": {
    "execution": {
     "iopub.execute_input": "2022-06-22T15:46:00.884334Z",
     "iopub.status.busy": "2022-06-22T15:46:00.883522Z",
     "iopub.status.idle": "2022-06-22T15:46:02.000104Z",
     "shell.execute_reply": "2022-06-22T15:46:01.999560Z"
    },
    "id": "c8e46b48",
    "papermill": {
     "duration": 1.184595,
     "end_time": "2022-06-22T15:46:02.000294",
     "exception": false,
     "start_time": "2022-06-22T15:46:00.815699",
     "status": "completed"
    },
    "tags": []
   },
   "outputs": [
    {
     "data": {
      "image/png": "[encoded data removed]",
      "text/plain": [
       "<Figure size 432x288 with 1 Axes>"
      ]
     },
     "metadata": {
      "needs_background": "light"
     },
     "output_type": "display_data"
    },
    {
     "data": {
      "image/png": "[encoded data removed]",
      "text/plain": [
       "<Figure size 432x288 with 1 Axes>"
      ]
     },
     "metadata": {
      "needs_background": "light"
     },
     "output_type": "display_data"
    },
    {
     "data": {
      "image/png": "[encoded data removed]",
      "text/plain": [
       "<Figure size 432x288 with 1 Axes>"
      ]
     },
     "metadata": {
      "needs_background": "light"
     },
     "output_type": "display_data"
    },
    {
     "data": {
      "image/png": "[encoded data removed]",
      "text/plain": [
       "<Figure size 432x288 with 1 Axes>"
      ]
     },
     "metadata": {
      "needs_background": "light"
     },
     "output_type": "display_data"
    }
   ],
   "source": [
    "sanityChecks.discProbVsError(train_data,disc3,device)\n",
    "sanityChecks.discProbVsError(test_data,disc3,device)"
   ]
  },
  {
   "cell_type": "markdown",
   "id": "a5bd74c3",
   "metadata": {
    "id": "a5bd74c3",
    "papermill": {
     "duration": 0.094106,
     "end_time": "2022-06-22T15:46:02.159642",
     "exception": false,
     "start_time": "2022-06-22T15:46:02.065536",
     "status": "completed"
    },
    "tags": []
   },
   "source": [
    "## Skip Connection Model Analysis - ABC-GAN "
   ]
  },
  {
   "cell_type": "markdown",
   "id": "5744a8bf",
   "metadata": {
    "id": "5744a8bf",
    "papermill": {
     "duration": 0.076616,
     "end_time": "2022-06-22T15:46:02.298074",
     "exception": false,
     "start_time": "2022-06-22T15:46:02.221458",
     "status": "completed"
    },
    "tags": []
   },
   "source": [
    "### Weight Analysis \n",
    "\n",
    "Study the weights of the skip connection layer\n",
    "\n",
    "Equation of the skip connection is \n",
    "\n",
    "$output = y_{gan} * w + y_{abc} * (1-w)$"
   ]
  },
  {
   "cell_type": "code",
   "execution_count": 19,
   "id": "52c31dea",
   "metadata": {
    "execution": {
     "iopub.execute_input": "2022-06-22T15:46:02.449565Z",
     "iopub.status.busy": "2022-06-22T15:46:02.447944Z",
     "iopub.status.idle": "2022-06-22T15:46:02.456018Z",
     "shell.execute_reply": "2022-06-22T15:46:02.460093Z"
    },
    "id": "52c31dea",
    "papermill": {
     "duration": 0.099333,
     "end_time": "2022-06-22T15:46:02.460610",
     "exception": false,
     "start_time": "2022-06-22T15:46:02.361277",
     "status": "completed"
    },
    "tags": []
   },
   "outputs": [
    {
     "name": "stdout",
     "output_type": "stream",
     "text": [
      "Weight of the node at skip connection\n",
      "Parameter containing:\n",
      "tensor([[0.0722]], requires_grad=True)\n"
     ]
    },
    {
     "data": {
      "application/scrapbook.scrap.json+json": {
       "data": 0.07217743247747421,
       "encoder": "json",
       "name": "Skip Connection Weight",
       "version": 1
      }
     },
     "metadata": {
      "scrapbook": {
       "data": true,
       "display": false,
       "name": "Skip Connection Weight"
      }
     },
     "output_type": "display_data"
    }
   ],
   "source": [
    "print(\"Weight of the node at skip connection\")\n",
    "for name,param in gen3.named_parameters():\n",
    "    if(name == \"skipNode.weight\"):\n",
    "        print(param)\n",
    "        sb.glue(\"Skip Connection Weight\",param.item())"
   ]
  }
 ],
 "metadata": {
  "colab": {
   "collapsed_sections": [],
   "name": "ABC_GAN_Model-Catboost_Pre-gen.ipynb",
   "provenance": []
  },
  "interpreter": {
   "hash": "31f2aee4e71d21fbe5cf8b01ff0e069b9275f58929596ceb00d14d90e3e16cd6"
  },
  "kernelspec": {
   "display_name": "Python 3 (ipykernel)",
   "language": "python",
   "name": "python3"
  },
  "language_info": {
   "codemirror_mode": {
    "name": "ipython",
    "version": 3
   },
   "file_extension": ".py",
   "mimetype": "text/x-python",
   "name": "python",
   "nbconvert_exporter": "python",
   "pygments_lexer": "ipython3",
   "version": "3.8.3"
  },
  "papermill": {
   "default_parameters": {},
   "duration": 216.293803,
   "end_time": "2022-06-22T15:46:04.450434",
   "environment_variables": {},
   "exception": null,
   "input_path": "ABC_GAN-TabNet.ipynb",
   "output_path": "./ABC_GAN_TabNet/ABC-GAN_output_8_10.ipynb",
   "parameters": {
    "bias": 0,
    "variance": 0.1
   },
   "start_time": "2022-06-22T15:42:28.156631",
   "version": "2.3.3"
  }
 },
 "nbformat": 4,
 "nbformat_minor": 5
}