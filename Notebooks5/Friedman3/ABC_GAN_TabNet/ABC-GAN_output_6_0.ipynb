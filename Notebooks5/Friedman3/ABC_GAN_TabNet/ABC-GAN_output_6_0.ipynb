{
 "cells": [
  {
   "cell_type": "markdown",
   "id": "622780e6",
   "metadata": {
    "id": "622780e6",
    "papermill": {
     "duration": 0.028721,
     "end_time": "2022-06-22T14:07:46.212895",
     "exception": false,
     "start_time": "2022-06-22T14:07:46.184174",
     "status": "completed"
    },
    "tags": []
   },
   "source": [
    "## Import Libraries "
   ]
  },
  {
   "cell_type": "code",
   "execution_count": 1,
   "id": "a62397e3",
   "metadata": {
    "execution": {
     "iopub.execute_input": "2022-06-22T14:07:46.305640Z",
     "iopub.status.busy": "2022-06-22T14:07:46.302646Z",
     "iopub.status.idle": "2022-06-22T14:07:46.307490Z",
     "shell.execute_reply": "2022-06-22T14:07:46.306500Z"
    },
    "id": "a62397e3",
    "papermill": {
     "duration": 0.077026,
     "end_time": "2022-06-22T14:07:46.307754",
     "exception": false,
     "start_time": "2022-06-22T14:07:46.230728",
     "status": "completed"
    },
    "tags": []
   },
   "outputs": [],
   "source": [
    "import warnings\n",
    "import sys\n",
    "sys.path.insert(0, '../../src')\n",
    "warnings.filterwarnings('ignore')"
   ]
  },
  {
   "cell_type": "code",
   "execution_count": 2,
   "id": "d6a4e155",
   "metadata": {
    "execution": {
     "iopub.execute_input": "2022-06-22T14:07:46.380317Z",
     "iopub.status.busy": "2022-06-22T14:07:46.377267Z",
     "iopub.status.idle": "2022-06-22T14:07:52.451592Z",
     "shell.execute_reply": "2022-06-22T14:07:52.452249Z"
    },
    "id": "d6a4e155",
    "papermill": {
     "duration": 6.116058,
     "end_time": "2022-06-22T14:07:52.452495",
     "exception": false,
     "start_time": "2022-06-22T14:07:46.336437",
     "status": "completed"
    },
    "tags": []
   },
   "outputs": [],
   "source": [
    "import ABC_train_test2\n",
    "import friedman3Dataset\n",
    "import network\n",
    "import dataset\n",
    "import sanityChecks\n",
    "import torch \n",
    "import scrapbook as sb\n",
    "from statistics import mean \n",
    "import catboost as ctb \n",
    "from sklearn.model_selection import train_test_split\n",
    "from sklearn.metrics import mean_squared_error,mean_absolute_error\n",
    "import numpy as np\n",
    "from pytorch_tabnet.tab_model import TabNetRegressor"
   ]
  },
  {
   "cell_type": "markdown",
   "id": "2fa5b0f7",
   "metadata": {
    "id": "2fa5b0f7",
    "papermill": {
     "duration": 0.029747,
     "end_time": "2022-06-22T14:07:52.501032",
     "exception": false,
     "start_time": "2022-06-22T14:07:52.471285",
     "status": "completed"
    },
    "tags": []
   },
   "source": [
    "## Parameters "
   ]
  },
  {
   "cell_type": "code",
   "execution_count": 3,
   "id": "783186fb",
   "metadata": {
    "execution": {
     "iopub.execute_input": "2022-06-22T14:07:52.553132Z",
     "iopub.status.busy": "2022-06-22T14:07:52.551056Z",
     "iopub.status.idle": "2022-06-22T14:07:52.554349Z",
     "shell.execute_reply": "2022-06-22T14:07:52.555297Z"
    },
    "id": "783186fb",
    "papermill": {
     "duration": 0.031891,
     "end_time": "2022-06-22T14:07:52.555548",
     "exception": false,
     "start_time": "2022-06-22T14:07:52.523657",
     "status": "completed"
    },
    "tags": [
     "parameters"
    ]
   },
   "outputs": [],
   "source": [
    "variance = 1\n",
    "bias = 1 "
   ]
  },
  {
   "cell_type": "code",
   "execution_count": 4,
   "id": "54dc1bab",
   "metadata": {
    "execution": {
     "iopub.execute_input": "2022-06-22T14:07:52.612393Z",
     "iopub.status.busy": "2022-06-22T14:07:52.611068Z",
     "iopub.status.idle": "2022-06-22T14:07:52.613377Z",
     "shell.execute_reply": "2022-06-22T14:07:52.613933Z"
    },
    "papermill": {
     "duration": 0.040976,
     "end_time": "2022-06-22T14:07:52.614167",
     "exception": false,
     "start_time": "2022-06-22T14:07:52.573191",
     "status": "completed"
    },
    "tags": [
     "injected-parameters"
    ]
   },
   "outputs": [],
   "source": [
    "# Parameters\n",
    "variance = 1\n",
    "bias = 1\n"
   ]
  },
  {
   "cell_type": "markdown",
   "id": "391cdbfd",
   "metadata": {
    "id": "391cdbfd",
    "papermill": {
     "duration": 0.017589,
     "end_time": "2022-06-22T14:07:52.652677",
     "exception": false,
     "start_time": "2022-06-22T14:07:52.635088",
     "status": "completed"
    },
    "tags": []
   },
   "source": [
    "## Dataset \n"
   ]
  },
  {
   "cell_type": "code",
   "execution_count": 5,
   "id": "5b51f161",
   "metadata": {
    "execution": {
     "iopub.execute_input": "2022-06-22T14:07:52.691667Z",
     "iopub.status.busy": "2022-06-22T14:07:52.690134Z",
     "iopub.status.idle": "2022-06-22T14:07:52.693913Z",
     "shell.execute_reply": "2022-06-22T14:07:52.694432Z"
    },
    "id": "5b51f161",
    "papermill": {
     "duration": 0.02681,
     "end_time": "2022-06-22T14:07:52.694653",
     "exception": false,
     "start_time": "2022-06-22T14:07:52.667843",
     "status": "completed"
    },
    "tags": []
   },
   "outputs": [],
   "source": [
    "#Parameters \n",
    "n_features = 4\n",
    "n_samples= 100\n",
    "n_target = 1"
   ]
  },
  {
   "cell_type": "code",
   "execution_count": 6,
   "id": "5d6eced4",
   "metadata": {
    "execution": {
     "iopub.execute_input": "2022-06-22T14:07:52.746651Z",
     "iopub.status.busy": "2022-06-22T14:07:52.745262Z",
     "iopub.status.idle": "2022-06-22T14:07:52.766490Z",
     "shell.execute_reply": "2022-06-22T14:07:52.767054Z"
    },
    "id": "5d6eced4",
    "papermill": {
     "duration": 0.056559,
     "end_time": "2022-06-22T14:07:52.767291",
     "exception": false,
     "start_time": "2022-06-22T14:07:52.710732",
     "status": "completed"
    },
    "tags": []
   },
   "outputs": [
    {
     "name": "stdout",
     "output_type": "stream",
     "text": [
      "          X1           X2        X3        X4         Y\n",
      "0  65.328649  1643.684952  0.009888  3.053169  0.323760\n",
      "1  47.398975   759.031982  0.101326  3.707718  1.041643\n",
      "2  96.429476  1687.617018  0.703663  3.679900  1.568504\n",
      "3  29.976756  1663.511596  0.814563  5.045931  1.536589\n",
      "4  99.722146   499.437535  0.347332  2.103126  1.041155\n"
     ]
    }
   ],
   "source": [
    "X,Y = friedman3Dataset.friedman3_data(n_samples)"
   ]
  },
  {
   "cell_type": "code",
   "execution_count": 7,
   "id": "fe007438",
   "metadata": {
    "execution": {
     "iopub.execute_input": "2022-06-22T14:07:52.815600Z",
     "iopub.status.busy": "2022-06-22T14:07:52.814625Z",
     "iopub.status.idle": "2022-06-22T14:07:52.817014Z",
     "shell.execute_reply": "2022-06-22T14:07:52.816281Z"
    },
    "id": "fe007438",
    "papermill": {
     "duration": 0.031273,
     "end_time": "2022-06-22T14:07:52.817219",
     "exception": false,
     "start_time": "2022-06-22T14:07:52.785946",
     "status": "completed"
    },
    "tags": []
   },
   "outputs": [],
   "source": [
    "#Train test split for dataset \n",
    "X_train,X_test,Y_train,Y_test = train_test_split(X,Y,test_size = 0.2)\n",
    "train_data = dataset.CustomDataset(X_train,Y_train)\n",
    "test_data = dataset.CustomDataset(X_test,Y_test)\n"
   ]
  },
  {
   "cell_type": "markdown",
   "id": "a9a1af34",
   "metadata": {
    "id": "a9a1af34",
    "papermill": {
     "duration": 0.034183,
     "end_time": "2022-06-22T14:07:52.870901",
     "exception": false,
     "start_time": "2022-06-22T14:07:52.836718",
     "status": "completed"
    },
    "tags": []
   },
   "source": [
    "## Training Parameters "
   ]
  },
  {
   "cell_type": "code",
   "execution_count": 8,
   "id": "952b7fc8",
   "metadata": {
    "execution": {
     "iopub.execute_input": "2022-06-22T14:07:52.915715Z",
     "iopub.status.busy": "2022-06-22T14:07:52.914931Z",
     "iopub.status.idle": "2022-06-22T14:07:52.917645Z",
     "shell.execute_reply": "2022-06-22T14:07:52.918232Z"
    },
    "id": "952b7fc8",
    "papermill": {
     "duration": 0.024829,
     "end_time": "2022-06-22T14:07:52.918480",
     "exception": false,
     "start_time": "2022-06-22T14:07:52.893651",
     "status": "completed"
    },
    "tags": []
   },
   "outputs": [],
   "source": [
    "batch_size = 32\n",
    "n_epochs = 1000\n",
    "#Select the device \n",
    "device = torch.device('cuda' if torch.cuda.is_available() else 'cpu')"
   ]
  },
  {
   "cell_type": "markdown",
   "id": "a95e1600",
   "metadata": {
    "id": "a95e1600",
    "papermill": {
     "duration": 0.015119,
     "end_time": "2022-06-22T14:07:52.950455",
     "exception": false,
     "start_time": "2022-06-22T14:07:52.935336",
     "status": "completed"
    },
    "tags": []
   },
   "source": [
    "# ABC Pre-generator Model \n",
    "\n",
    "1. The catboost model is used as a pre-generator model for the ABC-GAN. \n",
    "2. The model is first trained on the entire dataset \n",
    "3. It generats X,Y pairs and we add some Gaussian noise with mean 0 and variance 1 to it which is then feed as input to the generator.\n"
   ]
  },
  {
   "cell_type": "code",
   "execution_count": 9,
   "id": "ff8ce7bd",
   "metadata": {
    "execution": {
     "iopub.execute_input": "2022-06-22T14:07:52.996356Z",
     "iopub.status.busy": "2022-06-22T14:07:52.995190Z",
     "iopub.status.idle": "2022-06-22T14:08:09.410845Z",
     "shell.execute_reply": "2022-06-22T14:08:09.411549Z"
    },
    "id": "ff8ce7bd",
    "papermill": {
     "duration": 16.446139,
     "end_time": "2022-06-22T14:08:09.411796",
     "exception": false,
     "start_time": "2022-06-22T14:07:52.965657",
     "status": "completed"
    },
    "tags": []
   },
   "outputs": [
    {
     "name": "stdout",
     "output_type": "stream",
     "text": [
      "Device used : cpu\n"
     ]
    },
    {
     "name": "stdout",
     "output_type": "stream",
     "text": [
      "epoch 0  | loss: 1.47152 | train_mse: 7.12371 | train_mae: 2.03942 |  0:00:00s\n",
      "epoch 1  | loss: 0.94101 | train_mse: 7.17081 | train_mae: 2.12834 |  0:00:00s\n",
      "epoch 2  | loss: 0.40071 | train_mse: 7.63174 | train_mae: 2.24304 |  0:00:00s\n"
     ]
    },
    {
     "name": "stdout",
     "output_type": "stream",
     "text": [
      "epoch 3  | loss: 0.38448 | train_mse: 4.88851 | train_mae: 1.82022 |  0:00:00s\n",
      "epoch 4  | loss: 0.30482 | train_mse: 3.59103 | train_mae: 1.51943 |  0:00:00s\n",
      "epoch 5  | loss: 0.30789 | train_mse: 4.21865 | train_mae: 1.5584  |  0:00:00s\n"
     ]
    },
    {
     "name": "stdout",
     "output_type": "stream",
     "text": [
      "epoch 6  | loss: 0.25155 | train_mse: 3.97399 | train_mae: 1.47239 |  0:00:00s\n",
      "epoch 7  | loss: 0.28167 | train_mse: 2.85392 | train_mae: 1.27651 |  0:00:00s\n",
      "epoch 8  | loss: 0.37458 | train_mse: 3.41172 | train_mae: 1.39552 |  0:00:00s\n"
     ]
    },
    {
     "name": "stdout",
     "output_type": "stream",
     "text": [
      "epoch 9  | loss: 0.2922  | train_mse: 2.46868 | train_mae: 1.17092 |  0:00:01s\n",
      "epoch 10 | loss: 0.29627 | train_mse: 2.42606 | train_mae: 1.11932 |  0:00:01s\n",
      "epoch 11 | loss: 0.22825 | train_mse: 2.58348 | train_mae: 1.12121 |  0:00:01s\n"
     ]
    },
    {
     "name": "stdout",
     "output_type": "stream",
     "text": [
      "epoch 12 | loss: 0.30263 | train_mse: 2.23807 | train_mae: 1.05274 |  0:00:01s\n",
      "epoch 13 | loss: 0.29476 | train_mse: 2.76997 | train_mae: 1.05475 |  0:00:01s\n",
      "epoch 14 | loss: 0.27377 | train_mse: 1.39287 | train_mae: 0.77742 |  0:00:01s\n"
     ]
    },
    {
     "name": "stdout",
     "output_type": "stream",
     "text": [
      "epoch 15 | loss: 0.21685 | train_mse: 0.3113  | train_mae: 0.44767 |  0:00:01s\n",
      "epoch 16 | loss: 0.39157 | train_mse: 0.34076 | train_mae: 0.43937 |  0:00:01s\n",
      "epoch 17 | loss: 0.36519 | train_mse: 0.37835 | train_mae: 0.47153 |  0:00:01s\n"
     ]
    },
    {
     "name": "stdout",
     "output_type": "stream",
     "text": [
      "epoch 18 | loss: 0.3111  | train_mse: 1.44316 | train_mae: 0.77932 |  0:00:01s\n",
      "epoch 19 | loss: 0.25412 | train_mse: 1.24285 | train_mae: 0.72169 |  0:00:01s\n",
      "epoch 20 | loss: 0.20399 | train_mse: 0.71173 | train_mae: 0.56349 |  0:00:01s\n"
     ]
    },
    {
     "name": "stdout",
     "output_type": "stream",
     "text": [
      "epoch 21 | loss: 0.19952 | train_mse: 0.25786 | train_mae: 0.40114 |  0:00:02s\n",
      "epoch 22 | loss: 0.20825 | train_mse: 0.19403 | train_mae: 0.34858 |  0:00:02s\n"
     ]
    },
    {
     "name": "stdout",
     "output_type": "stream",
     "text": [
      "epoch 23 | loss: 0.27269 | train_mse: 0.16455 | train_mae: 0.32051 |  0:00:02s\n",
      "epoch 24 | loss: 0.22903 | train_mse: 0.18549 | train_mae: 0.32262 |  0:00:02s\n"
     ]
    },
    {
     "name": "stdout",
     "output_type": "stream",
     "text": [
      "epoch 25 | loss: 0.16033 | train_mse: 0.24027 | train_mae: 0.36025 |  0:00:02s\n",
      "epoch 26 | loss: 0.34861 | train_mse: 0.23156 | train_mae: 0.36603 |  0:00:02s\n",
      "epoch 27 | loss: 0.55256 | train_mse: 0.1785  | train_mae: 0.32907 |  0:00:02s\n"
     ]
    },
    {
     "name": "stdout",
     "output_type": "stream",
     "text": [
      "epoch 28 | loss: 0.27548 | train_mse: 0.14589 | train_mae: 0.30829 |  0:00:02s\n",
      "epoch 29 | loss: 0.17495 | train_mse: 0.1454  | train_mae: 0.31226 |  0:00:02s\n",
      "epoch 30 | loss: 0.36593 | train_mse: 0.19761 | train_mae: 0.34878 |  0:00:02s\n"
     ]
    },
    {
     "name": "stdout",
     "output_type": "stream",
     "text": [
      "epoch 31 | loss: 0.17353 | train_mse: 0.14503 | train_mae: 0.30145 |  0:00:03s\n",
      "epoch 32 | loss: 0.21084 | train_mse: 0.14103 | train_mae: 0.29286 |  0:00:03s\n"
     ]
    },
    {
     "name": "stdout",
     "output_type": "stream",
     "text": [
      "epoch 33 | loss: 0.1895  | train_mse: 0.13951 | train_mae: 0.29329 |  0:00:03s\n",
      "epoch 34 | loss: 0.23529 | train_mse: 0.12089 | train_mae: 0.26732 |  0:00:03s\n",
      "epoch 35 | loss: 0.14448 | train_mse: 0.15147 | train_mae: 0.29432 |  0:00:03s\n"
     ]
    },
    {
     "name": "stdout",
     "output_type": "stream",
     "text": [
      "epoch 36 | loss: 0.13651 | train_mse: 0.26483 | train_mae: 0.36335 |  0:00:03s\n",
      "epoch 37 | loss: 0.2632  | train_mse: 0.38148 | train_mae: 0.4263  |  0:00:03s\n",
      "epoch 38 | loss: 0.11526 | train_mse: 0.19646 | train_mae: 0.34058 |  0:00:03s\n"
     ]
    },
    {
     "name": "stdout",
     "output_type": "stream",
     "text": [
      "epoch 39 | loss: 0.226   | train_mse: 0.15737 | train_mae: 0.31079 |  0:00:03s\n",
      "epoch 40 | loss: 0.30708 | train_mse: 0.31185 | train_mae: 0.3951  |  0:00:03s\n",
      "epoch 41 | loss: 0.14015 | train_mse: 0.28856 | train_mae: 0.3848  |  0:00:03s\n"
     ]
    },
    {
     "name": "stdout",
     "output_type": "stream",
     "text": [
      "epoch 42 | loss: 0.13608 | train_mse: 0.16429 | train_mae: 0.30792 |  0:00:04s\n",
      "epoch 43 | loss: 0.1073  | train_mse: 0.10567 | train_mae: 0.25239 |  0:00:04s\n",
      "epoch 44 | loss: 0.19888 | train_mse: 0.11225 | train_mae: 0.26621 |  0:00:04s\n"
     ]
    },
    {
     "name": "stdout",
     "output_type": "stream",
     "text": [
      "epoch 45 | loss: 0.11488 | train_mse: 0.13361 | train_mae: 0.2785  |  0:00:04s\n",
      "epoch 46 | loss: 0.25489 | train_mse: 0.13928 | train_mae: 0.28589 |  0:00:04s\n",
      "epoch 47 | loss: 0.2964  | train_mse: 0.1372  | train_mae: 0.28672 |  0:00:04s\n"
     ]
    },
    {
     "name": "stdout",
     "output_type": "stream",
     "text": [
      "epoch 48 | loss: 0.18953 | train_mse: 0.12301 | train_mae: 0.27149 |  0:00:04s\n",
      "epoch 49 | loss: 0.1331  | train_mse: 0.12161 | train_mae: 0.26382 |  0:00:04s\n",
      "epoch 50 | loss: 0.10499 | train_mse: 0.09317 | train_mae: 0.24479 |  0:00:04s\n"
     ]
    },
    {
     "name": "stdout",
     "output_type": "stream",
     "text": [
      "epoch 51 | loss: 0.33321 | train_mse: 0.09247 | train_mae: 0.24616 |  0:00:04s\n",
      "epoch 52 | loss: 0.1196  | train_mse: 0.0862  | train_mae: 0.23236 |  0:00:04s\n",
      "epoch 53 | loss: 0.22182 | train_mse: 0.09465 | train_mae: 0.24671 |  0:00:05s\n"
     ]
    },
    {
     "name": "stdout",
     "output_type": "stream",
     "text": [
      "epoch 54 | loss: 0.12674 | train_mse: 0.08725 | train_mae: 0.23903 |  0:00:05s\n",
      "epoch 55 | loss: 0.28394 | train_mse: 0.09473 | train_mae: 0.24733 |  0:00:05s\n",
      "epoch 56 | loss: 0.19925 | train_mse: 0.10289 | train_mae: 0.25552 |  0:00:05s\n"
     ]
    },
    {
     "name": "stdout",
     "output_type": "stream",
     "text": [
      "epoch 57 | loss: 0.15446 | train_mse: 0.08791 | train_mae: 0.23355 |  0:00:05s\n",
      "epoch 58 | loss: 0.12697 | train_mse: 0.07932 | train_mae: 0.21645 |  0:00:05s\n"
     ]
    },
    {
     "name": "stdout",
     "output_type": "stream",
     "text": [
      "epoch 59 | loss: 0.11876 | train_mse: 0.07911 | train_mae: 0.22166 |  0:00:05s\n",
      "epoch 60 | loss: 0.16776 | train_mse: 0.09634 | train_mae: 0.24152 |  0:00:05s\n",
      "epoch 61 | loss: 0.12152 | train_mse: 0.1085  | train_mae: 0.24754 |  0:00:05s\n"
     ]
    },
    {
     "name": "stdout",
     "output_type": "stream",
     "text": [
      "epoch 62 | loss: 0.21188 | train_mse: 0.14199 | train_mae: 0.27363 |  0:00:05s\n",
      "epoch 63 | loss: 0.16345 | train_mse: 0.19665 | train_mae: 0.30102 |  0:00:05s\n",
      "epoch 64 | loss: 0.12    | train_mse: 0.25514 | train_mae: 0.31289 |  0:00:06s\n"
     ]
    },
    {
     "name": "stdout",
     "output_type": "stream",
     "text": [
      "epoch 65 | loss: 0.13227 | train_mse: 0.20263 | train_mae: 0.29546 |  0:00:06s\n",
      "epoch 66 | loss: 0.10299 | train_mse: 0.14798 | train_mae: 0.28171 |  0:00:06s\n",
      "epoch 67 | loss: 0.16889 | train_mse: 0.11465 | train_mae: 0.26582 |  0:00:06s\n"
     ]
    },
    {
     "name": "stdout",
     "output_type": "stream",
     "text": [
      "epoch 68 | loss: 0.09237 | train_mse: 0.11831 | train_mae: 0.26713 |  0:00:06s\n",
      "epoch 69 | loss: 0.11306 | train_mse: 0.15088 | train_mae: 0.28391 |  0:00:06s\n",
      "epoch 70 | loss: 0.39414 | train_mse: 0.16435 | train_mae: 0.28446 |  0:00:06s\n"
     ]
    },
    {
     "name": "stdout",
     "output_type": "stream",
     "text": [
      "epoch 71 | loss: 0.15579 | train_mse: 0.16926 | train_mae: 0.27997 |  0:00:06s\n",
      "epoch 72 | loss: 0.13986 | train_mse: 0.20219 | train_mae: 0.29281 |  0:00:06s\n",
      "epoch 73 | loss: 0.15706 | train_mse: 0.15558 | train_mae: 0.26984 |  0:00:06s\n"
     ]
    },
    {
     "name": "stdout",
     "output_type": "stream",
     "text": [
      "epoch 74 | loss: 0.11603 | train_mse: 0.12975 | train_mae: 0.25572 |  0:00:06s\n",
      "epoch 75 | loss: 0.12604 | train_mse: 0.11704 | train_mae: 0.23943 |  0:00:06s\n",
      "epoch 76 | loss: 0.15563 | train_mse: 0.13252 | train_mae: 0.24514 |  0:00:07s\n"
     ]
    },
    {
     "name": "stdout",
     "output_type": "stream",
     "text": [
      "epoch 77 | loss: 0.15325 | train_mse: 0.19591 | train_mae: 0.28997 |  0:00:07s\n",
      "epoch 78 | loss: 0.27592 | train_mse: 0.30548 | train_mae: 0.33985 |  0:00:07s\n",
      "epoch 79 | loss: 0.09306 | train_mse: 0.27308 | train_mae: 0.33308 |  0:00:07s\n"
     ]
    },
    {
     "name": "stdout",
     "output_type": "stream",
     "text": [
      "epoch 80 | loss: 0.36474 | train_mse: 0.23169 | train_mae: 0.33505 |  0:00:07s\n",
      "epoch 81 | loss: 0.08514 | train_mse: 0.16214 | train_mae: 0.299   |  0:00:07s\n"
     ]
    },
    {
     "name": "stdout",
     "output_type": "stream",
     "text": [
      "epoch 82 | loss: 0.26727 | train_mse: 0.14727 | train_mae: 0.29242 |  0:00:07s\n",
      "epoch 83 | loss: 0.1291  | train_mse: 0.12309 | train_mae: 0.26647 |  0:00:07s\n",
      "epoch 84 | loss: 0.12812 | train_mse: 0.12544 | train_mae: 0.26726 |  0:00:07s\n"
     ]
    },
    {
     "name": "stdout",
     "output_type": "stream",
     "text": [
      "epoch 85 | loss: 0.12795 | train_mse: 0.09439 | train_mae: 0.24289 |  0:00:07s\n",
      "epoch 86 | loss: 0.24292 | train_mse: 0.07611 | train_mae: 0.22495 |  0:00:07s\n",
      "epoch 87 | loss: 0.39028 | train_mse: 0.07296 | train_mae: 0.21797 |  0:00:08s\n"
     ]
    },
    {
     "name": "stdout",
     "output_type": "stream",
     "text": [
      "epoch 88 | loss: 0.10194 | train_mse: 0.07962 | train_mae: 0.22761 |  0:00:08s\n",
      "epoch 89 | loss: 0.16243 | train_mse: 0.20261 | train_mae: 0.29373 |  0:00:08s\n",
      "epoch 90 | loss: 0.15882 | train_mse: 0.25692 | train_mae: 0.29979 |  0:00:08s\n"
     ]
    },
    {
     "name": "stdout",
     "output_type": "stream",
     "text": [
      "epoch 91 | loss: 0.13159 | train_mse: 0.20262 | train_mae: 0.2794  |  0:00:08s\n",
      "epoch 92 | loss: 0.15908 | train_mse: 0.13916 | train_mae: 0.25481 |  0:00:08s\n",
      "epoch 93 | loss: 0.08692 | train_mse: 0.10104 | train_mae: 0.23013 |  0:00:08s\n"
     ]
    },
    {
     "name": "stdout",
     "output_type": "stream",
     "text": [
      "epoch 94 | loss: 0.112   | train_mse: 0.05989 | train_mae: 0.19281 |  0:00:08s\n",
      "epoch 95 | loss: 0.07754 | train_mse: 0.05998 | train_mae: 0.18859 |  0:00:08s\n",
      "epoch 96 | loss: 0.14555 | train_mse: 0.08026 | train_mae: 0.21284 |  0:00:08s\n"
     ]
    },
    {
     "name": "stdout",
     "output_type": "stream",
     "text": [
      "epoch 97 | loss: 0.11543 | train_mse: 0.08906 | train_mae: 0.22198 |  0:00:09s\n",
      "epoch 98 | loss: 0.12123 | train_mse: 0.0597  | train_mae: 0.19136 |  0:00:09s\n",
      "epoch 99 | loss: 0.07713 | train_mse: 0.07965 | train_mae: 0.2162  |  0:00:09s\n"
     ]
    },
    {
     "name": "stdout",
     "output_type": "stream",
     "text": [
      "epoch 100| loss: 0.15843 | train_mse: 0.14952 | train_mae: 0.26096 |  0:00:09s\n",
      "epoch 101| loss: 0.07657 | train_mse: 0.20534 | train_mae: 0.27704 |  0:00:09s\n",
      "epoch 102| loss: 0.1695  | train_mse: 0.22383 | train_mae: 0.28175 |  0:00:09s\n"
     ]
    },
    {
     "name": "stdout",
     "output_type": "stream",
     "text": [
      "epoch 103| loss: 0.0903  | train_mse: 0.20397 | train_mae: 0.27493 |  0:00:09s\n",
      "epoch 104| loss: 0.15975 | train_mse: 0.16434 | train_mae: 0.25801 |  0:00:09s\n",
      "epoch 105| loss: 0.1785  | train_mse: 0.12396 | train_mae: 0.23882 |  0:00:09s\n"
     ]
    },
    {
     "name": "stdout",
     "output_type": "stream",
     "text": [
      "epoch 106| loss: 0.09294 | train_mse: 0.10668 | train_mae: 0.22868 |  0:00:09s\n",
      "epoch 107| loss: 0.1426  | train_mse: 0.10657 | train_mae: 0.22623 |  0:00:09s\n",
      "epoch 108| loss: 0.1208  | train_mse: 0.09149 | train_mae: 0.21658 |  0:00:10s\n"
     ]
    },
    {
     "name": "stdout",
     "output_type": "stream",
     "text": [
      "epoch 109| loss: 0.36451 | train_mse: 0.11186 | train_mae: 0.23147 |  0:00:10s\n",
      "epoch 110| loss: 0.07416 | train_mse: 0.11813 | train_mae: 0.23165 |  0:00:10s\n",
      "epoch 111| loss: 0.14717 | train_mse: 0.1062  | train_mae: 0.22382 |  0:00:10s\n"
     ]
    },
    {
     "name": "stdout",
     "output_type": "stream",
     "text": [
      "epoch 112| loss: 0.08931 | train_mse: 0.09449 | train_mae: 0.20752 |  0:00:10s\n",
      "epoch 113| loss: 0.10332 | train_mse: 0.09416 | train_mae: 0.21222 |  0:00:10s\n",
      "epoch 114| loss: 0.14573 | train_mse: 0.1094  | train_mae: 0.22796 |  0:00:10s\n"
     ]
    },
    {
     "name": "stdout",
     "output_type": "stream",
     "text": [
      "epoch 115| loss: 0.06583 | train_mse: 0.14422 | train_mae: 0.25151 |  0:00:10s\n",
      "epoch 116| loss: 0.0902  | train_mse: 0.08725 | train_mae: 0.21243 |  0:00:10s\n",
      "epoch 117| loss: 0.07103 | train_mse: 0.05639 | train_mae: 0.18194 |  0:00:10s\n"
     ]
    },
    {
     "name": "stdout",
     "output_type": "stream",
     "text": [
      "epoch 118| loss: 0.15728 | train_mse: 0.07097 | train_mae: 0.1921  |  0:00:10s\n",
      "epoch 119| loss: 0.08381 | train_mse: 0.06078 | train_mae: 0.17664 |  0:00:10s\n",
      "epoch 120| loss: 0.1634  | train_mse: 0.0622  | train_mae: 0.18335 |  0:00:11s\n"
     ]
    },
    {
     "name": "stdout",
     "output_type": "stream",
     "text": [
      "epoch 121| loss: 0.09404 | train_mse: 0.05805 | train_mae: 0.18284 |  0:00:11s\n",
      "epoch 122| loss: 0.13848 | train_mse: 0.08103 | train_mae: 0.22575 |  0:00:11s\n",
      "epoch 123| loss: 0.10087 | train_mse: 0.09715 | train_mae: 0.22789 |  0:00:11s"
     ]
    },
    {
     "name": "stdout",
     "output_type": "stream",
     "text": [
      "\n",
      "epoch 124| loss: 0.14136 | train_mse: 0.09166 | train_mae: 0.21246 |  0:00:11s\n",
      "epoch 125| loss: 0.15602 | train_mse: 0.11652 | train_mae: 0.22452 |  0:00:11s\n"
     ]
    },
    {
     "name": "stdout",
     "output_type": "stream",
     "text": [
      "epoch 126| loss: 0.07657 | train_mse: 0.18638 | train_mae: 0.26256 |  0:00:11s\n",
      "epoch 127| loss: 0.1696  | train_mse: 0.28354 | train_mae: 0.3026  |  0:00:11s\n",
      "epoch 128| loss: 0.16268 | train_mse: 0.28252 | train_mae: 0.2948  |  0:00:11s\n"
     ]
    },
    {
     "name": "stdout",
     "output_type": "stream",
     "text": [
      "epoch 129| loss: 0.09524 | train_mse: 0.15037 | train_mae: 0.23403 |  0:00:11s\n",
      "epoch 130| loss: 0.08721 | train_mse: 0.08661 | train_mae: 0.20226 |  0:00:11s\n",
      "epoch 131| loss: 0.08287 | train_mse: 0.04457 | train_mae: 0.15712 |  0:00:11s\n"
     ]
    },
    {
     "name": "stdout",
     "output_type": "stream",
     "text": [
      "epoch 132| loss: 0.11722 | train_mse: 0.077   | train_mae: 0.19654 |  0:00:12s\n",
      "epoch 133| loss: 0.11042 | train_mse: 0.09404 | train_mae: 0.21092 |  0:00:12s\n",
      "epoch 134| loss: 0.11393 | train_mse: 0.07888 | train_mae: 0.19736 |  0:00:12s\n"
     ]
    },
    {
     "name": "stdout",
     "output_type": "stream",
     "text": [
      "epoch 135| loss: 0.11537 | train_mse: 0.04647 | train_mae: 0.159   |  0:00:12s\n",
      "epoch 136| loss: 0.07231 | train_mse: 0.05641 | train_mae: 0.17361 |  0:00:12s\n",
      "epoch 137| loss: 0.10897 | train_mse: 0.07225 | train_mae: 0.18641 |  0:00:12s\n"
     ]
    },
    {
     "name": "stdout",
     "output_type": "stream",
     "text": [
      "epoch 138| loss: 0.11466 | train_mse: 0.07891 | train_mae: 0.19151 |  0:00:12s\n",
      "epoch 139| loss: 0.10582 | train_mse: 0.08341 | train_mae: 0.1986  |  0:00:12s\n",
      "epoch 140| loss: 0.1058  | train_mse: 0.09858 | train_mae: 0.2133  |  0:00:12s\n"
     ]
    },
    {
     "name": "stdout",
     "output_type": "stream",
     "text": [
      "epoch 141| loss: 0.11654 | train_mse: 0.122   | train_mae: 0.24396 |  0:00:12s\n",
      "epoch 142| loss: 0.11216 | train_mse: 0.13971 | train_mae: 0.25063 |  0:00:12s\n",
      "epoch 143| loss: 0.16015 | train_mse: 0.16741 | train_mae: 0.25893 |  0:00:12s\n"
     ]
    },
    {
     "name": "stdout",
     "output_type": "stream",
     "text": [
      "epoch 144| loss: 0.08458 | train_mse: 0.18318 | train_mae: 0.27072 |  0:00:13s\n",
      "epoch 145| loss: 0.17053 | train_mse: 0.22963 | train_mae: 0.29973 |  0:00:13s\n",
      "epoch 146| loss: 0.1484  | train_mse: 0.23661 | train_mae: 0.28464 |  0:00:13s\n"
     ]
    },
    {
     "name": "stdout",
     "output_type": "stream",
     "text": [
      "epoch 147| loss: 0.25156 | train_mse: 0.11432 | train_mae: 0.22734 |  0:00:13s\n",
      "epoch 148| loss: 0.17034 | train_mse: 0.06586 | train_mae: 0.19917 |  0:00:13s\n",
      "epoch 149| loss: 0.11849 | train_mse: 0.06214 | train_mae: 0.19123 |  0:00:13s\n"
     ]
    },
    {
     "name": "stdout",
     "output_type": "stream",
     "text": [
      "epoch 150| loss: 0.10404 | train_mse: 0.04997 | train_mae: 0.16788 |  0:00:13s\n",
      "epoch 151| loss: 0.06532 | train_mse: 0.04353 | train_mae: 0.15944 |  0:00:13s\n",
      "epoch 152| loss: 0.15143 | train_mse: 0.04196 | train_mae: 0.15882 |  0:00:13s\n"
     ]
    },
    {
     "name": "stdout",
     "output_type": "stream",
     "text": [
      "epoch 153| loss: 0.16516 | train_mse: 0.05488 | train_mae: 0.17392 |  0:00:13s\n",
      "epoch 154| loss: 0.12131 | train_mse: 0.0802  | train_mae: 0.20058 |  0:00:13s\n",
      "epoch 155| loss: 0.10069 | train_mse: 0.11093 | train_mae: 0.22228 |  0:00:13s\n"
     ]
    },
    {
     "name": "stdout",
     "output_type": "stream",
     "text": [
      "epoch 156| loss: 0.12338 | train_mse: 0.07988 | train_mae: 0.19949 |  0:00:14s\n",
      "epoch 157| loss: 0.07516 | train_mse: 0.04831 | train_mae: 0.16387 |  0:00:14s\n",
      "epoch 158| loss: 0.06633 | train_mse: 0.05876 | train_mae: 0.18529 |  0:00:14s\n"
     ]
    },
    {
     "name": "stdout",
     "output_type": "stream",
     "text": [
      "epoch 159| loss: 0.1081  | train_mse: 0.07662 | train_mae: 0.20334 |  0:00:14s\n",
      "epoch 160| loss: 0.11207 | train_mse: 0.08865 | train_mae: 0.21592 |  0:00:14s\n",
      "epoch 161| loss: 0.08406 | train_mse: 0.06407 | train_mae: 0.18507 |  0:00:14s\n"
     ]
    },
    {
     "name": "stdout",
     "output_type": "stream",
     "text": [
      "epoch 162| loss: 0.10048 | train_mse: 0.05069 | train_mae: 0.16854 |  0:00:14s\n",
      "epoch 163| loss: 0.1628  | train_mse: 0.06431 | train_mae: 0.18579 |  0:00:14s\n",
      "epoch 164| loss: 0.09986 | train_mse: 0.05812 | train_mae: 0.1826  |  0:00:14s\n"
     ]
    },
    {
     "name": "stdout",
     "output_type": "stream",
     "text": [
      "epoch 165| loss: 0.14837 | train_mse: 0.05319 | train_mae: 0.17274 |  0:00:14s\n",
      "epoch 166| loss: 0.14307 | train_mse: 0.04853 | train_mae: 0.16512 |  0:00:14s\n",
      "epoch 167| loss: 0.1114  | train_mse: 0.06447 | train_mae: 0.19056 |  0:00:14s\n"
     ]
    },
    {
     "name": "stdout",
     "output_type": "stream",
     "text": [
      "epoch 168| loss: 0.11761 | train_mse: 0.08896 | train_mae: 0.21703 |  0:00:15s\n",
      "epoch 169| loss: 0.08562 | train_mse: 0.11845 | train_mae: 0.22792 |  0:00:15s\n",
      "epoch 170| loss: 0.21593 | train_mse: 0.13712 | train_mae: 0.2441  |  0:00:15s\n"
     ]
    },
    {
     "name": "stdout",
     "output_type": "stream",
     "text": [
      "epoch 171| loss: 0.15017 | train_mse: 0.14513 | train_mae: 0.2412  |  0:00:15s\n",
      "epoch 172| loss: 0.09175 | train_mse: 0.17751 | train_mae: 0.25354 |  0:00:15s\n"
     ]
    },
    {
     "name": "stdout",
     "output_type": "stream",
     "text": [
      "epoch 173| loss: 0.15815 | train_mse: 0.23434 | train_mae: 0.28289 |  0:00:15s\n",
      "epoch 174| loss: 0.13955 | train_mse: 0.25654 | train_mae: 0.29577 |  0:00:15s\n",
      "epoch 175| loss: 0.12128 | train_mse: 0.24713 | train_mae: 0.28211 |  0:00:15s\n"
     ]
    },
    {
     "name": "stdout",
     "output_type": "stream",
     "text": [
      "epoch 176| loss: 0.12873 | train_mse: 0.23002 | train_mae: 0.27319 |  0:00:15s\n",
      "epoch 177| loss: 0.15372 | train_mse: 0.16377 | train_mae: 0.24459 |  0:00:16s\n",
      "epoch 178| loss: 0.0718  | train_mse: 0.13422 | train_mae: 0.23128 |  0:00:16s\n"
     ]
    },
    {
     "name": "stdout",
     "output_type": "stream",
     "text": [
      "epoch 179| loss: 0.13887 | train_mse: 0.13377 | train_mae: 0.25042 |  0:00:16s\n",
      "epoch 180| loss: 0.13789 | train_mse: 0.16171 | train_mae: 0.27019 |  0:00:16s\n",
      "epoch 181| loss: 0.12106 | train_mse: 0.11769 | train_mae: 0.23    |  0:00:16s\n",
      "\n",
      "Early stopping occurred at epoch 181 with best_epoch = 131 and best_train_mae = 0.15712\n",
      "Best weights from best epoch are automatically used!\n"
     ]
    }
   ],
   "source": [
    "#Train the Model\n",
    "\n",
    "Y_train = np.reshape(Y_train, (-1, 1))\n",
    "Y_test = np.reshape(Y_test, (-1, 1))\n",
    "\n",
    "prior_model = TabNetRegressor(optimizer_fn=torch.optim.Adam, optimizer_params=dict(lr = 0.02),\n",
    "          #scheduler_params={\"step_size\":10, ], \"gamma\":0.9},\n",
    "          #scheduler_fn=torch.optim.lr_scheduler.StepLR\n",
    "          )  #TabNetRegressor()\n",
    "\n",
    "prior_model.fit(X_train,Y_train,eval_set=[(X_train, Y_train)],\n",
    "            eval_name=['train'], \n",
    "            eval_metric=[ 'mse', 'mae'], \n",
    "            max_epochs = n_epochs, \n",
    "            batch_size = batch_size,\n",
    "            patience=50\n",
    "            )"
   ]
  },
  {
   "cell_type": "code",
   "execution_count": 10,
   "id": "af65dcda",
   "metadata": {
    "execution": {
     "iopub.execute_input": "2022-06-22T14:08:09.532884Z",
     "iopub.status.busy": "2022-06-22T14:08:09.532024Z",
     "iopub.status.idle": "2022-06-22T14:08:09.556020Z",
     "shell.execute_reply": "2022-06-22T14:08:09.556576Z"
    },
    "id": "af65dcda",
    "papermill": {
     "duration": 0.092985,
     "end_time": "2022-06-22T14:08:09.556807",
     "exception": false,
     "start_time": "2022-06-22T14:08:09.463822",
     "status": "completed"
    },
    "tags": []
   },
   "outputs": [
    {
     "data": {
      "application/scrapbook.scrap.json+json": {
       "data": 0.24027025183343964,
       "encoder": "json",
       "name": "Prior Model MSE",
       "version": 1
      }
     },
     "metadata": {
      "scrapbook": {
       "data": true,
       "display": false,
       "name": "Prior Model MSE"
      }
     },
     "output_type": "display_data"
    },
    {
     "data": {
      "application/scrapbook.scrap.json+json": {
       "data": 1.9361844154189072,
       "encoder": "json",
       "name": "ABC Pre-generator MSE",
       "version": 1
      }
     },
     "metadata": {
      "scrapbook": {
       "data": true,
       "display": false,
       "name": "ABC Pre-generator MSE"
      }
     },
     "output_type": "display_data"
    },
    {
     "data": {
      "application/scrapbook.scrap.json+json": {
       "data": 0.3257340499685272,
       "encoder": "json",
       "name": "Prior Model MSE",
       "version": 1
      }
     },
     "metadata": {
      "scrapbook": {
       "data": true,
       "display": false,
       "name": "Prior Model MSE"
      }
     },
     "output_type": "display_data"
    },
    {
     "data": {
      "application/scrapbook.scrap.json+json": {
       "data": 1.1923472990820378,
       "encoder": "json",
       "name": "ABC Pre-generator MSE",
       "version": 1
      }
     },
     "metadata": {
      "scrapbook": {
       "data": true,
       "display": false,
       "name": "ABC Pre-generator MSE"
      }
     },
     "output_type": "display_data"
    }
   ],
   "source": [
    "y_pred = prior_model.predict(X_test)\n",
    "y_abc = y_pred + np.random.normal(0,variance, y_pred.shape) + bias \n",
    "mse = mean_squared_error(y_pred,Y_test)\n",
    "sb.glue(\"Prior Model MSE\",mse)\n",
    "mse = mean_squared_error(y_abc,Y_test)\n",
    "sb.glue(\"ABC Pre-generator MSE\",mse)\n",
    "mae = mean_absolute_error(y_pred,Y_test)\n",
    "sb.glue(\"Prior Model MSE\",mae)\n",
    "mae = mean_absolute_error(y_abc,Y_test)\n",
    "sb.glue(\"ABC Pre-generator MSE\",mae)"
   ]
  },
  {
   "cell_type": "markdown",
   "id": "25609da2",
   "metadata": {
    "papermill": {
     "duration": 0.056542,
     "end_time": "2022-06-22T14:08:09.657194",
     "exception": false,
     "start_time": "2022-06-22T14:08:09.600652",
     "status": "completed"
    },
    "tags": []
   },
   "source": [
    "# ABC GAN Model"
   ]
  },
  {
   "cell_type": "code",
   "execution_count": 11,
   "id": "dfc3464d",
   "metadata": {
    "execution": {
     "iopub.execute_input": "2022-06-22T14:08:09.745524Z",
     "iopub.status.busy": "2022-06-22T14:08:09.744434Z",
     "iopub.status.idle": "2022-06-22T14:08:09.747188Z",
     "shell.execute_reply": "2022-06-22T14:08:09.747665Z"
    },
    "papermill": {
     "duration": 0.051504,
     "end_time": "2022-06-22T14:08:09.748028",
     "exception": false,
     "start_time": "2022-06-22T14:08:09.696524",
     "status": "completed"
    },
    "tags": []
   },
   "outputs": [],
   "source": [
    "gen = network.Generator(n_features+1).to(device)\n",
    "disc = network.Discriminator(n_features+1).to(device)\n",
    "\n",
    "criterion = torch.nn.BCELoss()\n",
    "gen_opt = torch.optim.Adam(gen.parameters(), lr=0.001, betas=(0.5, 0.999))\n",
    "disc_opt = torch.optim.Adam(disc.parameters(), lr=0.001, betas=(0.5, 0.999))"
   ]
  },
  {
   "cell_type": "code",
   "execution_count": 12,
   "id": "b75fdd85",
   "metadata": {
    "execution": {
     "iopub.execute_input": "2022-06-22T14:08:09.833421Z",
     "iopub.status.busy": "2022-06-22T14:08:09.832567Z",
     "iopub.status.idle": "2022-06-22T14:09:09.848858Z",
     "shell.execute_reply": "2022-06-22T14:09:09.849346Z"
    },
    "papermill": {
     "duration": 60.066309,
     "end_time": "2022-06-22T14:09:09.849590",
     "exception": false,
     "start_time": "2022-06-22T14:08:09.783281",
     "status": "completed"
    },
    "tags": []
   },
   "outputs": [
    {
     "data": {
      "image/png": "[encoded data removed]",
      "text/plain": [
       "<Figure size 432x288 with 1 Axes>"
      ]
     },
     "metadata": {
      "needs_background": "light"
     },
     "output_type": "display_data"
    },
    {
     "data": {
      "image/png": "[encoded data removed]",
      "text/plain": [
       "<Figure size 432x288 with 1 Axes>"
      ]
     },
     "metadata": {
      "needs_background": "light"
     },
     "output_type": "display_data"
    }
   ],
   "source": [
    "#Training the ABC_GAN \n",
    "ABC_train_test2.training_GAN(disc,gen,disc_opt,gen_opt,train_data,batch_size,n_epochs,criterion,prior_model,variance,bias,device)"
   ]
  },
  {
   "cell_type": "code",
   "execution_count": 13,
   "id": "1fa7c368",
   "metadata": {
    "execution": {
     "iopub.execute_input": "2022-06-22T14:09:09.949270Z",
     "iopub.status.busy": "2022-06-22T14:09:09.943932Z",
     "iopub.status.idle": "2022-06-22T14:09:11.003836Z",
     "shell.execute_reply": "2022-06-22T14:09:11.004684Z"
    },
    "papermill": {
     "duration": 1.116819,
     "end_time": "2022-06-22T14:09:11.004956",
     "exception": false,
     "start_time": "2022-06-22T14:09:09.888137",
     "status": "completed"
    },
    "tags": []
   },
   "outputs": [
    {
     "data": {
      "application/scrapbook.scrap.json+json": {
       "data": 0.2808738173159516,
       "encoder": "json",
       "name": "ABC-GAN Model 1 MSE",
       "version": 1
      }
     },
     "metadata": {
      "scrapbook": {
       "data": true,
       "display": false,
       "name": "ABC-GAN Model 1 MSE"
      }
     },
     "output_type": "display_data"
    },
    {
     "data": {
      "application/scrapbook.scrap.json+json": {
       "data": 0.41018098582327367,
       "encoder": "json",
       "name": "ABC-GAN Model 1 MAE",
       "version": 1
      }
     },
     "metadata": {
      "scrapbook": {
       "data": true,
       "display": false,
       "name": "ABC-GAN Model 1 MAE"
      }
     },
     "output_type": "display_data"
    },
    {
     "data": {
      "application/scrapbook.scrap.json+json": {
       "data": 8.203619716465473,
       "encoder": "json",
       "name": "ABC-GAN Model 1 Manhattan Distance",
       "version": 1
      }
     },
     "metadata": {
      "scrapbook": {
       "data": true,
       "display": false,
       "name": "ABC-GAN Model 1 Manhattan Distance"
      }
     },
     "output_type": "display_data"
    },
    {
     "data": {
      "application/scrapbook.scrap.json+json": {
       "data": 2.359297282921504,
       "encoder": "json",
       "name": "ABC-GAN Model 1 Euclidean distance",
       "version": 1
      }
     },
     "metadata": {
      "scrapbook": {
       "data": true,
       "display": false,
       "name": "ABC-GAN Model 1 Euclidean distance"
      }
     },
     "output_type": "display_data"
    },
    {
     "data": {
      "application/scrapbook.scrap.json+json": {
       "data": [
        [
         0.2597284488121376,
         0.27208174378891803,
         0.23200035094901567,
         0.29712822067905303,
         0.2515758046660244,
         0.26401774306969783,
         0.2441914539725078,
         0.3549386418737598,
         0.2744674973872279,
         0.2770556428644628,
         0.25715880579932476,
         0.2874367486650481,
         0.28879277080009697,
         0.19785919071249575,
         0.2897136374966124,
         0.3052498071091484,
         0.28031197868999647,
         0.22626155683172336,
         0.2770832075362783,
         0.3528803684943645,
         0.3336603302201427,
         0.27714664880686113,
         0.32283474614985275,
         0.23674673945606042,
         0.29674908624998153,
         0.3131092793234235,
         0.19238966462593485,
         0.20556080964917411,
         0.20705119837685113,
         0.2723975926157083,
         0.20578800676103323,
         0.22738088073822754,
         0.43218493911088524,
         0.2941030207092302,
         0.2946746543594779,
         0.1728193067097183,
         0.2961687262935997,
         0.22749425377915608,
         0.2318880765275774,
         0.28687029803973835,
         0.22489225488411427,
         0.22975933505095023,
         0.19880367008844743,
         0.30341372533804234,
         0.333570723881669,
         0.2932576521997734,
         0.32258291012975115,
         0.3203614095639583,
         0.25218756479151355,
         0.3239605649199365,
         0.29619942653457637,
         0.29751337023637836,
         0.3365945881875374,
         0.34834721617162856,
         0.26167082725378765,
         0.29686979889347304,
         0.20278383331601516,
         0.2735707606982306,
         0.2441359448166934,
         0.2978317065691064,
         0.3719143523297998,
         0.4220107039034465,
         0.23000690917280914,
         0.2519576308045598,
         0.24340635552967543,
         0.22860221790259433,
         0.38743533509446343,
         0.27136807829965254,
         0.25030102853916,
         0.26122074022027664,
         0.3040673514390642,
         0.21316528723071637,
         0.19765697444760327,
         0.35560362989933914,
         0.27847920225881195,
         0.28016169379766,
         0.2173197808936612,
         0.26843197126657703,
         0.2652203786405591,
         0.3253415317902832,
         0.2848711599465739,
         0.34987519732499567,
         0.21990152678019684,
         0.4505226994777741,
         0.28634570087694994,
         0.21637208689314394,
         0.3514801831352562,
         0.2521244971212111,
         0.2301677664198957,
         0.2767251595114943,
         0.22626255261643013,
         0.26536579860798765,
         0.35317434381182133,
         0.3015446716295574,
         0.29061971378668944,
         0.27619939500383844,
         0.2904247729287971,
         0.28993999373126034,
         0.40302133352881564,
         0.37351286277564777
        ],
        [
         0.4092877505347133,
         0.41788037642836573,
         0.3777736373245716,
         0.4260117128491402,
         0.40157825853675605,
         0.4042272003367543,
         0.39806085992604495,
         0.44947290029376746,
         0.41459500342607497,
         0.4094343647360802,
         0.3948563985526562,
         0.40584659576416016,
         0.408175478130579,
         0.35679651275277136,
         0.4200069034472108,
         0.4283559016883373,
         0.40862339213490484,
         0.3819881699979305,
         0.4097429970279336,
         0.43298994898796084,
         0.4420642673969269,
         0.409691259264946,
         0.43236178141087295,
         0.4020200535655022,
         0.43328907024115326,
         0.43438301961869,
         0.36424448937177656,
         0.36674086805433037,
         0.36509144231677054,
         0.4118449350818992,
         0.36262697968631985,
         0.3865279691293836,
         0.48795571103692054,
         0.42107177842408416,
         0.4155980059877038,
         0.34275269508361816,
         0.42405300457030537,
         0.3885092243552208,
         0.38133501932024955,
         0.4191872043535113,
         0.37637659460306166,
         0.3871863940730691,
         0.364886779896915,
         0.42076669801026584,
         0.4429672688245773,
         0.41491579692810776,
         0.435147556103766,
         0.4323114721104503,
         0.4132905131205916,
         0.4469249812886119,
         0.4233740843832493,
         0.42165234833955767,
         0.42954170852899554,
         0.45340429004281757,
         0.39964957907795906,
         0.4255119487643242,
         0.3562094049528241,
         0.40396723598241807,
         0.3980788791552186,
         0.40951816122978923,
         0.44873313680291177,
         0.464795108884573,
         0.3856171056628227,
         0.37558397110551595,
         0.3917590143159032,
         0.38499422315508125,
         0.45390656366944315,
         0.4007450371980667,
         0.3868204802274704,
         0.4060740157961845,
         0.42077321633696557,
         0.3737866938114166,
         0.3568527102470398,
         0.46208441331982614,
         0.4116643026471138,
         0.42430773451924325,
         0.38477926310151817,
         0.39921845253556965,
         0.3937907038256526,
         0.4415309092029929,
         0.4150103969499469,
         0.4553899122402072,
         0.3728063993155956,
         0.44981505330652,
         0.4179380340501666,
         0.37763352412730455,
         0.44495869651436804,
         0.3866274915635586,
         0.38262289986014364,
         0.4125019138678908,
         0.3752755425870419,
         0.408639077283442,
         0.4326386652886868,
         0.42021717578172685,
         0.41511756721884013,
         0.4173229537904263,
         0.41903642416000364,
         0.42201208621263503,
         0.468819385766983,
         0.4531634895130992
        ],
        [
         8.185755010694265,
         8.357607528567314,
         7.555472746491432,
         8.520234256982803,
         8.03156517073512,
         8.084544006735086,
         7.961217198520899,
         8.989458005875349,
         8.2919000685215,
         8.188687294721603,
         7.8971279710531235,
         8.116931915283203,
         8.16350956261158,
         7.1359302550554276,
         8.400138068944216,
         8.567118033766747,
         8.172467842698097,
         7.6397633999586105,
         8.194859940558672,
         8.659798979759216,
         8.841285347938538,
         8.19382518529892,
         8.647235628217459,
         8.040401071310043,
         8.665781404823065,
         8.6876603923738,
         7.284889787435532,
         7.334817361086607,
         7.301828846335411,
         8.236898701637983,
         7.252539593726397,
         7.730559382587671,
         9.759114220738411,
         8.421435568481684,
         8.311960119754076,
         6.855053901672363,
         8.481060091406107,
         7.770184487104416,
         7.626700386404991,
         8.383744087070227,
         7.5275318920612335,
         7.743727881461382,
         7.297735597938299,
         8.415333960205317,
         8.859345376491547,
         8.298315938562155,
         8.70295112207532,
         8.646229442209005,
         8.265810262411833,
         8.938499625772238,
         8.467481687664986,
         8.433046966791153,
         8.59083417057991,
         9.068085800856352,
         7.992991581559181,
         8.510238975286484,
         7.124188099056482,
         8.079344719648361,
         7.961577583104372,
         8.190363224595785,
         8.974662736058235,
         9.29590217769146,
         7.7123421132564545,
         7.511679422110319,
         7.835180286318064,
         7.699884463101625,
         9.078131273388863,
         8.014900743961334,
         7.736409604549408,
         8.12148031592369,
         8.415464326739311,
         7.4757338762283325,
         7.137054204940796,
         9.241688266396523,
         8.233286052942276,
         8.486154690384865,
         7.695585262030363,
         7.984369050711393,
         7.875814076513052,
         8.830618184059858,
         8.300207938998938,
         9.107798244804144,
         7.4561279863119125,
         8.9963010661304,
         8.358760681003332,
         7.552670482546091,
         8.899173930287361,
         7.732549831271172,
         7.652457997202873,
         8.250038277357817,
         7.505510851740837,
         8.17278154566884,
         8.652773305773735,
         8.404343515634537,
         8.302351344376802,
         8.346459075808525,
         8.380728483200073,
         8.4402417242527,
         9.37638771533966,
         9.063269790261984
        ],
        [
         2.2791597083668256,
         2.3327312052138285,
         2.154067552093089,
         2.4377375604402256,
         2.243104120035557,
         2.2979022741174084,
         2.209938704907934,
         2.6643522359994365,
         2.3429361808945113,
         2.353956851195292,
         2.267857163929531,
         2.3976519708458444,
         2.4033009416221556,
         1.989267155072419,
         2.40712956650286,
         2.4708290394486965,
         2.367749896800743,
         2.1272590666476114,
         2.3540739475907646,
         2.656615773853511,
         2.5832550405259744,
         2.3543434278238218,
         2.5410027396673653,
         2.175990530567909,
         2.436181792272414,
         2.5024359305421724,
         1.9615792853001628,
         2.0276134229639244,
         2.0349506056749935,
         2.334084799726472,
         2.0287336284541313,
         2.132514387938462,
         2.9400167996488906,
         2.4252959436292727,
         2.4276517639870754,
         1.859135856841658,
         2.4337983741205833,
         2.1330459619012245,
         2.1535462684956523,
         2.395288283442051,
         2.1208123673918644,
         2.1436386591538708,
         1.9940093785559156,
         2.4633867960109,
         2.5829081434757564,
         2.421807804924963,
         2.5400114571779047,
         2.5312503217341358,
         2.245829756644584,
         2.5454294919323006,
         2.4339245121185513,
         2.4393169955394414,
         2.5945889392639345,
         2.6394969830315342,
         2.2876661786798684,
         2.436677241217938,
         2.0138710649692304,
         2.339105644036757,
         2.209687511014593,
         2.44062166903888,
         2.7273223217280345,
         2.9052046533882825,
         2.144793272895125,
         2.244805696734396,
         2.2063832646649377,
         2.138233934360758,
         2.783649888525723,
         2.32966984055532,
         2.237413813040225,
         2.2856978812619864,
         2.4660387322143347,
         2.0647774080065693,
         1.988250358720467,
         2.666846939362434,
         2.359996619738308,
         2.3671150956286855,
         2.084801097916351,
         2.3170324610008253,
         2.3031299513512438,
         2.5508490029411117,
         2.3869275646595307,
         2.645279559233752,
         2.097148191140515,
         3.0017418259329838,
         2.3930971600708144,
         2.080250402683023,
         2.6513399749381676,
         2.2455489178426333,
         2.1455431313301334,
         2.3525524840542635,
         2.127263747711741,
         2.3037612663120615,
         2.657722121711829,
         2.4557877417625384,
         2.410890763957129,
         2.3503165531640136,
         2.410082043951189,
         2.4080697403989793,
         2.839089056471514,
         2.73317713577312
        ]
       ],
       "encoder": "json",
       "name": "ABC_GAN_1 Metrics",
       "version": 1
      }
     },
     "metadata": {
      "scrapbook": {
       "data": true,
       "display": false,
       "name": "ABC_GAN_1 Metrics"
      }
     },
     "output_type": "display_data"
    },
    {
     "name": "stdout",
     "output_type": "stream",
     "text": [
      "MSE\n",
      "0.2808738173159516\n"
     ]
    }
   ],
   "source": [
    "ABC_GAN1_metrics=ABC_train_test2.test_generator(gen,test_data,prior_model,variance,bias,\"1\",device)\n",
    "sb.glue(\"ABC_GAN_1 Metrics\",ABC_GAN1_metrics)\n",
    "\n",
    "print(\"MSE\")\n",
    "print(mean(ABC_GAN1_metrics[0]))"
   ]
  },
  {
   "cell_type": "code",
   "execution_count": 14,
   "id": "eb22ce5c",
   "metadata": {
    "execution": {
     "iopub.execute_input": "2022-06-22T14:09:11.123015Z",
     "iopub.status.busy": "2022-06-22T14:09:11.122284Z",
     "iopub.status.idle": "2022-06-22T14:09:12.027556Z",
     "shell.execute_reply": "2022-06-22T14:09:12.028114Z"
    },
    "papermill": {
     "duration": 0.974351,
     "end_time": "2022-06-22T14:09:12.028338",
     "exception": false,
     "start_time": "2022-06-22T14:09:11.053987",
     "status": "completed"
    },
    "tags": []
   },
   "outputs": [
    {
     "data": {
      "image/png": "[encoded data removed]",
      "text/plain": [
       "<Figure size 432x288 with 1 Axes>"
      ]
     },
     "metadata": {
      "needs_background": "light"
     },
     "output_type": "display_data"
    },
    {
     "data": {
      "image/png": "[encoded data removed]",
      "text/plain": [
       "<Figure size 432x288 with 1 Axes>"
      ]
     },
     "metadata": {
      "needs_background": "light"
     },
     "output_type": "display_data"
    },
    {
     "data": {
      "image/png": "[encoded data removed]",
      "text/plain": [
       "<Figure size 432x288 with 1 Axes>"
      ]
     },
     "metadata": {
      "needs_background": "light"
     },
     "output_type": "display_data"
    },
    {
     "data": {
      "image/png": "[encoded data removed]",
      "text/plain": [
       "<Figure size 432x288 with 1 Axes>"
      ]
     },
     "metadata": {
      "needs_background": "light"
     },
     "output_type": "display_data"
    }
   ],
   "source": [
    "sanityChecks.discProbVsError(train_data,disc,device)\n",
    "sanityChecks.discProbVsError(test_data,disc,device)"
   ]
  },
  {
   "cell_type": "markdown",
   "id": "130f3a4d",
   "metadata": {
    "id": "130f3a4d",
    "papermill": {
     "duration": 0.050288,
     "end_time": "2022-06-22T14:09:12.124162",
     "exception": false,
     "start_time": "2022-06-22T14:09:12.073874",
     "status": "completed"
    },
    "tags": []
   },
   "source": [
    "# ABC - GAN Model with skip connection"
   ]
  },
  {
   "cell_type": "code",
   "execution_count": 15,
   "id": "4e43dad1",
   "metadata": {
    "execution": {
     "iopub.execute_input": "2022-06-22T14:09:12.274184Z",
     "iopub.status.busy": "2022-06-22T14:09:12.269490Z",
     "iopub.status.idle": "2022-06-22T14:09:12.280322Z",
     "shell.execute_reply": "2022-06-22T14:09:12.280903Z"
    },
    "id": "4e43dad1",
    "papermill": {
     "duration": 0.087464,
     "end_time": "2022-06-22T14:09:12.281152",
     "exception": false,
     "start_time": "2022-06-22T14:09:12.193688",
     "status": "completed"
    },
    "tags": []
   },
   "outputs": [],
   "source": [
    "#Generator\n",
    "gen3 = network.GeneratorWithSkipConnection(n_features+1).to(device)\n",
    "constraints=network.weightConstraint()\n",
    "#Discriminator \n",
    "disc3 = network.Discriminator(n_features+1).to(device)\n",
    "\n",
    "criterion = torch.nn.BCELoss()\n",
    "gen_opt = torch.optim.Adam(gen3.parameters(), lr=0.001, betas=(0.5, 0.999))\n",
    "disc_opt = torch.optim.Adam(disc3.parameters(), lr=0.001, betas=(0.5, 0.999))\n"
   ]
  },
  {
   "cell_type": "code",
   "execution_count": 16,
   "id": "26acbc37",
   "metadata": {
    "execution": {
     "iopub.execute_input": "2022-06-22T14:09:12.448006Z",
     "iopub.status.busy": "2022-06-22T14:09:12.447091Z",
     "iopub.status.idle": "2022-06-22T14:10:38.778116Z",
     "shell.execute_reply": "2022-06-22T14:10:38.778613Z"
    },
    "id": "26acbc37",
    "papermill": {
     "duration": 86.438269,
     "end_time": "2022-06-22T14:10:38.778839",
     "exception": false,
     "start_time": "2022-06-22T14:09:12.340570",
     "status": "completed"
    },
    "tags": []
   },
   "outputs": [
    {
     "data": {
      "image/png": "[encoded data removed]",
      "text/plain": [
       "<Figure size 432x288 with 1 Axes>"
      ]
     },
     "metadata": {
      "needs_background": "light"
     },
     "output_type": "display_data"
    },
    {
     "data": {
      "image/png": "[encoded data removed]",
      "text/plain": [
       "<Figure size 432x288 with 1 Axes>"
      ]
     },
     "metadata": {
      "needs_background": "light"
     },
     "output_type": "display_data"
    }
   ],
   "source": [
    "ABC_train_test2.training_GAN_skip_connection(disc3,gen3,disc_opt,gen_opt,train_data,batch_size,n_epochs,criterion,prior_model,variance,bias,device)"
   ]
  },
  {
   "cell_type": "code",
   "execution_count": 17,
   "id": "c5e0717b",
   "metadata": {
    "execution": {
     "iopub.execute_input": "2022-06-22T14:10:38.903212Z",
     "iopub.status.busy": "2022-06-22T14:10:38.902448Z",
     "iopub.status.idle": "2022-06-22T14:10:39.947847Z",
     "shell.execute_reply": "2022-06-22T14:10:39.950030Z"
    },
    "id": "c5e0717b",
    "papermill": {
     "duration": 1.122606,
     "end_time": "2022-06-22T14:10:39.950437",
     "exception": false,
     "start_time": "2022-06-22T14:10:38.827831",
     "status": "completed"
    },
    "tags": []
   },
   "outputs": [
    {
     "data": {
      "application/scrapbook.scrap.json+json": {
       "data": 0.4756686904287298,
       "encoder": "json",
       "name": "ABC-GAN Model 3 MSE",
       "version": 1
      }
     },
     "metadata": {
      "scrapbook": {
       "data": true,
       "display": false,
       "name": "ABC-GAN Model 3 MSE"
      }
     },
     "output_type": "display_data"
    },
    {
     "data": {
      "application/scrapbook.scrap.json+json": {
       "data": 0.5047010554913431,
       "encoder": "json",
       "name": "ABC-GAN Model 3 MAE",
       "version": 1
      }
     },
     "metadata": {
      "scrapbook": {
       "data": true,
       "display": false,
       "name": "ABC-GAN Model 3 MAE"
      }
     },
     "output_type": "display_data"
    },
    {
     "data": {
      "application/scrapbook.scrap.json+json": {
       "data": 10.094021109826862,
       "encoder": "json",
       "name": "ABC-GAN Model 3 Manhattan Distance",
       "version": 1
      }
     },
     "metadata": {
      "scrapbook": {
       "data": true,
       "display": false,
       "name": "ABC-GAN Model 3 Manhattan Distance"
      }
     },
     "output_type": "display_data"
    },
    {
     "data": {
      "application/scrapbook.scrap.json+json": {
       "data": 3.074067221979241,
       "encoder": "json",
       "name": "ABC-GAN Model 3 Euclidean distance",
       "version": 1
      }
     },
     "metadata": {
      "scrapbook": {
       "data": true,
       "display": false,
       "name": "ABC-GAN Model 3 Euclidean distance"
      }
     },
     "output_type": "display_data"
    },
    {
     "data": {
      "application/scrapbook.scrap.json+json": {
       "data": [
        [
         0.43607222391033656,
         0.45597127816905464,
         0.34857794913867124,
         0.4107535692433629,
         0.5400570502929343,
         0.3952094657965678,
         0.4128964936226295,
         0.3840060786939216,
         0.4539073872971738,
         0.4651015028160012,
         0.5425952881005257,
         0.4439493413206302,
         0.39317740688216574,
         0.5195171165320198,
         0.4613368517719675,
         0.35843356080889227,
         0.5405152418014924,
         0.49172554412353475,
         0.544557107104399,
         0.42453257250180443,
         0.548126710054731,
         0.3613560991691032,
         0.586006533168858,
         0.3936212464581853,
         0.4111085773499058,
         0.519438433752077,
         0.4026717087368793,
         0.4256236829609394,
         0.5279826208696672,
         0.38805872981852907,
         0.5120485026385718,
         0.6435034681912077,
         0.3939533922498083,
         0.43120654511489465,
         0.5952834010641949,
         0.5536856994724237,
         0.5601987563916359,
         0.5120998956158098,
         0.5293215109088371,
         0.46452235499491507,
         0.6205573643674305,
         0.3549869846892352,
         0.5605656341267513,
         0.3790889824271479,
         0.5246370476794846,
         0.5491195716363645,
         0.5514689048375423,
         0.5771267920083456,
         0.4251098702630536,
         0.5177561397613133,
         0.4417060620712549,
         0.49851134430290606,
         0.41482809163882023,
         0.35752540084875023,
         0.5852584267134311,
         0.5369197174173352,
         0.5587687425433945,
         0.6144837099521177,
         0.423277309965888,
         0.5369494227926903,
         0.5175729965599922,
         0.41710342208972023,
         0.596025211749318,
         0.4573341858456145,
         0.5722819133939812,
         0.3873344113454918,
         0.41373705316455595,
         0.5244432253444206,
         0.35893887528284635,
         0.4446859347757107,
         0.531878696214863,
         0.6179348098474721,
         0.39760547413101366,
         0.4390502640097285,
         0.3734285762870117,
         0.5107775899789713,
         0.33745085916715895,
         0.4336009539596454,
         0.39507873852327197,
         0.45020383769255934,
         0.5634705758517708,
         0.6374469052716758,
         0.4226592381298673,
         0.46875597270361674,
         0.48396673147469843,
         0.40270848300740425,
         0.38410824086489664,
         0.4254854304998867,
         0.5841843645334663,
         0.5072481055041405,
         0.47590540716760776,
         0.4861423522258205,
         0.4517357870678186,
         0.3891756256993674,
         0.45173814061873596,
         0.3815007450571523,
         0.6226469229405472,
         0.40803194581767543,
         0.5185307539002577,
         0.5136038662207056
        ],
        [
         0.4961879687383771,
         0.4880285168066621,
         0.4358620887622237,
         0.47687073294073345,
         0.5043401909992099,
         0.48560983072966335,
         0.4788199597969651,
         0.47687624488025904,
         0.49717526230961084,
         0.49821087811142206,
         0.5437251159921288,
         0.4734675409272313,
         0.4257489720359445,
         0.5238651791587472,
         0.5015661308541894,
         0.4270288163796067,
         0.5480797613039613,
         0.5282127847895026,
         0.580350267328322,
         0.48922918979078533,
         0.5511056629940867,
         0.4460799487307668,
         0.53999831546098,
         0.4714393811300397,
         0.47950542215257885,
         0.5427829334512353,
         0.46954393181949855,
         0.46121322456747293,
         0.5206859489902854,
         0.4811844268813729,
         0.5115580199286341,
         0.5955723339691759,
         0.48186202365905045,
         0.48185189832001923,
         0.5433433691039682,
         0.5306032495573163,
         0.5611350560560823,
         0.5316782863810658,
         0.5368234047666192,
         0.5248863497748971,
         0.5775074588134885,
         0.44562170226126907,
         0.5454741904512048,
         0.43390291277319193,
         0.515142815746367,
         0.5380694920197129,
         0.5517473468557,
         0.5401707807555794,
         0.4789947235956788,
         0.5069490136578679,
         0.4894465425983071,
         0.5157747888937593,
         0.4737048665061593,
         0.39644015971571206,
         0.5618799010291695,
         0.5200887778773904,
         0.5396059462800622,
         0.578815102763474,
         0.4510639974847436,
         0.5159035550430418,
         0.5224177474156022,
         0.5109479779377579,
         0.5971190029755234,
         0.5171051692217589,
         0.5436229171231389,
         0.47789462748914957,
         0.48340079579502343,
         0.543516987003386,
         0.4674432137981057,
         0.47995935175567866,
         0.518068234808743,
         0.5577135371044278,
         0.4579175615683198,
         0.5236227402463556,
         0.4468771619722247,
         0.537304556928575,
         0.4199091577902436,
         0.4814159804955125,
         0.4794806810095906,
         0.448746288754046,
         0.5463481465354562,
         0.5517500812187791,
         0.5017489643767477,
         0.5234289610758424,
         0.49720491040498016,
         0.4719657802954316,
         0.46221001241356136,
         0.4814053224399686,
         0.5331826919689775,
         0.5145712280645967,
         0.492985369451344,
         0.4979047471657395,
         0.48319606129080056,
         0.4832467971369624,
         0.4990467319265008,
         0.48264419604092834,
         0.5966377729550004,
         0.43271770868450404,
         0.5503833988681436,
         0.534630280174315
        ],
        [
         9.923759374767542,
         9.760570336133242,
         8.717241775244474,
         9.537414658814669,
         10.086803819984198,
         9.712196614593267,
         9.576399195939302,
         9.53752489760518,
         9.943505246192217,
         9.964217562228441,
         10.874502319842577,
         9.469350818544626,
         8.51497944071889,
         10.477303583174944,
         10.031322617083788,
         8.540576327592134,
         10.961595226079226,
         10.564255695790052,
         11.607005346566439,
         9.784583795815706,
         11.022113259881735,
         8.921598974615335,
         10.799966309219599,
         9.428787622600794,
         9.590108443051577,
         10.855658669024706,
         9.39087863638997,
         9.224264491349459,
         10.413718979805708,
         9.623688537627459,
         10.231160398572683,
         11.911446679383516,
         9.63724047318101,
         9.637037966400385,
         10.866867382079363,
         10.612064991146326,
         11.222701121121645,
         10.633565727621317,
         10.736468095332384,
         10.497726995497942,
         11.55014917626977,
         8.912434045225382,
         10.909483809024096,
         8.678058255463839,
         10.30285631492734,
         10.761389840394258,
         11.034946937114,
         10.80341561511159,
         9.579894471913576,
         10.138980273157358,
         9.788930851966143,
         10.315495777875185,
         9.474097330123186,
         7.928803194314241,
         11.237598020583391,
         10.401775557547808,
         10.792118925601244,
         11.57630205526948,
         9.021279949694872,
         10.318071100860834,
         10.448354948312044,
         10.21895955875516,
         11.94238005951047,
         10.342103384435177,
         10.872458342462778,
         9.557892549782991,
         9.668015915900469,
         10.87033974006772,
         9.348864275962114,
         9.599187035113573,
         10.36136469617486,
         11.154270742088556,
         9.158351231366396,
         10.47245480492711,
         8.937543239444494,
         10.7460911385715,
         8.398183155804873,
         9.62831960991025,
         9.589613620191813,
         8.97492577508092,
         10.926962930709124,
         11.035001624375582,
         10.034979287534952,
         10.468579221516848,
         9.944098208099604,
         9.439315605908632,
         9.244200248271227,
         9.628106448799372,
         10.663653839379549,
         10.291424561291933,
         9.85970738902688,
         9.95809494331479,
         9.663921225816011,
         9.664935942739248,
         9.980934638530016,
         9.652883920818567,
         11.932755459100008,
         8.65435417369008,
         11.007667977362871,
         10.6926056034863
        ],
        [
         2.9532091829409457,
         3.0198386651245284,
         2.6403709933972204,
         2.8661945825200457,
         3.2865089389591935,
         2.811439011597327,
         2.8736614053246754,
         2.771303226620723,
         3.012996472939103,
         3.0499229590794625,
         3.294223089289873,
         2.9797628809038823,
         2.804201871770881,
         3.2234053934682794,
         3.0375544497900524,
         2.6774374345963428,
         3.287902802095865,
         3.1360023728420066,
         3.3001730472943347,
         2.9138722432591457,
         3.3109717910448317,
         2.6883307057321026,
         3.423467637261547,
         2.8057841914808246,
         2.8674329193545427,
         3.2231612859181498,
         2.8378573210677076,
         2.917614378086794,
         3.2495618808376836,
         2.7858884752212503,
         3.200151567156068,
         3.5874878904080156,
         2.806967731377788,
         2.9366870623711154,
         3.450459102972226,
         3.3277190370355,
         3.347233951762666,
         3.200312158573941,
         3.2536794891594254,
         3.0480234743023717,
         3.522945825207735,
         2.6645336728562286,
         3.3483298347885357,
         2.753503159348643,
         3.239250060367321,
         3.3139691357535734,
         3.3210507519083245,
         3.397430770474494,
         2.915852774963282,
         3.2179376617992874,
         2.9722249648075256,
         3.1575666083327714,
         2.8803752937380236,
         2.6740433835252193,
         3.4212817092821544,
         3.276948938928818,
         3.3429589962887505,
         3.5056631610926843,
         2.909561169543916,
         3.2770395871661067,
         3.217368479238871,
         2.888263914844764,
         3.452608323425401,
         3.0243484780878496,
         3.3831402968070394,
         2.7832873058507337,
         2.876584965421866,
         3.2386516495122493,
         2.6793240762656776,
         2.982233843197782,
         3.2615293842455655,
         3.5154937344488957,
         2.819948489355838,
         2.9632761059669366,
         2.7328687355488253,
         3.196177685858442,
         2.597887061314094,
         2.9448292105303673,
         2.810973989645838,
         3.0006793820485367,
         3.356994417188598,
         3.570565516193971,
         2.907436114964067,
         3.061881685185163,
         3.111162906293074,
         2.8379869027442823,
         2.771671845168171,
         2.9171404851322698,
         3.418140911470638,
         3.185115713766583,
         3.085143131744807,
         3.1181480151712506,
         3.005780388078339,
         2.789894713781749,
         3.005788218150893,
         2.762248160673303,
         3.5288721227625897,
         2.8566832019587873,
         3.220343937843465,
         3.2050081629247233
        ]
       ],
       "encoder": "json",
       "name": "ABC_GAN_3 Metrics",
       "version": 1
      }
     },
     "metadata": {
      "scrapbook": {
       "data": true,
       "display": false,
       "name": "ABC_GAN_3 Metrics"
      }
     },
     "output_type": "display_data"
    },
    {
     "name": "stdout",
     "output_type": "stream",
     "text": [
      "MSE\n",
      "0.4756686904287298\n"
     ]
    }
   ],
   "source": [
    "ABC_GAN3_metrics=ABC_train_test2.test_generator(gen3,test_data,prior_model,variance,bias,\"3\",device)\n",
    "sb.glue(\"ABC_GAN_3 Metrics\",ABC_GAN3_metrics)\n",
    "\n",
    "print(\"MSE\")\n",
    "print(mean(ABC_GAN3_metrics[0]))"
   ]
  },
  {
   "cell_type": "code",
   "execution_count": 18,
   "id": "c8e46b48",
   "metadata": {
    "execution": {
     "iopub.execute_input": "2022-06-22T14:10:40.072947Z",
     "iopub.status.busy": "2022-06-22T14:10:40.072211Z",
     "iopub.status.idle": "2022-06-22T14:10:40.984378Z",
     "shell.execute_reply": "2022-06-22T14:10:40.984916Z"
    },
    "id": "c8e46b48",
    "papermill": {
     "duration": 0.981855,
     "end_time": "2022-06-22T14:10:40.985149",
     "exception": false,
     "start_time": "2022-06-22T14:10:40.003294",
     "status": "completed"
    },
    "tags": []
   },
   "outputs": [
    {
     "data": {
      "image/png": "[encoded data removed]",
      "text/plain": [
       "<Figure size 432x288 with 1 Axes>"
      ]
     },
     "metadata": {
      "needs_background": "light"
     },
     "output_type": "display_data"
    },
    {
     "data": {
      "image/png": "[encoded data removed]",
      "text/plain": [
       "<Figure size 432x288 with 1 Axes>"
      ]
     },
     "metadata": {
      "needs_background": "light"
     },
     "output_type": "display_data"
    },
    {
     "data": {
      "image/png": "[encoded data removed]",
      "text/plain": [
       "<Figure size 432x288 with 1 Axes>"
      ]
     },
     "metadata": {
      "needs_background": "light"
     },
     "output_type": "display_data"
    },
    {
     "data": {
      "image/png": "[encoded data removed]",
      "text/plain": [
       "<Figure size 432x288 with 1 Axes>"
      ]
     },
     "metadata": {
      "needs_background": "light"
     },
     "output_type": "display_data"
    }
   ],
   "source": [
    "sanityChecks.discProbVsError(train_data,disc3,device)\n",
    "sanityChecks.discProbVsError(test_data,disc3,device)"
   ]
  },
  {
   "cell_type": "markdown",
   "id": "a5bd74c3",
   "metadata": {
    "id": "a5bd74c3",
    "papermill": {
     "duration": 0.119847,
     "end_time": "2022-06-22T14:10:41.171097",
     "exception": false,
     "start_time": "2022-06-22T14:10:41.051250",
     "status": "completed"
    },
    "tags": []
   },
   "source": [
    "## Skip Connection Model Analysis - ABC-GAN "
   ]
  },
  {
   "cell_type": "markdown",
   "id": "5744a8bf",
   "metadata": {
    "id": "5744a8bf",
    "papermill": {
     "duration": 0.067997,
     "end_time": "2022-06-22T14:10:41.300219",
     "exception": false,
     "start_time": "2022-06-22T14:10:41.232222",
     "status": "completed"
    },
    "tags": []
   },
   "source": [
    "### Weight Analysis \n",
    "\n",
    "Study the weights of the skip connection layer\n",
    "\n",
    "Equation of the skip connection is \n",
    "\n",
    "$output = y_{gan} * w + y_{abc} * (1-w)$"
   ]
  },
  {
   "cell_type": "code",
   "execution_count": 19,
   "id": "52c31dea",
   "metadata": {
    "execution": {
     "iopub.execute_input": "2022-06-22T14:10:41.465437Z",
     "iopub.status.busy": "2022-06-22T14:10:41.464641Z",
     "iopub.status.idle": "2022-06-22T14:10:41.471587Z",
     "shell.execute_reply": "2022-06-22T14:10:41.472207Z"
    },
    "id": "52c31dea",
    "papermill": {
     "duration": 0.108192,
     "end_time": "2022-06-22T14:10:41.472515",
     "exception": false,
     "start_time": "2022-06-22T14:10:41.364323",
     "status": "completed"
    },
    "tags": []
   },
   "outputs": [
    {
     "name": "stdout",
     "output_type": "stream",
     "text": [
      "Weight of the node at skip connection\n",
      "Parameter containing:\n",
      "tensor([[0.2813]], requires_grad=True)\n"
     ]
    },
    {
     "data": {
      "application/scrapbook.scrap.json+json": {
       "data": 0.28126710653305054,
       "encoder": "json",
       "name": "Skip Connection Weight",
       "version": 1
      }
     },
     "metadata": {
      "scrapbook": {
       "data": true,
       "display": false,
       "name": "Skip Connection Weight"
      }
     },
     "output_type": "display_data"
    }
   ],
   "source": [
    "print(\"Weight of the node at skip connection\")\n",
    "for name,param in gen3.named_parameters():\n",
    "    if(name == \"skipNode.weight\"):\n",
    "        print(param)\n",
    "        sb.glue(\"Skip Connection Weight\",param.item())"
   ]
  }
 ],
 "metadata": {
  "colab": {
   "collapsed_sections": [],
   "name": "ABC_GAN_Model-Catboost_Pre-gen.ipynb",
   "provenance": []
  },
  "interpreter": {
   "hash": "31f2aee4e71d21fbe5cf8b01ff0e069b9275f58929596ceb00d14d90e3e16cd6"
  },
  "kernelspec": {
   "display_name": "Python 3 (ipykernel)",
   "language": "python",
   "name": "python3"
  },
  "language_info": {
   "codemirror_mode": {
    "name": "ipython",
    "version": 3
   },
   "file_extension": ".py",
   "mimetype": "text/x-python",
   "name": "python",
   "nbconvert_exporter": "python",
   "pygments_lexer": "ipython3",
   "version": "3.8.3"
  },
  "papermill": {
   "default_parameters": {},
   "duration": 179.226224,
   "end_time": "2022-06-22T14:10:42.508200",
   "environment_variables": {},
   "exception": null,
   "input_path": "ABC_GAN-TabNet.ipynb",
   "output_path": "./ABC_GAN_TabNet/ABC-GAN_output_6_0.ipynb",
   "parameters": {
    "bias": 1,
    "variance": 1
   },
   "start_time": "2022-06-22T14:07:43.281976",
   "version": "2.3.3"
  }
 },
 "nbformat": 4,
 "nbformat_minor": 5
}