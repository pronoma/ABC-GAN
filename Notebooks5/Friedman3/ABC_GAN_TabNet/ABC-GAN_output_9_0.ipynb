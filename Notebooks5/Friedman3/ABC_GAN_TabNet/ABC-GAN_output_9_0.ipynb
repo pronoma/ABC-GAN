{
 "cells": [
  {
   "cell_type": "markdown",
   "id": "622780e6",
   "metadata": {
    "id": "622780e6",
    "papermill": {
     "duration": 0.029774,
     "end_time": "2022-06-22T15:50:08.740790",
     "exception": false,
     "start_time": "2022-06-22T15:50:08.711016",
     "status": "completed"
    },
    "tags": []
   },
   "source": [
    "## Import Libraries "
   ]
  },
  {
   "cell_type": "code",
   "execution_count": 1,
   "id": "a62397e3",
   "metadata": {
    "execution": {
     "iopub.execute_input": "2022-06-22T15:50:08.830191Z",
     "iopub.status.busy": "2022-06-22T15:50:08.826691Z",
     "iopub.status.idle": "2022-06-22T15:50:08.834468Z",
     "shell.execute_reply": "2022-06-22T15:50:08.840829Z"
    },
    "id": "a62397e3",
    "papermill": {
     "duration": 0.073285,
     "end_time": "2022-06-22T15:50:08.841435",
     "exception": false,
     "start_time": "2022-06-22T15:50:08.768150",
     "status": "completed"
    },
    "tags": []
   },
   "outputs": [],
   "source": [
    "import warnings\n",
    "import sys\n",
    "sys.path.insert(0, '../../src')\n",
    "warnings.filterwarnings('ignore')"
   ]
  },
  {
   "cell_type": "code",
   "execution_count": 2,
   "id": "d6a4e155",
   "metadata": {
    "execution": {
     "iopub.execute_input": "2022-06-22T15:50:08.914828Z",
     "iopub.status.busy": "2022-06-22T15:50:08.913867Z",
     "iopub.status.idle": "2022-06-22T15:50:20.632706Z",
     "shell.execute_reply": "2022-06-22T15:50:20.636698Z"
    },
    "id": "d6a4e155",
    "papermill": {
     "duration": 11.766694,
     "end_time": "2022-06-22T15:50:20.637167",
     "exception": false,
     "start_time": "2022-06-22T15:50:08.870473",
     "status": "completed"
    },
    "tags": []
   },
   "outputs": [],
   "source": [
    "import ABC_train_test2\n",
    "import friedman3Dataset\n",
    "import network\n",
    "import dataset\n",
    "import sanityChecks\n",
    "import torch \n",
    "import scrapbook as sb\n",
    "from statistics import mean \n",
    "import catboost as ctb \n",
    "from sklearn.model_selection import train_test_split\n",
    "from sklearn.metrics import mean_squared_error,mean_absolute_error\n",
    "import numpy as np\n",
    "from pytorch_tabnet.tab_model import TabNetRegressor"
   ]
  },
  {
   "cell_type": "markdown",
   "id": "2fa5b0f7",
   "metadata": {
    "id": "2fa5b0f7",
    "papermill": {
     "duration": 0.021961,
     "end_time": "2022-06-22T15:50:20.683036",
     "exception": false,
     "start_time": "2022-06-22T15:50:20.661075",
     "status": "completed"
    },
    "tags": []
   },
   "source": [
    "## Parameters "
   ]
  },
  {
   "cell_type": "code",
   "execution_count": 3,
   "id": "783186fb",
   "metadata": {
    "execution": {
     "iopub.execute_input": "2022-06-22T15:50:20.879313Z",
     "iopub.status.busy": "2022-06-22T15:50:20.874757Z",
     "iopub.status.idle": "2022-06-22T15:50:20.880899Z",
     "shell.execute_reply": "2022-06-22T15:50:20.881878Z"
    },
    "id": "783186fb",
    "papermill": {
     "duration": 0.075533,
     "end_time": "2022-06-22T15:50:20.882189",
     "exception": false,
     "start_time": "2022-06-22T15:50:20.806656",
     "status": "completed"
    },
    "tags": [
     "parameters"
    ]
   },
   "outputs": [],
   "source": [
    "variance = 1\n",
    "bias = 1 "
   ]
  },
  {
   "cell_type": "code",
   "execution_count": 4,
   "id": "4458efb6",
   "metadata": {
    "execution": {
     "iopub.execute_input": "2022-06-22T15:50:21.007333Z",
     "iopub.status.busy": "2022-06-22T15:50:21.004963Z",
     "iopub.status.idle": "2022-06-22T15:50:21.009813Z",
     "shell.execute_reply": "2022-06-22T15:50:21.011360Z"
    },
    "papermill": {
     "duration": 0.10967,
     "end_time": "2022-06-22T15:50:21.011638",
     "exception": false,
     "start_time": "2022-06-22T15:50:20.901968",
     "status": "completed"
    },
    "tags": [
     "injected-parameters"
    ]
   },
   "outputs": [],
   "source": [
    "# Parameters\n",
    "variance = 1\n",
    "bias = 1\n"
   ]
  },
  {
   "cell_type": "markdown",
   "id": "391cdbfd",
   "metadata": {
    "id": "391cdbfd",
    "papermill": {
     "duration": 0.027379,
     "end_time": "2022-06-22T15:50:21.059190",
     "exception": false,
     "start_time": "2022-06-22T15:50:21.031811",
     "status": "completed"
    },
    "tags": []
   },
   "source": [
    "## Dataset \n"
   ]
  },
  {
   "cell_type": "code",
   "execution_count": 5,
   "id": "5b51f161",
   "metadata": {
    "execution": {
     "iopub.execute_input": "2022-06-22T15:50:21.121980Z",
     "iopub.status.busy": "2022-06-22T15:50:21.120520Z",
     "iopub.status.idle": "2022-06-22T15:50:21.127629Z",
     "shell.execute_reply": "2022-06-22T15:50:21.131597Z"
    },
    "id": "5b51f161",
    "papermill": {
     "duration": 0.049757,
     "end_time": "2022-06-22T15:50:21.133082",
     "exception": false,
     "start_time": "2022-06-22T15:50:21.083325",
     "status": "completed"
    },
    "tags": []
   },
   "outputs": [],
   "source": [
    "#Parameters \n",
    "n_features = 4\n",
    "n_samples= 100\n",
    "n_target = 1"
   ]
  },
  {
   "cell_type": "code",
   "execution_count": 6,
   "id": "5d6eced4",
   "metadata": {
    "execution": {
     "iopub.execute_input": "2022-06-22T15:50:21.221874Z",
     "iopub.status.busy": "2022-06-22T15:50:21.220841Z",
     "iopub.status.idle": "2022-06-22T15:50:21.251163Z",
     "shell.execute_reply": "2022-06-22T15:50:21.252348Z"
    },
    "id": "5d6eced4",
    "papermill": {
     "duration": 0.09931,
     "end_time": "2022-06-22T15:50:21.253259",
     "exception": false,
     "start_time": "2022-06-22T15:50:21.153949",
     "status": "completed"
    },
    "tags": []
   },
   "outputs": [
    {
     "name": "stdout",
     "output_type": "stream",
     "text": [
      "          X1           X2        X3         X4         Y\n",
      "0  93.056810  1566.727849  0.907420  10.336591  1.459905\n",
      "1  15.712615  1069.882488  0.115379   8.102789  1.561179\n",
      "2  44.463934  1612.511930  0.431387   5.765059  1.577822\n",
      "3  39.757147   665.480088  0.870950   4.663741  1.376886\n",
      "4  40.917475   190.639240  0.577663   2.470779  1.319174\n"
     ]
    }
   ],
   "source": [
    "X,Y = friedman3Dataset.friedman3_data(n_samples)"
   ]
  },
  {
   "cell_type": "code",
   "execution_count": 7,
   "id": "fe007438",
   "metadata": {
    "execution": {
     "iopub.execute_input": "2022-06-22T15:50:21.312479Z",
     "iopub.status.busy": "2022-06-22T15:50:21.310925Z",
     "iopub.status.idle": "2022-06-22T15:50:21.314645Z",
     "shell.execute_reply": "2022-06-22T15:50:21.315176Z"
    },
    "id": "fe007438",
    "papermill": {
     "duration": 0.034492,
     "end_time": "2022-06-22T15:50:21.315419",
     "exception": false,
     "start_time": "2022-06-22T15:50:21.280927",
     "status": "completed"
    },
    "tags": []
   },
   "outputs": [],
   "source": [
    "#Train test split for dataset \n",
    "X_train,X_test,Y_train,Y_test = train_test_split(X,Y,test_size = 0.2)\n",
    "train_data = dataset.CustomDataset(X_train,Y_train)\n",
    "test_data = dataset.CustomDataset(X_test,Y_test)\n"
   ]
  },
  {
   "cell_type": "markdown",
   "id": "a9a1af34",
   "metadata": {
    "id": "a9a1af34",
    "papermill": {
     "duration": 0.022919,
     "end_time": "2022-06-22T15:50:21.358803",
     "exception": false,
     "start_time": "2022-06-22T15:50:21.335884",
     "status": "completed"
    },
    "tags": []
   },
   "source": [
    "## Training Parameters "
   ]
  },
  {
   "cell_type": "code",
   "execution_count": 8,
   "id": "952b7fc8",
   "metadata": {
    "execution": {
     "iopub.execute_input": "2022-06-22T15:50:21.426801Z",
     "iopub.status.busy": "2022-06-22T15:50:21.421673Z",
     "iopub.status.idle": "2022-06-22T15:50:21.429330Z",
     "shell.execute_reply": "2022-06-22T15:50:21.428596Z"
    },
    "id": "952b7fc8",
    "papermill": {
     "duration": 0.049253,
     "end_time": "2022-06-22T15:50:21.429545",
     "exception": false,
     "start_time": "2022-06-22T15:50:21.380292",
     "status": "completed"
    },
    "tags": []
   },
   "outputs": [],
   "source": [
    "batch_size = 32\n",
    "n_epochs = 1000\n",
    "#Select the device \n",
    "device = torch.device('cuda' if torch.cuda.is_available() else 'cpu')"
   ]
  },
  {
   "cell_type": "markdown",
   "id": "a95e1600",
   "metadata": {
    "id": "a95e1600",
    "papermill": {
     "duration": 0.033324,
     "end_time": "2022-06-22T15:50:21.487519",
     "exception": false,
     "start_time": "2022-06-22T15:50:21.454195",
     "status": "completed"
    },
    "tags": []
   },
   "source": [
    "# ABC Pre-generator Model \n",
    "\n",
    "1. The catboost model is used as a pre-generator model for the ABC-GAN. \n",
    "2. The model is first trained on the entire dataset \n",
    "3. It generats X,Y pairs and we add some Gaussian noise with mean 0 and variance 1 to it which is then feed as input to the generator.\n"
   ]
  },
  {
   "cell_type": "code",
   "execution_count": 9,
   "id": "ff8ce7bd",
   "metadata": {
    "execution": {
     "iopub.execute_input": "2022-06-22T15:50:21.547215Z",
     "iopub.status.busy": "2022-06-22T15:50:21.540032Z",
     "iopub.status.idle": "2022-06-22T15:50:44.637782Z",
     "shell.execute_reply": "2022-06-22T15:50:44.638387Z"
    },
    "id": "ff8ce7bd",
    "papermill": {
     "duration": 23.130759,
     "end_time": "2022-06-22T15:50:44.638631",
     "exception": false,
     "start_time": "2022-06-22T15:50:21.507872",
     "status": "completed"
    },
    "tags": []
   },
   "outputs": [
    {
     "name": "stdout",
     "output_type": "stream",
     "text": [
      "Device used : cpu\n"
     ]
    },
    {
     "name": "stdout",
     "output_type": "stream",
     "text": [
      "epoch 0  | loss: 1.29527 | train_mse: 3.9053  | train_mae: 1.58219 |  0:00:00s\n",
      "epoch 1  | loss: 0.86206 | train_mse: 2.10846 | train_mae: 1.11155 |  0:00:00s\n"
     ]
    },
    {
     "name": "stdout",
     "output_type": "stream",
     "text": [
      "epoch 2  | loss: 0.68762 | train_mse: 2.29243 | train_mae: 1.133   |  0:00:00s\n",
      "epoch 3  | loss: 0.55484 | train_mse: 3.47247 | train_mae: 1.30419 |  0:00:00s\n"
     ]
    },
    {
     "name": "stdout",
     "output_type": "stream",
     "text": [
      "epoch 4  | loss: 0.48517 | train_mse: 1.76524 | train_mae: 0.94447 |  0:00:01s\n"
     ]
    },
    {
     "name": "stdout",
     "output_type": "stream",
     "text": [
      "epoch 5  | loss: 0.44591 | train_mse: 0.82586 | train_mae: 0.6835  |  0:00:01s\n",
      "epoch 6  | loss: 0.55167 | train_mse: 0.63191 | train_mae: 0.56764 |  0:00:01s"
     ]
    },
    {
     "name": "stdout",
     "output_type": "stream",
     "text": [
      "\n"
     ]
    },
    {
     "name": "stdout",
     "output_type": "stream",
     "text": [
      "epoch 7  | loss: 0.45923 | train_mse: 0.63447 | train_mae: 0.55472 |  0:00:01s\n",
      "epoch 8  | loss: 0.37735 | train_mse: 0.77307 | train_mae: 0.55748 |  0:00:02s\n"
     ]
    },
    {
     "name": "stdout",
     "output_type": "stream",
     "text": [
      "epoch 9  | loss: 0.65962 | train_mse: 0.7889  | train_mae: 0.60891 |  0:00:02s\n",
      "epoch 10 | loss: 0.38558 | train_mse: 0.55386 | train_mae: 0.52811 |  0:00:02s\n"
     ]
    },
    {
     "name": "stdout",
     "output_type": "stream",
     "text": [
      "epoch 11 | loss: 0.44446 | train_mse: 0.46299 | train_mae: 0.48396 |  0:00:02s\n"
     ]
    },
    {
     "name": "stdout",
     "output_type": "stream",
     "text": [
      "epoch 12 | loss: 0.44533 | train_mse: 0.55536 | train_mae: 0.55706 |  0:00:02s\n",
      "epoch 13 | loss: 0.36401 | train_mse: 0.43406 | train_mae: 0.50743 |  0:00:03s\n"
     ]
    },
    {
     "name": "stdout",
     "output_type": "stream",
     "text": [
      "epoch 14 | loss: 0.23694 | train_mse: 0.56192 | train_mae: 0.51201 |  0:00:03s\n",
      "epoch 15 | loss: 0.38734 | train_mse: 0.48584 | train_mae: 0.48364 |  0:00:03s\n"
     ]
    },
    {
     "name": "stdout",
     "output_type": "stream",
     "text": [
      "epoch 16 | loss: 0.36058 | train_mse: 0.42879 | train_mae: 0.44928 |  0:00:03s\n",
      "epoch 17 | loss: 0.39627 | train_mse: 0.29625 | train_mae: 0.38785 |  0:00:03s\n"
     ]
    },
    {
     "name": "stdout",
     "output_type": "stream",
     "text": [
      "epoch 18 | loss: 0.29754 | train_mse: 0.31324 | train_mae: 0.40428 |  0:00:03s\n"
     ]
    },
    {
     "name": "stdout",
     "output_type": "stream",
     "text": [
      "epoch 19 | loss: 0.30489 | train_mse: 0.28936 | train_mae: 0.38915 |  0:00:04s\n",
      "epoch 20 | loss: 0.33024 | train_mse: 0.26699 | train_mae: 0.37946 |  0:00:04s\n"
     ]
    },
    {
     "name": "stdout",
     "output_type": "stream",
     "text": [
      "epoch 21 | loss: 0.34146 | train_mse: 0.28763 | train_mae: 0.37313 |  0:00:04s\n"
     ]
    },
    {
     "name": "stdout",
     "output_type": "stream",
     "text": [
      "epoch 22 | loss: 0.44263 | train_mse: 0.29042 | train_mae: 0.3634  |  0:00:04s\n",
      "epoch 23 | loss: 0.25608 | train_mse: 0.3195  | train_mae: 0.38305 |  0:00:04s\n"
     ]
    },
    {
     "name": "stdout",
     "output_type": "stream",
     "text": [
      "epoch 24 | loss: 0.26637 | train_mse: 0.26484 | train_mae: 0.36979 |  0:00:05s\n",
      "epoch 25 | loss: 0.22559 | train_mse: 0.26544 | train_mae: 0.35868 |  0:00:05s\n"
     ]
    },
    {
     "name": "stdout",
     "output_type": "stream",
     "text": [
      "epoch 26 | loss: 0.21198 | train_mse: 0.2128  | train_mae: 0.34159 |  0:00:05s\n"
     ]
    },
    {
     "name": "stdout",
     "output_type": "stream",
     "text": [
      "epoch 27 | loss: 0.1987  | train_mse: 0.19285 | train_mae: 0.33326 |  0:00:05s\n"
     ]
    },
    {
     "name": "stdout",
     "output_type": "stream",
     "text": [
      "epoch 28 | loss: 0.25968 | train_mse: 0.20292 | train_mae: 0.33107 |  0:00:06s\n"
     ]
    },
    {
     "name": "stdout",
     "output_type": "stream",
     "text": [
      "epoch 29 | loss: 0.2898  | train_mse: 0.24074 | train_mae: 0.35833 |  0:00:06s\n"
     ]
    },
    {
     "name": "stdout",
     "output_type": "stream",
     "text": [
      "epoch 30 | loss: 0.17496 | train_mse: 0.25393 | train_mae: 0.38124 |  0:00:06s\n",
      "epoch 31 | loss: 0.3077  | train_mse: 0.20501 | train_mae: 0.35795 |  0:00:07s\n"
     ]
    },
    {
     "name": "stdout",
     "output_type": "stream",
     "text": [
      "epoch 32 | loss: 0.16045 | train_mse: 0.19648 | train_mae: 0.34977 |  0:00:07s\n"
     ]
    },
    {
     "name": "stdout",
     "output_type": "stream",
     "text": [
      "epoch 33 | loss: 0.31492 | train_mse: 0.15931 | train_mae: 0.31955 |  0:00:07s\n"
     ]
    },
    {
     "name": "stdout",
     "output_type": "stream",
     "text": [
      "epoch 34 | loss: 0.20193 | train_mse: 0.15701 | train_mae: 0.32326 |  0:00:07s\n",
      "epoch 35 | loss: 0.14862 | train_mse: 0.17856 | train_mae: 0.3474  |  0:00:08s\n"
     ]
    },
    {
     "name": "stdout",
     "output_type": "stream",
     "text": [
      "epoch 36 | loss: 0.29811 | train_mse: 0.20354 | train_mae: 0.36386 |  0:00:08s\n",
      "epoch 37 | loss: 0.18096 | train_mse: 0.17011 | train_mae: 0.3309  |  0:00:08s\n"
     ]
    },
    {
     "name": "stdout",
     "output_type": "stream",
     "text": [
      "epoch 38 | loss: 0.17445 | train_mse: 0.15943 | train_mae: 0.3239  |  0:00:08s\n",
      "epoch 39 | loss: 0.1786  | train_mse: 0.14892 | train_mae: 0.29602 |  0:00:08s\n"
     ]
    },
    {
     "name": "stdout",
     "output_type": "stream",
     "text": [
      "epoch 40 | loss: 0.17314 | train_mse: 0.16037 | train_mae: 0.28692 |  0:00:08s\n",
      "epoch 41 | loss: 0.24557 | train_mse: 0.15188 | train_mae: 0.29718 |  0:00:08s\n"
     ]
    },
    {
     "name": "stdout",
     "output_type": "stream",
     "text": [
      "epoch 42 | loss: 0.17194 | train_mse: 0.16351 | train_mae: 0.3209  |  0:00:08s\n"
     ]
    },
    {
     "name": "stdout",
     "output_type": "stream",
     "text": [
      "epoch 43 | loss: 0.31106 | train_mse: 0.21378 | train_mae: 0.35505 |  0:00:09s\n"
     ]
    },
    {
     "name": "stdout",
     "output_type": "stream",
     "text": [
      "epoch 44 | loss: 0.13642 | train_mse: 0.16451 | train_mae: 0.31563 |  0:00:09s\n",
      "epoch 45 | loss: 0.1661  | train_mse: 0.12956 | train_mae: 0.2745  |  0:00:09s\n"
     ]
    },
    {
     "name": "stdout",
     "output_type": "stream",
     "text": [
      "epoch 46 | loss: 0.17199 | train_mse: 0.1147  | train_mae: 0.27296 |  0:00:09s\n",
      "epoch 47 | loss: 0.23903 | train_mse: 0.09134 | train_mae: 0.24596 |  0:00:09s\n"
     ]
    },
    {
     "name": "stdout",
     "output_type": "stream",
     "text": [
      "epoch 48 | loss: 0.33844 | train_mse: 0.09044 | train_mae: 0.22794 |  0:00:10s\n",
      "epoch 49 | loss: 0.14619 | train_mse: 0.08179 | train_mae: 0.21943 |  0:00:10s\n"
     ]
    },
    {
     "name": "stdout",
     "output_type": "stream",
     "text": [
      "epoch 50 | loss: 0.12156 | train_mse: 0.11423 | train_mae: 0.24509 |  0:00:10s\n"
     ]
    },
    {
     "name": "stdout",
     "output_type": "stream",
     "text": [
      "epoch 51 | loss: 0.20841 | train_mse: 0.14105 | train_mae: 0.27309 |  0:00:10s\n",
      "epoch 52 | loss: 0.20127 | train_mse: 0.13135 | train_mae: 0.2829  |  0:00:11s\n"
     ]
    },
    {
     "name": "stdout",
     "output_type": "stream",
     "text": [
      "epoch 53 | loss: 0.32469 | train_mse: 0.10522 | train_mae: 0.25938 |  0:00:11s\n",
      "epoch 54 | loss: 0.12151 | train_mse: 0.08722 | train_mae: 0.23528 |  0:00:11s\n"
     ]
    },
    {
     "name": "stdout",
     "output_type": "stream",
     "text": [
      "epoch 55 | loss: 0.16732 | train_mse: 0.11898 | train_mae: 0.2802  |  0:00:11s\n",
      "epoch 56 | loss: 0.16539 | train_mse: 0.11425 | train_mae: 0.26564 |  0:00:12s\n"
     ]
    },
    {
     "name": "stdout",
     "output_type": "stream",
     "text": [
      "epoch 57 | loss: 0.24784 | train_mse: 0.10456 | train_mae: 0.26214 |  0:00:12s\n"
     ]
    },
    {
     "name": "stdout",
     "output_type": "stream",
     "text": [
      "epoch 58 | loss: 0.21448 | train_mse: 0.09122 | train_mae: 0.23467 |  0:00:12s\n"
     ]
    },
    {
     "name": "stdout",
     "output_type": "stream",
     "text": [
      "epoch 59 | loss: 0.17312 | train_mse: 0.09045 | train_mae: 0.2285  |  0:00:12s\n"
     ]
    },
    {
     "name": "stdout",
     "output_type": "stream",
     "text": [
      "epoch 60 | loss: 0.19886 | train_mse: 0.11475 | train_mae: 0.2488  |  0:00:13s\n"
     ]
    },
    {
     "name": "stdout",
     "output_type": "stream",
     "text": [
      "epoch 61 | loss: 0.2255  | train_mse: 0.09959 | train_mae: 0.23461 |  0:00:13s\n"
     ]
    },
    {
     "name": "stdout",
     "output_type": "stream",
     "text": [
      "epoch 62 | loss: 0.21469 | train_mse: 0.10748 | train_mae: 0.26552 |  0:00:13s\n"
     ]
    },
    {
     "name": "stdout",
     "output_type": "stream",
     "text": [
      "epoch 63 | loss: 0.17092 | train_mse: 0.16545 | train_mae: 0.32276 |  0:00:13s\n"
     ]
    },
    {
     "name": "stdout",
     "output_type": "stream",
     "text": [
      "epoch 64 | loss: 0.29264 | train_mse: 0.16268 | train_mae: 0.3039  |  0:00:14s\n"
     ]
    },
    {
     "name": "stdout",
     "output_type": "stream",
     "text": [
      "epoch 65 | loss: 0.1714  | train_mse: 0.12813 | train_mae: 0.27138 |  0:00:14s\n",
      "epoch 66 | loss: 0.24335 | train_mse: 0.14075 | train_mae: 0.27874 |  0:00:14s\n"
     ]
    },
    {
     "name": "stdout",
     "output_type": "stream",
     "text": [
      "epoch 67 | loss: 0.15146 | train_mse: 0.15313 | train_mae: 0.28872 |  0:00:14s\n"
     ]
    },
    {
     "name": "stdout",
     "output_type": "stream",
     "text": [
      "epoch 68 | loss: 0.19829 | train_mse: 0.12589 | train_mae: 0.28234 |  0:00:14s\n"
     ]
    },
    {
     "name": "stdout",
     "output_type": "stream",
     "text": [
      "epoch 69 | loss: 0.29198 | train_mse: 0.14217 | train_mae: 0.30242 |  0:00:15s\n"
     ]
    },
    {
     "name": "stdout",
     "output_type": "stream",
     "text": [
      "epoch 70 | loss: 0.18391 | train_mse: 0.13899 | train_mae: 0.28294 |  0:00:15s\n"
     ]
    },
    {
     "name": "stdout",
     "output_type": "stream",
     "text": [
      "epoch 71 | loss: 0.16828 | train_mse: 0.11487 | train_mae: 0.26269 |  0:00:16s\n"
     ]
    },
    {
     "name": "stdout",
     "output_type": "stream",
     "text": [
      "epoch 72 | loss: 0.14912 | train_mse: 0.11438 | train_mae: 0.26286 |  0:00:16s\n"
     ]
    },
    {
     "name": "stdout",
     "output_type": "stream",
     "text": [
      "epoch 73 | loss: 0.12495 | train_mse: 0.11695 | train_mae: 0.2629  |  0:00:16s\n"
     ]
    },
    {
     "name": "stdout",
     "output_type": "stream",
     "text": [
      "epoch 74 | loss: 0.24618 | train_mse: 0.1336  | train_mae: 0.28293 |  0:00:17s\n"
     ]
    },
    {
     "name": "stdout",
     "output_type": "stream",
     "text": [
      "epoch 75 | loss: 0.16524 | train_mse: 0.12129 | train_mae: 0.27508 |  0:00:17s\n"
     ]
    },
    {
     "name": "stdout",
     "output_type": "stream",
     "text": [
      "epoch 76 | loss: 0.12723 | train_mse: 0.12014 | train_mae: 0.26828 |  0:00:17s\n"
     ]
    },
    {
     "name": "stdout",
     "output_type": "stream",
     "text": [
      "epoch 77 | loss: 0.35262 | train_mse: 0.16377 | train_mae: 0.29553 |  0:00:17s\n"
     ]
    },
    {
     "name": "stdout",
     "output_type": "stream",
     "text": [
      "epoch 78 | loss: 0.11233 | train_mse: 0.14968 | train_mae: 0.28888 |  0:00:18s\n"
     ]
    },
    {
     "name": "stdout",
     "output_type": "stream",
     "text": [
      "epoch 79 | loss: 0.20217 | train_mse: 0.12238 | train_mae: 0.27429 |  0:00:18s\n",
      "epoch 80 | loss: 0.24084 | train_mse: 0.09863 | train_mae: 0.24706 |  0:00:18s\n"
     ]
    },
    {
     "name": "stdout",
     "output_type": "stream",
     "text": [
      "epoch 81 | loss: 0.18856 | train_mse: 0.10658 | train_mae: 0.25795 |  0:00:19s\n"
     ]
    },
    {
     "name": "stdout",
     "output_type": "stream",
     "text": [
      "epoch 82 | loss: 0.24607 | train_mse: 0.13423 | train_mae: 0.28695 |  0:00:19s\n"
     ]
    },
    {
     "name": "stdout",
     "output_type": "stream",
     "text": [
      "epoch 83 | loss: 0.21672 | train_mse: 0.15617 | train_mae: 0.30769 |  0:00:19s\n",
      "epoch 84 | loss: 0.18419 | train_mse: 0.15083 | train_mae: 0.30545 |  0:00:19s\n"
     ]
    },
    {
     "name": "stdout",
     "output_type": "stream",
     "text": [
      "epoch 85 | loss: 0.1621  | train_mse: 0.1589  | train_mae: 0.30395 |  0:00:19s\n",
      "epoch 86 | loss: 0.18608 | train_mse: 0.17499 | train_mae: 0.30655 |  0:00:20s\n"
     ]
    },
    {
     "name": "stdout",
     "output_type": "stream",
     "text": [
      "epoch 87 | loss: 0.18669 | train_mse: 0.1813  | train_mae: 0.3295  |  0:00:20s\n",
      "epoch 88 | loss: 0.1869  | train_mse: 0.12861 | train_mae: 0.27153 |  0:00:20s\n"
     ]
    },
    {
     "name": "stdout",
     "output_type": "stream",
     "text": [
      "epoch 89 | loss: 0.16459 | train_mse: 0.15456 | train_mae: 0.28164 |  0:00:20s\n",
      "epoch 90 | loss: 0.17877 | train_mse: 0.17445 | train_mae: 0.29674 |  0:00:20s\n"
     ]
    },
    {
     "name": "stdout",
     "output_type": "stream",
     "text": [
      "epoch 91 | loss: 0.2705  | train_mse: 0.20103 | train_mae: 0.3405  |  0:00:21s\n",
      "epoch 92 | loss: 0.18492 | train_mse: 0.2257  | train_mae: 0.37855 |  0:00:21s\n"
     ]
    },
    {
     "name": "stdout",
     "output_type": "stream",
     "text": [
      "epoch 93 | loss: 0.20163 | train_mse: 0.19559 | train_mae: 0.32355 |  0:00:21s\n"
     ]
    },
    {
     "name": "stdout",
     "output_type": "stream",
     "text": [
      "epoch 94 | loss: 0.15371 | train_mse: 0.12308 | train_mae: 0.26893 |  0:00:21s\n"
     ]
    },
    {
     "name": "stdout",
     "output_type": "stream",
     "text": [
      "epoch 95 | loss: 0.27339 | train_mse: 0.10922 | train_mae: 0.24136 |  0:00:22s\n"
     ]
    },
    {
     "name": "stdout",
     "output_type": "stream",
     "text": [
      "epoch 96 | loss: 0.16671 | train_mse: 0.09109 | train_mae: 0.2277  |  0:00:22s\n"
     ]
    },
    {
     "name": "stdout",
     "output_type": "stream",
     "text": [
      "epoch 97 | loss: 0.1452  | train_mse: 0.123   | train_mae: 0.2636  |  0:00:22s\n",
      "epoch 98 | loss: 0.22056 | train_mse: 0.13094 | train_mae: 0.27258 |  0:00:22s\n"
     ]
    },
    {
     "name": "stdout",
     "output_type": "stream",
     "text": [
      "epoch 99 | loss: 0.12706 | train_mse: 0.09105 | train_mae: 0.21968 |  0:00:22s\n",
      "\n",
      "Early stopping occurred at epoch 99 with best_epoch = 49 and best_train_mae = 0.21943\n",
      "Best weights from best epoch are automatically used!\n"
     ]
    }
   ],
   "source": [
    "#Train the Model\n",
    "\n",
    "Y_train = np.reshape(Y_train, (-1, 1))\n",
    "Y_test = np.reshape(Y_test, (-1, 1))\n",
    "\n",
    "prior_model = TabNetRegressor(optimizer_fn=torch.optim.Adam, optimizer_params=dict(lr = 0.02),\n",
    "          #scheduler_params={\"step_size\":10, ], \"gamma\":0.9},\n",
    "          #scheduler_fn=torch.optim.lr_scheduler.StepLR\n",
    "          )  #TabNetRegressor()\n",
    "\n",
    "prior_model.fit(X_train,Y_train,eval_set=[(X_train, Y_train)],\n",
    "            eval_name=['train'], \n",
    "            eval_metric=[ 'mse', 'mae'], \n",
    "            max_epochs = n_epochs, \n",
    "            batch_size = batch_size,\n",
    "            patience=50\n",
    "            )"
   ]
  },
  {
   "cell_type": "code",
   "execution_count": 10,
   "id": "af65dcda",
   "metadata": {
    "execution": {
     "iopub.execute_input": "2022-06-22T15:50:44.939572Z",
     "iopub.status.busy": "2022-06-22T15:50:44.938583Z",
     "iopub.status.idle": "2022-06-22T15:50:44.972705Z",
     "shell.execute_reply": "2022-06-22T15:50:44.973597Z"
    },
    "id": "af65dcda",
    "papermill": {
     "duration": 0.296509,
     "end_time": "2022-06-22T15:50:44.974304",
     "exception": false,
     "start_time": "2022-06-22T15:50:44.677795",
     "status": "completed"
    },
    "tags": []
   },
   "outputs": [
    {
     "data": {
      "application/scrapbook.scrap.json+json": {
       "data": 0.6554043233499476,
       "encoder": "json",
       "name": "Prior Model MSE",
       "version": 1
      }
     },
     "metadata": {
      "scrapbook": {
       "data": true,
       "display": false,
       "name": "Prior Model MSE"
      }
     },
     "output_type": "display_data"
    },
    {
     "data": {
      "application/scrapbook.scrap.json+json": {
       "data": 2.518262194575217,
       "encoder": "json",
       "name": "ABC Pre-generator MSE",
       "version": 1
      }
     },
     "metadata": {
      "scrapbook": {
       "data": true,
       "display": false,
       "name": "ABC Pre-generator MSE"
      }
     },
     "output_type": "display_data"
    },
    {
     "data": {
      "application/scrapbook.scrap.json+json": {
       "data": 0.5357586135538461,
       "encoder": "json",
       "name": "Prior Model MSE",
       "version": 1
      }
     },
     "metadata": {
      "scrapbook": {
       "data": true,
       "display": false,
       "name": "Prior Model MSE"
      }
     },
     "output_type": "display_data"
    },
    {
     "data": {
      "application/scrapbook.scrap.json+json": {
       "data": 1.282815229846808,
       "encoder": "json",
       "name": "ABC Pre-generator MSE",
       "version": 1
      }
     },
     "metadata": {
      "scrapbook": {
       "data": true,
       "display": false,
       "name": "ABC Pre-generator MSE"
      }
     },
     "output_type": "display_data"
    }
   ],
   "source": [
    "y_pred = prior_model.predict(X_test)\n",
    "y_abc = y_pred + np.random.normal(0,variance, y_pred.shape) + bias \n",
    "mse = mean_squared_error(y_pred,Y_test)\n",
    "sb.glue(\"Prior Model MSE\",mse)\n",
    "mse = mean_squared_error(y_abc,Y_test)\n",
    "sb.glue(\"ABC Pre-generator MSE\",mse)\n",
    "mae = mean_absolute_error(y_pred,Y_test)\n",
    "sb.glue(\"Prior Model MSE\",mae)\n",
    "mae = mean_absolute_error(y_abc,Y_test)\n",
    "sb.glue(\"ABC Pre-generator MSE\",mae)"
   ]
  },
  {
   "cell_type": "markdown",
   "id": "25609da2",
   "metadata": {
    "papermill": {
     "duration": 0.055503,
     "end_time": "2022-06-22T15:50:45.077501",
     "exception": false,
     "start_time": "2022-06-22T15:50:45.021998",
     "status": "completed"
    },
    "tags": []
   },
   "source": [
    "# ABC GAN Model"
   ]
  },
  {
   "cell_type": "code",
   "execution_count": 11,
   "id": "dfc3464d",
   "metadata": {
    "execution": {
     "iopub.execute_input": "2022-06-22T15:50:45.280261Z",
     "iopub.status.busy": "2022-06-22T15:50:45.279397Z",
     "iopub.status.idle": "2022-06-22T15:50:45.285726Z",
     "shell.execute_reply": "2022-06-22T15:50:45.286269Z"
    },
    "papermill": {
     "duration": 0.116203,
     "end_time": "2022-06-22T15:50:45.286493",
     "exception": false,
     "start_time": "2022-06-22T15:50:45.170290",
     "status": "completed"
    },
    "tags": []
   },
   "outputs": [],
   "source": [
    "gen = network.Generator(n_features+1).to(device)\n",
    "disc = network.Discriminator(n_features+1).to(device)\n",
    "\n",
    "criterion = torch.nn.BCELoss()\n",
    "gen_opt = torch.optim.Adam(gen.parameters(), lr=0.001, betas=(0.5, 0.999))\n",
    "disc_opt = torch.optim.Adam(disc.parameters(), lr=0.001, betas=(0.5, 0.999))"
   ]
  },
  {
   "cell_type": "code",
   "execution_count": 12,
   "id": "b75fdd85",
   "metadata": {
    "execution": {
     "iopub.execute_input": "2022-06-22T15:50:45.410103Z",
     "iopub.status.busy": "2022-06-22T15:50:45.406829Z",
     "iopub.status.idle": "2022-06-22T15:52:18.320134Z",
     "shell.execute_reply": "2022-06-22T15:52:18.321770Z"
    },
    "papermill": {
     "duration": 92.98131,
     "end_time": "2022-06-22T15:52:18.322818",
     "exception": false,
     "start_time": "2022-06-22T15:50:45.341508",
     "status": "completed"
    },
    "tags": []
   },
   "outputs": [
    {
     "data": {
      "image/png": "[encoded data removed]",
      "text/plain": [
       "<Figure size 432x288 with 1 Axes>"
      ]
     },
     "metadata": {
      "needs_background": "light"
     },
     "output_type": "display_data"
    },
    {
     "data": {
      "image/png": "[encoded data removed]",
      "text/plain": [
       "<Figure size 432x288 with 1 Axes>"
      ]
     },
     "metadata": {
      "needs_background": "light"
     },
     "output_type": "display_data"
    }
   ],
   "source": [
    "#Training the ABC_GAN \n",
    "ABC_train_test2.training_GAN(disc,gen,disc_opt,gen_opt,train_data,batch_size,n_epochs,criterion,prior_model,variance,bias,device)"
   ]
  },
  {
   "cell_type": "code",
   "execution_count": 13,
   "id": "1fa7c368",
   "metadata": {
    "execution": {
     "iopub.execute_input": "2022-06-22T15:52:18.480297Z",
     "iopub.status.busy": "2022-06-22T15:52:18.469726Z",
     "iopub.status.idle": "2022-06-22T15:52:19.791496Z",
     "shell.execute_reply": "2022-06-22T15:52:19.792675Z"
    },
    "papermill": {
     "duration": 1.413753,
     "end_time": "2022-06-22T15:52:19.793040",
     "exception": false,
     "start_time": "2022-06-22T15:52:18.379287",
     "status": "completed"
    },
    "tags": []
   },
   "outputs": [
    {
     "data": {
      "application/scrapbook.scrap.json+json": {
       "data": 0.3876911242957858,
       "encoder": "json",
       "name": "ABC-GAN Model 1 MSE",
       "version": 1
      }
     },
     "metadata": {
      "scrapbook": {
       "data": true,
       "display": false,
       "name": "ABC-GAN Model 1 MSE"
      }
     },
     "output_type": "display_data"
    },
    {
     "data": {
      "application/scrapbook.scrap.json+json": {
       "data": 0.4134569228962064,
       "encoder": "json",
       "name": "ABC-GAN Model 1 MAE",
       "version": 1
      }
     },
     "metadata": {
      "scrapbook": {
       "data": true,
       "display": false,
       "name": "ABC-GAN Model 1 MAE"
      }
     },
     "output_type": "display_data"
    },
    {
     "data": {
      "application/scrapbook.scrap.json+json": {
       "data": 8.269138457924127,
       "encoder": "json",
       "name": "ABC-GAN Model 1 Manhattan Distance",
       "version": 1
      }
     },
     "metadata": {
      "scrapbook": {
       "data": true,
       "display": false,
       "name": "ABC-GAN Model 1 Manhattan Distance"
      }
     },
     "output_type": "display_data"
    },
    {
     "data": {
      "application/scrapbook.scrap.json+json": {
       "data": 2.782245175834731,
       "encoder": "json",
       "name": "ABC-GAN Model 1 Euclidean distance",
       "version": 1
      }
     },
     "metadata": {
      "scrapbook": {
       "data": true,
       "display": false,
       "name": "ABC-GAN Model 1 Euclidean distance"
      }
     },
     "output_type": "display_data"
    },
    {
     "data": {
      "application/scrapbook.scrap.json+json": {
       "data": [
        [
         0.4231200723376231,
         0.3696266353022171,
         0.3830281335459735,
         0.4122187337108154,
         0.3977278099038889,
         0.38858429617419266,
         0.38415355086525915,
         0.39784419119861686,
         0.3941252652685726,
         0.3842391637434635,
         0.3231180253478573,
         0.3380386550529227,
         0.36164887195160056,
         0.41108954091210936,
         0.3870769088899114,
         0.4135980160099675,
         0.4402633340320958,
         0.3402169316226778,
         0.4366120427697787,
         0.3567205045377252,
         0.3229158437240271,
         0.4114590207632166,
         0.3574891895129407,
         0.41417882352204616,
         0.3779298049677797,
         0.3667478775839138,
         0.3567107532031919,
         0.4117485645719322,
         0.4034019103688382,
         0.42920562183546096,
         0.43345532337274245,
         0.41640682777964766,
         0.4026043804627305,
         0.38296539890773396,
         0.3602306929365761,
         0.3863398941591736,
         0.3829139478535545,
         0.40075119357919853,
         0.4063552453906151,
         0.28407194616590925,
         0.426590461322261,
         0.35016978938295507,
         0.4088593962286516,
         0.41180097309901703,
         0.4047589606121919,
         0.3469433648837529,
         0.37747452025818895,
         0.4166246727412812,
         0.39137232313321946,
         0.39445122220938983,
         0.37602163480972267,
         0.37230929953743885,
         0.44309328326598757,
         0.40686843521131155,
         0.3973798505398535,
         0.3244156436559757,
         0.44025854869576586,
         0.3755620291509937,
         0.35783043414683885,
         0.384889597397216,
         0.436191822081024,
         0.37418031806873026,
         0.40492521468035514,
         0.3969986494829868,
         0.4173785087680191,
         0.40931004050939396,
         0.4147080560244943,
         0.40104351411395445,
         0.38341852500710255,
         0.32972167493443894,
         0.3277908573402829,
         0.4156449918160837,
         0.39516461166596384,
         0.39618544961843977,
         0.3844891919157106,
         0.40486882361713994,
         0.41878970245632824,
         0.3891368160737956,
         0.3552224889513177,
         0.37050366404796786,
         0.36576531473054913,
         0.41946036417563254,
         0.4132950393408226,
         0.4233212384339929,
         0.3316333153264338,
         0.3857291452315438,
         0.4020140633810659,
         0.37105651165088027,
         0.3664705237438435,
         0.34956512684203184,
         0.3622348287483507,
         0.38654215473639464,
         0.4171750550252463,
         0.41103747863487383,
         0.32303402953720756,
         0.43204028948780665,
         0.38364756875428563,
         0.38050561297326835,
         0.36454941190738444,
         0.3957550516229221
        ],
        [
         0.41245564427226783,
         0.40726620201021435,
         0.41955623850226403,
         0.41922401562333106,
         0.4026296131312847,
         0.42369245309382675,
         0.41512295678257943,
         0.41202295273542405,
         0.4331817451864481,
         0.42433296963572503,
         0.3931541541591287,
         0.39372690953314304,
         0.395822087675333,
         0.4148946922272444,
         0.4077385414391756,
         0.4292468763887882,
         0.4246722735464573,
         0.40600027702748775,
         0.41894110273569823,
         0.3973291877657175,
         0.392085649818182,
         0.4180919580161572,
         0.40250282883644106,
         0.40730971097946167,
         0.4083338513970375,
         0.4040313273668289,
         0.40983377732336523,
         0.4294895563274622,
         0.4079914778470993,
         0.4282081749290228,
         0.4298141788691282,
         0.43014653883874415,
         0.40489928647875784,
         0.41725307554006574,
         0.40114412978291514,
         0.4112100820988417,
         0.41106173302978277,
         0.42621272914111613,
         0.4007931035012007,
         0.3807778241112828,
         0.4329258222132921,
         0.40639262069016696,
         0.41267660818994045,
         0.41230187751352787,
         0.4170544121414423,
         0.39264964684844017,
         0.41700128093361855,
         0.40981768146157266,
         0.41757049672305585,
         0.4138380168005824,
         0.41077339872717855,
         0.41209164075553417,
         0.42292254269123075,
         0.4178564213216305,
         0.4288358446210623,
         0.39470294807106254,
         0.43912223875522616,
         0.4107960833236575,
         0.37938340082764627,
         0.4110096961259842,
         0.4424018647521734,
         0.4129996046423912,
         0.4083714455366135,
         0.42665725834667684,
         0.41910166926681997,
         0.4145623743534088,
         0.4173258006572723,
         0.4244950547814369,
         0.4211390022188425,
         0.39097354039549825,
         0.4011865515261889,
         0.40229385495185854,
         0.4006361957639456,
         0.41268967352807523,
         0.42024215050041674,
         0.4153626497834921,
         0.42876648250967264,
         0.41573135685175655,
         0.39012836329638956,
         0.42348477989435196,
         0.4054077211767435,
         0.42605920061469077,
         0.4190710037946701,
         0.4277472339570522,
         0.40462490618228913,
         0.42366865910589696,
         0.4119134474545717,
         0.4137397358193994,
         0.41607859805226327,
         0.43776451572775843,
         0.39549193903803825,
         0.42315125949680804,
         0.4103731881827116,
         0.41064730249345305,
         0.39654061384499073,
         0.4357325997203588,
         0.4247823886573315,
         0.40947747193276884,
         0.4107566222548485,
         0.4221896421164274
        ],
        [
         8.249112885445356,
         8.145324040204287,
         8.39112477004528,
         8.384480312466621,
         8.052592262625694,
         8.473849061876535,
         8.302459135651588,
         8.24045905470848,
         8.663634903728962,
         8.4866593927145,
         7.863083083182573,
         7.874538190662861,
         7.9164417535066605,
         8.297893844544888,
         8.154770828783512,
         8.584937527775764,
         8.493445470929146,
         8.120005540549755,
         8.378822054713964,
         7.94658375531435,
         7.84171299636364,
         8.361839160323143,
         8.05005657672882,
         8.146194219589233,
         8.16667702794075,
         8.080626547336578,
         8.196675546467304,
         8.589791126549244,
         8.159829556941986,
         8.564163498580456,
         8.596283577382565,
         8.602930776774883,
         8.097985729575157,
         8.345061510801315,
         8.022882595658302,
         8.224201641976833,
         8.221234660595655,
         8.524254582822323,
         8.015862070024014,
         7.6155564822256565,
         8.658516444265842,
         8.127852413803339,
         8.253532163798809,
         8.246037550270557,
         8.341088242828846,
         7.852992936968803,
         8.340025618672371,
         8.196353629231453,
         8.351409934461117,
         8.276760336011648,
         8.215467974543571,
         8.241832815110683,
         8.458450853824615,
         8.35712842643261,
         8.576716892421246,
         7.894058961421251,
         8.782444775104523,
         8.21592166647315,
         7.587668016552925,
         8.220193922519684,
         8.848037295043468,
         8.259992092847824,
         8.16742891073227,
         8.533145166933537,
         8.382033385336399,
         8.291247487068176,
         8.346516013145447,
         8.489901095628738,
         8.42278004437685,
         7.8194708079099655,
         8.023731030523777,
         8.04587709903717,
         8.012723915278912,
         8.253793470561504,
         8.404843010008335,
         8.307252995669842,
         8.575329650193453,
         8.314627137035131,
         7.802567265927792,
         8.46969559788704,
         8.10815442353487,
         8.521184012293816,
         8.381420075893402,
         8.554944679141045,
         8.092498123645782,
         8.473373182117939,
         8.238268949091434,
         8.274794716387987,
         8.321571961045265,
         8.755290314555168,
         7.909838780760765,
         8.463025189936161,
         8.207463763654232,
         8.21294604986906,
         7.930812276899815,
         8.714651994407177,
         8.49564777314663,
         8.189549438655376,
         8.21513244509697,
         8.443792842328548
        ],
        [
         2.909020702358865,
         2.7189212393970412,
         2.7677721493864826,
         2.8713019127594905,
         2.820382278712901,
         2.7877743673912803,
         2.7718353156898017,
         2.820794892219627,
         2.8075799731034294,
         2.7721441655998467,
         2.5421173275356796,
         2.600148669029995,
         2.689419535705058,
         2.8673665301530926,
         2.7823619782117186,
         2.876101583776093,
         2.9673669609001707,
         2.608512724226883,
         2.9550365235298823,
         2.6710316528926614,
         2.5413218754184883,
         2.868654809360013,
         2.6739079621892023,
         2.878120301592851,
         2.7492901082562375,
         2.7083126761284926,
         2.670995144897092,
         2.8696639683835183,
         2.8404292294258564,
         2.9298656004515324,
         2.9443346391765406,
         2.8858510972662734,
         2.8376200607647615,
         2.767545478967722,
         2.684141177123797,
         2.7797118345583005,
         2.76735956411,
         2.831081749364361,
         2.85080776409289,
         2.383576917852282,
         2.920926090548205,
         2.6463929768005165,
         2.8595782773991396,
         2.869846592063823,
         2.8452028420209055,
         2.6341729817297606,
         2.7476336009671627,
         2.8866058710578457,
         2.797757398822205,
         2.8087407221364873,
         2.742340733058978,
         2.728770050910992,
         2.9768885879924616,
         2.852607351919684,
         2.8191482775471512,
         2.54721669143391,
         2.967350834315908,
         2.74066425944877,
         2.675183859650917,
         2.7744894932120974,
         2.9536141321473393,
         2.735618094942093,
         2.8457871131915513,
         2.81779576791146,
         2.889216187023806,
         2.8611537550764163,
         2.8799585275642228,
         2.832114101211159,
         2.769182280049844,
         2.567962908355333,
         2.560432999866557,
         2.8832099882460303,
         2.8112794655315354,
         2.814908345287426,
         2.7730459495497386,
         2.845588949996608,
         2.8940964132396427,
         2.789755602463397,
         2.665417374263617,
         2.7221449779465012,
         2.7046822908820514,
         2.8964128302976166,
         2.8750479625245298,
         2.909712145329819,
         2.575396339697771,
         2.7775137991792005,
         2.8355389730386915,
         2.724175147272584,
         2.707288398910775,
         2.644107134145785,
         2.691597402095457,
         2.7804393708059694,
         2.888511918013309,
         2.867184956136851,
         2.5417868893249396,
         2.9395247557651443,
         2.7700092734656527,
         2.758643191763909,
         2.7001830008626615,
         2.8133789350989393
        ]
       ],
       "encoder": "json",
       "name": "ABC_GAN_1 Metrics",
       "version": 1
      }
     },
     "metadata": {
      "scrapbook": {
       "data": true,
       "display": false,
       "name": "ABC_GAN_1 Metrics"
      }
     },
     "output_type": "display_data"
    },
    {
     "name": "stdout",
     "output_type": "stream",
     "text": [
      "MSE\n",
      "0.3876911242957858\n"
     ]
    }
   ],
   "source": [
    "ABC_GAN1_metrics=ABC_train_test2.test_generator(gen,test_data,prior_model,variance,bias,\"1\",device)\n",
    "sb.glue(\"ABC_GAN_1 Metrics\",ABC_GAN1_metrics)\n",
    "\n",
    "print(\"MSE\")\n",
    "print(mean(ABC_GAN1_metrics[0]))"
   ]
  },
  {
   "cell_type": "code",
   "execution_count": 14,
   "id": "eb22ce5c",
   "metadata": {
    "execution": {
     "iopub.execute_input": "2022-06-22T15:52:19.977495Z",
     "iopub.status.busy": "2022-06-22T15:52:19.975066Z",
     "iopub.status.idle": "2022-06-22T15:52:21.436284Z",
     "shell.execute_reply": "2022-06-22T15:52:21.438042Z"
    },
    "papermill": {
     "duration": 1.575243,
     "end_time": "2022-06-22T15:52:21.438318",
     "exception": false,
     "start_time": "2022-06-22T15:52:19.863075",
     "status": "completed"
    },
    "tags": []
   },
   "outputs": [
    {
     "data": {
      "image/png": "[encoded data removed]",
      "text/plain": [
       "<Figure size 432x288 with 1 Axes>"
      ]
     },
     "metadata": {
      "needs_background": "light"
     },
     "output_type": "display_data"
    },
    {
     "data": {
      "image/png": "[encoded data removed]",
      "text/plain": [
       "<Figure size 432x288 with 1 Axes>"
      ]
     },
     "metadata": {
      "needs_background": "light"
     },
     "output_type": "display_data"
    },
    {
     "data": {
      "image/png": "[encoded data removed]",
      "text/plain": [
       "<Figure size 432x288 with 1 Axes>"
      ]
     },
     "metadata": {
      "needs_background": "light"
     },
     "output_type": "display_data"
    },
    {
     "data": {
      "image/png": "[encoded data removed]",
      "text/plain": [
       "<Figure size 432x288 with 1 Axes>"
      ]
     },
     "metadata": {
      "needs_background": "light"
     },
     "output_type": "display_data"
    }
   ],
   "source": [
    "sanityChecks.discProbVsError(train_data,disc,device)\n",
    "sanityChecks.discProbVsError(test_data,disc,device)"
   ]
  },
  {
   "cell_type": "markdown",
   "id": "130f3a4d",
   "metadata": {
    "id": "130f3a4d",
    "papermill": {
     "duration": 0.062404,
     "end_time": "2022-06-22T15:52:21.549413",
     "exception": false,
     "start_time": "2022-06-22T15:52:21.487009",
     "status": "completed"
    },
    "tags": []
   },
   "source": [
    "# ABC - GAN Model with skip connection"
   ]
  },
  {
   "cell_type": "code",
   "execution_count": 15,
   "id": "4e43dad1",
   "metadata": {
    "execution": {
     "iopub.execute_input": "2022-06-22T15:52:21.728196Z",
     "iopub.status.busy": "2022-06-22T15:52:21.725101Z",
     "iopub.status.idle": "2022-06-22T15:52:21.730700Z",
     "shell.execute_reply": "2022-06-22T15:52:21.732267Z"
    },
    "id": "4e43dad1",
    "papermill": {
     "duration": 0.103951,
     "end_time": "2022-06-22T15:52:21.732604",
     "exception": false,
     "start_time": "2022-06-22T15:52:21.628653",
     "status": "completed"
    },
    "tags": []
   },
   "outputs": [],
   "source": [
    "#Generator\n",
    "gen3 = network.GeneratorWithSkipConnection(n_features+1).to(device)\n",
    "constraints=network.weightConstraint()\n",
    "#Discriminator \n",
    "disc3 = network.Discriminator(n_features+1).to(device)\n",
    "\n",
    "criterion = torch.nn.BCELoss()\n",
    "gen_opt = torch.optim.Adam(gen3.parameters(), lr=0.001, betas=(0.5, 0.999))\n",
    "disc_opt = torch.optim.Adam(disc3.parameters(), lr=0.001, betas=(0.5, 0.999))\n"
   ]
  },
  {
   "cell_type": "code",
   "execution_count": 16,
   "id": "26acbc37",
   "metadata": {
    "execution": {
     "iopub.execute_input": "2022-06-22T15:52:21.854535Z",
     "iopub.status.busy": "2022-06-22T15:52:21.851275Z",
     "iopub.status.idle": "2022-06-22T15:54:42.870841Z",
     "shell.execute_reply": "2022-06-22T15:54:42.871515Z"
    },
    "id": "26acbc37",
    "papermill": {
     "duration": 141.084068,
     "end_time": "2022-06-22T15:54:42.871757",
     "exception": false,
     "start_time": "2022-06-22T15:52:21.787689",
     "status": "completed"
    },
    "tags": []
   },
   "outputs": [
    {
     "data": {
      "image/png": "[encoded data removed]",
      "text/plain": [
       "<Figure size 432x288 with 1 Axes>"
      ]
     },
     "metadata": {
      "needs_background": "light"
     },
     "output_type": "display_data"
    },
    {
     "data": {
      "image/png": "[encoded data removed]",
      "text/plain": [
       "<Figure size 432x288 with 1 Axes>"
      ]
     },
     "metadata": {
      "needs_background": "light"
     },
     "output_type": "display_data"
    }
   ],
   "source": [
    "ABC_train_test2.training_GAN_skip_connection(disc3,gen3,disc_opt,gen_opt,train_data,batch_size,n_epochs,criterion,prior_model,variance,bias,device)"
   ]
  },
  {
   "cell_type": "code",
   "execution_count": 17,
   "id": "c5e0717b",
   "metadata": {
    "execution": {
     "iopub.execute_input": "2022-06-22T15:54:43.066914Z",
     "iopub.status.busy": "2022-06-22T15:54:43.063216Z",
     "iopub.status.idle": "2022-06-22T15:54:44.533424Z",
     "shell.execute_reply": "2022-06-22T15:54:44.534349Z"
    },
    "id": "c5e0717b",
    "papermill": {
     "duration": 1.599789,
     "end_time": "2022-06-22T15:54:44.534724",
     "exception": false,
     "start_time": "2022-06-22T15:54:42.934935",
     "status": "completed"
    },
    "tags": []
   },
   "outputs": [
    {
     "data": {
      "application/scrapbook.scrap.json+json": {
       "data": 0.34938907265249436,
       "encoder": "json",
       "name": "ABC-GAN Model 3 MSE",
       "version": 1
      }
     },
     "metadata": {
      "scrapbook": {
       "data": true,
       "display": false,
       "name": "ABC-GAN Model 3 MSE"
      }
     },
     "output_type": "display_data"
    },
    {
     "data": {
      "application/scrapbook.scrap.json+json": {
       "data": 0.4465636498471722,
       "encoder": "json",
       "name": "ABC-GAN Model 3 MAE",
       "version": 1
      }
     },
     "metadata": {
      "scrapbook": {
       "data": true,
       "display": false,
       "name": "ABC-GAN Model 3 MAE"
      }
     },
     "output_type": "display_data"
    },
    {
     "data": {
      "application/scrapbook.scrap.json+json": {
       "data": 8.931272996943443,
       "encoder": "json",
       "name": "ABC-GAN Model 3 Manhattan Distance",
       "version": 1
      }
     },
     "metadata": {
      "scrapbook": {
       "data": true,
       "display": false,
       "name": "ABC-GAN Model 3 Manhattan Distance"
      }
     },
     "output_type": "display_data"
    },
    {
     "data": {
      "application/scrapbook.scrap.json+json": {
       "data": 2.63754399950116,
       "encoder": "json",
       "name": "ABC-GAN Model 3 Euclidean distance",
       "version": 1
      }
     },
     "metadata": {
      "scrapbook": {
       "data": true,
       "display": false,
       "name": "ABC-GAN Model 3 Euclidean distance"
      }
     },
     "output_type": "display_data"
    },
    {
     "data": {
      "application/scrapbook.scrap.json+json": {
       "data": [
        [
         0.25976858255291313,
         0.27035912224442116,
         0.33696756703538655,
         0.317160166377289,
         0.33472357937654634,
         0.3500448962130746,
         0.2928814199863433,
         0.35380823502586256,
         0.391188700659495,
         0.4116318086506774,
         0.3340162449533795,
         0.4171586625117779,
         0.2842874027835403,
         0.27553514876704477,
         0.39494326182747497,
         0.40577914212228416,
         0.3332697778465222,
         0.3710237368497334,
         0.3829741286446158,
         0.33107126409617516,
         0.2574728908503496,
         0.41118857459243313,
         0.34435817600238366,
         0.4535327362214299,
         0.34991071137433577,
         0.3601838756644352,
         0.3387121113697032,
         0.3633300117322002,
         0.4022283433238461,
         0.38278961665392297,
         0.33571453652583316,
         0.35276828910435565,
         0.3602881349206366,
         0.3723635674306238,
         0.31614061295710133,
         0.31615264523050984,
         0.41199987102104707,
         0.3859202090532444,
         0.41273034863993113,
         0.3553196060702189,
         0.2513986331818113,
         0.3252294438024116,
         0.4055484036205696,
         0.39406086837090576,
         0.2864904420904538,
         0.3246405991451828,
         0.3556914529103951,
         0.3082454730151052,
         0.3684700790222307,
         0.42107215855520996,
         0.2589293264073543,
         0.3504242464333572,
         0.38732401685852363,
         0.2991212941997621,
         0.38666109395955345,
         0.2708988233189078,
         0.3387544157117949,
         0.404857700830236,
         0.29313375275388465,
         0.3794281062984946,
         0.3075278553733692,
         0.39965045240299407,
         0.34365687068617057,
         0.32607415775379606,
         0.32990583274352303,
         0.350135848819982,
         0.3547734864120572,
         0.3751222636567749,
         0.3137875160033989,
         0.34258556402790796,
         0.305288736803566,
         0.40050825033779897,
         0.3074237930738929,
         0.4114189715183679,
         0.38545604913052534,
         0.3224330545570123,
         0.30767142844554235,
         0.3541480427702802,
         0.3046304351603365,
         0.420064041756082,
         0.3980957301800486,
         0.2915486172563927,
         0.3455081352432771,
         0.41740096504936713,
         0.3323812505190502,
         0.3467613329674543,
         0.3171465600951365,
         0.32794945357538274,
         0.4149173819083499,
         0.4199335476775219,
         0.39479220862494013,
         0.2781139608702866,
         0.2864420483433756,
         0.39666497670554113,
         0.28062834557799105,
         0.3216943982858152,
         0.33308514259862665,
         0.34498380106047816,
         0.4115817785765449,
         0.37493693095123326
        ],
        [
         0.42544540874660014,
         0.42867044527083636,
         0.4395507726818323,
         0.4483976997435093,
         0.44899827241897583,
         0.43870555739849804,
         0.4196757562458515,
         0.4466945754364133,
         0.4412462865933776,
         0.46147438399493695,
         0.4534739041700959,
         0.47874874379485843,
         0.4184875348582864,
         0.4314591858536005,
         0.4555940814316273,
         0.4603342594578862,
         0.4585951719433069,
         0.45168003886938096,
         0.46373548954725263,
         0.4372775634750724,
         0.4228237207978964,
         0.45581737384200094,
         0.4294992681592703,
         0.4838138695806265,
         0.44560882039368155,
         0.4471014067530632,
         0.44554363321512935,
         0.4623634936287999,
         0.45985285229980943,
         0.4833244437351823,
         0.43480997160077095,
         0.45798773560673,
         0.44373767003417014,
         0.4554770510643721,
         0.4396756585687399,
         0.44298971593379977,
         0.4693133760243654,
         0.45797181967645884,
         0.4853733032941818,
         0.4590942945331335,
         0.42187526952475307,
         0.42819897569715976,
         0.48184130154550076,
         0.460783363878727,
         0.4277353836223483,
         0.41741457507014273,
         0.4453651189804077,
         0.44974451288580897,
         0.4482832487672567,
         0.4641719486564398,
         0.41381830982863904,
         0.43831578651443126,
         0.458006277307868,
         0.42352842837572097,
         0.46476467344909905,
         0.4245772611349821,
         0.4389714427292347,
         0.45602782592177393,
         0.4195013649761677,
         0.4656288560479879,
         0.42875234726816414,
         0.4560852531343699,
         0.4493424125015736,
         0.4339192572981119,
         0.4314908007159829,
         0.4378286749124527,
         0.4368463270366192,
         0.4545818571001291,
         0.4356263618916273,
         0.4553162943571806,
         0.42484133653342726,
         0.45712372101843357,
         0.431489035487175,
         0.46756919883191583,
         0.4704891065135598,
         0.441985085979104,
         0.4337962495163083,
         0.4565045561641455,
         0.4164702743291855,
         0.4707566998898983,
         0.4464086160063744,
         0.41575364768505096,
         0.44114437559619546,
         0.4746547335758805,
         0.4527317602187395,
         0.4547983955591917,
         0.425626122392714,
         0.4357772383838892,
         0.4671121186576784,
         0.4715655859559774,
         0.456214796192944,
         0.41915878728032113,
         0.42793042622506616,
         0.4528486400842667,
         0.4283042408525944,
         0.4464280478656292,
         0.43936949633061884,
         0.4318016005679965,
         0.47297563720494507,
         0.4659673320129514
        ],
        [
         8.508908174932003,
         8.573408905416727,
         8.791015453636646,
         8.967953994870186,
         8.979965448379517,
         8.774111147969961,
         8.39351512491703,
         8.933891508728266,
         8.824925731867552,
         9.229487679898739,
         9.069478083401918,
         9.57497487589717,
         8.369750697165728,
         8.62918371707201,
         9.111881628632545,
         9.206685189157724,
         9.171903438866138,
         9.033600777387619,
         9.274709790945053,
         8.745551269501448,
         8.456474415957928,
         9.11634747684002,
         8.589985363185406,
         9.67627739161253,
         8.91217640787363,
         8.942028135061264,
         8.910872664302588,
         9.247269872575998,
         9.19705704599619,
         9.666488874703646,
         8.696199432015419,
         9.1597547121346,
         8.874753400683403,
         9.109541021287441,
         8.793513171374798,
         8.859794318675995,
         9.386267520487309,
         9.159436393529177,
         9.707466065883636,
         9.18188589066267,
         8.437505390495062,
         8.563979513943195,
         9.636826030910015,
         9.21566727757454,
         8.554707672446966,
         8.348291501402855,
         8.907302379608154,
         8.994890257716179,
         8.965664975345135,
         9.283438973128796,
         8.27636619657278,
         8.766315730288625,
         9.16012554615736,
         8.47056856751442,
         9.295293468981981,
         8.491545222699642,
         8.779428854584694,
         9.120556518435478,
         8.390027299523354,
         9.312577120959759,
         8.575046945363283,
         9.121705062687397,
         8.986848250031471,
         8.678385145962238,
         8.629816014319658,
         8.756573498249054,
         8.736926540732384,
         9.091637142002583,
         8.712527237832546,
         9.106325887143612,
         8.496826730668545,
         9.142474420368671,
         8.6297807097435,
         9.351383976638317,
         9.409782130271196,
         8.83970171958208,
         8.675924990326166,
         9.13009112328291,
         8.32940548658371,
         9.415133997797966,
         8.928172320127487,
         8.31507295370102,
         8.82288751192391,
         9.49309467151761,
         9.05463520437479,
         9.095967911183834,
         8.51252244785428,
         8.715544767677784,
         9.342242373153567,
         9.431311719119549,
         9.124295923858881,
         8.383175745606422,
         8.558608524501324,
         9.056972801685333,
         8.566084817051888,
         8.928560957312584,
         8.787389926612377,
         8.63603201135993,
         9.459512744098902,
         9.319346640259027
        ],
        [
         2.2793357916415613,
         2.3253349102631264,
         2.5960260670316337,
         2.5185716840196903,
         2.5873676946910593,
         2.645920997358291,
         2.4202537882889197,
         2.660106144595973,
         2.7971010016068245,
         2.8692570768429846,
         2.584632449511456,
         2.8884551667345573,
         2.3844806679171895,
         2.3474886528673347,
         2.8104919919027522,
         2.848786205113624,
         2.581742736395407,
         2.7240548336982258,
         2.7675770220343128,
         2.5732130269224704,
         2.269241683251696,
         2.8677118913601944,
         2.6243405876615316,
         3.011752766152726,
         2.6454138102547806,
         2.683966749661535,
         2.602737448801562,
         2.6956632272307317,
         2.8362945662390078,
         2.7669102502752883,
         2.5911948461118595,
         2.6561938525053312,
         2.6843551736707147,
         2.7289689167545452,
         2.5145202840983463,
         2.514568134811661,
         2.870539569561956,
         2.7782016091466235,
         2.873083182366745,
         2.6657817092561005,
         2.2423141313465043,
         2.5504095506502935,
         2.8479761362082003,
         2.8073505957429177,
         2.3937019116441958,
         2.5480996807235887,
         2.667176233061457,
         2.4829235711761455,
         2.7146641745241005,
         2.9019722898580884,
         2.2756507922234213,
         2.6473543262410386,
         2.7832499595204294,
         2.4458998107026466,
         2.7808671092288946,
         2.327654713736158,
         2.6028999816043448,
         2.8455498619080144,
         2.4212961518735567,
         2.75473449282683,
         2.480031674690342,
         2.8271910172572143,
         2.6216669150987526,
         2.5537194746244,
         2.568679944031654,
         2.6462647215272397,
         2.6637322929005354,
         2.7390591948943888,
         2.505144770281346,
         2.6175773685906893,
         2.470986591641347,
         2.830223490602108,
         2.4796120385007527,
         2.868515196119302,
         2.776530385681112,
         2.5394214087347233,
         2.480610523421774,
         2.6613832597740603,
         2.468321029203197,
         2.898496305866481,
         2.8216864821593792,
         2.4147406372378493,
         2.6287188333607574,
         2.889293910454134,
         2.5782988597873993,
         2.63348185096254,
         2.5185176596368604,
         2.5610523367373133,
         2.8806852723209797,
         2.8980460578725173,
         2.809954478723597,
         2.358448476733323,
         2.393499731954761,
         2.816611356596934,
         2.369085669949447,
         2.5365109827706847,
         2.5810274798948836,
         2.626723438280011,
         2.86908270559266,
         2.7383824822374003
        ]
       ],
       "encoder": "json",
       "name": "ABC_GAN_3 Metrics",
       "version": 1
      }
     },
     "metadata": {
      "scrapbook": {
       "data": true,
       "display": false,
       "name": "ABC_GAN_3 Metrics"
      }
     },
     "output_type": "display_data"
    },
    {
     "name": "stdout",
     "output_type": "stream",
     "text": [
      "MSE\n",
      "0.34938907265249436\n"
     ]
    }
   ],
   "source": [
    "ABC_GAN3_metrics=ABC_train_test2.test_generator(gen3,test_data,prior_model,variance,bias,\"3\",device)\n",
    "sb.glue(\"ABC_GAN_3 Metrics\",ABC_GAN3_metrics)\n",
    "\n",
    "print(\"MSE\")\n",
    "print(mean(ABC_GAN3_metrics[0]))"
   ]
  },
  {
   "cell_type": "code",
   "execution_count": 18,
   "id": "c8e46b48",
   "metadata": {
    "execution": {
     "iopub.execute_input": "2022-06-22T15:54:44.729768Z",
     "iopub.status.busy": "2022-06-22T15:54:44.726488Z",
     "iopub.status.idle": "2022-06-22T15:54:45.841603Z",
     "shell.execute_reply": "2022-06-22T15:54:45.842210Z"
    },
    "id": "c8e46b48",
    "papermill": {
     "duration": 1.243784,
     "end_time": "2022-06-22T15:54:45.842467",
     "exception": false,
     "start_time": "2022-06-22T15:54:44.598683",
     "status": "completed"
    },
    "tags": []
   },
   "outputs": [
    {
     "data": {
      "image/png": "[encoded data removed]",
      "text/plain": [
       "<Figure size 432x288 with 1 Axes>"
      ]
     },
     "metadata": {
      "needs_background": "light"
     },
     "output_type": "display_data"
    },
    {
     "data": {
      "image/png": "[encoded data removed]",
      "text/plain": [
       "<Figure size 432x288 with 1 Axes>"
      ]
     },
     "metadata": {
      "needs_background": "light"
     },
     "output_type": "display_data"
    },
    {
     "data": {
      "image/png": "[encoded data removed]",
      "text/plain": [
       "<Figure size 432x288 with 1 Axes>"
      ]
     },
     "metadata": {
      "needs_background": "light"
     },
     "output_type": "display_data"
    },
    {
     "data": {
      "image/png": "[encoded data removed]",
      "text/plain": [
       "<Figure size 432x288 with 1 Axes>"
      ]
     },
     "metadata": {
      "needs_background": "light"
     },
     "output_type": "display_data"
    }
   ],
   "source": [
    "sanityChecks.discProbVsError(train_data,disc3,device)\n",
    "sanityChecks.discProbVsError(test_data,disc3,device)"
   ]
  },
  {
   "cell_type": "markdown",
   "id": "a5bd74c3",
   "metadata": {
    "id": "a5bd74c3",
    "papermill": {
     "duration": 0.08908,
     "end_time": "2022-06-22T15:54:46.032116",
     "exception": false,
     "start_time": "2022-06-22T15:54:45.943036",
     "status": "completed"
    },
    "tags": []
   },
   "source": [
    "## Skip Connection Model Analysis - ABC-GAN "
   ]
  },
  {
   "cell_type": "markdown",
   "id": "5744a8bf",
   "metadata": {
    "id": "5744a8bf",
    "papermill": {
     "duration": 0.314614,
     "end_time": "2022-06-22T15:54:46.450145",
     "exception": false,
     "start_time": "2022-06-22T15:54:46.135531",
     "status": "completed"
    },
    "tags": []
   },
   "source": [
    "### Weight Analysis \n",
    "\n",
    "Study the weights of the skip connection layer\n",
    "\n",
    "Equation of the skip connection is \n",
    "\n",
    "$output = y_{gan} * w + y_{abc} * (1-w)$"
   ]
  },
  {
   "cell_type": "code",
   "execution_count": 19,
   "id": "52c31dea",
   "metadata": {
    "execution": {
     "iopub.execute_input": "2022-06-22T15:54:46.962681Z",
     "iopub.status.busy": "2022-06-22T15:54:46.961608Z",
     "iopub.status.idle": "2022-06-22T15:54:47.010976Z",
     "shell.execute_reply": "2022-06-22T15:54:47.002213Z"
    },
    "id": "52c31dea",
    "papermill": {
     "duration": 0.288792,
     "end_time": "2022-06-22T15:54:47.011215",
     "exception": false,
     "start_time": "2022-06-22T15:54:46.722423",
     "status": "completed"
    },
    "tags": []
   },
   "outputs": [
    {
     "name": "stdout",
     "output_type": "stream",
     "text": [
      "Weight of the node at skip connection\n",
      "Parameter containing:\n",
      "tensor([[0.9448]], requires_grad=True)\n"
     ]
    },
    {
     "data": {
      "application/scrapbook.scrap.json+json": {
       "data": 0.9447894096374512,
       "encoder": "json",
       "name": "Skip Connection Weight",
       "version": 1
      }
     },
     "metadata": {
      "scrapbook": {
       "data": true,
       "display": false,
       "name": "Skip Connection Weight"
      }
     },
     "output_type": "display_data"
    }
   ],
   "source": [
    "print(\"Weight of the node at skip connection\")\n",
    "for name,param in gen3.named_parameters():\n",
    "    if(name == \"skipNode.weight\"):\n",
    "        print(param)\n",
    "        sb.glue(\"Skip Connection Weight\",param.item())"
   ]
  }
 ],
 "metadata": {
  "colab": {
   "collapsed_sections": [],
   "name": "ABC_GAN_Model-Catboost_Pre-gen.ipynb",
   "provenance": []
  },
  "interpreter": {
   "hash": "31f2aee4e71d21fbe5cf8b01ff0e069b9275f58929596ceb00d14d90e3e16cd6"
  },
  "kernelspec": {
   "display_name": "Python 3 (ipykernel)",
   "language": "python",
   "name": "python3"
  },
  "language_info": {
   "codemirror_mode": {
    "name": "ipython",
    "version": 3
   },
   "file_extension": ".py",
   "mimetype": "text/x-python",
   "name": "python",
   "nbconvert_exporter": "python",
   "pygments_lexer": "ipython3",
   "version": "3.8.3"
  },
  "papermill": {
   "default_parameters": {},
   "duration": 289.92587,
   "end_time": "2022-06-22T15:54:50.903010",
   "environment_variables": {},
   "exception": null,
   "input_path": "ABC_GAN-TabNet.ipynb",
   "output_path": "./ABC_GAN_TabNet/ABC-GAN_output_9_0.ipynb",
   "parameters": {
    "bias": 1,
    "variance": 1
   },
   "start_time": "2022-06-22T15:50:00.977140",
   "version": "2.3.3"
  }
 },
 "nbformat": 4,
 "nbformat_minor": 5
}