{
 "cells": [
  {
   "cell_type": "markdown",
   "id": "622780e6",
   "metadata": {
    "id": "622780e6",
    "papermill": {
     "duration": 0.024917,
     "end_time": "2022-06-22T13:40:07.089661",
     "exception": false,
     "start_time": "2022-06-22T13:40:07.064744",
     "status": "completed"
    },
    "tags": []
   },
   "source": [
    "## Import Libraries "
   ]
  },
  {
   "cell_type": "code",
   "execution_count": 1,
   "id": "a62397e3",
   "metadata": {
    "execution": {
     "iopub.execute_input": "2022-06-22T13:40:07.155662Z",
     "iopub.status.busy": "2022-06-22T13:40:07.153665Z",
     "iopub.status.idle": "2022-06-22T13:40:07.158321Z",
     "shell.execute_reply": "2022-06-22T13:40:07.159342Z"
    },
    "id": "a62397e3",
    "papermill": {
     "duration": 0.046691,
     "end_time": "2022-06-22T13:40:07.159719",
     "exception": false,
     "start_time": "2022-06-22T13:40:07.113028",
     "status": "completed"
    },
    "tags": []
   },
   "outputs": [],
   "source": [
    "import warnings\n",
    "import sys\n",
    "sys.path.insert(0, '../../src')\n",
    "warnings.filterwarnings('ignore')"
   ]
  },
  {
   "cell_type": "code",
   "execution_count": 2,
   "id": "d6a4e155",
   "metadata": {
    "execution": {
     "iopub.execute_input": "2022-06-22T13:40:07.223493Z",
     "iopub.status.busy": "2022-06-22T13:40:07.214301Z",
     "iopub.status.idle": "2022-06-22T13:40:13.634225Z",
     "shell.execute_reply": "2022-06-22T13:40:13.635361Z"
    },
    "id": "d6a4e155",
    "papermill": {
     "duration": 6.451553,
     "end_time": "2022-06-22T13:40:13.635628",
     "exception": false,
     "start_time": "2022-06-22T13:40:07.184075",
     "status": "completed"
    },
    "tags": []
   },
   "outputs": [],
   "source": [
    "import ABC_train_test2\n",
    "import friedman3Dataset\n",
    "import network\n",
    "import dataset\n",
    "import sanityChecks\n",
    "import torch \n",
    "import scrapbook as sb\n",
    "from statistics import mean \n",
    "import catboost as ctb \n",
    "from sklearn.model_selection import train_test_split\n",
    "from sklearn.metrics import mean_squared_error,mean_absolute_error\n",
    "import numpy as np\n",
    "from pytorch_tabnet.tab_model import TabNetRegressor"
   ]
  },
  {
   "cell_type": "markdown",
   "id": "2fa5b0f7",
   "metadata": {
    "id": "2fa5b0f7",
    "papermill": {
     "duration": 0.021452,
     "end_time": "2022-06-22T13:40:13.674347",
     "exception": false,
     "start_time": "2022-06-22T13:40:13.652895",
     "status": "completed"
    },
    "tags": []
   },
   "source": [
    "## Parameters "
   ]
  },
  {
   "cell_type": "code",
   "execution_count": 3,
   "id": "783186fb",
   "metadata": {
    "execution": {
     "iopub.execute_input": "2022-06-22T13:40:13.726138Z",
     "iopub.status.busy": "2022-06-22T13:40:13.721236Z",
     "iopub.status.idle": "2022-06-22T13:40:13.727884Z",
     "shell.execute_reply": "2022-06-22T13:40:13.729806Z"
    },
    "id": "783186fb",
    "papermill": {
     "duration": 0.036082,
     "end_time": "2022-06-22T13:40:13.730149",
     "exception": false,
     "start_time": "2022-06-22T13:40:13.694067",
     "status": "completed"
    },
    "tags": [
     "parameters"
    ]
   },
   "outputs": [],
   "source": [
    "variance = 1\n",
    "bias = 1 "
   ]
  },
  {
   "cell_type": "code",
   "execution_count": 4,
   "id": "a71a0b6c",
   "metadata": {
    "execution": {
     "iopub.execute_input": "2022-06-22T13:40:13.775937Z",
     "iopub.status.busy": "2022-06-22T13:40:13.774433Z",
     "iopub.status.idle": "2022-06-22T13:40:13.776835Z",
     "shell.execute_reply": "2022-06-22T13:40:13.777401Z"
    },
    "papermill": {
     "duration": 0.026574,
     "end_time": "2022-06-22T13:40:13.777623",
     "exception": false,
     "start_time": "2022-06-22T13:40:13.751049",
     "status": "completed"
    },
    "tags": [
     "injected-parameters"
    ]
   },
   "outputs": [],
   "source": [
    "# Parameters\n",
    "variance = 1\n",
    "bias = 0.1\n"
   ]
  },
  {
   "cell_type": "markdown",
   "id": "391cdbfd",
   "metadata": {
    "id": "391cdbfd",
    "papermill": {
     "duration": 0.028029,
     "end_time": "2022-06-22T13:40:13.824983",
     "exception": false,
     "start_time": "2022-06-22T13:40:13.796954",
     "status": "completed"
    },
    "tags": []
   },
   "source": [
    "## Dataset \n"
   ]
  },
  {
   "cell_type": "code",
   "execution_count": 5,
   "id": "5b51f161",
   "metadata": {
    "execution": {
     "iopub.execute_input": "2022-06-22T13:40:13.865536Z",
     "iopub.status.busy": "2022-06-22T13:40:13.862244Z",
     "iopub.status.idle": "2022-06-22T13:40:13.868028Z",
     "shell.execute_reply": "2022-06-22T13:40:13.868699Z"
    },
    "id": "5b51f161",
    "papermill": {
     "duration": 0.026692,
     "end_time": "2022-06-22T13:40:13.868936",
     "exception": false,
     "start_time": "2022-06-22T13:40:13.842244",
     "status": "completed"
    },
    "tags": []
   },
   "outputs": [],
   "source": [
    "#Parameters \n",
    "n_features = 4\n",
    "n_samples= 100\n",
    "n_target = 1"
   ]
  },
  {
   "cell_type": "code",
   "execution_count": 6,
   "id": "5d6eced4",
   "metadata": {
    "execution": {
     "iopub.execute_input": "2022-06-22T13:40:13.906021Z",
     "iopub.status.busy": "2022-06-22T13:40:13.905255Z",
     "iopub.status.idle": "2022-06-22T13:40:13.923067Z",
     "shell.execute_reply": "2022-06-22T13:40:13.923806Z"
    },
    "id": "5d6eced4",
    "papermill": {
     "duration": 0.039471,
     "end_time": "2022-06-22T13:40:13.924189",
     "exception": false,
     "start_time": "2022-06-22T13:40:13.884718",
     "status": "completed"
    },
    "tags": []
   },
   "outputs": [
    {
     "name": "stdout",
     "output_type": "stream",
     "text": [
      "          X1           X2        X3         X4         Y\n",
      "0  50.422513  1686.475967  0.858158   7.666920  1.670405\n",
      "1  64.946199   735.812922  0.126713   6.510884  0.927856\n",
      "2  76.671955  1333.898697  0.811437  10.888911  1.666705\n",
      "3  14.490491   152.414173  0.444446   2.642440  1.293882\n",
      "4  57.491203   403.110824  0.741841   5.491447  1.446328\n"
     ]
    }
   ],
   "source": [
    "X,Y = friedman3Dataset.friedman3_data(n_samples)"
   ]
  },
  {
   "cell_type": "code",
   "execution_count": 7,
   "id": "fe007438",
   "metadata": {
    "execution": {
     "iopub.execute_input": "2022-06-22T13:40:13.973877Z",
     "iopub.status.busy": "2022-06-22T13:40:13.972086Z",
     "iopub.status.idle": "2022-06-22T13:40:13.975884Z",
     "shell.execute_reply": "2022-06-22T13:40:13.975278Z"
    },
    "id": "fe007438",
    "papermill": {
     "duration": 0.034944,
     "end_time": "2022-06-22T13:40:13.976095",
     "exception": false,
     "start_time": "2022-06-22T13:40:13.941151",
     "status": "completed"
    },
    "tags": []
   },
   "outputs": [],
   "source": [
    "#Train test split for dataset \n",
    "X_train,X_test,Y_train,Y_test = train_test_split(X,Y,test_size = 0.2)\n",
    "train_data = dataset.CustomDataset(X_train,Y_train)\n",
    "test_data = dataset.CustomDataset(X_test,Y_test)\n"
   ]
  },
  {
   "cell_type": "markdown",
   "id": "a9a1af34",
   "metadata": {
    "id": "a9a1af34",
    "papermill": {
     "duration": 0.019212,
     "end_time": "2022-06-22T13:40:14.012700",
     "exception": false,
     "start_time": "2022-06-22T13:40:13.993488",
     "status": "completed"
    },
    "tags": []
   },
   "source": [
    "## Training Parameters "
   ]
  },
  {
   "cell_type": "code",
   "execution_count": 8,
   "id": "952b7fc8",
   "metadata": {
    "execution": {
     "iopub.execute_input": "2022-06-22T13:40:14.052595Z",
     "iopub.status.busy": "2022-06-22T13:40:14.051559Z",
     "iopub.status.idle": "2022-06-22T13:40:14.053654Z",
     "shell.execute_reply": "2022-06-22T13:40:14.054159Z"
    },
    "id": "952b7fc8",
    "papermill": {
     "duration": 0.025301,
     "end_time": "2022-06-22T13:40:14.054377",
     "exception": false,
     "start_time": "2022-06-22T13:40:14.029076",
     "status": "completed"
    },
    "tags": []
   },
   "outputs": [],
   "source": [
    "batch_size = 32\n",
    "n_epochs = 1000\n",
    "#Select the device \n",
    "device = torch.device('cuda' if torch.cuda.is_available() else 'cpu')"
   ]
  },
  {
   "cell_type": "markdown",
   "id": "a95e1600",
   "metadata": {
    "id": "a95e1600",
    "papermill": {
     "duration": 0.030344,
     "end_time": "2022-06-22T13:40:14.100435",
     "exception": false,
     "start_time": "2022-06-22T13:40:14.070091",
     "status": "completed"
    },
    "tags": []
   },
   "source": [
    "# ABC Pre-generator Model \n",
    "\n",
    "1. The catboost model is used as a pre-generator model for the ABC-GAN. \n",
    "2. The model is first trained on the entire dataset \n",
    "3. It generats X,Y pairs and we add some Gaussian noise with mean 0 and variance 1 to it which is then feed as input to the generator.\n"
   ]
  },
  {
   "cell_type": "code",
   "execution_count": 9,
   "id": "ff8ce7bd",
   "metadata": {
    "execution": {
     "iopub.execute_input": "2022-06-22T13:40:14.152335Z",
     "iopub.status.busy": "2022-06-22T13:40:14.151242Z",
     "iopub.status.idle": "2022-06-22T13:40:29.559622Z",
     "shell.execute_reply": "2022-06-22T13:40:29.560162Z"
    },
    "id": "ff8ce7bd",
    "papermill": {
     "duration": 15.436772,
     "end_time": "2022-06-22T13:40:29.560374",
     "exception": false,
     "start_time": "2022-06-22T13:40:14.123602",
     "status": "completed"
    },
    "tags": []
   },
   "outputs": [
    {
     "name": "stdout",
     "output_type": "stream",
     "text": [
      "Device used : cpu\n"
     ]
    },
    {
     "name": "stdout",
     "output_type": "stream",
     "text": [
      "epoch 0  | loss: 0.81721 | train_mse: 5.13683 | train_mae: 1.58739 |  0:00:00s\n",
      "epoch 1  | loss: 0.71621 | train_mse: 2.96687 | train_mae: 1.18653 |  0:00:00s\n",
      "epoch 2  | loss: 0.74338 | train_mse: 1.84026 | train_mae: 1.00542 |  0:00:00s\n"
     ]
    },
    {
     "name": "stdout",
     "output_type": "stream",
     "text": [
      "epoch 3  | loss: 0.58602 | train_mse: 1.30694 | train_mae: 0.89028 |  0:00:00s\n",
      "epoch 4  | loss: 0.40691 | train_mse: 1.58023 | train_mae: 0.96409 |  0:00:00s\n",
      "epoch 5  | loss: 0.51685 | train_mse: 1.12477 | train_mae: 0.79127 |  0:00:00s\n"
     ]
    },
    {
     "name": "stdout",
     "output_type": "stream",
     "text": [
      "epoch 6  | loss: 0.33892 | train_mse: 0.93007 | train_mae: 0.67823 |  0:00:00s\n",
      "epoch 7  | loss: 0.32926 | train_mse: 0.8331  | train_mae: 0.6449  |  0:00:00s\n",
      "epoch 8  | loss: 0.2627  | train_mse: 0.82178 | train_mae: 0.66676 |  0:00:00s\n"
     ]
    },
    {
     "name": "stdout",
     "output_type": "stream",
     "text": [
      "epoch 9  | loss: 0.28637 | train_mse: 0.89209 | train_mae: 0.71041 |  0:00:01s\n",
      "epoch 10 | loss: 0.32096 | train_mse: 0.76577 | train_mae: 0.66976 |  0:00:01s\n",
      "epoch 11 | loss: 0.29084 | train_mse: 0.69233 | train_mae: 0.63912 |  0:00:01s\n"
     ]
    },
    {
     "name": "stdout",
     "output_type": "stream",
     "text": [
      "epoch 12 | loss: 0.29728 | train_mse: 0.47209 | train_mae: 0.53076 |  0:00:01s\n",
      "epoch 13 | loss: 0.27604 | train_mse: 0.39233 | train_mae: 0.48366 |  0:00:01s\n",
      "epoch 14 | loss: 0.20696 | train_mse: 0.50016 | train_mae: 0.53573 |  0:00:01s\n"
     ]
    },
    {
     "name": "stdout",
     "output_type": "stream",
     "text": [
      "epoch 15 | loss: 0.34717 | train_mse: 0.55405 | train_mae: 0.57752 |  0:00:01s\n",
      "epoch 16 | loss: 0.25948 | train_mse: 0.50941 | train_mae: 0.52254 |  0:00:01s\n",
      "epoch 17 | loss: 0.29367 | train_mse: 0.43191 | train_mae: 0.49252 |  0:00:01s\n"
     ]
    },
    {
     "name": "stdout",
     "output_type": "stream",
     "text": [
      "epoch 18 | loss: 0.29427 | train_mse: 0.40106 | train_mae: 0.49604 |  0:00:01s\n",
      "epoch 19 | loss: 0.23329 | train_mse: 0.34488 | train_mae: 0.45941 |  0:00:01s\n",
      "epoch 20 | loss: 0.26101 | train_mse: 0.36037 | train_mae: 0.46826 |  0:00:02s\n"
     ]
    },
    {
     "name": "stdout",
     "output_type": "stream",
     "text": [
      "epoch 21 | loss: 0.33692 | train_mse: 0.36603 | train_mae: 0.48476 |  0:00:02s\n",
      "epoch 22 | loss: 0.42623 | train_mse: 0.3918  | train_mae: 0.49538 |  0:00:02s\n"
     ]
    },
    {
     "name": "stdout",
     "output_type": "stream",
     "text": [
      "epoch 23 | loss: 0.39809 | train_mse: 0.45142 | train_mae: 0.5177  |  0:00:02s\n",
      "epoch 24 | loss: 0.27233 | train_mse: 0.47361 | train_mae: 0.52623 |  0:00:02s\n",
      "epoch 25 | loss: 0.38723 | train_mse: 0.40139 | train_mae: 0.4727  |  0:00:02s\n"
     ]
    },
    {
     "name": "stdout",
     "output_type": "stream",
     "text": [
      "epoch 26 | loss: 0.34779 | train_mse: 0.21677 | train_mae: 0.38273 |  0:00:02s\n",
      "epoch 27 | loss: 0.19864 | train_mse: 0.19621 | train_mae: 0.36648 |  0:00:02s\n",
      "epoch 28 | loss: 0.19122 | train_mse: 0.29624 | train_mae: 0.39255 |  0:00:02s\n"
     ]
    },
    {
     "name": "stdout",
     "output_type": "stream",
     "text": [
      "epoch 29 | loss: 0.20183 | train_mse: 0.32182 | train_mae: 0.41985 |  0:00:02s\n",
      "epoch 30 | loss: 0.239   | train_mse: 0.34333 | train_mae: 0.43506 |  0:00:02s\n",
      "epoch 31 | loss: 0.33059 | train_mse: 0.36817 | train_mae: 0.44937 |  0:00:02s\n"
     ]
    },
    {
     "name": "stdout",
     "output_type": "stream",
     "text": [
      "epoch 32 | loss: 0.43562 | train_mse: 0.44928 | train_mae: 0.47558 |  0:00:03s\n",
      "epoch 33 | loss: 0.36504 | train_mse: 0.37989 | train_mae: 0.46299 |  0:00:03s\n",
      "epoch 34 | loss: 0.35015 | train_mse: 0.31967 | train_mae: 0.42319 |  0:00:03s\n"
     ]
    },
    {
     "name": "stdout",
     "output_type": "stream",
     "text": [
      "epoch 35 | loss: 0.40503 | train_mse: 0.22429 | train_mae: 0.39097 |  0:00:03s\n",
      "epoch 36 | loss: 0.35747 | train_mse: 0.19331 | train_mae: 0.35949 |  0:00:03s\n",
      "epoch 37 | loss: 0.18292 | train_mse: 0.17234 | train_mae: 0.33234 |  0:00:03s\n"
     ]
    },
    {
     "name": "stdout",
     "output_type": "stream",
     "text": [
      "epoch 38 | loss: 0.23204 | train_mse: 0.16995 | train_mae: 0.33995 |  0:00:03s\n",
      "epoch 39 | loss: 0.21902 | train_mse: 0.15735 | train_mae: 0.32862 |  0:00:03s\n",
      "epoch 40 | loss: 0.21763 | train_mse: 0.1826  | train_mae: 0.34595 |  0:00:03s\n"
     ]
    },
    {
     "name": "stdout",
     "output_type": "stream",
     "text": [
      "epoch 41 | loss: 0.20989 | train_mse: 0.20723 | train_mae: 0.35563 |  0:00:03s\n",
      "epoch 42 | loss: 0.1865  | train_mse: 0.17653 | train_mae: 0.34206 |  0:00:03s\n",
      "epoch 43 | loss: 0.18473 | train_mse: 0.18303 | train_mae: 0.34111 |  0:00:03s\n"
     ]
    },
    {
     "name": "stdout",
     "output_type": "stream",
     "text": [
      "epoch 44 | loss: 0.24026 | train_mse: 0.1922  | train_mae: 0.33688 |  0:00:04s\n",
      "epoch 45 | loss: 0.16501 | train_mse: 0.23202 | train_mae: 0.36993 |  0:00:04s\n"
     ]
    },
    {
     "name": "stdout",
     "output_type": "stream",
     "text": [
      "epoch 46 | loss: 0.22091 | train_mse: 0.2398  | train_mae: 0.37398 |  0:00:04s\n",
      "epoch 47 | loss: 0.14436 | train_mse: 0.29495 | train_mae: 0.38172 |  0:00:04s\n",
      "epoch 48 | loss: 0.23789 | train_mse: 0.20319 | train_mae: 0.34723 |  0:00:04s\n"
     ]
    },
    {
     "name": "stdout",
     "output_type": "stream",
     "text": [
      "epoch 49 | loss: 0.23029 | train_mse: 0.22115 | train_mae: 0.36553 |  0:00:04s\n",
      "epoch 50 | loss: 0.2933  | train_mse: 0.2434  | train_mae: 0.38752 |  0:00:04s\n",
      "epoch 51 | loss: 0.1879  | train_mse: 0.23857 | train_mae: 0.38466 |  0:00:04s\n"
     ]
    },
    {
     "name": "stdout",
     "output_type": "stream",
     "text": [
      "epoch 52 | loss: 0.26063 | train_mse: 0.24197 | train_mae: 0.38799 |  0:00:04s\n",
      "epoch 53 | loss: 0.24764 | train_mse: 0.17492 | train_mae: 0.33298 |  0:00:04s\n",
      "epoch 54 | loss: 0.16807 | train_mse: 0.15598 | train_mae: 0.32807 |  0:00:04s\n"
     ]
    },
    {
     "name": "stdout",
     "output_type": "stream",
     "text": [
      "epoch 55 | loss: 0.16246 | train_mse: 0.14272 | train_mae: 0.31131 |  0:00:05s\n",
      "epoch 56 | loss: 0.15883 | train_mse: 0.10517 | train_mae: 0.25974 |  0:00:05s\n",
      "epoch 57 | loss: 0.14231 | train_mse: 0.10387 | train_mae: 0.25653 |  0:00:05s\n"
     ]
    },
    {
     "name": "stdout",
     "output_type": "stream",
     "text": [
      "epoch 58 | loss: 0.12378 | train_mse: 0.10946 | train_mae: 0.25809 |  0:00:05s\n",
      "epoch 59 | loss: 0.20858 | train_mse: 0.11034 | train_mae: 0.26245 |  0:00:05s\n",
      "epoch 60 | loss: 0.39342 | train_mse: 0.17954 | train_mae: 0.3244  |  0:00:05s\n"
     ]
    },
    {
     "name": "stdout",
     "output_type": "stream",
     "text": [
      "epoch 61 | loss: 0.21028 | train_mse: 0.20119 | train_mae: 0.33348 |  0:00:05s\n",
      "epoch 62 | loss: 0.24914 | train_mse: 0.18783 | train_mae: 0.31345 |  0:00:05s\n",
      "epoch 63 | loss: 0.17484 | train_mse: 0.20245 | train_mae: 0.33143 |  0:00:05s\n"
     ]
    },
    {
     "name": "stdout",
     "output_type": "stream",
     "text": [
      "epoch 64 | loss: 0.23888 | train_mse: 0.18954 | train_mae: 0.32623 |  0:00:05s\n",
      "epoch 65 | loss: 0.32884 | train_mse: 0.18304 | train_mae: 0.32666 |  0:00:05s\n",
      "epoch 66 | loss: 0.25055 | train_mse: 0.17663 | train_mae: 0.31892 |  0:00:06s\n"
     ]
    },
    {
     "name": "stdout",
     "output_type": "stream",
     "text": [
      "epoch 67 | loss: 0.15004 | train_mse: 0.16045 | train_mae: 0.31906 |  0:00:06s\n",
      "epoch 68 | loss: 0.15639 | train_mse: 0.17224 | train_mae: 0.31983 |  0:00:06s\n"
     ]
    },
    {
     "name": "stdout",
     "output_type": "stream",
     "text": [
      "epoch 69 | loss: 0.21288 | train_mse: 0.15202 | train_mae: 0.30224 |  0:00:06s\n",
      "epoch 70 | loss: 0.2272  | train_mse: 0.1448  | train_mae: 0.2944  |  0:00:06s\n",
      "epoch 71 | loss: 0.17882 | train_mse: 0.14923 | train_mae: 0.2887  |  0:00:06s\n"
     ]
    },
    {
     "name": "stdout",
     "output_type": "stream",
     "text": [
      "epoch 72 | loss: 0.17086 | train_mse: 0.15589 | train_mae: 0.30197 |  0:00:06s\n",
      "epoch 73 | loss: 0.17369 | train_mse: 0.15993 | train_mae: 0.30253 |  0:00:06s\n",
      "epoch 74 | loss: 0.19232 | train_mse: 0.16042 | train_mae: 0.30258 |  0:00:06s\n"
     ]
    },
    {
     "name": "stdout",
     "output_type": "stream",
     "text": [
      "epoch 75 | loss: 0.13692 | train_mse: 0.15933 | train_mae: 0.305   |  0:00:06s\n",
      "epoch 76 | loss: 0.19619 | train_mse: 0.15902 | train_mae: 0.3111  |  0:00:06s\n",
      "epoch 77 | loss: 0.19158 | train_mse: 0.1247  | train_mae: 0.27095 |  0:00:06s\n"
     ]
    },
    {
     "name": "stdout",
     "output_type": "stream",
     "text": [
      "epoch 78 | loss: 0.16655 | train_mse: 0.13367 | train_mae: 0.28043 |  0:00:07s\n",
      "epoch 79 | loss: 0.16984 | train_mse: 0.14567 | train_mae: 0.29684 |  0:00:07s\n",
      "epoch 80 | loss: 0.17799 | train_mse: 0.13776 | train_mae: 0.28998 |  0:00:07s\n"
     ]
    },
    {
     "name": "stdout",
     "output_type": "stream",
     "text": [
      "epoch 81 | loss: 0.16427 | train_mse: 0.12662 | train_mae: 0.2797  |  0:00:07s\n",
      "epoch 82 | loss: 0.16164 | train_mse: 0.12372 | train_mae: 0.27167 |  0:00:07s\n",
      "epoch 83 | loss: 0.20818 | train_mse: 0.11626 | train_mae: 0.26074 |  0:00:07s\n"
     ]
    },
    {
     "name": "stdout",
     "output_type": "stream",
     "text": [
      "epoch 84 | loss: 0.15054 | train_mse: 0.13243 | train_mae: 0.28511 |  0:00:07s\n",
      "epoch 85 | loss: 0.26478 | train_mse: 0.13222 | train_mae: 0.27926 |  0:00:07s\n",
      "epoch 86 | loss: 0.26931 | train_mse: 0.12904 | train_mae: 0.28099 |  0:00:07s\n"
     ]
    },
    {
     "name": "stdout",
     "output_type": "stream",
     "text": [
      "epoch 87 | loss: 0.25481 | train_mse: 0.15921 | train_mae: 0.31571 |  0:00:07s\n",
      "epoch 88 | loss: 0.16612 | train_mse: 0.1414  | train_mae: 0.29391 |  0:00:07s\n",
      "epoch 89 | loss: 0.16906 | train_mse: 0.12471 | train_mae: 0.27363 |  0:00:07s\n"
     ]
    },
    {
     "name": "stdout",
     "output_type": "stream",
     "text": [
      "epoch 90 | loss: 0.15202 | train_mse: 0.12039 | train_mae: 0.26673 |  0:00:08s\n",
      "epoch 91 | loss: 0.12621 | train_mse: 0.10367 | train_mae: 0.25114 |  0:00:08s\n",
      "epoch 92 | loss: 0.15919 | train_mse: 0.10061 | train_mae: 0.24906 |  0:00:08s\n"
     ]
    },
    {
     "name": "stdout",
     "output_type": "stream",
     "text": [
      "epoch 93 | loss: 0.32793 | train_mse: 0.10398 | train_mae: 0.25523 |  0:00:08s\n",
      "epoch 94 | loss: 0.19565 | train_mse: 0.11494 | train_mae: 0.26976 |  0:00:08s\n",
      "epoch 95 | loss: 0.17687 | train_mse: 0.10646 | train_mae: 0.25483 |  0:00:08s\n"
     ]
    },
    {
     "name": "stdout",
     "output_type": "stream",
     "text": [
      "epoch 96 | loss: 0.14152 | train_mse: 0.09669 | train_mae: 0.24482 |  0:00:08s\n",
      "epoch 97 | loss: 0.17637 | train_mse: 0.1093  | train_mae: 0.26806 |  0:00:08s\n",
      "epoch 98 | loss: 0.18247 | train_mse: 0.11308 | train_mae: 0.27032 |  0:00:08s\n"
     ]
    },
    {
     "name": "stdout",
     "output_type": "stream",
     "text": [
      "epoch 99 | loss: 0.1741  | train_mse: 0.12249 | train_mae: 0.28065 |  0:00:08s\n",
      "epoch 100| loss: 0.10748 | train_mse: 0.11192 | train_mae: 0.26386 |  0:00:08s\n",
      "epoch 101| loss: 0.11412 | train_mse: 0.11513 | train_mae: 0.26585 |  0:00:08s\n"
     ]
    },
    {
     "name": "stdout",
     "output_type": "stream",
     "text": [
      "epoch 102| loss: 0.17968 | train_mse: 0.10854 | train_mae: 0.25434 |  0:00:09s\n",
      "epoch 103| loss: 0.12695 | train_mse: 0.09269 | train_mae: 0.23513 |  0:00:09s\n",
      "epoch 104| loss: 0.10359 | train_mse: 0.10017 | train_mae: 0.25707 |  0:00:09s\n"
     ]
    },
    {
     "name": "stdout",
     "output_type": "stream",
     "text": [
      "epoch 105| loss: 0.12509 | train_mse: 0.10196 | train_mae: 0.25556 |  0:00:09s\n",
      "epoch 106| loss: 0.15176 | train_mse: 0.10964 | train_mae: 0.26108 |  0:00:09s\n",
      "epoch 107| loss: 0.28963 | train_mse: 0.10743 | train_mae: 0.25877 |  0:00:09s\n"
     ]
    },
    {
     "name": "stdout",
     "output_type": "stream",
     "text": [
      "epoch 108| loss: 0.12666 | train_mse: 0.10467 | train_mae: 0.25544 |  0:00:09s\n",
      "epoch 109| loss: 0.14068 | train_mse: 0.09843 | train_mae: 0.24815 |  0:00:09s\n",
      "epoch 110| loss: 0.14969 | train_mse: 0.10056 | train_mae: 0.24939 |  0:00:09s\n"
     ]
    },
    {
     "name": "stdout",
     "output_type": "stream",
     "text": [
      "epoch 111| loss: 0.1254  | train_mse: 0.08491 | train_mae: 0.23225 |  0:00:09s\n",
      "epoch 112| loss: 0.15458 | train_mse: 0.09212 | train_mae: 0.23774 |  0:00:09s\n",
      "epoch 113| loss: 0.16601 | train_mse: 0.09006 | train_mae: 0.24272 |  0:00:09s\n"
     ]
    },
    {
     "name": "stdout",
     "output_type": "stream",
     "text": [
      "epoch 114| loss: 0.25077 | train_mse: 0.08932 | train_mae: 0.22899 |  0:00:10s\n"
     ]
    },
    {
     "name": "stdout",
     "output_type": "stream",
     "text": [
      "epoch 115| loss: 0.1437  | train_mse: 0.096   | train_mae: 0.23456 |  0:00:10s\n",
      "epoch 116| loss: 0.1876  | train_mse: 0.09369 | train_mae: 0.24542 |  0:00:10s\n",
      "epoch 117| loss: 0.2718  | train_mse: 0.10065 | train_mae: 0.24782 |  0:00:10s\n"
     ]
    },
    {
     "name": "stdout",
     "output_type": "stream",
     "text": [
      "epoch 118| loss: 0.14629 | train_mse: 0.08637 | train_mae: 0.23014 |  0:00:10s\n",
      "epoch 119| loss: 0.1213  | train_mse: 0.10787 | train_mae: 0.25858 |  0:00:10s\n"
     ]
    },
    {
     "name": "stdout",
     "output_type": "stream",
     "text": [
      "epoch 120| loss: 0.13619 | train_mse: 0.10445 | train_mae: 0.24873 |  0:00:10s\n",
      "epoch 121| loss: 0.19011 | train_mse: 0.09136 | train_mae: 0.23637 |  0:00:10s\n"
     ]
    },
    {
     "name": "stdout",
     "output_type": "stream",
     "text": [
      "epoch 122| loss: 0.12596 | train_mse: 0.10042 | train_mae: 0.251   |  0:00:11s\n",
      "epoch 123| loss: 0.1564  | train_mse: 0.11318 | train_mae: 0.26935 |  0:00:11s\n"
     ]
    },
    {
     "name": "stdout",
     "output_type": "stream",
     "text": [
      "epoch 124| loss: 0.16547 | train_mse: 0.16048 | train_mae: 0.30738 |  0:00:11s\n",
      "epoch 125| loss: 0.18293 | train_mse: 0.15745 | train_mae: 0.30575 |  0:00:11s\n"
     ]
    },
    {
     "name": "stdout",
     "output_type": "stream",
     "text": [
      "epoch 126| loss: 0.12714 | train_mse: 0.13802 | train_mae: 0.28796 |  0:00:11s\n",
      "epoch 127| loss: 0.14399 | train_mse: 0.14059 | train_mae: 0.27598 |  0:00:11s\n",
      "epoch 128| loss: 0.24697 | train_mse: 0.18723 | train_mae: 0.29688 |  0:00:11s\n"
     ]
    },
    {
     "name": "stdout",
     "output_type": "stream",
     "text": [
      "epoch 129| loss: 0.27001 | train_mse: 0.2215  | train_mae: 0.32095 |  0:00:12s\n",
      "epoch 130| loss: 0.13573 | train_mse: 0.1264  | train_mae: 0.26695 |  0:00:12s\n"
     ]
    },
    {
     "name": "stdout",
     "output_type": "stream",
     "text": [
      "epoch 131| loss: 0.24922 | train_mse: 0.11111 | train_mae: 0.25608 |  0:00:12s\n",
      "epoch 132| loss: 0.16472 | train_mse: 0.14356 | train_mae: 0.2883  |  0:00:12s\n"
     ]
    },
    {
     "name": "stdout",
     "output_type": "stream",
     "text": [
      "epoch 133| loss: 0.17961 | train_mse: 0.15681 | train_mae: 0.28756 |  0:00:12s\n",
      "epoch 134| loss: 0.22142 | train_mse: 0.20514 | train_mae: 0.28764 |  0:00:12s\n"
     ]
    },
    {
     "name": "stdout",
     "output_type": "stream",
     "text": [
      "epoch 135| loss: 0.21809 | train_mse: 0.17887 | train_mae: 0.28885 |  0:00:12s\n",
      "epoch 136| loss: 0.20948 | train_mse: 0.19389 | train_mae: 0.30535 |  0:00:12s\n",
      "epoch 137| loss: 0.17027 | train_mse: 0.19145 | train_mae: 0.29868 |  0:00:13s\n"
     ]
    },
    {
     "name": "stdout",
     "output_type": "stream",
     "text": [
      "epoch 138| loss: 0.28458 | train_mse: 0.15735 | train_mae: 0.28817 |  0:00:13s\n",
      "epoch 139| loss: 0.2454  | train_mse: 0.15177 | train_mae: 0.28971 |  0:00:13s\n",
      "epoch 140| loss: 0.30568 | train_mse: 0.17209 | train_mae: 0.31181 |  0:00:13s\n"
     ]
    },
    {
     "name": "stdout",
     "output_type": "stream",
     "text": [
      "epoch 141| loss: 0.23911 | train_mse: 0.19576 | train_mae: 0.32872 |  0:00:13s\n",
      "epoch 142| loss: 0.22493 | train_mse: 0.20305 | train_mae: 0.33811 |  0:00:13s\n",
      "epoch 143| loss: 0.2507  | train_mse: 0.2004  | train_mae: 0.33662 |  0:00:13s\n"
     ]
    },
    {
     "name": "stdout",
     "output_type": "stream",
     "text": [
      "epoch 144| loss: 0.18545 | train_mse: 0.20369 | train_mae: 0.3408  |  0:00:13s\n",
      "epoch 145| loss: 0.26201 | train_mse: 0.22711 | train_mae: 0.36311 |  0:00:13s\n",
      "epoch 146| loss: 0.16494 | train_mse: 0.23071 | train_mae: 0.35278 |  0:00:13s\n"
     ]
    },
    {
     "name": "stdout",
     "output_type": "stream",
     "text": [
      "epoch 147| loss: 0.19142 | train_mse: 0.24112 | train_mae: 0.35298 |  0:00:13s\n",
      "epoch 148| loss: 0.18865 | train_mse: 0.23823 | train_mae: 0.35188 |  0:00:13s\n",
      "epoch 149| loss: 0.20878 | train_mse: 0.22055 | train_mae: 0.33973 |  0:00:14s\n"
     ]
    },
    {
     "name": "stdout",
     "output_type": "stream",
     "text": [
      "epoch 150| loss: 0.16268 | train_mse: 0.20362 | train_mae: 0.3347  |  0:00:14s\n",
      "epoch 151| loss: 0.13958 | train_mse: 0.20428 | train_mae: 0.33324 |  0:00:14s\n",
      "epoch 152| loss: 0.15364 | train_mse: 0.22312 | train_mae: 0.34484 |  0:00:14s\n"
     ]
    },
    {
     "name": "stdout",
     "output_type": "stream",
     "text": [
      "epoch 153| loss: 0.20905 | train_mse: 0.22431 | train_mae: 0.34279 |  0:00:14s\n",
      "epoch 154| loss: 0.17284 | train_mse: 0.21534 | train_mae: 0.33337 |  0:00:14s\n",
      "epoch 155| loss: 0.19905 | train_mse: 0.23264 | train_mae: 0.34256 |  0:00:14s\n"
     ]
    },
    {
     "name": "stdout",
     "output_type": "stream",
     "text": [
      "epoch 156| loss: 0.22879 | train_mse: 0.26382 | train_mae: 0.36353 |  0:00:14s\n",
      "epoch 157| loss: 0.18501 | train_mse: 0.29764 | train_mae: 0.38024 |  0:00:14s\n",
      "epoch 158| loss: 0.26044 | train_mse: 0.27586 | train_mae: 0.36756 |  0:00:14s\n"
     ]
    },
    {
     "name": "stdout",
     "output_type": "stream",
     "text": [
      "epoch 159| loss: 0.18335 | train_mse: 0.26126 | train_mae: 0.36257 |  0:00:14s\n",
      "epoch 160| loss: 0.21398 | train_mse: 0.27423 | train_mae: 0.37007 |  0:00:14s\n",
      "epoch 161| loss: 0.19577 | train_mse: 0.25672 | train_mae: 0.35693 |  0:00:15s\n"
     ]
    },
    {
     "name": "stdout",
     "output_type": "stream",
     "text": [
      "epoch 162| loss: 0.19802 | train_mse: 0.23291 | train_mae: 0.34639 |  0:00:15s\n",
      "epoch 163| loss: 0.26121 | train_mse: 0.23147 | train_mae: 0.34748 |  0:00:15s\n",
      "epoch 164| loss: 0.17551 | train_mse: 0.22843 | train_mae: 0.34743 |  0:00:15s\n",
      "\n",
      "Early stopping occurred at epoch 164 with best_epoch = 114 and best_train_mae = 0.22899\n",
      "Best weights from best epoch are automatically used!\n"
     ]
    }
   ],
   "source": [
    "#Train the Model\n",
    "\n",
    "Y_train = np.reshape(Y_train, (-1, 1))\n",
    "Y_test = np.reshape(Y_test, (-1, 1))\n",
    "\n",
    "prior_model = TabNetRegressor(optimizer_fn=torch.optim.Adam, optimizer_params=dict(lr = 0.02),\n",
    "          #scheduler_params={\"step_size\":10, ], \"gamma\":0.9},\n",
    "          #scheduler_fn=torch.optim.lr_scheduler.StepLR\n",
    "          )  #TabNetRegressor()\n",
    "\n",
    "prior_model.fit(X_train,Y_train,eval_set=[(X_train, Y_train)],\n",
    "            eval_name=['train'], \n",
    "            eval_metric=[ 'mse', 'mae'], \n",
    "            max_epochs = n_epochs, \n",
    "            batch_size = batch_size,\n",
    "            patience=50\n",
    "            )"
   ]
  },
  {
   "cell_type": "code",
   "execution_count": 10,
   "id": "af65dcda",
   "metadata": {
    "execution": {
     "iopub.execute_input": "2022-06-22T13:40:29.657806Z",
     "iopub.status.busy": "2022-06-22T13:40:29.657032Z",
     "iopub.status.idle": "2022-06-22T13:40:29.682333Z",
     "shell.execute_reply": "2022-06-22T13:40:29.683936Z"
    },
    "id": "af65dcda",
    "papermill": {
     "duration": 0.083823,
     "end_time": "2022-06-22T13:40:29.684219",
     "exception": false,
     "start_time": "2022-06-22T13:40:29.600396",
     "status": "completed"
    },
    "tags": []
   },
   "outputs": [
    {
     "data": {
      "application/scrapbook.scrap.json+json": {
       "data": 0.5061239618308084,
       "encoder": "json",
       "name": "Prior Model MSE",
       "version": 1
      }
     },
     "metadata": {
      "scrapbook": {
       "data": true,
       "display": false,
       "name": "Prior Model MSE"
      }
     },
     "output_type": "display_data"
    },
    {
     "data": {
      "application/scrapbook.scrap.json+json": {
       "data": 1.008490631596365,
       "encoder": "json",
       "name": "ABC Pre-generator MSE",
       "version": 1
      }
     },
     "metadata": {
      "scrapbook": {
       "data": true,
       "display": false,
       "name": "ABC Pre-generator MSE"
      }
     },
     "output_type": "display_data"
    },
    {
     "data": {
      "application/scrapbook.scrap.json+json": {
       "data": 0.4614308676044052,
       "encoder": "json",
       "name": "Prior Model MSE",
       "version": 1
      }
     },
     "metadata": {
      "scrapbook": {
       "data": true,
       "display": false,
       "name": "Prior Model MSE"
      }
     },
     "output_type": "display_data"
    },
    {
     "data": {
      "application/scrapbook.scrap.json+json": {
       "data": 0.770567351293518,
       "encoder": "json",
       "name": "ABC Pre-generator MSE",
       "version": 1
      }
     },
     "metadata": {
      "scrapbook": {
       "data": true,
       "display": false,
       "name": "ABC Pre-generator MSE"
      }
     },
     "output_type": "display_data"
    }
   ],
   "source": [
    "y_pred = prior_model.predict(X_test)\n",
    "y_abc = y_pred + np.random.normal(0,variance, y_pred.shape) + bias \n",
    "mse = mean_squared_error(y_pred,Y_test)\n",
    "sb.glue(\"Prior Model MSE\",mse)\n",
    "mse = mean_squared_error(y_abc,Y_test)\n",
    "sb.glue(\"ABC Pre-generator MSE\",mse)\n",
    "mae = mean_absolute_error(y_pred,Y_test)\n",
    "sb.glue(\"Prior Model MSE\",mae)\n",
    "mae = mean_absolute_error(y_abc,Y_test)\n",
    "sb.glue(\"ABC Pre-generator MSE\",mae)"
   ]
  },
  {
   "cell_type": "markdown",
   "id": "25609da2",
   "metadata": {
    "papermill": {
     "duration": 0.048606,
     "end_time": "2022-06-22T13:40:29.772907",
     "exception": false,
     "start_time": "2022-06-22T13:40:29.724301",
     "status": "completed"
    },
    "tags": []
   },
   "source": [
    "# ABC GAN Model"
   ]
  },
  {
   "cell_type": "code",
   "execution_count": 11,
   "id": "dfc3464d",
   "metadata": {
    "execution": {
     "iopub.execute_input": "2022-06-22T13:40:29.865923Z",
     "iopub.status.busy": "2022-06-22T13:40:29.864672Z",
     "iopub.status.idle": "2022-06-22T13:40:29.866871Z",
     "shell.execute_reply": "2022-06-22T13:40:29.867656Z"
    },
    "papermill": {
     "duration": 0.055446,
     "end_time": "2022-06-22T13:40:29.867888",
     "exception": false,
     "start_time": "2022-06-22T13:40:29.812442",
     "status": "completed"
    },
    "tags": []
   },
   "outputs": [],
   "source": [
    "gen = network.Generator(n_features+1).to(device)\n",
    "disc = network.Discriminator(n_features+1).to(device)\n",
    "\n",
    "criterion = torch.nn.BCELoss()\n",
    "gen_opt = torch.optim.Adam(gen.parameters(), lr=0.001, betas=(0.5, 0.999))\n",
    "disc_opt = torch.optim.Adam(disc.parameters(), lr=0.001, betas=(0.5, 0.999))"
   ]
  },
  {
   "cell_type": "code",
   "execution_count": 12,
   "id": "b75fdd85",
   "metadata": {
    "execution": {
     "iopub.execute_input": "2022-06-22T13:40:29.965737Z",
     "iopub.status.busy": "2022-06-22T13:40:29.964598Z",
     "iopub.status.idle": "2022-06-22T13:41:22.736307Z",
     "shell.execute_reply": "2022-06-22T13:41:22.736977Z"
    },
    "papermill": {
     "duration": 52.829767,
     "end_time": "2022-06-22T13:41:22.737204",
     "exception": false,
     "start_time": "2022-06-22T13:40:29.907437",
     "status": "completed"
    },
    "tags": []
   },
   "outputs": [
    {
     "data": {
      "image/png": "[encoded data removed]",
      "text/plain": [
       "<Figure size 432x288 with 1 Axes>"
      ]
     },
     "metadata": {
      "needs_background": "light"
     },
     "output_type": "display_data"
    },
    {
     "data": {
      "image/png": "[encoded data removed]",
      "text/plain": [
       "<Figure size 432x288 with 1 Axes>"
      ]
     },
     "metadata": {
      "needs_background": "light"
     },
     "output_type": "display_data"
    }
   ],
   "source": [
    "#Training the ABC_GAN \n",
    "ABC_train_test2.training_GAN(disc,gen,disc_opt,gen_opt,train_data,batch_size,n_epochs,criterion,prior_model,variance,bias,device)"
   ]
  },
  {
   "cell_type": "code",
   "execution_count": 13,
   "id": "1fa7c368",
   "metadata": {
    "execution": {
     "iopub.execute_input": "2022-06-22T13:41:22.827313Z",
     "iopub.status.busy": "2022-06-22T13:41:22.826106Z",
     "iopub.status.idle": "2022-06-22T13:41:23.641058Z",
     "shell.execute_reply": "2022-06-22T13:41:23.641689Z"
    },
    "papermill": {
     "duration": 0.86778,
     "end_time": "2022-06-22T13:41:23.641908",
     "exception": false,
     "start_time": "2022-06-22T13:41:22.774128",
     "status": "completed"
    },
    "tags": []
   },
   "outputs": [
    {
     "data": {
      "application/scrapbook.scrap.json+json": {
       "data": 0.8159044046410184,
       "encoder": "json",
       "name": "ABC-GAN Model 1 MSE",
       "version": 1
      }
     },
     "metadata": {
      "scrapbook": {
       "data": true,
       "display": false,
       "name": "ABC-GAN Model 1 MSE"
      }
     },
     "output_type": "display_data"
    },
    {
     "data": {
      "application/scrapbook.scrap.json+json": {
       "data": 0.6785235109811183,
       "encoder": "json",
       "name": "ABC-GAN Model 1 MAE",
       "version": 1
      }
     },
     "metadata": {
      "scrapbook": {
       "data": true,
       "display": false,
       "name": "ABC-GAN Model 1 MAE"
      }
     },
     "output_type": "display_data"
    },
    {
     "data": {
      "application/scrapbook.scrap.json+json": {
       "data": 13.570470219622367,
       "encoder": "json",
       "name": "ABC-GAN Model 1 Manhattan Distance",
       "version": 1
      }
     },
     "metadata": {
      "scrapbook": {
       "data": true,
       "display": false,
       "name": "ABC-GAN Model 1 Manhattan Distance"
      }
     },
     "output_type": "display_data"
    },
    {
     "data": {
      "application/scrapbook.scrap.json+json": {
       "data": 4.039316878762711,
       "encoder": "json",
       "name": "ABC-GAN Model 1 Euclidean distance",
       "version": 1
      }
     },
     "metadata": {
      "scrapbook": {
       "data": true,
       "display": false,
       "name": "ABC-GAN Model 1 Euclidean distance"
      }
     },
     "output_type": "display_data"
    },
    {
     "data": {
      "application/scrapbook.scrap.json+json": {
       "data": [
        [
         0.8133155339194429,
         0.8415403423426506,
         0.8388826116937272,
         0.8133206674493257,
         0.825280373837673,
         0.8090353978852068,
         0.8056002203670871,
         0.8524824351241366,
         0.8234110570648994,
         0.8068540774133648,
         0.7979202852632528,
         0.8259218931601076,
         0.8159035033233748,
         0.7995159230478496,
         0.8277191648272357,
         0.8047872992633973,
         0.8209257662403372,
         0.7953074101017101,
         0.8203291552352348,
         0.8044797896867653,
         0.805731165071761,
         0.8287508415417679,
         0.803962577571333,
         0.8006380647364603,
         0.8111520348617605,
         0.8411912762229689,
         0.8251348543725145,
         0.7991998247452634,
         0.8195020654367638,
         0.8080951458427845,
         0.8171458737794106,
         0.8108099269356414,
         0.8119185712901299,
         0.7963404220148543,
         0.8354361003883849,
         0.8063378165211421,
         0.8033842821201,
         0.7821029169339946,
         0.8615048808885026,
         0.8116464838006753,
         0.8327405917242754,
         0.8302890525507628,
         0.8408627195571714,
         0.8077650807383823,
         0.7994800522268998,
         0.8010306530481394,
         0.799562573008761,
         0.8300809902126123,
         0.8458674286404506,
         0.8423989659656714,
         0.8033403176226752,
         0.836573971782643,
         0.8164359581922689,
         0.8151193545105799,
         0.8197406045622431,
         0.8138587669747747,
         0.787847357386046,
         0.8450629008298497,
         0.8148359316116041,
         0.7894104505382694,
         0.8165500027532607,
         0.816626466653973,
         0.7828729645495455,
         0.801831899254266,
         0.7861016957829654,
         0.8123592543102726,
         0.8325588691639793,
         0.8464328817719572,
         0.80630982019949,
         0.8297449143280516,
         0.8158020963667726,
         0.8437396238882066,
         0.8121806223158152,
         0.8442641234835195,
         0.852538076231453,
         0.783059586027119,
         0.8231015786062068,
         0.7992693488581605,
         0.7929080625666499,
         0.8179869308231369,
         0.7967341381449389,
         0.816404467583865,
         0.8166320365166939,
         0.7964465250204324,
         0.8459245043378033,
         0.792784058946528,
         0.8110569557018446,
         0.8251937336122165,
         0.8215998110727141,
         0.8113086035795334,
         0.8122686988759149,
         0.8009527779736553,
         0.8302814767436084,
         0.8026527029066791,
         0.8291602592179148,
         0.8676067414092126,
         0.8024696075213127,
         0.7970868727655723,
         0.7873804600754556,
         0.8154354601540765
        ],
        [
         0.6752766918390989,
         0.7000914313830435,
         0.6994700320065022,
         0.6712966997176408,
         0.6820015368051827,
         0.680555448308587,
         0.6851315341889859,
         0.687141517479904,
         0.6779602683149278,
         0.6672933718189598,
         0.6593634248711169,
         0.675656272098422,
         0.6726398640312254,
         0.6655826050788164,
         0.67583627931308,
         0.675090613309294,
         0.6797390793450176,
         0.6697808507829904,
         0.6848029181361198,
         0.6731229244731367,
         0.6794584538787604,
         0.6845006179064512,
         0.6777061448432505,
         0.6680469930171966,
         0.6739125024527312,
         0.691802738327533,
         0.6884169284254312,
         0.6585661639459431,
         0.6767774910666049,
         0.6714521352900192,
         0.6759283662773669,
         0.6756133321672678,
         0.6817238413728773,
         0.675471256300807,
         0.6808558564633131,
         0.67305470071733,
         0.6725373145192861,
         0.6654005565680563,
         0.7024519652128219,
         0.6835034489631653,
         0.6801488071680069,
         0.6788632248528301,
         0.6960832056589424,
         0.6740819388069212,
         0.6726472419686615,
         0.6771113839000463,
         0.6809541668742896,
         0.6957492963410914,
         0.6925112103112042,
         0.6911635384894907,
         0.6701467220671475,
         0.6874615240842104,
         0.6862985018640757,
         0.6702492930926383,
         0.685337370634079,
         0.6763667169958353,
         0.6570521519519389,
         0.6911212034523487,
         0.6788912379182875,
         0.6540349879302084,
         0.6740414646454156,
         0.6862385537475347,
         0.6621595022268594,
         0.6646442250348628,
         0.6585277358070016,
         0.678419687692076,
         0.6944395103491843,
         0.688689670804888,
         0.6842695042490959,
         0.6858724267221987,
         0.6841161336749793,
         0.6876245397143066,
         0.6740962137468159,
         0.6934461080469191,
         0.6917987730586901,
         0.6581971887499094,
         0.6829335776157677,
         0.6770783735439181,
         0.6622487526386976,
         0.6846690487815067,
         0.6785221979022026,
         0.6786227432079613,
         0.6769289400428533,
         0.6644547391682863,
         0.701684695109725,
         0.6706205300055444,
         0.683057489618659,
         0.6814684171229601,
         0.6777684956789016,
         0.6694886699318886,
         0.6732566692866385,
         0.6774210706353188,
         0.675794517621398,
         0.6714886345900595,
         0.6943140328861773,
         0.7032431155443192,
         0.6784600545652211,
         0.6743294343352317,
         0.6561901132576168,
         0.6804376513697207
        ],
        [
         13.505533836781979,
         14.00182862766087,
         13.989400640130043,
         13.425933994352818,
         13.640030736103654,
         13.611108966171741,
         13.702630683779716,
         13.74283034959808,
         13.559205366298556,
         13.345867436379194,
         13.187268497422338,
         13.513125441968441,
         13.452797280624509,
         13.311652101576328,
         13.5167255862616,
         13.50181226618588,
         13.594781586900353,
         13.39561701565981,
         13.696058362722397,
         13.462458489462733,
         13.589169077575207,
         13.690012358129025,
         13.55412289686501,
         13.360939860343933,
         13.478250049054623,
         13.83605476655066,
         13.768338568508625,
         13.171323278918862,
         13.535549821332097,
         13.429042705800384,
         13.518567325547338,
         13.512266643345356,
         13.634476827457547,
         13.50942512601614,
         13.617117129266262,
         13.4610940143466,
         13.450746290385723,
         13.308011131361127,
         14.04903930425644,
         13.670068979263306,
         13.602976143360138,
         13.577264497056603,
         13.92166411317885,
         13.481638776138425,
         13.452944839373231,
         13.542227678000927,
         13.61908333748579,
         13.914985926821828,
         13.850224206224084,
         13.823270769789815,
         13.40293444134295,
         13.749230481684208,
         13.725970037281513,
         13.404985861852765,
         13.70674741268158,
         13.527334339916706,
         13.141043039038777,
         13.822424069046974,
         13.57782475836575,
         13.080699758604169,
         13.480829292908311,
         13.724771074950695,
         13.243190044537187,
         13.292884500697255,
         13.170554716140032,
         13.56839375384152,
         13.888790206983685,
         13.77379341609776,
         13.685390084981918,
         13.717448534443974,
         13.682322673499584,
         13.752490794286132,
         13.481924274936318,
         13.868922160938382,
         13.835975461173803,
         13.163943774998188,
         13.658671552315354,
         13.541567470878363,
         13.244975052773952,
         13.693380975630134,
         13.570443958044052,
         13.572454864159226,
         13.538578800857067,
         13.289094783365726,
         14.0336939021945,
         13.412410600110888,
         13.66114979237318,
         13.629368342459202,
         13.555369913578033,
         13.389773398637772,
         13.46513338573277,
         13.548421412706375,
         13.51589035242796,
         13.42977269180119,
         13.886280657723546,
         14.064862310886383,
         13.569201091304421,
         13.486588686704636,
         13.123802265152335,
         13.608753027394414
        ],
        [
         4.033151457407577,
         4.102536635650316,
         4.0960532508592395,
         4.0331641857214935,
         4.06270937635877,
         4.022525072352456,
         4.013976134376205,
         4.129122025622727,
         4.058105609924166,
         4.017098648062715,
         3.994797329685832,
         4.064288112720622,
         4.039563103414464,
         3.9987896244935155,
         4.068707816561016,
         4.011950396660949,
         4.051976718196533,
         3.9882512711756517,
         4.050504055633656,
         4.011183839433853,
         4.014302343052305,
         4.071242664204059,
         4.009894207011784,
         4.001594843900268,
         4.027783596127678,
         4.101685693036385,
         4.062351177267949,
         3.997999061393745,
         4.048461597784432,
         4.020186925611257,
         4.0426374405316405,
         4.026934136376311,
         4.029686268905136,
         3.990840568138132,
         4.087630365843724,
         4.01581328380975,
         4.008451776235059,
         3.955004214748689,
         4.1509152747038875,
         4.029011004702458,
         4.08103073187222,
         4.0750191473188515,
         4.100884586420768,
         4.0193658224610065,
         3.998699919291018,
         4.002575803275034,
         3.9989062829947915,
         4.074508535302416,
         4.1130704556096545,
         4.104629011166956,
         4.008342095237569,
         4.090413113079516,
         4.04088098857729,
         4.037621464453001,
         4.049050764221765,
         4.034498152124437,
         3.969502128443934,
         4.111113962978525,
         4.03691944832097,
         3.973437933423069,
         4.041163205695263,
         4.04135241386834,
         3.956950756705333,
         4.004577129371505,
         3.9651020057067017,
         4.030779711942276,
         4.080585421637388,
         4.114444997255298,
         4.015743568007026,
         4.07368362622345,
         4.039312061147969,
         4.107893922408919,
         4.030336517750882,
         4.109170533048049,
         4.129256776301162,
         3.957422358119282,
         4.057342920203336,
         3.998172954883669,
         3.982230687859883,
         4.044717371642021,
         3.9918269956122567,
         4.0408030577692475,
         4.041366196020089,
         3.9911064255928643,
         4.113209219910417,
         3.9819192833268935,
         4.027547530946952,
         4.062496113505135,
         4.053639873182407,
         4.028172299143951,
         4.030555045836529,
         4.002381236148439,
         4.075000556425995,
         4.00662626883686,
         4.07224817322794,
         4.165589373448162,
         4.006169261330112,
         3.9927105398853353,
         3.968325742868031,
         4.038404289206509
        ]
       ],
       "encoder": "json",
       "name": "ABC_GAN_1 Metrics",
       "version": 1
      }
     },
     "metadata": {
      "scrapbook": {
       "data": true,
       "display": false,
       "name": "ABC_GAN_1 Metrics"
      }
     },
     "output_type": "display_data"
    },
    {
     "name": "stdout",
     "output_type": "stream",
     "text": [
      "MSE\n",
      "0.8159044046410184\n"
     ]
    }
   ],
   "source": [
    "ABC_GAN1_metrics=ABC_train_test2.test_generator(gen,test_data,prior_model,variance,bias,\"1\",device)\n",
    "sb.glue(\"ABC_GAN_1 Metrics\",ABC_GAN1_metrics)\n",
    "\n",
    "print(\"MSE\")\n",
    "print(mean(ABC_GAN1_metrics[0]))"
   ]
  },
  {
   "cell_type": "code",
   "execution_count": 14,
   "id": "eb22ce5c",
   "metadata": {
    "execution": {
     "iopub.execute_input": "2022-06-22T13:41:23.756344Z",
     "iopub.status.busy": "2022-06-22T13:41:23.755235Z",
     "iopub.status.idle": "2022-06-22T13:41:24.844177Z",
     "shell.execute_reply": "2022-06-22T13:41:24.844713Z"
    },
    "papermill": {
     "duration": 1.159528,
     "end_time": "2022-06-22T13:41:24.844941",
     "exception": false,
     "start_time": "2022-06-22T13:41:23.685413",
     "status": "completed"
    },
    "tags": []
   },
   "outputs": [
    {
     "data": {
      "image/png": "[encoded data removed]",
      "text/plain": [
       "<Figure size 432x288 with 1 Axes>"
      ]
     },
     "metadata": {
      "needs_background": "light"
     },
     "output_type": "display_data"
    },
    {
     "data": {
      "image/png": "[encoded data removed]",
      "text/plain": [
       "<Figure size 432x288 with 1 Axes>"
      ]
     },
     "metadata": {
      "needs_background": "light"
     },
     "output_type": "display_data"
    },
    {
     "data": {
      "image/png": "[encoded data removed]",
      "text/plain": [
       "<Figure size 432x288 with 1 Axes>"
      ]
     },
     "metadata": {
      "needs_background": "light"
     },
     "output_type": "display_data"
    },
    {
     "data": {
      "image/png": "[encoded data removed]",
      "text/plain": [
       "<Figure size 432x288 with 1 Axes>"
      ]
     },
     "metadata": {
      "needs_background": "light"
     },
     "output_type": "display_data"
    }
   ],
   "source": [
    "sanityChecks.discProbVsError(train_data,disc,device)\n",
    "sanityChecks.discProbVsError(test_data,disc,device)"
   ]
  },
  {
   "cell_type": "markdown",
   "id": "130f3a4d",
   "metadata": {
    "id": "130f3a4d",
    "papermill": {
     "duration": 0.054373,
     "end_time": "2022-06-22T13:41:24.946835",
     "exception": false,
     "start_time": "2022-06-22T13:41:24.892462",
     "status": "completed"
    },
    "tags": []
   },
   "source": [
    "# ABC - GAN Model with skip connection"
   ]
  },
  {
   "cell_type": "code",
   "execution_count": 15,
   "id": "4e43dad1",
   "metadata": {
    "execution": {
     "iopub.execute_input": "2022-06-22T13:41:25.051780Z",
     "iopub.status.busy": "2022-06-22T13:41:25.049704Z",
     "iopub.status.idle": "2022-06-22T13:41:25.054026Z",
     "shell.execute_reply": "2022-06-22T13:41:25.054664Z"
    },
    "id": "4e43dad1",
    "papermill": {
     "duration": 0.062926,
     "end_time": "2022-06-22T13:41:25.054887",
     "exception": false,
     "start_time": "2022-06-22T13:41:24.991961",
     "status": "completed"
    },
    "tags": []
   },
   "outputs": [],
   "source": [
    "#Generator\n",
    "gen3 = network.GeneratorWithSkipConnection(n_features+1).to(device)\n",
    "constraints=network.weightConstraint()\n",
    "#Discriminator \n",
    "disc3 = network.Discriminator(n_features+1).to(device)\n",
    "\n",
    "criterion = torch.nn.BCELoss()\n",
    "gen_opt = torch.optim.Adam(gen3.parameters(), lr=0.001, betas=(0.5, 0.999))\n",
    "disc_opt = torch.optim.Adam(disc3.parameters(), lr=0.001, betas=(0.5, 0.999))\n"
   ]
  },
  {
   "cell_type": "code",
   "execution_count": 16,
   "id": "26acbc37",
   "metadata": {
    "execution": {
     "iopub.execute_input": "2022-06-22T13:41:25.154547Z",
     "iopub.status.busy": "2022-06-22T13:41:25.153598Z",
     "iopub.status.idle": "2022-06-22T13:42:54.346578Z",
     "shell.execute_reply": "2022-06-22T13:42:54.347125Z"
    },
    "id": "26acbc37",
    "papermill": {
     "duration": 89.248156,
     "end_time": "2022-06-22T13:42:54.347356",
     "exception": false,
     "start_time": "2022-06-22T13:41:25.099200",
     "status": "completed"
    },
    "tags": []
   },
   "outputs": [
    {
     "data": {
      "image/png": "[encoded data removed]",
      "text/plain": [
       "<Figure size 432x288 with 1 Axes>"
      ]
     },
     "metadata": {
      "needs_background": "light"
     },
     "output_type": "display_data"
    },
    {
     "data": {
      "image/png": "[encoded data removed]",
      "text/plain": [
       "<Figure size 432x288 with 1 Axes>"
      ]
     },
     "metadata": {
      "needs_background": "light"
     },
     "output_type": "display_data"
    }
   ],
   "source": [
    "ABC_train_test2.training_GAN_skip_connection(disc3,gen3,disc_opt,gen_opt,train_data,batch_size,n_epochs,criterion,prior_model,variance,bias,device)"
   ]
  },
  {
   "cell_type": "code",
   "execution_count": 17,
   "id": "c5e0717b",
   "metadata": {
    "execution": {
     "iopub.execute_input": "2022-06-22T13:42:54.484469Z",
     "iopub.status.busy": "2022-06-22T13:42:54.483376Z",
     "iopub.status.idle": "2022-06-22T13:42:55.816017Z",
     "shell.execute_reply": "2022-06-22T13:42:55.816731Z"
    },
    "id": "c5e0717b",
    "papermill": {
     "duration": 1.410553,
     "end_time": "2022-06-22T13:42:55.817001",
     "exception": false,
     "start_time": "2022-06-22T13:42:54.406448",
     "status": "completed"
    },
    "tags": []
   },
   "outputs": [
    {
     "data": {
      "application/scrapbook.scrap.json+json": {
       "data": 0.6820931261215275,
       "encoder": "json",
       "name": "ABC-GAN Model 3 MSE",
       "version": 1
      }
     },
     "metadata": {
      "scrapbook": {
       "data": true,
       "display": false,
       "name": "ABC-GAN Model 3 MSE"
      }
     },
     "output_type": "display_data"
    },
    {
     "data": {
      "application/scrapbook.scrap.json+json": {
       "data": 0.6207618882516399,
       "encoder": "json",
       "name": "ABC-GAN Model 3 MAE",
       "version": 1
      }
     },
     "metadata": {
      "scrapbook": {
       "data": true,
       "display": false,
       "name": "ABC-GAN Model 3 MAE"
      }
     },
     "output_type": "display_data"
    },
    {
     "data": {
      "application/scrapbook.scrap.json+json": {
       "data": 12.415237765032797,
       "encoder": "json",
       "name": "ABC-GAN Model 3 Manhattan Distance",
       "version": 1
      }
     },
     "metadata": {
      "scrapbook": {
       "data": true,
       "display": false,
       "name": "ABC-GAN Model 3 Manhattan Distance"
      }
     },
     "output_type": "display_data"
    },
    {
     "data": {
      "application/scrapbook.scrap.json+json": {
       "data": 3.6932147702834404,
       "encoder": "json",
       "name": "ABC-GAN Model 3 Euclidean distance",
       "version": 1
      }
     },
     "metadata": {
      "scrapbook": {
       "data": true,
       "display": false,
       "name": "ABC-GAN Model 3 Euclidean distance"
      }
     },
     "output_type": "display_data"
    },
    {
     "data": {
      "application/scrapbook.scrap.json+json": {
       "data": [
        [
         0.665899921773726,
         0.6451319788166038,
         0.6983345898986844,
         0.6967009965015525,
         0.6756742433636657,
         0.6743564451551659,
         0.6923700733822467,
         0.7148235459149513,
         0.6746822991188004,
         0.662343968294976,
         0.6781359260369674,
         0.6627684242512494,
         0.6722266937906083,
         0.6785946054719927,
         0.6610377546007286,
         0.651588996880012,
         0.6863669432392067,
         0.6845414813530271,
         0.6636436832835712,
         0.7223550105938751,
         0.6931491637155495,
         0.6714813897367797,
         0.7024853970294034,
         0.6774643105055249,
         0.6681214159373454,
         0.6545571735948308,
         0.6759319604437062,
         0.6848371677553406,
         0.701184488856575,
         0.683868444124344,
         0.6775451402476009,
         0.6625963792583411,
         0.6895267607055792,
         0.6816705061403651,
         0.668691196136493,
         0.6786441365632045,
         0.6667654473502654,
         0.7037346514272849,
         0.6850175796900548,
         0.6659787353506079,
         0.6758244204139752,
         0.6907501803231761,
         0.6692737339935885,
         0.6755029417188527,
         0.6993999562755869,
         0.7149820547621888,
         0.6753706041468357,
         0.6813711563678583,
         0.6917884242608274,
         0.6690579467486222,
         0.7284505662878974,
         0.7012970996040787,
         0.6911194755686135,
         0.6801779608237727,
         0.6994814550910777,
         0.7003209080803044,
         0.6661706867484927,
         0.6707821962732383,
         0.7080390849637811,
         0.7104314355208983,
         0.7091407192688232,
         0.6971958527828986,
         0.6813129579648181,
         0.6932198537763036,
         0.70089168372202,
         0.6527815180602679,
         0.659096976367141,
         0.6696430067914341,
         0.6944482890221162,
         0.6725714092308304,
         0.6948552570349664,
         0.6873284789176952,
         0.6930136117326766,
         0.6886211526224452,
         0.7182156740033812,
         0.6733719866252128,
         0.6608686072438916,
         0.6780043630429814,
         0.6953000508301198,
         0.6575016211101185,
         0.6600968493981669,
         0.6665306002506595,
         0.6806154243967283,
         0.6766223352156547,
         0.6687511028288167,
         0.6941976952250677,
         0.6801946017206436,
         0.6603735875658839,
         0.670328372141497,
         0.6832673403458991,
         0.665132927854851,
         0.6804532832714195,
         0.6771906475655306,
         0.687098895935413,
         0.6810564064824193,
         0.683126544343637,
         0.7063474029334738,
         0.6953608850263663,
         0.6926764984612438,
         0.6680868267747642
        ],
        [
         0.6154919855296612,
         0.609112274646759,
         0.6348130814731121,
         0.6294770570471883,
         0.6201362799853086,
         0.6152874004095793,
         0.6287655163556337,
         0.6444557631388307,
         0.6168601011857391,
         0.6109713828191161,
         0.6202927645295858,
         0.6155398365110158,
         0.6204845483414829,
         0.6240941872820258,
         0.6059925045818091,
         0.6003806935623288,
         0.6197306092828512,
         0.6169106546789408,
         0.6152454856783152,
         0.6448242176324129,
         0.6271368836984038,
         0.6133124560117722,
         0.6189273338764906,
         0.6131487976759672,
         0.6133660541847348,
         0.6071990881115198,
         0.6217720575630665,
         0.6248374491930008,
         0.6317430935800076,
         0.6153824046254158,
         0.6225904093123973,
         0.6211106892675161,
         0.6287757366895675,
         0.6187951486557722,
         0.6122752465307713,
         0.6208068827167154,
         0.6097844678908586,
         0.6300884477794171,
         0.6223604305647313,
         0.6049991436302662,
         0.6099080193787814,
         0.6204799693077803,
         0.6048806991428137,
         0.6273282989859581,
         0.6233062513172627,
         0.6385507563129067,
         0.6202099978923797,
         0.6212862104177475,
         0.6333593633025885,
         0.62255048006773,
         0.6319770393893123,
         0.6289960840716958,
         0.627715389430523,
         0.6255466593429446,
         0.6234314562752843,
         0.6310277849435806,
         0.6143665278330446,
         0.6243951385840774,
         0.6361148003488779,
         0.6305882681161166,
         0.632727587968111,
         0.6319559622555971,
         0.6174167154356838,
         0.6263583078980446,
         0.6331388134509325,
         0.6049638438969851,
         0.6132550325244666,
         0.606774228066206,
         0.63040741533041,
         0.6114304719492794,
         0.6238427205011249,
         0.6311630543321372,
         0.6168330796062946,
         0.6202812999486923,
         0.6427603809162974,
         0.6231852531433105,
         0.6084138091653586,
         0.6147393669933081,
         0.6357161033898592,
         0.6095593346282839,
         0.6128148647025228,
         0.6121328506618738,
         0.6203691439703107,
         0.6110554214566946,
         0.6079890299588442,
         0.629344685934484,
         0.6206373866647482,
         0.601206274330616,
         0.6195649530738592,
         0.6252207344397902,
         0.616522783972323,
         0.6106591489166021,
         0.6191215210594236,
         0.6205446232110262,
         0.6158842977136374,
         0.6094481531530619,
         0.6372488381341099,
         0.6295661503449083,
         0.6242750640027225,
         0.6143623573705554
        ],
        [
         12.309839710593224,
         12.18224549293518,
         12.696261629462242,
         12.589541140943766,
         12.402725599706173,
         12.305748008191586,
         12.575310327112675,
         12.889115262776613,
         12.33720202371478,
         12.219427656382322,
         12.405855290591717,
         12.310796730220318,
         12.409690966829658,
         12.481883745640516,
         12.11985009163618,
         12.007613871246576,
         12.394612185657024,
         12.338213093578815,
         12.304909713566303,
         12.896484352648258,
         12.542737673968077,
         12.266249120235443,
         12.378546677529812,
         12.262975953519344,
         12.267321083694696,
         12.143981762230396,
         12.43544115126133,
         12.496748983860016,
         12.634861871600151,
         12.307648092508316,
         12.451808186247945,
         12.422213785350323,
         12.575514733791351,
         12.375902973115444,
         12.245504930615425,
         12.416137654334307,
         12.195689357817173,
         12.60176895558834,
         12.447208611294627,
         12.099982872605324,
         12.198160387575626,
         12.409599386155605,
         12.097613982856274,
         12.546565979719162,
         12.466125026345253,
         12.771015126258135,
         12.404199957847595,
         12.42572420835495,
         12.66718726605177,
         12.451009601354599,
         12.639540787786245,
         12.579921681433916,
         12.554307788610458,
         12.510933186858892,
         12.468629125505686,
         12.620555698871613,
         12.28733055666089,
         12.487902771681547,
         12.722296006977558,
         12.61176536232233,
         12.65455175936222,
         12.639119245111942,
         12.348334308713675,
         12.527166157960892,
         12.66277626901865,
         12.099276877939701,
         12.26510065048933,
         12.13548456132412,
         12.6081483066082,
         12.228609438985586,
         12.476854410022497,
         12.623261086642742,
         12.336661592125893,
         12.405625998973846,
         12.855207618325949,
         12.463705062866211,
         12.16827618330717,
         12.294787339866161,
         12.714322067797184,
         12.19118669256568,
         12.256297294050455,
         12.242657013237476,
         12.407382879406214,
         12.221108429133892,
         12.159780599176884,
         12.58689371868968,
         12.412747733294964,
         12.02412548661232,
         12.391299061477184,
         12.504414688795805,
         12.330455679446459,
         12.213182978332043,
         12.382430421188474,
         12.410892464220524,
         12.317685954272747,
         12.188963063061237,
         12.7449767626822,
         12.591323006898165,
         12.48550128005445,
         12.287247147411108
        ],
        [
         3.6493832952259924,
         3.59202443982945,
         3.7372037404955174,
         3.732830016225096,
         3.6760692141570614,
         3.67248266205619,
         3.721209678000547,
         3.7810674310700976,
         3.6733698401299053,
         3.6396262673383815,
         3.6827596338533075,
         3.640792288091287,
         3.666678861832894,
         3.6840049008436258,
         3.636035628540316,
         3.6099556697555504,
         3.7050423566788186,
         3.7001121100664696,
         3.643195529431741,
         3.8009341235908707,
         3.7233027373974026,
         3.6646456574593396,
         3.7482940040221053,
         3.6809355074641688,
         3.655465540631851,
         3.618168524529588,
         3.6767702143150207,
         3.7009111520147053,
         3.744821728351231,
         3.698292698325388,
         3.681155091129959,
         3.6403197091968207,
         3.713560988338765,
         3.6923448000975343,
         3.657023916072994,
         3.6841393474275765,
         3.651754228724232,
         3.751625384889288,
         3.701398599691892,
         3.6495992529334176,
         3.6764777176367467,
         3.7168539931592046,
         3.65861649805931,
         3.675603193270059,
         3.740053358644999,
         3.781486625025107,
         3.675243132492967,
         3.6915339802522698,
         3.7196462849599756,
         3.658026644923796,
         3.816937427540298,
         3.7451224268482295,
         3.717847429813691,
         3.6883003153858627,
         3.7402712604598016,
         3.7425149514205134,
         3.6501251670278174,
         3.6627372176372095,
         3.76308141013128,
         3.7694334734039234,
         3.766007751635206,
         3.7341554675264894,
         3.691376323174916,
         3.723492591039503,
         3.7440397533199885,
         3.61325758301361,
         3.6306940834147428,
         3.6596256824747364,
         3.7267902785697946,
         3.667618871231934,
         3.7278821253761936,
         3.7076366567334915,
         3.7229386557736257,
         3.7111215356612757,
         3.79002816349267,
         3.6698010480820695,
         3.635570401584576,
         3.682402376283671,
         3.729075088624845,
         3.626297343324506,
         3.633446984333656,
         3.6511110644587617,
         3.689486209207803,
         3.6786474014660735,
         3.657187725093741,
         3.7261178060417457,
         3.6883454331736436,
         3.6342085453806416,
         3.6614979779906935,
         3.6966669862077084,
         3.6472809813746214,
         3.6890467149967607,
         3.680191972073007,
         3.707017388509023,
         3.690681255493135,
         3.6962860937531254,
         3.758583251528357,
         3.7292382198684124,
         3.722033042468172,
         3.655370916267634
        ]
       ],
       "encoder": "json",
       "name": "ABC_GAN_3 Metrics",
       "version": 1
      }
     },
     "metadata": {
      "scrapbook": {
       "data": true,
       "display": false,
       "name": "ABC_GAN_3 Metrics"
      }
     },
     "output_type": "display_data"
    },
    {
     "name": "stdout",
     "output_type": "stream",
     "text": [
      "MSE\n",
      "0.6820931261215275\n"
     ]
    }
   ],
   "source": [
    "ABC_GAN3_metrics=ABC_train_test2.test_generator(gen3,test_data,prior_model,variance,bias,\"3\",device)\n",
    "sb.glue(\"ABC_GAN_3 Metrics\",ABC_GAN3_metrics)\n",
    "\n",
    "print(\"MSE\")\n",
    "print(mean(ABC_GAN3_metrics[0]))"
   ]
  },
  {
   "cell_type": "code",
   "execution_count": 18,
   "id": "c8e46b48",
   "metadata": {
    "execution": {
     "iopub.execute_input": "2022-06-22T13:42:55.984590Z",
     "iopub.status.busy": "2022-06-22T13:42:55.983760Z",
     "iopub.status.idle": "2022-06-22T13:42:56.852579Z",
     "shell.execute_reply": "2022-06-22T13:42:56.853037Z"
    },
    "id": "c8e46b48",
    "papermill": {
     "duration": 0.969092,
     "end_time": "2022-06-22T13:42:56.853259",
     "exception": false,
     "start_time": "2022-06-22T13:42:55.884167",
     "status": "completed"
    },
    "tags": []
   },
   "outputs": [
    {
     "data": {
      "image/png": "[encoded data removed]",
      "text/plain": [
       "<Figure size 432x288 with 1 Axes>"
      ]
     },
     "metadata": {
      "needs_background": "light"
     },
     "output_type": "display_data"
    },
    {
     "data": {
      "image/png": "[encoded data removed]",
      "text/plain": [
       "<Figure size 432x288 with 1 Axes>"
      ]
     },
     "metadata": {
      "needs_background": "light"
     },
     "output_type": "display_data"
    },
    {
     "data": {
      "image/png": "[encoded data removed]",
      "text/plain": [
       "<Figure size 432x288 with 1 Axes>"
      ]
     },
     "metadata": {
      "needs_background": "light"
     },
     "output_type": "display_data"
    },
    {
     "data": {
      "image/png": "[encoded data removed]",
      "text/plain": [
       "<Figure size 432x288 with 1 Axes>"
      ]
     },
     "metadata": {
      "needs_background": "light"
     },
     "output_type": "display_data"
    }
   ],
   "source": [
    "sanityChecks.discProbVsError(train_data,disc3,device)\n",
    "sanityChecks.discProbVsError(test_data,disc3,device)"
   ]
  },
  {
   "cell_type": "markdown",
   "id": "a5bd74c3",
   "metadata": {
    "id": "a5bd74c3",
    "papermill": {
     "duration": 0.070776,
     "end_time": "2022-06-22T13:42:56.985478",
     "exception": false,
     "start_time": "2022-06-22T13:42:56.914702",
     "status": "completed"
    },
    "tags": []
   },
   "source": [
    "## Skip Connection Model Analysis - ABC-GAN "
   ]
  },
  {
   "cell_type": "markdown",
   "id": "5744a8bf",
   "metadata": {
    "id": "5744a8bf",
    "papermill": {
     "duration": 0.063278,
     "end_time": "2022-06-22T13:42:57.132262",
     "exception": false,
     "start_time": "2022-06-22T13:42:57.068984",
     "status": "completed"
    },
    "tags": []
   },
   "source": [
    "### Weight Analysis \n",
    "\n",
    "Study the weights of the skip connection layer\n",
    "\n",
    "Equation of the skip connection is \n",
    "\n",
    "$output = y_{gan} * w + y_{abc} * (1-w)$"
   ]
  },
  {
   "cell_type": "code",
   "execution_count": 19,
   "id": "52c31dea",
   "metadata": {
    "execution": {
     "iopub.execute_input": "2022-06-22T13:42:57.264842Z",
     "iopub.status.busy": "2022-06-22T13:42:57.264025Z",
     "iopub.status.idle": "2022-06-22T13:42:57.273988Z",
     "shell.execute_reply": "2022-06-22T13:42:57.274576Z"
    },
    "id": "52c31dea",
    "papermill": {
     "duration": 0.081667,
     "end_time": "2022-06-22T13:42:57.274811",
     "exception": false,
     "start_time": "2022-06-22T13:42:57.193144",
     "status": "completed"
    },
    "tags": []
   },
   "outputs": [
    {
     "name": "stdout",
     "output_type": "stream",
     "text": [
      "Weight of the node at skip connection\n",
      "Parameter containing:\n",
      "tensor([[0.8721]], requires_grad=True)\n"
     ]
    },
    {
     "data": {
      "application/scrapbook.scrap.json+json": {
       "data": 0.8720672130584717,
       "encoder": "json",
       "name": "Skip Connection Weight",
       "version": 1
      }
     },
     "metadata": {
      "scrapbook": {
       "data": true,
       "display": false,
       "name": "Skip Connection Weight"
      }
     },
     "output_type": "display_data"
    }
   ],
   "source": [
    "print(\"Weight of the node at skip connection\")\n",
    "for name,param in gen3.named_parameters():\n",
    "    if(name == \"skipNode.weight\"):\n",
    "        print(param)\n",
    "        sb.glue(\"Skip Connection Weight\",param.item())"
   ]
  }
 ],
 "metadata": {
  "colab": {
   "collapsed_sections": [],
   "name": "ABC_GAN_Model-Catboost_Pre-gen.ipynb",
   "provenance": []
  },
  "interpreter": {
   "hash": "31f2aee4e71d21fbe5cf8b01ff0e069b9275f58929596ceb00d14d90e3e16cd6"
  },
  "kernelspec": {
   "display_name": "Python 3 (ipykernel)",
   "language": "python",
   "name": "python3"
  },
  "language_info": {
   "codemirror_mode": {
    "name": "ipython",
    "version": 3
   },
   "file_extension": ".py",
   "mimetype": "text/x-python",
   "name": "python",
   "nbconvert_exporter": "python",
   "pygments_lexer": "ipython3",
   "version": "3.8.3"
  },
  "papermill": {
   "default_parameters": {},
   "duration": 174.467636,
   "end_time": "2022-06-22T13:42:58.692550",
   "environment_variables": {},
   "exception": null,
   "input_path": "ABC_GAN-TabNet.ipynb",
   "output_path": "./ABC_GAN_TabNet/ABC-GAN_output_5_3.ipynb",
   "parameters": {
    "bias": 0.1,
    "variance": 1
   },
   "start_time": "2022-06-22T13:40:04.224914",
   "version": "2.3.3"
  }
 },
 "nbformat": 4,
 "nbformat_minor": 5
}