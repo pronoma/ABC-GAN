{
 "cells": [
  {
   "cell_type": "markdown",
   "id": "622780e6",
   "metadata": {
    "id": "622780e6",
    "papermill": {
     "duration": 0.016911,
     "end_time": "2022-06-22T15:18:17.255670",
     "exception": false,
     "start_time": "2022-06-22T15:18:17.238759",
     "status": "completed"
    },
    "tags": []
   },
   "source": [
    "## Import Libraries "
   ]
  },
  {
   "cell_type": "code",
   "execution_count": 1,
   "id": "a62397e3",
   "metadata": {
    "execution": {
     "iopub.execute_input": "2022-06-22T15:18:17.319167Z",
     "iopub.status.busy": "2022-06-22T15:18:17.311296Z",
     "iopub.status.idle": "2022-06-22T15:18:17.322345Z",
     "shell.execute_reply": "2022-06-22T15:18:17.323315Z"
    },
    "id": "a62397e3",
    "papermill": {
     "duration": 0.053299,
     "end_time": "2022-06-22T15:18:17.323869",
     "exception": false,
     "start_time": "2022-06-22T15:18:17.270570",
     "status": "completed"
    },
    "tags": []
   },
   "outputs": [],
   "source": [
    "import warnings\n",
    "import sys\n",
    "sys.path.insert(0, '../../src')\n",
    "warnings.filterwarnings('ignore')"
   ]
  },
  {
   "cell_type": "code",
   "execution_count": 2,
   "id": "d6a4e155",
   "metadata": {
    "execution": {
     "iopub.execute_input": "2022-06-22T15:18:17.359685Z",
     "iopub.status.busy": "2022-06-22T15:18:17.358216Z",
     "iopub.status.idle": "2022-06-22T15:18:23.304310Z",
     "shell.execute_reply": "2022-06-22T15:18:23.304893Z"
    },
    "id": "d6a4e155",
    "papermill": {
     "duration": 5.965696,
     "end_time": "2022-06-22T15:18:23.305108",
     "exception": false,
     "start_time": "2022-06-22T15:18:17.339412",
     "status": "completed"
    },
    "tags": []
   },
   "outputs": [],
   "source": [
    "import ABC_train_test2\n",
    "import friedman3Dataset\n",
    "import network\n",
    "import dataset\n",
    "import sanityChecks\n",
    "import torch \n",
    "import scrapbook as sb\n",
    "from statistics import mean \n",
    "import catboost as ctb \n",
    "from sklearn.model_selection import train_test_split\n",
    "from sklearn.metrics import mean_squared_error,mean_absolute_error\n",
    "import numpy as np\n",
    "from pytorch_tabnet.tab_model import TabNetRegressor"
   ]
  },
  {
   "cell_type": "markdown",
   "id": "2fa5b0f7",
   "metadata": {
    "id": "2fa5b0f7",
    "papermill": {
     "duration": 0.018226,
     "end_time": "2022-06-22T15:18:23.342147",
     "exception": false,
     "start_time": "2022-06-22T15:18:23.323921",
     "status": "completed"
    },
    "tags": []
   },
   "source": [
    "## Parameters "
   ]
  },
  {
   "cell_type": "code",
   "execution_count": 3,
   "id": "783186fb",
   "metadata": {
    "execution": {
     "iopub.execute_input": "2022-06-22T15:18:23.553087Z",
     "iopub.status.busy": "2022-06-22T15:18:23.551451Z",
     "iopub.status.idle": "2022-06-22T15:18:23.564778Z",
     "shell.execute_reply": "2022-06-22T15:18:23.567943Z"
    },
    "id": "783186fb",
    "papermill": {
     "duration": 0.12028,
     "end_time": "2022-06-22T15:18:23.568639",
     "exception": false,
     "start_time": "2022-06-22T15:18:23.448359",
     "status": "completed"
    },
    "tags": [
     "parameters"
    ]
   },
   "outputs": [],
   "source": [
    "variance = 1\n",
    "bias = 1 "
   ]
  },
  {
   "cell_type": "code",
   "execution_count": 4,
   "id": "e3c19154",
   "metadata": {
    "execution": {
     "iopub.execute_input": "2022-06-22T15:18:23.669023Z",
     "iopub.status.busy": "2022-06-22T15:18:23.666980Z",
     "iopub.status.idle": "2022-06-22T15:18:23.682685Z",
     "shell.execute_reply": "2022-06-22T15:18:23.683215Z"
    },
    "papermill": {
     "duration": 0.094446,
     "end_time": "2022-06-22T15:18:23.683436",
     "exception": false,
     "start_time": "2022-06-22T15:18:23.588990",
     "status": "completed"
    },
    "tags": [
     "injected-parameters"
    ]
   },
   "outputs": [],
   "source": [
    "# Parameters\n",
    "variance = 0.01\n",
    "bias = 1\n"
   ]
  },
  {
   "cell_type": "markdown",
   "id": "391cdbfd",
   "metadata": {
    "id": "391cdbfd",
    "papermill": {
     "duration": 0.021693,
     "end_time": "2022-06-22T15:18:23.719399",
     "exception": false,
     "start_time": "2022-06-22T15:18:23.697706",
     "status": "completed"
    },
    "tags": []
   },
   "source": [
    "## Dataset \n"
   ]
  },
  {
   "cell_type": "code",
   "execution_count": 5,
   "id": "5b51f161",
   "metadata": {
    "execution": {
     "iopub.execute_input": "2022-06-22T15:18:23.753899Z",
     "iopub.status.busy": "2022-06-22T15:18:23.752973Z",
     "iopub.status.idle": "2022-06-22T15:18:23.755168Z",
     "shell.execute_reply": "2022-06-22T15:18:23.755659Z"
    },
    "id": "5b51f161",
    "papermill": {
     "duration": 0.020821,
     "end_time": "2022-06-22T15:18:23.755862",
     "exception": false,
     "start_time": "2022-06-22T15:18:23.735041",
     "status": "completed"
    },
    "tags": []
   },
   "outputs": [],
   "source": [
    "#Parameters \n",
    "n_features = 4\n",
    "n_samples= 100\n",
    "n_target = 1"
   ]
  },
  {
   "cell_type": "code",
   "execution_count": 6,
   "id": "5d6eced4",
   "metadata": {
    "execution": {
     "iopub.execute_input": "2022-06-22T15:18:23.786217Z",
     "iopub.status.busy": "2022-06-22T15:18:23.785487Z",
     "iopub.status.idle": "2022-06-22T15:18:23.798707Z",
     "shell.execute_reply": "2022-06-22T15:18:23.798214Z"
    },
    "id": "5d6eced4",
    "papermill": {
     "duration": 0.030107,
     "end_time": "2022-06-22T15:18:23.798889",
     "exception": false,
     "start_time": "2022-06-22T15:18:23.768782",
     "status": "completed"
    },
    "tags": []
   },
   "outputs": [
    {
     "name": "stdout",
     "output_type": "stream",
     "text": [
      "          X1           X2        X3         X4         Y\n",
      "0  81.445945   510.357631  0.780129   4.080289  1.364779\n",
      "1  84.988572  1054.231819  0.074054   1.854836  0.796221\n",
      "2  35.717286   556.630935  0.905404   5.486684  1.437871\n",
      "3  60.900873  1732.089071  0.240694   9.514098  1.650155\n",
      "4  86.981010   244.036876  0.404428  10.353106  0.927749\n"
     ]
    }
   ],
   "source": [
    "X,Y = friedman3Dataset.friedman3_data(n_samples)"
   ]
  },
  {
   "cell_type": "code",
   "execution_count": 7,
   "id": "fe007438",
   "metadata": {
    "execution": {
     "iopub.execute_input": "2022-06-22T15:18:23.837008Z",
     "iopub.status.busy": "2022-06-22T15:18:23.836034Z",
     "iopub.status.idle": "2022-06-22T15:18:23.839828Z",
     "shell.execute_reply": "2022-06-22T15:18:23.838930Z"
    },
    "id": "fe007438",
    "papermill": {
     "duration": 0.028377,
     "end_time": "2022-06-22T15:18:23.840124",
     "exception": false,
     "start_time": "2022-06-22T15:18:23.811747",
     "status": "completed"
    },
    "tags": []
   },
   "outputs": [],
   "source": [
    "#Train test split for dataset \n",
    "X_train,X_test,Y_train,Y_test = train_test_split(X,Y,test_size = 0.2)\n",
    "train_data = dataset.CustomDataset(X_train,Y_train)\n",
    "test_data = dataset.CustomDataset(X_test,Y_test)\n"
   ]
  },
  {
   "cell_type": "markdown",
   "id": "a9a1af34",
   "metadata": {
    "id": "a9a1af34",
    "papermill": {
     "duration": 0.015904,
     "end_time": "2022-06-22T15:18:23.873271",
     "exception": false,
     "start_time": "2022-06-22T15:18:23.857367",
     "status": "completed"
    },
    "tags": []
   },
   "source": [
    "## Training Parameters "
   ]
  },
  {
   "cell_type": "code",
   "execution_count": 8,
   "id": "952b7fc8",
   "metadata": {
    "execution": {
     "iopub.execute_input": "2022-06-22T15:18:23.904302Z",
     "iopub.status.busy": "2022-06-22T15:18:23.903617Z",
     "iopub.status.idle": "2022-06-22T15:18:23.905514Z",
     "shell.execute_reply": "2022-06-22T15:18:23.905954Z"
    },
    "id": "952b7fc8",
    "papermill": {
     "duration": 0.01918,
     "end_time": "2022-06-22T15:18:23.906153",
     "exception": false,
     "start_time": "2022-06-22T15:18:23.886973",
     "status": "completed"
    },
    "tags": []
   },
   "outputs": [],
   "source": [
    "batch_size = 32\n",
    "n_epochs = 1000\n",
    "#Select the device \n",
    "device = torch.device('cuda' if torch.cuda.is_available() else 'cpu')"
   ]
  },
  {
   "cell_type": "markdown",
   "id": "a95e1600",
   "metadata": {
    "id": "a95e1600",
    "papermill": {
     "duration": 0.021939,
     "end_time": "2022-06-22T15:18:23.941477",
     "exception": false,
     "start_time": "2022-06-22T15:18:23.919538",
     "status": "completed"
    },
    "tags": []
   },
   "source": [
    "# ABC Pre-generator Model \n",
    "\n",
    "1. The catboost model is used as a pre-generator model for the ABC-GAN. \n",
    "2. The model is first trained on the entire dataset \n",
    "3. It generats X,Y pairs and we add some Gaussian noise with mean 0 and variance 1 to it which is then feed as input to the generator.\n"
   ]
  },
  {
   "cell_type": "code",
   "execution_count": 9,
   "id": "ff8ce7bd",
   "metadata": {
    "execution": {
     "iopub.execute_input": "2022-06-22T15:18:23.984756Z",
     "iopub.status.busy": "2022-06-22T15:18:23.983890Z",
     "iopub.status.idle": "2022-06-22T15:18:31.089700Z",
     "shell.execute_reply": "2022-06-22T15:18:31.090266Z"
    },
    "id": "ff8ce7bd",
    "papermill": {
     "duration": 7.128087,
     "end_time": "2022-06-22T15:18:31.090465",
     "exception": false,
     "start_time": "2022-06-22T15:18:23.962378",
     "status": "completed"
    },
    "tags": []
   },
   "outputs": [
    {
     "name": "stdout",
     "output_type": "stream",
     "text": [
      "Device used : cpu\n"
     ]
    },
    {
     "name": "stdout",
     "output_type": "stream",
     "text": [
      "epoch 0  | loss: 1.10441 | train_mse: 7.30405 | train_mae: 2.04635 |  0:00:00s\n",
      "epoch 1  | loss: 0.56886 | train_mse: 10.67728| train_mae: 2.34689 |  0:00:00s\n",
      "epoch 2  | loss: 0.51366 | train_mse: 12.67881| train_mae: 2.49976 |  0:00:00s\n"
     ]
    },
    {
     "name": "stdout",
     "output_type": "stream",
     "text": [
      "epoch 3  | loss: 0.33676 | train_mse: 10.70003| train_mae: 2.33829 |  0:00:00s\n",
      "epoch 4  | loss: 0.37518 | train_mse: 4.77884 | train_mae: 1.60531 |  0:00:00s\n",
      "epoch 5  | loss: 0.56609 | train_mse: 3.5497  | train_mae: 1.3459  |  0:00:00s\n"
     ]
    },
    {
     "name": "stdout",
     "output_type": "stream",
     "text": [
      "epoch 6  | loss: 0.56428 | train_mse: 1.72412 | train_mae: 0.9467  |  0:00:00s\n",
      "epoch 7  | loss: 0.36599 | train_mse: 1.58824 | train_mae: 0.88666 |  0:00:00s\n",
      "epoch 8  | loss: 0.41989 | train_mse: 1.96651 | train_mae: 1.03801 |  0:00:00s\n"
     ]
    },
    {
     "name": "stdout",
     "output_type": "stream",
     "text": [
      "epoch 9  | loss: 0.51844 | train_mse: 1.37095 | train_mae: 0.82954 |  0:00:00s\n",
      "epoch 10 | loss: 0.35517 | train_mse: 0.926   | train_mae: 0.65847 |  0:00:00s\n",
      "epoch 11 | loss: 0.21547 | train_mse: 0.75135 | train_mae: 0.59837 |  0:00:00s\n"
     ]
    },
    {
     "name": "stdout",
     "output_type": "stream",
     "text": [
      "epoch 12 | loss: 0.5287  | train_mse: 0.74534 | train_mae: 0.60355 |  0:00:01s\n",
      "epoch 13 | loss: 0.43339 | train_mse: 0.61463 | train_mae: 0.57502 |  0:00:01s\n",
      "epoch 14 | loss: 0.3596  | train_mse: 0.57212 | train_mae: 0.52035 |  0:00:01s\n"
     ]
    },
    {
     "name": "stdout",
     "output_type": "stream",
     "text": [
      "epoch 15 | loss: 0.29421 | train_mse: 0.54445 | train_mae: 0.48296 |  0:00:01s\n",
      "epoch 16 | loss: 0.28578 | train_mse: 0.58268 | train_mae: 0.50401 |  0:00:01s\n",
      "epoch 17 | loss: 0.44787 | train_mse: 0.5949  | train_mae: 0.53007 |  0:00:01s\n",
      "epoch 18 | loss: 0.43266 | train_mse: 0.64623 | train_mae: 0.5403  |  0:00:01s\n"
     ]
    },
    {
     "name": "stdout",
     "output_type": "stream",
     "text": [
      "epoch 19 | loss: 0.25084 | train_mse: 0.6233  | train_mae: 0.55778 |  0:00:01s\n",
      "epoch 20 | loss: 0.26174 | train_mse: 0.60536 | train_mae: 0.55456 |  0:00:01s\n",
      "epoch 21 | loss: 0.24    | train_mse: 0.62631 | train_mae: 0.53235 |  0:00:01s\n",
      "epoch 22 | loss: 0.4764  | train_mse: 0.60719 | train_mae: 0.52687 |  0:00:01s\n"
     ]
    },
    {
     "name": "stdout",
     "output_type": "stream",
     "text": [
      "epoch 23 | loss: 0.35812 | train_mse: 0.58671 | train_mae: 0.50163 |  0:00:01s\n",
      "epoch 24 | loss: 0.34327 | train_mse: 0.5946  | train_mae: 0.49234 |  0:00:01s\n",
      "epoch 25 | loss: 0.30967 | train_mse: 0.43836 | train_mae: 0.47811 |  0:00:01s\n",
      "epoch 26 | loss: 0.20966 | train_mse: 0.60704 | train_mae: 0.56157 |  0:00:01s\n"
     ]
    },
    {
     "name": "stdout",
     "output_type": "stream",
     "text": [
      "epoch 27 | loss: 0.29793 | train_mse: 0.57606 | train_mae: 0.53871 |  0:00:02s\n",
      "epoch 28 | loss: 0.25439 | train_mse: 0.29148 | train_mae: 0.41545 |  0:00:02s\n",
      "epoch 29 | loss: 0.16818 | train_mse: 0.36708 | train_mae: 0.42371 |  0:00:02s\n"
     ]
    },
    {
     "name": "stdout",
     "output_type": "stream",
     "text": [
      "epoch 30 | loss: 0.30724 | train_mse: 0.31981 | train_mae: 0.41498 |  0:00:02s\n",
      "epoch 31 | loss: 0.28349 | train_mse: 0.30635 | train_mae: 0.40556 |  0:00:02s\n",
      "epoch 32 | loss: 0.45214 | train_mse: 0.42528 | train_mae: 0.4417  |  0:00:02s\n",
      "epoch 33 | loss: 0.44119 | train_mse: 0.47819 | train_mae: 0.45137 |  0:00:02s\n"
     ]
    },
    {
     "name": "stdout",
     "output_type": "stream",
     "text": [
      "epoch 34 | loss: 0.31613 | train_mse: 0.32874 | train_mae: 0.38894 |  0:00:02s\n",
      "epoch 35 | loss: 0.30348 | train_mse: 0.3172  | train_mae: 0.39901 |  0:00:02s\n",
      "epoch 36 | loss: 0.35588 | train_mse: 0.29151 | train_mae: 0.37452 |  0:00:02s\n",
      "epoch 37 | loss: 0.25975 | train_mse: 0.20253 | train_mae: 0.3243  |  0:00:02s\n"
     ]
    },
    {
     "name": "stdout",
     "output_type": "stream",
     "text": [
      "epoch 38 | loss: 0.15275 | train_mse: 0.20694 | train_mae: 0.3411  |  0:00:02s\n",
      "epoch 39 | loss: 0.30391 | train_mse: 0.15851 | train_mae: 0.28309 |  0:00:02s\n",
      "epoch 40 | loss: 0.20153 | train_mse: 0.12009 | train_mae: 0.23875 |  0:00:02s\n"
     ]
    },
    {
     "name": "stdout",
     "output_type": "stream",
     "text": [
      "epoch 41 | loss: 0.20441 | train_mse: 0.13496 | train_mae: 0.25643 |  0:00:03s\n",
      "epoch 42 | loss: 0.37357 | train_mse: 0.10246 | train_mae: 0.23785 |  0:00:03s\n",
      "epoch 43 | loss: 0.29472 | train_mse: 0.10202 | train_mae: 0.2392  |  0:00:03s\n",
      "epoch 44 | loss: 0.38305 | train_mse: 0.10904 | train_mae: 0.24211 |  0:00:03s\n"
     ]
    },
    {
     "name": "stdout",
     "output_type": "stream",
     "text": [
      "epoch 45 | loss: 0.28619 | train_mse: 0.09963 | train_mae: 0.23573 |  0:00:03s\n",
      "epoch 46 | loss: 0.20883 | train_mse: 0.09325 | train_mae: 0.23567 |  0:00:03s\n"
     ]
    },
    {
     "name": "stdout",
     "output_type": "stream",
     "text": [
      "epoch 47 | loss: 0.12759 | train_mse: 0.10706 | train_mae: 0.25568 |  0:00:03s\n",
      "epoch 48 | loss: 0.31838 | train_mse: 0.23105 | train_mae: 0.33603 |  0:00:03s\n",
      "epoch 49 | loss: 0.16939 | train_mse: 0.19051 | train_mae: 0.32574 |  0:00:03s\n"
     ]
    },
    {
     "name": "stdout",
     "output_type": "stream",
     "text": [
      "epoch 50 | loss: 0.22916 | train_mse: 0.17099 | train_mae: 0.29189 |  0:00:03s\n",
      "epoch 51 | loss: 0.20452 | train_mse: 0.09952 | train_mae: 0.24671 |  0:00:03s\n",
      "epoch 52 | loss: 0.26897 | train_mse: 0.2197  | train_mae: 0.30999 |  0:00:03s\n"
     ]
    },
    {
     "name": "stdout",
     "output_type": "stream",
     "text": [
      "epoch 53 | loss: 0.33986 | train_mse: 0.24353 | train_mae: 0.31286 |  0:00:03s\n",
      "epoch 54 | loss: 0.32686 | train_mse: 0.34929 | train_mae: 0.35162 |  0:00:04s\n",
      "epoch 55 | loss: 0.38996 | train_mse: 0.31359 | train_mae: 0.35276 |  0:00:04s\n"
     ]
    },
    {
     "name": "stdout",
     "output_type": "stream",
     "text": [
      "epoch 56 | loss: 0.46741 | train_mse: 0.3536  | train_mae: 0.34015 |  0:00:04s\n",
      "epoch 57 | loss: 0.27649 | train_mse: 0.25542 | train_mae: 0.30032 |  0:00:04s\n",
      "epoch 58 | loss: 0.3371  | train_mse: 0.22359 | train_mae: 0.2794  |  0:00:04s\n"
     ]
    },
    {
     "name": "stdout",
     "output_type": "stream",
     "text": [
      "epoch 59 | loss: 0.2917  | train_mse: 0.2842  | train_mae: 0.33264 |  0:00:04s\n",
      "epoch 60 | loss: 0.38458 | train_mse: 0.37491 | train_mae: 0.38367 |  0:00:04s\n"
     ]
    },
    {
     "name": "stdout",
     "output_type": "stream",
     "text": [
      "epoch 61 | loss: 0.36916 | train_mse: 0.27228 | train_mae: 0.34873 |  0:00:04s\n",
      "epoch 62 | loss: 0.39486 | train_mse: 0.24415 | train_mae: 0.32364 |  0:00:04s\n",
      "epoch 63 | loss: 0.42598 | train_mse: 0.23627 | train_mae: 0.31381 |  0:00:04s\n",
      "epoch 64 | loss: 0.2751  | train_mse: 0.24195 | train_mae: 0.3242  |  0:00:04s\n"
     ]
    },
    {
     "name": "stdout",
     "output_type": "stream",
     "text": [
      "epoch 65 | loss: 0.43031 | train_mse: 0.25234 | train_mae: 0.3278  |  0:00:04s\n",
      "epoch 66 | loss: 0.29159 | train_mse: 0.21415 | train_mae: 0.30314 |  0:00:05s\n",
      "epoch 67 | loss: 0.26256 | train_mse: 0.21067 | train_mae: 0.31225 |  0:00:05s\n"
     ]
    },
    {
     "name": "stdout",
     "output_type": "stream",
     "text": [
      "epoch 68 | loss: 0.26674 | train_mse: 0.20564 | train_mae: 0.30499 |  0:00:05s\n",
      "epoch 69 | loss: 0.22437 | train_mse: 0.18235 | train_mae: 0.28477 |  0:00:05s\n",
      "epoch 70 | loss: 0.22735 | train_mse: 0.20642 | train_mae: 0.28747 |  0:00:05s\n",
      "epoch 71 | loss: 0.35991 | train_mse: 0.18456 | train_mae: 0.27088 |  0:00:05s\n"
     ]
    },
    {
     "name": "stdout",
     "output_type": "stream",
     "text": [
      "epoch 72 | loss: 0.32114 | train_mse: 0.22751 | train_mae: 0.28549 |  0:00:05s\n",
      "epoch 73 | loss: 0.34706 | train_mse: 0.29934 | train_mae: 0.32225 |  0:00:05s\n",
      "epoch 74 | loss: 0.26941 | train_mse: 0.28652 | train_mae: 0.33521 |  0:00:05s\n",
      "epoch 75 | loss: 0.19816 | train_mse: 0.23423 | train_mae: 0.31943 |  0:00:05s\n"
     ]
    },
    {
     "name": "stdout",
     "output_type": "stream",
     "text": [
      "epoch 76 | loss: 0.32834 | train_mse: 0.20117 | train_mae: 0.3001  |  0:00:05s\n",
      "epoch 77 | loss: 0.24779 | train_mse: 0.18278 | train_mae: 0.2708  |  0:00:05s\n",
      "epoch 78 | loss: 0.38507 | train_mse: 0.18174 | train_mae: 0.27233 |  0:00:05s\n",
      "epoch 79 | loss: 0.35702 | train_mse: 0.23574 | train_mae: 0.3118  |  0:00:05s\n"
     ]
    },
    {
     "name": "stdout",
     "output_type": "stream",
     "text": [
      "epoch 80 | loss: 0.23906 | train_mse: 0.25941 | train_mae: 0.33729 |  0:00:05s\n",
      "epoch 81 | loss: 0.20921 | train_mse: 0.28239 | train_mae: 0.34781 |  0:00:06s\n",
      "epoch 82 | loss: 0.20837 | train_mse: 0.2985  | train_mae: 0.35168 |  0:00:06s\n"
     ]
    },
    {
     "name": "stdout",
     "output_type": "stream",
     "text": [
      "epoch 83 | loss: 0.17731 | train_mse: 0.33132 | train_mae: 0.36503 |  0:00:06s\n",
      "epoch 84 | loss: 0.16081 | train_mse: 0.38634 | train_mae: 0.40105 |  0:00:06s\n",
      "epoch 85 | loss: 0.22598 | train_mse: 0.40689 | train_mae: 0.4357  |  0:00:06s\n",
      "epoch 86 | loss: 0.1828  | train_mse: 0.35277 | train_mae: 0.40688 |  0:00:06s\n"
     ]
    },
    {
     "name": "stdout",
     "output_type": "stream",
     "text": [
      "epoch 87 | loss: 0.25537 | train_mse: 0.3274  | train_mae: 0.37953 |  0:00:06s\n",
      "epoch 88 | loss: 0.21321 | train_mse: 0.27107 | train_mae: 0.34118 |  0:00:06s\n",
      "epoch 89 | loss: 0.26878 | train_mse: 0.22818 | train_mae: 0.315   |  0:00:06s\n"
     ]
    },
    {
     "name": "stdout",
     "output_type": "stream",
     "text": [
      "epoch 90 | loss: 0.25164 | train_mse: 0.18686 | train_mae: 0.29159 |  0:00:06s\n",
      "epoch 91 | loss: 0.34624 | train_mse: 0.17634 | train_mae: 0.29479 |  0:00:06s\n",
      "epoch 92 | loss: 0.38376 | train_mse: 0.1326  | train_mae: 0.27332 |  0:00:06s\n",
      "epoch 93 | loss: 0.20365 | train_mse: 0.13581 | train_mae: 0.25688 |  0:00:06s\n"
     ]
    },
    {
     "name": "stdout",
     "output_type": "stream",
     "text": [
      "epoch 94 | loss: 0.27247 | train_mse: 0.14697 | train_mae: 0.2716  |  0:00:06s\n",
      "epoch 95 | loss: 0.25986 | train_mse: 0.19793 | train_mae: 0.31816 |  0:00:06s\n",
      "epoch 96 | loss: 0.26522 | train_mse: 0.28086 | train_mae: 0.36816 |  0:00:07s\n",
      "\n",
      "Early stopping occurred at epoch 96 with best_epoch = 46 and best_train_mae = 0.23567\n",
      "Best weights from best epoch are automatically used!\n"
     ]
    }
   ],
   "source": [
    "#Train the Model\n",
    "\n",
    "Y_train = np.reshape(Y_train, (-1, 1))\n",
    "Y_test = np.reshape(Y_test, (-1, 1))\n",
    "\n",
    "prior_model = TabNetRegressor(optimizer_fn=torch.optim.Adam, optimizer_params=dict(lr = 0.02),\n",
    "          #scheduler_params={\"step_size\":10, ], \"gamma\":0.9},\n",
    "          #scheduler_fn=torch.optim.lr_scheduler.StepLR\n",
    "          )  #TabNetRegressor()\n",
    "\n",
    "prior_model.fit(X_train,Y_train,eval_set=[(X_train, Y_train)],\n",
    "            eval_name=['train'], \n",
    "            eval_metric=[ 'mse', 'mae'], \n",
    "            max_epochs = n_epochs, \n",
    "            batch_size = batch_size,\n",
    "            patience=50\n",
    "            )"
   ]
  },
  {
   "cell_type": "code",
   "execution_count": 10,
   "id": "af65dcda",
   "metadata": {
    "execution": {
     "iopub.execute_input": "2022-06-22T15:18:31.148199Z",
     "iopub.status.busy": "2022-06-22T15:18:31.147382Z",
     "iopub.status.idle": "2022-06-22T15:18:31.173080Z",
     "shell.execute_reply": "2022-06-22T15:18:31.173721Z"
    },
    "id": "af65dcda",
    "papermill": {
     "duration": 0.063773,
     "end_time": "2022-06-22T15:18:31.174012",
     "exception": false,
     "start_time": "2022-06-22T15:18:31.110239",
     "status": "completed"
    },
    "tags": []
   },
   "outputs": [
    {
     "data": {
      "application/scrapbook.scrap.json+json": {
       "data": 0.278719147576577,
       "encoder": "json",
       "name": "Prior Model MSE",
       "version": 1
      }
     },
     "metadata": {
      "scrapbook": {
       "data": true,
       "display": false,
       "name": "Prior Model MSE"
      }
     },
     "output_type": "display_data"
    },
    {
     "data": {
      "application/scrapbook.scrap.json+json": {
       "data": 1.2252881145225252,
       "encoder": "json",
       "name": "ABC Pre-generator MSE",
       "version": 1
      }
     },
     "metadata": {
      "scrapbook": {
       "data": true,
       "display": false,
       "name": "ABC Pre-generator MSE"
      }
     },
     "output_type": "display_data"
    },
    {
     "data": {
      "application/scrapbook.scrap.json+json": {
       "data": 0.4211417888575105,
       "encoder": "json",
       "name": "Prior Model MSE",
       "version": 1
      }
     },
     "metadata": {
      "scrapbook": {
       "data": true,
       "display": false,
       "name": "Prior Model MSE"
      }
     },
     "output_type": "display_data"
    },
    {
     "data": {
      "application/scrapbook.scrap.json+json": {
       "data": 0.9871291640618296,
       "encoder": "json",
       "name": "ABC Pre-generator MSE",
       "version": 1
      }
     },
     "metadata": {
      "scrapbook": {
       "data": true,
       "display": false,
       "name": "ABC Pre-generator MSE"
      }
     },
     "output_type": "display_data"
    }
   ],
   "source": [
    "y_pred = prior_model.predict(X_test)\n",
    "y_abc = y_pred + np.random.normal(0,variance, y_pred.shape) + bias \n",
    "mse = mean_squared_error(y_pred,Y_test)\n",
    "sb.glue(\"Prior Model MSE\",mse)\n",
    "mse = mean_squared_error(y_abc,Y_test)\n",
    "sb.glue(\"ABC Pre-generator MSE\",mse)\n",
    "mae = mean_absolute_error(y_pred,Y_test)\n",
    "sb.glue(\"Prior Model MSE\",mae)\n",
    "mae = mean_absolute_error(y_abc,Y_test)\n",
    "sb.glue(\"ABC Pre-generator MSE\",mae)"
   ]
  },
  {
   "cell_type": "markdown",
   "id": "25609da2",
   "metadata": {
    "papermill": {
     "duration": 0.024984,
     "end_time": "2022-06-22T15:18:31.224223",
     "exception": false,
     "start_time": "2022-06-22T15:18:31.199239",
     "status": "completed"
    },
    "tags": []
   },
   "source": [
    "# ABC GAN Model"
   ]
  },
  {
   "cell_type": "code",
   "execution_count": 11,
   "id": "dfc3464d",
   "metadata": {
    "execution": {
     "iopub.execute_input": "2022-06-22T15:18:31.288403Z",
     "iopub.status.busy": "2022-06-22T15:18:31.286674Z",
     "iopub.status.idle": "2022-06-22T15:18:31.292226Z",
     "shell.execute_reply": "2022-06-22T15:18:31.292746Z"
    },
    "papermill": {
     "duration": 0.042486,
     "end_time": "2022-06-22T15:18:31.293027",
     "exception": false,
     "start_time": "2022-06-22T15:18:31.250541",
     "status": "completed"
    },
    "tags": []
   },
   "outputs": [],
   "source": [
    "gen = network.Generator(n_features+1).to(device)\n",
    "disc = network.Discriminator(n_features+1).to(device)\n",
    "\n",
    "criterion = torch.nn.BCELoss()\n",
    "gen_opt = torch.optim.Adam(gen.parameters(), lr=0.001, betas=(0.5, 0.999))\n",
    "disc_opt = torch.optim.Adam(disc.parameters(), lr=0.001, betas=(0.5, 0.999))"
   ]
  },
  {
   "cell_type": "code",
   "execution_count": 12,
   "id": "b75fdd85",
   "metadata": {
    "execution": {
     "iopub.execute_input": "2022-06-22T15:18:31.346462Z",
     "iopub.status.busy": "2022-06-22T15:18:31.345507Z",
     "iopub.status.idle": "2022-06-22T15:19:10.874280Z",
     "shell.execute_reply": "2022-06-22T15:19:10.875010Z"
    },
    "papermill": {
     "duration": 39.557183,
     "end_time": "2022-06-22T15:19:10.875223",
     "exception": false,
     "start_time": "2022-06-22T15:18:31.318040",
     "status": "completed"
    },
    "tags": []
   },
   "outputs": [
    {
     "data": {
      "image/png": "[encoded data removed]",
      "text/plain": [
       "<Figure size 432x288 with 1 Axes>"
      ]
     },
     "metadata": {
      "needs_background": "light"
     },
     "output_type": "display_data"
    },
    {
     "data": {
      "image/png": "[encoded data removed]",
      "text/plain": [
       "<Figure size 432x288 with 1 Axes>"
      ]
     },
     "metadata": {
      "needs_background": "light"
     },
     "output_type": "display_data"
    }
   ],
   "source": [
    "#Training the ABC_GAN \n",
    "ABC_train_test2.training_GAN(disc,gen,disc_opt,gen_opt,train_data,batch_size,n_epochs,criterion,prior_model,variance,bias,device)"
   ]
  },
  {
   "cell_type": "code",
   "execution_count": 13,
   "id": "1fa7c368",
   "metadata": {
    "execution": {
     "iopub.execute_input": "2022-06-22T15:19:10.939583Z",
     "iopub.status.busy": "2022-06-22T15:19:10.938774Z",
     "iopub.status.idle": "2022-06-22T15:19:11.583396Z",
     "shell.execute_reply": "2022-06-22T15:19:11.583877Z"
    },
    "papermill": {
     "duration": 0.68545,
     "end_time": "2022-06-22T15:19:11.584078",
     "exception": false,
     "start_time": "2022-06-22T15:19:10.898628",
     "status": "completed"
    },
    "tags": []
   },
   "outputs": [
    {
     "data": {
      "application/scrapbook.scrap.json+json": {
       "data": 0.3847379743520028,
       "encoder": "json",
       "name": "ABC-GAN Model 1 MSE",
       "version": 1
      }
     },
     "metadata": {
      "scrapbook": {
       "data": true,
       "display": false,
       "name": "ABC-GAN Model 1 MSE"
      }
     },
     "output_type": "display_data"
    },
    {
     "data": {
      "application/scrapbook.scrap.json+json": {
       "data": 0.509380328655243,
       "encoder": "json",
       "name": "ABC-GAN Model 1 MAE",
       "version": 1
      }
     },
     "metadata": {
      "scrapbook": {
       "data": true,
       "display": false,
       "name": "ABC-GAN Model 1 MAE"
      }
     },
     "output_type": "display_data"
    },
    {
     "data": {
      "application/scrapbook.scrap.json+json": {
       "data": 10.187606573104858,
       "encoder": "json",
       "name": "ABC-GAN Model 1 Manhattan Distance",
       "version": 1
      }
     },
     "metadata": {
      "scrapbook": {
       "data": true,
       "display": false,
       "name": "ABC-GAN Model 1 Manhattan Distance"
      }
     },
     "output_type": "display_data"
    },
    {
     "data": {
      "application/scrapbook.scrap.json+json": {
       "data": 2.7739295691822172,
       "encoder": "json",
       "name": "ABC-GAN Model 1 Euclidean distance",
       "version": 1
      }
     },
     "metadata": {
      "scrapbook": {
       "data": true,
       "display": false,
       "name": "ABC-GAN Model 1 Euclidean distance"
      }
     },
     "output_type": "display_data"
    },
    {
     "data": {
      "application/scrapbook.scrap.json+json": {
       "data": [
        [
         0.3837274239548836,
         0.38613073442465634,
         0.38779882096471974,
         0.37927569123069194,
         0.387990901191759,
         0.38959237396484236,
         0.38427041521670674,
         0.3832970545466384,
         0.386410228870064,
         0.38485346674115084,
         0.38714212537716364,
         0.385361480922848,
         0.3823465382957432,
         0.3861316396409457,
         0.38282270913393546,
         0.38291393792755224,
         0.3853720890105595,
         0.3848852604083918,
         0.3847755490721177,
         0.384095569975533,
         0.3837800140487323,
         0.3822296602498806,
         0.3869175869021874,
         0.3811003377695731,
         0.38151083619821347,
         0.38431783342326664,
         0.38603708550253873,
         0.38031756390514115,
         0.3870263886590057,
         0.3843980843452907,
         0.38583984796086485,
         0.38744392786054127,
         0.38552396676168393,
         0.38898424860910463,
         0.3856738266930211,
         0.3848242360305024,
         0.38517032823608777,
         0.38664820333672356,
         0.38227686618432144,
         0.3866466550112113,
         0.3799943483798392,
         0.3836623717858083,
         0.38624217042638226,
         0.38371231038846965,
         0.3843237987813592,
         0.38526466453057845,
         0.38544764800754816,
         0.38539971122618033,
         0.3863551724212069,
         0.3824846011869463,
         0.3828703189574311,
         0.38210437589428137,
         0.3852692991843399,
         0.38713946121632536,
         0.38454869586515195,
         0.3834286189189881,
         0.3837095260615294,
         0.38523198297419026,
         0.38309901433330745,
         0.38464111756171954,
         0.38601407310647157,
         0.38693920234636603,
         0.3905223717654566,
         0.3865979705071007,
         0.3911823908711093,
         0.38166607302952005,
         0.3820400399401149,
         0.3799028715950853,
         0.3881769317957645,
         0.3783641953398985,
         0.3847334709474472,
         0.3863662963287383,
         0.3827424734237178,
         0.38118563216025597,
         0.38832037897222227,
         0.38151887097344056,
         0.38579319739834705,
         0.3881921847482448,
         0.3816141674180515,
         0.3823068404985133,
         0.3865900702249569,
         0.38461313916355533,
         0.387629091904662,
         0.3859432633364011,
         0.385185220500395,
         0.3843210830982306,
         0.38282533111130124,
         0.3835549885420285,
         0.3851366352103989,
         0.38589629628681277,
         0.38694533125735864,
         0.38190278883268725,
         0.38179128796690776,
         0.38479109229617003,
         0.3860127117025824,
         0.3867312796888185,
         0.38737935074947444,
         0.38365133596375567,
         0.38355232523073507,
         0.38437446230680117
        ],
        [
         0.5088128848932684,
         0.5108101501129567,
         0.5113512150011956,
         0.5060576683841645,
         0.5123559503816069,
         0.5129391497932374,
         0.5090959488414228,
         0.5075700997374952,
         0.5102300724945963,
         0.5078381679020822,
         0.5090321823023259,
         0.5080155841074884,
         0.5065927377901971,
         0.5103988929651677,
         0.508489069994539,
         0.5086554578505457,
         0.5100003018043935,
         0.5093898764811456,
         0.5103571369312704,
         0.5087240642867983,
         0.5092317401431501,
         0.5064982040785253,
         0.5094783521257341,
         0.5075913480482995,
         0.5096469632349908,
         0.5105875344015658,
         0.5084149143658578,
         0.5074259958229959,
         0.5111891708336771,
         0.5096500008367002,
         0.5117997131310403,
         0.5101969837211072,
         0.5105678311549127,
         0.5109421550296247,
         0.5093088543973863,
         0.5106560840271414,
         0.5094810693524778,
         0.5110991827212275,
         0.5095517723821104,
         0.5107506706379354,
         0.5054449274204671,
         0.510610522236675,
         0.508278830256313,
         0.5094969882629812,
         0.508722177054733,
         0.5103672145865857,
         0.5101438513956964,
         0.5095397247932851,
         0.5108416921459138,
         0.5098973534069955,
         0.5092378883622587,
         0.50767637854442,
         0.5087088911794126,
         0.5098836741410195,
         0.5087890132330358,
         0.5090376107953489,
         0.5109433879144489,
         0.5083594075404108,
         0.5088569573126733,
         0.5083763829432428,
         0.5106283052824437,
         0.5102336472831667,
         0.5120034738443792,
         0.5100350513122975,
         0.512434037681669,
         0.5071006893180311,
         0.5091396159492433,
         0.5070441908203065,
         0.51308519737795,
         0.504520200099796,
         0.5098117887042463,
         0.5114853925071656,
         0.5085947087965905,
         0.5067019148729741,
         0.5089065185748041,
         0.507661463227123,
         0.5094178981147707,
         0.5116276725195348,
         0.507222009357065,
         0.5069055958651006,
         0.5106445110403002,
         0.5076887465082109,
         0.5121168426238001,
         0.5087584017775952,
         0.5091077401302755,
         0.5095247200690209,
         0.508442924823612,
         0.5092752232216299,
         0.5089634484611452,
         0.5114511287771165,
         0.5128193124197423,
         0.5070230289362371,
         0.507523715402931,
         0.5087989768944681,
         0.5105061686597765,
         0.5082973442040384,
         0.5129093450494111,
         0.5097484960220754,
         0.5098517394624651,
         0.5060236535035074
        ],
        [
         10.176257697865367,
         10.216203002259135,
         10.227024300023913,
         10.121153367683291,
         10.247119007632136,
         10.258782995864749,
         10.181918976828456,
         10.151401994749904,
         10.204601449891925,
         10.156763358041644,
         10.18064364604652,
         10.160311682149768,
         10.131854755803943,
         10.207977859303355,
         10.16978139989078,
         10.173109157010913,
         10.20000603608787,
         10.187797529622912,
         10.207142738625407,
         10.174481285735965,
         10.184634802863002,
         10.129964081570506,
         10.189567042514682,
         10.151826960965991,
         10.192939264699817,
         10.211750688031316,
         10.168298287317157,
         10.148519916459918,
         10.223783416673541,
         10.193000016734004,
         10.235994262620807,
         10.203939674422145,
         10.211356623098254,
         10.218843100592494,
         10.186177087947726,
         10.213121680542827,
         10.189621387049556,
         10.221983654424548,
         10.191035447642207,
         10.215013412758708,
         10.108898548409343,
         10.2122104447335,
         10.165576605126262,
         10.189939765259624,
         10.17444354109466,
         10.207344291731715,
         10.202877027913928,
         10.190794495865703,
         10.216833842918277,
         10.19794706813991,
         10.184757767245173,
         10.1535275708884,
         10.174177823588252,
         10.197673482820392,
         10.175780264660716,
         10.180752215906978,
         10.21886775828898,
         10.167188150808215,
         10.177139146253467,
         10.167527658864856,
         10.212566105648875,
         10.204672945663333,
         10.240069476887584,
         10.200701026245952,
         10.24868075363338,
         10.142013786360621,
         10.182792318984866,
         10.14088381640613,
         10.261703947558999,
         10.090404001995921,
         10.196235774084926,
         10.229707850143313,
         10.171894175931811,
         10.134038297459483,
         10.178130371496081,
         10.15322926454246,
         10.188357962295413,
         10.232553450390697,
         10.1444401871413,
         10.138111917302012,
         10.212890220806003,
         10.153774930164218,
         10.242336852476,
         10.175168035551906,
         10.18215480260551,
         10.19049440138042,
         10.16885849647224,
         10.185504464432597,
         10.179268969222903,
         10.22902257554233,
         10.256386248394847,
         10.140460578724742,
         10.15047430805862,
         10.175979537889361,
         10.210123373195529,
         10.165946884080768,
         10.258186900988221,
         10.194969920441508,
         10.197034789249301,
         10.120473070070148
        ],
        [
         2.7702975434233905,
         2.7789592815464434,
         2.7849553711494903,
         2.7541811531948728,
         2.78564499242728,
         2.7913880918454974,
         2.772256897247103,
         2.768743594291961,
         2.7799648518283964,
         2.7743592656364853,
         2.78259636087293,
         2.776189766290655,
         2.765308439562369,
         2.778962538937672,
         2.7670298485341114,
         2.7673595282418666,
         2.7762279769880553,
         2.774473861503805,
         2.7740784021801463,
         2.771626129100146,
         2.7704873724625867,
         2.7648857489953564,
         2.781789305113482,
         2.760798209828357,
         2.76228469277956,
         2.7724279374702117,
         2.778622268328456,
         2.757961435209496,
         2.7821803991078857,
         2.772717383165081,
         2.777912338288827,
         2.78368075705725,
         2.7767749882253114,
         2.7892086641522704,
         2.7773146263721045,
         2.7742539034144023,
         2.7755011375825007,
         2.7808207541541528,
         2.765056477485845,
         2.7808151862761803,
         2.7567892497608124,
         2.7700627133182683,
         2.779360251663617,
         2.7702429871347736,
         2.7724494541158338,
         2.7758410060036884,
         2.776500127885998,
         2.7763274706928227,
         2.7797667974893394,
         2.7658076621014205,
         2.7672019042976648,
         2.764432585158413,
         2.775857702348375,
         2.782586786486004,
         2.773260520993843,
         2.769218730685563,
         2.7702329362764044,
         2.775723267813959,
         2.7680282308289685,
         2.773593761031776,
         2.7785394476468084,
         2.7818670074119862,
         2.7947177738206648,
         2.7806401079862915,
         2.797078443201439,
         2.7628466227046338,
         2.7641998478406546,
         2.756457406146829,
         2.786312731176328,
         2.7508696637241776,
         2.7739267147761755,
         2.77980681461406,
         2.7667398628122517,
         2.7611071408413546,
         2.7868275116060635,
         2.762313780052659,
         2.7777443993223963,
         2.7863674730668415,
         2.762658746273421,
         2.765164879346305,
         2.7806116961019813,
         2.773492885022622,
         2.784345854611679,
         2.7782845906652582,
         2.775554793191426,
         2.7724396588500553,
         2.767039324300619,
         2.7696750298258044,
         2.7753797405414593,
         2.7781155349870272,
         2.7818890389710322,
         2.763703272179151,
         2.763299795414561,
         2.7741344318405696,
         2.7785345479319936,
         2.7811194857064967,
         2.7834487627742472,
         2.770022873420924,
         2.769665413838773,
         2.772632187315155
        ]
       ],
       "encoder": "json",
       "name": "ABC_GAN_1 Metrics",
       "version": 1
      }
     },
     "metadata": {
      "scrapbook": {
       "data": true,
       "display": false,
       "name": "ABC_GAN_1 Metrics"
      }
     },
     "output_type": "display_data"
    },
    {
     "name": "stdout",
     "output_type": "stream",
     "text": [
      "MSE\n",
      "0.3847379743520028\n"
     ]
    }
   ],
   "source": [
    "ABC_GAN1_metrics=ABC_train_test2.test_generator(gen,test_data,prior_model,variance,bias,\"1\",device)\n",
    "sb.glue(\"ABC_GAN_1 Metrics\",ABC_GAN1_metrics)\n",
    "\n",
    "print(\"MSE\")\n",
    "print(mean(ABC_GAN1_metrics[0]))"
   ]
  },
  {
   "cell_type": "code",
   "execution_count": 14,
   "id": "eb22ce5c",
   "metadata": {
    "execution": {
     "iopub.execute_input": "2022-06-22T15:19:11.650735Z",
     "iopub.status.busy": "2022-06-22T15:19:11.650031Z",
     "iopub.status.idle": "2022-06-22T15:19:12.383409Z",
     "shell.execute_reply": "2022-06-22T15:19:12.383919Z"
    },
    "papermill": {
     "duration": 0.772765,
     "end_time": "2022-06-22T15:19:12.384138",
     "exception": false,
     "start_time": "2022-06-22T15:19:11.611373",
     "status": "completed"
    },
    "tags": []
   },
   "outputs": [
    {
     "data": {
      "image/png": "[encoded data removed]",
      "text/plain": [
       "<Figure size 432x288 with 1 Axes>"
      ]
     },
     "metadata": {
      "needs_background": "light"
     },
     "output_type": "display_data"
    },
    {
     "data": {
      "image/png": "[encoded data removed]",
      "text/plain": [
       "<Figure size 432x288 with 1 Axes>"
      ]
     },
     "metadata": {
      "needs_background": "light"
     },
     "output_type": "display_data"
    },
    {
     "data": {
      "image/png": "[encoded data removed]",
      "text/plain": [
       "<Figure size 432x288 with 1 Axes>"
      ]
     },
     "metadata": {
      "needs_background": "light"
     },
     "output_type": "display_data"
    },
    {
     "data": {
      "image/png": "[encoded data removed]",
      "text/plain": [
       "<Figure size 432x288 with 1 Axes>"
      ]
     },
     "metadata": {
      "needs_background": "light"
     },
     "output_type": "display_data"
    }
   ],
   "source": [
    "sanityChecks.discProbVsError(train_data,disc,device)\n",
    "sanityChecks.discProbVsError(test_data,disc,device)"
   ]
  },
  {
   "cell_type": "markdown",
   "id": "130f3a4d",
   "metadata": {
    "id": "130f3a4d",
    "papermill": {
     "duration": 0.039334,
     "end_time": "2022-06-22T15:19:12.457838",
     "exception": false,
     "start_time": "2022-06-22T15:19:12.418504",
     "status": "completed"
    },
    "tags": []
   },
   "source": [
    "# ABC - GAN Model with skip connection"
   ]
  },
  {
   "cell_type": "code",
   "execution_count": 15,
   "id": "4e43dad1",
   "metadata": {
    "execution": {
     "iopub.execute_input": "2022-06-22T15:19:12.523937Z",
     "iopub.status.busy": "2022-06-22T15:19:12.522667Z",
     "iopub.status.idle": "2022-06-22T15:19:12.526859Z",
     "shell.execute_reply": "2022-06-22T15:19:12.527598Z"
    },
    "id": "4e43dad1",
    "papermill": {
     "duration": 0.039962,
     "end_time": "2022-06-22T15:19:12.527825",
     "exception": false,
     "start_time": "2022-06-22T15:19:12.487863",
     "status": "completed"
    },
    "tags": []
   },
   "outputs": [],
   "source": [
    "#Generator\n",
    "gen3 = network.GeneratorWithSkipConnection(n_features+1).to(device)\n",
    "constraints=network.weightConstraint()\n",
    "#Discriminator \n",
    "disc3 = network.Discriminator(n_features+1).to(device)\n",
    "\n",
    "criterion = torch.nn.BCELoss()\n",
    "gen_opt = torch.optim.Adam(gen3.parameters(), lr=0.001, betas=(0.5, 0.999))\n",
    "disc_opt = torch.optim.Adam(disc3.parameters(), lr=0.001, betas=(0.5, 0.999))\n"
   ]
  },
  {
   "cell_type": "code",
   "execution_count": 16,
   "id": "26acbc37",
   "metadata": {
    "execution": {
     "iopub.execute_input": "2022-06-22T15:19:12.607477Z",
     "iopub.status.busy": "2022-06-22T15:19:12.606749Z",
     "iopub.status.idle": "2022-06-22T15:20:18.324077Z",
     "shell.execute_reply": "2022-06-22T15:20:18.324479Z"
    },
    "id": "26acbc37",
    "papermill": {
     "duration": 65.765345,
     "end_time": "2022-06-22T15:20:18.324720",
     "exception": false,
     "start_time": "2022-06-22T15:19:12.559375",
     "status": "completed"
    },
    "tags": []
   },
   "outputs": [
    {
     "data": {
      "image/png": "[encoded data removed]",
      "text/plain": [
       "<Figure size 432x288 with 1 Axes>"
      ]
     },
     "metadata": {
      "needs_background": "light"
     },
     "output_type": "display_data"
    },
    {
     "data": {
      "image/png": "[encoded data removed]",
      "text/plain": [
       "<Figure size 432x288 with 1 Axes>"
      ]
     },
     "metadata": {
      "needs_background": "light"
     },
     "output_type": "display_data"
    }
   ],
   "source": [
    "ABC_train_test2.training_GAN_skip_connection(disc3,gen3,disc_opt,gen_opt,train_data,batch_size,n_epochs,criterion,prior_model,variance,bias,device)"
   ]
  },
  {
   "cell_type": "code",
   "execution_count": 17,
   "id": "c5e0717b",
   "metadata": {
    "execution": {
     "iopub.execute_input": "2022-06-22T15:20:18.408604Z",
     "iopub.status.busy": "2022-06-22T15:20:18.406466Z",
     "iopub.status.idle": "2022-06-22T15:20:19.138996Z",
     "shell.execute_reply": "2022-06-22T15:20:19.139659Z"
    },
    "id": "c5e0717b",
    "papermill": {
     "duration": 0.781948,
     "end_time": "2022-06-22T15:20:19.139863",
     "exception": false,
     "start_time": "2022-06-22T15:20:18.357915",
     "status": "completed"
    },
    "tags": []
   },
   "outputs": [
    {
     "data": {
      "application/scrapbook.scrap.json+json": {
       "data": 0.31545260542213566,
       "encoder": "json",
       "name": "ABC-GAN Model 3 MSE",
       "version": 1
      }
     },
     "metadata": {
      "scrapbook": {
       "data": true,
       "display": false,
       "name": "ABC-GAN Model 3 MSE"
      }
     },
     "output_type": "display_data"
    },
    {
     "data": {
      "application/scrapbook.scrap.json+json": {
       "data": 0.4677756017036736,
       "encoder": "json",
       "name": "ABC-GAN Model 3 MAE",
       "version": 1
      }
     },
     "metadata": {
      "scrapbook": {
       "data": true,
       "display": false,
       "name": "ABC-GAN Model 3 MAE"
      }
     },
     "output_type": "display_data"
    },
    {
     "data": {
      "application/scrapbook.scrap.json+json": {
       "data": 9.355512034073472,
       "encoder": "json",
       "name": "ABC-GAN Model 3 Manhattan Distance",
       "version": 1
      }
     },
     "metadata": {
      "scrapbook": {
       "data": true,
       "display": false,
       "name": "ABC-GAN Model 3 Manhattan Distance"
      }
     },
     "output_type": "display_data"
    },
    {
     "data": {
      "application/scrapbook.scrap.json+json": {
       "data": 2.5117609130249057,
       "encoder": "json",
       "name": "ABC-GAN Model 3 Euclidean distance",
       "version": 1
      }
     },
     "metadata": {
      "scrapbook": {
       "data": true,
       "display": false,
       "name": "ABC-GAN Model 3 Euclidean distance"
      }
     },
     "output_type": "display_data"
    },
    {
     "data": {
      "application/scrapbook.scrap.json+json": {
       "data": [
        [
         0.3130609267188739,
         0.31432549066549936,
         0.3189839173510152,
         0.31506063268531054,
         0.3123878312031325,
         0.31412260495883104,
         0.3178885782802294,
         0.313687867801857,
         0.3136330860760734,
         0.3143775348302755,
         0.31880157823674277,
         0.316556582110879,
         0.3170813081712986,
         0.3147226724071014,
         0.3139168975065892,
         0.3178799730586944,
         0.3176774842953113,
         0.3167989956282038,
         0.31151887451761195,
         0.3181298617108646,
         0.3149677880303929,
         0.31134837738362514,
         0.3150556169167832,
         0.31076105334184717,
         0.31316136042655507,
         0.31792583299883914,
         0.3144429595428043,
         0.3187285800368534,
         0.31238846090388617,
         0.31337932431038923,
         0.30803269049704224,
         0.31101053166661774,
         0.3142153836472349,
         0.31448070990469323,
         0.31309690720872874,
         0.3139554526506584,
         0.31353277247533407,
         0.31974216924088983,
         0.3161168997279756,
         0.31436875945724063,
         0.31599620157953723,
         0.3150145477292642,
         0.31450681922257406,
         0.3093580009870118,
         0.3122289812407516,
         0.3171622501841837,
         0.3132717023724343,
         0.31165590418413636,
         0.32246892627605367,
         0.3149465218669013,
         0.31442033128319297,
         0.31555681828085214,
         0.3170623357059375,
         0.31873551857772553,
         0.3170904689269768,
         0.3174582376850743,
         0.3189952234368144,
         0.31853266437794214,
         0.3148177782042304,
         0.31632852632316205,
         0.31471472598919237,
         0.31483229577483157,
         0.3188091661164456,
         0.3165356317550657,
         0.3172388148552308,
         0.3139006944972544,
         0.3169513907040339,
         0.31408403206116553,
         0.31428645008848577,
         0.31987555912258064,
         0.31133163424927035,
         0.31359414269278596,
         0.3167475690746263,
         0.31338008800559025,
         0.312518265176629,
         0.3140292645510306,
         0.3154320900448217,
         0.32076087479815174,
         0.31659464918032854,
         0.322029085504124,
         0.3166161296332583,
         0.31435618086996575,
         0.31882312496281134,
         0.3147291920203971,
         0.316754587682057,
         0.31757116043912037,
         0.313717617829541,
         0.31418509322643795,
         0.3165236185230136,
         0.3176165980068875,
         0.3143597907122439,
         0.3160922455911245,
         0.3155592893980995,
         0.31414675681028226,
         0.3116061784564308,
         0.31969825997950085,
         0.31668129789735716,
         0.3167166649248437,
         0.315241463047498,
         0.31968678093350683
        ],
        [
         0.4659988014958799,
         0.4672923467122018,
         0.46825801869854333,
         0.4674174419604242,
         0.46558232298120855,
         0.46733780866488817,
         0.469845004286617,
         0.4662407084368169,
         0.46562050497159363,
         0.4658045372925699,
         0.4687390341423452,
         0.4683790056966245,
         0.4672113968990743,
         0.46766551872715356,
         0.46873876890167593,
         0.4680805101059377,
         0.4686289093457162,
         0.46870620688423514,
         0.465641291346401,
         0.4706630169413984,
         0.46766657596454025,
         0.4644996187649667,
         0.46884450083598495,
         0.4633840358816087,
         0.46554348086938263,
         0.46996960332617166,
         0.4678744493983686,
         0.46878725877031685,
         0.46559618255123497,
         0.4667399703525007,
         0.46449707364663484,
         0.4645453623495996,
         0.46598712941631676,
         0.4669059141539037,
         0.46797602539882066,
         0.4664754285477102,
         0.46724472036585213,
         0.4708100683055818,
         0.46653652032837273,
         0.4668588272295892,
         0.4677446878515184,
         0.46886932095512746,
         0.46885169660672543,
         0.4629748328588903,
         0.46729087075218556,
         0.46688637128099797,
         0.4667951798997819,
         0.4648624270223081,
         0.47085902458056805,
         0.4655848740600049,
         0.4672954394482076,
         0.4673793382011354,
         0.46781934862956404,
         0.4705215095542371,
         0.4696736945770681,
         0.4671031883917749,
         0.4717353149317205,
         0.4689370422624052,
         0.4672586782835424,
         0.4691341808997095,
         0.4674687302671373,
         0.466561437305063,
         0.4706407508812845,
         0.46973963594064116,
         0.46948075061663985,
         0.4664326666854322,
         0.4697266056202352,
         0.4649742721579969,
         0.46671320861205456,
         0.4690121947787702,
         0.46377094453200696,
         0.4676222293637693,
         0.4704288109205663,
         0.466911435034126,
         0.4667215897701681,
         0.4680570035241544,
         0.46983358254656193,
         0.4718242219649255,
         0.4678208573721349,
         0.4716329432092607,
         0.4699163100682199,
         0.46799542820081114,
         0.46894672950729727,
         0.467841003742069,
         0.4668211339972913,
         0.4695293470285833,
         0.4663806094788015,
         0.4653025514446199,
         0.46927418326959014,
         0.46957637732848523,
         0.4673972173593938,
         0.46995124956592915,
         0.46792227094992994,
         0.46783259203657507,
         0.46412867223843934,
         0.4706400572322309,
         0.46983682429417967,
         0.46919330647215246,
         0.46747505804523826,
         0.47005445500835774
        ],
        [
         9.319976029917598,
         9.345846934244037,
         9.365160373970866,
         9.348348839208484,
         9.311646459624171,
         9.346756173297763,
         9.39690008573234,
         9.324814168736339,
         9.312410099431872,
         9.316090745851398,
         9.374780682846904,
         9.36758011393249,
         9.344227937981486,
         9.35331037454307,
         9.374775378033519,
         9.361610202118754,
         9.372578186914325,
         9.374124137684703,
         9.31282582692802,
         9.413260338827968,
         9.353331519290805,
         9.289992375299335,
         9.376890016719699,
         9.267680717632174,
         9.310869617387652,
         9.399392066523433,
         9.357488987967372,
         9.375745175406337,
         9.3119236510247,
         9.334799407050014,
         9.289941472932696,
         9.290907246991992,
         9.319742588326335,
         9.338118283078074,
         9.359520507976413,
         9.329508570954204,
         9.344894407317042,
         9.416201366111636,
         9.330730406567454,
         9.337176544591784,
         9.354893757030368,
         9.37738641910255,
         9.377033932134509,
         9.259496657177806,
         9.345817415043712,
         9.33772742561996,
         9.335903597995639,
         9.297248540446162,
         9.417180491611362,
         9.311697481200099,
         9.345908788964152,
         9.347586764022708,
         9.356386972591281,
         9.410430191084743,
         9.393473891541362,
         9.342063767835498,
         9.43470629863441,
         9.378740845248103,
         9.345173565670848,
         9.38268361799419,
         9.349374605342746,
         9.33122874610126,
         9.41281501762569,
         9.394792718812823,
         9.389615012332797,
         9.328653333708644,
         9.394532112404704,
         9.299485443159938,
         9.334264172241092,
         9.380243895575404,
         9.27541889064014,
         9.352444587275386,
         9.408576218411326,
         9.33822870068252,
         9.334431795403361,
         9.361140070483088,
         9.39667165093124,
         9.43648443929851,
         9.356417147442698,
         9.432658864185214,
         9.398326201364398,
         9.359908564016223,
         9.378934590145946,
         9.35682007484138,
         9.336422679945827,
         9.390586940571666,
         9.32761218957603,
         9.306051028892398,
         9.385483665391803,
         9.391527546569705,
         9.347944347187877,
         9.399024991318583,
         9.358445418998599,
         9.356651840731502,
         9.282573444768786,
         9.412801144644618,
         9.396736485883594,
         9.38386612944305,
         9.349501160904765,
         9.401089100167155
        ],
        [
         2.502242700934,
         2.5072913299634703,
         2.525802515443419,
         2.510221634379365,
         2.499551284543418,
         2.5064820165276713,
         2.5214621880180133,
         2.504746964473086,
         2.5045282433068046,
         2.507498892642928,
         2.5250805065848603,
         2.5161740087318245,
         2.5182585576993426,
         2.50887493672802,
         2.505661180234028,
         2.5214280598846934,
         2.5206248602095127,
         2.517137245476312,
         2.4960724128823344,
         2.5224189252020155,
         2.5098517407623615,
         2.4953892577456736,
         2.5102016529226616,
         2.493034509756522,
         2.5026440435130004,
         2.5216099341446094,
         2.5077597952866393,
         2.524791397469713,
         2.499553803797334,
         2.5035148264405755,
         2.482066439469509,
         2.494035010446396,
         2.5068521442128766,
         2.507910324970545,
         2.502386489768232,
         2.5058150476468066,
         2.5041276823490213,
         2.528802757199105,
         2.514425977148564,
         2.507463895880619,
         2.513945908644564,
         2.510038038473777,
         2.5080144306705017,
         2.4874002532242847,
         2.498915689817292,
         2.5185799577705836,
         2.503084906160533,
         2.496621333659297,
         2.5395626642241127,
         2.509767008576299,
         2.507669560700504,
         2.5121975172380537,
         2.5181832169480343,
         2.5248188789603323,
         2.518294934780185,
         2.5197548995292154,
         2.5258472773974856,
         2.5240153104842378,
         2.5092539855671463,
         2.51526748606649,
         2.5088432632956263,
         2.50931184102268,
         2.52511055645667,
         2.5160907446078555,
         2.5188839387920625,
         2.5055965137956844,
         2.517742602825133,
         2.5063281192260742,
         2.507135616948097,
         2.529330184545231,
         2.4953221605607174,
         2.504372746588598,
         2.5169329314649063,
         2.503517876930741,
         2.500073059638974,
         2.5061095927793366,
         2.511700977603909,
         2.532827964146605,
         2.516325293678576,
         2.5378301184441954,
         2.516410656603005,
         2.5074137307989908,
         2.52516583599102,
         2.5089009227962635,
         2.5169608168664723,
         2.520203009438408,
         2.504865736240332,
         2.5067313107967433,
         2.516042998531677,
         2.52038329627415,
         2.5074281274335415,
         2.514327924480514,
         2.5122073536955485,
         2.5065783722448507,
         2.496422153628792,
         2.5286291146765705,
         2.516669616367461,
         2.51681014351438,
         2.510941907123691,
         2.5285837179476847
        ]
       ],
       "encoder": "json",
       "name": "ABC_GAN_3 Metrics",
       "version": 1
      }
     },
     "metadata": {
      "scrapbook": {
       "data": true,
       "display": false,
       "name": "ABC_GAN_3 Metrics"
      }
     },
     "output_type": "display_data"
    },
    {
     "name": "stdout",
     "output_type": "stream",
     "text": [
      "MSE\n",
      "0.31545260542213566\n"
     ]
    }
   ],
   "source": [
    "ABC_GAN3_metrics=ABC_train_test2.test_generator(gen3,test_data,prior_model,variance,bias,\"3\",device)\n",
    "sb.glue(\"ABC_GAN_3 Metrics\",ABC_GAN3_metrics)\n",
    "\n",
    "print(\"MSE\")\n",
    "print(mean(ABC_GAN3_metrics[0]))"
   ]
  },
  {
   "cell_type": "code",
   "execution_count": 18,
   "id": "c8e46b48",
   "metadata": {
    "execution": {
     "iopub.execute_input": "2022-06-22T15:20:19.231111Z",
     "iopub.status.busy": "2022-06-22T15:20:19.230405Z",
     "iopub.status.idle": "2022-06-22T15:20:19.946542Z",
     "shell.execute_reply": "2022-06-22T15:20:19.947200Z"
    },
    "id": "c8e46b48",
    "papermill": {
     "duration": 0.766796,
     "end_time": "2022-06-22T15:20:19.947410",
     "exception": false,
     "start_time": "2022-06-22T15:20:19.180614",
     "status": "completed"
    },
    "tags": []
   },
   "outputs": [
    {
     "data": {
      "image/png": "[encoded data removed]",
      "text/plain": [
       "<Figure size 432x288 with 1 Axes>"
      ]
     },
     "metadata": {
      "needs_background": "light"
     },
     "output_type": "display_data"
    },
    {
     "data": {
      "image/png": "[encoded data removed]",
      "text/plain": [
       "<Figure size 432x288 with 1 Axes>"
      ]
     },
     "metadata": {
      "needs_background": "light"
     },
     "output_type": "display_data"
    },
    {
     "data": {
      "image/png": "[encoded data removed]",
      "text/plain": [
       "<Figure size 432x288 with 1 Axes>"
      ]
     },
     "metadata": {
      "needs_background": "light"
     },
     "output_type": "display_data"
    },
    {
     "data": {
      "image/png": "[encoded data removed]",
      "text/plain": [
       "<Figure size 432x288 with 1 Axes>"
      ]
     },
     "metadata": {
      "needs_background": "light"
     },
     "output_type": "display_data"
    }
   ],
   "source": [
    "sanityChecks.discProbVsError(train_data,disc3,device)\n",
    "sanityChecks.discProbVsError(test_data,disc3,device)"
   ]
  },
  {
   "cell_type": "markdown",
   "id": "a5bd74c3",
   "metadata": {
    "id": "a5bd74c3",
    "papermill": {
     "duration": 0.043743,
     "end_time": "2022-06-22T15:20:20.030104",
     "exception": false,
     "start_time": "2022-06-22T15:20:19.986361",
     "status": "completed"
    },
    "tags": []
   },
   "source": [
    "## Skip Connection Model Analysis - ABC-GAN "
   ]
  },
  {
   "cell_type": "markdown",
   "id": "5744a8bf",
   "metadata": {
    "id": "5744a8bf",
    "papermill": {
     "duration": 0.039125,
     "end_time": "2022-06-22T15:20:20.106915",
     "exception": false,
     "start_time": "2022-06-22T15:20:20.067790",
     "status": "completed"
    },
    "tags": []
   },
   "source": [
    "### Weight Analysis \n",
    "\n",
    "Study the weights of the skip connection layer\n",
    "\n",
    "Equation of the skip connection is \n",
    "\n",
    "$output = y_{gan} * w + y_{abc} * (1-w)$"
   ]
  },
  {
   "cell_type": "code",
   "execution_count": 19,
   "id": "52c31dea",
   "metadata": {
    "execution": {
     "iopub.execute_input": "2022-06-22T15:20:20.210422Z",
     "iopub.status.busy": "2022-06-22T15:20:20.208718Z",
     "iopub.status.idle": "2022-06-22T15:20:20.220698Z",
     "shell.execute_reply": "2022-06-22T15:20:20.218980Z"
    },
    "id": "52c31dea",
    "papermill": {
     "duration": 0.068326,
     "end_time": "2022-06-22T15:20:20.221002",
     "exception": false,
     "start_time": "2022-06-22T15:20:20.152676",
     "status": "completed"
    },
    "tags": []
   },
   "outputs": [
    {
     "name": "stdout",
     "output_type": "stream",
     "text": [
      "Weight of the node at skip connection\n",
      "Parameter containing:\n",
      "tensor([[0.8224]], requires_grad=True)\n"
     ]
    },
    {
     "data": {
      "application/scrapbook.scrap.json+json": {
       "data": 0.8224148154258728,
       "encoder": "json",
       "name": "Skip Connection Weight",
       "version": 1
      }
     },
     "metadata": {
      "scrapbook": {
       "data": true,
       "display": false,
       "name": "Skip Connection Weight"
      }
     },
     "output_type": "display_data"
    }
   ],
   "source": [
    "print(\"Weight of the node at skip connection\")\n",
    "for name,param in gen3.named_parameters():\n",
    "    if(name == \"skipNode.weight\"):\n",
    "        print(param)\n",
    "        sb.glue(\"Skip Connection Weight\",param.item())"
   ]
  }
 ],
 "metadata": {
  "colab": {
   "collapsed_sections": [],
   "name": "ABC_GAN_Model-Catboost_Pre-gen.ipynb",
   "provenance": []
  },
  "interpreter": {
   "hash": "31f2aee4e71d21fbe5cf8b01ff0e069b9275f58929596ceb00d14d90e3e16cd6"
  },
  "kernelspec": {
   "display_name": "Python 3 (ipykernel)",
   "language": "python",
   "name": "python3"
  },
  "language_info": {
   "codemirror_mode": {
    "name": "ipython",
    "version": 3
   },
   "file_extension": ".py",
   "mimetype": "text/x-python",
   "name": "python",
   "nbconvert_exporter": "python",
   "pygments_lexer": "ipython3",
   "version": "3.8.3"
  },
  "papermill": {
   "default_parameters": {},
   "duration": 126.83845,
   "end_time": "2022-06-22T15:20:21.788603",
   "environment_variables": {},
   "exception": null,
   "input_path": "ABC_GAN-TabNet.ipynb",
   "output_path": "./ABC_GAN_TabNet/ABC-GAN_output_8_2.ipynb",
   "parameters": {
    "bias": 1,
    "variance": 0.01
   },
   "start_time": "2022-06-22T15:18:14.950153",
   "version": "2.3.3"
  }
 },
 "nbformat": 4,
 "nbformat_minor": 5
}