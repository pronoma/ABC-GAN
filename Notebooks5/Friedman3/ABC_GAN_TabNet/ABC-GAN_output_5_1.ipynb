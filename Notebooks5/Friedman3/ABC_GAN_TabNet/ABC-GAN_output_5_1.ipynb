{
 "cells": [
  {
   "cell_type": "markdown",
   "id": "622780e6",
   "metadata": {
    "id": "622780e6",
    "papermill": {
     "duration": 0.027814,
     "end_time": "2022-06-22T13:33:54.359251",
     "exception": false,
     "start_time": "2022-06-22T13:33:54.331437",
     "status": "completed"
    },
    "tags": []
   },
   "source": [
    "## Import Libraries "
   ]
  },
  {
   "cell_type": "code",
   "execution_count": 1,
   "id": "a62397e3",
   "metadata": {
    "execution": {
     "iopub.execute_input": "2022-06-22T13:33:54.419493Z",
     "iopub.status.busy": "2022-06-22T13:33:54.416151Z",
     "iopub.status.idle": "2022-06-22T13:33:54.422280Z",
     "shell.execute_reply": "2022-06-22T13:33:54.422880Z"
    },
    "id": "a62397e3",
    "papermill": {
     "duration": 0.043339,
     "end_time": "2022-06-22T13:33:54.423223",
     "exception": false,
     "start_time": "2022-06-22T13:33:54.379884",
     "status": "completed"
    },
    "tags": []
   },
   "outputs": [],
   "source": [
    "import warnings\n",
    "import sys\n",
    "sys.path.insert(0, '../../src')\n",
    "warnings.filterwarnings('ignore')"
   ]
  },
  {
   "cell_type": "code",
   "execution_count": 2,
   "id": "d6a4e155",
   "metadata": {
    "execution": {
     "iopub.execute_input": "2022-06-22T13:33:54.471189Z",
     "iopub.status.busy": "2022-06-22T13:33:54.467816Z",
     "iopub.status.idle": "2022-06-22T13:34:00.506315Z",
     "shell.execute_reply": "2022-06-22T13:34:00.507159Z"
    },
    "id": "d6a4e155",
    "papermill": {
     "duration": 6.067933,
     "end_time": "2022-06-22T13:34:00.508400",
     "exception": false,
     "start_time": "2022-06-22T13:33:54.440467",
     "status": "completed"
    },
    "tags": []
   },
   "outputs": [],
   "source": [
    "import ABC_train_test2\n",
    "import friedman3Dataset\n",
    "import network\n",
    "import dataset\n",
    "import sanityChecks\n",
    "import torch \n",
    "import scrapbook as sb\n",
    "from statistics import mean \n",
    "import catboost as ctb \n",
    "from sklearn.model_selection import train_test_split\n",
    "from sklearn.metrics import mean_squared_error,mean_absolute_error\n",
    "import numpy as np\n",
    "from pytorch_tabnet.tab_model import TabNetRegressor"
   ]
  },
  {
   "cell_type": "markdown",
   "id": "2fa5b0f7",
   "metadata": {
    "id": "2fa5b0f7",
    "papermill": {
     "duration": 0.043544,
     "end_time": "2022-06-22T13:34:00.572607",
     "exception": false,
     "start_time": "2022-06-22T13:34:00.529063",
     "status": "completed"
    },
    "tags": []
   },
   "source": [
    "## Parameters "
   ]
  },
  {
   "cell_type": "code",
   "execution_count": 3,
   "id": "783186fb",
   "metadata": {
    "execution": {
     "iopub.execute_input": "2022-06-22T13:34:00.614399Z",
     "iopub.status.busy": "2022-06-22T13:34:00.612828Z",
     "iopub.status.idle": "2022-06-22T13:34:00.618808Z",
     "shell.execute_reply": "2022-06-22T13:34:00.619935Z"
    },
    "id": "783186fb",
    "papermill": {
     "duration": 0.029442,
     "end_time": "2022-06-22T13:34:00.620512",
     "exception": false,
     "start_time": "2022-06-22T13:34:00.591070",
     "status": "completed"
    },
    "tags": [
     "parameters"
    ]
   },
   "outputs": [],
   "source": [
    "variance = 1\n",
    "bias = 1 "
   ]
  },
  {
   "cell_type": "code",
   "execution_count": 4,
   "id": "6ecdef66",
   "metadata": {
    "execution": {
     "iopub.execute_input": "2022-06-22T13:34:00.668060Z",
     "iopub.status.busy": "2022-06-22T13:34:00.667109Z",
     "iopub.status.idle": "2022-06-22T13:34:00.669913Z",
     "shell.execute_reply": "2022-06-22T13:34:00.670560Z"
    },
    "papermill": {
     "duration": 0.034781,
     "end_time": "2022-06-22T13:34:00.670852",
     "exception": false,
     "start_time": "2022-06-22T13:34:00.636071",
     "status": "completed"
    },
    "tags": [
     "injected-parameters"
    ]
   },
   "outputs": [],
   "source": [
    "# Parameters\n",
    "variance = 0.1\n",
    "bias = 1\n"
   ]
  },
  {
   "cell_type": "markdown",
   "id": "391cdbfd",
   "metadata": {
    "id": "391cdbfd",
    "papermill": {
     "duration": 0.017651,
     "end_time": "2022-06-22T13:34:00.705323",
     "exception": false,
     "start_time": "2022-06-22T13:34:00.687672",
     "status": "completed"
    },
    "tags": []
   },
   "source": [
    "## Dataset \n"
   ]
  },
  {
   "cell_type": "code",
   "execution_count": 5,
   "id": "5b51f161",
   "metadata": {
    "execution": {
     "iopub.execute_input": "2022-06-22T13:34:00.738957Z",
     "iopub.status.busy": "2022-06-22T13:34:00.738008Z",
     "iopub.status.idle": "2022-06-22T13:34:00.741585Z",
     "shell.execute_reply": "2022-06-22T13:34:00.742433Z"
    },
    "id": "5b51f161",
    "papermill": {
     "duration": 0.022798,
     "end_time": "2022-06-22T13:34:00.742715",
     "exception": false,
     "start_time": "2022-06-22T13:34:00.719917",
     "status": "completed"
    },
    "tags": []
   },
   "outputs": [],
   "source": [
    "#Parameters \n",
    "n_features = 4\n",
    "n_samples= 100\n",
    "n_target = 1"
   ]
  },
  {
   "cell_type": "code",
   "execution_count": 6,
   "id": "5d6eced4",
   "metadata": {
    "execution": {
     "iopub.execute_input": "2022-06-22T13:34:00.801591Z",
     "iopub.status.busy": "2022-06-22T13:34:00.800278Z",
     "iopub.status.idle": "2022-06-22T13:34:00.804977Z",
     "shell.execute_reply": "2022-06-22T13:34:00.805515Z"
    },
    "id": "5d6eced4",
    "papermill": {
     "duration": 0.046321,
     "end_time": "2022-06-22T13:34:00.805741",
     "exception": false,
     "start_time": "2022-06-22T13:34:00.759420",
     "status": "completed"
    },
    "tags": []
   },
   "outputs": [
    {
     "name": "stdout",
     "output_type": "stream",
     "text": [
      "          X1           X2        X3        X4         Y\n",
      "0  24.614382  1660.188717  0.101222  6.149894  1.442813\n",
      "1  35.318829  1076.907864  0.577036  2.728150  1.480718\n",
      "2  36.525368  1576.577135  0.563037  7.565685  1.446820\n",
      "3  47.652599   608.430406  0.475779  5.254722  1.301546\n",
      "4  61.230708   804.353762  0.768546  4.813904  1.414006\n"
     ]
    }
   ],
   "source": [
    "X,Y = friedman3Dataset.friedman3_data(n_samples)"
   ]
  },
  {
   "cell_type": "code",
   "execution_count": 7,
   "id": "fe007438",
   "metadata": {
    "execution": {
     "iopub.execute_input": "2022-06-22T13:34:00.849402Z",
     "iopub.status.busy": "2022-06-22T13:34:00.846891Z",
     "iopub.status.idle": "2022-06-22T13:34:00.853006Z",
     "shell.execute_reply": "2022-06-22T13:34:00.853573Z"
    },
    "id": "fe007438",
    "papermill": {
     "duration": 0.029287,
     "end_time": "2022-06-22T13:34:00.853825",
     "exception": false,
     "start_time": "2022-06-22T13:34:00.824538",
     "status": "completed"
    },
    "tags": []
   },
   "outputs": [],
   "source": [
    "#Train test split for dataset \n",
    "X_train,X_test,Y_train,Y_test = train_test_split(X,Y,test_size = 0.2)\n",
    "train_data = dataset.CustomDataset(X_train,Y_train)\n",
    "test_data = dataset.CustomDataset(X_test,Y_test)\n"
   ]
  },
  {
   "cell_type": "markdown",
   "id": "a9a1af34",
   "metadata": {
    "id": "a9a1af34",
    "papermill": {
     "duration": 0.020391,
     "end_time": "2022-06-22T13:34:00.893339",
     "exception": false,
     "start_time": "2022-06-22T13:34:00.872948",
     "status": "completed"
    },
    "tags": []
   },
   "source": [
    "## Training Parameters "
   ]
  },
  {
   "cell_type": "code",
   "execution_count": 8,
   "id": "952b7fc8",
   "metadata": {
    "execution": {
     "iopub.execute_input": "2022-06-22T13:34:00.934856Z",
     "iopub.status.busy": "2022-06-22T13:34:00.933671Z",
     "iopub.status.idle": "2022-06-22T13:34:00.936049Z",
     "shell.execute_reply": "2022-06-22T13:34:00.936543Z"
    },
    "id": "952b7fc8",
    "papermill": {
     "duration": 0.024822,
     "end_time": "2022-06-22T13:34:00.936788",
     "exception": false,
     "start_time": "2022-06-22T13:34:00.911966",
     "status": "completed"
    },
    "tags": []
   },
   "outputs": [],
   "source": [
    "batch_size = 32\n",
    "n_epochs = 1000\n",
    "#Select the device \n",
    "device = torch.device('cuda' if torch.cuda.is_available() else 'cpu')"
   ]
  },
  {
   "cell_type": "markdown",
   "id": "a95e1600",
   "metadata": {
    "id": "a95e1600",
    "papermill": {
     "duration": 0.015233,
     "end_time": "2022-06-22T13:34:00.970402",
     "exception": false,
     "start_time": "2022-06-22T13:34:00.955169",
     "status": "completed"
    },
    "tags": []
   },
   "source": [
    "# ABC Pre-generator Model \n",
    "\n",
    "1. The catboost model is used as a pre-generator model for the ABC-GAN. \n",
    "2. The model is first trained on the entire dataset \n",
    "3. It generats X,Y pairs and we add some Gaussian noise with mean 0 and variance 1 to it which is then feed as input to the generator.\n"
   ]
  },
  {
   "cell_type": "code",
   "execution_count": 9,
   "id": "ff8ce7bd",
   "metadata": {
    "execution": {
     "iopub.execute_input": "2022-06-22T13:34:01.021500Z",
     "iopub.status.busy": "2022-06-22T13:34:01.020601Z",
     "iopub.status.idle": "2022-06-22T13:34:23.342088Z",
     "shell.execute_reply": "2022-06-22T13:34:23.342522Z"
    },
    "id": "ff8ce7bd",
    "papermill": {
     "duration": 22.353988,
     "end_time": "2022-06-22T13:34:23.342738",
     "exception": false,
     "start_time": "2022-06-22T13:34:00.988750",
     "status": "completed"
    },
    "tags": []
   },
   "outputs": [
    {
     "name": "stdout",
     "output_type": "stream",
     "text": [
      "Device used : cpu\n"
     ]
    },
    {
     "name": "stdout",
     "output_type": "stream",
     "text": [
      "epoch 0  | loss: 1.02574 | train_mse: 5.42872 | train_mae: 1.77886 |  0:00:00s\n",
      "epoch 1  | loss: 0.68512 | train_mse: 3.38057 | train_mae: 1.38604 |  0:00:00s\n",
      "epoch 2  | loss: 0.59158 | train_mse: 2.34897 | train_mae: 1.02931 |  0:00:00s\n"
     ]
    },
    {
     "name": "stdout",
     "output_type": "stream",
     "text": [
      "epoch 3  | loss: 0.41593 | train_mse: 1.86709 | train_mae: 0.96694 |  0:00:00s\n",
      "epoch 4  | loss: 0.49852 | train_mse: 1.61013 | train_mae: 0.9143  |  0:00:00s\n",
      "epoch 5  | loss: 0.41435 | train_mse: 1.13965 | train_mae: 0.74871 |  0:00:00s\n"
     ]
    },
    {
     "name": "stdout",
     "output_type": "stream",
     "text": [
      "epoch 6  | loss: 0.47095 | train_mse: 1.20532 | train_mae: 0.81957 |  0:00:00s\n",
      "epoch 7  | loss: 0.46819 | train_mse: 1.58756 | train_mae: 0.98894 |  0:00:00s\n",
      "epoch 8  | loss: 0.41764 | train_mse: 1.5418  | train_mae: 0.95188 |  0:00:01s\n"
     ]
    },
    {
     "name": "stdout",
     "output_type": "stream",
     "text": [
      "epoch 9  | loss: 0.42443 | train_mse: 1.4442  | train_mae: 0.87745 |  0:00:01s\n",
      "epoch 10 | loss: 0.49312 | train_mse: 1.39448 | train_mae: 0.83403 |  0:00:01s\n",
      "epoch 11 | loss: 0.34232 | train_mse: 1.90466 | train_mae: 0.90991 |  0:00:01s\n"
     ]
    },
    {
     "name": "stdout",
     "output_type": "stream",
     "text": [
      "epoch 12 | loss: 0.33202 | train_mse: 1.35903 | train_mae: 0.82218 |  0:00:01s\n",
      "epoch 13 | loss: 0.5088  | train_mse: 0.80432 | train_mae: 0.58299 |  0:00:01s\n",
      "epoch 14 | loss: 0.48993 | train_mse: 0.75997 | train_mae: 0.61761 |  0:00:01s\n"
     ]
    },
    {
     "name": "stdout",
     "output_type": "stream",
     "text": [
      "epoch 15 | loss: 0.48286 | train_mse: 1.04501 | train_mae: 0.76156 |  0:00:01s\n",
      "epoch 16 | loss: 0.43096 | train_mse: 0.99095 | train_mae: 0.73984 |  0:00:01s\n",
      "epoch 17 | loss: 0.53056 | train_mse: 0.8131  | train_mae: 0.64258 |  0:00:01s\n"
     ]
    },
    {
     "name": "stdout",
     "output_type": "stream",
     "text": [
      "epoch 18 | loss: 0.39489 | train_mse: 0.86414 | train_mae: 0.6496  |  0:00:01s\n",
      "epoch 19 | loss: 0.46828 | train_mse: 0.84199 | train_mae: 0.62883 |  0:00:01s\n",
      "epoch 20 | loss: 0.48474 | train_mse: 0.74735 | train_mae: 0.60142 |  0:00:02s\n"
     ]
    },
    {
     "name": "stdout",
     "output_type": "stream",
     "text": [
      "epoch 21 | loss: 0.46228 | train_mse: 0.59551 | train_mae: 0.54244 |  0:00:02s\n",
      "epoch 22 | loss: 0.41041 | train_mse: 0.68642 | train_mae: 0.5735  |  0:00:02s\n",
      "epoch 23 | loss: 0.4091  | train_mse: 0.78805 | train_mae: 0.61802 |  0:00:02s\n"
     ]
    },
    {
     "name": "stdout",
     "output_type": "stream",
     "text": [
      "epoch 24 | loss: 0.44468 | train_mse: 0.52619 | train_mae: 0.51937 |  0:00:02s\n",
      "epoch 25 | loss: 0.37239 | train_mse: 0.42451 | train_mae: 0.46798 |  0:00:02s\n",
      "epoch 26 | loss: 0.46733 | train_mse: 0.41523 | train_mae: 0.47127 |  0:00:02s\n"
     ]
    },
    {
     "name": "stdout",
     "output_type": "stream",
     "text": [
      "epoch 27 | loss: 0.40493 | train_mse: 0.43318 | train_mae: 0.47296 |  0:00:02s\n",
      "epoch 28 | loss: 0.32554 | train_mse: 0.4664  | train_mae: 0.50806 |  0:00:02s\n",
      "epoch 29 | loss: 0.33029 | train_mse: 0.41504 | train_mae: 0.49391 |  0:00:02s\n"
     ]
    },
    {
     "name": "stdout",
     "output_type": "stream",
     "text": [
      "epoch 30 | loss: 0.37434 | train_mse: 0.34189 | train_mae: 0.451   |  0:00:03s\n",
      "epoch 31 | loss: 0.41318 | train_mse: 0.29613 | train_mae: 0.42863 |  0:00:03s\n",
      "epoch 32 | loss: 0.40884 | train_mse: 0.48552 | train_mae: 0.47996 |  0:00:03s\n"
     ]
    },
    {
     "name": "stdout",
     "output_type": "stream",
     "text": [
      "epoch 33 | loss: 0.44105 | train_mse: 0.48089 | train_mae: 0.49326 |  0:00:03s\n",
      "epoch 34 | loss: 0.25639 | train_mse: 0.51871 | train_mae: 0.51646 |  0:00:03s\n",
      "epoch 35 | loss: 0.53276 | train_mse: 0.36297 | train_mae: 0.47152 |  0:00:03s\n"
     ]
    },
    {
     "name": "stdout",
     "output_type": "stream",
     "text": [
      "epoch 36 | loss: 0.25737 | train_mse: 0.28225 | train_mae: 0.42313 |  0:00:03s\n",
      "epoch 37 | loss: 0.21965 | train_mse: 0.29553 | train_mae: 0.42796 |  0:00:03s\n",
      "epoch 38 | loss: 0.50049 | train_mse: 0.2766  | train_mae: 0.41296 |  0:00:03s\n"
     ]
    },
    {
     "name": "stdout",
     "output_type": "stream",
     "text": [
      "epoch 39 | loss: 0.22473 | train_mse: 0.22123 | train_mae: 0.37003 |  0:00:03s\n",
      "epoch 40 | loss: 0.35479 | train_mse: 0.27184 | train_mae: 0.39749 |  0:00:03s\n",
      "epoch 41 | loss: 0.22849 | train_mse: 0.26966 | train_mae: 0.38267 |  0:00:03s\n"
     ]
    },
    {
     "name": "stdout",
     "output_type": "stream",
     "text": [
      "epoch 42 | loss: 0.36992 | train_mse: 0.22916 | train_mae: 0.35461 |  0:00:04s\n",
      "epoch 43 | loss: 0.20391 | train_mse: 0.17202 | train_mae: 0.32632 |  0:00:04s\n",
      "epoch 44 | loss: 0.19054 | train_mse: 0.20602 | train_mae: 0.34613 |  0:00:04s\n"
     ]
    },
    {
     "name": "stdout",
     "output_type": "stream",
     "text": [
      "epoch 45 | loss: 0.35812 | train_mse: 0.22228 | train_mae: 0.35202 |  0:00:04s\n",
      "epoch 46 | loss: 0.19921 | train_mse: 0.27274 | train_mae: 0.37726 |  0:00:04s\n",
      "epoch 47 | loss: 0.23477 | train_mse: 0.25856 | train_mae: 0.37683 |  0:00:04s\n"
     ]
    },
    {
     "name": "stdout",
     "output_type": "stream",
     "text": [
      "epoch 48 | loss: 0.2659  | train_mse: 0.25911 | train_mae: 0.38647 |  0:00:04s\n",
      "epoch 49 | loss: 0.24173 | train_mse: 0.22414 | train_mae: 0.35435 |  0:00:04s\n",
      "epoch 50 | loss: 0.1742  | train_mse: 0.20099 | train_mae: 0.33571 |  0:00:04s\n"
     ]
    },
    {
     "name": "stdout",
     "output_type": "stream",
     "text": [
      "epoch 51 | loss: 0.22794 | train_mse: 0.27132 | train_mae: 0.38727 |  0:00:04s\n",
      "epoch 52 | loss: 0.24599 | train_mse: 0.23472 | train_mae: 0.37192 |  0:00:04s\n",
      "epoch 53 | loss: 0.21485 | train_mse: 0.25491 | train_mae: 0.36898 |  0:00:05s\n"
     ]
    },
    {
     "name": "stdout",
     "output_type": "stream",
     "text": [
      "epoch 54 | loss: 0.25648 | train_mse: 0.22727 | train_mae: 0.34681 |  0:00:05s\n",
      "epoch 55 | loss: 0.16561 | train_mse: 0.15829 | train_mae: 0.31651 |  0:00:05s\n",
      "epoch 56 | loss: 0.48818 | train_mse: 0.35384 | train_mae: 0.37779 |  0:00:05s\n"
     ]
    },
    {
     "name": "stdout",
     "output_type": "stream",
     "text": [
      "epoch 57 | loss: 0.42482 | train_mse: 0.40917 | train_mae: 0.38387 |  0:00:05s\n",
      "epoch 58 | loss: 0.27585 | train_mse: 0.37647 | train_mae: 0.37487 |  0:00:05s\n",
      "epoch 59 | loss: 0.37671 | train_mse: 0.3156  | train_mae: 0.37477 |  0:00:05s\n"
     ]
    },
    {
     "name": "stdout",
     "output_type": "stream",
     "text": [
      "epoch 60 | loss: 0.42585 | train_mse: 0.28064 | train_mae: 0.37025 |  0:00:05s\n",
      "epoch 61 | loss: 0.47284 | train_mse: 0.25601 | train_mae: 0.36237 |  0:00:05s\n",
      "epoch 62 | loss: 0.27948 | train_mse: 0.25443 | train_mae: 0.37558 |  0:00:05s\n"
     ]
    },
    {
     "name": "stdout",
     "output_type": "stream",
     "text": [
      "epoch 63 | loss: 0.33343 | train_mse: 0.24174 | train_mae: 0.37921 |  0:00:05s\n",
      "epoch 64 | loss: 0.34692 | train_mse: 0.22746 | train_mae: 0.37393 |  0:00:05s\n",
      "epoch 65 | loss: 0.20381 | train_mse: 0.22926 | train_mae: 0.38218 |  0:00:06s\n"
     ]
    },
    {
     "name": "stdout",
     "output_type": "stream",
     "text": [
      "epoch 66 | loss: 0.30311 | train_mse: 0.23688 | train_mae: 0.38434 |  0:00:06s\n",
      "epoch 67 | loss: 0.26742 | train_mse: 0.2083  | train_mae: 0.35517 |  0:00:06s\n",
      "epoch 68 | loss: 0.25575 | train_mse: 0.1915  | train_mae: 0.3426  |  0:00:06s\n"
     ]
    },
    {
     "name": "stdout",
     "output_type": "stream",
     "text": [
      "epoch 69 | loss: 0.25378 | train_mse: 0.18849 | train_mae: 0.3497  |  0:00:06s\n",
      "epoch 70 | loss: 0.32461 | train_mse: 0.20892 | train_mae: 0.36582 |  0:00:06s\n",
      "epoch 71 | loss: 0.25218 | train_mse: 0.19045 | train_mae: 0.35285 |  0:00:06s\n"
     ]
    },
    {
     "name": "stdout",
     "output_type": "stream",
     "text": [
      "epoch 72 | loss: 0.31533 | train_mse: 0.17197 | train_mae: 0.33395 |  0:00:06s\n",
      "epoch 73 | loss: 0.25452 | train_mse: 0.20354 | train_mae: 0.36085 |  0:00:06s\n",
      "epoch 74 | loss: 0.19117 | train_mse: 0.17675 | train_mae: 0.34228 |  0:00:06s\n"
     ]
    },
    {
     "name": "stdout",
     "output_type": "stream",
     "text": [
      "epoch 75 | loss: 0.30719 | train_mse: 0.17073 | train_mae: 0.3414  |  0:00:06s\n",
      "epoch 76 | loss: 0.23756 | train_mse: 0.17087 | train_mae: 0.3288  |  0:00:06s\n",
      "epoch 77 | loss: 0.24861 | train_mse: 0.1639  | train_mae: 0.31783 |  0:00:07s\n"
     ]
    },
    {
     "name": "stdout",
     "output_type": "stream",
     "text": [
      "epoch 78 | loss: 0.21867 | train_mse: 0.15521 | train_mae: 0.30784 |  0:00:07s\n",
      "epoch 79 | loss: 0.46753 | train_mse: 0.21521 | train_mae: 0.35155 |  0:00:07s\n",
      "epoch 80 | loss: 0.37303 | train_mse: 0.25873 | train_mae: 0.36874 |  0:00:07s\n"
     ]
    },
    {
     "name": "stdout",
     "output_type": "stream",
     "text": [
      "epoch 81 | loss: 0.32883 | train_mse: 0.23307 | train_mae: 0.36129 |  0:00:07s\n",
      "epoch 82 | loss: 0.30466 | train_mse: 0.19861 | train_mae: 0.34801 |  0:00:07s\n",
      "epoch 83 | loss: 0.22149 | train_mse: 0.22379 | train_mae: 0.36491 |  0:00:07s\n"
     ]
    },
    {
     "name": "stdout",
     "output_type": "stream",
     "text": [
      "epoch 84 | loss: 0.33572 | train_mse: 0.28353 | train_mae: 0.37345 |  0:00:07s\n",
      "epoch 85 | loss: 0.32958 | train_mse: 0.27314 | train_mae: 0.37473 |  0:00:07s\n",
      "epoch 86 | loss: 0.28928 | train_mse: 0.21732 | train_mae: 0.3584  |  0:00:07s\n"
     ]
    },
    {
     "name": "stdout",
     "output_type": "stream",
     "text": [
      "epoch 87 | loss: 0.22814 | train_mse: 0.18275 | train_mae: 0.33601 |  0:00:07s\n",
      "epoch 88 | loss: 0.29656 | train_mse: 0.17362 | train_mae: 0.32881 |  0:00:07s\n",
      "epoch 89 | loss: 0.17429 | train_mse: 0.19759 | train_mae: 0.33842 |  0:00:08s\n"
     ]
    },
    {
     "name": "stdout",
     "output_type": "stream",
     "text": [
      "epoch 90 | loss: 0.17648 | train_mse: 0.27114 | train_mae: 0.36407 |  0:00:08s\n",
      "epoch 91 | loss: 0.42027 | train_mse: 0.4672  | train_mae: 0.44825 |  0:00:08s\n",
      "epoch 92 | loss: 0.29007 | train_mse: 0.32098 | train_mae: 0.41942 |  0:00:08s\n"
     ]
    },
    {
     "name": "stdout",
     "output_type": "stream",
     "text": [
      "epoch 93 | loss: 0.22792 | train_mse: 0.42601 | train_mae: 0.43585 |  0:00:08s\n",
      "epoch 94 | loss: 0.25794 | train_mse: 0.40787 | train_mae: 0.40483 |  0:00:08s\n",
      "epoch 95 | loss: 0.20957 | train_mse: 0.35987 | train_mae: 0.37304 |  0:00:08s\n"
     ]
    },
    {
     "name": "stdout",
     "output_type": "stream",
     "text": [
      "epoch 96 | loss: 0.17496 | train_mse: 0.35215 | train_mae: 0.36214 |  0:00:08s\n",
      "epoch 97 | loss: 0.1722  | train_mse: 0.20125 | train_mae: 0.34708 |  0:00:08s\n",
      "epoch 98 | loss: 0.37469 | train_mse: 0.18595 | train_mae: 0.34696 |  0:00:08s\n"
     ]
    },
    {
     "name": "stdout",
     "output_type": "stream",
     "text": [
      "epoch 99 | loss: 0.20804 | train_mse: 0.17267 | train_mae: 0.32491 |  0:00:08s\n",
      "epoch 100| loss: 0.29775 | train_mse: 0.16309 | train_mae: 0.30866 |  0:00:08s\n",
      "epoch 101| loss: 0.17763 | train_mse: 0.1545  | train_mae: 0.29605 |  0:00:09s\n"
     ]
    },
    {
     "name": "stdout",
     "output_type": "stream",
     "text": [
      "epoch 102| loss: 0.38962 | train_mse: 0.15837 | train_mae: 0.31418 |  0:00:09s\n",
      "epoch 103| loss: 0.23899 | train_mse: 0.15875 | train_mae: 0.31552 |  0:00:09s\n",
      "epoch 104| loss: 0.51724 | train_mse: 0.14648 | train_mae: 0.30501 |  0:00:09s\n"
     ]
    },
    {
     "name": "stdout",
     "output_type": "stream",
     "text": [
      "epoch 105| loss: 0.19323 | train_mse: 0.16265 | train_mae: 0.31839 |  0:00:09s\n",
      "epoch 106| loss: 0.16579 | train_mse: 0.16425 | train_mae: 0.31626 |  0:00:09s\n"
     ]
    },
    {
     "name": "stdout",
     "output_type": "stream",
     "text": [
      "epoch 107| loss: 0.21476 | train_mse: 0.14802 | train_mae: 0.30438 |  0:00:09s\n",
      "epoch 108| loss: 0.32976 | train_mse: 0.15829 | train_mae: 0.30634 |  0:00:09s\n",
      "epoch 109| loss: 0.21916 | train_mse: 0.14302 | train_mae: 0.2965  |  0:00:09s\n"
     ]
    },
    {
     "name": "stdout",
     "output_type": "stream",
     "text": [
      "epoch 110| loss: 0.25523 | train_mse: 0.13219 | train_mae: 0.28762 |  0:00:09s\n",
      "epoch 111| loss: 0.18734 | train_mse: 0.11901 | train_mae: 0.27322 |  0:00:09s\n",
      "epoch 112| loss: 0.36105 | train_mse: 0.11949 | train_mae: 0.26902 |  0:00:10s\n"
     ]
    },
    {
     "name": "stdout",
     "output_type": "stream",
     "text": [
      "epoch 113| loss: 0.14787 | train_mse: 0.11936 | train_mae: 0.27786 |  0:00:10s\n",
      "epoch 114| loss: 0.18035 | train_mse: 0.1379  | train_mae: 0.2979  |  0:00:10s\n",
      "epoch 115| loss: 0.11479 | train_mse: 0.1303  | train_mae: 0.29247 |  0:00:10s\n"
     ]
    },
    {
     "name": "stdout",
     "output_type": "stream",
     "text": [
      "epoch 116| loss: 0.11242 | train_mse: 0.13162 | train_mae: 0.29308 |  0:00:10s\n",
      "epoch 117| loss: 0.33246 | train_mse: 0.12953 | train_mae: 0.28874 |  0:00:10s\n",
      "epoch 118| loss: 0.13899 | train_mse: 0.17489 | train_mae: 0.31334 |  0:00:10s\n"
     ]
    },
    {
     "name": "stdout",
     "output_type": "stream",
     "text": [
      "epoch 119| loss: 0.19067 | train_mse: 0.24983 | train_mae: 0.35129 |  0:00:10s\n",
      "epoch 120| loss: 0.19825 | train_mse: 0.20911 | train_mae: 0.33596 |  0:00:10s\n",
      "epoch 121| loss: 0.33179 | train_mse: 0.16833 | train_mae: 0.31456 |  0:00:10s\n"
     ]
    },
    {
     "name": "stdout",
     "output_type": "stream",
     "text": [
      "epoch 122| loss: 0.15888 | train_mse: 0.16729 | train_mae: 0.30572 |  0:00:10s\n",
      "epoch 123| loss: 0.12028 | train_mse: 0.19406 | train_mae: 0.32078 |  0:00:11s\n",
      "epoch 124| loss: 0.15539 | train_mse: 0.20173 | train_mae: 0.32599 |  0:00:11s\n"
     ]
    },
    {
     "name": "stdout",
     "output_type": "stream",
     "text": [
      "epoch 125| loss: 0.20432 | train_mse: 0.15241 | train_mae: 0.30408 |  0:00:11s\n",
      "epoch 126| loss: 0.18195 | train_mse: 0.13408 | train_mae: 0.29935 |  0:00:11s\n",
      "epoch 127| loss: 0.17105 | train_mse: 0.13412 | train_mae: 0.29838 |  0:00:11s\n"
     ]
    },
    {
     "name": "stdout",
     "output_type": "stream",
     "text": [
      "epoch 128| loss: 0.16192 | train_mse: 0.14303 | train_mae: 0.30282 |  0:00:11s\n",
      "epoch 129| loss: 0.16809 | train_mse: 0.18684 | train_mae: 0.32025 |  0:00:11s\n",
      "epoch 130| loss: 0.17397 | train_mse: 0.20825 | train_mae: 0.33078 |  0:00:11s\n"
     ]
    },
    {
     "name": "stdout",
     "output_type": "stream",
     "text": [
      "epoch 131| loss: 0.24652 | train_mse: 0.24377 | train_mae: 0.35784 |  0:00:11s\n",
      "epoch 132| loss: 0.19105 | train_mse: 0.20414 | train_mae: 0.33972 |  0:00:11s\n",
      "epoch 133| loss: 0.23696 | train_mse: 0.11206 | train_mae: 0.27667 |  0:00:11s\n"
     ]
    },
    {
     "name": "stdout",
     "output_type": "stream",
     "text": [
      "epoch 134| loss: 0.14142 | train_mse: 0.10128 | train_mae: 0.25691 |  0:00:12s\n",
      "epoch 135| loss: 0.18989 | train_mse: 0.1078  | train_mae: 0.27261 |  0:00:12s\n",
      "epoch 136| loss: 0.20966 | train_mse: 0.11574 | train_mae: 0.28424 |  0:00:12s\n"
     ]
    },
    {
     "name": "stdout",
     "output_type": "stream",
     "text": [
      "epoch 137| loss: 0.16141 | train_mse: 0.11707 | train_mae: 0.27632 |  0:00:12s\n",
      "epoch 138| loss: 0.14653 | train_mse: 0.12184 | train_mae: 0.28538 |  0:00:12s\n",
      "epoch 139| loss: 0.13378 | train_mse: 0.1071  | train_mae: 0.26755 |  0:00:12s"
     ]
    },
    {
     "name": "stdout",
     "output_type": "stream",
     "text": [
      "\n",
      "epoch 140| loss: 0.15638 | train_mse: 0.12436 | train_mae: 0.28158 |  0:00:12s\n",
      "epoch 141| loss: 0.30046 | train_mse: 0.16031 | train_mae: 0.31904 |  0:00:12s\n"
     ]
    },
    {
     "name": "stdout",
     "output_type": "stream",
     "text": [
      "epoch 142| loss: 0.17288 | train_mse: 0.19478 | train_mae: 0.34171 |  0:00:12s\n",
      "epoch 143| loss: 0.18572 | train_mse: 0.1977  | train_mae: 0.33379 |  0:00:12s\n",
      "epoch 144| loss: 0.14652 | train_mse: 0.24881 | train_mae: 0.35933 |  0:00:12s\n"
     ]
    },
    {
     "name": "stdout",
     "output_type": "stream",
     "text": [
      "epoch 145| loss: 0.1964  | train_mse: 0.26269 | train_mae: 0.36065 |  0:00:12s\n",
      "epoch 146| loss: 0.11824 | train_mse: 0.28924 | train_mae: 0.361   |  0:00:13s\n",
      "epoch 147| loss: 0.13555 | train_mse: 0.31223 | train_mae: 0.3642  |  0:00:13s\n"
     ]
    },
    {
     "name": "stdout",
     "output_type": "stream",
     "text": [
      "epoch 148| loss: 0.11186 | train_mse: 0.29925 | train_mae: 0.36391 |  0:00:13s\n",
      "epoch 149| loss: 0.14603 | train_mse: 0.28413 | train_mae: 0.36083 |  0:00:13s\n",
      "epoch 150| loss: 0.16659 | train_mse: 0.26133 | train_mae: 0.3517  |  0:00:13s\n"
     ]
    },
    {
     "name": "stdout",
     "output_type": "stream",
     "text": [
      "epoch 151| loss: 0.25215 | train_mse: 0.20969 | train_mae: 0.32849 |  0:00:13s\n",
      "epoch 152| loss: 0.23436 | train_mse: 0.14979 | train_mae: 0.29602 |  0:00:13s\n",
      "epoch 153| loss: 0.22887 | train_mse: 0.12586 | train_mae: 0.27185 |  0:00:13s\n"
     ]
    },
    {
     "name": "stdout",
     "output_type": "stream",
     "text": [
      "epoch 154| loss: 0.12993 | train_mse: 0.13473 | train_mae: 0.27601 |  0:00:13s\n",
      "epoch 155| loss: 0.24069 | train_mse: 0.14696 | train_mae: 0.28634 |  0:00:13s\n",
      "epoch 156| loss: 0.11225 | train_mse: 0.15565 | train_mae: 0.29796 |  0:00:13s\n"
     ]
    },
    {
     "name": "stdout",
     "output_type": "stream",
     "text": [
      "epoch 157| loss: 0.1821  | train_mse: 0.15714 | train_mae: 0.29811 |  0:00:14s\n",
      "epoch 158| loss: 0.10578 | train_mse: 0.16432 | train_mae: 0.29374 |  0:00:14s\n",
      "epoch 159| loss: 0.19806 | train_mse: 0.18195 | train_mae: 0.29818 |  0:00:14s\n"
     ]
    },
    {
     "name": "stdout",
     "output_type": "stream",
     "text": [
      "epoch 160| loss: 0.18032 | train_mse: 0.22537 | train_mae: 0.3181  |  0:00:14s\n",
      "epoch 161| loss: 0.18297 | train_mse: 0.24627 | train_mae: 0.31398 |  0:00:14s\n",
      "epoch 162| loss: 0.13322 | train_mse: 0.17746 | train_mae: 0.2872  |  0:00:14s\n"
     ]
    },
    {
     "name": "stdout",
     "output_type": "stream",
     "text": [
      "epoch 163| loss: 0.12734 | train_mse: 0.12914 | train_mae: 0.26545 |  0:00:14s\n",
      "epoch 164| loss: 0.19231 | train_mse: 0.09472 | train_mae: 0.23186 |  0:00:14s\n",
      "epoch 165| loss: 0.35597 | train_mse: 0.10168 | train_mae: 0.24252 |  0:00:14s\n"
     ]
    },
    {
     "name": "stdout",
     "output_type": "stream",
     "text": [
      "epoch 166| loss: 0.21984 | train_mse: 0.11284 | train_mae: 0.25158 |  0:00:14s\n",
      "epoch 167| loss: 0.20539 | train_mse: 0.12316 | train_mae: 0.26504 |  0:00:14s\n",
      "epoch 168| loss: 0.14311 | train_mse: 0.12941 | train_mae: 0.27578 |  0:00:14s\n"
     ]
    },
    {
     "name": "stdout",
     "output_type": "stream",
     "text": [
      "epoch 169| loss: 0.12504 | train_mse: 0.11829 | train_mae: 0.26928 |  0:00:15s\n",
      "epoch 170| loss: 0.11787 | train_mse: 0.09454 | train_mae: 0.24176 |  0:00:15s\n",
      "epoch 171| loss: 0.34328 | train_mse: 0.07868 | train_mae: 0.21897 |  0:00:15s\n"
     ]
    },
    {
     "name": "stdout",
     "output_type": "stream",
     "text": [
      "epoch 172| loss: 0.34358 | train_mse: 0.07543 | train_mae: 0.21929 |  0:00:15s\n",
      "epoch 173| loss: 0.1958  | train_mse: 0.09645 | train_mae: 0.25012 |  0:00:15s\n",
      "epoch 174| loss: 0.15433 | train_mse: 0.11074 | train_mae: 0.26131 |  0:00:15s\n"
     ]
    },
    {
     "name": "stdout",
     "output_type": "stream",
     "text": [
      "epoch 175| loss: 0.20429 | train_mse: 0.11368 | train_mae: 0.26022 |  0:00:15s\n",
      "epoch 176| loss: 0.11131 | train_mse: 0.12767 | train_mae: 0.25976 |  0:00:15s\n",
      "epoch 177| loss: 0.135   | train_mse: 0.13946 | train_mae: 0.26228 |  0:00:15s\n"
     ]
    },
    {
     "name": "stdout",
     "output_type": "stream",
     "text": [
      "epoch 178| loss: 0.12095 | train_mse: 0.14173 | train_mae: 0.26959 |  0:00:15s\n",
      "epoch 179| loss: 0.09949 | train_mse: 0.13475 | train_mae: 0.26955 |  0:00:15s\n",
      "epoch 180| loss: 0.23096 | train_mse: 0.13933 | train_mae: 0.27656 |  0:00:15s\n"
     ]
    },
    {
     "name": "stdout",
     "output_type": "stream",
     "text": [
      "epoch 181| loss: 0.10987 | train_mse: 0.13877 | train_mae: 0.27445 |  0:00:16s\n",
      "epoch 182| loss: 0.08771 | train_mse: 0.12381 | train_mae: 0.26699 |  0:00:16s\n",
      "epoch 183| loss: 0.19566 | train_mse: 0.11294 | train_mae: 0.25223 |  0:00:16s\n"
     ]
    },
    {
     "name": "stdout",
     "output_type": "stream",
     "text": [
      "epoch 184| loss: 0.10718 | train_mse: 0.1083  | train_mae: 0.25412 |  0:00:16s\n",
      "epoch 185| loss: 0.07845 | train_mse: 0.11451 | train_mae: 0.25976 |  0:00:16s\n",
      "epoch 186| loss: 0.17892 | train_mse: 0.12043 | train_mae: 0.26215 |  0:00:16s\n"
     ]
    },
    {
     "name": "stdout",
     "output_type": "stream",
     "text": [
      "epoch 187| loss: 0.15635 | train_mse: 0.15438 | train_mae: 0.28633 |  0:00:16s\n",
      "epoch 188| loss: 0.14065 | train_mse: 0.15718 | train_mae: 0.28516 |  0:00:16s\n",
      "epoch 189| loss: 0.15066 | train_mse: 0.13536 | train_mae: 0.27836 |  0:00:16s\n"
     ]
    },
    {
     "name": "stdout",
     "output_type": "stream",
     "text": [
      "epoch 190| loss: 0.28715 | train_mse: 0.1058  | train_mae: 0.25607 |  0:00:16s\n",
      "epoch 191| loss: 0.10656 | train_mse: 0.08207 | train_mae: 0.22637 |  0:00:16s\n",
      "epoch 192| loss: 0.15155 | train_mse: 0.07531 | train_mae: 0.22185 |  0:00:16s\n"
     ]
    },
    {
     "name": "stdout",
     "output_type": "stream",
     "text": [
      "epoch 193| loss: 0.36759 | train_mse: 0.07805 | train_mae: 0.22673 |  0:00:17s\n",
      "epoch 194| loss: 0.15348 | train_mse: 0.08844 | train_mae: 0.23701 |  0:00:17s\n",
      "epoch 195| loss: 0.14405 | train_mse: 0.08681 | train_mae: 0.23653 |  0:00:17s\n"
     ]
    },
    {
     "name": "stdout",
     "output_type": "stream",
     "text": [
      "epoch 196| loss: 0.14556 | train_mse: 0.10674 | train_mae: 0.2557  |  0:00:17s\n",
      "epoch 197| loss: 0.13277 | train_mse: 0.13188 | train_mae: 0.2684  |  0:00:17s\n",
      "epoch 198| loss: 0.10709 | train_mse: 0.15659 | train_mae: 0.27365 |  0:00:17s\n"
     ]
    },
    {
     "name": "stdout",
     "output_type": "stream",
     "text": [
      "epoch 199| loss: 0.16996 | train_mse: 0.16832 | train_mae: 0.27944 |  0:00:17s\n",
      "epoch 200| loss: 0.10703 | train_mse: 0.13753 | train_mae: 0.25702 |  0:00:17s\n",
      "epoch 201| loss: 0.12377 | train_mse: 0.11588 | train_mae: 0.24376 |  0:00:17s\n"
     ]
    },
    {
     "name": "stdout",
     "output_type": "stream",
     "text": [
      "epoch 202| loss: 0.16267 | train_mse: 0.10051 | train_mae: 0.23703 |  0:00:17s\n",
      "epoch 203| loss: 0.11686 | train_mse: 0.07464 | train_mae: 0.20734 |  0:00:17s\n",
      "epoch 204| loss: 0.27783 | train_mse: 0.06294 | train_mae: 0.19432 |  0:00:17s\n"
     ]
    },
    {
     "name": "stdout",
     "output_type": "stream",
     "text": [
      "epoch 205| loss: 0.08348 | train_mse: 0.06377 | train_mae: 0.19639 |  0:00:18s\n",
      "epoch 206| loss: 0.10251 | train_mse: 0.06558 | train_mae: 0.20207 |  0:00:18s\n",
      "epoch 207| loss: 0.14624 | train_mse: 0.07331 | train_mae: 0.21219 |  0:00:18s\n"
     ]
    },
    {
     "name": "stdout",
     "output_type": "stream",
     "text": [
      "epoch 208| loss: 0.10929 | train_mse: 0.07471 | train_mae: 0.213   |  0:00:18s\n",
      "epoch 209| loss: 0.14074 | train_mse: 0.08396 | train_mae: 0.22659 |  0:00:18s\n"
     ]
    },
    {
     "name": "stdout",
     "output_type": "stream",
     "text": [
      "epoch 210| loss: 0.26353 | train_mse: 0.09633 | train_mae: 0.24896 |  0:00:18s\n",
      "epoch 211| loss: 0.25462 | train_mse: 0.14077 | train_mae: 0.28614 |  0:00:18s\n",
      "epoch 212| loss: 0.13803 | train_mse: 0.14295 | train_mae: 0.28204 |  0:00:18s\n"
     ]
    },
    {
     "name": "stdout",
     "output_type": "stream",
     "text": [
      "epoch 213| loss: 0.11578 | train_mse: 0.17563 | train_mae: 0.29005 |  0:00:18s\n",
      "epoch 214| loss: 0.18412 | train_mse: 0.18591 | train_mae: 0.29517 |  0:00:18s\n",
      "epoch 215| loss: 0.13512 | train_mse: 0.21228 | train_mae: 0.29824 |  0:00:18s\n"
     ]
    },
    {
     "name": "stdout",
     "output_type": "stream",
     "text": [
      "epoch 216| loss: 0.11696 | train_mse: 0.22623 | train_mae: 0.29912 |  0:00:19s\n",
      "epoch 217| loss: 0.16276 | train_mse: 0.24699 | train_mae: 0.30927 |  0:00:19s\n",
      "epoch 218| loss: 0.11541 | train_mse: 0.21812 | train_mae: 0.29481 |  0:00:19s\n"
     ]
    },
    {
     "name": "stdout",
     "output_type": "stream",
     "text": [
      "epoch 219| loss: 0.09122 | train_mse: 0.24362 | train_mae: 0.31874 |  0:00:19s\n",
      "epoch 220| loss: 0.18938 | train_mse: 0.27889 | train_mae: 0.33727 |  0:00:19s\n",
      "epoch 221| loss: 0.23581 | train_mse: 0.32794 | train_mae: 0.3475  |  0:00:19s\n"
     ]
    },
    {
     "name": "stdout",
     "output_type": "stream",
     "text": [
      "epoch 222| loss: 0.12926 | train_mse: 0.39799 | train_mae: 0.38125 |  0:00:19s\n",
      "epoch 223| loss: 0.14646 | train_mse: 0.47621 | train_mae: 0.40829 |  0:00:19s\n",
      "epoch 224| loss: 0.11776 | train_mse: 0.4407  | train_mae: 0.38814 |  0:00:19s\n"
     ]
    },
    {
     "name": "stdout",
     "output_type": "stream",
     "text": [
      "epoch 225| loss: 0.07322 | train_mse: 0.37452 | train_mae: 0.36674 |  0:00:19s\n",
      "epoch 226| loss: 0.10261 | train_mse: 0.28725 | train_mae: 0.34273 |  0:00:19s\n",
      "epoch 227| loss: 0.09994 | train_mse: 0.18294 | train_mae: 0.2922  |  0:00:19s\n"
     ]
    },
    {
     "name": "stdout",
     "output_type": "stream",
     "text": [
      "epoch 228| loss: 0.2274  | train_mse: 0.16652 | train_mae: 0.27823 |  0:00:20s\n",
      "epoch 229| loss: 0.18336 | train_mse: 0.14104 | train_mae: 0.26961 |  0:00:20s\n",
      "epoch 230| loss: 0.11314 | train_mse: 0.16683 | train_mae: 0.29563 |  0:00:20s\n"
     ]
    },
    {
     "name": "stdout",
     "output_type": "stream",
     "text": [
      "epoch 231| loss: 0.08778 | train_mse: 0.15873 | train_mae: 0.29317 |  0:00:20s\n",
      "epoch 232| loss: 0.08523 | train_mse: 0.1491  | train_mae: 0.2875  |  0:00:20s\n",
      "epoch 233| loss: 0.11308 | train_mse: 0.12519 | train_mae: 0.2619  |  0:00:20s\n"
     ]
    },
    {
     "name": "stdout",
     "output_type": "stream",
     "text": [
      "epoch 234| loss: 0.21524 | train_mse: 0.12925 | train_mae: 0.25858 |  0:00:20s\n",
      "epoch 235| loss: 0.15075 | train_mse: 0.1811  | train_mae: 0.28277 |  0:00:20s\n",
      "epoch 236| loss: 0.16034 | train_mse: 0.22767 | train_mae: 0.30075 |  0:00:20s\n"
     ]
    },
    {
     "name": "stdout",
     "output_type": "stream",
     "text": [
      "epoch 237| loss: 0.10802 | train_mse: 0.2583  | train_mae: 0.31326 |  0:00:20s\n",
      "epoch 238| loss: 0.11592 | train_mse: 0.25726 | train_mae: 0.32175 |  0:00:20s\n",
      "epoch 239| loss: 0.10243 | train_mse: 0.20962 | train_mae: 0.30451 |  0:00:21s\n"
     ]
    },
    {
     "name": "stdout",
     "output_type": "stream",
     "text": [
      "epoch 240| loss: 0.18152 | train_mse: 0.18739 | train_mae: 0.29999 |  0:00:21s\n",
      "epoch 241| loss: 0.1617  | train_mse: 0.17088 | train_mae: 0.31012 |  0:00:21s\n",
      "epoch 242| loss: 0.15055 | train_mse: 0.14695 | train_mae: 0.29568 |  0:00:21s\n"
     ]
    },
    {
     "name": "stdout",
     "output_type": "stream",
     "text": [
      "epoch 243| loss: 0.17758 | train_mse: 0.13725 | train_mae: 0.2825  |  0:00:21s\n",
      "epoch 244| loss: 0.29415 | train_mse: 0.12631 | train_mae: 0.27951 |  0:00:21s\n",
      "epoch 245| loss: 0.21344 | train_mse: 0.09494 | train_mae: 0.24908 |  0:00:21s\n"
     ]
    },
    {
     "name": "stdout",
     "output_type": "stream",
     "text": [
      "epoch 246| loss: 0.13607 | train_mse: 0.07802 | train_mae: 0.22561 |  0:00:21s\n",
      "epoch 247| loss: 0.10833 | train_mse: 0.07943 | train_mae: 0.22713 |  0:00:21s\n",
      "epoch 248| loss: 0.13586 | train_mse: 0.09273 | train_mae: 0.2428  |  0:00:21s\n"
     ]
    },
    {
     "name": "stdout",
     "output_type": "stream",
     "text": [
      "epoch 249| loss: 0.07906 | train_mse: 0.09078 | train_mae: 0.24231 |  0:00:21s\n",
      "epoch 250| loss: 0.18484 | train_mse: 0.0869  | train_mae: 0.23669 |  0:00:21s\n",
      "epoch 251| loss: 0.14298 | train_mse: 0.07833 | train_mae: 0.22826 |  0:00:22s\n"
     ]
    },
    {
     "name": "stdout",
     "output_type": "stream",
     "text": [
      "epoch 252| loss: 0.13599 | train_mse: 0.08116 | train_mae: 0.23184 |  0:00:22s\n",
      "epoch 253| loss: 0.13704 | train_mse: 0.07033 | train_mae: 0.21381 |  0:00:22s\n",
      "epoch 254| loss: 0.15372 | train_mse: 0.07811 | train_mae: 0.22848 |  0:00:22s\n",
      "\n",
      "Early stopping occurred at epoch 254 with best_epoch = 204 and best_train_mae = 0.19432\n",
      "Best weights from best epoch are automatically used!\n"
     ]
    }
   ],
   "source": [
    "#Train the Model\n",
    "\n",
    "Y_train = np.reshape(Y_train, (-1, 1))\n",
    "Y_test = np.reshape(Y_test, (-1, 1))\n",
    "\n",
    "prior_model = TabNetRegressor(optimizer_fn=torch.optim.Adam, optimizer_params=dict(lr = 0.02),\n",
    "          #scheduler_params={\"step_size\":10, ], \"gamma\":0.9},\n",
    "          #scheduler_fn=torch.optim.lr_scheduler.StepLR\n",
    "          )  #TabNetRegressor()\n",
    "\n",
    "prior_model.fit(X_train,Y_train,eval_set=[(X_train, Y_train)],\n",
    "            eval_name=['train'], \n",
    "            eval_metric=[ 'mse', 'mae'], \n",
    "            max_epochs = n_epochs, \n",
    "            batch_size = batch_size,\n",
    "            patience=50\n",
    "            )"
   ]
  },
  {
   "cell_type": "code",
   "execution_count": 10,
   "id": "af65dcda",
   "metadata": {
    "execution": {
     "iopub.execute_input": "2022-06-22T13:34:23.457758Z",
     "iopub.status.busy": "2022-06-22T13:34:23.456612Z",
     "iopub.status.idle": "2022-06-22T13:34:23.478875Z",
     "shell.execute_reply": "2022-06-22T13:34:23.488775Z"
    },
    "id": "af65dcda",
    "papermill": {
     "duration": 0.09797,
     "end_time": "2022-06-22T13:34:23.489087",
     "exception": false,
     "start_time": "2022-06-22T13:34:23.391117",
     "status": "completed"
    },
    "tags": []
   },
   "outputs": [
    {
     "data": {
      "application/scrapbook.scrap.json+json": {
       "data": 0.6462515521746365,
       "encoder": "json",
       "name": "Prior Model MSE",
       "version": 1
      }
     },
     "metadata": {
      "scrapbook": {
       "data": true,
       "display": false,
       "name": "Prior Model MSE"
      }
     },
     "output_type": "display_data"
    },
    {
     "data": {
      "application/scrapbook.scrap.json+json": {
       "data": 2.1354114766079753,
       "encoder": "json",
       "name": "ABC Pre-generator MSE",
       "version": 1
      }
     },
     "metadata": {
      "scrapbook": {
       "data": true,
       "display": false,
       "name": "ABC Pre-generator MSE"
      }
     },
     "output_type": "display_data"
    },
    {
     "data": {
      "application/scrapbook.scrap.json+json": {
       "data": 0.5341204239788138,
       "encoder": "json",
       "name": "Prior Model MSE",
       "version": 1
      }
     },
     "metadata": {
      "scrapbook": {
       "data": true,
       "display": false,
       "name": "Prior Model MSE"
      }
     },
     "output_type": "display_data"
    },
    {
     "data": {
      "application/scrapbook.scrap.json+json": {
       "data": 1.244287786855547,
       "encoder": "json",
       "name": "ABC Pre-generator MSE",
       "version": 1
      }
     },
     "metadata": {
      "scrapbook": {
       "data": true,
       "display": false,
       "name": "ABC Pre-generator MSE"
      }
     },
     "output_type": "display_data"
    }
   ],
   "source": [
    "y_pred = prior_model.predict(X_test)\n",
    "y_abc = y_pred + np.random.normal(0,variance, y_pred.shape) + bias \n",
    "mse = mean_squared_error(y_pred,Y_test)\n",
    "sb.glue(\"Prior Model MSE\",mse)\n",
    "mse = mean_squared_error(y_abc,Y_test)\n",
    "sb.glue(\"ABC Pre-generator MSE\",mse)\n",
    "mae = mean_absolute_error(y_pred,Y_test)\n",
    "sb.glue(\"Prior Model MSE\",mae)\n",
    "mae = mean_absolute_error(y_abc,Y_test)\n",
    "sb.glue(\"ABC Pre-generator MSE\",mae)"
   ]
  },
  {
   "cell_type": "markdown",
   "id": "25609da2",
   "metadata": {
    "papermill": {
     "duration": 0.065552,
     "end_time": "2022-06-22T13:34:23.618497",
     "exception": false,
     "start_time": "2022-06-22T13:34:23.552945",
     "status": "completed"
    },
    "tags": []
   },
   "source": [
    "# ABC GAN Model"
   ]
  },
  {
   "cell_type": "code",
   "execution_count": 11,
   "id": "dfc3464d",
   "metadata": {
    "execution": {
     "iopub.execute_input": "2022-06-22T13:34:23.726046Z",
     "iopub.status.busy": "2022-06-22T13:34:23.725159Z",
     "iopub.status.idle": "2022-06-22T13:34:23.734443Z",
     "shell.execute_reply": "2022-06-22T13:34:23.735822Z"
    },
    "papermill": {
     "duration": 0.066437,
     "end_time": "2022-06-22T13:34:23.736141",
     "exception": false,
     "start_time": "2022-06-22T13:34:23.669704",
     "status": "completed"
    },
    "tags": []
   },
   "outputs": [],
   "source": [
    "gen = network.Generator(n_features+1).to(device)\n",
    "disc = network.Discriminator(n_features+1).to(device)\n",
    "\n",
    "criterion = torch.nn.BCELoss()\n",
    "gen_opt = torch.optim.Adam(gen.parameters(), lr=0.001, betas=(0.5, 0.999))\n",
    "disc_opt = torch.optim.Adam(disc.parameters(), lr=0.001, betas=(0.5, 0.999))"
   ]
  },
  {
   "cell_type": "code",
   "execution_count": 12,
   "id": "b75fdd85",
   "metadata": {
    "execution": {
     "iopub.execute_input": "2022-06-22T13:34:23.839600Z",
     "iopub.status.busy": "2022-06-22T13:34:23.838707Z",
     "iopub.status.idle": "2022-06-22T13:35:14.245327Z",
     "shell.execute_reply": "2022-06-22T13:35:14.246162Z"
    },
    "papermill": {
     "duration": 50.46309,
     "end_time": "2022-06-22T13:35:14.248234",
     "exception": false,
     "start_time": "2022-06-22T13:34:23.785144",
     "status": "completed"
    },
    "tags": []
   },
   "outputs": [
    {
     "data": {
      "image/png": "[encoded data removed]",
      "text/plain": [
       "<Figure size 432x288 with 1 Axes>"
      ]
     },
     "metadata": {
      "needs_background": "light"
     },
     "output_type": "display_data"
    },
    {
     "data": {
      "image/png": "[encoded data removed]",
      "text/plain": [
       "<Figure size 432x288 with 1 Axes>"
      ]
     },
     "metadata": {
      "needs_background": "light"
     },
     "output_type": "display_data"
    }
   ],
   "source": [
    "#Training the ABC_GAN \n",
    "ABC_train_test2.training_GAN(disc,gen,disc_opt,gen_opt,train_data,batch_size,n_epochs,criterion,prior_model,variance,bias,device)"
   ]
  },
  {
   "cell_type": "code",
   "execution_count": 13,
   "id": "1fa7c368",
   "metadata": {
    "execution": {
     "iopub.execute_input": "2022-06-22T13:35:14.358647Z",
     "iopub.status.busy": "2022-06-22T13:35:14.357916Z",
     "iopub.status.idle": "2022-06-22T13:35:15.141662Z",
     "shell.execute_reply": "2022-06-22T13:35:15.142425Z"
    },
    "papermill": {
     "duration": 0.845236,
     "end_time": "2022-06-22T13:35:15.142646",
     "exception": false,
     "start_time": "2022-06-22T13:35:14.297410",
     "status": "completed"
    },
    "tags": []
   },
   "outputs": [
    {
     "data": {
      "application/scrapbook.scrap.json+json": {
       "data": 0.5324045136490613,
       "encoder": "json",
       "name": "ABC-GAN Model 1 MSE",
       "version": 1
      }
     },
     "metadata": {
      "scrapbook": {
       "data": true,
       "display": false,
       "name": "ABC-GAN Model 1 MSE"
      }
     },
     "output_type": "display_data"
    },
    {
     "data": {
      "application/scrapbook.scrap.json+json": {
       "data": 0.5214676879197359,
       "encoder": "json",
       "name": "ABC-GAN Model 1 MAE",
       "version": 1
      }
     },
     "metadata": {
      "scrapbook": {
       "data": true,
       "display": false,
       "name": "ABC-GAN Model 1 MAE"
      }
     },
     "output_type": "display_data"
    },
    {
     "data": {
      "application/scrapbook.scrap.json+json": {
       "data": 10.429353758394718,
       "encoder": "json",
       "name": "ABC-GAN Model 1 Manhattan Distance",
       "version": 1
      }
     },
     "metadata": {
      "scrapbook": {
       "data": true,
       "display": false,
       "name": "ABC-GAN Model 1 Manhattan Distance"
      }
     },
     "output_type": "display_data"
    },
    {
     "data": {
      "application/scrapbook.scrap.json+json": {
       "data": 3.2627337017851232,
       "encoder": "json",
       "name": "ABC-GAN Model 1 Euclidean distance",
       "version": 1
      }
     },
     "metadata": {
      "scrapbook": {
       "data": true,
       "display": false,
       "name": "ABC-GAN Model 1 Euclidean distance"
      }
     },
     "output_type": "display_data"
    },
    {
     "data": {
      "application/scrapbook.scrap.json+json": {
       "data": [
        [
         0.5415622474874368,
         0.53680603679832,
         0.5397670256129321,
         0.5187944437909039,
         0.5251988593096046,
         0.538862167237016,
         0.5328541732323628,
         0.5494942951392303,
         0.5169957940305063,
         0.5290191864114269,
         0.512873874155883,
         0.4957906079805931,
         0.5144421353202471,
         0.5313580774905515,
         0.49446757252310025,
         0.5305358433783132,
         0.4923697393177167,
         0.5449635178007094,
         0.527680029258365,
         0.5286050672084479,
         0.5619406211943776,
         0.5342432336215726,
         0.5182831976906551,
         0.52427003892681,
         0.5373720107954364,
         0.5450099938373111,
         0.5335536932305831,
         0.5276449564691783,
         0.5429427804047221,
         0.5222582291131987,
         0.5306099519366578,
         0.5014348737769421,
         0.5411551364112259,
         0.5012434059813466,
         0.5406772588210563,
         0.5144927020752433,
         0.5472195280639284,
         0.5587496114227615,
         0.5470428928083522,
         0.5174175078584463,
         0.5213659812071665,
         0.5470108330812742,
         0.526144405917716,
         0.5452077456478038,
         0.5299686511086,
         0.5486912436203836,
         0.56468954649878,
         0.5320440793380768,
         0.537446579664277,
         0.5552568435181814,
         0.5742212795365853,
         0.5328197735659665,
         0.5093218707053602,
         0.5549465296044579,
         0.5168575797518008,
         0.5026342672942008,
         0.5295285348766708,
         0.5649328546069508,
         0.5107408744882653,
         0.55631986688174,
         0.5429786932043295,
         0.5396053606061704,
         0.5523610465485461,
         0.5211864949095784,
         0.54419003252622,
         0.5486348189079179,
         0.5551954436625776,
         0.5517446513866238,
         0.5312394502429788,
         0.5362707038038849,
         0.5241025607036874,
         0.5376372872500939,
         0.5205545092680453,
         0.5273515559146242,
         0.5398930820519219,
         0.5349855720435113,
         0.5171074900487647,
         0.5226785116617181,
         0.5216034747074202,
         0.5518959838992484,
         0.5265992987811547,
         0.5377145335137288,
         0.5259606088676329,
         0.5276794645340979,
         0.5366406882087796,
         0.5059264757098155,
         0.5341672419979812,
         0.5356230152189883,
         0.4985088200825453,
         0.5172525525144371,
         0.5076299320845576,
         0.5505224699985518,
         0.5430879924803242,
         0.5510154888271748,
         0.538360228771797,
         0.5321012907465574,
         0.5615821943313405,
         0.5097944983552587,
         0.5373368429622202,
         0.5315793447335917
        ],
        [
         0.5396882452070713,
         0.5377870205789804,
         0.5323238886892796,
         0.5173155091702938,
         0.5093184176832437,
         0.5271918080747128,
         0.5162250867113471,
         0.5228124249726533,
         0.5123799964785576,
         0.5062427781522274,
         0.516119072213769,
         0.5039901949465275,
         0.5095873035490512,
         0.5081904839724303,
         0.5112216085195541,
         0.5230990685522556,
         0.5029773630201817,
         0.528103269264102,
         0.5090948432683945,
         0.526972285285592,
         0.5442246958613396,
         0.5227456361055374,
         0.5173887632787227,
         0.5215316660702228,
         0.5158358372747898,
         0.5227723687887191,
         0.5230701126158237,
         0.5306931518018245,
         0.5230851601809263,
         0.5112301848828793,
         0.5311666186898947,
         0.512878055870533,
         0.5231433019042016,
         0.5037924213334918,
         0.5166678112000227,
         0.5014285914599895,
         0.5377490140497685,
         0.5319364391267299,
         0.5325617395341397,
         0.5040597885847091,
         0.519416543841362,
         0.5305297024548054,
         0.5300843492150307,
         0.5196958497166634,
         0.5278897687792778,
         0.5295877791941166,
         0.5317838896065951,
         0.5100413858890533,
         0.5272935025393963,
         0.5368876926600933,
         0.5464026991277933,
         0.5227860398590565,
         0.5233050145208835,
         0.5347162559628487,
         0.5036143407225608,
         0.50845415443182,
         0.5199273698031902,
         0.5377487815916538,
         0.5065578263252973,
         0.52685437053442,
         0.5341696240007877,
         0.5127121672034264,
         0.5315315067768097,
         0.5151639964431525,
         0.5375348880887032,
         0.5325197800993919,
         0.5420279778540135,
         0.5251164507120848,
         0.5176184367388487,
         0.5155003301799297,
         0.520308269560337,
         0.5267622452229261,
         0.5293143093585968,
         0.510531210899353,
         0.5310182821005582,
         0.5244328070431947,
         0.5146087184548378,
         0.5198366556316614,
         0.5157997369766235,
         0.5357084773480892,
         0.5059412226080895,
         0.5282556567341089,
         0.5062830548733472,
         0.5101620953530073,
         0.5367738865315914,
         0.5014334313571454,
         0.525703614205122,
         0.5198033850640058,
         0.5035767681896687,
         0.5223557591438294,
         0.5039257854223251,
         0.5294025961309672,
         0.5211184296756983,
         0.5282040178775788,
         0.5211507242172957,
         0.5179754700511694,
         0.5435331795364619,
         0.5049511801451445,
         0.5323941439390183,
         0.5094291765242815
        ],
        [
         10.793764904141426,
         10.755740411579609,
         10.646477773785591,
         10.346310183405876,
         10.186368353664875,
         10.543836161494255,
         10.324501734226942,
         10.456248499453068,
         10.247599929571152,
         10.124855563044548,
         10.32238144427538,
         10.07980389893055,
         10.191746070981026,
         10.163809679448605,
         10.224432170391083,
         10.461981371045113,
         10.059547260403633,
         10.56206538528204,
         10.18189686536789,
         10.539445705711842,
         10.884493917226791,
         10.454912722110748,
         10.347775265574455,
         10.430633321404457,
         10.316716745495796,
         10.455447375774384,
         10.461402252316475,
         10.613863036036491,
         10.461703203618526,
         10.224603697657585,
         10.623332373797894,
         10.25756111741066,
         10.46286603808403,
         10.075848426669836,
         10.333356224000454,
         10.028571829199791,
         10.754980280995369,
         10.6387287825346,
         10.651234790682793,
         10.081195771694183,
         10.38833087682724,
         10.610594049096107,
         10.601686984300613,
         10.393916994333267,
         10.557795375585556,
         10.591755583882332,
         10.6356777921319,
         10.200827717781067,
         10.545870050787926,
         10.737753853201866,
         10.928053982555866,
         10.45572079718113,
         10.466100290417671,
         10.694325119256973,
         10.072286814451218,
         10.169083088636398,
         10.398547396063805,
         10.754975631833076,
         10.131156526505947,
         10.5370874106884,
         10.683392480015755,
         10.254243344068527,
         10.630630135536194,
         10.303279928863049,
         10.750697761774063,
         10.650395601987839,
         10.840559557080269,
         10.502329014241695,
         10.352368734776974,
         10.310006603598595,
         10.406165391206741,
         10.535244904458523,
         10.586286187171936,
         10.21062421798706,
         10.620365642011166,
         10.488656140863895,
         10.292174369096756,
         10.396733112633228,
         10.31599473953247,
         10.714169546961784,
         10.118824452161789,
         10.565113134682178,
         10.125661097466946,
         10.203241907060146,
         10.735477730631828,
         10.028668627142906,
         10.51407228410244,
         10.396067701280117,
         10.071535363793373,
         10.447115182876587,
         10.078515708446503,
         10.588051922619343,
         10.422368593513966,
         10.564080357551575,
         10.423014484345913,
         10.359509401023388,
         10.870663590729237,
         10.09902360290289,
         10.647882878780365,
         10.18858353048563
        ],
        [
         3.291085679490696,
         3.276602010615021,
         3.2856263500676155,
         3.221162659012748,
         3.240983984254179,
         3.2828712044093837,
         3.2645188718473137,
         3.3150996821791963,
         3.2155739581931755,
         3.2527501791912234,
         3.2027296924838446,
         3.148938259098114,
         3.2076225941349366,
         3.2599327523449055,
         3.1447339236351946,
         3.2574095332896453,
         3.1380558928027926,
         3.3014043005990934,
         3.248630570743201,
         3.2514767943457565,
         3.3524338060411503,
         3.268771125733867,
         3.2195751200761107,
         3.238116856837659,
         3.278328875495674,
         3.301545074165461,
         3.2666609656668784,
         3.248522607183697,
         3.2952777740418853,
         3.2318979845075515,
         3.2576370329938777,
         3.1668118787731676,
         3.2898484354487394,
         3.1662072136275183,
         3.2883955322346985,
         3.2077802358492185,
         3.308230729752471,
         3.3429017676945323,
         3.3076967600079428,
         3.2168851638143576,
         3.2291360491845693,
         3.3075998339620045,
         3.2439001400096026,
         3.302143987314314,
         3.255667830441552,
         3.3126763911386927,
         3.360623592426798,
         3.262036417142141,
         3.2785563276060303,
         3.3324370767298257,
         3.3888678921922737,
         3.2644134957629576,
         3.191619873059322,
         3.3315057544733664,
         3.2151441017528306,
         3.1705970014942,
         3.2543157034211383,
         3.3613475113619264,
         3.1960628106727356,
         3.3356254792219704,
         3.295386754856945,
         3.2851342761177067,
         3.3237359899623375,
         3.228580167533643,
         3.2990605709086944,
         3.3125060570749687,
         3.3322528225288597,
         3.321880947254503,
         3.2595688372635383,
         3.274967797716139,
         3.2375996068188773,
         3.2791379576043878,
         3.226622101418278,
         3.2476193000862157,
         3.2860099879699756,
         3.2710413389118496,
         3.2159212989399,
         3.2331981432065624,
         3.229871436164047,
         3.322336478742779,
         3.2453021393428214,
         3.279373517956528,
         3.243333497707668,
         3.2486288323971326,
         3.2760973374085807,
         3.1809636140949977,
         3.268538639814378,
         3.2729895056934977,
         3.1575586141275203,
         3.216372343229052,
         3.186314272273084,
         3.3181997227368694,
         3.2957184117588816,
         3.3196851923854913,
         3.2813418863989074,
         3.262211797987854,
         3.3513644813160517,
         3.19310036909352,
         3.278221600082033,
         3.2606114295744955
        ]
       ],
       "encoder": "json",
       "name": "ABC_GAN_1 Metrics",
       "version": 1
      }
     },
     "metadata": {
      "scrapbook": {
       "data": true,
       "display": false,
       "name": "ABC_GAN_1 Metrics"
      }
     },
     "output_type": "display_data"
    },
    {
     "name": "stdout",
     "output_type": "stream",
     "text": [
      "MSE\n",
      "0.5324045136490613\n"
     ]
    }
   ],
   "source": [
    "ABC_GAN1_metrics=ABC_train_test2.test_generator(gen,test_data,prior_model,variance,bias,\"1\",device)\n",
    "sb.glue(\"ABC_GAN_1 Metrics\",ABC_GAN1_metrics)\n",
    "\n",
    "print(\"MSE\")\n",
    "print(mean(ABC_GAN1_metrics[0]))"
   ]
  },
  {
   "cell_type": "code",
   "execution_count": 14,
   "id": "eb22ce5c",
   "metadata": {
    "execution": {
     "iopub.execute_input": "2022-06-22T13:35:15.271830Z",
     "iopub.status.busy": "2022-06-22T13:35:15.271083Z",
     "iopub.status.idle": "2022-06-22T13:35:16.217815Z",
     "shell.execute_reply": "2022-06-22T13:35:16.218385Z"
    },
    "papermill": {
     "duration": 1.021383,
     "end_time": "2022-06-22T13:35:16.218598",
     "exception": false,
     "start_time": "2022-06-22T13:35:15.197215",
     "status": "completed"
    },
    "tags": []
   },
   "outputs": [
    {
     "data": {
      "image/png": "[encoded data removed]",
      "text/plain": [
       "<Figure size 432x288 with 1 Axes>"
      ]
     },
     "metadata": {
      "needs_background": "light"
     },
     "output_type": "display_data"
    },
    {
     "data": {
      "image/png": "[encoded data removed]",
      "text/plain": [
       "<Figure size 432x288 with 1 Axes>"
      ]
     },
     "metadata": {
      "needs_background": "light"
     },
     "output_type": "display_data"
    },
    {
     "data": {
      "image/png": "[encoded data removed]",
      "text/plain": [
       "<Figure size 432x288 with 1 Axes>"
      ]
     },
     "metadata": {
      "needs_background": "light"
     },
     "output_type": "display_data"
    },
    {
     "data": {
      "image/png": "[encoded data removed]",
      "text/plain": [
       "<Figure size 432x288 with 1 Axes>"
      ]
     },
     "metadata": {
      "needs_background": "light"
     },
     "output_type": "display_data"
    }
   ],
   "source": [
    "sanityChecks.discProbVsError(train_data,disc,device)\n",
    "sanityChecks.discProbVsError(test_data,disc,device)"
   ]
  },
  {
   "cell_type": "markdown",
   "id": "130f3a4d",
   "metadata": {
    "id": "130f3a4d",
    "papermill": {
     "duration": 0.065359,
     "end_time": "2022-06-22T13:35:16.341260",
     "exception": false,
     "start_time": "2022-06-22T13:35:16.275901",
     "status": "completed"
    },
    "tags": []
   },
   "source": [
    "# ABC - GAN Model with skip connection"
   ]
  },
  {
   "cell_type": "code",
   "execution_count": 15,
   "id": "4e43dad1",
   "metadata": {
    "execution": {
     "iopub.execute_input": "2022-06-22T13:35:16.540226Z",
     "iopub.status.busy": "2022-06-22T13:35:16.538539Z",
     "iopub.status.idle": "2022-06-22T13:35:16.541119Z",
     "shell.execute_reply": "2022-06-22T13:35:16.541657Z"
    },
    "id": "4e43dad1",
    "papermill": {
     "duration": 0.132776,
     "end_time": "2022-06-22T13:35:16.541923",
     "exception": false,
     "start_time": "2022-06-22T13:35:16.409147",
     "status": "completed"
    },
    "tags": []
   },
   "outputs": [],
   "source": [
    "#Generator\n",
    "gen3 = network.GeneratorWithSkipConnection(n_features+1).to(device)\n",
    "constraints=network.weightConstraint()\n",
    "#Discriminator \n",
    "disc3 = network.Discriminator(n_features+1).to(device)\n",
    "\n",
    "criterion = torch.nn.BCELoss()\n",
    "gen_opt = torch.optim.Adam(gen3.parameters(), lr=0.001, betas=(0.5, 0.999))\n",
    "disc_opt = torch.optim.Adam(disc3.parameters(), lr=0.001, betas=(0.5, 0.999))\n"
   ]
  },
  {
   "cell_type": "code",
   "execution_count": 16,
   "id": "26acbc37",
   "metadata": {
    "execution": {
     "iopub.execute_input": "2022-06-22T13:35:16.685555Z",
     "iopub.status.busy": "2022-06-22T13:35:16.684837Z",
     "iopub.status.idle": "2022-06-22T13:36:53.423639Z",
     "shell.execute_reply": "2022-06-22T13:36:53.424560Z"
    },
    "id": "26acbc37",
    "papermill": {
     "duration": 96.816627,
     "end_time": "2022-06-22T13:36:53.424792",
     "exception": false,
     "start_time": "2022-06-22T13:35:16.608165",
     "status": "completed"
    },
    "tags": []
   },
   "outputs": [
    {
     "data": {
      "image/png": "[encoded data removed]",
      "text/plain": [
       "<Figure size 432x288 with 1 Axes>"
      ]
     },
     "metadata": {
      "needs_background": "light"
     },
     "output_type": "display_data"
    },
    {
     "data": {
      "image/png": "[encoded data removed]",
      "text/plain": [
       "<Figure size 432x288 with 1 Axes>"
      ]
     },
     "metadata": {
      "needs_background": "light"
     },
     "output_type": "display_data"
    }
   ],
   "source": [
    "ABC_train_test2.training_GAN_skip_connection(disc3,gen3,disc_opt,gen_opt,train_data,batch_size,n_epochs,criterion,prior_model,variance,bias,device)"
   ]
  },
  {
   "cell_type": "code",
   "execution_count": 17,
   "id": "c5e0717b",
   "metadata": {
    "execution": {
     "iopub.execute_input": "2022-06-22T13:36:53.582039Z",
     "iopub.status.busy": "2022-06-22T13:36:53.581223Z",
     "iopub.status.idle": "2022-06-22T13:36:54.744772Z",
     "shell.execute_reply": "2022-06-22T13:36:54.745294Z"
    },
    "id": "c5e0717b",
    "papermill": {
     "duration": 1.258954,
     "end_time": "2022-06-22T13:36:54.745756",
     "exception": false,
     "start_time": "2022-06-22T13:36:53.486802",
     "status": "completed"
    },
    "tags": []
   },
   "outputs": [
    {
     "data": {
      "application/scrapbook.scrap.json+json": {
       "data": 0.6313254472594513,
       "encoder": "json",
       "name": "ABC-GAN Model 3 MSE",
       "version": 1
      }
     },
     "metadata": {
      "scrapbook": {
       "data": true,
       "display": false,
       "name": "ABC-GAN Model 3 MSE"
      }
     },
     "output_type": "display_data"
    },
    {
     "data": {
      "application/scrapbook.scrap.json+json": {
       "data": 0.5673061797246337,
       "encoder": "json",
       "name": "ABC-GAN Model 3 MAE",
       "version": 1
      }
     },
     "metadata": {
      "scrapbook": {
       "data": true,
       "display": false,
       "name": "ABC-GAN Model 3 MAE"
      }
     },
     "output_type": "display_data"
    },
    {
     "data": {
      "application/scrapbook.scrap.json+json": {
       "data": 11.346123594492674,
       "encoder": "json",
       "name": "ABC-GAN Model 3 Manhattan Distance",
       "version": 1
      }
     },
     "metadata": {
      "scrapbook": {
       "data": true,
       "display": false,
       "name": "ABC-GAN Model 3 Manhattan Distance"
      }
     },
     "output_type": "display_data"
    },
    {
     "data": {
      "application/scrapbook.scrap.json+json": {
       "data": 3.552721668765195,
       "encoder": "json",
       "name": "ABC-GAN Model 3 Euclidean distance",
       "version": 1
      }
     },
     "metadata": {
      "scrapbook": {
       "data": true,
       "display": false,
       "name": "ABC-GAN Model 3 Euclidean distance"
      }
     },
     "output_type": "display_data"
    },
    {
     "data": {
      "application/scrapbook.scrap.json+json": {
       "data": [
        [
         0.6061588027592796,
         0.598777102104249,
         0.6363461908921633,
         0.6071286795547126,
         0.6449270030681482,
         0.6147861365322893,
         0.6218869754445416,
         0.647780154251058,
         0.6712370211954586,
         0.5933592279268641,
         0.6171244470166325,
         0.635513982453818,
         0.6663550947449985,
         0.6145978044840132,
         0.6378573615287797,
         0.6277695076805606,
         0.6543554334670907,
         0.6051806108401572,
         0.5847516283613116,
         0.6448527488368818,
         0.6166482498449571,
         0.6260977428101991,
         0.62392670791813,
         0.6241954440750964,
         0.6561666539629751,
         0.6190643702145696,
         0.613524448683766,
         0.6384300401090941,
         0.6119610566424936,
         0.6448909652933057,
         0.6469919272006717,
         0.6400222270892181,
         0.5746889521609454,
         0.61016040487386,
         0.5999791561750036,
         0.6209481742312001,
         0.6748992804221517,
         0.6073569368444728,
         0.6411281259206723,
         0.6272808894182725,
         0.6026083779603267,
         0.6435266111545547,
         0.671230729494933,
         0.6668985356499352,
         0.6640820724452408,
         0.636835869784638,
         0.6253521625677863,
         0.626922852879413,
         0.6021255101722018,
         0.6405614166815583,
         0.617279298096969,
         0.6560587145311649,
         0.6407667753681441,
         0.584478489195366,
         0.6362038356982689,
         0.6400959918320839,
         0.6475924449237946,
         0.5713091977410988,
         0.6628766253289289,
         0.6588646042383373,
         0.6253936651732512,
         0.6087147280575563,
         0.6256565680285986,
         0.6740939127199412,
         0.6155006214809532,
         0.64180280599528,
         0.6102421313918649,
         0.6475187654076716,
         0.6588685267173864,
         0.646020515740569,
         0.6671110077069535,
         0.645048798589149,
         0.6667661161131081,
         0.645575651278928,
         0.6603892704724814,
         0.619839506894557,
         0.6417550812842242,
         0.6343022373756616,
         0.6396842036725234,
         0.6671529748730775,
         0.5863769529665234,
         0.5860509583302893,
         0.6300970988487974,
         0.618885466607065,
         0.6520390233576192,
         0.612950236475162,
         0.6538614532364745,
         0.6361705664827224,
         0.6576979297545428,
         0.6349959221569965,
         0.6333419985097043,
         0.6491691905273133,
         0.6341945741114532,
         0.6833061155526798,
         0.6073074856761765,
         0.61580390777779,
         0.6463966557681019,
         0.5907776524666069,
         0.6101758847175629,
         0.6067307808690056
        ],
        [
         0.558965566009283,
         0.5657073490321636,
         0.5817525275051594,
         0.5482452534139156,
         0.575170797854662,
         0.5547745510935783,
         0.5512843415141105,
         0.5744193576276302,
         0.5810893453657627,
         0.555467089265585,
         0.554442884773016,
         0.5629058875143528,
         0.5844594709575176,
         0.5760029263794422,
         0.5717615358531475,
         0.5742543302476406,
         0.5756915815174579,
         0.5656311087310314,
         0.5421879060566426,
         0.5770905666053295,
         0.5732323564589024,
         0.5466542810201644,
         0.5509112291038036,
         0.5679957292973995,
         0.5727597706019878,
         0.5607331268489361,
         0.5611521549522877,
         0.580660305172205,
         0.5642036505043506,
         0.5859270699322223,
         0.5521770119667053,
         0.5710591979324817,
         0.54028390198946,
         0.5476513676345348,
         0.5487394116818904,
         0.5647213503718376,
         0.5764925457537174,
         0.5362650975584984,
         0.5680802077054977,
         0.5596334211528301,
         0.5471759907901287,
         0.5768507130444049,
         0.5820195004343987,
         0.5700319372117519,
         0.5780767254531384,
         0.5767835311591625,
         0.5580609060823918,
         0.5696186728775501,
         0.5593391247093678,
         0.5778621770441532,
         0.5537003196775914,
         0.5900141201913357,
         0.5732672713696957,
         0.5501192845404148,
         0.5599146038293839,
         0.5734832011163234,
         0.5954967401921749,
         0.5324994869530201,
         0.6023491777479648,
         0.5822863280773163,
         0.5758937485516071,
         0.5494722805917263,
         0.5844316653907299,
         0.5924637950956821,
         0.5413018457591534,
         0.5683573909103871,
         0.5745919696986675,
         0.5537464149296284,
         0.5905062474310399,
         0.5840586446225643,
         0.5881712324917316,
         0.5713181771337986,
         0.5892283581197262,
         0.5651934452354908,
         0.5841145172715188,
         0.5743119940161705,
         0.565331193804741,
         0.5670449055731297,
         0.5859814569354057,
         0.5730525001883506,
         0.5324816010892391,
         0.5457937739789486,
         0.5719383828341961,
         0.5745257593691349,
         0.5756116308271885,
         0.5566171780228615,
         0.5697778381407261,
         0.5665111728012562,
         0.5820534236729145,
         0.583975899964571,
         0.5756181329488754,
         0.5616159595549106,
         0.582355386018753,
         0.6023332588374615,
         0.5407303430140018,
         0.5385636128485203,
         0.5646297730505466,
         0.5515224255621434,
         0.553660037368536,
         0.5521432213485241
        ],
        [
         11.179311320185661,
         11.314146980643272,
         11.635050550103188,
         10.964905068278313,
         11.503415957093239,
         11.095491021871567,
         11.025686830282211,
         11.488387152552605,
         11.621786907315254,
         11.109341785311699,
         11.08885769546032,
         11.258117750287056,
         11.689189419150352,
         11.520058527588844,
         11.43523071706295,
         11.485086604952812,
         11.51383163034916,
         11.312622174620628,
         10.84375812113285,
         11.54181133210659,
         11.464647129178047,
         10.93308562040329,
         11.018224582076073,
         11.35991458594799,
         11.455195412039757,
         11.214662536978722,
         11.223043099045753,
         11.6132061034441,
         11.284073010087013,
         11.718541398644447,
         11.043540239334106,
         11.421183958649635,
         10.8056780397892,
         10.953027352690697,
         10.97478823363781,
         11.294427007436752,
         11.529850915074348,
         10.725301951169968,
         11.361604154109955,
         11.192668423056602,
         10.943519815802574,
         11.5370142608881,
         11.640390008687973,
         11.400638744235039,
         11.561534509062767,
         11.53567062318325,
         11.161218121647835,
         11.392373457551003,
         11.186782494187355,
         11.557243540883064,
         11.074006393551826,
         11.800282403826714,
         11.465345427393913,
         11.002385690808296,
         11.198292076587677,
         11.46966402232647,
         11.909934803843498,
         10.649989739060402,
         12.046983554959297,
         11.645726561546326,
         11.517874971032143,
         10.989445611834526,
         11.688633307814598,
         11.849275901913643,
         10.826036915183067,
         11.36714781820774,
         11.49183939397335,
         11.074928298592567,
         11.810124948620796,
         11.681172892451286,
         11.763424649834633,
         11.426363542675972,
         11.784567162394524,
         11.303868904709816,
         11.682290345430374,
         11.48623988032341,
         11.306623876094818,
         11.340898111462593,
         11.719629138708115,
         11.461050003767014,
         10.649632021784782,
         10.915875479578972,
         11.438767656683922,
         11.490515187382698,
         11.51223261654377,
         11.13234356045723,
         11.395556762814522,
         11.330223456025124,
         11.64106847345829,
         11.67951799929142,
         11.512362658977509,
         11.232319191098213,
         11.647107720375061,
         12.04666517674923,
         10.814606860280037,
         10.771272256970406,
         11.292595461010933,
         11.030448511242867,
         11.07320074737072,
         11.042864426970482
        ],
        [
         3.4818351562337915,
         3.4605696123738032,
         3.5674814390327616,
         3.4846195762370176,
         3.5914537531984125,
         3.5065257350610994,
         3.526717951423225,
         3.599389265558972,
         3.6639787695767523,
         3.4448780179474108,
         3.5131878600969584,
         3.5651479140529863,
         3.650630342132708,
         3.5059886037578996,
         3.571714886518182,
         3.543358597942242,
         3.6176109062946242,
         3.4790246070994004,
         3.4198000770843655,
         3.591246994671577,
         3.511832142471952,
         3.5386374293227583,
         3.532496873086033,
         3.5332575453116815,
         3.6226141223237542,
         3.518705359118804,
         3.5029257733607944,
         3.573317898281915,
         3.4984598229577926,
         3.591353408656145,
         3.597198707885545,
         3.577770890063303,
         3.390247637447581,
         3.4933090469463473,
         3.4640414436753018,
         3.524054977525748,
         3.673960479978389,
         3.4852745568878007,
         3.580860583492946,
         3.5419793602399,
         3.4716231879635977,
         3.587552400048129,
         3.663961597765274,
         3.6521186608595704,
         3.644398640229251,
         3.5688537929835067,
         3.5365298318204132,
         3.5409683785072494,
         3.470232010031035,
         3.579277627347614,
         3.513628603301632,
         3.622316150010004,
         3.5798513247567807,
         3.4190012845723414,
         3.5670823811576566,
         3.5779770592671043,
         3.598867724503902,
         3.3802638883409646,
         3.641089466983553,
         3.630054005764479,
         3.536647183910918,
         3.4891681761060367,
         3.537390473296943,
         3.671767728819298,
         3.50856272989654,
         3.58274421636622,
         3.4935429906954485,
         3.598662988965962,
         3.630064811315044,
         3.594497226986186,
         3.6527003920577816,
         3.5917928631510723,
         3.6517560600705736,
         3.593259387461273,
         3.634251698692542,
         3.520907573040102,
         3.5826110067497536,
         3.561747428933336,
         3.5768259775184013,
         3.652815283786131,
         3.424549468080505,
         3.423597401360999,
         3.549921404337841,
         3.5181968864947426,
         3.611202080630823,
         3.5012861536160163,
         3.616245161037826,
         3.5669891126346944,
         3.6268386502697982,
         3.563694493519321,
         3.559050430970891,
         3.6032462878002476,
         3.5614451395787445,
         3.6967718770643123,
         3.4851326679946535,
         3.509427040922179,
         3.5955435076441558,
         3.437375895844407,
         3.4933533595030513,
         3.483477517851968
        ]
       ],
       "encoder": "json",
       "name": "ABC_GAN_3 Metrics",
       "version": 1
      }
     },
     "metadata": {
      "scrapbook": {
       "data": true,
       "display": false,
       "name": "ABC_GAN_3 Metrics"
      }
     },
     "output_type": "display_data"
    },
    {
     "name": "stdout",
     "output_type": "stream",
     "text": [
      "MSE\n",
      "0.6313254472594513\n"
     ]
    }
   ],
   "source": [
    "ABC_GAN3_metrics=ABC_train_test2.test_generator(gen3,test_data,prior_model,variance,bias,\"3\",device)\n",
    "sb.glue(\"ABC_GAN_3 Metrics\",ABC_GAN3_metrics)\n",
    "\n",
    "print(\"MSE\")\n",
    "print(mean(ABC_GAN3_metrics[0]))"
   ]
  },
  {
   "cell_type": "code",
   "execution_count": 18,
   "id": "c8e46b48",
   "metadata": {
    "execution": {
     "iopub.execute_input": "2022-06-22T13:36:54.907988Z",
     "iopub.status.busy": "2022-06-22T13:36:54.907263Z",
     "iopub.status.idle": "2022-06-22T13:36:55.965443Z",
     "shell.execute_reply": "2022-06-22T13:36:55.965955Z"
    },
    "id": "c8e46b48",
    "papermill": {
     "duration": 1.152322,
     "end_time": "2022-06-22T13:36:55.966176",
     "exception": false,
     "start_time": "2022-06-22T13:36:54.813854",
     "status": "completed"
    },
    "tags": []
   },
   "outputs": [
    {
     "data": {
      "image/png": "[encoded data removed]",
      "text/plain": [
       "<Figure size 432x288 with 1 Axes>"
      ]
     },
     "metadata": {
      "needs_background": "light"
     },
     "output_type": "display_data"
    },
    {
     "data": {
      "image/png": "[encoded data removed]",
      "text/plain": [
       "<Figure size 432x288 with 1 Axes>"
      ]
     },
     "metadata": {
      "needs_background": "light"
     },
     "output_type": "display_data"
    },
    {
     "data": {
      "image/png": "[encoded data removed]",
      "text/plain": [
       "<Figure size 432x288 with 1 Axes>"
      ]
     },
     "metadata": {
      "needs_background": "light"
     },
     "output_type": "display_data"
    },
    {
     "data": {
      "image/png": "[encoded data removed]",
      "text/plain": [
       "<Figure size 432x288 with 1 Axes>"
      ]
     },
     "metadata": {
      "needs_background": "light"
     },
     "output_type": "display_data"
    }
   ],
   "source": [
    "sanityChecks.discProbVsError(train_data,disc3,device)\n",
    "sanityChecks.discProbVsError(test_data,disc3,device)"
   ]
  },
  {
   "cell_type": "markdown",
   "id": "a5bd74c3",
   "metadata": {
    "id": "a5bd74c3",
    "papermill": {
     "duration": 0.077994,
     "end_time": "2022-06-22T13:36:56.107384",
     "exception": false,
     "start_time": "2022-06-22T13:36:56.029390",
     "status": "completed"
    },
    "tags": []
   },
   "source": [
    "## Skip Connection Model Analysis - ABC-GAN "
   ]
  },
  {
   "cell_type": "markdown",
   "id": "5744a8bf",
   "metadata": {
    "id": "5744a8bf",
    "papermill": {
     "duration": 0.075701,
     "end_time": "2022-06-22T13:36:56.250608",
     "exception": false,
     "start_time": "2022-06-22T13:36:56.174907",
     "status": "completed"
    },
    "tags": []
   },
   "source": [
    "### Weight Analysis \n",
    "\n",
    "Study the weights of the skip connection layer\n",
    "\n",
    "Equation of the skip connection is \n",
    "\n",
    "$output = y_{gan} * w + y_{abc} * (1-w)$"
   ]
  },
  {
   "cell_type": "code",
   "execution_count": 19,
   "id": "52c31dea",
   "metadata": {
    "execution": {
     "iopub.execute_input": "2022-06-22T13:36:56.468909Z",
     "iopub.status.busy": "2022-06-22T13:36:56.465716Z",
     "iopub.status.idle": "2022-06-22T13:36:56.474705Z",
     "shell.execute_reply": "2022-06-22T13:36:56.472197Z"
    },
    "id": "52c31dea",
    "papermill": {
     "duration": 0.131514,
     "end_time": "2022-06-22T13:36:56.474934",
     "exception": false,
     "start_time": "2022-06-22T13:36:56.343420",
     "status": "completed"
    },
    "tags": []
   },
   "outputs": [
    {
     "name": "stdout",
     "output_type": "stream",
     "text": [
      "Weight of the node at skip connection\n",
      "Parameter containing:\n",
      "tensor([[0.5638]], requires_grad=True)\n"
     ]
    },
    {
     "data": {
      "application/scrapbook.scrap.json+json": {
       "data": 0.5637863278388977,
       "encoder": "json",
       "name": "Skip Connection Weight",
       "version": 1
      }
     },
     "metadata": {
      "scrapbook": {
       "data": true,
       "display": false,
       "name": "Skip Connection Weight"
      }
     },
     "output_type": "display_data"
    }
   ],
   "source": [
    "print(\"Weight of the node at skip connection\")\n",
    "for name,param in gen3.named_parameters():\n",
    "    if(name == \"skipNode.weight\"):\n",
    "        print(param)\n",
    "        sb.glue(\"Skip Connection Weight\",param.item())"
   ]
  }
 ],
 "metadata": {
  "colab": {
   "collapsed_sections": [],
   "name": "ABC_GAN_Model-Catboost_Pre-gen.ipynb",
   "provenance": []
  },
  "interpreter": {
   "hash": "31f2aee4e71d21fbe5cf8b01ff0e069b9275f58929596ceb00d14d90e3e16cd6"
  },
  "kernelspec": {
   "display_name": "Python 3 (ipykernel)",
   "language": "python",
   "name": "python3"
  },
  "language_info": {
   "codemirror_mode": {
    "name": "ipython",
    "version": 3
   },
   "file_extension": ".py",
   "mimetype": "text/x-python",
   "name": "python",
   "nbconvert_exporter": "python",
   "pygments_lexer": "ipython3",
   "version": "3.8.3"
  },
  "papermill": {
   "default_parameters": {},
   "duration": 186.081074,
   "end_time": "2022-06-22T13:36:57.618258",
   "environment_variables": {},
   "exception": null,
   "input_path": "ABC_GAN-TabNet.ipynb",
   "output_path": "./ABC_GAN_TabNet/ABC-GAN_output_5_1.ipynb",
   "parameters": {
    "bias": 1,
    "variance": 0.1
   },
   "start_time": "2022-06-22T13:33:51.537184",
   "version": "2.3.3"
  }
 },
 "nbformat": 4,
 "nbformat_minor": 5
}