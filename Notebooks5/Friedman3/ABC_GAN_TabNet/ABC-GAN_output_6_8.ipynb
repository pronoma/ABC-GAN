{
 "cells": [
  {
   "cell_type": "markdown",
   "id": "622780e6",
   "metadata": {
    "id": "622780e6",
    "papermill": {
     "duration": 0.04226,
     "end_time": "2022-06-22T14:32:10.597445",
     "exception": false,
     "start_time": "2022-06-22T14:32:10.555185",
     "status": "completed"
    },
    "tags": []
   },
   "source": [
    "## Import Libraries "
   ]
  },
  {
   "cell_type": "code",
   "execution_count": 1,
   "id": "a62397e3",
   "metadata": {
    "execution": {
     "iopub.execute_input": "2022-06-22T14:32:10.682214Z",
     "iopub.status.busy": "2022-06-22T14:32:10.678153Z",
     "iopub.status.idle": "2022-06-22T14:32:10.689860Z",
     "shell.execute_reply": "2022-06-22T14:32:10.691875Z"
    },
    "id": "a62397e3",
    "papermill": {
     "duration": 0.075228,
     "end_time": "2022-06-22T14:32:10.692542",
     "exception": false,
     "start_time": "2022-06-22T14:32:10.617314",
     "status": "completed"
    },
    "tags": []
   },
   "outputs": [],
   "source": [
    "import warnings\n",
    "import sys\n",
    "sys.path.insert(0, '../../src')\n",
    "warnings.filterwarnings('ignore')"
   ]
  },
  {
   "cell_type": "code",
   "execution_count": 2,
   "id": "d6a4e155",
   "metadata": {
    "execution": {
     "iopub.execute_input": "2022-06-22T14:32:10.755560Z",
     "iopub.status.busy": "2022-06-22T14:32:10.754345Z",
     "iopub.status.idle": "2022-06-22T14:32:17.516110Z",
     "shell.execute_reply": "2022-06-22T14:32:17.516794Z"
    },
    "id": "d6a4e155",
    "papermill": {
     "duration": 6.801612,
     "end_time": "2022-06-22T14:32:17.517083",
     "exception": false,
     "start_time": "2022-06-22T14:32:10.715471",
     "status": "completed"
    },
    "tags": []
   },
   "outputs": [],
   "source": [
    "import ABC_train_test2\n",
    "import friedman3Dataset\n",
    "import network\n",
    "import dataset\n",
    "import sanityChecks\n",
    "import torch \n",
    "import scrapbook as sb\n",
    "from statistics import mean \n",
    "import catboost as ctb \n",
    "from sklearn.model_selection import train_test_split\n",
    "from sklearn.metrics import mean_squared_error,mean_absolute_error\n",
    "import numpy as np\n",
    "from pytorch_tabnet.tab_model import TabNetRegressor"
   ]
  },
  {
   "cell_type": "markdown",
   "id": "2fa5b0f7",
   "metadata": {
    "id": "2fa5b0f7",
    "papermill": {
     "duration": 0.021582,
     "end_time": "2022-06-22T14:32:17.557667",
     "exception": false,
     "start_time": "2022-06-22T14:32:17.536085",
     "status": "completed"
    },
    "tags": []
   },
   "source": [
    "## Parameters "
   ]
  },
  {
   "cell_type": "code",
   "execution_count": 3,
   "id": "783186fb",
   "metadata": {
    "execution": {
     "iopub.execute_input": "2022-06-22T14:32:17.607044Z",
     "iopub.status.busy": "2022-06-22T14:32:17.605656Z",
     "iopub.status.idle": "2022-06-22T14:32:17.608474Z",
     "shell.execute_reply": "2022-06-22T14:32:17.609080Z"
    },
    "id": "783186fb",
    "papermill": {
     "duration": 0.031932,
     "end_time": "2022-06-22T14:32:17.609321",
     "exception": false,
     "start_time": "2022-06-22T14:32:17.577389",
     "status": "completed"
    },
    "tags": [
     "parameters"
    ]
   },
   "outputs": [],
   "source": [
    "variance = 1\n",
    "bias = 1 "
   ]
  },
  {
   "cell_type": "code",
   "execution_count": 4,
   "id": "13295613",
   "metadata": {
    "execution": {
     "iopub.execute_input": "2022-06-22T14:32:17.649793Z",
     "iopub.status.busy": "2022-06-22T14:32:17.648650Z",
     "iopub.status.idle": "2022-06-22T14:32:17.657676Z",
     "shell.execute_reply": "2022-06-22T14:32:17.658323Z"
    },
    "papermill": {
     "duration": 0.029144,
     "end_time": "2022-06-22T14:32:17.658555",
     "exception": false,
     "start_time": "2022-06-22T14:32:17.629411",
     "status": "completed"
    },
    "tags": [
     "injected-parameters"
    ]
   },
   "outputs": [],
   "source": [
    "# Parameters\n",
    "variance = 0.01\n",
    "bias = 0.01\n"
   ]
  },
  {
   "cell_type": "markdown",
   "id": "391cdbfd",
   "metadata": {
    "id": "391cdbfd",
    "papermill": {
     "duration": 0.018327,
     "end_time": "2022-06-22T14:32:17.694223",
     "exception": false,
     "start_time": "2022-06-22T14:32:17.675896",
     "status": "completed"
    },
    "tags": []
   },
   "source": [
    "## Dataset \n"
   ]
  },
  {
   "cell_type": "code",
   "execution_count": 5,
   "id": "5b51f161",
   "metadata": {
    "execution": {
     "iopub.execute_input": "2022-06-22T14:32:17.732443Z",
     "iopub.status.busy": "2022-06-22T14:32:17.731629Z",
     "iopub.status.idle": "2022-06-22T14:32:17.734565Z",
     "shell.execute_reply": "2022-06-22T14:32:17.737366Z"
    },
    "id": "5b51f161",
    "papermill": {
     "duration": 0.02601,
     "end_time": "2022-06-22T14:32:17.737954",
     "exception": false,
     "start_time": "2022-06-22T14:32:17.711944",
     "status": "completed"
    },
    "tags": []
   },
   "outputs": [],
   "source": [
    "#Parameters \n",
    "n_features = 4\n",
    "n_samples= 100\n",
    "n_target = 1"
   ]
  },
  {
   "cell_type": "code",
   "execution_count": 6,
   "id": "5d6eced4",
   "metadata": {
    "execution": {
     "iopub.execute_input": "2022-06-22T14:32:17.774639Z",
     "iopub.status.busy": "2022-06-22T14:32:17.773796Z",
     "iopub.status.idle": "2022-06-22T14:32:17.792789Z",
     "shell.execute_reply": "2022-06-22T14:32:17.793294Z"
    },
    "id": "5d6eced4",
    "papermill": {
     "duration": 0.039141,
     "end_time": "2022-06-22T14:32:17.793525",
     "exception": false,
     "start_time": "2022-06-22T14:32:17.754384",
     "status": "completed"
    },
    "tags": []
   },
   "outputs": [
    {
     "name": "stdout",
     "output_type": "stream",
     "text": [
      "          X1           X2        X3         X4         Y\n",
      "0  32.283769  1122.255908  0.349498  10.393943  1.448105\n",
      "1  87.780769   134.725648  0.223634   4.693382  0.295663\n",
      "2  28.946396  1621.637538  0.713115   8.557940  1.637905\n",
      "3  66.580869   548.613021  0.383442   2.168750  1.339421\n",
      "4  48.208182  1708.005151  0.500576   6.759021  1.500175\n"
     ]
    }
   ],
   "source": [
    "X,Y = friedman3Dataset.friedman3_data(n_samples)"
   ]
  },
  {
   "cell_type": "code",
   "execution_count": 7,
   "id": "fe007438",
   "metadata": {
    "execution": {
     "iopub.execute_input": "2022-06-22T14:32:17.840402Z",
     "iopub.status.busy": "2022-06-22T14:32:17.838943Z",
     "iopub.status.idle": "2022-06-22T14:32:17.843087Z",
     "shell.execute_reply": "2022-06-22T14:32:17.843965Z"
    },
    "id": "fe007438",
    "papermill": {
     "duration": 0.034219,
     "end_time": "2022-06-22T14:32:17.844373",
     "exception": false,
     "start_time": "2022-06-22T14:32:17.810154",
     "status": "completed"
    },
    "tags": []
   },
   "outputs": [],
   "source": [
    "#Train test split for dataset \n",
    "X_train,X_test,Y_train,Y_test = train_test_split(X,Y,test_size = 0.2)\n",
    "train_data = dataset.CustomDataset(X_train,Y_train)\n",
    "test_data = dataset.CustomDataset(X_test,Y_test)\n"
   ]
  },
  {
   "cell_type": "markdown",
   "id": "a9a1af34",
   "metadata": {
    "id": "a9a1af34",
    "papermill": {
     "duration": 0.019942,
     "end_time": "2022-06-22T14:32:17.882022",
     "exception": false,
     "start_time": "2022-06-22T14:32:17.862080",
     "status": "completed"
    },
    "tags": []
   },
   "source": [
    "## Training Parameters "
   ]
  },
  {
   "cell_type": "code",
   "execution_count": 8,
   "id": "952b7fc8",
   "metadata": {
    "execution": {
     "iopub.execute_input": "2022-06-22T14:32:17.923920Z",
     "iopub.status.busy": "2022-06-22T14:32:17.923143Z",
     "iopub.status.idle": "2022-06-22T14:32:17.925415Z",
     "shell.execute_reply": "2022-06-22T14:32:17.925953Z"
    },
    "id": "952b7fc8",
    "papermill": {
     "duration": 0.02618,
     "end_time": "2022-06-22T14:32:17.926214",
     "exception": false,
     "start_time": "2022-06-22T14:32:17.900034",
     "status": "completed"
    },
    "tags": []
   },
   "outputs": [],
   "source": [
    "batch_size = 32\n",
    "n_epochs = 1000\n",
    "#Select the device \n",
    "device = torch.device('cuda' if torch.cuda.is_available() else 'cpu')"
   ]
  },
  {
   "cell_type": "markdown",
   "id": "a95e1600",
   "metadata": {
    "id": "a95e1600",
    "papermill": {
     "duration": 0.020369,
     "end_time": "2022-06-22T14:32:17.962565",
     "exception": false,
     "start_time": "2022-06-22T14:32:17.942196",
     "status": "completed"
    },
    "tags": []
   },
   "source": [
    "# ABC Pre-generator Model \n",
    "\n",
    "1. The catboost model is used as a pre-generator model for the ABC-GAN. \n",
    "2. The model is first trained on the entire dataset \n",
    "3. It generats X,Y pairs and we add some Gaussian noise with mean 0 and variance 1 to it which is then feed as input to the generator.\n"
   ]
  },
  {
   "cell_type": "code",
   "execution_count": 9,
   "id": "ff8ce7bd",
   "metadata": {
    "execution": {
     "iopub.execute_input": "2022-06-22T14:32:18.006118Z",
     "iopub.status.busy": "2022-06-22T14:32:18.005170Z",
     "iopub.status.idle": "2022-06-22T14:32:32.506839Z",
     "shell.execute_reply": "2022-06-22T14:32:32.506352Z"
    },
    "id": "ff8ce7bd",
    "papermill": {
     "duration": 14.526969,
     "end_time": "2022-06-22T14:32:32.507095",
     "exception": false,
     "start_time": "2022-06-22T14:32:17.980126",
     "status": "completed"
    },
    "tags": []
   },
   "outputs": [
    {
     "name": "stdout",
     "output_type": "stream",
     "text": [
      "Device used : cpu\n"
     ]
    },
    {
     "name": "stdout",
     "output_type": "stream",
     "text": [
      "epoch 0  | loss: 1.17321 | train_mse: 2.54433 | train_mae: 1.27682 |  0:00:00s\n",
      "epoch 1  | loss: 0.65625 | train_mse: 2.0616  | train_mae: 1.10733 |  0:00:00s\n",
      "epoch 2  | loss: 0.80638 | train_mse: 2.27751 | train_mae: 1.10105 |  0:00:00s\n"
     ]
    },
    {
     "name": "stdout",
     "output_type": "stream",
     "text": [
      "epoch 3  | loss: 1.09457 | train_mse: 1.50092 | train_mae: 0.9089  |  0:00:00s\n",
      "epoch 4  | loss: 0.87926 | train_mse: 1.2925  | train_mae: 0.8607  |  0:00:00s\n",
      "epoch 5  | loss: 0.57175 | train_mse: 1.59024 | train_mae: 0.97658 |  0:00:00s\n"
     ]
    },
    {
     "name": "stdout",
     "output_type": "stream",
     "text": [
      "epoch 6  | loss: 0.52496 | train_mse: 1.95889 | train_mae: 1.05213 |  0:00:00s\n",
      "epoch 7  | loss: 0.54574 | train_mse: 1.51514 | train_mae: 0.90056 |  0:00:00s\n"
     ]
    },
    {
     "name": "stdout",
     "output_type": "stream",
     "text": [
      "epoch 8  | loss: 0.46747 | train_mse: 1.26872 | train_mae: 0.81096 |  0:00:01s\n",
      "epoch 9  | loss: 0.42057 | train_mse: 1.25145 | train_mae: 0.8173  |  0:00:01s\n",
      "epoch 10 | loss: 0.33573 | train_mse: 1.6667  | train_mae: 0.93284 |  0:00:01s\n"
     ]
    },
    {
     "name": "stdout",
     "output_type": "stream",
     "text": [
      "epoch 11 | loss: 0.54802 | train_mse: 1.6095  | train_mae: 0.9171  |  0:00:01s\n",
      "epoch 12 | loss: 0.49756 | train_mse: 1.50804 | train_mae: 0.84659 |  0:00:01s\n",
      "epoch 13 | loss: 0.30279 | train_mse: 1.31399 | train_mae: 0.76912 |  0:00:01s\n"
     ]
    },
    {
     "name": "stdout",
     "output_type": "stream",
     "text": [
      "epoch 14 | loss: 0.43613 | train_mse: 0.80509 | train_mae: 0.62006 |  0:00:01s\n",
      "epoch 15 | loss: 0.42481 | train_mse: 0.7303  | train_mae: 0.61296 |  0:00:01s\n",
      "epoch 16 | loss: 0.38986 | train_mse: 0.80197 | train_mae: 0.64564 |  0:00:01s\n"
     ]
    },
    {
     "name": "stdout",
     "output_type": "stream",
     "text": [
      "epoch 17 | loss: 0.24266 | train_mse: 0.66002 | train_mae: 0.55268 |  0:00:01s\n",
      "epoch 18 | loss: 0.32999 | train_mse: 0.47059 | train_mae: 0.49027 |  0:00:01s\n",
      "epoch 19 | loss: 0.2501  | train_mse: 0.39933 | train_mae: 0.45054 |  0:00:02s\n"
     ]
    },
    {
     "name": "stdout",
     "output_type": "stream",
     "text": [
      "epoch 20 | loss: 0.45231 | train_mse: 0.38623 | train_mae: 0.45375 |  0:00:02s\n",
      "epoch 21 | loss: 0.21956 | train_mse: 0.31709 | train_mae: 0.42221 |  0:00:02s\n",
      "epoch 22 | loss: 0.52394 | train_mse: 0.23612 | train_mae: 0.38094 |  0:00:02s\n"
     ]
    },
    {
     "name": "stdout",
     "output_type": "stream",
     "text": [
      "epoch 23 | loss: 0.41687 | train_mse: 0.3043  | train_mae: 0.39091 |  0:00:02s\n",
      "epoch 24 | loss: 0.26865 | train_mse: 0.35761 | train_mae: 0.42437 |  0:00:02s\n",
      "epoch 25 | loss: 0.15963 | train_mse: 0.36324 | train_mae: 0.45046 |  0:00:02s\n"
     ]
    },
    {
     "name": "stdout",
     "output_type": "stream",
     "text": [
      "epoch 26 | loss: 0.19791 | train_mse: 0.40943 | train_mae: 0.49332 |  0:00:02s\n",
      "epoch 27 | loss: 0.36951 | train_mse: 0.3914  | train_mae: 0.46805 |  0:00:02s\n",
      "epoch 28 | loss: 0.3074  | train_mse: 0.3247  | train_mae: 0.43971 |  0:00:02s\n"
     ]
    },
    {
     "name": "stdout",
     "output_type": "stream",
     "text": [
      "epoch 29 | loss: 0.24287 | train_mse: 0.30417 | train_mae: 0.40272 |  0:00:02s\n",
      "epoch 30 | loss: 0.20099 | train_mse: 0.28945 | train_mae: 0.37056 |  0:00:02s\n",
      "epoch 31 | loss: 0.32431 | train_mse: 0.29835 | train_mae: 0.3706  |  0:00:03s\n"
     ]
    },
    {
     "name": "stdout",
     "output_type": "stream",
     "text": [
      "epoch 32 | loss: 0.23172 | train_mse: 0.31905 | train_mae: 0.37731 |  0:00:03s\n",
      "epoch 33 | loss: 0.20966 | train_mse: 0.2141  | train_mae: 0.32066 |  0:00:03s\n",
      "epoch 34 | loss: 0.17511 | train_mse: 0.16809 | train_mae: 0.30093 |  0:00:03s\n"
     ]
    },
    {
     "name": "stdout",
     "output_type": "stream",
     "text": [
      "epoch 35 | loss: 0.2199  | train_mse: 0.13605 | train_mae: 0.28197 |  0:00:03s\n",
      "epoch 36 | loss: 0.15899 | train_mse: 0.14182 | train_mae: 0.28757 |  0:00:03s\n",
      "epoch 37 | loss: 0.23888 | train_mse: 0.19288 | train_mae: 0.32425 |  0:00:03s\n"
     ]
    },
    {
     "name": "stdout",
     "output_type": "stream",
     "text": [
      "epoch 38 | loss: 0.18363 | train_mse: 0.19265 | train_mae: 0.31284 |  0:00:03s\n",
      "epoch 39 | loss: 0.22724 | train_mse: 0.26718 | train_mae: 0.35561 |  0:00:03s\n",
      "epoch 40 | loss: 0.26527 | train_mse: 0.16407 | train_mae: 0.29666 |  0:00:03s\n"
     ]
    },
    {
     "name": "stdout",
     "output_type": "stream",
     "text": [
      "epoch 41 | loss: 0.19902 | train_mse: 0.12033 | train_mae: 0.26959 |  0:00:03s\n",
      "epoch 42 | loss: 0.38877 | train_mse: 0.19054 | train_mae: 0.30002 |  0:00:03s\n",
      "epoch 43 | loss: 0.16319 | train_mse: 0.16176 | train_mae: 0.2865  |  0:00:04s\n"
     ]
    },
    {
     "name": "stdout",
     "output_type": "stream",
     "text": [
      "epoch 44 | loss: 0.15945 | train_mse: 0.14632 | train_mae: 0.25405 |  0:00:04s\n",
      "epoch 45 | loss: 0.29889 | train_mse: 0.19691 | train_mae: 0.28771 |  0:00:04s\n",
      "epoch 46 | loss: 0.192   | train_mse: 0.19181 | train_mae: 0.29171 |  0:00:04s\n"
     ]
    },
    {
     "name": "stdout",
     "output_type": "stream",
     "text": [
      "epoch 47 | loss: 0.16471 | train_mse: 0.1343  | train_mae: 0.24234 |  0:00:04s\n",
      "epoch 48 | loss: 0.21435 | train_mse: 0.14453 | train_mae: 0.26415 |  0:00:04s\n"
     ]
    },
    {
     "name": "stdout",
     "output_type": "stream",
     "text": [
      "epoch 49 | loss: 0.28503 | train_mse: 0.12354 | train_mae: 0.24202 |  0:00:04s\n",
      "epoch 50 | loss: 0.28245 | train_mse: 0.11172 | train_mae: 0.24994 |  0:00:04s\n"
     ]
    },
    {
     "name": "stdout",
     "output_type": "stream",
     "text": [
      "epoch 51 | loss: 0.10619 | train_mse: 0.10846 | train_mae: 0.2473  |  0:00:05s\n",
      "epoch 52 | loss: 0.25845 | train_mse: 0.12433 | train_mae: 0.25985 |  0:00:05s\n"
     ]
    },
    {
     "name": "stdout",
     "output_type": "stream",
     "text": [
      "epoch 53 | loss: 0.19147 | train_mse: 0.15739 | train_mae: 0.27809 |  0:00:05s\n",
      "epoch 54 | loss: 0.13461 | train_mse: 0.14134 | train_mae: 0.25315 |  0:00:05s\n",
      "epoch 55 | loss: 0.2585  | train_mse: 0.13326 | train_mae: 0.26542 |  0:00:05s\n"
     ]
    },
    {
     "name": "stdout",
     "output_type": "stream",
     "text": [
      "epoch 56 | loss: 0.11382 | train_mse: 0.13469 | train_mae: 0.27388 |  0:00:05s\n",
      "epoch 57 | loss: 0.18175 | train_mse: 0.11419 | train_mae: 0.26211 |  0:00:05s\n",
      "epoch 58 | loss: 0.29858 | train_mse: 0.1285  | train_mae: 0.28052 |  0:00:05s\n"
     ]
    },
    {
     "name": "stdout",
     "output_type": "stream",
     "text": [
      "epoch 59 | loss: 0.23878 | train_mse: 0.11514 | train_mae: 0.265   |  0:00:05s\n",
      "epoch 60 | loss: 0.15322 | train_mse: 0.12151 | train_mae: 0.26446 |  0:00:05s\n",
      "epoch 61 | loss: 0.12425 | train_mse: 0.12065 | train_mae: 0.26591 |  0:00:06s\n"
     ]
    },
    {
     "name": "stdout",
     "output_type": "stream",
     "text": [
      "epoch 62 | loss: 0.12223 | train_mse: 0.09562 | train_mae: 0.23199 |  0:00:06s\n",
      "epoch 63 | loss: 0.22709 | train_mse: 0.09205 | train_mae: 0.23228 |  0:00:06s\n",
      "epoch 64 | loss: 0.2279  | train_mse: 0.0963  | train_mae: 0.2362  |  0:00:06s\n"
     ]
    },
    {
     "name": "stdout",
     "output_type": "stream",
     "text": [
      "epoch 65 | loss: 0.22095 | train_mse: 0.08776 | train_mae: 0.21983 |  0:00:06s\n",
      "epoch 66 | loss: 0.10623 | train_mse: 0.07691 | train_mae: 0.2095  |  0:00:06s\n",
      "epoch 67 | loss: 0.26101 | train_mse: 0.08027 | train_mae: 0.20937 |  0:00:06s\n"
     ]
    },
    {
     "name": "stdout",
     "output_type": "stream",
     "text": [
      "epoch 68 | loss: 0.12391 | train_mse: 0.09306 | train_mae: 0.21881 |  0:00:06s\n",
      "epoch 69 | loss: 0.11346 | train_mse: 0.11332 | train_mae: 0.24053 |  0:00:06s\n",
      "epoch 70 | loss: 0.09638 | train_mse: 0.12577 | train_mae: 0.26024 |  0:00:06s\n"
     ]
    },
    {
     "name": "stdout",
     "output_type": "stream",
     "text": [
      "epoch 71 | loss: 0.29282 | train_mse: 0.14554 | train_mae: 0.27559 |  0:00:06s\n",
      "epoch 72 | loss: 0.13434 | train_mse: 0.14602 | train_mae: 0.27967 |  0:00:06s\n"
     ]
    },
    {
     "name": "stdout",
     "output_type": "stream",
     "text": [
      "epoch 73 | loss: 0.14085 | train_mse: 0.13985 | train_mae: 0.27366 |  0:00:07s\n",
      "epoch 74 | loss: 0.20529 | train_mse: 0.11973 | train_mae: 0.2598  |  0:00:07s\n"
     ]
    },
    {
     "name": "stdout",
     "output_type": "stream",
     "text": [
      "epoch 75 | loss: 0.16427 | train_mse: 0.10152 | train_mae: 0.24014 |  0:00:07s\n",
      "epoch 76 | loss: 0.19662 | train_mse: 0.09888 | train_mae: 0.23893 |  0:00:07s\n",
      "epoch 77 | loss: 0.24545 | train_mse: 0.11296 | train_mae: 0.25321 |  0:00:07s\n"
     ]
    },
    {
     "name": "stdout",
     "output_type": "stream",
     "text": [
      "epoch 78 | loss: 0.29393 | train_mse: 0.12534 | train_mae: 0.26427 |  0:00:07s\n",
      "epoch 79 | loss: 0.27467 | train_mse: 0.12275 | train_mae: 0.26834 |  0:00:07s\n",
      "epoch 80 | loss: 0.19868 | train_mse: 0.14636 | train_mae: 0.27805 |  0:00:07s\n"
     ]
    },
    {
     "name": "stdout",
     "output_type": "stream",
     "text": [
      "epoch 81 | loss: 0.20164 | train_mse: 0.1453  | train_mae: 0.26106 |  0:00:07s\n",
      "epoch 82 | loss: 0.21692 | train_mse: 0.12671 | train_mae: 0.24462 |  0:00:07s\n",
      "epoch 83 | loss: 0.23116 | train_mse: 0.14544 | train_mae: 0.25496 |  0:00:08s\n"
     ]
    },
    {
     "name": "stdout",
     "output_type": "stream",
     "text": [
      "epoch 84 | loss: 0.18108 | train_mse: 0.205   | train_mae: 0.29931 |  0:00:08s\n",
      "epoch 85 | loss: 0.13255 | train_mse: 0.1797  | train_mae: 0.27488 |  0:00:08s\n",
      "epoch 86 | loss: 0.24481 | train_mse: 0.11242 | train_mae: 0.23901 |  0:00:08s\n"
     ]
    },
    {
     "name": "stdout",
     "output_type": "stream",
     "text": [
      "epoch 87 | loss: 0.2306  | train_mse: 0.12445 | train_mae: 0.25342 |  0:00:08s\n",
      "epoch 88 | loss: 0.30603 | train_mse: 0.11293 | train_mae: 0.24753 |  0:00:08s\n",
      "epoch 89 | loss: 0.19912 | train_mse: 0.09932 | train_mae: 0.22703 |  0:00:08s\n"
     ]
    },
    {
     "name": "stdout",
     "output_type": "stream",
     "text": [
      "epoch 90 | loss: 0.29225 | train_mse: 0.10195 | train_mae: 0.22621 |  0:00:08s\n",
      "epoch 91 | loss: 0.24883 | train_mse: 0.10752 | train_mae: 0.23258 |  0:00:08s\n",
      "epoch 92 | loss: 0.20483 | train_mse: 0.10698 | train_mae: 0.22709 |  0:00:08s\n"
     ]
    },
    {
     "name": "stdout",
     "output_type": "stream",
     "text": [
      "epoch 93 | loss: 0.09668 | train_mse: 0.09205 | train_mae: 0.22398 |  0:00:08s\n",
      "epoch 94 | loss: 0.16253 | train_mse: 0.09608 | train_mae: 0.23352 |  0:00:08s\n",
      "epoch 95 | loss: 0.22548 | train_mse: 0.09448 | train_mae: 0.22888 |  0:00:09s\n"
     ]
    },
    {
     "name": "stdout",
     "output_type": "stream",
     "text": [
      "epoch 96 | loss: 0.20148 | train_mse: 0.08712 | train_mae: 0.22591 |  0:00:09s\n",
      "epoch 97 | loss: 0.17487 | train_mse: 0.10688 | train_mae: 0.23969 |  0:00:09s\n",
      "epoch 98 | loss: 0.23197 | train_mse: 0.09034 | train_mae: 0.21931 |  0:00:09s\n"
     ]
    },
    {
     "name": "stdout",
     "output_type": "stream",
     "text": [
      "epoch 99 | loss: 0.21876 | train_mse: 0.09169 | train_mae: 0.21897 |  0:00:09s\n",
      "epoch 100| loss: 0.12052 | train_mse: 0.09832 | train_mae: 0.21984 |  0:00:09s\n",
      "epoch 101| loss: 0.26667 | train_mse: 0.10802 | train_mae: 0.22511 |  0:00:09s\n"
     ]
    },
    {
     "name": "stdout",
     "output_type": "stream",
     "text": [
      "epoch 102| loss: 0.26827 | train_mse: 0.12419 | train_mae: 0.24054 |  0:00:09s\n",
      "epoch 103| loss: 0.26254 | train_mse: 0.09089 | train_mae: 0.21115 |  0:00:09s\n",
      "epoch 104| loss: 0.22575 | train_mse: 0.06884 | train_mae: 0.19453 |  0:00:09s\n"
     ]
    },
    {
     "name": "stdout",
     "output_type": "stream",
     "text": [
      "epoch 105| loss: 0.19433 | train_mse: 0.07157 | train_mae: 0.20061 |  0:00:09s\n",
      "epoch 106| loss: 0.1396  | train_mse: 0.06645 | train_mae: 0.19123 |  0:00:10s\n",
      "epoch 107| loss: 0.09652 | train_mse: 0.0719  | train_mae: 0.20324 |  0:00:10s\n"
     ]
    },
    {
     "name": "stdout",
     "output_type": "stream",
     "text": [
      "epoch 108| loss: 0.10113 | train_mse: 0.10485 | train_mae: 0.23488 |  0:00:10s\n",
      "epoch 109| loss: 0.13741 | train_mse: 0.07945 | train_mae: 0.20905 |  0:00:10s\n",
      "epoch 110| loss: 0.12752 | train_mse: 0.09366 | train_mae: 0.21342 |  0:00:10s\n"
     ]
    },
    {
     "name": "stdout",
     "output_type": "stream",
     "text": [
      "epoch 111| loss: 0.12611 | train_mse: 0.09426 | train_mae: 0.21889 |  0:00:10s\n",
      "epoch 112| loss: 0.16736 | train_mse: 0.07721 | train_mae: 0.20003 |  0:00:10s\n",
      "epoch 113| loss: 0.2164  | train_mse: 0.05918 | train_mae: 0.19201 |  0:00:10s\n"
     ]
    },
    {
     "name": "stdout",
     "output_type": "stream",
     "text": [
      "epoch 114| loss: 0.12292 | train_mse: 0.08207 | train_mae: 0.21767 |  0:00:10s\n",
      "epoch 115| loss: 0.09238 | train_mse: 0.09087 | train_mae: 0.22028 |  0:00:10s\n",
      "epoch 116| loss: 0.12531 | train_mse: 0.08144 | train_mae: 0.19998 |  0:00:10s\n"
     ]
    },
    {
     "name": "stdout",
     "output_type": "stream",
     "text": [
      "epoch 117| loss: 0.08881 | train_mse: 0.0982  | train_mae: 0.21616 |  0:00:10s\n",
      "epoch 118| loss: 0.20855 | train_mse: 0.10827 | train_mae: 0.23755 |  0:00:11s\n",
      "epoch 119| loss: 0.21677 | train_mse: 0.10928 | train_mae: 0.23183 |  0:00:11s\n"
     ]
    },
    {
     "name": "stdout",
     "output_type": "stream",
     "text": [
      "epoch 120| loss: 0.17152 | train_mse: 0.11803 | train_mae: 0.24021 |  0:00:11s\n",
      "epoch 121| loss: 0.0912  | train_mse: 0.13349 | train_mae: 0.25128 |  0:00:11s\n",
      "epoch 122| loss: 0.35295 | train_mse: 0.13264 | train_mae: 0.24546 |  0:00:11s\n"
     ]
    },
    {
     "name": "stdout",
     "output_type": "stream",
     "text": [
      "epoch 123| loss: 0.11596 | train_mse: 0.12054 | train_mae: 0.2249  |  0:00:11s\n",
      "epoch 124| loss: 0.08021 | train_mse: 0.15383 | train_mae: 0.24682 |  0:00:11s\n",
      "epoch 125| loss: 0.15987 | train_mse: 0.17545 | train_mae: 0.26421 |  0:00:11s\n"
     ]
    },
    {
     "name": "stdout",
     "output_type": "stream",
     "text": [
      "epoch 126| loss: 0.10725 | train_mse: 0.08034 | train_mae: 0.21104 |  0:00:11s\n",
      "epoch 127| loss: 0.25953 | train_mse: 0.08598 | train_mae: 0.22371 |  0:00:11s\n",
      "epoch 128| loss: 0.14359 | train_mse: 0.08981 | train_mae: 0.23309 |  0:00:11s\n"
     ]
    },
    {
     "name": "stdout",
     "output_type": "stream",
     "text": [
      "epoch 129| loss: 0.17147 | train_mse: 0.12159 | train_mae: 0.27162 |  0:00:12s\n",
      "epoch 130| loss: 0.18138 | train_mse: 0.11033 | train_mae: 0.23331 |  0:00:12s\n",
      "epoch 131| loss: 0.10933 | train_mse: 0.11753 | train_mae: 0.22775 |  0:00:12s\n"
     ]
    },
    {
     "name": "stdout",
     "output_type": "stream",
     "text": [
      "epoch 132| loss: 0.13236 | train_mse: 0.10051 | train_mae: 0.21702 |  0:00:12s\n",
      "epoch 133| loss: 0.2314  | train_mse: 0.10823 | train_mae: 0.23666 |  0:00:12s\n",
      "epoch 134| loss: 0.15456 | train_mse: 0.09552 | train_mae: 0.22914 |  0:00:12s\n"
     ]
    },
    {
     "name": "stdout",
     "output_type": "stream",
     "text": [
      "epoch 135| loss: 0.16672 | train_mse: 0.08416 | train_mae: 0.22256 |  0:00:12s\n",
      "epoch 136| loss: 0.13444 | train_mse: 0.06935 | train_mae: 0.19944 |  0:00:12s\n",
      "epoch 137| loss: 0.10799 | train_mse: 0.0824  | train_mae: 0.21201 |  0:00:12s\n"
     ]
    },
    {
     "name": "stdout",
     "output_type": "stream",
     "text": [
      "epoch 138| loss: 0.07892 | train_mse: 0.10792 | train_mae: 0.23137 |  0:00:12s\n",
      "epoch 139| loss: 0.10912 | train_mse: 0.14761 | train_mae: 0.25756 |  0:00:12s\n",
      "epoch 140| loss: 0.1938  | train_mse: 0.14673 | train_mae: 0.2578  |  0:00:12s\n"
     ]
    },
    {
     "name": "stdout",
     "output_type": "stream",
     "text": [
      "epoch 141| loss: 0.13854 | train_mse: 0.1092  | train_mae: 0.23629 |  0:00:13s\n",
      "epoch 142| loss: 0.23944 | train_mse: 0.0729  | train_mae: 0.20508 |  0:00:13s\n",
      "epoch 143| loss: 0.12486 | train_mse: 0.09137 | train_mae: 0.22361 |  0:00:13s\n"
     ]
    },
    {
     "name": "stdout",
     "output_type": "stream",
     "text": [
      "epoch 144| loss: 0.142   | train_mse: 0.09823 | train_mae: 0.22819 |  0:00:13s\n",
      "epoch 145| loss: 0.26596 | train_mse: 0.14287 | train_mae: 0.25876 |  0:00:13s\n",
      "epoch 146| loss: 0.20769 | train_mse: 0.22345 | train_mae: 0.30998 |  0:00:13s\n"
     ]
    },
    {
     "name": "stdout",
     "output_type": "stream",
     "text": [
      "epoch 147| loss: 0.20151 | train_mse: 0.20621 | train_mae: 0.29371 |  0:00:13s\n",
      "epoch 148| loss: 0.13824 | train_mse: 0.16734 | train_mae: 0.25949 |  0:00:13s\n"
     ]
    },
    {
     "name": "stdout",
     "output_type": "stream",
     "text": [
      "epoch 149| loss: 0.12755 | train_mse: 0.13086 | train_mae: 0.25016 |  0:00:13s\n",
      "epoch 150| loss: 0.20301 | train_mse: 0.10348 | train_mae: 0.22774 |  0:00:13s\n"
     ]
    },
    {
     "name": "stdout",
     "output_type": "stream",
     "text": [
      "epoch 151| loss: 0.10553 | train_mse: 0.08395 | train_mae: 0.20731 |  0:00:14s\n",
      "epoch 152| loss: 0.10377 | train_mse: 0.10985 | train_mae: 0.23421 |  0:00:14s\n",
      "epoch 153| loss: 0.11272 | train_mse: 0.11157 | train_mae: 0.24655 |  0:00:14s\n"
     ]
    },
    {
     "name": "stdout",
     "output_type": "stream",
     "text": [
      "epoch 154| loss: 0.09054 | train_mse: 0.10046 | train_mae: 0.23086 |  0:00:14s\n",
      "epoch 155| loss: 0.17865 | train_mse: 0.0944  | train_mae: 0.22823 |  0:00:14s\n",
      "epoch 156| loss: 0.205   | train_mse: 0.08723 | train_mae: 0.22582 |  0:00:14s\n",
      "\n",
      "Early stopping occurred at epoch 156 with best_epoch = 106 and best_train_mae = 0.19123\n",
      "Best weights from best epoch are automatically used!\n"
     ]
    }
   ],
   "source": [
    "#Train the Model\n",
    "\n",
    "Y_train = np.reshape(Y_train, (-1, 1))\n",
    "Y_test = np.reshape(Y_test, (-1, 1))\n",
    "\n",
    "prior_model = TabNetRegressor(optimizer_fn=torch.optim.Adam, optimizer_params=dict(lr = 0.02),\n",
    "          #scheduler_params={\"step_size\":10, ], \"gamma\":0.9},\n",
    "          #scheduler_fn=torch.optim.lr_scheduler.StepLR\n",
    "          )  #TabNetRegressor()\n",
    "\n",
    "prior_model.fit(X_train,Y_train,eval_set=[(X_train, Y_train)],\n",
    "            eval_name=['train'], \n",
    "            eval_metric=[ 'mse', 'mae'], \n",
    "            max_epochs = n_epochs, \n",
    "            batch_size = batch_size,\n",
    "            patience=50\n",
    "            )"
   ]
  },
  {
   "cell_type": "code",
   "execution_count": 10,
   "id": "af65dcda",
   "metadata": {
    "execution": {
     "iopub.execute_input": "2022-06-22T14:32:32.595288Z",
     "iopub.status.busy": "2022-06-22T14:32:32.594098Z",
     "iopub.status.idle": "2022-06-22T14:32:32.625338Z",
     "shell.execute_reply": "2022-06-22T14:32:32.626514Z"
    },
    "id": "af65dcda",
    "papermill": {
     "duration": 0.087253,
     "end_time": "2022-06-22T14:32:32.626818",
     "exception": false,
     "start_time": "2022-06-22T14:32:32.539565",
     "status": "completed"
    },
    "tags": []
   },
   "outputs": [
    {
     "data": {
      "application/scrapbook.scrap.json+json": {
       "data": 0.10905723620369837,
       "encoder": "json",
       "name": "Prior Model MSE",
       "version": 1
      }
     },
     "metadata": {
      "scrapbook": {
       "data": true,
       "display": false,
       "name": "Prior Model MSE"
      }
     },
     "output_type": "display_data"
    },
    {
     "data": {
      "application/scrapbook.scrap.json+json": {
       "data": 0.10466940499269994,
       "encoder": "json",
       "name": "ABC Pre-generator MSE",
       "version": 1
      }
     },
     "metadata": {
      "scrapbook": {
       "data": true,
       "display": false,
       "name": "ABC Pre-generator MSE"
      }
     },
     "output_type": "display_data"
    },
    {
     "data": {
      "application/scrapbook.scrap.json+json": {
       "data": 0.26604860686183496,
       "encoder": "json",
       "name": "Prior Model MSE",
       "version": 1
      }
     },
     "metadata": {
      "scrapbook": {
       "data": true,
       "display": false,
       "name": "Prior Model MSE"
      }
     },
     "output_type": "display_data"
    },
    {
     "data": {
      "application/scrapbook.scrap.json+json": {
       "data": 0.26287387365674375,
       "encoder": "json",
       "name": "ABC Pre-generator MSE",
       "version": 1
      }
     },
     "metadata": {
      "scrapbook": {
       "data": true,
       "display": false,
       "name": "ABC Pre-generator MSE"
      }
     },
     "output_type": "display_data"
    }
   ],
   "source": [
    "y_pred = prior_model.predict(X_test)\n",
    "y_abc = y_pred + np.random.normal(0,variance, y_pred.shape) + bias \n",
    "mse = mean_squared_error(y_pred,Y_test)\n",
    "sb.glue(\"Prior Model MSE\",mse)\n",
    "mse = mean_squared_error(y_abc,Y_test)\n",
    "sb.glue(\"ABC Pre-generator MSE\",mse)\n",
    "mae = mean_absolute_error(y_pred,Y_test)\n",
    "sb.glue(\"Prior Model MSE\",mae)\n",
    "mae = mean_absolute_error(y_abc,Y_test)\n",
    "sb.glue(\"ABC Pre-generator MSE\",mae)"
   ]
  },
  {
   "cell_type": "markdown",
   "id": "25609da2",
   "metadata": {
    "papermill": {
     "duration": 0.051111,
     "end_time": "2022-06-22T14:32:32.714950",
     "exception": false,
     "start_time": "2022-06-22T14:32:32.663839",
     "status": "completed"
    },
    "tags": []
   },
   "source": [
    "# ABC GAN Model"
   ]
  },
  {
   "cell_type": "code",
   "execution_count": 11,
   "id": "dfc3464d",
   "metadata": {
    "execution": {
     "iopub.execute_input": "2022-06-22T14:32:32.821826Z",
     "iopub.status.busy": "2022-06-22T14:32:32.820396Z",
     "iopub.status.idle": "2022-06-22T14:32:32.823212Z",
     "shell.execute_reply": "2022-06-22T14:32:32.822619Z"
    },
    "papermill": {
     "duration": 0.065151,
     "end_time": "2022-06-22T14:32:32.823405",
     "exception": false,
     "start_time": "2022-06-22T14:32:32.758254",
     "status": "completed"
    },
    "tags": []
   },
   "outputs": [],
   "source": [
    "gen = network.Generator(n_features+1).to(device)\n",
    "disc = network.Discriminator(n_features+1).to(device)\n",
    "\n",
    "criterion = torch.nn.BCELoss()\n",
    "gen_opt = torch.optim.Adam(gen.parameters(), lr=0.001, betas=(0.5, 0.999))\n",
    "disc_opt = torch.optim.Adam(disc.parameters(), lr=0.001, betas=(0.5, 0.999))"
   ]
  },
  {
   "cell_type": "code",
   "execution_count": 12,
   "id": "b75fdd85",
   "metadata": {
    "execution": {
     "iopub.execute_input": "2022-06-22T14:32:32.980252Z",
     "iopub.status.busy": "2022-06-22T14:32:32.979456Z",
     "iopub.status.idle": "2022-06-22T14:33:31.608585Z",
     "shell.execute_reply": "2022-06-22T14:33:31.609317Z"
    },
    "papermill": {
     "duration": 58.70471,
     "end_time": "2022-06-22T14:33:31.609630",
     "exception": false,
     "start_time": "2022-06-22T14:32:32.904920",
     "status": "completed"
    },
    "tags": []
   },
   "outputs": [
    {
     "data": {
      "image/png": "[encoded data removed]",
      "text/plain": [
       "<Figure size 432x288 with 1 Axes>"
      ]
     },
     "metadata": {
      "needs_background": "light"
     },
     "output_type": "display_data"
    },
    {
     "data": {
      "image/png": "[encoded data removed]",
      "text/plain": [
       "<Figure size 432x288 with 1 Axes>"
      ]
     },
     "metadata": {
      "needs_background": "light"
     },
     "output_type": "display_data"
    }
   ],
   "source": [
    "#Training the ABC_GAN \n",
    "ABC_train_test2.training_GAN(disc,gen,disc_opt,gen_opt,train_data,batch_size,n_epochs,criterion,prior_model,variance,bias,device)"
   ]
  },
  {
   "cell_type": "code",
   "execution_count": 13,
   "id": "1fa7c368",
   "metadata": {
    "execution": {
     "iopub.execute_input": "2022-06-22T14:33:31.725599Z",
     "iopub.status.busy": "2022-06-22T14:33:31.724461Z",
     "iopub.status.idle": "2022-06-22T14:33:32.535231Z",
     "shell.execute_reply": "2022-06-22T14:33:32.535866Z"
    },
    "papermill": {
     "duration": 0.871028,
     "end_time": "2022-06-22T14:33:32.536091",
     "exception": false,
     "start_time": "2022-06-22T14:33:31.665063",
     "status": "completed"
    },
    "tags": []
   },
   "outputs": [
    {
     "data": {
      "application/scrapbook.scrap.json+json": {
       "data": 0.1622000588796143,
       "encoder": "json",
       "name": "ABC-GAN Model 1 MSE",
       "version": 1
      }
     },
     "metadata": {
      "scrapbook": {
       "data": true,
       "display": false,
       "name": "ABC-GAN Model 1 MSE"
      }
     },
     "output_type": "display_data"
    },
    {
     "data": {
      "application/scrapbook.scrap.json+json": {
       "data": 0.33500179351866244,
       "encoder": "json",
       "name": "ABC-GAN Model 1 MAE",
       "version": 1
      }
     },
     "metadata": {
      "scrapbook": {
       "data": true,
       "display": false,
       "name": "ABC-GAN Model 1 MAE"
      }
     },
     "output_type": "display_data"
    },
    {
     "data": {
      "application/scrapbook.scrap.json+json": {
       "data": 6.700035870373249,
       "encoder": "json",
       "name": "ABC-GAN Model 1 Manhattan Distance",
       "version": 1
      }
     },
     "metadata": {
      "scrapbook": {
       "data": true,
       "display": false,
       "name": "ABC-GAN Model 1 Manhattan Distance"
      }
     },
     "output_type": "display_data"
    },
    {
     "data": {
      "application/scrapbook.scrap.json+json": {
       "data": 1.8011058870295675,
       "encoder": "json",
       "name": "ABC-GAN Model 1 Euclidean distance",
       "version": 1
      }
     },
     "metadata": {
      "scrapbook": {
       "data": true,
       "display": false,
       "name": "ABC-GAN Model 1 Euclidean distance"
      }
     },
     "output_type": "display_data"
    },
    {
     "data": {
      "application/scrapbook.scrap.json+json": {
       "data": [
        [
         0.16124599654893693,
         0.16340651231306264,
         0.16174754544722364,
         0.16012874224900875,
         0.16211521491482378,
         0.16212851043865578,
         0.16158265108956976,
         0.1627145236932515,
         0.1626016456121397,
         0.16191211179655024,
         0.16282494724427793,
         0.16300675523475072,
         0.16096110347751727,
         0.16230235615465022,
         0.16228141918846659,
         0.16303300939808865,
         0.16179527680722564,
         0.16065677813106097,
         0.16188939346571468,
         0.16367752156830964,
         0.16310188942068318,
         0.16132415684976137,
         0.16239417572605194,
         0.16331637560515783,
         0.16233553153162217,
         0.1614347490807843,
         0.16167621767401688,
         0.16142224423731105,
         0.16369818120824445,
         0.16086216462419575,
         0.1617348631115399,
         0.1632222716731367,
         0.1617382677317291,
         0.16240114423343485,
         0.16339612988675128,
         0.16176459184797184,
         0.16368142516485804,
         0.16156311036996535,
         0.1629932890618596,
         0.16216446460073378,
         0.16183249543924064,
         0.16267817933501222,
         0.16227141896498537,
         0.16237434273473905,
         0.16312194951393405,
         0.16242544329367786,
         0.16204575782590647,
         0.1625009903550625,
         0.16191364121107804,
         0.16247170046873136,
         0.16209736372305072,
         0.1624619614481481,
         0.1631416872884443,
         0.16225270692031585,
         0.16253543112543117,
         0.16324636169046455,
         0.16170735834101646,
         0.16413562688684777,
         0.16101480354662168,
         0.1613076497456151,
         0.16233687659959162,
         0.16356978064185518,
         0.16245154544582802,
         0.16049857208065216,
         0.16253177799968926,
         0.16238312819447165,
         0.16274526161813432,
         0.161815026948445,
         0.16239128785866358,
         0.16166049256184095,
         0.1625663317903515,
         0.1631791070321404,
         0.16270033523651453,
         0.16331715279142472,
         0.16092290813745724,
         0.16252697148587333,
         0.16199329877888585,
         0.1618175943517126,
         0.1620059204690169,
         0.16123360213786028,
         0.1629113947458404,
         0.16198282223335703,
         0.16157669719580223,
         0.16232749036509347,
         0.1606905490858465,
         0.16224414873520746,
         0.16125177658813178,
         0.16218345658103597,
         0.16251187927081304,
         0.16280082748813726,
         0.16256999990216797,
         0.16198011659967237,
         0.16184468234523944,
         0.1622679429237029,
         0.16156889797916008,
         0.16290013384203367,
         0.16154758828853893,
         0.1614161216841032,
         0.16072421435025727,
         0.16228404732546178
        ],
        [
         0.3331508728675544,
         0.33614780930802224,
         0.3331825233064592,
         0.33336396468803287,
         0.33468509567901494,
         0.33570140292868017,
         0.3352209976874292,
         0.33489968506619333,
         0.3355042773298919,
         0.33409762000665066,
         0.33622051840648054,
         0.33609877033159136,
         0.33408828964456916,
         0.33479825472459196,
         0.3351073692552745,
         0.3354307665489614,
         0.33551719775423405,
         0.3324099536053836,
         0.3347600049339235,
         0.3373834925703704,
         0.33560192277655004,
         0.3347857809625566,
         0.3352747711353004,
         0.3368472187779844,
         0.335174763482064,
         0.33380314325913785,
         0.3341575778089464,
         0.3346993702463806,
         0.33674383191391827,
         0.3325884069316089,
         0.3343781138770282,
         0.33668264774605633,
         0.3347110747359693,
         0.33579855104908346,
         0.335607601236552,
         0.33471414251253007,
         0.3362690812908113,
         0.33449000446125865,
         0.33556939465925095,
         0.334748104121536,
         0.3358748867176473,
         0.3357125791721046,
         0.3347977652214468,
         0.33482385156676175,
         0.33653474813327194,
         0.3354542846791446,
         0.3350081047974527,
         0.33526586135849357,
         0.3343038412742317,
         0.3351030102930963,
         0.3347006137482822,
         0.3354762869887054,
         0.3361077788285911,
         0.33506881250068543,
         0.33561001447960737,
         0.3367584559135139,
         0.33384888311848043,
         0.33559099612757565,
         0.3339399266056716,
         0.33410502625629307,
         0.33641142351552844,
         0.3358190848492086,
         0.33501958129927517,
         0.33227674281224606,
         0.3357415216974914,
         0.33565493589267137,
         0.33529634354636073,
         0.33490155218169093,
         0.33510258747264743,
         0.3346588517539203,
         0.3351013763807714,
         0.33628977118059994,
         0.3348818811587989,
         0.33650260558351874,
         0.3335849634371698,
         0.33491428224369885,
         0.33463306492194533,
         0.33412196962162855,
         0.33485412774607537,
         0.33457009186968206,
         0.33473533345386386,
         0.33433463936671615,
         0.3344414114020765,
         0.3350755332969129,
         0.3339891924522817,
         0.3345571870915592,
         0.3334706570021808,
         0.3351591183803976,
         0.33622868536040185,
         0.33520492976531385,
         0.33526484509930016,
         0.3347680102102458,
         0.3347184452228248,
         0.33531735455617306,
         0.3347442946396768,
         0.3359904664568603,
         0.3351236219517887,
         0.3345005917362869,
         0.3333592697046697,
         0.3343589081428945
        ],
        [
         6.6630174573510885,
         6.722956186160445,
         6.663650466129184,
         6.667279293760657,
         6.693701913580298,
         6.714028058573604,
         6.704419953748584,
         6.697993701323867,
         6.710085546597838,
         6.681952400133014,
         6.724410368129611,
         6.721975406631827,
         6.681765792891383,
         6.695965094491839,
         6.702147385105491,
         6.708615330979228,
         6.7103439550846815,
         6.648199072107673,
         6.69520009867847,
         6.747669851407409,
         6.712038455531001,
         6.695715619251132,
         6.705495422706008,
         6.736944375559688,
         6.70349526964128,
         6.676062865182757,
         6.683151556178927,
         6.693987404927611,
         6.734876638278365,
         6.651768138632178,
         6.6875622775405645,
         6.733652954921126,
         6.694221494719386,
         6.715971020981669,
         6.71215202473104,
         6.694282850250602,
         6.725381625816226,
         6.689800089225173,
         6.7113878931850195,
         6.69496208243072,
         6.717497734352946,
         6.714251583442092,
         6.695955304428935,
         6.696477031335235,
         6.730694962665439,
         6.709085693582892,
         6.700162095949054,
         6.705317227169871,
         6.6860768254846334,
         6.702060205861926,
         6.694012274965644,
         6.709525739774108,
         6.722155576571822,
         6.701376250013709,
         6.712200289592147,
         6.735169118270278,
         6.676977662369609,
         6.711819922551513,
         6.678798532113433,
         6.682100525125861,
         6.728228470310569,
         6.716381696984172,
         6.700391625985503,
         6.645534856244922,
         6.714830433949828,
         6.713098717853427,
         6.705926870927215,
         6.698031043633819,
         6.702051749452949,
         6.693177035078406,
         6.702027527615428,
         6.725795423611999,
         6.697637623175979,
         6.730052111670375,
         6.671699268743396,
         6.698285644873977,
         6.692661298438907,
         6.6824393924325705,
         6.697082554921508,
         6.6914018373936415,
         6.694706669077277,
         6.686692787334323,
         6.68882822804153,
         6.701510665938258,
         6.679783849045634,
         6.691143741831183,
         6.669413140043616,
         6.703182367607951,
         6.724573707208037,
         6.704098595306277,
         6.705296901986003,
         6.695360204204917,
         6.694368904456496,
         6.706347091123462,
         6.694885892793536,
         6.719809329137206,
         6.702472439035773,
         6.690011834725738,
         6.667185394093394,
         6.68717816285789
        ],
        [
         1.7958062064094606,
         1.8077970699891215,
         1.7985969278702978,
         1.7895739283360648,
         1.8006399690933428,
         1.8007138053486222,
         1.7976798997016668,
         1.8039652086071474,
         1.80333937799927,
         1.799511665961353,
         1.8045772205382509,
         1.8055844219241077,
         1.7942190695537559,
         1.8016789733726162,
         1.8015627615404721,
         1.8057298214189665,
         1.7988622893775144,
         1.7925221233282504,
         1.7993854143329864,
         1.809295562191593,
         1.8061112336768363,
         1.7962413916273134,
         1.8021885346769462,
         1.807298401510707,
         1.801863099858711,
         1.7968569730548078,
         1.7982003096096768,
         1.7967873788365225,
         1.8094097446860642,
         1.7936675535014606,
         1.7985264141042794,
         1.8067776380791116,
         1.7985453440585206,
         1.8022272011787797,
         1.807739637706444,
         1.7986917014762251,
         1.809317137291625,
         1.7975711967539163,
         1.8055098396954783,
         1.800913460445747,
         1.799069178432228,
         1.8037637280697947,
         1.8015072520807982,
         1.8020784818355664,
         1.8062222981346125,
         1.8023620240877127,
         1.8002541921956825,
         1.8027811312250996,
         1.7995201649944241,
         1.8026186533414734,
         1.8005408283238162,
         1.802564625460891,
         1.806331571381314,
         1.80140338025838,
         1.8029721635423615,
         1.806910964549524,
         1.7983734781241434,
         1.8118257470675692,
         1.7945183395363875,
         1.7961494912485156,
         1.8018705647165205,
         1.8086999786689621,
         1.8025068401857898,
         1.7916393168305509,
         1.802951901741637,
         1.8021272329914537,
         1.8041355914572181,
         1.7989720784294847,
         1.8021725103810873,
         1.7981128583147439,
         1.803143542762758,
         1.8065387182794639,
         1.803886555393739,
         1.8073027017709278,
         1.7940061768982691,
         1.8029252424095314,
         1.7999627706088026,
         1.7989863498743544,
         1.80003289119403,
         1.7957371864382619,
         1.8050562027030645,
         1.7999045654331622,
         1.7976467795192814,
         1.8018184723500505,
         1.7927105125248002,
         1.801355871199289,
         1.7958383924403207,
         1.8010189148425728,
         1.8028415308662769,
         1.8044435568237498,
         1.8031638855199374,
         1.7998895332751528,
         1.7991369172202512,
         1.8014879567940658,
         1.7976033932943054,
         1.8049938162887633,
         1.797484844378605,
         1.7967533035122167,
         1.7928982924318784,
         1.8015773495770964
        ]
       ],
       "encoder": "json",
       "name": "ABC_GAN_1 Metrics",
       "version": 1
      }
     },
     "metadata": {
      "scrapbook": {
       "data": true,
       "display": false,
       "name": "ABC_GAN_1 Metrics"
      }
     },
     "output_type": "display_data"
    },
    {
     "name": "stdout",
     "output_type": "stream",
     "text": [
      "MSE\n",
      "0.1622000588796143\n"
     ]
    }
   ],
   "source": [
    "ABC_GAN1_metrics=ABC_train_test2.test_generator(gen,test_data,prior_model,variance,bias,\"1\",device)\n",
    "sb.glue(\"ABC_GAN_1 Metrics\",ABC_GAN1_metrics)\n",
    "\n",
    "print(\"MSE\")\n",
    "print(mean(ABC_GAN1_metrics[0]))"
   ]
  },
  {
   "cell_type": "code",
   "execution_count": 14,
   "id": "eb22ce5c",
   "metadata": {
    "execution": {
     "iopub.execute_input": "2022-06-22T14:33:32.633090Z",
     "iopub.status.busy": "2022-06-22T14:33:32.629747Z",
     "iopub.status.idle": "2022-06-22T14:33:33.555051Z",
     "shell.execute_reply": "2022-06-22T14:33:33.555546Z"
    },
    "papermill": {
     "duration": 0.979017,
     "end_time": "2022-06-22T14:33:33.555805",
     "exception": false,
     "start_time": "2022-06-22T14:33:32.576788",
     "status": "completed"
    },
    "tags": []
   },
   "outputs": [
    {
     "data": {
      "image/png": "[encoded data removed]",
      "text/plain": [
       "<Figure size 432x288 with 1 Axes>"
      ]
     },
     "metadata": {
      "needs_background": "light"
     },
     "output_type": "display_data"
    },
    {
     "data": {
      "image/png": "[encoded data removed]",
      "text/plain": [
       "<Figure size 432x288 with 1 Axes>"
      ]
     },
     "metadata": {
      "needs_background": "light"
     },
     "output_type": "display_data"
    },
    {
     "data": {
      "image/png": "[encoded data removed]",
      "text/plain": [
       "<Figure size 432x288 with 1 Axes>"
      ]
     },
     "metadata": {
      "needs_background": "light"
     },
     "output_type": "display_data"
    },
    {
     "data": {
      "image/png": "[encoded data removed]",
      "text/plain": [
       "<Figure size 432x288 with 1 Axes>"
      ]
     },
     "metadata": {
      "needs_background": "light"
     },
     "output_type": "display_data"
    }
   ],
   "source": [
    "sanityChecks.discProbVsError(train_data,disc,device)\n",
    "sanityChecks.discProbVsError(test_data,disc,device)"
   ]
  },
  {
   "cell_type": "markdown",
   "id": "130f3a4d",
   "metadata": {
    "id": "130f3a4d",
    "papermill": {
     "duration": 0.051371,
     "end_time": "2022-06-22T14:33:33.650125",
     "exception": false,
     "start_time": "2022-06-22T14:33:33.598754",
     "status": "completed"
    },
    "tags": []
   },
   "source": [
    "# ABC - GAN Model with skip connection"
   ]
  },
  {
   "cell_type": "code",
   "execution_count": 15,
   "id": "4e43dad1",
   "metadata": {
    "execution": {
     "iopub.execute_input": "2022-06-22T14:33:33.792017Z",
     "iopub.status.busy": "2022-06-22T14:33:33.791006Z",
     "iopub.status.idle": "2022-06-22T14:33:33.796034Z",
     "shell.execute_reply": "2022-06-22T14:33:33.796906Z"
    },
    "id": "4e43dad1",
    "papermill": {
     "duration": 0.0965,
     "end_time": "2022-06-22T14:33:33.797182",
     "exception": false,
     "start_time": "2022-06-22T14:33:33.700682",
     "status": "completed"
    },
    "tags": []
   },
   "outputs": [],
   "source": [
    "#Generator\n",
    "gen3 = network.GeneratorWithSkipConnection(n_features+1).to(device)\n",
    "constraints=network.weightConstraint()\n",
    "#Discriminator \n",
    "disc3 = network.Discriminator(n_features+1).to(device)\n",
    "\n",
    "criterion = torch.nn.BCELoss()\n",
    "gen_opt = torch.optim.Adam(gen3.parameters(), lr=0.001, betas=(0.5, 0.999))\n",
    "disc_opt = torch.optim.Adam(disc3.parameters(), lr=0.001, betas=(0.5, 0.999))\n"
   ]
  },
  {
   "cell_type": "code",
   "execution_count": 16,
   "id": "26acbc37",
   "metadata": {
    "execution": {
     "iopub.execute_input": "2022-06-22T14:33:33.917122Z",
     "iopub.status.busy": "2022-06-22T14:33:33.916371Z",
     "iopub.status.idle": "2022-06-22T14:34:58.327902Z",
     "shell.execute_reply": "2022-06-22T14:34:58.328604Z"
    },
    "id": "26acbc37",
    "papermill": {
     "duration": 84.478443,
     "end_time": "2022-06-22T14:34:58.328835",
     "exception": false,
     "start_time": "2022-06-22T14:33:33.850392",
     "status": "completed"
    },
    "tags": []
   },
   "outputs": [
    {
     "data": {
      "image/png": "[encoded data removed]",
      "text/plain": [
       "<Figure size 432x288 with 1 Axes>"
      ]
     },
     "metadata": {
      "needs_background": "light"
     },
     "output_type": "display_data"
    },
    {
     "data": {
      "image/png": "[encoded data removed]",
      "text/plain": [
       "<Figure size 432x288 with 1 Axes>"
      ]
     },
     "metadata": {
      "needs_background": "light"
     },
     "output_type": "display_data"
    }
   ],
   "source": [
    "ABC_train_test2.training_GAN_skip_connection(disc3,gen3,disc_opt,gen_opt,train_data,batch_size,n_epochs,criterion,prior_model,variance,bias,device)"
   ]
  },
  {
   "cell_type": "code",
   "execution_count": 17,
   "id": "c5e0717b",
   "metadata": {
    "execution": {
     "iopub.execute_input": "2022-06-22T14:34:58.464413Z",
     "iopub.status.busy": "2022-06-22T14:34:58.462471Z",
     "iopub.status.idle": "2022-06-22T14:34:59.505073Z",
     "shell.execute_reply": "2022-06-22T14:34:59.505844Z"
    },
    "id": "c5e0717b",
    "papermill": {
     "duration": 1.110227,
     "end_time": "2022-06-22T14:34:59.506070",
     "exception": false,
     "start_time": "2022-06-22T14:34:58.395843",
     "status": "completed"
    },
    "tags": []
   },
   "outputs": [
    {
     "data": {
      "application/scrapbook.scrap.json+json": {
       "data": 0.16027904875544927,
       "encoder": "json",
       "name": "ABC-GAN Model 3 MSE",
       "version": 1
      }
     },
     "metadata": {
      "scrapbook": {
       "data": true,
       "display": false,
       "name": "ABC-GAN Model 3 MSE"
      }
     },
     "output_type": "display_data"
    },
    {
     "data": {
      "application/scrapbook.scrap.json+json": {
       "data": 0.31544239046424627,
       "encoder": "json",
       "name": "ABC-GAN Model 3 MAE",
       "version": 1
      }
     },
     "metadata": {
      "scrapbook": {
       "data": true,
       "display": false,
       "name": "ABC-GAN Model 3 MAE"
      }
     },
     "output_type": "display_data"
    },
    {
     "data": {
      "application/scrapbook.scrap.json+json": {
       "data": 6.308847809284925,
       "encoder": "json",
       "name": "ABC-GAN Model 3 Manhattan Distance",
       "version": 1
      }
     },
     "metadata": {
      "scrapbook": {
       "data": true,
       "display": false,
       "name": "ABC-GAN Model 3 Manhattan Distance"
      }
     },
     "output_type": "display_data"
    },
    {
     "data": {
      "application/scrapbook.scrap.json+json": {
       "data": 1.7903932872854194,
       "encoder": "json",
       "name": "ABC-GAN Model 3 Euclidean distance",
       "version": 1
      }
     },
     "metadata": {
      "scrapbook": {
       "data": true,
       "display": false,
       "name": "ABC-GAN Model 3 Euclidean distance"
      }
     },
     "output_type": "display_data"
    },
    {
     "data": {
      "application/scrapbook.scrap.json+json": {
       "data": [
        [
         0.15921811052134824,
         0.1616351009948916,
         0.16163148867606653,
         0.15782078080549578,
         0.16050641390765236,
         0.16033012563702917,
         0.1583103379993556,
         0.1589840789254014,
         0.16292258611313087,
         0.16005532821393859,
         0.1598728296237676,
         0.15911055257447684,
         0.15845754883105884,
         0.1623504489385737,
         0.16175672321717044,
         0.1591950239166779,
         0.15909402945469303,
         0.15799734863375664,
         0.15915946842581724,
         0.16060416301475616,
         0.15926370822427277,
         0.15983872095159288,
         0.16027510372207415,
         0.1622526087309219,
         0.1613875261411794,
         0.16207194529509272,
         0.15980588215466188,
         0.15847084010378026,
         0.15959650593522087,
         0.16046380183670997,
         0.1580817496188452,
         0.1620927326210428,
         0.16103741792582854,
         0.16006825201366454,
         0.1615881909447438,
         0.15791259614940456,
         0.15902046590534838,
         0.16172135868822712,
         0.1599676226155992,
         0.1595943584842318,
         0.1621241821448578,
         0.1578805426457551,
         0.1574050516345894,
         0.15897573190002834,
         0.1594237528058046,
         0.15840382694074456,
         0.15951851415548332,
         0.16038605626562252,
         0.16210593971443663,
         0.16104710430576438,
         0.16300394060925655,
         0.15807551421876082,
         0.1581908180052759,
         0.15797889676000124,
         0.16148248251058428,
         0.15764315179543814,
         0.1602566100547394,
         0.15875958277571942,
         0.16211824354950885,
         0.16042644105940526,
         0.16188811197820557,
         0.1592181407531043,
         0.15836118665698035,
         0.15999460381647318,
         0.16259334315626464,
         0.16230384694029748,
         0.15975622104771214,
         0.1625933033362938,
         0.16249394863713992,
         0.1619646609804434,
         0.15876323338946602,
         0.16059498653759713,
         0.15890102617951868,
         0.16142892407864906,
         0.1607475690324093,
         0.1581633388196197,
         0.16307444906310747,
         0.16083758062446582,
         0.1594974735035895,
         0.16248364829953427,
         0.1618337458329127,
         0.16192290690033437,
         0.15875176187420753,
         0.16091554835980867,
         0.160345605846126,
         0.16091359688993176,
         0.16121511889805712,
         0.16329249781005759,
         0.16041980749235715,
         0.16241807696410476,
         0.15973221106479757,
         0.16069495930846744,
         0.15981133667974,
         0.1613470069997241,
         0.15925264472531708,
         0.16276091072565985,
         0.1604358209676746,
         0.16029421906158298,
         0.158673601497366,
         0.15848364047654914
        ],
        [
         0.316431428398937,
         0.3148087820969522,
         0.31624297676607965,
         0.313232487719506,
         0.3164969990961254,
         0.31512478506192565,
         0.31271728901192547,
         0.3148277479223907,
         0.3181773233227432,
         0.3145146950148046,
         0.31644299244508145,
         0.3124418235383928,
         0.31320393895730375,
         0.31783322570845485,
         0.3185751083306968,
         0.3136605787090957,
         0.3147591627202928,
         0.31359726591035725,
         0.3145535449497402,
         0.3159290443174541,
         0.31497594406828283,
         0.3140966254286468,
         0.3156774397008121,
         0.3172518151812255,
         0.31543959183618425,
         0.3189367591403425,
         0.3162807709537446,
         0.314044042583555,
         0.3148827782832086,
         0.31568804224953056,
         0.31288559092208745,
         0.31745287952944634,
         0.31492525367066265,
         0.3160932040773332,
         0.31692851735278965,
         0.3129791430197656,
         0.31364330938085916,
         0.31644969088956715,
         0.31524413889274,
         0.31516559375450015,
         0.31763342646881937,
         0.31317686578258874,
         0.3135695247910917,
         0.31509605860337614,
         0.31495133256539704,
         0.31502761049196126,
         0.31495425691828133,
         0.3162702965550125,
         0.3177464562468231,
         0.31600630236789584,
         0.3185963428579271,
         0.3127382076345384,
         0.3130849375389516,
         0.3135508245788515,
         0.3182280066423118,
         0.31310505187138915,
         0.31439281357452276,
         0.3137832312844694,
         0.31674843272194264,
         0.3165735180489719,
         0.3159406344406307,
         0.3130165758542717,
         0.31157172909006475,
         0.3150686859153211,
         0.3183232485316694,
         0.3186280152760446,
         0.31634845128282907,
         0.3165503947995603,
         0.3170303168706596,
         0.315821077581495,
         0.3135546072386205,
         0.3154742679558694,
         0.3133863925002515,
         0.3165371003560722,
         0.3161592255346477,
         0.3143503270111978,
         0.31846869802102445,
         0.31694646207615734,
         0.31426244182512164,
         0.3168712775222957,
         0.3180111925117671,
         0.3158527976833284,
         0.3126364744268358,
         0.3169820270501077,
         0.31695821238681676,
         0.3139702103100717,
         0.3158768835477531,
         0.31565671479329466,
         0.31533536305651066,
         0.3166317421011627,
         0.31508592432364824,
         0.31583903161808846,
         0.3140153492800891,
         0.31849963357672095,
         0.3137451007030904,
         0.31774546643719076,
         0.3155032883398235,
         0.3154008573852479,
         0.3153782765381038,
         0.31295874221250414
        ],
        [
         6.32862856797874,
         6.296175641939044,
         6.324859535321593,
         6.2646497543901205,
         6.329939981922507,
         6.302495701238513,
         6.254345780238509,
         6.296554958447814,
         6.3635464664548635,
         6.290293900296092,
         6.3288598489016294,
         6.248836470767856,
         6.264078779146075,
         6.356664514169097,
         6.371502166613936,
         6.273211574181914,
         6.295183254405856,
         6.271945318207145,
         6.291070898994803,
         6.318580886349082,
         6.299518881365657,
         6.281932508572936,
         6.313548794016242,
         6.345036303624511,
         6.308791836723685,
         6.3787351828068495,
         6.325615419074893,
         6.2808808516711,
         6.297655565664172,
         6.313760844990611,
         6.257711818441749,
         6.349057590588927,
         6.298505073413253,
         6.321864081546664,
         6.338570347055793,
         6.259582860395312,
         6.272866187617183,
         6.328993817791343,
         6.3048827778548,
         6.303311875090003,
         6.352668529376388,
         6.263537315651774,
         6.271390495821834,
         6.301921172067523,
         6.2990266513079405,
         6.300552209839225,
         6.299085138365626,
         6.325405931100249,
         6.3549291249364614,
         6.320126047357917,
         6.371926857158542,
         6.254764152690768,
         6.261698750779033,
         6.271016491577029,
         6.364560132846236,
         6.262101037427783,
         6.287856271490455,
         6.275664625689387,
         6.334968654438853,
         6.331470360979438,
         6.3188126888126135,
         6.260331517085433,
         6.231434581801295,
         6.301373718306422,
         6.366464970633388,
         6.372560305520892,
         6.326969025656581,
         6.331007895991206,
         6.340606337413192,
         6.316421551629901,
         6.27109214477241,
         6.309485359117389,
         6.267727850005031,
         6.330742007121444,
         6.323184510692954,
         6.287006540223956,
         6.369373960420489,
         6.338929241523147,
         6.285248836502433,
         6.337425550445914,
         6.360223850235343,
         6.317055953666568,
         6.2527294885367155,
         6.339640541002154,
         6.339164247736335,
         6.279404206201434,
         6.317537670955062,
         6.313134295865893,
         6.306707261130214,
         6.332634842023253,
         6.301718486472964,
         6.31678063236177,
         6.280306985601783,
         6.369992671534419,
         6.274902014061809,
         6.354909328743815,
         6.31006576679647,
         6.308017147704959,
         6.307565530762076,
         6.259174844250083
        ],
        [
         1.7844781339167382,
         1.7979716404598354,
         1.7979515492697045,
         1.7766304106678787,
         1.7916830853008145,
         1.7906988894676243,
         1.7793838146917915,
         1.783166166824625,
         1.8051182017426495,
         1.789163649384475,
         1.788143336669449,
         1.783875290341098,
         1.780210935990782,
         1.8019458867489537,
         1.7986479545323504,
         1.7843487546815386,
         1.78378266307694,
         1.7776239683001387,
         1.7841494804293572,
         1.7922285736744414,
         1.7847336396463913,
         1.7879525774001548,
         1.7903915980705123,
         1.8014028351866327,
         1.7965941452714322,
         1.8003996517167666,
         1.78776890091903,
         1.7802855956490817,
         1.78659735774584,
         1.79144523687837,
         1.7780987015283778,
         1.8005151075236372,
         1.7946443543266646,
         1.7892358816749934,
         1.797710716131735,
         1.7771471303716222,
         1.7833702134181135,
         1.7984513264930309,
         1.7886733777612904,
         1.7865853379238943,
         1.8006897686434373,
         1.7769667562774218,
         1.7742888808454467,
         1.7831193560725447,
         1.7856301565878896,
         1.7799091377974583,
         1.7861607663112709,
         1.7910112018947424,
         1.8005884577794928,
         1.7946983273283807,
         1.805568833410992,
         1.7780636333875164,
         1.7787119947044598,
         1.7775201644988516,
         1.7971226029994964,
         1.775630320733672,
         1.7902883011109658,
         1.7819067471431795,
         1.8006567887829643,
         1.791236673694491,
         1.7993782925121975,
         1.784478303331841,
         1.7796695572885455,
         1.7888242161625227,
         1.803293338069348,
         1.8016872477780237,
         1.7874910967482447,
         1.80329311725129,
         1.8027420704978288,
         1.7998036614055624,
         1.7819272341454688,
         1.7921773714540485,
         1.782700345989301,
         1.796824555033958,
         1.7930285498697964,
         1.7785574987591473,
         1.805959296679233,
         1.7935304883077163,
         1.7860429642289655,
         1.8026849325355458,
         1.7990761286444366,
         1.7995716540351172,
         1.7818628559696033,
         1.7939651521688411,
         1.790785335243317,
         1.7939542741660488,
         1.7956342550645277,
         1.8071662779614805,
         1.791199639863503,
         1.8023211532027514,
         1.7873567694492196,
         1.7927351132192813,
         1.7877994108945219,
         1.7963685980317297,
         1.7846716489333105,
         1.8042223295683923,
         1.791289038472991,
         1.7904983611362675,
         1.7814241577870555,
         1.780357494867529
        ]
       ],
       "encoder": "json",
       "name": "ABC_GAN_3 Metrics",
       "version": 1
      }
     },
     "metadata": {
      "scrapbook": {
       "data": true,
       "display": false,
       "name": "ABC_GAN_3 Metrics"
      }
     },
     "output_type": "display_data"
    },
    {
     "name": "stdout",
     "output_type": "stream",
     "text": [
      "MSE\n",
      "0.16027904875544927\n"
     ]
    }
   ],
   "source": [
    "ABC_GAN3_metrics=ABC_train_test2.test_generator(gen3,test_data,prior_model,variance,bias,\"3\",device)\n",
    "sb.glue(\"ABC_GAN_3 Metrics\",ABC_GAN3_metrics)\n",
    "\n",
    "print(\"MSE\")\n",
    "print(mean(ABC_GAN3_metrics[0]))"
   ]
  },
  {
   "cell_type": "code",
   "execution_count": 18,
   "id": "c8e46b48",
   "metadata": {
    "execution": {
     "iopub.execute_input": "2022-06-22T14:34:59.632131Z",
     "iopub.status.busy": "2022-06-22T14:34:59.631304Z",
     "iopub.status.idle": "2022-06-22T14:35:00.576860Z",
     "shell.execute_reply": "2022-06-22T14:35:00.578751Z"
    },
    "id": "c8e46b48",
    "papermill": {
     "duration": 1.016398,
     "end_time": "2022-06-22T14:35:00.579016",
     "exception": false,
     "start_time": "2022-06-22T14:34:59.562618",
     "status": "completed"
    },
    "tags": []
   },
   "outputs": [
    {
     "data": {
      "image/png": "[encoded data removed]",
      "text/plain": [
       "<Figure size 432x288 with 1 Axes>"
      ]
     },
     "metadata": {
      "needs_background": "light"
     },
     "output_type": "display_data"
    },
    {
     "data": {
      "image/png": "[encoded data removed]",
      "text/plain": [
       "<Figure size 432x288 with 1 Axes>"
      ]
     },
     "metadata": {
      "needs_background": "light"
     },
     "output_type": "display_data"
    },
    {
     "data": {
      "image/png": "[encoded data removed]",
      "text/plain": [
       "<Figure size 432x288 with 1 Axes>"
      ]
     },
     "metadata": {
      "needs_background": "light"
     },
     "output_type": "display_data"
    },
    {
     "data": {
      "image/png": "[encoded data removed]",
      "text/plain": [
       "<Figure size 432x288 with 1 Axes>"
      ]
     },
     "metadata": {
      "needs_background": "light"
     },
     "output_type": "display_data"
    }
   ],
   "source": [
    "sanityChecks.discProbVsError(train_data,disc3,device)\n",
    "sanityChecks.discProbVsError(test_data,disc3,device)"
   ]
  },
  {
   "cell_type": "markdown",
   "id": "a5bd74c3",
   "metadata": {
    "id": "a5bd74c3",
    "papermill": {
     "duration": 0.069131,
     "end_time": "2022-06-22T14:35:00.706488",
     "exception": false,
     "start_time": "2022-06-22T14:35:00.637357",
     "status": "completed"
    },
    "tags": []
   },
   "source": [
    "## Skip Connection Model Analysis - ABC-GAN "
   ]
  },
  {
   "cell_type": "markdown",
   "id": "5744a8bf",
   "metadata": {
    "id": "5744a8bf",
    "papermill": {
     "duration": 0.066128,
     "end_time": "2022-06-22T14:35:00.844779",
     "exception": false,
     "start_time": "2022-06-22T14:35:00.778651",
     "status": "completed"
    },
    "tags": []
   },
   "source": [
    "### Weight Analysis \n",
    "\n",
    "Study the weights of the skip connection layer\n",
    "\n",
    "Equation of the skip connection is \n",
    "\n",
    "$output = y_{gan} * w + y_{abc} * (1-w)$"
   ]
  },
  {
   "cell_type": "code",
   "execution_count": 19,
   "id": "52c31dea",
   "metadata": {
    "execution": {
     "iopub.execute_input": "2022-06-22T14:35:00.995816Z",
     "iopub.status.busy": "2022-06-22T14:35:00.994923Z",
     "iopub.status.idle": "2022-06-22T14:35:01.004469Z",
     "shell.execute_reply": "2022-06-22T14:35:01.004991Z"
    },
    "id": "52c31dea",
    "papermill": {
     "duration": 0.104343,
     "end_time": "2022-06-22T14:35:01.005211",
     "exception": false,
     "start_time": "2022-06-22T14:35:00.900868",
     "status": "completed"
    },
    "tags": []
   },
   "outputs": [
    {
     "name": "stdout",
     "output_type": "stream",
     "text": [
      "Weight of the node at skip connection\n",
      "Parameter containing:\n",
      "tensor([[0.4210]], requires_grad=True)\n"
     ]
    },
    {
     "data": {
      "application/scrapbook.scrap.json+json": {
       "data": 0.42099276185035706,
       "encoder": "json",
       "name": "Skip Connection Weight",
       "version": 1
      }
     },
     "metadata": {
      "scrapbook": {
       "data": true,
       "display": false,
       "name": "Skip Connection Weight"
      }
     },
     "output_type": "display_data"
    }
   ],
   "source": [
    "print(\"Weight of the node at skip connection\")\n",
    "for name,param in gen3.named_parameters():\n",
    "    if(name == \"skipNode.weight\"):\n",
    "        print(param)\n",
    "        sb.glue(\"Skip Connection Weight\",param.item())"
   ]
  }
 ],
 "metadata": {
  "colab": {
   "collapsed_sections": [],
   "name": "ABC_GAN_Model-Catboost_Pre-gen.ipynb",
   "provenance": []
  },
  "interpreter": {
   "hash": "31f2aee4e71d21fbe5cf8b01ff0e069b9275f58929596ceb00d14d90e3e16cd6"
  },
  "kernelspec": {
   "display_name": "Python 3 (ipykernel)",
   "language": "python",
   "name": "python3"
  },
  "language_info": {
   "codemirror_mode": {
    "name": "ipython",
    "version": 3
   },
   "file_extension": ".py",
   "mimetype": "text/x-python",
   "name": "python",
   "nbconvert_exporter": "python",
   "pygments_lexer": "ipython3",
   "version": "3.8.3"
  },
  "papermill": {
   "default_parameters": {},
   "duration": 175.695953,
   "end_time": "2022-06-22T14:35:02.481830",
   "environment_variables": {},
   "exception": null,
   "input_path": "ABC_GAN-TabNet.ipynb",
   "output_path": "./ABC_GAN_TabNet/ABC-GAN_output_6_8.ipynb",
   "parameters": {
    "bias": 0.01,
    "variance": 0.01
   },
   "start_time": "2022-06-22T14:32:06.785877",
   "version": "2.3.3"
  }
 },
 "nbformat": 4,
 "nbformat_minor": 5
}