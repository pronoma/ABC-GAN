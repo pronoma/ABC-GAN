{
 "cells": [
  {
   "cell_type": "markdown",
   "id": "622780e6",
   "metadata": {
    "id": "622780e6",
    "papermill": {
     "duration": 0.028801,
     "end_time": "2022-06-22T14:17:14.159417",
     "exception": false,
     "start_time": "2022-06-22T14:17:14.130616",
     "status": "completed"
    },
    "tags": []
   },
   "source": [
    "## Import Libraries "
   ]
  },
  {
   "cell_type": "code",
   "execution_count": 1,
   "id": "a62397e3",
   "metadata": {
    "execution": {
     "iopub.execute_input": "2022-06-22T14:17:14.327682Z",
     "iopub.status.busy": "2022-06-22T14:17:14.323569Z",
     "iopub.status.idle": "2022-06-22T14:17:14.328841Z",
     "shell.execute_reply": "2022-06-22T14:17:14.329491Z"
    },
    "id": "a62397e3",
    "papermill": {
     "duration": 0.131336,
     "end_time": "2022-06-22T14:17:14.329868",
     "exception": false,
     "start_time": "2022-06-22T14:17:14.198532",
     "status": "completed"
    },
    "tags": []
   },
   "outputs": [],
   "source": [
    "import warnings\n",
    "import sys\n",
    "sys.path.insert(0, '../../src')\n",
    "warnings.filterwarnings('ignore')"
   ]
  },
  {
   "cell_type": "code",
   "execution_count": 2,
   "id": "d6a4e155",
   "metadata": {
    "execution": {
     "iopub.execute_input": "2022-06-22T14:17:14.410364Z",
     "iopub.status.busy": "2022-06-22T14:17:14.406816Z",
     "iopub.status.idle": "2022-06-22T14:17:21.771586Z",
     "shell.execute_reply": "2022-06-22T14:17:21.772447Z"
    },
    "id": "d6a4e155",
    "papermill": {
     "duration": 7.420277,
     "end_time": "2022-06-22T14:17:21.772700",
     "exception": false,
     "start_time": "2022-06-22T14:17:14.352423",
     "status": "completed"
    },
    "tags": []
   },
   "outputs": [],
   "source": [
    "import ABC_train_test2\n",
    "import friedman3Dataset\n",
    "import network\n",
    "import dataset\n",
    "import sanityChecks\n",
    "import torch \n",
    "import scrapbook as sb\n",
    "from statistics import mean \n",
    "import catboost as ctb \n",
    "from sklearn.model_selection import train_test_split\n",
    "from sklearn.metrics import mean_squared_error,mean_absolute_error\n",
    "import numpy as np\n",
    "from pytorch_tabnet.tab_model import TabNetRegressor"
   ]
  },
  {
   "cell_type": "markdown",
   "id": "2fa5b0f7",
   "metadata": {
    "id": "2fa5b0f7",
    "papermill": {
     "duration": 0.031874,
     "end_time": "2022-06-22T14:17:21.827540",
     "exception": false,
     "start_time": "2022-06-22T14:17:21.795666",
     "status": "completed"
    },
    "tags": []
   },
   "source": [
    "## Parameters "
   ]
  },
  {
   "cell_type": "code",
   "execution_count": 3,
   "id": "783186fb",
   "metadata": {
    "execution": {
     "iopub.execute_input": "2022-06-22T14:17:21.874215Z",
     "iopub.status.busy": "2022-06-22T14:17:21.873187Z",
     "iopub.status.idle": "2022-06-22T14:17:21.878147Z",
     "shell.execute_reply": "2022-06-22T14:17:21.878754Z"
    },
    "id": "783186fb",
    "papermill": {
     "duration": 0.030194,
     "end_time": "2022-06-22T14:17:21.878988",
     "exception": false,
     "start_time": "2022-06-22T14:17:21.848794",
     "status": "completed"
    },
    "tags": [
     "parameters"
    ]
   },
   "outputs": [],
   "source": [
    "variance = 1\n",
    "bias = 1 "
   ]
  },
  {
   "cell_type": "code",
   "execution_count": 4,
   "id": "65aac140",
   "metadata": {
    "execution": {
     "iopub.execute_input": "2022-06-22T14:17:21.929503Z",
     "iopub.status.busy": "2022-06-22T14:17:21.927064Z",
     "iopub.status.idle": "2022-06-22T14:17:21.930855Z",
     "shell.execute_reply": "2022-06-22T14:17:21.931417Z"
    },
    "papermill": {
     "duration": 0.034902,
     "end_time": "2022-06-22T14:17:21.931695",
     "exception": false,
     "start_time": "2022-06-22T14:17:21.896793",
     "status": "completed"
    },
    "tags": [
     "injected-parameters"
    ]
   },
   "outputs": [],
   "source": [
    "# Parameters\n",
    "variance = 1\n",
    "bias = 0.1\n"
   ]
  },
  {
   "cell_type": "markdown",
   "id": "391cdbfd",
   "metadata": {
    "id": "391cdbfd",
    "papermill": {
     "duration": 0.01789,
     "end_time": "2022-06-22T14:17:21.972099",
     "exception": false,
     "start_time": "2022-06-22T14:17:21.954209",
     "status": "completed"
    },
    "tags": []
   },
   "source": [
    "## Dataset \n"
   ]
  },
  {
   "cell_type": "code",
   "execution_count": 5,
   "id": "5b51f161",
   "metadata": {
    "execution": {
     "iopub.execute_input": "2022-06-22T14:17:22.015716Z",
     "iopub.status.busy": "2022-06-22T14:17:22.014489Z",
     "iopub.status.idle": "2022-06-22T14:17:22.016835Z",
     "shell.execute_reply": "2022-06-22T14:17:22.017545Z"
    },
    "id": "5b51f161",
    "papermill": {
     "duration": 0.03024,
     "end_time": "2022-06-22T14:17:22.017774",
     "exception": false,
     "start_time": "2022-06-22T14:17:21.987534",
     "status": "completed"
    },
    "tags": []
   },
   "outputs": [],
   "source": [
    "#Parameters \n",
    "n_features = 4\n",
    "n_samples= 100\n",
    "n_target = 1"
   ]
  },
  {
   "cell_type": "code",
   "execution_count": 6,
   "id": "5d6eced4",
   "metadata": {
    "execution": {
     "iopub.execute_input": "2022-06-22T14:17:22.085103Z",
     "iopub.status.busy": "2022-06-22T14:17:22.083123Z",
     "iopub.status.idle": "2022-06-22T14:17:22.095190Z",
     "shell.execute_reply": "2022-06-22T14:17:22.096025Z"
    },
    "id": "5d6eced4",
    "papermill": {
     "duration": 0.058692,
     "end_time": "2022-06-22T14:17:22.096326",
     "exception": false,
     "start_time": "2022-06-22T14:17:22.037634",
     "status": "completed"
    },
    "tags": []
   },
   "outputs": [
    {
     "name": "stdout",
     "output_type": "stream",
     "text": [
      "          X1           X2        X3        X4         Y\n",
      "0  40.674305   330.402129  0.484761  4.894742  1.183973\n",
      "1  91.915333   668.374669  0.820965  3.702849  1.560309\n",
      "2  77.398654   610.302901  0.001203  4.107644 -0.126705\n",
      "3  45.120961   617.208914  0.130247  7.245840  1.013948\n",
      "4  66.645206  1363.294707  0.685177  4.935380  1.496423\n"
     ]
    }
   ],
   "source": [
    "X,Y = friedman3Dataset.friedman3_data(n_samples)"
   ]
  },
  {
   "cell_type": "code",
   "execution_count": 7,
   "id": "fe007438",
   "metadata": {
    "execution": {
     "iopub.execute_input": "2022-06-22T14:17:22.138371Z",
     "iopub.status.busy": "2022-06-22T14:17:22.137147Z",
     "iopub.status.idle": "2022-06-22T14:17:22.140065Z",
     "shell.execute_reply": "2022-06-22T14:17:22.140773Z"
    },
    "id": "fe007438",
    "papermill": {
     "duration": 0.027439,
     "end_time": "2022-06-22T14:17:22.141220",
     "exception": false,
     "start_time": "2022-06-22T14:17:22.113781",
     "status": "completed"
    },
    "tags": []
   },
   "outputs": [],
   "source": [
    "#Train test split for dataset \n",
    "X_train,X_test,Y_train,Y_test = train_test_split(X,Y,test_size = 0.2)\n",
    "train_data = dataset.CustomDataset(X_train,Y_train)\n",
    "test_data = dataset.CustomDataset(X_test,Y_test)\n"
   ]
  },
  {
   "cell_type": "markdown",
   "id": "a9a1af34",
   "metadata": {
    "id": "a9a1af34",
    "papermill": {
     "duration": 0.024331,
     "end_time": "2022-06-22T14:17:22.182851",
     "exception": false,
     "start_time": "2022-06-22T14:17:22.158520",
     "status": "completed"
    },
    "tags": []
   },
   "source": [
    "## Training Parameters "
   ]
  },
  {
   "cell_type": "code",
   "execution_count": 8,
   "id": "952b7fc8",
   "metadata": {
    "execution": {
     "iopub.execute_input": "2022-06-22T14:17:22.250862Z",
     "iopub.status.busy": "2022-06-22T14:17:22.249566Z",
     "iopub.status.idle": "2022-06-22T14:17:22.251898Z",
     "shell.execute_reply": "2022-06-22T14:17:22.252460Z"
    },
    "id": "952b7fc8",
    "papermill": {
     "duration": 0.048719,
     "end_time": "2022-06-22T14:17:22.252813",
     "exception": false,
     "start_time": "2022-06-22T14:17:22.204094",
     "status": "completed"
    },
    "tags": []
   },
   "outputs": [],
   "source": [
    "batch_size = 32\n",
    "n_epochs = 1000\n",
    "#Select the device \n",
    "device = torch.device('cuda' if torch.cuda.is_available() else 'cpu')"
   ]
  },
  {
   "cell_type": "markdown",
   "id": "a95e1600",
   "metadata": {
    "id": "a95e1600",
    "papermill": {
     "duration": 0.041121,
     "end_time": "2022-06-22T14:17:22.314508",
     "exception": false,
     "start_time": "2022-06-22T14:17:22.273387",
     "status": "completed"
    },
    "tags": []
   },
   "source": [
    "# ABC Pre-generator Model \n",
    "\n",
    "1. The catboost model is used as a pre-generator model for the ABC-GAN. \n",
    "2. The model is first trained on the entire dataset \n",
    "3. It generats X,Y pairs and we add some Gaussian noise with mean 0 and variance 1 to it which is then feed as input to the generator.\n"
   ]
  },
  {
   "cell_type": "code",
   "execution_count": 9,
   "id": "ff8ce7bd",
   "metadata": {
    "execution": {
     "iopub.execute_input": "2022-06-22T14:17:22.367763Z",
     "iopub.status.busy": "2022-06-22T14:17:22.366281Z",
     "iopub.status.idle": "2022-06-22T14:17:36.539776Z",
     "shell.execute_reply": "2022-06-22T14:17:36.540482Z"
    },
    "id": "ff8ce7bd",
    "papermill": {
     "duration": 14.207686,
     "end_time": "2022-06-22T14:17:36.540881",
     "exception": false,
     "start_time": "2022-06-22T14:17:22.333195",
     "status": "completed"
    },
    "tags": []
   },
   "outputs": [
    {
     "name": "stdout",
     "output_type": "stream",
     "text": [
      "Device used : cpu\n"
     ]
    },
    {
     "name": "stdout",
     "output_type": "stream",
     "text": [
      "epoch 0  | loss: 1.28722 | train_mse: 4.48348 | train_mae: 1.49441 |  0:00:00s\n",
      "epoch 1  | loss: 0.61655 | train_mse: 2.94064 | train_mae: 1.08805 |  0:00:00s\n",
      "epoch 2  | loss: 0.55162 | train_mse: 1.70783 | train_mae: 0.92121 |  0:00:00s\n"
     ]
    },
    {
     "name": "stdout",
     "output_type": "stream",
     "text": [
      "epoch 3  | loss: 0.41471 | train_mse: 1.4944  | train_mae: 0.82205 |  0:00:00s\n",
      "epoch 4  | loss: 0.50375 | train_mse: 1.1243  | train_mae: 0.70949 |  0:00:00s\n",
      "epoch 5  | loss: 0.50478 | train_mse: 0.85483 | train_mae: 0.59755 |  0:00:00s\n"
     ]
    },
    {
     "name": "stdout",
     "output_type": "stream",
     "text": [
      "epoch 6  | loss: 0.38908 | train_mse: 1.02016 | train_mae: 0.7243  |  0:00:00s\n",
      "epoch 7  | loss: 0.34731 | train_mse: 1.10132 | train_mae: 0.72613 |  0:00:00s\n",
      "epoch 8  | loss: 0.34751 | train_mse: 0.95543 | train_mae: 0.66283 |  0:00:00s\n"
     ]
    },
    {
     "name": "stdout",
     "output_type": "stream",
     "text": [
      "epoch 9  | loss: 0.38723 | train_mse: 0.71797 | train_mae: 0.5795  |  0:00:01s\n",
      "epoch 10 | loss: 0.2373  | train_mse: 0.67837 | train_mae: 0.56895 |  0:00:01s\n",
      "epoch 11 | loss: 0.21775 | train_mse: 0.9156  | train_mae: 0.64544 |  0:00:01s\n"
     ]
    },
    {
     "name": "stdout",
     "output_type": "stream",
     "text": [
      "epoch 12 | loss: 0.43198 | train_mse: 0.57057 | train_mae: 0.57348 |  0:00:01s\n",
      "epoch 13 | loss: 0.26376 | train_mse: 0.38243 | train_mae: 0.47402 |  0:00:01s\n",
      "epoch 14 | loss: 0.29619 | train_mse: 0.40772 | train_mae: 0.47651 |  0:00:01s\n"
     ]
    },
    {
     "name": "stdout",
     "output_type": "stream",
     "text": [
      "epoch 15 | loss: 0.29214 | train_mse: 0.46425 | train_mae: 0.4732  |  0:00:01s\n",
      "epoch 16 | loss: 0.23456 | train_mse: 0.32823 | train_mae: 0.42353 |  0:00:01s\n",
      "epoch 17 | loss: 0.18459 | train_mse: 0.33365 | train_mae: 0.41762 |  0:00:01s\n"
     ]
    },
    {
     "name": "stdout",
     "output_type": "stream",
     "text": [
      "epoch 18 | loss: 0.15268 | train_mse: 0.49531 | train_mae: 0.49709 |  0:00:01s\n",
      "epoch 19 | loss: 0.14584 | train_mse: 0.63708 | train_mae: 0.53529 |  0:00:02s\n",
      "epoch 20 | loss: 0.20637 | train_mse: 0.7937  | train_mae: 0.56667 |  0:00:02s\n"
     ]
    },
    {
     "name": "stdout",
     "output_type": "stream",
     "text": [
      "epoch 21 | loss: 0.19068 | train_mse: 0.61556 | train_mae: 0.5004  |  0:00:02s\n",
      "epoch 22 | loss: 0.12373 | train_mse: 0.22593 | train_mae: 0.34997 |  0:00:02s\n"
     ]
    },
    {
     "name": "stdout",
     "output_type": "stream",
     "text": [
      "epoch 23 | loss: 0.31363 | train_mse: 0.17434 | train_mae: 0.3195  |  0:00:02s\n",
      "epoch 24 | loss: 0.19177 | train_mse: 0.31046 | train_mae: 0.39732 |  0:00:02s\n",
      "epoch 25 | loss: 0.17966 | train_mse: 0.542   | train_mae: 0.48755 |  0:00:02s\n"
     ]
    },
    {
     "name": "stdout",
     "output_type": "stream",
     "text": [
      "epoch 26 | loss: 0.18487 | train_mse: 0.38487 | train_mae: 0.43269 |  0:00:02s\n",
      "epoch 27 | loss: 0.18664 | train_mse: 0.35985 | train_mae: 0.41517 |  0:00:02s\n"
     ]
    },
    {
     "name": "stdout",
     "output_type": "stream",
     "text": [
      "epoch 28 | loss: 0.30642 | train_mse: 0.22458 | train_mae: 0.34681 |  0:00:03s\n",
      "epoch 29 | loss: 0.15536 | train_mse: 0.20542 | train_mae: 0.30899 |  0:00:03s\n"
     ]
    },
    {
     "name": "stdout",
     "output_type": "stream",
     "text": [
      "epoch 30 | loss: 0.15968 | train_mse: 0.14515 | train_mae: 0.27979 |  0:00:03s\n",
      "epoch 31 | loss: 0.17467 | train_mse: 0.12095 | train_mae: 0.26067 |  0:00:03s\n",
      "epoch 32 | loss: 0.17094 | train_mse: 0.12835 | train_mae: 0.26892 |  0:00:03s\n"
     ]
    },
    {
     "name": "stdout",
     "output_type": "stream",
     "text": [
      "epoch 33 | loss: 0.16185 | train_mse: 0.17525 | train_mae: 0.29826 |  0:00:03s\n",
      "epoch 34 | loss: 0.12706 | train_mse: 0.21493 | train_mae: 0.32384 |  0:00:03s\n",
      "epoch 35 | loss: 0.39286 | train_mse: 0.31801 | train_mae: 0.36602 |  0:00:03s\n"
     ]
    },
    {
     "name": "stdout",
     "output_type": "stream",
     "text": [
      "epoch 36 | loss: 0.14683 | train_mse: 0.29555 | train_mae: 0.36775 |  0:00:03s\n",
      "epoch 37 | loss: 0.13137 | train_mse: 0.1977  | train_mae: 0.30318 |  0:00:04s\n"
     ]
    },
    {
     "name": "stdout",
     "output_type": "stream",
     "text": [
      "epoch 38 | loss: 0.27125 | train_mse: 0.14683 | train_mae: 0.27315 |  0:00:04s\n",
      "epoch 39 | loss: 0.15112 | train_mse: 0.14082 | train_mae: 0.28101 |  0:00:04s\n",
      "epoch 40 | loss: 0.20601 | train_mse: 0.1721  | train_mae: 0.29278 |  0:00:04s\n"
     ]
    },
    {
     "name": "stdout",
     "output_type": "stream",
     "text": [
      "epoch 41 | loss: 0.13688 | train_mse: 0.17434 | train_mae: 0.29032 |  0:00:04s\n",
      "epoch 42 | loss: 0.21249 | train_mse: 0.11177 | train_mae: 0.24943 |  0:00:04s\n",
      "epoch 43 | loss: 0.17461 | train_mse: 0.10761 | train_mae: 0.25151 |  0:00:04s\n"
     ]
    },
    {
     "name": "stdout",
     "output_type": "stream",
     "text": [
      "epoch 44 | loss: 0.24404 | train_mse: 0.121   | train_mae: 0.25888 |  0:00:04s\n",
      "epoch 45 | loss: 0.12368 | train_mse: 0.19835 | train_mae: 0.30846 |  0:00:04s\n",
      "epoch 46 | loss: 0.16713 | train_mse: 0.18359 | train_mae: 0.29188 |  0:00:04s\n"
     ]
    },
    {
     "name": "stdout",
     "output_type": "stream",
     "text": [
      "epoch 47 | loss: 0.1022  | train_mse: 0.11714 | train_mae: 0.25766 |  0:00:05s\n",
      "epoch 48 | loss: 0.10783 | train_mse: 0.1022  | train_mae: 0.24833 |  0:00:05s\n",
      "epoch 49 | loss: 0.19898 | train_mse: 0.14145 | train_mae: 0.27823 |  0:00:05s\n"
     ]
    },
    {
     "name": "stdout",
     "output_type": "stream",
     "text": [
      "epoch 50 | loss: 0.12187 | train_mse: 0.15495 | train_mae: 0.28953 |  0:00:05s\n",
      "epoch 51 | loss: 0.10032 | train_mse: 0.12063 | train_mae: 0.25935 |  0:00:05s\n",
      "epoch 52 | loss: 0.31518 | train_mse: 0.10045 | train_mae: 0.24937 |  0:00:05s\n"
     ]
    },
    {
     "name": "stdout",
     "output_type": "stream",
     "text": [
      "epoch 53 | loss: 0.13106 | train_mse: 0.08501 | train_mae: 0.22645 |  0:00:05s\n",
      "epoch 54 | loss: 0.27991 | train_mse: 0.08363 | train_mae: 0.22559 |  0:00:05s\n",
      "epoch 55 | loss: 0.09326 | train_mse: 0.0973  | train_mae: 0.2404  |  0:00:05s\n"
     ]
    },
    {
     "name": "stdout",
     "output_type": "stream",
     "text": [
      "epoch 56 | loss: 0.08952 | train_mse: 0.09616 | train_mae: 0.23856 |  0:00:05s\n",
      "epoch 57 | loss: 0.14563 | train_mse: 0.08653 | train_mae: 0.22583 |  0:00:05s\n",
      "epoch 58 | loss: 0.16125 | train_mse: 0.0815  | train_mae: 0.22294 |  0:00:05s\n"
     ]
    },
    {
     "name": "stdout",
     "output_type": "stream",
     "text": [
      "epoch 59 | loss: 0.30467 | train_mse: 0.08876 | train_mae: 0.23183 |  0:00:06s\n",
      "epoch 60 | loss: 0.09402 | train_mse: 0.08998 | train_mae: 0.23798 |  0:00:06s\n",
      "epoch 61 | loss: 0.26421 | train_mse: 0.08306 | train_mae: 0.22742 |  0:00:06s\n"
     ]
    },
    {
     "name": "stdout",
     "output_type": "stream",
     "text": [
      "epoch 62 | loss: 0.08893 | train_mse: 0.08181 | train_mae: 0.2228  |  0:00:06s\n",
      "epoch 63 | loss: 0.17841 | train_mse: 0.07393 | train_mae: 0.2107  |  0:00:06s\n",
      "epoch 64 | loss: 0.24022 | train_mse: 0.07334 | train_mae: 0.21711 |  0:00:06s\n"
     ]
    },
    {
     "name": "stdout",
     "output_type": "stream",
     "text": [
      "epoch 65 | loss: 0.17965 | train_mse: 0.07576 | train_mae: 0.21773 |  0:00:06s\n",
      "epoch 66 | loss: 0.12274 | train_mse: 0.07277 | train_mae: 0.20343 |  0:00:06s\n",
      "epoch 67 | loss: 0.20564 | train_mse: 0.07192 | train_mae: 0.20411 |  0:00:06s\n"
     ]
    },
    {
     "name": "stdout",
     "output_type": "stream",
     "text": [
      "epoch 68 | loss: 0.15983 | train_mse: 0.06332 | train_mae: 0.19785 |  0:00:07s\n",
      "epoch 69 | loss: 0.1469  | train_mse: 0.06105 | train_mae: 0.19262 |  0:00:07s\n",
      "epoch 70 | loss: 0.20236 | train_mse: 0.06806 | train_mae: 0.20047 |  0:00:07s\n"
     ]
    },
    {
     "name": "stdout",
     "output_type": "stream",
     "text": [
      "epoch 71 | loss: 0.24266 | train_mse: 0.07034 | train_mae: 0.20174 |  0:00:07s\n",
      "epoch 72 | loss: 0.08727 | train_mse: 0.0659  | train_mae: 0.20291 |  0:00:07s\n",
      "epoch 73 | loss: 0.09132 | train_mse: 0.07619 | train_mae: 0.21582 |  0:00:07s\n"
     ]
    },
    {
     "name": "stdout",
     "output_type": "stream",
     "text": [
      "epoch 74 | loss: 0.10816 | train_mse: 0.06602 | train_mae: 0.20224 |  0:00:07s\n",
      "epoch 75 | loss: 0.12305 | train_mse: 0.06056 | train_mae: 0.19339 |  0:00:07s\n",
      "epoch 76 | loss: 0.18206 | train_mse: 0.04863 | train_mae: 0.1766  |  0:00:07s\n"
     ]
    },
    {
     "name": "stdout",
     "output_type": "stream",
     "text": [
      "epoch 77 | loss: 0.06848 | train_mse: 0.05678 | train_mae: 0.18137 |  0:00:07s\n",
      "epoch 78 | loss: 0.10766 | train_mse: 0.06538 | train_mae: 0.19174 |  0:00:07s\n",
      "epoch 79 | loss: 0.12632 | train_mse: 0.06056 | train_mae: 0.18281 |  0:00:08s\n"
     ]
    },
    {
     "name": "stdout",
     "output_type": "stream",
     "text": [
      "epoch 80 | loss: 0.04686 | train_mse: 0.07455 | train_mae: 0.20068 |  0:00:08s\n",
      "epoch 81 | loss: 0.18747 | train_mse: 0.07318 | train_mae: 0.20027 |  0:00:08s\n",
      "epoch 82 | loss: 0.12911 | train_mse: 0.10385 | train_mae: 0.22122 |  0:00:08s\n"
     ]
    },
    {
     "name": "stdout",
     "output_type": "stream",
     "text": [
      "epoch 83 | loss: 0.13331 | train_mse: 0.14217 | train_mae: 0.25399 |  0:00:08s\n",
      "epoch 84 | loss: 0.17946 | train_mse: 0.18128 | train_mae: 0.28586 |  0:00:08s\n",
      "epoch 85 | loss: 0.14802 | train_mse: 0.10906 | train_mae: 0.2316  |  0:00:08s\n"
     ]
    },
    {
     "name": "stdout",
     "output_type": "stream",
     "text": [
      "epoch 86 | loss: 0.08112 | train_mse: 0.08113 | train_mae: 0.21235 |  0:00:08s\n",
      "epoch 87 | loss: 0.0939  | train_mse: 0.07022 | train_mae: 0.1994  |  0:00:08s\n",
      "epoch 88 | loss: 0.11759 | train_mse: 0.06481 | train_mae: 0.18992 |  0:00:08s\n"
     ]
    },
    {
     "name": "stdout",
     "output_type": "stream",
     "text": [
      "epoch 89 | loss: 0.17161 | train_mse: 0.07055 | train_mae: 0.19464 |  0:00:08s\n",
      "epoch 90 | loss: 0.291   | train_mse: 0.09293 | train_mae: 0.21945 |  0:00:09s\n",
      "epoch 91 | loss: 0.1075  | train_mse: 0.08163 | train_mae: 0.20099 |  0:00:09s\n"
     ]
    },
    {
     "name": "stdout",
     "output_type": "stream",
     "text": [
      "epoch 92 | loss: 0.08652 | train_mse: 0.06033 | train_mae: 0.18302 |  0:00:09s\n",
      "epoch 93 | loss: 0.0776  | train_mse: 0.05209 | train_mae: 0.17396 |  0:00:09s\n",
      "epoch 94 | loss: 0.18822 | train_mse: 0.05015 | train_mae: 0.17134 |  0:00:09s\n"
     ]
    },
    {
     "name": "stdout",
     "output_type": "stream",
     "text": [
      "epoch 95 | loss: 0.06207 | train_mse: 0.04505 | train_mae: 0.15607 |  0:00:09s\n",
      "epoch 96 | loss: 0.07567 | train_mse: 0.03854 | train_mae: 0.14721 |  0:00:09s\n",
      "epoch 97 | loss: 0.05274 | train_mse: 0.03593 | train_mae: 0.14409 |  0:00:09s\n"
     ]
    },
    {
     "name": "stdout",
     "output_type": "stream",
     "text": [
      "epoch 98 | loss: 0.09775 | train_mse: 0.04012 | train_mae: 0.15658 |  0:00:09s\n",
      "epoch 99 | loss: 0.06866 | train_mse: 0.04543 | train_mae: 0.16505 |  0:00:09s\n",
      "epoch 100| loss: 0.05892 | train_mse: 0.05402 | train_mae: 0.16949 |  0:00:09s\n"
     ]
    },
    {
     "name": "stdout",
     "output_type": "stream",
     "text": [
      "epoch 101| loss: 0.08872 | train_mse: 0.0556  | train_mae: 0.17013 |  0:00:10s\n",
      "epoch 102| loss: 0.06378 | train_mse: 0.06635 | train_mae: 0.18557 |  0:00:10s\n",
      "epoch 103| loss: 0.07669 | train_mse: 0.05793 | train_mae: 0.17552 |  0:00:10s\n"
     ]
    },
    {
     "name": "stdout",
     "output_type": "stream",
     "text": [
      "epoch 104| loss: 0.08097 | train_mse: 0.05715 | train_mae: 0.17657 |  0:00:10s\n",
      "epoch 105| loss: 0.14518 | train_mse: 0.0824  | train_mae: 0.20328 |  0:00:10s\n",
      "epoch 106| loss: 0.10974 | train_mse: 0.08071 | train_mae: 0.20047 |  0:00:10s\n"
     ]
    },
    {
     "name": "stdout",
     "output_type": "stream",
     "text": [
      "epoch 107| loss: 0.08322 | train_mse: 0.06982 | train_mae: 0.19031 |  0:00:10s\n",
      "epoch 108| loss: 0.15498 | train_mse: 0.05904 | train_mae: 0.17948 |  0:00:10s\n",
      "epoch 109| loss: 0.17507 | train_mse: 0.05709 | train_mae: 0.17621 |  0:00:10s\n"
     ]
    },
    {
     "name": "stdout",
     "output_type": "stream",
     "text": [
      "epoch 110| loss: 0.09507 | train_mse: 0.07592 | train_mae: 0.20349 |  0:00:10s\n",
      "epoch 111| loss: 0.20977 | train_mse: 0.10194 | train_mae: 0.23129 |  0:00:10s\n",
      "epoch 112| loss: 0.13235 | train_mse: 0.10413 | train_mae: 0.22541 |  0:00:11s\n"
     ]
    },
    {
     "name": "stdout",
     "output_type": "stream",
     "text": [
      "epoch 113| loss: 0.10855 | train_mse: 0.06515 | train_mae: 0.18663 |  0:00:11s\n",
      "epoch 114| loss: 0.15063 | train_mse: 0.05392 | train_mae: 0.17587 |  0:00:11s\n",
      "epoch 115| loss: 0.06184 | train_mse: 0.05373 | train_mae: 0.17757 |  0:00:11s\n"
     ]
    },
    {
     "name": "stdout",
     "output_type": "stream",
     "text": [
      "epoch 116| loss: 0.06027 | train_mse: 0.05268 | train_mae: 0.17008 |  0:00:11s\n",
      "epoch 117| loss: 0.23195 | train_mse: 0.05812 | train_mae: 0.18146 |  0:00:11s\n",
      "epoch 118| loss: 0.18433 | train_mse: 0.06918 | train_mae: 0.20048 |  0:00:11s\n"
     ]
    },
    {
     "name": "stdout",
     "output_type": "stream",
     "text": [
      "epoch 119| loss: 0.19889 | train_mse: 0.07122 | train_mae: 0.19605 |  0:00:11s\n",
      "epoch 120| loss: 0.16803 | train_mse: 0.07311 | train_mae: 0.19421 |  0:00:11s\n",
      "epoch 121| loss: 0.12198 | train_mse: 0.08876 | train_mae: 0.20878 |  0:00:11s\n"
     ]
    },
    {
     "name": "stdout",
     "output_type": "stream",
     "text": [
      "epoch 122| loss: 0.16408 | train_mse: 0.10024 | train_mae: 0.21936 |  0:00:11s\n",
      "epoch 123| loss: 0.09187 | train_mse: 0.108   | train_mae: 0.22727 |  0:00:11s\n",
      "epoch 124| loss: 0.13114 | train_mse: 0.08611 | train_mae: 0.2102  |  0:00:12s\n"
     ]
    },
    {
     "name": "stdout",
     "output_type": "stream",
     "text": [
      "epoch 125| loss: 0.13224 | train_mse: 0.09352 | train_mae: 0.2164  |  0:00:12s\n",
      "epoch 126| loss: 0.08205 | train_mse: 0.11358 | train_mae: 0.23073 |  0:00:12s\n",
      "epoch 127| loss: 0.12261 | train_mse: 0.1269  | train_mae: 0.24031 |  0:00:12s\n"
     ]
    },
    {
     "name": "stdout",
     "output_type": "stream",
     "text": [
      "epoch 128| loss: 0.1627  | train_mse: 0.08707 | train_mae: 0.20994 |  0:00:12s\n",
      "epoch 129| loss: 0.14854 | train_mse: 0.05773 | train_mae: 0.18123 |  0:00:12s\n",
      "epoch 130| loss: 0.10015 | train_mse: 0.07532 | train_mae: 0.19971 |  0:00:12s\n"
     ]
    },
    {
     "name": "stdout",
     "output_type": "stream",
     "text": [
      "epoch 131| loss: 0.13649 | train_mse: 0.10006 | train_mae: 0.22331 |  0:00:12s\n",
      "epoch 132| loss: 0.07932 | train_mse: 0.13777 | train_mae: 0.24781 |  0:00:12s\n",
      "epoch 133| loss: 0.08945 | train_mse: 0.13319 | train_mae: 0.24067 |  0:00:12s\n"
     ]
    },
    {
     "name": "stdout",
     "output_type": "stream",
     "text": [
      "epoch 134| loss: 0.16018 | train_mse: 0.1046  | train_mae: 0.22026 |  0:00:12s\n",
      "epoch 135| loss: 0.16961 | train_mse: 0.11359 | train_mae: 0.2304  |  0:00:13s\n"
     ]
    },
    {
     "name": "stdout",
     "output_type": "stream",
     "text": [
      "epoch 136| loss: 0.14296 | train_mse: 0.11197 | train_mae: 0.22138 |  0:00:13s\n",
      "epoch 137| loss: 0.13217 | train_mse: 0.12282 | train_mae: 0.23435 |  0:00:13s\n",
      "epoch 138| loss: 0.06096 | train_mse: 0.12898 | train_mae: 0.24084 |  0:00:13s\n"
     ]
    },
    {
     "name": "stdout",
     "output_type": "stream",
     "text": [
      "epoch 139| loss: 0.13014 | train_mse: 0.0793  | train_mae: 0.20094 |  0:00:13s\n",
      "epoch 140| loss: 0.08229 | train_mse: 0.06344 | train_mae: 0.18814 |  0:00:13s\n",
      "epoch 141| loss: 0.07792 | train_mse: 0.05993 | train_mae: 0.18627 |  0:00:13s\n"
     ]
    },
    {
     "name": "stdout",
     "output_type": "stream",
     "text": [
      "epoch 142| loss: 0.24492 | train_mse: 0.1053  | train_mae: 0.23291 |  0:00:13s\n",
      "epoch 143| loss: 0.2181  | train_mse: 0.09948 | train_mae: 0.22774 |  0:00:13s\n",
      "epoch 144| loss: 0.07364 | train_mse: 0.06189 | train_mae: 0.18647 |  0:00:13s\n"
     ]
    },
    {
     "name": "stdout",
     "output_type": "stream",
     "text": [
      "epoch 145| loss: 0.15476 | train_mse: 0.05278 | train_mae: 0.17731 |  0:00:13s\n",
      "epoch 146| loss: 0.27023 | train_mse: 0.05856 | train_mae: 0.19061 |  0:00:14s\n"
     ]
    },
    {
     "name": "stdout",
     "output_type": "stream",
     "text": [
      "epoch 147| loss: 0.07212 | train_mse: 0.05358 | train_mae: 0.18211 |  0:00:14s\n",
      "\n",
      "Early stopping occurred at epoch 147 with best_epoch = 97 and best_train_mae = 0.14409\n",
      "Best weights from best epoch are automatically used!\n"
     ]
    }
   ],
   "source": [
    "#Train the Model\n",
    "\n",
    "Y_train = np.reshape(Y_train, (-1, 1))\n",
    "Y_test = np.reshape(Y_test, (-1, 1))\n",
    "\n",
    "prior_model = TabNetRegressor(optimizer_fn=torch.optim.Adam, optimizer_params=dict(lr = 0.02),\n",
    "          #scheduler_params={\"step_size\":10, ], \"gamma\":0.9},\n",
    "          #scheduler_fn=torch.optim.lr_scheduler.StepLR\n",
    "          )  #TabNetRegressor()\n",
    "\n",
    "prior_model.fit(X_train,Y_train,eval_set=[(X_train, Y_train)],\n",
    "            eval_name=['train'], \n",
    "            eval_metric=[ 'mse', 'mae'], \n",
    "            max_epochs = n_epochs, \n",
    "            batch_size = batch_size,\n",
    "            patience=50\n",
    "            )"
   ]
  },
  {
   "cell_type": "code",
   "execution_count": 10,
   "id": "af65dcda",
   "metadata": {
    "execution": {
     "iopub.execute_input": "2022-06-22T14:17:36.631219Z",
     "iopub.status.busy": "2022-06-22T14:17:36.627767Z",
     "iopub.status.idle": "2022-06-22T14:17:36.658168Z",
     "shell.execute_reply": "2022-06-22T14:17:36.659988Z"
    },
    "id": "af65dcda",
    "papermill": {
     "duration": 0.086166,
     "end_time": "2022-06-22T14:17:36.660295",
     "exception": false,
     "start_time": "2022-06-22T14:17:36.574129",
     "status": "completed"
    },
    "tags": []
   },
   "outputs": [
    {
     "data": {
      "application/scrapbook.scrap.json+json": {
       "data": 0.17770212493659918,
       "encoder": "json",
       "name": "Prior Model MSE",
       "version": 1
      }
     },
     "metadata": {
      "scrapbook": {
       "data": true,
       "display": false,
       "name": "Prior Model MSE"
      }
     },
     "output_type": "display_data"
    },
    {
     "data": {
      "application/scrapbook.scrap.json+json": {
       "data": 1.0296819885895896,
       "encoder": "json",
       "name": "ABC Pre-generator MSE",
       "version": 1
      }
     },
     "metadata": {
      "scrapbook": {
       "data": true,
       "display": false,
       "name": "ABC Pre-generator MSE"
      }
     },
     "output_type": "display_data"
    },
    {
     "data": {
      "application/scrapbook.scrap.json+json": {
       "data": 0.2867174798415395,
       "encoder": "json",
       "name": "Prior Model MSE",
       "version": 1
      }
     },
     "metadata": {
      "scrapbook": {
       "data": true,
       "display": false,
       "name": "Prior Model MSE"
      }
     },
     "output_type": "display_data"
    },
    {
     "data": {
      "application/scrapbook.scrap.json+json": {
       "data": 0.8060395267383618,
       "encoder": "json",
       "name": "ABC Pre-generator MSE",
       "version": 1
      }
     },
     "metadata": {
      "scrapbook": {
       "data": true,
       "display": false,
       "name": "ABC Pre-generator MSE"
      }
     },
     "output_type": "display_data"
    }
   ],
   "source": [
    "y_pred = prior_model.predict(X_test)\n",
    "y_abc = y_pred + np.random.normal(0,variance, y_pred.shape) + bias \n",
    "mse = mean_squared_error(y_pred,Y_test)\n",
    "sb.glue(\"Prior Model MSE\",mse)\n",
    "mse = mean_squared_error(y_abc,Y_test)\n",
    "sb.glue(\"ABC Pre-generator MSE\",mse)\n",
    "mae = mean_absolute_error(y_pred,Y_test)\n",
    "sb.glue(\"Prior Model MSE\",mae)\n",
    "mae = mean_absolute_error(y_abc,Y_test)\n",
    "sb.glue(\"ABC Pre-generator MSE\",mae)"
   ]
  },
  {
   "cell_type": "markdown",
   "id": "25609da2",
   "metadata": {
    "papermill": {
     "duration": 0.04896,
     "end_time": "2022-06-22T14:17:36.747318",
     "exception": false,
     "start_time": "2022-06-22T14:17:36.698358",
     "status": "completed"
    },
    "tags": []
   },
   "source": [
    "# ABC GAN Model"
   ]
  },
  {
   "cell_type": "code",
   "execution_count": 11,
   "id": "dfc3464d",
   "metadata": {
    "execution": {
     "iopub.execute_input": "2022-06-22T14:17:36.832088Z",
     "iopub.status.busy": "2022-06-22T14:17:36.831223Z",
     "iopub.status.idle": "2022-06-22T14:17:36.835676Z",
     "shell.execute_reply": "2022-06-22T14:17:36.836413Z"
    },
    "papermill": {
     "duration": 0.048655,
     "end_time": "2022-06-22T14:17:36.836745",
     "exception": false,
     "start_time": "2022-06-22T14:17:36.788090",
     "status": "completed"
    },
    "tags": []
   },
   "outputs": [],
   "source": [
    "gen = network.Generator(n_features+1).to(device)\n",
    "disc = network.Discriminator(n_features+1).to(device)\n",
    "\n",
    "criterion = torch.nn.BCELoss()\n",
    "gen_opt = torch.optim.Adam(gen.parameters(), lr=0.001, betas=(0.5, 0.999))\n",
    "disc_opt = torch.optim.Adam(disc.parameters(), lr=0.001, betas=(0.5, 0.999))"
   ]
  },
  {
   "cell_type": "code",
   "execution_count": 12,
   "id": "b75fdd85",
   "metadata": {
    "execution": {
     "iopub.execute_input": "2022-06-22T14:17:36.934196Z",
     "iopub.status.busy": "2022-06-22T14:17:36.930699Z",
     "iopub.status.idle": "2022-06-22T14:18:32.446098Z",
     "shell.execute_reply": "2022-06-22T14:18:32.447019Z"
    },
    "papermill": {
     "duration": 55.567056,
     "end_time": "2022-06-22T14:18:32.447269",
     "exception": false,
     "start_time": "2022-06-22T14:17:36.880213",
     "status": "completed"
    },
    "tags": []
   },
   "outputs": [
    {
     "data": {
      "image/png": "[encoded data removed]",
      "text/plain": [
       "<Figure size 432x288 with 1 Axes>"
      ]
     },
     "metadata": {
      "needs_background": "light"
     },
     "output_type": "display_data"
    },
    {
     "data": {
      "image/png": "[encoded data removed]",
      "text/plain": [
       "<Figure size 432x288 with 1 Axes>"
      ]
     },
     "metadata": {
      "needs_background": "light"
     },
     "output_type": "display_data"
    }
   ],
   "source": [
    "#Training the ABC_GAN \n",
    "ABC_train_test2.training_GAN(disc,gen,disc_opt,gen_opt,train_data,batch_size,n_epochs,criterion,prior_model,variance,bias,device)"
   ]
  },
  {
   "cell_type": "code",
   "execution_count": 13,
   "id": "1fa7c368",
   "metadata": {
    "execution": {
     "iopub.execute_input": "2022-06-22T14:18:32.576161Z",
     "iopub.status.busy": "2022-06-22T14:18:32.574973Z",
     "iopub.status.idle": "2022-06-22T14:18:33.385381Z",
     "shell.execute_reply": "2022-06-22T14:18:33.386143Z"
    },
    "papermill": {
     "duration": 0.889195,
     "end_time": "2022-06-22T14:18:33.386483",
     "exception": false,
     "start_time": "2022-06-22T14:18:32.497288",
     "status": "completed"
    },
    "tags": []
   },
   "outputs": [
    {
     "data": {
      "application/scrapbook.scrap.json+json": {
       "data": 0.13527825104587524,
       "encoder": "json",
       "name": "ABC-GAN Model 1 MSE",
       "version": 1
      }
     },
     "metadata": {
      "scrapbook": {
       "data": true,
       "display": false,
       "name": "ABC-GAN Model 1 MSE"
      }
     },
     "output_type": "display_data"
    },
    {
     "data": {
      "application/scrapbook.scrap.json+json": {
       "data": 0.2941362893972546,
       "encoder": "json",
       "name": "ABC-GAN Model 1 MAE",
       "version": 1
      }
     },
     "metadata": {
      "scrapbook": {
       "data": true,
       "display": false,
       "name": "ABC-GAN Model 1 MAE"
      }
     },
     "output_type": "display_data"
    },
    {
     "data": {
      "application/scrapbook.scrap.json+json": {
       "data": 5.882725787945092,
       "encoder": "json",
       "name": "ABC-GAN Model 1 Manhattan Distance",
       "version": 1
      }
     },
     "metadata": {
      "scrapbook": {
       "data": true,
       "display": false,
       "name": "ABC-GAN Model 1 Manhattan Distance"
      }
     },
     "output_type": "display_data"
    },
    {
     "data": {
      "application/scrapbook.scrap.json+json": {
       "data": 1.6438197379949508,
       "encoder": "json",
       "name": "ABC-GAN Model 1 Euclidean distance",
       "version": 1
      }
     },
     "metadata": {
      "scrapbook": {
       "data": true,
       "display": false,
       "name": "ABC-GAN Model 1 Euclidean distance"
      }
     },
     "output_type": "display_data"
    },
    {
     "data": {
      "application/scrapbook.scrap.json+json": {
       "data": [
        [
         0.1374781305777712,
         0.12282167533325601,
         0.1331581913384366,
         0.12573061412434922,
         0.13121087999082395,
         0.14901893724879267,
         0.13557722783758125,
         0.13186934860098026,
         0.1358754278859216,
         0.1572811018071742,
         0.13024705031055248,
         0.12805853641965528,
         0.135550566897943,
         0.13336961318925625,
         0.15521669471179078,
         0.13335816037614173,
         0.13881474221834084,
         0.13437655400193854,
         0.13150498276263833,
         0.12888678891500396,
         0.13098720898149513,
         0.13618966244399971,
         0.13159958579909006,
         0.1309764801537446,
         0.13719443605976972,
         0.15269352842342726,
         0.14886862015173247,
         0.13423305020113668,
         0.12297821752245212,
         0.1289669725799607,
         0.12914233676691048,
         0.13501337277761774,
         0.12380229360812525,
         0.1559969452285022,
         0.1344037135436515,
         0.13691168712119464,
         0.1480510565362443,
         0.1325456496918481,
         0.13402143767938246,
         0.13021100508395184,
         0.1454281561958622,
         0.14191296394512215,
         0.13490382883940388,
         0.18093855423077945,
         0.1377007995911746,
         0.129140164328226,
         0.14924692108520726,
         0.1325751345565651,
         0.12920777909670747,
         0.12929932587799614,
         0.13012055101673564,
         0.11703143138285736,
         0.13613067862613776,
         0.1284209289382233,
         0.1266532228938282,
         0.12407331701847527,
         0.13652315978058632,
         0.13696653294647063,
         0.15011678898222763,
         0.13123837660813303,
         0.1295431719050867,
         0.13597146239809868,
         0.130740953759642,
         0.13531589765597668,
         0.13454218638674245,
         0.12553900494442452,
         0.1335763470268865,
         0.13760842651784683,
         0.13244717058158112,
         0.1454453767395402,
         0.12775651695171222,
         0.18403584008926144,
         0.13398366980126455,
         0.13544421568609702,
         0.13567077536213024,
         0.13176139495381128,
         0.13058126269839437,
         0.13203583029655666,
         0.1313710823299809,
         0.12404034013142451,
         0.12880380339153336,
         0.1285216481979476,
         0.1432804494492197,
         0.13293003109445514,
         0.13365674905756458,
         0.13345201427535053,
         0.1296556071533273,
         0.12754312683706012,
         0.12988539270520685,
         0.1252340590615347,
         0.1367626550520138,
         0.12596156934872577,
         0.13217820811099032,
         0.14271401642551027,
         0.13308433335570852,
         0.13228905903540042,
         0.13289075272156067,
         0.14332168832613174,
         0.13625611308743935,
         0.14017180084107816
        ],
        [
         0.2985363431274891,
         0.28078584298491477,
         0.3005033563822508,
         0.2792873527854681,
         0.2893121434375644,
         0.30664874967187644,
         0.29775905832648275,
         0.2946908274665475,
         0.29454270731657745,
         0.30090786013752224,
         0.2863491393625736,
         0.2836494414135814,
         0.29713669531047343,
         0.2957044405862689,
         0.30472852755337954,
         0.2907256679609418,
         0.2993739856407046,
         0.2899837074801326,
         0.2899726478382945,
         0.28988414350897074,
         0.2882103452458978,
         0.2931077478453517,
         0.2958416236564517,
         0.2874679846689105,
         0.2985901849344373,
         0.3000392960384488,
         0.29911180417984723,
         0.29041609838604926,
         0.2844733141362667,
         0.2832913430407643,
         0.28873119298368694,
         0.2924088940024376,
         0.28306566309183834,
         0.3161788100376725,
         0.29576103333383796,
         0.3031203240156174,
         0.3033006120473146,
         0.29157950095832347,
         0.2918649293482304,
         0.2859684968367219,
         0.3003406686708331,
         0.3019648285582662,
         0.29438231606036425,
         0.31524443086236714,
         0.30047068241983654,
         0.28773304522037507,
         0.30686832051724194,
         0.29678657911717893,
         0.29010223094373944,
         0.2853012776002288,
         0.2900612598285079,
         0.27669599317014215,
         0.294046750664711,
         0.2890746109187603,
         0.29075929783284665,
         0.28404597137123344,
         0.29461663514375686,
         0.2914434438571334,
         0.30860166996717453,
         0.29240301456302403,
         0.2925839049741626,
         0.3041606739163399,
         0.28246738146990535,
         0.2998878747224808,
         0.29854054283350706,
         0.28421645872294904,
         0.29884591344743966,
         0.2990156590938568,
         0.28909991942346097,
         0.3022101014852524,
         0.2876923820003867,
         0.31696993205696344,
         0.29263802990317345,
         0.2991480339318514,
         0.2923011161386967,
         0.2981951404362917,
         0.28831516671925783,
         0.3014155762270093,
         0.29568023085594175,
         0.2830728942528367,
         0.2874906208366156,
         0.2850356839597225,
         0.2999303264543414,
         0.2941270602867007,
         0.2961220914497972,
         0.28829991836100816,
         0.29276574719697235,
         0.2888854516670108,
         0.2889170214533806,
         0.29166843239218,
         0.2978009611368179,
         0.2841478245332837,
         0.2984173813834786,
         0.29656359981745484,
         0.29969869963824747,
         0.291443975456059,
         0.293863532692194,
         0.2962662003934383,
         0.3037331812083721,
         0.29803943242877723
        ],
        [
         5.970726862549782,
         5.615716859698296,
         6.010067127645016,
         5.585747055709362,
         5.7862428687512875,
         6.132974993437529,
         5.9551811665296555,
         5.89381654933095,
         5.890854146331549,
         6.018157202750444,
         5.7269827872514725,
         5.672988828271627,
         5.942733906209469,
         5.914088811725378,
         6.094570551067591,
         5.814513359218836,
         5.987479712814093,
         5.799674149602652,
         5.79945295676589,
         5.797682870179415,
         5.764206904917955,
         5.862154956907034,
         5.916832473129034,
         5.74935969337821,
         5.9718036986887455,
         6.000785920768976,
         5.982236083596945,
         5.808321967720985,
         5.689466282725334,
         5.665826860815287,
         5.7746238596737385,
         5.848177880048752,
         5.661313261836767,
         6.32357620075345,
         5.91522066667676,
         6.062406480312347,
         6.066012240946293,
         5.83159001916647,
         5.837298586964607,
         5.719369936734438,
         6.006813373416662,
         6.039296571165323,
         5.887646321207285,
         6.304888617247343,
         6.00941364839673,
         5.754660904407501,
         6.137366410344839,
         5.935731582343578,
         5.802044618874788,
         5.706025552004576,
         5.801225196570158,
         5.5339198634028435,
         5.88093501329422,
         5.781492218375206,
         5.815185956656933,
         5.680919427424669,
         5.892332702875137,
         5.828868877142668,
         6.172033399343491,
         5.848060291260481,
         5.851678099483252,
         6.0832134783267975,
         5.6493476293981075,
         5.9977574944496155,
         5.970810856670141,
         5.684329174458981,
         5.976918268948793,
         5.980313181877136,
         5.781998388469219,
         6.044202029705048,
         5.753847640007734,
         6.339398641139269,
         5.852760598063469,
         5.982960678637028,
         5.846022322773933,
         5.963902808725834,
         5.766303334385157,
         6.028311524540186,
         5.9136046171188354,
         5.661457885056734,
         5.749812416732311,
         5.70071367919445,
         5.998606529086828,
         5.8825412057340145,
         5.922441828995943,
         5.765998367220163,
         5.855314943939447,
         5.777709033340216,
         5.778340429067612,
         5.833368647843599,
         5.956019222736359,
         5.682956490665674,
         5.968347627669573,
         5.931271996349096,
         5.99397399276495,
         5.82887950912118,
         5.87727065384388,
         5.925324007868767,
         6.074663624167442,
         5.960788648575544
        ],
        [
         1.6581805123554625,
         1.5673013451998057,
         1.6319202881172634,
         1.5857529071349623,
         1.619943702668855,
         1.7263773472146386,
         1.646676822194211,
         1.6240033780813408,
         1.6484867478140162,
         1.7735901545011699,
         1.6139829634203235,
         1.6003658108048626,
         1.646514906691968,
         1.6332153145819828,
         1.7619119995720034,
         1.6331451887455797,
         1.6662217272520534,
         1.639369110371051,
         1.6217581987623082,
         1.605532864285275,
         1.6185623805185585,
         1.650391847071475,
         1.6223414301502015,
         1.6184960930057546,
         1.6564687504433624,
         1.7475327088408232,
         1.7255064192968537,
         1.6384935166251753,
         1.5682998279822142,
         1.6060322075223816,
         1.6071237461185774,
         1.6432490546330323,
         1.573545637140056,
         1.7663348789428472,
         1.6395347726940805,
         1.6547609321058716,
         1.7207617879081596,
         1.6281624592886799,
         1.6372015006063394,
         1.6137596170678696,
         1.705451003083127,
         1.684713411504296,
         1.6425822891983457,
         1.902306779837466,
         1.6595228205190466,
         1.6071102285047283,
         1.7276974334946917,
         1.6283435421099879,
         1.6075308961056236,
         1.6081002821838952,
         1.6131990020870683,
         1.5299113136574773,
         1.650034415557068,
         1.6026286465567954,
         1.5915603846152253,
         1.575267069537577,
         1.6524113276093595,
         1.6550923415113166,
         1.7327249578754709,
         1.6201134318814412,
         1.609615928754973,
         1.6490692065410637,
         1.6170402206478478,
         1.6450890410915555,
         1.6403791414593303,
         1.5845441296753116,
         1.6344806332709267,
         1.6589661028354186,
         1.6275574987175176,
         1.7055519736410274,
         1.598477506577507,
         1.918519429608475,
         1.6369707987698776,
         1.645868862856923,
         1.6472448231039019,
         1.623338504156242,
         1.616052367334638,
         1.6250281861958988,
         1.620932338686479,
         1.5750577140627229,
         1.605015908902671,
         1.60325698624985,
         1.6928109726086944,
         1.6305215797066603,
         1.6349724710683333,
         1.633719769577087,
         1.6103142994665813,
         1.597141990162804,
         1.6117406286695564,
         1.5826184572507342,
         1.6538600609000373,
         1.5872086778286323,
         1.625904106095992,
         1.6894615498762335,
         1.6314676420677705,
         1.6265857434233242,
         1.6302806673794588,
         1.693054566906405,
         1.6507944335224742,
         1.6743464446826897
        ]
       ],
       "encoder": "json",
       "name": "ABC_GAN_1 Metrics",
       "version": 1
      }
     },
     "metadata": {
      "scrapbook": {
       "data": true,
       "display": false,
       "name": "ABC_GAN_1 Metrics"
      }
     },
     "output_type": "display_data"
    },
    {
     "name": "stdout",
     "output_type": "stream",
     "text": [
      "MSE\n",
      "0.13527825104587524\n"
     ]
    }
   ],
   "source": [
    "ABC_GAN1_metrics=ABC_train_test2.test_generator(gen,test_data,prior_model,variance,bias,\"1\",device)\n",
    "sb.glue(\"ABC_GAN_1 Metrics\",ABC_GAN1_metrics)\n",
    "\n",
    "print(\"MSE\")\n",
    "print(mean(ABC_GAN1_metrics[0]))"
   ]
  },
  {
   "cell_type": "code",
   "execution_count": 14,
   "id": "eb22ce5c",
   "metadata": {
    "execution": {
     "iopub.execute_input": "2022-06-22T14:18:33.488161Z",
     "iopub.status.busy": "2022-06-22T14:18:33.486922Z",
     "iopub.status.idle": "2022-06-22T14:18:34.430266Z",
     "shell.execute_reply": "2022-06-22T14:18:34.430892Z"
    },
    "papermill": {
     "duration": 1.001328,
     "end_time": "2022-06-22T14:18:34.431161",
     "exception": false,
     "start_time": "2022-06-22T14:18:33.429833",
     "status": "completed"
    },
    "tags": []
   },
   "outputs": [
    {
     "data": {
      "image/png": "[encoded data removed]",
      "text/plain": [
       "<Figure size 432x288 with 1 Axes>"
      ]
     },
     "metadata": {
      "needs_background": "light"
     },
     "output_type": "display_data"
    },
    {
     "data": {
      "image/png": "[encoded data removed]",
      "text/plain": [
       "<Figure size 432x288 with 1 Axes>"
      ]
     },
     "metadata": {
      "needs_background": "light"
     },
     "output_type": "display_data"
    },
    {
     "data": {
      "image/png": "[encoded data removed]",
      "text/plain": [
       "<Figure size 432x288 with 1 Axes>"
      ]
     },
     "metadata": {
      "needs_background": "light"
     },
     "output_type": "display_data"
    },
    {
     "data": {
      "image/png": "[encoded data removed]",
      "text/plain": [
       "<Figure size 432x288 with 1 Axes>"
      ]
     },
     "metadata": {
      "needs_background": "light"
     },
     "output_type": "display_data"
    }
   ],
   "source": [
    "sanityChecks.discProbVsError(train_data,disc,device)\n",
    "sanityChecks.discProbVsError(test_data,disc,device)"
   ]
  },
  {
   "cell_type": "markdown",
   "id": "130f3a4d",
   "metadata": {
    "id": "130f3a4d",
    "papermill": {
     "duration": 0.089211,
     "end_time": "2022-06-22T14:18:34.578763",
     "exception": false,
     "start_time": "2022-06-22T14:18:34.489552",
     "status": "completed"
    },
    "tags": []
   },
   "source": [
    "# ABC - GAN Model with skip connection"
   ]
  },
  {
   "cell_type": "code",
   "execution_count": 15,
   "id": "4e43dad1",
   "metadata": {
    "execution": {
     "iopub.execute_input": "2022-06-22T14:18:34.702638Z",
     "iopub.status.busy": "2022-06-22T14:18:34.701879Z",
     "iopub.status.idle": "2022-06-22T14:18:34.704212Z",
     "shell.execute_reply": "2022-06-22T14:18:34.704763Z"
    },
    "id": "4e43dad1",
    "papermill": {
     "duration": 0.071537,
     "end_time": "2022-06-22T14:18:34.704976",
     "exception": false,
     "start_time": "2022-06-22T14:18:34.633439",
     "status": "completed"
    },
    "tags": []
   },
   "outputs": [],
   "source": [
    "#Generator\n",
    "gen3 = network.GeneratorWithSkipConnection(n_features+1).to(device)\n",
    "constraints=network.weightConstraint()\n",
    "#Discriminator \n",
    "disc3 = network.Discriminator(n_features+1).to(device)\n",
    "\n",
    "criterion = torch.nn.BCELoss()\n",
    "gen_opt = torch.optim.Adam(gen3.parameters(), lr=0.001, betas=(0.5, 0.999))\n",
    "disc_opt = torch.optim.Adam(disc3.parameters(), lr=0.001, betas=(0.5, 0.999))\n"
   ]
  },
  {
   "cell_type": "code",
   "execution_count": 16,
   "id": "26acbc37",
   "metadata": {
    "execution": {
     "iopub.execute_input": "2022-06-22T14:18:34.806556Z",
     "iopub.status.busy": "2022-06-22T14:18:34.805741Z",
     "iopub.status.idle": "2022-06-22T14:20:10.777173Z",
     "shell.execute_reply": "2022-06-22T14:20:10.777795Z"
    },
    "id": "26acbc37",
    "papermill": {
     "duration": 96.026569,
     "end_time": "2022-06-22T14:20:10.778161",
     "exception": false,
     "start_time": "2022-06-22T14:18:34.751592",
     "status": "completed"
    },
    "tags": []
   },
   "outputs": [
    {
     "data": {
      "image/png": "[encoded data removed]",
      "text/plain": [
       "<Figure size 432x288 with 1 Axes>"
      ]
     },
     "metadata": {
      "needs_background": "light"
     },
     "output_type": "display_data"
    },
    {
     "data": {
      "image/png": "[encoded data removed]",
      "text/plain": [
       "<Figure size 432x288 with 1 Axes>"
      ]
     },
     "metadata": {
      "needs_background": "light"
     },
     "output_type": "display_data"
    }
   ],
   "source": [
    "ABC_train_test2.training_GAN_skip_connection(disc3,gen3,disc_opt,gen_opt,train_data,batch_size,n_epochs,criterion,prior_model,variance,bias,device)"
   ]
  },
  {
   "cell_type": "code",
   "execution_count": 17,
   "id": "c5e0717b",
   "metadata": {
    "execution": {
     "iopub.execute_input": "2022-06-22T14:20:10.882926Z",
     "iopub.status.busy": "2022-06-22T14:20:10.882026Z",
     "iopub.status.idle": "2022-06-22T14:20:12.056970Z",
     "shell.execute_reply": "2022-06-22T14:20:12.057664Z"
    },
    "id": "c5e0717b",
    "papermill": {
     "duration": 1.235631,
     "end_time": "2022-06-22T14:20:12.058698",
     "exception": false,
     "start_time": "2022-06-22T14:20:10.823067",
     "status": "completed"
    },
    "tags": []
   },
   "outputs": [
    {
     "data": {
      "application/scrapbook.scrap.json+json": {
       "data": 0.1065772346636723,
       "encoder": "json",
       "name": "ABC-GAN Model 3 MSE",
       "version": 1
      }
     },
     "metadata": {
      "scrapbook": {
       "data": true,
       "display": false,
       "name": "ABC-GAN Model 3 MSE"
      }
     },
     "output_type": "display_data"
    },
    {
     "data": {
      "application/scrapbook.scrap.json+json": {
       "data": 0.24884977274760603,
       "encoder": "json",
       "name": "ABC-GAN Model 3 MAE",
       "version": 1
      }
     },
     "metadata": {
      "scrapbook": {
       "data": true,
       "display": false,
       "name": "ABC-GAN Model 3 MAE"
      }
     },
     "output_type": "display_data"
    },
    {
     "data": {
      "application/scrapbook.scrap.json+json": {
       "data": 4.976995454952121,
       "encoder": "json",
       "name": "ABC-GAN Model 3 Manhattan Distance",
       "version": 1
      }
     },
     "metadata": {
      "scrapbook": {
       "data": true,
       "display": false,
       "name": "ABC-GAN Model 3 Manhattan Distance"
      }
     },
     "output_type": "display_data"
    },
    {
     "data": {
      "application/scrapbook.scrap.json+json": {
       "data": 1.4485915427068061,
       "encoder": "json",
       "name": "ABC-GAN Model 3 Euclidean distance",
       "version": 1
      }
     },
     "metadata": {
      "scrapbook": {
       "data": true,
       "display": false,
       "name": "ABC-GAN Model 3 Euclidean distance"
      }
     },
     "output_type": "display_data"
    },
    {
     "data": {
      "application/scrapbook.scrap.json+json": {
       "data": [
        [
         0.08128674886988349,
         0.0962919654529239,
         0.09396070959114979,
         0.08734312011801945,
         0.09486692418230762,
         0.09671613011609866,
         0.1080602719791746,
         0.08522744727399002,
         0.08679337299474894,
         0.09977473271206186,
         0.09987280962573138,
         0.09488713670030278,
         0.14247524610126155,
         0.08298614649722287,
         0.1829843734895301,
         0.09379235641145506,
         0.11195976374426102,
         0.08497851803101704,
         0.09821416098790589,
         0.08987704130207558,
         0.09174682033986446,
         0.09911871497515422,
         0.13636994348449324,
         0.10627667458545449,
         0.10840567892829926,
         0.07695138992433448,
         0.07766038188967365,
         0.10223094093948608,
         0.18515250732496083,
         0.08020819019603424,
         0.10149912581020346,
         0.09094684219825415,
         0.09218524278425402,
         0.08932225072806459,
         0.08228107598522094,
         0.09837886576850832,
         0.10890584623177531,
         0.07793067927565779,
         0.10685621610924305,
         0.10510922846302531,
         0.0965340006006614,
         0.1462174930592445,
         0.10178959100103022,
         0.09480857035513865,
         0.10370437998564445,
         0.11050717480328269,
         0.09695932372051841,
         0.07595192774761608,
         0.1610561022882345,
         0.08785076315362914,
         0.10506948887272734,
         0.12175483194703784,
         0.0808149380090474,
         0.20438036949867638,
         0.08616001048398599,
         0.13819776497066513,
         0.09106074485259667,
         0.21309028946576403,
         0.1268673508044203,
         0.0969481809743184,
         0.10524164740122663,
         0.07624206905006663,
         0.08601580662731514,
         0.08780875990832403,
         0.08571681437453489,
         0.16528477491358878,
         0.07685990055868433,
         0.13200416717908672,
         0.09744999123426512,
         0.08580089632841033,
         0.08799141811156451,
         0.10110782430722351,
         0.1580691072909034,
         0.11873521161157678,
         0.09120883843260545,
         0.08794714432851714,
         0.1014320312998724,
         0.07888604534263523,
         0.08590964122086955,
         0.1451830987726212,
         0.09780022767743628,
         0.10430215184528868,
         0.12172244997444248,
         0.08196939563873869,
         0.2151382470257201,
         0.10686136311562788,
         0.09094480906004877,
         0.11009646075172648,
         0.09589291304925861,
         0.13500789394413093,
         0.14708029842408527,
         0.11693155419013528,
         0.09563599772343787,
         0.08268858285327964,
         0.10220111049005995,
         0.09747941126223217,
         0.10322336537580841,
         0.10462620207195068,
         0.09227439951034133,
         0.13134255537226586
        ],
        [
         0.21623048558831215,
         0.22962185367941856,
         0.24499875418841838,
         0.23662579283118249,
         0.242541628703475,
         0.235883629322052,
         0.26803138479590416,
         0.21606926545500754,
         0.23294177316129208,
         0.25121604688465593,
         0.2588127851486206,
         0.25062375478446486,
         0.2683382831513882,
         0.23644516319036485,
         0.29530124068260194,
         0.2325618378818035,
         0.2675052836537361,
         0.23634365051984788,
         0.23750674054026605,
         0.22951011136174201,
         0.2370176501572132,
         0.25429663732647895,
         0.27850735262036325,
         0.24973702393472194,
         0.26088495664298533,
         0.22260538004338742,
         0.21893212348222732,
         0.23897391110658645,
         0.2845998466014862,
         0.2300912544131279,
         0.25153871551156043,
         0.22460059821605682,
         0.23711426705121993,
         0.2210454076528549,
         0.2306688752025366,
         0.2288045257329941,
         0.24984976276755333,
         0.22244488820433617,
         0.24581195786595345,
         0.26192752420902254,
         0.24341710582375525,
         0.2698059879243374,
         0.25149538964033125,
         0.2337336517870426,
         0.258435370028019,
         0.26110428385436535,
         0.25869082994759085,
         0.21791185773909091,
         0.287672420963645,
         0.24041489735245705,
         0.2531048312783241,
         0.2713697053492069,
         0.23386257216334344,
         0.28652034401893617,
         0.225175379216671,
         0.2733349442481995,
         0.23553860671818255,
         0.2747960064560175,
         0.2832269657403231,
         0.23869314417243004,
         0.24357939288020133,
         0.2141561284661293,
         0.23525092005729675,
         0.23341340199112892,
         0.23866031281650066,
         0.30286626853048804,
         0.220880825817585,
         0.2674414001405239,
         0.2569356933236122,
         0.2252935901284218,
         0.23537543192505836,
         0.24643826261162757,
         0.29003277868032457,
         0.2688966143876314,
         0.22931690253317355,
         0.22658812887966634,
         0.2442316420376301,
         0.22634460851550103,
         0.24043967835605146,
         0.2823559656739235,
         0.2407103966921568,
         0.24603013768792154,
         0.26726577542722224,
         0.22341530174016952,
         0.31997820883989336,
         0.2600862421095371,
         0.23961291536688806,
         0.24886310771107673,
         0.2426570676267147,
         0.2528802126646042,
         0.31016865670681,
         0.27796722427010534,
         0.2490785699337721,
         0.2280822567641735,
         0.25162210166454313,
         0.23178447633981705,
         0.2378639653325081,
         0.2573378175497055,
         0.24894733875989913,
         0.28726113513112067
        ],
        [
         4.324609711766243,
         4.592437073588371,
         4.899975083768368,
         4.73251585662365,
         4.8508325740695,
         4.71767258644104,
         5.360627695918083,
         4.321385309100151,
         4.6588354632258415,
         5.024320937693119,
         5.176255702972412,
         5.012475095689297,
         5.366765663027763,
         4.728903263807297,
         5.906024813652039,
         4.65123675763607,
         5.350105673074722,
         4.726873010396957,
         4.750134810805321,
         4.59020222723484,
         4.740353003144264,
         5.085932746529579,
         5.570147052407265,
         4.994740478694439,
         5.217699132859707,
         4.452107600867748,
         4.3786424696445465,
         4.779478222131729,
         5.691996932029724,
         4.601825088262558,
         5.030774310231209,
         4.4920119643211365,
         4.742285341024399,
         4.420908153057098,
         4.613377504050732,
         4.576090514659882,
         4.996995255351067,
         4.448897764086723,
         4.916239157319069,
         5.23855048418045,
         4.868342116475105,
         5.396119758486748,
         5.029907792806625,
         4.674673035740852,
         5.168707400560379,
         5.222085677087307,
         5.173816598951817,
         4.358237154781818,
         5.7534484192729,
         4.808297947049141,
         5.0620966255664825,
         5.4273941069841385,
         4.677251443266869,
         5.730406880378723,
         4.50350758433342,
         5.466698884963989,
         4.710772134363651,
         5.49592012912035,
         5.664539314806461,
         4.773862883448601,
         4.871587857604027,
         4.283122569322586,
         4.705018401145935,
         4.668268039822578,
         4.773206256330013,
         6.05732537060976,
         4.4176165163517,
         5.348828002810478,
         5.138713866472244,
         4.505871802568436,
         4.707508638501167,
         4.928765252232552,
         5.800655573606491,
         5.377932287752628,
         4.586338050663471,
         4.531762577593327,
         4.884632840752602,
         4.5268921703100204,
         4.808793567121029,
         5.64711931347847,
         4.814207933843136,
         4.9206027537584305,
         5.345315508544445,
         4.4683060348033905,
         6.399564176797867,
         5.2017248421907425,
         4.792258307337761,
         4.977262154221535,
         4.853141352534294,
         5.057604253292084,
         6.2033731341362,
         5.559344485402107,
         4.981571398675442,
         4.56164513528347,
         5.032442033290863,
         4.635689526796341,
         4.757279306650162,
         5.14675635099411,
         4.978946775197983,
         5.745222702622414
        ],
        [
         1.275043127661833,
         1.3877461255786225,
         1.3708443353725455,
         1.3216892230628154,
         1.377439103425684,
         1.3907992674437146,
         1.4701038873438477,
         1.305583756593119,
         1.3175232293568788,
         1.4126197840329284,
         1.4133139044510343,
         1.3775858354404111,
         1.6880476658036736,
         1.2883023441508044,
         1.9130309641484118,
         1.3696156863255842,
         1.4963940907679436,
         1.303675711448342,
         1.4015288865228992,
         1.3407239932370538,
         1.3545982455316001,
         1.4079681457700257,
         1.651483838761332,
         1.4579209483744617,
         1.4724515538943836,
         1.2405755916052394,
         1.2462775123516725,
         1.4299016815116072,
         1.92433109066481,
         1.2665558826679086,
         1.4247745492547477,
         1.3486796669206083,
         1.357830937814086,
         1.3365795952958774,
         1.2828178045632275,
         1.402703573592855,
         1.4758444784717346,
         1.2484444663312644,
         1.4618906669737177,
         1.4498912266996122,
         1.3894891190697494,
         1.7100730572653584,
         1.4268117675505079,
         1.3770153982809243,
         1.4401692955041394,
         1.4866551368981489,
         1.3925467584287317,
         1.2324928214607669,
         1.7947484630902153,
         1.3255245237537412,
         1.4496171140872154,
         1.5604796182394556,
         1.2713373903810696,
         2.0217832203214883,
         1.3127072063791376,
         1.662514751637802,
         1.3495239520112021,
         2.0644141515973193,
         1.5929052125247145,
         1.3924667390951815,
         1.4508042417998828,
         1.2348446788974443,
         1.31160822372624,
         1.325207605685419,
         1.3093266542351827,
         1.8181571709485889,
         1.239837897135624,
         1.6248333279391256,
         1.3960658382344662,
         1.3099686738881227,
         1.3265852261469258,
         1.4220254871641613,
         1.778027599847108,
         1.5410075380190507,
         1.3506208826506827,
         1.3262514416845483,
         1.4243035582337944,
         1.256073607259027,
         1.3107985445587707,
         1.7040134903962538,
         1.3985723268922226,
         1.4443140368028602,
         1.5602720914920094,
         1.2803858452727341,
         2.074310714554211,
         1.4619258744247459,
         1.3486645918096076,
         1.4838898931640883,
         1.3848675969150164,
         1.6432157128273264,
         1.715111065931797,
         1.5292583443626213,
         1.383011191013564,
         1.2859905353717005,
         1.4296930474060503,
         1.396276557578993,
         1.4368254269451692,
         1.4465559240620507,
         1.3584873905218358,
         1.6207563380858077
        ]
       ],
       "encoder": "json",
       "name": "ABC_GAN_3 Metrics",
       "version": 1
      }
     },
     "metadata": {
      "scrapbook": {
       "data": true,
       "display": false,
       "name": "ABC_GAN_3 Metrics"
      }
     },
     "output_type": "display_data"
    },
    {
     "name": "stdout",
     "output_type": "stream",
     "text": [
      "MSE\n",
      "0.1065772346636723\n"
     ]
    }
   ],
   "source": [
    "ABC_GAN3_metrics=ABC_train_test2.test_generator(gen3,test_data,prior_model,variance,bias,\"3\",device)\n",
    "sb.glue(\"ABC_GAN_3 Metrics\",ABC_GAN3_metrics)\n",
    "\n",
    "print(\"MSE\")\n",
    "print(mean(ABC_GAN3_metrics[0]))"
   ]
  },
  {
   "cell_type": "code",
   "execution_count": 18,
   "id": "c8e46b48",
   "metadata": {
    "execution": {
     "iopub.execute_input": "2022-06-22T14:20:12.189442Z",
     "iopub.status.busy": "2022-06-22T14:20:12.186282Z",
     "iopub.status.idle": "2022-06-22T14:20:13.064860Z",
     "shell.execute_reply": "2022-06-22T14:20:13.065522Z"
    },
    "id": "c8e46b48",
    "papermill": {
     "duration": 0.951337,
     "end_time": "2022-06-22T14:20:13.065770",
     "exception": false,
     "start_time": "2022-06-22T14:20:12.114433",
     "status": "completed"
    },
    "tags": []
   },
   "outputs": [
    {
     "data": {
      "image/png": "[encoded data removed]",
      "text/plain": [
       "<Figure size 432x288 with 1 Axes>"
      ]
     },
     "metadata": {
      "needs_background": "light"
     },
     "output_type": "display_data"
    },
    {
     "data": {
      "image/png": "[encoded data removed]",
      "text/plain": [
       "<Figure size 432x288 with 1 Axes>"
      ]
     },
     "metadata": {
      "needs_background": "light"
     },
     "output_type": "display_data"
    },
    {
     "data": {
      "image/png": "[encoded data removed]",
      "text/plain": [
       "<Figure size 432x288 with 1 Axes>"
      ]
     },
     "metadata": {
      "needs_background": "light"
     },
     "output_type": "display_data"
    },
    {
     "data": {
      "image/png": "[encoded data removed]",
      "text/plain": [
       "<Figure size 432x288 with 1 Axes>"
      ]
     },
     "metadata": {
      "needs_background": "light"
     },
     "output_type": "display_data"
    }
   ],
   "source": [
    "sanityChecks.discProbVsError(train_data,disc3,device)\n",
    "sanityChecks.discProbVsError(test_data,disc3,device)"
   ]
  },
  {
   "cell_type": "markdown",
   "id": "a5bd74c3",
   "metadata": {
    "id": "a5bd74c3",
    "papermill": {
     "duration": 0.066307,
     "end_time": "2022-06-22T14:20:13.194807",
     "exception": false,
     "start_time": "2022-06-22T14:20:13.128500",
     "status": "completed"
    },
    "tags": []
   },
   "source": [
    "## Skip Connection Model Analysis - ABC-GAN "
   ]
  },
  {
   "cell_type": "markdown",
   "id": "5744a8bf",
   "metadata": {
    "id": "5744a8bf",
    "papermill": {
     "duration": 0.103243,
     "end_time": "2022-06-22T14:20:13.383784",
     "exception": false,
     "start_time": "2022-06-22T14:20:13.280541",
     "status": "completed"
    },
    "tags": []
   },
   "source": [
    "### Weight Analysis \n",
    "\n",
    "Study the weights of the skip connection layer\n",
    "\n",
    "Equation of the skip connection is \n",
    "\n",
    "$output = y_{gan} * w + y_{abc} * (1-w)$"
   ]
  },
  {
   "cell_type": "code",
   "execution_count": 19,
   "id": "52c31dea",
   "metadata": {
    "execution": {
     "iopub.execute_input": "2022-06-22T14:20:13.564366Z",
     "iopub.status.busy": "2022-06-22T14:20:13.563398Z",
     "iopub.status.idle": "2022-06-22T14:20:13.570590Z",
     "shell.execute_reply": "2022-06-22T14:20:13.571825Z"
    },
    "id": "52c31dea",
    "papermill": {
     "duration": 0.103403,
     "end_time": "2022-06-22T14:20:13.572213",
     "exception": false,
     "start_time": "2022-06-22T14:20:13.468810",
     "status": "completed"
    },
    "tags": []
   },
   "outputs": [
    {
     "name": "stdout",
     "output_type": "stream",
     "text": [
      "Weight of the node at skip connection\n",
      "Parameter containing:\n",
      "tensor([[0.7543]], requires_grad=True)\n"
     ]
    },
    {
     "data": {
      "application/scrapbook.scrap.json+json": {
       "data": 0.7542940974235535,
       "encoder": "json",
       "name": "Skip Connection Weight",
       "version": 1
      }
     },
     "metadata": {
      "scrapbook": {
       "data": true,
       "display": false,
       "name": "Skip Connection Weight"
      }
     },
     "output_type": "display_data"
    }
   ],
   "source": [
    "print(\"Weight of the node at skip connection\")\n",
    "for name,param in gen3.named_parameters():\n",
    "    if(name == \"skipNode.weight\"):\n",
    "        print(param)\n",
    "        sb.glue(\"Skip Connection Weight\",param.item())"
   ]
  }
 ],
 "metadata": {
  "colab": {
   "collapsed_sections": [],
   "name": "ABC_GAN_Model-Catboost_Pre-gen.ipynb",
   "provenance": []
  },
  "interpreter": {
   "hash": "31f2aee4e71d21fbe5cf8b01ff0e069b9275f58929596ceb00d14d90e3e16cd6"
  },
  "kernelspec": {
   "display_name": "Python 3 (ipykernel)",
   "language": "python",
   "name": "python3"
  },
  "language_info": {
   "codemirror_mode": {
    "name": "ipython",
    "version": 3
   },
   "file_extension": ".py",
   "mimetype": "text/x-python",
   "name": "python",
   "nbconvert_exporter": "python",
   "pygments_lexer": "ipython3",
   "version": "3.8.3"
  },
  "papermill": {
   "default_parameters": {},
   "duration": 184.56414,
   "end_time": "2022-06-22T14:20:15.174322",
   "environment_variables": {},
   "exception": null,
   "input_path": "ABC_GAN-TabNet.ipynb",
   "output_path": "./ABC_GAN_TabNet/ABC-GAN_output_6_3.ipynb",
   "parameters": {
    "bias": 0.1,
    "variance": 1
   },
   "start_time": "2022-06-22T14:17:10.610182",
   "version": "2.3.3"
  }
 },
 "nbformat": 4,
 "nbformat_minor": 5
}