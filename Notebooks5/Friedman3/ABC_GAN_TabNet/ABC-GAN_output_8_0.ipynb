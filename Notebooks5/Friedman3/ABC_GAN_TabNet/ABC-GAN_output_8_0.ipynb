{
 "cells": [
  {
   "cell_type": "markdown",
   "id": "622780e6",
   "metadata": {
    "id": "622780e6",
    "papermill": {
     "duration": 0.026286,
     "end_time": "2022-06-22T15:13:47.048633",
     "exception": false,
     "start_time": "2022-06-22T15:13:47.022347",
     "status": "completed"
    },
    "tags": []
   },
   "source": [
    "## Import Libraries "
   ]
  },
  {
   "cell_type": "code",
   "execution_count": 1,
   "id": "a62397e3",
   "metadata": {
    "execution": {
     "iopub.execute_input": "2022-06-22T15:13:47.094661Z",
     "iopub.status.busy": "2022-06-22T15:13:47.092785Z",
     "iopub.status.idle": "2022-06-22T15:13:47.098496Z",
     "shell.execute_reply": "2022-06-22T15:13:47.099167Z"
    },
    "id": "a62397e3",
    "papermill": {
     "duration": 0.031086,
     "end_time": "2022-06-22T15:13:47.099494",
     "exception": false,
     "start_time": "2022-06-22T15:13:47.068408",
     "status": "completed"
    },
    "tags": []
   },
   "outputs": [],
   "source": [
    "import warnings\n",
    "import sys\n",
    "sys.path.insert(0, '../../src')\n",
    "warnings.filterwarnings('ignore')"
   ]
  },
  {
   "cell_type": "code",
   "execution_count": 2,
   "id": "d6a4e155",
   "metadata": {
    "execution": {
     "iopub.execute_input": "2022-06-22T15:13:47.135445Z",
     "iopub.status.busy": "2022-06-22T15:13:47.134657Z",
     "iopub.status.idle": "2022-06-22T15:13:52.899614Z",
     "shell.execute_reply": "2022-06-22T15:13:52.900254Z"
    },
    "id": "d6a4e155",
    "papermill": {
     "duration": 5.784523,
     "end_time": "2022-06-22T15:13:52.900502",
     "exception": false,
     "start_time": "2022-06-22T15:13:47.115979",
     "status": "completed"
    },
    "tags": []
   },
   "outputs": [],
   "source": [
    "import ABC_train_test2\n",
    "import friedman3Dataset\n",
    "import network\n",
    "import dataset\n",
    "import sanityChecks\n",
    "import torch \n",
    "import scrapbook as sb\n",
    "from statistics import mean \n",
    "import catboost as ctb \n",
    "from sklearn.model_selection import train_test_split\n",
    "from sklearn.metrics import mean_squared_error,mean_absolute_error\n",
    "import numpy as np\n",
    "from pytorch_tabnet.tab_model import TabNetRegressor"
   ]
  },
  {
   "cell_type": "markdown",
   "id": "2fa5b0f7",
   "metadata": {
    "id": "2fa5b0f7",
    "papermill": {
     "duration": 0.020336,
     "end_time": "2022-06-22T15:13:52.939941",
     "exception": false,
     "start_time": "2022-06-22T15:13:52.919605",
     "status": "completed"
    },
    "tags": []
   },
   "source": [
    "## Parameters "
   ]
  },
  {
   "cell_type": "code",
   "execution_count": 3,
   "id": "783186fb",
   "metadata": {
    "execution": {
     "iopub.execute_input": "2022-06-22T15:13:52.981909Z",
     "iopub.status.busy": "2022-06-22T15:13:52.979849Z",
     "iopub.status.idle": "2022-06-22T15:13:52.982830Z",
     "shell.execute_reply": "2022-06-22T15:13:52.983323Z"
    },
    "id": "783186fb",
    "papermill": {
     "duration": 0.02401,
     "end_time": "2022-06-22T15:13:52.983569",
     "exception": false,
     "start_time": "2022-06-22T15:13:52.959559",
     "status": "completed"
    },
    "tags": [
     "parameters"
    ]
   },
   "outputs": [],
   "source": [
    "variance = 1\n",
    "bias = 1 "
   ]
  },
  {
   "cell_type": "code",
   "execution_count": 4,
   "id": "d12ca84c",
   "metadata": {
    "execution": {
     "iopub.execute_input": "2022-06-22T15:13:53.016254Z",
     "iopub.status.busy": "2022-06-22T15:13:53.015051Z",
     "iopub.status.idle": "2022-06-22T15:13:53.017155Z",
     "shell.execute_reply": "2022-06-22T15:13:53.017620Z"
    },
    "papermill": {
     "duration": 0.019455,
     "end_time": "2022-06-22T15:13:53.017832",
     "exception": false,
     "start_time": "2022-06-22T15:13:52.998377",
     "status": "completed"
    },
    "tags": [
     "injected-parameters"
    ]
   },
   "outputs": [],
   "source": [
    "# Parameters\n",
    "variance = 1\n",
    "bias = 1\n"
   ]
  },
  {
   "cell_type": "markdown",
   "id": "391cdbfd",
   "metadata": {
    "id": "391cdbfd",
    "papermill": {
     "duration": 0.019948,
     "end_time": "2022-06-22T15:13:53.052115",
     "exception": false,
     "start_time": "2022-06-22T15:13:53.032167",
     "status": "completed"
    },
    "tags": []
   },
   "source": [
    "## Dataset \n"
   ]
  },
  {
   "cell_type": "code",
   "execution_count": 5,
   "id": "5b51f161",
   "metadata": {
    "execution": {
     "iopub.execute_input": "2022-06-22T15:13:53.084702Z",
     "iopub.status.busy": "2022-06-22T15:13:53.083975Z",
     "iopub.status.idle": "2022-06-22T15:13:53.085957Z",
     "shell.execute_reply": "2022-06-22T15:13:53.086365Z"
    },
    "id": "5b51f161",
    "papermill": {
     "duration": 0.019151,
     "end_time": "2022-06-22T15:13:53.086566",
     "exception": false,
     "start_time": "2022-06-22T15:13:53.067415",
     "status": "completed"
    },
    "tags": []
   },
   "outputs": [],
   "source": [
    "#Parameters \n",
    "n_features = 4\n",
    "n_samples= 100\n",
    "n_target = 1"
   ]
  },
  {
   "cell_type": "code",
   "execution_count": 6,
   "id": "5d6eced4",
   "metadata": {
    "execution": {
     "iopub.execute_input": "2022-06-22T15:13:53.115782Z",
     "iopub.status.busy": "2022-06-22T15:13:53.115083Z",
     "iopub.status.idle": "2022-06-22T15:13:53.126578Z",
     "shell.execute_reply": "2022-06-22T15:13:53.127404Z"
    },
    "id": "5d6eced4",
    "papermill": {
     "duration": 0.028556,
     "end_time": "2022-06-22T15:13:53.127638",
     "exception": false,
     "start_time": "2022-06-22T15:13:53.099082",
     "status": "completed"
    },
    "tags": []
   },
   "outputs": [
    {
     "name": "stdout",
     "output_type": "stream",
     "text": [
      "          X1           X2        X3        X4         Y\n",
      "0  46.115732   941.563153  0.404257  2.944126  1.358392\n",
      "1  34.282444  1554.805570  0.344757  5.228862  1.568505\n",
      "2  22.160801   495.511302  0.798247  8.078106  1.460752\n",
      "3  62.387741   196.907290  0.108552  9.213361  0.289473\n",
      "4  13.503549   224.725505  0.089727  5.854418  0.945733\n"
     ]
    }
   ],
   "source": [
    "X,Y = friedman3Dataset.friedman3_data(n_samples)"
   ]
  },
  {
   "cell_type": "code",
   "execution_count": 7,
   "id": "fe007438",
   "metadata": {
    "execution": {
     "iopub.execute_input": "2022-06-22T15:13:53.163810Z",
     "iopub.status.busy": "2022-06-22T15:13:53.162218Z",
     "iopub.status.idle": "2022-06-22T15:13:53.167394Z",
     "shell.execute_reply": "2022-06-22T15:13:53.166845Z"
    },
    "id": "fe007438",
    "papermill": {
     "duration": 0.026587,
     "end_time": "2022-06-22T15:13:53.167602",
     "exception": false,
     "start_time": "2022-06-22T15:13:53.141015",
     "status": "completed"
    },
    "tags": []
   },
   "outputs": [],
   "source": [
    "#Train test split for dataset \n",
    "X_train,X_test,Y_train,Y_test = train_test_split(X,Y,test_size = 0.2)\n",
    "train_data = dataset.CustomDataset(X_train,Y_train)\n",
    "test_data = dataset.CustomDataset(X_test,Y_test)\n"
   ]
  },
  {
   "cell_type": "markdown",
   "id": "a9a1af34",
   "metadata": {
    "id": "a9a1af34",
    "papermill": {
     "duration": 0.014542,
     "end_time": "2022-06-22T15:13:53.198253",
     "exception": false,
     "start_time": "2022-06-22T15:13:53.183711",
     "status": "completed"
    },
    "tags": []
   },
   "source": [
    "## Training Parameters "
   ]
  },
  {
   "cell_type": "code",
   "execution_count": 8,
   "id": "952b7fc8",
   "metadata": {
    "execution": {
     "iopub.execute_input": "2022-06-22T15:13:53.230980Z",
     "iopub.status.busy": "2022-06-22T15:13:53.229520Z",
     "iopub.status.idle": "2022-06-22T15:13:53.233872Z",
     "shell.execute_reply": "2022-06-22T15:13:53.234691Z"
    },
    "id": "952b7fc8",
    "papermill": {
     "duration": 0.025096,
     "end_time": "2022-06-22T15:13:53.236494",
     "exception": false,
     "start_time": "2022-06-22T15:13:53.211398",
     "status": "completed"
    },
    "tags": []
   },
   "outputs": [],
   "source": [
    "batch_size = 32\n",
    "n_epochs = 1000\n",
    "#Select the device \n",
    "device = torch.device('cuda' if torch.cuda.is_available() else 'cpu')"
   ]
  },
  {
   "cell_type": "markdown",
   "id": "a95e1600",
   "metadata": {
    "id": "a95e1600",
    "papermill": {
     "duration": 0.014331,
     "end_time": "2022-06-22T15:13:53.265629",
     "exception": false,
     "start_time": "2022-06-22T15:13:53.251298",
     "status": "completed"
    },
    "tags": []
   },
   "source": [
    "# ABC Pre-generator Model \n",
    "\n",
    "1. The catboost model is used as a pre-generator model for the ABC-GAN. \n",
    "2. The model is first trained on the entire dataset \n",
    "3. It generats X,Y pairs and we add some Gaussian noise with mean 0 and variance 1 to it which is then feed as input to the generator.\n"
   ]
  },
  {
   "cell_type": "code",
   "execution_count": 9,
   "id": "ff8ce7bd",
   "metadata": {
    "execution": {
     "iopub.execute_input": "2022-06-22T15:13:53.303642Z",
     "iopub.status.busy": "2022-06-22T15:13:53.302763Z",
     "iopub.status.idle": "2022-06-22T15:14:07.311572Z",
     "shell.execute_reply": "2022-06-22T15:14:07.312251Z"
    },
    "id": "ff8ce7bd",
    "papermill": {
     "duration": 14.032567,
     "end_time": "2022-06-22T15:14:07.312468",
     "exception": false,
     "start_time": "2022-06-22T15:13:53.279901",
     "status": "completed"
    },
    "tags": []
   },
   "outputs": [
    {
     "name": "stdout",
     "output_type": "stream",
     "text": [
      "Device used : cpu\n"
     ]
    },
    {
     "name": "stdout",
     "output_type": "stream",
     "text": [
      "epoch 0  | loss: 1.0909  | train_mse: 9.47989 | train_mae: 1.86649 |  0:00:00s\n",
      "epoch 1  | loss: 0.85388 | train_mse: 2.59478 | train_mae: 1.18715 |  0:00:00s\n",
      "epoch 2  | loss: 0.65755 | train_mse: 1.84829 | train_mae: 1.02525 |  0:00:00s\n"
     ]
    },
    {
     "name": "stdout",
     "output_type": "stream",
     "text": [
      "epoch 3  | loss: 0.68916 | train_mse: 1.42969 | train_mae: 0.87278 |  0:00:00s\n",
      "epoch 4  | loss: 0.63457 | train_mse: 2.09199 | train_mae: 0.95484 |  0:00:00s\n",
      "epoch 5  | loss: 0.47176 | train_mse: 1.47384 | train_mae: 0.83654 |  0:00:00s\n"
     ]
    },
    {
     "name": "stdout",
     "output_type": "stream",
     "text": [
      "epoch 6  | loss: 0.49181 | train_mse: 0.82598 | train_mae: 0.61107 |  0:00:00s\n",
      "epoch 7  | loss: 0.53239 | train_mse: 0.90151 | train_mae: 0.61105 |  0:00:00s\n",
      "epoch 8  | loss: 0.56355 | train_mse: 1.29143 | train_mae: 0.74051 |  0:00:00s\n"
     ]
    },
    {
     "name": "stdout",
     "output_type": "stream",
     "text": [
      "epoch 9  | loss: 0.60307 | train_mse: 1.2505  | train_mae: 0.76915 |  0:00:00s\n",
      "epoch 10 | loss: 0.39017 | train_mse: 0.90391 | train_mae: 0.71135 |  0:00:00s\n",
      "epoch 11 | loss: 0.2355  | train_mse: 0.58202 | train_mae: 0.60998 |  0:00:00s\n",
      "epoch 12 | loss: 0.23105 | train_mse: 0.46984 | train_mae: 0.50778 |  0:00:01s\n"
     ]
    },
    {
     "name": "stdout",
     "output_type": "stream",
     "text": [
      "epoch 13 | loss: 0.28126 | train_mse: 0.40124 | train_mae: 0.46525 |  0:00:01s\n",
      "epoch 14 | loss: 0.2433  | train_mse: 0.47492 | train_mae: 0.50301 |  0:00:01s\n",
      "epoch 15 | loss: 0.24578 | train_mse: 0.52912 | train_mae: 0.54513 |  0:00:01s\n"
     ]
    },
    {
     "name": "stdout",
     "output_type": "stream",
     "text": [
      "epoch 16 | loss: 0.22446 | train_mse: 0.4777  | train_mae: 0.52252 |  0:00:01s\n",
      "epoch 17 | loss: 0.29063 | train_mse: 0.3331  | train_mae: 0.41996 |  0:00:01s\n",
      "epoch 18 | loss: 0.20739 | train_mse: 0.30665 | train_mae: 0.41518 |  0:00:01s\n"
     ]
    },
    {
     "name": "stdout",
     "output_type": "stream",
     "text": [
      "epoch 19 | loss: 0.14738 | train_mse: 0.27893 | train_mae: 0.40434 |  0:00:01s\n",
      "epoch 20 | loss: 0.24607 | train_mse: 0.25931 | train_mae: 0.37864 |  0:00:01s\n",
      "epoch 21 | loss: 0.24883 | train_mse: 0.34593 | train_mae: 0.44052 |  0:00:01s\n"
     ]
    },
    {
     "name": "stdout",
     "output_type": "stream",
     "text": [
      "epoch 22 | loss: 0.21038 | train_mse: 0.46348 | train_mae: 0.492   |  0:00:01s\n",
      "epoch 23 | loss: 0.28286 | train_mse: 0.36927 | train_mae: 0.4555  |  0:00:01s\n",
      "epoch 24 | loss: 0.30014 | train_mse: 0.38612 | train_mae: 0.47086 |  0:00:02s\n"
     ]
    },
    {
     "name": "stdout",
     "output_type": "stream",
     "text": [
      "epoch 25 | loss: 0.20768 | train_mse: 0.36733 | train_mae: 0.44834 |  0:00:02s\n",
      "epoch 26 | loss: 0.25601 | train_mse: 0.31773 | train_mae: 0.41035 |  0:00:02s\n",
      "epoch 27 | loss: 0.13443 | train_mse: 0.19878 | train_mae: 0.31801 |  0:00:02s\n"
     ]
    },
    {
     "name": "stdout",
     "output_type": "stream",
     "text": [
      "epoch 28 | loss: 0.21481 | train_mse: 0.20384 | train_mae: 0.31385 |  0:00:02s\n",
      "epoch 29 | loss: 0.16458 | train_mse: 0.17299 | train_mae: 0.29966 |  0:00:02s\n"
     ]
    },
    {
     "name": "stdout",
     "output_type": "stream",
     "text": [
      "epoch 30 | loss: 0.30833 | train_mse: 0.15535 | train_mae: 0.2874  |  0:00:02s\n",
      "epoch 31 | loss: 0.17333 | train_mse: 0.16614 | train_mae: 0.30035 |  0:00:02s\n",
      "epoch 32 | loss: 0.21158 | train_mse: 0.17892 | train_mae: 0.30188 |  0:00:02s\n"
     ]
    },
    {
     "name": "stdout",
     "output_type": "stream",
     "text": [
      "epoch 33 | loss: 0.13683 | train_mse: 0.21604 | train_mae: 0.34301 |  0:00:02s\n",
      "epoch 34 | loss: 0.16887 | train_mse: 0.21049 | train_mae: 0.34308 |  0:00:03s\n",
      "epoch 35 | loss: 0.17799 | train_mse: 0.22322 | train_mae: 0.35145 |  0:00:03s\n",
      "epoch 36 | loss: 0.13568 | train_mse: 0.19626 | train_mae: 0.33288 |  0:00:03s\n"
     ]
    },
    {
     "name": "stdout",
     "output_type": "stream",
     "text": [
      "epoch 37 | loss: 0.18352 | train_mse: 0.10544 | train_mae: 0.24635 |  0:00:03s\n",
      "epoch 38 | loss: 0.22706 | train_mse: 0.09175 | train_mae: 0.23186 |  0:00:03s\n",
      "epoch 39 | loss: 0.15676 | train_mse: 0.08286 | train_mae: 0.22048 |  0:00:03s\n"
     ]
    },
    {
     "name": "stdout",
     "output_type": "stream",
     "text": [
      "epoch 40 | loss: 0.1734  | train_mse: 0.07187 | train_mae: 0.20821 |  0:00:03s\n",
      "epoch 41 | loss: 0.12566 | train_mse: 0.09145 | train_mae: 0.24307 |  0:00:03s\n",
      "epoch 42 | loss: 0.14695 | train_mse: 0.13019 | train_mae: 0.2808  |  0:00:03s\n",
      "epoch 43 | loss: 0.20097 | train_mse: 0.10401 | train_mae: 0.24074 |  0:00:03s\n",
      "epoch 44 | loss: 0.1625  | train_mse: 0.0895  | train_mae: 0.22133 |  0:00:03s\n"
     ]
    },
    {
     "name": "stdout",
     "output_type": "stream",
     "text": [
      "epoch 45 | loss: 0.17026 | train_mse: 0.11952 | train_mae: 0.26866 |  0:00:03s\n",
      "epoch 46 | loss: 0.12452 | train_mse: 0.11757 | train_mae: 0.26784 |  0:00:03s\n",
      "epoch 47 | loss: 0.14482 | train_mse: 0.08745 | train_mae: 0.23237 |  0:00:03s\n",
      "epoch 48 | loss: 0.1201  | train_mse: 0.10244 | train_mae: 0.24211 |  0:00:03s\n"
     ]
    },
    {
     "name": "stdout",
     "output_type": "stream",
     "text": [
      "epoch 49 | loss: 0.13787 | train_mse: 0.12037 | train_mae: 0.26271 |  0:00:04s\n",
      "epoch 50 | loss: 0.10132 | train_mse: 0.0882  | train_mae: 0.23131 |  0:00:04s\n",
      "epoch 51 | loss: 0.10109 | train_mse: 0.08386 | train_mae: 0.22882 |  0:00:04s\n",
      "epoch 52 | loss: 0.16261 | train_mse: 0.05582 | train_mae: 0.19074 |  0:00:04s\n"
     ]
    },
    {
     "name": "stdout",
     "output_type": "stream",
     "text": [
      "epoch 53 | loss: 0.29689 | train_mse: 0.06365 | train_mae: 0.20737 |  0:00:04s\n",
      "epoch 54 | loss: 0.12801 | train_mse: 0.07934 | train_mae: 0.22895 |  0:00:04s\n",
      "epoch 55 | loss: 0.12807 | train_mse: 0.07084 | train_mae: 0.22766 |  0:00:04s\n",
      "epoch 56 | loss: 0.21952 | train_mse: 0.11998 | train_mae: 0.27646 |  0:00:04s\n"
     ]
    },
    {
     "name": "stdout",
     "output_type": "stream",
     "text": [
      "epoch 57 | loss: 0.17969 | train_mse: 0.13328 | train_mae: 0.27991 |  0:00:04s\n",
      "epoch 58 | loss: 0.21603 | train_mse: 0.0955  | train_mae: 0.23515 |  0:00:04s\n",
      "epoch 59 | loss: 0.12207 | train_mse: 0.06487 | train_mae: 0.20152 |  0:00:04s\n",
      "epoch 60 | loss: 0.17606 | train_mse: 0.08162 | train_mae: 0.22321 |  0:00:04s\n"
     ]
    },
    {
     "name": "stdout",
     "output_type": "stream",
     "text": [
      "epoch 61 | loss: 0.17634 | train_mse: 0.10563 | train_mae: 0.25346 |  0:00:04s\n",
      "epoch 62 | loss: 0.16067 | train_mse: 0.07864 | train_mae: 0.23734 |  0:00:04s\n",
      "epoch 63 | loss: 0.18215 | train_mse: 0.09726 | train_mae: 0.23989 |  0:00:04s\n"
     ]
    },
    {
     "name": "stdout",
     "output_type": "stream",
     "text": [
      "epoch 64 | loss: 0.14511 | train_mse: 0.10609 | train_mae: 0.23593 |  0:00:05s\n",
      "epoch 65 | loss: 0.10846 | train_mse: 0.09432 | train_mae: 0.22533 |  0:00:05s\n",
      "epoch 66 | loss: 0.16962 | train_mse: 0.07487 | train_mae: 0.20722 |  0:00:05s\n",
      "epoch 67 | loss: 0.11264 | train_mse: 0.06139 | train_mae: 0.20073 |  0:00:05s\n",
      "epoch 68 | loss: 0.1341  | train_mse: 0.07056 | train_mae: 0.21678 |  0:00:05s\n"
     ]
    },
    {
     "name": "stdout",
     "output_type": "stream",
     "text": [
      "epoch 69 | loss: 0.1072  | train_mse: 0.07859 | train_mae: 0.22346 |  0:00:05s\n",
      "epoch 70 | loss: 0.10311 | train_mse: 0.0645  | train_mae: 0.19688 |  0:00:05s\n",
      "epoch 71 | loss: 0.21787 | train_mse: 0.05528 | train_mae: 0.18743 |  0:00:05s\n",
      "epoch 72 | loss: 0.15441 | train_mse: 0.0717  | train_mae: 0.20679 |  0:00:05s\n"
     ]
    },
    {
     "name": "stdout",
     "output_type": "stream",
     "text": [
      "epoch 73 | loss: 0.18183 | train_mse: 0.06811 | train_mae: 0.20171 |  0:00:05s\n",
      "epoch 74 | loss: 0.19395 | train_mse: 0.07677 | train_mae: 0.21067 |  0:00:05s\n",
      "epoch 75 | loss: 0.14122 | train_mse: 0.1007  | train_mae: 0.22296 |  0:00:05s\n",
      "epoch 76 | loss: 0.13467 | train_mse: 0.16593 | train_mae: 0.25907 |  0:00:05s\n"
     ]
    },
    {
     "name": "stdout",
     "output_type": "stream",
     "text": [
      "epoch 77 | loss: 0.19549 | train_mse: 0.1107  | train_mae: 0.24161 |  0:00:05s\n",
      "epoch 78 | loss: 0.22949 | train_mse: 0.0928  | train_mae: 0.22522 |  0:00:05s\n",
      "epoch 79 | loss: 0.16407 | train_mse: 0.08983 | train_mae: 0.21854 |  0:00:06s\n"
     ]
    },
    {
     "name": "stdout",
     "output_type": "stream",
     "text": [
      "epoch 80 | loss: 0.15478 | train_mse: 0.08728 | train_mae: 0.21441 |  0:00:06s\n",
      "epoch 81 | loss: 0.11438 | train_mse: 0.08023 | train_mae: 0.21158 |  0:00:06s\n",
      "epoch 82 | loss: 0.12809 | train_mse: 0.07924 | train_mae: 0.21013 |  0:00:06s\n",
      "epoch 83 | loss: 0.15866 | train_mse: 0.08913 | train_mae: 0.22955 |  0:00:06s\n"
     ]
    },
    {
     "name": "stdout",
     "output_type": "stream",
     "text": [
      "epoch 84 | loss: 0.1163  | train_mse: 0.08553 | train_mae: 0.21935 |  0:00:06s\n",
      "epoch 85 | loss: 0.1065  | train_mse: 0.07176 | train_mae: 0.2116  |  0:00:06s\n",
      "epoch 86 | loss: 0.12194 | train_mse: 0.06786 | train_mae: 0.20686 |  0:00:06s\n",
      "epoch 87 | loss: 0.12138 | train_mse: 0.06736 | train_mae: 0.20665 |  0:00:06s\n"
     ]
    },
    {
     "name": "stdout",
     "output_type": "stream",
     "text": [
      "epoch 88 | loss: 0.08248 | train_mse: 0.06554 | train_mae: 0.20177 |  0:00:06s\n",
      "epoch 89 | loss: 0.1193  | train_mse: 0.05176 | train_mae: 0.1776  |  0:00:06s\n",
      "epoch 90 | loss: 0.13912 | train_mse: 0.05156 | train_mae: 0.17685 |  0:00:06s\n"
     ]
    },
    {
     "name": "stdout",
     "output_type": "stream",
     "text": [
      "epoch 91 | loss: 0.08613 | train_mse: 0.06788 | train_mae: 0.2009  |  0:00:06s\n",
      "epoch 92 | loss: 0.14806 | train_mse: 0.07936 | train_mae: 0.21531 |  0:00:06s\n",
      "epoch 93 | loss: 0.15997 | train_mse: 0.07478 | train_mae: 0.21083 |  0:00:06s\n"
     ]
    },
    {
     "name": "stdout",
     "output_type": "stream",
     "text": [
      "epoch 94 | loss: 0.1343  | train_mse: 0.07712 | train_mae: 0.21175 |  0:00:07s\n",
      "epoch 95 | loss: 0.11342 | train_mse: 0.09279 | train_mae: 0.2396  |  0:00:07s\n",
      "epoch 96 | loss: 0.08412 | train_mse: 0.10411 | train_mae: 0.23374 |  0:00:07s\n",
      "epoch 97 | loss: 0.08379 | train_mse: 0.10178 | train_mae: 0.21491 |  0:00:07s\n"
     ]
    },
    {
     "name": "stdout",
     "output_type": "stream",
     "text": [
      "epoch 98 | loss: 0.09945 | train_mse: 0.08697 | train_mae: 0.21437 |  0:00:07s\n",
      "epoch 99 | loss: 0.09146 | train_mse: 0.07119 | train_mae: 0.21873 |  0:00:07s\n",
      "epoch 100| loss: 0.16023 | train_mse: 0.07293 | train_mae: 0.22226 |  0:00:07s\n"
     ]
    },
    {
     "name": "stdout",
     "output_type": "stream",
     "text": [
      "epoch 101| loss: 0.12308 | train_mse: 0.05145 | train_mae: 0.18631 |  0:00:07s\n",
      "epoch 102| loss: 0.16578 | train_mse: 0.05711 | train_mae: 0.18741 |  0:00:07s\n",
      "epoch 103| loss: 0.07916 | train_mse: 0.08014 | train_mae: 0.21796 |  0:00:07s\n",
      "epoch 104| loss: 0.25973 | train_mse: 0.05507 | train_mae: 0.17907 |  0:00:07s\n"
     ]
    },
    {
     "name": "stdout",
     "output_type": "stream",
     "text": [
      "epoch 105| loss: 0.07357 | train_mse: 0.0469  | train_mae: 0.17098 |  0:00:07s\n",
      "epoch 106| loss: 0.11093 | train_mse: 0.04359 | train_mae: 0.16851 |  0:00:07s\n",
      "epoch 107| loss: 0.10814 | train_mse: 0.0471  | train_mae: 0.17172 |  0:00:07s\n"
     ]
    },
    {
     "name": "stdout",
     "output_type": "stream",
     "text": [
      "epoch 108| loss: 0.07964 | train_mse: 0.04028 | train_mae: 0.16046 |  0:00:07s\n",
      "epoch 109| loss: 0.06367 | train_mse: 0.03922 | train_mae: 0.16091 |  0:00:08s\n",
      "epoch 110| loss: 0.08321 | train_mse: 0.04454 | train_mae: 0.17193 |  0:00:08s\n"
     ]
    },
    {
     "name": "stdout",
     "output_type": "stream",
     "text": [
      "epoch 111| loss: 0.19459 | train_mse: 0.05195 | train_mae: 0.18663 |  0:00:08s\n",
      "epoch 112| loss: 0.18312 | train_mse: 0.05263 | train_mae: 0.18115 |  0:00:08s\n",
      "epoch 113| loss: 0.08558 | train_mse: 0.04368 | train_mae: 0.17105 |  0:00:08s\n",
      "epoch 114| loss: 0.12255 | train_mse: 0.04843 | train_mae: 0.17954 |  0:00:08s\n"
     ]
    },
    {
     "name": "stdout",
     "output_type": "stream",
     "text": [
      "epoch 115| loss: 0.16685 | train_mse: 0.05176 | train_mae: 0.17907 |  0:00:08s\n",
      "epoch 116| loss: 0.28776 | train_mse: 0.06801 | train_mae: 0.19657 |  0:00:08s\n",
      "epoch 117| loss: 0.1793  | train_mse: 0.06965 | train_mae: 0.19575 |  0:00:08s\n",
      "epoch 118| loss: 0.11755 | train_mse: 0.07227 | train_mae: 0.19768 |  0:00:08s\n"
     ]
    },
    {
     "name": "stdout",
     "output_type": "stream",
     "text": [
      "epoch 119| loss: 0.09513 | train_mse: 0.07428 | train_mae: 0.20349 |  0:00:08s\n",
      "epoch 120| loss: 0.08755 | train_mse: 0.06465 | train_mae: 0.19664 |  0:00:08s\n",
      "epoch 121| loss: 0.11245 | train_mse: 0.05534 | train_mae: 0.1802  |  0:00:08s\n"
     ]
    },
    {
     "name": "stdout",
     "output_type": "stream",
     "text": [
      "epoch 122| loss: 0.07811 | train_mse: 0.05361 | train_mae: 0.17913 |  0:00:08s\n",
      "epoch 123| loss: 0.11398 | train_mse: 0.05595 | train_mae: 0.1837  |  0:00:09s\n",
      "epoch 124| loss: 0.20179 | train_mse: 0.07729 | train_mae: 0.21141 |  0:00:09s\n",
      "epoch 125| loss: 0.11101 | train_mse: 0.09603 | train_mae: 0.22095 |  0:00:09s\n"
     ]
    },
    {
     "name": "stdout",
     "output_type": "stream",
     "text": [
      "epoch 126| loss: 0.17456 | train_mse: 0.06646 | train_mae: 0.19509 |  0:00:09s\n",
      "epoch 127| loss: 0.08759 | train_mse: 0.05813 | train_mae: 0.18318 |  0:00:09s\n",
      "epoch 128| loss: 0.09588 | train_mse: 0.05982 | train_mae: 0.18094 |  0:00:09s\n",
      "epoch 129| loss: 0.13691 | train_mse: 0.05354 | train_mae: 0.17664 |  0:00:09s\n"
     ]
    },
    {
     "name": "stdout",
     "output_type": "stream",
     "text": [
      "epoch 130| loss: 0.20202 | train_mse: 0.05709 | train_mae: 0.18852 |  0:00:09s\n",
      "epoch 131| loss: 0.09965 | train_mse: 0.05853 | train_mae: 0.18845 |  0:00:09s\n",
      "epoch 132| loss: 0.08667 | train_mse: 0.05614 | train_mae: 0.18099 |  0:00:09s\n",
      "epoch 133| loss: 0.11718 | train_mse: 0.04572 | train_mae: 0.16329 |  0:00:09s\n"
     ]
    },
    {
     "name": "stdout",
     "output_type": "stream",
     "text": [
      "epoch 134| loss: 0.07221 | train_mse: 0.04732 | train_mae: 0.16818 |  0:00:09s\n",
      "epoch 135| loss: 0.09099 | train_mse: 0.05194 | train_mae: 0.174   |  0:00:09s\n",
      "epoch 136| loss: 0.12094 | train_mse: 0.06152 | train_mae: 0.18609 |  0:00:09s\n"
     ]
    },
    {
     "name": "stdout",
     "output_type": "stream",
     "text": [
      "epoch 137| loss: 0.08028 | train_mse: 0.07554 | train_mae: 0.20496 |  0:00:09s\n",
      "epoch 138| loss: 0.12585 | train_mse: 0.06578 | train_mae: 0.19191 |  0:00:10s\n",
      "epoch 139| loss: 0.07319 | train_mse: 0.05985 | train_mae: 0.18902 |  0:00:10s\n",
      "epoch 140| loss: 0.2483  | train_mse: 0.06689 | train_mae: 0.19798 |  0:00:10s\n"
     ]
    },
    {
     "name": "stdout",
     "output_type": "stream",
     "text": [
      "epoch 141| loss: 0.11037 | train_mse: 0.08357 | train_mae: 0.213   |  0:00:10s\n",
      "epoch 142| loss: 0.15675 | train_mse: 0.0653  | train_mae: 0.2045  |  0:00:10s\n",
      "epoch 143| loss: 0.1086  | train_mse: 0.0592  | train_mae: 0.19711 |  0:00:10s\n",
      "epoch 144| loss: 0.08096 | train_mse: 0.05243 | train_mae: 0.1757  |  0:00:10s\n"
     ]
    },
    {
     "name": "stdout",
     "output_type": "stream",
     "text": [
      "epoch 145| loss: 0.08489 | train_mse: 0.04619 | train_mae: 0.1629  |  0:00:10s\n",
      "epoch 146| loss: 0.14171 | train_mse: 0.04114 | train_mae: 0.15906 |  0:00:10s\n",
      "epoch 147| loss: 0.1012  | train_mse: 0.04009 | train_mae: 0.15839 |  0:00:10s\n",
      "epoch 148| loss: 0.07857 | train_mse: 0.04239 | train_mae: 0.16351 |  0:00:10s\n"
     ]
    },
    {
     "name": "stdout",
     "output_type": "stream",
     "text": [
      "epoch 149| loss: 0.143   | train_mse: 0.05244 | train_mae: 0.18294 |  0:00:10s\n",
      "epoch 150| loss: 0.08074 | train_mse: 0.05533 | train_mae: 0.19012 |  0:00:10s\n",
      "epoch 151| loss: 0.0885  | train_mse: 0.05843 | train_mae: 0.1845  |  0:00:10s\n",
      "epoch 152| loss: 0.28907 | train_mse: 0.07395 | train_mae: 0.20473 |  0:00:10s\n"
     ]
    },
    {
     "name": "stdout",
     "output_type": "stream",
     "text": [
      "epoch 153| loss: 0.0849  | train_mse: 0.05652 | train_mae: 0.1801  |  0:00:11s\n",
      "epoch 154| loss: 0.12834 | train_mse: 0.05766 | train_mae: 0.18113 |  0:00:11s\n",
      "epoch 155| loss: 0.12628 | train_mse: 0.06676 | train_mae: 0.18627 |  0:00:11s\n",
      "epoch 156| loss: 0.09801 | train_mse: 0.08542 | train_mae: 0.21141 |  0:00:11s\n"
     ]
    },
    {
     "name": "stdout",
     "output_type": "stream",
     "text": [
      "epoch 157| loss: 0.1746  | train_mse: 0.07598 | train_mae: 0.19925 |  0:00:11s\n",
      "epoch 158| loss: 0.2007  | train_mse: 0.06161 | train_mae: 0.18202 |  0:00:11s\n",
      "epoch 159| loss: 0.10306 | train_mse: 0.07316 | train_mae: 0.20687 |  0:00:11s\n",
      "epoch 160| loss: 0.10118 | train_mse: 0.06008 | train_mae: 0.18886 |  0:00:11s\n"
     ]
    },
    {
     "name": "stdout",
     "output_type": "stream",
     "text": [
      "epoch 161| loss: 0.07762 | train_mse: 0.05147 | train_mae: 0.18583 |  0:00:11s\n",
      "epoch 162| loss: 0.08095 | train_mse: 0.05922 | train_mae: 0.19194 |  0:00:11s\n",
      "epoch 163| loss: 0.25357 | train_mse: 0.06116 | train_mae: 0.19332 |  0:00:11s\n",
      "epoch 164| loss: 0.06428 | train_mse: 0.05244 | train_mae: 0.18234 |  0:00:11s\n"
     ]
    },
    {
     "name": "stdout",
     "output_type": "stream",
     "text": [
      "epoch 165| loss: 0.1508  | train_mse: 0.04061 | train_mae: 0.1592  |  0:00:11s\n",
      "epoch 166| loss: 0.10063 | train_mse: 0.04037 | train_mae: 0.1621  |  0:00:11s\n",
      "epoch 167| loss: 0.12756 | train_mse: 0.04035 | train_mae: 0.16281 |  0:00:11s\n",
      "epoch 168| loss: 0.12232 | train_mse: 0.04959 | train_mae: 0.18455 |  0:00:12s\n"
     ]
    },
    {
     "name": "stdout",
     "output_type": "stream",
     "text": [
      "epoch 169| loss: 0.14926 | train_mse: 0.0566  | train_mae: 0.19205 |  0:00:12s\n",
      "epoch 170| loss: 0.08264 | train_mse: 0.06229 | train_mae: 0.20075 |  0:00:12s\n",
      "epoch 171| loss: 0.09232 | train_mse: 0.05669 | train_mae: 0.18887 |  0:00:12s\n",
      "epoch 172| loss: 0.09581 | train_mse: 0.04351 | train_mae: 0.16994 |  0:00:12s\n"
     ]
    },
    {
     "name": "stdout",
     "output_type": "stream",
     "text": [
      "epoch 173| loss: 0.08376 | train_mse: 0.04203 | train_mae: 0.16874 |  0:00:12s\n",
      "epoch 174| loss: 0.26538 | train_mse: 0.05099 | train_mae: 0.1822  |  0:00:12s\n",
      "epoch 175| loss: 0.23563 | train_mse: 0.06231 | train_mae: 0.19781 |  0:00:12s\n",
      "epoch 176| loss: 0.27158 | train_mse: 0.05814 | train_mae: 0.19389 |  0:00:12s\n"
     ]
    },
    {
     "name": "stdout",
     "output_type": "stream",
     "text": [
      "epoch 177| loss: 0.10667 | train_mse: 0.05445 | train_mae: 0.188   |  0:00:12s\n",
      "epoch 178| loss: 0.08458 | train_mse: 0.0531  | train_mae: 0.18578 |  0:00:12s\n",
      "epoch 179| loss: 0.11161 | train_mse: 0.05417 | train_mae: 0.18601 |  0:00:12s\n",
      "epoch 180| loss: 0.09694 | train_mse: 0.06121 | train_mae: 0.19566 |  0:00:12s\n"
     ]
    },
    {
     "name": "stdout",
     "output_type": "stream",
     "text": [
      "epoch 181| loss: 0.14917 | train_mse: 0.05443 | train_mae: 0.18578 |  0:00:12s\n",
      "epoch 182| loss: 0.0685  | train_mse: 0.06772 | train_mae: 0.20532 |  0:00:12s\n",
      "epoch 183| loss: 0.09683 | train_mse: 0.06626 | train_mae: 0.19974 |  0:00:13s\n",
      "epoch 184| loss: 0.12985 | train_mse: 0.05629 | train_mae: 0.18003 |  0:00:13s\n"
     ]
    },
    {
     "name": "stdout",
     "output_type": "stream",
     "text": [
      "epoch 185| loss: 0.1826  | train_mse: 0.05917 | train_mae: 0.18416 |  0:00:13s\n",
      "epoch 186| loss: 0.09953 | train_mse: 0.06104 | train_mae: 0.18832 |  0:00:13s\n",
      "epoch 187| loss: 0.09107 | train_mse: 0.06394 | train_mae: 0.1944  |  0:00:13s\n",
      "epoch 188| loss: 0.1918  | train_mse: 0.05402 | train_mae: 0.1859  |  0:00:13s\n"
     ]
    },
    {
     "name": "stdout",
     "output_type": "stream",
     "text": [
      "epoch 189| loss: 0.09516 | train_mse: 0.05718 | train_mae: 0.1919  |  0:00:13s\n",
      "epoch 190| loss: 0.13958 | train_mse: 0.06189 | train_mae: 0.19737 |  0:00:13s\n",
      "epoch 191| loss: 0.09887 | train_mse: 0.0546  | train_mae: 0.1829  |  0:00:13s\n",
      "epoch 192| loss: 0.07137 | train_mse: 0.06749 | train_mae: 0.19433 |  0:00:13s\n"
     ]
    },
    {
     "name": "stdout",
     "output_type": "stream",
     "text": [
      "epoch 193| loss: 0.10689 | train_mse: 0.07478 | train_mae: 0.20972 |  0:00:13s\n",
      "epoch 194| loss: 0.10043 | train_mse: 0.10292 | train_mae: 0.23579 |  0:00:13s\n",
      "epoch 195| loss: 0.09225 | train_mse: 0.16257 | train_mae: 0.27718 |  0:00:13s\n",
      "epoch 196| loss: 0.1299  | train_mse: 0.1329  | train_mae: 0.25521 |  0:00:13s\n"
     ]
    },
    {
     "name": "stdout",
     "output_type": "stream",
     "text": [
      "epoch 197| loss: 0.14493 | train_mse: 0.06317 | train_mae: 0.19919 |  0:00:13s\n",
      "\n",
      "Early stopping occurred at epoch 197 with best_epoch = 147 and best_train_mae = 0.15839\n",
      "Best weights from best epoch are automatically used!\n"
     ]
    }
   ],
   "source": [
    "#Train the Model\n",
    "\n",
    "Y_train = np.reshape(Y_train, (-1, 1))\n",
    "Y_test = np.reshape(Y_test, (-1, 1))\n",
    "\n",
    "prior_model = TabNetRegressor(optimizer_fn=torch.optim.Adam, optimizer_params=dict(lr = 0.02),\n",
    "          #scheduler_params={\"step_size\":10, ], \"gamma\":0.9},\n",
    "          #scheduler_fn=torch.optim.lr_scheduler.StepLR\n",
    "          )  #TabNetRegressor()\n",
    "\n",
    "prior_model.fit(X_train,Y_train,eval_set=[(X_train, Y_train)],\n",
    "            eval_name=['train'], \n",
    "            eval_metric=[ 'mse', 'mae'], \n",
    "            max_epochs = n_epochs, \n",
    "            batch_size = batch_size,\n",
    "            patience=50\n",
    "            )"
   ]
  },
  {
   "cell_type": "code",
   "execution_count": 10,
   "id": "af65dcda",
   "metadata": {
    "execution": {
     "iopub.execute_input": "2022-06-22T15:14:07.391512Z",
     "iopub.status.busy": "2022-06-22T15:14:07.390568Z",
     "iopub.status.idle": "2022-06-22T15:14:07.418273Z",
     "shell.execute_reply": "2022-06-22T15:14:07.417703Z"
    },
    "id": "af65dcda",
    "papermill": {
     "duration": 0.075359,
     "end_time": "2022-06-22T15:14:07.418493",
     "exception": false,
     "start_time": "2022-06-22T15:14:07.343134",
     "status": "completed"
    },
    "tags": []
   },
   "outputs": [
    {
     "data": {
      "application/scrapbook.scrap.json+json": {
       "data": 0.09558461607619681,
       "encoder": "json",
       "name": "Prior Model MSE",
       "version": 1
      }
     },
     "metadata": {
      "scrapbook": {
       "data": true,
       "display": false,
       "name": "Prior Model MSE"
      }
     },
     "output_type": "display_data"
    },
    {
     "data": {
      "application/scrapbook.scrap.json+json": {
       "data": 2.941008786093266,
       "encoder": "json",
       "name": "ABC Pre-generator MSE",
       "version": 1
      }
     },
     "metadata": {
      "scrapbook": {
       "data": true,
       "display": false,
       "name": "ABC Pre-generator MSE"
      }
     },
     "output_type": "display_data"
    },
    {
     "data": {
      "application/scrapbook.scrap.json+json": {
       "data": 0.2310222243876688,
       "encoder": "json",
       "name": "Prior Model MSE",
       "version": 1
      }
     },
     "metadata": {
      "scrapbook": {
       "data": true,
       "display": false,
       "name": "Prior Model MSE"
      }
     },
     "output_type": "display_data"
    },
    {
     "data": {
      "application/scrapbook.scrap.json+json": {
       "data": 1.4556183405298353,
       "encoder": "json",
       "name": "ABC Pre-generator MSE",
       "version": 1
      }
     },
     "metadata": {
      "scrapbook": {
       "data": true,
       "display": false,
       "name": "ABC Pre-generator MSE"
      }
     },
     "output_type": "display_data"
    }
   ],
   "source": [
    "y_pred = prior_model.predict(X_test)\n",
    "y_abc = y_pred + np.random.normal(0,variance, y_pred.shape) + bias \n",
    "mse = mean_squared_error(y_pred,Y_test)\n",
    "sb.glue(\"Prior Model MSE\",mse)\n",
    "mse = mean_squared_error(y_abc,Y_test)\n",
    "sb.glue(\"ABC Pre-generator MSE\",mse)\n",
    "mae = mean_absolute_error(y_pred,Y_test)\n",
    "sb.glue(\"Prior Model MSE\",mae)\n",
    "mae = mean_absolute_error(y_abc,Y_test)\n",
    "sb.glue(\"ABC Pre-generator MSE\",mae)"
   ]
  },
  {
   "cell_type": "markdown",
   "id": "25609da2",
   "metadata": {
    "papermill": {
     "duration": 0.048754,
     "end_time": "2022-06-22T15:14:07.499441",
     "exception": false,
     "start_time": "2022-06-22T15:14:07.450687",
     "status": "completed"
    },
    "tags": []
   },
   "source": [
    "# ABC GAN Model"
   ]
  },
  {
   "cell_type": "code",
   "execution_count": 11,
   "id": "dfc3464d",
   "metadata": {
    "execution": {
     "iopub.execute_input": "2022-06-22T15:14:07.565823Z",
     "iopub.status.busy": "2022-06-22T15:14:07.565065Z",
     "iopub.status.idle": "2022-06-22T15:14:07.566976Z",
     "shell.execute_reply": "2022-06-22T15:14:07.567628Z"
    },
    "papermill": {
     "duration": 0.036742,
     "end_time": "2022-06-22T15:14:07.567832",
     "exception": false,
     "start_time": "2022-06-22T15:14:07.531090",
     "status": "completed"
    },
    "tags": []
   },
   "outputs": [],
   "source": [
    "gen = network.Generator(n_features+1).to(device)\n",
    "disc = network.Discriminator(n_features+1).to(device)\n",
    "\n",
    "criterion = torch.nn.BCELoss()\n",
    "gen_opt = torch.optim.Adam(gen.parameters(), lr=0.001, betas=(0.5, 0.999))\n",
    "disc_opt = torch.optim.Adam(disc.parameters(), lr=0.001, betas=(0.5, 0.999))"
   ]
  },
  {
   "cell_type": "code",
   "execution_count": 12,
   "id": "b75fdd85",
   "metadata": {
    "execution": {
     "iopub.execute_input": "2022-06-22T15:14:07.638517Z",
     "iopub.status.busy": "2022-06-22T15:14:07.637715Z",
     "iopub.status.idle": "2022-06-22T15:14:48.368526Z",
     "shell.execute_reply": "2022-06-22T15:14:48.369159Z"
    },
    "papermill": {
     "duration": 40.771734,
     "end_time": "2022-06-22T15:14:48.369387",
     "exception": false,
     "start_time": "2022-06-22T15:14:07.597653",
     "status": "completed"
    },
    "tags": []
   },
   "outputs": [
    {
     "data": {
      "image/png": "[encoded data removed]",
      "text/plain": [
       "<Figure size 432x288 with 1 Axes>"
      ]
     },
     "metadata": {
      "needs_background": "light"
     },
     "output_type": "display_data"
    },
    {
     "data": {
      "image/png": "[encoded data removed]",
      "text/plain": [
       "<Figure size 432x288 with 1 Axes>"
      ]
     },
     "metadata": {
      "needs_background": "light"
     },
     "output_type": "display_data"
    }
   ],
   "source": [
    "#Training the ABC_GAN \n",
    "ABC_train_test2.training_GAN(disc,gen,disc_opt,gen_opt,train_data,batch_size,n_epochs,criterion,prior_model,variance,bias,device)"
   ]
  },
  {
   "cell_type": "code",
   "execution_count": 13,
   "id": "1fa7c368",
   "metadata": {
    "execution": {
     "iopub.execute_input": "2022-06-22T15:14:48.450486Z",
     "iopub.status.busy": "2022-06-22T15:14:48.449452Z",
     "iopub.status.idle": "2022-06-22T15:14:49.048497Z",
     "shell.execute_reply": "2022-06-22T15:14:49.049161Z"
    },
    "papermill": {
     "duration": 0.649711,
     "end_time": "2022-06-22T15:14:49.049364",
     "exception": false,
     "start_time": "2022-06-22T15:14:48.399653",
     "status": "completed"
    },
    "tags": []
   },
   "outputs": [
    {
     "data": {
      "application/scrapbook.scrap.json+json": {
       "data": 0.22651270933038997,
       "encoder": "json",
       "name": "ABC-GAN Model 1 MSE",
       "version": 1
      }
     },
     "metadata": {
      "scrapbook": {
       "data": true,
       "display": false,
       "name": "ABC-GAN Model 1 MSE"
      }
     },
     "output_type": "display_data"
    },
    {
     "data": {
      "application/scrapbook.scrap.json+json": {
       "data": 0.38760279450193047,
       "encoder": "json",
       "name": "ABC-GAN Model 1 MAE",
       "version": 1
      }
     },
     "metadata": {
      "scrapbook": {
       "data": true,
       "display": false,
       "name": "ABC-GAN Model 1 MAE"
      }
     },
     "output_type": "display_data"
    },
    {
     "data": {
      "application/scrapbook.scrap.json+json": {
       "data": 7.752055890038609,
       "encoder": "json",
       "name": "ABC-GAN Model 1 Manhattan Distance",
       "version": 1
      }
     },
     "metadata": {
      "scrapbook": {
       "data": true,
       "display": false,
       "name": "ABC-GAN Model 1 Manhattan Distance"
      }
     },
     "output_type": "display_data"
    },
    {
     "data": {
      "application/scrapbook.scrap.json+json": {
       "data": 2.126926932663133,
       "encoder": "json",
       "name": "ABC-GAN Model 1 Euclidean distance",
       "version": 1
      }
     },
     "metadata": {
      "scrapbook": {
       "data": true,
       "display": false,
       "name": "ABC-GAN Model 1 Euclidean distance"
      }
     },
     "output_type": "display_data"
    },
    {
     "data": {
      "application/scrapbook.scrap.json+json": {
       "data": [
        [
         0.22678394444112193,
         0.24042533751643771,
         0.24433632473719732,
         0.23749765309355034,
         0.2414585139934396,
         0.22018727532151822,
         0.25007619715721735,
         0.23057521157927457,
         0.22993844301242508,
         0.25638715159800246,
         0.24761833863725066,
         0.2204929674774379,
         0.2480246469627235,
         0.21545985613521101,
         0.22346948381898998,
         0.22975412333549108,
         0.2127201731260396,
         0.23045417288250966,
         0.2158017120320971,
         0.22359866852025295,
         0.21882248086630232,
         0.24625338713843153,
         0.21521817805029272,
         0.22972483478675337,
         0.2365748379271785,
         0.2244221253780215,
         0.19253129615980646,
         0.19359820532742616,
         0.22372216097822606,
         0.20792656784088245,
         0.20973975067117573,
         0.19085308317771843,
         0.23418212860915047,
         0.2667262929994064,
         0.23397794247547732,
         0.21952833563725654,
         0.2359203186134317,
         0.20913252466469504,
         0.23035383683201177,
         0.21711276785086303,
         0.20673992686897874,
         0.23439130431141594,
         0.2265788388097464,
         0.21182766091510952,
         0.2569851459735727,
         0.27517407191271326,
         0.20571589139688462,
         0.24052736076102432,
         0.20822818499876808,
         0.24383521864950725,
         0.2471213969175559,
         0.2582897285753453,
         0.19841782195611782,
         0.20763718133995662,
         0.21129456663389973,
         0.22660175905878832,
         0.23922622444699498,
         0.20741364776112398,
         0.21390425061132579,
         0.22232531995528934,
         0.2409388320065943,
         0.20451914298793367,
         0.227474769090034,
         0.23337070113057834,
         0.21529215030508192,
         0.23832608766929267,
         0.2148476039033222,
         0.22854853461951824,
         0.21459216171078452,
         0.20431730095910342,
         0.2222748250729603,
         0.241114861980481,
         0.22475854862931652,
         0.21434289411728105,
         0.19679830743070098,
         0.2264105329765836,
         0.23940656215706144,
         0.20415701159507388,
         0.23241047395577352,
         0.23252176792681314,
         0.229505145131572,
         0.235779403567182,
         0.22620837127314788,
         0.2395325181334483,
         0.21012758435591383,
         0.25006735046650486,
         0.18259735386943365,
         0.2348385788422686,
         0.2041425875550035,
         0.22919748477262175,
         0.23758092949616866,
         0.23621346145973124,
         0.22560634368768864,
         0.23657701594888075,
         0.2234607932295496,
         0.2338000359979897,
         0.24382793016254595,
         0.2102909531166163,
         0.259716717542421,
         0.22216055098920662
        ],
        [
         0.3827801436185837,
         0.3985056683421135,
         0.4067583650350571,
         0.39356096982955935,
         0.403344089910388,
         0.39408957287669183,
         0.3999437913298607,
         0.3828146144747734,
         0.3789870239794254,
         0.42395437732338903,
         0.4018203027546406,
         0.39544403925538063,
         0.4181500352919102,
         0.3682661890983582,
         0.389861997961998,
         0.3915066570043564,
         0.3701577417552471,
         0.3971502996981144,
         0.38547451570630076,
         0.3859764445573092,
         0.3821266442537308,
         0.4074852578341961,
         0.3711853839457035,
         0.4022821422666311,
         0.39420735388994216,
         0.3845344968140125,
         0.3533014625310898,
         0.36389122903347015,
         0.3820708192884922,
         0.3695642128586769,
         0.370053393393755,
         0.35418097749352456,
         0.3926545105874538,
         0.422388943657279,
         0.3998540587723255,
         0.3633809708058834,
         0.3895550720393658,
         0.3685176819562912,
         0.39996162205934527,
         0.3829412888735533,
         0.3729400720447302,
         0.39419145733118055,
         0.3911968432366848,
         0.3877158809453249,
         0.40585325583815574,
         0.4356255650520325,
         0.3693726874887943,
         0.3954080879688263,
         0.3678859233856201,
         0.40121149122714994,
         0.41498695537447927,
         0.4189153328537941,
         0.370413588732481,
         0.3707196034491062,
         0.37723213359713553,
         0.3807430051267147,
         0.4029678851366043,
         0.37002608329057696,
         0.3717107303440571,
         0.38218974843621256,
         0.40353559106588366,
         0.3607199124991894,
         0.4023768909275532,
         0.3901411347091198,
         0.3761505112051964,
         0.3916973158717155,
         0.3883653238415718,
         0.3966107964515686,
         0.3671542502939701,
         0.3643988035619259,
         0.38537130132317543,
         0.4033283174037933,
         0.3852507993578911,
         0.37794572561979295,
         0.351700758934021,
         0.37900488674640653,
         0.3872618950903416,
         0.37181123420596124,
         0.4040516532957554,
         0.3975930534303188,
         0.38826734386384487,
         0.39517042338848113,
         0.38296995013952256,
         0.3955118298530579,
         0.36180391609668733,
         0.4094922237098217,
         0.35803781300783155,
         0.40067950785160067,
         0.3759441740810871,
         0.38075682520866394,
         0.389524444937706,
         0.3943983405828476,
         0.3854687210172415,
         0.40233769789338114,
         0.3945097103714943,
         0.39030432850122454,
         0.411108686029911,
         0.3747281439602375,
         0.4144438087940216,
         0.3663607120513916
        ],
        [
         7.655602872371674,
         7.97011336684227,
         8.135167300701141,
         7.8712193965911865,
         8.06688179820776,
         7.881791457533836,
         7.998875826597214,
         7.656292289495468,
         7.579740479588509,
         8.479087546467781,
         8.036406055092812,
         7.908880785107613,
         8.363000705838203,
         7.365323781967163,
         7.79723995923996,
         7.830133140087128,
         7.403154835104942,
         7.943005993962288,
         7.709490314126015,
         7.719528891146183,
         7.6425328850746155,
         8.149705156683922,
         7.42370767891407,
         8.045642845332623,
         7.884147077798843,
         7.6906899362802505,
         7.066029250621796,
         7.277824580669403,
         7.641416385769844,
         7.391284257173538,
         7.401067867875099,
         7.083619549870491,
         7.853090211749077,
         8.44777887314558,
         7.99708117544651,
         7.267619416117668,
         7.791101440787315,
         7.370353639125824,
         7.999232441186905,
         7.6588257774710655,
         7.458801440894604,
         7.8838291466236115,
         7.823936864733696,
         7.754317618906498,
         8.117065116763115,
         8.71251130104065,
         7.3874537497758865,
         7.908161759376526,
         7.357718467712402,
         8.024229824543,
         8.299739107489586,
         8.378306657075882,
         7.40827177464962,
         7.414392068982124,
         7.544642671942711,
         7.614860102534294,
         8.059357702732086,
         7.400521665811539,
         7.434214606881142,
         7.643794968724251,
         8.070711821317673,
         7.2143982499837875,
         8.047537818551064,
         7.802822694182396,
         7.523010224103928,
         7.833946317434311,
         7.767306476831436,
         7.932215929031372,
         7.343085005879402,
         7.287976071238518,
         7.707426026463509,
         8.066566348075867,
         7.705015987157822,
         7.558914512395859,
         7.03401517868042,
         7.580097734928131,
         7.745237901806831,
         7.4362246841192245,
         8.081033065915108,
         7.951861068606377,
         7.765346877276897,
         7.903408467769623,
         7.659399002790451,
         7.910236597061157,
         7.236078321933746,
         8.189844474196434,
         7.1607562601566315,
         8.013590157032013,
         7.518883481621742,
         7.615136504173279,
         7.79048889875412,
         7.887966811656952,
         7.70937442034483,
         8.046753957867622,
         7.890194207429886,
         7.80608657002449,
         8.22217372059822,
         7.49456287920475,
         8.288876175880432,
         7.327214241027832
        ],
        [
         2.129713334893323,
         2.192830761898591,
         2.210594149712685,
         2.179438703398425,
         2.1975373216099863,
         2.0985103064865713,
         2.236408715584955,
         2.1474413220354807,
         2.144474028811844,
         2.2644520379023376,
         2.225391375184377,
         2.099966511530305,
         2.2272164105121153,
         2.0758605740040013,
         2.1140931096760616,
         2.143614346544131,
         2.0626205328466973,
         2.1468776065836157,
         2.0775067366056708,
         2.1147040857777384,
         2.0919965624556,
         2.219249364710652,
         2.0746960165300976,
         2.143477710575752,
         2.175200395031127,
         2.1185944651019057,
         1.9623011805520911,
         1.9677306997016952,
         2.1152879755637346,
         2.039247742874232,
         2.048119872815924,
         1.9537301921080015,
         2.1641724913192593,
         2.309659251921835,
         2.1632288019323216,
         2.0953679182294294,
         2.1721893039669986,
         2.0451529266277135,
         2.1464101976649843,
         2.0838078982999515,
         2.033420403502329,
         2.1651388145401484,
         2.128750050192584,
         2.058288905450882,
         2.2670912905023153,
         2.3459500076204236,
         2.028378127454961,
         2.193295970730008,
         2.040726267772178,
         2.208326147331989,
         2.223157200548607,
         2.272838439376391,
         1.9920734020417914,
         2.037828164198133,
         2.0556972862457146,
         2.1288577174568917,
         2.1873555927054706,
         2.036730948167303,
         2.0683532126371733,
         2.108674085558455,
         2.195171209753783,
         2.022469495383966,
         2.1329546131600363,
         2.1604198718331507,
         2.075052530925817,
         2.183236531708338,
         2.0729090858179102,
         2.1379828559626866,
         2.071676430868414,
         2.0214712511391473,
         2.10843460924431,
         2.195972959671776,
         2.1201818253598748,
         2.0704728644311237,
         1.9839269514309292,
         2.1279592711167363,
         2.188179892774182,
         2.0206781613857956,
         2.1559706582222935,
         2.1564868092655387,
         2.1424525438458235,
         2.171540483468738,
         2.1270090327647786,
         2.18875543692505,
         2.050012606575452,
         2.236369157659374,
         1.911006822957122,
         2.167203630682953,
         2.0206067779506407,
         2.1410160427825935,
         2.1798207701376215,
         2.173538412173713,
         2.124176752003885,
         2.1752104079784136,
         2.114052001392348,
         2.162406233795999,
         2.208293142508693,
         2.0508093676235064,
         2.2791082358783274,
         2.1078925541365083
        ]
       ],
       "encoder": "json",
       "name": "ABC_GAN_1 Metrics",
       "version": 1
      }
     },
     "metadata": {
      "scrapbook": {
       "data": true,
       "display": false,
       "name": "ABC_GAN_1 Metrics"
      }
     },
     "output_type": "display_data"
    },
    {
     "name": "stdout",
     "output_type": "stream",
     "text": [
      "MSE\n",
      "0.22651270933038997\n"
     ]
    }
   ],
   "source": [
    "ABC_GAN1_metrics=ABC_train_test2.test_generator(gen,test_data,prior_model,variance,bias,\"1\",device)\n",
    "sb.glue(\"ABC_GAN_1 Metrics\",ABC_GAN1_metrics)\n",
    "\n",
    "print(\"MSE\")\n",
    "print(mean(ABC_GAN1_metrics[0]))"
   ]
  },
  {
   "cell_type": "code",
   "execution_count": 14,
   "id": "eb22ce5c",
   "metadata": {
    "execution": {
     "iopub.execute_input": "2022-06-22T15:14:49.132487Z",
     "iopub.status.busy": "2022-06-22T15:14:49.131539Z",
     "iopub.status.idle": "2022-06-22T15:14:49.859477Z",
     "shell.execute_reply": "2022-06-22T15:14:49.859853Z"
    },
    "papermill": {
     "duration": 0.776108,
     "end_time": "2022-06-22T15:14:49.860122",
     "exception": false,
     "start_time": "2022-06-22T15:14:49.084014",
     "status": "completed"
    },
    "tags": []
   },
   "outputs": [
    {
     "data": {
      "image/png": "[encoded data removed]",
      "text/plain": [
       "<Figure size 432x288 with 1 Axes>"
      ]
     },
     "metadata": {
      "needs_background": "light"
     },
     "output_type": "display_data"
    },
    {
     "data": {
      "image/png": "[encoded data removed]",
      "text/plain": [
       "<Figure size 432x288 with 1 Axes>"
      ]
     },
     "metadata": {
      "needs_background": "light"
     },
     "output_type": "display_data"
    },
    {
     "data": {
      "image/png": "[encoded data removed]",
      "text/plain": [
       "<Figure size 432x288 with 1 Axes>"
      ]
     },
     "metadata": {
      "needs_background": "light"
     },
     "output_type": "display_data"
    },
    {
     "data": {
      "image/png": "[encoded data removed]",
      "text/plain": [
       "<Figure size 432x288 with 1 Axes>"
      ]
     },
     "metadata": {
      "needs_background": "light"
     },
     "output_type": "display_data"
    }
   ],
   "source": [
    "sanityChecks.discProbVsError(train_data,disc,device)\n",
    "sanityChecks.discProbVsError(test_data,disc,device)"
   ]
  },
  {
   "cell_type": "markdown",
   "id": "130f3a4d",
   "metadata": {
    "id": "130f3a4d",
    "papermill": {
     "duration": 0.037891,
     "end_time": "2022-06-22T15:14:49.937373",
     "exception": false,
     "start_time": "2022-06-22T15:14:49.899482",
     "status": "completed"
    },
    "tags": []
   },
   "source": [
    "# ABC - GAN Model with skip connection"
   ]
  },
  {
   "cell_type": "code",
   "execution_count": 15,
   "id": "4e43dad1",
   "metadata": {
    "execution": {
     "iopub.execute_input": "2022-06-22T15:14:50.027564Z",
     "iopub.status.busy": "2022-06-22T15:14:50.026737Z",
     "iopub.status.idle": "2022-06-22T15:14:50.031315Z",
     "shell.execute_reply": "2022-06-22T15:14:50.031814Z"
    },
    "id": "4e43dad1",
    "papermill": {
     "duration": 0.052713,
     "end_time": "2022-06-22T15:14:50.032032",
     "exception": false,
     "start_time": "2022-06-22T15:14:49.979319",
     "status": "completed"
    },
    "tags": []
   },
   "outputs": [],
   "source": [
    "#Generator\n",
    "gen3 = network.GeneratorWithSkipConnection(n_features+1).to(device)\n",
    "constraints=network.weightConstraint()\n",
    "#Discriminator \n",
    "disc3 = network.Discriminator(n_features+1).to(device)\n",
    "\n",
    "criterion = torch.nn.BCELoss()\n",
    "gen_opt = torch.optim.Adam(gen3.parameters(), lr=0.001, betas=(0.5, 0.999))\n",
    "disc_opt = torch.optim.Adam(disc3.parameters(), lr=0.001, betas=(0.5, 0.999))\n"
   ]
  },
  {
   "cell_type": "code",
   "execution_count": 16,
   "id": "26acbc37",
   "metadata": {
    "execution": {
     "iopub.execute_input": "2022-06-22T15:14:50.113461Z",
     "iopub.status.busy": "2022-06-22T15:14:50.112452Z",
     "iopub.status.idle": "2022-06-22T15:15:54.663536Z",
     "shell.execute_reply": "2022-06-22T15:15:54.664009Z"
    },
    "id": "26acbc37",
    "papermill": {
     "duration": 64.595644,
     "end_time": "2022-06-22T15:15:54.664285",
     "exception": false,
     "start_time": "2022-06-22T15:14:50.068641",
     "status": "completed"
    },
    "tags": []
   },
   "outputs": [
    {
     "data": {
      "image/png": "[encoded data removed]",
      "text/plain": [
       "<Figure size 432x288 with 1 Axes>"
      ]
     },
     "metadata": {
      "needs_background": "light"
     },
     "output_type": "display_data"
    },
    {
     "data": {
      "image/png": "[encoded data removed]",
      "text/plain": [
       "<Figure size 432x288 with 1 Axes>"
      ]
     },
     "metadata": {
      "needs_background": "light"
     },
     "output_type": "display_data"
    }
   ],
   "source": [
    "ABC_train_test2.training_GAN_skip_connection(disc3,gen3,disc_opt,gen_opt,train_data,batch_size,n_epochs,criterion,prior_model,variance,bias,device)"
   ]
  },
  {
   "cell_type": "code",
   "execution_count": 17,
   "id": "c5e0717b",
   "metadata": {
    "execution": {
     "iopub.execute_input": "2022-06-22T15:15:54.768702Z",
     "iopub.status.busy": "2022-06-22T15:15:54.767846Z",
     "iopub.status.idle": "2022-06-22T15:15:55.512435Z",
     "shell.execute_reply": "2022-06-22T15:15:55.513100Z"
    },
    "id": "c5e0717b",
    "papermill": {
     "duration": 0.806901,
     "end_time": "2022-06-22T15:15:55.513293",
     "exception": false,
     "start_time": "2022-06-22T15:15:54.706392",
     "status": "completed"
    },
    "tags": []
   },
   "outputs": [
    {
     "data": {
      "application/scrapbook.scrap.json+json": {
       "data": 0.28515666260841427,
       "encoder": "json",
       "name": "ABC-GAN Model 3 MSE",
       "version": 1
      }
     },
     "metadata": {
      "scrapbook": {
       "data": true,
       "display": false,
       "name": "ABC-GAN Model 3 MSE"
      }
     },
     "output_type": "display_data"
    },
    {
     "data": {
      "application/scrapbook.scrap.json+json": {
       "data": 0.4430765131190419,
       "encoder": "json",
       "name": "ABC-GAN Model 3 MAE",
       "version": 1
      }
     },
     "metadata": {
      "scrapbook": {
       "data": true,
       "display": false,
       "name": "ABC-GAN Model 3 MAE"
      }
     },
     "output_type": "display_data"
    },
    {
     "data": {
      "application/scrapbook.scrap.json+json": {
       "data": 8.861530262380839,
       "encoder": "json",
       "name": "ABC-GAN Model 3 Manhattan Distance",
       "version": 1
      }
     },
     "metadata": {
      "scrapbook": {
       "data": true,
       "display": false,
       "name": "ABC-GAN Model 3 Manhattan Distance"
      }
     },
     "output_type": "display_data"
    },
    {
     "data": {
      "application/scrapbook.scrap.json+json": {
       "data": 2.384929348553836,
       "encoder": "json",
       "name": "ABC-GAN Model 3 Euclidean distance",
       "version": 1
      }
     },
     "metadata": {
      "scrapbook": {
       "data": true,
       "display": false,
       "name": "ABC-GAN Model 3 Euclidean distance"
      }
     },
     "output_type": "display_data"
    },
    {
     "data": {
      "application/scrapbook.scrap.json+json": {
       "data": [
        [
         0.28378638606533635,
         0.3484461736840436,
         0.26827295726011247,
         0.24218861776100717,
         0.2849231630683492,
         0.3169705795011681,
         0.3064879577475015,
         0.254864739699457,
         0.27761306230574345,
         0.2816313694044081,
         0.2790485501322462,
         0.29964034826526936,
         0.2898663038185798,
         0.2604247391901147,
         0.3145856796123289,
         0.3147198399929829,
         0.24914601052432758,
         0.29845194822632315,
         0.304267147479345,
         0.26784495911622097,
         0.25008097002940594,
         0.2653461311510913,
         0.26554556167418514,
         0.25017210591312056,
         0.3212117862466353,
         0.28930243066718697,
         0.3368238818032564,
         0.3111545767025971,
         0.2998967961412367,
         0.30826644254052316,
         0.25652024614817226,
         0.23812096814745196,
         0.3007085438502495,
         0.29070711468030713,
         0.28598920792442933,
         0.27822095830257676,
         0.2692565170781269,
         0.2860695262154271,
         0.3057929482984806,
         0.2908797144806345,
         0.34076877549408074,
         0.3087295324280588,
         0.27290068993111066,
         0.2712785585899787,
         0.21248286538876013,
         0.23718011281768714,
         0.24139995478992438,
         0.30782621083709033,
         0.2687907788953354,
         0.306503883665593,
         0.28944736582675706,
         0.27827102249079483,
         0.2557210328895009,
         0.32652822284998667,
         0.28569383609391213,
         0.24649285179398928,
         0.28497015296656786,
         0.22376731171824055,
         0.2946586120277143,
         0.3549987257838978,
         0.3259008588996921,
         0.2795533953525199,
         0.2752161398100922,
         0.28338662130849956,
         0.2943073138193588,
         0.29233311091138653,
         0.26205650850884543,
         0.26915279988448326,
         0.3151463228831777,
         0.2357355704005098,
         0.29131324467874753,
         0.31059324623037654,
         0.254803165911059,
         0.2393327220275751,
         0.3354971614790817,
         0.2828136211954083,
         0.2746478942397631,
         0.30519907926890505,
         0.32052489759865604,
         0.27068821232963713,
         0.3010729184478369,
         0.29447744762828565,
         0.27674397601251766,
         0.25710732951794696,
         0.27326345821906445,
         0.2510173889787926,
         0.3760065377604015,
         0.3044773358122502,
         0.2844775139441472,
         0.3206186904695245,
         0.28177498993223427,
         0.25828191981182186,
         0.28625940626650803,
         0.25344981103325787,
         0.32497120977706245,
         0.23973583576558993,
         0.2670741092296377,
         0.2848117471871458,
         0.2921633494352972,
         0.31802194074538653
        ],
        [
         0.44535879865288736,
         0.5064092107117176,
         0.43060043528676034,
         0.41605070009827616,
         0.4494227010756731,
         0.47624670043587686,
         0.45517293028533456,
         0.4319693375378847,
         0.43396079912781715,
         0.43705299869179726,
         0.4394005786627531,
         0.44257558658719065,
         0.4379111025482416,
         0.43725141882896423,
         0.4532558061182499,
         0.4611477829515934,
         0.41974096223711965,
         0.45509445667266846,
         0.45597091466188433,
         0.43106216192245483,
         0.42553380504250526,
         0.4365988947451115,
         0.420980653911829,
         0.4221083976328373,
         0.48265112563967705,
         0.47178022041916845,
         0.46943121775984764,
         0.45169872418046,
         0.44664114266633986,
         0.4371151842176914,
         0.4219616286456585,
         0.38613946810364724,
         0.46846025064587593,
         0.4565383467823267,
         0.4660589940845966,
         0.4433577246963978,
         0.4254791088402271,
         0.4359899677336216,
         0.4667199648916721,
         0.4517865501344204,
         0.47878251895308493,
         0.4543225482106209,
         0.43058379292488097,
         0.43668044582009313,
         0.39096456244587896,
         0.39717142954468726,
         0.3985324915498495,
         0.459247549623251,
         0.41614318564534186,
         0.4653965748846531,
         0.43707846477627754,
         0.4565552808344364,
         0.4269621707499027,
         0.48460593037307265,
         0.44565904065966605,
         0.41513203233480456,
         0.4357912875711918,
         0.4044668935239315,
         0.4552372142672539,
         0.49215606302022935,
         0.47075076438486574,
         0.45026684999465943,
         0.42026262953877447,
         0.4479661088436842,
         0.4733482040464878,
         0.44746866822242737,
         0.44141586422920226,
         0.4136016435921192,
         0.4579679273068905,
         0.40575124993920325,
         0.4475178226828575,
         0.4495051808655262,
         0.43305075764656065,
         0.40312189385294916,
         0.48480224758386614,
         0.4262747637927532,
         0.45488214790821074,
         0.4555674910545349,
         0.4582734934985638,
         0.43806063681840895,
         0.4824976436793804,
         0.42635153606534004,
         0.4331839866936207,
         0.43561049476265906,
         0.4343421541154385,
         0.38634625598788264,
         0.5064071029424667,
         0.44162856563925745,
         0.4497458942234516,
         0.4722153566777706,
         0.43640915527939794,
         0.4339749187231064,
         0.4460216425359249,
         0.41270699724555016,
         0.47186998203396796,
         0.3990665666759014,
         0.42406934723258016,
         0.4548865832388401,
         0.44650652185082434,
         0.44979802891612053
        ],
        [
         8.907175973057747,
         10.128184214234352,
         8.612008705735207,
         8.321014001965523,
         8.988454021513462,
         9.524934008717537,
         9.103458605706692,
         8.639386750757694,
         8.679215982556343,
         8.741059973835945,
         8.788011573255062,
         8.851511731743813,
         8.758222050964832,
         8.745028376579285,
         9.065116122364998,
         9.222955659031868,
         8.394819244742393,
         9.10188913345337,
         9.119418293237686,
         8.621243238449097,
         8.510676100850105,
         8.73197789490223,
         8.41961307823658,
         8.442167952656746,
         9.653022512793541,
         9.43560440838337,
         9.388624355196953,
         9.0339744836092,
         8.932822853326797,
         8.742303684353828,
         8.43923257291317,
         7.722789362072945,
         9.369205012917519,
         9.130766935646534,
         9.321179881691933,
         8.867154493927956,
         8.509582176804543,
         8.719799354672432,
         9.334399297833443,
         9.035731002688408,
         9.575650379061699,
         9.086450964212418,
         8.61167585849762,
         8.733608916401863,
         7.81929124891758,
         7.943428590893745,
         7.97064983099699,
         9.18495099246502,
         8.322863712906837,
         9.307931497693062,
         8.74156929552555,
         9.131105616688728,
         8.539243414998055,
         9.692118607461452,
         8.913180813193321,
         8.30264064669609,
         8.715825751423836,
         8.08933787047863,
         9.104744285345078,
         9.843121260404587,
         9.415015287697315,
         9.005336999893188,
         8.40525259077549,
         8.959322176873684,
         9.466964080929756,
         8.949373364448547,
         8.828317284584045,
         8.272032871842384,
         9.15935854613781,
         8.115024998784065,
         8.95035645365715,
         8.990103617310524,
         8.661015152931213,
         8.062437877058983,
         9.696044951677322,
         8.525495275855064,
         9.097642958164215,
         9.111349821090698,
         9.165469869971275,
         8.76121273636818,
         9.649952873587608,
         8.5270307213068,
         8.663679733872414,
         8.712209895253181,
         8.68684308230877,
         7.726925119757652,
         10.128142058849335,
         8.832571312785149,
         8.994917884469032,
         9.444307133555412,
         8.72818310558796,
         8.679498374462128,
         8.920432850718498,
         8.254139944911003,
         9.43739964067936,
         7.981331333518028,
         8.481386944651604,
         9.097731664776802,
         8.930130437016487,
         8.99596057832241
        ],
        [
         2.382378584798547,
         2.63987186690583,
         2.316346076302557,
         2.2008571864662514,
         2.3871454210766014,
         2.517818815964199,
         2.475835041950499,
         2.2577189360035805,
         2.356323671763892,
         2.3733156949904837,
         2.3624078823617496,
         2.448021030405047,
         2.407763708583464,
         2.2822126946895844,
         2.508328844519111,
         2.5088636471238646,
         2.2322455533579975,
         2.4431616738411854,
         2.4668487893640543,
         2.3144976090556715,
         2.236430057164346,
         2.3036758936581827,
         2.3045414367035586,
         2.236837526120843,
         2.534607607684611,
         2.4054206728436798,
         2.5954725265479364,
         2.494612501782981,
         2.449068378552288,
         2.4830080247172908,
         2.265039717745242,
         2.182296809086482,
         2.452380654997301,
         2.41125326202084,
         2.391607024259752,
         2.3589021103156305,
         2.320588361076246,
         2.391942834665691,
         2.4730262768457623,
         2.4119689653087764,
         2.610627416902231,
         2.484872360617578,
         2.3362392425910095,
         2.329285549648126,
         2.0614696960603625,
         2.177981234160144,
         2.1972708289599825,
         2.4812344139040565,
         2.318580509257056,
         2.4758993665558906,
         2.4060231330008324,
         2.3591143358930053,
         2.2615084916466746,
         2.555496909996123,
         2.3903716702383844,
         2.220328136983312,
         2.3873422585233475,
         2.1155014144086057,
         2.427585681403292,
         2.6645777368427357,
         2.5530407709227525,
         2.364543911000681,
         2.346129322139307,
         2.3806999865942773,
         2.4261381404172306,
         2.4179872245790985,
         2.2893514737097296,
         2.320141374504938,
         2.5105629762393042,
         2.1713386212219863,
         2.4137657080949158,
         2.492361315019861,
         2.2574461938706714,
         2.1878424167548043,
         2.5903558113860794,
         2.3782919130981726,
         2.3437060150102575,
         2.4706237239567868,
         2.5318961179268635,
         2.326749717222018,
         2.453866004686633,
         2.426839292694453,
         2.352632466036791,
         2.2676301705434554,
         2.337791514310309,
         2.2406132597072284,
         2.742285680815919,
         2.4677006942182036,
         2.3852778200626745,
         2.5322665360088954,
         2.3739207650308565,
         2.2728040822377187,
         2.3927365348759486,
         2.251443141779325,
         2.549396829750372,
         2.189684158802771,
         2.311164681409084,
         2.3866786427466344,
         2.4172850449845473,
         2.5219910417976767
        ]
       ],
       "encoder": "json",
       "name": "ABC_GAN_3 Metrics",
       "version": 1
      }
     },
     "metadata": {
      "scrapbook": {
       "data": true,
       "display": false,
       "name": "ABC_GAN_3 Metrics"
      }
     },
     "output_type": "display_data"
    },
    {
     "name": "stdout",
     "output_type": "stream",
     "text": [
      "MSE\n",
      "0.28515666260841427\n"
     ]
    }
   ],
   "source": [
    "ABC_GAN3_metrics=ABC_train_test2.test_generator(gen3,test_data,prior_model,variance,bias,\"3\",device)\n",
    "sb.glue(\"ABC_GAN_3 Metrics\",ABC_GAN3_metrics)\n",
    "\n",
    "print(\"MSE\")\n",
    "print(mean(ABC_GAN3_metrics[0]))"
   ]
  },
  {
   "cell_type": "code",
   "execution_count": 18,
   "id": "c8e46b48",
   "metadata": {
    "execution": {
     "iopub.execute_input": "2022-06-22T15:15:55.621220Z",
     "iopub.status.busy": "2022-06-22T15:15:55.620487Z",
     "iopub.status.idle": "2022-06-22T15:15:56.321174Z",
     "shell.execute_reply": "2022-06-22T15:15:56.321699Z"
    },
    "id": "c8e46b48",
    "papermill": {
     "duration": 0.760386,
     "end_time": "2022-06-22T15:15:56.321950",
     "exception": false,
     "start_time": "2022-06-22T15:15:55.561564",
     "status": "completed"
    },
    "tags": []
   },
   "outputs": [
    {
     "data": {
      "image/png": "[encoded data removed]",
      "text/plain": [
       "<Figure size 432x288 with 1 Axes>"
      ]
     },
     "metadata": {
      "needs_background": "light"
     },
     "output_type": "display_data"
    },
    {
     "data": {
      "image/png": "[encoded data removed]",
      "text/plain": [
       "<Figure size 432x288 with 1 Axes>"
      ]
     },
     "metadata": {
      "needs_background": "light"
     },
     "output_type": "display_data"
    },
    {
     "data": {
      "image/png": "[encoded data removed]",
      "text/plain": [
       "<Figure size 432x288 with 1 Axes>"
      ]
     },
     "metadata": {
      "needs_background": "light"
     },
     "output_type": "display_data"
    },
    {
     "data": {
      "image/png": "[encoded data removed]",
      "text/plain": [
       "<Figure size 432x288 with 1 Axes>"
      ]
     },
     "metadata": {
      "needs_background": "light"
     },
     "output_type": "display_data"
    }
   ],
   "source": [
    "sanityChecks.discProbVsError(train_data,disc3,device)\n",
    "sanityChecks.discProbVsError(test_data,disc3,device)"
   ]
  },
  {
   "cell_type": "markdown",
   "id": "a5bd74c3",
   "metadata": {
    "id": "a5bd74c3",
    "papermill": {
     "duration": 0.050908,
     "end_time": "2022-06-22T15:15:56.421256",
     "exception": false,
     "start_time": "2022-06-22T15:15:56.370348",
     "status": "completed"
    },
    "tags": []
   },
   "source": [
    "## Skip Connection Model Analysis - ABC-GAN "
   ]
  },
  {
   "cell_type": "markdown",
   "id": "5744a8bf",
   "metadata": {
    "id": "5744a8bf",
    "papermill": {
     "duration": 0.046418,
     "end_time": "2022-06-22T15:15:56.512919",
     "exception": false,
     "start_time": "2022-06-22T15:15:56.466501",
     "status": "completed"
    },
    "tags": []
   },
   "source": [
    "### Weight Analysis \n",
    "\n",
    "Study the weights of the skip connection layer\n",
    "\n",
    "Equation of the skip connection is \n",
    "\n",
    "$output = y_{gan} * w + y_{abc} * (1-w)$"
   ]
  },
  {
   "cell_type": "code",
   "execution_count": 19,
   "id": "52c31dea",
   "metadata": {
    "execution": {
     "iopub.execute_input": "2022-06-22T15:15:56.619972Z",
     "iopub.status.busy": "2022-06-22T15:15:56.618781Z",
     "iopub.status.idle": "2022-06-22T15:15:56.626012Z",
     "shell.execute_reply": "2022-06-22T15:15:56.626572Z"
    },
    "id": "52c31dea",
    "papermill": {
     "duration": 0.067049,
     "end_time": "2022-06-22T15:15:56.626809",
     "exception": false,
     "start_time": "2022-06-22T15:15:56.559760",
     "status": "completed"
    },
    "tags": []
   },
   "outputs": [
    {
     "name": "stdout",
     "output_type": "stream",
     "text": [
      "Weight of the node at skip connection\n",
      "Parameter containing:\n",
      "tensor([[0.1496]], requires_grad=True)\n"
     ]
    },
    {
     "data": {
      "application/scrapbook.scrap.json+json": {
       "data": 0.14964106678962708,
       "encoder": "json",
       "name": "Skip Connection Weight",
       "version": 1
      }
     },
     "metadata": {
      "scrapbook": {
       "data": true,
       "display": false,
       "name": "Skip Connection Weight"
      }
     },
     "output_type": "display_data"
    }
   ],
   "source": [
    "print(\"Weight of the node at skip connection\")\n",
    "for name,param in gen3.named_parameters():\n",
    "    if(name == \"skipNode.weight\"):\n",
    "        print(param)\n",
    "        sb.glue(\"Skip Connection Weight\",param.item())"
   ]
  }
 ],
 "metadata": {
  "colab": {
   "collapsed_sections": [],
   "name": "ABC_GAN_Model-Catboost_Pre-gen.ipynb",
   "provenance": []
  },
  "interpreter": {
   "hash": "31f2aee4e71d21fbe5cf8b01ff0e069b9275f58929596ceb00d14d90e3e16cd6"
  },
  "kernelspec": {
   "display_name": "Python 3 (ipykernel)",
   "language": "python",
   "name": "python3"
  },
  "language_info": {
   "codemirror_mode": {
    "name": "ipython",
    "version": 3
   },
   "file_extension": ".py",
   "mimetype": "text/x-python",
   "name": "python",
   "nbconvert_exporter": "python",
   "pygments_lexer": "ipython3",
   "version": "3.8.3"
  },
  "papermill": {
   "default_parameters": {},
   "duration": 133.400205,
   "end_time": "2022-06-22T15:15:58.019489",
   "environment_variables": {},
   "exception": null,
   "input_path": "ABC_GAN-TabNet.ipynb",
   "output_path": "./ABC_GAN_TabNet/ABC-GAN_output_8_0.ipynb",
   "parameters": {
    "bias": 1,
    "variance": 1
   },
   "start_time": "2022-06-22T15:13:44.619284",
   "version": "2.3.3"
  }
 },
 "nbformat": 4,
 "nbformat_minor": 5
}