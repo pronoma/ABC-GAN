{
 "cells": [
  {
   "cell_type": "markdown",
   "id": "622780e6",
   "metadata": {
    "id": "622780e6",
    "papermill": {
     "duration": 0.030103,
     "end_time": "2022-06-22T16:30:54.040807",
     "exception": false,
     "start_time": "2022-06-22T16:30:54.010704",
     "status": "completed"
    },
    "tags": []
   },
   "source": [
    "## Import Libraries "
   ]
  },
  {
   "cell_type": "code",
   "execution_count": 1,
   "id": "a62397e3",
   "metadata": {
    "execution": {
     "iopub.execute_input": "2022-06-22T16:30:54.126560Z",
     "iopub.status.busy": "2022-06-22T16:30:54.124691Z",
     "iopub.status.idle": "2022-06-22T16:30:54.127391Z",
     "shell.execute_reply": "2022-06-22T16:30:54.125561Z"
    },
    "id": "a62397e3",
    "papermill": {
     "duration": 0.056267,
     "end_time": "2022-06-22T16:30:54.127630",
     "exception": false,
     "start_time": "2022-06-22T16:30:54.071363",
     "status": "completed"
    },
    "tags": []
   },
   "outputs": [],
   "source": [
    "import warnings\n",
    "import sys\n",
    "sys.path.insert(0, '../../src')\n",
    "warnings.filterwarnings('ignore')"
   ]
  },
  {
   "cell_type": "code",
   "execution_count": 2,
   "id": "d6a4e155",
   "metadata": {
    "execution": {
     "iopub.execute_input": "2022-06-22T16:30:54.183156Z",
     "iopub.status.busy": "2022-06-22T16:30:54.182121Z",
     "iopub.status.idle": "2022-06-22T16:31:01.720939Z",
     "shell.execute_reply": "2022-06-22T16:31:01.721499Z"
    },
    "id": "d6a4e155",
    "papermill": {
     "duration": 7.573525,
     "end_time": "2022-06-22T16:31:01.721759",
     "exception": false,
     "start_time": "2022-06-22T16:30:54.148234",
     "status": "completed"
    },
    "tags": []
   },
   "outputs": [],
   "source": [
    "import ABC_train_test2\n",
    "import friedman3Dataset\n",
    "import network\n",
    "import dataset\n",
    "import sanityChecks\n",
    "import torch \n",
    "import scrapbook as sb\n",
    "from statistics import mean \n",
    "import catboost as ctb \n",
    "from sklearn.model_selection import train_test_split\n",
    "from sklearn.metrics import mean_squared_error,mean_absolute_error\n",
    "import numpy as np\n",
    "from pytorch_tabnet.tab_model import TabNetRegressor"
   ]
  },
  {
   "cell_type": "markdown",
   "id": "2fa5b0f7",
   "metadata": {
    "id": "2fa5b0f7",
    "papermill": {
     "duration": 0.01934,
     "end_time": "2022-06-22T16:31:01.759443",
     "exception": false,
     "start_time": "2022-06-22T16:31:01.740103",
     "status": "completed"
    },
    "tags": []
   },
   "source": [
    "## Parameters "
   ]
  },
  {
   "cell_type": "code",
   "execution_count": 3,
   "id": "783186fb",
   "metadata": {
    "execution": {
     "iopub.execute_input": "2022-06-22T16:31:01.802804Z",
     "iopub.status.busy": "2022-06-22T16:31:01.801746Z",
     "iopub.status.idle": "2022-06-22T16:31:01.803821Z",
     "shell.execute_reply": "2022-06-22T16:31:01.804469Z"
    },
    "id": "783186fb",
    "papermill": {
     "duration": 0.02614,
     "end_time": "2022-06-22T16:31:01.804700",
     "exception": false,
     "start_time": "2022-06-22T16:31:01.778560",
     "status": "completed"
    },
    "tags": [
     "parameters"
    ]
   },
   "outputs": [],
   "source": [
    "variance = 1\n",
    "bias = 1 "
   ]
  },
  {
   "cell_type": "code",
   "execution_count": 4,
   "id": "68a89a9d",
   "metadata": {
    "execution": {
     "iopub.execute_input": "2022-06-22T16:31:01.838626Z",
     "iopub.status.busy": "2022-06-22T16:31:01.837765Z",
     "iopub.status.idle": "2022-06-22T16:31:01.839696Z",
     "shell.execute_reply": "2022-06-22T16:31:01.840199Z"
    },
    "papermill": {
     "duration": 0.02044,
     "end_time": "2022-06-22T16:31:01.840555",
     "exception": false,
     "start_time": "2022-06-22T16:31:01.820115",
     "status": "completed"
    },
    "tags": [
     "injected-parameters"
    ]
   },
   "outputs": [],
   "source": [
    "# Parameters\n",
    "variance = 0.1\n",
    "bias = 0\n"
   ]
  },
  {
   "cell_type": "markdown",
   "id": "391cdbfd",
   "metadata": {
    "id": "391cdbfd",
    "papermill": {
     "duration": 0.019051,
     "end_time": "2022-06-22T16:31:01.874576",
     "exception": false,
     "start_time": "2022-06-22T16:31:01.855525",
     "status": "completed"
    },
    "tags": []
   },
   "source": [
    "## Dataset \n"
   ]
  },
  {
   "cell_type": "code",
   "execution_count": 5,
   "id": "5b51f161",
   "metadata": {
    "execution": {
     "iopub.execute_input": "2022-06-22T16:31:01.915497Z",
     "iopub.status.busy": "2022-06-22T16:31:01.914709Z",
     "iopub.status.idle": "2022-06-22T16:31:01.917345Z",
     "shell.execute_reply": "2022-06-22T16:31:01.917927Z"
    },
    "id": "5b51f161",
    "papermill": {
     "duration": 0.023847,
     "end_time": "2022-06-22T16:31:01.918150",
     "exception": false,
     "start_time": "2022-06-22T16:31:01.894303",
     "status": "completed"
    },
    "tags": []
   },
   "outputs": [],
   "source": [
    "#Parameters \n",
    "n_features = 4\n",
    "n_samples= 100\n",
    "n_target = 1"
   ]
  },
  {
   "cell_type": "code",
   "execution_count": 6,
   "id": "5d6eced4",
   "metadata": {
    "execution": {
     "iopub.execute_input": "2022-06-22T16:31:01.956245Z",
     "iopub.status.busy": "2022-06-22T16:31:01.954672Z",
     "iopub.status.idle": "2022-06-22T16:31:01.972637Z",
     "shell.execute_reply": "2022-06-22T16:31:01.973338Z"
    },
    "id": "5d6eced4",
    "papermill": {
     "duration": 0.040208,
     "end_time": "2022-06-22T16:31:01.973656",
     "exception": false,
     "start_time": "2022-06-22T16:31:01.933448",
     "status": "completed"
    },
    "tags": []
   },
   "outputs": [
    {
     "name": "stdout",
     "output_type": "stream",
     "text": [
      "          X1           X2        X3        X4         Y\n",
      "0  74.625150  1418.611332  0.082899  2.336257  1.285246\n",
      "1  82.297118   631.577023  0.100158  5.249784  0.842468\n",
      "2  51.289843   704.129888  0.277222  2.543471  1.378478\n",
      "3  50.020284   969.532790  0.362932  6.478211  1.445058\n",
      "4  34.906074   575.869765  0.149729  9.943623  1.028443\n"
     ]
    }
   ],
   "source": [
    "X,Y = friedman3Dataset.friedman3_data(n_samples)"
   ]
  },
  {
   "cell_type": "code",
   "execution_count": 7,
   "id": "fe007438",
   "metadata": {
    "execution": {
     "iopub.execute_input": "2022-06-22T16:31:02.021535Z",
     "iopub.status.busy": "2022-06-22T16:31:02.019903Z",
     "iopub.status.idle": "2022-06-22T16:31:02.023966Z",
     "shell.execute_reply": "2022-06-22T16:31:02.024523Z"
    },
    "id": "fe007438",
    "papermill": {
     "duration": 0.031194,
     "end_time": "2022-06-22T16:31:02.024751",
     "exception": false,
     "start_time": "2022-06-22T16:31:01.993557",
     "status": "completed"
    },
    "tags": []
   },
   "outputs": [],
   "source": [
    "#Train test split for dataset \n",
    "X_train,X_test,Y_train,Y_test = train_test_split(X,Y,test_size = 0.2)\n",
    "train_data = dataset.CustomDataset(X_train,Y_train)\n",
    "test_data = dataset.CustomDataset(X_test,Y_test)\n"
   ]
  },
  {
   "cell_type": "markdown",
   "id": "a9a1af34",
   "metadata": {
    "id": "a9a1af34",
    "papermill": {
     "duration": 0.018795,
     "end_time": "2022-06-22T16:31:02.060722",
     "exception": false,
     "start_time": "2022-06-22T16:31:02.041927",
     "status": "completed"
    },
    "tags": []
   },
   "source": [
    "## Training Parameters "
   ]
  },
  {
   "cell_type": "code",
   "execution_count": 8,
   "id": "952b7fc8",
   "metadata": {
    "execution": {
     "iopub.execute_input": "2022-06-22T16:31:02.100422Z",
     "iopub.status.busy": "2022-06-22T16:31:02.099175Z",
     "iopub.status.idle": "2022-06-22T16:31:02.102490Z",
     "shell.execute_reply": "2022-06-22T16:31:02.103253Z"
    },
    "id": "952b7fc8",
    "papermill": {
     "duration": 0.024967,
     "end_time": "2022-06-22T16:31:02.103518",
     "exception": false,
     "start_time": "2022-06-22T16:31:02.078551",
     "status": "completed"
    },
    "tags": []
   },
   "outputs": [],
   "source": [
    "batch_size = 32\n",
    "n_epochs = 1000\n",
    "#Select the device \n",
    "device = torch.device('cuda' if torch.cuda.is_available() else 'cpu')"
   ]
  },
  {
   "cell_type": "markdown",
   "id": "a95e1600",
   "metadata": {
    "id": "a95e1600",
    "papermill": {
     "duration": 0.018237,
     "end_time": "2022-06-22T16:31:02.144118",
     "exception": false,
     "start_time": "2022-06-22T16:31:02.125881",
     "status": "completed"
    },
    "tags": []
   },
   "source": [
    "# ABC Pre-generator Model \n",
    "\n",
    "1. The catboost model is used as a pre-generator model for the ABC-GAN. \n",
    "2. The model is first trained on the entire dataset \n",
    "3. It generats X,Y pairs and we add some Gaussian noise with mean 0 and variance 1 to it which is then feed as input to the generator.\n"
   ]
  },
  {
   "cell_type": "code",
   "execution_count": 9,
   "id": "ff8ce7bd",
   "metadata": {
    "execution": {
     "iopub.execute_input": "2022-06-22T16:31:02.193246Z",
     "iopub.status.busy": "2022-06-22T16:31:02.192316Z",
     "iopub.status.idle": "2022-06-22T16:31:20.802618Z",
     "shell.execute_reply": "2022-06-22T16:31:20.803180Z"
    },
    "id": "ff8ce7bd",
    "papermill": {
     "duration": 18.637381,
     "end_time": "2022-06-22T16:31:20.803407",
     "exception": false,
     "start_time": "2022-06-22T16:31:02.166026",
     "status": "completed"
    },
    "tags": []
   },
   "outputs": [
    {
     "name": "stdout",
     "output_type": "stream",
     "text": [
      "Device used : cpu\n"
     ]
    },
    {
     "name": "stdout",
     "output_type": "stream",
     "text": [
      "epoch 0  | loss: 1.03721 | train_mse: 3.14715 | train_mae: 1.40336 |  0:00:00s\n",
      "epoch 1  | loss: 0.87879 | train_mse: 2.1429  | train_mae: 1.18662 |  0:00:00s\n",
      "epoch 2  | loss: 0.77499 | train_mse: 1.93166 | train_mae: 1.05946 |  0:00:00s\n"
     ]
    },
    {
     "name": "stdout",
     "output_type": "stream",
     "text": [
      "epoch 3  | loss: 0.64424 | train_mse: 2.69805 | train_mae: 1.25383 |  0:00:00s\n",
      "epoch 4  | loss: 0.65052 | train_mse: 2.06317 | train_mae: 1.08557 |  0:00:00s\n"
     ]
    },
    {
     "name": "stdout",
     "output_type": "stream",
     "text": [
      "epoch 5  | loss: 0.52233 | train_mse: 1.23779 | train_mae: 0.80828 |  0:00:00s\n",
      "epoch 6  | loss: 0.40985 | train_mse: 0.91272 | train_mae: 0.62549 |  0:00:00s\n"
     ]
    },
    {
     "name": "stdout",
     "output_type": "stream",
     "text": [
      "epoch 7  | loss: 0.33333 | train_mse: 1.13826 | train_mae: 0.66714 |  0:00:00s\n",
      "epoch 8  | loss: 0.30263 | train_mse: 1.18132 | train_mae: 0.71441 |  0:00:01s\n"
     ]
    },
    {
     "name": "stdout",
     "output_type": "stream",
     "text": [
      "epoch 9  | loss: 0.25961 | train_mse: 1.53945 | train_mae: 0.89607 |  0:00:01s\n",
      "epoch 10 | loss: 0.36275 | train_mse: 1.51703 | train_mae: 0.87247 |  0:00:01s\n",
      "epoch 11 | loss: 0.51531 | train_mse: 0.61364 | train_mae: 0.59466 |  0:00:01s\n"
     ]
    },
    {
     "name": "stdout",
     "output_type": "stream",
     "text": [
      "epoch 12 | loss: 0.38195 | train_mse: 0.50348 | train_mae: 0.55005 |  0:00:01s\n",
      "epoch 13 | loss: 0.39616 | train_mse: 0.45058 | train_mae: 0.50538 |  0:00:01s\n",
      "epoch 14 | loss: 0.41833 | train_mse: 0.588   | train_mae: 0.56854 |  0:00:01s\n"
     ]
    },
    {
     "name": "stdout",
     "output_type": "stream",
     "text": [
      "epoch 15 | loss: 0.32932 | train_mse: 0.39434 | train_mae: 0.48695 |  0:00:01s\n",
      "epoch 16 | loss: 0.24488 | train_mse: 0.35143 | train_mae: 0.45638 |  0:00:02s\n"
     ]
    },
    {
     "name": "stdout",
     "output_type": "stream",
     "text": [
      "epoch 17 | loss: 0.30433 | train_mse: 0.42409 | train_mae: 0.4815  |  0:00:02s\n",
      "epoch 18 | loss: 0.2132  | train_mse: 0.72171 | train_mae: 0.5635  |  0:00:02s\n",
      "epoch 19 | loss: 0.21219 | train_mse: 1.01827 | train_mae: 0.63435 |  0:00:02s\n"
     ]
    },
    {
     "name": "stdout",
     "output_type": "stream",
     "text": [
      "epoch 20 | loss: 0.24957 | train_mse: 1.41906 | train_mae: 0.72577 |  0:00:02s\n",
      "epoch 21 | loss: 0.35042 | train_mse: 1.06807 | train_mae: 0.6422  |  0:00:02s\n",
      "epoch 22 | loss: 0.2762  | train_mse: 0.52556 | train_mae: 0.49161 |  0:00:02s\n"
     ]
    },
    {
     "name": "stdout",
     "output_type": "stream",
     "text": [
      "epoch 23 | loss: 0.2645  | train_mse: 0.76464 | train_mae: 0.53247 |  0:00:02s\n",
      "epoch 24 | loss: 0.32219 | train_mse: 1.34293 | train_mae: 0.65568 |  0:00:02s\n"
     ]
    },
    {
     "name": "stdout",
     "output_type": "stream",
     "text": [
      "epoch 25 | loss: 0.38716 | train_mse: 1.73076 | train_mae: 0.72864 |  0:00:02s\n",
      "epoch 26 | loss: 0.33439 | train_mse: 1.06357 | train_mae: 0.59836 |  0:00:03s\n"
     ]
    },
    {
     "name": "stdout",
     "output_type": "stream",
     "text": [
      "epoch 27 | loss: 0.20238 | train_mse: 1.10721 | train_mae: 0.59789 |  0:00:03s\n",
      "epoch 28 | loss: 0.23499 | train_mse: 1.61121 | train_mae: 0.68766 |  0:00:03s\n",
      "epoch 29 | loss: 0.19035 | train_mse: 2.08641 | train_mae: 0.76285 |  0:00:03s\n"
     ]
    },
    {
     "name": "stdout",
     "output_type": "stream",
     "text": [
      "epoch 30 | loss: 0.22319 | train_mse: 2.9331  | train_mae: 0.87497 |  0:00:03s\n",
      "epoch 31 | loss: 0.41967 | train_mse: 1.78277 | train_mae: 0.70172 |  0:00:03s\n",
      "epoch 32 | loss: 0.12798 | train_mse: 1.18475 | train_mae: 0.59546 |  0:00:03s\n"
     ]
    },
    {
     "name": "stdout",
     "output_type": "stream",
     "text": [
      "epoch 33 | loss: 0.20662 | train_mse: 1.00743 | train_mae: 0.55206 |  0:00:03s\n",
      "epoch 34 | loss: 0.25732 | train_mse: 0.94924 | train_mae: 0.55522 |  0:00:03s\n"
     ]
    },
    {
     "name": "stdout",
     "output_type": "stream",
     "text": [
      "epoch 35 | loss: 0.2084  | train_mse: 1.3367  | train_mae: 0.6344  |  0:00:03s\n",
      "epoch 36 | loss: 0.11826 | train_mse: 1.38359 | train_mae: 0.64322 |  0:00:03s\n",
      "epoch 37 | loss: 0.13737 | train_mse: 1.24912 | train_mae: 0.61959 |  0:00:04s\n"
     ]
    },
    {
     "name": "stdout",
     "output_type": "stream",
     "text": [
      "epoch 38 | loss: 0.18407 | train_mse: 1.31217 | train_mae: 0.63514 |  0:00:04s\n",
      "epoch 39 | loss: 0.16525 | train_mse: 1.52096 | train_mae: 0.66812 |  0:00:04s\n",
      "epoch 40 | loss: 0.12046 | train_mse: 1.43541 | train_mae: 0.65299 |  0:00:04s\n"
     ]
    },
    {
     "name": "stdout",
     "output_type": "stream",
     "text": [
      "epoch 41 | loss: 0.27334 | train_mse: 1.13803 | train_mae: 0.61245 |  0:00:04s\n",
      "epoch 42 | loss: 0.25652 | train_mse: 0.72219 | train_mae: 0.50983 |  0:00:04s\n",
      "epoch 43 | loss: 0.20045 | train_mse: 1.3798  | train_mae: 0.66179 |  0:00:04s\n"
     ]
    },
    {
     "name": "stdout",
     "output_type": "stream",
     "text": [
      "epoch 44 | loss: 0.27849 | train_mse: 1.84046 | train_mae: 0.7446  |  0:00:04s\n",
      "epoch 45 | loss: 0.19595 | train_mse: 1.90194 | train_mae: 0.75625 |  0:00:04s\n"
     ]
    },
    {
     "name": "stdout",
     "output_type": "stream",
     "text": [
      "epoch 46 | loss: 0.20032 | train_mse: 1.27906 | train_mae: 0.61401 |  0:00:04s\n",
      "epoch 47 | loss: 0.17488 | train_mse: 1.0968  | train_mae: 0.57661 |  0:00:05s\n"
     ]
    },
    {
     "name": "stdout",
     "output_type": "stream",
     "text": [
      "epoch 48 | loss: 0.20443 | train_mse: 1.23218 | train_mae: 0.58913 |  0:00:05s\n",
      "epoch 49 | loss: 0.13371 | train_mse: 1.12374 | train_mae: 0.56564 |  0:00:05s\n",
      "epoch 50 | loss: 0.32594 | train_mse: 1.01235 | train_mae: 0.53521 |  0:00:05s\n"
     ]
    },
    {
     "name": "stdout",
     "output_type": "stream",
     "text": [
      "epoch 51 | loss: 0.1718  | train_mse: 1.28401 | train_mae: 0.59061 |  0:00:05s\n",
      "epoch 52 | loss: 0.23166 | train_mse: 1.17222 | train_mae: 0.56795 |  0:00:05s\n",
      "epoch 53 | loss: 0.35325 | train_mse: 0.66937 | train_mae: 0.47636 |  0:00:05s\n"
     ]
    },
    {
     "name": "stdout",
     "output_type": "stream",
     "text": [
      "epoch 54 | loss: 0.22827 | train_mse: 0.33433 | train_mae: 0.36725 |  0:00:05s\n",
      "epoch 55 | loss: 0.20707 | train_mse: 0.2409  | train_mae: 0.33319 |  0:00:05s\n"
     ]
    },
    {
     "name": "stdout",
     "output_type": "stream",
     "text": [
      "epoch 56 | loss: 0.20273 | train_mse: 0.31389 | train_mae: 0.37366 |  0:00:06s\n",
      "epoch 57 | loss: 0.18138 | train_mse: 0.43837 | train_mae: 0.41747 |  0:00:06s\n"
     ]
    },
    {
     "name": "stdout",
     "output_type": "stream",
     "text": [
      "epoch 58 | loss: 0.27313 | train_mse: 0.6435  | train_mae: 0.45792 |  0:00:06s\n",
      "epoch 59 | loss: 0.16843 | train_mse: 0.30665 | train_mae: 0.35485 |  0:00:06s\n",
      "epoch 60 | loss: 0.20189 | train_mse: 0.10562 | train_mae: 0.24456 |  0:00:06s\n"
     ]
    },
    {
     "name": "stdout",
     "output_type": "stream",
     "text": [
      "epoch 61 | loss: 0.16977 | train_mse: 0.10484 | train_mae: 0.24347 |  0:00:06s\n",
      "epoch 62 | loss: 0.2331  | train_mse: 0.12139 | train_mae: 0.261   |  0:00:06s\n",
      "epoch 63 | loss: 0.18345 | train_mse: 0.16942 | train_mae: 0.27334 |  0:00:06s\n"
     ]
    },
    {
     "name": "stdout",
     "output_type": "stream",
     "text": [
      "epoch 64 | loss: 0.24076 | train_mse: 0.30513 | train_mae: 0.30747 |  0:00:06s\n",
      "epoch 65 | loss: 0.12552 | train_mse: 0.15068 | train_mae: 0.26716 |  0:00:06s\n",
      "epoch 66 | loss: 0.16041 | train_mse: 0.17219 | train_mae: 0.26542 |  0:00:07s\n"
     ]
    },
    {
     "name": "stdout",
     "output_type": "stream",
     "text": [
      "epoch 67 | loss: 0.10923 | train_mse: 0.27791 | train_mae: 0.30838 |  0:00:07s\n",
      "epoch 68 | loss: 0.13737 | train_mse: 0.31385 | train_mae: 0.30232 |  0:00:07s\n",
      "epoch 69 | loss: 0.22956 | train_mse: 0.39103 | train_mae: 0.33323 |  0:00:07s\n"
     ]
    },
    {
     "name": "stdout",
     "output_type": "stream",
     "text": [
      "epoch 70 | loss: 0.25061 | train_mse: 0.3678  | train_mae: 0.33032 |  0:00:07s\n",
      "epoch 71 | loss: 0.31855 | train_mse: 0.33934 | train_mae: 0.30099 |  0:00:07s\n",
      "epoch 72 | loss: 0.22425 | train_mse: 0.2772  | train_mae: 0.28039 |  0:00:07s\n"
     ]
    },
    {
     "name": "stdout",
     "output_type": "stream",
     "text": [
      "epoch 73 | loss: 0.23057 | train_mse: 0.17611 | train_mae: 0.26798 |  0:00:07s\n",
      "epoch 74 | loss: 0.15494 | train_mse: 0.14393 | train_mae: 0.25008 |  0:00:07s\n"
     ]
    },
    {
     "name": "stdout",
     "output_type": "stream",
     "text": [
      "epoch 75 | loss: 0.16141 | train_mse: 0.22603 | train_mae: 0.28957 |  0:00:07s\n",
      "epoch 76 | loss: 0.12917 | train_mse: 0.36721 | train_mae: 0.3367  |  0:00:08s\n",
      "epoch 77 | loss: 0.18805 | train_mse: 0.39562 | train_mae: 0.3521  |  0:00:08s\n"
     ]
    },
    {
     "name": "stdout",
     "output_type": "stream",
     "text": [
      "epoch 78 | loss: 0.11077 | train_mse: 0.40752 | train_mae: 0.37891 |  0:00:08s\n",
      "epoch 79 | loss: 0.15362 | train_mse: 0.41966 | train_mae: 0.38226 |  0:00:08s\n",
      "epoch 80 | loss: 0.11223 | train_mse: 0.46047 | train_mae: 0.38544 |  0:00:08s\n"
     ]
    },
    {
     "name": "stdout",
     "output_type": "stream",
     "text": [
      "epoch 81 | loss: 0.07134 | train_mse: 0.44047 | train_mae: 0.36885 |  0:00:08s\n",
      "epoch 82 | loss: 0.17101 | train_mse: 0.4001  | train_mae: 0.35555 |  0:00:08s\n",
      "epoch 83 | loss: 0.16305 | train_mse: 0.23003 | train_mae: 0.31251 |  0:00:08s\n"
     ]
    },
    {
     "name": "stdout",
     "output_type": "stream",
     "text": [
      "epoch 84 | loss: 0.14437 | train_mse: 0.16186 | train_mae: 0.28478 |  0:00:08s\n",
      "epoch 85 | loss: 0.11715 | train_mse: 0.16495 | train_mae: 0.29418 |  0:00:08s\n"
     ]
    },
    {
     "name": "stdout",
     "output_type": "stream",
     "text": [
      "epoch 86 | loss: 0.21342 | train_mse: 0.16183 | train_mae: 0.27594 |  0:00:08s\n",
      "epoch 87 | loss: 0.21908 | train_mse: 0.16481 | train_mae: 0.2691  |  0:00:09s\n",
      "epoch 88 | loss: 0.18415 | train_mse: 0.19923 | train_mae: 0.28591 |  0:00:09s\n"
     ]
    },
    {
     "name": "stdout",
     "output_type": "stream",
     "text": [
      "epoch 89 | loss: 0.24197 | train_mse: 0.21348 | train_mae: 0.28443 |  0:00:09s\n",
      "epoch 90 | loss: 0.23965 | train_mse: 0.24305 | train_mae: 0.3008  |  0:00:09s\n",
      "epoch 91 | loss: 0.14402 | train_mse: 0.27807 | train_mae: 0.32291 |  0:00:09s\n"
     ]
    },
    {
     "name": "stdout",
     "output_type": "stream",
     "text": [
      "epoch 92 | loss: 0.13074 | train_mse: 0.35733 | train_mae: 0.37164 |  0:00:09s\n",
      "epoch 93 | loss: 0.19207 | train_mse: 0.50743 | train_mae: 0.43369 |  0:00:09s\n",
      "epoch 94 | loss: 0.23407 | train_mse: 0.48862 | train_mae: 0.40302 |  0:00:09s\n"
     ]
    },
    {
     "name": "stdout",
     "output_type": "stream",
     "text": [
      "epoch 95 | loss: 0.3148  | train_mse: 0.40899 | train_mae: 0.35516 |  0:00:09s\n",
      "epoch 96 | loss: 0.33526 | train_mse: 0.33743 | train_mae: 0.34872 |  0:00:09s\n",
      "epoch 97 | loss: 0.27597 | train_mse: 0.25803 | train_mae: 0.34889 |  0:00:09s\n"
     ]
    },
    {
     "name": "stdout",
     "output_type": "stream",
     "text": [
      "epoch 98 | loss: 0.21866 | train_mse: 0.13954 | train_mae: 0.27241 |  0:00:09s\n",
      "epoch 99 | loss: 0.16731 | train_mse: 0.11776 | train_mae: 0.23731 |  0:00:10s\n"
     ]
    },
    {
     "name": "stdout",
     "output_type": "stream",
     "text": [
      "epoch 100| loss: 0.21711 | train_mse: 0.19531 | train_mae: 0.27807 |  0:00:10s\n",
      "epoch 101| loss: 0.22415 | train_mse: 0.24749 | train_mae: 0.30455 |  0:00:10s\n",
      "epoch 102| loss: 0.24252 | train_mse: 0.20762 | train_mae: 0.29123 |  0:00:10s\n"
     ]
    },
    {
     "name": "stdout",
     "output_type": "stream",
     "text": [
      "epoch 103| loss: 0.18353 | train_mse: 0.13135 | train_mae: 0.2597  |  0:00:10s\n",
      "epoch 104| loss: 0.23713 | train_mse: 0.11279 | train_mae: 0.24719 |  0:00:10s\n",
      "epoch 105| loss: 0.23312 | train_mse: 0.08447 | train_mae: 0.22049 |  0:00:10s\n"
     ]
    },
    {
     "name": "stdout",
     "output_type": "stream",
     "text": [
      "epoch 106| loss: 0.21983 | train_mse: 0.08062 | train_mae: 0.21441 |  0:00:10s\n",
      "epoch 107| loss: 0.24473 | train_mse: 0.1021  | train_mae: 0.22702 |  0:00:10s\n",
      "epoch 108| loss: 0.14086 | train_mse: 0.13632 | train_mae: 0.2559  |  0:00:10s\n"
     ]
    },
    {
     "name": "stdout",
     "output_type": "stream",
     "text": [
      "epoch 109| loss: 0.25097 | train_mse: 0.12392 | train_mae: 0.25575 |  0:00:11s\n",
      "epoch 110| loss: 0.14978 | train_mse: 0.09263 | train_mae: 0.22542 |  0:00:11s\n",
      "epoch 111| loss: 0.12537 | train_mse: 0.12539 | train_mae: 0.24407 |  0:00:11s\n"
     ]
    },
    {
     "name": "stdout",
     "output_type": "stream",
     "text": [
      "epoch 112| loss: 0.17858 | train_mse: 0.15905 | train_mae: 0.25417 |  0:00:11s\n",
      "epoch 113| loss: 0.13657 | train_mse: 0.09993 | train_mae: 0.22584 |  0:00:11s\n",
      "epoch 114| loss: 0.12646 | train_mse: 0.06681 | train_mae: 0.19563 |  0:00:11s\n"
     ]
    },
    {
     "name": "stdout",
     "output_type": "stream",
     "text": [
      "epoch 115| loss: 0.18611 | train_mse: 0.18393 | train_mae: 0.26458 |  0:00:11s\n",
      "epoch 116| loss: 0.09494 | train_mse: 0.28083 | train_mae: 0.2834  |  0:00:11s\n",
      "epoch 117| loss: 0.16054 | train_mse: 0.27422 | train_mae: 0.27637 |  0:00:11s\n"
     ]
    },
    {
     "name": "stdout",
     "output_type": "stream",
     "text": [
      "epoch 118| loss: 0.14867 | train_mse: 0.25666 | train_mae: 0.27507 |  0:00:11s\n",
      "epoch 119| loss: 0.11547 | train_mse: 0.21763 | train_mae: 0.27515 |  0:00:11s\n",
      "epoch 120| loss: 0.1101  | train_mse: 0.16917 | train_mae: 0.2481  |  0:00:11s\n"
     ]
    },
    {
     "name": "stdout",
     "output_type": "stream",
     "text": [
      "epoch 121| loss: 0.2493  | train_mse: 0.2065  | train_mae: 0.27159 |  0:00:12s\n",
      "epoch 122| loss: 0.2711  | train_mse: 0.22205 | train_mae: 0.27836 |  0:00:12s\n",
      "epoch 123| loss: 0.20892 | train_mse: 0.1668  | train_mae: 0.24325 |  0:00:12s\n"
     ]
    },
    {
     "name": "stdout",
     "output_type": "stream",
     "text": [
      "epoch 124| loss: 0.17354 | train_mse: 0.10784 | train_mae: 0.21899 |  0:00:12s\n",
      "epoch 125| loss: 0.32319 | train_mse: 0.09073 | train_mae: 0.21862 |  0:00:12s\n",
      "epoch 126| loss: 0.17945 | train_mse: 0.08528 | train_mae: 0.22006 |  0:00:12s\n"
     ]
    },
    {
     "name": "stdout",
     "output_type": "stream",
     "text": [
      "epoch 127| loss: 0.14645 | train_mse: 0.07699 | train_mae: 0.19964 |  0:00:12s\n",
      "epoch 128| loss: 0.15602 | train_mse: 0.10921 | train_mae: 0.2239  |  0:00:12s\n",
      "epoch 129| loss: 0.14081 | train_mse: 0.14357 | train_mae: 0.23454 |  0:00:12s\n"
     ]
    },
    {
     "name": "stdout",
     "output_type": "stream",
     "text": [
      "epoch 130| loss: 0.32027 | train_mse: 0.17794 | train_mae: 0.25636 |  0:00:12s\n",
      "epoch 131| loss: 0.24681 | train_mse: 0.11451 | train_mae: 0.23669 |  0:00:13s\n",
      "epoch 132| loss: 0.19462 | train_mse: 0.07266 | train_mae: 0.215   |  0:00:13s\n"
     ]
    },
    {
     "name": "stdout",
     "output_type": "stream",
     "text": [
      "epoch 133| loss: 0.09473 | train_mse: 0.07167 | train_mae: 0.20882 |  0:00:13s\n",
      "epoch 134| loss: 0.24765 | train_mse: 0.08232 | train_mae: 0.21456 |  0:00:13s\n",
      "epoch 135| loss: 0.09359 | train_mse: 0.07918 | train_mae: 0.20441 |  0:00:13s\n"
     ]
    },
    {
     "name": "stdout",
     "output_type": "stream",
     "text": [
      "epoch 136| loss: 0.09407 | train_mse: 0.07111 | train_mae: 0.19649 |  0:00:13s\n",
      "epoch 137| loss: 0.1232  | train_mse: 0.06102 | train_mae: 0.18492 |  0:00:13s\n",
      "epoch 138| loss: 0.174   | train_mse: 0.08069 | train_mae: 0.19821 |  0:00:13s\n"
     ]
    },
    {
     "name": "stdout",
     "output_type": "stream",
     "text": [
      "epoch 139| loss: 0.08784 | train_mse: 0.16916 | train_mae: 0.24257 |  0:00:13s\n",
      "epoch 140| loss: 0.10262 | train_mse: 0.26709 | train_mae: 0.31034 |  0:00:13s\n"
     ]
    },
    {
     "name": "stdout",
     "output_type": "stream",
     "text": [
      "epoch 141| loss: 0.1508  | train_mse: 0.33884 | train_mae: 0.36325 |  0:00:14s\n",
      "epoch 142| loss: 0.1791  | train_mse: 0.28661 | train_mae: 0.33052 |  0:00:14s\n",
      "epoch 143| loss: 0.13931 | train_mse: 0.21554 | train_mae: 0.28895 |  0:00:14s\n"
     ]
    },
    {
     "name": "stdout",
     "output_type": "stream",
     "text": [
      "epoch 144| loss: 0.13441 | train_mse: 0.1648  | train_mae: 0.27023 |  0:00:14s\n",
      "epoch 145| loss: 0.10833 | train_mse: 0.13077 | train_mae: 0.25261 |  0:00:14s\n",
      "epoch 146| loss: 0.1054  | train_mse: 0.11666 | train_mae: 0.24932 |  0:00:14s\n"
     ]
    },
    {
     "name": "stdout",
     "output_type": "stream",
     "text": [
      "epoch 147| loss: 0.15976 | train_mse: 0.10945 | train_mae: 0.2533  |  0:00:14s\n",
      "epoch 148| loss: 0.12027 | train_mse: 0.07095 | train_mae: 0.19926 |  0:00:14s\n",
      "epoch 149| loss: 0.19758 | train_mse: 0.06543 | train_mae: 0.19302 |  0:00:14s\n"
     ]
    },
    {
     "name": "stdout",
     "output_type": "stream",
     "text": [
      "epoch 150| loss: 0.12621 | train_mse: 0.06202 | train_mae: 0.19096 |  0:00:14s\n",
      "epoch 151| loss: 0.1158  | train_mse: 0.08563 | train_mae: 0.21279 |  0:00:15s\n",
      "epoch 152| loss: 0.10047 | train_mse: 0.14158 | train_mae: 0.23563 |  0:00:15s\n"
     ]
    },
    {
     "name": "stdout",
     "output_type": "stream",
     "text": [
      "epoch 153| loss: 0.10617 | train_mse: 0.13182 | train_mae: 0.23315 |  0:00:15s\n",
      "epoch 154| loss: 0.11919 | train_mse: 0.08474 | train_mae: 0.21543 |  0:00:15s\n"
     ]
    },
    {
     "name": "stdout",
     "output_type": "stream",
     "text": [
      "epoch 155| loss: 0.08653 | train_mse: 0.07356 | train_mae: 0.21074 |  0:00:15s\n",
      "epoch 156| loss: 0.31138 | train_mse: 0.07544 | train_mae: 0.21457 |  0:00:15s\n",
      "epoch 157| loss: 0.17172 | train_mse: 0.08402 | train_mae: 0.20119 |  0:00:15s\n"
     ]
    },
    {
     "name": "stdout",
     "output_type": "stream",
     "text": [
      "epoch 158| loss: 0.12067 | train_mse: 0.09184 | train_mae: 0.22097 |  0:00:15s\n",
      "epoch 159| loss: 0.14851 | train_mse: 0.08356 | train_mae: 0.2113  |  0:00:15s\n",
      "epoch 160| loss: 0.269   | train_mse: 0.07189 | train_mae: 0.18942 |  0:00:15s\n"
     ]
    },
    {
     "name": "stdout",
     "output_type": "stream",
     "text": [
      "epoch 161| loss: 0.16304 | train_mse: 0.09015 | train_mae: 0.2137  |  0:00:16s\n",
      "epoch 162| loss: 0.11878 | train_mse: 0.10225 | train_mae: 0.22259 |  0:00:16s\n",
      "epoch 163| loss: 0.11041 | train_mse: 0.1042  | train_mae: 0.22484 |  0:00:16s\n"
     ]
    },
    {
     "name": "stdout",
     "output_type": "stream",
     "text": [
      "epoch 164| loss: 0.16617 | train_mse: 0.14523 | train_mae: 0.25641 |  0:00:16s\n",
      "epoch 165| loss: 0.08713 | train_mse: 0.20986 | train_mae: 0.29621 |  0:00:16s\n",
      "epoch 166| loss: 0.12903 | train_mse: 0.26935 | train_mae: 0.32996 |  0:00:16s\n"
     ]
    },
    {
     "name": "stdout",
     "output_type": "stream",
     "text": [
      "epoch 167| loss: 0.08639 | train_mse: 0.21757 | train_mae: 0.2895  |  0:00:16s\n",
      "epoch 168| loss: 0.17385 | train_mse: 0.16551 | train_mae: 0.25049 |  0:00:16s\n",
      "epoch 169| loss: 0.29628 | train_mse: 0.12734 | train_mae: 0.23618 |  0:00:16s\n"
     ]
    },
    {
     "name": "stdout",
     "output_type": "stream",
     "text": [
      "epoch 170| loss: 0.13772 | train_mse: 0.09866 | train_mae: 0.23692 |  0:00:16s\n",
      "epoch 171| loss: 0.2811  | train_mse: 0.08544 | train_mae: 0.2313  |  0:00:16s\n"
     ]
    },
    {
     "name": "stdout",
     "output_type": "stream",
     "text": [
      "epoch 172| loss: 0.16035 | train_mse: 0.06988 | train_mae: 0.20622 |  0:00:17s\n",
      "epoch 173| loss: 0.10799 | train_mse: 0.07498 | train_mae: 0.21453 |  0:00:17s\n"
     ]
    },
    {
     "name": "stdout",
     "output_type": "stream",
     "text": [
      "epoch 174| loss: 0.14109 | train_mse: 0.07482 | train_mae: 0.20964 |  0:00:17s\n",
      "epoch 175| loss: 0.10549 | train_mse: 0.07523 | train_mae: 0.2078  |  0:00:17s\n",
      "epoch 176| loss: 0.11868 | train_mse: 0.09959 | train_mae: 0.21487 |  0:00:17s\n"
     ]
    },
    {
     "name": "stdout",
     "output_type": "stream",
     "text": [
      "epoch 177| loss: 0.16743 | train_mse: 0.15236 | train_mae: 0.24255 |  0:00:17s\n",
      "epoch 178| loss: 0.20579 | train_mse: 0.17069 | train_mae: 0.24601 |  0:00:17s\n",
      "epoch 179| loss: 0.15037 | train_mse: 0.23455 | train_mae: 0.26667 |  0:00:17s\n"
     ]
    },
    {
     "name": "stdout",
     "output_type": "stream",
     "text": [
      "epoch 180| loss: 0.11503 | train_mse: 0.28063 | train_mae: 0.30322 |  0:00:17s\n",
      "epoch 181| loss: 0.2792  | train_mse: 0.29312 | train_mae: 0.31374 |  0:00:17s\n"
     ]
    },
    {
     "name": "stdout",
     "output_type": "stream",
     "text": [
      "epoch 182| loss: 0.16377 | train_mse: 0.31147 | train_mae: 0.31759 |  0:00:18s\n",
      "epoch 183| loss: 0.13767 | train_mse: 0.34188 | train_mae: 0.33474 |  0:00:18s\n"
     ]
    },
    {
     "name": "stdout",
     "output_type": "stream",
     "text": [
      "epoch 184| loss: 0.2049  | train_mse: 0.34366 | train_mae: 0.32558 |  0:00:18s\n",
      "epoch 185| loss: 0.14087 | train_mse: 0.31934 | train_mae: 0.30672 |  0:00:18s\n",
      "epoch 186| loss: 0.12205 | train_mse: 0.3153  | train_mae: 0.29636 |  0:00:18s\n"
     ]
    },
    {
     "name": "stdout",
     "output_type": "stream",
     "text": [
      "epoch 187| loss: 0.19317 | train_mse: 0.338   | train_mae: 0.29844 |  0:00:18s\n",
      "\n",
      "Early stopping occurred at epoch 187 with best_epoch = 137 and best_train_mae = 0.18492\n",
      "Best weights from best epoch are automatically used!\n"
     ]
    }
   ],
   "source": [
    "#Train the Model\n",
    "\n",
    "Y_train = np.reshape(Y_train, (-1, 1))\n",
    "Y_test = np.reshape(Y_test, (-1, 1))\n",
    "\n",
    "prior_model = TabNetRegressor(optimizer_fn=torch.optim.Adam, optimizer_params=dict(lr = 0.02),\n",
    "          #scheduler_params={\"step_size\":10, ], \"gamma\":0.9},\n",
    "          #scheduler_fn=torch.optim.lr_scheduler.StepLR\n",
    "          )  #TabNetRegressor()\n",
    "\n",
    "prior_model.fit(X_train,Y_train,eval_set=[(X_train, Y_train)],\n",
    "            eval_name=['train'], \n",
    "            eval_metric=[ 'mse', 'mae'], \n",
    "            max_epochs = n_epochs, \n",
    "            batch_size = batch_size,\n",
    "            patience=50\n",
    "            )"
   ]
  },
  {
   "cell_type": "code",
   "execution_count": 10,
   "id": "af65dcda",
   "metadata": {
    "execution": {
     "iopub.execute_input": "2022-06-22T16:31:20.911544Z",
     "iopub.status.busy": "2022-06-22T16:31:20.910220Z",
     "iopub.status.idle": "2022-06-22T16:31:20.934045Z",
     "shell.execute_reply": "2022-06-22T16:31:20.935453Z"
    },
    "id": "af65dcda",
    "papermill": {
     "duration": 0.096373,
     "end_time": "2022-06-22T16:31:20.935728",
     "exception": false,
     "start_time": "2022-06-22T16:31:20.839355",
     "status": "completed"
    },
    "tags": []
   },
   "outputs": [
    {
     "data": {
      "application/scrapbook.scrap.json+json": {
       "data": 0.27520500866196906,
       "encoder": "json",
       "name": "Prior Model MSE",
       "version": 1
      }
     },
     "metadata": {
      "scrapbook": {
       "data": true,
       "display": false,
       "name": "Prior Model MSE"
      }
     },
     "output_type": "display_data"
    },
    {
     "data": {
      "application/scrapbook.scrap.json+json": {
       "data": 0.28711099072477464,
       "encoder": "json",
       "name": "ABC Pre-generator MSE",
       "version": 1
      }
     },
     "metadata": {
      "scrapbook": {
       "data": true,
       "display": false,
       "name": "ABC Pre-generator MSE"
      }
     },
     "output_type": "display_data"
    },
    {
     "data": {
      "application/scrapbook.scrap.json+json": {
       "data": 0.3580499706889692,
       "encoder": "json",
       "name": "Prior Model MSE",
       "version": 1
      }
     },
     "metadata": {
      "scrapbook": {
       "data": true,
       "display": false,
       "name": "Prior Model MSE"
      }
     },
     "output_type": "display_data"
    },
    {
     "data": {
      "application/scrapbook.scrap.json+json": {
       "data": 0.37565486535622866,
       "encoder": "json",
       "name": "ABC Pre-generator MSE",
       "version": 1
      }
     },
     "metadata": {
      "scrapbook": {
       "data": true,
       "display": false,
       "name": "ABC Pre-generator MSE"
      }
     },
     "output_type": "display_data"
    }
   ],
   "source": [
    "y_pred = prior_model.predict(X_test)\n",
    "y_abc = y_pred + np.random.normal(0,variance, y_pred.shape) + bias \n",
    "mse = mean_squared_error(y_pred,Y_test)\n",
    "sb.glue(\"Prior Model MSE\",mse)\n",
    "mse = mean_squared_error(y_abc,Y_test)\n",
    "sb.glue(\"ABC Pre-generator MSE\",mse)\n",
    "mae = mean_absolute_error(y_pred,Y_test)\n",
    "sb.glue(\"Prior Model MSE\",mae)\n",
    "mae = mean_absolute_error(y_abc,Y_test)\n",
    "sb.glue(\"ABC Pre-generator MSE\",mae)"
   ]
  },
  {
   "cell_type": "markdown",
   "id": "25609da2",
   "metadata": {
    "papermill": {
     "duration": 0.070858,
     "end_time": "2022-06-22T16:31:21.066816",
     "exception": false,
     "start_time": "2022-06-22T16:31:20.995958",
     "status": "completed"
    },
    "tags": []
   },
   "source": [
    "# ABC GAN Model"
   ]
  },
  {
   "cell_type": "code",
   "execution_count": 11,
   "id": "dfc3464d",
   "metadata": {
    "execution": {
     "iopub.execute_input": "2022-06-22T16:31:21.209286Z",
     "iopub.status.busy": "2022-06-22T16:31:21.204630Z",
     "iopub.status.idle": "2022-06-22T16:31:21.210352Z",
     "shell.execute_reply": "2022-06-22T16:31:21.210895Z"
    },
    "papermill": {
     "duration": 0.068584,
     "end_time": "2022-06-22T16:31:21.211123",
     "exception": false,
     "start_time": "2022-06-22T16:31:21.142539",
     "status": "completed"
    },
    "tags": []
   },
   "outputs": [],
   "source": [
    "gen = network.Generator(n_features+1).to(device)\n",
    "disc = network.Discriminator(n_features+1).to(device)\n",
    "\n",
    "criterion = torch.nn.BCELoss()\n",
    "gen_opt = torch.optim.Adam(gen.parameters(), lr=0.001, betas=(0.5, 0.999))\n",
    "disc_opt = torch.optim.Adam(disc.parameters(), lr=0.001, betas=(0.5, 0.999))"
   ]
  },
  {
   "cell_type": "code",
   "execution_count": 12,
   "id": "b75fdd85",
   "metadata": {
    "execution": {
     "iopub.execute_input": "2022-06-22T16:31:21.329105Z",
     "iopub.status.busy": "2022-06-22T16:31:21.323910Z",
     "iopub.status.idle": "2022-06-22T16:32:29.699430Z",
     "shell.execute_reply": "2022-06-22T16:32:29.700178Z"
    },
    "papermill": {
     "duration": 68.44743,
     "end_time": "2022-06-22T16:32:29.700491",
     "exception": false,
     "start_time": "2022-06-22T16:31:21.253061",
     "status": "completed"
    },
    "tags": []
   },
   "outputs": [
    {
     "data": {
      "image/png": "[encoded data removed]",
      "text/plain": [
       "<Figure size 432x288 with 1 Axes>"
      ]
     },
     "metadata": {
      "needs_background": "light"
     },
     "output_type": "display_data"
    },
    {
     "data": {
      "image/png": "[encoded data removed]",
      "text/plain": [
       "<Figure size 432x288 with 1 Axes>"
      ]
     },
     "metadata": {
      "needs_background": "light"
     },
     "output_type": "display_data"
    }
   ],
   "source": [
    "#Training the ABC_GAN \n",
    "ABC_train_test2.training_GAN(disc,gen,disc_opt,gen_opt,train_data,batch_size,n_epochs,criterion,prior_model,variance,bias,device)"
   ]
  },
  {
   "cell_type": "code",
   "execution_count": 13,
   "id": "1fa7c368",
   "metadata": {
    "execution": {
     "iopub.execute_input": "2022-06-22T16:32:29.816690Z",
     "iopub.status.busy": "2022-06-22T16:32:29.815810Z",
     "iopub.status.idle": "2022-06-22T16:32:30.867262Z",
     "shell.execute_reply": "2022-06-22T16:32:30.867986Z"
    },
    "papermill": {
     "duration": 1.124483,
     "end_time": "2022-06-22T16:32:30.868198",
     "exception": false,
     "start_time": "2022-06-22T16:32:29.743715",
     "status": "completed"
    },
    "tags": []
   },
   "outputs": [
    {
     "data": {
      "application/scrapbook.scrap.json+json": {
       "data": 0.399747680577808,
       "encoder": "json",
       "name": "ABC-GAN Model 1 MSE",
       "version": 1
      }
     },
     "metadata": {
      "scrapbook": {
       "data": true,
       "display": false,
       "name": "ABC-GAN Model 1 MSE"
      }
     },
     "output_type": "display_data"
    },
    {
     "data": {
      "application/scrapbook.scrap.json+json": {
       "data": 0.42576369022205474,
       "encoder": "json",
       "name": "ABC-GAN Model 1 MAE",
       "version": 1
      }
     },
     "metadata": {
      "scrapbook": {
       "data": true,
       "display": false,
       "name": "ABC-GAN Model 1 MAE"
      }
     },
     "output_type": "display_data"
    },
    {
     "data": {
      "application/scrapbook.scrap.json+json": {
       "data": 8.515273804441094,
       "encoder": "json",
       "name": "ABC-GAN Model 1 Manhattan Distance",
       "version": 1
      }
     },
     "metadata": {
      "scrapbook": {
       "data": true,
       "display": false,
       "name": "ABC-GAN Model 1 Manhattan Distance"
      }
     },
     "output_type": "display_data"
    },
    {
     "data": {
      "application/scrapbook.scrap.json+json": {
       "data": 2.8268544557553565,
       "encoder": "json",
       "name": "ABC-GAN Model 1 Euclidean distance",
       "version": 1
      }
     },
     "metadata": {
      "scrapbook": {
       "data": true,
       "display": false,
       "name": "ABC-GAN Model 1 Euclidean distance"
      }
     },
     "output_type": "display_data"
    },
    {
     "data": {
      "application/scrapbook.scrap.json+json": {
       "data": [
        [
         0.3907339475998891,
         0.37367657870120996,
         0.41453748124124595,
         0.36689027121570406,
         0.42005776413544654,
         0.40520564857490077,
         0.3888558033064091,
         0.40443104700971,
         0.3859808082984541,
         0.39545834615532705,
         0.41404956193197345,
         0.38631194410807074,
         0.39721005211696925,
         0.41034309822122383,
         0.43420921890604286,
         0.41112454028345036,
         0.4082473697967231,
         0.38715182524633707,
         0.4190031169820497,
         0.40484835731495145,
         0.3937035110836617,
         0.3708298976750826,
         0.4142084749553704,
         0.40687954058026304,
         0.4011312927240162,
         0.41602071543177266,
         0.4137943754530159,
         0.3856689890720431,
         0.4075549430053747,
         0.39764898732889875,
         0.41973635073726817,
         0.3960018349091905,
         0.4119538203183077,
         0.42974416444289665,
         0.3995087524967019,
         0.35788418328201066,
         0.40628294471647913,
         0.3727969159280871,
         0.4103140024347612,
         0.39595590430531835,
         0.4005305443144119,
         0.4207328484043442,
         0.36781374214173185,
         0.41327708270620056,
         0.41014509075860384,
         0.40794065775920474,
         0.3736436016119442,
         0.3765503276203765,
         0.37230840024156137,
         0.387511958151453,
         0.3704012214201921,
         0.4045352241684254,
         0.38285172220052016,
         0.38203643753458144,
         0.41731535234456063,
         0.404378388965758,
         0.3962097635212935,
         0.36894358673070227,
         0.4011977285200704,
         0.4069420809985339,
         0.41320742683782896,
         0.3865294428535938,
         0.407423765661522,
         0.44459620294829716,
         0.40632180285760977,
         0.405361052674819,
         0.38678674777575306,
         0.421511760920807,
         0.41365279233785024,
         0.40716010801167063,
         0.3861711811603101,
         0.39121105243812515,
         0.41656628180268546,
         0.36463361235150343,
         0.3925018061142558,
         0.38626286368498597,
         0.39555321710870756,
         0.3982986508886122,
         0.41533096404856984,
         0.40069524474804397,
         0.40047653209825346,
         0.3858136061422025,
         0.39248207984719863,
         0.4045199747153553,
         0.36908164801234244,
         0.4393655233260091,
         0.4089252877849011,
         0.3959539946403106,
         0.42781263599644276,
         0.4027269523670466,
         0.4049225616751599,
         0.41948303334678816,
         0.3814592622145798,
         0.41461817366221626,
         0.4089500619670905,
         0.3878071497956211,
         0.4173455692670787,
         0.40862115250742076,
         0.4117150945865219,
         0.36169964446163394
        ],
        [
         0.40954518467187884,
         0.4063831247389317,
         0.42618533298373223,
         0.4048923417925835,
         0.4448547013103962,
         0.42777243703603746,
         0.41707918122410775,
         0.42074165120720863,
         0.41152072213590146,
         0.4302032843232155,
         0.434877310693264,
         0.401660680770874,
         0.4182644009590149,
         0.43466071635484693,
         0.4319555535912514,
         0.43971255496144296,
         0.43568788170814515,
         0.4191123828291893,
         0.44116422683000567,
         0.4344429083168507,
         0.412493846565485,
         0.42002030834555626,
         0.44268261417746546,
         0.421381938457489,
         0.4141936108469963,
         0.4304878249764442,
         0.42522013410925863,
         0.4273181140422821,
         0.43226872235536573,
         0.41786220893263815,
         0.4330616194754839,
         0.43288036435842514,
         0.4282824270427227,
         0.45095341503620145,
         0.4259854704141617,
         0.3908467501401901,
         0.4388313636183739,
         0.4208510808646679,
         0.43635437041521075,
         0.4214277036488056,
         0.41549422666430474,
         0.44550033546984197,
         0.4127895891666412,
         0.4454676203429699,
         0.4287533454596996,
         0.43676255717873574,
         0.4254771649837494,
         0.4078253164887428,
         0.41803141832351687,
         0.4130528077483177,
         0.41429826244711876,
         0.43505739197134974,
         0.41136236786842345,
         0.4398887187242508,
         0.43648525401949884,
         0.4302797608077526,
         0.4144648745656013,
         0.42403933629393575,
         0.4244596838951111,
         0.41875308826565744,
         0.4448588952422142,
         0.4302904598414898,
         0.4323058404028416,
         0.46436183750629423,
         0.42120756655931474,
         0.4232381798326969,
         0.42329847663640974,
         0.43968144729733466,
         0.42127548679709437,
         0.42895985320210456,
         0.43634785115718844,
         0.4124473504722118,
         0.42023074328899385,
         0.3966095864772797,
         0.4243597462773323,
         0.42073499113321305,
         0.41992370039224625,
         0.4296073742210865,
         0.44564882963895797,
         0.41576792374253274,
         0.42258975133299825,
         0.4186618089675903,
         0.4038358755409718,
         0.4182328753173351,
         0.4138309545814991,
         0.4422029696404934,
         0.43052799329161645,
         0.4102403834462166,
         0.45862275511026385,
         0.43871516957879064,
         0.4351672649383545,
         0.43006022050976755,
         0.4128955125808716,
         0.44637986421585085,
         0.43873237892985345,
         0.41332190334796903,
         0.42758321687579154,
         0.42609472274780275,
         0.4159233525395393,
         0.4092303216457367
        ],
        [
         8.190903693437576,
         8.127662494778633,
         8.523706659674644,
         8.09784683585167,
         8.897094026207924,
         8.555448740720749,
         8.341583624482155,
         8.414833024144173,
         8.230414442718029,
         8.60406568646431,
         8.69754621386528,
         8.03321361541748,
         8.365288019180298,
         8.693214327096939,
         8.639111071825027,
         8.794251099228859,
         8.713757634162903,
         8.382247656583786,
         8.823284536600113,
         8.688858166337013,
         8.2498769313097,
         8.400406166911125,
         8.853652283549309,
         8.42763876914978,
         8.283872216939926,
         8.609756499528885,
         8.504402682185173,
         8.546362280845642,
         8.645374447107315,
         8.357244178652763,
         8.661232389509678,
         8.657607287168503,
         8.565648540854454,
         9.01906830072403,
         8.519709408283234,
         7.8169350028038025,
         8.776627272367477,
         8.417021617293358,
         8.727087408304214,
         8.428554072976112,
         8.309884533286095,
         8.91000670939684,
         8.255791783332825,
         8.909352406859398,
         8.575066909193993,
         8.735251143574715,
         8.509543299674988,
         8.156506329774857,
         8.360628366470337,
         8.261056154966354,
         8.285965248942375,
         8.701147839426994,
         8.22724735736847,
         8.797774374485016,
         8.729705080389977,
         8.605595216155052,
         8.289297491312027,
         8.480786725878716,
         8.489193677902222,
         8.375061765313148,
         8.897177904844284,
         8.605809196829796,
         8.646116808056831,
         9.287236750125885,
         8.424151331186295,
         8.464763596653938,
         8.465969532728195,
         8.793628945946693,
         8.425509735941887,
         8.579197064042091,
         8.726957023143768,
         8.248947009444237,
         8.404614865779877,
         7.932191729545593,
         8.487194925546646,
         8.41469982266426,
         8.398474007844925,
         8.59214748442173,
         8.91297659277916,
         8.315358474850655,
         8.451795026659966,
         8.373236179351807,
         8.076717510819435,
         8.364657506346703,
         8.276619091629982,
         8.844059392809868,
         8.610559865832329,
         8.204807668924332,
         9.172455102205276,
         8.774303391575813,
         8.70334529876709,
         8.60120441019535,
         8.257910251617432,
         8.927597284317017,
         8.774647578597069,
         8.266438066959381,
         8.551664337515831,
         8.521894454956055,
         8.318467050790787,
         8.184606432914734
        ],
        [
         2.7954747274832914,
         2.733776065083642,
         2.879366184566478,
         2.7088383902171205,
         2.89847464758775,
         2.8467723778865803,
         2.7887481180859957,
         2.8440500945296656,
         2.778419724586097,
         2.8123241141636823,
         2.877671148453115,
         2.7796112825647787,
         2.818545909212654,
         2.8647621130600838,
         2.9468940222072555,
         2.867488588585665,
         2.857437207697566,
         2.782631219713949,
         2.8948337326418234,
         2.845517026183296,
         2.806077372716803,
         2.723343157499923,
         2.87822332335547,
         2.852646282244832,
         2.832424024485092,
         2.884512837315073,
         2.87678423053595,
         2.7772972079777243,
         2.8550129351909237,
         2.820102790073081,
         2.897365530054046,
         2.8142559759524026,
         2.870379139829119,
         2.931703137914535,
         2.8266897689583903,
         2.6753847696434647,
         2.8505541381158825,
         2.730556411898817,
         2.864660546852842,
         2.814092764303687,
         2.8303022605877692,
         2.9008028144096394,
         2.712245350781274,
         2.8749855050285054,
         2.8640708467445557,
         2.856363624468022,
         2.7336554340733734,
         2.744267944718141,
         2.728766755300135,
         2.7839251360316895,
         2.7217686213937884,
         2.844416369550792,
         2.7671346992892127,
         2.764186815447109,
         2.888997585130734,
         2.8438649368975244,
         2.8149947194312586,
         2.7164078733897905,
         2.832658569330481,
         2.852865510319524,
         2.8747432123159418,
         2.780393651458706,
         2.854553434993018,
         2.981932940051795,
         2.850690452706536,
         2.8473182213262325,
         2.7813189237329583,
         2.903486734671977,
         2.876292030854483,
         2.85362964664888,
         2.7791048240766667,
         2.7971809109820738,
         2.8864035816312503,
         2.7004948152199937,
         2.801791591515171,
         2.7794347039820377,
         2.812661433975684,
         2.8224055374400474,
         2.8821206222105618,
         2.830884118956634,
         2.8301114186485785,
         2.7778178707114782,
         2.80172118472627,
         2.8443627571579375,
         2.7169160753042867,
         2.9643398028094183,
         2.8598086921502324,
         2.8140859782185426,
         2.9251073005838357,
         2.8380519810850773,
         2.8457777906054433,
         2.8964910956078844,
         2.7620979787638955,
         2.879646414621824,
         2.8598953196475234,
         2.784985277503711,
         2.889102176341566,
         2.85874501313923,
         2.869547332199007,
         2.6896083152073795
        ]
       ],
       "encoder": "json",
       "name": "ABC_GAN_1 Metrics",
       "version": 1
      }
     },
     "metadata": {
      "scrapbook": {
       "data": true,
       "display": false,
       "name": "ABC_GAN_1 Metrics"
      }
     },
     "output_type": "display_data"
    },
    {
     "name": "stdout",
     "output_type": "stream",
     "text": [
      "MSE\n",
      "0.399747680577808\n"
     ]
    }
   ],
   "source": [
    "ABC_GAN1_metrics=ABC_train_test2.test_generator(gen,test_data,prior_model,variance,bias,\"1\",device)\n",
    "sb.glue(\"ABC_GAN_1 Metrics\",ABC_GAN1_metrics)\n",
    "\n",
    "print(\"MSE\")\n",
    "print(mean(ABC_GAN1_metrics[0]))"
   ]
  },
  {
   "cell_type": "code",
   "execution_count": 14,
   "id": "eb22ce5c",
   "metadata": {
    "execution": {
     "iopub.execute_input": "2022-06-22T16:32:31.081824Z",
     "iopub.status.busy": "2022-06-22T16:32:31.046886Z",
     "iopub.status.idle": "2022-06-22T16:32:32.091249Z",
     "shell.execute_reply": "2022-06-22T16:32:32.091856Z"
    },
    "papermill": {
     "duration": 1.182256,
     "end_time": "2022-06-22T16:32:32.092091",
     "exception": false,
     "start_time": "2022-06-22T16:32:30.909835",
     "status": "completed"
    },
    "tags": []
   },
   "outputs": [
    {
     "data": {
      "image/png": "[encoded data removed]",
      "text/plain": [
       "<Figure size 432x288 with 1 Axes>"
      ]
     },
     "metadata": {
      "needs_background": "light"
     },
     "output_type": "display_data"
    },
    {
     "data": {
      "image/png": "[encoded data removed]",
      "text/plain": [
       "<Figure size 432x288 with 1 Axes>"
      ]
     },
     "metadata": {
      "needs_background": "light"
     },
     "output_type": "display_data"
    },
    {
     "data": {
      "image/png": "[encoded data removed]",
      "text/plain": [
       "<Figure size 432x288 with 1 Axes>"
      ]
     },
     "metadata": {
      "needs_background": "light"
     },
     "output_type": "display_data"
    },
    {
     "data": {
      "image/png": "[encoded data removed]",
      "text/plain": [
       "<Figure size 432x288 with 1 Axes>"
      ]
     },
     "metadata": {
      "needs_background": "light"
     },
     "output_type": "display_data"
    }
   ],
   "source": [
    "sanityChecks.discProbVsError(train_data,disc,device)\n",
    "sanityChecks.discProbVsError(test_data,disc,device)"
   ]
  },
  {
   "cell_type": "markdown",
   "id": "130f3a4d",
   "metadata": {
    "id": "130f3a4d",
    "papermill": {
     "duration": 0.076235,
     "end_time": "2022-06-22T16:32:32.234025",
     "exception": false,
     "start_time": "2022-06-22T16:32:32.157790",
     "status": "completed"
    },
    "tags": []
   },
   "source": [
    "# ABC - GAN Model with skip connection"
   ]
  },
  {
   "cell_type": "code",
   "execution_count": 15,
   "id": "4e43dad1",
   "metadata": {
    "execution": {
     "iopub.execute_input": "2022-06-22T16:32:32.391208Z",
     "iopub.status.busy": "2022-06-22T16:32:32.389878Z",
     "iopub.status.idle": "2022-06-22T16:32:32.393563Z",
     "shell.execute_reply": "2022-06-22T16:32:32.394109Z"
    },
    "id": "4e43dad1",
    "papermill": {
     "duration": 0.102191,
     "end_time": "2022-06-22T16:32:32.394355",
     "exception": false,
     "start_time": "2022-06-22T16:32:32.292164",
     "status": "completed"
    },
    "tags": []
   },
   "outputs": [],
   "source": [
    "#Generator\n",
    "gen3 = network.GeneratorWithSkipConnection(n_features+1).to(device)\n",
    "constraints=network.weightConstraint()\n",
    "#Discriminator \n",
    "disc3 = network.Discriminator(n_features+1).to(device)\n",
    "\n",
    "criterion = torch.nn.BCELoss()\n",
    "gen_opt = torch.optim.Adam(gen3.parameters(), lr=0.001, betas=(0.5, 0.999))\n",
    "disc_opt = torch.optim.Adam(disc3.parameters(), lr=0.001, betas=(0.5, 0.999))\n"
   ]
  },
  {
   "cell_type": "code",
   "execution_count": 16,
   "id": "26acbc37",
   "metadata": {
    "execution": {
     "iopub.execute_input": "2022-06-22T16:32:32.505127Z",
     "iopub.status.busy": "2022-06-22T16:32:32.503840Z",
     "iopub.status.idle": "2022-06-22T16:34:23.901776Z",
     "shell.execute_reply": "2022-06-22T16:34:23.902394Z"
    },
    "id": "26acbc37",
    "papermill": {
     "duration": 111.46104,
     "end_time": "2022-06-22T16:34:23.902627",
     "exception": false,
     "start_time": "2022-06-22T16:32:32.441587",
     "status": "completed"
    },
    "tags": []
   },
   "outputs": [
    {
     "data": {
      "image/png": "[encoded data removed]",
      "text/plain": [
       "<Figure size 432x288 with 1 Axes>"
      ]
     },
     "metadata": {
      "needs_background": "light"
     },
     "output_type": "display_data"
    },
    {
     "data": {
      "image/png": "[encoded data removed]",
      "text/plain": [
       "<Figure size 432x288 with 1 Axes>"
      ]
     },
     "metadata": {
      "needs_background": "light"
     },
     "output_type": "display_data"
    }
   ],
   "source": [
    "ABC_train_test2.training_GAN_skip_connection(disc3,gen3,disc_opt,gen_opt,train_data,batch_size,n_epochs,criterion,prior_model,variance,bias,device)"
   ]
  },
  {
   "cell_type": "code",
   "execution_count": 17,
   "id": "c5e0717b",
   "metadata": {
    "execution": {
     "iopub.execute_input": "2022-06-22T16:34:24.074603Z",
     "iopub.status.busy": "2022-06-22T16:34:24.073775Z",
     "iopub.status.idle": "2022-06-22T16:34:25.781112Z",
     "shell.execute_reply": "2022-06-22T16:34:25.782073Z"
    },
    "id": "c5e0717b",
    "papermill": {
     "duration": 1.810444,
     "end_time": "2022-06-22T16:34:25.782795",
     "exception": false,
     "start_time": "2022-06-22T16:34:23.972351",
     "status": "completed"
    },
    "tags": []
   },
   "outputs": [
    {
     "data": {
      "application/scrapbook.scrap.json+json": {
       "data": 160.3713377456223,
       "encoder": "json",
       "name": "ABC-GAN Model 3 MSE",
       "version": 1
      }
     },
     "metadata": {
      "scrapbook": {
       "data": true,
       "display": false,
       "name": "ABC-GAN Model 3 MSE"
      }
     },
     "output_type": "display_data"
    },
    {
     "data": {
      "application/scrapbook.scrap.json+json": {
       "data": 12.221539201200008,
       "encoder": "json",
       "name": "ABC-GAN Model 3 MAE",
       "version": 1
      }
     },
     "metadata": {
      "scrapbook": {
       "data": true,
       "display": false,
       "name": "ABC-GAN Model 3 MAE"
      }
     },
     "output_type": "display_data"
    },
    {
     "data": {
      "application/scrapbook.scrap.json+json": {
       "data": 244.43078402400016,
       "encoder": "json",
       "name": "ABC-GAN Model 3 Manhattan Distance",
       "version": 1
      }
     },
     "metadata": {
      "scrapbook": {
       "data": true,
       "display": false,
       "name": "ABC-GAN Model 3 Manhattan Distance"
      }
     },
     "output_type": "display_data"
    },
    {
     "data": {
      "application/scrapbook.scrap.json+json": {
       "data": 56.63364823932098,
       "encoder": "json",
       "name": "ABC-GAN Model 3 Euclidean distance",
       "version": 1
      }
     },
     "metadata": {
      "scrapbook": {
       "data": true,
       "display": false,
       "name": "ABC-GAN Model 3 Euclidean distance"
      }
     },
     "output_type": "display_data"
    },
    {
     "data": {
      "application/scrapbook.scrap.json+json": {
       "data": [
        [
         160.24565203439957,
         162.20755266054735,
         160.0071097184379,
         159.67880142540125,
         162.261889387156,
         159.5026857368554,
         160.2772760454876,
         161.67854705500605,
         159.006702415884,
         161.55073402316185,
         159.87737450532427,
         160.1238429028359,
         160.38638965549336,
         159.86521192107466,
         161.35061295894513,
         163.45190794770068,
         161.99071929412426,
         159.68099788774356,
         160.60449468612055,
         160.92710014411776,
         156.69968359395983,
         160.67192260990421,
         159.74257323839745,
         161.13841038352857,
         160.32006440050642,
         162.44403620999205,
         161.62955012486034,
         159.99919369775097,
         161.7906592799556,
         160.7801835429293,
         161.24278217623552,
         159.18656510575127,
         159.23078854457918,
         159.90486145364906,
         162.3939744911132,
         159.8556962430285,
         161.80210249823773,
         160.78058281959548,
         161.63060899067082,
         160.73012096944146,
         159.99710187824326,
         162.01888522127928,
         158.78009498805568,
         161.57716926528963,
         158.087956509881,
         160.49231598186657,
         158.2517044360588,
         159.109069710585,
         161.73296411463872,
         161.8940489392359,
         161.29336810893173,
         160.16082142699676,
         160.91621812735352,
         158.47682342455602,
         158.25043452442594,
         159.4451783600038,
         159.85605052602608,
         157.05580322856278,
         161.51713675011766,
         159.51283441819612,
         160.82768009956982,
         159.19148420437398,
         159.3938817015348,
         160.61690370224488,
         160.91044116206754,
         163.45320379574622,
         159.49720381611115,
         160.25765791875526,
         161.79891536426214,
         159.24910040276524,
         161.94582689969494,
         159.06770567051174,
         164.0595959774015,
         160.13066560003165,
         160.2329567296395,
         160.4845618806367,
         159.87885334221704,
         159.52276014316004,
         159.29080545100717,
         161.2645917096569,
         159.64258628383104,
         158.6308189398173,
         158.6587950227226,
         161.7940328059282,
         161.0038380688889,
         162.94334034134008,
         160.9796784436232,
         159.48456565748953,
         158.78723738646954,
         158.29993546323104,
         157.46853115492556,
         159.61684475632552,
         160.04254130390456,
         161.139410055906,
         159.89963382741115,
         159.48739062784313,
         161.6506614375424,
         160.9002162443426,
         160.19031170988637,
         160.36266673920358
        ],
        [
         12.21757166236639,
         12.279446862637997,
         12.21290743201971,
         12.195438788831234,
         12.28086478561163,
         12.18817279189825,
         12.2040279135108,
         12.247651027143002,
         12.184104035794736,
         12.259525893628597,
         12.21827361434698,
         12.224014972150325,
         12.227950404584409,
         12.201430104672909,
         12.240859387814998,
         12.325631450116635,
         12.272238276898861,
         12.209665702283383,
         12.244376347959042,
         12.247314666211604,
         12.100255797803403,
         12.236139176785946,
         12.17415306419134,
         12.234248088300228,
         12.230911467969417,
         12.281485675275325,
         12.268019269406796,
         12.19907243102789,
         12.267140935361386,
         12.254569981992244,
         12.24686100333929,
         12.176744817197322,
         12.194183085858821,
         12.218843863904477,
         12.28927085250616,
         12.215481446683407,
         12.251706956326961,
         12.239289067685604,
         12.253218148648738,
         12.239251445233823,
         12.235239098966122,
         12.281558726727962,
         12.16658632606268,
         12.263849280774593,
         12.156713984906673,
         12.229287599027156,
         12.163544534146785,
         12.18747312873602,
         12.258740352094174,
         12.268925260007382,
         12.258434604108334,
         12.216777442395687,
         12.245535777509213,
         12.1709158167243,
         12.149986861646175,
         12.211607144773007,
         12.21936371177435,
         12.123304437100888,
         12.258932565152644,
         12.195404122769833,
         12.235501025617122,
         12.178367398679256,
         12.191776297986507,
         12.222202037274837,
         12.234999440610409,
         12.318367360532283,
         12.192677329480649,
         12.229627250134945,
         12.284617398679256,
         12.196393750607967,
         12.265109704434872,
         12.181276677548885,
         12.329569505155087,
         12.204720805585385,
         12.227983878552914,
         12.208684132993222,
         12.185678933560848,
         12.185764621198178,
         12.190645097196102,
         12.229261611402034,
         12.192328809201717,
         12.15804002135992,
         12.16860105842352,
         12.239184449613095,
         12.255759833753109,
         12.290831540524959,
         12.250621055066585,
         12.2064204916358,
         12.17155082076788,
         12.152634213864804,
         12.130798695981502,
         12.216157315671444,
         12.197353576123714,
         12.23915417045355,
         12.175838826596737,
         12.1991713270545,
         12.249041579663754,
         12.237452481687068,
         12.205137656629086,
         12.210124467313289
        ],
        [
         244.3514332473278,
         245.58893725275993,
         244.2581486403942,
         243.90877577662468,
         245.6172957122326,
         243.763455837965,
         244.080558270216,
         244.95302054286003,
         243.6820807158947,
         245.19051787257195,
         244.36547228693962,
         244.48029944300652,
         244.55900809168816,
         244.02860209345818,
         244.81718775629997,
         246.5126290023327,
         245.44476553797722,
         244.19331404566765,
         244.88752695918083,
         244.9462933242321,
         242.00511595606804,
         244.72278353571892,
         243.48306128382683,
         244.68496176600456,
         244.61822935938835,
         245.62971350550652,
         245.3603853881359,
         243.98144862055779,
         245.3428187072277,
         245.0913996398449,
         244.9372200667858,
         243.53489634394646,
         243.88366171717644,
         244.37687727808952,
         245.78541705012321,
         244.30962893366814,
         245.03413912653923,
         244.78578135371208,
         245.06436297297478,
         244.78502890467644,
         244.70478197932243,
         245.63117453455925,
         243.3317265212536,
         245.27698561549187,
         243.13427969813347,
         244.58575198054314,
         243.27089068293571,
         243.74946257472038,
         245.17480704188347,
         245.37850520014763,
         245.16869208216667,
         244.33554884791374,
         244.91071555018425,
         243.418316334486,
         242.9997372329235,
         244.23214289546013,
         244.38727423548698,
         242.46608874201775,
         245.1786513030529,
         243.90808245539665,
         244.71002051234245,
         243.56734797358513,
         243.83552595973015,
         244.44404074549675,
         244.69998881220818,
         246.36734721064568,
         243.85354658961296,
         244.5925450026989,
         245.69234797358513,
         243.92787501215935,
         245.30219408869743,
         243.6255335509777,
         246.59139010310173,
         244.0944161117077,
         244.55967757105827,
         244.17368265986443,
         243.71357867121696,
         243.71529242396355,
         243.81290194392204,
         244.5852322280407,
         243.84657618403435,
         243.1608004271984,
         243.37202116847038,
         244.7836889922619,
         245.11519667506218,
         245.8166308104992,
         245.0124211013317,
         244.128409832716,
         243.4310164153576,
         243.05268427729607,
         242.61597391963005,
         244.32314631342888,
         243.9470715224743,
         244.78308340907097,
         243.51677653193474,
         243.98342654109,
         244.98083159327507,
         244.74904963374138,
         244.1027531325817,
         244.2024893462658
        ],
        [
         56.61195139445372,
         56.95744949706708,
         56.569799313491984,
         56.51173354718492,
         56.96698857885257,
         56.48056050303598,
         56.61753722045628,
         56.864496314485365,
         56.39267725793554,
         56.84201509854517,
         56.54686101019654,
         56.590430799356156,
         56.636805993186684,
         56.544710083450724,
         56.80679764939142,
         57.175503136868095,
         56.91936740585304,
         56.512122219528,
         56.67530232581394,
         56.732195470317876,
         55.98208348998094,
         56.6871983096544,
         56.5230171237165,
         56.769430221471936,
         56.62509415453655,
         56.998953711448436,
         56.855879225434606,
         56.56839995929723,
         56.88420857847204,
         56.706293044587085,
         56.78781245588449,
         56.42456293242355,
         56.432400010026015,
         56.55172171625706,
         56.99017011575122,
         56.543027199298145,
         56.8862202116185,
         56.70636345589364,
         56.85606546194889,
         56.697463959059306,
         56.56803017221711,
         56.9243155815297,
         56.35247909152812,
         56.8466655601346,
         56.22952187416874,
         56.6555056427646,
         56.25863568129942,
         56.410826923665105,
         56.87406511137368,
         56.90238113457747,
         56.79671964276313,
         56.596964835050436,
         56.7302773001073,
         56.29863647097611,
         56.2584099534329,
         56.47037778517226,
         56.543089856502554,
         56.04566053291955,
         56.836104150463676,
         56.482357319466786,
         56.71466831421476,
         56.42543472661491,
         56.46129323732052,
         56.677491776232465,
         56.72925896961242,
         57.17572978034408,
         56.47958990929576,
         56.6140720879103,
         56.885659944183146,
         56.43564483600152,
         56.911479843647534,
         56.40349380499611,
         57.28168921695684,
         56.591636413878625,
         56.60970883684874,
         56.65413698586128,
         56.54712253372704,
         56.48411460634929,
         56.4430341939565,
         56.7916528566755,
         56.505324755076145,
         56.325983158719445,
         56.33094975636795,
         56.88480162678397,
         56.745720203181655,
         57.08648532557247,
         56.74146251968188,
         56.477352214403524,
         56.35374652788749,
         56.26720811684742,
         56.11925358643423,
         56.50076897818746,
         56.5760623062271,
         56.76960631463037,
         56.55079731133968,
         56.47785240744253,
         56.85959223166174,
         56.72745653461692,
         56.60217517196426,
         56.63261723409992
        ]
       ],
       "encoder": "json",
       "name": "ABC_GAN_3 Metrics",
       "version": 1
      }
     },
     "metadata": {
      "scrapbook": {
       "data": true,
       "display": false,
       "name": "ABC_GAN_3 Metrics"
      }
     },
     "output_type": "display_data"
    },
    {
     "name": "stdout",
     "output_type": "stream",
     "text": [
      "MSE\n",
      "160.3713377456223\n"
     ]
    }
   ],
   "source": [
    "ABC_GAN3_metrics=ABC_train_test2.test_generator(gen3,test_data,prior_model,variance,bias,\"3\",device)\n",
    "sb.glue(\"ABC_GAN_3 Metrics\",ABC_GAN3_metrics)\n",
    "\n",
    "print(\"MSE\")\n",
    "print(mean(ABC_GAN3_metrics[0]))"
   ]
  },
  {
   "cell_type": "code",
   "execution_count": 18,
   "id": "c8e46b48",
   "metadata": {
    "execution": {
     "iopub.execute_input": "2022-06-22T16:34:26.052144Z",
     "iopub.status.busy": "2022-06-22T16:34:26.031908Z",
     "iopub.status.idle": "2022-06-22T16:34:27.212775Z",
     "shell.execute_reply": "2022-06-22T16:34:27.213578Z"
    },
    "id": "c8e46b48",
    "papermill": {
     "duration": 1.35287,
     "end_time": "2022-06-22T16:34:27.213881",
     "exception": false,
     "start_time": "2022-06-22T16:34:25.861011",
     "status": "completed"
    },
    "tags": []
   },
   "outputs": [
    {
     "data": {
      "image/png": "[encoded data removed]",
      "text/plain": [
       "<Figure size 432x288 with 1 Axes>"
      ]
     },
     "metadata": {
      "needs_background": "light"
     },
     "output_type": "display_data"
    },
    {
     "data": {
      "image/png": "[encoded data removed]",
      "text/plain": [
       "<Figure size 432x288 with 1 Axes>"
      ]
     },
     "metadata": {
      "needs_background": "light"
     },
     "output_type": "display_data"
    },
    {
     "data": {
      "image/png": "[encoded data removed]",
      "text/plain": [
       "<Figure size 432x288 with 1 Axes>"
      ]
     },
     "metadata": {
      "needs_background": "light"
     },
     "output_type": "display_data"
    },
    {
     "data": {
      "image/png": "[encoded data removed]",
      "text/plain": [
       "<Figure size 432x288 with 1 Axes>"
      ]
     },
     "metadata": {
      "needs_background": "light"
     },
     "output_type": "display_data"
    }
   ],
   "source": [
    "sanityChecks.discProbVsError(train_data,disc3,device)\n",
    "sanityChecks.discProbVsError(test_data,disc3,device)"
   ]
  },
  {
   "cell_type": "markdown",
   "id": "a5bd74c3",
   "metadata": {
    "id": "a5bd74c3",
    "papermill": {
     "duration": 0.081521,
     "end_time": "2022-06-22T16:34:27.385197",
     "exception": false,
     "start_time": "2022-06-22T16:34:27.303676",
     "status": "completed"
    },
    "tags": []
   },
   "source": [
    "## Skip Connection Model Analysis - ABC-GAN "
   ]
  },
  {
   "cell_type": "markdown",
   "id": "5744a8bf",
   "metadata": {
    "id": "5744a8bf",
    "papermill": {
     "duration": 0.092818,
     "end_time": "2022-06-22T16:34:27.547334",
     "exception": false,
     "start_time": "2022-06-22T16:34:27.454516",
     "status": "completed"
    },
    "tags": []
   },
   "source": [
    "### Weight Analysis \n",
    "\n",
    "Study the weights of the skip connection layer\n",
    "\n",
    "Equation of the skip connection is \n",
    "\n",
    "$output = y_{gan} * w + y_{abc} * (1-w)$"
   ]
  },
  {
   "cell_type": "code",
   "execution_count": 19,
   "id": "52c31dea",
   "metadata": {
    "execution": {
     "iopub.execute_input": "2022-06-22T16:34:27.747773Z",
     "iopub.status.busy": "2022-06-22T16:34:27.742994Z",
     "iopub.status.idle": "2022-06-22T16:34:27.766216Z",
     "shell.execute_reply": "2022-06-22T16:34:27.763227Z"
    },
    "id": "52c31dea",
    "papermill": {
     "duration": 0.133938,
     "end_time": "2022-06-22T16:34:27.766755",
     "exception": false,
     "start_time": "2022-06-22T16:34:27.632817",
     "status": "completed"
    },
    "tags": []
   },
   "outputs": [
    {
     "name": "stdout",
     "output_type": "stream",
     "text": [
      "Weight of the node at skip connection\n",
      "Parameter containing:\n",
      "tensor([[0.0452]], requires_grad=True)\n"
     ]
    },
    {
     "data": {
      "application/scrapbook.scrap.json+json": {
       "data": 0.04521501809358597,
       "encoder": "json",
       "name": "Skip Connection Weight",
       "version": 1
      }
     },
     "metadata": {
      "scrapbook": {
       "data": true,
       "display": false,
       "name": "Skip Connection Weight"
      }
     },
     "output_type": "display_data"
    }
   ],
   "source": [
    "print(\"Weight of the node at skip connection\")\n",
    "for name,param in gen3.named_parameters():\n",
    "    if(name == \"skipNode.weight\"):\n",
    "        print(param)\n",
    "        sb.glue(\"Skip Connection Weight\",param.item())"
   ]
  }
 ],
 "metadata": {
  "colab": {
   "collapsed_sections": [],
   "name": "ABC_GAN_Model-Catboost_Pre-gen.ipynb",
   "provenance": []
  },
  "interpreter": {
   "hash": "31f2aee4e71d21fbe5cf8b01ff0e069b9275f58929596ceb00d14d90e3e16cd6"
  },
  "kernelspec": {
   "display_name": "Python 3 (ipykernel)",
   "language": "python",
   "name": "python3"
  },
  "language_info": {
   "codemirror_mode": {
    "name": "ipython",
    "version": 3
   },
   "file_extension": ".py",
   "mimetype": "text/x-python",
   "name": "python",
   "nbconvert_exporter": "python",
   "pygments_lexer": "ipython3",
   "version": "3.8.3"
  },
  "papermill": {
   "default_parameters": {},
   "duration": 218.89918,
   "end_time": "2022-06-22T16:34:29.301769",
   "environment_variables": {},
   "exception": null,
   "input_path": "ABC_GAN-TabNet.ipynb",
   "output_path": "./ABC_GAN_TabNet/ABC-GAN_output_9_10.ipynb",
   "parameters": {
    "bias": 0,
    "variance": 0.1
   },
   "start_time": "2022-06-22T16:30:50.402589",
   "version": "2.3.3"
  }
 },
 "nbformat": 4,
 "nbformat_minor": 5
}