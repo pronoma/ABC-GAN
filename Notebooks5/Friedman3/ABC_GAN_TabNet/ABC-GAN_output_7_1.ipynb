{
 "cells": [
  {
   "cell_type": "markdown",
   "id": "622780e6",
   "metadata": {
    "id": "622780e6",
    "papermill": {
     "duration": 0.036385,
     "end_time": "2022-06-22T14:47:44.959097",
     "exception": false,
     "start_time": "2022-06-22T14:47:44.922712",
     "status": "completed"
    },
    "tags": []
   },
   "source": [
    "## Import Libraries "
   ]
  },
  {
   "cell_type": "code",
   "execution_count": 1,
   "id": "a62397e3",
   "metadata": {
    "execution": {
     "iopub.execute_input": "2022-06-22T14:47:45.052015Z",
     "iopub.status.busy": "2022-06-22T14:47:45.046921Z",
     "iopub.status.idle": "2022-06-22T14:47:45.057653Z",
     "shell.execute_reply": "2022-06-22T14:47:45.058545Z"
    },
    "id": "a62397e3",
    "papermill": {
     "duration": 0.07524,
     "end_time": "2022-06-22T14:47:45.059250",
     "exception": false,
     "start_time": "2022-06-22T14:47:44.984010",
     "status": "completed"
    },
    "tags": []
   },
   "outputs": [],
   "source": [
    "import warnings\n",
    "import sys\n",
    "sys.path.insert(0, '../../src')\n",
    "warnings.filterwarnings('ignore')"
   ]
  },
  {
   "cell_type": "code",
   "execution_count": 2,
   "id": "d6a4e155",
   "metadata": {
    "execution": {
     "iopub.execute_input": "2022-06-22T14:47:45.123202Z",
     "iopub.status.busy": "2022-06-22T14:47:45.117758Z",
     "iopub.status.idle": "2022-06-22T14:47:52.359898Z",
     "shell.execute_reply": "2022-06-22T14:47:52.360497Z"
    },
    "id": "d6a4e155",
    "papermill": {
     "duration": 7.276187,
     "end_time": "2022-06-22T14:47:52.360744",
     "exception": false,
     "start_time": "2022-06-22T14:47:45.084557",
     "status": "completed"
    },
    "tags": []
   },
   "outputs": [],
   "source": [
    "import ABC_train_test2\n",
    "import friedman3Dataset\n",
    "import network\n",
    "import dataset\n",
    "import sanityChecks\n",
    "import torch \n",
    "import scrapbook as sb\n",
    "from statistics import mean \n",
    "import catboost as ctb \n",
    "from sklearn.model_selection import train_test_split\n",
    "from sklearn.metrics import mean_squared_error,mean_absolute_error\n",
    "import numpy as np\n",
    "from pytorch_tabnet.tab_model import TabNetRegressor"
   ]
  },
  {
   "cell_type": "markdown",
   "id": "2fa5b0f7",
   "metadata": {
    "id": "2fa5b0f7",
    "papermill": {
     "duration": 0.018945,
     "end_time": "2022-06-22T14:47:52.395996",
     "exception": false,
     "start_time": "2022-06-22T14:47:52.377051",
     "status": "completed"
    },
    "tags": []
   },
   "source": [
    "## Parameters "
   ]
  },
  {
   "cell_type": "code",
   "execution_count": 3,
   "id": "783186fb",
   "metadata": {
    "execution": {
     "iopub.execute_input": "2022-06-22T14:47:52.434971Z",
     "iopub.status.busy": "2022-06-22T14:47:52.433639Z",
     "iopub.status.idle": "2022-06-22T14:47:52.436186Z",
     "shell.execute_reply": "2022-06-22T14:47:52.436716Z"
    },
    "id": "783186fb",
    "papermill": {
     "duration": 0.023218,
     "end_time": "2022-06-22T14:47:52.436959",
     "exception": false,
     "start_time": "2022-06-22T14:47:52.413741",
     "status": "completed"
    },
    "tags": [
     "parameters"
    ]
   },
   "outputs": [],
   "source": [
    "variance = 1\n",
    "bias = 1 "
   ]
  },
  {
   "cell_type": "code",
   "execution_count": 4,
   "id": "2f2759f3",
   "metadata": {
    "execution": {
     "iopub.execute_input": "2022-06-22T14:47:52.470720Z",
     "iopub.status.busy": "2022-06-22T14:47:52.469945Z",
     "iopub.status.idle": "2022-06-22T14:47:52.471896Z",
     "shell.execute_reply": "2022-06-22T14:47:52.472441Z"
    },
    "papermill": {
     "duration": 0.020624,
     "end_time": "2022-06-22T14:47:52.472663",
     "exception": false,
     "start_time": "2022-06-22T14:47:52.452039",
     "status": "completed"
    },
    "tags": [
     "injected-parameters"
    ]
   },
   "outputs": [],
   "source": [
    "# Parameters\n",
    "variance = 0.1\n",
    "bias = 1\n"
   ]
  },
  {
   "cell_type": "markdown",
   "id": "391cdbfd",
   "metadata": {
    "id": "391cdbfd",
    "papermill": {
     "duration": 0.016497,
     "end_time": "2022-06-22T14:47:52.503369",
     "exception": false,
     "start_time": "2022-06-22T14:47:52.486872",
     "status": "completed"
    },
    "tags": []
   },
   "source": [
    "## Dataset \n"
   ]
  },
  {
   "cell_type": "code",
   "execution_count": 5,
   "id": "5b51f161",
   "metadata": {
    "execution": {
     "iopub.execute_input": "2022-06-22T14:47:52.538735Z",
     "iopub.status.busy": "2022-06-22T14:47:52.537896Z",
     "iopub.status.idle": "2022-06-22T14:47:52.539808Z",
     "shell.execute_reply": "2022-06-22T14:47:52.540291Z"
    },
    "id": "5b51f161",
    "papermill": {
     "duration": 0.020397,
     "end_time": "2022-06-22T14:47:52.540507",
     "exception": false,
     "start_time": "2022-06-22T14:47:52.520110",
     "status": "completed"
    },
    "tags": []
   },
   "outputs": [],
   "source": [
    "#Parameters \n",
    "n_features = 4\n",
    "n_samples= 100\n",
    "n_target = 1"
   ]
  },
  {
   "cell_type": "code",
   "execution_count": 6,
   "id": "5d6eced4",
   "metadata": {
    "execution": {
     "iopub.execute_input": "2022-06-22T14:47:52.572819Z",
     "iopub.status.busy": "2022-06-22T14:47:52.572019Z",
     "iopub.status.idle": "2022-06-22T14:47:52.584563Z",
     "shell.execute_reply": "2022-06-22T14:47:52.585052Z"
    },
    "id": "5d6eced4",
    "papermill": {
     "duration": 0.030501,
     "end_time": "2022-06-22T14:47:52.585269",
     "exception": false,
     "start_time": "2022-06-22T14:47:52.554768",
     "status": "completed"
    },
    "tags": []
   },
   "outputs": [
    {
     "name": "stdout",
     "output_type": "stream",
     "text": [
      "          X1           X2        X3        X4         Y\n",
      "0  12.147659  1753.675985  0.231211  9.534562  1.442404\n",
      "1  11.310318   421.390419  0.612984  1.875396  1.619271\n",
      "2  87.820961  1353.524377  0.248739  3.667866  1.238270\n",
      "3  59.058060   724.700889  0.071695  1.490503  0.816558\n",
      "4  75.535013  1125.925570  0.077163  2.416273  0.858300\n"
     ]
    }
   ],
   "source": [
    "X,Y = friedman3Dataset.friedman3_data(n_samples)"
   ]
  },
  {
   "cell_type": "code",
   "execution_count": 7,
   "id": "fe007438",
   "metadata": {
    "execution": {
     "iopub.execute_input": "2022-06-22T14:47:52.624163Z",
     "iopub.status.busy": "2022-06-22T14:47:52.623289Z",
     "iopub.status.idle": "2022-06-22T14:47:52.625636Z",
     "shell.execute_reply": "2022-06-22T14:47:52.626222Z"
    },
    "id": "fe007438",
    "papermill": {
     "duration": 0.026807,
     "end_time": "2022-06-22T14:47:52.626504",
     "exception": false,
     "start_time": "2022-06-22T14:47:52.599697",
     "status": "completed"
    },
    "tags": []
   },
   "outputs": [],
   "source": [
    "#Train test split for dataset \n",
    "X_train,X_test,Y_train,Y_test = train_test_split(X,Y,test_size = 0.2)\n",
    "train_data = dataset.CustomDataset(X_train,Y_train)\n",
    "test_data = dataset.CustomDataset(X_test,Y_test)\n"
   ]
  },
  {
   "cell_type": "markdown",
   "id": "a9a1af34",
   "metadata": {
    "id": "a9a1af34",
    "papermill": {
     "duration": 0.016569,
     "end_time": "2022-06-22T14:47:52.659501",
     "exception": false,
     "start_time": "2022-06-22T14:47:52.642932",
     "status": "completed"
    },
    "tags": []
   },
   "source": [
    "## Training Parameters "
   ]
  },
  {
   "cell_type": "code",
   "execution_count": 8,
   "id": "952b7fc8",
   "metadata": {
    "execution": {
     "iopub.execute_input": "2022-06-22T14:47:52.694792Z",
     "iopub.status.busy": "2022-06-22T14:47:52.694017Z",
     "iopub.status.idle": "2022-06-22T14:47:52.696398Z",
     "shell.execute_reply": "2022-06-22T14:47:52.696935Z"
    },
    "id": "952b7fc8",
    "papermill": {
     "duration": 0.023682,
     "end_time": "2022-06-22T14:47:52.697332",
     "exception": false,
     "start_time": "2022-06-22T14:47:52.673650",
     "status": "completed"
    },
    "tags": []
   },
   "outputs": [],
   "source": [
    "batch_size = 32\n",
    "n_epochs = 1000\n",
    "#Select the device \n",
    "device = torch.device('cuda' if torch.cuda.is_available() else 'cpu')"
   ]
  },
  {
   "cell_type": "markdown",
   "id": "a95e1600",
   "metadata": {
    "id": "a95e1600",
    "papermill": {
     "duration": 0.017229,
     "end_time": "2022-06-22T14:47:52.729502",
     "exception": false,
     "start_time": "2022-06-22T14:47:52.712273",
     "status": "completed"
    },
    "tags": []
   },
   "source": [
    "# ABC Pre-generator Model \n",
    "\n",
    "1. The catboost model is used as a pre-generator model for the ABC-GAN. \n",
    "2. The model is first trained on the entire dataset \n",
    "3. It generats X,Y pairs and we add some Gaussian noise with mean 0 and variance 1 to it which is then feed as input to the generator.\n"
   ]
  },
  {
   "cell_type": "code",
   "execution_count": 9,
   "id": "ff8ce7bd",
   "metadata": {
    "execution": {
     "iopub.execute_input": "2022-06-22T14:47:52.766613Z",
     "iopub.status.busy": "2022-06-22T14:47:52.765553Z",
     "iopub.status.idle": "2022-06-22T14:48:10.197745Z",
     "shell.execute_reply": "2022-06-22T14:48:10.200609Z"
    },
    "id": "ff8ce7bd",
    "papermill": {
     "duration": 17.458169,
     "end_time": "2022-06-22T14:48:10.203823",
     "exception": false,
     "start_time": "2022-06-22T14:47:52.745654",
     "status": "completed"
    },
    "tags": []
   },
   "outputs": [
    {
     "name": "stdout",
     "output_type": "stream",
     "text": [
      "Device used : cpu\n"
     ]
    },
    {
     "name": "stdout",
     "output_type": "stream",
     "text": [
      "epoch 0  | loss: 0.85627 | train_mse: 3.87026 | train_mae: 1.4505  |  0:00:00s\n",
      "epoch 1  | loss: 0.78707 | train_mse: 3.48274 | train_mae: 1.3453  |  0:00:00s\n",
      "epoch 2  | loss: 0.78992 | train_mse: 3.20151 | train_mae: 1.20638 |  0:00:00s\n"
     ]
    },
    {
     "name": "stdout",
     "output_type": "stream",
     "text": [
      "epoch 3  | loss: 0.77511 | train_mse: 2.61121 | train_mae: 1.0875  |  0:00:00s\n",
      "epoch 4  | loss: 0.68143 | train_mse: 1.57032 | train_mae: 0.92493 |  0:00:00s\n"
     ]
    },
    {
     "name": "stdout",
     "output_type": "stream",
     "text": [
      "epoch 5  | loss: 0.58396 | train_mse: 2.1744  | train_mae: 1.0955  |  0:00:00s\n",
      "epoch 6  | loss: 0.59279 | train_mse: 2.03841 | train_mae: 1.04166 |  0:00:00s\n"
     ]
    },
    {
     "name": "stdout",
     "output_type": "stream",
     "text": [
      "epoch 7  | loss: 0.58031 | train_mse: 1.63559 | train_mae: 0.90578 |  0:00:01s\n",
      "epoch 8  | loss: 0.61842 | train_mse: 2.00221 | train_mae: 1.02054 |  0:00:01s\n"
     ]
    },
    {
     "name": "stdout",
     "output_type": "stream",
     "text": [
      "epoch 9  | loss: 0.54285 | train_mse: 1.20094 | train_mae: 0.80062 |  0:00:01s\n",
      "epoch 10 | loss: 0.46822 | train_mse: 0.83829 | train_mae: 0.64029 |  0:00:01s\n"
     ]
    },
    {
     "name": "stdout",
     "output_type": "stream",
     "text": [
      "epoch 11 | loss: 0.49414 | train_mse: 0.84181 | train_mae: 0.64625 |  0:00:01s\n",
      "epoch 12 | loss: 0.51815 | train_mse: 0.89849 | train_mae: 0.68117 |  0:00:01s\n"
     ]
    },
    {
     "name": "stdout",
     "output_type": "stream",
     "text": [
      "epoch 13 | loss: 0.48625 | train_mse: 0.79771 | train_mae: 0.65911 |  0:00:01s\n",
      "epoch 14 | loss: 0.47755 | train_mse: 0.67564 | train_mae: 0.61441 |  0:00:02s\n"
     ]
    },
    {
     "name": "stdout",
     "output_type": "stream",
     "text": [
      "epoch 15 | loss: 0.55539 | train_mse: 0.65248 | train_mae: 0.60574 |  0:00:02s\n",
      "epoch 16 | loss: 0.47587 | train_mse: 0.53362 | train_mae: 0.58431 |  0:00:02s\n",
      "epoch 17 | loss: 0.32879 | train_mse: 0.53454 | train_mae: 0.55488 |  0:00:02s\n"
     ]
    },
    {
     "name": "stdout",
     "output_type": "stream",
     "text": [
      "epoch 18 | loss: 0.46009 | train_mse: 0.58932 | train_mae: 0.55167 |  0:00:02s\n"
     ]
    },
    {
     "name": "stdout",
     "output_type": "stream",
     "text": [
      "epoch 19 | loss: 0.38321 | train_mse: 0.56131 | train_mae: 0.53529 |  0:00:02s\n",
      "epoch 20 | loss: 0.29629 | train_mse: 0.38886 | train_mae: 0.43973 |  0:00:02s\n"
     ]
    },
    {
     "name": "stdout",
     "output_type": "stream",
     "text": [
      "epoch 21 | loss: 0.19997 | train_mse: 0.24999 | train_mae: 0.38202 |  0:00:03s\n",
      "epoch 22 | loss: 0.16632 | train_mse: 0.25637 | train_mae: 0.38214 |  0:00:03s\n"
     ]
    },
    {
     "name": "stdout",
     "output_type": "stream",
     "text": [
      "epoch 23 | loss: 0.37014 | train_mse: 0.26693 | train_mae: 0.39177 |  0:00:03s\n",
      "epoch 24 | loss: 0.23127 | train_mse: 0.23331 | train_mae: 0.36754 |  0:00:03s\n",
      "epoch 25 | loss: 0.19578 | train_mse: 0.21248 | train_mae: 0.34629 |  0:00:03s\n"
     ]
    },
    {
     "name": "stdout",
     "output_type": "stream",
     "text": [
      "epoch 26 | loss: 0.41013 | train_mse: 0.22258 | train_mae: 0.33073 |  0:00:03s\n",
      "epoch 27 | loss: 0.2975  | train_mse: 0.17823 | train_mae: 0.31651 |  0:00:03s\n"
     ]
    },
    {
     "name": "stdout",
     "output_type": "stream",
     "text": [
      "epoch 28 | loss: 0.22206 | train_mse: 0.19074 | train_mae: 0.32837 |  0:00:03s\n",
      "epoch 29 | loss: 0.21864 | train_mse: 0.20688 | train_mae: 0.3421  |  0:00:04s\n"
     ]
    },
    {
     "name": "stdout",
     "output_type": "stream",
     "text": [
      "epoch 30 | loss: 0.21675 | train_mse: 0.20472 | train_mae: 0.33951 |  0:00:04s\n",
      "epoch 31 | loss: 0.14218 | train_mse: 0.24871 | train_mae: 0.36634 |  0:00:04s\n",
      "epoch 32 | loss: 0.26091 | train_mse: 0.2391  | train_mae: 0.35519 |  0:00:04s\n"
     ]
    },
    {
     "name": "stdout",
     "output_type": "stream",
     "text": [
      "epoch 33 | loss: 0.32775 | train_mse: 0.2371  | train_mae: 0.37877 |  0:00:04s\n",
      "epoch 34 | loss: 0.33015 | train_mse: 0.22189 | train_mae: 0.36776 |  0:00:04s\n",
      "epoch 35 | loss: 0.18429 | train_mse: 0.19597 | train_mae: 0.32381 |  0:00:04s\n"
     ]
    },
    {
     "name": "stdout",
     "output_type": "stream",
     "text": [
      "epoch 36 | loss: 0.13717 | train_mse: 0.22595 | train_mae: 0.34584 |  0:00:04s\n",
      "epoch 37 | loss: 0.26298 | train_mse: 0.23675 | train_mae: 0.34769 |  0:00:04s\n",
      "epoch 38 | loss: 0.30095 | train_mse: 0.20521 | train_mae: 0.33584 |  0:00:04s\n"
     ]
    },
    {
     "name": "stdout",
     "output_type": "stream",
     "text": [
      "epoch 39 | loss: 0.27979 | train_mse: 0.19419 | train_mae: 0.33342 |  0:00:04s\n",
      "epoch 40 | loss: 0.16151 | train_mse: 0.19785 | train_mae: 0.33155 |  0:00:04s\n",
      "epoch 41 | loss: 0.28088 | train_mse: 0.20045 | train_mae: 0.33719 |  0:00:04s\n",
      "epoch 42 | loss: 0.17828 | train_mse: 0.18502 | train_mae: 0.32631 |  0:00:05s\n"
     ]
    },
    {
     "name": "stdout",
     "output_type": "stream",
     "text": [
      "epoch 43 | loss: 0.22595 | train_mse: 0.18932 | train_mae: 0.32129 |  0:00:05s\n",
      "epoch 44 | loss: 0.17765 | train_mse: 0.16319 | train_mae: 0.29941 |  0:00:05s\n",
      "epoch 45 | loss: 0.13872 | train_mse: 0.19224 | train_mae: 0.31699 |  0:00:05s\n",
      "epoch 46 | loss: 0.13931 | train_mse: 0.27065 | train_mae: 0.36748 |  0:00:05s\n"
     ]
    },
    {
     "name": "stdout",
     "output_type": "stream",
     "text": [
      "epoch 47 | loss: 0.33957 | train_mse: 0.19253 | train_mae: 0.33268 |  0:00:05s\n",
      "epoch 48 | loss: 0.22694 | train_mse: 0.1766  | train_mae: 0.32127 |  0:00:05s\n",
      "epoch 49 | loss: 0.22587 | train_mse: 0.14286 | train_mae: 0.28676 |  0:00:05s\n"
     ]
    },
    {
     "name": "stdout",
     "output_type": "stream",
     "text": [
      "epoch 50 | loss: 0.29677 | train_mse: 0.13116 | train_mae: 0.27633 |  0:00:05s\n",
      "epoch 51 | loss: 0.21878 | train_mse: 0.13115 | train_mae: 0.27062 |  0:00:05s\n",
      "epoch 52 | loss: 0.26512 | train_mse: 0.10656 | train_mae: 0.25826 |  0:00:05s\n"
     ]
    },
    {
     "name": "stdout",
     "output_type": "stream",
     "text": [
      "epoch 53 | loss: 0.11844 | train_mse: 0.10952 | train_mae: 0.25443 |  0:00:05s\n",
      "epoch 54 | loss: 0.12692 | train_mse: 0.11116 | train_mae: 0.25411 |  0:00:05s\n"
     ]
    },
    {
     "name": "stdout",
     "output_type": "stream",
     "text": [
      "epoch 55 | loss: 0.50743 | train_mse: 0.11705 | train_mae: 0.25645 |  0:00:06s\n",
      "epoch 56 | loss: 0.17578 | train_mse: 0.1245  | train_mae: 0.25945 |  0:00:06s\n"
     ]
    },
    {
     "name": "stdout",
     "output_type": "stream",
     "text": [
      "epoch 57 | loss: 0.23021 | train_mse: 0.12716 | train_mae: 0.25883 |  0:00:06s\n"
     ]
    },
    {
     "name": "stdout",
     "output_type": "stream",
     "text": [
      "epoch 58 | loss: 0.19781 | train_mse: 0.12037 | train_mae: 0.2454  |  0:00:06s\n",
      "epoch 59 | loss: 0.16156 | train_mse: 0.12323 | train_mae: 0.25111 |  0:00:06s\n"
     ]
    },
    {
     "name": "stdout",
     "output_type": "stream",
     "text": [
      "epoch 60 | loss: 0.1641  | train_mse: 0.11778 | train_mae: 0.25028 |  0:00:06s\n"
     ]
    },
    {
     "name": "stdout",
     "output_type": "stream",
     "text": [
      "epoch 61 | loss: 0.24773 | train_mse: 0.10588 | train_mae: 0.23814 |  0:00:07s\n",
      "epoch 62 | loss: 0.1702  | train_mse: 0.10711 | train_mae: 0.23889 |  0:00:07s\n",
      "epoch 63 | loss: 0.27362 | train_mse: 0.11038 | train_mae: 0.24684 |  0:00:07s\n"
     ]
    },
    {
     "name": "stdout",
     "output_type": "stream",
     "text": [
      "epoch 64 | loss: 0.11253 | train_mse: 0.10968 | train_mae: 0.24366 |  0:00:07s\n",
      "epoch 65 | loss: 0.15471 | train_mse: 0.10766 | train_mae: 0.24826 |  0:00:07s\n"
     ]
    },
    {
     "name": "stdout",
     "output_type": "stream",
     "text": [
      "epoch 66 | loss: 0.22766 | train_mse: 0.1198  | train_mae: 0.25973 |  0:00:08s\n",
      "epoch 67 | loss: 0.10263 | train_mse: 0.07843 | train_mae: 0.22979 |  0:00:08s\n",
      "epoch 68 | loss: 0.06647 | train_mse: 0.11461 | train_mae: 0.26435 |  0:00:08s\n"
     ]
    },
    {
     "name": "stdout",
     "output_type": "stream",
     "text": [
      "epoch 69 | loss: 0.27224 | train_mse: 0.13095 | train_mae: 0.27564 |  0:00:08s\n",
      "epoch 70 | loss: 0.10621 | train_mse: 0.08884 | train_mae: 0.2425  |  0:00:08s\n"
     ]
    },
    {
     "name": "stdout",
     "output_type": "stream",
     "text": [
      "epoch 71 | loss: 0.23759 | train_mse: 0.08821 | train_mae: 0.2377  |  0:00:08s\n",
      "epoch 72 | loss: 0.12323 | train_mse: 0.09698 | train_mae: 0.24202 |  0:00:08s\n",
      "epoch 73 | loss: 0.17937 | train_mse: 0.1254  | train_mae: 0.24845 |  0:00:08s\n"
     ]
    },
    {
     "name": "stdout",
     "output_type": "stream",
     "text": [
      "epoch 74 | loss: 0.35567 | train_mse: 0.22186 | train_mae: 0.35445 |  0:00:08s\n",
      "epoch 75 | loss: 0.16862 | train_mse: 0.17497 | train_mae: 0.30857 |  0:00:08s\n",
      "epoch 76 | loss: 0.17104 | train_mse: 0.17256 | train_mae: 0.31663 |  0:00:08s\n"
     ]
    },
    {
     "name": "stdout",
     "output_type": "stream",
     "text": [
      "epoch 77 | loss: 0.17628 | train_mse: 0.21949 | train_mae: 0.34893 |  0:00:09s\n",
      "epoch 78 | loss: 0.14972 | train_mse: 0.11026 | train_mae: 0.26248 |  0:00:09s\n",
      "epoch 79 | loss: 0.19999 | train_mse: 0.07573 | train_mae: 0.22225 |  0:00:09s\n"
     ]
    },
    {
     "name": "stdout",
     "output_type": "stream",
     "text": [
      "epoch 80 | loss: 0.13221 | train_mse: 0.08574 | train_mae: 0.2429  |  0:00:09s\n",
      "epoch 81 | loss: 0.1738  | train_mse: 0.07712 | train_mae: 0.22431 |  0:00:09s\n",
      "epoch 82 | loss: 0.12642 | train_mse: 0.07809 | train_mae: 0.21876 |  0:00:09s\n"
     ]
    },
    {
     "name": "stdout",
     "output_type": "stream",
     "text": [
      "epoch 83 | loss: 0.13939 | train_mse: 0.08312 | train_mae: 0.22713 |  0:00:09s\n",
      "epoch 84 | loss: 0.1405  | train_mse: 0.08838 | train_mae: 0.21691 |  0:00:09s\n",
      "epoch 85 | loss: 0.25672 | train_mse: 0.09017 | train_mae: 0.21494 |  0:00:09s\n"
     ]
    },
    {
     "name": "stdout",
     "output_type": "stream",
     "text": [
      "epoch 86 | loss: 0.19675 | train_mse: 0.08997 | train_mae: 0.21361 |  0:00:09s\n",
      "epoch 87 | loss: 0.22101 | train_mse: 0.08515 | train_mae: 0.2135  |  0:00:09s\n",
      "epoch 88 | loss: 0.16364 | train_mse: 0.08276 | train_mae: 0.22141 |  0:00:09s\n"
     ]
    },
    {
     "name": "stdout",
     "output_type": "stream",
     "text": [
      "epoch 89 | loss: 0.1869  | train_mse: 0.06247 | train_mae: 0.20155 |  0:00:10s\n",
      "epoch 90 | loss: 0.33986 | train_mse: 0.07599 | train_mae: 0.22253 |  0:00:10s\n"
     ]
    },
    {
     "name": "stdout",
     "output_type": "stream",
     "text": [
      "epoch 91 | loss: 0.20449 | train_mse: 0.07942 | train_mae: 0.22344 |  0:00:10s\n",
      "epoch 92 | loss: 0.14064 | train_mse: 0.07303 | train_mae: 0.21343 |  0:00:10s\n"
     ]
    },
    {
     "name": "stdout",
     "output_type": "stream",
     "text": [
      "epoch 93 | loss: 0.11119 | train_mse: 0.06653 | train_mae: 0.20201 |  0:00:10s\n",
      "epoch 94 | loss: 0.15356 | train_mse: 0.06219 | train_mae: 0.19767 |  0:00:11s\n"
     ]
    },
    {
     "name": "stdout",
     "output_type": "stream",
     "text": [
      "epoch 95 | loss: 0.12173 | train_mse: 0.05989 | train_mae: 0.19843 |  0:00:11s\n"
     ]
    },
    {
     "name": "stdout",
     "output_type": "stream",
     "text": [
      "epoch 96 | loss: 0.15705 | train_mse: 0.07484 | train_mae: 0.21321 |  0:00:11s\n",
      "epoch 97 | loss: 0.13269 | train_mse: 0.06258 | train_mae: 0.19066 |  0:00:11s\n"
     ]
    },
    {
     "name": "stdout",
     "output_type": "stream",
     "text": [
      "epoch 98 | loss: 0.1431  | train_mse: 0.06211 | train_mae: 0.1876  |  0:00:11s\n",
      "epoch 99 | loss: 0.12192 | train_mse: 0.07352 | train_mae: 0.1994  |  0:00:11s\n",
      "epoch 100| loss: 0.11585 | train_mse: 0.07896 | train_mae: 0.2119  |  0:00:11s\n"
     ]
    },
    {
     "name": "stdout",
     "output_type": "stream",
     "text": [
      "epoch 101| loss: 0.07823 | train_mse: 0.07597 | train_mae: 0.21263 |  0:00:11s\n",
      "epoch 102| loss: 0.15244 | train_mse: 0.10796 | train_mae: 0.25177 |  0:00:11s\n"
     ]
    },
    {
     "name": "stdout",
     "output_type": "stream",
     "text": [
      "epoch 103| loss: 0.44218 | train_mse: 0.11597 | train_mae: 0.25428 |  0:00:12s\n",
      "epoch 104| loss: 0.20549 | train_mse: 0.10345 | train_mae: 0.238   |  0:00:12s\n",
      "epoch 105| loss: 0.17431 | train_mse: 0.10058 | train_mae: 0.23001 |  0:00:12s\n"
     ]
    },
    {
     "name": "stdout",
     "output_type": "stream",
     "text": [
      "epoch 106| loss: 0.11755 | train_mse: 0.09828 | train_mae: 0.22344 |  0:00:12s\n",
      "epoch 107| loss: 0.10715 | train_mse: 0.0924  | train_mae: 0.21456 |  0:00:12s\n"
     ]
    },
    {
     "name": "stdout",
     "output_type": "stream",
     "text": [
      "epoch 108| loss: 0.093   | train_mse: 0.07703 | train_mae: 0.20222 |  0:00:12s\n",
      "epoch 109| loss: 0.12542 | train_mse: 0.06655 | train_mae: 0.19072 |  0:00:12s\n",
      "epoch 110| loss: 0.22296 | train_mse: 0.05478 | train_mae: 0.18899 |  0:00:12s\n"
     ]
    },
    {
     "name": "stdout",
     "output_type": "stream",
     "text": [
      "epoch 111| loss: 0.15638 | train_mse: 0.04981 | train_mae: 0.17592 |  0:00:12s\n",
      "epoch 112| loss: 0.08498 | train_mse: 0.05038 | train_mae: 0.17033 |  0:00:12s\n",
      "epoch 113| loss: 0.06159 | train_mse: 0.05833 | train_mae: 0.18236 |  0:00:13s\n"
     ]
    },
    {
     "name": "stdout",
     "output_type": "stream",
     "text": [
      "epoch 114| loss: 0.23905 | train_mse: 0.06065 | train_mae: 0.18947 |  0:00:13s\n",
      "epoch 115| loss: 0.11937 | train_mse: 0.05686 | train_mae: 0.18532 |  0:00:13s\n"
     ]
    },
    {
     "name": "stdout",
     "output_type": "stream",
     "text": [
      "epoch 116| loss: 0.13087 | train_mse: 0.05565 | train_mae: 0.18459 |  0:00:13s\n",
      "epoch 117| loss: 0.27247 | train_mse: 0.05316 | train_mae: 0.17752 |  0:00:13s\n"
     ]
    },
    {
     "name": "stdout",
     "output_type": "stream",
     "text": [
      "epoch 118| loss: 0.10277 | train_mse: 0.05465 | train_mae: 0.18311 |  0:00:13s\n",
      "epoch 119| loss: 0.12899 | train_mse: 0.05987 | train_mae: 0.19221 |  0:00:13s\n"
     ]
    },
    {
     "name": "stdout",
     "output_type": "stream",
     "text": [
      "epoch 120| loss: 0.11235 | train_mse: 0.06348 | train_mae: 0.1986  |  0:00:13s\n",
      "epoch 121| loss: 0.16958 | train_mse: 0.06438 | train_mae: 0.19877 |  0:00:14s\n"
     ]
    },
    {
     "name": "stdout",
     "output_type": "stream",
     "text": [
      "epoch 122| loss: 0.09669 | train_mse: 0.05731 | train_mae: 0.19237 |  0:00:14s\n",
      "epoch 123| loss: 0.11133 | train_mse: 0.07001 | train_mae: 0.19895 |  0:00:14s\n",
      "epoch 124| loss: 0.08032 | train_mse: 0.07929 | train_mae: 0.20505 |  0:00:14s\n"
     ]
    },
    {
     "name": "stdout",
     "output_type": "stream",
     "text": [
      "epoch 125| loss: 0.10861 | train_mse: 0.07311 | train_mae: 0.20393 |  0:00:14s\n",
      "epoch 126| loss: 0.14156 | train_mse: 0.07182 | train_mae: 0.20766 |  0:00:14s\n"
     ]
    },
    {
     "name": "stdout",
     "output_type": "stream",
     "text": [
      "epoch 127| loss: 0.14562 | train_mse: 0.09605 | train_mae: 0.23223 |  0:00:14s\n",
      "epoch 128| loss: 0.14353 | train_mse: 0.07893 | train_mae: 0.2192  |  0:00:14s\n",
      "epoch 129| loss: 0.06501 | train_mse: 0.0717  | train_mae: 0.21207 |  0:00:14s\n"
     ]
    },
    {
     "name": "stdout",
     "output_type": "stream",
     "text": [
      "epoch 130| loss: 0.08659 | train_mse: 0.07079 | train_mae: 0.21148 |  0:00:15s\n",
      "epoch 131| loss: 0.13446 | train_mse: 0.06747 | train_mae: 0.19297 |  0:00:15s\n",
      "epoch 132| loss: 0.17453 | train_mse: 0.08585 | train_mae: 0.21182 |  0:00:15s\n"
     ]
    },
    {
     "name": "stdout",
     "output_type": "stream",
     "text": [
      "epoch 133| loss: 0.16159 | train_mse: 0.0914  | train_mae: 0.2233  |  0:00:15s\n",
      "epoch 134| loss: 0.17257 | train_mse: 0.07183 | train_mae: 0.20419 |  0:00:15s\n"
     ]
    },
    {
     "name": "stdout",
     "output_type": "stream",
     "text": [
      "epoch 135| loss: 0.26323 | train_mse: 0.05846 | train_mae: 0.18293 |  0:00:15s\n",
      "epoch 136| loss: 0.15501 | train_mse: 0.07702 | train_mae: 0.21959 |  0:00:15s\n",
      "epoch 137| loss: 0.10414 | train_mse: 0.07373 | train_mae: 0.21591 |  0:00:15s\n"
     ]
    },
    {
     "name": "stdout",
     "output_type": "stream",
     "text": [
      "epoch 138| loss: 0.11288 | train_mse: 0.10865 | train_mae: 0.22572 |  0:00:15s\n",
      "epoch 139| loss: 0.2328  | train_mse: 0.10621 | train_mae: 0.24832 |  0:00:15s\n",
      "epoch 140| loss: 0.21188 | train_mse: 0.09682 | train_mae: 0.24044 |  0:00:15s\n",
      "epoch 141| loss: 0.20909 | train_mse: 0.08418 | train_mae: 0.21756 |  0:00:15s\n"
     ]
    },
    {
     "name": "stdout",
     "output_type": "stream",
     "text": [
      "epoch 142| loss: 0.21754 | train_mse: 0.08522 | train_mae: 0.21965 |  0:00:15s\n",
      "epoch 143| loss: 0.12573 | train_mse: 0.08844 | train_mae: 0.21418 |  0:00:16s\n",
      "epoch 144| loss: 0.1099  | train_mse: 0.07199 | train_mae: 0.20113 |  0:00:16s\n",
      "epoch 145| loss: 0.13441 | train_mse: 0.06641 | train_mae: 0.20071 |  0:00:16s\n"
     ]
    },
    {
     "name": "stdout",
     "output_type": "stream",
     "text": [
      "epoch 146| loss: 0.12092 | train_mse: 0.0583  | train_mae: 0.19816 |  0:00:16s\n",
      "epoch 147| loss: 0.08203 | train_mse: 0.06597 | train_mae: 0.20106 |  0:00:16s\n",
      "epoch 148| loss: 0.24901 | train_mse: 0.06398 | train_mae: 0.19722 |  0:00:16s\n",
      "epoch 149| loss: 0.09955 | train_mse: 0.05112 | train_mae: 0.1792  |  0:00:16s\n"
     ]
    },
    {
     "name": "stdout",
     "output_type": "stream",
     "text": [
      "epoch 150| loss: 0.10382 | train_mse: 0.04582 | train_mae: 0.17305 |  0:00:16s\n",
      "epoch 151| loss: 0.07376 | train_mse: 0.04615 | train_mae: 0.17173 |  0:00:16s\n",
      "epoch 152| loss: 0.09803 | train_mse: 0.05084 | train_mae: 0.1781  |  0:00:16s\n",
      "epoch 153| loss: 0.1195  | train_mse: 0.05858 | train_mae: 0.19272 |  0:00:16s\n"
     ]
    },
    {
     "name": "stdout",
     "output_type": "stream",
     "text": [
      "epoch 154| loss: 0.44381 | train_mse: 0.07951 | train_mae: 0.21033 |  0:00:16s\n",
      "epoch 155| loss: 0.21503 | train_mse: 0.09278 | train_mae: 0.22914 |  0:00:16s\n",
      "epoch 156| loss: 0.25027 | train_mse: 0.06866 | train_mae: 0.21018 |  0:00:16s\n",
      "epoch 157| loss: 0.09033 | train_mse: 0.05738 | train_mae: 0.19582 |  0:00:16s\n"
     ]
    },
    {
     "name": "stdout",
     "output_type": "stream",
     "text": [
      "epoch 158| loss: 0.10809 | train_mse: 0.04918 | train_mae: 0.18111 |  0:00:17s\n",
      "epoch 159| loss: 0.22624 | train_mse: 0.0593  | train_mae: 0.19215 |  0:00:17s\n",
      "epoch 160| loss: 0.34823 | train_mse: 0.06991 | train_mae: 0.20884 |  0:00:17s\n",
      "epoch 161| loss: 0.16573 | train_mse: 0.09803 | train_mae: 0.23706 |  0:00:17s\n"
     ]
    },
    {
     "name": "stdout",
     "output_type": "stream",
     "text": [
      "epoch 162| loss: 0.31974 | train_mse: 0.18762 | train_mae: 0.31955 |  0:00:17s\n",
      "\n",
      "Early stopping occurred at epoch 162 with best_epoch = 112 and best_train_mae = 0.17033\n",
      "Best weights from best epoch are automatically used!\n"
     ]
    }
   ],
   "source": [
    "#Train the Model\n",
    "\n",
    "Y_train = np.reshape(Y_train, (-1, 1))\n",
    "Y_test = np.reshape(Y_test, (-1, 1))\n",
    "\n",
    "prior_model = TabNetRegressor(optimizer_fn=torch.optim.Adam, optimizer_params=dict(lr = 0.02),\n",
    "          #scheduler_params={\"step_size\":10, ], \"gamma\":0.9},\n",
    "          #scheduler_fn=torch.optim.lr_scheduler.StepLR\n",
    "          )  #TabNetRegressor()\n",
    "\n",
    "prior_model.fit(X_train,Y_train,eval_set=[(X_train, Y_train)],\n",
    "            eval_name=['train'], \n",
    "            eval_metric=[ 'mse', 'mae'], \n",
    "            max_epochs = n_epochs, \n",
    "            batch_size = batch_size,\n",
    "            patience=50\n",
    "            )"
   ]
  },
  {
   "cell_type": "code",
   "execution_count": 10,
   "id": "af65dcda",
   "metadata": {
    "execution": {
     "iopub.execute_input": "2022-06-22T14:48:10.328834Z",
     "iopub.status.busy": "2022-06-22T14:48:10.327955Z",
     "iopub.status.idle": "2022-06-22T14:48:10.354945Z",
     "shell.execute_reply": "2022-06-22T14:48:10.355503Z"
    },
    "id": "af65dcda",
    "papermill": {
     "duration": 0.08373,
     "end_time": "2022-06-22T14:48:10.355732",
     "exception": false,
     "start_time": "2022-06-22T14:48:10.272002",
     "status": "completed"
    },
    "tags": []
   },
   "outputs": [
    {
     "data": {
      "application/scrapbook.scrap.json+json": {
       "data": 0.4035595865582753,
       "encoder": "json",
       "name": "Prior Model MSE",
       "version": 1
      }
     },
     "metadata": {
      "scrapbook": {
       "data": true,
       "display": false,
       "name": "Prior Model MSE"
      }
     },
     "output_type": "display_data"
    },
    {
     "data": {
      "application/scrapbook.scrap.json+json": {
       "data": 1.5529509873711635,
       "encoder": "json",
       "name": "ABC Pre-generator MSE",
       "version": 1
      }
     },
     "metadata": {
      "scrapbook": {
       "data": true,
       "display": false,
       "name": "ABC Pre-generator MSE"
      }
     },
     "output_type": "display_data"
    },
    {
     "data": {
      "application/scrapbook.scrap.json+json": {
       "data": 0.4953366581559571,
       "encoder": "json",
       "name": "Prior Model MSE",
       "version": 1
      }
     },
     "metadata": {
      "scrapbook": {
       "data": true,
       "display": false,
       "name": "Prior Model MSE"
      }
     },
     "output_type": "display_data"
    },
    {
     "data": {
      "application/scrapbook.scrap.json+json": {
       "data": 1.1052269788169438,
       "encoder": "json",
       "name": "ABC Pre-generator MSE",
       "version": 1
      }
     },
     "metadata": {
      "scrapbook": {
       "data": true,
       "display": false,
       "name": "ABC Pre-generator MSE"
      }
     },
     "output_type": "display_data"
    }
   ],
   "source": [
    "y_pred = prior_model.predict(X_test)\n",
    "y_abc = y_pred + np.random.normal(0,variance, y_pred.shape) + bias \n",
    "mse = mean_squared_error(y_pred,Y_test)\n",
    "sb.glue(\"Prior Model MSE\",mse)\n",
    "mse = mean_squared_error(y_abc,Y_test)\n",
    "sb.glue(\"ABC Pre-generator MSE\",mse)\n",
    "mae = mean_absolute_error(y_pred,Y_test)\n",
    "sb.glue(\"Prior Model MSE\",mae)\n",
    "mae = mean_absolute_error(y_abc,Y_test)\n",
    "sb.glue(\"ABC Pre-generator MSE\",mae)"
   ]
  },
  {
   "cell_type": "markdown",
   "id": "25609da2",
   "metadata": {
    "papermill": {
     "duration": 0.036872,
     "end_time": "2022-06-22T14:48:10.425605",
     "exception": false,
     "start_time": "2022-06-22T14:48:10.388733",
     "status": "completed"
    },
    "tags": []
   },
   "source": [
    "# ABC GAN Model"
   ]
  },
  {
   "cell_type": "code",
   "execution_count": 11,
   "id": "dfc3464d",
   "metadata": {
    "execution": {
     "iopub.execute_input": "2022-06-22T14:48:10.522852Z",
     "iopub.status.busy": "2022-06-22T14:48:10.520862Z",
     "iopub.status.idle": "2022-06-22T14:48:10.525185Z",
     "shell.execute_reply": "2022-06-22T14:48:10.525881Z"
    },
    "papermill": {
     "duration": 0.054849,
     "end_time": "2022-06-22T14:48:10.526096",
     "exception": false,
     "start_time": "2022-06-22T14:48:10.471247",
     "status": "completed"
    },
    "tags": []
   },
   "outputs": [],
   "source": [
    "gen = network.Generator(n_features+1).to(device)\n",
    "disc = network.Discriminator(n_features+1).to(device)\n",
    "\n",
    "criterion = torch.nn.BCELoss()\n",
    "gen_opt = torch.optim.Adam(gen.parameters(), lr=0.001, betas=(0.5, 0.999))\n",
    "disc_opt = torch.optim.Adam(disc.parameters(), lr=0.001, betas=(0.5, 0.999))"
   ]
  },
  {
   "cell_type": "code",
   "execution_count": 12,
   "id": "b75fdd85",
   "metadata": {
    "execution": {
     "iopub.execute_input": "2022-06-22T14:48:10.609582Z",
     "iopub.status.busy": "2022-06-22T14:48:10.608851Z",
     "iopub.status.idle": "2022-06-22T14:49:03.243271Z",
     "shell.execute_reply": "2022-06-22T14:49:03.243769Z"
    },
    "papermill": {
     "duration": 52.68471,
     "end_time": "2022-06-22T14:49:03.244004",
     "exception": false,
     "start_time": "2022-06-22T14:48:10.559294",
     "status": "completed"
    },
    "tags": []
   },
   "outputs": [
    {
     "data": {
      "image/png": "[encoded data removed]",
      "text/plain": [
       "<Figure size 432x288 with 1 Axes>"
      ]
     },
     "metadata": {
      "needs_background": "light"
     },
     "output_type": "display_data"
    },
    {
     "data": {
      "image/png": "[encoded data removed]",
      "text/plain": [
       "<Figure size 432x288 with 1 Axes>"
      ]
     },
     "metadata": {
      "needs_background": "light"
     },
     "output_type": "display_data"
    }
   ],
   "source": [
    "#Training the ABC_GAN \n",
    "ABC_train_test2.training_GAN(disc,gen,disc_opt,gen_opt,train_data,batch_size,n_epochs,criterion,prior_model,variance,bias,device)"
   ]
  },
  {
   "cell_type": "code",
   "execution_count": 13,
   "id": "1fa7c368",
   "metadata": {
    "execution": {
     "iopub.execute_input": "2022-06-22T14:49:03.356900Z",
     "iopub.status.busy": "2022-06-22T14:49:03.352057Z",
     "iopub.status.idle": "2022-06-22T14:49:04.735619Z",
     "shell.execute_reply": "2022-06-22T14:49:04.737111Z"
    },
    "papermill": {
     "duration": 1.451698,
     "end_time": "2022-06-22T14:49:04.737441",
     "exception": false,
     "start_time": "2022-06-22T14:49:03.285743",
     "status": "completed"
    },
    "tags": []
   },
   "outputs": [
    {
     "data": {
      "application/scrapbook.scrap.json+json": {
       "data": 0.19002619659820838,
       "encoder": "json",
       "name": "ABC-GAN Model 1 MSE",
       "version": 1
      }
     },
     "metadata": {
      "scrapbook": {
       "data": true,
       "display": false,
       "name": "ABC-GAN Model 1 MSE"
      }
     },
     "output_type": "display_data"
    },
    {
     "data": {
      "application/scrapbook.scrap.json+json": {
       "data": 0.3450554777607322,
       "encoder": "json",
       "name": "ABC-GAN Model 1 MAE",
       "version": 1
      }
     },
     "metadata": {
      "scrapbook": {
       "data": true,
       "display": false,
       "name": "ABC-GAN Model 1 MAE"
      }
     },
     "output_type": "display_data"
    },
    {
     "data": {
      "application/scrapbook.scrap.json+json": {
       "data": 6.901109555214643,
       "encoder": "json",
       "name": "ABC-GAN Model 1 Manhattan Distance",
       "version": 1
      }
     },
     "metadata": {
      "scrapbook": {
       "data": true,
       "display": false,
       "name": "ABC-GAN Model 1 Manhattan Distance"
      }
     },
     "output_type": "display_data"
    },
    {
     "data": {
      "application/scrapbook.scrap.json+json": {
       "data": 1.9479060618423036,
       "encoder": "json",
       "name": "ABC-GAN Model 1 Euclidean distance",
       "version": 1
      }
     },
     "metadata": {
      "scrapbook": {
       "data": true,
       "display": false,
       "name": "ABC-GAN Model 1 Euclidean distance"
      }
     },
     "output_type": "display_data"
    },
    {
     "data": {
      "application/scrapbook.scrap.json+json": {
       "data": [
        [
         0.21189556503372958,
         0.21050986876692498,
         0.16370982047310925,
         0.2071072086315536,
         0.16742688146224066,
         0.19891296757067783,
         0.1848281793160355,
         0.16248204647762443,
         0.20108127648618618,
         0.19254545564763328,
         0.20973404219532937,
         0.17818796541766277,
         0.17377327917774174,
         0.20896597576735995,
         0.1666641173918767,
         0.19553858173453517,
         0.18913734742991622,
         0.19119775317677629,
         0.19243091340977073,
         0.21534983761006882,
         0.21767113943393265,
         0.20223043643723937,
         0.20322995958887696,
         0.17556166299172948,
         0.2009918087750029,
         0.1754025145269226,
         0.20367920925054772,
         0.1810952421887992,
         0.17770119441405868,
         0.20804782556893658,
         0.1875920221074671,
         0.18888710759513522,
         0.18417052810168535,
         0.21043456724144946,
         0.19525284710402585,
         0.2038756525211965,
         0.17117830786711613,
         0.18588706711822697,
         0.18997284370526962,
         0.17469544318902974,
         0.18797949883503104,
         0.1781214754693131,
         0.15257978713014703,
         0.19024432048908885,
         0.19208771021385512,
         0.19162850044321583,
         0.180518579249407,
         0.2077378013014719,
         0.19609808160947056,
         0.2009269374941347,
         0.1831124102638332,
         0.20280191624413701,
         0.19784475030976506,
         0.17469878864539662,
         0.19473710221498344,
         0.22392659425374709,
         0.21330490254864123,
         0.17876000140709097,
         0.17260384594969383,
         0.2051288625987442,
         0.18290493184539697,
         0.2054476781132199,
         0.1896629211412472,
         0.20493957528771917,
         0.19506716990706463,
         0.21293783696358365,
         0.17700691088546228,
         0.1778463593285778,
         0.20515553259662953,
         0.19998076749750604,
         0.19819533703934197,
         0.17532820823096923,
         0.17223445427776463,
         0.1847078186455152,
         0.2246458012907448,
         0.17888841887129386,
         0.18159352423150796,
         0.18073049787062184,
         0.2134415702073235,
         0.19145520424185686,
         0.17216685223901873,
         0.19045627065077106,
         0.18497630600696877,
         0.21052118498645508,
         0.19904184003196262,
         0.19047614948781405,
         0.18626321831961082,
         0.16509856295766348,
         0.1509530221927394,
         0.20091306799924843,
         0.18802321724474239,
         0.1727984309437332,
         0.18917256356376835,
         0.1725917730884737,
         0.16624749239998393,
         0.17923479331829953,
         0.18028415189296126,
         0.19178022376433707,
         0.18357356863605276,
         0.19199812204831823
        ],
        [
         0.3451279872097075,
         0.365926219150424,
         0.33393619693815707,
         0.3500322323292494,
         0.3303808156400919,
         0.3577191259711981,
         0.3405103050172329,
         0.3126446671783924,
         0.350335606187582,
         0.35099084861576557,
         0.35647874884307384,
         0.34529964737594127,
         0.3359816107898951,
         0.3482887764461339,
         0.3270184323191643,
         0.3502866417169571,
         0.3437415365129709,
         0.341184314340353,
         0.3484921433031559,
         0.37039970234036446,
         0.355339827388525,
         0.34181189388036726,
         0.35605798438191416,
         0.33316391222178937,
         0.36127257235348226,
         0.3325798612087965,
         0.3599180795252323,
         0.34630391374230385,
         0.35108658783137797,
         0.34676389591768386,
         0.3357658915221691,
         0.33187508434057233,
         0.3499060977250338,
         0.34949732357636093,
         0.35778096355497835,
         0.3473183050751686,
         0.34224420711398124,
         0.34470571354031565,
         0.3472981296479702,
         0.3266931664198637,
         0.3518150087445974,
         0.33410596996545794,
         0.31613632664084435,
         0.3456847473978996,
         0.3375505406409502,
         0.3468744523823261,
         0.3457079641520977,
         0.3430527881719172,
         0.3439473807811737,
         0.35322422385215757,
         0.33678388558328154,
         0.349621092248708,
         0.35039004869759083,
         0.34107800051569936,
         0.348739055916667,
         0.3656436872668564,
         0.3640964962542057,
         0.33461266905069353,
         0.34075688049197195,
         0.3601399097591639,
         0.3474296651780605,
         0.35727270096540453,
         0.3410695310682058,
         0.3546655155718327,
         0.3466681241989136,
         0.3547801048494875,
         0.32425232864916326,
         0.34466396905481816,
         0.3662562597543001,
         0.34761870056390765,
         0.35354427620768547,
         0.33881762735545634,
         0.3310319870710373,
         0.3378218811005354,
         0.35436281003057957,
         0.3435966890305281,
         0.34452235512435436,
         0.33673198744654653,
         0.3701941963285208,
         0.3556631222367287,
         0.33680051043629644,
         0.3417501553893089,
         0.3536381468176842,
         0.360934105142951,
         0.3561788458377123,
         0.3369995437562466,
         0.3360628366470337,
         0.3243193332105875,
         0.312311989068985,
         0.3606076132506132,
         0.3409698374569416,
         0.33709490671753883,
         0.33787285424768926,
         0.34060704745352266,
         0.32975073903799057,
         0.3354144960641861,
         0.3429086275398731,
         0.33008473813533784,
         0.3525523837655783,
         0.355605136603117
        ],
        [
         6.90255974419415,
         7.31852438300848,
         6.678723938763142,
         7.000644646584988,
         6.607616312801838,
         7.154382519423962,
         6.810206100344658,
         6.252893343567848,
         7.00671212375164,
         7.019816972315311,
         7.129574976861477,
         6.9059929475188255,
         6.719632215797901,
         6.965775528922677,
         6.5403686463832855,
         7.005732834339142,
         6.8748307302594185,
         6.82368628680706,
         6.969842866063118,
         7.407994046807289,
         7.1067965477705,
         6.836237877607346,
         7.121159687638283,
         6.663278244435787,
         7.225451447069645,
         6.65159722417593,
         7.198361590504646,
         6.926078274846077,
         7.02173175662756,
         6.935277918353677,
         6.715317830443382,
         6.637501686811447,
         6.998121954500675,
         6.989946471527219,
         7.155619271099567,
         6.946366101503372,
         6.844884142279625,
         6.894114270806313,
         6.945962592959404,
         6.533863328397274,
         7.036300174891949,
         6.682119399309158,
         6.322726532816887,
         6.9136949479579926,
         6.751010812819004,
         6.9374890476465225,
         6.914159283041954,
         6.861055763438344,
         6.878947615623474,
         7.064484477043152,
         6.73567771166563,
         6.99242184497416,
         7.007800973951817,
         6.821560010313988,
         6.97478111833334,
         7.312873745337129,
         7.281929925084114,
         6.69225338101387,
         6.815137609839439,
         7.202798195183277,
         6.948593303561211,
         7.14545401930809,
         6.821390621364117,
         7.093310311436653,
         6.9333624839782715,
         7.095602096989751,
         6.485046572983265,
         6.893279381096363,
         7.325125195086002,
         6.9523740112781525,
         7.070885524153709,
         6.776352547109127,
         6.620639741420746,
         6.756437622010708,
         7.087256200611591,
         6.871933780610561,
         6.890447102487087,
         6.734639748930931,
         7.4038839265704155,
         7.113262444734573,
         6.736010208725929,
         6.835003107786179,
         7.0727629363536835,
         7.21868210285902,
         7.123576916754246,
         6.739990875124931,
         6.721256732940674,
         6.48638666421175,
         6.2462397813797,
         7.212152265012264,
         6.819396749138832,
         6.741898134350777,
         6.757457084953785,
         6.812140949070454,
         6.595014780759811,
         6.708289921283722,
         6.8581725507974625,
         6.601694762706757,
         7.051047675311565,
         7.11210273206234
        ],
        [
         2.0586187846890427,
         2.051876549731611,
         1.8094740698507354,
         2.0352258284109586,
         1.8299009889184752,
         1.9945574324680542,
         1.922644945464635,
         1.802676046757289,
         2.005399094874565,
         1.9623733367921268,
         2.048092000840438,
         1.8877921782742015,
         1.8642600632837778,
         2.0443384052908655,
         1.8257278953440825,
         1.9775670999211894,
         1.9449285201771103,
         1.9554935600854138,
         1.9617895575712025,
         2.0753305163759763,
         2.0864857508927908,
         2.0111212615714615,
         2.0160851152115424,
         1.8738285033146949,
         2.0049529110430644,
         1.8729789882800214,
         2.018312211975876,
         1.903130275040567,
         1.8852118947962253,
         2.039842276103408,
         1.9369668149323935,
         1.943641466912739,
         1.919221342637088,
         2.051509528330051,
         1.9761216921233664,
         2.0192852820797587,
         1.8502881281958015,
         1.9281445335774337,
         1.9492195551310767,
         1.8692000598599912,
         1.9389662133984236,
         1.8874399353055615,
         1.7468817196945363,
         1.9506118039686362,
         1.960039337431038,
         1.9576950755580698,
         1.9000977830070063,
         2.0383218651698356,
         1.9803943122998036,
         2.004629329797081,
         1.913700134628376,
         2.0139608548536243,
         1.9891945621771896,
         1.8692179575715433,
         1.973510082137831,
         2.116254210881798,
         2.0654534734466483,
         1.890819935409456,
         1.8579765657816776,
         2.025481980165433,
         1.912615653211052,
         2.0270553920069374,
         1.9476289232872217,
         2.0245472347550657,
         1.975181864573815,
         2.063675541181722,
         1.8815255028059665,
         1.885981756691076,
         2.0256136482391183,
         1.9999038351756118,
         1.990956237787973,
         1.872582218387055,
         1.8559873613673377,
         1.922018827407865,
         2.119649977193144,
         1.8914989763216572,
         1.9057467000181738,
         1.9012127596385515,
         2.0661150510430124,
         1.9568096700591853,
         1.8556230880166302,
         1.951698084493455,
         1.923415223018518,
         2.0519316995770356,
         1.9952034484330796,
         1.9517999358941174,
         1.9300943931300916,
         1.8171327026811415,
         1.7375443717657366,
         2.004560141274132,
         1.9391916730676335,
         1.8590235659815244,
         1.94510957821799,
         1.857911586101307,
         1.823444500937629,
         1.8933293074280528,
         1.8988636174984301,
         1.9584699321885801,
         1.916108392738014,
         1.959582210821063
        ]
       ],
       "encoder": "json",
       "name": "ABC_GAN_1 Metrics",
       "version": 1
      }
     },
     "metadata": {
      "scrapbook": {
       "data": true,
       "display": false,
       "name": "ABC_GAN_1 Metrics"
      }
     },
     "output_type": "display_data"
    },
    {
     "name": "stdout",
     "output_type": "stream",
     "text": [
      "MSE\n",
      "0.19002619659820838\n"
     ]
    }
   ],
   "source": [
    "ABC_GAN1_metrics=ABC_train_test2.test_generator(gen,test_data,prior_model,variance,bias,\"1\",device)\n",
    "sb.glue(\"ABC_GAN_1 Metrics\",ABC_GAN1_metrics)\n",
    "\n",
    "print(\"MSE\")\n",
    "print(mean(ABC_GAN1_metrics[0]))"
   ]
  },
  {
   "cell_type": "code",
   "execution_count": 14,
   "id": "eb22ce5c",
   "metadata": {
    "execution": {
     "iopub.execute_input": "2022-06-22T14:49:04.856388Z",
     "iopub.status.busy": "2022-06-22T14:49:04.855636Z",
     "iopub.status.idle": "2022-06-22T14:49:06.388684Z",
     "shell.execute_reply": "2022-06-22T14:49:06.389775Z"
    },
    "papermill": {
     "duration": 1.592579,
     "end_time": "2022-06-22T14:49:06.390017",
     "exception": false,
     "start_time": "2022-06-22T14:49:04.797438",
     "status": "completed"
    },
    "tags": []
   },
   "outputs": [
    {
     "data": {
      "image/png": "[encoded data removed]",
      "text/plain": [
       "<Figure size 432x288 with 1 Axes>"
      ]
     },
     "metadata": {
      "needs_background": "light"
     },
     "output_type": "display_data"
    },
    {
     "data": {
      "image/png": "[encoded data removed]",
      "text/plain": [
       "<Figure size 432x288 with 1 Axes>"
      ]
     },
     "metadata": {
      "needs_background": "light"
     },
     "output_type": "display_data"
    },
    {
     "data": {
      "image/png": "[encoded data removed]",
      "text/plain": [
       "<Figure size 432x288 with 1 Axes>"
      ]
     },
     "metadata": {
      "needs_background": "light"
     },
     "output_type": "display_data"
    },
    {
     "data": {
      "image/png": "[encoded data removed]",
      "text/plain": [
       "<Figure size 432x288 with 1 Axes>"
      ]
     },
     "metadata": {
      "needs_background": "light"
     },
     "output_type": "display_data"
    }
   ],
   "source": [
    "sanityChecks.discProbVsError(train_data,disc,device)\n",
    "sanityChecks.discProbVsError(test_data,disc,device)"
   ]
  },
  {
   "cell_type": "markdown",
   "id": "130f3a4d",
   "metadata": {
    "id": "130f3a4d",
    "papermill": {
     "duration": 0.044699,
     "end_time": "2022-06-22T14:49:06.480775",
     "exception": false,
     "start_time": "2022-06-22T14:49:06.436076",
     "status": "completed"
    },
    "tags": []
   },
   "source": [
    "# ABC - GAN Model with skip connection"
   ]
  },
  {
   "cell_type": "code",
   "execution_count": 15,
   "id": "4e43dad1",
   "metadata": {
    "execution": {
     "iopub.execute_input": "2022-06-22T14:49:06.582710Z",
     "iopub.status.busy": "2022-06-22T14:49:06.581892Z",
     "iopub.status.idle": "2022-06-22T14:49:06.584051Z",
     "shell.execute_reply": "2022-06-22T14:49:06.584752Z"
    },
    "id": "4e43dad1",
    "papermill": {
     "duration": 0.059004,
     "end_time": "2022-06-22T14:49:06.584966",
     "exception": false,
     "start_time": "2022-06-22T14:49:06.525962",
     "status": "completed"
    },
    "tags": []
   },
   "outputs": [],
   "source": [
    "#Generator\n",
    "gen3 = network.GeneratorWithSkipConnection(n_features+1).to(device)\n",
    "constraints=network.weightConstraint()\n",
    "#Discriminator \n",
    "disc3 = network.Discriminator(n_features+1).to(device)\n",
    "\n",
    "criterion = torch.nn.BCELoss()\n",
    "gen_opt = torch.optim.Adam(gen3.parameters(), lr=0.001, betas=(0.5, 0.999))\n",
    "disc_opt = torch.optim.Adam(disc3.parameters(), lr=0.001, betas=(0.5, 0.999))\n"
   ]
  },
  {
   "cell_type": "code",
   "execution_count": 16,
   "id": "26acbc37",
   "metadata": {
    "execution": {
     "iopub.execute_input": "2022-06-22T14:49:06.691472Z",
     "iopub.status.busy": "2022-06-22T14:49:06.690559Z",
     "iopub.status.idle": "2022-06-22T14:50:40.033617Z",
     "shell.execute_reply": "2022-06-22T14:50:40.033126Z"
    },
    "id": "26acbc37",
    "papermill": {
     "duration": 93.398891,
     "end_time": "2022-06-22T14:50:40.033794",
     "exception": false,
     "start_time": "2022-06-22T14:49:06.634903",
     "status": "completed"
    },
    "tags": []
   },
   "outputs": [
    {
     "data": {
      "image/png": "[encoded data removed]",
      "text/plain": [
       "<Figure size 432x288 with 1 Axes>"
      ]
     },
     "metadata": {
      "needs_background": "light"
     },
     "output_type": "display_data"
    },
    {
     "data": {
      "image/png": "[encoded data removed]",
      "text/plain": [
       "<Figure size 432x288 with 1 Axes>"
      ]
     },
     "metadata": {
      "needs_background": "light"
     },
     "output_type": "display_data"
    }
   ],
   "source": [
    "ABC_train_test2.training_GAN_skip_connection(disc3,gen3,disc_opt,gen_opt,train_data,batch_size,n_epochs,criterion,prior_model,variance,bias,device)"
   ]
  },
  {
   "cell_type": "code",
   "execution_count": 17,
   "id": "c5e0717b",
   "metadata": {
    "execution": {
     "iopub.execute_input": "2022-06-22T14:50:40.140682Z",
     "iopub.status.busy": "2022-06-22T14:50:40.139683Z",
     "iopub.status.idle": "2022-06-22T14:50:40.956191Z",
     "shell.execute_reply": "2022-06-22T14:50:40.956754Z"
    },
    "id": "c5e0717b",
    "papermill": {
     "duration": 0.879727,
     "end_time": "2022-06-22T14:50:40.956978",
     "exception": false,
     "start_time": "2022-06-22T14:50:40.077251",
     "status": "completed"
    },
    "tags": []
   },
   "outputs": [
    {
     "data": {
      "application/scrapbook.scrap.json+json": {
       "data": 0.28830359210112777,
       "encoder": "json",
       "name": "ABC-GAN Model 3 MSE",
       "version": 1
      }
     },
     "metadata": {
      "scrapbook": {
       "data": true,
       "display": false,
       "name": "ABC-GAN Model 3 MSE"
      }
     },
     "output_type": "display_data"
    },
    {
     "data": {
      "application/scrapbook.scrap.json+json": {
       "data": 0.4461552611961961,
       "encoder": "json",
       "name": "ABC-GAN Model 3 MAE",
       "version": 1
      }
     },
     "metadata": {
      "scrapbook": {
       "data": true,
       "display": false,
       "name": "ABC-GAN Model 3 MAE"
      }
     },
     "output_type": "display_data"
    },
    {
     "data": {
      "application/scrapbook.scrap.json+json": {
       "data": 8.92310522392392,
       "encoder": "json",
       "name": "ABC-GAN Model 3 Manhattan Distance",
       "version": 1
      }
     },
     "metadata": {
      "scrapbook": {
       "data": true,
       "display": false,
       "name": "ABC-GAN Model 3 Manhattan Distance"
      }
     },
     "output_type": "display_data"
    },
    {
     "data": {
      "application/scrapbook.scrap.json+json": {
       "data": 2.400146371703842,
       "encoder": "json",
       "name": "ABC-GAN Model 3 Euclidean distance",
       "version": 1
      }
     },
     "metadata": {
      "scrapbook": {
       "data": true,
       "display": false,
       "name": "ABC-GAN Model 3 Euclidean distance"
      }
     },
     "output_type": "display_data"
    },
    {
     "data": {
      "application/scrapbook.scrap.json+json": {
       "data": [
        [
         0.26588814488294843,
         0.28162733082802416,
         0.3302747628286622,
         0.29347303200681074,
         0.26554563656193425,
         0.3218731959768114,
         0.263960870146298,
         0.27477442548026393,
         0.27661975035675895,
         0.28221437276654415,
         0.3049434449428372,
         0.31086714705299057,
         0.2633210523227492,
         0.3125544651554134,
         0.29493257530675643,
         0.28634994740341385,
         0.26427063246692967,
         0.2924149497743129,
         0.2808681813935263,
         0.30063450132644187,
         0.29373571038182983,
         0.2895418847377457,
         0.282686097718355,
         0.30411545390288486,
         0.3197117128534163,
         0.28351296798274517,
         0.31330249925061804,
         0.2752245171619162,
         0.27039202925931993,
         0.3078216318081432,
         0.309578435625956,
         0.2795133258603927,
         0.2874900507090422,
         0.26081361500437195,
         0.29125081452983964,
         0.2857467151495655,
         0.2968914935702237,
         0.2678953860778463,
         0.3065054368980413,
         0.25898678537470066,
         0.29962793981659214,
         0.30436827826101764,
         0.28281368674668284,
         0.2752185988651686,
         0.30816962697414374,
         0.3365274289891301,
         0.2958992912205848,
         0.29419657586965653,
         0.29671584278589697,
         0.2771806869720205,
         0.30767583586267166,
         0.3065604030220361,
         0.2879359772211814,
         0.2721171633179601,
         0.28703193392420856,
         0.3132885272123893,
         0.2962742130503748,
         0.2794159813089041,
         0.27157424517893053,
         0.2972086231415386,
         0.2621301542608669,
         0.2687929003798664,
         0.29305219570435326,
         0.3127733236953427,
         0.2890397209202376,
         0.28513602805604477,
         0.2903879571527145,
         0.26361223865067773,
         0.2573380133095452,
         0.301859353742956,
         0.29349120947942875,
         0.3237212135012883,
         0.29847041623146603,
         0.3060918243245834,
         0.28158777070538205,
         0.30426328092753124,
         0.2899327911050464,
         0.3004271615102271,
         0.26829859518502397,
         0.2840427988181312,
         0.2935729323581073,
         0.2849749881473303,
         0.2815379338879699,
         0.2965776010188123,
         0.2599593228808325,
         0.30759632040713547,
         0.2859090164454826,
         0.25465476438698315,
         0.2834288490130249,
         0.2527688895083273,
         0.2903480513216309,
         0.2551806607956307,
         0.28568958866403793,
         0.2807011404758891,
         0.27727056716894444,
         0.2679481534366907,
         0.2777140861342738,
         0.2853907325537688,
         0.2977655089665785,
         0.29499531230214326
        ],
        [
         0.4432752676308155,
         0.45324890688061714,
         0.47962880954146386,
         0.4529217191040516,
         0.4341560430824757,
         0.4645527482032776,
         0.418026626855135,
         0.4310294382274151,
         0.4237896889448166,
         0.43992720171809196,
         0.4577979601919651,
         0.4528947353363037,
         0.4250479847192764,
         0.45856615975499154,
         0.44970161095261574,
         0.44515292420983316,
         0.43155707120895387,
         0.4516209505498409,
         0.44120774492621423,
         0.4487362697720528,
         0.45787952169775964,
         0.44435307905077936,
         0.43813636526465416,
         0.47306823655962943,
         0.463799037784338,
         0.4630000598728657,
         0.4749836854636669,
         0.4289240263402462,
         0.43657459542155264,
         0.4457037642598152,
         0.465333216637373,
         0.4368235655128956,
         0.446129434555769,
         0.42557443901896475,
         0.46012740656733514,
         0.4484935857355595,
         0.450810956209898,
         0.42701525762677195,
         0.4517148233950138,
         0.4272639401257038,
         0.4556701250374317,
         0.47154667899012565,
         0.44457305148243903,
         0.4355368487536907,
         0.46003163084387777,
         0.4828579567372799,
         0.44797932878136637,
         0.46292055323719977,
         0.4549772895872593,
         0.436986568570137,
         0.4577902488410473,
         0.4541131280362606,
         0.4353920973837376,
         0.44305753484368327,
         0.4384254187345505,
         0.4744135789573193,
         0.4470892198383808,
         0.43639114424586295,
         0.41931313574314116,
         0.44046157523989676,
         0.41827772185206413,
         0.4260379187762737,
         0.4515438683331013,
         0.4677817799150944,
         0.45152496472001075,
         0.442443685978651,
         0.4579009644687176,
         0.41821545287966727,
         0.421920732408762,
         0.4526073269546032,
         0.46174757853150367,
         0.4642440937459469,
         0.45185976549983026,
         0.45607692673802375,
         0.44829642996191976,
         0.45010590851306914,
         0.451762168854475,
         0.45062432810664177,
         0.4285712011158466,
         0.44840553775429726,
         0.4415552467107773,
         0.45267989709973333,
         0.443606711179018,
         0.4535365603864193,
         0.4217000432312489,
         0.45678531005978584,
         0.43368694707751276,
         0.4268330357968807,
         0.44203956350684165,
         0.4221995182335377,
         0.45577565059065817,
         0.4256613329052925,
         0.44937106445431707,
         0.43608649596571925,
         0.43248632922768593,
         0.43939812406897544,
         0.43837451860308646,
         0.44623789712786677,
         0.4632244981825352,
         0.4462630473077297
        ],
        [
         8.86550535261631,
         9.064978137612343,
         9.592576190829277,
         9.058434382081032,
         8.683120861649513,
         9.291054964065552,
         8.3605325371027,
         8.620588764548302,
         8.475793778896332,
         8.79854403436184,
         9.155959203839302,
         9.057894706726074,
         8.500959694385529,
         9.17132319509983,
         8.994032219052315,
         8.903058484196663,
         8.631141424179077,
         9.032419010996819,
         8.824154898524284,
         8.974725395441055,
         9.157590433955193,
         8.887061581015587,
         8.762727305293083,
         9.461364731192589,
         9.27598075568676,
         9.260001197457314,
         9.499673709273338,
         8.578480526804924,
         8.731491908431053,
         8.914075285196304,
         9.30666433274746,
         8.736471310257912,
         8.92258869111538,
         8.511488780379295,
         9.202548131346703,
         8.96987171471119,
         9.01621912419796,
         8.540305152535439,
         9.034296467900276,
         8.545278802514076,
         9.113402500748634,
         9.430933579802513,
         8.89146102964878,
         8.710736975073814,
         9.200632616877556,
         9.657159134745598,
         8.959586575627327,
         9.258411064743996,
         9.099545791745186,
         8.73973137140274,
         9.155804976820946,
         9.082262560725212,
         8.707841947674751,
         8.861150696873665,
         8.76850837469101,
         9.488271579146385,
         8.941784396767616,
         8.72782288491726,
         8.386262714862823,
         8.809231504797935,
         8.365554437041283,
         8.520758375525475,
         9.030877366662025,
         9.355635598301888,
         9.030499294400215,
         8.848873719573021,
         9.158019289374352,
         8.364309057593346,
         8.43841464817524,
         9.052146539092064,
         9.234951570630074,
         9.284881874918938,
         9.037195309996605,
         9.121538534760475,
         8.965928599238396,
         9.002118170261383,
         9.0352433770895,
         9.012486562132835,
         8.571424022316933,
         8.968110755085945,
         8.831104934215546,
         9.053597941994667,
         8.87213422358036,
         9.070731207728386,
         8.434000864624977,
         9.135706201195717,
         8.673738941550255,
         8.536660715937614,
         8.840791270136833,
         8.443990364670753,
         9.115513011813164,
         8.51322665810585,
         8.987421289086342,
         8.721729919314384,
         8.649726584553719,
         8.787962481379509,
         8.76749037206173,
         8.924757942557335,
         9.264489963650703,
         8.925260946154594
        ],
        [
         2.306027514506054,
         2.3732986783294856,
         2.570115806062685,
         2.4226969765400326,
         2.3045417616608046,
         2.537215781035627,
         2.297654761474395,
         2.3442458296017676,
         2.3521043784524482,
         2.3757709181086635,
         2.469588811696543,
         2.4934600339808557,
         2.294868415934775,
         2.5002178511298307,
         2.428713961366206,
         2.393114904902871,
         2.299002533565066,
         2.4183256595186386,
         2.370097809768729,
         2.4520787154022683,
         2.423780973528053,
         2.4064159438374144,
         2.3777556548912044,
         2.466233784144905,
         2.528682316359318,
         2.38123063974385,
         2.503207938828167,
         2.346165028986308,
         2.3254764211202827,
         2.4812159591947784,
         2.488286300351935,
         2.364374445219677,
         2.3978742698859015,
         2.283916001101494,
         2.4135070521125046,
         2.3905928768804006,
         2.436766273446117,
         2.314715473132049,
         2.475905639954969,
         2.2759032728773896,
         2.4479703422083863,
         2.467258714691338,
         2.37829218872149,
         2.346139803443813,
         2.482618081679676,
         2.5943300830431353,
         2.4326910663731423,
         2.425681660357173,
         2.4360453312116217,
         2.3544879994258645,
         2.4806282908274335,
         2.4761276341175793,
         2.3997332235945787,
         2.3328830374365537,
         2.3959629960590316,
         2.503152121675346,
         2.4342317599208783,
         2.363962695597814,
         2.3305546343260457,
         2.4380673622422275,
         2.289673139384165,
         2.3185896591672552,
         2.420959296247474,
         2.5010930558271625,
         2.404328267605061,
         2.3880369681227496,
         2.40992928175378,
         2.296136923838288,
         2.26864723264568,
         2.457068797339448,
         2.4227720052841484,
         2.5444889997847833,
         2.44323726326964,
         2.4742345253616658,
         2.3731319841314433,
         2.466833115261473,
         2.4080398298410532,
         2.451233002022562,
         2.3164567562768097,
         2.3834546306490973,
         2.4231092932763363,
         2.387362511841594,
         2.372921970432108,
         2.435477780719062,
         2.2801724622529433,
         2.4803077244855545,
         2.3912716970076096,
         2.256788711363929,
         2.380877355148832,
         2.248416729649232,
         2.409763686844131,
         2.259117795935531,
         2.39035390126248,
         2.3693929200362236,
         2.354869708365813,
         2.3149434266810527,
         2.356752367705499,
         2.3891033152786374,
         2.440350421421393,
         2.4289722612748927
        ]
       ],
       "encoder": "json",
       "name": "ABC_GAN_3 Metrics",
       "version": 1
      }
     },
     "metadata": {
      "scrapbook": {
       "data": true,
       "display": false,
       "name": "ABC_GAN_3 Metrics"
      }
     },
     "output_type": "display_data"
    },
    {
     "name": "stdout",
     "output_type": "stream",
     "text": [
      "MSE\n",
      "0.28830359210112777\n"
     ]
    }
   ],
   "source": [
    "ABC_GAN3_metrics=ABC_train_test2.test_generator(gen3,test_data,prior_model,variance,bias,\"3\",device)\n",
    "sb.glue(\"ABC_GAN_3 Metrics\",ABC_GAN3_metrics)\n",
    "\n",
    "print(\"MSE\")\n",
    "print(mean(ABC_GAN3_metrics[0]))"
   ]
  },
  {
   "cell_type": "code",
   "execution_count": 18,
   "id": "c8e46b48",
   "metadata": {
    "execution": {
     "iopub.execute_input": "2022-06-22T14:50:41.062886Z",
     "iopub.status.busy": "2022-06-22T14:50:41.062053Z",
     "iopub.status.idle": "2022-06-22T14:50:41.764038Z",
     "shell.execute_reply": "2022-06-22T14:50:41.764759Z"
    },
    "id": "c8e46b48",
    "papermill": {
     "duration": 0.762968,
     "end_time": "2022-06-22T14:50:41.764978",
     "exception": false,
     "start_time": "2022-06-22T14:50:41.002010",
     "status": "completed"
    },
    "tags": []
   },
   "outputs": [
    {
     "data": {
      "image/png": "[encoded data removed]",
      "text/plain": [
       "<Figure size 432x288 with 1 Axes>"
      ]
     },
     "metadata": {
      "needs_background": "light"
     },
     "output_type": "display_data"
    },
    {
     "data": {
      "image/png": "[encoded data removed]",
      "text/plain": [
       "<Figure size 432x288 with 1 Axes>"
      ]
     },
     "metadata": {
      "needs_background": "light"
     },
     "output_type": "display_data"
    },
    {
     "data": {
      "image/png": "[encoded data removed]",
      "text/plain": [
       "<Figure size 432x288 with 1 Axes>"
      ]
     },
     "metadata": {
      "needs_background": "light"
     },
     "output_type": "display_data"
    },
    {
     "data": {
      "image/png": "[encoded data removed]",
      "text/plain": [
       "<Figure size 432x288 with 1 Axes>"
      ]
     },
     "metadata": {
      "needs_background": "light"
     },
     "output_type": "display_data"
    }
   ],
   "source": [
    "sanityChecks.discProbVsError(train_data,disc3,device)\n",
    "sanityChecks.discProbVsError(test_data,disc3,device)"
   ]
  },
  {
   "cell_type": "markdown",
   "id": "a5bd74c3",
   "metadata": {
    "id": "a5bd74c3",
    "papermill": {
     "duration": 0.061876,
     "end_time": "2022-06-22T14:50:41.875321",
     "exception": false,
     "start_time": "2022-06-22T14:50:41.813445",
     "status": "completed"
    },
    "tags": []
   },
   "source": [
    "## Skip Connection Model Analysis - ABC-GAN "
   ]
  },
  {
   "cell_type": "markdown",
   "id": "5744a8bf",
   "metadata": {
    "id": "5744a8bf",
    "papermill": {
     "duration": 0.053823,
     "end_time": "2022-06-22T14:50:41.976352",
     "exception": false,
     "start_time": "2022-06-22T14:50:41.922529",
     "status": "completed"
    },
    "tags": []
   },
   "source": [
    "### Weight Analysis \n",
    "\n",
    "Study the weights of the skip connection layer\n",
    "\n",
    "Equation of the skip connection is \n",
    "\n",
    "$output = y_{gan} * w + y_{abc} * (1-w)$"
   ]
  },
  {
   "cell_type": "code",
   "execution_count": 19,
   "id": "52c31dea",
   "metadata": {
    "execution": {
     "iopub.execute_input": "2022-06-22T14:50:42.088333Z",
     "iopub.status.busy": "2022-06-22T14:50:42.087655Z",
     "iopub.status.idle": "2022-06-22T14:50:42.094371Z",
     "shell.execute_reply": "2022-06-22T14:50:42.094888Z"
    },
    "id": "52c31dea",
    "papermill": {
     "duration": 0.066579,
     "end_time": "2022-06-22T14:50:42.095217",
     "exception": false,
     "start_time": "2022-06-22T14:50:42.028638",
     "status": "completed"
    },
    "tags": []
   },
   "outputs": [
    {
     "name": "stdout",
     "output_type": "stream",
     "text": [
      "Weight of the node at skip connection\n",
      "Parameter containing:\n",
      "tensor([[0.1154]], requires_grad=True)\n"
     ]
    },
    {
     "data": {
      "application/scrapbook.scrap.json+json": {
       "data": 0.11543553322553635,
       "encoder": "json",
       "name": "Skip Connection Weight",
       "version": 1
      }
     },
     "metadata": {
      "scrapbook": {
       "data": true,
       "display": false,
       "name": "Skip Connection Weight"
      }
     },
     "output_type": "display_data"
    }
   ],
   "source": [
    "print(\"Weight of the node at skip connection\")\n",
    "for name,param in gen3.named_parameters():\n",
    "    if(name == \"skipNode.weight\"):\n",
    "        print(param)\n",
    "        sb.glue(\"Skip Connection Weight\",param.item())"
   ]
  }
 ],
 "metadata": {
  "colab": {
   "collapsed_sections": [],
   "name": "ABC_GAN_Model-Catboost_Pre-gen.ipynb",
   "provenance": []
  },
  "interpreter": {
   "hash": "31f2aee4e71d21fbe5cf8b01ff0e069b9275f58929596ceb00d14d90e3e16cd6"
  },
  "kernelspec": {
   "display_name": "Python 3 (ipykernel)",
   "language": "python",
   "name": "python3"
  },
  "language_info": {
   "codemirror_mode": {
    "name": "ipython",
    "version": 3
   },
   "file_extension": ".py",
   "mimetype": "text/x-python",
   "name": "python",
   "nbconvert_exporter": "python",
   "pygments_lexer": "ipython3",
   "version": "3.8.3"
  },
  "papermill": {
   "default_parameters": {},
   "duration": 183.323278,
   "end_time": "2022-06-22T14:50:43.701862",
   "environment_variables": {},
   "exception": null,
   "input_path": "ABC_GAN-TabNet.ipynb",
   "output_path": "./ABC_GAN_TabNet/ABC-GAN_output_7_1.ipynb",
   "parameters": {
    "bias": 1,
    "variance": 0.1
   },
   "start_time": "2022-06-22T14:47:40.378584",
   "version": "2.3.3"
  }
 },
 "nbformat": 4,
 "nbformat_minor": 5
}