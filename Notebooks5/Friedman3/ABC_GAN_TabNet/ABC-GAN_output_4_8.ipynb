{
 "cells": [
  {
   "cell_type": "markdown",
   "id": "622780e6",
   "metadata": {
    "id": "622780e6",
    "papermill": {
     "duration": 0.060951,
     "end_time": "2022-06-22T13:19:05.198487",
     "exception": false,
     "start_time": "2022-06-22T13:19:05.137536",
     "status": "completed"
    },
    "tags": []
   },
   "source": [
    "## Import Libraries "
   ]
  },
  {
   "cell_type": "code",
   "execution_count": 1,
   "id": "a62397e3",
   "metadata": {
    "execution": {
     "iopub.execute_input": "2022-06-22T13:19:05.268247Z",
     "iopub.status.busy": "2022-06-22T13:19:05.267029Z",
     "iopub.status.idle": "2022-06-22T13:19:05.269765Z",
     "shell.execute_reply": "2022-06-22T13:19:05.270593Z"
    },
    "id": "a62397e3",
    "papermill": {
     "duration": 0.046086,
     "end_time": "2022-06-22T13:19:05.271583",
     "exception": false,
     "start_time": "2022-06-22T13:19:05.225497",
     "status": "completed"
    },
    "tags": []
   },
   "outputs": [],
   "source": [
    "import warnings\n",
    "import sys\n",
    "sys.path.insert(0, '../../src')\n",
    "warnings.filterwarnings('ignore')"
   ]
  },
  {
   "cell_type": "code",
   "execution_count": 2,
   "id": "d6a4e155",
   "metadata": {
    "execution": {
     "iopub.execute_input": "2022-06-22T13:19:05.324224Z",
     "iopub.status.busy": "2022-06-22T13:19:05.322303Z",
     "iopub.status.idle": "2022-06-22T13:19:11.590896Z",
     "shell.execute_reply": "2022-06-22T13:19:11.591462Z"
    },
    "id": "d6a4e155",
    "papermill": {
     "duration": 6.297307,
     "end_time": "2022-06-22T13:19:11.591784",
     "exception": false,
     "start_time": "2022-06-22T13:19:05.294477",
     "status": "completed"
    },
    "tags": []
   },
   "outputs": [],
   "source": [
    "import ABC_train_test2\n",
    "import friedman3Dataset\n",
    "import network\n",
    "import dataset\n",
    "import sanityChecks\n",
    "import torch \n",
    "import scrapbook as sb\n",
    "from statistics import mean \n",
    "import catboost as ctb \n",
    "from sklearn.model_selection import train_test_split\n",
    "from sklearn.metrics import mean_squared_error,mean_absolute_error\n",
    "import numpy as np\n",
    "from pytorch_tabnet.tab_model import TabNetRegressor"
   ]
  },
  {
   "cell_type": "markdown",
   "id": "2fa5b0f7",
   "metadata": {
    "id": "2fa5b0f7",
    "papermill": {
     "duration": 0.027828,
     "end_time": "2022-06-22T13:19:11.637939",
     "exception": false,
     "start_time": "2022-06-22T13:19:11.610111",
     "status": "completed"
    },
    "tags": []
   },
   "source": [
    "## Parameters "
   ]
  },
  {
   "cell_type": "code",
   "execution_count": 3,
   "id": "783186fb",
   "metadata": {
    "execution": {
     "iopub.execute_input": "2022-06-22T13:19:11.680607Z",
     "iopub.status.busy": "2022-06-22T13:19:11.679786Z",
     "iopub.status.idle": "2022-06-22T13:19:11.683250Z",
     "shell.execute_reply": "2022-06-22T13:19:11.684197Z"
    },
    "id": "783186fb",
    "papermill": {
     "duration": 0.026948,
     "end_time": "2022-06-22T13:19:11.684526",
     "exception": false,
     "start_time": "2022-06-22T13:19:11.657578",
     "status": "completed"
    },
    "tags": [
     "parameters"
    ]
   },
   "outputs": [],
   "source": [
    "variance = 1\n",
    "bias = 1 "
   ]
  },
  {
   "cell_type": "code",
   "execution_count": 4,
   "id": "b76e6822",
   "metadata": {
    "execution": {
     "iopub.execute_input": "2022-06-22T13:19:11.727919Z",
     "iopub.status.busy": "2022-06-22T13:19:11.726482Z",
     "iopub.status.idle": "2022-06-22T13:19:11.728651Z",
     "shell.execute_reply": "2022-06-22T13:19:11.727361Z"
    },
    "papermill": {
     "duration": 0.026882,
     "end_time": "2022-06-22T13:19:11.729004",
     "exception": false,
     "start_time": "2022-06-22T13:19:11.702122",
     "status": "completed"
    },
    "tags": [
     "injected-parameters"
    ]
   },
   "outputs": [],
   "source": [
    "# Parameters\n",
    "variance = 0.01\n",
    "bias = 0.01\n"
   ]
  },
  {
   "cell_type": "markdown",
   "id": "391cdbfd",
   "metadata": {
    "id": "391cdbfd",
    "papermill": {
     "duration": 0.029489,
     "end_time": "2022-06-22T13:19:11.777189",
     "exception": false,
     "start_time": "2022-06-22T13:19:11.747700",
     "status": "completed"
    },
    "tags": []
   },
   "source": [
    "## Dataset \n"
   ]
  },
  {
   "cell_type": "code",
   "execution_count": 5,
   "id": "5b51f161",
   "metadata": {
    "execution": {
     "iopub.execute_input": "2022-06-22T13:19:11.814521Z",
     "iopub.status.busy": "2022-06-22T13:19:11.813760Z",
     "iopub.status.idle": "2022-06-22T13:19:11.817509Z",
     "shell.execute_reply": "2022-06-22T13:19:11.818327Z"
    },
    "id": "5b51f161",
    "papermill": {
     "duration": 0.024815,
     "end_time": "2022-06-22T13:19:11.818558",
     "exception": false,
     "start_time": "2022-06-22T13:19:11.793743",
     "status": "completed"
    },
    "tags": []
   },
   "outputs": [],
   "source": [
    "#Parameters \n",
    "n_features = 4\n",
    "n_samples= 100\n",
    "n_target = 1"
   ]
  },
  {
   "cell_type": "code",
   "execution_count": 6,
   "id": "5d6eced4",
   "metadata": {
    "execution": {
     "iopub.execute_input": "2022-06-22T13:19:11.860347Z",
     "iopub.status.busy": "2022-06-22T13:19:11.859286Z",
     "iopub.status.idle": "2022-06-22T13:19:11.872367Z",
     "shell.execute_reply": "2022-06-22T13:19:11.872913Z"
    },
    "id": "5d6eced4",
    "papermill": {
     "duration": 0.036376,
     "end_time": "2022-06-22T13:19:11.873144",
     "exception": false,
     "start_time": "2022-06-22T13:19:11.836768",
     "status": "completed"
    },
    "tags": []
   },
   "outputs": [
    {
     "name": "stdout",
     "output_type": "stream",
     "text": [
      "          X1           X2        X3         X4         Y\n",
      "0   2.463374   256.978219  0.022526   9.941185  1.235284\n",
      "1  56.761927  1177.193144  0.190094   7.264038  1.139191\n",
      "2  26.730719   231.355401  0.407072   8.926825  1.336643\n",
      "3  73.265030   836.818706  0.690249   2.868784  1.523258\n",
      "4  62.078592   665.438905  0.105518  10.709657  0.788513\n"
     ]
    }
   ],
   "source": [
    "X,Y = friedman3Dataset.friedman3_data(n_samples)"
   ]
  },
  {
   "cell_type": "code",
   "execution_count": 7,
   "id": "fe007438",
   "metadata": {
    "execution": {
     "iopub.execute_input": "2022-06-22T13:19:11.921181Z",
     "iopub.status.busy": "2022-06-22T13:19:11.918505Z",
     "iopub.status.idle": "2022-06-22T13:19:11.922473Z",
     "shell.execute_reply": "2022-06-22T13:19:11.923189Z"
    },
    "id": "fe007438",
    "papermill": {
     "duration": 0.033922,
     "end_time": "2022-06-22T13:19:11.923597",
     "exception": false,
     "start_time": "2022-06-22T13:19:11.889675",
     "status": "completed"
    },
    "tags": []
   },
   "outputs": [],
   "source": [
    "#Train test split for dataset \n",
    "X_train,X_test,Y_train,Y_test = train_test_split(X,Y,test_size = 0.2)\n",
    "train_data = dataset.CustomDataset(X_train,Y_train)\n",
    "test_data = dataset.CustomDataset(X_test,Y_test)\n"
   ]
  },
  {
   "cell_type": "markdown",
   "id": "a9a1af34",
   "metadata": {
    "id": "a9a1af34",
    "papermill": {
     "duration": 0.019761,
     "end_time": "2022-06-22T13:19:11.965636",
     "exception": false,
     "start_time": "2022-06-22T13:19:11.945875",
     "status": "completed"
    },
    "tags": []
   },
   "source": [
    "## Training Parameters "
   ]
  },
  {
   "cell_type": "code",
   "execution_count": 8,
   "id": "952b7fc8",
   "metadata": {
    "execution": {
     "iopub.execute_input": "2022-06-22T13:19:12.006163Z",
     "iopub.status.busy": "2022-06-22T13:19:12.004658Z",
     "iopub.status.idle": "2022-06-22T13:19:12.007196Z",
     "shell.execute_reply": "2022-06-22T13:19:12.007693Z"
    },
    "id": "952b7fc8",
    "papermill": {
     "duration": 0.0262,
     "end_time": "2022-06-22T13:19:12.008186",
     "exception": false,
     "start_time": "2022-06-22T13:19:11.981986",
     "status": "completed"
    },
    "tags": []
   },
   "outputs": [],
   "source": [
    "batch_size = 32\n",
    "n_epochs = 1000\n",
    "#Select the device \n",
    "device = torch.device('cuda' if torch.cuda.is_available() else 'cpu')"
   ]
  },
  {
   "cell_type": "markdown",
   "id": "a95e1600",
   "metadata": {
    "id": "a95e1600",
    "papermill": {
     "duration": 0.025133,
     "end_time": "2022-06-22T13:19:12.051445",
     "exception": false,
     "start_time": "2022-06-22T13:19:12.026312",
     "status": "completed"
    },
    "tags": []
   },
   "source": [
    "# ABC Pre-generator Model \n",
    "\n",
    "1. The catboost model is used as a pre-generator model for the ABC-GAN. \n",
    "2. The model is first trained on the entire dataset \n",
    "3. It generats X,Y pairs and we add some Gaussian noise with mean 0 and variance 1 to it which is then feed as input to the generator.\n"
   ]
  },
  {
   "cell_type": "code",
   "execution_count": 9,
   "id": "ff8ce7bd",
   "metadata": {
    "execution": {
     "iopub.execute_input": "2022-06-22T13:19:12.100398Z",
     "iopub.status.busy": "2022-06-22T13:19:12.099573Z",
     "iopub.status.idle": "2022-06-22T13:19:30.109691Z",
     "shell.execute_reply": "2022-06-22T13:19:30.110347Z"
    },
    "id": "ff8ce7bd",
    "papermill": {
     "duration": 18.039423,
     "end_time": "2022-06-22T13:19:30.110594",
     "exception": false,
     "start_time": "2022-06-22T13:19:12.071171",
     "status": "completed"
    },
    "tags": []
   },
   "outputs": [
    {
     "name": "stdout",
     "output_type": "stream",
     "text": [
      "Device used : cpu\n"
     ]
    },
    {
     "name": "stdout",
     "output_type": "stream",
     "text": [
      "epoch 0  | loss: 0.85439 | train_mse: 4.77622 | train_mae: 1.53745 |  0:00:00s\n",
      "epoch 1  | loss: 0.58847 | train_mse: 4.38631 | train_mae: 1.56675 |  0:00:00s\n",
      "epoch 2  | loss: 0.7924  | train_mse: 2.09843 | train_mae: 1.1318  |  0:00:00s\n"
     ]
    },
    {
     "name": "stdout",
     "output_type": "stream",
     "text": [
      "epoch 3  | loss: 0.71064 | train_mse: 1.5115  | train_mae: 0.95193 |  0:00:00s\n",
      "epoch 4  | loss: 0.28443 | train_mse: 1.56078 | train_mae: 0.88873 |  0:00:00s\n",
      "epoch 5  | loss: 0.38244 | train_mse: 2.20992 | train_mae: 1.02651 |  0:00:00s\n"
     ]
    },
    {
     "name": "stdout",
     "output_type": "stream",
     "text": [
      "epoch 6  | loss: 0.55965 | train_mse: 1.91201 | train_mae: 0.96693 |  0:00:00s\n",
      "epoch 7  | loss: 0.54825 | train_mse: 1.04056 | train_mae: 0.76093 |  0:00:00s\n"
     ]
    },
    {
     "name": "stdout",
     "output_type": "stream",
     "text": [
      "epoch 8  | loss: 0.32904 | train_mse: 0.65699 | train_mae: 0.62413 |  0:00:01s\n",
      "epoch 9  | loss: 0.28501 | train_mse: 0.56597 | train_mae: 0.60535 |  0:00:01s\n"
     ]
    },
    {
     "name": "stdout",
     "output_type": "stream",
     "text": [
      "epoch 10 | loss: 0.24561 | train_mse: 0.54874 | train_mae: 0.57517 |  0:00:01s\n",
      "epoch 11 | loss: 0.35929 | train_mse: 0.62171 | train_mae: 0.60574 |  0:00:01s\n"
     ]
    },
    {
     "name": "stdout",
     "output_type": "stream",
     "text": [
      "epoch 12 | loss: 0.21949 | train_mse: 0.62109 | train_mae: 0.60442 |  0:00:01s\n",
      "epoch 13 | loss: 0.25269 | train_mse: 0.59137 | train_mae: 0.58073 |  0:00:01s\n"
     ]
    },
    {
     "name": "stdout",
     "output_type": "stream",
     "text": [
      "epoch 14 | loss: 0.23505 | train_mse: 0.50418 | train_mae: 0.55248 |  0:00:01s\n",
      "epoch 15 | loss: 0.21849 | train_mse: 0.3553  | train_mae: 0.46826 |  0:00:01s\n",
      "epoch 16 | loss: 0.22887 | train_mse: 0.27183 | train_mae: 0.40051 |  0:00:01s\n"
     ]
    },
    {
     "name": "stdout",
     "output_type": "stream",
     "text": [
      "epoch 17 | loss: 0.27721 | train_mse: 0.27384 | train_mae: 0.41268 |  0:00:02s\n",
      "epoch 18 | loss: 0.34994 | train_mse: 0.25269 | train_mae: 0.4016  |  0:00:02s\n",
      "epoch 19 | loss: 0.18359 | train_mse: 0.23409 | train_mae: 0.38244 |  0:00:02s\n"
     ]
    },
    {
     "name": "stdout",
     "output_type": "stream",
     "text": [
      "epoch 20 | loss: 0.18581 | train_mse: 0.20524 | train_mae: 0.35756 |  0:00:02s\n",
      "epoch 21 | loss: 0.16812 | train_mse: 0.16999 | train_mae: 0.32211 |  0:00:02s\n",
      "epoch 22 | loss: 0.17897 | train_mse: 0.20351 | train_mae: 0.34987 |  0:00:02s\n"
     ]
    },
    {
     "name": "stdout",
     "output_type": "stream",
     "text": [
      "epoch 23 | loss: 0.29073 | train_mse: 0.21737 | train_mae: 0.36467 |  0:00:02s\n",
      "epoch 24 | loss: 0.2148  | train_mse: 0.22996 | train_mae: 0.34402 |  0:00:02s\n",
      "epoch 25 | loss: 0.33044 | train_mse: 0.15826 | train_mae: 0.30196 |  0:00:02s\n"
     ]
    },
    {
     "name": "stdout",
     "output_type": "stream",
     "text": [
      "epoch 26 | loss: 0.13208 | train_mse: 0.21548 | train_mae: 0.34138 |  0:00:02s\n",
      "epoch 27 | loss: 0.1429  | train_mse: 0.20284 | train_mae: 0.32626 |  0:00:02s\n",
      "epoch 28 | loss: 0.12889 | train_mse: 0.17966 | train_mae: 0.3063  |  0:00:03s\n"
     ]
    },
    {
     "name": "stdout",
     "output_type": "stream",
     "text": [
      "epoch 29 | loss: 0.14617 | train_mse: 0.16131 | train_mae: 0.29291 |  0:00:03s\n",
      "epoch 30 | loss: 0.17547 | train_mse: 0.13207 | train_mae: 0.26776 |  0:00:03s\n"
     ]
    },
    {
     "name": "stdout",
     "output_type": "stream",
     "text": [
      "epoch 31 | loss: 0.11932 | train_mse: 0.09966 | train_mae: 0.24052 |  0:00:03s\n",
      "epoch 32 | loss: 0.16852 | train_mse: 0.10276 | train_mae: 0.24522 |  0:00:03s\n",
      "epoch 33 | loss: 0.34497 | train_mse: 0.19536 | train_mae: 0.31466 |  0:00:03s\n"
     ]
    },
    {
     "name": "stdout",
     "output_type": "stream",
     "text": [
      "epoch 34 | loss: 0.22104 | train_mse: 0.25008 | train_mae: 0.34475 |  0:00:03s\n",
      "epoch 35 | loss: 0.11981 | train_mse: 0.21507 | train_mae: 0.31814 |  0:00:03s\n",
      "epoch 36 | loss: 0.10838 | train_mse: 0.15729 | train_mae: 0.28993 |  0:00:03s\n"
     ]
    },
    {
     "name": "stdout",
     "output_type": "stream",
     "text": [
      "epoch 37 | loss: 0.09168 | train_mse: 0.16766 | train_mae: 0.29912 |  0:00:03s\n",
      "epoch 38 | loss: 0.19488 | train_mse: 0.23249 | train_mae: 0.35711 |  0:00:03s\n",
      "epoch 39 | loss: 0.10985 | train_mse: 0.19423 | train_mae: 0.33768 |  0:00:03s\n"
     ]
    },
    {
     "name": "stdout",
     "output_type": "stream",
     "text": [
      "epoch 40 | loss: 0.09227 | train_mse: 0.19543 | train_mae: 0.34413 |  0:00:04s\n",
      "epoch 41 | loss: 0.12081 | train_mse: 0.21202 | train_mae: 0.34736 |  0:00:04s\n",
      "epoch 42 | loss: 0.16096 | train_mse: 0.21147 | train_mae: 0.3321  |  0:00:04s\n"
     ]
    },
    {
     "name": "stdout",
     "output_type": "stream",
     "text": [
      "epoch 43 | loss: 0.1172  | train_mse: 0.13794 | train_mae: 0.26842 |  0:00:04s\n",
      "epoch 44 | loss: 0.18354 | train_mse: 0.368   | train_mae: 0.40503 |  0:00:04s\n",
      "epoch 45 | loss: 0.14538 | train_mse: 0.27294 | train_mae: 0.3569  |  0:00:04s\n"
     ]
    },
    {
     "name": "stdout",
     "output_type": "stream",
     "text": [
      "epoch 46 | loss: 0.12125 | train_mse: 0.14395 | train_mae: 0.27872 |  0:00:04s\n",
      "epoch 47 | loss: 0.15514 | train_mse: 0.11952 | train_mae: 0.25797 |  0:00:04s\n",
      "epoch 48 | loss: 0.14608 | train_mse: 0.14026 | train_mae: 0.28334 |  0:00:04s\n"
     ]
    },
    {
     "name": "stdout",
     "output_type": "stream",
     "text": [
      "epoch 49 | loss: 0.13924 | train_mse: 0.11795 | train_mae: 0.2666  |  0:00:04s\n",
      "epoch 50 | loss: 0.17296 | train_mse: 0.12718 | train_mae: 0.27496 |  0:00:04s\n",
      "epoch 51 | loss: 0.32729 | train_mse: 0.09995 | train_mae: 0.23604 |  0:00:05s\n"
     ]
    },
    {
     "name": "stdout",
     "output_type": "stream",
     "text": [
      "epoch 52 | loss: 0.19525 | train_mse: 0.10894 | train_mae: 0.24816 |  0:00:05s\n",
      "epoch 53 | loss: 0.23871 | train_mse: 0.07816 | train_mae: 0.21489 |  0:00:05s\n"
     ]
    },
    {
     "name": "stdout",
     "output_type": "stream",
     "text": [
      "epoch 54 | loss: 0.20867 | train_mse: 0.11164 | train_mae: 0.26977 |  0:00:05s\n",
      "epoch 55 | loss: 0.13354 | train_mse: 0.14023 | train_mae: 0.29487 |  0:00:05s\n",
      "epoch 56 | loss: 0.17379 | train_mse: 0.09347 | train_mae: 0.24912 |  0:00:05s\n"
     ]
    },
    {
     "name": "stdout",
     "output_type": "stream",
     "text": [
      "epoch 57 | loss: 0.13696 | train_mse: 0.0908  | train_mae: 0.23501 |  0:00:05s\n",
      "epoch 58 | loss: 0.1278  | train_mse: 0.08826 | train_mae: 0.2213  |  0:00:05s\n",
      "epoch 59 | loss: 0.18226 | train_mse: 0.11669 | train_mae: 0.26191 |  0:00:05s\n"
     ]
    },
    {
     "name": "stdout",
     "output_type": "stream",
     "text": [
      "epoch 60 | loss: 0.08622 | train_mse: 0.0774  | train_mae: 0.21526 |  0:00:05s\n",
      "epoch 61 | loss: 0.12708 | train_mse: 0.06123 | train_mae: 0.18421 |  0:00:05s\n",
      "epoch 62 | loss: 0.15399 | train_mse: 0.07319 | train_mae: 0.21003 |  0:00:06s\n"
     ]
    },
    {
     "name": "stdout",
     "output_type": "stream",
     "text": [
      "epoch 63 | loss: 0.1424  | train_mse: 0.06878 | train_mae: 0.20577 |  0:00:06s\n",
      "epoch 64 | loss: 0.07769 | train_mse: 0.08213 | train_mae: 0.22085 |  0:00:06s\n"
     ]
    },
    {
     "name": "stdout",
     "output_type": "stream",
     "text": [
      "epoch 65 | loss: 0.08785 | train_mse: 0.08721 | train_mae: 0.23205 |  0:00:06s\n",
      "epoch 66 | loss: 0.14011 | train_mse: 0.07323 | train_mae: 0.21716 |  0:00:06s\n",
      "epoch 67 | loss: 0.07264 | train_mse: 0.05966 | train_mae: 0.18807 |  0:00:06s\n"
     ]
    },
    {
     "name": "stdout",
     "output_type": "stream",
     "text": [
      "epoch 68 | loss: 0.07825 | train_mse: 0.05541 | train_mae: 0.17982 |  0:00:06s\n",
      "epoch 69 | loss: 0.06536 | train_mse: 0.06265 | train_mae: 0.19463 |  0:00:06s\n",
      "epoch 70 | loss: 0.08615 | train_mse: 0.06458 | train_mae: 0.19912 |  0:00:06s\n"
     ]
    },
    {
     "name": "stdout",
     "output_type": "stream",
     "text": [
      "epoch 71 | loss: 0.15434 | train_mse: 0.0648  | train_mae: 0.19972 |  0:00:06s\n",
      "epoch 72 | loss: 0.1284  | train_mse: 0.06484 | train_mae: 0.20398 |  0:00:06s\n",
      "epoch 73 | loss: 0.11824 | train_mse: 0.08042 | train_mae: 0.21133 |  0:00:07s\n"
     ]
    },
    {
     "name": "stdout",
     "output_type": "stream",
     "text": [
      "epoch 74 | loss: 0.06766 | train_mse: 0.1177  | train_mae: 0.23784 |  0:00:07s\n",
      "epoch 75 | loss: 0.09657 | train_mse: 0.11827 | train_mae: 0.2397  |  0:00:07s\n"
     ]
    },
    {
     "name": "stdout",
     "output_type": "stream",
     "text": [
      "epoch 76 | loss: 0.10078 | train_mse: 0.09401 | train_mae: 0.22806 |  0:00:07s\n",
      "epoch 77 | loss: 0.10002 | train_mse: 0.08    | train_mae: 0.20714 |  0:00:07s\n",
      "epoch 78 | loss: 0.0901  | train_mse: 0.09621 | train_mae: 0.22098 |  0:00:07s\n"
     ]
    },
    {
     "name": "stdout",
     "output_type": "stream",
     "text": [
      "epoch 79 | loss: 0.0643  | train_mse: 0.15076 | train_mae: 0.25972 |  0:00:07s\n",
      "epoch 80 | loss: 0.27555 | train_mse: 0.24563 | train_mae: 0.30967 |  0:00:07s\n",
      "epoch 81 | loss: 0.17311 | train_mse: 0.23802 | train_mae: 0.30036 |  0:00:07s\n"
     ]
    },
    {
     "name": "stdout",
     "output_type": "stream",
     "text": [
      "epoch 82 | loss: 0.10306 | train_mse: 0.21491 | train_mae: 0.29704 |  0:00:07s\n",
      "epoch 83 | loss: 0.07767 | train_mse: 0.16592 | train_mae: 0.2938  |  0:00:07s\n",
      "epoch 84 | loss: 0.144   | train_mse: 0.08866 | train_mae: 0.23722 |  0:00:08s\n"
     ]
    },
    {
     "name": "stdout",
     "output_type": "stream",
     "text": [
      "epoch 85 | loss: 0.06545 | train_mse: 0.07523 | train_mae: 0.214   |  0:00:08s\n",
      "epoch 86 | loss: 0.10268 | train_mse: 0.08547 | train_mae: 0.22588 |  0:00:08s\n",
      "epoch 87 | loss: 0.09207 | train_mse: 0.11116 | train_mae: 0.24094 |  0:00:08s\n"
     ]
    },
    {
     "name": "stdout",
     "output_type": "stream",
     "text": [
      "epoch 88 | loss: 0.09657 | train_mse: 0.12753 | train_mae: 0.25179 |  0:00:08s\n",
      "epoch 89 | loss: 0.07032 | train_mse: 0.09062 | train_mae: 0.23154 |  0:00:08s\n",
      "epoch 90 | loss: 0.15397 | train_mse: 0.05464 | train_mae: 0.18662 |  0:00:08s\n"
     ]
    },
    {
     "name": "stdout",
     "output_type": "stream",
     "text": [
      "epoch 91 | loss: 0.12558 | train_mse: 0.0433  | train_mae: 0.1595  |  0:00:08s\n",
      "epoch 92 | loss: 0.07151 | train_mse: 0.03593 | train_mae: 0.14927 |  0:00:08s\n",
      "epoch 93 | loss: 0.07603 | train_mse: 0.03873 | train_mae: 0.15815 |  0:00:08s\n"
     ]
    },
    {
     "name": "stdout",
     "output_type": "stream",
     "text": [
      "epoch 94 | loss: 0.05412 | train_mse: 0.0467  | train_mae: 0.16744 |  0:00:08s\n",
      "epoch 95 | loss: 0.1067  | train_mse: 0.06962 | train_mae: 0.20293 |  0:00:08s\n",
      "epoch 96 | loss: 0.26753 | train_mse: 0.09163 | train_mae: 0.22026 |  0:00:09s\n"
     ]
    },
    {
     "name": "stdout",
     "output_type": "stream",
     "text": [
      "epoch 97 | loss: 0.12634 | train_mse: 0.05584 | train_mae: 0.1793  |  0:00:09s\n",
      "epoch 98 | loss: 0.07135 | train_mse: 0.04149 | train_mae: 0.155   |  0:00:09s\n"
     ]
    },
    {
     "name": "stdout",
     "output_type": "stream",
     "text": [
      "epoch 99 | loss: 0.06435 | train_mse: 0.03331 | train_mae: 0.13773 |  0:00:09s\n",
      "epoch 100| loss: 0.07943 | train_mse: 0.0324  | train_mae: 0.13555 |  0:00:09s\n",
      "epoch 101| loss: 0.07202 | train_mse: 0.03973 | train_mae: 0.15694 |  0:00:09s\n"
     ]
    },
    {
     "name": "stdout",
     "output_type": "stream",
     "text": [
      "epoch 102| loss: 0.10196 | train_mse: 0.04439 | train_mae: 0.16655 |  0:00:09s\n",
      "epoch 103| loss: 0.06848 | train_mse: 0.05034 | train_mae: 0.17785 |  0:00:09s\n",
      "epoch 104| loss: 0.10104 | train_mse: 0.05824 | train_mae: 0.18987 |  0:00:09s\n"
     ]
    },
    {
     "name": "stdout",
     "output_type": "stream",
     "text": [
      "epoch 105| loss: 0.2829  | train_mse: 0.09523 | train_mae: 0.22425 |  0:00:09s\n",
      "epoch 106| loss: 0.09878 | train_mse: 0.08283 | train_mae: 0.20708 |  0:00:10s\n"
     ]
    },
    {
     "name": "stdout",
     "output_type": "stream",
     "text": [
      "epoch 107| loss: 0.15421 | train_mse: 0.05031 | train_mae: 0.17562 |  0:00:10s\n",
      "epoch 108| loss: 0.05712 | train_mse: 0.04337 | train_mae: 0.16323 |  0:00:10s\n",
      "epoch 109| loss: 0.08052 | train_mse: 0.05187 | train_mae: 0.17714 |  0:00:10s\n"
     ]
    },
    {
     "name": "stdout",
     "output_type": "stream",
     "text": [
      "epoch 110| loss: 0.0863  | train_mse: 0.07499 | train_mae: 0.19969 |  0:00:10s\n",
      "epoch 111| loss: 0.11665 | train_mse: 0.0944  | train_mae: 0.21091 |  0:00:10s\n",
      "epoch 112| loss: 0.05363 | train_mse: 0.09325 | train_mae: 0.21492 |  0:00:10s\n"
     ]
    },
    {
     "name": "stdout",
     "output_type": "stream",
     "text": [
      "epoch 113| loss: 0.05337 | train_mse: 0.08023 | train_mae: 0.20485 |  0:00:10s\n",
      "epoch 114| loss: 0.06163 | train_mse: 0.07095 | train_mae: 0.19173 |  0:00:10s\n",
      "epoch 115| loss: 0.15689 | train_mse: 0.05929 | train_mae: 0.18291 |  0:00:10s\n"
     ]
    },
    {
     "name": "stdout",
     "output_type": "stream",
     "text": [
      "epoch 116| loss: 0.07215 | train_mse: 0.07952 | train_mae: 0.20546 |  0:00:10s\n",
      "epoch 117| loss: 0.05679 | train_mse: 0.10263 | train_mae: 0.23003 |  0:00:10s\n"
     ]
    },
    {
     "name": "stdout",
     "output_type": "stream",
     "text": [
      "epoch 118| loss: 0.07777 | train_mse: 0.11063 | train_mae: 0.23735 |  0:00:11s\n",
      "epoch 119| loss: 0.11058 | train_mse: 0.11863 | train_mae: 0.23755 |  0:00:11s\n",
      "epoch 120| loss: 0.27271 | train_mse: 0.1494  | train_mae: 0.24558 |  0:00:11s\n"
     ]
    },
    {
     "name": "stdout",
     "output_type": "stream",
     "text": [
      "epoch 121| loss: 0.08136 | train_mse: 0.17907 | train_mae: 0.2713  |  0:00:11s\n",
      "epoch 122| loss: 0.08831 | train_mse: 0.16686 | train_mae: 0.25925 |  0:00:11s\n",
      "epoch 123| loss: 0.18384 | train_mse: 0.11873 | train_mae: 0.21933 |  0:00:11s\n"
     ]
    },
    {
     "name": "stdout",
     "output_type": "stream",
     "text": [
      "epoch 124| loss: 0.10153 | train_mse: 0.08603 | train_mae: 0.19843 |  0:00:11s\n",
      "epoch 125| loss: 0.07607 | train_mse: 0.0684  | train_mae: 0.18773 |  0:00:11s\n",
      "epoch 126| loss: 0.06375 | train_mse: 0.06543 | train_mae: 0.1835  |  0:00:11s\n"
     ]
    },
    {
     "name": "stdout",
     "output_type": "stream",
     "text": [
      "epoch 127| loss: 0.0481  | train_mse: 0.06313 | train_mae: 0.18835 |  0:00:11s\n",
      "epoch 128| loss: 0.07837 | train_mse: 0.06658 | train_mae: 0.19399 |  0:00:11s\n",
      "epoch 129| loss: 0.14477 | train_mse: 0.06125 | train_mae: 0.18966 |  0:00:12s\n"
     ]
    },
    {
     "name": "stdout",
     "output_type": "stream",
     "text": [
      "epoch 130| loss: 0.05658 | train_mse: 0.05453 | train_mae: 0.1829  |  0:00:12s\n",
      "epoch 131| loss: 0.03621 | train_mse: 0.04959 | train_mae: 0.17644 |  0:00:12s\n",
      "epoch 132| loss: 0.06337 | train_mse: 0.04296 | train_mae: 0.16751 |  0:00:12s\n"
     ]
    },
    {
     "name": "stdout",
     "output_type": "stream",
     "text": [
      "epoch 133| loss: 0.09562 | train_mse: 0.03988 | train_mae: 0.15753 |  0:00:12s\n",
      "epoch 134| loss: 0.27357 | train_mse: 0.05134 | train_mae: 0.1777  |  0:00:12s\n",
      "epoch 135| loss: 0.05682 | train_mse: 0.05293 | train_mae: 0.18158 |  0:00:12s\n"
     ]
    },
    {
     "name": "stdout",
     "output_type": "stream",
     "text": [
      "epoch 136| loss: 0.05049 | train_mse: 0.04242 | train_mae: 0.16676 |  0:00:12s\n",
      "epoch 137| loss: 0.07301 | train_mse: 0.0309  | train_mae: 0.13688 |  0:00:12s\n",
      "epoch 138| loss: 0.07518 | train_mse: 0.05142 | train_mae: 0.17504 |  0:00:12s\n"
     ]
    },
    {
     "name": "stdout",
     "output_type": "stream",
     "text": [
      "epoch 139| loss: 0.11103 | train_mse: 0.05636 | train_mae: 0.1827  |  0:00:13s\n",
      "epoch 140| loss: 0.04497 | train_mse: 0.03327 | train_mae: 0.14066 |  0:00:13s\n",
      "epoch 141| loss: 0.13722 | train_mse: 0.02716 | train_mae: 0.12929 |  0:00:13s\n"
     ]
    },
    {
     "name": "stdout",
     "output_type": "stream",
     "text": [
      "epoch 142| loss: 0.06509 | train_mse: 0.03062 | train_mae: 0.13465 |  0:00:13s\n",
      "epoch 143| loss: 0.06071 | train_mse: 0.0342  | train_mae: 0.13988 |  0:00:13s\n",
      "epoch 144| loss: 0.11083 | train_mse: 0.02724 | train_mae: 0.12159 |  0:00:13s\n"
     ]
    },
    {
     "name": "stdout",
     "output_type": "stream",
     "text": [
      "epoch 145| loss: 0.05734 | train_mse: 0.02834 | train_mae: 0.12512 |  0:00:13s\n",
      "epoch 146| loss: 0.121   | train_mse: 0.02882 | train_mae: 0.1273  |  0:00:13s\n",
      "epoch 147| loss: 0.16293 | train_mse: 0.03088 | train_mae: 0.1265  |  0:00:13s\n"
     ]
    },
    {
     "name": "stdout",
     "output_type": "stream",
     "text": [
      "epoch 148| loss: 0.05301 | train_mse: 0.02818 | train_mae: 0.12863 |  0:00:13s\n",
      "epoch 149| loss: 0.09448 | train_mse: 0.03162 | train_mae: 0.14311 |  0:00:13s\n",
      "epoch 150| loss: 0.05798 | train_mse: 0.04379 | train_mae: 0.16571 |  0:00:13s\n"
     ]
    },
    {
     "name": "stdout",
     "output_type": "stream",
     "text": [
      "epoch 151| loss: 0.07693 | train_mse: 0.05569 | train_mae: 0.17808 |  0:00:14s\n",
      "epoch 152| loss: 0.05667 | train_mse: 0.05351 | train_mae: 0.17394 |  0:00:14s\n",
      "epoch 153| loss: 0.0476  | train_mse: 0.06727 | train_mae: 0.1858  |  0:00:14s\n"
     ]
    },
    {
     "name": "stdout",
     "output_type": "stream",
     "text": [
      "epoch 154| loss: 0.17136 | train_mse: 0.0713  | train_mae: 0.19515 |  0:00:14s\n",
      "epoch 155| loss: 0.12461 | train_mse: 0.0897  | train_mae: 0.21707 |  0:00:14s\n",
      "epoch 156| loss: 0.1051  | train_mse: 0.10283 | train_mae: 0.22164 |  0:00:14s\n"
     ]
    },
    {
     "name": "stdout",
     "output_type": "stream",
     "text": [
      "epoch 157| loss: 0.03835 | train_mse: 0.11183 | train_mae: 0.22895 |  0:00:14s\n",
      "epoch 158| loss: 0.08104 | train_mse: 0.12226 | train_mae: 0.23437 |  0:00:14s\n",
      "epoch 159| loss: 0.12724 | train_mse: 0.11734 | train_mae: 0.22145 |  0:00:14s\n"
     ]
    },
    {
     "name": "stdout",
     "output_type": "stream",
     "text": [
      "epoch 160| loss: 0.08917 | train_mse: 0.11718 | train_mae: 0.22321 |  0:00:14s\n",
      "epoch 161| loss: 0.10353 | train_mse: 0.11363 | train_mae: 0.22274 |  0:00:14s\n",
      "epoch 162| loss: 0.09937 | train_mse: 0.1224  | train_mae: 0.22141 |  0:00:15s\n"
     ]
    },
    {
     "name": "stdout",
     "output_type": "stream",
     "text": [
      "epoch 163| loss: 0.09064 | train_mse: 0.10252 | train_mae: 0.21136 |  0:00:15s\n",
      "epoch 164| loss: 0.07929 | train_mse: 0.06385 | train_mae: 0.18971 |  0:00:15s\n",
      "epoch 165| loss: 0.13165 | train_mse: 0.05755 | train_mae: 0.18685 |  0:00:15s\n"
     ]
    },
    {
     "name": "stdout",
     "output_type": "stream",
     "text": [
      "epoch 166| loss: 0.06272 | train_mse: 0.05079 | train_mae: 0.15906 |  0:00:15s\n",
      "epoch 167| loss: 0.13668 | train_mse: 0.0594  | train_mae: 0.16758 |  0:00:15s\n",
      "epoch 168| loss: 0.07    | train_mse: 0.08001 | train_mae: 0.19196 |  0:00:15s\n"
     ]
    },
    {
     "name": "stdout",
     "output_type": "stream",
     "text": [
      "epoch 169| loss: 0.05114 | train_mse: 0.08446 | train_mae: 0.20125 |  0:00:15s\n",
      "epoch 170| loss: 0.13502 | train_mse: 0.08769 | train_mae: 0.21069 |  0:00:15s\n"
     ]
    },
    {
     "name": "stdout",
     "output_type": "stream",
     "text": [
      "epoch 171| loss: 0.10052 | train_mse: 0.07432 | train_mae: 0.20086 |  0:00:15s\n",
      "epoch 172| loss: 0.11173 | train_mse: 0.06182 | train_mae: 0.19006 |  0:00:15s\n"
     ]
    },
    {
     "name": "stdout",
     "output_type": "stream",
     "text": [
      "epoch 173| loss: 0.05288 | train_mse: 0.05312 | train_mae: 0.17489 |  0:00:16s\n",
      "epoch 174| loss: 0.14047 | train_mse: 0.05359 | train_mae: 0.17595 |  0:00:16s\n",
      "epoch 175| loss: 0.05308 | train_mse: 0.05136 | train_mae: 0.16837 |  0:00:16s\n"
     ]
    },
    {
     "name": "stdout",
     "output_type": "stream",
     "text": [
      "epoch 176| loss: 0.07057 | train_mse: 0.05816 | train_mae: 0.17958 |  0:00:16s\n",
      "epoch 177| loss: 0.08227 | train_mse: 0.05732 | train_mae: 0.17543 |  0:00:16s\n",
      "epoch 178| loss: 0.0873  | train_mse: 0.07556 | train_mae: 0.20153 |  0:00:16s\n"
     ]
    },
    {
     "name": "stdout",
     "output_type": "stream",
     "text": [
      "epoch 179| loss: 0.08466 | train_mse: 0.08114 | train_mae: 0.2098  |  0:00:16s\n",
      "epoch 180| loss: 0.09708 | train_mse: 0.07957 | train_mae: 0.20895 |  0:00:16s\n",
      "epoch 181| loss: 0.04912 | train_mse: 0.077   | train_mae: 0.20444 |  0:00:16s\n"
     ]
    },
    {
     "name": "stdout",
     "output_type": "stream",
     "text": [
      "epoch 182| loss: 0.06379 | train_mse: 0.07124 | train_mae: 0.19356 |  0:00:16s\n",
      "epoch 183| loss: 0.088   | train_mse: 0.04302 | train_mae: 0.16026 |  0:00:16s\n",
      "epoch 184| loss: 0.12907 | train_mse: 0.03797 | train_mae: 0.15119 |  0:00:17s\n"
     ]
    },
    {
     "name": "stdout",
     "output_type": "stream",
     "text": [
      "epoch 185| loss: 0.05361 | train_mse: 0.05544 | train_mae: 0.17892 |  0:00:17s\n",
      "epoch 186| loss: 0.05606 | train_mse: 0.06379 | train_mae: 0.18458 |  0:00:17s\n"
     ]
    },
    {
     "name": "stdout",
     "output_type": "stream",
     "text": [
      "epoch 187| loss: 0.19769 | train_mse: 0.06064 | train_mae: 0.17536 |  0:00:17s\n",
      "epoch 188| loss: 0.07156 | train_mse: 0.07086 | train_mae: 0.18508 |  0:00:17s\n",
      "epoch 189| loss: 0.22678 | train_mse: 0.07755 | train_mae: 0.1927  |  0:00:17s\n"
     ]
    },
    {
     "name": "stdout",
     "output_type": "stream",
     "text": [
      "epoch 190| loss: 0.12565 | train_mse: 0.10323 | train_mae: 0.21486 |  0:00:17s\n",
      "epoch 191| loss: 0.05805 | train_mse: 0.11954 | train_mae: 0.23541 |  0:00:17s\n",
      "epoch 192| loss: 0.09534 | train_mse: 0.12414 | train_mae: 0.24049 |  0:00:17s\n"
     ]
    },
    {
     "name": "stdout",
     "output_type": "stream",
     "text": [
      "epoch 193| loss: 0.05189 | train_mse: 0.11774 | train_mae: 0.2328  |  0:00:17s\n",
      "epoch 194| loss: 0.07773 | train_mse: 0.10252 | train_mae: 0.2169  |  0:00:17s\n",
      "\n",
      "Early stopping occurred at epoch 194 with best_epoch = 144 and best_train_mae = 0.12159\n",
      "Best weights from best epoch are automatically used!\n"
     ]
    }
   ],
   "source": [
    "#Train the Model\n",
    "\n",
    "Y_train = np.reshape(Y_train, (-1, 1))\n",
    "Y_test = np.reshape(Y_test, (-1, 1))\n",
    "\n",
    "prior_model = TabNetRegressor(optimizer_fn=torch.optim.Adam, optimizer_params=dict(lr = 0.02),\n",
    "          #scheduler_params={\"step_size\":10, ], \"gamma\":0.9},\n",
    "          #scheduler_fn=torch.optim.lr_scheduler.StepLR\n",
    "          )  #TabNetRegressor()\n",
    "\n",
    "prior_model.fit(X_train,Y_train,eval_set=[(X_train, Y_train)],\n",
    "            eval_name=['train'], \n",
    "            eval_metric=[ 'mse', 'mae'], \n",
    "            max_epochs = n_epochs, \n",
    "            batch_size = batch_size,\n",
    "            patience=50\n",
    "            )"
   ]
  },
  {
   "cell_type": "code",
   "execution_count": 10,
   "id": "af65dcda",
   "metadata": {
    "execution": {
     "iopub.execute_input": "2022-06-22T13:19:30.207605Z",
     "iopub.status.busy": "2022-06-22T13:19:30.206790Z",
     "iopub.status.idle": "2022-06-22T13:19:30.236664Z",
     "shell.execute_reply": "2022-06-22T13:19:30.235889Z"
    },
    "id": "af65dcda",
    "papermill": {
     "duration": 0.084771,
     "end_time": "2022-06-22T13:19:30.236867",
     "exception": false,
     "start_time": "2022-06-22T13:19:30.152096",
     "status": "completed"
    },
    "tags": []
   },
   "outputs": [
    {
     "data": {
      "application/scrapbook.scrap.json+json": {
       "data": 0.269921640973153,
       "encoder": "json",
       "name": "Prior Model MSE",
       "version": 1
      }
     },
     "metadata": {
      "scrapbook": {
       "data": true,
       "display": false,
       "name": "Prior Model MSE"
      }
     },
     "output_type": "display_data"
    },
    {
     "data": {
      "application/scrapbook.scrap.json+json": {
       "data": 0.26337688613381743,
       "encoder": "json",
       "name": "ABC Pre-generator MSE",
       "version": 1
      }
     },
     "metadata": {
      "scrapbook": {
       "data": true,
       "display": false,
       "name": "ABC Pre-generator MSE"
      }
     },
     "output_type": "display_data"
    },
    {
     "data": {
      "application/scrapbook.scrap.json+json": {
       "data": 0.3790218437214386,
       "encoder": "json",
       "name": "Prior Model MSE",
       "version": 1
      }
     },
     "metadata": {
      "scrapbook": {
       "data": true,
       "display": false,
       "name": "Prior Model MSE"
      }
     },
     "output_type": "display_data"
    },
    {
     "data": {
      "application/scrapbook.scrap.json+json": {
       "data": 0.37353521289095837,
       "encoder": "json",
       "name": "ABC Pre-generator MSE",
       "version": 1
      }
     },
     "metadata": {
      "scrapbook": {
       "data": true,
       "display": false,
       "name": "ABC Pre-generator MSE"
      }
     },
     "output_type": "display_data"
    }
   ],
   "source": [
    "y_pred = prior_model.predict(X_test)\n",
    "y_abc = y_pred + np.random.normal(0,variance, y_pred.shape) + bias \n",
    "mse = mean_squared_error(y_pred,Y_test)\n",
    "sb.glue(\"Prior Model MSE\",mse)\n",
    "mse = mean_squared_error(y_abc,Y_test)\n",
    "sb.glue(\"ABC Pre-generator MSE\",mse)\n",
    "mae = mean_absolute_error(y_pred,Y_test)\n",
    "sb.glue(\"Prior Model MSE\",mae)\n",
    "mae = mean_absolute_error(y_abc,Y_test)\n",
    "sb.glue(\"ABC Pre-generator MSE\",mae)"
   ]
  },
  {
   "cell_type": "markdown",
   "id": "25609da2",
   "metadata": {
    "papermill": {
     "duration": 0.064399,
     "end_time": "2022-06-22T13:19:30.348121",
     "exception": false,
     "start_time": "2022-06-22T13:19:30.283722",
     "status": "completed"
    },
    "tags": []
   },
   "source": [
    "# ABC GAN Model"
   ]
  },
  {
   "cell_type": "code",
   "execution_count": 11,
   "id": "dfc3464d",
   "metadata": {
    "execution": {
     "iopub.execute_input": "2022-06-22T13:19:30.449914Z",
     "iopub.status.busy": "2022-06-22T13:19:30.448441Z",
     "iopub.status.idle": "2022-06-22T13:19:30.453206Z",
     "shell.execute_reply": "2022-06-22T13:19:30.453821Z"
    },
    "papermill": {
     "duration": 0.064384,
     "end_time": "2022-06-22T13:19:30.455304",
     "exception": false,
     "start_time": "2022-06-22T13:19:30.390920",
     "status": "completed"
    },
    "tags": []
   },
   "outputs": [],
   "source": [
    "gen = network.Generator(n_features+1).to(device)\n",
    "disc = network.Discriminator(n_features+1).to(device)\n",
    "\n",
    "criterion = torch.nn.BCELoss()\n",
    "gen_opt = torch.optim.Adam(gen.parameters(), lr=0.001, betas=(0.5, 0.999))\n",
    "disc_opt = torch.optim.Adam(disc.parameters(), lr=0.001, betas=(0.5, 0.999))"
   ]
  },
  {
   "cell_type": "code",
   "execution_count": 12,
   "id": "b75fdd85",
   "metadata": {
    "execution": {
     "iopub.execute_input": "2022-06-22T13:19:30.582188Z",
     "iopub.status.busy": "2022-06-22T13:19:30.579044Z",
     "iopub.status.idle": "2022-06-22T13:20:24.759050Z",
     "shell.execute_reply": "2022-06-22T13:20:24.759678Z"
    },
    "papermill": {
     "duration": 54.257654,
     "end_time": "2022-06-22T13:20:24.759902",
     "exception": false,
     "start_time": "2022-06-22T13:19:30.502248",
     "status": "completed"
    },
    "tags": []
   },
   "outputs": [
    {
     "data": {
      "image/png": "[encoded data removed]",
      "text/plain": [
       "<Figure size 432x288 with 1 Axes>"
      ]
     },
     "metadata": {
      "needs_background": "light"
     },
     "output_type": "display_data"
    },
    {
     "data": {
      "image/png": "[encoded data removed]",
      "text/plain": [
       "<Figure size 432x288 with 1 Axes>"
      ]
     },
     "metadata": {
      "needs_background": "light"
     },
     "output_type": "display_data"
    }
   ],
   "source": [
    "#Training the ABC_GAN \n",
    "ABC_train_test2.training_GAN(disc,gen,disc_opt,gen_opt,train_data,batch_size,n_epochs,criterion,prior_model,variance,bias,device)"
   ]
  },
  {
   "cell_type": "code",
   "execution_count": 13,
   "id": "1fa7c368",
   "metadata": {
    "execution": {
     "iopub.execute_input": "2022-06-22T13:20:24.877568Z",
     "iopub.status.busy": "2022-06-22T13:20:24.876816Z",
     "iopub.status.idle": "2022-06-22T13:20:25.797713Z",
     "shell.execute_reply": "2022-06-22T13:20:25.798380Z"
    },
    "papermill": {
     "duration": 0.990585,
     "end_time": "2022-06-22T13:20:25.798785",
     "exception": false,
     "start_time": "2022-06-22T13:20:24.808200",
     "status": "completed"
    },
    "tags": []
   },
   "outputs": [
    {
     "data": {
      "application/scrapbook.scrap.json+json": {
       "data": 0.197713434336133,
       "encoder": "json",
       "name": "ABC-GAN Model 1 MSE",
       "version": 1
      }
     },
     "metadata": {
      "scrapbook": {
       "data": true,
       "display": false,
       "name": "ABC-GAN Model 1 MSE"
      }
     },
     "output_type": "display_data"
    },
    {
     "data": {
      "application/scrapbook.scrap.json+json": {
       "data": 0.35164161036163566,
       "encoder": "json",
       "name": "ABC-GAN Model 1 MAE",
       "version": 1
      }
     },
     "metadata": {
      "scrapbook": {
       "data": true,
       "display": false,
       "name": "ABC-GAN Model 1 MAE"
      }
     },
     "output_type": "display_data"
    },
    {
     "data": {
      "application/scrapbook.scrap.json+json": {
       "data": 7.032832207232714,
       "encoder": "json",
       "name": "ABC-GAN Model 1 Manhattan Distance",
       "version": 1
      }
     },
     "metadata": {
      "scrapbook": {
       "data": true,
       "display": false,
       "name": "ABC-GAN Model 1 Manhattan Distance"
      }
     },
     "output_type": "display_data"
    },
    {
     "data": {
      "application/scrapbook.scrap.json+json": {
       "data": 1.988506585376766,
       "encoder": "json",
       "name": "ABC-GAN Model 1 Euclidean distance",
       "version": 1
      }
     },
     "metadata": {
      "scrapbook": {
       "data": true,
       "display": false,
       "name": "ABC-GAN Model 1 Euclidean distance"
      }
     },
     "output_type": "display_data"
    },
    {
     "data": {
      "application/scrapbook.scrap.json+json": {
       "data": [
        [
         0.19888087576319052,
         0.19629807892848677,
         0.1963276413193419,
         0.19731032481977331,
         0.20067457022459284,
         0.19817820381125015,
         0.20009826727455865,
         0.19451374955580455,
         0.19632849115587997,
         0.20036538142220456,
         0.19726176997397976,
         0.19908937590419168,
         0.20059662515679522,
         0.19743259855679923,
         0.19822374233973467,
         0.20009124785673568,
         0.19742296827776712,
         0.1965227030202156,
         0.19823292061463973,
         0.19887896920135612,
         0.2014228311898571,
         0.19687444493273937,
         0.19458057942144197,
         0.199858057927695,
         0.1974697441888959,
         0.19882708311750555,
         0.20038233237674144,
         0.19542105024759385,
         0.19691436835987636,
         0.19600800722779907,
         0.20160496270739253,
         0.2012944915402149,
         0.19920956917197433,
         0.19572490866063813,
         0.19167140140821176,
         0.197213941225924,
         0.19747022921452348,
         0.19728487047827806,
         0.1963027255364361,
         0.19999333222768598,
         0.19846872072366475,
         0.1997516038873625,
         0.1967988942972382,
         0.19754390880601344,
         0.19850104665307816,
         0.1978298068492216,
         0.19643025682851517,
         0.19640732334382238,
         0.20188967313755443,
         0.19868847310154245,
         0.19623146052940194,
         0.1967083004232643,
         0.19880659162618003,
         0.19806791844909574,
         0.20086660417645463,
         0.19913982603845945,
         0.19528099732288337,
         0.19602518431710297,
         0.19892657475518893,
         0.19371703066568607,
         0.19595126156311277,
         0.19650783658583446,
         0.1977665298301762,
         0.1975891057335889,
         0.19574760720969206,
         0.19634332104052285,
         0.1967852736882715,
         0.19902286880677494,
         0.1971535302609039,
         0.19643279365065153,
         0.1943268247932835,
         0.19271420471421757,
         0.20090980166067215,
         0.19537803508297555,
         0.1970985989409947,
         0.19502867822482403,
         0.19652128015307307,
         0.19495400709832747,
         0.19943270921551667,
         0.1961972323403483,
         0.19984617802507695,
         0.19749911070351073,
         0.20472459745992974,
         0.1986122458228154,
         0.1969699197736483,
         0.19789576784187693,
         0.19766655981974854,
         0.1975999697554171,
         0.1998601163883545,
         0.19620706550933914,
         0.19686273107571944,
         0.19824707432185099,
         0.19506378356888313,
         0.1970929051733704,
         0.1949430039032408,
         0.19804196806447832,
         0.19938070173431277,
         0.20070708551642585,
         0.1993967126155783,
         0.19852680367550843
        ],
        [
         0.35365607868880033,
         0.3495157791301608,
         0.35031409543007613,
         0.3517926586791873,
         0.3538250980898738,
         0.35378095265477894,
         0.351628421805799,
         0.350758127681911,
         0.3515318749472499,
         0.3536298921331763,
         0.3507946690544486,
         0.3513637511059642,
         0.3536521216854453,
         0.3528193553909659,
         0.3500015063211322,
         0.3518471887335181,
         0.35170715656131507,
         0.3517954958602786,
         0.35132781248539685,
         0.353334397636354,
         0.3538355743512511,
         0.3522906994447112,
         0.3474456874653697,
         0.3535138150677085,
         0.35117275174707174,
         0.35283677335828545,
         0.354190599732101,
         0.3522418377920985,
         0.3502383729442954,
         0.35011836644262073,
         0.35394424851983786,
         0.354233437590301,
         0.35260285791009666,
         0.34993067365139724,
         0.3466125292703509,
         0.35170662235468625,
         0.3498066132888198,
         0.3528940511867404,
         0.35019092466682195,
         0.3517680367454886,
         0.3502309171482921,
         0.3542455298826098,
         0.35054140295833347,
         0.3508302686735988,
         0.3516409298405051,
         0.35302102398127316,
         0.3518756961449981,
         0.3491492910310626,
         0.3556984102353454,
         0.3512039413675666,
         0.3500459840521216,
         0.35174009781330823,
         0.35281282346695664,
         0.3495787104591727,
         0.3540233923122287,
         0.3544345064088702,
         0.34948927666991947,
         0.352235515229404,
         0.35041733663529157,
         0.3476049406453967,
         0.3505953183397651,
         0.35165337156504395,
         0.3499139128252864,
         0.3518562166020274,
         0.3512957690283656,
         0.35061887856572865,
         0.3513963406905532,
         0.3537564931437373,
         0.35090118926018476,
         0.3501590175554156,
         0.3487592158839107,
         0.34929682668298484,
         0.35453582238405945,
         0.34950916599482296,
         0.34943849351257084,
         0.34789780508726836,
         0.351884207688272,
         0.3489723777398467,
         0.3530143676325679,
         0.3482139615342021,
         0.3535663170740008,
         0.35171401109546424,
         0.3584281696006656,
         0.3538420571014285,
         0.3517992919310927,
         0.35076327826827763,
         0.3519953964278102,
         0.3517494363710284,
         0.35354615803807976,
         0.34948119055479765,
         0.35382803808897734,
         0.3520759938284755,
         0.34893981348723174,
         0.34954180028289555,
         0.350671230815351,
         0.35248379614204167,
         0.3529303452000022,
         0.3553699081763625,
         0.35320576187223196,
         0.3530893875285983
        ],
        [
         7.073121573776007,
         6.990315582603216,
         7.0062819086015224,
         7.035853173583746,
         7.076501961797476,
         7.075619053095579,
         7.03256843611598,
         7.01516255363822,
         7.030637498944998,
         7.0725978426635265,
         7.015893381088972,
         7.027275022119284,
         7.073042433708906,
         7.056387107819319,
         7.000030126422644,
         7.0369437746703625,
         7.034143131226301,
         7.035909917205572,
         7.026556249707937,
         7.066687952727079,
         7.0767114870250225,
         7.045813988894224,
         6.948913749307394,
         7.07027630135417,
         7.023455034941435,
         7.0567354671657085,
         7.083811994642019,
         7.04483675584197,
         7.004767458885908,
         7.002367328852415,
         7.078884970396757,
         7.084668751806021,
         7.052057158201933,
         6.998613473027945,
         6.932250585407019,
         7.034132447093725,
         6.996132265776396,
         7.057881023734808,
         7.003818493336439,
         7.035360734909773,
         7.004618342965841,
         7.084910597652197,
         7.01082805916667,
         7.016605373471975,
         7.0328185968101025,
         7.0604204796254635,
         7.0375139228999615,
         6.982985820621252,
         7.113968204706907,
         7.024078827351332,
         7.000919681042433,
         7.034801956266165,
         7.056256469339132,
         6.9915742091834545,
         7.080467846244574,
         7.088690128177404,
         6.98978553339839,
         7.0447103045880795,
         7.0083467327058315,
         6.952098812907934,
         7.011906366795301,
         7.0330674313008785,
         6.998278256505728,
         7.037124332040548,
         7.025915380567312,
         7.012377571314573,
         7.027926813811064,
         7.075129862874746,
         7.018023785203695,
         7.003180351108313,
         6.975184317678213,
         6.985936533659697,
         7.090716447681189,
         6.99018331989646,
         6.988769870251417,
         6.957956101745367,
         7.03768415376544,
         6.979447554796934,
         7.060287352651358,
         6.964279230684042,
         7.071326341480017,
         7.034280221909285,
         7.168563392013311,
         7.07684114202857,
         7.035985838621855,
         7.015265565365553,
         7.039907928556204,
         7.0349887274205685,
         7.070923160761595,
         6.989623811095953,
         7.076560761779547,
         7.0415198765695095,
         6.978796269744635,
         6.990836005657911,
         7.01342461630702,
         7.049675922840834,
         7.058606904000044,
         7.10739816352725,
         7.064115237444639,
         7.061787750571966
        ],
        [
         1.9943965290944052,
         1.9814039412925712,
         1.9815531348886002,
         1.9865061027833433,
         2.00337001187795,
         1.990870180655937,
         2.0004912760347575,
         1.972378004114853,
         1.9815574236235496,
         2.001826073474939,
         1.9862616644036595,
         1.9954416849619618,
         2.0029809043363107,
         1.9871215290303672,
         1.9910989043226088,
         2.000456187256975,
         1.9870730649765602,
         1.9825372784400075,
         1.991145000318358,
         1.994386969478873,
         2.007101547953452,
         1.9843106860204092,
         1.9727168039099883,
         1.9992901636715716,
         1.9873084520974387,
         1.9941267919443113,
         2.001910749143135,
         1.9769726869514097,
         1.984511871266465,
         1.9799394295169692,
         2.0080087784040814,
         2.0064620182810087,
         1.996043933243827,
         1.978509078375119,
         1.9579142034737465,
         1.9860208519848122,
         1.9873108927116736,
         1.986377962414394,
         1.9814273922424517,
         1.9999666608605553,
         1.9923288921443907,
         1.9987576335682247,
         1.9839299095342968,
         1.987681608336775,
         1.9924911375114225,
         1.9891194375864996,
         1.982070921175704,
         1.9819552131358689,
         2.0094261525995645,
         1.9934315794706496,
         1.9810676946000707,
         1.9834732184895478,
         1.9940240300767693,
         1.99031614799808,
         2.004328337256422,
         1.9956944958508025,
         1.9762641388381432,
         1.9800261832465902,
         1.9946256528741875,
         1.9683344769915812,
         1.9796528057369693,
         1.9824622901121447,
         1.9888012964103587,
         1.9879089804796843,
         1.9786238005729744,
         1.9816322617505138,
         1.9838612536579845,
         1.995108362003302,
         1.985716647766765,
         1.9820837199808263,
         1.9714300636506663,
         1.9632330718191235,
         2.004543846667726,
         1.976755094001154,
         1.9854399962778764,
         1.9749869783106118,
         1.9825301014263215,
         1.9746088579682177,
         1.997161531852227,
         1.980894910591414,
         1.9992307421859887,
         1.9874562168939,
         2.0234850998212455,
         1.993049150537013,
         1.9847917763516065,
         1.9894510189591346,
         1.9882985682223309,
         1.9879636302277621,
         1.9993004596025803,
         1.9809445500030491,
         1.984251652768466,
         1.9912160823067444,
         1.975164720062016,
         1.98541131845958,
         1.9745531337659203,
         1.9901857604981417,
         1.996901107888484,
         2.00353230828168,
         1.9969812849177044,
         1.9926204037674031
        ]
       ],
       "encoder": "json",
       "name": "ABC_GAN_1 Metrics",
       "version": 1
      }
     },
     "metadata": {
      "scrapbook": {
       "data": true,
       "display": false,
       "name": "ABC_GAN_1 Metrics"
      }
     },
     "output_type": "display_data"
    },
    {
     "name": "stdout",
     "output_type": "stream",
     "text": [
      "MSE\n",
      "0.197713434336133\n"
     ]
    }
   ],
   "source": [
    "ABC_GAN1_metrics=ABC_train_test2.test_generator(gen,test_data,prior_model,variance,bias,\"1\",device)\n",
    "sb.glue(\"ABC_GAN_1 Metrics\",ABC_GAN1_metrics)\n",
    "\n",
    "print(\"MSE\")\n",
    "print(mean(ABC_GAN1_metrics[0]))"
   ]
  },
  {
   "cell_type": "code",
   "execution_count": 14,
   "id": "eb22ce5c",
   "metadata": {
    "execution": {
     "iopub.execute_input": "2022-06-22T13:20:25.930492Z",
     "iopub.status.busy": "2022-06-22T13:20:25.929284Z",
     "iopub.status.idle": "2022-06-22T13:20:26.873820Z",
     "shell.execute_reply": "2022-06-22T13:20:26.874390Z"
    },
    "papermill": {
     "duration": 1.022186,
     "end_time": "2022-06-22T13:20:26.874635",
     "exception": false,
     "start_time": "2022-06-22T13:20:25.852449",
     "status": "completed"
    },
    "tags": []
   },
   "outputs": [
    {
     "data": {
      "image/png": "[encoded data removed]",
      "text/plain": [
       "<Figure size 432x288 with 1 Axes>"
      ]
     },
     "metadata": {
      "needs_background": "light"
     },
     "output_type": "display_data"
    },
    {
     "data": {
      "image/png": "[encoded data removed]",
      "text/plain": [
       "<Figure size 432x288 with 1 Axes>"
      ]
     },
     "metadata": {
      "needs_background": "light"
     },
     "output_type": "display_data"
    },
    {
     "data": {
      "image/png": "[encoded data removed]",
      "text/plain": [
       "<Figure size 432x288 with 1 Axes>"
      ]
     },
     "metadata": {
      "needs_background": "light"
     },
     "output_type": "display_data"
    },
    {
     "data": {
      "image/png": "[encoded data removed]",
      "text/plain": [
       "<Figure size 432x288 with 1 Axes>"
      ]
     },
     "metadata": {
      "needs_background": "light"
     },
     "output_type": "display_data"
    }
   ],
   "source": [
    "sanityChecks.discProbVsError(train_data,disc,device)\n",
    "sanityChecks.discProbVsError(test_data,disc,device)"
   ]
  },
  {
   "cell_type": "markdown",
   "id": "130f3a4d",
   "metadata": {
    "id": "130f3a4d",
    "papermill": {
     "duration": 0.054369,
     "end_time": "2022-06-22T13:20:26.977645",
     "exception": false,
     "start_time": "2022-06-22T13:20:26.923276",
     "status": "completed"
    },
    "tags": []
   },
   "source": [
    "# ABC - GAN Model with skip connection"
   ]
  },
  {
   "cell_type": "code",
   "execution_count": 15,
   "id": "4e43dad1",
   "metadata": {
    "execution": {
     "iopub.execute_input": "2022-06-22T13:20:27.104614Z",
     "iopub.status.busy": "2022-06-22T13:20:27.103034Z",
     "iopub.status.idle": "2022-06-22T13:20:27.107769Z",
     "shell.execute_reply": "2022-06-22T13:20:27.109722Z"
    },
    "id": "4e43dad1",
    "papermill": {
     "duration": 0.083921,
     "end_time": "2022-06-22T13:20:27.109976",
     "exception": false,
     "start_time": "2022-06-22T13:20:27.026055",
     "status": "completed"
    },
    "tags": []
   },
   "outputs": [],
   "source": [
    "#Generator\n",
    "gen3 = network.GeneratorWithSkipConnection(n_features+1).to(device)\n",
    "constraints=network.weightConstraint()\n",
    "#Discriminator \n",
    "disc3 = network.Discriminator(n_features+1).to(device)\n",
    "\n",
    "criterion = torch.nn.BCELoss()\n",
    "gen_opt = torch.optim.Adam(gen3.parameters(), lr=0.001, betas=(0.5, 0.999))\n",
    "disc_opt = torch.optim.Adam(disc3.parameters(), lr=0.001, betas=(0.5, 0.999))\n"
   ]
  },
  {
   "cell_type": "code",
   "execution_count": 16,
   "id": "26acbc37",
   "metadata": {
    "execution": {
     "iopub.execute_input": "2022-06-22T13:20:27.244221Z",
     "iopub.status.busy": "2022-06-22T13:20:27.243392Z",
     "iopub.status.idle": "2022-06-22T13:21:54.952777Z",
     "shell.execute_reply": "2022-06-22T13:21:54.953230Z"
    },
    "id": "26acbc37",
    "papermill": {
     "duration": 87.780082,
     "end_time": "2022-06-22T13:21:54.953521",
     "exception": false,
     "start_time": "2022-06-22T13:20:27.173439",
     "status": "completed"
    },
    "tags": []
   },
   "outputs": [
    {
     "data": {
      "image/png": "[encoded data removed]",
      "text/plain": [
       "<Figure size 432x288 with 1 Axes>"
      ]
     },
     "metadata": {
      "needs_background": "light"
     },
     "output_type": "display_data"
    },
    {
     "data": {
      "image/png": "[encoded data removed]",
      "text/plain": [
       "<Figure size 432x288 with 1 Axes>"
      ]
     },
     "metadata": {
      "needs_background": "light"
     },
     "output_type": "display_data"
    }
   ],
   "source": [
    "ABC_train_test2.training_GAN_skip_connection(disc3,gen3,disc_opt,gen_opt,train_data,batch_size,n_epochs,criterion,prior_model,variance,bias,device)"
   ]
  },
  {
   "cell_type": "code",
   "execution_count": 17,
   "id": "c5e0717b",
   "metadata": {
    "execution": {
     "iopub.execute_input": "2022-06-22T13:21:55.088901Z",
     "iopub.status.busy": "2022-06-22T13:21:55.085139Z",
     "iopub.status.idle": "2022-06-22T13:21:56.080837Z",
     "shell.execute_reply": "2022-06-22T13:21:56.096244Z"
    },
    "id": "c5e0717b",
    "papermill": {
     "duration": 1.085509,
     "end_time": "2022-06-22T13:21:56.096553",
     "exception": false,
     "start_time": "2022-06-22T13:21:55.011044",
     "status": "completed"
    },
    "tags": []
   },
   "outputs": [
    {
     "data": {
      "application/scrapbook.scrap.json+json": {
       "data": 0.2652219934679216,
       "encoder": "json",
       "name": "ABC-GAN Model 3 MSE",
       "version": 1
      }
     },
     "metadata": {
      "scrapbook": {
       "data": true,
       "display": false,
       "name": "ABC-GAN Model 3 MSE"
      }
     },
     "output_type": "display_data"
    },
    {
     "data": {
      "application/scrapbook.scrap.json+json": {
       "data": 0.3760141223054379,
       "encoder": "json",
       "name": "ABC-GAN Model 3 MAE",
       "version": 1
      }
     },
     "metadata": {
      "scrapbook": {
       "data": true,
       "display": false,
       "name": "ABC-GAN Model 3 MAE"
      }
     },
     "output_type": "display_data"
    },
    {
     "data": {
      "application/scrapbook.scrap.json+json": {
       "data": 7.520282446108759,
       "encoder": "json",
       "name": "ABC-GAN Model 3 Manhattan Distance",
       "version": 1
      }
     },
     "metadata": {
      "scrapbook": {
       "data": true,
       "display": false,
       "name": "ABC-GAN Model 3 Manhattan Distance"
      }
     },
     "output_type": "display_data"
    },
    {
     "data": {
      "application/scrapbook.scrap.json+json": {
       "data": 2.303110546912689,
       "encoder": "json",
       "name": "ABC-GAN Model 3 Euclidean distance",
       "version": 1
      }
     },
     "metadata": {
      "scrapbook": {
       "data": true,
       "display": false,
       "name": "ABC-GAN Model 3 Euclidean distance"
      }
     },
     "output_type": "display_data"
    },
    {
     "data": {
      "application/scrapbook.scrap.json+json": {
       "data": [
        [
         0.26674293154401535,
         0.2621590979560965,
         0.26571851524232337,
         0.26628421526199564,
         0.2662744179116508,
         0.2630090743988879,
         0.26293649989722695,
         0.26711905839783834,
         0.25971433704651525,
         0.26293832407315365,
         0.2632104331624599,
         0.26791677370280226,
         0.2617906015435387,
         0.26638503355415244,
         0.2676711192372996,
         0.26591493178055536,
         0.26396519882824,
         0.2629236076817302,
         0.27282080259950164,
         0.26627909542833517,
         0.2661527815336766,
         0.2659633618103653,
         0.26572018985075996,
         0.2664572134814342,
         0.2617798480251454,
         0.26484138361377785,
         0.2648804970421673,
         0.26141730430011945,
         0.2621258706530193,
         0.2648367739030263,
         0.26110253875523987,
         0.2677995410790672,
         0.2655488747905979,
         0.26256901945762057,
         0.2654333433081744,
         0.2641516293535864,
         0.2664473784249273,
         0.26637134636109,
         0.26488693798019447,
         0.26216523448534973,
         0.2602761605680656,
         0.2680624399402501,
         0.2646318905627401,
         0.26774141188507883,
         0.2637360558220065,
         0.26596925727150766,
         0.26360687511374514,
         0.2672572263298788,
         0.2629722181249817,
         0.27038112652202634,
         0.2666572591549658,
         0.2639630094636595,
         0.26785202981232314,
         0.2643320193416062,
         0.2605633190177808,
         0.2649175050033707,
         0.2655401183200673,
         0.2656446618706242,
         0.26413420702962076,
         0.2671906585499898,
         0.26110748605473166,
         0.26349260952511433,
         0.26399255397882476,
         0.2671241910225312,
         0.2633150497015927,
         0.2672646002342255,
         0.2673906801125978,
         0.265907422787309,
         0.2644170381845686,
         0.269320289046539,
         0.26264163169435284,
         0.26296022532864644,
         0.26244838521013325,
         0.2656148577834777,
         0.2637825281250624,
         0.2653827224473486,
         0.26084834230583953,
         0.26448945581567,
         0.26695186167591023,
         0.26756964502609953,
         0.2637127208418756,
         0.2695855884545468,
         0.26840569069104203,
         0.2650290017043723,
         0.2629726394928334,
         0.264596002379082,
         0.26375297780844476,
         0.2628111320206948,
         0.26653880560442084,
         0.2723282322214914,
         0.2678720634651912,
         0.26537222361010715,
         0.26650113949738563,
         0.2713186678125191,
         0.26406337193576557,
         0.2653692757320156,
         0.2677492856506605,
         0.2694302225264339,
         0.2632330763135301,
         0.26768106580722145
        ],
        [
         0.37592657990753653,
         0.37209647353738545,
         0.37920880429446696,
         0.37526659909635784,
         0.37611855622380974,
         0.37683531567454337,
         0.37461126670241357,
         0.3775758646428585,
         0.3718416651710868,
         0.37633060328662393,
         0.3741018598899245,
         0.3769896088168025,
         0.3741759493947029,
         0.37727774903178213,
         0.37744172271341087,
         0.37432986702769994,
         0.37788719329982995,
         0.3746706308797002,
         0.3797661269083619,
         0.37599629275500773,
         0.37590382639318703,
         0.3774970619007945,
         0.3768084028735757,
         0.3765474421903491,
         0.3749203260987997,
         0.376006911881268,
         0.374777277559042,
         0.3761925196275115,
         0.3744442373514175,
         0.3764483317732811,
         0.3734290262684226,
         0.3797008888795972,
         0.3734534176066518,
         0.3719066673889756,
         0.37615707870572807,
         0.3727662950754166,
         0.3795250063762069,
         0.37913100607693195,
         0.37546924911439417,
         0.375658549182117,
         0.3746876118704677,
         0.3803167657926679,
         0.37524351198226213,
         0.3803592985495925,
         0.37527771629393103,
         0.3765087502077222,
         0.3723705602809787,
         0.3789507752284408,
         0.3718577653169632,
         0.381336416490376,
         0.3760695142671466,
         0.3727645752951503,
         0.3801193658262491,
         0.37457675356417897,
         0.3734337555244565,
         0.3752301136031747,
         0.3758418381214142,
         0.37402423582971095,
         0.37376073468476534,
         0.37666936982423066,
         0.37306021954864266,
         0.37477370351552963,
         0.373967912979424,
         0.3747719326987863,
         0.3745661601424217,
         0.37266695126891136,
         0.37569295708090067,
         0.3791959468275309,
         0.3748564520850778,
         0.37634555231779815,
         0.37509924788028004,
         0.3715546285733581,
         0.3769995616748929,
         0.3754704022780061,
         0.3758771760389209,
         0.37635574247688053,
         0.37504202108830215,
         0.3760616956278682,
         0.37778803799301386,
         0.37767833527177574,
         0.37329642493277787,
         0.38212112300097945,
         0.37984587661921976,
         0.3761845974251628,
         0.3731267599388957,
         0.3745765807107091,
         0.3750229015946388,
         0.3746498657390475,
         0.37657014317810533,
         0.3805483017116785,
         0.37711892630904914,
         0.3750741820782423,
         0.3781172836199403,
         0.38299797382205725,
         0.37261532824486493,
         0.3777713844552636,
         0.37863942664116623,
         0.37799481898546217,
         0.37450945749878883,
         0.3782145565375686
        ],
        [
         7.51853159815073,
         7.441929470747709,
         7.5841760858893394,
         7.5053319819271564,
         7.522371124476194,
         7.536706313490868,
         7.492225334048271,
         7.55151729285717,
         7.436833303421736,
         7.526612065732479,
         7.4820371977984905,
         7.53979217633605,
         7.483518987894058,
         7.545554980635643,
         7.548834454268217,
         7.486597340553999,
         7.557743865996599,
         7.493412617594004,
         7.595322538167238,
         7.519925855100155,
         7.518076527863741,
         7.54994123801589,
         7.536168057471514,
         7.530948843806982,
         7.498406521975994,
         7.5201382376253605,
         7.4955455511808395,
         7.52385039255023,
         7.488884747028351,
         7.528966635465622,
         7.468580525368452,
         7.594017777591944,
         7.469068352133036,
         7.438133347779512,
         7.523141574114561,
         7.455325901508331,
         7.5905001275241375,
         7.582620121538639,
         7.509384982287884,
         7.51317098364234,
         7.493752237409353,
         7.606335315853357,
         7.504870239645243,
         7.60718597099185,
         7.50555432587862,
         7.530175004154444,
         7.447411205619574,
         7.579015504568815,
         7.437155306339264,
         7.62672832980752,
         7.521390285342932,
         7.455291505903006,
         7.6023873165249825,
         7.491535071283579,
         7.46867511048913,
         7.504602272063494,
         7.516836762428284,
         7.480484716594219,
         7.475214693695307,
         7.533387396484613,
         7.461204390972853,
         7.495474070310593,
         7.47935825958848,
         7.495438653975725,
         7.4913232028484344,
         7.453339025378227,
         7.513859141618013,
         7.583918936550617,
         7.497129041701555,
         7.526911046355963,
         7.5019849576056,
         7.431092571467161,
         7.539991233497858,
         7.5094080455601215,
         7.517543520778418,
         7.527114849537611,
         7.500840421766043,
         7.5212339125573635,
         7.555760759860277,
         7.5535667054355145,
         7.465928498655558,
         7.6424224600195885,
         7.596917532384396,
         7.523691948503256,
         7.462535198777914,
         7.491531614214182,
         7.5004580318927765,
         7.4929973147809505,
         7.531402863562107,
         7.61096603423357,
         7.542378526180983,
         7.501483641564846,
         7.562345672398806,
         7.659959476441145,
         7.452306564897299,
         7.555427689105272,
         7.572788532823324,
         7.559896379709244,
         7.490189149975777,
         7.564291130751371
        ],
        [
         2.309731289756518,
         2.289799545620081,
         2.3052918047063953,
         2.307744419393082,
         2.307701964776435,
         2.2935085541540405,
         2.2931920979160334,
         2.3113591603116914,
         2.2790977909976364,
         2.293200052647626,
         2.2943863369644615,
         2.314807869793095,
         2.288189684198138,
         2.3081812474506953,
         2.3137463959444626,
         2.306143671936141,
         2.2976736009635483,
         2.2931358777086466,
         2.335897269143066,
         2.3077222338415653,
         2.3071748158025502,
         2.3063536667665057,
         2.3052990688878525,
         2.3084939396993627,
         2.288142687968324,
         2.301483797960689,
         2.301653740431724,
         2.2865576935652396,
         2.2896544309262885,
         2.301463768574367,
         2.285180687627304,
         2.314301367925393,
         2.304555813125809,
         2.291589053288659,
         2.3040544407985437,
         2.2984848459521605,
         2.308451335527467,
         2.3081219480828565,
         2.3016817242190304,
         2.289826344880108,
         2.281561572993662,
         2.3154370643152884,
         2.3005733657622836,
         2.3140501804631586,
         2.296676101769714,
         2.306379228450983,
         2.296113564760006,
         2.3119568608859415,
         2.293347850305233,
         2.3254295367610105,
         2.3093603406786296,
         2.2976640723293715,
         2.314528158447519,
         2.2992695333153366,
         2.2828198309011634,
         2.301814523385282,
         2.3045178164642914,
         2.3049714179166045,
         2.2984090455339787,
         2.3116689146588003,
         2.2852023370140846,
         2.2956158630098127,
         2.2977926537389086,
         2.311381366293893,
         2.2948422590739987,
         2.311988755311001,
         2.3125340218582635,
         2.3061111108847685,
         2.2996392681660685,
         2.3208631542878138,
         2.2919058955129583,
         2.2932955558699644,
         2.2910625709924783,
         2.3048421107897075,
         2.2968784387732075,
         2.303834726916619,
         2.284068047610839,
         2.2999541552634044,
         2.31063567736634,
         2.3133077833530913,
         2.296574496252519,
         2.322005979555379,
         2.3169190348004913,
         2.3022988585514796,
         2.2933496876526847,
         2.3004173637802423,
         2.296749780922793,
         2.2926453368137634,
         2.308847355735848,
         2.3337876176785723,
         2.314614712928228,
         2.3037891553269683,
         2.3086842118288313,
         2.3294577386701785,
         2.2981008330174095,
         2.3037763595106866,
         2.3140842061198224,
         2.3213367809365097,
         2.2944850241983716,
         2.313789384569051
        ]
       ],
       "encoder": "json",
       "name": "ABC_GAN_3 Metrics",
       "version": 1
      }
     },
     "metadata": {
      "scrapbook": {
       "data": true,
       "display": false,
       "name": "ABC_GAN_3 Metrics"
      }
     },
     "output_type": "display_data"
    },
    {
     "name": "stdout",
     "output_type": "stream",
     "text": [
      "MSE\n",
      "0.2652219934679216\n"
     ]
    }
   ],
   "source": [
    "ABC_GAN3_metrics=ABC_train_test2.test_generator(gen3,test_data,prior_model,variance,bias,\"3\",device)\n",
    "sb.glue(\"ABC_GAN_3 Metrics\",ABC_GAN3_metrics)\n",
    "\n",
    "print(\"MSE\")\n",
    "print(mean(ABC_GAN3_metrics[0]))"
   ]
  },
  {
   "cell_type": "code",
   "execution_count": 18,
   "id": "c8e46b48",
   "metadata": {
    "execution": {
     "iopub.execute_input": "2022-06-22T13:21:56.256616Z",
     "iopub.status.busy": "2022-06-22T13:21:56.255807Z",
     "iopub.status.idle": "2022-06-22T13:21:57.112011Z",
     "shell.execute_reply": "2022-06-22T13:21:57.112597Z"
    },
    "id": "c8e46b48",
    "papermill": {
     "duration": 0.952749,
     "end_time": "2022-06-22T13:21:57.112808",
     "exception": false,
     "start_time": "2022-06-22T13:21:56.160059",
     "status": "completed"
    },
    "tags": []
   },
   "outputs": [
    {
     "data": {
      "image/png": "[encoded data removed]",
      "text/plain": [
       "<Figure size 432x288 with 1 Axes>"
      ]
     },
     "metadata": {
      "needs_background": "light"
     },
     "output_type": "display_data"
    },
    {
     "data": {
      "image/png": "[encoded data removed]",
      "text/plain": [
       "<Figure size 432x288 with 1 Axes>"
      ]
     },
     "metadata": {
      "needs_background": "light"
     },
     "output_type": "display_data"
    },
    {
     "data": {
      "image/png": "[encoded data removed]",
      "text/plain": [
       "<Figure size 432x288 with 1 Axes>"
      ]
     },
     "metadata": {
      "needs_background": "light"
     },
     "output_type": "display_data"
    },
    {
     "data": {
      "image/png": "[encoded data removed]",
      "text/plain": [
       "<Figure size 432x288 with 1 Axes>"
      ]
     },
     "metadata": {
      "needs_background": "light"
     },
     "output_type": "display_data"
    }
   ],
   "source": [
    "sanityChecks.discProbVsError(train_data,disc3,device)\n",
    "sanityChecks.discProbVsError(test_data,disc3,device)"
   ]
  },
  {
   "cell_type": "markdown",
   "id": "a5bd74c3",
   "metadata": {
    "id": "a5bd74c3",
    "papermill": {
     "duration": 0.071837,
     "end_time": "2022-06-22T13:21:57.248405",
     "exception": false,
     "start_time": "2022-06-22T13:21:57.176568",
     "status": "completed"
    },
    "tags": []
   },
   "source": [
    "## Skip Connection Model Analysis - ABC-GAN "
   ]
  },
  {
   "cell_type": "markdown",
   "id": "5744a8bf",
   "metadata": {
    "id": "5744a8bf",
    "papermill": {
     "duration": 0.070503,
     "end_time": "2022-06-22T13:21:57.390274",
     "exception": false,
     "start_time": "2022-06-22T13:21:57.319771",
     "status": "completed"
    },
    "tags": []
   },
   "source": [
    "### Weight Analysis \n",
    "\n",
    "Study the weights of the skip connection layer\n",
    "\n",
    "Equation of the skip connection is \n",
    "\n",
    "$output = y_{gan} * w + y_{abc} * (1-w)$"
   ]
  },
  {
   "cell_type": "code",
   "execution_count": 19,
   "id": "52c31dea",
   "metadata": {
    "execution": {
     "iopub.execute_input": "2022-06-22T13:21:57.538685Z",
     "iopub.status.busy": "2022-06-22T13:21:57.537788Z",
     "iopub.status.idle": "2022-06-22T13:21:57.546296Z",
     "shell.execute_reply": "2022-06-22T13:21:57.546976Z"
    },
    "id": "52c31dea",
    "papermill": {
     "duration": 0.082888,
     "end_time": "2022-06-22T13:21:57.547383",
     "exception": false,
     "start_time": "2022-06-22T13:21:57.464495",
     "status": "completed"
    },
    "tags": []
   },
   "outputs": [
    {
     "name": "stdout",
     "output_type": "stream",
     "text": [
      "Weight of the node at skip connection\n",
      "Parameter containing:\n",
      "tensor([[0.]], requires_grad=True)\n"
     ]
    },
    {
     "data": {
      "application/scrapbook.scrap.json+json": {
       "data": 0.0,
       "encoder": "json",
       "name": "Skip Connection Weight",
       "version": 1
      }
     },
     "metadata": {
      "scrapbook": {
       "data": true,
       "display": false,
       "name": "Skip Connection Weight"
      }
     },
     "output_type": "display_data"
    }
   ],
   "source": [
    "print(\"Weight of the node at skip connection\")\n",
    "for name,param in gen3.named_parameters():\n",
    "    if(name == \"skipNode.weight\"):\n",
    "        print(param)\n",
    "        sb.glue(\"Skip Connection Weight\",param.item())"
   ]
  }
 ],
 "metadata": {
  "colab": {
   "collapsed_sections": [],
   "name": "ABC_GAN_Model-Catboost_Pre-gen.ipynb",
   "provenance": []
  },
  "interpreter": {
   "hash": "31f2aee4e71d21fbe5cf8b01ff0e069b9275f58929596ceb00d14d90e3e16cd6"
  },
  "kernelspec": {
   "display_name": "Python 3 (ipykernel)",
   "language": "python",
   "name": "python3"
  },
  "language_info": {
   "codemirror_mode": {
    "name": "ipython",
    "version": 3
   },
   "file_extension": ".py",
   "mimetype": "text/x-python",
   "name": "python",
   "nbconvert_exporter": "python",
   "pygments_lexer": "ipython3",
   "version": "3.8.3"
  },
  "papermill": {
   "default_parameters": {},
   "duration": 177.583501,
   "end_time": "2022-06-22T13:21:58.679578",
   "environment_variables": {},
   "exception": null,
   "input_path": "ABC_GAN-TabNet.ipynb",
   "output_path": "./ABC_GAN_TabNet/ABC-GAN_output_4_8.ipynb",
   "parameters": {
    "bias": 0.01,
    "variance": 0.01
   },
   "start_time": "2022-06-22T13:19:01.096077",
   "version": "2.3.3"
  }
 },
 "nbformat": 4,
 "nbformat_minor": 5
}