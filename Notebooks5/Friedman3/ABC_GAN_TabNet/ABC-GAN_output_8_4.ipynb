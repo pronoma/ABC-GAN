{
 "cells": [
  {
   "cell_type": "markdown",
   "id": "622780e6",
   "metadata": {
    "id": "622780e6",
    "papermill": {
     "duration": 0.023605,
     "end_time": "2022-06-22T15:22:43.516112",
     "exception": false,
     "start_time": "2022-06-22T15:22:43.492507",
     "status": "completed"
    },
    "tags": []
   },
   "source": [
    "## Import Libraries "
   ]
  },
  {
   "cell_type": "code",
   "execution_count": 1,
   "id": "a62397e3",
   "metadata": {
    "execution": {
     "iopub.execute_input": "2022-06-22T15:22:43.566788Z",
     "iopub.status.busy": "2022-06-22T15:22:43.565242Z",
     "iopub.status.idle": "2022-06-22T15:22:43.568297Z",
     "shell.execute_reply": "2022-06-22T15:22:43.568926Z"
    },
    "id": "a62397e3",
    "papermill": {
     "duration": 0.034814,
     "end_time": "2022-06-22T15:22:43.569744",
     "exception": false,
     "start_time": "2022-06-22T15:22:43.534930",
     "status": "completed"
    },
    "tags": []
   },
   "outputs": [],
   "source": [
    "import warnings\n",
    "import sys\n",
    "sys.path.insert(0, '../../src')\n",
    "warnings.filterwarnings('ignore')"
   ]
  },
  {
   "cell_type": "code",
   "execution_count": 2,
   "id": "d6a4e155",
   "metadata": {
    "execution": {
     "iopub.execute_input": "2022-06-22T15:22:43.608718Z",
     "iopub.status.busy": "2022-06-22T15:22:43.607800Z",
     "iopub.status.idle": "2022-06-22T15:22:48.834666Z",
     "shell.execute_reply": "2022-06-22T15:22:48.835209Z"
    },
    "id": "d6a4e155",
    "papermill": {
     "duration": 5.246852,
     "end_time": "2022-06-22T15:22:48.835461",
     "exception": false,
     "start_time": "2022-06-22T15:22:43.588609",
     "status": "completed"
    },
    "tags": []
   },
   "outputs": [],
   "source": [
    "import ABC_train_test2\n",
    "import friedman3Dataset\n",
    "import network\n",
    "import dataset\n",
    "import sanityChecks\n",
    "import torch \n",
    "import scrapbook as sb\n",
    "from statistics import mean \n",
    "import catboost as ctb \n",
    "from sklearn.model_selection import train_test_split\n",
    "from sklearn.metrics import mean_squared_error,mean_absolute_error\n",
    "import numpy as np\n",
    "from pytorch_tabnet.tab_model import TabNetRegressor"
   ]
  },
  {
   "cell_type": "markdown",
   "id": "2fa5b0f7",
   "metadata": {
    "id": "2fa5b0f7",
    "papermill": {
     "duration": 0.017852,
     "end_time": "2022-06-22T15:22:48.869347",
     "exception": false,
     "start_time": "2022-06-22T15:22:48.851495",
     "status": "completed"
    },
    "tags": []
   },
   "source": [
    "## Parameters "
   ]
  },
  {
   "cell_type": "code",
   "execution_count": 3,
   "id": "783186fb",
   "metadata": {
    "execution": {
     "iopub.execute_input": "2022-06-22T15:22:48.909557Z",
     "iopub.status.busy": "2022-06-22T15:22:48.908349Z",
     "iopub.status.idle": "2022-06-22T15:22:48.910801Z",
     "shell.execute_reply": "2022-06-22T15:22:48.911354Z"
    },
    "id": "783186fb",
    "papermill": {
     "duration": 0.023628,
     "end_time": "2022-06-22T15:22:48.911588",
     "exception": false,
     "start_time": "2022-06-22T15:22:48.887960",
     "status": "completed"
    },
    "tags": [
     "parameters"
    ]
   },
   "outputs": [],
   "source": [
    "variance = 1\n",
    "bias = 1 "
   ]
  },
  {
   "cell_type": "code",
   "execution_count": 4,
   "id": "a847fe80",
   "metadata": {
    "execution": {
     "iopub.execute_input": "2022-06-22T15:22:48.943181Z",
     "iopub.status.busy": "2022-06-22T15:22:48.942429Z",
     "iopub.status.idle": "2022-06-22T15:22:48.944374Z",
     "shell.execute_reply": "2022-06-22T15:22:48.944830Z"
    },
    "papermill": {
     "duration": 0.018902,
     "end_time": "2022-06-22T15:22:48.945073",
     "exception": false,
     "start_time": "2022-06-22T15:22:48.926171",
     "status": "completed"
    },
    "tags": [
     "injected-parameters"
    ]
   },
   "outputs": [],
   "source": [
    "# Parameters\n",
    "variance = 0.1\n",
    "bias = 0.1\n"
   ]
  },
  {
   "cell_type": "markdown",
   "id": "391cdbfd",
   "metadata": {
    "id": "391cdbfd",
    "papermill": {
     "duration": 0.016748,
     "end_time": "2022-06-22T15:22:48.974805",
     "exception": false,
     "start_time": "2022-06-22T15:22:48.958057",
     "status": "completed"
    },
    "tags": []
   },
   "source": [
    "## Dataset \n"
   ]
  },
  {
   "cell_type": "code",
   "execution_count": 5,
   "id": "5b51f161",
   "metadata": {
    "execution": {
     "iopub.execute_input": "2022-06-22T15:22:49.018739Z",
     "iopub.status.busy": "2022-06-22T15:22:49.018011Z",
     "iopub.status.idle": "2022-06-22T15:22:49.020692Z",
     "shell.execute_reply": "2022-06-22T15:22:49.021290Z"
    },
    "id": "5b51f161",
    "papermill": {
     "duration": 0.028234,
     "end_time": "2022-06-22T15:22:49.021504",
     "exception": false,
     "start_time": "2022-06-22T15:22:48.993270",
     "status": "completed"
    },
    "tags": []
   },
   "outputs": [],
   "source": [
    "#Parameters \n",
    "n_features = 4\n",
    "n_samples= 100\n",
    "n_target = 1"
   ]
  },
  {
   "cell_type": "code",
   "execution_count": 6,
   "id": "5d6eced4",
   "metadata": {
    "execution": {
     "iopub.execute_input": "2022-06-22T15:22:49.053677Z",
     "iopub.status.busy": "2022-06-22T15:22:49.052997Z",
     "iopub.status.idle": "2022-06-22T15:22:49.065397Z",
     "shell.execute_reply": "2022-06-22T15:22:49.065955Z"
    },
    "id": "5d6eced4",
    "papermill": {
     "duration": 0.030591,
     "end_time": "2022-06-22T15:22:49.066168",
     "exception": false,
     "start_time": "2022-06-22T15:22:49.035577",
     "status": "completed"
    },
    "tags": []
   },
   "outputs": [
    {
     "name": "stdout",
     "output_type": "stream",
     "text": [
      "          X1           X2        X3        X4         Y\n",
      "0  75.069315   949.832156  0.847278  6.207317  1.526572\n",
      "1  85.805195   382.865158  0.536601  1.270384  1.151363\n",
      "2  58.157950   403.007097  0.499546  8.853704  1.240231\n",
      "3  29.240721  1330.410258  0.640499  6.192712  1.673649\n",
      "4   9.806462   377.739130  0.814706  7.248586  1.751314\n"
     ]
    }
   ],
   "source": [
    "X,Y = friedman3Dataset.friedman3_data(n_samples)"
   ]
  },
  {
   "cell_type": "code",
   "execution_count": 7,
   "id": "fe007438",
   "metadata": {
    "execution": {
     "iopub.execute_input": "2022-06-22T15:22:49.133829Z",
     "iopub.status.busy": "2022-06-22T15:22:49.132431Z",
     "iopub.status.idle": "2022-06-22T15:22:49.135000Z",
     "shell.execute_reply": "2022-06-22T15:22:49.135538Z"
    },
    "id": "fe007438",
    "papermill": {
     "duration": 0.036124,
     "end_time": "2022-06-22T15:22:49.135762",
     "exception": false,
     "start_time": "2022-06-22T15:22:49.099638",
     "status": "completed"
    },
    "tags": []
   },
   "outputs": [],
   "source": [
    "#Train test split for dataset \n",
    "X_train,X_test,Y_train,Y_test = train_test_split(X,Y,test_size = 0.2)\n",
    "train_data = dataset.CustomDataset(X_train,Y_train)\n",
    "test_data = dataset.CustomDataset(X_test,Y_test)\n"
   ]
  },
  {
   "cell_type": "markdown",
   "id": "a9a1af34",
   "metadata": {
    "id": "a9a1af34",
    "papermill": {
     "duration": 0.017202,
     "end_time": "2022-06-22T15:22:49.170687",
     "exception": false,
     "start_time": "2022-06-22T15:22:49.153485",
     "status": "completed"
    },
    "tags": []
   },
   "source": [
    "## Training Parameters "
   ]
  },
  {
   "cell_type": "code",
   "execution_count": 8,
   "id": "952b7fc8",
   "metadata": {
    "execution": {
     "iopub.execute_input": "2022-06-22T15:22:49.202251Z",
     "iopub.status.busy": "2022-06-22T15:22:49.201399Z",
     "iopub.status.idle": "2022-06-22T15:22:49.203224Z",
     "shell.execute_reply": "2022-06-22T15:22:49.203901Z"
    },
    "id": "952b7fc8",
    "papermill": {
     "duration": 0.0195,
     "end_time": "2022-06-22T15:22:49.204132",
     "exception": false,
     "start_time": "2022-06-22T15:22:49.184632",
     "status": "completed"
    },
    "tags": []
   },
   "outputs": [],
   "source": [
    "batch_size = 32\n",
    "n_epochs = 1000\n",
    "#Select the device \n",
    "device = torch.device('cuda' if torch.cuda.is_available() else 'cpu')"
   ]
  },
  {
   "cell_type": "markdown",
   "id": "a95e1600",
   "metadata": {
    "id": "a95e1600",
    "papermill": {
     "duration": 0.015791,
     "end_time": "2022-06-22T15:22:49.235899",
     "exception": false,
     "start_time": "2022-06-22T15:22:49.220108",
     "status": "completed"
    },
    "tags": []
   },
   "source": [
    "# ABC Pre-generator Model \n",
    "\n",
    "1. The catboost model is used as a pre-generator model for the ABC-GAN. \n",
    "2. The model is first trained on the entire dataset \n",
    "3. It generats X,Y pairs and we add some Gaussian noise with mean 0 and variance 1 to it which is then feed as input to the generator.\n"
   ]
  },
  {
   "cell_type": "code",
   "execution_count": 9,
   "id": "ff8ce7bd",
   "metadata": {
    "execution": {
     "iopub.execute_input": "2022-06-22T15:22:49.276399Z",
     "iopub.status.busy": "2022-06-22T15:22:49.275358Z",
     "iopub.status.idle": "2022-06-22T15:23:01.279553Z",
     "shell.execute_reply": "2022-06-22T15:23:01.280025Z"
    },
    "id": "ff8ce7bd",
    "papermill": {
     "duration": 12.02795,
     "end_time": "2022-06-22T15:23:01.280247",
     "exception": false,
     "start_time": "2022-06-22T15:22:49.252297",
     "status": "completed"
    },
    "tags": []
   },
   "outputs": [
    {
     "name": "stdout",
     "output_type": "stream",
     "text": [
      "Device used : cpu\n"
     ]
    },
    {
     "name": "stdout",
     "output_type": "stream",
     "text": [
      "epoch 0  | loss: 1.16951 | train_mse: 4.83824 | train_mae: 1.68081 |  0:00:00s\n",
      "epoch 1  | loss: 0.77726 | train_mse: 7.66526 | train_mae: 1.9825  |  0:00:00s\n",
      "epoch 2  | loss: 0.73113 | train_mse: 8.79147 | train_mae: 1.97109 |  0:00:00s\n"
     ]
    },
    {
     "name": "stdout",
     "output_type": "stream",
     "text": [
      "epoch 3  | loss: 0.53273 | train_mse: 9.51514 | train_mae: 2.30969 |  0:00:00s\n",
      "epoch 4  | loss: 0.59321 | train_mse: 7.77634 | train_mae: 2.10046 |  0:00:00s\n",
      "epoch 5  | loss: 0.4824  | train_mse: 6.37116 | train_mae: 1.87593 |  0:00:00s\n",
      "epoch 6  | loss: 0.36158 | train_mse: 4.50793 | train_mae: 1.57832 |  0:00:00s\n",
      "epoch 7  | loss: 0.64119 | train_mse: 2.6128  | train_mae: 1.17661 |  0:00:00s\n"
     ]
    },
    {
     "name": "stdout",
     "output_type": "stream",
     "text": [
      "epoch 8  | loss: 0.30058 | train_mse: 2.39735 | train_mae: 1.11448 |  0:00:00s\n",
      "epoch 9  | loss: 0.28028 | train_mse: 2.23864 | train_mae: 1.0933  |  0:00:00s\n",
      "epoch 10 | loss: 0.30046 | train_mse: 1.92158 | train_mae: 1.00269 |  0:00:00s\n"
     ]
    },
    {
     "name": "stdout",
     "output_type": "stream",
     "text": [
      "epoch 11 | loss: 0.24503 | train_mse: 1.23955 | train_mae: 0.79306 |  0:00:00s\n",
      "epoch 12 | loss: 0.24997 | train_mse: 1.3066  | train_mae: 0.78095 |  0:00:01s\n",
      "epoch 13 | loss: 0.31912 | train_mse: 1.17971 | train_mae: 0.72536 |  0:00:01s\n"
     ]
    },
    {
     "name": "stdout",
     "output_type": "stream",
     "text": [
      "epoch 14 | loss: 0.22117 | train_mse: 0.98236 | train_mae: 0.72727 |  0:00:01s\n",
      "epoch 15 | loss: 0.26076 | train_mse: 0.63232 | train_mae: 0.61666 |  0:00:01s\n",
      "epoch 16 | loss: 0.17298 | train_mse: 0.51233 | train_mae: 0.55338 |  0:00:01s\n"
     ]
    },
    {
     "name": "stdout",
     "output_type": "stream",
     "text": [
      "epoch 17 | loss: 0.31253 | train_mse: 0.68652 | train_mae: 0.60991 |  0:00:01s\n",
      "epoch 18 | loss: 0.20755 | train_mse: 0.67917 | train_mae: 0.57807 |  0:00:01s\n",
      "epoch 19 | loss: 0.21181 | train_mse: 0.59735 | train_mae: 0.53672 |  0:00:01s\n"
     ]
    },
    {
     "name": "stdout",
     "output_type": "stream",
     "text": [
      "epoch 20 | loss: 0.14413 | train_mse: 0.40897 | train_mae: 0.47184 |  0:00:01s\n",
      "epoch 21 | loss: 0.22265 | train_mse: 0.30507 | train_mae: 0.43514 |  0:00:01s\n",
      "epoch 22 | loss: 0.24255 | train_mse: 0.14341 | train_mae: 0.32176 |  0:00:01s\n"
     ]
    },
    {
     "name": "stdout",
     "output_type": "stream",
     "text": [
      "epoch 23 | loss: 0.13065 | train_mse: 0.15378 | train_mae: 0.32198 |  0:00:01s\n",
      "epoch 24 | loss: 0.14251 | train_mse: 0.21925 | train_mae: 0.36106 |  0:00:02s\n",
      "epoch 25 | loss: 0.19725 | train_mse: 0.25769 | train_mae: 0.38672 |  0:00:02s\n"
     ]
    },
    {
     "name": "stdout",
     "output_type": "stream",
     "text": [
      "epoch 26 | loss: 0.15106 | train_mse: 0.28213 | train_mae: 0.40036 |  0:00:02s\n",
      "epoch 27 | loss: 0.29702 | train_mse: 0.23706 | train_mae: 0.36934 |  0:00:02s\n"
     ]
    },
    {
     "name": "stdout",
     "output_type": "stream",
     "text": [
      "epoch 28 | loss: 0.18744 | train_mse: 0.12876 | train_mae: 0.27981 |  0:00:02s\n",
      "epoch 29 | loss: 0.21368 | train_mse: 0.12814 | train_mae: 0.27869 |  0:00:02s\n"
     ]
    },
    {
     "name": "stdout",
     "output_type": "stream",
     "text": [
      "epoch 30 | loss: 0.18586 | train_mse: 0.1253  | train_mae: 0.27708 |  0:00:02s\n",
      "epoch 31 | loss: 0.1495  | train_mse: 0.12745 | train_mae: 0.29071 |  0:00:02s\n",
      "epoch 32 | loss: 0.29506 | train_mse: 0.10857 | train_mae: 0.27671 |  0:00:02s\n"
     ]
    },
    {
     "name": "stdout",
     "output_type": "stream",
     "text": [
      "epoch 33 | loss: 0.15803 | train_mse: 0.11323 | train_mae: 0.29199 |  0:00:03s\n",
      "epoch 34 | loss: 0.17286 | train_mse: 0.15988 | train_mae: 0.32069 |  0:00:03s\n",
      "epoch 35 | loss: 0.10704 | train_mse: 0.17547 | train_mae: 0.32217 |  0:00:03s\n",
      "epoch 36 | loss: 0.25065 | train_mse: 0.23333 | train_mae: 0.35462 |  0:00:03s\n"
     ]
    },
    {
     "name": "stdout",
     "output_type": "stream",
     "text": [
      "epoch 37 | loss: 0.22891 | train_mse: 0.24975 | train_mae: 0.36447 |  0:00:03s\n",
      "epoch 38 | loss: 0.15116 | train_mse: 0.17826 | train_mae: 0.31469 |  0:00:03s\n",
      "epoch 39 | loss: 0.15004 | train_mse: 0.10824 | train_mae: 0.26121 |  0:00:03s\n",
      "epoch 40 | loss: 0.18328 | train_mse: 0.11155 | train_mae: 0.2651  |  0:00:03s\n"
     ]
    },
    {
     "name": "stdout",
     "output_type": "stream",
     "text": [
      "epoch 41 | loss: 0.20624 | train_mse: 0.13571 | train_mae: 0.28598 |  0:00:03s\n",
      "epoch 42 | loss: 0.18542 | train_mse: 0.13913 | train_mae: 0.28293 |  0:00:03s\n",
      "epoch 43 | loss: 0.17158 | train_mse: 0.10595 | train_mae: 0.25889 |  0:00:03s\n",
      "epoch 44 | loss: 0.12659 | train_mse: 0.10099 | train_mae: 0.24911 |  0:00:03s\n"
     ]
    },
    {
     "name": "stdout",
     "output_type": "stream",
     "text": [
      "epoch 45 | loss: 0.17723 | train_mse: 0.09822 | train_mae: 0.2524  |  0:00:03s\n",
      "epoch 46 | loss: 0.50121 | train_mse: 0.08734 | train_mae: 0.2414  |  0:00:03s\n",
      "epoch 47 | loss: 0.39694 | train_mse: 0.11383 | train_mae: 0.26967 |  0:00:03s\n"
     ]
    },
    {
     "name": "stdout",
     "output_type": "stream",
     "text": [
      "epoch 48 | loss: 0.20984 | train_mse: 0.09778 | train_mae: 0.2505  |  0:00:04s\n",
      "epoch 49 | loss: 0.15536 | train_mse: 0.09613 | train_mae: 0.24316 |  0:00:04s\n",
      "epoch 50 | loss: 0.22736 | train_mse: 0.10009 | train_mae: 0.2517  |  0:00:04s\n",
      "epoch 51 | loss: 0.22094 | train_mse: 0.09411 | train_mae: 0.24526 |  0:00:04s\n"
     ]
    },
    {
     "name": "stdout",
     "output_type": "stream",
     "text": [
      "epoch 52 | loss: 0.18744 | train_mse: 0.11999 | train_mae: 0.26452 |  0:00:04s\n",
      "epoch 53 | loss: 0.13443 | train_mse: 0.14637 | train_mae: 0.28875 |  0:00:04s\n",
      "epoch 54 | loss: 0.27919 | train_mse: 0.12682 | train_mae: 0.28142 |  0:00:04s\n",
      "epoch 55 | loss: 0.12268 | train_mse: 0.09731 | train_mae: 0.24797 |  0:00:04s\n"
     ]
    },
    {
     "name": "stdout",
     "output_type": "stream",
     "text": [
      "epoch 56 | loss: 0.17641 | train_mse: 0.07536 | train_mae: 0.21687 |  0:00:04s\n",
      "epoch 57 | loss: 0.09669 | train_mse: 0.06427 | train_mae: 0.19494 |  0:00:04s\n",
      "epoch 58 | loss: 0.20356 | train_mse: 0.07    | train_mae: 0.20891 |  0:00:04s\n",
      "epoch 59 | loss: 0.11693 | train_mse: 0.06817 | train_mae: 0.20736 |  0:00:04s\n"
     ]
    },
    {
     "name": "stdout",
     "output_type": "stream",
     "text": [
      "epoch 60 | loss: 0.18171 | train_mse: 0.07437 | train_mae: 0.21746 |  0:00:04s\n",
      "epoch 61 | loss: 0.16897 | train_mse: 0.11008 | train_mae: 0.27239 |  0:00:04s\n",
      "epoch 62 | loss: 0.33667 | train_mse: 0.11759 | train_mae: 0.28195 |  0:00:04s\n"
     ]
    },
    {
     "name": "stdout",
     "output_type": "stream",
     "text": [
      "epoch 63 | loss: 0.12201 | train_mse: 0.10777 | train_mae: 0.25609 |  0:00:05s\n",
      "epoch 64 | loss: 0.14611 | train_mse: 0.09476 | train_mae: 0.23652 |  0:00:05s\n",
      "epoch 65 | loss: 0.2104  | train_mse: 0.07603 | train_mae: 0.21512 |  0:00:05s\n",
      "epoch 66 | loss: 0.08685 | train_mse: 0.07421 | train_mae: 0.21017 |  0:00:05s\n",
      "epoch 67 | loss: 0.14978 | train_mse: 0.07649 | train_mae: 0.21766 |  0:00:05s\n"
     ]
    },
    {
     "name": "stdout",
     "output_type": "stream",
     "text": [
      "epoch 68 | loss: 0.16616 | train_mse: 0.0985  | train_mae: 0.25077 |  0:00:05s\n",
      "epoch 69 | loss: 0.24614 | train_mse: 0.10016 | train_mae: 0.24793 |  0:00:05s\n",
      "epoch 70 | loss: 0.09588 | train_mse: 0.10142 | train_mae: 0.24497 |  0:00:05s\n",
      "epoch 71 | loss: 0.15339 | train_mse: 0.12437 | train_mae: 0.25889 |  0:00:05s\n"
     ]
    },
    {
     "name": "stdout",
     "output_type": "stream",
     "text": [
      "epoch 72 | loss: 0.15519 | train_mse: 0.14788 | train_mae: 0.27804 |  0:00:05s\n",
      "epoch 73 | loss: 0.12603 | train_mse: 0.10307 | train_mae: 0.23982 |  0:00:05s\n",
      "epoch 74 | loss: 0.1187  | train_mse: 0.07707 | train_mae: 0.20734 |  0:00:05s\n",
      "epoch 75 | loss: 0.23571 | train_mse: 0.10948 | train_mae: 0.25285 |  0:00:05s\n"
     ]
    },
    {
     "name": "stdout",
     "output_type": "stream",
     "text": [
      "epoch 76 | loss: 0.20358 | train_mse: 0.11702 | train_mae: 0.24484 |  0:00:05s\n",
      "epoch 77 | loss: 0.07095 | train_mse: 0.08335 | train_mae: 0.21226 |  0:00:05s\n",
      "epoch 78 | loss: 0.25343 | train_mse: 0.08789 | train_mae: 0.22214 |  0:00:06s\n"
     ]
    },
    {
     "name": "stdout",
     "output_type": "stream",
     "text": [
      "epoch 79 | loss: 0.1522  | train_mse: 0.1125  | train_mae: 0.24666 |  0:00:06s\n",
      "epoch 80 | loss: 0.24271 | train_mse: 0.09169 | train_mae: 0.23292 |  0:00:06s\n",
      "epoch 81 | loss: 0.19325 | train_mse: 0.1204  | train_mae: 0.25785 |  0:00:06s\n",
      "epoch 82 | loss: 0.26296 | train_mse: 0.1376  | train_mae: 0.261   |  0:00:06s\n"
     ]
    },
    {
     "name": "stdout",
     "output_type": "stream",
     "text": [
      "epoch 83 | loss: 0.15952 | train_mse: 0.11575 | train_mae: 0.24431 |  0:00:06s\n",
      "epoch 84 | loss: 0.12836 | train_mse: 0.09332 | train_mae: 0.22499 |  0:00:06s\n",
      "epoch 85 | loss: 0.31061 | train_mse: 0.10133 | train_mae: 0.2336  |  0:00:06s\n",
      "epoch 86 | loss: 0.09064 | train_mse: 0.10609 | train_mae: 0.23827 |  0:00:06s\n"
     ]
    },
    {
     "name": "stdout",
     "output_type": "stream",
     "text": [
      "epoch 87 | loss: 0.15184 | train_mse: 0.12615 | train_mae: 0.26862 |  0:00:06s\n",
      "epoch 88 | loss: 0.40478 | train_mse: 0.11977 | train_mae: 0.26172 |  0:00:06s\n",
      "epoch 89 | loss: 0.25645 | train_mse: 0.13289 | train_mae: 0.25745 |  0:00:06s\n",
      "epoch 90 | loss: 0.1753  | train_mse: 0.11804 | train_mae: 0.24611 |  0:00:06s\n"
     ]
    },
    {
     "name": "stdout",
     "output_type": "stream",
     "text": [
      "epoch 91 | loss: 0.12952 | train_mse: 0.07882 | train_mae: 0.21084 |  0:00:06s\n",
      "epoch 92 | loss: 0.10422 | train_mse: 0.06976 | train_mae: 0.1913  |  0:00:06s\n",
      "epoch 93 | loss: 0.0936  | train_mse: 0.07482 | train_mae: 0.20545 |  0:00:07s\n"
     ]
    },
    {
     "name": "stdout",
     "output_type": "stream",
     "text": [
      "epoch 94 | loss: 0.13807 | train_mse: 0.10114 | train_mae: 0.22927 |  0:00:07s\n",
      "epoch 95 | loss: 0.17938 | train_mse: 0.08072 | train_mae: 0.21651 |  0:00:07s\n",
      "epoch 96 | loss: 0.22094 | train_mse: 0.07881 | train_mae: 0.22091 |  0:00:07s\n",
      "epoch 97 | loss: 0.09803 | train_mse: 0.08953 | train_mae: 0.23786 |  0:00:07s\n"
     ]
    },
    {
     "name": "stdout",
     "output_type": "stream",
     "text": [
      "epoch 98 | loss: 0.22673 | train_mse: 0.0845  | train_mae: 0.23311 |  0:00:07s\n",
      "epoch 99 | loss: 0.08555 | train_mse: 0.09924 | train_mae: 0.24263 |  0:00:07s\n",
      "epoch 100| loss: 0.11689 | train_mse: 0.0876  | train_mae: 0.24423 |  0:00:07s\n",
      "epoch 101| loss: 0.09704 | train_mse: 0.06764 | train_mae: 0.21705 |  0:00:07s\n"
     ]
    },
    {
     "name": "stdout",
     "output_type": "stream",
     "text": [
      "epoch 102| loss: 0.09402 | train_mse: 0.05526 | train_mae: 0.19328 |  0:00:07s\n",
      "epoch 103| loss: 0.1294  | train_mse: 0.0734  | train_mae: 0.20797 |  0:00:07s\n",
      "epoch 104| loss: 0.11394 | train_mse: 0.08608 | train_mae: 0.21858 |  0:00:07s\n",
      "epoch 105| loss: 0.27403 | train_mse: 0.05663 | train_mae: 0.19636 |  0:00:07s\n"
     ]
    },
    {
     "name": "stdout",
     "output_type": "stream",
     "text": [
      "epoch 106| loss: 0.16431 | train_mse: 0.06506 | train_mae: 0.20015 |  0:00:07s\n",
      "epoch 107| loss: 0.11823 | train_mse: 0.07336 | train_mae: 0.20722 |  0:00:07s\n",
      "epoch 108| loss: 0.23866 | train_mse: 0.08067 | train_mae: 0.20506 |  0:00:08s\n",
      "epoch 109| loss: 0.14202 | train_mse: 0.06691 | train_mae: 0.18772 |  0:00:08s\n"
     ]
    },
    {
     "name": "stdout",
     "output_type": "stream",
     "text": [
      "epoch 110| loss: 0.11551 | train_mse: 0.0596  | train_mae: 0.17707 |  0:00:08s\n",
      "epoch 111| loss: 0.13522 | train_mse: 0.06832 | train_mae: 0.19445 |  0:00:08s\n",
      "epoch 112| loss: 0.14317 | train_mse: 0.07535 | train_mae: 0.20216 |  0:00:08s\n",
      "epoch 113| loss: 0.10355 | train_mse: 0.0906  | train_mae: 0.22791 |  0:00:08s\n"
     ]
    },
    {
     "name": "stdout",
     "output_type": "stream",
     "text": [
      "epoch 114| loss: 0.12506 | train_mse: 0.11262 | train_mae: 0.25189 |  0:00:08s\n",
      "epoch 115| loss: 0.13216 | train_mse: 0.11098 | train_mae: 0.24558 |  0:00:08s\n",
      "epoch 116| loss: 0.12    | train_mse: 0.10223 | train_mae: 0.2326  |  0:00:08s\n",
      "epoch 117| loss: 0.18096 | train_mse: 0.10819 | train_mae: 0.23849 |  0:00:08s\n"
     ]
    },
    {
     "name": "stdout",
     "output_type": "stream",
     "text": [
      "epoch 118| loss: 0.1421  | train_mse: 0.06388 | train_mae: 0.19886 |  0:00:08s\n",
      "epoch 119| loss: 0.13315 | train_mse: 0.07243 | train_mae: 0.21325 |  0:00:08s\n",
      "epoch 120| loss: 0.18566 | train_mse: 0.09806 | train_mae: 0.24487 |  0:00:08s\n",
      "epoch 121| loss: 0.1216  | train_mse: 0.11601 | train_mae: 0.26025 |  0:00:08s\n"
     ]
    },
    {
     "name": "stdout",
     "output_type": "stream",
     "text": [
      "epoch 122| loss: 0.22226 | train_mse: 0.09562 | train_mae: 0.23592 |  0:00:08s\n",
      "epoch 123| loss: 0.11318 | train_mse: 0.09363 | train_mae: 0.23198 |  0:00:09s\n",
      "epoch 124| loss: 0.12804 | train_mse: 0.12001 | train_mae: 0.26007 |  0:00:09s\n",
      "epoch 125| loss: 0.12206 | train_mse: 0.08407 | train_mae: 0.21961 |  0:00:09s\n"
     ]
    },
    {
     "name": "stdout",
     "output_type": "stream",
     "text": [
      "epoch 126| loss: 0.09826 | train_mse: 0.07664 | train_mae: 0.21627 |  0:00:09s\n",
      "epoch 127| loss: 0.08319 | train_mse: 0.08333 | train_mae: 0.22492 |  0:00:09s\n",
      "epoch 128| loss: 0.10594 | train_mse: 0.09491 | train_mae: 0.23883 |  0:00:09s\n",
      "epoch 129| loss: 0.13658 | train_mse: 0.1015  | train_mae: 0.23861 |  0:00:09s\n"
     ]
    },
    {
     "name": "stdout",
     "output_type": "stream",
     "text": [
      "epoch 130| loss: 0.38517 | train_mse: 0.12457 | train_mae: 0.25385 |  0:00:09s\n",
      "epoch 131| loss: 0.24578 | train_mse: 0.18614 | train_mae: 0.28218 |  0:00:09s\n",
      "epoch 132| loss: 0.17593 | train_mse: 0.09384 | train_mae: 0.22634 |  0:00:09s\n",
      "epoch 133| loss: 0.14346 | train_mse: 0.0693  | train_mae: 0.19146 |  0:00:09s\n"
     ]
    },
    {
     "name": "stdout",
     "output_type": "stream",
     "text": [
      "epoch 134| loss: 0.11146 | train_mse: 0.11058 | train_mae: 0.25996 |  0:00:09s\n",
      "epoch 135| loss: 0.26202 | train_mse: 0.10352 | train_mae: 0.25065 |  0:00:09s\n"
     ]
    },
    {
     "name": "stdout",
     "output_type": "stream",
     "text": [
      "epoch 136| loss: 0.25251 | train_mse: 0.07932 | train_mae: 0.2179  |  0:00:10s\n",
      "epoch 137| loss: 0.12754 | train_mse: 0.08442 | train_mae: 0.2199  |  0:00:10s\n",
      "epoch 138| loss: 0.09836 | train_mse: 0.10981 | train_mae: 0.25212 |  0:00:10s\n"
     ]
    },
    {
     "name": "stdout",
     "output_type": "stream",
     "text": [
      "epoch 139| loss: 0.13268 | train_mse: 0.09756 | train_mae: 0.23822 |  0:00:10s\n",
      "epoch 140| loss: 0.16615 | train_mse: 0.07317 | train_mae: 0.20157 |  0:00:10s\n",
      "epoch 141| loss: 0.14141 | train_mse: 0.06944 | train_mae: 0.20635 |  0:00:10s\n",
      "epoch 142| loss: 0.11251 | train_mse: 0.07568 | train_mae: 0.2139  |  0:00:10s\n"
     ]
    },
    {
     "name": "stdout",
     "output_type": "stream",
     "text": [
      "epoch 143| loss: 0.12874 | train_mse: 0.08811 | train_mae: 0.22042 |  0:00:10s\n",
      "epoch 144| loss: 0.12737 | train_mse: 0.13097 | train_mae: 0.25237 |  0:00:10s\n",
      "epoch 145| loss: 0.14531 | train_mse: 0.1754  | train_mae: 0.29574 |  0:00:10s\n",
      "epoch 146| loss: 0.16711 | train_mse: 0.1817  | train_mae: 0.29477 |  0:00:10s\n"
     ]
    },
    {
     "name": "stdout",
     "output_type": "stream",
     "text": [
      "epoch 147| loss: 0.11926 | train_mse: 0.1266  | train_mae: 0.2558  |  0:00:10s\n",
      "epoch 148| loss: 0.13397 | train_mse: 0.12088 | train_mae: 0.24913 |  0:00:10s\n",
      "epoch 149| loss: 0.11441 | train_mse: 0.14042 | train_mae: 0.26208 |  0:00:10s\n"
     ]
    },
    {
     "name": "stdout",
     "output_type": "stream",
     "text": [
      "epoch 150| loss: 0.08578 | train_mse: 0.13602 | train_mae: 0.25254 |  0:00:11s\n",
      "epoch 151| loss: 0.0856  | train_mse: 0.11362 | train_mae: 0.23427 |  0:00:11s\n",
      "epoch 152| loss: 0.09444 | train_mse: 0.10599 | train_mae: 0.22818 |  0:00:11s\n"
     ]
    },
    {
     "name": "stdout",
     "output_type": "stream",
     "text": [
      "epoch 153| loss: 0.04709 | train_mse: 0.09885 | train_mae: 0.22129 |  0:00:11s\n",
      "epoch 154| loss: 0.08067 | train_mse: 0.08063 | train_mae: 0.20551 |  0:00:11s\n",
      "epoch 155| loss: 0.08617 | train_mse: 0.07496 | train_mae: 0.19893 |  0:00:11s\n"
     ]
    },
    {
     "name": "stdout",
     "output_type": "stream",
     "text": [
      "epoch 156| loss: 0.16454 | train_mse: 0.09852 | train_mae: 0.2214  |  0:00:11s\n",
      "epoch 157| loss: 0.09994 | train_mse: 0.09357 | train_mae: 0.2237  |  0:00:11s\n",
      "epoch 158| loss: 0.09524 | train_mse: 0.10318 | train_mae: 0.24291 |  0:00:11s\n"
     ]
    },
    {
     "name": "stdout",
     "output_type": "stream",
     "text": [
      "epoch 159| loss: 0.27813 | train_mse: 0.0811  | train_mae: 0.22722 |  0:00:11s\n",
      "epoch 160| loss: 0.08841 | train_mse: 0.09424 | train_mae: 0.23447 |  0:00:11s\n",
      "\n",
      "Early stopping occurred at epoch 160 with best_epoch = 110 and best_train_mae = 0.17707\n",
      "Best weights from best epoch are automatically used!\n"
     ]
    }
   ],
   "source": [
    "#Train the Model\n",
    "\n",
    "Y_train = np.reshape(Y_train, (-1, 1))\n",
    "Y_test = np.reshape(Y_test, (-1, 1))\n",
    "\n",
    "prior_model = TabNetRegressor(optimizer_fn=torch.optim.Adam, optimizer_params=dict(lr = 0.02),\n",
    "          #scheduler_params={\"step_size\":10, ], \"gamma\":0.9},\n",
    "          #scheduler_fn=torch.optim.lr_scheduler.StepLR\n",
    "          )  #TabNetRegressor()\n",
    "\n",
    "prior_model.fit(X_train,Y_train,eval_set=[(X_train, Y_train)],\n",
    "            eval_name=['train'], \n",
    "            eval_metric=[ 'mse', 'mae'], \n",
    "            max_epochs = n_epochs, \n",
    "            batch_size = batch_size,\n",
    "            patience=50\n",
    "            )"
   ]
  },
  {
   "cell_type": "code",
   "execution_count": 10,
   "id": "af65dcda",
   "metadata": {
    "execution": {
     "iopub.execute_input": "2022-06-22T15:23:01.349874Z",
     "iopub.status.busy": "2022-06-22T15:23:01.348984Z",
     "iopub.status.idle": "2022-06-22T15:23:01.375026Z",
     "shell.execute_reply": "2022-06-22T15:23:01.375584Z"
    },
    "id": "af65dcda",
    "papermill": {
     "duration": 0.066453,
     "end_time": "2022-06-22T15:23:01.375815",
     "exception": false,
     "start_time": "2022-06-22T15:23:01.309362",
     "status": "completed"
    },
    "tags": []
   },
   "outputs": [
    {
     "data": {
      "application/scrapbook.scrap.json+json": {
       "data": 0.23187771758970585,
       "encoder": "json",
       "name": "Prior Model MSE",
       "version": 1
      }
     },
     "metadata": {
      "scrapbook": {
       "data": true,
       "display": false,
       "name": "Prior Model MSE"
      }
     },
     "output_type": "display_data"
    },
    {
     "data": {
      "application/scrapbook.scrap.json+json": {
       "data": 0.22949535011601102,
       "encoder": "json",
       "name": "ABC Pre-generator MSE",
       "version": 1
      }
     },
     "metadata": {
      "scrapbook": {
       "data": true,
       "display": false,
       "name": "ABC Pre-generator MSE"
      }
     },
     "output_type": "display_data"
    },
    {
     "data": {
      "application/scrapbook.scrap.json+json": {
       "data": 0.3491100363326572,
       "encoder": "json",
       "name": "Prior Model MSE",
       "version": 1
      }
     },
     "metadata": {
      "scrapbook": {
       "data": true,
       "display": false,
       "name": "Prior Model MSE"
      }
     },
     "output_type": "display_data"
    },
    {
     "data": {
      "application/scrapbook.scrap.json+json": {
       "data": 0.3590862232407211,
       "encoder": "json",
       "name": "ABC Pre-generator MSE",
       "version": 1
      }
     },
     "metadata": {
      "scrapbook": {
       "data": true,
       "display": false,
       "name": "ABC Pre-generator MSE"
      }
     },
     "output_type": "display_data"
    }
   ],
   "source": [
    "y_pred = prior_model.predict(X_test)\n",
    "y_abc = y_pred + np.random.normal(0,variance, y_pred.shape) + bias \n",
    "mse = mean_squared_error(y_pred,Y_test)\n",
    "sb.glue(\"Prior Model MSE\",mse)\n",
    "mse = mean_squared_error(y_abc,Y_test)\n",
    "sb.glue(\"ABC Pre-generator MSE\",mse)\n",
    "mae = mean_absolute_error(y_pred,Y_test)\n",
    "sb.glue(\"Prior Model MSE\",mae)\n",
    "mae = mean_absolute_error(y_abc,Y_test)\n",
    "sb.glue(\"ABC Pre-generator MSE\",mae)"
   ]
  },
  {
   "cell_type": "markdown",
   "id": "25609da2",
   "metadata": {
    "papermill": {
     "duration": 0.02785,
     "end_time": "2022-06-22T15:23:01.433410",
     "exception": false,
     "start_time": "2022-06-22T15:23:01.405560",
     "status": "completed"
    },
    "tags": []
   },
   "source": [
    "# ABC GAN Model"
   ]
  },
  {
   "cell_type": "code",
   "execution_count": 11,
   "id": "dfc3464d",
   "metadata": {
    "execution": {
     "iopub.execute_input": "2022-06-22T15:23:01.501569Z",
     "iopub.status.busy": "2022-06-22T15:23:01.500538Z",
     "iopub.status.idle": "2022-06-22T15:23:01.504044Z",
     "shell.execute_reply": "2022-06-22T15:23:01.504855Z"
    },
    "papermill": {
     "duration": 0.045642,
     "end_time": "2022-06-22T15:23:01.506653",
     "exception": false,
     "start_time": "2022-06-22T15:23:01.461011",
     "status": "completed"
    },
    "tags": []
   },
   "outputs": [],
   "source": [
    "gen = network.Generator(n_features+1).to(device)\n",
    "disc = network.Discriminator(n_features+1).to(device)\n",
    "\n",
    "criterion = torch.nn.BCELoss()\n",
    "gen_opt = torch.optim.Adam(gen.parameters(), lr=0.001, betas=(0.5, 0.999))\n",
    "disc_opt = torch.optim.Adam(disc.parameters(), lr=0.001, betas=(0.5, 0.999))"
   ]
  },
  {
   "cell_type": "code",
   "execution_count": 12,
   "id": "b75fdd85",
   "metadata": {
    "execution": {
     "iopub.execute_input": "2022-06-22T15:23:01.570635Z",
     "iopub.status.busy": "2022-06-22T15:23:01.569943Z",
     "iopub.status.idle": "2022-06-22T15:23:42.901907Z",
     "shell.execute_reply": "2022-06-22T15:23:42.902379Z"
    },
    "papermill": {
     "duration": 41.365312,
     "end_time": "2022-06-22T15:23:42.902589",
     "exception": false,
     "start_time": "2022-06-22T15:23:01.537277",
     "status": "completed"
    },
    "tags": []
   },
   "outputs": [
    {
     "data": {
      "image/png": "[encoded data removed]",
      "text/plain": [
       "<Figure size 432x288 with 1 Axes>"
      ]
     },
     "metadata": {
      "needs_background": "light"
     },
     "output_type": "display_data"
    },
    {
     "data": {
      "image/png": "[encoded data removed]",
      "text/plain": [
       "<Figure size 432x288 with 1 Axes>"
      ]
     },
     "metadata": {
      "needs_background": "light"
     },
     "output_type": "display_data"
    }
   ],
   "source": [
    "#Training the ABC_GAN \n",
    "ABC_train_test2.training_GAN(disc,gen,disc_opt,gen_opt,train_data,batch_size,n_epochs,criterion,prior_model,variance,bias,device)"
   ]
  },
  {
   "cell_type": "code",
   "execution_count": 13,
   "id": "1fa7c368",
   "metadata": {
    "execution": {
     "iopub.execute_input": "2022-06-22T15:23:42.968985Z",
     "iopub.status.busy": "2022-06-22T15:23:42.968236Z",
     "iopub.status.idle": "2022-06-22T15:23:43.599371Z",
     "shell.execute_reply": "2022-06-22T15:23:43.599859Z"
    },
    "papermill": {
     "duration": 0.66862,
     "end_time": "2022-06-22T15:23:43.600073",
     "exception": false,
     "start_time": "2022-06-22T15:23:42.931453",
     "status": "completed"
    },
    "tags": []
   },
   "outputs": [
    {
     "data": {
      "application/scrapbook.scrap.json+json": {
       "data": 0.19763441441339571,
       "encoder": "json",
       "name": "ABC-GAN Model 1 MSE",
       "version": 1
      }
     },
     "metadata": {
      "scrapbook": {
       "data": true,
       "display": false,
       "name": "ABC-GAN Model 1 MSE"
      }
     },
     "output_type": "display_data"
    },
    {
     "data": {
      "application/scrapbook.scrap.json+json": {
       "data": 0.33668399991467596,
       "encoder": "json",
       "name": "ABC-GAN Model 1 MAE",
       "version": 1
      }
     },
     "metadata": {
      "scrapbook": {
       "data": true,
       "display": false,
       "name": "ABC-GAN Model 1 MAE"
      }
     },
     "output_type": "display_data"
    },
    {
     "data": {
      "application/scrapbook.scrap.json+json": {
       "data": 6.733679998293519,
       "encoder": "json",
       "name": "ABC-GAN Model 1 Manhattan Distance",
       "version": 1
      }
     },
     "metadata": {
      "scrapbook": {
       "data": true,
       "display": false,
       "name": "ABC-GAN Model 1 Manhattan Distance"
      }
     },
     "output_type": "display_data"
    },
    {
     "data": {
      "application/scrapbook.scrap.json+json": {
       "data": 1.9871890218419161,
       "encoder": "json",
       "name": "ABC-GAN Model 1 Euclidean distance",
       "version": 1
      }
     },
     "metadata": {
      "scrapbook": {
       "data": true,
       "display": false,
       "name": "ABC-GAN Model 1 Euclidean distance"
      }
     },
     "output_type": "display_data"
    },
    {
     "data": {
      "application/scrapbook.scrap.json+json": {
       "data": [
        [
         0.18940009962502852,
         0.19680112791867416,
         0.20512962264542417,
         0.1952068809709601,
         0.199465133961226,
         0.21395045706608454,
         0.197968381323645,
         0.1827784337234573,
         0.18039016487253395,
         0.21228643733931954,
         0.210278113339817,
         0.18784695643910823,
         0.18323388128865475,
         0.19553280305168327,
         0.20786767547944338,
         0.21215551273653793,
         0.2146401809665809,
         0.19306837511073463,
         0.1713104394203663,
         0.19514818273248874,
         0.18803451325634737,
         0.1962689489539618,
         0.1771120563662611,
         0.19700222310895135,
         0.20847155371261944,
         0.19455809663379278,
         0.21600789549561078,
         0.19224731309651538,
         0.18365112005284384,
         0.20422369707568394,
         0.19863789501673806,
         0.19946426493130168,
         0.19814577853707008,
         0.1887127608331733,
         0.17533612925622374,
         0.18993978104942083,
         0.21202553505853938,
         0.20934426954919094,
         0.1853790781187175,
         0.2224367509043374,
         0.19165940907460216,
         0.2012762323955588,
         0.20501678705162102,
         0.19089449412263326,
         0.18341247907102703,
         0.21498037445861334,
         0.19623526856234588,
         0.20332749625807917,
         0.18269334167483053,
         0.21366048162636347,
         0.19530175660661833,
         0.17852754524110276,
         0.19237038750747187,
         0.20527127712206603,
         0.1986183640271772,
         0.1919452033372705,
         0.20236046631478294,
         0.2022372428141745,
         0.18867273851775332,
         0.2200733350104105,
         0.18076821472196902,
         0.19986873580502798,
         0.17020626802083266,
         0.2099018617152672,
         0.1884726254383946,
         0.2195842343464939,
         0.20361083837972882,
         0.19285752248880703,
         0.18130403976916848,
         0.2083569933526058,
         0.20773439531681567,
         0.19103535043295045,
         0.19649404242838892,
         0.22839260314659357,
         0.2110360361604256,
         0.19901583172035886,
         0.20580042267632717,
         0.18080037858225206,
         0.19486969142039023,
         0.21714298758026923,
         0.198858108214283,
         0.19984857953107477,
         0.18686141733511932,
         0.20006772264198713,
         0.2122529085712051,
         0.18440149862769736,
         0.2121437088439026,
         0.2074371296597735,
         0.1957674141389289,
         0.21065317507162037,
         0.20203078405914723,
         0.2072677972555926,
         0.17552473812189512,
         0.18807211525647055,
         0.1813727502283475,
         0.1839791447341346,
         0.1965305982865046,
         0.20075388095071287,
         0.18425341982303223,
         0.20811827467150273
        ],
        [
         0.3275270386599004,
         0.32999001862481236,
         0.33795076450333,
         0.33998527089133856,
         0.3318639160133898,
         0.3553486512042582,
         0.31578263426199554,
         0.31954819494858383,
         0.3283872761763632,
         0.3537912626750767,
         0.33657065210863946,
         0.31316650519147515,
         0.3095572060905397,
         0.35269527276977897,
         0.3509222955442965,
         0.3449575916863978,
         0.358907235134393,
         0.31667281771078704,
         0.3067923870868981,
         0.32638096073642375,
         0.33032602882012724,
         0.3106474910862744,
         0.3156965418718755,
         0.3375870049931109,
         0.3494398879818618,
         0.3379510103724897,
         0.34922754028812053,
         0.3279886239208281,
         0.32978088231757285,
         0.33632468106225133,
         0.34093640455976126,
         0.3456413893960416,
         0.3264142184518278,
         0.32686673728749155,
         0.3168354914523661,
         0.3355181158520281,
         0.3406054482795298,
         0.3611867961473763,
         0.3221928977407515,
         0.3738273194991052,
         0.3255486682988703,
         0.3444654299877584,
         0.35328682204708456,
         0.3416703605093062,
         0.3091974868439138,
         0.35886708004400136,
         0.331081763561815,
         0.34640754768624904,
         0.31290962630882857,
         0.34415950821712615,
         0.33246071534231303,
         0.3227661375887692,
         0.33510744189843533,
         0.3364349597133696,
         0.346901539620012,
         0.33917615124955774,
         0.33298463439568876,
         0.3377915539778769,
         0.3338026822544634,
         0.36681676795706153,
         0.31945284744724634,
         0.3453775788657367,
         0.3026892737485468,
         0.3504466631449759,
         0.33761777812615035,
         0.3675535530783236,
         0.3439917857758701,
         0.3322495176456869,
         0.31732194414362314,
         0.3564931585453451,
         0.34063298227265476,
         0.3357587502337992,
         0.3393741368316114,
         0.3663881733082235,
         0.34921321282163265,
         0.3539983584545553,
         0.3502587809227407,
         0.332254280615598,
         0.33871542001143096,
         0.3613555339165032,
         0.3337129688821733,
         0.3398591705597937,
         0.30951244877651335,
         0.33907341500744226,
         0.35008136024698616,
         0.32335694869980214,
         0.361004211101681,
         0.3436587248928845,
         0.3331038604490459,
         0.3536902786232531,
         0.3522979968227446,
         0.34765069456771014,
         0.31742956330999733,
         0.31872822297737,
         0.3214179635979235,
         0.323722445871681,
         0.33055993681773543,
         0.3346869141794741,
         0.31582655822858213,
         0.35425323704257605
        ],
        [
         6.5505407731980085,
         6.599800372496247,
         6.7590152900666,
         6.799705417826772,
         6.6372783202677965,
         7.106973024085164,
         6.315652685239911,
         6.390963898971677,
         6.567745523527265,
         7.0758252535015345,
         6.73141304217279,
         6.263330103829503,
         6.191144121810794,
         7.053905455395579,
         7.01844591088593,
         6.899151833727956,
         7.1781447026878595,
         6.333456354215741,
         6.135847741737962,
         6.527619214728475,
         6.606520576402545,
         6.212949821725488,
         6.3139308374375105,
         6.751740099862218,
         6.988797759637237,
         6.759020207449794,
         6.98455080576241,
         6.559772478416562,
         6.595617646351457,
         6.726493621245027,
         6.818728091195226,
         6.912827787920833,
         6.528284369036555,
         6.537334745749831,
         6.336709829047322,
         6.710362317040563,
         6.812108965590596,
         7.223735922947526,
         6.44385795481503,
         7.476546389982104,
         6.5109733659774065,
         6.889308599755168,
         7.065736440941691,
         6.833407210186124,
         6.183949736878276,
         7.177341600880027,
         6.6216352712363005,
         6.92815095372498,
         6.258192526176572,
         6.883190164342523,
         6.649214306846261,
         6.455322751775384,
         6.702148837968707,
         6.728699194267392,
         6.938030792400241,
         6.783523024991155,
         6.659692687913775,
         6.755831079557538,
         6.676053645089269,
         7.336335359141231,
         6.389056948944926,
         6.9075515773147345,
         6.053785474970937,
         7.008933262899518,
         6.752355562523007,
         7.351071061566472,
         6.879835715517402,
         6.644990352913737,
         6.346438882872462,
         7.129863170906901,
         6.812659645453095,
         6.715175004675984,
         6.787482736632228,
         7.32776346616447,
         6.9842642564326525,
         7.0799671690911055,
         7.005175618454814,
         6.645085612311959,
         6.77430840022862,
         7.227110678330064,
         6.674259377643466,
         6.797183411195874,
         6.190248975530267,
         6.781468300148845,
         7.001627204939723,
         6.467138973996043,
         7.22008422203362,
         6.87317449785769,
         6.662077208980918,
         7.073805572465062,
         7.045959936454892,
         6.953013891354203,
         6.348591266199946,
         6.3745644595474005,
         6.42835927195847,
         6.4744489174336195,
         6.611198736354709,
         6.693738283589482,
         6.316531164571643,
         7.0850647408515215
        ],
        [
         1.9462790119868656,
         1.983941168072653,
         2.0254857325857625,
         1.9758890706259806,
         1.9973238794007646,
         2.0685765978860173,
         1.989815978042417,
         1.9119541507235853,
         1.8994218324139267,
         2.0605166213322303,
         2.050746758328863,
         1.938282520372653,
         1.9143347736937486,
         1.9775378785332194,
         2.0389589278817923,
         2.0598811263591785,
         2.071908207264892,
         1.9650362597709723,
         1.8510021038365478,
         1.9755919757505027,
         1.9392499233278178,
         1.9812569189984512,
         1.8820842508573365,
         1.9849545239574198,
         2.041918478845908,
         1.9726028319648776,
         2.0784989559564893,
         1.9608534524360322,
         1.9165130839774813,
         2.02100814978903,
         1.9931778396156128,
         1.9973195284245415,
         1.9907073041362464,
         1.942744248907577,
         1.8726245179224998,
         1.9490499277823583,
         2.0592500336702164,
         2.0461880145733966,
         1.9255081309551383,
         2.109202460193603,
         1.9578529519583545,
         2.0063710145212865,
         2.0249285767731218,
         1.9539421389725606,
         1.9152674960486697,
         2.073549490408239,
         1.9810869166310996,
         2.016568849596161,
         1.911509046145639,
         2.0671743111134266,
         1.9763691791090972,
         1.889590142020765,
         1.9614810093777195,
         2.0261849724152334,
         1.993079848009995,
         1.9593121412233963,
         2.0117677118135826,
         2.0111551049790988,
         1.9425382288014479,
         2.0979672781547882,
         1.901411132406503,
         1.9993435713004806,
         1.845027197744427,
         2.0489112314361853,
         1.9415077926106534,
         2.0956346740140273,
         2.0179734308445627,
         1.9639629451127993,
         1.9042270860859452,
         2.0413573589776277,
         2.0383051553524347,
         1.954662888750643,
         1.9823927079586876,
         2.1372533923079575,
         2.0544392722123748,
         1.9950730899912357,
         2.0287948278538526,
         1.9015802827240929,
         1.9741818123992037,
         2.0839529149204368,
         1.9942823682431885,
         1.9992427543001112,
         1.9331912338675619,
         2.0003385845500614,
         2.0603538947045243,
         1.9204244251086653,
         2.0598238218056544,
         2.0368462370035374,
         1.9787239026146568,
         2.0525748467309075,
         2.0101282748080895,
         2.0360147212414383,
         1.8736314371929987,
         1.9394438133468601,
         1.9045878831303507,
         1.9182238906558045,
         1.9825771020896241,
         2.0037658593294423,
         1.919653196924029,
         2.040187612311685
        ]
       ],
       "encoder": "json",
       "name": "ABC_GAN_1 Metrics",
       "version": 1
      }
     },
     "metadata": {
      "scrapbook": {
       "data": true,
       "display": false,
       "name": "ABC_GAN_1 Metrics"
      }
     },
     "output_type": "display_data"
    },
    {
     "name": "stdout",
     "output_type": "stream",
     "text": [
      "MSE\n",
      "0.19763441441339571\n"
     ]
    }
   ],
   "source": [
    "ABC_GAN1_metrics=ABC_train_test2.test_generator(gen,test_data,prior_model,variance,bias,\"1\",device)\n",
    "sb.glue(\"ABC_GAN_1 Metrics\",ABC_GAN1_metrics)\n",
    "\n",
    "print(\"MSE\")\n",
    "print(mean(ABC_GAN1_metrics[0]))"
   ]
  },
  {
   "cell_type": "code",
   "execution_count": 14,
   "id": "eb22ce5c",
   "metadata": {
    "execution": {
     "iopub.execute_input": "2022-06-22T15:23:43.674408Z",
     "iopub.status.busy": "2022-06-22T15:23:43.673566Z",
     "iopub.status.idle": "2022-06-22T15:23:44.401361Z",
     "shell.execute_reply": "2022-06-22T15:23:44.401898Z"
    },
    "papermill": {
     "duration": 0.772364,
     "end_time": "2022-06-22T15:23:44.402098",
     "exception": false,
     "start_time": "2022-06-22T15:23:43.629734",
     "status": "completed"
    },
    "tags": []
   },
   "outputs": [
    {
     "data": {
      "image/png": "[encoded data removed]",
      "text/plain": [
       "<Figure size 432x288 with 1 Axes>"
      ]
     },
     "metadata": {
      "needs_background": "light"
     },
     "output_type": "display_data"
    },
    {
     "data": {
      "image/png": "[encoded data removed]",
      "text/plain": [
       "<Figure size 432x288 with 1 Axes>"
      ]
     },
     "metadata": {
      "needs_background": "light"
     },
     "output_type": "display_data"
    },
    {
     "data": {
      "image/png": "[encoded data removed]",
      "text/plain": [
       "<Figure size 432x288 with 1 Axes>"
      ]
     },
     "metadata": {
      "needs_background": "light"
     },
     "output_type": "display_data"
    },
    {
     "data": {
      "image/png": "[encoded data removed]",
      "text/plain": [
       "<Figure size 432x288 with 1 Axes>"
      ]
     },
     "metadata": {
      "needs_background": "light"
     },
     "output_type": "display_data"
    }
   ],
   "source": [
    "sanityChecks.discProbVsError(train_data,disc,device)\n",
    "sanityChecks.discProbVsError(test_data,disc,device)"
   ]
  },
  {
   "cell_type": "markdown",
   "id": "130f3a4d",
   "metadata": {
    "id": "130f3a4d",
    "papermill": {
     "duration": 0.034389,
     "end_time": "2022-06-22T15:23:44.469674",
     "exception": false,
     "start_time": "2022-06-22T15:23:44.435285",
     "status": "completed"
    },
    "tags": []
   },
   "source": [
    "# ABC - GAN Model with skip connection"
   ]
  },
  {
   "cell_type": "code",
   "execution_count": 15,
   "id": "4e43dad1",
   "metadata": {
    "execution": {
     "iopub.execute_input": "2022-06-22T15:23:44.550377Z",
     "iopub.status.busy": "2022-06-22T15:23:44.549626Z",
     "iopub.status.idle": "2022-06-22T15:23:44.554580Z",
     "shell.execute_reply": "2022-06-22T15:23:44.555218Z"
    },
    "id": "4e43dad1",
    "papermill": {
     "duration": 0.051608,
     "end_time": "2022-06-22T15:23:44.555519",
     "exception": false,
     "start_time": "2022-06-22T15:23:44.503911",
     "status": "completed"
    },
    "tags": []
   },
   "outputs": [],
   "source": [
    "#Generator\n",
    "gen3 = network.GeneratorWithSkipConnection(n_features+1).to(device)\n",
    "constraints=network.weightConstraint()\n",
    "#Discriminator \n",
    "disc3 = network.Discriminator(n_features+1).to(device)\n",
    "\n",
    "criterion = torch.nn.BCELoss()\n",
    "gen_opt = torch.optim.Adam(gen3.parameters(), lr=0.001, betas=(0.5, 0.999))\n",
    "disc_opt = torch.optim.Adam(disc3.parameters(), lr=0.001, betas=(0.5, 0.999))\n"
   ]
  },
  {
   "cell_type": "code",
   "execution_count": 16,
   "id": "26acbc37",
   "metadata": {
    "execution": {
     "iopub.execute_input": "2022-06-22T15:23:44.645641Z",
     "iopub.status.busy": "2022-06-22T15:23:44.644912Z",
     "iopub.status.idle": "2022-06-22T15:25:01.288117Z",
     "shell.execute_reply": "2022-06-22T15:25:01.288715Z"
    },
    "id": "26acbc37",
    "papermill": {
     "duration": 76.694923,
     "end_time": "2022-06-22T15:25:01.288930",
     "exception": false,
     "start_time": "2022-06-22T15:23:44.594007",
     "status": "completed"
    },
    "tags": []
   },
   "outputs": [
    {
     "data": {
      "image/png": "[encoded data removed]",
      "text/plain": [
       "<Figure size 432x288 with 1 Axes>"
      ]
     },
     "metadata": {
      "needs_background": "light"
     },
     "output_type": "display_data"
    },
    {
     "data": {
      "image/png": "[encoded data removed]",
      "text/plain": [
       "<Figure size 432x288 with 1 Axes>"
      ]
     },
     "metadata": {
      "needs_background": "light"
     },
     "output_type": "display_data"
    }
   ],
   "source": [
    "ABC_train_test2.training_GAN_skip_connection(disc3,gen3,disc_opt,gen_opt,train_data,batch_size,n_epochs,criterion,prior_model,variance,bias,device)"
   ]
  },
  {
   "cell_type": "code",
   "execution_count": 17,
   "id": "c5e0717b",
   "metadata": {
    "execution": {
     "iopub.execute_input": "2022-06-22T15:25:01.400785Z",
     "iopub.status.busy": "2022-06-22T15:25:01.399566Z",
     "iopub.status.idle": "2022-06-22T15:25:02.183390Z",
     "shell.execute_reply": "2022-06-22T15:25:02.183858Z"
    },
    "id": "c5e0717b",
    "papermill": {
     "duration": 0.851258,
     "end_time": "2022-06-22T15:25:02.184069",
     "exception": false,
     "start_time": "2022-06-22T15:25:01.332811",
     "status": "completed"
    },
    "tags": []
   },
   "outputs": [
    {
     "data": {
      "application/scrapbook.scrap.json+json": {
       "data": 0.262811769046123,
       "encoder": "json",
       "name": "ABC-GAN Model 3 MSE",
       "version": 1
      }
     },
     "metadata": {
      "scrapbook": {
       "data": true,
       "display": false,
       "name": "ABC-GAN Model 3 MSE"
      }
     },
     "output_type": "display_data"
    },
    {
     "data": {
      "application/scrapbook.scrap.json+json": {
       "data": 0.4079276938661933,
       "encoder": "json",
       "name": "ABC-GAN Model 3 MAE",
       "version": 1
      }
     },
     "metadata": {
      "scrapbook": {
       "data": true,
       "display": false,
       "name": "ABC-GAN Model 3 MAE"
      }
     },
     "output_type": "display_data"
    },
    {
     "data": {
      "application/scrapbook.scrap.json+json": {
       "data": 8.158553877323866,
       "encoder": "json",
       "name": "ABC-GAN Model 3 Manhattan Distance",
       "version": 1
      }
     },
     "metadata": {
      "scrapbook": {
       "data": true,
       "display": false,
       "name": "ABC-GAN Model 3 Manhattan Distance"
      }
     },
     "output_type": "display_data"
    },
    {
     "data": {
      "application/scrapbook.scrap.json+json": {
       "data": 2.291767598927667,
       "encoder": "json",
       "name": "ABC-GAN Model 3 Euclidean distance",
       "version": 1
      }
     },
     "metadata": {
      "scrapbook": {
       "data": true,
       "display": false,
       "name": "ABC-GAN Model 3 Euclidean distance"
      }
     },
     "output_type": "display_data"
    },
    {
     "data": {
      "application/scrapbook.scrap.json+json": {
       "data": [
        [
         0.27356108954700553,
         0.2681684470434401,
         0.23805687256154667,
         0.2800708395787421,
         0.25444134715768063,
         0.2513212104009387,
         0.26164966758113484,
         0.2703489013603062,
         0.2638524529106806,
         0.2513832487278505,
         0.26444529277558,
         0.27212168863073305,
         0.25368622490791604,
         0.2450093319653018,
         0.24718041169077803,
         0.28628727230009104,
         0.27866635591672423,
         0.26581320697262617,
         0.2543006172826982,
         0.27060175074238313,
         0.26486166770724584,
         0.2712755535916026,
         0.28394026593369526,
         0.24110134262824362,
         0.24875124985322072,
         0.2571478683639103,
         0.2454996726674076,
         0.2865591227171062,
         0.2544794841924012,
         0.28709816864595133,
         0.2703259075365506,
         0.2569623262328761,
         0.25451443661561995,
         0.27386214726461655,
         0.25988686854002735,
         0.24958707982439837,
         0.2713203564061503,
         0.22356378865481058,
         0.2659685105526118,
         0.27054697367348834,
         0.274399413492967,
         0.24149780335300508,
         0.2739676758490342,
         0.24388670110176705,
         0.26400542091059653,
         0.2721757323290913,
         0.2937129788700512,
         0.24983309448774751,
         0.26212296989818606,
         0.2436222467946405,
         0.25401183106183756,
         0.2514682749096594,
         0.2697945367332001,
         0.2570519831708996,
         0.2765871602060007,
         0.2588618144894132,
         0.2609294195484824,
         0.2607432646205705,
         0.2678647282538594,
         0.26345103791926117,
         0.22055100258319835,
         0.2841960349734777,
         0.2654881665588934,
         0.24935933094767065,
         0.2460976326083668,
         0.2543731404178756,
         0.2923991424520191,
         0.2673939393528503,
         0.2735744591507487,
         0.26852189096098433,
         0.25863048387381815,
         0.27898621241537247,
         0.2564515533764821,
         0.2697034071715657,
         0.2535725900843758,
         0.2536379076462364,
         0.25168545318880026,
         0.27345000117502527,
         0.23860303869644545,
         0.2516524725292477,
         0.2809367665659822,
         0.280241586876136,
         0.27661811273983544,
         0.249430559730426,
         0.2722414923705634,
         0.2814924969360138,
         0.2431824127563574,
         0.26861843956561315,
         0.2594039162446257,
         0.28854338967239096,
         0.26914707569453955,
         0.26390429842352997,
         0.2519089365413205,
         0.2759697608392241,
         0.23577542691052505,
         0.27670031926471544,
         0.25471553449897893,
         0.28496349799821913,
         0.27415967176866224,
         0.2566882393948274
        ],
        [
         0.41510087670758367,
         0.41271739145740866,
         0.3847847291268408,
         0.42158932955935596,
         0.4034720058552921,
         0.3867873528972268,
         0.405991782899946,
         0.4148131753318012,
         0.4191583750769496,
         0.39598083021119235,
         0.41066153785213827,
         0.40650822054594754,
         0.4051899932324886,
         0.38919221609830856,
         0.3955498433671892,
         0.4340862919576466,
         0.41963621517643335,
         0.41408242033794523,
         0.40212750593200325,
         0.4178758333437145,
         0.4127705400809646,
         0.4128786301240325,
         0.42567433407530186,
         0.3915591179393232,
         0.39584557255730035,
         0.3915583689697087,
         0.39650747263804076,
         0.4342673646751791,
         0.3941838833503425,
         0.42147041549906133,
         0.418445077445358,
         0.4033299750648439,
         0.40282701775431634,
         0.41451641181483867,
         0.39935374772176147,
         0.3981316051445901,
         0.4131006563082337,
         0.381611043959856,
         0.409980193618685,
         0.4108090551570058,
         0.42386224018409846,
         0.39628104837611317,
         0.41415092777460816,
         0.39799703611060977,
         0.40999657241627574,
         0.4113653122447431,
         0.42677231077104805,
         0.39166309470310806,
         0.40854495409876107,
         0.39543105345219376,
         0.4088155563920736,
         0.4011262911371887,
         0.4078671155497432,
         0.402425682451576,
         0.4150195282883942,
         0.40517080184072257,
         0.40855092694982886,
         0.40659890612587335,
         0.412307860981673,
         0.4093077540397644,
         0.3683469853363931,
         0.4307231134735048,
         0.40794232646003364,
         0.40552711030468347,
         0.4008120893500745,
         0.3998562561348081,
         0.4349567704834044,
         0.4096620316617191,
         0.4173550744540989,
         0.41432761237956583,
         0.4065256931819022,
         0.4224265749566257,
         0.40877888081595304,
         0.4140474908985198,
         0.4056022600270808,
         0.39974109567701815,
         0.3932416755706072,
         0.4137096437625587,
         0.3856146064586937,
         0.3973522354848683,
         0.4278484466485679,
         0.4228589587844908,
         0.4127216058317572,
         0.3931872543878853,
         0.41141338348388673,
         0.4278194376267493,
         0.37866366747766733,
         0.4103471064940095,
         0.4064584519714117,
         0.4359490725211799,
         0.4145448845811188,
         0.4021849895361811,
         0.39948802618309853,
         0.41544085508212447,
         0.3981459609232843,
         0.41715176645666363,
         0.39646195732057093,
         0.4285899228416383,
         0.41448786230757834,
         0.4050748645327985
        ],
        [
         8.302017534151673,
         8.254347829148173,
         7.695694582536817,
         8.43178659118712,
         8.069440117105842,
         7.735747057944536,
         8.11983565799892,
         8.296263506636024,
         8.383167501538992,
         7.919616604223847,
         8.213230757042766,
         8.130164410918951,
         8.103799864649773,
         7.783844321966171,
         7.910996867343783,
         8.681725839152932,
         8.392724303528666,
         8.281648406758904,
         8.042550118640065,
         8.35751666687429,
         8.255410801619291,
         8.25757260248065,
         8.513486681506038,
         7.831182358786464,
         7.916911451146007,
         7.831167379394174,
         7.930149452760816,
         8.685347293503582,
         7.88367766700685,
         8.429408309981227,
         8.36890154890716,
         8.066599501296878,
         8.056540355086327,
         8.290328236296773,
         7.987074954435229,
         7.962632102891803,
         8.262013126164675,
         7.632220879197121,
         8.1996038723737,
         8.216181103140116,
         8.47724480368197,
         7.9256209675222635,
         8.283018555492163,
         7.959940722212195,
         8.199931448325515,
         8.227306244894862,
         8.535446215420961,
         7.8332618940621614,
         8.170899081975222,
         7.908621069043875,
         8.176311127841473,
         8.022525822743773,
         8.157342310994864,
         8.04851364903152,
         8.300390565767884,
         8.103416036814451,
         8.171018538996577,
         8.131978122517467,
         8.24615721963346,
         8.186155080795288,
         7.366939706727862,
         8.614462269470096,
         8.158846529200673,
         8.110542206093669,
         8.01624178700149,
         7.997125122696161,
         8.699135409668088,
         8.193240633234382,
         8.347101489081979,
         8.286552247591317,
         8.130513863638043,
         8.448531499132514,
         8.17557761631906,
         8.280949817970395,
         8.112045200541615,
         7.994821913540363,
         7.864833511412144,
         8.274192875251174,
         7.712292129173875,
         7.947044709697366,
         8.556968932971358,
         8.457179175689816,
         8.254432116635144,
         7.863745087757707,
         8.228267669677734,
         8.556388752534986,
         7.573273349553347,
         8.20694212988019,
         8.129169039428234,
         8.718981450423598,
         8.290897691622376,
         8.043699790723622,
         7.989760523661971,
         8.30881710164249,
         7.962919218465686,
         8.343035329133272,
         7.929239146411419,
         8.571798456832767,
         8.289757246151567,
         8.10149729065597
        ],
        [
         2.3390642981628593,
         2.315894846677802,
         2.182003082314719,
         2.366731246165234,
         2.2558428454024924,
         2.2419688240514795,
         2.287573682228115,
         2.3252909553873304,
         2.297182852585665,
         2.2422455205790937,
         2.299762130202078,
         2.3329024352969974,
         2.2524929518554146,
         2.213636519238431,
         2.2234226394942462,
         2.392852992977592,
         2.360789511653778,
         2.3057025262276407,
         2.2552189130224063,
         2.326378089401562,
         2.3015719311255336,
         2.329272648667831,
         2.3830244058074403,
         2.195911394515924,
         2.2304764058524387,
         2.2678089353554913,
         2.2158505033842313,
         2.393988816670229,
         2.256011897984588,
         2.3962394231209507,
         2.3251920674927073,
         2.266990631797477,
         2.256166822801984,
         2.3403510303568416,
         2.2798546819480725,
         2.234220579192656,
         2.3294649875288975,
         2.1145391396463227,
         2.3063759908246175,
         2.3261426167519836,
         2.342645570686983,
         2.1977161024709497,
         2.3408018961417225,
         2.2085592638721154,
         2.297848649979352,
         2.33313408242686,
         2.4236871863755485,
         2.2353214287334495,
         2.289641761927774,
         2.2073615326658227,
         2.2539380251543633,
         2.2426246895531112,
         2.3229056663291345,
         2.2673860860951742,
         2.3519658169539825,
         2.2753541020659322,
         2.284422988627467,
         2.283607955059583,
         2.3145830218588372,
         2.295434764567537,
         2.100242855401243,
         2.38409746014494,
         2.304292371028006,
         2.2332009804210218,
         2.218547419409226,
         2.2555404692351484,
         2.418260293897326,
         2.3125481156198684,
         2.3391214553791286,
         2.317420509795252,
         2.2743371952013542,
         2.362143993982469,
         2.2647364234121468,
         2.3225133247047935,
         2.2519884106468036,
         2.252278435923216,
         2.243592891719887,
         2.338589323395732,
         2.184504697621158,
         2.24344588759902,
         2.370387169075897,
         2.367452584007274,
         2.3520974160941357,
         2.233519911397371,
         2.3334159182218817,
         2.3727304816856623,
         2.2053680543453846,
         2.317837093350666,
         2.2777353500555138,
         2.402263056671317,
         2.320116702644673,
         2.297408533210974,
         2.244588766528606,
         2.3493393149531383,
         2.1715221707849315,
         2.3524468931931937,
         2.2570579722239255,
         2.3873143823058545,
         2.341621966794223,
         2.265781275387487
        ]
       ],
       "encoder": "json",
       "name": "ABC_GAN_3 Metrics",
       "version": 1
      }
     },
     "metadata": {
      "scrapbook": {
       "data": true,
       "display": false,
       "name": "ABC_GAN_3 Metrics"
      }
     },
     "output_type": "display_data"
    },
    {
     "name": "stdout",
     "output_type": "stream",
     "text": [
      "MSE\n",
      "0.262811769046123\n"
     ]
    }
   ],
   "source": [
    "ABC_GAN3_metrics=ABC_train_test2.test_generator(gen3,test_data,prior_model,variance,bias,\"3\",device)\n",
    "sb.glue(\"ABC_GAN_3 Metrics\",ABC_GAN3_metrics)\n",
    "\n",
    "print(\"MSE\")\n",
    "print(mean(ABC_GAN3_metrics[0]))"
   ]
  },
  {
   "cell_type": "code",
   "execution_count": 18,
   "id": "c8e46b48",
   "metadata": {
    "execution": {
     "iopub.execute_input": "2022-06-22T15:25:02.275272Z",
     "iopub.status.busy": "2022-06-22T15:25:02.274517Z",
     "iopub.status.idle": "2022-06-22T15:25:02.980220Z",
     "shell.execute_reply": "2022-06-22T15:25:02.980786Z"
    },
    "id": "c8e46b48",
    "papermill": {
     "duration": 0.753759,
     "end_time": "2022-06-22T15:25:02.981004",
     "exception": false,
     "start_time": "2022-06-22T15:25:02.227245",
     "status": "completed"
    },
    "tags": []
   },
   "outputs": [
    {
     "data": {
      "image/png": "[encoded data removed]",
      "text/plain": [
       "<Figure size 432x288 with 1 Axes>"
      ]
     },
     "metadata": {
      "needs_background": "light"
     },
     "output_type": "display_data"
    },
    {
     "data": {
      "image/png": "[encoded data removed]",
      "text/plain": [
       "<Figure size 432x288 with 1 Axes>"
      ]
     },
     "metadata": {
      "needs_background": "light"
     },
     "output_type": "display_data"
    },
    {
     "data": {
      "image/png": "[encoded data removed]",
      "text/plain": [
       "<Figure size 432x288 with 1 Axes>"
      ]
     },
     "metadata": {
      "needs_background": "light"
     },
     "output_type": "display_data"
    },
    {
     "data": {
      "image/png": "[encoded data removed]",
      "text/plain": [
       "<Figure size 432x288 with 1 Axes>"
      ]
     },
     "metadata": {
      "needs_background": "light"
     },
     "output_type": "display_data"
    }
   ],
   "source": [
    "sanityChecks.discProbVsError(train_data,disc3,device)\n",
    "sanityChecks.discProbVsError(test_data,disc3,device)"
   ]
  },
  {
   "cell_type": "markdown",
   "id": "a5bd74c3",
   "metadata": {
    "id": "a5bd74c3",
    "papermill": {
     "duration": 0.055565,
     "end_time": "2022-06-22T15:25:03.085221",
     "exception": false,
     "start_time": "2022-06-22T15:25:03.029656",
     "status": "completed"
    },
    "tags": []
   },
   "source": [
    "## Skip Connection Model Analysis - ABC-GAN "
   ]
  },
  {
   "cell_type": "markdown",
   "id": "5744a8bf",
   "metadata": {
    "id": "5744a8bf",
    "papermill": {
     "duration": 0.073765,
     "end_time": "2022-06-22T15:25:03.211087",
     "exception": false,
     "start_time": "2022-06-22T15:25:03.137322",
     "status": "completed"
    },
    "tags": []
   },
   "source": [
    "### Weight Analysis \n",
    "\n",
    "Study the weights of the skip connection layer\n",
    "\n",
    "Equation of the skip connection is \n",
    "\n",
    "$output = y_{gan} * w + y_{abc} * (1-w)$"
   ]
  },
  {
   "cell_type": "code",
   "execution_count": 19,
   "id": "52c31dea",
   "metadata": {
    "execution": {
     "iopub.execute_input": "2022-06-22T15:25:03.316144Z",
     "iopub.status.busy": "2022-06-22T15:25:03.315258Z",
     "iopub.status.idle": "2022-06-22T15:25:03.322284Z",
     "shell.execute_reply": "2022-06-22T15:25:03.322914Z"
    },
    "id": "52c31dea",
    "papermill": {
     "duration": 0.066246,
     "end_time": "2022-06-22T15:25:03.323145",
     "exception": false,
     "start_time": "2022-06-22T15:25:03.256899",
     "status": "completed"
    },
    "tags": []
   },
   "outputs": [
    {
     "name": "stdout",
     "output_type": "stream",
     "text": [
      "Weight of the node at skip connection\n",
      "Parameter containing:\n",
      "tensor([[0.5576]], requires_grad=True)\n"
     ]
    },
    {
     "data": {
      "application/scrapbook.scrap.json+json": {
       "data": 0.5575966238975525,
       "encoder": "json",
       "name": "Skip Connection Weight",
       "version": 1
      }
     },
     "metadata": {
      "scrapbook": {
       "data": true,
       "display": false,
       "name": "Skip Connection Weight"
      }
     },
     "output_type": "display_data"
    }
   ],
   "source": [
    "print(\"Weight of the node at skip connection\")\n",
    "for name,param in gen3.named_parameters():\n",
    "    if(name == \"skipNode.weight\"):\n",
    "        print(param)\n",
    "        sb.glue(\"Skip Connection Weight\",param.item())"
   ]
  }
 ],
 "metadata": {
  "colab": {
   "collapsed_sections": [],
   "name": "ABC_GAN_Model-Catboost_Pre-gen.ipynb",
   "provenance": []
  },
  "interpreter": {
   "hash": "31f2aee4e71d21fbe5cf8b01ff0e069b9275f58929596ceb00d14d90e3e16cd6"
  },
  "kernelspec": {
   "display_name": "Python 3 (ipykernel)",
   "language": "python",
   "name": "python3"
  },
  "language_info": {
   "codemirror_mode": {
    "name": "ipython",
    "version": 3
   },
   "file_extension": ".py",
   "mimetype": "text/x-python",
   "name": "python",
   "nbconvert_exporter": "python",
   "pygments_lexer": "ipython3",
   "version": "3.8.3"
  },
  "papermill": {
   "default_parameters": {},
   "duration": 144.348,
   "end_time": "2022-06-22T15:25:05.215432",
   "environment_variables": {},
   "exception": null,
   "input_path": "ABC_GAN-TabNet.ipynb",
   "output_path": "./ABC_GAN_TabNet/ABC-GAN_output_8_4.ipynb",
   "parameters": {
    "bias": 0.1,
    "variance": 0.1
   },
   "start_time": "2022-06-22T15:22:40.867432",
   "version": "2.3.3"
  }
 },
 "nbformat": 4,
 "nbformat_minor": 5
}