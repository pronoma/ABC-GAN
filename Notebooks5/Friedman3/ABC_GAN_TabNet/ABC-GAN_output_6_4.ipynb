{
 "cells": [
  {
   "cell_type": "markdown",
   "id": "622780e6",
   "metadata": {
    "id": "622780e6",
    "papermill": {
     "duration": 0.024863,
     "end_time": "2022-06-22T14:20:21.305927",
     "exception": false,
     "start_time": "2022-06-22T14:20:21.281064",
     "status": "completed"
    },
    "tags": []
   },
   "source": [
    "## Import Libraries "
   ]
  },
  {
   "cell_type": "code",
   "execution_count": 1,
   "id": "a62397e3",
   "metadata": {
    "execution": {
     "iopub.execute_input": "2022-06-22T14:20:21.407989Z",
     "iopub.status.busy": "2022-06-22T14:20:21.400879Z",
     "iopub.status.idle": "2022-06-22T14:20:21.420447Z",
     "shell.execute_reply": "2022-06-22T14:20:21.422670Z"
    },
    "id": "a62397e3",
    "papermill": {
     "duration": 0.097681,
     "end_time": "2022-06-22T14:20:21.423213",
     "exception": false,
     "start_time": "2022-06-22T14:20:21.325532",
     "status": "completed"
    },
    "tags": []
   },
   "outputs": [],
   "source": [
    "import warnings\n",
    "import sys\n",
    "sys.path.insert(0, '../../src')\n",
    "warnings.filterwarnings('ignore')"
   ]
  },
  {
   "cell_type": "code",
   "execution_count": 2,
   "id": "d6a4e155",
   "metadata": {
    "execution": {
     "iopub.execute_input": "2022-06-22T14:20:21.516366Z",
     "iopub.status.busy": "2022-06-22T14:20:21.509396Z",
     "iopub.status.idle": "2022-06-22T14:20:28.054386Z",
     "shell.execute_reply": "2022-06-22T14:20:28.053224Z"
    },
    "id": "d6a4e155",
    "papermill": {
     "duration": 6.605683,
     "end_time": "2022-06-22T14:20:28.054839",
     "exception": false,
     "start_time": "2022-06-22T14:20:21.449156",
     "status": "completed"
    },
    "tags": []
   },
   "outputs": [],
   "source": [
    "import ABC_train_test2\n",
    "import friedman3Dataset\n",
    "import network\n",
    "import dataset\n",
    "import sanityChecks\n",
    "import torch \n",
    "import scrapbook as sb\n",
    "from statistics import mean \n",
    "import catboost as ctb \n",
    "from sklearn.model_selection import train_test_split\n",
    "from sklearn.metrics import mean_squared_error,mean_absolute_error\n",
    "import numpy as np\n",
    "from pytorch_tabnet.tab_model import TabNetRegressor"
   ]
  },
  {
   "cell_type": "markdown",
   "id": "2fa5b0f7",
   "metadata": {
    "id": "2fa5b0f7",
    "papermill": {
     "duration": 0.020033,
     "end_time": "2022-06-22T14:20:28.094899",
     "exception": false,
     "start_time": "2022-06-22T14:20:28.074866",
     "status": "completed"
    },
    "tags": []
   },
   "source": [
    "## Parameters "
   ]
  },
  {
   "cell_type": "code",
   "execution_count": 3,
   "id": "783186fb",
   "metadata": {
    "execution": {
     "iopub.execute_input": "2022-06-22T14:20:28.142107Z",
     "iopub.status.busy": "2022-06-22T14:20:28.140569Z",
     "iopub.status.idle": "2022-06-22T14:20:28.145818Z",
     "shell.execute_reply": "2022-06-22T14:20:28.147041Z"
    },
    "id": "783186fb",
    "papermill": {
     "duration": 0.032715,
     "end_time": "2022-06-22T14:20:28.147424",
     "exception": false,
     "start_time": "2022-06-22T14:20:28.114709",
     "status": "completed"
    },
    "tags": [
     "parameters"
    ]
   },
   "outputs": [],
   "source": [
    "variance = 1\n",
    "bias = 1 "
   ]
  },
  {
   "cell_type": "code",
   "execution_count": 4,
   "id": "71b500b0",
   "metadata": {
    "execution": {
     "iopub.execute_input": "2022-06-22T14:20:28.188942Z",
     "iopub.status.busy": "2022-06-22T14:20:28.184260Z",
     "iopub.status.idle": "2022-06-22T14:20:28.193123Z",
     "shell.execute_reply": "2022-06-22T14:20:28.193835Z"
    },
    "papermill": {
     "duration": 0.029447,
     "end_time": "2022-06-22T14:20:28.194066",
     "exception": false,
     "start_time": "2022-06-22T14:20:28.164619",
     "status": "completed"
    },
    "tags": [
     "injected-parameters"
    ]
   },
   "outputs": [],
   "source": [
    "# Parameters\n",
    "variance = 0.1\n",
    "bias = 0.1\n"
   ]
  },
  {
   "cell_type": "markdown",
   "id": "391cdbfd",
   "metadata": {
    "id": "391cdbfd",
    "papermill": {
     "duration": 0.049574,
     "end_time": "2022-06-22T14:20:28.280892",
     "exception": false,
     "start_time": "2022-06-22T14:20:28.231318",
     "status": "completed"
    },
    "tags": []
   },
   "source": [
    "## Dataset \n"
   ]
  },
  {
   "cell_type": "code",
   "execution_count": 5,
   "id": "5b51f161",
   "metadata": {
    "execution": {
     "iopub.execute_input": "2022-06-22T14:20:28.332240Z",
     "iopub.status.busy": "2022-06-22T14:20:28.330647Z",
     "iopub.status.idle": "2022-06-22T14:20:28.333232Z",
     "shell.execute_reply": "2022-06-22T14:20:28.333840Z"
    },
    "id": "5b51f161",
    "papermill": {
     "duration": 0.033477,
     "end_time": "2022-06-22T14:20:28.334062",
     "exception": false,
     "start_time": "2022-06-22T14:20:28.300585",
     "status": "completed"
    },
    "tags": []
   },
   "outputs": [],
   "source": [
    "#Parameters \n",
    "n_features = 4\n",
    "n_samples= 100\n",
    "n_target = 1"
   ]
  },
  {
   "cell_type": "code",
   "execution_count": 6,
   "id": "5d6eced4",
   "metadata": {
    "execution": {
     "iopub.execute_input": "2022-06-22T14:20:28.416998Z",
     "iopub.status.busy": "2022-06-22T14:20:28.416029Z",
     "iopub.status.idle": "2022-06-22T14:20:28.434227Z",
     "shell.execute_reply": "2022-06-22T14:20:28.434883Z"
    },
    "id": "5d6eced4",
    "papermill": {
     "duration": 0.067408,
     "end_time": "2022-06-22T14:20:28.435269",
     "exception": false,
     "start_time": "2022-06-22T14:20:28.367861",
     "status": "completed"
    },
    "tags": []
   },
   "outputs": [
    {
     "name": "stdout",
     "output_type": "stream",
     "text": [
      "          X1           X2        X3        X4         Y\n",
      "0   2.357168   922.189241  0.448194  3.709561  1.644530\n",
      "1  92.781575   259.781459  0.846489  1.608303  1.104099\n",
      "2   3.253004  1393.370182  0.394036  9.870215  1.225782\n",
      "3  58.391818  1249.285116  0.125685  7.940503  1.047218\n",
      "4  68.714016  1706.002231  0.710035  4.581075  1.572538\n"
     ]
    }
   ],
   "source": [
    "X,Y = friedman3Dataset.friedman3_data(n_samples)"
   ]
  },
  {
   "cell_type": "code",
   "execution_count": 7,
   "id": "fe007438",
   "metadata": {
    "execution": {
     "iopub.execute_input": "2022-06-22T14:20:28.486826Z",
     "iopub.status.busy": "2022-06-22T14:20:28.484083Z",
     "iopub.status.idle": "2022-06-22T14:20:28.489538Z",
     "shell.execute_reply": "2022-06-22T14:20:28.490276Z"
    },
    "id": "fe007438",
    "papermill": {
     "duration": 0.032627,
     "end_time": "2022-06-22T14:20:28.490590",
     "exception": false,
     "start_time": "2022-06-22T14:20:28.457963",
     "status": "completed"
    },
    "tags": []
   },
   "outputs": [],
   "source": [
    "#Train test split for dataset \n",
    "X_train,X_test,Y_train,Y_test = train_test_split(X,Y,test_size = 0.2)\n",
    "train_data = dataset.CustomDataset(X_train,Y_train)\n",
    "test_data = dataset.CustomDataset(X_test,Y_test)\n"
   ]
  },
  {
   "cell_type": "markdown",
   "id": "a9a1af34",
   "metadata": {
    "id": "a9a1af34",
    "papermill": {
     "duration": 0.031304,
     "end_time": "2022-06-22T14:20:28.540755",
     "exception": false,
     "start_time": "2022-06-22T14:20:28.509451",
     "status": "completed"
    },
    "tags": []
   },
   "source": [
    "## Training Parameters "
   ]
  },
  {
   "cell_type": "code",
   "execution_count": 8,
   "id": "952b7fc8",
   "metadata": {
    "execution": {
     "iopub.execute_input": "2022-06-22T14:20:28.582804Z",
     "iopub.status.busy": "2022-06-22T14:20:28.582002Z",
     "iopub.status.idle": "2022-06-22T14:20:28.584327Z",
     "shell.execute_reply": "2022-06-22T14:20:28.584956Z"
    },
    "id": "952b7fc8",
    "papermill": {
     "duration": 0.026578,
     "end_time": "2022-06-22T14:20:28.585236",
     "exception": false,
     "start_time": "2022-06-22T14:20:28.558658",
     "status": "completed"
    },
    "tags": []
   },
   "outputs": [],
   "source": [
    "batch_size = 32\n",
    "n_epochs = 1000\n",
    "#Select the device \n",
    "device = torch.device('cuda' if torch.cuda.is_available() else 'cpu')"
   ]
  },
  {
   "cell_type": "markdown",
   "id": "a95e1600",
   "metadata": {
    "id": "a95e1600",
    "papermill": {
     "duration": 0.01618,
     "end_time": "2022-06-22T14:20:28.618957",
     "exception": false,
     "start_time": "2022-06-22T14:20:28.602777",
     "status": "completed"
    },
    "tags": []
   },
   "source": [
    "# ABC Pre-generator Model \n",
    "\n",
    "1. The catboost model is used as a pre-generator model for the ABC-GAN. \n",
    "2. The model is first trained on the entire dataset \n",
    "3. It generats X,Y pairs and we add some Gaussian noise with mean 0 and variance 1 to it which is then feed as input to the generator.\n"
   ]
  },
  {
   "cell_type": "code",
   "execution_count": 9,
   "id": "ff8ce7bd",
   "metadata": {
    "execution": {
     "iopub.execute_input": "2022-06-22T14:20:28.665830Z",
     "iopub.status.busy": "2022-06-22T14:20:28.664792Z",
     "iopub.status.idle": "2022-06-22T14:20:39.226291Z",
     "shell.execute_reply": "2022-06-22T14:20:39.226839Z"
    },
    "id": "ff8ce7bd",
    "papermill": {
     "duration": 10.592805,
     "end_time": "2022-06-22T14:20:39.227044",
     "exception": false,
     "start_time": "2022-06-22T14:20:28.634239",
     "status": "completed"
    },
    "tags": []
   },
   "outputs": [
    {
     "name": "stdout",
     "output_type": "stream",
     "text": [
      "Device used : cpu\n"
     ]
    },
    {
     "name": "stdout",
     "output_type": "stream",
     "text": [
      "epoch 0  | loss: 1.44332 | train_mse: 4.12883 | train_mae: 1.63581 |  0:00:00s\n",
      "epoch 1  | loss: 0.78188 | train_mse: 2.84107 | train_mae: 1.28467 |  0:00:00s\n",
      "epoch 2  | loss: 0.50525 | train_mse: 1.37211 | train_mae: 0.90365 |  0:00:00s\n"
     ]
    },
    {
     "name": "stdout",
     "output_type": "stream",
     "text": [
      "epoch 3  | loss: 0.54607 | train_mse: 0.89565 | train_mae: 0.71384 |  0:00:00s\n",
      "epoch 4  | loss: 0.49441 | train_mse: 1.33154 | train_mae: 0.83593 |  0:00:00s\n"
     ]
    },
    {
     "name": "stdout",
     "output_type": "stream",
     "text": [
      "epoch 5  | loss: 0.47755 | train_mse: 1.93674 | train_mae: 0.93299 |  0:00:00s\n",
      "epoch 6  | loss: 0.47763 | train_mse: 1.33411 | train_mae: 0.8355  |  0:00:00s\n",
      "epoch 7  | loss: 0.44453 | train_mse: 0.99876 | train_mae: 0.71145 |  0:00:01s\n"
     ]
    },
    {
     "name": "stdout",
     "output_type": "stream",
     "text": [
      "epoch 8  | loss: 0.33445 | train_mse: 0.89082 | train_mae: 0.68364 |  0:00:01s\n",
      "epoch 9  | loss: 0.394   | train_mse: 0.88166 | train_mae: 0.69302 |  0:00:01s\n",
      "epoch 10 | loss: 0.44074 | train_mse: 0.92791 | train_mae: 0.69844 |  0:00:01s\n"
     ]
    },
    {
     "name": "stdout",
     "output_type": "stream",
     "text": [
      "epoch 11 | loss: 0.41803 | train_mse: 0.60734 | train_mae: 0.56965 |  0:00:01s\n",
      "epoch 12 | loss: 0.34531 | train_mse: 0.56243 | train_mae: 0.54428 |  0:00:01s\n",
      "epoch 13 | loss: 0.25435 | train_mse: 0.63424 | train_mae: 0.56753 |  0:00:01s\n"
     ]
    },
    {
     "name": "stdout",
     "output_type": "stream",
     "text": [
      "epoch 14 | loss: 0.36131 | train_mse: 0.63838 | train_mae: 0.5559  |  0:00:01s\n",
      "epoch 15 | loss: 0.16415 | train_mse: 0.4144  | train_mae: 0.48068 |  0:00:01s\n",
      "epoch 16 | loss: 0.35555 | train_mse: 0.35287 | train_mae: 0.44899 |  0:00:01s\n"
     ]
    },
    {
     "name": "stdout",
     "output_type": "stream",
     "text": [
      "epoch 17 | loss: 0.30216 | train_mse: 0.27293 | train_mae: 0.42153 |  0:00:01s\n",
      "epoch 18 | loss: 0.13835 | train_mse: 0.19909 | train_mae: 0.36097 |  0:00:02s\n",
      "epoch 19 | loss: 0.22694 | train_mse: 0.16674 | train_mae: 0.31739 |  0:00:02s\n"
     ]
    },
    {
     "name": "stdout",
     "output_type": "stream",
     "text": [
      "epoch 20 | loss: 0.18039 | train_mse: 0.23993 | train_mae: 0.37422 |  0:00:02s\n",
      "epoch 21 | loss: 0.23297 | train_mse: 0.1777  | train_mae: 0.32479 |  0:00:02s\n",
      "epoch 22 | loss: 0.18705 | train_mse: 0.184   | train_mae: 0.33645 |  0:00:02s\n"
     ]
    },
    {
     "name": "stdout",
     "output_type": "stream",
     "text": [
      "epoch 23 | loss: 0.18123 | train_mse: 0.21216 | train_mae: 0.34835 |  0:00:02s\n",
      "epoch 24 | loss: 0.25007 | train_mse: 0.21155 | train_mae: 0.33495 |  0:00:02s\n",
      "epoch 25 | loss: 0.29977 | train_mse: 0.18942 | train_mae: 0.32821 |  0:00:02s\n"
     ]
    },
    {
     "name": "stdout",
     "output_type": "stream",
     "text": [
      "epoch 26 | loss: 0.16871 | train_mse: 0.1911  | train_mae: 0.32261 |  0:00:02s\n",
      "epoch 27 | loss: 0.18984 | train_mse: 0.15778 | train_mae: 0.29374 |  0:00:02s\n",
      "epoch 28 | loss: 0.23878 | train_mse: 0.2096  | train_mae: 0.32872 |  0:00:02s\n"
     ]
    },
    {
     "name": "stdout",
     "output_type": "stream",
     "text": [
      "epoch 29 | loss: 0.17344 | train_mse: 0.19685 | train_mae: 0.3318  |  0:00:02s\n",
      "epoch 30 | loss: 0.24581 | train_mse: 0.12829 | train_mae: 0.28693 |  0:00:03s\n",
      "epoch 31 | loss: 0.16259 | train_mse: 0.10701 | train_mae: 0.25712 |  0:00:03s\n"
     ]
    },
    {
     "name": "stdout",
     "output_type": "stream",
     "text": [
      "epoch 32 | loss: 0.15262 | train_mse: 0.11758 | train_mae: 0.26883 |  0:00:03s\n",
      "epoch 33 | loss: 0.12484 | train_mse: 0.14564 | train_mae: 0.28832 |  0:00:03s\n",
      "epoch 34 | loss: 0.2326  | train_mse: 0.23481 | train_mae: 0.33634 |  0:00:03s\n"
     ]
    },
    {
     "name": "stdout",
     "output_type": "stream",
     "text": [
      "epoch 35 | loss: 0.22665 | train_mse: 0.33469 | train_mae: 0.36702 |  0:00:03s\n",
      "epoch 36 | loss: 0.20863 | train_mse: 0.31182 | train_mae: 0.33472 |  0:00:03s\n",
      "epoch 37 | loss: 0.35676 | train_mse: 0.31377 | train_mae: 0.33217 |  0:00:03s\n"
     ]
    },
    {
     "name": "stdout",
     "output_type": "stream",
     "text": [
      "epoch 38 | loss: 0.42559 | train_mse: 0.22381 | train_mae: 0.324   |  0:00:03s\n",
      "epoch 39 | loss: 0.25027 | train_mse: 0.26319 | train_mae: 0.34069 |  0:00:03s\n",
      "epoch 40 | loss: 0.17757 | train_mse: 0.29548 | train_mae: 0.36885 |  0:00:03s\n"
     ]
    },
    {
     "name": "stdout",
     "output_type": "stream",
     "text": [
      "epoch 41 | loss: 0.24398 | train_mse: 0.34353 | train_mae: 0.40839 |  0:00:04s\n",
      "epoch 42 | loss: 0.29556 | train_mse: 0.2864  | train_mae: 0.36964 |  0:00:04s\n",
      "epoch 43 | loss: 0.22009 | train_mse: 0.27171 | train_mae: 0.35805 |  0:00:04s\n"
     ]
    },
    {
     "name": "stdout",
     "output_type": "stream",
     "text": [
      "epoch 44 | loss: 0.12684 | train_mse: 0.24759 | train_mae: 0.33284 |  0:00:04s\n",
      "epoch 45 | loss: 0.13661 | train_mse: 0.20084 | train_mae: 0.31007 |  0:00:04s\n",
      "epoch 46 | loss: 0.22088 | train_mse: 0.23653 | train_mae: 0.35205 |  0:00:04s\n"
     ]
    },
    {
     "name": "stdout",
     "output_type": "stream",
     "text": [
      "epoch 47 | loss: 0.23308 | train_mse: 0.32025 | train_mae: 0.41009 |  0:00:04s\n",
      "epoch 48 | loss: 0.19691 | train_mse: 0.20241 | train_mae: 0.33424 |  0:00:04s\n",
      "epoch 49 | loss: 0.16844 | train_mse: 0.17446 | train_mae: 0.29871 |  0:00:04s\n"
     ]
    },
    {
     "name": "stdout",
     "output_type": "stream",
     "text": [
      "epoch 50 | loss: 0.11505 | train_mse: 0.17689 | train_mae: 0.30127 |  0:00:04s\n",
      "epoch 51 | loss: 0.09223 | train_mse: 0.18553 | train_mae: 0.30462 |  0:00:04s\n",
      "epoch 52 | loss: 0.31436 | train_mse: 0.22573 | train_mae: 0.33688 |  0:00:04s\n"
     ]
    },
    {
     "name": "stdout",
     "output_type": "stream",
     "text": [
      "epoch 53 | loss: 0.2099  | train_mse: 0.25001 | train_mae: 0.35161 |  0:00:05s\n",
      "epoch 54 | loss: 0.3994  | train_mse: 0.32183 | train_mae: 0.38875 |  0:00:05s\n",
      "epoch 55 | loss: 0.22884 | train_mse: 0.25431 | train_mae: 0.35159 |  0:00:05s\n"
     ]
    },
    {
     "name": "stdout",
     "output_type": "stream",
     "text": [
      "epoch 56 | loss: 0.18295 | train_mse: 0.17575 | train_mae: 0.30496 |  0:00:05s\n",
      "epoch 57 | loss: 0.24943 | train_mse: 0.0955  | train_mae: 0.23565 |  0:00:05s\n",
      "epoch 58 | loss: 0.10555 | train_mse: 0.07582 | train_mae: 0.20115 |  0:00:05s\n"
     ]
    },
    {
     "name": "stdout",
     "output_type": "stream",
     "text": [
      "epoch 59 | loss: 0.23646 | train_mse: 0.07333 | train_mae: 0.20175 |  0:00:05s\n",
      "epoch 60 | loss: 0.15157 | train_mse: 0.08013 | train_mae: 0.21367 |  0:00:05s\n",
      "epoch 61 | loss: 0.12278 | train_mse: 0.09085 | train_mae: 0.22706 |  0:00:05s\n"
     ]
    },
    {
     "name": "stdout",
     "output_type": "stream",
     "text": [
      "epoch 62 | loss: 0.1422  | train_mse: 0.08061 | train_mae: 0.21491 |  0:00:05s\n",
      "epoch 63 | loss: 0.08408 | train_mse: 0.06365 | train_mae: 0.18598 |  0:00:05s\n",
      "epoch 64 | loss: 0.14324 | train_mse: 0.06273 | train_mae: 0.1862  |  0:00:05s\n"
     ]
    },
    {
     "name": "stdout",
     "output_type": "stream",
     "text": [
      "epoch 65 | loss: 0.11436 | train_mse: 0.0621  | train_mae: 0.18881 |  0:00:06s\n",
      "epoch 66 | loss: 0.1127  | train_mse: 0.05823 | train_mae: 0.18156 |  0:00:06s\n",
      "epoch 67 | loss: 0.09846 | train_mse: 0.05409 | train_mae: 0.1798  |  0:00:06s\n"
     ]
    },
    {
     "name": "stdout",
     "output_type": "stream",
     "text": [
      "epoch 68 | loss: 0.11742 | train_mse: 0.05741 | train_mae: 0.18366 |  0:00:06s\n",
      "epoch 69 | loss: 0.1951  | train_mse: 0.06514 | train_mae: 0.19639 |  0:00:06s\n",
      "epoch 70 | loss: 0.13888 | train_mse: 0.07054 | train_mae: 0.20185 |  0:00:06s\n"
     ]
    },
    {
     "name": "stdout",
     "output_type": "stream",
     "text": [
      "epoch 71 | loss: 0.20012 | train_mse: 0.0734  | train_mae: 0.21048 |  0:00:06s\n",
      "epoch 72 | loss: 0.27564 | train_mse: 0.07382 | train_mae: 0.21388 |  0:00:06s\n",
      "epoch 73 | loss: 0.24824 | train_mse: 0.06923 | train_mae: 0.20574 |  0:00:06s\n"
     ]
    },
    {
     "name": "stdout",
     "output_type": "stream",
     "text": [
      "epoch 74 | loss: 0.11961 | train_mse: 0.06346 | train_mae: 0.19045 |  0:00:06s\n",
      "epoch 75 | loss: 0.10483 | train_mse: 0.06717 | train_mae: 0.19778 |  0:00:06s\n",
      "epoch 76 | loss: 0.10024 | train_mse: 0.06723 | train_mae: 0.20189 |  0:00:06s\n"
     ]
    },
    {
     "name": "stdout",
     "output_type": "stream",
     "text": [
      "epoch 77 | loss: 0.10638 | train_mse: 0.06765 | train_mae: 0.20089 |  0:00:07s\n",
      "epoch 78 | loss: 0.10278 | train_mse: 0.06884 | train_mae: 0.19842 |  0:00:07s\n"
     ]
    },
    {
     "name": "stdout",
     "output_type": "stream",
     "text": [
      "epoch 79 | loss: 0.13678 | train_mse: 0.0686  | train_mae: 0.19338 |  0:00:07s\n",
      "epoch 80 | loss: 0.16819 | train_mse: 0.08448 | train_mae: 0.22565 |  0:00:07s\n",
      "epoch 81 | loss: 0.11787 | train_mse: 0.10739 | train_mae: 0.25762 |  0:00:07s\n"
     ]
    },
    {
     "name": "stdout",
     "output_type": "stream",
     "text": [
      "epoch 82 | loss: 0.31614 | train_mse: 0.0988  | train_mae: 0.24595 |  0:00:07s\n",
      "epoch 83 | loss: 0.11859 | train_mse: 0.07584 | train_mae: 0.2144  |  0:00:07s\n"
     ]
    },
    {
     "name": "stdout",
     "output_type": "stream",
     "text": [
      "epoch 84 | loss: 0.09741 | train_mse: 0.07093 | train_mae: 0.20416 |  0:00:07s\n",
      "epoch 85 | loss: 0.12299 | train_mse: 0.07402 | train_mae: 0.21396 |  0:00:07s\n",
      "epoch 86 | loss: 0.1212  | train_mse: 0.06175 | train_mae: 0.19664 |  0:00:07s\n"
     ]
    },
    {
     "name": "stdout",
     "output_type": "stream",
     "text": [
      "epoch 87 | loss: 0.25565 | train_mse: 0.07249 | train_mae: 0.21341 |  0:00:08s\n",
      "epoch 88 | loss: 0.07287 | train_mse: 0.07227 | train_mae: 0.21019 |  0:00:08s\n",
      "epoch 89 | loss: 0.08932 | train_mse: 0.07071 | train_mae: 0.20745 |  0:00:08s\n"
     ]
    },
    {
     "name": "stdout",
     "output_type": "stream",
     "text": [
      "epoch 90 | loss: 0.14686 | train_mse: 0.07354 | train_mae: 0.21123 |  0:00:08s\n",
      "epoch 91 | loss: 0.32224 | train_mse: 0.07181 | train_mae: 0.20506 |  0:00:08s\n",
      "epoch 92 | loss: 0.12179 | train_mse: 0.07393 | train_mae: 0.20486 |  0:00:08s\n"
     ]
    },
    {
     "name": "stdout",
     "output_type": "stream",
     "text": [
      "epoch 93 | loss: 0.11049 | train_mse: 0.06388 | train_mae: 0.19544 |  0:00:08s\n",
      "epoch 94 | loss: 0.12535 | train_mse: 0.07288 | train_mae: 0.21584 |  0:00:08s\n",
      "epoch 95 | loss: 0.16054 | train_mse: 0.10031 | train_mae: 0.23785 |  0:00:08s\n"
     ]
    },
    {
     "name": "stdout",
     "output_type": "stream",
     "text": [
      "epoch 96 | loss: 0.09281 | train_mse: 0.14799 | train_mae: 0.27029 |  0:00:08s\n",
      "epoch 97 | loss: 0.09657 | train_mse: 0.141   | train_mae: 0.26388 |  0:00:08s\n",
      "epoch 98 | loss: 0.10776 | train_mse: 0.10118 | train_mae: 0.22975 |  0:00:08s\n"
     ]
    },
    {
     "name": "stdout",
     "output_type": "stream",
     "text": [
      "epoch 99 | loss: 0.07784 | train_mse: 0.09497 | train_mae: 0.22198 |  0:00:09s\n",
      "epoch 100| loss: 0.14188 | train_mse: 0.06829 | train_mae: 0.19706 |  0:00:09s\n",
      "epoch 101| loss: 0.08858 | train_mse: 0.0664  | train_mae: 0.19684 |  0:00:09s\n"
     ]
    },
    {
     "name": "stdout",
     "output_type": "stream",
     "text": [
      "epoch 102| loss: 0.14158 | train_mse: 0.06841 | train_mae: 0.20403 |  0:00:09s\n",
      "epoch 103| loss: 0.14541 | train_mse: 0.07011 | train_mae: 0.20439 |  0:00:09s\n",
      "epoch 104| loss: 0.07734 | train_mse: 0.08369 | train_mae: 0.21869 |  0:00:09s\n"
     ]
    },
    {
     "name": "stdout",
     "output_type": "stream",
     "text": [
      "epoch 105| loss: 0.11912 | train_mse: 0.09326 | train_mae: 0.22386 |  0:00:09s\n",
      "epoch 106| loss: 0.07038 | train_mse: 0.09079 | train_mae: 0.22356 |  0:00:09s\n",
      "epoch 107| loss: 0.08341 | train_mse: 0.07829 | train_mae: 0.21122 |  0:00:09s\n"
     ]
    },
    {
     "name": "stdout",
     "output_type": "stream",
     "text": [
      "epoch 108| loss: 0.10076 | train_mse: 0.06641 | train_mae: 0.19224 |  0:00:09s\n",
      "epoch 109| loss: 0.16799 | train_mse: 0.07143 | train_mae: 0.20032 |  0:00:09s\n",
      "epoch 110| loss: 0.10119 | train_mse: 0.07328 | train_mae: 0.20014 |  0:00:09s\n"
     ]
    },
    {
     "name": "stdout",
     "output_type": "stream",
     "text": [
      "epoch 111| loss: 0.08273 | train_mse: 0.08465 | train_mae: 0.21498 |  0:00:10s\n",
      "epoch 112| loss: 0.14052 | train_mse: 0.09793 | train_mae: 0.23103 |  0:00:10s\n",
      "epoch 113| loss: 0.10268 | train_mse: 0.09292 | train_mae: 0.23271 |  0:00:10s\n"
     ]
    },
    {
     "name": "stdout",
     "output_type": "stream",
     "text": [
      "epoch 114| loss: 0.1459  | train_mse: 0.09334 | train_mae: 0.23348 |  0:00:10s\n",
      "epoch 115| loss: 0.11168 | train_mse: 0.08056 | train_mae: 0.21631 |  0:00:10s\n",
      "epoch 116| loss: 0.12048 | train_mse: 0.05707 | train_mae: 0.18276 |  0:00:10s\n"
     ]
    },
    {
     "name": "stdout",
     "output_type": "stream",
     "text": [
      "epoch 117| loss: 0.09882 | train_mse: 0.06271 | train_mae: 0.18887 |  0:00:10s\n",
      "\n",
      "Early stopping occurred at epoch 117 with best_epoch = 67 and best_train_mae = 0.1798\n",
      "Best weights from best epoch are automatically used!\n"
     ]
    }
   ],
   "source": [
    "#Train the Model\n",
    "\n",
    "Y_train = np.reshape(Y_train, (-1, 1))\n",
    "Y_test = np.reshape(Y_test, (-1, 1))\n",
    "\n",
    "prior_model = TabNetRegressor(optimizer_fn=torch.optim.Adam, optimizer_params=dict(lr = 0.02),\n",
    "          #scheduler_params={\"step_size\":10, ], \"gamma\":0.9},\n",
    "          #scheduler_fn=torch.optim.lr_scheduler.StepLR\n",
    "          )  #TabNetRegressor()\n",
    "\n",
    "prior_model.fit(X_train,Y_train,eval_set=[(X_train, Y_train)],\n",
    "            eval_name=['train'], \n",
    "            eval_metric=[ 'mse', 'mae'], \n",
    "            max_epochs = n_epochs, \n",
    "            batch_size = batch_size,\n",
    "            patience=50\n",
    "            )"
   ]
  },
  {
   "cell_type": "code",
   "execution_count": 10,
   "id": "af65dcda",
   "metadata": {
    "execution": {
     "iopub.execute_input": "2022-06-22T14:20:39.307264Z",
     "iopub.status.busy": "2022-06-22T14:20:39.306212Z",
     "iopub.status.idle": "2022-06-22T14:20:39.340404Z",
     "shell.execute_reply": "2022-06-22T14:20:39.341283Z"
    },
    "id": "af65dcda",
    "papermill": {
     "duration": 0.082925,
     "end_time": "2022-06-22T14:20:39.341520",
     "exception": false,
     "start_time": "2022-06-22T14:20:39.258595",
     "status": "completed"
    },
    "tags": []
   },
   "outputs": [
    {
     "data": {
      "application/scrapbook.scrap.json+json": {
       "data": 0.24485617279171676,
       "encoder": "json",
       "name": "Prior Model MSE",
       "version": 1
      }
     },
     "metadata": {
      "scrapbook": {
       "data": true,
       "display": false,
       "name": "Prior Model MSE"
      }
     },
     "output_type": "display_data"
    },
    {
     "data": {
      "application/scrapbook.scrap.json+json": {
       "data": 0.31220132012158813,
       "encoder": "json",
       "name": "ABC Pre-generator MSE",
       "version": 1
      }
     },
     "metadata": {
      "scrapbook": {
       "data": true,
       "display": false,
       "name": "ABC Pre-generator MSE"
      }
     },
     "output_type": "display_data"
    },
    {
     "data": {
      "application/scrapbook.scrap.json+json": {
       "data": 0.3905438566946495,
       "encoder": "json",
       "name": "Prior Model MSE",
       "version": 1
      }
     },
     "metadata": {
      "scrapbook": {
       "data": true,
       "display": false,
       "name": "Prior Model MSE"
      }
     },
     "output_type": "display_data"
    },
    {
     "data": {
      "application/scrapbook.scrap.json+json": {
       "data": 0.4313043706922234,
       "encoder": "json",
       "name": "ABC Pre-generator MSE",
       "version": 1
      }
     },
     "metadata": {
      "scrapbook": {
       "data": true,
       "display": false,
       "name": "ABC Pre-generator MSE"
      }
     },
     "output_type": "display_data"
    }
   ],
   "source": [
    "y_pred = prior_model.predict(X_test)\n",
    "y_abc = y_pred + np.random.normal(0,variance, y_pred.shape) + bias \n",
    "mse = mean_squared_error(y_pred,Y_test)\n",
    "sb.glue(\"Prior Model MSE\",mse)\n",
    "mse = mean_squared_error(y_abc,Y_test)\n",
    "sb.glue(\"ABC Pre-generator MSE\",mse)\n",
    "mae = mean_absolute_error(y_pred,Y_test)\n",
    "sb.glue(\"Prior Model MSE\",mae)\n",
    "mae = mean_absolute_error(y_abc,Y_test)\n",
    "sb.glue(\"ABC Pre-generator MSE\",mae)"
   ]
  },
  {
   "cell_type": "markdown",
   "id": "25609da2",
   "metadata": {
    "papermill": {
     "duration": 0.058327,
     "end_time": "2022-06-22T14:20:39.479984",
     "exception": false,
     "start_time": "2022-06-22T14:20:39.421657",
     "status": "completed"
    },
    "tags": []
   },
   "source": [
    "# ABC GAN Model"
   ]
  },
  {
   "cell_type": "code",
   "execution_count": 11,
   "id": "dfc3464d",
   "metadata": {
    "execution": {
     "iopub.execute_input": "2022-06-22T14:20:39.581273Z",
     "iopub.status.busy": "2022-06-22T14:20:39.579153Z",
     "iopub.status.idle": "2022-06-22T14:20:39.587832Z",
     "shell.execute_reply": "2022-06-22T14:20:39.588471Z"
    },
    "papermill": {
     "duration": 0.065718,
     "end_time": "2022-06-22T14:20:39.588701",
     "exception": false,
     "start_time": "2022-06-22T14:20:39.522983",
     "status": "completed"
    },
    "tags": []
   },
   "outputs": [],
   "source": [
    "gen = network.Generator(n_features+1).to(device)\n",
    "disc = network.Discriminator(n_features+1).to(device)\n",
    "\n",
    "criterion = torch.nn.BCELoss()\n",
    "gen_opt = torch.optim.Adam(gen.parameters(), lr=0.001, betas=(0.5, 0.999))\n",
    "disc_opt = torch.optim.Adam(disc.parameters(), lr=0.001, betas=(0.5, 0.999))"
   ]
  },
  {
   "cell_type": "code",
   "execution_count": 12,
   "id": "b75fdd85",
   "metadata": {
    "execution": {
     "iopub.execute_input": "2022-06-22T14:20:39.670145Z",
     "iopub.status.busy": "2022-06-22T14:20:39.667570Z",
     "iopub.status.idle": "2022-06-22T14:21:35.806849Z",
     "shell.execute_reply": "2022-06-22T14:21:35.808743Z"
    },
    "papermill": {
     "duration": 56.187427,
     "end_time": "2022-06-22T14:21:35.809218",
     "exception": false,
     "start_time": "2022-06-22T14:20:39.621791",
     "status": "completed"
    },
    "tags": []
   },
   "outputs": [
    {
     "data": {
      "image/png": "[encoded data removed]",
      "text/plain": [
       "<Figure size 432x288 with 1 Axes>"
      ]
     },
     "metadata": {
      "needs_background": "light"
     },
     "output_type": "display_data"
    },
    {
     "data": {
      "image/png": "[encoded data removed]",
      "text/plain": [
       "<Figure size 432x288 with 1 Axes>"
      ]
     },
     "metadata": {
      "needs_background": "light"
     },
     "output_type": "display_data"
    }
   ],
   "source": [
    "#Training the ABC_GAN \n",
    "ABC_train_test2.training_GAN(disc,gen,disc_opt,gen_opt,train_data,batch_size,n_epochs,criterion,prior_model,variance,bias,device)"
   ]
  },
  {
   "cell_type": "code",
   "execution_count": 13,
   "id": "1fa7c368",
   "metadata": {
    "execution": {
     "iopub.execute_input": "2022-06-22T14:21:35.895983Z",
     "iopub.status.busy": "2022-06-22T14:21:35.894997Z",
     "iopub.status.idle": "2022-06-22T14:21:36.745296Z",
     "shell.execute_reply": "2022-06-22T14:21:36.746097Z"
    },
    "papermill": {
     "duration": 0.903796,
     "end_time": "2022-06-22T14:21:36.746333",
     "exception": false,
     "start_time": "2022-06-22T14:21:35.842537",
     "status": "completed"
    },
    "tags": []
   },
   "outputs": [
    {
     "data": {
      "application/scrapbook.scrap.json+json": {
       "data": 0.36297334079557264,
       "encoder": "json",
       "name": "ABC-GAN Model 1 MSE",
       "version": 1
      }
     },
     "metadata": {
      "scrapbook": {
       "data": true,
       "display": false,
       "name": "ABC-GAN Model 1 MSE"
      }
     },
     "output_type": "display_data"
    },
    {
     "data": {
      "application/scrapbook.scrap.json+json": {
       "data": 0.44167293956317005,
       "encoder": "json",
       "name": "ABC-GAN Model 1 MAE",
       "version": 1
      }
     },
     "metadata": {
      "scrapbook": {
       "data": true,
       "display": false,
       "name": "ABC-GAN Model 1 MAE"
      }
     },
     "output_type": "display_data"
    },
    {
     "data": {
      "application/scrapbook.scrap.json+json": {
       "data": 8.833458791263402,
       "encoder": "json",
       "name": "ABC-GAN Model 1 Manhattan Distance",
       "version": 1
      }
     },
     "metadata": {
      "scrapbook": {
       "data": true,
       "display": false,
       "name": "ABC-GAN Model 1 Manhattan Distance"
      }
     },
     "output_type": "display_data"
    },
    {
     "data": {
      "application/scrapbook.scrap.json+json": {
       "data": 2.694140658836462,
       "encoder": "json",
       "name": "ABC-GAN Model 1 Euclidean distance",
       "version": 1
      }
     },
     "metadata": {
      "scrapbook": {
       "data": true,
       "display": false,
       "name": "ABC-GAN Model 1 Euclidean distance"
      }
     },
     "output_type": "display_data"
    },
    {
     "data": {
      "application/scrapbook.scrap.json+json": {
       "data": [
        [
         0.35441936352591263,
         0.3707777297267687,
         0.36189308742167364,
         0.3830652327626555,
         0.3741179386728311,
         0.36897524328621956,
         0.35673705258719457,
         0.34960079954589895,
         0.3633709133958155,
         0.3781779831378666,
         0.3696276165917898,
         0.3734585676575974,
         0.383307013754661,
         0.3606770606481696,
         0.3655897126928793,
         0.3499236398651523,
         0.3536052844311309,
         0.3644439438359441,
         0.3665133539319335,
         0.3660475428798506,
         0.358044434069809,
         0.369345946507235,
         0.3574314994311297,
         0.3635017514212556,
         0.3601959724899496,
         0.3536053442144399,
         0.3664017083210384,
         0.36548808634787844,
         0.3631508081943479,
         0.3450310910760994,
         0.36581788791943737,
         0.3603455700484768,
         0.3577500437641665,
         0.3666195146053703,
         0.36243317365202277,
         0.35359397764387646,
         0.3584952408002309,
         0.35768152517809826,
         0.34871385498268426,
         0.36617868272807147,
         0.3792344984902828,
         0.3679324447502099,
         0.3610062261431245,
         0.36986114513240315,
         0.3605993023819165,
         0.37583256426747597,
         0.3611321576156403,
         0.3582086899535485,
         0.37046772125092636,
         0.3670786013061673,
         0.3610866043795845,
         0.3730474828805028,
         0.36720070638509383,
         0.3634218056563298,
         0.3618176718889086,
         0.36355706321446296,
         0.37021098214353965,
         0.3616017580585735,
         0.35013171411028343,
         0.35166776077075707,
         0.35454139416950337,
         0.3528395591786885,
         0.368344722750736,
         0.34878353245962546,
         0.36826753203469387,
         0.3580350352238018,
         0.36419251870756186,
         0.3655825556116487,
         0.3561465229310702,
         0.35969881050415364,
         0.3712148345908965,
         0.37729883606015524,
         0.3517492955965573,
         0.35822821661808335,
         0.3562328441984558,
         0.35622936558496676,
         0.3502519000918277,
         0.3800187931372494,
         0.3607472654389668,
         0.37575317560279375,
         0.37535738787305184,
         0.3644070612221886,
         0.36139616808756625,
         0.364395073628313,
         0.3543200573892079,
         0.37756356894433807,
         0.3683817202181006,
         0.3562254478594259,
         0.36317868781603385,
         0.35409577332995334,
         0.3546179504652953,
         0.36335669093654405,
         0.3405347929843192,
         0.36984023341616246,
         0.34489772513065764,
         0.3597601115921544,
         0.37561966549534126,
         0.3826036470861565,
         0.36002579594525974,
         0.36334771511846126
        ],
        [
         0.4443232573568821,
         0.44662436544895173,
         0.4411483697593212,
         0.4626142781227827,
         0.4374276600778103,
         0.4525259930640459,
         0.4350593160837889,
         0.4283847276121378,
         0.4424554668366909,
         0.4501538336277008,
         0.4453010905534029,
         0.4594408493489027,
         0.4560987953096628,
         0.43485207483172417,
         0.43822638466954233,
         0.435343411564827,
         0.43245920091867446,
         0.4415529739111662,
         0.4430690061300993,
         0.4450020458549261,
         0.43508764281868934,
         0.45004873126745226,
         0.43772477433085444,
         0.4529329061508179,
         0.4424586554989219,
         0.43566768281161783,
         0.45107634663581847,
         0.4478539576753974,
         0.44896454475820063,
         0.4189584320411086,
         0.4450820580124855,
         0.4381957706063986,
         0.4345022805035114,
         0.4466887518763542,
         0.4386974759399891,
         0.4274015389382839,
         0.4319800268858671,
         0.44115747697651386,
         0.43232882022857666,
         0.4504905119538307,
         0.45901220850646496,
         0.4517566170543432,
         0.44474882297217844,
         0.4373240016400814,
         0.4362902045249939,
         0.4508477099239826,
         0.4346262332051992,
         0.44087865203619003,
         0.45201380662620066,
         0.4449838504195213,
         0.43967871814966203,
         0.4497130114585161,
         0.4453494094312191,
         0.43537123426795005,
         0.43930584117770194,
         0.437237423658371,
         0.4472168631851673,
         0.4351024765521288,
         0.4303276754915714,
         0.43568063005805013,
         0.4263659879565239,
         0.44030894301831724,
         0.4515833117067814,
         0.41649308390915396,
         0.4506519760936499,
         0.4452491220086813,
         0.4390675455331802,
         0.4423182517290115,
         0.43629143126308917,
         0.43254540897905824,
         0.44741976298391817,
         0.4563367310911417,
         0.42179890647530555,
         0.4465376723557711,
         0.43889300525188446,
         0.4325996294617653,
         0.43544764891266824,
         0.46019042506814,
         0.4323712345212698,
         0.45568063855171204,
         0.4532769422978163,
         0.4489194493740797,
         0.43497401401400565,
         0.43700663447380067,
         0.4240931894630194,
         0.4506153602153063,
         0.44345816448330877,
         0.4427812401205301,
         0.44304739981889724,
         0.4370079394429922,
         0.43894549235701563,
         0.4402485076338053,
         0.42278982810676097,
         0.45322896242141725,
         0.4247136224061251,
         0.43541648127138616,
         0.45549183189868925,
         0.46359046921133995,
         0.4360687527805567,
         0.446642080321908
        ],
        [
         8.886465147137642,
         8.932487308979034,
         8.822967395186424,
         9.252285562455654,
         8.748553201556206,
         9.050519861280918,
         8.701186321675777,
         8.567694552242756,
         8.849109336733818,
         9.003076672554016,
         8.906021811068058,
         9.188816986978054,
         9.121975906193256,
         8.697041496634483,
         8.764527693390846,
         8.70686823129654,
         8.64918401837349,
         8.831059478223324,
         8.861380122601986,
         8.900040917098522,
         8.701752856373787,
         9.000974625349045,
         8.754495486617088,
         9.058658123016357,
         8.849173109978437,
         8.713353656232357,
         9.02152693271637,
         8.957079153507948,
         8.979290895164013,
         8.379168640822172,
         8.90164116024971,
         8.763915412127972,
         8.690045610070229,
         8.933775037527084,
         8.773949518799782,
         8.548030778765678,
         8.639600537717342,
         8.823149539530277,
         8.646576404571533,
         9.009810239076614,
         9.1802441701293,
         9.035132341086864,
         8.89497645944357,
         8.746480032801628,
         8.725804090499878,
         9.016954198479652,
         8.692524664103985,
         8.8175730407238,
         9.040276132524014,
         8.899677008390427,
         8.79357436299324,
         8.994260229170322,
         8.906988188624382,
         8.707424685359001,
         8.786116823554039,
         8.74474847316742,
         8.944337263703346,
         8.702049531042576,
         8.606553509831429,
         8.713612601161003,
         8.527319759130478,
         8.806178860366344,
         9.031666234135628,
         8.329861678183079,
         9.013039521872997,
         8.904982440173626,
         8.781350910663605,
         8.84636503458023,
         8.725828625261784,
         8.650908179581165,
         8.948395259678364,
         9.126734621822834,
         8.435978129506111,
         8.930753447115421,
         8.77786010503769,
         8.651992589235306,
         8.708952978253365,
         9.2038085013628,
         8.647424690425396,
         9.11361277103424,
         9.065538845956326,
         8.978388987481594,
         8.699480280280113,
         8.740132689476013,
         8.481863789260387,
         9.012307204306126,
         8.869163289666176,
         8.855624802410603,
         8.860947996377945,
         8.740158788859844,
         8.778909847140312,
         8.804970152676105,
         8.45579656213522,
         9.064579248428345,
         8.494272448122501,
         8.708329625427723,
         9.109836637973785,
         9.271809384226799,
         8.721375055611134,
         8.93284160643816
        ],
        [
         2.6624025372806144,
         2.723151592279683,
         2.690327442604984,
         2.7679061861365732,
         2.7353900587405486,
         2.7165244091898733,
         2.671093605949423,
         2.6442420446921986,
         2.69581495431647,
         2.7501926592072294,
         2.718924848508284,
         2.7329784765255556,
         2.7687795641930797,
         2.6858036437839967,
         2.7040329609414133,
         2.645462681139737,
         2.6593430934391704,
         2.6997923765947043,
         2.7074465975598985,
         2.7057255695278877,
         2.6759836848150216,
         2.717888689800357,
         2.6736922015487483,
         2.696300248196612,
         2.684011819981237,
         2.6593433182439603,
         2.707034201191549,
         2.7036571023259532,
         2.6949983606464323,
         2.626903466350065,
         2.7048766623246885,
         2.6845691276198376,
         2.6748833386305524,
         2.707838675421305,
         2.692334205302242,
         2.659300575880344,
         2.677667794182956,
         2.6746271709458806,
         2.640885665767014,
         2.7062102014739042,
         2.7540315847509182,
         2.7126829698665857,
         2.687028939714362,
         2.7197836132030915,
         2.6855141123513633,
         2.7416511968792676,
         2.6874975632198823,
         2.6765974294000525,
         2.7220129362327663,
         2.7095335440114683,
         2.687328057307423,
         2.7314738983944284,
         2.709984156356246,
         2.6960037301766846,
         2.6900471069812464,
         2.6965053799852243,
         2.7210695769992346,
         2.689244347613558,
         2.646249096779377,
         2.6520473629660426,
         2.6628608456676943,
         2.6564621554943653,
         2.714202360734129,
         2.64114949391217,
         2.713917950250869,
         2.6759485616274534,
         2.69886094012849,
         2.704006492638835,
         2.6688818742352396,
         2.6821588711489617,
         2.7247562628275452,
         2.746994124712156,
         2.65235478621001,
         2.676670381717119,
         2.669205290712784,
         2.669192258287015,
         2.6467032326720266,
         2.756877919448917,
         2.6860650231852796,
         2.741361616433679,
         2.7399174727464035,
         2.6996557603597853,
         2.6884797491800687,
         2.6996113558374026,
         2.662029516700399,
         2.7479576741439744,
         2.7143386679561585,
         2.6691775806769615,
         2.695101808155061,
         2.6611868530035743,
         2.663148326568745,
         2.6957621962500475,
         2.60973099373985,
         2.7197067246898605,
         2.626395724679195,
         2.6823874127059066,
         2.7408745520192683,
         2.766238048636294,
         2.6833777070895546,
         2.6957289000137283
        ]
       ],
       "encoder": "json",
       "name": "ABC_GAN_1 Metrics",
       "version": 1
      }
     },
     "metadata": {
      "scrapbook": {
       "data": true,
       "display": false,
       "name": "ABC_GAN_1 Metrics"
      }
     },
     "output_type": "display_data"
    },
    {
     "name": "stdout",
     "output_type": "stream",
     "text": [
      "MSE\n",
      "0.36297334079557264\n"
     ]
    }
   ],
   "source": [
    "ABC_GAN1_metrics=ABC_train_test2.test_generator(gen,test_data,prior_model,variance,bias,\"1\",device)\n",
    "sb.glue(\"ABC_GAN_1 Metrics\",ABC_GAN1_metrics)\n",
    "\n",
    "print(\"MSE\")\n",
    "print(mean(ABC_GAN1_metrics[0]))"
   ]
  },
  {
   "cell_type": "code",
   "execution_count": 14,
   "id": "eb22ce5c",
   "metadata": {
    "execution": {
     "iopub.execute_input": "2022-06-22T14:21:36.835981Z",
     "iopub.status.busy": "2022-06-22T14:21:36.832455Z",
     "iopub.status.idle": "2022-06-22T14:21:37.803940Z",
     "shell.execute_reply": "2022-06-22T14:21:37.804515Z"
    },
    "papermill": {
     "duration": 1.018127,
     "end_time": "2022-06-22T14:21:37.805267",
     "exception": false,
     "start_time": "2022-06-22T14:21:36.787140",
     "status": "completed"
    },
    "tags": []
   },
   "outputs": [
    {
     "data": {
      "image/png": "[encoded data removed]",
      "text/plain": [
       "<Figure size 432x288 with 1 Axes>"
      ]
     },
     "metadata": {
      "needs_background": "light"
     },
     "output_type": "display_data"
    },
    {
     "data": {
      "image/png": "[encoded data removed]",
      "text/plain": [
       "<Figure size 432x288 with 1 Axes>"
      ]
     },
     "metadata": {
      "needs_background": "light"
     },
     "output_type": "display_data"
    },
    {
     "data": {
      "image/png": "[encoded data removed]",
      "text/plain": [
       "<Figure size 432x288 with 1 Axes>"
      ]
     },
     "metadata": {
      "needs_background": "light"
     },
     "output_type": "display_data"
    },
    {
     "data": {
      "image/png": "[encoded data removed]",
      "text/plain": [
       "<Figure size 432x288 with 1 Axes>"
      ]
     },
     "metadata": {
      "needs_background": "light"
     },
     "output_type": "display_data"
    }
   ],
   "source": [
    "sanityChecks.discProbVsError(train_data,disc,device)\n",
    "sanityChecks.discProbVsError(test_data,disc,device)"
   ]
  },
  {
   "cell_type": "markdown",
   "id": "130f3a4d",
   "metadata": {
    "id": "130f3a4d",
    "papermill": {
     "duration": 0.051763,
     "end_time": "2022-06-22T14:21:37.901566",
     "exception": false,
     "start_time": "2022-06-22T14:21:37.849803",
     "status": "completed"
    },
    "tags": []
   },
   "source": [
    "# ABC - GAN Model with skip connection"
   ]
  },
  {
   "cell_type": "code",
   "execution_count": 15,
   "id": "4e43dad1",
   "metadata": {
    "execution": {
     "iopub.execute_input": "2022-06-22T14:21:38.002756Z",
     "iopub.status.busy": "2022-06-22T14:21:38.001571Z",
     "iopub.status.idle": "2022-06-22T14:21:38.003882Z",
     "shell.execute_reply": "2022-06-22T14:21:38.004890Z"
    },
    "id": "4e43dad1",
    "papermill": {
     "duration": 0.057233,
     "end_time": "2022-06-22T14:21:38.005122",
     "exception": false,
     "start_time": "2022-06-22T14:21:37.947889",
     "status": "completed"
    },
    "tags": []
   },
   "outputs": [],
   "source": [
    "#Generator\n",
    "gen3 = network.GeneratorWithSkipConnection(n_features+1).to(device)\n",
    "constraints=network.weightConstraint()\n",
    "#Discriminator \n",
    "disc3 = network.Discriminator(n_features+1).to(device)\n",
    "\n",
    "criterion = torch.nn.BCELoss()\n",
    "gen_opt = torch.optim.Adam(gen3.parameters(), lr=0.001, betas=(0.5, 0.999))\n",
    "disc_opt = torch.optim.Adam(disc3.parameters(), lr=0.001, betas=(0.5, 0.999))\n"
   ]
  },
  {
   "cell_type": "code",
   "execution_count": 16,
   "id": "26acbc37",
   "metadata": {
    "execution": {
     "iopub.execute_input": "2022-06-22T14:21:38.110734Z",
     "iopub.status.busy": "2022-06-22T14:21:38.109719Z",
     "iopub.status.idle": "2022-06-22T14:23:05.283202Z",
     "shell.execute_reply": "2022-06-22T14:23:05.283722Z"
    },
    "id": "26acbc37",
    "papermill": {
     "duration": 87.234451,
     "end_time": "2022-06-22T14:23:05.283962",
     "exception": false,
     "start_time": "2022-06-22T14:21:38.049511",
     "status": "completed"
    },
    "tags": []
   },
   "outputs": [
    {
     "data": {
      "image/png": "[encoded data removed]",
      "text/plain": [
       "<Figure size 432x288 with 1 Axes>"
      ]
     },
     "metadata": {
      "needs_background": "light"
     },
     "output_type": "display_data"
    },
    {
     "data": {
      "image/png": "[encoded data removed]",
      "text/plain": [
       "<Figure size 432x288 with 1 Axes>"
      ]
     },
     "metadata": {
      "needs_background": "light"
     },
     "output_type": "display_data"
    }
   ],
   "source": [
    "ABC_train_test2.training_GAN_skip_connection(disc3,gen3,disc_opt,gen_opt,train_data,batch_size,n_epochs,criterion,prior_model,variance,bias,device)"
   ]
  },
  {
   "cell_type": "code",
   "execution_count": 17,
   "id": "c5e0717b",
   "metadata": {
    "execution": {
     "iopub.execute_input": "2022-06-22T14:23:05.394397Z",
     "iopub.status.busy": "2022-06-22T14:23:05.393025Z",
     "iopub.status.idle": "2022-06-22T14:23:06.324696Z",
     "shell.execute_reply": "2022-06-22T14:23:06.325330Z"
    },
    "id": "c5e0717b",
    "papermill": {
     "duration": 0.993795,
     "end_time": "2022-06-22T14:23:06.325558",
     "exception": false,
     "start_time": "2022-06-22T14:23:05.331763",
     "status": "completed"
    },
    "tags": []
   },
   "outputs": [
    {
     "data": {
      "application/scrapbook.scrap.json+json": {
       "data": 0.37883204985612723,
       "encoder": "json",
       "name": "ABC-GAN Model 3 MSE",
       "version": 1
      }
     },
     "metadata": {
      "scrapbook": {
       "data": true,
       "display": false,
       "name": "ABC-GAN Model 3 MSE"
      }
     },
     "output_type": "display_data"
    },
    {
     "data": {
      "application/scrapbook.scrap.json+json": {
       "data": 0.42318794076377525,
       "encoder": "json",
       "name": "ABC-GAN Model 3 MAE",
       "version": 1
      }
     },
     "metadata": {
      "scrapbook": {
       "data": true,
       "display": false,
       "name": "ABC-GAN Model 3 MAE"
      }
     },
     "output_type": "display_data"
    },
    {
     "data": {
      "application/scrapbook.scrap.json+json": {
       "data": 8.463758815275504,
       "encoder": "json",
       "name": "ABC-GAN Model 3 Manhattan Distance",
       "version": 1
      }
     },
     "metadata": {
      "scrapbook": {
       "data": true,
       "display": false,
       "name": "ABC-GAN Model 3 Manhattan Distance"
      }
     },
     "output_type": "display_data"
    },
    {
     "data": {
      "application/scrapbook.scrap.json+json": {
       "data": 2.7519703495182837,
       "encoder": "json",
       "name": "ABC-GAN Model 3 Euclidean distance",
       "version": 1
      }
     },
     "metadata": {
      "scrapbook": {
       "data": true,
       "display": false,
       "name": "ABC-GAN Model 3 Euclidean distance"
      }
     },
     "output_type": "display_data"
    },
    {
     "data": {
      "application/scrapbook.scrap.json+json": {
       "data": [
        [
         0.3922926319157641,
         0.37132228653696514,
         0.3645306509968286,
         0.3882272278260288,
         0.3619197383538323,
         0.3587368086633989,
         0.37735161314768123,
         0.383393325319998,
         0.4005345284675702,
         0.3874690037869675,
         0.39404299395140774,
         0.3716844134877335,
         0.39537854313169885,
         0.35454234943141905,
         0.40908986950359993,
         0.3757823921969365,
         0.3865091218740069,
         0.38888301945910403,
         0.3534473601617528,
         0.3790941145810457,
         0.38674225279542496,
         0.3961055570901784,
         0.4029440598545612,
         0.37273451847794686,
         0.3624854160310552,
         0.3757512641863411,
         0.38152228557111945,
         0.3865762257386268,
         0.3664403926754996,
         0.3817456531583673,
         0.3789132690535173,
         0.3696706824573529,
         0.3695909111342154,
         0.3660966211201694,
         0.3823585512081146,
         0.34641660233663873,
         0.3766116835843889,
         0.3759896185085446,
         0.39324904545774003,
         0.37433736949556307,
         0.3697681208979529,
         0.3756882754431977,
         0.4023092104898991,
         0.3843986141421528,
         0.377308758152319,
         0.34717251819659484,
         0.3849860826396826,
         0.3799446270068082,
         0.3779379141972303,
         0.3752981454922635,
         0.38311701915508306,
         0.38838077330358456,
         0.3740804444073947,
         0.3908168385962753,
         0.37784543985326086,
         0.35825811840770194,
         0.379908058604652,
         0.4045788529792679,
         0.3549587693404027,
         0.3964910869540946,
         0.3860592238060129,
         0.3618146830394147,
         0.37348017506103803,
         0.39470460539670577,
         0.39460248426402883,
         0.37616690871225067,
         0.3977891870216941,
         0.3846014808014773,
         0.36220953242903986,
         0.3712305691901499,
         0.388316775714698,
         0.41536488894618306,
         0.38592207833291986,
         0.4139695106179917,
         0.3952855776303282,
         0.36112223587020303,
         0.3802980059065933,
         0.3789694668578211,
         0.3321923357070698,
         0.37567019420336406,
         0.3822837526319288,
         0.40970914015769094,
         0.3895605128612879,
         0.35151803910782153,
         0.38252713715140324,
         0.35439162071683783,
         0.3866015563484474,
         0.3561441026305162,
         0.3787406285775966,
         0.3558154425045876,
         0.3646163733293615,
         0.4027256388344103,
         0.4022261396856212,
         0.37194346278540624,
         0.39458961341746634,
         0.3630581147942764,
         0.3566929903582869,
         0.38273814041023435,
         0.3761935572671411,
         0.3675974615444921
        ],
        [
         0.4421676561236382,
         0.42243007719516756,
         0.42701725885272024,
         0.4306879922747612,
         0.4272190861403942,
         0.4100861560553312,
         0.4268443614244461,
         0.4177688732743263,
         0.4249614026397467,
         0.4219534911215305,
         0.43287327494472266,
         0.4209828808903694,
         0.43730406537652017,
         0.4096162896603346,
         0.45143149234354496,
         0.4152081869542599,
         0.4326440941542387,
         0.42830857783555987,
         0.39866506978869437,
         0.4487352892756462,
         0.4314019314944744,
         0.42390089221298694,
         0.42689795438200234,
         0.41395977661013605,
         0.4155478738248348,
         0.4305401273071766,
         0.4136457219719887,
         0.4224079519510269,
         0.41597429364919664,
         0.4276601567864418,
         0.4113653048872948,
         0.4162023838609457,
         0.4163019098341465,
         0.4177580218762159,
         0.41964106932282447,
         0.3980100080370903,
         0.42428223937749865,
         0.42044414579868317,
         0.4437718905508518,
         0.4071289196610451,
         0.4196027211844921,
         0.43192374482750895,
         0.44625537768006324,
         0.4293667569756508,
         0.41447374001145365,
         0.40424845591187475,
         0.4044689450412989,
         0.41304312124848364,
         0.42833318933844566,
         0.424706244468689,
         0.42784366235136984,
         0.4494063876569271,
         0.4284357734024525,
         0.4430061034858227,
         0.4228953214362264,
         0.4067984282970428,
         0.4276155553758144,
         0.43939120694994926,
         0.39701771065592767,
         0.44164138846099377,
         0.4194828450679779,
         0.4212332174181938,
         0.4173557676374912,
         0.42292068237438796,
         0.4306011810898781,
         0.41998038366436957,
         0.4341020129621029,
         0.422194666787982,
         0.40873636230826377,
         0.4081100270152092,
         0.4274414096027613,
         0.4312289234250784,
         0.433437612419948,
         0.442533814907074,
         0.43333062939345834,
         0.41134609654545784,
         0.41040069311857225,
         0.4149280093610287,
         0.4116764083504677,
         0.4242679663002491,
         0.4093334823846817,
         0.43491311762481927,
         0.4161137260496616,
         0.4000868506729603,
         0.42030699327588084,
         0.41979003623127936,
         0.4285884745419025,
         0.4093396425247192,
         0.43329285755753516,
         0.4111862748861313,
         0.4222123146057129,
         0.4291786801069975,
         0.4349340539425611,
         0.42671557068824767,
         0.4419253788888454,
         0.4090557284653187,
         0.42387958988547325,
         0.432729285210371,
         0.42597640231251716,
         0.41970492228865625
        ],
        [
         8.843353122472763,
         8.44860154390335,
         8.540345177054405,
         8.613759845495224,
         8.544381722807884,
         8.201723121106625,
         8.536887228488922,
         8.355377465486526,
         8.499228052794933,
         8.43906982243061,
         8.657465498894453,
         8.419657617807388,
         8.746081307530403,
         8.192325793206692,
         9.0286298468709,
         8.304163739085197,
         8.652881883084774,
         8.566171556711197,
         7.973301395773888,
         8.974705785512924,
         8.628038629889488,
         8.478017844259739,
         8.537959087640047,
         8.27919553220272,
         8.310957476496696,
         8.610802546143532,
         8.272914439439774,
         8.448159039020538,
         8.319485872983932,
         8.553203135728836,
         8.227306097745895,
         8.324047677218914,
         8.32603819668293,
         8.355160437524319,
         8.39282138645649,
         7.960200160741806,
         8.485644787549973,
         8.408882915973663,
         8.875437811017036,
         8.142578393220901,
         8.392054423689842,
         8.638474896550179,
         8.925107553601265,
         8.587335139513016,
         8.289474800229073,
         8.084969118237495,
         8.089378900825977,
         8.260862424969673,
         8.566663786768913,
         8.49412488937378,
         8.556873247027397,
         8.988127753138542,
         8.56871546804905,
         8.860122069716454,
         8.457906428724527,
         8.135968565940857,
         8.552311107516289,
         8.787824138998985,
         7.940354213118553,
         8.832827769219875,
         8.389656901359558,
         8.424664348363876,
         8.347115352749825,
         8.45841364748776,
         8.612023621797562,
         8.399607673287392,
         8.682040259242058,
         8.44389333575964,
         8.174727246165276,
         8.162200540304184,
         8.548828192055225,
         8.624578468501568,
         8.66875224839896,
         8.85067629814148,
         8.666612587869167,
         8.226921930909157,
         8.208013862371445,
         8.298560187220573,
         8.233528167009354,
         8.485359326004982,
         8.186669647693634,
         8.698262352496386,
         8.322274520993233,
         8.001737013459206,
         8.406139865517616,
         8.395800724625587,
         8.57176949083805,
         8.186792850494385,
         8.665857151150703,
         8.223725497722626,
         8.444246292114258,
         8.58357360213995,
         8.698681078851223,
         8.534311413764954,
         8.838507577776909,
         8.181114569306374,
         8.477591797709465,
         8.65458570420742,
         8.519528046250343,
         8.394098445773125
        ],
        [
         2.8010449190106326,
         2.7251505886352967,
         2.7001135198240407,
         2.7864932364031634,
         2.6904265028200722,
         2.6785697999619082,
         2.7471862446790216,
         2.7690912780910564,
         2.8303163373289926,
         2.7837708375042927,
         2.8072869249558647,
         2.726479097619248,
         2.8120403380168604,
         2.662864433017269,
         2.8603841333065736,
         2.741468191305296,
         2.780320563798379,
         2.7888457091029757,
         2.6587491802039276,
         2.753521797920059,
         2.7811589411445903,
         2.8146245116895376,
         2.8388168657191017,
         2.730327886822192,
         2.6925282395215664,
         2.741354643917277,
         2.762326141392864,
         2.7805619063010516,
         2.707177100507093,
         2.7631346444151696,
         2.7528649405792405,
         2.7190832368919966,
         2.718789845259156,
         2.705906950063765,
         2.7653518807128856,
         2.632172495626526,
         2.74449151423133,
         2.742223982495028,
         2.804457328816896,
         2.736192133222969,
         2.7194415636227705,
         2.7411248619615916,
         2.836579667451274,
         2.772719293914019,
         2.7470302442904373,
         2.6350427632074394,
         2.7748372299638864,
         2.756608884143009,
         2.749319603819208,
         2.739701244633303,
         2.7680932757227783,
         2.7870442167414016,
         2.735252984304723,
         2.7957712302557063,
         2.7489832296806065,
         2.6767820920190792,
         2.756476223748908,
         2.844569749467458,
         2.6644277784935464,
         2.815993916733822,
         2.778701940856604,
         2.6900359961882097,
         2.733057537122254,
         2.8096427011159473,
         2.809279210986437,
         2.742870426076488,
         2.820599890171217,
         2.7734508497591133,
         2.691503417902492,
         2.7248140090294233,
         2.786814581972392,
         2.8822383279187136,
         2.778208337518696,
         2.877392954109646,
         2.8117097205448793,
         2.687460644810275,
         2.757890519605857,
         2.7530690759870926,
         2.577566044574105,
         2.7410588983214645,
         2.7650813826429372,
         2.8625483058201513,
         2.791273948795739,
         2.6514827516234063,
         2.7659614500256624,
         2.6622983330830445,
         2.7806530036969637,
         2.6688728056260613,
         2.75223773892299,
         2.6676410647033744,
         2.7004309779343054,
         2.8380473527917407,
         2.836286796801837,
         2.7274290560357617,
         2.809233395136354,
         2.6946543926606856,
         2.670928641346627,
         2.7667242016877447,
         2.7429675800750584,
         2.711447810836462
        ]
       ],
       "encoder": "json",
       "name": "ABC_GAN_3 Metrics",
       "version": 1
      }
     },
     "metadata": {
      "scrapbook": {
       "data": true,
       "display": false,
       "name": "ABC_GAN_3 Metrics"
      }
     },
     "output_type": "display_data"
    },
    {
     "name": "stdout",
     "output_type": "stream",
     "text": [
      "MSE\n",
      "0.37883204985612723\n"
     ]
    }
   ],
   "source": [
    "ABC_GAN3_metrics=ABC_train_test2.test_generator(gen3,test_data,prior_model,variance,bias,\"3\",device)\n",
    "sb.glue(\"ABC_GAN_3 Metrics\",ABC_GAN3_metrics)\n",
    "\n",
    "print(\"MSE\")\n",
    "print(mean(ABC_GAN3_metrics[0]))"
   ]
  },
  {
   "cell_type": "code",
   "execution_count": 18,
   "id": "c8e46b48",
   "metadata": {
    "execution": {
     "iopub.execute_input": "2022-06-22T14:23:06.501687Z",
     "iopub.status.busy": "2022-06-22T14:23:06.500939Z",
     "iopub.status.idle": "2022-06-22T14:23:07.421524Z",
     "shell.execute_reply": "2022-06-22T14:23:07.422202Z"
    },
    "id": "c8e46b48",
    "papermill": {
     "duration": 1.041396,
     "end_time": "2022-06-22T14:23:07.422468",
     "exception": false,
     "start_time": "2022-06-22T14:23:06.381072",
     "status": "completed"
    },
    "tags": []
   },
   "outputs": [
    {
     "data": {
      "image/png": "[encoded data removed]",
      "text/plain": [
       "<Figure size 432x288 with 1 Axes>"
      ]
     },
     "metadata": {
      "needs_background": "light"
     },
     "output_type": "display_data"
    },
    {
     "data": {
      "image/png": "[encoded data removed]",
      "text/plain": [
       "<Figure size 432x288 with 1 Axes>"
      ]
     },
     "metadata": {
      "needs_background": "light"
     },
     "output_type": "display_data"
    },
    {
     "data": {
      "image/png": "[encoded data removed]",
      "text/plain": [
       "<Figure size 432x288 with 1 Axes>"
      ]
     },
     "metadata": {
      "needs_background": "light"
     },
     "output_type": "display_data"
    },
    {
     "data": {
      "image/png": "[encoded data removed]",
      "text/plain": [
       "<Figure size 432x288 with 1 Axes>"
      ]
     },
     "metadata": {
      "needs_background": "light"
     },
     "output_type": "display_data"
    }
   ],
   "source": [
    "sanityChecks.discProbVsError(train_data,disc3,device)\n",
    "sanityChecks.discProbVsError(test_data,disc3,device)"
   ]
  },
  {
   "cell_type": "markdown",
   "id": "a5bd74c3",
   "metadata": {
    "id": "a5bd74c3",
    "papermill": {
     "duration": 0.064809,
     "end_time": "2022-06-22T14:23:07.549096",
     "exception": false,
     "start_time": "2022-06-22T14:23:07.484287",
     "status": "completed"
    },
    "tags": []
   },
   "source": [
    "## Skip Connection Model Analysis - ABC-GAN "
   ]
  },
  {
   "cell_type": "markdown",
   "id": "5744a8bf",
   "metadata": {
    "id": "5744a8bf",
    "papermill": {
     "duration": 0.05625,
     "end_time": "2022-06-22T14:23:07.655578",
     "exception": false,
     "start_time": "2022-06-22T14:23:07.599328",
     "status": "completed"
    },
    "tags": []
   },
   "source": [
    "### Weight Analysis \n",
    "\n",
    "Study the weights of the skip connection layer\n",
    "\n",
    "Equation of the skip connection is \n",
    "\n",
    "$output = y_{gan} * w + y_{abc} * (1-w)$"
   ]
  },
  {
   "cell_type": "code",
   "execution_count": 19,
   "id": "52c31dea",
   "metadata": {
    "execution": {
     "iopub.execute_input": "2022-06-22T14:23:07.779758Z",
     "iopub.status.busy": "2022-06-22T14:23:07.778188Z",
     "iopub.status.idle": "2022-06-22T14:23:07.786856Z",
     "shell.execute_reply": "2022-06-22T14:23:07.787458Z"
    },
    "id": "52c31dea",
    "papermill": {
     "duration": 0.072421,
     "end_time": "2022-06-22T14:23:07.787781",
     "exception": false,
     "start_time": "2022-06-22T14:23:07.715360",
     "status": "completed"
    },
    "tags": []
   },
   "outputs": [
    {
     "name": "stdout",
     "output_type": "stream",
     "text": [
      "Weight of the node at skip connection\n",
      "Parameter containing:\n",
      "tensor([[0.2318]], requires_grad=True)\n"
     ]
    },
    {
     "data": {
      "application/scrapbook.scrap.json+json": {
       "data": 0.23177480697631836,
       "encoder": "json",
       "name": "Skip Connection Weight",
       "version": 1
      }
     },
     "metadata": {
      "scrapbook": {
       "data": true,
       "display": false,
       "name": "Skip Connection Weight"
      }
     },
     "output_type": "display_data"
    }
   ],
   "source": [
    "print(\"Weight of the node at skip connection\")\n",
    "for name,param in gen3.named_parameters():\n",
    "    if(name == \"skipNode.weight\"):\n",
    "        print(param)\n",
    "        sb.glue(\"Skip Connection Weight\",param.item())"
   ]
  }
 ],
 "metadata": {
  "colab": {
   "collapsed_sections": [],
   "name": "ABC_GAN_Model-Catboost_Pre-gen.ipynb",
   "provenance": []
  },
  "interpreter": {
   "hash": "31f2aee4e71d21fbe5cf8b01ff0e069b9275f58929596ceb00d14d90e3e16cd6"
  },
  "kernelspec": {
   "display_name": "Python 3 (ipykernel)",
   "language": "python",
   "name": "python3"
  },
  "language_info": {
   "codemirror_mode": {
    "name": "ipython",
    "version": 3
   },
   "file_extension": ".py",
   "mimetype": "text/x-python",
   "name": "python",
   "nbconvert_exporter": "python",
   "pygments_lexer": "ipython3",
   "version": "3.8.3"
  },
  "papermill": {
   "default_parameters": {},
   "duration": 171.586811,
   "end_time": "2022-06-22T14:23:09.685001",
   "environment_variables": {},
   "exception": null,
   "input_path": "ABC_GAN-TabNet.ipynb",
   "output_path": "./ABC_GAN_TabNet/ABC-GAN_output_6_4.ipynb",
   "parameters": {
    "bias": 0.1,
    "variance": 0.1
   },
   "start_time": "2022-06-22T14:20:18.098190",
   "version": "2.3.3"
  }
 },
 "nbformat": 4,
 "nbformat_minor": 5
}