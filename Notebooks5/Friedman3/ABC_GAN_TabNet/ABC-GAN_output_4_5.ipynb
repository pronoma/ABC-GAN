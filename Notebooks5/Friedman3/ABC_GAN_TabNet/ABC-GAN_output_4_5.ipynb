{
 "cells": [
  {
   "cell_type": "markdown",
   "id": "622780e6",
   "metadata": {
    "id": "622780e6",
    "papermill": {
     "duration": 0.026711,
     "end_time": "2022-06-22T13:09:38.791552",
     "exception": false,
     "start_time": "2022-06-22T13:09:38.764841",
     "status": "completed"
    },
    "tags": []
   },
   "source": [
    "## Import Libraries "
   ]
  },
  {
   "cell_type": "code",
   "execution_count": 1,
   "id": "a62397e3",
   "metadata": {
    "execution": {
     "iopub.execute_input": "2022-06-22T13:09:38.848651Z",
     "iopub.status.busy": "2022-06-22T13:09:38.847453Z",
     "iopub.status.idle": "2022-06-22T13:09:38.850641Z",
     "shell.execute_reply": "2022-06-22T13:09:38.851182Z"
    },
    "id": "a62397e3",
    "papermill": {
     "duration": 0.039958,
     "end_time": "2022-06-22T13:09:38.851558",
     "exception": false,
     "start_time": "2022-06-22T13:09:38.811600",
     "status": "completed"
    },
    "tags": []
   },
   "outputs": [],
   "source": [
    "import warnings\n",
    "import sys\n",
    "sys.path.insert(0, '../../src')\n",
    "warnings.filterwarnings('ignore')"
   ]
  },
  {
   "cell_type": "code",
   "execution_count": 2,
   "id": "d6a4e155",
   "metadata": {
    "execution": {
     "iopub.execute_input": "2022-06-22T13:09:38.895146Z",
     "iopub.status.busy": "2022-06-22T13:09:38.894161Z",
     "iopub.status.idle": "2022-06-22T13:09:44.921008Z",
     "shell.execute_reply": "2022-06-22T13:09:44.921628Z"
    },
    "id": "d6a4e155",
    "papermill": {
     "duration": 6.050928,
     "end_time": "2022-06-22T13:09:44.921880",
     "exception": false,
     "start_time": "2022-06-22T13:09:38.870952",
     "status": "completed"
    },
    "tags": []
   },
   "outputs": [],
   "source": [
    "import ABC_train_test2\n",
    "import friedman3Dataset\n",
    "import network\n",
    "import dataset\n",
    "import sanityChecks\n",
    "import torch \n",
    "import scrapbook as sb\n",
    "from statistics import mean \n",
    "import catboost as ctb \n",
    "from sklearn.model_selection import train_test_split\n",
    "from sklearn.metrics import mean_squared_error,mean_absolute_error\n",
    "import numpy as np\n",
    "from pytorch_tabnet.tab_model import TabNetRegressor"
   ]
  },
  {
   "cell_type": "markdown",
   "id": "2fa5b0f7",
   "metadata": {
    "id": "2fa5b0f7",
    "papermill": {
     "duration": 0.0202,
     "end_time": "2022-06-22T13:09:44.958988",
     "exception": false,
     "start_time": "2022-06-22T13:09:44.938788",
     "status": "completed"
    },
    "tags": []
   },
   "source": [
    "## Parameters "
   ]
  },
  {
   "cell_type": "code",
   "execution_count": 3,
   "id": "783186fb",
   "metadata": {
    "execution": {
     "iopub.execute_input": "2022-06-22T13:09:45.001012Z",
     "iopub.status.busy": "2022-06-22T13:09:45.000183Z",
     "iopub.status.idle": "2022-06-22T13:09:45.002262Z",
     "shell.execute_reply": "2022-06-22T13:09:45.002828Z"
    },
    "id": "783186fb",
    "papermill": {
     "duration": 0.025253,
     "end_time": "2022-06-22T13:09:45.003045",
     "exception": false,
     "start_time": "2022-06-22T13:09:44.977792",
     "status": "completed"
    },
    "tags": [
     "parameters"
    ]
   },
   "outputs": [],
   "source": [
    "variance = 1\n",
    "bias = 1 "
   ]
  },
  {
   "cell_type": "code",
   "execution_count": 4,
   "id": "2966985e",
   "metadata": {
    "execution": {
     "iopub.execute_input": "2022-06-22T13:09:45.036942Z",
     "iopub.status.busy": "2022-06-22T13:09:45.036090Z",
     "iopub.status.idle": "2022-06-22T13:09:45.038532Z",
     "shell.execute_reply": "2022-06-22T13:09:45.039035Z"
    },
    "papermill": {
     "duration": 0.020838,
     "end_time": "2022-06-22T13:09:45.039430",
     "exception": false,
     "start_time": "2022-06-22T13:09:45.018592",
     "status": "completed"
    },
    "tags": [
     "injected-parameters"
    ]
   },
   "outputs": [],
   "source": [
    "# Parameters\n",
    "variance = 0.01\n",
    "bias = 0.1\n"
   ]
  },
  {
   "cell_type": "markdown",
   "id": "391cdbfd",
   "metadata": {
    "id": "391cdbfd",
    "papermill": {
     "duration": 0.049189,
     "end_time": "2022-06-22T13:09:45.103967",
     "exception": false,
     "start_time": "2022-06-22T13:09:45.054778",
     "status": "completed"
    },
    "tags": []
   },
   "source": [
    "## Dataset \n"
   ]
  },
  {
   "cell_type": "code",
   "execution_count": 5,
   "id": "5b51f161",
   "metadata": {
    "execution": {
     "iopub.execute_input": "2022-06-22T13:09:45.144851Z",
     "iopub.status.busy": "2022-06-22T13:09:45.143728Z",
     "iopub.status.idle": "2022-06-22T13:09:45.145832Z",
     "shell.execute_reply": "2022-06-22T13:09:45.146656Z"
    },
    "id": "5b51f161",
    "papermill": {
     "duration": 0.025213,
     "end_time": "2022-06-22T13:09:45.147302",
     "exception": false,
     "start_time": "2022-06-22T13:09:45.122089",
     "status": "completed"
    },
    "tags": []
   },
   "outputs": [],
   "source": [
    "#Parameters \n",
    "n_features = 4\n",
    "n_samples= 100\n",
    "n_target = 1"
   ]
  },
  {
   "cell_type": "code",
   "execution_count": 6,
   "id": "5d6eced4",
   "metadata": {
    "execution": {
     "iopub.execute_input": "2022-06-22T13:09:45.188271Z",
     "iopub.status.busy": "2022-06-22T13:09:45.187449Z",
     "iopub.status.idle": "2022-06-22T13:09:45.205948Z",
     "shell.execute_reply": "2022-06-22T13:09:45.206676Z"
    },
    "id": "5d6eced4",
    "papermill": {
     "duration": 0.042906,
     "end_time": "2022-06-22T13:09:45.206931",
     "exception": false,
     "start_time": "2022-06-22T13:09:45.164025",
     "status": "completed"
    },
    "tags": []
   },
   "outputs": [
    {
     "name": "stdout",
     "output_type": "stream",
     "text": [
      "          X1           X2        X3         X4         Y\n",
      "0  44.153706   503.166001  0.365123  10.854597  1.283188\n",
      "1  32.168469   844.477628  0.041420   9.695250  0.767320\n",
      "2  94.083766   389.695703  0.515234   6.823473  0.929896\n",
      "3  81.120328  1256.940071  0.689018   1.499781  1.473178\n",
      "4   8.331641  1251.758140  0.713713   4.198709  1.534327\n"
     ]
    }
   ],
   "source": [
    "X,Y = friedman3Dataset.friedman3_data(n_samples)"
   ]
  },
  {
   "cell_type": "code",
   "execution_count": 7,
   "id": "fe007438",
   "metadata": {
    "execution": {
     "iopub.execute_input": "2022-06-22T13:09:45.248026Z",
     "iopub.status.busy": "2022-06-22T13:09:45.246440Z",
     "iopub.status.idle": "2022-06-22T13:09:45.249434Z",
     "shell.execute_reply": "2022-06-22T13:09:45.248768Z"
    },
    "id": "fe007438",
    "papermill": {
     "duration": 0.026033,
     "end_time": "2022-06-22T13:09:45.249637",
     "exception": false,
     "start_time": "2022-06-22T13:09:45.223604",
     "status": "completed"
    },
    "tags": []
   },
   "outputs": [],
   "source": [
    "#Train test split for dataset \n",
    "X_train,X_test,Y_train,Y_test = train_test_split(X,Y,test_size = 0.2)\n",
    "train_data = dataset.CustomDataset(X_train,Y_train)\n",
    "test_data = dataset.CustomDataset(X_test,Y_test)\n"
   ]
  },
  {
   "cell_type": "markdown",
   "id": "a9a1af34",
   "metadata": {
    "id": "a9a1af34",
    "papermill": {
     "duration": 0.029372,
     "end_time": "2022-06-22T13:09:45.297445",
     "exception": false,
     "start_time": "2022-06-22T13:09:45.268073",
     "status": "completed"
    },
    "tags": []
   },
   "source": [
    "## Training Parameters "
   ]
  },
  {
   "cell_type": "code",
   "execution_count": 8,
   "id": "952b7fc8",
   "metadata": {
    "execution": {
     "iopub.execute_input": "2022-06-22T13:09:45.344749Z",
     "iopub.status.busy": "2022-06-22T13:09:45.341614Z",
     "iopub.status.idle": "2022-06-22T13:09:45.346415Z",
     "shell.execute_reply": "2022-06-22T13:09:45.347212Z"
    },
    "id": "952b7fc8",
    "papermill": {
     "duration": 0.029096,
     "end_time": "2022-06-22T13:09:45.347881",
     "exception": false,
     "start_time": "2022-06-22T13:09:45.318785",
     "status": "completed"
    },
    "tags": []
   },
   "outputs": [],
   "source": [
    "batch_size = 32\n",
    "n_epochs = 1000\n",
    "#Select the device \n",
    "device = torch.device('cuda' if torch.cuda.is_available() else 'cpu')"
   ]
  },
  {
   "cell_type": "markdown",
   "id": "a95e1600",
   "metadata": {
    "id": "a95e1600",
    "papermill": {
     "duration": 0.014445,
     "end_time": "2022-06-22T13:09:45.380929",
     "exception": false,
     "start_time": "2022-06-22T13:09:45.366484",
     "status": "completed"
    },
    "tags": []
   },
   "source": [
    "# ABC Pre-generator Model \n",
    "\n",
    "1. The catboost model is used as a pre-generator model for the ABC-GAN. \n",
    "2. The model is first trained on the entire dataset \n",
    "3. It generats X,Y pairs and we add some Gaussian noise with mean 0 and variance 1 to it which is then feed as input to the generator.\n"
   ]
  },
  {
   "cell_type": "code",
   "execution_count": 9,
   "id": "ff8ce7bd",
   "metadata": {
    "execution": {
     "iopub.execute_input": "2022-06-22T13:09:45.424693Z",
     "iopub.status.busy": "2022-06-22T13:09:45.421928Z",
     "iopub.status.idle": "2022-06-22T13:10:06.699608Z",
     "shell.execute_reply": "2022-06-22T13:10:06.700294Z"
    },
    "id": "ff8ce7bd",
    "papermill": {
     "duration": 21.303488,
     "end_time": "2022-06-22T13:10:06.700508",
     "exception": false,
     "start_time": "2022-06-22T13:09:45.397020",
     "status": "completed"
    },
    "tags": []
   },
   "outputs": [
    {
     "name": "stdout",
     "output_type": "stream",
     "text": [
      "Device used : cpu\n"
     ]
    },
    {
     "name": "stdout",
     "output_type": "stream",
     "text": [
      "epoch 0  | loss: 1.10375 | train_mse: 2.11485 | train_mae: 1.05681 |  0:00:00s\n",
      "epoch 1  | loss: 0.83673 | train_mse: 1.67841 | train_mae: 0.94938 |  0:00:00s\n",
      "epoch 2  | loss: 0.65892 | train_mse: 1.53802 | train_mae: 0.8703  |  0:00:00s\n"
     ]
    },
    {
     "name": "stdout",
     "output_type": "stream",
     "text": [
      "epoch 3  | loss: 0.41684 | train_mse: 1.76238 | train_mae: 0.91625 |  0:00:00s\n",
      "epoch 4  | loss: 0.59692 | train_mse: 0.80178 | train_mae: 0.66299 |  0:00:00s\n",
      "epoch 5  | loss: 0.45711 | train_mse: 0.63217 | train_mae: 0.55603 |  0:00:00s\n"
     ]
    },
    {
     "name": "stdout",
     "output_type": "stream",
     "text": [
      "epoch 6  | loss: 0.46337 | train_mse: 0.55485 | train_mae: 0.526   |  0:00:00s\n",
      "epoch 7  | loss: 0.37693 | train_mse: 0.62296 | train_mae: 0.5537  |  0:00:00s\n",
      "epoch 8  | loss: 0.29428 | train_mse: 0.62161 | train_mae: 0.53391 |  0:00:00s\n"
     ]
    },
    {
     "name": "stdout",
     "output_type": "stream",
     "text": [
      "epoch 9  | loss: 0.41913 | train_mse: 0.47288 | train_mae: 0.50352 |  0:00:00s\n",
      "epoch 10 | loss: 0.34107 | train_mse: 0.59916 | train_mae: 0.55407 |  0:00:00s\n",
      "epoch 11 | loss: 0.39711 | train_mse: 0.70101 | train_mae: 0.58053 |  0:00:01s\n",
      "epoch 12 | loss: 0.41537 | train_mse: 0.56869 | train_mae: 0.56168 |  0:00:01s\n"
     ]
    },
    {
     "name": "stdout",
     "output_type": "stream",
     "text": [
      "epoch 13 | loss: 0.31947 | train_mse: 0.57511 | train_mae: 0.53889 |  0:00:01s\n",
      "epoch 14 | loss: 0.31383 | train_mse: 0.37172 | train_mae: 0.43955 |  0:00:01s\n",
      "epoch 15 | loss: 0.27829 | train_mse: 0.37967 | train_mae: 0.4607  |  0:00:01s\n"
     ]
    },
    {
     "name": "stdout",
     "output_type": "stream",
     "text": [
      "epoch 16 | loss: 0.25294 | train_mse: 0.344   | train_mae: 0.44464 |  0:00:01s\n",
      "epoch 17 | loss: 0.2187  | train_mse: 0.32009 | train_mae: 0.4098  |  0:00:01s\n"
     ]
    },
    {
     "name": "stdout",
     "output_type": "stream",
     "text": [
      "epoch 18 | loss: 0.29588 | train_mse: 0.28512 | train_mae: 0.38666 |  0:00:01s\n",
      "epoch 19 | loss: 0.20058 | train_mse: 0.31206 | train_mae: 0.41874 |  0:00:01s\n",
      "epoch 20 | loss: 0.17283 | train_mse: 0.28886 | train_mae: 0.40892 |  0:00:01s\n"
     ]
    },
    {
     "name": "stdout",
     "output_type": "stream",
     "text": [
      "epoch 21 | loss: 0.27427 | train_mse: 0.21524 | train_mae: 0.35805 |  0:00:01s\n",
      "epoch 22 | loss: 0.16512 | train_mse: 0.17645 | train_mae: 0.32674 |  0:00:02s\n",
      "epoch 23 | loss: 0.24491 | train_mse: 0.27643 | train_mae: 0.38901 |  0:00:02s\n"
     ]
    },
    {
     "name": "stdout",
     "output_type": "stream",
     "text": [
      "epoch 24 | loss: 0.11994 | train_mse: 0.26108 | train_mae: 0.38567 |  0:00:02s\n",
      "epoch 25 | loss: 0.16341 | train_mse: 0.15084 | train_mae: 0.29801 |  0:00:02s\n",
      "epoch 26 | loss: 0.24381 | train_mse: 0.11982 | train_mae: 0.27235 |  0:00:02s\n"
     ]
    },
    {
     "name": "stdout",
     "output_type": "stream",
     "text": [
      "epoch 27 | loss: 0.13925 | train_mse: 0.10631 | train_mae: 0.24895 |  0:00:02s\n",
      "epoch 28 | loss: 0.27349 | train_mse: 0.10439 | train_mae: 0.24862 |  0:00:02s\n",
      "epoch 29 | loss: 0.19118 | train_mse: 0.11792 | train_mae: 0.26604 |  0:00:02s\n"
     ]
    },
    {
     "name": "stdout",
     "output_type": "stream",
     "text": [
      "epoch 30 | loss: 0.1862  | train_mse: 0.17796 | train_mae: 0.30926 |  0:00:02s\n"
     ]
    },
    {
     "name": "stdout",
     "output_type": "stream",
     "text": [
      "epoch 31 | loss: 0.13026 | train_mse: 0.15582 | train_mae: 0.27797 |  0:00:03s\n",
      "epoch 32 | loss: 0.1337  | train_mse: 0.10782 | train_mae: 0.24305 |  0:00:03s\n"
     ]
    },
    {
     "name": "stdout",
     "output_type": "stream",
     "text": [
      "epoch 33 | loss: 0.163   | train_mse: 0.11979 | train_mae: 0.25537 |  0:00:03s\n",
      "epoch 34 | loss: 0.34706 | train_mse: 0.12065 | train_mae: 0.27392 |  0:00:03s\n",
      "epoch 35 | loss: 0.22726 | train_mse: 0.11131 | train_mae: 0.25748 |  0:00:03s\n"
     ]
    },
    {
     "name": "stdout",
     "output_type": "stream",
     "text": [
      "epoch 36 | loss: 0.35139 | train_mse: 0.12404 | train_mae: 0.27903 |  0:00:03s\n",
      "epoch 37 | loss: 0.19844 | train_mse: 0.12502 | train_mae: 0.27195 |  0:00:03s\n",
      "epoch 38 | loss: 0.18422 | train_mse: 0.13234 | train_mae: 0.27562 |  0:00:03s\n",
      "epoch 39 | loss: 0.18701 | train_mse: 0.12644 | train_mae: 0.27528 |  0:00:03s\n"
     ]
    },
    {
     "name": "stdout",
     "output_type": "stream",
     "text": [
      "epoch 40 | loss: 0.16005 | train_mse: 0.14385 | train_mae: 0.29021 |  0:00:03s\n",
      "epoch 41 | loss: 0.2023  | train_mse: 0.15138 | train_mae: 0.29893 |  0:00:03s\n",
      "epoch 42 | loss: 0.13861 | train_mse: 0.16318 | train_mae: 0.29991 |  0:00:04s\n"
     ]
    },
    {
     "name": "stdout",
     "output_type": "stream",
     "text": [
      "epoch 43 | loss: 0.232   | train_mse: 0.11852 | train_mae: 0.26797 |  0:00:04s\n",
      "epoch 44 | loss: 0.18668 | train_mse: 0.11244 | train_mae: 0.2643  |  0:00:04s\n",
      "epoch 45 | loss: 0.19549 | train_mse: 0.11567 | train_mae: 0.26723 |  0:00:04s\n",
      "epoch 46 | loss: 0.16059 | train_mse: 0.1035  | train_mae: 0.2578  |  0:00:04s\n"
     ]
    },
    {
     "name": "stdout",
     "output_type": "stream",
     "text": [
      "epoch 47 | loss: 0.205   | train_mse: 0.09887 | train_mae: 0.24687 |  0:00:04s\n",
      "epoch 48 | loss: 0.25534 | train_mse: 0.11333 | train_mae: 0.24855 |  0:00:04s\n",
      "epoch 49 | loss: 0.14764 | train_mse: 0.11452 | train_mae: 0.25193 |  0:00:04s\n",
      "epoch 50 | loss: 0.15911 | train_mse: 0.12176 | train_mae: 0.26368 |  0:00:04s\n"
     ]
    },
    {
     "name": "stdout",
     "output_type": "stream",
     "text": [
      "epoch 51 | loss: 0.157   | train_mse: 0.11877 | train_mae: 0.25411 |  0:00:04s\n",
      "epoch 52 | loss: 0.1734  | train_mse: 0.12332 | train_mae: 0.2579  |  0:00:04s\n",
      "epoch 53 | loss: 0.10013 | train_mse: 0.11424 | train_mae: 0.24508 |  0:00:04s\n",
      "epoch 54 | loss: 0.20273 | train_mse: 0.13241 | train_mae: 0.27043 |  0:00:04s\n"
     ]
    },
    {
     "name": "stdout",
     "output_type": "stream",
     "text": [
      "epoch 55 | loss: 0.15829 | train_mse: 0.1416  | train_mae: 0.28365 |  0:00:04s\n",
      "epoch 56 | loss: 0.14186 | train_mse: 0.11049 | train_mae: 0.2506  |  0:00:04s\n",
      "epoch 57 | loss: 0.11341 | train_mse: 0.10324 | train_mae: 0.24292 |  0:00:05s\n"
     ]
    },
    {
     "name": "stdout",
     "output_type": "stream",
     "text": [
      "epoch 58 | loss: 0.10808 | train_mse: 0.12072 | train_mae: 0.25566 |  0:00:05s\n",
      "epoch 59 | loss: 0.16476 | train_mse: 0.15297 | train_mae: 0.28099 |  0:00:05s\n",
      "epoch 60 | loss: 0.10646 | train_mse: 0.17845 | train_mae: 0.29764 |  0:00:05s\n",
      "epoch 61 | loss: 0.13161 | train_mse: 0.15551 | train_mae: 0.28828 |  0:00:05s\n"
     ]
    },
    {
     "name": "stdout",
     "output_type": "stream",
     "text": [
      "epoch 62 | loss: 0.21252 | train_mse: 0.13805 | train_mae: 0.27742 |  0:00:05s\n",
      "epoch 63 | loss: 0.21299 | train_mse: 0.1411  | train_mae: 0.28008 |  0:00:05s\n",
      "epoch 64 | loss: 0.16688 | train_mse: 0.14518 | train_mae: 0.27991 |  0:00:05s\n",
      "epoch 65 | loss: 0.15287 | train_mse: 0.17359 | train_mae: 0.29905 |  0:00:05s\n"
     ]
    },
    {
     "name": "stdout",
     "output_type": "stream",
     "text": [
      "epoch 66 | loss: 0.14068 | train_mse: 0.25113 | train_mae: 0.34696 |  0:00:05s\n",
      "epoch 67 | loss: 0.10193 | train_mse: 0.256   | train_mae: 0.34821 |  0:00:05s\n",
      "epoch 68 | loss: 0.21092 | train_mse: 0.22288 | train_mae: 0.33042 |  0:00:05s\n",
      "epoch 69 | loss: 0.1884  | train_mse: 0.21053 | train_mae: 0.31957 |  0:00:05s\n"
     ]
    },
    {
     "name": "stdout",
     "output_type": "stream",
     "text": [
      "epoch 70 | loss: 0.20178 | train_mse: 0.16601 | train_mae: 0.29185 |  0:00:05s\n",
      "epoch 71 | loss: 0.10893 | train_mse: 0.15835 | train_mae: 0.28626 |  0:00:05s\n",
      "epoch 72 | loss: 0.32344 | train_mse: 0.16809 | train_mae: 0.29194 |  0:00:06s\n"
     ]
    },
    {
     "name": "stdout",
     "output_type": "stream",
     "text": [
      "epoch 73 | loss: 0.13038 | train_mse: 0.12912 | train_mae: 0.26153 |  0:00:06s\n",
      "epoch 74 | loss: 0.19822 | train_mse: 0.11342 | train_mae: 0.24396 |  0:00:06s\n",
      "epoch 75 | loss: 0.08646 | train_mse: 0.09206 | train_mae: 0.22577 |  0:00:06s\n",
      "epoch 76 | loss: 0.07493 | train_mse: 0.07321 | train_mae: 0.20641 |  0:00:06s\n"
     ]
    },
    {
     "name": "stdout",
     "output_type": "stream",
     "text": [
      "epoch 77 | loss: 0.15036 | train_mse: 0.07134 | train_mae: 0.20192 |  0:00:06s\n",
      "epoch 78 | loss: 0.11501 | train_mse: 0.14452 | train_mae: 0.26264 |  0:00:06s\n",
      "epoch 79 | loss: 0.08786 | train_mse: 0.20642 | train_mae: 0.298   |  0:00:06s\n"
     ]
    },
    {
     "name": "stdout",
     "output_type": "stream",
     "text": [
      "epoch 80 | loss: 0.32142 | train_mse: 0.22772 | train_mae: 0.31766 |  0:00:06s\n",
      "epoch 81 | loss: 0.20687 | train_mse: 0.1375  | train_mae: 0.27021 |  0:00:06s\n",
      "epoch 82 | loss: 0.1084  | train_mse: 0.0917  | train_mae: 0.23317 |  0:00:06s\n",
      "epoch 83 | loss: 0.13492 | train_mse: 0.09929 | train_mae: 0.22024 |  0:00:06s\n"
     ]
    },
    {
     "name": "stdout",
     "output_type": "stream",
     "text": [
      "epoch 84 | loss: 0.15123 | train_mse: 0.08706 | train_mae: 0.21786 |  0:00:06s\n",
      "epoch 85 | loss: 0.15869 | train_mse: 0.1021  | train_mae: 0.24919 |  0:00:06s\n",
      "epoch 86 | loss: 0.127   | train_mse: 0.11201 | train_mae: 0.24895 |  0:00:07s\n"
     ]
    },
    {
     "name": "stdout",
     "output_type": "stream",
     "text": [
      "epoch 87 | loss: 0.10337 | train_mse: 0.09811 | train_mae: 0.23915 |  0:00:07s\n",
      "epoch 88 | loss: 0.20927 | train_mse: 0.0822  | train_mae: 0.22292 |  0:00:07s\n",
      "epoch 89 | loss: 0.12312 | train_mse: 0.07712 | train_mae: 0.21014 |  0:00:07s\n",
      "epoch 90 | loss: 0.09416 | train_mse: 0.09563 | train_mae: 0.23778 |  0:00:07s\n"
     ]
    },
    {
     "name": "stdout",
     "output_type": "stream",
     "text": [
      "epoch 91 | loss: 0.08484 | train_mse: 0.10594 | train_mae: 0.25329 |  0:00:07s\n",
      "epoch 92 | loss: 0.13958 | train_mse: 0.06889 | train_mae: 0.19803 |  0:00:07s\n",
      "epoch 93 | loss: 0.2292  | train_mse: 0.07359 | train_mae: 0.20413 |  0:00:07s\n"
     ]
    },
    {
     "name": "stdout",
     "output_type": "stream",
     "text": [
      "epoch 94 | loss: 0.18007 | train_mse: 0.06376 | train_mae: 0.19096 |  0:00:07s\n",
      "epoch 95 | loss: 0.07627 | train_mse: 0.07174 | train_mae: 0.19781 |  0:00:07s\n",
      "epoch 96 | loss: 0.10696 | train_mse: 0.07789 | train_mae: 0.20903 |  0:00:07s\n",
      "epoch 97 | loss: 0.10341 | train_mse: 0.07135 | train_mae: 0.20463 |  0:00:07s\n"
     ]
    },
    {
     "name": "stdout",
     "output_type": "stream",
     "text": [
      "epoch 98 | loss: 0.14157 | train_mse: 0.07981 | train_mae: 0.20837 |  0:00:07s\n",
      "epoch 99 | loss: 0.17464 | train_mse: 0.08719 | train_mae: 0.21308 |  0:00:07s\n",
      "epoch 100| loss: 0.11699 | train_mse: 0.08492 | train_mae: 0.21186 |  0:00:07s\n"
     ]
    },
    {
     "name": "stdout",
     "output_type": "stream",
     "text": [
      "epoch 101| loss: 0.10623 | train_mse: 0.08903 | train_mae: 0.20584 |  0:00:08s\n",
      "epoch 102| loss: 0.1233  | train_mse: 0.09196 | train_mae: 0.21373 |  0:00:08s\n",
      "epoch 103| loss: 0.12799 | train_mse: 0.09578 | train_mae: 0.22804 |  0:00:08s\n",
      "epoch 104| loss: 0.14476 | train_mse: 0.09085 | train_mae: 0.22854 |  0:00:08s\n"
     ]
    },
    {
     "name": "stdout",
     "output_type": "stream",
     "text": [
      "epoch 105| loss: 0.18647 | train_mse: 0.1093  | train_mae: 0.24573 |  0:00:08s\n",
      "epoch 106| loss: 0.14397 | train_mse: 0.07976 | train_mae: 0.21559 |  0:00:08s\n",
      "epoch 107| loss: 0.13773 | train_mse: 0.07725 | train_mae: 0.21768 |  0:00:08s\n",
      "epoch 108| loss: 0.15321 | train_mse: 0.08256 | train_mae: 0.2263  |  0:00:08s\n"
     ]
    },
    {
     "name": "stdout",
     "output_type": "stream",
     "text": [
      "epoch 109| loss: 0.08614 | train_mse: 0.07422 | train_mae: 0.21178 |  0:00:08s\n",
      "epoch 110| loss: 0.15039 | train_mse: 0.06993 | train_mae: 0.19748 |  0:00:08s\n",
      "epoch 111| loss: 0.13054 | train_mse: 0.06961 | train_mae: 0.19321 |  0:00:08s\n",
      "epoch 112| loss: 0.14839 | train_mse: 0.07701 | train_mae: 0.2097  |  0:00:08s\n"
     ]
    },
    {
     "name": "stdout",
     "output_type": "stream",
     "text": [
      "epoch 113| loss: 0.12556 | train_mse: 0.12948 | train_mae: 0.28024 |  0:00:08s\n",
      "epoch 114| loss: 0.13056 | train_mse: 0.12858 | train_mae: 0.27163 |  0:00:08s\n",
      "epoch 115| loss: 0.08936 | train_mse: 0.0818  | train_mae: 0.21897 |  0:00:08s\n"
     ]
    },
    {
     "name": "stdout",
     "output_type": "stream",
     "text": [
      "epoch 116| loss: 0.14128 | train_mse: 0.07223 | train_mae: 0.20443 |  0:00:09s\n",
      "epoch 117| loss: 0.18313 | train_mse: 0.07594 | train_mae: 0.21107 |  0:00:09s\n",
      "epoch 118| loss: 0.24368 | train_mse: 0.07236 | train_mae: 0.2082  |  0:00:09s\n",
      "epoch 119| loss: 0.11251 | train_mse: 0.0608  | train_mae: 0.19362 |  0:00:09s\n"
     ]
    },
    {
     "name": "stdout",
     "output_type": "stream",
     "text": [
      "epoch 120| loss: 0.11087 | train_mse: 0.06821 | train_mae: 0.20233 |  0:00:09s\n",
      "epoch 121| loss: 0.09292 | train_mse: 0.07044 | train_mae: 0.20347 |  0:00:09s\n",
      "epoch 122| loss: 0.18724 | train_mse: 0.06413 | train_mae: 0.19117 |  0:00:09s\n",
      "epoch 123| loss: 0.0892  | train_mse: 0.06541 | train_mae: 0.19204 |  0:00:09s\n"
     ]
    },
    {
     "name": "stdout",
     "output_type": "stream",
     "text": [
      "epoch 124| loss: 0.16738 | train_mse: 0.07186 | train_mae: 0.20504 |  0:00:09s\n",
      "epoch 125| loss: 0.18167 | train_mse: 0.08281 | train_mae: 0.21747 |  0:00:09s\n",
      "epoch 126| loss: 0.1257  | train_mse: 0.10674 | train_mae: 0.24457 |  0:00:09s\n",
      "epoch 127| loss: 0.08938 | train_mse: 0.13712 | train_mae: 0.27313 |  0:00:09s\n"
     ]
    },
    {
     "name": "stdout",
     "output_type": "stream",
     "text": [
      "epoch 128| loss: 0.17545 | train_mse: 0.10147 | train_mae: 0.23001 |  0:00:09s\n",
      "epoch 129| loss: 0.31698 | train_mse: 0.10148 | train_mae: 0.22889 |  0:00:09s\n",
      "epoch 130| loss: 0.16602 | train_mse: 0.10143 | train_mae: 0.22329 |  0:00:10s\n"
     ]
    },
    {
     "name": "stdout",
     "output_type": "stream",
     "text": [
      "epoch 131| loss: 0.15598 | train_mse: 0.09387 | train_mae: 0.22085 |  0:00:10s\n",
      "epoch 132| loss: 0.12038 | train_mse: 0.09206 | train_mae: 0.21766 |  0:00:10s\n",
      "epoch 133| loss: 0.09144 | train_mse: 0.09032 | train_mae: 0.21159 |  0:00:10s\n"
     ]
    },
    {
     "name": "stdout",
     "output_type": "stream",
     "text": [
      "epoch 134| loss: 0.12358 | train_mse: 0.08725 | train_mae: 0.21975 |  0:00:10s\n",
      "epoch 135| loss: 0.14087 | train_mse: 0.07781 | train_mae: 0.20446 |  0:00:10s\n",
      "epoch 136| loss: 0.16259 | train_mse: 0.06892 | train_mae: 0.19641 |  0:00:10s\n"
     ]
    },
    {
     "name": "stdout",
     "output_type": "stream",
     "text": [
      "epoch 137| loss: 0.13379 | train_mse: 0.0601  | train_mae: 0.18873 |  0:00:10s\n",
      "epoch 138| loss: 0.08265 | train_mse: 0.05509 | train_mae: 0.17227 |  0:00:10s\n",
      "epoch 139| loss: 0.13988 | train_mse: 0.06416 | train_mae: 0.17963 |  0:00:10s\n"
     ]
    },
    {
     "name": "stdout",
     "output_type": "stream",
     "text": [
      "epoch 140| loss: 0.16845 | train_mse: 0.07043 | train_mae: 0.19282 |  0:00:10s\n",
      "epoch 141| loss: 0.10071 | train_mse: 0.08107 | train_mae: 0.20585 |  0:00:10s\n",
      "epoch 142| loss: 0.1529  | train_mse: 0.10573 | train_mae: 0.22093 |  0:00:10s\n"
     ]
    },
    {
     "name": "stdout",
     "output_type": "stream",
     "text": [
      "epoch 143| loss: 0.09397 | train_mse: 0.08204 | train_mae: 0.2047  |  0:00:10s\n",
      "epoch 144| loss: 0.18355 | train_mse: 0.08216 | train_mae: 0.20476 |  0:00:11s\n",
      "epoch 145| loss: 0.08779 | train_mse: 0.08919 | train_mae: 0.21287 |  0:00:11s\n"
     ]
    },
    {
     "name": "stdout",
     "output_type": "stream",
     "text": [
      "epoch 146| loss: 0.10633 | train_mse: 0.10852 | train_mae: 0.22455 |  0:00:11s\n",
      "epoch 147| loss: 0.08432 | train_mse: 0.09167 | train_mae: 0.21296 |  0:00:11s\n",
      "epoch 148| loss: 0.10772 | train_mse: 0.07006 | train_mae: 0.19759 |  0:00:11s\n",
      "epoch 149| loss: 0.07639 | train_mse: 0.06694 | train_mae: 0.18848 |  0:00:11s\n"
     ]
    },
    {
     "name": "stdout",
     "output_type": "stream",
     "text": [
      "epoch 150| loss: 0.06569 | train_mse: 0.06356 | train_mae: 0.18531 |  0:00:11s\n",
      "epoch 151| loss: 0.06726 | train_mse: 0.06592 | train_mae: 0.19634 |  0:00:11s\n",
      "epoch 152| loss: 0.08177 | train_mse: 0.0702  | train_mae: 0.20217 |  0:00:11s\n"
     ]
    },
    {
     "name": "stdout",
     "output_type": "stream",
     "text": [
      "epoch 153| loss: 0.09849 | train_mse: 0.05787 | train_mae: 0.17915 |  0:00:11s\n",
      "epoch 154| loss: 0.22252 | train_mse: 0.05645 | train_mae: 0.17193 |  0:00:11s\n"
     ]
    },
    {
     "name": "stdout",
     "output_type": "stream",
     "text": [
      "epoch 155| loss: 0.10908 | train_mse: 0.05363 | train_mae: 0.16761 |  0:00:11s\n",
      "epoch 156| loss: 0.13734 | train_mse: 0.06492 | train_mae: 0.18784 |  0:00:11s\n",
      "epoch 157| loss: 0.11531 | train_mse: 0.07314 | train_mae: 0.20462 |  0:00:12s\n"
     ]
    },
    {
     "name": "stdout",
     "output_type": "stream",
     "text": [
      "epoch 158| loss: 0.08695 | train_mse: 0.0803  | train_mae: 0.22159 |  0:00:12s\n",
      "epoch 159| loss: 0.15997 | train_mse: 0.09078 | train_mae: 0.23164 |  0:00:12s\n",
      "epoch 160| loss: 0.10313 | train_mse: 0.08163 | train_mae: 0.20876 |  0:00:12s\n",
      "epoch 161| loss: 0.19339 | train_mse: 0.07002 | train_mae: 0.18894 |  0:00:12s\n"
     ]
    },
    {
     "name": "stdout",
     "output_type": "stream",
     "text": [
      "epoch 162| loss: 0.13767 | train_mse: 0.08605 | train_mae: 0.20413 |  0:00:12s\n",
      "epoch 163| loss: 0.14929 | train_mse: 0.0787  | train_mae: 0.20086 |  0:00:12s\n",
      "epoch 164| loss: 0.15586 | train_mse: 0.07212 | train_mae: 0.20481 |  0:00:12s\n"
     ]
    },
    {
     "name": "stdout",
     "output_type": "stream",
     "text": [
      "epoch 165| loss: 0.12834 | train_mse: 0.08007 | train_mae: 0.2196  |  0:00:12s\n",
      "epoch 166| loss: 0.19248 | train_mse: 0.08977 | train_mae: 0.23025 |  0:00:12s\n",
      "epoch 167| loss: 0.11401 | train_mse: 0.10249 | train_mae: 0.23927 |  0:00:12s\n",
      "epoch 168| loss: 0.14579 | train_mse: 0.09838 | train_mae: 0.23578 |  0:00:12s\n"
     ]
    },
    {
     "name": "stdout",
     "output_type": "stream",
     "text": [
      "epoch 169| loss: 0.26888 | train_mse: 0.11096 | train_mae: 0.25414 |  0:00:12s\n",
      "epoch 170| loss: 0.08833 | train_mse: 0.08888 | train_mae: 0.22627 |  0:00:12s\n",
      "epoch 171| loss: 0.13075 | train_mse: 0.07774 | train_mae: 0.20935 |  0:00:13s\n"
     ]
    },
    {
     "name": "stdout",
     "output_type": "stream",
     "text": [
      "epoch 172| loss: 0.09751 | train_mse: 0.07004 | train_mae: 0.19717 |  0:00:13s\n",
      "epoch 173| loss: 0.09263 | train_mse: 0.07978 | train_mae: 0.21393 |  0:00:13s\n",
      "epoch 174| loss: 0.15995 | train_mse: 0.11598 | train_mae: 0.2458  |  0:00:13s\n",
      "epoch 175| loss: 0.08859 | train_mse: 0.12149 | train_mae: 0.24886 |  0:00:13s\n"
     ]
    },
    {
     "name": "stdout",
     "output_type": "stream",
     "text": [
      "epoch 176| loss: 0.16746 | train_mse: 0.09769 | train_mae: 0.22849 |  0:00:13s\n",
      "epoch 177| loss: 0.07221 | train_mse: 0.07218 | train_mae: 0.20594 |  0:00:13s\n",
      "epoch 178| loss: 0.09108 | train_mse: 0.06112 | train_mae: 0.19193 |  0:00:13s\n"
     ]
    },
    {
     "name": "stdout",
     "output_type": "stream",
     "text": [
      "epoch 179| loss: 0.13596 | train_mse: 0.05724 | train_mae: 0.18879 |  0:00:13s\n",
      "epoch 180| loss: 0.11392 | train_mse: 0.05217 | train_mae: 0.17435 |  0:00:13s\n",
      "epoch 181| loss: 0.24838 | train_mse: 0.05422 | train_mae: 0.17823 |  0:00:13s\n",
      "epoch 182| loss: 0.12915 | train_mse: 0.04801 | train_mae: 0.16278 |  0:00:13s\n"
     ]
    },
    {
     "name": "stdout",
     "output_type": "stream",
     "text": [
      "epoch 183| loss: 0.19819 | train_mse: 0.05084 | train_mae: 0.17284 |  0:00:13s\n",
      "epoch 184| loss: 0.09385 | train_mse: 0.05846 | train_mae: 0.18773 |  0:00:13s\n",
      "epoch 185| loss: 0.09795 | train_mse: 0.05744 | train_mae: 0.18096 |  0:00:13s\n"
     ]
    },
    {
     "name": "stdout",
     "output_type": "stream",
     "text": [
      "epoch 186| loss: 0.0844  | train_mse: 0.05242 | train_mae: 0.17308 |  0:00:14s\n"
     ]
    },
    {
     "name": "stdout",
     "output_type": "stream",
     "text": [
      "epoch 187| loss: 0.1178  | train_mse: 0.05056 | train_mae: 0.16098 |  0:00:14s\n"
     ]
    },
    {
     "name": "stdout",
     "output_type": "stream",
     "text": [
      "epoch 188| loss: 0.08959 | train_mse: 0.0545  | train_mae: 0.16971 |  0:00:14s\n",
      "epoch 189| loss: 0.14696 | train_mse: 0.06758 | train_mae: 0.19196 |  0:00:15s\n",
      "epoch 190| loss: 0.13797 | train_mse: 0.08439 | train_mae: 0.21342 |  0:00:15s\n"
     ]
    },
    {
     "name": "stdout",
     "output_type": "stream",
     "text": [
      "epoch 191| loss: 0.16527 | train_mse: 0.08076 | train_mae: 0.2112  |  0:00:15s\n",
      "epoch 192| loss: 0.1297  | train_mse: 0.09361 | train_mae: 0.22457 |  0:00:15s\n",
      "epoch 193| loss: 0.1025  | train_mse: 0.09657 | train_mae: 0.22957 |  0:00:15s\n",
      "epoch 194| loss: 0.18462 | train_mse: 0.08129 | train_mae: 0.21999 |  0:00:15s\n"
     ]
    },
    {
     "name": "stdout",
     "output_type": "stream",
     "text": [
      "epoch 195| loss: 0.1252  | train_mse: 0.08487 | train_mae: 0.21451 |  0:00:15s\n"
     ]
    },
    {
     "name": "stdout",
     "output_type": "stream",
     "text": [
      "epoch 196| loss: 0.0925  | train_mse: 0.11231 | train_mae: 0.23911 |  0:00:15s\n",
      "epoch 197| loss: 0.178   | train_mse: 0.09448 | train_mae: 0.22957 |  0:00:15s\n",
      "epoch 198| loss: 0.11278 | train_mse: 0.0851  | train_mae: 0.22719 |  0:00:16s\n"
     ]
    },
    {
     "name": "stdout",
     "output_type": "stream",
     "text": [
      "epoch 199| loss: 0.12033 | train_mse: 0.07791 | train_mae: 0.22204 |  0:00:16s\n",
      "epoch 200| loss: 0.1275  | train_mse: 0.1033  | train_mae: 0.24254 |  0:00:16s\n"
     ]
    },
    {
     "name": "stdout",
     "output_type": "stream",
     "text": [
      "epoch 201| loss: 0.10093 | train_mse: 0.09107 | train_mae: 0.22899 |  0:00:16s\n"
     ]
    },
    {
     "name": "stdout",
     "output_type": "stream",
     "text": [
      "epoch 202| loss: 0.12505 | train_mse: 0.07573 | train_mae: 0.20614 |  0:00:16s\n",
      "epoch 203| loss: 0.10608 | train_mse: 0.07424 | train_mae: 0.21053 |  0:00:16s\n",
      "epoch 204| loss: 0.07676 | train_mse: 0.0862  | train_mae: 0.23008 |  0:00:16s\n",
      "epoch 205| loss: 0.1632  | train_mse: 0.07616 | train_mae: 0.21633 |  0:00:16s\n"
     ]
    },
    {
     "name": "stdout",
     "output_type": "stream",
     "text": [
      "epoch 206| loss: 0.09063 | train_mse: 0.07892 | train_mae: 0.21761 |  0:00:16s\n",
      "epoch 207| loss: 0.07863 | train_mse: 0.0792  | train_mae: 0.21474 |  0:00:16s\n",
      "epoch 208| loss: 0.19012 | train_mse: 0.06586 | train_mae: 0.1951  |  0:00:17s\n"
     ]
    },
    {
     "name": "stdout",
     "output_type": "stream",
     "text": [
      "epoch 209| loss: 0.08025 | train_mse: 0.07724 | train_mae: 0.20987 |  0:00:17s\n",
      "epoch 210| loss: 0.07281 | train_mse: 0.08799 | train_mae: 0.22142 |  0:00:17s\n",
      "epoch 211| loss: 0.16021 | train_mse: 0.05527 | train_mae: 0.18029 |  0:00:17s\n"
     ]
    },
    {
     "name": "stdout",
     "output_type": "stream",
     "text": [
      "epoch 212| loss: 0.21848 | train_mse: 0.05412 | train_mae: 0.18085 |  0:00:17s\n",
      "epoch 213| loss: 0.07725 | train_mse: 0.06065 | train_mae: 0.18374 |  0:00:17s\n",
      "epoch 214| loss: 0.25389 | train_mse: 0.08371 | train_mae: 0.21661 |  0:00:17s\n"
     ]
    },
    {
     "name": "stdout",
     "output_type": "stream",
     "text": [
      "epoch 215| loss: 0.22614 | train_mse: 0.09249 | train_mae: 0.22693 |  0:00:17s\n",
      "epoch 216| loss: 0.18155 | train_mse: 0.09481 | train_mae: 0.21312 |  0:00:17s\n"
     ]
    },
    {
     "name": "stdout",
     "output_type": "stream",
     "text": [
      "epoch 217| loss: 0.09709 | train_mse: 0.14564 | train_mae: 0.24253 |  0:00:18s\n"
     ]
    },
    {
     "name": "stdout",
     "output_type": "stream",
     "text": [
      "epoch 218| loss: 0.21856 | train_mse: 0.1439  | train_mae: 0.24155 |  0:00:18s\n"
     ]
    },
    {
     "name": "stdout",
     "output_type": "stream",
     "text": [
      "epoch 219| loss: 0.10041 | train_mse: 0.11668 | train_mae: 0.22929 |  0:00:19s\n"
     ]
    },
    {
     "name": "stdout",
     "output_type": "stream",
     "text": [
      "epoch 220| loss: 0.11043 | train_mse: 0.07914 | train_mae: 0.21016 |  0:00:19s\n",
      "epoch 221| loss: 0.0974  | train_mse: 0.08164 | train_mae: 0.21485 |  0:00:19s\n"
     ]
    },
    {
     "name": "stdout",
     "output_type": "stream",
     "text": [
      "epoch 222| loss: 0.11383 | train_mse: 0.06939 | train_mae: 0.19895 |  0:00:19s\n",
      "epoch 223| loss: 0.09238 | train_mse: 0.06043 | train_mae: 0.18553 |  0:00:19s\n",
      "epoch 224| loss: 0.08045 | train_mse: 0.06439 | train_mae: 0.19297 |  0:00:19s\n",
      "epoch 225| loss: 0.07687 | train_mse: 0.07325 | train_mae: 0.20041 |  0:00:19s\n"
     ]
    },
    {
     "name": "stdout",
     "output_type": "stream",
     "text": [
      "epoch 226| loss: 0.13488 | train_mse: 0.07063 | train_mae: 0.1941  |  0:00:19s\n",
      "epoch 227| loss: 0.08308 | train_mse: 0.07601 | train_mae: 0.20098 |  0:00:20s\n"
     ]
    },
    {
     "name": "stdout",
     "output_type": "stream",
     "text": [
      "epoch 228| loss: 0.10394 | train_mse: 0.08588 | train_mae: 0.2179  |  0:00:20s\n",
      "epoch 229| loss: 0.138   | train_mse: 0.0864  | train_mae: 0.21713 |  0:00:20s\n"
     ]
    },
    {
     "name": "stdout",
     "output_type": "stream",
     "text": [
      "epoch 230| loss: 0.18029 | train_mse: 0.06665 | train_mae: 0.19989 |  0:00:20s\n",
      "epoch 231| loss: 0.09198 | train_mse: 0.08104 | train_mae: 0.21095 |  0:00:20s\n"
     ]
    },
    {
     "name": "stdout",
     "output_type": "stream",
     "text": [
      "epoch 232| loss: 0.08042 | train_mse: 0.11705 | train_mae: 0.21312 |  0:00:20s\n",
      "epoch 233| loss: 0.08874 | train_mse: 0.11799 | train_mae: 0.21688 |  0:00:20s\n"
     ]
    },
    {
     "name": "stdout",
     "output_type": "stream",
     "text": [
      "epoch 234| loss: 0.10739 | train_mse: 0.08109 | train_mae: 0.21733 |  0:00:21s\n",
      "epoch 235| loss: 0.16213 | train_mse: 0.07187 | train_mae: 0.20722 |  0:00:21s\n",
      "epoch 236| loss: 0.069   | train_mse: 0.07817 | train_mae: 0.20806 |  0:00:21s\n"
     ]
    },
    {
     "name": "stdout",
     "output_type": "stream",
     "text": [
      "epoch 237| loss: 0.11037 | train_mse: 0.07896 | train_mae: 0.20469 |  0:00:21s\n",
      "\n",
      "Early stopping occurred at epoch 237 with best_epoch = 187 and best_train_mae = 0.16098\n",
      "Best weights from best epoch are automatically used!\n"
     ]
    }
   ],
   "source": [
    "#Train the Model\n",
    "\n",
    "Y_train = np.reshape(Y_train, (-1, 1))\n",
    "Y_test = np.reshape(Y_test, (-1, 1))\n",
    "\n",
    "prior_model = TabNetRegressor(optimizer_fn=torch.optim.Adam, optimizer_params=dict(lr = 0.02),\n",
    "          #scheduler_params={\"step_size\":10, ], \"gamma\":0.9},\n",
    "          #scheduler_fn=torch.optim.lr_scheduler.StepLR\n",
    "          )  #TabNetRegressor()\n",
    "\n",
    "prior_model.fit(X_train,Y_train,eval_set=[(X_train, Y_train)],\n",
    "            eval_name=['train'], \n",
    "            eval_metric=[ 'mse', 'mae'], \n",
    "            max_epochs = n_epochs, \n",
    "            batch_size = batch_size,\n",
    "            patience=50\n",
    "            )"
   ]
  },
  {
   "cell_type": "code",
   "execution_count": 10,
   "id": "af65dcda",
   "metadata": {
    "execution": {
     "iopub.execute_input": "2022-06-22T13:10:06.785143Z",
     "iopub.status.busy": "2022-06-22T13:10:06.784272Z",
     "iopub.status.idle": "2022-06-22T13:10:06.806036Z",
     "shell.execute_reply": "2022-06-22T13:10:06.805441Z"
    },
    "id": "af65dcda",
    "papermill": {
     "duration": 0.071243,
     "end_time": "2022-06-22T13:10:06.806240",
     "exception": false,
     "start_time": "2022-06-22T13:10:06.734997",
     "status": "completed"
    },
    "tags": []
   },
   "outputs": [
    {
     "data": {
      "application/scrapbook.scrap.json+json": {
       "data": 0.35130834409833256,
       "encoder": "json",
       "name": "Prior Model MSE",
       "version": 1
      }
     },
     "metadata": {
      "scrapbook": {
       "data": true,
       "display": false,
       "name": "Prior Model MSE"
      }
     },
     "output_type": "display_data"
    },
    {
     "data": {
      "application/scrapbook.scrap.json+json": {
       "data": 0.3797093199439245,
       "encoder": "json",
       "name": "ABC Pre-generator MSE",
       "version": 1
      }
     },
     "metadata": {
      "scrapbook": {
       "data": true,
       "display": false,
       "name": "ABC Pre-generator MSE"
      }
     },
     "output_type": "display_data"
    },
    {
     "data": {
      "application/scrapbook.scrap.json+json": {
       "data": 0.4827710726949445,
       "encoder": "json",
       "name": "Prior Model MSE",
       "version": 1
      }
     },
     "metadata": {
      "scrapbook": {
       "data": true,
       "display": false,
       "name": "Prior Model MSE"
      }
     },
     "output_type": "display_data"
    },
    {
     "data": {
      "application/scrapbook.scrap.json+json": {
       "data": 0.47195191313077955,
       "encoder": "json",
       "name": "ABC Pre-generator MSE",
       "version": 1
      }
     },
     "metadata": {
      "scrapbook": {
       "data": true,
       "display": false,
       "name": "ABC Pre-generator MSE"
      }
     },
     "output_type": "display_data"
    }
   ],
   "source": [
    "y_pred = prior_model.predict(X_test)\n",
    "y_abc = y_pred + np.random.normal(0,variance, y_pred.shape) + bias \n",
    "mse = mean_squared_error(y_pred,Y_test)\n",
    "sb.glue(\"Prior Model MSE\",mse)\n",
    "mse = mean_squared_error(y_abc,Y_test)\n",
    "sb.glue(\"ABC Pre-generator MSE\",mse)\n",
    "mae = mean_absolute_error(y_pred,Y_test)\n",
    "sb.glue(\"Prior Model MSE\",mae)\n",
    "mae = mean_absolute_error(y_abc,Y_test)\n",
    "sb.glue(\"ABC Pre-generator MSE\",mae)"
   ]
  },
  {
   "cell_type": "markdown",
   "id": "25609da2",
   "metadata": {
    "papermill": {
     "duration": 0.04103,
     "end_time": "2022-06-22T13:10:06.882337",
     "exception": false,
     "start_time": "2022-06-22T13:10:06.841307",
     "status": "completed"
    },
    "tags": []
   },
   "source": [
    "# ABC GAN Model"
   ]
  },
  {
   "cell_type": "code",
   "execution_count": 11,
   "id": "dfc3464d",
   "metadata": {
    "execution": {
     "iopub.execute_input": "2022-06-22T13:10:06.976985Z",
     "iopub.status.busy": "2022-06-22T13:10:06.974504Z",
     "iopub.status.idle": "2022-06-22T13:10:06.980743Z",
     "shell.execute_reply": "2022-06-22T13:10:06.981359Z"
    },
    "papermill": {
     "duration": 0.057551,
     "end_time": "2022-06-22T13:10:06.981603",
     "exception": false,
     "start_time": "2022-06-22T13:10:06.924052",
     "status": "completed"
    },
    "tags": []
   },
   "outputs": [],
   "source": [
    "gen = network.Generator(n_features+1).to(device)\n",
    "disc = network.Discriminator(n_features+1).to(device)\n",
    "\n",
    "criterion = torch.nn.BCELoss()\n",
    "gen_opt = torch.optim.Adam(gen.parameters(), lr=0.001, betas=(0.5, 0.999))\n",
    "disc_opt = torch.optim.Adam(disc.parameters(), lr=0.001, betas=(0.5, 0.999))"
   ]
  },
  {
   "cell_type": "code",
   "execution_count": 12,
   "id": "b75fdd85",
   "metadata": {
    "execution": {
     "iopub.execute_input": "2022-06-22T13:10:07.157525Z",
     "iopub.status.busy": "2022-06-22T13:10:07.154674Z",
     "iopub.status.idle": "2022-06-22T13:11:16.223503Z",
     "shell.execute_reply": "2022-06-22T13:11:16.226855Z"
    },
    "papermill": {
     "duration": 69.199293,
     "end_time": "2022-06-22T13:11:16.228849",
     "exception": false,
     "start_time": "2022-06-22T13:10:07.029556",
     "status": "completed"
    },
    "tags": []
   },
   "outputs": [
    {
     "data": {
      "image/png": "[encoded data removed]",
      "text/plain": [
       "<Figure size 432x288 with 1 Axes>"
      ]
     },
     "metadata": {
      "needs_background": "light"
     },
     "output_type": "display_data"
    },
    {
     "data": {
      "image/png": "[encoded data removed]",
      "text/plain": [
       "<Figure size 432x288 with 1 Axes>"
      ]
     },
     "metadata": {
      "needs_background": "light"
     },
     "output_type": "display_data"
    }
   ],
   "source": [
    "#Training the ABC_GAN \n",
    "ABC_train_test2.training_GAN(disc,gen,disc_opt,gen_opt,train_data,batch_size,n_epochs,criterion,prior_model,variance,bias,device)"
   ]
  },
  {
   "cell_type": "code",
   "execution_count": 13,
   "id": "1fa7c368",
   "metadata": {
    "execution": {
     "iopub.execute_input": "2022-06-22T13:11:16.548304Z",
     "iopub.status.busy": "2022-06-22T13:11:16.546273Z",
     "iopub.status.idle": "2022-06-22T13:11:17.543899Z",
     "shell.execute_reply": "2022-06-22T13:11:17.544653Z"
    },
    "papermill": {
     "duration": 1.186327,
     "end_time": "2022-06-22T13:11:17.544860",
     "exception": false,
     "start_time": "2022-06-22T13:11:16.358533",
     "status": "completed"
    },
    "tags": []
   },
   "outputs": [
    {
     "data": {
      "application/scrapbook.scrap.json+json": {
       "data": 0.42387196020462037,
       "encoder": "json",
       "name": "ABC-GAN Model 1 MSE",
       "version": 1
      }
     },
     "metadata": {
      "scrapbook": {
       "data": true,
       "display": false,
       "name": "ABC-GAN Model 1 MSE"
      }
     },
     "output_type": "display_data"
    },
    {
     "data": {
      "application/scrapbook.scrap.json+json": {
       "data": 0.5258602314317832,
       "encoder": "json",
       "name": "ABC-GAN Model 1 MAE",
       "version": 1
      }
     },
     "metadata": {
      "scrapbook": {
       "data": true,
       "display": false,
       "name": "ABC-GAN Model 1 MAE"
      }
     },
     "output_type": "display_data"
    },
    {
     "data": {
      "application/scrapbook.scrap.json+json": {
       "data": 10.517204628635664,
       "encoder": "json",
       "name": "ABC-GAN Model 1 Manhattan Distance",
       "version": 1
      }
     },
     "metadata": {
      "scrapbook": {
       "data": true,
       "display": false,
       "name": "ABC-GAN Model 1 Manhattan Distance"
      }
     },
     "output_type": "display_data"
    },
    {
     "data": {
      "application/scrapbook.scrap.json+json": {
       "data": 2.911584793851126,
       "encoder": "json",
       "name": "ABC-GAN Model 1 Euclidean distance",
       "version": 1
      }
     },
     "metadata": {
      "scrapbook": {
       "data": true,
       "display": false,
       "name": "ABC-GAN Model 1 Euclidean distance"
      }
     },
     "output_type": "display_data"
    },
    {
     "data": {
      "application/scrapbook.scrap.json+json": {
       "data": [
        [
         0.42403465796842654,
         0.42301734952124403,
         0.4249056320197309,
         0.4246741233207598,
         0.4223811555220733,
         0.4283344485511634,
         0.4212531941028031,
         0.4233041708411188,
         0.42821611874146803,
         0.4209311252295766,
         0.42850556968248155,
         0.42557879398665815,
         0.4284558100178434,
         0.42443202037486794,
         0.4227504776394359,
         0.41833760573509854,
         0.4243337169197563,
         0.42200130642307,
         0.4263526831158296,
         0.42179507832189483,
         0.42210648467357137,
         0.4293022938712256,
         0.4276374205783363,
         0.4320340566959433,
         0.41994721546986347,
         0.4213241559503835,
         0.4234110514326831,
         0.4176039107852695,
         0.42097819821181853,
         0.4209606279592424,
         0.43229406737048226,
         0.4273555709389446,
         0.4235842222884811,
         0.42328578146552714,
         0.42431526334729774,
         0.4190950407288024,
         0.4262874577027384,
         0.4269365008507601,
         0.42654488685359004,
         0.4264965426435733,
         0.4214625297674903,
         0.42250624109238866,
         0.42422037754483943,
         0.42430442370411503,
         0.42077747127002263,
         0.42021312276053885,
         0.4276776562035332,
         0.424935800926208,
         0.4266147383189285,
         0.42861130046085866,
         0.4260497278001896,
         0.4275156341798395,
         0.42596232815109636,
         0.4173589652582157,
         0.42424529694674734,
         0.4237732897189358,
         0.4199451712903426,
         0.4245799329333404,
         0.42408926118507895,
         0.4260760119657004,
         0.42040919604202653,
         0.4204719220406078,
         0.4236143358220228,
         0.4246788764268694,
         0.42001625687758476,
         0.42288080518608434,
         0.424745320425692,
         0.4244040598894232,
         0.4298402514546213,
         0.42173087035087836,
         0.42288664817368654,
         0.42544341220967635,
         0.4228513775007888,
         0.42585198173118555,
         0.4209477671410644,
         0.425750784433889,
         0.42860917806127163,
         0.42128735011868057,
         0.4188313009951532,
         0.42440555747032177,
         0.4232044494178929,
         0.41898822291660853,
         0.42380940581801135,
         0.4266799150748465,
         0.4224752223350595,
         0.4203318519198211,
         0.4200367673725468,
         0.42412624189810566,
         0.42115601079914916,
         0.42357158825426244,
         0.4217318868031277,
         0.4218298764674603,
         0.42362819547872305,
         0.42994405535151997,
         0.4247432803803135,
         0.41719581652257887,
         0.4249124348735819,
         0.4239406262447309,
         0.42522818119745176,
         0.42398966965247115
        ],
        [
         0.5278365900652716,
         0.5279762098478387,
         0.5257536971854279,
         0.5242686616169522,
         0.5258226884441684,
         0.5279854020016501,
         0.5225391345011303,
         0.5259496053593467,
         0.5280724691139767,
         0.5238696919666836,
         0.52844345177582,
         0.5260163182305405,
         0.5269941149192163,
         0.5251076588319847,
         0.5254174740897725,
         0.5223322575824568,
         0.5259665293531726,
         0.5237333854573081,
         0.5285668490367244,
         0.5251439561980078,
         0.5240134915249655,
         0.5306311292486499,
         0.5268861642020056,
         0.5305109502660343,
         0.5204084621655056,
         0.5243622800247977,
         0.5263268379407237,
         0.5237998409109423,
         0.5255899669515202,
         0.5225905427621911,
         0.5313675882207463,
         0.5259423443960258,
         0.5258847860532114,
         0.523626180543215,
         0.5287048844533274,
         0.5200107583688804,
         0.5287660313682864,
         0.528454436166794,
         0.5288704084145138,
         0.5280030170368264,
         0.5229056684212992,
         0.523763428805978,
         0.5259047580795595,
         0.5273031318472932,
         0.5225788036274025,
         0.5238910941319773,
         0.5270942991512129,
         0.5268608147191116,
         0.5280644440936157,
         0.5284473569976399,
         0.5292770957486936,
         0.528742573960335,
         0.5286553284066031,
         0.5210769502358744,
         0.5250345302658388,
         0.5253573240624974,
         0.5252975633280584,
         0.528168381183059,
         0.5252746106969426,
         0.5273279020475456,
         0.5258803965436527,
         0.5217141112225363,
         0.5249557768838713,
         0.5279351895587752,
         0.5238628530787537,
         0.5259745748626301,
         0.5288543568836758,
         0.5259672509419033,
         0.5302125437097857,
         0.5255820492195198,
         0.527488158820779,
         0.5265637265430996,
         0.5236785488115856,
         0.525949822543771,
         0.5248170709150145,
         0.5279073825018713,
         0.526934622405679,
         0.5257530411618063,
         0.5231909910129616,
         0.5258076792495558,
         0.5280934883194277,
         0.5232245048420736,
         0.525621131240041,
         0.527257198272855,
         0.525168609796674,
         0.5229386405932018,
         0.5229095002549002,
         0.5272418970154831,
         0.5230065008538076,
         0.5258715359406778,
         0.523054633839638,
         0.5252001931803534,
         0.5249074762599776,
         0.5323233073489974,
         0.5259224584238836,
         0.5187958704220363,
         0.525508671058924,
         0.5248671410518,
         0.5254184530960628,
         0.5260894780891249
        ],
        [
         10.556731801305432,
         10.559524196956772,
         10.515073943708558,
         10.485373232339043,
         10.516453768883366,
         10.559708040033001,
         10.450782690022606,
         10.518992107186932,
         10.561449382279534,
         10.477393839333672,
         10.5688690355164,
         10.52032636461081,
         10.539882298384327,
         10.502153176639695,
         10.508349481795449,
         10.446645151649136,
         10.51933058706345,
         10.47466770914616,
         10.571336980734486,
         10.502879123960156,
         10.48026983049931,
         10.612622584972996,
         10.537723284040112,
         10.610219005320687,
         10.408169243310113,
         10.487245600495953,
         10.526536758814473,
         10.475996818218846,
         10.511799339030404,
         10.45181085524382,
         10.627351764414925,
         10.518846887920517,
         10.517695721064229,
         10.4725236108643,
         10.574097689066548,
         10.40021516737761,
         10.575320627365727,
         10.56908872333588,
         10.577408168290276,
         10.560060340736527,
         10.458113368425984,
         10.47526857611956,
         10.51809516159119,
         10.546062636945862,
         10.45157607254805,
         10.477821882639546,
         10.541885983024258,
         10.537216294382233,
         10.561288881872315,
         10.568947139952797,
         10.585541914973874,
         10.5748514792067,
         10.573106568132062,
         10.421539004717488,
         10.500690605316777,
         10.507146481249947,
         10.50595126656117,
         10.563367623661179,
         10.505492213938851,
         10.546558040950913,
         10.517607930873055,
         10.434282224450726,
         10.499115537677426,
         10.558703791175503,
         10.477257061575074,
         10.519491497252602,
         10.577087137673516,
         10.519345018838067,
         10.604250874195714,
         10.511640984390397,
         10.549763176415581,
         10.531274530861992,
         10.473570976231713,
         10.51899645087542,
         10.49634141830029,
         10.558147650037427,
         10.53869244811358,
         10.515060823236126,
         10.463819820259232,
         10.516153584991116,
         10.561869766388554,
         10.464490096841473,
         10.51242262480082,
         10.5451439654571,
         10.50337219593348,
         10.458772811864037,
         10.458190005098004,
         10.544837940309662,
         10.460130017076153,
         10.517430718813557,
         10.46109267679276,
         10.504003863607068,
         10.498149525199551,
         10.646466146979947,
         10.518449168477673,
         10.375917408440728,
         10.510173421178479,
         10.497342821036,
         10.508369061921258,
         10.521789561782498
        ],
        [
         2.9121629692324107,
         2.908667562720924,
         2.915152249951041,
         2.9143579852885604,
         2.9064795045624296,
         2.926890666052162,
         2.902596059057488,
         2.9096534874143303,
         2.9264863530912564,
         2.9014862578670835,
         2.927475259271994,
         2.917460518967337,
         2.92730527966539,
         2.913527142056061,
         2.907749912352972,
         2.892533857140132,
         2.9131897189155267,
         2.905172306156969,
         2.920111926333748,
         2.9044623541092585,
         2.905534321509802,
         2.930195535698004,
         2.924508234142405,
         2.939503552288867,
         2.8980932195837434,
         2.9028405259344976,
         2.910020795227014,
         2.88999623108844,
         2.9016484908128293,
         2.9015879375240115,
         2.9403879586560757,
         2.923544324750164,
         2.910615818992541,
         2.909590285471572,
         2.913126373322303,
         2.895151259360389,
         2.919888551649663,
         2.9221105415461617,
         2.92077005891799,
         2.920604535515116,
         2.903317170987319,
         2.9069098406809544,
         2.912800636998143,
         2.9130891634281126,
         2.9009566396967146,
         2.8990105993615782,
         2.9246458117301426,
         2.91525573809986,
         2.9210092034053177,
         2.9278364041075062,
         2.9190742635300992,
         2.9240917707207466,
         2.9187748393841426,
         2.8891485432847364,
         2.9128861870891813,
         2.9112653253145298,
         2.898086166042489,
         2.914034773070975,
         2.91235046374944,
         2.91916430495339,
         2.8996868659978667,
         2.8999031778340734,
         2.9107192781923263,
         2.914374294516301,
         2.898331440251735,
         2.908198085365178,
         2.9146022727833447,
         2.913431172653383,
         2.932030871101535,
         2.9042412790637018,
         2.9082181767318853,
         2.916996442266176,
         2.9080968948808734,
         2.9183967575749037,
         2.901543613806501,
         2.9180499804968694,
         2.9278291550610382,
         2.9027137306964343,
         2.894240145513683,
         2.913436312914088,
         2.9093107411134094,
         2.8947822816806394,
         2.9113893790354166,
         2.9212323258338992,
         2.906803131741328,
         2.899420121058075,
         2.8984022059491568,
         2.9124774399061213,
         2.9022612246286488,
         2.910572411929525,
         2.9042447789507264,
         2.9045821608880686,
         2.910766893719671,
         2.9323848838497306,
         2.9145952733795255,
         2.8885837932197114,
         2.915175586044799,
         2.911840058261205,
         2.9162584974499497,
         2.9120084809370703
        ]
       ],
       "encoder": "json",
       "name": "ABC_GAN_1 Metrics",
       "version": 1
      }
     },
     "metadata": {
      "scrapbook": {
       "data": true,
       "display": false,
       "name": "ABC_GAN_1 Metrics"
      }
     },
     "output_type": "display_data"
    },
    {
     "name": "stdout",
     "output_type": "stream",
     "text": [
      "MSE\n",
      "0.42387196020462037\n"
     ]
    }
   ],
   "source": [
    "ABC_GAN1_metrics=ABC_train_test2.test_generator(gen,test_data,prior_model,variance,bias,\"1\",device)\n",
    "sb.glue(\"ABC_GAN_1 Metrics\",ABC_GAN1_metrics)\n",
    "\n",
    "print(\"MSE\")\n",
    "print(mean(ABC_GAN1_metrics[0]))"
   ]
  },
  {
   "cell_type": "code",
   "execution_count": 14,
   "id": "eb22ce5c",
   "metadata": {
    "execution": {
     "iopub.execute_input": "2022-06-22T13:11:17.647420Z",
     "iopub.status.busy": "2022-06-22T13:11:17.646449Z",
     "iopub.status.idle": "2022-06-22T13:11:18.572754Z",
     "shell.execute_reply": "2022-06-22T13:11:18.573292Z"
    },
    "papermill": {
     "duration": 0.985607,
     "end_time": "2022-06-22T13:11:18.573522",
     "exception": false,
     "start_time": "2022-06-22T13:11:17.587915",
     "status": "completed"
    },
    "tags": []
   },
   "outputs": [
    {
     "data": {
      "image/png": "[encoded data removed]",
      "text/plain": [
       "<Figure size 432x288 with 1 Axes>"
      ]
     },
     "metadata": {
      "needs_background": "light"
     },
     "output_type": "display_data"
    },
    {
     "data": {
      "image/png": "[encoded data removed]",
      "text/plain": [
       "<Figure size 432x288 with 1 Axes>"
      ]
     },
     "metadata": {
      "needs_background": "light"
     },
     "output_type": "display_data"
    },
    {
     "data": {
      "image/png": "[encoded data removed]",
      "text/plain": [
       "<Figure size 432x288 with 1 Axes>"
      ]
     },
     "metadata": {
      "needs_background": "light"
     },
     "output_type": "display_data"
    },
    {
     "data": {
      "image/png": "[encoded data removed]",
      "text/plain": [
       "<Figure size 432x288 with 1 Axes>"
      ]
     },
     "metadata": {
      "needs_background": "light"
     },
     "output_type": "display_data"
    }
   ],
   "source": [
    "sanityChecks.discProbVsError(train_data,disc,device)\n",
    "sanityChecks.discProbVsError(test_data,disc,device)"
   ]
  },
  {
   "cell_type": "markdown",
   "id": "130f3a4d",
   "metadata": {
    "id": "130f3a4d",
    "papermill": {
     "duration": 0.059424,
     "end_time": "2022-06-22T13:11:18.735702",
     "exception": false,
     "start_time": "2022-06-22T13:11:18.676278",
     "status": "completed"
    },
    "tags": []
   },
   "source": [
    "# ABC - GAN Model with skip connection"
   ]
  },
  {
   "cell_type": "code",
   "execution_count": 15,
   "id": "4e43dad1",
   "metadata": {
    "execution": {
     "iopub.execute_input": "2022-06-22T13:11:18.905250Z",
     "iopub.status.busy": "2022-06-22T13:11:18.903598Z",
     "iopub.status.idle": "2022-06-22T13:11:18.906375Z",
     "shell.execute_reply": "2022-06-22T13:11:18.907068Z"
    },
    "id": "4e43dad1",
    "papermill": {
     "duration": 0.111382,
     "end_time": "2022-06-22T13:11:18.907295",
     "exception": false,
     "start_time": "2022-06-22T13:11:18.795913",
     "status": "completed"
    },
    "tags": []
   },
   "outputs": [],
   "source": [
    "#Generator\n",
    "gen3 = network.GeneratorWithSkipConnection(n_features+1).to(device)\n",
    "constraints=network.weightConstraint()\n",
    "#Discriminator \n",
    "disc3 = network.Discriminator(n_features+1).to(device)\n",
    "\n",
    "criterion = torch.nn.BCELoss()\n",
    "gen_opt = torch.optim.Adam(gen3.parameters(), lr=0.001, betas=(0.5, 0.999))\n",
    "disc_opt = torch.optim.Adam(disc3.parameters(), lr=0.001, betas=(0.5, 0.999))\n"
   ]
  },
  {
   "cell_type": "code",
   "execution_count": 16,
   "id": "26acbc37",
   "metadata": {
    "execution": {
     "iopub.execute_input": "2022-06-22T13:11:19.003531Z",
     "iopub.status.busy": "2022-06-22T13:11:19.000682Z",
     "iopub.status.idle": "2022-06-22T13:12:41.544637Z",
     "shell.execute_reply": "2022-06-22T13:12:41.545198Z"
    },
    "id": "26acbc37",
    "papermill": {
     "duration": 82.595508,
     "end_time": "2022-06-22T13:12:41.545447",
     "exception": false,
     "start_time": "2022-06-22T13:11:18.949939",
     "status": "completed"
    },
    "tags": []
   },
   "outputs": [
    {
     "data": {
      "image/png": "[encoded data removed]",
      "text/plain": [
       "<Figure size 432x288 with 1 Axes>"
      ]
     },
     "metadata": {
      "needs_background": "light"
     },
     "output_type": "display_data"
    },
    {
     "data": {
      "image/png": "[encoded data removed]",
      "text/plain": [
       "<Figure size 432x288 with 1 Axes>"
      ]
     },
     "metadata": {
      "needs_background": "light"
     },
     "output_type": "display_data"
    }
   ],
   "source": [
    "ABC_train_test2.training_GAN_skip_connection(disc3,gen3,disc_opt,gen_opt,train_data,batch_size,n_epochs,criterion,prior_model,variance,bias,device)"
   ]
  },
  {
   "cell_type": "code",
   "execution_count": 17,
   "id": "c5e0717b",
   "metadata": {
    "execution": {
     "iopub.execute_input": "2022-06-22T13:12:41.669127Z",
     "iopub.status.busy": "2022-06-22T13:12:41.666110Z",
     "iopub.status.idle": "2022-06-22T13:12:42.567637Z",
     "shell.execute_reply": "2022-06-22T13:12:42.569142Z"
    },
    "id": "c5e0717b",
    "papermill": {
     "duration": 0.974769,
     "end_time": "2022-06-22T13:12:42.569829",
     "exception": false,
     "start_time": "2022-06-22T13:12:41.595060",
     "status": "completed"
    },
    "tags": []
   },
   "outputs": [
    {
     "data": {
      "application/scrapbook.scrap.json+json": {
       "data": 0.48960155253955273,
       "encoder": "json",
       "name": "ABC-GAN Model 3 MSE",
       "version": 1
      }
     },
     "metadata": {
      "scrapbook": {
       "data": true,
       "display": false,
       "name": "ABC-GAN Model 3 MSE"
      }
     },
     "output_type": "display_data"
    },
    {
     "data": {
      "application/scrapbook.scrap.json+json": {
       "data": 0.5695245144540677,
       "encoder": "json",
       "name": "ABC-GAN Model 3 MAE",
       "version": 1
      }
     },
     "metadata": {
      "scrapbook": {
       "data": true,
       "display": false,
       "name": "ABC-GAN Model 3 MAE"
      }
     },
     "output_type": "display_data"
    },
    {
     "data": {
      "application/scrapbook.scrap.json+json": {
       "data": 11.390490289081354,
       "encoder": "json",
       "name": "ABC-GAN Model 3 Manhattan Distance",
       "version": 1
      }
     },
     "metadata": {
      "scrapbook": {
       "data": true,
       "display": false,
       "name": "ABC-GAN Model 3 Manhattan Distance"
      }
     },
     "output_type": "display_data"
    },
    {
     "data": {
      "application/scrapbook.scrap.json+json": {
       "data": 3.1291975782361865,
       "encoder": "json",
       "name": "ABC-GAN Model 3 Euclidean distance",
       "version": 1
      }
     },
     "metadata": {
      "scrapbook": {
       "data": true,
       "display": false,
       "name": "ABC-GAN Model 3 Euclidean distance"
      }
     },
     "output_type": "display_data"
    },
    {
     "data": {
      "application/scrapbook.scrap.json+json": {
       "data": [
        [
         0.4900415711807362,
         0.4919785399433156,
         0.4880120834985419,
         0.48242303990630714,
         0.48514594507791886,
         0.4886096548866508,
         0.4936930701964298,
         0.4908833259347526,
         0.48874410871625307,
         0.4899119807932754,
         0.49953963940788526,
         0.4834719803524056,
         0.49167392458043013,
         0.4894313885883956,
         0.4944651854088441,
         0.48046243490757856,
         0.49073309692515255,
         0.48993817649523896,
         0.49193137078584825,
         0.4910881183756053,
         0.4921600365461778,
         0.4849318150510305,
         0.48764810898395405,
         0.48300367724103754,
         0.48719432360235293,
         0.4899355068481633,
         0.49493516804032256,
         0.4852065907903372,
         0.4865540041268919,
         0.49192242237724015,
         0.4886931281871991,
         0.4873731301864944,
         0.4906036574564265,
         0.4893912294851539,
         0.4855499137517814,
         0.4931893208742455,
         0.48875082845821244,
         0.4911306566795983,
         0.4844045762764284,
         0.4888010705821137,
         0.4951313389271517,
         0.4855269078568365,
         0.4930173516016871,
         0.4800260679244822,
         0.4906367046089778,
         0.49287943390747024,
         0.4894093856681952,
         0.49070494034005063,
         0.4845880217384523,
         0.4869580148575813,
         0.49442754088673385,
         0.49337769502116585,
         0.48887670649572074,
         0.4895285449716692,
         0.49300574414537107,
         0.498340377540497,
         0.48672689641535793,
         0.49084100061346236,
         0.4895137358547606,
         0.4925129556365885,
         0.4937473405756287,
         0.4899424086976639,
         0.4948714358197076,
         0.48673822102454756,
         0.4955843714703686,
         0.48609585877975653,
         0.4873114621331435,
         0.48685992678788975,
         0.4906154465129129,
         0.4876464691561768,
         0.4925802746520933,
         0.48897416148983874,
         0.4948881184760129,
         0.48673080278563113,
         0.4986237821314818,
         0.4828990255759936,
         0.48801077422667777,
         0.48516326230199436,
         0.4928738188573506,
         0.49139446282169813,
         0.4877841047722592,
         0.491967249351406,
         0.4828933598017067,
         0.4888252600935911,
         0.4994688578133791,
         0.49179013124667587,
         0.4896583078549481,
         0.495080463582502,
         0.49331644580357115,
         0.48710620549992856,
         0.48843516333814846,
         0.49022582016933186,
         0.49126852149470085,
         0.4885857349548132,
         0.4870734631506458,
         0.48769475924688044,
         0.49002412643806803,
         0.4862481484190999,
         0.487644924118375,
         0.48392561600973527
        ],
        [
         0.5687262168066809,
         0.5702283954160521,
         0.5681537402706454,
         0.5672435095446418,
         0.5688926076429197,
         0.5679783573286841,
         0.5697416325943777,
         0.5689834063785384,
         0.5723729556339094,
         0.5705436376767465,
         0.5764499960379907,
         0.566087341113598,
         0.5716127658175537,
         0.5697714565234492,
         0.5732982834713767,
         0.5639766869979213,
         0.571219908996136,
         0.5683294994669268,
         0.5724961953150342,
         0.5714062562125036,
         0.5719228526490042,
         0.569021409554989,
         0.5677683046000311,
         0.564823188437731,
         0.5686261491762707,
         0.5707840321498224,
         0.571541835172684,
         0.566663081003935,
         0.5658189771609614,
         0.5687610467808554,
         0.5671833371656249,
         0.5699828488664934,
         0.5695740168826887,
         0.5695405779319117,
         0.5668314179318259,
         0.5698304070072482,
         0.5680197475390741,
         0.5686139730649302,
         0.5651412976818392,
         0.5686994520860026,
         0.5736327225255081,
         0.5657116046088049,
         0.5707964440720389,
         0.5626388257282088,
         0.5706916725175688,
         0.5727664997713873,
         0.5690252294676611,
         0.5700952766375849,
         0.5657307123678038,
         0.5679629808204482,
         0.5750135524111102,
         0.5732397725718329,
         0.5707858761685202,
         0.5691297253506491,
         0.5723911015229532,
         0.5748238475905965,
         0.5685726856725524,
         0.5692419892089674,
         0.5695297142403433,
         0.5702394997613738,
         0.5737744590180227,
         0.569716984583647,
         0.5700538823293755,
         0.5678810367273399,
         0.5755840411322424,
         0.5690932234661886,
         0.5708452282386134,
         0.5664603447454283,
         0.5699841370718787,
         0.566362335710437,
         0.5690882427530596,
         0.5714727116661379,
         0.5719286708073923,
         0.5693595258431742,
         0.5743919586675474,
         0.5674924774008104,
         0.5653757518070052,
         0.5656796215014765,
         0.5730520220386097,
         0.5699975078838179,
         0.5654120838182279,
         0.572092774315388,
         0.5658316550689051,
         0.5665557673113654,
         0.5741551985876867,
         0.5716695455746958,
         0.5688968976872275,
         0.5741520123468945,
         0.5725880579935619,
         0.5663419043557951,
         0.5696256516413996,
         0.5684267951088259,
         0.5709475790994475,
         0.5699102891521761,
         0.569197112126858,
         0.5685511326330015,
         0.5708656964736292,
         0.566374804629595,
         0.5691246254282305,
         0.5654571635561296
        ],
        [
         11.374524336133618,
         11.404567908321042,
         11.363074805412907,
         11.344870190892834,
         11.377852152858395,
         11.359567146573681,
         11.394832651887555,
         11.379668127570767,
         11.447459112678189,
         11.410872753534932,
         11.528999920759816,
         11.321746822271962,
         11.432255316351075,
         11.395429130468983,
         11.465965669427533,
         11.279533739958424,
         11.424398179922719,
         11.366589989338536,
         11.449923906300683,
         11.428125124250073,
         11.438457052980084,
         11.380428191099782,
         11.355366092000622,
         11.29646376875462,
         11.372522983525414,
         11.415680642996449,
         11.430836703453679,
         11.333261620078702,
         11.316379543219227,
         11.375220935617108,
         11.343666743312497,
         11.399656977329869,
         11.391480337653775,
         11.390811558638234,
         11.336628358636517,
         11.396608140144963,
         11.360394950781483,
         11.372279461298604,
         11.302825953636784,
         11.373989041720051,
         11.472654450510163,
         11.314232092176098,
         11.415928881440777,
         11.252776514564175,
         11.413833450351376,
         11.455329995427746,
         11.380504589353222,
         11.401905532751698,
         11.314614247356076,
         11.359259616408963,
         11.500271048222203,
         11.464795451436657,
         11.415717523370404,
         11.382594507012982,
         11.447822030459065,
         11.496476951811928,
         11.371453713451046,
         11.384839784179348,
         11.390594284806866,
         11.404789995227475,
         11.475489180360455,
         11.39433969167294,
         11.40107764658751,
         11.3576207345468,
         11.511680822644848,
         11.381864469323773,
         11.416904564772267,
         11.329206894908566,
         11.399682741437573,
         11.32724671420874,
         11.381764855061192,
         11.429454233322758,
         11.438573416147847,
         11.387190516863484,
         11.487839173350949,
         11.34984954801621,
         11.307515036140103,
         11.31359243002953,
         11.461040440772194,
         11.399950157676358,
         11.30824167636456,
         11.441855486307759,
         11.316633101378102,
         11.331115346227307,
         11.483103971753735,
         11.433390911493916,
         11.37793795374455,
         11.48304024693789,
         11.45176115987124,
         11.326838087115902,
         11.392513032827992,
         11.368535902176518,
         11.41895158198895,
         11.398205783043522,
         11.38394224253716,
         11.37102265266003,
         11.417313929472584,
         11.3274960925919,
         11.38249250856461,
         11.309143271122593
        ],
        [
         3.1306279599490456,
         3.1368090153635926,
         3.124138548459533,
         3.106197160214744,
         3.1149508666363226,
         3.1260507189956175,
         3.1422701035920824,
         3.1333155791740883,
         3.1264807970504243,
         3.130213988829759,
         3.1608215369042436,
         3.1095722546755704,
         3.135837765511571,
         3.1286782787253644,
         3.1447263327954125,
         3.0998788199140255,
         3.132836085482777,
         3.1302976743282387,
         3.136658638697709,
         3.1339691076192993,
         3.1373875646664304,
         3.114263364107251,
         3.1229732915411046,
         3.108065884890594,
         3.1215198977496614,
         3.1302891459038196,
         3.1462204882694484,
         3.115145552908683,
         3.1194679165745294,
         3.1366301100934426,
         3.12631773237206,
         3.1220926641805313,
         3.132422887978015,
         3.128549918045591,
         3.1162474669120273,
         3.140666556240078,
         3.126502289966257,
         3.1341048376836356,
         3.112569922994272,
         3.126662983380568,
         3.1468439393371628,
         3.116173640402076,
         3.140118951892387,
         3.0984708096881666,
         3.13252838649222,
         3.1396797094846165,
         3.1286079513681324,
         3.13274620848881,
         3.113159236976009,
         3.1207627748920017,
         3.1446066236867654,
         3.1412662893208076,
         3.126904880215325,
         3.1289887982275335,
         3.1400819866537595,
         3.1570251108931546,
         3.1200221038170803,
         3.133180494684155,
         3.128941469106639,
         3.1385122451141982,
         3.1424428095850163,
         3.130311194426726,
         3.1460179141883717,
         3.120058400173136,
         3.1482832511397976,
         3.117998905643671,
         3.121895136397581,
         3.1204484510656147,
         3.1324605233359692,
         3.122968040682379,
         3.1387267311828637,
         3.127216530686159,
         3.1460709415905197,
         3.1200346241208003,
         3.1579226783804626,
         3.107729156718756,
         3.124134357631495,
         3.1150064600318066,
         3.1396618252842154,
         3.1349464519244923,
         3.123408730128861,
         3.1367730212796907,
         3.107710925429541,
         3.126740347689878,
         3.1605975948019043,
         3.136208319760267,
         3.12940348263035,
         3.1466822641712717,
         3.1410713006984454,
         3.1212375926863642,
         3.1254924838756155,
         3.1312164414787165,
         3.134544692597956,
         3.125974200004898,
         3.1211326891071,
         3.1231226656885585,
         3.130572236630447,
         3.1184872884752943,
         3.1229630933406014,
         3.111030748834654
        ]
       ],
       "encoder": "json",
       "name": "ABC_GAN_3 Metrics",
       "version": 1
      }
     },
     "metadata": {
      "scrapbook": {
       "data": true,
       "display": false,
       "name": "ABC_GAN_3 Metrics"
      }
     },
     "output_type": "display_data"
    },
    {
     "name": "stdout",
     "output_type": "stream",
     "text": [
      "MSE\n",
      "0.48960155253955273\n"
     ]
    }
   ],
   "source": [
    "ABC_GAN3_metrics=ABC_train_test2.test_generator(gen3,test_data,prior_model,variance,bias,\"3\",device)\n",
    "sb.glue(\"ABC_GAN_3 Metrics\",ABC_GAN3_metrics)\n",
    "\n",
    "print(\"MSE\")\n",
    "print(mean(ABC_GAN3_metrics[0]))"
   ]
  },
  {
   "cell_type": "code",
   "execution_count": 18,
   "id": "c8e46b48",
   "metadata": {
    "execution": {
     "iopub.execute_input": "2022-06-22T13:12:42.694870Z",
     "iopub.status.busy": "2022-06-22T13:12:42.694139Z",
     "iopub.status.idle": "2022-06-22T13:12:43.596694Z",
     "shell.execute_reply": "2022-06-22T13:12:43.597345Z"
    },
    "id": "c8e46b48",
    "papermill": {
     "duration": 0.975615,
     "end_time": "2022-06-22T13:12:43.597630",
     "exception": false,
     "start_time": "2022-06-22T13:12:42.622015",
     "status": "completed"
    },
    "tags": []
   },
   "outputs": [
    {
     "data": {
      "image/png": "[encoded data removed]",
      "text/plain": [
       "<Figure size 432x288 with 1 Axes>"
      ]
     },
     "metadata": {
      "needs_background": "light"
     },
     "output_type": "display_data"
    },
    {
     "data": {
      "image/png": "[encoded data removed]",
      "text/plain": [
       "<Figure size 432x288 with 1 Axes>"
      ]
     },
     "metadata": {
      "needs_background": "light"
     },
     "output_type": "display_data"
    },
    {
     "data": {
      "image/png": "[encoded data removed]",
      "text/plain": [
       "<Figure size 432x288 with 1 Axes>"
      ]
     },
     "metadata": {
      "needs_background": "light"
     },
     "output_type": "display_data"
    },
    {
     "data": {
      "image/png": "[encoded data removed]",
      "text/plain": [
       "<Figure size 432x288 with 1 Axes>"
      ]
     },
     "metadata": {
      "needs_background": "light"
     },
     "output_type": "display_data"
    }
   ],
   "source": [
    "sanityChecks.discProbVsError(train_data,disc3,device)\n",
    "sanityChecks.discProbVsError(test_data,disc3,device)"
   ]
  },
  {
   "cell_type": "markdown",
   "id": "a5bd74c3",
   "metadata": {
    "id": "a5bd74c3",
    "papermill": {
     "duration": 0.065566,
     "end_time": "2022-06-22T13:12:43.732250",
     "exception": false,
     "start_time": "2022-06-22T13:12:43.666684",
     "status": "completed"
    },
    "tags": []
   },
   "source": [
    "## Skip Connection Model Analysis - ABC-GAN "
   ]
  },
  {
   "cell_type": "markdown",
   "id": "5744a8bf",
   "metadata": {
    "id": "5744a8bf",
    "papermill": {
     "duration": 0.078026,
     "end_time": "2022-06-22T13:12:43.884760",
     "exception": false,
     "start_time": "2022-06-22T13:12:43.806734",
     "status": "completed"
    },
    "tags": []
   },
   "source": [
    "### Weight Analysis \n",
    "\n",
    "Study the weights of the skip connection layer\n",
    "\n",
    "Equation of the skip connection is \n",
    "\n",
    "$output = y_{gan} * w + y_{abc} * (1-w)$"
   ]
  },
  {
   "cell_type": "code",
   "execution_count": 19,
   "id": "52c31dea",
   "metadata": {
    "execution": {
     "iopub.execute_input": "2022-06-22T13:12:44.008331Z",
     "iopub.status.busy": "2022-06-22T13:12:44.007394Z",
     "iopub.status.idle": "2022-06-22T13:12:44.014322Z",
     "shell.execute_reply": "2022-06-22T13:12:44.014933Z"
    },
    "id": "52c31dea",
    "papermill": {
     "duration": 0.074767,
     "end_time": "2022-06-22T13:12:44.015158",
     "exception": false,
     "start_time": "2022-06-22T13:12:43.940391",
     "status": "completed"
    },
    "tags": []
   },
   "outputs": [
    {
     "name": "stdout",
     "output_type": "stream",
     "text": [
      "Weight of the node at skip connection\n",
      "Parameter containing:\n",
      "tensor([[0.6146]], requires_grad=True)\n"
     ]
    },
    {
     "data": {
      "application/scrapbook.scrap.json+json": {
       "data": 0.614586353302002,
       "encoder": "json",
       "name": "Skip Connection Weight",
       "version": 1
      }
     },
     "metadata": {
      "scrapbook": {
       "data": true,
       "display": false,
       "name": "Skip Connection Weight"
      }
     },
     "output_type": "display_data"
    }
   ],
   "source": [
    "print(\"Weight of the node at skip connection\")\n",
    "for name,param in gen3.named_parameters():\n",
    "    if(name == \"skipNode.weight\"):\n",
    "        print(param)\n",
    "        sb.glue(\"Skip Connection Weight\",param.item())"
   ]
  }
 ],
 "metadata": {
  "colab": {
   "collapsed_sections": [],
   "name": "ABC_GAN_Model-Catboost_Pre-gen.ipynb",
   "provenance": []
  },
  "interpreter": {
   "hash": "31f2aee4e71d21fbe5cf8b01ff0e069b9275f58929596ceb00d14d90e3e16cd6"
  },
  "kernelspec": {
   "display_name": "Python 3 (ipykernel)",
   "language": "python",
   "name": "python3"
  },
  "language_info": {
   "codemirror_mode": {
    "name": "ipython",
    "version": 3
   },
   "file_extension": ".py",
   "mimetype": "text/x-python",
   "name": "python",
   "nbconvert_exporter": "python",
   "pygments_lexer": "ipython3",
   "version": "3.8.3"
  },
  "papermill": {
   "default_parameters": {},
   "duration": 189.565364,
   "end_time": "2022-06-22T13:12:45.381611",
   "environment_variables": {},
   "exception": null,
   "input_path": "ABC_GAN-TabNet.ipynb",
   "output_path": "./ABC_GAN_TabNet/ABC-GAN_output_4_5.ipynb",
   "parameters": {
    "bias": 0.1,
    "variance": 0.01
   },
   "start_time": "2022-06-22T13:09:35.816247",
   "version": "2.3.3"
  }
 },
 "nbformat": 4,
 "nbformat_minor": 5
}