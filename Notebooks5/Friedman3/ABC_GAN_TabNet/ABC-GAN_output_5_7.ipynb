{
 "cells": [
  {
   "cell_type": "markdown",
   "id": "622780e6",
   "metadata": {
    "id": "622780e6",
    "papermill": {
     "duration": 0.039693,
     "end_time": "2022-06-22T13:51:57.257920",
     "exception": false,
     "start_time": "2022-06-22T13:51:57.218227",
     "status": "completed"
    },
    "tags": []
   },
   "source": [
    "## Import Libraries "
   ]
  },
  {
   "cell_type": "code",
   "execution_count": 1,
   "id": "a62397e3",
   "metadata": {
    "execution": {
     "iopub.execute_input": "2022-06-22T13:51:57.330517Z",
     "iopub.status.busy": "2022-06-22T13:51:57.328720Z",
     "iopub.status.idle": "2022-06-22T13:51:57.333527Z",
     "shell.execute_reply": "2022-06-22T13:51:57.331582Z"
    },
    "id": "a62397e3",
    "papermill": {
     "duration": 0.051568,
     "end_time": "2022-06-22T13:51:57.333815",
     "exception": false,
     "start_time": "2022-06-22T13:51:57.282247",
     "status": "completed"
    },
    "tags": []
   },
   "outputs": [],
   "source": [
    "import warnings\n",
    "import sys\n",
    "sys.path.insert(0, '../../src')\n",
    "warnings.filterwarnings('ignore')"
   ]
  },
  {
   "cell_type": "code",
   "execution_count": 2,
   "id": "d6a4e155",
   "metadata": {
    "execution": {
     "iopub.execute_input": "2022-06-22T13:51:57.381169Z",
     "iopub.status.busy": "2022-06-22T13:51:57.380249Z",
     "iopub.status.idle": "2022-06-22T13:52:03.878982Z",
     "shell.execute_reply": "2022-06-22T13:52:03.879552Z"
    },
    "id": "d6a4e155",
    "papermill": {
     "duration": 6.523141,
     "end_time": "2022-06-22T13:52:03.879789",
     "exception": false,
     "start_time": "2022-06-22T13:51:57.356648",
     "status": "completed"
    },
    "tags": []
   },
   "outputs": [],
   "source": [
    "import ABC_train_test2\n",
    "import friedman3Dataset\n",
    "import network\n",
    "import dataset\n",
    "import sanityChecks\n",
    "import torch \n",
    "import scrapbook as sb\n",
    "from statistics import mean \n",
    "import catboost as ctb \n",
    "from sklearn.model_selection import train_test_split\n",
    "from sklearn.metrics import mean_squared_error,mean_absolute_error\n",
    "import numpy as np\n",
    "from pytorch_tabnet.tab_model import TabNetRegressor"
   ]
  },
  {
   "cell_type": "markdown",
   "id": "2fa5b0f7",
   "metadata": {
    "id": "2fa5b0f7",
    "papermill": {
     "duration": 0.01989,
     "end_time": "2022-06-22T13:52:03.919655",
     "exception": false,
     "start_time": "2022-06-22T13:52:03.899765",
     "status": "completed"
    },
    "tags": []
   },
   "source": [
    "## Parameters "
   ]
  },
  {
   "cell_type": "code",
   "execution_count": 3,
   "id": "783186fb",
   "metadata": {
    "execution": {
     "iopub.execute_input": "2022-06-22T13:52:03.963077Z",
     "iopub.status.busy": "2022-06-22T13:52:03.961962Z",
     "iopub.status.idle": "2022-06-22T13:52:03.964459Z",
     "shell.execute_reply": "2022-06-22T13:52:03.964994Z"
    },
    "id": "783186fb",
    "papermill": {
     "duration": 0.025956,
     "end_time": "2022-06-22T13:52:03.965223",
     "exception": false,
     "start_time": "2022-06-22T13:52:03.939267",
     "status": "completed"
    },
    "tags": [
     "parameters"
    ]
   },
   "outputs": [],
   "source": [
    "variance = 1\n",
    "bias = 1 "
   ]
  },
  {
   "cell_type": "code",
   "execution_count": 4,
   "id": "16f84fc3",
   "metadata": {
    "execution": {
     "iopub.execute_input": "2022-06-22T13:52:04.003503Z",
     "iopub.status.busy": "2022-06-22T13:52:04.002274Z",
     "iopub.status.idle": "2022-06-22T13:52:04.006960Z",
     "shell.execute_reply": "2022-06-22T13:52:04.007490Z"
    },
    "papermill": {
     "duration": 0.025431,
     "end_time": "2022-06-22T13:52:04.007714",
     "exception": false,
     "start_time": "2022-06-22T13:52:03.982283",
     "status": "completed"
    },
    "tags": [
     "injected-parameters"
    ]
   },
   "outputs": [],
   "source": [
    "# Parameters\n",
    "variance = 0.1\n",
    "bias = 0.01\n"
   ]
  },
  {
   "cell_type": "markdown",
   "id": "391cdbfd",
   "metadata": {
    "id": "391cdbfd",
    "papermill": {
     "duration": 0.018845,
     "end_time": "2022-06-22T13:52:04.043226",
     "exception": false,
     "start_time": "2022-06-22T13:52:04.024381",
     "status": "completed"
    },
    "tags": []
   },
   "source": [
    "## Dataset \n"
   ]
  },
  {
   "cell_type": "code",
   "execution_count": 5,
   "id": "5b51f161",
   "metadata": {
    "execution": {
     "iopub.execute_input": "2022-06-22T13:52:04.085127Z",
     "iopub.status.busy": "2022-06-22T13:52:04.084339Z",
     "iopub.status.idle": "2022-06-22T13:52:04.086806Z",
     "shell.execute_reply": "2022-06-22T13:52:04.087358Z"
    },
    "id": "5b51f161",
    "papermill": {
     "duration": 0.026986,
     "end_time": "2022-06-22T13:52:04.087981",
     "exception": false,
     "start_time": "2022-06-22T13:52:04.060995",
     "status": "completed"
    },
    "tags": []
   },
   "outputs": [],
   "source": [
    "#Parameters \n",
    "n_features = 4\n",
    "n_samples= 100\n",
    "n_target = 1"
   ]
  },
  {
   "cell_type": "code",
   "execution_count": 6,
   "id": "5d6eced4",
   "metadata": {
    "execution": {
     "iopub.execute_input": "2022-06-22T13:52:04.130901Z",
     "iopub.status.busy": "2022-06-22T13:52:04.130094Z",
     "iopub.status.idle": "2022-06-22T13:52:04.148161Z",
     "shell.execute_reply": "2022-06-22T13:52:04.148943Z"
    },
    "id": "5d6eced4",
    "papermill": {
     "duration": 0.043739,
     "end_time": "2022-06-22T13:52:04.149208",
     "exception": false,
     "start_time": "2022-06-22T13:52:04.105469",
     "status": "completed"
    },
    "tags": []
   },
   "outputs": [
    {
     "name": "stdout",
     "output_type": "stream",
     "text": [
      "          X1           X2        X3        X4         Y\n",
      "0  25.973424  1311.690607  0.355087  3.805262  1.689042\n",
      "1  64.128896  1167.796789  0.638361  1.438269  1.557661\n",
      "2  92.984945  1217.487590  0.036725  2.719457  0.536461\n",
      "3  90.228529   289.251794  0.973413  1.036139  1.279512\n",
      "4  56.841771   823.210520  0.398534  8.616206  1.445613\n"
     ]
    }
   ],
   "source": [
    "X,Y = friedman3Dataset.friedman3_data(n_samples)"
   ]
  },
  {
   "cell_type": "code",
   "execution_count": 7,
   "id": "fe007438",
   "metadata": {
    "execution": {
     "iopub.execute_input": "2022-06-22T13:52:04.200229Z",
     "iopub.status.busy": "2022-06-22T13:52:04.197935Z",
     "iopub.status.idle": "2022-06-22T13:52:04.208258Z",
     "shell.execute_reply": "2022-06-22T13:52:04.210085Z"
    },
    "id": "fe007438",
    "papermill": {
     "duration": 0.043639,
     "end_time": "2022-06-22T13:52:04.210483",
     "exception": false,
     "start_time": "2022-06-22T13:52:04.166844",
     "status": "completed"
    },
    "tags": []
   },
   "outputs": [],
   "source": [
    "#Train test split for dataset \n",
    "X_train,X_test,Y_train,Y_test = train_test_split(X,Y,test_size = 0.2)\n",
    "train_data = dataset.CustomDataset(X_train,Y_train)\n",
    "test_data = dataset.CustomDataset(X_test,Y_test)\n"
   ]
  },
  {
   "cell_type": "markdown",
   "id": "a9a1af34",
   "metadata": {
    "id": "a9a1af34",
    "papermill": {
     "duration": 0.023427,
     "end_time": "2022-06-22T13:52:04.257485",
     "exception": false,
     "start_time": "2022-06-22T13:52:04.234058",
     "status": "completed"
    },
    "tags": []
   },
   "source": [
    "## Training Parameters "
   ]
  },
  {
   "cell_type": "code",
   "execution_count": 8,
   "id": "952b7fc8",
   "metadata": {
    "execution": {
     "iopub.execute_input": "2022-06-22T13:52:04.317820Z",
     "iopub.status.busy": "2022-06-22T13:52:04.316057Z",
     "iopub.status.idle": "2022-06-22T13:52:04.318822Z",
     "shell.execute_reply": "2022-06-22T13:52:04.320815Z"
    },
    "id": "952b7fc8",
    "papermill": {
     "duration": 0.04204,
     "end_time": "2022-06-22T13:52:04.321815",
     "exception": false,
     "start_time": "2022-06-22T13:52:04.279775",
     "status": "completed"
    },
    "tags": []
   },
   "outputs": [],
   "source": [
    "batch_size = 32\n",
    "n_epochs = 1000\n",
    "#Select the device \n",
    "device = torch.device('cuda' if torch.cuda.is_available() else 'cpu')"
   ]
  },
  {
   "cell_type": "markdown",
   "id": "a95e1600",
   "metadata": {
    "id": "a95e1600",
    "papermill": {
     "duration": 0.041585,
     "end_time": "2022-06-22T13:52:04.381724",
     "exception": false,
     "start_time": "2022-06-22T13:52:04.340139",
     "status": "completed"
    },
    "tags": []
   },
   "source": [
    "# ABC Pre-generator Model \n",
    "\n",
    "1. The catboost model is used as a pre-generator model for the ABC-GAN. \n",
    "2. The model is first trained on the entire dataset \n",
    "3. It generats X,Y pairs and we add some Gaussian noise with mean 0 and variance 1 to it which is then feed as input to the generator.\n"
   ]
  },
  {
   "cell_type": "code",
   "execution_count": 9,
   "id": "ff8ce7bd",
   "metadata": {
    "execution": {
     "iopub.execute_input": "2022-06-22T13:52:04.434101Z",
     "iopub.status.busy": "2022-06-22T13:52:04.432996Z",
     "iopub.status.idle": "2022-06-22T13:52:17.581845Z",
     "shell.execute_reply": "2022-06-22T13:52:17.582353Z"
    },
    "id": "ff8ce7bd",
    "papermill": {
     "duration": 13.181859,
     "end_time": "2022-06-22T13:52:17.582577",
     "exception": false,
     "start_time": "2022-06-22T13:52:04.400718",
     "status": "completed"
    },
    "tags": []
   },
   "outputs": [
    {
     "name": "stdout",
     "output_type": "stream",
     "text": [
      "Device used : cpu\n"
     ]
    },
    {
     "name": "stdout",
     "output_type": "stream",
     "text": [
      "epoch 0  | loss: 1.04984 | train_mse: 2.54101 | train_mae: 1.18734 |  0:00:00s\n",
      "epoch 1  | loss: 0.93825 | train_mse: 0.943   | train_mae: 0.77952 |  0:00:00s\n"
     ]
    },
    {
     "name": "stdout",
     "output_type": "stream",
     "text": [
      "epoch 2  | loss: 0.90019 | train_mse: 1.5892  | train_mae: 0.94891 |  0:00:00s\n",
      "epoch 3  | loss: 0.75965 | train_mse: 1.26842 | train_mae: 0.82915 |  0:00:00s\n",
      "epoch 4  | loss: 0.51317 | train_mse: 1.01895 | train_mae: 0.7868  |  0:00:00s\n"
     ]
    },
    {
     "name": "stdout",
     "output_type": "stream",
     "text": [
      "epoch 5  | loss: 0.41973 | train_mse: 1.64377 | train_mae: 0.98133 |  0:00:00s\n",
      "epoch 6  | loss: 0.81019 | train_mse: 0.87178 | train_mae: 0.74166 |  0:00:00s\n",
      "epoch 7  | loss: 0.52954 | train_mse: 0.62882 | train_mae: 0.63361 |  0:00:01s\n"
     ]
    },
    {
     "name": "stdout",
     "output_type": "stream",
     "text": [
      "epoch 8  | loss: 0.43984 | train_mse: 0.67662 | train_mae: 0.64691 |  0:00:01s\n",
      "epoch 9  | loss: 0.60849 | train_mse: 0.71477 | train_mae: 0.6457  |  0:00:01s\n",
      "epoch 10 | loss: 0.40323 | train_mse: 0.57992 | train_mae: 0.59199 |  0:00:01s\n"
     ]
    },
    {
     "name": "stdout",
     "output_type": "stream",
     "text": [
      "epoch 11 | loss: 0.33584 | train_mse: 0.47469 | train_mae: 0.53646 |  0:00:01s\n",
      "epoch 12 | loss: 0.28941 | train_mse: 0.54345 | train_mae: 0.54495 |  0:00:01s\n",
      "epoch 13 | loss: 0.44666 | train_mse: 0.67939 | train_mae: 0.58399 |  0:00:01s\n"
     ]
    },
    {
     "name": "stdout",
     "output_type": "stream",
     "text": [
      "epoch 14 | loss: 0.33228 | train_mse: 0.59401 | train_mae: 0.54213 |  0:00:01s\n",
      "epoch 15 | loss: 0.24174 | train_mse: 0.44909 | train_mae: 0.47045 |  0:00:01s\n",
      "epoch 16 | loss: 0.23684 | train_mse: 0.40787 | train_mae: 0.43715 |  0:00:01s\n"
     ]
    },
    {
     "name": "stdout",
     "output_type": "stream",
     "text": [
      "epoch 17 | loss: 0.19549 | train_mse: 0.42984 | train_mae: 0.44223 |  0:00:01s\n",
      "epoch 18 | loss: 0.22347 | train_mse: 0.48561 | train_mae: 0.46746 |  0:00:01s\n",
      "epoch 19 | loss: 0.29132 | train_mse: 0.39251 | train_mae: 0.40739 |  0:00:02s\n"
     ]
    },
    {
     "name": "stdout",
     "output_type": "stream",
     "text": [
      "epoch 20 | loss: 0.35238 | train_mse: 0.32384 | train_mae: 0.37387 |  0:00:02s\n",
      "epoch 21 | loss: 0.28878 | train_mse: 0.3073  | train_mae: 0.36341 |  0:00:02s\n",
      "epoch 22 | loss: 0.19356 | train_mse: 0.29236 | train_mae: 0.35689 |  0:00:02s\n"
     ]
    },
    {
     "name": "stdout",
     "output_type": "stream",
     "text": [
      "epoch 23 | loss: 0.14845 | train_mse: 0.26973 | train_mae: 0.33434 |  0:00:02s\n",
      "epoch 24 | loss: 0.1532  | train_mse: 0.20818 | train_mae: 0.27861 |  0:00:02s\n",
      "epoch 25 | loss: 0.21021 | train_mse: 0.17666 | train_mae: 0.26222 |  0:00:02s\n"
     ]
    },
    {
     "name": "stdout",
     "output_type": "stream",
     "text": [
      "epoch 26 | loss: 0.25995 | train_mse: 0.10626 | train_mae: 0.24391 |  0:00:02s\n",
      "epoch 27 | loss: 0.17272 | train_mse: 0.13582 | train_mae: 0.27631 |  0:00:02s\n",
      "epoch 28 | loss: 0.26352 | train_mse: 0.15194 | train_mae: 0.2801  |  0:00:02s\n"
     ]
    },
    {
     "name": "stdout",
     "output_type": "stream",
     "text": [
      "epoch 29 | loss: 0.17421 | train_mse: 0.19477 | train_mae: 0.33408 |  0:00:02s\n",
      "epoch 30 | loss: 0.14335 | train_mse: 0.22    | train_mae: 0.35658 |  0:00:03s\n",
      "epoch 31 | loss: 0.215   | train_mse: 0.21286 | train_mae: 0.34592 |  0:00:03s\n"
     ]
    },
    {
     "name": "stdout",
     "output_type": "stream",
     "text": [
      "epoch 32 | loss: 0.16365 | train_mse: 0.21445 | train_mae: 0.34895 |  0:00:03s\n",
      "epoch 33 | loss: 0.15025 | train_mse: 0.1932  | train_mae: 0.32943 |  0:00:03s\n",
      "epoch 34 | loss: 0.10413 | train_mse: 0.13493 | train_mae: 0.27523 |  0:00:03s\n"
     ]
    },
    {
     "name": "stdout",
     "output_type": "stream",
     "text": [
      "epoch 35 | loss: 0.1451  | train_mse: 0.11131 | train_mae: 0.24796 |  0:00:03s\n",
      "epoch 36 | loss: 0.16092 | train_mse: 0.10926 | train_mae: 0.24463 |  0:00:03s\n",
      "epoch 37 | loss: 0.15952 | train_mse: 0.11079 | train_mae: 0.24274 |  0:00:03s\n"
     ]
    },
    {
     "name": "stdout",
     "output_type": "stream",
     "text": [
      "epoch 38 | loss: 0.30813 | train_mse: 0.13433 | train_mae: 0.27038 |  0:00:03s\n",
      "epoch 39 | loss: 0.21743 | train_mse: 0.09294 | train_mae: 0.23512 |  0:00:03s\n",
      "epoch 40 | loss: 0.16983 | train_mse: 0.08642 | train_mae: 0.22572 |  0:00:03s\n"
     ]
    },
    {
     "name": "stdout",
     "output_type": "stream",
     "text": [
      "epoch 41 | loss: 0.16302 | train_mse: 0.10981 | train_mae: 0.25842 |  0:00:03s\n",
      "epoch 42 | loss: 0.23783 | train_mse: 0.12158 | train_mae: 0.2753  |  0:00:04s\n",
      "epoch 43 | loss: 0.16123 | train_mse: 0.11058 | train_mae: 0.26578 |  0:00:04s\n"
     ]
    },
    {
     "name": "stdout",
     "output_type": "stream",
     "text": [
      "epoch 44 | loss: 0.11718 | train_mse: 0.0956  | train_mae: 0.24589 |  0:00:04s\n",
      "epoch 45 | loss: 0.13295 | train_mse: 0.08842 | train_mae: 0.24066 |  0:00:04s\n",
      "epoch 46 | loss: 0.1203  | train_mse: 0.08539 | train_mae: 0.24636 |  0:00:04s\n"
     ]
    },
    {
     "name": "stdout",
     "output_type": "stream",
     "text": [
      "epoch 47 | loss: 0.12009 | train_mse: 0.19424 | train_mae: 0.29157 |  0:00:04s\n",
      "epoch 48 | loss: 0.2019  | train_mse: 0.10661 | train_mae: 0.2585  |  0:00:04s\n",
      "epoch 49 | loss: 0.10256 | train_mse: 0.07841 | train_mae: 0.23073 |  0:00:04s\n"
     ]
    },
    {
     "name": "stdout",
     "output_type": "stream",
     "text": [
      "epoch 50 | loss: 0.10623 | train_mse: 0.06556 | train_mae: 0.20945 |  0:00:04s\n",
      "epoch 51 | loss: 0.1512  | train_mse: 0.06728 | train_mae: 0.20803 |  0:00:04s\n",
      "epoch 52 | loss: 0.10678 | train_mse: 0.05916 | train_mae: 0.19843 |  0:00:04s\n"
     ]
    },
    {
     "name": "stdout",
     "output_type": "stream",
     "text": [
      "epoch 53 | loss: 0.28849 | train_mse: 0.06864 | train_mae: 0.2053  |  0:00:04s\n",
      "epoch 54 | loss: 0.11261 | train_mse: 0.06296 | train_mae: 0.19752 |  0:00:05s\n",
      "epoch 55 | loss: 0.11612 | train_mse: 0.07264 | train_mae: 0.21909 |  0:00:05s\n"
     ]
    },
    {
     "name": "stdout",
     "output_type": "stream",
     "text": [
      "epoch 56 | loss: 0.13757 | train_mse: 0.08442 | train_mae: 0.23049 |  0:00:05s\n",
      "epoch 57 | loss: 0.10537 | train_mse: 0.06359 | train_mae: 0.20685 |  0:00:05s\n",
      "epoch 58 | loss: 0.108   | train_mse: 0.06862 | train_mae: 0.21502 |  0:00:05s\n"
     ]
    },
    {
     "name": "stdout",
     "output_type": "stream",
     "text": [
      "epoch 59 | loss: 0.16373 | train_mse: 0.08035 | train_mae: 0.22371 |  0:00:05s\n",
      "epoch 60 | loss: 0.10902 | train_mse: 0.0787  | train_mae: 0.2261  |  0:00:05s\n",
      "epoch 61 | loss: 0.1962  | train_mse: 0.09344 | train_mae: 0.24357 |  0:00:05s\n"
     ]
    },
    {
     "name": "stdout",
     "output_type": "stream",
     "text": [
      "epoch 62 | loss: 0.12183 | train_mse: 0.09926 | train_mae: 0.2419  |  0:00:05s\n",
      "epoch 63 | loss: 0.14463 | train_mse: 0.08757 | train_mae: 0.22654 |  0:00:05s\n",
      "epoch 64 | loss: 0.12666 | train_mse: 0.06603 | train_mae: 0.20178 |  0:00:05s\n"
     ]
    },
    {
     "name": "stdout",
     "output_type": "stream",
     "text": [
      "epoch 65 | loss: 0.1287  | train_mse: 0.05892 | train_mae: 0.19548 |  0:00:06s\n",
      "epoch 66 | loss: 0.11527 | train_mse: 0.06199 | train_mae: 0.20238 |  0:00:06s\n"
     ]
    },
    {
     "name": "stdout",
     "output_type": "stream",
     "text": [
      "epoch 67 | loss: 0.17378 | train_mse: 0.05426 | train_mae: 0.18829 |  0:00:06s\n",
      "epoch 68 | loss: 0.24477 | train_mse: 0.05981 | train_mae: 0.19286 |  0:00:06s\n"
     ]
    },
    {
     "name": "stdout",
     "output_type": "stream",
     "text": [
      "epoch 69 | loss: 0.09981 | train_mse: 0.13138 | train_mae: 0.26542 |  0:00:06s\n",
      "epoch 70 | loss: 0.16846 | train_mse: 0.11974 | train_mae: 0.26473 |  0:00:06s\n",
      "epoch 71 | loss: 0.12047 | train_mse: 0.08463 | train_mae: 0.21332 |  0:00:06s\n"
     ]
    },
    {
     "name": "stdout",
     "output_type": "stream",
     "text": [
      "epoch 72 | loss: 0.10982 | train_mse: 0.06977 | train_mae: 0.20033 |  0:00:06s\n",
      "epoch 73 | loss: 0.2383  | train_mse: 0.09158 | train_mae: 0.24398 |  0:00:06s\n",
      "epoch 74 | loss: 0.09142 | train_mse: 0.06892 | train_mae: 0.2042  |  0:00:07s\n"
     ]
    },
    {
     "name": "stdout",
     "output_type": "stream",
     "text": [
      "epoch 75 | loss: 0.07747 | train_mse: 0.08125 | train_mae: 0.2207  |  0:00:07s\n",
      "epoch 76 | loss: 0.14261 | train_mse: 0.0812  | train_mae: 0.21886 |  0:00:07s\n",
      "epoch 77 | loss: 0.21104 | train_mse: 0.0768  | train_mae: 0.20844 |  0:00:07s\n"
     ]
    },
    {
     "name": "stdout",
     "output_type": "stream",
     "text": [
      "epoch 78 | loss: 0.12512 | train_mse: 0.07835 | train_mae: 0.21948 |  0:00:07s\n",
      "epoch 79 | loss: 0.07425 | train_mse: 0.06718 | train_mae: 0.19304 |  0:00:07s\n",
      "epoch 80 | loss: 0.06661 | train_mse: 0.07146 | train_mae: 0.20242 |  0:00:07s\n"
     ]
    },
    {
     "name": "stdout",
     "output_type": "stream",
     "text": [
      "epoch 81 | loss: 0.10526 | train_mse: 0.07098 | train_mae: 0.20694 |  0:00:07s\n",
      "epoch 82 | loss: 0.09717 | train_mse: 0.05769 | train_mae: 0.18274 |  0:00:07s\n",
      "epoch 83 | loss: 0.1984  | train_mse: 0.0792  | train_mae: 0.20447 |  0:00:07s\n"
     ]
    },
    {
     "name": "stdout",
     "output_type": "stream",
     "text": [
      "epoch 84 | loss: 0.07946 | train_mse: 0.07533 | train_mae: 0.19965 |  0:00:07s\n",
      "epoch 85 | loss: 0.13306 | train_mse: 0.07112 | train_mae: 0.20018 |  0:00:07s\n",
      "epoch 86 | loss: 0.06938 | train_mse: 0.06391 | train_mae: 0.19361 |  0:00:08s\n"
     ]
    },
    {
     "name": "stdout",
     "output_type": "stream",
     "text": [
      "epoch 87 | loss: 0.13452 | train_mse: 0.04674 | train_mae: 0.17007 |  0:00:08s\n",
      "epoch 88 | loss: 0.08373 | train_mse: 0.05412 | train_mae: 0.17622 |  0:00:08s\n",
      "epoch 89 | loss: 0.11792 | train_mse: 0.06367 | train_mae: 0.18688 |  0:00:08s\n"
     ]
    },
    {
     "name": "stdout",
     "output_type": "stream",
     "text": [
      "epoch 90 | loss: 0.12914 | train_mse: 0.07467 | train_mae: 0.19888 |  0:00:08s\n",
      "epoch 91 | loss: 0.15486 | train_mse: 0.0683  | train_mae: 0.19006 |  0:00:08s\n",
      "epoch 92 | loss: 0.08584 | train_mse: 0.0522  | train_mae: 0.16829 |  0:00:08s\n"
     ]
    },
    {
     "name": "stdout",
     "output_type": "stream",
     "text": [
      "epoch 93 | loss: 0.08978 | train_mse: 0.04946 | train_mae: 0.17484 |  0:00:08s\n",
      "epoch 94 | loss: 0.14837 | train_mse: 0.04246 | train_mae: 0.16196 |  0:00:08s\n"
     ]
    },
    {
     "name": "stdout",
     "output_type": "stream",
     "text": [
      "epoch 95 | loss: 0.07962 | train_mse: 0.04847 | train_mae: 0.1708  |  0:00:08s\n",
      "epoch 96 | loss: 0.10776 | train_mse: 0.05346 | train_mae: 0.17979 |  0:00:09s\n",
      "epoch 97 | loss: 0.07825 | train_mse: 0.05399 | train_mae: 0.18182 |  0:00:09s\n"
     ]
    },
    {
     "name": "stdout",
     "output_type": "stream",
     "text": [
      "epoch 98 | loss: 0.07913 | train_mse: 0.06172 | train_mae: 0.1956  |  0:00:09s\n",
      "epoch 99 | loss: 0.09727 | train_mse: 0.05997 | train_mae: 0.1953  |  0:00:09s\n",
      "epoch 100| loss: 0.11549 | train_mse: 0.04705 | train_mae: 0.16566 |  0:00:09s\n"
     ]
    },
    {
     "name": "stdout",
     "output_type": "stream",
     "text": [
      "epoch 101| loss: 0.10702 | train_mse: 0.04579 | train_mae: 0.16232 |  0:00:09s\n",
      "epoch 102| loss: 0.10881 | train_mse: 0.04631 | train_mae: 0.16923 |  0:00:09s\n",
      "epoch 103| loss: 0.13439 | train_mse: 0.06071 | train_mae: 0.19918 |  0:00:09s\n"
     ]
    },
    {
     "name": "stdout",
     "output_type": "stream",
     "text": [
      "epoch 104| loss: 0.09364 | train_mse: 0.06523 | train_mae: 0.19887 |  0:00:09s\n",
      "epoch 105| loss: 0.12804 | train_mse: 0.05462 | train_mae: 0.17823 |  0:00:09s\n",
      "epoch 106| loss: 0.09142 | train_mse: 0.05815 | train_mae: 0.1819  |  0:00:09s\n"
     ]
    },
    {
     "name": "stdout",
     "output_type": "stream",
     "text": [
      "epoch 107| loss: 0.13426 | train_mse: 0.0753  | train_mae: 0.20774 |  0:00:09s\n",
      "epoch 108| loss: 0.07719 | train_mse: 0.07552 | train_mae: 0.2063  |  0:00:10s\n",
      "epoch 109| loss: 0.075   | train_mse: 0.07271 | train_mae: 0.19972 |  0:00:10s\n"
     ]
    },
    {
     "name": "stdout",
     "output_type": "stream",
     "text": [
      "epoch 110| loss: 0.07184 | train_mse: 0.05778 | train_mae: 0.18425 |  0:00:10s\n",
      "epoch 111| loss: 0.12715 | train_mse: 0.06583 | train_mae: 0.19515 |  0:00:10s\n",
      "epoch 112| loss: 0.1632  | train_mse: 0.07273 | train_mae: 0.20966 |  0:00:10s\n"
     ]
    },
    {
     "name": "stdout",
     "output_type": "stream",
     "text": [
      "epoch 113| loss: 0.16866 | train_mse: 0.06793 | train_mae: 0.20453 |  0:00:10s\n",
      "epoch 114| loss: 0.14127 | train_mse: 0.0489  | train_mae: 0.18254 |  0:00:10s\n",
      "epoch 115| loss: 0.07578 | train_mse: 0.05043 | train_mae: 0.18793 |  0:00:10s\n"
     ]
    },
    {
     "name": "stdout",
     "output_type": "stream",
     "text": [
      "epoch 116| loss: 0.11637 | train_mse: 0.05441 | train_mae: 0.18983 |  0:00:10s\n",
      "epoch 117| loss: 0.0724  | train_mse: 0.05277 | train_mae: 0.18574 |  0:00:10s\n",
      "epoch 118| loss: 0.1359  | train_mse: 0.0752  | train_mae: 0.21037 |  0:00:10s\n"
     ]
    },
    {
     "name": "stdout",
     "output_type": "stream",
     "text": [
      "epoch 119| loss: 0.13382 | train_mse: 0.07949 | train_mae: 0.22234 |  0:00:10s\n",
      "epoch 120| loss: 0.08923 | train_mse: 0.07047 | train_mae: 0.21221 |  0:00:11s\n",
      "epoch 121| loss: 0.09161 | train_mse: 0.05874 | train_mae: 0.19698 |  0:00:11s\n"
     ]
    },
    {
     "name": "stdout",
     "output_type": "stream",
     "text": [
      "epoch 122| loss: 0.08858 | train_mse: 0.05789 | train_mae: 0.19159 |  0:00:11s\n",
      "epoch 123| loss: 0.1538  | train_mse: 0.08242 | train_mae: 0.21636 |  0:00:11s\n",
      "epoch 124| loss: 0.12653 | train_mse: 0.06189 | train_mae: 0.20071 |  0:00:11s\n"
     ]
    },
    {
     "name": "stdout",
     "output_type": "stream",
     "text": [
      "epoch 125| loss: 0.07693 | train_mse: 0.07312 | train_mae: 0.21569 |  0:00:11s\n",
      "epoch 126| loss: 0.06232 | train_mse: 0.09454 | train_mae: 0.24046 |  0:00:11s\n",
      "epoch 127| loss: 0.09555 | train_mse: 0.1034  | train_mae: 0.25544 |  0:00:11s\n"
     ]
    },
    {
     "name": "stdout",
     "output_type": "stream",
     "text": [
      "epoch 128| loss: 0.05823 | train_mse: 0.11232 | train_mae: 0.26282 |  0:00:11s\n",
      "epoch 129| loss: 0.23798 | train_mse: 0.10802 | train_mae: 0.25266 |  0:00:11s\n",
      "epoch 130| loss: 0.26669 | train_mse: 0.06441 | train_mae: 0.2053  |  0:00:11s\n"
     ]
    },
    {
     "name": "stdout",
     "output_type": "stream",
     "text": [
      "epoch 131| loss: 0.11538 | train_mse: 0.06377 | train_mae: 0.20251 |  0:00:11s\n",
      "epoch 132| loss: 0.21742 | train_mse: 0.0659  | train_mae: 0.20647 |  0:00:12s\n",
      "epoch 133| loss: 0.07965 | train_mse: 0.08879 | train_mae: 0.22228 |  0:00:12s\n"
     ]
    },
    {
     "name": "stdout",
     "output_type": "stream",
     "text": [
      "epoch 134| loss: 0.15872 | train_mse: 0.10817 | train_mae: 0.23769 |  0:00:12s\n",
      "epoch 135| loss: 0.10081 | train_mse: 0.06438 | train_mae: 0.19392 |  0:00:12s\n",
      "epoch 136| loss: 0.08305 | train_mse: 0.04822 | train_mae: 0.17449 |  0:00:12s\n"
     ]
    },
    {
     "name": "stdout",
     "output_type": "stream",
     "text": [
      "epoch 137| loss: 0.14845 | train_mse: 0.04875 | train_mae: 0.16541 |  0:00:12s\n",
      "epoch 138| loss: 0.14296 | train_mse: 0.05441 | train_mae: 0.17676 |  0:00:12s\n",
      "epoch 139| loss: 0.14702 | train_mse: 0.04985 | train_mae: 0.16663 |  0:00:12s\n"
     ]
    },
    {
     "name": "stdout",
     "output_type": "stream",
     "text": [
      "epoch 140| loss: 0.10357 | train_mse: 0.05382 | train_mae: 0.17922 |  0:00:12s\n",
      "epoch 141| loss: 0.14871 | train_mse: 0.05546 | train_mae: 0.18181 |  0:00:12s\n",
      "epoch 142| loss: 0.15435 | train_mse: 0.05905 | train_mae: 0.17874 |  0:00:12s\n"
     ]
    },
    {
     "name": "stdout",
     "output_type": "stream",
     "text": [
      "epoch 143| loss: 0.08203 | train_mse: 0.04515 | train_mae: 0.16326 |  0:00:13s\n",
      "epoch 144| loss: 0.107   | train_mse: 0.05213 | train_mae: 0.17693 |  0:00:13s\n",
      "\n",
      "Early stopping occurred at epoch 144 with best_epoch = 94 and best_train_mae = 0.16196\n",
      "Best weights from best epoch are automatically used!\n"
     ]
    }
   ],
   "source": [
    "#Train the Model\n",
    "\n",
    "Y_train = np.reshape(Y_train, (-1, 1))\n",
    "Y_test = np.reshape(Y_test, (-1, 1))\n",
    "\n",
    "prior_model = TabNetRegressor(optimizer_fn=torch.optim.Adam, optimizer_params=dict(lr = 0.02),\n",
    "          #scheduler_params={\"step_size\":10, ], \"gamma\":0.9},\n",
    "          #scheduler_fn=torch.optim.lr_scheduler.StepLR\n",
    "          )  #TabNetRegressor()\n",
    "\n",
    "prior_model.fit(X_train,Y_train,eval_set=[(X_train, Y_train)],\n",
    "            eval_name=['train'], \n",
    "            eval_metric=[ 'mse', 'mae'], \n",
    "            max_epochs = n_epochs, \n",
    "            batch_size = batch_size,\n",
    "            patience=50\n",
    "            )"
   ]
  },
  {
   "cell_type": "code",
   "execution_count": 10,
   "id": "af65dcda",
   "metadata": {
    "execution": {
     "iopub.execute_input": "2022-06-22T13:52:17.656590Z",
     "iopub.status.busy": "2022-06-22T13:52:17.654359Z",
     "iopub.status.idle": "2022-06-22T13:52:17.676788Z",
     "shell.execute_reply": "2022-06-22T13:52:17.676235Z"
    },
    "id": "af65dcda",
    "papermill": {
     "duration": 0.062418,
     "end_time": "2022-06-22T13:52:17.676982",
     "exception": false,
     "start_time": "2022-06-22T13:52:17.614564",
     "status": "completed"
    },
    "tags": []
   },
   "outputs": [
    {
     "data": {
      "application/scrapbook.scrap.json+json": {
       "data": 0.21858775535330519,
       "encoder": "json",
       "name": "Prior Model MSE",
       "version": 1
      }
     },
     "metadata": {
      "scrapbook": {
       "data": true,
       "display": false,
       "name": "Prior Model MSE"
      }
     },
     "output_type": "display_data"
    },
    {
     "data": {
      "application/scrapbook.scrap.json+json": {
       "data": 0.2057302497922167,
       "encoder": "json",
       "name": "ABC Pre-generator MSE",
       "version": 1
      }
     },
     "metadata": {
      "scrapbook": {
       "data": true,
       "display": false,
       "name": "ABC Pre-generator MSE"
      }
     },
     "output_type": "display_data"
    },
    {
     "data": {
      "application/scrapbook.scrap.json+json": {
       "data": 0.36730847725129256,
       "encoder": "json",
       "name": "Prior Model MSE",
       "version": 1
      }
     },
     "metadata": {
      "scrapbook": {
       "data": true,
       "display": false,
       "name": "Prior Model MSE"
      }
     },
     "output_type": "display_data"
    },
    {
     "data": {
      "application/scrapbook.scrap.json+json": {
       "data": 0.36897384483889367,
       "encoder": "json",
       "name": "ABC Pre-generator MSE",
       "version": 1
      }
     },
     "metadata": {
      "scrapbook": {
       "data": true,
       "display": false,
       "name": "ABC Pre-generator MSE"
      }
     },
     "output_type": "display_data"
    }
   ],
   "source": [
    "y_pred = prior_model.predict(X_test)\n",
    "y_abc = y_pred + np.random.normal(0,variance, y_pred.shape) + bias \n",
    "mse = mean_squared_error(y_pred,Y_test)\n",
    "sb.glue(\"Prior Model MSE\",mse)\n",
    "mse = mean_squared_error(y_abc,Y_test)\n",
    "sb.glue(\"ABC Pre-generator MSE\",mse)\n",
    "mae = mean_absolute_error(y_pred,Y_test)\n",
    "sb.glue(\"Prior Model MSE\",mae)\n",
    "mae = mean_absolute_error(y_abc,Y_test)\n",
    "sb.glue(\"ABC Pre-generator MSE\",mae)"
   ]
  },
  {
   "cell_type": "markdown",
   "id": "25609da2",
   "metadata": {
    "papermill": {
     "duration": 0.041861,
     "end_time": "2022-06-22T13:52:17.752207",
     "exception": false,
     "start_time": "2022-06-22T13:52:17.710346",
     "status": "completed"
    },
    "tags": []
   },
   "source": [
    "# ABC GAN Model"
   ]
  },
  {
   "cell_type": "code",
   "execution_count": 11,
   "id": "dfc3464d",
   "metadata": {
    "execution": {
     "iopub.execute_input": "2022-06-22T13:52:17.833239Z",
     "iopub.status.busy": "2022-06-22T13:52:17.832436Z",
     "iopub.status.idle": "2022-06-22T13:52:17.834848Z",
     "shell.execute_reply": "2022-06-22T13:52:17.835357Z"
    },
    "papermill": {
     "duration": 0.045416,
     "end_time": "2022-06-22T13:52:17.835572",
     "exception": false,
     "start_time": "2022-06-22T13:52:17.790156",
     "status": "completed"
    },
    "tags": []
   },
   "outputs": [],
   "source": [
    "gen = network.Generator(n_features+1).to(device)\n",
    "disc = network.Discriminator(n_features+1).to(device)\n",
    "\n",
    "criterion = torch.nn.BCELoss()\n",
    "gen_opt = torch.optim.Adam(gen.parameters(), lr=0.001, betas=(0.5, 0.999))\n",
    "disc_opt = torch.optim.Adam(disc.parameters(), lr=0.001, betas=(0.5, 0.999))"
   ]
  },
  {
   "cell_type": "code",
   "execution_count": 12,
   "id": "b75fdd85",
   "metadata": {
    "execution": {
     "iopub.execute_input": "2022-06-22T13:52:17.918280Z",
     "iopub.status.busy": "2022-06-22T13:52:17.917454Z",
     "iopub.status.idle": "2022-06-22T13:53:09.801373Z",
     "shell.execute_reply": "2022-06-22T13:53:09.802123Z"
    },
    "papermill": {
     "duration": 51.932202,
     "end_time": "2022-06-22T13:53:09.802344",
     "exception": false,
     "start_time": "2022-06-22T13:52:17.870142",
     "status": "completed"
    },
    "tags": []
   },
   "outputs": [
    {
     "data": {
      "image/png": "[encoded data removed]",
      "text/plain": [
       "<Figure size 432x288 with 1 Axes>"
      ]
     },
     "metadata": {
      "needs_background": "light"
     },
     "output_type": "display_data"
    },
    {
     "data": {
      "image/png": "[encoded data removed]",
      "text/plain": [
       "<Figure size 432x288 with 1 Axes>"
      ]
     },
     "metadata": {
      "needs_background": "light"
     },
     "output_type": "display_data"
    }
   ],
   "source": [
    "#Training the ABC_GAN \n",
    "ABC_train_test2.training_GAN(disc,gen,disc_opt,gen_opt,train_data,batch_size,n_epochs,criterion,prior_model,variance,bias,device)"
   ]
  },
  {
   "cell_type": "code",
   "execution_count": 13,
   "id": "1fa7c368",
   "metadata": {
    "execution": {
     "iopub.execute_input": "2022-06-22T13:53:09.900167Z",
     "iopub.status.busy": "2022-06-22T13:53:09.899452Z",
     "iopub.status.idle": "2022-06-22T13:53:10.728651Z",
     "shell.execute_reply": "2022-06-22T13:53:10.729509Z"
    },
    "papermill": {
     "duration": 0.887928,
     "end_time": "2022-06-22T13:53:10.729889",
     "exception": false,
     "start_time": "2022-06-22T13:53:09.841961",
     "status": "completed"
    },
    "tags": []
   },
   "outputs": [
    {
     "data": {
      "application/scrapbook.scrap.json+json": {
       "data": 0.1724042547028717,
       "encoder": "json",
       "name": "ABC-GAN Model 1 MSE",
       "version": 1
      }
     },
     "metadata": {
      "scrapbook": {
       "data": true,
       "display": false,
       "name": "ABC-GAN Model 1 MSE"
      }
     },
     "output_type": "display_data"
    },
    {
     "data": {
      "application/scrapbook.scrap.json+json": {
       "data": 0.33581038094311955,
       "encoder": "json",
       "name": "ABC-GAN Model 1 MAE",
       "version": 1
      }
     },
     "metadata": {
      "scrapbook": {
       "data": true,
       "display": false,
       "name": "ABC-GAN Model 1 MAE"
      }
     },
     "output_type": "display_data"
    },
    {
     "data": {
      "application/scrapbook.scrap.json+json": {
       "data": 6.7162076188623905,
       "encoder": "json",
       "name": "ABC-GAN Model 1 Manhattan Distance",
       "version": 1
      }
     },
     "metadata": {
      "scrapbook": {
       "data": true,
       "display": false,
       "name": "ABC-GAN Model 1 Manhattan Distance"
      }
     },
     "output_type": "display_data"
    },
    {
     "data": {
      "application/scrapbook.scrap.json+json": {
       "data": 1.855431321901744,
       "encoder": "json",
       "name": "ABC-GAN Model 1 Euclidean distance",
       "version": 1
      }
     },
     "metadata": {
      "scrapbook": {
       "data": true,
       "display": false,
       "name": "ABC-GAN Model 1 Euclidean distance"
      }
     },
     "output_type": "display_data"
    },
    {
     "data": {
      "application/scrapbook.scrap.json+json": {
       "data": [
        [
         0.17794600521819604,
         0.17011631387116002,
         0.178163441557408,
         0.1495328125222218,
         0.1766687881489776,
         0.17949083739739663,
         0.1691355715345204,
         0.14524003104583602,
         0.16904095965312066,
         0.19716297271737657,
         0.18167218043576186,
         0.1809738781294953,
         0.18344238499809892,
         0.15252866192722916,
         0.19102835377874902,
         0.1811058594263383,
         0.18371775859605388,
         0.1823263710971616,
         0.161742663194349,
         0.1878022276186973,
         0.1877289849608336,
         0.1901998772959657,
         0.16607535551159475,
         0.18109937408329543,
         0.13969277422062626,
         0.13996187258269624,
         0.18786052682519278,
         0.16454248939908206,
         0.16905572323101029,
         0.173211292953042,
         0.1904102619974414,
         0.15997853819243377,
         0.19392710971859778,
         0.17092249563522383,
         0.18457622544109728,
         0.16197979055374803,
         0.17338159112394336,
         0.21233501733187304,
         0.1703126628581651,
         0.17875295720866466,
         0.17184113874923848,
         0.16529187771782086,
         0.1633243022226245,
         0.1788266194597313,
         0.18227667361824476,
         0.18145318611240224,
         0.16644933289166675,
         0.14976480367170253,
         0.1568116491287682,
         0.1633429690678161,
         0.16193328178734984,
         0.17458188239831993,
         0.1613056408262969,
         0.1634890554697756,
         0.19270198409330033,
         0.1597722448257662,
         0.1858991827763336,
         0.16961641324123494,
         0.1684177764232931,
         0.15682858562501645,
         0.15582359563322273,
         0.15481280246063908,
         0.16265266590943547,
         0.1887647669552804,
         0.1656530584059141,
         0.18204722683117977,
         0.1950547291250555,
         0.17532040876089372,
         0.17194137245637622,
         0.1701628678579227,
         0.16262424471613918,
         0.1693179047606162,
         0.18806338631804484,
         0.1660397653668145,
         0.15383640065366117,
         0.17857330521349843,
         0.16075025569269133,
         0.19100638762367977,
         0.163166840905613,
         0.18740517271979135,
         0.20233052706048293,
         0.16663306553247215,
         0.15437398345464864,
         0.18138956162471165,
         0.1809976201902593,
         0.18644701728827706,
         0.1523598643700094,
         0.16629357161971195,
         0.1672958412647402,
         0.17912635206229646,
         0.16618979880603182,
         0.18961057852445465,
         0.1512226798528474,
         0.16578299915368092,
         0.1763227703323227,
         0.18290481093595473,
         0.15947711161846256,
         0.16101071245033896,
         0.16878498405271053,
         0.17008286762690913
        ],
        [
         0.3403686720877886,
         0.33409711308777335,
         0.33372632749378683,
         0.3139299649745226,
         0.3356034453958273,
         0.3374421466141939,
         0.3361067947000265,
         0.3037188157439232,
         0.32071237824857235,
         0.3666847627609968,
         0.34943372644484044,
         0.3413952190428972,
         0.33861251287162303,
         0.31457724757492544,
         0.3632993001490831,
         0.3463295202702284,
         0.34813721738755704,
         0.3300667341798544,
         0.3361787360161543,
         0.3505218576639891,
         0.34662275947630405,
         0.34285682439804077,
         0.3452455621212721,
         0.3414483595639467,
         0.3054919715970755,
         0.31009703390300275,
         0.3391043733805418,
         0.3291415382176638,
         0.3426238242536783,
         0.3439466208219528,
         0.35675543658435344,
         0.330840028449893,
         0.3623274568468332,
         0.3397777359932661,
         0.3496930401772261,
         0.3299949672073126,
         0.3420569900423288,
         0.3743232350796461,
         0.32792067565023897,
         0.33388636969029906,
         0.3356071446090937,
         0.3283211622387171,
         0.32508869729936124,
         0.33180006928741934,
         0.3386696521192789,
         0.33921493254601953,
         0.32131942734122276,
         0.31848902367055415,
         0.33027941174805164,
         0.3255656335502863,
         0.32584757544100285,
         0.33874519281089305,
         0.3279502119868994,
         0.32203733213245866,
         0.34737325422465803,
         0.32317761965096,
         0.34805641807615756,
         0.3338809166103601,
         0.3335325922816992,
         0.3234473761171103,
         0.32090005464851856,
         0.3185288358479738,
         0.32435165122151377,
         0.3445879157632589,
         0.32734703309834,
         0.3381507683545351,
         0.3497128918766975,
         0.35022649317979815,
         0.3452486123889685,
         0.3396698828786612,
         0.33635542877018454,
         0.3267011154443026,
         0.3512876745313406,
         0.3226274821907282,
         0.3186902400106192,
         0.3429080244153738,
         0.32938273437321186,
         0.34964437149465083,
         0.33637920022010803,
         0.3577713962644339,
         0.36331267207860946,
         0.3283494129776955,
         0.3193765845149755,
         0.34441306702792646,
         0.33872157596051694,
         0.34483521841466425,
         0.32194890044629576,
         0.3286718871444464,
         0.3333712533116341,
         0.3435138460248709,
         0.32210551388561726,
         0.33744602240622046,
         0.33065748400986195,
         0.33038072772324084,
         0.34514637254178526,
         0.3448165152221918,
         0.3245711516588926,
         0.32875128351151944,
         0.33687304370105264,
         0.32980281487107277
        ],
        [
         6.807373441755772,
         6.6819422617554665,
         6.674526549875736,
         6.278599299490452,
         6.712068907916546,
         6.748842932283878,
         6.72213589400053,
         6.074376314878464,
         6.414247564971447,
         7.333695255219936,
         6.988674528896809,
         6.8279043808579445,
         6.772250257432461,
         6.2915449514985085,
         7.265986002981663,
         6.926590405404568,
         6.962744347751141,
         6.601334683597088,
         6.723574720323086,
         7.010437153279781,
         6.932455189526081,
         6.857136487960815,
         6.904911242425442,
         6.8289671912789345,
         6.109839431941509,
         6.201940678060055,
         6.782087467610836,
         6.582830764353275,
         6.852476485073566,
         6.878932416439056,
         7.135108731687069,
         6.61680056899786,
         7.246549136936665,
         6.795554719865322,
         6.993860803544521,
         6.599899344146252,
         6.841139800846577,
         7.486464701592922,
         6.55841351300478,
         6.677727393805981,
         6.712142892181873,
         6.566423244774342,
         6.501773945987225,
         6.636001385748386,
         6.773393042385578,
         6.784298650920391,
         6.426388546824455,
         6.369780473411083,
         6.605588234961033,
         6.511312671005726,
         6.516951508820057,
         6.774903856217861,
         6.5590042397379875,
         6.440746642649174,
         6.94746508449316,
         6.463552393019199,
         6.961128361523151,
         6.677618332207203,
         6.670651845633984,
         6.468947522342205,
         6.418001092970371,
         6.3705767169594765,
         6.487033024430275,
         6.891758315265179,
         6.546940661966801,
         6.763015367090702,
         6.994257837533951,
         7.0045298635959625,
         6.904972247779369,
         6.793397657573223,
         6.72710857540369,
         6.534022308886051,
         7.025753490626812,
         6.452549643814564,
         6.373804800212383,
         6.858160488307476,
         6.587654687464237,
         6.992887429893017,
         6.727584004402161,
         7.155427925288677,
         7.266253441572189,
         6.566988259553909,
         6.387531690299511,
         6.888261340558529,
         6.774431519210339,
         6.896704368293285,
         6.438978008925915,
         6.5734377428889275,
         6.667425066232681,
         6.8702769204974174,
         6.442110277712345,
         6.748920448124409,
         6.613149680197239,
         6.607614554464817,
         6.902927450835705,
         6.896330304443836,
         6.491423033177853,
         6.575025670230389,
         6.737460874021053,
         6.596056297421455
        ],
        [
         1.886510032934869,
         1.844539584130197,
         1.8876622661769134,
         1.7293513958835653,
         1.8797275767992425,
         1.8946811731655362,
         1.8392148951904475,
         1.7043475645879043,
         1.8387004087296042,
         1.985764199079924,
         1.9061593870175801,
         1.902492460586876,
         1.9154236345941797,
         1.7465890296645583,
         1.9546270937380819,
         1.9031860625085413,
         1.9168607596591565,
         1.9095882859776954,
         1.7985697828794356,
         1.9380517414078362,
         1.9376737855523236,
         1.9503839483341001,
         1.822500236003248,
         1.903151985960635,
         1.671483019480762,
         1.6730921826528042,
         1.9383525315338939,
         1.8140699512371736,
         1.8387807005241832,
         1.8612430951009167,
         1.9514623337253598,
         1.788734402824711,
         1.9694014812556517,
         1.8489050577854118,
         1.9213340440490678,
         1.7998877217968239,
         1.8621578403773584,
         2.0607523739249847,
         1.845603764940704,
         1.8907826803134444,
         1.8538669787729565,
         1.8181962364817548,
         1.8073422599088669,
         1.8911722262117288,
         1.909328015916829,
         1.9050101632925858,
         1.8245510839199146,
         1.7306923682255175,
         1.7709412702219585,
         1.8074455403569762,
         1.7996293050923005,
         1.8685924242505103,
         1.79613830662506,
         1.8082536075991975,
         1.9631708234043226,
         1.7875807384605944,
         1.9282073683934184,
         1.8418274253644664,
         1.8353080200516374,
         1.7710369032011526,
         1.7653531977098675,
         1.7596181543769038,
         1.80362227702718,
         1.9430119245917172,
         1.8201816305298442,
         1.9081259226328842,
         1.9751188780681306,
         1.8725405670419732,
         1.8544075736276329,
         1.8447919549798708,
         1.8034646917316635,
         1.84020599260309,
         1.939398805393284,
         1.8223049435635876,
         1.7540604359808198,
         1.88983229527648,
         1.7930435337307977,
         1.9545147102218483,
         1.806470818505591,
         1.9360019252045768,
         2.0116188856763246,
         1.8255578080820785,
         1.7571225538057877,
         1.9046761489802495,
         1.9026172510006278,
         1.9310464380137369,
         1.745622320950379,
         1.8236971876915966,
         1.8291847433473756,
         1.8927564664388097,
         1.8231280745248362,
         1.9473601542829957,
         1.7390956261968311,
         1.820895379497026,
         1.8778858875465394,
         1.9126150210429425,
         1.7859289550173185,
         1.794495541651408,
         1.8373077262816402,
         1.8443582495107025
        ]
       ],
       "encoder": "json",
       "name": "ABC_GAN_1 Metrics",
       "version": 1
      }
     },
     "metadata": {
      "scrapbook": {
       "data": true,
       "display": false,
       "name": "ABC_GAN_1 Metrics"
      }
     },
     "output_type": "display_data"
    },
    {
     "name": "stdout",
     "output_type": "stream",
     "text": [
      "MSE\n",
      "0.1724042547028717\n"
     ]
    }
   ],
   "source": [
    "ABC_GAN1_metrics=ABC_train_test2.test_generator(gen,test_data,prior_model,variance,bias,\"1\",device)\n",
    "sb.glue(\"ABC_GAN_1 Metrics\",ABC_GAN1_metrics)\n",
    "\n",
    "print(\"MSE\")\n",
    "print(mean(ABC_GAN1_metrics[0]))"
   ]
  },
  {
   "cell_type": "code",
   "execution_count": 14,
   "id": "eb22ce5c",
   "metadata": {
    "execution": {
     "iopub.execute_input": "2022-06-22T13:53:10.831548Z",
     "iopub.status.busy": "2022-06-22T13:53:10.830597Z",
     "iopub.status.idle": "2022-06-22T13:53:11.759937Z",
     "shell.execute_reply": "2022-06-22T13:53:11.760548Z"
    },
    "papermill": {
     "duration": 0.987361,
     "end_time": "2022-06-22T13:53:11.760774",
     "exception": false,
     "start_time": "2022-06-22T13:53:10.773413",
     "status": "completed"
    },
    "tags": []
   },
   "outputs": [
    {
     "data": {
      "image/png": "[encoded data removed]",
      "text/plain": [
       "<Figure size 432x288 with 1 Axes>"
      ]
     },
     "metadata": {
      "needs_background": "light"
     },
     "output_type": "display_data"
    },
    {
     "data": {
      "image/png": "[encoded data removed]",
      "text/plain": [
       "<Figure size 432x288 with 1 Axes>"
      ]
     },
     "metadata": {
      "needs_background": "light"
     },
     "output_type": "display_data"
    },
    {
     "data": {
      "image/png": "[encoded data removed]",
      "text/plain": [
       "<Figure size 432x288 with 1 Axes>"
      ]
     },
     "metadata": {
      "needs_background": "light"
     },
     "output_type": "display_data"
    },
    {
     "data": {
      "image/png": "[encoded data removed]",
      "text/plain": [
       "<Figure size 432x288 with 1 Axes>"
      ]
     },
     "metadata": {
      "needs_background": "light"
     },
     "output_type": "display_data"
    }
   ],
   "source": [
    "sanityChecks.discProbVsError(train_data,disc,device)\n",
    "sanityChecks.discProbVsError(test_data,disc,device)"
   ]
  },
  {
   "cell_type": "markdown",
   "id": "130f3a4d",
   "metadata": {
    "id": "130f3a4d",
    "papermill": {
     "duration": 0.048956,
     "end_time": "2022-06-22T13:53:11.851939",
     "exception": false,
     "start_time": "2022-06-22T13:53:11.802983",
     "status": "completed"
    },
    "tags": []
   },
   "source": [
    "# ABC - GAN Model with skip connection"
   ]
  },
  {
   "cell_type": "code",
   "execution_count": 15,
   "id": "4e43dad1",
   "metadata": {
    "execution": {
     "iopub.execute_input": "2022-06-22T13:53:11.967921Z",
     "iopub.status.busy": "2022-06-22T13:53:11.966905Z",
     "iopub.status.idle": "2022-06-22T13:53:11.970895Z",
     "shell.execute_reply": "2022-06-22T13:53:11.971624Z"
    },
    "id": "4e43dad1",
    "papermill": {
     "duration": 0.071866,
     "end_time": "2022-06-22T13:53:11.971852",
     "exception": false,
     "start_time": "2022-06-22T13:53:11.899986",
     "status": "completed"
    },
    "tags": []
   },
   "outputs": [],
   "source": [
    "#Generator\n",
    "gen3 = network.GeneratorWithSkipConnection(n_features+1).to(device)\n",
    "constraints=network.weightConstraint()\n",
    "#Discriminator \n",
    "disc3 = network.Discriminator(n_features+1).to(device)\n",
    "\n",
    "criterion = torch.nn.BCELoss()\n",
    "gen_opt = torch.optim.Adam(gen3.parameters(), lr=0.001, betas=(0.5, 0.999))\n",
    "disc_opt = torch.optim.Adam(disc3.parameters(), lr=0.001, betas=(0.5, 0.999))\n"
   ]
  },
  {
   "cell_type": "code",
   "execution_count": 16,
   "id": "26acbc37",
   "metadata": {
    "execution": {
     "iopub.execute_input": "2022-06-22T13:53:12.083800Z",
     "iopub.status.busy": "2022-06-22T13:53:12.082465Z",
     "iopub.status.idle": "2022-06-22T13:54:47.811149Z",
     "shell.execute_reply": "2022-06-22T13:54:47.811750Z"
    },
    "id": "26acbc37",
    "papermill": {
     "duration": 95.793349,
     "end_time": "2022-06-22T13:54:47.811970",
     "exception": false,
     "start_time": "2022-06-22T13:53:12.018621",
     "status": "completed"
    },
    "tags": []
   },
   "outputs": [
    {
     "data": {
      "image/png": "[encoded data removed]",
      "text/plain": [
       "<Figure size 432x288 with 1 Axes>"
      ]
     },
     "metadata": {
      "needs_background": "light"
     },
     "output_type": "display_data"
    },
    {
     "data": {
      "image/png": "[encoded data removed]",
      "text/plain": [
       "<Figure size 432x288 with 1 Axes>"
      ]
     },
     "metadata": {
      "needs_background": "light"
     },
     "output_type": "display_data"
    }
   ],
   "source": [
    "ABC_train_test2.training_GAN_skip_connection(disc3,gen3,disc_opt,gen_opt,train_data,batch_size,n_epochs,criterion,prior_model,variance,bias,device)"
   ]
  },
  {
   "cell_type": "code",
   "execution_count": 17,
   "id": "c5e0717b",
   "metadata": {
    "execution": {
     "iopub.execute_input": "2022-06-22T13:54:47.926281Z",
     "iopub.status.busy": "2022-06-22T13:54:47.925427Z",
     "iopub.status.idle": "2022-06-22T13:54:49.008637Z",
     "shell.execute_reply": "2022-06-22T13:54:49.009458Z"
    },
    "id": "c5e0717b",
    "papermill": {
     "duration": 1.145681,
     "end_time": "2022-06-22T13:54:49.009745",
     "exception": false,
     "start_time": "2022-06-22T13:54:47.864064",
     "status": "completed"
    },
    "tags": []
   },
   "outputs": [
    {
     "data": {
      "application/scrapbook.scrap.json+json": {
       "data": 0.2973274919033122,
       "encoder": "json",
       "name": "ABC-GAN Model 3 MSE",
       "version": 1
      }
     },
     "metadata": {
      "scrapbook": {
       "data": true,
       "display": false,
       "name": "ABC-GAN Model 3 MSE"
      }
     },
     "output_type": "display_data"
    },
    {
     "data": {
      "application/scrapbook.scrap.json+json": {
       "data": 0.42747906552813947,
       "encoder": "json",
       "name": "ABC-GAN Model 3 MAE",
       "version": 1
      }
     },
     "metadata": {
      "scrapbook": {
       "data": true,
       "display": false,
       "name": "ABC-GAN Model 3 MAE"
      }
     },
     "output_type": "display_data"
    },
    {
     "data": {
      "application/scrapbook.scrap.json+json": {
       "data": 8.54958131056279,
       "encoder": "json",
       "name": "ABC-GAN Model 3 Manhattan Distance",
       "version": 1
      }
     },
     "metadata": {
      "scrapbook": {
       "data": true,
       "display": false,
       "name": "ABC-GAN Model 3 Manhattan Distance"
      }
     },
     "output_type": "display_data"
    },
    {
     "data": {
      "application/scrapbook.scrap.json+json": {
       "data": 2.4379910206532105,
       "encoder": "json",
       "name": "ABC-GAN Model 3 Euclidean distance",
       "version": 1
      }
     },
     "metadata": {
      "scrapbook": {
       "data": true,
       "display": false,
       "name": "ABC-GAN Model 3 Euclidean distance"
      }
     },
     "output_type": "display_data"
    },
    {
     "data": {
      "application/scrapbook.scrap.json+json": {
       "data": [
        [
         0.2990012139051927,
         0.2818227872799529,
         0.2936463213364991,
         0.2936288525831391,
         0.31345915559211873,
         0.3011071398296331,
         0.30621729640221734,
         0.2873997720940226,
         0.2926009754895059,
         0.2915561593695194,
         0.2924596372698987,
         0.3001507908513849,
         0.31239685456156685,
         0.3019045437101991,
         0.2857712275995793,
         0.3083992791391061,
         0.30880354780170205,
         0.3135178041964428,
         0.3361653896303307,
         0.29108730691663876,
         0.32274293805597554,
         0.2970394061398835,
         0.29221099835114306,
         0.3080143661831961,
         0.3014536040821823,
         0.2822306541266976,
         0.2799859132862692,
         0.3131066579192812,
         0.30888401537592747,
         0.2910298897372544,
         0.2932780975551678,
         0.29150592284955873,
         0.29887152154133495,
         0.29220604801291356,
         0.31195065819281337,
         0.27916571907794746,
         0.29132565766555213,
         0.2988684892183046,
         0.299936913817613,
         0.28232366551216515,
         0.3013472462054561,
         0.32166974142217275,
         0.2911584991486319,
         0.2929496118536833,
         0.30457241424157167,
         0.27463117765233575,
         0.32636239729085037,
         0.2626092475011316,
         0.3084212487387384,
         0.2913563609574192,
         0.2645528154952163,
         0.31334515041660566,
         0.30612648969332307,
         0.29577277870455987,
         0.2849267761525112,
         0.27648951266572064,
         0.2960899512547504,
         0.29193123000535415,
         0.2987916450190683,
         0.30684451593732315,
         0.3008358513849518,
         0.2873682177990775,
         0.3024996109575324,
         0.30083196854456534,
         0.28957568328683775,
         0.3076204047930704,
         0.2918033208387484,
         0.30904586171553894,
         0.2744361283542942,
         0.3018354706279074,
         0.3150478826623745,
         0.3067699092670574,
         0.28347306455412125,
         0.2825115557521241,
         0.29413919527420596,
         0.30889412714914016,
         0.29362570361306617,
         0.3020886112028008,
         0.31261364143522596,
         0.30152180014757934,
         0.31358392417025593,
         0.28606012326463487,
         0.31163665835709803,
         0.30213381187517907,
         0.28023060506139064,
         0.28851631393562205,
         0.2879125848771087,
         0.2895419703909061,
         0.306655800318047,
         0.303246511165287,
         0.2797771038816822,
         0.297604661273166,
         0.2743882110460244,
         0.30344736760915414,
         0.29454871923148845,
         0.29614892216603467,
         0.28331615332709237,
         0.2942874696483181,
         0.3067467956471926,
         0.3092514711090625
        ],
        [
         0.41316571421921255,
         0.40257015321403744,
         0.42568204533308746,
         0.42942177057266234,
         0.44271643795073035,
         0.4339912846684456,
         0.42990733236074447,
         0.421917088329792,
         0.42986085284501313,
         0.4190324530005455,
         0.42741217762231826,
         0.4242650728672743,
         0.43017345257103445,
         0.42310445085167886,
         0.4164598070085049,
         0.43290372043848035,
         0.44545594938099387,
         0.43540854640305043,
         0.4537804130464792,
         0.41850481145083906,
         0.45272964891046286,
         0.428810216486454,
         0.4136513989418745,
         0.4275849264115095,
         0.4254971660673618,
         0.41549462769180534,
         0.41188207678496835,
         0.431317669339478,
         0.44363439958542583,
         0.4180141519755125,
         0.43553685657680036,
         0.42066921666264534,
         0.4322228102013469,
         0.42652705647051337,
         0.4375431213527918,
         0.42032886706292627,
         0.4272454097867012,
         0.4169746968895197,
         0.43701137974858284,
         0.4167057629674673,
         0.42770916223526,
         0.4496209006756544,
         0.41793823391199114,
         0.4305171355605125,
         0.44005005396902563,
         0.4092949913814664,
         0.45109114348888396,
         0.40807837769389155,
         0.44158991500735284,
         0.4089609932154417,
         0.3969713531434536,
         0.43303005062043665,
         0.43930290825664997,
         0.4310330094769597,
         0.4251410024240613,
         0.3991691259667277,
         0.4189522050321102,
         0.4336090933531523,
         0.4232519280165434,
         0.43156001102179287,
         0.439036988094449,
         0.4306040875613689,
         0.42799289934337137,
         0.4341907795518637,
         0.427261047065258,
         0.4379049263894558,
         0.42136181704699993,
         0.4438055448234081,
         0.4057756423950195,
         0.4389565449208021,
         0.44175233952701093,
         0.4406836098060012,
         0.42245226465165614,
         0.40534626990556716,
         0.4294804882258177,
         0.4285074260085821,
         0.43765606358647346,
         0.42650052309036257,
         0.4421210248023272,
         0.42625571601092815,
         0.43359567914158104,
         0.41648245602846146,
         0.433221385627985,
         0.42932960242033,
         0.42083343528211115,
         0.43003431521356106,
         0.4146808762103319,
         0.43137273788452146,
         0.43187405094504355,
         0.43219090439379215,
         0.4070043470710516,
         0.4241101864725351,
         0.4110595859587193,
         0.4283198367804289,
         0.43024642765522003,
         0.4291528522968292,
         0.42860058285295966,
         0.4293029583990574,
         0.4283309493213892,
         0.4385307915508747
        ],
        [
         8.26331428438425,
         8.051403064280748,
         8.513640906661749,
         8.588435411453247,
         8.854328759014606,
         8.679825693368912,
         8.59814664721489,
         8.43834176659584,
         8.597217056900263,
         8.38064906001091,
         8.548243552446365,
         8.485301457345486,
         8.603469051420689,
         8.462089017033577,
         8.329196140170097,
         8.658074408769608,
         8.909118987619877,
         8.708170928061008,
         9.075608260929585,
         8.37009622901678,
         9.054592978209257,
         8.57620432972908,
         8.27302797883749,
         8.55169852823019,
         8.509943321347237,
         8.309892553836107,
         8.237641535699368,
         8.62635338678956,
         8.872687991708517,
         8.36028303951025,
         8.710737131536007,
         8.413384333252907,
         8.644456204026937,
         8.530541129410267,
         8.750862427055836,
         8.406577341258526,
         8.544908195734024,
         8.339493937790394,
         8.740227594971657,
         8.334115259349346,
         8.5541832447052,
         8.992418013513088,
         8.358764678239822,
         8.61034271121025,
         8.801001079380512,
         8.185899827629328,
         9.02182286977768,
         8.16156755387783,
         8.831798300147057,
         8.179219864308834,
         7.939427062869072,
         8.660601012408733,
         8.786058165133,
         8.620660189539194,
         8.502820048481226,
         7.983382519334555,
         8.379044100642204,
         8.672181867063046,
         8.465038560330868,
         8.631200220435858,
         8.78073976188898,
         8.612081751227379,
         8.559857986867428,
         8.683815591037273,
         8.54522094130516,
         8.758098527789116,
         8.427236340939999,
         8.876110896468163,
         8.11551284790039,
         8.779130898416042,
         8.835046790540218,
         8.813672196120024,
         8.449045293033123,
         8.106925398111343,
         8.589609764516354,
         8.570148520171642,
         8.75312127172947,
         8.530010461807251,
         8.842420496046543,
         8.525114320218563,
         8.671913582831621,
         8.32964912056923,
         8.6644277125597,
         8.586592048406601,
         8.416668705642223,
         8.600686304271221,
         8.293617524206638,
         8.62745475769043,
         8.637481018900871,
         8.643818087875843,
         8.140086941421032,
         8.482203729450703,
         8.221191719174385,
         8.566396735608578,
         8.6049285531044,
         8.583057045936584,
         8.572011657059193,
         8.586059167981148,
         8.566618986427784,
         8.770615831017494
        ],
        [
         2.445408816149941,
         2.37412209997697,
         2.4234121454531796,
         2.4233400610856872,
         2.5038336829434926,
         2.4540054597723824,
         2.4747415881348798,
         2.3974977459594102,
         2.4190947707334907,
         2.414771870672339,
         2.4185104393816403,
         2.450105266519726,
         2.499587384195907,
         2.45725270865737,
         2.390695411797912,
         2.4835429496552144,
         2.485170206652663,
         2.5040679072119545,
         2.5929342052213,
         2.4128294880353183,
         2.5406414074244146,
         2.437373201378416,
         2.4174821544373106,
         2.4819926115248454,
         2.455416885509189,
         2.375839447970749,
         2.3663723852609047,
         2.502425455110626,
         2.4854939765605044,
         2.4125915101287014,
         2.4218922253278232,
         2.414563823341842,
         2.4448784081885746,
         2.4174616771023016,
         2.497801666236987,
         2.3629038028576086,
         2.4138171333618135,
         2.444866005401133,
         2.44923218098086,
         2.376230904235382,
         2.454983691210417,
         2.5364137731142087,
         2.413124527033911,
         2.420535526918303,
         2.468085955721849,
         2.3436346884799932,
         2.554847930076663,
         2.2917645930641815,
         2.4836314087993747,
         2.413944328096318,
         2.3002296211257534,
         2.5033783190584904,
         2.4743746268232023,
         2.4321709590592513,
         2.38716055661328,
         2.3515506061563745,
         2.433474681416474,
         2.4163246056991357,
         2.4445516767663893,
         2.477274776593518,
         2.452899718231268,
         2.397366128896784,
         2.459673193566708,
         2.452883888587331,
         2.406556391555526,
         2.480404824995591,
         2.4157951934663187,
         2.486145054961753,
         2.342802289371829,
         2.4569715937629697,
         2.5101708414463526,
         2.4769735939935145,
         2.381063059031076,
         2.3770214797183646,
         2.4254450943041608,
         2.4855346593807144,
         2.423327066712482,
         2.458001672915626,
         2.500454524422414,
         2.455694607020911,
         2.5043319435340674,
         2.3919035234082284,
         2.4965442449798405,
         2.458185557988571,
         2.36740619692266,
         2.4021503447354084,
         2.399635742678912,
         2.4064162997740275,
         2.4765128722380876,
         2.4627079045850606,
         2.365489817698154,
         2.439691215187553,
         2.342597750558232,
         2.4635233614039636,
         2.4271329556968584,
         2.4337170014857303,
         2.3804039712918157,
         2.4260563457937994,
         2.4768802782823096,
         2.486971938358222
        ]
       ],
       "encoder": "json",
       "name": "ABC_GAN_3 Metrics",
       "version": 1
      }
     },
     "metadata": {
      "scrapbook": {
       "data": true,
       "display": false,
       "name": "ABC_GAN_3 Metrics"
      }
     },
     "output_type": "display_data"
    },
    {
     "name": "stdout",
     "output_type": "stream",
     "text": [
      "MSE\n",
      "0.2973274919033122\n"
     ]
    }
   ],
   "source": [
    "ABC_GAN3_metrics=ABC_train_test2.test_generator(gen3,test_data,prior_model,variance,bias,\"3\",device)\n",
    "sb.glue(\"ABC_GAN_3 Metrics\",ABC_GAN3_metrics)\n",
    "\n",
    "print(\"MSE\")\n",
    "print(mean(ABC_GAN3_metrics[0]))"
   ]
  },
  {
   "cell_type": "code",
   "execution_count": 18,
   "id": "c8e46b48",
   "metadata": {
    "execution": {
     "iopub.execute_input": "2022-06-22T13:54:49.142916Z",
     "iopub.status.busy": "2022-06-22T13:54:49.141283Z",
     "iopub.status.idle": "2022-06-22T13:54:50.080531Z",
     "shell.execute_reply": "2022-06-22T13:54:50.081057Z"
    },
    "id": "c8e46b48",
    "papermill": {
     "duration": 1.015921,
     "end_time": "2022-06-22T13:54:50.081328",
     "exception": false,
     "start_time": "2022-06-22T13:54:49.065407",
     "status": "completed"
    },
    "tags": []
   },
   "outputs": [
    {
     "data": {
      "image/png": "[encoded data removed]",
      "text/plain": [
       "<Figure size 432x288 with 1 Axes>"
      ]
     },
     "metadata": {
      "needs_background": "light"
     },
     "output_type": "display_data"
    },
    {
     "data": {
      "image/png": "[encoded data removed]",
      "text/plain": [
       "<Figure size 432x288 with 1 Axes>"
      ]
     },
     "metadata": {
      "needs_background": "light"
     },
     "output_type": "display_data"
    },
    {
     "data": {
      "image/png": "[encoded data removed]",
      "text/plain": [
       "<Figure size 432x288 with 1 Axes>"
      ]
     },
     "metadata": {
      "needs_background": "light"
     },
     "output_type": "display_data"
    },
    {
     "data": {
      "image/png": "[encoded data removed]",
      "text/plain": [
       "<Figure size 432x288 with 1 Axes>"
      ]
     },
     "metadata": {
      "needs_background": "light"
     },
     "output_type": "display_data"
    }
   ],
   "source": [
    "sanityChecks.discProbVsError(train_data,disc3,device)\n",
    "sanityChecks.discProbVsError(test_data,disc3,device)"
   ]
  },
  {
   "cell_type": "markdown",
   "id": "a5bd74c3",
   "metadata": {
    "id": "a5bd74c3",
    "papermill": {
     "duration": 0.074184,
     "end_time": "2022-06-22T13:54:50.215968",
     "exception": false,
     "start_time": "2022-06-22T13:54:50.141784",
     "status": "completed"
    },
    "tags": []
   },
   "source": [
    "## Skip Connection Model Analysis - ABC-GAN "
   ]
  },
  {
   "cell_type": "markdown",
   "id": "5744a8bf",
   "metadata": {
    "id": "5744a8bf",
    "papermill": {
     "duration": 0.066419,
     "end_time": "2022-06-22T13:54:50.340726",
     "exception": false,
     "start_time": "2022-06-22T13:54:50.274307",
     "status": "completed"
    },
    "tags": []
   },
   "source": [
    "### Weight Analysis \n",
    "\n",
    "Study the weights of the skip connection layer\n",
    "\n",
    "Equation of the skip connection is \n",
    "\n",
    "$output = y_{gan} * w + y_{abc} * (1-w)$"
   ]
  },
  {
   "cell_type": "code",
   "execution_count": 19,
   "id": "52c31dea",
   "metadata": {
    "execution": {
     "iopub.execute_input": "2022-06-22T13:54:50.506575Z",
     "iopub.status.busy": "2022-06-22T13:54:50.505796Z",
     "iopub.status.idle": "2022-06-22T13:54:50.513797Z",
     "shell.execute_reply": "2022-06-22T13:54:50.514575Z"
    },
    "id": "52c31dea",
    "papermill": {
     "duration": 0.105386,
     "end_time": "2022-06-22T13:54:50.514819",
     "exception": false,
     "start_time": "2022-06-22T13:54:50.409433",
     "status": "completed"
    },
    "tags": []
   },
   "outputs": [
    {
     "name": "stdout",
     "output_type": "stream",
     "text": [
      "Weight of the node at skip connection\n",
      "Parameter containing:\n",
      "tensor([[0.4638]], requires_grad=True)\n"
     ]
    },
    {
     "data": {
      "application/scrapbook.scrap.json+json": {
       "data": 0.4638080894947052,
       "encoder": "json",
       "name": "Skip Connection Weight",
       "version": 1
      }
     },
     "metadata": {
      "scrapbook": {
       "data": true,
       "display": false,
       "name": "Skip Connection Weight"
      }
     },
     "output_type": "display_data"
    }
   ],
   "source": [
    "print(\"Weight of the node at skip connection\")\n",
    "for name,param in gen3.named_parameters():\n",
    "    if(name == \"skipNode.weight\"):\n",
    "        print(param)\n",
    "        sb.glue(\"Skip Connection Weight\",param.item())"
   ]
  }
 ],
 "metadata": {
  "colab": {
   "collapsed_sections": [],
   "name": "ABC_GAN_Model-Catboost_Pre-gen.ipynb",
   "provenance": []
  },
  "interpreter": {
   "hash": "31f2aee4e71d21fbe5cf8b01ff0e069b9275f58929596ceb00d14d90e3e16cd6"
  },
  "kernelspec": {
   "display_name": "Python 3 (ipykernel)",
   "language": "python",
   "name": "python3"
  },
  "language_info": {
   "codemirror_mode": {
    "name": "ipython",
    "version": 3
   },
   "file_extension": ".py",
   "mimetype": "text/x-python",
   "name": "python",
   "nbconvert_exporter": "python",
   "pygments_lexer": "ipython3",
   "version": "3.8.3"
  },
  "papermill": {
   "default_parameters": {},
   "duration": 178.235827,
   "end_time": "2022-06-22T13:54:52.506499",
   "environment_variables": {},
   "exception": null,
   "input_path": "ABC_GAN-TabNet.ipynb",
   "output_path": "./ABC_GAN_TabNet/ABC-GAN_output_5_7.ipynb",
   "parameters": {
    "bias": 0.01,
    "variance": 0.1
   },
   "start_time": "2022-06-22T13:51:54.270672",
   "version": "2.3.3"
  }
 },
 "nbformat": 4,
 "nbformat_minor": 5
}