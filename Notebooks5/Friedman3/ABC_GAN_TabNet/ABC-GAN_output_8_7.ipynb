{
 "cells": [
  {
   "cell_type": "markdown",
   "id": "622780e6",
   "metadata": {
    "id": "622780e6",
    "papermill": {
     "duration": 0.018547,
     "end_time": "2022-06-22T15:30:12.147202",
     "exception": false,
     "start_time": "2022-06-22T15:30:12.128655",
     "status": "completed"
    },
    "tags": []
   },
   "source": [
    "## Import Libraries "
   ]
  },
  {
   "cell_type": "code",
   "execution_count": 1,
   "id": "a62397e3",
   "metadata": {
    "execution": {
     "iopub.execute_input": "2022-06-22T15:30:12.232906Z",
     "iopub.status.busy": "2022-06-22T15:30:12.230989Z",
     "iopub.status.idle": "2022-06-22T15:30:12.236282Z",
     "shell.execute_reply": "2022-06-22T15:30:12.233823Z"
    },
    "id": "a62397e3",
    "papermill": {
     "duration": 0.059195,
     "end_time": "2022-06-22T15:30:12.236688",
     "exception": false,
     "start_time": "2022-06-22T15:30:12.177493",
     "status": "completed"
    },
    "tags": []
   },
   "outputs": [],
   "source": [
    "import warnings\n",
    "import sys\n",
    "sys.path.insert(0, '../../src')\n",
    "warnings.filterwarnings('ignore')"
   ]
  },
  {
   "cell_type": "code",
   "execution_count": 2,
   "id": "d6a4e155",
   "metadata": {
    "execution": {
     "iopub.execute_input": "2022-06-22T15:30:12.278897Z",
     "iopub.status.busy": "2022-06-22T15:30:12.278101Z",
     "iopub.status.idle": "2022-06-22T15:30:18.713642Z",
     "shell.execute_reply": "2022-06-22T15:30:18.714412Z"
    },
    "id": "d6a4e155",
    "papermill": {
     "duration": 6.456164,
     "end_time": "2022-06-22T15:30:18.714776",
     "exception": false,
     "start_time": "2022-06-22T15:30:12.258612",
     "status": "completed"
    },
    "tags": []
   },
   "outputs": [],
   "source": [
    "import ABC_train_test2\n",
    "import friedman3Dataset\n",
    "import network\n",
    "import dataset\n",
    "import sanityChecks\n",
    "import torch \n",
    "import scrapbook as sb\n",
    "from statistics import mean \n",
    "import catboost as ctb \n",
    "from sklearn.model_selection import train_test_split\n",
    "from sklearn.metrics import mean_squared_error,mean_absolute_error\n",
    "import numpy as np\n",
    "from pytorch_tabnet.tab_model import TabNetRegressor"
   ]
  },
  {
   "cell_type": "markdown",
   "id": "2fa5b0f7",
   "metadata": {
    "id": "2fa5b0f7",
    "papermill": {
     "duration": 0.017969,
     "end_time": "2022-06-22T15:30:18.749218",
     "exception": false,
     "start_time": "2022-06-22T15:30:18.731249",
     "status": "completed"
    },
    "tags": []
   },
   "source": [
    "## Parameters "
   ]
  },
  {
   "cell_type": "code",
   "execution_count": 3,
   "id": "783186fb",
   "metadata": {
    "execution": {
     "iopub.execute_input": "2022-06-22T15:30:18.798037Z",
     "iopub.status.busy": "2022-06-22T15:30:18.797115Z",
     "iopub.status.idle": "2022-06-22T15:30:18.799014Z",
     "shell.execute_reply": "2022-06-22T15:30:18.799644Z"
    },
    "id": "783186fb",
    "papermill": {
     "duration": 0.030375,
     "end_time": "2022-06-22T15:30:18.799878",
     "exception": false,
     "start_time": "2022-06-22T15:30:18.769503",
     "status": "completed"
    },
    "tags": [
     "parameters"
    ]
   },
   "outputs": [],
   "source": [
    "variance = 1\n",
    "bias = 1 "
   ]
  },
  {
   "cell_type": "code",
   "execution_count": 4,
   "id": "f966de18",
   "metadata": {
    "execution": {
     "iopub.execute_input": "2022-06-22T15:30:18.845732Z",
     "iopub.status.busy": "2022-06-22T15:30:18.839729Z",
     "iopub.status.idle": "2022-06-22T15:30:18.852349Z",
     "shell.execute_reply": "2022-06-22T15:30:18.854014Z"
    },
    "papermill": {
     "duration": 0.038883,
     "end_time": "2022-06-22T15:30:18.854312",
     "exception": false,
     "start_time": "2022-06-22T15:30:18.815429",
     "status": "completed"
    },
    "tags": [
     "injected-parameters"
    ]
   },
   "outputs": [],
   "source": [
    "# Parameters\n",
    "variance = 0.1\n",
    "bias = 0.01\n"
   ]
  },
  {
   "cell_type": "markdown",
   "id": "391cdbfd",
   "metadata": {
    "id": "391cdbfd",
    "papermill": {
     "duration": 0.034332,
     "end_time": "2022-06-22T15:30:18.911250",
     "exception": false,
     "start_time": "2022-06-22T15:30:18.876918",
     "status": "completed"
    },
    "tags": []
   },
   "source": [
    "## Dataset \n"
   ]
  },
  {
   "cell_type": "code",
   "execution_count": 5,
   "id": "5b51f161",
   "metadata": {
    "execution": {
     "iopub.execute_input": "2022-06-22T15:30:18.951288Z",
     "iopub.status.busy": "2022-06-22T15:30:18.949303Z",
     "iopub.status.idle": "2022-06-22T15:30:18.952571Z",
     "shell.execute_reply": "2022-06-22T15:30:18.951979Z"
    },
    "id": "5b51f161",
    "papermill": {
     "duration": 0.025972,
     "end_time": "2022-06-22T15:30:18.953204",
     "exception": false,
     "start_time": "2022-06-22T15:30:18.927232",
     "status": "completed"
    },
    "tags": []
   },
   "outputs": [],
   "source": [
    "#Parameters \n",
    "n_features = 4\n",
    "n_samples= 100\n",
    "n_target = 1"
   ]
  },
  {
   "cell_type": "code",
   "execution_count": 6,
   "id": "5d6eced4",
   "metadata": {
    "execution": {
     "iopub.execute_input": "2022-06-22T15:30:18.990833Z",
     "iopub.status.busy": "2022-06-22T15:30:18.989165Z",
     "iopub.status.idle": "2022-06-22T15:30:19.003136Z",
     "shell.execute_reply": "2022-06-22T15:30:19.003637Z"
    },
    "id": "5d6eced4",
    "papermill": {
     "duration": 0.034157,
     "end_time": "2022-06-22T15:30:19.003877",
     "exception": false,
     "start_time": "2022-06-22T15:30:18.969720",
     "status": "completed"
    },
    "tags": []
   },
   "outputs": [
    {
     "name": "stdout",
     "output_type": "stream",
     "text": [
      "          X1           X2        X3         X4         Y\n",
      "0  77.099697  1074.426000  0.352687   7.124242  1.373673\n",
      "1  92.304760   755.189369  0.866230  10.715301  1.490498\n",
      "2  88.711564   602.927043  0.855818  10.857818  1.521965\n",
      "3  90.316951  1556.615424  0.563125   3.636261  1.346143\n",
      "4  69.590347  1020.270897  0.753468   3.485181  1.411531\n"
     ]
    }
   ],
   "source": [
    "X,Y = friedman3Dataset.friedman3_data(n_samples)"
   ]
  },
  {
   "cell_type": "code",
   "execution_count": 7,
   "id": "fe007438",
   "metadata": {
    "execution": {
     "iopub.execute_input": "2022-06-22T15:30:19.052916Z",
     "iopub.status.busy": "2022-06-22T15:30:19.048671Z",
     "iopub.status.idle": "2022-06-22T15:30:19.069274Z",
     "shell.execute_reply": "2022-06-22T15:30:19.070258Z"
    },
    "id": "fe007438",
    "papermill": {
     "duration": 0.051842,
     "end_time": "2022-06-22T15:30:19.070639",
     "exception": false,
     "start_time": "2022-06-22T15:30:19.018797",
     "status": "completed"
    },
    "tags": []
   },
   "outputs": [],
   "source": [
    "#Train test split for dataset \n",
    "X_train,X_test,Y_train,Y_test = train_test_split(X,Y,test_size = 0.2)\n",
    "train_data = dataset.CustomDataset(X_train,Y_train)\n",
    "test_data = dataset.CustomDataset(X_test,Y_test)\n"
   ]
  },
  {
   "cell_type": "markdown",
   "id": "a9a1af34",
   "metadata": {
    "id": "a9a1af34",
    "papermill": {
     "duration": 0.021663,
     "end_time": "2022-06-22T15:30:19.109669",
     "exception": false,
     "start_time": "2022-06-22T15:30:19.088006",
     "status": "completed"
    },
    "tags": []
   },
   "source": [
    "## Training Parameters "
   ]
  },
  {
   "cell_type": "code",
   "execution_count": 8,
   "id": "952b7fc8",
   "metadata": {
    "execution": {
     "iopub.execute_input": "2022-06-22T15:30:19.164721Z",
     "iopub.status.busy": "2022-06-22T15:30:19.162960Z",
     "iopub.status.idle": "2022-06-22T15:30:19.165720Z",
     "shell.execute_reply": "2022-06-22T15:30:19.166253Z"
    },
    "id": "952b7fc8",
    "papermill": {
     "duration": 0.037471,
     "end_time": "2022-06-22T15:30:19.166478",
     "exception": false,
     "start_time": "2022-06-22T15:30:19.129007",
     "status": "completed"
    },
    "tags": []
   },
   "outputs": [],
   "source": [
    "batch_size = 32\n",
    "n_epochs = 1000\n",
    "#Select the device \n",
    "device = torch.device('cuda' if torch.cuda.is_available() else 'cpu')"
   ]
  },
  {
   "cell_type": "markdown",
   "id": "a95e1600",
   "metadata": {
    "id": "a95e1600",
    "papermill": {
     "duration": 0.017866,
     "end_time": "2022-06-22T15:30:19.200079",
     "exception": false,
     "start_time": "2022-06-22T15:30:19.182213",
     "status": "completed"
    },
    "tags": []
   },
   "source": [
    "# ABC Pre-generator Model \n",
    "\n",
    "1. The catboost model is used as a pre-generator model for the ABC-GAN. \n",
    "2. The model is first trained on the entire dataset \n",
    "3. It generats X,Y pairs and we add some Gaussian noise with mean 0 and variance 1 to it which is then feed as input to the generator.\n"
   ]
  },
  {
   "cell_type": "code",
   "execution_count": 9,
   "id": "ff8ce7bd",
   "metadata": {
    "execution": {
     "iopub.execute_input": "2022-06-22T15:30:19.265582Z",
     "iopub.status.busy": "2022-06-22T15:30:19.264548Z",
     "iopub.status.idle": "2022-06-22T15:30:27.916142Z",
     "shell.execute_reply": "2022-06-22T15:30:27.916704Z"
    },
    "id": "ff8ce7bd",
    "papermill": {
     "duration": 8.682403,
     "end_time": "2022-06-22T15:30:27.916919",
     "exception": false,
     "start_time": "2022-06-22T15:30:19.234516",
     "status": "completed"
    },
    "tags": []
   },
   "outputs": [
    {
     "name": "stdout",
     "output_type": "stream",
     "text": [
      "Device used : cpu\n"
     ]
    },
    {
     "name": "stdout",
     "output_type": "stream",
     "text": [
      "epoch 0  | loss: 1.17944 | train_mse: 4.6321  | train_mae: 1.67144 |  0:00:00s\n",
      "epoch 1  | loss: 0.57538 | train_mse: 2.87658 | train_mae: 1.23615 |  0:00:00s\n",
      "epoch 2  | loss: 0.76036 | train_mse: 1.85747 | train_mae: 1.04252 |  0:00:00s\n"
     ]
    },
    {
     "name": "stdout",
     "output_type": "stream",
     "text": [
      "epoch 3  | loss: 0.58439 | train_mse: 1.80695 | train_mae: 1.02381 |  0:00:00s\n",
      "epoch 4  | loss: 0.6305  | train_mse: 1.56564 | train_mae: 0.97574 |  0:00:00s\n",
      "epoch 5  | loss: 0.52472 | train_mse: 1.31045 | train_mae: 0.85541 |  0:00:00s\n"
     ]
    },
    {
     "name": "stdout",
     "output_type": "stream",
     "text": [
      "epoch 6  | loss: 0.55143 | train_mse: 1.08365 | train_mae: 0.75266 |  0:00:00s\n",
      "epoch 7  | loss: 0.42947 | train_mse: 1.02501 | train_mae: 0.76298 |  0:00:00s\n",
      "epoch 8  | loss: 0.63174 | train_mse: 0.89133 | train_mae: 0.72037 |  0:00:00s\n"
     ]
    },
    {
     "name": "stdout",
     "output_type": "stream",
     "text": [
      "epoch 9  | loss: 0.38495 | train_mse: 0.79724 | train_mae: 0.70584 |  0:00:00s\n",
      "epoch 10 | loss: 0.3864  | train_mse: 0.93515 | train_mae: 0.76676 |  0:00:01s\n",
      "epoch 11 | loss: 0.30003 | train_mse: 0.87767 | train_mae: 0.7212  |  0:00:01s\n"
     ]
    },
    {
     "name": "stdout",
     "output_type": "stream",
     "text": [
      "epoch 12 | loss: 0.33363 | train_mse: 0.79095 | train_mae: 0.69584 |  0:00:01s\n",
      "epoch 13 | loss: 0.37157 | train_mse: 0.69906 | train_mae: 0.65777 |  0:00:01s\n",
      "epoch 14 | loss: 0.33732 | train_mse: 0.78306 | train_mae: 0.70806 |  0:00:01s\n"
     ]
    },
    {
     "name": "stdout",
     "output_type": "stream",
     "text": [
      "epoch 15 | loss: 0.39499 | train_mse: 0.73119 | train_mae: 0.69295 |  0:00:01s\n",
      "epoch 16 | loss: 0.28404 | train_mse: 0.51032 | train_mae: 0.56687 |  0:00:01s\n",
      "epoch 17 | loss: 0.33835 | train_mse: 0.39565 | train_mae: 0.50225 |  0:00:01s\n"
     ]
    },
    {
     "name": "stdout",
     "output_type": "stream",
     "text": [
      "epoch 18 | loss: 0.42896 | train_mse: 0.32722 | train_mae: 0.4283  |  0:00:01s\n",
      "epoch 19 | loss: 0.40728 | train_mse: 0.34297 | train_mae: 0.43805 |  0:00:01s\n",
      "epoch 20 | loss: 0.50405 | train_mse: 0.38572 | train_mae: 0.46548 |  0:00:01s\n",
      "epoch 21 | loss: 0.33943 | train_mse: 0.3925  | train_mae: 0.47095 |  0:00:01s\n"
     ]
    },
    {
     "name": "stdout",
     "output_type": "stream",
     "text": [
      "epoch 22 | loss: 0.37374 | train_mse: 0.36155 | train_mae: 0.44515 |  0:00:01s\n",
      "epoch 23 | loss: 0.36036 | train_mse: 0.32245 | train_mae: 0.41025 |  0:00:02s\n",
      "epoch 24 | loss: 0.42713 | train_mse: 0.28277 | train_mae: 0.38484 |  0:00:02s\n"
     ]
    },
    {
     "name": "stdout",
     "output_type": "stream",
     "text": [
      "epoch 25 | loss: 0.31926 | train_mse: 0.29517 | train_mae: 0.38333 |  0:00:02s\n",
      "epoch 26 | loss: 0.26357 | train_mse: 0.28646 | train_mae: 0.36645 |  0:00:02s\n",
      "epoch 27 | loss: 0.31523 | train_mse: 0.31776 | train_mae: 0.3898  |  0:00:02s\n"
     ]
    },
    {
     "name": "stdout",
     "output_type": "stream",
     "text": [
      "epoch 28 | loss: 0.32754 | train_mse: 0.2582  | train_mae: 0.37131 |  0:00:02s\n",
      "epoch 29 | loss: 0.27528 | train_mse: 0.22838 | train_mae: 0.35079 |  0:00:02s\n",
      "epoch 30 | loss: 0.41394 | train_mse: 0.23093 | train_mae: 0.36034 |  0:00:02s\n"
     ]
    },
    {
     "name": "stdout",
     "output_type": "stream",
     "text": [
      "epoch 31 | loss: 0.2061  | train_mse: 0.19251 | train_mae: 0.33712 |  0:00:02s\n",
      "epoch 32 | loss: 0.32171 | train_mse: 0.19074 | train_mae: 0.33597 |  0:00:02s\n",
      "epoch 33 | loss: 0.23324 | train_mse: 0.2056  | train_mae: 0.33569 |  0:00:02s\n"
     ]
    },
    {
     "name": "stdout",
     "output_type": "stream",
     "text": [
      "epoch 34 | loss: 0.26052 | train_mse: 0.23089 | train_mae: 0.33982 |  0:00:02s\n",
      "epoch 35 | loss: 0.28581 | train_mse: 0.23514 | train_mae: 0.34533 |  0:00:02s\n",
      "epoch 36 | loss: 0.23033 | train_mse: 0.26105 | train_mae: 0.35203 |  0:00:02s\n"
     ]
    },
    {
     "name": "stdout",
     "output_type": "stream",
     "text": [
      "epoch 37 | loss: 0.29028 | train_mse: 0.29519 | train_mae: 0.37467 |  0:00:03s\n",
      "epoch 38 | loss: 0.24631 | train_mse: 0.27434 | train_mae: 0.36049 |  0:00:03s\n",
      "epoch 39 | loss: 0.28622 | train_mse: 0.25344 | train_mae: 0.36517 |  0:00:03s\n"
     ]
    },
    {
     "name": "stdout",
     "output_type": "stream",
     "text": [
      "epoch 40 | loss: 0.23249 | train_mse: 0.22697 | train_mae: 0.36165 |  0:00:03s\n",
      "epoch 41 | loss: 0.26688 | train_mse: 0.18598 | train_mae: 0.3253  |  0:00:03s\n",
      "epoch 42 | loss: 0.18931 | train_mse: 0.16003 | train_mae: 0.30033 |  0:00:03s\n"
     ]
    },
    {
     "name": "stdout",
     "output_type": "stream",
     "text": [
      "epoch 43 | loss: 0.38962 | train_mse: 0.15397 | train_mae: 0.28637 |  0:00:03s\n",
      "epoch 44 | loss: 0.23199 | train_mse: 0.1779  | train_mae: 0.31535 |  0:00:03s\n",
      "epoch 45 | loss: 0.16037 | train_mse: 0.18443 | train_mae: 0.32788 |  0:00:03s\n"
     ]
    },
    {
     "name": "stdout",
     "output_type": "stream",
     "text": [
      "epoch 46 | loss: 0.25047 | train_mse: 0.18812 | train_mae: 0.3298  |  0:00:03s\n",
      "epoch 47 | loss: 0.1914  | train_mse: 0.16977 | train_mae: 0.30658 |  0:00:03s\n"
     ]
    },
    {
     "name": "stdout",
     "output_type": "stream",
     "text": [
      "epoch 48 | loss: 0.23138 | train_mse: 0.18075 | train_mae: 0.31133 |  0:00:04s\n",
      "epoch 49 | loss: 0.23697 | train_mse: 0.20287 | train_mae: 0.31376 |  0:00:04s\n",
      "epoch 50 | loss: 0.13484 | train_mse: 0.1675  | train_mae: 0.30272 |  0:00:04s\n"
     ]
    },
    {
     "name": "stdout",
     "output_type": "stream",
     "text": [
      "epoch 51 | loss: 0.23836 | train_mse: 0.10148 | train_mae: 0.24653 |  0:00:04s\n",
      "epoch 52 | loss: 0.22713 | train_mse: 0.12513 | train_mae: 0.27062 |  0:00:04s\n",
      "epoch 53 | loss: 0.28994 | train_mse: 0.12158 | train_mae: 0.26486 |  0:00:04s\n",
      "epoch 54 | loss: 0.17297 | train_mse: 0.1395  | train_mae: 0.27259 |  0:00:04s\n"
     ]
    },
    {
     "name": "stdout",
     "output_type": "stream",
     "text": [
      "epoch 55 | loss: 0.26413 | train_mse: 0.12439 | train_mae: 0.26788 |  0:00:04s\n",
      "epoch 56 | loss: 0.18419 | train_mse: 0.12402 | train_mae: 0.27848 |  0:00:04s\n",
      "epoch 57 | loss: 0.22636 | train_mse: 0.10846 | train_mae: 0.254   |  0:00:04s\n",
      "epoch 58 | loss: 0.13224 | train_mse: 0.09823 | train_mae: 0.24349 |  0:00:04s\n"
     ]
    },
    {
     "name": "stdout",
     "output_type": "stream",
     "text": [
      "epoch 59 | loss: 0.15079 | train_mse: 0.08939 | train_mae: 0.23738 |  0:00:04s\n",
      "epoch 60 | loss: 0.1282  | train_mse: 0.08754 | train_mae: 0.23578 |  0:00:04s\n",
      "epoch 61 | loss: 0.08868 | train_mse: 0.08262 | train_mae: 0.24584 |  0:00:04s\n"
     ]
    },
    {
     "name": "stdout",
     "output_type": "stream",
     "text": [
      "epoch 62 | loss: 0.24571 | train_mse: 0.08925 | train_mae: 0.25983 |  0:00:05s\n",
      "epoch 63 | loss: 0.15058 | train_mse: 0.08494 | train_mae: 0.23707 |  0:00:05s\n",
      "epoch 64 | loss: 0.12584 | train_mse: 0.09216 | train_mae: 0.23696 |  0:00:05s\n"
     ]
    },
    {
     "name": "stdout",
     "output_type": "stream",
     "text": [
      "epoch 65 | loss: 0.16647 | train_mse: 0.09306 | train_mae: 0.24287 |  0:00:05s\n",
      "epoch 66 | loss: 0.22058 | train_mse: 0.12302 | train_mae: 0.28279 |  0:00:05s\n",
      "epoch 67 | loss: 0.20113 | train_mse: 0.12075 | train_mae: 0.27667 |  0:00:05s\n"
     ]
    },
    {
     "name": "stdout",
     "output_type": "stream",
     "text": [
      "epoch 68 | loss: 0.3105  | train_mse: 0.1297  | train_mae: 0.28119 |  0:00:05s\n",
      "epoch 69 | loss: 0.16603 | train_mse: 0.16729 | train_mae: 0.3088  |  0:00:05s\n",
      "epoch 70 | loss: 0.1812  | train_mse: 0.15762 | train_mae: 0.29462 |  0:00:05s\n",
      "epoch 71 | loss: 0.2457  | train_mse: 0.10703 | train_mae: 0.23664 |  0:00:05s\n"
     ]
    },
    {
     "name": "stdout",
     "output_type": "stream",
     "text": [
      "epoch 72 | loss: 0.22192 | train_mse: 0.12143 | train_mae: 0.2598  |  0:00:05s\n",
      "epoch 73 | loss: 0.13023 | train_mse: 0.13083 | train_mae: 0.2709  |  0:00:05s\n",
      "epoch 74 | loss: 0.21514 | train_mse: 0.12866 | train_mae: 0.28586 |  0:00:05s\n"
     ]
    },
    {
     "name": "stdout",
     "output_type": "stream",
     "text": [
      "epoch 75 | loss: 0.16268 | train_mse: 0.11379 | train_mae: 0.27065 |  0:00:05s\n",
      "epoch 76 | loss: 0.18546 | train_mse: 0.12039 | train_mae: 0.27455 |  0:00:05s\n",
      "epoch 77 | loss: 0.25438 | train_mse: 0.13938 | train_mae: 0.27348 |  0:00:06s\n"
     ]
    },
    {
     "name": "stdout",
     "output_type": "stream",
     "text": [
      "epoch 78 | loss: 0.17756 | train_mse: 0.17469 | train_mae: 0.27156 |  0:00:06s\n",
      "epoch 79 | loss: 0.17359 | train_mse: 0.21265 | train_mae: 0.26366 |  0:00:06s\n",
      "epoch 80 | loss: 0.15344 | train_mse: 0.2883  | train_mae: 0.27473 |  0:00:06s\n",
      "epoch 81 | loss: 0.2774  | train_mse: 0.33057 | train_mae: 0.27324 |  0:00:06s\n"
     ]
    },
    {
     "name": "stdout",
     "output_type": "stream",
     "text": [
      "epoch 82 | loss: 0.18076 | train_mse: 0.34915 | train_mae: 0.28922 |  0:00:06s\n",
      "epoch 83 | loss: 0.14836 | train_mse: 0.31501 | train_mae: 0.32976 |  0:00:06s\n",
      "epoch 84 | loss: 0.18977 | train_mse: 0.3121  | train_mae: 0.37314 |  0:00:06s\n",
      "epoch 85 | loss: 0.18822 | train_mse: 0.26265 | train_mae: 0.36054 |  0:00:06s\n"
     ]
    },
    {
     "name": "stdout",
     "output_type": "stream",
     "text": [
      "epoch 86 | loss: 0.21446 | train_mse: 0.17053 | train_mae: 0.31228 |  0:00:06s\n",
      "epoch 87 | loss: 0.16241 | train_mse: 0.20293 | train_mae: 0.28785 |  0:00:06s\n"
     ]
    },
    {
     "name": "stdout",
     "output_type": "stream",
     "text": [
      "epoch 88 | loss: 0.14915 | train_mse: 0.32979 | train_mae: 0.30919 |  0:00:07s\n",
      "epoch 89 | loss: 0.13027 | train_mse: 0.28785 | train_mae: 0.314   |  0:00:07s\n",
      "epoch 90 | loss: 0.15735 | train_mse: 0.24393 | train_mae: 0.30824 |  0:00:07s\n"
     ]
    },
    {
     "name": "stdout",
     "output_type": "stream",
     "text": [
      "epoch 91 | loss: 0.21811 | train_mse: 0.23548 | train_mae: 0.30554 |  0:00:07s\n",
      "epoch 92 | loss: 0.24841 | train_mse: 0.18495 | train_mae: 0.26906 |  0:00:07s\n",
      "epoch 93 | loss: 0.12855 | train_mse: 0.13351 | train_mae: 0.2555  |  0:00:07s\n",
      "epoch 94 | loss: 0.17766 | train_mse: 0.11339 | train_mae: 0.23995 |  0:00:07s\n"
     ]
    },
    {
     "name": "stdout",
     "output_type": "stream",
     "text": [
      "epoch 95 | loss: 0.21967 | train_mse: 0.13905 | train_mae: 0.2535  |  0:00:07s\n",
      "epoch 96 | loss: 0.29531 | train_mse: 0.19489 | train_mae: 0.29807 |  0:00:07s\n",
      "epoch 97 | loss: 0.14858 | train_mse: 0.21421 | train_mae: 0.3033  |  0:00:07s\n"
     ]
    },
    {
     "name": "stdout",
     "output_type": "stream",
     "text": [
      "epoch 98 | loss: 0.15209 | train_mse: 0.54763 | train_mae: 0.35932 |  0:00:07s\n",
      "epoch 99 | loss: 0.23453 | train_mse: 0.33246 | train_mae: 0.32481 |  0:00:07s\n",
      "epoch 100| loss: 0.16532 | train_mse: 0.19475 | train_mae: 0.28019 |  0:00:07s\n"
     ]
    },
    {
     "name": "stdout",
     "output_type": "stream",
     "text": [
      "epoch 101| loss: 0.19157 | train_mse: 0.1666  | train_mae: 0.27578 |  0:00:07s\n",
      "epoch 102| loss: 0.1736  | train_mse: 0.18757 | train_mae: 0.30995 |  0:00:08s\n",
      "epoch 103| loss: 0.16011 | train_mse: 0.24725 | train_mae: 0.33894 |  0:00:08s\n",
      "epoch 104| loss: 0.15262 | train_mse: 0.16738 | train_mae: 0.31648 |  0:00:08s\n"
     ]
    },
    {
     "name": "stdout",
     "output_type": "stream",
     "text": [
      "epoch 105| loss: 0.25285 | train_mse: 0.24242 | train_mae: 0.29606 |  0:00:08s\n",
      "epoch 106| loss: 0.16078 | train_mse: 0.18975 | train_mae: 0.26982 |  0:00:08s\n",
      "epoch 107| loss: 0.25457 | train_mse: 0.1841  | train_mae: 0.26231 |  0:00:08s\n",
      "epoch 108| loss: 0.20491 | train_mse: 0.17906 | train_mae: 0.27019 |  0:00:08s\n"
     ]
    },
    {
     "name": "stdout",
     "output_type": "stream",
     "text": [
      "epoch 109| loss: 0.21373 | train_mse: 0.17326 | train_mae: 0.28135 |  0:00:08s\n",
      "epoch 110| loss: 0.24875 | train_mse: 0.19433 | train_mae: 0.29952 |  0:00:08s\n",
      "\n",
      "Early stopping occurred at epoch 110 with best_epoch = 60 and best_train_mae = 0.23578\n",
      "Best weights from best epoch are automatically used!\n"
     ]
    }
   ],
   "source": [
    "#Train the Model\n",
    "\n",
    "Y_train = np.reshape(Y_train, (-1, 1))\n",
    "Y_test = np.reshape(Y_test, (-1, 1))\n",
    "\n",
    "prior_model = TabNetRegressor(optimizer_fn=torch.optim.Adam, optimizer_params=dict(lr = 0.02),\n",
    "          #scheduler_params={\"step_size\":10, ], \"gamma\":0.9},\n",
    "          #scheduler_fn=torch.optim.lr_scheduler.StepLR\n",
    "          )  #TabNetRegressor()\n",
    "\n",
    "prior_model.fit(X_train,Y_train,eval_set=[(X_train, Y_train)],\n",
    "            eval_name=['train'], \n",
    "            eval_metric=[ 'mse', 'mae'], \n",
    "            max_epochs = n_epochs, \n",
    "            batch_size = batch_size,\n",
    "            patience=50\n",
    "            )"
   ]
  },
  {
   "cell_type": "code",
   "execution_count": 10,
   "id": "af65dcda",
   "metadata": {
    "execution": {
     "iopub.execute_input": "2022-06-22T15:30:27.973325Z",
     "iopub.status.busy": "2022-06-22T15:30:27.970663Z",
     "iopub.status.idle": "2022-06-22T15:30:27.995425Z",
     "shell.execute_reply": "2022-06-22T15:30:27.995975Z"
    },
    "id": "af65dcda",
    "papermill": {
     "duration": 0.057305,
     "end_time": "2022-06-22T15:30:27.996214",
     "exception": false,
     "start_time": "2022-06-22T15:30:27.938909",
     "status": "completed"
    },
    "tags": []
   },
   "outputs": [
    {
     "data": {
      "application/scrapbook.scrap.json+json": {
       "data": 0.1688882611700228,
       "encoder": "json",
       "name": "Prior Model MSE",
       "version": 1
      }
     },
     "metadata": {
      "scrapbook": {
       "data": true,
       "display": false,
       "name": "Prior Model MSE"
      }
     },
     "output_type": "display_data"
    },
    {
     "data": {
      "application/scrapbook.scrap.json+json": {
       "data": 0.15328879851001737,
       "encoder": "json",
       "name": "ABC Pre-generator MSE",
       "version": 1
      }
     },
     "metadata": {
      "scrapbook": {
       "data": true,
       "display": false,
       "name": "ABC Pre-generator MSE"
      }
     },
     "output_type": "display_data"
    },
    {
     "data": {
      "application/scrapbook.scrap.json+json": {
       "data": 0.3199304698473543,
       "encoder": "json",
       "name": "Prior Model MSE",
       "version": 1
      }
     },
     "metadata": {
      "scrapbook": {
       "data": true,
       "display": false,
       "name": "Prior Model MSE"
      }
     },
     "output_type": "display_data"
    },
    {
     "data": {
      "application/scrapbook.scrap.json+json": {
       "data": 0.29089002581194434,
       "encoder": "json",
       "name": "ABC Pre-generator MSE",
       "version": 1
      }
     },
     "metadata": {
      "scrapbook": {
       "data": true,
       "display": false,
       "name": "ABC Pre-generator MSE"
      }
     },
     "output_type": "display_data"
    }
   ],
   "source": [
    "y_pred = prior_model.predict(X_test)\n",
    "y_abc = y_pred + np.random.normal(0,variance, y_pred.shape) + bias \n",
    "mse = mean_squared_error(y_pred,Y_test)\n",
    "sb.glue(\"Prior Model MSE\",mse)\n",
    "mse = mean_squared_error(y_abc,Y_test)\n",
    "sb.glue(\"ABC Pre-generator MSE\",mse)\n",
    "mae = mean_absolute_error(y_pred,Y_test)\n",
    "sb.glue(\"Prior Model MSE\",mae)\n",
    "mae = mean_absolute_error(y_abc,Y_test)\n",
    "sb.glue(\"ABC Pre-generator MSE\",mae)"
   ]
  },
  {
   "cell_type": "markdown",
   "id": "25609da2",
   "metadata": {
    "papermill": {
     "duration": 0.044548,
     "end_time": "2022-06-22T15:30:28.067881",
     "exception": false,
     "start_time": "2022-06-22T15:30:28.023333",
     "status": "completed"
    },
    "tags": []
   },
   "source": [
    "# ABC GAN Model"
   ]
  },
  {
   "cell_type": "code",
   "execution_count": 11,
   "id": "dfc3464d",
   "metadata": {
    "execution": {
     "iopub.execute_input": "2022-06-22T15:30:28.138683Z",
     "iopub.status.busy": "2022-06-22T15:30:28.137843Z",
     "iopub.status.idle": "2022-06-22T15:30:28.143055Z",
     "shell.execute_reply": "2022-06-22T15:30:28.143833Z"
    },
    "papermill": {
     "duration": 0.041546,
     "end_time": "2022-06-22T15:30:28.144107",
     "exception": false,
     "start_time": "2022-06-22T15:30:28.102561",
     "status": "completed"
    },
    "tags": []
   },
   "outputs": [],
   "source": [
    "gen = network.Generator(n_features+1).to(device)\n",
    "disc = network.Discriminator(n_features+1).to(device)\n",
    "\n",
    "criterion = torch.nn.BCELoss()\n",
    "gen_opt = torch.optim.Adam(gen.parameters(), lr=0.001, betas=(0.5, 0.999))\n",
    "disc_opt = torch.optim.Adam(disc.parameters(), lr=0.001, betas=(0.5, 0.999))"
   ]
  },
  {
   "cell_type": "code",
   "execution_count": 12,
   "id": "b75fdd85",
   "metadata": {
    "execution": {
     "iopub.execute_input": "2022-06-22T15:30:28.214560Z",
     "iopub.status.busy": "2022-06-22T15:30:28.213831Z",
     "iopub.status.idle": "2022-06-22T15:31:11.427518Z",
     "shell.execute_reply": "2022-06-22T15:31:11.427970Z"
    },
    "papermill": {
     "duration": 43.255971,
     "end_time": "2022-06-22T15:31:11.428174",
     "exception": false,
     "start_time": "2022-06-22T15:30:28.172203",
     "status": "completed"
    },
    "tags": []
   },
   "outputs": [
    {
     "data": {
      "image/png": "[encoded data removed]",
      "text/plain": [
       "<Figure size 432x288 with 1 Axes>"
      ]
     },
     "metadata": {
      "needs_background": "light"
     },
     "output_type": "display_data"
    },
    {
     "data": {
      "image/png": "[encoded data removed]",
      "text/plain": [
       "<Figure size 432x288 with 1 Axes>"
      ]
     },
     "metadata": {
      "needs_background": "light"
     },
     "output_type": "display_data"
    }
   ],
   "source": [
    "#Training the ABC_GAN \n",
    "ABC_train_test2.training_GAN(disc,gen,disc_opt,gen_opt,train_data,batch_size,n_epochs,criterion,prior_model,variance,bias,device)"
   ]
  },
  {
   "cell_type": "code",
   "execution_count": 13,
   "id": "1fa7c368",
   "metadata": {
    "execution": {
     "iopub.execute_input": "2022-06-22T15:31:11.488016Z",
     "iopub.status.busy": "2022-06-22T15:31:11.486752Z",
     "iopub.status.idle": "2022-06-22T15:31:12.108811Z",
     "shell.execute_reply": "2022-06-22T15:31:12.109344Z"
    },
    "papermill": {
     "duration": 0.65587,
     "end_time": "2022-06-22T15:31:12.109574",
     "exception": false,
     "start_time": "2022-06-22T15:31:11.453704",
     "status": "completed"
    },
    "tags": []
   },
   "outputs": [
    {
     "data": {
      "application/scrapbook.scrap.json+json": {
       "data": 0.20989448239810612,
       "encoder": "json",
       "name": "ABC-GAN Model 1 MSE",
       "version": 1
      }
     },
     "metadata": {
      "scrapbook": {
       "data": true,
       "display": false,
       "name": "ABC-GAN Model 1 MSE"
      }
     },
     "output_type": "display_data"
    },
    {
     "data": {
      "application/scrapbook.scrap.json+json": {
       "data": 0.39044630992878226,
       "encoder": "json",
       "name": "ABC-GAN Model 1 MAE",
       "version": 1
      }
     },
     "metadata": {
      "scrapbook": {
       "data": true,
       "display": false,
       "name": "ABC-GAN Model 1 MAE"
      }
     },
     "output_type": "display_data"
    },
    {
     "data": {
      "application/scrapbook.scrap.json+json": {
       "data": 7.808926198575645,
       "encoder": "json",
       "name": "ABC-GAN Model 1 Manhattan Distance",
       "version": 1
      }
     },
     "metadata": {
      "scrapbook": {
       "data": true,
       "display": false,
       "name": "ABC-GAN Model 1 Manhattan Distance"
      }
     },
     "output_type": "display_data"
    },
    {
     "data": {
      "application/scrapbook.scrap.json+json": {
       "data": 2.0486435111268757,
       "encoder": "json",
       "name": "ABC-GAN Model 1 Euclidean distance",
       "version": 1
      }
     },
     "metadata": {
      "scrapbook": {
       "data": true,
       "display": false,
       "name": "ABC-GAN Model 1 Euclidean distance"
      }
     },
     "output_type": "display_data"
    },
    {
     "data": {
      "application/scrapbook.scrap.json+json": {
       "data": [
        [
         0.20940701694806046,
         0.20591006814652912,
         0.20465335935547926,
         0.20121642141070506,
         0.21325035846222407,
         0.21120909538583277,
         0.20085993129553162,
         0.22570966511849683,
         0.19934777052453354,
         0.20279675140473158,
         0.21810742827222818,
         0.20953857681721483,
         0.2149345322852116,
         0.19983918976221907,
         0.21034407568597668,
         0.21063380497795187,
         0.20677957743933378,
         0.19457988010569446,
         0.21181612341081676,
         0.21018804678756128,
         0.20893502575012307,
         0.20707727523224823,
         0.21245632280674923,
         0.2099109137097081,
         0.2062283019969256,
         0.20844287743534853,
         0.21229989801352261,
         0.21299003933348626,
         0.20973166860220466,
         0.20371038573736575,
         0.21357082931963073,
         0.2110919476414502,
         0.20233729931553213,
         0.20436845374814677,
         0.20383047672757276,
         0.2102873390050858,
         0.20587570289070264,
         0.21887339368916575,
         0.21030610985997159,
         0.2041620294942757,
         0.21348063909584955,
         0.21968991445244868,
         0.21294458668808464,
         0.22091756037431415,
         0.21010605914191754,
         0.20995895520477212,
         0.20718475951560503,
         0.20079250019319894,
         0.21071802737182166,
         0.217303047113375,
         0.20614996344053185,
         0.22509219465418573,
         0.2160346506539444,
         0.2202471108592224,
         0.20860463096926246,
         0.20966134365412842,
         0.2109691964385491,
         0.21830892235445215,
         0.19418652039770778,
         0.20351424148762498,
         0.20078404493207086,
         0.21467087948588093,
         0.2120985650045643,
         0.2119157301481684,
         0.19986573689568682,
         0.2134092883792056,
         0.21063929797596614,
         0.2078435079941885,
         0.2070266283122603,
         0.20754022976309208,
         0.20987543256613747,
         0.19999239504181276,
         0.2135357013879889,
         0.22015960883048358,
         0.21672616244108728,
         0.211593299240778,
         0.2101172350204335,
         0.20813644100070397,
         0.21581390964865038,
         0.2111152571741704,
         0.21851611446518276,
         0.21084221205414577,
         0.19934212209821492,
         0.21204163082243963,
         0.20286083084374423,
         0.21148898825786738,
         0.2048508397463976,
         0.20889893629471468,
         0.21332556051262888,
         0.21354668183869147,
         0.22232550163528125,
         0.21019075082750524,
         0.2052020051450703,
         0.20323898706148694,
         0.2190545893060359,
         0.22126702338732884,
         0.2020583849441402,
         0.20518436903550633,
         0.21117046300510872,
         0.21771010931924586
        ],
        [
         0.3902523868018761,
         0.3833533417666331,
         0.3904788960004225,
         0.380590981640853,
         0.39599164987448604,
         0.39164203519467267,
         0.38036577294114976,
         0.40176153297070416,
         0.38142783830408006,
         0.3853060420835391,
         0.39203059787396344,
         0.3873939533019438,
         0.39158972615841775,
         0.3809308272087947,
         0.39585929254535585,
         0.38896609100047497,
         0.38385556826833633,
         0.3789748620474711,
         0.39036739768926054,
         0.39454273993615063,
         0.3919452373171225,
         0.3908431958639994,
         0.398389358096756,
         0.3889570269966498,
         0.3823632966959849,
         0.3905053328955546,
         0.3888231586897746,
         0.38942500764969734,
         0.3897006061160937,
         0.39124865347985177,
         0.4012085180962458,
         0.38929618487600237,
         0.38202834615949544,
         0.3863303620601073,
         0.3823275979841128,
         0.39173138851765543,
         0.3879659544909373,
         0.3981204059207812,
         0.387565128155984,
         0.38882517407182604,
         0.393816526629962,
         0.4045316275442019,
         0.3969415780389681,
         0.40906279275659474,
         0.389582721167244,
         0.3898964245105162,
         0.3872253734851256,
         0.37905995885375887,
         0.3894072231138125,
         0.39304086009506134,
         0.38845623696688564,
         0.40041251594666394,
         0.397356477775611,
         0.39755066672805695,
         0.392462306865491,
         0.39482781479600815,
         0.38677720839623364,
         0.40046331400517376,
         0.3794154305243865,
         0.38558283189777287,
         0.38454315515700727,
         0.39575953523162755,
         0.393445659824647,
         0.3904314939165488,
         0.3786292080068961,
         0.38936504239682107,
         0.3916594986105338,
         0.3896682497346774,
         0.3850875180447474,
         0.38881308848503976,
         0.38969764376524835,
         0.38307349050883205,
         0.3924010988557711,
         0.3935825098538771,
         0.40251559580210594,
         0.3898186397040263,
         0.39282927180174737,
         0.3941298920894042,
         0.39515008369926363,
         0.3925458442652598,
         0.39604226539377124,
         0.39068362603429707,
         0.38074664960149673,
         0.3939152855658904,
         0.38496554831508545,
         0.39238321224693207,
         0.38370061370078473,
         0.38474300319794563,
         0.3898910057032481,
         0.39182616139296444,
         0.40617836902383714,
         0.3866898183012381,
         0.3859639268601313,
         0.38377652803901585,
         0.3944402110064402,
         0.39570093716029076,
         0.3854645032668486,
         0.39233507628086955,
         0.39695776815060524,
         0.3959286060417071
        ],
        [
         7.8050477360375226,
         7.667066835332662,
         7.809577920008451,
         7.61181963281706,
         7.919832997489721,
         7.832840703893453,
         7.607315458822995,
         8.035230659414083,
         7.628556766081601,
         7.706120841670781,
         7.840611957479268,
         7.747879066038877,
         7.831794523168355,
         7.618616544175893,
         7.917185850907117,
         7.7793218200095,
         7.677111365366727,
         7.579497240949422,
         7.807347953785211,
         7.890854798723012,
         7.83890474634245,
         7.8168639172799885,
         7.967787161935121,
         7.779140539932996,
         7.647265933919698,
         7.810106657911092,
         7.7764631737954915,
         7.788500152993947,
         7.794012122321874,
         7.824973069597036,
         8.024170361924917,
         7.785923697520047,
         7.640566923189908,
         7.726607241202146,
         7.646551959682256,
         7.834627770353109,
         7.759319089818746,
         7.962408118415624,
         7.75130256311968,
         7.776503481436521,
         7.8763305325992405,
         8.090632550884038,
         7.938831560779363,
         8.181255855131894,
         7.79165442334488,
         7.7979284902103245,
         7.744507469702512,
         7.581199177075177,
         7.78814446227625,
         7.860817201901227,
         7.7691247393377125,
         8.008250318933278,
         7.94712955551222,
         7.951013334561139,
         7.8492461373098195,
         7.896556295920163,
         7.735544167924672,
         8.009266280103475,
         7.588308610487729,
         7.711656637955457,
         7.6908631031401455,
         7.9151907046325505,
         7.86891319649294,
         7.808629878330976,
         7.572584160137922,
         7.787300847936422,
         7.8331899722106755,
         7.7933649946935475,
         7.701750360894948,
         7.776261769700795,
         7.793952875304967,
         7.661469810176641,
         7.8480219771154225,
         7.8716501970775425,
         8.05031191604212,
         7.796372794080526,
         7.856585436034948,
         7.882597841788083,
         7.903001673985273,
         7.850916885305196,
         7.920845307875425,
         7.813672520685941,
         7.614932992029935,
         7.878305711317807,
         7.699310966301709,
         7.847664244938642,
         7.674012274015695,
         7.694860063958913,
         7.797820114064962,
         7.8365232278592885,
         8.123567380476743,
         7.733796366024762,
         7.7192785372026265,
         7.675530560780317,
         7.8888042201288044,
         7.9140187432058156,
         7.7092900653369725,
         7.846701525617391,
         7.939155363012105,
         7.918572120834142
        ],
        [
         2.0464946466974228,
         2.0293352022104636,
         2.0231330127081573,
         2.0060728870642017,
         2.065189378542433,
         2.055281466786643,
         2.0042950446255743,
         2.124663103263653,
         1.9967361895079356,
         2.013935209507652,
         2.0885757265286227,
         2.0471374004556453,
         2.073328397939948,
         1.999195787121507,
         2.0510683834820167,
         2.0524804748301597,
         2.033615388608838,
         1.9727132589694554,
         2.058232850825274,
         2.050307522239341,
         2.044187005878489,
         2.035078746546424,
         2.061340936413718,
         2.0489554104943726,
         2.030902764767066,
         2.041778036101616,
         2.0605819469922695,
         2.0639284839038696,
         2.048080411518086,
         2.0184666741730752,
         2.0667405706553046,
         2.0547114037813206,
         2.011652551090929,
         2.0217242826268214,
         2.019061547984968,
         2.0507917446931847,
         2.029165852712403,
         2.092239917835265,
         2.0508832724461508,
         2.0207029939814296,
         2.0663041358708525,
         2.0961389002279818,
         2.0637082482176816,
         2.101987442276067,
         2.0499076034881063,
         2.0491898653115195,
         2.0356068358875445,
         2.0039585833704194,
         2.052890778253055,
         2.0847208307750704,
         2.0305169954498377,
         2.121754908815746,
         2.078627675433695,
         2.098795420517314,
         2.0425701014616973,
         2.0477370126758387,
         2.0541139035533016,
         2.089540247779172,
         1.9707182467197475,
         2.0174946913814913,
         2.003916390132437,
         2.072056367408382,
         2.0596046465502273,
         2.0587167369415753,
         1.9993285717744687,
         2.0659588010374534,
         2.05250723738537,
         2.038840395882858,
         2.0348298617440244,
         2.0373523493156114,
         2.0487822361887926,
         1.9999619748475856,
         2.066570595880958,
         2.098378463626062,
         2.081951788303885,
         2.057149966535148,
         2.0499621217009523,
         2.0402766528130636,
         2.077565448541395,
         2.0548248449645063,
         2.0905315805564038,
         2.053495615062987,
         1.996707901012138,
         2.0593281954192713,
         2.014253364617988,
         2.056642838500975,
         2.0241088890985957,
         2.044010451512979,
         2.0655534876280925,
         2.066623728880957,
         2.10867494714231,
         2.0503207106572634,
         2.0258430597905175,
         2.016129891953824,
         2.0931057751868916,
         2.1036493214760337,
         2.0102655791916657,
         2.0257560022643712,
         2.0550934918154393,
         2.086672515366251
        ]
       ],
       "encoder": "json",
       "name": "ABC_GAN_1 Metrics",
       "version": 1
      }
     },
     "metadata": {
      "scrapbook": {
       "data": true,
       "display": false,
       "name": "ABC_GAN_1 Metrics"
      }
     },
     "output_type": "display_data"
    },
    {
     "name": "stdout",
     "output_type": "stream",
     "text": [
      "MSE\n",
      "0.20989448239810612\n"
     ]
    }
   ],
   "source": [
    "ABC_GAN1_metrics=ABC_train_test2.test_generator(gen,test_data,prior_model,variance,bias,\"1\",device)\n",
    "sb.glue(\"ABC_GAN_1 Metrics\",ABC_GAN1_metrics)\n",
    "\n",
    "print(\"MSE\")\n",
    "print(mean(ABC_GAN1_metrics[0]))"
   ]
  },
  {
   "cell_type": "code",
   "execution_count": 14,
   "id": "eb22ce5c",
   "metadata": {
    "execution": {
     "iopub.execute_input": "2022-06-22T15:31:12.183746Z",
     "iopub.status.busy": "2022-06-22T15:31:12.182721Z",
     "iopub.status.idle": "2022-06-22T15:31:12.914594Z",
     "shell.execute_reply": "2022-06-22T15:31:12.915256Z"
    },
    "papermill": {
     "duration": 0.772935,
     "end_time": "2022-06-22T15:31:12.915469",
     "exception": false,
     "start_time": "2022-06-22T15:31:12.142534",
     "status": "completed"
    },
    "tags": []
   },
   "outputs": [
    {
     "data": {
      "image/png": "[encoded data removed]",
      "text/plain": [
       "<Figure size 432x288 with 1 Axes>"
      ]
     },
     "metadata": {
      "needs_background": "light"
     },
     "output_type": "display_data"
    },
    {
     "data": {
      "image/png": "[encoded data removed]",
      "text/plain": [
       "<Figure size 432x288 with 1 Axes>"
      ]
     },
     "metadata": {
      "needs_background": "light"
     },
     "output_type": "display_data"
    },
    {
     "data": {
      "image/png": "[encoded data removed]",
      "text/plain": [
       "<Figure size 432x288 with 1 Axes>"
      ]
     },
     "metadata": {
      "needs_background": "light"
     },
     "output_type": "display_data"
    },
    {
     "data": {
      "image/png": "[encoded data removed]",
      "text/plain": [
       "<Figure size 432x288 with 1 Axes>"
      ]
     },
     "metadata": {
      "needs_background": "light"
     },
     "output_type": "display_data"
    }
   ],
   "source": [
    "sanityChecks.discProbVsError(train_data,disc,device)\n",
    "sanityChecks.discProbVsError(test_data,disc,device)"
   ]
  },
  {
   "cell_type": "markdown",
   "id": "130f3a4d",
   "metadata": {
    "id": "130f3a4d",
    "papermill": {
     "duration": 0.035229,
     "end_time": "2022-06-22T15:31:12.984381",
     "exception": false,
     "start_time": "2022-06-22T15:31:12.949152",
     "status": "completed"
    },
    "tags": []
   },
   "source": [
    "# ABC - GAN Model with skip connection"
   ]
  },
  {
   "cell_type": "code",
   "execution_count": 15,
   "id": "4e43dad1",
   "metadata": {
    "execution": {
     "iopub.execute_input": "2022-06-22T15:31:13.064378Z",
     "iopub.status.busy": "2022-06-22T15:31:13.061626Z",
     "iopub.status.idle": "2022-06-22T15:31:13.069031Z",
     "shell.execute_reply": "2022-06-22T15:31:13.069974Z"
    },
    "id": "4e43dad1",
    "papermill": {
     "duration": 0.051267,
     "end_time": "2022-06-22T15:31:13.070204",
     "exception": false,
     "start_time": "2022-06-22T15:31:13.018937",
     "status": "completed"
    },
    "tags": []
   },
   "outputs": [],
   "source": [
    "#Generator\n",
    "gen3 = network.GeneratorWithSkipConnection(n_features+1).to(device)\n",
    "constraints=network.weightConstraint()\n",
    "#Discriminator \n",
    "disc3 = network.Discriminator(n_features+1).to(device)\n",
    "\n",
    "criterion = torch.nn.BCELoss()\n",
    "gen_opt = torch.optim.Adam(gen3.parameters(), lr=0.001, betas=(0.5, 0.999))\n",
    "disc_opt = torch.optim.Adam(disc3.parameters(), lr=0.001, betas=(0.5, 0.999))\n"
   ]
  },
  {
   "cell_type": "code",
   "execution_count": 16,
   "id": "26acbc37",
   "metadata": {
    "execution": {
     "iopub.execute_input": "2022-06-22T15:31:13.192488Z",
     "iopub.status.busy": "2022-06-22T15:31:13.183703Z",
     "iopub.status.idle": "2022-06-22T15:32:55.105915Z",
     "shell.execute_reply": "2022-06-22T15:32:55.107013Z"
    },
    "id": "26acbc37",
    "papermill": {
     "duration": 101.991559,
     "end_time": "2022-06-22T15:32:55.107273",
     "exception": false,
     "start_time": "2022-06-22T15:31:13.115714",
     "status": "completed"
    },
    "tags": []
   },
   "outputs": [
    {
     "data": {
      "image/png": "[encoded data removed]",
      "text/plain": [
       "<Figure size 432x288 with 1 Axes>"
      ]
     },
     "metadata": {
      "needs_background": "light"
     },
     "output_type": "display_data"
    },
    {
     "data": {
      "image/png": "[encoded data removed]",
      "text/plain": [
       "<Figure size 432x288 with 1 Axes>"
      ]
     },
     "metadata": {
      "needs_background": "light"
     },
     "output_type": "display_data"
    }
   ],
   "source": [
    "ABC_train_test2.training_GAN_skip_connection(disc3,gen3,disc_opt,gen_opt,train_data,batch_size,n_epochs,criterion,prior_model,variance,bias,device)"
   ]
  },
  {
   "cell_type": "code",
   "execution_count": 17,
   "id": "c5e0717b",
   "metadata": {
    "execution": {
     "iopub.execute_input": "2022-06-22T15:32:55.304282Z",
     "iopub.status.busy": "2022-06-22T15:32:55.303385Z",
     "iopub.status.idle": "2022-06-22T15:32:56.471016Z",
     "shell.execute_reply": "2022-06-22T15:32:56.471846Z"
    },
    "id": "c5e0717b",
    "papermill": {
     "duration": 1.306122,
     "end_time": "2022-06-22T15:32:56.472083",
     "exception": false,
     "start_time": "2022-06-22T15:32:55.165961",
     "status": "completed"
    },
    "tags": []
   },
   "outputs": [
    {
     "data": {
      "application/scrapbook.scrap.json+json": {
       "data": 0.34101689030219495,
       "encoder": "json",
       "name": "ABC-GAN Model 3 MSE",
       "version": 1
      }
     },
     "metadata": {
      "scrapbook": {
       "data": true,
       "display": false,
       "name": "ABC-GAN Model 3 MSE"
      }
     },
     "output_type": "display_data"
    },
    {
     "data": {
      "application/scrapbook.scrap.json+json": {
       "data": 0.4654965347731486,
       "encoder": "json",
       "name": "ABC-GAN Model 3 MAE",
       "version": 1
      }
     },
     "metadata": {
      "scrapbook": {
       "data": true,
       "display": false,
       "name": "ABC-GAN Model 3 MAE"
      }
     },
     "output_type": "display_data"
    },
    {
     "data": {
      "application/scrapbook.scrap.json+json": {
       "data": 9.309930695462972,
       "encoder": "json",
       "name": "ABC-GAN Model 3 Manhattan Distance",
       "version": 1
      }
     },
     "metadata": {
      "scrapbook": {
       "data": true,
       "display": false,
       "name": "ABC-GAN Model 3 Manhattan Distance"
      }
     },
     "output_type": "display_data"
    },
    {
     "data": {
      "application/scrapbook.scrap.json+json": {
       "data": 2.6100406909410463,
       "encoder": "json",
       "name": "ABC-GAN Model 3 Euclidean distance",
       "version": 1
      }
     },
     "metadata": {
      "scrapbook": {
       "data": true,
       "display": false,
       "name": "ABC-GAN Model 3 Euclidean distance"
      }
     },
     "output_type": "display_data"
    },
    {
     "data": {
      "application/scrapbook.scrap.json+json": {
       "data": [
        [
         0.373863876410217,
         0.33037689873082565,
         0.3169360699766947,
         0.35453492790595426,
         0.34263103664369976,
         0.378308911351283,
         0.32663819393792093,
         0.370206829314159,
         0.34257897954453986,
         0.3492370352541564,
         0.37210963442484146,
         0.35011326013040334,
         0.3970634438712116,
         0.33529934139534223,
         0.3022988322260965,
         0.31404316574462465,
         0.37195277159395607,
         0.3184680437433572,
         0.32120089353125975,
         0.3235204463668883,
         0.3103302201373472,
         0.366366676281512,
         0.35720757823776955,
         0.3280259728522617,
         0.3146097075608512,
         0.3864783744778157,
         0.33394631896114324,
         0.33176950141413053,
         0.3174059528891947,
         0.32033052206184126,
         0.343031615614385,
         0.35384892332739937,
         0.39600611854955575,
         0.36696044126509425,
         0.35480321629600764,
         0.3570326931283158,
         0.323603998520133,
         0.37917542394665127,
         0.33232244025586194,
         0.3909280489854014,
         0.30867322798772595,
         0.33731724041252276,
         0.32181795961443643,
         0.32735721378828425,
         0.38063447677709583,
         0.3481472908927268,
         0.3304860887733631,
         0.3765772710173125,
         0.2986336095449652,
         0.33230725705756303,
         0.33038938122080524,
         0.2868269730528235,
         0.36477349975441375,
         0.3592094741867088,
         0.3256549559529327,
         0.31329135885440645,
         0.31977841876044916,
         0.29872254827574396,
         0.3552584626874744,
         0.32011560801959243,
         0.3471373433998227,
         0.35844336746000915,
         0.3391192101640324,
         0.3467394215044431,
         0.30337471891997925,
         0.34681226849669,
         0.3374423940848872,
         0.3356789037427135,
         0.3773457002728808,
         0.36546655020858276,
         0.3367593055745512,
         0.3314638583820341,
         0.3168273381288987,
         0.32942508586330416,
         0.34318930552020893,
         0.3539982476920057,
         0.30594401694105067,
         0.3355363051020863,
         0.3564599946266903,
         0.33391920877312914,
         0.3374922578655226,
         0.3160035293126339,
         0.3332486101118177,
         0.36578534517835676,
         0.38143718800607573,
         0.3336915580849712,
         0.3349903807463163,
         0.32000938175112664,
         0.36781086949651504,
         0.32854657200812465,
         0.3541092897224944,
         0.3362245543724792,
         0.3509558154261074,
         0.3128234641970752,
         0.3360556945062687,
         0.36214897938213875,
         0.34241950964535184,
         0.32622414797753757,
         0.31716031217675345,
         0.3519303719023763
        ],
        [
         0.49234407956246284,
         0.46490417981985954,
         0.4502952609444037,
         0.470259789400734,
         0.46407585407141594,
         0.4793164018774405,
         0.45964081401471046,
         0.4857051264727488,
         0.4698691066587344,
         0.47361961419228465,
         0.47365028897766026,
         0.45473603347782043,
         0.5031486567342653,
         0.46487942154053596,
         0.44371490518096834,
         0.45383744726423175,
         0.48133364955428987,
         0.46349914411548526,
         0.45434433112386613,
         0.45994674081448467,
         0.4619024638319388,
         0.4798824228579178,
         0.46641251186374577,
         0.45660202170256525,
         0.46188959816936404,
         0.47845647113863377,
         0.46442746559623627,
         0.46517542789224536,
         0.4460196409607306,
         0.4577185761416331,
         0.45974376241210846,
         0.4702611018205062,
         0.49321099037770183,
         0.4821650009835139,
         0.4539331410313025,
         0.4694295075023547,
         0.4596945677185431,
         0.47385514418128877,
         0.4719225142383948,
         0.49726834187749774,
         0.45375022406224164,
         0.46687235722783954,
         0.4643560637021437,
         0.46374071354512125,
         0.48787847126368433,
         0.46875178629998115,
         0.46132371614221485,
         0.46834858919028194,
         0.4474363301182166,
         0.46969340222422035,
         0.4607987672323361,
         0.43053580934647473,
         0.479091214411892,
         0.47842914985958485,
         0.454879267164506,
         0.45585341344121844,
         0.45379018972162155,
         0.43565265128854663,
         0.4698367197299376,
         0.44617575893644246,
         0.47027878428343683,
         0.46735714117530736,
         0.4550458181882277,
         0.48139365727547556,
         0.45131944606546315,
         0.4856392566347495,
         0.45831314513925464,
         0.4661208231234923,
         0.48402952814940364,
         0.4802414689445868,
         0.4629778277361766,
         0.4626644630217925,
         0.46127414668444544,
         0.4496759485686198,
         0.4640962932491675,
         0.4750485178316012,
         0.43744820246938615,
         0.46339515338186177,
         0.4637665909016505,
         0.45739916230086236,
         0.45828446524683386,
         0.452540497132577,
         0.4462897200370207,
         0.4784901578212157,
         0.481355493911542,
         0.4597937930608168,
         0.45981336052063854,
         0.4594030466163531,
         0.48617448324803264,
         0.47125310117844493,
         0.4680224117124453,
         0.4657243248308077,
         0.47760306114796547,
         0.4444786574924365,
         0.47778280491475017,
         0.4654172647977248,
         0.47716607118491083,
         0.4481643688166514,
         0.4501165803754702,
         0.4740083251381293
        ],
        [
         9.846881591249257,
         9.298083596397191,
         9.005905218888074,
         9.40519578801468,
         9.28151708142832,
         9.58632803754881,
         9.19281628029421,
         9.714102529454976,
         9.397382133174688,
         9.472392283845693,
         9.473005779553205,
         9.09472066955641,
         10.062973134685308,
         9.29758843081072,
         8.874298103619367,
         9.076748945284635,
         9.626672991085798,
         9.269982882309705,
         9.086886622477323,
         9.198934816289693,
         9.238049276638776,
         9.597648457158357,
         9.328250237274915,
         9.132040434051305,
         9.23779196338728,
         9.569129422772676,
         9.288549311924726,
         9.303508557844907,
         8.920392819214612,
         9.154371522832662,
         9.19487524824217,
         9.405222036410123,
         9.864219807554036,
         9.643300019670278,
         9.07866282062605,
         9.388590150047094,
         9.193891354370862,
         9.477102883625776,
         9.438450284767896,
         9.945366837549955,
         9.075004481244832,
         9.33744714455679,
         9.287121274042875,
         9.274814270902425,
         9.757569425273687,
         9.375035725999624,
         9.226474322844297,
         9.366971783805639,
         8.948726602364331,
         9.393868044484407,
         9.215975344646722,
         8.610716186929494,
         9.58182428823784,
         9.568582997191697,
         9.09758534329012,
         9.117068268824369,
         9.075803794432431,
         8.713053025770932,
         9.396734394598752,
         8.923515178728849,
         9.405575685668737,
         9.347142823506147,
         9.100916363764554,
         9.627873145509511,
         9.026388921309263,
         9.71278513269499,
         9.166262902785093,
         9.322416462469846,
         9.680590562988073,
         9.604829378891736,
         9.259556554723531,
         9.25328926043585,
         9.225482933688909,
         8.993518971372396,
         9.28192586498335,
         9.500970356632024,
         8.748964049387723,
         9.267903067637235,
         9.27533181803301,
         9.147983246017247,
         9.165689304936677,
         9.05080994265154,
         8.925794400740415,
         9.569803156424314,
         9.62710987823084,
         9.195875861216336,
         9.19626721041277,
         9.188060932327062,
         9.723489664960653,
         9.425062023568898,
         9.360448234248906,
         9.314486496616155,
         9.55206122295931,
         8.88957314984873,
         9.555656098295003,
         9.308345295954496,
         9.543321423698217,
         8.963287376333028,
         9.002331607509404,
         9.480166502762586
        ],
        [
         2.734461103801687,
         2.57051317339875,
         2.517681751042791,
         2.662836562412174,
         2.6177510830623287,
         2.750668687251458,
         2.5559272052932998,
         2.72105431520269,
         2.61755221359399,
         2.642866002105125,
         2.728038249089779,
         2.6461793594932423,
         2.818025705600329,
         2.589592019586646,
         2.4588567759269613,
         2.5061650613821294,
         2.7274631861638614,
         2.523759274349902,
         2.534564631376599,
         2.5436998500880104,
         2.4913057625965833,
         2.706904786953217,
         2.672854572316906,
         2.5613510999168456,
         2.508424635347258,
         2.7802099722064724,
         2.584361890142877,
         2.575925082039967,
         2.5195473914542457,
         2.5311282941085436,
         2.6192808769369695,
         2.660259097634662,
         2.8142711971292167,
         2.709097418938988,
         2.6638439004416443,
         2.6722001913341593,
         2.544028295912343,
         2.753817074341182,
         2.5780707525429243,
         2.7961689826811305,
         2.4846457614224446,
         2.597372674117146,
         2.5369980670644448,
         2.5587388056942593,
         2.7591102796992213,
         2.6387394372795763,
         2.570937917466554,
         2.7443661235968952,
         2.4439051108623886,
         2.5780118582254934,
         2.570561733243554,
         2.3951074007351885,
         2.70101277210758,
         2.6803338381131137,
         2.552077412434555,
         2.5031634339547484,
         2.52894609970418,
         2.4442690043272406,
         2.665552335586283,
         2.5302790676903304,
         2.6349092713026105,
         2.677474061349649,
         2.6043010968934923,
         2.6333986462533283,
         2.463228446246833,
         2.6336752590123558,
         2.59785447662061,
         2.5910573275893123,
         2.7471647212094172,
         2.7035774455657187,
         2.5952237112609433,
         2.5747382716774694,
         2.5172498411119175,
         2.5668076899655112,
         2.619882842877555,
         2.660820353545146,
         2.473637066916045,
         2.5905069198984445,
         2.6700561590599188,
         2.5842569871169125,
         2.598046411692919,
         2.5139750568079786,
         2.5816607449927176,
         2.7047563482811414,
         2.76201805934022,
         2.5833759234187004,
         2.5883986584230656,
         2.5298592124903974,
         2.7122347593691627,
         2.563382811864528,
         2.6612376433625555,
         2.593162371979353,
         2.649361490722274,
         2.501293522148391,
         2.5925111166830845,
         2.6912784299738988,
         2.616942909753103,
         2.5543067473486327,
         2.518572262917042,
         2.6530373985391775
        ]
       ],
       "encoder": "json",
       "name": "ABC_GAN_3 Metrics",
       "version": 1
      }
     },
     "metadata": {
      "scrapbook": {
       "data": true,
       "display": false,
       "name": "ABC_GAN_3 Metrics"
      }
     },
     "output_type": "display_data"
    },
    {
     "name": "stdout",
     "output_type": "stream",
     "text": [
      "MSE\n",
      "0.34101689030219495\n"
     ]
    }
   ],
   "source": [
    "ABC_GAN3_metrics=ABC_train_test2.test_generator(gen3,test_data,prior_model,variance,bias,\"3\",device)\n",
    "sb.glue(\"ABC_GAN_3 Metrics\",ABC_GAN3_metrics)\n",
    "\n",
    "print(\"MSE\")\n",
    "print(mean(ABC_GAN3_metrics[0]))"
   ]
  },
  {
   "cell_type": "code",
   "execution_count": 18,
   "id": "c8e46b48",
   "metadata": {
    "execution": {
     "iopub.execute_input": "2022-06-22T15:32:56.635499Z",
     "iopub.status.busy": "2022-06-22T15:32:56.608038Z",
     "iopub.status.idle": "2022-06-22T15:32:57.506711Z",
     "shell.execute_reply": "2022-06-22T15:32:57.507198Z"
    },
    "id": "c8e46b48",
    "papermill": {
     "duration": 0.988915,
     "end_time": "2022-06-22T15:32:57.507482",
     "exception": false,
     "start_time": "2022-06-22T15:32:56.518567",
     "status": "completed"
    },
    "tags": []
   },
   "outputs": [
    {
     "data": {
      "image/png": "[encoded data removed]",
      "text/plain": [
       "<Figure size 432x288 with 1 Axes>"
      ]
     },
     "metadata": {
      "needs_background": "light"
     },
     "output_type": "display_data"
    },
    {
     "data": {
      "image/png": "[encoded data removed]",
      "text/plain": [
       "<Figure size 432x288 with 1 Axes>"
      ]
     },
     "metadata": {
      "needs_background": "light"
     },
     "output_type": "display_data"
    },
    {
     "data": {
      "image/png": "[encoded data removed]",
      "text/plain": [
       "<Figure size 432x288 with 1 Axes>"
      ]
     },
     "metadata": {
      "needs_background": "light"
     },
     "output_type": "display_data"
    },
    {
     "data": {
      "image/png": "[encoded data removed]",
      "text/plain": [
       "<Figure size 432x288 with 1 Axes>"
      ]
     },
     "metadata": {
      "needs_background": "light"
     },
     "output_type": "display_data"
    }
   ],
   "source": [
    "sanityChecks.discProbVsError(train_data,disc3,device)\n",
    "sanityChecks.discProbVsError(test_data,disc3,device)"
   ]
  },
  {
   "cell_type": "markdown",
   "id": "a5bd74c3",
   "metadata": {
    "id": "a5bd74c3",
    "papermill": {
     "duration": 0.064189,
     "end_time": "2022-06-22T15:32:57.623428",
     "exception": false,
     "start_time": "2022-06-22T15:32:57.559239",
     "status": "completed"
    },
    "tags": []
   },
   "source": [
    "## Skip Connection Model Analysis - ABC-GAN "
   ]
  },
  {
   "cell_type": "markdown",
   "id": "5744a8bf",
   "metadata": {
    "id": "5744a8bf",
    "papermill": {
     "duration": 0.057869,
     "end_time": "2022-06-22T15:32:57.734612",
     "exception": false,
     "start_time": "2022-06-22T15:32:57.676743",
     "status": "completed"
    },
    "tags": []
   },
   "source": [
    "### Weight Analysis \n",
    "\n",
    "Study the weights of the skip connection layer\n",
    "\n",
    "Equation of the skip connection is \n",
    "\n",
    "$output = y_{gan} * w + y_{abc} * (1-w)$"
   ]
  },
  {
   "cell_type": "code",
   "execution_count": 19,
   "id": "52c31dea",
   "metadata": {
    "execution": {
     "iopub.execute_input": "2022-06-22T15:32:57.837788Z",
     "iopub.status.busy": "2022-06-22T15:32:57.836866Z",
     "iopub.status.idle": "2022-06-22T15:32:57.860103Z",
     "shell.execute_reply": "2022-06-22T15:32:57.861078Z"
    },
    "id": "52c31dea",
    "papermill": {
     "duration": 0.082164,
     "end_time": "2022-06-22T15:32:57.861321",
     "exception": false,
     "start_time": "2022-06-22T15:32:57.779157",
     "status": "completed"
    },
    "tags": []
   },
   "outputs": [
    {
     "name": "stdout",
     "output_type": "stream",
     "text": [
      "Weight of the node at skip connection\n",
      "Parameter containing:\n",
      "tensor([[0.1065]], requires_grad=True)\n"
     ]
    },
    {
     "data": {
      "application/scrapbook.scrap.json+json": {
       "data": 0.10650020092725754,
       "encoder": "json",
       "name": "Skip Connection Weight",
       "version": 1
      }
     },
     "metadata": {
      "scrapbook": {
       "data": true,
       "display": false,
       "name": "Skip Connection Weight"
      }
     },
     "output_type": "display_data"
    }
   ],
   "source": [
    "print(\"Weight of the node at skip connection\")\n",
    "for name,param in gen3.named_parameters():\n",
    "    if(name == \"skipNode.weight\"):\n",
    "        print(param)\n",
    "        sb.glue(\"Skip Connection Weight\",param.item())"
   ]
  }
 ],
 "metadata": {
  "colab": {
   "collapsed_sections": [],
   "name": "ABC_GAN_Model-Catboost_Pre-gen.ipynb",
   "provenance": []
  },
  "interpreter": {
   "hash": "31f2aee4e71d21fbe5cf8b01ff0e069b9275f58929596ceb00d14d90e3e16cd6"
  },
  "kernelspec": {
   "display_name": "Python 3 (ipykernel)",
   "language": "python",
   "name": "python3"
  },
  "language_info": {
   "codemirror_mode": {
    "name": "ipython",
    "version": 3
   },
   "file_extension": ".py",
   "mimetype": "text/x-python",
   "name": "python",
   "nbconvert_exporter": "python",
   "pygments_lexer": "ipython3",
   "version": "3.8.3"
  },
  "papermill": {
   "default_parameters": {},
   "duration": 170.574042,
   "end_time": "2022-06-22T15:32:59.921596",
   "environment_variables": {},
   "exception": null,
   "input_path": "ABC_GAN-TabNet.ipynb",
   "output_path": "./ABC_GAN_TabNet/ABC-GAN_output_8_7.ipynb",
   "parameters": {
    "bias": 0.01,
    "variance": 0.1
   },
   "start_time": "2022-06-22T15:30:09.347554",
   "version": "2.3.3"
  }
 },
 "nbformat": 4,
 "nbformat_minor": 5
}