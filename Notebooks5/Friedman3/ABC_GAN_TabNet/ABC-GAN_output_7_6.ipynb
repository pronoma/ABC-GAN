{
 "cells": [
  {
   "cell_type": "markdown",
   "id": "622780e6",
   "metadata": {
    "id": "622780e6",
    "papermill": {
     "duration": 0.022096,
     "end_time": "2022-06-22T15:00:24.410660",
     "exception": false,
     "start_time": "2022-06-22T15:00:24.388564",
     "status": "completed"
    },
    "tags": []
   },
   "source": [
    "## Import Libraries "
   ]
  },
  {
   "cell_type": "code",
   "execution_count": 1,
   "id": "a62397e3",
   "metadata": {
    "execution": {
     "iopub.execute_input": "2022-06-22T15:00:24.462752Z",
     "iopub.status.busy": "2022-06-22T15:00:24.460817Z",
     "iopub.status.idle": "2022-06-22T15:00:24.463528Z",
     "shell.execute_reply": "2022-06-22T15:00:24.461926Z"
    },
    "id": "a62397e3",
    "papermill": {
     "duration": 0.034669,
     "end_time": "2022-06-22T15:00:24.463762",
     "exception": false,
     "start_time": "2022-06-22T15:00:24.429093",
     "status": "completed"
    },
    "tags": []
   },
   "outputs": [],
   "source": [
    "import warnings\n",
    "import sys\n",
    "sys.path.insert(0, '../../src')\n",
    "warnings.filterwarnings('ignore')"
   ]
  },
  {
   "cell_type": "code",
   "execution_count": 2,
   "id": "d6a4e155",
   "metadata": {
    "execution": {
     "iopub.execute_input": "2022-06-22T15:00:24.501109Z",
     "iopub.status.busy": "2022-06-22T15:00:24.500251Z",
     "iopub.status.idle": "2022-06-22T15:00:30.394499Z",
     "shell.execute_reply": "2022-06-22T15:00:30.395251Z"
    },
    "id": "d6a4e155",
    "papermill": {
     "duration": 5.91413,
     "end_time": "2022-06-22T15:00:30.395479",
     "exception": false,
     "start_time": "2022-06-22T15:00:24.481349",
     "status": "completed"
    },
    "tags": []
   },
   "outputs": [],
   "source": [
    "import ABC_train_test2\n",
    "import friedman3Dataset\n",
    "import network\n",
    "import dataset\n",
    "import sanityChecks\n",
    "import torch \n",
    "import scrapbook as sb\n",
    "from statistics import mean \n",
    "import catboost as ctb \n",
    "from sklearn.model_selection import train_test_split\n",
    "from sklearn.metrics import mean_squared_error,mean_absolute_error\n",
    "import numpy as np\n",
    "from pytorch_tabnet.tab_model import TabNetRegressor"
   ]
  },
  {
   "cell_type": "markdown",
   "id": "2fa5b0f7",
   "metadata": {
    "id": "2fa5b0f7",
    "papermill": {
     "duration": 0.016442,
     "end_time": "2022-06-22T15:00:30.427396",
     "exception": false,
     "start_time": "2022-06-22T15:00:30.410954",
     "status": "completed"
    },
    "tags": []
   },
   "source": [
    "## Parameters "
   ]
  },
  {
   "cell_type": "code",
   "execution_count": 3,
   "id": "783186fb",
   "metadata": {
    "execution": {
     "iopub.execute_input": "2022-06-22T15:00:30.467394Z",
     "iopub.status.busy": "2022-06-22T15:00:30.466154Z",
     "iopub.status.idle": "2022-06-22T15:00:30.473558Z",
     "shell.execute_reply": "2022-06-22T15:00:30.475924Z"
    },
    "id": "783186fb",
    "papermill": {
     "duration": 0.032217,
     "end_time": "2022-06-22T15:00:30.476174",
     "exception": false,
     "start_time": "2022-06-22T15:00:30.443957",
     "status": "completed"
    },
    "tags": [
     "parameters"
    ]
   },
   "outputs": [],
   "source": [
    "variance = 1\n",
    "bias = 1 "
   ]
  },
  {
   "cell_type": "code",
   "execution_count": 4,
   "id": "8334bc10",
   "metadata": {
    "execution": {
     "iopub.execute_input": "2022-06-22T15:00:30.520383Z",
     "iopub.status.busy": "2022-06-22T15:00:30.519176Z",
     "iopub.status.idle": "2022-06-22T15:00:30.521057Z",
     "shell.execute_reply": "2022-06-22T15:00:30.519745Z"
    },
    "papermill": {
     "duration": 0.031921,
     "end_time": "2022-06-22T15:00:30.523837",
     "exception": false,
     "start_time": "2022-06-22T15:00:30.491916",
     "status": "completed"
    },
    "tags": [
     "injected-parameters"
    ]
   },
   "outputs": [],
   "source": [
    "# Parameters\n",
    "variance = 1\n",
    "bias = 0.01\n"
   ]
  },
  {
   "cell_type": "markdown",
   "id": "391cdbfd",
   "metadata": {
    "id": "391cdbfd",
    "papermill": {
     "duration": 0.026618,
     "end_time": "2022-06-22T15:00:30.574940",
     "exception": false,
     "start_time": "2022-06-22T15:00:30.548322",
     "status": "completed"
    },
    "tags": []
   },
   "source": [
    "## Dataset \n"
   ]
  },
  {
   "cell_type": "code",
   "execution_count": 5,
   "id": "5b51f161",
   "metadata": {
    "execution": {
     "iopub.execute_input": "2022-06-22T15:00:30.618669Z",
     "iopub.status.busy": "2022-06-22T15:00:30.616000Z",
     "iopub.status.idle": "2022-06-22T15:00:30.620895Z",
     "shell.execute_reply": "2022-06-22T15:00:30.622000Z"
    },
    "id": "5b51f161",
    "papermill": {
     "duration": 0.033159,
     "end_time": "2022-06-22T15:00:30.624062",
     "exception": false,
     "start_time": "2022-06-22T15:00:30.590903",
     "status": "completed"
    },
    "tags": []
   },
   "outputs": [],
   "source": [
    "#Parameters \n",
    "n_features = 4\n",
    "n_samples= 100\n",
    "n_target = 1"
   ]
  },
  {
   "cell_type": "code",
   "execution_count": 6,
   "id": "5d6eced4",
   "metadata": {
    "execution": {
     "iopub.execute_input": "2022-06-22T15:00:30.683710Z",
     "iopub.status.busy": "2022-06-22T15:00:30.673283Z",
     "iopub.status.idle": "2022-06-22T15:00:30.699781Z",
     "shell.execute_reply": "2022-06-22T15:00:30.700361Z"
    },
    "id": "5d6eced4",
    "papermill": {
     "duration": 0.062666,
     "end_time": "2022-06-22T15:00:30.700612",
     "exception": false,
     "start_time": "2022-06-22T15:00:30.637946",
     "status": "completed"
    },
    "tags": []
   },
   "outputs": [
    {
     "name": "stdout",
     "output_type": "stream",
     "text": [
      "          X1           X2        X3         X4         Y\n",
      "0  67.458835  1460.745270  0.012331   2.172074  0.164844\n",
      "1  67.745328   387.895189  0.011741   7.102254  0.016634\n",
      "2  74.423267  1396.650705  0.712991   3.016984  1.601587\n",
      "3  83.808049  1634.111026  0.593619  10.745176  1.388165\n",
      "4   6.855960   879.804767  0.899942  10.003102  1.549433\n"
     ]
    }
   ],
   "source": [
    "X,Y = friedman3Dataset.friedman3_data(n_samples)"
   ]
  },
  {
   "cell_type": "code",
   "execution_count": 7,
   "id": "fe007438",
   "metadata": {
    "execution": {
     "iopub.execute_input": "2022-06-22T15:00:30.836025Z",
     "iopub.status.busy": "2022-06-22T15:00:30.817693Z",
     "iopub.status.idle": "2022-06-22T15:00:30.847484Z",
     "shell.execute_reply": "2022-06-22T15:00:30.829805Z"
    },
    "id": "fe007438",
    "papermill": {
     "duration": 0.089197,
     "end_time": "2022-06-22T15:00:30.848735",
     "exception": false,
     "start_time": "2022-06-22T15:00:30.759538",
     "status": "completed"
    },
    "tags": []
   },
   "outputs": [],
   "source": [
    "#Train test split for dataset \n",
    "X_train,X_test,Y_train,Y_test = train_test_split(X,Y,test_size = 0.2)\n",
    "train_data = dataset.CustomDataset(X_train,Y_train)\n",
    "test_data = dataset.CustomDataset(X_test,Y_test)\n"
   ]
  },
  {
   "cell_type": "markdown",
   "id": "a9a1af34",
   "metadata": {
    "id": "a9a1af34",
    "papermill": {
     "duration": 0.018047,
     "end_time": "2022-06-22T15:00:30.887550",
     "exception": false,
     "start_time": "2022-06-22T15:00:30.869503",
     "status": "completed"
    },
    "tags": []
   },
   "source": [
    "## Training Parameters "
   ]
  },
  {
   "cell_type": "code",
   "execution_count": 8,
   "id": "952b7fc8",
   "metadata": {
    "execution": {
     "iopub.execute_input": "2022-06-22T15:00:30.937220Z",
     "iopub.status.busy": "2022-06-22T15:00:30.933556Z",
     "iopub.status.idle": "2022-06-22T15:00:30.938959Z",
     "shell.execute_reply": "2022-06-22T15:00:30.938272Z"
    },
    "id": "952b7fc8",
    "papermill": {
     "duration": 0.035466,
     "end_time": "2022-06-22T15:00:30.939188",
     "exception": false,
     "start_time": "2022-06-22T15:00:30.903722",
     "status": "completed"
    },
    "tags": []
   },
   "outputs": [],
   "source": [
    "batch_size = 32\n",
    "n_epochs = 1000\n",
    "#Select the device \n",
    "device = torch.device('cuda' if torch.cuda.is_available() else 'cpu')"
   ]
  },
  {
   "cell_type": "markdown",
   "id": "a95e1600",
   "metadata": {
    "id": "a95e1600",
    "papermill": {
     "duration": 0.014188,
     "end_time": "2022-06-22T15:00:30.969772",
     "exception": false,
     "start_time": "2022-06-22T15:00:30.955584",
     "status": "completed"
    },
    "tags": []
   },
   "source": [
    "# ABC Pre-generator Model \n",
    "\n",
    "1. The catboost model is used as a pre-generator model for the ABC-GAN. \n",
    "2. The model is first trained on the entire dataset \n",
    "3. It generats X,Y pairs and we add some Gaussian noise with mean 0 and variance 1 to it which is then feed as input to the generator.\n"
   ]
  },
  {
   "cell_type": "code",
   "execution_count": 9,
   "id": "ff8ce7bd",
   "metadata": {
    "execution": {
     "iopub.execute_input": "2022-06-22T15:00:31.004156Z",
     "iopub.status.busy": "2022-06-22T15:00:31.003153Z",
     "iopub.status.idle": "2022-06-22T15:00:44.753386Z",
     "shell.execute_reply": "2022-06-22T15:00:44.752913Z"
    },
    "id": "ff8ce7bd",
    "papermill": {
     "duration": 13.77036,
     "end_time": "2022-06-22T15:00:44.753564",
     "exception": false,
     "start_time": "2022-06-22T15:00:30.983204",
     "status": "completed"
    },
    "tags": []
   },
   "outputs": [
    {
     "name": "stdout",
     "output_type": "stream",
     "text": [
      "Device used : cpu\n"
     ]
    },
    {
     "name": "stdout",
     "output_type": "stream",
     "text": [
      "epoch 0  | loss: 1.21825 | train_mse: 3.10693 | train_mae: 1.27426 |  0:00:00s\n",
      "epoch 1  | loss: 0.74519 | train_mse: 2.87255 | train_mae: 1.1746  |  0:00:00s\n",
      "epoch 2  | loss: 0.66383 | train_mse: 2.44413 | train_mae: 1.08369 |  0:00:00s\n"
     ]
    },
    {
     "name": "stdout",
     "output_type": "stream",
     "text": [
      "epoch 3  | loss: 0.43445 | train_mse: 2.18008 | train_mae: 1.03124 |  0:00:00s\n",
      "epoch 4  | loss: 1.00312 | train_mse: 2.21967 | train_mae: 1.06592 |  0:00:00s\n",
      "epoch 5  | loss: 0.59509 | train_mse: 1.71542 | train_mae: 0.90504 |  0:00:00s\n"
     ]
    },
    {
     "name": "stdout",
     "output_type": "stream",
     "text": [
      "epoch 6  | loss: 0.63384 | train_mse: 1.0332  | train_mae: 0.69822 |  0:00:00s\n",
      "epoch 7  | loss: 0.68695 | train_mse: 0.84982 | train_mae: 0.64905 |  0:00:00s\n",
      "epoch 8  | loss: 0.54228 | train_mse: 0.89017 | train_mae: 0.65036 |  0:00:00s\n"
     ]
    },
    {
     "name": "stdout",
     "output_type": "stream",
     "text": [
      "epoch 9  | loss: 0.5327  | train_mse: 1.02538 | train_mae: 0.67824 |  0:00:00s\n",
      "epoch 10 | loss: 0.45887 | train_mse: 1.35144 | train_mae: 0.7293  |  0:00:01s\n",
      "epoch 11 | loss: 0.35397 | train_mse: 1.35125 | train_mae: 0.66176 |  0:00:01s\n"
     ]
    },
    {
     "name": "stdout",
     "output_type": "stream",
     "text": [
      "epoch 12 | loss: 0.43223 | train_mse: 1.04503 | train_mae: 0.59411 |  0:00:01s\n",
      "epoch 13 | loss: 0.50358 | train_mse: 0.6699  | train_mae: 0.51778 |  0:00:01s\n",
      "epoch 14 | loss: 0.59514 | train_mse: 0.41394 | train_mae: 0.47149 |  0:00:01s\n"
     ]
    },
    {
     "name": "stdout",
     "output_type": "stream",
     "text": [
      "epoch 15 | loss: 0.31797 | train_mse: 0.41192 | train_mae: 0.50642 |  0:00:01s\n",
      "epoch 16 | loss: 0.54434 | train_mse: 0.5646  | train_mae: 0.52957 |  0:00:01s\n",
      "epoch 17 | loss: 0.43679 | train_mse: 0.58558 | train_mae: 0.53237 |  0:00:01s\n",
      "epoch 18 | loss: 0.41843 | train_mse: 0.2881  | train_mae: 0.40004 |  0:00:01s\n"
     ]
    },
    {
     "name": "stdout",
     "output_type": "stream",
     "text": [
      "epoch 19 | loss: 0.37393 | train_mse: 0.60719 | train_mae: 0.50303 |  0:00:01s\n",
      "epoch 20 | loss: 0.26174 | train_mse: 1.09157 | train_mae: 0.65061 |  0:00:01s\n",
      "epoch 21 | loss: 0.40367 | train_mse: 0.82825 | train_mae: 0.54158 |  0:00:01s\n",
      "epoch 22 | loss: 0.27674 | train_mse: 0.64023 | train_mae: 0.51203 |  0:00:01s\n"
     ]
    },
    {
     "name": "stdout",
     "output_type": "stream",
     "text": [
      "epoch 23 | loss: 0.34039 | train_mse: 0.5485  | train_mae: 0.46215 |  0:00:01s\n",
      "epoch 24 | loss: 0.35009 | train_mse: 0.59793 | train_mae: 0.48284 |  0:00:01s\n",
      "epoch 25 | loss: 0.34818 | train_mse: 0.34348 | train_mae: 0.38141 |  0:00:02s\n"
     ]
    },
    {
     "name": "stdout",
     "output_type": "stream",
     "text": [
      "epoch 26 | loss: 0.24281 | train_mse: 0.23869 | train_mae: 0.34729 |  0:00:02s\n",
      "epoch 27 | loss: 0.34859 | train_mse: 0.23741 | train_mae: 0.35195 |  0:00:02s\n",
      "epoch 28 | loss: 0.30264 | train_mse: 0.27523 | train_mae: 0.38439 |  0:00:02s\n"
     ]
    },
    {
     "name": "stdout",
     "output_type": "stream",
     "text": [
      "epoch 29 | loss: 0.22344 | train_mse: 0.24485 | train_mae: 0.36607 |  0:00:02s\n",
      "epoch 30 | loss: 0.21473 | train_mse: 0.2378  | train_mae: 0.36607 |  0:00:02s\n",
      "epoch 31 | loss: 0.2592  | train_mse: 0.22448 | train_mae: 0.36006 |  0:00:02s\n",
      "epoch 32 | loss: 0.23165 | train_mse: 0.21567 | train_mae: 0.36374 |  0:00:02s\n"
     ]
    },
    {
     "name": "stdout",
     "output_type": "stream",
     "text": [
      "epoch 33 | loss: 0.20723 | train_mse: 0.20372 | train_mae: 0.34675 |  0:00:02s\n",
      "epoch 34 | loss: 0.26796 | train_mse: 0.18209 | train_mae: 0.33533 |  0:00:02s\n",
      "epoch 35 | loss: 0.19414 | train_mse: 0.15227 | train_mae: 0.30078 |  0:00:02s\n"
     ]
    },
    {
     "name": "stdout",
     "output_type": "stream",
     "text": [
      "epoch 36 | loss: 0.15583 | train_mse: 0.19255 | train_mae: 0.32417 |  0:00:02s\n",
      "epoch 37 | loss: 0.1592  | train_mse: 0.17321 | train_mae: 0.30937 |  0:00:02s\n",
      "epoch 38 | loss: 0.14216 | train_mse: 0.15869 | train_mae: 0.2994  |  0:00:02s\n"
     ]
    },
    {
     "name": "stdout",
     "output_type": "stream",
     "text": [
      "epoch 39 | loss: 0.2341  | train_mse: 0.13963 | train_mae: 0.28874 |  0:00:02s\n",
      "epoch 40 | loss: 0.14191 | train_mse: 0.1428  | train_mae: 0.29183 |  0:00:03s\n",
      "epoch 41 | loss: 0.17768 | train_mse: 0.17906 | train_mae: 0.31818 |  0:00:03s\n"
     ]
    },
    {
     "name": "stdout",
     "output_type": "stream",
     "text": [
      "epoch 42 | loss: 0.26667 | train_mse: 0.20366 | train_mae: 0.3198  |  0:00:03s\n",
      "epoch 43 | loss: 0.23012 | train_mse: 0.19613 | train_mae: 0.31541 |  0:00:03s\n",
      "epoch 44 | loss: 0.24591 | train_mse: 0.16969 | train_mae: 0.29824 |  0:00:03s\n",
      "epoch 45 | loss: 0.19709 | train_mse: 0.15574 | train_mae: 0.29515 |  0:00:03s\n"
     ]
    },
    {
     "name": "stdout",
     "output_type": "stream",
     "text": [
      "epoch 46 | loss: 0.23821 | train_mse: 0.16321 | train_mae: 0.29919 |  0:00:03s\n",
      "epoch 47 | loss: 0.18069 | train_mse: 0.161   | train_mae: 0.29638 |  0:00:03s\n",
      "epoch 48 | loss: 0.14639 | train_mse: 0.2521  | train_mae: 0.3401  |  0:00:03s\n",
      "epoch 49 | loss: 0.28202 | train_mse: 0.32395 | train_mae: 0.37102 |  0:00:03s\n"
     ]
    },
    {
     "name": "stdout",
     "output_type": "stream",
     "text": [
      "epoch 50 | loss: 0.18601 | train_mse: 0.26756 | train_mae: 0.35029 |  0:00:03s\n",
      "epoch 51 | loss: 0.35803 | train_mse: 0.14452 | train_mae: 0.28173 |  0:00:03s\n",
      "epoch 52 | loss: 0.19383 | train_mse: 0.12584 | train_mae: 0.25795 |  0:00:03s\n"
     ]
    },
    {
     "name": "stdout",
     "output_type": "stream",
     "text": [
      "epoch 53 | loss: 0.26652 | train_mse: 0.13286 | train_mae: 0.26564 |  0:00:03s\n",
      "epoch 54 | loss: 0.31929 | train_mse: 0.13317 | train_mae: 0.26758 |  0:00:03s\n",
      "epoch 55 | loss: 0.181   | train_mse: 0.14607 | train_mae: 0.27874 |  0:00:04s\n",
      "epoch 56 | loss: 0.2509  | train_mse: 0.14704 | train_mae: 0.28569 |  0:00:04s\n"
     ]
    },
    {
     "name": "stdout",
     "output_type": "stream",
     "text": [
      "epoch 57 | loss: 0.20504 | train_mse: 0.14916 | train_mae: 0.28054 |  0:00:04s\n",
      "epoch 58 | loss: 0.19991 | train_mse: 0.13029 | train_mae: 0.27077 |  0:00:04s\n",
      "epoch 59 | loss: 0.14445 | train_mse: 0.1157  | train_mae: 0.26825 |  0:00:04s\n",
      "epoch 60 | loss: 0.15071 | train_mse: 0.11809 | train_mae: 0.26553 |  0:00:04s\n"
     ]
    },
    {
     "name": "stdout",
     "output_type": "stream",
     "text": [
      "epoch 61 | loss: 0.28763 | train_mse: 0.13548 | train_mae: 0.28302 |  0:00:04s\n",
      "epoch 62 | loss: 0.27438 | train_mse: 0.13294 | train_mae: 0.2767  |  0:00:04s\n",
      "epoch 63 | loss: 0.14178 | train_mse: 0.11864 | train_mae: 0.25907 |  0:00:04s\n"
     ]
    },
    {
     "name": "stdout",
     "output_type": "stream",
     "text": [
      "epoch 64 | loss: 0.20716 | train_mse: 0.11797 | train_mae: 0.24697 |  0:00:04s\n",
      "epoch 65 | loss: 0.15985 | train_mse: 0.15024 | train_mae: 0.27524 |  0:00:04s\n",
      "epoch 66 | loss: 0.18029 | train_mse: 0.1621  | train_mae: 0.27773 |  0:00:04s\n"
     ]
    },
    {
     "name": "stdout",
     "output_type": "stream",
     "text": [
      "epoch 67 | loss: 0.19127 | train_mse: 0.16517 | train_mae: 0.28094 |  0:00:04s\n",
      "epoch 68 | loss: 0.12191 | train_mse: 0.13868 | train_mae: 0.26245 |  0:00:05s\n",
      "epoch 69 | loss: 0.12222 | train_mse: 0.15065 | train_mae: 0.28442 |  0:00:05s\n"
     ]
    },
    {
     "name": "stdout",
     "output_type": "stream",
     "text": [
      "epoch 70 | loss: 0.16786 | train_mse: 0.15359 | train_mae: 0.29429 |  0:00:05s\n",
      "epoch 71 | loss: 0.2341  | train_mse: 0.16816 | train_mae: 0.29789 |  0:00:05s\n",
      "epoch 72 | loss: 0.17921 | train_mse: 0.1695  | train_mae: 0.28676 |  0:00:05s\n"
     ]
    },
    {
     "name": "stdout",
     "output_type": "stream",
     "text": [
      "epoch 73 | loss: 0.18095 | train_mse: 0.15383 | train_mae: 0.27398 |  0:00:05s\n",
      "epoch 74 | loss: 0.14881 | train_mse: 0.14423 | train_mae: 0.26249 |  0:00:05s\n",
      "epoch 75 | loss: 0.1378  | train_mse: 0.16236 | train_mae: 0.28246 |  0:00:05s\n"
     ]
    },
    {
     "name": "stdout",
     "output_type": "stream",
     "text": [
      "epoch 76 | loss: 0.18934 | train_mse: 0.17187 | train_mae: 0.29306 |  0:00:05s\n",
      "epoch 77 | loss: 0.13703 | train_mse: 0.17298 | train_mae: 0.28322 |  0:00:05s\n"
     ]
    },
    {
     "name": "stdout",
     "output_type": "stream",
     "text": [
      "epoch 78 | loss: 0.13851 | train_mse: 0.1676  | train_mae: 0.27687 |  0:00:05s\n",
      "epoch 79 | loss: 0.21696 | train_mse: 0.12534 | train_mae: 0.24688 |  0:00:06s\n",
      "epoch 80 | loss: 0.11851 | train_mse: 0.09654 | train_mae: 0.23997 |  0:00:06s\n"
     ]
    },
    {
     "name": "stdout",
     "output_type": "stream",
     "text": [
      "epoch 81 | loss: 0.207   | train_mse: 0.09734 | train_mae: 0.23674 |  0:00:06s\n",
      "epoch 82 | loss: 0.23984 | train_mse: 0.11502 | train_mae: 0.24002 |  0:00:06s\n",
      "epoch 83 | loss: 0.17021 | train_mse: 0.14108 | train_mae: 0.26776 |  0:00:06s\n"
     ]
    },
    {
     "name": "stdout",
     "output_type": "stream",
     "text": [
      "epoch 84 | loss: 0.10703 | train_mse: 0.13862 | train_mae: 0.25821 |  0:00:06s\n",
      "epoch 85 | loss: 0.23836 | train_mse: 0.14648 | train_mae: 0.27568 |  0:00:06s\n",
      "epoch 86 | loss: 0.14648 | train_mse: 0.13054 | train_mae: 0.25521 |  0:00:06s\n",
      "epoch 87 | loss: 0.21783 | train_mse: 0.11538 | train_mae: 0.25305 |  0:00:06s\n"
     ]
    },
    {
     "name": "stdout",
     "output_type": "stream",
     "text": [
      "epoch 88 | loss: 0.14925 | train_mse: 0.10522 | train_mae: 0.24671 |  0:00:06s\n",
      "epoch 89 | loss: 0.26692 | train_mse: 0.11243 | train_mae: 0.24475 |  0:00:06s\n",
      "epoch 90 | loss: 0.13805 | train_mse: 0.14655 | train_mae: 0.25947 |  0:00:06s\n",
      "epoch 91 | loss: 0.20932 | train_mse: 0.14358 | train_mae: 0.25176 |  0:00:06s\n"
     ]
    },
    {
     "name": "stdout",
     "output_type": "stream",
     "text": [
      "epoch 92 | loss: 0.18239 | train_mse: 0.16836 | train_mae: 0.27592 |  0:00:06s\n",
      "epoch 93 | loss: 0.39322 | train_mse: 0.17068 | train_mae: 0.28437 |  0:00:06s\n",
      "epoch 94 | loss: 0.15043 | train_mse: 0.12179 | train_mae: 0.24909 |  0:00:07s\n",
      "epoch 95 | loss: 0.14542 | train_mse: 0.09716 | train_mae: 0.22938 |  0:00:07s\n"
     ]
    },
    {
     "name": "stdout",
     "output_type": "stream",
     "text": [
      "epoch 96 | loss: 0.18514 | train_mse: 0.09495 | train_mae: 0.23552 |  0:00:07s\n",
      "epoch 97 | loss: 0.19106 | train_mse: 0.10459 | train_mae: 0.24315 |  0:00:07s\n",
      "epoch 98 | loss: 0.25706 | train_mse: 0.10801 | train_mae: 0.22898 |  0:00:07s\n"
     ]
    },
    {
     "name": "stdout",
     "output_type": "stream",
     "text": [
      "epoch 99 | loss: 0.1623  | train_mse: 0.11056 | train_mae: 0.24087 |  0:00:07s\n",
      "epoch 100| loss: 0.10233 | train_mse: 0.09811 | train_mae: 0.22935 |  0:00:07s\n",
      "epoch 101| loss: 0.27056 | train_mse: 0.09222 | train_mae: 0.22981 |  0:00:07s\n",
      "epoch 102| loss: 0.1492  | train_mse: 0.09864 | train_mae: 0.2306  |  0:00:07s\n"
     ]
    },
    {
     "name": "stdout",
     "output_type": "stream",
     "text": [
      "epoch 103| loss: 0.14696 | train_mse: 0.10688 | train_mae: 0.23163 |  0:00:07s\n",
      "epoch 104| loss: 0.08502 | train_mse: 0.09825 | train_mae: 0.22185 |  0:00:07s\n",
      "epoch 105| loss: 0.09989 | train_mse: 0.11123 | train_mae: 0.23728 |  0:00:07s\n",
      "epoch 106| loss: 0.17727 | train_mse: 0.10879 | train_mae: 0.22538 |  0:00:07s\n"
     ]
    },
    {
     "name": "stdout",
     "output_type": "stream",
     "text": [
      "epoch 107| loss: 0.16249 | train_mse: 0.0935  | train_mae: 0.22624 |  0:00:07s\n",
      "epoch 108| loss: 0.18923 | train_mse: 0.10662 | train_mae: 0.22879 |  0:00:07s\n",
      "epoch 109| loss: 0.24917 | train_mse: 0.11785 | train_mae: 0.23439 |  0:00:08s\n",
      "epoch 110| loss: 0.10014 | train_mse: 0.11646 | train_mae: 0.23758 |  0:00:08s\n"
     ]
    },
    {
     "name": "stdout",
     "output_type": "stream",
     "text": [
      "epoch 111| loss: 0.35915 | train_mse: 0.10506 | train_mae: 0.23889 |  0:00:08s\n",
      "epoch 112| loss: 0.23701 | train_mse: 0.08621 | train_mae: 0.23697 |  0:00:08s\n",
      "epoch 113| loss: 0.09133 | train_mse: 0.0733  | train_mae: 0.21433 |  0:00:08s\n"
     ]
    },
    {
     "name": "stdout",
     "output_type": "stream",
     "text": [
      "epoch 114| loss: 0.11858 | train_mse: 0.07971 | train_mae: 0.21631 |  0:00:08s\n",
      "epoch 115| loss: 0.10587 | train_mse: 0.08332 | train_mae: 0.21472 |  0:00:08s\n",
      "epoch 116| loss: 0.14728 | train_mse: 0.10277 | train_mae: 0.22388 |  0:00:08s\n",
      "epoch 117| loss: 0.09914 | train_mse: 0.10395 | train_mae: 0.22419 |  0:00:08s\n"
     ]
    },
    {
     "name": "stdout",
     "output_type": "stream",
     "text": [
      "epoch 118| loss: 0.20506 | train_mse: 0.12816 | train_mae: 0.24041 |  0:00:08s\n",
      "epoch 119| loss: 0.15296 | train_mse: 0.08682 | train_mae: 0.2088  |  0:00:08s\n",
      "epoch 120| loss: 0.20792 | train_mse: 0.09346 | train_mae: 0.22501 |  0:00:08s\n",
      "epoch 121| loss: 0.09665 | train_mse: 0.09019 | train_mae: 0.22155 |  0:00:08s\n"
     ]
    },
    {
     "name": "stdout",
     "output_type": "stream",
     "text": [
      "epoch 122| loss: 0.24081 | train_mse: 0.07899 | train_mae: 0.21122 |  0:00:08s\n",
      "epoch 123| loss: 0.29176 | train_mse: 0.07577 | train_mae: 0.21182 |  0:00:08s\n",
      "epoch 124| loss: 0.15474 | train_mse: 0.11267 | train_mae: 0.22798 |  0:00:09s\n"
     ]
    },
    {
     "name": "stdout",
     "output_type": "stream",
     "text": [
      "epoch 125| loss: 0.15654 | train_mse: 0.09622 | train_mae: 0.21318 |  0:00:09s\n",
      "epoch 126| loss: 0.19027 | train_mse: 0.09965 | train_mae: 0.21774 |  0:00:09s\n",
      "epoch 127| loss: 0.16875 | train_mse: 0.09284 | train_mae: 0.21902 |  0:00:09s\n"
     ]
    },
    {
     "name": "stdout",
     "output_type": "stream",
     "text": [
      "epoch 128| loss: 0.10198 | train_mse: 0.08452 | train_mae: 0.21414 |  0:00:09s\n",
      "epoch 129| loss: 0.288   | train_mse: 0.08155 | train_mae: 0.21083 |  0:00:09s\n",
      "epoch 130| loss: 0.18814 | train_mse: 0.08188 | train_mae: 0.20235 |  0:00:09s\n",
      "epoch 131| loss: 0.3494  | train_mse: 0.15463 | train_mae: 0.2526  |  0:00:09s\n"
     ]
    },
    {
     "name": "stdout",
     "output_type": "stream",
     "text": [
      "epoch 132| loss: 0.20947 | train_mse: 0.1676  | train_mae: 0.24955 |  0:00:09s\n",
      "epoch 133| loss: 0.12172 | train_mse: 0.09747 | train_mae: 0.22415 |  0:00:09s\n",
      "epoch 134| loss: 0.16614 | train_mse: 0.06901 | train_mae: 0.20575 |  0:00:09s\n",
      "epoch 135| loss: 0.16707 | train_mse: 0.1345  | train_mae: 0.24285 |  0:00:09s\n"
     ]
    },
    {
     "name": "stdout",
     "output_type": "stream",
     "text": [
      "epoch 136| loss: 0.26917 | train_mse: 0.1652  | train_mae: 0.25793 |  0:00:09s\n",
      "epoch 137| loss: 0.30577 | train_mse: 0.14392 | train_mae: 0.24849 |  0:00:09s\n",
      "epoch 138| loss: 0.14419 | train_mse: 0.10623 | train_mae: 0.22948 |  0:00:09s\n",
      "epoch 139| loss: 0.1391  | train_mse: 0.09223 | train_mae: 0.22757 |  0:00:10s\n"
     ]
    },
    {
     "name": "stdout",
     "output_type": "stream",
     "text": [
      "epoch 140| loss: 0.10676 | train_mse: 0.08441 | train_mae: 0.21465 |  0:00:10s\n",
      "epoch 141| loss: 0.16647 | train_mse: 0.07737 | train_mae: 0.20396 |  0:00:10s\n",
      "epoch 142| loss: 0.17739 | train_mse: 0.07636 | train_mae: 0.19896 |  0:00:10s\n"
     ]
    },
    {
     "name": "stdout",
     "output_type": "stream",
     "text": [
      "epoch 143| loss: 0.14792 | train_mse: 0.07138 | train_mae: 0.19879 |  0:00:10s\n",
      "epoch 144| loss: 0.13985 | train_mse: 0.06909 | train_mae: 0.19396 |  0:00:10s\n",
      "epoch 145| loss: 0.2285  | train_mse: 0.07279 | train_mae: 0.20236 |  0:00:10s\n"
     ]
    },
    {
     "name": "stdout",
     "output_type": "stream",
     "text": [
      "epoch 146| loss: 0.12199 | train_mse: 0.08196 | train_mae: 0.21539 |  0:00:10s\n",
      "epoch 147| loss: 0.15562 | train_mse: 0.08187 | train_mae: 0.21934 |  0:00:10s\n",
      "epoch 148| loss: 0.18352 | train_mse: 0.09239 | train_mae: 0.23259 |  0:00:10s\n",
      "epoch 149| loss: 0.24417 | train_mse: 0.08339 | train_mae: 0.22466 |  0:00:10s\n"
     ]
    },
    {
     "name": "stdout",
     "output_type": "stream",
     "text": [
      "epoch 150| loss: 0.1494  | train_mse: 0.08136 | train_mae: 0.20475 |  0:00:10s\n",
      "epoch 151| loss: 0.17241 | train_mse: 0.11001 | train_mae: 0.22494 |  0:00:10s\n",
      "epoch 152| loss: 0.1454  | train_mse: 0.12516 | train_mae: 0.24035 |  0:00:10s\n",
      "epoch 153| loss: 0.1789  | train_mse: 0.11515 | train_mae: 0.23754 |  0:00:10s\n"
     ]
    },
    {
     "name": "stdout",
     "output_type": "stream",
     "text": [
      "epoch 154| loss: 0.16586 | train_mse: 0.08615 | train_mae: 0.21606 |  0:00:11s\n",
      "epoch 155| loss: 0.0959  | train_mse: 0.08105 | train_mae: 0.2034  |  0:00:11s\n",
      "epoch 156| loss: 0.15655 | train_mse: 0.08342 | train_mae: 0.20587 |  0:00:11s\n"
     ]
    },
    {
     "name": "stdout",
     "output_type": "stream",
     "text": [
      "epoch 157| loss: 0.12863 | train_mse: 0.08462 | train_mae: 0.21414 |  0:00:11s\n",
      "epoch 158| loss: 0.12278 | train_mse: 0.08235 | train_mae: 0.21684 |  0:00:11s\n",
      "epoch 159| loss: 0.13799 | train_mse: 0.08399 | train_mae: 0.22038 |  0:00:11s\n",
      "epoch 160| loss: 0.18351 | train_mse: 0.10553 | train_mae: 0.23168 |  0:00:11s\n"
     ]
    },
    {
     "name": "stdout",
     "output_type": "stream",
     "text": [
      "epoch 161| loss: 0.10761 | train_mse: 0.16761 | train_mae: 0.27224 |  0:00:11s\n",
      "epoch 162| loss: 0.17471 | train_mse: 0.13736 | train_mae: 0.25509 |  0:00:11s\n",
      "epoch 163| loss: 0.1906  | train_mse: 0.08378 | train_mae: 0.21444 |  0:00:11s\n",
      "epoch 164| loss: 0.13298 | train_mse: 0.07794 | train_mae: 0.21907 |  0:00:11s\n"
     ]
    },
    {
     "name": "stdout",
     "output_type": "stream",
     "text": [
      "epoch 165| loss: 0.14492 | train_mse: 0.10026 | train_mae: 0.22532 |  0:00:11s\n",
      "epoch 166| loss: 0.15855 | train_mse: 0.11097 | train_mae: 0.23205 |  0:00:11s\n",
      "epoch 167| loss: 0.2729  | train_mse: 0.09054 | train_mae: 0.21764 |  0:00:11s\n",
      "epoch 168| loss: 0.15327 | train_mse: 0.07788 | train_mae: 0.22146 |  0:00:11s\n"
     ]
    },
    {
     "name": "stdout",
     "output_type": "stream",
     "text": [
      "epoch 169| loss: 0.21836 | train_mse: 0.0901  | train_mae: 0.23044 |  0:00:12s\n",
      "epoch 170| loss: 0.17229 | train_mse: 0.09028 | train_mae: 0.23267 |  0:00:12s\n",
      "epoch 171| loss: 0.148   | train_mse: 0.08352 | train_mae: 0.22833 |  0:00:12s\n"
     ]
    },
    {
     "name": "stdout",
     "output_type": "stream",
     "text": [
      "epoch 172| loss: 0.15492 | train_mse: 0.08241 | train_mae: 0.22894 |  0:00:12s\n",
      "epoch 173| loss: 0.22142 | train_mse: 0.08474 | train_mae: 0.2342  |  0:00:12s\n",
      "epoch 174| loss: 0.14692 | train_mse: 0.08771 | train_mae: 0.23162 |  0:00:12s\n",
      "epoch 175| loss: 0.21744 | train_mse: 0.11999 | train_mae: 0.24895 |  0:00:12s\n"
     ]
    },
    {
     "name": "stdout",
     "output_type": "stream",
     "text": [
      "epoch 176| loss: 0.16675 | train_mse: 0.11526 | train_mae: 0.24214 |  0:00:12s\n",
      "epoch 177| loss: 0.19571 | train_mse: 0.08835 | train_mae: 0.2154  |  0:00:12s\n",
      "epoch 178| loss: 0.09475 | train_mse: 0.08668 | train_mae: 0.2142  |  0:00:12s\n",
      "epoch 179| loss: 0.14365 | train_mse: 0.08191 | train_mae: 0.21291 |  0:00:12s\n"
     ]
    },
    {
     "name": "stdout",
     "output_type": "stream",
     "text": [
      "epoch 180| loss: 0.13578 | train_mse: 0.08388 | train_mae: 0.22015 |  0:00:12s\n",
      "epoch 181| loss: 0.15927 | train_mse: 0.0858  | train_mae: 0.22334 |  0:00:12s\n",
      "epoch 182| loss: 0.12557 | train_mse: 0.08342 | train_mae: 0.21846 |  0:00:12s\n",
      "epoch 183| loss: 0.30869 | train_mse: 0.08269 | train_mae: 0.21894 |  0:00:12s\n"
     ]
    },
    {
     "name": "stdout",
     "output_type": "stream",
     "text": [
      "epoch 184| loss: 0.18421 | train_mse: 0.09511 | train_mae: 0.23214 |  0:00:13s\n",
      "epoch 185| loss: 0.16238 | train_mse: 0.10107 | train_mae: 0.24223 |  0:00:13s\n",
      "epoch 186| loss: 0.172   | train_mse: 0.10817 | train_mae: 0.25063 |  0:00:13s\n",
      "epoch 187| loss: 0.14949 | train_mse: 0.09036 | train_mae: 0.23309 |  0:00:13s\n"
     ]
    },
    {
     "name": "stdout",
     "output_type": "stream",
     "text": [
      "epoch 188| loss: 0.17508 | train_mse: 0.08966 | train_mae: 0.22517 |  0:00:13s\n",
      "epoch 189| loss: 0.15965 | train_mse: 0.08192 | train_mae: 0.22158 |  0:00:13s\n",
      "epoch 190| loss: 0.08265 | train_mse: 0.07005 | train_mae: 0.20493 |  0:00:13s\n",
      "epoch 191| loss: 0.13658 | train_mse: 0.08617 | train_mae: 0.21442 |  0:00:13s\n"
     ]
    },
    {
     "name": "stdout",
     "output_type": "stream",
     "text": [
      "epoch 192| loss: 0.17988 | train_mse: 0.12254 | train_mae: 0.24328 |  0:00:13s\n",
      "epoch 193| loss: 0.1115  | train_mse: 0.10249 | train_mae: 0.22425 |  0:00:13s\n",
      "epoch 194| loss: 0.10706 | train_mse: 0.09447 | train_mae: 0.22257 |  0:00:13s\n",
      "\n",
      "Early stopping occurred at epoch 194 with best_epoch = 144 and best_train_mae = 0.19396\n",
      "Best weights from best epoch are automatically used!\n"
     ]
    }
   ],
   "source": [
    "#Train the Model\n",
    "\n",
    "Y_train = np.reshape(Y_train, (-1, 1))\n",
    "Y_test = np.reshape(Y_test, (-1, 1))\n",
    "\n",
    "prior_model = TabNetRegressor(optimizer_fn=torch.optim.Adam, optimizer_params=dict(lr = 0.02),\n",
    "          #scheduler_params={\"step_size\":10, ], \"gamma\":0.9},\n",
    "          #scheduler_fn=torch.optim.lr_scheduler.StepLR\n",
    "          )  #TabNetRegressor()\n",
    "\n",
    "prior_model.fit(X_train,Y_train,eval_set=[(X_train, Y_train)],\n",
    "            eval_name=['train'], \n",
    "            eval_metric=[ 'mse', 'mae'], \n",
    "            max_epochs = n_epochs, \n",
    "            batch_size = batch_size,\n",
    "            patience=50\n",
    "            )"
   ]
  },
  {
   "cell_type": "code",
   "execution_count": 10,
   "id": "af65dcda",
   "metadata": {
    "execution": {
     "iopub.execute_input": "2022-06-22T15:00:44.826332Z",
     "iopub.status.busy": "2022-06-22T15:00:44.825409Z",
     "iopub.status.idle": "2022-06-22T15:00:44.848544Z",
     "shell.execute_reply": "2022-06-22T15:00:44.847999Z"
    },
    "id": "af65dcda",
    "papermill": {
     "duration": 0.068943,
     "end_time": "2022-06-22T15:00:44.848755",
     "exception": false,
     "start_time": "2022-06-22T15:00:44.779812",
     "status": "completed"
    },
    "tags": []
   },
   "outputs": [
    {
     "data": {
      "application/scrapbook.scrap.json+json": {
       "data": 0.27177998592924874,
       "encoder": "json",
       "name": "Prior Model MSE",
       "version": 1
      }
     },
     "metadata": {
      "scrapbook": {
       "data": true,
       "display": false,
       "name": "Prior Model MSE"
      }
     },
     "output_type": "display_data"
    },
    {
     "data": {
      "application/scrapbook.scrap.json+json": {
       "data": 0.9969399417790864,
       "encoder": "json",
       "name": "ABC Pre-generator MSE",
       "version": 1
      }
     },
     "metadata": {
      "scrapbook": {
       "data": true,
       "display": false,
       "name": "ABC Pre-generator MSE"
      }
     },
     "output_type": "display_data"
    },
    {
     "data": {
      "application/scrapbook.scrap.json+json": {
       "data": 0.41328495775312957,
       "encoder": "json",
       "name": "Prior Model MSE",
       "version": 1
      }
     },
     "metadata": {
      "scrapbook": {
       "data": true,
       "display": false,
       "name": "Prior Model MSE"
      }
     },
     "output_type": "display_data"
    },
    {
     "data": {
      "application/scrapbook.scrap.json+json": {
       "data": 0.8476683165243957,
       "encoder": "json",
       "name": "ABC Pre-generator MSE",
       "version": 1
      }
     },
     "metadata": {
      "scrapbook": {
       "data": true,
       "display": false,
       "name": "ABC Pre-generator MSE"
      }
     },
     "output_type": "display_data"
    }
   ],
   "source": [
    "y_pred = prior_model.predict(X_test)\n",
    "y_abc = y_pred + np.random.normal(0,variance, y_pred.shape) + bias \n",
    "mse = mean_squared_error(y_pred,Y_test)\n",
    "sb.glue(\"Prior Model MSE\",mse)\n",
    "mse = mean_squared_error(y_abc,Y_test)\n",
    "sb.glue(\"ABC Pre-generator MSE\",mse)\n",
    "mae = mean_absolute_error(y_pred,Y_test)\n",
    "sb.glue(\"Prior Model MSE\",mae)\n",
    "mae = mean_absolute_error(y_abc,Y_test)\n",
    "sb.glue(\"ABC Pre-generator MSE\",mae)"
   ]
  },
  {
   "cell_type": "markdown",
   "id": "25609da2",
   "metadata": {
    "papermill": {
     "duration": 0.028971,
     "end_time": "2022-06-22T15:00:44.907852",
     "exception": false,
     "start_time": "2022-06-22T15:00:44.878881",
     "status": "completed"
    },
    "tags": []
   },
   "source": [
    "# ABC GAN Model"
   ]
  },
  {
   "cell_type": "code",
   "execution_count": 11,
   "id": "dfc3464d",
   "metadata": {
    "execution": {
     "iopub.execute_input": "2022-06-22T15:00:44.983101Z",
     "iopub.status.busy": "2022-06-22T15:00:44.982107Z",
     "iopub.status.idle": "2022-06-22T15:00:44.986443Z",
     "shell.execute_reply": "2022-06-22T15:00:44.987051Z"
    },
    "papermill": {
     "duration": 0.048175,
     "end_time": "2022-06-22T15:00:44.987269",
     "exception": false,
     "start_time": "2022-06-22T15:00:44.939094",
     "status": "completed"
    },
    "tags": []
   },
   "outputs": [],
   "source": [
    "gen = network.Generator(n_features+1).to(device)\n",
    "disc = network.Discriminator(n_features+1).to(device)\n",
    "\n",
    "criterion = torch.nn.BCELoss()\n",
    "gen_opt = torch.optim.Adam(gen.parameters(), lr=0.001, betas=(0.5, 0.999))\n",
    "disc_opt = torch.optim.Adam(disc.parameters(), lr=0.001, betas=(0.5, 0.999))"
   ]
  },
  {
   "cell_type": "code",
   "execution_count": 12,
   "id": "b75fdd85",
   "metadata": {
    "execution": {
     "iopub.execute_input": "2022-06-22T15:00:45.048239Z",
     "iopub.status.busy": "2022-06-22T15:00:45.047522Z",
     "iopub.status.idle": "2022-06-22T15:01:25.725204Z",
     "shell.execute_reply": "2022-06-22T15:01:25.725741Z"
    },
    "papermill": {
     "duration": 40.708809,
     "end_time": "2022-06-22T15:01:25.725988",
     "exception": false,
     "start_time": "2022-06-22T15:00:45.017179",
     "status": "completed"
    },
    "tags": []
   },
   "outputs": [
    {
     "data": {
      "image/png": "[encoded data removed]",
      "text/plain": [
       "<Figure size 432x288 with 1 Axes>"
      ]
     },
     "metadata": {
      "needs_background": "light"
     },
     "output_type": "display_data"
    },
    {
     "data": {
      "image/png": "[encoded data removed]",
      "text/plain": [
       "<Figure size 432x288 with 1 Axes>"
      ]
     },
     "metadata": {
      "needs_background": "light"
     },
     "output_type": "display_data"
    }
   ],
   "source": [
    "#Training the ABC_GAN \n",
    "ABC_train_test2.training_GAN(disc,gen,disc_opt,gen_opt,train_data,batch_size,n_epochs,criterion,prior_model,variance,bias,device)"
   ]
  },
  {
   "cell_type": "code",
   "execution_count": 13,
   "id": "1fa7c368",
   "metadata": {
    "execution": {
     "iopub.execute_input": "2022-06-22T15:01:25.809771Z",
     "iopub.status.busy": "2022-06-22T15:01:25.808782Z",
     "iopub.status.idle": "2022-06-22T15:01:26.424228Z",
     "shell.execute_reply": "2022-06-22T15:01:26.424691Z"
    },
    "papermill": {
     "duration": 0.669119,
     "end_time": "2022-06-22T15:01:26.424897",
     "exception": false,
     "start_time": "2022-06-22T15:01:25.755778",
     "status": "completed"
    },
    "tags": []
   },
   "outputs": [
    {
     "data": {
      "application/scrapbook.scrap.json+json": {
       "data": 0.3539547837140207,
       "encoder": "json",
       "name": "ABC-GAN Model 1 MSE",
       "version": 1
      }
     },
     "metadata": {
      "scrapbook": {
       "data": true,
       "display": false,
       "name": "ABC-GAN Model 1 MSE"
      }
     },
     "output_type": "display_data"
    },
    {
     "data": {
      "application/scrapbook.scrap.json+json": {
       "data": 0.4095317551977932,
       "encoder": "json",
       "name": "ABC-GAN Model 1 MAE",
       "version": 1
      }
     },
     "metadata": {
      "scrapbook": {
       "data": true,
       "display": false,
       "name": "ABC-GAN Model 1 MAE"
      }
     },
     "output_type": "display_data"
    },
    {
     "data": {
      "application/scrapbook.scrap.json+json": {
       "data": 8.190635103955865,
       "encoder": "json",
       "name": "ABC-GAN Model 1 Manhattan Distance",
       "version": 1
      }
     },
     "metadata": {
      "scrapbook": {
       "data": true,
       "display": false,
       "name": "ABC-GAN Model 1 Manhattan Distance"
      }
     },
     "output_type": "display_data"
    },
    {
     "data": {
      "application/scrapbook.scrap.json+json": {
       "data": 2.659045249319707,
       "encoder": "json",
       "name": "ABC-GAN Model 1 Euclidean distance",
       "version": 1
      }
     },
     "metadata": {
      "scrapbook": {
       "data": true,
       "display": false,
       "name": "ABC-GAN Model 1 Euclidean distance"
      }
     },
     "output_type": "display_data"
    },
    {
     "data": {
      "application/scrapbook.scrap.json+json": {
       "data": [
        [
         0.36167318824417455,
         0.3615099382790633,
         0.35414124378316675,
         0.3704305189871795,
         0.3758986373040002,
         0.34555312488190676,
         0.3374014805855927,
         0.327189083400529,
         0.298568752905486,
         0.34307188503798824,
         0.3512150458390402,
         0.3424738279071786,
         0.3498866922261438,
         0.3485437150242007,
         0.3776503982393871,
         0.357460210773629,
         0.3771342700727135,
         0.3910410389722925,
         0.37694155282587266,
         0.36474493894712245,
         0.3870385174833028,
         0.2917354376976472,
         0.3568710033520307,
         0.3643772215933556,
         0.3708217145511686,
         0.369757757585919,
         0.3821121986301762,
         0.34705076334152396,
         0.3687079853246824,
         0.33705175262965686,
         0.3774170091126653,
         0.3822265237746759,
         0.3425905811737446,
         0.3849998326414536,
         0.3846790977050424,
         0.3699366539931444,
         0.30549249630450503,
         0.35574189674032836,
         0.3461218456186549,
         0.3904664536064174,
         0.36090462634100096,
         0.36689489310387174,
         0.33489134073942306,
         0.3455956944886778,
         0.35316615961300146,
         0.338782358735003,
         0.3012800484885635,
         0.3145013127196641,
         0.37321247534305413,
         0.35513407521275764,
         0.3806242575862751,
         0.3549118409856456,
         0.3182721131354257,
         0.34906827553830433,
         0.37247731221700914,
         0.3523512492556113,
         0.3377622484242355,
         0.3384167916182693,
         0.36827248355390013,
         0.37318023385401766,
         0.3599593242989097,
         0.36575168226845745,
         0.3346026147552904,
         0.37271157347987394,
         0.3208684310587858,
         0.3583861984719462,
         0.2893965210653088,
         0.36208605323908266,
         0.31511640256716167,
         0.36840979176202365,
         0.3630215129121612,
         0.3496464648440138,
         0.33527383364604485,
         0.3665821303270084,
         0.33510993604369205,
         0.3770935669677954,
         0.3625267804920699,
         0.31542808600578737,
         0.3714946957650587,
         0.384130783667004,
         0.33807030474665745,
         0.3700030742223517,
         0.39234276794564893,
         0.2808234661691432,
         0.3562569418470198,
         0.3747456169893517,
         0.3866955000603709,
         0.317827188584338,
         0.35159557998508634,
         0.3733081617070857,
         0.3482547768716725,
         0.337025940628222,
         0.3635657148427937,
         0.3140029482755543,
         0.3744583652102285,
         0.3235035255949116,
         0.3647914571894341,
         0.3711468348418834,
         0.3657786745243252,
         0.36625906947804576
        ],
        [
         0.42550489087589083,
         0.41352462391369044,
         0.41178167243488134,
         0.4058041953016073,
         0.4213721219915897,
         0.3986375321168453,
         0.4055662908125669,
         0.4027786631602794,
         0.398224274488166,
         0.3972556267399341,
         0.41268515479750933,
         0.40653030839748683,
         0.41957467910833657,
         0.40817398694343865,
         0.4154840019065887,
         0.40889364783652127,
         0.4119308170396835,
         0.42774992692284286,
         0.4167478614021093,
         0.40828217160888014,
         0.42886869902722535,
         0.3916779399383813,
         0.407076057093218,
         0.40857756403274836,
         0.41397771569900216,
         0.4142080780584365,
         0.4247429166454822,
         0.39185612280853094,
         0.4048052687663585,
         0.3887772828806192,
         0.42768614408560096,
         0.42434072676114737,
         0.40421264548785985,
         0.43194416421465576,
         0.4205025334376842,
         0.415601058723405,
         0.3997083288151771,
         0.40899452385492624,
         0.4120980624575168,
         0.42424808028154076,
         0.41599485208280385,
         0.4257463239599019,
         0.4111256823409349,
         0.4135187912266701,
         0.40562147540040316,
         0.3924499907065183,
         0.39178682523779573,
         0.3953369040507823,
         0.4270396743435413,
         0.4095794935245067,
         0.4211444705259055,
         0.4059473738539964,
         0.40176608827896415,
         0.4088327661622316,
         0.41813539345748724,
         0.39833949324674905,
         0.3993161876220256,
         0.4049594257492572,
         0.4057095457334071,
         0.4219557308126241,
         0.40996968518011273,
         0.4047568560112268,
         0.3894132208544761,
         0.41033517378382384,
         0.4032333109993488,
         0.40625440371222793,
         0.37900104676373303,
         0.40425632302649317,
         0.39206932378001513,
         0.42316475478000937,
         0.41651648175902667,
         0.3944958209525794,
         0.39555968609638514,
         0.41159999039955436,
         0.4044653248507529,
         0.4319849312771112,
         0.414912696974352,
         0.4026082031894475,
         0.4077130920719355,
         0.4227008030284196,
         0.40794979822821914,
         0.41293350090272724,
         0.4322953049559146,
         0.3779505726415664,
         0.401437632041052,
         0.4187978849280626,
         0.4220186681021005,
         0.39336770032532514,
         0.4129538007546216,
         0.4207660757470876,
         0.4039191786665469,
         0.40063699972815814,
         0.4232631516177207,
         0.39807650153525176,
         0.41653294120915235,
         0.39376880233176054,
         0.419385100575164,
         0.4168223426211625,
         0.41368277710862456,
         0.4068928070832044
        ],
        [
         8.510097817517817,
         8.270492478273809,
         8.235633448697627,
         8.116083906032145,
         8.427442439831793,
         7.972750642336905,
         8.111325816251338,
         8.055573263205588,
         7.9644854897633195,
         7.945112534798682,
         8.253703095950186,
         8.130606167949736,
         8.391493582166731,
         8.163479738868773,
         8.309680038131773,
         8.177872956730425,
         8.23861634079367,
         8.554998538456857,
         8.334957228042185,
         8.165643432177603,
         8.577373980544508,
         7.833558798767626,
         8.14152114186436,
         8.171551280654967,
         8.279554313980043,
         8.28416156116873,
         8.494858332909644,
         7.8371224561706185,
         8.09610537532717,
         7.775545657612383,
         8.55372288171202,
         8.486814535222948,
         8.084252909757197,
         8.638883284293115,
         8.410050668753684,
         8.3120211744681,
         7.994166576303542,
         8.179890477098525,
         8.241961249150336,
         8.484961605630815,
         8.319897041656077,
         8.514926479198039,
         8.222513646818697,
         8.270375824533403,
         8.112429508008063,
         7.848999814130366,
         7.835736504755914,
         7.9067380810156465,
         8.540793486870825,
         8.191589870490134,
         8.42288941051811,
         8.118947477079928,
         8.035321765579283,
         8.176655323244631,
         8.362707869149745,
         7.966789864934981,
         7.986323752440512,
         8.099188514985144,
         8.114190914668143,
         8.439114616252482,
         8.199393703602254,
         8.095137120224535,
         7.788264417089522,
         8.206703475676477,
         8.064666219986975,
         8.125088074244559,
         7.580020935274661,
         8.085126460529864,
         7.841386475600302,
         8.463295095600188,
         8.330329635180533,
         7.889916419051588,
         7.911193721927702,
         8.231999807991087,
         8.089306497015059,
         8.639698625542223,
         8.29825393948704,
         8.05216406378895,
         8.15426184143871,
         8.454016060568392,
         8.158995964564383,
         8.258670018054545,
         8.645906099118292,
         7.559011452831328,
         8.02875264082104,
         8.375957698561251,
         8.44037336204201,
         7.867354006506503,
         8.259076015092432,
         8.415321514941752,
         8.078383573330939,
         8.012739994563162,
         8.465263032354414,
         7.961530030705035,
         8.330658824183047,
         7.8753760466352105,
         8.38770201150328,
         8.33644685242325,
         8.273655542172492,
         8.137856141664088
        ],
        [
         2.6895099488351946,
         2.688902892553256,
         2.6613577128344352,
         2.721876260917015,
         2.7418921835258225,
         2.628889974426114,
         2.5976969822733085,
         2.558081638261488,
         2.4436397152832736,
         2.619434614713596,
         2.6503397738367065,
         2.617150465323607,
         2.6453230132675434,
         2.6402413337579604,
         2.7482736335357405,
         2.6737995840138393,
         2.7463949827827516,
         2.7965730420366013,
         2.745693183244889,
         2.7009070289335115,
         2.7822239934387123,
         2.4155141800355766,
         2.6715950417382897,
         2.699545226860834,
         2.723313109251922,
         2.7194034551199606,
         2.764460882813053,
         2.6345806624262766,
         2.715540407818239,
         2.5963503331779276,
         2.7474242814413112,
         2.764874405012553,
         2.6175965356553506,
         2.7748867819839194,
         2.773730692425068,
         2.720061227226859,
         2.4718110619725975,
         2.667365354578665,
         2.63105243436407,
         2.794517681484293,
         2.6866508010569627,
         2.708855452414808,
         2.5880159997164744,
         2.62905189940662,
         2.6576913274983665,
         2.60300733281719,
         2.45470995634337,
         2.507992474947499,
         2.7320778734986826,
         2.66508564670165,
         2.7590732414572656,
         2.6642516434663057,
         2.522982810624859,
         2.642227376810347,
         2.72938568992002,
         2.6546233226415055,
         2.5990854100018934,
         2.60160255080698,
         2.713936195100762,
         2.7319598600785397,
         2.6831299793297743,
         2.7046318872203567,
         2.586900132418298,
         2.730243848010188,
         2.533252577453681,
         2.6772605344715563,
         2.405811800890954,
         2.691044604755122,
         2.5104437956949432,
         2.714442085446008,
         2.6945185577841593,
         2.644414736171366,
         2.589493516678676,
         2.7077006124274834,
         2.5888605062602044,
         2.7462467732081013,
         2.6926818619809874,
         2.5116850360098395,
         2.7257831746676358,
         2.7717531768431476,
         2.600270388812123,
         2.720305402789737,
         2.8012239037451074,
         2.3699091382124475,
         2.6692955694228386,
         2.73768375452444,
         2.7809908308384292,
         2.5212187076266828,
         2.651775178951211,
         2.7324280839834953,
         2.6391467442022716,
         2.596250914793183,
         2.696537464389448,
         2.5060045821009758,
         2.736634302241454,
         2.543633328901442,
         2.7010792553697276,
         2.7245066887122276,
         2.7047316854886922,
         2.7065072306500335
        ]
       ],
       "encoder": "json",
       "name": "ABC_GAN_1 Metrics",
       "version": 1
      }
     },
     "metadata": {
      "scrapbook": {
       "data": true,
       "display": false,
       "name": "ABC_GAN_1 Metrics"
      }
     },
     "output_type": "display_data"
    },
    {
     "name": "stdout",
     "output_type": "stream",
     "text": [
      "MSE\n",
      "0.3539547837140207\n"
     ]
    }
   ],
   "source": [
    "ABC_GAN1_metrics=ABC_train_test2.test_generator(gen,test_data,prior_model,variance,bias,\"1\",device)\n",
    "sb.glue(\"ABC_GAN_1 Metrics\",ABC_GAN1_metrics)\n",
    "\n",
    "print(\"MSE\")\n",
    "print(mean(ABC_GAN1_metrics[0]))"
   ]
  },
  {
   "cell_type": "code",
   "execution_count": 14,
   "id": "eb22ce5c",
   "metadata": {
    "execution": {
     "iopub.execute_input": "2022-06-22T15:01:26.504385Z",
     "iopub.status.busy": "2022-06-22T15:01:26.503686Z",
     "iopub.status.idle": "2022-06-22T15:01:27.231153Z",
     "shell.execute_reply": "2022-06-22T15:01:27.231789Z"
    },
    "papermill": {
     "duration": 0.773283,
     "end_time": "2022-06-22T15:01:27.232055",
     "exception": false,
     "start_time": "2022-06-22T15:01:26.458772",
     "status": "completed"
    },
    "tags": []
   },
   "outputs": [
    {
     "data": {
      "image/png": "[encoded data removed]",
      "text/plain": [
       "<Figure size 432x288 with 1 Axes>"
      ]
     },
     "metadata": {
      "needs_background": "light"
     },
     "output_type": "display_data"
    },
    {
     "data": {
      "image/png": "[encoded data removed]",
      "text/plain": [
       "<Figure size 432x288 with 1 Axes>"
      ]
     },
     "metadata": {
      "needs_background": "light"
     },
     "output_type": "display_data"
    },
    {
     "data": {
      "image/png": "[encoded data removed]",
      "text/plain": [
       "<Figure size 432x288 with 1 Axes>"
      ]
     },
     "metadata": {
      "needs_background": "light"
     },
     "output_type": "display_data"
    },
    {
     "data": {
      "image/png": "[encoded data removed]",
      "text/plain": [
       "<Figure size 432x288 with 1 Axes>"
      ]
     },
     "metadata": {
      "needs_background": "light"
     },
     "output_type": "display_data"
    }
   ],
   "source": [
    "sanityChecks.discProbVsError(train_data,disc,device)\n",
    "sanityChecks.discProbVsError(test_data,disc,device)"
   ]
  },
  {
   "cell_type": "markdown",
   "id": "130f3a4d",
   "metadata": {
    "id": "130f3a4d",
    "papermill": {
     "duration": 0.054732,
     "end_time": "2022-06-22T15:01:27.329298",
     "exception": false,
     "start_time": "2022-06-22T15:01:27.274566",
     "status": "completed"
    },
    "tags": []
   },
   "source": [
    "# ABC - GAN Model with skip connection"
   ]
  },
  {
   "cell_type": "code",
   "execution_count": 15,
   "id": "4e43dad1",
   "metadata": {
    "execution": {
     "iopub.execute_input": "2022-06-22T15:01:27.416497Z",
     "iopub.status.busy": "2022-06-22T15:01:27.415750Z",
     "iopub.status.idle": "2022-06-22T15:01:27.420602Z",
     "shell.execute_reply": "2022-06-22T15:01:27.419931Z"
    },
    "id": "4e43dad1",
    "papermill": {
     "duration": 0.050589,
     "end_time": "2022-06-22T15:01:27.421033",
     "exception": false,
     "start_time": "2022-06-22T15:01:27.370444",
     "status": "completed"
    },
    "tags": []
   },
   "outputs": [],
   "source": [
    "#Generator\n",
    "gen3 = network.GeneratorWithSkipConnection(n_features+1).to(device)\n",
    "constraints=network.weightConstraint()\n",
    "#Discriminator \n",
    "disc3 = network.Discriminator(n_features+1).to(device)\n",
    "\n",
    "criterion = torch.nn.BCELoss()\n",
    "gen_opt = torch.optim.Adam(gen3.parameters(), lr=0.001, betas=(0.5, 0.999))\n",
    "disc_opt = torch.optim.Adam(disc3.parameters(), lr=0.001, betas=(0.5, 0.999))\n"
   ]
  },
  {
   "cell_type": "code",
   "execution_count": 16,
   "id": "26acbc37",
   "metadata": {
    "execution": {
     "iopub.execute_input": "2022-06-22T15:01:27.502904Z",
     "iopub.status.busy": "2022-06-22T15:01:27.502188Z",
     "iopub.status.idle": "2022-06-22T15:02:32.294071Z",
     "shell.execute_reply": "2022-06-22T15:02:32.293566Z"
    },
    "id": "26acbc37",
    "papermill": {
     "duration": 64.836835,
     "end_time": "2022-06-22T15:02:32.294256",
     "exception": false,
     "start_time": "2022-06-22T15:01:27.457421",
     "status": "completed"
    },
    "tags": []
   },
   "outputs": [
    {
     "data": {
      "image/png": "[encoded data removed]",
      "text/plain": [
       "<Figure size 432x288 with 1 Axes>"
      ]
     },
     "metadata": {
      "needs_background": "light"
     },
     "output_type": "display_data"
    },
    {
     "data": {
      "image/png": "[encoded data removed]",
      "text/plain": [
       "<Figure size 432x288 with 1 Axes>"
      ]
     },
     "metadata": {
      "needs_background": "light"
     },
     "output_type": "display_data"
    }
   ],
   "source": [
    "ABC_train_test2.training_GAN_skip_connection(disc3,gen3,disc_opt,gen_opt,train_data,batch_size,n_epochs,criterion,prior_model,variance,bias,device)"
   ]
  },
  {
   "cell_type": "code",
   "execution_count": 17,
   "id": "c5e0717b",
   "metadata": {
    "execution": {
     "iopub.execute_input": "2022-06-22T15:02:32.400345Z",
     "iopub.status.busy": "2022-06-22T15:02:32.399507Z",
     "iopub.status.idle": "2022-06-22T15:02:33.128050Z",
     "shell.execute_reply": "2022-06-22T15:02:33.128507Z"
    },
    "id": "c5e0717b",
    "papermill": {
     "duration": 0.788172,
     "end_time": "2022-06-22T15:02:33.128715",
     "exception": false,
     "start_time": "2022-06-22T15:02:32.340543",
     "status": "completed"
    },
    "tags": []
   },
   "outputs": [
    {
     "data": {
      "application/scrapbook.scrap.json+json": {
       "data": 0.3024220297894542,
       "encoder": "json",
       "name": "ABC-GAN Model 3 MSE",
       "version": 1
      }
     },
     "metadata": {
      "scrapbook": {
       "data": true,
       "display": false,
       "name": "ABC-GAN Model 3 MSE"
      }
     },
     "output_type": "display_data"
    },
    {
     "data": {
      "application/scrapbook.scrap.json+json": {
       "data": 0.4426541882250458,
       "encoder": "json",
       "name": "ABC-GAN Model 3 MAE",
       "version": 1
      }
     },
     "metadata": {
      "scrapbook": {
       "data": true,
       "display": false,
       "name": "ABC-GAN Model 3 MAE"
      }
     },
     "output_type": "display_data"
    },
    {
     "data": {
      "application/scrapbook.scrap.json+json": {
       "data": 8.853083764500916,
       "encoder": "json",
       "name": "ABC-GAN Model 3 Manhattan Distance",
       "version": 1
      }
     },
     "metadata": {
      "scrapbook": {
       "data": true,
       "display": false,
       "name": "ABC-GAN Model 3 Manhattan Distance"
      }
     },
     "output_type": "display_data"
    },
    {
     "data": {
      "application/scrapbook.scrap.json+json": {
       "data": 2.456556152694829,
       "encoder": "json",
       "name": "ABC-GAN Model 3 Euclidean distance",
       "version": 1
      }
     },
     "metadata": {
      "scrapbook": {
       "data": true,
       "display": false,
       "name": "ABC-GAN Model 3 Euclidean distance"
      }
     },
     "output_type": "display_data"
    },
    {
     "data": {
      "application/scrapbook.scrap.json+json": {
       "data": [
        [
         0.27911691014155615,
         0.2904585951849853,
         0.2969871146808606,
         0.32250937115970635,
         0.253471824598515,
         0.28748853308337613,
         0.28203190325936933,
         0.3181724394060246,
         0.2656787367916662,
         0.33493680865197784,
         0.30142314514036195,
         0.34888923675373174,
         0.3006422728414724,
         0.29260401871701863,
         0.3106452493564596,
         0.3103185036542328,
         0.3865597166687094,
         0.3109165392576403,
         0.323966548109092,
         0.30833330572031,
         0.2865976350912266,
         0.33546931173585626,
         0.2718855029738455,
         0.28516365036255986,
         0.30223603611087846,
         0.25578652012740216,
         0.26579703137783545,
         0.3114405781711638,
         0.30611330576054707,
         0.33801648944305734,
         0.279602059390883,
         0.2651754685203612,
         0.32525466602649594,
         0.3246456973748598,
         0.2832717538102578,
         0.2897357442602254,
         0.2681620540674192,
         0.26610144703535765,
         0.33520398510355043,
         0.34146474094867985,
         0.35731640486852645,
         0.28733343402125683,
         0.27805206299283375,
         0.3293155621106373,
         0.33010724624489324,
         0.28745498376756173,
         0.3397955305500372,
         0.356107407947476,
         0.3435079330162737,
         0.3114882897321591,
         0.3094483373207427,
         0.26076186588674966,
         0.2795311358673741,
         0.259108773214965,
         0.27531150266162097,
         0.26973264410489856,
         0.31166507505865954,
         0.35953582608556817,
         0.2981963083292746,
         0.31704036732985436,
         0.2393289200910454,
         0.34030383703268713,
         0.2774195165120805,
         0.29251002794870745,
         0.26684173226343766,
         0.32577995180757735,
         0.3097785333738327,
         0.28245191461062374,
         0.31325743236914283,
         0.30928179828287716,
         0.2853609886639261,
         0.31802433612412573,
         0.2868908139462959,
         0.31547634225394944,
         0.2894930433461709,
         0.3031916955535009,
         0.30610243405444393,
         0.32341862910628527,
         0.33922817651554305,
         0.3083953610505932,
         0.2743139927264243,
         0.2961281051976971,
         0.29528620939727573,
         0.2940309333961511,
         0.34216477034375425,
         0.33558100695739734,
         0.25752184061733285,
         0.30764348368699096,
         0.3059280369399213,
         0.24297877964110345,
         0.32940878991820033,
         0.2976781568906407,
         0.27595398148635586,
         0.25554780279829903,
         0.31659062552127487,
         0.32958487775030715,
         0.2756303031783417,
         0.3570447199073819,
         0.3138425236938768,
         0.2837234120089574
        ],
        [
         0.42438052739016713,
         0.4542936995159835,
         0.43056188891641795,
         0.4595286927651614,
         0.4017055117059499,
         0.42749094213359057,
         0.4371283389162272,
         0.4557501583825797,
         0.39522549281828107,
         0.45389881725423037,
         0.4482770532835275,
         0.4818633660208434,
         0.4431950635742396,
         0.4201540410052985,
         0.4534252620767802,
         0.43295958410017193,
         0.49576095645315943,
         0.44981847633607686,
         0.450484014255926,
         0.444220197154209,
         0.44580572242848576,
         0.4642352454829961,
         0.4012361586559564,
         0.43907267148606477,
         0.4365991472732276,
         0.4346889905165881,
         0.40227116490714254,
         0.44249013285152616,
         0.4622033208142966,
         0.4569127581547946,
         0.43927736883051693,
         0.389054522709921,
         0.45446135769598184,
         0.44469899754039943,
         0.4331291794311255,
         0.4242488779593259,
         0.4193115114700049,
         0.414162192074582,
         0.46017768676392734,
         0.45678481454961,
         0.4753270908724517,
         0.43357495148666203,
         0.4099360212218016,
         0.47533395285718144,
         0.4671958043705672,
         0.44201852749101816,
         0.4673780910205096,
         0.4807519010733813,
         0.4808549247216433,
         0.44105414538644255,
         0.4497061743866652,
         0.41196490260772406,
         0.4518362268339843,
         0.41287504355423155,
         0.4443414493929595,
         0.43392090196721256,
         0.43967323158867655,
         0.47752850349061193,
         0.4487600057851523,
         0.45392707879655064,
         0.3974178418982774,
         0.45969719807617365,
         0.43470148812048137,
         0.43591781561262904,
         0.41761765922419725,
         0.47224012757651507,
         0.44543735603801904,
         0.4357332422863692,
         0.4646783537697047,
         0.43956831018440423,
         0.43299718159250916,
         0.4514430608134717,
         0.43737121294252573,
         0.4435491896700114,
         0.4438448398839682,
         0.4257675383705646,
         0.43528513009659947,
         0.4715151555370539,
         0.46727425302378833,
         0.4383396536577493,
         0.4190631173085421,
         0.4264456481207162,
         0.4389761596452445,
         0.45922244000248613,
         0.4692490770947188,
         0.4692975140642375,
         0.41552933598868547,
         0.4300982482265681,
         0.4354272313881665,
         0.4034733525943011,
         0.4746238544117659,
         0.44364092270843686,
         0.431020801467821,
         0.4128459818195552,
         0.452933957381174,
         0.47092021475546064,
         0.4325880184303969,
         0.47575936312787237,
         0.44218328152783215,
         0.4328208595048636
        ],
        [
         8.487610547803342,
         9.08587399031967,
         8.61123777832836,
         9.190573855303228,
         8.034110234118998,
         8.549818842671812,
         8.742566778324544,
         9.115003167651594,
         7.904509856365621,
         9.077976345084608,
         8.96554106567055,
         9.637267320416868,
         8.863901271484792,
         8.40308082010597,
         9.068505241535604,
         8.659191682003438,
         9.915219129063189,
         8.996369526721537,
         9.00968028511852,
         8.88440394308418,
         8.916114448569715,
         9.284704909659922,
         8.024723173119128,
         8.781453429721296,
         8.731982945464551,
         8.693779810331762,
         8.04542329814285,
         8.849802657030523,
         9.244066416285932,
         9.138255163095891,
         8.785547376610339,
         7.78109045419842,
         9.089227153919637,
         8.893979950807989,
         8.66258358862251,
         8.484977559186518,
         8.386230229400098,
         8.28324384149164,
         9.203553735278547,
         9.1356962909922,
         9.506541817449033,
         8.67149902973324,
         8.198720424436033,
         9.506679057143629,
         9.343916087411344,
         8.840370549820364,
         9.347561820410192,
         9.615038021467626,
         9.617098494432867,
         8.82108290772885,
         8.994123487733305,
         8.239298052154481,
         9.036724536679685,
         8.25750087108463,
         8.88682898785919,
         8.678418039344251,
         8.793464631773531,
         9.550570069812238,
         8.975200115703046,
         9.078541575931013,
         7.948356837965548,
         9.193943961523473,
         8.694029762409627,
         8.718356312252581,
         8.352353184483945,
         9.444802551530302,
         8.908747120760381,
         8.714664845727384,
         9.293567075394094,
         8.791366203688085,
         8.659943631850183,
         9.028861216269433,
         8.747424258850515,
         8.870983793400228,
         8.876896797679365,
         8.515350767411292,
         8.70570260193199,
         9.430303110741079,
         9.345485060475767,
         8.766793073154986,
         8.381262346170843,
         8.528912962414324,
         8.77952319290489,
         9.184448800049722,
         9.384981541894376,
         9.38595028128475,
         8.31058671977371,
         8.601964964531362,
         8.708544627763331,
         8.069467051886022,
         9.492477088235319,
         8.872818454168737,
         8.62041602935642,
         8.256919636391103,
         9.05867914762348,
         9.418404295109212,
         8.651760368607938,
         9.515187262557447,
         8.843665630556643,
         8.656417190097272
        ],
        [
         2.3626972304616443,
         2.4102223764000916,
         2.437158651712525,
         2.5397219184773214,
         2.251540915011384,
         2.397867940831505,
         2.375002750564173,
         2.522587716635537,
         2.30511924546938,
         2.588191680119453,
         2.4552928344308014,
         2.641549684385027,
         2.4521104087763765,
         2.4191073507267866,
         2.492569956316009,
         2.4912587326660103,
         2.7805025325243258,
         2.4936581131247335,
         2.545452997441092,
         2.4832772930960005,
         2.394149682418485,
         2.590248295958734,
         2.331889804316857,
         2.388152634831199,
         2.458601375216724,
         2.2617980463666605,
         2.305632370426107,
         2.495758714984939,
         2.4743213443712078,
         2.600063420161352,
         2.364749709338741,
         2.302934947063686,
         2.550508443532371,
         2.5481196886129966,
         2.380217443051192,
         2.4072214034451647,
         2.3158672417365347,
         2.3069523056853933,
         2.5892237643878926,
         2.613291950581411,
         2.6732616963871174,
         2.3972210328680865,
         2.3581860104446117,
         2.56638096201884,
         2.569463937263542,
         2.3977280236405534,
         2.6068967396122047,
         2.6687353107697884,
         2.6210987505863783,
         2.495949878231368,
         2.4877634024188984,
         2.2836894092093596,
         2.364449770527486,
         2.276439207248746,
         2.346535755796706,
         2.3226392061829086,
         2.4966580665307756,
         2.6815511409837707,
         2.4421151010109026,
         2.5180959764467055,
         2.1878250391246796,
         2.608845863720918,
         2.35550213972342,
         2.418718784599431,
         2.310159008654762,
         2.552567146257185,
         2.4890903293124285,
         2.3767705594382633,
         2.5030278958459204,
         2.4870938795424555,
         2.388978813903238,
         2.522000539746674,
         2.3953739330062684,
         2.511877155650528,
         2.406212972062826,
         2.462485311848584,
         2.4742774058477917,
         2.54329954628347,
         2.6047194724789193,
         2.4835271733991284,
         2.3422809085437395,
         2.433631464284176,
         2.430169580079858,
         2.4249986944167663,
         2.615969305415315,
         2.590679474413604,
         2.2694573828002715,
         2.4804978681183782,
         2.473572464836724,
         2.204444508900614,
         2.5667442019733886,
         2.439992446261425,
         2.3492721489276454,
         2.2607423683308054,
         2.5163093034095585,
         2.5674301460811244,
         2.347893963441883,
         2.67224519798383,
         2.5053643395477505,
         2.3821142374326105
        ]
       ],
       "encoder": "json",
       "name": "ABC_GAN_3 Metrics",
       "version": 1
      }
     },
     "metadata": {
      "scrapbook": {
       "data": true,
       "display": false,
       "name": "ABC_GAN_3 Metrics"
      }
     },
     "output_type": "display_data"
    },
    {
     "name": "stdout",
     "output_type": "stream",
     "text": [
      "MSE\n",
      "0.3024220297894542\n"
     ]
    }
   ],
   "source": [
    "ABC_GAN3_metrics=ABC_train_test2.test_generator(gen3,test_data,prior_model,variance,bias,\"3\",device)\n",
    "sb.glue(\"ABC_GAN_3 Metrics\",ABC_GAN3_metrics)\n",
    "\n",
    "print(\"MSE\")\n",
    "print(mean(ABC_GAN3_metrics[0]))"
   ]
  },
  {
   "cell_type": "code",
   "execution_count": 18,
   "id": "c8e46b48",
   "metadata": {
    "execution": {
     "iopub.execute_input": "2022-06-22T15:02:33.223527Z",
     "iopub.status.busy": "2022-06-22T15:02:33.222349Z",
     "iopub.status.idle": "2022-06-22T15:02:33.942061Z",
     "shell.execute_reply": "2022-06-22T15:02:33.942695Z"
    },
    "id": "c8e46b48",
    "papermill": {
     "duration": 0.77174,
     "end_time": "2022-06-22T15:02:33.942914",
     "exception": false,
     "start_time": "2022-06-22T15:02:33.171174",
     "status": "completed"
    },
    "tags": []
   },
   "outputs": [
    {
     "data": {
      "image/png": "[encoded data removed]",
      "text/plain": [
       "<Figure size 432x288 with 1 Axes>"
      ]
     },
     "metadata": {
      "needs_background": "light"
     },
     "output_type": "display_data"
    },
    {
     "data": {
      "image/png": "[encoded data removed]",
      "text/plain": [
       "<Figure size 432x288 with 1 Axes>"
      ]
     },
     "metadata": {
      "needs_background": "light"
     },
     "output_type": "display_data"
    },
    {
     "data": {
      "image/png": "[encoded data removed]",
      "text/plain": [
       "<Figure size 432x288 with 1 Axes>"
      ]
     },
     "metadata": {
      "needs_background": "light"
     },
     "output_type": "display_data"
    },
    {
     "data": {
      "image/png": "[encoded data removed]",
      "text/plain": [
       "<Figure size 432x288 with 1 Axes>"
      ]
     },
     "metadata": {
      "needs_background": "light"
     },
     "output_type": "display_data"
    }
   ],
   "source": [
    "sanityChecks.discProbVsError(train_data,disc3,device)\n",
    "sanityChecks.discProbVsError(test_data,disc3,device)"
   ]
  },
  {
   "cell_type": "markdown",
   "id": "a5bd74c3",
   "metadata": {
    "id": "a5bd74c3",
    "papermill": {
     "duration": 0.047652,
     "end_time": "2022-06-22T15:02:34.034936",
     "exception": false,
     "start_time": "2022-06-22T15:02:33.987284",
     "status": "completed"
    },
    "tags": []
   },
   "source": [
    "## Skip Connection Model Analysis - ABC-GAN "
   ]
  },
  {
   "cell_type": "markdown",
   "id": "5744a8bf",
   "metadata": {
    "id": "5744a8bf",
    "papermill": {
     "duration": 0.044529,
     "end_time": "2022-06-22T15:02:34.125050",
     "exception": false,
     "start_time": "2022-06-22T15:02:34.080521",
     "status": "completed"
    },
    "tags": []
   },
   "source": [
    "### Weight Analysis \n",
    "\n",
    "Study the weights of the skip connection layer\n",
    "\n",
    "Equation of the skip connection is \n",
    "\n",
    "$output = y_{gan} * w + y_{abc} * (1-w)$"
   ]
  },
  {
   "cell_type": "code",
   "execution_count": 19,
   "id": "52c31dea",
   "metadata": {
    "execution": {
     "iopub.execute_input": "2022-06-22T15:02:34.231500Z",
     "iopub.status.busy": "2022-06-22T15:02:34.230635Z",
     "iopub.status.idle": "2022-06-22T15:02:34.234309Z",
     "shell.execute_reply": "2022-06-22T15:02:34.234786Z"
    },
    "id": "52c31dea",
    "papermill": {
     "duration": 0.064283,
     "end_time": "2022-06-22T15:02:34.234991",
     "exception": false,
     "start_time": "2022-06-22T15:02:34.170708",
     "status": "completed"
    },
    "tags": []
   },
   "outputs": [
    {
     "name": "stdout",
     "output_type": "stream",
     "text": [
      "Weight of the node at skip connection\n",
      "Parameter containing:\n",
      "tensor([[0.2179]], requires_grad=True)\n"
     ]
    },
    {
     "data": {
      "application/scrapbook.scrap.json+json": {
       "data": 0.21794311702251434,
       "encoder": "json",
       "name": "Skip Connection Weight",
       "version": 1
      }
     },
     "metadata": {
      "scrapbook": {
       "data": true,
       "display": false,
       "name": "Skip Connection Weight"
      }
     },
     "output_type": "display_data"
    }
   ],
   "source": [
    "print(\"Weight of the node at skip connection\")\n",
    "for name,param in gen3.named_parameters():\n",
    "    if(name == \"skipNode.weight\"):\n",
    "        print(param)\n",
    "        sb.glue(\"Skip Connection Weight\",param.item())"
   ]
  }
 ],
 "metadata": {
  "colab": {
   "collapsed_sections": [],
   "name": "ABC_GAN_Model-Catboost_Pre-gen.ipynb",
   "provenance": []
  },
  "interpreter": {
   "hash": "31f2aee4e71d21fbe5cf8b01ff0e069b9275f58929596ceb00d14d90e3e16cd6"
  },
  "kernelspec": {
   "display_name": "Python 3 (ipykernel)",
   "language": "python",
   "name": "python3"
  },
  "language_info": {
   "codemirror_mode": {
    "name": "ipython",
    "version": 3
   },
   "file_extension": ".py",
   "mimetype": "text/x-python",
   "name": "python",
   "nbconvert_exporter": "python",
   "pygments_lexer": "ipython3",
   "version": "3.8.3"
  },
  "papermill": {
   "default_parameters": {},
   "duration": 133.571188,
   "end_time": "2022-06-22T15:02:35.710107",
   "environment_variables": {},
   "exception": null,
   "input_path": "ABC_GAN-TabNet.ipynb",
   "output_path": "./ABC_GAN_TabNet/ABC-GAN_output_7_6.ipynb",
   "parameters": {
    "bias": 0.01,
    "variance": 1
   },
   "start_time": "2022-06-22T15:00:22.138919",
   "version": "2.3.3"
  }
 },
 "nbformat": 4,
 "nbformat_minor": 5
}