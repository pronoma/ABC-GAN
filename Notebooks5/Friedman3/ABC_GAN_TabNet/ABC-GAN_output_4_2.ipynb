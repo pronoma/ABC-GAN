{
 "cells": [
  {
   "cell_type": "markdown",
   "id": "622780e6",
   "metadata": {
    "id": "622780e6",
    "papermill": {
     "duration": 0.035526,
     "end_time": "2022-06-22T13:01:34.984763",
     "exception": false,
     "start_time": "2022-06-22T13:01:34.949237",
     "status": "completed"
    },
    "tags": []
   },
   "source": [
    "## Import Libraries "
   ]
  },
  {
   "cell_type": "code",
   "execution_count": 1,
   "id": "a62397e3",
   "metadata": {
    "execution": {
     "iopub.execute_input": "2022-06-22T13:01:35.075856Z",
     "iopub.status.busy": "2022-06-22T13:01:35.074132Z",
     "iopub.status.idle": "2022-06-22T13:01:35.077096Z",
     "shell.execute_reply": "2022-06-22T13:01:35.078449Z"
    },
    "id": "a62397e3",
    "papermill": {
     "duration": 0.056812,
     "end_time": "2022-06-22T13:01:35.079192",
     "exception": false,
     "start_time": "2022-06-22T13:01:35.022380",
     "status": "completed"
    },
    "tags": []
   },
   "outputs": [],
   "source": [
    "import warnings\n",
    "import sys\n",
    "sys.path.insert(0, '../../src')\n",
    "warnings.filterwarnings('ignore')"
   ]
  },
  {
   "cell_type": "code",
   "execution_count": 2,
   "id": "d6a4e155",
   "metadata": {
    "execution": {
     "iopub.execute_input": "2022-06-22T13:01:35.121375Z",
     "iopub.status.busy": "2022-06-22T13:01:35.120527Z",
     "iopub.status.idle": "2022-06-22T13:01:42.377438Z",
     "shell.execute_reply": "2022-06-22T13:01:42.378540Z"
    },
    "id": "d6a4e155",
    "papermill": {
     "duration": 7.280497,
     "end_time": "2022-06-22T13:01:42.378867",
     "exception": false,
     "start_time": "2022-06-22T13:01:35.098370",
     "status": "completed"
    },
    "tags": []
   },
   "outputs": [],
   "source": [
    "import ABC_train_test2\n",
    "import friedman3Dataset\n",
    "import network\n",
    "import dataset\n",
    "import sanityChecks\n",
    "import torch \n",
    "import scrapbook as sb\n",
    "from statistics import mean \n",
    "import catboost as ctb \n",
    "from sklearn.model_selection import train_test_split\n",
    "from sklearn.metrics import mean_squared_error,mean_absolute_error\n",
    "import numpy as np\n",
    "from pytorch_tabnet.tab_model import TabNetRegressor"
   ]
  },
  {
   "cell_type": "markdown",
   "id": "2fa5b0f7",
   "metadata": {
    "id": "2fa5b0f7",
    "papermill": {
     "duration": 0.019446,
     "end_time": "2022-06-22T13:01:42.419384",
     "exception": false,
     "start_time": "2022-06-22T13:01:42.399938",
     "status": "completed"
    },
    "tags": []
   },
   "source": [
    "## Parameters "
   ]
  },
  {
   "cell_type": "code",
   "execution_count": 3,
   "id": "783186fb",
   "metadata": {
    "execution": {
     "iopub.execute_input": "2022-06-22T13:01:42.468287Z",
     "iopub.status.busy": "2022-06-22T13:01:42.467481Z",
     "iopub.status.idle": "2022-06-22T13:01:42.469750Z",
     "shell.execute_reply": "2022-06-22T13:01:42.470339Z"
    },
    "id": "783186fb",
    "papermill": {
     "duration": 0.028999,
     "end_time": "2022-06-22T13:01:42.470570",
     "exception": false,
     "start_time": "2022-06-22T13:01:42.441571",
     "status": "completed"
    },
    "tags": [
     "parameters"
    ]
   },
   "outputs": [],
   "source": [
    "variance = 1\n",
    "bias = 1 "
   ]
  },
  {
   "cell_type": "code",
   "execution_count": 4,
   "id": "27d038aa",
   "metadata": {
    "execution": {
     "iopub.execute_input": "2022-06-22T13:01:42.506760Z",
     "iopub.status.busy": "2022-06-22T13:01:42.505983Z",
     "iopub.status.idle": "2022-06-22T13:01:42.508155Z",
     "shell.execute_reply": "2022-06-22T13:01:42.508766Z"
    },
    "papermill": {
     "duration": 0.021994,
     "end_time": "2022-06-22T13:01:42.508990",
     "exception": false,
     "start_time": "2022-06-22T13:01:42.486996",
     "status": "completed"
    },
    "tags": [
     "injected-parameters"
    ]
   },
   "outputs": [],
   "source": [
    "# Parameters\n",
    "variance = 0.01\n",
    "bias = 1\n"
   ]
  },
  {
   "cell_type": "markdown",
   "id": "391cdbfd",
   "metadata": {
    "id": "391cdbfd",
    "papermill": {
     "duration": 0.019655,
     "end_time": "2022-06-22T13:01:42.544464",
     "exception": false,
     "start_time": "2022-06-22T13:01:42.524809",
     "status": "completed"
    },
    "tags": []
   },
   "source": [
    "## Dataset \n"
   ]
  },
  {
   "cell_type": "code",
   "execution_count": 5,
   "id": "5b51f161",
   "metadata": {
    "execution": {
     "iopub.execute_input": "2022-06-22T13:01:42.583183Z",
     "iopub.status.busy": "2022-06-22T13:01:42.582417Z",
     "iopub.status.idle": "2022-06-22T13:01:42.584389Z",
     "shell.execute_reply": "2022-06-22T13:01:42.584903Z"
    },
    "id": "5b51f161",
    "papermill": {
     "duration": 0.02298,
     "end_time": "2022-06-22T13:01:42.585137",
     "exception": false,
     "start_time": "2022-06-22T13:01:42.562157",
     "status": "completed"
    },
    "tags": []
   },
   "outputs": [],
   "source": [
    "#Parameters \n",
    "n_features = 4\n",
    "n_samples= 100\n",
    "n_target = 1"
   ]
  },
  {
   "cell_type": "code",
   "execution_count": 6,
   "id": "5d6eced4",
   "metadata": {
    "execution": {
     "iopub.execute_input": "2022-06-22T13:01:42.620729Z",
     "iopub.status.busy": "2022-06-22T13:01:42.619924Z",
     "iopub.status.idle": "2022-06-22T13:01:42.635351Z",
     "shell.execute_reply": "2022-06-22T13:01:42.635933Z"
    },
    "id": "5d6eced4",
    "papermill": {
     "duration": 0.03631,
     "end_time": "2022-06-22T13:01:42.636176",
     "exception": false,
     "start_time": "2022-06-22T13:01:42.599866",
     "status": "completed"
    },
    "tags": []
   },
   "outputs": [
    {
     "name": "stdout",
     "output_type": "stream",
     "text": [
      "          X1           X2        X3        X4         Y\n",
      "0  96.487224   617.027844  0.112582  4.952898  0.610790\n",
      "1  86.979156   194.597721  0.105352  2.414513  0.354488\n",
      "2   6.978417   230.281983  0.138637  4.666461  1.234297\n",
      "3  81.914811  1697.317285  0.708873  5.499527  1.566961\n",
      "4  39.935481   966.629751  0.050960  3.032804  0.892556\n"
     ]
    }
   ],
   "source": [
    "X,Y = friedman3Dataset.friedman3_data(n_samples)"
   ]
  },
  {
   "cell_type": "code",
   "execution_count": 7,
   "id": "fe007438",
   "metadata": {
    "execution": {
     "iopub.execute_input": "2022-06-22T13:01:42.675948Z",
     "iopub.status.busy": "2022-06-22T13:01:42.675153Z",
     "iopub.status.idle": "2022-06-22T13:01:42.679649Z",
     "shell.execute_reply": "2022-06-22T13:01:42.680523Z"
    },
    "id": "fe007438",
    "papermill": {
     "duration": 0.028388,
     "end_time": "2022-06-22T13:01:42.680762",
     "exception": false,
     "start_time": "2022-06-22T13:01:42.652374",
     "status": "completed"
    },
    "tags": []
   },
   "outputs": [],
   "source": [
    "#Train test split for dataset \n",
    "X_train,X_test,Y_train,Y_test = train_test_split(X,Y,test_size = 0.2)\n",
    "train_data = dataset.CustomDataset(X_train,Y_train)\n",
    "test_data = dataset.CustomDataset(X_test,Y_test)\n"
   ]
  },
  {
   "cell_type": "markdown",
   "id": "a9a1af34",
   "metadata": {
    "id": "a9a1af34",
    "papermill": {
     "duration": 0.01968,
     "end_time": "2022-06-22T13:01:42.717472",
     "exception": false,
     "start_time": "2022-06-22T13:01:42.697792",
     "status": "completed"
    },
    "tags": []
   },
   "source": [
    "## Training Parameters "
   ]
  },
  {
   "cell_type": "code",
   "execution_count": 8,
   "id": "952b7fc8",
   "metadata": {
    "execution": {
     "iopub.execute_input": "2022-06-22T13:01:42.755986Z",
     "iopub.status.busy": "2022-06-22T13:01:42.755166Z",
     "iopub.status.idle": "2022-06-22T13:01:42.757157Z",
     "shell.execute_reply": "2022-06-22T13:01:42.757649Z"
    },
    "id": "952b7fc8",
    "papermill": {
     "duration": 0.022635,
     "end_time": "2022-06-22T13:01:42.757915",
     "exception": false,
     "start_time": "2022-06-22T13:01:42.735280",
     "status": "completed"
    },
    "tags": []
   },
   "outputs": [],
   "source": [
    "batch_size = 32\n",
    "n_epochs = 1000\n",
    "#Select the device \n",
    "device = torch.device('cuda' if torch.cuda.is_available() else 'cpu')"
   ]
  },
  {
   "cell_type": "markdown",
   "id": "a95e1600",
   "metadata": {
    "id": "a95e1600",
    "papermill": {
     "duration": 0.018594,
     "end_time": "2022-06-22T13:01:42.791316",
     "exception": false,
     "start_time": "2022-06-22T13:01:42.772722",
     "status": "completed"
    },
    "tags": []
   },
   "source": [
    "# ABC Pre-generator Model \n",
    "\n",
    "1. The catboost model is used as a pre-generator model for the ABC-GAN. \n",
    "2. The model is first trained on the entire dataset \n",
    "3. It generats X,Y pairs and we add some Gaussian noise with mean 0 and variance 1 to it which is then feed as input to the generator.\n"
   ]
  },
  {
   "cell_type": "code",
   "execution_count": 9,
   "id": "ff8ce7bd",
   "metadata": {
    "execution": {
     "iopub.execute_input": "2022-06-22T13:01:42.832583Z",
     "iopub.status.busy": "2022-06-22T13:01:42.831649Z",
     "iopub.status.idle": "2022-06-22T13:02:03.087019Z",
     "shell.execute_reply": "2022-06-22T13:02:03.088095Z"
    },
    "id": "ff8ce7bd",
    "papermill": {
     "duration": 20.278972,
     "end_time": "2022-06-22T13:02:03.088341",
     "exception": false,
     "start_time": "2022-06-22T13:01:42.809369",
     "status": "completed"
    },
    "tags": []
   },
   "outputs": [
    {
     "name": "stdout",
     "output_type": "stream",
     "text": [
      "Device used : cpu\n"
     ]
    },
    {
     "name": "stdout",
     "output_type": "stream",
     "text": [
      "epoch 0  | loss: 1.11076 | train_mse: 6.43834 | train_mae: 1.91538 |  0:00:00s\n",
      "epoch 1  | loss: 0.66188 | train_mse: 4.44056 | train_mae: 1.68303 |  0:00:00s\n",
      "epoch 2  | loss: 0.50135 | train_mse: 2.34646 | train_mae: 1.21925 |  0:00:00s\n"
     ]
    },
    {
     "name": "stdout",
     "output_type": "stream",
     "text": [
      "epoch 3  | loss: 0.63789 | train_mse: 1.45004 | train_mae: 0.92876 |  0:00:00s\n",
      "epoch 4  | loss: 0.48745 | train_mse: 1.19074 | train_mae: 0.81364 |  0:00:00s\n",
      "epoch 5  | loss: 0.63366 | train_mse: 1.55096 | train_mae: 0.85517 |  0:00:00s\n"
     ]
    },
    {
     "name": "stdout",
     "output_type": "stream",
     "text": [
      "epoch 6  | loss: 0.3645  | train_mse: 1.38545 | train_mae: 0.8564  |  0:00:00s\n",
      "epoch 7  | loss: 0.21066 | train_mse: 1.41504 | train_mae: 0.83998 |  0:00:00s\n",
      "epoch 8  | loss: 0.36923 | train_mse: 0.93461 | train_mae: 0.70532 |  0:00:00s\n"
     ]
    },
    {
     "name": "stdout",
     "output_type": "stream",
     "text": [
      "epoch 9  | loss: 0.24145 | train_mse: 0.56669 | train_mae: 0.56828 |  0:00:00s\n",
      "epoch 10 | loss: 0.2202  | train_mse: 0.49499 | train_mae: 0.53068 |  0:00:00s\n",
      "epoch 11 | loss: 0.23818 | train_mse: 0.58014 | train_mae: 0.53238 |  0:00:01s\n"
     ]
    },
    {
     "name": "stdout",
     "output_type": "stream",
     "text": [
      "epoch 12 | loss: 0.30336 | train_mse: 0.66028 | train_mae: 0.55492 |  0:00:01s\n",
      "epoch 13 | loss: 0.49499 | train_mse: 0.68717 | train_mae: 0.57419 |  0:00:01s\n"
     ]
    },
    {
     "name": "stdout",
     "output_type": "stream",
     "text": [
      "epoch 14 | loss: 0.23595 | train_mse: 0.76286 | train_mae: 0.62964 |  0:00:01s\n",
      "epoch 15 | loss: 0.18819 | train_mse: 0.755   | train_mae: 0.60686 |  0:00:01s\n"
     ]
    },
    {
     "name": "stdout",
     "output_type": "stream",
     "text": [
      "epoch 16 | loss: 0.16045 | train_mse: 0.71027 | train_mae: 0.58827 |  0:00:01s\n",
      "epoch 17 | loss: 0.30449 | train_mse: 0.66832 | train_mae: 0.55934 |  0:00:01s\n",
      "epoch 18 | loss: 0.27111 | train_mse: 0.71606 | train_mae: 0.60304 |  0:00:01s\n"
     ]
    },
    {
     "name": "stdout",
     "output_type": "stream",
     "text": [
      "epoch 19 | loss: 0.21953 | train_mse: 0.64303 | train_mae: 0.59096 |  0:00:01s\n",
      "epoch 20 | loss: 0.19024 | train_mse: 0.35366 | train_mae: 0.45038 |  0:00:01s\n"
     ]
    },
    {
     "name": "stdout",
     "output_type": "stream",
     "text": [
      "epoch 21 | loss: 0.17819 | train_mse: 0.15179 | train_mae: 0.30183 |  0:00:02s\n",
      "epoch 22 | loss: 0.16997 | train_mse: 0.14805 | train_mae: 0.29983 |  0:00:02s\n"
     ]
    },
    {
     "name": "stdout",
     "output_type": "stream",
     "text": [
      "epoch 23 | loss: 0.13469 | train_mse: 0.20208 | train_mae: 0.33238 |  0:00:02s\n",
      "epoch 24 | loss: 0.18099 | train_mse: 0.26396 | train_mae: 0.39578 |  0:00:02s\n",
      "epoch 25 | loss: 0.17721 | train_mse: 0.20374 | train_mae: 0.34444 |  0:00:02s\n"
     ]
    },
    {
     "name": "stdout",
     "output_type": "stream",
     "text": [
      "epoch 26 | loss: 0.2421  | train_mse: 0.13806 | train_mae: 0.27227 |  0:00:02s\n",
      "epoch 27 | loss: 0.19564 | train_mse: 0.11878 | train_mae: 0.25373 |  0:00:02s\n"
     ]
    },
    {
     "name": "stdout",
     "output_type": "stream",
     "text": [
      "epoch 28 | loss: 0.13804 | train_mse: 0.16899 | train_mae: 0.31248 |  0:00:03s\n",
      "epoch 29 | loss: 0.22409 | train_mse: 0.17269 | train_mae: 0.31578 |  0:00:03s\n"
     ]
    },
    {
     "name": "stdout",
     "output_type": "stream",
     "text": [
      "epoch 30 | loss: 0.18968 | train_mse: 0.1353  | train_mae: 0.27461 |  0:00:03s\n",
      "epoch 31 | loss: 0.19734 | train_mse: 0.11581 | train_mae: 0.25658 |  0:00:03s\n"
     ]
    },
    {
     "name": "stdout",
     "output_type": "stream",
     "text": [
      "epoch 32 | loss: 0.30108 | train_mse: 0.10642 | train_mae: 0.25299 |  0:00:03s\n"
     ]
    },
    {
     "name": "stdout",
     "output_type": "stream",
     "text": [
      "epoch 33 | loss: 0.18543 | train_mse: 0.11507 | train_mae: 0.27101 |  0:00:03s\n",
      "epoch 34 | loss: 0.15744 | train_mse: 0.11736 | train_mae: 0.27675 |  0:00:04s\n"
     ]
    },
    {
     "name": "stdout",
     "output_type": "stream",
     "text": [
      "epoch 35 | loss: 0.11584 | train_mse: 0.09295 | train_mae: 0.23189 |  0:00:04s\n",
      "epoch 36 | loss: 0.17807 | train_mse: 0.09392 | train_mae: 0.22828 |  0:00:04s\n"
     ]
    },
    {
     "name": "stdout",
     "output_type": "stream",
     "text": [
      "epoch 37 | loss: 0.13469 | train_mse: 0.09588 | train_mae: 0.23411 |  0:00:04s\n",
      "epoch 38 | loss: 0.10079 | train_mse: 0.09758 | train_mae: 0.23919 |  0:00:04s\n"
     ]
    },
    {
     "name": "stdout",
     "output_type": "stream",
     "text": [
      "epoch 39 | loss: 0.17372 | train_mse: 0.0899  | train_mae: 0.23102 |  0:00:04s\n",
      "epoch 40 | loss: 0.12908 | train_mse: 0.07844 | train_mae: 0.21838 |  0:00:04s\n"
     ]
    },
    {
     "name": "stdout",
     "output_type": "stream",
     "text": [
      "epoch 41 | loss: 0.18589 | train_mse: 0.07883 | train_mae: 0.22147 |  0:00:05s\n",
      "epoch 42 | loss: 0.19472 | train_mse: 0.07642 | train_mae: 0.2124  |  0:00:05s\n"
     ]
    },
    {
     "name": "stdout",
     "output_type": "stream",
     "text": [
      "epoch 43 | loss: 0.18605 | train_mse: 0.07435 | train_mae: 0.20845 |  0:00:05s\n",
      "epoch 44 | loss: 0.1159  | train_mse: 0.0861  | train_mae: 0.22838 |  0:00:05s\n"
     ]
    },
    {
     "name": "stdout",
     "output_type": "stream",
     "text": [
      "epoch 45 | loss: 0.11307 | train_mse: 0.09068 | train_mae: 0.23364 |  0:00:05s\n",
      "epoch 46 | loss: 0.27989 | train_mse: 0.10267 | train_mae: 0.25221 |  0:00:05s\n"
     ]
    },
    {
     "name": "stdout",
     "output_type": "stream",
     "text": [
      "epoch 47 | loss: 0.10029 | train_mse: 0.09652 | train_mae: 0.244   |  0:00:06s\n",
      "epoch 48 | loss: 0.2143  | train_mse: 0.09028 | train_mae: 0.24133 |  0:00:06s\n"
     ]
    },
    {
     "name": "stdout",
     "output_type": "stream",
     "text": [
      "epoch 49 | loss: 0.29248 | train_mse: 0.10548 | train_mae: 0.25979 |  0:00:06s\n",
      "epoch 50 | loss: 0.16546 | train_mse: 0.08362 | train_mae: 0.2389  |  0:00:06s\n"
     ]
    },
    {
     "name": "stdout",
     "output_type": "stream",
     "text": [
      "epoch 51 | loss: 0.18946 | train_mse: 0.11023 | train_mae: 0.25435 |  0:00:06s\n",
      "epoch 52 | loss: 0.16479 | train_mse: 0.14633 | train_mae: 0.25987 |  0:00:06s\n",
      "epoch 53 | loss: 0.13065 | train_mse: 0.13809 | train_mae: 0.25519 |  0:00:06s\n"
     ]
    },
    {
     "name": "stdout",
     "output_type": "stream",
     "text": [
      "epoch 54 | loss: 0.2375  | train_mse: 0.12135 | train_mae: 0.25873 |  0:00:06s\n",
      "epoch 55 | loss: 0.11949 | train_mse: 0.11304 | train_mae: 0.26029 |  0:00:06s\n",
      "epoch 56 | loss: 0.11352 | train_mse: 0.11273 | train_mae: 0.25982 |  0:00:07s\n"
     ]
    },
    {
     "name": "stdout",
     "output_type": "stream",
     "text": [
      "epoch 57 | loss: 0.12623 | train_mse: 0.09523 | train_mae: 0.24464 |  0:00:07s\n",
      "epoch 58 | loss: 0.14523 | train_mse: 0.09226 | train_mae: 0.24551 |  0:00:07s\n"
     ]
    },
    {
     "name": "stdout",
     "output_type": "stream",
     "text": [
      "epoch 59 | loss: 0.16603 | train_mse: 0.10314 | train_mae: 0.25594 |  0:00:07s\n"
     ]
    },
    {
     "name": "stdout",
     "output_type": "stream",
     "text": [
      "epoch 60 | loss: 0.1773  | train_mse: 0.15409 | train_mae: 0.28844 |  0:00:07s\n",
      "epoch 61 | loss: 0.09955 | train_mse: 0.19547 | train_mae: 0.31858 |  0:00:07s\n"
     ]
    },
    {
     "name": "stdout",
     "output_type": "stream",
     "text": [
      "epoch 62 | loss: 0.15786 | train_mse: 0.18375 | train_mae: 0.30836 |  0:00:08s\n",
      "epoch 63 | loss: 0.10712 | train_mse: 0.10863 | train_mae: 0.26058 |  0:00:08s\n"
     ]
    },
    {
     "name": "stdout",
     "output_type": "stream",
     "text": [
      "epoch 64 | loss: 0.08747 | train_mse: 0.0827  | train_mae: 0.23594 |  0:00:08s\n",
      "epoch 65 | loss: 0.12502 | train_mse: 0.07716 | train_mae: 0.22955 |  0:00:08s\n"
     ]
    },
    {
     "name": "stdout",
     "output_type": "stream",
     "text": [
      "epoch 66 | loss: 0.09372 | train_mse: 0.08099 | train_mae: 0.22701 |  0:00:08s\n",
      "epoch 67 | loss: 0.10485 | train_mse: 0.07798 | train_mae: 0.22405 |  0:00:08s\n"
     ]
    },
    {
     "name": "stdout",
     "output_type": "stream",
     "text": [
      "epoch 68 | loss: 0.11887 | train_mse: 0.08183 | train_mae: 0.23028 |  0:00:08s\n",
      "epoch 69 | loss: 0.22554 | train_mse: 0.09927 | train_mae: 0.24514 |  0:00:09s\n"
     ]
    },
    {
     "name": "stdout",
     "output_type": "stream",
     "text": [
      "epoch 70 | loss: 0.10535 | train_mse: 0.10304 | train_mae: 0.25076 |  0:00:09s\n",
      "epoch 71 | loss: 0.18488 | train_mse: 0.09813 | train_mae: 0.24987 |  0:00:09s\n"
     ]
    },
    {
     "name": "stdout",
     "output_type": "stream",
     "text": [
      "epoch 72 | loss: 0.09667 | train_mse: 0.11023 | train_mae: 0.26615 |  0:00:09s\n"
     ]
    },
    {
     "name": "stdout",
     "output_type": "stream",
     "text": [
      "epoch 73 | loss: 0.15747 | train_mse: 0.11566 | train_mae: 0.25887 |  0:00:09s\n",
      "epoch 74 | loss: 0.11743 | train_mse: 0.08019 | train_mae: 0.22112 |  0:00:09s\n"
     ]
    },
    {
     "name": "stdout",
     "output_type": "stream",
     "text": [
      "epoch 75 | loss: 0.10491 | train_mse: 0.06275 | train_mae: 0.19926 |  0:00:10s\n",
      "epoch 76 | loss: 0.14352 | train_mse: 0.06396 | train_mae: 0.19974 |  0:00:10s\n"
     ]
    },
    {
     "name": "stdout",
     "output_type": "stream",
     "text": [
      "epoch 77 | loss: 0.10101 | train_mse: 0.07246 | train_mae: 0.21383 |  0:00:10s\n",
      "epoch 78 | loss: 0.099   | train_mse: 0.07818 | train_mae: 0.21611 |  0:00:10s\n"
     ]
    },
    {
     "name": "stdout",
     "output_type": "stream",
     "text": [
      "epoch 79 | loss: 0.15051 | train_mse: 0.08886 | train_mae: 0.22437 |  0:00:10s\n",
      "epoch 80 | loss: 0.09195 | train_mse: 0.10654 | train_mae: 0.23836 |  0:00:10s\n",
      "epoch 81 | loss: 0.11275 | train_mse: 0.12409 | train_mae: 0.25512 |  0:00:10s\n"
     ]
    },
    {
     "name": "stdout",
     "output_type": "stream",
     "text": [
      "epoch 82 | loss: 0.08329 | train_mse: 0.1497  | train_mae: 0.27357 |  0:00:10s\n",
      "epoch 83 | loss: 0.10727 | train_mse: 0.20815 | train_mae: 0.31768 |  0:00:11s\n",
      "epoch 84 | loss: 0.16212 | train_mse: 0.20574 | train_mae: 0.31053 |  0:00:11s\n"
     ]
    },
    {
     "name": "stdout",
     "output_type": "stream",
     "text": [
      "epoch 85 | loss: 0.14756 | train_mse: 0.136   | train_mae: 0.2711  |  0:00:11s\n",
      "epoch 86 | loss: 0.07742 | train_mse: 0.07238 | train_mae: 0.21845 |  0:00:11s\n"
     ]
    },
    {
     "name": "stdout",
     "output_type": "stream",
     "text": [
      "epoch 87 | loss: 0.14196 | train_mse: 0.06284 | train_mae: 0.20448 |  0:00:11s\n",
      "epoch 88 | loss: 0.1628  | train_mse: 0.06575 | train_mae: 0.21287 |  0:00:11s\n"
     ]
    },
    {
     "name": "stdout",
     "output_type": "stream",
     "text": [
      "epoch 89 | loss: 0.13136 | train_mse: 0.06631 | train_mae: 0.2106  |  0:00:11s\n",
      "epoch 90 | loss: 0.07062 | train_mse: 0.05603 | train_mae: 0.18778 |  0:00:12s\n"
     ]
    },
    {
     "name": "stdout",
     "output_type": "stream",
     "text": [
      "epoch 91 | loss: 0.13654 | train_mse: 0.05282 | train_mae: 0.17744 |  0:00:12s\n",
      "epoch 92 | loss: 0.09711 | train_mse: 0.05649 | train_mae: 0.18609 |  0:00:12s\n"
     ]
    },
    {
     "name": "stdout",
     "output_type": "stream",
     "text": [
      "epoch 93 | loss: 0.08629 | train_mse: 0.05941 | train_mae: 0.19238 |  0:00:12s\n",
      "epoch 94 | loss: 0.15117 | train_mse: 0.08577 | train_mae: 0.22577 |  0:00:12s\n"
     ]
    },
    {
     "name": "stdout",
     "output_type": "stream",
     "text": [
      "epoch 95 | loss: 0.08547 | train_mse: 0.08228 | train_mae: 0.22292 |  0:00:12s\n",
      "epoch 96 | loss: 0.1286  | train_mse: 0.06092 | train_mae: 0.19019 |  0:00:13s\n"
     ]
    },
    {
     "name": "stdout",
     "output_type": "stream",
     "text": [
      "epoch 97 | loss: 0.19164 | train_mse: 0.06767 | train_mae: 0.19632 |  0:00:13s\n",
      "epoch 98 | loss: 0.12198 | train_mse: 0.08325 | train_mae: 0.22547 |  0:00:13s\n"
     ]
    },
    {
     "name": "stdout",
     "output_type": "stream",
     "text": [
      "epoch 99 | loss: 0.07904 | train_mse: 0.10488 | train_mae: 0.26012 |  0:00:13s\n",
      "epoch 100| loss: 0.19409 | train_mse: 0.12677 | train_mae: 0.2826  |  0:00:13s\n"
     ]
    },
    {
     "name": "stdout",
     "output_type": "stream",
     "text": [
      "epoch 101| loss: 0.19314 | train_mse: 0.0742  | train_mae: 0.20816 |  0:00:13s\n",
      "epoch 102| loss: 0.12661 | train_mse: 0.06257 | train_mae: 0.18785 |  0:00:14s\n"
     ]
    },
    {
     "name": "stdout",
     "output_type": "stream",
     "text": [
      "epoch 103| loss: 0.09065 | train_mse: 0.06488 | train_mae: 0.1959  |  0:00:14s\n",
      "epoch 104| loss: 0.19462 | train_mse: 0.06011 | train_mae: 0.19224 |  0:00:14s\n"
     ]
    },
    {
     "name": "stdout",
     "output_type": "stream",
     "text": [
      "epoch 105| loss: 0.20081 | train_mse: 0.05234 | train_mae: 0.18014 |  0:00:14s\n",
      "epoch 106| loss: 0.08969 | train_mse: 0.07801 | train_mae: 0.2141  |  0:00:14s\n"
     ]
    },
    {
     "name": "stdout",
     "output_type": "stream",
     "text": [
      "epoch 107| loss: 0.09915 | train_mse: 0.10032 | train_mae: 0.24197 |  0:00:14s\n",
      "epoch 108| loss: 0.09278 | train_mse: 0.07383 | train_mae: 0.20626 |  0:00:15s\n"
     ]
    },
    {
     "name": "stdout",
     "output_type": "stream",
     "text": [
      "epoch 109| loss: 0.20174 | train_mse: 0.06649 | train_mae: 0.19777 |  0:00:15s\n",
      "epoch 110| loss: 0.08278 | train_mse: 0.06157 | train_mae: 0.18743 |  0:00:15s\n"
     ]
    },
    {
     "name": "stdout",
     "output_type": "stream",
     "text": [
      "epoch 111| loss: 0.13319 | train_mse: 0.05521 | train_mae: 0.18272 |  0:00:15s\n",
      "epoch 112| loss: 0.09538 | train_mse: 0.05513 | train_mae: 0.18746 |  0:00:15s\n"
     ]
    },
    {
     "name": "stdout",
     "output_type": "stream",
     "text": [
      "epoch 113| loss: 0.10129 | train_mse: 0.05113 | train_mae: 0.18194 |  0:00:15s\n",
      "epoch 114| loss: 0.10243 | train_mse: 0.04955 | train_mae: 0.18411 |  0:00:16s\n"
     ]
    },
    {
     "name": "stdout",
     "output_type": "stream",
     "text": [
      "epoch 115| loss: 0.12741 | train_mse: 0.04938 | train_mae: 0.17937 |  0:00:16s\n",
      "epoch 116| loss: 0.13267 | train_mse: 0.05838 | train_mae: 0.18681 |  0:00:16s\n"
     ]
    },
    {
     "name": "stdout",
     "output_type": "stream",
     "text": [
      "epoch 117| loss: 0.09652 | train_mse: 0.10118 | train_mae: 0.23773 |  0:00:16s\n"
     ]
    },
    {
     "name": "stdout",
     "output_type": "stream",
     "text": [
      "epoch 118| loss: 0.22426 | train_mse: 0.15401 | train_mae: 0.2783  |  0:00:16s\n",
      "epoch 119| loss: 0.12512 | train_mse: 0.18386 | train_mae: 0.28787 |  0:00:16s\n"
     ]
    },
    {
     "name": "stdout",
     "output_type": "stream",
     "text": [
      "epoch 120| loss: 0.10974 | train_mse: 0.11611 | train_mae: 0.25371 |  0:00:16s\n",
      "epoch 121| loss: 0.12977 | train_mse: 0.08191 | train_mae: 0.22319 |  0:00:17s\n"
     ]
    },
    {
     "name": "stdout",
     "output_type": "stream",
     "text": [
      "epoch 122| loss: 0.12181 | train_mse: 0.07281 | train_mae: 0.21693 |  0:00:17s\n",
      "epoch 123| loss: 0.11571 | train_mse: 0.09595 | train_mae: 0.24417 |  0:00:17s\n"
     ]
    },
    {
     "name": "stdout",
     "output_type": "stream",
     "text": [
      "epoch 124| loss: 0.25411 | train_mse: 0.14565 | train_mae: 0.303   |  0:00:17s\n",
      "epoch 125| loss: 0.12767 | train_mse: 0.12823 | train_mae: 0.28921 |  0:00:17s\n",
      "epoch 126| loss: 0.11153 | train_mse: 0.11294 | train_mae: 0.26341 |  0:00:17s\n"
     ]
    },
    {
     "name": "stdout",
     "output_type": "stream",
     "text": [
      "epoch 127| loss: 0.18337 | train_mse: 0.13287 | train_mae: 0.27996 |  0:00:17s\n",
      "epoch 128| loss: 0.1207  | train_mse: 0.12978 | train_mae: 0.27346 |  0:00:17s\n"
     ]
    },
    {
     "name": "stdout",
     "output_type": "stream",
     "text": [
      "epoch 129| loss: 0.15262 | train_mse: 0.12622 | train_mae: 0.26586 |  0:00:18s\n",
      "epoch 130| loss: 0.08929 | train_mse: 0.11038 | train_mae: 0.24736 |  0:00:18s\n"
     ]
    },
    {
     "name": "stdout",
     "output_type": "stream",
     "text": [
      "epoch 131| loss: 0.14622 | train_mse: 0.09732 | train_mae: 0.24473 |  0:00:18s\n",
      "epoch 132| loss: 0.17354 | train_mse: 0.08545 | train_mae: 0.22586 |  0:00:18s\n"
     ]
    },
    {
     "name": "stdout",
     "output_type": "stream",
     "text": [
      "epoch 133| loss: 0.1524  | train_mse: 0.0778  | train_mae: 0.22147 |  0:00:18s\n",
      "epoch 134| loss: 0.1025  | train_mse: 0.07578 | train_mae: 0.2172  |  0:00:19s\n"
     ]
    },
    {
     "name": "stdout",
     "output_type": "stream",
     "text": [
      "epoch 135| loss: 0.08811 | train_mse: 0.07118 | train_mae: 0.19956 |  0:00:19s\n",
      "epoch 136| loss: 0.15683 | train_mse: 0.06606 | train_mae: 0.19454 |  0:00:19s\n"
     ]
    },
    {
     "name": "stdout",
     "output_type": "stream",
     "text": [
      "epoch 137| loss: 0.09995 | train_mse: 0.07392 | train_mae: 0.19967 |  0:00:19s\n",
      "epoch 138| loss: 0.14709 | train_mse: 0.07684 | train_mae: 0.20537 |  0:00:19s\n"
     ]
    },
    {
     "name": "stdout",
     "output_type": "stream",
     "text": [
      "epoch 139| loss: 0.11301 | train_mse: 0.08363 | train_mae: 0.21411 |  0:00:19s\n",
      "epoch 140| loss: 0.07376 | train_mse: 0.1005  | train_mae: 0.22785 |  0:00:20s\n"
     ]
    },
    {
     "name": "stdout",
     "output_type": "stream",
     "text": [
      "epoch 141| loss: 0.12947 | train_mse: 0.10769 | train_mae: 0.22868 |  0:00:20s\n",
      "\n",
      "Early stopping occurred at epoch 141 with best_epoch = 91 and best_train_mae = 0.17744\n",
      "Best weights from best epoch are automatically used!\n"
     ]
    }
   ],
   "source": [
    "#Train the Model\n",
    "\n",
    "Y_train = np.reshape(Y_train, (-1, 1))\n",
    "Y_test = np.reshape(Y_test, (-1, 1))\n",
    "\n",
    "prior_model = TabNetRegressor(optimizer_fn=torch.optim.Adam, optimizer_params=dict(lr = 0.02),\n",
    "          #scheduler_params={\"step_size\":10, ], \"gamma\":0.9},\n",
    "          #scheduler_fn=torch.optim.lr_scheduler.StepLR\n",
    "          )  #TabNetRegressor()\n",
    "\n",
    "prior_model.fit(X_train,Y_train,eval_set=[(X_train, Y_train)],\n",
    "            eval_name=['train'], \n",
    "            eval_metric=[ 'mse', 'mae'], \n",
    "            max_epochs = n_epochs, \n",
    "            batch_size = batch_size,\n",
    "            patience=50\n",
    "            )"
   ]
  },
  {
   "cell_type": "code",
   "execution_count": 10,
   "id": "af65dcda",
   "metadata": {
    "execution": {
     "iopub.execute_input": "2022-06-22T13:02:03.218798Z",
     "iopub.status.busy": "2022-06-22T13:02:03.211908Z",
     "iopub.status.idle": "2022-06-22T13:02:03.241443Z",
     "shell.execute_reply": "2022-06-22T13:02:03.242467Z"
    },
    "id": "af65dcda",
    "papermill": {
     "duration": 0.105302,
     "end_time": "2022-06-22T13:02:03.242745",
     "exception": false,
     "start_time": "2022-06-22T13:02:03.137443",
     "status": "completed"
    },
    "tags": []
   },
   "outputs": [
    {
     "data": {
      "application/scrapbook.scrap.json+json": {
       "data": 0.13519546834120927,
       "encoder": "json",
       "name": "Prior Model MSE",
       "version": 1
      }
     },
     "metadata": {
      "scrapbook": {
       "data": true,
       "display": false,
       "name": "Prior Model MSE"
      }
     },
     "output_type": "display_data"
    },
    {
     "data": {
      "application/scrapbook.scrap.json+json": {
       "data": 1.0887193584488324,
       "encoder": "json",
       "name": "ABC Pre-generator MSE",
       "version": 1
      }
     },
     "metadata": {
      "scrapbook": {
       "data": true,
       "display": false,
       "name": "ABC Pre-generator MSE"
      }
     },
     "output_type": "display_data"
    },
    {
     "data": {
      "application/scrapbook.scrap.json+json": {
       "data": 0.3172910408255702,
       "encoder": "json",
       "name": "Prior Model MSE",
       "version": 1
      }
     },
     "metadata": {
      "scrapbook": {
       "data": true,
       "display": false,
       "name": "Prior Model MSE"
      }
     },
     "output_type": "display_data"
    },
    {
     "data": {
      "application/scrapbook.scrap.json+json": {
       "data": 0.9763744765423066,
       "encoder": "json",
       "name": "ABC Pre-generator MSE",
       "version": 1
      }
     },
     "metadata": {
      "scrapbook": {
       "data": true,
       "display": false,
       "name": "ABC Pre-generator MSE"
      }
     },
     "output_type": "display_data"
    }
   ],
   "source": [
    "y_pred = prior_model.predict(X_test)\n",
    "y_abc = y_pred + np.random.normal(0,variance, y_pred.shape) + bias \n",
    "mse = mean_squared_error(y_pred,Y_test)\n",
    "sb.glue(\"Prior Model MSE\",mse)\n",
    "mse = mean_squared_error(y_abc,Y_test)\n",
    "sb.glue(\"ABC Pre-generator MSE\",mse)\n",
    "mae = mean_absolute_error(y_pred,Y_test)\n",
    "sb.glue(\"Prior Model MSE\",mae)\n",
    "mae = mean_absolute_error(y_abc,Y_test)\n",
    "sb.glue(\"ABC Pre-generator MSE\",mae)"
   ]
  },
  {
   "cell_type": "markdown",
   "id": "25609da2",
   "metadata": {
    "papermill": {
     "duration": 0.064657,
     "end_time": "2022-06-22T13:02:03.372837",
     "exception": false,
     "start_time": "2022-06-22T13:02:03.308180",
     "status": "completed"
    },
    "tags": []
   },
   "source": [
    "# ABC GAN Model"
   ]
  },
  {
   "cell_type": "code",
   "execution_count": 11,
   "id": "dfc3464d",
   "metadata": {
    "execution": {
     "iopub.execute_input": "2022-06-22T13:02:03.565406Z",
     "iopub.status.busy": "2022-06-22T13:02:03.562964Z",
     "iopub.status.idle": "2022-06-22T13:02:03.566860Z",
     "shell.execute_reply": "2022-06-22T13:02:03.567437Z"
    },
    "papermill": {
     "duration": 0.100323,
     "end_time": "2022-06-22T13:02:03.567681",
     "exception": false,
     "start_time": "2022-06-22T13:02:03.467358",
     "status": "completed"
    },
    "tags": []
   },
   "outputs": [],
   "source": [
    "gen = network.Generator(n_features+1).to(device)\n",
    "disc = network.Discriminator(n_features+1).to(device)\n",
    "\n",
    "criterion = torch.nn.BCELoss()\n",
    "gen_opt = torch.optim.Adam(gen.parameters(), lr=0.001, betas=(0.5, 0.999))\n",
    "disc_opt = torch.optim.Adam(disc.parameters(), lr=0.001, betas=(0.5, 0.999))"
   ]
  },
  {
   "cell_type": "code",
   "execution_count": 12,
   "id": "b75fdd85",
   "metadata": {
    "execution": {
     "iopub.execute_input": "2022-06-22T13:02:03.754670Z",
     "iopub.status.busy": "2022-06-22T13:02:03.739438Z",
     "iopub.status.idle": "2022-06-22T13:03:00.843724Z",
     "shell.execute_reply": "2022-06-22T13:03:00.847822Z"
    },
    "papermill": {
     "duration": 57.218989,
     "end_time": "2022-06-22T13:03:00.848655",
     "exception": false,
     "start_time": "2022-06-22T13:02:03.629666",
     "status": "completed"
    },
    "tags": []
   },
   "outputs": [
    {
     "data": {
      "image/png": "[encoded data removed]",
      "text/plain": [
       "<Figure size 432x288 with 1 Axes>"
      ]
     },
     "metadata": {
      "needs_background": "light"
     },
     "output_type": "display_data"
    },
    {
     "data": {
      "image/png": "[encoded data removed]",
      "text/plain": [
       "<Figure size 432x288 with 1 Axes>"
      ]
     },
     "metadata": {
      "needs_background": "light"
     },
     "output_type": "display_data"
    }
   ],
   "source": [
    "#Training the ABC_GAN \n",
    "ABC_train_test2.training_GAN(disc,gen,disc_opt,gen_opt,train_data,batch_size,n_epochs,criterion,prior_model,variance,bias,device)"
   ]
  },
  {
   "cell_type": "code",
   "execution_count": 13,
   "id": "1fa7c368",
   "metadata": {
    "execution": {
     "iopub.execute_input": "2022-06-22T13:03:01.300391Z",
     "iopub.status.busy": "2022-06-22T13:03:01.289372Z",
     "iopub.status.idle": "2022-06-22T13:03:03.074153Z",
     "shell.execute_reply": "2022-06-22T13:03:03.075365Z"
    },
    "papermill": {
     "duration": 2.167507,
     "end_time": "2022-06-22T13:03:03.075624",
     "exception": false,
     "start_time": "2022-06-22T13:03:00.908117",
     "status": "completed"
    },
    "tags": []
   },
   "outputs": [
    {
     "data": {
      "application/scrapbook.scrap.json+json": {
       "data": 0.10889397218577719,
       "encoder": "json",
       "name": "ABC-GAN Model 1 MSE",
       "version": 1
      }
     },
     "metadata": {
      "scrapbook": {
       "data": true,
       "display": false,
       "name": "ABC-GAN Model 1 MSE"
      }
     },
     "output_type": "display_data"
    },
    {
     "data": {
      "application/scrapbook.scrap.json+json": {
       "data": 0.26510429590195417,
       "encoder": "json",
       "name": "ABC-GAN Model 1 MAE",
       "version": 1
      }
     },
     "metadata": {
      "scrapbook": {
       "data": true,
       "display": false,
       "name": "ABC-GAN Model 1 MAE"
      }
     },
     "output_type": "display_data"
    },
    {
     "data": {
      "application/scrapbook.scrap.json+json": {
       "data": 5.302085918039084,
       "encoder": "json",
       "name": "ABC-GAN Model 1 Manhattan Distance",
       "version": 1
      }
     },
     "metadata": {
      "scrapbook": {
       "data": true,
       "display": false,
       "name": "ABC-GAN Model 1 Manhattan Distance"
      }
     },
     "output_type": "display_data"
    },
    {
     "data": {
      "application/scrapbook.scrap.json+json": {
       "data": 1.4757512651549447,
       "encoder": "json",
       "name": "ABC-GAN Model 1 Euclidean distance",
       "version": 1
      }
     },
     "metadata": {
      "scrapbook": {
       "data": true,
       "display": false,
       "name": "ABC-GAN Model 1 Euclidean distance"
      }
     },
     "output_type": "display_data"
    },
    {
     "data": {
      "application/scrapbook.scrap.json+json": {
       "data": [
        [
         0.1099677581057044,
         0.11045411949667058,
         0.1087125129605897,
         0.10998223194861989,
         0.10803340242987394,
         0.10854826154034354,
         0.10835728173558519,
         0.11037182397652615,
         0.10745999781653022,
         0.11051324662020737,
         0.109399444529335,
         0.10946261684431695,
         0.10963186305610155,
         0.10952281923392496,
         0.10919578393188159,
         0.10796130663047239,
         0.10898627347321792,
         0.10952305474704697,
         0.10880551013200605,
         0.10775319815686488,
         0.10875398603956829,
         0.10948823551457199,
         0.10843510801027952,
         0.10954809521170013,
         0.10892346858905796,
         0.10842101206209546,
         0.10754852946713607,
         0.10938016094092114,
         0.10867654444316362,
         0.10893579976042003,
         0.1088008032682138,
         0.10894019366805363,
         0.10922652773395143,
         0.1101274086627394,
         0.10961655065783438,
         0.10821910738707732,
         0.10791752800710128,
         0.10909462839757822,
         0.10984737561487393,
         0.10796751311299727,
         0.10868470641186892,
         0.10933521992969482,
         0.10840540446139975,
         0.10785197779284453,
         0.11034348782087752,
         0.10748257489500208,
         0.10773512825840888,
         0.10860533662137158,
         0.109401521014173,
         0.10757167710586504,
         0.10876995462093361,
         0.10767372769212728,
         0.10905547218860594,
         0.10860254858822035,
         0.10906974064704862,
         0.10881504502024934,
         0.10875950172818756,
         0.11014663663996609,
         0.10728744599752567,
         0.10999366873796104,
         0.1096520067026433,
         0.11003576276449349,
         0.10827815351599716,
         0.10955996677889242,
         0.10927867869461963,
         0.1115074134461452,
         0.1052720889068683,
         0.10927431498522085,
         0.10772873934893397,
         0.10862845968222948,
         0.1092043788685638,
         0.1094175110449486,
         0.10913109308600089,
         0.10823405049000505,
         0.109220622537021,
         0.11016202021798183,
         0.10776475551434776,
         0.10924139715048735,
         0.10899075776382454,
         0.10992056264242636,
         0.10946535371822053,
         0.1101127715412803,
         0.10867801211044333,
         0.10933578717834773,
         0.10763032316845282,
         0.10733344337943058,
         0.10911637557779388,
         0.10849157216440168,
         0.10847993539415782,
         0.10851834700198937,
         0.10812452526981564,
         0.10796530486351667,
         0.10891132675933049,
         0.10821580519795555,
         0.10832715674382169,
         0.10988119358349444,
         0.10913037225968084,
         0.10857311642302711,
         0.10882608875757264,
         0.10967581325584871
        ],
        [
         0.26678137853741646,
         0.267664335668087,
         0.26490251794457437,
         0.26734988018870354,
         0.2624179497361183,
         0.26447924971580505,
         0.26423199474811554,
         0.26881067007780074,
         0.2619555778801441,
         0.2688509814441204,
         0.26732307150959966,
         0.26619667187333107,
         0.2663859613239765,
         0.2657580472528934,
         0.2657588839530945,
         0.2643044337630272,
         0.26395556330680847,
         0.2658498264849186,
         0.26440104469656944,
         0.26392303705215453,
         0.26493554562330246,
         0.2666243091225624,
         0.2642655670642853,
         0.26789893954992294,
         0.2655955784022808,
         0.26507002487778664,
         0.2627812497317791,
         0.26608127951622007,
         0.2648693315684795,
         0.2658108875155449,
         0.2651762068271637,
         0.26591627299785614,
         0.265377389639616,
         0.2674668326973915,
         0.26634524539113047,
         0.2630899116396904,
         0.2637994699180126,
         0.26567008569836614,
         0.26859640032052995,
         0.26355831399559976,
         0.2652511455118656,
         0.26599644497036934,
         0.2632090404629707,
         0.2632623963057995,
         0.2671013683080673,
         0.2624377615749836,
         0.2623708374798298,
         0.26429070383310316,
         0.26610764041543006,
         0.26075363904237747,
         0.2640244998037815,
         0.2623813092708588,
         0.26455622538924217,
         0.2647214852273464,
         0.2659217745065689,
         0.2648207813501358,
         0.26540965884923934,
         0.2665016740560532,
         0.2615078292787075,
         0.2673367738723755,
         0.2662781611084938,
         0.26839414015412333,
         0.26490849629044533,
         0.26474946588277815,
         0.26559019833803177,
         0.26948070004582403,
         0.25853562280535697,
         0.2657867707312107,
         0.2628170743584633,
         0.2637445218861103,
         0.2658387035131454,
         0.26667570546269415,
         0.2659789979457855,
         0.26472481340169907,
         0.2664209358394146,
         0.26622631028294563,
         0.2633735276758671,
         0.265205367654562,
         0.2648982807993889,
         0.26653425917029383,
         0.26616504043340683,
         0.2682578980922699,
         0.26429139748215674,
         0.2655599430203438,
         0.2627148099243641,
         0.2622668854892254,
         0.26445033177733424,
         0.2636988937854767,
         0.2650752939283848,
         0.26436820775270464,
         0.26389234364032743,
         0.26306882202625276,
         0.26566883474588393,
         0.26481830701231956,
         0.2637605920433998,
         0.2658273756504059,
         0.2660556972026825,
         0.2649295836687088,
         0.2646602258086205,
         0.2665441446006298
        ],
        [
         5.335627570748329,
         5.35328671336174,
         5.298050358891487,
         5.346997603774071,
         5.248358994722366,
         5.289584994316101,
         5.284639894962311,
         5.376213401556015,
         5.239111557602882,
         5.377019628882408,
         5.346461430191994,
         5.323933437466621,
         5.32771922647953,
         5.315160945057869,
         5.31517767906189,
         5.286088675260544,
         5.279111266136169,
         5.316996529698372,
         5.288020893931389,
         5.278460741043091,
         5.298710912466049,
         5.332486182451248,
         5.285311341285706,
         5.357978790998459,
         5.311911568045616,
         5.301400497555733,
         5.255624994635582,
         5.321625590324402,
         5.297386631369591,
         5.316217750310898,
         5.303524136543274,
         5.318325459957123,
         5.30754779279232,
         5.34933665394783,
         5.326904907822609,
         5.261798232793808,
         5.275989398360252,
         5.313401713967323,
         5.371928006410599,
         5.271166279911995,
         5.305022910237312,
         5.319928899407387,
         5.264180809259415,
         5.26524792611599,
         5.342027366161346,
         5.248755231499672,
         5.247416749596596,
         5.285814076662064,
         5.322152808308601,
         5.215072780847549,
         5.28048999607563,
         5.247626185417175,
         5.2911245077848434,
         5.294429704546928,
         5.318435490131378,
         5.296415627002716,
         5.308193176984787,
         5.330033481121063,
         5.23015658557415,
         5.34673547744751,
         5.325563222169876,
         5.367882803082466,
         5.2981699258089066,
         5.294989317655563,
         5.311803966760635,
         5.389614000916481,
         5.17071245610714,
         5.315735414624214,
         5.256341487169266,
         5.274890437722206,
         5.316774070262909,
         5.333514109253883,
         5.3195799589157104,
         5.294496268033981,
         5.328418716788292,
         5.324526205658913,
         5.267470553517342,
         5.30410735309124,
         5.297965615987778,
         5.330685183405876,
         5.323300808668137,
         5.365157961845398,
         5.285827949643135,
         5.311198860406876,
         5.254296198487282,
         5.245337709784508,
         5.289006635546684,
         5.273977875709534,
         5.301505878567696,
         5.287364155054092,
         5.277846872806549,
         5.261376440525055,
         5.313376694917679,
         5.296366140246391,
         5.275211840867996,
         5.316547513008118,
         5.32111394405365,
         5.298591673374176,
         5.293204516172409,
         5.330882892012596
        ],
        [
         1.4830223066812205,
         1.4862982170255779,
         1.47453391253365,
         1.4831199004033349,
         1.4699211028478634,
         1.47341957052527,
         1.4721228327526559,
         1.4857444193166343,
         1.4660149918505623,
         1.4866959784717746,
         1.4791852117252593,
         1.4796122251746702,
         1.4807556385582434,
         1.4800190487552851,
         1.4778077272221957,
         1.4694305470519686,
         1.4763893353260036,
         1.4800206400388272,
         1.4751644663020191,
         1.4680136113596827,
         1.4748151480071547,
         1.4797853595340913,
         1.4726514048496304,
         1.480189820338595,
         1.4759638788876777,
         1.4725556835793712,
         1.466618760735973,
         1.4790548396927081,
         1.4742899609178894,
         1.4760474230892449,
         1.475132558573729,
         1.4760771908545545,
         1.478015749130918,
         1.484098437858752,
         1.480652225594075,
         1.4711839272305642,
         1.4691325876659416,
         1.4771230713625607,
         1.4822103468460468,
         1.4694727837765302,
         1.4743453219098226,
         1.4787509589494428,
         1.4724496898800974,
         1.4686863367843015,
         1.4855536868176629,
         1.466168986815654,
         1.4678905153887252,
         1.4738068843737402,
         1.4791992496900004,
         1.4667765822091996,
         1.474923419170864,
         1.4674721645886664,
         1.4768579633032144,
         1.4737879670306742,
         1.4769545737567464,
         1.4752291009890588,
         1.4748525467190783,
         1.4842279921896506,
         1.4648375063298023,
         1.4831970114449464,
         1.480891668574331,
         1.4834807903339597,
         1.4715852236007072,
         1.4802700211710864,
         1.47836855144189,
         1.4933680955889288,
         1.4510140516677865,
         1.4783390340867066,
         1.4678469903156388,
         1.4739637694477397,
         1.4778658861247445,
         1.479307344975672,
         1.4773699136370748,
         1.4712854956805974,
         1.4779757950455144,
         1.4843316355719285,
         1.4680923371119936,
         1.478116349618577,
         1.4764197083744484,
         1.482704034137807,
         1.4796307222967529,
         1.4839998082296393,
         1.4742999159631214,
         1.4787547949430138,
         1.4671763572826058,
         1.4651514828128223,
         1.4772702906224973,
         1.473034773278633,
         1.4729557725482312,
         1.473216528565909,
         1.4705408887196278,
         1.469457756204762,
         1.4758816128628371,
         1.4711614812654357,
         1.4719181821271297,
         1.4824384883258694,
         1.4773650345102989,
         1.4735882492950811,
         1.4753039602574964,
         1.481052418085523
        ]
       ],
       "encoder": "json",
       "name": "ABC_GAN_1 Metrics",
       "version": 1
      }
     },
     "metadata": {
      "scrapbook": {
       "data": true,
       "display": false,
       "name": "ABC_GAN_1 Metrics"
      }
     },
     "output_type": "display_data"
    },
    {
     "name": "stdout",
     "output_type": "stream",
     "text": [
      "MSE\n",
      "0.10889397218577719\n"
     ]
    }
   ],
   "source": [
    "ABC_GAN1_metrics=ABC_train_test2.test_generator(gen,test_data,prior_model,variance,bias,\"1\",device)\n",
    "sb.glue(\"ABC_GAN_1 Metrics\",ABC_GAN1_metrics)\n",
    "\n",
    "print(\"MSE\")\n",
    "print(mean(ABC_GAN1_metrics[0]))"
   ]
  },
  {
   "cell_type": "code",
   "execution_count": 14,
   "id": "eb22ce5c",
   "metadata": {
    "execution": {
     "iopub.execute_input": "2022-06-22T13:03:03.264998Z",
     "iopub.status.busy": "2022-06-22T13:03:03.260133Z",
     "iopub.status.idle": "2022-06-22T13:03:05.005886Z",
     "shell.execute_reply": "2022-06-22T13:03:05.006987Z"
    },
    "papermill": {
     "duration": 1.873246,
     "end_time": "2022-06-22T13:03:05.007241",
     "exception": false,
     "start_time": "2022-06-22T13:03:03.133995",
     "status": "completed"
    },
    "tags": []
   },
   "outputs": [
    {
     "data": {
      "image/png": "[encoded data removed]",
      "text/plain": [
       "<Figure size 432x288 with 1 Axes>"
      ]
     },
     "metadata": {
      "needs_background": "light"
     },
     "output_type": "display_data"
    },
    {
     "data": {
      "image/png": "[encoded data removed]",
      "text/plain": [
       "<Figure size 432x288 with 1 Axes>"
      ]
     },
     "metadata": {
      "needs_background": "light"
     },
     "output_type": "display_data"
    },
    {
     "data": {
      "image/png": "[encoded data removed]",
      "text/plain": [
       "<Figure size 432x288 with 1 Axes>"
      ]
     },
     "metadata": {
      "needs_background": "light"
     },
     "output_type": "display_data"
    },
    {
     "data": {
      "image/png": "[encoded data removed]",
      "text/plain": [
       "<Figure size 432x288 with 1 Axes>"
      ]
     },
     "metadata": {
      "needs_background": "light"
     },
     "output_type": "display_data"
    }
   ],
   "source": [
    "sanityChecks.discProbVsError(train_data,disc,device)\n",
    "sanityChecks.discProbVsError(test_data,disc,device)"
   ]
  },
  {
   "cell_type": "markdown",
   "id": "130f3a4d",
   "metadata": {
    "id": "130f3a4d",
    "papermill": {
     "duration": 0.085323,
     "end_time": "2022-06-22T13:03:05.162654",
     "exception": false,
     "start_time": "2022-06-22T13:03:05.077331",
     "status": "completed"
    },
    "tags": []
   },
   "source": [
    "# ABC - GAN Model with skip connection"
   ]
  },
  {
   "cell_type": "code",
   "execution_count": 15,
   "id": "4e43dad1",
   "metadata": {
    "execution": {
     "iopub.execute_input": "2022-06-22T13:03:05.374703Z",
     "iopub.status.busy": "2022-06-22T13:03:05.370766Z",
     "iopub.status.idle": "2022-06-22T13:03:05.377135Z",
     "shell.execute_reply": "2022-06-22T13:03:05.375643Z"
    },
    "id": "4e43dad1",
    "papermill": {
     "duration": 0.141968,
     "end_time": "2022-06-22T13:03:05.380725",
     "exception": false,
     "start_time": "2022-06-22T13:03:05.238757",
     "status": "completed"
    },
    "tags": []
   },
   "outputs": [],
   "source": [
    "#Generator\n",
    "gen3 = network.GeneratorWithSkipConnection(n_features+1).to(device)\n",
    "constraints=network.weightConstraint()\n",
    "#Discriminator \n",
    "disc3 = network.Discriminator(n_features+1).to(device)\n",
    "\n",
    "criterion = torch.nn.BCELoss()\n",
    "gen_opt = torch.optim.Adam(gen3.parameters(), lr=0.001, betas=(0.5, 0.999))\n",
    "disc_opt = torch.optim.Adam(disc3.parameters(), lr=0.001, betas=(0.5, 0.999))\n"
   ]
  },
  {
   "cell_type": "code",
   "execution_count": 16,
   "id": "26acbc37",
   "metadata": {
    "execution": {
     "iopub.execute_input": "2022-06-22T13:03:05.714380Z",
     "iopub.status.busy": "2022-06-22T13:03:05.703760Z",
     "iopub.status.idle": "2022-06-22T13:04:23.389828Z",
     "shell.execute_reply": "2022-06-22T13:04:23.390616Z"
    },
    "id": "26acbc37",
    "papermill": {
     "duration": 77.889242,
     "end_time": "2022-06-22T13:04:23.390952",
     "exception": false,
     "start_time": "2022-06-22T13:03:05.501710",
     "status": "completed"
    },
    "tags": []
   },
   "outputs": [
    {
     "data": {
      "image/png": "[encoded data removed]",
      "text/plain": [
       "<Figure size 432x288 with 1 Axes>"
      ]
     },
     "metadata": {
      "needs_background": "light"
     },
     "output_type": "display_data"
    },
    {
     "data": {
      "image/png": "[encoded data removed]",
      "text/plain": [
       "<Figure size 432x288 with 1 Axes>"
      ]
     },
     "metadata": {
      "needs_background": "light"
     },
     "output_type": "display_data"
    }
   ],
   "source": [
    "ABC_train_test2.training_GAN_skip_connection(disc3,gen3,disc_opt,gen_opt,train_data,batch_size,n_epochs,criterion,prior_model,variance,bias,device)"
   ]
  },
  {
   "cell_type": "code",
   "execution_count": 17,
   "id": "c5e0717b",
   "metadata": {
    "execution": {
     "iopub.execute_input": "2022-06-22T13:04:23.515029Z",
     "iopub.status.busy": "2022-06-22T13:04:23.513871Z",
     "iopub.status.idle": "2022-06-22T13:04:24.279018Z",
     "shell.execute_reply": "2022-06-22T13:04:24.279587Z"
    },
    "id": "c5e0717b",
    "papermill": {
     "duration": 0.839023,
     "end_time": "2022-06-22T13:04:24.279842",
     "exception": false,
     "start_time": "2022-06-22T13:04:23.440819",
     "status": "completed"
    },
    "tags": []
   },
   "outputs": [
    {
     "data": {
      "application/scrapbook.scrap.json+json": {
       "data": 0.18688670361326398,
       "encoder": "json",
       "name": "ABC-GAN Model 3 MSE",
       "version": 1
      }
     },
     "metadata": {
      "scrapbook": {
       "data": true,
       "display": false,
       "name": "ABC-GAN Model 3 MSE"
      }
     },
     "output_type": "display_data"
    },
    {
     "data": {
      "application/scrapbook.scrap.json+json": {
       "data": 0.3430450441539288,
       "encoder": "json",
       "name": "ABC-GAN Model 3 MAE",
       "version": 1
      }
     },
     "metadata": {
      "scrapbook": {
       "data": true,
       "display": false,
       "name": "ABC-GAN Model 3 MAE"
      }
     },
     "output_type": "display_data"
    },
    {
     "data": {
      "application/scrapbook.scrap.json+json": {
       "data": 6.860900883078575,
       "encoder": "json",
       "name": "ABC-GAN Model 3 Manhattan Distance",
       "version": 1
      }
     },
     "metadata": {
      "scrapbook": {
       "data": true,
       "display": false,
       "name": "ABC-GAN Model 3 Manhattan Distance"
      }
     },
     "output_type": "display_data"
    },
    {
     "data": {
      "application/scrapbook.scrap.json+json": {
       "data": 1.9332817857542224,
       "encoder": "json",
       "name": "ABC-GAN Model 3 Euclidean distance",
       "version": 1
      }
     },
     "metadata": {
      "scrapbook": {
       "data": true,
       "display": false,
       "name": "ABC-GAN Model 3 Euclidean distance"
      }
     },
     "output_type": "display_data"
    },
    {
     "data": {
      "application/scrapbook.scrap.json+json": {
       "data": [
        [
         0.18469341580419524,
         0.188366478594171,
         0.18908562906891685,
         0.18386258692200905,
         0.1879361326116602,
         0.18932360382138289,
         0.18754083163636737,
         0.18968473645894837,
         0.1918318101057141,
         0.18341398085367372,
         0.1887483975716029,
         0.18523667874823127,
         0.185654111971126,
         0.18882265802932677,
         0.18814641986602648,
         0.18185813197981404,
         0.18769970246230713,
         0.18492097409329564,
         0.18677629319728645,
         0.18925825717531564,
         0.18907846077458096,
         0.18024425858210785,
         0.1863765289233641,
         0.18812263402607052,
         0.18495053414987397,
         0.18644526273807097,
         0.19077550525238807,
         0.18953651343158887,
         0.18599709742155607,
         0.1856554559022959,
         0.18330327283948428,
         0.18907277337490033,
         0.1871783688172942,
         0.187479489764138,
         0.1857618303430478,
         0.1872254759997912,
         0.1889758676423956,
         0.1857511738917021,
         0.18837969423885714,
         0.1898320599237419,
         0.1840930078631596,
         0.186814357046975,
         0.19160141691415444,
         0.18858664675527687,
         0.1866929174805517,
         0.18445608025124174,
         0.18441619845079632,
         0.18660492587751265,
         0.18979914889400348,
         0.1863634667180604,
         0.18608675329563096,
         0.18168937016414355,
         0.18675597728892462,
         0.18217020608334722,
         0.19234407406359985,
         0.18526018946157205,
         0.185288606371028,
         0.18826420595343768,
         0.18657879768124422,
         0.18450978591689382,
         0.18897821082924068,
         0.18784430473963742,
         0.18444789256403812,
         0.18894226259496497,
         0.1880558608871042,
         0.18632708880442092,
         0.18489758693222122,
         0.1847435679344152,
         0.19087634212555646,
         0.18565489967626872,
         0.19121709259815903,
         0.18325283164575415,
         0.18179427862330208,
         0.18541772794123212,
         0.18429239884944199,
         0.1870953387698139,
         0.18750423143395634,
         0.1911409947925869,
         0.1899912479012768,
         0.18694473780740606,
         0.18686428837455318,
         0.1881165527814725,
         0.1864182746114699,
         0.18649128850621186,
         0.18432852290717522,
         0.18645291063666947,
         0.1867702551545746,
         0.18538215748456896,
         0.1905428963619006,
         0.18594325680560647,
         0.18589573181534297,
         0.18650987036655758,
         0.1839264210228056,
         0.18576335205727995,
         0.18547284508281908,
         0.18986891417236884,
         0.18703465038897743,
         0.19005648872623698,
         0.18751555274259624,
         0.18851801233623874
        ],
        [
         0.3393359139561653,
         0.34359843879938123,
         0.34697644263505933,
         0.3425589457154274,
         0.34568349570035933,
         0.34621302634477613,
         0.34338942021131513,
         0.34274503737688067,
         0.34815169125795364,
         0.33938750475645063,
         0.3446165695786476,
         0.3399865373969078,
         0.3404195591807365,
         0.34507692903280257,
         0.3413780614733696,
         0.34144989401102066,
         0.34269061535596845,
         0.3433313325047493,
         0.3436496898531914,
         0.34263630360364916,
         0.34016435891389846,
         0.3322730228304863,
         0.3424490049481392,
         0.3456925585865974,
         0.34058028608560564,
         0.34091465920209885,
         0.34739421159029005,
         0.3465276464819908,
         0.3442912295460701,
         0.34359460324048996,
         0.33820426613092425,
         0.34542415887117384,
         0.3443190798163414,
         0.34386517852544785,
         0.34057707637548446,
         0.34106478840112686,
         0.34400849789381027,
         0.3413787350058556,
         0.34598390609025953,
         0.34450198858976366,
         0.34018865674734117,
         0.34382753521203996,
         0.34681971520185473,
         0.34473893195390704,
         0.3450790897011757,
         0.33972106128931046,
         0.34051129668951036,
         0.34645148664712905,
         0.3460571989417076,
         0.33960858434438707,
         0.3409109339118004,
         0.33627413362264635,
         0.34211151450872423,
         0.33972890228033065,
         0.34909078031778334,
         0.3412432447075844,
         0.3433819517493248,
         0.34303280860185625,
         0.34319117218255996,
         0.33935494869947436,
         0.3470797464251518,
         0.3449940964579582,
         0.3399550154805183,
         0.3437139496207237,
         0.3443420097231865,
         0.3439830407500267,
         0.33928808718919756,
         0.34010768979787825,
         0.3475534304976463,
         0.3441254124045372,
         0.34764953404664994,
         0.3409482046961784,
         0.3385449066758156,
         0.3401697471737862,
         0.3418966129422188,
         0.3456908747553825,
         0.34381917864084244,
         0.34917719215154647,
         0.3472891733050346,
         0.3419696196913719,
         0.34438138753175734,
         0.343534828722477,
         0.3453197255730629,
         0.34514328092336655,
         0.34078380912542344,
         0.33879789263010024,
         0.34419112652540207,
         0.339121975004673,
         0.3482695981860161,
         0.33837431520223615,
         0.343199647963047,
         0.3425566598773003,
         0.3400050953030586,
         0.3417136177420616,
         0.3420319989323616,
         0.3463339194655418,
         0.34112755209207535,
         0.34978393763303756,
         0.34440628737211226,
         0.34532162398099897
        ],
        [
         6.786718279123306,
         6.871968775987625,
         6.939528852701187,
         6.851178914308548,
         6.913669914007187,
         6.924260526895523,
         6.867788404226303,
         6.854900747537613,
         6.963033825159073,
         6.787750095129013,
         6.892331391572952,
         6.799730747938156,
         6.808391183614731,
         6.901538580656052,
         6.827561229467392,
         6.828997880220413,
         6.8538123071193695,
         6.866626650094986,
         6.8729937970638275,
         6.852726072072983,
         6.803287178277969,
         6.645460456609726,
         6.848980098962784,
         6.913851171731949,
         6.811605721712112,
         6.818293184041977,
         6.947884231805801,
         6.930552929639816,
         6.885824590921402,
         6.871892064809799,
         6.7640853226184845,
         6.908483177423477,
         6.886381596326828,
         6.877303570508957,
         6.811541527509689,
         6.821295768022537,
         6.8801699578762054,
         6.827574700117111,
         6.919678121805191,
         6.890039771795273,
         6.803773134946823,
         6.876550704240799,
         6.936394304037094,
         6.89477863907814,
         6.901581794023514,
         6.794421225786209,
         6.810225933790207,
         6.929029732942581,
         6.921143978834152,
         6.792171686887741,
         6.818218678236008,
         6.725482672452927,
         6.842230290174484,
         6.794578045606613,
         6.981815606355667,
         6.824864894151688,
         6.867639034986496,
         6.860656172037125,
         6.863823443651199,
         6.787098973989487,
         6.9415949285030365,
         6.899881929159164,
         6.799100309610367,
         6.8742789924144745,
         6.88684019446373,
         6.879660815000534,
         6.785761743783951,
         6.802153795957565,
         6.951068609952927,
         6.882508248090744,
         6.952990680932999,
         6.818964093923569,
         6.770898133516312,
         6.803394943475723,
         6.837932258844376,
         6.913817495107651,
         6.876383572816849,
         6.98354384303093,
         6.945783466100693,
         6.839392393827438,
         6.887627750635147,
         6.870696574449539,
         6.906394511461258,
         6.902865618467331,
         6.815676182508469,
         6.775957852602005,
         6.883822530508041,
         6.78243950009346,
         6.965391963720322,
         6.7674863040447235,
         6.8639929592609406,
         6.851133197546005,
         6.8001019060611725,
         6.834272354841232,
         6.840639978647232,
         6.926678389310837,
         6.822551041841507,
         6.995678752660751,
         6.8881257474422455,
         6.90643247961998
        ],
        [
         1.9219438899416146,
         1.9409609918500217,
         1.9446625880543744,
         1.9176161603512265,
         1.938742544081912,
         1.945885936129777,
         1.936702515289157,
         1.9477409296872537,
         1.9587333157207192,
         1.9152753371443685,
         1.9429276752962417,
         1.9247684471033457,
         1.9269359718014816,
         1.9433098467785663,
         1.939826898803223,
         1.907134667399311,
         1.9375226577374889,
         1.9231275261578242,
         1.9327508540796792,
         1.9455500876375074,
         1.9446257263266933,
         1.8986535154266975,
         1.9306813767339452,
         1.9397042765641908,
         1.9232812282652476,
         1.9310373519850461,
         1.953333075808568,
         1.9469797812591114,
         1.9287151029716965,
         1.9269429462352845,
         1.9146972232678685,
         1.9445964793493808,
         1.9348300639451217,
         1.9363857558045503,
         1.9274949044967553,
         1.9350735179821525,
         1.9440980821059188,
         1.9274396171693788,
         1.9410290788077191,
         1.9484971640920699,
         1.9188173850742525,
         1.9329477853629415,
         1.9575567267088556,
         1.942094986118222,
         1.9323194222516715,
         1.9207086205421255,
         1.9205009682413405,
         1.9318640007904937,
         1.9483282520869192,
         1.9306137196138455,
         1.9291798946476244,
         1.9062495647954574,
         1.9326457372675658,
         1.9087703166350174,
         1.9613468538919874,
         1.924890591496421,
         1.9250382145351193,
         1.9404340027604015,
         1.9317287474241522,
         1.9209882140028545,
         1.9441101348907202,
         1.9382688396589232,
         1.9206659915979047,
         1.9439252176715285,
         1.9393600020991677,
         1.9304252837363114,
         1.923005912274953,
         1.9222048170495005,
         1.9538492374057752,
         1.9269400596607498,
         1.9555924554884079,
         1.914433763000194,
         1.9067998249596212,
         1.9257088458083798,
         1.9198562386253926,
         1.9344008828048747,
         1.9365135240114195,
         1.955203287602529,
         1.9493139711256204,
         1.93362218547164,
         1.9332060851060509,
         1.939672924910138,
         1.9308975871934269,
         1.9312756846510126,
         1.9200443896284023,
         1.931076956709232,
         1.932719613159522,
         1.925524123373005,
         1.9521418819435261,
         1.9284359299992648,
         1.9281894710600562,
         1.9313718977274035,
         1.9179490140397664,
         1.927502799257526,
         1.9259950419604879,
         1.9486862968285523,
         1.9340871251780642,
         1.9496486284776393,
         1.936571985455724,
         1.9417415499300557
        ]
       ],
       "encoder": "json",
       "name": "ABC_GAN_3 Metrics",
       "version": 1
      }
     },
     "metadata": {
      "scrapbook": {
       "data": true,
       "display": false,
       "name": "ABC_GAN_3 Metrics"
      }
     },
     "output_type": "display_data"
    },
    {
     "name": "stdout",
     "output_type": "stream",
     "text": [
      "MSE\n",
      "0.18688670361326398\n"
     ]
    }
   ],
   "source": [
    "ABC_GAN3_metrics=ABC_train_test2.test_generator(gen3,test_data,prior_model,variance,bias,\"3\",device)\n",
    "sb.glue(\"ABC_GAN_3 Metrics\",ABC_GAN3_metrics)\n",
    "\n",
    "print(\"MSE\")\n",
    "print(mean(ABC_GAN3_metrics[0]))"
   ]
  },
  {
   "cell_type": "code",
   "execution_count": 18,
   "id": "c8e46b48",
   "metadata": {
    "execution": {
     "iopub.execute_input": "2022-06-22T13:04:24.406697Z",
     "iopub.status.busy": "2022-06-22T13:04:24.405965Z",
     "iopub.status.idle": "2022-06-22T13:04:25.101382Z",
     "shell.execute_reply": "2022-06-22T13:04:25.101944Z"
    },
    "id": "c8e46b48",
    "papermill": {
     "duration": 0.765367,
     "end_time": "2022-06-22T13:04:25.102167",
     "exception": false,
     "start_time": "2022-06-22T13:04:24.336800",
     "status": "completed"
    },
    "tags": []
   },
   "outputs": [
    {
     "data": {
      "image/png": "[encoded data removed]",
      "text/plain": [
       "<Figure size 432x288 with 1 Axes>"
      ]
     },
     "metadata": {
      "needs_background": "light"
     },
     "output_type": "display_data"
    },
    {
     "data": {
      "image/png": "[encoded data removed]",
      "text/plain": [
       "<Figure size 432x288 with 1 Axes>"
      ]
     },
     "metadata": {
      "needs_background": "light"
     },
     "output_type": "display_data"
    },
    {
     "data": {
      "image/png": "[encoded data removed]",
      "text/plain": [
       "<Figure size 432x288 with 1 Axes>"
      ]
     },
     "metadata": {
      "needs_background": "light"
     },
     "output_type": "display_data"
    },
    {
     "data": {
      "image/png": "[encoded data removed]",
      "text/plain": [
       "<Figure size 432x288 with 1 Axes>"
      ]
     },
     "metadata": {
      "needs_background": "light"
     },
     "output_type": "display_data"
    }
   ],
   "source": [
    "sanityChecks.discProbVsError(train_data,disc3,device)\n",
    "sanityChecks.discProbVsError(test_data,disc3,device)"
   ]
  },
  {
   "cell_type": "markdown",
   "id": "a5bd74c3",
   "metadata": {
    "id": "a5bd74c3",
    "papermill": {
     "duration": 0.060098,
     "end_time": "2022-06-22T13:04:25.213094",
     "exception": false,
     "start_time": "2022-06-22T13:04:25.152996",
     "status": "completed"
    },
    "tags": []
   },
   "source": [
    "## Skip Connection Model Analysis - ABC-GAN "
   ]
  },
  {
   "cell_type": "markdown",
   "id": "5744a8bf",
   "metadata": {
    "id": "5744a8bf",
    "papermill": {
     "duration": 0.060223,
     "end_time": "2022-06-22T13:04:25.323166",
     "exception": false,
     "start_time": "2022-06-22T13:04:25.262943",
     "status": "completed"
    },
    "tags": []
   },
   "source": [
    "### Weight Analysis \n",
    "\n",
    "Study the weights of the skip connection layer\n",
    "\n",
    "Equation of the skip connection is \n",
    "\n",
    "$output = y_{gan} * w + y_{abc} * (1-w)$"
   ]
  },
  {
   "cell_type": "code",
   "execution_count": 19,
   "id": "52c31dea",
   "metadata": {
    "execution": {
     "iopub.execute_input": "2022-06-22T13:04:25.457368Z",
     "iopub.status.busy": "2022-06-22T13:04:25.456622Z",
     "iopub.status.idle": "2022-06-22T13:04:25.466086Z",
     "shell.execute_reply": "2022-06-22T13:04:25.466586Z"
    },
    "id": "52c31dea",
    "papermill": {
     "duration": 0.083618,
     "end_time": "2022-06-22T13:04:25.466807",
     "exception": false,
     "start_time": "2022-06-22T13:04:25.383189",
     "status": "completed"
    },
    "tags": []
   },
   "outputs": [
    {
     "name": "stdout",
     "output_type": "stream",
     "text": [
      "Weight of the node at skip connection\n",
      "Parameter containing:\n",
      "tensor([[0.1170]], requires_grad=True)\n"
     ]
    },
    {
     "data": {
      "application/scrapbook.scrap.json+json": {
       "data": 0.11703832447528839,
       "encoder": "json",
       "name": "Skip Connection Weight",
       "version": 1
      }
     },
     "metadata": {
      "scrapbook": {
       "data": true,
       "display": false,
       "name": "Skip Connection Weight"
      }
     },
     "output_type": "display_data"
    }
   ],
   "source": [
    "print(\"Weight of the node at skip connection\")\n",
    "for name,param in gen3.named_parameters():\n",
    "    if(name == \"skipNode.weight\"):\n",
    "        print(param)\n",
    "        sb.glue(\"Skip Connection Weight\",param.item())"
   ]
  }
 ],
 "metadata": {
  "colab": {
   "collapsed_sections": [],
   "name": "ABC_GAN_Model-Catboost_Pre-gen.ipynb",
   "provenance": []
  },
  "interpreter": {
   "hash": "31f2aee4e71d21fbe5cf8b01ff0e069b9275f58929596ceb00d14d90e3e16cd6"
  },
  "kernelspec": {
   "display_name": "Python 3 (ipykernel)",
   "language": "python",
   "name": "python3"
  },
  "language_info": {
   "codemirror_mode": {
    "name": "ipython",
    "version": 3
   },
   "file_extension": ".py",
   "mimetype": "text/x-python",
   "name": "python",
   "nbconvert_exporter": "python",
   "pygments_lexer": "ipython3",
   "version": "3.8.3"
  },
  "papermill": {
   "default_parameters": {},
   "duration": 174.717336,
   "end_time": "2022-06-22T13:04:26.372498",
   "environment_variables": {},
   "exception": null,
   "input_path": "ABC_GAN-TabNet.ipynb",
   "output_path": "./ABC_GAN_TabNet/ABC-GAN_output_4_2.ipynb",
   "parameters": {
    "bias": 1,
    "variance": 0.01
   },
   "start_time": "2022-06-22T13:01:31.655162",
   "version": "2.3.3"
  }
 },
 "nbformat": 4,
 "nbformat_minor": 5
}