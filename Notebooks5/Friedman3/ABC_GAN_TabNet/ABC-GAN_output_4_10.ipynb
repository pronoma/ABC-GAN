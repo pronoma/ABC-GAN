{
 "cells": [
  {
   "cell_type": "markdown",
   "id": "622780e6",
   "metadata": {
    "id": "622780e6",
    "papermill": {
     "duration": 0.034274,
     "end_time": "2022-06-22T13:25:08.701647",
     "exception": false,
     "start_time": "2022-06-22T13:25:08.667373",
     "status": "completed"
    },
    "tags": []
   },
   "source": [
    "## Import Libraries "
   ]
  },
  {
   "cell_type": "code",
   "execution_count": 1,
   "id": "a62397e3",
   "metadata": {
    "execution": {
     "iopub.execute_input": "2022-06-22T13:25:08.758926Z",
     "iopub.status.busy": "2022-06-22T13:25:08.758096Z",
     "iopub.status.idle": "2022-06-22T13:25:08.761264Z",
     "shell.execute_reply": "2022-06-22T13:25:08.761844Z"
    },
    "id": "a62397e3",
    "papermill": {
     "duration": 0.040119,
     "end_time": "2022-06-22T13:25:08.762178",
     "exception": false,
     "start_time": "2022-06-22T13:25:08.722059",
     "status": "completed"
    },
    "tags": []
   },
   "outputs": [],
   "source": [
    "import warnings\n",
    "import sys\n",
    "sys.path.insert(0, '../../src')\n",
    "warnings.filterwarnings('ignore')"
   ]
  },
  {
   "cell_type": "code",
   "execution_count": 2,
   "id": "d6a4e155",
   "metadata": {
    "execution": {
     "iopub.execute_input": "2022-06-22T13:25:08.804284Z",
     "iopub.status.busy": "2022-06-22T13:25:08.803312Z",
     "iopub.status.idle": "2022-06-22T13:25:15.021102Z",
     "shell.execute_reply": "2022-06-22T13:25:15.023498Z"
    },
    "id": "d6a4e155",
    "papermill": {
     "duration": 6.243105,
     "end_time": "2022-06-22T13:25:15.023880",
     "exception": false,
     "start_time": "2022-06-22T13:25:08.780775",
     "status": "completed"
    },
    "tags": []
   },
   "outputs": [],
   "source": [
    "import ABC_train_test2\n",
    "import friedman3Dataset\n",
    "import network\n",
    "import dataset\n",
    "import sanityChecks\n",
    "import torch \n",
    "import scrapbook as sb\n",
    "from statistics import mean \n",
    "import catboost as ctb \n",
    "from sklearn.model_selection import train_test_split\n",
    "from sklearn.metrics import mean_squared_error,mean_absolute_error\n",
    "import numpy as np\n",
    "from pytorch_tabnet.tab_model import TabNetRegressor"
   ]
  },
  {
   "cell_type": "markdown",
   "id": "2fa5b0f7",
   "metadata": {
    "id": "2fa5b0f7",
    "papermill": {
     "duration": 0.025689,
     "end_time": "2022-06-22T13:25:15.072972",
     "exception": false,
     "start_time": "2022-06-22T13:25:15.047283",
     "status": "completed"
    },
    "tags": []
   },
   "source": [
    "## Parameters "
   ]
  },
  {
   "cell_type": "code",
   "execution_count": 3,
   "id": "783186fb",
   "metadata": {
    "execution": {
     "iopub.execute_input": "2022-06-22T13:25:15.127163Z",
     "iopub.status.busy": "2022-06-22T13:25:15.126346Z",
     "iopub.status.idle": "2022-06-22T13:25:15.128461Z",
     "shell.execute_reply": "2022-06-22T13:25:15.129273Z"
    },
    "id": "783186fb",
    "papermill": {
     "duration": 0.03217,
     "end_time": "2022-06-22T13:25:15.129506",
     "exception": false,
     "start_time": "2022-06-22T13:25:15.097336",
     "status": "completed"
    },
    "tags": [
     "parameters"
    ]
   },
   "outputs": [],
   "source": [
    "variance = 1\n",
    "bias = 1 "
   ]
  },
  {
   "cell_type": "code",
   "execution_count": 4,
   "id": "478a36da",
   "metadata": {
    "execution": {
     "iopub.execute_input": "2022-06-22T13:25:15.201527Z",
     "iopub.status.busy": "2022-06-22T13:25:15.200333Z",
     "iopub.status.idle": "2022-06-22T13:25:15.203239Z",
     "shell.execute_reply": "2022-06-22T13:25:15.203813Z"
    },
    "papermill": {
     "duration": 0.05081,
     "end_time": "2022-06-22T13:25:15.204544",
     "exception": false,
     "start_time": "2022-06-22T13:25:15.153734",
     "status": "completed"
    },
    "tags": [
     "injected-parameters"
    ]
   },
   "outputs": [],
   "source": [
    "# Parameters\n",
    "variance = 0.1\n",
    "bias = 0\n"
   ]
  },
  {
   "cell_type": "markdown",
   "id": "391cdbfd",
   "metadata": {
    "id": "391cdbfd",
    "papermill": {
     "duration": 0.021522,
     "end_time": "2022-06-22T13:25:15.244843",
     "exception": false,
     "start_time": "2022-06-22T13:25:15.223321",
     "status": "completed"
    },
    "tags": []
   },
   "source": [
    "## Dataset \n"
   ]
  },
  {
   "cell_type": "code",
   "execution_count": 5,
   "id": "5b51f161",
   "metadata": {
    "execution": {
     "iopub.execute_input": "2022-06-22T13:25:15.303201Z",
     "iopub.status.busy": "2022-06-22T13:25:15.299938Z",
     "iopub.status.idle": "2022-06-22T13:25:15.304752Z",
     "shell.execute_reply": "2022-06-22T13:25:15.304074Z"
    },
    "id": "5b51f161",
    "papermill": {
     "duration": 0.041936,
     "end_time": "2022-06-22T13:25:15.304975",
     "exception": false,
     "start_time": "2022-06-22T13:25:15.263039",
     "status": "completed"
    },
    "tags": []
   },
   "outputs": [],
   "source": [
    "#Parameters \n",
    "n_features = 4\n",
    "n_samples= 100\n",
    "n_target = 1"
   ]
  },
  {
   "cell_type": "code",
   "execution_count": 6,
   "id": "5d6eced4",
   "metadata": {
    "execution": {
     "iopub.execute_input": "2022-06-22T13:25:15.374218Z",
     "iopub.status.busy": "2022-06-22T13:25:15.373361Z",
     "iopub.status.idle": "2022-06-22T13:25:15.389058Z",
     "shell.execute_reply": "2022-06-22T13:25:15.389732Z"
    },
    "id": "5d6eced4",
    "papermill": {
     "duration": 0.051346,
     "end_time": "2022-06-22T13:25:15.389964",
     "exception": false,
     "start_time": "2022-06-22T13:25:15.338618",
     "status": "completed"
    },
    "tags": []
   },
   "outputs": [
    {
     "name": "stdout",
     "output_type": "stream",
     "text": [
      "          X1           X2        X3        X4         Y\n",
      "0  58.324053  1222.128416  0.735896  1.103569  1.425924\n",
      "1  52.996389   650.680995  0.780748  5.497261  1.366972\n",
      "2  41.986594   590.465303  0.449445  4.343555  1.528329\n",
      "3  77.559629   948.671657  0.888890  3.094439  1.574123\n",
      "4  85.568647  1722.003183  0.204755  5.204824  1.381151\n"
     ]
    }
   ],
   "source": [
    "X,Y = friedman3Dataset.friedman3_data(n_samples)"
   ]
  },
  {
   "cell_type": "code",
   "execution_count": 7,
   "id": "fe007438",
   "metadata": {
    "execution": {
     "iopub.execute_input": "2022-06-22T13:25:15.472514Z",
     "iopub.status.busy": "2022-06-22T13:25:15.471545Z",
     "iopub.status.idle": "2022-06-22T13:25:15.474699Z",
     "shell.execute_reply": "2022-06-22T13:25:15.473878Z"
    },
    "id": "fe007438",
    "papermill": {
     "duration": 0.049988,
     "end_time": "2022-06-22T13:25:15.474916",
     "exception": false,
     "start_time": "2022-06-22T13:25:15.424928",
     "status": "completed"
    },
    "tags": []
   },
   "outputs": [],
   "source": [
    "#Train test split for dataset \n",
    "X_train,X_test,Y_train,Y_test = train_test_split(X,Y,test_size = 0.2)\n",
    "train_data = dataset.CustomDataset(X_train,Y_train)\n",
    "test_data = dataset.CustomDataset(X_test,Y_test)\n"
   ]
  },
  {
   "cell_type": "markdown",
   "id": "a9a1af34",
   "metadata": {
    "id": "a9a1af34",
    "papermill": {
     "duration": 0.018516,
     "end_time": "2022-06-22T13:25:15.517512",
     "exception": false,
     "start_time": "2022-06-22T13:25:15.498996",
     "status": "completed"
    },
    "tags": []
   },
   "source": [
    "## Training Parameters "
   ]
  },
  {
   "cell_type": "code",
   "execution_count": 8,
   "id": "952b7fc8",
   "metadata": {
    "execution": {
     "iopub.execute_input": "2022-06-22T13:25:15.572431Z",
     "iopub.status.busy": "2022-06-22T13:25:15.570308Z",
     "iopub.status.idle": "2022-06-22T13:25:15.576050Z",
     "shell.execute_reply": "2022-06-22T13:25:15.576796Z"
    },
    "id": "952b7fc8",
    "papermill": {
     "duration": 0.039424,
     "end_time": "2022-06-22T13:25:15.577040",
     "exception": false,
     "start_time": "2022-06-22T13:25:15.537616",
     "status": "completed"
    },
    "tags": []
   },
   "outputs": [],
   "source": [
    "batch_size = 32\n",
    "n_epochs = 1000\n",
    "#Select the device \n",
    "device = torch.device('cuda' if torch.cuda.is_available() else 'cpu')"
   ]
  },
  {
   "cell_type": "markdown",
   "id": "a95e1600",
   "metadata": {
    "id": "a95e1600",
    "papermill": {
     "duration": 0.017375,
     "end_time": "2022-06-22T13:25:15.612478",
     "exception": false,
     "start_time": "2022-06-22T13:25:15.595103",
     "status": "completed"
    },
    "tags": []
   },
   "source": [
    "# ABC Pre-generator Model \n",
    "\n",
    "1. The catboost model is used as a pre-generator model for the ABC-GAN. \n",
    "2. The model is first trained on the entire dataset \n",
    "3. It generats X,Y pairs and we add some Gaussian noise with mean 0 and variance 1 to it which is then feed as input to the generator.\n"
   ]
  },
  {
   "cell_type": "code",
   "execution_count": 9,
   "id": "ff8ce7bd",
   "metadata": {
    "execution": {
     "iopub.execute_input": "2022-06-22T13:25:15.654764Z",
     "iopub.status.busy": "2022-06-22T13:25:15.653389Z",
     "iopub.status.idle": "2022-06-22T13:25:32.110219Z",
     "shell.execute_reply": "2022-06-22T13:25:32.110668Z"
    },
    "id": "ff8ce7bd",
    "papermill": {
     "duration": 16.482541,
     "end_time": "2022-06-22T13:25:32.110891",
     "exception": false,
     "start_time": "2022-06-22T13:25:15.628350",
     "status": "completed"
    },
    "tags": []
   },
   "outputs": [
    {
     "name": "stdout",
     "output_type": "stream",
     "text": [
      "Device used : cpu\n"
     ]
    },
    {
     "name": "stdout",
     "output_type": "stream",
     "text": [
      "epoch 0  | loss: 1.04933 | train_mse: 6.41766 | train_mae: 1.68839 |  0:00:00s\n",
      "epoch 1  | loss: 0.66629 | train_mse: 3.00505 | train_mae: 1.21855 |  0:00:00s\n"
     ]
    },
    {
     "name": "stdout",
     "output_type": "stream",
     "text": [
      "epoch 2  | loss: 0.747   | train_mse: 1.77462 | train_mae: 0.98424 |  0:00:00s\n",
      "epoch 3  | loss: 0.69556 | train_mse: 1.84814 | train_mae: 1.02004 |  0:00:00s\n",
      "epoch 4  | loss: 0.52892 | train_mse: 1.66618 | train_mae: 0.99242 |  0:00:00s\n"
     ]
    },
    {
     "name": "stdout",
     "output_type": "stream",
     "text": [
      "epoch 5  | loss: 0.42657 | train_mse: 1.29979 | train_mae: 0.86084 |  0:00:00s\n",
      "epoch 6  | loss: 0.42479 | train_mse: 0.55185 | train_mae: 0.60494 |  0:00:00s\n",
      "epoch 7  | loss: 0.34566 | train_mse: 0.62847 | train_mae: 0.62825 |  0:00:00s\n"
     ]
    },
    {
     "name": "stdout",
     "output_type": "stream",
     "text": [
      "epoch 8  | loss: 0.28721 | train_mse: 0.75074 | train_mae: 0.68102 |  0:00:01s\n",
      "epoch 9  | loss: 0.34209 | train_mse: 0.71219 | train_mae: 0.64665 |  0:00:01s\n",
      "epoch 10 | loss: 0.32469 | train_mse: 0.83832 | train_mae: 0.65728 |  0:00:01s\n"
     ]
    },
    {
     "name": "stdout",
     "output_type": "stream",
     "text": [
      "epoch 11 | loss: 0.23619 | train_mse: 1.02217 | train_mae: 0.68332 |  0:00:01s\n",
      "epoch 12 | loss: 0.27239 | train_mse: 0.92974 | train_mae: 0.65506 |  0:00:01s\n",
      "epoch 13 | loss: 0.20048 | train_mse: 0.69356 | train_mae: 0.59725 |  0:00:01s\n"
     ]
    },
    {
     "name": "stdout",
     "output_type": "stream",
     "text": [
      "epoch 14 | loss: 0.33157 | train_mse: 0.34391 | train_mae: 0.45851 |  0:00:01s\n",
      "epoch 15 | loss: 0.35717 | train_mse: 0.26237 | train_mae: 0.38706 |  0:00:01s\n"
     ]
    },
    {
     "name": "stdout",
     "output_type": "stream",
     "text": [
      "epoch 16 | loss: 0.26207 | train_mse: 0.2663  | train_mae: 0.39595 |  0:00:01s\n",
      "epoch 17 | loss: 0.35908 | train_mse: 0.38872 | train_mae: 0.46978 |  0:00:01s\n",
      "epoch 18 | loss: 0.24337 | train_mse: 0.29178 | train_mae: 0.38913 |  0:00:01s\n"
     ]
    },
    {
     "name": "stdout",
     "output_type": "stream",
     "text": [
      "epoch 19 | loss: 0.26519 | train_mse: 0.41341 | train_mae: 0.46257 |  0:00:02s\n",
      "epoch 20 | loss: 0.32184 | train_mse: 0.47988 | train_mae: 0.49396 |  0:00:02s\n",
      "epoch 21 | loss: 0.26071 | train_mse: 0.28001 | train_mae: 0.38787 |  0:00:02s\n"
     ]
    },
    {
     "name": "stdout",
     "output_type": "stream",
     "text": [
      "epoch 22 | loss: 0.22931 | train_mse: 0.23217 | train_mae: 0.35834 |  0:00:02s\n",
      "epoch 23 | loss: 0.21371 | train_mse: 0.20396 | train_mae: 0.33669 |  0:00:02s\n",
      "epoch 24 | loss: 0.23576 | train_mse: 0.26136 | train_mae: 0.36738 |  0:00:02s\n"
     ]
    },
    {
     "name": "stdout",
     "output_type": "stream",
     "text": [
      "epoch 25 | loss: 0.22466 | train_mse: 0.23894 | train_mae: 0.36534 |  0:00:02s\n",
      "epoch 26 | loss: 0.23909 | train_mse: 0.2454  | train_mae: 0.3669  |  0:00:02s\n",
      "epoch 27 | loss: 0.16114 | train_mse: 0.21081 | train_mae: 0.3412  |  0:00:02s\n"
     ]
    },
    {
     "name": "stdout",
     "output_type": "stream",
     "text": [
      "epoch 28 | loss: 0.23867 | train_mse: 0.19825 | train_mae: 0.3298  |  0:00:02s\n",
      "epoch 29 | loss: 0.28772 | train_mse: 0.18901 | train_mae: 0.3215  |  0:00:03s\n",
      "epoch 30 | loss: 0.20699 | train_mse: 0.21082 | train_mae: 0.33989 |  0:00:03s\n"
     ]
    },
    {
     "name": "stdout",
     "output_type": "stream",
     "text": [
      "epoch 31 | loss: 0.24028 | train_mse: 0.22455 | train_mae: 0.34604 |  0:00:03s\n",
      "epoch 32 | loss: 0.20804 | train_mse: 0.24816 | train_mae: 0.35724 |  0:00:03s\n",
      "epoch 33 | loss: 0.18447 | train_mse: 0.23725 | train_mae: 0.34937 |  0:00:03s\n"
     ]
    },
    {
     "name": "stdout",
     "output_type": "stream",
     "text": [
      "epoch 34 | loss: 0.4113  | train_mse: 0.25751 | train_mae: 0.37737 |  0:00:03s\n",
      "epoch 35 | loss: 0.30856 | train_mse: 0.22253 | train_mae: 0.35723 |  0:00:03s\n",
      "epoch 36 | loss: 0.26484 | train_mse: 0.20434 | train_mae: 0.35623 |  0:00:03s\n"
     ]
    },
    {
     "name": "stdout",
     "output_type": "stream",
     "text": [
      "epoch 37 | loss: 0.18903 | train_mse: 0.18619 | train_mae: 0.34461 |  0:00:03s\n",
      "epoch 38 | loss: 0.26755 | train_mse: 0.21068 | train_mae: 0.35839 |  0:00:03s\n",
      "epoch 39 | loss: 0.23412 | train_mse: 0.21084 | train_mae: 0.33422 |  0:00:03s\n"
     ]
    },
    {
     "name": "stdout",
     "output_type": "stream",
     "text": [
      "epoch 40 | loss: 0.22002 | train_mse: 0.21935 | train_mae: 0.33659 |  0:00:03s\n",
      "epoch 41 | loss: 0.23334 | train_mse: 0.17586 | train_mae: 0.31745 |  0:00:04s\n",
      "epoch 42 | loss: 0.29789 | train_mse: 0.13369 | train_mae: 0.29351 |  0:00:04s\n"
     ]
    },
    {
     "name": "stdout",
     "output_type": "stream",
     "text": [
      "epoch 43 | loss: 0.14673 | train_mse: 0.16761 | train_mae: 0.3115  |  0:00:04s\n",
      "epoch 44 | loss: 0.13703 | train_mse: 0.12431 | train_mae: 0.27703 |  0:00:04s\n",
      "epoch 45 | loss: 0.24336 | train_mse: 0.11109 | train_mae: 0.26185 |  0:00:04s\n"
     ]
    },
    {
     "name": "stdout",
     "output_type": "stream",
     "text": [
      "epoch 46 | loss: 0.20718 | train_mse: 0.112   | train_mae: 0.25777 |  0:00:04s\n",
      "epoch 47 | loss: 0.15305 | train_mse: 0.13517 | train_mae: 0.27065 |  0:00:04s\n",
      "epoch 48 | loss: 0.21376 | train_mse: 0.11257 | train_mae: 0.26262 |  0:00:04s\n"
     ]
    },
    {
     "name": "stdout",
     "output_type": "stream",
     "text": [
      "epoch 49 | loss: 0.16125 | train_mse: 0.09448 | train_mae: 0.24643 |  0:00:04s\n",
      "epoch 50 | loss: 0.12133 | train_mse: 0.11351 | train_mae: 0.25957 |  0:00:04s\n",
      "epoch 51 | loss: 0.16292 | train_mse: 0.14361 | train_mae: 0.27984 |  0:00:04s\n"
     ]
    },
    {
     "name": "stdout",
     "output_type": "stream",
     "text": [
      "epoch 52 | loss: 0.17537 | train_mse: 0.18013 | train_mae: 0.31514 |  0:00:04s\n",
      "epoch 53 | loss: 0.18619 | train_mse: 0.21966 | train_mae: 0.33734 |  0:00:05s\n",
      "epoch 54 | loss: 0.19161 | train_mse: 0.24675 | train_mae: 0.34122 |  0:00:05s\n"
     ]
    },
    {
     "name": "stdout",
     "output_type": "stream",
     "text": [
      "epoch 55 | loss: 0.14469 | train_mse: 0.30749 | train_mae: 0.34881 |  0:00:05s\n",
      "epoch 56 | loss: 0.24084 | train_mse: 0.27314 | train_mae: 0.32935 |  0:00:05s\n",
      "epoch 57 | loss: 0.21871 | train_mse: 0.23968 | train_mae: 0.32279 |  0:00:05s\n"
     ]
    },
    {
     "name": "stdout",
     "output_type": "stream",
     "text": [
      "epoch 58 | loss: 0.2185  | train_mse: 0.2075  | train_mae: 0.32036 |  0:00:05s\n",
      "epoch 59 | loss: 0.24529 | train_mse: 0.18482 | train_mae: 0.30921 |  0:00:05s\n"
     ]
    },
    {
     "name": "stdout",
     "output_type": "stream",
     "text": [
      "epoch 60 | loss: 0.23575 | train_mse: 0.14708 | train_mae: 0.27617 |  0:00:05s\n",
      "epoch 61 | loss: 0.18747 | train_mse: 0.17254 | train_mae: 0.30557 |  0:00:05s\n"
     ]
    },
    {
     "name": "stdout",
     "output_type": "stream",
     "text": [
      "epoch 62 | loss: 0.25582 | train_mse: 0.14425 | train_mae: 0.29342 |  0:00:05s\n",
      "epoch 63 | loss: 0.26222 | train_mse: 0.11741 | train_mae: 0.26872 |  0:00:06s\n",
      "epoch 64 | loss: 0.13527 | train_mse: 0.11931 | train_mae: 0.27025 |  0:00:06s\n"
     ]
    },
    {
     "name": "stdout",
     "output_type": "stream",
     "text": [
      "epoch 65 | loss: 0.10297 | train_mse: 0.11608 | train_mae: 0.2737  |  0:00:06s\n"
     ]
    },
    {
     "name": "stdout",
     "output_type": "stream",
     "text": [
      "epoch 66 | loss: 0.19036 | train_mse: 0.09294 | train_mae: 0.24574 |  0:00:06s\n",
      "epoch 67 | loss: 0.22955 | train_mse: 0.09066 | train_mae: 0.24523 |  0:00:06s\n"
     ]
    },
    {
     "name": "stdout",
     "output_type": "stream",
     "text": [
      "epoch 68 | loss: 0.16737 | train_mse: 0.09286 | train_mae: 0.25101 |  0:00:06s\n",
      "epoch 69 | loss: 0.09832 | train_mse: 0.09436 | train_mae: 0.25655 |  0:00:06s\n",
      "epoch 70 | loss: 0.13331 | train_mse: 0.08975 | train_mae: 0.24891 |  0:00:06s\n"
     ]
    },
    {
     "name": "stdout",
     "output_type": "stream",
     "text": [
      "epoch 71 | loss: 0.19798 | train_mse: 0.08201 | train_mae: 0.23097 |  0:00:06s\n",
      "epoch 72 | loss: 0.22917 | train_mse: 0.10094 | train_mae: 0.24542 |  0:00:07s\n",
      "epoch 73 | loss: 0.15698 | train_mse: 0.10345 | train_mae: 0.24808 |  0:00:07s\n"
     ]
    },
    {
     "name": "stdout",
     "output_type": "stream",
     "text": [
      "epoch 74 | loss: 0.18911 | train_mse: 0.1138  | train_mae: 0.25347 |  0:00:07s\n",
      "epoch 75 | loss: 0.1289  | train_mse: 0.14919 | train_mae: 0.28085 |  0:00:07s\n",
      "epoch 76 | loss: 0.12801 | train_mse: 0.19764 | train_mae: 0.32137 |  0:00:07s\n"
     ]
    },
    {
     "name": "stdout",
     "output_type": "stream",
     "text": [
      "epoch 77 | loss: 0.21091 | train_mse: 0.25027 | train_mae: 0.3517  |  0:00:07s\n",
      "epoch 78 | loss: 0.10933 | train_mse: 0.22073 | train_mae: 0.32587 |  0:00:07s\n",
      "epoch 79 | loss: 0.18419 | train_mse: 0.19837 | train_mae: 0.3098  |  0:00:07s\n"
     ]
    },
    {
     "name": "stdout",
     "output_type": "stream",
     "text": [
      "epoch 80 | loss: 0.21629 | train_mse: 0.14354 | train_mae: 0.27667 |  0:00:07s\n",
      "epoch 81 | loss: 0.22078 | train_mse: 0.12994 | train_mae: 0.26776 |  0:00:07s\n"
     ]
    },
    {
     "name": "stdout",
     "output_type": "stream",
     "text": [
      "epoch 82 | loss: 0.17697 | train_mse: 0.13164 | train_mae: 0.26587 |  0:00:08s\n",
      "epoch 83 | loss: 0.16375 | train_mse: 0.12669 | train_mae: 0.26051 |  0:00:08s\n",
      "epoch 84 | loss: 0.11944 | train_mse: 0.0898  | train_mae: 0.22276 |  0:00:08s\n"
     ]
    },
    {
     "name": "stdout",
     "output_type": "stream",
     "text": [
      "epoch 85 | loss: 0.10332 | train_mse: 0.08402 | train_mae: 0.22438 |  0:00:08s\n",
      "epoch 86 | loss: 0.17119 | train_mse: 0.11338 | train_mae: 0.24929 |  0:00:08s\n"
     ]
    },
    {
     "name": "stdout",
     "output_type": "stream",
     "text": [
      "epoch 87 | loss: 0.12497 | train_mse: 0.14068 | train_mae: 0.27367 |  0:00:08s\n",
      "epoch 88 | loss: 0.11921 | train_mse: 0.14727 | train_mae: 0.27308 |  0:00:08s\n",
      "epoch 89 | loss: 0.19673 | train_mse: 0.12261 | train_mae: 0.2525  |  0:00:08s\n"
     ]
    },
    {
     "name": "stdout",
     "output_type": "stream",
     "text": [
      "epoch 90 | loss: 0.16184 | train_mse: 0.119   | train_mae: 0.24951 |  0:00:08s\n",
      "epoch 91 | loss: 0.11037 | train_mse: 0.09378 | train_mae: 0.23152 |  0:00:08s\n",
      "epoch 92 | loss: 0.16383 | train_mse: 0.08756 | train_mae: 0.24134 |  0:00:09s\n"
     ]
    },
    {
     "name": "stdout",
     "output_type": "stream",
     "text": [
      "epoch 93 | loss: 0.10759 | train_mse: 0.06744 | train_mae: 0.20222 |  0:00:09s\n",
      "epoch 94 | loss: 0.08291 | train_mse: 0.08566 | train_mae: 0.21147 |  0:00:09s\n",
      "epoch 95 | loss: 0.09534 | train_mse: 0.09417 | train_mae: 0.21379 |  0:00:09s\n"
     ]
    },
    {
     "name": "stdout",
     "output_type": "stream",
     "text": [
      "epoch 96 | loss: 0.14772 | train_mse: 0.06767 | train_mae: 0.2095  |  0:00:09s\n",
      "epoch 97 | loss: 0.10319 | train_mse: 0.08725 | train_mae: 0.23163 |  0:00:09s\n",
      "epoch 98 | loss: 0.19399 | train_mse: 0.07965 | train_mae: 0.22129 |  0:00:09s\n"
     ]
    },
    {
     "name": "stdout",
     "output_type": "stream",
     "text": [
      "epoch 99 | loss: 0.18088 | train_mse: 0.08516 | train_mae: 0.22412 |  0:00:09s\n",
      "epoch 100| loss: 0.10342 | train_mse: 0.08547 | train_mae: 0.22354 |  0:00:09s\n"
     ]
    },
    {
     "name": "stdout",
     "output_type": "stream",
     "text": [
      "epoch 101| loss: 0.10401 | train_mse: 0.0783  | train_mae: 0.21282 |  0:00:09s\n",
      "epoch 102| loss: 0.23624 | train_mse: 0.0744  | train_mae: 0.21096 |  0:00:09s\n",
      "epoch 103| loss: 0.15256 | train_mse: 0.06975 | train_mae: 0.20869 |  0:00:10s\n"
     ]
    },
    {
     "name": "stdout",
     "output_type": "stream",
     "text": [
      "epoch 104| loss: 0.13339 | train_mse: 0.05225 | train_mae: 0.18293 |  0:00:10s\n",
      "epoch 105| loss: 0.10118 | train_mse: 0.06534 | train_mae: 0.2     |  0:00:10s\n",
      "epoch 106| loss: 0.08287 | train_mse: 0.05464 | train_mae: 0.18355 |  0:00:10s\n"
     ]
    },
    {
     "name": "stdout",
     "output_type": "stream",
     "text": [
      "epoch 107| loss: 0.12543 | train_mse: 0.0589  | train_mae: 0.19285 |  0:00:10s\n",
      "epoch 108| loss: 0.10021 | train_mse: 0.05743 | train_mae: 0.18761 |  0:00:10s\n",
      "epoch 109| loss: 0.10019 | train_mse: 0.05636 | train_mae: 0.18226 |  0:00:10s\n"
     ]
    },
    {
     "name": "stdout",
     "output_type": "stream",
     "text": [
      "epoch 110| loss: 0.16652 | train_mse: 0.06144 | train_mae: 0.19416 |  0:00:10s\n",
      "epoch 111| loss: 0.10562 | train_mse: 0.0618  | train_mae: 0.20333 |  0:00:10s\n",
      "epoch 112| loss: 0.09081 | train_mse: 0.06593 | train_mae: 0.20847 |  0:00:10s\n"
     ]
    },
    {
     "name": "stdout",
     "output_type": "stream",
     "text": [
      "epoch 113| loss: 0.18119 | train_mse: 0.06997 | train_mae: 0.21405 |  0:00:10s\n",
      "epoch 114| loss: 0.11354 | train_mse: 0.06297 | train_mae: 0.19132 |  0:00:10s\n",
      "epoch 115| loss: 0.14701 | train_mse: 0.06464 | train_mae: 0.19456 |  0:00:11s\n"
     ]
    },
    {
     "name": "stdout",
     "output_type": "stream",
     "text": [
      "epoch 116| loss: 0.20221 | train_mse: 0.07196 | train_mae: 0.2047  |  0:00:11s\n",
      "epoch 117| loss: 0.09392 | train_mse: 0.0735  | train_mae: 0.20425 |  0:00:11s\n"
     ]
    },
    {
     "name": "stdout",
     "output_type": "stream",
     "text": [
      "epoch 118| loss: 0.106   | train_mse: 0.0757  | train_mae: 0.2109  |  0:00:11s\n",
      "epoch 119| loss: 0.14441 | train_mse: 0.0636  | train_mae: 0.19697 |  0:00:11s\n",
      "epoch 120| loss: 0.09258 | train_mse: 0.08371 | train_mae: 0.21249 |  0:00:11s\n"
     ]
    },
    {
     "name": "stdout",
     "output_type": "stream",
     "text": [
      "epoch 121| loss: 0.27385 | train_mse: 0.07438 | train_mae: 0.1923  |  0:00:11s\n",
      "epoch 122| loss: 0.1133  | train_mse: 0.05116 | train_mae: 0.18455 |  0:00:11s\n",
      "epoch 123| loss: 0.11117 | train_mse: 0.05406 | train_mae: 0.18013 |  0:00:11s\n"
     ]
    },
    {
     "name": "stdout",
     "output_type": "stream",
     "text": [
      "epoch 124| loss: 0.08407 | train_mse: 0.05446 | train_mae: 0.17313 |  0:00:11s\n",
      "epoch 125| loss: 0.23831 | train_mse: 0.0638  | train_mae: 0.19613 |  0:00:11s\n",
      "epoch 126| loss: 0.07991 | train_mse: 0.063   | train_mae: 0.19215 |  0:00:12s\n"
     ]
    },
    {
     "name": "stdout",
     "output_type": "stream",
     "text": [
      "epoch 127| loss: 0.11861 | train_mse: 0.07746 | train_mae: 0.20955 |  0:00:12s\n",
      "epoch 128| loss: 0.14265 | train_mse: 0.06784 | train_mae: 0.19895 |  0:00:12s\n",
      "epoch 129| loss: 0.08654 | train_mse: 0.0482  | train_mae: 0.17388 |  0:00:12s\n"
     ]
    },
    {
     "name": "stdout",
     "output_type": "stream",
     "text": [
      "epoch 130| loss: 0.12446 | train_mse: 0.04856 | train_mae: 0.18125 |  0:00:12s\n",
      "epoch 131| loss: 0.21346 | train_mse: 0.06092 | train_mae: 0.19405 |  0:00:12s\n",
      "epoch 132| loss: 0.08739 | train_mse: 0.05536 | train_mae: 0.18557 |  0:00:12s\n"
     ]
    },
    {
     "name": "stdout",
     "output_type": "stream",
     "text": [
      "epoch 133| loss: 0.17709 | train_mse: 0.08342 | train_mae: 0.21133 |  0:00:12s\n",
      "epoch 134| loss: 0.14095 | train_mse: 0.09751 | train_mae: 0.22363 |  0:00:12s\n",
      "epoch 135| loss: 0.06812 | train_mse: 0.11114 | train_mae: 0.23429 |  0:00:12s\n"
     ]
    },
    {
     "name": "stdout",
     "output_type": "stream",
     "text": [
      "epoch 136| loss: 0.08409 | train_mse: 0.12045 | train_mae: 0.24007 |  0:00:12s\n",
      "epoch 137| loss: 0.16768 | train_mse: 0.13737 | train_mae: 0.25414 |  0:00:13s\n",
      "epoch 138| loss: 0.08122 | train_mse: 0.09806 | train_mae: 0.22571 |  0:00:13s\n"
     ]
    },
    {
     "name": "stdout",
     "output_type": "stream",
     "text": [
      "epoch 139| loss: 0.07694 | train_mse: 0.06112 | train_mae: 0.18291 |  0:00:13s\n",
      "epoch 140| loss: 0.13066 | train_mse: 0.05806 | train_mae: 0.18548 |  0:00:13s\n",
      "epoch 141| loss: 0.07892 | train_mse: 0.0721  | train_mae: 0.20203 |  0:00:13s\n"
     ]
    },
    {
     "name": "stdout",
     "output_type": "stream",
     "text": [
      "epoch 142| loss: 0.10221 | train_mse: 0.08388 | train_mae: 0.20659 |  0:00:13s\n",
      "epoch 143| loss: 0.18599 | train_mse: 0.08593 | train_mae: 0.2082  |  0:00:13s\n"
     ]
    },
    {
     "name": "stdout",
     "output_type": "stream",
     "text": [
      "epoch 144| loss: 0.15715 | train_mse: 0.07083 | train_mae: 0.19262 |  0:00:13s\n",
      "epoch 145| loss: 0.0814  | train_mse: 0.07203 | train_mae: 0.20059 |  0:00:13s\n"
     ]
    },
    {
     "name": "stdout",
     "output_type": "stream",
     "text": [
      "epoch 146| loss: 0.13173 | train_mse: 0.06738 | train_mae: 0.19803 |  0:00:13s\n",
      "epoch 147| loss: 0.1049  | train_mse: 0.05397 | train_mae: 0.17836 |  0:00:14s\n",
      "epoch 148| loss: 0.12842 | train_mse: 0.07225 | train_mae: 0.20026 |  0:00:14s\n"
     ]
    },
    {
     "name": "stdout",
     "output_type": "stream",
     "text": [
      "epoch 149| loss: 0.0863  | train_mse: 0.12503 | train_mae: 0.24523 |  0:00:14s\n",
      "epoch 150| loss: 0.14986 | train_mse: 0.13303 | train_mae: 0.24703 |  0:00:14s\n",
      "epoch 151| loss: 0.23425 | train_mse: 0.12476 | train_mae: 0.23353 |  0:00:14s\n"
     ]
    },
    {
     "name": "stdout",
     "output_type": "stream",
     "text": [
      "epoch 152| loss: 0.15043 | train_mse: 0.14763 | train_mae: 0.25429 |  0:00:14s\n",
      "epoch 153| loss: 0.10678 | train_mse: 0.13815 | train_mae: 0.25383 |  0:00:14s\n",
      "epoch 154| loss: 0.0948  | train_mse: 0.10138 | train_mae: 0.22115 |  0:00:14s\n"
     ]
    },
    {
     "name": "stdout",
     "output_type": "stream",
     "text": [
      "epoch 155| loss: 0.1074  | train_mse: 0.07669 | train_mae: 0.19818 |  0:00:14s\n",
      "epoch 156| loss: 0.12235 | train_mse: 0.07676 | train_mae: 0.19529 |  0:00:14s\n",
      "epoch 157| loss: 0.08268 | train_mse: 0.06308 | train_mae: 0.19093 |  0:00:14s\n"
     ]
    },
    {
     "name": "stdout",
     "output_type": "stream",
     "text": [
      "epoch 158| loss: 0.09622 | train_mse: 0.05148 | train_mae: 0.18044 |  0:00:14s\n",
      "epoch 159| loss: 0.08448 | train_mse: 0.06674 | train_mae: 0.19366 |  0:00:15s\n",
      "epoch 160| loss: 0.18582 | train_mse: 0.08123 | train_mae: 0.20475 |  0:00:15s\n"
     ]
    },
    {
     "name": "stdout",
     "output_type": "stream",
     "text": [
      "epoch 161| loss: 0.08479 | train_mse: 0.07694 | train_mae: 0.19741 |  0:00:15s\n",
      "epoch 162| loss: 0.12654 | train_mse: 0.06407 | train_mae: 0.19545 |  0:00:15s\n",
      "epoch 163| loss: 0.22311 | train_mse: 0.07769 | train_mae: 0.21092 |  0:00:15s\n"
     ]
    },
    {
     "name": "stdout",
     "output_type": "stream",
     "text": [
      "epoch 164| loss: 0.1407  | train_mse: 0.07622 | train_mae: 0.20402 |  0:00:15s\n",
      "epoch 165| loss: 0.12318 | train_mse: 0.06775 | train_mae: 0.1932  |  0:00:15s\n",
      "epoch 166| loss: 0.09654 | train_mse: 0.07349 | train_mae: 0.20928 |  0:00:15s\n"
     ]
    },
    {
     "name": "stdout",
     "output_type": "stream",
     "text": [
      "epoch 167| loss: 0.10009 | train_mse: 0.10703 | train_mae: 0.24351 |  0:00:15s\n",
      "epoch 168| loss: 0.07869 | train_mse: 0.13052 | train_mae: 0.25828 |  0:00:15s\n",
      "epoch 169| loss: 0.12712 | train_mse: 0.12971 | train_mae: 0.25537 |  0:00:15s\n"
     ]
    },
    {
     "name": "stdout",
     "output_type": "stream",
     "text": [
      "epoch 170| loss: 0.12089 | train_mse: 0.12266 | train_mae: 0.24918 |  0:00:15s\n",
      "epoch 171| loss: 0.10532 | train_mse: 0.07123 | train_mae: 0.20042 |  0:00:16s\n"
     ]
    },
    {
     "name": "stdout",
     "output_type": "stream",
     "text": [
      "epoch 172| loss: 0.11767 | train_mse: 0.05876 | train_mae: 0.19129 |  0:00:16s\n",
      "epoch 173| loss: 0.07253 | train_mse: 0.06721 | train_mae: 0.20795 |  0:00:16s\n",
      "epoch 174| loss: 0.19258 | train_mse: 0.07797 | train_mae: 0.2086  |  0:00:16s\n",
      "\n",
      "Early stopping occurred at epoch 174 with best_epoch = 124 and best_train_mae = 0.17313\n",
      "Best weights from best epoch are automatically used!\n"
     ]
    }
   ],
   "source": [
    "#Train the Model\n",
    "\n",
    "Y_train = np.reshape(Y_train, (-1, 1))\n",
    "Y_test = np.reshape(Y_test, (-1, 1))\n",
    "\n",
    "prior_model = TabNetRegressor(optimizer_fn=torch.optim.Adam, optimizer_params=dict(lr = 0.02),\n",
    "          #scheduler_params={\"step_size\":10, ], \"gamma\":0.9},\n",
    "          #scheduler_fn=torch.optim.lr_scheduler.StepLR\n",
    "          )  #TabNetRegressor()\n",
    "\n",
    "prior_model.fit(X_train,Y_train,eval_set=[(X_train, Y_train)],\n",
    "            eval_name=['train'], \n",
    "            eval_metric=[ 'mse', 'mae'], \n",
    "            max_epochs = n_epochs, \n",
    "            batch_size = batch_size,\n",
    "            patience=50\n",
    "            )"
   ]
  },
  {
   "cell_type": "code",
   "execution_count": 10,
   "id": "af65dcda",
   "metadata": {
    "execution": {
     "iopub.execute_input": "2022-06-22T13:25:32.200816Z",
     "iopub.status.busy": "2022-06-22T13:25:32.199907Z",
     "iopub.status.idle": "2022-06-22T13:25:32.224485Z",
     "shell.execute_reply": "2022-06-22T13:25:32.225106Z"
    },
    "id": "af65dcda",
    "papermill": {
     "duration": 0.078302,
     "end_time": "2022-06-22T13:25:32.225331",
     "exception": false,
     "start_time": "2022-06-22T13:25:32.147029",
     "status": "completed"
    },
    "tags": []
   },
   "outputs": [
    {
     "data": {
      "application/scrapbook.scrap.json+json": {
       "data": 0.19787106383271416,
       "encoder": "json",
       "name": "Prior Model MSE",
       "version": 1
      }
     },
     "metadata": {
      "scrapbook": {
       "data": true,
       "display": false,
       "name": "Prior Model MSE"
      }
     },
     "output_type": "display_data"
    },
    {
     "data": {
      "application/scrapbook.scrap.json+json": {
       "data": 0.1861468665314133,
       "encoder": "json",
       "name": "ABC Pre-generator MSE",
       "version": 1
      }
     },
     "metadata": {
      "scrapbook": {
       "data": true,
       "display": false,
       "name": "ABC Pre-generator MSE"
      }
     },
     "output_type": "display_data"
    },
    {
     "data": {
      "application/scrapbook.scrap.json+json": {
       "data": 0.35299362895548503,
       "encoder": "json",
       "name": "Prior Model MSE",
       "version": 1
      }
     },
     "metadata": {
      "scrapbook": {
       "data": true,
       "display": false,
       "name": "Prior Model MSE"
      }
     },
     "output_type": "display_data"
    },
    {
     "data": {
      "application/scrapbook.scrap.json+json": {
       "data": 0.34413681329850543,
       "encoder": "json",
       "name": "ABC Pre-generator MSE",
       "version": 1
      }
     },
     "metadata": {
      "scrapbook": {
       "data": true,
       "display": false,
       "name": "ABC Pre-generator MSE"
      }
     },
     "output_type": "display_data"
    }
   ],
   "source": [
    "y_pred = prior_model.predict(X_test)\n",
    "y_abc = y_pred + np.random.normal(0,variance, y_pred.shape) + bias \n",
    "mse = mean_squared_error(y_pred,Y_test)\n",
    "sb.glue(\"Prior Model MSE\",mse)\n",
    "mse = mean_squared_error(y_abc,Y_test)\n",
    "sb.glue(\"ABC Pre-generator MSE\",mse)\n",
    "mae = mean_absolute_error(y_pred,Y_test)\n",
    "sb.glue(\"Prior Model MSE\",mae)\n",
    "mae = mean_absolute_error(y_abc,Y_test)\n",
    "sb.glue(\"ABC Pre-generator MSE\",mae)"
   ]
  },
  {
   "cell_type": "markdown",
   "id": "25609da2",
   "metadata": {
    "papermill": {
     "duration": 0.043677,
     "end_time": "2022-06-22T13:25:32.310963",
     "exception": false,
     "start_time": "2022-06-22T13:25:32.267286",
     "status": "completed"
    },
    "tags": []
   },
   "source": [
    "# ABC GAN Model"
   ]
  },
  {
   "cell_type": "code",
   "execution_count": 11,
   "id": "dfc3464d",
   "metadata": {
    "execution": {
     "iopub.execute_input": "2022-06-22T13:25:32.421586Z",
     "iopub.status.busy": "2022-06-22T13:25:32.412940Z",
     "iopub.status.idle": "2022-06-22T13:25:32.423589Z",
     "shell.execute_reply": "2022-06-22T13:25:32.422677Z"
    },
    "papermill": {
     "duration": 0.06832,
     "end_time": "2022-06-22T13:25:32.423889",
     "exception": false,
     "start_time": "2022-06-22T13:25:32.355569",
     "status": "completed"
    },
    "tags": []
   },
   "outputs": [],
   "source": [
    "gen = network.Generator(n_features+1).to(device)\n",
    "disc = network.Discriminator(n_features+1).to(device)\n",
    "\n",
    "criterion = torch.nn.BCELoss()\n",
    "gen_opt = torch.optim.Adam(gen.parameters(), lr=0.001, betas=(0.5, 0.999))\n",
    "disc_opt = torch.optim.Adam(disc.parameters(), lr=0.001, betas=(0.5, 0.999))"
   ]
  },
  {
   "cell_type": "code",
   "execution_count": 12,
   "id": "b75fdd85",
   "metadata": {
    "execution": {
     "iopub.execute_input": "2022-06-22T13:25:32.512748Z",
     "iopub.status.busy": "2022-06-22T13:25:32.511982Z",
     "iopub.status.idle": "2022-06-22T13:26:26.799141Z",
     "shell.execute_reply": "2022-06-22T13:26:26.803137Z"
    },
    "papermill": {
     "duration": 54.339293,
     "end_time": "2022-06-22T13:26:26.803427",
     "exception": false,
     "start_time": "2022-06-22T13:25:32.464134",
     "status": "completed"
    },
    "tags": []
   },
   "outputs": [
    {
     "data": {
      "image/png": "[encoded data removed]",
      "text/plain": [
       "<Figure size 432x288 with 1 Axes>"
      ]
     },
     "metadata": {
      "needs_background": "light"
     },
     "output_type": "display_data"
    },
    {
     "data": {
      "image/png": "[encoded data removed]",
      "text/plain": [
       "<Figure size 432x288 with 1 Axes>"
      ]
     },
     "metadata": {
      "needs_background": "light"
     },
     "output_type": "display_data"
    }
   ],
   "source": [
    "#Training the ABC_GAN \n",
    "ABC_train_test2.training_GAN(disc,gen,disc_opt,gen_opt,train_data,batch_size,n_epochs,criterion,prior_model,variance,bias,device)"
   ]
  },
  {
   "cell_type": "code",
   "execution_count": 13,
   "id": "1fa7c368",
   "metadata": {
    "execution": {
     "iopub.execute_input": "2022-06-22T13:26:26.901361Z",
     "iopub.status.busy": "2022-06-22T13:26:26.900555Z",
     "iopub.status.idle": "2022-06-22T13:26:27.764207Z",
     "shell.execute_reply": "2022-06-22T13:26:27.764912Z"
    },
    "papermill": {
     "duration": 0.923368,
     "end_time": "2022-06-22T13:26:27.767188",
     "exception": false,
     "start_time": "2022-06-22T13:26:26.843820",
     "status": "completed"
    },
    "tags": []
   },
   "outputs": [
    {
     "data": {
      "application/scrapbook.scrap.json+json": {
       "data": 0.424060113403297,
       "encoder": "json",
       "name": "ABC-GAN Model 1 MSE",
       "version": 1
      }
     },
     "metadata": {
      "scrapbook": {
       "data": true,
       "display": false,
       "name": "ABC-GAN Model 1 MSE"
      }
     },
     "output_type": "display_data"
    },
    {
     "data": {
      "application/scrapbook.scrap.json+json": {
       "data": 0.5055142486467957,
       "encoder": "json",
       "name": "ABC-GAN Model 1 MAE",
       "version": 1
      }
     },
     "metadata": {
      "scrapbook": {
       "data": true,
       "display": false,
       "name": "ABC-GAN Model 1 MAE"
      }
     },
     "output_type": "display_data"
    },
    {
     "data": {
      "application/scrapbook.scrap.json+json": {
       "data": 10.110284972935915,
       "encoder": "json",
       "name": "ABC-GAN Model 1 Manhattan Distance",
       "version": 1
      }
     },
     "metadata": {
      "scrapbook": {
       "data": true,
       "display": false,
       "name": "ABC-GAN Model 1 Manhattan Distance"
      }
     },
     "output_type": "display_data"
    },
    {
     "data": {
      "application/scrapbook.scrap.json+json": {
       "data": 2.9112696815917047,
       "encoder": "json",
       "name": "ABC-GAN Model 1 Euclidean distance",
       "version": 1
      }
     },
     "metadata": {
      "scrapbook": {
       "data": true,
       "display": false,
       "name": "ABC-GAN Model 1 Euclidean distance"
      }
     },
     "output_type": "display_data"
    },
    {
     "data": {
      "application/scrapbook.scrap.json+json": {
       "data": [
        [
         0.4184278781773786,
         0.4147242019291514,
         0.41163484089548524,
         0.4399604908823556,
         0.4481568875507902,
         0.39278792060060985,
         0.4413198441853031,
         0.44378865341059387,
         0.4790656531850396,
         0.4394282827982618,
         0.41075200997153927,
         0.4227945127771632,
         0.4095380535769181,
         0.39285902278667895,
         0.4260164519944986,
         0.42643612956220134,
         0.41967904994377053,
         0.43106416406965165,
         0.38333306028846825,
         0.41224479728893143,
         0.4031721974282183,
         0.4600109229244568,
         0.42284388036048737,
         0.4550468411560189,
         0.4428580737267914,
         0.45238177338387187,
         0.44915206648858697,
         0.4015793255401018,
         0.412289597399006,
         0.43051632726714467,
         0.47735182783414576,
         0.42666628094624726,
         0.4157583629251803,
         0.40951964226246407,
         0.44112000103612703,
         0.4142008631340712,
         0.40379821706412555,
         0.3898105978987791,
         0.4017474403830893,
         0.4168333120815671,
         0.381365990796441,
         0.3835368025871158,
         0.4296200457641227,
         0.43746362933265975,
         0.4109605337222063,
         0.43007478943734834,
         0.40697605716728286,
         0.4285062343505327,
         0.4317392033657589,
         0.4094959744277308,
         0.4176794149293855,
         0.4332473433896224,
         0.42548368238990975,
         0.42614876959139103,
         0.4249553125550037,
         0.45398789712200804,
         0.41087720792589566,
         0.4703940319304521,
         0.3914448714587851,
         0.3875097611576347,
         0.4279726851896125,
         0.40773293764959,
         0.4493677123141905,
         0.42450288725888996,
         0.44765349568779944,
         0.45964725533732925,
         0.4404662670710988,
         0.4002926704656124,
         0.44176788971288605,
         0.435869749695229,
         0.4241283086394091,
         0.37323112311429035,
         0.4033804911218123,
         0.40758757509345733,
         0.4076535396301139,
         0.4236780835817796,
         0.43261459411103703,
         0.39449473707701477,
         0.4308253144529127,
         0.4277057868124371,
         0.4147751732655376,
         0.43108351992313787,
         0.4213269265638548,
         0.4347679547841885,
         0.4638452502660195,
         0.42075005048811853,
         0.4359163969748495,
         0.42677439857617516,
         0.42808818715226504,
         0.3856662996090666,
         0.48523725462892375,
         0.4062880525621798,
         0.4022691389051743,
         0.4149959951820204,
         0.4341771983635489,
         0.43845948573747007,
         0.43151335452339196,
         0.45216074808174067,
         0.40320586533372216,
         0.43199997487525615
        ],
        [
         0.5106344312429428,
         0.5040588185191155,
         0.4928209990262985,
         0.5090350911021233,
         0.5139121100306511,
         0.5002699345350266,
         0.5246675074100494,
         0.5248814523220062,
         0.5259477406740188,
         0.5201123356819153,
         0.4813575252890587,
         0.48161918520927427,
         0.4998050883412361,
         0.4933402508497238,
         0.5201633095741272,
         0.5166119113564491,
         0.4944928765296936,
         0.5013929322361946,
         0.48128504008054734,
         0.5085114568471909,
         0.4869987592101097,
         0.5260068580508233,
         0.5152712091803551,
         0.5226890355348587,
         0.53068957477808,
         0.5212765440344811,
         0.5139167487621308,
         0.4995687171816826,
         0.49011131525039675,
         0.5005399227142334,
         0.5289032623171807,
         0.5046878159046173,
         0.4986278906464577,
         0.49451659619808197,
         0.49284498691558837,
         0.5095766201615334,
         0.5016272127628326,
         0.49622018337249757,
         0.49650491029024124,
         0.4927753031253815,
         0.4789676800370216,
         0.4794680282473564,
         0.5125002101063728,
         0.5139716133475304,
         0.4914798751473427,
         0.502218882739544,
         0.4983420819044113,
         0.4952453777194023,
         0.5012720733880996,
         0.49179456681013106,
         0.5031502231955528,
         0.5111076340079308,
         0.5135770201683044,
         0.5083087481558323,
         0.5011085137724877,
         0.5342365488409996,
         0.49723082929849627,
         0.5131406858563423,
         0.4987503781914711,
         0.4952088356018066,
         0.5140555500984192,
         0.48731725960969924,
         0.5136989086866379,
         0.48609293550252913,
         0.5022739291191101,
         0.5149679780006409,
         0.5216578468680382,
         0.48499534875154493,
         0.5253066539764404,
         0.522057069838047,
         0.4894242972135544,
         0.49448545277118683,
         0.49136189222335813,
         0.5111279845237732,
         0.4933138206601143,
         0.4990699842572212,
         0.5140781745314598,
         0.4999109223484993,
         0.5053904473781585,
         0.514386560022831,
         0.48961102664470674,
         0.519010990858078,
         0.505870246887207,
         0.5226817101240158,
         0.5147739946842194,
         0.5118475928902626,
         0.5098809957504272,
         0.5095217958092689,
         0.5048483595252037,
         0.48076449781656266,
         0.5434795960783958,
         0.5028692156076431,
         0.5036262884736061,
         0.5050954595208168,
         0.5227395042777061,
         0.5080057650804519,
         0.5118031039834022,
         0.5212517082691193,
         0.5078126177191734,
         0.5016041085124016
        ],
        [
         10.212688624858856,
         10.081176370382309,
         9.85641998052597,
         10.180701822042465,
         10.278242200613022,
         10.005398690700531,
         10.493350148200989,
         10.497629046440125,
         10.518954813480377,
         10.402246713638306,
         9.627150505781174,
         9.632383704185486,
         9.996101766824722,
         9.866805016994476,
         10.403266191482544,
         10.332238227128983,
         9.889857530593872,
         10.027858644723892,
         9.625700801610947,
         10.170229136943817,
         9.739975184202194,
         10.520137161016464,
         10.305424183607101,
         10.453780710697174,
         10.6137914955616,
         10.425530880689621,
         10.278334975242615,
         9.991374343633652,
         9.802226305007935,
         10.010798454284668,
         10.578065246343613,
         10.093756318092346,
         9.972557812929153,
         9.89033192396164,
         9.856899738311768,
         10.191532403230667,
         10.032544255256653,
         9.924403667449951,
         9.930098205804825,
         9.85550606250763,
         9.579353600740433,
         9.589360564947128,
         10.250004202127457,
         10.279432266950607,
         9.829597502946854,
         10.044377654790878,
         9.966841638088226,
         9.904907554388046,
         10.025441467761993,
         9.835891336202621,
         10.063004463911057,
         10.222152680158615,
         10.271540403366089,
         10.166174963116646,
         10.022170275449753,
         10.684730976819992,
         9.944616585969925,
         10.262813717126846,
         9.975007563829422,
         9.904176712036133,
         10.281111001968384,
         9.746345192193985,
         10.273978173732758,
         9.721858710050583,
         10.045478582382202,
         10.299359560012817,
         10.433156937360764,
         9.699906975030899,
         10.506133079528809,
         10.44114139676094,
         9.788485944271088,
         9.889709055423737,
         9.827237844467163,
         10.222559690475464,
         9.866276413202286,
         9.981399685144424,
         10.281563490629196,
         9.998218446969986,
         10.107808947563171,
         10.28773120045662,
         9.792220532894135,
         10.38021981716156,
         10.11740493774414,
         10.453634202480316,
         10.295479893684387,
         10.236951857805252,
         10.197619915008545,
         10.190435916185379,
         10.096967190504074,
         9.615289956331253,
         10.869591921567917,
         10.057384312152863,
         10.072525769472122,
         10.101909190416336,
         10.454790085554123,
         10.16011530160904,
         10.236062079668045,
         10.425034165382385,
         10.156252354383469,
         10.032082170248032
        ],
        [
         2.892845928069377,
         2.8800145899948193,
         2.8692676448720684,
         2.9663462066399315,
         2.9938499880614935,
         2.802812589527205,
         2.9709252571725973,
         2.9792235680143038,
         3.0953696166533637,
         2.9645515100880333,
         2.86618914229867,
         2.9079013490046846,
         2.8619505711207456,
         2.8030662596045746,
         2.918960266925532,
         2.92039767690019,
         2.89716775470034,
         2.93620218673596,
         2.7688736348503453,
         2.87139268400869,
         2.8396203881090107,
         3.0331861892223393,
         2.9080711145379077,
         3.0167758987237314,
         2.9760983643918473,
         3.0079287670550707,
         2.9971722222407804,
         2.8340053829874843,
         2.8715487020038717,
         2.93433579287424,
         3.089827917001676,
         2.9211856529369964,
         2.8836031728557248,
         2.8618862390474717,
         2.970252518006262,
         2.878196876984169,
         2.8418241221586023,
         2.792169758086994,
         2.8345985267162233,
         2.887328564890276,
         2.7617602748842667,
         2.7696093680774396,
         2.9312797401958166,
         2.957916933697293,
         2.8669165796102485,
         2.9328306784993514,
         2.852984602717943,
         2.92747752971917,
         2.9385003092249593,
         2.8618035377283704,
         2.8902574796352845,
         2.94362818096859,
         2.917134492579695,
         2.9194135355971444,
         2.915322666721485,
         3.013263669584884,
         2.866625918831739,
         3.0672268645486667,
         2.798016695657069,
         2.7839172443075055,
         2.925654406076058,
         2.855636313151904,
         2.997891633512427,
         2.913770365896702,
         2.9921680958388666,
         3.0319869898709304,
         2.9680507646302106,
         2.8294616818950296,
         2.9724329755703023,
         2.9525234959106728,
         2.9124845360599227,
         2.73214612754988,
         2.8403538199379748,
         2.855127230417087,
         2.855358259939071,
         2.910938280286202,
         2.941477839831662,
         2.808895644473161,
         2.9353886095469974,
         2.9247419948174476,
         2.880191567467475,
         2.936268107387804,
         2.902850070409613,
         2.9487894288476704,
         3.0458012090943147,
         2.900862114917283,
         2.952681482906172,
         2.9215557450652043,
         2.9260491696219497,
         2.7772875242187895,
         3.115243986043224,
         2.8505720568411523,
         2.8364383966699305,
         2.8809581572179086,
         2.9467853615882813,
         2.961281768888162,
         2.9377316232882533,
         3.0071938683155786,
         2.8397389504449952,
         2.9393876058636983
        ]
       ],
       "encoder": "json",
       "name": "ABC_GAN_1 Metrics",
       "version": 1
      }
     },
     "metadata": {
      "scrapbook": {
       "data": true,
       "display": false,
       "name": "ABC_GAN_1 Metrics"
      }
     },
     "output_type": "display_data"
    },
    {
     "name": "stdout",
     "output_type": "stream",
     "text": [
      "MSE\n",
      "0.424060113403297\n"
     ]
    }
   ],
   "source": [
    "ABC_GAN1_metrics=ABC_train_test2.test_generator(gen,test_data,prior_model,variance,bias,\"1\",device)\n",
    "sb.glue(\"ABC_GAN_1 Metrics\",ABC_GAN1_metrics)\n",
    "\n",
    "print(\"MSE\")\n",
    "print(mean(ABC_GAN1_metrics[0]))"
   ]
  },
  {
   "cell_type": "code",
   "execution_count": 14,
   "id": "eb22ce5c",
   "metadata": {
    "execution": {
     "iopub.execute_input": "2022-06-22T13:26:27.941629Z",
     "iopub.status.busy": "2022-06-22T13:26:27.940841Z",
     "iopub.status.idle": "2022-06-22T13:26:28.822343Z",
     "shell.execute_reply": "2022-06-22T13:26:28.822908Z"
    },
    "papermill": {
     "duration": 1.006644,
     "end_time": "2022-06-22T13:26:28.823120",
     "exception": false,
     "start_time": "2022-06-22T13:26:27.816476",
     "status": "completed"
    },
    "tags": []
   },
   "outputs": [
    {
     "data": {
      "image/png": "[encoded data removed]",
      "text/plain": [
       "<Figure size 432x288 with 1 Axes>"
      ]
     },
     "metadata": {
      "needs_background": "light"
     },
     "output_type": "display_data"
    },
    {
     "data": {
      "image/png": "[encoded data removed]",
      "text/plain": [
       "<Figure size 432x288 with 1 Axes>"
      ]
     },
     "metadata": {
      "needs_background": "light"
     },
     "output_type": "display_data"
    },
    {
     "data": {
      "image/png": "[encoded data removed]",
      "text/plain": [
       "<Figure size 432x288 with 1 Axes>"
      ]
     },
     "metadata": {
      "needs_background": "light"
     },
     "output_type": "display_data"
    },
    {
     "data": {
      "image/png": "[encoded data removed]",
      "text/plain": [
       "<Figure size 432x288 with 1 Axes>"
      ]
     },
     "metadata": {
      "needs_background": "light"
     },
     "output_type": "display_data"
    }
   ],
   "source": [
    "sanityChecks.discProbVsError(train_data,disc,device)\n",
    "sanityChecks.discProbVsError(test_data,disc,device)"
   ]
  },
  {
   "cell_type": "markdown",
   "id": "130f3a4d",
   "metadata": {
    "id": "130f3a4d",
    "papermill": {
     "duration": 0.067902,
     "end_time": "2022-06-22T13:26:28.943748",
     "exception": false,
     "start_time": "2022-06-22T13:26:28.875846",
     "status": "completed"
    },
    "tags": []
   },
   "source": [
    "# ABC - GAN Model with skip connection"
   ]
  },
  {
   "cell_type": "code",
   "execution_count": 15,
   "id": "4e43dad1",
   "metadata": {
    "execution": {
     "iopub.execute_input": "2022-06-22T13:26:29.068611Z",
     "iopub.status.busy": "2022-06-22T13:26:29.067796Z",
     "iopub.status.idle": "2022-06-22T13:26:29.070951Z",
     "shell.execute_reply": "2022-06-22T13:26:29.071611Z"
    },
    "id": "4e43dad1",
    "papermill": {
     "duration": 0.072605,
     "end_time": "2022-06-22T13:26:29.072582",
     "exception": false,
     "start_time": "2022-06-22T13:26:28.999977",
     "status": "completed"
    },
    "tags": []
   },
   "outputs": [],
   "source": [
    "#Generator\n",
    "gen3 = network.GeneratorWithSkipConnection(n_features+1).to(device)\n",
    "constraints=network.weightConstraint()\n",
    "#Discriminator \n",
    "disc3 = network.Discriminator(n_features+1).to(device)\n",
    "\n",
    "criterion = torch.nn.BCELoss()\n",
    "gen_opt = torch.optim.Adam(gen3.parameters(), lr=0.001, betas=(0.5, 0.999))\n",
    "disc_opt = torch.optim.Adam(disc3.parameters(), lr=0.001, betas=(0.5, 0.999))\n"
   ]
  },
  {
   "cell_type": "code",
   "execution_count": 16,
   "id": "26acbc37",
   "metadata": {
    "execution": {
     "iopub.execute_input": "2022-06-22T13:26:29.205213Z",
     "iopub.status.busy": "2022-06-22T13:26:29.204426Z",
     "iopub.status.idle": "2022-06-22T13:27:55.477636Z",
     "shell.execute_reply": "2022-06-22T13:27:55.478273Z"
    },
    "id": "26acbc37",
    "papermill": {
     "duration": 86.351374,
     "end_time": "2022-06-22T13:27:55.478494",
     "exception": false,
     "start_time": "2022-06-22T13:26:29.127120",
     "status": "completed"
    },
    "tags": []
   },
   "outputs": [
    {
     "data": {
      "image/png": "[encoded data removed]",
      "text/plain": [
       "<Figure size 432x288 with 1 Axes>"
      ]
     },
     "metadata": {
      "needs_background": "light"
     },
     "output_type": "display_data"
    },
    {
     "data": {
      "image/png": "[encoded data removed]",
      "text/plain": [
       "<Figure size 432x288 with 1 Axes>"
      ]
     },
     "metadata": {
      "needs_background": "light"
     },
     "output_type": "display_data"
    }
   ],
   "source": [
    "ABC_train_test2.training_GAN_skip_connection(disc3,gen3,disc_opt,gen_opt,train_data,batch_size,n_epochs,criterion,prior_model,variance,bias,device)"
   ]
  },
  {
   "cell_type": "code",
   "execution_count": 17,
   "id": "c5e0717b",
   "metadata": {
    "execution": {
     "iopub.execute_input": "2022-06-22T13:27:55.617175Z",
     "iopub.status.busy": "2022-06-22T13:27:55.616074Z",
     "iopub.status.idle": "2022-06-22T13:27:56.642114Z",
     "shell.execute_reply": "2022-06-22T13:27:56.642735Z"
    },
    "id": "c5e0717b",
    "papermill": {
     "duration": 1.109086,
     "end_time": "2022-06-22T13:27:56.643108",
     "exception": false,
     "start_time": "2022-06-22T13:27:55.534022",
     "status": "completed"
    },
    "tags": []
   },
   "outputs": [
    {
     "data": {
      "application/scrapbook.scrap.json+json": {
       "data": 0.4913080386435632,
       "encoder": "json",
       "name": "ABC-GAN Model 3 MSE",
       "version": 1
      }
     },
     "metadata": {
      "scrapbook": {
       "data": true,
       "display": false,
       "name": "ABC-GAN Model 3 MSE"
      }
     },
     "output_type": "display_data"
    },
    {
     "data": {
      "application/scrapbook.scrap.json+json": {
       "data": 0.5463225305071101,
       "encoder": "json",
       "name": "ABC-GAN Model 3 MAE",
       "version": 1
      }
     },
     "metadata": {
      "scrapbook": {
       "data": true,
       "display": false,
       "name": "ABC-GAN Model 3 MAE"
      }
     },
     "output_type": "display_data"
    },
    {
     "data": {
      "application/scrapbook.scrap.json+json": {
       "data": 10.9264506101422,
       "encoder": "json",
       "name": "ABC-GAN Model 3 Manhattan Distance",
       "version": 1
      }
     },
     "metadata": {
      "scrapbook": {
       "data": true,
       "display": false,
       "name": "ABC-GAN Model 3 Manhattan Distance"
      }
     },
     "output_type": "display_data"
    },
    {
     "data": {
      "application/scrapbook.scrap.json+json": {
       "data": 3.1339474696721545,
       "encoder": "json",
       "name": "ABC-GAN Model 3 Euclidean distance",
       "version": 1
      }
     },
     "metadata": {
      "scrapbook": {
       "data": true,
       "display": false,
       "name": "ABC-GAN Model 3 Euclidean distance"
      }
     },
     "output_type": "display_data"
    },
    {
     "data": {
      "application/scrapbook.scrap.json+json": {
       "data": [
        [
         0.5066867601448904,
         0.48347313504308875,
         0.43855501785090245,
         0.5248588554678207,
         0.523361331472899,
         0.49819977757334255,
         0.49266285225231954,
         0.5081772185325301,
         0.47132174010198147,
         0.4703426616864469,
         0.48658620028323724,
         0.5048946737548367,
         0.46815385816230926,
         0.518255915714399,
         0.5049534979753874,
         0.5117491912850904,
         0.49072354753185915,
         0.5050024471897936,
         0.48993214635088406,
         0.5381781892093956,
         0.4802651581300662,
         0.5114283462682957,
         0.47639777432432656,
         0.5267289939208825,
         0.4854147939612757,
         0.4840170787050716,
         0.475328786264159,
         0.46671729928312083,
         0.49932706939967364,
         0.48435400807671797,
         0.4689654461798531,
         0.48209954111430936,
         0.481515423176469,
         0.4657296291433159,
         0.47789709817898746,
         0.4863350570012576,
         0.486494621443809,
         0.4403928235388127,
         0.4924811114848492,
         0.4742928754187286,
         0.5411403665405772,
         0.48144232764802347,
         0.48954219770275886,
         0.43735858713794434,
         0.526196074006611,
         0.48032479351248797,
         0.4747693278779268,
         0.47453225801154275,
         0.4676921377892622,
         0.5049693969067335,
         0.47540516394296956,
         0.4835495797729063,
         0.5136278454115166,
         0.47448167806067076,
         0.5214361106925709,
         0.48013709341802685,
         0.46990075766155304,
         0.5061211704651594,
         0.4930778658121941,
         0.5028795712730602,
         0.4494322506954984,
         0.5231287226644866,
         0.49656349640179387,
         0.4620623629859762,
         0.4986875141536754,
         0.47925551610960715,
         0.4928762424482554,
         0.4817671217007504,
         0.5036515522489331,
         0.46661258282138024,
         0.49938214889765903,
         0.4986931693081516,
         0.48045169818818845,
         0.4983995815642589,
         0.4841087533050582,
         0.5223048618979139,
         0.5002198691880664,
         0.4934055438084731,
         0.49749033586405755,
         0.48036462870986857,
         0.49265537982545854,
         0.49146819008639253,
         0.5111391888108677,
         0.49025881166972524,
         0.4619338197416831,
         0.5098074815312076,
         0.5247129854606751,
         0.46602434797866543,
         0.46806653272936494,
         0.49547840697651413,
         0.5019384730059324,
         0.4740288294803639,
         0.4808149844598823,
         0.5175336306403769,
         0.5133600647007445,
         0.4838305956100932,
         0.49972358761865915,
         0.5407543481088941,
         0.5092651799152301,
         0.5083148168016434
        ],
        [
         0.560659134015441,
         0.5301302291452885,
         0.5390627775341272,
         0.5630154259502888,
         0.5663648746907711,
         0.5509107928723097,
         0.5451713088899851,
         0.5582447644323111,
         0.5340237379074096,
         0.5266950659453868,
         0.5305225744843483,
         0.5346259359270334,
         0.5369683369994164,
         0.5609717532992363,
         0.5635478671640157,
         0.5695361744612455,
         0.5435381092131137,
         0.5610140562057495,
         0.5476773925125599,
         0.5714642181992531,
         0.5325615998357535,
         0.548881870880723,
         0.5662267094478011,
         0.5512879975140095,
         0.5325669903308153,
         0.5567186271771789,
         0.5429879233241082,
         0.5386028099805117,
         0.5256718721240758,
         0.5565407790243626,
         0.5400163907557726,
         0.5548928622156382,
         0.5428046561777592,
         0.5295604169368744,
         0.5229027524590493,
         0.560272216796875,
         0.5508490245789289,
         0.5167400807142257,
         0.5585324507206678,
         0.5425174284726382,
         0.569126296415925,
         0.5380996786057949,
         0.5290539905428886,
         0.5300294518470764,
         0.5779283445328474,
         0.5398325517773628,
         0.5246694203466177,
         0.5486223012208938,
         0.5327633857727051,
         0.5574763596057892,
         0.5398881189525128,
         0.5379541387781501,
         0.5546188376843929,
         0.5273167246952652,
         0.5647184651345014,
         0.5287802759557962,
         0.523812048882246,
         0.5563938312232495,
         0.549938877299428,
         0.5566046342253685,
         0.5298948206007481,
         0.574391009658575,
         0.5440078068524599,
         0.543429571762681,
         0.5485584296286106,
         0.5438940435647964,
         0.5576355725526809,
         0.5478406796231866,
         0.5230404980480671,
         0.5511074341833592,
         0.5552702661603689,
         0.5608390972018242,
         0.5497192863374949,
         0.5629608124494553,
         0.5339133577421308,
         0.5457542035728693,
         0.5393132276833057,
         0.532607750594616,
         0.5483769059181214,
         0.5518318939954042,
         0.5571775082498789,
         0.5292425444349647,
         0.5660826094448567,
         0.5404906265437603,
         0.5252745158970356,
         0.5475141565315426,
         0.5645716805011034,
         0.5388097636401653,
         0.529656195640564,
         0.5459826881065964,
         0.5469148397445679,
         0.5370867162942886,
         0.53859161734581,
         0.5569418650120497,
         0.5530992060899734,
         0.5391121678054333,
         0.5521647363901139,
         0.5903904747217894,
         0.5398346874862909,
         0.5360200598835945
        ],
        [
         11.213182680308819,
         10.60260458290577,
         10.781255550682545,
         11.260308519005775,
         11.327297493815422,
         11.018215857446194,
         10.903426177799702,
         11.164895288646221,
         10.680474758148193,
         10.533901318907738,
         10.610451489686966,
         10.692518718540668,
         10.739366739988327,
         11.219435065984726,
         11.270957343280315,
         11.39072348922491,
         10.870762184262276,
         11.22028112411499,
         10.953547850251198,
         11.429284363985062,
         10.651231996715069,
         10.97763741761446,
         11.324534188956022,
         11.02575995028019,
         10.651339806616306,
         11.134372543543577,
         10.859758466482162,
         10.772056199610233,
         10.513437442481518,
         11.130815580487251,
         10.800327815115452,
         11.097857244312763,
         10.856093123555183,
         10.591208338737488,
         10.458055049180984,
         11.2054443359375,
         11.016980491578579,
         10.334801614284515,
         11.170649014413357,
         10.850348569452763,
         11.3825259283185,
         10.761993572115898,
         10.581079810857773,
         10.600589036941528,
         11.558566890656948,
         10.796651035547256,
         10.493388406932354,
         10.972446024417877,
         10.655267715454102,
         11.149527192115784,
         10.797762379050255,
         10.759082775563002,
         11.092376753687859,
         10.546334493905306,
         11.29436930269003,
         10.575605519115925,
         10.47624097764492,
         11.127876624464989,
         10.99877754598856,
         11.13209268450737,
         10.597896412014961,
         11.487820193171501,
         10.880156137049198,
         10.86859143525362,
         10.971168592572212,
         10.877880871295929,
         11.15271145105362,
         10.956813592463732,
         10.460809960961342,
         11.022148683667183,
         11.105405323207378,
         11.216781944036484,
         10.994385726749897,
         11.259216248989105,
         10.678267154842615,
         10.915084071457386,
         10.786264553666115,
         10.652155011892319,
         10.967538118362427,
         11.036637879908085,
         11.143550164997578,
         10.584850888699293,
         11.321652188897133,
         10.809812530875206,
         10.505490317940712,
         10.95028313063085,
         11.291433610022068,
         10.776195272803307,
         10.59312391281128,
         10.91965376213193,
         10.938296794891357,
         10.741734325885773,
         10.771832346916199,
         11.138837300240993,
         11.061984121799469,
         10.782243356108665,
         11.043294727802277,
         11.807809494435787,
         10.796693749725819,
         10.72040119767189
        ],
        [
         3.183352824130214,
         3.1095759680158603,
         2.9616043552470086,
         3.239934738440948,
         3.235309356067512,
         3.156579723603833,
         3.1389898128293425,
         3.188031425605871,
         3.070249957583198,
         3.0670593789049696,
         3.1195711252774387,
         3.1777182812667224,
         3.0599145679652864,
         3.219490381145435,
         3.1779033905246,
         3.1992161267569608,
         3.132805603710065,
         3.178057416692762,
         3.1302784104641046,
         3.2807870677914943,
         3.099242352995539,
         3.198213083170962,
         3.0867386488795145,
         3.2457017543849664,
         3.1158138389874184,
         3.111324729773707,
         3.0832735404571516,
         3.0552161929497585,
         3.1601489502859628,
         3.1124074542923132,
         3.0625657419224592,
         3.10515552304328,
         3.1032738299301563,
         3.0519817468108026,
         3.0915921405611946,
         3.1187659642918306,
         3.1192775491892637,
         2.9678033072924923,
         3.138410780904403,
         3.0799119319186015,
         3.289803539850297,
         3.103038277714355,
         3.129032430968905,
         2.957561790184423,
         3.2440594137796275,
         3.0994347662517048,
         3.0814585114128237,
         3.0806890723068525,
         3.0584052634968515,
         3.177953419755341,
         3.0835212467014705,
         3.1098217948072406,
         3.2050829799289646,
         3.080524884043857,
         3.2293532191216583,
         3.098829112481122,
         3.0656182334451008,
         3.181575617410843,
         3.140311659094346,
         3.1713705910002385,
         2.998106905016892,
         3.234590306868821,
         3.1513917446163173,
         3.039941982952886,
         3.158124488216623,
         3.095982933123525,
         3.1396695445484557,
         3.104084798135355,
         3.1738038762624674,
         3.0548734272351785,
         3.1603232394730103,
         3.1581423948522382,
         3.0998441837879156,
         3.1572126363748736,
         3.111619363948805,
         3.2320422704473217,
         3.1629728711706218,
         3.141354942722879,
         3.1543314215981098,
         3.0995632876580164,
         3.1389660075427974,
         3.135181621808831,
         3.1973088334124613,
         3.1313218029123906,
         3.039519105851066,
         3.193141028928123,
         3.2394844820146154,
         3.0529472579088734,
         3.0596291694562106,
         3.1479466544924617,
         3.168401720129354,
         3.0790544960437574,
         3.101015912438639,
         3.2172461225102964,
         3.2042473833983056,
         3.1107253032374724,
         3.161403446631445,
         3.288629952149965,
         3.191442244237643,
         3.1884630052790115
        ]
       ],
       "encoder": "json",
       "name": "ABC_GAN_3 Metrics",
       "version": 1
      }
     },
     "metadata": {
      "scrapbook": {
       "data": true,
       "display": false,
       "name": "ABC_GAN_3 Metrics"
      }
     },
     "output_type": "display_data"
    },
    {
     "name": "stdout",
     "output_type": "stream",
     "text": [
      "MSE\n",
      "0.4913080386435632\n"
     ]
    }
   ],
   "source": [
    "ABC_GAN3_metrics=ABC_train_test2.test_generator(gen3,test_data,prior_model,variance,bias,\"3\",device)\n",
    "sb.glue(\"ABC_GAN_3 Metrics\",ABC_GAN3_metrics)\n",
    "\n",
    "print(\"MSE\")\n",
    "print(mean(ABC_GAN3_metrics[0]))"
   ]
  },
  {
   "cell_type": "code",
   "execution_count": 18,
   "id": "c8e46b48",
   "metadata": {
    "execution": {
     "iopub.execute_input": "2022-06-22T13:27:56.828515Z",
     "iopub.status.busy": "2022-06-22T13:27:56.827763Z",
     "iopub.status.idle": "2022-06-22T13:27:57.694412Z",
     "shell.execute_reply": "2022-06-22T13:27:57.694871Z"
    },
    "id": "c8e46b48",
    "papermill": {
     "duration": 0.992186,
     "end_time": "2022-06-22T13:27:57.695106",
     "exception": false,
     "start_time": "2022-06-22T13:27:56.702920",
     "status": "completed"
    },
    "tags": []
   },
   "outputs": [
    {
     "data": {
      "image/png": "[encoded data removed]",
      "text/plain": [
       "<Figure size 432x288 with 1 Axes>"
      ]
     },
     "metadata": {
      "needs_background": "light"
     },
     "output_type": "display_data"
    },
    {
     "data": {
      "image/png": "[encoded data removed]",
      "text/plain": [
       "<Figure size 432x288 with 1 Axes>"
      ]
     },
     "metadata": {
      "needs_background": "light"
     },
     "output_type": "display_data"
    },
    {
     "data": {
      "image/png": "[encoded data removed]",
      "text/plain": [
       "<Figure size 432x288 with 1 Axes>"
      ]
     },
     "metadata": {
      "needs_background": "light"
     },
     "output_type": "display_data"
    },
    {
     "data": {
      "image/png": "[encoded data removed]",
      "text/plain": [
       "<Figure size 432x288 with 1 Axes>"
      ]
     },
     "metadata": {
      "needs_background": "light"
     },
     "output_type": "display_data"
    }
   ],
   "source": [
    "sanityChecks.discProbVsError(train_data,disc3,device)\n",
    "sanityChecks.discProbVsError(test_data,disc3,device)"
   ]
  },
  {
   "cell_type": "markdown",
   "id": "a5bd74c3",
   "metadata": {
    "id": "a5bd74c3",
    "papermill": {
     "duration": 0.072795,
     "end_time": "2022-06-22T13:27:57.830468",
     "exception": false,
     "start_time": "2022-06-22T13:27:57.757673",
     "status": "completed"
    },
    "tags": []
   },
   "source": [
    "## Skip Connection Model Analysis - ABC-GAN "
   ]
  },
  {
   "cell_type": "markdown",
   "id": "5744a8bf",
   "metadata": {
    "id": "5744a8bf",
    "papermill": {
     "duration": 0.087164,
     "end_time": "2022-06-22T13:27:57.973624",
     "exception": false,
     "start_time": "2022-06-22T13:27:57.886460",
     "status": "completed"
    },
    "tags": []
   },
   "source": [
    "### Weight Analysis \n",
    "\n",
    "Study the weights of the skip connection layer\n",
    "\n",
    "Equation of the skip connection is \n",
    "\n",
    "$output = y_{gan} * w + y_{abc} * (1-w)$"
   ]
  },
  {
   "cell_type": "code",
   "execution_count": 19,
   "id": "52c31dea",
   "metadata": {
    "execution": {
     "iopub.execute_input": "2022-06-22T13:27:58.109123Z",
     "iopub.status.busy": "2022-06-22T13:27:58.107953Z",
     "iopub.status.idle": "2022-06-22T13:27:58.117321Z",
     "shell.execute_reply": "2022-06-22T13:27:58.117917Z"
    },
    "id": "52c31dea",
    "papermill": {
     "duration": 0.078522,
     "end_time": "2022-06-22T13:27:58.118266",
     "exception": false,
     "start_time": "2022-06-22T13:27:58.039744",
     "status": "completed"
    },
    "tags": []
   },
   "outputs": [
    {
     "name": "stdout",
     "output_type": "stream",
     "text": [
      "Weight of the node at skip connection\n",
      "Parameter containing:\n",
      "tensor([[0.0810]], requires_grad=True)\n"
     ]
    },
    {
     "data": {
      "application/scrapbook.scrap.json+json": {
       "data": 0.08103810250759125,
       "encoder": "json",
       "name": "Skip Connection Weight",
       "version": 1
      }
     },
     "metadata": {
      "scrapbook": {
       "data": true,
       "display": false,
       "name": "Skip Connection Weight"
      }
     },
     "output_type": "display_data"
    }
   ],
   "source": [
    "print(\"Weight of the node at skip connection\")\n",
    "for name,param in gen3.named_parameters():\n",
    "    if(name == \"skipNode.weight\"):\n",
    "        print(param)\n",
    "        sb.glue(\"Skip Connection Weight\",param.item())"
   ]
  }
 ],
 "metadata": {
  "colab": {
   "collapsed_sections": [],
   "name": "ABC_GAN_Model-Catboost_Pre-gen.ipynb",
   "provenance": []
  },
  "interpreter": {
   "hash": "31f2aee4e71d21fbe5cf8b01ff0e069b9275f58929596ceb00d14d90e3e16cd6"
  },
  "kernelspec": {
   "display_name": "Python 3 (ipykernel)",
   "language": "python",
   "name": "python3"
  },
  "language_info": {
   "codemirror_mode": {
    "name": "ipython",
    "version": 3
   },
   "file_extension": ".py",
   "mimetype": "text/x-python",
   "name": "python",
   "nbconvert_exporter": "python",
   "pygments_lexer": "ipython3",
   "version": "3.8.3"
  },
  "papermill": {
   "default_parameters": {},
   "duration": 173.203152,
   "end_time": "2022-06-22T13:27:59.142592",
   "environment_variables": {},
   "exception": null,
   "input_path": "ABC_GAN-TabNet.ipynb",
   "output_path": "./ABC_GAN_TabNet/ABC-GAN_output_4_10.ipynb",
   "parameters": {
    "bias": 0,
    "variance": 0.1
   },
   "start_time": "2022-06-22T13:25:05.939440",
   "version": "2.3.3"
  }
 },
 "nbformat": 4,
 "nbformat_minor": 5
}