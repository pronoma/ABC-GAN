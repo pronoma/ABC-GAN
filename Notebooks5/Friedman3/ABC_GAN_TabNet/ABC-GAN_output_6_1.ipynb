{
 "cells": [
  {
   "cell_type": "markdown",
   "id": "622780e6",
   "metadata": {
    "id": "622780e6",
    "papermill": {
     "duration": 0.026496,
     "end_time": "2022-06-22T14:10:48.020057",
     "exception": false,
     "start_time": "2022-06-22T14:10:47.993561",
     "status": "completed"
    },
    "tags": []
   },
   "source": [
    "## Import Libraries "
   ]
  },
  {
   "cell_type": "code",
   "execution_count": 1,
   "id": "a62397e3",
   "metadata": {
    "execution": {
     "iopub.execute_input": "2022-06-22T14:10:48.089269Z",
     "iopub.status.busy": "2022-06-22T14:10:48.087569Z",
     "iopub.status.idle": "2022-06-22T14:10:48.099489Z",
     "shell.execute_reply": "2022-06-22T14:10:48.100934Z"
    },
    "id": "a62397e3",
    "papermill": {
     "duration": 0.062293,
     "end_time": "2022-06-22T14:10:48.101317",
     "exception": false,
     "start_time": "2022-06-22T14:10:48.039024",
     "status": "completed"
    },
    "tags": []
   },
   "outputs": [],
   "source": [
    "import warnings\n",
    "import sys\n",
    "sys.path.insert(0, '../../src')\n",
    "warnings.filterwarnings('ignore')"
   ]
  },
  {
   "cell_type": "code",
   "execution_count": 2,
   "id": "d6a4e155",
   "metadata": {
    "execution": {
     "iopub.execute_input": "2022-06-22T14:10:48.156399Z",
     "iopub.status.busy": "2022-06-22T14:10:48.155500Z",
     "iopub.status.idle": "2022-06-22T14:10:58.038409Z",
     "shell.execute_reply": "2022-06-22T14:10:58.039260Z"
    },
    "id": "d6a4e155",
    "papermill": {
     "duration": 9.909197,
     "end_time": "2022-06-22T14:10:58.039661",
     "exception": false,
     "start_time": "2022-06-22T14:10:48.130464",
     "status": "completed"
    },
    "tags": []
   },
   "outputs": [],
   "source": [
    "import ABC_train_test2\n",
    "import friedman3Dataset\n",
    "import network\n",
    "import dataset\n",
    "import sanityChecks\n",
    "import torch \n",
    "import scrapbook as sb\n",
    "from statistics import mean \n",
    "import catboost as ctb \n",
    "from sklearn.model_selection import train_test_split\n",
    "from sklearn.metrics import mean_squared_error,mean_absolute_error\n",
    "import numpy as np\n",
    "from pytorch_tabnet.tab_model import TabNetRegressor"
   ]
  },
  {
   "cell_type": "markdown",
   "id": "2fa5b0f7",
   "metadata": {
    "id": "2fa5b0f7",
    "papermill": {
     "duration": 0.047037,
     "end_time": "2022-06-22T14:10:58.105686",
     "exception": false,
     "start_time": "2022-06-22T14:10:58.058649",
     "status": "completed"
    },
    "tags": []
   },
   "source": [
    "## Parameters "
   ]
  },
  {
   "cell_type": "code",
   "execution_count": 3,
   "id": "783186fb",
   "metadata": {
    "execution": {
     "iopub.execute_input": "2022-06-22T14:10:58.207950Z",
     "iopub.status.busy": "2022-06-22T14:10:58.205136Z",
     "iopub.status.idle": "2022-06-22T14:10:58.215529Z",
     "shell.execute_reply": "2022-06-22T14:10:58.216296Z"
    },
    "id": "783186fb",
    "papermill": {
     "duration": 0.087224,
     "end_time": "2022-06-22T14:10:58.216542",
     "exception": false,
     "start_time": "2022-06-22T14:10:58.129318",
     "status": "completed"
    },
    "tags": [
     "parameters"
    ]
   },
   "outputs": [],
   "source": [
    "variance = 1\n",
    "bias = 1 "
   ]
  },
  {
   "cell_type": "code",
   "execution_count": 4,
   "id": "db05d10a",
   "metadata": {
    "execution": {
     "iopub.execute_input": "2022-06-22T14:10:58.290572Z",
     "iopub.status.busy": "2022-06-22T14:10:58.288388Z",
     "iopub.status.idle": "2022-06-22T14:10:58.295284Z",
     "shell.execute_reply": "2022-06-22T14:10:58.292579Z"
    },
    "papermill": {
     "duration": 0.057031,
     "end_time": "2022-06-22T14:10:58.296998",
     "exception": false,
     "start_time": "2022-06-22T14:10:58.239967",
     "status": "completed"
    },
    "tags": [
     "injected-parameters"
    ]
   },
   "outputs": [],
   "source": [
    "# Parameters\n",
    "variance = 0.1\n",
    "bias = 1\n"
   ]
  },
  {
   "cell_type": "markdown",
   "id": "391cdbfd",
   "metadata": {
    "id": "391cdbfd",
    "papermill": {
     "duration": 0.031572,
     "end_time": "2022-06-22T14:10:58.347295",
     "exception": false,
     "start_time": "2022-06-22T14:10:58.315723",
     "status": "completed"
    },
    "tags": []
   },
   "source": [
    "## Dataset \n"
   ]
  },
  {
   "cell_type": "code",
   "execution_count": 5,
   "id": "5b51f161",
   "metadata": {
    "execution": {
     "iopub.execute_input": "2022-06-22T14:10:58.416285Z",
     "iopub.status.busy": "2022-06-22T14:10:58.414263Z",
     "iopub.status.idle": "2022-06-22T14:10:58.417456Z",
     "shell.execute_reply": "2022-06-22T14:10:58.418674Z"
    },
    "id": "5b51f161",
    "papermill": {
     "duration": 0.048091,
     "end_time": "2022-06-22T14:10:58.419254",
     "exception": false,
     "start_time": "2022-06-22T14:10:58.371163",
     "status": "completed"
    },
    "tags": []
   },
   "outputs": [],
   "source": [
    "#Parameters \n",
    "n_features = 4\n",
    "n_samples= 100\n",
    "n_target = 1"
   ]
  },
  {
   "cell_type": "code",
   "execution_count": 6,
   "id": "5d6eced4",
   "metadata": {
    "execution": {
     "iopub.execute_input": "2022-06-22T14:10:58.595626Z",
     "iopub.status.busy": "2022-06-22T14:10:58.583998Z",
     "iopub.status.idle": "2022-06-22T14:10:58.600228Z",
     "shell.execute_reply": "2022-06-22T14:10:58.600782Z"
    },
    "id": "5d6eced4",
    "papermill": {
     "duration": 0.147028,
     "end_time": "2022-06-22T14:10:58.601022",
     "exception": false,
     "start_time": "2022-06-22T14:10:58.453994",
     "status": "completed"
    },
    "tags": []
   },
   "outputs": [
    {
     "name": "stdout",
     "output_type": "stream",
     "text": [
      "          X1           X2        X3         X4         Y\n",
      "0  97.892270  1500.167076  0.828164   1.486868  1.572241\n",
      "1  35.027003  1002.800092  0.222245   7.116870  1.428612\n",
      "2  53.582163  1220.469327  0.331319   3.615123  1.471607\n",
      "3  87.443407  1332.993861  0.686546  10.159417  1.386465\n",
      "4  39.553516  1184.560552  0.682879   4.391465  1.577917\n"
     ]
    }
   ],
   "source": [
    "X,Y = friedman3Dataset.friedman3_data(n_samples)"
   ]
  },
  {
   "cell_type": "code",
   "execution_count": 7,
   "id": "fe007438",
   "metadata": {
    "execution": {
     "iopub.execute_input": "2022-06-22T14:10:58.765832Z",
     "iopub.status.busy": "2022-06-22T14:10:58.762828Z",
     "iopub.status.idle": "2022-06-22T14:10:58.767347Z",
     "shell.execute_reply": "2022-06-22T14:10:58.766760Z"
    },
    "id": "fe007438",
    "papermill": {
     "duration": 0.047368,
     "end_time": "2022-06-22T14:10:58.767559",
     "exception": false,
     "start_time": "2022-06-22T14:10:58.720191",
     "status": "completed"
    },
    "tags": []
   },
   "outputs": [],
   "source": [
    "#Train test split for dataset \n",
    "X_train,X_test,Y_train,Y_test = train_test_split(X,Y,test_size = 0.2)\n",
    "train_data = dataset.CustomDataset(X_train,Y_train)\n",
    "test_data = dataset.CustomDataset(X_test,Y_test)\n"
   ]
  },
  {
   "cell_type": "markdown",
   "id": "a9a1af34",
   "metadata": {
    "id": "a9a1af34",
    "papermill": {
     "duration": 0.041922,
     "end_time": "2022-06-22T14:10:58.843634",
     "exception": false,
     "start_time": "2022-06-22T14:10:58.801712",
     "status": "completed"
    },
    "tags": []
   },
   "source": [
    "## Training Parameters "
   ]
  },
  {
   "cell_type": "code",
   "execution_count": 8,
   "id": "952b7fc8",
   "metadata": {
    "execution": {
     "iopub.execute_input": "2022-06-22T14:10:58.921390Z",
     "iopub.status.busy": "2022-06-22T14:10:58.920185Z",
     "iopub.status.idle": "2022-06-22T14:10:58.922694Z",
     "shell.execute_reply": "2022-06-22T14:10:58.922093Z"
    },
    "id": "952b7fc8",
    "papermill": {
     "duration": 0.057603,
     "end_time": "2022-06-22T14:10:58.922898",
     "exception": false,
     "start_time": "2022-06-22T14:10:58.865295",
     "status": "completed"
    },
    "tags": []
   },
   "outputs": [],
   "source": [
    "batch_size = 32\n",
    "n_epochs = 1000\n",
    "#Select the device \n",
    "device = torch.device('cuda' if torch.cuda.is_available() else 'cpu')"
   ]
  },
  {
   "cell_type": "markdown",
   "id": "a95e1600",
   "metadata": {
    "id": "a95e1600",
    "papermill": {
     "duration": 0.02574,
     "end_time": "2022-06-22T14:10:58.971971",
     "exception": false,
     "start_time": "2022-06-22T14:10:58.946231",
     "status": "completed"
    },
    "tags": []
   },
   "source": [
    "# ABC Pre-generator Model \n",
    "\n",
    "1. The catboost model is used as a pre-generator model for the ABC-GAN. \n",
    "2. The model is first trained on the entire dataset \n",
    "3. It generats X,Y pairs and we add some Gaussian noise with mean 0 and variance 1 to it which is then feed as input to the generator.\n"
   ]
  },
  {
   "cell_type": "code",
   "execution_count": 9,
   "id": "ff8ce7bd",
   "metadata": {
    "execution": {
     "iopub.execute_input": "2022-06-22T14:10:59.602838Z",
     "iopub.status.busy": "2022-06-22T14:10:59.514335Z",
     "iopub.status.idle": "2022-06-22T14:11:14.043308Z",
     "shell.execute_reply": "2022-06-22T14:11:14.046806Z"
    },
    "id": "ff8ce7bd",
    "papermill": {
     "duration": 15.046205,
     "end_time": "2022-06-22T14:11:14.047134",
     "exception": false,
     "start_time": "2022-06-22T14:10:59.000929",
     "status": "completed"
    },
    "tags": []
   },
   "outputs": [
    {
     "name": "stdout",
     "output_type": "stream",
     "text": [
      "Device used : cpu\n"
     ]
    },
    {
     "name": "stdout",
     "output_type": "stream",
     "text": [
      "epoch 0  | loss: 1.10105 | train_mse: 4.29867 | train_mae: 1.54985 |  0:00:01s\n"
     ]
    },
    {
     "name": "stdout",
     "output_type": "stream",
     "text": [
      "epoch 1  | loss: 0.63548 | train_mse: 3.01436 | train_mae: 1.39894 |  0:00:01s\n"
     ]
    },
    {
     "name": "stdout",
     "output_type": "stream",
     "text": [
      "epoch 2  | loss: 0.43013 | train_mse: 2.91176 | train_mae: 1.37487 |  0:00:02s\n"
     ]
    },
    {
     "name": "stdout",
     "output_type": "stream",
     "text": [
      "epoch 3  | loss: 0.35756 | train_mse: 3.02549 | train_mae: 1.38343 |  0:00:02s\n",
      "epoch 4  | loss: 0.61048 | train_mse: 1.97072 | train_mae: 1.13753 |  0:00:02s\n"
     ]
    },
    {
     "name": "stdout",
     "output_type": "stream",
     "text": [
      "epoch 5  | loss: 0.47764 | train_mse: 0.96287 | train_mae: 0.76173 |  0:00:03s\n",
      "epoch 6  | loss: 0.38817 | train_mse: 0.7083  | train_mae: 0.64961 |  0:00:03s\n"
     ]
    },
    {
     "name": "stdout",
     "output_type": "stream",
     "text": [
      "epoch 7  | loss: 0.35708 | train_mse: 0.48    | train_mae: 0.52508 |  0:00:03s\n",
      "epoch 8  | loss: 0.35351 | train_mse: 0.48649 | train_mae: 0.52204 |  0:00:03s\n"
     ]
    },
    {
     "name": "stdout",
     "output_type": "stream",
     "text": [
      "epoch 9  | loss: 0.28736 | train_mse: 0.68055 | train_mae: 0.58011 |  0:00:03s\n",
      "epoch 10 | loss: 0.24391 | train_mse: 0.99342 | train_mae: 0.66207 |  0:00:03s\n",
      "epoch 11 | loss: 0.23737 | train_mse: 0.78107 | train_mae: 0.58672 |  0:00:03s\n"
     ]
    },
    {
     "name": "stdout",
     "output_type": "stream",
     "text": [
      "epoch 12 | loss: 0.13629 | train_mse: 0.75987 | train_mae: 0.6001  |  0:00:03s\n",
      "epoch 13 | loss: 0.18495 | train_mse: 0.78617 | train_mae: 0.63645 |  0:00:03s\n",
      "epoch 14 | loss: 0.25574 | train_mse: 0.72416 | train_mae: 0.59716 |  0:00:04s\n"
     ]
    },
    {
     "name": "stdout",
     "output_type": "stream",
     "text": [
      "epoch 15 | loss: 0.12248 | train_mse: 0.55439 | train_mae: 0.55201 |  0:00:04s\n",
      "epoch 16 | loss: 0.16766 | train_mse: 0.30272 | train_mae: 0.40451 |  0:00:04s\n",
      "epoch 17 | loss: 0.21809 | train_mse: 0.22323 | train_mae: 0.35642 |  0:00:04s\n"
     ]
    },
    {
     "name": "stdout",
     "output_type": "stream",
     "text": [
      "epoch 18 | loss: 0.14203 | train_mse: 0.21574 | train_mae: 0.35461 |  0:00:04s\n",
      "epoch 19 | loss: 0.18585 | train_mse: 0.24499 | train_mae: 0.37822 |  0:00:04s\n",
      "epoch 20 | loss: 0.13335 | train_mse: 0.19708 | train_mae: 0.33855 |  0:00:04s\n"
     ]
    },
    {
     "name": "stdout",
     "output_type": "stream",
     "text": [
      "epoch 21 | loss: 0.14781 | train_mse: 0.1675  | train_mae: 0.32228 |  0:00:04s\n",
      "epoch 22 | loss: 0.13684 | train_mse: 0.2407  | train_mae: 0.3652  |  0:00:04s\n"
     ]
    },
    {
     "name": "stdout",
     "output_type": "stream",
     "text": [
      "epoch 23 | loss: 0.21047 | train_mse: 0.29613 | train_mae: 0.39803 |  0:00:04s\n",
      "epoch 24 | loss: 0.18504 | train_mse: 0.5315  | train_mae: 0.49431 |  0:00:05s\n",
      "epoch 25 | loss: 0.35316 | train_mse: 0.89237 | train_mae: 0.58997 |  0:00:05s\n"
     ]
    },
    {
     "name": "stdout",
     "output_type": "stream",
     "text": [
      "epoch 26 | loss: 0.30223 | train_mse: 0.4203  | train_mae: 0.44631 |  0:00:05s\n",
      "epoch 27 | loss: 0.11548 | train_mse: 0.23222 | train_mae: 0.37331 |  0:00:05s\n",
      "epoch 28 | loss: 0.16233 | train_mse: 0.27114 | train_mae: 0.3746  |  0:00:05s\n"
     ]
    },
    {
     "name": "stdout",
     "output_type": "stream",
     "text": [
      "epoch 29 | loss: 0.15355 | train_mse: 0.42766 | train_mae: 0.44685 |  0:00:05s\n",
      "epoch 30 | loss: 0.25997 | train_mse: 0.4039  | train_mae: 0.4363  |  0:00:05s\n",
      "epoch 31 | loss: 0.17983 | train_mse: 0.30065 | train_mae: 0.37788 |  0:00:05s\n"
     ]
    },
    {
     "name": "stdout",
     "output_type": "stream",
     "text": [
      "epoch 32 | loss: 0.17003 | train_mse: 0.2052  | train_mae: 0.33957 |  0:00:05s\n",
      "epoch 33 | loss: 0.17992 | train_mse: 0.20721 | train_mae: 0.34613 |  0:00:05s\n",
      "epoch 34 | loss: 0.13866 | train_mse: 0.1736  | train_mae: 0.31859 |  0:00:05s\n"
     ]
    },
    {
     "name": "stdout",
     "output_type": "stream",
     "text": [
      "epoch 35 | loss: 0.17346 | train_mse: 0.11734 | train_mae: 0.27452 |  0:00:05s\n",
      "epoch 36 | loss: 0.09525 | train_mse: 0.17318 | train_mae: 0.30737 |  0:00:06s\n",
      "epoch 37 | loss: 0.20526 | train_mse: 0.27991 | train_mae: 0.38101 |  0:00:06s\n"
     ]
    },
    {
     "name": "stdout",
     "output_type": "stream",
     "text": [
      "epoch 38 | loss: 0.24361 | train_mse: 0.50028 | train_mae: 0.44448 |  0:00:06s\n",
      "epoch 39 | loss: 0.14199 | train_mse: 0.31617 | train_mae: 0.37156 |  0:00:06s\n"
     ]
    },
    {
     "name": "stdout",
     "output_type": "stream",
     "text": [
      "epoch 40 | loss: 0.14982 | train_mse: 0.11932 | train_mae: 0.27165 |  0:00:06s\n",
      "epoch 41 | loss: 0.14445 | train_mse: 0.09311 | train_mae: 0.23503 |  0:00:06s\n"
     ]
    },
    {
     "name": "stdout",
     "output_type": "stream",
     "text": [
      "epoch 42 | loss: 0.11855 | train_mse: 0.10796 | train_mae: 0.25334 |  0:00:06s\n",
      "epoch 43 | loss: 0.23755 | train_mse: 0.10077 | train_mae: 0.25715 |  0:00:06s\n"
     ]
    },
    {
     "name": "stdout",
     "output_type": "stream",
     "text": [
      "epoch 44 | loss: 0.23365 | train_mse: 0.10423 | train_mae: 0.26265 |  0:00:06s\n",
      "epoch 45 | loss: 0.11504 | train_mse: 0.11733 | train_mae: 0.26876 |  0:00:07s\n"
     ]
    },
    {
     "name": "stdout",
     "output_type": "stream",
     "text": [
      "epoch 46 | loss: 0.14925 | train_mse: 0.14492 | train_mae: 0.29298 |  0:00:07s\n",
      "epoch 47 | loss: 0.11955 | train_mse: 0.16453 | train_mae: 0.31099 |  0:00:07s\n"
     ]
    },
    {
     "name": "stdout",
     "output_type": "stream",
     "text": [
      "epoch 48 | loss: 0.15963 | train_mse: 0.15107 | train_mae: 0.29878 |  0:00:07s\n",
      "epoch 49 | loss: 0.08963 | train_mse: 0.17592 | train_mae: 0.31269 |  0:00:07s\n"
     ]
    },
    {
     "name": "stdout",
     "output_type": "stream",
     "text": [
      "epoch 50 | loss: 0.16242 | train_mse: 0.16824 | train_mae: 0.30053 |  0:00:07s\n",
      "epoch 51 | loss: 0.17458 | train_mse: 0.14259 | train_mae: 0.27866 |  0:00:07s\n",
      "epoch 52 | loss: 0.11207 | train_mse: 0.12813 | train_mae: 0.26998 |  0:00:07s\n"
     ]
    },
    {
     "name": "stdout",
     "output_type": "stream",
     "text": [
      "epoch 53 | loss: 0.1111  | train_mse: 0.12882 | train_mae: 0.26389 |  0:00:07s\n",
      "epoch 54 | loss: 0.16704 | train_mse: 0.10048 | train_mae: 0.24332 |  0:00:07s\n",
      "epoch 55 | loss: 0.15863 | train_mse: 0.10655 | train_mae: 0.25712 |  0:00:08s\n"
     ]
    },
    {
     "name": "stdout",
     "output_type": "stream",
     "text": [
      "epoch 56 | loss: 0.15268 | train_mse: 0.08957 | train_mae: 0.23391 |  0:00:08s\n",
      "epoch 57 | loss: 0.11737 | train_mse: 0.06864 | train_mae: 0.20473 |  0:00:08s\n",
      "epoch 58 | loss: 0.14577 | train_mse: 0.07365 | train_mae: 0.21155 |  0:00:08s\n"
     ]
    },
    {
     "name": "stdout",
     "output_type": "stream",
     "text": [
      "epoch 59 | loss: 0.08349 | train_mse: 0.06612 | train_mae: 0.20864 |  0:00:08s\n",
      "epoch 60 | loss: 0.12574 | train_mse: 0.06802 | train_mae: 0.21359 |  0:00:08s\n",
      "epoch 61 | loss: 0.12796 | train_mse: 0.09997 | train_mae: 0.23626 |  0:00:08s\n"
     ]
    },
    {
     "name": "stdout",
     "output_type": "stream",
     "text": [
      "epoch 62 | loss: 0.22188 | train_mse: 0.08351 | train_mae: 0.21718 |  0:00:08s\n",
      "epoch 63 | loss: 0.16847 | train_mse: 0.09982 | train_mae: 0.23119 |  0:00:08s\n",
      "epoch 64 | loss: 0.12657 | train_mse: 0.08841 | train_mae: 0.21416 |  0:00:08s\n"
     ]
    },
    {
     "name": "stdout",
     "output_type": "stream",
     "text": [
      "epoch 65 | loss: 0.10584 | train_mse: 0.06684 | train_mae: 0.19777 |  0:00:08s\n",
      "epoch 66 | loss: 0.15961 | train_mse: 0.06816 | train_mae: 0.20016 |  0:00:08s\n",
      "epoch 67 | loss: 0.11794 | train_mse: 0.07939 | train_mae: 0.2143  |  0:00:09s\n"
     ]
    },
    {
     "name": "stdout",
     "output_type": "stream",
     "text": [
      "epoch 68 | loss: 0.20688 | train_mse: 0.14289 | train_mae: 0.26733 |  0:00:09s\n",
      "epoch 69 | loss: 0.10845 | train_mse: 0.164   | train_mae: 0.27804 |  0:00:09s\n",
      "epoch 70 | loss: 0.11658 | train_mse: 0.14053 | train_mae: 0.26636 |  0:00:09s\n"
     ]
    },
    {
     "name": "stdout",
     "output_type": "stream",
     "text": [
      "epoch 71 | loss: 0.07904 | train_mse: 0.1563  | train_mae: 0.28837 |  0:00:09s\n",
      "epoch 72 | loss: 0.15548 | train_mse: 0.19857 | train_mae: 0.31065 |  0:00:09s\n",
      "epoch 73 | loss: 0.09561 | train_mse: 0.16922 | train_mae: 0.29323 |  0:00:09s\n"
     ]
    },
    {
     "name": "stdout",
     "output_type": "stream",
     "text": [
      "epoch 74 | loss: 0.08449 | train_mse: 0.13044 | train_mae: 0.26647 |  0:00:09s\n",
      "epoch 75 | loss: 0.07659 | train_mse: 0.12254 | train_mae: 0.25583 |  0:00:09s\n",
      "epoch 76 | loss: 0.10891 | train_mse: 0.11549 | train_mae: 0.25024 |  0:00:09s\n"
     ]
    },
    {
     "name": "stdout",
     "output_type": "stream",
     "text": [
      "epoch 77 | loss: 0.10913 | train_mse: 0.09321 | train_mae: 0.234   |  0:00:09s\n",
      "epoch 78 | loss: 0.25073 | train_mse: 0.07906 | train_mae: 0.22022 |  0:00:09s\n",
      "epoch 79 | loss: 0.10821 | train_mse: 0.06992 | train_mae: 0.20242 |  0:00:10s\n"
     ]
    },
    {
     "name": "stdout",
     "output_type": "stream",
     "text": [
      "epoch 80 | loss: 0.09877 | train_mse: 0.06758 | train_mae: 0.19435 |  0:00:10s\n",
      "epoch 81 | loss: 0.18404 | train_mse: 0.0943  | train_mae: 0.22334 |  0:00:10s\n"
     ]
    },
    {
     "name": "stdout",
     "output_type": "stream",
     "text": [
      "epoch 82 | loss: 0.11957 | train_mse: 0.09122 | train_mae: 0.22209 |  0:00:10s\n",
      "epoch 83 | loss: 0.23074 | train_mse: 0.09763 | train_mae: 0.23363 |  0:00:10s\n"
     ]
    },
    {
     "name": "stdout",
     "output_type": "stream",
     "text": [
      "epoch 84 | loss: 0.17544 | train_mse: 0.11313 | train_mae: 0.23894 |  0:00:10s\n",
      "epoch 85 | loss: 0.16942 | train_mse: 0.11666 | train_mae: 0.24644 |  0:00:10s\n",
      "epoch 86 | loss: 0.12108 | train_mse: 0.10116 | train_mae: 0.23315 |  0:00:10s\n"
     ]
    },
    {
     "name": "stdout",
     "output_type": "stream",
     "text": [
      "epoch 87 | loss: 0.13341 | train_mse: 0.08491 | train_mae: 0.21848 |  0:00:11s\n",
      "epoch 88 | loss: 0.12412 | train_mse: 0.08443 | train_mae: 0.22303 |  0:00:11s\n",
      "epoch 89 | loss: 0.11694 | train_mse: 0.09501 | train_mae: 0.23569 |  0:00:11s\n"
     ]
    },
    {
     "name": "stdout",
     "output_type": "stream",
     "text": [
      "epoch 90 | loss: 0.12932 | train_mse: 0.11918 | train_mae: 0.24963 |  0:00:11s\n",
      "epoch 91 | loss: 0.10561 | train_mse: 0.10644 | train_mae: 0.23524 |  0:00:11s\n",
      "epoch 92 | loss: 0.28525 | train_mse: 0.07858 | train_mae: 0.22126 |  0:00:11s\n"
     ]
    },
    {
     "name": "stdout",
     "output_type": "stream",
     "text": [
      "epoch 93 | loss: 0.13681 | train_mse: 0.08598 | train_mae: 0.23438 |  0:00:11s\n",
      "epoch 94 | loss: 0.15465 | train_mse: 0.09731 | train_mae: 0.2503  |  0:00:11s\n",
      "epoch 95 | loss: 0.10451 | train_mse: 0.09357 | train_mae: 0.24086 |  0:00:11s\n"
     ]
    },
    {
     "name": "stdout",
     "output_type": "stream",
     "text": [
      "epoch 96 | loss: 0.14324 | train_mse: 0.09092 | train_mae: 0.23021 |  0:00:11s\n",
      "epoch 97 | loss: 0.11161 | train_mse: 0.08215 | train_mae: 0.21611 |  0:00:11s\n",
      "epoch 98 | loss: 0.09592 | train_mse: 0.08484 | train_mae: 0.22035 |  0:00:12s\n"
     ]
    },
    {
     "name": "stdout",
     "output_type": "stream",
     "text": [
      "epoch 99 | loss: 0.14664 | train_mse: 0.20454 | train_mae: 0.25458 |  0:00:12s\n",
      "epoch 100| loss: 0.23026 | train_mse: 0.20731 | train_mae: 0.26689 |  0:00:12s\n",
      "epoch 101| loss: 0.17489 | train_mse: 0.12984 | train_mae: 0.26515 |  0:00:12s\n"
     ]
    },
    {
     "name": "stdout",
     "output_type": "stream",
     "text": [
      "epoch 102| loss: 0.18948 | train_mse: 0.11945 | train_mae: 0.27368 |  0:00:12s\n",
      "epoch 103| loss: 0.09724 | train_mse: 0.09426 | train_mae: 0.24082 |  0:00:12s\n",
      "epoch 104| loss: 0.1031  | train_mse: 0.08125 | train_mae: 0.22657 |  0:00:12s\n"
     ]
    },
    {
     "name": "stdout",
     "output_type": "stream",
     "text": [
      "epoch 105| loss: 0.14104 | train_mse: 0.07432 | train_mae: 0.20995 |  0:00:12s\n",
      "epoch 106| loss: 0.11537 | train_mse: 0.11223 | train_mae: 0.23005 |  0:00:12s\n",
      "epoch 107| loss: 0.12422 | train_mse: 0.14686 | train_mae: 0.24961 |  0:00:12s\n"
     ]
    },
    {
     "name": "stdout",
     "output_type": "stream",
     "text": [
      "epoch 108| loss: 0.16121 | train_mse: 0.09336 | train_mae: 0.22966 |  0:00:12s\n",
      "epoch 109| loss: 0.13573 | train_mse: 0.07347 | train_mae: 0.21847 |  0:00:12s\n",
      "epoch 110| loss: 0.11783 | train_mse: 0.07013 | train_mae: 0.20161 |  0:00:13s\n"
     ]
    },
    {
     "name": "stdout",
     "output_type": "stream",
     "text": [
      "epoch 111| loss: 0.14514 | train_mse: 0.07259 | train_mae: 0.19996 |  0:00:13s\n",
      "epoch 112| loss: 0.12834 | train_mse: 0.07382 | train_mae: 0.20193 |  0:00:13s\n",
      "epoch 113| loss: 0.08872 | train_mse: 0.07246 | train_mae: 0.20939 |  0:00:13s\n"
     ]
    },
    {
     "name": "stdout",
     "output_type": "stream",
     "text": [
      "epoch 114| loss: 0.08134 | train_mse: 0.07152 | train_mae: 0.21365 |  0:00:13s\n",
      "epoch 115| loss: 0.12365 | train_mse: 0.06647 | train_mae: 0.20505 |  0:00:13s\n",
      "epoch 116| loss: 0.14871 | train_mse: 0.06955 | train_mae: 0.21051 |  0:00:13s\n"
     ]
    },
    {
     "name": "stdout",
     "output_type": "stream",
     "text": [
      "epoch 117| loss: 0.10516 | train_mse: 0.07701 | train_mae: 0.22469 |  0:00:13s\n",
      "epoch 118| loss: 0.18113 | train_mse: 0.07791 | train_mae: 0.22512 |  0:00:13s\n",
      "epoch 119| loss: 0.16402 | train_mse: 0.1322  | train_mae: 0.24909 |  0:00:13s\n"
     ]
    },
    {
     "name": "stdout",
     "output_type": "stream",
     "text": [
      "epoch 120| loss: 0.17884 | train_mse: 0.12169 | train_mae: 0.23802 |  0:00:13s\n",
      "epoch 121| loss: 0.24481 | train_mse: 0.11411 | train_mae: 0.2371  |  0:00:13s\n",
      "epoch 122| loss: 0.18381 | train_mse: 0.13541 | train_mae: 0.26032 |  0:00:14s\n"
     ]
    },
    {
     "name": "stdout",
     "output_type": "stream",
     "text": [
      "epoch 123| loss: 0.13516 | train_mse: 0.13412 | train_mae: 0.25543 |  0:00:14s\n",
      "epoch 124| loss: 0.23046 | train_mse: 0.11204 | train_mae: 0.24973 |  0:00:14s\n",
      "epoch 125| loss: 0.15184 | train_mse: 0.11841 | train_mae: 0.26237 |  0:00:14s\n"
     ]
    },
    {
     "name": "stdout",
     "output_type": "stream",
     "text": [
      "epoch 126| loss: 0.30427 | train_mse: 0.13529 | train_mae: 0.2739  |  0:00:14s\n",
      "epoch 127| loss: 0.11423 | train_mse: 0.13509 | train_mae: 0.27304 |  0:00:14s\n",
      "epoch 128| loss: 0.23088 | train_mse: 0.11465 | train_mae: 0.25526 |  0:00:14s\n"
     ]
    },
    {
     "name": "stdout",
     "output_type": "stream",
     "text": [
      "epoch 129| loss: 0.11287 | train_mse: 0.099   | train_mae: 0.2345  |  0:00:14s\n",
      "epoch 130| loss: 0.16034 | train_mse: 0.0933  | train_mae: 0.22799 |  0:00:14s\n",
      "\n",
      "Early stopping occurred at epoch 130 with best_epoch = 80 and best_train_mae = 0.19435\n",
      "Best weights from best epoch are automatically used!\n"
     ]
    }
   ],
   "source": [
    "#Train the Model\n",
    "\n",
    "Y_train = np.reshape(Y_train, (-1, 1))\n",
    "Y_test = np.reshape(Y_test, (-1, 1))\n",
    "\n",
    "prior_model = TabNetRegressor(optimizer_fn=torch.optim.Adam, optimizer_params=dict(lr = 0.02),\n",
    "          #scheduler_params={\"step_size\":10, ], \"gamma\":0.9},\n",
    "          #scheduler_fn=torch.optim.lr_scheduler.StepLR\n",
    "          )  #TabNetRegressor()\n",
    "\n",
    "prior_model.fit(X_train,Y_train,eval_set=[(X_train, Y_train)],\n",
    "            eval_name=['train'], \n",
    "            eval_metric=[ 'mse', 'mae'], \n",
    "            max_epochs = n_epochs, \n",
    "            batch_size = batch_size,\n",
    "            patience=50\n",
    "            )"
   ]
  },
  {
   "cell_type": "code",
   "execution_count": 10,
   "id": "af65dcda",
   "metadata": {
    "execution": {
     "iopub.execute_input": "2022-06-22T14:11:14.132444Z",
     "iopub.status.busy": "2022-06-22T14:11:14.124782Z",
     "iopub.status.idle": "2022-06-22T14:11:14.152560Z",
     "shell.execute_reply": "2022-06-22T14:11:14.152050Z"
    },
    "id": "af65dcda",
    "papermill": {
     "duration": 0.071536,
     "end_time": "2022-06-22T14:11:14.152755",
     "exception": false,
     "start_time": "2022-06-22T14:11:14.081219",
     "status": "completed"
    },
    "tags": []
   },
   "outputs": [
    {
     "data": {
      "application/scrapbook.scrap.json+json": {
       "data": 0.32334528264181056,
       "encoder": "json",
       "name": "Prior Model MSE",
       "version": 1
      }
     },
     "metadata": {
      "scrapbook": {
       "data": true,
       "display": false,
       "name": "Prior Model MSE"
      }
     },
     "output_type": "display_data"
    },
    {
     "data": {
      "application/scrapbook.scrap.json+json": {
       "data": 1.0443486734365912,
       "encoder": "json",
       "name": "ABC Pre-generator MSE",
       "version": 1
      }
     },
     "metadata": {
      "scrapbook": {
       "data": true,
       "display": false,
       "name": "ABC Pre-generator MSE"
      }
     },
     "output_type": "display_data"
    },
    {
     "data": {
      "application/scrapbook.scrap.json+json": {
       "data": 0.4642487697731922,
       "encoder": "json",
       "name": "Prior Model MSE",
       "version": 1
      }
     },
     "metadata": {
      "scrapbook": {
       "data": true,
       "display": false,
       "name": "Prior Model MSE"
      }
     },
     "output_type": "display_data"
    },
    {
     "data": {
      "application/scrapbook.scrap.json+json": {
       "data": 0.8802436489478154,
       "encoder": "json",
       "name": "ABC Pre-generator MSE",
       "version": 1
      }
     },
     "metadata": {
      "scrapbook": {
       "data": true,
       "display": false,
       "name": "ABC Pre-generator MSE"
      }
     },
     "output_type": "display_data"
    }
   ],
   "source": [
    "y_pred = prior_model.predict(X_test)\n",
    "y_abc = y_pred + np.random.normal(0,variance, y_pred.shape) + bias \n",
    "mse = mean_squared_error(y_pred,Y_test)\n",
    "sb.glue(\"Prior Model MSE\",mse)\n",
    "mse = mean_squared_error(y_abc,Y_test)\n",
    "sb.glue(\"ABC Pre-generator MSE\",mse)\n",
    "mae = mean_absolute_error(y_pred,Y_test)\n",
    "sb.glue(\"Prior Model MSE\",mae)\n",
    "mae = mean_absolute_error(y_abc,Y_test)\n",
    "sb.glue(\"ABC Pre-generator MSE\",mae)"
   ]
  },
  {
   "cell_type": "markdown",
   "id": "25609da2",
   "metadata": {
    "papermill": {
     "duration": 0.041233,
     "end_time": "2022-06-22T14:11:14.227919",
     "exception": false,
     "start_time": "2022-06-22T14:11:14.186686",
     "status": "completed"
    },
    "tags": []
   },
   "source": [
    "# ABC GAN Model"
   ]
  },
  {
   "cell_type": "code",
   "execution_count": 11,
   "id": "dfc3464d",
   "metadata": {
    "execution": {
     "iopub.execute_input": "2022-06-22T14:11:14.312210Z",
     "iopub.status.busy": "2022-06-22T14:11:14.310833Z",
     "iopub.status.idle": "2022-06-22T14:11:14.314755Z",
     "shell.execute_reply": "2022-06-22T14:11:14.315314Z"
    },
    "papermill": {
     "duration": 0.050555,
     "end_time": "2022-06-22T14:11:14.315521",
     "exception": false,
     "start_time": "2022-06-22T14:11:14.264966",
     "status": "completed"
    },
    "tags": []
   },
   "outputs": [],
   "source": [
    "gen = network.Generator(n_features+1).to(device)\n",
    "disc = network.Discriminator(n_features+1).to(device)\n",
    "\n",
    "criterion = torch.nn.BCELoss()\n",
    "gen_opt = torch.optim.Adam(gen.parameters(), lr=0.001, betas=(0.5, 0.999))\n",
    "disc_opt = torch.optim.Adam(disc.parameters(), lr=0.001, betas=(0.5, 0.999))"
   ]
  },
  {
   "cell_type": "code",
   "execution_count": 12,
   "id": "b75fdd85",
   "metadata": {
    "execution": {
     "iopub.execute_input": "2022-06-22T14:11:14.438084Z",
     "iopub.status.busy": "2022-06-22T14:11:14.436934Z",
     "iopub.status.idle": "2022-06-22T14:12:10.337105Z",
     "shell.execute_reply": "2022-06-22T14:12:10.337700Z"
    },
    "papermill": {
     "duration": 55.954891,
     "end_time": "2022-06-22T14:12:10.337951",
     "exception": false,
     "start_time": "2022-06-22T14:11:14.383060",
     "status": "completed"
    },
    "tags": []
   },
   "outputs": [
    {
     "data": {
      "image/png": "[encoded data removed]",
      "text/plain": [
       "<Figure size 432x288 with 1 Axes>"
      ]
     },
     "metadata": {
      "needs_background": "light"
     },
     "output_type": "display_data"
    },
    {
     "data": {
      "image/png": "[encoded data removed]",
      "text/plain": [
       "<Figure size 432x288 with 1 Axes>"
      ]
     },
     "metadata": {
      "needs_background": "light"
     },
     "output_type": "display_data"
    }
   ],
   "source": [
    "#Training the ABC_GAN \n",
    "ABC_train_test2.training_GAN(disc,gen,disc_opt,gen_opt,train_data,batch_size,n_epochs,criterion,prior_model,variance,bias,device)"
   ]
  },
  {
   "cell_type": "code",
   "execution_count": 13,
   "id": "1fa7c368",
   "metadata": {
    "execution": {
     "iopub.execute_input": "2022-06-22T14:12:10.469993Z",
     "iopub.status.busy": "2022-06-22T14:12:10.469020Z",
     "iopub.status.idle": "2022-06-22T14:12:11.261662Z",
     "shell.execute_reply": "2022-06-22T14:12:11.262306Z"
    },
    "papermill": {
     "duration": 0.877562,
     "end_time": "2022-06-22T14:12:11.262670",
     "exception": false,
     "start_time": "2022-06-22T14:12:10.385108",
     "status": "completed"
    },
    "tags": []
   },
   "outputs": [
    {
     "data": {
      "application/scrapbook.scrap.json+json": {
       "data": 0.2843682035809649,
       "encoder": "json",
       "name": "ABC-GAN Model 1 MSE",
       "version": 1
      }
     },
     "metadata": {
      "scrapbook": {
       "data": true,
       "display": false,
       "name": "ABC-GAN Model 1 MSE"
      }
     },
     "output_type": "display_data"
    },
    {
     "data": {
      "application/scrapbook.scrap.json+json": {
       "data": 0.4553236228041351,
       "encoder": "json",
       "name": "ABC-GAN Model 1 MAE",
       "version": 1
      }
     },
     "metadata": {
      "scrapbook": {
       "data": true,
       "display": false,
       "name": "ABC-GAN Model 1 MAE"
      }
     },
     "output_type": "display_data"
    },
    {
     "data": {
      "application/scrapbook.scrap.json+json": {
       "data": 9.106472456082702,
       "encoder": "json",
       "name": "ABC-GAN Model 1 Manhattan Distance",
       "version": 1
      }
     },
     "metadata": {
      "scrapbook": {
       "data": true,
       "display": false,
       "name": "ABC-GAN Model 1 Manhattan Distance"
      }
     },
     "output_type": "display_data"
    },
    {
     "data": {
      "application/scrapbook.scrap.json+json": {
       "data": 2.383697953216034,
       "encoder": "json",
       "name": "ABC-GAN Model 1 Euclidean distance",
       "version": 1
      }
     },
     "metadata": {
      "scrapbook": {
       "data": true,
       "display": false,
       "name": "ABC-GAN Model 1 Euclidean distance"
      }
     },
     "output_type": "display_data"
    },
    {
     "data": {
      "application/scrapbook.scrap.json+json": {
       "data": [
        [
         0.27932390883666,
         0.31798508544132137,
         0.2804764665794785,
         0.2963226896710526,
         0.2714951926690643,
         0.2766322628169577,
         0.27665285394540534,
         0.29737755490549433,
         0.2748715247001577,
         0.28242101255218105,
         0.2623068125435452,
         0.2833507823482413,
         0.3026681930499275,
         0.2933733807822211,
         0.27119286900284134,
         0.28954914808109805,
         0.3090032220089092,
         0.27448536047417327,
         0.28688804882017155,
         0.3163868481867521,
         0.25140876371339427,
         0.3041625439398704,
         0.2778491497347149,
         0.26346707287576043,
         0.30091253544617985,
         0.28478695022080086,
         0.2838452925783133,
         0.2862008024115588,
         0.2722534701814497,
         0.26115044712271684,
         0.25955782653291964,
         0.28770521018334355,
         0.2965688343043503,
         0.2894225102217,
         0.2764892713226164,
         0.29420177364632416,
         0.30238942741290903,
         0.27759692148758497,
         0.2715101658932065,
         0.28180875752051887,
         0.2805527936048505,
         0.2931805667463755,
         0.30909985449433863,
         0.2878976415504205,
         0.29727551583655304,
         0.3017186899975478,
         0.2943116438285277,
         0.26859224573023194,
         0.275640113272973,
         0.30669526954965115,
         0.3025230406131215,
         0.24508104840241188,
         0.2887737604680164,
         0.2760835932134177,
         0.2858469109117501,
         0.27075154826691417,
         0.2845984122503195,
         0.29035829274969155,
         0.28520277020985185,
         0.30550446203630266,
         0.2960312598911755,
         0.25084319903159324,
         0.29356165191704797,
         0.27241653528877446,
         0.26959835744552973,
         0.3219496916010213,
         0.295264035379995,
         0.2491901647966493,
         0.28298876392034306,
         0.3301608699382196,
         0.28418958518632664,
         0.26917623915045574,
         0.2782552622661487,
         0.2962892479660671,
         0.30019739847117255,
         0.26900636314878745,
         0.26801381083035103,
         0.26660571545777695,
         0.24826494378777522,
         0.27443480568355827,
         0.3298576989769997,
         0.2871848994893519,
         0.2872458682032517,
         0.2703323610873921,
         0.296011374868919,
         0.3179830499043196,
         0.2562081397763475,
         0.27537326797955436,
         0.26186857106546507,
         0.27177358332621215,
         0.28629265736958087,
         0.29219061703135063,
         0.2770993461492097,
         0.26659323341548324,
         0.292455132384293,
         0.26081345220927377,
         0.3017968186407958,
         0.29038551048825506,
         0.27422982940484875,
         0.30894792726766085
        ],
        [
         0.447600581496954,
         0.48132325559854505,
         0.4500154174864292,
         0.4721453718841076,
         0.44314281418919566,
         0.446426535397768,
         0.45288550332188604,
         0.4653304271399975,
         0.4488512597978115,
         0.4605607070028782,
         0.43965101465582845,
         0.4592022217810154,
         0.46973845586180685,
         0.46653842106461524,
         0.4377226121723652,
         0.45397005304694177,
         0.47678013518452644,
         0.438791149109602,
         0.4670778430998325,
         0.47285379841923714,
         0.4393553897738457,
         0.4595472149550915,
         0.4518355064094067,
         0.4375951953232288,
         0.4624332182109356,
         0.456899369508028,
         0.4648520089685917,
         0.45300602093338965,
         0.4555397816002369,
         0.4316272400319576,
         0.43402794376015663,
         0.46399921700358393,
         0.460528326779604,
         0.4591993324458599,
         0.4518161855638027,
         0.4735396854579449,
         0.4670065827667713,
         0.45132158920168874,
         0.45159544572234156,
         0.46101546213030814,
         0.45981966331601143,
         0.4664024315774441,
         0.46767766401171684,
         0.46047250255942346,
         0.4683947928249836,
         0.4626933462917805,
         0.463612512499094,
         0.4526128061115742,
         0.44428329840302466,
         0.4719507463276386,
         0.4671326048672199,
         0.4247665494680405,
         0.45981665775179864,
         0.4534101478755474,
         0.4616224877536297,
         0.4367794401943684,
         0.4440870076417923,
         0.44897769913077357,
         0.44622808173298834,
         0.4721587382256985,
         0.46855963990092275,
         0.4366986058652401,
         0.4595628060400486,
         0.4506332896649837,
         0.448822370916605,
         0.4833532728254795,
         0.46329102739691735,
         0.41930140629410745,
         0.44443817213177683,
         0.4914174146950245,
         0.4550218217074871,
         0.4552131500095129,
         0.45550631657242774,
         0.46163137033581736,
         0.46734074875712395,
         0.44578674510121347,
         0.4356492839753628,
         0.43767533972859385,
         0.4377469703555107,
         0.4465763568878174,
         0.4883322723209858,
         0.4630975745618343,
         0.45762265250086787,
         0.45615657046437263,
         0.46345420703291895,
         0.4720567800104618,
         0.4407266654074192,
         0.4414950482547283,
         0.4409023679792881,
         0.4468461386859417,
         0.4488004110753536,
         0.463537023216486,
         0.43613736853003504,
         0.43013748005032537,
         0.45919434949755666,
         0.4415599249303341,
         0.4665839709341526,
         0.4593489170074463,
         0.4556379206478596,
         0.4662610553205013
        ],
        [
         8.95201162993908,
         9.626465111970901,
         9.000308349728584,
         9.442907437682152,
         8.862856283783913,
         8.92853070795536,
         9.057710066437721,
         9.30660854279995,
         8.97702519595623,
         9.211214140057564,
         8.79302029311657,
         9.184044435620308,
         9.394769117236137,
         9.330768421292305,
         8.754452243447304,
         9.079401060938835,
         9.535602703690529,
         8.77582298219204,
         9.34155686199665,
         9.457075968384743,
         8.787107795476913,
         9.19094429910183,
         9.036710128188133,
         8.751903906464577,
         9.248664364218712,
         9.13798739016056,
         9.297040179371834,
         9.060120418667793,
         9.110795632004738,
         8.632544800639153,
         8.680558875203133,
         9.279984340071678,
         9.21056653559208,
         9.183986648917198,
         9.036323711276054,
         9.470793709158897,
         9.340131655335426,
         9.026431784033775,
         9.03190891444683,
         9.220309242606163,
         9.196393266320229,
         9.328048631548882,
         9.353553280234337,
         9.209450051188469,
         9.367895856499672,
         9.25386692583561,
         9.27225024998188,
         9.052256122231483,
         8.885665968060493,
         9.439014926552773,
         9.342652097344398,
         8.49533098936081,
         9.196333155035973,
         9.068202957510948,
         9.232449755072594,
         8.735588803887367,
         8.881740152835846,
         8.97955398261547,
         8.924561634659767,
         9.44317476451397,
         9.371192798018456,
         8.733972117304802,
         9.191256120800972,
         9.012665793299675,
         8.9764474183321,
         9.66706545650959,
         9.265820547938347,
         8.386028125882149,
         8.888763442635536,
         9.82834829390049,
         9.100436434149742,
         9.104263000190258,
         9.110126331448555,
         9.232627406716347,
         9.346814975142479,
         8.915734902024269,
         8.712985679507256,
         8.753506794571877,
         8.754939407110214,
         8.931527137756348,
         9.766645446419716,
         9.261951491236687,
         9.152453050017357,
         9.123131409287453,
         9.269084140658379,
         9.441135600209236,
         8.814533308148384,
         8.829900965094566,
         8.818047359585762,
         8.936922773718834,
         8.976008221507072,
         9.27074046432972,
         8.7227473706007,
         8.602749601006508,
         9.183886989951134,
         8.831198498606682,
         9.331679418683052,
         9.186978340148926,
         9.112758412957191,
         9.325221106410027
        ],
        [
         2.3635731798980117,
         2.5218449018181963,
         2.368444496202005,
         2.4344308972367754,
         2.3302154092232086,
         2.3521575747256294,
         2.352245114546549,
         2.4387601559214236,
         2.344659995394461,
         2.3766405388791174,
         2.290444553109921,
         2.380549442243287,
         2.460358482213222,
         2.4222856180980026,
         2.328917641321141,
         2.406446126889601,
         2.4859735397180285,
         2.3430124219652497,
         2.395362389368972,
         2.515499346796783,
         2.2423593098047165,
         2.4664247158179,
         2.357325390075434,
         2.295504619362638,
         2.453212324468389,
         2.3865747431027624,
         2.382625831213593,
         2.3924915983616697,
         2.333467249315703,
         2.285390326061248,
         2.2784109661468874,
         2.3987713946241045,
         2.435441784581805,
         2.4059198250220226,
         2.3515495798414134,
         2.4257030883697377,
         2.459225192669061,
         2.3562551707639177,
         2.330279665161272,
         2.374063004726365,
         2.3687667407528776,
         2.4214894868505024,
         2.4863622201696143,
         2.3995734685581955,
         2.438341714512357,
         2.456496244644179,
         2.426155987683099,
         2.317724080775069,
         2.3479357455985586,
         2.476672241333726,
         2.4597684468791834,
         2.213960471202735,
         2.403221839398171,
         2.3498237943021074,
         2.3910119653056947,
         2.3270219090799906,
         2.38578461831876,
         2.4098061861888045,
         2.388316437199442,
         2.4718594702624284,
         2.4332334860887292,
         2.2398357039372025,
         2.4230627392498443,
         2.334165955063069,
         2.322060970110517,
         2.537517257482287,
         2.430078333634515,
         2.232443346634576,
         2.379028221439767,
         2.569672624822935,
         2.384070406621108,
         2.320242397468229,
         2.3590475292632354,
         2.4342935236576015,
         2.4502954861451816,
         2.319510134268818,
         2.315227033490889,
         2.3091371351991072,
         2.228295060299579,
         2.34279664368702,
         2.568492550026181,
         2.3966013414389633,
         2.396855724499294,
         2.325219822242156,
         2.4331517620934333,
         2.5218368301867575,
         2.263661369447062,
         2.3467989601989956,
         2.288530406463786,
         2.331409802356558,
         2.3928754976788107,
         2.417397844920652,
         2.3541425026926883,
         2.309083079559864,
         2.418491812615015,
         2.2839152883120413,
         2.45681427316269,
         2.4099191292997992,
         2.341921558912035,
         2.485751102856683
        ]
       ],
       "encoder": "json",
       "name": "ABC_GAN_1 Metrics",
       "version": 1
      }
     },
     "metadata": {
      "scrapbook": {
       "data": true,
       "display": false,
       "name": "ABC_GAN_1 Metrics"
      }
     },
     "output_type": "display_data"
    },
    {
     "name": "stdout",
     "output_type": "stream",
     "text": [
      "MSE\n",
      "0.2843682035809649\n"
     ]
    }
   ],
   "source": [
    "ABC_GAN1_metrics=ABC_train_test2.test_generator(gen,test_data,prior_model,variance,bias,\"1\",device)\n",
    "sb.glue(\"ABC_GAN_1 Metrics\",ABC_GAN1_metrics)\n",
    "\n",
    "print(\"MSE\")\n",
    "print(mean(ABC_GAN1_metrics[0]))"
   ]
  },
  {
   "cell_type": "code",
   "execution_count": 14,
   "id": "eb22ce5c",
   "metadata": {
    "execution": {
     "iopub.execute_input": "2022-06-22T14:12:11.474114Z",
     "iopub.status.busy": "2022-06-22T14:12:11.470763Z",
     "iopub.status.idle": "2022-06-22T14:12:12.500826Z",
     "shell.execute_reply": "2022-06-22T14:12:12.502150Z"
    },
    "papermill": {
     "duration": 1.183377,
     "end_time": "2022-06-22T14:12:12.502404",
     "exception": false,
     "start_time": "2022-06-22T14:12:11.319027",
     "status": "completed"
    },
    "tags": []
   },
   "outputs": [
    {
     "data": {
      "image/png": "[encoded data removed]",
      "text/plain": [
       "<Figure size 432x288 with 1 Axes>"
      ]
     },
     "metadata": {
      "needs_background": "light"
     },
     "output_type": "display_data"
    },
    {
     "data": {
      "image/png": "[encoded data removed]",
      "text/plain": [
       "<Figure size 432x288 with 1 Axes>"
      ]
     },
     "metadata": {
      "needs_background": "light"
     },
     "output_type": "display_data"
    },
    {
     "data": {
      "image/png": "[encoded data removed]",
      "text/plain": [
       "<Figure size 432x288 with 1 Axes>"
      ]
     },
     "metadata": {
      "needs_background": "light"
     },
     "output_type": "display_data"
    },
    {
     "data": {
      "image/png": "[encoded data removed]",
      "text/plain": [
       "<Figure size 432x288 with 1 Axes>"
      ]
     },
     "metadata": {
      "needs_background": "light"
     },
     "output_type": "display_data"
    }
   ],
   "source": [
    "sanityChecks.discProbVsError(train_data,disc,device)\n",
    "sanityChecks.discProbVsError(test_data,disc,device)"
   ]
  },
  {
   "cell_type": "markdown",
   "id": "130f3a4d",
   "metadata": {
    "id": "130f3a4d",
    "papermill": {
     "duration": 0.073428,
     "end_time": "2022-06-22T14:12:12.653374",
     "exception": false,
     "start_time": "2022-06-22T14:12:12.579946",
     "status": "completed"
    },
    "tags": []
   },
   "source": [
    "# ABC - GAN Model with skip connection"
   ]
  },
  {
   "cell_type": "code",
   "execution_count": 15,
   "id": "4e43dad1",
   "metadata": {
    "execution": {
     "iopub.execute_input": "2022-06-22T14:12:12.899876Z",
     "iopub.status.busy": "2022-06-22T14:12:12.893269Z",
     "iopub.status.idle": "2022-06-22T14:12:12.901593Z",
     "shell.execute_reply": "2022-06-22T14:12:12.900866Z"
    },
    "id": "4e43dad1",
    "papermill": {
     "duration": 0.146424,
     "end_time": "2022-06-22T14:12:12.901807",
     "exception": false,
     "start_time": "2022-06-22T14:12:12.755383",
     "status": "completed"
    },
    "tags": []
   },
   "outputs": [],
   "source": [
    "#Generator\n",
    "gen3 = network.GeneratorWithSkipConnection(n_features+1).to(device)\n",
    "constraints=network.weightConstraint()\n",
    "#Discriminator \n",
    "disc3 = network.Discriminator(n_features+1).to(device)\n",
    "\n",
    "criterion = torch.nn.BCELoss()\n",
    "gen_opt = torch.optim.Adam(gen3.parameters(), lr=0.001, betas=(0.5, 0.999))\n",
    "disc_opt = torch.optim.Adam(disc3.parameters(), lr=0.001, betas=(0.5, 0.999))\n"
   ]
  },
  {
   "cell_type": "code",
   "execution_count": 16,
   "id": "26acbc37",
   "metadata": {
    "execution": {
     "iopub.execute_input": "2022-06-22T14:12:13.050435Z",
     "iopub.status.busy": "2022-06-22T14:12:13.049657Z",
     "iopub.status.idle": "2022-06-22T14:13:43.286149Z",
     "shell.execute_reply": "2022-06-22T14:13:43.286851Z"
    },
    "id": "26acbc37",
    "papermill": {
     "duration": 90.314042,
     "end_time": "2022-06-22T14:13:43.287057",
     "exception": false,
     "start_time": "2022-06-22T14:12:12.973015",
     "status": "completed"
    },
    "tags": []
   },
   "outputs": [
    {
     "data": {
      "image/png": "[encoded data removed]",
      "text/plain": [
       "<Figure size 432x288 with 1 Axes>"
      ]
     },
     "metadata": {
      "needs_background": "light"
     },
     "output_type": "display_data"
    },
    {
     "data": {
      "image/png": "[encoded data removed]",
      "text/plain": [
       "<Figure size 432x288 with 1 Axes>"
      ]
     },
     "metadata": {
      "needs_background": "light"
     },
     "output_type": "display_data"
    }
   ],
   "source": [
    "ABC_train_test2.training_GAN_skip_connection(disc3,gen3,disc_opt,gen_opt,train_data,batch_size,n_epochs,criterion,prior_model,variance,bias,device)"
   ]
  },
  {
   "cell_type": "code",
   "execution_count": 17,
   "id": "c5e0717b",
   "metadata": {
    "execution": {
     "iopub.execute_input": "2022-06-22T14:13:43.440543Z",
     "iopub.status.busy": "2022-06-22T14:13:43.437243Z",
     "iopub.status.idle": "2022-06-22T14:13:44.507024Z",
     "shell.execute_reply": "2022-06-22T14:13:44.507781Z"
    },
    "id": "c5e0717b",
    "papermill": {
     "duration": 1.167978,
     "end_time": "2022-06-22T14:13:44.508128",
     "exception": false,
     "start_time": "2022-06-22T14:13:43.340150",
     "status": "completed"
    },
    "tags": []
   },
   "outputs": [
    {
     "data": {
      "application/scrapbook.scrap.json+json": {
       "data": 0.23946388469813323,
       "encoder": "json",
       "name": "ABC-GAN Model 3 MSE",
       "version": 1
      }
     },
     "metadata": {
      "scrapbook": {
       "data": true,
       "display": false,
       "name": "ABC-GAN Model 3 MSE"
      }
     },
     "output_type": "display_data"
    },
    {
     "data": {
      "application/scrapbook.scrap.json+json": {
       "data": 0.4125578285716474,
       "encoder": "json",
       "name": "ABC-GAN Model 3 MAE",
       "version": 1
      }
     },
     "metadata": {
      "scrapbook": {
       "data": true,
       "display": false,
       "name": "ABC-GAN Model 3 MAE"
      }
     },
     "output_type": "display_data"
    },
    {
     "data": {
      "application/scrapbook.scrap.json+json": {
       "data": 8.251156571432949,
       "encoder": "json",
       "name": "ABC-GAN Model 3 Manhattan Distance",
       "version": 1
      }
     },
     "metadata": {
      "scrapbook": {
       "data": true,
       "display": false,
       "name": "ABC-GAN Model 3 Manhattan Distance"
      }
     },
     "output_type": "display_data"
    },
    {
     "data": {
      "application/scrapbook.scrap.json+json": {
       "data": 2.187680015584225,
       "encoder": "json",
       "name": "ABC-GAN Model 3 Euclidean distance",
       "version": 1
      }
     },
     "metadata": {
      "scrapbook": {
       "data": true,
       "display": false,
       "name": "ABC-GAN Model 3 Euclidean distance"
      }
     },
     "output_type": "display_data"
    },
    {
     "data": {
      "application/scrapbook.scrap.json+json": {
       "data": [
        [
         0.2442825667104352,
         0.24980793968617307,
         0.2171324837295156,
         0.23701662377777097,
         0.236017255151897,
         0.23347525585167167,
         0.23233112661407032,
         0.23013765883747234,
         0.23031654930579948,
         0.23807490737989082,
         0.24292676090632007,
         0.2303617512715984,
         0.223664873197882,
         0.23747525882274786,
         0.23404983560962817,
         0.23197389891442124,
         0.2448616662131063,
         0.22306717309768537,
         0.2524112815815246,
         0.21874801757559786,
         0.22527323054362225,
         0.2494590009555652,
         0.2464801682865838,
         0.2573086870867104,
         0.2382109372255027,
         0.22553573973653696,
         0.24497170952986203,
         0.23959663546467347,
         0.24123737487654023,
         0.23385666301948937,
         0.21191127680386787,
         0.24435420153633683,
         0.2584171198010011,
         0.22612652535097638,
         0.2662677141566411,
         0.24698421560597214,
         0.23594529201914663,
         0.23967923758907111,
         0.2646264741837486,
         0.24548340986529604,
         0.23346003701375065,
         0.2439850231590346,
         0.22695517054787903,
         0.24694808806103835,
         0.23930744899217243,
         0.23104035095280245,
         0.25758111355391283,
         0.2344197672083578,
         0.24909204930302464,
         0.23025364666980558,
         0.23688451915769354,
         0.2477991854978797,
         0.22024137767171031,
         0.2438146315109368,
         0.24029807511168738,
         0.22887761527547074,
         0.23851182516401687,
         0.27290058083967406,
         0.24135767479896134,
         0.26564464197771215,
         0.22836501459752162,
         0.23433171997084842,
         0.22081710669084584,
         0.2487959766771529,
         0.23288787668809613,
         0.2683035122030702,
         0.24049754609864663,
         0.2327027237377227,
         0.21663083798398514,
         0.22774568167299644,
         0.24291058867612586,
         0.23086556261266108,
         0.23753005021074744,
         0.26018604874064455,
         0.24565269545917895,
         0.23337095547759068,
         0.24788319402348336,
         0.26230802237702394,
         0.21990371603712483,
         0.2599661235105409,
         0.24174954896417566,
         0.2283868782229371,
         0.24380995371463846,
         0.21858074259409338,
         0.23604503101944366,
         0.22661264436827117,
         0.23928968974617706,
         0.2403081105545978,
         0.2448245883017668,
         0.23806118917287225,
         0.23149827139841825,
         0.23320106852917383,
         0.24192508738270302,
         0.27454048256505903,
         0.2262521680459464,
         0.24554611190009062,
         0.23726647390431482,
         0.25952929172797273,
         0.2446608830322063,
         0.2434139808825849
        ],
        [
         0.4213093563914299,
         0.423442479968071,
         0.39749334044754503,
         0.4023197144269943,
         0.4105752483010292,
         0.4134852595627308,
         0.40048309713602065,
         0.408206045627594,
         0.3968267310410738,
         0.41890219748020174,
         0.4136535689234734,
         0.4125025663524866,
         0.40323478654026984,
         0.41032476499676707,
         0.4066725119948387,
         0.40753940418362616,
         0.41334909461438657,
         0.394749092310667,
         0.4243353120982647,
         0.39425485730171206,
         0.3977990746498108,
         0.41229566633701326,
         0.41962864696979524,
         0.4163276329636574,
         0.41453483179211614,
         0.39809088334441184,
         0.41795112155377867,
         0.4171255145221949,
         0.4259427595883608,
         0.418333874642849,
         0.3920974276959896,
         0.41485284343361856,
         0.4224608764052391,
         0.3991600438952446,
         0.4375909086316824,
         0.41158617958426474,
         0.4062411978840828,
         0.4119537755846977,
         0.4288670435547829,
         0.41430469006299975,
         0.40986829102039335,
         0.41897116899490355,
         0.4002560891211033,
         0.41210429221391676,
         0.4166684925556183,
         0.4130802556872368,
         0.42278106436133384,
         0.40268830955028534,
         0.4307948976755142,
         0.39721687585115434,
         0.40449248999357224,
         0.4192623648792505,
         0.39980095624923706,
         0.4180764455348253,
         0.41582099795341493,
         0.41043446213006973,
         0.42079800367355347,
         0.4446269355714321,
         0.4156397461891174,
         0.4358646716922522,
         0.40165785923600195,
         0.40877317637205124,
         0.3979641556739807,
         0.4137679345905781,
         0.40727441757917404,
         0.44553833492100237,
         0.4267794109880924,
         0.41189499050378797,
         0.39561314284801485,
         0.41322951689362525,
         0.41457447335124015,
         0.4099320784211159,
         0.41531524658203123,
         0.431204180046916,
         0.4202724888920784,
         0.39527230709791183,
         0.4185917355120182,
         0.43051853850483895,
         0.4007708702236414,
         0.4290847070515156,
         0.4161545403301716,
         0.40356035232543946,
         0.4169257663190365,
         0.39540492221713064,
         0.4019004501402378,
         0.4101546786725521,
         0.41773956045508387,
         0.41255231872200965,
         0.411867293715477,
         0.4089427299797535,
         0.4075905054807663,
         0.3991076976060867,
         0.39929966554045676,
         0.4306389957666397,
         0.40246159881353377,
         0.41565126553177834,
         0.3986361354589462,
         0.4245942637324333,
         0.42273410223424435,
         0.41178521513938904
        ],
        [
         8.426187127828598,
         8.46884959936142,
         7.949866808950901,
         8.046394288539886,
         8.211504966020584,
         8.269705191254616,
         8.009661942720413,
         8.16412091255188,
         7.936534620821476,
         8.378043949604034,
         8.273071378469467,
         8.250051327049732,
         8.064695730805397,
         8.20649529993534,
         8.133450239896774,
         8.150788083672523,
         8.266981892287731,
         7.894981846213341,
         8.486706241965294,
         7.885097146034241,
         7.955981492996216,
         8.245913326740265,
         8.392572939395905,
         8.326552659273148,
         8.290696635842323,
         7.961817666888237,
         8.359022431075573,
         8.342510290443897,
         8.518855191767216,
         8.36667749285698,
         7.841948553919792,
         8.297056868672371,
         8.449217528104782,
         7.983200877904892,
         8.751818172633648,
         8.231723591685295,
         8.124823957681656,
         8.239075511693954,
         8.577340871095657,
         8.286093801259995,
         8.197365820407867,
         8.379423379898071,
         8.005121782422066,
         8.242085844278336,
         8.333369851112366,
         8.261605113744736,
         8.455621287226677,
         8.053766191005707,
         8.615897953510284,
         7.9443375170230865,
         8.089849799871445,
         8.38524729758501,
         7.996019124984741,
         8.361528910696507,
         8.316419959068298,
         8.208689242601395,
         8.41596007347107,
         8.892538711428642,
         8.312794923782349,
         8.717293433845043,
         8.03315718472004,
         8.175463527441025,
         7.959283113479614,
         8.275358691811562,
         8.14548835158348,
         8.910766698420048,
         8.535588219761848,
         8.23789981007576,
         7.912262856960297,
         8.264590337872505,
         8.291489467024803,
         8.198641568422318,
         8.306304931640625,
         8.62408360093832,
         8.405449777841568,
         7.905446141958237,
         8.371834710240364,
         8.610370770096779,
         8.015417404472828,
         8.581694141030312,
         8.323090806603432,
         8.071207046508789,
         8.33851532638073,
         7.908098444342613,
         8.038009002804756,
         8.203093573451042,
         8.354791209101677,
         8.251046374440193,
         8.23734587430954,
         8.17885459959507,
         8.151810109615326,
         7.982153952121735,
         7.985993310809135,
         8.612779915332794,
         8.049231976270676,
         8.313025310635567,
         7.972722709178925,
         8.491885274648666,
         8.454682044684887,
         8.23570430278778
        ],
        [
         2.210350952724183,
         2.235208892636986,
         2.0839025108172198,
         2.177230459908969,
         2.172635520062659,
         2.160903773200795,
         2.155602591453584,
         2.1454028005830157,
         2.146236470223165,
         2.182085733328967,
         2.204208524193299,
         2.1464470702609852,
         2.1150171308898753,
         2.179335948507012,
         2.163561118201324,
         2.153944748197693,
         2.2129693455315023,
         2.112189258081223,
         2.246825678959205,
         2.0916405885122704,
         2.1226079739020216,
         2.233647245898802,
         2.2202710117757416,
         2.2685179615189752,
         2.1827090379869816,
         2.1238443433384515,
         2.2134665551115154,
         2.1890483570020716,
         2.196530786838829,
         2.162668088355166,
         2.0586951051764215,
         2.210675016986155,
         2.2733988642603,
         2.126624204465737,
         2.3076729151101163,
         2.2225400586084927,
         2.1723042697520376,
         2.1894256671057417,
         2.3005498220371083,
         2.2157771091212943,
         2.1608333439381697,
         2.209004405423559,
         2.1305171698340244,
         2.2223775019606293,
         2.187726897911037,
         2.1496062474453432,
         2.2697185444627834,
         2.165270270466751,
         2.232003805117835,
         2.145943366772784,
         2.176623620002749,
         2.226203878794032,
         2.098768103777596,
         2.2082329202823545,
         2.192250328368945,
         2.139521513214909,
         2.1840871098196466,
         2.336238775637773,
         2.1970784000529493,
         2.304971331612227,
         2.137124304281441,
         2.164863598339851,
         2.1015094893473396,
         2.230676922717196,
         2.1581838507786872,
         2.3164779826411914,
         2.1931600310905113,
         2.1573257692695496,
         2.0814938769258253,
         2.1342243634304077,
         2.2041351531887776,
         2.148792975661737,
         2.1795873472322573,
         2.281166581995469,
         2.216540978458007,
         2.160421049136444,
         2.22658120904441,
         2.2904498351940563,
         2.097158630324014,
         2.2802022871251615,
         2.198861291506018,
         2.137226605781133,
         2.208211736743732,
         2.0908407045688264,
         2.172763360421211,
         2.128908849003504,
         2.1876457197004138,
         2.1922961047933183,
         2.2128017909508606,
         2.1820228650171027,
         2.151735445627172,
         2.159634545608001,
         2.199659461747218,
         2.343247671779742,
         2.1272149305885684,
         2.2160600709371154,
         2.1783777170376806,
         2.278285722766013,
         2.2120618573277118,
         2.2064178248128115
        ]
       ],
       "encoder": "json",
       "name": "ABC_GAN_3 Metrics",
       "version": 1
      }
     },
     "metadata": {
      "scrapbook": {
       "data": true,
       "display": false,
       "name": "ABC_GAN_3 Metrics"
      }
     },
     "output_type": "display_data"
    },
    {
     "name": "stdout",
     "output_type": "stream",
     "text": [
      "MSE\n",
      "0.23946388469813323\n"
     ]
    }
   ],
   "source": [
    "ABC_GAN3_metrics=ABC_train_test2.test_generator(gen3,test_data,prior_model,variance,bias,\"3\",device)\n",
    "sb.glue(\"ABC_GAN_3 Metrics\",ABC_GAN3_metrics)\n",
    "\n",
    "print(\"MSE\")\n",
    "print(mean(ABC_GAN3_metrics[0]))"
   ]
  },
  {
   "cell_type": "code",
   "execution_count": 18,
   "id": "c8e46b48",
   "metadata": {
    "execution": {
     "iopub.execute_input": "2022-06-22T14:13:44.687956Z",
     "iopub.status.busy": "2022-06-22T14:13:44.687090Z",
     "iopub.status.idle": "2022-06-22T14:13:45.698860Z",
     "shell.execute_reply": "2022-06-22T14:13:45.698263Z"
    },
    "id": "c8e46b48",
    "papermill": {
     "duration": 1.106334,
     "end_time": "2022-06-22T14:13:45.699202",
     "exception": false,
     "start_time": "2022-06-22T14:13:44.592868",
     "status": "completed"
    },
    "tags": []
   },
   "outputs": [
    {
     "data": {
      "image/png": "[encoded data removed]",
      "text/plain": [
       "<Figure size 432x288 with 1 Axes>"
      ]
     },
     "metadata": {
      "needs_background": "light"
     },
     "output_type": "display_data"
    },
    {
     "data": {
      "image/png": "[encoded data removed]",
      "text/plain": [
       "<Figure size 432x288 with 1 Axes>"
      ]
     },
     "metadata": {
      "needs_background": "light"
     },
     "output_type": "display_data"
    },
    {
     "data": {
      "image/png": "[encoded data removed]",
      "text/plain": [
       "<Figure size 432x288 with 1 Axes>"
      ]
     },
     "metadata": {
      "needs_background": "light"
     },
     "output_type": "display_data"
    },
    {
     "data": {
      "image/png": "[encoded data removed]",
      "text/plain": [
       "<Figure size 432x288 with 1 Axes>"
      ]
     },
     "metadata": {
      "needs_background": "light"
     },
     "output_type": "display_data"
    }
   ],
   "source": [
    "sanityChecks.discProbVsError(train_data,disc3,device)\n",
    "sanityChecks.discProbVsError(test_data,disc3,device)"
   ]
  },
  {
   "cell_type": "markdown",
   "id": "a5bd74c3",
   "metadata": {
    "id": "a5bd74c3",
    "papermill": {
     "duration": 0.062231,
     "end_time": "2022-06-22T14:13:45.818691",
     "exception": false,
     "start_time": "2022-06-22T14:13:45.756460",
     "status": "completed"
    },
    "tags": []
   },
   "source": [
    "## Skip Connection Model Analysis - ABC-GAN "
   ]
  },
  {
   "cell_type": "markdown",
   "id": "5744a8bf",
   "metadata": {
    "id": "5744a8bf",
    "papermill": {
     "duration": 0.065209,
     "end_time": "2022-06-22T14:13:45.945904",
     "exception": false,
     "start_time": "2022-06-22T14:13:45.880695",
     "status": "completed"
    },
    "tags": []
   },
   "source": [
    "### Weight Analysis \n",
    "\n",
    "Study the weights of the skip connection layer\n",
    "\n",
    "Equation of the skip connection is \n",
    "\n",
    "$output = y_{gan} * w + y_{abc} * (1-w)$"
   ]
  },
  {
   "cell_type": "code",
   "execution_count": 19,
   "id": "52c31dea",
   "metadata": {
    "execution": {
     "iopub.execute_input": "2022-06-22T14:13:46.086371Z",
     "iopub.status.busy": "2022-06-22T14:13:46.082866Z",
     "iopub.status.idle": "2022-06-22T14:13:46.092270Z",
     "shell.execute_reply": "2022-06-22T14:13:46.093224Z"
    },
    "id": "52c31dea",
    "papermill": {
     "duration": 0.090604,
     "end_time": "2022-06-22T14:13:46.093777",
     "exception": false,
     "start_time": "2022-06-22T14:13:46.003173",
     "status": "completed"
    },
    "tags": []
   },
   "outputs": [
    {
     "name": "stdout",
     "output_type": "stream",
     "text": [
      "Weight of the node at skip connection\n",
      "Parameter containing:\n",
      "tensor([[0.7546]], requires_grad=True)\n"
     ]
    },
    {
     "data": {
      "application/scrapbook.scrap.json+json": {
       "data": 0.7546389698982239,
       "encoder": "json",
       "name": "Skip Connection Weight",
       "version": 1
      }
     },
     "metadata": {
      "scrapbook": {
       "data": true,
       "display": false,
       "name": "Skip Connection Weight"
      }
     },
     "output_type": "display_data"
    }
   ],
   "source": [
    "print(\"Weight of the node at skip connection\")\n",
    "for name,param in gen3.named_parameters():\n",
    "    if(name == \"skipNode.weight\"):\n",
    "        print(param)\n",
    "        sb.glue(\"Skip Connection Weight\",param.item())"
   ]
  }
 ],
 "metadata": {
  "colab": {
   "collapsed_sections": [],
   "name": "ABC_GAN_Model-Catboost_Pre-gen.ipynb",
   "provenance": []
  },
  "interpreter": {
   "hash": "31f2aee4e71d21fbe5cf8b01ff0e069b9275f58929596ceb00d14d90e3e16cd6"
  },
  "kernelspec": {
   "display_name": "Python 3 (ipykernel)",
   "language": "python",
   "name": "python3"
  },
  "language_info": {
   "codemirror_mode": {
    "name": "ipython",
    "version": 3
   },
   "file_extension": ".py",
   "mimetype": "text/x-python",
   "name": "python",
   "nbconvert_exporter": "python",
   "pygments_lexer": "ipython3",
   "version": "3.8.3"
  },
  "papermill": {
   "default_parameters": {},
   "duration": 182.166973,
   "end_time": "2022-06-22T14:13:47.228575",
   "environment_variables": {},
   "exception": null,
   "input_path": "ABC_GAN-TabNet.ipynb",
   "output_path": "./ABC_GAN_TabNet/ABC-GAN_output_6_1.ipynb",
   "parameters": {
    "bias": 1,
    "variance": 0.1
   },
   "start_time": "2022-06-22T14:10:45.061602",
   "version": "2.3.3"
  }
 },
 "nbformat": 4,
 "nbformat_minor": 5
}