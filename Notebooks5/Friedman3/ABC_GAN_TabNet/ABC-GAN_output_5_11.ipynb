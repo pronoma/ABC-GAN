{
 "cells": [
  {
   "cell_type": "markdown",
   "id": "622780e6",
   "metadata": {
    "id": "622780e6",
    "papermill": {
     "duration": 0.059509,
     "end_time": "2022-06-22T14:04:44.187187",
     "exception": false,
     "start_time": "2022-06-22T14:04:44.127678",
     "status": "completed"
    },
    "tags": []
   },
   "source": [
    "## Import Libraries "
   ]
  },
  {
   "cell_type": "code",
   "execution_count": 1,
   "id": "a62397e3",
   "metadata": {
    "execution": {
     "iopub.execute_input": "2022-06-22T14:04:44.292083Z",
     "iopub.status.busy": "2022-06-22T14:04:44.290485Z",
     "iopub.status.idle": "2022-06-22T14:04:44.296412Z",
     "shell.execute_reply": "2022-06-22T14:04:44.291369Z"
    },
    "id": "a62397e3",
    "papermill": {
     "duration": 0.052726,
     "end_time": "2022-06-22T14:04:44.296758",
     "exception": false,
     "start_time": "2022-06-22T14:04:44.244032",
     "status": "completed"
    },
    "tags": []
   },
   "outputs": [],
   "source": [
    "import warnings\n",
    "import sys\n",
    "sys.path.insert(0, '../../src')\n",
    "warnings.filterwarnings('ignore')"
   ]
  },
  {
   "cell_type": "code",
   "execution_count": 2,
   "id": "d6a4e155",
   "metadata": {
    "execution": {
     "iopub.execute_input": "2022-06-22T14:04:44.340201Z",
     "iopub.status.busy": "2022-06-22T14:04:44.338807Z",
     "iopub.status.idle": "2022-06-22T14:04:51.057041Z",
     "shell.execute_reply": "2022-06-22T14:04:51.057607Z"
    },
    "id": "d6a4e155",
    "papermill": {
     "duration": 6.744232,
     "end_time": "2022-06-22T14:04:51.057844",
     "exception": false,
     "start_time": "2022-06-22T14:04:44.313612",
     "status": "completed"
    },
    "tags": []
   },
   "outputs": [],
   "source": [
    "import ABC_train_test2\n",
    "import friedman3Dataset\n",
    "import network\n",
    "import dataset\n",
    "import sanityChecks\n",
    "import torch \n",
    "import scrapbook as sb\n",
    "from statistics import mean \n",
    "import catboost as ctb \n",
    "from sklearn.model_selection import train_test_split\n",
    "from sklearn.metrics import mean_squared_error,mean_absolute_error\n",
    "import numpy as np\n",
    "from pytorch_tabnet.tab_model import TabNetRegressor"
   ]
  },
  {
   "cell_type": "markdown",
   "id": "2fa5b0f7",
   "metadata": {
    "id": "2fa5b0f7",
    "papermill": {
     "duration": 0.01847,
     "end_time": "2022-06-22T14:04:51.094223",
     "exception": false,
     "start_time": "2022-06-22T14:04:51.075753",
     "status": "completed"
    },
    "tags": []
   },
   "source": [
    "## Parameters "
   ]
  },
  {
   "cell_type": "code",
   "execution_count": 3,
   "id": "783186fb",
   "metadata": {
    "execution": {
     "iopub.execute_input": "2022-06-22T14:04:51.140187Z",
     "iopub.status.busy": "2022-06-22T14:04:51.139402Z",
     "iopub.status.idle": "2022-06-22T14:04:51.141465Z",
     "shell.execute_reply": "2022-06-22T14:04:51.142117Z"
    },
    "id": "783186fb",
    "papermill": {
     "duration": 0.029799,
     "end_time": "2022-06-22T14:04:51.142513",
     "exception": false,
     "start_time": "2022-06-22T14:04:51.112714",
     "status": "completed"
    },
    "tags": [
     "parameters"
    ]
   },
   "outputs": [],
   "source": [
    "variance = 1\n",
    "bias = 1 "
   ]
  },
  {
   "cell_type": "code",
   "execution_count": 4,
   "id": "05c271cb",
   "metadata": {
    "execution": {
     "iopub.execute_input": "2022-06-22T14:04:51.181291Z",
     "iopub.status.busy": "2022-06-22T14:04:51.180439Z",
     "iopub.status.idle": "2022-06-22T14:04:51.182825Z",
     "shell.execute_reply": "2022-06-22T14:04:51.183444Z"
    },
    "papermill": {
     "duration": 0.023863,
     "end_time": "2022-06-22T14:04:51.183666",
     "exception": false,
     "start_time": "2022-06-22T14:04:51.159803",
     "status": "completed"
    },
    "tags": [
     "injected-parameters"
    ]
   },
   "outputs": [],
   "source": [
    "# Parameters\n",
    "variance = 0.01\n",
    "bias = 0\n"
   ]
  },
  {
   "cell_type": "markdown",
   "id": "391cdbfd",
   "metadata": {
    "id": "391cdbfd",
    "papermill": {
     "duration": 0.019294,
     "end_time": "2022-06-22T14:04:51.219280",
     "exception": false,
     "start_time": "2022-06-22T14:04:51.199986",
     "status": "completed"
    },
    "tags": []
   },
   "source": [
    "## Dataset \n"
   ]
  },
  {
   "cell_type": "code",
   "execution_count": 5,
   "id": "5b51f161",
   "metadata": {
    "execution": {
     "iopub.execute_input": "2022-06-22T14:04:51.285095Z",
     "iopub.status.busy": "2022-06-22T14:04:51.282720Z",
     "iopub.status.idle": "2022-06-22T14:04:51.289415Z",
     "shell.execute_reply": "2022-06-22T14:04:51.290329Z"
    },
    "id": "5b51f161",
    "papermill": {
     "duration": 0.055673,
     "end_time": "2022-06-22T14:04:51.290593",
     "exception": false,
     "start_time": "2022-06-22T14:04:51.234920",
     "status": "completed"
    },
    "tags": []
   },
   "outputs": [],
   "source": [
    "#Parameters \n",
    "n_features = 4\n",
    "n_samples= 100\n",
    "n_target = 1"
   ]
  },
  {
   "cell_type": "code",
   "execution_count": 6,
   "id": "5d6eced4",
   "metadata": {
    "execution": {
     "iopub.execute_input": "2022-06-22T14:04:51.360152Z",
     "iopub.status.busy": "2022-06-22T14:04:51.355468Z",
     "iopub.status.idle": "2022-06-22T14:04:51.371933Z",
     "shell.execute_reply": "2022-06-22T14:04:51.370432Z"
    },
    "id": "5d6eced4",
    "papermill": {
     "duration": 0.063525,
     "end_time": "2022-06-22T14:04:51.372191",
     "exception": false,
     "start_time": "2022-06-22T14:04:51.308666",
     "status": "completed"
    },
    "tags": []
   },
   "outputs": [
    {
     "name": "stdout",
     "output_type": "stream",
     "text": [
      "          X1           X2        X3        X4         Y\n",
      "0  55.605403  1138.144363  0.234903  6.006058  1.330188\n",
      "1  50.504144  1514.482511  0.960354  2.152246  1.616222\n",
      "2  77.010861  1153.456327  0.247442  3.897966  1.313175\n",
      "3  31.569110  1476.598926  0.529504  6.318840  1.533288\n",
      "4  43.184697   548.622543  0.184561  8.124638  1.017087\n"
     ]
    }
   ],
   "source": [
    "X,Y = friedman3Dataset.friedman3_data(n_samples)"
   ]
  },
  {
   "cell_type": "code",
   "execution_count": 7,
   "id": "fe007438",
   "metadata": {
    "execution": {
     "iopub.execute_input": "2022-06-22T14:04:51.426099Z",
     "iopub.status.busy": "2022-06-22T14:04:51.424712Z",
     "iopub.status.idle": "2022-06-22T14:04:51.429154Z",
     "shell.execute_reply": "2022-06-22T14:04:51.429751Z"
    },
    "id": "fe007438",
    "papermill": {
     "duration": 0.036012,
     "end_time": "2022-06-22T14:04:51.430044",
     "exception": false,
     "start_time": "2022-06-22T14:04:51.394032",
     "status": "completed"
    },
    "tags": []
   },
   "outputs": [],
   "source": [
    "#Train test split for dataset \n",
    "X_train,X_test,Y_train,Y_test = train_test_split(X,Y,test_size = 0.2)\n",
    "train_data = dataset.CustomDataset(X_train,Y_train)\n",
    "test_data = dataset.CustomDataset(X_test,Y_test)\n"
   ]
  },
  {
   "cell_type": "markdown",
   "id": "a9a1af34",
   "metadata": {
    "id": "a9a1af34",
    "papermill": {
     "duration": 0.022007,
     "end_time": "2022-06-22T14:04:51.470346",
     "exception": false,
     "start_time": "2022-06-22T14:04:51.448339",
     "status": "completed"
    },
    "tags": []
   },
   "source": [
    "## Training Parameters "
   ]
  },
  {
   "cell_type": "code",
   "execution_count": 8,
   "id": "952b7fc8",
   "metadata": {
    "execution": {
     "iopub.execute_input": "2022-06-22T14:04:51.521222Z",
     "iopub.status.busy": "2022-06-22T14:04:51.520252Z",
     "iopub.status.idle": "2022-06-22T14:04:51.522335Z",
     "shell.execute_reply": "2022-06-22T14:04:51.523284Z"
    },
    "id": "952b7fc8",
    "papermill": {
     "duration": 0.025095,
     "end_time": "2022-06-22T14:04:51.523531",
     "exception": false,
     "start_time": "2022-06-22T14:04:51.498436",
     "status": "completed"
    },
    "tags": []
   },
   "outputs": [],
   "source": [
    "batch_size = 32\n",
    "n_epochs = 1000\n",
    "#Select the device \n",
    "device = torch.device('cuda' if torch.cuda.is_available() else 'cpu')"
   ]
  },
  {
   "cell_type": "markdown",
   "id": "a95e1600",
   "metadata": {
    "id": "a95e1600",
    "papermill": {
     "duration": 0.016232,
     "end_time": "2022-06-22T14:04:51.561821",
     "exception": false,
     "start_time": "2022-06-22T14:04:51.545589",
     "status": "completed"
    },
    "tags": []
   },
   "source": [
    "# ABC Pre-generator Model \n",
    "\n",
    "1. The catboost model is used as a pre-generator model for the ABC-GAN. \n",
    "2. The model is first trained on the entire dataset \n",
    "3. It generats X,Y pairs and we add some Gaussian noise with mean 0 and variance 1 to it which is then feed as input to the generator.\n"
   ]
  },
  {
   "cell_type": "code",
   "execution_count": 9,
   "id": "ff8ce7bd",
   "metadata": {
    "execution": {
     "iopub.execute_input": "2022-06-22T14:04:51.620378Z",
     "iopub.status.busy": "2022-06-22T14:04:51.616632Z",
     "iopub.status.idle": "2022-06-22T14:05:08.305258Z",
     "shell.execute_reply": "2022-06-22T14:05:08.305777Z"
    },
    "id": "ff8ce7bd",
    "papermill": {
     "duration": 16.727952,
     "end_time": "2022-06-22T14:05:08.305996",
     "exception": false,
     "start_time": "2022-06-22T14:04:51.578044",
     "status": "completed"
    },
    "tags": []
   },
   "outputs": [
    {
     "name": "stdout",
     "output_type": "stream",
     "text": [
      "Device used : cpu\n"
     ]
    },
    {
     "name": "stdout",
     "output_type": "stream",
     "text": [
      "epoch 0  | loss: 1.40648 | train_mse: 6.29363 | train_mae: 1.89682 |  0:00:00s\n",
      "epoch 1  | loss: 0.75152 | train_mse: 2.46392 | train_mae: 1.15873 |  0:00:00s\n",
      "epoch 2  | loss: 0.61944 | train_mse: 3.10049 | train_mae: 1.30225 |  0:00:00s\n"
     ]
    },
    {
     "name": "stdout",
     "output_type": "stream",
     "text": [
      "epoch 3  | loss: 0.56737 | train_mse: 4.42188 | train_mae: 1.35589 |  0:00:00s\n",
      "epoch 4  | loss: 0.39533 | train_mse: 5.51344 | train_mae: 1.38556 |  0:00:00s\n",
      "epoch 5  | loss: 0.42025 | train_mse: 4.64602 | train_mae: 1.28646 |  0:00:00s\n"
     ]
    },
    {
     "name": "stdout",
     "output_type": "stream",
     "text": [
      "epoch 6  | loss: 0.27718 | train_mse: 4.34661 | train_mae: 1.27933 |  0:00:00s\n",
      "epoch 7  | loss: 0.45641 | train_mse: 3.94979 | train_mae: 1.23476 |  0:00:00s\n",
      "epoch 8  | loss: 0.34113 | train_mse: 2.70337 | train_mae: 1.05019 |  0:00:00s\n"
     ]
    },
    {
     "name": "stdout",
     "output_type": "stream",
     "text": [
      "epoch 9  | loss: 0.31775 | train_mse: 1.53319 | train_mae: 0.81254 |  0:00:01s\n",
      "epoch 10 | loss: 0.29442 | train_mse: 1.34128 | train_mae: 0.7517  |  0:00:01s\n",
      "epoch 11 | loss: 0.34688 | train_mse: 1.25383 | train_mae: 0.73787 |  0:00:01s\n"
     ]
    },
    {
     "name": "stdout",
     "output_type": "stream",
     "text": [
      "epoch 12 | loss: 0.28964 | train_mse: 1.11185 | train_mae: 0.71231 |  0:00:01s\n",
      "epoch 13 | loss: 0.42456 | train_mse: 1.06389 | train_mae: 0.65794 |  0:00:01s\n",
      "epoch 14 | loss: 0.35203 | train_mse: 0.73549 | train_mae: 0.58189 |  0:00:01s\n"
     ]
    },
    {
     "name": "stdout",
     "output_type": "stream",
     "text": [
      "epoch 15 | loss: 0.51865 | train_mse: 0.65293 | train_mae: 0.55797 |  0:00:01s\n",
      "epoch 16 | loss: 0.28198 | train_mse: 0.67079 | train_mae: 0.56906 |  0:00:01s\n",
      "epoch 17 | loss: 0.38286 | train_mse: 0.69804 | train_mae: 0.58187 |  0:00:01s\n"
     ]
    },
    {
     "name": "stdout",
     "output_type": "stream",
     "text": [
      "epoch 18 | loss: 0.34684 | train_mse: 0.5633  | train_mae: 0.50716 |  0:00:01s\n",
      "epoch 19 | loss: 0.22014 | train_mse: 0.54241 | train_mae: 0.48068 |  0:00:01s\n",
      "epoch 20 | loss: 0.36176 | train_mse: 0.36868 | train_mae: 0.41636 |  0:00:02s\n"
     ]
    },
    {
     "name": "stdout",
     "output_type": "stream",
     "text": [
      "epoch 21 | loss: 0.27745 | train_mse: 0.32568 | train_mae: 0.3977  |  0:00:02s\n",
      "epoch 22 | loss: 0.25764 | train_mse: 0.29117 | train_mae: 0.38796 |  0:00:02s\n",
      "epoch 23 | loss: 0.17492 | train_mse: 0.27009 | train_mae: 0.36768 |  0:00:02s\n"
     ]
    },
    {
     "name": "stdout",
     "output_type": "stream",
     "text": [
      "epoch 24 | loss: 0.26567 | train_mse: 0.30179 | train_mae: 0.38786 |  0:00:02s\n",
      "epoch 25 | loss: 0.33771 | train_mse: 0.23    | train_mae: 0.3497  |  0:00:02s\n",
      "epoch 26 | loss: 0.25344 | train_mse: 0.26938 | train_mae: 0.35865 |  0:00:02s\n"
     ]
    },
    {
     "name": "stdout",
     "output_type": "stream",
     "text": [
      "epoch 27 | loss: 0.34821 | train_mse: 0.35675 | train_mae: 0.37013 |  0:00:02s\n",
      "epoch 28 | loss: 0.34906 | train_mse: 0.28442 | train_mae: 0.35275 |  0:00:02s\n",
      "epoch 29 | loss: 0.28403 | train_mse: 0.23074 | train_mae: 0.33772 |  0:00:02s\n"
     ]
    },
    {
     "name": "stdout",
     "output_type": "stream",
     "text": [
      "epoch 30 | loss: 0.25257 | train_mse: 0.18292 | train_mae: 0.30027 |  0:00:02s\n",
      "epoch 31 | loss: 0.2727  | train_mse: 0.18326 | train_mae: 0.32812 |  0:00:03s\n",
      "epoch 32 | loss: 0.21223 | train_mse: 0.18707 | train_mae: 0.33094 |  0:00:03s\n"
     ]
    },
    {
     "name": "stdout",
     "output_type": "stream",
     "text": [
      "epoch 33 | loss: 0.16491 | train_mse: 0.21047 | train_mae: 0.33253 |  0:00:03s\n",
      "epoch 34 | loss: 0.20865 | train_mse: 0.15961 | train_mae: 0.2857  |  0:00:03s\n",
      "epoch 35 | loss: 0.29169 | train_mse: 0.18021 | train_mae: 0.29964 |  0:00:03s\n"
     ]
    },
    {
     "name": "stdout",
     "output_type": "stream",
     "text": [
      "epoch 36 | loss: 0.16462 | train_mse: 0.16014 | train_mae: 0.27432 |  0:00:03s\n",
      "epoch 37 | loss: 0.33232 | train_mse: 0.18054 | train_mae: 0.29113 |  0:00:03s\n"
     ]
    },
    {
     "name": "stdout",
     "output_type": "stream",
     "text": [
      "epoch 38 | loss: 0.27181 | train_mse: 0.13698 | train_mae: 0.26293 |  0:00:03s\n",
      "epoch 39 | loss: 0.27206 | train_mse: 0.11455 | train_mae: 0.2539  |  0:00:03s\n"
     ]
    },
    {
     "name": "stdout",
     "output_type": "stream",
     "text": [
      "epoch 40 | loss: 0.27367 | train_mse: 0.21447 | train_mae: 0.3086  |  0:00:03s\n",
      "epoch 41 | loss: 0.23233 | train_mse: 0.21943 | train_mae: 0.33628 |  0:00:03s\n",
      "epoch 42 | loss: 0.28157 | train_mse: 0.20074 | train_mae: 0.33195 |  0:00:04s\n",
      "epoch 43 | loss: 0.20809 | train_mse: 0.17878 | train_mae: 0.30943 |  0:00:04s\n"
     ]
    },
    {
     "name": "stdout",
     "output_type": "stream",
     "text": [
      "epoch 44 | loss: 0.26296 | train_mse: 0.1957  | train_mae: 0.32248 |  0:00:04s\n",
      "epoch 45 | loss: 0.20688 | train_mse: 0.12493 | train_mae: 0.26055 |  0:00:04s\n"
     ]
    },
    {
     "name": "stdout",
     "output_type": "stream",
     "text": [
      "epoch 46 | loss: 0.21939 | train_mse: 0.12385 | train_mae: 0.25452 |  0:00:04s\n",
      "epoch 47 | loss: 0.17752 | train_mse: 0.11075 | train_mae: 0.24746 |  0:00:04s\n"
     ]
    },
    {
     "name": "stdout",
     "output_type": "stream",
     "text": [
      "epoch 48 | loss: 0.15158 | train_mse: 0.09857 | train_mae: 0.24518 |  0:00:04s\n",
      "epoch 49 | loss: 0.2767  | train_mse: 0.10406 | train_mae: 0.24997 |  0:00:04s\n"
     ]
    },
    {
     "name": "stdout",
     "output_type": "stream",
     "text": [
      "epoch 50 | loss: 0.14239 | train_mse: 0.13671 | train_mae: 0.27988 |  0:00:04s\n",
      "epoch 51 | loss: 0.15212 | train_mse: 0.12809 | train_mae: 0.28333 |  0:00:04s\n"
     ]
    },
    {
     "name": "stdout",
     "output_type": "stream",
     "text": [
      "epoch 52 | loss: 0.23676 | train_mse: 0.1463  | train_mae: 0.30186 |  0:00:05s\n",
      "epoch 53 | loss: 0.25547 | train_mse: 0.16062 | train_mae: 0.30617 |  0:00:05s\n",
      "epoch 54 | loss: 0.24654 | train_mse: 0.14559 | train_mae: 0.29359 |  0:00:05s\n"
     ]
    },
    {
     "name": "stdout",
     "output_type": "stream",
     "text": [
      "epoch 55 | loss: 0.23687 | train_mse: 0.13867 | train_mae: 0.28375 |  0:00:05s\n",
      "epoch 56 | loss: 0.15299 | train_mse: 0.10553 | train_mae: 0.25012 |  0:00:05s\n",
      "epoch 57 | loss: 0.24897 | train_mse: 0.11725 | train_mae: 0.26583 |  0:00:05s\n"
     ]
    },
    {
     "name": "stdout",
     "output_type": "stream",
     "text": [
      "epoch 58 | loss: 0.13691 | train_mse: 0.11297 | train_mae: 0.2551  |  0:00:05s\n",
      "epoch 59 | loss: 0.35405 | train_mse: 0.11458 | train_mae: 0.26244 |  0:00:05s\n",
      "epoch 60 | loss: 0.13785 | train_mse: 0.12355 | train_mae: 0.26794 |  0:00:05s\n"
     ]
    },
    {
     "name": "stdout",
     "output_type": "stream",
     "text": [
      "epoch 61 | loss: 0.16787 | train_mse: 0.14517 | train_mae: 0.29404 |  0:00:05s\n",
      "epoch 62 | loss: 0.32388 | train_mse: 0.13004 | train_mae: 0.28027 |  0:00:05s\n",
      "epoch 63 | loss: 0.16734 | train_mse: 0.1411  | train_mae: 0.28335 |  0:00:06s\n"
     ]
    },
    {
     "name": "stdout",
     "output_type": "stream",
     "text": [
      "epoch 64 | loss: 0.19115 | train_mse: 0.16637 | train_mae: 0.29888 |  0:00:06s\n",
      "epoch 65 | loss: 0.127   | train_mse: 0.11174 | train_mae: 0.25207 |  0:00:06s\n",
      "epoch 66 | loss: 0.21683 | train_mse: 0.09172 | train_mae: 0.22359 |  0:00:06s\n"
     ]
    },
    {
     "name": "stdout",
     "output_type": "stream",
     "text": [
      "epoch 67 | loss: 0.14746 | train_mse: 0.09026 | train_mae: 0.22    |  0:00:06s\n",
      "epoch 68 | loss: 0.19655 | train_mse: 0.09953 | train_mae: 0.23576 |  0:00:06s\n",
      "epoch 69 | loss: 0.15258 | train_mse: 0.10206 | train_mae: 0.23049 |  0:00:06s\n"
     ]
    },
    {
     "name": "stdout",
     "output_type": "stream",
     "text": [
      "epoch 70 | loss: 0.13875 | train_mse: 0.09784 | train_mae: 0.23374 |  0:00:06s\n",
      "epoch 71 | loss: 0.27192 | train_mse: 0.11727 | train_mae: 0.25518 |  0:00:06s\n",
      "epoch 72 | loss: 0.17291 | train_mse: 0.10177 | train_mae: 0.24188 |  0:00:06s\n"
     ]
    },
    {
     "name": "stdout",
     "output_type": "stream",
     "text": [
      "epoch 73 | loss: 0.13797 | train_mse: 0.10527 | train_mae: 0.24421 |  0:00:06s\n",
      "epoch 74 | loss: 0.1559  | train_mse: 0.10772 | train_mae: 0.24049 |  0:00:06s\n",
      "epoch 75 | loss: 0.11534 | train_mse: 0.12145 | train_mae: 0.25564 |  0:00:07s\n"
     ]
    },
    {
     "name": "stdout",
     "output_type": "stream",
     "text": [
      "epoch 76 | loss: 0.30881 | train_mse: 0.12672 | train_mae: 0.26787 |  0:00:07s\n",
      "epoch 77 | loss: 0.2131  | train_mse: 0.12167 | train_mae: 0.26047 |  0:00:07s\n",
      "epoch 78 | loss: 0.26395 | train_mse: 0.11738 | train_mae: 0.25038 |  0:00:07s\n"
     ]
    },
    {
     "name": "stdout",
     "output_type": "stream",
     "text": [
      "epoch 79 | loss: 0.16041 | train_mse: 0.10078 | train_mae: 0.22643 |  0:00:07s\n",
      "epoch 80 | loss: 0.19472 | train_mse: 0.11458 | train_mae: 0.24675 |  0:00:07s\n",
      "epoch 81 | loss: 0.10391 | train_mse: 0.13164 | train_mae: 0.27527 |  0:00:07s\n"
     ]
    },
    {
     "name": "stdout",
     "output_type": "stream",
     "text": [
      "epoch 82 | loss: 0.16343 | train_mse: 0.14285 | train_mae: 0.29028 |  0:00:07s\n",
      "epoch 83 | loss: 0.18084 | train_mse: 0.15891 | train_mae: 0.30029 |  0:00:07s\n",
      "epoch 84 | loss: 0.19614 | train_mse: 0.14743 | train_mae: 0.2858  |  0:00:07s\n"
     ]
    },
    {
     "name": "stdout",
     "output_type": "stream",
     "text": [
      "epoch 85 | loss: 0.21527 | train_mse: 0.12291 | train_mae: 0.26112 |  0:00:07s\n",
      "epoch 86 | loss: 0.10517 | train_mse: 0.10846 | train_mae: 0.24121 |  0:00:08s\n",
      "epoch 87 | loss: 0.09016 | train_mse: 0.0996  | train_mae: 0.22832 |  0:00:08s\n"
     ]
    },
    {
     "name": "stdout",
     "output_type": "stream",
     "text": [
      "epoch 88 | loss: 0.10208 | train_mse: 0.09431 | train_mae: 0.22698 |  0:00:08s\n",
      "epoch 89 | loss: 0.106   | train_mse: 0.08302 | train_mae: 0.21203 |  0:00:08s\n",
      "epoch 90 | loss: 0.11834 | train_mse: 0.08182 | train_mae: 0.21445 |  0:00:08s\n"
     ]
    },
    {
     "name": "stdout",
     "output_type": "stream",
     "text": [
      "epoch 91 | loss: 0.16593 | train_mse: 0.09031 | train_mae: 0.23228 |  0:00:08s\n",
      "epoch 92 | loss: 0.142   | train_mse: 0.07786 | train_mae: 0.21317 |  0:00:08s\n",
      "epoch 93 | loss: 0.16889 | train_mse: 0.08747 | train_mae: 0.22258 |  0:00:08s\n"
     ]
    },
    {
     "name": "stdout",
     "output_type": "stream",
     "text": [
      "epoch 94 | loss: 0.09773 | train_mse: 0.07733 | train_mae: 0.20816 |  0:00:08s\n",
      "epoch 95 | loss: 0.15918 | train_mse: 0.07193 | train_mae: 0.19787 |  0:00:08s\n"
     ]
    },
    {
     "name": "stdout",
     "output_type": "stream",
     "text": [
      "epoch 96 | loss: 0.25119 | train_mse: 0.0773  | train_mae: 0.19879 |  0:00:08s\n",
      "epoch 97 | loss: 0.13445 | train_mse: 0.07106 | train_mae: 0.19018 |  0:00:08s\n",
      "epoch 98 | loss: 0.09574 | train_mse: 0.07877 | train_mae: 0.20151 |  0:00:09s\n"
     ]
    },
    {
     "name": "stdout",
     "output_type": "stream",
     "text": [
      "epoch 99 | loss: 0.15346 | train_mse: 0.06861 | train_mae: 0.1855  |  0:00:09s\n",
      "epoch 100| loss: 0.12303 | train_mse: 0.07067 | train_mae: 0.18926 |  0:00:09s\n"
     ]
    },
    {
     "name": "stdout",
     "output_type": "stream",
     "text": [
      "epoch 101| loss: 0.1056  | train_mse: 0.06764 | train_mae: 0.18597 |  0:00:09s\n",
      "epoch 102| loss: 0.09118 | train_mse: 0.06194 | train_mae: 0.18196 |  0:00:09s\n",
      "epoch 103| loss: 0.19815 | train_mse: 0.06164 | train_mae: 0.18236 |  0:00:09s\n"
     ]
    },
    {
     "name": "stdout",
     "output_type": "stream",
     "text": [
      "epoch 104| loss: 0.15018 | train_mse: 0.06322 | train_mae: 0.18183 |  0:00:09s\n",
      "epoch 105| loss: 0.15823 | train_mse: 0.06448 | train_mae: 0.18076 |  0:00:09s\n"
     ]
    },
    {
     "name": "stdout",
     "output_type": "stream",
     "text": [
      "epoch 106| loss: 0.31109 | train_mse: 0.06766 | train_mae: 0.18795 |  0:00:09s\n",
      "epoch 107| loss: 0.08815 | train_mse: 0.06293 | train_mae: 0.17596 |  0:00:10s\n",
      "epoch 108| loss: 0.09885 | train_mse: 0.06843 | train_mae: 0.18452 |  0:00:10s\n"
     ]
    },
    {
     "name": "stdout",
     "output_type": "stream",
     "text": [
      "epoch 109| loss: 0.07542 | train_mse: 0.0609  | train_mae: 0.17621 |  0:00:10s\n",
      "epoch 110| loss: 0.27975 | train_mse: 0.05417 | train_mae: 0.16997 |  0:00:10s\n",
      "epoch 111| loss: 0.08176 | train_mse: 0.06245 | train_mae: 0.18619 |  0:00:10s\n"
     ]
    },
    {
     "name": "stdout",
     "output_type": "stream",
     "text": [
      "epoch 112| loss: 0.08226 | train_mse: 0.07021 | train_mae: 0.20413 |  0:00:10s\n",
      "epoch 113| loss: 0.15666 | train_mse: 0.06376 | train_mae: 0.17278 |  0:00:10s\n",
      "epoch 114| loss: 0.11784 | train_mse: 0.09235 | train_mae: 0.20447 |  0:00:10s\n"
     ]
    },
    {
     "name": "stdout",
     "output_type": "stream",
     "text": [
      "epoch 115| loss: 0.11405 | train_mse: 0.06945 | train_mae: 0.18989 |  0:00:10s\n",
      "epoch 116| loss: 0.22389 | train_mse: 0.06186 | train_mae: 0.18729 |  0:00:10s\n",
      "epoch 117| loss: 0.07252 | train_mse: 0.0737  | train_mae: 0.20358 |  0:00:10s\n"
     ]
    },
    {
     "name": "stdout",
     "output_type": "stream",
     "text": [
      "epoch 118| loss: 0.12923 | train_mse: 0.0857  | train_mae: 0.21256 |  0:00:10s\n",
      "epoch 119| loss: 0.15887 | train_mse: 0.07197 | train_mae: 0.20253 |  0:00:11s\n",
      "epoch 120| loss: 0.13286 | train_mse: 0.0534  | train_mae: 0.17504 |  0:00:11s\n"
     ]
    },
    {
     "name": "stdout",
     "output_type": "stream",
     "text": [
      "epoch 121| loss: 0.0682  | train_mse: 0.05697 | train_mae: 0.17607 |  0:00:11s\n",
      "epoch 122| loss: 0.07938 | train_mse: 0.06017 | train_mae: 0.17525 |  0:00:11s\n",
      "epoch 123| loss: 0.06582 | train_mse: 0.0559  | train_mae: 0.17071 |  0:00:11s\n"
     ]
    },
    {
     "name": "stdout",
     "output_type": "stream",
     "text": [
      "epoch 124| loss: 0.15152 | train_mse: 0.05722 | train_mae: 0.17935 |  0:00:11s\n",
      "epoch 125| loss: 0.16653 | train_mse: 0.0685  | train_mae: 0.20187 |  0:00:11s\n",
      "epoch 126| loss: 0.07631 | train_mse: 0.06323 | train_mae: 0.19178 |  0:00:11s\n"
     ]
    },
    {
     "name": "stdout",
     "output_type": "stream",
     "text": [
      "epoch 127| loss: 0.37349 | train_mse: 0.06945 | train_mae: 0.18817 |  0:00:11s\n",
      "epoch 128| loss: 0.07628 | train_mse: 0.07555 | train_mae: 0.1945  |  0:00:11s\n",
      "epoch 129| loss: 0.08111 | train_mse: 0.06336 | train_mae: 0.16703 |  0:00:11s\n"
     ]
    },
    {
     "name": "stdout",
     "output_type": "stream",
     "text": [
      "epoch 130| loss: 0.11991 | train_mse: 0.07803 | train_mae: 0.20494 |  0:00:11s\n",
      "epoch 131| loss: 0.16705 | train_mse: 0.07847 | train_mae: 0.21023 |  0:00:12s\n"
     ]
    },
    {
     "name": "stdout",
     "output_type": "stream",
     "text": [
      "epoch 132| loss: 0.10891 | train_mse: 0.06299 | train_mae: 0.19501 |  0:00:12s\n",
      "epoch 133| loss: 0.1242  | train_mse: 0.06197 | train_mae: 0.19787 |  0:00:12s\n",
      "epoch 134| loss: 0.11234 | train_mse: 0.07792 | train_mae: 0.21345 |  0:00:12s\n"
     ]
    },
    {
     "name": "stdout",
     "output_type": "stream",
     "text": [
      "epoch 135| loss: 0.11612 | train_mse: 0.11023 | train_mae: 0.2387  |  0:00:12s\n",
      "epoch 136| loss: 0.10847 | train_mse: 0.13101 | train_mae: 0.26417 |  0:00:12s\n",
      "epoch 137| loss: 0.11295 | train_mse: 0.09838 | train_mae: 0.24245 |  0:00:12s\n"
     ]
    },
    {
     "name": "stdout",
     "output_type": "stream",
     "text": [
      "epoch 138| loss: 0.24792 | train_mse: 0.07739 | train_mae: 0.21479 |  0:00:12s\n",
      "epoch 139| loss: 0.09666 | train_mse: 0.07137 | train_mae: 0.20216 |  0:00:12s\n",
      "epoch 140| loss: 0.10784 | train_mse: 0.05742 | train_mae: 0.17735 |  0:00:12s\n"
     ]
    },
    {
     "name": "stdout",
     "output_type": "stream",
     "text": [
      "epoch 141| loss: 0.16756 | train_mse: 0.06567 | train_mae: 0.19172 |  0:00:13s\n",
      "epoch 142| loss: 0.11402 | train_mse: 0.0613  | train_mae: 0.18628 |  0:00:13s\n",
      "epoch 143| loss: 0.07902 | train_mse: 0.05633 | train_mae: 0.17303 |  0:00:13s\n"
     ]
    },
    {
     "name": "stdout",
     "output_type": "stream",
     "text": [
      "epoch 144| loss: 0.18968 | train_mse: 0.06714 | train_mae: 0.18659 |  0:00:13s\n",
      "epoch 145| loss: 0.23282 | train_mse: 0.05866 | train_mae: 0.18081 |  0:00:13s\n",
      "epoch 146| loss: 0.17738 | train_mse: 0.06287 | train_mae: 0.18376 |  0:00:13s\n"
     ]
    },
    {
     "name": "stdout",
     "output_type": "stream",
     "text": [
      "epoch 147| loss: 0.17212 | train_mse: 0.06355 | train_mae: 0.18615 |  0:00:13s\n",
      "epoch 148| loss: 0.176   | train_mse: 0.06266 | train_mae: 0.19454 |  0:00:13s\n",
      "epoch 149| loss: 0.21234 | train_mse: 0.06484 | train_mae: 0.20153 |  0:00:13s\n"
     ]
    },
    {
     "name": "stdout",
     "output_type": "stream",
     "text": [
      "epoch 150| loss: 0.09563 | train_mse: 0.06727 | train_mae: 0.20058 |  0:00:13s\n",
      "epoch 151| loss: 0.06353 | train_mse: 0.0729  | train_mae: 0.21264 |  0:00:13s\n"
     ]
    },
    {
     "name": "stdout",
     "output_type": "stream",
     "text": [
      "epoch 152| loss: 0.23804 | train_mse: 0.07414 | train_mae: 0.21475 |  0:00:14s\n",
      "epoch 153| loss: 0.08252 | train_mse: 0.06274 | train_mae: 0.1986  |  0:00:14s\n",
      "epoch 154| loss: 0.05392 | train_mse: 0.05457 | train_mae: 0.17861 |  0:00:14s\n"
     ]
    },
    {
     "name": "stdout",
     "output_type": "stream",
     "text": [
      "epoch 155| loss: 0.07063 | train_mse: 0.05574 | train_mae: 0.18576 |  0:00:14s\n",
      "epoch 156| loss: 0.13155 | train_mse: 0.0857  | train_mae: 0.23404 |  0:00:14s\n",
      "epoch 157| loss: 0.07419 | train_mse: 0.10796 | train_mae: 0.25637 |  0:00:14s\n"
     ]
    },
    {
     "name": "stdout",
     "output_type": "stream",
     "text": [
      "epoch 158| loss: 0.08116 | train_mse: 0.09423 | train_mae: 0.24017 |  0:00:14s\n",
      "epoch 159| loss: 0.27436 | train_mse: 0.07688 | train_mae: 0.20155 |  0:00:14s\n"
     ]
    },
    {
     "name": "stdout",
     "output_type": "stream",
     "text": [
      "epoch 160| loss: 0.18945 | train_mse: 0.07229 | train_mae: 0.19276 |  0:00:14s\n",
      "epoch 161| loss: 0.14669 | train_mse: 0.07547 | train_mae: 0.1987  |  0:00:15s\n",
      "epoch 162| loss: 0.10284 | train_mse: 0.07936 | train_mae: 0.21573 |  0:00:15s\n"
     ]
    },
    {
     "name": "stdout",
     "output_type": "stream",
     "text": [
      "epoch 163| loss: 0.05216 | train_mse: 0.09109 | train_mae: 0.23428 |  0:00:15s\n",
      "epoch 164| loss: 0.13089 | train_mse: 0.11666 | train_mae: 0.24879 |  0:00:15s\n",
      "epoch 165| loss: 0.07778 | train_mse: 0.09578 | train_mae: 0.23179 |  0:00:15s\n"
     ]
    },
    {
     "name": "stdout",
     "output_type": "stream",
     "text": [
      "epoch 166| loss: 0.19131 | train_mse: 0.09575 | train_mae: 0.23499 |  0:00:15s\n",
      "epoch 167| loss: 0.13621 | train_mse: 0.08478 | train_mae: 0.22706 |  0:00:15s\n",
      "epoch 168| loss: 0.19439 | train_mse: 0.06533 | train_mae: 0.19983 |  0:00:15s\n"
     ]
    },
    {
     "name": "stdout",
     "output_type": "stream",
     "text": [
      "epoch 169| loss: 0.17039 | train_mse: 0.05895 | train_mae: 0.18531 |  0:00:15s\n",
      "epoch 170| loss: 0.14562 | train_mse: 0.05727 | train_mae: 0.18081 |  0:00:15s\n"
     ]
    },
    {
     "name": "stdout",
     "output_type": "stream",
     "text": [
      "epoch 171| loss: 0.08694 | train_mse: 0.0583  | train_mae: 0.19086 |  0:00:15s\n",
      "epoch 172| loss: 0.06855 | train_mse: 0.06728 | train_mae: 0.19572 |  0:00:16s\n",
      "epoch 173| loss: 0.15851 | train_mse: 0.08758 | train_mae: 0.21529 |  0:00:16s\n"
     ]
    },
    {
     "name": "stdout",
     "output_type": "stream",
     "text": [
      "epoch 174| loss: 0.19147 | train_mse: 0.09077 | train_mae: 0.22787 |  0:00:16s\n",
      "epoch 175| loss: 0.09292 | train_mse: 0.07331 | train_mae: 0.21024 |  0:00:16s\n",
      "epoch 176| loss: 0.23022 | train_mse: 0.07159 | train_mae: 0.21081 |  0:00:16s\n"
     ]
    },
    {
     "name": "stdout",
     "output_type": "stream",
     "text": [
      "epoch 177| loss: 0.07434 | train_mse: 0.07681 | train_mae: 0.21463 |  0:00:16s\n",
      "epoch 178| loss: 0.07616 | train_mse: 0.0811  | train_mae: 0.21741 |  0:00:16s\n",
      "epoch 179| loss: 0.07999 | train_mse: 0.06478 | train_mae: 0.19799 |  0:00:16s\n",
      "\n",
      "Early stopping occurred at epoch 179 with best_epoch = 129 and best_train_mae = 0.16703\n",
      "Best weights from best epoch are automatically used!\n"
     ]
    }
   ],
   "source": [
    "#Train the Model\n",
    "\n",
    "Y_train = np.reshape(Y_train, (-1, 1))\n",
    "Y_test = np.reshape(Y_test, (-1, 1))\n",
    "\n",
    "prior_model = TabNetRegressor(optimizer_fn=torch.optim.Adam, optimizer_params=dict(lr = 0.02),\n",
    "          #scheduler_params={\"step_size\":10, ], \"gamma\":0.9},\n",
    "          #scheduler_fn=torch.optim.lr_scheduler.StepLR\n",
    "          )  #TabNetRegressor()\n",
    "\n",
    "prior_model.fit(X_train,Y_train,eval_set=[(X_train, Y_train)],\n",
    "            eval_name=['train'], \n",
    "            eval_metric=[ 'mse', 'mae'], \n",
    "            max_epochs = n_epochs, \n",
    "            batch_size = batch_size,\n",
    "            patience=50\n",
    "            )"
   ]
  },
  {
   "cell_type": "code",
   "execution_count": 10,
   "id": "af65dcda",
   "metadata": {
    "execution": {
     "iopub.execute_input": "2022-06-22T14:05:08.405923Z",
     "iopub.status.busy": "2022-06-22T14:05:08.402844Z",
     "iopub.status.idle": "2022-06-22T14:05:08.426642Z",
     "shell.execute_reply": "2022-06-22T14:05:08.427890Z"
    },
    "id": "af65dcda",
    "papermill": {
     "duration": 0.076754,
     "end_time": "2022-06-22T14:05:08.428478",
     "exception": false,
     "start_time": "2022-06-22T14:05:08.351724",
     "status": "completed"
    },
    "tags": []
   },
   "outputs": [
    {
     "data": {
      "application/scrapbook.scrap.json+json": {
       "data": 0.13776238393752563,
       "encoder": "json",
       "name": "Prior Model MSE",
       "version": 1
      }
     },
     "metadata": {
      "scrapbook": {
       "data": true,
       "display": false,
       "name": "Prior Model MSE"
      }
     },
     "output_type": "display_data"
    },
    {
     "data": {
      "application/scrapbook.scrap.json+json": {
       "data": 0.13705075565168387,
       "encoder": "json",
       "name": "ABC Pre-generator MSE",
       "version": 1
      }
     },
     "metadata": {
      "scrapbook": {
       "data": true,
       "display": false,
       "name": "ABC Pre-generator MSE"
      }
     },
     "output_type": "display_data"
    },
    {
     "data": {
      "application/scrapbook.scrap.json+json": {
       "data": 0.2826976432823341,
       "encoder": "json",
       "name": "Prior Model MSE",
       "version": 1
      }
     },
     "metadata": {
      "scrapbook": {
       "data": true,
       "display": false,
       "name": "Prior Model MSE"
      }
     },
     "output_type": "display_data"
    },
    {
     "data": {
      "application/scrapbook.scrap.json+json": {
       "data": 0.2816715727161295,
       "encoder": "json",
       "name": "ABC Pre-generator MSE",
       "version": 1
      }
     },
     "metadata": {
      "scrapbook": {
       "data": true,
       "display": false,
       "name": "ABC Pre-generator MSE"
      }
     },
     "output_type": "display_data"
    }
   ],
   "source": [
    "y_pred = prior_model.predict(X_test)\n",
    "y_abc = y_pred + np.random.normal(0,variance, y_pred.shape) + bias \n",
    "mse = mean_squared_error(y_pred,Y_test)\n",
    "sb.glue(\"Prior Model MSE\",mse)\n",
    "mse = mean_squared_error(y_abc,Y_test)\n",
    "sb.glue(\"ABC Pre-generator MSE\",mse)\n",
    "mae = mean_absolute_error(y_pred,Y_test)\n",
    "sb.glue(\"Prior Model MSE\",mae)\n",
    "mae = mean_absolute_error(y_abc,Y_test)\n",
    "sb.glue(\"ABC Pre-generator MSE\",mae)"
   ]
  },
  {
   "cell_type": "markdown",
   "id": "25609da2",
   "metadata": {
    "papermill": {
     "duration": 0.048348,
     "end_time": "2022-06-22T14:05:08.523503",
     "exception": false,
     "start_time": "2022-06-22T14:05:08.475155",
     "status": "completed"
    },
    "tags": []
   },
   "source": [
    "# ABC GAN Model"
   ]
  },
  {
   "cell_type": "code",
   "execution_count": 11,
   "id": "dfc3464d",
   "metadata": {
    "execution": {
     "iopub.execute_input": "2022-06-22T14:05:08.617047Z",
     "iopub.status.busy": "2022-06-22T14:05:08.615305Z",
     "iopub.status.idle": "2022-06-22T14:05:08.619997Z",
     "shell.execute_reply": "2022-06-22T14:05:08.620754Z"
    },
    "papermill": {
     "duration": 0.053938,
     "end_time": "2022-06-22T14:05:08.620981",
     "exception": false,
     "start_time": "2022-06-22T14:05:08.567043",
     "status": "completed"
    },
    "tags": []
   },
   "outputs": [],
   "source": [
    "gen = network.Generator(n_features+1).to(device)\n",
    "disc = network.Discriminator(n_features+1).to(device)\n",
    "\n",
    "criterion = torch.nn.BCELoss()\n",
    "gen_opt = torch.optim.Adam(gen.parameters(), lr=0.001, betas=(0.5, 0.999))\n",
    "disc_opt = torch.optim.Adam(disc.parameters(), lr=0.001, betas=(0.5, 0.999))"
   ]
  },
  {
   "cell_type": "code",
   "execution_count": 12,
   "id": "b75fdd85",
   "metadata": {
    "execution": {
     "iopub.execute_input": "2022-06-22T14:05:08.706774Z",
     "iopub.status.busy": "2022-06-22T14:05:08.705971Z",
     "iopub.status.idle": "2022-06-22T14:06:07.208332Z",
     "shell.execute_reply": "2022-06-22T14:06:07.209177Z"
    },
    "papermill": {
     "duration": 58.5517,
     "end_time": "2022-06-22T14:06:07.209736",
     "exception": false,
     "start_time": "2022-06-22T14:05:08.658036",
     "status": "completed"
    },
    "tags": []
   },
   "outputs": [
    {
     "data": {
      "image/png": "[encoded data removed]",
      "text/plain": [
       "<Figure size 432x288 with 1 Axes>"
      ]
     },
     "metadata": {
      "needs_background": "light"
     },
     "output_type": "display_data"
    },
    {
     "data": {
      "image/png": "[encoded data removed]",
      "text/plain": [
       "<Figure size 432x288 with 1 Axes>"
      ]
     },
     "metadata": {
      "needs_background": "light"
     },
     "output_type": "display_data"
    }
   ],
   "source": [
    "#Training the ABC_GAN \n",
    "ABC_train_test2.training_GAN(disc,gen,disc_opt,gen_opt,train_data,batch_size,n_epochs,criterion,prior_model,variance,bias,device)"
   ]
  },
  {
   "cell_type": "code",
   "execution_count": 13,
   "id": "1fa7c368",
   "metadata": {
    "execution": {
     "iopub.execute_input": "2022-06-22T14:06:07.380751Z",
     "iopub.status.busy": "2022-06-22T14:06:07.373987Z",
     "iopub.status.idle": "2022-06-22T14:06:08.509050Z",
     "shell.execute_reply": "2022-06-22T14:06:08.509965Z"
    },
    "papermill": {
     "duration": 1.252982,
     "end_time": "2022-06-22T14:06:08.510229",
     "exception": false,
     "start_time": "2022-06-22T14:06:07.257247",
     "status": "completed"
    },
    "tags": []
   },
   "outputs": [
    {
     "data": {
      "application/scrapbook.scrap.json+json": {
       "data": 0.066081251565586,
       "encoder": "json",
       "name": "ABC-GAN Model 1 MSE",
       "version": 1
      }
     },
     "metadata": {
      "scrapbook": {
       "data": true,
       "display": false,
       "name": "ABC-GAN Model 1 MSE"
      }
     },
     "output_type": "display_data"
    },
    {
     "data": {
      "application/scrapbook.scrap.json+json": {
       "data": 0.22045104821585118,
       "encoder": "json",
       "name": "ABC-GAN Model 1 MAE",
       "version": 1
      }
     },
     "metadata": {
      "scrapbook": {
       "data": true,
       "display": false,
       "name": "ABC-GAN Model 1 MAE"
      }
     },
     "output_type": "display_data"
    },
    {
     "data": {
      "application/scrapbook.scrap.json+json": {
       "data": 4.4090209643170235,
       "encoder": "json",
       "name": "ABC-GAN Model 1 Manhattan Distance",
       "version": 1
      }
     },
     "metadata": {
      "scrapbook": {
       "data": true,
       "display": false,
       "name": "ABC-GAN Model 1 Manhattan Distance"
      }
     },
     "output_type": "display_data"
    },
    {
     "data": {
      "application/scrapbook.scrap.json+json": {
       "data": 1.1495833578996777,
       "encoder": "json",
       "name": "ABC-GAN Model 1 Euclidean distance",
       "version": 1
      }
     },
     "metadata": {
      "scrapbook": {
       "data": true,
       "display": false,
       "name": "ABC-GAN Model 1 Euclidean distance"
      }
     },
     "output_type": "display_data"
    },
    {
     "data": {
      "application/scrapbook.scrap.json+json": {
       "data": [
        [
         0.06595662021016828,
         0.06756640229473534,
         0.0668398979587176,
         0.06561301055991152,
         0.06650663316812573,
         0.06517606580587097,
         0.06592122031596612,
         0.06620177314599476,
         0.0673504326566155,
         0.065411603531384,
         0.06432464112249499,
         0.06356913631949385,
         0.06745982177490203,
         0.06583110793494337,
         0.06567639750090165,
         0.06906214872491764,
         0.06584477392577623,
         0.06580958774613661,
         0.0644765845718203,
         0.06529088875599702,
         0.06805477634395804,
         0.06507483308275597,
         0.06701890315560859,
         0.06533326256205414,
         0.06699782360156484,
         0.06555692125672097,
         0.06700827088121156,
         0.06554747120989532,
         0.0651739707802349,
         0.06662230155023627,
         0.06453956395738121,
         0.06386624825336021,
         0.06773264098382743,
         0.0651365254130305,
         0.06567858679341462,
         0.06615461360332464,
         0.0663837558797242,
         0.06674809422304298,
         0.06556434519747353,
         0.06551291979455517,
         0.06787439163709152,
         0.06671699539100986,
         0.06746322544437866,
         0.06502976711570332,
         0.06561377038206725,
         0.0656313755402127,
         0.06722496244851263,
         0.06551306508100171,
         0.06794845933388009,
         0.06705050147253251,
         0.06637209123974201,
         0.06560012433515136,
         0.0675080580488414,
         0.0667820252784221,
         0.0659406305932784,
         0.06522309721043248,
         0.06535562873380676,
         0.06455259848954588,
         0.0674183983654389,
         0.06706462637240859,
         0.06583254602334217,
         0.06674890088263842,
         0.06463597716152188,
         0.06709448684307458,
         0.06463278943359635,
         0.06504398380543347,
         0.06600421516322935,
         0.06681137073055757,
         0.06411877933802437,
         0.06536347235878466,
         0.06741364244804274,
         0.06491808561189363,
         0.06620712448240457,
         0.06635388280577187,
         0.06703674739995893,
         0.06707648302189265,
         0.06590859788375117,
         0.06717450104735603,
         0.06537367798501127,
         0.06601364278606421,
         0.06425382285148136,
         0.06477143501155505,
         0.06717867324903808,
         0.06536095054123535,
         0.0673423546032373,
         0.0644715895779953,
         0.06579552025918842,
         0.06626661077537929,
         0.06632417547797823,
         0.06668470354009717,
         0.06496363167469536,
         0.06627375306390663,
         0.06667168551524719,
         0.066228232900497,
         0.0649748215697511,
         0.06636091793022326,
         0.0665325773356447,
         0.0664054846383333,
         0.06640603915063739,
         0.06761690061842245
        ],
        [
         0.2215474221855402,
         0.22227498330175877,
         0.221619176492095,
         0.21962738279253244,
         0.22044019121676683,
         0.21881499476730823,
         0.22046837117522955,
         0.22135398276150225,
         0.22232650592923164,
         0.22024474535137414,
         0.21919409036636353,
         0.21656923554837704,
         0.22129430882632734,
         0.2201325112953782,
         0.22084816135466098,
         0.22441428378224373,
         0.21827982384711503,
         0.2197623260319233,
         0.21850870475172995,
         0.21975669041275978,
         0.2233975701034069,
         0.21887015625834466,
         0.2215323906391859,
         0.22087339758872987,
         0.22212358396500348,
         0.2203291941434145,
         0.22167518138885497,
         0.21878242157399655,
         0.21668177228420973,
         0.21984320171177388,
         0.21680841073393822,
         0.21744513250887393,
         0.22257385738193988,
         0.21727290973067284,
         0.22000725492835044,
         0.22210075836628676,
         0.22137502525001765,
         0.2220041172578931,
         0.22146234922111036,
         0.21929230708628894,
         0.22493220381438733,
         0.22052497006952762,
         0.22155047934502364,
         0.21794110275804995,
         0.2192406566813588,
         0.219499309360981,
         0.22280321046710014,
         0.22028225772082805,
         0.22280065827071666,
         0.22303784936666488,
         0.22175547648221255,
         0.2206162165850401,
         0.2210457596927881,
         0.22162842191755772,
         0.2222172886133194,
         0.21869745589792727,
         0.22038533054292203,
         0.21820850484073162,
         0.2220563307404518,
         0.22283502165228128,
         0.22102021872997285,
         0.22091479115188123,
         0.2181020099669695,
         0.22119623385369777,
         0.21784536968916654,
         0.2194992048665881,
         0.220570064522326,
         0.2214073922485113,
         0.21737332157790662,
         0.22024542316794396,
         0.22160192541778087,
         0.2181705581024289,
         0.2210135104134679,
         0.22143891789019107,
         0.22077329996973277,
         0.2207818204537034,
         0.2203793304041028,
         0.22244274877011777,
         0.21799625568091868,
         0.22016909420490266,
         0.21780406944453717,
         0.21697614826261996,
         0.22258073035627604,
         0.21856902968138456,
         0.22310740910470486,
         0.21762887071818113,
         0.21974311135709285,
         0.22172233685851098,
         0.22019153721630574,
         0.2226500691846013,
         0.2199707105755806,
         0.22000420838594437,
         0.22011084146797658,
         0.22200135365128518,
         0.21868339106440543,
         0.22073846627026797,
         0.22029610853642226,
         0.22098191119730473,
         0.22056024800986052,
         0.22385539002716542
        ],
        [
         4.430948443710804,
         4.445499666035175,
         4.4323835298419,
         4.392547655850649,
         4.408803824335337,
         4.376299895346165,
         4.409367423504591,
         4.427079655230045,
         4.446530118584633,
         4.404894907027483,
         4.3838818073272705,
         4.331384710967541,
         4.4258861765265465,
         4.402650225907564,
         4.41696322709322,
         4.488285675644875,
         4.365596476942301,
         4.395246520638466,
         4.370174095034599,
         4.395133808255196,
         4.467951402068138,
         4.377403125166893,
         4.430647812783718,
         4.417467951774597,
         4.44247167930007,
         4.40658388286829,
         4.4335036277771,
         4.375648431479931,
         4.333635445684195,
         4.3968640342354774,
         4.336168214678764,
         4.348902650177479,
         4.451477147638798,
         4.345458194613457,
         4.400145098567009,
         4.442015167325735,
         4.427500505000353,
         4.440082345157862,
         4.429246984422207,
         4.385846141725779,
         4.498644076287746,
         4.4104994013905525,
         4.431009586900473,
         4.358822055160999,
         4.384813133627176,
         4.38998618721962,
         4.456064209342003,
         4.405645154416561,
         4.456013165414333,
         4.460756987333298,
         4.435109529644251,
         4.412324331700802,
         4.4209151938557625,
         4.432568438351154,
         4.444345772266388,
         4.373949117958546,
         4.40770661085844,
         4.364170096814632,
         4.441126614809036,
         4.456700433045626,
         4.420404374599457,
         4.418295823037624,
         4.36204019933939,
         4.4239246770739555,
         4.356907393783331,
         4.389984097331762,
         4.41140129044652,
         4.428147844970226,
         4.347466431558132,
         4.404908463358879,
         4.4320385083556175,
         4.363411162048578,
         4.420270208269358,
         4.428778357803822,
         4.415465999394655,
         4.415636409074068,
         4.407586608082056,
         4.448854975402355,
         4.359925113618374,
         4.403381884098053,
         4.356081388890743,
         4.3395229652523994,
         4.451614607125521,
         4.371380593627691,
         4.462148182094097,
         4.352577414363623,
         4.394862227141857,
         4.434446737170219,
         4.403830744326115,
         4.453001383692026,
         4.399414211511612,
         4.400084167718887,
         4.402216829359531,
         4.440027073025703,
         4.373667821288109,
         4.414769325405359,
         4.405922170728445,
         4.4196382239460945,
         4.41120496019721,
         4.477107800543308
        ],
        [
         1.1485348946389768,
         1.162466363339046,
         1.1561997920663851,
         1.1455392665457742,
         1.1533137748949827,
         1.1417185800876761,
         1.1482266354336683,
         1.150667398912429,
         1.1606070192499742,
         1.1437797299426493,
         1.1342366695050463,
         1.1275560856959077,
         1.1615491532854048,
         1.1474415709302446,
         1.146092470099177,
         1.1752629384517972,
         1.147560664416276,
         1.1472540062787893,
         1.1355754890963463,
         1.1427238402693543,
         1.1666599876909984,
         1.1408315658567303,
         1.1577469771552729,
         1.1430945941789257,
         1.1575648889074412,
         1.1450495295551277,
         1.1576551376054232,
         1.1449669969907021,
         1.1417002301850947,
         1.1543162612580338,
         1.1361299569801089,
         1.1301880219977578,
         1.163895536410613,
         1.1413722040862087,
         1.1461115721727497,
         1.1502574807696286,
         1.1522478542373096,
         1.1554055065044737,
         1.145114362825596,
         1.1446651894292512,
         1.1651127982911484,
         1.1551363156875456,
         1.1615784557607691,
         1.1404364700911955,
         1.145545899404011,
         1.1456995726647776,
         1.1595254412777032,
         1.1446664586769522,
         1.1657483376259226,
         1.1580198743763641,
         1.1521466160150107,
         1.1454267705545507,
         1.161964354434691,
         1.1556991414587283,
         1.1483956686898327,
         1.1421304409780215,
         1.143290240785836,
         1.1362446786634108,
         1.1611924764261858,
         1.1581418425426877,
         1.1474541038607353,
         1.1554124880979815,
         1.136978250992708,
         1.1583996447088074,
         1.1369502138053043,
         1.1405611233549342,
         1.1489492170085618,
         1.1559530330472563,
         1.1324202341712581,
         1.1433588444472247,
         1.1611515185198076,
         1.1394567618992273,
         1.1507139043429047,
         1.1519885659655817,
         1.1579010959486906,
         1.1582442145065317,
         1.1481167003728425,
         1.1590901694635842,
         1.1434481010086226,
         1.1490312683827557,
         1.133612128123913,
         1.1381690121555328,
         1.1591261643931439,
         1.14333678801336,
         1.160537415193817,
         1.1355315017910803,
         1.1471313809602492,
         1.1512307394730155,
         1.151730658426511,
         1.1548567317212743,
         1.1398564091559547,
         1.1512927782619558,
         1.1547440020649355,
         1.1508973273102774,
         1.1399545742682127,
         1.1520496337417347,
         1.1535387062049085,
         1.152436415932205,
         1.1524412275742082,
         1.1629006889534674
        ]
       ],
       "encoder": "json",
       "name": "ABC_GAN_1 Metrics",
       "version": 1
      }
     },
     "metadata": {
      "scrapbook": {
       "data": true,
       "display": false,
       "name": "ABC_GAN_1 Metrics"
      }
     },
     "output_type": "display_data"
    },
    {
     "name": "stdout",
     "output_type": "stream",
     "text": [
      "MSE\n",
      "0.066081251565586\n"
     ]
    }
   ],
   "source": [
    "ABC_GAN1_metrics=ABC_train_test2.test_generator(gen,test_data,prior_model,variance,bias,\"1\",device)\n",
    "sb.glue(\"ABC_GAN_1 Metrics\",ABC_GAN1_metrics)\n",
    "\n",
    "print(\"MSE\")\n",
    "print(mean(ABC_GAN1_metrics[0]))"
   ]
  },
  {
   "cell_type": "code",
   "execution_count": 14,
   "id": "eb22ce5c",
   "metadata": {
    "execution": {
     "iopub.execute_input": "2022-06-22T14:06:08.675265Z",
     "iopub.status.busy": "2022-06-22T14:06:08.674416Z",
     "iopub.status.idle": "2022-06-22T14:06:09.543023Z",
     "shell.execute_reply": "2022-06-22T14:06:09.541926Z"
    },
    "papermill": {
     "duration": 0.984562,
     "end_time": "2022-06-22T14:06:09.543686",
     "exception": false,
     "start_time": "2022-06-22T14:06:08.559124",
     "status": "completed"
    },
    "tags": []
   },
   "outputs": [
    {
     "data": {
      "image/png": "[encoded data removed]",
      "text/plain": [
       "<Figure size 432x288 with 1 Axes>"
      ]
     },
     "metadata": {
      "needs_background": "light"
     },
     "output_type": "display_data"
    },
    {
     "data": {
      "image/png": "[encoded data removed]",
      "text/plain": [
       "<Figure size 432x288 with 1 Axes>"
      ]
     },
     "metadata": {
      "needs_background": "light"
     },
     "output_type": "display_data"
    },
    {
     "data": {
      "image/png": "[encoded data removed]",
      "text/plain": [
       "<Figure size 432x288 with 1 Axes>"
      ]
     },
     "metadata": {
      "needs_background": "light"
     },
     "output_type": "display_data"
    },
    {
     "data": {
      "image/png": "[encoded data removed]",
      "text/plain": [
       "<Figure size 432x288 with 1 Axes>"
      ]
     },
     "metadata": {
      "needs_background": "light"
     },
     "output_type": "display_data"
    }
   ],
   "source": [
    "sanityChecks.discProbVsError(train_data,disc,device)\n",
    "sanityChecks.discProbVsError(test_data,disc,device)"
   ]
  },
  {
   "cell_type": "markdown",
   "id": "130f3a4d",
   "metadata": {
    "id": "130f3a4d",
    "papermill": {
     "duration": 0.056149,
     "end_time": "2022-06-22T14:06:09.657589",
     "exception": false,
     "start_time": "2022-06-22T14:06:09.601440",
     "status": "completed"
    },
    "tags": []
   },
   "source": [
    "# ABC - GAN Model with skip connection"
   ]
  },
  {
   "cell_type": "code",
   "execution_count": 15,
   "id": "4e43dad1",
   "metadata": {
    "execution": {
     "iopub.execute_input": "2022-06-22T14:06:09.791884Z",
     "iopub.status.busy": "2022-06-22T14:06:09.790183Z",
     "iopub.status.idle": "2022-06-22T14:06:09.795422Z",
     "shell.execute_reply": "2022-06-22T14:06:09.796189Z"
    },
    "id": "4e43dad1",
    "papermill": {
     "duration": 0.07707,
     "end_time": "2022-06-22T14:06:09.796428",
     "exception": false,
     "start_time": "2022-06-22T14:06:09.719358",
     "status": "completed"
    },
    "tags": []
   },
   "outputs": [],
   "source": [
    "#Generator\n",
    "gen3 = network.GeneratorWithSkipConnection(n_features+1).to(device)\n",
    "constraints=network.weightConstraint()\n",
    "#Discriminator \n",
    "disc3 = network.Discriminator(n_features+1).to(device)\n",
    "\n",
    "criterion = torch.nn.BCELoss()\n",
    "gen_opt = torch.optim.Adam(gen3.parameters(), lr=0.001, betas=(0.5, 0.999))\n",
    "disc_opt = torch.optim.Adam(disc3.parameters(), lr=0.001, betas=(0.5, 0.999))\n"
   ]
  },
  {
   "cell_type": "code",
   "execution_count": 16,
   "id": "26acbc37",
   "metadata": {
    "execution": {
     "iopub.execute_input": "2022-06-22T14:06:09.966105Z",
     "iopub.status.busy": "2022-06-22T14:06:09.965279Z",
     "iopub.status.idle": "2022-06-22T14:07:36.513970Z",
     "shell.execute_reply": "2022-06-22T14:07:36.514787Z"
    },
    "id": "26acbc37",
    "papermill": {
     "duration": 86.648347,
     "end_time": "2022-06-22T14:07:36.515026",
     "exception": false,
     "start_time": "2022-06-22T14:06:09.866679",
     "status": "completed"
    },
    "tags": []
   },
   "outputs": [
    {
     "data": {
      "image/png": "[encoded data removed]",
      "text/plain": [
       "<Figure size 432x288 with 1 Axes>"
      ]
     },
     "metadata": {
      "needs_background": "light"
     },
     "output_type": "display_data"
    },
    {
     "data": {
      "image/png": "[encoded data removed]",
      "text/plain": [
       "<Figure size 432x288 with 1 Axes>"
      ]
     },
     "metadata": {
      "needs_background": "light"
     },
     "output_type": "display_data"
    }
   ],
   "source": [
    "ABC_train_test2.training_GAN_skip_connection(disc3,gen3,disc_opt,gen_opt,train_data,batch_size,n_epochs,criterion,prior_model,variance,bias,device)"
   ]
  },
  {
   "cell_type": "code",
   "execution_count": 17,
   "id": "c5e0717b",
   "metadata": {
    "execution": {
     "iopub.execute_input": "2022-06-22T14:07:36.647394Z",
     "iopub.status.busy": "2022-06-22T14:07:36.646365Z",
     "iopub.status.idle": "2022-06-22T14:07:37.765473Z",
     "shell.execute_reply": "2022-06-22T14:07:37.766101Z"
    },
    "id": "c5e0717b",
    "papermill": {
     "duration": 1.185874,
     "end_time": "2022-06-22T14:07:37.766323",
     "exception": false,
     "start_time": "2022-06-22T14:07:36.580449",
     "status": "completed"
    },
    "tags": []
   },
   "outputs": [
    {
     "data": {
      "application/scrapbook.scrap.json+json": {
       "data": 0.13813616325912212,
       "encoder": "json",
       "name": "ABC-GAN Model 3 MSE",
       "version": 1
      }
     },
     "metadata": {
      "scrapbook": {
       "data": true,
       "display": false,
       "name": "ABC-GAN Model 3 MSE"
      }
     },
     "output_type": "display_data"
    },
    {
     "data": {
      "application/scrapbook.scrap.json+json": {
       "data": 0.28288353973347696,
       "encoder": "json",
       "name": "ABC-GAN Model 3 MAE",
       "version": 1
      }
     },
     "metadata": {
      "scrapbook": {
       "data": true,
       "display": false,
       "name": "ABC-GAN Model 3 MAE"
      }
     },
     "output_type": "display_data"
    },
    {
     "data": {
      "application/scrapbook.scrap.json+json": {
       "data": 5.657670794669539,
       "encoder": "json",
       "name": "ABC-GAN Model 3 Manhattan Distance",
       "version": 1
      }
     },
     "metadata": {
      "scrapbook": {
       "data": true,
       "display": false,
       "name": "ABC-GAN Model 3 Manhattan Distance"
      }
     },
     "output_type": "display_data"
    },
    {
     "data": {
      "application/scrapbook.scrap.json+json": {
       "data": 1.6621163715588088,
       "encoder": "json",
       "name": "ABC-GAN Model 3 Euclidean distance",
       "version": 1
      }
     },
     "metadata": {
      "scrapbook": {
       "data": true,
       "display": false,
       "name": "ABC-GAN Model 3 Euclidean distance"
      }
     },
     "output_type": "display_data"
    },
    {
     "data": {
      "application/scrapbook.scrap.json+json": {
       "data": [
        [
         0.13854260811937275,
         0.13634234728896508,
         0.13694511508840698,
         0.13773594738361866,
         0.13541420671528687,
         0.1378430712707246,
         0.1387359678101152,
         0.1417303622460247,
         0.14039163660453186,
         0.13885363229238895,
         0.1430230328796807,
         0.13993313227568605,
         0.13967563397405375,
         0.1372046111523273,
         0.14021733011054352,
         0.14084507246784564,
         0.13752941893625312,
         0.13802938549700491,
         0.13747843222496797,
         0.13568464536090685,
         0.1351365536520027,
         0.13644704862670604,
         0.14033728266736994,
         0.13825844792261885,
         0.13723149731689385,
         0.1412081817071637,
         0.13943148743234549,
         0.1378648099478123,
         0.13551402018123038,
         0.1382181226003561,
         0.13791559931134117,
         0.1359899636831831,
         0.13824895421674538,
         0.13690929483085257,
         0.13943582991586584,
         0.138783413820865,
         0.1373579131390898,
         0.1380680140630558,
         0.1399294044443066,
         0.13771469639564815,
         0.13933884568452787,
         0.13756048921666802,
         0.13812935951512578,
         0.13804166780954447,
         0.14032583894641887,
         0.13653567775860784,
         0.13805403513972783,
         0.13781691287750072,
         0.13729109501979017,
         0.1407095962386707,
         0.13628819491759203,
         0.13557252365733327,
         0.1392512199557543,
         0.13757648733096012,
         0.13903821452622975,
         0.13764314397387276,
         0.13633754008102072,
         0.13915015113656498,
         0.1381356083562319,
         0.13814553136405316,
         0.13833325238077793,
         0.1368030840549387,
         0.1354887911411072,
         0.1371870639987232,
         0.13771382230239118,
         0.13914762951279272,
         0.13868905704154147,
         0.14000335226821642,
         0.1390917741963117,
         0.13582173603207023,
         0.13924245785825126,
         0.13894988848269932,
         0.13822345091974136,
         0.13630938802160286,
         0.1383069963782062,
         0.13813714035015653,
         0.13921412843189632,
         0.13804441378457952,
         0.13729802252925807,
         0.13483329862919563,
         0.1362044594491924,
         0.13716691800560624,
         0.13813171563336613,
         0.14039986898719453,
         0.13625305807191,
         0.1395990281872145,
         0.13984479497697605,
         0.14092795197007518,
         0.13842744749237196,
         0.13705241943984353,
         0.1386606548668286,
         0.13727515656028758,
         0.13532164381453543,
         0.13768933383370424,
         0.13970300739613958,
         0.1398083372980466,
         0.13900148846069804,
         0.13970198208372495,
         0.13746859296124364,
         0.13504145902844222
        ],
        [
         0.28442219756543635,
         0.27978378925472497,
         0.2813222481869161,
         0.28105037212371825,
         0.27918289359658954,
         0.2822769494727254,
         0.28260478246957066,
         0.286863352637738,
         0.2861391643062234,
         0.28383399434387685,
         0.2868861172348261,
         0.2863399521447718,
         0.28638269994407894,
         0.2821784494444728,
         0.2848285049200058,
         0.28599116746336223,
         0.2821642678231001,
         0.28359752167016267,
         0.2837177018634975,
         0.2788699229247868,
         0.27689098976552484,
         0.28000761596485974,
         0.2862879078835249,
         0.28466241946443915,
         0.28211027160286906,
         0.28573358338326216,
         0.284296646900475,
         0.2848047524690628,
         0.2817548172548413,
         0.283648088760674,
         0.284034975990653,
         0.28171465583145616,
         0.282019610889256,
         0.2815460043027997,
         0.2850197795778513,
         0.2815960306674242,
         0.28203732930123804,
         0.2795646985061467,
         0.28545732963830234,
         0.2822378553450108,
         0.2857526971027255,
         0.28100000116974116,
         0.2846801163628697,
         0.28421762138605117,
         0.287307071313262,
         0.27910480462014675,
         0.2815295847132802,
         0.2820305597037077,
         0.2794851066544652,
         0.28653575778007506,
         0.2824942959472537,
         0.2806087709963322,
         0.28478193040937183,
         0.28238010201603175,
         0.28373743686825037,
         0.2824101744219661,
         0.28153931610286237,
         0.2822023006156087,
         0.2817186014726758,
         0.28319832421839236,
         0.2811885552480817,
         0.2801697039976716,
         0.2799685925245285,
         0.2815173422917724,
         0.2808743881061673,
         0.28479572795331476,
         0.2839704466983676,
         0.2848647044971585,
         0.2849398931488395,
         0.28208983317017555,
         0.2832772143185139,
         0.2825453247874975,
         0.28168417029082776,
         0.2788981169462204,
         0.2817549677565694,
         0.28137178821489217,
         0.2873121386393905,
         0.2828743173740804,
         0.28295866008847953,
         0.2802421718835831,
         0.28045943286269903,
         0.2820328796282411,
         0.28178149424493315,
         0.28447353169322015,
         0.2830191308632493,
         0.2843265555799007,
         0.2852757184766233,
         0.28544225487858055,
         0.282044206187129,
         0.2837810689583421,
         0.28450132785364984,
         0.28281871397048236,
         0.2801359213888645,
         0.2831697665154934,
         0.283380264416337,
         0.2856449605897069,
         0.28311838107183573,
         0.2849965838715434,
         0.27974250353872776,
         0.2803352320566773
        ],
        [
         5.688443951308727,
         5.5956757850945,
         5.626444963738322,
         5.621007442474365,
         5.583657871931791,
         5.645538989454508,
         5.652095649391413,
         5.73726705275476,
         5.722783286124468,
         5.676679886877537,
         5.737722344696522,
         5.726799042895436,
         5.7276539988815784,
         5.643568988889456,
         5.696570098400116,
         5.719823349267244,
         5.643285356462002,
         5.6719504334032536,
         5.67435403726995,
         5.577398458495736,
         5.537819795310497,
         5.6001523192971945,
         5.725758157670498,
         5.693248389288783,
         5.642205432057381,
         5.714671667665243,
         5.6859329380095005,
         5.696095049381256,
         5.6350963450968266,
         5.67296177521348,
         5.680699519813061,
         5.634293116629124,
         5.64039221778512,
         5.630920086055994,
         5.700395591557026,
         5.631920613348484,
         5.640746586024761,
         5.591293970122933,
         5.7091465927660465,
         5.644757106900215,
         5.71505394205451,
         5.620000023394823,
         5.693602327257395,
         5.684352427721024,
         5.74614142626524,
         5.582096092402935,
         5.630591694265604,
         5.640611194074154,
         5.589702133089304,
         5.7307151556015015,
         5.649885918945074,
         5.612175419926643,
         5.695638608187437,
         5.647602040320635,
         5.674748737365007,
         5.6482034884393215,
         5.630786322057247,
         5.644046012312174,
         5.634372029453516,
         5.663966484367847,
         5.623771104961634,
         5.603394079953432,
         5.59937185049057,
         5.630346845835447,
         5.617487762123346,
         5.695914559066296,
         5.679408933967352,
         5.6972940899431705,
         5.6987978629767895,
         5.641796663403511,
         5.665544286370277,
         5.65090649574995,
         5.633683405816555,
         5.577962338924408,
         5.635099355131388,
         5.627435764297843,
         5.746242772787809,
         5.657486347481608,
         5.65917320176959,
         5.604843437671661,
         5.609188657253981,
         5.640657592564821,
         5.635629884898663,
         5.689470633864403,
         5.660382617264986,
         5.686531111598015,
         5.705514369532466,
         5.708845097571611,
         5.64088412374258,
         5.6756213791668415,
         5.690026557072997,
         5.656374279409647,
         5.60271842777729,
         5.663395330309868,
         5.66760528832674,
         5.712899211794138,
         5.662367621436715,
         5.699931677430868,
         5.594850070774555,
         5.606704641133547
        ],
        [
         1.6645876854006385,
         1.6513167309087926,
         1.6549629306326292,
         1.6597346015771235,
         1.6456865237054525,
         1.660379903942014,
         1.665748887498444,
         1.6836291886637311,
         1.675658894909891,
         1.6664551136612649,
         1.6912896433176707,
         1.6729203942548254,
         1.6713804711917255,
         1.6565301757126387,
         1.6746183452389594,
         1.6783627287797214,
         1.6584897885501322,
         1.6615016430747513,
         1.6581823315001758,
         1.6473290221501402,
         1.6439985015321803,
         1.6519506568097366,
         1.6753344899892078,
         1.6628797185762947,
         1.6566924718661207,
         1.6805248091424518,
         1.6699190844609537,
         1.6605108247031233,
         1.6462929276482383,
         1.6626371979500283,
         1.6608166624365326,
         1.6491813950150123,
         1.6628226256383773,
         1.654746475027837,
         1.6699450884137828,
         1.6660336960629878,
         1.6574553577040305,
         1.6617341187028436,
         1.6728981107306362,
         1.6596065581676167,
         1.669364224395191,
         1.6586771187706666,
         1.6621032429733467,
         1.6615755643938948,
         1.6752661815151577,
         1.6524870816959982,
         1.6616499940705192,
         1.6602223518402632,
         1.6570521718991842,
         1.6775553417915647,
         1.6509887638478467,
         1.6466482542263436,
         1.6688392370492389,
         1.6587735670124486,
         1.6675623798001067,
         1.6591753612796494,
         1.6512876192899935,
         1.6682335036592748,
         1.6621408385346406,
         1.6622005376250675,
         1.6633295066268614,
         1.6541044952175101,
         1.646139672938522,
         1.6564242451662146,
         1.6596012912889118,
         1.6682183880583064,
         1.6654672439981608,
         1.6733400865826196,
         1.6678835342811662,
         1.648161011746548,
         1.6687867320796343,
         1.6670326240520867,
         1.662669245037878,
         1.6511171249890353,
         1.6631716470539426,
         1.6621500555013469,
         1.668616962828176,
         1.6615920906442683,
         1.6570939775960691,
         1.6421528469006508,
         1.6504815021634893,
         1.6563026173112583,
         1.66211741843569,
         1.6757080234169348,
         1.6507759270834428,
         1.6709220699195668,
         1.6723922684404882,
         1.678856467778441,
         1.6638957148353495,
         1.655611182855706,
         1.6652966994912863,
         1.6569559834847005,
         1.6451239698851599,
         1.6594537283919923,
         1.6715442404922436,
         1.6721742570560438,
         1.6673421272234326,
         1.6715381065576995,
         1.658122992791811,
         1.643419964759113
        ]
       ],
       "encoder": "json",
       "name": "ABC_GAN_3 Metrics",
       "version": 1
      }
     },
     "metadata": {
      "scrapbook": {
       "data": true,
       "display": false,
       "name": "ABC_GAN_3 Metrics"
      }
     },
     "output_type": "display_data"
    },
    {
     "name": "stdout",
     "output_type": "stream",
     "text": [
      "MSE\n",
      "0.13813616325912212\n"
     ]
    }
   ],
   "source": [
    "ABC_GAN3_metrics=ABC_train_test2.test_generator(gen3,test_data,prior_model,variance,bias,\"3\",device)\n",
    "sb.glue(\"ABC_GAN_3 Metrics\",ABC_GAN3_metrics)\n",
    "\n",
    "print(\"MSE\")\n",
    "print(mean(ABC_GAN3_metrics[0]))"
   ]
  },
  {
   "cell_type": "code",
   "execution_count": 18,
   "id": "c8e46b48",
   "metadata": {
    "execution": {
     "iopub.execute_input": "2022-06-22T14:07:37.900427Z",
     "iopub.status.busy": "2022-06-22T14:07:37.899483Z",
     "iopub.status.idle": "2022-06-22T14:07:38.802046Z",
     "shell.execute_reply": "2022-06-22T14:07:38.802585Z"
    },
    "id": "c8e46b48",
    "papermill": {
     "duration": 0.965743,
     "end_time": "2022-06-22T14:07:38.802836",
     "exception": false,
     "start_time": "2022-06-22T14:07:37.837093",
     "status": "completed"
    },
    "tags": []
   },
   "outputs": [
    {
     "data": {
      "image/png": "[encoded data removed]",
      "text/plain": [
       "<Figure size 432x288 with 1 Axes>"
      ]
     },
     "metadata": {
      "needs_background": "light"
     },
     "output_type": "display_data"
    },
    {
     "data": {
      "image/png": "[encoded data removed]",
      "text/plain": [
       "<Figure size 432x288 with 1 Axes>"
      ]
     },
     "metadata": {
      "needs_background": "light"
     },
     "output_type": "display_data"
    },
    {
     "data": {
      "image/png": "[encoded data removed]",
      "text/plain": [
       "<Figure size 432x288 with 1 Axes>"
      ]
     },
     "metadata": {
      "needs_background": "light"
     },
     "output_type": "display_data"
    },
    {
     "data": {
      "image/png": "[encoded data removed]",
      "text/plain": [
       "<Figure size 432x288 with 1 Axes>"
      ]
     },
     "metadata": {
      "needs_background": "light"
     },
     "output_type": "display_data"
    }
   ],
   "source": [
    "sanityChecks.discProbVsError(train_data,disc3,device)\n",
    "sanityChecks.discProbVsError(test_data,disc3,device)"
   ]
  },
  {
   "cell_type": "markdown",
   "id": "a5bd74c3",
   "metadata": {
    "id": "a5bd74c3",
    "papermill": {
     "duration": 0.060631,
     "end_time": "2022-06-22T14:07:38.922881",
     "exception": false,
     "start_time": "2022-06-22T14:07:38.862250",
     "status": "completed"
    },
    "tags": []
   },
   "source": [
    "## Skip Connection Model Analysis - ABC-GAN "
   ]
  },
  {
   "cell_type": "markdown",
   "id": "5744a8bf",
   "metadata": {
    "id": "5744a8bf",
    "papermill": {
     "duration": 0.08121,
     "end_time": "2022-06-22T14:07:39.066241",
     "exception": false,
     "start_time": "2022-06-22T14:07:38.985031",
     "status": "completed"
    },
    "tags": []
   },
   "source": [
    "### Weight Analysis \n",
    "\n",
    "Study the weights of the skip connection layer\n",
    "\n",
    "Equation of the skip connection is \n",
    "\n",
    "$output = y_{gan} * w + y_{abc} * (1-w)$"
   ]
  },
  {
   "cell_type": "code",
   "execution_count": 19,
   "id": "52c31dea",
   "metadata": {
    "execution": {
     "iopub.execute_input": "2022-06-22T14:07:39.209035Z",
     "iopub.status.busy": "2022-06-22T14:07:39.207688Z",
     "iopub.status.idle": "2022-06-22T14:07:39.215920Z",
     "shell.execute_reply": "2022-06-22T14:07:39.216504Z"
    },
    "id": "52c31dea",
    "papermill": {
     "duration": 0.085991,
     "end_time": "2022-06-22T14:07:39.216761",
     "exception": false,
     "start_time": "2022-06-22T14:07:39.130770",
     "status": "completed"
    },
    "tags": []
   },
   "outputs": [
    {
     "name": "stdout",
     "output_type": "stream",
     "text": [
      "Weight of the node at skip connection\n",
      "Parameter containing:\n",
      "tensor([[0.]], requires_grad=True)\n"
     ]
    },
    {
     "data": {
      "application/scrapbook.scrap.json+json": {
       "data": 0.0,
       "encoder": "json",
       "name": "Skip Connection Weight",
       "version": 1
      }
     },
     "metadata": {
      "scrapbook": {
       "data": true,
       "display": false,
       "name": "Skip Connection Weight"
      }
     },
     "output_type": "display_data"
    }
   ],
   "source": [
    "print(\"Weight of the node at skip connection\")\n",
    "for name,param in gen3.named_parameters():\n",
    "    if(name == \"skipNode.weight\"):\n",
    "        print(param)\n",
    "        sb.glue(\"Skip Connection Weight\",param.item())"
   ]
  }
 ],
 "metadata": {
  "colab": {
   "collapsed_sections": [],
   "name": "ABC_GAN_Model-Catboost_Pre-gen.ipynb",
   "provenance": []
  },
  "interpreter": {
   "hash": "31f2aee4e71d21fbe5cf8b01ff0e069b9275f58929596ceb00d14d90e3e16cd6"
  },
  "kernelspec": {
   "display_name": "Python 3 (ipykernel)",
   "language": "python",
   "name": "python3"
  },
  "language_info": {
   "codemirror_mode": {
    "name": "ipython",
    "version": 3
   },
   "file_extension": ".py",
   "mimetype": "text/x-python",
   "name": "python",
   "nbconvert_exporter": "python",
   "pygments_lexer": "ipython3",
   "version": "3.8.3"
  },
  "papermill": {
   "default_parameters": {},
   "duration": 179.342436,
   "end_time": "2022-06-22T14:07:40.233077",
   "environment_variables": {},
   "exception": null,
   "input_path": "ABC_GAN-TabNet.ipynb",
   "output_path": "./ABC_GAN_TabNet/ABC-GAN_output_5_11.ipynb",
   "parameters": {
    "bias": 0,
    "variance": 0.01
   },
   "start_time": "2022-06-22T14:04:40.890641",
   "version": "2.3.3"
  }
 },
 "nbformat": 4,
 "nbformat_minor": 5
}