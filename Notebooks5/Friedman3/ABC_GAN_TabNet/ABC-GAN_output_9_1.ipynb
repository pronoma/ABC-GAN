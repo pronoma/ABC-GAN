{
 "cells": [
  {
   "cell_type": "markdown",
   "id": "622780e6",
   "metadata": {
    "id": "622780e6",
    "papermill": {
     "duration": 0.040551,
     "end_time": "2022-06-22T15:54:57.461323",
     "exception": false,
     "start_time": "2022-06-22T15:54:57.420772",
     "status": "completed"
    },
    "tags": []
   },
   "source": [
    "## Import Libraries "
   ]
  },
  {
   "cell_type": "code",
   "execution_count": 1,
   "id": "a62397e3",
   "metadata": {
    "execution": {
     "iopub.execute_input": "2022-06-22T15:54:57.532874Z",
     "iopub.status.busy": "2022-06-22T15:54:57.530272Z",
     "iopub.status.idle": "2022-06-22T15:54:57.538438Z",
     "shell.execute_reply": "2022-06-22T15:54:57.536729Z"
    },
    "id": "a62397e3",
    "papermill": {
     "duration": 0.050524,
     "end_time": "2022-06-22T15:54:57.538835",
     "exception": false,
     "start_time": "2022-06-22T15:54:57.488311",
     "status": "completed"
    },
    "tags": []
   },
   "outputs": [],
   "source": [
    "import warnings\n",
    "import sys\n",
    "sys.path.insert(0, '../../src')\n",
    "warnings.filterwarnings('ignore')"
   ]
  },
  {
   "cell_type": "code",
   "execution_count": 2,
   "id": "d6a4e155",
   "metadata": {
    "execution": {
     "iopub.execute_input": "2022-06-22T15:54:57.594872Z",
     "iopub.status.busy": "2022-06-22T15:54:57.593708Z",
     "iopub.status.idle": "2022-06-22T15:55:10.965193Z",
     "shell.execute_reply": "2022-06-22T15:55:10.965974Z"
    },
    "id": "d6a4e155",
    "papermill": {
     "duration": 13.405805,
     "end_time": "2022-06-22T15:55:10.966273",
     "exception": false,
     "start_time": "2022-06-22T15:54:57.560468",
     "status": "completed"
    },
    "tags": []
   },
   "outputs": [],
   "source": [
    "import ABC_train_test2\n",
    "import friedman3Dataset\n",
    "import network\n",
    "import dataset\n",
    "import sanityChecks\n",
    "import torch \n",
    "import scrapbook as sb\n",
    "from statistics import mean \n",
    "import catboost as ctb \n",
    "from sklearn.model_selection import train_test_split\n",
    "from sklearn.metrics import mean_squared_error,mean_absolute_error\n",
    "import numpy as np\n",
    "from pytorch_tabnet.tab_model import TabNetRegressor"
   ]
  },
  {
   "cell_type": "markdown",
   "id": "2fa5b0f7",
   "metadata": {
    "id": "2fa5b0f7",
    "papermill": {
     "duration": 0.031063,
     "end_time": "2022-06-22T15:55:11.019278",
     "exception": false,
     "start_time": "2022-06-22T15:55:10.988215",
     "status": "completed"
    },
    "tags": []
   },
   "source": [
    "## Parameters "
   ]
  },
  {
   "cell_type": "code",
   "execution_count": 3,
   "id": "783186fb",
   "metadata": {
    "execution": {
     "iopub.execute_input": "2022-06-22T15:55:11.081481Z",
     "iopub.status.busy": "2022-06-22T15:55:11.080457Z",
     "iopub.status.idle": "2022-06-22T15:55:11.083282Z",
     "shell.execute_reply": "2022-06-22T15:55:11.083970Z"
    },
    "id": "783186fb",
    "papermill": {
     "duration": 0.031874,
     "end_time": "2022-06-22T15:55:11.084278",
     "exception": false,
     "start_time": "2022-06-22T15:55:11.052404",
     "status": "completed"
    },
    "tags": [
     "parameters"
    ]
   },
   "outputs": [],
   "source": [
    "variance = 1\n",
    "bias = 1 "
   ]
  },
  {
   "cell_type": "code",
   "execution_count": 4,
   "id": "e9ba5d0d",
   "metadata": {
    "execution": {
     "iopub.execute_input": "2022-06-22T15:55:11.133022Z",
     "iopub.status.busy": "2022-06-22T15:55:11.131824Z",
     "iopub.status.idle": "2022-06-22T15:55:11.134754Z",
     "shell.execute_reply": "2022-06-22T15:55:11.136089Z"
    },
    "papermill": {
     "duration": 0.033252,
     "end_time": "2022-06-22T15:55:11.137281",
     "exception": false,
     "start_time": "2022-06-22T15:55:11.104029",
     "status": "completed"
    },
    "tags": [
     "injected-parameters"
    ]
   },
   "outputs": [],
   "source": [
    "# Parameters\n",
    "variance = 0.1\n",
    "bias = 1\n"
   ]
  },
  {
   "cell_type": "markdown",
   "id": "391cdbfd",
   "metadata": {
    "id": "391cdbfd",
    "papermill": {
     "duration": 0.019025,
     "end_time": "2022-06-22T15:55:11.176697",
     "exception": false,
     "start_time": "2022-06-22T15:55:11.157672",
     "status": "completed"
    },
    "tags": []
   },
   "source": [
    "## Dataset \n"
   ]
  },
  {
   "cell_type": "code",
   "execution_count": 5,
   "id": "5b51f161",
   "metadata": {
    "execution": {
     "iopub.execute_input": "2022-06-22T15:55:11.240790Z",
     "iopub.status.busy": "2022-06-22T15:55:11.232837Z",
     "iopub.status.idle": "2022-06-22T15:55:11.251024Z",
     "shell.execute_reply": "2022-06-22T15:55:11.251874Z"
    },
    "id": "5b51f161",
    "papermill": {
     "duration": 0.050426,
     "end_time": "2022-06-22T15:55:11.253453",
     "exception": false,
     "start_time": "2022-06-22T15:55:11.203027",
     "status": "completed"
    },
    "tags": []
   },
   "outputs": [],
   "source": [
    "#Parameters \n",
    "n_features = 4\n",
    "n_samples= 100\n",
    "n_target = 1"
   ]
  },
  {
   "cell_type": "code",
   "execution_count": 6,
   "id": "5d6eced4",
   "metadata": {
    "execution": {
     "iopub.execute_input": "2022-06-22T15:55:11.458190Z",
     "iopub.status.busy": "2022-06-22T15:55:11.451104Z",
     "iopub.status.idle": "2022-06-22T15:55:11.477469Z",
     "shell.execute_reply": "2022-06-22T15:55:11.482030Z"
    },
    "id": "5d6eced4",
    "papermill": {
     "duration": 0.197791,
     "end_time": "2022-06-22T15:55:11.482952",
     "exception": false,
     "start_time": "2022-06-22T15:55:11.285161",
     "status": "completed"
    },
    "tags": []
   },
   "outputs": [
    {
     "name": "stdout",
     "output_type": "stream",
     "text": [
      "          X1           X2        X3        X4         Y\n",
      "0  96.727520   625.928065  0.782851  8.337833  1.379184\n",
      "1  80.011254   275.629413  0.946230  1.891693  1.263118\n",
      "2  67.023511   573.076989  0.270547  2.937012  1.049734\n",
      "3  43.492837  1271.715651  0.774602  3.058281  1.579983\n",
      "4  76.367930   881.096523  0.594845  2.245454  1.427579\n"
     ]
    }
   ],
   "source": [
    "X,Y = friedman3Dataset.friedman3_data(n_samples)"
   ]
  },
  {
   "cell_type": "code",
   "execution_count": 7,
   "id": "fe007438",
   "metadata": {
    "execution": {
     "iopub.execute_input": "2022-06-22T15:55:11.566717Z",
     "iopub.status.busy": "2022-06-22T15:55:11.564981Z",
     "iopub.status.idle": "2022-06-22T15:55:11.568560Z",
     "shell.execute_reply": "2022-06-22T15:55:11.569391Z"
    },
    "id": "fe007438",
    "papermill": {
     "duration": 0.046263,
     "end_time": "2022-06-22T15:55:11.569785",
     "exception": false,
     "start_time": "2022-06-22T15:55:11.523522",
     "status": "completed"
    },
    "tags": []
   },
   "outputs": [],
   "source": [
    "#Train test split for dataset \n",
    "X_train,X_test,Y_train,Y_test = train_test_split(X,Y,test_size = 0.2)\n",
    "train_data = dataset.CustomDataset(X_train,Y_train)\n",
    "test_data = dataset.CustomDataset(X_test,Y_test)\n"
   ]
  },
  {
   "cell_type": "markdown",
   "id": "a9a1af34",
   "metadata": {
    "id": "a9a1af34",
    "papermill": {
     "duration": 0.032427,
     "end_time": "2022-06-22T15:55:11.623299",
     "exception": false,
     "start_time": "2022-06-22T15:55:11.590872",
     "status": "completed"
    },
    "tags": []
   },
   "source": [
    "## Training Parameters "
   ]
  },
  {
   "cell_type": "code",
   "execution_count": 8,
   "id": "952b7fc8",
   "metadata": {
    "execution": {
     "iopub.execute_input": "2022-06-22T15:55:11.677724Z",
     "iopub.status.busy": "2022-06-22T15:55:11.676751Z",
     "iopub.status.idle": "2022-06-22T15:55:11.679795Z",
     "shell.execute_reply": "2022-06-22T15:55:11.680465Z"
    },
    "id": "952b7fc8",
    "papermill": {
     "duration": 0.03062,
     "end_time": "2022-06-22T15:55:11.680873",
     "exception": false,
     "start_time": "2022-06-22T15:55:11.650253",
     "status": "completed"
    },
    "tags": []
   },
   "outputs": [],
   "source": [
    "batch_size = 32\n",
    "n_epochs = 1000\n",
    "#Select the device \n",
    "device = torch.device('cuda' if torch.cuda.is_available() else 'cpu')"
   ]
  },
  {
   "cell_type": "markdown",
   "id": "a95e1600",
   "metadata": {
    "id": "a95e1600",
    "papermill": {
     "duration": 0.04442,
     "end_time": "2022-06-22T15:55:11.745806",
     "exception": false,
     "start_time": "2022-06-22T15:55:11.701386",
     "status": "completed"
    },
    "tags": []
   },
   "source": [
    "# ABC Pre-generator Model \n",
    "\n",
    "1. The catboost model is used as a pre-generator model for the ABC-GAN. \n",
    "2. The model is first trained on the entire dataset \n",
    "3. It generats X,Y pairs and we add some Gaussian noise with mean 0 and variance 1 to it which is then feed as input to the generator.\n"
   ]
  },
  {
   "cell_type": "code",
   "execution_count": 9,
   "id": "ff8ce7bd",
   "metadata": {
    "execution": {
     "iopub.execute_input": "2022-06-22T15:55:11.798032Z",
     "iopub.status.busy": "2022-06-22T15:55:11.794329Z",
     "iopub.status.idle": "2022-06-22T15:55:46.586417Z",
     "shell.execute_reply": "2022-06-22T15:55:46.587304Z"
    },
    "id": "ff8ce7bd",
    "papermill": {
     "duration": 34.818987,
     "end_time": "2022-06-22T15:55:46.587542",
     "exception": false,
     "start_time": "2022-06-22T15:55:11.768555",
     "status": "completed"
    },
    "tags": []
   },
   "outputs": [
    {
     "name": "stdout",
     "output_type": "stream",
     "text": [
      "Device used : cpu\n"
     ]
    },
    {
     "name": "stdout",
     "output_type": "stream",
     "text": [
      "epoch 0  | loss: 1.03493 | train_mse: 3.64088 | train_mae: 1.49289 |  0:00:00s\n",
      "epoch 1  | loss: 0.76286 | train_mse: 2.44112 | train_mae: 1.20947 |  0:00:00s\n"
     ]
    },
    {
     "name": "stdout",
     "output_type": "stream",
     "text": [
      "epoch 2  | loss: 0.59913 | train_mse: 2.10402 | train_mae: 1.07499 |  0:00:00s\n",
      "epoch 3  | loss: 0.65346 | train_mse: 2.28969 | train_mae: 1.09358 |  0:00:00s\n",
      "epoch 4  | loss: 0.61318 | train_mse: 1.81103 | train_mae: 0.98014 |  0:00:00s\n"
     ]
    },
    {
     "name": "stdout",
     "output_type": "stream",
     "text": [
      "epoch 5  | loss: 0.61407 | train_mse: 0.94549 | train_mae: 0.75123 |  0:00:00s\n",
      "epoch 6  | loss: 0.52613 | train_mse: 0.73233 | train_mae: 0.58806 |  0:00:00s\n",
      "epoch 7  | loss: 0.45283 | train_mse: 0.70838 | train_mae: 0.57139 |  0:00:01s\n"
     ]
    },
    {
     "name": "stdout",
     "output_type": "stream",
     "text": [
      "epoch 8  | loss: 0.4685  | train_mse: 0.65941 | train_mae: 0.58491 |  0:00:01s\n",
      "epoch 9  | loss: 0.38206 | train_mse: 0.75834 | train_mae: 0.60392 |  0:00:01s\n"
     ]
    },
    {
     "name": "stdout",
     "output_type": "stream",
     "text": [
      "epoch 10 | loss: 0.35882 | train_mse: 0.91653 | train_mae: 0.62629 |  0:00:01s\n",
      "epoch 11 | loss: 0.22653 | train_mse: 0.90114 | train_mae: 0.60711 |  0:00:01s\n"
     ]
    },
    {
     "name": "stdout",
     "output_type": "stream",
     "text": [
      "epoch 12 | loss: 0.31337 | train_mse: 1.29272 | train_mae: 0.66196 |  0:00:01s\n",
      "epoch 13 | loss: 0.37113 | train_mse: 1.02243 | train_mae: 0.59567 |  0:00:01s\n",
      "epoch 14 | loss: 0.43713 | train_mse: 0.72153 | train_mae: 0.53364 |  0:00:01s\n"
     ]
    },
    {
     "name": "stdout",
     "output_type": "stream",
     "text": [
      "epoch 15 | loss: 0.38393 | train_mse: 0.72359 | train_mae: 0.52672 |  0:00:01s\n",
      "epoch 16 | loss: 0.42592 | train_mse: 0.88662 | train_mae: 0.55345 |  0:00:02s\n",
      "epoch 17 | loss: 0.28575 | train_mse: 0.81074 | train_mae: 0.5539  |  0:00:02s\n"
     ]
    },
    {
     "name": "stdout",
     "output_type": "stream",
     "text": [
      "epoch 18 | loss: 0.25598 | train_mse: 0.5468  | train_mae: 0.49677 |  0:00:02s\n",
      "epoch 19 | loss: 0.23062 | train_mse: 0.80692 | train_mae: 0.53045 |  0:00:02s\n",
      "epoch 20 | loss: 0.92181 | train_mse: 0.62879 | train_mae: 0.48897 |  0:00:02s\n"
     ]
    },
    {
     "name": "stdout",
     "output_type": "stream",
     "text": [
      "epoch 21 | loss: 0.23283 | train_mse: 0.33273 | train_mae: 0.41798 |  0:00:02s\n",
      "epoch 22 | loss: 0.60129 | train_mse: 0.23762 | train_mae: 0.38889 |  0:00:02s\n"
     ]
    },
    {
     "name": "stdout",
     "output_type": "stream",
     "text": [
      "epoch 23 | loss: 0.40661 | train_mse: 0.30808 | train_mae: 0.4134  |  0:00:02s\n",
      "epoch 24 | loss: 0.38174 | train_mse: 0.43945 | train_mae: 0.43654 |  0:00:02s\n",
      "epoch 25 | loss: 0.22188 | train_mse: 0.67569 | train_mae: 0.4694  |  0:00:02s\n"
     ]
    },
    {
     "name": "stdout",
     "output_type": "stream",
     "text": [
      "epoch 26 | loss: 0.20458 | train_mse: 1.0562  | train_mae: 0.48284 |  0:00:02s\n",
      "epoch 27 | loss: 0.29037 | train_mse: 1.00983 | train_mae: 0.4619  |  0:00:03s\n"
     ]
    },
    {
     "name": "stdout",
     "output_type": "stream",
     "text": [
      "epoch 28 | loss: 0.25635 | train_mse: 1.00218 | train_mae: 0.46163 |  0:00:03s\n",
      "epoch 29 | loss: 0.20317 | train_mse: 0.94116 | train_mae: 0.46571 |  0:00:03s\n"
     ]
    },
    {
     "name": "stdout",
     "output_type": "stream",
     "text": [
      "epoch 30 | loss: 0.19454 | train_mse: 0.79795 | train_mae: 0.45645 |  0:00:03s\n",
      "epoch 31 | loss: 0.26035 | train_mse: 1.07393 | train_mae: 0.47285 |  0:00:03s\n"
     ]
    },
    {
     "name": "stdout",
     "output_type": "stream",
     "text": [
      "epoch 32 | loss: 0.33117 | train_mse: 0.85988 | train_mae: 0.44257 |  0:00:03s\n",
      "epoch 33 | loss: 0.43077 | train_mse: 0.55911 | train_mae: 0.39089 |  0:00:03s\n"
     ]
    },
    {
     "name": "stdout",
     "output_type": "stream",
     "text": [
      "epoch 34 | loss: 0.23911 | train_mse: 0.49228 | train_mae: 0.39407 |  0:00:04s\n",
      "epoch 35 | loss: 0.21707 | train_mse: 0.44195 | train_mae: 0.39117 |  0:00:04s\n"
     ]
    },
    {
     "name": "stdout",
     "output_type": "stream",
     "text": [
      "epoch 36 | loss: 0.26198 | train_mse: 0.47696 | train_mae: 0.39526 |  0:00:04s\n",
      "epoch 37 | loss: 0.22861 | train_mse: 0.50463 | train_mae: 0.39422 |  0:00:04s\n"
     ]
    },
    {
     "name": "stdout",
     "output_type": "stream",
     "text": [
      "epoch 38 | loss: 0.19854 | train_mse: 0.52206 | train_mae: 0.39644 |  0:00:04s\n",
      "epoch 39 | loss: 0.24586 | train_mse: 0.28661 | train_mae: 0.35705 |  0:00:04s\n"
     ]
    },
    {
     "name": "stdout",
     "output_type": "stream",
     "text": [
      "epoch 40 | loss: 0.55781 | train_mse: 0.13979 | train_mae: 0.30286 |  0:00:04s\n",
      "epoch 41 | loss: 0.46866 | train_mse: 0.25909 | train_mae: 0.36697 |  0:00:04s\n",
      "epoch 42 | loss: 0.46738 | train_mse: 0.17736 | train_mae: 0.3298  |  0:00:05s\n"
     ]
    },
    {
     "name": "stdout",
     "output_type": "stream",
     "text": [
      "epoch 43 | loss: 0.43353 | train_mse: 0.17619 | train_mae: 0.32807 |  0:00:05s\n",
      "epoch 44 | loss: 0.36213 | train_mse: 0.20212 | train_mae: 0.34499 |  0:00:05s\n"
     ]
    },
    {
     "name": "stdout",
     "output_type": "stream",
     "text": [
      "epoch 45 | loss: 0.3321  | train_mse: 0.23511 | train_mae: 0.37098 |  0:00:05s\n",
      "epoch 46 | loss: 0.26123 | train_mse: 0.26684 | train_mae: 0.4143  |  0:00:05s\n"
     ]
    },
    {
     "name": "stdout",
     "output_type": "stream",
     "text": [
      "epoch 47 | loss: 0.26211 | train_mse: 0.29555 | train_mae: 0.42871 |  0:00:05s\n",
      "epoch 48 | loss: 0.2453  | train_mse: 0.42989 | train_mae: 0.41435 |  0:00:05s\n"
     ]
    },
    {
     "name": "stdout",
     "output_type": "stream",
     "text": [
      "epoch 49 | loss: 0.25509 | train_mse: 0.31283 | train_mae: 0.35979 |  0:00:05s\n",
      "epoch 50 | loss: 0.34546 | train_mse: 0.23411 | train_mae: 0.3349  |  0:00:05s\n",
      "epoch 51 | loss: 0.24806 | train_mse: 0.2107  | train_mae: 0.35168 |  0:00:06s\n"
     ]
    },
    {
     "name": "stdout",
     "output_type": "stream",
     "text": [
      "epoch 52 | loss: 0.2601  | train_mse: 0.20412 | train_mae: 0.34781 |  0:00:06s\n",
      "epoch 53 | loss: 0.23531 | train_mse: 0.21456 | train_mae: 0.32112 |  0:00:06s\n"
     ]
    },
    {
     "name": "stdout",
     "output_type": "stream",
     "text": [
      "epoch 54 | loss: 0.28107 | train_mse: 0.23036 | train_mae: 0.31647 |  0:00:06s\n",
      "epoch 55 | loss: 0.19914 | train_mse: 0.34164 | train_mae: 0.35112 |  0:00:06s\n"
     ]
    },
    {
     "name": "stdout",
     "output_type": "stream",
     "text": [
      "epoch 56 | loss: 0.15817 | train_mse: 0.41856 | train_mae: 0.36702 |  0:00:06s\n",
      "epoch 57 | loss: 0.30798 | train_mse: 0.37181 | train_mae: 0.36579 |  0:00:07s\n"
     ]
    },
    {
     "name": "stdout",
     "output_type": "stream",
     "text": [
      "epoch 58 | loss: 0.29796 | train_mse: 0.19431 | train_mae: 0.33018 |  0:00:07s\n"
     ]
    },
    {
     "name": "stdout",
     "output_type": "stream",
     "text": [
      "epoch 59 | loss: 0.22347 | train_mse: 0.13878 | train_mae: 0.31287 |  0:00:07s\n",
      "epoch 60 | loss: 0.3755  | train_mse: 0.18023 | train_mae: 0.33306 |  0:00:07s\n",
      "epoch 61 | loss: 0.31652 | train_mse: 0.15887 | train_mae: 0.31806 |  0:00:07s\n"
     ]
    },
    {
     "name": "stdout",
     "output_type": "stream",
     "text": [
      "epoch 62 | loss: 0.32275 | train_mse: 0.18634 | train_mae: 0.34589 |  0:00:07s\n",
      "epoch 63 | loss: 0.19175 | train_mse: 0.19045 | train_mae: 0.34166 |  0:00:07s\n"
     ]
    },
    {
     "name": "stdout",
     "output_type": "stream",
     "text": [
      "epoch 64 | loss: 0.48552 | train_mse: 0.19067 | train_mae: 0.3271  |  0:00:07s\n",
      "epoch 65 | loss: 0.2741  | train_mse: 0.35094 | train_mae: 0.37255 |  0:00:08s\n"
     ]
    },
    {
     "name": "stdout",
     "output_type": "stream",
     "text": [
      "epoch 66 | loss: 0.16218 | train_mse: 0.45821 | train_mae: 0.38721 |  0:00:08s\n",
      "epoch 67 | loss: 0.3833  | train_mse: 0.40858 | train_mae: 0.36602 |  0:00:08s\n"
     ]
    },
    {
     "name": "stdout",
     "output_type": "stream",
     "text": [
      "epoch 68 | loss: 0.21312 | train_mse: 0.2321  | train_mae: 0.33155 |  0:00:08s\n",
      "epoch 69 | loss: 0.13479 | train_mse: 0.14406 | train_mae: 0.28906 |  0:00:08s\n"
     ]
    },
    {
     "name": "stdout",
     "output_type": "stream",
     "text": [
      "epoch 70 | loss: 0.24538 | train_mse: 0.12517 | train_mae: 0.26868 |  0:00:08s\n",
      "epoch 71 | loss: 0.237   | train_mse: 0.12695 | train_mae: 0.27601 |  0:00:09s\n"
     ]
    },
    {
     "name": "stdout",
     "output_type": "stream",
     "text": [
      "epoch 72 | loss: 0.1987  | train_mse: 0.15086 | train_mae: 0.30103 |  0:00:09s\n",
      "epoch 73 | loss: 0.25676 | train_mse: 0.12974 | train_mae: 0.28623 |  0:00:09s\n"
     ]
    },
    {
     "name": "stdout",
     "output_type": "stream",
     "text": [
      "epoch 74 | loss: 0.26822 | train_mse: 0.11444 | train_mae: 0.27124 |  0:00:09s\n",
      "epoch 75 | loss: 0.18019 | train_mse: 0.09722 | train_mae: 0.25825 |  0:00:09s\n"
     ]
    },
    {
     "name": "stdout",
     "output_type": "stream",
     "text": [
      "epoch 76 | loss: 0.19998 | train_mse: 0.11135 | train_mae: 0.26913 |  0:00:09s\n",
      "epoch 77 | loss: 0.19924 | train_mse: 0.12258 | train_mae: 0.27346 |  0:00:09s\n"
     ]
    },
    {
     "name": "stdout",
     "output_type": "stream",
     "text": [
      "epoch 78 | loss: 0.17413 | train_mse: 0.1411  | train_mae: 0.2769  |  0:00:09s\n",
      "epoch 79 | loss: 0.13286 | train_mse: 0.17963 | train_mae: 0.3141  |  0:00:10s\n",
      "epoch 80 | loss: 0.16388 | train_mse: 0.21776 | train_mae: 0.31778 |  0:00:10s\n"
     ]
    },
    {
     "name": "stdout",
     "output_type": "stream",
     "text": [
      "epoch 81 | loss: 0.28967 | train_mse: 0.21051 | train_mae: 0.30669 |  0:00:10s\n",
      "epoch 82 | loss: 0.128   | train_mse: 0.2001  | train_mae: 0.31056 |  0:00:10s\n",
      "epoch 83 | loss: 0.1769  | train_mse: 0.21781 | train_mae: 0.31924 |  0:00:10s\n"
     ]
    },
    {
     "name": "stdout",
     "output_type": "stream",
     "text": [
      "epoch 84 | loss: 0.13609 | train_mse: 0.20107 | train_mae: 0.31783 |  0:00:10s\n",
      "epoch 85 | loss: 0.1197  | train_mse: 0.20336 | train_mae: 0.31358 |  0:00:10s\n",
      "epoch 86 | loss: 0.16731 | train_mse: 0.24028 | train_mae: 0.31452 |  0:00:10s\n"
     ]
    },
    {
     "name": "stdout",
     "output_type": "stream",
     "text": [
      "epoch 87 | loss: 0.13667 | train_mse: 0.23211 | train_mae: 0.30548 |  0:00:10s\n",
      "epoch 88 | loss: 0.12078 | train_mse: 0.1517  | train_mae: 0.27201 |  0:00:11s\n"
     ]
    },
    {
     "name": "stdout",
     "output_type": "stream",
     "text": [
      "epoch 89 | loss: 0.12634 | train_mse: 0.13253 | train_mae: 0.27967 |  0:00:11s\n",
      "epoch 90 | loss: 0.22698 | train_mse: 0.12364 | train_mae: 0.29019 |  0:00:11s\n"
     ]
    },
    {
     "name": "stdout",
     "output_type": "stream",
     "text": [
      "epoch 91 | loss: 0.23074 | train_mse: 0.11375 | train_mae: 0.28335 |  0:00:11s\n",
      "epoch 92 | loss: 0.16294 | train_mse: 0.10525 | train_mae: 0.26445 |  0:00:11s\n",
      "epoch 93 | loss: 0.22492 | train_mse: 0.12752 | train_mae: 0.27515 |  0:00:11s\n"
     ]
    },
    {
     "name": "stdout",
     "output_type": "stream",
     "text": [
      "epoch 94 | loss: 0.09215 | train_mse: 0.12753 | train_mae: 0.25684 |  0:00:11s\n",
      "epoch 95 | loss: 0.2186  | train_mse: 0.10435 | train_mae: 0.24212 |  0:00:11s\n"
     ]
    },
    {
     "name": "stdout",
     "output_type": "stream",
     "text": [
      "epoch 96 | loss: 0.12189 | train_mse: 0.113   | train_mae: 0.24183 |  0:00:11s\n",
      "epoch 97 | loss: 0.22275 | train_mse: 0.10256 | train_mae: 0.24777 |  0:00:12s\n"
     ]
    },
    {
     "name": "stdout",
     "output_type": "stream",
     "text": [
      "epoch 98 | loss: 0.19586 | train_mse: 0.09421 | train_mae: 0.23853 |  0:00:12s\n",
      "epoch 99 | loss: 0.14528 | train_mse: 0.17004 | train_mae: 0.26138 |  0:00:12s\n"
     ]
    },
    {
     "name": "stdout",
     "output_type": "stream",
     "text": [
      "epoch 100| loss: 0.31286 | train_mse: 0.08844 | train_mae: 0.24328 |  0:00:12s\n",
      "epoch 101| loss: 0.20165 | train_mse: 0.08282 | train_mae: 0.22783 |  0:00:12s\n"
     ]
    },
    {
     "name": "stdout",
     "output_type": "stream",
     "text": [
      "epoch 102| loss: 0.1182  | train_mse: 0.0804  | train_mae: 0.21801 |  0:00:12s\n"
     ]
    },
    {
     "name": "stdout",
     "output_type": "stream",
     "text": [
      "epoch 103| loss: 0.16924 | train_mse: 0.08759 | train_mae: 0.2267  |  0:00:13s\n",
      "epoch 104| loss: 0.11388 | train_mse: 0.1059  | train_mae: 0.24942 |  0:00:13s\n"
     ]
    },
    {
     "name": "stdout",
     "output_type": "stream",
     "text": [
      "epoch 105| loss: 0.159   | train_mse: 0.10159 | train_mae: 0.25126 |  0:00:13s\n"
     ]
    },
    {
     "name": "stdout",
     "output_type": "stream",
     "text": [
      "epoch 106| loss: 0.1092  | train_mse: 0.09847 | train_mae: 0.25908 |  0:00:13s\n"
     ]
    },
    {
     "name": "stdout",
     "output_type": "stream",
     "text": [
      "epoch 107| loss: 0.19327 | train_mse: 0.0962  | train_mae: 0.25766 |  0:00:13s\n",
      "epoch 108| loss: 0.20891 | train_mse: 0.09311 | train_mae: 0.2518  |  0:00:14s\n"
     ]
    },
    {
     "name": "stdout",
     "output_type": "stream",
     "text": [
      "epoch 109| loss: 0.19402 | train_mse: 0.09284 | train_mae: 0.24893 |  0:00:14s\n"
     ]
    },
    {
     "name": "stdout",
     "output_type": "stream",
     "text": [
      "epoch 110| loss: 0.13073 | train_mse: 0.08664 | train_mae: 0.23965 |  0:00:15s\n"
     ]
    },
    {
     "name": "stdout",
     "output_type": "stream",
     "text": [
      "epoch 111| loss: 0.33574 | train_mse: 0.09622 | train_mae: 0.25347 |  0:00:15s\n"
     ]
    },
    {
     "name": "stdout",
     "output_type": "stream",
     "text": [
      "epoch 112| loss: 0.11681 | train_mse: 0.10976 | train_mae: 0.26994 |  0:00:15s\n"
     ]
    },
    {
     "name": "stdout",
     "output_type": "stream",
     "text": [
      "epoch 113| loss: 0.12955 | train_mse: 0.11633 | train_mae: 0.27705 |  0:00:16s\n",
      "epoch 114| loss: 0.32344 | train_mse: 0.10519 | train_mae: 0.27251 |  0:00:16s\n"
     ]
    },
    {
     "name": "stdout",
     "output_type": "stream",
     "text": [
      "epoch 115| loss: 0.20669 | train_mse: 0.14441 | train_mae: 0.28133 |  0:00:16s\n"
     ]
    },
    {
     "name": "stdout",
     "output_type": "stream",
     "text": [
      "epoch 116| loss: 0.18335 | train_mse: 0.16311 | train_mae: 0.27934 |  0:00:17s\n",
      "epoch 117| loss: 0.2135  | train_mse: 0.14573 | train_mae: 0.28554 |  0:00:17s\n"
     ]
    },
    {
     "name": "stdout",
     "output_type": "stream",
     "text": [
      "epoch 118| loss: 0.34663 | train_mse: 0.13777 | train_mae: 0.29097 |  0:00:17s\n"
     ]
    },
    {
     "name": "stdout",
     "output_type": "stream",
     "text": [
      "epoch 119| loss: 0.23796 | train_mse: 0.13835 | train_mae: 0.29984 |  0:00:17s\n",
      "epoch 120| loss: 0.1719  | train_mse: 0.13784 | train_mae: 0.29488 |  0:00:17s\n"
     ]
    },
    {
     "name": "stdout",
     "output_type": "stream",
     "text": [
      "epoch 121| loss: 0.27017 | train_mse: 0.13148 | train_mae: 0.29391 |  0:00:18s\n"
     ]
    },
    {
     "name": "stdout",
     "output_type": "stream",
     "text": [
      "epoch 122| loss: 0.16431 | train_mse: 0.10192 | train_mae: 0.26004 |  0:00:18s\n"
     ]
    },
    {
     "name": "stdout",
     "output_type": "stream",
     "text": [
      "epoch 123| loss: 0.17064 | train_mse: 0.08845 | train_mae: 0.24749 |  0:00:19s\n"
     ]
    },
    {
     "name": "stdout",
     "output_type": "stream",
     "text": [
      "epoch 124| loss: 0.12218 | train_mse: 0.10021 | train_mae: 0.24384 |  0:00:19s\n"
     ]
    },
    {
     "name": "stdout",
     "output_type": "stream",
     "text": [
      "epoch 125| loss: 0.16327 | train_mse: 0.15518 | train_mae: 0.27416 |  0:00:20s\n"
     ]
    },
    {
     "name": "stdout",
     "output_type": "stream",
     "text": [
      "epoch 126| loss: 0.14883 | train_mse: 0.21315 | train_mae: 0.27788 |  0:00:20s\n"
     ]
    },
    {
     "name": "stdout",
     "output_type": "stream",
     "text": [
      "epoch 127| loss: 0.13779 | train_mse: 0.23288 | train_mae: 0.27066 |  0:00:21s\n"
     ]
    },
    {
     "name": "stdout",
     "output_type": "stream",
     "text": [
      "epoch 128| loss: 0.14182 | train_mse: 0.19742 | train_mae: 0.26947 |  0:00:21s\n"
     ]
    },
    {
     "name": "stdout",
     "output_type": "stream",
     "text": [
      "epoch 129| loss: 0.17833 | train_mse: 0.17485 | train_mae: 0.27853 |  0:00:21s\n",
      "epoch 130| loss: 0.11894 | train_mse: 0.21423 | train_mae: 0.29307 |  0:00:22s\n"
     ]
    },
    {
     "name": "stdout",
     "output_type": "stream",
     "text": [
      "epoch 131| loss: 0.35577 | train_mse: 0.24779 | train_mae: 0.3079  |  0:00:22s\n"
     ]
    },
    {
     "name": "stdout",
     "output_type": "stream",
     "text": [
      "epoch 132| loss: 0.18802 | train_mse: 0.2101  | train_mae: 0.29343 |  0:00:22s\n",
      "epoch 133| loss: 0.23399 | train_mse: 0.15915 | train_mae: 0.27519 |  0:00:22s\n"
     ]
    },
    {
     "name": "stdout",
     "output_type": "stream",
     "text": [
      "epoch 134| loss: 0.13485 | train_mse: 0.12539 | train_mae: 0.25625 |  0:00:22s\n",
      "epoch 135| loss: 0.13053 | train_mse: 0.10634 | train_mae: 0.23986 |  0:00:23s\n"
     ]
    },
    {
     "name": "stdout",
     "output_type": "stream",
     "text": [
      "epoch 136| loss: 0.08268 | train_mse: 0.1094  | train_mae: 0.24688 |  0:00:23s\n",
      "epoch 137| loss: 0.13443 | train_mse: 0.10534 | train_mae: 0.24171 |  0:00:23s\n",
      "epoch 138| loss: 0.09965 | train_mse: 0.09845 | train_mae: 0.23431 |  0:00:23s"
     ]
    },
    {
     "name": "stdout",
     "output_type": "stream",
     "text": [
      "\n",
      "epoch 139| loss: 0.16574 | train_mse: 0.11105 | train_mae: 0.23856 |  0:00:23s\n",
      "epoch 140| loss: 0.1016  | train_mse: 0.12103 | train_mae: 0.237   |  0:00:23s\n"
     ]
    },
    {
     "name": "stdout",
     "output_type": "stream",
     "text": [
      "epoch 141| loss: 0.11016 | train_mse: 0.13227 | train_mae: 0.24265 |  0:00:23s\n",
      "epoch 142| loss: 0.25704 | train_mse: 0.12605 | train_mae: 0.24207 |  0:00:23s\n"
     ]
    },
    {
     "name": "stdout",
     "output_type": "stream",
     "text": [
      "epoch 143| loss: 0.23965 | train_mse: 0.08136 | train_mae: 0.2289  |  0:00:23s\n",
      "epoch 144| loss: 0.11419 | train_mse: 0.06975 | train_mae: 0.22006 |  0:00:23s\n",
      "epoch 145| loss: 0.10761 | train_mse: 0.07096 | train_mae: 0.21853 |  0:00:24s\n"
     ]
    },
    {
     "name": "stdout",
     "output_type": "stream",
     "text": [
      "epoch 146| loss: 0.14769 | train_mse: 0.06592 | train_mae: 0.21126 |  0:00:24s\n"
     ]
    },
    {
     "name": "stdout",
     "output_type": "stream",
     "text": [
      "epoch 147| loss: 0.10042 | train_mse: 0.07403 | train_mae: 0.21337 |  0:00:24s\n",
      "epoch 148| loss: 0.11135 | train_mse: 0.08685 | train_mae: 0.21537 |  0:00:24s\n"
     ]
    },
    {
     "name": "stdout",
     "output_type": "stream",
     "text": [
      "epoch 149| loss: 0.13302 | train_mse: 0.12085 | train_mae: 0.25299 |  0:00:24s\n",
      "epoch 150| loss: 0.13328 | train_mse: 0.12211 | train_mae: 0.24114 |  0:00:24s\n"
     ]
    },
    {
     "name": "stdout",
     "output_type": "stream",
     "text": [
      "epoch 151| loss: 0.12328 | train_mse: 0.15316 | train_mae: 0.25356 |  0:00:25s\n"
     ]
    },
    {
     "name": "stdout",
     "output_type": "stream",
     "text": [
      "epoch 152| loss: 0.1269  | train_mse: 0.16084 | train_mae: 0.23905 |  0:00:25s\n"
     ]
    },
    {
     "name": "stdout",
     "output_type": "stream",
     "text": [
      "epoch 153| loss: 0.14794 | train_mse: 0.09497 | train_mae: 0.22343 |  0:00:25s\n",
      "epoch 154| loss: 0.14014 | train_mse: 0.13234 | train_mae: 0.23295 |  0:00:25s\n"
     ]
    },
    {
     "name": "stdout",
     "output_type": "stream",
     "text": [
      "epoch 155| loss: 0.14805 | train_mse: 0.07913 | train_mae: 0.22207 |  0:00:26s\n",
      "epoch 156| loss: 0.14455 | train_mse: 0.09048 | train_mae: 0.23568 |  0:00:26s\n"
     ]
    },
    {
     "name": "stdout",
     "output_type": "stream",
     "text": [
      "epoch 157| loss: 0.1405  | train_mse: 0.14673 | train_mae: 0.25468 |  0:00:26s\n"
     ]
    },
    {
     "name": "stdout",
     "output_type": "stream",
     "text": [
      "epoch 158| loss: 0.11869 | train_mse: 0.15615 | train_mae: 0.24731 |  0:00:26s\n"
     ]
    },
    {
     "name": "stdout",
     "output_type": "stream",
     "text": [
      "epoch 159| loss: 0.30072 | train_mse: 0.16109 | train_mae: 0.2652  |  0:00:26s\n",
      "epoch 160| loss: 0.12189 | train_mse: 0.09852 | train_mae: 0.22633 |  0:00:27s\n"
     ]
    },
    {
     "name": "stdout",
     "output_type": "stream",
     "text": [
      "epoch 161| loss: 0.33861 | train_mse: 0.08498 | train_mae: 0.23121 |  0:00:27s\n",
      "epoch 162| loss: 0.2117  | train_mse: 0.08188 | train_mae: 0.23488 |  0:00:27s"
     ]
    },
    {
     "name": "stdout",
     "output_type": "stream",
     "text": [
      "\n",
      "epoch 163| loss: 0.14646 | train_mse: 0.08169 | train_mae: 0.23063 |  0:00:27s\n"
     ]
    },
    {
     "name": "stdout",
     "output_type": "stream",
     "text": [
      "epoch 164| loss: 0.19311 | train_mse: 0.0901  | train_mae: 0.23705 |  0:00:27s\n",
      "epoch 165| loss: 0.1733  | train_mse: 0.12287 | train_mae: 0.24777 |  0:00:27s\n"
     ]
    },
    {
     "name": "stdout",
     "output_type": "stream",
     "text": [
      "epoch 166| loss: 0.22249 | train_mse: 0.12647 | train_mae: 0.26227 |  0:00:28s\n",
      "epoch 167| loss: 0.1116  | train_mse: 0.12967 | train_mae: 0.27182 |  0:00:28s\n"
     ]
    },
    {
     "name": "stdout",
     "output_type": "stream",
     "text": [
      "epoch 168| loss: 0.15508 | train_mse: 0.14033 | train_mae: 0.28374 |  0:00:28s\n",
      "epoch 169| loss: 0.31102 | train_mse: 0.30022 | train_mae: 0.30923 |  0:00:28s\n"
     ]
    },
    {
     "name": "stdout",
     "output_type": "stream",
     "text": [
      "epoch 170| loss: 0.23811 | train_mse: 0.30128 | train_mae: 0.3032  |  0:00:28s\n",
      "epoch 171| loss: 0.29095 | train_mse: 0.24972 | train_mae: 0.28458 |  0:00:28s\n"
     ]
    },
    {
     "name": "stdout",
     "output_type": "stream",
     "text": [
      "epoch 172| loss: 0.2687  | train_mse: 0.24438 | train_mae: 0.2847  |  0:00:28s\n",
      "epoch 173| loss: 0.3256  | train_mse: 0.3107  | train_mae: 0.34412 |  0:00:28s\n"
     ]
    },
    {
     "name": "stdout",
     "output_type": "stream",
     "text": [
      "epoch 174| loss: 0.23453 | train_mse: 0.39808 | train_mae: 0.39559 |  0:00:29s\n",
      "epoch 175| loss: 0.28179 | train_mse: 0.42385 | train_mae: 0.39755 |  0:00:29s\n"
     ]
    },
    {
     "name": "stdout",
     "output_type": "stream",
     "text": [
      "epoch 176| loss: 0.28186 | train_mse: 0.41383 | train_mae: 0.38831 |  0:00:29s\n",
      "epoch 177| loss: 0.23005 | train_mse: 0.38056 | train_mae: 0.38144 |  0:00:29s\n"
     ]
    },
    {
     "name": "stdout",
     "output_type": "stream",
     "text": [
      "epoch 178| loss: 0.23539 | train_mse: 0.32401 | train_mae: 0.35318 |  0:00:29s\n"
     ]
    },
    {
     "name": "stdout",
     "output_type": "stream",
     "text": [
      "epoch 179| loss: 0.17828 | train_mse: 0.27787 | train_mae: 0.32557 |  0:00:29s\n",
      "epoch 180| loss: 0.21121 | train_mse: 0.29382 | train_mae: 0.33795 |  0:00:30s\n"
     ]
    },
    {
     "name": "stdout",
     "output_type": "stream",
     "text": [
      "epoch 181| loss: 0.18862 | train_mse: 0.23184 | train_mae: 0.30933 |  0:00:30s\n"
     ]
    },
    {
     "name": "stdout",
     "output_type": "stream",
     "text": [
      "epoch 182| loss: 0.21187 | train_mse: 0.19352 | train_mae: 0.28843 |  0:00:30s\n",
      "epoch 183| loss: 0.28179 | train_mse: 0.28592 | train_mae: 0.34688 |  0:00:30s\n"
     ]
    },
    {
     "name": "stdout",
     "output_type": "stream",
     "text": [
      "epoch 184| loss: 0.20223 | train_mse: 0.23525 | train_mae: 0.31893 |  0:00:31s\n",
      "epoch 185| loss: 0.28817 | train_mse: 0.23657 | train_mae: 0.33329 |  0:00:31s\n"
     ]
    },
    {
     "name": "stdout",
     "output_type": "stream",
     "text": [
      "epoch 186| loss: 0.18876 | train_mse: 0.19194 | train_mae: 0.30606 |  0:00:31s\n"
     ]
    },
    {
     "name": "stdout",
     "output_type": "stream",
     "text": [
      "epoch 187| loss: 0.25912 | train_mse: 0.2774  | train_mae: 0.33062 |  0:00:31s\n"
     ]
    },
    {
     "name": "stdout",
     "output_type": "stream",
     "text": [
      "epoch 188| loss: 0.32344 | train_mse: 0.5174  | train_mae: 0.42081 |  0:00:32s\n"
     ]
    },
    {
     "name": "stdout",
     "output_type": "stream",
     "text": [
      "epoch 189| loss: 0.4951  | train_mse: 0.53296 | train_mae: 0.43507 |  0:00:32s\n"
     ]
    },
    {
     "name": "stdout",
     "output_type": "stream",
     "text": [
      "epoch 190| loss: 0.30133 | train_mse: 0.31379 | train_mae: 0.32627 |  0:00:32s\n",
      "epoch 191| loss: 0.2849  | train_mse: 0.19261 | train_mae: 0.30103 |  0:00:33s\n"
     ]
    },
    {
     "name": "stdout",
     "output_type": "stream",
     "text": [
      "epoch 192| loss: 0.59869 | train_mse: 0.21037 | train_mae: 0.31715 |  0:00:33s\n"
     ]
    },
    {
     "name": "stdout",
     "output_type": "stream",
     "text": [
      "epoch 193| loss: 0.22329 | train_mse: 0.30644 | train_mae: 0.35657 |  0:00:33s\n"
     ]
    },
    {
     "name": "stdout",
     "output_type": "stream",
     "text": [
      "epoch 194| loss: 0.26223 | train_mse: 0.31983 | train_mae: 0.34887 |  0:00:34s\n"
     ]
    },
    {
     "name": "stdout",
     "output_type": "stream",
     "text": [
      "epoch 195| loss: 0.27742 | train_mse: 0.21615 | train_mae: 0.30599 |  0:00:34s\n"
     ]
    },
    {
     "name": "stdout",
     "output_type": "stream",
     "text": [
      "epoch 196| loss: 0.3191  | train_mse: 0.18318 | train_mae: 0.28562 |  0:00:34s\n",
      "\n",
      "Early stopping occurred at epoch 196 with best_epoch = 146 and best_train_mae = 0.21126\n",
      "Best weights from best epoch are automatically used!\n"
     ]
    }
   ],
   "source": [
    "#Train the Model\n",
    "\n",
    "Y_train = np.reshape(Y_train, (-1, 1))\n",
    "Y_test = np.reshape(Y_test, (-1, 1))\n",
    "\n",
    "prior_model = TabNetRegressor(optimizer_fn=torch.optim.Adam, optimizer_params=dict(lr = 0.02),\n",
    "          #scheduler_params={\"step_size\":10, ], \"gamma\":0.9},\n",
    "          #scheduler_fn=torch.optim.lr_scheduler.StepLR\n",
    "          )  #TabNetRegressor()\n",
    "\n",
    "prior_model.fit(X_train,Y_train,eval_set=[(X_train, Y_train)],\n",
    "            eval_name=['train'], \n",
    "            eval_metric=[ 'mse', 'mae'], \n",
    "            max_epochs = n_epochs, \n",
    "            batch_size = batch_size,\n",
    "            patience=50\n",
    "            )"
   ]
  },
  {
   "cell_type": "code",
   "execution_count": 10,
   "id": "af65dcda",
   "metadata": {
    "execution": {
     "iopub.execute_input": "2022-06-22T15:55:46.709508Z",
     "iopub.status.busy": "2022-06-22T15:55:46.708702Z",
     "iopub.status.idle": "2022-06-22T15:55:46.742339Z",
     "shell.execute_reply": "2022-06-22T15:55:46.743262Z"
    },
    "id": "af65dcda",
    "papermill": {
     "duration": 0.102213,
     "end_time": "2022-06-22T15:55:46.743717",
     "exception": false,
     "start_time": "2022-06-22T15:55:46.641504",
     "status": "completed"
    },
    "tags": []
   },
   "outputs": [
    {
     "data": {
      "application/scrapbook.scrap.json+json": {
       "data": 1.821455370087883,
       "encoder": "json",
       "name": "Prior Model MSE",
       "version": 1
      }
     },
     "metadata": {
      "scrapbook": {
       "data": true,
       "display": false,
       "name": "Prior Model MSE"
      }
     },
     "output_type": "display_data"
    },
    {
     "data": {
      "application/scrapbook.scrap.json+json": {
       "data": 2.222565812370849,
       "encoder": "json",
       "name": "ABC Pre-generator MSE",
       "version": 1
      }
     },
     "metadata": {
      "scrapbook": {
       "data": true,
       "display": false,
       "name": "ABC Pre-generator MSE"
      }
     },
     "output_type": "display_data"
    },
    {
     "data": {
      "application/scrapbook.scrap.json+json": {
       "data": 0.6931197473693586,
       "encoder": "json",
       "name": "Prior Model MSE",
       "version": 1
      }
     },
     "metadata": {
      "scrapbook": {
       "data": true,
       "display": false,
       "name": "Prior Model MSE"
      }
     },
     "output_type": "display_data"
    },
    {
     "data": {
      "application/scrapbook.scrap.json+json": {
       "data": 1.213525605527018,
       "encoder": "json",
       "name": "ABC Pre-generator MSE",
       "version": 1
      }
     },
     "metadata": {
      "scrapbook": {
       "data": true,
       "display": false,
       "name": "ABC Pre-generator MSE"
      }
     },
     "output_type": "display_data"
    }
   ],
   "source": [
    "y_pred = prior_model.predict(X_test)\n",
    "y_abc = y_pred + np.random.normal(0,variance, y_pred.shape) + bias \n",
    "mse = mean_squared_error(y_pred,Y_test)\n",
    "sb.glue(\"Prior Model MSE\",mse)\n",
    "mse = mean_squared_error(y_abc,Y_test)\n",
    "sb.glue(\"ABC Pre-generator MSE\",mse)\n",
    "mae = mean_absolute_error(y_pred,Y_test)\n",
    "sb.glue(\"Prior Model MSE\",mae)\n",
    "mae = mean_absolute_error(y_abc,Y_test)\n",
    "sb.glue(\"ABC Pre-generator MSE\",mae)"
   ]
  },
  {
   "cell_type": "markdown",
   "id": "25609da2",
   "metadata": {
    "papermill": {
     "duration": 0.089914,
     "end_time": "2022-06-22T15:55:46.911744",
     "exception": false,
     "start_time": "2022-06-22T15:55:46.821830",
     "status": "completed"
    },
    "tags": []
   },
   "source": [
    "# ABC GAN Model"
   ]
  },
  {
   "cell_type": "code",
   "execution_count": 11,
   "id": "dfc3464d",
   "metadata": {
    "execution": {
     "iopub.execute_input": "2022-06-22T15:55:47.062542Z",
     "iopub.status.busy": "2022-06-22T15:55:47.057801Z",
     "iopub.status.idle": "2022-06-22T15:55:47.069987Z",
     "shell.execute_reply": "2022-06-22T15:55:47.071168Z"
    },
    "papermill": {
     "duration": 0.096028,
     "end_time": "2022-06-22T15:55:47.071715",
     "exception": false,
     "start_time": "2022-06-22T15:55:46.975687",
     "status": "completed"
    },
    "tags": []
   },
   "outputs": [],
   "source": [
    "gen = network.Generator(n_features+1).to(device)\n",
    "disc = network.Discriminator(n_features+1).to(device)\n",
    "\n",
    "criterion = torch.nn.BCELoss()\n",
    "gen_opt = torch.optim.Adam(gen.parameters(), lr=0.001, betas=(0.5, 0.999))\n",
    "disc_opt = torch.optim.Adam(disc.parameters(), lr=0.001, betas=(0.5, 0.999))"
   ]
  },
  {
   "cell_type": "code",
   "execution_count": 12,
   "id": "b75fdd85",
   "metadata": {
    "execution": {
     "iopub.execute_input": "2022-06-22T15:55:47.759674Z",
     "iopub.status.busy": "2022-06-22T15:55:47.758415Z",
     "iopub.status.idle": "2022-06-22T15:57:15.865475Z",
     "shell.execute_reply": "2022-06-22T15:57:15.864894Z"
    },
    "papermill": {
     "duration": 88.373539,
     "end_time": "2022-06-22T15:57:15.865665",
     "exception": false,
     "start_time": "2022-06-22T15:55:47.492126",
     "status": "completed"
    },
    "tags": []
   },
   "outputs": [
    {
     "data": {
      "image/png": "[encoded data removed]",
      "text/plain": [
       "<Figure size 432x288 with 1 Axes>"
      ]
     },
     "metadata": {
      "needs_background": "light"
     },
     "output_type": "display_data"
    },
    {
     "data": {
      "image/png": "[encoded data removed]",
      "text/plain": [
       "<Figure size 432x288 with 1 Axes>"
      ]
     },
     "metadata": {
      "needs_background": "light"
     },
     "output_type": "display_data"
    }
   ],
   "source": [
    "#Training the ABC_GAN \n",
    "ABC_train_test2.training_GAN(disc,gen,disc_opt,gen_opt,train_data,batch_size,n_epochs,criterion,prior_model,variance,bias,device)"
   ]
  },
  {
   "cell_type": "code",
   "execution_count": 13,
   "id": "1fa7c368",
   "metadata": {
    "execution": {
     "iopub.execute_input": "2022-06-22T15:57:15.970477Z",
     "iopub.status.busy": "2022-06-22T15:57:15.969229Z",
     "iopub.status.idle": "2022-06-22T15:57:17.058072Z",
     "shell.execute_reply": "2022-06-22T15:57:17.063236Z"
    },
    "papermill": {
     "duration": 1.154077,
     "end_time": "2022-06-22T15:57:17.063549",
     "exception": false,
     "start_time": "2022-06-22T15:57:15.909472",
     "status": "completed"
    },
    "tags": []
   },
   "outputs": [
    {
     "data": {
      "application/scrapbook.scrap.json+json": {
       "data": 1.6296144083888828,
       "encoder": "json",
       "name": "ABC-GAN Model 1 MSE",
       "version": 1
      }
     },
     "metadata": {
      "scrapbook": {
       "data": true,
       "display": false,
       "name": "ABC-GAN Model 1 MSE"
      }
     },
     "output_type": "display_data"
    },
    {
     "data": {
      "application/scrapbook.scrap.json+json": {
       "data": 0.7018633270617575,
       "encoder": "json",
       "name": "ABC-GAN Model 1 MAE",
       "version": 1
      }
     },
     "metadata": {
      "scrapbook": {
       "data": true,
       "display": false,
       "name": "ABC-GAN Model 1 MAE"
      }
     },
     "output_type": "display_data"
    },
    {
     "data": {
      "application/scrapbook.scrap.json+json": {
       "data": 14.037266541235148,
       "encoder": "json",
       "name": "ABC-GAN Model 1 Manhattan Distance",
       "version": 1
      }
     },
     "metadata": {
      "scrapbook": {
       "data": true,
       "display": false,
       "name": "ABC-GAN Model 1 Manhattan Distance"
      }
     },
     "output_type": "display_data"
    },
    {
     "data": {
      "application/scrapbook.scrap.json+json": {
       "data": 5.7081600500728875,
       "encoder": "json",
       "name": "ABC-GAN Model 1 Euclidean distance",
       "version": 1
      }
     },
     "metadata": {
      "scrapbook": {
       "data": true,
       "display": false,
       "name": "ABC-GAN Model 1 Euclidean distance"
      }
     },
     "output_type": "display_data"
    },
    {
     "data": {
      "application/scrapbook.scrap.json+json": {
       "data": [
        [
         1.6067513806771747,
         1.5629585735059455,
         1.7529376894697772,
         1.6238996411957658,
         1.7901951332331667,
         1.604705337568961,
         1.6346576050303354,
         1.578261036012528,
         1.5825199607255025,
         1.5672664889234331,
         1.5667157518443073,
         1.5875192452768874,
         1.7282635346117012,
         1.647952586391531,
         1.642476902079363,
         1.6855064950431085,
         1.6034972161303425,
         1.6478001819668346,
         1.5646732220691326,
         1.6088303230626397,
         1.5497685994134154,
         1.5911533223168999,
         1.559081826314523,
         1.7103933792484063,
         1.5604451283400669,
         1.5649172687262713,
         1.7119884299551107,
         1.5846936745586255,
         1.4942541756235206,
         1.6926827291464668,
         1.5953693948588772,
         1.643102735586408,
         1.6548232588196718,
         1.6173039416638104,
         1.5604872541175083,
         1.6072378793753228,
         1.6369662406171286,
         1.7398205405888292,
         1.683738524025592,
         1.5765233076889844,
         1.6263407115107493,
         1.6451055779080401,
         1.6515232422550383,
         1.6803766501728479,
         1.6354015158809443,
         1.6457506677669993,
         1.5951487888979345,
         1.6118811909364514,
         1.613544579569313,
         1.6871524755079015,
         1.6475999853413754,
         1.61044183472698,
         1.5628238622538284,
         1.5765782859685737,
         1.671441120016715,
         1.5711036623728438,
         1.6221587900164767,
         1.6377072969956472,
         1.6115491241482272,
         1.6276734456310504,
         1.5580408936727255,
         1.618429339715367,
         1.6124470630736454,
         1.6327175846995505,
         1.6797803484492158,
         1.6150421054225306,
         1.6460189370483842,
         1.7071997423607015,
         1.6438498792507261,
         1.6173212925099996,
         1.6752074414016627,
         1.6500604184008385,
         1.5548686313011866,
         1.587839647726926,
         1.7042024999039367,
         1.5887824398996524,
         1.6818239999868887,
         1.7029556655309062,
         1.6677143146368791,
         1.7039825848559729,
         1.6452987299401705,
         1.714874526545628,
         1.5858699757774404,
         1.60251933914845,
         1.7401350244269225,
         1.566162591382282,
         1.6350791530429312,
         1.5964684509962817,
         1.5239415893801236,
         1.5691180781872462,
         1.6817674070952637,
         1.6293327860531683,
         1.684493091105671,
         1.6632842516059878,
         1.5591560233693422,
         1.7209615793742223,
         1.6320860019595216,
         1.6680816003108236,
         1.6579904772364014,
         1.5830926084209003
        ],
        [
         0.704729994572699,
         0.6922932023182511,
         0.7328388316556811,
         0.6844044426456094,
         0.7464578885585069,
         0.6880130907520652,
         0.7047140302136541,
         0.7084528638049961,
         0.7066004475578666,
         0.6630575837567448,
         0.6926373327150941,
         0.7140210313722491,
         0.703790238313377,
         0.7120692750439048,
         0.7202246760949492,
         0.7034705659374595,
         0.6934584623202682,
         0.6943914903327822,
         0.6925177216529846,
         0.6945925256237387,
         0.6978143818676472,
         0.7058418298140168,
         0.6759684586897492,
         0.707481374964118,
         0.7014633417129517,
         0.7010204022750258,
         0.725358778052032,
         0.687676295824349,
         0.660931977443397,
         0.7010265467688441,
         0.7005858773365616,
         0.7046370493248105,
         0.7068688089028001,
         0.7131072800606489,
         0.6992349797859788,
         0.6930770551785826,
         0.7031760876998305,
         0.7157261529937387,
         0.7118644414469599,
         0.7091497639194131,
         0.6956854941323399,
         0.7059590945020318,
         0.7130854008719325,
         0.7159095952287317,
         0.716137964092195,
         0.7133145427331329,
         0.6814970729872585,
         0.6893644316121936,
         0.6978749403730035,
         0.703405768238008,
         0.707379206083715,
         0.6900672042742372,
         0.676232417114079,
         0.7084139248356223,
         0.6927352199330926,
         0.6835946395993233,
         0.6794841261580586,
         0.705879751034081,
         0.7019822319969535,
         0.6988875096663832,
         0.674432018212974,
         0.6929380984976887,
         0.7161736948415637,
         0.710166664980352,
         0.6904619688168168,
         0.685973240248859,
         0.7066197613254189,
         0.7214519636705518,
         0.7235829723998904,
         0.7042878700420261,
         0.7233708979561925,
         0.7003813866525889,
         0.6828505245968699,
         0.6811499377712608,
         0.7249949814751744,
         0.6999466499313712,
         0.7151731228455901,
         0.736679265089333,
         0.6847518092021346,
         0.7171044560149312,
         0.7122884819284081,
         0.7114510355517268,
         0.6815246282145381,
         0.7049084609374404,
         0.7443562777712941,
         0.694320160895586,
         0.7051001308485866,
         0.6757111800834537,
         0.6868218397721648,
         0.6864898147061467,
         0.706771238334477,
         0.7127943802624941,
         0.706028257496655,
         0.7146648710593582,
         0.6893369637429714,
         0.7152297111228109,
         0.6940816294401884,
         0.7021711492910981,
         0.7008802199736237,
         0.697273875400424
        ],
        [
         14.094599891453981,
         13.845864046365023,
         14.656776633113623,
         13.688088852912188,
         14.92915777117014,
         13.760261815041304,
         14.09428060427308,
         14.16905727609992,
         14.132008951157331,
         13.261151675134897,
         13.852746654301882,
         14.280420627444983,
         14.075804766267538,
         14.241385500878096,
         14.404493521898985,
         14.06941131874919,
         13.869169246405363,
         13.887829806655645,
         13.850354433059692,
         13.891850512474775,
         13.956287637352943,
         14.116836596280336,
         13.519369173794985,
         14.14962749928236,
         14.029266834259033,
         14.020408045500517,
         14.50717556104064,
         13.753525916486979,
         13.218639548867941,
         14.020530935376883,
         14.011717546731234,
         14.09274098649621,
         14.137376178056002,
         14.262145601212978,
         13.984699595719576,
         13.861541103571653,
         14.06352175399661,
         14.314523059874773,
         14.2372888289392,
         14.182995278388262,
         13.913709882646799,
         14.119181890040636,
         14.26170801743865,
         14.318191904574633,
         14.3227592818439,
         14.266290854662657,
         13.629941459745169,
         13.787288632243872,
         13.95749880746007,
         14.06811536476016,
         14.1475841216743,
         13.801344085484743,
         13.52464834228158,
         14.168278496712446,
         13.854704398661852,
         13.671892791986465,
         13.589682523161173,
         14.11759502068162,
         14.03964463993907,
         13.977750193327665,
         13.488640364259481,
         13.858761969953775,
         14.323473896831274,
         14.203333299607038,
         13.809239376336336,
         13.719464804977179,
         14.132395226508379,
         14.429039273411036,
         14.471659447997808,
         14.08575740084052,
         14.46741795912385,
         14.007627733051777,
         13.657010491937399,
         13.622998755425215,
         14.499899629503489,
         13.998932998627424,
         14.303462456911802,
         14.733585301786661,
         13.695036184042692,
         14.342089120298624,
         14.245769638568163,
         14.229020711034536,
         13.630492564290762,
         14.098169218748808,
         14.887125555425882,
         13.88640321791172,
         14.102002616971731,
         13.514223601669073,
         13.736436795443296,
         13.729796294122934,
         14.135424766689539,
         14.255887605249882,
         14.1205651499331,
         14.293297421187162,
         13.786739274859428,
         14.304594222456217,
         13.881632588803768,
         14.043422985821962,
         14.017604399472475,
         13.94547750800848
        ],
        [
         5.668776553502836,
         5.590990204795472,
         5.921043302442192,
         5.698946641609773,
         5.9836362410045725,
         5.66516608330058,
         5.717792589855521,
         5.618293399267304,
         5.625868751980448,
         5.598690005569933,
         5.597706229955815,
         5.634747989532251,
         5.87922364706719,
         5.740997450603041,
         5.731451652207079,
         5.806042533504399,
         5.663033138045976,
         5.740731977660749,
         5.594056170738962,
         5.672442724369528,
         5.567348739594845,
         5.641193707570943,
         5.58405198098034,
         5.848749232525543,
         5.586492868231494,
         5.594492414377325,
         5.851475762498057,
         5.62973120949593,
         5.466725117698019,
         5.818389346110257,
         5.648662487454667,
         5.732543476653985,
         5.7529527354562395,
         5.687361324311672,
         5.586568274204672,
         5.669634696125179,
         5.72182879963588,
         5.898848261463977,
         5.802996681070207,
         5.615199564911268,
         5.703228404177321,
         5.736036223574674,
         5.747213659252696,
         5.797200445340574,
         5.719093487399807,
         5.7371607398904185,
         5.648271928471459,
         5.677818579237014,
         5.6807474500620305,
         5.808876785589279,
         5.740383236930049,
         5.675282961627516,
         5.590749256144168,
         5.615297473809511,
         5.781766373724754,
         5.605539514396173,
         5.695891133117761,
         5.72312379211851,
         5.677233699872196,
         5.705564732138354,
         5.58218755269424,
         5.689339750296807,
         5.678815128305632,
         5.714398629251463,
         5.796171751163376,
         5.683382980976261,
         5.737628320218004,
         5.843286305428995,
         5.733846665635081,
         5.687391831956015,
         5.788276844453212,
         5.7446678205111885,
         5.576501826954218,
         5.635316579797316,
         5.838154674045451,
         5.636989338112415,
         5.799696543763111,
         5.836018618083576,
         5.775316986342619,
         5.83777797600418,
         5.736372948022418,
         5.85640593973066,
         5.631820266623289,
         5.661306102214311,
         5.899381364900768,
         5.596717951410955,
         5.718529798895746,
         5.650607845172556,
         5.520763696048082,
         5.6019962124000875,
         5.799598963885803,
         5.708472275579814,
         5.804296841316217,
         5.767641201749616,
         5.584184852544447,
         5.8667905695946265,
         5.713293274390037,
         5.775952908933423,
         5.758455482568918,
         5.626886543055405
        ]
       ],
       "encoder": "json",
       "name": "ABC_GAN_1 Metrics",
       "version": 1
      }
     },
     "metadata": {
      "scrapbook": {
       "data": true,
       "display": false,
       "name": "ABC_GAN_1 Metrics"
      }
     },
     "output_type": "display_data"
    },
    {
     "name": "stdout",
     "output_type": "stream",
     "text": [
      "MSE\n",
      "1.6296144083888828\n"
     ]
    }
   ],
   "source": [
    "ABC_GAN1_metrics=ABC_train_test2.test_generator(gen,test_data,prior_model,variance,bias,\"1\",device)\n",
    "sb.glue(\"ABC_GAN_1 Metrics\",ABC_GAN1_metrics)\n",
    "\n",
    "print(\"MSE\")\n",
    "print(mean(ABC_GAN1_metrics[0]))"
   ]
  },
  {
   "cell_type": "code",
   "execution_count": 14,
   "id": "eb22ce5c",
   "metadata": {
    "execution": {
     "iopub.execute_input": "2022-06-22T15:57:17.253637Z",
     "iopub.status.busy": "2022-06-22T15:57:17.252823Z",
     "iopub.status.idle": "2022-06-22T15:57:18.270830Z",
     "shell.execute_reply": "2022-06-22T15:57:18.271529Z"
    },
    "papermill": {
     "duration": 1.148461,
     "end_time": "2022-06-22T15:57:18.271760",
     "exception": false,
     "start_time": "2022-06-22T15:57:17.123299",
     "status": "completed"
    },
    "tags": []
   },
   "outputs": [
    {
     "data": {
      "image/png": "[encoded data removed]",
      "text/plain": [
       "<Figure size 432x288 with 1 Axes>"
      ]
     },
     "metadata": {
      "needs_background": "light"
     },
     "output_type": "display_data"
    },
    {
     "data": {
      "image/png": "[encoded data removed]",
      "text/plain": [
       "<Figure size 432x288 with 1 Axes>"
      ]
     },
     "metadata": {
      "needs_background": "light"
     },
     "output_type": "display_data"
    },
    {
     "data": {
      "image/png": "[encoded data removed]",
      "text/plain": [
       "<Figure size 432x288 with 1 Axes>"
      ]
     },
     "metadata": {
      "needs_background": "light"
     },
     "output_type": "display_data"
    },
    {
     "data": {
      "image/png": "[encoded data removed]",
      "text/plain": [
       "<Figure size 432x288 with 1 Axes>"
      ]
     },
     "metadata": {
      "needs_background": "light"
     },
     "output_type": "display_data"
    }
   ],
   "source": [
    "sanityChecks.discProbVsError(train_data,disc,device)\n",
    "sanityChecks.discProbVsError(test_data,disc,device)"
   ]
  },
  {
   "cell_type": "markdown",
   "id": "130f3a4d",
   "metadata": {
    "id": "130f3a4d",
    "papermill": {
     "duration": 0.102522,
     "end_time": "2022-06-22T15:57:18.452957",
     "exception": false,
     "start_time": "2022-06-22T15:57:18.350435",
     "status": "completed"
    },
    "tags": []
   },
   "source": [
    "# ABC - GAN Model with skip connection"
   ]
  },
  {
   "cell_type": "code",
   "execution_count": 15,
   "id": "4e43dad1",
   "metadata": {
    "execution": {
     "iopub.execute_input": "2022-06-22T15:57:18.747754Z",
     "iopub.status.busy": "2022-06-22T15:57:18.736900Z",
     "iopub.status.idle": "2022-06-22T15:57:18.751605Z",
     "shell.execute_reply": "2022-06-22T15:57:18.750820Z"
    },
    "id": "4e43dad1",
    "papermill": {
     "duration": 0.223694,
     "end_time": "2022-06-22T15:57:18.751837",
     "exception": false,
     "start_time": "2022-06-22T15:57:18.528143",
     "status": "completed"
    },
    "tags": []
   },
   "outputs": [],
   "source": [
    "#Generator\n",
    "gen3 = network.GeneratorWithSkipConnection(n_features+1).to(device)\n",
    "constraints=network.weightConstraint()\n",
    "#Discriminator \n",
    "disc3 = network.Discriminator(n_features+1).to(device)\n",
    "\n",
    "criterion = torch.nn.BCELoss()\n",
    "gen_opt = torch.optim.Adam(gen3.parameters(), lr=0.001, betas=(0.5, 0.999))\n",
    "disc_opt = torch.optim.Adam(disc3.parameters(), lr=0.001, betas=(0.5, 0.999))\n"
   ]
  },
  {
   "cell_type": "code",
   "execution_count": 16,
   "id": "26acbc37",
   "metadata": {
    "execution": {
     "iopub.execute_input": "2022-06-22T15:57:19.076283Z",
     "iopub.status.busy": "2022-06-22T15:57:19.074247Z",
     "iopub.status.idle": "2022-06-22T15:59:27.897287Z",
     "shell.execute_reply": "2022-06-22T15:59:27.897924Z"
    },
    "id": "26acbc37",
    "papermill": {
     "duration": 129.015095,
     "end_time": "2022-06-22T15:59:27.898166",
     "exception": false,
     "start_time": "2022-06-22T15:57:18.883071",
     "status": "completed"
    },
    "tags": []
   },
   "outputs": [
    {
     "data": {
      "image/png": "[encoded data removed]",
      "text/plain": [
       "<Figure size 432x288 with 1 Axes>"
      ]
     },
     "metadata": {
      "needs_background": "light"
     },
     "output_type": "display_data"
    },
    {
     "data": {
      "image/png": "[encoded data removed]",
      "text/plain": [
       "<Figure size 432x288 with 1 Axes>"
      ]
     },
     "metadata": {
      "needs_background": "light"
     },
     "output_type": "display_data"
    }
   ],
   "source": [
    "ABC_train_test2.training_GAN_skip_connection(disc3,gen3,disc_opt,gen_opt,train_data,batch_size,n_epochs,criterion,prior_model,variance,bias,device)"
   ]
  },
  {
   "cell_type": "code",
   "execution_count": 17,
   "id": "c5e0717b",
   "metadata": {
    "execution": {
     "iopub.execute_input": "2022-06-22T15:59:28.100574Z",
     "iopub.status.busy": "2022-06-22T15:59:28.096959Z",
     "iopub.status.idle": "2022-06-22T15:59:29.487981Z",
     "shell.execute_reply": "2022-06-22T15:59:29.489128Z"
    },
    "id": "c5e0717b",
    "papermill": {
     "duration": 1.510305,
     "end_time": "2022-06-22T15:59:29.490322",
     "exception": false,
     "start_time": "2022-06-22T15:59:27.980017",
     "status": "completed"
    },
    "tags": []
   },
   "outputs": [
    {
     "data": {
      "application/scrapbook.scrap.json+json": {
       "data": 1.5751455838918687,
       "encoder": "json",
       "name": "ABC-GAN Model 3 MSE",
       "version": 1
      }
     },
     "metadata": {
      "scrapbook": {
       "data": true,
       "display": false,
       "name": "ABC-GAN Model 3 MSE"
      }
     },
     "output_type": "display_data"
    },
    {
     "data": {
      "application/scrapbook.scrap.json+json": {
       "data": 0.7100282361134886,
       "encoder": "json",
       "name": "ABC-GAN Model 3 MAE",
       "version": 1
      }
     },
     "metadata": {
      "scrapbook": {
       "data": true,
       "display": false,
       "name": "ABC-GAN Model 3 MAE"
      }
     },
     "output_type": "display_data"
    },
    {
     "data": {
      "application/scrapbook.scrap.json+json": {
       "data": 14.200564722269773,
       "encoder": "json",
       "name": "ABC-GAN Model 3 Manhattan Distance",
       "version": 1
      }
     },
     "metadata": {
      "scrapbook": {
       "data": true,
       "display": false,
       "name": "ABC-GAN Model 3 Manhattan Distance"
      }
     },
     "output_type": "display_data"
    },
    {
     "data": {
      "application/scrapbook.scrap.json+json": {
       "data": 5.612101073283759,
       "encoder": "json",
       "name": "ABC-GAN Model 3 Euclidean distance",
       "version": 1
      }
     },
     "metadata": {
      "scrapbook": {
       "data": true,
       "display": false,
       "name": "ABC-GAN Model 3 Euclidean distance"
      }
     },
     "output_type": "display_data"
    },
    {
     "data": {
      "application/scrapbook.scrap.json+json": {
       "data": [
        [
         1.5284422716418338,
         1.5547290300591896,
         1.5346739849662334,
         1.4876752181254524,
         1.5971202183348103,
         1.6203095302090773,
         1.6062417122018648,
         1.543263756151892,
         1.5854080739997187,
         1.5967879317041924,
         1.635724280259089,
         1.6193020254031996,
         1.5823434775000231,
         1.65956428091527,
         1.62193532850837,
         1.5701556236623795,
         1.5926235737675756,
         1.6382190037914839,
         1.5547900478211247,
         1.6093253532443064,
         1.550791368087132,
         1.5204958348664424,
         1.6144036869719323,
         1.5423354346536207,
         1.5036352505338253,
         1.569580131409977,
         1.611426538138322,
         1.637157867270782,
         1.6544887129911654,
         1.5580775404148743,
         1.5895848860497672,
         1.5353287154949116,
         1.652432582441057,
         1.551083839617195,
         1.53824138602923,
         1.626674998678985,
         1.552401664041403,
         1.513394969864319,
         1.5376669389699782,
         1.6193640242307996,
         1.5556072763740145,
         1.626076720477188,
         1.576703312312923,
         1.5743620994386525,
         1.5517643593824486,
         1.5874625797420672,
         1.575060037083181,
         1.5196755761124616,
         1.6088488534942371,
         1.4580332245456638,
         1.6184101616692856,
         1.5777784476527341,
         1.531549402243176,
         1.6403530519130058,
         1.628440736117938,
         1.5083825860233326,
         1.6012017871573323,
         1.5206369848219334,
         1.6303737075468177,
         1.5366045760931797,
         1.5769411496621104,
         1.6495435176134294,
         1.5613981391452618,
         1.6095817533990338,
         1.6527981854597358,
         1.5557591361673748,
         1.5822586447389677,
         1.6398987010769346,
         1.6159867037310094,
         1.5078145477939435,
         1.6071062686709348,
         1.576289427869828,
         1.5424761200180261,
         1.4962508801597036,
         1.4752095643172782,
         1.5286534914892553,
         1.5766241303016506,
         1.5565381896528943,
         1.6273073264894093,
         1.6247610793044653,
         1.5350216915040058,
         1.6699556279820407,
         1.6027256874651816,
         1.5989203528557596,
         1.6190631407002314,
         1.5611838717958324,
         1.4752021838540164,
         1.58606834754721,
         1.5751934887062737,
         1.51076098493218,
         1.5219449921693067,
         1.601106593909504,
         1.6397949986981515,
         1.504732616815692,
         1.612608042410303,
         1.5018988611701831,
         1.5408524161496004,
         1.5494808398436475,
         1.5347164388153653,
         1.565603681576744
        ],
        [
         0.7149790240451693,
         0.707398515753448,
         0.6942664487287402,
         0.7053105918690562,
         0.7088129190728069,
         0.7217899976298213,
         0.7072870103642345,
         0.708126069419086,
         0.719810396246612,
         0.7292575595900417,
         0.7307086704298854,
         0.710147493891418,
         0.7182551635429263,
         0.7306620402261614,
         0.7000719485804439,
         0.6907762302085757,
         0.7087174056097865,
         0.726308704726398,
         0.7191992221400142,
         0.7394228277727961,
         0.7024937881156802,
         0.7092772496864199,
         0.7098871601745487,
         0.7008713884279132,
         0.680400769226253,
         0.7304508147761226,
         0.7111040962859988,
         0.7230018673464655,
         0.6979705108329654,
         0.7033972842618823,
         0.7041638595983386,
         0.7077167419716716,
         0.7343026516959071,
         0.7040348378941417,
         0.6890004632994533,
         0.7258951975032687,
         0.7203655553981662,
         0.6943956015631556,
         0.6995137242600322,
         0.6961970252916216,
         0.7032886577770114,
         0.7183669684454799,
         0.7207816345617175,
         0.7147235466167331,
         0.7084538144990802,
         0.7173269329592585,
         0.700105801038444,
         0.6900840340182185,
         0.7111591694876551,
         0.6881801007315517,
         0.7350324032828212,
         0.7023047057911753,
         0.7287443591281771,
         0.7144782884046436,
         0.7298940075561404,
         0.6848479090258479,
         0.7110663874074816,
         0.6970888597890734,
         0.7307708544656635,
         0.7115767655894161,
         0.696515935473144,
         0.7325006274506449,
         0.7195548070594668,
         0.6942387087270617,
         0.7122343150898814,
         0.7153451187536121,
         0.7083477748557925,
         0.7060079691931606,
         0.7312930209562183,
         0.6935645921155811,
         0.7274193434044719,
         0.6949218196794391,
         0.6889070196077227,
         0.6792582569643855,
         0.6981202317401767,
         0.704556099884212,
         0.7144828451797366,
         0.6923275692388415,
         0.73638726901263,
         0.710120709054172,
         0.6936598597094417,
         0.7382325960323215,
         0.7140979005023838,
         0.7235912693664431,
         0.7241228891536593,
         0.7162448463961482,
         0.6825027002021671,
         0.7185914782807231,
         0.7106090841814876,
         0.6952031059190631,
         0.6961189774796367,
         0.7292666522786021,
         0.7252066997811198,
         0.6873461229726672,
         0.7335136039182544,
         0.6935539854690432,
         0.7160445703193545,
         0.6869166476652027,
         0.6972190184518695,
         0.7106535417959094
        ],
        [
         14.299580480903387,
         14.14797031506896,
         13.885328974574804,
         14.106211837381124,
         14.176258381456137,
         14.435799952596426,
         14.145740207284689,
         14.16252138838172,
         14.396207924932241,
         14.585151191800833,
         14.614173408597708,
         14.20294987782836,
         14.365103270858526,
         14.61324080452323,
         14.001438971608877,
         13.815524604171515,
         14.17434811219573,
         14.52617409452796,
         14.383984442800283,
         14.788456555455923,
         14.049875762313604,
         14.1855449937284,
         14.197743203490973,
         14.017427768558264,
         13.60801538452506,
         14.609016295522451,
         14.222081925719976,
         14.460037346929312,
         13.959410216659307,
         14.067945685237646,
         14.083277191966772,
         14.154334839433432,
         14.686053033918142,
         14.080696757882833,
         13.780009265989065,
         14.517903950065374,
         14.407311107963324,
         13.887912031263113,
         13.990274485200644,
         13.923940505832434,
         14.065773155540228,
         14.367339368909597,
         14.41563269123435,
         14.294470932334661,
         14.169076289981604,
         14.346538659185171,
         14.00211602076888,
         13.80168068036437,
         14.223183389753103,
         13.763602014631033,
         14.700648065656424,
         14.046094115823507,
         14.574887182563543,
         14.28956576809287,
         14.597880151122808,
         13.696958180516958,
         14.221327748149633,
         13.94177719578147,
         14.615417089313269,
         14.23153531178832,
         13.930318709462881,
         14.6500125490129,
         14.391096141189337,
         13.884774174541235,
         14.244686301797628,
         14.30690237507224,
         14.16695549711585,
         14.12015938386321,
         14.625860419124365,
         13.87129184231162,
         14.548386868089437,
         13.898436393588781,
         13.778140392154455,
         13.58516513928771,
         13.962404634803534,
         14.09112199768424,
         14.289656903594732,
         13.84655138477683,
         14.7277453802526,
         14.20241418108344,
         13.873197194188833,
         14.764651920646429,
         14.281958010047674,
         14.471825387328863,
         14.482457783073187,
         14.324896927922964,
         13.65005400404334,
         14.371829565614462,
         14.212181683629751,
         13.904062118381262,
         13.922379549592733,
         14.585333045572042,
         14.504133995622396,
         13.746922459453344,
         14.670272078365088,
         13.871079709380865,
         14.32089140638709,
         13.738332953304052,
         13.94438036903739,
         14.213070835918188
        ],
        [
         5.52890996787221,
         5.5762514829573275,
         5.540169645356058,
         5.454677292242782,
         5.651761173890508,
         5.692643551477779,
         5.667877401994268,
         5.555652538004679,
         5.6310000426207045,
         5.651173208642949,
         5.719657822386036,
         5.690873439821342,
         5.625555043726838,
         5.761187865215419,
         5.695498799066452,
         5.6038480059016225,
         5.64379938298231,
         5.7240178263025765,
         5.576360906220336,
         5.673315350382537,
         5.569185520499621,
         5.5145187185582065,
         5.682259562835777,
         5.553981337119564,
         5.483858587771616,
         5.602820952716546,
         5.677017770164757,
         5.722163694391804,
         5.752371185852257,
         5.582253201736507,
         5.638412695164779,
         5.541351307208218,
         5.748795669426871,
         5.569710656070376,
         5.546605062611237,
         5.7038145107971125,
         5.5720762091726685,
         5.501626977293752,
         5.545569292633495,
         5.690982383087826,
         5.577826236759289,
         5.702765505396813,
         5.61552012250499,
         5.6113493910799255,
         5.570932344558582,
         5.6346474241820435,
         5.612593049710946,
         5.513031064872502,
         5.672475391739019,
         5.400061526585903,
         5.6893060414593375,
         5.617434374610412,
         5.5345269034366,
         5.727744847517225,
         5.706909384453091,
         5.4925086909777985,
         5.6589783303301875,
         5.514774673224525,
         5.710295452158001,
         5.543653264938527,
         5.615943642277957,
         5.743767957731979,
         5.588198527513606,
         5.673767272983681,
         5.749431598792589,
         5.578098486343487,
         5.625404242788188,
         5.7269515469871655,
         5.6850447733171094,
         5.491474388165611,
         5.669402558772722,
         5.614783037428656,
         5.554234636775847,
         5.470376367599772,
         5.431776071078922,
         5.529291982685043,
         5.615379115076115,
         5.579494940678581,
         5.7049230082261575,
         5.700458015465889,
         5.540797219722096,
         5.779196532359911,
         5.661670579369982,
         5.654945362876214,
         5.690453656256646,
         5.587815086052566,
         5.431762483492842,
         5.632172489452378,
         5.612830816453091,
         5.496837245056797,
         5.517145987137384,
         5.658810111515502,
         5.7267704663241945,
         5.48585930701051,
         5.679098594689659,
         5.48069130889559,
         5.5513105050061835,
         5.566831845571856,
         5.540246273976213,
         5.595719223793746
        ]
       ],
       "encoder": "json",
       "name": "ABC_GAN_3 Metrics",
       "version": 1
      }
     },
     "metadata": {
      "scrapbook": {
       "data": true,
       "display": false,
       "name": "ABC_GAN_3 Metrics"
      }
     },
     "output_type": "display_data"
    },
    {
     "name": "stdout",
     "output_type": "stream",
     "text": [
      "MSE\n",
      "1.5751455838918687\n"
     ]
    }
   ],
   "source": [
    "ABC_GAN3_metrics=ABC_train_test2.test_generator(gen3,test_data,prior_model,variance,bias,\"3\",device)\n",
    "sb.glue(\"ABC_GAN_3 Metrics\",ABC_GAN3_metrics)\n",
    "\n",
    "print(\"MSE\")\n",
    "print(mean(ABC_GAN3_metrics[0]))"
   ]
  },
  {
   "cell_type": "code",
   "execution_count": 18,
   "id": "c8e46b48",
   "metadata": {
    "execution": {
     "iopub.execute_input": "2022-06-22T15:59:29.807088Z",
     "iopub.status.busy": "2022-06-22T15:59:29.756660Z",
     "iopub.status.idle": "2022-06-22T15:59:30.921472Z",
     "shell.execute_reply": "2022-06-22T15:59:30.922795Z"
    },
    "id": "c8e46b48",
    "papermill": {
     "duration": 1.342148,
     "end_time": "2022-06-22T15:59:30.923040",
     "exception": false,
     "start_time": "2022-06-22T15:59:29.580892",
     "status": "completed"
    },
    "tags": []
   },
   "outputs": [
    {
     "data": {
      "image/png": "[encoded data removed]",
      "text/plain": [
       "<Figure size 432x288 with 1 Axes>"
      ]
     },
     "metadata": {
      "needs_background": "light"
     },
     "output_type": "display_data"
    },
    {
     "data": {
      "image/png": "[encoded data removed]",
      "text/plain": [
       "<Figure size 432x288 with 1 Axes>"
      ]
     },
     "metadata": {
      "needs_background": "light"
     },
     "output_type": "display_data"
    },
    {
     "data": {
      "image/png": "[encoded data removed]",
      "text/plain": [
       "<Figure size 432x288 with 1 Axes>"
      ]
     },
     "metadata": {
      "needs_background": "light"
     },
     "output_type": "display_data"
    },
    {
     "data": {
      "image/png": "[encoded data removed]",
      "text/plain": [
       "<Figure size 432x288 with 1 Axes>"
      ]
     },
     "metadata": {
      "needs_background": "light"
     },
     "output_type": "display_data"
    }
   ],
   "source": [
    "sanityChecks.discProbVsError(train_data,disc3,device)\n",
    "sanityChecks.discProbVsError(test_data,disc3,device)"
   ]
  },
  {
   "cell_type": "markdown",
   "id": "a5bd74c3",
   "metadata": {
    "id": "a5bd74c3",
    "papermill": {
     "duration": 0.086312,
     "end_time": "2022-06-22T15:59:31.074401",
     "exception": false,
     "start_time": "2022-06-22T15:59:30.988089",
     "status": "completed"
    },
    "tags": []
   },
   "source": [
    "## Skip Connection Model Analysis - ABC-GAN "
   ]
  },
  {
   "cell_type": "markdown",
   "id": "5744a8bf",
   "metadata": {
    "id": "5744a8bf",
    "papermill": {
     "duration": 0.14478,
     "end_time": "2022-06-22T15:59:31.352318",
     "exception": false,
     "start_time": "2022-06-22T15:59:31.207538",
     "status": "completed"
    },
    "tags": []
   },
   "source": [
    "### Weight Analysis \n",
    "\n",
    "Study the weights of the skip connection layer\n",
    "\n",
    "Equation of the skip connection is \n",
    "\n",
    "$output = y_{gan} * w + y_{abc} * (1-w)$"
   ]
  },
  {
   "cell_type": "code",
   "execution_count": 19,
   "id": "52c31dea",
   "metadata": {
    "execution": {
     "iopub.execute_input": "2022-06-22T15:59:31.551737Z",
     "iopub.status.busy": "2022-06-22T15:59:31.550789Z",
     "iopub.status.idle": "2022-06-22T15:59:31.560619Z",
     "shell.execute_reply": "2022-06-22T15:59:31.561594Z"
    },
    "id": "52c31dea",
    "papermill": {
     "duration": 0.13268,
     "end_time": "2022-06-22T15:59:31.562087",
     "exception": false,
     "start_time": "2022-06-22T15:59:31.429407",
     "status": "completed"
    },
    "tags": []
   },
   "outputs": [
    {
     "name": "stdout",
     "output_type": "stream",
     "text": [
      "Weight of the node at skip connection\n",
      "Parameter containing:\n",
      "tensor([[0.3872]], requires_grad=True)\n"
     ]
    },
    {
     "data": {
      "application/scrapbook.scrap.json+json": {
       "data": 0.38721218705177307,
       "encoder": "json",
       "name": "Skip Connection Weight",
       "version": 1
      }
     },
     "metadata": {
      "scrapbook": {
       "data": true,
       "display": false,
       "name": "Skip Connection Weight"
      }
     },
     "output_type": "display_data"
    }
   ],
   "source": [
    "print(\"Weight of the node at skip connection\")\n",
    "for name,param in gen3.named_parameters():\n",
    "    if(name == \"skipNode.weight\"):\n",
    "        print(param)\n",
    "        sb.glue(\"Skip Connection Weight\",param.item())"
   ]
  }
 ],
 "metadata": {
  "colab": {
   "collapsed_sections": [],
   "name": "ABC_GAN_Model-Catboost_Pre-gen.ipynb",
   "provenance": []
  },
  "interpreter": {
   "hash": "31f2aee4e71d21fbe5cf8b01ff0e069b9275f58929596ceb00d14d90e3e16cd6"
  },
  "kernelspec": {
   "display_name": "Python 3 (ipykernel)",
   "language": "python",
   "name": "python3"
  },
  "language_info": {
   "codemirror_mode": {
    "name": "ipython",
    "version": 3
   },
   "file_extension": ".py",
   "mimetype": "text/x-python",
   "name": "python",
   "nbconvert_exporter": "python",
   "pygments_lexer": "ipython3",
   "version": "3.8.3"
  },
  "papermill": {
   "default_parameters": {},
   "duration": 279.511523,
   "end_time": "2022-06-22T15:59:33.216602",
   "environment_variables": {},
   "exception": null,
   "input_path": "ABC_GAN-TabNet.ipynb",
   "output_path": "./ABC_GAN_TabNet/ABC-GAN_output_9_1.ipynb",
   "parameters": {
    "bias": 1,
    "variance": 0.1
   },
   "start_time": "2022-06-22T15:54:53.705079",
   "version": "2.3.3"
  }
 },
 "nbformat": 4,
 "nbformat_minor": 5
}