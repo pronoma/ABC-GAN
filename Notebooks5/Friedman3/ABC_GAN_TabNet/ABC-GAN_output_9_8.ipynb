{
 "cells": [
  {
   "cell_type": "markdown",
   "id": "622780e6",
   "metadata": {
    "id": "622780e6",
    "papermill": {
     "duration": 0.117327,
     "end_time": "2022-06-22T16:23:37.149180",
     "exception": false,
     "start_time": "2022-06-22T16:23:37.031853",
     "status": "completed"
    },
    "tags": []
   },
   "source": [
    "## Import Libraries "
   ]
  },
  {
   "cell_type": "code",
   "execution_count": 1,
   "id": "a62397e3",
   "metadata": {
    "execution": {
     "iopub.execute_input": "2022-06-22T16:23:37.297372Z",
     "iopub.status.busy": "2022-06-22T16:23:37.295864Z",
     "iopub.status.idle": "2022-06-22T16:23:37.298861Z",
     "shell.execute_reply": "2022-06-22T16:23:37.298104Z"
    },
    "id": "a62397e3",
    "papermill": {
     "duration": 0.075706,
     "end_time": "2022-06-22T16:23:37.299085",
     "exception": false,
     "start_time": "2022-06-22T16:23:37.223379",
     "status": "completed"
    },
    "tags": []
   },
   "outputs": [],
   "source": [
    "import warnings\n",
    "import sys\n",
    "sys.path.insert(0, '../../src')\n",
    "warnings.filterwarnings('ignore')"
   ]
  },
  {
   "cell_type": "code",
   "execution_count": 2,
   "id": "d6a4e155",
   "metadata": {
    "execution": {
     "iopub.execute_input": "2022-06-22T16:23:37.360827Z",
     "iopub.status.busy": "2022-06-22T16:23:37.359644Z",
     "iopub.status.idle": "2022-06-22T16:23:47.245894Z",
     "shell.execute_reply": "2022-06-22T16:23:47.246703Z"
    },
    "id": "d6a4e155",
    "papermill": {
     "duration": 9.923526,
     "end_time": "2022-06-22T16:23:47.247010",
     "exception": false,
     "start_time": "2022-06-22T16:23:37.323484",
     "status": "completed"
    },
    "tags": []
   },
   "outputs": [],
   "source": [
    "import ABC_train_test2\n",
    "import friedman3Dataset\n",
    "import network\n",
    "import dataset\n",
    "import sanityChecks\n",
    "import torch \n",
    "import scrapbook as sb\n",
    "from statistics import mean \n",
    "import catboost as ctb \n",
    "from sklearn.model_selection import train_test_split\n",
    "from sklearn.metrics import mean_squared_error,mean_absolute_error\n",
    "import numpy as np\n",
    "from pytorch_tabnet.tab_model import TabNetRegressor"
   ]
  },
  {
   "cell_type": "markdown",
   "id": "2fa5b0f7",
   "metadata": {
    "id": "2fa5b0f7",
    "papermill": {
     "duration": 0.020239,
     "end_time": "2022-06-22T16:23:47.285499",
     "exception": false,
     "start_time": "2022-06-22T16:23:47.265260",
     "status": "completed"
    },
    "tags": []
   },
   "source": [
    "## Parameters "
   ]
  },
  {
   "cell_type": "code",
   "execution_count": 3,
   "id": "783186fb",
   "metadata": {
    "execution": {
     "iopub.execute_input": "2022-06-22T16:23:47.332931Z",
     "iopub.status.busy": "2022-06-22T16:23:47.331842Z",
     "iopub.status.idle": "2022-06-22T16:23:47.335143Z",
     "shell.execute_reply": "2022-06-22T16:23:47.336312Z"
    },
    "id": "783186fb",
    "papermill": {
     "duration": 0.031151,
     "end_time": "2022-06-22T16:23:47.336997",
     "exception": false,
     "start_time": "2022-06-22T16:23:47.305846",
     "status": "completed"
    },
    "tags": [
     "parameters"
    ]
   },
   "outputs": [],
   "source": [
    "variance = 1\n",
    "bias = 1 "
   ]
  },
  {
   "cell_type": "code",
   "execution_count": 4,
   "id": "bf9865df",
   "metadata": {
    "execution": {
     "iopub.execute_input": "2022-06-22T16:23:47.378304Z",
     "iopub.status.busy": "2022-06-22T16:23:47.377093Z",
     "iopub.status.idle": "2022-06-22T16:23:47.380986Z",
     "shell.execute_reply": "2022-06-22T16:23:47.381653Z"
    },
    "papermill": {
     "duration": 0.027695,
     "end_time": "2022-06-22T16:23:47.381990",
     "exception": false,
     "start_time": "2022-06-22T16:23:47.354295",
     "status": "completed"
    },
    "tags": [
     "injected-parameters"
    ]
   },
   "outputs": [],
   "source": [
    "# Parameters\n",
    "variance = 0.01\n",
    "bias = 0.01\n"
   ]
  },
  {
   "cell_type": "markdown",
   "id": "391cdbfd",
   "metadata": {
    "id": "391cdbfd",
    "papermill": {
     "duration": 0.016997,
     "end_time": "2022-06-22T16:23:47.416980",
     "exception": false,
     "start_time": "2022-06-22T16:23:47.399983",
     "status": "completed"
    },
    "tags": []
   },
   "source": [
    "## Dataset \n"
   ]
  },
  {
   "cell_type": "code",
   "execution_count": 5,
   "id": "5b51f161",
   "metadata": {
    "execution": {
     "iopub.execute_input": "2022-06-22T16:23:47.508499Z",
     "iopub.status.busy": "2022-06-22T16:23:47.497193Z",
     "iopub.status.idle": "2022-06-22T16:23:47.534757Z",
     "shell.execute_reply": "2022-06-22T16:23:47.536624Z"
    },
    "id": "5b51f161",
    "papermill": {
     "duration": 0.097533,
     "end_time": "2022-06-22T16:23:47.540545",
     "exception": false,
     "start_time": "2022-06-22T16:23:47.443012",
     "status": "completed"
    },
    "tags": []
   },
   "outputs": [],
   "source": [
    "#Parameters \n",
    "n_features = 4\n",
    "n_samples= 100\n",
    "n_target = 1"
   ]
  },
  {
   "cell_type": "code",
   "execution_count": 6,
   "id": "5d6eced4",
   "metadata": {
    "execution": {
     "iopub.execute_input": "2022-06-22T16:23:47.667392Z",
     "iopub.status.busy": "2022-06-22T16:23:47.665917Z",
     "iopub.status.idle": "2022-06-22T16:23:47.698175Z",
     "shell.execute_reply": "2022-06-22T16:23:47.699113Z"
    },
    "id": "5d6eced4",
    "papermill": {
     "duration": 0.117092,
     "end_time": "2022-06-22T16:23:47.699858",
     "exception": false,
     "start_time": "2022-06-22T16:23:47.582766",
     "status": "completed"
    },
    "tags": []
   },
   "outputs": [
    {
     "name": "stdout",
     "output_type": "stream",
     "text": [
      "          X1           X2        X3         X4         Y\n",
      "0  20.273205  1188.113478  0.264216   4.316255  1.432791\n",
      "1  52.086113   787.891725  0.674169   9.789131  1.388644\n",
      "2  99.943916   548.115329  0.086598   2.747860  0.197305\n",
      "3  79.905277  1755.825925  0.944848  10.790950  1.346758\n",
      "4  26.374610   459.165076  0.566094   1.163968  1.462034\n"
     ]
    }
   ],
   "source": [
    "X,Y = friedman3Dataset.friedman3_data(n_samples)"
   ]
  },
  {
   "cell_type": "code",
   "execution_count": 7,
   "id": "fe007438",
   "metadata": {
    "execution": {
     "iopub.execute_input": "2022-06-22T16:23:47.759149Z",
     "iopub.status.busy": "2022-06-22T16:23:47.758279Z",
     "iopub.status.idle": "2022-06-22T16:23:47.761681Z",
     "shell.execute_reply": "2022-06-22T16:23:47.762579Z"
    },
    "id": "fe007438",
    "papermill": {
     "duration": 0.033853,
     "end_time": "2022-06-22T16:23:47.762827",
     "exception": false,
     "start_time": "2022-06-22T16:23:47.728974",
     "status": "completed"
    },
    "tags": []
   },
   "outputs": [],
   "source": [
    "#Train test split for dataset \n",
    "X_train,X_test,Y_train,Y_test = train_test_split(X,Y,test_size = 0.2)\n",
    "train_data = dataset.CustomDataset(X_train,Y_train)\n",
    "test_data = dataset.CustomDataset(X_test,Y_test)\n"
   ]
  },
  {
   "cell_type": "markdown",
   "id": "a9a1af34",
   "metadata": {
    "id": "a9a1af34",
    "papermill": {
     "duration": 0.025924,
     "end_time": "2022-06-22T16:23:47.809005",
     "exception": false,
     "start_time": "2022-06-22T16:23:47.783081",
     "status": "completed"
    },
    "tags": []
   },
   "source": [
    "## Training Parameters "
   ]
  },
  {
   "cell_type": "code",
   "execution_count": 8,
   "id": "952b7fc8",
   "metadata": {
    "execution": {
     "iopub.execute_input": "2022-06-22T16:23:47.874825Z",
     "iopub.status.busy": "2022-06-22T16:23:47.870649Z",
     "iopub.status.idle": "2022-06-22T16:23:47.895580Z",
     "shell.execute_reply": "2022-06-22T16:23:47.897009Z"
    },
    "id": "952b7fc8",
    "papermill": {
     "duration": 0.065956,
     "end_time": "2022-06-22T16:23:47.897278",
     "exception": false,
     "start_time": "2022-06-22T16:23:47.831322",
     "status": "completed"
    },
    "tags": []
   },
   "outputs": [],
   "source": [
    "batch_size = 32\n",
    "n_epochs = 1000\n",
    "#Select the device \n",
    "device = torch.device('cuda' if torch.cuda.is_available() else 'cpu')"
   ]
  },
  {
   "cell_type": "markdown",
   "id": "a95e1600",
   "metadata": {
    "id": "a95e1600",
    "papermill": {
     "duration": 0.032226,
     "end_time": "2022-06-22T16:23:48.029736",
     "exception": false,
     "start_time": "2022-06-22T16:23:47.997510",
     "status": "completed"
    },
    "tags": []
   },
   "source": [
    "# ABC Pre-generator Model \n",
    "\n",
    "1. The catboost model is used as a pre-generator model for the ABC-GAN. \n",
    "2. The model is first trained on the entire dataset \n",
    "3. It generats X,Y pairs and we add some Gaussian noise with mean 0 and variance 1 to it which is then feed as input to the generator.\n"
   ]
  },
  {
   "cell_type": "code",
   "execution_count": 9,
   "id": "ff8ce7bd",
   "metadata": {
    "execution": {
     "iopub.execute_input": "2022-06-22T16:23:48.196057Z",
     "iopub.status.busy": "2022-06-22T16:23:48.158103Z",
     "iopub.status.idle": "2022-06-22T16:24:14.914703Z",
     "shell.execute_reply": "2022-06-22T16:24:14.915194Z"
    },
    "id": "ff8ce7bd",
    "papermill": {
     "duration": 26.852689,
     "end_time": "2022-06-22T16:24:14.915553",
     "exception": false,
     "start_time": "2022-06-22T16:23:48.062864",
     "status": "completed"
    },
    "tags": []
   },
   "outputs": [
    {
     "name": "stdout",
     "output_type": "stream",
     "text": [
      "Device used : cpu\n"
     ]
    },
    {
     "name": "stdout",
     "output_type": "stream",
     "text": [
      "epoch 0  | loss: 1.02934 | train_mse: 4.71893 | train_mae: 1.60882 |  0:00:00s\n",
      "epoch 1  | loss: 0.63475 | train_mse: 4.00417 | train_mae: 1.44067 |  0:00:00s\n",
      "epoch 2  | loss: 0.58784 | train_mse: 2.51338 | train_mae: 1.20296 |  0:00:00s\n"
     ]
    },
    {
     "name": "stdout",
     "output_type": "stream",
     "text": [
      "epoch 3  | loss: 0.42347 | train_mse: 3.84857 | train_mae: 1.32562 |  0:00:00s\n",
      "epoch 4  | loss: 0.48109 | train_mse: 3.24055 | train_mae: 1.22799 |  0:00:00s\n"
     ]
    },
    {
     "name": "stdout",
     "output_type": "stream",
     "text": [
      "epoch 5  | loss: 0.40632 | train_mse: 2.82839 | train_mae: 1.13782 |  0:00:01s\n"
     ]
    },
    {
     "name": "stdout",
     "output_type": "stream",
     "text": [
      "epoch 6  | loss: 0.29904 | train_mse: 3.44774 | train_mae: 1.24278 |  0:00:01s\n"
     ]
    },
    {
     "name": "stdout",
     "output_type": "stream",
     "text": [
      "epoch 7  | loss: 0.3351  | train_mse: 2.38387 | train_mae: 1.02995 |  0:00:01s\n"
     ]
    },
    {
     "name": "stdout",
     "output_type": "stream",
     "text": [
      "epoch 8  | loss: 0.29381 | train_mse: 0.80035 | train_mae: 0.63729 |  0:00:01s\n"
     ]
    },
    {
     "name": "stdout",
     "output_type": "stream",
     "text": [
      "epoch 9  | loss: 0.24062 | train_mse: 0.83976 | train_mae: 0.68705 |  0:00:02s\n",
      "epoch 10 | loss: 0.28084 | train_mse: 1.00674 | train_mae: 0.78968 |  0:00:02s\n"
     ]
    },
    {
     "name": "stdout",
     "output_type": "stream",
     "text": [
      "epoch 11 | loss: 0.29722 | train_mse: 0.96441 | train_mae: 0.77889 |  0:00:02s\n",
      "epoch 12 | loss: 0.26521 | train_mse: 0.51962 | train_mae: 0.57711 |  0:00:02s\n"
     ]
    },
    {
     "name": "stdout",
     "output_type": "stream",
     "text": [
      "epoch 13 | loss: 0.17647 | train_mse: 0.4497  | train_mae: 0.5341  |  0:00:02s\n",
      "epoch 14 | loss: 0.23858 | train_mse: 0.45932 | train_mae: 0.51474 |  0:00:02s\n"
     ]
    },
    {
     "name": "stdout",
     "output_type": "stream",
     "text": [
      "epoch 15 | loss: 0.24841 | train_mse: 0.40816 | train_mae: 0.48991 |  0:00:03s\n",
      "epoch 16 | loss: 0.17801 | train_mse: 0.27426 | train_mae: 0.40452 |  0:00:03s\n"
     ]
    },
    {
     "name": "stdout",
     "output_type": "stream",
     "text": [
      "epoch 17 | loss: 0.14626 | train_mse: 0.32058 | train_mae: 0.42018 |  0:00:03s\n",
      "epoch 18 | loss: 0.1645  | train_mse: 0.2883  | train_mae: 0.40551 |  0:00:03s\n",
      "epoch 19 | loss: 0.30928 | train_mse: 0.16989 | train_mae: 0.33434 |  0:00:03s\n"
     ]
    },
    {
     "name": "stdout",
     "output_type": "stream",
     "text": [
      "epoch 20 | loss: 0.27455 | train_mse: 0.17185 | train_mae: 0.31762 |  0:00:03s\n",
      "epoch 21 | loss: 0.20058 | train_mse: 0.21302 | train_mae: 0.35096 |  0:00:03s\n"
     ]
    },
    {
     "name": "stdout",
     "output_type": "stream",
     "text": [
      "epoch 22 | loss: 0.18981 | train_mse: 0.24275 | train_mae: 0.37168 |  0:00:03s\n",
      "epoch 23 | loss: 0.25765 | train_mse: 0.22309 | train_mae: 0.35574 |  0:00:04s\n"
     ]
    },
    {
     "name": "stdout",
     "output_type": "stream",
     "text": [
      "epoch 24 | loss: 0.23833 | train_mse: 0.23145 | train_mae: 0.3673  |  0:00:04s\n"
     ]
    },
    {
     "name": "stdout",
     "output_type": "stream",
     "text": [
      "epoch 25 | loss: 0.22303 | train_mse: 0.20224 | train_mae: 0.35243 |  0:00:04s\n",
      "epoch 26 | loss: 0.21186 | train_mse: 0.15489 | train_mae: 0.30919 |  0:00:04s\n"
     ]
    },
    {
     "name": "stdout",
     "output_type": "stream",
     "text": [
      "epoch 27 | loss: 0.29829 | train_mse: 0.18094 | train_mae: 0.31962 |  0:00:04s\n",
      "epoch 28 | loss: 0.2356  | train_mse: 0.16755 | train_mae: 0.31259 |  0:00:04s\n"
     ]
    },
    {
     "name": "stdout",
     "output_type": "stream",
     "text": [
      "epoch 29 | loss: 0.16277 | train_mse: 0.18289 | train_mae: 0.32385 |  0:00:05s\n"
     ]
    },
    {
     "name": "stdout",
     "output_type": "stream",
     "text": [
      "epoch 30 | loss: 0.37111 | train_mse: 0.16119 | train_mae: 0.30947 |  0:00:05s\n",
      "epoch 31 | loss: 0.14026 | train_mse: 0.15665 | train_mae: 0.30593 |  0:00:05s\n"
     ]
    },
    {
     "name": "stdout",
     "output_type": "stream",
     "text": [
      "epoch 32 | loss: 0.2082  | train_mse: 0.14781 | train_mae: 0.29692 |  0:00:05s\n",
      "epoch 33 | loss: 0.168   | train_mse: 0.14052 | train_mae: 0.27519 |  0:00:05s\n"
     ]
    },
    {
     "name": "stdout",
     "output_type": "stream",
     "text": [
      "epoch 34 | loss: 0.12564 | train_mse: 0.13947 | train_mae: 0.27199 |  0:00:06s\n"
     ]
    },
    {
     "name": "stdout",
     "output_type": "stream",
     "text": [
      "epoch 35 | loss: 0.14097 | train_mse: 0.14398 | train_mae: 0.27871 |  0:00:06s\n"
     ]
    },
    {
     "name": "stdout",
     "output_type": "stream",
     "text": [
      "epoch 36 | loss: 0.1141  | train_mse: 0.15029 | train_mae: 0.30405 |  0:00:06s\n"
     ]
    },
    {
     "name": "stdout",
     "output_type": "stream",
     "text": [
      "epoch 37 | loss: 0.19527 | train_mse: 0.14094 | train_mae: 0.30994 |  0:00:07s\n"
     ]
    },
    {
     "name": "stdout",
     "output_type": "stream",
     "text": [
      "epoch 38 | loss: 0.11886 | train_mse: 0.11678 | train_mae: 0.27576 |  0:00:07s\n"
     ]
    },
    {
     "name": "stdout",
     "output_type": "stream",
     "text": [
      "epoch 39 | loss: 0.19068 | train_mse: 0.1189  | train_mae: 0.27251 |  0:00:08s\n",
      "epoch 40 | loss: 0.1818  | train_mse: 0.13099 | train_mae: 0.27097 |  0:00:08s"
     ]
    },
    {
     "name": "stdout",
     "output_type": "stream",
     "text": [
      "\n"
     ]
    },
    {
     "name": "stdout",
     "output_type": "stream",
     "text": [
      "epoch 41 | loss: 0.13956 | train_mse: 0.12047 | train_mae: 0.25423 |  0:00:08s\n"
     ]
    },
    {
     "name": "stdout",
     "output_type": "stream",
     "text": [
      "epoch 42 | loss: 0.136   | train_mse: 0.13699 | train_mae: 0.25516 |  0:00:09s\n"
     ]
    },
    {
     "name": "stdout",
     "output_type": "stream",
     "text": [
      "epoch 43 | loss: 0.14623 | train_mse: 0.16668 | train_mae: 0.27765 |  0:00:09s\n"
     ]
    },
    {
     "name": "stdout",
     "output_type": "stream",
     "text": [
      "epoch 44 | loss: 0.24347 | train_mse: 0.11837 | train_mae: 0.25652 |  0:00:09s\n"
     ]
    },
    {
     "name": "stdout",
     "output_type": "stream",
     "text": [
      "epoch 45 | loss: 0.11447 | train_mse: 0.10679 | train_mae: 0.24701 |  0:00:10s\n"
     ]
    },
    {
     "name": "stdout",
     "output_type": "stream",
     "text": [
      "epoch 46 | loss: 0.10115 | train_mse: 0.11188 | train_mae: 0.25317 |  0:00:10s\n"
     ]
    },
    {
     "name": "stdout",
     "output_type": "stream",
     "text": [
      "epoch 47 | loss: 0.18527 | train_mse: 0.09606 | train_mae: 0.23287 |  0:00:11s\n"
     ]
    },
    {
     "name": "stdout",
     "output_type": "stream",
     "text": [
      "epoch 48 | loss: 0.12622 | train_mse: 0.09257 | train_mae: 0.23233 |  0:00:11s\n",
      "epoch 49 | loss: 0.17186 | train_mse: 0.09791 | train_mae: 0.24613 |  0:00:11s\n"
     ]
    },
    {
     "name": "stdout",
     "output_type": "stream",
     "text": [
      "epoch 50 | loss: 0.13826 | train_mse: 0.08945 | train_mae: 0.23179 |  0:00:12s\n"
     ]
    },
    {
     "name": "stdout",
     "output_type": "stream",
     "text": [
      "epoch 51 | loss: 0.25622 | train_mse: 0.09374 | train_mae: 0.2321  |  0:00:12s\n"
     ]
    },
    {
     "name": "stdout",
     "output_type": "stream",
     "text": [
      "epoch 52 | loss: 0.17356 | train_mse: 0.09975 | train_mae: 0.23905 |  0:00:13s\n"
     ]
    },
    {
     "name": "stdout",
     "output_type": "stream",
     "text": [
      "epoch 53 | loss: 0.14881 | train_mse: 0.09006 | train_mae: 0.21844 |  0:00:13s\n"
     ]
    },
    {
     "name": "stdout",
     "output_type": "stream",
     "text": [
      "epoch 54 | loss: 0.12142 | train_mse: 0.09843 | train_mae: 0.23535 |  0:00:13s\n"
     ]
    },
    {
     "name": "stdout",
     "output_type": "stream",
     "text": [
      "epoch 55 | loss: 0.14311 | train_mse: 0.11325 | train_mae: 0.25628 |  0:00:14s\n"
     ]
    },
    {
     "name": "stdout",
     "output_type": "stream",
     "text": [
      "epoch 56 | loss: 0.12058 | train_mse: 0.1159  | train_mae: 0.2543  |  0:00:14s\n"
     ]
    },
    {
     "name": "stdout",
     "output_type": "stream",
     "text": [
      "epoch 57 | loss: 0.18249 | train_mse: 0.09364 | train_mae: 0.2176  |  0:00:15s\n",
      "epoch 58 | loss: 0.2025  | train_mse: 0.10383 | train_mae: 0.22674 |  0:00:15s\n"
     ]
    },
    {
     "name": "stdout",
     "output_type": "stream",
     "text": [
      "epoch 59 | loss: 0.1984  | train_mse: 0.12821 | train_mae: 0.25706 |  0:00:15s\n",
      "epoch 60 | loss: 0.14864 | train_mse: 0.12304 | train_mae: 0.24718 |  0:00:15s\n"
     ]
    },
    {
     "name": "stdout",
     "output_type": "stream",
     "text": [
      "epoch 61 | loss: 0.10158 | train_mse: 0.1121  | train_mae: 0.23716 |  0:00:15s\n",
      "epoch 62 | loss: 0.14624 | train_mse: 0.12006 | train_mae: 0.24717 |  0:00:15s\n"
     ]
    },
    {
     "name": "stdout",
     "output_type": "stream",
     "text": [
      "epoch 63 | loss: 0.25485 | train_mse: 0.13657 | train_mae: 0.26754 |  0:00:15s\n",
      "epoch 64 | loss: 0.13913 | train_mse: 0.15809 | train_mae: 0.28495 |  0:00:16s\n",
      "epoch 65 | loss: 0.16257 | train_mse: 0.17736 | train_mae: 0.30338 |  0:00:16s\n"
     ]
    },
    {
     "name": "stdout",
     "output_type": "stream",
     "text": [
      "epoch 66 | loss: 0.10322 | train_mse: 0.17186 | train_mae: 0.29829 |  0:00:16s\n",
      "epoch 67 | loss: 0.15264 | train_mse: 0.14675 | train_mae: 0.26724 |  0:00:16s\n",
      "epoch 68 | loss: 0.13085 | train_mse: 0.11992 | train_mae: 0.24226 |  0:00:16s\n"
     ]
    },
    {
     "name": "stdout",
     "output_type": "stream",
     "text": [
      "epoch 69 | loss: 0.14158 | train_mse: 0.11023 | train_mae: 0.2409  |  0:00:16s\n",
      "epoch 70 | loss: 0.11796 | train_mse: 0.10239 | train_mae: 0.22823 |  0:00:16s\n",
      "epoch 71 | loss: 0.09969 | train_mse: 0.10529 | train_mae: 0.23559 |  0:00:16s\n"
     ]
    },
    {
     "name": "stdout",
     "output_type": "stream",
     "text": [
      "epoch 72 | loss: 0.14825 | train_mse: 0.0886  | train_mae: 0.21283 |  0:00:16s\n",
      "epoch 73 | loss: 0.10913 | train_mse: 0.08081 | train_mae: 0.2008  |  0:00:16s\n"
     ]
    },
    {
     "name": "stdout",
     "output_type": "stream",
     "text": [
      "epoch 74 | loss: 0.12389 | train_mse: 0.06514 | train_mae: 0.18261 |  0:00:17s\n",
      "epoch 75 | loss: 0.126   | train_mse: 0.07226 | train_mae: 0.19054 |  0:00:17s\n",
      "epoch 76 | loss: 0.13073 | train_mse: 0.11927 | train_mae: 0.25273 |  0:00:17s\n"
     ]
    },
    {
     "name": "stdout",
     "output_type": "stream",
     "text": [
      "epoch 77 | loss: 0.10384 | train_mse: 0.10349 | train_mae: 0.23717 |  0:00:17s\n",
      "epoch 78 | loss: 0.11993 | train_mse: 0.07103 | train_mae: 0.21103 |  0:00:17s\n",
      "epoch 79 | loss: 0.0948  | train_mse: 0.06757 | train_mae: 0.2027  |  0:00:17s\n"
     ]
    },
    {
     "name": "stdout",
     "output_type": "stream",
     "text": [
      "epoch 80 | loss: 0.14251 | train_mse: 0.06748 | train_mae: 0.19868 |  0:00:17s\n",
      "epoch 81 | loss: 0.10485 | train_mse: 0.08466 | train_mae: 0.20969 |  0:00:17s\n",
      "epoch 82 | loss: 0.11331 | train_mse: 0.0973  | train_mae: 0.22698 |  0:00:17s\n"
     ]
    },
    {
     "name": "stdout",
     "output_type": "stream",
     "text": [
      "epoch 83 | loss: 0.17675 | train_mse: 0.07246 | train_mae: 0.21641 |  0:00:17s\n",
      "epoch 84 | loss: 0.09227 | train_mse: 0.0768  | train_mae: 0.22109 |  0:00:17s\n"
     ]
    },
    {
     "name": "stdout",
     "output_type": "stream",
     "text": [
      "epoch 85 | loss: 0.11372 | train_mse: 0.09094 | train_mae: 0.23522 |  0:00:18s\n",
      "epoch 86 | loss: 0.09889 | train_mse: 0.09573 | train_mae: 0.23808 |  0:00:18s\n",
      "epoch 87 | loss: 0.14646 | train_mse: 0.09218 | train_mae: 0.23738 |  0:00:18s\n"
     ]
    },
    {
     "name": "stdout",
     "output_type": "stream",
     "text": [
      "epoch 88 | loss: 0.16779 | train_mse: 0.06675 | train_mae: 0.20316 |  0:00:18s\n",
      "epoch 89 | loss: 0.13771 | train_mse: 0.07164 | train_mae: 0.20266 |  0:00:18s\n",
      "epoch 90 | loss: 0.09684 | train_mse: 0.0811  | train_mae: 0.21975 |  0:00:18s\n"
     ]
    },
    {
     "name": "stdout",
     "output_type": "stream",
     "text": [
      "epoch 91 | loss: 0.12258 | train_mse: 0.0872  | train_mae: 0.22565 |  0:00:18s\n",
      "epoch 92 | loss: 0.12173 | train_mse: 0.08017 | train_mae: 0.22047 |  0:00:18s\n"
     ]
    },
    {
     "name": "stdout",
     "output_type": "stream",
     "text": [
      "epoch 93 | loss: 0.13354 | train_mse: 0.07796 | train_mae: 0.21581 |  0:00:18s\n",
      "epoch 94 | loss: 0.16862 | train_mse: 0.07094 | train_mae: 0.21267 |  0:00:19s\n"
     ]
    },
    {
     "name": "stdout",
     "output_type": "stream",
     "text": [
      "epoch 95 | loss: 0.14169 | train_mse: 0.07682 | train_mae: 0.21707 |  0:00:19s\n",
      "epoch 96 | loss: 0.12665 | train_mse: 0.07667 | train_mae: 0.21507 |  0:00:19s\n",
      "epoch 97 | loss: 0.18778 | train_mse: 0.06505 | train_mae: 0.19706 |  0:00:19s\n"
     ]
    },
    {
     "name": "stdout",
     "output_type": "stream",
     "text": [
      "epoch 98 | loss: 0.11657 | train_mse: 0.05673 | train_mae: 0.18039 |  0:00:19s\n",
      "epoch 99 | loss: 0.12218 | train_mse: 0.06433 | train_mae: 0.19568 |  0:00:19s\n",
      "epoch 100| loss: 0.11806 | train_mse: 0.07757 | train_mae: 0.21825 |  0:00:19s\n"
     ]
    },
    {
     "name": "stdout",
     "output_type": "stream",
     "text": [
      "epoch 101| loss: 0.14013 | train_mse: 0.10469 | train_mae: 0.24854 |  0:00:19s\n",
      "epoch 102| loss: 0.12056 | train_mse: 0.08868 | train_mae: 0.2097  |  0:00:19s\n"
     ]
    },
    {
     "name": "stdout",
     "output_type": "stream",
     "text": [
      "epoch 103| loss: 0.26191 | train_mse: 0.0753  | train_mae: 0.20759 |  0:00:19s\n",
      "epoch 104| loss: 0.11991 | train_mse: 0.09002 | train_mae: 0.2276  |  0:00:20s\n"
     ]
    },
    {
     "name": "stdout",
     "output_type": "stream",
     "text": [
      "epoch 105| loss: 0.13702 | train_mse: 0.08225 | train_mae: 0.20986 |  0:00:20s\n",
      "epoch 106| loss: 0.10018 | train_mse: 0.07786 | train_mae: 0.22045 |  0:00:20s\n"
     ]
    },
    {
     "name": "stdout",
     "output_type": "stream",
     "text": [
      "epoch 107| loss: 0.21062 | train_mse: 0.07588 | train_mae: 0.21386 |  0:00:20s\n"
     ]
    },
    {
     "name": "stdout",
     "output_type": "stream",
     "text": [
      "epoch 108| loss: 0.10808 | train_mse: 0.08042 | train_mae: 0.21299 |  0:00:21s\n"
     ]
    },
    {
     "name": "stdout",
     "output_type": "stream",
     "text": [
      "epoch 109| loss: 0.1081  | train_mse: 0.09912 | train_mae: 0.23315 |  0:00:21s\n"
     ]
    },
    {
     "name": "stdout",
     "output_type": "stream",
     "text": [
      "epoch 110| loss: 0.14208 | train_mse: 0.09858 | train_mae: 0.23236 |  0:00:22s\n",
      "epoch 111| loss: 0.11998 | train_mse: 0.10435 | train_mae: 0.23692 |  0:00:22s\n"
     ]
    },
    {
     "name": "stdout",
     "output_type": "stream",
     "text": [
      "epoch 112| loss: 0.10931 | train_mse: 0.09488 | train_mae: 0.23132 |  0:00:22s\n",
      "epoch 113| loss: 0.10646 | train_mse: 0.08339 | train_mae: 0.21886 |  0:00:22s\n",
      "epoch 114| loss: 0.09885 | train_mse: 0.08398 | train_mae: 0.22112 |  0:00:22s\n"
     ]
    },
    {
     "name": "stdout",
     "output_type": "stream",
     "text": [
      "epoch 115| loss: 0.09479 | train_mse: 0.09599 | train_mae: 0.23225 |  0:00:22s\n",
      "epoch 116| loss: 0.13496 | train_mse: 0.10729 | train_mae: 0.23867 |  0:00:22s\n",
      "epoch 117| loss: 0.10557 | train_mse: 0.12458 | train_mae: 0.25561 |  0:00:22s\n"
     ]
    },
    {
     "name": "stdout",
     "output_type": "stream",
     "text": [
      "epoch 118| loss: 0.14862 | train_mse: 0.16941 | train_mae: 0.28713 |  0:00:22s\n"
     ]
    },
    {
     "name": "stdout",
     "output_type": "stream",
     "text": [
      "epoch 119| loss: 0.13619 | train_mse: 0.17654 | train_mae: 0.29334 |  0:00:23s\n",
      "epoch 120| loss: 0.11903 | train_mse: 0.15491 | train_mae: 0.28415 |  0:00:23s\n"
     ]
    },
    {
     "name": "stdout",
     "output_type": "stream",
     "text": [
      "epoch 121| loss: 0.12058 | train_mse: 0.10893 | train_mae: 0.25652 |  0:00:23s\n",
      "epoch 122| loss: 0.16699 | train_mse: 0.09543 | train_mae: 0.24692 |  0:00:23s\n"
     ]
    },
    {
     "name": "stdout",
     "output_type": "stream",
     "text": [
      "epoch 123| loss: 0.18644 | train_mse: 0.11092 | train_mae: 0.25864 |  0:00:23s\n"
     ]
    },
    {
     "name": "stdout",
     "output_type": "stream",
     "text": [
      "epoch 124| loss: 0.11029 | train_mse: 0.11864 | train_mae: 0.26421 |  0:00:24s\n",
      "epoch 125| loss: 0.14676 | train_mse: 0.11224 | train_mae: 0.25203 |  0:00:24s\n",
      "epoch 126| loss: 0.13707 | train_mse: 0.09769 | train_mae: 0.24389 |  0:00:24s\n"
     ]
    },
    {
     "name": "stdout",
     "output_type": "stream",
     "text": [
      "epoch 127| loss: 0.1537  | train_mse: 0.08015 | train_mae: 0.22579 |  0:00:24s\n",
      "epoch 128| loss: 0.12816 | train_mse: 0.08146 | train_mae: 0.21793 |  0:00:24s\n",
      "epoch 129| loss: 0.12175 | train_mse: 0.13965 | train_mae: 0.2769  |  0:00:24s\n"
     ]
    },
    {
     "name": "stdout",
     "output_type": "stream",
     "text": [
      "epoch 130| loss: 0.12057 | train_mse: 0.17328 | train_mae: 0.29115 |  0:00:24s\n"
     ]
    },
    {
     "name": "stdout",
     "output_type": "stream",
     "text": [
      "epoch 131| loss: 0.12172 | train_mse: 0.1641  | train_mae: 0.28367 |  0:00:24s\n",
      "epoch 132| loss: 0.08884 | train_mse: 0.13069 | train_mae: 0.26501 |  0:00:25s\n",
      "epoch 133| loss: 0.09225 | train_mse: 0.09596 | train_mae: 0.22848 |  0:00:25s\n"
     ]
    },
    {
     "name": "stdout",
     "output_type": "stream",
     "text": [
      "epoch 134| loss: 0.09689 | train_mse: 0.09918 | train_mae: 0.24166 |  0:00:25s\n",
      "epoch 135| loss: 0.10916 | train_mse: 0.10793 | train_mae: 0.25717 |  0:00:25s\n",
      "epoch 136| loss: 0.15487 | train_mse: 0.08277 | train_mae: 0.22174 |  0:00:25s\n"
     ]
    },
    {
     "name": "stdout",
     "output_type": "stream",
     "text": [
      "epoch 137| loss: 0.1921  | train_mse: 0.06397 | train_mae: 0.20416 |  0:00:25s\n",
      "epoch 138| loss: 0.09654 | train_mse: 0.06999 | train_mae: 0.20937 |  0:00:25s\n",
      "epoch 139| loss: 0.13048 | train_mse: 0.07003 | train_mae: 0.20434 |  0:00:25s\n"
     ]
    },
    {
     "name": "stdout",
     "output_type": "stream",
     "text": [
      "epoch 140| loss: 0.13417 | train_mse: 0.07124 | train_mae: 0.20367 |  0:00:25s\n",
      "epoch 141| loss: 0.10883 | train_mse: 0.06948 | train_mae: 0.19719 |  0:00:25s\n"
     ]
    },
    {
     "name": "stdout",
     "output_type": "stream",
     "text": [
      "epoch 142| loss: 0.12799 | train_mse: 0.06753 | train_mae: 0.19637 |  0:00:26s\n",
      "epoch 143| loss: 0.13325 | train_mse: 0.05833 | train_mae: 0.18614 |  0:00:26s\n"
     ]
    },
    {
     "name": "stdout",
     "output_type": "stream",
     "text": [
      "epoch 144| loss: 0.08072 | train_mse: 0.07585 | train_mae: 0.20682 |  0:00:26s\n",
      "epoch 145| loss: 0.10807 | train_mse: 0.0968  | train_mae: 0.22939 |  0:00:26s\n",
      "epoch 146| loss: 0.12837 | train_mse: 0.091   | train_mae: 0.22931 |  0:00:26s\n"
     ]
    },
    {
     "name": "stdout",
     "output_type": "stream",
     "text": [
      "epoch 147| loss: 0.10318 | train_mse: 0.09279 | train_mae: 0.22905 |  0:00:26s\n",
      "epoch 148| loss: 0.10731 | train_mse: 0.08451 | train_mae: 0.21206 |  0:00:26s\n",
      "\n",
      "Early stopping occurred at epoch 148 with best_epoch = 98 and best_train_mae = 0.18039\n",
      "Best weights from best epoch are automatically used!\n"
     ]
    }
   ],
   "source": [
    "#Train the Model\n",
    "\n",
    "Y_train = np.reshape(Y_train, (-1, 1))\n",
    "Y_test = np.reshape(Y_test, (-1, 1))\n",
    "\n",
    "prior_model = TabNetRegressor(optimizer_fn=torch.optim.Adam, optimizer_params=dict(lr = 0.02),\n",
    "          #scheduler_params={\"step_size\":10, ], \"gamma\":0.9},\n",
    "          #scheduler_fn=torch.optim.lr_scheduler.StepLR\n",
    "          )  #TabNetRegressor()\n",
    "\n",
    "prior_model.fit(X_train,Y_train,eval_set=[(X_train, Y_train)],\n",
    "            eval_name=['train'], \n",
    "            eval_metric=[ 'mse', 'mae'], \n",
    "            max_epochs = n_epochs, \n",
    "            batch_size = batch_size,\n",
    "            patience=50\n",
    "            )"
   ]
  },
  {
   "cell_type": "code",
   "execution_count": 10,
   "id": "af65dcda",
   "metadata": {
    "execution": {
     "iopub.execute_input": "2022-06-22T16:24:15.026107Z",
     "iopub.status.busy": "2022-06-22T16:24:15.025092Z",
     "iopub.status.idle": "2022-06-22T16:24:15.170900Z",
     "shell.execute_reply": "2022-06-22T16:24:15.176576Z"
    },
    "id": "af65dcda",
    "papermill": {
     "duration": 0.218853,
     "end_time": "2022-06-22T16:24:15.176919",
     "exception": false,
     "start_time": "2022-06-22T16:24:14.958066",
     "status": "completed"
    },
    "tags": []
   },
   "outputs": [
    {
     "data": {
      "application/scrapbook.scrap.json+json": {
       "data": 0.5325781944290789,
       "encoder": "json",
       "name": "Prior Model MSE",
       "version": 1
      }
     },
     "metadata": {
      "scrapbook": {
       "data": true,
       "display": false,
       "name": "Prior Model MSE"
      }
     },
     "output_type": "display_data"
    },
    {
     "data": {
      "application/scrapbook.scrap.json+json": {
       "data": 0.5243987679868936,
       "encoder": "json",
       "name": "ABC Pre-generator MSE",
       "version": 1
      }
     },
     "metadata": {
      "scrapbook": {
       "data": true,
       "display": false,
       "name": "ABC Pre-generator MSE"
      }
     },
     "output_type": "display_data"
    },
    {
     "data": {
      "application/scrapbook.scrap.json+json": {
       "data": 0.49732067750925213,
       "encoder": "json",
       "name": "Prior Model MSE",
       "version": 1
      }
     },
     "metadata": {
      "scrapbook": {
       "data": true,
       "display": false,
       "name": "Prior Model MSE"
      }
     },
     "output_type": "display_data"
    },
    {
     "data": {
      "application/scrapbook.scrap.json+json": {
       "data": 0.49221441993992227,
       "encoder": "json",
       "name": "ABC Pre-generator MSE",
       "version": 1
      }
     },
     "metadata": {
      "scrapbook": {
       "data": true,
       "display": false,
       "name": "ABC Pre-generator MSE"
      }
     },
     "output_type": "display_data"
    }
   ],
   "source": [
    "y_pred = prior_model.predict(X_test)\n",
    "y_abc = y_pred + np.random.normal(0,variance, y_pred.shape) + bias \n",
    "mse = mean_squared_error(y_pred,Y_test)\n",
    "sb.glue(\"Prior Model MSE\",mse)\n",
    "mse = mean_squared_error(y_abc,Y_test)\n",
    "sb.glue(\"ABC Pre-generator MSE\",mse)\n",
    "mae = mean_absolute_error(y_pred,Y_test)\n",
    "sb.glue(\"Prior Model MSE\",mae)\n",
    "mae = mean_absolute_error(y_abc,Y_test)\n",
    "sb.glue(\"ABC Pre-generator MSE\",mae)"
   ]
  },
  {
   "cell_type": "markdown",
   "id": "25609da2",
   "metadata": {
    "papermill": {
     "duration": 0.161084,
     "end_time": "2022-06-22T16:24:15.500313",
     "exception": false,
     "start_time": "2022-06-22T16:24:15.339229",
     "status": "completed"
    },
    "tags": []
   },
   "source": [
    "# ABC GAN Model"
   ]
  },
  {
   "cell_type": "code",
   "execution_count": 11,
   "id": "dfc3464d",
   "metadata": {
    "execution": {
     "iopub.execute_input": "2022-06-22T16:24:15.744781Z",
     "iopub.status.busy": "2022-06-22T16:24:15.742514Z",
     "iopub.status.idle": "2022-06-22T16:24:15.746094Z",
     "shell.execute_reply": "2022-06-22T16:24:15.747016Z"
    },
    "papermill": {
     "duration": 0.106414,
     "end_time": "2022-06-22T16:24:15.747267",
     "exception": false,
     "start_time": "2022-06-22T16:24:15.640853",
     "status": "completed"
    },
    "tags": []
   },
   "outputs": [],
   "source": [
    "gen = network.Generator(n_features+1).to(device)\n",
    "disc = network.Discriminator(n_features+1).to(device)\n",
    "\n",
    "criterion = torch.nn.BCELoss()\n",
    "gen_opt = torch.optim.Adam(gen.parameters(), lr=0.001, betas=(0.5, 0.999))\n",
    "disc_opt = torch.optim.Adam(disc.parameters(), lr=0.001, betas=(0.5, 0.999))"
   ]
  },
  {
   "cell_type": "code",
   "execution_count": 12,
   "id": "b75fdd85",
   "metadata": {
    "execution": {
     "iopub.execute_input": "2022-06-22T16:24:16.300747Z",
     "iopub.status.busy": "2022-06-22T16:24:16.298196Z",
     "iopub.status.idle": "2022-06-22T16:25:22.230169Z",
     "shell.execute_reply": "2022-06-22T16:25:22.230883Z"
    },
    "papermill": {
     "duration": 66.340256,
     "end_time": "2022-06-22T16:25:22.231128",
     "exception": false,
     "start_time": "2022-06-22T16:24:15.890872",
     "status": "completed"
    },
    "tags": []
   },
   "outputs": [
    {
     "data": {
      "image/png": "[encoded data removed]",
      "text/plain": [
       "<Figure size 432x288 with 1 Axes>"
      ]
     },
     "metadata": {
      "needs_background": "light"
     },
     "output_type": "display_data"
    },
    {
     "data": {
      "image/png": "[encoded data removed]",
      "text/plain": [
       "<Figure size 432x288 with 1 Axes>"
      ]
     },
     "metadata": {
      "needs_background": "light"
     },
     "output_type": "display_data"
    }
   ],
   "source": [
    "#Training the ABC_GAN \n",
    "ABC_train_test2.training_GAN(disc,gen,disc_opt,gen_opt,train_data,batch_size,n_epochs,criterion,prior_model,variance,bias,device)"
   ]
  },
  {
   "cell_type": "code",
   "execution_count": 13,
   "id": "1fa7c368",
   "metadata": {
    "execution": {
     "iopub.execute_input": "2022-06-22T16:25:22.374707Z",
     "iopub.status.busy": "2022-06-22T16:25:22.373217Z",
     "iopub.status.idle": "2022-06-22T16:25:23.462836Z",
     "shell.execute_reply": "2022-06-22T16:25:23.463955Z"
    },
    "papermill": {
     "duration": 1.187127,
     "end_time": "2022-06-22T16:25:23.464676",
     "exception": false,
     "start_time": "2022-06-22T16:25:22.277549",
     "status": "completed"
    },
    "tags": []
   },
   "outputs": [
    {
     "data": {
      "application/scrapbook.scrap.json+json": {
       "data": 0.6192741701160113,
       "encoder": "json",
       "name": "ABC-GAN Model 1 MSE",
       "version": 1
      }
     },
     "metadata": {
      "scrapbook": {
       "data": true,
       "display": false,
       "name": "ABC-GAN Model 1 MSE"
      }
     },
     "output_type": "display_data"
    },
    {
     "data": {
      "application/scrapbook.scrap.json+json": {
       "data": 0.5535351457744837,
       "encoder": "json",
       "name": "ABC-GAN Model 1 MAE",
       "version": 1
      }
     },
     "metadata": {
      "scrapbook": {
       "data": true,
       "display": false,
       "name": "ABC-GAN Model 1 MAE"
      }
     },
     "output_type": "display_data"
    },
    {
     "data": {
      "application/scrapbook.scrap.json+json": {
       "data": 11.070702915489674,
       "encoder": "json",
       "name": "ABC-GAN Model 1 Manhattan Distance",
       "version": 1
      }
     },
     "metadata": {
      "scrapbook": {
       "data": true,
       "display": false,
       "name": "ABC-GAN Model 1 Manhattan Distance"
      }
     },
     "output_type": "display_data"
    },
    {
     "data": {
      "application/scrapbook.scrap.json+json": {
       "data": 3.5192823920072156,
       "encoder": "json",
       "name": "ABC-GAN Model 1 Euclidean distance",
       "version": 1
      }
     },
     "metadata": {
      "scrapbook": {
       "data": true,
       "display": false,
       "name": "ABC-GAN Model 1 Euclidean distance"
      }
     },
     "output_type": "display_data"
    },
    {
     "data": {
      "application/scrapbook.scrap.json+json": {
       "data": [
        [
         0.616642875389672,
         0.6157689459551873,
         0.61976853372438,
         0.6145161730436318,
         0.6166085969641009,
         0.6151962442582743,
         0.6209525771939343,
         0.6226514462595001,
         0.6115046083158425,
         0.6224231440240795,
         0.6264044523487392,
         0.6164413212472623,
         0.618944064704086,
         0.6200882328943103,
         0.6240649204841704,
         0.6233047033178996,
         0.6146674753127108,
         0.6189511263220757,
         0.6143310563434453,
         0.6071337230101135,
         0.6201406880341539,
         0.6202619070644323,
         0.6137956678370907,
         0.6192515521214702,
         0.612867254937891,
         0.6135978178249766,
         0.6175532347898852,
         0.6186514626704174,
         0.6157647579178422,
         0.617927349889591,
         0.6208762099505719,
         0.6212650413749455,
         0.6178139523009271,
         0.6174584553031095,
         0.6199684485664658,
         0.6201226631908835,
         0.6239488626492901,
         0.6228384788720405,
         0.6176279907851941,
         0.6205536385561267,
         0.6220419452921975,
         0.6184160587177413,
         0.6153364512312235,
         0.6238208259218772,
         0.6159183351047594,
         0.6269005561177803,
         0.6157613646631681,
         0.6275331728877811,
         0.6229657407675663,
         0.6175839183963179,
         0.6245319342133809,
         0.6179562955127682,
         0.617803062543987,
         0.6180028305869546,
         0.6183413153602727,
         0.6219196346087009,
         0.6200771785104131,
         0.6228910466797222,
         0.622268776328178,
         0.6166404569230164,
         0.6199037513068035,
         0.6245414093676235,
         0.6275673483145467,
         0.6188057068154686,
         0.612804139758052,
         0.6171476642967103,
         0.6228831587774561,
         0.6107070701300586,
         0.6228725478083633,
         0.6247608207422904,
         0.6147025151205276,
         0.617493956216889,
         0.6157766135957425,
         0.6160178638129605,
         0.6245687578239798,
         0.6148846471717853,
         0.6204161238012862,
         0.6167705923140968,
         0.6202565119831273,
         0.6225764157165186,
         0.6273726535608541,
         0.6146827545717813,
         0.6167619418089585,
         0.6224615006980587,
         0.6249001344081259,
         0.6221075228697457,
         0.618106231799799,
         0.6133563502441876,
         0.6227003332257837,
         0.6151227079061035,
         0.6213195951879116,
         0.6195864459064726,
         0.6167842988958987,
         0.6183219130452318,
         0.6134269294449495,
         0.6200199719871704,
         0.6212275579275419,
         0.6289325604572463,
         0.6204862948536228,
         0.6249211418088675
        ],
        [
         0.5501666102558375,
         0.5520540062338114,
         0.5527659434825182,
         0.5464786555618047,
         0.5521304924041033,
         0.553406710550189,
         0.5545022238045931,
         0.5552015405148267,
         0.5537442225962877,
         0.5532817978411912,
         0.5588498953729868,
         0.5512121994048357,
         0.5568831186741591,
         0.5540954489260912,
         0.5578739162534475,
         0.5562066379934549,
         0.54903478436172,
         0.5517423938959837,
         0.5527765166014433,
         0.5487096723169088,
         0.5548612397164107,
         0.551756688579917,
         0.5546202506870032,
         0.5538098257035017,
         0.552655129507184,
         0.5505303982645273,
         0.5508896607905627,
         0.5519606340676546,
         0.5492162372916937,
         0.5550236318260431,
         0.5549160320311785,
         0.5548096548765897,
         0.5536509711295367,
         0.5522723298519849,
         0.5552782144397497,
         0.5533988479524851,
         0.5547172162681818,
         0.5565683383494615,
         0.553343665227294,
         0.5535706769675016,
         0.5553720895200968,
         0.5529963258653879,
         0.5513149861246347,
         0.5553106073290109,
         0.5544663015753031,
         0.5560225199908018,
         0.5506508555263281,
         0.5591500896960497,
         0.5526100222021342,
         0.5562080841511488,
         0.5574625503271818,
         0.552023820206523,
         0.5511493850499392,
         0.5511499930173158,
         0.5540775720030069,
         0.5518922213464975,
         0.553811126574874,
         0.5545299958437682,
         0.5551198791712523,
         0.5528277311474085,
         0.5560891386121511,
         0.5555210400372743,
         0.5532739523798227,
         0.551609218493104,
         0.5472218725830317,
         0.5543317761272192,
         0.555958466604352,
         0.5488962348550558,
         0.5558278117328882,
         0.555002235993743,
         0.553642849996686,
         0.5518694091588259,
         0.5501044373959303,
         0.5536447044461965,
         0.5538167830556631,
         0.5515139508992434,
         0.5529776129871606,
         0.5518998000770807,
         0.5534437377005815,
         0.5563141409307718,
         0.5619144830852747,
         0.5512731108814478,
         0.5527523931115865,
         0.5535760153084993,
         0.5571963619440794,
         0.5532652709633112,
         0.5528100285679102,
         0.548999859765172,
         0.5557446863502264,
         0.5535057302564382,
         0.5527540925890208,
         0.5557271901518106,
         0.5536907698959113,
         0.5558196868747473,
         0.5508891079574824,
         0.5519462924450635,
         0.5532080318778754,
         0.556506822630763,
         0.5544140692800283,
         0.5574488122016191
        ],
        [
         11.003332205116749,
         11.041080124676228,
         11.055318869650364,
         10.929573111236095,
         11.042609848082066,
         11.06813421100378,
         11.090044476091862,
         11.104030810296535,
         11.074884451925755,
         11.065635956823826,
         11.176997907459736,
         11.024243988096714,
         11.137662373483181,
         11.081908978521824,
         11.15747832506895,
         11.124132759869099,
         10.980695687234402,
         11.034847877919674,
         11.055530332028866,
         10.974193446338177,
         11.097224794328213,
         11.035133771598339,
         11.092405013740063,
         11.076196514070034,
         11.05310259014368,
         11.010607965290546,
         11.017793215811253,
         11.039212681353092,
         10.984324745833874,
         11.100472636520863,
         11.09832064062357,
         11.096193097531796,
         11.073019422590733,
         11.0454465970397,
         11.105564288794994,
         11.067976959049702,
         11.094344325363636,
         11.131366766989231,
         11.06687330454588,
         11.071413539350033,
         11.107441790401936,
         11.059926517307758,
         11.026299722492695,
         11.10621214658022,
         11.089326031506062,
         11.120450399816036,
         11.013017110526562,
         11.183001793920994,
         11.052200444042683,
         11.124161683022976,
         11.149251006543636,
         11.040476404130459,
         11.022987700998783,
         11.022999860346317,
         11.081551440060139,
         11.03784442692995,
         11.076222531497478,
         11.090599916875362,
         11.102397583425045,
         11.05655462294817,
         11.121782772243023,
         11.110420800745487,
         11.065479047596455,
         11.03218436986208,
         10.944437451660633,
         11.086635522544384,
         11.11916933208704,
         10.977924697101116,
         11.116556234657764,
         11.100044719874859,
         11.07285699993372,
         11.037388183176517,
         11.002088747918606,
         11.072894088923931,
         11.076335661113262,
         11.030279017984867,
         11.059552259743214,
         11.037996001541615,
         11.068874754011631,
         11.126282818615437,
         11.238289661705494,
         11.025462217628956,
         11.055047862231731,
         11.071520306169987,
         11.143927238881588,
         11.065305419266224,
         11.056200571358204,
         10.97999719530344,
         11.114893727004528,
         11.070114605128765,
         11.055081851780415,
         11.114543803036213,
         11.073815397918224,
         11.116393737494946,
         11.017782159149647,
         11.038925848901272,
         11.064160637557507,
         11.130136452615261,
         11.088281385600567,
         11.148976244032383
        ],
        [
         3.511816838588459,
         3.5093274169139224,
         3.5207059909182417,
         3.505755761725656,
         3.51171922842388,
         3.5076950958094244,
         3.5240674715275646,
         3.5288849407695344,
         3.4971548673624464,
         3.52823792855323,
         3.53950406794155,
         3.5112428604335024,
         3.518363439737532,
         3.521613928000371,
         3.5328881116847453,
         3.530735626800453,
         3.506187317622122,
         3.5183835104265584,
         3.505227685453386,
         3.4846340496818695,
         3.521762876839251,
         3.5221070598845574,
         3.5036999524419628,
         3.519237281347963,
         3.5010491425796664,
         3.503135218129544,
         3.5144081572574493,
         3.517531698991261,
         3.5093154828765174,
         3.5154725141567833,
         3.523850762874534,
         3.5249540177850416,
         3.5151499322245896,
         3.5141384585787434,
         3.521273771141533,
         3.5217116951587144,
         3.5325595894458455,
         3.5294149058223243,
         3.5146208637211322,
         3.5229352493513884,
         3.527157340670238,
         3.516862404808414,
         3.508094785581551,
         3.5321971233833396,
         3.5097530827816343,
         3.540905409970111,
         3.509305813585268,
         3.5426915555486365,
         3.5297754624552713,
         3.5144954642062576,
         3.534209768005801,
         3.5155548509809034,
         3.5151189525931743,
         3.515687217563458,
         3.5166498698627153,
         3.526810555186373,
         3.521582537753199,
         3.5295638446689757,
         3.5278003807703686,
         3.5118099519279693,
         3.521090033801474,
         3.534236577728275,
         3.542788021642126,
         3.517970172742994,
         3.5008688628911875,
         3.5132539455516456,
         3.5295414965047684,
         3.4948735889301017,
         3.529511433069351,
         3.534857340098155,
         3.5062872532652753,
         3.5142394802201196,
         3.5093492661624386,
         3.510036648848443,
         3.5343139583913015,
         3.506806658975613,
         3.522544886303895,
         3.51218049739502,
         3.5220917420848856,
         3.5286723160886404,
         3.542238426647348,
         3.5062308953398413,
         3.5121558672956366,
         3.528346640278017,
         3.535251432099634,
         3.527343257665025,
         3.5159813190624285,
         3.502445860378679,
         3.529023471800049,
         3.507485446601606,
         3.5251087789965045,
         3.520188761718532,
         3.512219523025002,
         3.5165946967065502,
         3.502647368619768,
         3.521420088507392,
         3.524847678772919,
         3.546639424743503,
         3.52274408623057,
         3.5353108542499267
        ]
       ],
       "encoder": "json",
       "name": "ABC_GAN_1 Metrics",
       "version": 1
      }
     },
     "metadata": {
      "scrapbook": {
       "data": true,
       "display": false,
       "name": "ABC_GAN_1 Metrics"
      }
     },
     "output_type": "display_data"
    },
    {
     "name": "stdout",
     "output_type": "stream",
     "text": [
      "MSE\n",
      "0.6192741701160113\n"
     ]
    }
   ],
   "source": [
    "ABC_GAN1_metrics=ABC_train_test2.test_generator(gen,test_data,prior_model,variance,bias,\"1\",device)\n",
    "sb.glue(\"ABC_GAN_1 Metrics\",ABC_GAN1_metrics)\n",
    "\n",
    "print(\"MSE\")\n",
    "print(mean(ABC_GAN1_metrics[0]))"
   ]
  },
  {
   "cell_type": "code",
   "execution_count": 14,
   "id": "eb22ce5c",
   "metadata": {
    "execution": {
     "iopub.execute_input": "2022-06-22T16:25:23.699931Z",
     "iopub.status.busy": "2022-06-22T16:25:23.697790Z",
     "iopub.status.idle": "2022-06-22T16:25:24.715055Z",
     "shell.execute_reply": "2022-06-22T16:25:24.715614Z"
    },
    "papermill": {
     "duration": 1.161101,
     "end_time": "2022-06-22T16:25:24.715842",
     "exception": false,
     "start_time": "2022-06-22T16:25:23.554741",
     "status": "completed"
    },
    "tags": []
   },
   "outputs": [
    {
     "data": {
      "image/png": "[encoded data removed]",
      "text/plain": [
       "<Figure size 432x288 with 1 Axes>"
      ]
     },
     "metadata": {
      "needs_background": "light"
     },
     "output_type": "display_data"
    },
    {
     "data": {
      "image/png": "[encoded data removed]",
      "text/plain": [
       "<Figure size 432x288 with 1 Axes>"
      ]
     },
     "metadata": {
      "needs_background": "light"
     },
     "output_type": "display_data"
    },
    {
     "data": {
      "image/png": "[encoded data removed]",
      "text/plain": [
       "<Figure size 432x288 with 1 Axes>"
      ]
     },
     "metadata": {
      "needs_background": "light"
     },
     "output_type": "display_data"
    },
    {
     "data": {
      "image/png": "[encoded data removed]",
      "text/plain": [
       "<Figure size 432x288 with 1 Axes>"
      ]
     },
     "metadata": {
      "needs_background": "light"
     },
     "output_type": "display_data"
    }
   ],
   "source": [
    "sanityChecks.discProbVsError(train_data,disc,device)\n",
    "sanityChecks.discProbVsError(test_data,disc,device)"
   ]
  },
  {
   "cell_type": "markdown",
   "id": "130f3a4d",
   "metadata": {
    "id": "130f3a4d",
    "papermill": {
     "duration": 0.067785,
     "end_time": "2022-06-22T16:25:24.832976",
     "exception": false,
     "start_time": "2022-06-22T16:25:24.765191",
     "status": "completed"
    },
    "tags": []
   },
   "source": [
    "# ABC - GAN Model with skip connection"
   ]
  },
  {
   "cell_type": "code",
   "execution_count": 15,
   "id": "4e43dad1",
   "metadata": {
    "execution": {
     "iopub.execute_input": "2022-06-22T16:25:24.973883Z",
     "iopub.status.busy": "2022-06-22T16:25:24.971298Z",
     "iopub.status.idle": "2022-06-22T16:25:24.982929Z",
     "shell.execute_reply": "2022-06-22T16:25:24.983592Z"
    },
    "id": "4e43dad1",
    "papermill": {
     "duration": 0.093829,
     "end_time": "2022-06-22T16:25:24.984359",
     "exception": false,
     "start_time": "2022-06-22T16:25:24.890530",
     "status": "completed"
    },
    "tags": []
   },
   "outputs": [],
   "source": [
    "#Generator\n",
    "gen3 = network.GeneratorWithSkipConnection(n_features+1).to(device)\n",
    "constraints=network.weightConstraint()\n",
    "#Discriminator \n",
    "disc3 = network.Discriminator(n_features+1).to(device)\n",
    "\n",
    "criterion = torch.nn.BCELoss()\n",
    "gen_opt = torch.optim.Adam(gen3.parameters(), lr=0.001, betas=(0.5, 0.999))\n",
    "disc_opt = torch.optim.Adam(disc3.parameters(), lr=0.001, betas=(0.5, 0.999))\n"
   ]
  },
  {
   "cell_type": "code",
   "execution_count": 16,
   "id": "26acbc37",
   "metadata": {
    "execution": {
     "iopub.execute_input": "2022-06-22T16:25:25.113308Z",
     "iopub.status.busy": "2022-06-22T16:25:25.112439Z",
     "iopub.status.idle": "2022-06-22T16:26:58.936862Z",
     "shell.execute_reply": "2022-06-22T16:26:58.937637Z"
    },
    "id": "26acbc37",
    "papermill": {
     "duration": 93.892786,
     "end_time": "2022-06-22T16:26:58.937862",
     "exception": false,
     "start_time": "2022-06-22T16:25:25.045076",
     "status": "completed"
    },
    "tags": []
   },
   "outputs": [
    {
     "data": {
      "image/png": "[encoded data removed]",
      "text/plain": [
       "<Figure size 432x288 with 1 Axes>"
      ]
     },
     "metadata": {
      "needs_background": "light"
     },
     "output_type": "display_data"
    },
    {
     "data": {
      "image/png": "[encoded data removed]",
      "text/plain": [
       "<Figure size 432x288 with 1 Axes>"
      ]
     },
     "metadata": {
      "needs_background": "light"
     },
     "output_type": "display_data"
    }
   ],
   "source": [
    "ABC_train_test2.training_GAN_skip_connection(disc3,gen3,disc_opt,gen_opt,train_data,batch_size,n_epochs,criterion,prior_model,variance,bias,device)"
   ]
  },
  {
   "cell_type": "code",
   "execution_count": 17,
   "id": "c5e0717b",
   "metadata": {
    "execution": {
     "iopub.execute_input": "2022-06-22T16:26:59.544452Z",
     "iopub.status.busy": "2022-06-22T16:26:59.175805Z",
     "iopub.status.idle": "2022-06-22T16:27:00.805653Z",
     "shell.execute_reply": "2022-06-22T16:27:00.806158Z"
    },
    "id": "c5e0717b",
    "papermill": {
     "duration": 1.783737,
     "end_time": "2022-06-22T16:27:00.806391",
     "exception": false,
     "start_time": "2022-06-22T16:26:59.022654",
     "status": "completed"
    },
    "tags": []
   },
   "outputs": [
    {
     "data": {
      "application/scrapbook.scrap.json+json": {
       "data": 0.4632265557904096,
       "encoder": "json",
       "name": "ABC-GAN Model 3 MSE",
       "version": 1
      }
     },
     "metadata": {
      "scrapbook": {
       "data": true,
       "display": false,
       "name": "ABC-GAN Model 3 MSE"
      }
     },
     "output_type": "display_data"
    },
    {
     "data": {
      "application/scrapbook.scrap.json+json": {
       "data": 0.5231909177824855,
       "encoder": "json",
       "name": "ABC-GAN Model 3 MAE",
       "version": 1
      }
     },
     "metadata": {
      "scrapbook": {
       "data": true,
       "display": false,
       "name": "ABC-GAN Model 3 MAE"
      }
     },
     "output_type": "display_data"
    },
    {
     "data": {
      "application/scrapbook.scrap.json+json": {
       "data": 10.46381835564971,
       "encoder": "json",
       "name": "ABC-GAN Model 3 Manhattan Distance",
       "version": 1
      }
     },
     "metadata": {
      "scrapbook": {
       "data": true,
       "display": false,
       "name": "ABC-GAN Model 3 Manhattan Distance"
      }
     },
     "output_type": "display_data"
    },
    {
     "data": {
      "application/scrapbook.scrap.json+json": {
       "data": 3.043755529742691,
       "encoder": "json",
       "name": "ABC-GAN Model 3 Euclidean distance",
       "version": 1
      }
     },
     "metadata": {
      "scrapbook": {
       "data": true,
       "display": false,
       "name": "ABC-GAN Model 3 Euclidean distance"
      }
     },
     "output_type": "display_data"
    },
    {
     "data": {
      "application/scrapbook.scrap.json+json": {
       "data": [
        [
         0.46142025683240445,
         0.4618492553223468,
         0.46250917010325043,
         0.4645750152496532,
         0.46124271266682404,
         0.4639410862995194,
         0.46673252137711196,
         0.4641056357622372,
         0.4635001248404871,
         0.463105439428258,
         0.45880184481443687,
         0.4602997146870386,
         0.4623092186086765,
         0.46680820292519476,
         0.47000721978020427,
         0.4638250800343785,
         0.46572859406624767,
         0.46242243486576406,
         0.461454544016439,
         0.4598994873695489,
         0.4634631878540443,
         0.4607562417255108,
         0.46623158961666594,
         0.4628058550921099,
         0.46180752339301223,
         0.46816536211652526,
         0.46612973743285196,
         0.4643612592163766,
         0.46317566742936567,
         0.46279470490307295,
         0.46297660618156,
         0.46255976013850797,
         0.45702387052212057,
         0.4637754828236508,
         0.4558788582393077,
         0.4614613873412111,
         0.4670082366183753,
         0.463120638761644,
         0.460741704358193,
         0.4633981740120885,
         0.4601564273264647,
         0.45741535068288475,
         0.46534584509330845,
         0.4610870867530684,
         0.46452991051402737,
         0.46071110358302925,
         0.4593779790946314,
         0.4612236032786307,
         0.46013938026255763,
         0.46049262785355116,
         0.46618664541280797,
         0.46329464008112914,
         0.46182279327279074,
         0.4649797460086134,
         0.4661198185211797,
         0.46362914408761896,
         0.46744961951791336,
         0.4627196357549459,
         0.46424250967061925,
         0.4579128959327793,
         0.45990200071600673,
         0.4659683114153614,
         0.4614580535450682,
         0.4615019848675012,
         0.4606423002306996,
         0.4606906534980103,
         0.46857520002668335,
         0.4674990058369011,
         0.4627835599631265,
         0.46337465139565764,
         0.46829256400418967,
         0.4594043673098138,
         0.4625745487739906,
         0.46110238264003556,
         0.4619770867634695,
         0.46783553726779764,
         0.4645558726033429,
         0.46722204075619517,
         0.4651576638829922,
         0.46306511639086345,
         0.46361063975599615,
         0.46081313039697075,
         0.4643197412999404,
         0.46521902753819055,
         0.462658355700465,
         0.46576948586139244,
         0.4649649375082408,
         0.46345485976320855,
         0.46428705737343473,
         0.46468813821318733,
         0.46248260359717125,
         0.45749540801290484,
         0.466331478261949,
         0.4635810407846221,
         0.46652803663348263,
         0.4612846759167842,
         0.4608991693783925,
         0.4642639541705587,
         0.468259353553082,
         0.4671514139045139
        ],
        [
         0.5209902185946703,
         0.5216278839856386,
         0.5231745820492506,
         0.5238959033042192,
         0.5209755312651396,
         0.5232142020016909,
         0.5248398337513208,
         0.5220678556710482,
         0.5234140675514937,
         0.521719952300191,
         0.5204363632947206,
         0.5228509265929461,
         0.5231492269784213,
         0.5223403457552195,
         0.5275650788098574,
         0.5235166881233454,
         0.5230343516916036,
         0.5233575332909822,
         0.5225325349718333,
         0.5201770972460509,
         0.5244537521153688,
         0.5224893111735582,
         0.5249673802405596,
         0.5213202927261591,
         0.5218971464782953,
         0.5259884465485811,
         0.5252856951206922,
         0.5220537301152944,
         0.5243741769343615,
         0.521170512214303,
         0.5233913023024798,
         0.5228498179465533,
         0.5182343024760485,
         0.5240256052464247,
         0.520127821341157,
         0.5227443125098944,
         0.525663623586297,
         0.5246846888214349,
         0.5229891169816255,
         0.5232181143015623,
         0.5204457778483629,
         0.5207201439887286,
         0.52440384067595,
         0.5215012189000845,
         0.5235977489501238,
         0.5222239334136247,
         0.5229409817606211,
         0.5229612212628126,
         0.5209643829613924,
         0.521909362450242,
         0.527590512111783,
         0.522872119769454,
         0.5228286165744066,
         0.5259109307080507,
         0.5248619440943003,
         0.5218864899128676,
         0.52548265196383,
         0.5219690319150686,
         0.5241117257624864,
         0.5226522203534841,
         0.5199944708496332,
         0.5268151987344026,
         0.5219769474118948,
         0.52199223972857,
         0.5216783080250025,
         0.5200181666761636,
         0.5240203280001878,
         0.5252886515110731,
         0.5246217768639326,
         0.5238488208502531,
         0.5278721209615469,
         0.5198005203157663,
         0.5242037024348974,
         0.5209832478314638,
         0.5223131347447634,
         0.5260443884879351,
         0.5233914565294981,
         0.5240878377109766,
         0.5242403645068408,
         0.5226496119052172,
         0.5236323405057192,
         0.5205219935625791,
         0.5244229543954134,
         0.5248822722584009,
         0.523093081638217,
         0.5244416754692793,
         0.5229460816830397,
         0.5221520360559225,
         0.5245762038975954,
         0.5241678927093745,
         0.5244591619819403,
         0.5208912935107947,
         0.5257801670581103,
         0.5252935286611319,
         0.5231573674827814,
         0.5250186938792467,
         0.5211653996258974,
         0.5235397834330797,
         0.5265056926757097,
         0.5239586818963289
        ],
        [
         10.419804371893406,
         10.432557679712772,
         10.463491640985012,
         10.477918066084385,
         10.419510625302792,
         10.464284040033817,
         10.496796675026417,
         10.441357113420963,
         10.468281351029873,
         10.434399046003819,
         10.408727265894413,
         10.457018531858921,
         10.462984539568424,
         10.44680691510439,
         10.551301576197147,
         10.470333762466908,
         10.460687033832073,
         10.467150665819645,
         10.450650699436665,
         10.403541944921017,
         10.489075042307377,
         10.449786223471165,
         10.499347604811192,
         10.426405854523182,
         10.437942929565907,
         10.519768930971622,
         10.505713902413845,
         10.44107460230589,
         10.48748353868723,
         10.42341024428606,
         10.467826046049595,
         10.456996358931065,
         10.36468604952097,
         10.480512104928493,
         10.40255642682314,
         10.454886250197887,
         10.51327247172594,
         10.4936937764287,
         10.459782339632511,
         10.464362286031246,
         10.408915556967258,
         10.41440287977457,
         10.488076813519001,
         10.43002437800169,
         10.471954979002476,
         10.444478668272495,
         10.458819635212421,
         10.459224425256252,
         10.419287659227848,
         10.43818724900484,
         10.55181024223566,
         10.45744239538908,
         10.456572331488132,
         10.518218614161015,
         10.497238881886005,
         10.437729798257351,
         10.5096530392766,
         10.439380638301373,
         10.48223451524973,
         10.453044407069683,
         10.399889416992664,
         10.536303974688053,
         10.439538948237896,
         10.4398447945714,
         10.43356616050005,
         10.400363333523273,
         10.480406560003757,
         10.505773030221462,
         10.492435537278652,
         10.476976417005062,
         10.557442419230938,
         10.396010406315327,
         10.484074048697948,
         10.419664956629276,
         10.446262694895267,
         10.520887769758701,
         10.467829130589962,
         10.481756754219532,
         10.484807290136814,
         10.452992238104343,
         10.472646810114384,
         10.410439871251583,
         10.488459087908268,
         10.497645445168018,
         10.46186163276434,
         10.488833509385586,
         10.458921633660793,
         10.44304072111845,
         10.491524077951908,
         10.483357854187489,
         10.489183239638805,
         10.417825870215893,
         10.515603341162205,
         10.505870573222637,
         10.463147349655628,
         10.500373877584934,
         10.423307992517948,
         10.470795668661594,
         10.530113853514194,
         10.479173637926579
        ],
        [
         3.0378290170198996,
         3.03924087667413,
         3.041411416113415,
         3.048196237940245,
         3.0372445165538586,
         3.046115842509997,
         3.055266015839249,
         3.0466559889893614,
         3.0446678795575948,
         3.0433712866762015,
         3.0291974013406153,
         3.034138146779209,
         3.040753915096309,
         3.0555137143373936,
         3.0659654915872885,
         3.0457349853011784,
         3.0519783553172446,
         3.0411262218650643,
         3.0379418823158515,
         3.0328187791872723,
         3.0445465601762254,
         3.0356424088667318,
         3.053626007279431,
         3.042386744291757,
         3.039103563200873,
         3.0599521634055824,
         3.0532924440113884,
         3.0474949030847505,
         3.043602035185828,
         3.0423500945915904,
         3.0429479331121,
         3.0415777489273816,
         3.023322247204623,
         3.0455721394301296,
         3.019532607008269,
         3.037964408419595,
         3.0561683089070057,
         3.043421228688674,
         3.0355945195568954,
         3.044333010733512,
         3.033665859406618,
         3.024616837494907,
         3.0507239963435184,
         3.03673208154117,
         3.0480482624592,
         3.0354937113525016,
         3.0310987416929573,
         3.037181599044189,
         3.0336096659344873,
         3.034773888953018,
         3.053478820666055,
         3.0439929043318386,
         3.0391538074694107,
         3.0495237202180063,
         3.053259957884948,
         3.0450916048211716,
         3.0576122040504528,
         3.042103337347191,
         3.0471052153498714,
         3.0262613764603326,
         3.032827066339282,
         3.052763703319867,
         3.0379534346170227,
         3.038098039456598,
         3.035267040082963,
         3.035426340723854,
         3.061291230924243,
         3.0577737190214096,
         3.0423134617035323,
         3.0442557428562327,
         3.0603678341146825,
         3.0311857986926953,
         3.0416263701315804,
         3.036782450687028,
         3.0396614507654283,
         3.058874097663379,
         3.048133437378826,
         3.0568678111956205,
         3.050107092818192,
         3.0432387891549473,
         3.045030836480958,
         3.0358298054962525,
         3.0473586638265617,
         3.0503082714315632,
         3.0419018909243767,
         3.052112336927959,
         3.049475159788126,
         3.0445192059279527,
         3.047251408641679,
         3.0485673297901337,
         3.0413240655910747,
         3.0248815117716754,
         3.053953104623412,
         3.044933630753295,
         3.054596656298447,
         3.0373826756494946,
         3.0361132040106558,
         3.047175591168184,
         3.060259314349299,
         3.0566367592650385
        ]
       ],
       "encoder": "json",
       "name": "ABC_GAN_3 Metrics",
       "version": 1
      }
     },
     "metadata": {
      "scrapbook": {
       "data": true,
       "display": false,
       "name": "ABC_GAN_3 Metrics"
      }
     },
     "output_type": "display_data"
    },
    {
     "name": "stdout",
     "output_type": "stream",
     "text": [
      "MSE\n",
      "0.4632265557904096\n"
     ]
    }
   ],
   "source": [
    "ABC_GAN3_metrics=ABC_train_test2.test_generator(gen3,test_data,prior_model,variance,bias,\"3\",device)\n",
    "sb.glue(\"ABC_GAN_3 Metrics\",ABC_GAN3_metrics)\n",
    "\n",
    "print(\"MSE\")\n",
    "print(mean(ABC_GAN3_metrics[0]))"
   ]
  },
  {
   "cell_type": "code",
   "execution_count": 18,
   "id": "c8e46b48",
   "metadata": {
    "execution": {
     "iopub.execute_input": "2022-06-22T16:27:00.946874Z",
     "iopub.status.busy": "2022-06-22T16:27:00.945618Z",
     "iopub.status.idle": "2022-06-22T16:27:02.009345Z",
     "shell.execute_reply": "2022-06-22T16:27:02.010943Z"
    },
    "id": "c8e46b48",
    "papermill": {
     "duration": 1.145402,
     "end_time": "2022-06-22T16:27:02.011326",
     "exception": false,
     "start_time": "2022-06-22T16:27:00.865924",
     "status": "completed"
    },
    "tags": []
   },
   "outputs": [
    {
     "data": {
      "image/png": "[encoded data removed]",
      "text/plain": [
       "<Figure size 432x288 with 1 Axes>"
      ]
     },
     "metadata": {
      "needs_background": "light"
     },
     "output_type": "display_data"
    },
    {
     "data": {
      "image/png": "[encoded data removed]",
      "text/plain": [
       "<Figure size 432x288 with 1 Axes>"
      ]
     },
     "metadata": {
      "needs_background": "light"
     },
     "output_type": "display_data"
    },
    {
     "data": {
      "image/png": "[encoded data removed]",
      "text/plain": [
       "<Figure size 432x288 with 1 Axes>"
      ]
     },
     "metadata": {
      "needs_background": "light"
     },
     "output_type": "display_data"
    },
    {
     "data": {
      "image/png": "[encoded data removed]",
      "text/plain": [
       "<Figure size 432x288 with 1 Axes>"
      ]
     },
     "metadata": {
      "needs_background": "light"
     },
     "output_type": "display_data"
    }
   ],
   "source": [
    "sanityChecks.discProbVsError(train_data,disc3,device)\n",
    "sanityChecks.discProbVsError(test_data,disc3,device)"
   ]
  },
  {
   "cell_type": "markdown",
   "id": "a5bd74c3",
   "metadata": {
    "id": "a5bd74c3",
    "papermill": {
     "duration": 0.143796,
     "end_time": "2022-06-22T16:27:02.252015",
     "exception": false,
     "start_time": "2022-06-22T16:27:02.108219",
     "status": "completed"
    },
    "tags": []
   },
   "source": [
    "## Skip Connection Model Analysis - ABC-GAN "
   ]
  },
  {
   "cell_type": "markdown",
   "id": "5744a8bf",
   "metadata": {
    "id": "5744a8bf",
    "papermill": {
     "duration": 0.076236,
     "end_time": "2022-06-22T16:27:02.397979",
     "exception": false,
     "start_time": "2022-06-22T16:27:02.321743",
     "status": "completed"
    },
    "tags": []
   },
   "source": [
    "### Weight Analysis \n",
    "\n",
    "Study the weights of the skip connection layer\n",
    "\n",
    "Equation of the skip connection is \n",
    "\n",
    "$output = y_{gan} * w + y_{abc} * (1-w)$"
   ]
  },
  {
   "cell_type": "code",
   "execution_count": 19,
   "id": "52c31dea",
   "metadata": {
    "execution": {
     "iopub.execute_input": "2022-06-22T16:27:02.550084Z",
     "iopub.status.busy": "2022-06-22T16:27:02.545245Z",
     "iopub.status.idle": "2022-06-22T16:27:02.557043Z",
     "shell.execute_reply": "2022-06-22T16:27:02.557786Z"
    },
    "id": "52c31dea",
    "papermill": {
     "duration": 0.091142,
     "end_time": "2022-06-22T16:27:02.558067",
     "exception": false,
     "start_time": "2022-06-22T16:27:02.466925",
     "status": "completed"
    },
    "tags": []
   },
   "outputs": [
    {
     "name": "stdout",
     "output_type": "stream",
     "text": [
      "Weight of the node at skip connection\n",
      "Parameter containing:\n",
      "tensor([[0.0408]], requires_grad=True)\n"
     ]
    },
    {
     "data": {
      "application/scrapbook.scrap.json+json": {
       "data": 0.0408463291823864,
       "encoder": "json",
       "name": "Skip Connection Weight",
       "version": 1
      }
     },
     "metadata": {
      "scrapbook": {
       "data": true,
       "display": false,
       "name": "Skip Connection Weight"
      }
     },
     "output_type": "display_data"
    }
   ],
   "source": [
    "print(\"Weight of the node at skip connection\")\n",
    "for name,param in gen3.named_parameters():\n",
    "    if(name == \"skipNode.weight\"):\n",
    "        print(param)\n",
    "        sb.glue(\"Skip Connection Weight\",param.item())"
   ]
  }
 ],
 "metadata": {
  "colab": {
   "collapsed_sections": [],
   "name": "ABC_GAN_Model-Catboost_Pre-gen.ipynb",
   "provenance": []
  },
  "interpreter": {
   "hash": "31f2aee4e71d21fbe5cf8b01ff0e069b9275f58929596ceb00d14d90e3e16cd6"
  },
  "kernelspec": {
   "display_name": "Python 3 (ipykernel)",
   "language": "python",
   "name": "python3"
  },
  "language_info": {
   "codemirror_mode": {
    "name": "ipython",
    "version": 3
   },
   "file_extension": ".py",
   "mimetype": "text/x-python",
   "name": "python",
   "nbconvert_exporter": "python",
   "pygments_lexer": "ipython3",
   "version": "3.8.3"
  },
  "papermill": {
   "default_parameters": {},
   "duration": 210.887499,
   "end_time": "2022-06-22T16:27:04.438854",
   "environment_variables": {},
   "exception": null,
   "input_path": "ABC_GAN-TabNet.ipynb",
   "output_path": "./ABC_GAN_TabNet/ABC-GAN_output_9_8.ipynb",
   "parameters": {
    "bias": 0.01,
    "variance": 0.01
   },
   "start_time": "2022-06-22T16:23:33.551355",
   "version": "2.3.3"
  }
 },
 "nbformat": 4,
 "nbformat_minor": 5
}