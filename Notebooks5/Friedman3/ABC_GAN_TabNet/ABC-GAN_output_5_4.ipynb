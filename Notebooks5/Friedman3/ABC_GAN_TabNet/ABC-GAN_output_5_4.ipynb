{
 "cells": [
  {
   "cell_type": "markdown",
   "id": "622780e6",
   "metadata": {
    "id": "622780e6",
    "papermill": {
     "duration": 0.052651,
     "end_time": "2022-06-22T13:43:05.064829",
     "exception": false,
     "start_time": "2022-06-22T13:43:05.012178",
     "status": "completed"
    },
    "tags": []
   },
   "source": [
    "## Import Libraries "
   ]
  },
  {
   "cell_type": "code",
   "execution_count": 1,
   "id": "a62397e3",
   "metadata": {
    "execution": {
     "iopub.execute_input": "2022-06-22T13:43:05.127949Z",
     "iopub.status.busy": "2022-06-22T13:43:05.126550Z",
     "iopub.status.idle": "2022-06-22T13:43:05.129873Z",
     "shell.execute_reply": "2022-06-22T13:43:05.130492Z"
    },
    "id": "a62397e3",
    "papermill": {
     "duration": 0.043793,
     "end_time": "2022-06-22T13:43:05.130868",
     "exception": false,
     "start_time": "2022-06-22T13:43:05.087075",
     "status": "completed"
    },
    "tags": []
   },
   "outputs": [],
   "source": [
    "import warnings\n",
    "import sys\n",
    "sys.path.insert(0, '../../src')\n",
    "warnings.filterwarnings('ignore')"
   ]
  },
  {
   "cell_type": "code",
   "execution_count": 2,
   "id": "d6a4e155",
   "metadata": {
    "execution": {
     "iopub.execute_input": "2022-06-22T13:43:05.181696Z",
     "iopub.status.busy": "2022-06-22T13:43:05.180380Z",
     "iopub.status.idle": "2022-06-22T13:43:11.676122Z",
     "shell.execute_reply": "2022-06-22T13:43:11.676792Z"
    },
    "id": "d6a4e155",
    "papermill": {
     "duration": 6.525056,
     "end_time": "2022-06-22T13:43:11.677054",
     "exception": false,
     "start_time": "2022-06-22T13:43:05.151998",
     "status": "completed"
    },
    "tags": []
   },
   "outputs": [],
   "source": [
    "import ABC_train_test2\n",
    "import friedman3Dataset\n",
    "import network\n",
    "import dataset\n",
    "import sanityChecks\n",
    "import torch \n",
    "import scrapbook as sb\n",
    "from statistics import mean \n",
    "import catboost as ctb \n",
    "from sklearn.model_selection import train_test_split\n",
    "from sklearn.metrics import mean_squared_error,mean_absolute_error\n",
    "import numpy as np\n",
    "from pytorch_tabnet.tab_model import TabNetRegressor"
   ]
  },
  {
   "cell_type": "markdown",
   "id": "2fa5b0f7",
   "metadata": {
    "id": "2fa5b0f7",
    "papermill": {
     "duration": 0.017308,
     "end_time": "2022-06-22T13:43:11.712966",
     "exception": false,
     "start_time": "2022-06-22T13:43:11.695658",
     "status": "completed"
    },
    "tags": []
   },
   "source": [
    "## Parameters "
   ]
  },
  {
   "cell_type": "code",
   "execution_count": 3,
   "id": "783186fb",
   "metadata": {
    "execution": {
     "iopub.execute_input": "2022-06-22T13:43:11.767096Z",
     "iopub.status.busy": "2022-06-22T13:43:11.765078Z",
     "iopub.status.idle": "2022-06-22T13:43:11.768098Z",
     "shell.execute_reply": "2022-06-22T13:43:11.768628Z"
    },
    "id": "783186fb",
    "papermill": {
     "duration": 0.026001,
     "end_time": "2022-06-22T13:43:11.768854",
     "exception": false,
     "start_time": "2022-06-22T13:43:11.742853",
     "status": "completed"
    },
    "tags": [
     "parameters"
    ]
   },
   "outputs": [],
   "source": [
    "variance = 1\n",
    "bias = 1 "
   ]
  },
  {
   "cell_type": "code",
   "execution_count": 4,
   "id": "c4284ebf",
   "metadata": {
    "execution": {
     "iopub.execute_input": "2022-06-22T13:43:11.815708Z",
     "iopub.status.busy": "2022-06-22T13:43:11.814464Z",
     "iopub.status.idle": "2022-06-22T13:43:11.819296Z",
     "shell.execute_reply": "2022-06-22T13:43:11.819870Z"
    },
    "papermill": {
     "duration": 0.029616,
     "end_time": "2022-06-22T13:43:11.820264",
     "exception": false,
     "start_time": "2022-06-22T13:43:11.790648",
     "status": "completed"
    },
    "tags": [
     "injected-parameters"
    ]
   },
   "outputs": [],
   "source": [
    "# Parameters\n",
    "variance = 0.1\n",
    "bias = 0.1\n"
   ]
  },
  {
   "cell_type": "markdown",
   "id": "391cdbfd",
   "metadata": {
    "id": "391cdbfd",
    "papermill": {
     "duration": 0.022501,
     "end_time": "2022-06-22T13:43:11.861209",
     "exception": false,
     "start_time": "2022-06-22T13:43:11.838708",
     "status": "completed"
    },
    "tags": []
   },
   "source": [
    "## Dataset \n"
   ]
  },
  {
   "cell_type": "code",
   "execution_count": 5,
   "id": "5b51f161",
   "metadata": {
    "execution": {
     "iopub.execute_input": "2022-06-22T13:43:11.900903Z",
     "iopub.status.busy": "2022-06-22T13:43:11.900132Z",
     "iopub.status.idle": "2022-06-22T13:43:11.902512Z",
     "shell.execute_reply": "2022-06-22T13:43:11.902998Z"
    },
    "id": "5b51f161",
    "papermill": {
     "duration": 0.024581,
     "end_time": "2022-06-22T13:43:11.903225",
     "exception": false,
     "start_time": "2022-06-22T13:43:11.878644",
     "status": "completed"
    },
    "tags": []
   },
   "outputs": [],
   "source": [
    "#Parameters \n",
    "n_features = 4\n",
    "n_samples= 100\n",
    "n_target = 1"
   ]
  },
  {
   "cell_type": "code",
   "execution_count": 6,
   "id": "5d6eced4",
   "metadata": {
    "execution": {
     "iopub.execute_input": "2022-06-22T13:43:11.948679Z",
     "iopub.status.busy": "2022-06-22T13:43:11.947773Z",
     "iopub.status.idle": "2022-06-22T13:43:11.962559Z",
     "shell.execute_reply": "2022-06-22T13:43:11.963099Z"
    },
    "id": "5d6eced4",
    "papermill": {
     "duration": 0.042262,
     "end_time": "2022-06-22T13:43:11.963327",
     "exception": false,
     "start_time": "2022-06-22T13:43:11.921065",
     "status": "completed"
    },
    "tags": []
   },
   "outputs": [
    {
     "name": "stdout",
     "output_type": "stream",
     "text": [
      "          X1           X2        X3         X4         Y\n",
      "0  14.508463  1409.590595  0.874551  10.801121  1.512761\n",
      "1  57.277727   128.475042  0.089119   3.634813  0.182787\n",
      "2  86.044768  1252.438529  0.918783  10.607957  1.591519\n",
      "3  91.232833  1378.545883  0.692234  10.703451  1.450493\n",
      "4  34.091239   896.962154  0.824480   4.028082  1.401217\n"
     ]
    }
   ],
   "source": [
    "X,Y = friedman3Dataset.friedman3_data(n_samples)"
   ]
  },
  {
   "cell_type": "code",
   "execution_count": 7,
   "id": "fe007438",
   "metadata": {
    "execution": {
     "iopub.execute_input": "2022-06-22T13:43:12.013545Z",
     "iopub.status.busy": "2022-06-22T13:43:12.012073Z",
     "iopub.status.idle": "2022-06-22T13:43:12.016733Z",
     "shell.execute_reply": "2022-06-22T13:43:12.015756Z"
    },
    "id": "fe007438",
    "papermill": {
     "duration": 0.034947,
     "end_time": "2022-06-22T13:43:12.016981",
     "exception": false,
     "start_time": "2022-06-22T13:43:11.982034",
     "status": "completed"
    },
    "tags": []
   },
   "outputs": [],
   "source": [
    "#Train test split for dataset \n",
    "X_train,X_test,Y_train,Y_test = train_test_split(X,Y,test_size = 0.2)\n",
    "train_data = dataset.CustomDataset(X_train,Y_train)\n",
    "test_data = dataset.CustomDataset(X_test,Y_test)\n"
   ]
  },
  {
   "cell_type": "markdown",
   "id": "a9a1af34",
   "metadata": {
    "id": "a9a1af34",
    "papermill": {
     "duration": 0.018179,
     "end_time": "2022-06-22T13:43:12.052845",
     "exception": false,
     "start_time": "2022-06-22T13:43:12.034666",
     "status": "completed"
    },
    "tags": []
   },
   "source": [
    "## Training Parameters "
   ]
  },
  {
   "cell_type": "code",
   "execution_count": 8,
   "id": "952b7fc8",
   "metadata": {
    "execution": {
     "iopub.execute_input": "2022-06-22T13:43:12.093974Z",
     "iopub.status.busy": "2022-06-22T13:43:12.092552Z",
     "iopub.status.idle": "2022-06-22T13:43:12.095385Z",
     "shell.execute_reply": "2022-06-22T13:43:12.095879Z"
    },
    "id": "952b7fc8",
    "papermill": {
     "duration": 0.025353,
     "end_time": "2022-06-22T13:43:12.096119",
     "exception": false,
     "start_time": "2022-06-22T13:43:12.070766",
     "status": "completed"
    },
    "tags": []
   },
   "outputs": [],
   "source": [
    "batch_size = 32\n",
    "n_epochs = 1000\n",
    "#Select the device \n",
    "device = torch.device('cuda' if torch.cuda.is_available() else 'cpu')"
   ]
  },
  {
   "cell_type": "markdown",
   "id": "a95e1600",
   "metadata": {
    "id": "a95e1600",
    "papermill": {
     "duration": 0.020466,
     "end_time": "2022-06-22T13:43:12.135311",
     "exception": false,
     "start_time": "2022-06-22T13:43:12.114845",
     "status": "completed"
    },
    "tags": []
   },
   "source": [
    "# ABC Pre-generator Model \n",
    "\n",
    "1. The catboost model is used as a pre-generator model for the ABC-GAN. \n",
    "2. The model is first trained on the entire dataset \n",
    "3. It generats X,Y pairs and we add some Gaussian noise with mean 0 and variance 1 to it which is then feed as input to the generator.\n"
   ]
  },
  {
   "cell_type": "code",
   "execution_count": 9,
   "id": "ff8ce7bd",
   "metadata": {
    "execution": {
     "iopub.execute_input": "2022-06-22T13:43:12.179805Z",
     "iopub.status.busy": "2022-06-22T13:43:12.178762Z",
     "iopub.status.idle": "2022-06-22T13:43:31.918002Z",
     "shell.execute_reply": "2022-06-22T13:43:31.918748Z"
    },
    "id": "ff8ce7bd",
    "papermill": {
     "duration": 19.764694,
     "end_time": "2022-06-22T13:43:31.918982",
     "exception": false,
     "start_time": "2022-06-22T13:43:12.154288",
     "status": "completed"
    },
    "tags": []
   },
   "outputs": [
    {
     "name": "stdout",
     "output_type": "stream",
     "text": [
      "Device used : cpu\n"
     ]
    },
    {
     "name": "stdout",
     "output_type": "stream",
     "text": [
      "epoch 0  | loss: 1.34495 | train_mse: 7.10161 | train_mae: 1.57812 |  0:00:00s\n",
      "epoch 1  | loss: 1.10254 | train_mse: 2.73569 | train_mae: 1.18012 |  0:00:00s\n",
      "epoch 2  | loss: 0.78007 | train_mse: 3.12893 | train_mae: 1.32537 |  0:00:00s\n"
     ]
    },
    {
     "name": "stdout",
     "output_type": "stream",
     "text": [
      "epoch 3  | loss: 0.70558 | train_mse: 2.48686 | train_mae: 1.19127 |  0:00:00s\n",
      "epoch 4  | loss: 0.68828 | train_mse: 2.47133 | train_mae: 1.08916 |  0:00:00s\n",
      "epoch 5  | loss: 0.70448 | train_mse: 2.49588 | train_mae: 1.05867 |  0:00:00s\n"
     ]
    },
    {
     "name": "stdout",
     "output_type": "stream",
     "text": [
      "epoch 6  | loss: 0.68259 | train_mse: 2.07105 | train_mae: 0.97136 |  0:00:00s\n",
      "epoch 7  | loss: 0.49956 | train_mse: 1.4682  | train_mae: 0.83134 |  0:00:00s\n",
      "epoch 8  | loss: 0.53602 | train_mse: 0.60418 | train_mae: 0.56641 |  0:00:00s\n"
     ]
    },
    {
     "name": "stdout",
     "output_type": "stream",
     "text": [
      "epoch 9  | loss: 0.48833 | train_mse: 0.8355  | train_mae: 0.63678 |  0:00:00s\n",
      "epoch 10 | loss: 0.52156 | train_mse: 0.92    | train_mae: 0.66448 |  0:00:01s\n",
      "epoch 11 | loss: 0.42582 | train_mse: 0.46034 | train_mae: 0.50881 |  0:00:01s\n"
     ]
    },
    {
     "name": "stdout",
     "output_type": "stream",
     "text": [
      "epoch 12 | loss: 0.3844  | train_mse: 0.32147 | train_mae: 0.42983 |  0:00:01s\n",
      "epoch 13 | loss: 0.22933 | train_mse: 0.45529 | train_mae: 0.47283 |  0:00:01s\n",
      "epoch 14 | loss: 0.27332 | train_mse: 0.47685 | train_mae: 0.48758 |  0:00:01s\n"
     ]
    },
    {
     "name": "stdout",
     "output_type": "stream",
     "text": [
      "epoch 15 | loss: 0.54446 | train_mse: 0.39882 | train_mae: 0.44992 |  0:00:01s\n",
      "epoch 16 | loss: 0.33791 | train_mse: 0.64046 | train_mae: 0.5733  |  0:00:01s\n",
      "epoch 17 | loss: 0.24095 | train_mse: 0.91104 | train_mae: 0.6401  |  0:00:01s\n"
     ]
    },
    {
     "name": "stdout",
     "output_type": "stream",
     "text": [
      "epoch 18 | loss: 0.23901 | train_mse: 0.95944 | train_mae: 0.65087 |  0:00:01s\n",
      "epoch 19 | loss: 0.33182 | train_mse: 0.83407 | train_mae: 0.61158 |  0:00:01s\n",
      "epoch 20 | loss: 0.32108 | train_mse: 0.48229 | train_mae: 0.47654 |  0:00:01s\n"
     ]
    },
    {
     "name": "stdout",
     "output_type": "stream",
     "text": [
      "epoch 21 | loss: 0.35154 | train_mse: 0.3194  | train_mae: 0.41884 |  0:00:01s\n",
      "epoch 22 | loss: 0.23315 | train_mse: 0.33297 | train_mae: 0.42256 |  0:00:02s\n",
      "epoch 23 | loss: 0.32013 | train_mse: 0.39719 | train_mae: 0.41194 |  0:00:02s\n"
     ]
    },
    {
     "name": "stdout",
     "output_type": "stream",
     "text": [
      "epoch 24 | loss: 0.24223 | train_mse: 0.28731 | train_mae: 0.36559 |  0:00:02s\n",
      "epoch 25 | loss: 0.24293 | train_mse: 0.30533 | train_mae: 0.42152 |  0:00:02s\n",
      "epoch 26 | loss: 0.36987 | train_mse: 0.29799 | train_mae: 0.40133 |  0:00:02s\n"
     ]
    },
    {
     "name": "stdout",
     "output_type": "stream",
     "text": [
      "epoch 27 | loss: 0.24381 | train_mse: 0.27335 | train_mae: 0.38335 |  0:00:02s\n",
      "epoch 28 | loss: 0.37449 | train_mse: 0.25807 | train_mae: 0.36979 |  0:00:02s\n",
      "epoch 29 | loss: 0.41899 | train_mse: 0.23982 | train_mae: 0.3875  |  0:00:02s\n"
     ]
    },
    {
     "name": "stdout",
     "output_type": "stream",
     "text": [
      "epoch 30 | loss: 0.20959 | train_mse: 0.21715 | train_mae: 0.3686  |  0:00:02s\n",
      "epoch 31 | loss: 0.22779 | train_mse: 0.21298 | train_mae: 0.3618  |  0:00:02s\n",
      "epoch 32 | loss: 0.18244 | train_mse: 0.20973 | train_mae: 0.35098 |  0:00:02s\n"
     ]
    },
    {
     "name": "stdout",
     "output_type": "stream",
     "text": [
      "epoch 33 | loss: 0.20834 | train_mse: 0.21817 | train_mae: 0.34069 |  0:00:02s\n",
      "epoch 34 | loss: 0.20154 | train_mse: 0.25073 | train_mae: 0.3445  |  0:00:03s\n",
      "epoch 35 | loss: 0.16327 | train_mse: 0.27046 | train_mae: 0.35892 |  0:00:03s\n"
     ]
    },
    {
     "name": "stdout",
     "output_type": "stream",
     "text": [
      "epoch 36 | loss: 0.21375 | train_mse: 0.18852 | train_mae: 0.33364 |  0:00:03s\n",
      "epoch 37 | loss: 0.24859 | train_mse: 0.21279 | train_mae: 0.34428 |  0:00:03s\n"
     ]
    },
    {
     "name": "stdout",
     "output_type": "stream",
     "text": [
      "epoch 38 | loss: 0.25099 | train_mse: 0.34682 | train_mae: 0.35353 |  0:00:03s\n",
      "epoch 39 | loss: 0.26743 | train_mse: 0.38582 | train_mae: 0.38079 |  0:00:03s\n",
      "epoch 40 | loss: 0.21603 | train_mse: 0.33698 | train_mae: 0.39557 |  0:00:03s\n"
     ]
    },
    {
     "name": "stdout",
     "output_type": "stream",
     "text": [
      "epoch 41 | loss: 0.26762 | train_mse: 0.27421 | train_mae: 0.37497 |  0:00:03s\n",
      "epoch 42 | loss: 0.26022 | train_mse: 0.26921 | train_mae: 0.35129 |  0:00:03s\n",
      "epoch 43 | loss: 0.37194 | train_mse: 0.19288 | train_mae: 0.30968 |  0:00:03s\n"
     ]
    },
    {
     "name": "stdout",
     "output_type": "stream",
     "text": [
      "epoch 44 | loss: 0.27801 | train_mse: 0.22765 | train_mae: 0.35817 |  0:00:03s\n",
      "epoch 45 | loss: 0.21351 | train_mse: 0.27953 | train_mae: 0.37601 |  0:00:03s\n",
      "epoch 46 | loss: 0.31493 | train_mse: 0.32714 | train_mae: 0.41095 |  0:00:04s\n"
     ]
    },
    {
     "name": "stdout",
     "output_type": "stream",
     "text": [
      "epoch 47 | loss: 0.27313 | train_mse: 0.45279 | train_mae: 0.43624 |  0:00:04s\n",
      "epoch 48 | loss: 0.31318 | train_mse: 0.47478 | train_mae: 0.43354 |  0:00:04s\n",
      "epoch 49 | loss: 0.39942 | train_mse: 0.33034 | train_mae: 0.3921  |  0:00:04s\n"
     ]
    },
    {
     "name": "stdout",
     "output_type": "stream",
     "text": [
      "epoch 50 | loss: 0.50351 | train_mse: 0.21568 | train_mae: 0.33453 |  0:00:04s\n",
      "epoch 51 | loss: 0.21495 | train_mse: 0.22037 | train_mae: 0.35053 |  0:00:04s\n",
      "epoch 52 | loss: 0.24429 | train_mse: 0.18415 | train_mae: 0.32829 |  0:00:04s\n"
     ]
    },
    {
     "name": "stdout",
     "output_type": "stream",
     "text": [
      "epoch 53 | loss: 0.16709 | train_mse: 0.15794 | train_mae: 0.30977 |  0:00:04s\n",
      "epoch 54 | loss: 0.22074 | train_mse: 0.1943  | train_mae: 0.33327 |  0:00:04s\n"
     ]
    },
    {
     "name": "stdout",
     "output_type": "stream",
     "text": [
      "epoch 55 | loss: 0.21674 | train_mse: 0.20249 | train_mae: 0.33592 |  0:00:04s\n",
      "epoch 56 | loss: 0.31836 | train_mse: 0.21343 | train_mae: 0.34087 |  0:00:04s\n",
      "epoch 57 | loss: 0.3106  | train_mse: 0.22252 | train_mae: 0.33939 |  0:00:05s"
     ]
    },
    {
     "name": "stdout",
     "output_type": "stream",
     "text": [
      "\n",
      "epoch 58 | loss: 0.38713 | train_mse: 0.20181 | train_mae: 0.33038 |  0:00:05s\n"
     ]
    },
    {
     "name": "stdout",
     "output_type": "stream",
     "text": [
      "epoch 59 | loss: 0.26036 | train_mse: 0.21484 | train_mae: 0.34626 |  0:00:05s\n",
      "epoch 60 | loss: 0.35064 | train_mse: 0.24641 | train_mae: 0.35615 |  0:00:05s\n"
     ]
    },
    {
     "name": "stdout",
     "output_type": "stream",
     "text": [
      "epoch 61 | loss: 0.25811 | train_mse: 0.18969 | train_mae: 0.31577 |  0:00:05s\n",
      "epoch 62 | loss: 0.23152 | train_mse: 0.15963 | train_mae: 0.29306 |  0:00:05s\n"
     ]
    },
    {
     "name": "stdout",
     "output_type": "stream",
     "text": [
      "epoch 63 | loss: 0.20367 | train_mse: 0.15353 | train_mae: 0.2849  |  0:00:05s\n",
      "epoch 64 | loss: 0.19358 | train_mse: 0.15651 | train_mae: 0.29593 |  0:00:05s\n"
     ]
    },
    {
     "name": "stdout",
     "output_type": "stream",
     "text": [
      "epoch 65 | loss: 0.17276 | train_mse: 0.15597 | train_mae: 0.30942 |  0:00:05s\n",
      "epoch 66 | loss: 0.14743 | train_mse: 0.1401  | train_mae: 0.30117 |  0:00:06s\n",
      "epoch 67 | loss: 0.25829 | train_mse: 0.15703 | train_mae: 0.29291 |  0:00:06s\n"
     ]
    },
    {
     "name": "stdout",
     "output_type": "stream",
     "text": [
      "epoch 68 | loss: 0.1408  | train_mse: 0.15471 | train_mae: 0.28911 |  0:00:06s\n",
      "epoch 69 | loss: 0.14555 | train_mse: 0.166   | train_mae: 0.29382 |  0:00:06s\n",
      "epoch 70 | loss: 0.19515 | train_mse: 0.12273 | train_mae: 0.26734 |  0:00:06s\n"
     ]
    },
    {
     "name": "stdout",
     "output_type": "stream",
     "text": [
      "epoch 71 | loss: 0.16855 | train_mse: 0.12072 | train_mae: 0.27265 |  0:00:06s\n",
      "epoch 72 | loss: 0.1279  | train_mse: 0.1301  | train_mae: 0.28031 |  0:00:06s\n",
      "epoch 73 | loss: 0.16597 | train_mse: 0.1167  | train_mae: 0.26777 |  0:00:06s\n"
     ]
    },
    {
     "name": "stdout",
     "output_type": "stream",
     "text": [
      "epoch 74 | loss: 0.14097 | train_mse: 0.11336 | train_mae: 0.26149 |  0:00:06s\n",
      "epoch 75 | loss: 0.21601 | train_mse: 0.11984 | train_mae: 0.27057 |  0:00:06s\n",
      "epoch 76 | loss: 0.30394 | train_mse: 0.12105 | train_mae: 0.27372 |  0:00:06s\n"
     ]
    },
    {
     "name": "stdout",
     "output_type": "stream",
     "text": [
      "epoch 77 | loss: 0.17856 | train_mse: 0.11325 | train_mae: 0.25304 |  0:00:06s\n",
      "epoch 78 | loss: 0.26125 | train_mse: 0.11569 | train_mae: 0.25438 |  0:00:07s\n",
      "epoch 79 | loss: 0.16295 | train_mse: 0.11316 | train_mae: 0.25355 |  0:00:07s\n"
     ]
    },
    {
     "name": "stdout",
     "output_type": "stream",
     "text": [
      "epoch 80 | loss: 0.14465 | train_mse: 0.09786 | train_mae: 0.24687 |  0:00:07s\n",
      "epoch 81 | loss: 0.12071 | train_mse: 0.09634 | train_mae: 0.24137 |  0:00:07s\n",
      "epoch 82 | loss: 0.16632 | train_mse: 0.09696 | train_mae: 0.23988 |  0:00:07s\n"
     ]
    },
    {
     "name": "stdout",
     "output_type": "stream",
     "text": [
      "epoch 83 | loss: 0.13199 | train_mse: 0.10229 | train_mae: 0.24575 |  0:00:07s\n",
      "epoch 84 | loss: 0.10981 | train_mse: 0.09564 | train_mae: 0.24168 |  0:00:07s\n",
      "epoch 85 | loss: 0.10302 | train_mse: 0.08825 | train_mae: 0.23856 |  0:00:07s\n"
     ]
    },
    {
     "name": "stdout",
     "output_type": "stream",
     "text": [
      "epoch 86 | loss: 0.21441 | train_mse: 0.13606 | train_mae: 0.2916  |  0:00:07s\n",
      "epoch 87 | loss: 0.20033 | train_mse: 0.16694 | train_mae: 0.3119  |  0:00:07s\n",
      "epoch 88 | loss: 0.14049 | train_mse: 0.12618 | train_mae: 0.28429 |  0:00:07s\n"
     ]
    },
    {
     "name": "stdout",
     "output_type": "stream",
     "text": [
      "epoch 89 | loss: 0.30274 | train_mse: 0.12614 | train_mae: 0.28601 |  0:00:07s\n",
      "epoch 90 | loss: 0.18501 | train_mse: 0.14473 | train_mae: 0.30196 |  0:00:08s\n",
      "epoch 91 | loss: 0.22008 | train_mse: 0.12088 | train_mae: 0.27848 |  0:00:08s\n"
     ]
    },
    {
     "name": "stdout",
     "output_type": "stream",
     "text": [
      "epoch 92 | loss: 0.21943 | train_mse: 0.11088 | train_mae: 0.27022 |  0:00:08s\n",
      "epoch 93 | loss: 0.18173 | train_mse: 0.10538 | train_mae: 0.26328 |  0:00:08s\n",
      "epoch 94 | loss: 0.13757 | train_mse: 0.10001 | train_mae: 0.25393 |  0:00:08s\n"
     ]
    },
    {
     "name": "stdout",
     "output_type": "stream",
     "text": [
      "epoch 95 | loss: 0.13135 | train_mse: 0.09068 | train_mae: 0.23666 |  0:00:08s\n",
      "epoch 96 | loss: 0.14945 | train_mse: 0.09688 | train_mae: 0.23998 |  0:00:08s\n",
      "epoch 97 | loss: 0.17159 | train_mse: 0.11738 | train_mae: 0.2499  |  0:00:08s\n"
     ]
    },
    {
     "name": "stdout",
     "output_type": "stream",
     "text": [
      "epoch 98 | loss: 0.15003 | train_mse: 0.14056 | train_mae: 0.27136 |  0:00:08s\n",
      "epoch 99 | loss: 0.14813 | train_mse: 0.15741 | train_mae: 0.29063 |  0:00:08s\n",
      "epoch 100| loss: 0.26209 | train_mse: 0.14268 | train_mae: 0.27406 |  0:00:08s\n"
     ]
    },
    {
     "name": "stdout",
     "output_type": "stream",
     "text": [
      "epoch 101| loss: 0.15556 | train_mse: 0.11448 | train_mae: 0.24949 |  0:00:08s\n",
      "epoch 102| loss: 0.23283 | train_mse: 0.09292 | train_mae: 0.23972 |  0:00:09s\n",
      "epoch 103| loss: 0.1015  | train_mse: 0.09262 | train_mae: 0.2415  |  0:00:09s\n"
     ]
    },
    {
     "name": "stdout",
     "output_type": "stream",
     "text": [
      "epoch 104| loss: 0.139   | train_mse: 0.09758 | train_mae: 0.24382 |  0:00:09s\n",
      "epoch 105| loss: 0.15988 | train_mse: 0.09381 | train_mae: 0.24092 |  0:00:09s\n",
      "epoch 106| loss: 0.23236 | train_mse: 0.09572 | train_mae: 0.23797 |  0:00:09s\n"
     ]
    },
    {
     "name": "stdout",
     "output_type": "stream",
     "text": [
      "epoch 107| loss: 0.23156 | train_mse: 0.10306 | train_mae: 0.24163 |  0:00:09s\n",
      "epoch 108| loss: 0.11864 | train_mse: 0.09899 | train_mae: 0.2345  |  0:00:09s\n",
      "epoch 109| loss: 0.13432 | train_mse: 0.10044 | train_mae: 0.23608 |  0:00:09s\n"
     ]
    },
    {
     "name": "stdout",
     "output_type": "stream",
     "text": [
      "epoch 110| loss: 0.11534 | train_mse: 0.09919 | train_mae: 0.23449 |  0:00:09s\n",
      "epoch 111| loss: 0.24667 | train_mse: 0.08976 | train_mae: 0.23661 |  0:00:09s\n",
      "epoch 112| loss: 0.15718 | train_mse: 0.09199 | train_mae: 0.24169 |  0:00:09s\n"
     ]
    },
    {
     "name": "stdout",
     "output_type": "stream",
     "text": [
      "epoch 113| loss: 0.11638 | train_mse: 0.0915  | train_mae: 0.24002 |  0:00:09s\n",
      "epoch 114| loss: 0.12279 | train_mse: 0.08707 | train_mae: 0.23552 |  0:00:10s\n",
      "epoch 115| loss: 0.09172 | train_mse: 0.08266 | train_mae: 0.22983 |  0:00:10s\n"
     ]
    },
    {
     "name": "stdout",
     "output_type": "stream",
     "text": [
      "epoch 116| loss: 0.13443 | train_mse: 0.08125 | train_mae: 0.22791 |  0:00:10s\n",
      "epoch 117| loss: 0.14005 | train_mse: 0.07997 | train_mae: 0.22659 |  0:00:10s\n",
      "epoch 118| loss: 0.14893 | train_mse: 0.06749 | train_mae: 0.21156 |  0:00:10s\n"
     ]
    },
    {
     "name": "stdout",
     "output_type": "stream",
     "text": [
      "epoch 119| loss: 0.23813 | train_mse: 0.06662 | train_mae: 0.2089  |  0:00:10s\n",
      "epoch 120| loss: 0.14271 | train_mse: 0.07288 | train_mae: 0.21873 |  0:00:10s\n",
      "epoch 121| loss: 0.1398  | train_mse: 0.08544 | train_mae: 0.23003 |  0:00:10s\n"
     ]
    },
    {
     "name": "stdout",
     "output_type": "stream",
     "text": [
      "epoch 122| loss: 0.19789 | train_mse: 0.09734 | train_mae: 0.23913 |  0:00:10s\n",
      "epoch 123| loss: 0.14556 | train_mse: 0.09222 | train_mae: 0.23079 |  0:00:10s\n",
      "epoch 124| loss: 0.17942 | train_mse: 0.08941 | train_mae: 0.22994 |  0:00:10s\n"
     ]
    },
    {
     "name": "stdout",
     "output_type": "stream",
     "text": [
      "epoch 125| loss: 0.24837 | train_mse: 0.07788 | train_mae: 0.21341 |  0:00:10s\n",
      "epoch 126| loss: 0.14819 | train_mse: 0.06997 | train_mae: 0.19908 |  0:00:11s\n",
      "epoch 127| loss: 0.14514 | train_mse: 0.07718 | train_mae: 0.21388 |  0:00:11s\n"
     ]
    },
    {
     "name": "stdout",
     "output_type": "stream",
     "text": [
      "epoch 128| loss: 0.13017 | train_mse: 0.08545 | train_mae: 0.2239  |  0:00:11s\n",
      "epoch 129| loss: 0.13368 | train_mse: 0.10855 | train_mae: 0.24861 |  0:00:11s\n",
      "epoch 130| loss: 0.17375 | train_mse: 0.1863  | train_mae: 0.29863 |  0:00:11s\n"
     ]
    },
    {
     "name": "stdout",
     "output_type": "stream",
     "text": [
      "epoch 131| loss: 0.14827 | train_mse: 0.12402 | train_mae: 0.25101 |  0:00:11s\n",
      "epoch 132| loss: 0.14484 | train_mse: 0.1277  | train_mae: 0.26198 |  0:00:11s\n",
      "epoch 133| loss: 0.13951 | train_mse: 0.12637 | train_mae: 0.27136 |  0:00:11s\n"
     ]
    },
    {
     "name": "stdout",
     "output_type": "stream",
     "text": [
      "epoch 134| loss: 0.2139  | train_mse: 0.12595 | train_mae: 0.27333 |  0:00:11s\n",
      "epoch 135| loss: 0.14042 | train_mse: 0.10557 | train_mae: 0.2445  |  0:00:11s\n",
      "epoch 136| loss: 0.1997  | train_mse: 0.12374 | train_mae: 0.26987 |  0:00:11s\n"
     ]
    },
    {
     "name": "stdout",
     "output_type": "stream",
     "text": [
      "epoch 137| loss: 0.14388 | train_mse: 0.12526 | train_mae: 0.27386 |  0:00:11s\n",
      "epoch 138| loss: 0.13609 | train_mse: 0.09455 | train_mae: 0.24224 |  0:00:12s\n"
     ]
    },
    {
     "name": "stdout",
     "output_type": "stream",
     "text": [
      "epoch 139| loss: 0.14009 | train_mse: 0.09372 | train_mae: 0.24308 |  0:00:12s\n",
      "epoch 140| loss: 0.14296 | train_mse: 0.10596 | train_mae: 0.25546 |  0:00:12s\n"
     ]
    },
    {
     "name": "stdout",
     "output_type": "stream",
     "text": [
      "epoch 141| loss: 0.22757 | train_mse: 0.09632 | train_mae: 0.24764 |  0:00:12s\n",
      "epoch 142| loss: 0.17774 | train_mse: 0.15964 | train_mae: 0.29753 |  0:00:12s\n",
      "epoch 143| loss: 0.16837 | train_mse: 0.09789 | train_mae: 0.23652 |  0:00:12s\n"
     ]
    },
    {
     "name": "stdout",
     "output_type": "stream",
     "text": [
      "epoch 144| loss: 0.17558 | train_mse: 0.07529 | train_mae: 0.22007 |  0:00:12s\n",
      "epoch 145| loss: 0.11547 | train_mse: 0.07618 | train_mae: 0.2238  |  0:00:12s\n"
     ]
    },
    {
     "name": "stdout",
     "output_type": "stream",
     "text": [
      "epoch 146| loss: 0.1057  | train_mse: 0.09162 | train_mae: 0.239   |  0:00:12s\n",
      "epoch 147| loss: 0.11233 | train_mse: 0.09973 | train_mae: 0.24782 |  0:00:12s\n",
      "epoch 148| loss: 0.12064 | train_mse: 0.10448 | train_mae: 0.25654 |  0:00:13s\n"
     ]
    },
    {
     "name": "stdout",
     "output_type": "stream",
     "text": [
      "epoch 149| loss: 0.13323 | train_mse: 0.11743 | train_mae: 0.26521 |  0:00:13s\n",
      "epoch 150| loss: 0.12297 | train_mse: 0.12193 | train_mae: 0.26608 |  0:00:13s\n",
      "epoch 151| loss: 0.12711 | train_mse: 0.118   | train_mae: 0.26598 |  0:00:13s\n"
     ]
    },
    {
     "name": "stdout",
     "output_type": "stream",
     "text": [
      "epoch 152| loss: 0.09511 | train_mse: 0.12711 | train_mae: 0.26804 |  0:00:13s\n",
      "epoch 153| loss: 0.16528 | train_mse: 0.10451 | train_mae: 0.24563 |  0:00:13s\n",
      "epoch 154| loss: 0.1044  | train_mse: 0.11568 | train_mae: 0.25813 |  0:00:13s\n"
     ]
    },
    {
     "name": "stdout",
     "output_type": "stream",
     "text": [
      "epoch 155| loss: 0.09844 | train_mse: 0.13999 | train_mae: 0.27126 |  0:00:13s\n",
      "epoch 156| loss: 0.20438 | train_mse: 0.13293 | train_mae: 0.26573 |  0:00:13s\n",
      "epoch 157| loss: 0.12808 | train_mse: 0.13303 | train_mae: 0.26457 |  0:00:13s\n"
     ]
    },
    {
     "name": "stdout",
     "output_type": "stream",
     "text": [
      "epoch 158| loss: 0.12617 | train_mse: 0.1107  | train_mae: 0.24773 |  0:00:13s\n",
      "epoch 159| loss: 0.10759 | train_mse: 0.09615 | train_mae: 0.23502 |  0:00:13s\n",
      "epoch 160| loss: 0.08909 | train_mse: 0.08775 | train_mae: 0.22781 |  0:00:14s\n"
     ]
    },
    {
     "name": "stdout",
     "output_type": "stream",
     "text": [
      "epoch 161| loss: 0.20406 | train_mse: 0.08444 | train_mae: 0.2267  |  0:00:14s\n",
      "epoch 162| loss: 0.09431 | train_mse: 0.08447 | train_mae: 0.22586 |  0:00:14s\n",
      "epoch 163| loss: 0.09038 | train_mse: 0.07886 | train_mae: 0.22289 |  0:00:14s\n"
     ]
    },
    {
     "name": "stdout",
     "output_type": "stream",
     "text": [
      "epoch 164| loss: 0.15259 | train_mse: 0.06484 | train_mae: 0.20795 |  0:00:14s\n",
      "epoch 165| loss: 0.12742 | train_mse: 0.06789 | train_mae: 0.21033 |  0:00:14s\n",
      "epoch 166| loss: 0.12119 | train_mse: 0.08157 | train_mae: 0.2281  |  0:00:14s\n"
     ]
    },
    {
     "name": "stdout",
     "output_type": "stream",
     "text": [
      "epoch 167| loss: 0.12867 | train_mse: 0.09529 | train_mae: 0.24615 |  0:00:14s\n",
      "epoch 168| loss: 0.14433 | train_mse: 0.0766  | train_mae: 0.21966 |  0:00:14s\n",
      "epoch 169| loss: 0.16695 | train_mse: 0.07375 | train_mae: 0.21425 |  0:00:14s\n"
     ]
    },
    {
     "name": "stdout",
     "output_type": "stream",
     "text": [
      "epoch 170| loss: 0.11751 | train_mse: 0.07305 | train_mae: 0.2112  |  0:00:14s\n",
      "epoch 171| loss: 0.09695 | train_mse: 0.06805 | train_mae: 0.20846 |  0:00:14s\n",
      "epoch 172| loss: 0.09078 | train_mse: 0.08993 | train_mae: 0.23421 |  0:00:15s\n"
     ]
    },
    {
     "name": "stdout",
     "output_type": "stream",
     "text": [
      "epoch 173| loss: 0.09231 | train_mse: 0.09725 | train_mae: 0.23843 |  0:00:15s\n",
      "epoch 174| loss: 0.1459  | train_mse: 0.08385 | train_mae: 0.21903 |  0:00:15s\n",
      "epoch 175| loss: 0.31183 | train_mse: 0.07184 | train_mae: 0.20859 |  0:00:15s\n"
     ]
    },
    {
     "name": "stdout",
     "output_type": "stream",
     "text": [
      "epoch 176| loss: 0.08291 | train_mse: 0.05232 | train_mae: 0.17945 |  0:00:15s\n",
      "epoch 177| loss: 0.20833 | train_mse: 0.04956 | train_mae: 0.17611 |  0:00:15s\n",
      "epoch 178| loss: 0.10232 | train_mse: 0.05316 | train_mae: 0.18026 |  0:00:15s\n"
     ]
    },
    {
     "name": "stdout",
     "output_type": "stream",
     "text": [
      "epoch 179| loss: 0.36323 | train_mse: 0.05335 | train_mae: 0.18557 |  0:00:15s\n",
      "epoch 180| loss: 0.10192 | train_mse: 0.04903 | train_mae: 0.17735 |  0:00:15s\n",
      "epoch 181| loss: 0.07531 | train_mse: 0.06023 | train_mae: 0.19254 |  0:00:15s\n"
     ]
    },
    {
     "name": "stdout",
     "output_type": "stream",
     "text": [
      "epoch 182| loss: 0.06677 | train_mse: 0.06407 | train_mae: 0.19934 |  0:00:15s\n",
      "epoch 183| loss: 0.11485 | train_mse: 0.0521  | train_mae: 0.18077 |  0:00:15s\n",
      "epoch 184| loss: 0.16028 | train_mse: 0.05923 | train_mae: 0.18693 |  0:00:16s\n"
     ]
    },
    {
     "name": "stdout",
     "output_type": "stream",
     "text": [
      "epoch 185| loss: 0.11098 | train_mse: 0.06223 | train_mae: 0.19327 |  0:00:16s\n",
      "epoch 186| loss: 0.09635 | train_mse: 0.05823 | train_mae: 0.18664 |  0:00:16s\n",
      "epoch 187| loss: 0.13436 | train_mse: 0.05924 | train_mae: 0.18839 |  0:00:16s\n"
     ]
    },
    {
     "name": "stdout",
     "output_type": "stream",
     "text": [
      "epoch 188| loss: 0.15177 | train_mse: 0.06118 | train_mae: 0.19367 |  0:00:16s\n",
      "epoch 189| loss: 0.09626 | train_mse: 0.06266 | train_mae: 0.19949 |  0:00:16s\n",
      "epoch 190| loss: 0.14991 | train_mse: 0.0656  | train_mae: 0.20447 |  0:00:16s\n"
     ]
    },
    {
     "name": "stdout",
     "output_type": "stream",
     "text": [
      "epoch 191| loss: 0.09564 | train_mse: 0.08016 | train_mae: 0.22562 |  0:00:16s\n",
      "epoch 192| loss: 0.11764 | train_mse: 0.08743 | train_mae: 0.22767 |  0:00:16s\n",
      "epoch 193| loss: 0.15753 | train_mse: 0.07479 | train_mae: 0.20412 |  0:00:16s\n"
     ]
    },
    {
     "name": "stdout",
     "output_type": "stream",
     "text": [
      "epoch 194| loss: 0.09773 | train_mse: 0.06802 | train_mae: 0.19754 |  0:00:16s\n",
      "epoch 195| loss: 0.18072 | train_mse: 0.0628  | train_mae: 0.19825 |  0:00:16s\n",
      "epoch 196| loss: 0.12041 | train_mse: 0.06487 | train_mae: 0.20109 |  0:00:17s\n"
     ]
    },
    {
     "name": "stdout",
     "output_type": "stream",
     "text": [
      "epoch 197| loss: 0.08732 | train_mse: 0.06559 | train_mae: 0.20298 |  0:00:17s\n",
      "epoch 198| loss: 0.10173 | train_mse: 0.06342 | train_mae: 0.20479 |  0:00:17s\n",
      "epoch 199| loss: 0.18798 | train_mse: 0.06471 | train_mae: 0.20543 |  0:00:17s\n"
     ]
    },
    {
     "name": "stdout",
     "output_type": "stream",
     "text": [
      "epoch 200| loss: 0.09481 | train_mse: 0.07893 | train_mae: 0.2178  |  0:00:17s\n",
      "epoch 201| loss: 0.12115 | train_mse: 0.09696 | train_mae: 0.22398 |  0:00:17s\n",
      "epoch 202| loss: 0.16745 | train_mse: 0.10279 | train_mae: 0.22045 |  0:00:17s\n"
     ]
    },
    {
     "name": "stdout",
     "output_type": "stream",
     "text": [
      "epoch 203| loss: 0.15084 | train_mse: 0.08891 | train_mae: 0.22252 |  0:00:17s\n",
      "epoch 204| loss: 0.13907 | train_mse: 0.07228 | train_mae: 0.19905 |  0:00:17s\n",
      "epoch 205| loss: 0.16694 | train_mse: 0.06372 | train_mae: 0.19304 |  0:00:17s\n"
     ]
    },
    {
     "name": "stdout",
     "output_type": "stream",
     "text": [
      "epoch 206| loss: 0.09869 | train_mse: 0.07015 | train_mae: 0.20757 |  0:00:17s\n",
      "epoch 207| loss: 0.13893 | train_mse: 0.1014  | train_mae: 0.25258 |  0:00:17s\n",
      "epoch 208| loss: 0.15812 | train_mse: 0.10681 | train_mae: 0.25691 |  0:00:18s\n"
     ]
    },
    {
     "name": "stdout",
     "output_type": "stream",
     "text": [
      "epoch 209| loss: 0.14328 | train_mse: 0.0966  | train_mae: 0.24628 |  0:00:18s\n",
      "epoch 210| loss: 0.13261 | train_mse: 0.08301 | train_mae: 0.23475 |  0:00:18s\n",
      "epoch 211| loss: 0.15416 | train_mse: 0.07187 | train_mae: 0.21138 |  0:00:18s\n"
     ]
    },
    {
     "name": "stdout",
     "output_type": "stream",
     "text": [
      "epoch 212| loss: 0.15159 | train_mse: 0.08154 | train_mae: 0.21664 |  0:00:18s\n",
      "epoch 213| loss: 0.12681 | train_mse: 0.06868 | train_mae: 0.20417 |  0:00:18s\n",
      "epoch 214| loss: 0.1013  | train_mse: 0.0592  | train_mae: 0.19866 |  0:00:18s\n"
     ]
    },
    {
     "name": "stdout",
     "output_type": "stream",
     "text": [
      "epoch 215| loss: 0.11068 | train_mse: 0.0653  | train_mae: 0.20422 |  0:00:18s\n",
      "epoch 216| loss: 0.16846 | train_mse: 0.09823 | train_mae: 0.24767 |  0:00:18s\n",
      "epoch 217| loss: 0.07707 | train_mse: 0.1322  | train_mae: 0.27668 |  0:00:18s\n"
     ]
    },
    {
     "name": "stdout",
     "output_type": "stream",
     "text": [
      "epoch 218| loss: 0.20784 | train_mse: 0.18249 | train_mae: 0.30563 |  0:00:18s\n",
      "epoch 219| loss: 0.08803 | train_mse: 0.12986 | train_mae: 0.27294 |  0:00:18s\n",
      "epoch 220| loss: 0.10436 | train_mse: 0.12917 | train_mae: 0.26732 |  0:00:19s\n"
     ]
    },
    {
     "name": "stdout",
     "output_type": "stream",
     "text": [
      "epoch 221| loss: 0.07783 | train_mse: 0.13602 | train_mae: 0.26992 |  0:00:19s\n",
      "epoch 222| loss: 0.09674 | train_mse: 0.12297 | train_mae: 0.26137 |  0:00:19s\n",
      "epoch 223| loss: 0.0967  | train_mse: 0.09229 | train_mae: 0.23396 |  0:00:19s\n"
     ]
    },
    {
     "name": "stdout",
     "output_type": "stream",
     "text": [
      "epoch 224| loss: 0.08805 | train_mse: 0.06979 | train_mae: 0.20919 |  0:00:19s\n",
      "epoch 225| loss: 0.11315 | train_mse: 0.06857 | train_mae: 0.20712 |  0:00:19s\n",
      "epoch 226| loss: 0.11393 | train_mse: 0.0897  | train_mae: 0.23498 |  0:00:19s\n"
     ]
    },
    {
     "name": "stdout",
     "output_type": "stream",
     "text": [
      "epoch 227| loss: 0.13652 | train_mse: 0.06024 | train_mae: 0.19801 |  0:00:19s\n",
      "\n",
      "Early stopping occurred at epoch 227 with best_epoch = 177 and best_train_mae = 0.17611\n",
      "Best weights from best epoch are automatically used!\n"
     ]
    }
   ],
   "source": [
    "#Train the Model\n",
    "\n",
    "Y_train = np.reshape(Y_train, (-1, 1))\n",
    "Y_test = np.reshape(Y_test, (-1, 1))\n",
    "\n",
    "prior_model = TabNetRegressor(optimizer_fn=torch.optim.Adam, optimizer_params=dict(lr = 0.02),\n",
    "          #scheduler_params={\"step_size\":10, ], \"gamma\":0.9},\n",
    "          #scheduler_fn=torch.optim.lr_scheduler.StepLR\n",
    "          )  #TabNetRegressor()\n",
    "\n",
    "prior_model.fit(X_train,Y_train,eval_set=[(X_train, Y_train)],\n",
    "            eval_name=['train'], \n",
    "            eval_metric=[ 'mse', 'mae'], \n",
    "            max_epochs = n_epochs, \n",
    "            batch_size = batch_size,\n",
    "            patience=50\n",
    "            )"
   ]
  },
  {
   "cell_type": "code",
   "execution_count": 10,
   "id": "af65dcda",
   "metadata": {
    "execution": {
     "iopub.execute_input": "2022-06-22T13:43:32.029331Z",
     "iopub.status.busy": "2022-06-22T13:43:32.027958Z",
     "iopub.status.idle": "2022-06-22T13:43:32.051988Z",
     "shell.execute_reply": "2022-06-22T13:43:32.052460Z"
    },
    "id": "af65dcda",
    "papermill": {
     "duration": 0.084035,
     "end_time": "2022-06-22T13:43:32.052683",
     "exception": false,
     "start_time": "2022-06-22T13:43:31.968648",
     "status": "completed"
    },
    "tags": []
   },
   "outputs": [
    {
     "data": {
      "application/scrapbook.scrap.json+json": {
       "data": 0.31730176531687504,
       "encoder": "json",
       "name": "Prior Model MSE",
       "version": 1
      }
     },
     "metadata": {
      "scrapbook": {
       "data": true,
       "display": false,
       "name": "Prior Model MSE"
      }
     },
     "output_type": "display_data"
    },
    {
     "data": {
      "application/scrapbook.scrap.json+json": {
       "data": 0.3195101625701523,
       "encoder": "json",
       "name": "ABC Pre-generator MSE",
       "version": 1
      }
     },
     "metadata": {
      "scrapbook": {
       "data": true,
       "display": false,
       "name": "ABC Pre-generator MSE"
      }
     },
     "output_type": "display_data"
    },
    {
     "data": {
      "application/scrapbook.scrap.json+json": {
       "data": 0.4200301345355566,
       "encoder": "json",
       "name": "Prior Model MSE",
       "version": 1
      }
     },
     "metadata": {
      "scrapbook": {
       "data": true,
       "display": false,
       "name": "Prior Model MSE"
      }
     },
     "output_type": "display_data"
    },
    {
     "data": {
      "application/scrapbook.scrap.json+json": {
       "data": 0.4051863747979307,
       "encoder": "json",
       "name": "ABC Pre-generator MSE",
       "version": 1
      }
     },
     "metadata": {
      "scrapbook": {
       "data": true,
       "display": false,
       "name": "ABC Pre-generator MSE"
      }
     },
     "output_type": "display_data"
    }
   ],
   "source": [
    "y_pred = prior_model.predict(X_test)\n",
    "y_abc = y_pred + np.random.normal(0,variance, y_pred.shape) + bias \n",
    "mse = mean_squared_error(y_pred,Y_test)\n",
    "sb.glue(\"Prior Model MSE\",mse)\n",
    "mse = mean_squared_error(y_abc,Y_test)\n",
    "sb.glue(\"ABC Pre-generator MSE\",mse)\n",
    "mae = mean_absolute_error(y_pred,Y_test)\n",
    "sb.glue(\"Prior Model MSE\",mae)\n",
    "mae = mean_absolute_error(y_abc,Y_test)\n",
    "sb.glue(\"ABC Pre-generator MSE\",mae)"
   ]
  },
  {
   "cell_type": "markdown",
   "id": "25609da2",
   "metadata": {
    "papermill": {
     "duration": 0.046432,
     "end_time": "2022-06-22T13:43:32.142655",
     "exception": false,
     "start_time": "2022-06-22T13:43:32.096223",
     "status": "completed"
    },
    "tags": []
   },
   "source": [
    "# ABC GAN Model"
   ]
  },
  {
   "cell_type": "code",
   "execution_count": 11,
   "id": "dfc3464d",
   "metadata": {
    "execution": {
     "iopub.execute_input": "2022-06-22T13:43:32.268246Z",
     "iopub.status.busy": "2022-06-22T13:43:32.266618Z",
     "iopub.status.idle": "2022-06-22T13:43:32.269989Z",
     "shell.execute_reply": "2022-06-22T13:43:32.270623Z"
    },
    "papermill": {
     "duration": 0.075394,
     "end_time": "2022-06-22T13:43:32.272084",
     "exception": false,
     "start_time": "2022-06-22T13:43:32.196690",
     "status": "completed"
    },
    "tags": []
   },
   "outputs": [],
   "source": [
    "gen = network.Generator(n_features+1).to(device)\n",
    "disc = network.Discriminator(n_features+1).to(device)\n",
    "\n",
    "criterion = torch.nn.BCELoss()\n",
    "gen_opt = torch.optim.Adam(gen.parameters(), lr=0.001, betas=(0.5, 0.999))\n",
    "disc_opt = torch.optim.Adam(disc.parameters(), lr=0.001, betas=(0.5, 0.999))"
   ]
  },
  {
   "cell_type": "code",
   "execution_count": 12,
   "id": "b75fdd85",
   "metadata": {
    "execution": {
     "iopub.execute_input": "2022-06-22T13:43:32.398554Z",
     "iopub.status.busy": "2022-06-22T13:43:32.397780Z",
     "iopub.status.idle": "2022-06-22T13:44:26.895346Z",
     "shell.execute_reply": "2022-06-22T13:44:26.895938Z"
    },
    "papermill": {
     "duration": 54.571756,
     "end_time": "2022-06-22T13:44:26.896162",
     "exception": false,
     "start_time": "2022-06-22T13:43:32.324406",
     "status": "completed"
    },
    "tags": []
   },
   "outputs": [
    {
     "data": {
      "image/png": "[encoded data removed]",
      "text/plain": [
       "<Figure size 432x288 with 1 Axes>"
      ]
     },
     "metadata": {
      "needs_background": "light"
     },
     "output_type": "display_data"
    },
    {
     "data": {
      "image/png": "[encoded data removed]",
      "text/plain": [
       "<Figure size 432x288 with 1 Axes>"
      ]
     },
     "metadata": {
      "needs_background": "light"
     },
     "output_type": "display_data"
    }
   ],
   "source": [
    "#Training the ABC_GAN \n",
    "ABC_train_test2.training_GAN(disc,gen,disc_opt,gen_opt,train_data,batch_size,n_epochs,criterion,prior_model,variance,bias,device)"
   ]
  },
  {
   "cell_type": "code",
   "execution_count": 13,
   "id": "1fa7c368",
   "metadata": {
    "execution": {
     "iopub.execute_input": "2022-06-22T13:44:26.994744Z",
     "iopub.status.busy": "2022-06-22T13:44:26.994019Z",
     "iopub.status.idle": "2022-06-22T13:44:27.857585Z",
     "shell.execute_reply": "2022-06-22T13:44:27.858154Z"
    },
    "papermill": {
     "duration": 0.920044,
     "end_time": "2022-06-22T13:44:27.858406",
     "exception": false,
     "start_time": "2022-06-22T13:44:26.938362",
     "status": "completed"
    },
    "tags": []
   },
   "outputs": [
    {
     "data": {
      "application/scrapbook.scrap.json+json": {
       "data": 0.3039822251710323,
       "encoder": "json",
       "name": "ABC-GAN Model 1 MSE",
       "version": 1
      }
     },
     "metadata": {
      "scrapbook": {
       "data": true,
       "display": false,
       "name": "ABC-GAN Model 1 MSE"
      }
     },
     "output_type": "display_data"
    },
    {
     "data": {
      "application/scrapbook.scrap.json+json": {
       "data": 0.44225746413692835,
       "encoder": "json",
       "name": "ABC-GAN Model 1 MAE",
       "version": 1
      }
     },
     "metadata": {
      "scrapbook": {
       "data": true,
       "display": false,
       "name": "ABC-GAN Model 1 MAE"
      }
     },
     "output_type": "display_data"
    },
    {
     "data": {
      "application/scrapbook.scrap.json+json": {
       "data": 8.845149282738566,
       "encoder": "json",
       "name": "ABC-GAN Model 1 Manhattan Distance",
       "version": 1
      }
     },
     "metadata": {
      "scrapbook": {
       "data": true,
       "display": false,
       "name": "ABC-GAN Model 1 Manhattan Distance"
      }
     },
     "output_type": "display_data"
    },
    {
     "data": {
      "application/scrapbook.scrap.json+json": {
       "data": 2.464810380059185,
       "encoder": "json",
       "name": "ABC-GAN Model 1 Euclidean distance",
       "version": 1
      }
     },
     "metadata": {
      "scrapbook": {
       "data": true,
       "display": false,
       "name": "ABC-GAN Model 1 Euclidean distance"
      }
     },
     "output_type": "display_data"
    },
    {
     "data": {
      "application/scrapbook.scrap.json+json": {
       "data": [
        [
         0.2803262618096327,
         0.2955530347425341,
         0.33501952056204287,
         0.30132625133548663,
         0.2969512874070534,
         0.3034883226006574,
         0.3081723737686766,
         0.29341158476112517,
         0.3115368517390113,
         0.29362082247023175,
         0.3147778015355897,
         0.3077204995131786,
         0.3210581659007531,
         0.3431589268695826,
         0.3111906217689408,
         0.2874895318031675,
         0.31183518760334916,
         0.32242649480179414,
         0.28663590027656893,
         0.29749318270021163,
         0.3045342546537172,
         0.3030742027055699,
         0.33314505388476245,
         0.28550410234687434,
         0.31539801718136695,
         0.27518619289470686,
         0.2792111204979154,
         0.30033390505649815,
         0.31689694355749193,
         0.2957119115762793,
         0.30484280280019865,
         0.28331231597409773,
         0.2993954158437101,
         0.30995761067184907,
         0.27439438596796184,
         0.3106357803144724,
         0.31326477107662265,
         0.31016495050447235,
         0.3099136811530083,
         0.2664824564356386,
         0.3002427257114507,
         0.3080521780543819,
         0.305529233051283,
         0.28666697644722866,
         0.2871904953740153,
         0.30661922259768565,
         0.3272714658821978,
         0.30409635427185383,
         0.30472577755982905,
         0.3062314554286676,
         0.3295756858978903,
         0.3144188186005083,
         0.3047763232496016,
         0.2855271167926311,
         0.29613168143577917,
         0.28667332645037996,
         0.2812333803005929,
         0.3291453234732241,
         0.29853283475225206,
         0.2879273907667294,
         0.3198186824924107,
         0.3151196948881202,
         0.32511950013444335,
         0.2783479638140088,
         0.2852462215595103,
         0.28327047038316727,
         0.2913120090263894,
         0.302007772843364,
         0.28637259491376643,
         0.2980129107987241,
         0.3063500756037521,
         0.29636189599132734,
         0.2906819988743776,
         0.32215249636702276,
         0.29906241216657875,
         0.32334270785265495,
         0.31810169073619576,
         0.3249103392659376,
         0.29575321925327325,
         0.32054484739984995,
         0.33980927719949666,
         0.2905165136553929,
         0.3247385031700213,
         0.3092077326536471,
         0.29216326365245043,
         0.30968337062283996,
         0.28863655771490737,
         0.3060017808629386,
         0.2936425727788491,
         0.30313912363296375,
         0.3374229301030984,
         0.280732242904091,
         0.33863783044745227,
         0.3032875204751924,
         0.28532856575201676,
         0.32989128726127814,
         0.29645012376202945,
         0.3007837071727849,
         0.3244127120298474,
         0.2967271317220717
        ],
        [
         0.41901648230850697,
         0.43805198073387147,
         0.46524406038224697,
         0.44318642765283583,
         0.43263068571686747,
         0.4516358654946089,
         0.43303823098540306,
         0.4326671827584505,
         0.45110292434692384,
         0.432896725460887,
         0.45275063179433345,
         0.4390395186841488,
         0.4636671286076307,
         0.4625673558562994,
         0.45031316466629506,
         0.43541649393737314,
         0.4477907456457615,
         0.4489441398531199,
         0.41758224852383136,
         0.43613684438169004,
         0.45972361154854297,
         0.4456743996590376,
         0.4735830336809158,
         0.4284259043633938,
         0.43707978129386904,
         0.41380191072821615,
         0.4216637142002583,
         0.44344184547662735,
         0.4613107040524483,
         0.44543742537498476,
         0.4455343808978796,
         0.4113562531769276,
         0.43731553442776205,
         0.4415065847337246,
         0.4220798294991255,
         0.45405352897942064,
         0.45251854322850704,
         0.4415612891316414,
         0.46118384078145025,
         0.4143030349165201,
         0.42960578575730324,
         0.43650209829211234,
         0.44739477187395094,
         0.4416408821940422,
         0.4286681365221739,
         0.451520174369216,
         0.459266459569335,
         0.4397889688611031,
         0.446715072542429,
         0.44860494807362555,
         0.4537195131182671,
         0.44559030681848527,
         0.45502380207180976,
         0.42925310842692854,
         0.44649864435195924,
         0.4204724863171577,
         0.40745435692369936,
         0.46582874916493894,
         0.4444657262414694,
         0.42904691509902476,
         0.4452706970274448,
         0.4614399865269661,
         0.45466641411185266,
         0.4167200431227684,
         0.42550224997103214,
         0.42558470368385315,
         0.43372044935822485,
         0.4343472871929407,
         0.43915130868554114,
         0.44096907824277876,
         0.4457688495516777,
         0.4296314101666212,
         0.4318015068769455,
         0.4532877139747143,
         0.43821499645709994,
         0.4480259343981743,
         0.4470785543322563,
         0.4511592838913202,
         0.44349574893712995,
         0.4579414833337069,
         0.4703817632049322,
         0.4395738922059536,
         0.46005072109401224,
         0.45196414887905123,
         0.4212263785302639,
         0.45419732891023157,
         0.43239332363009453,
         0.43768270388245584,
         0.42790395095944406,
         0.4428162407130003,
         0.4611409340053797,
         0.4326437827199697,
         0.47264353595674036,
         0.4452510390430689,
         0.42367207631468773,
         0.45396982654929163,
         0.4325278393924236,
         0.44194060415029524,
         0.4606822315603495,
         0.4470114976167679
        ],
        [
         8.38032964617014,
         8.76103961467743,
         9.30488120764494,
         8.863728553056717,
         8.652613714337349,
         9.032717309892178,
         8.660764619708061,
         8.65334365516901,
         9.022058486938477,
         8.657934509217739,
         9.05501263588667,
         8.780790373682976,
         9.273342572152615,
         9.251347117125988,
         9.006263293325901,
         8.708329878747463,
         8.95581491291523,
         8.978882797062397,
         8.351644970476627,
         8.7227368876338,
         9.19447223097086,
         8.913487993180752,
         9.471660673618317,
         8.568518087267876,
         8.74159562587738,
         8.276038214564323,
         8.433274284005165,
         8.868836909532547,
         9.226214081048965,
         8.908748507499695,
         8.910687617957592,
         8.227125063538551,
         8.74631068855524,
         8.830131694674492,
         8.44159658998251,
         9.081070579588413,
         9.05037086457014,
         8.831225782632828,
         9.223676815629005,
         8.286060698330402,
         8.592115715146065,
         8.730041965842247,
         8.94789543747902,
         8.832817643880844,
         8.573362730443478,
         9.03040348738432,
         9.1853291913867,
         8.795779377222061,
         8.93430145084858,
         8.972098961472511,
         9.074390262365341,
         8.911806136369705,
         9.100476041436195,
         8.58506216853857,
         8.929972887039185,
         8.409449726343155,
         8.149087138473988,
         9.316574983298779,
         8.889314524829388,
         8.580938301980495,
         8.905413940548897,
         9.228799730539322,
         9.093328282237053,
         8.334400862455368,
         8.510044999420643,
         8.511694073677063,
         8.674408987164497,
         8.686945743858814,
         8.783026173710823,
         8.819381564855576,
         8.915376991033554,
         8.592628203332424,
         8.63603013753891,
         9.065754279494286,
         8.764299929141998,
         8.960518687963486,
         8.941571086645126,
         9.023185677826405,
         8.8699149787426,
         9.158829666674137,
         9.407635264098644,
         8.791477844119072,
         9.201014421880245,
         9.039282977581024,
         8.424527570605278,
         9.083946578204632,
         8.64786647260189,
         8.753654077649117,
         8.558079019188881,
         8.856324814260006,
         9.222818680107594,
         8.652875654399395,
         9.452870719134808,
         8.905020780861378,
         8.473441526293755,
         9.079396530985832,
         8.650556787848473,
         8.838812083005905,
         9.21364463120699,
         8.940229952335358
        ],
        [
         2.3678102196317705,
         2.43126730222135,
         2.588511234520889,
         2.454898170334104,
         2.437011643004823,
         2.4636896013932335,
         2.482629145759296,
         2.4224433316844594,
         2.496144433878021,
         2.423306924309142,
         2.5090946635613003,
         2.480808334044283,
         2.5340014439646756,
         2.6197668860781587,
         2.4947569892434047,
         2.397872105860392,
         2.4973393345853068,
         2.539395576911144,
         2.394309504957824,
         2.4392342351656664,
         2.4679313388087487,
         2.462008134452727,
         2.581259591303294,
         2.3895777967953853,
         2.5115653174120993,
         2.346001674742398,
         2.3630959375273592,
         2.4508525253735614,
         2.517526339713219,
         2.4319206877539377,
         2.4691812521570733,
         2.380387850641562,
         2.447020293514993,
         2.4898096741391664,
         2.3426241097024585,
         2.4925319669543757,
         2.503057214993787,
         2.490642288665606,
         2.4896332306306017,
         2.3086032852598932,
         2.450480465996212,
         2.4821449516673355,
         2.471959680299349,
         2.3944392932259886,
         2.3966246905763753,
         2.4763651693467406,
         2.5584036658908924,
         2.4661563384013343,
         2.4687072631635734,
         2.4747988016348628,
         2.5673943440690614,
         2.507663528468316,
         2.4689120002527494,
         2.389674106620529,
         2.433646159308206,
         2.3944658128709206,
         2.3716381692854958,
         2.565717535011304,
         2.4434927245737894,
         2.3996974424569837,
         2.5291053061998454,
         2.510456910158468,
         2.5499784318085648,
         2.359440458303658,
         2.3884983632379164,
         2.3802120509869167,
         2.413760588900189,
         2.457672772536507,
         2.3932095391493258,
         2.441364007266119,
         2.475278067626957,
         2.4345919411323425,
         2.4111490989749167,
         2.538316356827977,
         2.4456590611390574,
         2.543001013970128,
         2.522307240350373,
         2.549158054205104,
         2.43209053800747,
         2.531974910617599,
         2.606949470931482,
         2.4104626678519327,
         2.5484838754444623,
         2.486796061817885,
         2.4172846901118223,
         2.488707980550711,
         2.4026508598417182,
         2.473870574071888,
         2.423396677305839,
         2.462271811287144,
         2.597779552244949,
         2.369524183898915,
         2.6024520377807243,
         2.462874420165155,
         2.3888430913394743,
         2.568623317114746,
         2.4349543066021977,
         2.4526871271027817,
         2.5472051822727098,
         2.4360916720110173
        ]
       ],
       "encoder": "json",
       "name": "ABC_GAN_1 Metrics",
       "version": 1
      }
     },
     "metadata": {
      "scrapbook": {
       "data": true,
       "display": false,
       "name": "ABC_GAN_1 Metrics"
      }
     },
     "output_type": "display_data"
    },
    {
     "name": "stdout",
     "output_type": "stream",
     "text": [
      "MSE\n",
      "0.3039822251710323\n"
     ]
    }
   ],
   "source": [
    "ABC_GAN1_metrics=ABC_train_test2.test_generator(gen,test_data,prior_model,variance,bias,\"1\",device)\n",
    "sb.glue(\"ABC_GAN_1 Metrics\",ABC_GAN1_metrics)\n",
    "\n",
    "print(\"MSE\")\n",
    "print(mean(ABC_GAN1_metrics[0]))"
   ]
  },
  {
   "cell_type": "code",
   "execution_count": 14,
   "id": "eb22ce5c",
   "metadata": {
    "execution": {
     "iopub.execute_input": "2022-06-22T13:44:27.978304Z",
     "iopub.status.busy": "2022-06-22T13:44:27.971525Z",
     "iopub.status.idle": "2022-06-22T13:44:28.936101Z",
     "shell.execute_reply": "2022-06-22T13:44:28.936937Z"
    },
    "papermill": {
     "duration": 1.035723,
     "end_time": "2022-06-22T13:44:28.937850",
     "exception": false,
     "start_time": "2022-06-22T13:44:27.902127",
     "status": "completed"
    },
    "tags": []
   },
   "outputs": [
    {
     "data": {
      "image/png": "[encoded data removed]",
      "text/plain": [
       "<Figure size 432x288 with 1 Axes>"
      ]
     },
     "metadata": {
      "needs_background": "light"
     },
     "output_type": "display_data"
    },
    {
     "data": {
      "image/png": "[encoded data removed]",
      "text/plain": [
       "<Figure size 432x288 with 1 Axes>"
      ]
     },
     "metadata": {
      "needs_background": "light"
     },
     "output_type": "display_data"
    },
    {
     "data": {
      "image/png": "[encoded data removed]",
      "text/plain": [
       "<Figure size 432x288 with 1 Axes>"
      ]
     },
     "metadata": {
      "needs_background": "light"
     },
     "output_type": "display_data"
    },
    {
     "data": {
      "image/png": "[encoded data removed]",
      "text/plain": [
       "<Figure size 432x288 with 1 Axes>"
      ]
     },
     "metadata": {
      "needs_background": "light"
     },
     "output_type": "display_data"
    }
   ],
   "source": [
    "sanityChecks.discProbVsError(train_data,disc,device)\n",
    "sanityChecks.discProbVsError(test_data,disc,device)"
   ]
  },
  {
   "cell_type": "markdown",
   "id": "130f3a4d",
   "metadata": {
    "id": "130f3a4d",
    "papermill": {
     "duration": 0.061725,
     "end_time": "2022-06-22T13:44:29.055519",
     "exception": false,
     "start_time": "2022-06-22T13:44:28.993794",
     "status": "completed"
    },
    "tags": []
   },
   "source": [
    "# ABC - GAN Model with skip connection"
   ]
  },
  {
   "cell_type": "code",
   "execution_count": 15,
   "id": "4e43dad1",
   "metadata": {
    "execution": {
     "iopub.execute_input": "2022-06-22T13:44:29.186369Z",
     "iopub.status.busy": "2022-06-22T13:44:29.184344Z",
     "iopub.status.idle": "2022-06-22T13:44:29.189887Z",
     "shell.execute_reply": "2022-06-22T13:44:29.190594Z"
    },
    "id": "4e43dad1",
    "papermill": {
     "duration": 0.077958,
     "end_time": "2022-06-22T13:44:29.190833",
     "exception": false,
     "start_time": "2022-06-22T13:44:29.112875",
     "status": "completed"
    },
    "tags": []
   },
   "outputs": [],
   "source": [
    "#Generator\n",
    "gen3 = network.GeneratorWithSkipConnection(n_features+1).to(device)\n",
    "constraints=network.weightConstraint()\n",
    "#Discriminator \n",
    "disc3 = network.Discriminator(n_features+1).to(device)\n",
    "\n",
    "criterion = torch.nn.BCELoss()\n",
    "gen_opt = torch.optim.Adam(gen3.parameters(), lr=0.001, betas=(0.5, 0.999))\n",
    "disc_opt = torch.optim.Adam(disc3.parameters(), lr=0.001, betas=(0.5, 0.999))\n"
   ]
  },
  {
   "cell_type": "code",
   "execution_count": 16,
   "id": "26acbc37",
   "metadata": {
    "execution": {
     "iopub.execute_input": "2022-06-22T13:44:29.346951Z",
     "iopub.status.busy": "2022-06-22T13:44:29.345923Z",
     "iopub.status.idle": "2022-06-22T13:45:52.890689Z",
     "shell.execute_reply": "2022-06-22T13:45:52.891257Z"
    },
    "id": "26acbc37",
    "papermill": {
     "duration": 83.630626,
     "end_time": "2022-06-22T13:45:52.891496",
     "exception": false,
     "start_time": "2022-06-22T13:44:29.260870",
     "status": "completed"
    },
    "tags": []
   },
   "outputs": [
    {
     "data": {
      "image/png": "[encoded data removed]",
      "text/plain": [
       "<Figure size 432x288 with 1 Axes>"
      ]
     },
     "metadata": {
      "needs_background": "light"
     },
     "output_type": "display_data"
    },
    {
     "data": {
      "image/png": "[encoded data removed]",
      "text/plain": [
       "<Figure size 432x288 with 1 Axes>"
      ]
     },
     "metadata": {
      "needs_background": "light"
     },
     "output_type": "display_data"
    }
   ],
   "source": [
    "ABC_train_test2.training_GAN_skip_connection(disc3,gen3,disc_opt,gen_opt,train_data,batch_size,n_epochs,criterion,prior_model,variance,bias,device)"
   ]
  },
  {
   "cell_type": "code",
   "execution_count": 17,
   "id": "c5e0717b",
   "metadata": {
    "execution": {
     "iopub.execute_input": "2022-06-22T13:45:53.032386Z",
     "iopub.status.busy": "2022-06-22T13:45:53.031639Z",
     "iopub.status.idle": "2022-06-22T13:45:54.547618Z",
     "shell.execute_reply": "2022-06-22T13:45:54.548356Z"
    },
    "id": "c5e0717b",
    "papermill": {
     "duration": 1.599651,
     "end_time": "2022-06-22T13:45:54.548576",
     "exception": false,
     "start_time": "2022-06-22T13:45:52.948925",
     "status": "completed"
    },
    "tags": []
   },
   "outputs": [
    {
     "data": {
      "application/scrapbook.scrap.json+json": {
       "data": 0.33279254193695196,
       "encoder": "json",
       "name": "ABC-GAN Model 3 MSE",
       "version": 1
      }
     },
     "metadata": {
      "scrapbook": {
       "data": true,
       "display": false,
       "name": "ABC-GAN Model 3 MSE"
      }
     },
     "output_type": "display_data"
    },
    {
     "data": {
      "application/scrapbook.scrap.json+json": {
       "data": 0.4655598407126963,
       "encoder": "json",
       "name": "ABC-GAN Model 3 MAE",
       "version": 1
      }
     },
     "metadata": {
      "scrapbook": {
       "data": true,
       "display": false,
       "name": "ABC-GAN Model 3 MAE"
      }
     },
     "output_type": "display_data"
    },
    {
     "data": {
      "application/scrapbook.scrap.json+json": {
       "data": 9.311196814253925,
       "encoder": "json",
       "name": "ABC-GAN Model 3 Manhattan Distance",
       "version": 1
      }
     },
     "metadata": {
      "scrapbook": {
       "data": true,
       "display": false,
       "name": "ABC-GAN Model 3 Manhattan Distance"
      }
     },
     "output_type": "display_data"
    },
    {
     "data": {
      "application/scrapbook.scrap.json+json": {
       "data": 2.5783044526203396,
       "encoder": "json",
       "name": "ABC-GAN Model 3 Euclidean distance",
       "version": 1
      }
     },
     "metadata": {
      "scrapbook": {
       "data": true,
       "display": false,
       "name": "ABC-GAN Model 3 Euclidean distance"
      }
     },
     "output_type": "display_data"
    },
    {
     "data": {
      "application/scrapbook.scrap.json+json": {
       "data": [
        [
         0.3176347302324352,
         0.3471477425690106,
         0.33368328139671605,
         0.32992696123864484,
         0.3566614313032224,
         0.35372721905908316,
         0.31989663896412307,
         0.305195336593509,
         0.3394659115582069,
         0.35733446759919996,
         0.3561667939063341,
         0.37880768247208085,
         0.33250022679001184,
         0.3082676575841845,
         0.32888880872545034,
         0.32624495554225336,
         0.35056111979835725,
         0.3558729406033653,
         0.34558861011465813,
         0.29622501826148856,
         0.35698404553496305,
         0.3427531181280634,
         0.34391809205231905,
         0.312437055399418,
         0.34353901926979663,
         0.29521615098513426,
         0.33392617915117995,
         0.3712676953470901,
         0.38684955025845247,
         0.32462430886103544,
         0.31820164809696005,
         0.32995221364802974,
         0.3197989399094857,
         0.3718069238824406,
         0.31211203060731013,
         0.2943630452534053,
         0.33566013964317987,
         0.3235586464579502,
         0.3332265350347442,
         0.3151029236596025,
         0.29976912370130104,
         0.3557863384798239,
         0.34171252283769177,
         0.3294258628829663,
         0.3365468108242561,
         0.34533966786077097,
         0.30722070548907177,
         0.31713236229913555,
         0.38993371630193485,
         0.31658056757986175,
         0.29765196393299476,
         0.3569700316688298,
         0.3551358734350365,
         0.3156518789024258,
         0.3807630941628236,
         0.31140933713133656,
         0.3252775543306471,
         0.3347727319088175,
         0.3470116334593786,
         0.37978298459657533,
         0.31793367371869574,
         0.3595311851997249,
         0.28941499166802026,
         0.30257835047796633,
         0.33810264104235455,
         0.3137258589103741,
         0.3191485236097593,
         0.3592516950626125,
         0.31020488980185484,
         0.3504947509611125,
         0.31912075564517217,
         0.312058287720425,
         0.3315261923854798,
         0.34531209924641376,
         0.31011636722303737,
         0.36068861328651225,
         0.343108245967587,
         0.2806506880319488,
         0.31634251327774127,
         0.27818486442233376,
         0.3412001778688135,
         0.34868650566829396,
         0.3348960469596768,
         0.3368227663950888,
         0.32540825283672487,
         0.3042339122373444,
         0.3451961219983006,
         0.2997983216846376,
         0.33183691503459534,
         0.34715902190999787,
         0.34291029438727183,
         0.30722648990096435,
         0.34793010207041986,
         0.3498664030819071,
         0.3078593595578029,
         0.3631626299570605,
         0.31735133127271764,
         0.35330451190023776,
         0.3415027309151248,
         0.32643655312051306
        ],
        [
         0.46523972414433956,
         0.4662699162960052,
         0.4820921145379543,
         0.46439355574548247,
         0.4613964453339577,
         0.479770602285862,
         0.4616856321692467,
         0.45255597997456787,
         0.4806425301358104,
         0.47733057364821435,
         0.4855467889457941,
         0.473976569250226,
         0.4702489793300629,
         0.4641082562506199,
         0.4671224825084209,
         0.4601841688156128,
         0.4886257991194725,
         0.48100245352834464,
         0.47236298490315676,
         0.4252491757273674,
         0.4802733400836587,
         0.48008246198296545,
         0.47175182700157164,
         0.45326881408691405,
         0.4629714012145996,
         0.4402175147086382,
         0.475997356325388,
         0.5148427795618773,
         0.49901553420349953,
         0.457958048582077,
         0.45868438817560675,
         0.4545624669641256,
         0.4467043329030275,
         0.46645612046122553,
         0.4416590480133891,
         0.4583683703094721,
         0.4681535892188549,
         0.43482691533863543,
         0.4691628448665142,
         0.45169905479997396,
         0.4288381949067116,
         0.48636547923088075,
         0.4660121412947774,
         0.47232491448521613,
         0.466270250082016,
         0.4829807225614786,
         0.456006969884038,
         0.4602569192647934,
         0.5291945457458496,
         0.45131468065083025,
         0.4520037367939949,
         0.45530267283320425,
         0.47707588896155356,
         0.46283486634492876,
         0.505040905252099,
         0.4504893582314253,
         0.46609352752566335,
         0.4691578082740307,
         0.4748878192156553,
         0.5112068036571145,
         0.4495073914527893,
         0.4782686930149794,
         0.45006487891077995,
         0.441791224014014,
         0.4801470782607794,
         0.4604744978249073,
         0.4623743765056133,
         0.4698353998363018,
         0.4347779519855976,
         0.4848513349890709,
         0.440427765250206,
         0.4491648629307747,
         0.4594910088926554,
         0.4717473141849041,
         0.4175549875944853,
         0.4813956465572119,
         0.4603725541383028,
         0.4233295850455761,
         0.4588301755487919,
         0.41357351243495943,
         0.46855713054537773,
         0.4728573303669691,
         0.4497737977653742,
         0.4735641684383154,
         0.4623021364212036,
         0.4435965659096837,
         0.4631608869880438,
         0.43953249603509903,
         0.4832095045596361,
         0.49087955299764874,
         0.4746482539921999,
         0.456024320051074,
         0.48071667514741423,
         0.49081840701401236,
         0.451906793192029,
         0.5049452178180218,
         0.44625189565122125,
         0.5015382632613182,
         0.4743490610271692,
         0.4492522280663252
        ],
        [
         9.304794482886791,
         9.325398325920105,
         9.641842290759087,
         9.287871114909649,
         9.227928906679153,
         9.59541204571724,
         9.233712643384933,
         9.051119599491358,
         9.612850602716208,
         9.546611472964287,
         9.710935778915882,
         9.47953138500452,
         9.404979586601257,
         9.282165125012398,
         9.342449650168419,
         9.203683376312256,
         9.77251598238945,
         9.620049070566893,
         9.447259698063135,
         8.504983514547348,
         9.605466801673174,
         9.60164923965931,
         9.435036540031433,
         9.065376281738281,
         9.259428024291992,
         8.804350294172764,
         9.519947126507759,
         10.296855591237545,
         9.980310684069991,
         9.15916097164154,
         9.173687763512135,
         9.091249339282513,
         8.93408665806055,
         9.32912240922451,
         8.833180960267782,
         9.167367406189442,
         9.363071784377098,
         8.696538306772709,
         9.383256897330284,
         9.03398109599948,
         8.576763898134232,
         9.727309584617615,
         9.320242825895548,
         9.446498289704323,
         9.32540500164032,
         9.659614451229572,
         9.12013939768076,
         9.205138385295868,
         10.583890914916992,
         9.026293613016605,
         9.040074735879898,
         9.106053456664085,
         9.541517779231071,
         9.256697326898575,
         10.10081810504198,
         9.009787164628506,
         9.321870550513268,
         9.383156165480614,
         9.497756384313107,
         10.22413607314229,
         8.990147829055786,
         9.565373860299587,
         9.001297578215599,
         8.83582448028028,
         9.602941565215588,
         9.209489956498146,
         9.247487530112267,
         9.396707996726036,
         8.695559039711952,
         9.697026699781418,
         8.80855530500412,
         8.983297258615494,
         9.189820177853107,
         9.434946283698082,
         8.351099751889706,
         9.627912931144238,
         9.207451082766056,
         8.466591700911522,
         9.176603510975838,
         8.271470248699188,
         9.371142610907555,
         9.457146607339382,
         8.995475955307484,
         9.471283368766308,
         9.246042728424072,
         8.871931318193674,
         9.263217739760876,
         8.79064992070198,
         9.664190091192722,
         9.817591059952974,
         9.492965079843998,
         9.12048640102148,
         9.614333502948284,
         9.816368140280247,
         9.03813586384058,
         10.098904356360435,
         8.925037913024426,
         10.030765265226364,
         9.486981220543385,
         8.985044561326504
        ],
        [
         2.520455237580843,
         2.634948737903683,
         2.5833438849549863,
         2.56876219700713,
         2.6708104811207494,
         2.6598015680087235,
         2.5294135247686294,
         2.470608575203725,
         2.605632021442041,
         2.673329263668058,
         2.66895782621732,
         2.7524813622332878,
         2.57876027109932,
         2.4830129181467604,
         2.5647175623270893,
         2.554388206762055,
         2.6478712952043466,
         2.6678565951091344,
         2.6290249527711147,
         2.4340296557827252,
         2.6720181344255995,
         2.618217401699345,
         2.622663120007292,
         2.4997482089179224,
         2.6212173479885132,
         2.429881276873972,
         2.5842839594409126,
         2.72495025770046,
         2.7815447156515476,
         2.548035748811368,
         2.5227035025819426,
         2.568860500875942,
         2.5290272434653045,
         2.7269283961352584,
         2.498447640465215,
         2.4263678420775583,
         2.5909849078803218,
         2.543850020964091,
         2.5815752363033857,
         2.510390103787069,
         2.4485470128274076,
         2.667531962244591,
         2.6142399386349053,
         2.566810717146733,
         2.5944047904066783,
         2.6280778826388347,
         2.4787928735135245,
         2.5184612853849297,
         2.792610664958275,
         2.516269332086141,
         2.4398850953804967,
         2.671965687163029,
         2.6650923940270306,
         2.5125758850328315,
         2.7595763956188044,
         2.4956335353225905,
         2.5505981821159014,
         2.5875576589085605,
         2.6344321341016874,
         2.7560224403896836,
         2.521641028055721,
         2.681533834206553,
         2.4058885745936793,
         2.4599932946167407,
         2.6003947432740073,
         2.504898636313949,
         2.5264541302377106,
         2.6804913544446007,
         2.490802640924627,
         2.647620633554258,
         2.526344219005685,
         2.4982325260888945,
         2.5749803587036535,
         2.6279729802508007,
         2.490447217762454,
         2.6858466571511945,
         2.6195734231648746,
         2.369179976413564,
         2.515323093671035,
         2.358749094000181,
         2.612279379656064,
         2.6407821025911775,
         2.588034184317034,
         2.5954682290295477,
         2.5511105536088587,
         2.466714058164604,
         2.627531624922146,
         2.4486662560856987,
         2.576186775195445,
         2.634991544236899,
         2.618817650724356,
         2.478816209003662,
         2.6379162309308453,
         2.6452463139825264,
         2.4813680080060796,
         2.6950422258549516,
         2.5193305907431744,
         2.6582118497224325,
         2.613437318609822,
         2.5551381689470847
        ]
       ],
       "encoder": "json",
       "name": "ABC_GAN_3 Metrics",
       "version": 1
      }
     },
     "metadata": {
      "scrapbook": {
       "data": true,
       "display": false,
       "name": "ABC_GAN_3 Metrics"
      }
     },
     "output_type": "display_data"
    },
    {
     "name": "stdout",
     "output_type": "stream",
     "text": [
      "MSE\n",
      "0.33279254193695196\n"
     ]
    }
   ],
   "source": [
    "ABC_GAN3_metrics=ABC_train_test2.test_generator(gen3,test_data,prior_model,variance,bias,\"3\",device)\n",
    "sb.glue(\"ABC_GAN_3 Metrics\",ABC_GAN3_metrics)\n",
    "\n",
    "print(\"MSE\")\n",
    "print(mean(ABC_GAN3_metrics[0]))"
   ]
  },
  {
   "cell_type": "code",
   "execution_count": 18,
   "id": "c8e46b48",
   "metadata": {
    "execution": {
     "iopub.execute_input": "2022-06-22T13:45:54.725457Z",
     "iopub.status.busy": "2022-06-22T13:45:54.724732Z",
     "iopub.status.idle": "2022-06-22T13:45:55.636446Z",
     "shell.execute_reply": "2022-06-22T13:45:55.637047Z"
    },
    "id": "c8e46b48",
    "papermill": {
     "duration": 1.009268,
     "end_time": "2022-06-22T13:45:55.637267",
     "exception": false,
     "start_time": "2022-06-22T13:45:54.627999",
     "status": "completed"
    },
    "tags": []
   },
   "outputs": [
    {
     "data": {
      "image/png": "[encoded data removed]",
      "text/plain": [
       "<Figure size 432x288 with 1 Axes>"
      ]
     },
     "metadata": {
      "needs_background": "light"
     },
     "output_type": "display_data"
    },
    {
     "data": {
      "image/png": "[encoded data removed]",
      "text/plain": [
       "<Figure size 432x288 with 1 Axes>"
      ]
     },
     "metadata": {
      "needs_background": "light"
     },
     "output_type": "display_data"
    },
    {
     "data": {
      "image/png": "[encoded data removed]",
      "text/plain": [
       "<Figure size 432x288 with 1 Axes>"
      ]
     },
     "metadata": {
      "needs_background": "light"
     },
     "output_type": "display_data"
    },
    {
     "data": {
      "image/png": "[encoded data removed]",
      "text/plain": [
       "<Figure size 432x288 with 1 Axes>"
      ]
     },
     "metadata": {
      "needs_background": "light"
     },
     "output_type": "display_data"
    }
   ],
   "source": [
    "sanityChecks.discProbVsError(train_data,disc3,device)\n",
    "sanityChecks.discProbVsError(test_data,disc3,device)"
   ]
  },
  {
   "cell_type": "markdown",
   "id": "a5bd74c3",
   "metadata": {
    "id": "a5bd74c3",
    "papermill": {
     "duration": 0.069846,
     "end_time": "2022-06-22T13:45:55.774162",
     "exception": false,
     "start_time": "2022-06-22T13:45:55.704316",
     "status": "completed"
    },
    "tags": []
   },
   "source": [
    "## Skip Connection Model Analysis - ABC-GAN "
   ]
  },
  {
   "cell_type": "markdown",
   "id": "5744a8bf",
   "metadata": {
    "id": "5744a8bf",
    "papermill": {
     "duration": 0.066043,
     "end_time": "2022-06-22T13:45:55.902511",
     "exception": false,
     "start_time": "2022-06-22T13:45:55.836468",
     "status": "completed"
    },
    "tags": []
   },
   "source": [
    "### Weight Analysis \n",
    "\n",
    "Study the weights of the skip connection layer\n",
    "\n",
    "Equation of the skip connection is \n",
    "\n",
    "$output = y_{gan} * w + y_{abc} * (1-w)$"
   ]
  },
  {
   "cell_type": "code",
   "execution_count": 19,
   "id": "52c31dea",
   "metadata": {
    "execution": {
     "iopub.execute_input": "2022-06-22T13:45:56.044788Z",
     "iopub.status.busy": "2022-06-22T13:45:56.044010Z",
     "iopub.status.idle": "2022-06-22T13:45:56.050946Z",
     "shell.execute_reply": "2022-06-22T13:45:56.051552Z"
    },
    "id": "52c31dea",
    "papermill": {
     "duration": 0.087083,
     "end_time": "2022-06-22T13:45:56.051769",
     "exception": false,
     "start_time": "2022-06-22T13:45:55.964686",
     "status": "completed"
    },
    "tags": []
   },
   "outputs": [
    {
     "name": "stdout",
     "output_type": "stream",
     "text": [
      "Weight of the node at skip connection\n",
      "Parameter containing:\n",
      "tensor([[0.6186]], requires_grad=True)\n"
     ]
    },
    {
     "data": {
      "application/scrapbook.scrap.json+json": {
       "data": 0.6185626983642578,
       "encoder": "json",
       "name": "Skip Connection Weight",
       "version": 1
      }
     },
     "metadata": {
      "scrapbook": {
       "data": true,
       "display": false,
       "name": "Skip Connection Weight"
      }
     },
     "output_type": "display_data"
    }
   ],
   "source": [
    "print(\"Weight of the node at skip connection\")\n",
    "for name,param in gen3.named_parameters():\n",
    "    if(name == \"skipNode.weight\"):\n",
    "        print(param)\n",
    "        sb.glue(\"Skip Connection Weight\",param.item())"
   ]
  }
 ],
 "metadata": {
  "colab": {
   "collapsed_sections": [],
   "name": "ABC_GAN_Model-Catboost_Pre-gen.ipynb",
   "provenance": []
  },
  "interpreter": {
   "hash": "31f2aee4e71d21fbe5cf8b01ff0e069b9275f58929596ceb00d14d90e3e16cd6"
  },
  "kernelspec": {
   "display_name": "Python 3 (ipykernel)",
   "language": "python",
   "name": "python3"
  },
  "language_info": {
   "codemirror_mode": {
    "name": "ipython",
    "version": 3
   },
   "file_extension": ".py",
   "mimetype": "text/x-python",
   "name": "python",
   "nbconvert_exporter": "python",
   "pygments_lexer": "ipython3",
   "version": "3.8.3"
  },
  "papermill": {
   "default_parameters": {},
   "duration": 175.705019,
   "end_time": "2022-06-22T13:45:57.451585",
   "environment_variables": {},
   "exception": null,
   "input_path": "ABC_GAN-TabNet.ipynb",
   "output_path": "./ABC_GAN_TabNet/ABC-GAN_output_5_4.ipynb",
   "parameters": {
    "bias": 0.1,
    "variance": 0.1
   },
   "start_time": "2022-06-22T13:43:01.746566",
   "version": "2.3.3"
  }
 },
 "nbformat": 4,
 "nbformat_minor": 5
}