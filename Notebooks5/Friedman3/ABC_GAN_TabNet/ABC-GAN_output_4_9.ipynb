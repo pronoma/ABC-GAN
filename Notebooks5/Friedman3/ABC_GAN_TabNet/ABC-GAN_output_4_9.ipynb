{
 "cells": [
  {
   "cell_type": "markdown",
   "id": "622780e6",
   "metadata": {
    "id": "622780e6",
    "papermill": {
     "duration": 0.025832,
     "end_time": "2022-06-22T13:22:05.158535",
     "exception": false,
     "start_time": "2022-06-22T13:22:05.132703",
     "status": "completed"
    },
    "tags": []
   },
   "source": [
    "## Import Libraries "
   ]
  },
  {
   "cell_type": "code",
   "execution_count": 1,
   "id": "a62397e3",
   "metadata": {
    "execution": {
     "iopub.execute_input": "2022-06-22T13:22:05.241921Z",
     "iopub.status.busy": "2022-06-22T13:22:05.241073Z",
     "iopub.status.idle": "2022-06-22T13:22:05.244601Z",
     "shell.execute_reply": "2022-06-22T13:22:05.245330Z"
    },
    "id": "a62397e3",
    "papermill": {
     "duration": 0.061348,
     "end_time": "2022-06-22T13:22:05.245812",
     "exception": false,
     "start_time": "2022-06-22T13:22:05.184464",
     "status": "completed"
    },
    "tags": []
   },
   "outputs": [],
   "source": [
    "import warnings\n",
    "import sys\n",
    "sys.path.insert(0, '../../src')\n",
    "warnings.filterwarnings('ignore')"
   ]
  },
  {
   "cell_type": "code",
   "execution_count": 2,
   "id": "d6a4e155",
   "metadata": {
    "execution": {
     "iopub.execute_input": "2022-06-22T13:22:05.294856Z",
     "iopub.status.busy": "2022-06-22T13:22:05.293199Z",
     "iopub.status.idle": "2022-06-22T13:22:12.103607Z",
     "shell.execute_reply": "2022-06-22T13:22:12.104975Z"
    },
    "id": "d6a4e155",
    "papermill": {
     "duration": 6.836797,
     "end_time": "2022-06-22T13:22:12.105338",
     "exception": false,
     "start_time": "2022-06-22T13:22:05.268541",
     "status": "completed"
    },
    "tags": []
   },
   "outputs": [],
   "source": [
    "import ABC_train_test2\n",
    "import friedman3Dataset\n",
    "import network\n",
    "import dataset\n",
    "import sanityChecks\n",
    "import torch \n",
    "import scrapbook as sb\n",
    "from statistics import mean \n",
    "import catboost as ctb \n",
    "from sklearn.model_selection import train_test_split\n",
    "from sklearn.metrics import mean_squared_error,mean_absolute_error\n",
    "import numpy as np\n",
    "from pytorch_tabnet.tab_model import TabNetRegressor"
   ]
  },
  {
   "cell_type": "markdown",
   "id": "2fa5b0f7",
   "metadata": {
    "id": "2fa5b0f7",
    "papermill": {
     "duration": 0.025948,
     "end_time": "2022-06-22T13:22:12.152830",
     "exception": false,
     "start_time": "2022-06-22T13:22:12.126882",
     "status": "completed"
    },
    "tags": []
   },
   "source": [
    "## Parameters "
   ]
  },
  {
   "cell_type": "code",
   "execution_count": 3,
   "id": "783186fb",
   "metadata": {
    "execution": {
     "iopub.execute_input": "2022-06-22T13:22:12.203020Z",
     "iopub.status.busy": "2022-06-22T13:22:12.201928Z",
     "iopub.status.idle": "2022-06-22T13:22:12.204641Z",
     "shell.execute_reply": "2022-06-22T13:22:12.205275Z"
    },
    "id": "783186fb",
    "papermill": {
     "duration": 0.033988,
     "end_time": "2022-06-22T13:22:12.205513",
     "exception": false,
     "start_time": "2022-06-22T13:22:12.171525",
     "status": "completed"
    },
    "tags": [
     "parameters"
    ]
   },
   "outputs": [],
   "source": [
    "variance = 1\n",
    "bias = 1 "
   ]
  },
  {
   "cell_type": "code",
   "execution_count": 4,
   "id": "162023d2",
   "metadata": {
    "execution": {
     "iopub.execute_input": "2022-06-22T13:22:12.249778Z",
     "iopub.status.busy": "2022-06-22T13:22:12.246192Z",
     "iopub.status.idle": "2022-06-22T13:22:12.250807Z",
     "shell.execute_reply": "2022-06-22T13:22:12.251349Z"
    },
    "papermill": {
     "duration": 0.027847,
     "end_time": "2022-06-22T13:22:12.251582",
     "exception": false,
     "start_time": "2022-06-22T13:22:12.223735",
     "status": "completed"
    },
    "tags": [
     "injected-parameters"
    ]
   },
   "outputs": [],
   "source": [
    "# Parameters\n",
    "variance = 1\n",
    "bias = 0\n"
   ]
  },
  {
   "cell_type": "markdown",
   "id": "391cdbfd",
   "metadata": {
    "id": "391cdbfd",
    "papermill": {
     "duration": 0.029197,
     "end_time": "2022-06-22T13:22:12.302356",
     "exception": false,
     "start_time": "2022-06-22T13:22:12.273159",
     "status": "completed"
    },
    "tags": []
   },
   "source": [
    "## Dataset \n"
   ]
  },
  {
   "cell_type": "code",
   "execution_count": 5,
   "id": "5b51f161",
   "metadata": {
    "execution": {
     "iopub.execute_input": "2022-06-22T13:22:12.354124Z",
     "iopub.status.busy": "2022-06-22T13:22:12.352890Z",
     "iopub.status.idle": "2022-06-22T13:22:12.355670Z",
     "shell.execute_reply": "2022-06-22T13:22:12.356285Z"
    },
    "id": "5b51f161",
    "papermill": {
     "duration": 0.030492,
     "end_time": "2022-06-22T13:22:12.356546",
     "exception": false,
     "start_time": "2022-06-22T13:22:12.326054",
     "status": "completed"
    },
    "tags": []
   },
   "outputs": [],
   "source": [
    "#Parameters \n",
    "n_features = 4\n",
    "n_samples= 100\n",
    "n_target = 1"
   ]
  },
  {
   "cell_type": "code",
   "execution_count": 6,
   "id": "5d6eced4",
   "metadata": {
    "execution": {
     "iopub.execute_input": "2022-06-22T13:22:12.413675Z",
     "iopub.status.busy": "2022-06-22T13:22:12.412231Z",
     "iopub.status.idle": "2022-06-22T13:22:12.428057Z",
     "shell.execute_reply": "2022-06-22T13:22:12.428720Z"
    },
    "id": "5d6eced4",
    "papermill": {
     "duration": 0.052447,
     "end_time": "2022-06-22T13:22:12.428954",
     "exception": false,
     "start_time": "2022-06-22T13:22:12.376507",
     "status": "completed"
    },
    "tags": []
   },
   "outputs": [
    {
     "name": "stdout",
     "output_type": "stream",
     "text": [
      "          X1           X2        X3        X4         Y\n",
      "0  46.279002   346.480239  0.151550  5.623320  0.786819\n",
      "1   0.620136  1001.742804  0.552103  9.461367  1.347737\n",
      "2   0.094576   544.140637  0.866703  2.287782  1.437112\n",
      "3  32.561593   449.052207  0.456629  1.767089  1.304318\n",
      "4  67.671078  1165.704990  0.426416  9.376912  1.282696\n"
     ]
    }
   ],
   "source": [
    "X,Y = friedman3Dataset.friedman3_data(n_samples)"
   ]
  },
  {
   "cell_type": "code",
   "execution_count": 7,
   "id": "fe007438",
   "metadata": {
    "execution": {
     "iopub.execute_input": "2022-06-22T13:22:12.480842Z",
     "iopub.status.busy": "2022-06-22T13:22:12.479540Z",
     "iopub.status.idle": "2022-06-22T13:22:12.484655Z",
     "shell.execute_reply": "2022-06-22T13:22:12.485236Z"
    },
    "id": "fe007438",
    "papermill": {
     "duration": 0.035742,
     "end_time": "2022-06-22T13:22:12.485472",
     "exception": false,
     "start_time": "2022-06-22T13:22:12.449730",
     "status": "completed"
    },
    "tags": []
   },
   "outputs": [],
   "source": [
    "#Train test split for dataset \n",
    "X_train,X_test,Y_train,Y_test = train_test_split(X,Y,test_size = 0.2)\n",
    "train_data = dataset.CustomDataset(X_train,Y_train)\n",
    "test_data = dataset.CustomDataset(X_test,Y_test)\n"
   ]
  },
  {
   "cell_type": "markdown",
   "id": "a9a1af34",
   "metadata": {
    "id": "a9a1af34",
    "papermill": {
     "duration": 0.021756,
     "end_time": "2022-06-22T13:22:12.525943",
     "exception": false,
     "start_time": "2022-06-22T13:22:12.504187",
     "status": "completed"
    },
    "tags": []
   },
   "source": [
    "## Training Parameters "
   ]
  },
  {
   "cell_type": "code",
   "execution_count": 8,
   "id": "952b7fc8",
   "metadata": {
    "execution": {
     "iopub.execute_input": "2022-06-22T13:22:12.570889Z",
     "iopub.status.busy": "2022-06-22T13:22:12.570101Z",
     "iopub.status.idle": "2022-06-22T13:22:12.572411Z",
     "shell.execute_reply": "2022-06-22T13:22:12.573004Z"
    },
    "id": "952b7fc8",
    "papermill": {
     "duration": 0.028271,
     "end_time": "2022-06-22T13:22:12.573231",
     "exception": false,
     "start_time": "2022-06-22T13:22:12.544960",
     "status": "completed"
    },
    "tags": []
   },
   "outputs": [],
   "source": [
    "batch_size = 32\n",
    "n_epochs = 1000\n",
    "#Select the device \n",
    "device = torch.device('cuda' if torch.cuda.is_available() else 'cpu')"
   ]
  },
  {
   "cell_type": "markdown",
   "id": "a95e1600",
   "metadata": {
    "id": "a95e1600",
    "papermill": {
     "duration": 0.01967,
     "end_time": "2022-06-22T13:22:12.611009",
     "exception": false,
     "start_time": "2022-06-22T13:22:12.591339",
     "status": "completed"
    },
    "tags": []
   },
   "source": [
    "# ABC Pre-generator Model \n",
    "\n",
    "1. The catboost model is used as a pre-generator model for the ABC-GAN. \n",
    "2. The model is first trained on the entire dataset \n",
    "3. It generats X,Y pairs and we add some Gaussian noise with mean 0 and variance 1 to it which is then feed as input to the generator.\n"
   ]
  },
  {
   "cell_type": "code",
   "execution_count": 9,
   "id": "ff8ce7bd",
   "metadata": {
    "execution": {
     "iopub.execute_input": "2022-06-22T13:22:12.659737Z",
     "iopub.status.busy": "2022-06-22T13:22:12.658691Z",
     "iopub.status.idle": "2022-06-22T13:22:33.727464Z",
     "shell.execute_reply": "2022-06-22T13:22:33.727957Z"
    },
    "id": "ff8ce7bd",
    "papermill": {
     "duration": 21.099844,
     "end_time": "2022-06-22T13:22:33.728163",
     "exception": false,
     "start_time": "2022-06-22T13:22:12.628319",
     "status": "completed"
    },
    "tags": []
   },
   "outputs": [
    {
     "name": "stdout",
     "output_type": "stream",
     "text": [
      "Device used : cpu\n"
     ]
    },
    {
     "name": "stdout",
     "output_type": "stream",
     "text": [
      "epoch 0  | loss: 1.56075 | train_mse: 5.37619 | train_mae: 1.73664 |  0:00:00s\n",
      "epoch 1  | loss: 0.88272 | train_mse: 6.18429 | train_mae: 1.75703 |  0:00:00s\n"
     ]
    },
    {
     "name": "stdout",
     "output_type": "stream",
     "text": [
      "epoch 2  | loss: 0.61976 | train_mse: 2.50709 | train_mae: 1.12849 |  0:00:00s\n",
      "epoch 3  | loss: 0.73041 | train_mse: 1.94901 | train_mae: 0.9488  |  0:00:00s\n",
      "epoch 4  | loss: 0.67756 | train_mse: 1.49697 | train_mae: 0.90164 |  0:00:00s\n"
     ]
    },
    {
     "name": "stdout",
     "output_type": "stream",
     "text": [
      "epoch 5  | loss: 0.62928 | train_mse: 1.59493 | train_mae: 0.91946 |  0:00:00s\n",
      "epoch 6  | loss: 0.46994 | train_mse: 4.04221 | train_mae: 1.31939 |  0:00:00s\n",
      "epoch 7  | loss: 0.31817 | train_mse: 6.54825 | train_mae: 1.58544 |  0:00:01s\n"
     ]
    },
    {
     "name": "stdout",
     "output_type": "stream",
     "text": [
      "epoch 8  | loss: 0.42852 | train_mse: 4.58433 | train_mae: 1.30623 |  0:00:01s\n",
      "epoch 9  | loss: 0.41571 | train_mse: 1.97863 | train_mae: 0.90749 |  0:00:01s\n",
      "epoch 10 | loss: 0.32872 | train_mse: 1.56523 | train_mae: 0.85715 |  0:00:01s\n"
     ]
    },
    {
     "name": "stdout",
     "output_type": "stream",
     "text": [
      "epoch 11 | loss: 0.29163 | train_mse: 2.12129 | train_mae: 0.9694  |  0:00:01s\n",
      "epoch 12 | loss: 0.36279 | train_mse: 1.75429 | train_mae: 0.88579 |  0:00:01s\n",
      "epoch 13 | loss: 0.3668  | train_mse: 1.54857 | train_mae: 0.78997 |  0:00:01s\n"
     ]
    },
    {
     "name": "stdout",
     "output_type": "stream",
     "text": [
      "epoch 14 | loss: 0.4424  | train_mse: 1.23102 | train_mae: 0.69664 |  0:00:01s\n",
      "epoch 15 | loss: 0.42196 | train_mse: 1.13116 | train_mae: 0.6716  |  0:00:01s\n"
     ]
    },
    {
     "name": "stdout",
     "output_type": "stream",
     "text": [
      "epoch 16 | loss: 0.47393 | train_mse: 0.93705 | train_mae: 0.62076 |  0:00:01s\n",
      "epoch 17 | loss: 0.22735 | train_mse: 0.74872 | train_mae: 0.56039 |  0:00:01s\n",
      "epoch 18 | loss: 0.23162 | train_mse: 0.92595 | train_mae: 0.62873 |  0:00:02s\n"
     ]
    },
    {
     "name": "stdout",
     "output_type": "stream",
     "text": [
      "epoch 19 | loss: 0.26655 | train_mse: 1.20947 | train_mae: 0.70122 |  0:00:02s\n",
      "epoch 20 | loss: 0.27353 | train_mse: 1.27689 | train_mae: 0.69743 |  0:00:02s\n",
      "epoch 21 | loss: 0.31604 | train_mse: 1.20597 | train_mae: 0.67677 |  0:00:02s\n"
     ]
    },
    {
     "name": "stdout",
     "output_type": "stream",
     "text": [
      "epoch 22 | loss: 0.3549  | train_mse: 0.84217 | train_mae: 0.57855 |  0:00:02s\n",
      "epoch 23 | loss: 0.21268 | train_mse: 0.54772 | train_mae: 0.47138 |  0:00:02s\n",
      "epoch 24 | loss: 0.27157 | train_mse: 0.45576 | train_mae: 0.41924 |  0:00:02s\n"
     ]
    },
    {
     "name": "stdout",
     "output_type": "stream",
     "text": [
      "epoch 25 | loss: 0.21063 | train_mse: 0.49581 | train_mae: 0.44187 |  0:00:02s\n",
      "epoch 26 | loss: 0.30197 | train_mse: 0.60355 | train_mae: 0.48054 |  0:00:02s\n",
      "epoch 27 | loss: 0.19341 | train_mse: 0.84699 | train_mae: 0.55406 |  0:00:02s\n"
     ]
    },
    {
     "name": "stdout",
     "output_type": "stream",
     "text": [
      "epoch 28 | loss: 0.27361 | train_mse: 0.56388 | train_mae: 0.44269 |  0:00:02s\n",
      "epoch 29 | loss: 0.17924 | train_mse: 0.28907 | train_mae: 0.33506 |  0:00:02s\n",
      "epoch 30 | loss: 0.22235 | train_mse: 0.2177  | train_mae: 0.32171 |  0:00:03s\n"
     ]
    },
    {
     "name": "stdout",
     "output_type": "stream",
     "text": [
      "epoch 31 | loss: 0.32724 | train_mse: 0.19755 | train_mae: 0.30968 |  0:00:03s\n",
      "epoch 32 | loss: 0.17781 | train_mse: 0.18504 | train_mae: 0.30129 |  0:00:03s\n",
      "epoch 33 | loss: 0.28855 | train_mse: 0.20686 | train_mae: 0.31515 |  0:00:03s\n"
     ]
    },
    {
     "name": "stdout",
     "output_type": "stream",
     "text": [
      "epoch 34 | loss: 0.21353 | train_mse: 0.2682  | train_mae: 0.32789 |  0:00:03s\n",
      "epoch 35 | loss: 0.20186 | train_mse: 0.37884 | train_mae: 0.37319 |  0:00:03s\n",
      "epoch 36 | loss: 0.57266 | train_mse: 0.56878 | train_mae: 0.4316  |  0:00:03s\n"
     ]
    },
    {
     "name": "stdout",
     "output_type": "stream",
     "text": [
      "epoch 37 | loss: 0.20806 | train_mse: 0.53237 | train_mae: 0.41983 |  0:00:03s\n",
      "epoch 38 | loss: 0.24134 | train_mse: 0.32749 | train_mae: 0.36513 |  0:00:03s\n",
      "epoch 39 | loss: 0.20598 | train_mse: 0.19806 | train_mae: 0.30556 |  0:00:03s\n"
     ]
    },
    {
     "name": "stdout",
     "output_type": "stream",
     "text": [
      "epoch 40 | loss: 0.28961 | train_mse: 0.16527 | train_mae: 0.28265 |  0:00:03s\n",
      "epoch 41 | loss: 0.18729 | train_mse: 0.15396 | train_mae: 0.27011 |  0:00:04s\n",
      "epoch 42 | loss: 0.34413 | train_mse: 0.1638  | train_mae: 0.26899 |  0:00:04s\n"
     ]
    },
    {
     "name": "stdout",
     "output_type": "stream",
     "text": [
      "epoch 43 | loss: 0.18311 | train_mse: 0.39983 | train_mae: 0.38233 |  0:00:04s\n",
      "epoch 44 | loss: 0.21983 | train_mse: 0.48165 | train_mae: 0.39952 |  0:00:04s\n",
      "epoch 45 | loss: 0.22462 | train_mse: 0.26089 | train_mae: 0.33303 |  0:00:04s\n"
     ]
    },
    {
     "name": "stdout",
     "output_type": "stream",
     "text": [
      "epoch 46 | loss: 0.17421 | train_mse: 0.19519 | train_mae: 0.29719 |  0:00:04s\n",
      "epoch 47 | loss: 0.22027 | train_mse: 0.17911 | train_mae: 0.27971 |  0:00:04s\n"
     ]
    },
    {
     "name": "stdout",
     "output_type": "stream",
     "text": [
      "epoch 48 | loss: 0.17253 | train_mse: 0.167   | train_mae: 0.27306 |  0:00:04s\n",
      "epoch 49 | loss: 0.20037 | train_mse: 0.16891 | train_mae: 0.28035 |  0:00:04s\n"
     ]
    },
    {
     "name": "stdout",
     "output_type": "stream",
     "text": [
      "epoch 50 | loss: 0.20284 | train_mse: 0.16715 | train_mae: 0.27324 |  0:00:05s\n",
      "epoch 51 | loss: 0.20432 | train_mse: 0.22302 | train_mae: 0.31686 |  0:00:05s\n",
      "epoch 52 | loss: 0.21253 | train_mse: 0.19118 | train_mae: 0.29438 |  0:00:05s\n"
     ]
    },
    {
     "name": "stdout",
     "output_type": "stream",
     "text": [
      "epoch 53 | loss: 0.1869  | train_mse: 0.15953 | train_mae: 0.27136 |  0:00:05s\n",
      "epoch 54 | loss: 0.29239 | train_mse: 0.15731 | train_mae: 0.2689  |  0:00:05s\n",
      "epoch 55 | loss: 0.22534 | train_mse: 0.15728 | train_mae: 0.26297 |  0:00:05s\n"
     ]
    },
    {
     "name": "stdout",
     "output_type": "stream",
     "text": [
      "epoch 56 | loss: 0.23595 | train_mse: 0.20101 | train_mae: 0.29121 |  0:00:05s\n",
      "epoch 57 | loss: 0.19036 | train_mse: 0.32488 | train_mae: 0.3499  |  0:00:05s\n",
      "epoch 58 | loss: 0.18847 | train_mse: 0.38295 | train_mae: 0.38421 |  0:00:05s\n"
     ]
    },
    {
     "name": "stdout",
     "output_type": "stream",
     "text": [
      "epoch 59 | loss: 0.26174 | train_mse: 0.28541 | train_mae: 0.3398  |  0:00:05s\n",
      "epoch 60 | loss: 0.25069 | train_mse: 0.28098 | train_mae: 0.33273 |  0:00:05s\n",
      "epoch 61 | loss: 0.18131 | train_mse: 0.24888 | train_mae: 0.31968 |  0:00:05s\n"
     ]
    },
    {
     "name": "stdout",
     "output_type": "stream",
     "text": [
      "epoch 62 | loss: 0.21839 | train_mse: 0.24333 | train_mae: 0.3177  |  0:00:06s\n",
      "epoch 63 | loss: 0.183   | train_mse: 0.20909 | train_mae: 0.29457 |  0:00:06s\n",
      "epoch 64 | loss: 0.24303 | train_mse: 0.17324 | train_mae: 0.2666  |  0:00:06s\n"
     ]
    },
    {
     "name": "stdout",
     "output_type": "stream",
     "text": [
      "epoch 65 | loss: 0.31957 | train_mse: 0.1837  | train_mae: 0.29644 |  0:00:06s\n",
      "epoch 66 | loss: 0.32208 | train_mse: 0.17694 | train_mae: 0.28359 |  0:00:06s\n",
      "epoch 67 | loss: 0.28965 | train_mse: 0.1829  | train_mae: 0.28731 |  0:00:06s\n"
     ]
    },
    {
     "name": "stdout",
     "output_type": "stream",
     "text": [
      "epoch 68 | loss: 0.50644 | train_mse: 0.19677 | train_mae: 0.32065 |  0:00:06s\n",
      "epoch 69 | loss: 0.18681 | train_mse: 0.18193 | train_mae: 0.30661 |  0:00:06s\n",
      "epoch 70 | loss: 0.186   | train_mse: 0.20343 | train_mae: 0.31922 |  0:00:06s\n"
     ]
    },
    {
     "name": "stdout",
     "output_type": "stream",
     "text": [
      "epoch 71 | loss: 0.25021 | train_mse: 0.38853 | train_mae: 0.37464 |  0:00:06s\n",
      "epoch 72 | loss: 0.23138 | train_mse: 0.16584 | train_mae: 0.27507 |  0:00:06s\n",
      "epoch 73 | loss: 0.19856 | train_mse: 0.24724 | train_mae: 0.32571 |  0:00:06s\n"
     ]
    },
    {
     "name": "stdout",
     "output_type": "stream",
     "text": [
      "epoch 74 | loss: 0.23392 | train_mse: 0.39175 | train_mae: 0.39428 |  0:00:07s\n",
      "epoch 75 | loss: 0.24538 | train_mse: 0.42724 | train_mae: 0.40818 |  0:00:07s\n"
     ]
    },
    {
     "name": "stdout",
     "output_type": "stream",
     "text": [
      "epoch 76 | loss: 0.18824 | train_mse: 0.43935 | train_mae: 0.40104 |  0:00:07s\n",
      "epoch 77 | loss: 0.16346 | train_mse: 0.34023 | train_mae: 0.34811 |  0:00:07s\n",
      "epoch 78 | loss: 0.207   | train_mse: 0.25546 | train_mae: 0.31562 |  0:00:07s\n"
     ]
    },
    {
     "name": "stdout",
     "output_type": "stream",
     "text": [
      "epoch 79 | loss: 0.3359  | train_mse: 0.22693 | train_mae: 0.2927  |  0:00:07s\n",
      "epoch 80 | loss: 0.25763 | train_mse: 0.23793 | train_mae: 0.29392 |  0:00:07s\n"
     ]
    },
    {
     "name": "stdout",
     "output_type": "stream",
     "text": [
      "epoch 81 | loss: 0.20214 | train_mse: 0.23981 | train_mae: 0.29903 |  0:00:07s\n",
      "epoch 82 | loss: 0.15303 | train_mse: 0.17328 | train_mae: 0.27999 |  0:00:07s\n",
      "epoch 83 | loss: 0.298   | train_mse: 0.14306 | train_mae: 0.25561 |  0:00:07s\n"
     ]
    },
    {
     "name": "stdout",
     "output_type": "stream",
     "text": [
      "epoch 84 | loss: 0.12593 | train_mse: 0.25838 | train_mae: 0.31917 |  0:00:08s\n",
      "epoch 85 | loss: 0.20184 | train_mse: 0.31207 | train_mae: 0.33967 |  0:00:08s\n",
      "epoch 86 | loss: 0.11605 | train_mse: 0.40987 | train_mae: 0.36743 |  0:00:08s\n"
     ]
    },
    {
     "name": "stdout",
     "output_type": "stream",
     "text": [
      "epoch 87 | loss: 0.3124  | train_mse: 0.47194 | train_mae: 0.38361 |  0:00:08s\n",
      "epoch 88 | loss: 0.19922 | train_mse: 0.48338 | train_mae: 0.39435 |  0:00:08s\n",
      "epoch 89 | loss: 0.11386 | train_mse: 0.52788 | train_mae: 0.41058 |  0:00:08s\n"
     ]
    },
    {
     "name": "stdout",
     "output_type": "stream",
     "text": [
      "epoch 90 | loss: 0.15979 | train_mse: 0.54879 | train_mae: 0.41257 |  0:00:08s\n",
      "epoch 91 | loss: 0.1586  | train_mse: 0.53908 | train_mae: 0.40911 |  0:00:08s\n",
      "epoch 92 | loss: 0.13371 | train_mse: 0.55622 | train_mae: 0.41453 |  0:00:08s\n"
     ]
    },
    {
     "name": "stdout",
     "output_type": "stream",
     "text": [
      "epoch 93 | loss: 0.17769 | train_mse: 0.60195 | train_mae: 0.43226 |  0:00:08s\n",
      "epoch 94 | loss: 0.17099 | train_mse: 0.61026 | train_mae: 0.42863 |  0:00:08s\n",
      "epoch 95 | loss: 0.09291 | train_mse: 0.61275 | train_mae: 0.42975 |  0:00:08s\n"
     ]
    },
    {
     "name": "stdout",
     "output_type": "stream",
     "text": [
      "epoch 96 | loss: 0.11311 | train_mse: 0.62403 | train_mae: 0.43626 |  0:00:09s\n",
      "epoch 97 | loss: 0.16444 | train_mse: 0.63976 | train_mae: 0.45114 |  0:00:09s\n",
      "epoch 98 | loss: 0.21125 | train_mse: 0.49579 | train_mae: 0.39685 |  0:00:09s\n"
     ]
    },
    {
     "name": "stdout",
     "output_type": "stream",
     "text": [
      "epoch 99 | loss: 0.11661 | train_mse: 0.35394 | train_mae: 0.33504 |  0:00:09s\n",
      "epoch 100| loss: 0.14152 | train_mse: 0.27457 | train_mae: 0.2906  |  0:00:09s\n",
      "epoch 101| loss: 0.13817 | train_mse: 0.3733  | train_mae: 0.33469 |  0:00:09s\n"
     ]
    },
    {
     "name": "stdout",
     "output_type": "stream",
     "text": [
      "epoch 102| loss: 0.11469 | train_mse: 0.41702 | train_mae: 0.35072 |  0:00:09s\n",
      "epoch 103| loss: 0.06699 | train_mse: 0.43767 | train_mae: 0.36073 |  0:00:09s\n",
      "epoch 104| loss: 0.25783 | train_mse: 0.45855 | train_mae: 0.37517 |  0:00:09s\n"
     ]
    },
    {
     "name": "stdout",
     "output_type": "stream",
     "text": [
      "epoch 105| loss: 0.20016 | train_mse: 0.3673  | train_mae: 0.36056 |  0:00:09s\n",
      "epoch 106| loss: 0.12162 | train_mse: 0.08175 | train_mae: 0.19776 |  0:00:09s\n",
      "epoch 107| loss: 0.10428 | train_mse: 0.15129 | train_mae: 0.24565 |  0:00:09s\n"
     ]
    },
    {
     "name": "stdout",
     "output_type": "stream",
     "text": [
      "epoch 108| loss: 0.11228 | train_mse: 0.22544 | train_mae: 0.29112 |  0:00:10s\n",
      "epoch 109| loss: 0.12335 | train_mse: 0.274   | train_mae: 0.3033  |  0:00:10s\n",
      "epoch 110| loss: 0.14101 | train_mse: 0.26668 | train_mae: 0.30146 |  0:00:10s\n"
     ]
    },
    {
     "name": "stdout",
     "output_type": "stream",
     "text": [
      "epoch 111| loss: 0.17468 | train_mse: 0.21078 | train_mae: 0.29519 |  0:00:10s\n",
      "epoch 112| loss: 0.10947 | train_mse: 0.15411 | train_mae: 0.27914 |  0:00:10s\n",
      "epoch 113| loss: 0.14046 | train_mse: 0.13725 | train_mae: 0.24973 |  0:00:10s\n"
     ]
    },
    {
     "name": "stdout",
     "output_type": "stream",
     "text": [
      "epoch 114| loss: 0.12142 | train_mse: 0.13877 | train_mae: 0.24347 |  0:00:10s\n",
      "epoch 115| loss: 0.1176  | train_mse: 0.13178 | train_mae: 0.24895 |  0:00:10s\n",
      "epoch 116| loss: 0.1052  | train_mse: 0.09107 | train_mae: 0.19997 |  0:00:10s\n"
     ]
    },
    {
     "name": "stdout",
     "output_type": "stream",
     "text": [
      "epoch 117| loss: 0.11887 | train_mse: 0.07247 | train_mae: 0.18138 |  0:00:10s\n",
      "epoch 118| loss: 0.09006 | train_mse: 0.06997 | train_mae: 0.18536 |  0:00:10s\n",
      "epoch 119| loss: 0.07392 | train_mse: 0.06066 | train_mae: 0.18499 |  0:00:10s\n"
     ]
    },
    {
     "name": "stdout",
     "output_type": "stream",
     "text": [
      "epoch 120| loss: 0.08241 | train_mse: 0.06663 | train_mae: 0.19298 |  0:00:11s\n",
      "epoch 121| loss: 0.11963 | train_mse: 0.0849  | train_mae: 0.21079 |  0:00:11s\n",
      "epoch 122| loss: 0.09482 | train_mse: 0.1037  | train_mae: 0.22827 |  0:00:11s\n"
     ]
    },
    {
     "name": "stdout",
     "output_type": "stream",
     "text": [
      "epoch 123| loss: 0.21153 | train_mse: 0.11468 | train_mae: 0.22931 |  0:00:11s\n",
      "epoch 124| loss: 0.09744 | train_mse: 0.09865 | train_mae: 0.21067 |  0:00:11s\n",
      "epoch 125| loss: 0.12039 | train_mse: 0.0686  | train_mae: 0.19474 |  0:00:11s\n"
     ]
    },
    {
     "name": "stdout",
     "output_type": "stream",
     "text": [
      "epoch 126| loss: 0.07159 | train_mse: 0.07284 | train_mae: 0.20405 |  0:00:11s\n",
      "epoch 127| loss: 0.08964 | train_mse: 0.06902 | train_mae: 0.20213 |  0:00:11s\n",
      "epoch 128| loss: 0.1112  | train_mse: 0.0703  | train_mae: 0.21436 |  0:00:11s\n"
     ]
    },
    {
     "name": "stdout",
     "output_type": "stream",
     "text": [
      "epoch 129| loss: 0.08109 | train_mse: 0.08753 | train_mae: 0.21815 |  0:00:11s\n",
      "epoch 130| loss: 0.1153  | train_mse: 0.15723 | train_mae: 0.25296 |  0:00:11s\n",
      "epoch 131| loss: 0.25248 | train_mse: 0.17118 | train_mae: 0.25759 |  0:00:12s\n"
     ]
    },
    {
     "name": "stdout",
     "output_type": "stream",
     "text": [
      "epoch 132| loss: 0.10704 | train_mse: 0.21296 | train_mae: 0.27741 |  0:00:12s\n",
      "epoch 133| loss: 0.17682 | train_mse: 0.29715 | train_mae: 0.30546 |  0:00:12s\n",
      "epoch 134| loss: 0.08551 | train_mse: 0.32659 | train_mae: 0.318   |  0:00:12s\n"
     ]
    },
    {
     "name": "stdout",
     "output_type": "stream",
     "text": [
      "epoch 135| loss: 0.06104 | train_mse: 0.33697 | train_mae: 0.32373 |  0:00:12s\n",
      "epoch 136| loss: 0.18157 | train_mse: 0.17481 | train_mae: 0.27612 |  0:00:12s\n",
      "epoch 137| loss: 0.12296 | train_mse: 0.08813 | train_mae: 0.21965 |  0:00:12s\n"
     ]
    },
    {
     "name": "stdout",
     "output_type": "stream",
     "text": [
      "epoch 138| loss: 0.12061 | train_mse: 0.10925 | train_mae: 0.22599 |  0:00:12s\n",
      "epoch 139| loss: 0.09259 | train_mse: 0.24902 | train_mae: 0.31069 |  0:00:12s\n"
     ]
    },
    {
     "name": "stdout",
     "output_type": "stream",
     "text": [
      "epoch 140| loss: 0.08922 | train_mse: 0.31126 | train_mae: 0.33815 |  0:00:12s\n",
      "epoch 141| loss: 0.16955 | train_mse: 0.22774 | train_mae: 0.28563 |  0:00:12s\n",
      "epoch 142| loss: 0.10956 | train_mse: 0.14284 | train_mae: 0.24012 |  0:00:12s\n",
      "epoch 143| loss: 0.15844 | train_mse: 0.16274 | train_mae: 0.25578 |  0:00:13s\n"
     ]
    },
    {
     "name": "stdout",
     "output_type": "stream",
     "text": [
      "epoch 144| loss: 0.19855 | train_mse: 0.12366 | train_mae: 0.22738 |  0:00:13s\n",
      "epoch 145| loss: 0.0883  | train_mse: 0.08807 | train_mae: 0.1947  |  0:00:13s\n",
      "epoch 146| loss: 0.19659 | train_mse: 0.12069 | train_mae: 0.22686 |  0:00:13s\n"
     ]
    },
    {
     "name": "stdout",
     "output_type": "stream",
     "text": [
      "epoch 147| loss: 0.12397 | train_mse: 0.14692 | train_mae: 0.24041 |  0:00:13s\n",
      "epoch 148| loss: 0.11967 | train_mse: 0.11215 | train_mae: 0.23001 |  0:00:13s\n"
     ]
    },
    {
     "name": "stdout",
     "output_type": "stream",
     "text": [
      "epoch 149| loss: 0.09163 | train_mse: 0.09561 | train_mae: 0.22044 |  0:00:13s\n",
      "epoch 150| loss: 0.10589 | train_mse: 0.09102 | train_mae: 0.21791 |  0:00:13s\n"
     ]
    },
    {
     "name": "stdout",
     "output_type": "stream",
     "text": [
      "epoch 151| loss: 0.11799 | train_mse: 0.09661 | train_mae: 0.2256  |  0:00:13s\n",
      "epoch 152| loss: 0.08419 | train_mse: 0.17228 | train_mae: 0.25694 |  0:00:14s\n",
      "epoch 153| loss: 0.12273 | train_mse: 0.20656 | train_mae: 0.27099 |  0:00:14s\n"
     ]
    },
    {
     "name": "stdout",
     "output_type": "stream",
     "text": [
      "epoch 154| loss: 0.29632 | train_mse: 0.22619 | train_mae: 0.28012 |  0:00:14s\n",
      "epoch 155| loss: 0.11697 | train_mse: 0.15905 | train_mae: 0.25037 |  0:00:14s\n",
      "epoch 156| loss: 0.0799  | train_mse: 0.1723  | train_mae: 0.26554 |  0:00:14s\n"
     ]
    },
    {
     "name": "stdout",
     "output_type": "stream",
     "text": [
      "epoch 157| loss: 0.09137 | train_mse: 0.20382 | train_mae: 0.27946 |  0:00:14s\n",
      "epoch 158| loss: 0.2714  | train_mse: 0.12773 | train_mae: 0.24427 |  0:00:14s\n",
      "epoch 159| loss: 0.08078 | train_mse: 0.07087 | train_mae: 0.20207 |  0:00:14s\n"
     ]
    },
    {
     "name": "stdout",
     "output_type": "stream",
     "text": [
      "epoch 160| loss: 0.13749 | train_mse: 0.06419 | train_mae: 0.19108 |  0:00:14s\n",
      "epoch 161| loss: 0.11044 | train_mse: 0.06695 | train_mae: 0.19576 |  0:00:14s\n",
      "epoch 162| loss: 0.06677 | train_mse: 0.05872 | train_mae: 0.18558 |  0:00:14s\n"
     ]
    },
    {
     "name": "stdout",
     "output_type": "stream",
     "text": [
      "epoch 163| loss: 0.12065 | train_mse: 0.06196 | train_mae: 0.1828  |  0:00:14s\n",
      "epoch 164| loss: 0.1433  | train_mse: 0.06049 | train_mae: 0.17766 |  0:00:15s\n",
      "epoch 165| loss: 0.06963 | train_mse: 0.07781 | train_mae: 0.19826 |  0:00:15s\n"
     ]
    },
    {
     "name": "stdout",
     "output_type": "stream",
     "text": [
      "epoch 166| loss: 0.22402 | train_mse: 0.09833 | train_mae: 0.21062 |  0:00:15s\n",
      "epoch 167| loss: 0.18302 | train_mse: 0.09032 | train_mae: 0.20737 |  0:00:15s\n",
      "epoch 168| loss: 0.08702 | train_mse: 0.06756 | train_mae: 0.19068 |  0:00:15s\n"
     ]
    },
    {
     "name": "stdout",
     "output_type": "stream",
     "text": [
      "epoch 169| loss: 0.11723 | train_mse: 0.04498 | train_mae: 0.15653 |  0:00:15s\n",
      "epoch 170| loss: 0.06035 | train_mse: 0.05283 | train_mae: 0.16469 |  0:00:15s\n",
      "epoch 171| loss: 0.08862 | train_mse: 0.07477 | train_mae: 0.1934  |  0:00:15s\n"
     ]
    },
    {
     "name": "stdout",
     "output_type": "stream",
     "text": [
      "epoch 172| loss: 0.12709 | train_mse: 0.06732 | train_mae: 0.18521 |  0:00:15s\n",
      "epoch 173| loss: 0.21161 | train_mse: 0.06491 | train_mae: 0.18653 |  0:00:15s\n",
      "epoch 174| loss: 0.06126 | train_mse: 0.08225 | train_mae: 0.20773 |  0:00:15s\n"
     ]
    },
    {
     "name": "stdout",
     "output_type": "stream",
     "text": [
      "epoch 175| loss: 0.08335 | train_mse: 0.14898 | train_mae: 0.24991 |  0:00:15s\n",
      "epoch 176| loss: 0.08554 | train_mse: 0.23964 | train_mae: 0.28912 |  0:00:16s\n",
      "epoch 177| loss: 0.07215 | train_mse: 0.21199 | train_mae: 0.28222 |  0:00:16s\n"
     ]
    },
    {
     "name": "stdout",
     "output_type": "stream",
     "text": [
      "epoch 178| loss: 0.18455 | train_mse: 0.14846 | train_mae: 0.25874 |  0:00:16s\n",
      "epoch 179| loss: 0.08336 | train_mse: 0.08706 | train_mae: 0.21188 |  0:00:16s\n",
      "epoch 180| loss: 0.16208 | train_mse: 0.05379 | train_mae: 0.17794 |  0:00:16s\n"
     ]
    },
    {
     "name": "stdout",
     "output_type": "stream",
     "text": [
      "epoch 181| loss: 0.07536 | train_mse: 0.04486 | train_mae: 0.1527  |  0:00:16s\n",
      "epoch 182| loss: 0.09503 | train_mse: 0.22725 | train_mae: 0.28136 |  0:00:16s\n",
      "epoch 183| loss: 0.29889 | train_mse: 0.45096 | train_mae: 0.36474 |  0:00:16s\n"
     ]
    },
    {
     "name": "stdout",
     "output_type": "stream",
     "text": [
      "epoch 184| loss: 0.11905 | train_mse: 0.54395 | train_mae: 0.40049 |  0:00:16s\n",
      "epoch 185| loss: 0.09628 | train_mse: 0.86411 | train_mae: 0.48437 |  0:00:16s\n",
      "epoch 186| loss: 0.07317 | train_mse: 0.82047 | train_mae: 0.47812 |  0:00:16s\n"
     ]
    },
    {
     "name": "stdout",
     "output_type": "stream",
     "text": [
      "epoch 187| loss: 0.12029 | train_mse: 0.6477  | train_mae: 0.43283 |  0:00:17s\n",
      "epoch 188| loss: 0.08221 | train_mse: 0.4004  | train_mae: 0.35491 |  0:00:17s\n",
      "epoch 189| loss: 0.09304 | train_mse: 0.32844 | train_mae: 0.32666 |  0:00:17s\n"
     ]
    },
    {
     "name": "stdout",
     "output_type": "stream",
     "text": [
      "epoch 190| loss: 0.08259 | train_mse: 0.32231 | train_mae: 0.31598 |  0:00:17s\n",
      "epoch 191| loss: 0.06606 | train_mse: 0.19298 | train_mae: 0.25521 |  0:00:17s\n",
      "epoch 192| loss: 0.16597 | train_mse: 0.11781 | train_mae: 0.21667 |  0:00:17s\n"
     ]
    },
    {
     "name": "stdout",
     "output_type": "stream",
     "text": [
      "epoch 193| loss: 0.07497 | train_mse: 0.05937 | train_mae: 0.16614 |  0:00:17s\n",
      "epoch 194| loss: 0.06028 | train_mse: 0.04917 | train_mae: 0.16043 |  0:00:17s\n",
      "epoch 195| loss: 0.12203 | train_mse: 0.08511 | train_mae: 0.19544 |  0:00:17s\n"
     ]
    },
    {
     "name": "stdout",
     "output_type": "stream",
     "text": [
      "epoch 196| loss: 0.12432 | train_mse: 0.07343 | train_mae: 0.19033 |  0:00:17s\n",
      "epoch 197| loss: 0.05865 | train_mse: 0.06079 | train_mae: 0.18476 |  0:00:17s\n",
      "epoch 198| loss: 0.07076 | train_mse: 0.15377 | train_mae: 0.25243 |  0:00:17s\n"
     ]
    },
    {
     "name": "stdout",
     "output_type": "stream",
     "text": [
      "epoch 199| loss: 0.22678 | train_mse: 0.49905 | train_mae: 0.37362 |  0:00:18s\n",
      "epoch 200| loss: 0.08999 | train_mse: 0.46891 | train_mae: 0.36377 |  0:00:18s\n",
      "epoch 201| loss: 0.12273 | train_mse: 0.18902 | train_mae: 0.25785 |  0:00:18s\n"
     ]
    },
    {
     "name": "stdout",
     "output_type": "stream",
     "text": [
      "epoch 202| loss: 0.08523 | train_mse: 0.0793  | train_mae: 0.20135 |  0:00:18s\n",
      "epoch 203| loss: 0.05541 | train_mse: 0.06519 | train_mae: 0.18879 |  0:00:18s\n",
      "epoch 204| loss: 0.05544 | train_mse: 0.05712 | train_mae: 0.17706 |  0:00:18s\n"
     ]
    },
    {
     "name": "stdout",
     "output_type": "stream",
     "text": [
      "epoch 205| loss: 0.07212 | train_mse: 0.04949 | train_mae: 0.16935 |  0:00:18s\n",
      "epoch 206| loss: 0.06588 | train_mse: 0.05877 | train_mae: 0.18109 |  0:00:18s\n",
      "epoch 207| loss: 0.06714 | train_mse: 0.05252 | train_mae: 0.17395 |  0:00:18s\n"
     ]
    },
    {
     "name": "stdout",
     "output_type": "stream",
     "text": [
      "epoch 208| loss: 0.05111 | train_mse: 0.07907 | train_mae: 0.19359 |  0:00:18s\n",
      "epoch 209| loss: 0.06365 | train_mse: 0.11085 | train_mae: 0.21646 |  0:00:19s\n"
     ]
    },
    {
     "name": "stdout",
     "output_type": "stream",
     "text": [
      "epoch 210| loss: 0.10226 | train_mse: 0.15636 | train_mae: 0.24369 |  0:00:19s\n",
      "epoch 211| loss: 0.07081 | train_mse: 0.29538 | train_mae: 0.29401 |  0:00:19s\n",
      "epoch 212| loss: 0.12956 | train_mse: 0.37143 | train_mae: 0.31567 |  0:00:19s\n"
     ]
    },
    {
     "name": "stdout",
     "output_type": "stream",
     "text": [
      "epoch 213| loss: 0.11172 | train_mse: 0.33733 | train_mae: 0.30239 |  0:00:19s\n",
      "epoch 214| loss: 0.09094 | train_mse: 0.24911 | train_mae: 0.29553 |  0:00:19s\n",
      "epoch 215| loss: 0.13245 | train_mse: 0.28381 | train_mae: 0.31973 |  0:00:19s\n"
     ]
    },
    {
     "name": "stdout",
     "output_type": "stream",
     "text": [
      "epoch 216| loss: 0.13219 | train_mse: 0.4426  | train_mae: 0.36269 |  0:00:19s\n",
      "epoch 217| loss: 0.07605 | train_mse: 0.48498 | train_mae: 0.36767 |  0:00:19s\n"
     ]
    },
    {
     "name": "stdout",
     "output_type": "stream",
     "text": [
      "epoch 218| loss: 0.14259 | train_mse: 0.45597 | train_mae: 0.35692 |  0:00:19s\n",
      "epoch 219| loss: 0.12343 | train_mse: 0.34047 | train_mae: 0.35198 |  0:00:19s\n",
      "epoch 220| loss: 0.07528 | train_mse: 0.32868 | train_mae: 0.35312 |  0:00:20s"
     ]
    },
    {
     "name": "stdout",
     "output_type": "stream",
     "text": [
      "\n",
      "epoch 221| loss: 0.10809 | train_mse: 0.43274 | train_mae: 0.36807 |  0:00:20s\n",
      "epoch 222| loss: 0.08456 | train_mse: 0.46532 | train_mae: 0.36871 |  0:00:20s\n"
     ]
    },
    {
     "name": "stdout",
     "output_type": "stream",
     "text": [
      "epoch 223| loss: 0.09982 | train_mse: 0.39858 | train_mae: 0.34108 |  0:00:20s\n",
      "epoch 224| loss: 0.10166 | train_mse: 0.33286 | train_mae: 0.31166 |  0:00:20s\n",
      "epoch 225| loss: 0.09713 | train_mse: 0.24199 | train_mae: 0.29254 |  0:00:20s\n"
     ]
    },
    {
     "name": "stdout",
     "output_type": "stream",
     "text": [
      "epoch 226| loss: 0.07242 | train_mse: 0.173   | train_mae: 0.26843 |  0:00:20s\n",
      "epoch 227| loss: 0.06901 | train_mse: 0.10925 | train_mae: 0.22149 |  0:00:20s\n",
      "epoch 228| loss: 0.14431 | train_mse: 0.0517  | train_mae: 0.16597 |  0:00:20s\n"
     ]
    },
    {
     "name": "stdout",
     "output_type": "stream",
     "text": [
      "epoch 229| loss: 0.25988 | train_mse: 0.04733 | train_mae: 0.15669 |  0:00:20s\n",
      "epoch 230| loss: 0.06551 | train_mse: 0.0848  | train_mae: 0.19702 |  0:00:20s\n",
      "epoch 231| loss: 0.08122 | train_mse: 0.08455 | train_mae: 0.19565 |  0:00:21s\n",
      "\n",
      "Early stopping occurred at epoch 231 with best_epoch = 181 and best_train_mae = 0.1527\n",
      "Best weights from best epoch are automatically used!\n"
     ]
    }
   ],
   "source": [
    "#Train the Model\n",
    "\n",
    "Y_train = np.reshape(Y_train, (-1, 1))\n",
    "Y_test = np.reshape(Y_test, (-1, 1))\n",
    "\n",
    "prior_model = TabNetRegressor(optimizer_fn=torch.optim.Adam, optimizer_params=dict(lr = 0.02),\n",
    "          #scheduler_params={\"step_size\":10, ], \"gamma\":0.9},\n",
    "          #scheduler_fn=torch.optim.lr_scheduler.StepLR\n",
    "          )  #TabNetRegressor()\n",
    "\n",
    "prior_model.fit(X_train,Y_train,eval_set=[(X_train, Y_train)],\n",
    "            eval_name=['train'], \n",
    "            eval_metric=[ 'mse', 'mae'], \n",
    "            max_epochs = n_epochs, \n",
    "            batch_size = batch_size,\n",
    "            patience=50\n",
    "            )"
   ]
  },
  {
   "cell_type": "code",
   "execution_count": 10,
   "id": "af65dcda",
   "metadata": {
    "execution": {
     "iopub.execute_input": "2022-06-22T13:22:33.828597Z",
     "iopub.status.busy": "2022-06-22T13:22:33.827286Z",
     "iopub.status.idle": "2022-06-22T13:22:33.852303Z",
     "shell.execute_reply": "2022-06-22T13:22:33.852781Z"
    },
    "id": "af65dcda",
    "papermill": {
     "duration": 0.080471,
     "end_time": "2022-06-22T13:22:33.853111",
     "exception": false,
     "start_time": "2022-06-22T13:22:33.772640",
     "status": "completed"
    },
    "tags": []
   },
   "outputs": [
    {
     "data": {
      "application/scrapbook.scrap.json+json": {
       "data": 0.111655617245575,
       "encoder": "json",
       "name": "Prior Model MSE",
       "version": 1
      }
     },
     "metadata": {
      "scrapbook": {
       "data": true,
       "display": false,
       "name": "Prior Model MSE"
      }
     },
     "output_type": "display_data"
    },
    {
     "data": {
      "application/scrapbook.scrap.json+json": {
       "data": 0.5528405851829122,
       "encoder": "json",
       "name": "ABC Pre-generator MSE",
       "version": 1
      }
     },
     "metadata": {
      "scrapbook": {
       "data": true,
       "display": false,
       "name": "ABC Pre-generator MSE"
      }
     },
     "output_type": "display_data"
    },
    {
     "data": {
      "application/scrapbook.scrap.json+json": {
       "data": 0.2823183398933641,
       "encoder": "json",
       "name": "Prior Model MSE",
       "version": 1
      }
     },
     "metadata": {
      "scrapbook": {
       "data": true,
       "display": false,
       "name": "Prior Model MSE"
      }
     },
     "output_type": "display_data"
    },
    {
     "data": {
      "application/scrapbook.scrap.json+json": {
       "data": 0.6721372015238914,
       "encoder": "json",
       "name": "ABC Pre-generator MSE",
       "version": 1
      }
     },
     "metadata": {
      "scrapbook": {
       "data": true,
       "display": false,
       "name": "ABC Pre-generator MSE"
      }
     },
     "output_type": "display_data"
    }
   ],
   "source": [
    "y_pred = prior_model.predict(X_test)\n",
    "y_abc = y_pred + np.random.normal(0,variance, y_pred.shape) + bias \n",
    "mse = mean_squared_error(y_pred,Y_test)\n",
    "sb.glue(\"Prior Model MSE\",mse)\n",
    "mse = mean_squared_error(y_abc,Y_test)\n",
    "sb.glue(\"ABC Pre-generator MSE\",mse)\n",
    "mae = mean_absolute_error(y_pred,Y_test)\n",
    "sb.glue(\"Prior Model MSE\",mae)\n",
    "mae = mean_absolute_error(y_abc,Y_test)\n",
    "sb.glue(\"ABC Pre-generator MSE\",mae)"
   ]
  },
  {
   "cell_type": "markdown",
   "id": "25609da2",
   "metadata": {
    "papermill": {
     "duration": 0.045965,
     "end_time": "2022-06-22T13:22:33.942108",
     "exception": false,
     "start_time": "2022-06-22T13:22:33.896143",
     "status": "completed"
    },
    "tags": []
   },
   "source": [
    "# ABC GAN Model"
   ]
  },
  {
   "cell_type": "code",
   "execution_count": 11,
   "id": "dfc3464d",
   "metadata": {
    "execution": {
     "iopub.execute_input": "2022-06-22T13:22:34.036995Z",
     "iopub.status.busy": "2022-06-22T13:22:34.035423Z",
     "iopub.status.idle": "2022-06-22T13:22:34.039710Z",
     "shell.execute_reply": "2022-06-22T13:22:34.040389Z"
    },
    "papermill": {
     "duration": 0.055564,
     "end_time": "2022-06-22T13:22:34.040647",
     "exception": false,
     "start_time": "2022-06-22T13:22:33.985083",
     "status": "completed"
    },
    "tags": []
   },
   "outputs": [],
   "source": [
    "gen = network.Generator(n_features+1).to(device)\n",
    "disc = network.Discriminator(n_features+1).to(device)\n",
    "\n",
    "criterion = torch.nn.BCELoss()\n",
    "gen_opt = torch.optim.Adam(gen.parameters(), lr=0.001, betas=(0.5, 0.999))\n",
    "disc_opt = torch.optim.Adam(disc.parameters(), lr=0.001, betas=(0.5, 0.999))"
   ]
  },
  {
   "cell_type": "code",
   "execution_count": 12,
   "id": "b75fdd85",
   "metadata": {
    "execution": {
     "iopub.execute_input": "2022-06-22T13:22:34.135007Z",
     "iopub.status.busy": "2022-06-22T13:22:34.134230Z",
     "iopub.status.idle": "2022-06-22T13:23:29.555539Z",
     "shell.execute_reply": "2022-06-22T13:23:29.556382Z"
    },
    "papermill": {
     "duration": 55.473663,
     "end_time": "2022-06-22T13:23:29.556616",
     "exception": false,
     "start_time": "2022-06-22T13:22:34.082953",
     "status": "completed"
    },
    "tags": []
   },
   "outputs": [
    {
     "data": {
      "image/png": "[encoded data removed]",
      "text/plain": [
       "<Figure size 432x288 with 1 Axes>"
      ]
     },
     "metadata": {
      "needs_background": "light"
     },
     "output_type": "display_data"
    },
    {
     "data": {
      "image/png": "[encoded data removed]",
      "text/plain": [
       "<Figure size 432x288 with 1 Axes>"
      ]
     },
     "metadata": {
      "needs_background": "light"
     },
     "output_type": "display_data"
    }
   ],
   "source": [
    "#Training the ABC_GAN \n",
    "ABC_train_test2.training_GAN(disc,gen,disc_opt,gen_opt,train_data,batch_size,n_epochs,criterion,prior_model,variance,bias,device)"
   ]
  },
  {
   "cell_type": "code",
   "execution_count": 13,
   "id": "1fa7c368",
   "metadata": {
    "execution": {
     "iopub.execute_input": "2022-06-22T13:23:29.663662Z",
     "iopub.status.busy": "2022-06-22T13:23:29.662332Z",
     "iopub.status.idle": "2022-06-22T13:23:30.504762Z",
     "shell.execute_reply": "2022-06-22T13:23:30.505805Z"
    },
    "papermill": {
     "duration": 0.899009,
     "end_time": "2022-06-22T13:23:30.506157",
     "exception": false,
     "start_time": "2022-06-22T13:23:29.607148",
     "status": "completed"
    },
    "tags": []
   },
   "outputs": [
    {
     "data": {
      "application/scrapbook.scrap.json+json": {
       "data": 0.14369863066025398,
       "encoder": "json",
       "name": "ABC-GAN Model 1 MSE",
       "version": 1
      }
     },
     "metadata": {
      "scrapbook": {
       "data": true,
       "display": false,
       "name": "ABC-GAN Model 1 MSE"
      }
     },
     "output_type": "display_data"
    },
    {
     "data": {
      "application/scrapbook.scrap.json+json": {
       "data": 0.33373844080790876,
       "encoder": "json",
       "name": "ABC-GAN Model 1 MAE",
       "version": 1
      }
     },
     "metadata": {
      "scrapbook": {
       "data": true,
       "display": false,
       "name": "ABC-GAN Model 1 MAE"
      }
     },
     "output_type": "display_data"
    },
    {
     "data": {
      "application/scrapbook.scrap.json+json": {
       "data": 6.674768816158175,
       "encoder": "json",
       "name": "ABC-GAN Model 1 Manhattan Distance",
       "version": 1
      }
     },
     "metadata": {
      "scrapbook": {
       "data": true,
       "display": false,
       "name": "ABC-GAN Model 1 Manhattan Distance"
      }
     },
     "output_type": "display_data"
    },
    {
     "data": {
      "application/scrapbook.scrap.json+json": {
       "data": 1.694466640422686,
       "encoder": "json",
       "name": "ABC-GAN Model 1 Euclidean distance",
       "version": 1
      }
     },
     "metadata": {
      "scrapbook": {
       "data": true,
       "display": false,
       "name": "ABC-GAN Model 1 Euclidean distance"
      }
     },
     "output_type": "display_data"
    },
    {
     "data": {
      "application/scrapbook.scrap.json+json": {
       "data": [
        [
         0.15246471100049297,
         0.15112163629869813,
         0.14116373445476524,
         0.13694201066527,
         0.15010294754680706,
         0.13951425512776675,
         0.16207661163510315,
         0.13515928578491002,
         0.15410205375392008,
         0.15064155642375526,
         0.16139275350796048,
         0.1391436135985647,
         0.14094304323216936,
         0.14589270870637697,
         0.14520211368121122,
         0.1560682081762939,
         0.14125544530375256,
         0.14719928594232604,
         0.1369613504399643,
         0.1417396546942602,
         0.13981589186540358,
         0.14816070949189025,
         0.13076550526252068,
         0.1438930530266783,
         0.15953138635696412,
         0.15901270243750704,
         0.16966110064810538,
         0.14095911870689054,
         0.15502284053537038,
         0.14841053886678007,
         0.1438501773845378,
         0.14398878699459666,
         0.13847683928756963,
         0.14844049606274176,
         0.13692950065984447,
         0.14217884020602806,
         0.13002510924154864,
         0.12756047703525225,
         0.14684286501507898,
         0.15026741237101757,
         0.1600873987693692,
         0.15637875336499604,
         0.1301370752488274,
         0.13414400892361536,
         0.15472773062397108,
         0.15513789152480278,
         0.13291699861807582,
         0.1419681623110613,
         0.14480811256271456,
         0.13720925572873913,
         0.13861339040816478,
         0.14439838402486926,
         0.13340543273628266,
         0.130123025541058,
         0.1356123106631785,
         0.12896025147241857,
         0.15235801034711155,
         0.1377651486832764,
         0.15641899151801067,
         0.13914004089154947,
         0.14467466901723816,
         0.14465250998903784,
         0.14265821820534555,
         0.12378606975168312,
         0.12644800865696065,
         0.1425051499870913,
         0.13904901004533174,
         0.1392505930624192,
         0.15404746827508595,
         0.14128700046759302,
         0.137166954564877,
         0.15597638406143988,
         0.15419872638762605,
         0.14356480645097008,
         0.14446806929250283,
         0.14923910193095963,
         0.1409434199783135,
         0.13663861453722567,
         0.13704133390327994,
         0.14759149754495443,
         0.14019489350829106,
         0.154629794308641,
         0.16449314095531062,
         0.13380658421795483,
         0.14176789426432548,
         0.14360555661157148,
         0.1351646772065068,
         0.1455004392642929,
         0.1503545486347584,
         0.14726852016305955,
         0.13917848932048366,
         0.1323606418424061,
         0.14025472223847263,
         0.14015934552704742,
         0.13922130659237758,
         0.14074621713841132,
         0.13459716227819823,
         0.1486281028113153,
         0.13697130599152035,
         0.13858141164773213
        ],
        [
         0.3388720087707043,
         0.3437452748417854,
         0.3309517800807953,
         0.32404974158853295,
         0.33688355311751367,
         0.33817553855478766,
         0.35410037022083996,
         0.3201968640089035,
         0.34495107978582384,
         0.3332191979512572,
         0.3558982715010643,
         0.3270529069006443,
         0.3194548137485981,
         0.33244893476367,
         0.33286026790738105,
         0.34386833645403386,
         0.3225464463233948,
         0.34182603657245636,
         0.32832138873636724,
         0.3243215125054121,
         0.325755356810987,
         0.3408254349604249,
         0.3198981674388051,
         0.3387585304677486,
         0.3494279120117426,
         0.36402017790824176,
         0.363690984249115,
         0.338513296097517,
         0.336973924189806,
         0.3362112153321505,
         0.3402163028717041,
         0.3333795290440321,
         0.3250188745558262,
         0.3446460336446762,
         0.32109396159648895,
         0.3252879438921809,
         0.31241467893123626,
         0.32031735852360727,
         0.34354741126298904,
         0.3398241214454174,
         0.3430617513135076,
         0.3391410533338785,
         0.3200190424919128,
         0.318943776935339,
         0.3526629116386175,
         0.34738044887781144,
         0.3272939532995224,
         0.33687849044799806,
         0.3371689151972532,
         0.3188395284116268,
         0.3251023843884468,
         0.3434178190305829,
         0.31868642531335356,
         0.3147508041933179,
         0.3286579497158527,
         0.312698232755065,
         0.34344216994941235,
         0.3261014262214303,
         0.35412949938327076,
         0.3358748693019152,
         0.3238250859081745,
         0.34590287432074546,
         0.33431798182427885,
         0.3101575613021851,
         0.31458321288228036,
         0.33873893693089485,
         0.32922547347843645,
         0.3311579111963511,
         0.34549817703664304,
         0.33401088751852515,
         0.3177804633975029,
         0.35450094752013683,
         0.3438543163239956,
         0.33981771282851697,
         0.3314984332770109,
         0.3399533100426197,
         0.3274329099804163,
         0.33465397767722604,
         0.3339861948043108,
         0.33646323531866074,
         0.327341940626502,
         0.3484291654080153,
         0.3594693155959249,
         0.3259557619690895,
         0.33722577691078187,
         0.3329058863222599,
         0.32048402447253466,
         0.32813874930143355,
         0.34635575152933595,
         0.3469122420996428,
         0.32882124483585357,
         0.3203714221715927,
         0.3215563528239727,
         0.3120402075350285,
         0.3301568264141679,
         0.33302259147167207,
         0.3289428949356079,
         0.33824901171028615,
         0.3318786919116974,
         0.33040962740778923
        ],
        [
         6.777440175414085,
         6.874905496835709,
         6.619035601615906,
         6.4809948317706585,
         6.737671062350273,
         6.763510771095753,
         7.0820074044167995,
         6.40393728017807,
         6.899021595716476,
         6.664383959025145,
         7.117965430021286,
         6.541058138012886,
         6.389096274971962,
         6.648978695273399,
         6.657205358147621,
         6.877366729080677,
         6.4509289264678955,
         6.836520731449127,
         6.5664277747273445,
         6.486430250108242,
         6.51510713621974,
         6.816508699208498,
         6.397963348776102,
         6.775170609354973,
         6.988558240234852,
         7.280403558164835,
         7.2738196849823,
         6.77026592195034,
         6.73947848379612,
         6.724224306643009,
         6.804326057434082,
         6.667590580880642,
         6.500377491116524,
         6.892920672893524,
         6.421879231929779,
         6.505758877843618,
         6.248293578624725,
         6.406347170472145,
         6.870948225259781,
         6.796482428908348,
         6.861235026270151,
         6.78282106667757,
         6.400380849838257,
         6.3788755387067795,
         7.05325823277235,
         6.947608977556229,
         6.545879065990448,
         6.737569808959961,
         6.7433783039450645,
         6.376790568232536,
         6.502047687768936,
         6.868356380611658,
         6.373728506267071,
         6.295016083866358,
         6.573158994317055,
         6.253964655101299,
         6.868843398988247,
         6.522028524428606,
         7.082589987665415,
         6.717497386038303,
         6.47650171816349,
         6.918057486414909,
         6.686359636485577,
         6.203151226043701,
         6.291664257645607,
         6.774778738617897,
         6.584509469568729,
         6.623158223927021,
         6.909963540732861,
         6.6802177503705025,
         6.355609267950058,
         7.090018950402737,
         6.877086326479912,
         6.796354256570339,
         6.629968665540218,
         6.799066200852394,
         6.548658199608326,
         6.693079553544521,
         6.679723896086216,
         6.729264706373215,
         6.546838812530041,
         6.968583308160305,
         7.189386311918497,
         6.51911523938179,
         6.744515538215637,
         6.658117726445198,
         6.409680489450693,
         6.562774986028671,
         6.9271150305867195,
         6.938244841992855,
         6.5764248967170715,
         6.407428443431854,
         6.431127056479454,
         6.240804150700569,
         6.603136528283358,
         6.660451829433441,
         6.578857898712158,
         6.764980234205723,
         6.637573838233948,
         6.608192548155785
        ],
        [
         1.7462228437429914,
         1.7385145170443537,
         1.6802603039693893,
         1.6549441722624363,
         1.7326450735612708,
         1.670414649886469,
         1.8004255698867597,
         1.6441367691582718,
         1.7555742864027148,
         1.735750883184308,
         1.7966232410161038,
         1.6681943148120646,
         1.6789463554990038,
         1.7081727588647289,
         1.704125075698443,
         1.766738283823011,
         1.6808060286883346,
         1.7158046855182907,
         1.6550610287234988,
         1.6836843807214,
         1.6722194345563837,
         1.7213989049136185,
         1.6171920434043736,
         1.6964259667116528,
         1.7862328311671136,
         1.7833266803225203,
         1.84207003476038,
         1.6790421001683702,
         1.7608114069108614,
         1.7228496096106594,
         1.6961732068661959,
         1.6969902002934292,
         1.6641925326570217,
         1.72302348250244,
         1.6548685788294155,
         1.686290842091174,
         1.6126072630467012,
         1.5972506192532985,
         1.713726145071487,
         1.7335940261261722,
         1.7893428892717527,
         1.7684951420063106,
         1.6133014302902442,
         1.6379499926653156,
         1.7591346203401892,
         1.7614646832951422,
         1.6304416494807523,
         1.685041022118223,
         1.7018114617237396,
         1.6565582134578858,
         1.6650128552546661,
         1.699402153846283,
         1.6334346190544797,
         1.6132143412520112,
         1.646889860696085,
         1.6059903578316936,
         1.7456116999327862,
         1.6599105318255944,
         1.7687226550141242,
         1.6681728980627246,
         1.7010271544995286,
         1.7008968809956577,
         1.6891312453764245,
         1.5734425299430743,
         1.5902704716931686,
         1.6882248072285355,
         1.6676271168659482,
         1.668835480581709,
         1.7552633322387041,
         1.6809937564880664,
         1.656302838039451,
         1.7662184692808525,
         1.7561248610940285,
         1.6944899318141142,
         1.6998121619314461,
         1.7276521752422251,
         1.6789485994414093,
         1.6531098846551349,
         1.6555442241346494,
         1.7180890404455436,
         1.6744843594867709,
         1.7585778021380856,
         1.8137978991900428,
         1.6358886527997853,
         1.6838520972123736,
         1.6947304010465587,
         1.6441695606384812,
         1.705874785934143,
         1.7340965868991172,
         1.716208146834524,
         1.668403364420509,
         1.6270257640394394,
         1.6748416178162797,
         1.6742720539210312,
         1.6686599808971123,
         1.6777736267948147,
         1.640714248601494,
         1.7241119616272913,
         1.6551211798023755,
         1.664820781031593
        ]
       ],
       "encoder": "json",
       "name": "ABC_GAN_1 Metrics",
       "version": 1
      }
     },
     "metadata": {
      "scrapbook": {
       "data": true,
       "display": false,
       "name": "ABC_GAN_1 Metrics"
      }
     },
     "output_type": "display_data"
    },
    {
     "name": "stdout",
     "output_type": "stream",
     "text": [
      "MSE\n",
      "0.14369863066025398\n"
     ]
    }
   ],
   "source": [
    "ABC_GAN1_metrics=ABC_train_test2.test_generator(gen,test_data,prior_model,variance,bias,\"1\",device)\n",
    "sb.glue(\"ABC_GAN_1 Metrics\",ABC_GAN1_metrics)\n",
    "\n",
    "print(\"MSE\")\n",
    "print(mean(ABC_GAN1_metrics[0]))"
   ]
  },
  {
   "cell_type": "code",
   "execution_count": 14,
   "id": "eb22ce5c",
   "metadata": {
    "execution": {
     "iopub.execute_input": "2022-06-22T13:23:30.707795Z",
     "iopub.status.busy": "2022-06-22T13:23:30.705752Z",
     "iopub.status.idle": "2022-06-22T13:23:31.772391Z",
     "shell.execute_reply": "2022-06-22T13:23:31.772977Z"
    },
    "papermill": {
     "duration": 1.197083,
     "end_time": "2022-06-22T13:23:31.773261",
     "exception": false,
     "start_time": "2022-06-22T13:23:30.576178",
     "status": "completed"
    },
    "tags": []
   },
   "outputs": [
    {
     "data": {
      "image/png": "[encoded data removed]",
      "text/plain": [
       "<Figure size 432x288 with 1 Axes>"
      ]
     },
     "metadata": {
      "needs_background": "light"
     },
     "output_type": "display_data"
    },
    {
     "data": {
      "image/png": "[encoded data removed]",
      "text/plain": [
       "<Figure size 432x288 with 1 Axes>"
      ]
     },
     "metadata": {
      "needs_background": "light"
     },
     "output_type": "display_data"
    },
    {
     "data": {
      "image/png": "[encoded data removed]",
      "text/plain": [
       "<Figure size 432x288 with 1 Axes>"
      ]
     },
     "metadata": {
      "needs_background": "light"
     },
     "output_type": "display_data"
    },
    {
     "data": {
      "image/png": "[encoded data removed]",
      "text/plain": [
       "<Figure size 432x288 with 1 Axes>"
      ]
     },
     "metadata": {
      "needs_background": "light"
     },
     "output_type": "display_data"
    }
   ],
   "source": [
    "sanityChecks.discProbVsError(train_data,disc,device)\n",
    "sanityChecks.discProbVsError(test_data,disc,device)"
   ]
  },
  {
   "cell_type": "markdown",
   "id": "130f3a4d",
   "metadata": {
    "id": "130f3a4d",
    "papermill": {
     "duration": 0.057157,
     "end_time": "2022-06-22T13:23:31.898007",
     "exception": false,
     "start_time": "2022-06-22T13:23:31.840850",
     "status": "completed"
    },
    "tags": []
   },
   "source": [
    "# ABC - GAN Model with skip connection"
   ]
  },
  {
   "cell_type": "code",
   "execution_count": 15,
   "id": "4e43dad1",
   "metadata": {
    "execution": {
     "iopub.execute_input": "2022-06-22T13:23:32.036032Z",
     "iopub.status.busy": "2022-06-22T13:23:32.034574Z",
     "iopub.status.idle": "2022-06-22T13:23:32.038746Z",
     "shell.execute_reply": "2022-06-22T13:23:32.039300Z"
    },
    "id": "4e43dad1",
    "papermill": {
     "duration": 0.085746,
     "end_time": "2022-06-22T13:23:32.039528",
     "exception": false,
     "start_time": "2022-06-22T13:23:31.953782",
     "status": "completed"
    },
    "tags": []
   },
   "outputs": [],
   "source": [
    "#Generator\n",
    "gen3 = network.GeneratorWithSkipConnection(n_features+1).to(device)\n",
    "constraints=network.weightConstraint()\n",
    "#Discriminator \n",
    "disc3 = network.Discriminator(n_features+1).to(device)\n",
    "\n",
    "criterion = torch.nn.BCELoss()\n",
    "gen_opt = torch.optim.Adam(gen3.parameters(), lr=0.001, betas=(0.5, 0.999))\n",
    "disc_opt = torch.optim.Adam(disc3.parameters(), lr=0.001, betas=(0.5, 0.999))\n"
   ]
  },
  {
   "cell_type": "code",
   "execution_count": 16,
   "id": "26acbc37",
   "metadata": {
    "execution": {
     "iopub.execute_input": "2022-06-22T13:23:32.177359Z",
     "iopub.status.busy": "2022-06-22T13:23:32.175524Z",
     "iopub.status.idle": "2022-06-22T13:24:58.770576Z",
     "shell.execute_reply": "2022-06-22T13:24:58.771546Z"
    },
    "id": "26acbc37",
    "papermill": {
     "duration": 86.667759,
     "end_time": "2022-06-22T13:24:58.771835",
     "exception": false,
     "start_time": "2022-06-22T13:23:32.104076",
     "status": "completed"
    },
    "tags": []
   },
   "outputs": [
    {
     "data": {
      "image/png": "[encoded data removed]",
      "text/plain": [
       "<Figure size 432x288 with 1 Axes>"
      ]
     },
     "metadata": {
      "needs_background": "light"
     },
     "output_type": "display_data"
    },
    {
     "data": {
      "image/png": "[encoded data removed]",
      "text/plain": [
       "<Figure size 432x288 with 1 Axes>"
      ]
     },
     "metadata": {
      "needs_background": "light"
     },
     "output_type": "display_data"
    }
   ],
   "source": [
    "ABC_train_test2.training_GAN_skip_connection(disc3,gen3,disc_opt,gen_opt,train_data,batch_size,n_epochs,criterion,prior_model,variance,bias,device)"
   ]
  },
  {
   "cell_type": "code",
   "execution_count": 17,
   "id": "c5e0717b",
   "metadata": {
    "execution": {
     "iopub.execute_input": "2022-06-22T13:24:58.918204Z",
     "iopub.status.busy": "2022-06-22T13:24:58.916419Z",
     "iopub.status.idle": "2022-06-22T13:25:00.067614Z",
     "shell.execute_reply": "2022-06-22T13:25:00.068275Z"
    },
    "id": "c5e0717b",
    "papermill": {
     "duration": 1.235575,
     "end_time": "2022-06-22T13:25:00.068504",
     "exception": false,
     "start_time": "2022-06-22T13:24:58.832929",
     "status": "completed"
    },
    "tags": []
   },
   "outputs": [
    {
     "data": {
      "application/scrapbook.scrap.json+json": {
       "data": 0.21677900179271103,
       "encoder": "json",
       "name": "ABC-GAN Model 3 MSE",
       "version": 1
      }
     },
     "metadata": {
      "scrapbook": {
       "data": true,
       "display": false,
       "name": "ABC-GAN Model 3 MSE"
      }
     },
     "output_type": "display_data"
    },
    {
     "data": {
      "application/scrapbook.scrap.json+json": {
       "data": 0.3877414670321159,
       "encoder": "json",
       "name": "ABC-GAN Model 3 MAE",
       "version": 1
      }
     },
     "metadata": {
      "scrapbook": {
       "data": true,
       "display": false,
       "name": "ABC-GAN Model 3 MAE"
      }
     },
     "output_type": "display_data"
    },
    {
     "data": {
      "application/scrapbook.scrap.json+json": {
       "data": 7.754829340642318,
       "encoder": "json",
       "name": "ABC-GAN Model 3 Manhattan Distance",
       "version": 1
      }
     },
     "metadata": {
      "scrapbook": {
       "data": true,
       "display": false,
       "name": "ABC-GAN Model 3 Manhattan Distance"
      }
     },
     "output_type": "display_data"
    },
    {
     "data": {
      "application/scrapbook.scrap.json+json": {
       "data": 2.081558817866116,
       "encoder": "json",
       "name": "ABC-GAN Model 3 Euclidean distance",
       "version": 1
      }
     },
     "metadata": {
      "scrapbook": {
       "data": true,
       "display": false,
       "name": "ABC-GAN Model 3 Euclidean distance"
      }
     },
     "output_type": "display_data"
    },
    {
     "data": {
      "application/scrapbook.scrap.json+json": {
       "data": [
        [
         0.22670441192914897,
         0.2163453976040775,
         0.21888073055472632,
         0.21760008202860198,
         0.20567524183785274,
         0.23716093504852984,
         0.24047101622808542,
         0.21901183034119626,
         0.18280201559927542,
         0.2063594733650162,
         0.21619686383145917,
         0.21269442576846848,
         0.2122059106102462,
         0.22165885436649332,
         0.2112534411949812,
         0.210570427882542,
         0.21318433798648112,
         0.2302037332346071,
         0.21212698367976945,
         0.2149805448783999,
         0.21310445005987244,
         0.20653167127378785,
         0.21033920488860716,
         0.22645725328447935,
         0.21649625440384854,
         0.22690334795166595,
         0.21776230125609505,
         0.2105471924209032,
         0.20401631814006743,
         0.21820490205695792,
         0.21556214613904098,
         0.19530326455007058,
         0.23045426440528063,
         0.22294327766470703,
         0.24093874270383356,
         0.22690118573190218,
         0.23167806227132748,
         0.2307809304011849,
         0.22286657899518203,
         0.23397934651308225,
         0.22386159824791166,
         0.2231507495826679,
         0.20594522512262473,
         0.21397156409603096,
         0.21611775530501226,
         0.22221117904189697,
         0.21065648054592218,
         0.21678621113881547,
         0.2057084912047326,
         0.20639365473973292,
         0.21936744930234595,
         0.20637031410789705,
         0.21072517940467145,
         0.21185583208844486,
         0.22093752503891703,
         0.21420898863933724,
         0.22693217557465126,
         0.19139261042140981,
         0.20288522225762667,
         0.23239104100190638,
         0.23562717893893298,
         0.22199719083220093,
         0.20811647412923734,
         0.22040302953858829,
         0.2268674997870856,
         0.21645803867373625,
         0.20941401504732787,
         0.22626111495141243,
         0.22528884901856058,
         0.19790997788740303,
         0.2296637280488545,
         0.20914639745632066,
         0.22969012141904482,
         0.20787236562112135,
         0.21544238970766946,
         0.21817376679158212,
         0.21834918806527165,
         0.22532294260043403,
         0.23772318785107122,
         0.21325386245511968,
         0.21316333932895457,
         0.22243463310751502,
         0.19763152787120455,
         0.1993569350673683,
         0.2110633297371955,
         0.19206045163847205,
         0.20994427123743833,
         0.20718810333194626,
         0.2172825003096524,
         0.22481589198459573,
         0.2144133693057504,
         0.22133977414974254,
         0.22414410412391925,
         0.20755405979149827,
         0.21702640597098438,
         0.2282583551651352,
         0.21834935684233042,
         0.20866816044841693,
         0.22629927332832275,
         0.21419841776527596
        ],
        [
         0.39719503875821827,
         0.39103229995816946,
         0.3903662901371717,
         0.388790294341743,
         0.36916858665645125,
         0.4165704296901822,
         0.406369923427701,
         0.390691860858351,
         0.36603525932878256,
         0.37658458538353445,
         0.390082576777786,
         0.3883822951465845,
         0.3938710389658809,
         0.39570388942956924,
         0.3749627396464348,
         0.3858182612806559,
         0.38731557596474886,
         0.3890174949541688,
         0.38803530000150205,
         0.3836856625974178,
         0.38783919643610715,
         0.37586096301674843,
         0.38705612113699317,
         0.38788889776915314,
         0.3769010052084923,
         0.3957121254876256,
         0.39243451952934266,
         0.38833772307261827,
         0.38260224340483545,
         0.38312516566365956,
         0.3922411039471626,
         0.37626583091914656,
         0.40053718686103823,
         0.38584261331707237,
         0.4142330463975668,
         0.4020369086414576,
         0.3976683974266052,
         0.393857167288661,
         0.3928477032110095,
         0.39347036546096203,
         0.39501942321658134,
         0.3983350142836571,
         0.38173166699707506,
         0.38554851887747643,
         0.391211514826864,
         0.394147858209908,
         0.3868818383663893,
         0.38481801804155114,
         0.3659031497314572,
         0.39074604539200664,
         0.3920343343168497,
         0.3652211170643568,
         0.38106419816613196,
         0.3908064258284867,
         0.3989972183480859,
         0.3916212942451239,
         0.4099481347948313,
         0.37775920853018763,
         0.37189119644463065,
         0.39342369940131905,
         0.39708672389388083,
         0.38737985929474233,
         0.3710247242823243,
         0.3839962430298328,
         0.40265688914805653,
         0.3790576446801424,
         0.3810239164158702,
         0.3973357032984495,
         0.39718657853081824,
         0.3780867479741573,
         0.4072736556641757,
         0.3763228844851255,
         0.40482164062559606,
         0.37112376280128956,
         0.38237304911017417,
         0.39444877454079685,
         0.38474671728909016,
         0.39737706137821077,
         0.4089644480496645,
         0.37469776198267934,
         0.3974862676113844,
         0.38668110184371474,
         0.3674965871497989,
         0.3638740062713623,
         0.37947361432015897,
         0.3606840966269374,
         0.38110678251832725,
         0.3740863407030702,
         0.38416284173727033,
         0.40091754160821436,
         0.38994177132844926,
         0.38799833655357363,
         0.40389488758519293,
         0.37108797095716,
         0.3809693481773138,
         0.3952735120430589,
         0.3916563894599676,
         0.3708061657845974,
         0.3878395600244403,
         0.3981772318482399
        ],
        [
         7.943900775164366,
         7.820645999163389,
         7.807325802743435,
         7.77580588683486,
         7.3833717331290245,
         8.331408593803644,
         8.12739846855402,
         7.81383721716702,
         7.320705186575651,
         7.531691707670689,
         7.80165153555572,
         7.76764590293169,
         7.877420779317617,
         7.914077788591385,
         7.499254792928696,
         7.716365225613117,
         7.746311519294977,
         7.780349899083376,
         7.760706000030041,
         7.673713251948357,
         7.756783928722143,
         7.517219260334969,
         7.741122422739863,
         7.757777955383062,
         7.538020104169846,
         7.914242509752512,
         7.848690390586853,
         7.766754461452365,
         7.652044868096709,
         7.6625033132731915,
         7.844822078943253,
         7.525316618382931,
         8.010743737220764,
         7.716852266341448,
         8.284660927951336,
         8.040738172829151,
         7.9533679485321045,
         7.87714334577322,
         7.85695406422019,
         7.869407309219241,
         7.900388464331627,
         7.9667002856731415,
         7.634633339941502,
         7.710970377549529,
         7.82423029653728,
         7.88295716419816,
         7.7376367673277855,
         7.696360360831022,
         7.318062994629145,
         7.814920907840133,
         7.840686686336994,
         7.304422341287136,
         7.6212839633226395,
         7.816128516569734,
         7.979944366961718,
         7.832425884902477,
         8.198962695896626,
         7.555184170603752,
         7.4378239288926125,
         7.8684739880263805,
         7.941734477877617,
         7.747597185894847,
         7.420494485646486,
         7.679924860596657,
         8.05313778296113,
         7.581152893602848,
         7.620478328317404,
         7.94671406596899,
         7.9437315706163645,
         7.561734959483147,
         8.145473113283515,
         7.526457689702511,
         8.096432812511921,
         7.422475256025791,
         7.647460982203484,
         7.8889754908159375,
         7.694934345781803,
         7.947541227564216,
         8.17928896099329,
         7.493955239653587,
         7.949725352227688,
         7.733622036874294,
         7.349931742995977,
         7.277480125427246,
         7.589472286403179,
         7.213681932538748,
         7.622135650366545,
         7.481726814061403,
         7.683256834745407,
         8.018350832164288,
         7.798835426568985,
         7.759966731071472,
         8.077897751703858,
         7.4217594191432,
         7.619386963546276,
         7.9054702408611774,
         7.833127789199352,
         7.416123315691948,
         7.756791200488806,
         7.963544636964798
        ],
        [
         2.129339859811716,
         2.0801221002819883,
         2.0922749845788737,
         2.0861451628714716,
         2.0281777133074543,
         2.177893179421478,
         2.193039061339699,
         2.09290148043904,
         1.9120774858738097,
         2.0315485392429893,
         2.0794079149193365,
         2.0624957006911235,
         2.060125775821691,
         2.105511122585171,
         2.055497220601289,
         2.052171668660017,
         2.0648696713666026,
         2.1457107597931606,
         2.059742623143821,
         2.073550312282776,
         2.064482744223707,
         2.0323959814651666,
         2.051044635733738,
         2.128178814312742,
         2.080847204404247,
         2.130273916432654,
         2.0869226207796734,
         2.052058441764772,
         2.0199817728883964,
         2.0890423741846784,
         2.0763532750427656,
         1.9763768089616442,
         2.1468780328899943,
         2.111602603070507,
         2.1951708029391863,
         2.130263766447255,
         2.1525708456231003,
         2.1483990802510826,
         2.111239346901161,
         2.1632352923946216,
         2.115947061000873,
         2.1125849075607253,
         2.0295084386255935,
         2.0686786318615606,
         2.079027442363435,
         2.108132723724467,
         2.0525909507055817,
         2.082240193343772,
         2.0283416438299176,
         2.0317167850846385,
         2.0945999584758233,
         2.031601900510516,
         2.0529256167950725,
         2.0584257678548665,
         2.1020824200726147,
         2.069826024763131,
         2.1304092356852533,
         1.9564897670134123,
         2.014374455048647,
         2.155880520816988,
         2.1708393719431798,
         2.1071174188079835,
         2.040178786916663,
         2.0995381851187576,
         2.130105630184032,
         2.080663541631545,
         2.0465288419532612,
         2.1272569894181212,
         2.1226815541600232,
         1.9895224446454631,
         2.143192609397739,
         2.0452207580421273,
         2.1433157556414537,
         2.038981930381539,
         2.0757764316403122,
         2.088893328016451,
         2.0897329401876767,
         2.122842163706167,
         2.1804732873900163,
         2.065206345405319,
         2.0647679740297917,
         2.109192419422728,
         1.9881223698314174,
         1.9967820865951713,
         2.054572119625863,
         1.9599002609238667,
         2.0491182066315177,
         2.0356232624527864,
         2.0846222694274967,
         2.120452272439046,
         2.0708132185484542,
         2.1039951242801993,
         2.1172817673796716,
         2.037420230544,
         2.0833934144610535,
         2.1366251667764993,
         2.089733747836458,
         2.0428811049516167,
         2.127436360168373,
         2.0697749528162523
        ]
       ],
       "encoder": "json",
       "name": "ABC_GAN_3 Metrics",
       "version": 1
      }
     },
     "metadata": {
      "scrapbook": {
       "data": true,
       "display": false,
       "name": "ABC_GAN_3 Metrics"
      }
     },
     "output_type": "display_data"
    },
    {
     "name": "stdout",
     "output_type": "stream",
     "text": [
      "MSE\n",
      "0.21677900179271103\n"
     ]
    }
   ],
   "source": [
    "ABC_GAN3_metrics=ABC_train_test2.test_generator(gen3,test_data,prior_model,variance,bias,\"3\",device)\n",
    "sb.glue(\"ABC_GAN_3 Metrics\",ABC_GAN3_metrics)\n",
    "\n",
    "print(\"MSE\")\n",
    "print(mean(ABC_GAN3_metrics[0]))"
   ]
  },
  {
   "cell_type": "code",
   "execution_count": 18,
   "id": "c8e46b48",
   "metadata": {
    "execution": {
     "iopub.execute_input": "2022-06-22T13:25:00.206551Z",
     "iopub.status.busy": "2022-06-22T13:25:00.205477Z",
     "iopub.status.idle": "2022-06-22T13:25:01.111451Z",
     "shell.execute_reply": "2022-06-22T13:25:01.111912Z"
    },
    "id": "c8e46b48",
    "papermill": {
     "duration": 0.978846,
     "end_time": "2022-06-22T13:25:01.112129",
     "exception": false,
     "start_time": "2022-06-22T13:25:00.133283",
     "status": "completed"
    },
    "tags": []
   },
   "outputs": [
    {
     "data": {
      "image/png": "[encoded data removed]",
      "text/plain": [
       "<Figure size 432x288 with 1 Axes>"
      ]
     },
     "metadata": {
      "needs_background": "light"
     },
     "output_type": "display_data"
    },
    {
     "data": {
      "image/png": "[encoded data removed]",
      "text/plain": [
       "<Figure size 432x288 with 1 Axes>"
      ]
     },
     "metadata": {
      "needs_background": "light"
     },
     "output_type": "display_data"
    },
    {
     "data": {
      "image/png": "[encoded data removed]",
      "text/plain": [
       "<Figure size 432x288 with 1 Axes>"
      ]
     },
     "metadata": {
      "needs_background": "light"
     },
     "output_type": "display_data"
    },
    {
     "data": {
      "image/png": "[encoded data removed]",
      "text/plain": [
       "<Figure size 432x288 with 1 Axes>"
      ]
     },
     "metadata": {
      "needs_background": "light"
     },
     "output_type": "display_data"
    }
   ],
   "source": [
    "sanityChecks.discProbVsError(train_data,disc3,device)\n",
    "sanityChecks.discProbVsError(test_data,disc3,device)"
   ]
  },
  {
   "cell_type": "markdown",
   "id": "a5bd74c3",
   "metadata": {
    "id": "a5bd74c3",
    "papermill": {
     "duration": 0.086279,
     "end_time": "2022-06-22T13:25:01.288258",
     "exception": false,
     "start_time": "2022-06-22T13:25:01.201979",
     "status": "completed"
    },
    "tags": []
   },
   "source": [
    "## Skip Connection Model Analysis - ABC-GAN "
   ]
  },
  {
   "cell_type": "markdown",
   "id": "5744a8bf",
   "metadata": {
    "id": "5744a8bf",
    "papermill": {
     "duration": 0.090874,
     "end_time": "2022-06-22T13:25:01.444352",
     "exception": false,
     "start_time": "2022-06-22T13:25:01.353478",
     "status": "completed"
    },
    "tags": []
   },
   "source": [
    "### Weight Analysis \n",
    "\n",
    "Study the weights of the skip connection layer\n",
    "\n",
    "Equation of the skip connection is \n",
    "\n",
    "$output = y_{gan} * w + y_{abc} * (1-w)$"
   ]
  },
  {
   "cell_type": "code",
   "execution_count": 19,
   "id": "52c31dea",
   "metadata": {
    "execution": {
     "iopub.execute_input": "2022-06-22T13:25:01.596716Z",
     "iopub.status.busy": "2022-06-22T13:25:01.594545Z",
     "iopub.status.idle": "2022-06-22T13:25:01.606206Z",
     "shell.execute_reply": "2022-06-22T13:25:01.606805Z"
    },
    "id": "52c31dea",
    "papermill": {
     "duration": 0.090625,
     "end_time": "2022-06-22T13:25:01.607159",
     "exception": false,
     "start_time": "2022-06-22T13:25:01.516534",
     "status": "completed"
    },
    "tags": []
   },
   "outputs": [
    {
     "name": "stdout",
     "output_type": "stream",
     "text": [
      "Weight of the node at skip connection\n",
      "Parameter containing:\n",
      "tensor([[0.9070]], requires_grad=True)\n"
     ]
    },
    {
     "data": {
      "application/scrapbook.scrap.json+json": {
       "data": 0.9069501757621765,
       "encoder": "json",
       "name": "Skip Connection Weight",
       "version": 1
      }
     },
     "metadata": {
      "scrapbook": {
       "data": true,
       "display": false,
       "name": "Skip Connection Weight"
      }
     },
     "output_type": "display_data"
    }
   ],
   "source": [
    "print(\"Weight of the node at skip connection\")\n",
    "for name,param in gen3.named_parameters():\n",
    "    if(name == \"skipNode.weight\"):\n",
    "        print(param)\n",
    "        sb.glue(\"Skip Connection Weight\",param.item())"
   ]
  }
 ],
 "metadata": {
  "colab": {
   "collapsed_sections": [],
   "name": "ABC_GAN_Model-Catboost_Pre-gen.ipynb",
   "provenance": []
  },
  "interpreter": {
   "hash": "31f2aee4e71d21fbe5cf8b01ff0e069b9275f58929596ceb00d14d90e3e16cd6"
  },
  "kernelspec": {
   "display_name": "Python 3 (ipykernel)",
   "language": "python",
   "name": "python3"
  },
  "language_info": {
   "codemirror_mode": {
    "name": "ipython",
    "version": 3
   },
   "file_extension": ".py",
   "mimetype": "text/x-python",
   "name": "python",
   "nbconvert_exporter": "python",
   "pygments_lexer": "ipython3",
   "version": "3.8.3"
  },
  "papermill": {
   "default_parameters": {},
   "duration": 181.783456,
   "end_time": "2022-06-22T13:25:03.391566",
   "environment_variables": {},
   "exception": null,
   "input_path": "ABC_GAN-TabNet.ipynb",
   "output_path": "./ABC_GAN_TabNet/ABC-GAN_output_4_9.ipynb",
   "parameters": {
    "bias": 0,
    "variance": 1
   },
   "start_time": "2022-06-22T13:22:01.608110",
   "version": "2.3.3"
  }
 },
 "nbformat": 4,
 "nbformat_minor": 5
}