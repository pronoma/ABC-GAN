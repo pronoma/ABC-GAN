{
 "cells": [
  {
   "cell_type": "markdown",
   "id": "622780e6",
   "metadata": {
    "id": "622780e6",
    "papermill": {
     "duration": 0.021299,
     "end_time": "2022-06-22T11:31:30.115076",
     "exception": false,
     "start_time": "2022-06-22T11:31:30.093777",
     "status": "completed"
    },
    "tags": []
   },
   "source": [
    "## Import Libraries "
   ]
  },
  {
   "cell_type": "code",
   "execution_count": 1,
   "id": "a62397e3",
   "metadata": {
    "execution": {
     "iopub.execute_input": "2022-06-22T11:31:30.180952Z",
     "iopub.status.busy": "2022-06-22T11:31:30.179395Z",
     "iopub.status.idle": "2022-06-22T11:31:30.182257Z",
     "shell.execute_reply": "2022-06-22T11:31:30.182855Z"
    },
    "id": "a62397e3",
    "papermill": {
     "duration": 0.046167,
     "end_time": "2022-06-22T11:31:30.183208",
     "exception": false,
     "start_time": "2022-06-22T11:31:30.137041",
     "status": "completed"
    },
    "tags": []
   },
   "outputs": [],
   "source": [
    "import warnings\n",
    "import sys\n",
    "sys.path.insert(0, '../../src')\n",
    "warnings.filterwarnings('ignore')"
   ]
  },
  {
   "cell_type": "code",
   "execution_count": 2,
   "id": "d6a4e155",
   "metadata": {
    "execution": {
     "iopub.execute_input": "2022-06-22T11:31:30.230182Z",
     "iopub.status.busy": "2022-06-22T11:31:30.229198Z",
     "iopub.status.idle": "2022-06-22T11:31:36.947389Z",
     "shell.execute_reply": "2022-06-22T11:31:36.947934Z"
    },
    "id": "d6a4e155",
    "papermill": {
     "duration": 6.746529,
     "end_time": "2022-06-22T11:31:36.948194",
     "exception": false,
     "start_time": "2022-06-22T11:31:30.201665",
     "status": "completed"
    },
    "tags": []
   },
   "outputs": [],
   "source": [
    "import ABC_train_test2\n",
    "import friedman3Dataset\n",
    "import network\n",
    "import dataset\n",
    "import sanityChecks\n",
    "import torch \n",
    "import scrapbook as sb\n",
    "from statistics import mean \n",
    "import catboost as ctb \n",
    "from sklearn.model_selection import train_test_split\n",
    "from sklearn.metrics import mean_squared_error,mean_absolute_error\n",
    "import numpy as np\n",
    "from pytorch_tabnet.tab_model import TabNetRegressor"
   ]
  },
  {
   "cell_type": "markdown",
   "id": "2fa5b0f7",
   "metadata": {
    "id": "2fa5b0f7",
    "papermill": {
     "duration": 0.021031,
     "end_time": "2022-06-22T11:31:36.987657",
     "exception": false,
     "start_time": "2022-06-22T11:31:36.966626",
     "status": "completed"
    },
    "tags": []
   },
   "source": [
    "## Parameters "
   ]
  },
  {
   "cell_type": "code",
   "execution_count": 3,
   "id": "783186fb",
   "metadata": {
    "execution": {
     "iopub.execute_input": "2022-06-22T11:31:37.036825Z",
     "iopub.status.busy": "2022-06-22T11:31:37.034795Z",
     "iopub.status.idle": "2022-06-22T11:31:37.039090Z",
     "shell.execute_reply": "2022-06-22T11:31:37.040038Z"
    },
    "id": "783186fb",
    "papermill": {
     "duration": 0.03421,
     "end_time": "2022-06-22T11:31:37.040290",
     "exception": false,
     "start_time": "2022-06-22T11:31:37.006080",
     "status": "completed"
    },
    "tags": [
     "parameters"
    ]
   },
   "outputs": [],
   "source": [
    "variance = 1\n",
    "bias = 1 "
   ]
  },
  {
   "cell_type": "code",
   "execution_count": 4,
   "id": "1aba72e1",
   "metadata": {
    "execution": {
     "iopub.execute_input": "2022-06-22T11:31:37.081613Z",
     "iopub.status.busy": "2022-06-22T11:31:37.080097Z",
     "iopub.status.idle": "2022-06-22T11:31:37.082501Z",
     "shell.execute_reply": "2022-06-22T11:31:37.083058Z"
    },
    "papermill": {
     "duration": 0.02342,
     "end_time": "2022-06-22T11:31:37.083274",
     "exception": false,
     "start_time": "2022-06-22T11:31:37.059854",
     "status": "completed"
    },
    "tags": [
     "injected-parameters"
    ]
   },
   "outputs": [],
   "source": [
    "# Parameters\n",
    "variance = 1\n",
    "bias = 0.1\n"
   ]
  },
  {
   "cell_type": "markdown",
   "id": "391cdbfd",
   "metadata": {
    "id": "391cdbfd",
    "papermill": {
     "duration": 0.026465,
     "end_time": "2022-06-22T11:31:37.131023",
     "exception": false,
     "start_time": "2022-06-22T11:31:37.104558",
     "status": "completed"
    },
    "tags": []
   },
   "source": [
    "## Dataset \n"
   ]
  },
  {
   "cell_type": "code",
   "execution_count": 5,
   "id": "5b51f161",
   "metadata": {
    "execution": {
     "iopub.execute_input": "2022-06-22T11:31:37.173923Z",
     "iopub.status.busy": "2022-06-22T11:31:37.172039Z",
     "iopub.status.idle": "2022-06-22T11:31:37.176104Z",
     "shell.execute_reply": "2022-06-22T11:31:37.177012Z"
    },
    "id": "5b51f161",
    "papermill": {
     "duration": 0.026619,
     "end_time": "2022-06-22T11:31:37.177311",
     "exception": false,
     "start_time": "2022-06-22T11:31:37.150692",
     "status": "completed"
    },
    "tags": []
   },
   "outputs": [],
   "source": [
    "#Parameters \n",
    "n_features = 4\n",
    "n_samples= 100\n",
    "n_target = 1"
   ]
  },
  {
   "cell_type": "code",
   "execution_count": 6,
   "id": "5d6eced4",
   "metadata": {
    "execution": {
     "iopub.execute_input": "2022-06-22T11:31:37.215062Z",
     "iopub.status.busy": "2022-06-22T11:31:37.214265Z",
     "iopub.status.idle": "2022-06-22T11:31:37.229854Z",
     "shell.execute_reply": "2022-06-22T11:31:37.230410Z"
    },
    "id": "5d6eced4",
    "papermill": {
     "duration": 0.037139,
     "end_time": "2022-06-22T11:31:37.230636",
     "exception": false,
     "start_time": "2022-06-22T11:31:37.193497",
     "status": "completed"
    },
    "tags": []
   },
   "outputs": [
    {
     "name": "stdout",
     "output_type": "stream",
     "text": [
      "          X1           X2        X3        X4         Y\n",
      "0  68.417346   427.507509  0.696419  6.704613  1.566438\n",
      "1  85.141622   818.980820  0.291678  2.865261  1.239614\n",
      "2  14.756674   190.526515  0.693909  2.754106  1.591187\n",
      "3  96.014727   625.843323  0.878913  5.512342  1.410400\n",
      "4  58.418374  1364.020804  0.767416  1.756087  1.357562\n"
     ]
    }
   ],
   "source": [
    "X,Y = friedman3Dataset.friedman3_data(n_samples)"
   ]
  },
  {
   "cell_type": "code",
   "execution_count": 7,
   "id": "fe007438",
   "metadata": {
    "execution": {
     "iopub.execute_input": "2022-06-22T11:31:37.278108Z",
     "iopub.status.busy": "2022-06-22T11:31:37.276105Z",
     "iopub.status.idle": "2022-06-22T11:31:37.279485Z",
     "shell.execute_reply": "2022-06-22T11:31:37.280063Z"
    },
    "id": "fe007438",
    "papermill": {
     "duration": 0.033058,
     "end_time": "2022-06-22T11:31:37.280303",
     "exception": false,
     "start_time": "2022-06-22T11:31:37.247245",
     "status": "completed"
    },
    "tags": []
   },
   "outputs": [],
   "source": [
    "#Train test split for dataset \n",
    "X_train,X_test,Y_train,Y_test = train_test_split(X,Y,test_size = 0.2)\n",
    "train_data = dataset.CustomDataset(X_train,Y_train)\n",
    "test_data = dataset.CustomDataset(X_test,Y_test)\n"
   ]
  },
  {
   "cell_type": "markdown",
   "id": "a9a1af34",
   "metadata": {
    "id": "a9a1af34",
    "papermill": {
     "duration": 0.027912,
     "end_time": "2022-06-22T11:31:37.327596",
     "exception": false,
     "start_time": "2022-06-22T11:31:37.299684",
     "status": "completed"
    },
    "tags": []
   },
   "source": [
    "## Training Parameters "
   ]
  },
  {
   "cell_type": "code",
   "execution_count": 8,
   "id": "952b7fc8",
   "metadata": {
    "execution": {
     "iopub.execute_input": "2022-06-22T11:31:37.383192Z",
     "iopub.status.busy": "2022-06-22T11:31:37.381562Z",
     "iopub.status.idle": "2022-06-22T11:31:37.384662Z",
     "shell.execute_reply": "2022-06-22T11:31:37.387334Z"
    },
    "id": "952b7fc8",
    "papermill": {
     "duration": 0.035454,
     "end_time": "2022-06-22T11:31:37.388229",
     "exception": false,
     "start_time": "2022-06-22T11:31:37.352775",
     "status": "completed"
    },
    "tags": []
   },
   "outputs": [],
   "source": [
    "batch_size = 32\n",
    "n_epochs = 1000\n",
    "#Select the device \n",
    "device = torch.device('cuda' if torch.cuda.is_available() else 'cpu')"
   ]
  },
  {
   "cell_type": "markdown",
   "id": "a95e1600",
   "metadata": {
    "id": "a95e1600",
    "papermill": {
     "duration": 0.020821,
     "end_time": "2022-06-22T11:31:37.427881",
     "exception": false,
     "start_time": "2022-06-22T11:31:37.407060",
     "status": "completed"
    },
    "tags": []
   },
   "source": [
    "# ABC Pre-generator Model \n",
    "\n",
    "1. The catboost model is used as a pre-generator model for the ABC-GAN. \n",
    "2. The model is first trained on the entire dataset \n",
    "3. It generats X,Y pairs and we add some Gaussian noise with mean 0 and variance 1 to it which is then feed as input to the generator.\n"
   ]
  },
  {
   "cell_type": "code",
   "execution_count": 9,
   "id": "ff8ce7bd",
   "metadata": {
    "execution": {
     "iopub.execute_input": "2022-06-22T11:31:37.474945Z",
     "iopub.status.busy": "2022-06-22T11:31:37.471418Z",
     "iopub.status.idle": "2022-06-22T11:31:52.962445Z",
     "shell.execute_reply": "2022-06-22T11:31:52.962936Z"
    },
    "id": "ff8ce7bd",
    "papermill": {
     "duration": 15.517904,
     "end_time": "2022-06-22T11:31:52.963147",
     "exception": false,
     "start_time": "2022-06-22T11:31:37.445243",
     "status": "completed"
    },
    "tags": []
   },
   "outputs": [
    {
     "name": "stdout",
     "output_type": "stream",
     "text": [
      "Device used : cpu\n"
     ]
    },
    {
     "name": "stdout",
     "output_type": "stream",
     "text": [
      "epoch 0  | loss: 0.96656 | train_mse: 5.64882 | train_mae: 1.75988 |  0:00:00s\n",
      "epoch 1  | loss: 0.91237 | train_mse: 5.54512 | train_mae: 1.77548 |  0:00:00s\n",
      "epoch 2  | loss: 0.46747 | train_mse: 3.12977 | train_mae: 1.44035 |  0:00:00s\n"
     ]
    },
    {
     "name": "stdout",
     "output_type": "stream",
     "text": [
      "epoch 3  | loss: 0.41983 | train_mse: 1.47779 | train_mae: 0.92031 |  0:00:00s\n",
      "epoch 4  | loss: 0.37702 | train_mse: 1.52499 | train_mae: 0.96471 |  0:00:00s\n",
      "epoch 5  | loss: 0.39783 | train_mse: 1.63521 | train_mae: 1.00937 |  0:00:00s\n"
     ]
    },
    {
     "name": "stdout",
     "output_type": "stream",
     "text": [
      "epoch 6  | loss: 0.37834 | train_mse: 1.25951 | train_mae: 0.89607 |  0:00:00s\n",
      "epoch 7  | loss: 0.37749 | train_mse: 0.80997 | train_mae: 0.69727 |  0:00:00s\n",
      "epoch 8  | loss: 0.31698 | train_mse: 0.72442 | train_mae: 0.63801 |  0:00:00s\n"
     ]
    },
    {
     "name": "stdout",
     "output_type": "stream",
     "text": [
      "epoch 9  | loss: 0.38443 | train_mse: 0.75342 | train_mae: 0.66756 |  0:00:01s\n",
      "epoch 10 | loss: 0.42551 | train_mse: 0.60313 | train_mae: 0.59397 |  0:00:01s\n",
      "epoch 11 | loss: 0.29609 | train_mse: 0.68605 | train_mae: 0.61255 |  0:00:01s\n"
     ]
    },
    {
     "name": "stdout",
     "output_type": "stream",
     "text": [
      "epoch 12 | loss: 0.32869 | train_mse: 0.81949 | train_mae: 0.68422 |  0:00:01s\n",
      "epoch 13 | loss: 0.26178 | train_mse: 0.75461 | train_mae: 0.66441 |  0:00:01s\n",
      "epoch 14 | loss: 0.35478 | train_mse: 0.63998 | train_mae: 0.59937 |  0:00:01s\n"
     ]
    },
    {
     "name": "stdout",
     "output_type": "stream",
     "text": [
      "epoch 15 | loss: 0.34431 | train_mse: 0.72969 | train_mae: 0.62974 |  0:00:01s\n"
     ]
    },
    {
     "name": "stdout",
     "output_type": "stream",
     "text": [
      "epoch 16 | loss: 0.28183 | train_mse: 0.63121 | train_mae: 0.57979 |  0:00:01s\n"
     ]
    },
    {
     "name": "stdout",
     "output_type": "stream",
     "text": [
      "epoch 17 | loss: 0.27955 | train_mse: 0.64254 | train_mae: 0.58389 |  0:00:02s\n",
      "epoch 18 | loss: 0.26611 | train_mse: 0.49228 | train_mae: 0.49913 |  0:00:02s\n"
     ]
    },
    {
     "name": "stdout",
     "output_type": "stream",
     "text": [
      "epoch 19 | loss: 0.35942 | train_mse: 0.39023 | train_mae: 0.4436  |  0:00:02s\n",
      "epoch 20 | loss: 0.34333 | train_mse: 0.31998 | train_mae: 0.43662 |  0:00:02s\n"
     ]
    },
    {
     "name": "stdout",
     "output_type": "stream",
     "text": [
      "epoch 21 | loss: 0.29762 | train_mse: 0.30528 | train_mae: 0.38808 |  0:00:02s\n",
      "epoch 22 | loss: 0.33598 | train_mse: 0.28285 | train_mae: 0.37592 |  0:00:02s\n",
      "epoch 23 | loss: 0.22936 | train_mse: 0.26318 | train_mae: 0.35753 |  0:00:02s\n"
     ]
    },
    {
     "name": "stdout",
     "output_type": "stream",
     "text": [
      "epoch 24 | loss: 0.20421 | train_mse: 0.28174 | train_mae: 0.37021 |  0:00:02s\n"
     ]
    },
    {
     "name": "stdout",
     "output_type": "stream",
     "text": [
      "epoch 25 | loss: 0.3592  | train_mse: 0.28701 | train_mae: 0.36281 |  0:00:03s\n",
      "epoch 26 | loss: 0.22453 | train_mse: 0.28046 | train_mae: 0.38088 |  0:00:03s\n"
     ]
    },
    {
     "name": "stdout",
     "output_type": "stream",
     "text": [
      "epoch 27 | loss: 0.18606 | train_mse: 0.2672  | train_mae: 0.36962 |  0:00:03s\n",
      "epoch 28 | loss: 0.25985 | train_mse: 0.24531 | train_mae: 0.34838 |  0:00:03s\n",
      "epoch 29 | loss: 0.18432 | train_mse: 0.21643 | train_mae: 0.33215 |  0:00:03s\n"
     ]
    },
    {
     "name": "stdout",
     "output_type": "stream",
     "text": [
      "epoch 30 | loss: 0.26936 | train_mse: 0.19665 | train_mae: 0.31167 |  0:00:03s\n",
      "epoch 31 | loss: 0.17833 | train_mse: 0.19633 | train_mae: 0.30749 |  0:00:03s\n",
      "epoch 32 | loss: 0.25821 | train_mse: 0.23704 | train_mae: 0.33664 |  0:00:03s\n"
     ]
    },
    {
     "name": "stdout",
     "output_type": "stream",
     "text": [
      "epoch 33 | loss: 0.196   | train_mse: 0.23325 | train_mae: 0.33799 |  0:00:04s\n",
      "epoch 34 | loss: 0.28655 | train_mse: 0.22033 | train_mae: 0.3248  |  0:00:04s\n",
      "epoch 35 | loss: 0.38195 | train_mse: 0.18765 | train_mae: 0.30102 |  0:00:04s\n"
     ]
    },
    {
     "name": "stdout",
     "output_type": "stream",
     "text": [
      "epoch 36 | loss: 0.29756 | train_mse: 0.16804 | train_mae: 0.2868  |  0:00:04s\n",
      "epoch 37 | loss: 0.26118 | train_mse: 0.1735  | train_mae: 0.29814 |  0:00:04s\n",
      "epoch 38 | loss: 0.20625 | train_mse: 0.16272 | train_mae: 0.28519 |  0:00:04s\n"
     ]
    },
    {
     "name": "stdout",
     "output_type": "stream",
     "text": [
      "epoch 39 | loss: 0.19896 | train_mse: 0.16492 | train_mae: 0.28655 |  0:00:04s\n",
      "epoch 40 | loss: 0.14757 | train_mse: 0.17424 | train_mae: 0.28933 |  0:00:04s\n",
      "epoch 41 | loss: 0.14907 | train_mse: 0.18787 | train_mae: 0.30715 |  0:00:04s\n"
     ]
    },
    {
     "name": "stdout",
     "output_type": "stream",
     "text": [
      "epoch 42 | loss: 0.19455 | train_mse: 0.17736 | train_mae: 0.28818 |  0:00:04s\n",
      "epoch 43 | loss: 0.18737 | train_mse: 0.18182 | train_mae: 0.28911 |  0:00:04s\n",
      "epoch 44 | loss: 0.18906 | train_mse: 0.17976 | train_mae: 0.28728 |  0:00:04s\n"
     ]
    },
    {
     "name": "stdout",
     "output_type": "stream",
     "text": [
      "epoch 45 | loss: 0.16802 | train_mse: 0.16433 | train_mae: 0.27588 |  0:00:05s\n",
      "epoch 46 | loss: 0.15834 | train_mse: 0.13865 | train_mae: 0.26299 |  0:00:05s\n",
      "epoch 47 | loss: 0.20582 | train_mse: 0.14245 | train_mae: 0.26689 |  0:00:05s\n"
     ]
    },
    {
     "name": "stdout",
     "output_type": "stream",
     "text": [
      "epoch 48 | loss: 0.24433 | train_mse: 0.13451 | train_mae: 0.26011 |  0:00:05s\n",
      "epoch 49 | loss: 0.16007 | train_mse: 0.13357 | train_mae: 0.24906 |  0:00:05s\n",
      "epoch 50 | loss: 0.22864 | train_mse: 0.1453  | train_mae: 0.2558  |  0:00:05s\n"
     ]
    },
    {
     "name": "stdout",
     "output_type": "stream",
     "text": [
      "epoch 51 | loss: 0.22719 | train_mse: 0.13329 | train_mae: 0.24716 |  0:00:05s\n",
      "epoch 52 | loss: 0.14206 | train_mse: 0.12562 | train_mae: 0.23608 |  0:00:05s\n",
      "epoch 53 | loss: 0.23395 | train_mse: 0.14043 | train_mae: 0.26847 |  0:00:05s\n"
     ]
    },
    {
     "name": "stdout",
     "output_type": "stream",
     "text": [
      "epoch 54 | loss: 0.1843  | train_mse: 0.15101 | train_mae: 0.27598 |  0:00:05s\n",
      "epoch 55 | loss: 0.20727 | train_mse: 0.14525 | train_mae: 0.26525 |  0:00:05s\n",
      "epoch 56 | loss: 0.17918 | train_mse: 0.16059 | train_mae: 0.28251 |  0:00:05s\n"
     ]
    },
    {
     "name": "stdout",
     "output_type": "stream",
     "text": [
      "epoch 57 | loss: 0.271   | train_mse: 0.14587 | train_mae: 0.26841 |  0:00:06s\n",
      "epoch 58 | loss: 0.28368 | train_mse: 0.13994 | train_mae: 0.27518 |  0:00:06s\n",
      "epoch 59 | loss: 0.17302 | train_mse: 0.1577  | train_mae: 0.29283 |  0:00:06s\n"
     ]
    },
    {
     "name": "stdout",
     "output_type": "stream",
     "text": [
      "epoch 60 | loss: 0.15384 | train_mse: 0.16164 | train_mae: 0.28959 |  0:00:06s\n",
      "epoch 61 | loss: 0.13684 | train_mse: 0.1758  | train_mae: 0.29276 |  0:00:06s\n",
      "epoch 62 | loss: 0.16424 | train_mse: 0.15989 | train_mae: 0.27871 |  0:00:06s\n"
     ]
    },
    {
     "name": "stdout",
     "output_type": "stream",
     "text": [
      "epoch 63 | loss: 0.15175 | train_mse: 0.14379 | train_mae: 0.26567 |  0:00:06s\n",
      "epoch 64 | loss: 0.23984 | train_mse: 0.13835 | train_mae: 0.25549 |  0:00:06s\n",
      "epoch 65 | loss: 0.23508 | train_mse: 0.12653 | train_mae: 0.25932 |  0:00:06s\n"
     ]
    },
    {
     "name": "stdout",
     "output_type": "stream",
     "text": [
      "epoch 66 | loss: 0.21875 | train_mse: 0.18878 | train_mae: 0.29692 |  0:00:06s\n",
      "epoch 67 | loss: 0.19559 | train_mse: 0.16385 | train_mae: 0.29589 |  0:00:07s\n"
     ]
    },
    {
     "name": "stdout",
     "output_type": "stream",
     "text": [
      "epoch 68 | loss: 0.20046 | train_mse: 0.11197 | train_mae: 0.24371 |  0:00:07s\n",
      "epoch 69 | loss: 0.14441 | train_mse: 0.10063 | train_mae: 0.225   |  0:00:07s\n"
     ]
    },
    {
     "name": "stdout",
     "output_type": "stream",
     "text": [
      "epoch 70 | loss: 0.26843 | train_mse: 0.09902 | train_mae: 0.22208 |  0:00:07s\n",
      "epoch 71 | loss: 0.18889 | train_mse: 0.10627 | train_mae: 0.2372  |  0:00:07s\n"
     ]
    },
    {
     "name": "stdout",
     "output_type": "stream",
     "text": [
      "epoch 72 | loss: 0.10733 | train_mse: 0.1363  | train_mae: 0.27177 |  0:00:07s\n",
      "epoch 73 | loss: 0.23361 | train_mse: 0.15216 | train_mae: 0.28419 |  0:00:07s\n"
     ]
    },
    {
     "name": "stdout",
     "output_type": "stream",
     "text": [
      "epoch 74 | loss: 0.18567 | train_mse: 0.11203 | train_mae: 0.24034 |  0:00:07s\n",
      "epoch 75 | loss: 0.20741 | train_mse: 0.12027 | train_mae: 0.23872 |  0:00:08s\n"
     ]
    },
    {
     "name": "stdout",
     "output_type": "stream",
     "text": [
      "epoch 76 | loss: 0.25807 | train_mse: 0.2133  | train_mae: 0.31364 |  0:00:08s\n",
      "epoch 77 | loss: 0.17457 | train_mse: 0.17063 | train_mae: 0.27076 |  0:00:08s\n"
     ]
    },
    {
     "name": "stdout",
     "output_type": "stream",
     "text": [
      "epoch 78 | loss: 0.24366 | train_mse: 0.14617 | train_mae: 0.25833 |  0:00:08s\n",
      "epoch 79 | loss: 0.1965  | train_mse: 0.14011 | train_mae: 0.26207 |  0:00:08s\n"
     ]
    },
    {
     "name": "stdout",
     "output_type": "stream",
     "text": [
      "epoch 80 | loss: 0.12888 | train_mse: 0.13524 | train_mae: 0.27221 |  0:00:08s\n",
      "epoch 81 | loss: 0.12624 | train_mse: 0.13121 | train_mae: 0.2731  |  0:00:08s\n",
      "epoch 82 | loss: 0.21657 | train_mse: 0.13233 | train_mae: 0.26541 |  0:00:08s\n"
     ]
    },
    {
     "name": "stdout",
     "output_type": "stream",
     "text": [
      "epoch 83 | loss: 0.16896 | train_mse: 0.12672 | train_mae: 0.26092 |  0:00:09s\n",
      "epoch 84 | loss: 0.13864 | train_mse: 0.12549 | train_mae: 0.25136 |  0:00:09s\n",
      "epoch 85 | loss: 0.16878 | train_mse: 0.13344 | train_mae: 0.2573  |  0:00:09s\n"
     ]
    },
    {
     "name": "stdout",
     "output_type": "stream",
     "text": [
      "epoch 86 | loss: 0.22331 | train_mse: 0.13618 | train_mae: 0.26653 |  0:00:09s\n",
      "epoch 87 | loss: 0.17016 | train_mse: 0.13064 | train_mae: 0.25614 |  0:00:09s\n",
      "epoch 88 | loss: 0.17401 | train_mse: 0.11797 | train_mae: 0.24489 |  0:00:09s\n"
     ]
    },
    {
     "name": "stdout",
     "output_type": "stream",
     "text": [
      "epoch 89 | loss: 0.13556 | train_mse: 0.13148 | train_mae: 0.26451 |  0:00:09s\n",
      "epoch 90 | loss: 0.10512 | train_mse: 0.15356 | train_mae: 0.29194 |  0:00:09s\n",
      "epoch 91 | loss: 0.14854 | train_mse: 0.1279  | train_mae: 0.26955 |  0:00:09s\n"
     ]
    },
    {
     "name": "stdout",
     "output_type": "stream",
     "text": [
      "epoch 92 | loss: 0.19223 | train_mse: 0.11592 | train_mae: 0.25494 |  0:00:09s\n",
      "epoch 93 | loss: 0.13961 | train_mse: 0.14911 | train_mae: 0.28887 |  0:00:09s\n",
      "epoch 94 | loss: 0.15982 | train_mse: 0.20033 | train_mae: 0.33266 |  0:00:10s\n"
     ]
    },
    {
     "name": "stdout",
     "output_type": "stream",
     "text": [
      "epoch 95 | loss: 0.20997 | train_mse: 0.18005 | train_mae: 0.31416 |  0:00:10s\n",
      "epoch 96 | loss: 0.12783 | train_mse: 0.127   | train_mae: 0.25304 |  0:00:10s\n",
      "epoch 97 | loss: 0.1804  | train_mse: 0.09177 | train_mae: 0.22304 |  0:00:10s\n"
     ]
    },
    {
     "name": "stdout",
     "output_type": "stream",
     "text": [
      "epoch 98 | loss: 0.22442 | train_mse: 0.10124 | train_mae: 0.23409 |  0:00:10s\n",
      "epoch 99 | loss: 0.16267 | train_mse: 0.12437 | train_mae: 0.26007 |  0:00:10s\n"
     ]
    },
    {
     "name": "stdout",
     "output_type": "stream",
     "text": [
      "epoch 100| loss: 0.1346  | train_mse: 0.12758 | train_mae: 0.24952 |  0:00:10s\n",
      "epoch 101| loss: 0.19771 | train_mse: 0.11995 | train_mae: 0.24738 |  0:00:10s\n",
      "epoch 102| loss: 0.11993 | train_mse: 0.09574 | train_mae: 0.22585 |  0:00:10s\n"
     ]
    },
    {
     "name": "stdout",
     "output_type": "stream",
     "text": [
      "epoch 103| loss: 0.20089 | train_mse: 0.08756 | train_mae: 0.20963 |  0:00:10s\n",
      "epoch 104| loss: 0.18249 | train_mse: 0.08009 | train_mae: 0.19965 |  0:00:10s\n",
      "epoch 105| loss: 0.12841 | train_mse: 0.09531 | train_mae: 0.22906 |  0:00:11s\n"
     ]
    },
    {
     "name": "stdout",
     "output_type": "stream",
     "text": [
      "epoch 106| loss: 0.16116 | train_mse: 0.1066  | train_mae: 0.24252 |  0:00:11s\n",
      "epoch 107| loss: 0.13214 | train_mse: 0.10338 | train_mae: 0.23551 |  0:00:11s\n"
     ]
    },
    {
     "name": "stdout",
     "output_type": "stream",
     "text": [
      "epoch 108| loss: 0.13176 | train_mse: 0.09339 | train_mae: 0.22195 |  0:00:11s\n",
      "epoch 109| loss: 0.14237 | train_mse: 0.12007 | train_mae: 0.24553 |  0:00:11s\n",
      "epoch 110| loss: 0.23627 | train_mse: 0.12377 | train_mae: 0.25507 |  0:00:11s\n"
     ]
    },
    {
     "name": "stdout",
     "output_type": "stream",
     "text": [
      "epoch 111| loss: 0.14173 | train_mse: 0.11137 | train_mae: 0.25027 |  0:00:11s\n",
      "epoch 112| loss: 0.18745 | train_mse: 0.09708 | train_mae: 0.23114 |  0:00:11s\n",
      "epoch 113| loss: 0.18787 | train_mse: 0.09121 | train_mae: 0.22854 |  0:00:11s\n"
     ]
    },
    {
     "name": "stdout",
     "output_type": "stream",
     "text": [
      "epoch 114| loss: 0.24159 | train_mse: 0.09776 | train_mae: 0.24058 |  0:00:11s\n",
      "epoch 115| loss: 0.16927 | train_mse: 0.09154 | train_mae: 0.23821 |  0:00:11s\n",
      "epoch 116| loss: 0.17131 | train_mse: 0.08391 | train_mae: 0.22557 |  0:00:11s\n"
     ]
    },
    {
     "name": "stdout",
     "output_type": "stream",
     "text": [
      "epoch 117| loss: 0.12228 | train_mse: 0.0845  | train_mae: 0.22342 |  0:00:12s\n",
      "epoch 118| loss: 0.19606 | train_mse: 0.0855  | train_mae: 0.22275 |  0:00:12s\n"
     ]
    },
    {
     "name": "stdout",
     "output_type": "stream",
     "text": [
      "epoch 119| loss: 0.12264 | train_mse: 0.08143 | train_mae: 0.21818 |  0:00:12s\n",
      "epoch 120| loss: 0.13924 | train_mse: 0.08564 | train_mae: 0.2247  |  0:00:12s\n",
      "epoch 121| loss: 0.12779 | train_mse: 0.10426 | train_mae: 0.24411 |  0:00:12s\n"
     ]
    },
    {
     "name": "stdout",
     "output_type": "stream",
     "text": [
      "epoch 122| loss: 0.13281 | train_mse: 0.09439 | train_mae: 0.23038 |  0:00:12s\n",
      "epoch 123| loss: 0.1386  | train_mse: 0.09597 | train_mae: 0.22774 |  0:00:12s\n",
      "epoch 124| loss: 0.15973 | train_mse: 0.11051 | train_mae: 0.24033 |  0:00:12s\n"
     ]
    },
    {
     "name": "stdout",
     "output_type": "stream",
     "text": [
      "epoch 125| loss: 0.1549  | train_mse: 0.10337 | train_mae: 0.23093 |  0:00:12s\n",
      "epoch 126| loss: 0.0818  | train_mse: 0.1166  | train_mae: 0.24384 |  0:00:12s\n",
      "epoch 127| loss: 0.11339 | train_mse: 0.12401 | train_mae: 0.25607 |  0:00:12s\n"
     ]
    },
    {
     "name": "stdout",
     "output_type": "stream",
     "text": [
      "epoch 128| loss: 0.23749 | train_mse: 0.1256  | train_mae: 0.26114 |  0:00:13s\n",
      "epoch 129| loss: 0.16642 | train_mse: 0.13255 | train_mae: 0.26626 |  0:00:13s\n",
      "epoch 130| loss: 0.18953 | train_mse: 0.12341 | train_mae: 0.26582 |  0:00:13s\n"
     ]
    },
    {
     "name": "stdout",
     "output_type": "stream",
     "text": [
      "epoch 131| loss: 0.11637 | train_mse: 0.11055 | train_mae: 0.25806 |  0:00:13s\n",
      "epoch 132| loss: 0.13201 | train_mse: 0.11771 | train_mae: 0.25316 |  0:00:13s\n",
      "epoch 133| loss: 0.11869 | train_mse: 0.14735 | train_mae: 0.27154 |  0:00:13s\n"
     ]
    },
    {
     "name": "stdout",
     "output_type": "stream",
     "text": [
      "epoch 134| loss: 0.10822 | train_mse: 0.16584 | train_mae: 0.28571 |  0:00:13s\n",
      "epoch 135| loss: 0.17118 | train_mse: 0.13134 | train_mae: 0.25542 |  0:00:13s\n",
      "epoch 136| loss: 0.15455 | train_mse: 0.1075  | train_mae: 0.23877 |  0:00:13s\n"
     ]
    },
    {
     "name": "stdout",
     "output_type": "stream",
     "text": [
      "epoch 137| loss: 0.08569 | train_mse: 0.11269 | train_mae: 0.23904 |  0:00:13s\n",
      "epoch 138| loss: 0.15391 | train_mse: 0.12043 | train_mae: 0.24575 |  0:00:13s\n",
      "epoch 139| loss: 0.15723 | train_mse: 0.11159 | train_mae: 0.24024 |  0:00:14s\n"
     ]
    },
    {
     "name": "stdout",
     "output_type": "stream",
     "text": [
      "epoch 140| loss: 0.11943 | train_mse: 0.08341 | train_mae: 0.20807 |  0:00:14s\n",
      "epoch 141| loss: 0.28978 | train_mse: 0.08425 | train_mae: 0.21283 |  0:00:14s\n",
      "epoch 142| loss: 0.16556 | train_mse: 0.13299 | train_mae: 0.245   |  0:00:14s\n"
     ]
    },
    {
     "name": "stdout",
     "output_type": "stream",
     "text": [
      "epoch 143| loss: 0.2836  | train_mse: 0.11156 | train_mae: 0.2344  |  0:00:14s\n",
      "epoch 144| loss: 0.14997 | train_mse: 0.09927 | train_mae: 0.23134 |  0:00:14s\n",
      "epoch 145| loss: 0.17678 | train_mse: 0.10304 | train_mae: 0.23657 |  0:00:14s\n"
     ]
    },
    {
     "name": "stdout",
     "output_type": "stream",
     "text": [
      "epoch 146| loss: 0.10941 | train_mse: 0.09559 | train_mae: 0.22417 |  0:00:14s\n",
      "epoch 147| loss: 0.12509 | train_mse: 0.11026 | train_mae: 0.23785 |  0:00:14s\n",
      "epoch 148| loss: 0.31182 | train_mse: 0.11992 | train_mae: 0.25008 |  0:00:14s\n"
     ]
    },
    {
     "name": "stdout",
     "output_type": "stream",
     "text": [
      "epoch 149| loss: 0.1521  | train_mse: 0.11577 | train_mae: 0.25432 |  0:00:14s\n",
      "epoch 150| loss: 0.20439 | train_mse: 0.12996 | train_mae: 0.25704 |  0:00:14s\n",
      "epoch 151| loss: 0.15144 | train_mse: 0.12142 | train_mae: 0.24827 |  0:00:15s\n"
     ]
    },
    {
     "name": "stdout",
     "output_type": "stream",
     "text": [
      "epoch 152| loss: 0.21181 | train_mse: 0.40498 | train_mae: 0.34053 |  0:00:15s\n",
      "epoch 153| loss: 0.20685 | train_mse: 0.46667 | train_mae: 0.37481 |  0:00:15s\n"
     ]
    },
    {
     "name": "stdout",
     "output_type": "stream",
     "text": [
      "epoch 154| loss: 0.23482 | train_mse: 0.352   | train_mae: 0.34809 |  0:00:15s\n",
      "\n",
      "Early stopping occurred at epoch 154 with best_epoch = 104 and best_train_mae = 0.19965\n",
      "Best weights from best epoch are automatically used!\n"
     ]
    }
   ],
   "source": [
    "#Train the Model\n",
    "\n",
    "Y_train = np.reshape(Y_train, (-1, 1))\n",
    "Y_test = np.reshape(Y_test, (-1, 1))\n",
    "\n",
    "prior_model = TabNetRegressor(optimizer_fn=torch.optim.Adam, optimizer_params=dict(lr = 0.02),\n",
    "          #scheduler_params={\"step_size\":10, ], \"gamma\":0.9},\n",
    "          #scheduler_fn=torch.optim.lr_scheduler.StepLR\n",
    "          )  #TabNetRegressor()\n",
    "\n",
    "prior_model.fit(X_train,Y_train,eval_set=[(X_train, Y_train)],\n",
    "            eval_name=['train'], \n",
    "            eval_metric=[ 'mse', 'mae'], \n",
    "            max_epochs = n_epochs, \n",
    "            batch_size = batch_size,\n",
    "            patience=50\n",
    "            )"
   ]
  },
  {
   "cell_type": "code",
   "execution_count": 10,
   "id": "af65dcda",
   "metadata": {
    "execution": {
     "iopub.execute_input": "2022-06-22T11:31:53.073260Z",
     "iopub.status.busy": "2022-06-22T11:31:53.068567Z",
     "iopub.status.idle": "2022-06-22T11:31:53.102166Z",
     "shell.execute_reply": "2022-06-22T11:31:53.105794Z"
    },
    "id": "af65dcda",
    "papermill": {
     "duration": 0.091101,
     "end_time": "2022-06-22T11:31:53.106054",
     "exception": false,
     "start_time": "2022-06-22T11:31:53.014953",
     "status": "completed"
    },
    "tags": []
   },
   "outputs": [
    {
     "data": {
      "application/scrapbook.scrap.json+json": {
       "data": 0.33008647627624726,
       "encoder": "json",
       "name": "Prior Model MSE",
       "version": 1
      }
     },
     "metadata": {
      "scrapbook": {
       "data": true,
       "display": false,
       "name": "Prior Model MSE"
      }
     },
     "output_type": "display_data"
    },
    {
     "data": {
      "application/scrapbook.scrap.json+json": {
       "data": 0.9414348042168127,
       "encoder": "json",
       "name": "ABC Pre-generator MSE",
       "version": 1
      }
     },
     "metadata": {
      "scrapbook": {
       "data": true,
       "display": false,
       "name": "ABC Pre-generator MSE"
      }
     },
     "output_type": "display_data"
    },
    {
     "data": {
      "application/scrapbook.scrap.json+json": {
       "data": 0.3548797445916593,
       "encoder": "json",
       "name": "Prior Model MSE",
       "version": 1
      }
     },
     "metadata": {
      "scrapbook": {
       "data": true,
       "display": false,
       "name": "Prior Model MSE"
      }
     },
     "output_type": "display_data"
    },
    {
     "data": {
      "application/scrapbook.scrap.json+json": {
       "data": 0.7870412029216316,
       "encoder": "json",
       "name": "ABC Pre-generator MSE",
       "version": 1
      }
     },
     "metadata": {
      "scrapbook": {
       "data": true,
       "display": false,
       "name": "ABC Pre-generator MSE"
      }
     },
     "output_type": "display_data"
    }
   ],
   "source": [
    "y_pred = prior_model.predict(X_test)\n",
    "y_abc = y_pred + np.random.normal(0,variance, y_pred.shape) + bias \n",
    "mse = mean_squared_error(y_pred,Y_test)\n",
    "sb.glue(\"Prior Model MSE\",mse)\n",
    "mse = mean_squared_error(y_abc,Y_test)\n",
    "sb.glue(\"ABC Pre-generator MSE\",mse)\n",
    "mae = mean_absolute_error(y_pred,Y_test)\n",
    "sb.glue(\"Prior Model MSE\",mae)\n",
    "mae = mean_absolute_error(y_abc,Y_test)\n",
    "sb.glue(\"ABC Pre-generator MSE\",mae)"
   ]
  },
  {
   "cell_type": "markdown",
   "id": "25609da2",
   "metadata": {
    "papermill": {
     "duration": 0.235396,
     "end_time": "2022-06-22T11:31:53.377073",
     "exception": false,
     "start_time": "2022-06-22T11:31:53.141677",
     "status": "completed"
    },
    "tags": []
   },
   "source": [
    "# ABC GAN Model"
   ]
  },
  {
   "cell_type": "code",
   "execution_count": 11,
   "id": "dfc3464d",
   "metadata": {
    "execution": {
     "iopub.execute_input": "2022-06-22T11:31:53.708063Z",
     "iopub.status.busy": "2022-06-22T11:31:53.702152Z",
     "iopub.status.idle": "2022-06-22T11:31:53.708945Z",
     "shell.execute_reply": "2022-06-22T11:31:53.706935Z"
    },
    "papermill": {
     "duration": 0.19277,
     "end_time": "2022-06-22T11:31:53.709230",
     "exception": false,
     "start_time": "2022-06-22T11:31:53.516460",
     "status": "completed"
    },
    "tags": []
   },
   "outputs": [],
   "source": [
    "gen = network.Generator(n_features+1).to(device)\n",
    "disc = network.Discriminator(n_features+1).to(device)\n",
    "\n",
    "criterion = torch.nn.BCELoss()\n",
    "gen_opt = torch.optim.Adam(gen.parameters(), lr=0.001, betas=(0.5, 0.999))\n",
    "disc_opt = torch.optim.Adam(disc.parameters(), lr=0.001, betas=(0.5, 0.999))"
   ]
  },
  {
   "cell_type": "code",
   "execution_count": 12,
   "id": "b75fdd85",
   "metadata": {
    "execution": {
     "iopub.execute_input": "2022-06-22T11:31:53.810160Z",
     "iopub.status.busy": "2022-06-22T11:31:53.809351Z",
     "iopub.status.idle": "2022-06-22T11:32:45.958846Z",
     "shell.execute_reply": "2022-06-22T11:32:45.959342Z"
    },
    "papermill": {
     "duration": 52.206668,
     "end_time": "2022-06-22T11:32:45.959722",
     "exception": false,
     "start_time": "2022-06-22T11:31:53.753054",
     "status": "completed"
    },
    "tags": []
   },
   "outputs": [
    {
     "data": {
      "image/png": "[encoded data removed]",
      "text/plain": [
       "<Figure size 432x288 with 1 Axes>"
      ]
     },
     "metadata": {
      "needs_background": "light"
     },
     "output_type": "display_data"
    },
    {
     "data": {
      "image/png": "[encoded data removed]",
      "text/plain": [
       "<Figure size 432x288 with 1 Axes>"
      ]
     },
     "metadata": {
      "needs_background": "light"
     },
     "output_type": "display_data"
    }
   ],
   "source": [
    "#Training the ABC_GAN \n",
    "ABC_train_test2.training_GAN(disc,gen,disc_opt,gen_opt,train_data,batch_size,n_epochs,criterion,prior_model,variance,bias,device)"
   ]
  },
  {
   "cell_type": "code",
   "execution_count": 13,
   "id": "1fa7c368",
   "metadata": {
    "execution": {
     "iopub.execute_input": "2022-06-22T11:32:46.064983Z",
     "iopub.status.busy": "2022-06-22T11:32:46.063719Z",
     "iopub.status.idle": "2022-06-22T11:32:46.857608Z",
     "shell.execute_reply": "2022-06-22T11:32:46.858154Z"
    },
    "papermill": {
     "duration": 0.85893,
     "end_time": "2022-06-22T11:32:46.858372",
     "exception": false,
     "start_time": "2022-06-22T11:32:45.999442",
     "status": "completed"
    },
    "tags": []
   },
   "outputs": [
    {
     "data": {
      "application/scrapbook.scrap.json+json": {
       "data": 0.1910291862012573,
       "encoder": "json",
       "name": "ABC-GAN Model 1 MSE",
       "version": 1
      }
     },
     "metadata": {
      "scrapbook": {
       "data": true,
       "display": false,
       "name": "ABC-GAN Model 1 MSE"
      }
     },
     "output_type": "display_data"
    },
    {
     "data": {
      "application/scrapbook.scrap.json+json": {
       "data": 0.35666446654871103,
       "encoder": "json",
       "name": "ABC-GAN Model 1 MAE",
       "version": 1
      }
     },
     "metadata": {
      "scrapbook": {
       "data": true,
       "display": false,
       "name": "ABC-GAN Model 1 MAE"
      }
     },
     "output_type": "display_data"
    },
    {
     "data": {
      "application/scrapbook.scrap.json+json": {
       "data": 7.133289330974221,
       "encoder": "json",
       "name": "ABC-GAN Model 1 Manhattan Distance",
       "version": 1
      }
     },
     "metadata": {
      "scrapbook": {
       "data": true,
       "display": false,
       "name": "ABC-GAN Model 1 Manhattan Distance"
      }
     },
     "output_type": "display_data"
    },
    {
     "data": {
      "application/scrapbook.scrap.json+json": {
       "data": 1.9535137425093634,
       "encoder": "json",
       "name": "ABC-GAN Model 1 Euclidean distance",
       "version": 1
      }
     },
     "metadata": {
      "scrapbook": {
       "data": true,
       "display": false,
       "name": "ABC-GAN Model 1 Euclidean distance"
      }
     },
     "output_type": "display_data"
    },
    {
     "data": {
      "application/scrapbook.scrap.json+json": {
       "data": [
        [
         0.1902489866755578,
         0.18745926516084188,
         0.19121481046572214,
         0.21336794935806574,
         0.17457475110184842,
         0.18605087246335045,
         0.19468988456175512,
         0.18131368925754393,
         0.1869028478673259,
         0.1935034650466642,
         0.17329558271019657,
         0.18456393731652715,
         0.20219586450380023,
         0.18013831652554746,
         0.18100025701057776,
         0.18588440573703757,
         0.1988050802063263,
         0.2037440553709172,
         0.1907535235244163,
         0.17308318075775672,
         0.19441327058108154,
         0.1776328534118142,
         0.19606875155434791,
         0.22359143255796887,
         0.19259988313968632,
         0.18999412806323385,
         0.19128910545884445,
         0.16889399659013743,
         0.2011877902936606,
         0.1982988532436428,
         0.1625405079709512,
         0.19464405344830094,
         0.1879992932602276,
         0.16878302108740803,
         0.2019781197151377,
         0.19919446891507722,
         0.1925442554197748,
         0.17765745461028054,
         0.2076528403094679,
         0.212654804679315,
         0.18741740668100282,
         0.18526205616542235,
         0.17837337761311928,
         0.20629080002635294,
         0.21404550484420842,
         0.19404770713151379,
         0.1691566455552822,
         0.2058145991683491,
         0.17708031026055143,
         0.17784641568322948,
         0.17928398852543742,
         0.19756189341710387,
         0.1954552606919176,
         0.18541857467755068,
         0.2101072361399968,
         0.18578862317378123,
         0.1760370341743816,
         0.20195106818969294,
         0.19393945857850386,
         0.2074209822714636,
         0.1947374953421382,
         0.21419597280420377,
         0.18329490835371054,
         0.19134177597909172,
         0.21663688012361249,
         0.2156432083492945,
         0.1762141600953811,
         0.17996222152257335,
         0.1839692683764304,
         0.1987532185237339,
         0.2009666961653978,
         0.17235388344201472,
         0.17395795094996286,
         0.18964265458965407,
         0.18841424535837215,
         0.1994718482481868,
         0.20603880571880265,
         0.19152518835059618,
         0.2009926914179055,
         0.1893157622905496,
         0.17594863805260608,
         0.18476748565679157,
         0.18369806099922553,
         0.20318414801548287,
         0.18450122045452302,
         0.20044158817882812,
         0.17641600231799917,
         0.20429448938747446,
         0.19846633820958068,
         0.20446832262914186,
         0.19294863811132235,
         0.1675787345012719,
         0.17524914052639512,
         0.1862104462886333,
         0.18319586829562903,
         0.1972185262079162,
         0.19312718862872763,
         0.17667092834022283,
         0.18346540454635446,
         0.22293006187499173
        ],
        [
         0.34924117997288706,
         0.3489459823817015,
         0.36325414702296255,
         0.37864497154951093,
         0.3349247105419636,
         0.35105273500084877,
         0.3693016577512026,
         0.34235929399728776,
         0.35198059417307376,
         0.34262018613517287,
         0.32593310736119746,
         0.3480678409337997,
         0.3606522917747498,
         0.3538116693496704,
         0.3445456027984619,
         0.3492182370275259,
         0.3750061258673668,
         0.3782928612083197,
         0.3491026028990746,
         0.3315794564783573,
         0.3668093752115965,
         0.3392240032553673,
         0.35231746509671213,
         0.3870754264295101,
         0.35438274778425694,
         0.35288854539394376,
         0.360877088829875,
         0.34388692677021027,
         0.35997391156852243,
         0.3668754480779171,
         0.3316597446799278,
         0.3677757143974304,
         0.3660229995846748,
         0.3266862131655216,
         0.3701271913945675,
         0.3771837532520294,
         0.36029316373169423,
         0.3367091823369265,
         0.360634970664978,
         0.37103667855262756,
         0.354024089127779,
         0.34640234559774397,
         0.34417092315852643,
         0.3691768482327461,
         0.38387091681361196,
         0.35167021453380587,
         0.33498293422162534,
         0.37895165123045443,
         0.3471199471503496,
         0.3397412944585085,
         0.3438637651503086,
         0.34963055029511453,
         0.36644444726407527,
         0.34792889654636383,
         0.3898088581860065,
         0.3511309642344713,
         0.3382072694599628,
         0.3579104796051979,
         0.3661529552191496,
         0.380888082832098,
         0.3573110803961754,
         0.3723013140261173,
         0.3536327347159386,
         0.3637097805738449,
         0.3692276932299137,
         0.3712739270180464,
         0.34637998789548874,
         0.3449995335191488,
         0.35650920644402506,
         0.3598975945264101,
         0.3542026374489069,
         0.34188329726457595,
         0.3430063031613827,
         0.36406209990382193,
         0.35445119962096217,
         0.3711906634271145,
         0.37308462858200075,
         0.3564708273857832,
         0.35886871814727783,
         0.3490299083292484,
         0.350133915245533,
         0.35295846611261367,
         0.3408643834292889,
         0.3708808202296495,
         0.3541621439158916,
         0.35949541479349134,
         0.3423173241317272,
         0.37102960646152494,
         0.36947458758950236,
         0.38280531838536264,
         0.36621218025684354,
         0.33517438247799874,
         0.3473388995975256,
         0.3499896042048931,
         0.35250497981905937,
         0.37076844573020934,
         0.3581976588815451,
         0.3472251001745462,
         0.3603332918137312,
         0.38003375828266145
        ],
        [
         6.984823599457741,
         6.978919647634029,
         7.265082940459251,
         7.572899430990219,
         6.6984942108392715,
         7.021054700016975,
         7.386033155024052,
         6.847185879945755,
         7.039611883461475,
         6.852403722703457,
         6.518662147223949,
         6.961356818675995,
         7.213045835494995,
         7.076233386993408,
         6.890912055969238,
         6.984364740550518,
         7.500122517347336,
         7.565857224166393,
         6.982052057981491,
         6.631589129567146,
         7.33618750423193,
         6.784480065107346,
         7.046349301934242,
         7.741508528590202,
         7.087654955685139,
         7.057770907878876,
         7.2175417765975,
         6.877738535404205,
         7.199478231370449,
         7.337508961558342,
         6.6331948935985565,
         7.355514287948608,
         7.320459991693497,
         6.533724263310432,
         7.40254382789135,
         7.543675065040588,
         7.205863274633884,
         6.734183646738529,
         7.2126994132995605,
         7.420733571052551,
         7.08048178255558,
         6.92804691195488,
         6.883418463170528,
         7.3835369646549225,
         7.67741833627224,
         7.033404290676117,
         6.699658684432507,
         7.579033024609089,
         6.942398943006992,
         6.79482588917017,
         6.877275303006172,
         6.99261100590229,
         7.328888945281506,
         6.958577930927277,
         7.796177163720131,
         7.022619284689426,
         6.764145389199257,
         7.158209592103958,
         7.323059104382992,
         7.61776165664196,
         7.146221607923508,
         7.4460262805223465,
         7.072654694318771,
         7.274195611476898,
         7.384553864598274,
         7.425478540360928,
         6.927599757909775,
         6.8999906703829765,
         7.130184128880501,
         7.197951890528202,
         7.084052748978138,
         6.837665945291519,
         6.8601260632276535,
         7.281241998076439,
         7.089023992419243,
         7.42381326854229,
         7.461692571640015,
         7.129416547715664,
         7.177374362945557,
         6.980598166584969,
         7.00267830491066,
         7.059169322252274,
         6.817287668585777,
         7.417616404592991,
         7.083242878317833,
         7.189908295869827,
         6.846346482634544,
         7.420592129230499,
         7.389491751790047,
         7.6561063677072525,
         7.324243605136871,
         6.703487649559975,
         6.946777991950512,
         6.999792084097862,
         7.050099596381187,
         7.415368914604187,
         7.163953177630901,
         6.944502003490925,
         7.206665836274624,
         7.600675165653229
        ],
        [
         1.9506357254780187,
         1.9362813078726029,
         1.955580785678373,
         2.065758695288807,
         1.868554259858934,
         1.928993895601282,
         1.9732708104148053,
         1.9042777594539297,
         1.9334055335977804,
         1.9672491710338282,
         1.8616959080913111,
         1.9212700867734716,
         2.010949350450181,
         1.8980954482087957,
         1.902631109861172,
         1.9281307307184208,
         1.9940164503149231,
         2.0186334752545703,
         1.9532205381083636,
         1.860554652557977,
         1.9718685076905182,
         1.8848493489497469,
         1.9802462046641973,
         2.1146698681258447,
         1.962650672634773,
         1.949328746329022,
         1.95596066145945,
         1.8379009581048562,
         2.00593015976958,
         1.9914761020089737,
         1.8030003215249364,
         1.9730385371213657,
         1.9390682982310221,
         1.8372970423282569,
         2.0098662627903265,
         1.9959682808856318,
         1.9623672205771008,
         1.884979865198992,
         2.037905004211275,
         2.0623035890931045,
         1.9360651160588727,
         1.924900289186026,
         1.8887740871428709,
         2.0312104766682992,
         2.0690360308327564,
         1.970013741736406,
         1.8393294732335597,
         2.028864703070903,
         1.8819155680346098,
         1.8859820554990945,
         1.8935891239941014,
         1.9877720866191066,
         1.9771457239764478,
         1.9257132428144679,
         2.0499133451928975,
         1.927633902865278,
         1.8763636863592388,
         2.0097316646243746,
         1.9694641838759284,
         2.036766959038091,
         1.9735120741568224,
         2.06976314009214,
         1.9146535370855509,
         1.9562299250297328,
         2.0815229046234993,
         2.076743644985074,
         1.8773074340415374,
         1.8971674755939358,
         1.9181724029733638,
         1.993756346817403,
         2.004827654265562,
         1.856630730339314,
         1.8652503904299975,
         1.947524862946063,
         1.9412070747778154,
         1.99735749553347,
         2.0299694860701853,
         1.9571672813052858,
         2.0049573133506136,
         1.9458456377140998,
         1.875892523854211,
         1.9223292416066067,
         1.9167579972402649,
         2.0158578720509186,
         1.9209436246518168,
         2.002206723487004,
         1.878382295050713,
         2.0213584016075647,
         1.9923169336708488,
         2.022218201031441,
         1.9644268279135384,
         1.8307306437664275,
         1.8721599318775901,
         1.9298209569213063,
         1.9141361931462926,
         1.986043938123808,
         1.965335536893014,
         1.879738962410594,
         1.9155438107563838,
         2.1115400156046853
        ]
       ],
       "encoder": "json",
       "name": "ABC_GAN_1 Metrics",
       "version": 1
      }
     },
     "metadata": {
      "scrapbook": {
       "data": true,
       "display": false,
       "name": "ABC_GAN_1 Metrics"
      }
     },
     "output_type": "display_data"
    },
    {
     "name": "stdout",
     "output_type": "stream",
     "text": [
      "MSE\n",
      "0.1910291862012573\n"
     ]
    }
   ],
   "source": [
    "ABC_GAN1_metrics=ABC_train_test2.test_generator(gen,test_data,prior_model,variance,bias,\"1\",device)\n",
    "sb.glue(\"ABC_GAN_1 Metrics\",ABC_GAN1_metrics)\n",
    "\n",
    "print(\"MSE\")\n",
    "print(mean(ABC_GAN1_metrics[0]))"
   ]
  },
  {
   "cell_type": "code",
   "execution_count": 14,
   "id": "eb22ce5c",
   "metadata": {
    "execution": {
     "iopub.execute_input": "2022-06-22T11:32:47.009821Z",
     "iopub.status.busy": "2022-06-22T11:32:47.003107Z",
     "iopub.status.idle": "2022-06-22T11:32:47.957548Z",
     "shell.execute_reply": "2022-06-22T11:32:47.956973Z"
    },
    "papermill": {
     "duration": 1.059316,
     "end_time": "2022-06-22T11:32:47.957753",
     "exception": false,
     "start_time": "2022-06-22T11:32:46.898437",
     "status": "completed"
    },
    "tags": []
   },
   "outputs": [
    {
     "data": {
      "image/png": "[encoded data removed]",
      "text/plain": [
       "<Figure size 432x288 with 1 Axes>"
      ]
     },
     "metadata": {
      "needs_background": "light"
     },
     "output_type": "display_data"
    },
    {
     "data": {
      "image/png": "[encoded data removed]",
      "text/plain": [
       "<Figure size 432x288 with 1 Axes>"
      ]
     },
     "metadata": {
      "needs_background": "light"
     },
     "output_type": "display_data"
    },
    {
     "data": {
      "image/png": "[encoded data removed]",
      "text/plain": [
       "<Figure size 432x288 with 1 Axes>"
      ]
     },
     "metadata": {
      "needs_background": "light"
     },
     "output_type": "display_data"
    },
    {
     "data": {
      "image/png": "[encoded data removed]",
      "text/plain": [
       "<Figure size 432x288 with 1 Axes>"
      ]
     },
     "metadata": {
      "needs_background": "light"
     },
     "output_type": "display_data"
    }
   ],
   "source": [
    "sanityChecks.discProbVsError(train_data,disc,device)\n",
    "sanityChecks.discProbVsError(test_data,disc,device)"
   ]
  },
  {
   "cell_type": "markdown",
   "id": "130f3a4d",
   "metadata": {
    "id": "130f3a4d",
    "papermill": {
     "duration": 0.051886,
     "end_time": "2022-06-22T11:32:48.063370",
     "exception": false,
     "start_time": "2022-06-22T11:32:48.011484",
     "status": "completed"
    },
    "tags": []
   },
   "source": [
    "# ABC - GAN Model with skip connection"
   ]
  },
  {
   "cell_type": "code",
   "execution_count": 15,
   "id": "4e43dad1",
   "metadata": {
    "execution": {
     "iopub.execute_input": "2022-06-22T11:32:48.177250Z",
     "iopub.status.busy": "2022-06-22T11:32:48.176174Z",
     "iopub.status.idle": "2022-06-22T11:32:48.181237Z",
     "shell.execute_reply": "2022-06-22T11:32:48.181939Z"
    },
    "id": "4e43dad1",
    "papermill": {
     "duration": 0.070574,
     "end_time": "2022-06-22T11:32:48.182154",
     "exception": false,
     "start_time": "2022-06-22T11:32:48.111580",
     "status": "completed"
    },
    "tags": []
   },
   "outputs": [],
   "source": [
    "#Generator\n",
    "gen3 = network.GeneratorWithSkipConnection(n_features+1).to(device)\n",
    "constraints=network.weightConstraint()\n",
    "#Discriminator \n",
    "disc3 = network.Discriminator(n_features+1).to(device)\n",
    "\n",
    "criterion = torch.nn.BCELoss()\n",
    "gen_opt = torch.optim.Adam(gen3.parameters(), lr=0.001, betas=(0.5, 0.999))\n",
    "disc_opt = torch.optim.Adam(disc3.parameters(), lr=0.001, betas=(0.5, 0.999))\n"
   ]
  },
  {
   "cell_type": "code",
   "execution_count": 16,
   "id": "26acbc37",
   "metadata": {
    "execution": {
     "iopub.execute_input": "2022-06-22T11:32:48.298745Z",
     "iopub.status.busy": "2022-06-22T11:32:48.297969Z",
     "iopub.status.idle": "2022-06-22T11:34:10.381202Z",
     "shell.execute_reply": "2022-06-22T11:34:10.380659Z"
    },
    "id": "26acbc37",
    "papermill": {
     "duration": 82.144669,
     "end_time": "2022-06-22T11:34:10.381389",
     "exception": false,
     "start_time": "2022-06-22T11:32:48.236720",
     "status": "completed"
    },
    "tags": []
   },
   "outputs": [
    {
     "data": {
      "image/png": "[encoded data removed]",
      "text/plain": [
       "<Figure size 432x288 with 1 Axes>"
      ]
     },
     "metadata": {
      "needs_background": "light"
     },
     "output_type": "display_data"
    },
    {
     "data": {
      "image/png": "[encoded data removed]",
      "text/plain": [
       "<Figure size 432x288 with 1 Axes>"
      ]
     },
     "metadata": {
      "needs_background": "light"
     },
     "output_type": "display_data"
    }
   ],
   "source": [
    "ABC_train_test2.training_GAN_skip_connection(disc3,gen3,disc_opt,gen_opt,train_data,batch_size,n_epochs,criterion,prior_model,variance,bias,device)"
   ]
  },
  {
   "cell_type": "code",
   "execution_count": 17,
   "id": "c5e0717b",
   "metadata": {
    "execution": {
     "iopub.execute_input": "2022-06-22T11:34:10.499845Z",
     "iopub.status.busy": "2022-06-22T11:34:10.497952Z",
     "iopub.status.idle": "2022-06-22T11:34:11.473513Z",
     "shell.execute_reply": "2022-06-22T11:34:11.477360Z"
    },
    "id": "c5e0717b",
    "papermill": {
     "duration": 1.052843,
     "end_time": "2022-06-22T11:34:11.479607",
     "exception": false,
     "start_time": "2022-06-22T11:34:10.426764",
     "status": "completed"
    },
    "tags": []
   },
   "outputs": [
    {
     "data": {
      "application/scrapbook.scrap.json+json": {
       "data": 0.12900737775952964,
       "encoder": "json",
       "name": "ABC-GAN Model 3 MSE",
       "version": 1
      }
     },
     "metadata": {
      "scrapbook": {
       "data": true,
       "display": false,
       "name": "ABC-GAN Model 3 MSE"
      }
     },
     "output_type": "display_data"
    },
    {
     "data": {
      "application/scrapbook.scrap.json+json": {
       "data": 0.30502133422996847,
       "encoder": "json",
       "name": "ABC-GAN Model 3 MAE",
       "version": 1
      }
     },
     "metadata": {
      "scrapbook": {
       "data": true,
       "display": false,
       "name": "ABC-GAN Model 3 MAE"
      }
     },
     "output_type": "display_data"
    },
    {
     "data": {
      "application/scrapbook.scrap.json+json": {
       "data": 6.10042668459937,
       "encoder": "json",
       "name": "ABC-GAN Model 3 Manhattan Distance",
       "version": 1
      }
     },
     "metadata": {
      "scrapbook": {
       "data": true,
       "display": false,
       "name": "ABC-GAN Model 3 Manhattan Distance"
      }
     },
     "output_type": "display_data"
    },
    {
     "data": {
      "application/scrapbook.scrap.json+json": {
       "data": 1.602208060037719,
       "encoder": "json",
       "name": "ABC-GAN Model 3 Euclidean distance",
       "version": 1
      }
     },
     "metadata": {
      "scrapbook": {
       "data": true,
       "display": false,
       "name": "ABC-GAN Model 3 Euclidean distance"
      }
     },
     "output_type": "display_data"
    },
    {
     "data": {
      "application/scrapbook.scrap.json+json": {
       "data": [
        [
         0.1619560472537589,
         0.1380990372383229,
         0.13263263826813304,
         0.14598519065014334,
         0.12479445302393719,
         0.10755915748869746,
         0.11983650979382424,
         0.11164584071071504,
         0.11710335700972978,
         0.1317852198444977,
         0.11874795367444406,
         0.132193444312602,
         0.13917900403927702,
         0.1698446789329327,
         0.13765199432332653,
         0.14840789637525367,
         0.13128453115587718,
         0.09740144002603604,
         0.1165500686804249,
         0.14283631046293857,
         0.11021233554193662,
         0.14194922179481292,
         0.11134609465445475,
         0.1267973098585463,
         0.162878029339804,
         0.14427571890559757,
         0.15444234621230635,
         0.11928925989271932,
         0.12171966334822795,
         0.13619754115772714,
         0.11357387422876383,
         0.1336991275031822,
         0.10994940967420201,
         0.10716258535420682,
         0.12504319684399096,
         0.1416064225324934,
         0.14268123870189386,
         0.10500086635802548,
         0.10108271939826197,
         0.12200527791275784,
         0.14087974111302204,
         0.14039313339811793,
         0.14001279511614073,
         0.1242599511131853,
         0.1261148711942021,
         0.13256136737237703,
         0.10477589225053077,
         0.11982332528728708,
         0.10965733717139359,
         0.15490251175342684,
         0.13635029817149208,
         0.15213788458495947,
         0.1383977073870994,
         0.12091651843861118,
         0.10302618012529799,
         0.11066585659489711,
         0.12459994677851367,
         0.11953079983569903,
         0.1611218677734593,
         0.1258126440543678,
         0.13489327076437013,
         0.1433049033680859,
         0.11766013712163334,
         0.14751901413499008,
         0.12061616437567486,
         0.16574767244316618,
         0.132042022535588,
         0.1386260244875499,
         0.11216155210264245,
         0.1178849254416828,
         0.12286664463636532,
         0.11582450088723398,
         0.14669963828688898,
         0.13277790687643462,
         0.1268555471718141,
         0.13989599539657377,
         0.08380328793210313,
         0.13415602079790262,
         0.10782678954576323,
         0.11927253304737406,
         0.10099499336313227,
         0.11365734793970161,
         0.11896509899363106,
         0.12309504369252693,
         0.10130457852407808,
         0.1041247782364672,
         0.12442309804987679,
         0.19557326359868132,
         0.15490134975211087,
         0.1444824667204359,
         0.13343011482611006,
         0.13850666148486157,
         0.10308347776491526,
         0.1273902660961098,
         0.12106495632168505,
         0.13715122779649108,
         0.14719724378190208,
         0.1561350164442234,
         0.10152759739393749,
         0.15094700182538529
        ],
        [
         0.3470894992351532,
         0.31452160105109217,
         0.31641029715538027,
         0.3257866270840168,
         0.2938879780471325,
         0.2681765861809254,
         0.28852159827947615,
         0.28299094177782536,
         0.28989388085901735,
         0.3103068992495537,
         0.30773728247731924,
         0.29853176698088646,
         0.31947061568498614,
         0.36160877123475077,
         0.3136685498058796,
         0.33402748927474024,
         0.31275180280208587,
         0.26610786356031896,
         0.2985855914652348,
         0.33968221917748453,
         0.2662443496286869,
         0.31690135449171064,
         0.2753859132528305,
         0.29904207959771156,
         0.36425845250487326,
         0.3202092833817005,
         0.32757800444960594,
         0.2909226126968861,
         0.2985599242150784,
         0.3074155032634735,
         0.29193456992506983,
         0.3036045767366886,
         0.27517840154469014,
         0.2760807991027832,
         0.29591439142823217,
         0.33084659054875376,
         0.3120883237570524,
         0.2748982224613428,
         0.2606249161064625,
         0.3041822321712971,
         0.3250951193273067,
         0.31687185242772103,
         0.32940421961247923,
         0.30463346615433695,
         0.30894450917840005,
         0.32220359072089194,
         0.27998763546347616,
         0.3034114070236683,
         0.27489019799977543,
         0.3369325116276741,
         0.3128282312303782,
         0.3314183585345745,
         0.31365671530365946,
         0.2934779588133097,
         0.26792524978518484,
         0.2806626960635185,
         0.28469817265868186,
         0.2976373039186001,
         0.34927882328629495,
         0.2930923942476511,
         0.31094766445457933,
         0.3308052569627762,
         0.2797262243926525,
         0.32159410044550896,
         0.2829405847936869,
         0.3512391857802868,
         0.30133694149553775,
         0.3174988977611065,
         0.2905350238084793,
         0.3083652449771762,
         0.3099100850522518,
         0.2870963357388973,
         0.3280538469552994,
         0.30717859901487826,
         0.31466321721673013,
         0.31442164853215215,
         0.24170663580298424,
         0.31540132910013197,
         0.2831532746553421,
         0.29524200335144996,
         0.2578804224729538,
         0.29283403642475603,
         0.2807586587965488,
         0.28400560542941095,
         0.2726948089897633,
         0.27749999538064,
         0.29853231832385063,
         0.3837123323231936,
         0.3370749242603779,
         0.30663441494107246,
         0.3230697505176067,
         0.31699911281466486,
         0.2691056297160685,
         0.3259386770427227,
         0.2936840273439884,
         0.3055064342916012,
         0.3365853615105152,
         0.3398478914052248,
         0.26862778700888157,
         0.3306463576853275
        ],
        [
         6.941789984703064,
         6.290432021021843,
         6.328205943107605,
         6.515732541680336,
         5.87775956094265,
         5.363531723618507,
         5.770431965589523,
         5.659818835556507,
         5.797877617180347,
         6.206137984991074,
         6.154745649546385,
         5.970635339617729,
         6.389412313699722,
         7.232175424695015,
         6.273370996117592,
         6.680549785494804,
         6.2550360560417175,
         5.322157271206379,
         5.971711829304695,
         6.79364438354969,
         5.324886992573738,
         6.338027089834213,
         5.50771826505661,
         5.980841591954231,
         7.2851690500974655,
         6.40418566763401,
         6.551560088992119,
         5.818452253937721,
         5.971198484301567,
         6.14831006526947,
         5.838691398501396,
         6.072091534733772,
         5.503568030893803,
         5.521615982055664,
         5.918287828564644,
         6.616931810975075,
         6.241766475141048,
         5.497964449226856,
         5.21249832212925,
         6.0836446434259415,
         6.501902386546135,
         6.3374370485544205,
         6.588084392249584,
         6.092669323086739,
         6.178890183568001,
         6.444071814417839,
         5.599752709269524,
         6.068228140473366,
         5.497803959995508,
         6.738650232553482,
         6.256564624607563,
         6.62836717069149,
         6.273134306073189,
         5.869559176266193,
         5.358504995703697,
         5.6132539212703705,
         5.693963453173637,
         5.952746078372002,
         6.985576465725899,
         5.861847884953022,
         6.218953289091587,
         6.616105139255524,
         5.59452448785305,
         6.431882008910179,
         5.658811695873737,
         7.024783715605736,
         6.026738829910755,
         6.34997795522213,
         5.810700476169586,
         6.167304899543524,
         6.198201701045036,
         5.7419267147779465,
         6.5610769391059875,
         6.1435719802975655,
         6.293264344334602,
         6.2884329706430435,
         4.834132716059685,
         6.30802658200264,
         5.663065493106842,
         5.904840067028999,
         5.157608449459076,
         5.856680728495121,
         5.615173175930977,
         5.680112108588219,
         5.453896179795265,
         5.549999907612801,
         5.970646366477013,
         7.674246646463871,
         6.741498485207558,
         6.132688298821449,
         6.461395010352135,
         6.339982256293297,
         5.38211259432137,
         6.518773540854454,
         5.873680546879768,
         6.110128685832024,
         6.731707230210304,
         6.796957828104496,
         5.372555740177631,
         6.612927153706551
        ],
        [
         1.7997558015117434,
         1.6619207997875403,
         1.6286966462059966,
         1.7087140817008757,
         1.5798383020039564,
         1.4666912250961173,
         1.5481376540464626,
         1.4942947547971588,
         1.5303813708336218,
         1.6234852622952738,
         1.5410902223714487,
         1.625997812499156,
         1.6684064495156872,
         1.8430663522127069,
         1.6592287022790229,
         1.7228342716306386,
         1.620398291506611,
         1.3957180232843311,
         1.5267617278437715,
         1.690185258857375,
         1.484670573170605,
         1.6849286144808209,
         1.49228746998998,
         1.5924654461466112,
         1.804871349098345,
         1.6986801871193857,
         1.7575115715824257,
         1.544598717419637,
         1.5602542315163126,
         1.6504395848241593,
         1.507142158051216,
         1.635231650275778,
         1.482898578286472,
         1.4639848725598692,
         1.5814120073149245,
         1.6828928815138138,
         1.6892675258933612,
         1.4491436530449662,
         1.4218489328916906,
         1.5620837231900078,
         1.6785692783619153,
         1.6756678274533883,
         1.673396516765472,
         1.5764514018084117,
         1.5881742422933454,
         1.6282589927427211,
         1.4475903581506113,
         1.5480524880461068,
         1.4809276631314143,
         1.7601279030424286,
         1.651364878950089,
         1.7443502204830286,
         1.6637169674382684,
         1.5550981862159776,
         1.4354524034275604,
         1.4877221285905315,
         1.5786066437115591,
         1.5461616981137454,
         1.7951148585728953,
         1.5862701160544366,
         1.6425180106432327,
         1.6929554239145572,
         1.5340152353978322,
         1.7176671047382266,
         1.553165569897008,
         1.8207013618008099,
         1.6250662911745355,
         1.6650887332965165,
         1.4977419811345507,
         1.535479895288003,
         1.5675882408104835,
         1.5220019769187816,
         1.7128901791235127,
         1.6295883337606134,
         1.592831109514214,
         1.672698391202513,
         1.2946295835651458,
         1.6380233258284367,
         1.4685148248878064,
         1.5444904211251946,
         1.4212318133445527,
         1.5076959105847678,
         1.5424986158413956,
         1.5690445735703427,
         1.4234084341753641,
         1.443085432235162,
         1.5774859622188517,
         1.9777424685670342,
         1.7601213012296106,
         1.6998968599326012,
         1.6335857175312847,
         1.664371722211487,
         1.4358515087913184,
         1.5961846139849225,
         1.5560524176369193,
         1.6562078842735357,
         1.7157927834205509,
         1.7671163880413956,
         1.4249743674462183,
         1.7375097227088272
        ]
       ],
       "encoder": "json",
       "name": "ABC_GAN_3 Metrics",
       "version": 1
      }
     },
     "metadata": {
      "scrapbook": {
       "data": true,
       "display": false,
       "name": "ABC_GAN_3 Metrics"
      }
     },
     "output_type": "display_data"
    },
    {
     "name": "stdout",
     "output_type": "stream",
     "text": [
      "MSE\n",
      "0.12900737775952964\n"
     ]
    }
   ],
   "source": [
    "ABC_GAN3_metrics=ABC_train_test2.test_generator(gen3,test_data,prior_model,variance,bias,\"3\",device)\n",
    "sb.glue(\"ABC_GAN_3 Metrics\",ABC_GAN3_metrics)\n",
    "\n",
    "print(\"MSE\")\n",
    "print(mean(ABC_GAN3_metrics[0]))"
   ]
  },
  {
   "cell_type": "code",
   "execution_count": 18,
   "id": "c8e46b48",
   "metadata": {
    "execution": {
     "iopub.execute_input": "2022-06-22T11:34:11.656567Z",
     "iopub.status.busy": "2022-06-22T11:34:11.655774Z",
     "iopub.status.idle": "2022-06-22T11:34:12.602706Z",
     "shell.execute_reply": "2022-06-22T11:34:12.603631Z"
    },
    "id": "c8e46b48",
    "papermill": {
     "duration": 1.048645,
     "end_time": "2022-06-22T11:34:12.603871",
     "exception": false,
     "start_time": "2022-06-22T11:34:11.555226",
     "status": "completed"
    },
    "tags": []
   },
   "outputs": [
    {
     "data": {
      "image/png": "[encoded data removed]",
      "text/plain": [
       "<Figure size 432x288 with 1 Axes>"
      ]
     },
     "metadata": {
      "needs_background": "light"
     },
     "output_type": "display_data"
    },
    {
     "data": {
      "image/png": "[encoded data removed]",
      "text/plain": [
       "<Figure size 432x288 with 1 Axes>"
      ]
     },
     "metadata": {
      "needs_background": "light"
     },
     "output_type": "display_data"
    },
    {
     "data": {
      "image/png": "[encoded data removed]",
      "text/plain": [
       "<Figure size 432x288 with 1 Axes>"
      ]
     },
     "metadata": {
      "needs_background": "light"
     },
     "output_type": "display_data"
    },
    {
     "data": {
      "image/png": "[encoded data removed]",
      "text/plain": [
       "<Figure size 432x288 with 1 Axes>"
      ]
     },
     "metadata": {
      "needs_background": "light"
     },
     "output_type": "display_data"
    }
   ],
   "source": [
    "sanityChecks.discProbVsError(train_data,disc3,device)\n",
    "sanityChecks.discProbVsError(test_data,disc3,device)"
   ]
  },
  {
   "cell_type": "markdown",
   "id": "a5bd74c3",
   "metadata": {
    "id": "a5bd74c3",
    "papermill": {
     "duration": 0.065398,
     "end_time": "2022-06-22T11:34:12.736368",
     "exception": false,
     "start_time": "2022-06-22T11:34:12.670970",
     "status": "completed"
    },
    "tags": []
   },
   "source": [
    "## Skip Connection Model Analysis - ABC-GAN "
   ]
  },
  {
   "cell_type": "markdown",
   "id": "5744a8bf",
   "metadata": {
    "id": "5744a8bf",
    "papermill": {
     "duration": 0.06132,
     "end_time": "2022-06-22T11:34:12.856079",
     "exception": false,
     "start_time": "2022-06-22T11:34:12.794759",
     "status": "completed"
    },
    "tags": []
   },
   "source": [
    "### Weight Analysis \n",
    "\n",
    "Study the weights of the skip connection layer\n",
    "\n",
    "Equation of the skip connection is \n",
    "\n",
    "$output = y_{gan} * w + y_{abc} * (1-w)$"
   ]
  },
  {
   "cell_type": "code",
   "execution_count": 19,
   "id": "52c31dea",
   "metadata": {
    "execution": {
     "iopub.execute_input": "2022-06-22T11:34:12.992295Z",
     "iopub.status.busy": "2022-06-22T11:34:12.991105Z",
     "iopub.status.idle": "2022-06-22T11:34:13.004114Z",
     "shell.execute_reply": "2022-06-22T11:34:13.005401Z"
    },
    "id": "52c31dea",
    "papermill": {
     "duration": 0.088611,
     "end_time": "2022-06-22T11:34:13.006006",
     "exception": false,
     "start_time": "2022-06-22T11:34:12.917395",
     "status": "completed"
    },
    "tags": []
   },
   "outputs": [
    {
     "name": "stdout",
     "output_type": "stream",
     "text": [
      "Weight of the node at skip connection\n",
      "Parameter containing:\n",
      "tensor([[0.1713]], requires_grad=True)\n"
     ]
    },
    {
     "data": {
      "application/scrapbook.scrap.json+json": {
       "data": 0.17125149071216583,
       "encoder": "json",
       "name": "Skip Connection Weight",
       "version": 1
      }
     },
     "metadata": {
      "scrapbook": {
       "data": true,
       "display": false,
       "name": "Skip Connection Weight"
      }
     },
     "output_type": "display_data"
    }
   ],
   "source": [
    "print(\"Weight of the node at skip connection\")\n",
    "for name,param in gen3.named_parameters():\n",
    "    if(name == \"skipNode.weight\"):\n",
    "        print(param)\n",
    "        sb.glue(\"Skip Connection Weight\",param.item())"
   ]
  }
 ],
 "metadata": {
  "colab": {
   "collapsed_sections": [],
   "name": "ABC_GAN_Model-Catboost_Pre-gen.ipynb",
   "provenance": []
  },
  "interpreter": {
   "hash": "31f2aee4e71d21fbe5cf8b01ff0e069b9275f58929596ceb00d14d90e3e16cd6"
  },
  "kernelspec": {
   "display_name": "Python 3 (ipykernel)",
   "language": "python",
   "name": "python3"
  },
  "language_info": {
   "codemirror_mode": {
    "name": "ipython",
    "version": 3
   },
   "file_extension": ".py",
   "mimetype": "text/x-python",
   "name": "python",
   "nbconvert_exporter": "python",
   "pygments_lexer": "ipython3",
   "version": "3.8.3"
  },
  "papermill": {
   "default_parameters": {},
   "duration": 167.58916,
   "end_time": "2022-06-22T11:34:14.437946",
   "environment_variables": {},
   "exception": null,
   "input_path": "ABC_GAN-TabNet.ipynb",
   "output_path": "./ABC_GAN_TabNet/ABC-GAN_output_1_3.ipynb",
   "parameters": {
    "bias": 0.1,
    "variance": 1
   },
   "start_time": "2022-06-22T11:31:26.848786",
   "version": "2.3.3"
  }
 },
 "nbformat": 4,
 "nbformat_minor": 5
}