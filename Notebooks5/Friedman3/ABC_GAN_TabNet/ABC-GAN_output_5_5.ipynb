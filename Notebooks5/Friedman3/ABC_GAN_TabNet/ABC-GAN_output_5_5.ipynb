{
 "cells": [
  {
   "cell_type": "markdown",
   "id": "622780e6",
   "metadata": {
    "id": "622780e6",
    "papermill": {
     "duration": 0.025526,
     "end_time": "2022-06-22T13:46:04.183525",
     "exception": false,
     "start_time": "2022-06-22T13:46:04.157999",
     "status": "completed"
    },
    "tags": []
   },
   "source": [
    "## Import Libraries "
   ]
  },
  {
   "cell_type": "code",
   "execution_count": 1,
   "id": "a62397e3",
   "metadata": {
    "execution": {
     "iopub.execute_input": "2022-06-22T13:46:04.252834Z",
     "iopub.status.busy": "2022-06-22T13:46:04.251737Z",
     "iopub.status.idle": "2022-06-22T13:46:04.261117Z",
     "shell.execute_reply": "2022-06-22T13:46:04.265361Z"
    },
    "id": "a62397e3",
    "papermill": {
     "duration": 0.061785,
     "end_time": "2022-06-22T13:46:04.265729",
     "exception": false,
     "start_time": "2022-06-22T13:46:04.203944",
     "status": "completed"
    },
    "tags": []
   },
   "outputs": [],
   "source": [
    "import warnings\n",
    "import sys\n",
    "sys.path.insert(0, '../../src')\n",
    "warnings.filterwarnings('ignore')"
   ]
  },
  {
   "cell_type": "code",
   "execution_count": 2,
   "id": "d6a4e155",
   "metadata": {
    "execution": {
     "iopub.execute_input": "2022-06-22T13:46:04.361670Z",
     "iopub.status.busy": "2022-06-22T13:46:04.359367Z",
     "iopub.status.idle": "2022-06-22T13:46:10.647416Z",
     "shell.execute_reply": "2022-06-22T13:46:10.648084Z"
    },
    "id": "d6a4e155",
    "papermill": {
     "duration": 6.338384,
     "end_time": "2022-06-22T13:46:10.648337",
     "exception": false,
     "start_time": "2022-06-22T13:46:04.309953",
     "status": "completed"
    },
    "tags": []
   },
   "outputs": [],
   "source": [
    "import ABC_train_test2\n",
    "import friedman3Dataset\n",
    "import network\n",
    "import dataset\n",
    "import sanityChecks\n",
    "import torch \n",
    "import scrapbook as sb\n",
    "from statistics import mean \n",
    "import catboost as ctb \n",
    "from sklearn.model_selection import train_test_split\n",
    "from sklearn.metrics import mean_squared_error,mean_absolute_error\n",
    "import numpy as np\n",
    "from pytorch_tabnet.tab_model import TabNetRegressor"
   ]
  },
  {
   "cell_type": "markdown",
   "id": "2fa5b0f7",
   "metadata": {
    "id": "2fa5b0f7",
    "papermill": {
     "duration": 0.026637,
     "end_time": "2022-06-22T13:46:10.695580",
     "exception": false,
     "start_time": "2022-06-22T13:46:10.668943",
     "status": "completed"
    },
    "tags": []
   },
   "source": [
    "## Parameters "
   ]
  },
  {
   "cell_type": "code",
   "execution_count": 3,
   "id": "783186fb",
   "metadata": {
    "execution": {
     "iopub.execute_input": "2022-06-22T13:46:10.752224Z",
     "iopub.status.busy": "2022-06-22T13:46:10.750899Z",
     "iopub.status.idle": "2022-06-22T13:46:10.753457Z",
     "shell.execute_reply": "2022-06-22T13:46:10.754083Z"
    },
    "id": "783186fb",
    "papermill": {
     "duration": 0.036393,
     "end_time": "2022-06-22T13:46:10.754504",
     "exception": false,
     "start_time": "2022-06-22T13:46:10.718111",
     "status": "completed"
    },
    "tags": [
     "parameters"
    ]
   },
   "outputs": [],
   "source": [
    "variance = 1\n",
    "bias = 1 "
   ]
  },
  {
   "cell_type": "code",
   "execution_count": 4,
   "id": "0a2d1110",
   "metadata": {
    "execution": {
     "iopub.execute_input": "2022-06-22T13:46:10.813510Z",
     "iopub.status.busy": "2022-06-22T13:46:10.812073Z",
     "iopub.status.idle": "2022-06-22T13:46:10.814745Z",
     "shell.execute_reply": "2022-06-22T13:46:10.815320Z"
    },
    "papermill": {
     "duration": 0.040158,
     "end_time": "2022-06-22T13:46:10.815557",
     "exception": false,
     "start_time": "2022-06-22T13:46:10.775399",
     "status": "completed"
    },
    "tags": [
     "injected-parameters"
    ]
   },
   "outputs": [],
   "source": [
    "# Parameters\n",
    "variance = 0.01\n",
    "bias = 0.1\n"
   ]
  },
  {
   "cell_type": "markdown",
   "id": "391cdbfd",
   "metadata": {
    "id": "391cdbfd",
    "papermill": {
     "duration": 0.019249,
     "end_time": "2022-06-22T13:46:10.853315",
     "exception": false,
     "start_time": "2022-06-22T13:46:10.834066",
     "status": "completed"
    },
    "tags": []
   },
   "source": [
    "## Dataset \n"
   ]
  },
  {
   "cell_type": "code",
   "execution_count": 5,
   "id": "5b51f161",
   "metadata": {
    "execution": {
     "iopub.execute_input": "2022-06-22T13:46:10.891606Z",
     "iopub.status.busy": "2022-06-22T13:46:10.890852Z",
     "iopub.status.idle": "2022-06-22T13:46:10.893636Z",
     "shell.execute_reply": "2022-06-22T13:46:10.893082Z"
    },
    "id": "5b51f161",
    "papermill": {
     "duration": 0.024935,
     "end_time": "2022-06-22T13:46:10.893837",
     "exception": false,
     "start_time": "2022-06-22T13:46:10.868902",
     "status": "completed"
    },
    "tags": []
   },
   "outputs": [],
   "source": [
    "#Parameters \n",
    "n_features = 4\n",
    "n_samples= 100\n",
    "n_target = 1"
   ]
  },
  {
   "cell_type": "code",
   "execution_count": 6,
   "id": "5d6eced4",
   "metadata": {
    "execution": {
     "iopub.execute_input": "2022-06-22T13:46:10.944042Z",
     "iopub.status.busy": "2022-06-22T13:46:10.942412Z",
     "iopub.status.idle": "2022-06-22T13:46:10.958091Z",
     "shell.execute_reply": "2022-06-22T13:46:10.958752Z"
    },
    "id": "5d6eced4",
    "papermill": {
     "duration": 0.04719,
     "end_time": "2022-06-22T13:46:10.959316",
     "exception": false,
     "start_time": "2022-06-22T13:46:10.912126",
     "status": "completed"
    },
    "tags": []
   },
   "outputs": [
    {
     "name": "stdout",
     "output_type": "stream",
     "text": [
      "          X1           X2        X3        X4         Y\n",
      "0  95.256958  1394.247905  0.081371  3.348161  0.723443\n",
      "1  47.230385  1004.799281  0.647019  9.380797  1.443198\n",
      "2  70.083462   618.265482  0.612638  1.897810  1.373087\n",
      "3  40.610253   651.677372  0.877469  3.992036  1.530395\n",
      "4  53.096345   643.717867  0.338963  6.350730  1.235706\n"
     ]
    }
   ],
   "source": [
    "X,Y = friedman3Dataset.friedman3_data(n_samples)"
   ]
  },
  {
   "cell_type": "code",
   "execution_count": 7,
   "id": "fe007438",
   "metadata": {
    "execution": {
     "iopub.execute_input": "2022-06-22T13:46:11.004867Z",
     "iopub.status.busy": "2022-06-22T13:46:11.002329Z",
     "iopub.status.idle": "2022-06-22T13:46:11.008548Z",
     "shell.execute_reply": "2022-06-22T13:46:11.009114Z"
    },
    "id": "fe007438",
    "papermill": {
     "duration": 0.031129,
     "end_time": "2022-06-22T13:46:11.009350",
     "exception": false,
     "start_time": "2022-06-22T13:46:10.978221",
     "status": "completed"
    },
    "tags": []
   },
   "outputs": [],
   "source": [
    "#Train test split for dataset \n",
    "X_train,X_test,Y_train,Y_test = train_test_split(X,Y,test_size = 0.2)\n",
    "train_data = dataset.CustomDataset(X_train,Y_train)\n",
    "test_data = dataset.CustomDataset(X_test,Y_test)\n"
   ]
  },
  {
   "cell_type": "markdown",
   "id": "a9a1af34",
   "metadata": {
    "id": "a9a1af34",
    "papermill": {
     "duration": 0.037258,
     "end_time": "2022-06-22T13:46:11.068345",
     "exception": false,
     "start_time": "2022-06-22T13:46:11.031087",
     "status": "completed"
    },
    "tags": []
   },
   "source": [
    "## Training Parameters "
   ]
  },
  {
   "cell_type": "code",
   "execution_count": 8,
   "id": "952b7fc8",
   "metadata": {
    "execution": {
     "iopub.execute_input": "2022-06-22T13:46:11.114950Z",
     "iopub.status.busy": "2022-06-22T13:46:11.114187Z",
     "iopub.status.idle": "2022-06-22T13:46:11.116397Z",
     "shell.execute_reply": "2022-06-22T13:46:11.116917Z"
    },
    "id": "952b7fc8",
    "papermill": {
     "duration": 0.02601,
     "end_time": "2022-06-22T13:46:11.117146",
     "exception": false,
     "start_time": "2022-06-22T13:46:11.091136",
     "status": "completed"
    },
    "tags": []
   },
   "outputs": [],
   "source": [
    "batch_size = 32\n",
    "n_epochs = 1000\n",
    "#Select the device \n",
    "device = torch.device('cuda' if torch.cuda.is_available() else 'cpu')"
   ]
  },
  {
   "cell_type": "markdown",
   "id": "a95e1600",
   "metadata": {
    "id": "a95e1600",
    "papermill": {
     "duration": 0.021513,
     "end_time": "2022-06-22T13:46:11.156351",
     "exception": false,
     "start_time": "2022-06-22T13:46:11.134838",
     "status": "completed"
    },
    "tags": []
   },
   "source": [
    "# ABC Pre-generator Model \n",
    "\n",
    "1. The catboost model is used as a pre-generator model for the ABC-GAN. \n",
    "2. The model is first trained on the entire dataset \n",
    "3. It generats X,Y pairs and we add some Gaussian noise with mean 0 and variance 1 to it which is then feed as input to the generator.\n"
   ]
  },
  {
   "cell_type": "code",
   "execution_count": 9,
   "id": "ff8ce7bd",
   "metadata": {
    "execution": {
     "iopub.execute_input": "2022-06-22T13:46:11.201224Z",
     "iopub.status.busy": "2022-06-22T13:46:11.200017Z",
     "iopub.status.idle": "2022-06-22T13:46:30.667951Z",
     "shell.execute_reply": "2022-06-22T13:46:30.668413Z"
    },
    "id": "ff8ce7bd",
    "papermill": {
     "duration": 19.492513,
     "end_time": "2022-06-22T13:46:30.668623",
     "exception": false,
     "start_time": "2022-06-22T13:46:11.176110",
     "status": "completed"
    },
    "tags": []
   },
   "outputs": [
    {
     "name": "stdout",
     "output_type": "stream",
     "text": [
      "Device used : cpu\n"
     ]
    },
    {
     "name": "stdout",
     "output_type": "stream",
     "text": [
      "epoch 0  | loss: 1.0601  | train_mse: 4.83829 | train_mae: 1.59632 |  0:00:00s\n",
      "epoch 1  | loss: 0.61534 | train_mse: 3.79043 | train_mae: 1.31924 |  0:00:00s\n",
      "epoch 2  | loss: 0.48193 | train_mse: 2.3439  | train_mae: 1.08969 |  0:00:00s\n"
     ]
    },
    {
     "name": "stdout",
     "output_type": "stream",
     "text": [
      "epoch 3  | loss: 0.60363 | train_mse: 1.12485 | train_mae: 0.76233 |  0:00:00s\n",
      "epoch 4  | loss: 0.33624 | train_mse: 0.82139 | train_mae: 0.66727 |  0:00:00s\n",
      "epoch 5  | loss: 0.51033 | train_mse: 0.67643 | train_mae: 0.63228 |  0:00:00s\n"
     ]
    },
    {
     "name": "stdout",
     "output_type": "stream",
     "text": [
      "epoch 6  | loss: 0.44079 | train_mse: 0.62192 | train_mae: 0.59407 |  0:00:00s\n",
      "epoch 7  | loss: 0.35605 | train_mse: 0.59185 | train_mae: 0.56396 |  0:00:00s\n",
      "epoch 8  | loss: 0.25645 | train_mse: 0.63857 | train_mae: 0.60104 |  0:00:00s\n"
     ]
    },
    {
     "name": "stdout",
     "output_type": "stream",
     "text": [
      "epoch 9  | loss: 0.25174 | train_mse: 0.48254 | train_mae: 0.50591 |  0:00:01s\n",
      "epoch 10 | loss: 0.18306 | train_mse: 0.71062 | train_mae: 0.62341 |  0:00:01s\n",
      "epoch 11 | loss: 0.38603 | train_mse: 0.47814 | train_mae: 0.49448 |  0:00:01s\n"
     ]
    },
    {
     "name": "stdout",
     "output_type": "stream",
     "text": [
      "epoch 12 | loss: 0.18581 | train_mse: 0.39288 | train_mae: 0.46601 |  0:00:01s\n",
      "epoch 13 | loss: 0.32199 | train_mse: 0.29404 | train_mae: 0.41566 |  0:00:01s\n",
      "epoch 14 | loss: 0.20576 | train_mse: 0.25615 | train_mae: 0.38547 |  0:00:01s\n"
     ]
    },
    {
     "name": "stdout",
     "output_type": "stream",
     "text": [
      "epoch 15 | loss: 0.17753 | train_mse: 0.29758 | train_mae: 0.40941 |  0:00:01s\n",
      "epoch 16 | loss: 0.19147 | train_mse: 0.2881  | train_mae: 0.39778 |  0:00:01s\n",
      "epoch 17 | loss: 0.19228 | train_mse: 0.29591 | train_mae: 0.40752 |  0:00:01s\n"
     ]
    },
    {
     "name": "stdout",
     "output_type": "stream",
     "text": [
      "epoch 18 | loss: 0.18741 | train_mse: 0.21114 | train_mae: 0.35337 |  0:00:01s\n",
      "epoch 19 | loss: 0.29285 | train_mse: 0.18322 | train_mae: 0.32107 |  0:00:01s\n",
      "epoch 20 | loss: 0.17051 | train_mse: 0.20415 | train_mae: 0.34706 |  0:00:01s\n"
     ]
    },
    {
     "name": "stdout",
     "output_type": "stream",
     "text": [
      "epoch 21 | loss: 0.17323 | train_mse: 0.19764 | train_mae: 0.34419 |  0:00:02s\n",
      "epoch 22 | loss: 0.1703  | train_mse: 0.11019 | train_mae: 0.27648 |  0:00:02s\n",
      "epoch 23 | loss: 0.24159 | train_mse: 0.11666 | train_mae: 0.27475 |  0:00:02s\n"
     ]
    },
    {
     "name": "stdout",
     "output_type": "stream",
     "text": [
      "epoch 24 | loss: 0.19102 | train_mse: 0.12022 | train_mae: 0.28197 |  0:00:02s\n",
      "epoch 25 | loss: 0.18986 | train_mse: 0.11962 | train_mae: 0.27687 |  0:00:02s\n",
      "epoch 26 | loss: 0.12236 | train_mse: 0.10183 | train_mae: 0.26164 |  0:00:02s\n"
     ]
    },
    {
     "name": "stdout",
     "output_type": "stream",
     "text": [
      "epoch 27 | loss: 0.13622 | train_mse: 0.09659 | train_mae: 0.26368 |  0:00:02s\n",
      "epoch 28 | loss: 0.1996  | train_mse: 0.09167 | train_mae: 0.2474  |  0:00:02s\n",
      "epoch 29 | loss: 0.25425 | train_mse: 0.09929 | train_mae: 0.25254 |  0:00:02s\n"
     ]
    },
    {
     "name": "stdout",
     "output_type": "stream",
     "text": [
      "epoch 30 | loss: 0.14571 | train_mse: 0.10666 | train_mae: 0.26155 |  0:00:02s\n",
      "epoch 31 | loss: 0.10697 | train_mse: 0.09524 | train_mae: 0.2485  |  0:00:02s\n",
      "epoch 32 | loss: 0.13343 | train_mse: 0.11139 | train_mae: 0.26052 |  0:00:03s\n"
     ]
    },
    {
     "name": "stdout",
     "output_type": "stream",
     "text": [
      "epoch 33 | loss: 0.18076 | train_mse: 0.10399 | train_mae: 0.24539 |  0:00:03s\n",
      "epoch 34 | loss: 0.17032 | train_mse: 0.10256 | train_mae: 0.25367 |  0:00:03s\n",
      "epoch 35 | loss: 0.10622 | train_mse: 0.11815 | train_mae: 0.27036 |  0:00:03s\n"
     ]
    },
    {
     "name": "stdout",
     "output_type": "stream",
     "text": [
      "epoch 36 | loss: 0.15081 | train_mse: 0.19812 | train_mae: 0.33955 |  0:00:03s\n",
      "epoch 37 | loss: 0.23403 | train_mse: 0.14809 | train_mae: 0.30814 |  0:00:03s\n",
      "epoch 38 | loss: 0.23498 | train_mse: 0.11385 | train_mae: 0.26794 |  0:00:03s\n"
     ]
    },
    {
     "name": "stdout",
     "output_type": "stream",
     "text": [
      "epoch 39 | loss: 0.19393 | train_mse: 0.12956 | train_mae: 0.27044 |  0:00:03s\n",
      "epoch 40 | loss: 0.28992 | train_mse: 0.1442  | train_mae: 0.27892 |  0:00:03s\n",
      "epoch 41 | loss: 0.17869 | train_mse: 0.12071 | train_mae: 0.27162 |  0:00:03s\n"
     ]
    },
    {
     "name": "stdout",
     "output_type": "stream",
     "text": [
      "epoch 42 | loss: 0.17471 | train_mse: 0.14355 | train_mae: 0.29683 |  0:00:03s\n",
      "epoch 43 | loss: 0.16057 | train_mse: 0.16358 | train_mae: 0.30943 |  0:00:03s\n",
      "epoch 44 | loss: 0.16392 | train_mse: 0.12982 | train_mae: 0.27704 |  0:00:04s\n"
     ]
    },
    {
     "name": "stdout",
     "output_type": "stream",
     "text": [
      "epoch 45 | loss: 0.17694 | train_mse: 0.13164 | train_mae: 0.28938 |  0:00:04s\n",
      "epoch 46 | loss: 0.2604  | train_mse: 0.17248 | train_mae: 0.31063 |  0:00:04s\n",
      "epoch 47 | loss: 0.17124 | train_mse: 0.10313 | train_mae: 0.25666 |  0:00:04s\n"
     ]
    },
    {
     "name": "stdout",
     "output_type": "stream",
     "text": [
      "epoch 48 | loss: 0.16299 | train_mse: 0.18237 | train_mae: 0.28081 |  0:00:04s\n",
      "epoch 49 | loss: 0.20164 | train_mse: 0.18564 | train_mae: 0.2888  |  0:00:04s\n",
      "epoch 50 | loss: 0.17428 | train_mse: 0.16236 | train_mae: 0.28568 |  0:00:04s\n"
     ]
    },
    {
     "name": "stdout",
     "output_type": "stream",
     "text": [
      "epoch 51 | loss: 0.17886 | train_mse: 0.14601 | train_mae: 0.27991 |  0:00:04s\n",
      "epoch 52 | loss: 0.20807 | train_mse: 0.14264 | train_mae: 0.2872  |  0:00:04s\n",
      "epoch 53 | loss: 0.17493 | train_mse: 0.15406 | train_mae: 0.30109 |  0:00:04s\n"
     ]
    },
    {
     "name": "stdout",
     "output_type": "stream",
     "text": [
      "epoch 54 | loss: 0.19114 | train_mse: 0.21617 | train_mae: 0.33171 |  0:00:04s\n",
      "epoch 55 | loss: 0.11673 | train_mse: 0.23041 | train_mae: 0.3357  |  0:00:04s\n",
      "epoch 56 | loss: 0.22661 | train_mse: 0.20467 | train_mae: 0.30376 |  0:00:05s\n"
     ]
    },
    {
     "name": "stdout",
     "output_type": "stream",
     "text": [
      "epoch 57 | loss: 0.08252 | train_mse: 0.1207  | train_mae: 0.2763  |  0:00:05s\n",
      "epoch 58 | loss: 0.20025 | train_mse: 0.19797 | train_mae: 0.3109  |  0:00:05s\n",
      "epoch 59 | loss: 0.27469 | train_mse: 0.11121 | train_mae: 0.26999 |  0:00:05s\n"
     ]
    },
    {
     "name": "stdout",
     "output_type": "stream",
     "text": [
      "epoch 60 | loss: 0.30535 | train_mse: 0.14267 | train_mae: 0.28266 |  0:00:05s\n",
      "epoch 61 | loss: 0.22898 | train_mse: 0.17111 | train_mae: 0.29899 |  0:00:05s\n",
      "epoch 62 | loss: 0.22108 | train_mse: 0.14502 | train_mae: 0.28196 |  0:00:05s\n"
     ]
    },
    {
     "name": "stdout",
     "output_type": "stream",
     "text": [
      "epoch 63 | loss: 0.12333 | train_mse: 0.12664 | train_mae: 0.26591 |  0:00:05s\n",
      "epoch 64 | loss: 0.14557 | train_mse: 0.14039 | train_mae: 0.28516 |  0:00:05s\n",
      "epoch 65 | loss: 0.2635  | train_mse: 0.16495 | train_mae: 0.30883 |  0:00:05s\n"
     ]
    },
    {
     "name": "stdout",
     "output_type": "stream",
     "text": [
      "epoch 66 | loss: 0.11688 | train_mse: 0.17608 | train_mae: 0.32418 |  0:00:05s\n",
      "epoch 67 | loss: 0.16752 | train_mse: 0.15064 | train_mae: 0.29688 |  0:00:05s\n"
     ]
    },
    {
     "name": "stdout",
     "output_type": "stream",
     "text": [
      "epoch 68 | loss: 0.25998 | train_mse: 0.11683 | train_mae: 0.26478 |  0:00:06s\n",
      "epoch 69 | loss: 0.14324 | train_mse: 0.11026 | train_mae: 0.24462 |  0:00:06s\n",
      "epoch 70 | loss: 0.21218 | train_mse: 0.11952 | train_mae: 0.2422  |  0:00:06s\n"
     ]
    },
    {
     "name": "stdout",
     "output_type": "stream",
     "text": [
      "epoch 71 | loss: 0.28102 | train_mse: 0.13404 | train_mae: 0.25994 |  0:00:06s\n",
      "epoch 72 | loss: 0.17656 | train_mse: 0.13951 | train_mae: 0.27468 |  0:00:06s\n",
      "epoch 73 | loss: 0.25098 | train_mse: 0.1545  | train_mae: 0.29321 |  0:00:06s\n"
     ]
    },
    {
     "name": "stdout",
     "output_type": "stream",
     "text": [
      "epoch 74 | loss: 0.15018 | train_mse: 0.14549 | train_mae: 0.28523 |  0:00:06s\n",
      "epoch 75 | loss: 0.15483 | train_mse: 0.14542 | train_mae: 0.28743 |  0:00:06s\n",
      "epoch 76 | loss: 0.21565 | train_mse: 0.12186 | train_mae: 0.25874 |  0:00:06s\n"
     ]
    },
    {
     "name": "stdout",
     "output_type": "stream",
     "text": [
      "epoch 77 | loss: 0.16947 | train_mse: 0.11374 | train_mae: 0.24555 |  0:00:06s\n",
      "epoch 78 | loss: 0.12278 | train_mse: 0.12836 | train_mae: 0.25245 |  0:00:06s\n",
      "epoch 79 | loss: 0.17922 | train_mse: 0.13078 | train_mae: 0.2581  |  0:00:07s\n"
     ]
    },
    {
     "name": "stdout",
     "output_type": "stream",
     "text": [
      "epoch 80 | loss: 0.19076 | train_mse: 0.12778 | train_mae: 0.25538 |  0:00:07s\n",
      "epoch 81 | loss: 0.20472 | train_mse: 0.12424 | train_mae: 0.25438 |  0:00:07s\n",
      "epoch 82 | loss: 0.16396 | train_mse: 0.09569 | train_mae: 0.22833 |  0:00:07s\n"
     ]
    },
    {
     "name": "stdout",
     "output_type": "stream",
     "text": [
      "epoch 83 | loss: 0.16328 | train_mse: 0.08605 | train_mae: 0.2215  |  0:00:07s\n",
      "epoch 84 | loss: 0.18818 | train_mse: 0.09474 | train_mae: 0.24028 |  0:00:07s\n",
      "epoch 85 | loss: 0.16352 | train_mse: 0.10357 | train_mae: 0.24685 |  0:00:07s\n"
     ]
    },
    {
     "name": "stdout",
     "output_type": "stream",
     "text": [
      "epoch 86 | loss: 0.13168 | train_mse: 0.11793 | train_mae: 0.25867 |  0:00:07s\n",
      "epoch 87 | loss: 0.19915 | train_mse: 0.11617 | train_mae: 0.25383 |  0:00:07s\n",
      "epoch 88 | loss: 0.16293 | train_mse: 0.11239 | train_mae: 0.24788 |  0:00:07s\n"
     ]
    },
    {
     "name": "stdout",
     "output_type": "stream",
     "text": [
      "epoch 89 | loss: 0.14388 | train_mse: 0.0915  | train_mae: 0.21886 |  0:00:07s\n",
      "epoch 90 | loss: 0.25469 | train_mse: 0.09534 | train_mae: 0.23568 |  0:00:07s\n",
      "epoch 91 | loss: 0.1599  | train_mse: 0.11931 | train_mae: 0.2548  |  0:00:08s\n"
     ]
    },
    {
     "name": "stdout",
     "output_type": "stream",
     "text": [
      "epoch 92 | loss: 0.18058 | train_mse: 0.13447 | train_mae: 0.2618  |  0:00:08s\n",
      "epoch 93 | loss: 0.12722 | train_mse: 0.12097 | train_mae: 0.25328 |  0:00:08s\n",
      "epoch 94 | loss: 0.14047 | train_mse: 0.11067 | train_mae: 0.23997 |  0:00:08s\n"
     ]
    },
    {
     "name": "stdout",
     "output_type": "stream",
     "text": [
      "epoch 95 | loss: 0.11784 | train_mse: 0.10236 | train_mae: 0.23486 |  0:00:08s\n",
      "epoch 96 | loss: 0.14223 | train_mse: 0.10847 | train_mae: 0.2419  |  0:00:08s\n",
      "epoch 97 | loss: 0.18338 | train_mse: 0.13558 | train_mae: 0.26624 |  0:00:08s\n"
     ]
    },
    {
     "name": "stdout",
     "output_type": "stream",
     "text": [
      "epoch 98 | loss: 0.21278 | train_mse: 0.12202 | train_mae: 0.24679 |  0:00:08s\n",
      "epoch 99 | loss: 0.18511 | train_mse: 0.12835 | train_mae: 0.2549  |  0:00:08s\n",
      "epoch 100| loss: 0.16232 | train_mse: 0.1376  | train_mae: 0.28108 |  0:00:08s\n"
     ]
    },
    {
     "name": "stdout",
     "output_type": "stream",
     "text": [
      "epoch 101| loss: 0.15376 | train_mse: 0.13505 | train_mae: 0.28856 |  0:00:08s\n"
     ]
    },
    {
     "name": "stdout",
     "output_type": "stream",
     "text": [
      "epoch 102| loss: 0.13338 | train_mse: 0.12823 | train_mae: 0.27234 |  0:00:09s\n",
      "epoch 103| loss: 0.10815 | train_mse: 0.12705 | train_mae: 0.27005 |  0:00:09s\n"
     ]
    },
    {
     "name": "stdout",
     "output_type": "stream",
     "text": [
      "epoch 104| loss: 0.21876 | train_mse: 0.12511 | train_mae: 0.26289 |  0:00:09s\n",
      "epoch 105| loss: 0.15008 | train_mse: 0.11174 | train_mae: 0.24635 |  0:00:09s\n",
      "epoch 106| loss: 0.1516  | train_mse: 0.11316 | train_mae: 0.25039 |  0:00:09s\n"
     ]
    },
    {
     "name": "stdout",
     "output_type": "stream",
     "text": [
      "epoch 107| loss: 0.13954 | train_mse: 0.101   | train_mae: 0.23857 |  0:00:09s\n",
      "epoch 108| loss: 0.14832 | train_mse: 0.10527 | train_mae: 0.2458  |  0:00:09s\n"
     ]
    },
    {
     "name": "stdout",
     "output_type": "stream",
     "text": [
      "epoch 109| loss: 0.16942 | train_mse: 0.10062 | train_mae: 0.24968 |  0:00:09s\n",
      "epoch 110| loss: 0.14531 | train_mse: 0.09682 | train_mae: 0.24289 |  0:00:10s\n"
     ]
    },
    {
     "name": "stdout",
     "output_type": "stream",
     "text": [
      "epoch 111| loss: 0.14509 | train_mse: 0.0906  | train_mae: 0.22982 |  0:00:10s\n",
      "epoch 112| loss: 0.18933 | train_mse: 0.08698 | train_mae: 0.22832 |  0:00:10s\n"
     ]
    },
    {
     "name": "stdout",
     "output_type": "stream",
     "text": [
      "epoch 113| loss: 0.21075 | train_mse: 0.09764 | train_mae: 0.24074 |  0:00:10s\n",
      "epoch 114| loss: 0.21499 | train_mse: 0.10212 | train_mae: 0.23545 |  0:00:10s\n",
      "epoch 115| loss: 0.17055 | train_mse: 0.10334 | train_mae: 0.23836 |  0:00:10s\n"
     ]
    },
    {
     "name": "stdout",
     "output_type": "stream",
     "text": [
      "epoch 116| loss: 0.14301 | train_mse: 0.09078 | train_mae: 0.2294  |  0:00:10s\n",
      "epoch 117| loss: 0.12805 | train_mse: 0.0936  | train_mae: 0.23367 |  0:00:10s\n",
      "epoch 118| loss: 0.18986 | train_mse: 0.10219 | train_mae: 0.24052 |  0:00:10s\n"
     ]
    },
    {
     "name": "stdout",
     "output_type": "stream",
     "text": [
      "epoch 119| loss: 0.30116 | train_mse: 0.099   | train_mae: 0.23604 |  0:00:10s\n",
      "epoch 120| loss: 0.21067 | train_mse: 0.08615 | train_mae: 0.22466 |  0:00:10s\n",
      "epoch 121| loss: 0.11186 | train_mse: 0.09298 | train_mae: 0.22141 |  0:00:11s\n"
     ]
    },
    {
     "name": "stdout",
     "output_type": "stream",
     "text": [
      "epoch 122| loss: 0.1324  | train_mse: 0.08834 | train_mae: 0.22001 |  0:00:11s\n",
      "epoch 123| loss: 0.16865 | train_mse: 0.0809  | train_mae: 0.21849 |  0:00:11s\n",
      "epoch 124| loss: 0.18424 | train_mse: 0.0823  | train_mae: 0.228   |  0:00:11s\n"
     ]
    },
    {
     "name": "stdout",
     "output_type": "stream",
     "text": [
      "epoch 125| loss: 0.13857 | train_mse: 0.08033 | train_mae: 0.21256 |  0:00:11s\n",
      "epoch 126| loss: 0.16075 | train_mse: 0.09256 | train_mae: 0.2205  |  0:00:11s\n",
      "epoch 127| loss: 0.09617 | train_mse: 0.06847 | train_mae: 0.20378 |  0:00:11s\n"
     ]
    },
    {
     "name": "stdout",
     "output_type": "stream",
     "text": [
      "epoch 128| loss: 0.1061  | train_mse: 0.08466 | train_mae: 0.2225  |  0:00:11s\n",
      "epoch 129| loss: 0.17302 | train_mse: 0.08678 | train_mae: 0.22838 |  0:00:11s\n",
      "epoch 130| loss: 0.15747 | train_mse: 0.07804 | train_mae: 0.20956 |  0:00:11s\n"
     ]
    },
    {
     "name": "stdout",
     "output_type": "stream",
     "text": [
      "epoch 131| loss: 0.12006 | train_mse: 0.10021 | train_mae: 0.23565 |  0:00:11s\n",
      "epoch 132| loss: 0.13422 | train_mse: 0.10624 | train_mae: 0.24769 |  0:00:11s\n",
      "epoch 133| loss: 0.15203 | train_mse: 0.09796 | train_mae: 0.24569 |  0:00:12s\n"
     ]
    },
    {
     "name": "stdout",
     "output_type": "stream",
     "text": [
      "epoch 134| loss: 0.11439 | train_mse: 0.08032 | train_mae: 0.21887 |  0:00:12s\n",
      "epoch 135| loss: 0.24339 | train_mse: 0.08005 | train_mae: 0.22009 |  0:00:12s\n",
      "epoch 136| loss: 0.16364 | train_mse: 0.08505 | train_mae: 0.22563 |  0:00:12s\n"
     ]
    },
    {
     "name": "stdout",
     "output_type": "stream",
     "text": [
      "epoch 137| loss: 0.21416 | train_mse: 0.08137 | train_mae: 0.22476 |  0:00:12s\n",
      "epoch 138| loss: 0.09495 | train_mse: 0.07797 | train_mae: 0.22277 |  0:00:12s\n",
      "epoch 139| loss: 0.12197 | train_mse: 0.07904 | train_mae: 0.21852 |  0:00:12s\n"
     ]
    },
    {
     "name": "stdout",
     "output_type": "stream",
     "text": [
      "epoch 140| loss: 0.12885 | train_mse: 0.07454 | train_mae: 0.21208 |  0:00:12s\n",
      "epoch 141| loss: 0.17784 | train_mse: 0.07021 | train_mae: 0.20714 |  0:00:12s\n",
      "epoch 142| loss: 0.17652 | train_mse: 0.08367 | train_mae: 0.22961 |  0:00:12s\n"
     ]
    },
    {
     "name": "stdout",
     "output_type": "stream",
     "text": [
      "epoch 143| loss: 0.1259  | train_mse: 0.06924 | train_mae: 0.21468 |  0:00:12s\n",
      "epoch 144| loss: 0.2281  | train_mse: 0.10378 | train_mae: 0.23822 |  0:00:13s\n"
     ]
    },
    {
     "name": "stdout",
     "output_type": "stream",
     "text": [
      "epoch 145| loss: 0.16375 | train_mse: 0.10376 | train_mae: 0.24088 |  0:00:13s\n",
      "epoch 146| loss: 0.12298 | train_mse: 0.08095 | train_mae: 0.22335 |  0:00:13s\n",
      "epoch 147| loss: 0.14659 | train_mse: 0.07928 | train_mae: 0.21682 |  0:00:13s\n"
     ]
    },
    {
     "name": "stdout",
     "output_type": "stream",
     "text": [
      "epoch 148| loss: 0.19089 | train_mse: 0.08886 | train_mae: 0.23134 |  0:00:13s\n",
      "epoch 149| loss: 0.26473 | train_mse: 0.08439 | train_mae: 0.22845 |  0:00:13s\n",
      "epoch 150| loss: 0.12384 | train_mse: 0.07215 | train_mae: 0.20492 |  0:00:13s\n"
     ]
    },
    {
     "name": "stdout",
     "output_type": "stream",
     "text": [
      "epoch 151| loss: 0.14538 | train_mse: 0.08685 | train_mae: 0.22514 |  0:00:13s\n",
      "epoch 152| loss: 0.16275 | train_mse: 0.09239 | train_mae: 0.23468 |  0:00:13s\n",
      "epoch 153| loss: 0.11815 | train_mse: 0.08564 | train_mae: 0.21932 |  0:00:13s\n"
     ]
    },
    {
     "name": "stdout",
     "output_type": "stream",
     "text": [
      "epoch 154| loss: 0.2868  | train_mse: 0.09683 | train_mae: 0.23759 |  0:00:13s\n",
      "epoch 155| loss: 0.11788 | train_mse: 0.08204 | train_mae: 0.21834 |  0:00:13s\n",
      "epoch 156| loss: 0.1266  | train_mse: 0.06796 | train_mae: 0.20587 |  0:00:14s\n"
     ]
    },
    {
     "name": "stdout",
     "output_type": "stream",
     "text": [
      "epoch 157| loss: 0.11593 | train_mse: 0.0619  | train_mae: 0.19729 |  0:00:14s\n",
      "epoch 158| loss: 0.12285 | train_mse: 0.07268 | train_mae: 0.21129 |  0:00:14s\n",
      "epoch 159| loss: 0.17395 | train_mse: 0.06693 | train_mae: 0.20518 |  0:00:14s\n"
     ]
    },
    {
     "name": "stdout",
     "output_type": "stream",
     "text": [
      "epoch 160| loss: 0.14386 | train_mse: 0.08606 | train_mae: 0.22333 |  0:00:14s\n",
      "epoch 161| loss: 0.12183 | train_mse: 0.08417 | train_mae: 0.21378 |  0:00:14s\n",
      "epoch 162| loss: 0.1033  | train_mse: 0.07917 | train_mae: 0.20818 |  0:00:14s\n"
     ]
    },
    {
     "name": "stdout",
     "output_type": "stream",
     "text": [
      "epoch 163| loss: 0.10538 | train_mse: 0.0704  | train_mae: 0.20112 |  0:00:14s\n",
      "epoch 164| loss: 0.10994 | train_mse: 0.06603 | train_mae: 0.2006  |  0:00:14s\n",
      "epoch 165| loss: 0.10572 | train_mse: 0.06166 | train_mae: 0.19142 |  0:00:14s\n"
     ]
    },
    {
     "name": "stdout",
     "output_type": "stream",
     "text": [
      "epoch 166| loss: 0.09354 | train_mse: 0.05727 | train_mae: 0.18646 |  0:00:14s\n",
      "epoch 167| loss: 0.20934 | train_mse: 0.07153 | train_mae: 0.20882 |  0:00:14s\n",
      "epoch 168| loss: 0.25983 | train_mse: 0.06301 | train_mae: 0.19863 |  0:00:15s\n"
     ]
    },
    {
     "name": "stdout",
     "output_type": "stream",
     "text": [
      "epoch 169| loss: 0.10217 | train_mse: 0.06742 | train_mae: 0.20973 |  0:00:15s\n",
      "epoch 170| loss: 0.09549 | train_mse: 0.07175 | train_mae: 0.21418 |  0:00:15s\n",
      "epoch 171| loss: 0.12405 | train_mse: 0.0805  | train_mae: 0.22335 |  0:00:15s\n"
     ]
    },
    {
     "name": "stdout",
     "output_type": "stream",
     "text": [
      "epoch 172| loss: 0.19853 | train_mse: 0.10401 | train_mae: 0.24478 |  0:00:15s\n",
      "epoch 173| loss: 0.22441 | train_mse: 0.14072 | train_mae: 0.27897 |  0:00:15s\n",
      "epoch 174| loss: 0.17415 | train_mse: 0.11322 | train_mae: 0.2482  |  0:00:15s\n"
     ]
    },
    {
     "name": "stdout",
     "output_type": "stream",
     "text": [
      "epoch 175| loss: 0.1441  | train_mse: 0.07    | train_mae: 0.21337 |  0:00:15s\n",
      "epoch 176| loss: 0.17629 | train_mse: 0.06382 | train_mae: 0.20474 |  0:00:15s\n",
      "epoch 177| loss: 0.11695 | train_mse: 0.06613 | train_mae: 0.20416 |  0:00:15s\n"
     ]
    },
    {
     "name": "stdout",
     "output_type": "stream",
     "text": [
      "epoch 178| loss: 0.12859 | train_mse: 0.07991 | train_mae: 0.22325 |  0:00:15s\n",
      "epoch 179| loss: 0.10539 | train_mse: 0.08834 | train_mae: 0.23292 |  0:00:16s\n",
      "epoch 180| loss: 0.11183 | train_mse: 0.08302 | train_mae: 0.2277  |  0:00:16s\n"
     ]
    },
    {
     "name": "stdout",
     "output_type": "stream",
     "text": [
      "epoch 181| loss: 0.0783  | train_mse: 0.0749  | train_mae: 0.21993 |  0:00:16s\n",
      "epoch 182| loss: 0.07927 | train_mse: 0.06787 | train_mae: 0.21228 |  0:00:16s\n",
      "epoch 183| loss: 0.13013 | train_mse: 0.07397 | train_mae: 0.22319 |  0:00:16s\n"
     ]
    },
    {
     "name": "stdout",
     "output_type": "stream",
     "text": [
      "epoch 184| loss: 0.13329 | train_mse: 0.07655 | train_mae: 0.22374 |  0:00:16s\n",
      "epoch 185| loss: 0.11582 | train_mse: 0.10761 | train_mae: 0.24955 |  0:00:16s\n",
      "epoch 186| loss: 0.07951 | train_mse: 0.19286 | train_mae: 0.26413 |  0:00:16s\n"
     ]
    },
    {
     "name": "stdout",
     "output_type": "stream",
     "text": [
      "epoch 187| loss: 0.11411 | train_mse: 0.07157 | train_mae: 0.21642 |  0:00:16s\n",
      "epoch 188| loss: 0.20044 | train_mse: 0.06901 | train_mae: 0.21654 |  0:00:16s\n",
      "epoch 189| loss: 0.15658 | train_mse: 0.05435 | train_mae: 0.19494 |  0:00:16s\n"
     ]
    },
    {
     "name": "stdout",
     "output_type": "stream",
     "text": [
      "epoch 190| loss: 0.1026  | train_mse: 0.05957 | train_mae: 0.20217 |  0:00:16s\n",
      "epoch 191| loss: 0.17238 | train_mse: 0.0652  | train_mae: 0.21242 |  0:00:17s\n",
      "epoch 192| loss: 0.1111  | train_mse: 0.06295 | train_mae: 0.21316 |  0:00:17s\n"
     ]
    },
    {
     "name": "stdout",
     "output_type": "stream",
     "text": [
      "epoch 193| loss: 0.25426 | train_mse: 0.08724 | train_mae: 0.22099 |  0:00:17s\n",
      "epoch 194| loss: 0.11054 | train_mse: 0.08265 | train_mae: 0.21783 |  0:00:17s\n",
      "epoch 195| loss: 0.11205 | train_mse: 0.06862 | train_mae: 0.21295 |  0:00:17s\n"
     ]
    },
    {
     "name": "stdout",
     "output_type": "stream",
     "text": [
      "epoch 196| loss: 0.07181 | train_mse: 0.06722 | train_mae: 0.21041 |  0:00:17s\n",
      "epoch 197| loss: 0.11042 | train_mse: 0.11746 | train_mae: 0.23452 |  0:00:17s\n",
      "epoch 198| loss: 0.15295 | train_mse: 0.08418 | train_mae: 0.2163  |  0:00:17s\n"
     ]
    },
    {
     "name": "stdout",
     "output_type": "stream",
     "text": [
      "epoch 199| loss: 0.09989 | train_mse: 0.06875 | train_mae: 0.20298 |  0:00:17s\n",
      "epoch 200| loss: 0.14995 | train_mse: 0.0908  | train_mae: 0.22259 |  0:00:17s\n",
      "epoch 201| loss: 0.12629 | train_mse: 0.07184 | train_mae: 0.20785 |  0:00:17s\n"
     ]
    },
    {
     "name": "stdout",
     "output_type": "stream",
     "text": [
      "epoch 202| loss: 0.0861  | train_mse: 0.06286 | train_mae: 0.20225 |  0:00:18s\n",
      "epoch 203| loss: 0.10038 | train_mse: 0.09367 | train_mae: 0.23697 |  0:00:18s\n",
      "epoch 204| loss: 0.1264  | train_mse: 0.06556 | train_mae: 0.20528 |  0:00:18s"
     ]
    },
    {
     "name": "stdout",
     "output_type": "stream",
     "text": [
      "\n",
      "epoch 205| loss: 0.07663 | train_mse: 0.06163 | train_mae: 0.19763 |  0:00:18s\n",
      "epoch 206| loss: 0.12112 | train_mse: 0.07016 | train_mae: 0.20794 |  0:00:18s\n"
     ]
    },
    {
     "name": "stdout",
     "output_type": "stream",
     "text": [
      "epoch 207| loss: 0.12058 | train_mse: 0.06336 | train_mae: 0.19898 |  0:00:18s\n",
      "epoch 208| loss: 0.10339 | train_mse: 0.06957 | train_mae: 0.21472 |  0:00:18s\n",
      "epoch 209| loss: 0.079   | train_mse: 0.06474 | train_mae: 0.2116  |  0:00:18s\n"
     ]
    },
    {
     "name": "stdout",
     "output_type": "stream",
     "text": [
      "epoch 210| loss: 0.13507 | train_mse: 0.06094 | train_mae: 0.20684 |  0:00:18s\n",
      "epoch 211| loss: 0.11494 | train_mse: 0.06315 | train_mae: 0.20591 |  0:00:18s\n",
      "epoch 212| loss: 0.10434 | train_mse: 0.0668  | train_mae: 0.20643 |  0:00:18s\n"
     ]
    },
    {
     "name": "stdout",
     "output_type": "stream",
     "text": [
      "epoch 213| loss: 0.14147 | train_mse: 0.07436 | train_mae: 0.21207 |  0:00:19s\n",
      "epoch 214| loss: 0.09965 | train_mse: 0.07586 | train_mae: 0.21518 |  0:00:19s\n"
     ]
    },
    {
     "name": "stdout",
     "output_type": "stream",
     "text": [
      "epoch 215| loss: 0.13188 | train_mse: 0.06844 | train_mae: 0.20798 |  0:00:19s\n",
      "epoch 216| loss: 0.099   | train_mse: 0.05773 | train_mae: 0.19559 |  0:00:19s\n",
      "\n",
      "Early stopping occurred at epoch 216 with best_epoch = 166 and best_train_mae = 0.18646\n",
      "Best weights from best epoch are automatically used!\n"
     ]
    }
   ],
   "source": [
    "#Train the Model\n",
    "\n",
    "Y_train = np.reshape(Y_train, (-1, 1))\n",
    "Y_test = np.reshape(Y_test, (-1, 1))\n",
    "\n",
    "prior_model = TabNetRegressor(optimizer_fn=torch.optim.Adam, optimizer_params=dict(lr = 0.02),\n",
    "          #scheduler_params={\"step_size\":10, ], \"gamma\":0.9},\n",
    "          #scheduler_fn=torch.optim.lr_scheduler.StepLR\n",
    "          )  #TabNetRegressor()\n",
    "\n",
    "prior_model.fit(X_train,Y_train,eval_set=[(X_train, Y_train)],\n",
    "            eval_name=['train'], \n",
    "            eval_metric=[ 'mse', 'mae'], \n",
    "            max_epochs = n_epochs, \n",
    "            batch_size = batch_size,\n",
    "            patience=50\n",
    "            )"
   ]
  },
  {
   "cell_type": "code",
   "execution_count": 10,
   "id": "af65dcda",
   "metadata": {
    "execution": {
     "iopub.execute_input": "2022-06-22T13:46:30.781663Z",
     "iopub.status.busy": "2022-06-22T13:46:30.780410Z",
     "iopub.status.idle": "2022-06-22T13:46:30.803918Z",
     "shell.execute_reply": "2022-06-22T13:46:30.804589Z"
    },
    "id": "af65dcda",
    "papermill": {
     "duration": 0.096376,
     "end_time": "2022-06-22T13:46:30.804946",
     "exception": false,
     "start_time": "2022-06-22T13:46:30.708570",
     "status": "completed"
    },
    "tags": []
   },
   "outputs": [
    {
     "data": {
      "application/scrapbook.scrap.json+json": {
       "data": 0.9513042446166026,
       "encoder": "json",
       "name": "Prior Model MSE",
       "version": 1
      }
     },
     "metadata": {
      "scrapbook": {
       "data": true,
       "display": false,
       "name": "Prior Model MSE"
      }
     },
     "output_type": "display_data"
    },
    {
     "data": {
      "application/scrapbook.scrap.json+json": {
       "data": 1.0398994445344707,
       "encoder": "json",
       "name": "ABC Pre-generator MSE",
       "version": 1
      }
     },
     "metadata": {
      "scrapbook": {
       "data": true,
       "display": false,
       "name": "ABC Pre-generator MSE"
      }
     },
     "output_type": "display_data"
    },
    {
     "data": {
      "application/scrapbook.scrap.json+json": {
       "data": 0.5694835135280917,
       "encoder": "json",
       "name": "Prior Model MSE",
       "version": 1
      }
     },
     "metadata": {
      "scrapbook": {
       "data": true,
       "display": false,
       "name": "Prior Model MSE"
      }
     },
     "output_type": "display_data"
    },
    {
     "data": {
      "application/scrapbook.scrap.json+json": {
       "data": 0.6251564714803036,
       "encoder": "json",
       "name": "ABC Pre-generator MSE",
       "version": 1
      }
     },
     "metadata": {
      "scrapbook": {
       "data": true,
       "display": false,
       "name": "ABC Pre-generator MSE"
      }
     },
     "output_type": "display_data"
    }
   ],
   "source": [
    "y_pred = prior_model.predict(X_test)\n",
    "y_abc = y_pred + np.random.normal(0,variance, y_pred.shape) + bias \n",
    "mse = mean_squared_error(y_pred,Y_test)\n",
    "sb.glue(\"Prior Model MSE\",mse)\n",
    "mse = mean_squared_error(y_abc,Y_test)\n",
    "sb.glue(\"ABC Pre-generator MSE\",mse)\n",
    "mae = mean_absolute_error(y_pred,Y_test)\n",
    "sb.glue(\"Prior Model MSE\",mae)\n",
    "mae = mean_absolute_error(y_abc,Y_test)\n",
    "sb.glue(\"ABC Pre-generator MSE\",mae)"
   ]
  },
  {
   "cell_type": "markdown",
   "id": "25609da2",
   "metadata": {
    "papermill": {
     "duration": 0.046364,
     "end_time": "2022-06-22T13:46:30.896673",
     "exception": false,
     "start_time": "2022-06-22T13:46:30.850309",
     "status": "completed"
    },
    "tags": []
   },
   "source": [
    "# ABC GAN Model"
   ]
  },
  {
   "cell_type": "code",
   "execution_count": 11,
   "id": "dfc3464d",
   "metadata": {
    "execution": {
     "iopub.execute_input": "2022-06-22T13:46:31.000511Z",
     "iopub.status.busy": "2022-06-22T13:46:30.999570Z",
     "iopub.status.idle": "2022-06-22T13:46:31.002837Z",
     "shell.execute_reply": "2022-06-22T13:46:31.004059Z"
    },
    "papermill": {
     "duration": 0.063462,
     "end_time": "2022-06-22T13:46:31.007684",
     "exception": false,
     "start_time": "2022-06-22T13:46:30.944222",
     "status": "completed"
    },
    "tags": []
   },
   "outputs": [],
   "source": [
    "gen = network.Generator(n_features+1).to(device)\n",
    "disc = network.Discriminator(n_features+1).to(device)\n",
    "\n",
    "criterion = torch.nn.BCELoss()\n",
    "gen_opt = torch.optim.Adam(gen.parameters(), lr=0.001, betas=(0.5, 0.999))\n",
    "disc_opt = torch.optim.Adam(disc.parameters(), lr=0.001, betas=(0.5, 0.999))"
   ]
  },
  {
   "cell_type": "code",
   "execution_count": 12,
   "id": "b75fdd85",
   "metadata": {
    "execution": {
     "iopub.execute_input": "2022-06-22T13:46:31.136014Z",
     "iopub.status.busy": "2022-06-22T13:46:31.135280Z",
     "iopub.status.idle": "2022-06-22T13:47:25.892718Z",
     "shell.execute_reply": "2022-06-22T13:47:25.893276Z"
    },
    "papermill": {
     "duration": 54.831285,
     "end_time": "2022-06-22T13:47:25.894059",
     "exception": false,
     "start_time": "2022-06-22T13:46:31.062774",
     "status": "completed"
    },
    "tags": []
   },
   "outputs": [
    {
     "data": {
      "image/png": "[encoded data removed]",
      "text/plain": [
       "<Figure size 432x288 with 1 Axes>"
      ]
     },
     "metadata": {
      "needs_background": "light"
     },
     "output_type": "display_data"
    },
    {
     "data": {
      "image/png": "[encoded data removed]",
      "text/plain": [
       "<Figure size 432x288 with 1 Axes>"
      ]
     },
     "metadata": {
      "needs_background": "light"
     },
     "output_type": "display_data"
    }
   ],
   "source": [
    "#Training the ABC_GAN \n",
    "ABC_train_test2.training_GAN(disc,gen,disc_opt,gen_opt,train_data,batch_size,n_epochs,criterion,prior_model,variance,bias,device)"
   ]
  },
  {
   "cell_type": "code",
   "execution_count": 13,
   "id": "1fa7c368",
   "metadata": {
    "execution": {
     "iopub.execute_input": "2022-06-22T13:47:25.996616Z",
     "iopub.status.busy": "2022-06-22T13:47:25.995838Z",
     "iopub.status.idle": "2022-06-22T13:47:27.046757Z",
     "shell.execute_reply": "2022-06-22T13:47:27.047806Z"
    },
    "papermill": {
     "duration": 1.110229,
     "end_time": "2022-06-22T13:47:27.048053",
     "exception": false,
     "start_time": "2022-06-22T13:47:25.937824",
     "status": "completed"
    },
    "tags": []
   },
   "outputs": [
    {
     "data": {
      "application/scrapbook.scrap.json+json": {
       "data": 1.0737569908287334,
       "encoder": "json",
       "name": "ABC-GAN Model 1 MSE",
       "version": 1
      }
     },
     "metadata": {
      "scrapbook": {
       "data": true,
       "display": false,
       "name": "ABC-GAN Model 1 MSE"
      }
     },
     "output_type": "display_data"
    },
    {
     "data": {
      "application/scrapbook.scrap.json+json": {
       "data": 0.6161893457360565,
       "encoder": "json",
       "name": "ABC-GAN Model 1 MAE",
       "version": 1
      }
     },
     "metadata": {
      "scrapbook": {
       "data": true,
       "display": false,
       "name": "ABC-GAN Model 1 MAE"
      }
     },
     "output_type": "display_data"
    },
    {
     "data": {
      "application/scrapbook.scrap.json+json": {
       "data": 12.323786914721131,
       "encoder": "json",
       "name": "ABC-GAN Model 1 Manhattan Distance",
       "version": 1
      }
     },
     "metadata": {
      "scrapbook": {
       "data": true,
       "display": false,
       "name": "ABC-GAN Model 1 Manhattan Distance"
      }
     },
     "output_type": "display_data"
    },
    {
     "data": {
      "application/scrapbook.scrap.json+json": {
       "data": 4.634122415512209,
       "encoder": "json",
       "name": "ABC-GAN Model 1 Euclidean distance",
       "version": 1
      }
     },
     "metadata": {
      "scrapbook": {
       "data": true,
       "display": false,
       "name": "ABC-GAN Model 1 Euclidean distance"
      }
     },
     "output_type": "display_data"
    },
    {
     "data": {
      "application/scrapbook.scrap.json+json": {
       "data": [
        [
         1.0714418387107223,
         1.080118937257679,
         1.0720433169164214,
         1.064900366058007,
         1.0752065085272298,
         1.0751936904589607,
         1.072875116815871,
         1.0778048901743864,
         1.0774402664669396,
         1.0763405055077548,
         1.0759531077319175,
         1.0680011556111455,
         1.073997590227584,
         1.0763167133906413,
         1.0754520678621797,
         1.0726715302064063,
         1.0762145592302512,
         1.0712762186948954,
         1.0728354215992812,
         1.0746502337789732,
         1.079138208583919,
         1.0724963250288975,
         1.0730457008511571,
         1.075995297258959,
         1.071060191306994,
         1.0761361438030415,
         1.0736384757576174,
         1.0819311700280294,
         1.076412156091457,
         1.0774939496069966,
         1.0755401521196846,
         1.0741408690488248,
         1.073041526593853,
         1.0790159921018923,
         1.07882401793622,
         1.0739002511511708,
         1.0686146295274346,
         1.0703453248282488,
         1.0716198046296124,
         1.0750383530381102,
         1.0780855468418795,
         1.0715799940530555,
         1.070471789350817,
         1.0728547212627164,
         1.0759610752360325,
         1.0733397230824626,
         1.069317674974006,
         1.0803411181914497,
         1.0736316120203844,
         1.0718010040250066,
         1.0691829691300974,
         1.0686096692166294,
         1.072351296135129,
         1.071803153636408,
         1.0733913823248913,
         1.0783030902516988,
         1.0739509263374285,
         1.0742193180689636,
         1.0736081079760202,
         1.065912750095653,
         1.0689479534806554,
         1.069374045912391,
         1.0777609416465963,
         1.0734385656213616,
         1.0748689238243285,
         1.0759975841003107,
         1.0777870051140788,
         1.072970195393412,
         1.0757735615466981,
         1.0756168512320397,
         1.073962721552001,
         1.0673743457683418,
         1.0748611612426828,
         1.0719599546167928,
         1.0727848133775695,
         1.0758062660939514,
         1.071314927521654,
         1.0760260907504597,
         1.0735545766934202,
         1.0759892226074306,
         1.0775456689320095,
         1.0700099708036361,
         1.0717375106480929,
         1.0760038560028118,
         1.0707756272153817,
         1.0771095719410104,
         1.0807645144332292,
         1.0707938957810823,
         1.0743907062871112,
         1.071947819513149,
         1.072424698896491,
         1.0745037556122046,
         1.0667981669950197,
         1.0720058559930905,
         1.074745866957161,
         1.0732555972158706,
         1.0729208373743557,
         1.0724198408082946,
         1.0709087876904493,
         1.0715873289466167
        ],
        [
         0.6157659705728292,
         0.6177218247205019,
         0.6186812195926905,
         0.6106067964807153,
         0.6178693320602179,
         0.6141279403120279,
         0.6161639485508204,
         0.617789575085044,
         0.6204524908214808,
         0.6157119402661919,
         0.6162055689841509,
         0.6154817018657923,
         0.6150579620152712,
         0.6170621696859598,
         0.6136025678366422,
         0.6173488680273295,
         0.615921389684081,
         0.6133295249193906,
         0.6156572286039591,
         0.6162916671484708,
         0.6156312908977271,
         0.6135336395353079,
         0.6166587378829718,
         0.6162681687623263,
         0.6169733513146639,
         0.6184603545814753,
         0.617068026587367,
         0.6200893390923738,
         0.618317691795528,
         0.619451803341508,
         0.615639566257596,
         0.6157313628122211,
         0.616326105222106,
         0.6186982329934836,
         0.615030368976295,
         0.617971121892333,
         0.6149672510102391,
         0.6133605737239123,
         0.6146083649247884,
         0.6170323144644498,
         0.6211703579872847,
         0.6134166127070785,
         0.6132421892136335,
         0.6190579403191805,
         0.6171135533601045,
         0.6140397492796182,
         0.616006083600223,
         0.6173437427729368,
         0.6163845602422953,
         0.6158758219331503,
         0.6111887242645025,
         0.6165068540722132,
         0.6171001877635718,
         0.6138494927436113,
         0.6135898973792792,
         0.618018152192235,
         0.6166423480957747,
         0.6151583466678858,
         0.616390299424529,
         0.6137108009308576,
         0.6117974381893874,
         0.6131261009722948,
         0.6221976693719625,
         0.6140378449112177,
         0.6150601435452699,
         0.6186603467911482,
         0.6175253760069609,
         0.6169577274471522,
         0.6179191436618566,
         0.6171663958579302,
         0.6187644217163324,
         0.6136282684281469,
         0.6183964069932699,
         0.6146485591307282,
         0.6171092133969068,
         0.6157317202538252,
         0.6158822108060121,
         0.6187740709632635,
         0.6157788153737783,
         0.6182775598019361,
         0.618267735466361,
         0.6197766166180372,
         0.6157738614827395,
         0.6173136901110411,
         0.6169215489178896,
         0.6154583606868982,
         0.6169337835162878,
         0.6150248866528273,
         0.6136612351983786,
         0.6178135734051466,
         0.6163898658007383,
         0.6169047158211469,
         0.6143893424421549,
         0.6143674846738577,
         0.6160027857869863,
         0.6172836130484939,
         0.6151604292914271,
         0.6154166247695685,
         0.6124376635998487,
         0.6137242544442415
        ],
        [
         12.315319411456585,
         12.354436494410038,
         12.37362439185381,
         12.212135929614305,
         12.357386641204357,
         12.282558806240559,
         12.323278971016407,
         12.355791501700878,
         12.409049816429615,
         12.31423880532384,
         12.324111379683018,
         12.309634037315845,
         12.301159240305424,
         12.341243393719196,
         12.272051356732845,
         12.346977360546589,
         12.318427793681622,
         12.266590498387814,
         12.313144572079182,
         12.325833342969418,
         12.31262581795454,
         12.270672790706158,
         12.333174757659435,
         12.325363375246525,
         12.339467026293278,
         12.369207091629505,
         12.341360531747341,
         12.401786781847477,
         12.366353835910559,
         12.389036066830158,
         12.31279132515192,
         12.314627256244421,
         12.32652210444212,
         12.37396465986967,
         12.3006073795259,
         12.35942243784666,
         12.299345020204782,
         12.267211474478245,
         12.29216729849577,
         12.340646289288998,
         12.423407159745693,
         12.26833225414157,
         12.26484378427267,
         12.38115880638361,
         12.342271067202091,
         12.280794985592365,
         12.320121672004461,
         12.346874855458736,
         12.327691204845905,
         12.317516438663006,
         12.22377448529005,
         12.330137081444263,
         12.342003755271435,
         12.276989854872227,
         12.271797947585583,
         12.3603630438447,
         12.332846961915493,
         12.303166933357716,
         12.327805988490582,
         12.274216018617153,
         12.235948763787746,
         12.262522019445896,
         12.443953387439251,
         12.280756898224354,
         12.3012028709054,
         12.373206935822964,
         12.350507520139217,
         12.339154548943043,
         12.358382873237133,
         12.343327917158604,
         12.375288434326649,
         12.272565368562937,
         12.367928139865398,
         12.292971182614565,
         12.342184267938137,
         12.314634405076504,
         12.317644216120243,
         12.37548141926527,
         12.315576307475567,
         12.365551196038723,
         12.365354709327221,
         12.395532332360744,
         12.315477229654789,
         12.346273802220821,
         12.338430978357792,
         12.309167213737965,
         12.338675670325756,
         12.300497733056545,
         12.273224703967571,
         12.356271468102932,
         12.327797316014767,
         12.33809431642294,
         12.287786848843098,
         12.287349693477154,
         12.320055715739727,
         12.345672260969877,
         12.303208585828543,
         12.308332495391369,
         12.248753271996975,
         12.27448508888483
        ],
        [
         4.629129159379164,
         4.647835920635923,
         4.630428310462049,
         4.6149764161001015,
         4.637254594104641,
         4.637226952520139,
         4.632224340024716,
         4.642854488726491,
         4.6420690784755445,
         4.639699355578451,
         4.6388643173344,
         4.621690503725116,
         4.6346468910319025,
         4.639648075857998,
         4.637784099895509,
         4.631784818418072,
         4.639427894105589,
         4.628771367641516,
         4.632138645591864,
         4.6360548611485894,
         4.645725365503043,
         4.631406535878486,
         4.632592580512897,
         4.638955264408052,
         4.628304638432941,
         4.639258871421256,
         4.633871978718483,
         4.651733375910595,
         4.639853782376028,
         4.64218472188903,
         4.637974023471206,
         4.634956027944224,
         4.632583569875136,
         4.645462285073235,
         4.64504901575047,
         4.634436861477716,
         4.623017693081944,
         4.626759826980971,
         4.629513591360571,
         4.636891961299314,
         4.643458941009126,
         4.629427597561183,
         4.62703315170924,
         4.63218031009743,
         4.638881492851552,
         4.6332272188669155,
         4.6245381931042715,
         4.648313926987828,
         4.633857166595415,
         4.629904975320782,
         4.624246898966572,
         4.623006963474378,
         4.631093383068687,
         4.629909618202948,
         4.63333871484676,
         4.643927411688729,
         4.634546205050563,
         4.635125280009082,
         4.633806443899055,
         4.617169587735874,
         4.6237386463351395,
         4.624660086779116,
         4.642759829339864,
         4.633440548062231,
         4.636526552979781,
         4.638960194052781,
         4.642815966876307,
         4.632429590168451,
         4.638477253467345,
         4.638139392541021,
         4.634571655616085,
         4.62033406967146,
         4.636509810714699,
         4.630248275453041,
         4.63202938975471,
         4.638547760008409,
         4.628854993454977,
         4.6390216441626135,
         4.633690919112798,
         4.638942169519751,
         4.642296132157037,
         4.626034956209553,
         4.629767835751794,
         4.638973714094124,
         4.627689763187203,
         4.641356637753686,
         4.649224697588253,
         4.627729239661893,
         4.635495024885932,
         4.630222067057149,
         4.631251880207966,
         4.635738896038483,
         4.6190868513051795,
         4.630347408117647,
         4.63626113793682,
         4.633045644532052,
         4.632323040061769,
         4.631241390401271,
         4.627977501437209,
         4.629443441595581
        ]
       ],
       "encoder": "json",
       "name": "ABC_GAN_1 Metrics",
       "version": 1
      }
     },
     "metadata": {
      "scrapbook": {
       "data": true,
       "display": false,
       "name": "ABC_GAN_1 Metrics"
      }
     },
     "output_type": "display_data"
    },
    {
     "name": "stdout",
     "output_type": "stream",
     "text": [
      "MSE\n",
      "1.0737569908287334\n"
     ]
    }
   ],
   "source": [
    "ABC_GAN1_metrics=ABC_train_test2.test_generator(gen,test_data,prior_model,variance,bias,\"1\",device)\n",
    "sb.glue(\"ABC_GAN_1 Metrics\",ABC_GAN1_metrics)\n",
    "\n",
    "print(\"MSE\")\n",
    "print(mean(ABC_GAN1_metrics[0]))"
   ]
  },
  {
   "cell_type": "code",
   "execution_count": 14,
   "id": "eb22ce5c",
   "metadata": {
    "execution": {
     "iopub.execute_input": "2022-06-22T13:47:27.176061Z",
     "iopub.status.busy": "2022-06-22T13:47:27.166642Z",
     "iopub.status.idle": "2022-06-22T13:47:28.124733Z",
     "shell.execute_reply": "2022-06-22T13:47:28.125394Z"
    },
    "papermill": {
     "duration": 1.028191,
     "end_time": "2022-06-22T13:47:28.125638",
     "exception": false,
     "start_time": "2022-06-22T13:47:27.097447",
     "status": "completed"
    },
    "tags": []
   },
   "outputs": [
    {
     "data": {
      "image/png": "[encoded data removed]",
      "text/plain": [
       "<Figure size 432x288 with 1 Axes>"
      ]
     },
     "metadata": {
      "needs_background": "light"
     },
     "output_type": "display_data"
    },
    {
     "data": {
      "image/png": "[encoded data removed]",
      "text/plain": [
       "<Figure size 432x288 with 1 Axes>"
      ]
     },
     "metadata": {
      "needs_background": "light"
     },
     "output_type": "display_data"
    },
    {
     "data": {
      "image/png": "[encoded data removed]",
      "text/plain": [
       "<Figure size 432x288 with 1 Axes>"
      ]
     },
     "metadata": {
      "needs_background": "light"
     },
     "output_type": "display_data"
    },
    {
     "data": {
      "image/png": "[encoded data removed]",
      "text/plain": [
       "<Figure size 432x288 with 1 Axes>"
      ]
     },
     "metadata": {
      "needs_background": "light"
     },
     "output_type": "display_data"
    }
   ],
   "source": [
    "sanityChecks.discProbVsError(train_data,disc,device)\n",
    "sanityChecks.discProbVsError(test_data,disc,device)"
   ]
  },
  {
   "cell_type": "markdown",
   "id": "130f3a4d",
   "metadata": {
    "id": "130f3a4d",
    "papermill": {
     "duration": 0.058327,
     "end_time": "2022-06-22T13:47:28.238136",
     "exception": false,
     "start_time": "2022-06-22T13:47:28.179809",
     "status": "completed"
    },
    "tags": []
   },
   "source": [
    "# ABC - GAN Model with skip connection"
   ]
  },
  {
   "cell_type": "code",
   "execution_count": 15,
   "id": "4e43dad1",
   "metadata": {
    "execution": {
     "iopub.execute_input": "2022-06-22T13:47:28.369207Z",
     "iopub.status.busy": "2022-06-22T13:47:28.367615Z",
     "iopub.status.idle": "2022-06-22T13:47:28.371928Z",
     "shell.execute_reply": "2022-06-22T13:47:28.372964Z"
    },
    "id": "4e43dad1",
    "papermill": {
     "duration": 0.081096,
     "end_time": "2022-06-22T13:47:28.373270",
     "exception": false,
     "start_time": "2022-06-22T13:47:28.292174",
     "status": "completed"
    },
    "tags": []
   },
   "outputs": [],
   "source": [
    "#Generator\n",
    "gen3 = network.GeneratorWithSkipConnection(n_features+1).to(device)\n",
    "constraints=network.weightConstraint()\n",
    "#Discriminator \n",
    "disc3 = network.Discriminator(n_features+1).to(device)\n",
    "\n",
    "criterion = torch.nn.BCELoss()\n",
    "gen_opt = torch.optim.Adam(gen3.parameters(), lr=0.001, betas=(0.5, 0.999))\n",
    "disc_opt = torch.optim.Adam(disc3.parameters(), lr=0.001, betas=(0.5, 0.999))\n"
   ]
  },
  {
   "cell_type": "code",
   "execution_count": 16,
   "id": "26acbc37",
   "metadata": {
    "execution": {
     "iopub.execute_input": "2022-06-22T13:47:28.539067Z",
     "iopub.status.busy": "2022-06-22T13:47:28.536068Z",
     "iopub.status.idle": "2022-06-22T13:48:54.455830Z",
     "shell.execute_reply": "2022-06-22T13:48:54.456456Z"
    },
    "id": "26acbc37",
    "papermill": {
     "duration": 86.015262,
     "end_time": "2022-06-22T13:48:54.456693",
     "exception": false,
     "start_time": "2022-06-22T13:47:28.441431",
     "status": "completed"
    },
    "tags": []
   },
   "outputs": [
    {
     "data": {
      "image/png": "[encoded data removed]",
      "text/plain": [
       "<Figure size 432x288 with 1 Axes>"
      ]
     },
     "metadata": {
      "needs_background": "light"
     },
     "output_type": "display_data"
    },
    {
     "data": {
      "image/png": "[encoded data removed]",
      "text/plain": [
       "<Figure size 432x288 with 1 Axes>"
      ]
     },
     "metadata": {
      "needs_background": "light"
     },
     "output_type": "display_data"
    }
   ],
   "source": [
    "ABC_train_test2.training_GAN_skip_connection(disc3,gen3,disc_opt,gen_opt,train_data,batch_size,n_epochs,criterion,prior_model,variance,bias,device)"
   ]
  },
  {
   "cell_type": "code",
   "execution_count": 17,
   "id": "c5e0717b",
   "metadata": {
    "execution": {
     "iopub.execute_input": "2022-06-22T13:48:54.594648Z",
     "iopub.status.busy": "2022-06-22T13:48:54.593421Z",
     "iopub.status.idle": "2022-06-22T13:48:55.650791Z",
     "shell.execute_reply": "2022-06-22T13:48:55.651607Z"
    },
    "id": "c5e0717b",
    "papermill": {
     "duration": 1.134516,
     "end_time": "2022-06-22T13:48:55.651842",
     "exception": false,
     "start_time": "2022-06-22T13:48:54.517326",
     "status": "completed"
    },
    "tags": []
   },
   "outputs": [
    {
     "data": {
      "application/scrapbook.scrap.json+json": {
       "data": 0.9231854266424899,
       "encoder": "json",
       "name": "ABC-GAN Model 3 MSE",
       "version": 1
      }
     },
     "metadata": {
      "scrapbook": {
       "data": true,
       "display": false,
       "name": "ABC-GAN Model 3 MSE"
      }
     },
     "output_type": "display_data"
    },
    {
     "data": {
      "application/scrapbook.scrap.json+json": {
       "data": 0.6290677879117429,
       "encoder": "json",
       "name": "ABC-GAN Model 3 MAE",
       "version": 1
      }
     },
     "metadata": {
      "scrapbook": {
       "data": true,
       "display": false,
       "name": "ABC-GAN Model 3 MAE"
      }
     },
     "output_type": "display_data"
    },
    {
     "data": {
      "application/scrapbook.scrap.json+json": {
       "data": 12.581355758234858,
       "encoder": "json",
       "name": "ABC-GAN Model 3 Manhattan Distance",
       "version": 1
      }
     },
     "metadata": {
      "scrapbook": {
       "data": true,
       "display": false,
       "name": "ABC-GAN Model 3 Manhattan Distance"
      }
     },
     "output_type": "display_data"
    },
    {
     "data": {
      "application/scrapbook.scrap.json+json": {
       "data": 4.296933679691019,
       "encoder": "json",
       "name": "ABC-GAN Model 3 Euclidean distance",
       "version": 1
      }
     },
     "metadata": {
      "scrapbook": {
       "data": true,
       "display": false,
       "name": "ABC-GAN Model 3 Euclidean distance"
      }
     },
     "output_type": "display_data"
    },
    {
     "data": {
      "application/scrapbook.scrap.json+json": {
       "data": [
        [
         0.9203346489817921,
         0.9244310502803368,
         0.922195613966679,
         0.9271267162329717,
         0.9263020357382157,
         0.9185355949652655,
         0.9240267226308472,
         0.9246496561824842,
         0.9171727082796683,
         0.9253573958313712,
         0.9281574843201529,
         0.9221406223400654,
         0.9290548017207616,
         0.9228683203296907,
         0.9267253206736881,
         0.9206783153412473,
         0.9217955945045974,
         0.9233385142310535,
         0.9235846439620786,
         0.9250900283776134,
         0.9173018430128265,
         0.9190326199678507,
         0.9267342428756121,
         0.9331686931481078,
         0.9257708822964388,
         0.919230273604749,
         0.9244824731913507,
         0.9204601313625502,
         0.9180885821607937,
         0.9206704318650732,
         0.9201464748705593,
         0.9210809386536472,
         0.9221293944619573,
         0.9156881528691663,
         0.92217866267277,
         0.9236307654007613,
         0.9241427932713722,
         0.925457036413332,
         0.9242368872126348,
         0.9217943473494337,
         0.9221045207833397,
         0.9242578348055822,
         0.9294094425977812,
         0.9138909071838024,
         0.9201426215273332,
         0.9244373786595759,
         0.9243972856141095,
         0.9222840885185484,
         0.9194217620149601,
         0.9282659925829588,
         0.9199546392748564,
         0.9230629961768617,
         0.9253897394365997,
         0.9212497107076093,
         0.9239414890022873,
         0.9208719186056301,
         0.9221965538189384,
         0.9219112794445208,
         0.9218313729015243,
         0.9230429356976891,
         0.919168938723151,
         0.9297864105073085,
         0.9222087239952904,
         0.91917804294741,
         0.9178241860003347,
         0.9253467562008304,
         0.9206215977720464,
         0.9229065509695454,
         0.9246577289043707,
         0.9287084381748034,
         0.9270042225754261,
         0.9220564328156323,
         0.9198334254675282,
         0.9238036734643394,
         0.9202900940745529,
         0.9267484043384459,
         0.9239980173363989,
         0.92240990298277,
         0.9274625184535203,
         0.9256830571746727,
         0.9236433243726602,
         0.9315440527617881,
         0.9248194715180063,
         0.9270419533032108,
         0.9154677644561282,
         0.9262217093639539,
         0.9339904272604699,
         0.9205028219106264,
         0.9205684416483664,
         0.9224712573775479,
         0.9204561909887221,
         0.9216347594961342,
         0.9246901414693152,
         0.9211779545638858,
         0.9233679223009226,
         0.9223155181398053,
         0.9235133253417155,
         0.9195778690250416,
         0.926536161301264,
         0.928248589864977
        ],
        [
         0.6249520447105169,
         0.6272595044225454,
         0.6316205862909555,
         0.6303105916827917,
         0.6318678375333547,
         0.6283849302679301,
         0.6298948761075736,
         0.6280936080962419,
         0.6270629618316889,
         0.6283277396112681,
         0.6334749650210142,
         0.6292632725089788,
         0.6309470150619745,
         0.6272902306169271,
         0.6340107318013907,
         0.6248059742152691,
         0.6293311197310686,
         0.6304433669894933,
         0.6303399715572595,
         0.6321154613047838,
         0.6256558146327734,
         0.6290520954877138,
         0.6287377152591944,
         0.6340610440820456,
         0.6288334038108587,
         0.6214774113148451,
         0.6285111840814352,
         0.6283686060458422,
         0.6244302142411471,
         0.6254181284457445,
         0.6271732319146395,
         0.6250475078821183,
         0.6289228696376086,
         0.6234235148876905,
         0.6274453986436128,
         0.6304375771433115,
         0.630546311661601,
         0.6330333109945059,
         0.6285714190453291,
         0.6281324755400419,
         0.6270204748958349,
         0.6304241623729467,
         0.6312965985387564,
         0.6264274846762419,
         0.6246210787445307,
         0.6284495804458856,
         0.6347924288362264,
         0.628878727927804,
         0.6269713636487723,
         0.6288014855235815,
         0.6283038098365068,
         0.6279058005660773,
         0.6304052401334047,
         0.6289648335427046,
         0.6319466721266508,
         0.6274278562515974,
         0.6284157734364271,
         0.6283697921782732,
         0.630640022084117,
         0.6302175264805555,
         0.6277884367853404,
         0.6339100960642099,
         0.6252823177725076,
         0.6250122744590044,
         0.6274800647050143,
         0.631663528457284,
         0.6231662381440402,
         0.629873950406909,
         0.628813112154603,
         0.6335719309747219,
         0.6346686955541372,
         0.6321143198758363,
         0.6227737288922072,
         0.6293911959975957,
         0.6242174964398146,
         0.6329932186752558,
         0.6278324130922556,
         0.6295798290520906,
         0.6298078920692205,
         0.6331278692930937,
         0.6323167707771062,
         0.6315859686583281,
         0.6325807016342878,
         0.631361298635602,
         0.6259511020034552,
         0.6300857935100794,
         0.6319526035338641,
         0.6298985037952661,
         0.6305275697261095,
         0.6262107003480196,
         0.6279874552041292,
         0.6267913278192282,
         0.6305445697158575,
         0.6283290226012468,
         0.6311498340219259,
         0.6293115500360728,
         0.6310756016522646,
         0.6279359478503466,
         0.6282135549932718,
         0.6325435694307089
        ],
        [
         12.499040894210339,
         12.545190088450909,
         12.63241172581911,
         12.606211833655834,
         12.637356750667095,
         12.5676986053586,
         12.59789752215147,
         12.561872161924839,
         12.541259236633778,
         12.56655479222536,
         12.669499300420284,
         12.585265450179577,
         12.61894030123949,
         12.545804612338543,
         12.680214636027813,
         12.496119484305382,
         12.586622394621372,
         12.608867339789867,
         12.606799431145191,
         12.642309226095676,
         12.513116292655468,
         12.581041909754276,
         12.574754305183887,
         12.681220881640911,
         12.576668076217175,
         12.429548226296902,
         12.570223681628704,
         12.567372120916843,
         12.48860428482294,
         12.50836256891489,
         12.54346463829279,
         12.500950157642365,
         12.57845739275217,
         12.46847029775381,
         12.548907972872257,
         12.60875154286623,
         12.610926233232021,
         12.660666219890118,
         12.571428380906582,
         12.562649510800838,
         12.540409497916698,
         12.608483247458935,
         12.625931970775127,
         12.528549693524837,
         12.492421574890614,
         12.568991608917713,
         12.69584857672453,
         12.57757455855608,
         12.539427272975445,
         12.57602971047163,
         12.566076196730137,
         12.558116011321545,
         12.608104802668095,
         12.579296670854092,
         12.638933442533016,
         12.548557125031948,
         12.568315468728542,
         12.567395843565464,
         12.612800441682339,
         12.60435052961111,
         12.555768735706806,
         12.678201921284199,
         12.505646355450153,
         12.500245489180088,
         12.549601294100285,
         12.63327056914568,
         12.463324762880802,
         12.59747900813818,
         12.57626224309206,
         12.671438619494438,
         12.693373911082745,
         12.642286397516727,
         12.455474577844143,
         12.587823919951916,
         12.484349928796291,
         12.659864373505116,
         12.556648261845112,
         12.591596581041813,
         12.59615784138441,
         12.662557385861874,
         12.646335415542126,
         12.631719373166561,
         12.651614032685757,
         12.62722597271204,
         12.519022040069103,
         12.601715870201588,
         12.63905207067728,
         12.597970075905323,
         12.61055139452219,
         12.524214006960392,
         12.559749104082584,
         12.535826556384563,
         12.61089139431715,
         12.566580452024937,
         12.622996680438519,
         12.586231000721455,
         12.621512033045292,
         12.558718957006931,
         12.564271099865437,
         12.650871388614178
        ],
        [
         4.290302201434748,
         4.2998396488249115,
         4.2946376190935585,
         4.306104309542378,
         4.3041887406065635,
         4.286106846463969,
         4.298899214056657,
         4.300348023549917,
         4.282925888407756,
         4.301993481704432,
         4.308497381501242,
         4.294509569997639,
         4.310579547394437,
         4.296203720331918,
         4.305172053875868,
         4.291103157327373,
         4.29370607867981,
         4.297298021387517,
         4.297870737847006,
         4.301371940154939,
         4.283227388343576,
         4.287266308425104,
         4.305192778205436,
         4.320112714150194,
         4.3029545251987935,
         4.287727308504469,
         4.2999592397867,
         4.290594670584837,
         4.285063785198054,
         4.291084785610914,
         4.289863575617666,
         4.292041329376144,
         4.294483425190875,
         4.279458266811738,
         4.294598148075719,
         4.297978048805651,
         4.299169206419705,
         4.302225090376681,
         4.299388066254626,
         4.293703174066493,
         4.294425504728984,
         4.2994367882446705,
         4.311402190929956,
         4.275256500337266,
         4.289854593170573,
         4.299854366509582,
         4.29976112269998,
         4.294843625834469,
         4.288173881770561,
         4.308749221254258,
         4.28941636886618,
         4.296656831018418,
         4.302068663879274,
         4.292434532308231,
         4.298700940987375,
         4.291554307254262,
         4.294639807525046,
         4.293975499335134,
         4.293789405412251,
         4.296610142188116,
         4.2875842585846655,
         4.312276453353399,
         4.294668145492246,
         4.287605492457089,
         4.28444672274107,
         4.301968749772202,
         4.290970980493917,
         4.296292706437832,
         4.300366795761428,
         4.309775952818901,
         4.305819835003379,
         4.294313525618809,
         4.289133771445065,
         4.2983803309254505,
         4.290198349900743,
         4.305225671990833,
         4.298832439945523,
         4.295136558906527,
         4.306884067289299,
         4.302750416128439,
         4.298007269357883,
         4.3163504323949144,
         4.300742892845389,
         4.305907461391177,
         4.278943244438113,
         4.304002112833946,
         4.322014408260273,
         4.290694167406077,
         4.290847099695738,
         4.2952794027340016,
         4.290585486827461,
         4.293331479157262,
         4.300442166729638,
         4.292267360181297,
         4.297366454704375,
         4.2949168051076505,
         4.297704795217363,
         4.288537907084515,
         4.304732654419468,
         4.308708831807917
        ]
       ],
       "encoder": "json",
       "name": "ABC_GAN_3 Metrics",
       "version": 1
      }
     },
     "metadata": {
      "scrapbook": {
       "data": true,
       "display": false,
       "name": "ABC_GAN_3 Metrics"
      }
     },
     "output_type": "display_data"
    },
    {
     "name": "stdout",
     "output_type": "stream",
     "text": [
      "MSE\n",
      "0.9231854266424899\n"
     ]
    }
   ],
   "source": [
    "ABC_GAN3_metrics=ABC_train_test2.test_generator(gen3,test_data,prior_model,variance,bias,\"3\",device)\n",
    "sb.glue(\"ABC_GAN_3 Metrics\",ABC_GAN3_metrics)\n",
    "\n",
    "print(\"MSE\")\n",
    "print(mean(ABC_GAN3_metrics[0]))"
   ]
  },
  {
   "cell_type": "code",
   "execution_count": 18,
   "id": "c8e46b48",
   "metadata": {
    "execution": {
     "iopub.execute_input": "2022-06-22T13:48:55.800729Z",
     "iopub.status.busy": "2022-06-22T13:48:55.800001Z",
     "iopub.status.idle": "2022-06-22T13:48:56.716971Z",
     "shell.execute_reply": "2022-06-22T13:48:56.717656Z"
    },
    "id": "c8e46b48",
    "papermill": {
     "duration": 0.999727,
     "end_time": "2022-06-22T13:48:56.717867",
     "exception": false,
     "start_time": "2022-06-22T13:48:55.718140",
     "status": "completed"
    },
    "tags": []
   },
   "outputs": [
    {
     "data": {
      "image/png": "[encoded data removed]",
      "text/plain": [
       "<Figure size 432x288 with 1 Axes>"
      ]
     },
     "metadata": {
      "needs_background": "light"
     },
     "output_type": "display_data"
    },
    {
     "data": {
      "image/png": "[encoded data removed]",
      "text/plain": [
       "<Figure size 432x288 with 1 Axes>"
      ]
     },
     "metadata": {
      "needs_background": "light"
     },
     "output_type": "display_data"
    },
    {
     "data": {
      "image/png": "[encoded data removed]",
      "text/plain": [
       "<Figure size 432x288 with 1 Axes>"
      ]
     },
     "metadata": {
      "needs_background": "light"
     },
     "output_type": "display_data"
    },
    {
     "data": {
      "image/png": "[encoded data removed]",
      "text/plain": [
       "<Figure size 432x288 with 1 Axes>"
      ]
     },
     "metadata": {
      "needs_background": "light"
     },
     "output_type": "display_data"
    }
   ],
   "source": [
    "sanityChecks.discProbVsError(train_data,disc3,device)\n",
    "sanityChecks.discProbVsError(test_data,disc3,device)"
   ]
  },
  {
   "cell_type": "markdown",
   "id": "a5bd74c3",
   "metadata": {
    "id": "a5bd74c3",
    "papermill": {
     "duration": 0.094253,
     "end_time": "2022-06-22T13:48:56.892122",
     "exception": false,
     "start_time": "2022-06-22T13:48:56.797869",
     "status": "completed"
    },
    "tags": []
   },
   "source": [
    "## Skip Connection Model Analysis - ABC-GAN "
   ]
  },
  {
   "cell_type": "markdown",
   "id": "5744a8bf",
   "metadata": {
    "id": "5744a8bf",
    "papermill": {
     "duration": 0.098609,
     "end_time": "2022-06-22T13:48:57.099150",
     "exception": false,
     "start_time": "2022-06-22T13:48:57.000541",
     "status": "completed"
    },
    "tags": []
   },
   "source": [
    "### Weight Analysis \n",
    "\n",
    "Study the weights of the skip connection layer\n",
    "\n",
    "Equation of the skip connection is \n",
    "\n",
    "$output = y_{gan} * w + y_{abc} * (1-w)$"
   ]
  },
  {
   "cell_type": "code",
   "execution_count": 19,
   "id": "52c31dea",
   "metadata": {
    "execution": {
     "iopub.execute_input": "2022-06-22T13:48:57.294451Z",
     "iopub.status.busy": "2022-06-22T13:48:57.291744Z",
     "iopub.status.idle": "2022-06-22T13:48:57.301427Z",
     "shell.execute_reply": "2022-06-22T13:48:57.301924Z"
    },
    "id": "52c31dea",
    "papermill": {
     "duration": 0.117401,
     "end_time": "2022-06-22T13:48:57.302140",
     "exception": false,
     "start_time": "2022-06-22T13:48:57.184739",
     "status": "completed"
    },
    "tags": []
   },
   "outputs": [
    {
     "name": "stdout",
     "output_type": "stream",
     "text": [
      "Weight of the node at skip connection\n",
      "Parameter containing:\n",
      "tensor([[0.1160]], requires_grad=True)\n"
     ]
    },
    {
     "data": {
      "application/scrapbook.scrap.json+json": {
       "data": 0.11598239839076996,
       "encoder": "json",
       "name": "Skip Connection Weight",
       "version": 1
      }
     },
     "metadata": {
      "scrapbook": {
       "data": true,
       "display": false,
       "name": "Skip Connection Weight"
      }
     },
     "output_type": "display_data"
    }
   ],
   "source": [
    "print(\"Weight of the node at skip connection\")\n",
    "for name,param in gen3.named_parameters():\n",
    "    if(name == \"skipNode.weight\"):\n",
    "        print(param)\n",
    "        sb.glue(\"Skip Connection Weight\",param.item())"
   ]
  }
 ],
 "metadata": {
  "colab": {
   "collapsed_sections": [],
   "name": "ABC_GAN_Model-Catboost_Pre-gen.ipynb",
   "provenance": []
  },
  "interpreter": {
   "hash": "31f2aee4e71d21fbe5cf8b01ff0e069b9275f58929596ceb00d14d90e3e16cd6"
  },
  "kernelspec": {
   "display_name": "Python 3 (ipykernel)",
   "language": "python",
   "name": "python3"
  },
  "language_info": {
   "codemirror_mode": {
    "name": "ipython",
    "version": 3
   },
   "file_extension": ".py",
   "mimetype": "text/x-python",
   "name": "python",
   "nbconvert_exporter": "python",
   "pygments_lexer": "ipython3",
   "version": "3.8.3"
  },
  "papermill": {
   "default_parameters": {},
   "duration": 178.676718,
   "end_time": "2022-06-22T13:48:59.180122",
   "environment_variables": {},
   "exception": null,
   "input_path": "ABC_GAN-TabNet.ipynb",
   "output_path": "./ABC_GAN_TabNet/ABC-GAN_output_5_5.ipynb",
   "parameters": {
    "bias": 0.1,
    "variance": 0.01
   },
   "start_time": "2022-06-22T13:46:00.503404",
   "version": "2.3.3"
  }
 },
 "nbformat": 4,
 "nbformat_minor": 5
}