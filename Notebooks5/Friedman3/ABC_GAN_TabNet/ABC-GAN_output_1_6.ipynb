{
 "cells": [
  {
   "cell_type": "markdown",
   "id": "622780e6",
   "metadata": {
    "id": "622780e6",
    "papermill": {
     "duration": 0.019925,
     "end_time": "2022-06-22T11:40:13.557269",
     "exception": false,
     "start_time": "2022-06-22T11:40:13.537344",
     "status": "completed"
    },
    "tags": []
   },
   "source": [
    "## Import Libraries "
   ]
  },
  {
   "cell_type": "code",
   "execution_count": 1,
   "id": "a62397e3",
   "metadata": {
    "execution": {
     "iopub.execute_input": "2022-06-22T11:40:13.623682Z",
     "iopub.status.busy": "2022-06-22T11:40:13.620823Z",
     "iopub.status.idle": "2022-06-22T11:40:13.626117Z",
     "shell.execute_reply": "2022-06-22T11:40:13.626846Z"
    },
    "id": "a62397e3",
    "papermill": {
     "duration": 0.05065,
     "end_time": "2022-06-22T11:40:13.627242",
     "exception": false,
     "start_time": "2022-06-22T11:40:13.576592",
     "status": "completed"
    },
    "tags": []
   },
   "outputs": [],
   "source": [
    "import warnings\n",
    "import sys\n",
    "sys.path.insert(0, '../../src')\n",
    "warnings.filterwarnings('ignore')"
   ]
  },
  {
   "cell_type": "code",
   "execution_count": 2,
   "id": "d6a4e155",
   "metadata": {
    "execution": {
     "iopub.execute_input": "2022-06-22T11:40:13.674057Z",
     "iopub.status.busy": "2022-06-22T11:40:13.672749Z",
     "iopub.status.idle": "2022-06-22T11:40:19.573248Z",
     "shell.execute_reply": "2022-06-22T11:40:19.579554Z"
    },
    "id": "d6a4e155",
    "papermill": {
     "duration": 5.934865,
     "end_time": "2022-06-22T11:40:19.579894",
     "exception": false,
     "start_time": "2022-06-22T11:40:13.645029",
     "status": "completed"
    },
    "tags": []
   },
   "outputs": [],
   "source": [
    "import ABC_train_test2\n",
    "import friedman3Dataset\n",
    "import network\n",
    "import dataset\n",
    "import sanityChecks\n",
    "import torch \n",
    "import scrapbook as sb\n",
    "from statistics import mean \n",
    "import catboost as ctb \n",
    "from sklearn.model_selection import train_test_split\n",
    "from sklearn.metrics import mean_squared_error,mean_absolute_error\n",
    "import numpy as np\n",
    "from pytorch_tabnet.tab_model import TabNetRegressor"
   ]
  },
  {
   "cell_type": "markdown",
   "id": "2fa5b0f7",
   "metadata": {
    "id": "2fa5b0f7",
    "papermill": {
     "duration": 0.037482,
     "end_time": "2022-06-22T11:40:19.636846",
     "exception": false,
     "start_time": "2022-06-22T11:40:19.599364",
     "status": "completed"
    },
    "tags": []
   },
   "source": [
    "## Parameters "
   ]
  },
  {
   "cell_type": "code",
   "execution_count": 3,
   "id": "783186fb",
   "metadata": {
    "execution": {
     "iopub.execute_input": "2022-06-22T11:40:19.692893Z",
     "iopub.status.busy": "2022-06-22T11:40:19.691210Z",
     "iopub.status.idle": "2022-06-22T11:40:19.695560Z",
     "shell.execute_reply": "2022-06-22T11:40:19.694318Z"
    },
    "id": "783186fb",
    "papermill": {
     "duration": 0.032738,
     "end_time": "2022-06-22T11:40:19.695965",
     "exception": false,
     "start_time": "2022-06-22T11:40:19.663227",
     "status": "completed"
    },
    "tags": [
     "parameters"
    ]
   },
   "outputs": [],
   "source": [
    "variance = 1\n",
    "bias = 1 "
   ]
  },
  {
   "cell_type": "code",
   "execution_count": 4,
   "id": "26ef148e",
   "metadata": {
    "execution": {
     "iopub.execute_input": "2022-06-22T11:40:19.747465Z",
     "iopub.status.busy": "2022-06-22T11:40:19.745894Z",
     "iopub.status.idle": "2022-06-22T11:40:19.749549Z",
     "shell.execute_reply": "2022-06-22T11:40:19.750720Z"
    },
    "papermill": {
     "duration": 0.03668,
     "end_time": "2022-06-22T11:40:19.750974",
     "exception": false,
     "start_time": "2022-06-22T11:40:19.714294",
     "status": "completed"
    },
    "tags": [
     "injected-parameters"
    ]
   },
   "outputs": [],
   "source": [
    "# Parameters\n",
    "variance = 1\n",
    "bias = 0.01\n"
   ]
  },
  {
   "cell_type": "markdown",
   "id": "391cdbfd",
   "metadata": {
    "id": "391cdbfd",
    "papermill": {
     "duration": 0.018575,
     "end_time": "2022-06-22T11:40:19.788219",
     "exception": false,
     "start_time": "2022-06-22T11:40:19.769644",
     "status": "completed"
    },
    "tags": []
   },
   "source": [
    "## Dataset \n"
   ]
  },
  {
   "cell_type": "code",
   "execution_count": 5,
   "id": "5b51f161",
   "metadata": {
    "execution": {
     "iopub.execute_input": "2022-06-22T11:40:19.825453Z",
     "iopub.status.busy": "2022-06-22T11:40:19.824614Z",
     "iopub.status.idle": "2022-06-22T11:40:19.826524Z",
     "shell.execute_reply": "2022-06-22T11:40:19.827215Z"
    },
    "id": "5b51f161",
    "papermill": {
     "duration": 0.023866,
     "end_time": "2022-06-22T11:40:19.827441",
     "exception": false,
     "start_time": "2022-06-22T11:40:19.803575",
     "status": "completed"
    },
    "tags": []
   },
   "outputs": [],
   "source": [
    "#Parameters \n",
    "n_features = 4\n",
    "n_samples= 100\n",
    "n_target = 1"
   ]
  },
  {
   "cell_type": "code",
   "execution_count": 6,
   "id": "5d6eced4",
   "metadata": {
    "execution": {
     "iopub.execute_input": "2022-06-22T11:40:19.886396Z",
     "iopub.status.busy": "2022-06-22T11:40:19.885424Z",
     "iopub.status.idle": "2022-06-22T11:40:19.888639Z",
     "shell.execute_reply": "2022-06-22T11:40:19.889373Z"
    },
    "id": "5d6eced4",
    "papermill": {
     "duration": 0.047171,
     "end_time": "2022-06-22T11:40:19.889623",
     "exception": false,
     "start_time": "2022-06-22T11:40:19.842452",
     "status": "completed"
    },
    "tags": []
   },
   "outputs": [
    {
     "name": "stdout",
     "output_type": "stream",
     "text": [
      "          X1           X2        X3        X4         Y\n",
      "0  24.055265  1044.645685  0.244482  2.342146  1.527122\n",
      "1  53.420663   900.970475  0.208337  7.081337  1.339322\n",
      "2  58.277076   770.207079  0.357241  7.277961  1.374384\n",
      "3  67.177407   269.213596  0.584036  1.620995  1.213024\n",
      "4  47.090194  1572.813636  0.121006  7.666590  1.277752\n"
     ]
    }
   ],
   "source": [
    "X,Y = friedman3Dataset.friedman3_data(n_samples)"
   ]
  },
  {
   "cell_type": "code",
   "execution_count": 7,
   "id": "fe007438",
   "metadata": {
    "execution": {
     "iopub.execute_input": "2022-06-22T11:40:19.928480Z",
     "iopub.status.busy": "2022-06-22T11:40:19.927730Z",
     "iopub.status.idle": "2022-06-22T11:40:19.929976Z",
     "shell.execute_reply": "2022-06-22T11:40:19.930631Z"
    },
    "id": "fe007438",
    "papermill": {
     "duration": 0.023745,
     "end_time": "2022-06-22T11:40:19.930843",
     "exception": false,
     "start_time": "2022-06-22T11:40:19.907098",
     "status": "completed"
    },
    "tags": []
   },
   "outputs": [],
   "source": [
    "#Train test split for dataset \n",
    "X_train,X_test,Y_train,Y_test = train_test_split(X,Y,test_size = 0.2)\n",
    "train_data = dataset.CustomDataset(X_train,Y_train)\n",
    "test_data = dataset.CustomDataset(X_test,Y_test)\n"
   ]
  },
  {
   "cell_type": "markdown",
   "id": "a9a1af34",
   "metadata": {
    "id": "a9a1af34",
    "papermill": {
     "duration": 0.026598,
     "end_time": "2022-06-22T11:40:19.974337",
     "exception": false,
     "start_time": "2022-06-22T11:40:19.947739",
     "status": "completed"
    },
    "tags": []
   },
   "source": [
    "## Training Parameters "
   ]
  },
  {
   "cell_type": "code",
   "execution_count": 8,
   "id": "952b7fc8",
   "metadata": {
    "execution": {
     "iopub.execute_input": "2022-06-22T11:40:20.025149Z",
     "iopub.status.busy": "2022-06-22T11:40:20.022545Z",
     "iopub.status.idle": "2022-06-22T11:40:20.026884Z",
     "shell.execute_reply": "2022-06-22T11:40:20.026173Z"
    },
    "id": "952b7fc8",
    "papermill": {
     "duration": 0.030796,
     "end_time": "2022-06-22T11:40:20.027286",
     "exception": false,
     "start_time": "2022-06-22T11:40:19.996490",
     "status": "completed"
    },
    "tags": []
   },
   "outputs": [],
   "source": [
    "batch_size = 32\n",
    "n_epochs = 1000\n",
    "#Select the device \n",
    "device = torch.device('cuda' if torch.cuda.is_available() else 'cpu')"
   ]
  },
  {
   "cell_type": "markdown",
   "id": "a95e1600",
   "metadata": {
    "id": "a95e1600",
    "papermill": {
     "duration": 0.016729,
     "end_time": "2022-06-22T11:40:20.062103",
     "exception": false,
     "start_time": "2022-06-22T11:40:20.045374",
     "status": "completed"
    },
    "tags": []
   },
   "source": [
    "# ABC Pre-generator Model \n",
    "\n",
    "1. The catboost model is used as a pre-generator model for the ABC-GAN. \n",
    "2. The model is first trained on the entire dataset \n",
    "3. It generats X,Y pairs and we add some Gaussian noise with mean 0 and variance 1 to it which is then feed as input to the generator.\n"
   ]
  },
  {
   "cell_type": "code",
   "execution_count": 9,
   "id": "ff8ce7bd",
   "metadata": {
    "execution": {
     "iopub.execute_input": "2022-06-22T11:40:20.113420Z",
     "iopub.status.busy": "2022-06-22T11:40:20.111888Z",
     "iopub.status.idle": "2022-06-22T11:40:36.256280Z",
     "shell.execute_reply": "2022-06-22T11:40:36.256791Z"
    },
    "id": "ff8ce7bd",
    "papermill": {
     "duration": 16.176241,
     "end_time": "2022-06-22T11:40:36.257010",
     "exception": false,
     "start_time": "2022-06-22T11:40:20.080769",
     "status": "completed"
    },
    "tags": []
   },
   "outputs": [
    {
     "name": "stdout",
     "output_type": "stream",
     "text": [
      "Device used : cpu\n"
     ]
    },
    {
     "name": "stdout",
     "output_type": "stream",
     "text": [
      "epoch 0  | loss: 1.18029 | train_mse: 2.65494 | train_mae: 1.1738  |  0:00:00s\n",
      "epoch 1  | loss: 0.76516 | train_mse: 1.65411 | train_mae: 1.00159 |  0:00:00s\n",
      "epoch 2  | loss: 0.48214 | train_mse: 1.35399 | train_mae: 0.89766 |  0:00:00s\n"
     ]
    },
    {
     "name": "stdout",
     "output_type": "stream",
     "text": [
      "epoch 3  | loss: 0.54616 | train_mse: 1.15468 | train_mae: 0.82918 |  0:00:00s\n",
      "epoch 4  | loss: 0.48064 | train_mse: 1.04827 | train_mae: 0.77975 |  0:00:00s\n",
      "epoch 5  | loss: 0.49858 | train_mse: 1.05271 | train_mae: 0.7813  |  0:00:00s\n"
     ]
    },
    {
     "name": "stdout",
     "output_type": "stream",
     "text": [
      "epoch 6  | loss: 0.4893  | train_mse: 0.79833 | train_mae: 0.70265 |  0:00:00s\n",
      "epoch 7  | loss: 0.40356 | train_mse: 0.66657 | train_mae: 0.63261 |  0:00:00s\n",
      "epoch 8  | loss: 0.29084 | train_mse: 0.72127 | train_mae: 0.62328 |  0:00:00s\n"
     ]
    },
    {
     "name": "stdout",
     "output_type": "stream",
     "text": [
      "epoch 9  | loss: 0.33892 | train_mse: 0.85315 | train_mae: 0.67561 |  0:00:01s\n",
      "epoch 10 | loss: 0.35537 | train_mse: 0.97156 | train_mae: 0.73467 |  0:00:01s\n",
      "epoch 11 | loss: 0.3518  | train_mse: 0.79472 | train_mae: 0.65157 |  0:00:01s\n"
     ]
    },
    {
     "name": "stdout",
     "output_type": "stream",
     "text": [
      "epoch 12 | loss: 0.3219  | train_mse: 0.59889 | train_mae: 0.57904 |  0:00:01s\n",
      "epoch 13 | loss: 0.21973 | train_mse: 0.72266 | train_mae: 0.60198 |  0:00:01s\n",
      "epoch 14 | loss: 0.43606 | train_mse: 0.67819 | train_mae: 0.55887 |  0:00:01s\n"
     ]
    },
    {
     "name": "stdout",
     "output_type": "stream",
     "text": [
      "epoch 15 | loss: 0.2339  | train_mse: 0.43543 | train_mae: 0.4432  |  0:00:01s\n",
      "epoch 16 | loss: 0.26658 | train_mse: 0.38725 | train_mae: 0.42004 |  0:00:01s\n",
      "epoch 17 | loss: 0.36479 | train_mse: 0.36193 | train_mae: 0.40492 |  0:00:01s\n"
     ]
    },
    {
     "name": "stdout",
     "output_type": "stream",
     "text": [
      "epoch 18 | loss: 0.36532 | train_mse: 0.296   | train_mae: 0.38323 |  0:00:01s\n",
      "epoch 19 | loss: 0.26512 | train_mse: 0.2678  | train_mae: 0.37817 |  0:00:01s\n",
      "epoch 20 | loss: 0.31267 | train_mse: 0.21632 | train_mae: 0.34701 |  0:00:01s\n"
     ]
    },
    {
     "name": "stdout",
     "output_type": "stream",
     "text": [
      "epoch 21 | loss: 0.25447 | train_mse: 0.19891 | train_mae: 0.33654 |  0:00:02s\n",
      "epoch 22 | loss: 0.4148  | train_mse: 0.21649 | train_mae: 0.3462  |  0:00:02s\n",
      "epoch 23 | loss: 0.29038 | train_mse: 0.20115 | train_mae: 0.33955 |  0:00:02s\n"
     ]
    },
    {
     "name": "stdout",
     "output_type": "stream",
     "text": [
      "epoch 24 | loss: 0.29753 | train_mse: 0.22851 | train_mae: 0.3394  |  0:00:02s\n",
      "epoch 25 | loss: 0.22234 | train_mse: 0.25613 | train_mae: 0.35797 |  0:00:02s\n",
      "epoch 26 | loss: 0.29135 | train_mse: 0.25904 | train_mae: 0.36687 |  0:00:02s\n"
     ]
    },
    {
     "name": "stdout",
     "output_type": "stream",
     "text": [
      "epoch 27 | loss: 0.23778 | train_mse: 0.45465 | train_mae: 0.49239 |  0:00:02s\n",
      "epoch 28 | loss: 0.38064 | train_mse: 0.40664 | train_mae: 0.46156 |  0:00:02s\n",
      "epoch 29 | loss: 0.2279  | train_mse: 0.44129 | train_mae: 0.46832 |  0:00:02s\n"
     ]
    },
    {
     "name": "stdout",
     "output_type": "stream",
     "text": [
      "epoch 30 | loss: 0.19249 | train_mse: 0.35753 | train_mae: 0.41723 |  0:00:02s\n",
      "epoch 31 | loss: 0.2136  | train_mse: 0.35347 | train_mae: 0.42401 |  0:00:02s\n",
      "epoch 32 | loss: 0.36558 | train_mse: 0.35316 | train_mae: 0.42875 |  0:00:02s\n"
     ]
    },
    {
     "name": "stdout",
     "output_type": "stream",
     "text": [
      "epoch 33 | loss: 0.35699 | train_mse: 0.24142 | train_mae: 0.38526 |  0:00:03s\n",
      "epoch 34 | loss: 0.38044 | train_mse: 0.19931 | train_mae: 0.34056 |  0:00:03s\n",
      "epoch 35 | loss: 0.17966 | train_mse: 0.18896 | train_mae: 0.30968 |  0:00:03s\n"
     ]
    },
    {
     "name": "stdout",
     "output_type": "stream",
     "text": [
      "epoch 36 | loss: 0.24423 | train_mse: 0.17495 | train_mae: 0.31159 |  0:00:03s\n",
      "epoch 37 | loss: 0.21338 | train_mse: 0.17165 | train_mae: 0.32536 |  0:00:03s\n",
      "epoch 38 | loss: 0.14672 | train_mse: 0.29144 | train_mae: 0.41389 |  0:00:03s\n"
     ]
    },
    {
     "name": "stdout",
     "output_type": "stream",
     "text": [
      "epoch 39 | loss: 0.26293 | train_mse: 0.45194 | train_mae: 0.48213 |  0:00:03s\n",
      "epoch 40 | loss: 0.21292 | train_mse: 0.34374 | train_mae: 0.43621 |  0:00:03s\n",
      "epoch 41 | loss: 0.23705 | train_mse: 0.21735 | train_mae: 0.37447 |  0:00:03s\n"
     ]
    },
    {
     "name": "stdout",
     "output_type": "stream",
     "text": [
      "epoch 42 | loss: 0.16571 | train_mse: 0.22701 | train_mae: 0.38087 |  0:00:03s\n",
      "epoch 43 | loss: 0.27406 | train_mse: 0.20168 | train_mae: 0.35455 |  0:00:03s\n",
      "epoch 44 | loss: 0.18174 | train_mse: 0.19695 | train_mae: 0.34476 |  0:00:03s\n"
     ]
    },
    {
     "name": "stdout",
     "output_type": "stream",
     "text": [
      "epoch 45 | loss: 0.31922 | train_mse: 0.28306 | train_mae: 0.38119 |  0:00:03s\n",
      "epoch 46 | loss: 0.1603  | train_mse: 0.34359 | train_mae: 0.39987 |  0:00:04s\n",
      "epoch 47 | loss: 0.19972 | train_mse: 0.35978 | train_mae: 0.42416 |  0:00:04s\n"
     ]
    },
    {
     "name": "stdout",
     "output_type": "stream",
     "text": [
      "epoch 48 | loss: 0.14722 | train_mse: 0.33398 | train_mae: 0.42822 |  0:00:04s\n",
      "epoch 49 | loss: 0.18132 | train_mse: 0.291   | train_mae: 0.38143 |  0:00:04s\n",
      "epoch 50 | loss: 0.2369  | train_mse: 0.26745 | train_mae: 0.35038 |  0:00:04s\n"
     ]
    },
    {
     "name": "stdout",
     "output_type": "stream",
     "text": [
      "epoch 51 | loss: 0.12633 | train_mse: 0.24585 | train_mae: 0.34762 |  0:00:04s\n",
      "epoch 52 | loss: 0.11266 | train_mse: 0.24904 | train_mae: 0.3484  |  0:00:04s\n",
      "epoch 53 | loss: 0.11513 | train_mse: 0.24338 | train_mae: 0.35519 |  0:00:04s\n"
     ]
    },
    {
     "name": "stdout",
     "output_type": "stream",
     "text": [
      "epoch 54 | loss: 0.10388 | train_mse: 0.23145 | train_mae: 0.34775 |  0:00:04s\n",
      "epoch 55 | loss: 0.13347 | train_mse: 0.24114 | train_mae: 0.3564  |  0:00:04s\n",
      "epoch 56 | loss: 0.14766 | train_mse: 0.30535 | train_mae: 0.38491 |  0:00:04s\n"
     ]
    },
    {
     "name": "stdout",
     "output_type": "stream",
     "text": [
      "epoch 57 | loss: 0.10632 | train_mse: 0.26987 | train_mae: 0.35891 |  0:00:04s\n",
      "epoch 58 | loss: 0.265   | train_mse: 0.27862 | train_mae: 0.37525 |  0:00:05s\n",
      "epoch 59 | loss: 0.10577 | train_mse: 0.20832 | train_mae: 0.3248  |  0:00:05s\n"
     ]
    },
    {
     "name": "stdout",
     "output_type": "stream",
     "text": [
      "epoch 60 | loss: 0.26028 | train_mse: 0.17437 | train_mae: 0.30108 |  0:00:05s\n",
      "epoch 61 | loss: 0.13969 | train_mse: 0.14035 | train_mae: 0.27863 |  0:00:05s\n"
     ]
    },
    {
     "name": "stdout",
     "output_type": "stream",
     "text": [
      "epoch 62 | loss: 0.12161 | train_mse: 0.15548 | train_mae: 0.3027  |  0:00:05s\n",
      "epoch 63 | loss: 0.25653 | train_mse: 0.17421 | train_mae: 0.31657 |  0:00:05s\n"
     ]
    },
    {
     "name": "stdout",
     "output_type": "stream",
     "text": [
      "epoch 64 | loss: 0.1276  | train_mse: 0.13067 | train_mae: 0.25943 |  0:00:05s\n",
      "epoch 65 | loss: 0.08782 | train_mse: 0.14151 | train_mae: 0.27007 |  0:00:06s\n"
     ]
    },
    {
     "name": "stdout",
     "output_type": "stream",
     "text": [
      "epoch 66 | loss: 0.14161 | train_mse: 0.1754  | train_mae: 0.30663 |  0:00:06s\n",
      "epoch 67 | loss: 0.2167  | train_mse: 0.16004 | train_mae: 0.30081 |  0:00:06s\n"
     ]
    },
    {
     "name": "stdout",
     "output_type": "stream",
     "text": [
      "epoch 68 | loss: 0.1896  | train_mse: 0.14371 | train_mae: 0.29277 |  0:00:06s\n",
      "epoch 69 | loss: 0.17552 | train_mse: 0.14321 | train_mae: 0.26907 |  0:00:06s\n"
     ]
    },
    {
     "name": "stdout",
     "output_type": "stream",
     "text": [
      "epoch 70 | loss: 0.14341 | train_mse: 0.09078 | train_mae: 0.23734 |  0:00:06s\n",
      "epoch 71 | loss: 0.1698  | train_mse: 0.07167 | train_mae: 0.22298 |  0:00:06s\n"
     ]
    },
    {
     "name": "stdout",
     "output_type": "stream",
     "text": [
      "epoch 72 | loss: 0.17564 | train_mse: 0.09952 | train_mae: 0.24602 |  0:00:06s\n",
      "epoch 73 | loss: 0.1986  | train_mse: 0.11213 | train_mae: 0.25113 |  0:00:06s\n"
     ]
    },
    {
     "name": "stdout",
     "output_type": "stream",
     "text": [
      "epoch 74 | loss: 0.18092 | train_mse: 0.12256 | train_mae: 0.27319 |  0:00:07s\n",
      "epoch 75 | loss: 0.1144  | train_mse: 0.1369  | train_mae: 0.28974 |  0:00:07s\n",
      "epoch 76 | loss: 0.19927 | train_mse: 0.13447 | train_mae: 0.2855  |  0:00:07s\n"
     ]
    },
    {
     "name": "stdout",
     "output_type": "stream",
     "text": [
      "epoch 77 | loss: 0.10218 | train_mse: 0.12016 | train_mae: 0.27445 |  0:00:07s\n",
      "epoch 78 | loss: 0.26064 | train_mse: 0.09225 | train_mae: 0.24429 |  0:00:07s\n",
      "epoch 79 | loss: 0.12833 | train_mse: 0.07761 | train_mae: 0.22722 |  0:00:07s\n"
     ]
    },
    {
     "name": "stdout",
     "output_type": "stream",
     "text": [
      "epoch 80 | loss: 0.14198 | train_mse: 0.07891 | train_mae: 0.22347 |  0:00:07s\n",
      "epoch 81 | loss: 0.16375 | train_mse: 0.0746  | train_mae: 0.21806 |  0:00:07s\n",
      "epoch 82 | loss: 0.09363 | train_mse: 0.07829 | train_mae: 0.22311 |  0:00:07s\n"
     ]
    },
    {
     "name": "stdout",
     "output_type": "stream",
     "text": [
      "epoch 83 | loss: 0.11838 | train_mse: 0.08076 | train_mae: 0.22698 |  0:00:07s\n",
      "epoch 84 | loss: 0.1314  | train_mse: 0.08097 | train_mae: 0.22855 |  0:00:07s\n",
      "epoch 85 | loss: 0.13208 | train_mse: 0.08336 | train_mae: 0.22926 |  0:00:08s\n"
     ]
    },
    {
     "name": "stdout",
     "output_type": "stream",
     "text": [
      "epoch 86 | loss: 0.2287  | train_mse: 0.07887 | train_mae: 0.22791 |  0:00:08s\n",
      "epoch 87 | loss: 0.08722 | train_mse: 0.068   | train_mae: 0.21509 |  0:00:08s\n",
      "epoch 88 | loss: 0.0826  | train_mse: 0.0687  | train_mae: 0.20771 |  0:00:08s\n"
     ]
    },
    {
     "name": "stdout",
     "output_type": "stream",
     "text": [
      "epoch 89 | loss: 0.10745 | train_mse: 0.0746  | train_mae: 0.2109  |  0:00:08s\n",
      "epoch 90 | loss: 0.1203  | train_mse: 0.08007 | train_mae: 0.22021 |  0:00:08s\n",
      "epoch 91 | loss: 0.09914 | train_mse: 0.08959 | train_mae: 0.23117 |  0:00:08s\n"
     ]
    },
    {
     "name": "stdout",
     "output_type": "stream",
     "text": [
      "epoch 92 | loss: 0.22453 | train_mse: 0.1097  | train_mae: 0.24926 |  0:00:08s\n",
      "epoch 93 | loss: 0.14905 | train_mse: 0.12995 | train_mae: 0.27324 |  0:00:08s\n",
      "epoch 94 | loss: 0.10002 | train_mse: 0.0983  | train_mae: 0.24139 |  0:00:08s\n"
     ]
    },
    {
     "name": "stdout",
     "output_type": "stream",
     "text": [
      "epoch 95 | loss: 0.09939 | train_mse: 0.08268 | train_mae: 0.23556 |  0:00:08s\n",
      "epoch 96 | loss: 0.17162 | train_mse: 0.07361 | train_mae: 0.21845 |  0:00:09s\n",
      "epoch 97 | loss: 0.15467 | train_mse: 0.10309 | train_mae: 0.2457  |  0:00:09s\n"
     ]
    },
    {
     "name": "stdout",
     "output_type": "stream",
     "text": [
      "epoch 98 | loss: 0.14003 | train_mse: 0.11022 | train_mae: 0.24887 |  0:00:09s\n",
      "epoch 99 | loss: 0.12666 | train_mse: 0.09849 | train_mae: 0.23305 |  0:00:09s\n",
      "epoch 100| loss: 0.10867 | train_mse: 0.0824  | train_mae: 0.2201  |  0:00:09s\n"
     ]
    },
    {
     "name": "stdout",
     "output_type": "stream",
     "text": [
      "epoch 101| loss: 0.0752  | train_mse: 0.07762 | train_mae: 0.21553 |  0:00:09s\n",
      "epoch 102| loss: 0.1011  | train_mse: 0.07574 | train_mae: 0.20962 |  0:00:09s\n",
      "epoch 103| loss: 0.06634 | train_mse: 0.07412 | train_mae: 0.20637 |  0:00:09s\n"
     ]
    },
    {
     "name": "stdout",
     "output_type": "stream",
     "text": [
      "epoch 104| loss: 0.06937 | train_mse: 0.07646 | train_mae: 0.20622 |  0:00:09s\n",
      "epoch 105| loss: 0.17989 | train_mse: 0.06037 | train_mae: 0.19185 |  0:00:09s\n",
      "epoch 106| loss: 0.08019 | train_mse: 0.04911 | train_mae: 0.17476 |  0:00:09s\n"
     ]
    },
    {
     "name": "stdout",
     "output_type": "stream",
     "text": [
      "epoch 107| loss: 0.05394 | train_mse: 0.05199 | train_mae: 0.18201 |  0:00:10s\n",
      "epoch 108| loss: 0.08878 | train_mse: 0.05104 | train_mae: 0.18073 |  0:00:10s\n",
      "epoch 109| loss: 0.09585 | train_mse: 0.05856 | train_mae: 0.19199 |  0:00:10s\n"
     ]
    },
    {
     "name": "stdout",
     "output_type": "stream",
     "text": [
      "epoch 110| loss: 0.09124 | train_mse: 0.06528 | train_mae: 0.19839 |  0:00:10s\n",
      "epoch 111| loss: 0.0689  | train_mse: 0.06733 | train_mae: 0.19982 |  0:00:10s\n",
      "epoch 112| loss: 0.27406 | train_mse: 0.05798 | train_mae: 0.18761 |  0:00:10s\n"
     ]
    },
    {
     "name": "stdout",
     "output_type": "stream",
     "text": [
      "epoch 113| loss: 0.16333 | train_mse: 0.05916 | train_mae: 0.18908 |  0:00:10s\n",
      "epoch 114| loss: 0.22957 | train_mse: 0.06744 | train_mae: 0.20304 |  0:00:10s\n",
      "epoch 115| loss: 0.09365 | train_mse: 0.05864 | train_mae: 0.19263 |  0:00:10s\n"
     ]
    },
    {
     "name": "stdout",
     "output_type": "stream",
     "text": [
      "epoch 116| loss: 0.15282 | train_mse: 0.05577 | train_mae: 0.18129 |  0:00:10s\n",
      "epoch 117| loss: 0.06639 | train_mse: 0.05147 | train_mae: 0.17071 |  0:00:10s\n",
      "epoch 118| loss: 0.15247 | train_mse: 0.05838 | train_mae: 0.18262 |  0:00:11s\n"
     ]
    },
    {
     "name": "stdout",
     "output_type": "stream",
     "text": [
      "epoch 119| loss: 0.12855 | train_mse: 0.05962 | train_mae: 0.18836 |  0:00:11s\n",
      "epoch 120| loss: 0.12815 | train_mse: 0.07077 | train_mae: 0.2003  |  0:00:11s\n",
      "epoch 121| loss: 0.11752 | train_mse: 0.08546 | train_mae: 0.21205 |  0:00:11s\n"
     ]
    },
    {
     "name": "stdout",
     "output_type": "stream",
     "text": [
      "epoch 122| loss: 0.14148 | train_mse: 0.09128 | train_mae: 0.2207  |  0:00:11s\n",
      "epoch 123| loss: 0.0794  | train_mse: 0.09315 | train_mae: 0.21933 |  0:00:11s\n"
     ]
    },
    {
     "name": "stdout",
     "output_type": "stream",
     "text": [
      "epoch 124| loss: 0.10571 | train_mse: 0.08468 | train_mae: 0.2114  |  0:00:11s\n",
      "epoch 125| loss: 0.17247 | train_mse: 0.06769 | train_mae: 0.19905 |  0:00:11s\n"
     ]
    },
    {
     "name": "stdout",
     "output_type": "stream",
     "text": [
      "epoch 126| loss: 0.1914  | train_mse: 0.04535 | train_mae: 0.16675 |  0:00:11s\n",
      "epoch 127| loss: 0.13845 | train_mse: 0.03823 | train_mae: 0.15589 |  0:00:11s\n",
      "epoch 128| loss: 0.109   | train_mse: 0.0466  | train_mae: 0.17408 |  0:00:11s\n"
     ]
    },
    {
     "name": "stdout",
     "output_type": "stream",
     "text": [
      "epoch 129| loss: 0.16312 | train_mse: 0.05688 | train_mae: 0.1844  |  0:00:12s\n",
      "epoch 130| loss: 0.15269 | train_mse: 0.05484 | train_mae: 0.17875 |  0:00:12s\n",
      "epoch 131| loss: 0.06734 | train_mse: 0.05444 | train_mae: 0.17812 |  0:00:12s\n"
     ]
    },
    {
     "name": "stdout",
     "output_type": "stream",
     "text": [
      "epoch 132| loss: 0.09743 | train_mse: 0.06842 | train_mae: 0.20063 |  0:00:12s\n",
      "epoch 133| loss: 0.07262 | train_mse: 0.078   | train_mae: 0.21298 |  0:00:12s\n",
      "epoch 134| loss: 0.06545 | train_mse: 0.07835 | train_mae: 0.21499 |  0:00:12s\n"
     ]
    },
    {
     "name": "stdout",
     "output_type": "stream",
     "text": [
      "epoch 135| loss: 0.06201 | train_mse: 0.0897  | train_mae: 0.22763 |  0:00:12s\n",
      "epoch 136| loss: 0.06587 | train_mse: 0.09575 | train_mae: 0.23267 |  0:00:12s\n",
      "epoch 137| loss: 0.16444 | train_mse: 0.08259 | train_mae: 0.22183 |  0:00:12s\n"
     ]
    },
    {
     "name": "stdout",
     "output_type": "stream",
     "text": [
      "epoch 138| loss: 0.08546 | train_mse: 0.08816 | train_mae: 0.22684 |  0:00:12s\n",
      "epoch 139| loss: 0.13375 | train_mse: 0.1013  | train_mae: 0.23675 |  0:00:12s\n",
      "epoch 140| loss: 0.11629 | train_mse: 0.07914 | train_mae: 0.20462 |  0:00:12s\n"
     ]
    },
    {
     "name": "stdout",
     "output_type": "stream",
     "text": [
      "epoch 141| loss: 0.0959  | train_mse: 0.05047 | train_mae: 0.17551 |  0:00:13s\n",
      "epoch 142| loss: 0.09335 | train_mse: 0.04801 | train_mae: 0.17769 |  0:00:13s\n",
      "epoch 143| loss: 0.08756 | train_mse: 0.05642 | train_mae: 0.18874 |  0:00:13s\n"
     ]
    },
    {
     "name": "stdout",
     "output_type": "stream",
     "text": [
      "epoch 144| loss: 0.10483 | train_mse: 0.06035 | train_mae: 0.19312 |  0:00:13s\n",
      "epoch 145| loss: 0.08287 | train_mse: 0.08179 | train_mae: 0.21205 |  0:00:13s\n",
      "epoch 146| loss: 0.10497 | train_mse: 0.08725 | train_mae: 0.2244  |  0:00:13s\n"
     ]
    },
    {
     "name": "stdout",
     "output_type": "stream",
     "text": [
      "epoch 147| loss: 0.11419 | train_mse: 0.07215 | train_mae: 0.20476 |  0:00:13s\n",
      "epoch 148| loss: 0.11104 | train_mse: 0.07552 | train_mae: 0.21149 |  0:00:13s\n",
      "epoch 149| loss: 0.08261 | train_mse: 0.07471 | train_mae: 0.21013 |  0:00:13s\n"
     ]
    },
    {
     "name": "stdout",
     "output_type": "stream",
     "text": [
      "epoch 150| loss: 0.1123  | train_mse: 0.0817  | train_mae: 0.2105  |  0:00:13s\n",
      "epoch 151| loss: 0.11045 | train_mse: 0.06496 | train_mae: 0.19288 |  0:00:13s\n",
      "epoch 152| loss: 0.09508 | train_mse: 0.0596  | train_mae: 0.18886 |  0:00:14s\n"
     ]
    },
    {
     "name": "stdout",
     "output_type": "stream",
     "text": [
      "epoch 153| loss: 0.09485 | train_mse: 0.05261 | train_mae: 0.17798 |  0:00:14s\n",
      "epoch 154| loss: 0.0816  | train_mse: 0.04375 | train_mae: 0.16805 |  0:00:14s\n",
      "epoch 155| loss: 0.05495 | train_mse: 0.06452 | train_mae: 0.20502 |  0:00:14s\n"
     ]
    },
    {
     "name": "stdout",
     "output_type": "stream",
     "text": [
      "epoch 156| loss: 0.1691  | train_mse: 0.0635  | train_mae: 0.19751 |  0:00:14s\n",
      "epoch 157| loss: 0.08872 | train_mse: 0.0444  | train_mae: 0.16734 |  0:00:14s\n",
      "epoch 158| loss: 0.10248 | train_mse: 0.04544 | train_mae: 0.17068 |  0:00:14s\n"
     ]
    },
    {
     "name": "stdout",
     "output_type": "stream",
     "text": [
      "epoch 159| loss: 0.10064 | train_mse: 0.05328 | train_mae: 0.1781  |  0:00:14s\n",
      "epoch 160| loss: 0.10267 | train_mse: 0.05926 | train_mae: 0.1807  |  0:00:14s\n",
      "epoch 161| loss: 0.13942 | train_mse: 0.07214 | train_mae: 0.19953 |  0:00:14s\n"
     ]
    },
    {
     "name": "stdout",
     "output_type": "stream",
     "text": [
      "epoch 162| loss: 0.07947 | train_mse: 0.08228 | train_mae: 0.21277 |  0:00:14s\n",
      "epoch 163| loss: 0.10332 | train_mse: 0.07873 | train_mae: 0.21367 |  0:00:14s\n",
      "epoch 164| loss: 0.15853 | train_mse: 0.04878 | train_mae: 0.16975 |  0:00:15s\n"
     ]
    },
    {
     "name": "stdout",
     "output_type": "stream",
     "text": [
      "epoch 165| loss: 0.09929 | train_mse: 0.04628 | train_mae: 0.16711 |  0:00:15s\n",
      "epoch 166| loss: 0.09485 | train_mse: 0.04904 | train_mae: 0.16799 |  0:00:15s\n",
      "epoch 167| loss: 0.05553 | train_mse: 0.05858 | train_mae: 0.17755 |  0:00:15s\n"
     ]
    },
    {
     "name": "stdout",
     "output_type": "stream",
     "text": [
      "epoch 168| loss: 0.13506 | train_mse: 0.05088 | train_mae: 0.16755 |  0:00:15s\n",
      "epoch 169| loss: 0.09391 | train_mse: 0.05896 | train_mae: 0.17472 |  0:00:15s\n",
      "epoch 170| loss: 0.11664 | train_mse: 0.07465 | train_mae: 0.19789 |  0:00:15s\n"
     ]
    },
    {
     "name": "stdout",
     "output_type": "stream",
     "text": [
      "epoch 171| loss: 0.08236 | train_mse: 0.09166 | train_mae: 0.21495 |  0:00:15s\n",
      "epoch 172| loss: 0.18278 | train_mse: 0.12714 | train_mae: 0.23964 |  0:00:15s\n",
      "epoch 173| loss: 0.11088 | train_mse: 0.15098 | train_mae: 0.25128 |  0:00:15s\n"
     ]
    },
    {
     "name": "stdout",
     "output_type": "stream",
     "text": [
      "epoch 174| loss: 0.0897  | train_mse: 0.22879 | train_mae: 0.29214 |  0:00:15s\n",
      "epoch 175| loss: 0.06633 | train_mse: 0.11242 | train_mae: 0.22754 |  0:00:15s\n",
      "epoch 176| loss: 0.07724 | train_mse: 0.08314 | train_mae: 0.20754 |  0:00:16s\n"
     ]
    },
    {
     "name": "stdout",
     "output_type": "stream",
     "text": [
      "epoch 177| loss: 0.14313 | train_mse: 0.08251 | train_mae: 0.2055  |  0:00:16s\n",
      "\n",
      "Early stopping occurred at epoch 177 with best_epoch = 127 and best_train_mae = 0.15589\n",
      "Best weights from best epoch are automatically used!\n"
     ]
    }
   ],
   "source": [
    "#Train the Model\n",
    "\n",
    "Y_train = np.reshape(Y_train, (-1, 1))\n",
    "Y_test = np.reshape(Y_test, (-1, 1))\n",
    "\n",
    "prior_model = TabNetRegressor(optimizer_fn=torch.optim.Adam, optimizer_params=dict(lr = 0.02),\n",
    "          #scheduler_params={\"step_size\":10, ], \"gamma\":0.9},\n",
    "          #scheduler_fn=torch.optim.lr_scheduler.StepLR\n",
    "          )  #TabNetRegressor()\n",
    "\n",
    "prior_model.fit(X_train,Y_train,eval_set=[(X_train, Y_train)],\n",
    "            eval_name=['train'], \n",
    "            eval_metric=[ 'mse', 'mae'], \n",
    "            max_epochs = n_epochs, \n",
    "            batch_size = batch_size,\n",
    "            patience=50\n",
    "            )"
   ]
  },
  {
   "cell_type": "code",
   "execution_count": 10,
   "id": "af65dcda",
   "metadata": {
    "execution": {
     "iopub.execute_input": "2022-06-22T11:40:36.342013Z",
     "iopub.status.busy": "2022-06-22T11:40:36.341198Z",
     "iopub.status.idle": "2022-06-22T11:40:36.364288Z",
     "shell.execute_reply": "2022-06-22T11:40:36.364914Z"
    },
    "id": "af65dcda",
    "papermill": {
     "duration": 0.072061,
     "end_time": "2022-06-22T11:40:36.365180",
     "exception": false,
     "start_time": "2022-06-22T11:40:36.293119",
     "status": "completed"
    },
    "tags": []
   },
   "outputs": [
    {
     "data": {
      "application/scrapbook.scrap.json+json": {
       "data": 0.33409628163238175,
       "encoder": "json",
       "name": "Prior Model MSE",
       "version": 1
      }
     },
     "metadata": {
      "scrapbook": {
       "data": true,
       "display": false,
       "name": "Prior Model MSE"
      }
     },
     "output_type": "display_data"
    },
    {
     "data": {
      "application/scrapbook.scrap.json+json": {
       "data": 1.0830260225133326,
       "encoder": "json",
       "name": "ABC Pre-generator MSE",
       "version": 1
      }
     },
     "metadata": {
      "scrapbook": {
       "data": true,
       "display": false,
       "name": "ABC Pre-generator MSE"
      }
     },
     "output_type": "display_data"
    },
    {
     "data": {
      "application/scrapbook.scrap.json+json": {
       "data": 0.3675639516204571,
       "encoder": "json",
       "name": "Prior Model MSE",
       "version": 1
      }
     },
     "metadata": {
      "scrapbook": {
       "data": true,
       "display": false,
       "name": "Prior Model MSE"
      }
     },
     "output_type": "display_data"
    },
    {
     "data": {
      "application/scrapbook.scrap.json+json": {
       "data": 0.8151217035988628,
       "encoder": "json",
       "name": "ABC Pre-generator MSE",
       "version": 1
      }
     },
     "metadata": {
      "scrapbook": {
       "data": true,
       "display": false,
       "name": "ABC Pre-generator MSE"
      }
     },
     "output_type": "display_data"
    }
   ],
   "source": [
    "y_pred = prior_model.predict(X_test)\n",
    "y_abc = y_pred + np.random.normal(0,variance, y_pred.shape) + bias \n",
    "mse = mean_squared_error(y_pred,Y_test)\n",
    "sb.glue(\"Prior Model MSE\",mse)\n",
    "mse = mean_squared_error(y_abc,Y_test)\n",
    "sb.glue(\"ABC Pre-generator MSE\",mse)\n",
    "mae = mean_absolute_error(y_pred,Y_test)\n",
    "sb.glue(\"Prior Model MSE\",mae)\n",
    "mae = mean_absolute_error(y_abc,Y_test)\n",
    "sb.glue(\"ABC Pre-generator MSE\",mae)"
   ]
  },
  {
   "cell_type": "markdown",
   "id": "25609da2",
   "metadata": {
    "papermill": {
     "duration": 0.040812,
     "end_time": "2022-06-22T11:40:36.447694",
     "exception": false,
     "start_time": "2022-06-22T11:40:36.406882",
     "status": "completed"
    },
    "tags": []
   },
   "source": [
    "# ABC GAN Model"
   ]
  },
  {
   "cell_type": "code",
   "execution_count": 11,
   "id": "dfc3464d",
   "metadata": {
    "execution": {
     "iopub.execute_input": "2022-06-22T11:40:36.545760Z",
     "iopub.status.busy": "2022-06-22T11:40:36.544375Z",
     "iopub.status.idle": "2022-06-22T11:40:36.549191Z",
     "shell.execute_reply": "2022-06-22T11:40:36.550455Z"
    },
    "papermill": {
     "duration": 0.065441,
     "end_time": "2022-06-22T11:40:36.550769",
     "exception": false,
     "start_time": "2022-06-22T11:40:36.485328",
     "status": "completed"
    },
    "tags": []
   },
   "outputs": [],
   "source": [
    "gen = network.Generator(n_features+1).to(device)\n",
    "disc = network.Discriminator(n_features+1).to(device)\n",
    "\n",
    "criterion = torch.nn.BCELoss()\n",
    "gen_opt = torch.optim.Adam(gen.parameters(), lr=0.001, betas=(0.5, 0.999))\n",
    "disc_opt = torch.optim.Adam(disc.parameters(), lr=0.001, betas=(0.5, 0.999))"
   ]
  },
  {
   "cell_type": "code",
   "execution_count": 12,
   "id": "b75fdd85",
   "metadata": {
    "execution": {
     "iopub.execute_input": "2022-06-22T11:40:36.663403Z",
     "iopub.status.busy": "2022-06-22T11:40:36.662610Z",
     "iopub.status.idle": "2022-06-22T11:41:32.330659Z",
     "shell.execute_reply": "2022-06-22T11:41:32.331144Z"
    },
    "papermill": {
     "duration": 55.734019,
     "end_time": "2022-06-22T11:41:32.331672",
     "exception": false,
     "start_time": "2022-06-22T11:40:36.597653",
     "status": "completed"
    },
    "tags": []
   },
   "outputs": [
    {
     "data": {
      "image/png": "[encoded data removed]",
      "text/plain": [
       "<Figure size 432x288 with 1 Axes>"
      ]
     },
     "metadata": {
      "needs_background": "light"
     },
     "output_type": "display_data"
    },
    {
     "data": {
      "image/png": "[encoded data removed]",
      "text/plain": [
       "<Figure size 432x288 with 1 Axes>"
      ]
     },
     "metadata": {
      "needs_background": "light"
     },
     "output_type": "display_data"
    }
   ],
   "source": [
    "#Training the ABC_GAN \n",
    "ABC_train_test2.training_GAN(disc,gen,disc_opt,gen_opt,train_data,batch_size,n_epochs,criterion,prior_model,variance,bias,device)"
   ]
  },
  {
   "cell_type": "code",
   "execution_count": 13,
   "id": "1fa7c368",
   "metadata": {
    "execution": {
     "iopub.execute_input": "2022-06-22T11:41:32.442995Z",
     "iopub.status.busy": "2022-06-22T11:41:32.437274Z",
     "iopub.status.idle": "2022-06-22T11:41:33.260598Z",
     "shell.execute_reply": "2022-06-22T11:41:33.261334Z"
    },
    "papermill": {
     "duration": 0.885926,
     "end_time": "2022-06-22T11:41:33.261573",
     "exception": false,
     "start_time": "2022-06-22T11:41:32.375647",
     "status": "completed"
    },
    "tags": []
   },
   "outputs": [
    {
     "data": {
      "application/scrapbook.scrap.json+json": {
       "data": 0.48554651554394523,
       "encoder": "json",
       "name": "ABC-GAN Model 1 MSE",
       "version": 1
      }
     },
     "metadata": {
      "scrapbook": {
       "data": true,
       "display": false,
       "name": "ABC-GAN Model 1 MSE"
      }
     },
     "output_type": "display_data"
    },
    {
     "data": {
      "application/scrapbook.scrap.json+json": {
       "data": 0.44730783453211187,
       "encoder": "json",
       "name": "ABC-GAN Model 1 MAE",
       "version": 1
      }
     },
     "metadata": {
      "scrapbook": {
       "data": true,
       "display": false,
       "name": "ABC-GAN Model 1 MAE"
      }
     },
     "output_type": "display_data"
    },
    {
     "data": {
      "application/scrapbook.scrap.json+json": {
       "data": 8.946156690642237,
       "encoder": "json",
       "name": "ABC-GAN Model 1 Manhattan Distance",
       "version": 1
      }
     },
     "metadata": {
      "scrapbook": {
       "data": true,
       "display": false,
       "name": "ABC-GAN Model 1 Manhattan Distance"
      }
     },
     "output_type": "display_data"
    },
    {
     "data": {
      "application/scrapbook.scrap.json+json": {
       "data": 3.116054981660418,
       "encoder": "json",
       "name": "ABC-GAN Model 1 Euclidean distance",
       "version": 1
      }
     },
     "metadata": {
      "scrapbook": {
       "data": true,
       "display": false,
       "name": "ABC-GAN Model 1 Euclidean distance"
      }
     },
     "output_type": "display_data"
    },
    {
     "data": {
      "application/scrapbook.scrap.json+json": {
       "data": [
        [
         0.48874207814318177,
         0.488418581296057,
         0.4693793531411651,
         0.5140210183152693,
         0.4859570539282424,
         0.46675297669396826,
         0.4938438988274898,
         0.4917417900329992,
         0.49846851880702464,
         0.4871025997402681,
         0.48625037969084905,
         0.49099985318091327,
         0.48724432068270795,
         0.4804476179238205,
         0.48039622335549687,
         0.4807031243665675,
         0.48529719665581866,
         0.4922200620735813,
         0.49064169990178225,
         0.4973159557078223,
         0.47746769135731987,
         0.4829550037108213,
         0.4803641147232236,
         0.47935743864972746,
         0.48138088408694363,
         0.4813036204819225,
         0.46139433282227776,
         0.4962425264288745,
         0.47175425560027556,
         0.48047220279196895,
         0.48325876364964593,
         0.46388483788518997,
         0.4972844036922838,
         0.4712203554302392,
         0.47012433519711383,
         0.5016799724794657,
         0.46221452901825355,
         0.4774673246879503,
         0.4787211551395469,
         0.4892133219976337,
         0.48639420105251074,
         0.4848420384551401,
         0.4816295387293435,
         0.46593445491664837,
         0.4964382490066649,
         0.47041622428444674,
         0.4933621461988221,
         0.48080502551644544,
         0.4852956304610564,
         0.48707969892455427,
         0.4851424204272381,
         0.49883364910212835,
         0.4847769614275671,
         0.4831483971019381,
         0.4941012130800987,
         0.4934652644815367,
         0.4851123002421541,
         0.5044928908648532,
         0.4566130817001823,
         0.49511463818974966,
         0.48515660996098064,
         0.49392788025747336,
         0.49054576650877274,
         0.48143004738510503,
         0.4829025030404496,
         0.4637067290321687,
         0.485886707953355,
         0.4869769530605733,
         0.47337694779762707,
         0.4830974410183259,
         0.4951551934828344,
         0.4840490908362652,
         0.4918879609768192,
         0.4905077602851464,
         0.48895759522530496,
         0.4819839246269105,
         0.4983114018585578,
         0.4803152594996911,
         0.4840247883456564,
         0.4881205600367351,
         0.4724926726447645,
         0.4825952265652223,
         0.4878116880509881,
         0.46735911624365817,
         0.495325120570402,
         0.49692454914636236,
         0.5125619068093724,
         0.4927025141405423,
         0.48195496505688534,
         0.4864645743620459,
         0.4823066213805379,
         0.48891703569745565,
         0.4872053078515951,
         0.4979182868822658,
         0.4965381784957881,
         0.49407966647669027,
         0.47906575114123895,
         0.4919209437953501,
         0.5001348442424355,
         0.49334806719338725
        ],
        [
         0.4416456468403339,
         0.44879353828728197,
         0.44358063377439977,
         0.46249670907855034,
         0.44646642692387106,
         0.4357872996479273,
         0.45123073905706407,
         0.4475140608847141,
         0.45772817470133303,
         0.45062446817755697,
         0.4485229469835758,
         0.4523021660745144,
         0.4511216811835766,
         0.44296041168272493,
         0.44479201063513757,
         0.4467359084635973,
         0.44299772568047047,
         0.44356129579246045,
         0.44999819062650204,
         0.4555975507944822,
         0.4423904575407505,
         0.4394867684692144,
         0.45133599266409874,
         0.4439271196722984,
         0.4523649599403143,
         0.4497154377400875,
         0.4352115005254745,
         0.45284511186182497,
         0.4430323150008917,
         0.4443710632622242,
         0.4439554803073406,
         0.4259999494999647,
         0.4427054762840271,
         0.4450762469321489,
         0.4387749060988426,
         0.44831645898520944,
         0.4403948809951544,
         0.4454423554241657,
         0.45608347430825236,
         0.45274524092674256,
         0.4455331902951002,
         0.44653125256299975,
         0.4428919870406389,
         0.43482515290379525,
         0.45292638465762136,
         0.4437508013099432,
         0.44987215064466,
         0.4396840795874596,
         0.44927953481674193,
         0.4525652427226305,
         0.44342810548841954,
         0.4552059803158045,
         0.44787849150598047,
         0.44949822388589383,
         0.45471070930361746,
         0.44254159219563005,
         0.44859711527824403,
         0.45769739635288714,
         0.43123456947505473,
         0.4567169312387705,
         0.4517372019588947,
         0.45728272646665574,
         0.4495585780590773,
         0.4401388559490442,
         0.44132619984447957,
         0.43527329079806804,
         0.45238056816160677,
         0.4481947381049395,
         0.44073654934763906,
         0.45192534662783146,
         0.45350471027195455,
         0.45156416296958923,
         0.4555132374167442,
         0.4503540117293596,
         0.4462217096239328,
         0.4474250223487616,
         0.45196455158293247,
         0.4329694893211126,
         0.4473734799772501,
         0.448841205984354,
         0.44490355215966704,
         0.4478837732225657,
         0.4510955672711134,
         0.4456273429095745,
         0.45252511017024516,
         0.45353744067251683,
         0.44888499677181243,
         0.45288363061845305,
         0.4441845346242189,
         0.4474542889744043,
         0.442257222533226,
         0.45022986121475694,
         0.44473322220146655,
         0.45524191334843633,
         0.4426773402839899,
         0.44712239801883696,
         0.44579292051494124,
         0.4486854590475559,
         0.457328474894166,
         0.4494470939040184
        ],
        [
         8.832912936806679,
         8.97587076574564,
         8.871612675487995,
         9.249934181571007,
         8.92932853847742,
         8.715745992958546,
         9.024614781141281,
         8.950281217694283,
         9.154563494026661,
         9.01248936355114,
         8.970458939671516,
         9.046043321490288,
         9.022433623671532,
         8.859208233654499,
         8.895840212702751,
         8.934718169271946,
         8.85995451360941,
         8.871225915849209,
         8.99996381253004,
         9.111951015889645,
         8.84780915081501,
         8.789735369384289,
         9.026719853281975,
         8.878542393445969,
         9.047299198806286,
         8.99430875480175,
         8.704230010509491,
         9.0569022372365,
         8.860646300017834,
         8.887421265244484,
         8.879109606146812,
         8.519998989999294,
         8.854109525680542,
         8.901524938642979,
         8.775498121976852,
         8.96632917970419,
         8.807897619903088,
         8.908847108483315,
         9.121669486165047,
         9.054904818534851,
         8.910663805902004,
         8.930625051259995,
         8.857839740812778,
         8.696503058075905,
         9.058527693152428,
         8.875016026198864,
         8.9974430128932,
         8.793681591749191,
         8.985590696334839,
         9.05130485445261,
         8.86856210976839,
         9.10411960631609,
         8.95756983011961,
         8.989964477717876,
         9.09421418607235,
         8.850831843912601,
         8.97194230556488,
         9.153947927057743,
         8.624691389501095,
         9.13433862477541,
         9.034744039177895,
         9.145654529333115,
         8.991171561181545,
         8.802777118980885,
         8.826523996889591,
         8.705465815961361,
         9.047611363232136,
         8.96389476209879,
         8.814730986952782,
         9.03850693255663,
         9.07009420543909,
         9.031283259391785,
         9.110264748334885,
         9.007080234587193,
         8.924434192478657,
         8.948500446975231,
         9.03929103165865,
         8.659389786422253,
         8.947469599545002,
         8.97682411968708,
         8.89807104319334,
         8.957675464451313,
         9.021911345422268,
         8.91254685819149,
         9.050502203404903,
         9.070748813450336,
         8.977699935436249,
         9.05767261236906,
         8.883690692484379,
         8.949085779488087,
         8.84514445066452,
         9.00459722429514,
         8.894664444029331,
         9.104838266968727,
         8.853546805679798,
         8.94244796037674,
         8.915858410298824,
         8.973709180951118,
         9.14656949788332,
         8.988941878080368
        ],
        [
         3.126474302287424,
         3.1254394292516916,
         3.063916947768542,
         3.206309462030355,
         3.117553700991347,
         3.0553329661232285,
         3.1427500658738037,
         3.1360541769331705,
         3.1574309772567464,
         3.1212260403253977,
         3.118494443448149,
         3.133687454679912,
         3.1216800626672425,
         3.0998310209552407,
         3.099665218553439,
         3.1006551706585093,
         3.115436395293021,
         3.1375788821114323,
         3.1325443329721043,
         3.1537785455159093,
         3.090202877991411,
         3.107909277024737,
         3.0995616294025305,
         3.0963121246080068,
         3.102840260428963,
         3.1025912411464147,
         3.0377436785294374,
         3.1503730776810372,
         3.0716583651189975,
         3.0999103302901165,
         3.1088865005002866,
         3.0459311807235236,
         3.153678498808285,
         3.069919723478903,
         3.0663474532319843,
         3.1675857446309665,
         3.040442497460702,
         3.0902016914368238,
         3.0942564701056923,
         3.127981208375887,
         3.1189555978003622,
         3.11397507522183,
         3.1036415344860413,
         3.052652796885517,
         3.150994284370141,
         3.0672992168500506,
         3.1412167903499504,
         3.100983797172909,
         3.1154313680806913,
         3.1211526682447124,
         3.114939551346825,
         3.158587181326893,
         3.113766084430772,
         3.108531476764995,
         3.143568714312123,
         3.1415450481619285,
         3.114842853956373,
         3.1764536542026023,
         3.0219632085787618,
         3.146790867502159,
         3.11498510417299,
         3.1430172772591414,
         3.1322380704817845,
         3.10299870249765,
         3.1077403464268043,
         3.0453463810613357,
         3.117328048035224,
         3.1208234588344577,
         3.076936618774027,
         3.108367549111031,
         3.1469197431228983,
         3.1114276171438253,
         3.1365202405749564,
         3.1321167292588132,
         3.127163555765208,
         3.1047831635298158,
         3.1569333279578706,
         3.099404005610405,
         3.111349508961204,
         3.12448574980503,
         3.0740613938071064,
         3.106751443438056,
         3.1234970403411237,
         3.05731619641691,
         3.147459675898651,
         3.1525372294276313,
         3.2017554772635974,
         3.1391161626819173,
         3.1046898880786316,
         3.1191812206476426,
         3.1058223432145566,
         3.1270338523829757,
         3.12155508633628,
         3.1556878390685785,
         3.1513114047830566,
         3.1435001717088875,
         3.0953699331137754,
         3.136625396171338,
         3.162704046357912,
         3.1411719698016767
        ]
       ],
       "encoder": "json",
       "name": "ABC_GAN_1 Metrics",
       "version": 1
      }
     },
     "metadata": {
      "scrapbook": {
       "data": true,
       "display": false,
       "name": "ABC_GAN_1 Metrics"
      }
     },
     "output_type": "display_data"
    },
    {
     "name": "stdout",
     "output_type": "stream",
     "text": [
      "MSE\n",
      "0.48554651554394523\n"
     ]
    }
   ],
   "source": [
    "ABC_GAN1_metrics=ABC_train_test2.test_generator(gen,test_data,prior_model,variance,bias,\"1\",device)\n",
    "sb.glue(\"ABC_GAN_1 Metrics\",ABC_GAN1_metrics)\n",
    "\n",
    "print(\"MSE\")\n",
    "print(mean(ABC_GAN1_metrics[0]))"
   ]
  },
  {
   "cell_type": "code",
   "execution_count": 14,
   "id": "eb22ce5c",
   "metadata": {
    "execution": {
     "iopub.execute_input": "2022-06-22T11:41:33.401613Z",
     "iopub.status.busy": "2022-06-22T11:41:33.394792Z",
     "iopub.status.idle": "2022-06-22T11:41:34.411531Z",
     "shell.execute_reply": "2022-06-22T11:41:34.412094Z"
    },
    "papermill": {
     "duration": 1.100807,
     "end_time": "2022-06-22T11:41:34.412308",
     "exception": false,
     "start_time": "2022-06-22T11:41:33.311501",
     "status": "completed"
    },
    "tags": []
   },
   "outputs": [
    {
     "data": {
      "image/png": "[encoded data removed]",
      "text/plain": [
       "<Figure size 432x288 with 1 Axes>"
      ]
     },
     "metadata": {
      "needs_background": "light"
     },
     "output_type": "display_data"
    },
    {
     "data": {
      "image/png": "[encoded data removed]",
      "text/plain": [
       "<Figure size 432x288 with 1 Axes>"
      ]
     },
     "metadata": {
      "needs_background": "light"
     },
     "output_type": "display_data"
    },
    {
     "data": {
      "image/png": "[encoded data removed]",
      "text/plain": [
       "<Figure size 432x288 with 1 Axes>"
      ]
     },
     "metadata": {
      "needs_background": "light"
     },
     "output_type": "display_data"
    },
    {
     "data": {
      "image/png": "[encoded data removed]",
      "text/plain": [
       "<Figure size 432x288 with 1 Axes>"
      ]
     },
     "metadata": {
      "needs_background": "light"
     },
     "output_type": "display_data"
    }
   ],
   "source": [
    "sanityChecks.discProbVsError(train_data,disc,device)\n",
    "sanityChecks.discProbVsError(test_data,disc,device)"
   ]
  },
  {
   "cell_type": "markdown",
   "id": "130f3a4d",
   "metadata": {
    "id": "130f3a4d",
    "papermill": {
     "duration": 0.065334,
     "end_time": "2022-06-22T11:41:34.527639",
     "exception": false,
     "start_time": "2022-06-22T11:41:34.462305",
     "status": "completed"
    },
    "tags": []
   },
   "source": [
    "# ABC - GAN Model with skip connection"
   ]
  },
  {
   "cell_type": "code",
   "execution_count": 15,
   "id": "4e43dad1",
   "metadata": {
    "execution": {
     "iopub.execute_input": "2022-06-22T11:41:34.668643Z",
     "iopub.status.busy": "2022-06-22T11:41:34.667609Z",
     "iopub.status.idle": "2022-06-22T11:41:34.669884Z",
     "shell.execute_reply": "2022-06-22T11:41:34.669319Z"
    },
    "id": "4e43dad1",
    "papermill": {
     "duration": 0.087037,
     "end_time": "2022-06-22T11:41:34.670080",
     "exception": false,
     "start_time": "2022-06-22T11:41:34.583043",
     "status": "completed"
    },
    "tags": []
   },
   "outputs": [],
   "source": [
    "#Generator\n",
    "gen3 = network.GeneratorWithSkipConnection(n_features+1).to(device)\n",
    "constraints=network.weightConstraint()\n",
    "#Discriminator \n",
    "disc3 = network.Discriminator(n_features+1).to(device)\n",
    "\n",
    "criterion = torch.nn.BCELoss()\n",
    "gen_opt = torch.optim.Adam(gen3.parameters(), lr=0.001, betas=(0.5, 0.999))\n",
    "disc_opt = torch.optim.Adam(disc3.parameters(), lr=0.001, betas=(0.5, 0.999))\n"
   ]
  },
  {
   "cell_type": "code",
   "execution_count": 16,
   "id": "26acbc37",
   "metadata": {
    "execution": {
     "iopub.execute_input": "2022-06-22T11:41:34.788832Z",
     "iopub.status.busy": "2022-06-22T11:41:34.788061Z",
     "iopub.status.idle": "2022-06-22T11:43:10.652752Z",
     "shell.execute_reply": "2022-06-22T11:43:10.653860Z"
    },
    "id": "26acbc37",
    "papermill": {
     "duration": 95.929522,
     "end_time": "2022-06-22T11:43:10.654119",
     "exception": false,
     "start_time": "2022-06-22T11:41:34.724597",
     "status": "completed"
    },
    "tags": []
   },
   "outputs": [
    {
     "data": {
      "image/png": "[encoded data removed]",
      "text/plain": [
       "<Figure size 432x288 with 1 Axes>"
      ]
     },
     "metadata": {
      "needs_background": "light"
     },
     "output_type": "display_data"
    },
    {
     "data": {
      "image/png": "[encoded data removed]",
      "text/plain": [
       "<Figure size 432x288 with 1 Axes>"
      ]
     },
     "metadata": {
      "needs_background": "light"
     },
     "output_type": "display_data"
    }
   ],
   "source": [
    "ABC_train_test2.training_GAN_skip_connection(disc3,gen3,disc_opt,gen_opt,train_data,batch_size,n_epochs,criterion,prior_model,variance,bias,device)"
   ]
  },
  {
   "cell_type": "code",
   "execution_count": 17,
   "id": "c5e0717b",
   "metadata": {
    "execution": {
     "iopub.execute_input": "2022-06-22T11:43:10.818159Z",
     "iopub.status.busy": "2022-06-22T11:43:10.817353Z",
     "iopub.status.idle": "2022-06-22T11:43:11.800013Z",
     "shell.execute_reply": "2022-06-22T11:43:11.804697Z"
    },
    "id": "c5e0717b",
    "papermill": {
     "duration": 1.081671,
     "end_time": "2022-06-22T11:43:11.808054",
     "exception": false,
     "start_time": "2022-06-22T11:43:10.726383",
     "status": "completed"
    },
    "tags": []
   },
   "outputs": [
    {
     "data": {
      "application/scrapbook.scrap.json+json": {
       "data": 0.2065162115846771,
       "encoder": "json",
       "name": "ABC-GAN Model 3 MSE",
       "version": 1
      }
     },
     "metadata": {
      "scrapbook": {
       "data": true,
       "display": false,
       "name": "ABC-GAN Model 3 MSE"
      }
     },
     "output_type": "display_data"
    },
    {
     "data": {
      "application/scrapbook.scrap.json+json": {
       "data": 0.29406122471019625,
       "encoder": "json",
       "name": "ABC-GAN Model 3 MAE",
       "version": 1
      }
     },
     "metadata": {
      "scrapbook": {
       "data": true,
       "display": false,
       "name": "ABC-GAN Model 3 MAE"
      }
     },
     "output_type": "display_data"
    },
    {
     "data": {
      "application/scrapbook.scrap.json+json": {
       "data": 5.881224494203925,
       "encoder": "json",
       "name": "ABC-GAN Model 3 Manhattan Distance",
       "version": 1
      }
     },
     "metadata": {
      "scrapbook": {
       "data": true,
       "display": false,
       "name": "ABC-GAN Model 3 Manhattan Distance"
      }
     },
     "output_type": "display_data"
    },
    {
     "data": {
      "application/scrapbook.scrap.json+json": {
       "data": 2.0099905788974883,
       "encoder": "json",
       "name": "ABC-GAN Model 3 Euclidean distance",
       "version": 1
      }
     },
     "metadata": {
      "scrapbook": {
       "data": true,
       "display": false,
       "name": "ABC-GAN Model 3 Euclidean distance"
      }
     },
     "output_type": "display_data"
    },
    {
     "data": {
      "application/scrapbook.scrap.json+json": {
       "data": [
        [
         0.1454198513488238,
         0.14820396193424998,
         0.12467236489804875,
         0.15057406596576203,
         0.12807839967467297,
         0.14880767126782052,
         0.17115486365643257,
         0.17307096046623882,
         0.15088751477846912,
         0.2845598445410255,
         0.2261455663919322,
         0.14484387194960024,
         0.1588755519475972,
         0.22046898466091508,
         0.17520050106341167,
         0.2439212237439722,
         0.33581965207224246,
         0.11041760659856299,
         0.1734989549786828,
         0.21895693673652405,
         0.20849636021091858,
         0.1088093698043691,
         0.21591273469208655,
         0.13590790664276695,
         0.1839611536464699,
         0.14243106212934614,
         0.1403901635787615,
         0.31573412640162535,
         0.2555886030889504,
         0.232147298875585,
         0.2520256806824318,
         0.14188347573252527,
         0.31547379279437066,
         0.23763410771921425,
         0.27920949706835513,
         0.32263412019085075,
         0.1419348175832236,
         0.1903320262736766,
         0.2709507065749198,
         0.1080673862847139,
         0.1506263513586217,
         0.2737451754545932,
         0.2606002947257892,
         0.1580468787279993,
         0.20198615071670853,
         0.17529317263945665,
         0.1562669523887227,
         0.2802503855028046,
         0.1333224022931338,
         0.1694501643579087,
         0.1661020552243939,
         0.16414065001059314,
         0.15453055088266512,
         0.24553976080602288,
         0.22325954190240274,
         0.29617373535664043,
         0.2599177531859911,
         0.1967848617101283,
         0.24661433574916347,
         0.17027659538551806,
         0.21135204616252956,
         0.18666354582969183,
         0.1674186931729384,
         0.21961803796883567,
         0.2769945831869677,
         0.17834134467340385,
         0.1807558674896843,
         0.25284650266036,
         0.2998998865872119,
         0.16597817731569453,
         0.16260121826416754,
         0.33298511182796936,
         0.22115248736881207,
         0.19578634736860567,
         0.22030102542712435,
         0.1966255650228476,
         0.13745247544845926,
         0.22792844152823394,
         0.2475238907554096,
         0.16853903638050877,
         0.35786286418243596,
         0.18579699008243916,
         0.14314786821798509,
         0.2357340926444377,
         0.1414822633552742,
         0.16914304872770466,
         0.251402474912079,
         0.20469108641616537,
         0.2539149765535567,
         0.14396402259584054,
         0.11923308622197104,
         0.2876950832718332,
         0.30537114031013124,
         0.2339386071529445,
         0.32833316677921986,
         0.17671367050698641,
         0.15788055680240815,
         0.32345491609585514,
         0.32466035449692854,
         0.14040609767265214
        ],
        [
         0.27445063963532446,
         0.2836747903376818,
         0.2534248035401106,
         0.26363105662167075,
         0.27558393590152264,
         0.25217370949685575,
         0.28193841241300105,
         0.28061214946210383,
         0.26471247486770155,
         0.3283306431025267,
         0.28776257745921613,
         0.268679278716445,
         0.29940010868012906,
         0.2763893764466047,
         0.2964835580438375,
         0.3203196909278631,
         0.3379471804946661,
         0.23757083974778653,
         0.2889303807169199,
         0.31749087311327456,
         0.324379588291049,
         0.23175900168716906,
         0.3020616825670004,
         0.26705959178507327,
         0.28774804137647153,
         0.26788623370230197,
         0.25608494989573954,
         0.3419415298849344,
         0.2957891922444105,
         0.3080296408385038,
         0.31433823145926,
         0.2458677154034376,
         0.3242033559828997,
         0.2849062498658895,
         0.31271583400666714,
         0.3435404758900404,
         0.27432574294507506,
         0.3161820065230131,
         0.3262341808527708,
         0.25576713792979716,
         0.2914857011288404,
         0.33260102160274985,
         0.30055397413671014,
         0.27721936963498595,
         0.2901076775044203,
         0.2956004377454519,
         0.2828525949269533,
         0.33446881286799907,
         0.25016164444386957,
         0.28009506575763227,
         0.2787373658269644,
         0.2854759331792593,
         0.2645094510167837,
         0.32992841117084026,
         0.30766455493867395,
         0.31761054806411265,
         0.32138400599360467,
         0.285740127786994,
         0.324461692199111,
         0.29249623231589794,
         0.28674681968986987,
         0.2893851470202208,
         0.2792351420968771,
         0.28131285421550273,
         0.31074380613863467,
         0.29943311400711536,
         0.3047720145434141,
         0.2952596675604582,
         0.31916677542030814,
         0.2814826715737581,
         0.2928231555968523,
         0.3430337909609079,
         0.2948028679937124,
         0.3125449065119028,
         0.2931315813213587,
         0.27686557583510873,
         0.24588779769837857,
         0.3234935965389013,
         0.3113143164664507,
         0.27588500641286373,
         0.35927043594419955,
         0.29792246371507647,
         0.26683938764035703,
         0.3174925301223993,
         0.28533401526510715,
         0.27394016049802306,
         0.30492929853498935,
         0.2858010228723288,
         0.310171702131629,
         0.26459193639457224,
         0.26399162150919436,
         0.32056523524224756,
         0.31301250122487545,
         0.3043948408216238,
         0.33451400361955164,
         0.2913372050970793,
         0.2684919346123934,
         0.3129705097526312,
         0.3463511478155851,
         0.25339842550456526
        ],
        [
         5.48901279270649,
         5.673495806753635,
         5.068496070802212,
         5.2726211324334145,
         5.511678718030453,
         5.043474189937115,
         5.638768248260021,
         5.612242989242077,
         5.294249497354031,
         6.566612862050533,
         5.755251549184322,
         5.373585574328899,
         5.988002173602581,
         5.527787528932095,
         5.929671160876751,
         6.406393818557262,
         6.758943609893322,
         4.75141679495573,
         5.778607614338398,
         6.3498174622654915,
         6.48759176582098,
         4.6351800337433815,
         6.041233651340008,
         5.341191835701466,
         5.75496082752943,
         5.35772467404604,
         5.121698997914791,
         6.8388305976986885,
         5.91578384488821,
         6.160592816770077,
         6.2867646291852,
         4.917354308068752,
         6.484067119657993,
         5.698124997317791,
         6.254316680133343,
         6.870809517800808,
         5.486514858901501,
         6.323640130460262,
         6.524683617055416,
         5.1153427585959435,
         5.829714022576809,
         6.6520204320549965,
         6.011079482734203,
         5.5443873926997185,
         5.802153550088406,
         5.9120087549090385,
         5.657051898539066,
         6.6893762573599815,
         5.003232888877392,
         5.601901315152645,
         5.574747316539288,
         5.709518663585186,
         5.290189020335674,
         6.598568223416805,
         6.1532910987734795,
         6.352210961282253,
         6.427680119872093,
         5.71480255573988,
         6.48923384398222,
         5.849924646317959,
         5.734936393797398,
         5.787702940404415,
         5.584702841937542,
         5.626257084310055,
         6.214876122772694,
         5.988662280142307,
         6.095440290868282,
         5.905193351209164,
         6.383335508406162,
         5.6296534314751625,
         5.856463111937046,
         6.860675819218159,
         5.8960573598742485,
         6.250898130238056,
         5.862631626427174,
         5.537311516702175,
         4.917755953967571,
         6.469871930778027,
         6.226286329329014,
         5.517700128257275,
         7.185408718883991,
         5.958449274301529,
         5.33678775280714,
         6.349850602447987,
         5.706680305302143,
         5.478803209960461,
         6.098585970699787,
         5.716020457446575,
         6.20343404263258,
         5.291838727891445,
         5.2798324301838875,
         6.411304704844952,
         6.260250024497509,
         6.087896816432476,
         6.690280072391033,
         5.8267441019415855,
         5.369838692247868,
         6.259410195052624,
         6.927022956311703,
         5.067968510091305
        ],
        [
         1.7054023064885528,
         1.7216501499099635,
         1.5790653241588755,
         1.7353620139081185,
         1.600489922959048,
         1.7251531599705603,
         1.8501614181277943,
         1.8604889704926435,
         1.737167319393668,
         2.38562295655045,
         2.1267137390440314,
         1.7020215741852407,
         1.7825574433807019,
         2.0998523027151936,
         1.8719001098531496,
         2.2087155712946482,
         2.5916004787476115,
         1.4860525333820669,
         1.8627879910429035,
         2.0926391792973966,
         2.0420399614646065,
         1.4751906304228555,
         2.0780410712595963,
         1.6486837576853055,
         1.918130098019787,
         1.6877858995106347,
         1.6756501041611371,
         2.512903207056035,
         2.2609228341053584,
         2.154749632210596,
         2.245108820001524,
         1.684538368411508,
         2.511867006011149,
         2.1800647133478135,
         2.3630890675907885,
         2.54021306268136,
         1.6848431237549897,
         1.9510613843427715,
         2.3278776023447616,
         1.470152279763657,
         1.7356632816224562,
         2.3398511724235505,
         2.2829817989891605,
         1.7779025773534347,
         2.0099062202834665,
         1.87239511129172,
         1.7678628475575966,
         2.367489748669694,
         1.6329262218063239,
         1.8409245740002966,
         1.8226467305783305,
         1.81185347095505,
         1.7580133724330147,
         2.2160314113569006,
         2.1130998173413515,
         2.4338189552908016,
         2.279990145531296,
         1.9838591770089342,
         2.2208752137351775,
         1.8454083308878717,
         2.055976878092405,
         1.9321674142252365,
         1.8298562412000476,
         2.095795972745609,
         2.353697445242135,
         1.8886044830689344,
         1.9013461940934602,
         2.2487618933998323,
         2.4490809973833527,
         1.8219669443526934,
         1.8033370082387126,
         2.580639888973157,
         2.103104787540612,
         1.978819584341158,
         2.0990522881868587,
         1.9830560507602784,
         1.6580257865814951,
         2.1350805208620773,
         2.224966924497574,
         1.8359686074685957,
         2.675305082350183,
         1.9276773074476918,
         1.6920275897158714,
         2.1713318154738013,
         1.6821549474128366,
         1.8392555490072862,
         2.2423312641627198,
         2.0233194825146392,
         2.2535082718000248,
         1.6968442627173568,
         1.5442349965077922,
         2.398729177176253,
         2.4713200533728172,
         2.163046958126173,
         2.5625501625498766,
         1.8799663321825018,
         1.7769668359449378,
         2.5434422191032966,
         2.5481772092887436,
         1.6757451934745458
        ]
       ],
       "encoder": "json",
       "name": "ABC_GAN_3 Metrics",
       "version": 1
      }
     },
     "metadata": {
      "scrapbook": {
       "data": true,
       "display": false,
       "name": "ABC_GAN_3 Metrics"
      }
     },
     "output_type": "display_data"
    },
    {
     "name": "stdout",
     "output_type": "stream",
     "text": [
      "MSE\n",
      "0.2065162115846771\n"
     ]
    }
   ],
   "source": [
    "ABC_GAN3_metrics=ABC_train_test2.test_generator(gen3,test_data,prior_model,variance,bias,\"3\",device)\n",
    "sb.glue(\"ABC_GAN_3 Metrics\",ABC_GAN3_metrics)\n",
    "\n",
    "print(\"MSE\")\n",
    "print(mean(ABC_GAN3_metrics[0]))"
   ]
  },
  {
   "cell_type": "code",
   "execution_count": 18,
   "id": "c8e46b48",
   "metadata": {
    "execution": {
     "iopub.execute_input": "2022-06-22T11:43:11.965156Z",
     "iopub.status.busy": "2022-06-22T11:43:11.963327Z",
     "iopub.status.idle": "2022-06-22T11:43:12.866396Z",
     "shell.execute_reply": "2022-06-22T11:43:12.867088Z"
    },
    "id": "c8e46b48",
    "papermill": {
     "duration": 0.991902,
     "end_time": "2022-06-22T11:43:12.867332",
     "exception": false,
     "start_time": "2022-06-22T11:43:11.875430",
     "status": "completed"
    },
    "tags": []
   },
   "outputs": [
    {
     "data": {
      "image/png": "[encoded data removed]",
      "text/plain": [
       "<Figure size 432x288 with 1 Axes>"
      ]
     },
     "metadata": {
      "needs_background": "light"
     },
     "output_type": "display_data"
    },
    {
     "data": {
      "image/png": "[encoded data removed]",
      "text/plain": [
       "<Figure size 432x288 with 1 Axes>"
      ]
     },
     "metadata": {
      "needs_background": "light"
     },
     "output_type": "display_data"
    },
    {
     "data": {
      "image/png": "[encoded data removed]",
      "text/plain": [
       "<Figure size 432x288 with 1 Axes>"
      ]
     },
     "metadata": {
      "needs_background": "light"
     },
     "output_type": "display_data"
    },
    {
     "data": {
      "image/png": "[encoded data removed]",
      "text/plain": [
       "<Figure size 432x288 with 1 Axes>"
      ]
     },
     "metadata": {
      "needs_background": "light"
     },
     "output_type": "display_data"
    }
   ],
   "source": [
    "sanityChecks.discProbVsError(train_data,disc3,device)\n",
    "sanityChecks.discProbVsError(test_data,disc3,device)"
   ]
  },
  {
   "cell_type": "markdown",
   "id": "a5bd74c3",
   "metadata": {
    "id": "a5bd74c3",
    "papermill": {
     "duration": 0.084354,
     "end_time": "2022-06-22T11:43:13.010164",
     "exception": false,
     "start_time": "2022-06-22T11:43:12.925810",
     "status": "completed"
    },
    "tags": []
   },
   "source": [
    "## Skip Connection Model Analysis - ABC-GAN "
   ]
  },
  {
   "cell_type": "markdown",
   "id": "5744a8bf",
   "metadata": {
    "id": "5744a8bf",
    "papermill": {
     "duration": 0.063598,
     "end_time": "2022-06-22T11:43:13.126505",
     "exception": false,
     "start_time": "2022-06-22T11:43:13.062907",
     "status": "completed"
    },
    "tags": []
   },
   "source": [
    "### Weight Analysis \n",
    "\n",
    "Study the weights of the skip connection layer\n",
    "\n",
    "Equation of the skip connection is \n",
    "\n",
    "$output = y_{gan} * w + y_{abc} * (1-w)$"
   ]
  },
  {
   "cell_type": "code",
   "execution_count": 19,
   "id": "52c31dea",
   "metadata": {
    "execution": {
     "iopub.execute_input": "2022-06-22T11:43:13.269331Z",
     "iopub.status.busy": "2022-06-22T11:43:13.266626Z",
     "iopub.status.idle": "2022-06-22T11:43:13.272521Z",
     "shell.execute_reply": "2022-06-22T11:43:13.273109Z"
    },
    "id": "52c31dea",
    "papermill": {
     "duration": 0.087092,
     "end_time": "2022-06-22T11:43:13.273336",
     "exception": false,
     "start_time": "2022-06-22T11:43:13.186244",
     "status": "completed"
    },
    "tags": []
   },
   "outputs": [
    {
     "name": "stdout",
     "output_type": "stream",
     "text": [
      "Weight of the node at skip connection\n",
      "Parameter containing:\n",
      "tensor([[0.4920]], requires_grad=True)\n"
     ]
    },
    {
     "data": {
      "application/scrapbook.scrap.json+json": {
       "data": 0.4920107126235962,
       "encoder": "json",
       "name": "Skip Connection Weight",
       "version": 1
      }
     },
     "metadata": {
      "scrapbook": {
       "data": true,
       "display": false,
       "name": "Skip Connection Weight"
      }
     },
     "output_type": "display_data"
    }
   ],
   "source": [
    "print(\"Weight of the node at skip connection\")\n",
    "for name,param in gen3.named_parameters():\n",
    "    if(name == \"skipNode.weight\"):\n",
    "        print(param)\n",
    "        sb.glue(\"Skip Connection Weight\",param.item())"
   ]
  }
 ],
 "metadata": {
  "colab": {
   "collapsed_sections": [],
   "name": "ABC_GAN_Model-Catboost_Pre-gen.ipynb",
   "provenance": []
  },
  "interpreter": {
   "hash": "31f2aee4e71d21fbe5cf8b01ff0e069b9275f58929596ceb00d14d90e3e16cd6"
  },
  "kernelspec": {
   "display_name": "Python 3 (ipykernel)",
   "language": "python",
   "name": "python3"
  },
  "language_info": {
   "codemirror_mode": {
    "name": "ipython",
    "version": 3
   },
   "file_extension": ".py",
   "mimetype": "text/x-python",
   "name": "python",
   "nbconvert_exporter": "python",
   "pygments_lexer": "ipython3",
   "version": "3.8.3"
  },
  "papermill": {
   "default_parameters": {},
   "duration": 184.918921,
   "end_time": "2022-06-22T11:43:15.256362",
   "environment_variables": {},
   "exception": null,
   "input_path": "ABC_GAN-TabNet.ipynb",
   "output_path": "./ABC_GAN_TabNet/ABC-GAN_output_1_6.ipynb",
   "parameters": {
    "bias": 0.01,
    "variance": 1
   },
   "start_time": "2022-06-22T11:40:10.337441",
   "version": "2.3.3"
  }
 },
 "nbformat": 4,
 "nbformat_minor": 5
}