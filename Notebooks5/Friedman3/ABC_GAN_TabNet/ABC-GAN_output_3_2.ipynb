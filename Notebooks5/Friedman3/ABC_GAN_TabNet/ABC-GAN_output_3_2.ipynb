{
 "cells": [
  {
   "cell_type": "markdown",
   "id": "622780e6",
   "metadata": {
    "id": "622780e6",
    "papermill": {
     "duration": 0.025491,
     "end_time": "2022-06-22T12:28:44.423632",
     "exception": false,
     "start_time": "2022-06-22T12:28:44.398141",
     "status": "completed"
    },
    "tags": []
   },
   "source": [
    "## Import Libraries "
   ]
  },
  {
   "cell_type": "code",
   "execution_count": 1,
   "id": "a62397e3",
   "metadata": {
    "execution": {
     "iopub.execute_input": "2022-06-22T12:28:44.476474Z",
     "iopub.status.busy": "2022-06-22T12:28:44.475581Z",
     "iopub.status.idle": "2022-06-22T12:28:44.478578Z",
     "shell.execute_reply": "2022-06-22T12:28:44.479499Z"
    },
    "id": "a62397e3",
    "papermill": {
     "duration": 0.034792,
     "end_time": "2022-06-22T12:28:44.479957",
     "exception": false,
     "start_time": "2022-06-22T12:28:44.445165",
     "status": "completed"
    },
    "tags": []
   },
   "outputs": [],
   "source": [
    "import warnings\n",
    "import sys\n",
    "sys.path.insert(0, '../../src')\n",
    "warnings.filterwarnings('ignore')"
   ]
  },
  {
   "cell_type": "code",
   "execution_count": 2,
   "id": "d6a4e155",
   "metadata": {
    "execution": {
     "iopub.execute_input": "2022-06-22T12:28:44.524101Z",
     "iopub.status.busy": "2022-06-22T12:28:44.523250Z",
     "iopub.status.idle": "2022-06-22T12:28:49.948475Z",
     "shell.execute_reply": "2022-06-22T12:28:49.949063Z"
    },
    "id": "d6a4e155",
    "papermill": {
     "duration": 5.449395,
     "end_time": "2022-06-22T12:28:49.949328",
     "exception": false,
     "start_time": "2022-06-22T12:28:44.499933",
     "status": "completed"
    },
    "tags": []
   },
   "outputs": [],
   "source": [
    "import ABC_train_test2\n",
    "import friedman3Dataset\n",
    "import network\n",
    "import dataset\n",
    "import sanityChecks\n",
    "import torch \n",
    "import scrapbook as sb\n",
    "from statistics import mean \n",
    "import catboost as ctb \n",
    "from sklearn.model_selection import train_test_split\n",
    "from sklearn.metrics import mean_squared_error,mean_absolute_error\n",
    "import numpy as np\n",
    "from pytorch_tabnet.tab_model import TabNetRegressor"
   ]
  },
  {
   "cell_type": "markdown",
   "id": "2fa5b0f7",
   "metadata": {
    "id": "2fa5b0f7",
    "papermill": {
     "duration": 0.018548,
     "end_time": "2022-06-22T12:28:49.987340",
     "exception": false,
     "start_time": "2022-06-22T12:28:49.968792",
     "status": "completed"
    },
    "tags": []
   },
   "source": [
    "## Parameters "
   ]
  },
  {
   "cell_type": "code",
   "execution_count": 3,
   "id": "783186fb",
   "metadata": {
    "execution": {
     "iopub.execute_input": "2022-06-22T12:28:50.025938Z",
     "iopub.status.busy": "2022-06-22T12:28:50.025178Z",
     "iopub.status.idle": "2022-06-22T12:28:50.027374Z",
     "shell.execute_reply": "2022-06-22T12:28:50.028000Z"
    },
    "id": "783186fb",
    "papermill": {
     "duration": 0.023754,
     "end_time": "2022-06-22T12:28:50.028228",
     "exception": false,
     "start_time": "2022-06-22T12:28:50.004474",
     "status": "completed"
    },
    "tags": [
     "parameters"
    ]
   },
   "outputs": [],
   "source": [
    "variance = 1\n",
    "bias = 1 "
   ]
  },
  {
   "cell_type": "code",
   "execution_count": 4,
   "id": "8e75fccb",
   "metadata": {
    "execution": {
     "iopub.execute_input": "2022-06-22T12:28:50.063029Z",
     "iopub.status.busy": "2022-06-22T12:28:50.062075Z",
     "iopub.status.idle": "2022-06-22T12:28:50.064775Z",
     "shell.execute_reply": "2022-06-22T12:28:50.065279Z"
    },
    "papermill": {
     "duration": 0.022105,
     "end_time": "2022-06-22T12:28:50.065497",
     "exception": false,
     "start_time": "2022-06-22T12:28:50.043392",
     "status": "completed"
    },
    "tags": [
     "injected-parameters"
    ]
   },
   "outputs": [],
   "source": [
    "# Parameters\n",
    "variance = 0.01\n",
    "bias = 1\n"
   ]
  },
  {
   "cell_type": "markdown",
   "id": "391cdbfd",
   "metadata": {
    "id": "391cdbfd",
    "papermill": {
     "duration": 0.017185,
     "end_time": "2022-06-22T12:28:50.097938",
     "exception": false,
     "start_time": "2022-06-22T12:28:50.080753",
     "status": "completed"
    },
    "tags": []
   },
   "source": [
    "## Dataset \n"
   ]
  },
  {
   "cell_type": "code",
   "execution_count": 5,
   "id": "5b51f161",
   "metadata": {
    "execution": {
     "iopub.execute_input": "2022-06-22T12:28:50.136848Z",
     "iopub.status.busy": "2022-06-22T12:28:50.135886Z",
     "iopub.status.idle": "2022-06-22T12:28:50.137874Z",
     "shell.execute_reply": "2022-06-22T12:28:50.138428Z"
    },
    "id": "5b51f161",
    "papermill": {
     "duration": 0.022845,
     "end_time": "2022-06-22T12:28:50.138701",
     "exception": false,
     "start_time": "2022-06-22T12:28:50.115856",
     "status": "completed"
    },
    "tags": []
   },
   "outputs": [],
   "source": [
    "#Parameters \n",
    "n_features = 4\n",
    "n_samples= 100\n",
    "n_target = 1"
   ]
  },
  {
   "cell_type": "code",
   "execution_count": 6,
   "id": "5d6eced4",
   "metadata": {
    "execution": {
     "iopub.execute_input": "2022-06-22T12:28:50.170819Z",
     "iopub.status.busy": "2022-06-22T12:28:50.170095Z",
     "iopub.status.idle": "2022-06-22T12:28:50.183380Z",
     "shell.execute_reply": "2022-06-22T12:28:50.183846Z"
    },
    "id": "5d6eced4",
    "papermill": {
     "duration": 0.031079,
     "end_time": "2022-06-22T12:28:50.184060",
     "exception": false,
     "start_time": "2022-06-22T12:28:50.152981",
     "status": "completed"
    },
    "tags": []
   },
   "outputs": [
    {
     "name": "stdout",
     "output_type": "stream",
     "text": [
      "          X1           X2        X3        X4         Y\n",
      "0  45.338609   198.913456  0.629009  9.444216  1.288391\n",
      "1  16.094822   391.032264  0.957566  7.538331  1.456680\n",
      "2  46.869550  1209.311453  0.791072  4.211359  1.482921\n",
      "3  65.100814   828.614878  0.500569  4.505235  1.439123\n",
      "4   6.895844  1538.987520  0.147407  2.300100  1.595756\n"
     ]
    }
   ],
   "source": [
    "X,Y = friedman3Dataset.friedman3_data(n_samples)"
   ]
  },
  {
   "cell_type": "code",
   "execution_count": 7,
   "id": "fe007438",
   "metadata": {
    "execution": {
     "iopub.execute_input": "2022-06-22T12:28:50.223407Z",
     "iopub.status.busy": "2022-06-22T12:28:50.222074Z",
     "iopub.status.idle": "2022-06-22T12:28:50.225851Z",
     "shell.execute_reply": "2022-06-22T12:28:50.225273Z"
    },
    "id": "fe007438",
    "papermill": {
     "duration": 0.028039,
     "end_time": "2022-06-22T12:28:50.226054",
     "exception": false,
     "start_time": "2022-06-22T12:28:50.198015",
     "status": "completed"
    },
    "tags": []
   },
   "outputs": [],
   "source": [
    "#Train test split for dataset \n",
    "X_train,X_test,Y_train,Y_test = train_test_split(X,Y,test_size = 0.2)\n",
    "train_data = dataset.CustomDataset(X_train,Y_train)\n",
    "test_data = dataset.CustomDataset(X_test,Y_test)\n"
   ]
  },
  {
   "cell_type": "markdown",
   "id": "a9a1af34",
   "metadata": {
    "id": "a9a1af34",
    "papermill": {
     "duration": 0.015891,
     "end_time": "2022-06-22T12:28:50.258900",
     "exception": false,
     "start_time": "2022-06-22T12:28:50.243009",
     "status": "completed"
    },
    "tags": []
   },
   "source": [
    "## Training Parameters "
   ]
  },
  {
   "cell_type": "code",
   "execution_count": 8,
   "id": "952b7fc8",
   "metadata": {
    "execution": {
     "iopub.execute_input": "2022-06-22T12:28:50.292306Z",
     "iopub.status.busy": "2022-06-22T12:28:50.290702Z",
     "iopub.status.idle": "2022-06-22T12:28:50.294693Z",
     "shell.execute_reply": "2022-06-22T12:28:50.295189Z"
    },
    "id": "952b7fc8",
    "papermill": {
     "duration": 0.022759,
     "end_time": "2022-06-22T12:28:50.295467",
     "exception": false,
     "start_time": "2022-06-22T12:28:50.272708",
     "status": "completed"
    },
    "tags": []
   },
   "outputs": [],
   "source": [
    "batch_size = 32\n",
    "n_epochs = 1000\n",
    "#Select the device \n",
    "device = torch.device('cuda' if torch.cuda.is_available() else 'cpu')"
   ]
  },
  {
   "cell_type": "markdown",
   "id": "a95e1600",
   "metadata": {
    "id": "a95e1600",
    "papermill": {
     "duration": 0.016842,
     "end_time": "2022-06-22T12:28:50.328898",
     "exception": false,
     "start_time": "2022-06-22T12:28:50.312056",
     "status": "completed"
    },
    "tags": []
   },
   "source": [
    "# ABC Pre-generator Model \n",
    "\n",
    "1. The catboost model is used as a pre-generator model for the ABC-GAN. \n",
    "2. The model is first trained on the entire dataset \n",
    "3. It generats X,Y pairs and we add some Gaussian noise with mean 0 and variance 1 to it which is then feed as input to the generator.\n"
   ]
  },
  {
   "cell_type": "code",
   "execution_count": 9,
   "id": "ff8ce7bd",
   "metadata": {
    "execution": {
     "iopub.execute_input": "2022-06-22T12:28:50.369284Z",
     "iopub.status.busy": "2022-06-22T12:28:50.368247Z",
     "iopub.status.idle": "2022-06-22T12:29:09.778000Z",
     "shell.execute_reply": "2022-06-22T12:29:09.777253Z"
    },
    "id": "ff8ce7bd",
    "papermill": {
     "duration": 19.432054,
     "end_time": "2022-06-22T12:29:09.778250",
     "exception": false,
     "start_time": "2022-06-22T12:28:50.346196",
     "status": "completed"
    },
    "tags": []
   },
   "outputs": [
    {
     "name": "stdout",
     "output_type": "stream",
     "text": [
      "Device used : cpu\n"
     ]
    },
    {
     "name": "stdout",
     "output_type": "stream",
     "text": [
      "epoch 0  | loss: 0.78394 | train_mse: 10.05964| train_mae: 2.07603 |  0:00:00s\n",
      "epoch 1  | loss: 0.83066 | train_mse: 3.5722  | train_mae: 1.34583 |  0:00:00s\n",
      "epoch 2  | loss: 0.66718 | train_mse: 1.31036 | train_mae: 0.86981 |  0:00:00s\n"
     ]
    },
    {
     "name": "stdout",
     "output_type": "stream",
     "text": [
      "epoch 3  | loss: 0.41491 | train_mse: 2.09936 | train_mae: 1.01805 |  0:00:00s\n",
      "epoch 4  | loss: 0.40669 | train_mse: 2.75847 | train_mae: 1.08021 |  0:00:00s\n",
      "epoch 5  | loss: 0.43968 | train_mse: 2.51859 | train_mae: 1.05618 |  0:00:00s\n",
      "epoch 6  | loss: 0.30653 | train_mse: 1.69751 | train_mae: 0.9205  |  0:00:00s\n"
     ]
    },
    {
     "name": "stdout",
     "output_type": "stream",
     "text": [
      "epoch 7  | loss: 0.33622 | train_mse: 0.71514 | train_mae: 0.66381 |  0:00:00s\n",
      "epoch 8  | loss: 0.32286 | train_mse: 0.34917 | train_mae: 0.44848 |  0:00:00s\n",
      "epoch 9  | loss: 0.35472 | train_mse: 0.30058 | train_mae: 0.41695 |  0:00:00s\n"
     ]
    },
    {
     "name": "stdout",
     "output_type": "stream",
     "text": [
      "epoch 10 | loss: 0.20205 | train_mse: 1.12961 | train_mae: 0.7454  |  0:00:00s\n",
      "epoch 11 | loss: 0.22262 | train_mse: 2.78323 | train_mae: 1.09691 |  0:00:00s\n",
      "epoch 12 | loss: 0.34173 | train_mse: 1.72414 | train_mae: 0.94803 |  0:00:01s\n"
     ]
    },
    {
     "name": "stdout",
     "output_type": "stream",
     "text": [
      "epoch 13 | loss: 0.30619 | train_mse: 2.15634 | train_mae: 1.02348 |  0:00:01s\n",
      "epoch 14 | loss: 0.25943 | train_mse: 2.86275 | train_mae: 1.09958 |  0:00:01s\n",
      "epoch 15 | loss: 0.23562 | train_mse: 1.52733 | train_mae: 0.82759 |  0:00:01s\n"
     ]
    },
    {
     "name": "stdout",
     "output_type": "stream",
     "text": [
      "epoch 16 | loss: 0.34052 | train_mse: 1.11077 | train_mae: 0.7065  |  0:00:01s\n",
      "epoch 17 | loss: 0.15804 | train_mse: 0.89151 | train_mae: 0.63887 |  0:00:01s\n",
      "epoch 18 | loss: 0.22439 | train_mse: 0.87198 | train_mae: 0.63756 |  0:00:01s\n"
     ]
    },
    {
     "name": "stdout",
     "output_type": "stream",
     "text": [
      "epoch 19 | loss: 0.13483 | train_mse: 0.70118 | train_mae: 0.58628 |  0:00:01s\n",
      "epoch 20 | loss: 0.11485 | train_mse: 0.72456 | train_mae: 0.58517 |  0:00:01s\n",
      "epoch 21 | loss: 0.13118 | train_mse: 0.70726 | train_mae: 0.58776 |  0:00:01s\n"
     ]
    },
    {
     "name": "stdout",
     "output_type": "stream",
     "text": [
      "epoch 22 | loss: 0.10085 | train_mse: 0.54719 | train_mae: 0.52067 |  0:00:01s\n",
      "epoch 23 | loss: 0.42046 | train_mse: 0.55249 | train_mae: 0.52676 |  0:00:02s\n"
     ]
    },
    {
     "name": "stdout",
     "output_type": "stream",
     "text": [
      "epoch 24 | loss: 0.13476 | train_mse: 0.4737  | train_mae: 0.47864 |  0:00:02s\n",
      "epoch 25 | loss: 0.13209 | train_mse: 0.39838 | train_mae: 0.44049 |  0:00:02s\n",
      "epoch 26 | loss: 0.24636 | train_mse: 0.28194 | train_mae: 0.36512 |  0:00:02s\n"
     ]
    },
    {
     "name": "stdout",
     "output_type": "stream",
     "text": [
      "epoch 27 | loss: 0.14067 | train_mse: 0.33519 | train_mae: 0.40046 |  0:00:02s\n",
      "epoch 28 | loss: 0.10686 | train_mse: 0.52087 | train_mae: 0.48276 |  0:00:02s\n",
      "epoch 29 | loss: 0.2627  | train_mse: 0.46052 | train_mae: 0.45068 |  0:00:02s\n"
     ]
    },
    {
     "name": "stdout",
     "output_type": "stream",
     "text": [
      "epoch 30 | loss: 0.15303 | train_mse: 0.34594 | train_mae: 0.39279 |  0:00:02s\n",
      "epoch 31 | loss: 0.3025  | train_mse: 0.27032 | train_mae: 0.35023 |  0:00:02s\n",
      "epoch 32 | loss: 0.2429  | train_mse: 0.26343 | train_mae: 0.35113 |  0:00:02s\n",
      "epoch 33 | loss: 0.26511 | train_mse: 0.28103 | train_mae: 0.36291 |  0:00:02s\n"
     ]
    },
    {
     "name": "stdout",
     "output_type": "stream",
     "text": [
      "epoch 34 | loss: 0.16214 | train_mse: 0.21465 | train_mae: 0.33404 |  0:00:02s\n",
      "epoch 35 | loss: 0.14447 | train_mse: 0.1853  | train_mae: 0.31153 |  0:00:03s\n",
      "epoch 36 | loss: 0.10003 | train_mse: 0.24079 | train_mae: 0.30455 |  0:00:03s\n"
     ]
    },
    {
     "name": "stdout",
     "output_type": "stream",
     "text": [
      "epoch 37 | loss: 0.14181 | train_mse: 0.22299 | train_mae: 0.30473 |  0:00:03s\n",
      "epoch 38 | loss: 0.14293 | train_mse: 0.15351 | train_mae: 0.27035 |  0:00:03s\n",
      "epoch 39 | loss: 0.13469 | train_mse: 0.08099 | train_mae: 0.22007 |  0:00:03s\n"
     ]
    },
    {
     "name": "stdout",
     "output_type": "stream",
     "text": [
      "epoch 40 | loss: 0.10435 | train_mse: 0.08691 | train_mae: 0.2227  |  0:00:03s\n",
      "epoch 41 | loss: 0.10499 | train_mse: 0.10557 | train_mae: 0.25566 |  0:00:03s\n",
      "epoch 42 | loss: 0.15888 | train_mse: 0.16014 | train_mae: 0.30699 |  0:00:03s\n",
      "epoch 43 | loss: 0.18639 | train_mse: 0.19048 | train_mae: 0.32508 |  0:00:03s\n"
     ]
    },
    {
     "name": "stdout",
     "output_type": "stream",
     "text": [
      "epoch 44 | loss: 0.14436 | train_mse: 0.12939 | train_mae: 0.27728 |  0:00:03s\n",
      "epoch 45 | loss: 0.12396 | train_mse: 0.07834 | train_mae: 0.22225 |  0:00:03s\n",
      "epoch 46 | loss: 0.1014  | train_mse: 0.06886 | train_mae: 0.20309 |  0:00:03s\n",
      "epoch 47 | loss: 0.22367 | train_mse: 0.07261 | train_mae: 0.21865 |  0:00:03s\n"
     ]
    },
    {
     "name": "stdout",
     "output_type": "stream",
     "text": [
      "epoch 48 | loss: 0.12446 | train_mse: 0.08276 | train_mae: 0.21937 |  0:00:03s\n",
      "epoch 49 | loss: 0.09614 | train_mse: 0.07583 | train_mae: 0.21522 |  0:00:04s\n",
      "epoch 50 | loss: 0.22657 | train_mse: 0.05763 | train_mae: 0.18957 |  0:00:04s\n"
     ]
    },
    {
     "name": "stdout",
     "output_type": "stream",
     "text": [
      "epoch 51 | loss: 0.16102 | train_mse: 0.06983 | train_mae: 0.20161 |  0:00:04s\n",
      "epoch 52 | loss: 0.1096  | train_mse: 0.06257 | train_mae: 0.19541 |  0:00:04s\n",
      "epoch 53 | loss: 0.13159 | train_mse: 0.05854 | train_mae: 0.19966 |  0:00:04s\n",
      "epoch 54 | loss: 0.31363 | train_mse: 0.144   | train_mae: 0.25896 |  0:00:04s\n"
     ]
    },
    {
     "name": "stdout",
     "output_type": "stream",
     "text": [
      "epoch 55 | loss: 0.1329  | train_mse: 0.13379 | train_mae: 0.25256 |  0:00:04s\n",
      "epoch 56 | loss: 0.20318 | train_mse: 0.12007 | train_mae: 0.25292 |  0:00:04s\n",
      "epoch 57 | loss: 0.08697 | train_mse: 0.11846 | train_mae: 0.24783 |  0:00:04s\n",
      "epoch 58 | loss: 0.10446 | train_mse: 0.25607 | train_mae: 0.31457 |  0:00:04s\n"
     ]
    },
    {
     "name": "stdout",
     "output_type": "stream",
     "text": [
      "epoch 59 | loss: 0.20642 | train_mse: 0.18987 | train_mae: 0.29914 |  0:00:04s\n",
      "epoch 60 | loss: 0.27191 | train_mse: 0.14448 | train_mae: 0.27187 |  0:00:04s\n",
      "epoch 61 | loss: 0.21848 | train_mse: 0.12175 | train_mae: 0.25445 |  0:00:04s\n",
      "epoch 62 | loss: 0.09492 | train_mse: 0.11717 | train_mae: 0.24938 |  0:00:04s\n"
     ]
    },
    {
     "name": "stdout",
     "output_type": "stream",
     "text": [
      "epoch 63 | loss: 0.15414 | train_mse: 0.10526 | train_mae: 0.24299 |  0:00:04s\n",
      "epoch 64 | loss: 0.09639 | train_mse: 0.08091 | train_mae: 0.219   |  0:00:05s\n",
      "epoch 65 | loss: 0.2023  | train_mse: 0.06898 | train_mae: 0.20408 |  0:00:05s\n"
     ]
    },
    {
     "name": "stdout",
     "output_type": "stream",
     "text": [
      "epoch 66 | loss: 0.10403 | train_mse: 0.07228 | train_mae: 0.21139 |  0:00:05s\n",
      "epoch 67 | loss: 0.14461 | train_mse: 0.10333 | train_mae: 0.23939 |  0:00:05s\n",
      "epoch 68 | loss: 0.1634  | train_mse: 0.12126 | train_mae: 0.25481 |  0:00:05s\n"
     ]
    },
    {
     "name": "stdout",
     "output_type": "stream",
     "text": [
      "epoch 69 | loss: 0.15238 | train_mse: 0.09349 | train_mae: 0.23389 |  0:00:05s\n",
      "epoch 70 | loss: 0.19354 | train_mse: 0.06398 | train_mae: 0.20086 |  0:00:05s\n",
      "epoch 71 | loss: 0.07972 | train_mse: 0.05718 | train_mae: 0.191   |  0:00:05s\n",
      "epoch 72 | loss: 0.07244 | train_mse: 0.06294 | train_mae: 0.19586 |  0:00:05s\n"
     ]
    },
    {
     "name": "stdout",
     "output_type": "stream",
     "text": [
      "epoch 73 | loss: 0.11716 | train_mse: 0.0974  | train_mae: 0.22773 |  0:00:05s\n",
      "epoch 74 | loss: 0.1964  | train_mse: 0.09251 | train_mae: 0.22165 |  0:00:05s\n",
      "epoch 75 | loss: 0.32229 | train_mse: 0.08179 | train_mae: 0.21515 |  0:00:05s\n",
      "epoch 76 | loss: 0.12195 | train_mse: 0.06572 | train_mae: 0.20103 |  0:00:05s\n"
     ]
    },
    {
     "name": "stdout",
     "output_type": "stream",
     "text": [
      "epoch 77 | loss: 0.13402 | train_mse: 0.12236 | train_mae: 0.24253 |  0:00:05s\n",
      "epoch 78 | loss: 0.09922 | train_mse: 0.0897  | train_mae: 0.22141 |  0:00:05s\n",
      "epoch 79 | loss: 0.17205 | train_mse: 0.16162 | train_mae: 0.24816 |  0:00:06s\n"
     ]
    },
    {
     "name": "stdout",
     "output_type": "stream",
     "text": [
      "epoch 80 | loss: 0.12413 | train_mse: 0.07686 | train_mae: 0.21466 |  0:00:06s\n",
      "epoch 81 | loss: 0.07632 | train_mse: 0.0574  | train_mae: 0.18741 |  0:00:06s\n",
      "epoch 82 | loss: 0.29581 | train_mse: 0.06462 | train_mae: 0.19785 |  0:00:06s\n",
      "epoch 83 | loss: 0.11297 | train_mse: 0.05931 | train_mae: 0.19043 |  0:00:06s\n"
     ]
    },
    {
     "name": "stdout",
     "output_type": "stream",
     "text": [
      "epoch 84 | loss: 0.07931 | train_mse: 0.07589 | train_mae: 0.2109  |  0:00:06s\n",
      "epoch 85 | loss: 0.14137 | train_mse: 0.07581 | train_mae: 0.20895 |  0:00:06s\n",
      "epoch 86 | loss: 0.08487 | train_mse: 0.06351 | train_mae: 0.189   |  0:00:06s\n"
     ]
    },
    {
     "name": "stdout",
     "output_type": "stream",
     "text": [
      "epoch 87 | loss: 0.07217 | train_mse: 0.05144 | train_mae: 0.17773 |  0:00:06s\n",
      "epoch 88 | loss: 0.21705 | train_mse: 0.05069 | train_mae: 0.17854 |  0:00:06s\n",
      "epoch 89 | loss: 0.13232 | train_mse: 0.05218 | train_mae: 0.18003 |  0:00:06s\n"
     ]
    },
    {
     "name": "stdout",
     "output_type": "stream",
     "text": [
      "epoch 90 | loss: 0.13486 | train_mse: 0.06633 | train_mae: 0.19848 |  0:00:06s\n",
      "epoch 91 | loss: 0.20718 | train_mse: 0.05583 | train_mae: 0.18967 |  0:00:06s\n",
      "epoch 92 | loss: 0.09209 | train_mse: 0.07054 | train_mae: 0.20831 |  0:00:07s\n",
      "epoch 93 | loss: 0.13386 | train_mse: 0.07012 | train_mae: 0.20998 |  0:00:07s\n"
     ]
    },
    {
     "name": "stdout",
     "output_type": "stream",
     "text": [
      "epoch 94 | loss: 0.11772 | train_mse: 0.06381 | train_mae: 0.20575 |  0:00:07s\n",
      "epoch 95 | loss: 0.17772 | train_mse: 0.05571 | train_mae: 0.1847  |  0:00:07s\n",
      "epoch 96 | loss: 0.17414 | train_mse: 0.07982 | train_mae: 0.19727 |  0:00:07s\n",
      "epoch 97 | loss: 0.08097 | train_mse: 0.07293 | train_mae: 0.1895  |  0:00:07s\n"
     ]
    },
    {
     "name": "stdout",
     "output_type": "stream",
     "text": [
      "epoch 98 | loss: 0.1298  | train_mse: 0.07169 | train_mae: 0.1899  |  0:00:07s\n",
      "epoch 99 | loss: 0.16712 | train_mse: 0.06513 | train_mae: 0.18584 |  0:00:07s\n",
      "epoch 100| loss: 0.13659 | train_mse: 0.06597 | train_mae: 0.19808 |  0:00:07s\n",
      "epoch 101| loss: 0.08815 | train_mse: 0.05193 | train_mae: 0.17967 |  0:00:07s\n"
     ]
    },
    {
     "name": "stdout",
     "output_type": "stream",
     "text": [
      "epoch 102| loss: 0.07988 | train_mse: 0.05222 | train_mae: 0.18342 |  0:00:07s\n",
      "epoch 103| loss: 0.12655 | train_mse: 0.05274 | train_mae: 0.18285 |  0:00:07s\n",
      "epoch 104| loss: 0.1937  | train_mse: 0.05296 | train_mae: 0.17853 |  0:00:07s\n",
      "epoch 105| loss: 0.06884 | train_mse: 0.049   | train_mae: 0.17834 |  0:00:07s\n"
     ]
    },
    {
     "name": "stdout",
     "output_type": "stream",
     "text": [
      "epoch 106| loss: 0.16964 | train_mse: 0.05399 | train_mae: 0.18453 |  0:00:07s\n",
      "epoch 107| loss: 0.21576 | train_mse: 0.08714 | train_mae: 0.21629 |  0:00:08s\n",
      "epoch 108| loss: 0.17887 | train_mse: 0.06453 | train_mae: 0.19241 |  0:00:08s\n"
     ]
    },
    {
     "name": "stdout",
     "output_type": "stream",
     "text": [
      "epoch 109| loss: 0.13854 | train_mse: 0.06932 | train_mae: 0.19654 |  0:00:08s\n",
      "epoch 110| loss: 0.06106 | train_mse: 0.06135 | train_mae: 0.18316 |  0:00:08s\n",
      "epoch 111| loss: 0.17796 | train_mse: 0.05105 | train_mae: 0.17466 |  0:00:08s\n",
      "epoch 112| loss: 0.07732 | train_mse: 0.04835 | train_mae: 0.17555 |  0:00:08s\n"
     ]
    },
    {
     "name": "stdout",
     "output_type": "stream",
     "text": [
      "epoch 113| loss: 0.09043 | train_mse: 0.04748 | train_mae: 0.17564 |  0:00:08s\n",
      "epoch 114| loss: 0.08998 | train_mse: 0.05619 | train_mae: 0.17688 |  0:00:08s\n",
      "epoch 115| loss: 0.38806 | train_mse: 0.06387 | train_mae: 0.18558 |  0:00:08s\n",
      "epoch 116| loss: 0.10775 | train_mse: 0.06673 | train_mae: 0.19071 |  0:00:08s\n"
     ]
    },
    {
     "name": "stdout",
     "output_type": "stream",
     "text": [
      "epoch 117| loss: 0.08776 | train_mse: 0.05809 | train_mae: 0.18442 |  0:00:08s\n",
      "epoch 118| loss: 0.10434 | train_mse: 0.0618  | train_mae: 0.18237 |  0:00:08s\n",
      "epoch 119| loss: 0.15637 | train_mse: 0.05505 | train_mae: 0.17499 |  0:00:08s\n",
      "epoch 120| loss: 0.23617 | train_mse: 0.0702  | train_mae: 0.19234 |  0:00:08s\n"
     ]
    },
    {
     "name": "stdout",
     "output_type": "stream",
     "text": [
      "epoch 121| loss: 0.09225 | train_mse: 0.1015  | train_mae: 0.21766 |  0:00:09s\n",
      "epoch 122| loss: 0.15399 | train_mse: 0.0843  | train_mae: 0.21099 |  0:00:09s\n",
      "epoch 123| loss: 0.07537 | train_mse: 0.07    | train_mae: 0.20227 |  0:00:09s\n"
     ]
    },
    {
     "name": "stdout",
     "output_type": "stream",
     "text": [
      "epoch 124| loss: 0.09801 | train_mse: 0.07838 | train_mae: 0.212   |  0:00:09s\n",
      "epoch 125| loss: 0.08523 | train_mse: 0.1043  | train_mae: 0.22554 |  0:00:09s\n",
      "epoch 126| loss: 0.23005 | train_mse: 0.09721 | train_mae: 0.22071 |  0:00:09s\n",
      "epoch 127| loss: 0.08369 | train_mse: 0.04529 | train_mae: 0.16951 |  0:00:09s\n"
     ]
    },
    {
     "name": "stdout",
     "output_type": "stream",
     "text": [
      "epoch 128| loss: 0.12225 | train_mse: 0.07055 | train_mae: 0.20481 |  0:00:09s\n",
      "epoch 129| loss: 0.11641 | train_mse: 0.07118 | train_mae: 0.19628 |  0:00:09s\n",
      "epoch 130| loss: 0.09341 | train_mse: 0.06205 | train_mae: 0.19184 |  0:00:09s\n",
      "epoch 131| loss: 0.08594 | train_mse: 0.07844 | train_mae: 0.21294 |  0:00:09s\n"
     ]
    },
    {
     "name": "stdout",
     "output_type": "stream",
     "text": [
      "epoch 132| loss: 0.16064 | train_mse: 0.16696 | train_mae: 0.26375 |  0:00:09s\n",
      "epoch 133| loss: 0.13387 | train_mse: 0.18583 | train_mae: 0.267   |  0:00:09s\n",
      "epoch 134| loss: 0.0894  | train_mse: 0.13875 | train_mae: 0.24237 |  0:00:09s\n",
      "epoch 135| loss: 0.10909 | train_mse: 0.06392 | train_mae: 0.19619 |  0:00:09s\n"
     ]
    },
    {
     "name": "stdout",
     "output_type": "stream",
     "text": [
      "epoch 136| loss: 0.15076 | train_mse: 0.07222 | train_mae: 0.20861 |  0:00:10s\n",
      "epoch 137| loss: 0.19448 | train_mse: 0.08    | train_mae: 0.21316 |  0:00:10s\n",
      "epoch 138| loss: 0.11688 | train_mse: 0.06699 | train_mae: 0.20153 |  0:00:10s\n"
     ]
    },
    {
     "name": "stdout",
     "output_type": "stream",
     "text": [
      "epoch 139| loss: 0.11426 | train_mse: 0.08878 | train_mae: 0.23021 |  0:00:10s\n",
      "epoch 140| loss: 0.29722 | train_mse: 0.12005 | train_mae: 0.26063 |  0:00:10s\n"
     ]
    },
    {
     "name": "stdout",
     "output_type": "stream",
     "text": [
      "epoch 141| loss: 0.10676 | train_mse: 0.09458 | train_mae: 0.24271 |  0:00:10s\n",
      "epoch 142| loss: 0.13875 | train_mse: 0.07325 | train_mae: 0.21124 |  0:00:10s\n",
      "epoch 143| loss: 0.15204 | train_mse: 0.07849 | train_mae: 0.21338 |  0:00:10s\n",
      "epoch 144| loss: 0.09677 | train_mse: 0.0744  | train_mae: 0.20511 |  0:00:10s\n"
     ]
    },
    {
     "name": "stdout",
     "output_type": "stream",
     "text": [
      "epoch 145| loss: 0.07652 | train_mse: 0.06855 | train_mae: 0.20523 |  0:00:10s\n",
      "epoch 146| loss: 0.13035 | train_mse: 0.07021 | train_mae: 0.20406 |  0:00:10s\n",
      "epoch 147| loss: 0.09804 | train_mse: 0.06277 | train_mae: 0.19765 |  0:00:10s\n"
     ]
    },
    {
     "name": "stdout",
     "output_type": "stream",
     "text": [
      "epoch 148| loss: 0.07996 | train_mse: 0.06729 | train_mae: 0.20363 |  0:00:10s\n",
      "epoch 149| loss: 0.07823 | train_mse: 0.06606 | train_mae: 0.20207 |  0:00:11s\n",
      "epoch 150| loss: 0.08877 | train_mse: 0.05261 | train_mae: 0.18664 |  0:00:11s\n",
      "epoch 151| loss: 0.1609  | train_mse: 0.04842 | train_mae: 0.17507 |  0:00:11s\n"
     ]
    },
    {
     "name": "stdout",
     "output_type": "stream",
     "text": [
      "epoch 152| loss: 0.17949 | train_mse: 0.05995 | train_mae: 0.19033 |  0:00:11s\n",
      "epoch 153| loss: 0.08135 | train_mse: 0.05248 | train_mae: 0.18424 |  0:00:11s\n",
      "epoch 154| loss: 0.13969 | train_mse: 0.05345 | train_mae: 0.185   |  0:00:11s\n",
      "epoch 155| loss: 0.14571 | train_mse: 0.05865 | train_mae: 0.19021 |  0:00:11s\n"
     ]
    },
    {
     "name": "stdout",
     "output_type": "stream",
     "text": [
      "epoch 156| loss: 0.18067 | train_mse: 0.05921 | train_mae: 0.18964 |  0:00:11s\n",
      "epoch 157| loss: 0.12664 | train_mse: 0.05795 | train_mae: 0.18612 |  0:00:11s\n",
      "epoch 158| loss: 0.28561 | train_mse: 0.082   | train_mae: 0.20406 |  0:00:11s\n"
     ]
    },
    {
     "name": "stdout",
     "output_type": "stream",
     "text": [
      "epoch 159| loss: 0.15238 | train_mse: 0.10673 | train_mae: 0.21987 |  0:00:11s\n",
      "epoch 160| loss: 0.17722 | train_mse: 0.12255 | train_mae: 0.23752 |  0:00:11s\n",
      "epoch 161| loss: 0.12383 | train_mse: 0.09652 | train_mae: 0.22038 |  0:00:11s\n",
      "epoch 162| loss: 0.14754 | train_mse: 0.0992  | train_mae: 0.21215 |  0:00:11s\n"
     ]
    },
    {
     "name": "stdout",
     "output_type": "stream",
     "text": [
      "epoch 163| loss: 0.08419 | train_mse: 0.06464 | train_mae: 0.19271 |  0:00:12s\n",
      "epoch 164| loss: 0.11269 | train_mse: 0.05025 | train_mae: 0.17242 |  0:00:12s\n",
      "epoch 165| loss: 0.11258 | train_mse: 0.05896 | train_mae: 0.18183 |  0:00:12s\n"
     ]
    },
    {
     "name": "stdout",
     "output_type": "stream",
     "text": [
      "epoch 166| loss: 0.09582 | train_mse: 0.05062 | train_mae: 0.17329 |  0:00:12s\n",
      "epoch 167| loss: 0.09274 | train_mse: 0.04417 | train_mae: 0.16771 |  0:00:12s\n",
      "epoch 168| loss: 0.07713 | train_mse: 0.04936 | train_mae: 0.16754 |  0:00:12s\n"
     ]
    },
    {
     "name": "stdout",
     "output_type": "stream",
     "text": [
      "epoch 169| loss: 0.19146 | train_mse: 0.05677 | train_mae: 0.17698 |  0:00:12s\n",
      "epoch 170| loss: 0.06142 | train_mse: 0.05837 | train_mae: 0.18014 |  0:00:12s\n",
      "epoch 171| loss: 0.19283 | train_mse: 0.04998 | train_mae: 0.17325 |  0:00:12s\n",
      "epoch 172| loss: 0.25624 | train_mse: 0.05415 | train_mae: 0.1742  |  0:00:12s\n"
     ]
    },
    {
     "name": "stdout",
     "output_type": "stream",
     "text": [
      "epoch 173| loss: 0.09572 | train_mse: 0.05634 | train_mae: 0.18006 |  0:00:12s\n",
      "epoch 174| loss: 0.07313 | train_mse: 0.06174 | train_mae: 0.18841 |  0:00:12s\n",
      "epoch 175| loss: 0.08585 | train_mse: 0.06469 | train_mae: 0.18967 |  0:00:13s\n"
     ]
    },
    {
     "name": "stdout",
     "output_type": "stream",
     "text": [
      "epoch 176| loss: 0.16526 | train_mse: 0.06711 | train_mae: 0.19139 |  0:00:13s\n",
      "epoch 177| loss: 0.14399 | train_mse: 0.0676  | train_mae: 0.19109 |  0:00:13s\n",
      "epoch 178| loss: 0.0992  | train_mse: 0.06869 | train_mae: 0.18988 |  0:00:13s\n"
     ]
    },
    {
     "name": "stdout",
     "output_type": "stream",
     "text": [
      "epoch 179| loss: 0.08462 | train_mse: 0.06903 | train_mae: 0.18396 |  0:00:13s\n",
      "epoch 180| loss: 0.11067 | train_mse: 0.06235 | train_mae: 0.18943 |  0:00:13s\n",
      "epoch 181| loss: 0.10778 | train_mse: 0.06517 | train_mae: 0.20177 |  0:00:13s\n",
      "epoch 182| loss: 0.12467 | train_mse: 0.05635 | train_mae: 0.18105 |  0:00:13s\n"
     ]
    },
    {
     "name": "stdout",
     "output_type": "stream",
     "text": [
      "epoch 183| loss: 0.07972 | train_mse: 0.05238 | train_mae: 0.17229 |  0:00:13s\n",
      "epoch 184| loss: 0.21127 | train_mse: 0.06432 | train_mae: 0.19191 |  0:00:13s\n",
      "epoch 185| loss: 0.17825 | train_mse: 0.07791 | train_mae: 0.19589 |  0:00:13s\n",
      "epoch 186| loss: 0.10963 | train_mse: 0.0729  | train_mae: 0.18455 |  0:00:13s\n"
     ]
    },
    {
     "name": "stdout",
     "output_type": "stream",
     "text": [
      "epoch 187| loss: 0.14923 | train_mse: 0.0685  | train_mae: 0.19309 |  0:00:13s\n",
      "epoch 188| loss: 0.06826 | train_mse: 0.06333 | train_mae: 0.18668 |  0:00:13s\n",
      "epoch 189| loss: 0.10637 | train_mse: 0.05828 | train_mae: 0.1705  |  0:00:13s\n"
     ]
    },
    {
     "name": "stdout",
     "output_type": "stream",
     "text": [
      "epoch 190| loss: 0.09947 | train_mse: 0.04835 | train_mae: 0.16176 |  0:00:14s\n",
      "epoch 191| loss: 0.20166 | train_mse: 0.05936 | train_mae: 0.18636 |  0:00:14s\n",
      "epoch 192| loss: 0.11911 | train_mse: 0.10549 | train_mae: 0.20774 |  0:00:14s\n"
     ]
    },
    {
     "name": "stdout",
     "output_type": "stream",
     "text": [
      "epoch 193| loss: 0.21573 | train_mse: 0.15449 | train_mae: 0.25891 |  0:00:14s\n",
      "epoch 194| loss: 0.09183 | train_mse: 0.18271 | train_mae: 0.28066 |  0:00:14s\n",
      "epoch 195| loss: 0.08368 | train_mse: 0.15319 | train_mae: 0.24463 |  0:00:14s\n",
      "epoch 196| loss: 0.21683 | train_mse: 0.12199 | train_mae: 0.24271 |  0:00:14s\n"
     ]
    },
    {
     "name": "stdout",
     "output_type": "stream",
     "text": [
      "epoch 197| loss: 0.13169 | train_mse: 0.07004 | train_mae: 0.19111 |  0:00:14s\n",
      "epoch 198| loss: 0.11977 | train_mse: 0.04251 | train_mae: 0.1666  |  0:00:14s\n",
      "epoch 199| loss: 0.10578 | train_mse: 0.04149 | train_mae: 0.16997 |  0:00:14s\n",
      "epoch 200| loss: 0.09698 | train_mse: 0.04173 | train_mae: 0.169   |  0:00:14s\n"
     ]
    },
    {
     "name": "stdout",
     "output_type": "stream",
     "text": [
      "epoch 201| loss: 0.07498 | train_mse: 0.05042 | train_mae: 0.17196 |  0:00:14s\n",
      "epoch 202| loss: 0.15079 | train_mse: 0.08254 | train_mae: 0.20731 |  0:00:14s\n",
      "epoch 203| loss: 0.17976 | train_mse: 0.09687 | train_mae: 0.21643 |  0:00:14s\n",
      "epoch 204| loss: 0.1464  | train_mse: 0.1785  | train_mae: 0.2519  |  0:00:14s\n"
     ]
    },
    {
     "name": "stdout",
     "output_type": "stream",
     "text": [
      "epoch 205| loss: 0.14196 | train_mse: 0.18094 | train_mae: 0.24646 |  0:00:15s\n",
      "epoch 206| loss: 0.13161 | train_mse: 0.14131 | train_mae: 0.21533 |  0:00:15s\n",
      "epoch 207| loss: 0.09005 | train_mse: 0.08891 | train_mae: 0.19371 |  0:00:15s\n"
     ]
    },
    {
     "name": "stdout",
     "output_type": "stream",
     "text": [
      "epoch 208| loss: 0.13895 | train_mse: 0.05357 | train_mae: 0.17943 |  0:00:15s\n",
      "epoch 209| loss: 0.05313 | train_mse: 0.04543 | train_mae: 0.16776 |  0:00:15s\n",
      "epoch 210| loss: 0.08193 | train_mse: 0.05692 | train_mae: 0.17845 |  0:00:15s\n",
      "epoch 211| loss: 0.10318 | train_mse: 0.12057 | train_mae: 0.22434 |  0:00:15s\n"
     ]
    },
    {
     "name": "stdout",
     "output_type": "stream",
     "text": [
      "epoch 212| loss: 0.2413  | train_mse: 0.12808 | train_mae: 0.238   |  0:00:15s\n",
      "epoch 213| loss: 0.11522 | train_mse: 0.14995 | train_mae: 0.24504 |  0:00:15s\n",
      "epoch 214| loss: 0.06797 | train_mse: 0.21695 | train_mae: 0.2715  |  0:00:15s\n"
     ]
    },
    {
     "name": "stdout",
     "output_type": "stream",
     "text": [
      "epoch 215| loss: 0.12816 | train_mse: 0.22948 | train_mae: 0.27681 |  0:00:15s\n",
      "epoch 216| loss: 0.09885 | train_mse: 0.16944 | train_mae: 0.22868 |  0:00:15s\n",
      "epoch 217| loss: 0.14909 | train_mse: 0.06728 | train_mae: 0.19032 |  0:00:15s\n",
      "epoch 218| loss: 0.1507  | train_mse: 0.0417  | train_mae: 0.16068 |  0:00:15s\n",
      "epoch 219| loss: 0.10081 | train_mse: 0.05346 | train_mae: 0.17501 |  0:00:16s\n"
     ]
    },
    {
     "name": "stdout",
     "output_type": "stream",
     "text": [
      "epoch 220| loss: 0.11269 | train_mse: 0.05868 | train_mae: 0.18481 |  0:00:16s\n",
      "epoch 221| loss: 0.09673 | train_mse: 0.05493 | train_mae: 0.18385 |  0:00:16s\n",
      "epoch 222| loss: 0.13915 | train_mse: 0.05221 | train_mae: 0.18236 |  0:00:16s\n"
     ]
    },
    {
     "name": "stdout",
     "output_type": "stream",
     "text": [
      "epoch 223| loss: 0.09279 | train_mse: 0.04972 | train_mae: 0.18016 |  0:00:16s\n",
      "epoch 224| loss: 0.10752 | train_mse: 0.05184 | train_mae: 0.17755 |  0:00:16s\n",
      "epoch 225| loss: 0.07235 | train_mse: 0.04707 | train_mae: 0.18248 |  0:00:16s\n",
      "epoch 226| loss: 0.12785 | train_mse: 0.04637 | train_mae: 0.17732 |  0:00:16s\n"
     ]
    },
    {
     "name": "stdout",
     "output_type": "stream",
     "text": [
      "epoch 227| loss: 0.11413 | train_mse: 0.05198 | train_mae: 0.17825 |  0:00:16s\n",
      "epoch 228| loss: 0.08436 | train_mse: 0.06855 | train_mae: 0.20073 |  0:00:16s\n",
      "epoch 229| loss: 0.16307 | train_mse: 0.08025 | train_mae: 0.21217 |  0:00:16s\n",
      "epoch 230| loss: 0.07064 | train_mse: 0.07152 | train_mae: 0.20215 |  0:00:16s\n"
     ]
    },
    {
     "name": "stdout",
     "output_type": "stream",
     "text": [
      "epoch 231| loss: 0.13785 | train_mse: 0.06441 | train_mae: 0.18725 |  0:00:16s\n",
      "epoch 232| loss: 0.16332 | train_mse: 0.06888 | train_mae: 0.20075 |  0:00:16s\n",
      "epoch 233| loss: 0.07901 | train_mse: 0.19778 | train_mae: 0.27822 |  0:00:16s\n",
      "epoch 234| loss: 0.09964 | train_mse: 0.21525 | train_mae: 0.28971 |  0:00:17s\n"
     ]
    },
    {
     "name": "stdout",
     "output_type": "stream",
     "text": [
      "epoch 235| loss: 0.10708 | train_mse: 0.05739 | train_mae: 0.18768 |  0:00:17s\n",
      "epoch 236| loss: 0.2689  | train_mse: 0.04726 | train_mae: 0.16812 |  0:00:17s\n",
      "epoch 237| loss: 0.16409 | train_mse: 0.05259 | train_mae: 0.18004 |  0:00:17s\n"
     ]
    },
    {
     "name": "stdout",
     "output_type": "stream",
     "text": [
      "epoch 238| loss: 0.068   | train_mse: 0.05522 | train_mae: 0.18626 |  0:00:17s\n",
      "epoch 239| loss: 0.12506 | train_mse: 0.05869 | train_mae: 0.18635 |  0:00:17s\n",
      "epoch 240| loss: 0.10175 | train_mse: 0.05411 | train_mae: 0.18129 |  0:00:17s\n",
      "epoch 241| loss: 0.11339 | train_mse: 0.04738 | train_mae: 0.16963 |  0:00:17s\n"
     ]
    },
    {
     "name": "stdout",
     "output_type": "stream",
     "text": [
      "epoch 242| loss: 0.11179 | train_mse: 0.05018 | train_mae: 0.17392 |  0:00:17s\n",
      "epoch 243| loss: 0.11871 | train_mse: 0.05714 | train_mae: 0.18877 |  0:00:17s\n",
      "epoch 244| loss: 0.07025 | train_mse: 0.04656 | train_mae: 0.17287 |  0:00:17s\n",
      "epoch 245| loss: 0.12909 | train_mse: 0.05656 | train_mae: 0.18952 |  0:00:17s\n"
     ]
    },
    {
     "name": "stdout",
     "output_type": "stream",
     "text": [
      "epoch 246| loss: 0.08598 | train_mse: 0.06521 | train_mae: 0.20038 |  0:00:17s\n",
      "epoch 247| loss: 0.07874 | train_mse: 0.09476 | train_mae: 0.22548 |  0:00:17s\n",
      "epoch 248| loss: 0.06544 | train_mse: 0.11453 | train_mae: 0.24434 |  0:00:17s\n",
      "epoch 249| loss: 0.16153 | train_mse: 0.12781 | train_mae: 0.25474 |  0:00:18s\n"
     ]
    },
    {
     "name": "stdout",
     "output_type": "stream",
     "text": [
      "epoch 250| loss: 0.10339 | train_mse: 0.08834 | train_mae: 0.21053 |  0:00:18s\n",
      "epoch 251| loss: 0.24972 | train_mse: 0.11799 | train_mae: 0.21782 |  0:00:18s\n",
      "epoch 252| loss: 0.15014 | train_mse: 0.10195 | train_mae: 0.21166 |  0:00:18s\n"
     ]
    },
    {
     "name": "stdout",
     "output_type": "stream",
     "text": [
      "epoch 253| loss: 0.32529 | train_mse: 0.05483 | train_mae: 0.18385 |  0:00:18s\n",
      "epoch 254| loss: 0.10021 | train_mse: 0.08915 | train_mae: 0.22083 |  0:00:18s\n",
      "epoch 255| loss: 0.08    | train_mse: 0.12364 | train_mae: 0.24311 |  0:00:18s\n",
      "epoch 256| loss: 0.25059 | train_mse: 0.13879 | train_mae: 0.25289 |  0:00:18s\n"
     ]
    },
    {
     "name": "stdout",
     "output_type": "stream",
     "text": [
      "epoch 257| loss: 0.0872  | train_mse: 0.07718 | train_mae: 0.21007 |  0:00:18s\n",
      "epoch 258| loss: 0.1355  | train_mse: 0.05876 | train_mae: 0.19084 |  0:00:18s\n",
      "epoch 259| loss: 0.09102 | train_mse: 0.05054 | train_mae: 0.17888 |  0:00:18s\n",
      "epoch 260| loss: 0.15235 | train_mse: 0.04315 | train_mae: 0.16618 |  0:00:18s\n"
     ]
    },
    {
     "name": "stdout",
     "output_type": "stream",
     "text": [
      "epoch 261| loss: 0.05651 | train_mse: 0.04457 | train_mae: 0.16715 |  0:00:18s\n",
      "epoch 262| loss: 0.10163 | train_mse: 0.05991 | train_mae: 0.18804 |  0:00:18s\n",
      "epoch 263| loss: 0.20443 | train_mse: 0.05304 | train_mae: 0.18382 |  0:00:19s\n",
      "epoch 264| loss: 0.23348 | train_mse: 0.04071 | train_mae: 0.16467 |  0:00:19s\n"
     ]
    },
    {
     "name": "stdout",
     "output_type": "stream",
     "text": [
      "epoch 265| loss: 0.08263 | train_mse: 0.04669 | train_mae: 0.18    |  0:00:19s\n",
      "epoch 266| loss: 0.08891 | train_mse: 0.16852 | train_mae: 0.26206 |  0:00:19s\n",
      "epoch 267| loss: 0.07469 | train_mse: 0.21174 | train_mae: 0.26314 |  0:00:19s\n"
     ]
    },
    {
     "name": "stdout",
     "output_type": "stream",
     "text": [
      "epoch 268| loss: 0.10851 | train_mse: 0.20967 | train_mae: 0.2735  |  0:00:19s\n",
      "\n",
      "Early stopping occurred at epoch 268 with best_epoch = 218 and best_train_mae = 0.16068\n",
      "Best weights from best epoch are automatically used!\n"
     ]
    }
   ],
   "source": [
    "#Train the Model\n",
    "\n",
    "Y_train = np.reshape(Y_train, (-1, 1))\n",
    "Y_test = np.reshape(Y_test, (-1, 1))\n",
    "\n",
    "prior_model = TabNetRegressor(optimizer_fn=torch.optim.Adam, optimizer_params=dict(lr = 0.02),\n",
    "          #scheduler_params={\"step_size\":10, ], \"gamma\":0.9},\n",
    "          #scheduler_fn=torch.optim.lr_scheduler.StepLR\n",
    "          )  #TabNetRegressor()\n",
    "\n",
    "prior_model.fit(X_train,Y_train,eval_set=[(X_train, Y_train)],\n",
    "            eval_name=['train'], \n",
    "            eval_metric=[ 'mse', 'mae'], \n",
    "            max_epochs = n_epochs, \n",
    "            batch_size = batch_size,\n",
    "            patience=50\n",
    "            )"
   ]
  },
  {
   "cell_type": "code",
   "execution_count": 10,
   "id": "af65dcda",
   "metadata": {
    "execution": {
     "iopub.execute_input": "2022-06-22T12:29:09.857208Z",
     "iopub.status.busy": "2022-06-22T12:29:09.856111Z",
     "iopub.status.idle": "2022-06-22T12:29:09.886515Z",
     "shell.execute_reply": "2022-06-22T12:29:09.887251Z"
    },
    "id": "af65dcda",
    "papermill": {
     "duration": 0.077016,
     "end_time": "2022-06-22T12:29:09.887468",
     "exception": false,
     "start_time": "2022-06-22T12:29:09.810452",
     "status": "completed"
    },
    "tags": []
   },
   "outputs": [
    {
     "data": {
      "application/scrapbook.scrap.json+json": {
       "data": 0.4027803433591539,
       "encoder": "json",
       "name": "Prior Model MSE",
       "version": 1
      }
     },
     "metadata": {
      "scrapbook": {
       "data": true,
       "display": false,
       "name": "Prior Model MSE"
      }
     },
     "output_type": "display_data"
    },
    {
     "data": {
      "application/scrapbook.scrap.json+json": {
       "data": 1.6231355170858255,
       "encoder": "json",
       "name": "ABC Pre-generator MSE",
       "version": 1
      }
     },
     "metadata": {
      "scrapbook": {
       "data": true,
       "display": false,
       "name": "ABC Pre-generator MSE"
      }
     },
     "output_type": "display_data"
    },
    {
     "data": {
      "application/scrapbook.scrap.json+json": {
       "data": 0.4164236633436695,
       "encoder": "json",
       "name": "Prior Model MSE",
       "version": 1
      }
     },
     "metadata": {
      "scrapbook": {
       "data": true,
       "display": false,
       "name": "Prior Model MSE"
      }
     },
     "output_type": "display_data"
    },
    {
     "data": {
      "application/scrapbook.scrap.json+json": {
       "data": 1.1497276981635416,
       "encoder": "json",
       "name": "ABC Pre-generator MSE",
       "version": 1
      }
     },
     "metadata": {
      "scrapbook": {
       "data": true,
       "display": false,
       "name": "ABC Pre-generator MSE"
      }
     },
     "output_type": "display_data"
    }
   ],
   "source": [
    "y_pred = prior_model.predict(X_test)\n",
    "y_abc = y_pred + np.random.normal(0,variance, y_pred.shape) + bias \n",
    "mse = mean_squared_error(y_pred,Y_test)\n",
    "sb.glue(\"Prior Model MSE\",mse)\n",
    "mse = mean_squared_error(y_abc,Y_test)\n",
    "sb.glue(\"ABC Pre-generator MSE\",mse)\n",
    "mae = mean_absolute_error(y_pred,Y_test)\n",
    "sb.glue(\"Prior Model MSE\",mae)\n",
    "mae = mean_absolute_error(y_abc,Y_test)\n",
    "sb.glue(\"ABC Pre-generator MSE\",mae)"
   ]
  },
  {
   "cell_type": "markdown",
   "id": "25609da2",
   "metadata": {
    "papermill": {
     "duration": 0.04803,
     "end_time": "2022-06-22T12:29:09.972724",
     "exception": false,
     "start_time": "2022-06-22T12:29:09.924694",
     "status": "completed"
    },
    "tags": []
   },
   "source": [
    "# ABC GAN Model"
   ]
  },
  {
   "cell_type": "code",
   "execution_count": 11,
   "id": "dfc3464d",
   "metadata": {
    "execution": {
     "iopub.execute_input": "2022-06-22T12:29:10.052792Z",
     "iopub.status.busy": "2022-06-22T12:29:10.051833Z",
     "iopub.status.idle": "2022-06-22T12:29:10.054792Z",
     "shell.execute_reply": "2022-06-22T12:29:10.055499Z"
    },
    "papermill": {
     "duration": 0.045232,
     "end_time": "2022-06-22T12:29:10.055778",
     "exception": false,
     "start_time": "2022-06-22T12:29:10.010546",
     "status": "completed"
    },
    "tags": []
   },
   "outputs": [],
   "source": [
    "gen = network.Generator(n_features+1).to(device)\n",
    "disc = network.Discriminator(n_features+1).to(device)\n",
    "\n",
    "criterion = torch.nn.BCELoss()\n",
    "gen_opt = torch.optim.Adam(gen.parameters(), lr=0.001, betas=(0.5, 0.999))\n",
    "disc_opt = torch.optim.Adam(disc.parameters(), lr=0.001, betas=(0.5, 0.999))"
   ]
  },
  {
   "cell_type": "code",
   "execution_count": 12,
   "id": "b75fdd85",
   "metadata": {
    "execution": {
     "iopub.execute_input": "2022-06-22T12:29:10.139183Z",
     "iopub.status.busy": "2022-06-22T12:29:10.138125Z",
     "iopub.status.idle": "2022-06-22T12:29:53.447916Z",
     "shell.execute_reply": "2022-06-22T12:29:53.448518Z"
    },
    "papermill": {
     "duration": 43.358274,
     "end_time": "2022-06-22T12:29:53.448733",
     "exception": false,
     "start_time": "2022-06-22T12:29:10.090459",
     "status": "completed"
    },
    "tags": []
   },
   "outputs": [
    {
     "data": {
      "image/png": "[encoded data removed]",
      "text/plain": [
       "<Figure size 432x288 with 1 Axes>"
      ]
     },
     "metadata": {
      "needs_background": "light"
     },
     "output_type": "display_data"
    },
    {
     "data": {
      "image/png": "[encoded data removed]",
      "text/plain": [
       "<Figure size 432x288 with 1 Axes>"
      ]
     },
     "metadata": {
      "needs_background": "light"
     },
     "output_type": "display_data"
    }
   ],
   "source": [
    "#Training the ABC_GAN \n",
    "ABC_train_test2.training_GAN(disc,gen,disc_opt,gen_opt,train_data,batch_size,n_epochs,criterion,prior_model,variance,bias,device)"
   ]
  },
  {
   "cell_type": "code",
   "execution_count": 13,
   "id": "1fa7c368",
   "metadata": {
    "execution": {
     "iopub.execute_input": "2022-06-22T12:29:53.573557Z",
     "iopub.status.busy": "2022-06-22T12:29:53.572766Z",
     "iopub.status.idle": "2022-06-22T12:29:54.219054Z",
     "shell.execute_reply": "2022-06-22T12:29:54.219562Z"
    },
    "papermill": {
     "duration": 0.728457,
     "end_time": "2022-06-22T12:29:54.219754",
     "exception": false,
     "start_time": "2022-06-22T12:29:53.491297",
     "status": "completed"
    },
    "tags": []
   },
   "outputs": [
    {
     "data": {
      "application/scrapbook.scrap.json+json": {
       "data": 0.611207496549982,
       "encoder": "json",
       "name": "ABC-GAN Model 1 MSE",
       "version": 1
      }
     },
     "metadata": {
      "scrapbook": {
       "data": true,
       "display": false,
       "name": "ABC-GAN Model 1 MSE"
      }
     },
     "output_type": "display_data"
    },
    {
     "data": {
      "application/scrapbook.scrap.json+json": {
       "data": 0.5367430763114244,
       "encoder": "json",
       "name": "ABC-GAN Model 1 MAE",
       "version": 1
      }
     },
     "metadata": {
      "scrapbook": {
       "data": true,
       "display": false,
       "name": "ABC-GAN Model 1 MAE"
      }
     },
     "output_type": "display_data"
    },
    {
     "data": {
      "application/scrapbook.scrap.json+json": {
       "data": 10.734861526228487,
       "encoder": "json",
       "name": "ABC-GAN Model 1 Manhattan Distance",
       "version": 1
      }
     },
     "metadata": {
      "scrapbook": {
       "data": true,
       "display": false,
       "name": "ABC-GAN Model 1 Manhattan Distance"
      }
     },
     "output_type": "display_data"
    },
    {
     "data": {
      "application/scrapbook.scrap.json+json": {
       "data": 3.496297573079127,
       "encoder": "json",
       "name": "ABC-GAN Model 1 Euclidean distance",
       "version": 1
      }
     },
     "metadata": {
      "scrapbook": {
       "data": true,
       "display": false,
       "name": "ABC-GAN Model 1 Euclidean distance"
      }
     },
     "output_type": "display_data"
    },
    {
     "data": {
      "application/scrapbook.scrap.json+json": {
       "data": [
        [
         0.6143067809317287,
         0.6100919336266768,
         0.6073247214011179,
         0.6122238905759557,
         0.6104417279230054,
         0.6088276695782482,
         0.6099345082691093,
         0.6153616247878537,
         0.6105716822569349,
         0.6098590485289221,
         0.6057971397591426,
         0.6125062167460374,
         0.6098994605490415,
         0.611884576471952,
         0.6120932888920072,
         0.6121837061627506,
         0.6105529722939566,
         0.6105724472899304,
         0.6053069200639056,
         0.6121084874814304,
         0.6125871907494458,
         0.6126033163903463,
         0.6092321318430641,
         0.6097870406534862,
         0.6098147216797841,
         0.6100516171650469,
         0.6108059479191762,
         0.6113457595201797,
         0.6140974415271738,
         0.6104483358424677,
         0.6145720134850824,
         0.6130588444698921,
         0.6077892288810581,
         0.6097099398293931,
         0.609946491204787,
         0.6076581468687232,
         0.6153700886941449,
         0.6154906471764663,
         0.6111805944464754,
         0.6094511449757748,
         0.6061187430900828,
         0.609869021360496,
         0.6089680825449568,
         0.609015376414506,
         0.6175206821833246,
         0.6137606789827987,
         0.6163578486869307,
         0.6153397046943463,
         0.6126964198032312,
         0.6131650455394975,
         0.6111900117712172,
         0.6100364310441243,
         0.6116413701676245,
         0.6133494303894029,
         0.6117318571216342,
         0.6149077309315819,
         0.6123270105044082,
         0.6093237701463556,
         0.6133664638921424,
         0.6096558055870597,
         0.6106313925964223,
         0.610111375051332,
         0.6150526444741201,
         0.6130508230487737,
         0.6091284648993209,
         0.6076957585824914,
         0.612488617241201,
         0.6108033450795418,
         0.6095797247478439,
         0.6098158945447163,
         0.6075951193019489,
         0.6112228718491383,
         0.6082846388522254,
         0.610988957889014,
         0.6120152148748558,
         0.6102558434238621,
         0.6121612690401868,
         0.6097574594858226,
         0.6143239265892511,
         0.6125684598584265,
         0.6155865802906556,
         0.6105757866594459,
         0.6128390333445093,
         0.6081378228879796,
         0.6149066245774126,
         0.6132932077972765,
         0.6120740984086466,
         0.6077263770075246,
         0.6076421657601223,
         0.6097693897504011,
         0.6152787663446233,
         0.6053375363606539,
         0.608584656667954,
         0.6115548360066755,
         0.6160484256802549,
         0.608786729977131,
         0.6128661200467864,
         0.6103097874412508,
         0.6108991850139323,
         0.6138097917770688
        ],
        [
         0.5389207804109901,
         0.535519984504208,
         0.5375647985842079,
         0.536721604457125,
         0.5373445638921112,
         0.5362566845025867,
         0.5362273292150348,
         0.5405897797551006,
         0.536608808254823,
         0.5358617992606014,
         0.5329878264572472,
         0.5365575367119163,
         0.5379902751650661,
         0.53755077063106,
         0.536324126413092,
         0.5362488390412181,
         0.5368804325815291,
         0.536655213823542,
         0.5338942555245012,
         0.5368686409201473,
         0.5376167917158454,
         0.5373548360075802,
         0.5370295697357506,
         0.5345172265078872,
         0.5368566246237606,
         0.5372209785040468,
         0.535524117341265,
         0.535997145390138,
         0.5386126981582493,
         0.535540817445144,
         0.5392045394983143,
         0.5362330479081721,
         0.5357259107287973,
         0.5360983075108379,
         0.5364319214131683,
         0.5337013480719179,
         0.538911655312404,
         0.5404328012373298,
         0.5366329861339182,
         0.5348538370337337,
         0.5356311795767397,
         0.5356409003492445,
         0.53536446406506,
         0.5365125553216785,
         0.5395945326890796,
         0.5390685474034399,
         0.5389474031981081,
         0.5387828049715608,
         0.5380517934914678,
         0.5371709117200225,
         0.5363523577805609,
         0.5373855744954199,
         0.5373222870286554,
         0.5377823473419994,
         0.5371858981903642,
         0.5390841425862163,
         0.537805818906054,
         0.5333380201365798,
         0.5374442884232848,
         0.53729555956088,
         0.5357433495577425,
         0.535138334101066,
         0.5399476000573487,
         0.5378353653009981,
         0.5347030149307102,
         0.5335962334182114,
         0.5392303620930761,
         0.5374321976210922,
         0.5348610473331064,
         0.5344492269214243,
         0.5337812715675682,
         0.5366135531570763,
         0.535351858055219,
         0.5362382260616869,
         0.5351979815866799,
         0.5367479385342449,
         0.5383665801491588,
         0.5380674892570824,
         0.5386131839361041,
         0.5391221837606281,
         0.538433771347627,
         0.5339591713156551,
         0.5375941657926887,
         0.535285867517814,
         0.537465508421883,
         0.5384367988910526,
         0.5380165116395801,
         0.5346608908381313,
         0.5338124932255596,
         0.5376963214483113,
         0.5390143645461649,
         0.5342442249413579,
         0.5360437841620296,
         0.5381661222781986,
         0.5369673972483724,
         0.5358469495084137,
         0.5356542208697647,
         0.5364501809235662,
         0.5343132787849754,
         0.5373760124202818
        ],
        [
         10.778415608219802,
         10.71039969008416,
         10.751295971684158,
         10.734432089142501,
         10.746891277842224,
         10.725133690051734,
         10.724546584300697,
         10.811795595102012,
         10.732176165096462,
         10.717235985212028,
         10.659756529144943,
         10.731150734238327,
         10.759805503301322,
         10.7510154126212,
         10.72648252826184,
         10.724976780824363,
         10.73760865163058,
         10.73310427647084,
         10.677885110490024,
         10.737372818402946,
         10.75233583431691,
         10.747096720151603,
         10.740591394715011,
         10.690344530157745,
         10.737132492475212,
         10.744419570080936,
         10.710482346825302,
         10.71994290780276,
         10.772253963164985,
         10.710816348902881,
         10.784090789966285,
         10.72466095816344,
         10.714518214575946,
         10.721966150216758,
         10.728638428263366,
         10.674026961438358,
         10.77823310624808,
         10.808656024746597,
         10.732659722678363,
         10.697076740674675,
         10.712623591534793,
         10.71281800698489,
         10.7072892813012,
         10.73025110643357,
         10.791890653781593,
         10.781370948068798,
         10.778948063962162,
         10.775656099431217,
         10.761035869829357,
         10.743418234400451,
         10.727047155611217,
         10.747711489908397,
         10.746445740573108,
         10.755646946839988,
         10.743717963807285,
         10.781682851724327,
         10.756116378121078,
         10.666760402731597,
         10.748885768465698,
         10.745911191217601,
         10.71486699115485,
         10.70276668202132,
         10.798952001146972,
         10.756707306019962,
         10.694060298614204,
         10.671924668364227,
         10.784607241861522,
         10.748643952421844,
         10.697220946662128,
         10.688984538428485,
         10.675625431351364,
         10.732271063141525,
         10.707037161104381,
         10.724764521233737,
         10.703959631733596,
         10.734958770684898,
         10.767331602983177,
         10.761349785141647,
         10.772263678722084,
         10.782443675212562,
         10.76867542695254,
         10.679183426313102,
         10.751883315853775,
         10.70571735035628,
         10.74931016843766,
         10.768735977821052,
         10.760330232791603,
         10.693217816762626,
         10.676249864511192,
         10.753926428966224,
         10.780287290923297,
         10.68488449882716,
         10.720875683240592,
         10.763322445563972,
         10.739347944967449,
         10.716938990168273,
         10.713084417395294,
         10.729003618471324,
         10.686265575699508,
         10.747520248405635
        ],
        [
         3.505158429890805,
         3.493113034605885,
         3.4851821226475894,
         3.4992110270058183,
         3.4941142738124795,
         3.489491852915688,
         3.492662332001504,
         3.508166543332439,
         3.4944861775572527,
         3.492446273112651,
         3.480796287515667,
         3.500017762086465,
         3.4925619838423527,
         3.498241205154247,
         3.498837775296269,
         3.4990961866251995,
         3.494432635762082,
         3.494488366814033,
         3.4793876474572523,
         3.498881213992354,
         3.5002491075620483,
         3.5002951772396176,
         3.4906507469039756,
         3.4922400852561273,
         3.492319348741704,
         3.4929976157021545,
         3.495156499841391,
         3.496700614923101,
         3.5045611466406856,
         3.494133185333575,
         3.5059150402857235,
         3.501596334444883,
         3.486514674803644,
         3.4920193007181193,
         3.492696640719852,
         3.4861386859065813,
         3.508190669545043,
         3.508534301318618,
         3.4962282375339155,
         3.491278118327942,
         3.481720101013529,
         3.4924748284289637,
         3.489894217723388,
         3.490029731720078,
         3.5143155298957565,
         3.503600088431323,
         3.511005123000907,
         3.5081040597289763,
         3.5005611544529005,
         3.501899614607756,
         3.4962551730994047,
         3.4929541395332526,
         3.4975459115431913,
         3.5024261031159614,
         3.497804617532644,
         3.5068724839423,
         3.4995057093949944,
         3.4909132620171346,
         3.502474736217643,
         3.491864274530325,
         3.4946570435349513,
         3.493168690605514,
         3.5072856868927005,
         3.501573426472087,
         3.4903537496916295,
         3.4862465735587076,
         3.4999674776809027,
         3.495149052843217,
         3.4916463874448795,
         3.4923227071526948,
         3.485957886440824,
         3.496349158333985,
         3.4879353172105283,
         3.4956800708560674,
         3.498614625462072,
         3.4935822401193364,
         3.499032063414643,
         3.4921553788049655,
         3.505207345048938,
         3.500195594130209,
         3.5088077185581303,
         3.494497922905223,
         3.500968532690659,
         3.4875143666742923,
         3.5068693291236634,
         3.5022655747309526,
         3.498782926700788,
         3.486334398784846,
         3.486092843743902,
         3.4921895416784037,
         3.5079303480674278,
         3.479475639692435,
         3.488795369946349,
         3.4972984888530045,
         3.510123717706414,
         3.489374528413741,
         3.5010459010038315,
         3.4937366456023864,
         3.4954232505204064,
         3.503740263709822
        ]
       ],
       "encoder": "json",
       "name": "ABC_GAN_1 Metrics",
       "version": 1
      }
     },
     "metadata": {
      "scrapbook": {
       "data": true,
       "display": false,
       "name": "ABC_GAN_1 Metrics"
      }
     },
     "output_type": "display_data"
    },
    {
     "name": "stdout",
     "output_type": "stream",
     "text": [
      "MSE\n",
      "0.611207496549982\n"
     ]
    }
   ],
   "source": [
    "ABC_GAN1_metrics=ABC_train_test2.test_generator(gen,test_data,prior_model,variance,bias,\"1\",device)\n",
    "sb.glue(\"ABC_GAN_1 Metrics\",ABC_GAN1_metrics)\n",
    "\n",
    "print(\"MSE\")\n",
    "print(mean(ABC_GAN1_metrics[0]))"
   ]
  },
  {
   "cell_type": "code",
   "execution_count": 14,
   "id": "eb22ce5c",
   "metadata": {
    "execution": {
     "iopub.execute_input": "2022-06-22T12:29:54.308287Z",
     "iopub.status.busy": "2022-06-22T12:29:54.307604Z",
     "iopub.status.idle": "2022-06-22T12:29:55.093443Z",
     "shell.execute_reply": "2022-06-22T12:29:55.094106Z"
    },
    "papermill": {
     "duration": 0.836068,
     "end_time": "2022-06-22T12:29:55.094410",
     "exception": false,
     "start_time": "2022-06-22T12:29:54.258342",
     "status": "completed"
    },
    "tags": []
   },
   "outputs": [
    {
     "data": {
      "image/png": "[encoded data removed]",
      "text/plain": [
       "<Figure size 432x288 with 1 Axes>"
      ]
     },
     "metadata": {
      "needs_background": "light"
     },
     "output_type": "display_data"
    },
    {
     "data": {
      "image/png": "[encoded data removed]",
      "text/plain": [
       "<Figure size 432x288 with 1 Axes>"
      ]
     },
     "metadata": {
      "needs_background": "light"
     },
     "output_type": "display_data"
    },
    {
     "data": {
      "image/png": "[encoded data removed]",
      "text/plain": [
       "<Figure size 432x288 with 1 Axes>"
      ]
     },
     "metadata": {
      "needs_background": "light"
     },
     "output_type": "display_data"
    },
    {
     "data": {
      "image/png": "[encoded data removed]",
      "text/plain": [
       "<Figure size 432x288 with 1 Axes>"
      ]
     },
     "metadata": {
      "needs_background": "light"
     },
     "output_type": "display_data"
    }
   ],
   "source": [
    "sanityChecks.discProbVsError(train_data,disc,device)\n",
    "sanityChecks.discProbVsError(test_data,disc,device)"
   ]
  },
  {
   "cell_type": "markdown",
   "id": "130f3a4d",
   "metadata": {
    "id": "130f3a4d",
    "papermill": {
     "duration": 0.041163,
     "end_time": "2022-06-22T12:29:55.179038",
     "exception": false,
     "start_time": "2022-06-22T12:29:55.137875",
     "status": "completed"
    },
    "tags": []
   },
   "source": [
    "# ABC - GAN Model with skip connection"
   ]
  },
  {
   "cell_type": "code",
   "execution_count": 15,
   "id": "4e43dad1",
   "metadata": {
    "execution": {
     "iopub.execute_input": "2022-06-22T12:29:55.276942Z",
     "iopub.status.busy": "2022-06-22T12:29:55.275951Z",
     "iopub.status.idle": "2022-06-22T12:29:55.279304Z",
     "shell.execute_reply": "2022-06-22T12:29:55.279757Z"
    },
    "id": "4e43dad1",
    "papermill": {
     "duration": 0.055941,
     "end_time": "2022-06-22T12:29:55.280006",
     "exception": false,
     "start_time": "2022-06-22T12:29:55.224065",
     "status": "completed"
    },
    "tags": []
   },
   "outputs": [],
   "source": [
    "#Generator\n",
    "gen3 = network.GeneratorWithSkipConnection(n_features+1).to(device)\n",
    "constraints=network.weightConstraint()\n",
    "#Discriminator \n",
    "disc3 = network.Discriminator(n_features+1).to(device)\n",
    "\n",
    "criterion = torch.nn.BCELoss()\n",
    "gen_opt = torch.optim.Adam(gen3.parameters(), lr=0.001, betas=(0.5, 0.999))\n",
    "disc_opt = torch.optim.Adam(disc3.parameters(), lr=0.001, betas=(0.5, 0.999))\n"
   ]
  },
  {
   "cell_type": "code",
   "execution_count": 16,
   "id": "26acbc37",
   "metadata": {
    "execution": {
     "iopub.execute_input": "2022-06-22T12:29:55.377502Z",
     "iopub.status.busy": "2022-06-22T12:29:55.375908Z",
     "iopub.status.idle": "2022-06-22T12:31:03.955314Z",
     "shell.execute_reply": "2022-06-22T12:31:03.955973Z"
    },
    "id": "26acbc37",
    "papermill": {
     "duration": 68.635384,
     "end_time": "2022-06-22T12:31:03.956270",
     "exception": false,
     "start_time": "2022-06-22T12:29:55.320886",
     "status": "completed"
    },
    "tags": []
   },
   "outputs": [
    {
     "data": {
      "image/png": "[encoded data removed]",
      "text/plain": [
       "<Figure size 432x288 with 1 Axes>"
      ]
     },
     "metadata": {
      "needs_background": "light"
     },
     "output_type": "display_data"
    },
    {
     "data": {
      "image/png": "[encoded data removed]",
      "text/plain": [
       "<Figure size 432x288 with 1 Axes>"
      ]
     },
     "metadata": {
      "needs_background": "light"
     },
     "output_type": "display_data"
    }
   ],
   "source": [
    "ABC_train_test2.training_GAN_skip_connection(disc3,gen3,disc_opt,gen_opt,train_data,batch_size,n_epochs,criterion,prior_model,variance,bias,device)"
   ]
  },
  {
   "cell_type": "code",
   "execution_count": 17,
   "id": "c5e0717b",
   "metadata": {
    "execution": {
     "iopub.execute_input": "2022-06-22T12:31:04.066563Z",
     "iopub.status.busy": "2022-06-22T12:31:04.065785Z",
     "iopub.status.idle": "2022-06-22T12:31:04.876554Z",
     "shell.execute_reply": "2022-06-22T12:31:04.877135Z"
    },
    "id": "c5e0717b",
    "papermill": {
     "duration": 0.87436,
     "end_time": "2022-06-22T12:31:04.877363",
     "exception": false,
     "start_time": "2022-06-22T12:31:04.003003",
     "status": "completed"
    },
    "tags": []
   },
   "outputs": [
    {
     "data": {
      "application/scrapbook.scrap.json+json": {
       "data": 0.47034149012787,
       "encoder": "json",
       "name": "ABC-GAN Model 3 MSE",
       "version": 1
      }
     },
     "metadata": {
      "scrapbook": {
       "data": true,
       "display": false,
       "name": "ABC-GAN Model 3 MSE"
      }
     },
     "output_type": "display_data"
    },
    {
     "data": {
      "application/scrapbook.scrap.json+json": {
       "data": 0.45692181134037674,
       "encoder": "json",
       "name": "ABC-GAN Model 3 MAE",
       "version": 1
      }
     },
     "metadata": {
      "scrapbook": {
       "data": true,
       "display": false,
       "name": "ABC-GAN Model 3 MAE"
      }
     },
     "output_type": "display_data"
    },
    {
     "data": {
      "application/scrapbook.scrap.json+json": {
       "data": 9.138436226807535,
       "encoder": "json",
       "name": "ABC-GAN Model 3 Manhattan Distance",
       "version": 1
      }
     },
     "metadata": {
      "scrapbook": {
       "data": true,
       "display": false,
       "name": "ABC-GAN Model 3 Manhattan Distance"
      }
     },
     "output_type": "display_data"
    },
    {
     "data": {
      "application/scrapbook.scrap.json+json": {
       "data": 3.067035703333387,
       "encoder": "json",
       "name": "ABC-GAN Model 3 Euclidean distance",
       "version": 1
      }
     },
     "metadata": {
      "scrapbook": {
       "data": true,
       "display": false,
       "name": "ABC-GAN Model 3 Euclidean distance"
      }
     },
     "output_type": "display_data"
    },
    {
     "data": {
      "application/scrapbook.scrap.json+json": {
       "data": [
        [
         0.4721442622184536,
         0.4688070045030909,
         0.4734317780010654,
         0.47519829120135315,
         0.46598818042492934,
         0.46785755595146516,
         0.4742717518155768,
         0.47195368133383814,
         0.4672298722070002,
         0.4687373504538289,
         0.4685480365437108,
         0.4721561109783451,
         0.46664500916123436,
         0.4774115634793998,
         0.4707482341710206,
         0.4698138232025104,
         0.4721783130839885,
         0.46437917115811145,
         0.4698127681159242,
         0.4742605680883889,
         0.4713707986102129,
         0.47111421561582933,
         0.47257745954173613,
         0.4679581346292814,
         0.47122800294797573,
         0.4739872738371277,
         0.4675953540816004,
         0.47136461329522444,
         0.47254947979929884,
         0.4693669407540028,
         0.4643637902661755,
         0.46950228120577175,
         0.4713517471437877,
         0.4694023126673749,
         0.4709399532829804,
         0.47382409759016664,
         0.46823193784755546,
         0.47428735491930996,
         0.47277261055641195,
         0.4760799881023896,
         0.4671809086834392,
         0.46783249515861736,
         0.46926002249399523,
         0.4640856567277497,
         0.4655489362093169,
         0.4682115426132879,
         0.4748333394902359,
         0.46917324074353195,
         0.4681397399335367,
         0.46574719598858927,
         0.46532576008036325,
         0.46860291080533634,
         0.4658252055445013,
         0.47447768003962854,
         0.4760335206171879,
         0.47345252313595826,
         0.47381935243386053,
         0.472123187330835,
         0.4674356600843126,
         0.47184755291201236,
         0.47139542072678253,
         0.47383623631728505,
         0.4651664070025109,
         0.4781139117941825,
         0.4698923318035698,
         0.46579760078952803,
         0.4713137325387775,
         0.46691973907807743,
         0.47020531714725866,
         0.47336216421392957,
         0.4671223521104825,
         0.4715279484700683,
         0.4714812230335109,
         0.4682641946773146,
         0.4670666772365406,
         0.47565926497102484,
         0.4659663258548066,
         0.47253658516104496,
         0.4707235221934095,
         0.47109953032489515,
         0.4650092098487869,
         0.47431401548517177,
         0.4650303064913922,
         0.47338923970793373,
         0.4689913074196058,
         0.4728382639481552,
         0.4716477768329061,
         0.46732353133818466,
         0.47006831800234694,
         0.47357197614900476,
         0.4793836210440263,
         0.47289875279716237,
         0.46451141716308353,
         0.469811231096487,
         0.47572354345383816,
         0.4693622510141811,
         0.4693119912008523,
         0.4671149868288822,
         0.467281555613449,
         0.46871712809280686
        ],
        [
         0.46025918661616744,
         0.4567413335200399,
         0.4592498147394508,
         0.457644318183884,
         0.45636295317672193,
         0.4513596856500953,
         0.4593794913496822,
         0.4586370868142694,
         0.45530805638991295,
         0.4590497692581266,
         0.45832205726765096,
         0.4543350031133741,
         0.4562258602585644,
         0.45973268686793745,
         0.45353823541663585,
         0.45717918216250836,
         0.4560104315634817,
         0.4543291279580444,
         0.45861495858989654,
         0.45836971974931656,
         0.4561188173945993,
         0.45663135438226166,
         0.456157119711861,
         0.4555656676646322,
         0.4582682186271995,
         0.45638371421955526,
         0.45740772276185454,
         0.4585452517028898,
         0.45909206992946566,
         0.45661351433955133,
         0.4528361783828586,
         0.4562933051493019,
         0.45839904374442997,
         0.4579888956155628,
         0.45730798742733897,
         0.45685824542306364,
         0.45508580445311964,
         0.4575086293276399,
         0.4576074463780969,
         0.46022728211246433,
         0.45549465878866613,
         0.4541625452693552,
         0.45586819662712513,
         0.45657174005173146,
         0.4567831495311111,
         0.4580115483608097,
         0.4573207390960306,
         0.45462517007254066,
         0.4547520273830742,
         0.4554886621888727,
         0.45313038579188286,
         0.45693415417335925,
         0.4558808998670429,
         0.46099063022993503,
         0.4606471405830234,
         0.4594355085399002,
         0.45735600679181515,
         0.4565843296702951,
         0.4557897058781236,
         0.457563886186108,
         0.4560723995324224,
         0.4592728694435209,
         0.4549393595661968,
         0.46299845590256156,
         0.4543885515537113,
         0.454233688255772,
         0.45753880641423167,
         0.4552265690173954,
         0.45755468620918693,
         0.4595808023121208,
         0.45521729975007474,
         0.456636438658461,
         0.45979098468087615,
         0.4560068195220083,
         0.45672851442359386,
         0.45883837244473397,
         0.45656356676481663,
         0.45748926638625564,
         0.4546408602502197,
         0.460533190285787,
         0.45378857939504086,
         0.46103712036274375,
         0.45540445423685016,
         0.4561914236750454,
         0.45674399747513234,
         0.458801014861092,
         0.46011496684513986,
         0.45404132693074645,
         0.4582621046807617,
         0.4570861881133169,
         0.4612339572515339,
         0.4569237691815943,
         0.45410589179955424,
         0.45366632207296786,
         0.45802064663730563,
         0.45898751183412967,
         0.4551057395990938,
         0.4541414713021368,
         0.45467429324053227,
         0.4546625406946987
        ],
        [
         9.205183732323349,
         9.134826670400798,
         9.184996294789016,
         9.15288636367768,
         9.127259063534439,
         9.027193713001907,
         9.187589826993644,
         9.172741736285388,
         9.10616112779826,
         9.180995385162532,
         9.16644114535302,
         9.086700062267482,
         9.124517205171287,
         9.194653737358749,
         9.070764708332717,
         9.143583643250167,
         9.120208631269634,
         9.086582559160888,
         9.172299171797931,
         9.167394394986331,
         9.122376347891986,
         9.132627087645233,
         9.12314239423722,
         9.111313353292644,
         9.16536437254399,
         9.127674284391105,
         9.14815445523709,
         9.170905034057796,
         9.181841398589313,
         9.132270286791027,
         9.056723567657173,
         9.125866102986038,
         9.167980874888599,
         9.159777912311256,
         9.14615974854678,
         9.137164908461273,
         9.101716089062393,
         9.150172586552799,
         9.152148927561939,
         9.204545642249286,
         9.109893175773323,
         9.083250905387104,
         9.117363932542503,
         9.13143480103463,
         9.135662990622222,
         9.160230967216194,
         9.146414781920612,
         9.092503401450813,
         9.095040547661483,
         9.109773243777454,
         9.062607715837657,
         9.138683083467185,
         9.117617997340858,
         9.219812604598701,
         9.212942811660469,
         9.188710170798004,
         9.147120135836303,
         9.131686593405902,
         9.115794117562473,
         9.15127772372216,
         9.121447990648448,
         9.185457388870418,
         9.098787191323936,
         9.259969118051231,
         9.087771031074226,
         9.08467376511544,
         9.150776128284633,
         9.104531380347908,
         9.151093724183738,
         9.191616046242416,
         9.104345995001495,
         9.13272877316922,
         9.195819693617523,
         9.120136390440166,
         9.134570288471878,
         9.17676744889468,
         9.131271335296333,
         9.149785327725112,
         9.092817205004394,
         9.21066380571574,
         9.075771587900817,
         9.220742407254875,
         9.108089084737003,
         9.123828473500907,
         9.134879949502647,
         9.17602029722184,
         9.202299336902797,
         9.080826538614929,
         9.165242093615234,
         9.141723762266338,
         9.224679145030677,
         9.138475383631885,
         9.082117835991085,
         9.073326441459358,
         9.160412932746112,
         9.179750236682594,
         9.102114791981876,
         9.082829426042736,
         9.093485864810646,
         9.093250813893974
        ],
        [
         3.0729277968037376,
         3.062048348746606,
         3.077114810991184,
         3.0828502759665546,
         3.0528287879438287,
         3.058946079784556,
         3.079843346066734,
         3.0723075410311322,
         3.0568934302883384,
         3.061820864955456,
         3.061202497528417,
         3.0729663550984254,
         3.054979571654234,
         3.0900212409606502,
         3.06838144359863,
         3.065334641446217,
         3.073038604000895,
         3.0475536784710173,
         3.0653311994494956,
         3.079807033203181,
         3.070409740116823,
         3.06957396267244,
         3.074337195369877,
         3.0592748638501948,
         3.069944634510452,
         3.078919530735182,
         3.058088795576742,
         3.07038959513357,
         3.0742461833734103,
         3.063876436000652,
         3.0475032084189033,
         3.0643181336335554,
         3.07034769087733,
         3.063991882062924,
         3.0690062016326403,
         3.078389506187177,
         3.0601697268209014,
         3.079894007654517,
         3.07497190412014,
         3.0857089561473217,
         3.0567332519650425,
         3.0588641524546896,
         3.063527452117886,
         3.046590411354141,
         3.0513896382117998,
         3.0601030786994348,
         3.0816662359516998,
         3.063244165075752,
         3.0598684283267366,
         3.0520393050830434,
         3.0506581587597235,
         3.061381749489392,
         3.0522948925177635,
         3.0805119056404524,
         3.085558363140091,
         3.077182227740042,
         3.078374091736937,
         3.0728592136016744,
         3.0575665490200294,
         3.071962086068161,
         3.0704899307009055,
         3.0784289380048553,
         3.0501357576426362,
         3.092293361872972,
         3.065590748301442,
         3.0522044518332256,
         3.0702238763281664,
         3.0558787249433754,
         3.0666115409267563,
         3.0768885719633383,
         3.0565416801034546,
         3.070921517948866,
         3.0707693597322185,
         3.0602751336352574,
         3.056359524782844,
         3.084345197837054,
         3.052757199171944,
         3.0742042390220106,
         3.068300905039822,
         3.069526120836554,
         3.0496203365297356,
         3.079980569695763,
         3.049689513676408,
         3.0769765670473794,
         3.0626501838101126,
         3.075185405624042,
         3.0713116964349485,
         3.0571998015772035,
         3.066164764008441,
         3.0775703928553924,
         3.096396683385468,
         3.075382099177799,
         3.0479875890924606,
         3.065326185241913,
         3.0845535931600807,
         3.0638611294057734,
         3.0636970842459355,
         3.0565175832272984,
         3.0570624972788796,
         3.061754817397392
        ]
       ],
       "encoder": "json",
       "name": "ABC_GAN_3 Metrics",
       "version": 1
      }
     },
     "metadata": {
      "scrapbook": {
       "data": true,
       "display": false,
       "name": "ABC_GAN_3 Metrics"
      }
     },
     "output_type": "display_data"
    },
    {
     "name": "stdout",
     "output_type": "stream",
     "text": [
      "MSE\n",
      "0.47034149012787\n"
     ]
    }
   ],
   "source": [
    "ABC_GAN3_metrics=ABC_train_test2.test_generator(gen3,test_data,prior_model,variance,bias,\"3\",device)\n",
    "sb.glue(\"ABC_GAN_3 Metrics\",ABC_GAN3_metrics)\n",
    "\n",
    "print(\"MSE\")\n",
    "print(mean(ABC_GAN3_metrics[0]))"
   ]
  },
  {
   "cell_type": "code",
   "execution_count": 18,
   "id": "c8e46b48",
   "metadata": {
    "execution": {
     "iopub.execute_input": "2022-06-22T12:31:04.983878Z",
     "iopub.status.busy": "2022-06-22T12:31:04.983177Z",
     "iopub.status.idle": "2022-06-22T12:31:05.804312Z",
     "shell.execute_reply": "2022-06-22T12:31:05.804809Z"
    },
    "id": "c8e46b48",
    "papermill": {
     "duration": 0.878936,
     "end_time": "2022-06-22T12:31:05.805023",
     "exception": false,
     "start_time": "2022-06-22T12:31:04.926087",
     "status": "completed"
    },
    "tags": []
   },
   "outputs": [
    {
     "data": {
      "image/png": "[encoded data removed]",
      "text/plain": [
       "<Figure size 432x288 with 1 Axes>"
      ]
     },
     "metadata": {
      "needs_background": "light"
     },
     "output_type": "display_data"
    },
    {
     "data": {
      "image/png": "[encoded data removed]",
      "text/plain": [
       "<Figure size 432x288 with 1 Axes>"
      ]
     },
     "metadata": {
      "needs_background": "light"
     },
     "output_type": "display_data"
    },
    {
     "data": {
      "image/png": "[encoded data removed]",
      "text/plain": [
       "<Figure size 432x288 with 1 Axes>"
      ]
     },
     "metadata": {
      "needs_background": "light"
     },
     "output_type": "display_data"
    },
    {
     "data": {
      "image/png": "[encoded data removed]",
      "text/plain": [
       "<Figure size 432x288 with 1 Axes>"
      ]
     },
     "metadata": {
      "needs_background": "light"
     },
     "output_type": "display_data"
    }
   ],
   "source": [
    "sanityChecks.discProbVsError(train_data,disc3,device)\n",
    "sanityChecks.discProbVsError(test_data,disc3,device)"
   ]
  },
  {
   "cell_type": "markdown",
   "id": "a5bd74c3",
   "metadata": {
    "id": "a5bd74c3",
    "papermill": {
     "duration": 0.064988,
     "end_time": "2022-06-22T12:31:05.927989",
     "exception": false,
     "start_time": "2022-06-22T12:31:05.863001",
     "status": "completed"
    },
    "tags": []
   },
   "source": [
    "## Skip Connection Model Analysis - ABC-GAN "
   ]
  },
  {
   "cell_type": "markdown",
   "id": "5744a8bf",
   "metadata": {
    "id": "5744a8bf",
    "papermill": {
     "duration": 0.059849,
     "end_time": "2022-06-22T12:31:06.039467",
     "exception": false,
     "start_time": "2022-06-22T12:31:05.979618",
     "status": "completed"
    },
    "tags": []
   },
   "source": [
    "### Weight Analysis \n",
    "\n",
    "Study the weights of the skip connection layer\n",
    "\n",
    "Equation of the skip connection is \n",
    "\n",
    "$output = y_{gan} * w + y_{abc} * (1-w)$"
   ]
  },
  {
   "cell_type": "code",
   "execution_count": 19,
   "id": "52c31dea",
   "metadata": {
    "execution": {
     "iopub.execute_input": "2022-06-22T12:31:06.157694Z",
     "iopub.status.busy": "2022-06-22T12:31:06.157020Z",
     "iopub.status.idle": "2022-06-22T12:31:06.163427Z",
     "shell.execute_reply": "2022-06-22T12:31:06.163891Z"
    },
    "id": "52c31dea",
    "papermill": {
     "duration": 0.071745,
     "end_time": "2022-06-22T12:31:06.164146",
     "exception": false,
     "start_time": "2022-06-22T12:31:06.092401",
     "status": "completed"
    },
    "tags": []
   },
   "outputs": [
    {
     "name": "stdout",
     "output_type": "stream",
     "text": [
      "Weight of the node at skip connection\n",
      "Parameter containing:\n",
      "tensor([[0.8511]], requires_grad=True)\n"
     ]
    },
    {
     "data": {
      "application/scrapbook.scrap.json+json": {
       "data": 0.8510514497756958,
       "encoder": "json",
       "name": "Skip Connection Weight",
       "version": 1
      }
     },
     "metadata": {
      "scrapbook": {
       "data": true,
       "display": false,
       "name": "Skip Connection Weight"
      }
     },
     "output_type": "display_data"
    }
   ],
   "source": [
    "print(\"Weight of the node at skip connection\")\n",
    "for name,param in gen3.named_parameters():\n",
    "    if(name == \"skipNode.weight\"):\n",
    "        print(param)\n",
    "        sb.glue(\"Skip Connection Weight\",param.item())"
   ]
  }
 ],
 "metadata": {
  "colab": {
   "collapsed_sections": [],
   "name": "ABC_GAN_Model-Catboost_Pre-gen.ipynb",
   "provenance": []
  },
  "interpreter": {
   "hash": "31f2aee4e71d21fbe5cf8b01ff0e069b9275f58929596ceb00d14d90e3e16cd6"
  },
  "kernelspec": {
   "display_name": "Python 3 (ipykernel)",
   "language": "python",
   "name": "python3"
  },
  "language_info": {
   "codemirror_mode": {
    "name": "ipython",
    "version": 3
   },
   "file_extension": ".py",
   "mimetype": "text/x-python",
   "name": "python",
   "nbconvert_exporter": "python",
   "pygments_lexer": "ipython3",
   "version": "3.8.3"
  },
  "papermill": {
   "default_parameters": {},
   "duration": 146.136654,
   "end_time": "2022-06-22T12:31:07.498007",
   "environment_variables": {},
   "exception": null,
   "input_path": "ABC_GAN-TabNet.ipynb",
   "output_path": "./ABC_GAN_TabNet/ABC-GAN_output_3_2.ipynb",
   "parameters": {
    "bias": 1,
    "variance": 0.01
   },
   "start_time": "2022-06-22T12:28:41.361353",
   "version": "2.3.3"
  }
 },
 "nbformat": 4,
 "nbformat_minor": 5
}