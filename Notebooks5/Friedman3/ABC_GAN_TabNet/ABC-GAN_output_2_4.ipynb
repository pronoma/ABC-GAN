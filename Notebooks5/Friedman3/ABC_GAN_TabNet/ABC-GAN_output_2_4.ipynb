{
 "cells": [
  {
   "cell_type": "markdown",
   "id": "622780e6",
   "metadata": {
    "id": "622780e6",
    "papermill": {
     "duration": 0.026306,
     "end_time": "2022-06-22T12:05:25.598511",
     "exception": false,
     "start_time": "2022-06-22T12:05:25.572205",
     "status": "completed"
    },
    "tags": []
   },
   "source": [
    "## Import Libraries "
   ]
  },
  {
   "cell_type": "code",
   "execution_count": 1,
   "id": "a62397e3",
   "metadata": {
    "execution": {
     "iopub.execute_input": "2022-06-22T12:05:25.657764Z",
     "iopub.status.busy": "2022-06-22T12:05:25.655310Z",
     "iopub.status.idle": "2022-06-22T12:05:25.659216Z",
     "shell.execute_reply": "2022-06-22T12:05:25.660091Z"
    },
    "id": "a62397e3",
    "papermill": {
     "duration": 0.041358,
     "end_time": "2022-06-22T12:05:25.660441",
     "exception": false,
     "start_time": "2022-06-22T12:05:25.619083",
     "status": "completed"
    },
    "tags": []
   },
   "outputs": [],
   "source": [
    "import warnings\n",
    "import sys\n",
    "sys.path.insert(0, '../../src')\n",
    "warnings.filterwarnings('ignore')"
   ]
  },
  {
   "cell_type": "code",
   "execution_count": 2,
   "id": "d6a4e155",
   "metadata": {
    "execution": {
     "iopub.execute_input": "2022-06-22T12:05:25.704274Z",
     "iopub.status.busy": "2022-06-22T12:05:25.702363Z",
     "iopub.status.idle": "2022-06-22T12:05:31.195134Z",
     "shell.execute_reply": "2022-06-22T12:05:31.195704Z"
    },
    "id": "d6a4e155",
    "papermill": {
     "duration": 5.516922,
     "end_time": "2022-06-22T12:05:31.195936",
     "exception": false,
     "start_time": "2022-06-22T12:05:25.679014",
     "status": "completed"
    },
    "tags": []
   },
   "outputs": [],
   "source": [
    "import ABC_train_test2\n",
    "import friedman3Dataset\n",
    "import network\n",
    "import dataset\n",
    "import sanityChecks\n",
    "import torch \n",
    "import scrapbook as sb\n",
    "from statistics import mean \n",
    "import catboost as ctb \n",
    "from sklearn.model_selection import train_test_split\n",
    "from sklearn.metrics import mean_squared_error,mean_absolute_error\n",
    "import numpy as np\n",
    "from pytorch_tabnet.tab_model import TabNetRegressor"
   ]
  },
  {
   "cell_type": "markdown",
   "id": "2fa5b0f7",
   "metadata": {
    "id": "2fa5b0f7",
    "papermill": {
     "duration": 0.018647,
     "end_time": "2022-06-22T12:05:31.230831",
     "exception": false,
     "start_time": "2022-06-22T12:05:31.212184",
     "status": "completed"
    },
    "tags": []
   },
   "source": [
    "## Parameters "
   ]
  },
  {
   "cell_type": "code",
   "execution_count": 3,
   "id": "783186fb",
   "metadata": {
    "execution": {
     "iopub.execute_input": "2022-06-22T12:05:31.270955Z",
     "iopub.status.busy": "2022-06-22T12:05:31.270183Z",
     "iopub.status.idle": "2022-06-22T12:05:31.272981Z",
     "shell.execute_reply": "2022-06-22T12:05:31.272401Z"
    },
    "id": "783186fb",
    "papermill": {
     "duration": 0.024422,
     "end_time": "2022-06-22T12:05:31.273188",
     "exception": false,
     "start_time": "2022-06-22T12:05:31.248766",
     "status": "completed"
    },
    "tags": [
     "parameters"
    ]
   },
   "outputs": [],
   "source": [
    "variance = 1\n",
    "bias = 1 "
   ]
  },
  {
   "cell_type": "code",
   "execution_count": 4,
   "id": "5d96269a",
   "metadata": {
    "execution": {
     "iopub.execute_input": "2022-06-22T12:05:31.306239Z",
     "iopub.status.busy": "2022-06-22T12:05:31.305513Z",
     "iopub.status.idle": "2022-06-22T12:05:31.307480Z",
     "shell.execute_reply": "2022-06-22T12:05:31.307969Z"
    },
    "papermill": {
     "duration": 0.020132,
     "end_time": "2022-06-22T12:05:31.308233",
     "exception": false,
     "start_time": "2022-06-22T12:05:31.288101",
     "status": "completed"
    },
    "tags": [
     "injected-parameters"
    ]
   },
   "outputs": [],
   "source": [
    "# Parameters\n",
    "variance = 0.1\n",
    "bias = 0.1\n"
   ]
  },
  {
   "cell_type": "markdown",
   "id": "391cdbfd",
   "metadata": {
    "id": "391cdbfd",
    "papermill": {
     "duration": 0.019093,
     "end_time": "2022-06-22T12:05:31.340844",
     "exception": false,
     "start_time": "2022-06-22T12:05:31.321751",
     "status": "completed"
    },
    "tags": []
   },
   "source": [
    "## Dataset \n"
   ]
  },
  {
   "cell_type": "code",
   "execution_count": 5,
   "id": "5b51f161",
   "metadata": {
    "execution": {
     "iopub.execute_input": "2022-06-22T12:05:31.383786Z",
     "iopub.status.busy": "2022-06-22T12:05:31.382834Z",
     "iopub.status.idle": "2022-06-22T12:05:31.385605Z",
     "shell.execute_reply": "2022-06-22T12:05:31.386167Z"
    },
    "id": "5b51f161",
    "papermill": {
     "duration": 0.030006,
     "end_time": "2022-06-22T12:05:31.386421",
     "exception": false,
     "start_time": "2022-06-22T12:05:31.356415",
     "status": "completed"
    },
    "tags": []
   },
   "outputs": [],
   "source": [
    "#Parameters \n",
    "n_features = 4\n",
    "n_samples= 100\n",
    "n_target = 1"
   ]
  },
  {
   "cell_type": "code",
   "execution_count": 6,
   "id": "5d6eced4",
   "metadata": {
    "execution": {
     "iopub.execute_input": "2022-06-22T12:05:31.427898Z",
     "iopub.status.busy": "2022-06-22T12:05:31.427020Z",
     "iopub.status.idle": "2022-06-22T12:05:31.445351Z",
     "shell.execute_reply": "2022-06-22T12:05:31.446586Z"
    },
    "id": "5d6eced4",
    "papermill": {
     "duration": 0.042963,
     "end_time": "2022-06-22T12:05:31.446914",
     "exception": false,
     "start_time": "2022-06-22T12:05:31.403951",
     "status": "completed"
    },
    "tags": []
   },
   "outputs": [
    {
     "name": "stdout",
     "output_type": "stream",
     "text": [
      "          X1           X2        X3         X4         Y\n",
      "0  78.449260   638.583763  0.128386   6.094545  0.863244\n",
      "1  87.852693   433.323016  0.329875   5.874155  0.957392\n",
      "2  97.761672  1108.906386  0.206070   9.130346  1.257799\n",
      "3  96.332572   228.437754  0.039084  10.522356  0.159779\n",
      "4  89.213906   353.499391  0.539052   5.892517  1.045023\n"
     ]
    }
   ],
   "source": [
    "X,Y = friedman3Dataset.friedman3_data(n_samples)"
   ]
  },
  {
   "cell_type": "code",
   "execution_count": 7,
   "id": "fe007438",
   "metadata": {
    "execution": {
     "iopub.execute_input": "2022-06-22T12:05:31.504504Z",
     "iopub.status.busy": "2022-06-22T12:05:31.503686Z",
     "iopub.status.idle": "2022-06-22T12:05:31.509932Z",
     "shell.execute_reply": "2022-06-22T12:05:31.509367Z"
    },
    "id": "fe007438",
    "papermill": {
     "duration": 0.04196,
     "end_time": "2022-06-22T12:05:31.510144",
     "exception": false,
     "start_time": "2022-06-22T12:05:31.468184",
     "status": "completed"
    },
    "tags": []
   },
   "outputs": [],
   "source": [
    "#Train test split for dataset \n",
    "X_train,X_test,Y_train,Y_test = train_test_split(X,Y,test_size = 0.2)\n",
    "train_data = dataset.CustomDataset(X_train,Y_train)\n",
    "test_data = dataset.CustomDataset(X_test,Y_test)\n"
   ]
  },
  {
   "cell_type": "markdown",
   "id": "a9a1af34",
   "metadata": {
    "id": "a9a1af34",
    "papermill": {
     "duration": 0.025114,
     "end_time": "2022-06-22T12:05:31.554317",
     "exception": false,
     "start_time": "2022-06-22T12:05:31.529203",
     "status": "completed"
    },
    "tags": []
   },
   "source": [
    "## Training Parameters "
   ]
  },
  {
   "cell_type": "code",
   "execution_count": 8,
   "id": "952b7fc8",
   "metadata": {
    "execution": {
     "iopub.execute_input": "2022-06-22T12:05:31.607387Z",
     "iopub.status.busy": "2022-06-22T12:05:31.606116Z",
     "iopub.status.idle": "2022-06-22T12:05:31.608791Z",
     "shell.execute_reply": "2022-06-22T12:05:31.609413Z"
    },
    "id": "952b7fc8",
    "papermill": {
     "duration": 0.038297,
     "end_time": "2022-06-22T12:05:31.609639",
     "exception": false,
     "start_time": "2022-06-22T12:05:31.571342",
     "status": "completed"
    },
    "tags": []
   },
   "outputs": [],
   "source": [
    "batch_size = 32\n",
    "n_epochs = 1000\n",
    "#Select the device \n",
    "device = torch.device('cuda' if torch.cuda.is_available() else 'cpu')"
   ]
  },
  {
   "cell_type": "markdown",
   "id": "a95e1600",
   "metadata": {
    "id": "a95e1600",
    "papermill": {
     "duration": 0.016681,
     "end_time": "2022-06-22T12:05:31.648437",
     "exception": false,
     "start_time": "2022-06-22T12:05:31.631756",
     "status": "completed"
    },
    "tags": []
   },
   "source": [
    "# ABC Pre-generator Model \n",
    "\n",
    "1. The catboost model is used as a pre-generator model for the ABC-GAN. \n",
    "2. The model is first trained on the entire dataset \n",
    "3. It generats X,Y pairs and we add some Gaussian noise with mean 0 and variance 1 to it which is then feed as input to the generator.\n"
   ]
  },
  {
   "cell_type": "code",
   "execution_count": 9,
   "id": "ff8ce7bd",
   "metadata": {
    "execution": {
     "iopub.execute_input": "2022-06-22T12:05:31.684311Z",
     "iopub.status.busy": "2022-06-22T12:05:31.683486Z",
     "iopub.status.idle": "2022-06-22T12:05:44.999374Z",
     "shell.execute_reply": "2022-06-22T12:05:44.999920Z"
    },
    "id": "ff8ce7bd",
    "papermill": {
     "duration": 13.336145,
     "end_time": "2022-06-22T12:05:45.000120",
     "exception": false,
     "start_time": "2022-06-22T12:05:31.663975",
     "status": "completed"
    },
    "tags": []
   },
   "outputs": [
    {
     "name": "stdout",
     "output_type": "stream",
     "text": [
      "Device used : cpu\n",
      "epoch 0  | loss: 0.96147 | train_mse: 9.61871 | train_mae: 2.06235 |  0:00:00s\n"
     ]
    },
    {
     "name": "stdout",
     "output_type": "stream",
     "text": [
      "epoch 1  | loss: 0.59197 | train_mse: 11.57227| train_mae: 2.00133 |  0:00:00s\n",
      "epoch 2  | loss: 0.4346  | train_mse: 4.27452 | train_mae: 1.31627 |  0:00:00s\n",
      "epoch 3  | loss: 0.49437 | train_mse: 1.63444 | train_mae: 0.89279 |  0:00:00s\n"
     ]
    },
    {
     "name": "stdout",
     "output_type": "stream",
     "text": [
      "epoch 4  | loss: 0.31533 | train_mse: 1.42854 | train_mae: 0.84378 |  0:00:00s\n",
      "epoch 5  | loss: 0.29805 | train_mse: 1.1435  | train_mae: 0.79906 |  0:00:00s\n",
      "epoch 6  | loss: 0.33129 | train_mse: 0.62837 | train_mae: 0.6234  |  0:00:00s\n"
     ]
    },
    {
     "name": "stdout",
     "output_type": "stream",
     "text": [
      "epoch 7  | loss: 0.21515 | train_mse: 0.60696 | train_mae: 0.54562 |  0:00:00s\n",
      "epoch 8  | loss: 0.27876 | train_mse: 0.611   | train_mae: 0.56879 |  0:00:00s\n",
      "epoch 9  | loss: 0.59976 | train_mse: 0.76002 | train_mae: 0.64177 |  0:00:00s\n",
      "epoch 10 | loss: 0.31372 | train_mse: 0.66466 | train_mae: 0.5964  |  0:00:00s\n"
     ]
    },
    {
     "name": "stdout",
     "output_type": "stream",
     "text": [
      "epoch 11 | loss: 0.47485 | train_mse: 0.91475 | train_mae: 0.6864  |  0:00:01s\n",
      "epoch 12 | loss: 0.22332 | train_mse: 0.81312 | train_mae: 0.64497 |  0:00:01s\n"
     ]
    },
    {
     "name": "stdout",
     "output_type": "stream",
     "text": [
      "epoch 13 | loss: 0.30887 | train_mse: 0.70509 | train_mae: 0.59499 |  0:00:01s\n",
      "epoch 14 | loss: 0.2953  | train_mse: 0.59221 | train_mae: 0.55201 |  0:00:01s\n"
     ]
    },
    {
     "name": "stdout",
     "output_type": "stream",
     "text": [
      "epoch 15 | loss: 0.26205 | train_mse: 0.56643 | train_mae: 0.5196  |  0:00:01s\n",
      "epoch 16 | loss: 0.17309 | train_mse: 0.444   | train_mae: 0.48272 |  0:00:01s\n",
      "epoch 17 | loss: 0.13945 | train_mse: 0.39652 | train_mae: 0.46877 |  0:00:01s\n"
     ]
    },
    {
     "name": "stdout",
     "output_type": "stream",
     "text": [
      "epoch 18 | loss: 0.37787 | train_mse: 0.5495  | train_mae: 0.48387 |  0:00:01s\n",
      "epoch 19 | loss: 0.41056 | train_mse: 0.53319 | train_mae: 0.49684 |  0:00:01s\n"
     ]
    },
    {
     "name": "stdout",
     "output_type": "stream",
     "text": [
      "epoch 20 | loss: 0.32167 | train_mse: 0.39209 | train_mae: 0.42854 |  0:00:01s\n",
      "epoch 21 | loss: 0.23796 | train_mse: 0.31302 | train_mae: 0.40692 |  0:00:01s\n",
      "epoch 22 | loss: 0.30519 | train_mse: 0.4288  | train_mae: 0.46642 |  0:00:02s\n"
     ]
    },
    {
     "name": "stdout",
     "output_type": "stream",
     "text": [
      "epoch 23 | loss: 0.24085 | train_mse: 0.19694 | train_mae: 0.32755 |  0:00:02s\n",
      "epoch 24 | loss: 0.18267 | train_mse: 0.22076 | train_mae: 0.33648 |  0:00:02s\n",
      "epoch 25 | loss: 0.17087 | train_mse: 0.24737 | train_mae: 0.3505  |  0:00:02s\n"
     ]
    },
    {
     "name": "stdout",
     "output_type": "stream",
     "text": [
      "epoch 26 | loss: 0.39396 | train_mse: 0.24956 | train_mae: 0.3524  |  0:00:02s\n",
      "epoch 27 | loss: 0.20707 | train_mse: 0.21202 | train_mae: 0.3263  |  0:00:02s\n"
     ]
    },
    {
     "name": "stdout",
     "output_type": "stream",
     "text": [
      "epoch 28 | loss: 0.25818 | train_mse: 0.20098 | train_mae: 0.33479 |  0:00:02s\n"
     ]
    },
    {
     "name": "stdout",
     "output_type": "stream",
     "text": [
      "epoch 29 | loss: 0.17801 | train_mse: 0.20246 | train_mae: 0.33159 |  0:00:02s\n",
      "epoch 30 | loss: 0.18861 | train_mse: 0.18539 | train_mae: 0.3305  |  0:00:03s\n",
      "epoch 31 | loss: 0.18982 | train_mse: 0.149   | train_mae: 0.29599 |  0:00:03s\n"
     ]
    },
    {
     "name": "stdout",
     "output_type": "stream",
     "text": [
      "epoch 32 | loss: 0.14629 | train_mse: 0.15262 | train_mae: 0.29856 |  0:00:03s\n",
      "epoch 33 | loss: 0.17807 | train_mse: 0.14336 | train_mae: 0.29298 |  0:00:03s\n",
      "epoch 34 | loss: 0.24885 | train_mse: 0.15344 | train_mae: 0.30368 |  0:00:03s\n",
      "epoch 35 | loss: 0.14938 | train_mse: 0.16913 | train_mae: 0.31796 |  0:00:03s\n"
     ]
    },
    {
     "name": "stdout",
     "output_type": "stream",
     "text": [
      "epoch 36 | loss: 0.16757 | train_mse: 0.14857 | train_mae: 0.2874  |  0:00:03s\n",
      "epoch 37 | loss: 0.16412 | train_mse: 0.15557 | train_mae: 0.29413 |  0:00:03s\n",
      "epoch 38 | loss: 0.23338 | train_mse: 0.13827 | train_mae: 0.28318 |  0:00:03s\n",
      "epoch 39 | loss: 0.09006 | train_mse: 0.14466 | train_mae: 0.29528 |  0:00:03s\n"
     ]
    },
    {
     "name": "stdout",
     "output_type": "stream",
     "text": [
      "epoch 40 | loss: 0.20813 | train_mse: 0.14787 | train_mae: 0.30083 |  0:00:03s\n",
      "epoch 41 | loss: 0.10642 | train_mse: 0.11824 | train_mae: 0.25683 |  0:00:03s\n",
      "epoch 42 | loss: 0.13807 | train_mse: 0.09773 | train_mae: 0.23567 |  0:00:03s\n"
     ]
    },
    {
     "name": "stdout",
     "output_type": "stream",
     "text": [
      "epoch 43 | loss: 0.19635 | train_mse: 0.07913 | train_mae: 0.20749 |  0:00:03s\n",
      "epoch 44 | loss: 0.11533 | train_mse: 0.07969 | train_mae: 0.21357 |  0:00:04s\n",
      "epoch 45 | loss: 0.12886 | train_mse: 0.0895  | train_mae: 0.22553 |  0:00:04s\n",
      "epoch 46 | loss: 0.1637  | train_mse: 0.10801 | train_mae: 0.24296 |  0:00:04s\n"
     ]
    },
    {
     "name": "stdout",
     "output_type": "stream",
     "text": [
      "epoch 47 | loss: 0.29934 | train_mse: 0.17576 | train_mae: 0.29649 |  0:00:04s\n",
      "epoch 48 | loss: 0.32285 | train_mse: 0.22273 | train_mae: 0.33332 |  0:00:04s\n",
      "epoch 49 | loss: 0.15751 | train_mse: 0.13287 | train_mae: 0.2691  |  0:00:04s\n",
      "epoch 50 | loss: 0.15928 | train_mse: 0.10377 | train_mae: 0.25733 |  0:00:04s\n"
     ]
    },
    {
     "name": "stdout",
     "output_type": "stream",
     "text": [
      "epoch 51 | loss: 0.13316 | train_mse: 0.09066 | train_mae: 0.23676 |  0:00:04s\n",
      "epoch 52 | loss: 0.12474 | train_mse: 0.09763 | train_mae: 0.24139 |  0:00:04s\n",
      "epoch 53 | loss: 0.11348 | train_mse: 0.08409 | train_mae: 0.23403 |  0:00:04s\n",
      "epoch 54 | loss: 0.14554 | train_mse: 0.08981 | train_mae: 0.24073 |  0:00:04s\n"
     ]
    },
    {
     "name": "stdout",
     "output_type": "stream",
     "text": [
      "epoch 55 | loss: 0.18214 | train_mse: 0.09114 | train_mae: 0.24054 |  0:00:04s\n",
      "epoch 56 | loss: 0.16038 | train_mse: 0.09492 | train_mae: 0.2389  |  0:00:04s\n",
      "epoch 57 | loss: 0.11534 | train_mse: 0.07114 | train_mae: 0.2027  |  0:00:04s\n"
     ]
    },
    {
     "name": "stdout",
     "output_type": "stream",
     "text": [
      "epoch 58 | loss: 0.09859 | train_mse: 0.07345 | train_mae: 0.21176 |  0:00:04s\n",
      "epoch 59 | loss: 0.1735  | train_mse: 0.10673 | train_mae: 0.26247 |  0:00:05s\n",
      "epoch 60 | loss: 0.21051 | train_mse: 0.08511 | train_mae: 0.23354 |  0:00:05s\n",
      "epoch 61 | loss: 0.18458 | train_mse: 0.08036 | train_mae: 0.22663 |  0:00:05s\n"
     ]
    },
    {
     "name": "stdout",
     "output_type": "stream",
     "text": [
      "epoch 62 | loss: 0.25387 | train_mse: 0.08332 | train_mae: 0.23019 |  0:00:05s\n",
      "epoch 63 | loss: 0.18129 | train_mse: 0.07193 | train_mae: 0.2153  |  0:00:05s\n",
      "epoch 64 | loss: 0.11753 | train_mse: 0.08302 | train_mae: 0.21279 |  0:00:05s\n",
      "epoch 65 | loss: 0.11322 | train_mse: 0.11519 | train_mae: 0.24187 |  0:00:05s\n"
     ]
    },
    {
     "name": "stdout",
     "output_type": "stream",
     "text": [
      "epoch 66 | loss: 0.10844 | train_mse: 0.13015 | train_mae: 0.25299 |  0:00:05s\n",
      "epoch 67 | loss: 0.13475 | train_mse: 0.1198  | train_mae: 0.24771 |  0:00:05s\n",
      "epoch 68 | loss: 0.21478 | train_mse: 0.10155 | train_mae: 0.241   |  0:00:05s\n",
      "epoch 69 | loss: 0.12038 | train_mse: 0.09256 | train_mae: 0.23488 |  0:00:05s\n"
     ]
    },
    {
     "name": "stdout",
     "output_type": "stream",
     "text": [
      "epoch 70 | loss: 0.19034 | train_mse: 0.08244 | train_mae: 0.21866 |  0:00:05s\n",
      "epoch 71 | loss: 0.09726 | train_mse: 0.08313 | train_mae: 0.21206 |  0:00:05s\n",
      "epoch 72 | loss: 0.15883 | train_mse: 0.11667 | train_mae: 0.24957 |  0:00:05s\n"
     ]
    },
    {
     "name": "stdout",
     "output_type": "stream",
     "text": [
      "epoch 73 | loss: 0.1031  | train_mse: 0.12199 | train_mae: 0.25193 |  0:00:06s\n",
      "epoch 74 | loss: 0.12175 | train_mse: 0.11105 | train_mae: 0.23888 |  0:00:06s\n",
      "epoch 75 | loss: 0.13908 | train_mse: 0.10697 | train_mae: 0.24223 |  0:00:06s\n",
      "epoch 76 | loss: 0.14492 | train_mse: 0.09395 | train_mae: 0.23475 |  0:00:06s\n"
     ]
    },
    {
     "name": "stdout",
     "output_type": "stream",
     "text": [
      "epoch 77 | loss: 0.1283  | train_mse: 0.08792 | train_mae: 0.23146 |  0:00:06s\n",
      "epoch 78 | loss: 0.09943 | train_mse: 0.08753 | train_mae: 0.2326  |  0:00:06s\n",
      "epoch 79 | loss: 0.13848 | train_mse: 0.1126  | train_mae: 0.26828 |  0:00:06s\n",
      "epoch 80 | loss: 0.14295 | train_mse: 0.11975 | train_mae: 0.26899 |  0:00:06s\n"
     ]
    },
    {
     "name": "stdout",
     "output_type": "stream",
     "text": [
      "epoch 81 | loss: 0.35374 | train_mse: 0.11364 | train_mae: 0.26624 |  0:00:06s\n",
      "epoch 82 | loss: 0.15271 | train_mse: 0.0911  | train_mae: 0.23377 |  0:00:06s\n",
      "epoch 83 | loss: 0.13029 | train_mse: 0.08755 | train_mae: 0.23227 |  0:00:06s\n",
      "epoch 84 | loss: 0.14377 | train_mse: 0.12655 | train_mae: 0.27743 |  0:00:06s\n"
     ]
    },
    {
     "name": "stdout",
     "output_type": "stream",
     "text": [
      "epoch 85 | loss: 0.12887 | train_mse: 0.1479  | train_mae: 0.29221 |  0:00:06s\n",
      "epoch 86 | loss: 0.17309 | train_mse: 0.1186  | train_mae: 0.26961 |  0:00:06s\n",
      "epoch 87 | loss: 0.17677 | train_mse: 0.09778 | train_mae: 0.24922 |  0:00:06s\n"
     ]
    },
    {
     "name": "stdout",
     "output_type": "stream",
     "text": [
      "epoch 88 | loss: 0.22402 | train_mse: 0.09006 | train_mae: 0.23989 |  0:00:07s\n",
      "epoch 89 | loss: 0.10313 | train_mse: 0.07756 | train_mae: 0.22439 |  0:00:07s\n",
      "epoch 90 | loss: 0.1584  | train_mse: 0.08094 | train_mae: 0.22791 |  0:00:07s\n",
      "epoch 91 | loss: 0.13397 | train_mse: 0.0976  | train_mae: 0.25385 |  0:00:07s\n"
     ]
    },
    {
     "name": "stdout",
     "output_type": "stream",
     "text": [
      "epoch 92 | loss: 0.12667 | train_mse: 0.10393 | train_mae: 0.25725 |  0:00:07s\n",
      "epoch 93 | loss: 0.11548 | train_mse: 0.12488 | train_mae: 0.26593 |  0:00:07s\n",
      "epoch 94 | loss: 0.12773 | train_mse: 0.10599 | train_mae: 0.24491 |  0:00:07s\n",
      "epoch 95 | loss: 0.19059 | train_mse: 0.07667 | train_mae: 0.21909 |  0:00:07s\n"
     ]
    },
    {
     "name": "stdout",
     "output_type": "stream",
     "text": [
      "epoch 96 | loss: 0.12631 | train_mse: 0.06925 | train_mae: 0.21296 |  0:00:07s\n",
      "epoch 97 | loss: 0.09836 | train_mse: 0.07075 | train_mae: 0.21247 |  0:00:07s\n",
      "epoch 98 | loss: 0.13576 | train_mse: 0.06474 | train_mae: 0.20192 |  0:00:07s\n",
      "epoch 99 | loss: 0.09083 | train_mse: 0.05851 | train_mae: 0.19521 |  0:00:07s\n"
     ]
    },
    {
     "name": "stdout",
     "output_type": "stream",
     "text": [
      "epoch 100| loss: 0.08027 | train_mse: 0.06574 | train_mae: 0.2055  |  0:00:07s\n",
      "epoch 101| loss: 0.11798 | train_mse: 0.0644  | train_mae: 0.20929 |  0:00:07s\n",
      "epoch 102| loss: 0.08789 | train_mse: 0.06998 | train_mae: 0.21355 |  0:00:07s\n",
      "epoch 103| loss: 0.13122 | train_mse: 0.08757 | train_mae: 0.2368  |  0:00:08s\n"
     ]
    },
    {
     "name": "stdout",
     "output_type": "stream",
     "text": [
      "epoch 104| loss: 0.13325 | train_mse: 0.11064 | train_mae: 0.25798 |  0:00:08s\n",
      "epoch 105| loss: 0.09708 | train_mse: 0.13538 | train_mae: 0.27897 |  0:00:08s\n",
      "epoch 106| loss: 0.14326 | train_mse: 0.16134 | train_mae: 0.2939  |  0:00:08s\n",
      "epoch 107| loss: 0.13023 | train_mse: 0.18004 | train_mae: 0.30663 |  0:00:08s\n"
     ]
    },
    {
     "name": "stdout",
     "output_type": "stream",
     "text": [
      "epoch 108| loss: 0.13637 | train_mse: 0.14073 | train_mae: 0.27251 |  0:00:08s\n",
      "epoch 109| loss: 0.12238 | train_mse: 0.11153 | train_mae: 0.23867 |  0:00:08s\n",
      "epoch 110| loss: 0.14782 | train_mse: 0.09146 | train_mae: 0.21812 |  0:00:08s\n",
      "epoch 111| loss: 0.0845  | train_mse: 0.0893  | train_mae: 0.22073 |  0:00:08s\n"
     ]
    },
    {
     "name": "stdout",
     "output_type": "stream",
     "text": [
      "epoch 112| loss: 0.12538 | train_mse: 0.07998 | train_mae: 0.21216 |  0:00:08s\n",
      "epoch 113| loss: 0.14107 | train_mse: 0.07485 | train_mae: 0.21016 |  0:00:08s\n",
      "epoch 114| loss: 0.13437 | train_mse: 0.05366 | train_mae: 0.18308 |  0:00:08s\n"
     ]
    },
    {
     "name": "stdout",
     "output_type": "stream",
     "text": [
      "epoch 115| loss: 0.05954 | train_mse: 0.08098 | train_mae: 0.2304  |  0:00:08s\n",
      "epoch 116| loss: 0.10647 | train_mse: 0.10309 | train_mae: 0.25672 |  0:00:08s\n",
      "epoch 117| loss: 0.16957 | train_mse: 0.09111 | train_mae: 0.23922 |  0:00:08s\n",
      "epoch 118| loss: 0.08776 | train_mse: 0.0501  | train_mae: 0.18026 |  0:00:09s\n"
     ]
    },
    {
     "name": "stdout",
     "output_type": "stream",
     "text": [
      "epoch 119| loss: 0.0804  | train_mse: 0.04581 | train_mae: 0.17327 |  0:00:09s\n",
      "epoch 120| loss: 0.09973 | train_mse: 0.056   | train_mae: 0.19149 |  0:00:09s\n",
      "epoch 121| loss: 0.11009 | train_mse: 0.0786  | train_mae: 0.2233  |  0:00:09s\n",
      "epoch 122| loss: 0.10209 | train_mse: 0.10176 | train_mae: 0.24976 |  0:00:09s\n"
     ]
    },
    {
     "name": "stdout",
     "output_type": "stream",
     "text": [
      "epoch 123| loss: 0.11559 | train_mse: 0.07654 | train_mae: 0.22036 |  0:00:09s\n",
      "epoch 124| loss: 0.15328 | train_mse: 0.06343 | train_mae: 0.20252 |  0:00:09s\n",
      "epoch 125| loss: 0.18531 | train_mse: 0.05511 | train_mae: 0.19323 |  0:00:09s\n",
      "epoch 126| loss: 0.08757 | train_mse: 0.04918 | train_mae: 0.18109 |  0:00:09s\n"
     ]
    },
    {
     "name": "stdout",
     "output_type": "stream",
     "text": [
      "epoch 127| loss: 0.30178 | train_mse: 0.05024 | train_mae: 0.18252 |  0:00:09s\n",
      "epoch 128| loss: 0.08842 | train_mse: 0.05176 | train_mae: 0.17912 |  0:00:09s\n",
      "epoch 129| loss: 0.10476 | train_mse: 0.05197 | train_mae: 0.1835  |  0:00:09s\n",
      "epoch 130| loss: 0.13082 | train_mse: 0.04955 | train_mae: 0.17925 |  0:00:09s\n"
     ]
    },
    {
     "name": "stdout",
     "output_type": "stream",
     "text": [
      "epoch 131| loss: 0.12675 | train_mse: 0.04571 | train_mae: 0.16891 |  0:00:09s\n",
      "epoch 132| loss: 0.08617 | train_mse: 0.05002 | train_mae: 0.17663 |  0:00:09s\n",
      "epoch 133| loss: 0.08343 | train_mse: 0.06565 | train_mae: 0.19456 |  0:00:10s\n",
      "epoch 134| loss: 0.21888 | train_mse: 0.10322 | train_mae: 0.2373  |  0:00:10s\n"
     ]
    },
    {
     "name": "stdout",
     "output_type": "stream",
     "text": [
      "epoch 135| loss: 0.11695 | train_mse: 0.09392 | train_mae: 0.22888 |  0:00:10s\n",
      "epoch 136| loss: 0.12144 | train_mse: 0.08145 | train_mae: 0.22536 |  0:00:10s\n",
      "epoch 137| loss: 0.19074 | train_mse: 0.08294 | train_mae: 0.22498 |  0:00:10s\n",
      "epoch 138| loss: 0.07474 | train_mse: 0.08616 | train_mae: 0.23513 |  0:00:10s\n"
     ]
    },
    {
     "name": "stdout",
     "output_type": "stream",
     "text": [
      "epoch 139| loss: 0.08019 | train_mse: 0.07707 | train_mae: 0.21922 |  0:00:10s\n",
      "epoch 140| loss: 0.10259 | train_mse: 0.06828 | train_mae: 0.19969 |  0:00:10s\n",
      "epoch 141| loss: 0.12453 | train_mse: 0.075   | train_mae: 0.21183 |  0:00:10s\n",
      "epoch 142| loss: 0.08225 | train_mse: 0.06321 | train_mae: 0.19578 |  0:00:10s\n"
     ]
    },
    {
     "name": "stdout",
     "output_type": "stream",
     "text": [
      "epoch 143| loss: 0.12231 | train_mse: 0.05642 | train_mae: 0.18764 |  0:00:10s\n",
      "epoch 144| loss: 0.08779 | train_mse: 0.05509 | train_mae: 0.19061 |  0:00:10s\n",
      "epoch 145| loss: 0.09092 | train_mse: 0.05547 | train_mae: 0.19084 |  0:00:10s\n"
     ]
    },
    {
     "name": "stdout",
     "output_type": "stream",
     "text": [
      "epoch 146| loss: 0.11757 | train_mse: 0.05893 | train_mae: 0.19011 |  0:00:10s\n",
      "epoch 147| loss: 0.09957 | train_mse: 0.06009 | train_mae: 0.18647 |  0:00:10s\n",
      "epoch 148| loss: 0.06839 | train_mse: 0.07184 | train_mae: 0.20427 |  0:00:11s\n",
      "epoch 149| loss: 0.10547 | train_mse: 0.09519 | train_mae: 0.22831 |  0:00:11s\n"
     ]
    },
    {
     "name": "stdout",
     "output_type": "stream",
     "text": [
      "epoch 150| loss: 0.11015 | train_mse: 0.09754 | train_mae: 0.2381  |  0:00:11s\n",
      "epoch 151| loss: 0.12366 | train_mse: 0.0751  | train_mae: 0.21502 |  0:00:11s\n",
      "epoch 152| loss: 0.11426 | train_mse: 0.06565 | train_mae: 0.21061 |  0:00:11s\n"
     ]
    },
    {
     "name": "stdout",
     "output_type": "stream",
     "text": [
      "epoch 153| loss: 0.11634 | train_mse: 0.06914 | train_mae: 0.21957 |  0:00:11s\n",
      "epoch 154| loss: 0.0821  | train_mse: 0.06482 | train_mae: 0.2098  |  0:00:11s\n",
      "epoch 155| loss: 0.1451  | train_mse: 0.05049 | train_mae: 0.18696 |  0:00:11s\n",
      "epoch 156| loss: 0.08964 | train_mse: 0.05506 | train_mae: 0.18323 |  0:00:11s\n"
     ]
    },
    {
     "name": "stdout",
     "output_type": "stream",
     "text": [
      "epoch 157| loss: 0.09529 | train_mse: 0.045   | train_mae: 0.16921 |  0:00:11s\n",
      "epoch 158| loss: 0.05912 | train_mse: 0.05024 | train_mae: 0.17271 |  0:00:11s\n",
      "epoch 159| loss: 0.10321 | train_mse: 0.05668 | train_mae: 0.18383 |  0:00:11s\n"
     ]
    },
    {
     "name": "stdout",
     "output_type": "stream",
     "text": [
      "epoch 160| loss: 0.12223 | train_mse: 0.06809 | train_mae: 0.19316 |  0:00:11s\n",
      "epoch 161| loss: 0.17743 | train_mse: 0.09659 | train_mae: 0.22331 |  0:00:11s\n",
      "epoch 162| loss: 0.13535 | train_mse: 0.11069 | train_mae: 0.23874 |  0:00:11s\n",
      "epoch 163| loss: 0.22064 | train_mse: 0.11479 | train_mae: 0.24934 |  0:00:12s\n"
     ]
    },
    {
     "name": "stdout",
     "output_type": "stream",
     "text": [
      "epoch 164| loss: 0.1285  | train_mse: 0.11983 | train_mae: 0.25412 |  0:00:12s\n",
      "epoch 165| loss: 0.15979 | train_mse: 0.10626 | train_mae: 0.23765 |  0:00:12s\n",
      "epoch 166| loss: 0.13018 | train_mse: 0.0995  | train_mae: 0.22885 |  0:00:12s\n",
      "epoch 167| loss: 0.18144 | train_mse: 0.08138 | train_mae: 0.20997 |  0:00:12s\n"
     ]
    },
    {
     "name": "stdout",
     "output_type": "stream",
     "text": [
      "epoch 168| loss: 0.11466 | train_mse: 0.05877 | train_mae: 0.18695 |  0:00:12s\n",
      "epoch 169| loss: 0.08605 | train_mse: 0.05    | train_mae: 0.1832  |  0:00:12s\n",
      "epoch 170| loss: 0.08082 | train_mse: 0.08038 | train_mae: 0.2174  |  0:00:12s\n"
     ]
    },
    {
     "name": "stdout",
     "output_type": "stream",
     "text": [
      "epoch 171| loss: 0.10926 | train_mse: 0.11356 | train_mae: 0.25107 |  0:00:12s\n",
      "epoch 172| loss: 0.15072 | train_mse: 0.09371 | train_mae: 0.23884 |  0:00:12s\n",
      "epoch 173| loss: 0.11487 | train_mse: 0.0618  | train_mae: 0.20752 |  0:00:12s\n",
      "epoch 174| loss: 0.07285 | train_mse: 0.05232 | train_mae: 0.18807 |  0:00:12s\n"
     ]
    },
    {
     "name": "stdout",
     "output_type": "stream",
     "text": [
      "epoch 175| loss: 0.06522 | train_mse: 0.05723 | train_mae: 0.18345 |  0:00:12s\n",
      "epoch 176| loss: 0.0669  | train_mse: 0.0671  | train_mae: 0.19373 |  0:00:12s\n",
      "epoch 177| loss: 0.19076 | train_mse: 0.08579 | train_mae: 0.2185  |  0:00:13s\n",
      "epoch 178| loss: 0.11476 | train_mse: 0.09848 | train_mae: 0.23602 |  0:00:13s\n"
     ]
    },
    {
     "name": "stdout",
     "output_type": "stream",
     "text": [
      "epoch 179| loss: 0.1194  | train_mse: 0.12759 | train_mae: 0.25971 |  0:00:13s\n",
      "epoch 180| loss: 0.13584 | train_mse: 0.13867 | train_mae: 0.2675  |  0:00:13s\n",
      "epoch 181| loss: 0.09335 | train_mse: 0.13745 | train_mae: 0.27348 |  0:00:13s\n",
      "\n",
      "Early stopping occurred at epoch 181 with best_epoch = 131 and best_train_mae = 0.16891\n",
      "Best weights from best epoch are automatically used!\n"
     ]
    }
   ],
   "source": [
    "#Train the Model\n",
    "\n",
    "Y_train = np.reshape(Y_train, (-1, 1))\n",
    "Y_test = np.reshape(Y_test, (-1, 1))\n",
    "\n",
    "prior_model = TabNetRegressor(optimizer_fn=torch.optim.Adam, optimizer_params=dict(lr = 0.02),\n",
    "          #scheduler_params={\"step_size\":10, ], \"gamma\":0.9},\n",
    "          #scheduler_fn=torch.optim.lr_scheduler.StepLR\n",
    "          )  #TabNetRegressor()\n",
    "\n",
    "prior_model.fit(X_train,Y_train,eval_set=[(X_train, Y_train)],\n",
    "            eval_name=['train'], \n",
    "            eval_metric=[ 'mse', 'mae'], \n",
    "            max_epochs = n_epochs, \n",
    "            batch_size = batch_size,\n",
    "            patience=50\n",
    "            )"
   ]
  },
  {
   "cell_type": "code",
   "execution_count": 10,
   "id": "af65dcda",
   "metadata": {
    "execution": {
     "iopub.execute_input": "2022-06-22T12:05:45.072258Z",
     "iopub.status.busy": "2022-06-22T12:05:45.071314Z",
     "iopub.status.idle": "2022-06-22T12:05:45.096392Z",
     "shell.execute_reply": "2022-06-22T12:05:45.097550Z"
    },
    "id": "af65dcda",
    "papermill": {
     "duration": 0.070176,
     "end_time": "2022-06-22T12:05:45.097919",
     "exception": false,
     "start_time": "2022-06-22T12:05:45.027743",
     "status": "completed"
    },
    "tags": []
   },
   "outputs": [
    {
     "data": {
      "application/scrapbook.scrap.json+json": {
       "data": 0.2693442333595665,
       "encoder": "json",
       "name": "Prior Model MSE",
       "version": 1
      }
     },
     "metadata": {
      "scrapbook": {
       "data": true,
       "display": false,
       "name": "Prior Model MSE"
      }
     },
     "output_type": "display_data"
    },
    {
     "data": {
      "application/scrapbook.scrap.json+json": {
       "data": 0.29834625705516993,
       "encoder": "json",
       "name": "ABC Pre-generator MSE",
       "version": 1
      }
     },
     "metadata": {
      "scrapbook": {
       "data": true,
       "display": false,
       "name": "ABC Pre-generator MSE"
      }
     },
     "output_type": "display_data"
    },
    {
     "data": {
      "application/scrapbook.scrap.json+json": {
       "data": 0.40526549541146817,
       "encoder": "json",
       "name": "Prior Model MSE",
       "version": 1
      }
     },
     "metadata": {
      "scrapbook": {
       "data": true,
       "display": false,
       "name": "Prior Model MSE"
      }
     },
     "output_type": "display_data"
    },
    {
     "data": {
      "application/scrapbook.scrap.json+json": {
       "data": 0.4241660345870998,
       "encoder": "json",
       "name": "ABC Pre-generator MSE",
       "version": 1
      }
     },
     "metadata": {
      "scrapbook": {
       "data": true,
       "display": false,
       "name": "ABC Pre-generator MSE"
      }
     },
     "output_type": "display_data"
    }
   ],
   "source": [
    "y_pred = prior_model.predict(X_test)\n",
    "y_abc = y_pred + np.random.normal(0,variance, y_pred.shape) + bias \n",
    "mse = mean_squared_error(y_pred,Y_test)\n",
    "sb.glue(\"Prior Model MSE\",mse)\n",
    "mse = mean_squared_error(y_abc,Y_test)\n",
    "sb.glue(\"ABC Pre-generator MSE\",mse)\n",
    "mae = mean_absolute_error(y_pred,Y_test)\n",
    "sb.glue(\"Prior Model MSE\",mae)\n",
    "mae = mean_absolute_error(y_abc,Y_test)\n",
    "sb.glue(\"ABC Pre-generator MSE\",mae)"
   ]
  },
  {
   "cell_type": "markdown",
   "id": "25609da2",
   "metadata": {
    "papermill": {
     "duration": 0.036998,
     "end_time": "2022-06-22T12:05:45.165283",
     "exception": false,
     "start_time": "2022-06-22T12:05:45.128285",
     "status": "completed"
    },
    "tags": []
   },
   "source": [
    "# ABC GAN Model"
   ]
  },
  {
   "cell_type": "code",
   "execution_count": 11,
   "id": "dfc3464d",
   "metadata": {
    "execution": {
     "iopub.execute_input": "2022-06-22T12:05:45.242933Z",
     "iopub.status.busy": "2022-06-22T12:05:45.240084Z",
     "iopub.status.idle": "2022-06-22T12:05:45.244251Z",
     "shell.execute_reply": "2022-06-22T12:05:45.243731Z"
    },
    "papermill": {
     "duration": 0.041152,
     "end_time": "2022-06-22T12:05:45.244430",
     "exception": false,
     "start_time": "2022-06-22T12:05:45.203278",
     "status": "completed"
    },
    "tags": []
   },
   "outputs": [],
   "source": [
    "gen = network.Generator(n_features+1).to(device)\n",
    "disc = network.Discriminator(n_features+1).to(device)\n",
    "\n",
    "criterion = torch.nn.BCELoss()\n",
    "gen_opt = torch.optim.Adam(gen.parameters(), lr=0.001, betas=(0.5, 0.999))\n",
    "disc_opt = torch.optim.Adam(disc.parameters(), lr=0.001, betas=(0.5, 0.999))"
   ]
  },
  {
   "cell_type": "code",
   "execution_count": 12,
   "id": "b75fdd85",
   "metadata": {
    "execution": {
     "iopub.execute_input": "2022-06-22T12:05:45.314127Z",
     "iopub.status.busy": "2022-06-22T12:05:45.313383Z",
     "iopub.status.idle": "2022-06-22T12:06:27.373226Z",
     "shell.execute_reply": "2022-06-22T12:06:27.373681Z"
    },
    "papermill": {
     "duration": 42.098784,
     "end_time": "2022-06-22T12:06:27.373887",
     "exception": false,
     "start_time": "2022-06-22T12:05:45.275103",
     "status": "completed"
    },
    "tags": []
   },
   "outputs": [
    {
     "data": {
      "image/png": "[encoded data removed]",
      "text/plain": [
       "<Figure size 432x288 with 1 Axes>"
      ]
     },
     "metadata": {
      "needs_background": "light"
     },
     "output_type": "display_data"
    },
    {
     "data": {
      "image/png": "[encoded data removed]",
      "text/plain": [
       "<Figure size 432x288 with 1 Axes>"
      ]
     },
     "metadata": {
      "needs_background": "light"
     },
     "output_type": "display_data"
    }
   ],
   "source": [
    "#Training the ABC_GAN \n",
    "ABC_train_test2.training_GAN(disc,gen,disc_opt,gen_opt,train_data,batch_size,n_epochs,criterion,prior_model,variance,bias,device)"
   ]
  },
  {
   "cell_type": "code",
   "execution_count": 13,
   "id": "1fa7c368",
   "metadata": {
    "execution": {
     "iopub.execute_input": "2022-06-22T12:06:27.444417Z",
     "iopub.status.busy": "2022-06-22T12:06:27.443657Z",
     "iopub.status.idle": "2022-06-22T12:06:28.082930Z",
     "shell.execute_reply": "2022-06-22T12:06:28.083509Z"
    },
    "papermill": {
     "duration": 0.680785,
     "end_time": "2022-06-22T12:06:28.083763",
     "exception": false,
     "start_time": "2022-06-22T12:06:27.402978",
     "status": "completed"
    },
    "tags": []
   },
   "outputs": [
    {
     "data": {
      "application/scrapbook.scrap.json+json": {
       "data": 0.2414895644266671,
       "encoder": "json",
       "name": "ABC-GAN Model 1 MSE",
       "version": 1
      }
     },
     "metadata": {
      "scrapbook": {
       "data": true,
       "display": false,
       "name": "ABC-GAN Model 1 MSE"
      }
     },
     "output_type": "display_data"
    },
    {
     "data": {
      "application/scrapbook.scrap.json+json": {
       "data": 0.4115039727706462,
       "encoder": "json",
       "name": "ABC-GAN Model 1 MAE",
       "version": 1
      }
     },
     "metadata": {
      "scrapbook": {
       "data": true,
       "display": false,
       "name": "ABC-GAN Model 1 MAE"
      }
     },
     "output_type": "display_data"
    },
    {
     "data": {
      "application/scrapbook.scrap.json+json": {
       "data": 8.230079455412925,
       "encoder": "json",
       "name": "ABC-GAN Model 1 Manhattan Distance",
       "version": 1
      }
     },
     "metadata": {
      "scrapbook": {
       "data": true,
       "display": false,
       "name": "ABC-GAN Model 1 Manhattan Distance"
      }
     },
     "output_type": "display_data"
    },
    {
     "data": {
      "application/scrapbook.scrap.json+json": {
       "data": 2.197161904842033,
       "encoder": "json",
       "name": "ABC-GAN Model 1 Euclidean distance",
       "version": 1
      }
     },
     "metadata": {
      "scrapbook": {
       "data": true,
       "display": false,
       "name": "ABC-GAN Model 1 Euclidean distance"
      }
     },
     "output_type": "display_data"
    },
    {
     "data": {
      "application/scrapbook.scrap.json+json": {
       "data": [
        [
         0.23740563316321367,
         0.23513784658058978,
         0.23465192102255963,
         0.23414746940869086,
         0.24510358086268108,
         0.2483757441800924,
         0.22790859281048298,
         0.2396599421845961,
         0.23437023087133574,
         0.24783198651437116,
         0.2506741879866263,
         0.24237116087957117,
         0.25179470516408775,
         0.22685076041700972,
         0.24084425194587836,
         0.23032425433544818,
         0.26201269571871894,
         0.24691659435211943,
         0.26551927835372885,
         0.21812111975682885,
         0.24100116189416979,
         0.2512976267336187,
         0.2472929224193198,
         0.24757130334990637,
         0.2492981257490819,
         0.23801064950566894,
         0.24891721273735085,
         0.23521899852996753,
         0.25272807984205087,
         0.23997935166162204,
         0.2619674867391665,
         0.23224028265440175,
         0.250515884463116,
         0.22350014796068568,
         0.24443633000600035,
         0.23693439814810607,
         0.22891878139667435,
         0.23294229275692357,
         0.2396863257322312,
         0.2390246150560087,
         0.2251670845013214,
         0.23372310943030628,
         0.23748966332713484,
         0.2597746468164645,
         0.2359176426252608,
         0.24506539729106458,
         0.21953608093837226,
         0.2391287004838809,
         0.2235937130928582,
         0.2500276118780681,
         0.2569717882435825,
         0.2411515102514806,
         0.23239921893243826,
         0.23476336165657347,
         0.24331248773809122,
         0.24097564394580134,
         0.2366662402160699,
         0.26262349594024814,
         0.24609156583592456,
         0.27193907639689624,
         0.2524732106725428,
         0.2526085500498826,
         0.244214654810229,
         0.25486359092513605,
         0.2527096131128612,
         0.2347195585229988,
         0.25317224886225465,
         0.2471226540032206,
         0.21758725279422325,
         0.23851842530136674,
         0.2368310825910041,
         0.23366899266400706,
         0.2389244248444677,
         0.25052129980636395,
         0.24722578881459198,
         0.22485148815009084,
         0.23223827064619265,
         0.25093969028269886,
         0.23669114370634206,
         0.24957891308089852,
         0.24064436333748568,
         0.23973644413858683,
         0.24173290217564714,
         0.23503522131806762,
         0.23558933781234712,
         0.2435104915666359,
         0.2458152823237842,
         0.2446831392606315,
         0.2423719249453317,
         0.23671316820638194,
         0.2282770093217298,
         0.23352683406401709,
         0.24931707621641355,
         0.24934335502145358,
         0.23912648822468582,
         0.25983560648617854,
         0.23459206626529974,
         0.22252222795946106,
         0.23790230180445354,
         0.24139837519020416
        ],
        [
         0.4068318009376526,
         0.4047151617705822,
         0.4129542920738459,
         0.40767637118697164,
         0.4189999680966139,
         0.4172619665041566,
         0.40060555301606654,
         0.40134440138936045,
         0.39976583756506445,
         0.4115342482924461,
         0.42832436561584475,
         0.40949237123131754,
         0.42079535126686096,
         0.40999132841825486,
         0.4195387877523899,
         0.39947569370269775,
         0.43646268025040624,
         0.41313824206590655,
         0.4267315696924925,
         0.398533158749342,
         0.3976929999887943,
         0.41863575465977193,
         0.4198252256959677,
         0.40858748368918896,
         0.4207623369991779,
         0.42002207674086095,
         0.4144280269742012,
         0.403664318472147,
         0.414380775205791,
         0.4042191872373223,
         0.4341435648500919,
         0.41065725646913054,
         0.41625906676054003,
         0.3941038714721799,
         0.4137351829558611,
         0.40845976322889327,
         0.39678765535354615,
         0.40543871857225894,
         0.41559200510382655,
         0.4083357900381088,
         0.3875809796154499,
         0.40393810123205187,
         0.41089876405894754,
         0.4354343619197607,
         0.39984995163977144,
         0.41217963602393864,
         0.3827487491071224,
         0.41079382263123987,
         0.39901817254722116,
         0.41585818603634833,
         0.41691877879202366,
         0.41122972425073384,
         0.40374810583889487,
         0.40106417536735534,
         0.41213511154055593,
         0.4073074162006378,
         0.4078208412975073,
         0.43492994606494906,
         0.42135318331420424,
         0.43535091206431387,
         0.4197777409106493,
         0.4277044001966715,
         0.41092500519007447,
         0.42879793234169483,
         0.41757432408630846,
         0.4043730668723583,
         0.42102273032069204,
         0.417138409614563,
         0.38859132379293443,
         0.4078357979655266,
         0.41436948999762535,
         0.4100331224501133,
         0.40181541033089163,
         0.4081541795283556,
         0.4249204207211733,
         0.39654902182519436,
         0.40877599753439425,
         0.421114768460393,
         0.4109497148543596,
         0.42443336118012664,
         0.40718031767755747,
         0.41379406340420244,
         0.4164779204875231,
         0.39811088480055334,
         0.4108112119138241,
         0.42313043512403964,
         0.42173279747366904,
         0.41305802911520006,
         0.41645677872002124,
         0.3907810300588608,
         0.4001567026600242,
         0.39922738298773763,
         0.41879063472151756,
         0.41491883285343645,
         0.4067866925150156,
         0.4259346483275294,
         0.4101340968161821,
         0.38962207101285457,
         0.411453041434288,
         0.41692035719752313
        ],
        [
         8.136636018753052,
         8.094303235411644,
         8.259085841476917,
         8.153527423739433,
         8.379999361932278,
         8.345239330083132,
         8.012111060321331,
         8.026888027787209,
         7.995316751301289,
         8.230684965848923,
         8.566487312316895,
         8.18984742462635,
         8.41590702533722,
         8.199826568365097,
         8.390775755047798,
         7.989513874053955,
         8.729253605008125,
         8.26276484131813,
         8.53463139384985,
         7.970663174986839,
         7.9538599997758865,
         8.372715093195438,
         8.396504513919353,
         8.17174967378378,
         8.415246739983559,
         8.400441534817219,
         8.288560539484024,
         8.07328636944294,
         8.28761550411582,
         8.084383744746447,
         8.682871297001839,
         8.21314512938261,
         8.3251813352108,
         7.882077429443598,
         8.274703659117222,
         8.169195264577866,
         7.935753107070923,
         8.108774371445179,
         8.31184010207653,
         8.166715800762177,
         7.751619592308998,
         8.078762024641037,
         8.217975281178951,
         8.708687238395214,
         7.996999032795429,
         8.243592720478773,
         7.654974982142448,
         8.215876452624798,
         7.980363450944424,
         8.317163720726967,
         8.338375575840473,
         8.224594485014677,
         8.074962116777897,
         8.021283507347107,
         8.242702230811119,
         8.146148324012756,
         8.156416825950146,
         8.69859892129898,
         8.427063666284084,
         8.707018241286278,
         8.395554818212986,
         8.55408800393343,
         8.218500103801489,
         8.575958646833897,
         8.35148648172617,
         8.087461337447166,
         8.420454606413841,
         8.34276819229126,
         7.771826475858688,
         8.156715959310532,
         8.287389799952507,
         8.200662449002266,
         8.036308206617832,
         8.163083590567112,
         8.498408414423466,
         7.930980436503887,
         8.175519950687885,
         8.422295369207859,
         8.218994297087193,
         8.488667223602533,
         8.14360635355115,
         8.27588126808405,
         8.329558409750462,
         7.962217696011066,
         8.216224238276482,
         8.462608702480793,
         8.434655949473381,
         8.261160582304,
         8.329135574400425,
         7.815620601177216,
         8.003134053200483,
         7.984547659754753,
         8.375812694430351,
         8.29837665706873,
         8.135733850300312,
         8.518692966550589,
         8.202681936323643,
         7.7924414202570915,
         8.22906082868576,
         8.338407143950462
        ],
        [
         2.179016444009607,
         2.168584084515008,
         2.166342175292535,
         2.1640123354948364,
         2.2140622433106123,
         2.228792247743573,
         2.1349875541111847,
         2.189337535349888,
         2.1650414816872945,
         2.2263512144959123,
         2.239081007854009,
         2.201686448518822,
         2.2440797898652702,
         2.1300270440396276,
         2.1947403124100053,
         2.1462723701126483,
         2.289160089284797,
         2.2222357856542563,
         2.3044273837711997,
         2.088641279668813,
         2.1954551322865594,
         2.241863629811674,
         2.2239286068546344,
         2.225180007774231,
         2.2329268942313445,
         2.1817912343103267,
         2.2312203510068245,
         2.1689582685241664,
         2.2482352183081327,
         2.190795981654257,
         2.2889625892057146,
         2.1551811183953973,
         2.2383738939824864,
         2.1142381510165107,
         2.211046494337016,
         2.176852765568246,
         2.139713912637268,
         2.1584359742967756,
         2.189458041307169,
         2.1864336946544194,
         2.1221078412810286,
         2.1620504593108194,
         2.1794020433464536,
         2.2793623968841135,
         2.1721769846182464,
         2.2138897772520862,
         2.0954048818229487,
         2.186909693992328,
         2.114680652452555,
         2.2361914581630447,
         2.267032369612673,
         2.196139841865634,
         2.1559184536175677,
         2.166856532660035,
         2.2059577862601594,
         2.19533889842002,
         2.1756205561451654,
         2.291826764571215,
         2.218520073544184,
         2.332119535516549,
         2.247101291319743,
         2.247703494902664,
         2.2100436864923236,
         2.2577138477899985,
         2.2481530780303247,
         2.1666543726353718,
         2.2502099851447404,
         2.223162855047828,
         2.0860836646415852,
         2.1841173288143967,
         2.176378104057308,
         2.161800141844787,
         2.1859754108610994,
         2.2383980870540605,
         2.223626716940557,
         2.120620136422791,
         2.155171782694793,
         2.240266458628075,
         2.1757350192812637,
         2.234184025906991,
         2.193829361356465,
         2.1896869371605927,
         2.19878558379687,
         2.168110796606426,
         2.1706650492987034,
         2.206855190385794,
         2.217274373296116,
         2.212162468086969,
         2.201689918882001,
         2.1758362447867348,
         2.1367124716336066,
         2.1611424481695654,
         2.2330117609023628,
         2.2331294410376374,
         2.1868995780542178,
         2.279629822958888,
         2.166065863566017,
         2.1096076789747475,
         2.1812945780176207,
         2.1972636400314105
        ]
       ],
       "encoder": "json",
       "name": "ABC_GAN_1 Metrics",
       "version": 1
      }
     },
     "metadata": {
      "scrapbook": {
       "data": true,
       "display": false,
       "name": "ABC_GAN_1 Metrics"
      }
     },
     "output_type": "display_data"
    },
    {
     "name": "stdout",
     "output_type": "stream",
     "text": [
      "MSE\n",
      "0.2414895644266671\n"
     ]
    }
   ],
   "source": [
    "ABC_GAN1_metrics=ABC_train_test2.test_generator(gen,test_data,prior_model,variance,bias,\"1\",device)\n",
    "sb.glue(\"ABC_GAN_1 Metrics\",ABC_GAN1_metrics)\n",
    "\n",
    "print(\"MSE\")\n",
    "print(mean(ABC_GAN1_metrics[0]))"
   ]
  },
  {
   "cell_type": "code",
   "execution_count": 14,
   "id": "eb22ce5c",
   "metadata": {
    "execution": {
     "iopub.execute_input": "2022-06-22T12:06:28.162194Z",
     "iopub.status.busy": "2022-06-22T12:06:28.161510Z",
     "iopub.status.idle": "2022-06-22T12:06:28.909279Z",
     "shell.execute_reply": "2022-06-22T12:06:28.909723Z"
    },
    "papermill": {
     "duration": 0.791168,
     "end_time": "2022-06-22T12:06:28.909942",
     "exception": false,
     "start_time": "2022-06-22T12:06:28.118774",
     "status": "completed"
    },
    "tags": []
   },
   "outputs": [
    {
     "data": {
      "image/png": "[encoded data removed]",
      "text/plain": [
       "<Figure size 432x288 with 1 Axes>"
      ]
     },
     "metadata": {
      "needs_background": "light"
     },
     "output_type": "display_data"
    },
    {
     "data": {
      "image/png": "[encoded data removed]",
      "text/plain": [
       "<Figure size 432x288 with 1 Axes>"
      ]
     },
     "metadata": {
      "needs_background": "light"
     },
     "output_type": "display_data"
    },
    {
     "data": {
      "image/png": "[encoded data removed]",
      "text/plain": [
       "<Figure size 432x288 with 1 Axes>"
      ]
     },
     "metadata": {
      "needs_background": "light"
     },
     "output_type": "display_data"
    },
    {
     "data": {
      "image/png": "[encoded data removed]",
      "text/plain": [
       "<Figure size 432x288 with 1 Axes>"
      ]
     },
     "metadata": {
      "needs_background": "light"
     },
     "output_type": "display_data"
    }
   ],
   "source": [
    "sanityChecks.discProbVsError(train_data,disc,device)\n",
    "sanityChecks.discProbVsError(test_data,disc,device)"
   ]
  },
  {
   "cell_type": "markdown",
   "id": "130f3a4d",
   "metadata": {
    "id": "130f3a4d",
    "papermill": {
     "duration": 0.042487,
     "end_time": "2022-06-22T12:06:28.988700",
     "exception": false,
     "start_time": "2022-06-22T12:06:28.946213",
     "status": "completed"
    },
    "tags": []
   },
   "source": [
    "# ABC - GAN Model with skip connection"
   ]
  },
  {
   "cell_type": "code",
   "execution_count": 15,
   "id": "4e43dad1",
   "metadata": {
    "execution": {
     "iopub.execute_input": "2022-06-22T12:06:29.085832Z",
     "iopub.status.busy": "2022-06-22T12:06:29.084897Z",
     "iopub.status.idle": "2022-06-22T12:06:29.088232Z",
     "shell.execute_reply": "2022-06-22T12:06:29.088834Z"
    },
    "id": "4e43dad1",
    "papermill": {
     "duration": 0.054741,
     "end_time": "2022-06-22T12:06:29.089046",
     "exception": false,
     "start_time": "2022-06-22T12:06:29.034305",
     "status": "completed"
    },
    "tags": []
   },
   "outputs": [],
   "source": [
    "#Generator\n",
    "gen3 = network.GeneratorWithSkipConnection(n_features+1).to(device)\n",
    "constraints=network.weightConstraint()\n",
    "#Discriminator \n",
    "disc3 = network.Discriminator(n_features+1).to(device)\n",
    "\n",
    "criterion = torch.nn.BCELoss()\n",
    "gen_opt = torch.optim.Adam(gen3.parameters(), lr=0.001, betas=(0.5, 0.999))\n",
    "disc_opt = torch.optim.Adam(disc3.parameters(), lr=0.001, betas=(0.5, 0.999))\n"
   ]
  },
  {
   "cell_type": "code",
   "execution_count": 16,
   "id": "26acbc37",
   "metadata": {
    "execution": {
     "iopub.execute_input": "2022-06-22T12:06:29.170346Z",
     "iopub.status.busy": "2022-06-22T12:06:29.169572Z",
     "iopub.status.idle": "2022-06-22T12:07:36.089815Z",
     "shell.execute_reply": "2022-06-22T12:07:36.090335Z"
    },
    "id": "26acbc37",
    "papermill": {
     "duration": 66.964108,
     "end_time": "2022-06-22T12:07:36.090535",
     "exception": false,
     "start_time": "2022-06-22T12:06:29.126427",
     "status": "completed"
    },
    "tags": []
   },
   "outputs": [
    {
     "data": {
      "image/png": "[encoded data removed]",
      "text/plain": [
       "<Figure size 432x288 with 1 Axes>"
      ]
     },
     "metadata": {
      "needs_background": "light"
     },
     "output_type": "display_data"
    },
    {
     "data": {
      "image/png": "[encoded data removed]",
      "text/plain": [
       "<Figure size 432x288 with 1 Axes>"
      ]
     },
     "metadata": {
      "needs_background": "light"
     },
     "output_type": "display_data"
    }
   ],
   "source": [
    "ABC_train_test2.training_GAN_skip_connection(disc3,gen3,disc_opt,gen_opt,train_data,batch_size,n_epochs,criterion,prior_model,variance,bias,device)"
   ]
  },
  {
   "cell_type": "code",
   "execution_count": 17,
   "id": "c5e0717b",
   "metadata": {
    "execution": {
     "iopub.execute_input": "2022-06-22T12:07:36.180872Z",
     "iopub.status.busy": "2022-06-22T12:07:36.180021Z",
     "iopub.status.idle": "2022-06-22T12:07:36.952502Z",
     "shell.execute_reply": "2022-06-22T12:07:36.953020Z"
    },
    "id": "c5e0717b",
    "papermill": {
     "duration": 0.82327,
     "end_time": "2022-06-22T12:07:36.953235",
     "exception": false,
     "start_time": "2022-06-22T12:07:36.129965",
     "status": "completed"
    },
    "tags": []
   },
   "outputs": [
    {
     "data": {
      "application/scrapbook.scrap.json+json": {
       "data": 0.2788473266622416,
       "encoder": "json",
       "name": "ABC-GAN Model 3 MSE",
       "version": 1
      }
     },
     "metadata": {
      "scrapbook": {
       "data": true,
       "display": false,
       "name": "ABC-GAN Model 3 MSE"
      }
     },
     "output_type": "display_data"
    },
    {
     "data": {
      "application/scrapbook.scrap.json+json": {
       "data": 0.43754622254893183,
       "encoder": "json",
       "name": "ABC-GAN Model 3 MAE",
       "version": 1
      }
     },
     "metadata": {
      "scrapbook": {
       "data": true,
       "display": false,
       "name": "ABC-GAN Model 3 MAE"
      }
     },
     "output_type": "display_data"
    },
    {
     "data": {
      "application/scrapbook.scrap.json+json": {
       "data": 8.750924450978637,
       "encoder": "json",
       "name": "ABC-GAN Model 3 Manhattan Distance",
       "version": 1
      }
     },
     "metadata": {
      "scrapbook": {
       "data": true,
       "display": false,
       "name": "ABC-GAN Model 3 Manhattan Distance"
      }
     },
     "output_type": "display_data"
    },
    {
     "data": {
      "application/scrapbook.scrap.json+json": {
       "data": 2.3605501213739677,
       "encoder": "json",
       "name": "ABC-GAN Model 3 Euclidean distance",
       "version": 1
      }
     },
     "metadata": {
      "scrapbook": {
       "data": true,
       "display": false,
       "name": "ABC-GAN Model 3 Euclidean distance"
      }
     },
     "output_type": "display_data"
    },
    {
     "data": {
      "application/scrapbook.scrap.json+json": {
       "data": [
        [
         0.26208816733053286,
         0.27662639729803573,
         0.24541688653174729,
         0.2762521169621956,
         0.26531687247592356,
         0.28515327231106974,
         0.26493262661987727,
         0.27647130278045046,
         0.27142559964581553,
         0.2983606919677978,
         0.265576692042668,
         0.28672601142933557,
         0.2898226420717488,
         0.3129154293564182,
         0.2757879673775361,
         0.2749308490814042,
         0.294700223833592,
         0.27616970407692,
         0.2758279800054694,
         0.24691159901280665,
         0.3041219897893794,
         0.28533121001664585,
         0.3180622507106151,
         0.25931300678231367,
         0.2958960353031606,
         0.2847913626493645,
         0.28191875309799624,
         0.27527811969386723,
         0.291251813008127,
         0.28880658046301544,
         0.27925658059701025,
         0.27994437227068186,
         0.279824856139841,
         0.2876661892958829,
         0.27268801687461164,
         0.24968612466470694,
         0.29216314498295615,
         0.2644106262298564,
         0.26352334640887126,
         0.26856391585821837,
         0.28420749793086436,
         0.29461233459004005,
         0.26694015723581,
         0.29254237389737014,
         0.27537150130261356,
         0.255312710821532,
         0.26701035471793544,
         0.2668446972593047,
         0.2569932197958046,
         0.27774722105550187,
         0.28749272895615163,
         0.2868004636190175,
         0.27924614697259115,
         0.2854000796241364,
         0.26462819679983046,
         0.2820146351786409,
         0.24257222375941065,
         0.2837944718152964,
         0.31223720739558963,
         0.2545602003226871,
         0.2757002267298605,
         0.31789588585369116,
         0.28632233949122105,
         0.2861942087714789,
         0.26224784648473465,
         0.2881243625659542,
         0.2836679939523963,
         0.28671770500117166,
         0.30282803059077223,
         0.27415085604778955,
         0.26530414546554,
         0.25810653624453456,
         0.2870671036213311,
         0.29790996571953343,
         0.2899851980898282,
         0.27568932793308454,
         0.27009410154161106,
         0.29714039718467394,
         0.307095212975306,
         0.2814713274010429,
         0.2934781300113219,
         0.29253997508069507,
         0.2807730754430684,
         0.2813876223745169,
         0.26234435289328617,
         0.28867879299289406,
         0.26857534757492985,
         0.28017611804864917,
         0.25924086116253225,
         0.3102086538147695,
         0.2503370619414762,
         0.2990054621690067,
         0.28571193372426423,
         0.27040278269312235,
         0.29367507033646023,
         0.2763674723877657,
         0.2556473262667583,
         0.27474967858782057,
         0.2407161188520218,
         0.2667643081046487
        ],
        [
         0.4143591560423374,
         0.4399195535108447,
         0.4012065947055817,
         0.4369763368740678,
         0.4092583727091551,
         0.4432410694658756,
         0.4282905742526054,
         0.4339333200827241,
         0.4362229485064745,
         0.4613556988537312,
         0.42772145410999657,
         0.4498226325958967,
         0.4532634310424328,
         0.4490963850170374,
         0.4355354968458414,
         0.4261298205703497,
         0.4502765078097582,
         0.4341839276254177,
         0.4368966681882739,
         0.40794262401759623,
         0.45836854316294195,
         0.4412336528301239,
         0.46129874102771284,
         0.42229355331510304,
         0.4465520966798067,
         0.44157575257122517,
         0.4453766167163849,
         0.42746400497853754,
         0.4490713059902191,
         0.4548788422718644,
         0.43936955705285075,
         0.4371210633777082,
         0.44244562573730944,
         0.44576197527348993,
         0.43747745268046856,
         0.41569202207028866,
         0.45345298331230877,
         0.4291264537721872,
         0.4266719289124012,
         0.4281769052147865,
         0.44267357476055624,
         0.4543782342225313,
         0.4296071231365204,
         0.45464312434196474,
         0.43592704012989997,
         0.4158260527998209,
         0.4318838373757899,
         0.44403671734035016,
         0.4266020506620407,
         0.4475166752934456,
         0.4534054106101394,
         0.4408455744385719,
         0.42586058415472505,
         0.4371961932629347,
         0.42435321137309073,
         0.4394336149096489,
         0.4080100435763597,
         0.4407572530210018,
         0.4563468024134636,
         0.4165991276502609,
         0.43847702592611315,
         0.46474330723285673,
         0.44951126649975776,
         0.43926164135336876,
         0.4161339482292533,
         0.4485368937253952,
         0.44888951666653154,
         0.446264686062932,
         0.4558925531804562,
         0.43374064322561023,
         0.4308390382677317,
         0.4174805238842964,
         0.4350902486592531,
         0.44099280759692194,
         0.4394551381468773,
         0.4319321192800999,
         0.4267175681889057,
         0.454832348972559,
         0.4642324704676867,
         0.43555323146283625,
         0.46173263266682624,
         0.44880892168730496,
         0.4285509021952748,
         0.4258914448320866,
         0.4309462375938892,
         0.4584034990519285,
         0.4242755927145481,
         0.4383022188208997,
         0.42859384678304197,
         0.4642261233180761,
         0.41060016490519047,
         0.4496533252298832,
         0.43873823061585426,
         0.42986876275390384,
         0.4493134878575802,
         0.441021640971303,
         0.42237785644829273,
         0.45068049915134906,
         0.399945798702538,
         0.42917019631713627
        ],
        [
         8.287183120846748,
         8.798391070216894,
         8.024131894111633,
         8.739526737481356,
         8.185167454183102,
         8.864821389317513,
         8.565811485052109,
         8.678666401654482,
         8.72445897012949,
         9.227113977074623,
         8.554429082199931,
         8.996452651917934,
         9.065268620848656,
         8.981927700340748,
         8.710709936916828,
         8.522596411406994,
         9.005530156195164,
         8.683678552508354,
         8.737933363765478,
         8.158852480351925,
         9.167370863258839,
         8.824673056602478,
         9.225974820554256,
         8.445871066302061,
         8.931041933596134,
         8.831515051424503,
         8.907532334327698,
         8.549280099570751,
         8.981426119804382,
         9.097576845437288,
         8.787391141057014,
         8.742421267554164,
         8.84891251474619,
         8.915239505469799,
         8.749549053609371,
         8.313840441405773,
         9.069059666246176,
         8.582529075443745,
         8.533438578248024,
         8.56353810429573,
         8.853471495211124,
         9.087564684450626,
         8.592142462730408,
         9.092862486839294,
         8.718540802598,
         8.316521055996418,
         8.637676747515798,
         8.880734346807003,
         8.532041013240814,
         8.950333505868912,
         9.068108212202787,
         8.816911488771439,
         8.517211683094501,
         8.743923865258694,
         8.487064227461815,
         8.788672298192978,
         8.160200871527195,
         8.815145060420036,
         9.126936048269272,
         8.331982553005219,
         8.769540518522263,
         9.294866144657135,
         8.990225329995155,
         8.785232827067375,
         8.322678964585066,
         8.970737874507904,
         8.977790333330631,
         8.92529372125864,
         9.117851063609123,
         8.674812864512205,
         8.616780765354633,
         8.349610477685928,
         8.701804973185062,
         8.819856151938438,
         8.789102762937546,
         8.638642385601997,
         8.534351363778114,
         9.09664697945118,
         9.284649409353733,
         8.711064629256725,
         9.234652653336525,
         8.9761784337461,
         8.571018043905497,
         8.517828896641731,
         8.618924751877785,
         9.16806998103857,
         8.485511854290962,
         8.766044376417994,
         8.571876935660839,
         9.284522466361523,
         8.21200329810381,
         8.993066504597664,
         8.774764612317085,
         8.597375255078077,
         8.986269757151604,
         8.82043281942606,
         8.447557128965855,
         9.013609983026981,
         7.99891597405076,
         8.583403926342726
        ],
        [
         2.2894897568258865,
         2.352132637833316,
         2.215476863033091,
         2.3505408610028273,
         2.303548881512713,
         2.388109178036338,
         2.301880216778785,
         2.3514731671037645,
         2.3299167351895456,
         2.442788128216599,
         2.304676515447094,
         2.3946858308735846,
         2.407582364413516,
         2.5016611655314884,
         2.3485653807272904,
         2.344913000865508,
         2.427757087657626,
         2.350190222415709,
         2.348735745057197,
         2.2222133066508563,
         2.4662602854904807,
         2.3888541605407636,
         2.5221508706285403,
         2.277336192933813,
         2.4326776823211107,
         2.3865932315724208,
         2.3745262815896404,
         2.34639348658262,
         2.4135111891521324,
         2.403358402165667,
         2.363288304871034,
         2.366196831502746,
         2.365691679572133,
         2.398608718802977,
         2.3353287429165586,
         2.2346638434659782,
         2.4172841991911342,
         2.299611385559988,
         2.2957497529516204,
         2.317601846125509,
         2.3841455405694694,
         2.427395042386138,
         2.3105850221786257,
         2.418852512648798,
         2.346791432158442,
         2.2597022406570826,
         2.3108888104707046,
         2.310171843215585,
         2.267126903355013,
         2.3568929591965007,
         2.3978854391156874,
         2.3949967165698474,
         2.3632441557003423,
         2.389142438717861,
         2.300557309870069,
         2.374930041827089,
         2.2025994813374976,
         2.382412524376483,
         2.4989486084975403,
         2.256369651997151,
         2.3481917584808123,
         2.5214911693428204,
         2.3929995381997924,
         2.392464038481995,
         2.290187094910521,
         2.400518121431097,
         2.3818815837585054,
         2.3946511436999405,
         2.4610080478973337,
         2.34158431856634,
         2.3034936312720293,
         2.2720322895792413,
         2.396109778876298,
         2.440942300504186,
         2.4082574533875243,
         2.3481453444498896,
         2.324194921006459,
         2.4377875099551805,
         2.4782865571814168,
         2.3726412598664925,
         2.422718019131908,
         2.4188425954604615,
         2.3696965014240465,
         2.372288441039651,
         2.29060844708687,
         2.402826639576372,
         2.317651171228879,
         2.3671760308377965,
         2.2770193726120658,
         2.4908177525253405,
         2.2375748565868188,
         2.4454261884956034,
         2.3904473795683696,
         2.325522662513192,
         2.423530772804258,
         2.35103157098226,
         2.2611825502013687,
         2.344140262816287,
         2.194156415810057,
         2.30982383789175
        ]
       ],
       "encoder": "json",
       "name": "ABC_GAN_3 Metrics",
       "version": 1
      }
     },
     "metadata": {
      "scrapbook": {
       "data": true,
       "display": false,
       "name": "ABC_GAN_3 Metrics"
      }
     },
     "output_type": "display_data"
    },
    {
     "name": "stdout",
     "output_type": "stream",
     "text": [
      "MSE\n",
      "0.2788473266622416\n"
     ]
    }
   ],
   "source": [
    "ABC_GAN3_metrics=ABC_train_test2.test_generator(gen3,test_data,prior_model,variance,bias,\"3\",device)\n",
    "sb.glue(\"ABC_GAN_3 Metrics\",ABC_GAN3_metrics)\n",
    "\n",
    "print(\"MSE\")\n",
    "print(mean(ABC_GAN3_metrics[0]))"
   ]
  },
  {
   "cell_type": "code",
   "execution_count": 18,
   "id": "c8e46b48",
   "metadata": {
    "execution": {
     "iopub.execute_input": "2022-06-22T12:07:37.051320Z",
     "iopub.status.busy": "2022-06-22T12:07:37.050592Z",
     "iopub.status.idle": "2022-06-22T12:07:37.773185Z",
     "shell.execute_reply": "2022-06-22T12:07:37.773631Z"
    },
    "id": "c8e46b48",
    "papermill": {
     "duration": 0.777075,
     "end_time": "2022-06-22T12:07:37.773884",
     "exception": false,
     "start_time": "2022-06-22T12:07:36.996809",
     "status": "completed"
    },
    "tags": []
   },
   "outputs": [
    {
     "data": {
      "image/png": "[encoded data removed]",
      "text/plain": [
       "<Figure size 432x288 with 1 Axes>"
      ]
     },
     "metadata": {
      "needs_background": "light"
     },
     "output_type": "display_data"
    },
    {
     "data": {
      "image/png": "[encoded data removed]",
      "text/plain": [
       "<Figure size 432x288 with 1 Axes>"
      ]
     },
     "metadata": {
      "needs_background": "light"
     },
     "output_type": "display_data"
    },
    {
     "data": {
      "image/png": "[encoded data removed]",
      "text/plain": [
       "<Figure size 432x288 with 1 Axes>"
      ]
     },
     "metadata": {
      "needs_background": "light"
     },
     "output_type": "display_data"
    },
    {
     "data": {
      "image/png": "[encoded data removed]",
      "text/plain": [
       "<Figure size 432x288 with 1 Axes>"
      ]
     },
     "metadata": {
      "needs_background": "light"
     },
     "output_type": "display_data"
    }
   ],
   "source": [
    "sanityChecks.discProbVsError(train_data,disc3,device)\n",
    "sanityChecks.discProbVsError(test_data,disc3,device)"
   ]
  },
  {
   "cell_type": "markdown",
   "id": "a5bd74c3",
   "metadata": {
    "id": "a5bd74c3",
    "papermill": {
     "duration": 0.056887,
     "end_time": "2022-06-22T12:07:37.881834",
     "exception": false,
     "start_time": "2022-06-22T12:07:37.824947",
     "status": "completed"
    },
    "tags": []
   },
   "source": [
    "## Skip Connection Model Analysis - ABC-GAN "
   ]
  },
  {
   "cell_type": "markdown",
   "id": "5744a8bf",
   "metadata": {
    "id": "5744a8bf",
    "papermill": {
     "duration": 0.053145,
     "end_time": "2022-06-22T12:07:37.979046",
     "exception": false,
     "start_time": "2022-06-22T12:07:37.925901",
     "status": "completed"
    },
    "tags": []
   },
   "source": [
    "### Weight Analysis \n",
    "\n",
    "Study the weights of the skip connection layer\n",
    "\n",
    "Equation of the skip connection is \n",
    "\n",
    "$output = y_{gan} * w + y_{abc} * (1-w)$"
   ]
  },
  {
   "cell_type": "code",
   "execution_count": 19,
   "id": "52c31dea",
   "metadata": {
    "execution": {
     "iopub.execute_input": "2022-06-22T12:07:38.094474Z",
     "iopub.status.busy": "2022-06-22T12:07:38.093668Z",
     "iopub.status.idle": "2022-06-22T12:07:38.102183Z",
     "shell.execute_reply": "2022-06-22T12:07:38.101550Z"
    },
    "id": "52c31dea",
    "papermill": {
     "duration": 0.073269,
     "end_time": "2022-06-22T12:07:38.102493",
     "exception": false,
     "start_time": "2022-06-22T12:07:38.029224",
     "status": "completed"
    },
    "tags": []
   },
   "outputs": [
    {
     "name": "stdout",
     "output_type": "stream",
     "text": [
      "Weight of the node at skip connection\n",
      "Parameter containing:\n",
      "tensor([[0.1642]], requires_grad=True)\n"
     ]
    },
    {
     "data": {
      "application/scrapbook.scrap.json+json": {
       "data": 0.16416122019290924,
       "encoder": "json",
       "name": "Skip Connection Weight",
       "version": 1
      }
     },
     "metadata": {
      "scrapbook": {
       "data": true,
       "display": false,
       "name": "Skip Connection Weight"
      }
     },
     "output_type": "display_data"
    }
   ],
   "source": [
    "print(\"Weight of the node at skip connection\")\n",
    "for name,param in gen3.named_parameters():\n",
    "    if(name == \"skipNode.weight\"):\n",
    "        print(param)\n",
    "        sb.glue(\"Skip Connection Weight\",param.item())"
   ]
  }
 ],
 "metadata": {
  "colab": {
   "collapsed_sections": [],
   "name": "ABC_GAN_Model-Catboost_Pre-gen.ipynb",
   "provenance": []
  },
  "interpreter": {
   "hash": "31f2aee4e71d21fbe5cf8b01ff0e069b9275f58929596ceb00d14d90e3e16cd6"
  },
  "kernelspec": {
   "display_name": "Python 3 (ipykernel)",
   "language": "python",
   "name": "python3"
  },
  "language_info": {
   "codemirror_mode": {
    "name": "ipython",
    "version": 3
   },
   "file_extension": ".py",
   "mimetype": "text/x-python",
   "name": "python",
   "nbconvert_exporter": "python",
   "pygments_lexer": "ipython3",
   "version": "3.8.3"
  },
  "papermill": {
   "default_parameters": {},
   "duration": 136.47255,
   "end_time": "2022-06-22T12:07:39.500032",
   "environment_variables": {},
   "exception": null,
   "input_path": "ABC_GAN-TabNet.ipynb",
   "output_path": "./ABC_GAN_TabNet/ABC-GAN_output_2_4.ipynb",
   "parameters": {
    "bias": 0.1,
    "variance": 0.1
   },
   "start_time": "2022-06-22T12:05:23.027482",
   "version": "2.3.3"
  }
 },
 "nbformat": 4,
 "nbformat_minor": 5
}