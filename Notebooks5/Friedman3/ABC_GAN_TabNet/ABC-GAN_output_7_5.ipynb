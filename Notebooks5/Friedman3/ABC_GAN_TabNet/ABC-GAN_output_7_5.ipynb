{
 "cells": [
  {
   "cell_type": "markdown",
   "id": "622780e6",
   "metadata": {
    "id": "622780e6",
    "papermill": {
     "duration": 0.01694,
     "end_time": "2022-06-22T14:58:11.948635",
     "exception": false,
     "start_time": "2022-06-22T14:58:11.931695",
     "status": "completed"
    },
    "tags": []
   },
   "source": [
    "## Import Libraries "
   ]
  },
  {
   "cell_type": "code",
   "execution_count": 1,
   "id": "a62397e3",
   "metadata": {
    "execution": {
     "iopub.execute_input": "2022-06-22T14:58:11.999205Z",
     "iopub.status.busy": "2022-06-22T14:58:11.998365Z",
     "iopub.status.idle": "2022-06-22T14:58:12.012102Z",
     "shell.execute_reply": "2022-06-22T14:58:12.013783Z"
    },
    "id": "a62397e3",
    "papermill": {
     "duration": 0.050273,
     "end_time": "2022-06-22T14:58:12.014201",
     "exception": false,
     "start_time": "2022-06-22T14:58:11.963928",
     "status": "completed"
    },
    "tags": []
   },
   "outputs": [],
   "source": [
    "import warnings\n",
    "import sys\n",
    "sys.path.insert(0, '../../src')\n",
    "warnings.filterwarnings('ignore')"
   ]
  },
  {
   "cell_type": "code",
   "execution_count": 2,
   "id": "d6a4e155",
   "metadata": {
    "execution": {
     "iopub.execute_input": "2022-06-22T14:58:12.052746Z",
     "iopub.status.busy": "2022-06-22T14:58:12.051802Z",
     "iopub.status.idle": "2022-06-22T14:58:18.482467Z",
     "shell.execute_reply": "2022-06-22T14:58:18.483040Z"
    },
    "id": "d6a4e155",
    "papermill": {
     "duration": 6.451768,
     "end_time": "2022-06-22T14:58:18.483280",
     "exception": false,
     "start_time": "2022-06-22T14:58:12.031512",
     "status": "completed"
    },
    "tags": []
   },
   "outputs": [],
   "source": [
    "import ABC_train_test2\n",
    "import friedman3Dataset\n",
    "import network\n",
    "import dataset\n",
    "import sanityChecks\n",
    "import torch \n",
    "import scrapbook as sb\n",
    "from statistics import mean \n",
    "import catboost as ctb \n",
    "from sklearn.model_selection import train_test_split\n",
    "from sklearn.metrics import mean_squared_error,mean_absolute_error\n",
    "import numpy as np\n",
    "from pytorch_tabnet.tab_model import TabNetRegressor"
   ]
  },
  {
   "cell_type": "markdown",
   "id": "2fa5b0f7",
   "metadata": {
    "id": "2fa5b0f7",
    "papermill": {
     "duration": 0.029023,
     "end_time": "2022-06-22T14:58:18.528118",
     "exception": false,
     "start_time": "2022-06-22T14:58:18.499095",
     "status": "completed"
    },
    "tags": []
   },
   "source": [
    "## Parameters "
   ]
  },
  {
   "cell_type": "code",
   "execution_count": 3,
   "id": "783186fb",
   "metadata": {
    "execution": {
     "iopub.execute_input": "2022-06-22T14:58:18.607895Z",
     "iopub.status.busy": "2022-06-22T14:58:18.606783Z",
     "iopub.status.idle": "2022-06-22T14:58:18.612266Z",
     "shell.execute_reply": "2022-06-22T14:58:18.613926Z"
    },
    "id": "783186fb",
    "papermill": {
     "duration": 0.047229,
     "end_time": "2022-06-22T14:58:18.614286",
     "exception": false,
     "start_time": "2022-06-22T14:58:18.567057",
     "status": "completed"
    },
    "tags": [
     "parameters"
    ]
   },
   "outputs": [],
   "source": [
    "variance = 1\n",
    "bias = 1 "
   ]
  },
  {
   "cell_type": "code",
   "execution_count": 4,
   "id": "d6971517",
   "metadata": {
    "execution": {
     "iopub.execute_input": "2022-06-22T14:58:18.672018Z",
     "iopub.status.busy": "2022-06-22T14:58:18.670487Z",
     "iopub.status.idle": "2022-06-22T14:58:18.675085Z",
     "shell.execute_reply": "2022-06-22T14:58:18.675885Z"
    },
    "papermill": {
     "duration": 0.04067,
     "end_time": "2022-06-22T14:58:18.676459",
     "exception": false,
     "start_time": "2022-06-22T14:58:18.635789",
     "status": "completed"
    },
    "tags": [
     "injected-parameters"
    ]
   },
   "outputs": [],
   "source": [
    "# Parameters\n",
    "variance = 0.01\n",
    "bias = 0.1\n"
   ]
  },
  {
   "cell_type": "markdown",
   "id": "391cdbfd",
   "metadata": {
    "id": "391cdbfd",
    "papermill": {
     "duration": 0.029771,
     "end_time": "2022-06-22T14:58:18.724355",
     "exception": false,
     "start_time": "2022-06-22T14:58:18.694584",
     "status": "completed"
    },
    "tags": []
   },
   "source": [
    "## Dataset \n"
   ]
  },
  {
   "cell_type": "code",
   "execution_count": 5,
   "id": "5b51f161",
   "metadata": {
    "execution": {
     "iopub.execute_input": "2022-06-22T14:58:18.795673Z",
     "iopub.status.busy": "2022-06-22T14:58:18.793265Z",
     "iopub.status.idle": "2022-06-22T14:58:18.797245Z",
     "shell.execute_reply": "2022-06-22T14:58:18.798128Z"
    },
    "id": "5b51f161",
    "papermill": {
     "duration": 0.043645,
     "end_time": "2022-06-22T14:58:18.798463",
     "exception": false,
     "start_time": "2022-06-22T14:58:18.754818",
     "status": "completed"
    },
    "tags": []
   },
   "outputs": [],
   "source": [
    "#Parameters \n",
    "n_features = 4\n",
    "n_samples= 100\n",
    "n_target = 1"
   ]
  },
  {
   "cell_type": "code",
   "execution_count": 6,
   "id": "5d6eced4",
   "metadata": {
    "execution": {
     "iopub.execute_input": "2022-06-22T14:58:18.867429Z",
     "iopub.status.busy": "2022-06-22T14:58:18.866480Z",
     "iopub.status.idle": "2022-06-22T14:58:18.878219Z",
     "shell.execute_reply": "2022-06-22T14:58:18.878797Z"
    },
    "id": "5d6eced4",
    "papermill": {
     "duration": 0.060476,
     "end_time": "2022-06-22T14:58:18.879077",
     "exception": false,
     "start_time": "2022-06-22T14:58:18.818601",
     "status": "completed"
    },
    "tags": []
   },
   "outputs": [
    {
     "name": "stdout",
     "output_type": "stream",
     "text": [
      "          X1           X2        X3         X4         Y\n",
      "0  23.146085   250.539872  0.220290  10.973169  1.448777\n",
      "1  89.152563   420.526982  0.788883   6.870042  1.251704\n",
      "2  34.115129   378.275716  0.528923   3.140046  1.320818\n",
      "3  71.354912   282.623259  0.864443   8.371236  1.343080\n",
      "4  26.239678  1545.017995  0.422677   3.891327  1.533441\n"
     ]
    }
   ],
   "source": [
    "X,Y = friedman3Dataset.friedman3_data(n_samples)"
   ]
  },
  {
   "cell_type": "code",
   "execution_count": 7,
   "id": "fe007438",
   "metadata": {
    "execution": {
     "iopub.execute_input": "2022-06-22T14:58:18.931535Z",
     "iopub.status.busy": "2022-06-22T14:58:18.929742Z",
     "iopub.status.idle": "2022-06-22T14:58:18.934064Z",
     "shell.execute_reply": "2022-06-22T14:58:18.934566Z"
    },
    "id": "fe007438",
    "papermill": {
     "duration": 0.036948,
     "end_time": "2022-06-22T14:58:18.934802",
     "exception": false,
     "start_time": "2022-06-22T14:58:18.897854",
     "status": "completed"
    },
    "tags": []
   },
   "outputs": [],
   "source": [
    "#Train test split for dataset \n",
    "X_train,X_test,Y_train,Y_test = train_test_split(X,Y,test_size = 0.2)\n",
    "train_data = dataset.CustomDataset(X_train,Y_train)\n",
    "test_data = dataset.CustomDataset(X_test,Y_test)\n"
   ]
  },
  {
   "cell_type": "markdown",
   "id": "a9a1af34",
   "metadata": {
    "id": "a9a1af34",
    "papermill": {
     "duration": 0.028194,
     "end_time": "2022-06-22T14:58:18.979662",
     "exception": false,
     "start_time": "2022-06-22T14:58:18.951468",
     "status": "completed"
    },
    "tags": []
   },
   "source": [
    "## Training Parameters "
   ]
  },
  {
   "cell_type": "code",
   "execution_count": 8,
   "id": "952b7fc8",
   "metadata": {
    "execution": {
     "iopub.execute_input": "2022-06-22T14:58:19.054613Z",
     "iopub.status.busy": "2022-06-22T14:58:19.053059Z",
     "iopub.status.idle": "2022-06-22T14:58:19.057110Z",
     "shell.execute_reply": "2022-06-22T14:58:19.057901Z"
    },
    "id": "952b7fc8",
    "papermill": {
     "duration": 0.045562,
     "end_time": "2022-06-22T14:58:19.058343",
     "exception": false,
     "start_time": "2022-06-22T14:58:19.012781",
     "status": "completed"
    },
    "tags": []
   },
   "outputs": [],
   "source": [
    "batch_size = 32\n",
    "n_epochs = 1000\n",
    "#Select the device \n",
    "device = torch.device('cuda' if torch.cuda.is_available() else 'cpu')"
   ]
  },
  {
   "cell_type": "markdown",
   "id": "a95e1600",
   "metadata": {
    "id": "a95e1600",
    "papermill": {
     "duration": 0.014554,
     "end_time": "2022-06-22T14:58:19.089753",
     "exception": false,
     "start_time": "2022-06-22T14:58:19.075199",
     "status": "completed"
    },
    "tags": []
   },
   "source": [
    "# ABC Pre-generator Model \n",
    "\n",
    "1. The catboost model is used as a pre-generator model for the ABC-GAN. \n",
    "2. The model is first trained on the entire dataset \n",
    "3. It generats X,Y pairs and we add some Gaussian noise with mean 0 and variance 1 to it which is then feed as input to the generator.\n"
   ]
  },
  {
   "cell_type": "code",
   "execution_count": 9,
   "id": "ff8ce7bd",
   "metadata": {
    "execution": {
     "iopub.execute_input": "2022-06-22T14:58:19.120527Z",
     "iopub.status.busy": "2022-06-22T14:58:19.119726Z",
     "iopub.status.idle": "2022-06-22T14:58:31.981136Z",
     "shell.execute_reply": "2022-06-22T14:58:31.981608Z"
    },
    "id": "ff8ce7bd",
    "papermill": {
     "duration": 12.879169,
     "end_time": "2022-06-22T14:58:31.981827",
     "exception": false,
     "start_time": "2022-06-22T14:58:19.102658",
     "status": "completed"
    },
    "tags": []
   },
   "outputs": [
    {
     "name": "stdout",
     "output_type": "stream",
     "text": [
      "Device used : cpu\n"
     ]
    },
    {
     "name": "stdout",
     "output_type": "stream",
     "text": [
      "epoch 0  | loss: 0.97957 | train_mse: 4.00958 | train_mae: 1.59863 |  0:00:00s\n",
      "epoch 1  | loss: 0.68795 | train_mse: 1.96231 | train_mae: 1.04727 |  0:00:00s\n",
      "epoch 2  | loss: 0.57587 | train_mse: 1.07182 | train_mae: 0.81622 |  0:00:00s\n"
     ]
    },
    {
     "name": "stdout",
     "output_type": "stream",
     "text": [
      "epoch 3  | loss: 0.67479 | train_mse: 1.05747 | train_mae: 0.80121 |  0:00:00s\n",
      "epoch 4  | loss: 0.53116 | train_mse: 0.77958 | train_mae: 0.71693 |  0:00:00s\n",
      "epoch 5  | loss: 0.5488  | train_mse: 0.60589 | train_mae: 0.60965 |  0:00:00s\n"
     ]
    },
    {
     "name": "stdout",
     "output_type": "stream",
     "text": [
      "epoch 6  | loss: 0.41473 | train_mse: 0.52452 | train_mae: 0.56359 |  0:00:00s\n",
      "epoch 7  | loss: 0.34843 | train_mse: 0.50527 | train_mae: 0.55464 |  0:00:00s\n",
      "epoch 8  | loss: 0.36174 | train_mse: 0.4679  | train_mae: 0.52591 |  0:00:00s\n"
     ]
    },
    {
     "name": "stdout",
     "output_type": "stream",
     "text": [
      "epoch 9  | loss: 0.30606 | train_mse: 0.5835  | train_mae: 0.58832 |  0:00:00s\n",
      "epoch 10 | loss: 0.23453 | train_mse: 0.72811 | train_mae: 0.59226 |  0:00:00s\n",
      "epoch 11 | loss: 0.26856 | train_mse: 0.86723 | train_mae: 0.63414 |  0:00:01s\n"
     ]
    },
    {
     "name": "stdout",
     "output_type": "stream",
     "text": [
      "epoch 12 | loss: 0.21318 | train_mse: 0.73851 | train_mae: 0.59643 |  0:00:01s\n",
      "epoch 13 | loss: 0.14726 | train_mse: 0.9078  | train_mae: 0.59666 |  0:00:01s\n",
      "epoch 14 | loss: 0.1911  | train_mse: 0.44924 | train_mae: 0.44677 |  0:00:01s\n",
      "epoch 15 | loss: 0.12071 | train_mse: 0.20182 | train_mae: 0.34981 |  0:00:01s\n"
     ]
    },
    {
     "name": "stdout",
     "output_type": "stream",
     "text": [
      "epoch 16 | loss: 0.18316 | train_mse: 0.21199 | train_mae: 0.3353  |  0:00:01s\n",
      "epoch 17 | loss: 0.12765 | train_mse: 0.16329 | train_mae: 0.31247 |  0:00:01s\n",
      "epoch 18 | loss: 0.18337 | train_mse: 0.25086 | train_mae: 0.38163 |  0:00:01s\n",
      "epoch 19 | loss: 0.11655 | train_mse: 0.1866  | train_mae: 0.33884 |  0:00:01s\n"
     ]
    },
    {
     "name": "stdout",
     "output_type": "stream",
     "text": [
      "epoch 20 | loss: 0.09516 | train_mse: 0.13624 | train_mae: 0.28854 |  0:00:01s\n",
      "epoch 21 | loss: 0.29596 | train_mse: 0.14027 | train_mae: 0.27737 |  0:00:01s\n",
      "epoch 22 | loss: 0.19825 | train_mse: 0.16068 | train_mae: 0.29024 |  0:00:01s\n",
      "epoch 23 | loss: 0.18612 | train_mse: 0.14983 | train_mae: 0.28821 |  0:00:01s\n"
     ]
    },
    {
     "name": "stdout",
     "output_type": "stream",
     "text": [
      "epoch 24 | loss: 0.15301 | train_mse: 0.12964 | train_mae: 0.28735 |  0:00:01s\n",
      "epoch 25 | loss: 0.1333  | train_mse: 0.13065 | train_mae: 0.28225 |  0:00:01s\n",
      "epoch 26 | loss: 0.24337 | train_mse: 0.12745 | train_mae: 0.26392 |  0:00:02s\n",
      "epoch 27 | loss: 0.19358 | train_mse: 0.14494 | train_mae: 0.27958 |  0:00:02s\n"
     ]
    },
    {
     "name": "stdout",
     "output_type": "stream",
     "text": [
      "epoch 28 | loss: 0.16479 | train_mse: 0.1884  | train_mae: 0.31922 |  0:00:02s\n",
      "epoch 29 | loss: 0.10067 | train_mse: 0.22964 | train_mae: 0.36566 |  0:00:02s\n",
      "epoch 30 | loss: 0.17301 | train_mse: 0.19469 | train_mae: 0.33844 |  0:00:02s\n",
      "epoch 31 | loss: 0.16827 | train_mse: 0.17719 | train_mae: 0.31276 |  0:00:02s\n"
     ]
    },
    {
     "name": "stdout",
     "output_type": "stream",
     "text": [
      "epoch 32 | loss: 0.11411 | train_mse: 0.1762  | train_mae: 0.29793 |  0:00:02s\n",
      "epoch 33 | loss: 0.09462 | train_mse: 0.14173 | train_mae: 0.278   |  0:00:02s\n",
      "epoch 34 | loss: 0.18458 | train_mse: 0.08523 | train_mae: 0.23186 |  0:00:02s\n",
      "epoch 35 | loss: 0.11228 | train_mse: 0.07993 | train_mae: 0.22996 |  0:00:02s\n"
     ]
    },
    {
     "name": "stdout",
     "output_type": "stream",
     "text": [
      "epoch 36 | loss: 0.12863 | train_mse: 0.08162 | train_mae: 0.22726 |  0:00:02s\n",
      "epoch 37 | loss: 0.12754 | train_mse: 0.08195 | train_mae: 0.22428 |  0:00:02s\n",
      "epoch 38 | loss: 0.09519 | train_mse: 0.0786  | train_mae: 0.22805 |  0:00:02s\n"
     ]
    },
    {
     "name": "stdout",
     "output_type": "stream",
     "text": [
      "epoch 39 | loss: 0.12929 | train_mse: 0.0781  | train_mae: 0.22397 |  0:00:02s\n",
      "epoch 40 | loss: 0.12723 | train_mse: 0.08519 | train_mae: 0.23644 |  0:00:02s\n",
      "epoch 41 | loss: 0.12967 | train_mse: 0.07528 | train_mae: 0.21354 |  0:00:03s\n"
     ]
    },
    {
     "name": "stdout",
     "output_type": "stream",
     "text": [
      "epoch 42 | loss: 0.11279 | train_mse: 0.07827 | train_mae: 0.20982 |  0:00:03s\n",
      "epoch 43 | loss: 0.12737 | train_mse: 0.08802 | train_mae: 0.2204  |  0:00:03s\n",
      "epoch 44 | loss: 0.21703 | train_mse: 0.09793 | train_mae: 0.23346 |  0:00:03s\n"
     ]
    },
    {
     "name": "stdout",
     "output_type": "stream",
     "text": [
      "epoch 45 | loss: 0.10021 | train_mse: 0.08673 | train_mae: 0.22185 |  0:00:03s\n",
      "epoch 46 | loss: 0.12898 | train_mse: 0.10001 | train_mae: 0.23294 |  0:00:03s\n",
      "epoch 47 | loss: 0.24897 | train_mse: 0.09783 | train_mae: 0.23328 |  0:00:03s\n"
     ]
    },
    {
     "name": "stdout",
     "output_type": "stream",
     "text": [
      "epoch 48 | loss: 0.22487 | train_mse: 0.07544 | train_mae: 0.20836 |  0:00:03s\n",
      "epoch 49 | loss: 0.08626 | train_mse: 0.07876 | train_mae: 0.21517 |  0:00:03s\n",
      "epoch 50 | loss: 0.15203 | train_mse: 0.06985 | train_mae: 0.20398 |  0:00:03s\n"
     ]
    },
    {
     "name": "stdout",
     "output_type": "stream",
     "text": [
      "epoch 51 | loss: 0.09937 | train_mse: 0.06179 | train_mae: 0.19323 |  0:00:03s\n",
      "epoch 52 | loss: 0.18968 | train_mse: 0.06359 | train_mae: 0.19014 |  0:00:03s\n"
     ]
    },
    {
     "name": "stdout",
     "output_type": "stream",
     "text": [
      "epoch 53 | loss: 0.14165 | train_mse: 0.06544 | train_mae: 0.19416 |  0:00:04s\n"
     ]
    },
    {
     "name": "stdout",
     "output_type": "stream",
     "text": [
      "epoch 54 | loss: 0.08947 | train_mse: 0.07681 | train_mae: 0.21396 |  0:00:04s\n",
      "epoch 55 | loss: 0.07761 | train_mse: 0.08987 | train_mae: 0.23085 |  0:00:04s\n",
      "epoch 56 | loss: 0.19691 | train_mse: 0.11826 | train_mae: 0.25924 |  0:00:04s\n",
      "epoch 57 | loss: 0.0912  | train_mse: 0.11244 | train_mae: 0.25093 |  0:00:04s\n"
     ]
    },
    {
     "name": "stdout",
     "output_type": "stream",
     "text": [
      "epoch 58 | loss: 0.08156 | train_mse: 0.06897 | train_mae: 0.2082  |  0:00:04s\n",
      "epoch 59 | loss: 0.09518 | train_mse: 0.07728 | train_mae: 0.21159 |  0:00:04s\n",
      "epoch 60 | loss: 0.09935 | train_mse: 0.1077  | train_mae: 0.23127 |  0:00:04s\n",
      "epoch 61 | loss: 0.10842 | train_mse: 0.12293 | train_mae: 0.25084 |  0:00:04s\n"
     ]
    },
    {
     "name": "stdout",
     "output_type": "stream",
     "text": [
      "epoch 62 | loss: 0.08027 | train_mse: 0.11293 | train_mae: 0.24557 |  0:00:04s\n",
      "epoch 63 | loss: 0.05652 | train_mse: 0.07825 | train_mae: 0.2068  |  0:00:05s\n",
      "epoch 64 | loss: 0.12069 | train_mse: 0.05662 | train_mae: 0.18571 |  0:00:05s\n",
      "epoch 65 | loss: 0.07369 | train_mse: 0.05998 | train_mae: 0.19303 |  0:00:05s\n"
     ]
    },
    {
     "name": "stdout",
     "output_type": "stream",
     "text": [
      "epoch 66 | loss: 0.08592 | train_mse: 0.0762  | train_mae: 0.21607 |  0:00:05s\n",
      "epoch 67 | loss: 0.08675 | train_mse: 0.06658 | train_mae: 0.20166 |  0:00:05s\n",
      "epoch 68 | loss: 0.06153 | train_mse: 0.06616 | train_mae: 0.19058 |  0:00:05s\n",
      "epoch 69 | loss: 0.12158 | train_mse: 0.0778  | train_mae: 0.20605 |  0:00:05s\n"
     ]
    },
    {
     "name": "stdout",
     "output_type": "stream",
     "text": [
      "epoch 70 | loss: 0.07212 | train_mse: 0.07065 | train_mae: 0.1985  |  0:00:05s\n",
      "epoch 71 | loss: 0.10891 | train_mse: 0.05807 | train_mae: 0.18199 |  0:00:05s\n",
      "epoch 72 | loss: 0.08254 | train_mse: 0.05268 | train_mae: 0.17666 |  0:00:05s\n",
      "epoch 73 | loss: 0.05348 | train_mse: 0.08545 | train_mae: 0.20177 |  0:00:05s\n"
     ]
    },
    {
     "name": "stdout",
     "output_type": "stream",
     "text": [
      "epoch 74 | loss: 0.10877 | train_mse: 0.07847 | train_mae: 0.20252 |  0:00:05s\n",
      "epoch 75 | loss: 0.11751 | train_mse: 0.09531 | train_mae: 0.21468 |  0:00:05s\n",
      "epoch 76 | loss: 0.11977 | train_mse: 0.08084 | train_mae: 0.20694 |  0:00:05s\n",
      "epoch 77 | loss: 0.18102 | train_mse: 0.0823  | train_mae: 0.20757 |  0:00:05s\n"
     ]
    },
    {
     "name": "stdout",
     "output_type": "stream",
     "text": [
      "epoch 78 | loss: 0.10475 | train_mse: 0.07053 | train_mae: 0.17949 |  0:00:06s\n",
      "epoch 79 | loss: 0.13825 | train_mse: 0.07103 | train_mae: 0.19797 |  0:00:06s\n",
      "epoch 80 | loss: 0.10758 | train_mse: 0.0781  | train_mae: 0.20749 |  0:00:06s\n",
      "epoch 81 | loss: 0.16345 | train_mse: 0.13643 | train_mae: 0.26752 |  0:00:06s\n"
     ]
    },
    {
     "name": "stdout",
     "output_type": "stream",
     "text": [
      "epoch 82 | loss: 0.14227 | train_mse: 0.15359 | train_mae: 0.2854  |  0:00:06s\n",
      "epoch 83 | loss: 0.1162  | train_mse: 0.1399  | train_mae: 0.26501 |  0:00:06s\n",
      "epoch 84 | loss: 0.18937 | train_mse: 0.10523 | train_mae: 0.23196 |  0:00:06s\n",
      "epoch 85 | loss: 0.10391 | train_mse: 0.09507 | train_mae: 0.21753 |  0:00:06s\n"
     ]
    },
    {
     "name": "stdout",
     "output_type": "stream",
     "text": [
      "epoch 86 | loss: 0.1068  | train_mse: 0.07641 | train_mae: 0.20275 |  0:00:06s\n",
      "epoch 87 | loss: 0.12234 | train_mse: 0.06623 | train_mae: 0.20261 |  0:00:06s\n",
      "epoch 88 | loss: 0.10991 | train_mse: 0.06485 | train_mae: 0.20269 |  0:00:06s\n",
      "epoch 89 | loss: 0.11381 | train_mse: 0.06802 | train_mae: 0.20292 |  0:00:06s\n"
     ]
    },
    {
     "name": "stdout",
     "output_type": "stream",
     "text": [
      "epoch 90 | loss: 0.08917 | train_mse: 0.08403 | train_mae: 0.21946 |  0:00:06s\n",
      "epoch 91 | loss: 0.10664 | train_mse: 0.097   | train_mae: 0.2286  |  0:00:06s\n",
      "epoch 92 | loss: 0.21576 | train_mse: 0.10568 | train_mae: 0.23372 |  0:00:06s\n",
      "epoch 93 | loss: 0.16027 | train_mse: 0.06416 | train_mae: 0.18904 |  0:00:07s\n"
     ]
    },
    {
     "name": "stdout",
     "output_type": "stream",
     "text": [
      "epoch 94 | loss: 0.05985 | train_mse: 0.05701 | train_mae: 0.18074 |  0:00:07s\n",
      "epoch 95 | loss: 0.06116 | train_mse: 0.05308 | train_mae: 0.17756 |  0:00:07s\n",
      "epoch 96 | loss: 0.12706 | train_mse: 0.05167 | train_mae: 0.18034 |  0:00:07s\n",
      "epoch 97 | loss: 0.09505 | train_mse: 0.05663 | train_mae: 0.18878 |  0:00:07s\n"
     ]
    },
    {
     "name": "stdout",
     "output_type": "stream",
     "text": [
      "epoch 98 | loss: 0.0699  | train_mse: 0.05764 | train_mae: 0.1851  |  0:00:07s\n",
      "epoch 99 | loss: 0.11639 | train_mse: 0.05751 | train_mae: 0.18283 |  0:00:07s\n",
      "epoch 100| loss: 0.10233 | train_mse: 0.06812 | train_mae: 0.19209 |  0:00:07s\n",
      "epoch 101| loss: 0.0853  | train_mse: 0.06194 | train_mae: 0.1889  |  0:00:07s\n"
     ]
    },
    {
     "name": "stdout",
     "output_type": "stream",
     "text": [
      "epoch 102| loss: 0.07569 | train_mse: 0.06202 | train_mae: 0.18463 |  0:00:07s\n",
      "epoch 103| loss: 0.10189 | train_mse: 0.06488 | train_mae: 0.1872  |  0:00:07s\n",
      "epoch 104| loss: 0.1439  | train_mse: 0.0792  | train_mae: 0.20709 |  0:00:07s\n",
      "epoch 105| loss: 0.05003 | train_mse: 0.10121 | train_mae: 0.22816 |  0:00:07s\n"
     ]
    },
    {
     "name": "stdout",
     "output_type": "stream",
     "text": [
      "epoch 106| loss: 0.16998 | train_mse: 0.12074 | train_mae: 0.24956 |  0:00:07s\n",
      "epoch 107| loss: 0.07037 | train_mse: 0.12175 | train_mae: 0.25422 |  0:00:07s\n",
      "epoch 108| loss: 0.1613  | train_mse: 0.10384 | train_mae: 0.23361 |  0:00:08s\n",
      "epoch 109| loss: 0.25258 | train_mse: 0.13598 | train_mae: 0.26118 |  0:00:08s\n"
     ]
    },
    {
     "name": "stdout",
     "output_type": "stream",
     "text": [
      "epoch 110| loss: 0.07231 | train_mse: 0.10978 | train_mae: 0.23202 |  0:00:08s\n",
      "epoch 111| loss: 0.11079 | train_mse: 0.08844 | train_mae: 0.20938 |  0:00:08s\n",
      "epoch 112| loss: 0.09351 | train_mse: 0.10432 | train_mae: 0.22543 |  0:00:08s\n",
      "epoch 113| loss: 0.08181 | train_mse: 0.07833 | train_mae: 0.20299 |  0:00:08s\n"
     ]
    },
    {
     "name": "stdout",
     "output_type": "stream",
     "text": [
      "epoch 114| loss: 0.08915 | train_mse: 0.05315 | train_mae: 0.17905 |  0:00:08s\n",
      "epoch 115| loss: 0.06349 | train_mse: 0.06009 | train_mae: 0.19385 |  0:00:08s\n",
      "epoch 116| loss: 0.07344 | train_mse: 0.05985 | train_mae: 0.18558 |  0:00:08s\n",
      "epoch 117| loss: 0.17007 | train_mse: 0.05838 | train_mae: 0.18686 |  0:00:08s\n"
     ]
    },
    {
     "name": "stdout",
     "output_type": "stream",
     "text": [
      "epoch 118| loss: 0.0713  | train_mse: 0.05355 | train_mae: 0.17324 |  0:00:08s\n",
      "epoch 119| loss: 0.14312 | train_mse: 0.05513 | train_mae: 0.16662 |  0:00:08s\n",
      "epoch 120| loss: 0.09417 | train_mse: 0.06268 | train_mae: 0.174   |  0:00:08s\n",
      "epoch 121| loss: 0.11742 | train_mse: 0.07456 | train_mae: 0.19442 |  0:00:08s\n"
     ]
    },
    {
     "name": "stdout",
     "output_type": "stream",
     "text": [
      "epoch 122| loss: 0.0546  | train_mse: 0.06074 | train_mae: 0.18004 |  0:00:09s\n",
      "epoch 123| loss: 0.08358 | train_mse: 0.05136 | train_mae: 0.16741 |  0:00:09s\n",
      "epoch 124| loss: 0.05853 | train_mse: 0.05172 | train_mae: 0.16733 |  0:00:09s\n"
     ]
    },
    {
     "name": "stdout",
     "output_type": "stream",
     "text": [
      "epoch 125| loss: 0.11477 | train_mse: 0.05404 | train_mae: 0.17755 |  0:00:09s\n",
      "epoch 126| loss: 0.08046 | train_mse: 0.06404 | train_mae: 0.19492 |  0:00:09s\n",
      "epoch 127| loss: 0.07957 | train_mse: 0.06421 | train_mae: 0.19726 |  0:00:09s\n",
      "epoch 128| loss: 0.05933 | train_mse: 0.05214 | train_mae: 0.17144 |  0:00:09s\n"
     ]
    },
    {
     "name": "stdout",
     "output_type": "stream",
     "text": [
      "epoch 129| loss: 0.06695 | train_mse: 0.04084 | train_mae: 0.14287 |  0:00:09s\n",
      "epoch 130| loss: 0.09023 | train_mse: 0.03413 | train_mae: 0.13201 |  0:00:09s\n",
      "epoch 131| loss: 0.10562 | train_mse: 0.03923 | train_mae: 0.14206 |  0:00:09s\n",
      "epoch 132| loss: 0.05893 | train_mse: 0.0411  | train_mae: 0.1515  |  0:00:09s\n"
     ]
    },
    {
     "name": "stdout",
     "output_type": "stream",
     "text": [
      "epoch 133| loss: 0.05224 | train_mse: 0.04024 | train_mae: 0.15442 |  0:00:09s\n",
      "epoch 134| loss: 0.05914 | train_mse: 0.03928 | train_mae: 0.1498  |  0:00:09s\n",
      "epoch 135| loss: 0.06503 | train_mse: 0.04292 | train_mae: 0.15355 |  0:00:09s\n",
      "epoch 136| loss: 0.10212 | train_mse: 0.04452 | train_mae: 0.15232 |  0:00:09s\n"
     ]
    },
    {
     "name": "stdout",
     "output_type": "stream",
     "text": [
      "epoch 137| loss: 0.16767 | train_mse: 0.07117 | train_mae: 0.20082 |  0:00:09s\n",
      "epoch 138| loss: 0.07659 | train_mse: 0.07291 | train_mae: 0.20161 |  0:00:10s\n",
      "epoch 139| loss: 0.05211 | train_mse: 0.05192 | train_mae: 0.1689  |  0:00:10s\n"
     ]
    },
    {
     "name": "stdout",
     "output_type": "stream",
     "text": [
      "epoch 140| loss: 0.10648 | train_mse: 0.04096 | train_mae: 0.15044 |  0:00:10s\n",
      "epoch 141| loss: 0.07762 | train_mse: 0.04482 | train_mae: 0.16094 |  0:00:10s\n",
      "epoch 142| loss: 0.05715 | train_mse: 0.05521 | train_mae: 0.17704 |  0:00:10s\n",
      "epoch 143| loss: 0.06939 | train_mse: 0.0751  | train_mae: 0.20683 |  0:00:10s\n",
      "epoch 144| loss: 0.08361 | train_mse: 0.06688 | train_mae: 0.19525 |  0:00:10s\n"
     ]
    },
    {
     "name": "stdout",
     "output_type": "stream",
     "text": [
      "epoch 145| loss: 0.07155 | train_mse: 0.07418 | train_mae: 0.19197 |  0:00:10s\n",
      "epoch 146| loss: 0.145   | train_mse: 0.0976  | train_mae: 0.21856 |  0:00:10s\n",
      "epoch 147| loss: 0.14135 | train_mse: 0.06536 | train_mae: 0.18714 |  0:00:10s\n",
      "epoch 148| loss: 0.1264  | train_mse: 0.06466 | train_mae: 0.19672 |  0:00:10s\n"
     ]
    },
    {
     "name": "stdout",
     "output_type": "stream",
     "text": [
      "epoch 149| loss: 0.08137 | train_mse: 0.07187 | train_mae: 0.20482 |  0:00:10s\n",
      "epoch 150| loss: 0.12707 | train_mse: 0.07115 | train_mae: 0.19399 |  0:00:10s\n",
      "epoch 151| loss: 0.09314 | train_mse: 0.06534 | train_mae: 0.17717 |  0:00:10s\n",
      "epoch 152| loss: 0.09153 | train_mse: 0.05414 | train_mae: 0.16837 |  0:00:10s\n"
     ]
    },
    {
     "name": "stdout",
     "output_type": "stream",
     "text": [
      "epoch 153| loss: 0.07143 | train_mse: 0.04857 | train_mae: 0.16358 |  0:00:11s\n",
      "epoch 154| loss: 0.05325 | train_mse: 0.0533  | train_mae: 0.17683 |  0:00:11s\n",
      "epoch 155| loss: 0.04657 | train_mse: 0.05531 | train_mae: 0.18106 |  0:00:11s\n",
      "epoch 156| loss: 0.0565  | train_mse: 0.05876 | train_mae: 0.18187 |  0:00:11s\n"
     ]
    },
    {
     "name": "stdout",
     "output_type": "stream",
     "text": [
      "epoch 157| loss: 0.16338 | train_mse: 0.07681 | train_mae: 0.19976 |  0:00:11s\n",
      "epoch 158| loss: 0.05196 | train_mse: 0.083   | train_mae: 0.20708 |  0:00:11s\n",
      "epoch 159| loss: 0.04797 | train_mse: 0.07278 | train_mae: 0.19864 |  0:00:11s\n",
      "epoch 160| loss: 0.12457 | train_mse: 0.08276 | train_mae: 0.20183 |  0:00:11s\n"
     ]
    },
    {
     "name": "stdout",
     "output_type": "stream",
     "text": [
      "epoch 161| loss: 0.08338 | train_mse: 0.07813 | train_mae: 0.19472 |  0:00:11s\n",
      "epoch 162| loss: 0.10421 | train_mse: 0.07725 | train_mae: 0.18834 |  0:00:11s\n",
      "epoch 163| loss: 0.11811 | train_mse: 0.06914 | train_mae: 0.17684 |  0:00:11s\n",
      "epoch 164| loss: 0.07887 | train_mse: 0.05896 | train_mae: 0.17788 |  0:00:11s\n"
     ]
    },
    {
     "name": "stdout",
     "output_type": "stream",
     "text": [
      "epoch 165| loss: 0.08078 | train_mse: 0.07175 | train_mae: 0.19669 |  0:00:11s\n",
      "epoch 166| loss: 0.08532 | train_mse: 0.08041 | train_mae: 0.21323 |  0:00:11s\n",
      "epoch 167| loss: 0.10845 | train_mse: 0.06697 | train_mae: 0.18834 |  0:00:11s\n",
      "epoch 168| loss: 0.09179 | train_mse: 0.08903 | train_mae: 0.20349 |  0:00:12s\n"
     ]
    },
    {
     "name": "stdout",
     "output_type": "stream",
     "text": [
      "epoch 169| loss: 0.09195 | train_mse: 0.0985  | train_mae: 0.21011 |  0:00:12s\n",
      "epoch 170| loss: 0.0599  | train_mse: 0.08583 | train_mae: 0.19334 |  0:00:12s\n",
      "epoch 171| loss: 0.07696 | train_mse: 0.07232 | train_mae: 0.17268 |  0:00:12s\n",
      "epoch 172| loss: 0.07062 | train_mse: 0.06734 | train_mae: 0.16957 |  0:00:12s\n"
     ]
    },
    {
     "name": "stdout",
     "output_type": "stream",
     "text": [
      "epoch 173| loss: 0.06908 | train_mse: 0.04749 | train_mae: 0.15693 |  0:00:12s\n",
      "epoch 174| loss: 0.10158 | train_mse: 0.04524 | train_mae: 0.16201 |  0:00:12s\n",
      "epoch 175| loss: 0.06777 | train_mse: 0.04867 | train_mae: 0.16884 |  0:00:12s\n",
      "epoch 176| loss: 0.08239 | train_mse: 0.0511  | train_mae: 0.16889 |  0:00:12s\n"
     ]
    },
    {
     "name": "stdout",
     "output_type": "stream",
     "text": [
      "epoch 177| loss: 0.15801 | train_mse: 0.05661 | train_mae: 0.17649 |  0:00:12s\n",
      "epoch 178| loss: 0.08862 | train_mse: 0.04905 | train_mae: 0.16702 |  0:00:12s\n",
      "epoch 179| loss: 0.05839 | train_mse: 0.05261 | train_mae: 0.17842 |  0:00:12s\n",
      "epoch 180| loss: 0.06095 | train_mse: 0.06355 | train_mae: 0.1761  |  0:00:12s\n",
      "\n",
      "Early stopping occurred at epoch 180 with best_epoch = 130 and best_train_mae = 0.13201\n",
      "Best weights from best epoch are automatically used!\n"
     ]
    }
   ],
   "source": [
    "#Train the Model\n",
    "\n",
    "Y_train = np.reshape(Y_train, (-1, 1))\n",
    "Y_test = np.reshape(Y_test, (-1, 1))\n",
    "\n",
    "prior_model = TabNetRegressor(optimizer_fn=torch.optim.Adam, optimizer_params=dict(lr = 0.02),\n",
    "          #scheduler_params={\"step_size\":10, ], \"gamma\":0.9},\n",
    "          #scheduler_fn=torch.optim.lr_scheduler.StepLR\n",
    "          )  #TabNetRegressor()\n",
    "\n",
    "prior_model.fit(X_train,Y_train,eval_set=[(X_train, Y_train)],\n",
    "            eval_name=['train'], \n",
    "            eval_metric=[ 'mse', 'mae'], \n",
    "            max_epochs = n_epochs, \n",
    "            batch_size = batch_size,\n",
    "            patience=50\n",
    "            )"
   ]
  },
  {
   "cell_type": "code",
   "execution_count": 10,
   "id": "af65dcda",
   "metadata": {
    "execution": {
     "iopub.execute_input": "2022-06-22T14:58:32.052101Z",
     "iopub.status.busy": "2022-06-22T14:58:32.051170Z",
     "iopub.status.idle": "2022-06-22T14:58:32.077131Z",
     "shell.execute_reply": "2022-06-22T14:58:32.077786Z"
    },
    "id": "af65dcda",
    "papermill": {
     "duration": 0.071369,
     "end_time": "2022-06-22T14:58:32.078032",
     "exception": false,
     "start_time": "2022-06-22T14:58:32.006663",
     "status": "completed"
    },
    "tags": []
   },
   "outputs": [
    {
     "data": {
      "application/scrapbook.scrap.json+json": {
       "data": 0.30770192322961537,
       "encoder": "json",
       "name": "Prior Model MSE",
       "version": 1
      }
     },
     "metadata": {
      "scrapbook": {
       "data": true,
       "display": false,
       "name": "Prior Model MSE"
      }
     },
     "output_type": "display_data"
    },
    {
     "data": {
      "application/scrapbook.scrap.json+json": {
       "data": 0.32058986648496673,
       "encoder": "json",
       "name": "ABC Pre-generator MSE",
       "version": 1
      }
     },
     "metadata": {
      "scrapbook": {
       "data": true,
       "display": false,
       "name": "ABC Pre-generator MSE"
      }
     },
     "output_type": "display_data"
    },
    {
     "data": {
      "application/scrapbook.scrap.json+json": {
       "data": 0.4453477327923296,
       "encoder": "json",
       "name": "Prior Model MSE",
       "version": 1
      }
     },
     "metadata": {
      "scrapbook": {
       "data": true,
       "display": false,
       "name": "Prior Model MSE"
      }
     },
     "output_type": "display_data"
    },
    {
     "data": {
      "application/scrapbook.scrap.json+json": {
       "data": 0.45269286617111365,
       "encoder": "json",
       "name": "ABC Pre-generator MSE",
       "version": 1
      }
     },
     "metadata": {
      "scrapbook": {
       "data": true,
       "display": false,
       "name": "ABC Pre-generator MSE"
      }
     },
     "output_type": "display_data"
    }
   ],
   "source": [
    "y_pred = prior_model.predict(X_test)\n",
    "y_abc = y_pred + np.random.normal(0,variance, y_pred.shape) + bias \n",
    "mse = mean_squared_error(y_pred,Y_test)\n",
    "sb.glue(\"Prior Model MSE\",mse)\n",
    "mse = mean_squared_error(y_abc,Y_test)\n",
    "sb.glue(\"ABC Pre-generator MSE\",mse)\n",
    "mae = mean_absolute_error(y_pred,Y_test)\n",
    "sb.glue(\"Prior Model MSE\",mae)\n",
    "mae = mean_absolute_error(y_abc,Y_test)\n",
    "sb.glue(\"ABC Pre-generator MSE\",mae)"
   ]
  },
  {
   "cell_type": "markdown",
   "id": "25609da2",
   "metadata": {
    "papermill": {
     "duration": 0.031617,
     "end_time": "2022-06-22T14:58:32.139259",
     "exception": false,
     "start_time": "2022-06-22T14:58:32.107642",
     "status": "completed"
    },
    "tags": []
   },
   "source": [
    "# ABC GAN Model"
   ]
  },
  {
   "cell_type": "code",
   "execution_count": 11,
   "id": "dfc3464d",
   "metadata": {
    "execution": {
     "iopub.execute_input": "2022-06-22T14:58:32.205882Z",
     "iopub.status.busy": "2022-06-22T14:58:32.204497Z",
     "iopub.status.idle": "2022-06-22T14:58:32.208420Z",
     "shell.execute_reply": "2022-06-22T14:58:32.208921Z"
    },
    "papermill": {
     "duration": 0.037754,
     "end_time": "2022-06-22T14:58:32.209140",
     "exception": false,
     "start_time": "2022-06-22T14:58:32.171386",
     "status": "completed"
    },
    "tags": []
   },
   "outputs": [],
   "source": [
    "gen = network.Generator(n_features+1).to(device)\n",
    "disc = network.Discriminator(n_features+1).to(device)\n",
    "\n",
    "criterion = torch.nn.BCELoss()\n",
    "gen_opt = torch.optim.Adam(gen.parameters(), lr=0.001, betas=(0.5, 0.999))\n",
    "disc_opt = torch.optim.Adam(disc.parameters(), lr=0.001, betas=(0.5, 0.999))"
   ]
  },
  {
   "cell_type": "code",
   "execution_count": 12,
   "id": "b75fdd85",
   "metadata": {
    "execution": {
     "iopub.execute_input": "2022-06-22T14:58:32.285972Z",
     "iopub.status.busy": "2022-06-22T14:58:32.285113Z",
     "iopub.status.idle": "2022-06-22T14:59:11.637204Z",
     "shell.execute_reply": "2022-06-22T14:59:11.637897Z"
    },
    "papermill": {
     "duration": 39.396646,
     "end_time": "2022-06-22T14:59:11.638108",
     "exception": false,
     "start_time": "2022-06-22T14:58:32.241462",
     "status": "completed"
    },
    "tags": []
   },
   "outputs": [
    {
     "data": {
      "image/png": "[encoded data removed]",
      "text/plain": [
       "<Figure size 432x288 with 1 Axes>"
      ]
     },
     "metadata": {
      "needs_background": "light"
     },
     "output_type": "display_data"
    },
    {
     "data": {
      "image/png": "[encoded data removed]",
      "text/plain": [
       "<Figure size 432x288 with 1 Axes>"
      ]
     },
     "metadata": {
      "needs_background": "light"
     },
     "output_type": "display_data"
    }
   ],
   "source": [
    "#Training the ABC_GAN \n",
    "ABC_train_test2.training_GAN(disc,gen,disc_opt,gen_opt,train_data,batch_size,n_epochs,criterion,prior_model,variance,bias,device)"
   ]
  },
  {
   "cell_type": "code",
   "execution_count": 13,
   "id": "1fa7c368",
   "metadata": {
    "execution": {
     "iopub.execute_input": "2022-06-22T14:59:11.707975Z",
     "iopub.status.busy": "2022-06-22T14:59:11.705479Z",
     "iopub.status.idle": "2022-06-22T14:59:12.326516Z",
     "shell.execute_reply": "2022-06-22T14:59:12.326999Z"
    },
    "papermill": {
     "duration": 0.662215,
     "end_time": "2022-06-22T14:59:12.327297",
     "exception": false,
     "start_time": "2022-06-22T14:59:11.665082",
     "status": "completed"
    },
    "tags": []
   },
   "outputs": [
    {
     "data": {
      "application/scrapbook.scrap.json+json": {
       "data": 0.3238892559319429,
       "encoder": "json",
       "name": "ABC-GAN Model 1 MSE",
       "version": 1
      }
     },
     "metadata": {
      "scrapbook": {
       "data": true,
       "display": false,
       "name": "ABC-GAN Model 1 MSE"
      }
     },
     "output_type": "display_data"
    },
    {
     "data": {
      "application/scrapbook.scrap.json+json": {
       "data": 0.4400947020500898,
       "encoder": "json",
       "name": "ABC-GAN Model 1 MAE",
       "version": 1
      }
     },
     "metadata": {
      "scrapbook": {
       "data": true,
       "display": false,
       "name": "ABC-GAN Model 1 MAE"
      }
     },
     "output_type": "display_data"
    },
    {
     "data": {
      "application/scrapbook.scrap.json+json": {
       "data": 8.801894041001797,
       "encoder": "json",
       "name": "ABC-GAN Model 1 Manhattan Distance",
       "version": 1
      }
     },
     "metadata": {
      "scrapbook": {
       "data": true,
       "display": false,
       "name": "ABC-GAN Model 1 Manhattan Distance"
      }
     },
     "output_type": "display_data"
    },
    {
     "data": {
      "application/scrapbook.scrap.json+json": {
       "data": 2.5451340729607077,
       "encoder": "json",
       "name": "ABC-GAN Model 1 Euclidean distance",
       "version": 1
      }
     },
     "metadata": {
      "scrapbook": {
       "data": true,
       "display": false,
       "name": "ABC-GAN Model 1 Euclidean distance"
      }
     },
     "output_type": "display_data"
    },
    {
     "data": {
      "application/scrapbook.scrap.json+json": {
       "data": [
        [
         0.322742887491779,
         0.32622320620477585,
         0.325878194061476,
         0.32102973279298314,
         0.3260405297032527,
         0.32207495437742706,
         0.32349011708788805,
         0.32570486213119443,
         0.3239418546246148,
         0.32359475101453083,
         0.3254818815963924,
         0.3223164615536839,
         0.32089457219082884,
         0.32297248517929433,
         0.32363268907894305,
         0.32452776880526346,
         0.3210598649316449,
         0.3202107178388346,
         0.32473944988693915,
         0.32644970868321566,
         0.3235673894331863,
         0.3229850051527314,
         0.3248291647281974,
         0.3212869359403712,
         0.31996882681268946,
         0.32540680725108573,
         0.3200485566107222,
         0.3228237892240044,
         0.32410369401515476,
         0.327393478627752,
         0.3265881105008407,
         0.3248596269697472,
         0.32104804466962444,
         0.32324648878032275,
         0.32557508663500223,
         0.32637099925941593,
         0.3256287040651142,
         0.32485721683159474,
         0.32296975040313347,
         0.32278994388097093,
         0.328501909019302,
         0.32363828536565353,
         0.3232770978494606,
         0.32492171233870853,
         0.3247047061883575,
         0.32651400410850323,
         0.32290376111181457,
         0.3256870143350608,
         0.3263965072518983,
         0.3251700963067429,
         0.32570068970018584,
         0.3226321941942944,
         0.3248950684474647,
         0.3222576273203104,
         0.324722541502843,
         0.3222789115118574,
         0.32628390073803926,
         0.32461253241268834,
         0.3254902584178356,
         0.32116090477087295,
         0.32368388603783715,
         0.32042688146118403,
         0.32104381494851497,
         0.322310771515127,
         0.31988265791421566,
         0.3243672272629981,
         0.3207223813977879,
         0.32640162946874457,
         0.3226596108743676,
         0.3278768294907549,
         0.3286794149546646,
         0.32398531761961524,
         0.3241725751291277,
         0.3248886482197025,
         0.3231224287839688,
         0.32182311336828084,
         0.3217516045000351,
         0.3223748895095541,
         0.31866426282193266,
         0.3201353877643203,
         0.3239430814508236,
         0.3272445092291135,
         0.32658131475514424,
         0.32214350334153957,
         0.3235044846113073,
         0.32316160842154484,
         0.32415559754287404,
         0.328576026947486,
         0.32330264560231636,
         0.3240664850693299,
         0.3287022280712544,
         0.32594477431776003,
         0.3244429204935614,
         0.3239641789911601,
         0.321815855639383,
         0.3191259748613948,
         0.32426826651600205,
         0.3282886599449474,
         0.3235077585803595,
         0.32210835384573683
        ],
        [
         0.4408065177500248,
         0.4410339996218681,
         0.4432520426809788,
         0.43822878897190093,
         0.4415619716048241,
         0.44085373654961585,
         0.4393335185945034,
         0.4392652243375778,
         0.44298910796642305,
         0.43996572494506836,
         0.4403507724404335,
         0.43910124376416204,
         0.43966454863548277,
         0.44051474556326864,
         0.441665044426918,
         0.4374041654169559,
         0.4369769297540188,
         0.43784996047616004,
         0.4423801489174366,
         0.4417735651135445,
         0.4408123314380646,
         0.44033163115382196,
         0.4400043152272701,
         0.4396242283284664,
         0.43753793761134147,
         0.440521103143692,
         0.4375716023147106,
         0.440353911370039,
         0.4409480608999729,
         0.44154900759458543,
         0.44308720380067823,
         0.4419428981840611,
         0.44097832813858984,
         0.440185859054327,
         0.4417463719844818,
         0.4411700129508972,
         0.44234015345573424,
         0.44091038331389426,
         0.439633309841156,
         0.4388333007693291,
         0.4435600697994232,
         0.4415038041770458,
         0.44074051082134247,
         0.4417520105838776,
         0.44162845239043236,
         0.441421053558588,
         0.4370947018265724,
         0.44114800468087195,
         0.44001396000385284,
         0.43887595981359484,
         0.43963479101657865,
         0.4404336281120777,
         0.44211942702531815,
         0.439076142013073,
         0.44069020003080367,
         0.4403130277991295,
         0.44276141077280046,
         0.44009506404399873,
         0.4401518329977989,
         0.4385214127600193,
         0.4386888906359673,
         0.43725908026099203,
         0.4369616188108921,
         0.4388629667460918,
         0.43698173612356184,
         0.4401039324700832,
         0.4377577915787697,
         0.4410140685737133,
         0.4367882162332535,
         0.44248527139425275,
         0.4441626690328121,
         0.44182737171649933,
         0.4397886089980602,
         0.44105170369148256,
         0.44065618589520456,
         0.4372340112924576,
         0.4372530870139599,
         0.43767072036862376,
         0.4359066754579544,
         0.4351247072219849,
         0.43988426998257635,
         0.44235252514481543,
         0.4403281606733799,
         0.4381308101117611,
         0.43925212174654005,
         0.43768782913684845,
         0.4402898199856281,
         0.44399085119366644,
         0.4399117432534695,
         0.43973117396235467,
         0.44421238377690314,
         0.4388650365173817,
         0.44175795689225195,
         0.4388083890080452,
         0.4361798487603664,
         0.4386267766356468,
         0.4393275626003742,
         0.44453118443489076,
         0.4424257636070251,
         0.43900751173496244
        ],
        [
         8.816130355000496,
         8.820679992437363,
         8.865040853619576,
         8.764575779438019,
         8.831239432096481,
         8.817074730992317,
         8.786670371890068,
         8.785304486751556,
         8.85978215932846,
         8.799314498901367,
         8.80701544880867,
         8.782024875283241,
         8.793290972709656,
         8.810294911265373,
         8.83330088853836,
         8.748083308339119,
         8.739538595080376,
         8.756999209523201,
         8.847602978348732,
         8.83547130227089,
         8.816246628761292,
         8.806632623076439,
         8.800086304545403,
         8.792484566569328,
         8.75075875222683,
         8.81042206287384,
         8.751432046294212,
         8.80707822740078,
         8.818961217999458,
         8.830980151891708,
         8.861744076013565,
         8.838857963681221,
         8.819566562771797,
         8.80371718108654,
         8.834927439689636,
         8.823400259017944,
         8.846803069114685,
         8.818207666277885,
         8.79266619682312,
         8.776666015386581,
         8.871201395988464,
         8.830076083540916,
         8.81481021642685,
         8.835040211677551,
         8.832569047808647,
         8.82842107117176,
         8.741894036531448,
         8.82296009361744,
         8.800279200077057,
         8.777519196271896,
         8.792695820331573,
         8.808672562241554,
         8.842388540506363,
         8.78152284026146,
         8.813804000616074,
         8.80626055598259,
         8.855228215456009,
         8.801901280879974,
         8.803036659955978,
         8.770428255200386,
         8.773777812719345,
         8.745181605219841,
         8.739232376217842,
         8.777259334921837,
         8.739634722471237,
         8.802078649401665,
         8.755155831575394,
         8.820281371474266,
         8.73576432466507,
         8.849705427885056,
         8.883253380656242,
         8.836547434329987,
         8.795772179961205,
         8.82103407382965,
         8.81312371790409,
         8.744680225849152,
         8.745061740279198,
         8.753414407372475,
         8.718133509159088,
         8.702494144439697,
         8.797685399651527,
         8.847050502896309,
         8.806563213467598,
         8.762616202235222,
         8.785042434930801,
         8.753756582736969,
         8.805796399712563,
         8.87981702387333,
         8.79823486506939,
         8.794623479247093,
         8.884247675538063,
         8.777300730347633,
         8.83515913784504,
         8.776167780160904,
         8.723596975207329,
         8.772535532712936,
         8.786551252007484,
         8.890623688697815,
         8.848515272140503,
         8.78015023469925
        ],
        [
         2.5406412084030245,
         2.5543030603465042,
         2.552951993522307,
         2.533889235120522,
         2.5535877885956952,
         2.5380108525277314,
         2.54358061436192,
         2.5522729561361355,
         2.5453559854158505,
         2.5439919457990854,
         2.551399151823926,
         2.5389622350625216,
         2.533355767320606,
         2.5415447475080755,
         2.5441410695122353,
         2.5476568403349122,
         2.5340081488884163,
         2.530654926452181,
         2.5484875902658,
         2.5551896551262714,
         2.543884389799137,
         2.541594008305541,
         2.548839597653008,
         2.5349040847352438,
         2.529698902291296,
         2.551104887107097,
         2.5300140577108348,
         2.540959618821222,
         2.5459917282471864,
         2.5588805311219667,
         2.5557312476113,
         2.548959109008017,
         2.533961501955483,
         2.542622617614823,
         2.551764435189903,
         2.5548815990547036,
         2.55197454558275,
         2.548949653608697,
         2.5415339871940863,
         2.5408264162707805,
         2.5632085713780763,
         2.5441630661797348,
         2.542742998611777,
         2.549202668830819,
         2.548351255962794,
         2.5554412695599296,
         2.5412743303776337,
         2.5522030261523505,
         2.5549814373176893,
         2.5501768421297486,
         2.5522566081810263,
         2.54020548064244,
         2.549098148159324,
         2.538730498971131,
         2.548421242663163,
         2.538814335519072,
         2.5545406661004217,
         2.5479895306405336,
         2.5514319838782127,
         2.5344068527798487,
         2.544342296303063,
         2.531508962896177,
         2.533944809771969,
         2.538939824080622,
         2.5293582502849046,
         2.5470266086674402,
         2.5326759816359767,
         2.555001485200134,
         2.5403134093035358,
         2.5607687497732194,
         2.5639009924514036,
         2.545526733780713,
         2.546262261155075,
         2.54907296176356,
         2.542134649399865,
         2.5370183813614,
         2.536736503857013,
         2.5391923499788436,
         2.5245366419283073,
         2.530357238669356,
         2.545360805272304,
         2.5582982985926934,
         2.55570465725265,
         2.5382809274843456,
         2.5436370991605988,
         2.54228876574454,
         2.546195583779353,
         2.563497715807393,
         2.542843469827887,
         2.5458455768931856,
         2.5639899690570336,
         2.5532127773366637,
         2.5473237740560637,
         2.5454436901693978,
         2.5369897738831466,
         2.5263648780862784,
         2.546638044622761,
         2.56237647485668,
         2.543649970339313,
         2.5381424461433872
        ]
       ],
       "encoder": "json",
       "name": "ABC_GAN_1 Metrics",
       "version": 1
      }
     },
     "metadata": {
      "scrapbook": {
       "data": true,
       "display": false,
       "name": "ABC_GAN_1 Metrics"
      }
     },
     "output_type": "display_data"
    },
    {
     "name": "stdout",
     "output_type": "stream",
     "text": [
      "MSE\n",
      "0.3238892559319429\n"
     ]
    }
   ],
   "source": [
    "ABC_GAN1_metrics=ABC_train_test2.test_generator(gen,test_data,prior_model,variance,bias,\"1\",device)\n",
    "sb.glue(\"ABC_GAN_1 Metrics\",ABC_GAN1_metrics)\n",
    "\n",
    "print(\"MSE\")\n",
    "print(mean(ABC_GAN1_metrics[0]))"
   ]
  },
  {
   "cell_type": "code",
   "execution_count": 14,
   "id": "eb22ce5c",
   "metadata": {
    "execution": {
     "iopub.execute_input": "2022-06-22T14:59:12.404252Z",
     "iopub.status.busy": "2022-06-22T14:59:12.403400Z",
     "iopub.status.idle": "2022-06-22T14:59:13.108379Z",
     "shell.execute_reply": "2022-06-22T14:59:13.109128Z"
    },
    "papermill": {
     "duration": 0.749312,
     "end_time": "2022-06-22T14:59:13.109337",
     "exception": false,
     "start_time": "2022-06-22T14:59:12.360025",
     "status": "completed"
    },
    "tags": []
   },
   "outputs": [
    {
     "data": {
      "image/png": "[encoded data removed]",
      "text/plain": [
       "<Figure size 432x288 with 1 Axes>"
      ]
     },
     "metadata": {
      "needs_background": "light"
     },
     "output_type": "display_data"
    },
    {
     "data": {
      "image/png": "[encoded data removed]",
      "text/plain": [
       "<Figure size 432x288 with 1 Axes>"
      ]
     },
     "metadata": {
      "needs_background": "light"
     },
     "output_type": "display_data"
    },
    {
     "data": {
      "image/png": "[encoded data removed]",
      "text/plain": [
       "<Figure size 432x288 with 1 Axes>"
      ]
     },
     "metadata": {
      "needs_background": "light"
     },
     "output_type": "display_data"
    },
    {
     "data": {
      "image/png": "[encoded data removed]",
      "text/plain": [
       "<Figure size 432x288 with 1 Axes>"
      ]
     },
     "metadata": {
      "needs_background": "light"
     },
     "output_type": "display_data"
    }
   ],
   "source": [
    "sanityChecks.discProbVsError(train_data,disc,device)\n",
    "sanityChecks.discProbVsError(test_data,disc,device)"
   ]
  },
  {
   "cell_type": "markdown",
   "id": "130f3a4d",
   "metadata": {
    "id": "130f3a4d",
    "papermill": {
     "duration": 0.045938,
     "end_time": "2022-06-22T14:59:13.191549",
     "exception": false,
     "start_time": "2022-06-22T14:59:13.145611",
     "status": "completed"
    },
    "tags": []
   },
   "source": [
    "# ABC - GAN Model with skip connection"
   ]
  },
  {
   "cell_type": "code",
   "execution_count": 15,
   "id": "4e43dad1",
   "metadata": {
    "execution": {
     "iopub.execute_input": "2022-06-22T14:59:13.284446Z",
     "iopub.status.busy": "2022-06-22T14:59:13.283673Z",
     "iopub.status.idle": "2022-06-22T14:59:13.288548Z",
     "shell.execute_reply": "2022-06-22T14:59:13.289039Z"
    },
    "id": "4e43dad1",
    "papermill": {
     "duration": 0.054157,
     "end_time": "2022-06-22T14:59:13.289254",
     "exception": false,
     "start_time": "2022-06-22T14:59:13.235097",
     "status": "completed"
    },
    "tags": []
   },
   "outputs": [],
   "source": [
    "#Generator\n",
    "gen3 = network.GeneratorWithSkipConnection(n_features+1).to(device)\n",
    "constraints=network.weightConstraint()\n",
    "#Discriminator \n",
    "disc3 = network.Discriminator(n_features+1).to(device)\n",
    "\n",
    "criterion = torch.nn.BCELoss()\n",
    "gen_opt = torch.optim.Adam(gen3.parameters(), lr=0.001, betas=(0.5, 0.999))\n",
    "disc_opt = torch.optim.Adam(disc3.parameters(), lr=0.001, betas=(0.5, 0.999))\n"
   ]
  },
  {
   "cell_type": "code",
   "execution_count": 16,
   "id": "26acbc37",
   "metadata": {
    "execution": {
     "iopub.execute_input": "2022-06-22T14:59:13.377169Z",
     "iopub.status.busy": "2022-06-22T14:59:13.375832Z",
     "iopub.status.idle": "2022-06-22T15:00:17.015026Z",
     "shell.execute_reply": "2022-06-22T15:00:17.015463Z"
    },
    "id": "26acbc37",
    "papermill": {
     "duration": 63.689099,
     "end_time": "2022-06-22T15:00:17.015709",
     "exception": false,
     "start_time": "2022-06-22T14:59:13.326610",
     "status": "completed"
    },
    "tags": []
   },
   "outputs": [
    {
     "data": {
      "image/png": "[encoded data removed]",
      "text/plain": [
       "<Figure size 432x288 with 1 Axes>"
      ]
     },
     "metadata": {
      "needs_background": "light"
     },
     "output_type": "display_data"
    },
    {
     "data": {
      "image/png": "[encoded data removed]",
      "text/plain": [
       "<Figure size 432x288 with 1 Axes>"
      ]
     },
     "metadata": {
      "needs_background": "light"
     },
     "output_type": "display_data"
    }
   ],
   "source": [
    "ABC_train_test2.training_GAN_skip_connection(disc3,gen3,disc_opt,gen_opt,train_data,batch_size,n_epochs,criterion,prior_model,variance,bias,device)"
   ]
  },
  {
   "cell_type": "code",
   "execution_count": 17,
   "id": "c5e0717b",
   "metadata": {
    "execution": {
     "iopub.execute_input": "2022-06-22T15:00:17.111190Z",
     "iopub.status.busy": "2022-06-22T15:00:17.109909Z",
     "iopub.status.idle": "2022-06-22T15:00:17.852503Z",
     "shell.execute_reply": "2022-06-22T15:00:17.852975Z"
    },
    "id": "c5e0717b",
    "papermill": {
     "duration": 0.802253,
     "end_time": "2022-06-22T15:00:17.853184",
     "exception": false,
     "start_time": "2022-06-22T15:00:17.050931",
     "status": "completed"
    },
    "tags": []
   },
   "outputs": [
    {
     "data": {
      "application/scrapbook.scrap.json+json": {
       "data": 0.36904805859508627,
       "encoder": "json",
       "name": "ABC-GAN Model 3 MSE",
       "version": 1
      }
     },
     "metadata": {
      "scrapbook": {
       "data": true,
       "display": false,
       "name": "ABC-GAN Model 3 MSE"
      }
     },
     "output_type": "display_data"
    },
    {
     "data": {
      "application/scrapbook.scrap.json+json": {
       "data": 0.47854578726924957,
       "encoder": "json",
       "name": "ABC-GAN Model 3 MAE",
       "version": 1
      }
     },
     "metadata": {
      "scrapbook": {
       "data": true,
       "display": false,
       "name": "ABC-GAN Model 3 MAE"
      }
     },
     "output_type": "display_data"
    },
    {
     "data": {
      "application/scrapbook.scrap.json+json": {
       "data": 9.57091574538499,
       "encoder": "json",
       "name": "ABC-GAN Model 3 Manhattan Distance",
       "version": 1
      }
     },
     "metadata": {
      "scrapbook": {
       "data": true,
       "display": false,
       "name": "ABC-GAN Model 3 Manhattan Distance"
      }
     },
     "output_type": "display_data"
    },
    {
     "data": {
      "application/scrapbook.scrap.json+json": {
       "data": 2.716770326042348,
       "encoder": "json",
       "name": "ABC-GAN Model 3 Euclidean distance",
       "version": 1
      }
     },
     "metadata": {
      "scrapbook": {
       "data": true,
       "display": false,
       "name": "ABC-GAN Model 3 Euclidean distance"
      }
     },
     "output_type": "display_data"
    },
    {
     "data": {
      "application/scrapbook.scrap.json+json": {
       "data": [
        [
         0.37146741655680476,
         0.367869855356417,
         0.3672414313571898,
         0.37322111545773673,
         0.36686118262612805,
         0.365189454017781,
         0.37187192051388746,
         0.37363083101420913,
         0.3650035709349123,
         0.3663980883340813,
         0.3735513948769858,
         0.37143918133919696,
         0.3627232095778137,
         0.3710692775202974,
         0.3712303878477024,
         0.3685640767963627,
         0.37249520598062386,
         0.3715242094035547,
         0.3682569694339931,
         0.36783401892738404,
         0.3658412625588247,
         0.36620197970865276,
         0.373319282437686,
         0.36850701803384955,
         0.3653586831195359,
         0.3664191361600921,
         0.36667967018883496,
         0.37188809374439896,
         0.36884518142103023,
         0.36741183958213275,
         0.3734246349811009,
         0.3678806659339237,
         0.36800696849678977,
         0.37487444363126465,
         0.36812286613752243,
         0.37169427099977653,
         0.3708974789204142,
         0.3686517278475784,
         0.37135461605819237,
         0.36876350949362247,
         0.36528455143826655,
         0.37045703488523557,
         0.36969646838665843,
         0.36942006046254006,
         0.3693743357984716,
         0.36918789985655176,
         0.3664361623147082,
         0.3728589023784291,
         0.3722092802334611,
         0.37930870130474037,
         0.3638598899728854,
         0.36212704389662553,
         0.37278069259990854,
         0.37131564965222663,
         0.36793900389049344,
         0.3726866513694188,
         0.37074978562376476,
         0.37007246467325733,
         0.36757333285605953,
         0.3711637394934545,
         0.3689244199196259,
         0.3723789814074626,
         0.3659931055507497,
         0.3688186433067032,
         0.36894410857528687,
         0.3637103459401848,
         0.3675547269519665,
         0.369550453293421,
         0.369013864290098,
         0.3656494295520135,
         0.36810893353752283,
         0.3728100884091384,
         0.3673072233088903,
         0.3642654673360301,
         0.3678464642507399,
         0.36604356550409506,
         0.3652332639586984,
         0.3711990530828317,
         0.36548821074675153,
         0.36530320630717433,
         0.36798714270605604,
         0.36761579896188334,
         0.37537202076537013,
         0.37256927095480663,
         0.3675284006863332,
         0.37384066405820415,
         0.3678045100586283,
         0.3680171119546771,
         0.36783169986747105,
         0.37053254539200314,
         0.36661708377107816,
         0.3691197211312466,
         0.36946391134129,
         0.36747271225549205,
         0.3680078633852101,
         0.37025240333304416,
         0.36778438847983475,
         0.36588590665389453,
         0.37086576712344593,
         0.370005602983832
        ],
        [
         0.48067312613129615,
         0.4789008807390928,
         0.4764528226107359,
         0.48151297532021997,
         0.4768149644136429,
         0.474830885976553,
         0.4826508391648531,
         0.48121509328484535,
         0.47394850142300127,
         0.4758511554449797,
         0.4818514920771122,
         0.4798731546849012,
         0.475197247043252,
         0.48107677698135376,
         0.47730130739510057,
         0.4794756054878235,
         0.48101253658533094,
         0.4779015276581049,
         0.475458300858736,
         0.4766457250341773,
         0.47756211198866366,
         0.4754048712551594,
         0.4799992762506008,
         0.47840060107409954,
         0.47676520645618437,
         0.47510804422199726,
         0.47688772827386855,
         0.48020654171705246,
         0.47849636897444725,
         0.4775454461574554,
         0.4831988699734211,
         0.476993964612484,
         0.47837402299046516,
         0.4813094772398472,
         0.48017081767320635,
         0.4808095496147871,
         0.478949549049139,
         0.4768223166465759,
         0.4796361431479454,
         0.47891886048018933,
         0.4755099702626467,
         0.48086012005805967,
         0.47628462947905065,
         0.47865631319582463,
         0.4790184322744608,
         0.4783820424228907,
         0.4774791609495878,
         0.48095794320106505,
         0.4817083846777678,
         0.48333589136600497,
         0.47643733620643614,
         0.4745603293180466,
         0.4798216477036476,
         0.47962706387042997,
         0.4782627109438181,
         0.4804212372750044,
         0.4788734823465347,
         0.4780459746718407,
         0.47799146808683873,
         0.4779554970562458,
         0.4780359372496605,
         0.47892620489001275,
         0.4764079485088587,
         0.47745179422199724,
         0.4783781100064516,
         0.4777642101049423,
         0.47907950915396214,
         0.4797522991895676,
         0.48046725057065487,
         0.47527359053492546,
         0.4754564750939608,
         0.48088125959038736,
         0.47726243883371355,
         0.47673424072563647,
         0.47802444361150265,
         0.4763374239206314,
         0.4745030030608177,
         0.48024119548499583,
         0.4771963980048895,
         0.4776143189519644,
         0.4765931025147438,
         0.47765433304011823,
         0.4816982984542847,
         0.48193508461117746,
         0.47815567031502726,
         0.48332365453243253,
         0.47933938503265383,
         0.4792468033730984,
         0.47892927266657354,
         0.4810226999223232,
         0.4786624889820814,
         0.47971946485340594,
         0.47886329144239426,
         0.4781954538077116,
         0.47782261073589327,
         0.48069227039813994,
         0.4802930895239115,
         0.475218078866601,
         0.4780124515295029,
         0.4790188491344452
        ],
        [
         9.613462522625923,
         9.578017614781857,
         9.529056452214718,
         9.6302595064044,
         9.536299288272858,
         9.49661771953106,
         9.653016783297062,
         9.624301865696907,
         9.478970028460026,
         9.517023108899593,
         9.637029841542244,
         9.597463093698025,
         9.50394494086504,
         9.621535539627075,
         9.546026147902012,
         9.58951210975647,
         9.62025073170662,
         9.558030553162098,
         9.50916601717472,
         9.532914500683546,
         9.551242239773273,
         9.508097425103188,
         9.599985525012016,
         9.56801202148199,
         9.535304129123688,
         9.502160884439945,
         9.537754565477371,
         9.60413083434105,
         9.569927379488945,
         9.550908923149109,
         9.663977399468422,
         9.53987929224968,
         9.567480459809303,
         9.626189544796944,
         9.603416353464127,
         9.616190992295742,
         9.57899098098278,
         9.536446332931519,
         9.592722862958908,
         9.578377209603786,
         9.510199405252934,
         9.617202401161194,
         9.525692589581013,
         9.573126263916492,
         9.580368645489216,
         9.567640848457813,
         9.549583218991756,
         9.619158864021301,
         9.634167693555355,
         9.666717827320099,
         9.528746724128723,
         9.491206586360931,
         9.596432954072952,
         9.5925412774086,
         9.565254218876362,
         9.608424745500088,
         9.577469646930695,
         9.560919493436813,
         9.559829361736774,
         9.559109941124916,
         9.56071874499321,
         9.578524097800255,
         9.528158970177174,
         9.549035884439945,
         9.567562200129032,
         9.555284202098846,
         9.581590183079243,
         9.595045983791351,
         9.609345011413097,
         9.50547181069851,
         9.509129501879215,
         9.617625191807747,
         9.54524877667427,
         9.53468481451273,
         9.560488872230053,
         9.526748478412628,
         9.490060061216354,
         9.604823909699917,
         9.54392796009779,
         9.552286379039288,
         9.531862050294876,
         9.553086660802364,
         9.633965969085693,
         9.638701692223549,
         9.563113406300545,
         9.666473090648651,
         9.586787700653076,
         9.584936067461967,
         9.57858545333147,
         9.620453998446465,
         9.573249779641628,
         9.594389297068119,
         9.577265828847885,
         9.563909076154232,
         9.556452214717865,
         9.613845407962799,
         9.60586179047823,
         9.50436157733202,
         9.560249030590057,
         9.580376982688904
        ],
        [
         2.7256830944069956,
         2.712452231308109,
         2.7101344297181633,
         2.7321094980170053,
         2.7087310040907644,
         2.7025523270337652,
         2.7271667367943877,
         2.7336087174802803,
         2.701864433812001,
         2.707020828638307,
         2.73331811129618,
         2.7255795029284946,
         2.6934112555560974,
         2.724222008281621,
         2.724813343507046,
         2.715010411753011,
         2.729451248806704,
         2.7258914483286185,
         2.713879029853737,
         2.7123201098962637,
         2.704963077599488,
         2.706296287211187,
         2.732468782759232,
         2.714800243236506,
         2.7031784370238525,
         2.707098580251898,
         2.7080608198075424,
         2.727226040299553,
         2.716045586587347,
         2.710763138240347,
         2.7328543136475494,
         2.7124920863808017,
         2.7129576793484627,
         2.738154282107802,
         2.7133848460457006,
         2.726515252111297,
         2.723591301647199,
         2.7153332312906953,
         2.725269219942105,
         2.7157448683321577,
         2.7029041841629033,
         2.7219736768941596,
         2.7191780684120648,
         2.718161365565113,
         2.717993141266076,
         2.7173071223420875,
         2.707161473997102,
         2.7307834127899233,
         2.7284034900778917,
         2.754301004991068,
         2.6976281803572757,
         2.6911969229197092,
         2.7304969972512643,
         2.725126234332005,
         2.7127071492901456,
         2.73015256485574,
         2.7230489735726926,
         2.7205604741422578,
         2.7113588211672006,
         2.724568734656751,
         2.7163373130729767,
         2.729025398956421,
         2.705524368956043,
         2.7159478761813642,
         2.716409794472428,
         2.697073769625832,
         2.7112901982339204,
         2.7186410329185464,
         2.7166665761189686,
         2.7042537956043016,
         2.7133334978860333,
         2.7306046524868384,
         2.7103771815335604,
         2.699131220730219,
         2.7123659939275893,
         2.7057108696388648,
         2.7027144279731012,
         2.724698343240336,
         2.7036575624392656,
         2.7029732011515555,
         2.712884600221897,
         2.7115154396089407,
         2.739970878550975,
         2.7297225901355127,
         2.7111930978310386,
         2.734376214269734,
         2.7122113120427334,
         2.712995068018654,
         2.712311559786121,
         2.722251073622722,
         2.7078296983786783,
         2.717056205275285,
         2.718322686294951,
         2.7109876881147654,
         2.712960977917707,
         2.721221796667975,
         2.71213712219657,
         2.7051281176827633,
         2.7234748654006187,
         2.7203146986473166
        ]
       ],
       "encoder": "json",
       "name": "ABC_GAN_3 Metrics",
       "version": 1
      }
     },
     "metadata": {
      "scrapbook": {
       "data": true,
       "display": false,
       "name": "ABC_GAN_3 Metrics"
      }
     },
     "output_type": "display_data"
    },
    {
     "name": "stdout",
     "output_type": "stream",
     "text": [
      "MSE\n",
      "0.36904805859508627\n"
     ]
    }
   ],
   "source": [
    "ABC_GAN3_metrics=ABC_train_test2.test_generator(gen3,test_data,prior_model,variance,bias,\"3\",device)\n",
    "sb.glue(\"ABC_GAN_3 Metrics\",ABC_GAN3_metrics)\n",
    "\n",
    "print(\"MSE\")\n",
    "print(mean(ABC_GAN3_metrics[0]))"
   ]
  },
  {
   "cell_type": "code",
   "execution_count": 18,
   "id": "c8e46b48",
   "metadata": {
    "execution": {
     "iopub.execute_input": "2022-06-22T15:00:17.944654Z",
     "iopub.status.busy": "2022-06-22T15:00:17.943562Z",
     "iopub.status.idle": "2022-06-22T15:00:18.642308Z",
     "shell.execute_reply": "2022-06-22T15:00:18.642882Z"
    },
    "id": "c8e46b48",
    "papermill": {
     "duration": 0.751807,
     "end_time": "2022-06-22T15:00:18.643097",
     "exception": false,
     "start_time": "2022-06-22T15:00:17.891290",
     "status": "completed"
    },
    "tags": []
   },
   "outputs": [
    {
     "data": {
      "image/png": "[encoded data removed]",
      "text/plain": [
       "<Figure size 432x288 with 1 Axes>"
      ]
     },
     "metadata": {
      "needs_background": "light"
     },
     "output_type": "display_data"
    },
    {
     "data": {
      "image/png": "[encoded data removed]",
      "text/plain": [
       "<Figure size 432x288 with 1 Axes>"
      ]
     },
     "metadata": {
      "needs_background": "light"
     },
     "output_type": "display_data"
    },
    {
     "data": {
      "image/png": "[encoded data removed]",
      "text/plain": [
       "<Figure size 432x288 with 1 Axes>"
      ]
     },
     "metadata": {
      "needs_background": "light"
     },
     "output_type": "display_data"
    },
    {
     "data": {
      "image/png": "[encoded data removed]",
      "text/plain": [
       "<Figure size 432x288 with 1 Axes>"
      ]
     },
     "metadata": {
      "needs_background": "light"
     },
     "output_type": "display_data"
    }
   ],
   "source": [
    "sanityChecks.discProbVsError(train_data,disc3,device)\n",
    "sanityChecks.discProbVsError(test_data,disc3,device)"
   ]
  },
  {
   "cell_type": "markdown",
   "id": "a5bd74c3",
   "metadata": {
    "id": "a5bd74c3",
    "papermill": {
     "duration": 0.046397,
     "end_time": "2022-06-22T15:00:18.735052",
     "exception": false,
     "start_time": "2022-06-22T15:00:18.688655",
     "status": "completed"
    },
    "tags": []
   },
   "source": [
    "## Skip Connection Model Analysis - ABC-GAN "
   ]
  },
  {
   "cell_type": "markdown",
   "id": "5744a8bf",
   "metadata": {
    "id": "5744a8bf",
    "papermill": {
     "duration": 0.044364,
     "end_time": "2022-06-22T15:00:18.822933",
     "exception": false,
     "start_time": "2022-06-22T15:00:18.778569",
     "status": "completed"
    },
    "tags": []
   },
   "source": [
    "### Weight Analysis \n",
    "\n",
    "Study the weights of the skip connection layer\n",
    "\n",
    "Equation of the skip connection is \n",
    "\n",
    "$output = y_{gan} * w + y_{abc} * (1-w)$"
   ]
  },
  {
   "cell_type": "code",
   "execution_count": 19,
   "id": "52c31dea",
   "metadata": {
    "execution": {
     "iopub.execute_input": "2022-06-22T15:00:18.918212Z",
     "iopub.status.busy": "2022-06-22T15:00:18.917130Z",
     "iopub.status.idle": "2022-06-22T15:00:18.924658Z",
     "shell.execute_reply": "2022-06-22T15:00:18.925106Z"
    },
    "id": "52c31dea",
    "papermill": {
     "duration": 0.060934,
     "end_time": "2022-06-22T15:00:18.925335",
     "exception": false,
     "start_time": "2022-06-22T15:00:18.864401",
     "status": "completed"
    },
    "tags": []
   },
   "outputs": [
    {
     "name": "stdout",
     "output_type": "stream",
     "text": [
      "Weight of the node at skip connection\n",
      "Parameter containing:\n",
      "tensor([[0.4662]], requires_grad=True)\n"
     ]
    },
    {
     "data": {
      "application/scrapbook.scrap.json+json": {
       "data": 0.46617838740348816,
       "encoder": "json",
       "name": "Skip Connection Weight",
       "version": 1
      }
     },
     "metadata": {
      "scrapbook": {
       "data": true,
       "display": false,
       "name": "Skip Connection Weight"
      }
     },
     "output_type": "display_data"
    }
   ],
   "source": [
    "print(\"Weight of the node at skip connection\")\n",
    "for name,param in gen3.named_parameters():\n",
    "    if(name == \"skipNode.weight\"):\n",
    "        print(param)\n",
    "        sb.glue(\"Skip Connection Weight\",param.item())"
   ]
  }
 ],
 "metadata": {
  "colab": {
   "collapsed_sections": [],
   "name": "ABC_GAN_Model-Catboost_Pre-gen.ipynb",
   "provenance": []
  },
  "interpreter": {
   "hash": "31f2aee4e71d21fbe5cf8b01ff0e069b9275f58929596ceb00d14d90e3e16cd6"
  },
  "kernelspec": {
   "display_name": "Python 3 (ipykernel)",
   "language": "python",
   "name": "python3"
  },
  "language_info": {
   "codemirror_mode": {
    "name": "ipython",
    "version": 3
   },
   "file_extension": ".py",
   "mimetype": "text/x-python",
   "name": "python",
   "nbconvert_exporter": "python",
   "pygments_lexer": "ipython3",
   "version": "3.8.3"
  },
  "papermill": {
   "default_parameters": {},
   "duration": 131.371834,
   "end_time": "2022-06-22T15:00:20.227480",
   "environment_variables": {},
   "exception": null,
   "input_path": "ABC_GAN-TabNet.ipynb",
   "output_path": "./ABC_GAN_TabNet/ABC-GAN_output_7_5.ipynb",
   "parameters": {
    "bias": 0.1,
    "variance": 0.01
   },
   "start_time": "2022-06-22T14:58:08.855646",
   "version": "2.3.3"
  }
 },
 "nbformat": 4,
 "nbformat_minor": 5
}