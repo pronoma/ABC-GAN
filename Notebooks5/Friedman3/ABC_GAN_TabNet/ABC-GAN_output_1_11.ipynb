{
 "cells": [
  {
   "cell_type": "markdown",
   "id": "622780e6",
   "metadata": {
    "id": "622780e6",
    "papermill": {
     "duration": 0.029794,
     "end_time": "2022-06-22T11:53:40.537907",
     "exception": false,
     "start_time": "2022-06-22T11:53:40.508113",
     "status": "completed"
    },
    "tags": []
   },
   "source": [
    "## Import Libraries "
   ]
  },
  {
   "cell_type": "code",
   "execution_count": 1,
   "id": "a62397e3",
   "metadata": {
    "execution": {
     "iopub.execute_input": "2022-06-22T11:53:40.593120Z",
     "iopub.status.busy": "2022-06-22T11:53:40.590566Z",
     "iopub.status.idle": "2022-06-22T11:53:40.594743Z",
     "shell.execute_reply": "2022-06-22T11:53:40.595481Z"
    },
    "id": "a62397e3",
    "papermill": {
     "duration": 0.036838,
     "end_time": "2022-06-22T11:53:40.595861",
     "exception": false,
     "start_time": "2022-06-22T11:53:40.559023",
     "status": "completed"
    },
    "tags": []
   },
   "outputs": [],
   "source": [
    "import warnings\n",
    "import sys\n",
    "sys.path.insert(0, '../../src')\n",
    "warnings.filterwarnings('ignore')"
   ]
  },
  {
   "cell_type": "code",
   "execution_count": 2,
   "id": "d6a4e155",
   "metadata": {
    "execution": {
     "iopub.execute_input": "2022-06-22T11:53:40.635132Z",
     "iopub.status.busy": "2022-06-22T11:53:40.634259Z",
     "iopub.status.idle": "2022-06-22T11:53:46.375271Z",
     "shell.execute_reply": "2022-06-22T11:53:46.375817Z"
    },
    "id": "d6a4e155",
    "papermill": {
     "duration": 5.762777,
     "end_time": "2022-06-22T11:53:46.376063",
     "exception": false,
     "start_time": "2022-06-22T11:53:40.613286",
     "status": "completed"
    },
    "tags": []
   },
   "outputs": [],
   "source": [
    "import ABC_train_test2\n",
    "import friedman3Dataset\n",
    "import network\n",
    "import dataset\n",
    "import sanityChecks\n",
    "import torch \n",
    "import scrapbook as sb\n",
    "from statistics import mean \n",
    "import catboost as ctb \n",
    "from sklearn.model_selection import train_test_split\n",
    "from sklearn.metrics import mean_squared_error,mean_absolute_error\n",
    "import numpy as np\n",
    "from pytorch_tabnet.tab_model import TabNetRegressor"
   ]
  },
  {
   "cell_type": "markdown",
   "id": "2fa5b0f7",
   "metadata": {
    "id": "2fa5b0f7",
    "papermill": {
     "duration": 0.017751,
     "end_time": "2022-06-22T11:53:46.409816",
     "exception": false,
     "start_time": "2022-06-22T11:53:46.392065",
     "status": "completed"
    },
    "tags": []
   },
   "source": [
    "## Parameters "
   ]
  },
  {
   "cell_type": "code",
   "execution_count": 3,
   "id": "783186fb",
   "metadata": {
    "execution": {
     "iopub.execute_input": "2022-06-22T11:53:46.451054Z",
     "iopub.status.busy": "2022-06-22T11:53:46.450283Z",
     "iopub.status.idle": "2022-06-22T11:53:46.452749Z",
     "shell.execute_reply": "2022-06-22T11:53:46.453364Z"
    },
    "id": "783186fb",
    "papermill": {
     "duration": 0.025237,
     "end_time": "2022-06-22T11:53:46.453597",
     "exception": false,
     "start_time": "2022-06-22T11:53:46.428360",
     "status": "completed"
    },
    "tags": [
     "parameters"
    ]
   },
   "outputs": [],
   "source": [
    "variance = 1\n",
    "bias = 1 "
   ]
  },
  {
   "cell_type": "code",
   "execution_count": 4,
   "id": "31e7d0cf",
   "metadata": {
    "execution": {
     "iopub.execute_input": "2022-06-22T11:53:46.493710Z",
     "iopub.status.busy": "2022-06-22T11:53:46.492816Z",
     "iopub.status.idle": "2022-06-22T11:53:46.494972Z",
     "shell.execute_reply": "2022-06-22T11:53:46.494406Z"
    },
    "papermill": {
     "duration": 0.025971,
     "end_time": "2022-06-22T11:53:46.495165",
     "exception": false,
     "start_time": "2022-06-22T11:53:46.469194",
     "status": "completed"
    },
    "tags": [
     "injected-parameters"
    ]
   },
   "outputs": [],
   "source": [
    "# Parameters\n",
    "variance = 0.01\n",
    "bias = 0\n"
   ]
  },
  {
   "cell_type": "markdown",
   "id": "391cdbfd",
   "metadata": {
    "id": "391cdbfd",
    "papermill": {
     "duration": 0.026383,
     "end_time": "2022-06-22T11:53:46.537153",
     "exception": false,
     "start_time": "2022-06-22T11:53:46.510770",
     "status": "completed"
    },
    "tags": []
   },
   "source": [
    "## Dataset \n"
   ]
  },
  {
   "cell_type": "code",
   "execution_count": 5,
   "id": "5b51f161",
   "metadata": {
    "execution": {
     "iopub.execute_input": "2022-06-22T11:53:46.579198Z",
     "iopub.status.busy": "2022-06-22T11:53:46.578105Z",
     "iopub.status.idle": "2022-06-22T11:53:46.580442Z",
     "shell.execute_reply": "2022-06-22T11:53:46.581464Z"
    },
    "id": "5b51f161",
    "papermill": {
     "duration": 0.024105,
     "end_time": "2022-06-22T11:53:46.581740",
     "exception": false,
     "start_time": "2022-06-22T11:53:46.557635",
     "status": "completed"
    },
    "tags": []
   },
   "outputs": [],
   "source": [
    "#Parameters \n",
    "n_features = 4\n",
    "n_samples= 100\n",
    "n_target = 1"
   ]
  },
  {
   "cell_type": "code",
   "execution_count": 6,
   "id": "5d6eced4",
   "metadata": {
    "execution": {
     "iopub.execute_input": "2022-06-22T11:53:46.616877Z",
     "iopub.status.busy": "2022-06-22T11:53:46.616105Z",
     "iopub.status.idle": "2022-06-22T11:53:46.630172Z",
     "shell.execute_reply": "2022-06-22T11:53:46.629594Z"
    },
    "id": "5d6eced4",
    "papermill": {
     "duration": 0.033269,
     "end_time": "2022-06-22T11:53:46.630373",
     "exception": false,
     "start_time": "2022-06-22T11:53:46.597104",
     "status": "completed"
    },
    "tags": []
   },
   "outputs": [
    {
     "name": "stdout",
     "output_type": "stream",
     "text": [
      "          X1           X2        X3         X4         Y\n",
      "0  31.112790  1521.300781  0.033560   3.447821  0.960498\n",
      "1  50.508723   630.288110  0.545644   8.946654  1.257944\n",
      "2  38.564099   305.813135  0.683122  10.584701  1.431620\n",
      "3  95.466886   267.561951  0.464725  10.442235  0.781900\n",
      "4  93.855280  1245.818940  0.805305   9.952929  1.200795\n"
     ]
    }
   ],
   "source": [
    "X,Y = friedman3Dataset.friedman3_data(n_samples)"
   ]
  },
  {
   "cell_type": "code",
   "execution_count": 7,
   "id": "fe007438",
   "metadata": {
    "execution": {
     "iopub.execute_input": "2022-06-22T11:53:46.671228Z",
     "iopub.status.busy": "2022-06-22T11:53:46.668850Z",
     "iopub.status.idle": "2022-06-22T11:53:46.674553Z",
     "shell.execute_reply": "2022-06-22T11:53:46.675479Z"
    },
    "id": "fe007438",
    "papermill": {
     "duration": 0.030398,
     "end_time": "2022-06-22T11:53:46.675754",
     "exception": false,
     "start_time": "2022-06-22T11:53:46.645356",
     "status": "completed"
    },
    "tags": []
   },
   "outputs": [],
   "source": [
    "#Train test split for dataset \n",
    "X_train,X_test,Y_train,Y_test = train_test_split(X,Y,test_size = 0.2)\n",
    "train_data = dataset.CustomDataset(X_train,Y_train)\n",
    "test_data = dataset.CustomDataset(X_test,Y_test)\n"
   ]
  },
  {
   "cell_type": "markdown",
   "id": "a9a1af34",
   "metadata": {
    "id": "a9a1af34",
    "papermill": {
     "duration": 0.016523,
     "end_time": "2022-06-22T11:53:46.709151",
     "exception": false,
     "start_time": "2022-06-22T11:53:46.692628",
     "status": "completed"
    },
    "tags": []
   },
   "source": [
    "## Training Parameters "
   ]
  },
  {
   "cell_type": "code",
   "execution_count": 8,
   "id": "952b7fc8",
   "metadata": {
    "execution": {
     "iopub.execute_input": "2022-06-22T11:53:46.742916Z",
     "iopub.status.busy": "2022-06-22T11:53:46.742189Z",
     "iopub.status.idle": "2022-06-22T11:53:46.744205Z",
     "shell.execute_reply": "2022-06-22T11:53:46.744813Z"
    },
    "id": "952b7fc8",
    "papermill": {
     "duration": 0.021,
     "end_time": "2022-06-22T11:53:46.745020",
     "exception": false,
     "start_time": "2022-06-22T11:53:46.724020",
     "status": "completed"
    },
    "tags": []
   },
   "outputs": [],
   "source": [
    "batch_size = 32\n",
    "n_epochs = 1000\n",
    "#Select the device \n",
    "device = torch.device('cuda' if torch.cuda.is_available() else 'cpu')"
   ]
  },
  {
   "cell_type": "markdown",
   "id": "a95e1600",
   "metadata": {
    "id": "a95e1600",
    "papermill": {
     "duration": 0.016661,
     "end_time": "2022-06-22T11:53:46.775425",
     "exception": false,
     "start_time": "2022-06-22T11:53:46.758764",
     "status": "completed"
    },
    "tags": []
   },
   "source": [
    "# ABC Pre-generator Model \n",
    "\n",
    "1. The catboost model is used as a pre-generator model for the ABC-GAN. \n",
    "2. The model is first trained on the entire dataset \n",
    "3. It generats X,Y pairs and we add some Gaussian noise with mean 0 and variance 1 to it which is then feed as input to the generator.\n"
   ]
  },
  {
   "cell_type": "code",
   "execution_count": 9,
   "id": "ff8ce7bd",
   "metadata": {
    "execution": {
     "iopub.execute_input": "2022-06-22T11:53:46.816550Z",
     "iopub.status.busy": "2022-06-22T11:53:46.815708Z",
     "iopub.status.idle": "2022-06-22T11:54:00.842620Z",
     "shell.execute_reply": "2022-06-22T11:54:00.843127Z"
    },
    "id": "ff8ce7bd",
    "papermill": {
     "duration": 14.049478,
     "end_time": "2022-06-22T11:54:00.843336",
     "exception": false,
     "start_time": "2022-06-22T11:53:46.793858",
     "status": "completed"
    },
    "tags": []
   },
   "outputs": [
    {
     "name": "stdout",
     "output_type": "stream",
     "text": [
      "Device used : cpu\n"
     ]
    },
    {
     "name": "stdout",
     "output_type": "stream",
     "text": [
      "epoch 0  | loss: 1.13456 | train_mse: 3.38316 | train_mae: 1.37026 |  0:00:00s\n",
      "epoch 1  | loss: 0.70418 | train_mse: 3.14291 | train_mae: 1.30093 |  0:00:00s\n",
      "epoch 2  | loss: 0.65207 | train_mse: 1.95848 | train_mae: 1.05618 |  0:00:00s\n"
     ]
    },
    {
     "name": "stdout",
     "output_type": "stream",
     "text": [
      "epoch 3  | loss: 0.48645 | train_mse: 1.5618  | train_mae: 0.98294 |  0:00:00s\n",
      "epoch 4  | loss: 0.75935 | train_mse: 1.98668 | train_mae: 1.08012 |  0:00:00s\n",
      "epoch 5  | loss: 0.48557 | train_mse: 1.53846 | train_mae: 0.9587  |  0:00:00s\n"
     ]
    },
    {
     "name": "stdout",
     "output_type": "stream",
     "text": [
      "epoch 6  | loss: 0.56572 | train_mse: 1.56225 | train_mae: 1.01621 |  0:00:00s\n",
      "epoch 7  | loss: 0.42552 | train_mse: 2.1429  | train_mae: 1.17557 |  0:00:00s\n",
      "epoch 8  | loss: 0.4228  | train_mse: 3.4723  | train_mae: 1.43585 |  0:00:00s\n"
     ]
    },
    {
     "name": "stdout",
     "output_type": "stream",
     "text": [
      "epoch 9  | loss: 0.43233 | train_mse: 3.31384 | train_mae: 1.39251 |  0:00:00s\n",
      "epoch 10 | loss: 0.39575 | train_mse: 3.54799 | train_mae: 1.44915 |  0:00:00s\n",
      "epoch 11 | loss: 0.28502 | train_mse: 3.46623 | train_mae: 1.4128  |  0:00:01s\n"
     ]
    },
    {
     "name": "stdout",
     "output_type": "stream",
     "text": [
      "epoch 12 | loss: 0.40968 | train_mse: 2.52463 | train_mae: 1.18005 |  0:00:01s\n",
      "epoch 13 | loss: 0.45117 | train_mse: 2.17763 | train_mae: 1.06659 |  0:00:01s\n",
      "epoch 14 | loss: 0.27948 | train_mse: 1.21561 | train_mae: 0.81997 |  0:00:01s\n"
     ]
    },
    {
     "name": "stdout",
     "output_type": "stream",
     "text": [
      "epoch 15 | loss: 0.40462 | train_mse: 0.66599 | train_mae: 0.62794 |  0:00:01s\n",
      "epoch 16 | loss: 0.28862 | train_mse: 0.92342 | train_mae: 0.70832 |  0:00:01s\n",
      "epoch 17 | loss: 0.39374 | train_mse: 1.16018 | train_mae: 0.74224 |  0:00:01s\n"
     ]
    },
    {
     "name": "stdout",
     "output_type": "stream",
     "text": [
      "epoch 18 | loss: 0.41289 | train_mse: 1.36112 | train_mae: 0.74263 |  0:00:01s\n",
      "epoch 19 | loss: 0.27396 | train_mse: 0.87267 | train_mae: 0.64193 |  0:00:01s\n",
      "epoch 20 | loss: 0.35373 | train_mse: 0.53722 | train_mae: 0.54446 |  0:00:01s\n"
     ]
    },
    {
     "name": "stdout",
     "output_type": "stream",
     "text": [
      "epoch 21 | loss: 0.32032 | train_mse: 0.4978  | train_mae: 0.52096 |  0:00:01s\n",
      "epoch 22 | loss: 0.22316 | train_mse: 0.67121 | train_mae: 0.5655  |  0:00:01s\n",
      "epoch 23 | loss: 0.31129 | train_mse: 0.90267 | train_mae: 0.61387 |  0:00:02s\n"
     ]
    },
    {
     "name": "stdout",
     "output_type": "stream",
     "text": [
      "epoch 24 | loss: 0.29632 | train_mse: 0.65982 | train_mae: 0.54464 |  0:00:02s\n",
      "epoch 25 | loss: 0.35872 | train_mse: 0.64647 | train_mae: 0.53118 |  0:00:02s\n",
      "epoch 26 | loss: 0.33766 | train_mse: 0.47757 | train_mae: 0.4496  |  0:00:02s\n"
     ]
    },
    {
     "name": "stdout",
     "output_type": "stream",
     "text": [
      "epoch 27 | loss: 0.22908 | train_mse: 0.35794 | train_mae: 0.40909 |  0:00:02s\n"
     ]
    },
    {
     "name": "stdout",
     "output_type": "stream",
     "text": [
      "epoch 28 | loss: 0.29196 | train_mse: 0.21955 | train_mae: 0.34974 |  0:00:02s\n",
      "epoch 29 | loss: 0.33306 | train_mse: 0.2074  | train_mae: 0.33512 |  0:00:02s\n",
      "epoch 30 | loss: 0.37751 | train_mse: 0.23456 | train_mae: 0.3494  |  0:00:02s\n"
     ]
    },
    {
     "name": "stdout",
     "output_type": "stream",
     "text": [
      "epoch 31 | loss: 0.42387 | train_mse: 0.17153 | train_mae: 0.31642 |  0:00:03s\n",
      "epoch 32 | loss: 0.24958 | train_mse: 0.19451 | train_mae: 0.3571  |  0:00:03s\n",
      "epoch 33 | loss: 0.3445  | train_mse: 0.33732 | train_mae: 0.41238 |  0:00:03s\n",
      "epoch 34 | loss: 0.20882 | train_mse: 0.30198 | train_mae: 0.37409 |  0:00:03s\n"
     ]
    },
    {
     "name": "stdout",
     "output_type": "stream",
     "text": [
      "epoch 35 | loss: 0.30693 | train_mse: 0.22879 | train_mae: 0.33632 |  0:00:03s\n",
      "epoch 36 | loss: 0.50758 | train_mse: 0.19304 | train_mae: 0.31243 |  0:00:03s\n",
      "epoch 37 | loss: 0.1946  | train_mse: 0.1783  | train_mae: 0.32197 |  0:00:03s\n",
      "epoch 38 | loss: 0.22178 | train_mse: 0.18485 | train_mae: 0.33908 |  0:00:03s\n"
     ]
    },
    {
     "name": "stdout",
     "output_type": "stream",
     "text": [
      "epoch 39 | loss: 0.28663 | train_mse: 0.21382 | train_mae: 0.36003 |  0:00:03s\n",
      "epoch 40 | loss: 0.42437 | train_mse: 0.24157 | train_mae: 0.36718 |  0:00:03s\n",
      "epoch 41 | loss: 0.30682 | train_mse: 0.25457 | train_mae: 0.36172 |  0:00:03s\n"
     ]
    },
    {
     "name": "stdout",
     "output_type": "stream",
     "text": [
      "epoch 42 | loss: 0.31906 | train_mse: 0.26014 | train_mae: 0.35117 |  0:00:03s\n",
      "epoch 43 | loss: 0.28489 | train_mse: 0.25258 | train_mae: 0.35865 |  0:00:03s\n",
      "epoch 44 | loss: 0.41865 | train_mse: 0.16425 | train_mae: 0.31954 |  0:00:03s\n",
      "epoch 45 | loss: 0.22606 | train_mse: 0.21382 | train_mae: 0.31963 |  0:00:03s\n"
     ]
    },
    {
     "name": "stdout",
     "output_type": "stream",
     "text": [
      "epoch 46 | loss: 0.37048 | train_mse: 0.1962  | train_mae: 0.31368 |  0:00:04s\n",
      "epoch 47 | loss: 0.24915 | train_mse: 0.2003  | train_mae: 0.31085 |  0:00:04s\n",
      "epoch 48 | loss: 0.29648 | train_mse: 0.25364 | train_mae: 0.34356 |  0:00:04s\n",
      "epoch 49 | loss: 0.24488 | train_mse: 0.26102 | train_mae: 0.34426 |  0:00:04s\n"
     ]
    },
    {
     "name": "stdout",
     "output_type": "stream",
     "text": [
      "epoch 50 | loss: 0.41796 | train_mse: 0.16666 | train_mae: 0.31236 |  0:00:04s\n",
      "epoch 51 | loss: 0.5093  | train_mse: 0.19903 | train_mae: 0.32932 |  0:00:04s\n",
      "epoch 52 | loss: 0.31329 | train_mse: 0.19614 | train_mae: 0.32928 |  0:00:04s\n",
      "epoch 53 | loss: 0.21868 | train_mse: 0.17753 | train_mae: 0.31868 |  0:00:04s\n"
     ]
    },
    {
     "name": "stdout",
     "output_type": "stream",
     "text": [
      "epoch 54 | loss: 0.34937 | train_mse: 0.20185 | train_mae: 0.31677 |  0:00:04s\n",
      "epoch 55 | loss: 0.34273 | train_mse: 0.25036 | train_mae: 0.32934 |  0:00:04s\n",
      "epoch 56 | loss: 0.27423 | train_mse: 0.27745 | train_mae: 0.34356 |  0:00:04s\n"
     ]
    },
    {
     "name": "stdout",
     "output_type": "stream",
     "text": [
      "epoch 57 | loss: 0.65737 | train_mse: 0.41949 | train_mae: 0.39032 |  0:00:04s\n",
      "epoch 58 | loss: 0.33592 | train_mse: 0.30177 | train_mae: 0.34727 |  0:00:04s\n",
      "epoch 59 | loss: 0.245   | train_mse: 0.15278 | train_mae: 0.28086 |  0:00:04s\n",
      "epoch 60 | loss: 0.16592 | train_mse: 0.10825 | train_mae: 0.26563 |  0:00:04s\n"
     ]
    },
    {
     "name": "stdout",
     "output_type": "stream",
     "text": [
      "epoch 61 | loss: 0.18485 | train_mse: 0.12119 | train_mae: 0.28285 |  0:00:05s\n",
      "epoch 62 | loss: 0.32263 | train_mse: 0.13492 | train_mae: 0.29884 |  0:00:05s\n",
      "epoch 63 | loss: 0.30873 | train_mse: 0.19305 | train_mae: 0.29448 |  0:00:05s\n",
      "epoch 64 | loss: 0.17933 | train_mse: 0.11922 | train_mae: 0.25214 |  0:00:05s\n"
     ]
    },
    {
     "name": "stdout",
     "output_type": "stream",
     "text": [
      "epoch 65 | loss: 0.21656 | train_mse: 0.13811 | train_mae: 0.25771 |  0:00:05s\n",
      "epoch 66 | loss: 0.24556 | train_mse: 0.13508 | train_mae: 0.26333 |  0:00:05s\n"
     ]
    },
    {
     "name": "stdout",
     "output_type": "stream",
     "text": [
      "epoch 67 | loss: 0.85416 | train_mse: 0.19615 | train_mae: 0.30336 |  0:00:05s\n",
      "epoch 68 | loss: 0.29093 | train_mse: 0.15813 | train_mae: 0.28827 |  0:00:05s\n",
      "epoch 69 | loss: 0.17965 | train_mse: 0.16138 | train_mae: 0.30548 |  0:00:05s\n"
     ]
    },
    {
     "name": "stdout",
     "output_type": "stream",
     "text": [
      "epoch 70 | loss: 0.20573 | train_mse: 0.16468 | train_mae: 0.30671 |  0:00:05s\n",
      "epoch 71 | loss: 0.22519 | train_mse: 0.29536 | train_mae: 0.37491 |  0:00:05s\n",
      "epoch 72 | loss: 0.20931 | train_mse: 0.25694 | train_mae: 0.37263 |  0:00:06s\n",
      "epoch 73 | loss: 0.48281 | train_mse: 0.65198 | train_mae: 0.46675 |  0:00:06s\n"
     ]
    },
    {
     "name": "stdout",
     "output_type": "stream",
     "text": [
      "epoch 74 | loss: 0.27538 | train_mse: 0.58663 | train_mae: 0.43059 |  0:00:06s\n",
      "epoch 75 | loss: 0.36254 | train_mse: 0.53506 | train_mae: 0.40611 |  0:00:06s\n",
      "epoch 76 | loss: 0.6475  | train_mse: 0.17562 | train_mae: 0.3149  |  0:00:06s\n",
      "epoch 77 | loss: 0.28118 | train_mse: 0.12674 | train_mae: 0.28853 |  0:00:06s\n"
     ]
    },
    {
     "name": "stdout",
     "output_type": "stream",
     "text": [
      "epoch 78 | loss: 0.17377 | train_mse: 0.12585 | train_mae: 0.27868 |  0:00:06s\n",
      "epoch 79 | loss: 0.16503 | train_mse: 0.09597 | train_mae: 0.25758 |  0:00:06s\n",
      "epoch 80 | loss: 0.28302 | train_mse: 0.09581 | train_mae: 0.26323 |  0:00:06s\n",
      "epoch 81 | loss: 0.23969 | train_mse: 0.10938 | train_mae: 0.26266 |  0:00:06s\n"
     ]
    },
    {
     "name": "stdout",
     "output_type": "stream",
     "text": [
      "epoch 82 | loss: 0.23682 | train_mse: 0.10577 | train_mae: 0.25006 |  0:00:06s\n",
      "epoch 83 | loss: 0.15993 | train_mse: 0.12472 | train_mae: 0.24446 |  0:00:06s\n",
      "epoch 84 | loss: 0.32354 | train_mse: 0.13759 | train_mae: 0.24176 |  0:00:06s\n"
     ]
    },
    {
     "name": "stdout",
     "output_type": "stream",
     "text": [
      "epoch 85 | loss: 0.13093 | train_mse: 0.14915 | train_mae: 0.26177 |  0:00:06s\n",
      "epoch 86 | loss: 0.13863 | train_mse: 0.10417 | train_mae: 0.23671 |  0:00:06s\n",
      "epoch 87 | loss: 0.16326 | train_mse: 0.09152 | train_mae: 0.23914 |  0:00:07s\n",
      "epoch 88 | loss: 0.14979 | train_mse: 0.08886 | train_mae: 0.23805 |  0:00:07s\n"
     ]
    },
    {
     "name": "stdout",
     "output_type": "stream",
     "text": [
      "epoch 89 | loss: 0.39015 | train_mse: 0.1425  | train_mae: 0.28231 |  0:00:07s\n",
      "epoch 90 | loss: 0.25076 | train_mse: 0.09936 | train_mae: 0.23872 |  0:00:07s\n",
      "epoch 91 | loss: 0.30577 | train_mse: 0.08582 | train_mae: 0.2211  |  0:00:07s\n",
      "epoch 92 | loss: 0.28146 | train_mse: 0.07152 | train_mae: 0.20675 |  0:00:07s\n"
     ]
    },
    {
     "name": "stdout",
     "output_type": "stream",
     "text": [
      "epoch 93 | loss: 0.14079 | train_mse: 0.07306 | train_mae: 0.20227 |  0:00:07s\n",
      "epoch 94 | loss: 0.25661 | train_mse: 0.08621 | train_mae: 0.21231 |  0:00:07s\n",
      "epoch 95 | loss: 0.26224 | train_mse: 0.08772 | train_mae: 0.21395 |  0:00:07s\n"
     ]
    },
    {
     "name": "stdout",
     "output_type": "stream",
     "text": [
      "epoch 96 | loss: 0.27249 | train_mse: 0.1001  | train_mae: 0.23641 |  0:00:07s\n",
      "epoch 97 | loss: 0.2904  | train_mse: 0.13315 | train_mae: 0.28185 |  0:00:07s\n",
      "epoch 98 | loss: 0.23963 | train_mse: 0.29181 | train_mae: 0.35144 |  0:00:07s\n"
     ]
    },
    {
     "name": "stdout",
     "output_type": "stream",
     "text": [
      "epoch 99 | loss: 0.18668 | train_mse: 0.1823  | train_mae: 0.29482 |  0:00:07s\n",
      "epoch 100| loss: 0.18837 | train_mse: 0.10216 | train_mae: 0.24773 |  0:00:07s\n",
      "epoch 101| loss: 0.29764 | train_mse: 0.11171 | train_mae: 0.26047 |  0:00:08s\n",
      "epoch 102| loss: 0.23047 | train_mse: 0.10472 | train_mae: 0.24674 |  0:00:08s\n"
     ]
    },
    {
     "name": "stdout",
     "output_type": "stream",
     "text": [
      "epoch 103| loss: 0.31826 | train_mse: 0.11465 | train_mae: 0.25745 |  0:00:08s\n",
      "epoch 104| loss: 0.43325 | train_mse: 0.20502 | train_mae: 0.3045  |  0:00:08s\n",
      "epoch 105| loss: 0.14516 | train_mse: 0.16758 | train_mae: 0.28697 |  0:00:08s\n",
      "epoch 106| loss: 0.23706 | train_mse: 0.0937  | train_mae: 0.2324  |  0:00:08s\n"
     ]
    },
    {
     "name": "stdout",
     "output_type": "stream",
     "text": [
      "epoch 107| loss: 0.26377 | train_mse: 0.16032 | train_mae: 0.28462 |  0:00:08s\n",
      "epoch 108| loss: 0.26545 | train_mse: 0.13683 | train_mae: 0.26498 |  0:00:08s\n",
      "epoch 109| loss: 0.16996 | train_mse: 0.09712 | train_mae: 0.24005 |  0:00:08s\n",
      "epoch 110| loss: 0.17603 | train_mse: 0.07161 | train_mae: 0.21055 |  0:00:08s\n"
     ]
    },
    {
     "name": "stdout",
     "output_type": "stream",
     "text": [
      "epoch 111| loss: 0.19985 | train_mse: 0.08828 | train_mae: 0.23412 |  0:00:08s\n",
      "epoch 112| loss: 0.17862 | train_mse: 0.07714 | train_mae: 0.21267 |  0:00:08s\n",
      "epoch 113| loss: 0.32693 | train_mse: 0.0777  | train_mae: 0.21264 |  0:00:08s\n",
      "epoch 114| loss: 0.2323  | train_mse: 0.07408 | train_mae: 0.2172  |  0:00:08s\n"
     ]
    },
    {
     "name": "stdout",
     "output_type": "stream",
     "text": [
      "epoch 115| loss: 0.36481 | train_mse: 0.08766 | train_mae: 0.23641 |  0:00:08s\n",
      "epoch 116| loss: 0.29498 | train_mse: 0.1056  | train_mae: 0.25198 |  0:00:09s\n",
      "epoch 117| loss: 0.35896 | train_mse: 0.10476 | train_mae: 0.24975 |  0:00:09s\n",
      "epoch 118| loss: 0.13152 | train_mse: 0.09494 | train_mae: 0.24052 |  0:00:09s\n"
     ]
    },
    {
     "name": "stdout",
     "output_type": "stream",
     "text": [
      "epoch 119| loss: 0.26281 | train_mse: 0.08145 | train_mae: 0.22933 |  0:00:09s\n",
      "epoch 120| loss: 0.30884 | train_mse: 0.07778 | train_mae: 0.22288 |  0:00:09s\n",
      "epoch 121| loss: 0.33962 | train_mse: 0.07624 | train_mae: 0.22237 |  0:00:09s\n",
      "epoch 122| loss: 0.28273 | train_mse: 0.08511 | train_mae: 0.23389 |  0:00:09s\n"
     ]
    },
    {
     "name": "stdout",
     "output_type": "stream",
     "text": [
      "epoch 123| loss: 0.13173 | train_mse: 0.09989 | train_mae: 0.23454 |  0:00:09s\n",
      "epoch 124| loss: 0.17368 | train_mse: 0.10949 | train_mae: 0.2334  |  0:00:09s\n",
      "epoch 125| loss: 0.38647 | train_mse: 0.09262 | train_mae: 0.23098 |  0:00:09s\n"
     ]
    },
    {
     "name": "stdout",
     "output_type": "stream",
     "text": [
      "epoch 126| loss: 0.18493 | train_mse: 0.07731 | train_mae: 0.22356 |  0:00:09s\n",
      "epoch 127| loss: 0.17117 | train_mse: 0.06347 | train_mae: 0.19522 |  0:00:09s\n",
      "epoch 128| loss: 0.40962 | train_mse: 0.05995 | train_mae: 0.18625 |  0:00:09s\n",
      "epoch 129| loss: 0.18582 | train_mse: 0.09081 | train_mae: 0.21338 |  0:00:09s\n"
     ]
    },
    {
     "name": "stdout",
     "output_type": "stream",
     "text": [
      "epoch 130| loss: 0.09026 | train_mse: 0.10729 | train_mae: 0.22214 |  0:00:10s\n",
      "epoch 131| loss: 0.13844 | train_mse: 0.13442 | train_mae: 0.24241 |  0:00:10s\n",
      "epoch 132| loss: 0.19815 | train_mse: 0.06203 | train_mae: 0.19032 |  0:00:10s\n",
      "epoch 133| loss: 0.14853 | train_mse: 0.05827 | train_mae: 0.18518 |  0:00:10s\n"
     ]
    },
    {
     "name": "stdout",
     "output_type": "stream",
     "text": [
      "epoch 134| loss: 0.18219 | train_mse: 0.10819 | train_mae: 0.2235  |  0:00:10s\n",
      "epoch 135| loss: 0.22582 | train_mse: 0.06877 | train_mae: 0.18451 |  0:00:10s\n",
      "epoch 136| loss: 0.12408 | train_mse: 0.05311 | train_mae: 0.17851 |  0:00:10s\n",
      "epoch 137| loss: 0.14041 | train_mse: 0.08078 | train_mae: 0.20951 |  0:00:10s\n"
     ]
    },
    {
     "name": "stdout",
     "output_type": "stream",
     "text": [
      "epoch 138| loss: 0.19597 | train_mse: 0.04833 | train_mae: 0.173   |  0:00:10s\n",
      "epoch 139| loss: 0.25986 | train_mse: 0.05123 | train_mae: 0.17669 |  0:00:10s\n",
      "epoch 140| loss: 0.12725 | train_mse: 0.06499 | train_mae: 0.19353 |  0:00:10s\n"
     ]
    },
    {
     "name": "stdout",
     "output_type": "stream",
     "text": [
      "epoch 141| loss: 0.31469 | train_mse: 0.0704  | train_mae: 0.19795 |  0:00:10s\n",
      "epoch 142| loss: 0.12177 | train_mse: 0.06734 | train_mae: 0.19039 |  0:00:10s\n",
      "epoch 143| loss: 0.08645 | train_mse: 0.0718  | train_mae: 0.1879  |  0:00:10s\n",
      "epoch 144| loss: 0.08459 | train_mse: 0.07332 | train_mae: 0.19105 |  0:00:10s\n"
     ]
    },
    {
     "name": "stdout",
     "output_type": "stream",
     "text": [
      "epoch 145| loss: 0.24034 | train_mse: 0.06585 | train_mae: 0.19036 |  0:00:11s\n",
      "epoch 146| loss: 0.13707 | train_mse: 0.06403 | train_mae: 0.18784 |  0:00:11s\n",
      "epoch 147| loss: 0.38253 | train_mse: 0.06056 | train_mae: 0.19099 |  0:00:11s\n"
     ]
    },
    {
     "name": "stdout",
     "output_type": "stream",
     "text": [
      "epoch 148| loss: 0.58518 | train_mse: 0.11131 | train_mae: 0.22875 |  0:00:11s\n",
      "epoch 149| loss: 0.29602 | train_mse: 0.21631 | train_mae: 0.26764 |  0:00:11s\n",
      "epoch 150| loss: 0.35634 | train_mse: 0.18923 | train_mae: 0.25491 |  0:00:11s\n",
      "epoch 151| loss: 0.17408 | train_mse: 0.07826 | train_mae: 0.21126 |  0:00:11s\n"
     ]
    },
    {
     "name": "stdout",
     "output_type": "stream",
     "text": [
      "epoch 152| loss: 0.19099 | train_mse: 0.0675  | train_mae: 0.2071  |  0:00:11s\n",
      "epoch 153| loss: 0.2098  | train_mse: 0.12109 | train_mae: 0.25808 |  0:00:11s\n",
      "epoch 154| loss: 0.28613 | train_mse: 0.30326 | train_mae: 0.32272 |  0:00:11s\n"
     ]
    },
    {
     "name": "stdout",
     "output_type": "stream",
     "text": [
      "epoch 155| loss: 0.4049  | train_mse: 0.33698 | train_mae: 0.33921 |  0:00:11s\n",
      "epoch 156| loss: 0.38137 | train_mse: 0.27778 | train_mae: 0.30571 |  0:00:11s\n",
      "epoch 157| loss: 0.26534 | train_mse: 0.19797 | train_mae: 0.2591  |  0:00:11s\n",
      "epoch 158| loss: 0.19517 | train_mse: 0.11903 | train_mae: 0.22674 |  0:00:11s\n"
     ]
    },
    {
     "name": "stdout",
     "output_type": "stream",
     "text": [
      "epoch 159| loss: 0.0983  | train_mse: 0.23394 | train_mae: 0.28462 |  0:00:11s\n",
      "epoch 160| loss: 0.28461 | train_mse: 0.26839 | train_mae: 0.30225 |  0:00:12s\n",
      "epoch 161| loss: 0.15776 | train_mse: 0.24191 | train_mae: 0.29424 |  0:00:12s\n"
     ]
    },
    {
     "name": "stdout",
     "output_type": "stream",
     "text": [
      "epoch 162| loss: 0.19267 | train_mse: 0.14911 | train_mae: 0.25465 |  0:00:12s\n",
      "epoch 163| loss: 0.22298 | train_mse: 0.14523 | train_mae: 0.2616  |  0:00:12s\n",
      "epoch 164| loss: 0.22103 | train_mse: 0.11166 | train_mae: 0.2284  |  0:00:12s\n"
     ]
    },
    {
     "name": "stdout",
     "output_type": "stream",
     "text": [
      "epoch 165| loss: 0.0981  | train_mse: 0.09126 | train_mae: 0.2085  |  0:00:12s\n",
      "epoch 166| loss: 0.15005 | train_mse: 0.09935 | train_mae: 0.2148  |  0:00:12s\n",
      "epoch 167| loss: 0.22503 | train_mse: 0.12288 | train_mae: 0.22783 |  0:00:12s\n",
      "epoch 168| loss: 0.19091 | train_mse: 0.16758 | train_mae: 0.27289 |  0:00:12s\n"
     ]
    },
    {
     "name": "stdout",
     "output_type": "stream",
     "text": [
      "epoch 169| loss: 0.08685 | train_mse: 0.17963 | train_mae: 0.27042 |  0:00:12s\n",
      "epoch 170| loss: 0.15245 | train_mse: 0.11879 | train_mae: 0.21693 |  0:00:12s\n",
      "epoch 171| loss: 0.30021 | train_mse: 0.09261 | train_mae: 0.2061  |  0:00:12s\n",
      "epoch 172| loss: 0.14735 | train_mse: 0.13126 | train_mae: 0.22772 |  0:00:12s\n"
     ]
    },
    {
     "name": "stdout",
     "output_type": "stream",
     "text": [
      "epoch 173| loss: 0.19765 | train_mse: 0.16182 | train_mae: 0.24353 |  0:00:12s\n",
      "epoch 174| loss: 0.162   | train_mse: 0.17092 | train_mae: 0.25352 |  0:00:13s\n",
      "epoch 175| loss: 0.22077 | train_mse: 0.12269 | train_mae: 0.22805 |  0:00:13s\n",
      "epoch 176| loss: 0.43623 | train_mse: 0.08477 | train_mae: 0.2014  |  0:00:13s\n"
     ]
    },
    {
     "name": "stdout",
     "output_type": "stream",
     "text": [
      "epoch 177| loss: 0.17612 | train_mse: 0.07783 | train_mae: 0.19185 |  0:00:13s\n",
      "epoch 178| loss: 0.426   | train_mse: 0.08074 | train_mae: 0.18912 |  0:00:13s\n",
      "epoch 179| loss: 0.13804 | train_mse: 0.0821  | train_mae: 0.18858 |  0:00:13s\n",
      "epoch 180| loss: 0.22664 | train_mse: 0.10046 | train_mae: 0.20388 |  0:00:13s\n"
     ]
    },
    {
     "name": "stdout",
     "output_type": "stream",
     "text": [
      "epoch 181| loss: 0.29969 | train_mse: 0.15244 | train_mae: 0.24013 |  0:00:13s\n",
      "epoch 182| loss: 0.52263 | train_mse: 0.13683 | train_mae: 0.2435  |  0:00:13s\n",
      "epoch 183| loss: 0.14297 | train_mse: 0.10346 | train_mae: 0.21177 |  0:00:13s\n"
     ]
    },
    {
     "name": "stdout",
     "output_type": "stream",
     "text": [
      "epoch 184| loss: 0.18886 | train_mse: 0.14287 | train_mae: 0.23717 |  0:00:13s\n",
      "epoch 185| loss: 0.09632 | train_mse: 0.1039  | train_mae: 0.21592 |  0:00:13s\n",
      "epoch 186| loss: 0.21999 | train_mse: 0.15387 | train_mae: 0.23386 |  0:00:13s\n",
      "epoch 187| loss: 0.1464  | train_mse: 0.10108 | train_mae: 0.2096  |  0:00:13s\n"
     ]
    },
    {
     "name": "stdout",
     "output_type": "stream",
     "text": [
      "epoch 188| loss: 0.1353  | train_mse: 0.07688 | train_mae: 0.1901  |  0:00:13s\n",
      "\n",
      "Early stopping occurred at epoch 188 with best_epoch = 138 and best_train_mae = 0.173\n",
      "Best weights from best epoch are automatically used!\n"
     ]
    }
   ],
   "source": [
    "#Train the Model\n",
    "\n",
    "Y_train = np.reshape(Y_train, (-1, 1))\n",
    "Y_test = np.reshape(Y_test, (-1, 1))\n",
    "\n",
    "prior_model = TabNetRegressor(optimizer_fn=torch.optim.Adam, optimizer_params=dict(lr = 0.02),\n",
    "          #scheduler_params={\"step_size\":10, ], \"gamma\":0.9},\n",
    "          #scheduler_fn=torch.optim.lr_scheduler.StepLR\n",
    "          )  #TabNetRegressor()\n",
    "\n",
    "prior_model.fit(X_train,Y_train,eval_set=[(X_train, Y_train)],\n",
    "            eval_name=['train'], \n",
    "            eval_metric=[ 'mse', 'mae'], \n",
    "            max_epochs = n_epochs, \n",
    "            batch_size = batch_size,\n",
    "            patience=50\n",
    "            )"
   ]
  },
  {
   "cell_type": "code",
   "execution_count": 10,
   "id": "af65dcda",
   "metadata": {
    "execution": {
     "iopub.execute_input": "2022-06-22T11:54:00.927232Z",
     "iopub.status.busy": "2022-06-22T11:54:00.926050Z",
     "iopub.status.idle": "2022-06-22T11:54:00.949241Z",
     "shell.execute_reply": "2022-06-22T11:54:00.949735Z"
    },
    "id": "af65dcda",
    "papermill": {
     "duration": 0.073625,
     "end_time": "2022-06-22T11:54:00.949973",
     "exception": false,
     "start_time": "2022-06-22T11:54:00.876348",
     "status": "completed"
    },
    "tags": []
   },
   "outputs": [
    {
     "data": {
      "application/scrapbook.scrap.json+json": {
       "data": 0.2613602360695029,
       "encoder": "json",
       "name": "Prior Model MSE",
       "version": 1
      }
     },
     "metadata": {
      "scrapbook": {
       "data": true,
       "display": false,
       "name": "Prior Model MSE"
      }
     },
     "output_type": "display_data"
    },
    {
     "data": {
      "application/scrapbook.scrap.json+json": {
       "data": 0.2633315714684434,
       "encoder": "json",
       "name": "ABC Pre-generator MSE",
       "version": 1
      }
     },
     "metadata": {
      "scrapbook": {
       "data": true,
       "display": false,
       "name": "ABC Pre-generator MSE"
      }
     },
     "output_type": "display_data"
    },
    {
     "data": {
      "application/scrapbook.scrap.json+json": {
       "data": 0.40635467189384195,
       "encoder": "json",
       "name": "Prior Model MSE",
       "version": 1
      }
     },
     "metadata": {
      "scrapbook": {
       "data": true,
       "display": false,
       "name": "Prior Model MSE"
      }
     },
     "output_type": "display_data"
    },
    {
     "data": {
      "application/scrapbook.scrap.json+json": {
       "data": 0.4073817130614234,
       "encoder": "json",
       "name": "ABC Pre-generator MSE",
       "version": 1
      }
     },
     "metadata": {
      "scrapbook": {
       "data": true,
       "display": false,
       "name": "ABC Pre-generator MSE"
      }
     },
     "output_type": "display_data"
    }
   ],
   "source": [
    "y_pred = prior_model.predict(X_test)\n",
    "y_abc = y_pred + np.random.normal(0,variance, y_pred.shape) + bias \n",
    "mse = mean_squared_error(y_pred,Y_test)\n",
    "sb.glue(\"Prior Model MSE\",mse)\n",
    "mse = mean_squared_error(y_abc,Y_test)\n",
    "sb.glue(\"ABC Pre-generator MSE\",mse)\n",
    "mae = mean_absolute_error(y_pred,Y_test)\n",
    "sb.glue(\"Prior Model MSE\",mae)\n",
    "mae = mean_absolute_error(y_abc,Y_test)\n",
    "sb.glue(\"ABC Pre-generator MSE\",mae)"
   ]
  },
  {
   "cell_type": "markdown",
   "id": "25609da2",
   "metadata": {
    "papermill": {
     "duration": 0.04088,
     "end_time": "2022-06-22T11:54:01.019866",
     "exception": false,
     "start_time": "2022-06-22T11:54:00.978986",
     "status": "completed"
    },
    "tags": []
   },
   "source": [
    "# ABC GAN Model"
   ]
  },
  {
   "cell_type": "code",
   "execution_count": 11,
   "id": "dfc3464d",
   "metadata": {
    "execution": {
     "iopub.execute_input": "2022-06-22T11:54:01.091256Z",
     "iopub.status.busy": "2022-06-22T11:54:01.090044Z",
     "iopub.status.idle": "2022-06-22T11:54:01.092612Z",
     "shell.execute_reply": "2022-06-22T11:54:01.093206Z"
    },
    "papermill": {
     "duration": 0.044341,
     "end_time": "2022-06-22T11:54:01.093533",
     "exception": false,
     "start_time": "2022-06-22T11:54:01.049192",
     "status": "completed"
    },
    "tags": []
   },
   "outputs": [],
   "source": [
    "gen = network.Generator(n_features+1).to(device)\n",
    "disc = network.Discriminator(n_features+1).to(device)\n",
    "\n",
    "criterion = torch.nn.BCELoss()\n",
    "gen_opt = torch.optim.Adam(gen.parameters(), lr=0.001, betas=(0.5, 0.999))\n",
    "disc_opt = torch.optim.Adam(disc.parameters(), lr=0.001, betas=(0.5, 0.999))"
   ]
  },
  {
   "cell_type": "code",
   "execution_count": 12,
   "id": "b75fdd85",
   "metadata": {
    "execution": {
     "iopub.execute_input": "2022-06-22T11:54:01.164514Z",
     "iopub.status.busy": "2022-06-22T11:54:01.163727Z",
     "iopub.status.idle": "2022-06-22T11:54:42.831258Z",
     "shell.execute_reply": "2022-06-22T11:54:42.830766Z"
    },
    "papermill": {
     "duration": 41.709227,
     "end_time": "2022-06-22T11:54:42.831437",
     "exception": false,
     "start_time": "2022-06-22T11:54:01.122210",
     "status": "completed"
    },
    "tags": []
   },
   "outputs": [
    {
     "data": {
      "image/png": "[encoded data removed]",
      "text/plain": [
       "<Figure size 432x288 with 1 Axes>"
      ]
     },
     "metadata": {
      "needs_background": "light"
     },
     "output_type": "display_data"
    },
    {
     "data": {
      "image/png": "[encoded data removed]",
      "text/plain": [
       "<Figure size 432x288 with 1 Axes>"
      ]
     },
     "metadata": {
      "needs_background": "light"
     },
     "output_type": "display_data"
    }
   ],
   "source": [
    "#Training the ABC_GAN \n",
    "ABC_train_test2.training_GAN(disc,gen,disc_opt,gen_opt,train_data,batch_size,n_epochs,criterion,prior_model,variance,bias,device)"
   ]
  },
  {
   "cell_type": "code",
   "execution_count": 13,
   "id": "1fa7c368",
   "metadata": {
    "execution": {
     "iopub.execute_input": "2022-06-22T11:54:42.915993Z",
     "iopub.status.busy": "2022-06-22T11:54:42.915168Z",
     "iopub.status.idle": "2022-06-22T11:54:43.540382Z",
     "shell.execute_reply": "2022-06-22T11:54:43.540926Z"
    },
    "papermill": {
     "duration": 0.67813,
     "end_time": "2022-06-22T11:54:43.541219",
     "exception": false,
     "start_time": "2022-06-22T11:54:42.863089",
     "status": "completed"
    },
    "tags": []
   },
   "outputs": [
    {
     "data": {
      "application/scrapbook.scrap.json+json": {
       "data": 0.31850634841621867,
       "encoder": "json",
       "name": "ABC-GAN Model 1 MSE",
       "version": 1
      }
     },
     "metadata": {
      "scrapbook": {
       "data": true,
       "display": false,
       "name": "ABC-GAN Model 1 MSE"
      }
     },
     "output_type": "display_data"
    },
    {
     "data": {
      "application/scrapbook.scrap.json+json": {
       "data": 0.4353767896592617,
       "encoder": "json",
       "name": "ABC-GAN Model 1 MAE",
       "version": 1
      }
     },
     "metadata": {
      "scrapbook": {
       "data": true,
       "display": false,
       "name": "ABC-GAN Model 1 MAE"
      }
     },
     "output_type": "display_data"
    },
    {
     "data": {
      "application/scrapbook.scrap.json+json": {
       "data": 8.707535793185235,
       "encoder": "json",
       "name": "ABC-GAN Model 1 Manhattan Distance",
       "version": 1
      }
     },
     "metadata": {
      "scrapbook": {
       "data": true,
       "display": false,
       "name": "ABC-GAN Model 1 Manhattan Distance"
      }
     },
     "output_type": "display_data"
    },
    {
     "data": {
      "application/scrapbook.scrap.json+json": {
       "data": 2.5238881607344283,
       "encoder": "json",
       "name": "ABC-GAN Model 1 Euclidean distance",
       "version": 1
      }
     },
     "metadata": {
      "scrapbook": {
       "data": true,
       "display": false,
       "name": "ABC-GAN Model 1 Euclidean distance"
      }
     },
     "output_type": "display_data"
    },
    {
     "data": {
      "application/scrapbook.scrap.json+json": {
       "data": [
        [
         0.31291134333197135,
         0.32379830901300394,
         0.3186964285532194,
         0.3161447478552908,
         0.31746659111800957,
         0.3170011804021259,
         0.31742894417837614,
         0.3207173621023837,
         0.3204442376901611,
         0.318823608528835,
         0.3189565032540228,
         0.32305662674796304,
         0.3157010632637687,
         0.3195103846315822,
         0.3165677864815589,
         0.32239162386633974,
         0.3178231545652804,
         0.3176096848223998,
         0.32085138692248455,
         0.31663335285765054,
         0.311442080023434,
         0.323861015942636,
         0.3194610193316655,
         0.31976724675359164,
         0.3181038344348324,
         0.3130571926012129,
         0.3201280373199892,
         0.31696428798107784,
         0.31630846723693956,
         0.3167884470082097,
         0.3175231007087755,
         0.3181113848346048,
         0.32042289088156595,
         0.3201891977664778,
         0.31969248978676,
         0.3154091168692091,
         0.3239627315530273,
         0.3236177776536886,
         0.3168806702147594,
         0.32137943169577954,
         0.318110804858078,
         0.32335949846051504,
         0.3191856376711545,
         0.31936810919778835,
         0.31612578085273835,
         0.3179347605758611,
         0.32194293726039785,
         0.31831719650867596,
         0.3137255069051246,
         0.3177267987668174,
         0.3219078488643853,
         0.31751840950335036,
         0.3170687580415993,
         0.3199220239612609,
         0.3203585486006815,
         0.3158921112843155,
         0.321727078275892,
         0.3132666923605786,
         0.31957816924853955,
         0.3214476164701549,
         0.31575454186941493,
         0.3222002523937585,
         0.3152272548292976,
         0.31522884168850623,
         0.3212380224931313,
         0.31583788326897827,
         0.31913289126735694,
         0.3168721834777853,
         0.3211829051170426,
         0.3187025320452611,
         0.3188760135776993,
         0.3179372877137919,
         0.3200268937199787,
         0.3181337807103393,
         0.3180149497626199,
         0.3198047311897042,
         0.3183952389315986,
         0.3219729352351878,
         0.316747537283941,
         0.32043194318601065,
         0.31928979371961896,
         0.31948889414606974,
         0.3152293317812868,
         0.31539974308351393,
         0.3221011310395736,
         0.31773299490036006,
         0.3201444536236103,
         0.3206301069975902,
         0.3122182784859065,
         0.31942125147635114,
         0.3167869866963501,
         0.318528201479826,
         0.3185818875081626,
         0.31682664107702085,
         0.3194672157981709,
         0.32273471865319003,
         0.31297007546306677,
         0.31787696750631067,
         0.31912661467688697,
         0.3142719052950232
        ],
        [
         0.4311689369380474,
         0.4416721150279045,
         0.4367861419916153,
         0.4340897172689438,
         0.43819726184010505,
         0.4352061625570059,
         0.4332839630544186,
         0.4391566522419453,
         0.4360952902585268,
         0.43734841570258143,
         0.43743836879730225,
         0.4357075564563274,
         0.4371498517692089,
         0.4345168448984623,
         0.43246633633971215,
         0.4369673117995262,
         0.43409922868013384,
         0.43216514512896537,
         0.43464967496693135,
         0.43433062694966795,
         0.4301731299608946,
         0.44055614396929743,
         0.4380024574697018,
         0.43843654096126555,
         0.43356434926390647,
         0.43176396414637563,
         0.4323419503867626,
         0.43418224044144155,
         0.4318665530532598,
         0.4322196803987026,
         0.4352564673870802,
         0.4371545385569334,
         0.4388137422502041,
         0.43740760423243047,
         0.4369280580431223,
         0.4328408561646938,
         0.43819497525691986,
         0.43806891664862635,
         0.4333073779940605,
         0.4381086479872465,
         0.43905979990959165,
         0.43624180406332014,
         0.43765746578574183,
         0.4381431479007006,
         0.43369983695447445,
         0.43519934341311456,
         0.43692196905612946,
         0.4321441393345594,
         0.43135738782584665,
         0.4332504265010357,
         0.4380627740174532,
         0.4352673325687647,
         0.4352198150008917,
         0.4366455845534801,
         0.43671243228018286,
         0.43613104447722434,
         0.4361204594373703,
         0.4318377237766981,
         0.4348186798393726,
         0.4381434004753828,
         0.4338738974183798,
         0.43999059945344926,
         0.4352369196712971,
         0.43277711868286134,
         0.43879048302769663,
         0.4340933598577976,
         0.43679489716887476,
         0.4310754418373108,
         0.43776442296803,
         0.433899936825037,
         0.4373322233557701,
         0.4350004117935896,
         0.43559603914618494,
         0.4343482986092567,
         0.4366477634757757,
         0.4357998013496399,
         0.4369313418865204,
         0.434358061850071,
         0.4348307628184557,
         0.43552119806408884,
         0.43604250699281694,
         0.4360009614378214,
         0.43078879192471503,
         0.43308759965002536,
         0.43490923568606377,
         0.43566923066973684,
         0.4375639446079731,
         0.4379519306123257,
         0.4298800889402628,
         0.435516981780529,
         0.43455326184630394,
         0.43551345691084864,
         0.43478416018188,
         0.4321638807654381,
         0.4357119224965572,
         0.4400296561419964,
         0.43123081177473066,
         0.43157259486615657,
         0.43814742192626,
         0.4315791830420494
        ],
        [
         8.623378738760948,
         8.83344230055809,
         8.735722839832306,
         8.681794345378876,
         8.763945236802101,
         8.704123251140118,
         8.665679261088371,
         8.783133044838905,
         8.721905805170536,
         8.746968314051628,
         8.748767375946045,
         8.714151129126549,
         8.742997035384178,
         8.690336897969246,
         8.649326726794243,
         8.739346235990524,
         8.681984573602676,
         8.643302902579308,
         8.692993499338627,
         8.686612538993359,
         8.603462599217892,
         8.811122879385948,
         8.760049149394035,
         8.768730819225311,
         8.67128698527813,
         8.635279282927513,
         8.646839007735252,
         8.68364480882883,
         8.637331061065197,
         8.644393607974052,
         8.705129347741604,
         8.743090771138668,
         8.776274845004082,
         8.74815208464861,
         8.738561160862446,
         8.656817123293877,
         8.763899505138397,
         8.761378332972527,
         8.66614755988121,
         8.76217295974493,
         8.781195998191833,
         8.724836081266403,
         8.753149315714836,
         8.762862958014011,
         8.673996739089489,
         8.703986868262291,
         8.738439381122589,
         8.642882786691189,
         8.627147756516933,
         8.665008530020714,
         8.761255480349064,
         8.705346651375294,
         8.704396300017834,
         8.732911691069603,
         8.734248645603657,
         8.722620889544487,
         8.722409188747406,
         8.636754475533962,
         8.696373596787453,
         8.762868009507656,
         8.677477948367596,
         8.799811989068985,
         8.704738393425941,
         8.655542373657227,
         8.775809660553932,
         8.681867197155952,
         8.735897943377495,
         8.621508836746216,
         8.7552884593606,
         8.67799873650074,
         8.746644467115402,
         8.700008235871792,
         8.711920782923698,
         8.686965972185135,
         8.732955269515514,
         8.715996026992798,
         8.738626837730408,
         8.687161237001419,
         8.696615256369114,
         8.710423961281776,
         8.720850139856339,
         8.720019228756428,
         8.6157758384943,
         8.661751993000507,
         8.698184713721275,
         8.713384613394737,
         8.751278892159462,
         8.759038612246513,
         8.597601778805256,
         8.71033963561058,
         8.691065236926079,
         8.710269138216972,
         8.6956832036376,
         8.643277615308762,
         8.714238449931145,
         8.800593122839928,
         8.624616235494614,
         8.631451897323132,
         8.7629484385252,
         8.631583660840988
        ],
        [
         2.50164483223327,
         2.5447919719026304,
         2.524664051129256,
         2.5145367281282285,
         2.5197880510789377,
         2.5179403503741935,
         2.51963864146578,
         2.532656163407831,
         2.531577522771764,
         2.525167750977487,
         2.525693976926036,
         2.5418757906237786,
         2.5127716301477485,
         2.5278860125867313,
         2.5162185377329966,
         2.539258253373767,
         2.521202707301737,
         2.5203558670251303,
         2.5331852949300195,
         2.516479099287934,
         2.495764732595739,
         2.5450383727662578,
         2.5276907221084843,
         2.5289019227862184,
         2.5223157392952706,
         2.502227777806061,
         2.530328189464715,
         2.5177938278623127,
         2.5151877354859202,
         2.517095337917138,
         2.5200123043698635,
         2.522345673513465,
         2.5314931992070053,
         2.530569887462023,
         2.5286062951229082,
         2.5116095113261894,
         2.545438003774703,
         2.5440824579941923,
         2.517461698674915,
         2.535268947057805,
         2.522343374158554,
         2.54306703985764,
         2.5266010277491557,
         2.5273231261466678,
         2.514461297585383,
         2.521645338170541,
         2.537490639432579,
         2.523161495063984,
         2.5048972310461144,
         2.520820496452762,
         2.5373523557613566,
         2.5199936884974545,
         2.518208720664748,
         2.5295138819989145,
         2.531239019139368,
         2.513531823090034,
         2.5366398178531058,
         2.503064890731275,
         2.5281541458089123,
         2.5355378777299102,
         2.5129844482981385,
         2.538504490418555,
         2.5108853212733457,
         2.510891641184487,
         2.5347111176350303,
         2.513316069534344,
         2.526392254846254,
         2.517427986965209,
         2.534493657980002,
         2.524688226475741,
         2.525375273410664,
         2.5216553599324074,
         2.529928432663575,
         2.5224344618258736,
         2.5219633215517625,
         2.52905014260178,
         2.5234707802215524,
         2.5376088557348147,
         2.5169328051576625,
         2.531528957709197,
         2.527013231938523,
         2.527800997491969,
         2.510893593051234,
         2.5115721892213805,
         2.538113988927895,
         2.520845076161405,
         2.530393066792629,
         2.5323116198350872,
         2.4988728598546444,
         2.527533388409938,
         2.5170895363349715,
         2.523997628682824,
         2.5242103220934764,
         2.517247072009503,
         2.527715236327743,
         2.5406090555344796,
         2.501879595276586,
         2.521416139816316,
         2.526367410638789,
         2.5070776026881303
        ]
       ],
       "encoder": "json",
       "name": "ABC_GAN_1 Metrics",
       "version": 1
      }
     },
     "metadata": {
      "scrapbook": {
       "data": true,
       "display": false,
       "name": "ABC_GAN_1 Metrics"
      }
     },
     "output_type": "display_data"
    },
    {
     "name": "stdout",
     "output_type": "stream",
     "text": [
      "MSE\n",
      "0.31850634841621867\n"
     ]
    }
   ],
   "source": [
    "ABC_GAN1_metrics=ABC_train_test2.test_generator(gen,test_data,prior_model,variance,bias,\"1\",device)\n",
    "sb.glue(\"ABC_GAN_1 Metrics\",ABC_GAN1_metrics)\n",
    "\n",
    "print(\"MSE\")\n",
    "print(mean(ABC_GAN1_metrics[0]))"
   ]
  },
  {
   "cell_type": "code",
   "execution_count": 14,
   "id": "eb22ce5c",
   "metadata": {
    "execution": {
     "iopub.execute_input": "2022-06-22T11:54:43.635009Z",
     "iopub.status.busy": "2022-06-22T11:54:43.634083Z",
     "iopub.status.idle": "2022-06-22T11:54:44.395627Z",
     "shell.execute_reply": "2022-06-22T11:54:44.396117Z"
    },
    "papermill": {
     "duration": 0.818665,
     "end_time": "2022-06-22T11:54:44.396382",
     "exception": false,
     "start_time": "2022-06-22T11:54:43.577717",
     "status": "completed"
    },
    "tags": []
   },
   "outputs": [
    {
     "data": {
      "image/png": "[encoded data removed]",
      "text/plain": [
       "<Figure size 432x288 with 1 Axes>"
      ]
     },
     "metadata": {
      "needs_background": "light"
     },
     "output_type": "display_data"
    },
    {
     "data": {
      "image/png": "[encoded data removed]",
      "text/plain": [
       "<Figure size 432x288 with 1 Axes>"
      ]
     },
     "metadata": {
      "needs_background": "light"
     },
     "output_type": "display_data"
    },
    {
     "data": {
      "image/png": "[encoded data removed]",
      "text/plain": [
       "<Figure size 432x288 with 1 Axes>"
      ]
     },
     "metadata": {
      "needs_background": "light"
     },
     "output_type": "display_data"
    },
    {
     "data": {
      "image/png": "[encoded data removed]",
      "text/plain": [
       "<Figure size 432x288 with 1 Axes>"
      ]
     },
     "metadata": {
      "needs_background": "light"
     },
     "output_type": "display_data"
    }
   ],
   "source": [
    "sanityChecks.discProbVsError(train_data,disc,device)\n",
    "sanityChecks.discProbVsError(test_data,disc,device)"
   ]
  },
  {
   "cell_type": "markdown",
   "id": "130f3a4d",
   "metadata": {
    "id": "130f3a4d",
    "papermill": {
     "duration": 0.041716,
     "end_time": "2022-06-22T11:54:44.473588",
     "exception": false,
     "start_time": "2022-06-22T11:54:44.431872",
     "status": "completed"
    },
    "tags": []
   },
   "source": [
    "# ABC - GAN Model with skip connection"
   ]
  },
  {
   "cell_type": "code",
   "execution_count": 15,
   "id": "4e43dad1",
   "metadata": {
    "execution": {
     "iopub.execute_input": "2022-06-22T11:54:44.568093Z",
     "iopub.status.busy": "2022-06-22T11:54:44.567232Z",
     "iopub.status.idle": "2022-06-22T11:54:44.570078Z",
     "shell.execute_reply": "2022-06-22T11:54:44.570583Z"
    },
    "id": "4e43dad1",
    "papermill": {
     "duration": 0.055469,
     "end_time": "2022-06-22T11:54:44.570829",
     "exception": false,
     "start_time": "2022-06-22T11:54:44.515360",
     "status": "completed"
    },
    "tags": []
   },
   "outputs": [],
   "source": [
    "#Generator\n",
    "gen3 = network.GeneratorWithSkipConnection(n_features+1).to(device)\n",
    "constraints=network.weightConstraint()\n",
    "#Discriminator \n",
    "disc3 = network.Discriminator(n_features+1).to(device)\n",
    "\n",
    "criterion = torch.nn.BCELoss()\n",
    "gen_opt = torch.optim.Adam(gen3.parameters(), lr=0.001, betas=(0.5, 0.999))\n",
    "disc_opt = torch.optim.Adam(disc3.parameters(), lr=0.001, betas=(0.5, 0.999))\n"
   ]
  },
  {
   "cell_type": "code",
   "execution_count": 16,
   "id": "26acbc37",
   "metadata": {
    "execution": {
     "iopub.execute_input": "2022-06-22T11:54:44.660015Z",
     "iopub.status.busy": "2022-06-22T11:54:44.659301Z",
     "iopub.status.idle": "2022-06-22T11:55:55.962534Z",
     "shell.execute_reply": "2022-06-22T11:55:55.963184Z"
    },
    "id": "26acbc37",
    "papermill": {
     "duration": 71.349152,
     "end_time": "2022-06-22T11:55:55.963394",
     "exception": false,
     "start_time": "2022-06-22T11:54:44.614242",
     "status": "completed"
    },
    "tags": []
   },
   "outputs": [
    {
     "data": {
      "image/png": "[encoded data removed]",
      "text/plain": [
       "<Figure size 432x288 with 1 Axes>"
      ]
     },
     "metadata": {
      "needs_background": "light"
     },
     "output_type": "display_data"
    },
    {
     "data": {
      "image/png": "[encoded data removed]",
      "text/plain": [
       "<Figure size 432x288 with 1 Axes>"
      ]
     },
     "metadata": {
      "needs_background": "light"
     },
     "output_type": "display_data"
    }
   ],
   "source": [
    "ABC_train_test2.training_GAN_skip_connection(disc3,gen3,disc_opt,gen_opt,train_data,batch_size,n_epochs,criterion,prior_model,variance,bias,device)"
   ]
  },
  {
   "cell_type": "code",
   "execution_count": 17,
   "id": "c5e0717b",
   "metadata": {
    "execution": {
     "iopub.execute_input": "2022-06-22T11:55:56.060984Z",
     "iopub.status.busy": "2022-06-22T11:55:56.060186Z",
     "iopub.status.idle": "2022-06-22T11:55:56.901109Z",
     "shell.execute_reply": "2022-06-22T11:55:56.901587Z"
    },
    "id": "c5e0717b",
    "papermill": {
     "duration": 0.899138,
     "end_time": "2022-06-22T11:55:56.901914",
     "exception": false,
     "start_time": "2022-06-22T11:55:56.002776",
     "status": "completed"
    },
    "tags": []
   },
   "outputs": [
    {
     "data": {
      "application/scrapbook.scrap.json+json": {
       "data": 0.28143430743610376,
       "encoder": "json",
       "name": "ABC-GAN Model 3 MSE",
       "version": 1
      }
     },
     "metadata": {
      "scrapbook": {
       "data": true,
       "display": false,
       "name": "ABC-GAN Model 3 MSE"
      }
     },
     "output_type": "display_data"
    },
    {
     "data": {
      "application/scrapbook.scrap.json+json": {
       "data": 0.42300065786298363,
       "encoder": "json",
       "name": "ABC-GAN Model 3 MAE",
       "version": 1
      }
     },
     "metadata": {
      "scrapbook": {
       "data": true,
       "display": false,
       "name": "ABC-GAN Model 3 MAE"
      }
     },
     "output_type": "display_data"
    },
    {
     "data": {
      "application/scrapbook.scrap.json+json": {
       "data": 8.460013157259674,
       "encoder": "json",
       "name": "ABC-GAN Model 3 Manhattan Distance",
       "version": 1
      }
     },
     "metadata": {
      "scrapbook": {
       "data": true,
       "display": false,
       "name": "ABC-GAN Model 3 Manhattan Distance"
      }
     },
     "output_type": "display_data"
    },
    {
     "data": {
      "application/scrapbook.scrap.json+json": {
       "data": 2.372464172900767,
       "encoder": "json",
       "name": "ABC-GAN Model 3 Euclidean distance",
       "version": 1
      }
     },
     "metadata": {
      "scrapbook": {
       "data": true,
       "display": false,
       "name": "ABC-GAN Model 3 Euclidean distance"
      }
     },
     "output_type": "display_data"
    },
    {
     "data": {
      "application/scrapbook.scrap.json+json": {
       "data": [
        [
         0.27984113968807367,
         0.28291087677626814,
         0.2792810194916179,
         0.2797230610097136,
         0.2825014408622363,
         0.28539383204499996,
         0.2825503401497442,
         0.28098919589237337,
         0.28320261667507424,
         0.281687514980375,
         0.27955435844481563,
         0.2829233281588914,
         0.28259463299521476,
         0.283612551799143,
         0.28019974280670784,
         0.27852822181211967,
         0.28250278539447976,
         0.2791073964738859,
         0.28060710191882954,
         0.2815254697548456,
         0.2843254042608766,
         0.28310211987434275,
         0.28085802732938775,
         0.28176203669422656,
         0.2833591660076834,
         0.27877422634201604,
         0.28239404835017856,
         0.2823359434803109,
         0.2828250676043364,
         0.2830988863058205,
         0.28218402716388924,
         0.27420741112299846,
         0.28060879562345137,
         0.28348570789385164,
         0.280292194495588,
         0.28019198905517273,
         0.2797982422853694,
         0.2824001780478979,
         0.28180422396806964,
         0.2810778450176597,
         0.27618772328069907,
         0.27903915166454885,
         0.2824925125943398,
         0.28430329046904235,
         0.28261867135137864,
         0.28240837982835626,
         0.2808702610352173,
         0.283619270520882,
         0.2758293646156474,
         0.27939181817531705,
         0.283388971572094,
         0.28116024878971857,
         0.27774364562108217,
         0.2814813941403531,
         0.27853557836491444,
         0.27953503343710356,
         0.2840760772734309,
         0.2814702401848578,
         0.28605675556615284,
         0.28155928032688027,
         0.2825164319549547,
         0.2808112019802239,
         0.2803211229281899,
         0.2829248130290495,
         0.2797603652813705,
         0.2851071146206667,
         0.2791195811461954,
         0.2842012889038978,
         0.28115970471068497,
         0.28268735991188226,
         0.2825255384233059,
         0.2802900785999099,
         0.2802999101128013,
         0.2834121783011639,
         0.2822076268882635,
         0.27884019140840255,
         0.2825152884326918,
         0.2876619222272476,
         0.28223249230152286,
         0.28288741186752875,
         0.28290478699778954,
         0.286495811499038,
         0.28150203468895396,
         0.28018421156378187,
         0.27660164895368455,
         0.27996927727612714,
         0.2818099118955349,
         0.2769607250696703,
         0.27833314337224285,
         0.2759270294961217,
         0.2814805592460715,
         0.2809030819105006,
         0.28081192286279694,
         0.28580273775678083,
         0.28222984332322026,
         0.2824071791470115,
         0.27916492258832,
         0.2846467151618136,
         0.2791392391270254,
         0.2847845017793843
        ],
        [
         0.4198243433609605,
         0.4264807440340519,
         0.41959914192557335,
         0.4227121241390705,
         0.4254433972761035,
         0.42417906783521175,
         0.4209131790325046,
         0.4204353826120496,
         0.42404430620372296,
         0.42370415553450586,
         0.42106383070349696,
         0.42551480829715727,
         0.4266231440007687,
         0.4231465445831418,
         0.423371809348464,
         0.42122697411105037,
         0.4259210925549269,
         0.4199025178328156,
         0.4240900631994009,
         0.423389938659966,
         0.42586360685527325,
         0.4226567894220352,
         0.423757379129529,
         0.4234267931431532,
         0.4253245720639825,
         0.42088464703410866,
         0.4249605031684041,
         0.4243317201733589,
         0.42285678200423715,
         0.42455170266330244,
         0.42291691452264785,
         0.42009222637861965,
         0.419540167786181,
         0.426452474296093,
         0.4203550469130278,
         0.42135901395231484,
         0.4219608062878251,
         0.42584569491446017,
         0.423052740842104,
         0.4262074576690793,
         0.41826359555125237,
         0.42289057523012163,
         0.4215892292559147,
         0.42611124087125063,
         0.42471943963319064,
         0.42335831467062235,
         0.4208096357062459,
         0.4245520867407322,
         0.4210188018158078,
         0.42033656500279903,
         0.42565884431824086,
         0.4187170583754778,
         0.4212656669318676,
         0.4216186678037047,
         0.42075975313782693,
         0.42068188805133105,
         0.42554849833250047,
         0.4229016102850437,
         0.42846832126379014,
         0.4221569763496518,
         0.4266998106613755,
         0.42018724121153356,
         0.42322709150612353,
         0.42248790469020603,
         0.4215146821923554,
         0.42445244621485473,
         0.4217044297605753,
         0.42460619788616893,
         0.42375005353242157,
         0.42300002854317426,
         0.42389633022248746,
         0.422203579172492,
         0.42374514918774364,
         0.424440130405128,
         0.42424372099339963,
         0.4194510255008936,
         0.4237046603113413,
         0.42790370956063273,
         0.4255777126178145,
         0.423814888484776,
         0.41870602294802667,
         0.42533505903556945,
         0.4242780767381191,
         0.42202949784696103,
         0.4196607869118452,
         0.41844272185117004,
         0.42851790990680455,
         0.42161928601562976,
         0.4222172128036618,
         0.42259780485183,
         0.42065274752676485,
         0.4204675545915961,
         0.4226628340780735,
         0.4265945825725794,
         0.4228276591747999,
         0.42182349767535926,
         0.42053646286949514,
         0.42469427473843097,
         0.4213360194116831,
         0.4250446083024144
        ],
        [
         8.39648686721921,
         8.529614880681038,
         8.391982838511467,
         8.45424248278141,
         8.50886794552207,
         8.483581356704235,
         8.418263580650091,
         8.408707652240992,
         8.480886124074459,
         8.474083110690117,
         8.421276614069939,
         8.510296165943146,
         8.532462880015373,
         8.462930891662836,
         8.46743618696928,
         8.424539482221007,
         8.518421851098537,
         8.398050356656313,
         8.481801263988018,
         8.46779877319932,
         8.517272137105465,
         8.453135788440704,
         8.47514758259058,
         8.468535862863064,
         8.50649144127965,
         8.417692940682173,
         8.499210063368082,
         8.486634403467178,
         8.457135640084743,
         8.491034053266048,
         8.458338290452957,
         8.401844527572393,
         8.39080335572362,
         8.52904948592186,
         8.407100938260555,
         8.427180279046297,
         8.439216125756502,
         8.516913898289204,
         8.46105481684208,
         8.524149153381586,
         8.365271911025047,
         8.457811504602432,
         8.431784585118294,
         8.522224817425013,
         8.494388792663813,
         8.467166293412447,
         8.416192714124918,
         8.491041734814644,
         8.420376036316156,
         8.40673130005598,
         8.513176886364818,
         8.374341167509556,
         8.425313338637352,
         8.432373356074095,
         8.415195062756538,
         8.41363776102662,
         8.51096996665001,
         8.458032205700874,
         8.569366425275803,
         8.443139526993036,
         8.53399621322751,
         8.403744824230671,
         8.46454183012247,
         8.449758093804121,
         8.430293643847108,
         8.489048924297094,
         8.434088595211506,
         8.49212395772338,
         8.475001070648432,
         8.460000570863485,
         8.477926604449749,
         8.44407158344984,
         8.474902983754873,
         8.48880260810256,
         8.484874419867992,
         8.389020510017872,
         8.474093206226826,
         8.558074191212654,
         8.51155425235629,
         8.47629776969552,
         8.374120458960533,
         8.506701180711389,
         8.485561534762383,
         8.44058995693922,
         8.393215738236904,
         8.368854437023401,
         8.570358198136091,
         8.432385720312595,
         8.444344256073236,
         8.4519560970366,
         8.413054950535297,
         8.409351091831923,
         8.45325668156147,
         8.531891651451588,
         8.456553183495998,
         8.436469953507185,
         8.410729257389903,
         8.49388549476862,
         8.426720388233662,
         8.500892166048288
        ],
        [
         2.3657605106522244,
         2.378700808324864,
         2.3633917131597877,
         2.365261342895172,
         2.3769789265462,
         2.3891162886933737,
         2.377184637968806,
         2.3706083434104985,
         2.3799269596988655,
         2.373552253397321,
         2.3645479840545236,
         2.3787531530568335,
         2.3773709554683076,
         2.3816488061808903,
         2.3672758301757226,
         2.3602043208676644,
         2.376984583014706,
         2.3626569639873067,
         2.3689959979655075,
         2.3728694433316195,
         2.3846400326291457,
         2.379504653806513,
         2.3700549669971274,
         2.3738661996592247,
         2.3805846593124276,
         2.3612463926579794,
         2.376527081058318,
         2.3762825736023516,
         2.3783400413075353,
         2.379491064517034,
         2.3756431851769713,
         2.3418258309404587,
         2.369003147416446,
         2.3811161579975537,
         2.3676663383829575,
         2.3672430760493217,
         2.3655791776449564,
         2.3765528735877006,
         2.3740439084737655,
         2.370982264875297,
         2.3502668924217907,
         2.3623680986016926,
         2.376941364839864,
         2.3845472965283885,
         2.3774720665083686,
         2.376587384584696,
         2.3701065842498195,
         2.381677016393625,
         2.3487416401794703,
         2.3638604788579087,
         2.380709858727409,
         2.371329790601546,
         2.3568777890297246,
         2.372683687895852,
         2.360235489797213,
         2.3644662545153974,
         2.3835942493362032,
         2.372636677558778,
         2.391889443791886,
         2.3730119271798036,
         2.377041993549776,
         2.3698573880308658,
         2.367788516435494,
         2.378759395269095,
         2.3654190549725875,
         2.387915888890003,
         2.3627085353305657,
         2.3841194974409223,
         2.3713274961956854,
         2.377760963225203,
         2.377080303327197,
         2.367657401736619,
         2.367698925593376,
         2.380807334923025,
         2.375742523457723,
         2.361525741584887,
         2.377037182850499,
         2.3985909289716227,
         2.3758471849069878,
         2.3786021603770933,
         2.378675206907364,
         2.3937243429394206,
         2.372770678716989,
         2.3672102211835004,
         2.352027418860948,
         2.3663020824743706,
         2.3740678671661217,
         2.353553590083176,
         2.3593776440927927,
         2.34915742127309,
         2.3726801691170745,
         2.370245058682754,
         2.3698604299105757,
         2.390827211476316,
         2.3758360352651455,
         2.3765823324556274,
         2.3629004320466827,
         2.3859870710538797,
         2.362791734906085,
         2.386564483852822
        ]
       ],
       "encoder": "json",
       "name": "ABC_GAN_3 Metrics",
       "version": 1
      }
     },
     "metadata": {
      "scrapbook": {
       "data": true,
       "display": false,
       "name": "ABC_GAN_3 Metrics"
      }
     },
     "output_type": "display_data"
    },
    {
     "name": "stdout",
     "output_type": "stream",
     "text": [
      "MSE\n",
      "0.28143430743610376\n"
     ]
    }
   ],
   "source": [
    "ABC_GAN3_metrics=ABC_train_test2.test_generator(gen3,test_data,prior_model,variance,bias,\"3\",device)\n",
    "sb.glue(\"ABC_GAN_3 Metrics\",ABC_GAN3_metrics)\n",
    "\n",
    "print(\"MSE\")\n",
    "print(mean(ABC_GAN3_metrics[0]))"
   ]
  },
  {
   "cell_type": "code",
   "execution_count": 18,
   "id": "c8e46b48",
   "metadata": {
    "execution": {
     "iopub.execute_input": "2022-06-22T11:55:56.999203Z",
     "iopub.status.busy": "2022-06-22T11:55:56.998483Z",
     "iopub.status.idle": "2022-06-22T11:55:57.753721Z",
     "shell.execute_reply": "2022-06-22T11:55:57.754241Z"
    },
    "id": "c8e46b48",
    "papermill": {
     "duration": 0.809087,
     "end_time": "2022-06-22T11:55:57.754455",
     "exception": false,
     "start_time": "2022-06-22T11:55:56.945368",
     "status": "completed"
    },
    "tags": []
   },
   "outputs": [
    {
     "data": {
      "image/png": "[encoded data removed]",
      "text/plain": [
       "<Figure size 432x288 with 1 Axes>"
      ]
     },
     "metadata": {
      "needs_background": "light"
     },
     "output_type": "display_data"
    },
    {
     "data": {
      "image/png": "[encoded data removed]",
      "text/plain": [
       "<Figure size 432x288 with 1 Axes>"
      ]
     },
     "metadata": {
      "needs_background": "light"
     },
     "output_type": "display_data"
    },
    {
     "data": {
      "image/png": "[encoded data removed]",
      "text/plain": [
       "<Figure size 432x288 with 1 Axes>"
      ]
     },
     "metadata": {
      "needs_background": "light"
     },
     "output_type": "display_data"
    },
    {
     "data": {
      "image/png": "[encoded data removed]",
      "text/plain": [
       "<Figure size 432x288 with 1 Axes>"
      ]
     },
     "metadata": {
      "needs_background": "light"
     },
     "output_type": "display_data"
    }
   ],
   "source": [
    "sanityChecks.discProbVsError(train_data,disc3,device)\n",
    "sanityChecks.discProbVsError(test_data,disc3,device)"
   ]
  },
  {
   "cell_type": "markdown",
   "id": "a5bd74c3",
   "metadata": {
    "id": "a5bd74c3",
    "papermill": {
     "duration": 0.110872,
     "end_time": "2022-06-22T11:55:57.914453",
     "exception": false,
     "start_time": "2022-06-22T11:55:57.803581",
     "status": "completed"
    },
    "tags": []
   },
   "source": [
    "## Skip Connection Model Analysis - ABC-GAN "
   ]
  },
  {
   "cell_type": "markdown",
   "id": "5744a8bf",
   "metadata": {
    "id": "5744a8bf",
    "papermill": {
     "duration": 0.057256,
     "end_time": "2022-06-22T11:55:58.027692",
     "exception": false,
     "start_time": "2022-06-22T11:55:57.970436",
     "status": "completed"
    },
    "tags": []
   },
   "source": [
    "### Weight Analysis \n",
    "\n",
    "Study the weights of the skip connection layer\n",
    "\n",
    "Equation of the skip connection is \n",
    "\n",
    "$output = y_{gan} * w + y_{abc} * (1-w)$"
   ]
  },
  {
   "cell_type": "code",
   "execution_count": 19,
   "id": "52c31dea",
   "metadata": {
    "execution": {
     "iopub.execute_input": "2022-06-22T11:55:58.137362Z",
     "iopub.status.busy": "2022-06-22T11:55:58.133174Z",
     "iopub.status.idle": "2022-06-22T11:55:58.144550Z",
     "shell.execute_reply": "2022-06-22T11:55:58.145156Z"
    },
    "id": "52c31dea",
    "papermill": {
     "duration": 0.069743,
     "end_time": "2022-06-22T11:55:58.145490",
     "exception": false,
     "start_time": "2022-06-22T11:55:58.075747",
     "status": "completed"
    },
    "tags": []
   },
   "outputs": [
    {
     "name": "stdout",
     "output_type": "stream",
     "text": [
      "Weight of the node at skip connection\n",
      "Parameter containing:\n",
      "tensor([[0.7580]], requires_grad=True)\n"
     ]
    },
    {
     "data": {
      "application/scrapbook.scrap.json+json": {
       "data": 0.7579671740531921,
       "encoder": "json",
       "name": "Skip Connection Weight",
       "version": 1
      }
     },
     "metadata": {
      "scrapbook": {
       "data": true,
       "display": false,
       "name": "Skip Connection Weight"
      }
     },
     "output_type": "display_data"
    }
   ],
   "source": [
    "print(\"Weight of the node at skip connection\")\n",
    "for name,param in gen3.named_parameters():\n",
    "    if(name == \"skipNode.weight\"):\n",
    "        print(param)\n",
    "        sb.glue(\"Skip Connection Weight\",param.item())"
   ]
  }
 ],
 "metadata": {
  "colab": {
   "collapsed_sections": [],
   "name": "ABC_GAN_Model-Catboost_Pre-gen.ipynb",
   "provenance": []
  },
  "interpreter": {
   "hash": "31f2aee4e71d21fbe5cf8b01ff0e069b9275f58929596ceb00d14d90e3e16cd6"
  },
  "kernelspec": {
   "display_name": "Python 3 (ipykernel)",
   "language": "python",
   "name": "python3"
  },
  "language_info": {
   "codemirror_mode": {
    "name": "ipython",
    "version": 3
   },
   "file_extension": ".py",
   "mimetype": "text/x-python",
   "name": "python",
   "nbconvert_exporter": "python",
   "pygments_lexer": "ipython3",
   "version": "3.8.3"
  },
  "papermill": {
   "default_parameters": {},
   "duration": 141.516848,
   "end_time": "2022-06-22T11:55:59.504752",
   "environment_variables": {},
   "exception": null,
   "input_path": "ABC_GAN-TabNet.ipynb",
   "output_path": "./ABC_GAN_TabNet/ABC-GAN_output_1_11.ipynb",
   "parameters": {
    "bias": 0,
    "variance": 0.01
   },
   "start_time": "2022-06-22T11:53:37.987904",
   "version": "2.3.3"
  }
 },
 "nbformat": 4,
 "nbformat_minor": 5
}
