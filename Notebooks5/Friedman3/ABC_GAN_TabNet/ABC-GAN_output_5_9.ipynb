{
 "cells": [
  {
   "cell_type": "markdown",
   "id": "622780e6",
   "metadata": {
    "id": "622780e6",
    "papermill": {
     "duration": 0.023308,
     "end_time": "2022-06-22T13:58:12.437887",
     "exception": false,
     "start_time": "2022-06-22T13:58:12.414579",
     "status": "completed"
    },
    "tags": []
   },
   "source": [
    "## Import Libraries "
   ]
  },
  {
   "cell_type": "code",
   "execution_count": 1,
   "id": "a62397e3",
   "metadata": {
    "execution": {
     "iopub.execute_input": "2022-06-22T13:58:12.523601Z",
     "iopub.status.busy": "2022-06-22T13:58:12.521345Z",
     "iopub.status.idle": "2022-06-22T13:58:12.524925Z",
     "shell.execute_reply": "2022-06-22T13:58:12.525527Z"
    },
    "id": "a62397e3",
    "papermill": {
     "duration": 0.044222,
     "end_time": "2022-06-22T13:58:12.526024",
     "exception": false,
     "start_time": "2022-06-22T13:58:12.481802",
     "status": "completed"
    },
    "tags": []
   },
   "outputs": [],
   "source": [
    "import warnings\n",
    "import sys\n",
    "sys.path.insert(0, '../../src')\n",
    "warnings.filterwarnings('ignore')"
   ]
  },
  {
   "cell_type": "code",
   "execution_count": 2,
   "id": "d6a4e155",
   "metadata": {
    "execution": {
     "iopub.execute_input": "2022-06-22T13:58:12.574194Z",
     "iopub.status.busy": "2022-06-22T13:58:12.572924Z",
     "iopub.status.idle": "2022-06-22T13:58:19.612356Z",
     "shell.execute_reply": "2022-06-22T13:58:19.613423Z"
    },
    "id": "d6a4e155",
    "papermill": {
     "duration": 7.068447,
     "end_time": "2022-06-22T13:58:19.613733",
     "exception": false,
     "start_time": "2022-06-22T13:58:12.545286",
     "status": "completed"
    },
    "tags": []
   },
   "outputs": [],
   "source": [
    "import ABC_train_test2\n",
    "import friedman3Dataset\n",
    "import network\n",
    "import dataset\n",
    "import sanityChecks\n",
    "import torch \n",
    "import scrapbook as sb\n",
    "from statistics import mean \n",
    "import catboost as ctb \n",
    "from sklearn.model_selection import train_test_split\n",
    "from sklearn.metrics import mean_squared_error,mean_absolute_error\n",
    "import numpy as np\n",
    "from pytorch_tabnet.tab_model import TabNetRegressor"
   ]
  },
  {
   "cell_type": "markdown",
   "id": "2fa5b0f7",
   "metadata": {
    "id": "2fa5b0f7",
    "papermill": {
     "duration": 0.030887,
     "end_time": "2022-06-22T13:58:19.662425",
     "exception": false,
     "start_time": "2022-06-22T13:58:19.631538",
     "status": "completed"
    },
    "tags": []
   },
   "source": [
    "## Parameters "
   ]
  },
  {
   "cell_type": "code",
   "execution_count": 3,
   "id": "783186fb",
   "metadata": {
    "execution": {
     "iopub.execute_input": "2022-06-22T13:58:19.729924Z",
     "iopub.status.busy": "2022-06-22T13:58:19.727402Z",
     "iopub.status.idle": "2022-06-22T13:58:19.731525Z",
     "shell.execute_reply": "2022-06-22T13:58:19.730741Z"
    },
    "id": "783186fb",
    "papermill": {
     "duration": 0.027486,
     "end_time": "2022-06-22T13:58:19.731762",
     "exception": false,
     "start_time": "2022-06-22T13:58:19.704276",
     "status": "completed"
    },
    "tags": [
     "parameters"
    ]
   },
   "outputs": [],
   "source": [
    "variance = 1\n",
    "bias = 1 "
   ]
  },
  {
   "cell_type": "code",
   "execution_count": 4,
   "id": "91689fda",
   "metadata": {
    "execution": {
     "iopub.execute_input": "2022-06-22T13:58:19.786855Z",
     "iopub.status.busy": "2022-06-22T13:58:19.785157Z",
     "iopub.status.idle": "2022-06-22T13:58:19.788633Z",
     "shell.execute_reply": "2022-06-22T13:58:19.787840Z"
    },
    "papermill": {
     "duration": 0.028293,
     "end_time": "2022-06-22T13:58:19.788874",
     "exception": false,
     "start_time": "2022-06-22T13:58:19.760581",
     "status": "completed"
    },
    "tags": [
     "injected-parameters"
    ]
   },
   "outputs": [],
   "source": [
    "# Parameters\n",
    "variance = 1\n",
    "bias = 0\n"
   ]
  },
  {
   "cell_type": "markdown",
   "id": "391cdbfd",
   "metadata": {
    "id": "391cdbfd",
    "papermill": {
     "duration": 0.018289,
     "end_time": "2022-06-22T13:58:19.827995",
     "exception": false,
     "start_time": "2022-06-22T13:58:19.809706",
     "status": "completed"
    },
    "tags": []
   },
   "source": [
    "## Dataset \n"
   ]
  },
  {
   "cell_type": "code",
   "execution_count": 5,
   "id": "5b51f161",
   "metadata": {
    "execution": {
     "iopub.execute_input": "2022-06-22T13:58:19.861942Z",
     "iopub.status.busy": "2022-06-22T13:58:19.861154Z",
     "iopub.status.idle": "2022-06-22T13:58:19.863166Z",
     "shell.execute_reply": "2022-06-22T13:58:19.863605Z"
    },
    "id": "5b51f161",
    "papermill": {
     "duration": 0.020522,
     "end_time": "2022-06-22T13:58:19.863852",
     "exception": false,
     "start_time": "2022-06-22T13:58:19.843330",
     "status": "completed"
    },
    "tags": []
   },
   "outputs": [],
   "source": [
    "#Parameters \n",
    "n_features = 4\n",
    "n_samples= 100\n",
    "n_target = 1"
   ]
  },
  {
   "cell_type": "code",
   "execution_count": 6,
   "id": "5d6eced4",
   "metadata": {
    "execution": {
     "iopub.execute_input": "2022-06-22T13:58:19.900081Z",
     "iopub.status.busy": "2022-06-22T13:58:19.899163Z",
     "iopub.status.idle": "2022-06-22T13:58:19.913941Z",
     "shell.execute_reply": "2022-06-22T13:58:19.914584Z"
    },
    "id": "5d6eced4",
    "papermill": {
     "duration": 0.037503,
     "end_time": "2022-06-22T13:58:19.914862",
     "exception": false,
     "start_time": "2022-06-22T13:58:19.877359",
     "status": "completed"
    },
    "tags": []
   },
   "outputs": [
    {
     "name": "stdout",
     "output_type": "stream",
     "text": [
      "          X1           X2        X3         X4         Y\n",
      "0  86.499393  1090.618424  0.135381  10.541852  1.111677\n",
      "1  65.923527   739.508317  0.565501   4.308761  1.376101\n",
      "2  76.767855  1380.305351  0.396385  10.398151  1.420090\n",
      "3   7.796444   962.437142  0.055894   7.046614  1.335254\n",
      "4  85.082609   345.852913  0.147613   3.191345  0.405713\n"
     ]
    }
   ],
   "source": [
    "X,Y = friedman3Dataset.friedman3_data(n_samples)"
   ]
  },
  {
   "cell_type": "code",
   "execution_count": 7,
   "id": "fe007438",
   "metadata": {
    "execution": {
     "iopub.execute_input": "2022-06-22T13:58:19.950115Z",
     "iopub.status.busy": "2022-06-22T13:58:19.949391Z",
     "iopub.status.idle": "2022-06-22T13:58:19.952241Z",
     "shell.execute_reply": "2022-06-22T13:58:19.952786Z"
    },
    "id": "fe007438",
    "papermill": {
     "duration": 0.023115,
     "end_time": "2022-06-22T13:58:19.953000",
     "exception": false,
     "start_time": "2022-06-22T13:58:19.929885",
     "status": "completed"
    },
    "tags": []
   },
   "outputs": [],
   "source": [
    "#Train test split for dataset \n",
    "X_train,X_test,Y_train,Y_test = train_test_split(X,Y,test_size = 0.2)\n",
    "train_data = dataset.CustomDataset(X_train,Y_train)\n",
    "test_data = dataset.CustomDataset(X_test,Y_test)\n"
   ]
  },
  {
   "cell_type": "markdown",
   "id": "a9a1af34",
   "metadata": {
    "id": "a9a1af34",
    "papermill": {
     "duration": 0.014223,
     "end_time": "2022-06-22T13:58:19.981113",
     "exception": false,
     "start_time": "2022-06-22T13:58:19.966890",
     "status": "completed"
    },
    "tags": []
   },
   "source": [
    "## Training Parameters "
   ]
  },
  {
   "cell_type": "code",
   "execution_count": 8,
   "id": "952b7fc8",
   "metadata": {
    "execution": {
     "iopub.execute_input": "2022-06-22T13:58:20.018643Z",
     "iopub.status.busy": "2022-06-22T13:58:20.017855Z",
     "iopub.status.idle": "2022-06-22T13:58:20.020017Z",
     "shell.execute_reply": "2022-06-22T13:58:20.020531Z"
    },
    "id": "952b7fc8",
    "papermill": {
     "duration": 0.023668,
     "end_time": "2022-06-22T13:58:20.020740",
     "exception": false,
     "start_time": "2022-06-22T13:58:19.997072",
     "status": "completed"
    },
    "tags": []
   },
   "outputs": [],
   "source": [
    "batch_size = 32\n",
    "n_epochs = 1000\n",
    "#Select the device \n",
    "device = torch.device('cuda' if torch.cuda.is_available() else 'cpu')"
   ]
  },
  {
   "cell_type": "markdown",
   "id": "a95e1600",
   "metadata": {
    "id": "a95e1600",
    "papermill": {
     "duration": 0.01487,
     "end_time": "2022-06-22T13:58:20.050580",
     "exception": false,
     "start_time": "2022-06-22T13:58:20.035710",
     "status": "completed"
    },
    "tags": []
   },
   "source": [
    "# ABC Pre-generator Model \n",
    "\n",
    "1. The catboost model is used as a pre-generator model for the ABC-GAN. \n",
    "2. The model is first trained on the entire dataset \n",
    "3. It generats X,Y pairs and we add some Gaussian noise with mean 0 and variance 1 to it which is then feed as input to the generator.\n"
   ]
  },
  {
   "cell_type": "code",
   "execution_count": 9,
   "id": "ff8ce7bd",
   "metadata": {
    "execution": {
     "iopub.execute_input": "2022-06-22T13:58:20.085115Z",
     "iopub.status.busy": "2022-06-22T13:58:20.084271Z",
     "iopub.status.idle": "2022-06-22T13:58:58.480782Z",
     "shell.execute_reply": "2022-06-22T13:58:58.481286Z"
    },
    "id": "ff8ce7bd",
    "papermill": {
     "duration": 38.417155,
     "end_time": "2022-06-22T13:58:58.481515",
     "exception": false,
     "start_time": "2022-06-22T13:58:20.064360",
     "status": "completed"
    },
    "tags": []
   },
   "outputs": [
    {
     "name": "stdout",
     "output_type": "stream",
     "text": [
      "Device used : cpu\n"
     ]
    },
    {
     "name": "stdout",
     "output_type": "stream",
     "text": [
      "epoch 0  | loss: 1.46114 | train_mse: 3.77471 | train_mae: 1.38133 |  0:00:00s\n",
      "epoch 1  | loss: 0.93065 | train_mse: 2.81456 | train_mae: 1.16633 |  0:00:00s\n",
      "epoch 2  | loss: 0.75993 | train_mse: 1.55458 | train_mae: 0.82115 |  0:00:00s\n"
     ]
    },
    {
     "name": "stdout",
     "output_type": "stream",
     "text": [
      "epoch 3  | loss: 0.67625 | train_mse: 1.29616 | train_mae: 0.85203 |  0:00:00s\n",
      "epoch 4  | loss: 0.3886  | train_mse: 2.03605 | train_mae: 1.0213  |  0:00:00s\n",
      "epoch 5  | loss: 0.54467 | train_mse: 1.5115  | train_mae: 0.90566 |  0:00:00s\n",
      "epoch 6  | loss: 0.44983 | train_mse: 1.35675 | train_mae: 0.84335 |  0:00:00s\n"
     ]
    },
    {
     "name": "stdout",
     "output_type": "stream",
     "text": [
      "epoch 7  | loss: 0.39936 | train_mse: 1.4756  | train_mae: 0.79787 |  0:00:00s\n",
      "epoch 8  | loss: 0.41183 | train_mse: 1.23652 | train_mae: 0.73796 |  0:00:00s\n",
      "epoch 9  | loss: 0.37665 | train_mse: 0.95794 | train_mae: 0.67512 |  0:00:00s\n"
     ]
    },
    {
     "name": "stdout",
     "output_type": "stream",
     "text": [
      "epoch 10 | loss: 0.29663 | train_mse: 0.69209 | train_mae: 0.56128 |  0:00:00s\n",
      "epoch 11 | loss: 0.24425 | train_mse: 0.63265 | train_mae: 0.52121 |  0:00:00s\n",
      "epoch 12 | loss: 0.42158 | train_mse: 0.65435 | train_mae: 0.53892 |  0:00:01s\n"
     ]
    },
    {
     "name": "stdout",
     "output_type": "stream",
     "text": [
      "epoch 13 | loss: 0.26159 | train_mse: 0.5559  | train_mae: 0.49598 |  0:00:01s\n",
      "epoch 14 | loss: 0.2903  | train_mse: 0.58    | train_mae: 0.50021 |  0:00:01s\n",
      "epoch 15 | loss: 0.2564  | train_mse: 0.44817 | train_mae: 0.44989 |  0:00:01s\n"
     ]
    },
    {
     "name": "stdout",
     "output_type": "stream",
     "text": [
      "epoch 16 | loss: 0.15521 | train_mse: 0.41195 | train_mae: 0.42513 |  0:00:01s\n",
      "epoch 17 | loss: 0.22745 | train_mse: 0.46329 | train_mae: 0.45277 |  0:00:01s\n",
      "epoch 18 | loss: 0.18485 | train_mse: 0.52891 | train_mae: 0.48147 |  0:00:01s\n",
      "epoch 19 | loss: 0.21731 | train_mse: 0.46411 | train_mae: 0.45885 |  0:00:01s\n"
     ]
    },
    {
     "name": "stdout",
     "output_type": "stream",
     "text": [
      "epoch 20 | loss: 0.17035 | train_mse: 0.26855 | train_mae: 0.37427 |  0:00:01s\n",
      "epoch 21 | loss: 0.26091 | train_mse: 0.21605 | train_mae: 0.32224 |  0:00:01s\n",
      "epoch 22 | loss: 0.25047 | train_mse: 0.25067 | train_mae: 0.35285 |  0:00:01s\n"
     ]
    },
    {
     "name": "stdout",
     "output_type": "stream",
     "text": [
      "epoch 23 | loss: 0.16037 | train_mse: 0.19012 | train_mae: 0.31142 |  0:00:01s\n",
      "epoch 24 | loss: 0.16301 | train_mse: 0.15727 | train_mae: 0.28156 |  0:00:01s\n",
      "epoch 25 | loss: 0.25931 | train_mse: 0.21495 | train_mae: 0.33371 |  0:00:01s\n"
     ]
    },
    {
     "name": "stdout",
     "output_type": "stream",
     "text": [
      "epoch 26 | loss: 0.28663 | train_mse: 0.21756 | train_mae: 0.34831 |  0:00:02s\n",
      "epoch 27 | loss: 0.22795 | train_mse: 0.12762 | train_mae: 0.26848 |  0:00:02s\n",
      "epoch 28 | loss: 0.34017 | train_mse: 0.2299  | train_mae: 0.30012 |  0:00:02s\n",
      "epoch 29 | loss: 0.28326 | train_mse: 0.23371 | train_mae: 0.29993 |  0:00:02s\n"
     ]
    },
    {
     "name": "stdout",
     "output_type": "stream",
     "text": [
      "epoch 30 | loss: 0.33631 | train_mse: 0.2117  | train_mae: 0.30454 |  0:00:02s\n",
      "epoch 31 | loss: 0.28512 | train_mse: 0.23109 | train_mae: 0.32532 |  0:00:02s\n",
      "epoch 32 | loss: 0.28587 | train_mse: 0.2668  | train_mae: 0.36231 |  0:00:02s\n"
     ]
    },
    {
     "name": "stdout",
     "output_type": "stream",
     "text": [
      "epoch 33 | loss: 0.24946 | train_mse: 0.19581 | train_mae: 0.31678 |  0:00:02s\n",
      "epoch 34 | loss: 0.18575 | train_mse: 0.18645 | train_mae: 0.28648 |  0:00:02s\n",
      "epoch 35 | loss: 0.14549 | train_mse: 0.14619 | train_mae: 0.26235 |  0:00:02s\n",
      "epoch 36 | loss: 0.17716 | train_mse: 0.14127 | train_mae: 0.27653 |  0:00:02s\n"
     ]
    },
    {
     "name": "stdout",
     "output_type": "stream",
     "text": [
      "epoch 37 | loss: 0.12713 | train_mse: 0.12964 | train_mae: 0.27266 |  0:00:02s\n",
      "epoch 38 | loss: 0.21774 | train_mse: 0.21127 | train_mae: 0.27487 |  0:00:02s\n",
      "epoch 39 | loss: 0.11892 | train_mse: 0.16905 | train_mae: 0.26721 |  0:00:02s\n",
      "epoch 40 | loss: 0.15908 | train_mse: 0.15804 | train_mae: 0.27895 |  0:00:03s\n"
     ]
    },
    {
     "name": "stdout",
     "output_type": "stream",
     "text": [
      "epoch 41 | loss: 0.11473 | train_mse: 0.22608 | train_mae: 0.30254 |  0:00:03s\n",
      "epoch 42 | loss: 0.34931 | train_mse: 0.26001 | train_mae: 0.31409 |  0:00:03s\n"
     ]
    },
    {
     "name": "stdout",
     "output_type": "stream",
     "text": [
      "epoch 43 | loss: 0.3093  | train_mse: 0.30204 | train_mae: 0.34264 |  0:00:03s\n",
      "epoch 44 | loss: 0.22447 | train_mse: 0.25132 | train_mae: 0.32288 |  0:00:03s\n"
     ]
    },
    {
     "name": "stdout",
     "output_type": "stream",
     "text": [
      "epoch 45 | loss: 0.22077 | train_mse: 0.22268 | train_mae: 0.33122 |  0:00:03s\n",
      "epoch 46 | loss: 0.16931 | train_mse: 0.20476 | train_mae: 0.31028 |  0:00:03s\n"
     ]
    },
    {
     "name": "stdout",
     "output_type": "stream",
     "text": [
      "epoch 47 | loss: 0.22847 | train_mse: 0.17492 | train_mae: 0.27304 |  0:00:03s\n"
     ]
    },
    {
     "name": "stdout",
     "output_type": "stream",
     "text": [
      "epoch 48 | loss: 0.20765 | train_mse: 0.16214 | train_mae: 0.2558  |  0:00:04s\n"
     ]
    },
    {
     "name": "stdout",
     "output_type": "stream",
     "text": [
      "epoch 49 | loss: 0.1145  | train_mse: 0.10553 | train_mae: 0.22161 |  0:00:04s\n"
     ]
    },
    {
     "name": "stdout",
     "output_type": "stream",
     "text": [
      "epoch 50 | loss: 0.12022 | train_mse: 0.18633 | train_mae: 0.25398 |  0:00:04s\n",
      "epoch 51 | loss: 0.11161 | train_mse: 0.22113 | train_mae: 0.27546 |  0:00:04s\n"
     ]
    },
    {
     "name": "stdout",
     "output_type": "stream",
     "text": [
      "epoch 52 | loss: 0.11104 | train_mse: 0.22986 | train_mae: 0.27516 |  0:00:05s\n"
     ]
    },
    {
     "name": "stdout",
     "output_type": "stream",
     "text": [
      "epoch 53 | loss: 0.18269 | train_mse: 0.26768 | train_mae: 0.29657 |  0:00:05s\n"
     ]
    },
    {
     "name": "stdout",
     "output_type": "stream",
     "text": [
      "epoch 54 | loss: 0.23369 | train_mse: 0.24131 | train_mae: 0.29893 |  0:00:05s\n",
      "epoch 55 | loss: 0.14592 | train_mse: 0.11895 | train_mae: 0.24707 |  0:00:05s\n"
     ]
    },
    {
     "name": "stdout",
     "output_type": "stream",
     "text": [
      "epoch 56 | loss: 0.13935 | train_mse: 0.09039 | train_mae: 0.22359 |  0:00:05s\n",
      "epoch 57 | loss: 0.12995 | train_mse: 0.13749 | train_mae: 0.25068 |  0:00:06s\n"
     ]
    },
    {
     "name": "stdout",
     "output_type": "stream",
     "text": [
      "epoch 58 | loss: 0.12577 | train_mse: 0.20721 | train_mae: 0.28515 |  0:00:06s\n"
     ]
    },
    {
     "name": "stdout",
     "output_type": "stream",
     "text": [
      "epoch 59 | loss: 0.15996 | train_mse: 0.14418 | train_mae: 0.27449 |  0:00:06s\n",
      "epoch 60 | loss: 0.32745 | train_mse: 0.11612 | train_mae: 0.24519 |  0:00:06s\n"
     ]
    },
    {
     "name": "stdout",
     "output_type": "stream",
     "text": [
      "epoch 61 | loss: 0.0777  | train_mse: 0.09639 | train_mae: 0.22891 |  0:00:06s\n",
      "epoch 62 | loss: 0.1324  | train_mse: 0.10007 | train_mae: 0.23744 |  0:00:06s\n"
     ]
    },
    {
     "name": "stdout",
     "output_type": "stream",
     "text": [
      "epoch 63 | loss: 0.14976 | train_mse: 0.08117 | train_mae: 0.2154  |  0:00:07s\n",
      "epoch 64 | loss: 0.18493 | train_mse: 0.12625 | train_mae: 0.26958 |  0:00:07s\n"
     ]
    },
    {
     "name": "stdout",
     "output_type": "stream",
     "text": [
      "epoch 65 | loss: 0.13006 | train_mse: 0.18966 | train_mae: 0.30035 |  0:00:07s\n",
      "epoch 66 | loss: 0.13124 | train_mse: 0.12959 | train_mae: 0.26088 |  0:00:07s\n"
     ]
    },
    {
     "name": "stdout",
     "output_type": "stream",
     "text": [
      "epoch 67 | loss: 0.17354 | train_mse: 0.08006 | train_mae: 0.22412 |  0:00:07s\n",
      "epoch 68 | loss: 0.09506 | train_mse: 0.0649  | train_mae: 0.19692 |  0:00:08s\n"
     ]
    },
    {
     "name": "stdout",
     "output_type": "stream",
     "text": [
      "epoch 69 | loss: 0.21311 | train_mse: 0.0759  | train_mae: 0.2003  |  0:00:08s\n",
      "epoch 70 | loss: 0.10046 | train_mse: 0.08083 | train_mae: 0.21734 |  0:00:08s\n"
     ]
    },
    {
     "name": "stdout",
     "output_type": "stream",
     "text": [
      "epoch 71 | loss: 0.09398 | train_mse: 0.0709  | train_mae: 0.21424 |  0:00:08s\n"
     ]
    },
    {
     "name": "stdout",
     "output_type": "stream",
     "text": [
      "epoch 72 | loss: 0.31204 | train_mse: 0.08649 | train_mae: 0.23089 |  0:00:08s\n",
      "epoch 73 | loss: 0.12997 | train_mse: 0.08632 | train_mae: 0.22004 |  0:00:09s\n"
     ]
    },
    {
     "name": "stdout",
     "output_type": "stream",
     "text": [
      "epoch 74 | loss: 0.18191 | train_mse: 0.06578 | train_mae: 0.19966 |  0:00:09s\n"
     ]
    },
    {
     "name": "stdout",
     "output_type": "stream",
     "text": [
      "epoch 75 | loss: 0.13043 | train_mse: 0.06184 | train_mae: 0.19306 |  0:00:09s\n"
     ]
    },
    {
     "name": "stdout",
     "output_type": "stream",
     "text": [
      "epoch 76 | loss: 0.06797 | train_mse: 0.05905 | train_mae: 0.18962 |  0:00:10s\n",
      "epoch 77 | loss: 0.11787 | train_mse: 0.06218 | train_mae: 0.19925 |  0:00:10s\n"
     ]
    },
    {
     "name": "stdout",
     "output_type": "stream",
     "text": [
      "epoch 78 | loss: 0.13588 | train_mse: 0.08069 | train_mae: 0.22223 |  0:00:10s\n",
      "epoch 79 | loss: 0.13101 | train_mse: 0.07744 | train_mae: 0.2094  |  0:00:10s\n"
     ]
    },
    {
     "name": "stdout",
     "output_type": "stream",
     "text": [
      "epoch 80 | loss: 0.11745 | train_mse: 0.05524 | train_mae: 0.18834 |  0:00:10s\n",
      "epoch 81 | loss: 0.08705 | train_mse: 0.05885 | train_mae: 0.18545 |  0:00:10s\n"
     ]
    },
    {
     "name": "stdout",
     "output_type": "stream",
     "text": [
      "epoch 82 | loss: 0.09923 | train_mse: 0.07014 | train_mae: 0.20192 |  0:00:11s\n",
      "epoch 83 | loss: 0.08794 | train_mse: 0.07278 | train_mae: 0.21022 |  0:00:11s\n"
     ]
    },
    {
     "name": "stdout",
     "output_type": "stream",
     "text": [
      "epoch 84 | loss: 0.0651  | train_mse: 0.10556 | train_mae: 0.25819 |  0:00:11s\n",
      "epoch 85 | loss: 0.10356 | train_mse: 0.11024 | train_mae: 0.25534 |  0:00:11s\n"
     ]
    },
    {
     "name": "stdout",
     "output_type": "stream",
     "text": [
      "epoch 86 | loss: 0.10406 | train_mse: 0.07735 | train_mae: 0.21266 |  0:00:11s\n",
      "epoch 87 | loss: 0.09185 | train_mse: 0.06322 | train_mae: 0.19145 |  0:00:11s\n"
     ]
    },
    {
     "name": "stdout",
     "output_type": "stream",
     "text": [
      "epoch 88 | loss: 0.08711 | train_mse: 0.06484 | train_mae: 0.19294 |  0:00:11s\n",
      "epoch 89 | loss: 0.09597 | train_mse: 0.09591 | train_mae: 0.22494 |  0:00:12s\n"
     ]
    },
    {
     "name": "stdout",
     "output_type": "stream",
     "text": [
      "epoch 90 | loss: 0.12479 | train_mse: 0.10609 | train_mae: 0.23176 |  0:00:12s\n",
      "epoch 91 | loss: 0.13072 | train_mse: 0.08031 | train_mae: 0.21154 |  0:00:12s\n"
     ]
    },
    {
     "name": "stdout",
     "output_type": "stream",
     "text": [
      "epoch 92 | loss: 0.12915 | train_mse: 0.09201 | train_mae: 0.22095 |  0:00:12s\n",
      "epoch 93 | loss: 0.2058  | train_mse: 0.08921 | train_mae: 0.2188  |  0:00:12s\n"
     ]
    },
    {
     "name": "stdout",
     "output_type": "stream",
     "text": [
      "epoch 94 | loss: 0.07819 | train_mse: 0.12849 | train_mae: 0.24615 |  0:00:12s\n",
      "epoch 95 | loss: 0.10199 | train_mse: 0.1817  | train_mae: 0.27532 |  0:00:12s\n"
     ]
    },
    {
     "name": "stdout",
     "output_type": "stream",
     "text": [
      "epoch 96 | loss: 0.13116 | train_mse: 0.15265 | train_mae: 0.27247 |  0:00:12s\n",
      "epoch 97 | loss: 0.12767 | train_mse: 0.09137 | train_mae: 0.22213 |  0:00:13s\n"
     ]
    },
    {
     "name": "stdout",
     "output_type": "stream",
     "text": [
      "epoch 98 | loss: 0.14867 | train_mse: 0.08329 | train_mae: 0.20898 |  0:00:13s\n",
      "epoch 99 | loss: 0.22044 | train_mse: 0.08754 | train_mae: 0.21108 |  0:00:13s\n"
     ]
    },
    {
     "name": "stdout",
     "output_type": "stream",
     "text": [
      "epoch 100| loss: 0.13107 | train_mse: 0.12748 | train_mae: 0.22328 |  0:00:13s\n",
      "epoch 101| loss: 0.07905 | train_mse: 0.16205 | train_mae: 0.25906 |  0:00:13s\n",
      "epoch 102| loss: 0.19758 | train_mse: 0.17535 | train_mae: 0.28175 |  0:00:13s\n"
     ]
    },
    {
     "name": "stdout",
     "output_type": "stream",
     "text": [
      "epoch 103| loss: 0.08116 | train_mse: 0.11058 | train_mae: 0.24023 |  0:00:13s\n",
      "epoch 104| loss: 0.06899 | train_mse: 0.06978 | train_mae: 0.19989 |  0:00:13s\n",
      "epoch 105| loss: 0.14834 | train_mse: 0.04842 | train_mae: 0.17253 |  0:00:13s\n"
     ]
    },
    {
     "name": "stdout",
     "output_type": "stream",
     "text": [
      "epoch 106| loss: 0.08255 | train_mse: 0.06751 | train_mae: 0.19256 |  0:00:13s\n",
      "epoch 107| loss: 0.1083  | train_mse: 0.07352 | train_mae: 0.19749 |  0:00:14s\n",
      "epoch 108| loss: 0.09057 | train_mse: 0.0968  | train_mae: 0.21901 |  0:00:14s\n"
     ]
    },
    {
     "name": "stdout",
     "output_type": "stream",
     "text": [
      "epoch 109| loss: 0.06713 | train_mse: 0.08268 | train_mae: 0.20473 |  0:00:14s\n",
      "epoch 110| loss: 0.21171 | train_mse: 0.06541 | train_mae: 0.19637 |  0:00:14s\n"
     ]
    },
    {
     "name": "stdout",
     "output_type": "stream",
     "text": [
      "epoch 111| loss: 0.1148  | train_mse: 0.06821 | train_mae: 0.20049 |  0:00:14s\n",
      "epoch 112| loss: 0.08695 | train_mse: 0.06494 | train_mae: 0.19406 |  0:00:14s\n",
      "epoch 113| loss: 0.16224 | train_mse: 0.05313 | train_mae: 0.17411 |  0:00:14s\n"
     ]
    },
    {
     "name": "stdout",
     "output_type": "stream",
     "text": [
      "epoch 114| loss: 0.10663 | train_mse: 0.06362 | train_mae: 0.18437 |  0:00:14s\n",
      "epoch 115| loss: 0.14192 | train_mse: 0.07371 | train_mae: 0.19428 |  0:00:14s\n",
      "epoch 116| loss: 0.06544 | train_mse: 0.07251 | train_mae: 0.20404 |  0:00:14s\n"
     ]
    },
    {
     "name": "stdout",
     "output_type": "stream",
     "text": [
      "epoch 117| loss: 0.09554 | train_mse: 0.05464 | train_mae: 0.17943 |  0:00:15s\n",
      "epoch 118| loss: 0.07815 | train_mse: 0.04637 | train_mae: 0.16491 |  0:00:15s\n",
      "epoch 119| loss: 0.06137 | train_mse: 0.05232 | train_mae: 0.16715 |  0:00:15s\n"
     ]
    },
    {
     "name": "stdout",
     "output_type": "stream",
     "text": [
      "epoch 120| loss: 0.11452 | train_mse: 0.07515 | train_mae: 0.18945 |  0:00:15s\n",
      "epoch 121| loss: 0.09525 | train_mse: 0.09173 | train_mae: 0.19614 |  0:00:15s\n"
     ]
    },
    {
     "name": "stdout",
     "output_type": "stream",
     "text": [
      "epoch 122| loss: 0.15283 | train_mse: 0.09908 | train_mae: 0.21413 |  0:00:15s\n",
      "epoch 123| loss: 0.12411 | train_mse: 0.13036 | train_mae: 0.24656 |  0:00:15s\n",
      "epoch 124| loss: 0.1208  | train_mse: 0.11493 | train_mae: 0.23623 |  0:00:15s\n"
     ]
    },
    {
     "name": "stdout",
     "output_type": "stream",
     "text": [
      "epoch 125| loss: 0.12675 | train_mse: 0.07265 | train_mae: 0.20375 |  0:00:15s\n",
      "epoch 126| loss: 0.09855 | train_mse: 0.05418 | train_mae: 0.18472 |  0:00:16s\n"
     ]
    },
    {
     "name": "stdout",
     "output_type": "stream",
     "text": [
      "epoch 127| loss: 0.13114 | train_mse: 0.04956 | train_mae: 0.18302 |  0:00:16s\n"
     ]
    },
    {
     "name": "stdout",
     "output_type": "stream",
     "text": [
      "epoch 128| loss: 0.09721 | train_mse: 0.0567  | train_mae: 0.19002 |  0:00:16s\n"
     ]
    },
    {
     "name": "stdout",
     "output_type": "stream",
     "text": [
      "epoch 129| loss: 0.11716 | train_mse: 0.07837 | train_mae: 0.21935 |  0:00:17s\n"
     ]
    },
    {
     "name": "stdout",
     "output_type": "stream",
     "text": [
      "epoch 130| loss: 0.08338 | train_mse: 0.06236 | train_mae: 0.19504 |  0:00:17s\n",
      "epoch 131| loss: 0.08492 | train_mse: 0.05385 | train_mae: 0.19159 |  0:00:17s\n"
     ]
    },
    {
     "name": "stdout",
     "output_type": "stream",
     "text": [
      "epoch 132| loss: 0.07372 | train_mse: 0.0687  | train_mae: 0.19912 |  0:00:17s\n",
      "epoch 133| loss: 0.10594 | train_mse: 0.04637 | train_mae: 0.17314 |  0:00:18s\n"
     ]
    },
    {
     "name": "stdout",
     "output_type": "stream",
     "text": [
      "epoch 134| loss: 0.11059 | train_mse: 0.05832 | train_mae: 0.1893  |  0:00:18s\n"
     ]
    },
    {
     "name": "stdout",
     "output_type": "stream",
     "text": [
      "epoch 135| loss: 0.06976 | train_mse: 0.04935 | train_mae: 0.1798  |  0:00:18s\n"
     ]
    },
    {
     "name": "stdout",
     "output_type": "stream",
     "text": [
      "epoch 136| loss: 0.07916 | train_mse: 0.05418 | train_mae: 0.18929 |  0:00:19s\n",
      "epoch 137| loss: 0.08358 | train_mse: 0.05568 | train_mae: 0.19136 |  0:00:19s\n"
     ]
    },
    {
     "name": "stdout",
     "output_type": "stream",
     "text": [
      "epoch 138| loss: 0.08162 | train_mse: 0.05421 | train_mae: 0.19024 |  0:00:19s\n",
      "epoch 139| loss: 0.26309 | train_mse: 0.06265 | train_mae: 0.2032  |  0:00:19s\n"
     ]
    },
    {
     "name": "stdout",
     "output_type": "stream",
     "text": [
      "epoch 140| loss: 0.2014  | train_mse: 0.07291 | train_mae: 0.21478 |  0:00:19s\n"
     ]
    },
    {
     "name": "stdout",
     "output_type": "stream",
     "text": [
      "epoch 141| loss: 0.07463 | train_mse: 0.05845 | train_mae: 0.19678 |  0:00:20s\n"
     ]
    },
    {
     "name": "stdout",
     "output_type": "stream",
     "text": [
      "epoch 142| loss: 0.09176 | train_mse: 0.077   | train_mae: 0.22148 |  0:00:20s\n"
     ]
    },
    {
     "name": "stdout",
     "output_type": "stream",
     "text": [
      "epoch 143| loss: 0.09272 | train_mse: 0.0675  | train_mae: 0.20108 |  0:00:20s\n",
      "epoch 144| loss: 0.10195 | train_mse: 0.07016 | train_mae: 0.2046  |  0:00:20s\n"
     ]
    },
    {
     "name": "stdout",
     "output_type": "stream",
     "text": [
      "epoch 145| loss: 0.16876 | train_mse: 0.07425 | train_mae: 0.20746 |  0:00:20s\n",
      "epoch 146| loss: 0.07879 | train_mse: 0.06238 | train_mae: 0.19124 |  0:00:20s\n"
     ]
    },
    {
     "name": "stdout",
     "output_type": "stream",
     "text": [
      "epoch 147| loss: 0.13789 | train_mse: 0.05705 | train_mae: 0.18518 |  0:00:21s\n",
      "epoch 148| loss: 0.22379 | train_mse: 0.11187 | train_mae: 0.23118 |  0:00:21s\n"
     ]
    },
    {
     "name": "stdout",
     "output_type": "stream",
     "text": [
      "epoch 149| loss: 0.12952 | train_mse: 0.09484 | train_mae: 0.22481 |  0:00:21s\n",
      "epoch 150| loss: 0.09595 | train_mse: 0.07165 | train_mae: 0.2096  |  0:00:21s\n"
     ]
    },
    {
     "name": "stdout",
     "output_type": "stream",
     "text": [
      "epoch 151| loss: 0.09201 | train_mse: 0.09818 | train_mae: 0.22136 |  0:00:21s\n",
      "epoch 152| loss: 0.06645 | train_mse: 0.11954 | train_mae: 0.22506 |  0:00:21s\n"
     ]
    },
    {
     "name": "stdout",
     "output_type": "stream",
     "text": [
      "epoch 153| loss: 0.07746 | train_mse: 0.10077 | train_mae: 0.21272 |  0:00:21s\n",
      "epoch 154| loss: 0.09399 | train_mse: 0.09436 | train_mae: 0.21604 |  0:00:21s\n"
     ]
    },
    {
     "name": "stdout",
     "output_type": "stream",
     "text": [
      "epoch 155| loss: 0.13776 | train_mse: 0.08915 | train_mae: 0.21064 |  0:00:22s\n",
      "epoch 156| loss: 0.15942 | train_mse: 0.0691  | train_mae: 0.18421 |  0:00:22s\n"
     ]
    },
    {
     "name": "stdout",
     "output_type": "stream",
     "text": [
      "epoch 157| loss: 0.09889 | train_mse: 0.06311 | train_mae: 0.18594 |  0:00:22s\n",
      "epoch 158| loss: 0.07461 | train_mse: 0.08036 | train_mae: 0.21047 |  0:00:22s\n"
     ]
    },
    {
     "name": "stdout",
     "output_type": "stream",
     "text": [
      "epoch 159| loss: 0.0843  | train_mse: 0.07635 | train_mae: 0.20732 |  0:00:22s\n",
      "epoch 160| loss: 0.06244 | train_mse: 0.0736  | train_mae: 0.20053 |  0:00:22s\n"
     ]
    },
    {
     "name": "stdout",
     "output_type": "stream",
     "text": [
      "epoch 161| loss: 0.06861 | train_mse: 0.09131 | train_mae: 0.21906 |  0:00:22s\n",
      "epoch 162| loss: 0.08329 | train_mse: 0.08305 | train_mae: 0.21051 |  0:00:22s\n"
     ]
    },
    {
     "name": "stdout",
     "output_type": "stream",
     "text": [
      "epoch 163| loss: 0.06087 | train_mse: 0.0602  | train_mae: 0.18595 |  0:00:23s\n",
      "epoch 164| loss: 0.05824 | train_mse: 0.04737 | train_mae: 0.17011 |  0:00:23s\n"
     ]
    },
    {
     "name": "stdout",
     "output_type": "stream",
     "text": [
      "epoch 165| loss: 0.14575 | train_mse: 0.04248 | train_mae: 0.16361 |  0:00:23s\n",
      "epoch 166| loss: 0.0793  | train_mse: 0.05765 | train_mae: 0.1776  |  0:00:23s\n"
     ]
    },
    {
     "name": "stdout",
     "output_type": "stream",
     "text": [
      "epoch 167| loss: 0.07304 | train_mse: 0.07291 | train_mae: 0.1923  |  0:00:23s\n",
      "epoch 168| loss: 0.08245 | train_mse: 0.07282 | train_mae: 0.18512 |  0:00:23s\n"
     ]
    },
    {
     "name": "stdout",
     "output_type": "stream",
     "text": [
      "epoch 169| loss: 0.06156 | train_mse: 0.0622  | train_mae: 0.17662 |  0:00:23s\n",
      "epoch 170| loss: 0.04796 | train_mse: 0.0574  | train_mae: 0.17831 |  0:00:23s\n"
     ]
    },
    {
     "name": "stdout",
     "output_type": "stream",
     "text": [
      "epoch 171| loss: 0.05318 | train_mse: 0.07487 | train_mae: 0.20177 |  0:00:24s\n",
      "epoch 172| loss: 0.12146 | train_mse: 0.09352 | train_mae: 0.22592 |  0:00:24s\n"
     ]
    },
    {
     "name": "stdout",
     "output_type": "stream",
     "text": [
      "epoch 173| loss: 0.11151 | train_mse: 0.07877 | train_mae: 0.21046 |  0:00:24s\n",
      "epoch 174| loss: 0.06137 | train_mse: 0.07436 | train_mae: 0.20219 |  0:00:24s\n"
     ]
    },
    {
     "name": "stdout",
     "output_type": "stream",
     "text": [
      "epoch 175| loss: 0.11224 | train_mse: 0.06476 | train_mae: 0.19015 |  0:00:24s\n"
     ]
    },
    {
     "name": "stdout",
     "output_type": "stream",
     "text": [
      "epoch 176| loss: 0.18183 | train_mse: 0.08099 | train_mae: 0.20549 |  0:00:24s\n",
      "epoch 177| loss: 0.12579 | train_mse: 0.10986 | train_mae: 0.23106 |  0:00:24s\n"
     ]
    },
    {
     "name": "stdout",
     "output_type": "stream",
     "text": [
      "epoch 178| loss: 0.07964 | train_mse: 0.10566 | train_mae: 0.23207 |  0:00:25s\n",
      "epoch 179| loss: 0.18721 | train_mse: 0.08854 | train_mae: 0.21008 |  0:00:25s\n"
     ]
    },
    {
     "name": "stdout",
     "output_type": "stream",
     "text": [
      "epoch 180| loss: 0.19566 | train_mse: 0.06078 | train_mae: 0.17546 |  0:00:25s\n",
      "epoch 181| loss: 0.1268  | train_mse: 0.05975 | train_mae: 0.17807 |  0:00:25s\n"
     ]
    },
    {
     "name": "stdout",
     "output_type": "stream",
     "text": [
      "epoch 182| loss: 0.1787  | train_mse: 0.03996 | train_mae: 0.15827 |  0:00:25s\n",
      "epoch 183| loss: 0.05925 | train_mse: 0.05026 | train_mae: 0.17265 |  0:00:25s\n"
     ]
    },
    {
     "name": "stdout",
     "output_type": "stream",
     "text": [
      "epoch 184| loss: 0.26774 | train_mse: 0.04112 | train_mae: 0.15712 |  0:00:25s\n",
      "epoch 185| loss: 0.10114 | train_mse: 0.03793 | train_mae: 0.15733 |  0:00:25s\n"
     ]
    },
    {
     "name": "stdout",
     "output_type": "stream",
     "text": [
      "epoch 186| loss: 0.06541 | train_mse: 0.03944 | train_mae: 0.15758 |  0:00:26s\n",
      "epoch 187| loss: 0.07143 | train_mse: 0.04086 | train_mae: 0.15487 |  0:00:26s\n"
     ]
    },
    {
     "name": "stdout",
     "output_type": "stream",
     "text": [
      "epoch 188| loss: 0.10041 | train_mse: 0.03414 | train_mae: 0.14391 |  0:00:26s\n",
      "epoch 189| loss: 0.13506 | train_mse: 0.03638 | train_mae: 0.14965 |  0:00:26s\n"
     ]
    },
    {
     "name": "stdout",
     "output_type": "stream",
     "text": [
      "epoch 190| loss: 0.07276 | train_mse: 0.04222 | train_mae: 0.16    |  0:00:26s\n",
      "epoch 191| loss: 0.14873 | train_mse: 0.0461  | train_mae: 0.16972 |  0:00:26s\n"
     ]
    },
    {
     "name": "stdout",
     "output_type": "stream",
     "text": [
      "epoch 192| loss: 0.06132 | train_mse: 0.0529  | train_mae: 0.17976 |  0:00:26s\n",
      "epoch 193| loss: 0.06722 | train_mse: 0.04439 | train_mae: 0.16686 |  0:00:26s\n"
     ]
    },
    {
     "name": "stdout",
     "output_type": "stream",
     "text": [
      "epoch 194| loss: 0.12638 | train_mse: 0.05441 | train_mae: 0.18272 |  0:00:27s\n",
      "epoch 195| loss: 0.06047 | train_mse: 0.10526 | train_mae: 0.23478 |  0:00:27s\n"
     ]
    },
    {
     "name": "stdout",
     "output_type": "stream",
     "text": [
      "epoch 196| loss: 0.11883 | train_mse: 0.14705 | train_mae: 0.26297 |  0:00:27s\n"
     ]
    },
    {
     "name": "stdout",
     "output_type": "stream",
     "text": [
      "epoch 197| loss: 0.05173 | train_mse: 0.11081 | train_mae: 0.24204 |  0:00:27s\n",
      "epoch 198| loss: 0.05522 | train_mse: 0.08416 | train_mae: 0.22415 |  0:00:27s\n"
     ]
    },
    {
     "name": "stdout",
     "output_type": "stream",
     "text": [
      "epoch 199| loss: 0.08443 | train_mse: 0.06188 | train_mae: 0.19804 |  0:00:27s\n",
      "epoch 200| loss: 0.15976 | train_mse: 0.05517 | train_mae: 0.18937 |  0:00:27s\n"
     ]
    },
    {
     "name": "stdout",
     "output_type": "stream",
     "text": [
      "epoch 201| loss: 0.10243 | train_mse: 0.06409 | train_mae: 0.20326 |  0:00:28s\n"
     ]
    },
    {
     "name": "stdout",
     "output_type": "stream",
     "text": [
      "epoch 202| loss: 0.08541 | train_mse: 0.09432 | train_mae: 0.21109 |  0:00:28s\n",
      "epoch 203| loss: 0.09429 | train_mse: 0.05724 | train_mae: 0.18271 |  0:00:28s\n"
     ]
    },
    {
     "name": "stdout",
     "output_type": "stream",
     "text": [
      "epoch 204| loss: 0.13593 | train_mse: 0.04169 | train_mae: 0.15818 |  0:00:28s\n",
      "epoch 205| loss: 0.07499 | train_mse: 0.06657 | train_mae: 0.18933 |  0:00:28s\n"
     ]
    },
    {
     "name": "stdout",
     "output_type": "stream",
     "text": [
      "epoch 206| loss: 0.16739 | train_mse: 0.10122 | train_mae: 0.22224 |  0:00:28s\n",
      "epoch 207| loss: 0.11702 | train_mse: 0.10807 | train_mae: 0.22518 |  0:00:29s\n"
     ]
    },
    {
     "name": "stdout",
     "output_type": "stream",
     "text": [
      "epoch 208| loss: 0.1289  | train_mse: 0.12798 | train_mae: 0.24558 |  0:00:29s\n",
      "epoch 209| loss: 0.15023 | train_mse: 0.11493 | train_mae: 0.23514 |  0:00:29s\n"
     ]
    },
    {
     "name": "stdout",
     "output_type": "stream",
     "text": [
      "epoch 210| loss: 0.079   | train_mse: 0.14552 | train_mae: 0.25929 |  0:00:29s\n",
      "epoch 211| loss: 0.09264 | train_mse: 0.16599 | train_mae: 0.27957 |  0:00:29s\n"
     ]
    },
    {
     "name": "stdout",
     "output_type": "stream",
     "text": [
      "epoch 212| loss: 0.05696 | train_mse: 0.16216 | train_mae: 0.29111 |  0:00:29s\n",
      "epoch 213| loss: 0.16356 | train_mse: 0.12419 | train_mae: 0.26658 |  0:00:29s\n"
     ]
    },
    {
     "name": "stdout",
     "output_type": "stream",
     "text": [
      "epoch 214| loss: 0.04531 | train_mse: 0.08997 | train_mae: 0.23089 |  0:00:30s\n",
      "epoch 215| loss: 0.14789 | train_mse: 0.06959 | train_mae: 0.19967 |  0:00:30s\n"
     ]
    },
    {
     "name": "stdout",
     "output_type": "stream",
     "text": [
      "epoch 216| loss: 0.07839 | train_mse: 0.05866 | train_mae: 0.18699 |  0:00:30s\n",
      "epoch 217| loss: 0.13606 | train_mse: 0.04393 | train_mae: 0.15979 |  0:00:30s\n"
     ]
    },
    {
     "name": "stdout",
     "output_type": "stream",
     "text": [
      "epoch 218| loss: 0.09334 | train_mse: 0.03567 | train_mae: 0.14523 |  0:00:30s\n",
      "epoch 219| loss: 0.0502  | train_mse: 0.03794 | train_mae: 0.14943 |  0:00:30s\n",
      "epoch 220| loss: 0.06632 | train_mse: 0.0501  | train_mae: 0.17804 |  0:00:30s\n"
     ]
    },
    {
     "name": "stdout",
     "output_type": "stream",
     "text": [
      "epoch 221| loss: 0.25602 | train_mse: 0.08295 | train_mae: 0.22479 |  0:00:30s\n",
      "epoch 222| loss: 0.11554 | train_mse: 0.05289 | train_mae: 0.18454 |  0:00:31s\n",
      "epoch 223| loss: 0.05247 | train_mse: 0.03193 | train_mae: 0.13969 |  0:00:31s\n"
     ]
    },
    {
     "name": "stdout",
     "output_type": "stream",
     "text": [
      "epoch 224| loss: 0.07747 | train_mse: 0.03568 | train_mae: 0.15007 |  0:00:31s\n"
     ]
    },
    {
     "name": "stdout",
     "output_type": "stream",
     "text": [
      "epoch 225| loss: 0.08342 | train_mse: 0.04709 | train_mae: 0.16339 |  0:00:31s\n"
     ]
    },
    {
     "name": "stdout",
     "output_type": "stream",
     "text": [
      "epoch 226| loss: 0.14266 | train_mse: 0.06709 | train_mae: 0.20145 |  0:00:31s\n",
      "epoch 227| loss: 0.07115 | train_mse: 0.04861 | train_mae: 0.17233 |  0:00:31s\n"
     ]
    },
    {
     "name": "stdout",
     "output_type": "stream",
     "text": [
      "epoch 228| loss: 0.11592 | train_mse: 0.03809 | train_mae: 0.15456 |  0:00:31s\n",
      "epoch 229| loss: 0.17787 | train_mse: 0.03509 | train_mae: 0.14998 |  0:00:32s\n"
     ]
    },
    {
     "name": "stdout",
     "output_type": "stream",
     "text": [
      "epoch 230| loss: 0.10384 | train_mse: 0.0407  | train_mae: 0.15654 |  0:00:32s\n",
      "epoch 231| loss: 0.11049 | train_mse: 0.04439 | train_mae: 0.16539 |  0:00:32s\n"
     ]
    },
    {
     "name": "stdout",
     "output_type": "stream",
     "text": [
      "epoch 232| loss: 0.05195 | train_mse: 0.04342 | train_mae: 0.15986 |  0:00:32s\n",
      "epoch 233| loss: 0.06465 | train_mse: 0.03406 | train_mae: 0.14348 |  0:00:32s\n"
     ]
    },
    {
     "name": "stdout",
     "output_type": "stream",
     "text": [
      "epoch 234| loss: 0.0854  | train_mse: 0.03201 | train_mae: 0.13732 |  0:00:32s\n",
      "epoch 235| loss: 0.0949  | train_mse: 0.03739 | train_mae: 0.15086 |  0:00:32s\n"
     ]
    },
    {
     "name": "stdout",
     "output_type": "stream",
     "text": [
      "epoch 236| loss: 0.1505  | train_mse: 0.03994 | train_mae: 0.15484 |  0:00:32s\n",
      "epoch 237| loss: 0.07928 | train_mse: 0.03485 | train_mae: 0.14529 |  0:00:33s\n"
     ]
    },
    {
     "name": "stdout",
     "output_type": "stream",
     "text": [
      "epoch 238| loss: 0.14535 | train_mse: 0.03271 | train_mae: 0.14035 |  0:00:33s\n",
      "epoch 239| loss: 0.05679 | train_mse: 0.03043 | train_mae: 0.13675 |  0:00:33s\n"
     ]
    },
    {
     "name": "stdout",
     "output_type": "stream",
     "text": [
      "epoch 240| loss: 0.06986 | train_mse: 0.04522 | train_mae: 0.16872 |  0:00:33s\n"
     ]
    },
    {
     "name": "stdout",
     "output_type": "stream",
     "text": [
      "epoch 241| loss: 0.0682  | train_mse: 0.05858 | train_mae: 0.18228 |  0:00:33s\n"
     ]
    },
    {
     "name": "stdout",
     "output_type": "stream",
     "text": [
      "epoch 242| loss: 0.09849 | train_mse: 0.05512 | train_mae: 0.17372 |  0:00:34s\n"
     ]
    },
    {
     "name": "stdout",
     "output_type": "stream",
     "text": [
      "epoch 243| loss: 0.20978 | train_mse: 0.04328 | train_mae: 0.16207 |  0:00:34s\n",
      "epoch 244| loss: 0.12558 | train_mse: 0.04542 | train_mae: 0.16366 |  0:00:34s\n",
      "epoch 245| loss: 0.1025  | train_mse: 0.05979 | train_mae: 0.18205 |  0:00:34s\n"
     ]
    },
    {
     "name": "stdout",
     "output_type": "stream",
     "text": [
      "epoch 246| loss: 0.06142 | train_mse: 0.07154 | train_mae: 0.19302 |  0:00:34s\n",
      "epoch 247| loss: 0.0594  | train_mse: 0.06    | train_mae: 0.18154 |  0:00:34s\n",
      "epoch 248| loss: 0.11402 | train_mse: 0.05678 | train_mae: 0.18855 |  0:00:34s\n"
     ]
    },
    {
     "name": "stdout",
     "output_type": "stream",
     "text": [
      "epoch 249| loss: 0.12469 | train_mse: 0.06176 | train_mae: 0.1913  |  0:00:34s\n",
      "epoch 250| loss: 0.06714 | train_mse: 0.08411 | train_mae: 0.20355 |  0:00:34s\n",
      "epoch 251| loss: 0.0689  | train_mse: 0.11936 | train_mae: 0.23009 |  0:00:35s\n"
     ]
    },
    {
     "name": "stdout",
     "output_type": "stream",
     "text": [
      "epoch 252| loss: 0.09423 | train_mse: 0.18381 | train_mae: 0.28822 |  0:00:35s\n",
      "epoch 253| loss: 0.21714 | train_mse: 0.18571 | train_mae: 0.28983 |  0:00:35s\n",
      "epoch 254| loss: 0.08189 | train_mse: 0.13076 | train_mae: 0.24133 |  0:00:35s\n"
     ]
    },
    {
     "name": "stdout",
     "output_type": "stream",
     "text": [
      "epoch 255| loss: 0.07154 | train_mse: 0.11128 | train_mae: 0.22679 |  0:00:35s\n",
      "epoch 256| loss: 0.07433 | train_mse: 0.09683 | train_mae: 0.22175 |  0:00:35s\n",
      "epoch 257| loss: 0.09594 | train_mse: 0.08534 | train_mae: 0.21643 |  0:00:35s\n"
     ]
    },
    {
     "name": "stdout",
     "output_type": "stream",
     "text": [
      "epoch 258| loss: 0.11305 | train_mse: 0.0582  | train_mae: 0.18531 |  0:00:35s\n",
      "epoch 259| loss: 0.11716 | train_mse: 0.04272 | train_mae: 0.16275 |  0:00:35s\n",
      "epoch 260| loss: 0.07417 | train_mse: 0.04435 | train_mae: 0.16438 |  0:00:35s\n"
     ]
    },
    {
     "name": "stdout",
     "output_type": "stream",
     "text": [
      "epoch 261| loss: 0.08511 | train_mse: 0.04465 | train_mae: 0.16421 |  0:00:35s\n",
      "epoch 262| loss: 0.07178 | train_mse: 0.05142 | train_mae: 0.17029 |  0:00:35s\n",
      "epoch 263| loss: 0.1306  | train_mse: 0.05728 | train_mae: 0.18045 |  0:00:36s\n"
     ]
    },
    {
     "name": "stdout",
     "output_type": "stream",
     "text": [
      "epoch 264| loss: 0.09442 | train_mse: 0.04457 | train_mae: 0.16185 |  0:00:36s\n",
      "epoch 265| loss: 0.15331 | train_mse: 0.03894 | train_mae: 0.1583  |  0:00:36s\n",
      "epoch 266| loss: 0.13401 | train_mse: 0.03997 | train_mae: 0.16304 |  0:00:36s\n"
     ]
    },
    {
     "name": "stdout",
     "output_type": "stream",
     "text": [
      "epoch 267| loss: 0.09153 | train_mse: 0.04596 | train_mae: 0.17043 |  0:00:36s\n",
      "epoch 268| loss: 0.09449 | train_mse: 0.04596 | train_mae: 0.1619  |  0:00:36s\n",
      "epoch 269| loss: 0.13227 | train_mse: 0.04474 | train_mae: 0.16226 |  0:00:36s\n"
     ]
    },
    {
     "name": "stdout",
     "output_type": "stream",
     "text": [
      "epoch 270| loss: 0.101   | train_mse: 0.03816 | train_mae: 0.15567 |  0:00:36s\n",
      "epoch 271| loss: 0.06794 | train_mse: 0.03988 | train_mae: 0.15383 |  0:00:36s\n",
      "epoch 272| loss: 0.0814  | train_mse: 0.0372  | train_mae: 0.14731 |  0:00:36s\n"
     ]
    },
    {
     "name": "stdout",
     "output_type": "stream",
     "text": [
      "epoch 273| loss: 0.06064 | train_mse: 0.04111 | train_mae: 0.15882 |  0:00:36s\n",
      "epoch 274| loss: 0.08339 | train_mse: 0.05045 | train_mae: 0.17308 |  0:00:37s\n",
      "epoch 275| loss: 0.10186 | train_mse: 0.04577 | train_mae: 0.16319 |  0:00:37s\n"
     ]
    },
    {
     "name": "stdout",
     "output_type": "stream",
     "text": [
      "epoch 276| loss: 0.12175 | train_mse: 0.04276 | train_mae: 0.16217 |  0:00:37s\n",
      "epoch 277| loss: 0.11207 | train_mse: 0.06411 | train_mae: 0.1839  |  0:00:37s\n",
      "epoch 278| loss: 0.06391 | train_mse: 0.0702  | train_mae: 0.18994 |  0:00:37s\n"
     ]
    },
    {
     "name": "stdout",
     "output_type": "stream",
     "text": [
      "epoch 279| loss: 0.0906  | train_mse: 0.06014 | train_mae: 0.18534 |  0:00:37s\n",
      "epoch 280| loss: 0.06444 | train_mse: 0.06336 | train_mae: 0.18757 |  0:00:37s\n",
      "epoch 281| loss: 0.17103 | train_mse: 0.06776 | train_mae: 0.18909 |  0:00:37s\n"
     ]
    },
    {
     "name": "stdout",
     "output_type": "stream",
     "text": [
      "epoch 282| loss: 0.10171 | train_mse: 0.0893  | train_mae: 0.21    |  0:00:37s\n",
      "epoch 283| loss: 0.12353 | train_mse: 0.05209 | train_mae: 0.17912 |  0:00:37s\n",
      "epoch 284| loss: 0.12625 | train_mse: 0.04372 | train_mae: 0.1651  |  0:00:37s\n"
     ]
    },
    {
     "name": "stdout",
     "output_type": "stream",
     "text": [
      "epoch 285| loss: 0.08497 | train_mse: 0.04921 | train_mae: 0.16858 |  0:00:37s\n",
      "epoch 286| loss: 0.07487 | train_mse: 0.05144 | train_mae: 0.16862 |  0:00:38s\n",
      "epoch 287| loss: 0.13321 | train_mse: 0.06796 | train_mae: 0.18269 |  0:00:38s\n"
     ]
    },
    {
     "name": "stdout",
     "output_type": "stream",
     "text": [
      "epoch 288| loss: 0.057   | train_mse: 0.06544 | train_mae: 0.17635 |  0:00:38s\n",
      "epoch 289| loss: 0.04589 | train_mse: 0.05631 | train_mae: 0.17136 |  0:00:38s\n",
      "\n",
      "Early stopping occurred at epoch 289 with best_epoch = 239 and best_train_mae = 0.13675\n",
      "Best weights from best epoch are automatically used!\n"
     ]
    }
   ],
   "source": [
    "#Train the Model\n",
    "\n",
    "Y_train = np.reshape(Y_train, (-1, 1))\n",
    "Y_test = np.reshape(Y_test, (-1, 1))\n",
    "\n",
    "prior_model = TabNetRegressor(optimizer_fn=torch.optim.Adam, optimizer_params=dict(lr = 0.02),\n",
    "          #scheduler_params={\"step_size\":10, ], \"gamma\":0.9},\n",
    "          #scheduler_fn=torch.optim.lr_scheduler.StepLR\n",
    "          )  #TabNetRegressor()\n",
    "\n",
    "prior_model.fit(X_train,Y_train,eval_set=[(X_train, Y_train)],\n",
    "            eval_name=['train'], \n",
    "            eval_metric=[ 'mse', 'mae'], \n",
    "            max_epochs = n_epochs, \n",
    "            batch_size = batch_size,\n",
    "            patience=50\n",
    "            )"
   ]
  },
  {
   "cell_type": "code",
   "execution_count": 10,
   "id": "af65dcda",
   "metadata": {
    "execution": {
     "iopub.execute_input": "2022-06-22T13:58:58.642878Z",
     "iopub.status.busy": "2022-06-22T13:58:58.639770Z",
     "iopub.status.idle": "2022-06-22T13:58:58.675992Z",
     "shell.execute_reply": "2022-06-22T13:58:58.676725Z"
    },
    "id": "af65dcda",
    "papermill": {
     "duration": 0.135621,
     "end_time": "2022-06-22T13:58:58.676968",
     "exception": false,
     "start_time": "2022-06-22T13:58:58.541347",
     "status": "completed"
    },
    "tags": []
   },
   "outputs": [
    {
     "data": {
      "application/scrapbook.scrap.json+json": {
       "data": 0.14896143431435735,
       "encoder": "json",
       "name": "Prior Model MSE",
       "version": 1
      }
     },
     "metadata": {
      "scrapbook": {
       "data": true,
       "display": false,
       "name": "Prior Model MSE"
      }
     },
     "output_type": "display_data"
    },
    {
     "data": {
      "application/scrapbook.scrap.json+json": {
       "data": 0.9093109817493659,
       "encoder": "json",
       "name": "ABC Pre-generator MSE",
       "version": 1
      }
     },
     "metadata": {
      "scrapbook": {
       "data": true,
       "display": false,
       "name": "ABC Pre-generator MSE"
      }
     },
     "output_type": "display_data"
    },
    {
     "data": {
      "application/scrapbook.scrap.json+json": {
       "data": 0.3001079999687307,
       "encoder": "json",
       "name": "Prior Model MSE",
       "version": 1
      }
     },
     "metadata": {
      "scrapbook": {
       "data": true,
       "display": false,
       "name": "Prior Model MSE"
      }
     },
     "output_type": "display_data"
    },
    {
     "data": {
      "application/scrapbook.scrap.json+json": {
       "data": 0.7922390497007193,
       "encoder": "json",
       "name": "ABC Pre-generator MSE",
       "version": 1
      }
     },
     "metadata": {
      "scrapbook": {
       "data": true,
       "display": false,
       "name": "ABC Pre-generator MSE"
      }
     },
     "output_type": "display_data"
    }
   ],
   "source": [
    "y_pred = prior_model.predict(X_test)\n",
    "y_abc = y_pred + np.random.normal(0,variance, y_pred.shape) + bias \n",
    "mse = mean_squared_error(y_pred,Y_test)\n",
    "sb.glue(\"Prior Model MSE\",mse)\n",
    "mse = mean_squared_error(y_abc,Y_test)\n",
    "sb.glue(\"ABC Pre-generator MSE\",mse)\n",
    "mae = mean_absolute_error(y_pred,Y_test)\n",
    "sb.glue(\"Prior Model MSE\",mae)\n",
    "mae = mean_absolute_error(y_abc,Y_test)\n",
    "sb.glue(\"ABC Pre-generator MSE\",mae)"
   ]
  },
  {
   "cell_type": "markdown",
   "id": "25609da2",
   "metadata": {
    "papermill": {
     "duration": 0.078754,
     "end_time": "2022-06-22T13:58:58.816066",
     "exception": false,
     "start_time": "2022-06-22T13:58:58.737312",
     "status": "completed"
    },
    "tags": []
   },
   "source": [
    "# ABC GAN Model"
   ]
  },
  {
   "cell_type": "code",
   "execution_count": 11,
   "id": "dfc3464d",
   "metadata": {
    "execution": {
     "iopub.execute_input": "2022-06-22T13:58:58.959461Z",
     "iopub.status.busy": "2022-06-22T13:58:58.957360Z",
     "iopub.status.idle": "2022-06-22T13:58:58.961593Z",
     "shell.execute_reply": "2022-06-22T13:58:58.962623Z"
    },
    "papermill": {
     "duration": 0.079879,
     "end_time": "2022-06-22T13:58:58.962867",
     "exception": false,
     "start_time": "2022-06-22T13:58:58.882988",
     "status": "completed"
    },
    "tags": []
   },
   "outputs": [],
   "source": [
    "gen = network.Generator(n_features+1).to(device)\n",
    "disc = network.Discriminator(n_features+1).to(device)\n",
    "\n",
    "criterion = torch.nn.BCELoss()\n",
    "gen_opt = torch.optim.Adam(gen.parameters(), lr=0.001, betas=(0.5, 0.999))\n",
    "disc_opt = torch.optim.Adam(disc.parameters(), lr=0.001, betas=(0.5, 0.999))"
   ]
  },
  {
   "cell_type": "code",
   "execution_count": 12,
   "id": "b75fdd85",
   "metadata": {
    "execution": {
     "iopub.execute_input": "2022-06-22T13:58:59.108132Z",
     "iopub.status.busy": "2022-06-22T13:58:59.107120Z",
     "iopub.status.idle": "2022-06-22T13:59:54.285757Z",
     "shell.execute_reply": "2022-06-22T13:59:54.286283Z"
    },
    "papermill": {
     "duration": 55.268086,
     "end_time": "2022-06-22T13:59:54.286499",
     "exception": false,
     "start_time": "2022-06-22T13:58:59.018413",
     "status": "completed"
    },
    "tags": []
   },
   "outputs": [
    {
     "data": {
      "image/png": "[encoded data removed]",
      "text/plain": [
       "<Figure size 432x288 with 1 Axes>"
      ]
     },
     "metadata": {
      "needs_background": "light"
     },
     "output_type": "display_data"
    },
    {
     "data": {
      "image/png": "[encoded data removed]",
      "text/plain": [
       "<Figure size 432x288 with 1 Axes>"
      ]
     },
     "metadata": {
      "needs_background": "light"
     },
     "output_type": "display_data"
    }
   ],
   "source": [
    "#Training the ABC_GAN \n",
    "ABC_train_test2.training_GAN(disc,gen,disc_opt,gen_opt,train_data,batch_size,n_epochs,criterion,prior_model,variance,bias,device)"
   ]
  },
  {
   "cell_type": "code",
   "execution_count": 13,
   "id": "1fa7c368",
   "metadata": {
    "execution": {
     "iopub.execute_input": "2022-06-22T13:59:54.452625Z",
     "iopub.status.busy": "2022-06-22T13:59:54.451836Z",
     "iopub.status.idle": "2022-06-22T13:59:55.248556Z",
     "shell.execute_reply": "2022-06-22T13:59:55.249215Z"
    },
    "papermill": {
     "duration": 0.902815,
     "end_time": "2022-06-22T13:59:55.249438",
     "exception": false,
     "start_time": "2022-06-22T13:59:54.346623",
     "status": "completed"
    },
    "tags": []
   },
   "outputs": [
    {
     "data": {
      "application/scrapbook.scrap.json+json": {
       "data": 0.1263944038815289,
       "encoder": "json",
       "name": "ABC-GAN Model 1 MSE",
       "version": 1
      }
     },
     "metadata": {
      "scrapbook": {
       "data": true,
       "display": false,
       "name": "ABC-GAN Model 1 MSE"
      }
     },
     "output_type": "display_data"
    },
    {
     "data": {
      "application/scrapbook.scrap.json+json": {
       "data": 0.30337052925489844,
       "encoder": "json",
       "name": "ABC-GAN Model 1 MAE",
       "version": 1
      }
     },
     "metadata": {
      "scrapbook": {
       "data": true,
       "display": false,
       "name": "ABC-GAN Model 1 MAE"
      }
     },
     "output_type": "display_data"
    },
    {
     "data": {
      "application/scrapbook.scrap.json+json": {
       "data": 6.067410585097969,
       "encoder": "json",
       "name": "ABC-GAN Model 1 Manhattan Distance",
       "version": 1
      }
     },
     "metadata": {
      "scrapbook": {
       "data": true,
       "display": false,
       "name": "ABC-GAN Model 1 Manhattan Distance"
      }
     },
     "output_type": "display_data"
    },
    {
     "data": {
      "application/scrapbook.scrap.json+json": {
       "data": 1.5888633251247606,
       "encoder": "json",
       "name": "ABC-GAN Model 1 Euclidean distance",
       "version": 1
      }
     },
     "metadata": {
      "scrapbook": {
       "data": true,
       "display": false,
       "name": "ABC-GAN Model 1 Euclidean distance"
      }
     },
     "output_type": "display_data"
    },
    {
     "data": {
      "application/scrapbook.scrap.json+json": {
       "data": [
        [
         0.12777901280023712,
         0.12389414128088909,
         0.13972299647266118,
         0.11948250424705567,
         0.13274896744972492,
         0.1186102842804448,
         0.130888673802157,
         0.12115022950424917,
         0.11580027992067259,
         0.13792273380604264,
         0.12568068465563814,
         0.14558920710829906,
         0.1294305999706035,
         0.13781083639163255,
         0.12205034360545688,
         0.12124281435959863,
         0.12257194725414085,
         0.12150206107838972,
         0.12351819745987928,
         0.14753090148405432,
         0.11623445635905524,
         0.10430285368955508,
         0.12866185744269365,
         0.12272429724569282,
         0.12213677120214281,
         0.12338392849962862,
         0.13218693826582348,
         0.13070255986276713,
         0.11545706923303442,
         0.12222592740491223,
         0.14197238770312187,
         0.13471824558017725,
         0.13220644136000503,
         0.1347105585665354,
         0.13468564553878584,
         0.12454822057267094,
         0.11943437300297285,
         0.12908007374141506,
         0.13182466281804786,
         0.12771555942143395,
         0.12320197836634642,
         0.12536486890034096,
         0.10833230772489735,
         0.13157536606202877,
         0.1259451014426048,
         0.13890740006760724,
         0.1105682339013895,
         0.11467519546627958,
         0.12858407033076605,
         0.1522684306557443,
         0.11516723283364079,
         0.1117079768578845,
         0.12419006117417304,
         0.11359691903637217,
         0.12915335117274984,
         0.12466732721309393,
         0.12248807569742334,
         0.10924343240154122,
         0.12523841955173573,
         0.13631168658624393,
         0.13590191919265596,
         0.12840644208931024,
         0.14158313230627978,
         0.12399908706334033,
         0.12018901107898686,
         0.13130873119970463,
         0.12715735712822274,
         0.11666968634541575,
         0.1123595304200518,
         0.12856102834928182,
         0.1188439524616777,
         0.13083831861068412,
         0.12468301447679861,
         0.1242712648404849,
         0.14108675747835084,
         0.12803499967903487,
         0.1256084696921988,
         0.12593777630087977,
         0.13229492859549896,
         0.11019446181724253,
         0.12573633204676846,
         0.12550536440459284,
         0.10488225957241634,
         0.12529132245032204,
         0.1230312480697295,
         0.13247872339228636,
         0.12766274516248616,
         0.1201312468708938,
         0.12733902489587842,
         0.12822111377864923,
         0.12884217300481887,
         0.1443949211805331,
         0.1296747581940052,
         0.12670473816194963,
         0.11238317993913864,
         0.14427792403601955,
         0.13392600604953184,
         0.1185720212813364,
         0.13981461142295845,
         0.1276131252273115
        ],
        [
         0.3145345065742731,
         0.2948025394231081,
         0.318446197360754,
         0.2981629692018032,
         0.3098105892539024,
         0.299520742893219,
         0.30874058734625576,
         0.30497620105743406,
         0.2833858974277973,
         0.3151377119123936,
         0.3058765474706888,
         0.32090999409556387,
         0.3144033521413803,
         0.308331324160099,
         0.3021057792007923,
         0.30250045470893383,
         0.29711894504725933,
         0.30097545236349105,
         0.2941859260201454,
         0.33196260295808316,
         0.29082291573286057,
         0.2805188797414303,
         0.31704671792685984,
         0.30035072565078735,
         0.3037519332021475,
         0.30915500596165657,
         0.311067321151495,
         0.3149372398853302,
         0.2802717573940754,
         0.3023569703102112,
         0.31853665634989736,
         0.31137547492980955,
         0.30819737166166306,
         0.3178965449333191,
         0.31575070060789584,
         0.31136200577020645,
         0.295256919413805,
         0.311160796135664,
         0.3020969063043594,
         0.3091842481866479,
         0.29999039582908155,
         0.2980035595595837,
         0.2855162777006626,
         0.3042388282716274,
         0.2914200693368912,
         0.3210248664021492,
         0.2804581545293331,
         0.2990459069609642,
         0.3115065023303032,
         0.32516803964972496,
         0.2926556445658207,
         0.27476579658687117,
         0.30090760961174967,
         0.28392734974622724,
         0.30879023894667623,
         0.30512648541480303,
         0.29488256983458994,
         0.27773809283971784,
         0.29952436983585357,
         0.31815039590001104,
         0.3159871518611908,
         0.30477344766259196,
         0.31077516488730905,
         0.3067586623132229,
         0.30347799994051455,
         0.3087563905864954,
         0.3012101501226425,
         0.2966477543115616,
         0.2889173723757267,
         0.3119536839425564,
         0.3032632898539305,
         0.30938767790794375,
         0.30351012386381626,
         0.3007251389324665,
         0.31819373853504657,
         0.3124812491238117,
         0.2973705671727657,
         0.31038372293114663,
         0.3046717081218958,
         0.29183737710118296,
         0.3017910741269588,
         0.30256018973886967,
         0.28236638866364955,
         0.2991389624774456,
         0.2975889272987843,
         0.2989497844129801,
         0.3056835699826479,
         0.29087182357907293,
         0.30762272253632544,
         0.2965937156230211,
         0.3010525181889534,
         0.3230383723974228,
         0.30684795156121253,
         0.29898527935147284,
         0.2813122905790806,
         0.3132155276834965,
         0.307137094065547,
         0.2894337471574545,
         0.31603945344686507,
         0.30591459535062315
        ],
        [
         6.290690131485462,
         5.896050788462162,
         6.36892394721508,
         5.963259384036064,
         6.196211785078049,
         5.99041485786438,
         6.174811746925116,
         6.099524021148682,
         5.667717948555946,
         6.302754238247871,
         6.117530949413776,
         6.418199881911278,
         6.288067042827606,
         6.166626483201981,
         6.042115584015846,
         6.050009094178677,
         5.942378900945187,
         6.019509047269821,
         5.883718520402908,
         6.639252059161663,
         5.816458314657211,
         5.610377594828606,
         6.340934358537197,
         6.007014513015747,
         6.07503866404295,
         6.183100119233131,
         6.2213464230299,
         6.298744797706604,
         5.605435147881508,
         6.047139406204224,
         6.370733126997948,
         6.227509498596191,
         6.163947433233261,
         6.357930898666382,
         6.315014012157917,
         6.227240115404129,
         5.9051383882761,
         6.22321592271328,
         6.041938126087189,
         6.183684963732958,
         5.999807916581631,
         5.960071191191673,
         5.710325554013252,
         6.0847765654325485,
         5.8284013867378235,
         6.420497328042984,
         5.609163090586662,
         5.980918139219284,
         6.230130046606064,
         6.503360792994499,
         5.853112891316414,
         5.495315931737423,
         6.018152192234993,
         5.678546994924545,
         6.175804778933525,
         6.102529708296061,
         5.897651396691799,
         5.554761856794357,
         5.9904873967170715,
         6.363007918000221,
         6.319743037223816,
         6.095468953251839,
         6.2155032977461815,
         6.135173246264458,
         6.069559998810291,
         6.175127811729908,
         6.02420300245285,
         5.932955086231232,
         5.778347447514534,
         6.239073678851128,
         6.0652657970786095,
         6.1877535581588745,
         6.070202477276325,
         6.01450277864933,
         6.3638747707009315,
         6.249624982476234,
         5.947411343455315,
         6.207674458622932,
         6.093434162437916,
         5.836747542023659,
         6.035821482539177,
         6.051203794777393,
         5.647327773272991,
         5.982779249548912,
         5.951778545975685,
         5.978995688259602,
         6.113671399652958,
         5.817436471581459,
         6.152454450726509,
         5.9318743124604225,
         6.021050363779068,
         6.460767447948456,
         6.136959031224251,
         5.979705587029457,
         5.626245811581612,
         6.2643105536699295,
         6.14274188131094,
         5.78867494314909,
         6.320789068937302,
         6.118291907012463
        ],
        [
         1.5986182333517724,
         1.5741292277376029,
         1.6716638207047563,
         1.5458493086135896,
         1.6294107367372102,
         1.5401966386175812,
         1.617953483893508,
         1.5566003308765495,
         1.521842829734218,
         1.6608596196310066,
         1.5854380130149406,
         1.7063950721230945,
         1.6089164053523943,
         1.6601857510027758,
         1.562372193847912,
         1.5571950061543263,
         1.565707170923994,
         1.5588589485799522,
         1.5717391479496798,
         1.7177363097056213,
         1.5246931255767846,
         1.4443188961552436,
         1.60413127544284,
         1.5666799114413437,
         1.5629252778181228,
         1.5708846456670753,
         1.625957799365183,
         1.6168027700543264,
         1.5195859253956943,
         1.5634956181896529,
         1.6850660978319032,
         1.6414520741110734,
         1.6260777432829283,
         1.6414052428729198,
         1.6412534572014514,
         1.578278939685067,
         1.54553791932112,
         1.6067362804232377,
         1.623728196577542,
         1.598221257657612,
         1.5697259529379415,
         1.5834447821148734,
         1.4719531767342149,
         1.6221921345021297,
         1.587104920555694,
         1.666777730038455,
         1.4870657947877726,
         1.5144318767529927,
         1.6036462847571222,
         1.7450984537025085,
         1.5176773888652408,
         1.4947105195179733,
         1.5760080023538778,
         1.5072950543033847,
         1.607192279553071,
         1.579033420881863,
         1.5651714008211584,
         1.478130118775348,
         1.582646009388933,
         1.6511310461998099,
         1.6486474407383525,
         1.6025382497108158,
         1.682754481831974,
         1.5747957776381059,
         1.5504129197022762,
         1.6205476308933633,
         1.5947247858374982,
         1.5275449999618063,
         1.4990632436295128,
         1.6035025933828846,
         1.541713024279666,
         1.6176422262705936,
         1.5791327650124838,
         1.576523167228981,
         1.6798021161931596,
         1.600218733042673,
         1.5849824585287928,
         1.5870587657732134,
         1.6266218281794877,
         1.484550179800215,
         1.585788964816999,
         1.584331811235215,
         1.4483249605831996,
         1.5829802427719812,
         1.568637931899707,
         1.6277513532003982,
         1.5978907669955802,
         1.5500403018689146,
         1.595863558678363,
         1.6013813648138235,
         1.605254951743298,
         1.699381776885542,
         1.610433222421875,
         1.5918840294566035,
         1.4992209973125286,
         1.6986931685034796,
         1.6366185019700334,
         1.539948189267005,
         1.6722117773951866,
         1.5975802028524984
        ]
       ],
       "encoder": "json",
       "name": "ABC_GAN_1 Metrics",
       "version": 1
      }
     },
     "metadata": {
      "scrapbook": {
       "data": true,
       "display": false,
       "name": "ABC_GAN_1 Metrics"
      }
     },
     "output_type": "display_data"
    },
    {
     "name": "stdout",
     "output_type": "stream",
     "text": [
      "MSE\n",
      "0.1263944038815289\n"
     ]
    }
   ],
   "source": [
    "ABC_GAN1_metrics=ABC_train_test2.test_generator(gen,test_data,prior_model,variance,bias,\"1\",device)\n",
    "sb.glue(\"ABC_GAN_1 Metrics\",ABC_GAN1_metrics)\n",
    "\n",
    "print(\"MSE\")\n",
    "print(mean(ABC_GAN1_metrics[0]))"
   ]
  },
  {
   "cell_type": "code",
   "execution_count": 14,
   "id": "eb22ce5c",
   "metadata": {
    "execution": {
     "iopub.execute_input": "2022-06-22T13:59:55.481856Z",
     "iopub.status.busy": "2022-06-22T13:59:55.467728Z",
     "iopub.status.idle": "2022-06-22T13:59:56.400927Z",
     "shell.execute_reply": "2022-06-22T13:59:56.401639Z"
    },
    "papermill": {
     "duration": 1.086047,
     "end_time": "2022-06-22T13:59:56.401874",
     "exception": false,
     "start_time": "2022-06-22T13:59:55.315827",
     "status": "completed"
    },
    "tags": []
   },
   "outputs": [
    {
     "data": {
      "image/png": "[encoded data removed]",
      "text/plain": [
       "<Figure size 432x288 with 1 Axes>"
      ]
     },
     "metadata": {
      "needs_background": "light"
     },
     "output_type": "display_data"
    },
    {
     "data": {
      "image/png": "[encoded data removed]",
      "text/plain": [
       "<Figure size 432x288 with 1 Axes>"
      ]
     },
     "metadata": {
      "needs_background": "light"
     },
     "output_type": "display_data"
    },
    {
     "data": {
      "image/png": "[encoded data removed]",
      "text/plain": [
       "<Figure size 432x288 with 1 Axes>"
      ]
     },
     "metadata": {
      "needs_background": "light"
     },
     "output_type": "display_data"
    },
    {
     "data": {
      "image/png": "[encoded data removed]",
      "text/plain": [
       "<Figure size 432x288 with 1 Axes>"
      ]
     },
     "metadata": {
      "needs_background": "light"
     },
     "output_type": "display_data"
    }
   ],
   "source": [
    "sanityChecks.discProbVsError(train_data,disc,device)\n",
    "sanityChecks.discProbVsError(test_data,disc,device)"
   ]
  },
  {
   "cell_type": "markdown",
   "id": "130f3a4d",
   "metadata": {
    "id": "130f3a4d",
    "papermill": {
     "duration": 0.102234,
     "end_time": "2022-06-22T13:59:56.583564",
     "exception": false,
     "start_time": "2022-06-22T13:59:56.481330",
     "status": "completed"
    },
    "tags": []
   },
   "source": [
    "# ABC - GAN Model with skip connection"
   ]
  },
  {
   "cell_type": "code",
   "execution_count": 15,
   "id": "4e43dad1",
   "metadata": {
    "execution": {
     "iopub.execute_input": "2022-06-22T13:59:56.891541Z",
     "iopub.status.busy": "2022-06-22T13:59:56.889652Z",
     "iopub.status.idle": "2022-06-22T13:59:56.893323Z",
     "shell.execute_reply": "2022-06-22T13:59:56.897568Z"
    },
    "id": "4e43dad1",
    "papermill": {
     "duration": 0.172921,
     "end_time": "2022-06-22T13:59:56.899932",
     "exception": false,
     "start_time": "2022-06-22T13:59:56.727011",
     "status": "completed"
    },
    "tags": []
   },
   "outputs": [],
   "source": [
    "#Generator\n",
    "gen3 = network.GeneratorWithSkipConnection(n_features+1).to(device)\n",
    "constraints=network.weightConstraint()\n",
    "#Discriminator \n",
    "disc3 = network.Discriminator(n_features+1).to(device)\n",
    "\n",
    "criterion = torch.nn.BCELoss()\n",
    "gen_opt = torch.optim.Adam(gen3.parameters(), lr=0.001, betas=(0.5, 0.999))\n",
    "disc_opt = torch.optim.Adam(disc3.parameters(), lr=0.001, betas=(0.5, 0.999))\n"
   ]
  },
  {
   "cell_type": "code",
   "execution_count": 16,
   "id": "26acbc37",
   "metadata": {
    "execution": {
     "iopub.execute_input": "2022-06-22T13:59:57.203527Z",
     "iopub.status.busy": "2022-06-22T13:59:57.147518Z",
     "iopub.status.idle": "2022-06-22T14:01:31.671406Z",
     "shell.execute_reply": "2022-06-22T14:01:31.671936Z"
    },
    "id": "26acbc37",
    "papermill": {
     "duration": 94.680239,
     "end_time": "2022-06-22T14:01:31.672161",
     "exception": false,
     "start_time": "2022-06-22T13:59:56.991922",
     "status": "completed"
    },
    "tags": []
   },
   "outputs": [
    {
     "data": {
      "image/png": "[encoded data removed]",
      "text/plain": [
       "<Figure size 432x288 with 1 Axes>"
      ]
     },
     "metadata": {
      "needs_background": "light"
     },
     "output_type": "display_data"
    },
    {
     "data": {
      "image/png": "[encoded data removed]",
      "text/plain": [
       "<Figure size 432x288 with 1 Axes>"
      ]
     },
     "metadata": {
      "needs_background": "light"
     },
     "output_type": "display_data"
    }
   ],
   "source": [
    "ABC_train_test2.training_GAN_skip_connection(disc3,gen3,disc_opt,gen_opt,train_data,batch_size,n_epochs,criterion,prior_model,variance,bias,device)"
   ]
  },
  {
   "cell_type": "code",
   "execution_count": 17,
   "id": "c5e0717b",
   "metadata": {
    "execution": {
     "iopub.execute_input": "2022-06-22T14:01:31.845740Z",
     "iopub.status.busy": "2022-06-22T14:01:31.843111Z",
     "iopub.status.idle": "2022-06-22T14:01:33.518228Z",
     "shell.execute_reply": "2022-06-22T14:01:33.519585Z"
    },
    "id": "c5e0717b",
    "papermill": {
     "duration": 1.778318,
     "end_time": "2022-06-22T14:01:33.519876",
     "exception": false,
     "start_time": "2022-06-22T14:01:31.741558",
     "status": "completed"
    },
    "tags": []
   },
   "outputs": [
    {
     "data": {
      "application/scrapbook.scrap.json+json": {
       "data": 0.16439551168865144,
       "encoder": "json",
       "name": "ABC-GAN Model 3 MSE",
       "version": 1
      }
     },
     "metadata": {
      "scrapbook": {
       "data": true,
       "display": false,
       "name": "ABC-GAN Model 3 MSE"
      }
     },
     "output_type": "display_data"
    },
    {
     "data": {
      "application/scrapbook.scrap.json+json": {
       "data": 0.30934061673656105,
       "encoder": "json",
       "name": "ABC-GAN Model 3 MAE",
       "version": 1
      }
     },
     "metadata": {
      "scrapbook": {
       "data": true,
       "display": false,
       "name": "ABC-GAN Model 3 MAE"
      }
     },
     "output_type": "display_data"
    },
    {
     "data": {
      "application/scrapbook.scrap.json+json": {
       "data": 6.186812334731221,
       "encoder": "json",
       "name": "ABC-GAN Model 3 Manhattan Distance",
       "version": 1
      }
     },
     "metadata": {
      "scrapbook": {
       "data": true,
       "display": false,
       "name": "ABC-GAN Model 3 Manhattan Distance"
      }
     },
     "output_type": "display_data"
    },
    {
     "data": {
      "application/scrapbook.scrap.json+json": {
       "data": 1.8068730596148141,
       "encoder": "json",
       "name": "ABC-GAN Model 3 Euclidean distance",
       "version": 1
      }
     },
     "metadata": {
      "scrapbook": {
       "data": true,
       "display": false,
       "name": "ABC-GAN Model 3 Euclidean distance"
      }
     },
     "output_type": "display_data"
    },
    {
     "data": {
      "application/scrapbook.scrap.json+json": {
       "data": [
        [
         0.12097885700237195,
         0.17393911575099483,
         0.15750517701573807,
         0.14721590913432198,
         0.17522800568680927,
         0.183932654532306,
         0.16349077486626915,
         0.15545799485568873,
         0.10202003409201321,
         0.17276022549020995,
         0.12970320603379185,
         0.1626687136848603,
         0.13794610843894986,
         0.1726682869794655,
         0.17002669068883303,
         0.19566662631344486,
         0.16830711063340317,
         0.1604169528522712,
         0.16975789653470613,
         0.14935902948898827,
         0.12131279672950535,
         0.13217015319166367,
         0.1942073140955996,
         0.16958934646143226,
         0.21113194883505643,
         0.1653807079975313,
         0.12742305279111982,
         0.1588431198311125,
         0.15320666738067762,
         0.18374372715445347,
         0.19245039341752257,
         0.25554543370404764,
         0.15483461575095048,
         0.14944525186144006,
         0.2053757137546221,
         0.14230901509628416,
         0.13672675717495822,
         0.18483882499657125,
         0.14717861879088384,
         0.18503514385429715,
         0.16070859854667208,
         0.20073322814458622,
         0.17154118016297354,
         0.14639392711401894,
         0.15766244607910423,
         0.17487718017692294,
         0.14631689237834236,
         0.1376178929716145,
         0.13359605876505526,
         0.17298636127424935,
         0.13851884982927426,
         0.1720360030624891,
         0.18947103649349728,
         0.17520900192443878,
         0.16245144639330297,
         0.15961430330512952,
         0.14251977006468586,
         0.22605881196766756,
         0.1488118816902714,
         0.17396451086474674,
         0.14112513582957792,
         0.2019143397177708,
         0.19952699003674068,
         0.1256887179260723,
         0.16356766832342418,
         0.19045417653937263,
         0.175965936148597,
         0.11889300519523141,
         0.16021456857377023,
         0.14305126849420235,
         0.20413187380348083,
         0.19735030715219704,
         0.18554155843807002,
         0.16299330203321855,
         0.1672086791832192,
         0.18230025745419637,
         0.18411350897809298,
         0.15102343797975867,
         0.1621641321763795,
         0.15799822755571094,
         0.16742542222950288,
         0.17168081048838174,
         0.16990497603746185,
         0.17327053145550314,
         0.13247036251113148,
         0.15586897986298714,
         0.16993634988667478,
         0.20886518670099333,
         0.1111157658335975,
         0.11070949590494453,
         0.15794171204454732,
         0.18899789013850063,
         0.2655272073529244,
         0.15391629285160516,
         0.14932751667291727,
         0.11830354815905038,
         0.18790619883981746,
         0.13483952055158097,
         0.15456418367102043,
         0.1508647719787087
        ],
        [
         0.2827270425856113,
         0.3133005812764168,
         0.31310388520359994,
         0.2658549606800079,
         0.32675046734511853,
         0.32841842584311964,
         0.2872135408222675,
         0.30487618371844294,
         0.2666502472013235,
         0.3238373912870884,
         0.26162543073296546,
         0.2990334786474705,
         0.2832017712295055,
         0.3126093700528145,
         0.30681534111499786,
         0.34546491876244545,
         0.3131538935005665,
         0.2941683255136013,
         0.32465135119855404,
         0.30602545887231825,
         0.2666924737393856,
         0.29309742748737333,
         0.3373493134975433,
         0.29787940308451655,
         0.3430978901684284,
         0.31205510050058366,
         0.26669567748904227,
         0.2964337356388569,
         0.3012449875473976,
         0.333308369666338,
         0.317778554558754,
         0.3512400515377522,
         0.3015634998679161,
         0.30823028087615967,
         0.34501238986849786,
         0.26793192103505137,
         0.2986582785844803,
         0.31550300046801566,
         0.29620766900479795,
         0.34595205560326575,
         0.31189254447817805,
         0.33393100649118423,
         0.3037630431354046,
         0.2913003757596016,
         0.2856877736747265,
         0.3128157056868076,
         0.27606175616383555,
         0.3118661865592003,
         0.2792385071516037,
         0.3221736393868923,
         0.26418759673833847,
         0.32385381385684014,
         0.35896090045571327,
         0.30704856738448144,
         0.3077490083873272,
         0.3211293093860149,
         0.3144254006445408,
         0.36932030618190764,
         0.2917795769870281,
         0.3129043735563755,
         0.26996692195534705,
         0.35200746133923533,
         0.34027556851506235,
         0.2686541724950075,
         0.32482637241482737,
         0.3232670061290264,
         0.32439243569970133,
         0.26729816719889643,
         0.3103213973343372,
         0.2945792466402054,
         0.3382743872702122,
         0.35327947586774827,
         0.33894551172852516,
         0.2908188872039318,
         0.30947132483124734,
         0.3367753863334656,
         0.32919335141777994,
         0.29018591418862344,
         0.3172986678779125,
         0.30634257942438126,
         0.3250957548618317,
         0.3209034658968449,
         0.2965392999351025,
         0.31127259582281114,
         0.2784136764705181,
         0.3166859582066536,
         0.3187384262681007,
         0.3604904919862747,
         0.2743012521415949,
         0.2773742862045765,
         0.28818482756614683,
         0.34503302201628683,
         0.3915518380701542,
         0.28874558955430984,
         0.312917210906744,
         0.2822294093668461,
         0.3354065798223019,
         0.2815193124115467,
         0.2948988050222397,
         0.2920820973813534
        ],
        [
         5.654540851712227,
         6.266011625528336,
         6.262077704071999,
         5.317099213600159,
         6.5350093469023705,
         6.568368516862392,
         5.744270816445351,
         6.097523674368858,
         5.33300494402647,
         6.476747825741768,
         5.232508614659309,
         5.9806695729494095,
         5.664035424590111,
         6.25218740105629,
         6.136306822299957,
         6.909298375248909,
         6.26307787001133,
         5.883366510272026,
         6.493027023971081,
         6.120509177446365,
         5.333849474787712,
         5.861948549747467,
         6.746986269950867,
         5.9575880616903305,
         6.861957803368568,
         6.241102010011673,
         5.333913549780846,
         5.928674712777138,
         6.024899750947952,
         6.666167393326759,
         6.355571091175079,
         7.024801030755043,
         6.031269997358322,
         6.164605617523193,
         6.900247797369957,
         5.358638420701027,
         5.973165571689606,
         6.310060009360313,
         5.924153380095959,
         6.919041112065315,
         6.2378508895635605,
         6.678620129823685,
         6.075260862708092,
         5.826007515192032,
         5.71375547349453,
         6.256314113736153,
         5.5212351232767105,
         6.237323731184006,
         5.584770143032074,
         6.443472787737846,
         5.283751934766769,
         6.477076277136803,
         7.179218009114265,
         6.140971347689629,
         6.154980167746544,
         6.422586187720299,
         6.288508012890816,
         7.386406123638153,
         5.835591539740562,
         6.25808747112751,
         5.399338439106941,
         7.040149226784706,
         6.805511370301247,
         5.37308344990015,
         6.496527448296547,
         6.465340122580528,
         6.487848713994026,
         5.345963343977928,
         6.206427946686745,
         5.891584932804108,
         6.7654877454042435,
         7.065589517354965,
         6.778910234570503,
         5.816377744078636,
         6.189426496624947,
         6.7355077266693115,
         6.5838670283555984,
         5.803718283772469,
         6.34597335755825,
         6.126851588487625,
         6.501915097236633,
         6.418069317936897,
         5.930785998702049,
         6.2254519164562225,
         5.568273529410362,
         6.333719164133072,
         6.374768525362015,
         7.209809839725494,
         5.486025042831898,
         5.54748572409153,
         5.763696551322937,
         6.900660440325737,
         7.831036761403084,
         5.774911791086197,
         6.25834421813488,
         5.644588187336922,
         6.708131596446037,
         5.630386248230934,
         5.897976100444794,
         5.841641947627068
        ],
        [
         1.5554990003363676,
         1.8651494082297795,
         1.774853103869377,
         1.7159015655585956,
         1.8720470383342898,
         1.9179815146778971,
         1.8082631161767866,
         1.7632810034460686,
         1.4284259455219457,
         1.8588180410691626,
         1.6106098598592513,
         1.8037112500888843,
         1.6610003518298837,
         1.8583233678747382,
         1.8440536363611175,
         1.9782144793396133,
         1.8347049388574892,
         1.7911837027634614,
         1.8425954332663812,
         1.7283462007884198,
         1.557644354334489,
         1.6258545641702622,
         1.9708237571918987,
         1.8416804633889792,
         2.0549060749097827,
         1.8186847335232748,
         1.5963900074300128,
         1.7823754926003246,
         1.7504666085400065,
         1.9169962292839986,
         1.9618888521907787,
         2.2607318890308408,
         1.7597421160553637,
         1.7288450009265728,
         2.0267003417112366,
         1.6870626253715904,
         1.6536429915490114,
         1.9227003146438149,
         1.715684229634835,
         1.9237211016896247,
         1.7928111922155778,
         2.0036627867212897,
         1.8522482563791147,
         1.711104480235026,
         1.7757389790118605,
         1.8701720785902185,
         1.7106542162479381,
         1.6590231642241435,
         1.634601228220848,
         1.8600342000847692,
         1.664444951503499,
         1.854917804445734,
         1.9466434521683589,
         1.8719455223079478,
         1.8025062906592197,
         1.7866969709781764,
         1.6883114053081905,
         2.126305772779012,
         1.7251775658770399,
         1.8652855591825437,
         1.6800305701360194,
         2.00954890320077,
         1.997633550162495,
         1.5854886812971722,
         1.8086882999755607,
         1.9516873547746967,
         1.8759847342054625,
         1.5420311617813136,
         1.7900534549212224,
         1.6914565823230718,
         2.020553754808225,
         1.986707362206105,
         1.9263517770026846,
         1.8055099115386686,
         1.8287081734558919,
         1.9094515309595914,
         1.9189242245492288,
         1.7379495848830522,
         1.800911614579569,
         1.777628912657031,
         1.8298930145202634,
         1.853001945430073,
         1.8433934796318545,
         1.8615613417532235,
         1.6276999877811111,
         1.765610261994346,
         1.843563667935961,
         2.0438453302585953,
         1.490743209500533,
         1.4880154293887178,
         1.7773109578492297,
         1.9442113575354951,
         2.3044617911908385,
         1.7545158469025302,
         1.728163861865635,
         1.5382038106769231,
         1.938588140063884,
         1.6421907352776106,
         1.75820467335871,
         1.7370363955813286
        ]
       ],
       "encoder": "json",
       "name": "ABC_GAN_3 Metrics",
       "version": 1
      }
     },
     "metadata": {
      "scrapbook": {
       "data": true,
       "display": false,
       "name": "ABC_GAN_3 Metrics"
      }
     },
     "output_type": "display_data"
    },
    {
     "name": "stdout",
     "output_type": "stream",
     "text": [
      "MSE\n",
      "0.16439551168865144\n"
     ]
    }
   ],
   "source": [
    "ABC_GAN3_metrics=ABC_train_test2.test_generator(gen3,test_data,prior_model,variance,bias,\"3\",device)\n",
    "sb.glue(\"ABC_GAN_3 Metrics\",ABC_GAN3_metrics)\n",
    "\n",
    "print(\"MSE\")\n",
    "print(mean(ABC_GAN3_metrics[0]))"
   ]
  },
  {
   "cell_type": "code",
   "execution_count": 18,
   "id": "c8e46b48",
   "metadata": {
    "execution": {
     "iopub.execute_input": "2022-06-22T14:01:33.777164Z",
     "iopub.status.busy": "2022-06-22T14:01:33.761860Z",
     "iopub.status.idle": "2022-06-22T14:01:35.148059Z",
     "shell.execute_reply": "2022-06-22T14:01:35.153579Z"
    },
    "id": "c8e46b48",
    "papermill": {
     "duration": 1.532074,
     "end_time": "2022-06-22T14:01:35.153942",
     "exception": false,
     "start_time": "2022-06-22T14:01:33.621868",
     "status": "completed"
    },
    "tags": []
   },
   "outputs": [
    {
     "data": {
      "image/png": "[encoded data removed]",
      "text/plain": [
       "<Figure size 432x288 with 1 Axes>"
      ]
     },
     "metadata": {
      "needs_background": "light"
     },
     "output_type": "display_data"
    },
    {
     "data": {
      "image/png": "[encoded data removed]",
      "text/plain": [
       "<Figure size 432x288 with 1 Axes>"
      ]
     },
     "metadata": {
      "needs_background": "light"
     },
     "output_type": "display_data"
    },
    {
     "data": {
      "image/png": "[encoded data removed]",
      "text/plain": [
       "<Figure size 432x288 with 1 Axes>"
      ]
     },
     "metadata": {
      "needs_background": "light"
     },
     "output_type": "display_data"
    },
    {
     "data": {
      "image/png": "[encoded data removed]",
      "text/plain": [
       "<Figure size 432x288 with 1 Axes>"
      ]
     },
     "metadata": {
      "needs_background": "light"
     },
     "output_type": "display_data"
    }
   ],
   "source": [
    "sanityChecks.discProbVsError(train_data,disc3,device)\n",
    "sanityChecks.discProbVsError(test_data,disc3,device)"
   ]
  },
  {
   "cell_type": "markdown",
   "id": "a5bd74c3",
   "metadata": {
    "id": "a5bd74c3",
    "papermill": {
     "duration": 0.234412,
     "end_time": "2022-06-22T14:01:35.623744",
     "exception": false,
     "start_time": "2022-06-22T14:01:35.389332",
     "status": "completed"
    },
    "tags": []
   },
   "source": [
    "## Skip Connection Model Analysis - ABC-GAN "
   ]
  },
  {
   "cell_type": "markdown",
   "id": "5744a8bf",
   "metadata": {
    "id": "5744a8bf",
    "papermill": {
     "duration": 0.136325,
     "end_time": "2022-06-22T14:01:35.885302",
     "exception": false,
     "start_time": "2022-06-22T14:01:35.748977",
     "status": "completed"
    },
    "tags": []
   },
   "source": [
    "### Weight Analysis \n",
    "\n",
    "Study the weights of the skip connection layer\n",
    "\n",
    "Equation of the skip connection is \n",
    "\n",
    "$output = y_{gan} * w + y_{abc} * (1-w)$"
   ]
  },
  {
   "cell_type": "code",
   "execution_count": 19,
   "id": "52c31dea",
   "metadata": {
    "execution": {
     "iopub.execute_input": "2022-06-22T14:01:36.128335Z",
     "iopub.status.busy": "2022-06-22T14:01:36.121171Z",
     "iopub.status.idle": "2022-06-22T14:01:36.136440Z",
     "shell.execute_reply": "2022-06-22T14:01:36.134090Z"
    },
    "id": "52c31dea",
    "papermill": {
     "duration": 0.149209,
     "end_time": "2022-06-22T14:01:36.136697",
     "exception": false,
     "start_time": "2022-06-22T14:01:35.987488",
     "status": "completed"
    },
    "tags": []
   },
   "outputs": [
    {
     "name": "stdout",
     "output_type": "stream",
     "text": [
      "Weight of the node at skip connection\n",
      "Parameter containing:\n",
      "tensor([[0.1564]], requires_grad=True)\n"
     ]
    },
    {
     "data": {
      "application/scrapbook.scrap.json+json": {
       "data": 0.15635769069194794,
       "encoder": "json",
       "name": "Skip Connection Weight",
       "version": 1
      }
     },
     "metadata": {
      "scrapbook": {
       "data": true,
       "display": false,
       "name": "Skip Connection Weight"
      }
     },
     "output_type": "display_data"
    }
   ],
   "source": [
    "print(\"Weight of the node at skip connection\")\n",
    "for name,param in gen3.named_parameters():\n",
    "    if(name == \"skipNode.weight\"):\n",
    "        print(param)\n",
    "        sb.glue(\"Skip Connection Weight\",param.item())"
   ]
  }
 ],
 "metadata": {
  "colab": {
   "collapsed_sections": [],
   "name": "ABC_GAN_Model-Catboost_Pre-gen.ipynb",
   "provenance": []
  },
  "interpreter": {
   "hash": "31f2aee4e71d21fbe5cf8b01ff0e069b9275f58929596ceb00d14d90e3e16cd6"
  },
  "kernelspec": {
   "display_name": "Python 3 (ipykernel)",
   "language": "python",
   "name": "python3"
  },
  "language_info": {
   "codemirror_mode": {
    "name": "ipython",
    "version": 3
   },
   "file_extension": ".py",
   "mimetype": "text/x-python",
   "name": "python",
   "nbconvert_exporter": "python",
   "pygments_lexer": "ipython3",
   "version": "3.8.3"
  },
  "papermill": {
   "default_parameters": {},
   "duration": 207.6633,
   "end_time": "2022-06-22T14:01:37.115260",
   "environment_variables": {},
   "exception": null,
   "input_path": "ABC_GAN-TabNet.ipynb",
   "output_path": "./ABC_GAN_TabNet/ABC-GAN_output_5_9.ipynb",
   "parameters": {
    "bias": 0,
    "variance": 1
   },
   "start_time": "2022-06-22T13:58:09.451960",
   "version": "2.3.3"
  }
 },
 "nbformat": 4,
 "nbformat_minor": 5
}