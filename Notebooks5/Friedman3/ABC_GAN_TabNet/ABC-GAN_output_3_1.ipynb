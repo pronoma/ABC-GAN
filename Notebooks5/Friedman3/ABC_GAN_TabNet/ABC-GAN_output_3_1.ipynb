{
 "cells": [
  {
   "cell_type": "markdown",
   "id": "622780e6",
   "metadata": {
    "id": "622780e6",
    "papermill": {
     "duration": 0.02936,
     "end_time": "2022-06-22T12:26:20.858129",
     "exception": false,
     "start_time": "2022-06-22T12:26:20.828769",
     "status": "completed"
    },
    "tags": []
   },
   "source": [
    "## Import Libraries "
   ]
  },
  {
   "cell_type": "code",
   "execution_count": 1,
   "id": "a62397e3",
   "metadata": {
    "execution": {
     "iopub.execute_input": "2022-06-22T12:26:20.910308Z",
     "iopub.status.busy": "2022-06-22T12:26:20.909284Z",
     "iopub.status.idle": "2022-06-22T12:26:20.912060Z",
     "shell.execute_reply": "2022-06-22T12:26:20.912667Z"
    },
    "id": "a62397e3",
    "papermill": {
     "duration": 0.034374,
     "end_time": "2022-06-22T12:26:20.913047",
     "exception": false,
     "start_time": "2022-06-22T12:26:20.878673",
     "status": "completed"
    },
    "tags": []
   },
   "outputs": [],
   "source": [
    "import warnings\n",
    "import sys\n",
    "sys.path.insert(0, '../../src')\n",
    "warnings.filterwarnings('ignore')"
   ]
  },
  {
   "cell_type": "code",
   "execution_count": 2,
   "id": "d6a4e155",
   "metadata": {
    "execution": {
     "iopub.execute_input": "2022-06-22T12:26:20.954832Z",
     "iopub.status.busy": "2022-06-22T12:26:20.953877Z",
     "iopub.status.idle": "2022-06-22T12:26:27.260192Z",
     "shell.execute_reply": "2022-06-22T12:26:27.260808Z"
    },
    "id": "d6a4e155",
    "papermill": {
     "duration": 6.329873,
     "end_time": "2022-06-22T12:26:27.261106",
     "exception": false,
     "start_time": "2022-06-22T12:26:20.931233",
     "status": "completed"
    },
    "tags": []
   },
   "outputs": [],
   "source": [
    "import ABC_train_test2\n",
    "import friedman3Dataset\n",
    "import network\n",
    "import dataset\n",
    "import sanityChecks\n",
    "import torch \n",
    "import scrapbook as sb\n",
    "from statistics import mean \n",
    "import catboost as ctb \n",
    "from sklearn.model_selection import train_test_split\n",
    "from sklearn.metrics import mean_squared_error,mean_absolute_error\n",
    "import numpy as np\n",
    "from pytorch_tabnet.tab_model import TabNetRegressor"
   ]
  },
  {
   "cell_type": "markdown",
   "id": "2fa5b0f7",
   "metadata": {
    "id": "2fa5b0f7",
    "papermill": {
     "duration": 0.020371,
     "end_time": "2022-06-22T12:26:27.299594",
     "exception": false,
     "start_time": "2022-06-22T12:26:27.279223",
     "status": "completed"
    },
    "tags": []
   },
   "source": [
    "## Parameters "
   ]
  },
  {
   "cell_type": "code",
   "execution_count": 3,
   "id": "783186fb",
   "metadata": {
    "execution": {
     "iopub.execute_input": "2022-06-22T12:26:27.345942Z",
     "iopub.status.busy": "2022-06-22T12:26:27.345022Z",
     "iopub.status.idle": "2022-06-22T12:26:27.347418Z",
     "shell.execute_reply": "2022-06-22T12:26:27.347971Z"
    },
    "id": "783186fb",
    "papermill": {
     "duration": 0.02644,
     "end_time": "2022-06-22T12:26:27.348216",
     "exception": false,
     "start_time": "2022-06-22T12:26:27.321776",
     "status": "completed"
    },
    "tags": [
     "parameters"
    ]
   },
   "outputs": [],
   "source": [
    "variance = 1\n",
    "bias = 1 "
   ]
  },
  {
   "cell_type": "code",
   "execution_count": 4,
   "id": "9627e4eb",
   "metadata": {
    "execution": {
     "iopub.execute_input": "2022-06-22T12:26:27.384641Z",
     "iopub.status.busy": "2022-06-22T12:26:27.383227Z",
     "iopub.status.idle": "2022-06-22T12:26:27.386268Z",
     "shell.execute_reply": "2022-06-22T12:26:27.386931Z"
    },
    "papermill": {
     "duration": 0.023017,
     "end_time": "2022-06-22T12:26:27.387180",
     "exception": false,
     "start_time": "2022-06-22T12:26:27.364163",
     "status": "completed"
    },
    "tags": [
     "injected-parameters"
    ]
   },
   "outputs": [],
   "source": [
    "# Parameters\n",
    "variance = 0.1\n",
    "bias = 1\n"
   ]
  },
  {
   "cell_type": "markdown",
   "id": "391cdbfd",
   "metadata": {
    "id": "391cdbfd",
    "papermill": {
     "duration": 0.017522,
     "end_time": "2022-06-22T12:26:27.421151",
     "exception": false,
     "start_time": "2022-06-22T12:26:27.403629",
     "status": "completed"
    },
    "tags": []
   },
   "source": [
    "## Dataset \n"
   ]
  },
  {
   "cell_type": "code",
   "execution_count": 5,
   "id": "5b51f161",
   "metadata": {
    "execution": {
     "iopub.execute_input": "2022-06-22T12:26:27.461872Z",
     "iopub.status.busy": "2022-06-22T12:26:27.461096Z",
     "iopub.status.idle": "2022-06-22T12:26:27.463479Z",
     "shell.execute_reply": "2022-06-22T12:26:27.464084Z"
    },
    "id": "5b51f161",
    "papermill": {
     "duration": 0.02353,
     "end_time": "2022-06-22T12:26:27.464307",
     "exception": false,
     "start_time": "2022-06-22T12:26:27.440777",
     "status": "completed"
    },
    "tags": []
   },
   "outputs": [],
   "source": [
    "#Parameters \n",
    "n_features = 4\n",
    "n_samples= 100\n",
    "n_target = 1"
   ]
  },
  {
   "cell_type": "code",
   "execution_count": 6,
   "id": "5d6eced4",
   "metadata": {
    "execution": {
     "iopub.execute_input": "2022-06-22T12:26:27.516373Z",
     "iopub.status.busy": "2022-06-22T12:26:27.514609Z",
     "iopub.status.idle": "2022-06-22T12:26:27.520376Z",
     "shell.execute_reply": "2022-06-22T12:26:27.520923Z"
    },
    "id": "5d6eced4",
    "papermill": {
     "duration": 0.040726,
     "end_time": "2022-06-22T12:26:27.521144",
     "exception": false,
     "start_time": "2022-06-22T12:26:27.480418",
     "status": "completed"
    },
    "tags": []
   },
   "outputs": [
    {
     "name": "stdout",
     "output_type": "stream",
     "text": [
      "          X1           X2        X3         X4         Y\n",
      "0  24.174360   950.958680  0.061989   8.534824  1.099912\n",
      "1  66.537406   332.575569  0.892821   4.563404  1.356148\n",
      "2  46.785213  1042.669344  0.303990  10.578786  1.413519\n",
      "3  58.400963  1248.685927  0.552594   1.515043  1.489629\n",
      "4  39.766740   164.998938  0.456153   8.934899  0.999282\n"
     ]
    }
   ],
   "source": [
    "X,Y = friedman3Dataset.friedman3_data(n_samples)"
   ]
  },
  {
   "cell_type": "code",
   "execution_count": 7,
   "id": "fe007438",
   "metadata": {
    "execution": {
     "iopub.execute_input": "2022-06-22T12:26:27.571392Z",
     "iopub.status.busy": "2022-06-22T12:26:27.570108Z",
     "iopub.status.idle": "2022-06-22T12:26:27.573013Z",
     "shell.execute_reply": "2022-06-22T12:26:27.572386Z"
    },
    "id": "fe007438",
    "papermill": {
     "duration": 0.03692,
     "end_time": "2022-06-22T12:26:27.573231",
     "exception": false,
     "start_time": "2022-06-22T12:26:27.536311",
     "status": "completed"
    },
    "tags": []
   },
   "outputs": [],
   "source": [
    "#Train test split for dataset \n",
    "X_train,X_test,Y_train,Y_test = train_test_split(X,Y,test_size = 0.2)\n",
    "train_data = dataset.CustomDataset(X_train,Y_train)\n",
    "test_data = dataset.CustomDataset(X_test,Y_test)\n"
   ]
  },
  {
   "cell_type": "markdown",
   "id": "a9a1af34",
   "metadata": {
    "id": "a9a1af34",
    "papermill": {
     "duration": 0.024287,
     "end_time": "2022-06-22T12:26:27.614712",
     "exception": false,
     "start_time": "2022-06-22T12:26:27.590425",
     "status": "completed"
    },
    "tags": []
   },
   "source": [
    "## Training Parameters "
   ]
  },
  {
   "cell_type": "code",
   "execution_count": 8,
   "id": "952b7fc8",
   "metadata": {
    "execution": {
     "iopub.execute_input": "2022-06-22T12:26:27.650798Z",
     "iopub.status.busy": "2022-06-22T12:26:27.649368Z",
     "iopub.status.idle": "2022-06-22T12:26:27.652302Z",
     "shell.execute_reply": "2022-06-22T12:26:27.652792Z"
    },
    "id": "952b7fc8",
    "papermill": {
     "duration": 0.023604,
     "end_time": "2022-06-22T12:26:27.653035",
     "exception": false,
     "start_time": "2022-06-22T12:26:27.629431",
     "status": "completed"
    },
    "tags": []
   },
   "outputs": [],
   "source": [
    "batch_size = 32\n",
    "n_epochs = 1000\n",
    "#Select the device \n",
    "device = torch.device('cuda' if torch.cuda.is_available() else 'cpu')"
   ]
  },
  {
   "cell_type": "markdown",
   "id": "a95e1600",
   "metadata": {
    "id": "a95e1600",
    "papermill": {
     "duration": 0.017104,
     "end_time": "2022-06-22T12:26:27.685328",
     "exception": false,
     "start_time": "2022-06-22T12:26:27.668224",
     "status": "completed"
    },
    "tags": []
   },
   "source": [
    "# ABC Pre-generator Model \n",
    "\n",
    "1. The catboost model is used as a pre-generator model for the ABC-GAN. \n",
    "2. The model is first trained on the entire dataset \n",
    "3. It generats X,Y pairs and we add some Gaussian noise with mean 0 and variance 1 to it which is then feed as input to the generator.\n"
   ]
  },
  {
   "cell_type": "code",
   "execution_count": 9,
   "id": "ff8ce7bd",
   "metadata": {
    "execution": {
     "iopub.execute_input": "2022-06-22T12:26:27.729101Z",
     "iopub.status.busy": "2022-06-22T12:26:27.728142Z",
     "iopub.status.idle": "2022-06-22T12:26:45.182348Z",
     "shell.execute_reply": "2022-06-22T12:26:45.181774Z"
    },
    "id": "ff8ce7bd",
    "papermill": {
     "duration": 17.478066,
     "end_time": "2022-06-22T12:26:45.182540",
     "exception": false,
     "start_time": "2022-06-22T12:26:27.704474",
     "status": "completed"
    },
    "tags": []
   },
   "outputs": [
    {
     "name": "stdout",
     "output_type": "stream",
     "text": [
      "Device used : cpu\n"
     ]
    },
    {
     "name": "stdout",
     "output_type": "stream",
     "text": [
      "epoch 0  | loss: 1.26779 | train_mse: 4.53023 | train_mae: 1.50589 |  0:00:00s\n",
      "epoch 1  | loss: 0.85096 | train_mse: 3.25992 | train_mae: 1.39857 |  0:00:00s\n",
      "epoch 2  | loss: 0.38987 | train_mse: 1.79503 | train_mae: 1.00472 |  0:00:00s\n"
     ]
    },
    {
     "name": "stdout",
     "output_type": "stream",
     "text": [
      "epoch 3  | loss: 0.3311  | train_mse: 1.11722 | train_mae: 0.82871 |  0:00:00s\n",
      "epoch 4  | loss: 0.49987 | train_mse: 0.85189 | train_mae: 0.70222 |  0:00:00s\n",
      "epoch 5  | loss: 0.34558 | train_mse: 0.92005 | train_mae: 0.72511 |  0:00:00s\n"
     ]
    },
    {
     "name": "stdout",
     "output_type": "stream",
     "text": [
      "epoch 6  | loss: 0.2669  | train_mse: 0.82821 | train_mae: 0.65061 |  0:00:00s\n",
      "epoch 7  | loss: 0.32559 | train_mse: 0.74434 | train_mae: 0.60664 |  0:00:00s\n",
      "epoch 8  | loss: 0.28173 | train_mse: 0.66813 | train_mae: 0.59312 |  0:00:00s\n"
     ]
    },
    {
     "name": "stdout",
     "output_type": "stream",
     "text": [
      "epoch 9  | loss: 0.2732  | train_mse: 0.70007 | train_mae: 0.61899 |  0:00:00s\n",
      "epoch 10 | loss: 0.25518 | train_mse: 0.68729 | train_mae: 0.65334 |  0:00:01s\n",
      "epoch 11 | loss: 0.27276 | train_mse: 1.13447 | train_mae: 0.78599 |  0:00:01s\n"
     ]
    },
    {
     "name": "stdout",
     "output_type": "stream",
     "text": [
      "epoch 12 | loss: 0.30949 | train_mse: 1.20186 | train_mae: 0.81835 |  0:00:01s\n",
      "epoch 13 | loss: 0.29813 | train_mse: 1.4954  | train_mae: 0.88121 |  0:00:01s\n",
      "epoch 14 | loss: 0.21214 | train_mse: 1.1406  | train_mae: 0.7615  |  0:00:01s\n"
     ]
    },
    {
     "name": "stdout",
     "output_type": "stream",
     "text": [
      "epoch 15 | loss: 0.31417 | train_mse: 0.77014 | train_mae: 0.61008 |  0:00:01s\n",
      "epoch 16 | loss: 0.31411 | train_mse: 0.6285  | train_mae: 0.55916 |  0:00:01s\n",
      "epoch 17 | loss: 0.28795 | train_mse: 0.9049  | train_mae: 0.68954 |  0:00:01s\n"
     ]
    },
    {
     "name": "stdout",
     "output_type": "stream",
     "text": [
      "epoch 18 | loss: 0.30478 | train_mse: 0.87933 | train_mae: 0.67095 |  0:00:01s\n",
      "epoch 19 | loss: 0.20758 | train_mse: 0.65468 | train_mae: 0.58159 |  0:00:01s\n",
      "epoch 20 | loss: 0.24401 | train_mse: 0.48537 | train_mae: 0.5101  |  0:00:01s\n"
     ]
    },
    {
     "name": "stdout",
     "output_type": "stream",
     "text": [
      "epoch 21 | loss: 0.20787 | train_mse: 0.49848 | train_mae: 0.51442 |  0:00:01s\n",
      "epoch 22 | loss: 0.18613 | train_mse: 0.40001 | train_mae: 0.45495 |  0:00:02s\n",
      "epoch 23 | loss: 0.20616 | train_mse: 0.39634 | train_mae: 0.42054 |  0:00:02s\n"
     ]
    },
    {
     "name": "stdout",
     "output_type": "stream",
     "text": [
      "epoch 24 | loss: 0.19823 | train_mse: 0.41366 | train_mae: 0.4468  |  0:00:02s\n",
      "epoch 25 | loss: 0.23421 | train_mse: 0.35942 | train_mae: 0.44475 |  0:00:02s\n"
     ]
    },
    {
     "name": "stdout",
     "output_type": "stream",
     "text": [
      "epoch 26 | loss: 0.18149 | train_mse: 0.26541 | train_mae: 0.38927 |  0:00:02s\n",
      "epoch 27 | loss: 0.1963  | train_mse: 0.26793 | train_mae: 0.38583 |  0:00:02s\n",
      "epoch 28 | loss: 0.17059 | train_mse: 0.22946 | train_mae: 0.35366 |  0:00:02s\n"
     ]
    },
    {
     "name": "stdout",
     "output_type": "stream",
     "text": [
      "epoch 29 | loss: 0.17825 | train_mse: 0.25741 | train_mae: 0.37223 |  0:00:02s\n",
      "epoch 30 | loss: 0.21675 | train_mse: 0.31499 | train_mae: 0.40325 |  0:00:02s\n",
      "epoch 31 | loss: 0.32437 | train_mse: 0.29644 | train_mae: 0.37658 |  0:00:02s\n",
      "epoch 32 | loss: 0.29029 | train_mse: 0.29252 | train_mae: 0.36899 |  0:00:02s\n"
     ]
    },
    {
     "name": "stdout",
     "output_type": "stream",
     "text": [
      "epoch 33 | loss: 0.2014  | train_mse: 0.22793 | train_mae: 0.33928 |  0:00:03s\n",
      "epoch 34 | loss: 0.18987 | train_mse: 0.2458  | train_mae: 0.37092 |  0:00:03s\n",
      "epoch 35 | loss: 0.23068 | train_mse: 0.3497  | train_mae: 0.43183 |  0:00:03s\n",
      "epoch 36 | loss: 0.16259 | train_mse: 0.29267 | train_mae: 0.40536 |  0:00:03s\n"
     ]
    },
    {
     "name": "stdout",
     "output_type": "stream",
     "text": [
      "epoch 37 | loss: 0.147   | train_mse: 0.29661 | train_mae: 0.40527 |  0:00:03s\n",
      "epoch 38 | loss: 0.16047 | train_mse: 0.27227 | train_mae: 0.38398 |  0:00:03s\n",
      "epoch 39 | loss: 0.22654 | train_mse: 0.23405 | train_mae: 0.36674 |  0:00:03s\n",
      "epoch 40 | loss: 0.12519 | train_mse: 0.17704 | train_mae: 0.31176 |  0:00:03s\n"
     ]
    },
    {
     "name": "stdout",
     "output_type": "stream",
     "text": [
      "epoch 41 | loss: 0.10775 | train_mse: 0.14403 | train_mae: 0.26929 |  0:00:03s\n",
      "epoch 42 | loss: 0.12402 | train_mse: 0.13023 | train_mae: 0.25919 |  0:00:03s\n",
      "epoch 43 | loss: 0.13798 | train_mse: 0.12133 | train_mae: 0.26646 |  0:00:03s\n"
     ]
    },
    {
     "name": "stdout",
     "output_type": "stream",
     "text": [
      "epoch 44 | loss: 0.0924  | train_mse: 0.11248 | train_mae: 0.26562 |  0:00:03s\n",
      "epoch 45 | loss: 0.15425 | train_mse: 0.10161 | train_mae: 0.25256 |  0:00:03s\n",
      "epoch 46 | loss: 0.16026 | train_mse: 0.10258 | train_mae: 0.24864 |  0:00:03s\n",
      "epoch 47 | loss: 0.13359 | train_mse: 0.12831 | train_mae: 0.27053 |  0:00:04s\n"
     ]
    },
    {
     "name": "stdout",
     "output_type": "stream",
     "text": [
      "epoch 48 | loss: 0.34359 | train_mse: 0.16213 | train_mae: 0.29813 |  0:00:04s\n",
      "epoch 49 | loss: 0.27218 | train_mse: 0.16125 | train_mae: 0.29369 |  0:00:04s\n",
      "epoch 50 | loss: 0.18909 | train_mse: 0.11064 | train_mae: 0.2473  |  0:00:04s\n"
     ]
    },
    {
     "name": "stdout",
     "output_type": "stream",
     "text": [
      "epoch 51 | loss: 0.13905 | train_mse: 0.1333  | train_mae: 0.27675 |  0:00:04s\n",
      "epoch 52 | loss: 0.17723 | train_mse: 0.13864 | train_mae: 0.28761 |  0:00:04s\n",
      "epoch 53 | loss: 0.28837 | train_mse: 0.11788 | train_mae: 0.25876 |  0:00:04s\n",
      "epoch 54 | loss: 0.21001 | train_mse: 0.08859 | train_mae: 0.22611 |  0:00:04s\n"
     ]
    },
    {
     "name": "stdout",
     "output_type": "stream",
     "text": [
      "epoch 55 | loss: 0.14614 | train_mse: 0.08396 | train_mae: 0.21663 |  0:00:04s\n",
      "epoch 56 | loss: 0.10987 | train_mse: 0.08115 | train_mae: 0.21734 |  0:00:04s\n",
      "epoch 57 | loss: 0.12015 | train_mse: 0.07937 | train_mae: 0.21275 |  0:00:04s\n"
     ]
    },
    {
     "name": "stdout",
     "output_type": "stream",
     "text": [
      "epoch 58 | loss: 0.11461 | train_mse: 0.07597 | train_mae: 0.20921 |  0:00:04s\n",
      "epoch 59 | loss: 0.10843 | train_mse: 0.07305 | train_mae: 0.20739 |  0:00:04s\n",
      "epoch 60 | loss: 0.10439 | train_mse: 0.0768  | train_mae: 0.21278 |  0:00:04s\n"
     ]
    },
    {
     "name": "stdout",
     "output_type": "stream",
     "text": [
      "epoch 61 | loss: 0.12068 | train_mse: 0.06213 | train_mae: 0.19502 |  0:00:05s\n",
      "epoch 62 | loss: 0.15969 | train_mse: 0.06196 | train_mae: 0.19965 |  0:00:05s\n",
      "epoch 63 | loss: 0.12952 | train_mse: 0.05346 | train_mae: 0.18644 |  0:00:05s\n",
      "epoch 64 | loss: 0.11933 | train_mse: 0.05169 | train_mae: 0.18461 |  0:00:05s\n"
     ]
    },
    {
     "name": "stdout",
     "output_type": "stream",
     "text": [
      "epoch 65 | loss: 0.19227 | train_mse: 0.0873  | train_mae: 0.23644 |  0:00:05s\n",
      "epoch 66 | loss: 0.12246 | train_mse: 0.07271 | train_mae: 0.21691 |  0:00:05s\n",
      "epoch 67 | loss: 0.10699 | train_mse: 0.05401 | train_mae: 0.18803 |  0:00:05s\n",
      "epoch 68 | loss: 0.27259 | train_mse: 0.05928 | train_mae: 0.1957  |  0:00:05s\n"
     ]
    },
    {
     "name": "stdout",
     "output_type": "stream",
     "text": [
      "epoch 69 | loss: 0.11893 | train_mse: 0.0516  | train_mae: 0.18452 |  0:00:05s\n",
      "epoch 70 | loss: 0.25883 | train_mse: 0.08173 | train_mae: 0.22756 |  0:00:05s\n",
      "epoch 71 | loss: 0.24349 | train_mse: 0.16559 | train_mae: 0.31543 |  0:00:05s\n"
     ]
    },
    {
     "name": "stdout",
     "output_type": "stream",
     "text": [
      "epoch 72 | loss: 0.15821 | train_mse: 0.18011 | train_mae: 0.31681 |  0:00:05s\n",
      "epoch 73 | loss: 0.13368 | train_mse: 0.14099 | train_mae: 0.27799 |  0:00:05s\n",
      "epoch 74 | loss: 0.24253 | train_mse: 0.13343 | train_mae: 0.27675 |  0:00:05s\n",
      "epoch 75 | loss: 0.11106 | train_mse: 0.09578 | train_mae: 0.24012 |  0:00:05s\n"
     ]
    },
    {
     "name": "stdout",
     "output_type": "stream",
     "text": [
      "epoch 76 | loss: 0.20158 | train_mse: 0.08253 | train_mae: 0.23239 |  0:00:06s\n",
      "epoch 77 | loss: 0.23912 | train_mse: 0.08719 | train_mae: 0.23293 |  0:00:06s\n",
      "epoch 78 | loss: 0.11451 | train_mse: 0.0671  | train_mae: 0.20712 |  0:00:06s\n",
      "epoch 79 | loss: 0.14468 | train_mse: 0.06239 | train_mae: 0.20202 |  0:00:06s\n"
     ]
    },
    {
     "name": "stdout",
     "output_type": "stream",
     "text": [
      "epoch 80 | loss: 0.11555 | train_mse: 0.06177 | train_mae: 0.20412 |  0:00:06s\n",
      "epoch 81 | loss: 0.08477 | train_mse: 0.07162 | train_mae: 0.21822 |  0:00:06s\n",
      "epoch 82 | loss: 0.07534 | train_mse: 0.09066 | train_mae: 0.23145 |  0:00:06s\n"
     ]
    },
    {
     "name": "stdout",
     "output_type": "stream",
     "text": [
      "epoch 83 | loss: 0.12316 | train_mse: 0.08014 | train_mae: 0.22046 |  0:00:06s\n",
      "epoch 84 | loss: 0.07352 | train_mse: 0.05674 | train_mae: 0.19109 |  0:00:06s\n",
      "epoch 85 | loss: 0.10537 | train_mse: 0.05345 | train_mae: 0.19247 |  0:00:06s\n",
      "epoch 86 | loss: 0.11699 | train_mse: 0.0606  | train_mae: 0.20501 |  0:00:06s\n"
     ]
    },
    {
     "name": "stdout",
     "output_type": "stream",
     "text": [
      "epoch 87 | loss: 0.07123 | train_mse: 0.07866 | train_mae: 0.22781 |  0:00:06s\n",
      "epoch 88 | loss: 0.08922 | train_mse: 0.09758 | train_mae: 0.24149 |  0:00:06s\n",
      "epoch 89 | loss: 0.07805 | train_mse: 0.11371 | train_mae: 0.25325 |  0:00:06s\n",
      "epoch 90 | loss: 0.14134 | train_mse: 0.10125 | train_mae: 0.2481  |  0:00:07s\n"
     ]
    },
    {
     "name": "stdout",
     "output_type": "stream",
     "text": [
      "epoch 91 | loss: 0.07425 | train_mse: 0.10912 | train_mae: 0.25077 |  0:00:07s\n",
      "epoch 92 | loss: 0.1267  | train_mse: 0.11129 | train_mae: 0.2548  |  0:00:07s\n",
      "epoch 93 | loss: 0.07991 | train_mse: 0.07434 | train_mae: 0.20858 |  0:00:07s\n",
      "epoch 94 | loss: 0.10499 | train_mse: 0.0502  | train_mae: 0.17615 |  0:00:07s\n"
     ]
    },
    {
     "name": "stdout",
     "output_type": "stream",
     "text": [
      "epoch 95 | loss: 0.11196 | train_mse: 0.04536 | train_mae: 0.16369 |  0:00:07s\n",
      "epoch 96 | loss: 0.06922 | train_mse: 0.03985 | train_mae: 0.16187 |  0:00:07s\n",
      "epoch 97 | loss: 0.12766 | train_mse: 0.03919 | train_mae: 0.16021 |  0:00:07s\n"
     ]
    },
    {
     "name": "stdout",
     "output_type": "stream",
     "text": [
      "epoch 98 | loss: 0.1285  | train_mse: 0.04048 | train_mae: 0.15851 |  0:00:07s\n",
      "epoch 99 | loss: 0.10534 | train_mse: 0.0437  | train_mae: 0.16707 |  0:00:07s\n",
      "epoch 100| loss: 0.18436 | train_mse: 0.04361 | train_mae: 0.17196 |  0:00:07s\n",
      "epoch 101| loss: 0.09275 | train_mse: 0.04316 | train_mae: 0.15959 |  0:00:07s\n"
     ]
    },
    {
     "name": "stdout",
     "output_type": "stream",
     "text": [
      "epoch 102| loss: 0.19939 | train_mse: 0.06037 | train_mae: 0.19319 |  0:00:07s\n",
      "epoch 103| loss: 0.09079 | train_mse: 0.06345 | train_mae: 0.20225 |  0:00:07s\n",
      "epoch 104| loss: 0.05393 | train_mse: 0.06424 | train_mae: 0.20731 |  0:00:07s\n",
      "epoch 105| loss: 0.15418 | train_mse: 0.05552 | train_mae: 0.1907  |  0:00:08s\n"
     ]
    },
    {
     "name": "stdout",
     "output_type": "stream",
     "text": [
      "epoch 106| loss: 0.06216 | train_mse: 0.07155 | train_mae: 0.2128  |  0:00:08s\n",
      "epoch 107| loss: 0.06758 | train_mse: 0.1002  | train_mae: 0.24274 |  0:00:08s\n",
      "epoch 108| loss: 0.06938 | train_mse: 0.08314 | train_mae: 0.22149 |  0:00:08s\n",
      "epoch 109| loss: 0.20346 | train_mse: 0.08938 | train_mae: 0.23462 |  0:00:08s\n"
     ]
    },
    {
     "name": "stdout",
     "output_type": "stream",
     "text": [
      "epoch 110| loss: 0.07209 | train_mse: 0.0548  | train_mae: 0.1866  |  0:00:08s\n",
      "epoch 111| loss: 0.14596 | train_mse: 0.03966 | train_mae: 0.16188 |  0:00:08s\n",
      "epoch 112| loss: 0.07547 | train_mse: 0.04342 | train_mae: 0.16622 |  0:00:08s\n",
      "epoch 113| loss: 0.07476 | train_mse: 0.04827 | train_mae: 0.17492 |  0:00:08s\n"
     ]
    },
    {
     "name": "stdout",
     "output_type": "stream",
     "text": [
      "epoch 114| loss: 0.09131 | train_mse: 0.04943 | train_mae: 0.17466 |  0:00:08s\n",
      "epoch 115| loss: 0.07229 | train_mse: 0.04283 | train_mae: 0.16228 |  0:00:08s\n",
      "epoch 116| loss: 0.10447 | train_mse: 0.06192 | train_mae: 0.18678 |  0:00:08s\n"
     ]
    },
    {
     "name": "stdout",
     "output_type": "stream",
     "text": [
      "epoch 117| loss: 0.06976 | train_mse: 0.08186 | train_mae: 0.21756 |  0:00:08s\n",
      "epoch 118| loss: 0.05688 | train_mse: 0.10593 | train_mae: 0.24431 |  0:00:08s\n",
      "epoch 119| loss: 0.11117 | train_mse: 0.1003  | train_mae: 0.23505 |  0:00:08s\n",
      "epoch 120| loss: 0.16782 | train_mse: 0.08696 | train_mae: 0.22131 |  0:00:09s\n"
     ]
    },
    {
     "name": "stdout",
     "output_type": "stream",
     "text": [
      "epoch 121| loss: 0.05897 | train_mse: 0.08072 | train_mae: 0.2112  |  0:00:09s\n",
      "epoch 122| loss: 0.11464 | train_mse: 0.06275 | train_mae: 0.19748 |  0:00:09s\n",
      "epoch 123| loss: 0.14714 | train_mse: 0.06141 | train_mae: 0.19978 |  0:00:09s\n",
      "epoch 124| loss: 0.20739 | train_mse: 0.06761 | train_mae: 0.21236 |  0:00:09s\n"
     ]
    },
    {
     "name": "stdout",
     "output_type": "stream",
     "text": [
      "epoch 125| loss: 0.12755 | train_mse: 0.07046 | train_mae: 0.21794 |  0:00:09s\n",
      "epoch 126| loss: 0.13586 | train_mse: 0.05588 | train_mae: 0.18822 |  0:00:09s\n",
      "epoch 127| loss: 0.08486 | train_mse: 0.0379  | train_mae: 0.15362 |  0:00:09s\n",
      "epoch 128| loss: 0.07708 | train_mse: 0.04011 | train_mae: 0.16429 |  0:00:09s\n"
     ]
    },
    {
     "name": "stdout",
     "output_type": "stream",
     "text": [
      "epoch 129| loss: 0.08652 | train_mse: 0.04937 | train_mae: 0.18695 |  0:00:09s\n",
      "epoch 130| loss: 0.08465 | train_mse: 0.04179 | train_mae: 0.16994 |  0:00:09s\n",
      "epoch 131| loss: 0.0458  | train_mse: 0.04113 | train_mae: 0.16493 |  0:00:09s\n"
     ]
    },
    {
     "name": "stdout",
     "output_type": "stream",
     "text": [
      "epoch 132| loss: 0.07891 | train_mse: 0.04005 | train_mae: 0.16539 |  0:00:09s\n",
      "epoch 133| loss: 0.05034 | train_mse: 0.03987 | train_mae: 0.16787 |  0:00:09s\n",
      "epoch 134| loss: 0.09398 | train_mse: 0.04746 | train_mae: 0.18011 |  0:00:09s\n",
      "epoch 135| loss: 0.09912 | train_mse: 0.05323 | train_mae: 0.18284 |  0:00:10s\n"
     ]
    },
    {
     "name": "stdout",
     "output_type": "stream",
     "text": [
      "epoch 136| loss: 0.06046 | train_mse: 0.07068 | train_mae: 0.19847 |  0:00:10s\n",
      "epoch 137| loss: 0.13274 | train_mse: 0.10379 | train_mae: 0.23286 |  0:00:10s\n",
      "epoch 138| loss: 0.11545 | train_mse: 0.12054 | train_mae: 0.24398 |  0:00:10s\n",
      "epoch 139| loss: 0.12096 | train_mse: 0.10686 | train_mae: 0.23635 |  0:00:10s\n"
     ]
    },
    {
     "name": "stdout",
     "output_type": "stream",
     "text": [
      "epoch 140| loss: 0.0958  | train_mse: 0.06852 | train_mae: 0.20053 |  0:00:10s\n",
      "epoch 141| loss: 0.08993 | train_mse: 0.04929 | train_mae: 0.17401 |  0:00:10s\n",
      "epoch 142| loss: 0.07372 | train_mse: 0.07603 | train_mae: 0.21224 |  0:00:10s\n",
      "epoch 143| loss: 0.24085 | train_mse: 0.09534 | train_mae: 0.22525 |  0:00:10s\n"
     ]
    },
    {
     "name": "stdout",
     "output_type": "stream",
     "text": [
      "epoch 144| loss: 0.07313 | train_mse: 0.10754 | train_mae: 0.2367  |  0:00:10s\n",
      "epoch 145| loss: 0.18857 | train_mse: 0.10943 | train_mae: 0.23544 |  0:00:10s\n",
      "epoch 146| loss: 0.0836  | train_mse: 0.0973  | train_mae: 0.22322 |  0:00:10s\n"
     ]
    },
    {
     "name": "stdout",
     "output_type": "stream",
     "text": [
      "epoch 147| loss: 0.16814 | train_mse: 0.08288 | train_mae: 0.21063 |  0:00:10s\n",
      "epoch 148| loss: 0.04856 | train_mse: 0.06381 | train_mae: 0.18758 |  0:00:10s\n",
      "epoch 149| loss: 0.0631  | train_mse: 0.0591  | train_mae: 0.18584 |  0:00:10s\n",
      "epoch 150| loss: 0.10966 | train_mse: 0.06749 | train_mae: 0.20084 |  0:00:11s\n"
     ]
    },
    {
     "name": "stdout",
     "output_type": "stream",
     "text": [
      "epoch 151| loss: 0.0759  | train_mse: 0.05513 | train_mae: 0.18606 |  0:00:11s\n",
      "epoch 152| loss: 0.13082 | train_mse: 0.06341 | train_mae: 0.19592 |  0:00:11s\n",
      "epoch 153| loss: 0.16297 | train_mse: 0.06381 | train_mae: 0.19751 |  0:00:11s\n",
      "epoch 154| loss: 0.09227 | train_mse: 0.05529 | train_mae: 0.18154 |  0:00:11s\n"
     ]
    },
    {
     "name": "stdout",
     "output_type": "stream",
     "text": [
      "epoch 155| loss: 0.11546 | train_mse: 0.05593 | train_mae: 0.17788 |  0:00:11s\n"
     ]
    },
    {
     "name": "stdout",
     "output_type": "stream",
     "text": [
      "epoch 156| loss: 0.06938 | train_mse: 0.03988 | train_mae: 0.15976 |  0:00:11s\n",
      "epoch 157| loss: 0.08957 | train_mse: 0.03718 | train_mae: 0.15764 |  0:00:11s\n",
      "epoch 158| loss: 0.15417 | train_mse: 0.03592 | train_mae: 0.15344 |  0:00:12s\n"
     ]
    },
    {
     "name": "stdout",
     "output_type": "stream",
     "text": [
      "epoch 159| loss: 0.07819 | train_mse: 0.03443 | train_mae: 0.149   |  0:00:12s\n",
      "epoch 160| loss: 0.08456 | train_mse: 0.03804 | train_mae: 0.15063 |  0:00:12s\n",
      "epoch 161| loss: 0.1472  | train_mse: 0.03252 | train_mae: 0.14135 |  0:00:12s\n",
      "epoch 162| loss: 0.10535 | train_mse: 0.04394 | train_mae: 0.16335 |  0:00:12s\n"
     ]
    },
    {
     "name": "stdout",
     "output_type": "stream",
     "text": [
      "epoch 163| loss: 0.08973 | train_mse: 0.07225 | train_mae: 0.20296 |  0:00:12s\n",
      "epoch 164| loss: 0.11474 | train_mse: 0.06411 | train_mae: 0.19302 |  0:00:12s\n",
      "epoch 165| loss: 0.07441 | train_mse: 0.0529  | train_mae: 0.17884 |  0:00:12s\n",
      "epoch 166| loss: 0.09275 | train_mse: 0.07174 | train_mae: 0.20519 |  0:00:12s\n"
     ]
    },
    {
     "name": "stdout",
     "output_type": "stream",
     "text": [
      "epoch 167| loss: 0.11951 | train_mse: 0.05766 | train_mae: 0.1803  |  0:00:12s\n",
      "epoch 168| loss: 0.0874  | train_mse: 0.04975 | train_mae: 0.17489 |  0:00:12s\n",
      "epoch 169| loss: 0.18542 | train_mse: 0.05935 | train_mae: 0.18675 |  0:00:12s\n"
     ]
    },
    {
     "name": "stdout",
     "output_type": "stream",
     "text": [
      "epoch 170| loss: 0.10155 | train_mse: 0.07081 | train_mae: 0.1993  |  0:00:12s\n",
      "epoch 171| loss: 0.10865 | train_mse: 0.06618 | train_mae: 0.19535 |  0:00:12s\n",
      "epoch 172| loss: 0.10886 | train_mse: 0.04389 | train_mae: 0.17347 |  0:00:13s\n",
      "epoch 173| loss: 0.10957 | train_mse: 0.03818 | train_mae: 0.15878 |  0:00:13s\n"
     ]
    },
    {
     "name": "stdout",
     "output_type": "stream",
     "text": [
      "epoch 174| loss: 0.09883 | train_mse: 0.03516 | train_mae: 0.14779 |  0:00:13s\n",
      "epoch 175| loss: 0.04646 | train_mse: 0.03724 | train_mae: 0.14784 |  0:00:13s\n",
      "epoch 176| loss: 0.04853 | train_mse: 0.03929 | train_mae: 0.15969 |  0:00:13s\n",
      "epoch 177| loss: 0.05938 | train_mse: 0.03986 | train_mae: 0.16712 |  0:00:13s\n"
     ]
    },
    {
     "name": "stdout",
     "output_type": "stream",
     "text": [
      "epoch 178| loss: 0.09449 | train_mse: 0.03764 | train_mae: 0.16137 |  0:00:13s\n",
      "epoch 179| loss: 0.05967 | train_mse: 0.03702 | train_mae: 0.15717 |  0:00:13s\n",
      "epoch 180| loss: 0.125   | train_mse: 0.02978 | train_mae: 0.14127 |  0:00:13s\n",
      "epoch 181| loss: 0.30741 | train_mse: 0.03437 | train_mae: 0.15051 |  0:00:13s\n"
     ]
    },
    {
     "name": "stdout",
     "output_type": "stream",
     "text": [
      "epoch 182| loss: 0.10765 | train_mse: 0.03555 | train_mae: 0.15128 |  0:00:13s\n",
      "epoch 183| loss: 0.10458 | train_mse: 0.03069 | train_mae: 0.14347 |  0:00:13s\n",
      "epoch 184| loss: 0.06003 | train_mse: 0.0287  | train_mae: 0.13786 |  0:00:13s\n"
     ]
    },
    {
     "name": "stdout",
     "output_type": "stream",
     "text": [
      "epoch 185| loss: 0.07386 | train_mse: 0.02964 | train_mae: 0.13767 |  0:00:13s\n",
      "epoch 186| loss: 0.10118 | train_mse: 0.0269  | train_mae: 0.12894 |  0:00:14s\n",
      "epoch 187| loss: 0.11351 | train_mse: 0.03776 | train_mae: 0.1472  |  0:00:14s\n"
     ]
    },
    {
     "name": "stdout",
     "output_type": "stream",
     "text": [
      "epoch 188| loss: 0.05364 | train_mse: 0.03926 | train_mae: 0.15018 |  0:00:14s\n",
      "epoch 189| loss: 0.05294 | train_mse: 0.04071 | train_mae: 0.15793 |  0:00:14s\n",
      "epoch 190| loss: 0.05009 | train_mse: 0.04649 | train_mae: 0.17082 |  0:00:14s\n",
      "epoch 191| loss: 0.07927 | train_mse: 0.0524  | train_mae: 0.17807 |  0:00:14s\n"
     ]
    },
    {
     "name": "stdout",
     "output_type": "stream",
     "text": [
      "epoch 192| loss: 0.09957 | train_mse: 0.04873 | train_mae: 0.16608 |  0:00:14s\n",
      "epoch 193| loss: 0.16129 | train_mse: 0.03953 | train_mae: 0.15427 |  0:00:14s\n",
      "epoch 194| loss: 0.10794 | train_mse: 0.03905 | train_mae: 0.15601 |  0:00:14s\n",
      "epoch 195| loss: 0.10277 | train_mse: 0.03881 | train_mae: 0.15548 |  0:00:14s\n"
     ]
    },
    {
     "name": "stdout",
     "output_type": "stream",
     "text": [
      "epoch 196| loss: 0.13081 | train_mse: 0.04836 | train_mae: 0.16709 |  0:00:14s\n",
      "epoch 197| loss: 0.12836 | train_mse: 0.04124 | train_mae: 0.15874 |  0:00:14s\n",
      "epoch 198| loss: 0.16818 | train_mse: 0.04034 | train_mae: 0.15837 |  0:00:14s\n"
     ]
    },
    {
     "name": "stdout",
     "output_type": "stream",
     "text": [
      "epoch 199| loss: 0.05814 | train_mse: 0.04727 | train_mae: 0.17501 |  0:00:14s\n",
      "epoch 200| loss: 0.05462 | train_mse: 0.05922 | train_mae: 0.1939  |  0:00:14s\n",
      "epoch 201| loss: 0.07212 | train_mse: 0.07032 | train_mae: 0.21027 |  0:00:15s\n",
      "epoch 202| loss: 0.08649 | train_mse: 0.05223 | train_mae: 0.1837  |  0:00:15s\n"
     ]
    },
    {
     "name": "stdout",
     "output_type": "stream",
     "text": [
      "epoch 203| loss: 0.07385 | train_mse: 0.04382 | train_mae: 0.17029 |  0:00:15s\n",
      "epoch 204| loss: 0.08935 | train_mse: 0.04089 | train_mae: 0.16644 |  0:00:15s\n",
      "epoch 205| loss: 0.22999 | train_mse: 0.03696 | train_mae: 0.1577  |  0:00:15s\n",
      "epoch 206| loss: 0.08499 | train_mse: 0.03588 | train_mae: 0.15286 |  0:00:15s\n"
     ]
    },
    {
     "name": "stdout",
     "output_type": "stream",
     "text": [
      "epoch 207| loss: 0.07675 | train_mse: 0.033   | train_mae: 0.14573 |  0:00:15s\n",
      "epoch 208| loss: 0.13477 | train_mse: 0.03337 | train_mae: 0.14644 |  0:00:15s\n",
      "epoch 209| loss: 0.06277 | train_mse: 0.03671 | train_mae: 0.15543 |  0:00:15s\n",
      "epoch 210| loss: 0.08849 | train_mse: 0.04328 | train_mae: 0.16759 |  0:00:15s\n"
     ]
    },
    {
     "name": "stdout",
     "output_type": "stream",
     "text": [
      "epoch 211| loss: 0.08415 | train_mse: 0.04152 | train_mae: 0.15989 |  0:00:15s\n",
      "epoch 212| loss: 0.06788 | train_mse: 0.05552 | train_mae: 0.18782 |  0:00:15s\n",
      "epoch 213| loss: 0.1069  | train_mse: 0.05359 | train_mae: 0.18091 |  0:00:15s\n"
     ]
    },
    {
     "name": "stdout",
     "output_type": "stream",
     "text": [
      "epoch 214| loss: 0.13716 | train_mse: 0.0733  | train_mae: 0.20002 |  0:00:15s\n",
      "epoch 215| loss: 0.03465 | train_mse: 0.08598 | train_mae: 0.21313 |  0:00:15s\n",
      "epoch 216| loss: 0.07509 | train_mse: 0.09397 | train_mae: 0.22055 |  0:00:16s\n",
      "epoch 217| loss: 0.04557 | train_mse: 0.07906 | train_mae: 0.20673 |  0:00:16s\n"
     ]
    },
    {
     "name": "stdout",
     "output_type": "stream",
     "text": [
      "epoch 218| loss: 0.06662 | train_mse: 0.07152 | train_mae: 0.1907  |  0:00:16s\n",
      "epoch 219| loss: 0.10343 | train_mse: 0.05534 | train_mae: 0.17633 |  0:00:16s\n",
      "epoch 220| loss: 0.13983 | train_mse: 0.05513 | train_mae: 0.17469 |  0:00:16s\n",
      "epoch 221| loss: 0.13198 | train_mse: 0.06376 | train_mae: 0.19196 |  0:00:16s\n"
     ]
    },
    {
     "name": "stdout",
     "output_type": "stream",
     "text": [
      "epoch 222| loss: 0.11521 | train_mse: 0.09763 | train_mae: 0.23156 |  0:00:16s\n",
      "epoch 223| loss: 0.11025 | train_mse: 0.09319 | train_mae: 0.21961 |  0:00:16s\n",
      "epoch 224| loss: 0.09294 | train_mse: 0.06311 | train_mae: 0.18914 |  0:00:16s\n",
      "epoch 225| loss: 0.09754 | train_mse: 0.04605 | train_mae: 0.16824 |  0:00:16s\n"
     ]
    },
    {
     "name": "stdout",
     "output_type": "stream",
     "text": [
      "epoch 226| loss: 0.06143 | train_mse: 0.03429 | train_mae: 0.14598 |  0:00:16s\n",
      "epoch 227| loss: 0.05296 | train_mse: 0.03017 | train_mae: 0.13749 |  0:00:16s\n",
      "epoch 228| loss: 0.0804  | train_mse: 0.03933 | train_mae: 0.15883 |  0:00:16s\n"
     ]
    },
    {
     "name": "stdout",
     "output_type": "stream",
     "text": [
      "epoch 229| loss: 0.07365 | train_mse: 0.04326 | train_mae: 0.16407 |  0:00:16s\n",
      "epoch 230| loss: 0.07606 | train_mse: 0.03895 | train_mae: 0.16233 |  0:00:17s\n",
      "epoch 231| loss: 0.11875 | train_mse: 0.03962 | train_mae: 0.15848 |  0:00:17s\n",
      "epoch 232| loss: 0.09183 | train_mse: 0.04167 | train_mae: 0.16233 |  0:00:17s\n"
     ]
    },
    {
     "name": "stdout",
     "output_type": "stream",
     "text": [
      "epoch 233| loss: 0.20592 | train_mse: 0.03961 | train_mae: 0.15981 |  0:00:17s\n",
      "epoch 234| loss: 0.14189 | train_mse: 0.04519 | train_mae: 0.17836 |  0:00:17s\n",
      "epoch 235| loss: 0.05516 | train_mse: 0.04449 | train_mae: 0.17482 |  0:00:17s\n",
      "epoch 236| loss: 0.07856 | train_mse: 0.03369 | train_mae: 0.14569 |  0:00:17s\n",
      "\n",
      "Early stopping occurred at epoch 236 with best_epoch = 186 and best_train_mae = 0.12894"
     ]
    },
    {
     "name": "stdout",
     "output_type": "stream",
     "text": [
      "\n",
      "Best weights from best epoch are automatically used!\n"
     ]
    }
   ],
   "source": [
    "#Train the Model\n",
    "\n",
    "Y_train = np.reshape(Y_train, (-1, 1))\n",
    "Y_test = np.reshape(Y_test, (-1, 1))\n",
    "\n",
    "prior_model = TabNetRegressor(optimizer_fn=torch.optim.Adam, optimizer_params=dict(lr = 0.02),\n",
    "          #scheduler_params={\"step_size\":10, ], \"gamma\":0.9},\n",
    "          #scheduler_fn=torch.optim.lr_scheduler.StepLR\n",
    "          )  #TabNetRegressor()\n",
    "\n",
    "prior_model.fit(X_train,Y_train,eval_set=[(X_train, Y_train)],\n",
    "            eval_name=['train'], \n",
    "            eval_metric=[ 'mse', 'mae'], \n",
    "            max_epochs = n_epochs, \n",
    "            batch_size = batch_size,\n",
    "            patience=50\n",
    "            )"
   ]
  },
  {
   "cell_type": "code",
   "execution_count": 10,
   "id": "af65dcda",
   "metadata": {
    "execution": {
     "iopub.execute_input": "2022-06-22T12:26:45.270362Z",
     "iopub.status.busy": "2022-06-22T12:26:45.269431Z",
     "iopub.status.idle": "2022-06-22T12:26:45.290386Z",
     "shell.execute_reply": "2022-06-22T12:26:45.290955Z"
    },
    "id": "af65dcda",
    "papermill": {
     "duration": 0.076184,
     "end_time": "2022-06-22T12:26:45.291160",
     "exception": false,
     "start_time": "2022-06-22T12:26:45.214976",
     "status": "completed"
    },
    "tags": []
   },
   "outputs": [
    {
     "data": {
      "application/scrapbook.scrap.json+json": {
       "data": 0.15935718126467271,
       "encoder": "json",
       "name": "Prior Model MSE",
       "version": 1
      }
     },
     "metadata": {
      "scrapbook": {
       "data": true,
       "display": false,
       "name": "Prior Model MSE"
      }
     },
     "output_type": "display_data"
    },
    {
     "data": {
      "application/scrapbook.scrap.json+json": {
       "data": 1.1502430384068172,
       "encoder": "json",
       "name": "ABC Pre-generator MSE",
       "version": 1
      }
     },
     "metadata": {
      "scrapbook": {
       "data": true,
       "display": false,
       "name": "ABC Pre-generator MSE"
      }
     },
     "output_type": "display_data"
    },
    {
     "data": {
      "application/scrapbook.scrap.json+json": {
       "data": 0.32477992101646475,
       "encoder": "json",
       "name": "Prior Model MSE",
       "version": 1
      }
     },
     "metadata": {
      "scrapbook": {
       "data": true,
       "display": false,
       "name": "Prior Model MSE"
      }
     },
     "output_type": "display_data"
    },
    {
     "data": {
      "application/scrapbook.scrap.json+json": {
       "data": 0.9820359847442482,
       "encoder": "json",
       "name": "ABC Pre-generator MSE",
       "version": 1
      }
     },
     "metadata": {
      "scrapbook": {
       "data": true,
       "display": false,
       "name": "ABC Pre-generator MSE"
      }
     },
     "output_type": "display_data"
    }
   ],
   "source": [
    "y_pred = prior_model.predict(X_test)\n",
    "y_abc = y_pred + np.random.normal(0,variance, y_pred.shape) + bias \n",
    "mse = mean_squared_error(y_pred,Y_test)\n",
    "sb.glue(\"Prior Model MSE\",mse)\n",
    "mse = mean_squared_error(y_abc,Y_test)\n",
    "sb.glue(\"ABC Pre-generator MSE\",mse)\n",
    "mae = mean_absolute_error(y_pred,Y_test)\n",
    "sb.glue(\"Prior Model MSE\",mae)\n",
    "mae = mean_absolute_error(y_abc,Y_test)\n",
    "sb.glue(\"ABC Pre-generator MSE\",mae)"
   ]
  },
  {
   "cell_type": "markdown",
   "id": "25609da2",
   "metadata": {
    "papermill": {
     "duration": 0.040044,
     "end_time": "2022-06-22T12:26:45.363004",
     "exception": false,
     "start_time": "2022-06-22T12:26:45.322960",
     "status": "completed"
    },
    "tags": []
   },
   "source": [
    "# ABC GAN Model"
   ]
  },
  {
   "cell_type": "code",
   "execution_count": 11,
   "id": "dfc3464d",
   "metadata": {
    "execution": {
     "iopub.execute_input": "2022-06-22T12:26:45.438755Z",
     "iopub.status.busy": "2022-06-22T12:26:45.438079Z",
     "iopub.status.idle": "2022-06-22T12:26:45.442432Z",
     "shell.execute_reply": "2022-06-22T12:26:45.442897Z"
    },
    "papermill": {
     "duration": 0.045395,
     "end_time": "2022-06-22T12:26:45.443182",
     "exception": false,
     "start_time": "2022-06-22T12:26:45.397787",
     "status": "completed"
    },
    "tags": []
   },
   "outputs": [],
   "source": [
    "gen = network.Generator(n_features+1).to(device)\n",
    "disc = network.Discriminator(n_features+1).to(device)\n",
    "\n",
    "criterion = torch.nn.BCELoss()\n",
    "gen_opt = torch.optim.Adam(gen.parameters(), lr=0.001, betas=(0.5, 0.999))\n",
    "disc_opt = torch.optim.Adam(disc.parameters(), lr=0.001, betas=(0.5, 0.999))"
   ]
  },
  {
   "cell_type": "code",
   "execution_count": 12,
   "id": "b75fdd85",
   "metadata": {
    "execution": {
     "iopub.execute_input": "2022-06-22T12:26:45.528464Z",
     "iopub.status.busy": "2022-06-22T12:26:45.525566Z",
     "iopub.status.idle": "2022-06-22T12:27:27.630243Z",
     "shell.execute_reply": "2022-06-22T12:27:27.630702Z"
    },
    "papermill": {
     "duration": 42.156452,
     "end_time": "2022-06-22T12:27:27.630985",
     "exception": false,
     "start_time": "2022-06-22T12:26:45.474533",
     "status": "completed"
    },
    "tags": []
   },
   "outputs": [
    {
     "data": {
      "image/png": "[encoded data removed]",
      "text/plain": [
       "<Figure size 432x288 with 1 Axes>"
      ]
     },
     "metadata": {
      "needs_background": "light"
     },
     "output_type": "display_data"
    },
    {
     "data": {
      "image/png": "[encoded data removed]",
      "text/plain": [
       "<Figure size 432x288 with 1 Axes>"
      ]
     },
     "metadata": {
      "needs_background": "light"
     },
     "output_type": "display_data"
    }
   ],
   "source": [
    "#Training the ABC_GAN \n",
    "ABC_train_test2.training_GAN(disc,gen,disc_opt,gen_opt,train_data,batch_size,n_epochs,criterion,prior_model,variance,bias,device)"
   ]
  },
  {
   "cell_type": "code",
   "execution_count": 13,
   "id": "1fa7c368",
   "metadata": {
    "execution": {
     "iopub.execute_input": "2022-06-22T12:27:27.734667Z",
     "iopub.status.busy": "2022-06-22T12:27:27.732183Z",
     "iopub.status.idle": "2022-06-22T12:27:28.344825Z",
     "shell.execute_reply": "2022-06-22T12:27:28.345272Z"
    },
    "papermill": {
     "duration": 0.677977,
     "end_time": "2022-06-22T12:27:28.345469",
     "exception": false,
     "start_time": "2022-06-22T12:27:27.667492",
     "status": "completed"
    },
    "tags": []
   },
   "outputs": [
    {
     "data": {
      "application/scrapbook.scrap.json+json": {
       "data": 0.13009829153663877,
       "encoder": "json",
       "name": "ABC-GAN Model 1 MSE",
       "version": 1
      }
     },
     "metadata": {
      "scrapbook": {
       "data": true,
       "display": false,
       "name": "ABC-GAN Model 1 MSE"
      }
     },
     "output_type": "display_data"
    },
    {
     "data": {
      "application/scrapbook.scrap.json+json": {
       "data": 0.3016629428770393,
       "encoder": "json",
       "name": "ABC-GAN Model 1 MAE",
       "version": 1
      }
     },
     "metadata": {
      "scrapbook": {
       "data": true,
       "display": false,
       "name": "ABC-GAN Model 1 MAE"
      }
     },
     "output_type": "display_data"
    },
    {
     "data": {
      "application/scrapbook.scrap.json+json": {
       "data": 6.033258857540786,
       "encoder": "json",
       "name": "ABC-GAN Model 1 Manhattan Distance",
       "version": 1
      }
     },
     "metadata": {
      "scrapbook": {
       "data": true,
       "display": false,
       "name": "ABC-GAN Model 1 Manhattan Distance"
      }
     },
     "output_type": "display_data"
    },
    {
     "data": {
      "application/scrapbook.scrap.json+json": {
       "data": 1.6128802639184545,
       "encoder": "json",
       "name": "ABC-GAN Model 1 Euclidean distance",
       "version": 1
      }
     },
     "metadata": {
      "scrapbook": {
       "data": true,
       "display": false,
       "name": "ABC-GAN Model 1 Euclidean distance"
      }
     },
     "output_type": "display_data"
    },
    {
     "data": {
      "application/scrapbook.scrap.json+json": {
       "data": [
        [
         0.13164615972220867,
         0.1328731551677142,
         0.13167482350009235,
         0.12894785375679998,
         0.12925526254054565,
         0.1334656710635588,
         0.12671896424072865,
         0.12797038570480454,
         0.12643326117254786,
         0.13436149405021233,
         0.12676493660379048,
         0.12920308739495331,
         0.12948587000988138,
         0.13641790576987683,
         0.1307422484376742,
         0.12631185917016863,
         0.12760614864199346,
         0.12986126549441362,
         0.12959443453338557,
         0.13571508174168018,
         0.13219716001256562,
         0.11885847046887606,
         0.13171091236566784,
         0.12147502353497308,
         0.12872607685227772,
         0.12772033354022677,
         0.13211002085422713,
         0.12343219217760597,
         0.12381856037767044,
         0.12381536865691209,
         0.13563466813188238,
         0.131303850552138,
         0.1326573719312561,
         0.13303134406773398,
         0.12737254781253857,
         0.13056590857775108,
         0.13019379220204277,
         0.13067693648175377,
         0.132476083047092,
         0.12719173583779209,
         0.1334544711608303,
         0.13314471574412495,
         0.12181337967103942,
         0.13775554922060626,
         0.1346201455085144,
         0.12997627741951864,
         0.13075346544614325,
         0.1299124895227164,
         0.1258937685443643,
         0.13279841731697212,
         0.13249605513673757,
         0.12648864319112224,
         0.13287753718984235,
         0.13410545912438382,
         0.1388048011711997,
         0.12973941785705195,
         0.1406776065422774,
         0.12444213817694619,
         0.1286069579345152,
         0.13502837057874745,
         0.1301037732808862,
         0.1328847818389419,
         0.13195672739107017,
         0.129174162662484,
         0.13260345000847557,
         0.1274645334300388,
         0.12689126978843795,
         0.126974760945965,
         0.12783242575537823,
         0.13319270791154988,
         0.12895307245994111,
         0.13375613766290897,
         0.13589155833244146,
         0.13682630317992323,
         0.12671039192597994,
         0.1268159073855045,
         0.1265938351323826,
         0.1292265874444761,
         0.1300954438222472,
         0.12537529144847775,
         0.1263490211631532,
         0.12410232835767157,
         0.1306631630363936,
         0.13236807991992414,
         0.12588620756992977,
         0.1302759759359649,
         0.12892929863863736,
         0.13252520032130793,
         0.13183683232688154,
         0.13073057614322686,
         0.12965409229756059,
         0.1259596259522862,
         0.12954078823302465,
         0.13979347490193347,
         0.12562970477113314,
         0.13084268690556394,
         0.13378603401108183,
         0.13041143819689713,
         0.12878893310072156,
         0.12902467741540521
        ],
        [
         0.305065630748868,
         0.3033815437927842,
         0.2985720247030258,
         0.29584063664078714,
         0.30037498474121094,
         0.3044795833528042,
         0.30741347149014475,
         0.2925138544291258,
         0.29250768311321734,
         0.308640680834651,
         0.2959098510444164,
         0.302060666680336,
         0.30160762891173365,
         0.31967853643000127,
         0.3100274562835693,
         0.2928567957133055,
         0.2945688720792532,
         0.29955121241509913,
         0.2984026584774256,
         0.3136540845036507,
         0.29585723727941515,
         0.2881325736641884,
         0.3087999988347292,
         0.2909731112420559,
         0.2931365370750427,
         0.29571153558790686,
         0.3048191025853157,
         0.2906730428338051,
         0.2946456104516983,
         0.29102743715047835,
         0.3166679568588734,
         0.31022221930325034,
         0.30463356524705887,
         0.30957253761589526,
         0.2933357827365398,
         0.3027309365570545,
         0.3027148272842169,
         0.31011526435613634,
         0.30258718207478524,
         0.2883655592799187,
         0.30382738187909125,
         0.30362978503108023,
         0.2911994233727455,
         0.313872766494751,
         0.31560695394873617,
         0.30252676010131835,
         0.2998570118099451,
         0.2973028652369976,
         0.2952698260545731,
         0.310865742713213,
         0.30327067598700524,
         0.2927000280469656,
         0.30944900661706926,
         0.30985954254865644,
         0.3189350813627243,
         0.3051539722830057,
         0.32167565524578096,
         0.28633194491267205,
         0.30249220654368403,
         0.30849636197090147,
         0.30066243261098863,
         0.31415637396275997,
         0.3035237167030573,
         0.2927890677005053,
         0.30418236516416075,
         0.2915612369775772,
         0.29168545827269554,
         0.29774375483393667,
         0.3045203097164631,
         0.30797335393726827,
         0.29218548387289045,
         0.30558932200074196,
         0.30477143079042435,
         0.3042231872677803,
         0.29478330351412296,
         0.29991712272167204,
         0.29756166636943815,
         0.30471866875886916,
         0.3015738293528557,
         0.29165030755102633,
         0.29740833267569544,
         0.28529163226485255,
         0.29992715269327164,
         0.305778219178319,
         0.2952171351760626,
         0.306875629350543,
         0.3021023035049438,
         0.30741935446858404,
         0.3090066272765398,
         0.3046504508703947,
         0.2979759708046913,
         0.2871314901858568,
         0.3066903561353683,
         0.31651192866265776,
         0.2944847770035267,
         0.30210957638919356,
         0.3057874649763107,
         0.3068479008972645,
         0.3012676388025284,
         0.3038850877434015
        ],
        [
         6.10131261497736,
         6.067630875855684,
         5.971440494060516,
         5.9168127328157425,
         6.007499694824219,
         6.089591667056084,
         6.148269429802895,
         5.850277088582516,
         5.850153662264347,
         6.17281361669302,
         5.9181970208883286,
         6.04121333360672,
         6.0321525782346725,
         6.393570728600025,
         6.200549125671387,
         5.8571359142661095,
         5.891377441585064,
         5.991024248301983,
         5.9680531695485115,
         6.273081690073013,
         5.917144745588303,
         5.762651473283768,
         6.175999976694584,
         5.819462224841118,
         5.8627307415008545,
         5.914230711758137,
         6.096382051706314,
         5.813460856676102,
         5.892912209033966,
         5.820548743009567,
         6.333359137177467,
         6.204444386065006,
         6.092671304941177,
         6.191450752317905,
         5.866715654730797,
         6.05461873114109,
         6.054296545684338,
         6.202305287122726,
         6.051743641495705,
         5.767311185598373,
         6.076547637581825,
         6.072595700621605,
         5.82398846745491,
         6.2774553298950195,
         6.312139078974724,
         6.050535202026367,
         5.997140236198902,
         5.946057304739952,
         5.905396521091461,
         6.217314854264259,
         6.065413519740105,
         5.854000560939312,
         6.188980132341385,
         6.197190850973129,
         6.378701627254486,
         6.103079445660114,
         6.433513104915619,
         5.726638898253441,
         6.04984413087368,
         6.16992723941803,
         6.013248652219772,
         6.283127479255199,
         6.070474334061146,
         5.855781354010105,
         6.083647303283215,
         5.831224739551544,
         5.833709165453911,
         5.954875096678734,
         6.090406194329262,
         6.159467078745365,
         5.8437096774578094,
         6.111786440014839,
         6.095428615808487,
         6.084463745355606,
         5.895666070282459,
         5.998342454433441,
         5.951233327388763,
         6.094373375177383,
         6.031476587057114,
         5.833006151020527,
         5.948166653513908,
         5.7058326452970505,
         5.998543053865433,
         6.1155643835663795,
         5.904342703521252,
         6.13751258701086,
         6.042046070098877,
         6.148387089371681,
         6.180132545530796,
         6.093009017407894,
         5.959519416093826,
         5.742629803717136,
         6.133807122707367,
         6.330238573253155,
         5.889695540070534,
         6.042191527783871,
         6.115749299526215,
         6.13695801794529,
         6.025352776050568,
         6.0777017548680305
        ],
        [
         1.6226284831852833,
         1.6301727219390847,
         1.6228051238524752,
         1.605913159276055,
         1.6078262501933824,
         1.633803360649982,
         1.5919733932495772,
         1.5998148999481443,
         1.5901777332898852,
         1.6392772434839222,
         1.592262143014086,
         1.6075017100765605,
         1.6092598920614491,
         1.6517742325746387,
         1.6170482270957425,
         1.5894141006683478,
         1.5975365325525015,
         1.6115909251073215,
         1.6099343746462809,
         1.647513773791771,
         1.6260206641526154,
         1.541807189429833,
         1.6230274943183671,
         1.5586854944790696,
         1.6045315631191412,
         1.5982511288294263,
         1.6254846714394273,
         1.5711918544697587,
         1.5736490102794234,
         1.5736287278574455,
         1.6470256108019838,
         1.6205175133403402,
         1.628848500820479,
         1.6311428145182996,
         1.5960736061506595,
         1.6159573544976429,
         1.6136529503089738,
         1.6166442804881582,
         1.6277351323055724,
         1.5949403489647636,
         1.6337348081058338,
         1.631837710951214,
         1.5608547637178767,
         1.6598526996128677,
         1.6408543232628203,
         1.6123044217486886,
         1.617117592793692,
         1.6119087413542763,
         1.5867814502593878,
         1.6297141916113516,
         1.6278578263272105,
         1.590525970810425,
         1.6301996024404026,
         1.6377146218092078,
         1.666162063973368,
         1.610834677159962,
         1.677364638605914,
         1.577606656787085,
         1.603789000676306,
         1.6433403212892175,
         1.6130949958442387,
         1.6302440420927284,
         1.6245413345992166,
         1.6073217640689372,
         1.6285174239686573,
         1.5966498265433082,
         1.593055364941457,
         1.5935793732724142,
         1.5989523179593457,
         1.6321317833529858,
         1.6059456557426912,
         1.6355802497151213,
         1.6485845949325224,
         1.6542448620438466,
         1.591919545240776,
         1.5925822263575875,
         1.5911871991213518,
         1.6076478933179126,
         1.6130433585136341,
         1.583510602733545,
         1.5896478928564852,
         1.5754512265231924,
         1.6165590804940821,
         1.6270714791915206,
         1.5867337997908142,
         1.6141621723728066,
         1.6057976126438684,
         1.6280368565932892,
         1.623803142790908,
         1.6169760427614681,
         1.610304892233521,
         1.5871964336671514,
         1.6096011197375866,
         1.6720853740280932,
         1.5851164296109805,
         1.6176692301305846,
         1.6357630269148513,
         1.6150011653054441,
         1.6049232573598127,
         1.606391467951727
        ]
       ],
       "encoder": "json",
       "name": "ABC_GAN_1 Metrics",
       "version": 1
      }
     },
     "metadata": {
      "scrapbook": {
       "data": true,
       "display": false,
       "name": "ABC_GAN_1 Metrics"
      }
     },
     "output_type": "display_data"
    },
    {
     "name": "stdout",
     "output_type": "stream",
     "text": [
      "MSE\n",
      "0.13009829153663877\n"
     ]
    }
   ],
   "source": [
    "ABC_GAN1_metrics=ABC_train_test2.test_generator(gen,test_data,prior_model,variance,bias,\"1\",device)\n",
    "sb.glue(\"ABC_GAN_1 Metrics\",ABC_GAN1_metrics)\n",
    "\n",
    "print(\"MSE\")\n",
    "print(mean(ABC_GAN1_metrics[0]))"
   ]
  },
  {
   "cell_type": "code",
   "execution_count": 14,
   "id": "eb22ce5c",
   "metadata": {
    "execution": {
     "iopub.execute_input": "2022-06-22T12:27:28.432505Z",
     "iopub.status.busy": "2022-06-22T12:27:28.431767Z",
     "iopub.status.idle": "2022-06-22T12:27:29.179179Z",
     "shell.execute_reply": "2022-06-22T12:27:29.179610Z"
    },
    "papermill": {
     "duration": 0.796541,
     "end_time": "2022-06-22T12:27:29.179875",
     "exception": false,
     "start_time": "2022-06-22T12:27:28.383334",
     "status": "completed"
    },
    "tags": []
   },
   "outputs": [
    {
     "data": {
      "image/png": "[encoded data removed]",
      "text/plain": [
       "<Figure size 432x288 with 1 Axes>"
      ]
     },
     "metadata": {
      "needs_background": "light"
     },
     "output_type": "display_data"
    },
    {
     "data": {
      "image/png": "[encoded data removed]",
      "text/plain": [
       "<Figure size 432x288 with 1 Axes>"
      ]
     },
     "metadata": {
      "needs_background": "light"
     },
     "output_type": "display_data"
    },
    {
     "data": {
      "image/png": "[encoded data removed]",
      "text/plain": [
       "<Figure size 432x288 with 1 Axes>"
      ]
     },
     "metadata": {
      "needs_background": "light"
     },
     "output_type": "display_data"
    },
    {
     "data": {
      "image/png": "[encoded data removed]",
      "text/plain": [
       "<Figure size 432x288 with 1 Axes>"
      ]
     },
     "metadata": {
      "needs_background": "light"
     },
     "output_type": "display_data"
    }
   ],
   "source": [
    "sanityChecks.discProbVsError(train_data,disc,device)\n",
    "sanityChecks.discProbVsError(test_data,disc,device)"
   ]
  },
  {
   "cell_type": "markdown",
   "id": "130f3a4d",
   "metadata": {
    "id": "130f3a4d",
    "papermill": {
     "duration": 0.040908,
     "end_time": "2022-06-22T12:27:29.262200",
     "exception": false,
     "start_time": "2022-06-22T12:27:29.221292",
     "status": "completed"
    },
    "tags": []
   },
   "source": [
    "# ABC - GAN Model with skip connection"
   ]
  },
  {
   "cell_type": "code",
   "execution_count": 15,
   "id": "4e43dad1",
   "metadata": {
    "execution": {
     "iopub.execute_input": "2022-06-22T12:27:29.358116Z",
     "iopub.status.busy": "2022-06-22T12:27:29.356880Z",
     "iopub.status.idle": "2022-06-22T12:27:29.360827Z",
     "shell.execute_reply": "2022-06-22T12:27:29.361709Z"
    },
    "id": "4e43dad1",
    "papermill": {
     "duration": 0.060883,
     "end_time": "2022-06-22T12:27:29.361936",
     "exception": false,
     "start_time": "2022-06-22T12:27:29.301053",
     "status": "completed"
    },
    "tags": []
   },
   "outputs": [],
   "source": [
    "#Generator\n",
    "gen3 = network.GeneratorWithSkipConnection(n_features+1).to(device)\n",
    "constraints=network.weightConstraint()\n",
    "#Discriminator \n",
    "disc3 = network.Discriminator(n_features+1).to(device)\n",
    "\n",
    "criterion = torch.nn.BCELoss()\n",
    "gen_opt = torch.optim.Adam(gen3.parameters(), lr=0.001, betas=(0.5, 0.999))\n",
    "disc_opt = torch.optim.Adam(disc3.parameters(), lr=0.001, betas=(0.5, 0.999))\n"
   ]
  },
  {
   "cell_type": "code",
   "execution_count": 16,
   "id": "26acbc37",
   "metadata": {
    "execution": {
     "iopub.execute_input": "2022-06-22T12:27:29.463503Z",
     "iopub.status.busy": "2022-06-22T12:27:29.462737Z",
     "iopub.status.idle": "2022-06-22T12:28:36.408821Z",
     "shell.execute_reply": "2022-06-22T12:28:36.409217Z"
    },
    "id": "26acbc37",
    "papermill": {
     "duration": 67.002104,
     "end_time": "2022-06-22T12:28:36.409526",
     "exception": false,
     "start_time": "2022-06-22T12:27:29.407422",
     "status": "completed"
    },
    "tags": []
   },
   "outputs": [
    {
     "data": {
      "image/png": "[encoded data removed]",
      "text/plain": [
       "<Figure size 432x288 with 1 Axes>"
      ]
     },
     "metadata": {
      "needs_background": "light"
     },
     "output_type": "display_data"
    },
    {
     "data": {
      "image/png": "[encoded data removed]",
      "text/plain": [
       "<Figure size 432x288 with 1 Axes>"
      ]
     },
     "metadata": {
      "needs_background": "light"
     },
     "output_type": "display_data"
    }
   ],
   "source": [
    "ABC_train_test2.training_GAN_skip_connection(disc3,gen3,disc_opt,gen_opt,train_data,batch_size,n_epochs,criterion,prior_model,variance,bias,device)"
   ]
  },
  {
   "cell_type": "code",
   "execution_count": 17,
   "id": "c5e0717b",
   "metadata": {
    "execution": {
     "iopub.execute_input": "2022-06-22T12:28:36.539852Z",
     "iopub.status.busy": "2022-06-22T12:28:36.538910Z",
     "iopub.status.idle": "2022-06-22T12:28:37.309958Z",
     "shell.execute_reply": "2022-06-22T12:28:37.310504Z"
    },
    "id": "c5e0717b",
    "papermill": {
     "duration": 0.856251,
     "end_time": "2022-06-22T12:28:37.310721",
     "exception": false,
     "start_time": "2022-06-22T12:28:36.454470",
     "status": "completed"
    },
    "tags": []
   },
   "outputs": [
    {
     "data": {
      "application/scrapbook.scrap.json+json": {
       "data": 0.18815723538637924,
       "encoder": "json",
       "name": "ABC-GAN Model 3 MSE",
       "version": 1
      }
     },
     "metadata": {
      "scrapbook": {
       "data": true,
       "display": false,
       "name": "ABC-GAN Model 3 MSE"
      }
     },
     "output_type": "display_data"
    },
    {
     "data": {
      "application/scrapbook.scrap.json+json": {
       "data": 0.31599619828164577,
       "encoder": "json",
       "name": "ABC-GAN Model 3 MAE",
       "version": 1
      }
     },
     "metadata": {
      "scrapbook": {
       "data": true,
       "display": false,
       "name": "ABC-GAN Model 3 MAE"
      }
     },
     "output_type": "display_data"
    },
    {
     "data": {
      "application/scrapbook.scrap.json+json": {
       "data": 6.319923965632915,
       "encoder": "json",
       "name": "ABC-GAN Model 3 Manhattan Distance",
       "version": 1
      }
     },
     "metadata": {
      "scrapbook": {
       "data": true,
       "display": false,
       "name": "ABC-GAN Model 3 Manhattan Distance"
      }
     },
     "output_type": "display_data"
    },
    {
     "data": {
      "application/scrapbook.scrap.json+json": {
       "data": 1.939150965527089,
       "encoder": "json",
       "name": "ABC-GAN Model 3 Euclidean distance",
       "version": 1
      }
     },
     "metadata": {
      "scrapbook": {
       "data": true,
       "display": false,
       "name": "ABC-GAN Model 3 Euclidean distance"
      }
     },
     "output_type": "display_data"
    },
    {
     "data": {
      "application/scrapbook.scrap.json+json": {
       "data": [
        [
         0.19868251977603063,
         0.19420796025789375,
         0.19361140760774626,
         0.1735416498709618,
         0.1978890329310258,
         0.19607416223519897,
         0.17808445991793703,
         0.18941447045204826,
         0.18462304772395494,
         0.19272273925056616,
         0.177461523295312,
         0.17394723555676403,
         0.190358346658267,
         0.20949935030687922,
         0.19167788773213518,
         0.18215427136627832,
         0.19903521886997583,
         0.19061419278252675,
         0.18452559120254283,
         0.19742669331889845,
         0.19102857680262297,
         0.1938172674096305,
         0.17392082046958085,
         0.18124969490748527,
         0.19019559489574478,
         0.18222004539411768,
         0.1710214803182657,
         0.17414869257507348,
         0.17892383362095718,
         0.19330999287541034,
         0.18075745563102466,
         0.19692522772131532,
         0.19104549639430407,
         0.19019622148644885,
         0.20339247922220874,
         0.16244739884330714,
         0.1936872420983426,
         0.19142565703451622,
         0.18741642099179873,
         0.1591979851135558,
         0.18906644331965677,
         0.19981040455290655,
         0.18304020617505837,
         0.18512879149587608,
         0.19921506778631404,
         0.20104842952043275,
         0.1958272595324629,
         0.18230193020809987,
         0.19578520454130866,
         0.19000153416375393,
         0.1926012350188384,
         0.1948254008262824,
         0.20365113726054268,
         0.17078882320942185,
         0.1752143640218903,
         0.17892619208982072,
         0.18440407619027682,
         0.19664939801075104,
         0.17271811732703252,
         0.17513746161797528,
         0.18518967373291267,
         0.19270301386091032,
         0.17988761273860537,
         0.1777468549258474,
         0.18645212375589654,
         0.20891520666282548,
         0.1941235549438646,
         0.18257190530961384,
         0.18939054207339484,
         0.18528974086088934,
         0.18954174487039205,
         0.18340984603993998,
         0.19189528766431607,
         0.2086405172270125,
         0.19859951974391937,
         0.21811058762045982,
         0.1875934586774707,
         0.1886906086340069,
         0.18786598337339933,
         0.18676503362776292,
         0.19366430500564014,
         0.18441687200294682,
         0.18021479419855946,
         0.16993693247399305,
         0.1821152276425287,
         0.19489929435929487,
         0.19990030601666012,
         0.1970010926900802,
         0.17317227084292316,
         0.20688137667735457,
         0.1722105246339148,
         0.19575410759034306,
         0.1821824434338521,
         0.18181669340293483,
         0.19563685956930016,
         0.18918369766094187,
         0.17806243752353385,
         0.18600099085534225,
         0.19370820332191085,
         0.1875614706050742
        ],
        [
         0.33197835385799407,
         0.3164470434188843,
         0.3184282064437866,
         0.3143308863043785,
         0.3153065860271454,
         0.33050589114427564,
         0.31458444595336915,
         0.3272284284234047,
         0.30660527348518374,
         0.31188501268625257,
         0.3066918656229973,
         0.3043509215116501,
         0.33215371519327164,
         0.34643068462610244,
         0.3273241832852364,
         0.30523209273815155,
         0.3185437127947807,
         0.3019645228981972,
         0.3143197759985924,
         0.32037369459867476,
         0.31346756368875506,
         0.3314928963780403,
         0.3016367882490158,
         0.32224210649728774,
         0.3212291389703751,
         0.3048559635877609,
         0.2946263819932938,
         0.29804020673036574,
         0.30902006179094316,
         0.31661137044429777,
         0.3044046491384506,
         0.32788790613412855,
         0.31407471001148224,
         0.3315554246306419,
         0.3269790932536125,
         0.28532474040985106,
         0.32312970161437987,
         0.3218780070543289,
         0.32110678851604463,
         0.28840882778167726,
         0.3113413706421852,
         0.31317418217659,
         0.31046492159366607,
         0.30711644142866135,
         0.3318869933485985,
         0.34575635343790057,
         0.3341765597462654,
         0.31930154263973237,
         0.3248152583837509,
         0.3279969274997711,
         0.31913605630397796,
         0.31061396151781084,
         0.3118102803826332,
         0.303950734436512,
         0.3101531982421875,
         0.30481366366147994,
         0.3156899020075798,
         0.307475334405899,
         0.29655297100543976,
         0.3026700109243393,
         0.29785746037960054,
         0.32646774500608444,
         0.29143563061952593,
         0.31241854578256606,
         0.3255716606974602,
         0.3401726245880127,
         0.32767712622880935,
         0.3106922134757042,
         0.32596044391393664,
         0.31228689253330233,
         0.3163062185049057,
         0.30976256281137465,
         0.32098767459392546,
         0.33070622831583024,
         0.3186649575829506,
         0.33978464603424074,
         0.31554300487041476,
         0.33489023745059965,
         0.32515647560358046,
         0.31890748292207716,
         0.325017474591732,
         0.3118318870663643,
         0.31630613952875136,
         0.30202491730451586,
         0.29550390839576723,
         0.3131534054875374,
         0.3245582118630409,
         0.31929735094308853,
         0.3085790902376175,
         0.3328495681285858,
         0.30113954544067384,
         0.305792273581028,
         0.3141616076231003,
         0.31081797629594804,
         0.3367552861571312,
         0.3044057101011276,
         0.2967032313346863,
         0.31536715030670165,
         0.30836601853370665,
         0.3241849556565285
        ],
        [
         6.639567077159882,
         6.3289408683776855,
         6.368564128875732,
         6.28661772608757,
         6.306131720542908,
         6.610117822885513,
         6.291688919067383,
         6.544568568468094,
         6.132105469703674,
         6.237700253725052,
         6.133837312459946,
         6.087018430233002,
         6.643074303865433,
         6.928613692522049,
         6.546483665704727,
         6.104641854763031,
         6.370874255895615,
         6.0392904579639435,
         6.2863955199718475,
         6.4074738919734955,
         6.269351273775101,
         6.629857927560806,
         6.032735764980316,
         6.444842129945755,
         6.424582779407501,
         6.0971192717552185,
         5.892527639865875,
         5.960804134607315,
         6.180401235818863,
         6.332227408885956,
         6.0880929827690125,
         6.557758122682571,
         6.281494200229645,
         6.631108492612839,
         6.53958186507225,
         5.7064948081970215,
         6.462594032287598,
         6.437560141086578,
         6.422135770320892,
         5.768176555633545,
         6.226827412843704,
         6.263483643531799,
         6.2092984318733215,
         6.142328828573227,
         6.63773986697197,
         6.915127068758011,
         6.683531194925308,
         6.386030852794647,
         6.496305167675018,
         6.559938549995422,
         6.382721126079559,
         6.212279230356216,
         6.236205607652664,
         6.07901468873024,
         6.20306396484375,
         6.096273273229599,
         6.313798040151596,
         6.149506688117981,
         5.931059420108795,
         6.053400218486786,
         5.9571492075920105,
         6.529354900121689,
         5.828712612390518,
         6.248370915651321,
         6.5114332139492035,
         6.803452491760254,
         6.553542524576187,
         6.213844269514084,
         6.519208878278732,
         6.245737850666046,
         6.326124370098114,
         6.195251256227493,
         6.4197534918785095,
         6.614124566316605,
         6.373299151659012,
         6.7956929206848145,
         6.310860097408295,
         6.697804749011993,
         6.5031295120716095,
         6.378149658441544,
         6.5003494918346405,
         6.236637741327286,
         6.3261227905750275,
         6.040498346090317,
         5.910078167915344,
         6.263068109750748,
         6.4911642372608185,
         6.385947018861771,
         6.17158180475235,
         6.656991362571716,
         6.022790908813477,
         6.11584547162056,
         6.283232152462006,
         6.216359525918961,
         6.735105723142624,
         6.0881142020225525,
         5.934064626693726,
         6.307343006134033,
         6.167320370674133,
         6.4836991131305695
        ],
        [
         1.9934017145373917,
         1.9708270358298505,
         1.96779779249671,
         1.8630171758250742,
         1.9894171655589272,
         1.9802735277491288,
         1.887243809993489,
         1.946352848031663,
         1.9215777253286161,
         1.9632765431826773,
         1.8839401439287398,
         1.8651929420666593,
         1.951196282582903,
         2.0469457750848177,
         1.9579473319378904,
         1.9086868332247608,
         1.9951702627594259,
         1.952507069295918,
         1.9210704890895745,
         1.9870918112603577,
         1.9546282347424688,
         1.9688436576306942,
         1.865051315484809,
         1.9039416740409107,
         1.9503619915069346,
         1.909031405682566,
         1.8494403495017928,
         1.8662727162720538,
         1.8916861981891033,
         1.9662654595725895,
         1.9013545467956503,
         1.9845665910788448,
         1.9547147945125092,
         1.9503652041935575,
         2.016891069057567,
         1.8024838353966293,
         1.968183132222927,
         1.9566586673945776,
         1.936060024853562,
         1.784365349997336,
         1.9445639270523187,
         1.999051797992771,
         1.9133227964724528,
         1.924207844781203,
         1.9960714806154314,
         2.005235295522362,
         1.979026323889922,
         1.9094602913289394,
         1.978813809034638,
         1.9493667390399065,
         1.9626575606500407,
         1.9739574505357627,
         2.018173120723506,
         1.848181934818225,
         1.871974166605353,
         1.8916986656961026,
         1.9204378468999033,
         1.9831762302465763,
         1.858591495337437,
         1.8715633124101108,
         1.924524220335575,
         1.963176068827808,
         1.8967741707362284,
         1.8854540828450181,
         1.9310728818762721,
         2.044090050182846,
         1.97039871571144,
         1.9108736499811485,
         1.9462299045765115,
         1.9250441078629308,
         1.9470066505813073,
         1.9152537484100638,
         1.959057363449657,
         2.0427457855886644,
         1.992985297205774,
         2.0885908532810338,
         1.9369742315140421,
         1.9426302202632744,
         1.9383806817722846,
         1.932692596497244,
         1.9680665893492533,
         1.9205044754071614,
         1.8984983234048929,
         1.8435668280482431,
         1.9084822642221682,
         1.9743317571233812,
         1.9995014679497494,
         1.984948829013384,
         1.8610334271201212,
         2.0341159095654042,
         1.8558584247399628,
         1.9786566533400536,
         1.9088344267319368,
         1.9069173731598064,
         1.978064000831622,
         1.945166818866402,
         1.887127115610042,
         1.928735289537381,
         1.9682896297136296,
         1.9368090799305655
        ]
       ],
       "encoder": "json",
       "name": "ABC_GAN_3 Metrics",
       "version": 1
      }
     },
     "metadata": {
      "scrapbook": {
       "data": true,
       "display": false,
       "name": "ABC_GAN_3 Metrics"
      }
     },
     "output_type": "display_data"
    },
    {
     "name": "stdout",
     "output_type": "stream",
     "text": [
      "MSE\n",
      "0.18815723538637924\n"
     ]
    }
   ],
   "source": [
    "ABC_GAN3_metrics=ABC_train_test2.test_generator(gen3,test_data,prior_model,variance,bias,\"3\",device)\n",
    "sb.glue(\"ABC_GAN_3 Metrics\",ABC_GAN3_metrics)\n",
    "\n",
    "print(\"MSE\")\n",
    "print(mean(ABC_GAN3_metrics[0]))"
   ]
  },
  {
   "cell_type": "code",
   "execution_count": 18,
   "id": "c8e46b48",
   "metadata": {
    "execution": {
     "iopub.execute_input": "2022-06-22T12:28:37.417788Z",
     "iopub.status.busy": "2022-06-22T12:28:37.416981Z",
     "iopub.status.idle": "2022-06-22T12:28:38.181530Z",
     "shell.execute_reply": "2022-06-22T12:28:38.181985Z"
    },
    "id": "c8e46b48",
    "papermill": {
     "duration": 0.823661,
     "end_time": "2022-06-22T12:28:38.182205",
     "exception": false,
     "start_time": "2022-06-22T12:28:37.358544",
     "status": "completed"
    },
    "tags": []
   },
   "outputs": [
    {
     "data": {
      "image/png": "[encoded data removed]",
      "text/plain": [
       "<Figure size 432x288 with 1 Axes>"
      ]
     },
     "metadata": {
      "needs_background": "light"
     },
     "output_type": "display_data"
    },
    {
     "data": {
      "image/png": "[encoded data removed]",
      "text/plain": [
       "<Figure size 432x288 with 1 Axes>"
      ]
     },
     "metadata": {
      "needs_background": "light"
     },
     "output_type": "display_data"
    },
    {
     "data": {
      "image/png": "[encoded data removed]",
      "text/plain": [
       "<Figure size 432x288 with 1 Axes>"
      ]
     },
     "metadata": {
      "needs_background": "light"
     },
     "output_type": "display_data"
    },
    {
     "data": {
      "image/png": "[encoded data removed]",
      "text/plain": [
       "<Figure size 432x288 with 1 Axes>"
      ]
     },
     "metadata": {
      "needs_background": "light"
     },
     "output_type": "display_data"
    }
   ],
   "source": [
    "sanityChecks.discProbVsError(train_data,disc3,device)\n",
    "sanityChecks.discProbVsError(test_data,disc3,device)"
   ]
  },
  {
   "cell_type": "markdown",
   "id": "a5bd74c3",
   "metadata": {
    "id": "a5bd74c3",
    "papermill": {
     "duration": 0.059045,
     "end_time": "2022-06-22T12:28:38.294059",
     "exception": false,
     "start_time": "2022-06-22T12:28:38.235014",
     "status": "completed"
    },
    "tags": []
   },
   "source": [
    "## Skip Connection Model Analysis - ABC-GAN "
   ]
  },
  {
   "cell_type": "markdown",
   "id": "5744a8bf",
   "metadata": {
    "id": "5744a8bf",
    "papermill": {
     "duration": 0.063246,
     "end_time": "2022-06-22T12:28:38.409369",
     "exception": false,
     "start_time": "2022-06-22T12:28:38.346123",
     "status": "completed"
    },
    "tags": []
   },
   "source": [
    "### Weight Analysis \n",
    "\n",
    "Study the weights of the skip connection layer\n",
    "\n",
    "Equation of the skip connection is \n",
    "\n",
    "$output = y_{gan} * w + y_{abc} * (1-w)$"
   ]
  },
  {
   "cell_type": "code",
   "execution_count": 19,
   "id": "52c31dea",
   "metadata": {
    "execution": {
     "iopub.execute_input": "2022-06-22T12:28:38.552185Z",
     "iopub.status.busy": "2022-06-22T12:28:38.548898Z",
     "iopub.status.idle": "2022-06-22T12:28:38.558611Z",
     "shell.execute_reply": "2022-06-22T12:28:38.557970Z"
    },
    "id": "52c31dea",
    "papermill": {
     "duration": 0.097024,
     "end_time": "2022-06-22T12:28:38.558818",
     "exception": false,
     "start_time": "2022-06-22T12:28:38.461794",
     "status": "completed"
    },
    "tags": []
   },
   "outputs": [
    {
     "name": "stdout",
     "output_type": "stream",
     "text": [
      "Weight of the node at skip connection\n",
      "Parameter containing:\n",
      "tensor([[0.1136]], requires_grad=True)\n"
     ]
    },
    {
     "data": {
      "application/scrapbook.scrap.json+json": {
       "data": 0.1136319488286972,
       "encoder": "json",
       "name": "Skip Connection Weight",
       "version": 1
      }
     },
     "metadata": {
      "scrapbook": {
       "data": true,
       "display": false,
       "name": "Skip Connection Weight"
      }
     },
     "output_type": "display_data"
    }
   ],
   "source": [
    "print(\"Weight of the node at skip connection\")\n",
    "for name,param in gen3.named_parameters():\n",
    "    if(name == \"skipNode.weight\"):\n",
    "        print(param)\n",
    "        sb.glue(\"Skip Connection Weight\",param.item())"
   ]
  }
 ],
 "metadata": {
  "colab": {
   "collapsed_sections": [],
   "name": "ABC_GAN_Model-Catboost_Pre-gen.ipynb",
   "provenance": []
  },
  "interpreter": {
   "hash": "31f2aee4e71d21fbe5cf8b01ff0e069b9275f58929596ceb00d14d90e3e16cd6"
  },
  "kernelspec": {
   "display_name": "Python 3 (ipykernel)",
   "language": "python",
   "name": "python3"
  },
  "language_info": {
   "codemirror_mode": {
    "name": "ipython",
    "version": 3
   },
   "file_extension": ".py",
   "mimetype": "text/x-python",
   "name": "python",
   "nbconvert_exporter": "python",
   "pygments_lexer": "ipython3",
   "version": "3.8.3"
  },
  "papermill": {
   "default_parameters": {},
   "duration": 141.424887,
   "end_time": "2022-06-22T12:28:39.482843",
   "environment_variables": {},
   "exception": null,
   "input_path": "ABC_GAN-TabNet.ipynb",
   "output_path": "./ABC_GAN_TabNet/ABC-GAN_output_3_1.ipynb",
   "parameters": {
    "bias": 1,
    "variance": 0.1
   },
   "start_time": "2022-06-22T12:26:18.057956",
   "version": "2.3.3"
  }
 },
 "nbformat": 4,
 "nbformat_minor": 5
}