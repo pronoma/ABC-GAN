{
 "cells": [
  {
   "cell_type": "markdown",
   "id": "622780e6",
   "metadata": {
    "id": "622780e6",
    "papermill": {
     "duration": 0.030958,
     "end_time": "2022-06-22T12:54:49.046904",
     "exception": false,
     "start_time": "2022-06-22T12:54:49.015946",
     "status": "completed"
    },
    "tags": []
   },
   "source": [
    "## Import Libraries "
   ]
  },
  {
   "cell_type": "code",
   "execution_count": 1,
   "id": "a62397e3",
   "metadata": {
    "execution": {
     "iopub.execute_input": "2022-06-22T12:54:49.112344Z",
     "iopub.status.busy": "2022-06-22T12:54:49.111344Z",
     "iopub.status.idle": "2022-06-22T12:54:49.115283Z",
     "shell.execute_reply": "2022-06-22T12:54:49.116926Z"
    },
    "id": "a62397e3",
    "papermill": {
     "duration": 0.045795,
     "end_time": "2022-06-22T12:54:49.117506",
     "exception": false,
     "start_time": "2022-06-22T12:54:49.071711",
     "status": "completed"
    },
    "tags": []
   },
   "outputs": [],
   "source": [
    "import warnings\n",
    "import sys\n",
    "sys.path.insert(0, '../../src')\n",
    "warnings.filterwarnings('ignore')"
   ]
  },
  {
   "cell_type": "code",
   "execution_count": 2,
   "id": "d6a4e155",
   "metadata": {
    "execution": {
     "iopub.execute_input": "2022-06-22T12:54:49.160824Z",
     "iopub.status.busy": "2022-06-22T12:54:49.159999Z",
     "iopub.status.idle": "2022-06-22T12:54:59.580859Z",
     "shell.execute_reply": "2022-06-22T12:54:59.581745Z"
    },
    "id": "d6a4e155",
    "papermill": {
     "duration": 10.444492,
     "end_time": "2022-06-22T12:54:59.582076",
     "exception": false,
     "start_time": "2022-06-22T12:54:49.137584",
     "status": "completed"
    },
    "tags": []
   },
   "outputs": [],
   "source": [
    "import ABC_train_test2\n",
    "import friedman3Dataset\n",
    "import network\n",
    "import dataset\n",
    "import sanityChecks\n",
    "import torch \n",
    "import scrapbook as sb\n",
    "from statistics import mean \n",
    "import catboost as ctb \n",
    "from sklearn.model_selection import train_test_split\n",
    "from sklearn.metrics import mean_squared_error,mean_absolute_error\n",
    "import numpy as np\n",
    "from pytorch_tabnet.tab_model import TabNetRegressor"
   ]
  },
  {
   "cell_type": "markdown",
   "id": "2fa5b0f7",
   "metadata": {
    "id": "2fa5b0f7",
    "papermill": {
     "duration": 0.054897,
     "end_time": "2022-06-22T12:54:59.677835",
     "exception": false,
     "start_time": "2022-06-22T12:54:59.622938",
     "status": "completed"
    },
    "tags": []
   },
   "source": [
    "## Parameters "
   ]
  },
  {
   "cell_type": "code",
   "execution_count": 3,
   "id": "783186fb",
   "metadata": {
    "execution": {
     "iopub.execute_input": "2022-06-22T12:54:59.747583Z",
     "iopub.status.busy": "2022-06-22T12:54:59.745568Z",
     "iopub.status.idle": "2022-06-22T12:54:59.748630Z",
     "shell.execute_reply": "2022-06-22T12:54:59.749321Z"
    },
    "id": "783186fb",
    "papermill": {
     "duration": 0.050742,
     "end_time": "2022-06-22T12:54:59.749609",
     "exception": false,
     "start_time": "2022-06-22T12:54:59.698867",
     "status": "completed"
    },
    "tags": [
     "parameters"
    ]
   },
   "outputs": [],
   "source": [
    "variance = 1\n",
    "bias = 1 "
   ]
  },
  {
   "cell_type": "code",
   "execution_count": 4,
   "id": "48d33517",
   "metadata": {
    "execution": {
     "iopub.execute_input": "2022-06-22T12:54:59.835424Z",
     "iopub.status.busy": "2022-06-22T12:54:59.834185Z",
     "iopub.status.idle": "2022-06-22T12:54:59.836747Z",
     "shell.execute_reply": "2022-06-22T12:54:59.836142Z"
    },
    "papermill": {
     "duration": 0.054942,
     "end_time": "2022-06-22T12:54:59.836953",
     "exception": false,
     "start_time": "2022-06-22T12:54:59.782011",
     "status": "completed"
    },
    "tags": [
     "injected-parameters"
    ]
   },
   "outputs": [],
   "source": [
    "# Parameters\n",
    "variance = 1\n",
    "bias = 1\n"
   ]
  },
  {
   "cell_type": "markdown",
   "id": "391cdbfd",
   "metadata": {
    "id": "391cdbfd",
    "papermill": {
     "duration": 0.027717,
     "end_time": "2022-06-22T12:54:59.941121",
     "exception": false,
     "start_time": "2022-06-22T12:54:59.913404",
     "status": "completed"
    },
    "tags": []
   },
   "source": [
    "## Dataset \n"
   ]
  },
  {
   "cell_type": "code",
   "execution_count": 5,
   "id": "5b51f161",
   "metadata": {
    "execution": {
     "iopub.execute_input": "2022-06-22T12:55:00.202776Z",
     "iopub.status.busy": "2022-06-22T12:55:00.201230Z",
     "iopub.status.idle": "2022-06-22T12:55:00.203545Z",
     "shell.execute_reply": "2022-06-22T12:55:00.202157Z"
    },
    "id": "5b51f161",
    "papermill": {
     "duration": 0.243369,
     "end_time": "2022-06-22T12:55:00.203813",
     "exception": false,
     "start_time": "2022-06-22T12:54:59.960444",
     "status": "completed"
    },
    "tags": []
   },
   "outputs": [],
   "source": [
    "#Parameters \n",
    "n_features = 4\n",
    "n_samples= 100\n",
    "n_target = 1"
   ]
  },
  {
   "cell_type": "code",
   "execution_count": 6,
   "id": "5d6eced4",
   "metadata": {
    "execution": {
     "iopub.execute_input": "2022-06-22T12:55:00.570268Z",
     "iopub.status.busy": "2022-06-22T12:55:00.567671Z",
     "iopub.status.idle": "2022-06-22T12:55:00.578484Z",
     "shell.execute_reply": "2022-06-22T12:55:00.574954Z"
    },
    "id": "5d6eced4",
    "papermill": {
     "duration": 0.34988,
     "end_time": "2022-06-22T12:55:00.578798",
     "exception": false,
     "start_time": "2022-06-22T12:55:00.228918",
     "status": "completed"
    },
    "tags": []
   },
   "outputs": [
    {
     "name": "stdout",
     "output_type": "stream",
     "text": [
      "          X1           X2        X3        X4         Y\n",
      "0  66.833630  1058.005973  0.124645  2.496322  0.999217\n",
      "1   4.777032  1639.372009  0.237359  4.398866  1.332447\n",
      "2  69.435846   811.646670  0.385711  5.882638  1.293891\n",
      "3  18.294940   379.093968  0.595449  5.031954  1.447396\n",
      "4   6.536078  1125.222738  0.977133  7.379281  1.576657\n"
     ]
    }
   ],
   "source": [
    "X,Y = friedman3Dataset.friedman3_data(n_samples)"
   ]
  },
  {
   "cell_type": "code",
   "execution_count": 7,
   "id": "fe007438",
   "metadata": {
    "execution": {
     "iopub.execute_input": "2022-06-22T12:55:00.761027Z",
     "iopub.status.busy": "2022-06-22T12:55:00.756353Z",
     "iopub.status.idle": "2022-06-22T12:55:00.772640Z",
     "shell.execute_reply": "2022-06-22T12:55:00.771907Z"
    },
    "id": "fe007438",
    "papermill": {
     "duration": 0.167361,
     "end_time": "2022-06-22T12:55:00.772853",
     "exception": false,
     "start_time": "2022-06-22T12:55:00.605492",
     "status": "completed"
    },
    "tags": []
   },
   "outputs": [],
   "source": [
    "#Train test split for dataset \n",
    "X_train,X_test,Y_train,Y_test = train_test_split(X,Y,test_size = 0.2)\n",
    "train_data = dataset.CustomDataset(X_train,Y_train)\n",
    "test_data = dataset.CustomDataset(X_test,Y_test)\n"
   ]
  },
  {
   "cell_type": "markdown",
   "id": "a9a1af34",
   "metadata": {
    "id": "a9a1af34",
    "papermill": {
     "duration": 0.215362,
     "end_time": "2022-06-22T12:55:01.006965",
     "exception": false,
     "start_time": "2022-06-22T12:55:00.791603",
     "status": "completed"
    },
    "tags": []
   },
   "source": [
    "## Training Parameters "
   ]
  },
  {
   "cell_type": "code",
   "execution_count": 8,
   "id": "952b7fc8",
   "metadata": {
    "execution": {
     "iopub.execute_input": "2022-06-22T12:55:01.089729Z",
     "iopub.status.busy": "2022-06-22T12:55:01.085325Z",
     "iopub.status.idle": "2022-06-22T12:55:01.091455Z",
     "shell.execute_reply": "2022-06-22T12:55:01.090606Z"
    },
    "id": "952b7fc8",
    "papermill": {
     "duration": 0.039847,
     "end_time": "2022-06-22T12:55:01.091681",
     "exception": false,
     "start_time": "2022-06-22T12:55:01.051834",
     "status": "completed"
    },
    "tags": []
   },
   "outputs": [],
   "source": [
    "batch_size = 32\n",
    "n_epochs = 1000\n",
    "#Select the device \n",
    "device = torch.device('cuda' if torch.cuda.is_available() else 'cpu')"
   ]
  },
  {
   "cell_type": "markdown",
   "id": "a95e1600",
   "metadata": {
    "id": "a95e1600",
    "papermill": {
     "duration": 0.028115,
     "end_time": "2022-06-22T12:55:01.142791",
     "exception": false,
     "start_time": "2022-06-22T12:55:01.114676",
     "status": "completed"
    },
    "tags": []
   },
   "source": [
    "# ABC Pre-generator Model \n",
    "\n",
    "1. The catboost model is used as a pre-generator model for the ABC-GAN. \n",
    "2. The model is first trained on the entire dataset \n",
    "3. It generats X,Y pairs and we add some Gaussian noise with mean 0 and variance 1 to it which is then feed as input to the generator.\n"
   ]
  },
  {
   "cell_type": "code",
   "execution_count": 9,
   "id": "ff8ce7bd",
   "metadata": {
    "execution": {
     "iopub.execute_input": "2022-06-22T12:55:01.214324Z",
     "iopub.status.busy": "2022-06-22T12:55:01.213163Z",
     "iopub.status.idle": "2022-06-22T12:55:14.755094Z",
     "shell.execute_reply": "2022-06-22T12:55:14.755532Z"
    },
    "id": "ff8ce7bd",
    "papermill": {
     "duration": 13.594689,
     "end_time": "2022-06-22T12:55:14.755748",
     "exception": false,
     "start_time": "2022-06-22T12:55:01.161059",
     "status": "completed"
    },
    "tags": []
   },
   "outputs": [
    {
     "name": "stdout",
     "output_type": "stream",
     "text": [
      "Device used : cpu\n"
     ]
    },
    {
     "name": "stdout",
     "output_type": "stream",
     "text": [
      "epoch 0  | loss: 0.92811 | train_mse: 3.24958 | train_mae: 1.44403 |  0:00:00s\n"
     ]
    },
    {
     "name": "stdout",
     "output_type": "stream",
     "text": [
      "epoch 1  | loss: 0.89943 | train_mse: 2.62735 | train_mae: 1.3042  |  0:00:00s\n",
      "epoch 2  | loss: 0.89956 | train_mse: 1.62088 | train_mae: 1.02229 |  0:00:00s\n"
     ]
    },
    {
     "name": "stdout",
     "output_type": "stream",
     "text": [
      "epoch 3  | loss: 0.85928 | train_mse: 1.76431 | train_mae: 1.02697 |  0:00:00s\n",
      "epoch 4  | loss: 0.60616 | train_mse: 2.28417 | train_mae: 1.21767 |  0:00:00s\n",
      "epoch 5  | loss: 0.58848 | train_mse: 2.19431 | train_mae: 1.19651 |  0:00:00s\n"
     ]
    },
    {
     "name": "stdout",
     "output_type": "stream",
     "text": [
      "epoch 6  | loss: 0.90326 | train_mse: 1.56487 | train_mae: 1.00176 |  0:00:01s\n",
      "epoch 7  | loss: 0.51009 | train_mse: 1.12068 | train_mae: 0.81268 |  0:00:01s\n",
      "epoch 8  | loss: 0.58501 | train_mse: 0.87709 | train_mae: 0.7209  |  0:00:01s\n"
     ]
    },
    {
     "name": "stdout",
     "output_type": "stream",
     "text": [
      "epoch 9  | loss: 0.73688 | train_mse: 0.85582 | train_mae: 0.72364 |  0:00:01s\n",
      "epoch 10 | loss: 0.65153 | train_mse: 0.81847 | train_mae: 0.67198 |  0:00:01s\n",
      "epoch 11 | loss: 0.56036 | train_mse: 0.68215 | train_mae: 0.61325 |  0:00:01s\n"
     ]
    },
    {
     "name": "stdout",
     "output_type": "stream",
     "text": [
      "epoch 12 | loss: 0.55525 | train_mse: 0.65116 | train_mae: 0.58628 |  0:00:01s\n",
      "epoch 13 | loss: 0.57639 | train_mse: 0.50596 | train_mae: 0.55029 |  0:00:01s\n",
      "epoch 14 | loss: 0.52593 | train_mse: 0.42146 | train_mae: 0.51957 |  0:00:01s\n"
     ]
    },
    {
     "name": "stdout",
     "output_type": "stream",
     "text": [
      "epoch 15 | loss: 0.69379 | train_mse: 0.47131 | train_mae: 0.51954 |  0:00:01s\n",
      "epoch 16 | loss: 0.44631 | train_mse: 0.54084 | train_mae: 0.55629 |  0:00:01s\n"
     ]
    },
    {
     "name": "stdout",
     "output_type": "stream",
     "text": [
      "epoch 17 | loss: 0.52669 | train_mse: 0.53891 | train_mae: 0.51455 |  0:00:02s\n",
      "epoch 18 | loss: 0.58419 | train_mse: 0.56331 | train_mae: 0.52237 |  0:00:02s\n",
      "epoch 19 | loss: 0.37355 | train_mse: 0.6351  | train_mae: 0.57233 |  0:00:02s\n"
     ]
    },
    {
     "name": "stdout",
     "output_type": "stream",
     "text": [
      "epoch 20 | loss: 0.35302 | train_mse: 0.84682 | train_mae: 0.66383 |  0:00:02s\n",
      "epoch 21 | loss: 0.35649 | train_mse: 0.67615 | train_mae: 0.58618 |  0:00:02s\n"
     ]
    },
    {
     "name": "stdout",
     "output_type": "stream",
     "text": [
      "epoch 22 | loss: 0.41654 | train_mse: 0.57932 | train_mae: 0.55822 |  0:00:02s\n",
      "epoch 23 | loss: 0.45526 | train_mse: 0.41712 | train_mae: 0.48345 |  0:00:02s\n",
      "epoch 24 | loss: 0.33034 | train_mse: 0.43537 | train_mae: 0.49785 |  0:00:02s\n"
     ]
    },
    {
     "name": "stdout",
     "output_type": "stream",
     "text": [
      "epoch 25 | loss: 0.36488 | train_mse: 0.61692 | train_mae: 0.57507 |  0:00:03s\n",
      "epoch 26 | loss: 0.38606 | train_mse: 0.64349 | train_mae: 0.57828 |  0:00:03s\n",
      "epoch 27 | loss: 0.37587 | train_mse: 0.46749 | train_mae: 0.48981 |  0:00:03s\n"
     ]
    },
    {
     "name": "stdout",
     "output_type": "stream",
     "text": [
      "epoch 28 | loss: 0.27314 | train_mse: 0.43375 | train_mae: 0.48708 |  0:00:03s\n",
      "epoch 29 | loss: 0.39761 | train_mse: 0.373   | train_mae: 0.46221 |  0:00:03s\n"
     ]
    },
    {
     "name": "stdout",
     "output_type": "stream",
     "text": [
      "epoch 30 | loss: 0.27837 | train_mse: 0.27713 | train_mae: 0.40356 |  0:00:03s\n"
     ]
    },
    {
     "name": "stdout",
     "output_type": "stream",
     "text": [
      "epoch 31 | loss: 0.22505 | train_mse: 0.3013  | train_mae: 0.40108 |  0:00:03s\n",
      "epoch 32 | loss: 0.23433 | train_mse: 0.29082 | train_mae: 0.39177 |  0:00:04s\n"
     ]
    },
    {
     "name": "stdout",
     "output_type": "stream",
     "text": [
      "epoch 33 | loss: 0.2317  | train_mse: 0.24745 | train_mae: 0.37527 |  0:00:04s\n",
      "epoch 34 | loss: 0.2104  | train_mse: 0.22597 | train_mae: 0.3701  |  0:00:04s\n"
     ]
    },
    {
     "name": "stdout",
     "output_type": "stream",
     "text": [
      "epoch 35 | loss: 0.19698 | train_mse: 0.21876 | train_mae: 0.36938 |  0:00:04s\n",
      "epoch 36 | loss: 0.24165 | train_mse: 0.19747 | train_mae: 0.34883 |  0:00:04s\n"
     ]
    },
    {
     "name": "stdout",
     "output_type": "stream",
     "text": [
      "epoch 37 | loss: 0.19127 | train_mse: 0.20963 | train_mae: 0.3568  |  0:00:04s\n",
      "epoch 38 | loss: 0.27449 | train_mse: 0.22109 | train_mae: 0.36515 |  0:00:04s\n"
     ]
    },
    {
     "name": "stdout",
     "output_type": "stream",
     "text": [
      "epoch 39 | loss: 0.20073 | train_mse: 0.27331 | train_mae: 0.38894 |  0:00:04s\n",
      "epoch 40 | loss: 0.22777 | train_mse: 0.33938 | train_mae: 0.42353 |  0:00:05s\n"
     ]
    },
    {
     "name": "stdout",
     "output_type": "stream",
     "text": [
      "epoch 41 | loss: 0.20452 | train_mse: 0.24763 | train_mae: 0.37366 |  0:00:05s\n",
      "epoch 42 | loss: 0.25494 | train_mse: 0.16696 | train_mae: 0.3118  |  0:00:05s\n"
     ]
    },
    {
     "name": "stdout",
     "output_type": "stream",
     "text": [
      "epoch 43 | loss: 0.31957 | train_mse: 0.16978 | train_mae: 0.31187 |  0:00:05s\n",
      "epoch 44 | loss: 0.29212 | train_mse: 0.1787  | train_mae: 0.31132 |  0:00:05s\n"
     ]
    },
    {
     "name": "stdout",
     "output_type": "stream",
     "text": [
      "epoch 45 | loss: 0.26423 | train_mse: 0.19211 | train_mae: 0.33091 |  0:00:05s\n",
      "epoch 46 | loss: 0.19962 | train_mse: 0.18413 | train_mae: 0.33625 |  0:00:05s\n"
     ]
    },
    {
     "name": "stdout",
     "output_type": "stream",
     "text": [
      "epoch 47 | loss: 0.33598 | train_mse: 0.17043 | train_mae: 0.33042 |  0:00:05s\n",
      "epoch 48 | loss: 0.21643 | train_mse: 0.13385 | train_mae: 0.28856 |  0:00:06s\n"
     ]
    },
    {
     "name": "stdout",
     "output_type": "stream",
     "text": [
      "epoch 49 | loss: 0.27874 | train_mse: 0.13263 | train_mae: 0.28883 |  0:00:06s\n",
      "epoch 50 | loss: 0.28457 | train_mse: 0.15419 | train_mae: 0.31678 |  0:00:06s\n",
      "epoch 51 | loss: 0.30927 | train_mse: 0.16729 | train_mae: 0.32853 |  0:00:06s\n"
     ]
    },
    {
     "name": "stdout",
     "output_type": "stream",
     "text": [
      "epoch 52 | loss: 0.26592 | train_mse: 0.17719 | train_mae: 0.33055 |  0:00:06s\n",
      "epoch 53 | loss: 0.21763 | train_mse: 0.19786 | train_mae: 0.33633 |  0:00:06s\n",
      "epoch 54 | loss: 0.3375  | train_mse: 0.17563 | train_mae: 0.32207 |  0:00:06s\n"
     ]
    },
    {
     "name": "stdout",
     "output_type": "stream",
     "text": [
      "epoch 55 | loss: 0.30609 | train_mse: 0.16393 | train_mae: 0.30908 |  0:00:06s\n",
      "epoch 56 | loss: 0.27358 | train_mse: 0.16362 | train_mae: 0.30959 |  0:00:06s\n",
      "epoch 57 | loss: 0.27543 | train_mse: 0.16222 | train_mae: 0.31772 |  0:00:06s\n"
     ]
    },
    {
     "name": "stdout",
     "output_type": "stream",
     "text": [
      "epoch 58 | loss: 0.21839 | train_mse: 0.16063 | train_mae: 0.30937 |  0:00:06s\n",
      "epoch 59 | loss: 0.26412 | train_mse: 0.15371 | train_mae: 0.30754 |  0:00:06s\n",
      "epoch 60 | loss: 0.28707 | train_mse: 0.16786 | train_mae: 0.32108 |  0:00:07s\n"
     ]
    },
    {
     "name": "stdout",
     "output_type": "stream",
     "text": [
      "epoch 61 | loss: 0.22954 | train_mse: 0.17329 | train_mae: 0.31797 |  0:00:07s\n",
      "epoch 62 | loss: 0.34956 | train_mse: 0.17569 | train_mae: 0.32147 |  0:00:07s\n"
     ]
    },
    {
     "name": "stdout",
     "output_type": "stream",
     "text": [
      "epoch 63 | loss: 0.21883 | train_mse: 0.17623 | train_mae: 0.32676 |  0:00:07s\n",
      "epoch 64 | loss: 0.28906 | train_mse: 0.17589 | train_mae: 0.31927 |  0:00:07s\n",
      "epoch 65 | loss: 0.44226 | train_mse: 0.15543 | train_mae: 0.29978 |  0:00:07s\n"
     ]
    },
    {
     "name": "stdout",
     "output_type": "stream",
     "text": [
      "epoch 66 | loss: 0.16571 | train_mse: 0.13266 | train_mae: 0.28942 |  0:00:07s\n",
      "epoch 67 | loss: 0.18852 | train_mse: 0.13599 | train_mae: 0.29174 |  0:00:07s\n",
      "epoch 68 | loss: 0.21083 | train_mse: 0.14392 | train_mae: 0.30264 |  0:00:07s\n"
     ]
    },
    {
     "name": "stdout",
     "output_type": "stream",
     "text": [
      "epoch 69 | loss: 0.1703  | train_mse: 0.1441  | train_mae: 0.29778 |  0:00:07s\n",
      "epoch 70 | loss: 0.15504 | train_mse: 0.15421 | train_mae: 0.29863 |  0:00:07s\n",
      "epoch 71 | loss: 0.29675 | train_mse: 0.14853 | train_mae: 0.29587 |  0:00:08s\n"
     ]
    },
    {
     "name": "stdout",
     "output_type": "stream",
     "text": [
      "epoch 72 | loss: 0.16618 | train_mse: 0.13198 | train_mae: 0.27897 |  0:00:08s\n",
      "epoch 73 | loss: 0.26561 | train_mse: 0.13547 | train_mae: 0.27559 |  0:00:08s\n",
      "epoch 74 | loss: 0.26375 | train_mse: 0.14716 | train_mae: 0.29158 |  0:00:08s\n"
     ]
    },
    {
     "name": "stdout",
     "output_type": "stream",
     "text": [
      "epoch 75 | loss: 0.24833 | train_mse: 0.14728 | train_mae: 0.29424 |  0:00:08s\n",
      "epoch 76 | loss: 0.26106 | train_mse: 0.15947 | train_mae: 0.31149 |  0:00:08s\n",
      "epoch 77 | loss: 0.31463 | train_mse: 0.14565 | train_mae: 0.2999  |  0:00:08s\n"
     ]
    },
    {
     "name": "stdout",
     "output_type": "stream",
     "text": [
      "epoch 78 | loss: 0.15209 | train_mse: 0.14544 | train_mae: 0.29451 |  0:00:08s\n",
      "epoch 79 | loss: 0.33563 | train_mse: 0.13168 | train_mae: 0.28012 |  0:00:08s\n",
      "epoch 80 | loss: 0.26755 | train_mse: 0.15639 | train_mae: 0.29559 |  0:00:08s\n"
     ]
    },
    {
     "name": "stdout",
     "output_type": "stream",
     "text": [
      "epoch 81 | loss: 0.2139  | train_mse: 0.1528  | train_mae: 0.29705 |  0:00:08s\n",
      "epoch 82 | loss: 0.1832  | train_mse: 0.13773 | train_mae: 0.29401 |  0:00:08s\n",
      "epoch 83 | loss: 0.30667 | train_mse: 0.12744 | train_mae: 0.2764  |  0:00:09s\n"
     ]
    },
    {
     "name": "stdout",
     "output_type": "stream",
     "text": [
      "epoch 84 | loss: 0.3151  | train_mse: 0.11838 | train_mae: 0.26407 |  0:00:09s\n",
      "epoch 85 | loss: 0.20383 | train_mse: 0.10854 | train_mae: 0.25795 |  0:00:09s\n",
      "epoch 86 | loss: 0.17157 | train_mse: 0.11879 | train_mae: 0.27199 |  0:00:09s\n"
     ]
    },
    {
     "name": "stdout",
     "output_type": "stream",
     "text": [
      "epoch 87 | loss: 0.37259 | train_mse: 0.14608 | train_mae: 0.29511 |  0:00:09s\n",
      "epoch 88 | loss: 0.3001  | train_mse: 0.13835 | train_mae: 0.28806 |  0:00:09s\n",
      "epoch 89 | loss: 0.2016  | train_mse: 0.13408 | train_mae: 0.28344 |  0:00:09s\n"
     ]
    },
    {
     "name": "stdout",
     "output_type": "stream",
     "text": [
      "epoch 90 | loss: 0.33969 | train_mse: 0.13139 | train_mae: 0.28175 |  0:00:09s\n",
      "epoch 91 | loss: 0.18419 | train_mse: 0.11238 | train_mae: 0.26832 |  0:00:09s\n",
      "epoch 92 | loss: 0.16559 | train_mse: 0.11806 | train_mae: 0.27714 |  0:00:09s\n"
     ]
    },
    {
     "name": "stdout",
     "output_type": "stream",
     "text": [
      "epoch 93 | loss: 0.27488 | train_mse: 0.12228 | train_mae: 0.28075 |  0:00:09s\n",
      "epoch 94 | loss: 0.19572 | train_mse: 0.12629 | train_mae: 0.28485 |  0:00:09s\n",
      "epoch 95 | loss: 0.17026 | train_mse: 0.12893 | train_mae: 0.28751 |  0:00:09s\n"
     ]
    },
    {
     "name": "stdout",
     "output_type": "stream",
     "text": [
      "epoch 96 | loss: 0.1787  | train_mse: 0.1248  | train_mae: 0.28799 |  0:00:10s\n",
      "epoch 97 | loss: 0.23088 | train_mse: 0.11512 | train_mae: 0.27396 |  0:00:10s\n",
      "epoch 98 | loss: 0.17263 | train_mse: 0.11697 | train_mae: 0.26799 |  0:00:10s\n"
     ]
    },
    {
     "name": "stdout",
     "output_type": "stream",
     "text": [
      "epoch 99 | loss: 0.4193  | train_mse: 0.12534 | train_mae: 0.29237 |  0:00:10s\n",
      "epoch 100| loss: 0.26636 | train_mse: 0.13489 | train_mae: 0.29209 |  0:00:10s\n",
      "epoch 101| loss: 0.18736 | train_mse: 0.13946 | train_mae: 0.29254 |  0:00:10s\n"
     ]
    },
    {
     "name": "stdout",
     "output_type": "stream",
     "text": [
      "epoch 102| loss: 0.16017 | train_mse: 0.13974 | train_mae: 0.29217 |  0:00:10s\n",
      "epoch 103| loss: 0.31354 | train_mse: 0.13793 | train_mae: 0.28303 |  0:00:10s\n",
      "epoch 104| loss: 0.15507 | train_mse: 0.147   | train_mae: 0.2981  |  0:00:10s\n"
     ]
    },
    {
     "name": "stdout",
     "output_type": "stream",
     "text": [
      "epoch 105| loss: 0.18463 | train_mse: 0.1488  | train_mae: 0.30501 |  0:00:10s\n",
      "epoch 106| loss: 0.21986 | train_mse: 0.13591 | train_mae: 0.2918  |  0:00:10s\n",
      "epoch 107| loss: 0.26014 | train_mse: 0.12515 | train_mae: 0.27692 |  0:00:10s\n"
     ]
    },
    {
     "name": "stdout",
     "output_type": "stream",
     "text": [
      "epoch 108| loss: 0.17913 | train_mse: 0.13126 | train_mae: 0.28656 |  0:00:10s\n",
      "epoch 109| loss: 0.30049 | train_mse: 0.17994 | train_mae: 0.32797 |  0:00:11s\n"
     ]
    },
    {
     "name": "stdout",
     "output_type": "stream",
     "text": [
      "epoch 110| loss: 0.22405 | train_mse: 0.19228 | train_mae: 0.33816 |  0:00:11s\n",
      "epoch 111| loss: 0.28175 | train_mse: 0.17454 | train_mae: 0.32881 |  0:00:11s\n"
     ]
    },
    {
     "name": "stdout",
     "output_type": "stream",
     "text": [
      "epoch 112| loss: 0.28015 | train_mse: 0.1808  | train_mae: 0.32444 |  0:00:11s\n",
      "epoch 113| loss: 0.18734 | train_mse: 0.16407 | train_mae: 0.30592 |  0:00:11s\n",
      "epoch 114| loss: 0.21739 | train_mse: 0.13381 | train_mae: 0.27405 |  0:00:11s\n"
     ]
    },
    {
     "name": "stdout",
     "output_type": "stream",
     "text": [
      "epoch 115| loss: 0.19235 | train_mse: 0.15137 | train_mae: 0.29289 |  0:00:11s\n",
      "epoch 116| loss: 0.19747 | train_mse: 0.17587 | train_mae: 0.31692 |  0:00:11s\n",
      "epoch 117| loss: 0.14462 | train_mse: 0.17724 | train_mae: 0.3193  |  0:00:11s\n"
     ]
    },
    {
     "name": "stdout",
     "output_type": "stream",
     "text": [
      "epoch 118| loss: 0.23611 | train_mse: 0.18544 | train_mae: 0.3252  |  0:00:12s\n",
      "epoch 119| loss: 0.23488 | train_mse: 0.17122 | train_mae: 0.31221 |  0:00:12s\n",
      "epoch 120| loss: 0.16761 | train_mse: 0.15643 | train_mae: 0.3041  |  0:00:12s\n"
     ]
    },
    {
     "name": "stdout",
     "output_type": "stream",
     "text": [
      "epoch 121| loss: 0.31638 | train_mse: 0.14965 | train_mae: 0.29353 |  0:00:12s\n",
      "epoch 122| loss: 0.25375 | train_mse: 0.14534 | train_mae: 0.29593 |  0:00:12s\n",
      "epoch 123| loss: 0.2371  | train_mse: 0.12335 | train_mae: 0.2846  |  0:00:12s\n"
     ]
    },
    {
     "name": "stdout",
     "output_type": "stream",
     "text": [
      "epoch 124| loss: 0.28132 | train_mse: 0.12887 | train_mae: 0.28715 |  0:00:12s\n",
      "epoch 125| loss: 0.20007 | train_mse: 0.16386 | train_mae: 0.30425 |  0:00:12s\n",
      "epoch 126| loss: 0.16533 | train_mse: 0.19975 | train_mae: 0.34028 |  0:00:12s\n"
     ]
    },
    {
     "name": "stdout",
     "output_type": "stream",
     "text": [
      "epoch 127| loss: 0.1622  | train_mse: 0.22079 | train_mae: 0.35756 |  0:00:12s\n",
      "epoch 128| loss: 0.14631 | train_mse: 0.19397 | train_mae: 0.32568 |  0:00:12s\n",
      "epoch 129| loss: 0.21167 | train_mse: 0.15495 | train_mae: 0.29529 |  0:00:13s\n"
     ]
    },
    {
     "name": "stdout",
     "output_type": "stream",
     "text": [
      "epoch 130| loss: 0.14729 | train_mse: 0.12724 | train_mae: 0.27474 |  0:00:13s\n",
      "epoch 131| loss: 0.21541 | train_mse: 0.11344 | train_mae: 0.26952 |  0:00:13s\n",
      "epoch 132| loss: 0.19389 | train_mse: 0.12047 | train_mae: 0.27918 |  0:00:13s\n"
     ]
    },
    {
     "name": "stdout",
     "output_type": "stream",
     "text": [
      "epoch 133| loss: 0.18968 | train_mse: 0.14319 | train_mae: 0.2971  |  0:00:13s\n",
      "epoch 134| loss: 0.18905 | train_mse: 0.15803 | train_mae: 0.31931 |  0:00:13s\n",
      "epoch 135| loss: 0.29084 | train_mse: 0.16047 | train_mae: 0.32221 |  0:00:13s\n",
      "\n",
      "Early stopping occurred at epoch 135 with best_epoch = 85 and best_train_mae = 0.25795\n",
      "Best weights from best epoch are automatically used!\n"
     ]
    }
   ],
   "source": [
    "#Train the Model\n",
    "\n",
    "Y_train = np.reshape(Y_train, (-1, 1))\n",
    "Y_test = np.reshape(Y_test, (-1, 1))\n",
    "\n",
    "prior_model = TabNetRegressor(optimizer_fn=torch.optim.Adam, optimizer_params=dict(lr = 0.02),\n",
    "          #scheduler_params={\"step_size\":10, ], \"gamma\":0.9},\n",
    "          #scheduler_fn=torch.optim.lr_scheduler.StepLR\n",
    "          )  #TabNetRegressor()\n",
    "\n",
    "prior_model.fit(X_train,Y_train,eval_set=[(X_train, Y_train)],\n",
    "            eval_name=['train'], \n",
    "            eval_metric=[ 'mse', 'mae'], \n",
    "            max_epochs = n_epochs, \n",
    "            batch_size = batch_size,\n",
    "            patience=50\n",
    "            )"
   ]
  },
  {
   "cell_type": "code",
   "execution_count": 10,
   "id": "af65dcda",
   "metadata": {
    "execution": {
     "iopub.execute_input": "2022-06-22T12:55:14.831109Z",
     "iopub.status.busy": "2022-06-22T12:55:14.830018Z",
     "iopub.status.idle": "2022-06-22T12:55:14.856915Z",
     "shell.execute_reply": "2022-06-22T12:55:14.857460Z"
    },
    "id": "af65dcda",
    "papermill": {
     "duration": 0.072358,
     "end_time": "2022-06-22T12:55:14.857687",
     "exception": false,
     "start_time": "2022-06-22T12:55:14.785329",
     "status": "completed"
    },
    "tags": []
   },
   "outputs": [
    {
     "data": {
      "application/scrapbook.scrap.json+json": {
       "data": 0.3857348841593432,
       "encoder": "json",
       "name": "Prior Model MSE",
       "version": 1
      }
     },
     "metadata": {
      "scrapbook": {
       "data": true,
       "display": false,
       "name": "Prior Model MSE"
      }
     },
     "output_type": "display_data"
    },
    {
     "data": {
      "application/scrapbook.scrap.json+json": {
       "data": 1.8063418785501892,
       "encoder": "json",
       "name": "ABC Pre-generator MSE",
       "version": 1
      }
     },
     "metadata": {
      "scrapbook": {
       "data": true,
       "display": false,
       "name": "ABC Pre-generator MSE"
      }
     },
     "output_type": "display_data"
    },
    {
     "data": {
      "application/scrapbook.scrap.json+json": {
       "data": 0.519296149557532,
       "encoder": "json",
       "name": "Prior Model MSE",
       "version": 1
      }
     },
     "metadata": {
      "scrapbook": {
       "data": true,
       "display": false,
       "name": "Prior Model MSE"
      }
     },
     "output_type": "display_data"
    },
    {
     "data": {
      "application/scrapbook.scrap.json+json": {
       "data": 1.162544780743676,
       "encoder": "json",
       "name": "ABC Pre-generator MSE",
       "version": 1
      }
     },
     "metadata": {
      "scrapbook": {
       "data": true,
       "display": false,
       "name": "ABC Pre-generator MSE"
      }
     },
     "output_type": "display_data"
    }
   ],
   "source": [
    "y_pred = prior_model.predict(X_test)\n",
    "y_abc = y_pred + np.random.normal(0,variance, y_pred.shape) + bias \n",
    "mse = mean_squared_error(y_pred,Y_test)\n",
    "sb.glue(\"Prior Model MSE\",mse)\n",
    "mse = mean_squared_error(y_abc,Y_test)\n",
    "sb.glue(\"ABC Pre-generator MSE\",mse)\n",
    "mae = mean_absolute_error(y_pred,Y_test)\n",
    "sb.glue(\"Prior Model MSE\",mae)\n",
    "mae = mean_absolute_error(y_abc,Y_test)\n",
    "sb.glue(\"ABC Pre-generator MSE\",mae)"
   ]
  },
  {
   "cell_type": "markdown",
   "id": "25609da2",
   "metadata": {
    "papermill": {
     "duration": 0.04756,
     "end_time": "2022-06-22T12:55:14.937334",
     "exception": false,
     "start_time": "2022-06-22T12:55:14.889774",
     "status": "completed"
    },
    "tags": []
   },
   "source": [
    "# ABC GAN Model"
   ]
  },
  {
   "cell_type": "code",
   "execution_count": 11,
   "id": "dfc3464d",
   "metadata": {
    "execution": {
     "iopub.execute_input": "2022-06-22T12:55:15.011091Z",
     "iopub.status.busy": "2022-06-22T12:55:15.009581Z",
     "iopub.status.idle": "2022-06-22T12:55:15.013404Z",
     "shell.execute_reply": "2022-06-22T12:55:15.014167Z"
    },
    "papermill": {
     "duration": 0.042893,
     "end_time": "2022-06-22T12:55:15.014410",
     "exception": false,
     "start_time": "2022-06-22T12:55:14.971517",
     "status": "completed"
    },
    "tags": []
   },
   "outputs": [],
   "source": [
    "gen = network.Generator(n_features+1).to(device)\n",
    "disc = network.Discriminator(n_features+1).to(device)\n",
    "\n",
    "criterion = torch.nn.BCELoss()\n",
    "gen_opt = torch.optim.Adam(gen.parameters(), lr=0.001, betas=(0.5, 0.999))\n",
    "disc_opt = torch.optim.Adam(disc.parameters(), lr=0.001, betas=(0.5, 0.999))"
   ]
  },
  {
   "cell_type": "code",
   "execution_count": 12,
   "id": "b75fdd85",
   "metadata": {
    "execution": {
     "iopub.execute_input": "2022-06-22T12:55:15.088374Z",
     "iopub.status.busy": "2022-06-22T12:55:15.087541Z",
     "iopub.status.idle": "2022-06-22T12:56:22.496756Z",
     "shell.execute_reply": "2022-06-22T12:56:22.497289Z"
    },
    "papermill": {
     "duration": 67.450571,
     "end_time": "2022-06-22T12:56:22.497526",
     "exception": false,
     "start_time": "2022-06-22T12:55:15.046955",
     "status": "completed"
    },
    "tags": []
   },
   "outputs": [
    {
     "data": {
      "image/png": "[encoded data removed]",
      "text/plain": [
       "<Figure size 432x288 with 1 Axes>"
      ]
     },
     "metadata": {
      "needs_background": "light"
     },
     "output_type": "display_data"
    },
    {
     "data": {
      "image/png": "[encoded data removed]",
      "text/plain": [
       "<Figure size 432x288 with 1 Axes>"
      ]
     },
     "metadata": {
      "needs_background": "light"
     },
     "output_type": "display_data"
    }
   ],
   "source": [
    "#Training the ABC_GAN \n",
    "ABC_train_test2.training_GAN(disc,gen,disc_opt,gen_opt,train_data,batch_size,n_epochs,criterion,prior_model,variance,bias,device)"
   ]
  },
  {
   "cell_type": "code",
   "execution_count": 13,
   "id": "1fa7c368",
   "metadata": {
    "execution": {
     "iopub.execute_input": "2022-06-22T12:56:22.608099Z",
     "iopub.status.busy": "2022-06-22T12:56:22.607166Z",
     "iopub.status.idle": "2022-06-22T12:56:23.396329Z",
     "shell.execute_reply": "2022-06-22T12:56:23.397217Z"
    },
    "papermill": {
     "duration": 0.868907,
     "end_time": "2022-06-22T12:56:23.397667",
     "exception": false,
     "start_time": "2022-06-22T12:56:22.528760",
     "status": "completed"
    },
    "tags": []
   },
   "outputs": [
    {
     "data": {
      "application/scrapbook.scrap.json+json": {
       "data": 0.5947533204709907,
       "encoder": "json",
       "name": "ABC-GAN Model 1 MSE",
       "version": 1
      }
     },
     "metadata": {
      "scrapbook": {
       "data": true,
       "display": false,
       "name": "ABC-GAN Model 1 MSE"
      }
     },
     "output_type": "display_data"
    },
    {
     "data": {
      "application/scrapbook.scrap.json+json": {
       "data": 0.6365662448592484,
       "encoder": "json",
       "name": "ABC-GAN Model 1 MAE",
       "version": 1
      }
     },
     "metadata": {
      "scrapbook": {
       "data": true,
       "display": false,
       "name": "ABC-GAN Model 1 MAE"
      }
     },
     "output_type": "display_data"
    },
    {
     "data": {
      "application/scrapbook.scrap.json+json": {
       "data": 12.731324897184969,
       "encoder": "json",
       "name": "ABC-GAN Model 1 Manhattan Distance",
       "version": 1
      }
     },
     "metadata": {
      "scrapbook": {
       "data": true,
       "display": false,
       "name": "ABC-GAN Model 1 Manhattan Distance"
      }
     },
     "output_type": "display_data"
    },
    {
     "data": {
      "application/scrapbook.scrap.json+json": {
       "data": 3.4461961168953454,
       "encoder": "json",
       "name": "ABC-GAN Model 1 Euclidean distance",
       "version": 1
      }
     },
     "metadata": {
      "scrapbook": {
       "data": true,
       "display": false,
       "name": "ABC-GAN Model 1 Euclidean distance"
      }
     },
     "output_type": "display_data"
    },
    {
     "data": {
      "application/scrapbook.scrap.json+json": {
       "data": [
        [
         0.6252737703378657,
         0.5281621185184073,
         0.5746600316790555,
         0.6313517641301237,
         0.6037552355859572,
         0.5136540743272766,
         0.6418065611079993,
         0.6858688286667334,
         0.6606766429367923,
         0.5712748837870691,
         0.6187339414475783,
         0.5994701656523302,
         0.545122910174719,
         0.6737103699651842,
         0.5429971460029742,
         0.5498325527159802,
         0.551168132863352,
         0.6004036053193902,
         0.5950248621558666,
         0.6283889810945762,
         0.5814821239006864,
         0.6311425424839039,
         0.6062645951731153,
         0.6149972032374356,
         0.5208219147100699,
         0.5602514308517875,
         0.5659069920588788,
         0.5667532974588141,
         0.5625677357598631,
         0.5404933452114673,
         0.5392146526601767,
         0.5668912457039144,
         0.6405353397037947,
         0.5264270248107863,
         0.6040779311364733,
         0.6517342331444673,
         0.5831347698646955,
         0.6248684073345545,
         0.6583500356798868,
         0.5413770041270899,
         0.6321413186398124,
         0.5964749293729834,
         0.6113266497758595,
         0.612731667878099,
         0.6113096415867718,
         0.5762579672701541,
         0.5898936060650289,
         0.6021638723228773,
         0.5375618573832031,
         0.6970255643834348,
         0.5380254817747492,
         0.5695876617165281,
         0.5695973853541985,
         0.6036690688284804,
         0.558503042435835,
         0.6040515975054307,
         0.5394855639473862,
         0.6827364597439936,
         0.5944639279272893,
         0.612116325790112,
         0.6182408868672551,
         0.5717566320681892,
         0.649563768113197,
         0.642229471562551,
         0.5361379895402856,
         0.5709753608968751,
         0.6296465913787976,
         0.5516924783329105,
         0.5379689250365445,
         0.505358058112021,
         0.6422178340632453,
         0.6662586529191517,
         0.6780261651267422,
         0.5690517044608008,
         0.601090725897296,
         0.5840155038033409,
         0.5784975029274262,
         0.5286085525189419,
         0.6976453283027103,
         0.5443140115486583,
         0.5522348509509593,
         0.5873231256962264,
         0.5243611741591782,
         0.5678040241440702,
         0.6056646539021189,
         0.662237112858991,
         0.6943121597807931,
         0.6306394518620986,
         0.5579796913604165,
         0.5452590147511988,
         0.5915402004152721,
         0.6403980374291331,
         0.49693292185207466,
         0.6330577877000128,
         0.6342281776907355,
         0.5995571677960425,
         0.6295425098426731,
         0.6667922623843662,
         0.6293827184218512,
         0.5550368674405963
        ],
        [
         0.669227253831923,
         0.5762350281700492,
         0.6291541667655111,
         0.6688915709033608,
         0.6474636668339372,
         0.587135842628777,
         0.6810979669913649,
         0.6970375569537282,
         0.6925973268225789,
         0.612528938613832,
         0.6606678472831845,
         0.6590513279661536,
         0.6100605977699161,
         0.6816177839413285,
         0.6022071240469813,
         0.5899454420432448,
         0.6080282548442483,
         0.6357958583161235,
         0.6450639879330993,
         0.6705722698941827,
         0.5879573134705425,
         0.6690429897978902,
         0.659622703306377,
         0.6642824543640018,
         0.5777069283649325,
         0.6068836448714137,
         0.6304280390962959,
         0.6380662424489856,
         0.6108193585649133,
         0.5985762985423208,
         0.6149995328858495,
         0.6034119693562389,
         0.6694792909547687,
         0.5938175881281496,
         0.6383252816274763,
         0.6798262046650052,
         0.6474297871813178,
         0.6605709021911025,
         0.6891169840469956,
         0.5844392331317068,
         0.6698804376646876,
         0.6272394297644496,
         0.6675000665709376,
         0.6550664952024817,
         0.6336819628253579,
         0.6370669784024358,
         0.6432868970558048,
         0.634939911402762,
         0.6034198762848973,
         0.6959555549547076,
         0.5856144705787301,
         0.6257449952885509,
         0.6219032533466816,
         0.6294867346063256,
         0.6144277883693576,
         0.631058363430202,
         0.591116345115006,
         0.7028451947495341,
         0.6228870918974281,
         0.6379771793261171,
         0.6637074841186404,
         0.6086527517065405,
         0.6796902431175113,
         0.6562650600448251,
         0.5700525069609285,
         0.6234328458085656,
         0.681096495501697,
         0.5895062675699592,
         0.5946067417040467,
         0.5744171911850572,
         0.6536850577220321,
         0.6921972805634141,
         0.7107188103720545,
         0.6070644779130816,
         0.6509319694712759,
         0.602753589861095,
         0.6413588637486101,
         0.5710502671077847,
         0.7108326030895114,
         0.623643702082336,
         0.6004235127940774,
         0.6384542329236865,
         0.5994211234152317,
         0.6038625942543149,
         0.6316188098862767,
         0.6816083734855056,
         0.6854294506832957,
         0.6778838248923421,
         0.6128142205998302,
         0.617196217738092,
         0.6243915414437652,
         0.6750852903351188,
         0.5773686649277806,
         0.6688697969540953,
         0.6470436876639724,
         0.6298807671293616,
         0.6518551213666797,
         0.6735890990123152,
         0.6621577249839902,
         0.611724635399878
        ],
        [
         13.38454507663846,
         11.524700563400984,
         12.58308333531022,
         13.377831418067217,
         12.949273336678743,
         11.74271685257554,
         13.6219593398273,
         13.940751139074564,
         13.851946536451578,
         12.25057877227664,
         13.21335694566369,
         13.181026559323072,
         12.201211955398321,
         13.63235567882657,
         12.044142480939627,
         11.798908840864897,
         12.160565096884966,
         12.71591716632247,
         12.901279758661985,
         13.411445397883654,
         11.759146269410849,
         13.380859795957804,
         13.192454066127539,
         13.285649087280035,
         11.55413856729865,
         12.137672897428274,
         12.608560781925917,
         12.761324848979712,
         12.216387171298265,
         11.971525970846415,
         12.29999065771699,
         12.068239387124777,
         13.389585819095373,
         11.87635176256299,
         12.766505632549524,
         13.596524093300104,
         12.948595743626356,
         13.21141804382205,
         13.782339680939913,
         11.688784662634134,
         13.397608753293753,
         12.544788595288992,
         13.350001331418753,
         13.101329904049635,
         12.673639256507158,
         12.741339568048716,
         12.865737941116095,
         12.698798228055239,
         12.068397525697947,
         13.919111099094152,
         11.712289411574602,
         12.514899905771017,
         12.438065066933632,
         12.589734692126513,
         12.288555767387152,
         12.62116726860404,
         11.82232690230012,
         14.056903894990683,
         12.45774183794856,
         12.75954358652234,
         13.274149682372808,
         12.173055034130812,
         13.593804862350225,
         13.125301200896502,
         11.401050139218569,
         12.468656916171312,
         13.621929910033941,
         11.790125351399183,
         11.892134834080935,
         11.488343823701143,
         13.073701154440641,
         13.843945611268282,
         14.214376207441092,
         12.141289558261633,
         13.018639389425516,
         12.055071797221899,
         12.8271772749722,
         11.421005342155695,
         14.216652061790228,
         12.472874041646719,
         12.008470255881548,
         12.76908465847373,
         11.988422468304634,
         12.077251885086298,
         12.632376197725534,
         13.632167469710112,
         13.708589013665915,
         13.557676497846842,
         12.256284411996603,
         12.343924354761839,
         12.487830828875303,
         13.501705806702375,
         11.547373298555613,
         13.377395939081907,
         12.940873753279448,
         12.597615342587233,
         13.037102427333593,
         13.471781980246305,
         13.243154499679804,
         12.23449270799756
        ],
        [
         3.536308160604406,
         3.2501142088191535,
         3.3901623314497953,
         3.553453993314459,
         3.47492513757047,
         3.20516481425613,
         3.5827546974583657,
         3.7036976892471487,
         3.6350423462094423,
         3.3801623741680493,
         3.517766170306316,
         3.4625717773133027,
         3.3018870670412674,
         3.6707230077062043,
         3.2954427502324304,
         3.316119879364979,
         3.320144975338733,
         3.465266527467665,
         3.449709733168478,
         3.5451064330837125,
         3.410226162296825,
         3.5528651606383934,
         3.48213898393822,
         3.507127608848688,
         3.2274507423354115,
         3.347391315193931,
         3.3642443194835865,
         3.366758968084333,
         3.3543039091885016,
         3.287836203984217,
         3.2839447396695842,
         3.3671686791840836,
         3.579204771185339,
         3.2447712548368837,
         3.4758536538136164,
         3.610357968801619,
         3.415068871530106,
         3.5351616860747814,
         3.6286362057386987,
         3.2905227673641466,
         3.555675234438073,
         3.453910622390173,
         3.496645963708249,
         3.5006618456460457,
         3.4965973219310564,
         3.394872507974797,
         3.434803068780011,
         3.4703425546273596,
         3.2789079199733657,
         3.733699410459912,
         3.2803215750128802,
         3.3751671416880327,
         3.3751959509166234,
         3.4746771614884753,
         3.3421640966171458,
         3.4757778913659907,
         3.2847695929772187,
         3.695230601042358,
         3.4480833166479297,
         3.4989036162492733,
         3.516364278248928,
         3.381587296132362,
         3.604341182832716,
         3.583934908902646,
         3.2745625342640365,
         3.3792761381599905,
         3.548652114194339,
         3.3217238847710098,
         3.280149158305288,
         3.1791761766596736,
         3.5839024374646287,
         3.6503661540156536,
         3.6824615819496125,
         3.373578825107843,
         3.4672488399227883,
         3.417646862399159,
         3.4014629291745226,
         3.2514875134896086,
         3.7353589608033935,
         3.2994363504958186,
         3.3233562883054204,
         3.427311265981619,
         3.2383982897697376,
         3.369878407729484,
         3.480415647310301,
         3.6393326664623307,
         3.726424988593741,
         3.5514488645117743,
         3.3405978248224266,
         3.3022992437124734,
         3.4395935818502514,
         3.5788211395070673,
         3.152563787941728,
         3.5582517833903013,
         3.56153949210376,
         3.4628230327177922,
         3.5483588032854656,
         3.651827658541313,
         3.5479084498387254,
         3.3317769056183715
        ]
       ],
       "encoder": "json",
       "name": "ABC_GAN_1 Metrics",
       "version": 1
      }
     },
     "metadata": {
      "scrapbook": {
       "data": true,
       "display": false,
       "name": "ABC_GAN_1 Metrics"
      }
     },
     "output_type": "display_data"
    },
    {
     "name": "stdout",
     "output_type": "stream",
     "text": [
      "MSE\n",
      "0.5947533204709907\n"
     ]
    }
   ],
   "source": [
    "ABC_GAN1_metrics=ABC_train_test2.test_generator(gen,test_data,prior_model,variance,bias,\"1\",device)\n",
    "sb.glue(\"ABC_GAN_1 Metrics\",ABC_GAN1_metrics)\n",
    "\n",
    "print(\"MSE\")\n",
    "print(mean(ABC_GAN1_metrics[0]))"
   ]
  },
  {
   "cell_type": "code",
   "execution_count": 14,
   "id": "eb22ce5c",
   "metadata": {
    "execution": {
     "iopub.execute_input": "2022-06-22T12:56:23.638730Z",
     "iopub.status.busy": "2022-06-22T12:56:23.637906Z",
     "iopub.status.idle": "2022-06-22T12:56:24.406295Z",
     "shell.execute_reply": "2022-06-22T12:56:24.406911Z"
    },
    "papermill": {
     "duration": 0.961477,
     "end_time": "2022-06-22T12:56:24.407135",
     "exception": false,
     "start_time": "2022-06-22T12:56:23.445658",
     "status": "completed"
    },
    "tags": []
   },
   "outputs": [
    {
     "data": {
      "image/png": "[encoded data removed]",
      "text/plain": [
       "<Figure size 432x288 with 1 Axes>"
      ]
     },
     "metadata": {
      "needs_background": "light"
     },
     "output_type": "display_data"
    },
    {
     "data": {
      "image/png": "[encoded data removed]",
      "text/plain": [
       "<Figure size 432x288 with 1 Axes>"
      ]
     },
     "metadata": {
      "needs_background": "light"
     },
     "output_type": "display_data"
    },
    {
     "data": {
      "image/png": "[encoded data removed]",
      "text/plain": [
       "<Figure size 432x288 with 1 Axes>"
      ]
     },
     "metadata": {
      "needs_background": "light"
     },
     "output_type": "display_data"
    },
    {
     "data": {
      "image/png": "[encoded data removed]",
      "text/plain": [
       "<Figure size 432x288 with 1 Axes>"
      ]
     },
     "metadata": {
      "needs_background": "light"
     },
     "output_type": "display_data"
    }
   ],
   "source": [
    "sanityChecks.discProbVsError(train_data,disc,device)\n",
    "sanityChecks.discProbVsError(test_data,disc,device)"
   ]
  },
  {
   "cell_type": "markdown",
   "id": "130f3a4d",
   "metadata": {
    "id": "130f3a4d",
    "papermill": {
     "duration": 0.049279,
     "end_time": "2022-06-22T12:56:24.498358",
     "exception": false,
     "start_time": "2022-06-22T12:56:24.449079",
     "status": "completed"
    },
    "tags": []
   },
   "source": [
    "# ABC - GAN Model with skip connection"
   ]
  },
  {
   "cell_type": "code",
   "execution_count": 15,
   "id": "4e43dad1",
   "metadata": {
    "execution": {
     "iopub.execute_input": "2022-06-22T12:56:24.589462Z",
     "iopub.status.busy": "2022-06-22T12:56:24.588688Z",
     "iopub.status.idle": "2022-06-22T12:56:24.593640Z",
     "shell.execute_reply": "2022-06-22T12:56:24.594326Z"
    },
    "id": "4e43dad1",
    "papermill": {
     "duration": 0.054427,
     "end_time": "2022-06-22T12:56:24.594561",
     "exception": false,
     "start_time": "2022-06-22T12:56:24.540134",
     "status": "completed"
    },
    "tags": []
   },
   "outputs": [],
   "source": [
    "#Generator\n",
    "gen3 = network.GeneratorWithSkipConnection(n_features+1).to(device)\n",
    "constraints=network.weightConstraint()\n",
    "#Discriminator \n",
    "disc3 = network.Discriminator(n_features+1).to(device)\n",
    "\n",
    "criterion = torch.nn.BCELoss()\n",
    "gen_opt = torch.optim.Adam(gen3.parameters(), lr=0.001, betas=(0.5, 0.999))\n",
    "disc_opt = torch.optim.Adam(disc3.parameters(), lr=0.001, betas=(0.5, 0.999))\n"
   ]
  },
  {
   "cell_type": "code",
   "execution_count": 16,
   "id": "26acbc37",
   "metadata": {
    "execution": {
     "iopub.execute_input": "2022-06-22T12:56:24.699077Z",
     "iopub.status.busy": "2022-06-22T12:56:24.698269Z",
     "iopub.status.idle": "2022-06-22T12:57:57.668714Z",
     "shell.execute_reply": "2022-06-22T12:57:57.669291Z"
    },
    "id": "26acbc37",
    "papermill": {
     "duration": 93.034622,
     "end_time": "2022-06-22T12:57:57.669584",
     "exception": false,
     "start_time": "2022-06-22T12:56:24.634962",
     "status": "completed"
    },
    "tags": []
   },
   "outputs": [
    {
     "data": {
      "image/png": "[encoded data removed]",
      "text/plain": [
       "<Figure size 432x288 with 1 Axes>"
      ]
     },
     "metadata": {
      "needs_background": "light"
     },
     "output_type": "display_data"
    },
    {
     "data": {
      "image/png": "[encoded data removed]",
      "text/plain": [
       "<Figure size 432x288 with 1 Axes>"
      ]
     },
     "metadata": {
      "needs_background": "light"
     },
     "output_type": "display_data"
    }
   ],
   "source": [
    "ABC_train_test2.training_GAN_skip_connection(disc3,gen3,disc_opt,gen_opt,train_data,batch_size,n_epochs,criterion,prior_model,variance,bias,device)"
   ]
  },
  {
   "cell_type": "code",
   "execution_count": 17,
   "id": "c5e0717b",
   "metadata": {
    "execution": {
     "iopub.execute_input": "2022-06-22T12:57:57.864976Z",
     "iopub.status.busy": "2022-06-22T12:57:57.864029Z",
     "iopub.status.idle": "2022-06-22T12:57:58.944125Z",
     "shell.execute_reply": "2022-06-22T12:57:58.944636Z"
    },
    "id": "c5e0717b",
    "papermill": {
     "duration": 1.222018,
     "end_time": "2022-06-22T12:57:58.944871",
     "exception": false,
     "start_time": "2022-06-22T12:57:57.722853",
     "status": "completed"
    },
    "tags": []
   },
   "outputs": [
    {
     "data": {
      "application/scrapbook.scrap.json+json": {
       "data": 0.5227804056896801,
       "encoder": "json",
       "name": "ABC-GAN Model 3 MSE",
       "version": 1
      }
     },
     "metadata": {
      "scrapbook": {
       "data": true,
       "display": false,
       "name": "ABC-GAN Model 3 MSE"
      }
     },
     "output_type": "display_data"
    },
    {
     "data": {
      "application/scrapbook.scrap.json+json": {
       "data": 0.5890001878179609,
       "encoder": "json",
       "name": "ABC-GAN Model 3 MAE",
       "version": 1
      }
     },
     "metadata": {
      "scrapbook": {
       "data": true,
       "display": false,
       "name": "ABC-GAN Model 3 MAE"
      }
     },
     "output_type": "display_data"
    },
    {
     "data": {
      "application/scrapbook.scrap.json+json": {
       "data": 11.78000375635922,
       "encoder": "json",
       "name": "ABC-GAN Model 3 Manhattan Distance",
       "version": 1
      }
     },
     "metadata": {
      "scrapbook": {
       "data": true,
       "display": false,
       "name": "ABC-GAN Model 3 Manhattan Distance"
      }
     },
     "output_type": "display_data"
    },
    {
     "data": {
      "application/scrapbook.scrap.json+json": {
       "data": 3.229763274126116,
       "encoder": "json",
       "name": "ABC-GAN Model 3 Euclidean distance",
       "version": 1
      }
     },
     "metadata": {
      "scrapbook": {
       "data": true,
       "display": false,
       "name": "ABC-GAN Model 3 Euclidean distance"
      }
     },
     "output_type": "display_data"
    },
    {
     "data": {
      "application/scrapbook.scrap.json+json": {
       "data": [
        [
         0.5395366626840907,
         0.5685333639549629,
         0.5466436450182017,
         0.5235971208646818,
         0.5169902969933565,
         0.4511870336950922,
         0.5070477461373921,
         0.51522631377707,
         0.5101374320431006,
         0.4883618673245472,
         0.47384342570101695,
         0.5047571532648204,
         0.512624214853806,
         0.46470816321181463,
         0.5020416635000393,
         0.4748718577205066,
         0.5506227166563417,
         0.5138450513475741,
         0.5463455683606485,
         0.5076552310111844,
         0.5155095671725443,
         0.5382475025584024,
         0.5888757588888044,
         0.5149726511181676,
         0.5677361064293465,
         0.5693045465668204,
         0.5608305441206868,
         0.5374861379433152,
         0.5021413845647593,
         0.4665906188792361,
         0.559868644317666,
         0.39372312180627145,
         0.45996586243513776,
         0.44150220821563096,
         0.4376124584796516,
         0.5016270110905413,
         0.5283718268109234,
         0.5167663405177587,
         0.5802707400946556,
         0.5256438032822086,
         0.6225608762527317,
         0.578113281154905,
         0.4800663233618421,
         0.5069548268268791,
         0.6032290524341588,
         0.5851829132528202,
         0.49772975490683036,
         0.4563794105814731,
         0.5406301059792652,
         0.4918400011723175,
         0.48684649286808507,
         0.4987201561515329,
         0.4773344332129823,
         0.4894936231793633,
         0.43371769936121485,
         0.4988375575954686,
         0.5197333700329576,
         0.48799182342055997,
         0.5328373634701256,
         0.4479369778893127,
         0.5364043519301637,
         0.49896933084390493,
         0.4990361888518728,
         0.4965572323313028,
         0.6006191880703629,
         0.5895118340036796,
         0.5781296089087352,
         0.45966505669789476,
         0.5726822742749441,
         0.5428515726984049,
         0.5424050771175981,
         0.4718898673667568,
         0.5605526620945268,
         0.5460318792503372,
         0.3713429084238472,
         0.5727735902715491,
         0.5484491751995796,
         0.5365218758574702,
         0.5019246637344515,
         0.5535376758807049,
         0.5104083978510582,
         0.5087447169867854,
         0.636886689341756,
         0.5622568108525791,
         0.6766733374932368,
         0.5173170555358808,
         0.5367932665818594,
         0.45242899869946074,
         0.563638696796458,
         0.5507684080736146,
         0.48312419849509813,
         0.5943071474425933,
         0.5140540543941585,
         0.6049206047464153,
         0.5154205153004392,
         0.5273417834069901,
         0.5451095152352169,
         0.6177914118935085,
         0.5006112158704527,
         0.5178283236447628
        ],
        [
         0.5945363694801926,
         0.6073561297729612,
         0.627370317466557,
         0.6125158341601491,
         0.5806746387854218,
         0.5506954776123166,
         0.5820835473015904,
         0.5495038161054253,
         0.5797441439703107,
         0.5595130691304803,
         0.5769281769171357,
         0.5782393770292401,
         0.593559499271214,
         0.555552482791245,
         0.5842954332008958,
         0.561407190002501,
         0.6303792992606759,
         0.5928185159340501,
         0.6185798408463598,
         0.5835187787190079,
         0.584664331562817,
         0.6192588111385703,
         0.6182517504319549,
         0.5901895398274064,
         0.6524457031860947,
         0.6339777009561658,
         0.6387318463996052,
         0.583188402093947,
         0.5581237720325589,
         0.553909276612103,
         0.6063880464062095,
         0.5019863465800881,
         0.5268056830391288,
         0.5425705874338747,
         0.5278527526184916,
         0.5555377976968885,
         0.5842541115358472,
         0.5844880016520619,
         0.6355221481993795,
         0.6007394855841994,
         0.658458155579865,
         0.6175970988348126,
         0.5622773947194218,
         0.5704750081524252,
         0.6219845818355679,
         0.606021243520081,
         0.5592637682333589,
         0.5386602910235524,
         0.5667223559692502,
         0.5884597050026059,
         0.5876137213781476,
         0.5673975678160786,
         0.574625757150352,
         0.5614709815010428,
         0.503919936157763,
         0.5672159167006612,
         0.5823911217972636,
         0.5559013174846769,
         0.5941209325566887,
         0.5656016642227769,
         0.5884479692205786,
         0.56105234939605,
         0.5548092806711793,
         0.579883381165564,
         0.6445525275543332,
         0.6222744898870587,
         0.6350350813940168,
         0.5839583383873105,
         0.6428505720570683,
         0.6121358135715127,
         0.5877408670261502,
         0.5368992345407605,
         0.6022940341383218,
         0.6005563633516431,
         0.4909233221784234,
         0.6351761946454644,
         0.5849325763061642,
         0.5994642844423652,
         0.5681505152955652,
         0.6033054756000638,
         0.6138007348403335,
         0.5687432384118438,
         0.636307661421597,
         0.617038905620575,
         0.6979806812480092,
         0.5795082064345479,
         0.6209512414410711,
         0.5497961023822426,
         0.6184336746111512,
         0.6196250917389989,
         0.5587329344823957,
         0.6252356642857194,
         0.5851674037054181,
         0.6506767982617021,
         0.5924131589010357,
         0.5826077284291387,
         0.5974440829828381,
         0.6296232854947448,
         0.5688083769753576,
         0.5843445869162679
        ],
        [
         11.890727389603853,
         12.147122595459223,
         12.54740634933114,
         12.250316683202982,
         11.613492775708437,
         11.013909552246332,
         11.641670946031809,
         10.990076322108507,
         11.594882879406214,
         11.190261382609606,
         11.538563538342714,
         11.564787540584803,
         11.87118998542428,
         11.1110496558249,
         11.685908664017916,
         11.22814380005002,
         12.607585985213518,
         11.856370318681002,
         12.371596816927195,
         11.67037557438016,
         11.693286631256342,
         12.385176222771406,
         12.365035008639097,
         11.803790796548128,
         13.048914063721895,
         12.679554019123316,
         12.774636927992105,
         11.663768041878939,
         11.162475440651178,
         11.07818553224206,
         12.12776092812419,
         10.039726931601763,
         10.536113660782576,
         10.851411748677492,
         10.557055052369833,
         11.110755953937769,
         11.685082230716944,
         11.689760033041239,
         12.710442963987589,
         12.014789711683989,
         13.1691631115973,
         12.351941976696253,
         11.245547894388437,
         11.409500163048506,
         12.439691636711359,
         12.12042487040162,
         11.185275364667177,
         10.773205820471048,
         11.334447119385004,
         11.769194100052118,
         11.752274427562952,
         11.347951356321573,
         11.49251514300704,
         11.229419630020857,
         10.07839872315526,
         11.344318334013224,
         11.647822435945272,
         11.118026349693537,
         11.882418651133776,
         11.312033284455538,
         11.768959384411573,
         11.221046987921,
         11.096185613423586,
         11.597667623311281,
         12.891050551086664,
         12.445489797741175,
         12.700701627880335,
         11.67916676774621,
         12.857011441141367,
         12.242716271430254,
         11.754817340523005,
         10.73798469081521,
         12.045880682766438,
         12.011127267032862,
         9.818466443568468,
         12.703523892909288,
         11.698651526123285,
         11.989285688847303,
         11.363010305911303,
         12.066109512001276,
         12.27601469680667,
         11.374864768236876,
         12.72615322843194,
         12.340778112411499,
         13.959613624960184,
         11.590164128690958,
         12.41902482882142,
         10.995922047644854,
         12.368673492223024,
         12.392501834779978,
         11.174658689647913,
         12.504713285714388,
         11.703348074108362,
         13.013535965234041,
         11.848263178020716,
         11.652154568582773,
         11.948881659656763,
         12.592465709894896,
         11.37616753950715,
         11.686891738325357
        ],
        [
         3.2849251519147007,
         3.372042004349777,
         3.3064895131187155,
         3.236038074141532,
         3.2155568631058493,
         3.00395417306953,
         3.1844866026956122,
         3.2100663973727084,
         3.1941741719671475,
         3.1252579647912175,
         3.0784522919838047,
         3.1772854869048843,
         3.201950077230456,
         3.048633015670514,
         3.168727389663047,
         3.0817912249875286,
         3.3185018205700647,
         3.2057606003804286,
         3.3055879003912407,
         3.186393670001196,
         3.2109486672089425,
         3.28099833147901,
         3.4318384544987097,
         3.209276090080651,
         3.3696768581849104,
         3.3743282192662307,
         3.3491209118832566,
         3.2786769830018794,
         3.1690420778675668,
         3.054801528345945,
         3.346247582943217,
         2.8061472584533815,
         3.0330376273140356,
         2.971539022848702,
         2.958420046172117,
         3.167418542253427,
         3.250759378394296,
         3.2148603096176935,
         3.406672100730141,
         3.242356560534972,
         3.528628278106754,
         3.4003331635441407,
         3.098600727302058,
         3.1841948019142268,
         3.473410578765945,
         3.421060985287518,
         3.1550903470640277,
         3.021189866861972,
         3.288252137471411,
         3.136367329163845,
         3.120405399521303,
         3.1582278453320396,
         3.089771620081272,
         3.128877188958887,
         2.9452256258603176,
         3.1585995554848942,
         3.224076208878933,
         3.124073697660028,
         3.2644673791297887,
         2.993115359919536,
         3.275375862187922,
         3.1590167167772476,
         3.159228351518367,
         3.1513718673977618,
         3.465888596219916,
         3.433691407228319,
         3.400381181305223,
         3.032045701165782,
         3.3843234900787604,
         3.295000979357684,
         3.293645630961528,
         3.0720998270458493,
         3.3482910927651632,
         3.304638797963666,
         2.7252262600519876,
         3.3845932998561263,
         3.311945576846273,
         3.275734653043406,
         3.1683581354842185,
         3.3272741873212217,
         3.1950223719124664,
         3.1898110194391935,
         3.568996187562424,
         3.3533768379130287,
         3.678786042958293,
         3.216572882854921,
         3.2765630364205096,
         3.008085765730295,
         3.3574951877745347,
         3.318940819218127,
         3.108453630006722,
         3.4476285978701164,
         3.2064124949674166,
         3.478277173390342,
         3.2106713170314998,
         3.24758920864998,
         3.3018464992643644,
         3.5150858080380014,
         3.164209904132318,
         3.218161971202701
        ]
       ],
       "encoder": "json",
       "name": "ABC_GAN_3 Metrics",
       "version": 1
      }
     },
     "metadata": {
      "scrapbook": {
       "data": true,
       "display": false,
       "name": "ABC_GAN_3 Metrics"
      }
     },
     "output_type": "display_data"
    },
    {
     "name": "stdout",
     "output_type": "stream",
     "text": [
      "MSE\n",
      "0.5227804056896801\n"
     ]
    }
   ],
   "source": [
    "ABC_GAN3_metrics=ABC_train_test2.test_generator(gen3,test_data,prior_model,variance,bias,\"3\",device)\n",
    "sb.glue(\"ABC_GAN_3 Metrics\",ABC_GAN3_metrics)\n",
    "\n",
    "print(\"MSE\")\n",
    "print(mean(ABC_GAN3_metrics[0]))"
   ]
  },
  {
   "cell_type": "code",
   "execution_count": 18,
   "id": "c8e46b48",
   "metadata": {
    "execution": {
     "iopub.execute_input": "2022-06-22T12:57:59.055520Z",
     "iopub.status.busy": "2022-06-22T12:57:59.054378Z",
     "iopub.status.idle": "2022-06-22T12:58:00.158484Z",
     "shell.execute_reply": "2022-06-22T12:58:00.159098Z"
    },
    "id": "c8e46b48",
    "papermill": {
     "duration": 1.168231,
     "end_time": "2022-06-22T12:58:00.159310",
     "exception": false,
     "start_time": "2022-06-22T12:57:58.991079",
     "status": "completed"
    },
    "tags": []
   },
   "outputs": [
    {
     "data": {
      "image/png": "[encoded data removed]",
      "text/plain": [
       "<Figure size 432x288 with 1 Axes>"
      ]
     },
     "metadata": {
      "needs_background": "light"
     },
     "output_type": "display_data"
    },
    {
     "data": {
      "image/png": "[encoded data removed]",
      "text/plain": [
       "<Figure size 432x288 with 1 Axes>"
      ]
     },
     "metadata": {
      "needs_background": "light"
     },
     "output_type": "display_data"
    },
    {
     "data": {
      "image/png": "[encoded data removed]",
      "text/plain": [
       "<Figure size 432x288 with 1 Axes>"
      ]
     },
     "metadata": {
      "needs_background": "light"
     },
     "output_type": "display_data"
    },
    {
     "data": {
      "image/png": "[encoded data removed]",
      "text/plain": [
       "<Figure size 432x288 with 1 Axes>"
      ]
     },
     "metadata": {
      "needs_background": "light"
     },
     "output_type": "display_data"
    }
   ],
   "source": [
    "sanityChecks.discProbVsError(train_data,disc3,device)\n",
    "sanityChecks.discProbVsError(test_data,disc3,device)"
   ]
  },
  {
   "cell_type": "markdown",
   "id": "a5bd74c3",
   "metadata": {
    "id": "a5bd74c3",
    "papermill": {
     "duration": 0.11258,
     "end_time": "2022-06-22T12:58:00.344898",
     "exception": false,
     "start_time": "2022-06-22T12:58:00.232318",
     "status": "completed"
    },
    "tags": []
   },
   "source": [
    "## Skip Connection Model Analysis - ABC-GAN "
   ]
  },
  {
   "cell_type": "markdown",
   "id": "5744a8bf",
   "metadata": {
    "id": "5744a8bf",
    "papermill": {
     "duration": 0.076556,
     "end_time": "2022-06-22T12:58:00.487325",
     "exception": false,
     "start_time": "2022-06-22T12:58:00.410769",
     "status": "completed"
    },
    "tags": []
   },
   "source": [
    "### Weight Analysis \n",
    "\n",
    "Study the weights of the skip connection layer\n",
    "\n",
    "Equation of the skip connection is \n",
    "\n",
    "$output = y_{gan} * w + y_{abc} * (1-w)$"
   ]
  },
  {
   "cell_type": "code",
   "execution_count": 19,
   "id": "52c31dea",
   "metadata": {
    "execution": {
     "iopub.execute_input": "2022-06-22T12:58:00.613389Z",
     "iopub.status.busy": "2022-06-22T12:58:00.612630Z",
     "iopub.status.idle": "2022-06-22T12:58:00.622973Z",
     "shell.execute_reply": "2022-06-22T12:58:00.623584Z"
    },
    "id": "52c31dea",
    "papermill": {
     "duration": 0.081122,
     "end_time": "2022-06-22T12:58:00.623815",
     "exception": false,
     "start_time": "2022-06-22T12:58:00.542693",
     "status": "completed"
    },
    "tags": []
   },
   "outputs": [
    {
     "name": "stdout",
     "output_type": "stream",
     "text": [
      "Weight of the node at skip connection\n",
      "Parameter containing:\n",
      "tensor([[0.4596]], requires_grad=True)\n"
     ]
    },
    {
     "data": {
      "application/scrapbook.scrap.json+json": {
       "data": 0.4595688283443451,
       "encoder": "json",
       "name": "Skip Connection Weight",
       "version": 1
      }
     },
     "metadata": {
      "scrapbook": {
       "data": true,
       "display": false,
       "name": "Skip Connection Weight"
      }
     },
     "output_type": "display_data"
    }
   ],
   "source": [
    "print(\"Weight of the node at skip connection\")\n",
    "for name,param in gen3.named_parameters():\n",
    "    if(name == \"skipNode.weight\"):\n",
    "        print(param)\n",
    "        sb.glue(\"Skip Connection Weight\",param.item())"
   ]
  }
 ],
 "metadata": {
  "colab": {
   "collapsed_sections": [],
   "name": "ABC_GAN_Model-Catboost_Pre-gen.ipynb",
   "provenance": []
  },
  "interpreter": {
   "hash": "31f2aee4e71d21fbe5cf8b01ff0e069b9275f58929596ceb00d14d90e3e16cd6"
  },
  "kernelspec": {
   "display_name": "Python 3 (ipykernel)",
   "language": "python",
   "name": "python3"
  },
  "language_info": {
   "codemirror_mode": {
    "name": "ipython",
    "version": 3
   },
   "file_extension": ".py",
   "mimetype": "text/x-python",
   "name": "python",
   "nbconvert_exporter": "python",
   "pygments_lexer": "ipython3",
   "version": "3.8.3"
  },
  "papermill": {
   "default_parameters": {},
   "duration": 197.340302,
   "end_time": "2022-06-22T12:58:02.351570",
   "environment_variables": {},
   "exception": null,
   "input_path": "ABC_GAN-TabNet.ipynb",
   "output_path": "./ABC_GAN_TabNet/ABC-GAN_output_4_0.ipynb",
   "parameters": {
    "bias": 1,
    "variance": 1
   },
   "start_time": "2022-06-22T12:54:45.011268",
   "version": "2.3.3"
  }
 },
 "nbformat": 4,
 "nbformat_minor": 5
}