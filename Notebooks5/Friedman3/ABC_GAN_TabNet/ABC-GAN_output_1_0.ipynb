{
 "cells": [
  {
   "cell_type": "markdown",
   "id": "622780e6",
   "metadata": {
    "id": "622780e6",
    "papermill": {
     "duration": 0.020401,
     "end_time": "2022-06-22T11:21:18.143335",
     "exception": false,
     "start_time": "2022-06-22T11:21:18.122934",
     "status": "completed"
    },
    "tags": []
   },
   "source": [
    "## Import Libraries "
   ]
  },
  {
   "cell_type": "code",
   "execution_count": 1,
   "id": "a62397e3",
   "metadata": {
    "execution": {
     "iopub.execute_input": "2022-06-22T11:21:18.193620Z",
     "iopub.status.busy": "2022-06-22T11:21:18.187597Z",
     "iopub.status.idle": "2022-06-22T11:21:18.198689Z",
     "shell.execute_reply": "2022-06-22T11:21:18.196459Z"
    },
    "id": "a62397e3",
    "papermill": {
     "duration": 0.040133,
     "end_time": "2022-06-22T11:21:18.200577",
     "exception": false,
     "start_time": "2022-06-22T11:21:18.160444",
     "status": "completed"
    },
    "tags": []
   },
   "outputs": [],
   "source": [
    "import warnings\n",
    "import sys\n",
    "sys.path.insert(0, '../../src')\n",
    "warnings.filterwarnings('ignore')"
   ]
  },
  {
   "cell_type": "code",
   "execution_count": 2,
   "id": "d6a4e155",
   "metadata": {
    "execution": {
     "iopub.execute_input": "2022-06-22T11:21:18.328838Z",
     "iopub.status.busy": "2022-06-22T11:21:18.325387Z",
     "iopub.status.idle": "2022-06-22T11:21:26.049954Z",
     "shell.execute_reply": "2022-06-22T11:21:26.050605Z"
    },
    "id": "d6a4e155",
    "papermill": {
     "duration": 7.825526,
     "end_time": "2022-06-22T11:21:26.050870",
     "exception": false,
     "start_time": "2022-06-22T11:21:18.225344",
     "status": "completed"
    },
    "tags": []
   },
   "outputs": [],
   "source": [
    "import ABC_train_test2\n",
    "import friedman3Dataset\n",
    "import network\n",
    "import dataset\n",
    "import sanityChecks\n",
    "import torch \n",
    "import scrapbook as sb\n",
    "from statistics import mean \n",
    "import catboost as ctb \n",
    "from sklearn.model_selection import train_test_split\n",
    "from sklearn.metrics import mean_squared_error,mean_absolute_error\n",
    "import numpy as np\n",
    "from pytorch_tabnet.tab_model import TabNetRegressor"
   ]
  },
  {
   "cell_type": "markdown",
   "id": "2fa5b0f7",
   "metadata": {
    "id": "2fa5b0f7",
    "papermill": {
     "duration": 0.018357,
     "end_time": "2022-06-22T11:21:26.086189",
     "exception": false,
     "start_time": "2022-06-22T11:21:26.067832",
     "status": "completed"
    },
    "tags": []
   },
   "source": [
    "## Parameters "
   ]
  },
  {
   "cell_type": "code",
   "execution_count": 3,
   "id": "783186fb",
   "metadata": {
    "execution": {
     "iopub.execute_input": "2022-06-22T11:21:26.124889Z",
     "iopub.status.busy": "2022-06-22T11:21:26.123869Z",
     "iopub.status.idle": "2022-06-22T11:21:26.126650Z",
     "shell.execute_reply": "2022-06-22T11:21:26.127278Z"
    },
    "id": "783186fb",
    "papermill": {
     "duration": 0.024321,
     "end_time": "2022-06-22T11:21:26.127510",
     "exception": false,
     "start_time": "2022-06-22T11:21:26.103189",
     "status": "completed"
    },
    "tags": [
     "parameters"
    ]
   },
   "outputs": [],
   "source": [
    "variance = 1\n",
    "bias = 1 "
   ]
  },
  {
   "cell_type": "code",
   "execution_count": 4,
   "id": "c63db58b",
   "metadata": {
    "execution": {
     "iopub.execute_input": "2022-06-22T11:21:26.160537Z",
     "iopub.status.busy": "2022-06-22T11:21:26.159728Z",
     "iopub.status.idle": "2022-06-22T11:21:26.161539Z",
     "shell.execute_reply": "2022-06-22T11:21:26.162062Z"
    },
    "papermill": {
     "duration": 0.018687,
     "end_time": "2022-06-22T11:21:26.162257",
     "exception": false,
     "start_time": "2022-06-22T11:21:26.143570",
     "status": "completed"
    },
    "tags": [
     "injected-parameters"
    ]
   },
   "outputs": [],
   "source": [
    "# Parameters\n",
    "variance = 1\n",
    "bias = 1\n"
   ]
  },
  {
   "cell_type": "markdown",
   "id": "391cdbfd",
   "metadata": {
    "id": "391cdbfd",
    "papermill": {
     "duration": 0.020743,
     "end_time": "2022-06-22T11:21:26.196574",
     "exception": false,
     "start_time": "2022-06-22T11:21:26.175831",
     "status": "completed"
    },
    "tags": []
   },
   "source": [
    "## Dataset \n"
   ]
  },
  {
   "cell_type": "code",
   "execution_count": 5,
   "id": "5b51f161",
   "metadata": {
    "execution": {
     "iopub.execute_input": "2022-06-22T11:21:26.239901Z",
     "iopub.status.busy": "2022-06-22T11:21:26.239005Z",
     "iopub.status.idle": "2022-06-22T11:21:26.241205Z",
     "shell.execute_reply": "2022-06-22T11:21:26.241807Z"
    },
    "id": "5b51f161",
    "papermill": {
     "duration": 0.023447,
     "end_time": "2022-06-22T11:21:26.242036",
     "exception": false,
     "start_time": "2022-06-22T11:21:26.218589",
     "status": "completed"
    },
    "tags": []
   },
   "outputs": [],
   "source": [
    "#Parameters \n",
    "n_features = 4\n",
    "n_samples= 100\n",
    "n_target = 1"
   ]
  },
  {
   "cell_type": "code",
   "execution_count": 6,
   "id": "5d6eced4",
   "metadata": {
    "execution": {
     "iopub.execute_input": "2022-06-22T11:21:26.276839Z",
     "iopub.status.busy": "2022-06-22T11:21:26.275007Z",
     "iopub.status.idle": "2022-06-22T11:21:26.292844Z",
     "shell.execute_reply": "2022-06-22T11:21:26.293386Z"
    },
    "id": "5d6eced4",
    "papermill": {
     "duration": 0.036981,
     "end_time": "2022-06-22T11:21:26.293609",
     "exception": false,
     "start_time": "2022-06-22T11:21:26.256628",
     "status": "completed"
    },
    "tags": []
   },
   "outputs": [
    {
     "name": "stdout",
     "output_type": "stream",
     "text": [
      "          X1           X2        X3         X4         Y\n",
      "0  93.967284   508.529859  0.018941   7.570746  0.148281\n",
      "1   1.630623   724.847768  0.474227  10.822037  1.573741\n",
      "2  72.794161   414.939228  0.219901  10.148976  0.929168\n",
      "3  85.275281   898.671916  0.681027   1.297289  1.348047\n",
      "4  78.459530  1285.039546  0.999926   1.130147  1.322534\n"
     ]
    }
   ],
   "source": [
    "X,Y = friedman3Dataset.friedman3_data(n_samples)"
   ]
  },
  {
   "cell_type": "code",
   "execution_count": 7,
   "id": "fe007438",
   "metadata": {
    "execution": {
     "iopub.execute_input": "2022-06-22T11:21:26.336344Z",
     "iopub.status.busy": "2022-06-22T11:21:26.335562Z",
     "iopub.status.idle": "2022-06-22T11:21:26.338764Z",
     "shell.execute_reply": "2022-06-22T11:21:26.339452Z"
    },
    "id": "fe007438",
    "papermill": {
     "duration": 0.029991,
     "end_time": "2022-06-22T11:21:26.339979",
     "exception": false,
     "start_time": "2022-06-22T11:21:26.309988",
     "status": "completed"
    },
    "tags": []
   },
   "outputs": [],
   "source": [
    "#Train test split for dataset \n",
    "X_train,X_test,Y_train,Y_test = train_test_split(X,Y,test_size = 0.2)\n",
    "train_data = dataset.CustomDataset(X_train,Y_train)\n",
    "test_data = dataset.CustomDataset(X_test,Y_test)\n"
   ]
  },
  {
   "cell_type": "markdown",
   "id": "a9a1af34",
   "metadata": {
    "id": "a9a1af34",
    "papermill": {
     "duration": 0.014954,
     "end_time": "2022-06-22T11:21:26.371859",
     "exception": false,
     "start_time": "2022-06-22T11:21:26.356905",
     "status": "completed"
    },
    "tags": []
   },
   "source": [
    "## Training Parameters "
   ]
  },
  {
   "cell_type": "code",
   "execution_count": 8,
   "id": "952b7fc8",
   "metadata": {
    "execution": {
     "iopub.execute_input": "2022-06-22T11:21:26.408018Z",
     "iopub.status.busy": "2022-06-22T11:21:26.407276Z",
     "iopub.status.idle": "2022-06-22T11:21:26.409832Z",
     "shell.execute_reply": "2022-06-22T11:21:26.411517Z"
    },
    "id": "952b7fc8",
    "papermill": {
     "duration": 0.026324,
     "end_time": "2022-06-22T11:21:26.411788",
     "exception": false,
     "start_time": "2022-06-22T11:21:26.385464",
     "status": "completed"
    },
    "tags": []
   },
   "outputs": [],
   "source": [
    "batch_size = 32\n",
    "n_epochs = 1000\n",
    "#Select the device \n",
    "device = torch.device('cuda' if torch.cuda.is_available() else 'cpu')"
   ]
  },
  {
   "cell_type": "markdown",
   "id": "a95e1600",
   "metadata": {
    "id": "a95e1600",
    "papermill": {
     "duration": 0.018483,
     "end_time": "2022-06-22T11:21:26.446177",
     "exception": false,
     "start_time": "2022-06-22T11:21:26.427694",
     "status": "completed"
    },
    "tags": []
   },
   "source": [
    "# ABC Pre-generator Model \n",
    "\n",
    "1. The catboost model is used as a pre-generator model for the ABC-GAN. \n",
    "2. The model is first trained on the entire dataset \n",
    "3. It generats X,Y pairs and we add some Gaussian noise with mean 0 and variance 1 to it which is then feed as input to the generator.\n"
   ]
  },
  {
   "cell_type": "code",
   "execution_count": 9,
   "id": "ff8ce7bd",
   "metadata": {
    "execution": {
     "iopub.execute_input": "2022-06-22T11:21:26.495535Z",
     "iopub.status.busy": "2022-06-22T11:21:26.494035Z",
     "iopub.status.idle": "2022-06-22T11:21:55.052311Z",
     "shell.execute_reply": "2022-06-22T11:21:55.053152Z"
    },
    "id": "ff8ce7bd",
    "papermill": {
     "duration": 28.587875,
     "end_time": "2022-06-22T11:21:55.053467",
     "exception": false,
     "start_time": "2022-06-22T11:21:26.465592",
     "status": "completed"
    },
    "tags": []
   },
   "outputs": [
    {
     "name": "stdout",
     "output_type": "stream",
     "text": [
      "Device used : cpu\n"
     ]
    },
    {
     "name": "stdout",
     "output_type": "stream",
     "text": [
      "epoch 0  | loss: 1.10588 | train_mse: 3.51921 | train_mae: 1.48254 |  0:00:00s\n",
      "epoch 1  | loss: 0.98169 | train_mse: 3.24918 | train_mae: 1.41679 |  0:00:00s\n",
      "epoch 2  | loss: 0.65297 | train_mse: 2.78204 | train_mae: 1.31488 |  0:00:00s\n"
     ]
    },
    {
     "name": "stdout",
     "output_type": "stream",
     "text": [
      "epoch 3  | loss: 0.36295 | train_mse: 1.84601 | train_mae: 1.03626 |  0:00:00s\n",
      "epoch 4  | loss: 0.69322 | train_mse: 1.48965 | train_mae: 0.90464 |  0:00:01s\n"
     ]
    },
    {
     "name": "stdout",
     "output_type": "stream",
     "text": [
      "epoch 5  | loss: 0.65863 | train_mse: 2.23565 | train_mae: 1.01971 |  0:00:01s\n",
      "epoch 6  | loss: 0.545   | train_mse: 1.19593 | train_mae: 0.83163 |  0:00:01s\n",
      "epoch 7  | loss: 0.55455 | train_mse: 0.76705 | train_mae: 0.64522 |  0:00:01s\n"
     ]
    },
    {
     "name": "stdout",
     "output_type": "stream",
     "text": [
      "epoch 8  | loss: 0.36405 | train_mse: 0.62197 | train_mae: 0.58107 |  0:00:01s\n",
      "epoch 9  | loss: 0.40968 | train_mse: 0.44493 | train_mae: 0.5049  |  0:00:01s\n",
      "epoch 10 | loss: 0.37873 | train_mse: 0.42013 | train_mae: 0.50121 |  0:00:01s\n"
     ]
    },
    {
     "name": "stdout",
     "output_type": "stream",
     "text": [
      "epoch 11 | loss: 0.19214 | train_mse: 0.44496 | train_mae: 0.51686 |  0:00:01s\n",
      "epoch 12 | loss: 0.18808 | train_mse: 0.45219 | train_mae: 0.51476 |  0:00:01s\n",
      "epoch 13 | loss: 0.20567 | train_mse: 0.39191 | train_mae: 0.48666 |  0:00:01s\n"
     ]
    },
    {
     "name": "stdout",
     "output_type": "stream",
     "text": [
      "epoch 14 | loss: 0.24146 | train_mse: 0.36128 | train_mae: 0.46389 |  0:00:01s\n",
      "epoch 15 | loss: 0.37403 | train_mse: 0.37064 | train_mae: 0.47298 |  0:00:02s\n",
      "epoch 16 | loss: 0.21505 | train_mse: 0.38636 | train_mae: 0.5076  |  0:00:02s\n"
     ]
    },
    {
     "name": "stdout",
     "output_type": "stream",
     "text": [
      "epoch 17 | loss: 0.22942 | train_mse: 0.30362 | train_mae: 0.45995 |  0:00:02s\n",
      "epoch 18 | loss: 0.16055 | train_mse: 0.22259 | train_mae: 0.38588 |  0:00:02s\n",
      "epoch 19 | loss: 0.15038 | train_mse: 0.20328 | train_mae: 0.36769 |  0:00:02s\n"
     ]
    },
    {
     "name": "stdout",
     "output_type": "stream",
     "text": [
      "epoch 20 | loss: 0.21922 | train_mse: 0.22225 | train_mae: 0.37176 |  0:00:02s\n",
      "epoch 21 | loss: 0.16069 | train_mse: 0.24469 | train_mae: 0.38751 |  0:00:02s\n",
      "epoch 22 | loss: 0.24471 | train_mse: 0.17319 | train_mae: 0.33977 |  0:00:02s\n"
     ]
    },
    {
     "name": "stdout",
     "output_type": "stream",
     "text": [
      "epoch 23 | loss: 0.13086 | train_mse: 0.14235 | train_mae: 0.29778 |  0:00:02s\n",
      "epoch 24 | loss: 0.28092 | train_mse: 0.13398 | train_mae: 0.29796 |  0:00:02s\n",
      "epoch 25 | loss: 0.22339 | train_mse: 0.15474 | train_mae: 0.31822 |  0:00:02s\n",
      "epoch 26 | loss: 0.1746  | train_mse: 0.18851 | train_mae: 0.35773 |  0:00:02s\n"
     ]
    },
    {
     "name": "stdout",
     "output_type": "stream",
     "text": [
      "epoch 27 | loss: 0.14724 | train_mse: 0.15559 | train_mae: 0.31593 |  0:00:02s\n",
      "epoch 28 | loss: 0.16882 | train_mse: 0.12934 | train_mae: 0.28578 |  0:00:02s\n",
      "epoch 29 | loss: 0.32347 | train_mse: 0.13363 | train_mae: 0.29234 |  0:00:03s\n"
     ]
    },
    {
     "name": "stdout",
     "output_type": "stream",
     "text": [
      "epoch 30 | loss: 0.13553 | train_mse: 0.15083 | train_mae: 0.31769 |  0:00:03s\n",
      "epoch 31 | loss: 0.15838 | train_mse: 0.18134 | train_mae: 0.35117 |  0:00:03s\n",
      "epoch 32 | loss: 0.18504 | train_mse: 0.16152 | train_mae: 0.33088 |  0:00:03s\n",
      "epoch 33 | loss: 0.24583 | train_mse: 0.16067 | train_mae: 0.31226 |  0:00:03s\n"
     ]
    },
    {
     "name": "stdout",
     "output_type": "stream",
     "text": [
      "epoch 34 | loss: 0.22903 | train_mse: 0.16107 | train_mae: 0.30343 |  0:00:03s\n",
      "epoch 35 | loss: 0.27774 | train_mse: 0.13974 | train_mae: 0.3009  |  0:00:03s\n",
      "epoch 36 | loss: 0.15474 | train_mse: 0.15471 | train_mae: 0.32424 |  0:00:03s\n",
      "epoch 37 | loss: 0.37587 | train_mse: 0.1513  | train_mae: 0.31464 |  0:00:03s\n"
     ]
    },
    {
     "name": "stdout",
     "output_type": "stream",
     "text": [
      "epoch 38 | loss: 0.25105 | train_mse: 0.14439 | train_mae: 0.29275 |  0:00:03s\n",
      "epoch 39 | loss: 0.19263 | train_mse: 0.13598 | train_mae: 0.29412 |  0:00:03s\n",
      "epoch 40 | loss: 0.15112 | train_mse: 0.19306 | train_mae: 0.31826 |  0:00:03s\n"
     ]
    },
    {
     "name": "stdout",
     "output_type": "stream",
     "text": [
      "epoch 41 | loss: 0.32091 | train_mse: 0.24125 | train_mae: 0.34034 |  0:00:03s\n",
      "epoch 42 | loss: 0.28515 | train_mse: 0.20131 | train_mae: 0.31285 |  0:00:03s\n",
      "epoch 43 | loss: 0.14749 | train_mse: 0.1617  | train_mae: 0.30407 |  0:00:03s\n"
     ]
    },
    {
     "name": "stdout",
     "output_type": "stream",
     "text": [
      "epoch 44 | loss: 0.19647 | train_mse: 0.12411 | train_mae: 0.28124 |  0:00:04s\n",
      "epoch 45 | loss: 0.14558 | train_mse: 0.12681 | train_mae: 0.27822 |  0:00:04s\n",
      "epoch 46 | loss: 0.1499  | train_mse: 0.13005 | train_mae: 0.27583 |  0:00:04s\n"
     ]
    },
    {
     "name": "stdout",
     "output_type": "stream",
     "text": [
      "epoch 47 | loss: 0.34407 | train_mse: 0.15188 | train_mae: 0.29094 |  0:00:04s\n",
      "epoch 48 | loss: 0.10262 | train_mse: 0.14231 | train_mae: 0.26895 |  0:00:04s\n",
      "epoch 49 | loss: 0.23378 | train_mse: 0.12326 | train_mae: 0.27122 |  0:00:04s\n"
     ]
    },
    {
     "name": "stdout",
     "output_type": "stream",
     "text": [
      "epoch 50 | loss: 0.16056 | train_mse: 0.12237 | train_mae: 0.27957 |  0:00:04s\n",
      "epoch 51 | loss: 0.24978 | train_mse: 0.13551 | train_mae: 0.279   |  0:00:04s\n",
      "epoch 52 | loss: 0.17304 | train_mse: 0.12668 | train_mae: 0.27703 |  0:00:04s\n"
     ]
    },
    {
     "name": "stdout",
     "output_type": "stream",
     "text": [
      "epoch 53 | loss: 0.12322 | train_mse: 0.11352 | train_mae: 0.27428 |  0:00:04s\n"
     ]
    },
    {
     "name": "stdout",
     "output_type": "stream",
     "text": [
      "epoch 54 | loss: 0.12332 | train_mse: 0.13087 | train_mae: 0.29227 |  0:00:04s\n",
      "epoch 55 | loss: 0.24465 | train_mse: 0.14346 | train_mae: 0.3051  |  0:00:05s\n",
      "epoch 56 | loss: 0.13979 | train_mse: 0.1345  | train_mae: 0.30292 |  0:00:05s\n"
     ]
    },
    {
     "name": "stdout",
     "output_type": "stream",
     "text": [
      "epoch 57 | loss: 0.18831 | train_mse: 0.1191  | train_mae: 0.28972 |  0:00:05s\n",
      "epoch 58 | loss: 0.15117 | train_mse: 0.10059 | train_mae: 0.26214 |  0:00:05s\n",
      "epoch 59 | loss: 0.21903 | train_mse: 0.09994 | train_mae: 0.25764 |  0:00:05s\n"
     ]
    },
    {
     "name": "stdout",
     "output_type": "stream",
     "text": [
      "epoch 60 | loss: 0.16604 | train_mse: 0.11012 | train_mae: 0.2583  |  0:00:05s\n",
      "epoch 61 | loss: 0.15212 | train_mse: 0.13586 | train_mae: 0.27647 |  0:00:05s\n",
      "epoch 62 | loss: 0.29641 | train_mse: 0.15626 | train_mae: 0.29919 |  0:00:05s\n"
     ]
    },
    {
     "name": "stdout",
     "output_type": "stream",
     "text": [
      "epoch 63 | loss: 0.26182 | train_mse: 0.12977 | train_mae: 0.27435 |  0:00:05s\n",
      "epoch 64 | loss: 0.29308 | train_mse: 0.14668 | train_mae: 0.28702 |  0:00:05s\n"
     ]
    },
    {
     "name": "stdout",
     "output_type": "stream",
     "text": [
      "epoch 65 | loss: 0.34464 | train_mse: 0.16125 | train_mae: 0.30211 |  0:00:06s\n",
      "epoch 66 | loss: 0.24478 | train_mse: 0.14466 | train_mae: 0.28495 |  0:00:06s\n",
      "epoch 67 | loss: 0.12579 | train_mse: 0.11877 | train_mae: 0.27091 |  0:00:06s\n"
     ]
    },
    {
     "name": "stdout",
     "output_type": "stream",
     "text": [
      "epoch 68 | loss: 0.17156 | train_mse: 0.11028 | train_mae: 0.26924 |  0:00:06s\n",
      "epoch 69 | loss: 0.13355 | train_mse: 0.09196 | train_mae: 0.24417 |  0:00:06s\n",
      "epoch 70 | loss: 0.18469 | train_mse: 0.10671 | train_mae: 0.24743 |  0:00:06s\n"
     ]
    },
    {
     "name": "stdout",
     "output_type": "stream",
     "text": [
      "epoch 71 | loss: 0.12232 | train_mse: 0.10517 | train_mae: 0.24387 |  0:00:06s\n",
      "epoch 72 | loss: 0.12558 | train_mse: 0.0977  | train_mae: 0.23429 |  0:00:06s\n"
     ]
    },
    {
     "name": "stdout",
     "output_type": "stream",
     "text": [
      "epoch 73 | loss: 0.16259 | train_mse: 0.08591 | train_mae: 0.22662 |  0:00:07s\n"
     ]
    },
    {
     "name": "stdout",
     "output_type": "stream",
     "text": [
      "epoch 74 | loss: 0.09388 | train_mse: 0.09214 | train_mae: 0.23392 |  0:00:07s\n",
      "epoch 75 | loss: 0.20096 | train_mse: 0.08566 | train_mae: 0.23198 |  0:00:07s\n",
      "epoch 76 | loss: 0.13237 | train_mse: 0.08554 | train_mae: 0.23579 |  0:00:07s\n"
     ]
    },
    {
     "name": "stdout",
     "output_type": "stream",
     "text": [
      "epoch 77 | loss: 0.13768 | train_mse: 0.08424 | train_mae: 0.23057 |  0:00:07s\n",
      "epoch 78 | loss: 0.20908 | train_mse: 0.09613 | train_mae: 0.24042 |  0:00:07s\n"
     ]
    },
    {
     "name": "stdout",
     "output_type": "stream",
     "text": [
      "epoch 79 | loss: 0.16651 | train_mse: 0.11188 | train_mae: 0.25378 |  0:00:08s\n"
     ]
    },
    {
     "name": "stdout",
     "output_type": "stream",
     "text": [
      "epoch 80 | loss: 0.12039 | train_mse: 0.10623 | train_mae: 0.25028 |  0:00:08s\n"
     ]
    },
    {
     "name": "stdout",
     "output_type": "stream",
     "text": [
      "epoch 81 | loss: 0.10446 | train_mse: 0.10368 | train_mae: 0.24402 |  0:00:08s\n",
      "epoch 82 | loss: 0.09122 | train_mse: 0.08921 | train_mae: 0.23141 |  0:00:08s\n"
     ]
    },
    {
     "name": "stdout",
     "output_type": "stream",
     "text": [
      "epoch 83 | loss: 0.34343 | train_mse: 0.1002  | train_mae: 0.24805 |  0:00:08s\n",
      "epoch 84 | loss: 0.137   | train_mse: 0.10971 | train_mae: 0.2548  |  0:00:09s\n",
      "epoch 85 | loss: 0.13361 | train_mse: 0.10936 | train_mae: 0.2507  |  0:00:09s\n"
     ]
    },
    {
     "name": "stdout",
     "output_type": "stream",
     "text": [
      "epoch 86 | loss: 0.16556 | train_mse: 0.09873 | train_mae: 0.24143 |  0:00:09s\n",
      "epoch 87 | loss: 0.33287 | train_mse: 0.09003 | train_mae: 0.23764 |  0:00:09s\n",
      "epoch 88 | loss: 0.18944 | train_mse: 0.10335 | train_mae: 0.25201 |  0:00:09s\n"
     ]
    },
    {
     "name": "stdout",
     "output_type": "stream",
     "text": [
      "epoch 89 | loss: 0.12638 | train_mse: 0.10492 | train_mae: 0.25299 |  0:00:09s\n"
     ]
    },
    {
     "name": "stdout",
     "output_type": "stream",
     "text": [
      "epoch 90 | loss: 0.25202 | train_mse: 0.09773 | train_mae: 0.25662 |  0:00:09s\n",
      "epoch 91 | loss: 0.12415 | train_mse: 0.09971 | train_mae: 0.26188 |  0:00:10s\n"
     ]
    },
    {
     "name": "stdout",
     "output_type": "stream",
     "text": [
      "epoch 92 | loss: 0.15078 | train_mse: 0.10581 | train_mae: 0.26732 |  0:00:10s\n",
      "epoch 93 | loss: 0.11318 | train_mse: 0.10976 | train_mae: 0.25314 |  0:00:10s\n",
      "epoch 94 | loss: 0.16822 | train_mse: 0.11722 | train_mae: 0.25629 |  0:00:10s\n"
     ]
    },
    {
     "name": "stdout",
     "output_type": "stream",
     "text": [
      "epoch 95 | loss: 0.1698  | train_mse: 0.09131 | train_mae: 0.24324 |  0:00:10s\n",
      "epoch 96 | loss: 0.08795 | train_mse: 0.09177 | train_mae: 0.25078 |  0:00:10s\n",
      "epoch 97 | loss: 0.1254  | train_mse: 0.08974 | train_mae: 0.24512 |  0:00:10s\n"
     ]
    },
    {
     "name": "stdout",
     "output_type": "stream",
     "text": [
      "epoch 98 | loss: 0.13229 | train_mse: 0.08166 | train_mae: 0.23411 |  0:00:10s\n",
      "epoch 99 | loss: 0.17579 | train_mse: 0.08388 | train_mae: 0.22743 |  0:00:10s\n",
      "epoch 100| loss: 0.17562 | train_mse: 0.07862 | train_mae: 0.23143 |  0:00:10s\n",
      "epoch 101| loss: 0.21652 | train_mse: 0.08396 | train_mae: 0.24237 |  0:00:10s\n"
     ]
    },
    {
     "name": "stdout",
     "output_type": "stream",
     "text": [
      "epoch 102| loss: 0.13303 | train_mse: 0.08346 | train_mae: 0.24214 |  0:00:10s\n",
      "epoch 103| loss: 0.24998 | train_mse: 0.0851  | train_mae: 0.24137 |  0:00:10s\n",
      "epoch 104| loss: 0.1781  | train_mse: 0.0851  | train_mae: 0.24034 |  0:00:11s\n"
     ]
    },
    {
     "name": "stdout",
     "output_type": "stream",
     "text": [
      "epoch 105| loss: 0.3096  | train_mse: 0.08658 | train_mae: 0.23731 |  0:00:11s\n",
      "epoch 106| loss: 0.14364 | train_mse: 0.08247 | train_mae: 0.23974 |  0:00:11s\n",
      "epoch 107| loss: 0.09382 | train_mse: 0.0858  | train_mae: 0.24211 |  0:00:11s\n"
     ]
    },
    {
     "name": "stdout",
     "output_type": "stream",
     "text": [
      "epoch 108| loss: 0.13287 | train_mse: 0.10538 | train_mae: 0.26134 |  0:00:11s\n",
      "epoch 109| loss: 0.11972 | train_mse: 0.10413 | train_mae: 0.26023 |  0:00:11s\n",
      "epoch 110| loss: 0.25578 | train_mse: 0.08846 | train_mae: 0.24629 |  0:00:11s\n",
      "epoch 111| loss: 0.11787 | train_mse: 0.08905 | train_mae: 0.24204 |  0:00:11s\n"
     ]
    },
    {
     "name": "stdout",
     "output_type": "stream",
     "text": [
      "epoch 112| loss: 0.08523 | train_mse: 0.09478 | train_mae: 0.2517  |  0:00:11s\n",
      "epoch 113| loss: 0.13719 | train_mse: 0.09758 | train_mae: 0.25965 |  0:00:11s\n",
      "epoch 114| loss: 0.1365  | train_mse: 0.08816 | train_mae: 0.2461  |  0:00:11s\n",
      "epoch 115| loss: 0.11407 | train_mse: 0.06965 | train_mae: 0.22654 |  0:00:11s\n"
     ]
    },
    {
     "name": "stdout",
     "output_type": "stream",
     "text": [
      "epoch 116| loss: 0.0899  | train_mse: 0.07327 | train_mae: 0.22975 |  0:00:11s\n",
      "epoch 117| loss: 0.10807 | train_mse: 0.08356 | train_mae: 0.23628 |  0:00:11s\n",
      "epoch 118| loss: 0.20704 | train_mse: 0.08925 | train_mae: 0.24518 |  0:00:12s\n"
     ]
    },
    {
     "name": "stdout",
     "output_type": "stream",
     "text": [
      "epoch 119| loss: 0.20973 | train_mse: 0.0785  | train_mae: 0.22892 |  0:00:12s\n",
      "epoch 120| loss: 0.15609 | train_mse: 0.0686  | train_mae: 0.22249 |  0:00:12s\n",
      "epoch 121| loss: 0.10103 | train_mse: 0.06585 | train_mae: 0.21724 |  0:00:12s\n"
     ]
    },
    {
     "name": "stdout",
     "output_type": "stream",
     "text": [
      "epoch 122| loss: 0.23668 | train_mse: 0.068   | train_mae: 0.21073 |  0:00:12s\n",
      "epoch 123| loss: 0.16529 | train_mse: 0.07264 | train_mae: 0.22117 |  0:00:12s\n"
     ]
    },
    {
     "name": "stdout",
     "output_type": "stream",
     "text": [
      "epoch 124| loss: 0.1371  | train_mse: 0.06937 | train_mae: 0.21579 |  0:00:12s\n"
     ]
    },
    {
     "name": "stdout",
     "output_type": "stream",
     "text": [
      "epoch 125| loss: 0.16556 | train_mse: 0.07033 | train_mae: 0.21809 |  0:00:12s\n",
      "epoch 126| loss: 0.14566 | train_mse: 0.07181 | train_mae: 0.21923 |  0:00:13s\n",
      "epoch 127| loss: 0.10847 | train_mse: 0.06843 | train_mae: 0.22002 |  0:00:13s\n"
     ]
    },
    {
     "name": "stdout",
     "output_type": "stream",
     "text": [
      "epoch 128| loss: 0.24055 | train_mse: 0.07498 | train_mae: 0.22943 |  0:00:13s\n",
      "epoch 129| loss: 0.10594 | train_mse: 0.08734 | train_mae: 0.23938 |  0:00:13s\n",
      "epoch 130| loss: 0.12098 | train_mse: 0.08944 | train_mae: 0.23782 |  0:00:13s\n"
     ]
    },
    {
     "name": "stdout",
     "output_type": "stream",
     "text": [
      "epoch 131| loss: 0.09453 | train_mse: 0.07684 | train_mae: 0.22282 |  0:00:13s\n",
      "epoch 132| loss: 0.17946 | train_mse: 0.08096 | train_mae: 0.23471 |  0:00:13s\n",
      "epoch 133| loss: 0.13227 | train_mse: 0.08271 | train_mae: 0.23916 |  0:00:13s\n"
     ]
    },
    {
     "name": "stdout",
     "output_type": "stream",
     "text": [
      "epoch 134| loss: 0.20158 | train_mse: 0.07564 | train_mae: 0.23171 |  0:00:13s\n",
      "epoch 135| loss: 0.22107 | train_mse: 0.07721 | train_mae: 0.2303  |  0:00:13s\n",
      "epoch 136| loss: 0.09175 | train_mse: 0.08934 | train_mae: 0.23435 |  0:00:13s\n"
     ]
    },
    {
     "name": "stdout",
     "output_type": "stream",
     "text": [
      "epoch 137| loss: 0.09625 | train_mse: 0.0924  | train_mae: 0.23414 |  0:00:13s\n",
      "epoch 138| loss: 0.07183 | train_mse: 0.0945  | train_mae: 0.23546 |  0:00:13s\n",
      "epoch 139| loss: 0.12337 | train_mse: 0.08037 | train_mae: 0.2239  |  0:00:13s\n"
     ]
    },
    {
     "name": "stdout",
     "output_type": "stream",
     "text": [
      "epoch 140| loss: 0.1137  | train_mse: 0.07316 | train_mae: 0.2226  |  0:00:14s\n",
      "epoch 141| loss: 0.11805 | train_mse: 0.07018 | train_mae: 0.22434 |  0:00:14s\n",
      "epoch 142| loss: 0.19587 | train_mse: 0.07506 | train_mae: 0.2246  |  0:00:14s\n",
      "epoch 143| loss: 0.11844 | train_mse: 0.10839 | train_mae: 0.24864 |  0:00:14s\n"
     ]
    },
    {
     "name": "stdout",
     "output_type": "stream",
     "text": [
      "epoch 144| loss: 0.10541 | train_mse: 0.13362 | train_mae: 0.26131 |  0:00:14s\n",
      "epoch 145| loss: 0.08378 | train_mse: 0.10623 | train_mae: 0.2427  |  0:00:14s\n",
      "epoch 146| loss: 0.10911 | train_mse: 0.09938 | train_mae: 0.24029 |  0:00:14s\n"
     ]
    },
    {
     "name": "stdout",
     "output_type": "stream",
     "text": [
      "epoch 147| loss: 0.15932 | train_mse: 0.11342 | train_mae: 0.25613 |  0:00:14s\n",
      "epoch 148| loss: 0.19497 | train_mse: 0.13715 | train_mae: 0.27492 |  0:00:14s\n",
      "epoch 149| loss: 0.18714 | train_mse: 0.125   | train_mae: 0.25809 |  0:00:14s\n",
      "epoch 150| loss: 0.07948 | train_mse: 0.09771 | train_mae: 0.23881 |  0:00:14s\n"
     ]
    },
    {
     "name": "stdout",
     "output_type": "stream",
     "text": [
      "epoch 151| loss: 0.12513 | train_mse: 0.11404 | train_mae: 0.25185 |  0:00:14s\n",
      "epoch 152| loss: 0.10736 | train_mse: 0.09497 | train_mae: 0.2251  |  0:00:14s\n",
      "epoch 153| loss: 0.1037  | train_mse: 0.09202 | train_mae: 0.22192 |  0:00:14s\n"
     ]
    },
    {
     "name": "stdout",
     "output_type": "stream",
     "text": [
      "epoch 154| loss: 0.08561 | train_mse: 0.08796 | train_mae: 0.2239  |  0:00:15s\n",
      "epoch 155| loss: 0.09926 | train_mse: 0.07068 | train_mae: 0.21487 |  0:00:15s\n",
      "epoch 156| loss: 0.22889 | train_mse: 0.06643 | train_mae: 0.20778 |  0:00:15s\n"
     ]
    },
    {
     "name": "stdout",
     "output_type": "stream",
     "text": [
      "epoch 157| loss: 0.13663 | train_mse: 0.07194 | train_mae: 0.21362 |  0:00:15s\n",
      "epoch 158| loss: 0.25143 | train_mse: 0.13036 | train_mae: 0.26315 |  0:00:15s\n",
      "epoch 159| loss: 0.11473 | train_mse: 0.09637 | train_mae: 0.24095 |  0:00:15s\n",
      "epoch 160| loss: 0.17708 | train_mse: 0.07591 | train_mae: 0.232   |  0:00:15s\n"
     ]
    },
    {
     "name": "stdout",
     "output_type": "stream",
     "text": [
      "epoch 161| loss: 0.102   | train_mse: 0.07993 | train_mae: 0.23308 |  0:00:15s\n",
      "epoch 162| loss: 0.31608 | train_mse: 0.11347 | train_mae: 0.24941 |  0:00:15s\n",
      "epoch 163| loss: 0.09371 | train_mse: 0.09528 | train_mae: 0.23167 |  0:00:15s\n",
      "epoch 164| loss: 0.12422 | train_mse: 0.06994 | train_mae: 0.21138 |  0:00:15s\n",
      "epoch 165| loss: 0.10521 | train_mse: 0.06486 | train_mae: 0.20743 |  0:00:15s\n"
     ]
    },
    {
     "name": "stdout",
     "output_type": "stream",
     "text": [
      "epoch 166| loss: 0.08339 | train_mse: 0.06131 | train_mae: 0.20742 |  0:00:15s\n",
      "epoch 167| loss: 0.08794 | train_mse: 0.0749  | train_mae: 0.21935 |  0:00:15s\n",
      "epoch 168| loss: 0.12406 | train_mse: 0.07925 | train_mae: 0.22655 |  0:00:15s\n"
     ]
    },
    {
     "name": "stdout",
     "output_type": "stream",
     "text": [
      "epoch 169| loss: 0.1275  | train_mse: 0.07303 | train_mae: 0.21646 |  0:00:16s\n",
      "epoch 170| loss: 0.13081 | train_mse: 0.07941 | train_mae: 0.21155 |  0:00:16s\n",
      "epoch 171| loss: 0.215   | train_mse: 0.09753 | train_mae: 0.22624 |  0:00:16s\n",
      "epoch 172| loss: 0.1358  | train_mse: 0.07521 | train_mae: 0.20695 |  0:00:16s\n"
     ]
    },
    {
     "name": "stdout",
     "output_type": "stream",
     "text": [
      "epoch 173| loss: 0.11385 | train_mse: 0.06932 | train_mae: 0.20706 |  0:00:16s\n",
      "epoch 174| loss: 0.08553 | train_mse: 0.06608 | train_mae: 0.20362 |  0:00:16s\n",
      "epoch 175| loss: 0.14184 | train_mse: 0.06282 | train_mae: 0.19988 |  0:00:16s\n"
     ]
    },
    {
     "name": "stdout",
     "output_type": "stream",
     "text": [
      "epoch 176| loss: 0.10192 | train_mse: 0.06138 | train_mae: 0.19975 |  0:00:16s\n",
      "epoch 177| loss: 0.18251 | train_mse: 0.06142 | train_mae: 0.20127 |  0:00:16s\n",
      "epoch 178| loss: 0.19992 | train_mse: 0.1017  | train_mae: 0.2346  |  0:00:16s\n"
     ]
    },
    {
     "name": "stdout",
     "output_type": "stream",
     "text": [
      "epoch 179| loss: 0.13166 | train_mse: 0.13803 | train_mae: 0.25531 |  0:00:16s\n",
      "epoch 180| loss: 0.14626 | train_mse: 0.09415 | train_mae: 0.22981 |  0:00:16s\n",
      "epoch 181| loss: 0.07233 | train_mse: 0.06028 | train_mae: 0.20622 |  0:00:16s\n"
     ]
    },
    {
     "name": "stdout",
     "output_type": "stream",
     "text": [
      "epoch 182| loss: 0.07963 | train_mse: 0.0731  | train_mae: 0.2051  |  0:00:16s\n",
      "epoch 183| loss: 0.11517 | train_mse: 0.07717 | train_mae: 0.22286 |  0:00:17s\n",
      "epoch 184| loss: 0.08453 | train_mse: 0.07893 | train_mae: 0.2234  |  0:00:17s\n",
      "epoch 185| loss: 0.13899 | train_mse: 0.10536 | train_mae: 0.23845 |  0:00:17s\n"
     ]
    },
    {
     "name": "stdout",
     "output_type": "stream",
     "text": [
      "epoch 186| loss: 0.226   | train_mse: 0.07964 | train_mae: 0.22035 |  0:00:17s\n",
      "epoch 187| loss: 0.11892 | train_mse: 0.06124 | train_mae: 0.20347 |  0:00:17s\n",
      "epoch 188| loss: 0.08133 | train_mse: 0.06927 | train_mae: 0.21088 |  0:00:17s\n",
      "epoch 189| loss: 0.10147 | train_mse: 0.07289 | train_mae: 0.20418 |  0:00:17s\n"
     ]
    },
    {
     "name": "stdout",
     "output_type": "stream",
     "text": [
      "epoch 190| loss: 0.13648 | train_mse: 0.06754 | train_mae: 0.1977  |  0:00:17s\n",
      "epoch 191| loss: 0.09499 | train_mse: 0.06443 | train_mae: 0.20585 |  0:00:17s\n",
      "epoch 192| loss: 0.07321 | train_mse: 0.07921 | train_mae: 0.21761 |  0:00:17s\n"
     ]
    },
    {
     "name": "stdout",
     "output_type": "stream",
     "text": [
      "epoch 193| loss: 0.13024 | train_mse: 0.08467 | train_mae: 0.22217 |  0:00:17s\n",
      "epoch 194| loss: 0.17935 | train_mse: 0.06919 | train_mae: 0.20857 |  0:00:17s\n",
      "epoch 195| loss: 0.30557 | train_mse: 0.07024 | train_mae: 0.21434 |  0:00:17s\n"
     ]
    },
    {
     "name": "stdout",
     "output_type": "stream",
     "text": [
      "epoch 196| loss: 0.20933 | train_mse: 0.06547 | train_mae: 0.21234 |  0:00:18s\n",
      "epoch 197| loss: 0.2115  | train_mse: 0.06154 | train_mae: 0.20127 |  0:00:18s\n",
      "epoch 198| loss: 0.19925 | train_mse: 0.05643 | train_mae: 0.19235 |  0:00:18s\n"
     ]
    },
    {
     "name": "stdout",
     "output_type": "stream",
     "text": [
      "epoch 199| loss: 0.08381 | train_mse: 0.05745 | train_mae: 0.19381 |  0:00:18s\n",
      "epoch 200| loss: 0.07173 | train_mse: 0.06512 | train_mae: 0.21217 |  0:00:18s\n"
     ]
    },
    {
     "name": "stdout",
     "output_type": "stream",
     "text": [
      "epoch 201| loss: 0.14442 | train_mse: 0.06502 | train_mae: 0.21131 |  0:00:18s\n",
      "epoch 202| loss: 0.08824 | train_mse: 0.05927 | train_mae: 0.19909 |  0:00:18s\n",
      "epoch 203| loss: 0.20889 | train_mse: 0.0588  | train_mae: 0.19324 |  0:00:18s\n"
     ]
    },
    {
     "name": "stdout",
     "output_type": "stream",
     "text": [
      "epoch 204| loss: 0.08477 | train_mse: 0.06082 | train_mae: 0.20291 |  0:00:18s\n",
      "epoch 205| loss: 0.07616 | train_mse: 0.06628 | train_mae: 0.21098 |  0:00:18s\n",
      "epoch 206| loss: 0.10999 | train_mse: 0.06424 | train_mae: 0.21001 |  0:00:18s\n"
     ]
    },
    {
     "name": "stdout",
     "output_type": "stream",
     "text": [
      "epoch 207| loss: 0.08023 | train_mse: 0.06322 | train_mae: 0.21117 |  0:00:19s\n",
      "epoch 208| loss: 0.06311 | train_mse: 0.06779 | train_mae: 0.21716 |  0:00:19s\n",
      "epoch 209| loss: 0.13043 | train_mse: 0.07945 | train_mae: 0.23277 |  0:00:19s\n"
     ]
    },
    {
     "name": "stdout",
     "output_type": "stream",
     "text": [
      "epoch 210| loss: 0.07685 | train_mse: 0.08334 | train_mae: 0.23358 |  0:00:19s\n",
      "epoch 211| loss: 0.08585 | train_mse: 0.06798 | train_mae: 0.21082 |  0:00:19s\n",
      "epoch 212| loss: 0.09001 | train_mse: 0.06011 | train_mae: 0.20351 |  0:00:19s\n"
     ]
    },
    {
     "name": "stdout",
     "output_type": "stream",
     "text": [
      "epoch 213| loss: 0.10213 | train_mse: 0.06932 | train_mae: 0.21064 |  0:00:19s\n",
      "epoch 214| loss: 0.09192 | train_mse: 0.08977 | train_mae: 0.23081 |  0:00:19s\n",
      "epoch 215| loss: 0.11445 | train_mse: 0.08368 | train_mae: 0.22096 |  0:00:19s\n"
     ]
    },
    {
     "name": "stdout",
     "output_type": "stream",
     "text": [
      "epoch 216| loss: 0.13486 | train_mse: 0.07971 | train_mae: 0.22588 |  0:00:19s\n",
      "epoch 217| loss: 0.15737 | train_mse: 0.07604 | train_mae: 0.21726 |  0:00:19s\n",
      "epoch 218| loss: 0.21428 | train_mse: 0.07375 | train_mae: 0.21575 |  0:00:19s\n"
     ]
    },
    {
     "name": "stdout",
     "output_type": "stream",
     "text": [
      "epoch 219| loss: 0.08208 | train_mse: 0.07357 | train_mae: 0.21295 |  0:00:20s\n",
      "epoch 220| loss: 0.09233 | train_mse: 0.0626  | train_mae: 0.2013  |  0:00:20s\n",
      "epoch 221| loss: 0.09766 | train_mse: 0.06465 | train_mae: 0.20948 |  0:00:20s\n"
     ]
    },
    {
     "name": "stdout",
     "output_type": "stream",
     "text": [
      "epoch 222| loss: 0.14077 | train_mse: 0.07297 | train_mae: 0.22439 |  0:00:20s\n"
     ]
    },
    {
     "name": "stdout",
     "output_type": "stream",
     "text": [
      "epoch 223| loss: 0.10442 | train_mse: 0.0779  | train_mae: 0.23248 |  0:00:20s\n",
      "epoch 224| loss: 0.16418 | train_mse: 0.0689  | train_mae: 0.21834 |  0:00:20s\n",
      "epoch 225| loss: 0.12584 | train_mse: 0.0717  | train_mae: 0.21751 |  0:00:20s\n"
     ]
    },
    {
     "name": "stdout",
     "output_type": "stream",
     "text": [
      "epoch 226| loss: 0.11219 | train_mse: 0.08224 | train_mae: 0.23118 |  0:00:20s\n",
      "epoch 227| loss: 0.1193  | train_mse: 0.07013 | train_mae: 0.21238 |  0:00:20s\n",
      "epoch 228| loss: 0.07578 | train_mse: 0.07833 | train_mae: 0.21765 |  0:00:20s\n"
     ]
    },
    {
     "name": "stdout",
     "output_type": "stream",
     "text": [
      "epoch 229| loss: 0.07324 | train_mse: 0.06861 | train_mae: 0.208   |  0:00:20s\n",
      "epoch 230| loss: 0.10054 | train_mse: 0.07584 | train_mae: 0.21963 |  0:00:21s\n",
      "epoch 231| loss: 0.10052 | train_mse: 0.07889 | train_mae: 0.22165 |  0:00:21s\n"
     ]
    },
    {
     "name": "stdout",
     "output_type": "stream",
     "text": [
      "epoch 232| loss: 0.11133 | train_mse: 0.06483 | train_mae: 0.19699 |  0:00:21s\n",
      "epoch 233| loss: 0.10449 | train_mse: 0.08148 | train_mae: 0.20465 |  0:00:21s\n",
      "epoch 234| loss: 0.06662 | train_mse: 0.09049 | train_mae: 0.21617 |  0:00:21s\n"
     ]
    },
    {
     "name": "stdout",
     "output_type": "stream",
     "text": [
      "epoch 235| loss: 0.11884 | train_mse: 0.07456 | train_mae: 0.21226 |  0:00:21s\n",
      "epoch 236| loss: 0.07407 | train_mse: 0.063   | train_mae: 0.20007 |  0:00:21s\n",
      "epoch 237| loss: 0.24181 | train_mse: 0.06759 | train_mae: 0.20938 |  0:00:21s\n"
     ]
    },
    {
     "name": "stdout",
     "output_type": "stream",
     "text": [
      "epoch 238| loss: 0.09145 | train_mse: 0.06952 | train_mae: 0.20614 |  0:00:21s\n",
      "epoch 239| loss: 0.12119 | train_mse: 0.06478 | train_mae: 0.18786 |  0:00:21s\n",
      "epoch 240| loss: 0.10605 | train_mse: 0.05865 | train_mae: 0.17739 |  0:00:21s\n"
     ]
    },
    {
     "name": "stdout",
     "output_type": "stream",
     "text": [
      "epoch 241| loss: 0.13399 | train_mse: 0.05661 | train_mae: 0.17829 |  0:00:21s\n",
      "epoch 242| loss: 0.08415 | train_mse: 0.07797 | train_mae: 0.2157  |  0:00:21s\n",
      "epoch 243| loss: 0.11035 | train_mse: 0.09088 | train_mae: 0.23516 |  0:00:21s\n"
     ]
    },
    {
     "name": "stdout",
     "output_type": "stream",
     "text": [
      "epoch 244| loss: 0.09317 | train_mse: 0.07249 | train_mae: 0.21097 |  0:00:22s\n",
      "epoch 245| loss: 0.07152 | train_mse: 0.06405 | train_mae: 0.2036  |  0:00:22s\n",
      "epoch 246| loss: 0.15625 | train_mse: 0.06568 | train_mae: 0.20702 |  0:00:22s\n",
      "epoch 247| loss: 0.08213 | train_mse: 0.06469 | train_mae: 0.20867 |  0:00:22s\n"
     ]
    },
    {
     "name": "stdout",
     "output_type": "stream",
     "text": [
      "epoch 248| loss: 0.0923  | train_mse: 0.0592  | train_mae: 0.20225 |  0:00:22s\n",
      "epoch 249| loss: 0.15031 | train_mse: 0.05456 | train_mae: 0.19102 |  0:00:22s\n",
      "epoch 250| loss: 0.22124 | train_mse: 0.06665 | train_mae: 0.1959  |  0:00:22s\n"
     ]
    },
    {
     "name": "stdout",
     "output_type": "stream",
     "text": [
      "epoch 251| loss: 0.06598 | train_mse: 0.07864 | train_mae: 0.21181 |  0:00:22s\n",
      "epoch 252| loss: 0.11744 | train_mse: 0.07483 | train_mae: 0.20988 |  0:00:22s\n",
      "epoch 253| loss: 0.12545 | train_mse: 0.07268 | train_mae: 0.21832 |  0:00:22s\n"
     ]
    },
    {
     "name": "stdout",
     "output_type": "stream",
     "text": [
      "epoch 254| loss: 0.09554 | train_mse: 0.07656 | train_mae: 0.22579 |  0:00:22s\n",
      "epoch 255| loss: 0.31039 | train_mse: 0.0869  | train_mae: 0.22984 |  0:00:22s\n",
      "epoch 256| loss: 0.16034 | train_mse: 0.11448 | train_mae: 0.24892 |  0:00:22s\n"
     ]
    },
    {
     "name": "stdout",
     "output_type": "stream",
     "text": [
      "epoch 257| loss: 0.09383 | train_mse: 0.08922 | train_mae: 0.2338  |  0:00:22s\n",
      "epoch 258| loss: 0.12214 | train_mse: 0.07194 | train_mae: 0.2125  |  0:00:23s\n",
      "epoch 259| loss: 0.08225 | train_mse: 0.06498 | train_mae: 0.20148 |  0:00:23s\n"
     ]
    },
    {
     "name": "stdout",
     "output_type": "stream",
     "text": [
      "epoch 260| loss: 0.08066 | train_mse: 0.06239 | train_mae: 0.20839 |  0:00:23s\n",
      "epoch 261| loss: 0.14849 | train_mse: 0.07026 | train_mae: 0.2165  |  0:00:23s\n",
      "epoch 262| loss: 0.1076  | train_mse: 0.07436 | train_mae: 0.21042 |  0:00:23s\n"
     ]
    },
    {
     "name": "stdout",
     "output_type": "stream",
     "text": [
      "epoch 263| loss: 0.07178 | train_mse: 0.07874 | train_mae: 0.21289 |  0:00:23s\n",
      "epoch 264| loss: 0.1377  | train_mse: 0.0655  | train_mae: 0.20339 |  0:00:23s\n",
      "epoch 265| loss: 0.1155  | train_mse: 0.05371 | train_mae: 0.19259 |  0:00:23s\n",
      "epoch 266| loss: 0.2945  | train_mse: 0.06975 | train_mae: 0.2051  |  0:00:23s\n"
     ]
    },
    {
     "name": "stdout",
     "output_type": "stream",
     "text": [
      "epoch 267| loss: 0.09219 | train_mse: 0.08031 | train_mae: 0.21254 |  0:00:23s\n",
      "epoch 268| loss: 0.11543 | train_mse: 0.06096 | train_mae: 0.19279 |  0:00:23s\n"
     ]
    },
    {
     "name": "stdout",
     "output_type": "stream",
     "text": [
      "epoch 269| loss: 0.08033 | train_mse: 0.06859 | train_mae: 0.20603 |  0:00:23s\n",
      "epoch 270| loss: 0.11501 | train_mse: 0.08111 | train_mae: 0.21773 |  0:00:24s\n",
      "epoch 271| loss: 0.16378 | train_mse: 0.0689  | train_mae: 0.20738 |  0:00:24s\n"
     ]
    },
    {
     "name": "stdout",
     "output_type": "stream",
     "text": [
      "epoch 272| loss: 0.27019 | train_mse: 0.06129 | train_mae: 0.19961 |  0:00:24s\n",
      "epoch 273| loss: 0.1031  | train_mse: 0.05296 | train_mae: 0.18475 |  0:00:24s\n",
      "epoch 274| loss: 0.11542 | train_mse: 0.05235 | train_mae: 0.18173 |  0:00:24s\n"
     ]
    },
    {
     "name": "stdout",
     "output_type": "stream",
     "text": [
      "epoch 275| loss: 0.07727 | train_mse: 0.06082 | train_mae: 0.19237 |  0:00:24s\n",
      "epoch 276| loss: 0.0626  | train_mse: 0.07453 | train_mae: 0.1933  |  0:00:24s\n",
      "epoch 277| loss: 0.20116 | train_mse: 0.07656 | train_mae: 0.20177 |  0:00:24s\n"
     ]
    },
    {
     "name": "stdout",
     "output_type": "stream",
     "text": [
      "epoch 278| loss: 0.09859 | train_mse: 0.07695 | train_mae: 0.20026 |  0:00:24s\n",
      "epoch 279| loss: 0.08187 | train_mse: 0.05609 | train_mae: 0.18646 |  0:00:24s\n",
      "epoch 280| loss: 0.09759 | train_mse: 0.04669 | train_mae: 0.17691 |  0:00:24s\n"
     ]
    },
    {
     "name": "stdout",
     "output_type": "stream",
     "text": [
      "epoch 281| loss: 0.09623 | train_mse: 0.04771 | train_mae: 0.17434 |  0:00:24s\n",
      "epoch 282| loss: 0.08973 | train_mse: 0.05559 | train_mae: 0.1873  |  0:00:24s\n",
      "epoch 283| loss: 0.33653 | train_mse: 0.06012 | train_mae: 0.19686 |  0:00:25s\n"
     ]
    },
    {
     "name": "stdout",
     "output_type": "stream",
     "text": [
      "epoch 284| loss: 0.05718 | train_mse: 0.07032 | train_mae: 0.20409 |  0:00:25s\n",
      "epoch 285| loss: 0.11134 | train_mse: 0.06563 | train_mae: 0.20244 |  0:00:25s\n",
      "epoch 286| loss: 0.20664 | train_mse: 0.06196 | train_mae: 0.20157 |  0:00:25s\n",
      "epoch 287| loss: 0.08363 | train_mse: 0.05944 | train_mae: 0.19273 |  0:00:25s\n"
     ]
    },
    {
     "name": "stdout",
     "output_type": "stream",
     "text": [
      "epoch 288| loss: 0.12922 | train_mse: 0.05588 | train_mae: 0.18192 |  0:00:25s\n",
      "epoch 289| loss: 0.06938 | train_mse: 0.05345 | train_mae: 0.18326 |  0:00:25s\n",
      "epoch 290| loss: 0.08058 | train_mse: 0.05629 | train_mae: 0.19063 |  0:00:25s\n"
     ]
    },
    {
     "name": "stdout",
     "output_type": "stream",
     "text": [
      "epoch 291| loss: 0.24011 | train_mse: 0.06276 | train_mae: 0.19663 |  0:00:25s\n",
      "epoch 292| loss: 0.07765 | train_mse: 0.06311 | train_mae: 0.19744 |  0:00:25s\n",
      "epoch 293| loss: 0.161   | train_mse: 0.05575 | train_mae: 0.19504 |  0:00:25s\n"
     ]
    },
    {
     "name": "stdout",
     "output_type": "stream",
     "text": [
      "epoch 294| loss: 0.07116 | train_mse: 0.0592  | train_mae: 0.19806 |  0:00:25s\n",
      "epoch 295| loss: 0.19297 | train_mse: 0.06113 | train_mae: 0.20291 |  0:00:25s\n",
      "epoch 296| loss: 0.08252 | train_mse: 0.13271 | train_mae: 0.24668 |  0:00:25s\n"
     ]
    },
    {
     "name": "stdout",
     "output_type": "stream",
     "text": [
      "epoch 297| loss: 0.11079 | train_mse: 0.10828 | train_mae: 0.23016 |  0:00:26s\n",
      "epoch 298| loss: 0.11323 | train_mse: 0.08547 | train_mae: 0.22837 |  0:00:26s\n",
      "epoch 299| loss: 0.12815 | train_mse: 0.07693 | train_mae: 0.22313 |  0:00:26s\n",
      "epoch 300| loss: 0.08211 | train_mse: 0.08226 | train_mae: 0.22156 |  0:00:26s\n"
     ]
    },
    {
     "name": "stdout",
     "output_type": "stream",
     "text": [
      "epoch 301| loss: 0.16522 | train_mse: 0.09526 | train_mae: 0.23257 |  0:00:26s\n",
      "epoch 302| loss: 0.37895 | train_mse: 0.1147  | train_mae: 0.24151 |  0:00:26s\n",
      "epoch 303| loss: 0.15252 | train_mse: 0.10016 | train_mae: 0.23338 |  0:00:26s\n",
      "epoch 304| loss: 0.13198 | train_mse: 0.06924 | train_mae: 0.2069  |  0:00:26s\n"
     ]
    },
    {
     "name": "stdout",
     "output_type": "stream",
     "text": [
      "epoch 305| loss: 0.08458 | train_mse: 0.06185 | train_mae: 0.19943 |  0:00:26s\n",
      "epoch 306| loss: 0.36664 | train_mse: 0.08274 | train_mae: 0.23369 |  0:00:26s\n",
      "epoch 307| loss: 0.11645 | train_mse: 0.07474 | train_mae: 0.22283 |  0:00:26s\n",
      "epoch 308| loss: 0.0946  | train_mse: 0.07445 | train_mae: 0.2121  |  0:00:26s\n"
     ]
    },
    {
     "name": "stdout",
     "output_type": "stream",
     "text": [
      "epoch 309| loss: 0.1047  | train_mse: 0.0754  | train_mae: 0.21416 |  0:00:26s\n",
      "epoch 310| loss: 0.16659 | train_mse: 0.06448 | train_mae: 0.19685 |  0:00:26s\n",
      "epoch 311| loss: 0.21306 | train_mse: 0.07207 | train_mae: 0.20222 |  0:00:26s\n"
     ]
    },
    {
     "name": "stdout",
     "output_type": "stream",
     "text": [
      "epoch 312| loss: 0.15321 | train_mse: 0.06813 | train_mae: 0.19904 |  0:00:27s\n",
      "epoch 313| loss: 0.10229 | train_mse: 0.05128 | train_mae: 0.17955 |  0:00:27s\n",
      "epoch 314| loss: 0.06844 | train_mse: 0.05199 | train_mae: 0.18208 |  0:00:27s\n"
     ]
    },
    {
     "name": "stdout",
     "output_type": "stream",
     "text": [
      "epoch 315| loss: 0.10196 | train_mse: 0.05884 | train_mae: 0.19584 |  0:00:27s\n",
      "epoch 316| loss: 0.05342 | train_mse: 0.06168 | train_mae: 0.19933 |  0:00:27s\n",
      "epoch 317| loss: 0.1996  | train_mse: 0.07444 | train_mae: 0.22242 |  0:00:27s\n",
      "epoch 318| loss: 0.09561 | train_mse: 0.07641 | train_mae: 0.22066 |  0:00:27s\n",
      "epoch 319| loss: 0.11132 | train_mse: 0.06729 | train_mae: 0.21252 |  0:00:27s\n"
     ]
    },
    {
     "name": "stdout",
     "output_type": "stream",
     "text": [
      "epoch 320| loss: 0.23788 | train_mse: 0.07429 | train_mae: 0.21949 |  0:00:27s\n",
      "epoch 321| loss: 0.1133  | train_mse: 0.06808 | train_mae: 0.21421 |  0:00:27s\n",
      "epoch 322| loss: 0.08454 | train_mse: 0.06746 | train_mae: 0.22209 |  0:00:27s\n"
     ]
    },
    {
     "name": "stdout",
     "output_type": "stream",
     "text": [
      "epoch 323| loss: 0.08664 | train_mse: 0.07107 | train_mae: 0.22586 |  0:00:27s\n",
      "epoch 324| loss: 0.10284 | train_mse: 0.06872 | train_mae: 0.22412 |  0:00:27s\n",
      "epoch 325| loss: 0.17422 | train_mse: 0.06611 | train_mae: 0.21805 |  0:00:27s\n"
     ]
    },
    {
     "name": "stdout",
     "output_type": "stream",
     "text": [
      "epoch 326| loss: 0.08447 | train_mse: 0.06993 | train_mae: 0.21507 |  0:00:28s\n",
      "epoch 327| loss: 0.10453 | train_mse: 0.06815 | train_mae: 0.20923 |  0:00:28s\n",
      "epoch 328| loss: 0.07976 | train_mse: 0.06601 | train_mae: 0.20757 |  0:00:28s\n"
     ]
    },
    {
     "name": "stdout",
     "output_type": "stream",
     "text": [
      "epoch 329| loss: 0.11488 | train_mse: 0.06772 | train_mae: 0.21019 |  0:00:28s\n",
      "epoch 330| loss: 0.0651  | train_mse: 0.06499 | train_mae: 0.21246 |  0:00:28s\n",
      "epoch 331| loss: 0.08515 | train_mse: 0.06208 | train_mae: 0.20729 |  0:00:28s\n",
      "\n",
      "Early stopping occurred at epoch 331 with best_epoch = 281 and best_train_mae = 0.17434\n",
      "Best weights from best epoch are automatically used!\n"
     ]
    }
   ],
   "source": [
    "#Train the Model\n",
    "\n",
    "Y_train = np.reshape(Y_train, (-1, 1))\n",
    "Y_test = np.reshape(Y_test, (-1, 1))\n",
    "\n",
    "prior_model = TabNetRegressor(optimizer_fn=torch.optim.Adam, optimizer_params=dict(lr = 0.02),\n",
    "          #scheduler_params={\"step_size\":10, ], \"gamma\":0.9},\n",
    "          #scheduler_fn=torch.optim.lr_scheduler.StepLR\n",
    "          )  #TabNetRegressor()\n",
    "\n",
    "prior_model.fit(X_train,Y_train,eval_set=[(X_train, Y_train)],\n",
    "            eval_name=['train'], \n",
    "            eval_metric=[ 'mse', 'mae'], \n",
    "            max_epochs = n_epochs, \n",
    "            batch_size = batch_size,\n",
    "            patience=50\n",
    "            )"
   ]
  },
  {
   "cell_type": "code",
   "execution_count": 10,
   "id": "af65dcda",
   "metadata": {
    "execution": {
     "iopub.execute_input": "2022-06-22T11:21:55.158648Z",
     "iopub.status.busy": "2022-06-22T11:21:55.157477Z",
     "iopub.status.idle": "2022-06-22T11:21:55.183816Z",
     "shell.execute_reply": "2022-06-22T11:21:55.184429Z"
    },
    "id": "af65dcda",
    "papermill": {
     "duration": 0.087498,
     "end_time": "2022-06-22T11:21:55.184682",
     "exception": false,
     "start_time": "2022-06-22T11:21:55.097184",
     "status": "completed"
    },
    "tags": []
   },
   "outputs": [
    {
     "data": {
      "application/scrapbook.scrap.json+json": {
       "data": 0.13096900456660954,
       "encoder": "json",
       "name": "Prior Model MSE",
       "version": 1
      }
     },
     "metadata": {
      "scrapbook": {
       "data": true,
       "display": false,
       "name": "Prior Model MSE"
      }
     },
     "output_type": "display_data"
    },
    {
     "data": {
      "application/scrapbook.scrap.json+json": {
       "data": 2.051582951937981,
       "encoder": "json",
       "name": "ABC Pre-generator MSE",
       "version": 1
      }
     },
     "metadata": {
      "scrapbook": {
       "data": true,
       "display": false,
       "name": "ABC Pre-generator MSE"
      }
     },
     "output_type": "display_data"
    },
    {
     "data": {
      "application/scrapbook.scrap.json+json": {
       "data": 0.2622394436528558,
       "encoder": "json",
       "name": "Prior Model MSE",
       "version": 1
      }
     },
     "metadata": {
      "scrapbook": {
       "data": true,
       "display": false,
       "name": "Prior Model MSE"
      }
     },
     "output_type": "display_data"
    },
    {
     "data": {
      "application/scrapbook.scrap.json+json": {
       "data": 1.2726695747173846,
       "encoder": "json",
       "name": "ABC Pre-generator MSE",
       "version": 1
      }
     },
     "metadata": {
      "scrapbook": {
       "data": true,
       "display": false,
       "name": "ABC Pre-generator MSE"
      }
     },
     "output_type": "display_data"
    }
   ],
   "source": [
    "y_pred = prior_model.predict(X_test)\n",
    "y_abc = y_pred + np.random.normal(0,variance, y_pred.shape) + bias \n",
    "mse = mean_squared_error(y_pred,Y_test)\n",
    "sb.glue(\"Prior Model MSE\",mse)\n",
    "mse = mean_squared_error(y_abc,Y_test)\n",
    "sb.glue(\"ABC Pre-generator MSE\",mse)\n",
    "mae = mean_absolute_error(y_pred,Y_test)\n",
    "sb.glue(\"Prior Model MSE\",mae)\n",
    "mae = mean_absolute_error(y_abc,Y_test)\n",
    "sb.glue(\"ABC Pre-generator MSE\",mae)"
   ]
  },
  {
   "cell_type": "markdown",
   "id": "25609da2",
   "metadata": {
    "papermill": {
     "duration": 0.051781,
     "end_time": "2022-06-22T11:21:55.282074",
     "exception": false,
     "start_time": "2022-06-22T11:21:55.230293",
     "status": "completed"
    },
    "tags": []
   },
   "source": [
    "# ABC GAN Model"
   ]
  },
  {
   "cell_type": "code",
   "execution_count": 11,
   "id": "dfc3464d",
   "metadata": {
    "execution": {
     "iopub.execute_input": "2022-06-22T11:21:55.387358Z",
     "iopub.status.busy": "2022-06-22T11:21:55.386239Z",
     "iopub.status.idle": "2022-06-22T11:21:55.391496Z",
     "shell.execute_reply": "2022-06-22T11:21:55.391944Z"
    },
    "papermill": {
     "duration": 0.060155,
     "end_time": "2022-06-22T11:21:55.392224",
     "exception": false,
     "start_time": "2022-06-22T11:21:55.332069",
     "status": "completed"
    },
    "tags": []
   },
   "outputs": [],
   "source": [
    "gen = network.Generator(n_features+1).to(device)\n",
    "disc = network.Discriminator(n_features+1).to(device)\n",
    "\n",
    "criterion = torch.nn.BCELoss()\n",
    "gen_opt = torch.optim.Adam(gen.parameters(), lr=0.001, betas=(0.5, 0.999))\n",
    "disc_opt = torch.optim.Adam(disc.parameters(), lr=0.001, betas=(0.5, 0.999))"
   ]
  },
  {
   "cell_type": "code",
   "execution_count": 12,
   "id": "b75fdd85",
   "metadata": {
    "execution": {
     "iopub.execute_input": "2022-06-22T11:21:55.502423Z",
     "iopub.status.busy": "2022-06-22T11:21:55.501293Z",
     "iopub.status.idle": "2022-06-22T11:22:51.934259Z",
     "shell.execute_reply": "2022-06-22T11:22:51.933651Z"
    },
    "papermill": {
     "duration": 56.497029,
     "end_time": "2022-06-22T11:22:51.934446",
     "exception": false,
     "start_time": "2022-06-22T11:21:55.437417",
     "status": "completed"
    },
    "tags": []
   },
   "outputs": [
    {
     "data": {
      "image/png": "[encoded data removed]",
      "text/plain": [
       "<Figure size 432x288 with 1 Axes>"
      ]
     },
     "metadata": {
      "needs_background": "light"
     },
     "output_type": "display_data"
    },
    {
     "data": {
      "image/png": "[encoded data removed]",
      "text/plain": [
       "<Figure size 432x288 with 1 Axes>"
      ]
     },
     "metadata": {
      "needs_background": "light"
     },
     "output_type": "display_data"
    }
   ],
   "source": [
    "#Training the ABC_GAN \n",
    "ABC_train_test2.training_GAN(disc,gen,disc_opt,gen_opt,train_data,batch_size,n_epochs,criterion,prior_model,variance,bias,device)"
   ]
  },
  {
   "cell_type": "code",
   "execution_count": 13,
   "id": "1fa7c368",
   "metadata": {
    "execution": {
     "iopub.execute_input": "2022-06-22T11:22:52.086241Z",
     "iopub.status.busy": "2022-06-22T11:22:52.076160Z",
     "iopub.status.idle": "2022-06-22T11:22:54.474442Z",
     "shell.execute_reply": "2022-06-22T11:22:54.475433Z"
    },
    "papermill": {
     "duration": 2.490662,
     "end_time": "2022-06-22T11:22:54.475867",
     "exception": false,
     "start_time": "2022-06-22T11:22:51.985205",
     "status": "completed"
    },
    "tags": []
   },
   "outputs": [
    {
     "data": {
      "application/scrapbook.scrap.json+json": {
       "data": 0.199344076609305,
       "encoder": "json",
       "name": "ABC-GAN Model 1 MSE",
       "version": 1
      }
     },
     "metadata": {
      "scrapbook": {
       "data": true,
       "display": false,
       "name": "ABC-GAN Model 1 MSE"
      }
     },
     "output_type": "display_data"
    },
    {
     "data": {
      "application/scrapbook.scrap.json+json": {
       "data": 0.32825340918265283,
       "encoder": "json",
       "name": "ABC-GAN Model 1 MAE",
       "version": 1
      }
     },
     "metadata": {
      "scrapbook": {
       "data": true,
       "display": false,
       "name": "ABC-GAN Model 1 MAE"
      }
     },
     "output_type": "display_data"
    },
    {
     "data": {
      "application/scrapbook.scrap.json+json": {
       "data": 6.565068183653056,
       "encoder": "json",
       "name": "ABC-GAN Model 1 Manhattan Distance",
       "version": 1
      }
     },
     "metadata": {
      "scrapbook": {
       "data": true,
       "display": false,
       "name": "ABC-GAN Model 1 Manhattan Distance"
      }
     },
     "output_type": "display_data"
    },
    {
     "data": {
      "application/scrapbook.scrap.json+json": {
       "data": 1.9921640392371853,
       "encoder": "json",
       "name": "ABC-GAN Model 1 Euclidean distance",
       "version": 1
      }
     },
     "metadata": {
      "scrapbook": {
       "data": true,
       "display": false,
       "name": "ABC-GAN Model 1 Euclidean distance"
      }
     },
     "output_type": "display_data"
    },
    {
     "data": {
      "application/scrapbook.scrap.json+json": {
       "data": [
        [
         0.191247786437623,
         0.21549565022487074,
         0.16203930151976795,
         0.13706640370705275,
         0.19379966280348607,
         0.2286332198336022,
         0.22038960638227917,
         0.2433731998693791,
         0.24836603429806686,
         0.2495697938830066,
         0.15700136196717027,
         0.21774893991524363,
         0.17315914689925485,
         0.227611562179468,
         0.19227542451733987,
         0.19142260714361803,
         0.2114655132895714,
         0.22125146137129342,
         0.2419835246770929,
         0.1846771645790075,
         0.1950986712979405,
         0.2011490745840283,
         0.20827785182168795,
         0.23868271252455928,
         0.20205306115742944,
         0.18255212287653616,
         0.2114024782702668,
         0.15282554335669768,
         0.19196932332444056,
         0.14584688549028835,
         0.16896186296370944,
         0.21058024534354525,
         0.24371966474845844,
         0.22830066371306157,
         0.25007038099199086,
         0.21559683570746083,
         0.231947692999768,
         0.19009055840211084,
         0.17468017985826817,
         0.1789120393415827,
         0.2225149381413949,
         0.23823368294928993,
         0.2064111220668857,
         0.1902014994722725,
         0.1692352208924452,
         0.20234123030903056,
         0.19397456882895137,
         0.19511456833645552,
         0.15214378411965637,
         0.1557157284466068,
         0.20243593585788,
         0.19245125921722708,
         0.20302036253276584,
         0.16107016247794081,
         0.18475250078314973,
         0.19561006381290585,
         0.20254197801340817,
         0.18049652818443854,
         0.1638804843420389,
         0.21793706084050476,
         0.19796375239416927,
         0.2262163000640133,
         0.18701824022544705,
         0.2231511123629096,
         0.19268056844289222,
         0.16840481253612177,
         0.2265585224011998,
         0.17193586473423966,
         0.21239246599455375,
         0.22019949933509225,
         0.21462696311575988,
         0.21360520503194474,
         0.15567095192879304,
         0.23104038722502063,
         0.2646896064652683,
         0.19919292632547786,
         0.16832360100551824,
         0.21743641047212833,
         0.17513116282968116,
         0.2090020983120156,
         0.22180681933175173,
         0.16972098938910224,
         0.17192440404970988,
         0.16053394691411943,
         0.21924163869308852,
         0.2229649932040309,
         0.19096474955776604,
         0.1722361847236089,
         0.2231953823720933,
         0.19567169780786392,
         0.15724876383503603,
         0.22080294419999405,
         0.18230822582023398,
         0.21966673590895852,
         0.2156929704628841,
         0.18993089722574602,
         0.19279059617399716,
         0.17374773646839464,
         0.19658746805027763,
         0.20075217164232223
        ],
        [
         0.333850179053843,
         0.3321343773975968,
         0.3033546319231391,
         0.28753228709101675,
         0.3130144374445081,
         0.34675412978976966,
         0.35369871407747266,
         0.3583625642582774,
         0.3532657915726304,
         0.3566594397649169,
         0.32460199277848006,
         0.3539652114734054,
         0.3287315273657441,
         0.3504271449521184,
         0.2974740883335471,
         0.32640893328934906,
         0.32791931126266716,
         0.35408241730183365,
         0.3537444047629833,
         0.29906745087355374,
         0.31739996317774055,
         0.3233583772554994,
         0.340359091758728,
         0.34642268270254134,
         0.3103287698701024,
         0.31457099262624977,
         0.3260099722072482,
         0.29837277848273513,
         0.346271931566298,
         0.2897732390090823,
         0.306893596239388,
         0.3381464468315244,
         0.3769323715940118,
         0.3512214796617627,
         0.37136487048119304,
         0.3387146761640906,
         0.35922046806663277,
         0.333977341465652,
         0.3096564901992679,
         0.3172961866483092,
         0.3246846148744226,
         0.33811269886791706,
         0.3270553989335895,
         0.3121627002954483,
         0.3197378249838948,
         0.3404271358624101,
         0.31938032414764167,
         0.3223479548469186,
         0.3028066294267774,
         0.30081915091723205,
         0.34158121068030595,
         0.29934439081698655,
         0.3311664691194892,
         0.30830712895840406,
         0.328666546009481,
         0.3127799162641168,
         0.3185914659872651,
         0.30471869874745605,
         0.30066238436847925,
         0.3217466980218887,
         0.33013679515570404,
         0.35216365065425637,
         0.3370952865108848,
         0.34721646290272473,
         0.3240709913894534,
         0.3071344971656799,
         0.35173546951264145,
         0.32551530841737986,
         0.3333290746435523,
         0.33614851962774994,
         0.3338867623358965,
         0.34316283855587243,
         0.2938697306439281,
         0.3531255083158612,
         0.3858153702691197,
         0.3391839323565364,
         0.30490428004413844,
         0.35572674181312325,
         0.31676629800349476,
         0.32506275195628404,
         0.34029244985431434,
         0.30468369629234077,
         0.31543835196644066,
         0.2939611004665494,
         0.3468361521139741,
         0.35066104847937823,
         0.3304056262597442,
         0.32950300369411706,
         0.3348326561972499,
         0.3290074851363897,
         0.2975028656423092,
         0.33516577892005445,
         0.30802259389311076,
         0.3387572156265378,
         0.32654526475816964,
         0.3259550528600812,
         0.31565243620425465,
         0.30596866458654404,
         0.327207406796515,
         0.3264516953378916
        ],
        [
         6.67700358107686,
         6.642687547951937,
         6.067092638462782,
         5.750645741820335,
         6.2602887488901615,
         6.935082595795393,
         7.073974281549454,
         7.167251285165548,
         7.065315831452608,
         7.133188795298338,
         6.492039855569601,
         7.079304229468107,
         6.574630547314882,
         7.008542899042368,
         5.949481766670942,
         6.528178665786982,
         6.558386225253344,
         7.081648346036673,
         7.074888095259666,
         5.981349017471075,
         6.3479992635548115,
         6.467167545109987,
         6.8071818351745605,
         6.928453654050827,
         6.206575397402048,
         6.291419852524996,
         6.520199444144964,
         5.967455569654703,
         6.92543863132596,
         5.795464780181646,
         6.13787192478776,
         6.762928936630487,
         7.538647431880236,
         7.024429593235254,
         7.427297409623861,
         6.774293523281813,
         7.184409361332655,
         6.67954682931304,
         6.193129803985357,
         6.345923732966185,
         6.493692297488451,
         6.762253977358341,
         6.541107978671789,
         6.243254005908966,
         6.3947564996778965,
         6.808542717248201,
         6.387606482952833,
         6.446959096938372,
         6.056132588535547,
         6.016383018344641,
         6.831624213606119,
         5.986887816339731,
         6.623329382389784,
         6.166142579168081,
         6.573330920189619,
         6.255598325282335,
         6.371829319745302,
         6.0943739749491215,
         6.013247687369585,
         6.434933960437775,
         6.60273590311408,
         7.043273013085127,
         6.741905730217695,
         6.944329258054495,
         6.481419827789068,
         6.142689943313599,
         7.034709390252829,
         6.510306168347597,
         6.666581492871046,
         6.722970392554998,
         6.67773524671793,
         6.863256771117449,
         5.877394612878561,
         7.0625101663172245,
         7.716307405382395,
         6.783678647130728,
         6.098085600882769,
         7.1145348362624645,
         6.335325960069895,
         6.501255039125681,
         6.8058489970862865,
         6.093673925846815,
         6.3087670393288136,
         5.879222009330988,
         6.936723042279482,
         7.0132209695875645,
         6.608112525194883,
         6.590060073882341,
         6.696653123944998,
         6.580149702727795,
         5.950057312846184,
         6.703315578401089,
         6.160451877862215,
         6.775144312530756,
         6.530905295163393,
         6.519101057201624,
         6.3130487240850925,
         6.119373291730881,
         6.5441481359303,
         6.529033906757832
        ],
        [
         1.9557494033624194,
         2.076032996967393,
         1.8002183285355582,
         1.655695646591201,
         1.9687542396321895,
         2.138378917935744,
         2.099474250293531,
         2.206232988010918,
         2.22874868165106,
         2.2341432088521387,
         1.7720122006756631,
         2.086858595665953,
         1.860962906128195,
         2.1335958482311876,
         1.9609968103866968,
         1.9566430800921155,
         2.0565286931602555,
         2.103575343890936,
         2.1999251108939726,
         1.9218593318919444,
         1.9753413441627778,
         2.005737144214208,
         2.040969631433491,
         2.18486938980141,
         2.0102390960153445,
         1.9107701215820607,
         2.056222158572691,
         1.7482879817507053,
         1.9594352417185956,
         1.7079044791222273,
         1.8382701812503484,
         2.05221950747743,
         2.2078028206724367,
         2.1368231733723855,
         2.2363827087150843,
         2.0765203380051966,
         2.1538230800126925,
         1.9498233684214108,
         1.8691184010557929,
         1.8916238491919195,
         2.109573123365933,
         2.182813244184165,
         2.0318027565041135,
         1.9503922655315904,
         1.839756619188773,
         2.011672092111587,
         1.96964244891783,
         1.975421819948618,
         1.7443840409706595,
         1.7647420686695652,
         2.012142817286487,
         1.961893265278349,
         2.015045222980198,
         1.7948268021062133,
         1.9222512883759486,
         1.977928531635589,
         2.0126697593664398,
         1.8999817271986514,
         1.8104169925298366,
         2.0877598561161426,
         1.9897927148030736,
         2.1270463091527336,
         1.9340022762419236,
         2.112586624793926,
         1.9630617333282834,
         1.835237382662645,
         2.128654609847261,
         1.8543778726798898,
         2.0610311302576374,
         2.0985685565884773,
         2.0718444107401495,
         2.0669068921068736,
         1.7644883220287577,
         2.149606416184231,
         2.3008242282506863,
         1.995960552343046,
         1.8347948168965282,
         2.0853604507237034,
         1.8715296568832736,
         2.044515093179875,
         2.106213756159387,
         1.842395122600482,
         1.8543160682564872,
         1.7918367498972634,
         2.0939992296707683,
         2.1117054397052204,
         1.954301663294416,
         1.8559966849302771,
         2.112796167982578,
         1.9782401159003118,
         1.7734078145482275,
         2.1014420962757647,
         1.9094932616808784,
         2.096028319985007,
         2.0769832472260537,
         1.9490043469717866,
         1.9636221437639023,
         1.8641230456619255,
         1.9828639290192236,
         2.0037573288316235
        ]
       ],
       "encoder": "json",
       "name": "ABC_GAN_1 Metrics",
       "version": 1
      }
     },
     "metadata": {
      "scrapbook": {
       "data": true,
       "display": false,
       "name": "ABC_GAN_1 Metrics"
      }
     },
     "output_type": "display_data"
    },
    {
     "name": "stdout",
     "output_type": "stream",
     "text": [
      "MSE\n",
      "0.199344076609305\n"
     ]
    }
   ],
   "source": [
    "ABC_GAN1_metrics=ABC_train_test2.test_generator(gen,test_data,prior_model,variance,bias,\"1\",device)\n",
    "sb.glue(\"ABC_GAN_1 Metrics\",ABC_GAN1_metrics)\n",
    "\n",
    "print(\"MSE\")\n",
    "print(mean(ABC_GAN1_metrics[0]))"
   ]
  },
  {
   "cell_type": "code",
   "execution_count": 14,
   "id": "eb22ce5c",
   "metadata": {
    "execution": {
     "iopub.execute_input": "2022-06-22T11:22:54.892316Z",
     "iopub.status.busy": "2022-06-22T11:22:54.876058Z",
     "iopub.status.idle": "2022-06-22T11:22:56.490067Z",
     "shell.execute_reply": "2022-06-22T11:22:56.490769Z"
    },
    "papermill": {
     "duration": 1.935643,
     "end_time": "2022-06-22T11:22:56.491046",
     "exception": false,
     "start_time": "2022-06-22T11:22:54.555403",
     "status": "completed"
    },
    "tags": []
   },
   "outputs": [
    {
     "data": {
      "image/png": "[encoded data removed]",
      "text/plain": [
       "<Figure size 432x288 with 1 Axes>"
      ]
     },
     "metadata": {
      "needs_background": "light"
     },
     "output_type": "display_data"
    },
    {
     "data": {
      "image/png": "[encoded data removed]",
      "text/plain": [
       "<Figure size 432x288 with 1 Axes>"
      ]
     },
     "metadata": {
      "needs_background": "light"
     },
     "output_type": "display_data"
    },
    {
     "data": {
      "image/png": "[encoded data removed]",
      "text/plain": [
       "<Figure size 432x288 with 1 Axes>"
      ]
     },
     "metadata": {
      "needs_background": "light"
     },
     "output_type": "display_data"
    },
    {
     "data": {
      "image/png": "[encoded data removed]",
      "text/plain": [
       "<Figure size 432x288 with 1 Axes>"
      ]
     },
     "metadata": {
      "needs_background": "light"
     },
     "output_type": "display_data"
    }
   ],
   "source": [
    "sanityChecks.discProbVsError(train_data,disc,device)\n",
    "sanityChecks.discProbVsError(test_data,disc,device)"
   ]
  },
  {
   "cell_type": "markdown",
   "id": "130f3a4d",
   "metadata": {
    "id": "130f3a4d",
    "papermill": {
     "duration": 0.093781,
     "end_time": "2022-06-22T11:22:56.661764",
     "exception": false,
     "start_time": "2022-06-22T11:22:56.567983",
     "status": "completed"
    },
    "tags": []
   },
   "source": [
    "# ABC - GAN Model with skip connection"
   ]
  },
  {
   "cell_type": "code",
   "execution_count": 15,
   "id": "4e43dad1",
   "metadata": {
    "execution": {
     "iopub.execute_input": "2022-06-22T11:22:56.905983Z",
     "iopub.status.busy": "2022-06-22T11:22:56.904385Z",
     "iopub.status.idle": "2022-06-22T11:22:56.906802Z",
     "shell.execute_reply": "2022-06-22T11:22:56.905328Z"
    },
    "id": "4e43dad1",
    "papermill": {
     "duration": 0.144601,
     "end_time": "2022-06-22T11:22:56.907028",
     "exception": false,
     "start_time": "2022-06-22T11:22:56.762427",
     "status": "completed"
    },
    "tags": []
   },
   "outputs": [],
   "source": [
    "#Generator\n",
    "gen3 = network.GeneratorWithSkipConnection(n_features+1).to(device)\n",
    "constraints=network.weightConstraint()\n",
    "#Discriminator \n",
    "disc3 = network.Discriminator(n_features+1).to(device)\n",
    "\n",
    "criterion = torch.nn.BCELoss()\n",
    "gen_opt = torch.optim.Adam(gen3.parameters(), lr=0.001, betas=(0.5, 0.999))\n",
    "disc_opt = torch.optim.Adam(disc3.parameters(), lr=0.001, betas=(0.5, 0.999))\n"
   ]
  },
  {
   "cell_type": "code",
   "execution_count": 16,
   "id": "26acbc37",
   "metadata": {
    "execution": {
     "iopub.execute_input": "2022-06-22T11:22:57.199531Z",
     "iopub.status.busy": "2022-06-22T11:22:57.196891Z",
     "iopub.status.idle": "2022-06-22T11:24:43.295890Z",
     "shell.execute_reply": "2022-06-22T11:24:43.296734Z"
    },
    "id": "26acbc37",
    "papermill": {
     "duration": 106.289635,
     "end_time": "2022-06-22T11:24:43.297175",
     "exception": false,
     "start_time": "2022-06-22T11:22:57.007540",
     "status": "completed"
    },
    "tags": []
   },
   "outputs": [
    {
     "data": {
      "image/png": "[encoded data removed]",
      "text/plain": [
       "<Figure size 432x288 with 1 Axes>"
      ]
     },
     "metadata": {
      "needs_background": "light"
     },
     "output_type": "display_data"
    },
    {
     "data": {
      "image/png": "[encoded data removed]",
      "text/plain": [
       "<Figure size 432x288 with 1 Axes>"
      ]
     },
     "metadata": {
      "needs_background": "light"
     },
     "output_type": "display_data"
    }
   ],
   "source": [
    "ABC_train_test2.training_GAN_skip_connection(disc3,gen3,disc_opt,gen_opt,train_data,batch_size,n_epochs,criterion,prior_model,variance,bias,device)"
   ]
  },
  {
   "cell_type": "code",
   "execution_count": 17,
   "id": "c5e0717b",
   "metadata": {
    "execution": {
     "iopub.execute_input": "2022-06-22T11:24:44.107530Z",
     "iopub.status.busy": "2022-06-22T11:24:44.078429Z",
     "iopub.status.idle": "2022-06-22T11:24:47.592274Z",
     "shell.execute_reply": "2022-06-22T11:24:47.593813Z"
    },
    "id": "c5e0717b",
    "papermill": {
     "duration": 4.177939,
     "end_time": "2022-06-22T11:24:47.594128",
     "exception": false,
     "start_time": "2022-06-22T11:24:43.416189",
     "status": "completed"
    },
    "tags": []
   },
   "outputs": [
    {
     "data": {
      "application/scrapbook.scrap.json+json": {
       "data": 0.17029750062047327,
       "encoder": "json",
       "name": "ABC-GAN Model 3 MSE",
       "version": 1
      }
     },
     "metadata": {
      "scrapbook": {
       "data": true,
       "display": false,
       "name": "ABC-GAN Model 3 MSE"
      }
     },
     "output_type": "display_data"
    },
    {
     "data": {
      "application/scrapbook.scrap.json+json": {
       "data": 0.32203045806195585,
       "encoder": "json",
       "name": "ABC-GAN Model 3 MAE",
       "version": 1
      }
     },
     "metadata": {
      "scrapbook": {
       "data": true,
       "display": false,
       "name": "ABC-GAN Model 3 MAE"
      }
     },
     "output_type": "display_data"
    },
    {
     "data": {
      "application/scrapbook.scrap.json+json": {
       "data": 6.440609161239117,
       "encoder": "json",
       "name": "ABC-GAN Model 3 Manhattan Distance",
       "version": 1
      }
     },
     "metadata": {
      "scrapbook": {
       "data": true,
       "display": false,
       "name": "ABC-GAN Model 3 Manhattan Distance"
      }
     },
     "output_type": "display_data"
    },
    {
     "data": {
      "application/scrapbook.scrap.json+json": {
       "data": 1.842398330151115,
       "encoder": "json",
       "name": "ABC-GAN Model 3 Euclidean distance",
       "version": 1
      }
     },
     "metadata": {
      "scrapbook": {
       "data": true,
       "display": false,
       "name": "ABC-GAN Model 3 Euclidean distance"
      }
     },
     "output_type": "display_data"
    },
    {
     "data": {
      "application/scrapbook.scrap.json+json": {
       "data": [
        [
         0.18747296180652584,
         0.16356115942169497,
         0.18056335949583607,
         0.1646354464057022,
         0.1668133096056091,
         0.1712858138763913,
         0.18870840396250554,
         0.15769634485512593,
         0.16464172255303944,
         0.16325056142791294,
         0.16326982286739167,
         0.18646484132929975,
         0.15419223929427966,
         0.2022303772666854,
         0.2107213343528244,
         0.206613315349784,
         0.13435742387851332,
         0.18186300338758005,
         0.17210248637956765,
         0.13649254595162374,
         0.17285703573512015,
         0.19417834120197694,
         0.16252159688679457,
         0.1577078601919967,
         0.163415608330012,
         0.17137608964433348,
         0.12785130812670167,
         0.19669304453448455,
         0.16060756329051587,
         0.1824519293891731,
         0.16201261251104326,
         0.17331214008891271,
         0.16861479586452677,
         0.16233036614419444,
         0.180862087562259,
         0.16588646369038867,
         0.16129273359875368,
         0.18204160776839515,
         0.14945320188594868,
         0.17658891427332643,
         0.15005673403647832,
         0.13644588952789993,
         0.17133944110154187,
         0.1955735922846702,
         0.1633583199850468,
         0.1723627607806142,
         0.19838805179005123,
         0.18251655283320858,
         0.18147744295404022,
         0.15429681883346316,
         0.17953060151679417,
         0.11766123216892903,
         0.16256351685441653,
         0.14940133702533584,
         0.16832324241041915,
         0.20305293154806076,
         0.14134290274038291,
         0.13076504087948182,
         0.21573778241719302,
         0.13988034818242984,
         0.16503074746433236,
         0.16020479334107257,
         0.1619420386162796,
         0.19324522618722195,
         0.19262975234017443,
         0.17203087236104547,
         0.17931098322590291,
         0.2065327301043312,
         0.15846616636718452,
         0.14715099752129293,
         0.1627964258633003,
         0.15262120357406755,
         0.1391240392157131,
         0.1775984756051671,
         0.15039895768261244,
         0.18536204682009721,
         0.19065217672890994,
         0.18636423755707732,
         0.15890267603387714,
         0.18778789380176245,
         0.19086743674014334,
         0.1726435175741276,
         0.1599443780480856,
         0.1714727097763306,
         0.18955314510833982,
         0.18468287657408525,
         0.1713378991612863,
         0.18782976480235572,
         0.17077871671409217,
         0.15927786881636682,
         0.17850776914553806,
         0.17770292985224198,
         0.19394308988712416,
         0.20557788373200445,
         0.17898203446079633,
         0.13768181459021162,
         0.16903771751594565,
         0.1578511236498381,
         0.16452005444499324,
         0.13633857698478985
        ],
        [
         0.3415912387892604,
         0.32729054633527993,
         0.33210938721895217,
         0.31415550913661716,
         0.3159980660304427,
         0.3173405988141894,
         0.34352998714894056,
         0.3187967700883746,
         0.3155421374365687,
         0.32349246423691513,
         0.299190161190927,
         0.3327480535954237,
         0.3064924733713269,
         0.34401386808604,
         0.35987605433911085,
         0.3694756472483277,
         0.27977836932986977,
         0.32033749371767045,
         0.32843019925057887,
         0.2983635289594531,
         0.3153488593176007,
         0.3398565737530589,
         0.30589665938168764,
         0.3220616901293397,
         0.3189008651301265,
         0.30980819594115017,
         0.292373263835907,
         0.3380951462313533,
         0.3137706661596894,
         0.3249490661546588,
         0.308312707953155,
         0.3032282358035445,
         0.32192125748842954,
         0.33099992107599974,
         0.32157252114266155,
         0.3095993285998702,
         0.299572061188519,
         0.33992409948259594,
         0.31008882354944944,
         0.3232827378436923,
         0.2951585264876485,
         0.28911229502409697,
         0.3238476885482669,
         0.3462688041850924,
         0.3075982419773936,
         0.343792212754488,
         0.3455898052081466,
         0.3290552971884608,
         0.3474447352811694,
         0.3024180864915252,
         0.34142766082659365,
         0.27449434120208027,
         0.3285725640133023,
         0.3108844755217433,
         0.31287085395306347,
         0.34645038526505234,
         0.2870513847097754,
         0.3003310902044177,
         0.3662576360628009,
         0.2939022289589047,
         0.3254408286884427,
         0.3055602638050914,
         0.32442447934299706,
         0.3342753453180194,
         0.34344768393784764,
         0.32780755031853914,
         0.34076659511774776,
         0.35917064975947144,
         0.31818568985909224,
         0.29527926426380874,
         0.31332661490887403,
         0.3161018190905452,
         0.3073130900040269,
         0.32864855211228133,
         0.309976271353662,
         0.3344394376501441,
         0.344871592335403,
         0.338700813613832,
         0.31139910947531463,
         0.33408912513405087,
         0.32193123158067466,
         0.3370578413829207,
         0.3037321178242564,
         0.31935401577502487,
         0.3232667276635766,
         0.32759497333317994,
         0.34287785198539494,
         0.3496369918808341,
         0.3330127106979489,
         0.3013520846143365,
         0.3261324955150485,
         0.32796682249754666,
         0.3418816922232509,
         0.3548509245738387,
         0.32864979971200226,
         0.28794861529022453,
         0.32014325391501186,
         0.31305099483579396,
         0.30667726676911117,
         0.29205906968563794
        ],
        [
         6.831824775785208,
         6.545810926705599,
         6.642187744379044,
         6.283110182732344,
         6.319961320608854,
         6.346811976283789,
         6.870599742978811,
         6.375935401767492,
         6.310842748731375,
         6.469849284738302,
         5.983803223818541,
         6.654961071908474,
         6.1298494674265385,
         6.8802773617208,
         7.197521086782217,
         7.389512944966555,
         5.595567386597395,
         6.406749874353409,
         6.568603985011578,
         5.967270579189062,
         6.3069771863520145,
         6.797131475061178,
         6.117933187633753,
         6.441233802586794,
         6.3780173026025295,
         6.196163918823004,
         5.84746527671814,
         6.761902924627066,
         6.2754133231937885,
         6.498981323093176,
         6.166254159063101,
         6.06456471607089,
         6.438425149768591,
         6.619998421519995,
         6.431450422853231,
         6.191986571997404,
         5.99144122377038,
         6.798481989651918,
         6.201776470988989,
         6.465654756873846,
         5.90317052975297,
         5.782245900481939,
         6.476953770965338,
         6.925376083701849,
         6.1519648395478725,
         6.87584425508976,
         6.911796104162931,
         6.5811059437692165,
         6.948894705623388,
         6.0483617298305035,
         6.828553216531873,
         5.489886824041605,
         6.5714512802660465,
         6.217689510434866,
         6.25741707906127,
         6.929007705301046,
         5.741027694195509,
         6.006621804088354,
         7.325152721256018,
         5.878044579178095,
         6.508816573768854,
         6.111205276101828,
         6.4884895868599415,
         6.685506906360388,
         6.868953678756952,
         6.556151006370783,
         6.815331902354956,
         7.183412995189428,
         6.363713797181845,
         5.9055852852761745,
         6.266532298177481,
         6.3220363818109035,
         6.146261800080538,
         6.5729710422456264,
         6.19952542707324,
         6.688788753002882,
         6.897431846708059,
         6.77401627227664,
         6.227982189506292,
         6.681782502681017,
         6.438624631613493,
         6.741156827658415,
         6.074642356485128,
         6.387080315500498,
         6.465334553271532,
         6.551899466663599,
         6.857557039707899,
         6.992739837616682,
         6.660254213958979,
         6.02704169228673,
         6.52264991030097,
         6.5593364499509335,
         6.837633844465017,
         7.097018491476774,
         6.5729959942400455,
         5.758972305804491,
         6.402865078300238,
         6.261019896715879,
         6.133545335382223,
         5.841181393712759
        ],
        [
         1.9363520434390324,
         1.8086523127549692,
         1.9003334417719226,
         1.814582301278739,
         1.8265448782091784,
         1.850869060070924,
         1.9427218224053877,
         1.7759298682950626,
         1.8146168882331026,
         1.8069342070363987,
         1.8070408012404793,
         1.9311387383059755,
         1.7560879208871043,
         2.011120967354701,
         2.052906887088766,
         2.032797655202229,
         1.6392524142334721,
         1.907160210300016,
         1.8552761863375904,
         1.652226049616842,
         1.8593387842731628,
         1.9706767426545477,
         1.802895431725282,
         1.7759947082803862,
         1.8078473847646102,
         1.8513567438196965,
         1.599070405746424,
         1.9833963019753997,
         1.7922475459071823,
         1.910245687806535,
         1.8000700681420336,
         1.8617848430412829,
         1.8363812015185015,
         1.8018344327057048,
         1.901904769236667,
         1.8214634977972448,
         1.7960664441982856,
         1.9080964743345403,
         1.7288909849145995,
         1.8793026061458353,
         1.732378330714618,
         1.6519436402486614,
         1.851158778179451,
         1.9777441304914556,
         1.807530469923242,
         1.856678543962924,
         1.9919239533177526,
         1.9105839569786436,
         1.9051374908601229,
         1.756683345588858,
         1.8948910338950584,
         1.534022373819424,
         1.8031279314259236,
         1.728590969693732,
         1.8347928624802265,
         2.0152068457012584,
         1.6813262785098133,
         1.6171891718625984,
         2.07719899103188,
         1.6726048438434573,
         1.8167594637944362,
         1.78999884548048,
         1.7996779635050244,
         1.9659360426383252,
         1.962802854798079,
         1.85489014424599,
         1.8937316770118353,
         2.0324011912234807,
         1.7802593427205178,
         1.7155232293460378,
         1.8044191634057776,
         1.7471187914624897,
         1.6680769719393234,
         1.88466694991538,
         1.7343526612693996,
         1.925419677992812,
         1.952701598959298,
         1.9306177123246193,
         1.782709600770003,
         1.9379777800674725,
         1.9538036582018334,
         1.8581900740996742,
         1.7885434188080847,
         1.8518785585255348,
         1.9470652023408965,
         1.9218890528544317,
         1.8511504485658983,
         1.938193823137179,
         1.8481272505652426,
         1.7848129807706288,
         1.8894854810002542,
         1.885221100307558,
         1.96948262184323,
         2.027697628997008,
         1.8919938396347717,
         1.659408416214716,
         1.8386827758803075,
         1.776801191185092,
         1.8139462750864108,
         1.65129389864306
        ]
       ],
       "encoder": "json",
       "name": "ABC_GAN_3 Metrics",
       "version": 1
      }
     },
     "metadata": {
      "scrapbook": {
       "data": true,
       "display": false,
       "name": "ABC_GAN_3 Metrics"
      }
     },
     "output_type": "display_data"
    },
    {
     "name": "stdout",
     "output_type": "stream",
     "text": [
      "MSE\n",
      "0.17029750062047327\n"
     ]
    }
   ],
   "source": [
    "ABC_GAN3_metrics=ABC_train_test2.test_generator(gen3,test_data,prior_model,variance,bias,\"3\",device)\n",
    "sb.glue(\"ABC_GAN_3 Metrics\",ABC_GAN3_metrics)\n",
    "\n",
    "print(\"MSE\")\n",
    "print(mean(ABC_GAN3_metrics[0]))"
   ]
  },
  {
   "cell_type": "code",
   "execution_count": 18,
   "id": "c8e46b48",
   "metadata": {
    "execution": {
     "iopub.execute_input": "2022-06-22T11:24:48.130913Z",
     "iopub.status.busy": "2022-06-22T11:24:48.123481Z",
     "iopub.status.idle": "2022-06-22T11:24:50.203702Z",
     "shell.execute_reply": "2022-06-22T11:24:50.204776Z"
    },
    "id": "c8e46b48",
    "papermill": {
     "duration": 2.324994,
     "end_time": "2022-06-22T11:24:50.205144",
     "exception": false,
     "start_time": "2022-06-22T11:24:47.880150",
     "status": "completed"
    },
    "tags": []
   },
   "outputs": [
    {
     "data": {
      "image/png": "[encoded data removed]",
      "text/plain": [
       "<Figure size 432x288 with 1 Axes>"
      ]
     },
     "metadata": {
      "needs_background": "light"
     },
     "output_type": "display_data"
    },
    {
     "data": {
      "image/png": "[encoded data removed]",
      "text/plain": [
       "<Figure size 432x288 with 1 Axes>"
      ]
     },
     "metadata": {
      "needs_background": "light"
     },
     "output_type": "display_data"
    },
    {
     "data": {
      "image/png": "[encoded data removed]",
      "text/plain": [
       "<Figure size 432x288 with 1 Axes>"
      ]
     },
     "metadata": {
      "needs_background": "light"
     },
     "output_type": "display_data"
    },
    {
     "data": {
      "image/png": "[encoded data removed]",
      "text/plain": [
       "<Figure size 432x288 with 1 Axes>"
      ]
     },
     "metadata": {
      "needs_background": "light"
     },
     "output_type": "display_data"
    }
   ],
   "source": [
    "sanityChecks.discProbVsError(train_data,disc3,device)\n",
    "sanityChecks.discProbVsError(test_data,disc3,device)"
   ]
  },
  {
   "cell_type": "markdown",
   "id": "a5bd74c3",
   "metadata": {
    "id": "a5bd74c3",
    "papermill": {
     "duration": 0.177266,
     "end_time": "2022-06-22T11:24:50.501363",
     "exception": false,
     "start_time": "2022-06-22T11:24:50.324097",
     "status": "completed"
    },
    "tags": []
   },
   "source": [
    "## Skip Connection Model Analysis - ABC-GAN "
   ]
  },
  {
   "cell_type": "markdown",
   "id": "5744a8bf",
   "metadata": {
    "id": "5744a8bf",
    "papermill": {
     "duration": 0.276501,
     "end_time": "2022-06-22T11:24:51.043933",
     "exception": false,
     "start_time": "2022-06-22T11:24:50.767432",
     "status": "completed"
    },
    "tags": []
   },
   "source": [
    "### Weight Analysis \n",
    "\n",
    "Study the weights of the skip connection layer\n",
    "\n",
    "Equation of the skip connection is \n",
    "\n",
    "$output = y_{gan} * w + y_{abc} * (1-w)$"
   ]
  },
  {
   "cell_type": "code",
   "execution_count": 19,
   "id": "52c31dea",
   "metadata": {
    "execution": {
     "iopub.execute_input": "2022-06-22T11:24:52.127044Z",
     "iopub.status.busy": "2022-06-22T11:24:52.117031Z",
     "iopub.status.idle": "2022-06-22T11:24:52.137024Z",
     "shell.execute_reply": "2022-06-22T11:24:52.120190Z"
    },
    "id": "52c31dea",
    "papermill": {
     "duration": 0.984092,
     "end_time": "2022-06-22T11:24:52.145672",
     "exception": false,
     "start_time": "2022-06-22T11:24:51.161580",
     "status": "completed"
    },
    "tags": []
   },
   "outputs": [
    {
     "name": "stdout",
     "output_type": "stream",
     "text": [
      "Weight of the node at skip connection\n",
      "Parameter containing:\n",
      "tensor([[0.1231]], requires_grad=True)\n"
     ]
    },
    {
     "data": {
      "application/scrapbook.scrap.json+json": {
       "data": 0.12314990907907486,
       "encoder": "json",
       "name": "Skip Connection Weight",
       "version": 1
      }
     },
     "metadata": {
      "scrapbook": {
       "data": true,
       "display": false,
       "name": "Skip Connection Weight"
      }
     },
     "output_type": "display_data"
    }
   ],
   "source": [
    "print(\"Weight of the node at skip connection\")\n",
    "for name,param in gen3.named_parameters():\n",
    "    if(name == \"skipNode.weight\"):\n",
    "        print(param)\n",
    "        sb.glue(\"Skip Connection Weight\",param.item())"
   ]
  }
 ],
 "metadata": {
  "colab": {
   "collapsed_sections": [],
   "name": "ABC_GAN_Model-Catboost_Pre-gen.ipynb",
   "provenance": []
  },
  "interpreter": {
   "hash": "31f2aee4e71d21fbe5cf8b01ff0e069b9275f58929596ceb00d14d90e3e16cd6"
  },
  "kernelspec": {
   "display_name": "Python 3 (ipykernel)",
   "language": "python",
   "name": "python3"
  },
  "language_info": {
   "codemirror_mode": {
    "name": "ipython",
    "version": 3
   },
   "file_extension": ".py",
   "mimetype": "text/x-python",
   "name": "python",
   "nbconvert_exporter": "python",
   "pygments_lexer": "ipython3",
   "version": "3.8.3"
  },
  "papermill": {
   "default_parameters": {},
   "duration": 220.653567,
   "end_time": "2022-06-22T11:24:55.867483",
   "environment_variables": {},
   "exception": null,
   "input_path": "ABC_GAN-TabNet.ipynb",
   "output_path": "./ABC_GAN_TabNet/ABC-GAN_output_1_0.ipynb",
   "parameters": {
    "bias": 1,
    "variance": 1
   },
   "start_time": "2022-06-22T11:21:15.213916",
   "version": "2.3.3"
  }
 },
 "nbformat": 4,
 "nbformat_minor": 5
}