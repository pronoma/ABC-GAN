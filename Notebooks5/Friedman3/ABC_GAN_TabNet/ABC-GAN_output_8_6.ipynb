{
 "cells": [
  {
   "cell_type": "markdown",
   "id": "622780e6",
   "metadata": {
    "id": "622780e6",
    "papermill": {
     "duration": 0.024885,
     "end_time": "2022-06-22T15:27:50.382723",
     "exception": false,
     "start_time": "2022-06-22T15:27:50.357838",
     "status": "completed"
    },
    "tags": []
   },
   "source": [
    "## Import Libraries "
   ]
  },
  {
   "cell_type": "code",
   "execution_count": 1,
   "id": "a62397e3",
   "metadata": {
    "execution": {
     "iopub.execute_input": "2022-06-22T15:27:50.474605Z",
     "iopub.status.busy": "2022-06-22T15:27:50.473599Z",
     "iopub.status.idle": "2022-06-22T15:27:50.480078Z",
     "shell.execute_reply": "2022-06-22T15:27:50.481035Z"
    },
    "id": "a62397e3",
    "papermill": {
     "duration": 0.06728,
     "end_time": "2022-06-22T15:27:50.481482",
     "exception": false,
     "start_time": "2022-06-22T15:27:50.414202",
     "status": "completed"
    },
    "tags": []
   },
   "outputs": [],
   "source": [
    "import warnings\n",
    "import sys\n",
    "sys.path.insert(0, '../../src')\n",
    "warnings.filterwarnings('ignore')"
   ]
  },
  {
   "cell_type": "code",
   "execution_count": 2,
   "id": "d6a4e155",
   "metadata": {
    "execution": {
     "iopub.execute_input": "2022-06-22T15:27:50.520681Z",
     "iopub.status.busy": "2022-06-22T15:27:50.519821Z",
     "iopub.status.idle": "2022-06-22T15:27:56.230612Z",
     "shell.execute_reply": "2022-06-22T15:27:56.229927Z"
    },
    "id": "d6a4e155",
    "papermill": {
     "duration": 5.731843,
     "end_time": "2022-06-22T15:27:56.230837",
     "exception": false,
     "start_time": "2022-06-22T15:27:50.498994",
     "status": "completed"
    },
    "tags": []
   },
   "outputs": [],
   "source": [
    "import ABC_train_test2\n",
    "import friedman3Dataset\n",
    "import network\n",
    "import dataset\n",
    "import sanityChecks\n",
    "import torch \n",
    "import scrapbook as sb\n",
    "from statistics import mean \n",
    "import catboost as ctb \n",
    "from sklearn.model_selection import train_test_split\n",
    "from sklearn.metrics import mean_squared_error,mean_absolute_error\n",
    "import numpy as np\n",
    "from pytorch_tabnet.tab_model import TabNetRegressor"
   ]
  },
  {
   "cell_type": "markdown",
   "id": "2fa5b0f7",
   "metadata": {
    "id": "2fa5b0f7",
    "papermill": {
     "duration": 0.018675,
     "end_time": "2022-06-22T15:27:56.266624",
     "exception": false,
     "start_time": "2022-06-22T15:27:56.247949",
     "status": "completed"
    },
    "tags": []
   },
   "source": [
    "## Parameters "
   ]
  },
  {
   "cell_type": "code",
   "execution_count": 3,
   "id": "783186fb",
   "metadata": {
    "execution": {
     "iopub.execute_input": "2022-06-22T15:27:56.309414Z",
     "iopub.status.busy": "2022-06-22T15:27:56.307481Z",
     "iopub.status.idle": "2022-06-22T15:27:56.310482Z",
     "shell.execute_reply": "2022-06-22T15:27:56.311028Z"
    },
    "id": "783186fb",
    "papermill": {
     "duration": 0.024917,
     "end_time": "2022-06-22T15:27:56.311258",
     "exception": false,
     "start_time": "2022-06-22T15:27:56.286341",
     "status": "completed"
    },
    "tags": [
     "parameters"
    ]
   },
   "outputs": [],
   "source": [
    "variance = 1\n",
    "bias = 1 "
   ]
  },
  {
   "cell_type": "code",
   "execution_count": 4,
   "id": "05c39d40",
   "metadata": {
    "execution": {
     "iopub.execute_input": "2022-06-22T15:27:56.344768Z",
     "iopub.status.busy": "2022-06-22T15:27:56.343382Z",
     "iopub.status.idle": "2022-06-22T15:27:56.345576Z",
     "shell.execute_reply": "2022-06-22T15:27:56.346025Z"
    },
    "papermill": {
     "duration": 0.019094,
     "end_time": "2022-06-22T15:27:56.346220",
     "exception": false,
     "start_time": "2022-06-22T15:27:56.327126",
     "status": "completed"
    },
    "tags": [
     "injected-parameters"
    ]
   },
   "outputs": [],
   "source": [
    "# Parameters\n",
    "variance = 1\n",
    "bias = 0.01\n"
   ]
  },
  {
   "cell_type": "markdown",
   "id": "391cdbfd",
   "metadata": {
    "id": "391cdbfd",
    "papermill": {
     "duration": 0.017259,
     "end_time": "2022-06-22T15:27:56.376808",
     "exception": false,
     "start_time": "2022-06-22T15:27:56.359549",
     "status": "completed"
    },
    "tags": []
   },
   "source": [
    "## Dataset \n"
   ]
  },
  {
   "cell_type": "code",
   "execution_count": 5,
   "id": "5b51f161",
   "metadata": {
    "execution": {
     "iopub.execute_input": "2022-06-22T15:27:56.413589Z",
     "iopub.status.busy": "2022-06-22T15:27:56.412756Z",
     "iopub.status.idle": "2022-06-22T15:27:56.414795Z",
     "shell.execute_reply": "2022-06-22T15:27:56.415412Z"
    },
    "id": "5b51f161",
    "papermill": {
     "duration": 0.021259,
     "end_time": "2022-06-22T15:27:56.415631",
     "exception": false,
     "start_time": "2022-06-22T15:27:56.394372",
     "status": "completed"
    },
    "tags": []
   },
   "outputs": [],
   "source": [
    "#Parameters \n",
    "n_features = 4\n",
    "n_samples= 100\n",
    "n_target = 1"
   ]
  },
  {
   "cell_type": "code",
   "execution_count": 6,
   "id": "5d6eced4",
   "metadata": {
    "execution": {
     "iopub.execute_input": "2022-06-22T15:27:56.446454Z",
     "iopub.status.busy": "2022-06-22T15:27:56.445771Z",
     "iopub.status.idle": "2022-06-22T15:27:56.457090Z",
     "shell.execute_reply": "2022-06-22T15:27:56.457510Z"
    },
    "id": "5d6eced4",
    "papermill": {
     "duration": 0.028534,
     "end_time": "2022-06-22T15:27:56.457711",
     "exception": false,
     "start_time": "2022-06-22T15:27:56.429177",
     "status": "completed"
    },
    "tags": []
   },
   "outputs": [
    {
     "name": "stdout",
     "output_type": "stream",
     "text": [
      "          X1           X2        X3        X4         Y\n",
      "0  33.333323  1262.870236  0.209198  2.661930  1.364371\n",
      "1  24.892302   450.224668  0.539540  3.177881  1.444148\n",
      "2  38.892521   505.930832  0.780592  8.556770  1.342806\n",
      "3  80.392530   237.541851  0.926650  9.629519  1.267781\n",
      "4  12.814788  1739.177574  0.276086  2.365655  1.540071\n"
     ]
    }
   ],
   "source": [
    "X,Y = friedman3Dataset.friedman3_data(n_samples)"
   ]
  },
  {
   "cell_type": "code",
   "execution_count": 7,
   "id": "fe007438",
   "metadata": {
    "execution": {
     "iopub.execute_input": "2022-06-22T15:27:56.496955Z",
     "iopub.status.busy": "2022-06-22T15:27:56.495901Z",
     "iopub.status.idle": "2022-06-22T15:27:56.498278Z",
     "shell.execute_reply": "2022-06-22T15:27:56.497643Z"
    },
    "id": "fe007438",
    "papermill": {
     "duration": 0.02732,
     "end_time": "2022-06-22T15:27:56.498477",
     "exception": false,
     "start_time": "2022-06-22T15:27:56.471157",
     "status": "completed"
    },
    "tags": []
   },
   "outputs": [],
   "source": [
    "#Train test split for dataset \n",
    "X_train,X_test,Y_train,Y_test = train_test_split(X,Y,test_size = 0.2)\n",
    "train_data = dataset.CustomDataset(X_train,Y_train)\n",
    "test_data = dataset.CustomDataset(X_test,Y_test)\n"
   ]
  },
  {
   "cell_type": "markdown",
   "id": "a9a1af34",
   "metadata": {
    "id": "a9a1af34",
    "papermill": {
     "duration": 0.016074,
     "end_time": "2022-06-22T15:27:56.533351",
     "exception": false,
     "start_time": "2022-06-22T15:27:56.517277",
     "status": "completed"
    },
    "tags": []
   },
   "source": [
    "## Training Parameters "
   ]
  },
  {
   "cell_type": "code",
   "execution_count": 8,
   "id": "952b7fc8",
   "metadata": {
    "execution": {
     "iopub.execute_input": "2022-06-22T15:27:56.564827Z",
     "iopub.status.busy": "2022-06-22T15:27:56.563889Z",
     "iopub.status.idle": "2022-06-22T15:27:56.565928Z",
     "shell.execute_reply": "2022-06-22T15:27:56.566564Z"
    },
    "id": "952b7fc8",
    "papermill": {
     "duration": 0.019699,
     "end_time": "2022-06-22T15:27:56.566788",
     "exception": false,
     "start_time": "2022-06-22T15:27:56.547089",
     "status": "completed"
    },
    "tags": []
   },
   "outputs": [],
   "source": [
    "batch_size = 32\n",
    "n_epochs = 1000\n",
    "#Select the device \n",
    "device = torch.device('cuda' if torch.cuda.is_available() else 'cpu')"
   ]
  },
  {
   "cell_type": "markdown",
   "id": "a95e1600",
   "metadata": {
    "id": "a95e1600",
    "papermill": {
     "duration": 0.019028,
     "end_time": "2022-06-22T15:27:56.600179",
     "exception": false,
     "start_time": "2022-06-22T15:27:56.581151",
     "status": "completed"
    },
    "tags": []
   },
   "source": [
    "# ABC Pre-generator Model \n",
    "\n",
    "1. The catboost model is used as a pre-generator model for the ABC-GAN. \n",
    "2. The model is first trained on the entire dataset \n",
    "3. It generats X,Y pairs and we add some Gaussian noise with mean 0 and variance 1 to it which is then feed as input to the generator.\n"
   ]
  },
  {
   "cell_type": "code",
   "execution_count": 9,
   "id": "ff8ce7bd",
   "metadata": {
    "execution": {
     "iopub.execute_input": "2022-06-22T15:27:56.636043Z",
     "iopub.status.busy": "2022-06-22T15:27:56.635273Z",
     "iopub.status.idle": "2022-06-22T15:28:05.721448Z",
     "shell.execute_reply": "2022-06-22T15:28:05.721889Z"
    },
    "id": "ff8ce7bd",
    "papermill": {
     "duration": 9.105702,
     "end_time": "2022-06-22T15:28:05.722109",
     "exception": false,
     "start_time": "2022-06-22T15:27:56.616407",
     "status": "completed"
    },
    "tags": []
   },
   "outputs": [
    {
     "name": "stdout",
     "output_type": "stream",
     "text": [
      "Device used : cpu\n"
     ]
    },
    {
     "name": "stdout",
     "output_type": "stream",
     "text": [
      "epoch 0  | loss: 0.9838  | train_mse: 2.52224 | train_mae: 1.20541 |  0:00:00s\n",
      "epoch 1  | loss: 0.57686 | train_mse: 2.45699 | train_mae: 1.11495 |  0:00:00s\n",
      "epoch 2  | loss: 0.72085 | train_mse: 1.92078 | train_mae: 1.05694 |  0:00:00s\n"
     ]
    },
    {
     "name": "stdout",
     "output_type": "stream",
     "text": [
      "epoch 3  | loss: 0.46749 | train_mse: 1.24661 | train_mae: 0.89859 |  0:00:00s\n",
      "epoch 4  | loss: 0.42177 | train_mse: 1.26356 | train_mae: 0.909   |  0:00:00s\n",
      "epoch 5  | loss: 0.36142 | train_mse: 1.1082  | train_mae: 0.87645 |  0:00:00s\n"
     ]
    },
    {
     "name": "stdout",
     "output_type": "stream",
     "text": [
      "epoch 6  | loss: 0.36264 | train_mse: 0.79932 | train_mae: 0.74311 |  0:00:00s\n",
      "epoch 7  | loss: 0.26884 | train_mse: 0.98605 | train_mae: 0.73573 |  0:00:00s\n",
      "epoch 8  | loss: 0.29462 | train_mse: 1.12281 | train_mae: 0.79171 |  0:00:00s\n"
     ]
    },
    {
     "name": "stdout",
     "output_type": "stream",
     "text": [
      "epoch 9  | loss: 0.3454  | train_mse: 1.01016 | train_mae: 0.74018 |  0:00:00s\n",
      "epoch 10 | loss: 0.40622 | train_mse: 0.6429  | train_mae: 0.60516 |  0:00:00s\n",
      "epoch 11 | loss: 0.22176 | train_mse: 0.39126 | train_mae: 0.49224 |  0:00:00s\n",
      "epoch 12 | loss: 0.32163 | train_mse: 0.54256 | train_mae: 0.55022 |  0:00:01s\n"
     ]
    },
    {
     "name": "stdout",
     "output_type": "stream",
     "text": [
      "epoch 13 | loss: 0.3684  | train_mse: 0.66552 | train_mae: 0.58541 |  0:00:01s\n",
      "epoch 14 | loss: 0.22606 | train_mse: 0.79841 | train_mae: 0.62409 |  0:00:01s\n",
      "epoch 15 | loss: 0.35675 | train_mse: 0.82928 | train_mae: 0.63603 |  0:00:01s\n",
      "epoch 16 | loss: 0.27377 | train_mse: 0.50043 | train_mae: 0.54842 |  0:00:01s\n"
     ]
    },
    {
     "name": "stdout",
     "output_type": "stream",
     "text": [
      "epoch 17 | loss: 0.25043 | train_mse: 0.37507 | train_mae: 0.48168 |  0:00:01s\n",
      "epoch 18 | loss: 0.20305 | train_mse: 0.3811  | train_mae: 0.46928 |  0:00:01s\n",
      "epoch 19 | loss: 0.40095 | train_mse: 0.4309  | train_mae: 0.50301 |  0:00:01s\n"
     ]
    },
    {
     "name": "stdout",
     "output_type": "stream",
     "text": [
      "epoch 20 | loss: 0.17068 | train_mse: 0.47479 | train_mae: 0.5299  |  0:00:01s\n",
      "epoch 21 | loss: 0.15072 | train_mse: 0.38809 | train_mae: 0.47668 |  0:00:01s\n",
      "epoch 22 | loss: 0.19859 | train_mse: 0.2872  | train_mae: 0.41941 |  0:00:01s\n",
      "epoch 23 | loss: 0.17277 | train_mse: 0.25747 | train_mae: 0.38583 |  0:00:01s\n"
     ]
    },
    {
     "name": "stdout",
     "output_type": "stream",
     "text": [
      "epoch 24 | loss: 0.23187 | train_mse: 0.27538 | train_mae: 0.39948 |  0:00:01s\n",
      "epoch 25 | loss: 0.2264  | train_mse: 0.24116 | train_mae: 0.37548 |  0:00:01s\n",
      "epoch 26 | loss: 0.16206 | train_mse: 0.25326 | train_mae: 0.38546 |  0:00:01s\n",
      "epoch 27 | loss: 0.21822 | train_mse: 0.33378 | train_mae: 0.44016 |  0:00:02s\n"
     ]
    },
    {
     "name": "stdout",
     "output_type": "stream",
     "text": [
      "epoch 28 | loss: 0.15157 | train_mse: 0.29958 | train_mae: 0.42089 |  0:00:02s\n",
      "epoch 29 | loss: 0.14742 | train_mse: 0.24361 | train_mae: 0.38191 |  0:00:02s\n",
      "epoch 30 | loss: 0.13674 | train_mse: 0.1965  | train_mae: 0.34068 |  0:00:02s\n",
      "epoch 31 | loss: 0.17001 | train_mse: 0.153   | train_mae: 0.30811 |  0:00:02s\n"
     ]
    },
    {
     "name": "stdout",
     "output_type": "stream",
     "text": [
      "epoch 32 | loss: 0.2121  | train_mse: 0.18975 | train_mae: 0.32891 |  0:00:02s\n",
      "epoch 33 | loss: 0.16349 | train_mse: 0.18217 | train_mae: 0.32305 |  0:00:02s\n",
      "epoch 34 | loss: 0.11212 | train_mse: 0.14611 | train_mae: 0.29656 |  0:00:02s\n"
     ]
    },
    {
     "name": "stdout",
     "output_type": "stream",
     "text": [
      "epoch 35 | loss: 0.10702 | train_mse: 0.13015 | train_mae: 0.28341 |  0:00:02s\n",
      "epoch 36 | loss: 0.13309 | train_mse: 0.11516 | train_mae: 0.26096 |  0:00:02s\n",
      "epoch 37 | loss: 0.11822 | train_mse: 0.11174 | train_mae: 0.25711 |  0:00:02s\n"
     ]
    },
    {
     "name": "stdout",
     "output_type": "stream",
     "text": [
      "epoch 38 | loss: 0.15852 | train_mse: 0.12703 | train_mae: 0.26573 |  0:00:02s\n",
      "epoch 39 | loss: 0.19412 | train_mse: 0.11897 | train_mae: 0.26572 |  0:00:02s\n",
      "epoch 40 | loss: 0.14889 | train_mse: 0.12806 | train_mae: 0.28536 |  0:00:02s\n",
      "epoch 41 | loss: 0.18705 | train_mse: 0.11237 | train_mae: 0.26088 |  0:00:03s\n"
     ]
    },
    {
     "name": "stdout",
     "output_type": "stream",
     "text": [
      "epoch 42 | loss: 0.22074 | train_mse: 0.11593 | train_mae: 0.26117 |  0:00:03s\n",
      "epoch 43 | loss: 0.16251 | train_mse: 0.11992 | train_mae: 0.2718  |  0:00:03s\n"
     ]
    },
    {
     "name": "stdout",
     "output_type": "stream",
     "text": [
      "epoch 44 | loss: 0.14631 | train_mse: 0.12717 | train_mae: 0.28112 |  0:00:03s\n",
      "epoch 45 | loss: 0.16159 | train_mse: 0.09841 | train_mae: 0.24549 |  0:00:03s\n",
      "epoch 46 | loss: 0.13411 | train_mse: 0.08716 | train_mae: 0.23501 |  0:00:03s\n"
     ]
    },
    {
     "name": "stdout",
     "output_type": "stream",
     "text": [
      "epoch 47 | loss: 0.18068 | train_mse: 0.09013 | train_mae: 0.23602 |  0:00:03s\n",
      "epoch 48 | loss: 0.08756 | train_mse: 0.0928  | train_mae: 0.23819 |  0:00:03s\n",
      "epoch 49 | loss: 0.16993 | train_mse: 0.10434 | train_mae: 0.24984 |  0:00:03s\n",
      "epoch 50 | loss: 0.15913 | train_mse: 0.08849 | train_mae: 0.23495 |  0:00:03s\n"
     ]
    },
    {
     "name": "stdout",
     "output_type": "stream",
     "text": [
      "epoch 51 | loss: 0.0982  | train_mse: 0.08094 | train_mae: 0.22175 |  0:00:03s\n",
      "epoch 52 | loss: 0.11886 | train_mse: 0.07305 | train_mae: 0.21282 |  0:00:03s\n",
      "epoch 53 | loss: 0.1372  | train_mse: 0.072   | train_mae: 0.2073  |  0:00:03s\n"
     ]
    },
    {
     "name": "stdout",
     "output_type": "stream",
     "text": [
      "epoch 54 | loss: 0.09686 | train_mse: 0.07842 | train_mae: 0.21455 |  0:00:04s\n",
      "epoch 55 | loss: 0.14161 | train_mse: 0.09363 | train_mae: 0.23723 |  0:00:04s\n",
      "epoch 56 | loss: 0.12683 | train_mse: 0.11339 | train_mae: 0.24539 |  0:00:04s\n",
      "epoch 57 | loss: 0.1181  | train_mse: 0.13377 | train_mae: 0.26005 |  0:00:04s\n"
     ]
    },
    {
     "name": "stdout",
     "output_type": "stream",
     "text": [
      "epoch 58 | loss: 0.35374 | train_mse: 0.1189  | train_mae: 0.25132 |  0:00:04s\n",
      "epoch 59 | loss: 0.14535 | train_mse: 0.09124 | train_mae: 0.23213 |  0:00:04s\n",
      "epoch 60 | loss: 0.16004 | train_mse: 0.08088 | train_mae: 0.21804 |  0:00:04s\n",
      "epoch 61 | loss: 0.17417 | train_mse: 0.08529 | train_mae: 0.22083 |  0:00:04s\n"
     ]
    },
    {
     "name": "stdout",
     "output_type": "stream",
     "text": [
      "epoch 62 | loss: 0.12055 | train_mse: 0.07535 | train_mae: 0.20661 |  0:00:04s\n",
      "epoch 63 | loss: 0.16302 | train_mse: 0.10962 | train_mae: 0.25934 |  0:00:04s\n",
      "epoch 64 | loss: 0.184   | train_mse: 0.08939 | train_mae: 0.22476 |  0:00:04s\n"
     ]
    },
    {
     "name": "stdout",
     "output_type": "stream",
     "text": [
      "epoch 65 | loss: 0.24954 | train_mse: 0.07822 | train_mae: 0.21843 |  0:00:04s\n",
      "epoch 66 | loss: 0.12208 | train_mse: 0.07266 | train_mae: 0.20846 |  0:00:04s\n",
      "epoch 67 | loss: 0.10073 | train_mse: 0.06749 | train_mae: 0.19449 |  0:00:04s\n"
     ]
    },
    {
     "name": "stdout",
     "output_type": "stream",
     "text": [
      "epoch 68 | loss: 0.16189 | train_mse: 0.06338 | train_mae: 0.18606 |  0:00:04s\n",
      "epoch 69 | loss: 0.25847 | train_mse: 0.0691  | train_mae: 0.19926 |  0:00:05s\n",
      "epoch 70 | loss: 0.22857 | train_mse: 0.08329 | train_mae: 0.21499 |  0:00:05s\n",
      "epoch 71 | loss: 0.0997  | train_mse: 0.10177 | train_mae: 0.22719 |  0:00:05s\n",
      "epoch 72 | loss: 0.11031 | train_mse: 0.11493 | train_mae: 0.24141 |  0:00:05s\n"
     ]
    },
    {
     "name": "stdout",
     "output_type": "stream",
     "text": [
      "epoch 73 | loss: 0.24078 | train_mse: 0.13251 | train_mae: 0.25695 |  0:00:05s\n",
      "epoch 74 | loss: 0.1283  | train_mse: 0.1161  | train_mae: 0.25426 |  0:00:05s\n",
      "epoch 75 | loss: 0.14989 | train_mse: 0.0935  | train_mae: 0.23306 |  0:00:05s\n",
      "epoch 76 | loss: 0.15166 | train_mse: 0.09102 | train_mae: 0.23626 |  0:00:05s\n"
     ]
    },
    {
     "name": "stdout",
     "output_type": "stream",
     "text": [
      "epoch 77 | loss: 0.14733 | train_mse: 0.07312 | train_mae: 0.21105 |  0:00:05s\n",
      "epoch 78 | loss: 0.099   | train_mse: 0.07302 | train_mae: 0.21159 |  0:00:05s\n",
      "epoch 79 | loss: 0.16804 | train_mse: 0.07588 | train_mae: 0.21941 |  0:00:05s\n",
      "epoch 80 | loss: 0.08988 | train_mse: 0.07257 | train_mae: 0.21962 |  0:00:05s\n"
     ]
    },
    {
     "name": "stdout",
     "output_type": "stream",
     "text": [
      "epoch 81 | loss: 0.2143  | train_mse: 0.08839 | train_mae: 0.24399 |  0:00:05s\n",
      "epoch 82 | loss: 0.10337 | train_mse: 0.08462 | train_mae: 0.2368  |  0:00:05s\n",
      "epoch 83 | loss: 0.27806 | train_mse: 0.08944 | train_mae: 0.24293 |  0:00:05s\n"
     ]
    },
    {
     "name": "stdout",
     "output_type": "stream",
     "text": [
      "epoch 84 | loss: 0.11104 | train_mse: 0.09996 | train_mae: 0.25503 |  0:00:06s\n",
      "epoch 85 | loss: 0.11938 | train_mse: 0.08614 | train_mae: 0.23457 |  0:00:06s\n",
      "epoch 86 | loss: 0.14399 | train_mse: 0.07642 | train_mae: 0.21917 |  0:00:06s\n"
     ]
    },
    {
     "name": "stdout",
     "output_type": "stream",
     "text": [
      "epoch 87 | loss: 0.14243 | train_mse: 0.06961 | train_mae: 0.21086 |  0:00:06s\n",
      "epoch 88 | loss: 0.14916 | train_mse: 0.07999 | train_mae: 0.23656 |  0:00:06s\n"
     ]
    },
    {
     "name": "stdout",
     "output_type": "stream",
     "text": [
      "epoch 89 | loss: 0.12701 | train_mse: 0.07182 | train_mae: 0.21938 |  0:00:06s\n",
      "epoch 90 | loss: 0.10565 | train_mse: 0.07618 | train_mae: 0.22056 |  0:00:06s\n"
     ]
    },
    {
     "name": "stdout",
     "output_type": "stream",
     "text": [
      "epoch 91 | loss: 0.1782  | train_mse: 0.06728 | train_mae: 0.2067  |  0:00:06s\n",
      "epoch 92 | loss: 0.09296 | train_mse: 0.0941  | train_mae: 0.24902 |  0:00:07s\n"
     ]
    },
    {
     "name": "stdout",
     "output_type": "stream",
     "text": [
      "epoch 93 | loss: 0.11394 | train_mse: 0.11944 | train_mae: 0.27078 |  0:00:07s\n",
      "epoch 94 | loss: 0.10298 | train_mse: 0.08601 | train_mae: 0.23265 |  0:00:07s\n"
     ]
    },
    {
     "name": "stdout",
     "output_type": "stream",
     "text": [
      "epoch 95 | loss: 0.1275  | train_mse: 0.07426 | train_mae: 0.21451 |  0:00:07s\n",
      "epoch 96 | loss: 0.18704 | train_mse: 0.08865 | train_mae: 0.23951 |  0:00:07s\n",
      "epoch 97 | loss: 0.23105 | train_mse: 0.09062 | train_mae: 0.24107 |  0:00:07s\n"
     ]
    },
    {
     "name": "stdout",
     "output_type": "stream",
     "text": [
      "epoch 98 | loss: 0.13138 | train_mse: 0.08273 | train_mae: 0.22832 |  0:00:07s\n",
      "epoch 99 | loss: 0.12967 | train_mse: 0.074   | train_mae: 0.21838 |  0:00:07s\n",
      "epoch 100| loss: 0.20029 | train_mse: 0.06582 | train_mae: 0.20039 |  0:00:07s\n",
      "epoch 101| loss: 0.12504 | train_mse: 0.06716 | train_mae: 0.20717 |  0:00:07s\n"
     ]
    },
    {
     "name": "stdout",
     "output_type": "stream",
     "text": [
      "epoch 102| loss: 0.1643  | train_mse: 0.10922 | train_mae: 0.23725 |  0:00:07s\n",
      "epoch 103| loss: 0.11308 | train_mse: 0.09361 | train_mae: 0.22577 |  0:00:07s\n",
      "epoch 104| loss: 0.16797 | train_mse: 0.08679 | train_mae: 0.22814 |  0:00:08s\n",
      "epoch 105| loss: 0.09722 | train_mse: 0.09046 | train_mae: 0.23549 |  0:00:08s\n"
     ]
    },
    {
     "name": "stdout",
     "output_type": "stream",
     "text": [
      "epoch 106| loss: 0.1871  | train_mse: 0.09297 | train_mae: 0.24202 |  0:00:08s\n",
      "epoch 107| loss: 0.17375 | train_mse: 0.10056 | train_mae: 0.25189 |  0:00:08s\n",
      "epoch 108| loss: 0.11897 | train_mse: 0.09234 | train_mae: 0.24453 |  0:00:08s\n",
      "epoch 109| loss: 0.17675 | train_mse: 0.08852 | train_mae: 0.23431 |  0:00:08s\n"
     ]
    },
    {
     "name": "stdout",
     "output_type": "stream",
     "text": [
      "epoch 110| loss: 0.13925 | train_mse: 0.09078 | train_mae: 0.23226 |  0:00:08s\n",
      "epoch 111| loss: 0.1493  | train_mse: 0.10092 | train_mae: 0.24226 |  0:00:08s\n",
      "epoch 112| loss: 0.2105  | train_mse: 0.09374 | train_mae: 0.23414 |  0:00:08s\n"
     ]
    },
    {
     "name": "stdout",
     "output_type": "stream",
     "text": [
      "epoch 113| loss: 0.15253 | train_mse: 0.07512 | train_mae: 0.21304 |  0:00:08s\n",
      "epoch 114| loss: 0.10121 | train_mse: 0.07969 | train_mae: 0.22865 |  0:00:08s\n",
      "epoch 115| loss: 0.16135 | train_mse: 0.08283 | train_mae: 0.23242 |  0:00:08s\n"
     ]
    },
    {
     "name": "stdout",
     "output_type": "stream",
     "text": [
      "epoch 116| loss: 0.10015 | train_mse: 0.07143 | train_mae: 0.21406 |  0:00:08s\n",
      "epoch 117| loss: 0.12412 | train_mse: 0.07969 | train_mae: 0.21899 |  0:00:08s\n",
      "epoch 118| loss: 0.17736 | train_mse: 0.0883  | train_mae: 0.23609 |  0:00:09s\n",
      "\n",
      "Early stopping occurred at epoch 118 with best_epoch = 68 and best_train_mae = 0.18606\n",
      "Best weights from best epoch are automatically used!\n"
     ]
    }
   ],
   "source": [
    "#Train the Model\n",
    "\n",
    "Y_train = np.reshape(Y_train, (-1, 1))\n",
    "Y_test = np.reshape(Y_test, (-1, 1))\n",
    "\n",
    "prior_model = TabNetRegressor(optimizer_fn=torch.optim.Adam, optimizer_params=dict(lr = 0.02),\n",
    "          #scheduler_params={\"step_size\":10, ], \"gamma\":0.9},\n",
    "          #scheduler_fn=torch.optim.lr_scheduler.StepLR\n",
    "          )  #TabNetRegressor()\n",
    "\n",
    "prior_model.fit(X_train,Y_train,eval_set=[(X_train, Y_train)],\n",
    "            eval_name=['train'], \n",
    "            eval_metric=[ 'mse', 'mae'], \n",
    "            max_epochs = n_epochs, \n",
    "            batch_size = batch_size,\n",
    "            patience=50\n",
    "            )"
   ]
  },
  {
   "cell_type": "code",
   "execution_count": 10,
   "id": "af65dcda",
   "metadata": {
    "execution": {
     "iopub.execute_input": "2022-06-22T15:28:05.773288Z",
     "iopub.status.busy": "2022-06-22T15:28:05.772589Z",
     "iopub.status.idle": "2022-06-22T15:28:05.791198Z",
     "shell.execute_reply": "2022-06-22T15:28:05.791626Z"
    },
    "id": "af65dcda",
    "papermill": {
     "duration": 0.047265,
     "end_time": "2022-06-22T15:28:05.791840",
     "exception": false,
     "start_time": "2022-06-22T15:28:05.744575",
     "status": "completed"
    },
    "tags": []
   },
   "outputs": [
    {
     "data": {
      "application/scrapbook.scrap.json+json": {
       "data": 0.1855387203376647,
       "encoder": "json",
       "name": "Prior Model MSE",
       "version": 1
      }
     },
     "metadata": {
      "scrapbook": {
       "data": true,
       "display": false,
       "name": "Prior Model MSE"
      }
     },
     "output_type": "display_data"
    },
    {
     "data": {
      "application/scrapbook.scrap.json+json": {
       "data": 0.857691174378948,
       "encoder": "json",
       "name": "ABC Pre-generator MSE",
       "version": 1
      }
     },
     "metadata": {
      "scrapbook": {
       "data": true,
       "display": false,
       "name": "ABC Pre-generator MSE"
      }
     },
     "output_type": "display_data"
    },
    {
     "data": {
      "application/scrapbook.scrap.json+json": {
       "data": 0.37879141410460576,
       "encoder": "json",
       "name": "Prior Model MSE",
       "version": 1
      }
     },
     "metadata": {
      "scrapbook": {
       "data": true,
       "display": false,
       "name": "Prior Model MSE"
      }
     },
     "output_type": "display_data"
    },
    {
     "data": {
      "application/scrapbook.scrap.json+json": {
       "data": 0.7598508078800501,
       "encoder": "json",
       "name": "ABC Pre-generator MSE",
       "version": 1
      }
     },
     "metadata": {
      "scrapbook": {
       "data": true,
       "display": false,
       "name": "ABC Pre-generator MSE"
      }
     },
     "output_type": "display_data"
    }
   ],
   "source": [
    "y_pred = prior_model.predict(X_test)\n",
    "y_abc = y_pred + np.random.normal(0,variance, y_pred.shape) + bias \n",
    "mse = mean_squared_error(y_pred,Y_test)\n",
    "sb.glue(\"Prior Model MSE\",mse)\n",
    "mse = mean_squared_error(y_abc,Y_test)\n",
    "sb.glue(\"ABC Pre-generator MSE\",mse)\n",
    "mae = mean_absolute_error(y_pred,Y_test)\n",
    "sb.glue(\"Prior Model MSE\",mae)\n",
    "mae = mean_absolute_error(y_abc,Y_test)\n",
    "sb.glue(\"ABC Pre-generator MSE\",mae)"
   ]
  },
  {
   "cell_type": "markdown",
   "id": "25609da2",
   "metadata": {
    "papermill": {
     "duration": 0.039816,
     "end_time": "2022-06-22T15:28:05.860588",
     "exception": false,
     "start_time": "2022-06-22T15:28:05.820772",
     "status": "completed"
    },
    "tags": []
   },
   "source": [
    "# ABC GAN Model"
   ]
  },
  {
   "cell_type": "code",
   "execution_count": 11,
   "id": "dfc3464d",
   "metadata": {
    "execution": {
     "iopub.execute_input": "2022-06-22T15:28:05.928743Z",
     "iopub.status.busy": "2022-06-22T15:28:05.927867Z",
     "iopub.status.idle": "2022-06-22T15:28:05.931147Z",
     "shell.execute_reply": "2022-06-22T15:28:05.931731Z"
    },
    "papermill": {
     "duration": 0.038535,
     "end_time": "2022-06-22T15:28:05.932040",
     "exception": false,
     "start_time": "2022-06-22T15:28:05.893505",
     "status": "completed"
    },
    "tags": []
   },
   "outputs": [],
   "source": [
    "gen = network.Generator(n_features+1).to(device)\n",
    "disc = network.Discriminator(n_features+1).to(device)\n",
    "\n",
    "criterion = torch.nn.BCELoss()\n",
    "gen_opt = torch.optim.Adam(gen.parameters(), lr=0.001, betas=(0.5, 0.999))\n",
    "disc_opt = torch.optim.Adam(disc.parameters(), lr=0.001, betas=(0.5, 0.999))"
   ]
  },
  {
   "cell_type": "code",
   "execution_count": 12,
   "id": "b75fdd85",
   "metadata": {
    "execution": {
     "iopub.execute_input": "2022-06-22T15:28:05.995205Z",
     "iopub.status.busy": "2022-06-22T15:28:05.994413Z",
     "iopub.status.idle": "2022-06-22T15:28:51.252645Z",
     "shell.execute_reply": "2022-06-22T15:28:51.253136Z"
    },
    "papermill": {
     "duration": 45.294792,
     "end_time": "2022-06-22T15:28:51.253348",
     "exception": false,
     "start_time": "2022-06-22T15:28:05.958556",
     "status": "completed"
    },
    "tags": []
   },
   "outputs": [
    {
     "data": {
      "image/png": "[encoded data removed]",
      "text/plain": [
       "<Figure size 432x288 with 1 Axes>"
      ]
     },
     "metadata": {
      "needs_background": "light"
     },
     "output_type": "display_data"
    },
    {
     "data": {
      "image/png": "[encoded data removed]",
      "text/plain": [
       "<Figure size 432x288 with 1 Axes>"
      ]
     },
     "metadata": {
      "needs_background": "light"
     },
     "output_type": "display_data"
    }
   ],
   "source": [
    "#Training the ABC_GAN \n",
    "ABC_train_test2.training_GAN(disc,gen,disc_opt,gen_opt,train_data,batch_size,n_epochs,criterion,prior_model,variance,bias,device)"
   ]
  },
  {
   "cell_type": "code",
   "execution_count": 13,
   "id": "1fa7c368",
   "metadata": {
    "execution": {
     "iopub.execute_input": "2022-06-22T15:28:51.325283Z",
     "iopub.status.busy": "2022-06-22T15:28:51.324569Z",
     "iopub.status.idle": "2022-06-22T15:28:51.993768Z",
     "shell.execute_reply": "2022-06-22T15:28:51.994715Z"
    },
    "papermill": {
     "duration": 0.714709,
     "end_time": "2022-06-22T15:28:51.995230",
     "exception": false,
     "start_time": "2022-06-22T15:28:51.280521",
     "status": "completed"
    },
    "tags": []
   },
   "outputs": [
    {
     "data": {
      "application/scrapbook.scrap.json+json": {
       "data": 0.16090479670436275,
       "encoder": "json",
       "name": "ABC-GAN Model 1 MSE",
       "version": 1
      }
     },
     "metadata": {
      "scrapbook": {
       "data": true,
       "display": false,
       "name": "ABC-GAN Model 1 MSE"
      }
     },
     "output_type": "display_data"
    },
    {
     "data": {
      "application/scrapbook.scrap.json+json": {
       "data": 0.33536429202370344,
       "encoder": "json",
       "name": "ABC-GAN Model 1 MAE",
       "version": 1
      }
     },
     "metadata": {
      "scrapbook": {
       "data": true,
       "display": false,
       "name": "ABC-GAN Model 1 MAE"
      }
     },
     "output_type": "display_data"
    },
    {
     "data": {
      "application/scrapbook.scrap.json+json": {
       "data": 6.707285840474069,
       "encoder": "json",
       "name": "ABC-GAN Model 1 Manhattan Distance",
       "version": 1
      }
     },
     "metadata": {
      "scrapbook": {
       "data": true,
       "display": false,
       "name": "ABC-GAN Model 1 Manhattan Distance"
      }
     },
     "output_type": "display_data"
    },
    {
     "data": {
      "application/scrapbook.scrap.json+json": {
       "data": 1.7918247927298983,
       "encoder": "json",
       "name": "ABC-GAN Model 1 Euclidean distance",
       "version": 1
      }
     },
     "metadata": {
      "scrapbook": {
       "data": true,
       "display": false,
       "name": "ABC-GAN Model 1 Euclidean distance"
      }
     },
     "output_type": "display_data"
    },
    {
     "data": {
      "application/scrapbook.scrap.json+json": {
       "data": [
        [
         0.1821694429818886,
         0.127213206829837,
         0.15802330698444617,
         0.16942388194758512,
         0.17541207280307286,
         0.1537435013960653,
         0.1747524397779129,
         0.1477206930937056,
         0.1518447787418622,
         0.13210858299869233,
         0.15109847940089205,
         0.1493277285307188,
         0.14366003760360024,
         0.17052640735138347,
         0.1549685156324831,
         0.12681584784616912,
         0.1846329350344093,
         0.15287713389806967,
         0.14825384767709524,
         0.18862571957162885,
         0.1616314408409659,
         0.18196100743960078,
         0.15584561699693822,
         0.14529715449811026,
         0.13731101553126063,
         0.15896425430961392,
         0.16352448987161305,
         0.15289612491449453,
         0.16869672653125073,
         0.1607546918759336,
         0.13662878764840697,
         0.18347428487827472,
         0.1484512635611112,
         0.20495958051719526,
         0.16223638195733725,
         0.1652603988195994,
         0.15240253270697682,
         0.17507351124712164,
         0.1669804210348937,
         0.1739193006787755,
         0.16113405545366574,
         0.1619691560164052,
         0.1568895928568387,
         0.14889749781447142,
         0.1452850795582926,
         0.15711677114128136,
         0.15380031909631442,
         0.14718596526612807,
         0.18630345095391165,
         0.15395998529375637,
         0.16544328738240816,
         0.15981685082965374,
         0.16544997044220294,
         0.16674091828171883,
         0.1683342729092155,
         0.17640611947153842,
         0.17005197278888742,
         0.14024054040695239,
         0.1493195940192525,
         0.15068537290340403,
         0.16917906174490943,
         0.1714535679107358,
         0.1730875285119749,
         0.15415983041017525,
         0.15285564592488152,
         0.138276324699437,
         0.17590216547524137,
         0.15096002496827907,
         0.20056555139656046,
         0.17896153051817792,
         0.1397992001794472,
         0.14357361292806975,
         0.1672422094314731,
         0.16612167876084943,
         0.16338133666259552,
         0.17222794401289443,
         0.19548947194424024,
         0.16793636186419322,
         0.1493653615430103,
         0.14085246457495026,
         0.1634883815094566,
         0.15955992448918316,
         0.17174202145741502,
         0.18795125192500275,
         0.17991912349946296,
         0.1705070064182132,
         0.1498948596354252,
         0.17042415127053917,
         0.15107571313488224,
         0.14745509792438957,
         0.1805018590022598,
         0.14449106993814873,
         0.16478215495476922,
         0.14072168442788469,
         0.1591351110907949,
         0.13736176911207015,
         0.18072439661921888,
         0.1671931060162905,
         0.1620267549991568,
         0.1456350407023226
        ],
        [
         0.3508804820943624,
         0.30695030917413535,
         0.3377354223746806,
         0.3457118653226644,
         0.3447547033894807,
         0.3120106485206634,
         0.34788851221092043,
         0.3230827551800758,
         0.33662520204670726,
         0.31571173858828844,
         0.32780339983291923,
         0.33475246918387713,
         0.3225027192849666,
         0.3525531642604619,
         0.3293619353789836,
         0.29690256384201347,
         0.3486766439396888,
         0.3254300445783883,
         0.32596349087543786,
         0.36469011385925115,
         0.34369882722385225,
         0.34388303314335644,
         0.3348200172651559,
         0.3140918832737952,
         0.3152917724568397,
         0.33358125877566636,
         0.3365852170158178,
         0.32093499121256175,
         0.34058366385288535,
         0.3379193623084575,
         0.31532749203033744,
         0.3581546955276281,
         0.32317217965610323,
         0.37713042204268277,
         0.33717185822315515,
         0.3429506898391992,
         0.3208977818954736,
         0.3510087021160871,
         0.33948104945011437,
         0.34958385457284746,
         0.3442032609600574,
         0.3384012446273118,
         0.3244092531967908,
         0.3125322211999446,
         0.3235542804468423,
         0.3352137353736907,
         0.3295206901151687,
         0.3251958013046533,
         0.35167002831585703,
         0.3310429346282035,
         0.3346352939028293,
         0.34507784065790476,
         0.34781208862550556,
         0.34733932544477286,
         0.34909916748292746,
         0.343786931456998,
         0.33987297345884143,
         0.31212535542435943,
         0.32858397369273007,
         0.328513164492324,
         0.3360749118495733,
         0.34914246541447935,
         0.3460840095300227,
         0.3332899395842105,
         0.32288818773813543,
         0.3188399825710803,
         0.35410602916963396,
         0.3243307773489505,
         0.37281311680562795,
         0.3545762464869767,
         0.3154768463689834,
         0.3271012664306909,
         0.3425276175606996,
         0.33686775085516274,
         0.3397463400382549,
         0.3474963665474206,
         0.35224811364896597,
         0.33943356913514433,
         0.3312517282087356,
         0.3077608284074813,
         0.3361918561626226,
         0.32800948214717207,
         0.3423206750769168,
         0.3601944156456739,
         0.3567725688684732,
         0.35311196674592793,
         0.33099259142763915,
         0.343654314102605,
         0.3234048735816032,
         0.32437458825297655,
         0.35807203804142773,
         0.3201498467940837,
         0.333574513765052,
         0.3125946332234889,
         0.32733953637070956,
         0.31889147837646303,
         0.35681452681310477,
         0.32586959158070383,
         0.3370094541925937,
         0.31618365687318145
        ],
        [
         7.017609641887248,
         6.1390061834827065,
         6.754708447493613,
         6.914237306453288,
         6.895094067789614,
         6.240212970413268,
         6.957770244218409,
         6.461655103601515,
         6.7325040409341455,
         6.3142347717657685,
         6.556067996658385,
         6.695049383677542,
         6.450054385699332,
         7.0510632852092385,
         6.587238707579672,
         5.93805127684027,
         6.973532878793776,
         6.508600891567767,
         6.519269817508757,
         7.293802277185023,
         6.8739765444770455,
         6.877660662867129,
         6.696400345303118,
         6.281837665475905,
         6.305835449136794,
         6.671625175513327,
         6.731704340316355,
         6.4186998242512345,
         6.811673277057707,
         6.75838724616915,
         6.306549840606749,
         7.163093910552561,
         6.463443593122065,
         7.542608440853655,
         6.743437164463103,
         6.859013796783984,
         6.417955637909472,
         7.020174042321742,
         6.789620989002287,
         6.99167709145695,
         6.884065219201148,
         6.7680248925462365,
         6.488185063935816,
         6.250644423998892,
         6.471085608936846,
         6.7042747074738145,
         6.590413802303374,
         6.503916026093066,
         7.033400566317141,
         6.62085869256407,
         6.692705878056586,
         6.901556813158095,
         6.956241772510111,
         6.946786508895457,
         6.981983349658549,
         6.87573862913996,
         6.797459469176829,
         6.242507108487189,
         6.571679473854601,
         6.57026328984648,
         6.721498236991465,
         6.9828493082895875,
         6.921680190600455,
         6.66579879168421,
         6.457763754762709,
         6.3767996514216065,
         7.08212058339268,
         6.48661554697901,
         7.456262336112559,
         7.091524929739535,
         6.309536927379668,
         6.542025328613818,
         6.850552351213992,
         6.737355017103255,
         6.794926800765097,
         6.949927330948412,
         7.044962272979319,
         6.788671382702887,
         6.625034564174712,
         6.155216568149626,
         6.723837123252451,
         6.560189642943442,
         6.846413501538336,
         7.203888312913477,
         7.135451377369463,
         7.062239334918559,
         6.6198518285527825,
         6.8730862820521,
         6.468097471632063,
         6.487491765059531,
         7.161440760828555,
         6.402996935881674,
         6.671490275301039,
         6.2518926644697785,
         6.546790727414191,
         6.377829567529261,
         7.136290536262095,
         6.517391831614077,
         6.740189083851874,
         6.323673137463629
        ],
        [
         1.9087663187613542,
         1.5950749626888199,
         1.7777699906593438,
         1.840781801015998,
         1.8730300200641359,
         1.7535307319580418,
         1.8695049600250482,
         1.71884084832602,
         1.7426690950485246,
         1.6254758257119193,
         1.7383813126060235,
         1.7281650877778938,
         1.6950518434761823,
         1.846761529550491,
         1.7605028578930686,
         1.5925818525034694,
         1.9216291787668571,
         1.7485830486314893,
         1.7219398809313595,
         1.942296164706242,
         1.7979512832163496,
         1.907674015337006,
         1.7654779352738352,
         1.7046826948034068,
         1.6571723841004629,
         1.7830549868672807,
         1.808449556231044,
         1.74869165329108,
         1.8368273001632498,
         1.7930682746394997,
         1.6530504387247653,
         1.9155901695210003,
         1.723085973253286,
         2.0246460456938897,
         1.8013127543951786,
         1.818023095670676,
         1.745866734358478,
         1.8712215862752417,
         1.8274595537789267,
         1.8650431666788598,
         1.7951827508845206,
         1.7998286363785037,
         1.771381341534559,
         1.7256737687898682,
         1.7046118593878936,
         1.7726633698549839,
         1.753854720872367,
         1.7157270486072547,
         1.9303028309253014,
         1.7547648577160209,
         1.8190287924186803,
         1.7878302538532775,
         1.8190655317618598,
         1.8261485059091926,
         1.8348529799916693,
         1.8783296807085725,
         1.8441907319411808,
         1.674756940018177,
         1.728118016914658,
         1.7360033001316788,
         1.8394513407258666,
         1.8517751910571423,
         1.8605780204655482,
         1.7559033595854598,
         1.7484601563940856,
         1.6629872200316933,
         1.875644771673151,
         1.7375846740132066,
         2.0028257607518456,
         1.891885464388254,
         1.6721196140195664,
         1.6945419022737074,
         1.8288915190982384,
         1.8227543924558207,
         1.8076578031397177,
         1.8559522839388647,
         1.977318749945189,
         1.832683070605462,
         1.7283828368912384,
         1.6784067717627351,
         1.8082498804615281,
         1.7863925911690473,
         1.8533322500696685,
         1.938820527666255,
         1.8969402916247151,
         1.8466564727540054,
         1.7314436729817417,
         1.8462077416723133,
         1.738250345231562,
         1.7172949538410085,
         1.9000097841972274,
         1.6999474694127976,
         1.8153906188739062,
         1.6776273986072394,
         1.78401295449778,
         1.657478621956073,
         1.9011806680019596,
         1.8286230120847242,
         1.8001486327476228,
         1.7066636499458385
        ]
       ],
       "encoder": "json",
       "name": "ABC_GAN_1 Metrics",
       "version": 1
      }
     },
     "metadata": {
      "scrapbook": {
       "data": true,
       "display": false,
       "name": "ABC_GAN_1 Metrics"
      }
     },
     "output_type": "display_data"
    },
    {
     "name": "stdout",
     "output_type": "stream",
     "text": [
      "MSE\n",
      "0.16090479670436275\n"
     ]
    }
   ],
   "source": [
    "ABC_GAN1_metrics=ABC_train_test2.test_generator(gen,test_data,prior_model,variance,bias,\"1\",device)\n",
    "sb.glue(\"ABC_GAN_1 Metrics\",ABC_GAN1_metrics)\n",
    "\n",
    "print(\"MSE\")\n",
    "print(mean(ABC_GAN1_metrics[0]))"
   ]
  },
  {
   "cell_type": "code",
   "execution_count": 14,
   "id": "eb22ce5c",
   "metadata": {
    "execution": {
     "iopub.execute_input": "2022-06-22T15:28:52.129946Z",
     "iopub.status.busy": "2022-06-22T15:28:52.129174Z",
     "iopub.status.idle": "2022-06-22T15:28:52.941184Z",
     "shell.execute_reply": "2022-06-22T15:28:52.942043Z"
    },
    "papermill": {
     "duration": 0.914957,
     "end_time": "2022-06-22T15:28:52.942252",
     "exception": false,
     "start_time": "2022-06-22T15:28:52.027295",
     "status": "completed"
    },
    "tags": []
   },
   "outputs": [
    {
     "data": {
      "image/png": "[encoded data removed]",
      "text/plain": [
       "<Figure size 432x288 with 1 Axes>"
      ]
     },
     "metadata": {
      "needs_background": "light"
     },
     "output_type": "display_data"
    },
    {
     "data": {
      "image/png": "[encoded data removed]",
      "text/plain": [
       "<Figure size 432x288 with 1 Axes>"
      ]
     },
     "metadata": {
      "needs_background": "light"
     },
     "output_type": "display_data"
    },
    {
     "data": {
      "image/png": "[encoded data removed]",
      "text/plain": [
       "<Figure size 432x288 with 1 Axes>"
      ]
     },
     "metadata": {
      "needs_background": "light"
     },
     "output_type": "display_data"
    },
    {
     "data": {
      "image/png": "[encoded data removed]",
      "text/plain": [
       "<Figure size 432x288 with 1 Axes>"
      ]
     },
     "metadata": {
      "needs_background": "light"
     },
     "output_type": "display_data"
    }
   ],
   "source": [
    "sanityChecks.discProbVsError(train_data,disc,device)\n",
    "sanityChecks.discProbVsError(test_data,disc,device)"
   ]
  },
  {
   "cell_type": "markdown",
   "id": "130f3a4d",
   "metadata": {
    "id": "130f3a4d",
    "papermill": {
     "duration": 0.034103,
     "end_time": "2022-06-22T15:28:53.014695",
     "exception": false,
     "start_time": "2022-06-22T15:28:52.980592",
     "status": "completed"
    },
    "tags": []
   },
   "source": [
    "# ABC - GAN Model with skip connection"
   ]
  },
  {
   "cell_type": "code",
   "execution_count": 15,
   "id": "4e43dad1",
   "metadata": {
    "execution": {
     "iopub.execute_input": "2022-06-22T15:28:53.089887Z",
     "iopub.status.busy": "2022-06-22T15:28:53.088293Z",
     "iopub.status.idle": "2022-06-22T15:28:53.093703Z",
     "shell.execute_reply": "2022-06-22T15:28:53.094260Z"
    },
    "id": "4e43dad1",
    "papermill": {
     "duration": 0.048147,
     "end_time": "2022-06-22T15:28:53.094523",
     "exception": false,
     "start_time": "2022-06-22T15:28:53.046376",
     "status": "completed"
    },
    "tags": []
   },
   "outputs": [],
   "source": [
    "#Generator\n",
    "gen3 = network.GeneratorWithSkipConnection(n_features+1).to(device)\n",
    "constraints=network.weightConstraint()\n",
    "#Discriminator \n",
    "disc3 = network.Discriminator(n_features+1).to(device)\n",
    "\n",
    "criterion = torch.nn.BCELoss()\n",
    "gen_opt = torch.optim.Adam(gen3.parameters(), lr=0.001, betas=(0.5, 0.999))\n",
    "disc_opt = torch.optim.Adam(disc3.parameters(), lr=0.001, betas=(0.5, 0.999))\n"
   ]
  },
  {
   "cell_type": "code",
   "execution_count": 16,
   "id": "26acbc37",
   "metadata": {
    "execution": {
     "iopub.execute_input": "2022-06-22T15:28:53.186476Z",
     "iopub.status.busy": "2022-06-22T15:28:53.184621Z",
     "iopub.status.idle": "2022-06-22T15:30:03.481979Z",
     "shell.execute_reply": "2022-06-22T15:30:03.482504Z"
    },
    "id": "26acbc37",
    "papermill": {
     "duration": 70.347776,
     "end_time": "2022-06-22T15:30:03.482710",
     "exception": false,
     "start_time": "2022-06-22T15:28:53.134934",
     "status": "completed"
    },
    "tags": []
   },
   "outputs": [
    {
     "data": {
      "image/png": "[encoded data removed]",
      "text/plain": [
       "<Figure size 432x288 with 1 Axes>"
      ]
     },
     "metadata": {
      "needs_background": "light"
     },
     "output_type": "display_data"
    },
    {
     "data": {
      "image/png": "[encoded data removed]",
      "text/plain": [
       "<Figure size 432x288 with 1 Axes>"
      ]
     },
     "metadata": {
      "needs_background": "light"
     },
     "output_type": "display_data"
    }
   ],
   "source": [
    "ABC_train_test2.training_GAN_skip_connection(disc3,gen3,disc_opt,gen_opt,train_data,batch_size,n_epochs,criterion,prior_model,variance,bias,device)"
   ]
  },
  {
   "cell_type": "code",
   "execution_count": 17,
   "id": "c5e0717b",
   "metadata": {
    "execution": {
     "iopub.execute_input": "2022-06-22T15:30:03.574257Z",
     "iopub.status.busy": "2022-06-22T15:30:03.572551Z",
     "iopub.status.idle": "2022-06-22T15:30:04.321588Z",
     "shell.execute_reply": "2022-06-22T15:30:04.322033Z"
    },
    "id": "c5e0717b",
    "papermill": {
     "duration": 0.80251,
     "end_time": "2022-06-22T15:30:04.322235",
     "exception": false,
     "start_time": "2022-06-22T15:30:03.519725",
     "status": "completed"
    },
    "tags": []
   },
   "outputs": [
    {
     "data": {
      "application/scrapbook.scrap.json+json": {
       "data": 0.20384526664655525,
       "encoder": "json",
       "name": "ABC-GAN Model 3 MSE",
       "version": 1
      }
     },
     "metadata": {
      "scrapbook": {
       "data": true,
       "display": false,
       "name": "ABC-GAN Model 3 MSE"
      }
     },
     "output_type": "display_data"
    },
    {
     "data": {
      "application/scrapbook.scrap.json+json": {
       "data": 0.38595289385982323,
       "encoder": "json",
       "name": "ABC-GAN Model 3 MAE",
       "version": 1
      }
     },
     "metadata": {
      "scrapbook": {
       "data": true,
       "display": false,
       "name": "ABC-GAN Model 3 MAE"
      }
     },
     "output_type": "display_data"
    },
    {
     "data": {
      "application/scrapbook.scrap.json+json": {
       "data": 7.719057877196465,
       "encoder": "json",
       "name": "ABC-GAN Model 3 Manhattan Distance",
       "version": 1
      }
     },
     "metadata": {
      "scrapbook": {
       "data": true,
       "display": false,
       "name": "ABC-GAN Model 3 Manhattan Distance"
      }
     },
     "output_type": "display_data"
    },
    {
     "data": {
      "application/scrapbook.scrap.json+json": {
       "data": 2.0180694742323912,
       "encoder": "json",
       "name": "ABC-GAN Model 3 Euclidean distance",
       "version": 1
      }
     },
     "metadata": {
      "scrapbook": {
       "data": true,
       "display": false,
       "name": "ABC-GAN Model 3 Euclidean distance"
      }
     },
     "output_type": "display_data"
    },
    {
     "data": {
      "application/scrapbook.scrap.json+json": {
       "data": [
        [
         0.19892986763190315,
         0.21418119066436123,
         0.19415147109656897,
         0.20061287365880962,
         0.20228645176935478,
         0.20721555373420494,
         0.20450445535561546,
         0.21706065440927205,
         0.2070267912597406,
         0.19914978091121008,
         0.19922380180090668,
         0.22241821683902022,
         0.22767147898769008,
         0.18527563192979724,
         0.20932008342290948,
         0.19201951533642322,
         0.2192952443923554,
         0.2145839960055799,
         0.21588087042966247,
         0.20042207389258077,
         0.20454920378851632,
         0.18620573140454033,
         0.19738967938427399,
         0.20141052878236096,
         0.21138064794040537,
         0.21050878721611146,
         0.1902358677696889,
         0.1868562592462863,
         0.19963662082878772,
         0.20391424052350748,
         0.18786500641924714,
         0.19594199794980588,
         0.2034120188850202,
         0.1803794035436398,
         0.19056190828985092,
         0.20836025772646397,
         0.2002930930037647,
         0.20326922714536105,
         0.23888539022563107,
         0.20138479908605436,
         0.21123038220651616,
         0.20737733738280065,
         0.23543555972443597,
         0.21957547527879032,
         0.2295715062656532,
         0.22639794319352763,
         0.2049007361103797,
         0.18798199546103186,
         0.19507763888865073,
         0.22797077193834356,
         0.22917012260655012,
         0.19851236243203724,
         0.20152375598866784,
         0.21692489540894075,
         0.21418474915873667,
         0.18954342708001368,
         0.2134832866733826,
         0.216427226443285,
         0.20192226249852463,
         0.20737987369451655,
         0.18009296666409563,
         0.1858255513404759,
         0.19454829631456858,
         0.20126776936754584,
         0.20471221709658485,
         0.22214618061475058,
         0.18614549805711939,
         0.2137876042182066,
         0.1663098701680666,
         0.18166083187161225,
         0.19106552068594881,
         0.19618022605144408,
         0.20783180692747888,
         0.1956220452195164,
         0.19364934925522698,
         0.20379888574217203,
         0.19090840901297015,
         0.1993816236057135,
         0.18621313459816638,
         0.21381386693658638,
         0.198168845611958,
         0.18343141121969797,
         0.18911625417369707,
         0.19095586483698362,
         0.21626029987259168,
         0.19575622378841634,
         0.20317569147265607,
         0.2168103537420333,
         0.20262063539447067,
         0.20616419910022915,
         0.20235559514928844,
         0.21735999076172105,
         0.20974703756709695,
         0.2112839608908194,
         0.20759643011492565,
         0.22733406913855475,
         0.19500593618575213,
         0.20801536151285333,
         0.21982317813207275,
         0.20032169111938725
        ],
        [
         0.3765252345823683,
         0.4019149438943714,
         0.3775003269780427,
         0.3881536100525409,
         0.3977288543712348,
         0.39917014189995825,
         0.39261552547104656,
         0.39938109847716985,
         0.3887216846924275,
         0.3872812507208437,
         0.3846642372664064,
         0.4004906756337732,
         0.4133414573501796,
         0.36622512894682585,
         0.37758515323512254,
         0.3593816280830652,
         0.3945478314068168,
         0.41415138277225194,
         0.38339301268570125,
         0.3772828939836472,
         0.3939080986659974,
         0.37668917966075244,
         0.39223765819333495,
         0.38299803822301326,
         0.38710549431853,
         0.4026092971209437,
         0.362126639066264,
         0.3702368321362883,
         0.38865199997089805,
         0.38269027615897355,
         0.35929846977815033,
         0.3793039042968303,
         0.39225938289891926,
         0.3563994418364018,
         0.36546209254302087,
         0.3975325151812285,
         0.3974851502571255,
         0.39089503916911783,
         0.40702062705531716,
         0.38657259759493173,
         0.39729646253399553,
         0.3963549294974655,
         0.4133504334371537,
         0.41086162771098317,
         0.4073788575362414,
         0.41912828232161703,
         0.3894314359407872,
         0.3743873096536845,
         0.3721183970104903,
         0.4194001210387796,
         0.4014011106919497,
         0.3745123399887234,
         0.3714239712338895,
         0.41042387071065606,
         0.39390189670957626,
         0.375420732377097,
         0.40171270896680655,
         0.3988450712058693,
         0.373038127226755,
         0.39015045296400785,
         0.36462676818482576,
         0.36347034575883297,
         0.37441021320410073,
         0.3828199207317084,
         0.387137045757845,
         0.4231486619915813,
         0.3654096638318151,
         0.3923551667016,
         0.3447624057065696,
         0.35953207430429757,
         0.3745239821728319,
         0.3677227377425879,
         0.3942173402290791,
         0.3765481739770621,
         0.37157470411621035,
         0.3909823808353394,
         0.37556084762327374,
         0.37410920527763664,
         0.35856438013724984,
         0.40690899231703953,
         0.3830132303759456,
         0.3648904639761895,
         0.3765780474524945,
         0.3635341941844672,
         0.41452242801897227,
         0.3659186107572168,
         0.38383336453698574,
         0.40238611730746926,
         0.39526391397230326,
         0.393756667105481,
         0.37197145585669206,
         0.3866060698870569,
         0.39069161596708,
         0.3827484916429967,
         0.399651713995263,
         0.41839454392902553,
         0.3729456276167184,
         0.3811381984036416,
         0.385068630753085,
         0.37191404425539076
        ],
        [
         7.530504691647366,
         8.038298877887428,
         7.550006539560854,
         7.763072201050818,
         7.9545770874246955,
         7.983402837999165,
         7.852310509420931,
         7.987621969543397,
         7.77443369384855,
         7.7456250144168735,
         7.693284745328128,
         8.009813512675464,
         8.266829147003591,
         7.324502578936517,
         7.551703064702451,
         7.187632561661303,
         7.890956628136337,
         8.28302765544504,
         7.667860253714025,
         7.5456578796729445,
         7.878161973319948,
         7.533783593215048,
         7.844753163866699,
         7.659960764460266,
         7.742109886370599,
         8.052185942418873,
         7.242532781325281,
         7.404736642725766,
         7.773039999417961,
         7.6538055231794715,
         7.185969395563006,
         7.586078085936606,
         7.845187657978386,
         7.127988836728036,
         7.309241850860417,
         7.95065030362457,
         7.94970300514251,
         7.817900783382356,
         8.140412541106343,
         7.731451951898634,
         7.94592925067991,
         7.92709858994931,
         8.267008668743074,
         8.217232554219663,
         8.147577150724828,
         8.38256564643234,
         7.788628718815744,
         7.48774619307369,
         7.442367940209806,
         8.388002420775592,
         8.028022213838995,
         7.490246799774468,
         7.428479424677789,
         8.208477414213121,
         7.878037934191525,
         7.50841464754194,
         8.03425417933613,
         7.976901424117386,
         7.4607625445351005,
         7.803009059280157,
         7.292535363696516,
         7.26940691517666,
         7.488204264082015,
         7.656398414634168,
         7.742740915156901,
         8.462973239831626,
         7.3081932766363025,
         7.847103334031999,
         6.895248114131391,
         7.190641486085951,
         7.490479643456638,
         7.3544547548517585,
         7.8843468045815825,
         7.530963479541242,
         7.431494082324207,
         7.8196476167067885,
         7.511216952465475,
         7.482184105552733,
         7.1712876027449965,
         8.13817984634079,
         7.660264607518911,
         7.29780927952379,
         7.53156094904989,
         7.270683883689344,
         8.290448560379446,
         7.318372215144336,
         7.676667290739715,
         8.047722346149385,
         7.905278279446065,
         7.875133342109621,
         7.439429117133841,
         7.732121397741139,
         7.8138323193416,
         7.654969832859933,
         7.99303427990526,
         8.36789087858051,
         7.458912552334368,
         7.622763968072832,
         7.7013726150617,
         7.438280885107815
        ],
        [
         1.994642161551305,
         2.069691719384127,
         1.970540388302503,
         2.003062024295851,
         2.0113997701568667,
         2.0357581080973493,
         2.0223968718113436,
         2.083557795739163,
         2.0348306625355366,
         1.995744376974216,
         1.9961152361570043,
         2.1091145859768745,
         2.1338766552342716,
         1.9249708149984883,
         2.0460698102601946,
         1.9596913804802185,
         2.094255210772342,
         2.0716370145639895,
         2.0778877276198653,
         2.0021092572213974,
         2.022618124058599,
         1.929796525048899,
         1.986905530639411,
         2.0070402526225575,
         2.056115988656308,
         2.0518712786922646,
         1.9505684698040666,
         1.9331645519525043,
         1.9981822781157264,
         2.0194763703668706,
         1.9383756417126536,
         1.979606011052734,
         2.0169879468406355,
         1.8993651757555197,
         1.9522392696073445,
         2.0413733501075395,
         2.0014649285149346,
         2.016279877126988,
         2.1857968351410477,
         2.00691205131692,
         2.055385035493429,
         2.0365526626277095,
         2.1699564959898896,
         2.095592876867023,
         2.1427622652345417,
         2.1279001066475263,
         2.024355384365007,
         1.9389790894232557,
         1.975234866483734,
         2.1352787730801968,
         2.140888239056631,
         1.9925479288189643,
         2.0076043235093306,
         2.082906120827056,
         2.069708912667367,
         1.9470152905409535,
         2.066316948937808,
         2.0805154478796113,
         2.009588328481854,
         2.036565116535764,
         1.8978565101929894,
         1.9278254658577154,
         1.97255314916769,
         2.0063288333049782,
         2.0234239155282556,
         2.1078243789023343,
         1.9294843770143326,
         2.0677891779299293,
         1.8237865564153417,
         1.9060998498064692,
         1.9548172328171696,
         1.9808090571856947,
         2.038783004282108,
         1.977989106236515,
         1.9679905957866108,
         2.0189050782152784,
         1.9540133521190184,
         1.9969057243931847,
         1.9298348872282642,
         2.067916182714311,
         1.9908231745283558,
         1.9153663420854923,
         1.944820064549402,
         1.954256200384093,
         2.0797129603509794,
         1.9786673484363981,
         2.0158159215198994,
         2.082356135448657,
         2.0130605325944404,
         2.0305871027869213,
         2.011743498308313,
         2.084993960479123,
         2.048155450970931,
         2.055645693648686,
         2.0376281805811662,
         2.132294862998805,
         1.9748718246293964,
         2.0396831200598453,
         2.096774561711739,
         2.001607809334222
        ]
       ],
       "encoder": "json",
       "name": "ABC_GAN_3 Metrics",
       "version": 1
      }
     },
     "metadata": {
      "scrapbook": {
       "data": true,
       "display": false,
       "name": "ABC_GAN_3 Metrics"
      }
     },
     "output_type": "display_data"
    },
    {
     "name": "stdout",
     "output_type": "stream",
     "text": [
      "MSE\n",
      "0.20384526664655525\n"
     ]
    }
   ],
   "source": [
    "ABC_GAN3_metrics=ABC_train_test2.test_generator(gen3,test_data,prior_model,variance,bias,\"3\",device)\n",
    "sb.glue(\"ABC_GAN_3 Metrics\",ABC_GAN3_metrics)\n",
    "\n",
    "print(\"MSE\")\n",
    "print(mean(ABC_GAN3_metrics[0]))"
   ]
  },
  {
   "cell_type": "code",
   "execution_count": 18,
   "id": "c8e46b48",
   "metadata": {
    "execution": {
     "iopub.execute_input": "2022-06-22T15:30:04.411113Z",
     "iopub.status.busy": "2022-06-22T15:30:04.410354Z",
     "iopub.status.idle": "2022-06-22T15:30:05.130179Z",
     "shell.execute_reply": "2022-06-22T15:30:05.130746Z"
    },
    "id": "c8e46b48",
    "papermill": {
     "duration": 0.768594,
     "end_time": "2022-06-22T15:30:05.130963",
     "exception": false,
     "start_time": "2022-06-22T15:30:04.362369",
     "status": "completed"
    },
    "tags": []
   },
   "outputs": [
    {
     "data": {
      "image/png": "[encoded data removed]",
      "text/plain": [
       "<Figure size 432x288 with 1 Axes>"
      ]
     },
     "metadata": {
      "needs_background": "light"
     },
     "output_type": "display_data"
    },
    {
     "data": {
      "image/png": "[encoded data removed]",
      "text/plain": [
       "<Figure size 432x288 with 1 Axes>"
      ]
     },
     "metadata": {
      "needs_background": "light"
     },
     "output_type": "display_data"
    },
    {
     "data": {
      "image/png": "[encoded data removed]",
      "text/plain": [
       "<Figure size 432x288 with 1 Axes>"
      ]
     },
     "metadata": {
      "needs_background": "light"
     },
     "output_type": "display_data"
    },
    {
     "data": {
      "image/png": "[encoded data removed]",
      "text/plain": [
       "<Figure size 432x288 with 1 Axes>"
      ]
     },
     "metadata": {
      "needs_background": "light"
     },
     "output_type": "display_data"
    }
   ],
   "source": [
    "sanityChecks.discProbVsError(train_data,disc3,device)\n",
    "sanityChecks.discProbVsError(test_data,disc3,device)"
   ]
  },
  {
   "cell_type": "markdown",
   "id": "a5bd74c3",
   "metadata": {
    "id": "a5bd74c3",
    "papermill": {
     "duration": 0.070401,
     "end_time": "2022-06-22T15:30:05.258089",
     "exception": false,
     "start_time": "2022-06-22T15:30:05.187688",
     "status": "completed"
    },
    "tags": []
   },
   "source": [
    "## Skip Connection Model Analysis - ABC-GAN "
   ]
  },
  {
   "cell_type": "markdown",
   "id": "5744a8bf",
   "metadata": {
    "id": "5744a8bf",
    "papermill": {
     "duration": 0.0711,
     "end_time": "2022-06-22T15:30:05.385591",
     "exception": false,
     "start_time": "2022-06-22T15:30:05.314491",
     "status": "completed"
    },
    "tags": []
   },
   "source": [
    "### Weight Analysis \n",
    "\n",
    "Study the weights of the skip connection layer\n",
    "\n",
    "Equation of the skip connection is \n",
    "\n",
    "$output = y_{gan} * w + y_{abc} * (1-w)$"
   ]
  },
  {
   "cell_type": "code",
   "execution_count": 19,
   "id": "52c31dea",
   "metadata": {
    "execution": {
     "iopub.execute_input": "2022-06-22T15:30:05.481577Z",
     "iopub.status.busy": "2022-06-22T15:30:05.480908Z",
     "iopub.status.idle": "2022-06-22T15:30:05.486736Z",
     "shell.execute_reply": "2022-06-22T15:30:05.487196Z"
    },
    "id": "52c31dea",
    "papermill": {
     "duration": 0.059604,
     "end_time": "2022-06-22T15:30:05.487395",
     "exception": false,
     "start_time": "2022-06-22T15:30:05.427791",
     "status": "completed"
    },
    "tags": []
   },
   "outputs": [
    {
     "name": "stdout",
     "output_type": "stream",
     "text": [
      "Weight of the node at skip connection\n",
      "Parameter containing:\n",
      "tensor([[0.9937]], requires_grad=True)\n"
     ]
    },
    {
     "data": {
      "application/scrapbook.scrap.json+json": {
       "data": 0.9936923384666443,
       "encoder": "json",
       "name": "Skip Connection Weight",
       "version": 1
      }
     },
     "metadata": {
      "scrapbook": {
       "data": true,
       "display": false,
       "name": "Skip Connection Weight"
      }
     },
     "output_type": "display_data"
    }
   ],
   "source": [
    "print(\"Weight of the node at skip connection\")\n",
    "for name,param in gen3.named_parameters():\n",
    "    if(name == \"skipNode.weight\"):\n",
    "        print(param)\n",
    "        sb.glue(\"Skip Connection Weight\",param.item())"
   ]
  }
 ],
 "metadata": {
  "colab": {
   "collapsed_sections": [],
   "name": "ABC_GAN_Model-Catboost_Pre-gen.ipynb",
   "provenance": []
  },
  "interpreter": {
   "hash": "31f2aee4e71d21fbe5cf8b01ff0e069b9275f58929596ceb00d14d90e3e16cd6"
  },
  "kernelspec": {
   "display_name": "Python 3 (ipykernel)",
   "language": "python",
   "name": "python3"
  },
  "language_info": {
   "codemirror_mode": {
    "name": "ipython",
    "version": 3
   },
   "file_extension": ".py",
   "mimetype": "text/x-python",
   "name": "python",
   "nbconvert_exporter": "python",
   "pygments_lexer": "ipython3",
   "version": "3.8.3"
  },
  "papermill": {
   "default_parameters": {},
   "duration": 139.440495,
   "end_time": "2022-06-22T15:30:06.872800",
   "environment_variables": {},
   "exception": null,
   "input_path": "ABC_GAN-TabNet.ipynb",
   "output_path": "./ABC_GAN_TabNet/ABC-GAN_output_8_6.ipynb",
   "parameters": {
    "bias": 0.01,
    "variance": 1
   },
   "start_time": "2022-06-22T15:27:47.432305",
   "version": "2.3.3"
  }
 },
 "nbformat": 4,
 "nbformat_minor": 5
}