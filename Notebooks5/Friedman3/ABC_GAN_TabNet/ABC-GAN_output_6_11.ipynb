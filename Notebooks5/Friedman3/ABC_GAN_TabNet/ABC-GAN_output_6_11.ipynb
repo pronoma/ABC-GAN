{
 "cells": [
  {
   "cell_type": "markdown",
   "id": "622780e6",
   "metadata": {
    "id": "622780e6",
    "papermill": {
     "duration": 0.030392,
     "end_time": "2022-06-22T14:41:10.250219",
     "exception": false,
     "start_time": "2022-06-22T14:41:10.219827",
     "status": "completed"
    },
    "tags": []
   },
   "source": [
    "## Import Libraries "
   ]
  },
  {
   "cell_type": "code",
   "execution_count": 1,
   "id": "a62397e3",
   "metadata": {
    "execution": {
     "iopub.execute_input": "2022-06-22T14:41:10.385987Z",
     "iopub.status.busy": "2022-06-22T14:41:10.385007Z",
     "iopub.status.idle": "2022-06-22T14:41:10.396617Z",
     "shell.execute_reply": "2022-06-22T14:41:10.402223Z"
    },
    "id": "a62397e3",
    "papermill": {
     "duration": 0.121112,
     "end_time": "2022-06-22T14:41:10.403192",
     "exception": false,
     "start_time": "2022-06-22T14:41:10.282080",
     "status": "completed"
    },
    "tags": []
   },
   "outputs": [],
   "source": [
    "import warnings\n",
    "import sys\n",
    "sys.path.insert(0, '../../src')\n",
    "warnings.filterwarnings('ignore')"
   ]
  },
  {
   "cell_type": "code",
   "execution_count": 2,
   "id": "d6a4e155",
   "metadata": {
    "execution": {
     "iopub.execute_input": "2022-06-22T14:41:10.505499Z",
     "iopub.status.busy": "2022-06-22T14:41:10.502287Z",
     "iopub.status.idle": "2022-06-22T14:41:24.999633Z",
     "shell.execute_reply": "2022-06-22T14:41:25.000851Z"
    },
    "id": "d6a4e155",
    "papermill": {
     "duration": 14.550797,
     "end_time": "2022-06-22T14:41:25.001243",
     "exception": false,
     "start_time": "2022-06-22T14:41:10.450446",
     "status": "completed"
    },
    "tags": []
   },
   "outputs": [],
   "source": [
    "import ABC_train_test2\n",
    "import friedman3Dataset\n",
    "import network\n",
    "import dataset\n",
    "import sanityChecks\n",
    "import torch \n",
    "import scrapbook as sb\n",
    "from statistics import mean \n",
    "import catboost as ctb \n",
    "from sklearn.model_selection import train_test_split\n",
    "from sklearn.metrics import mean_squared_error,mean_absolute_error\n",
    "import numpy as np\n",
    "from pytorch_tabnet.tab_model import TabNetRegressor"
   ]
  },
  {
   "cell_type": "markdown",
   "id": "2fa5b0f7",
   "metadata": {
    "id": "2fa5b0f7",
    "papermill": {
     "duration": 0.042294,
     "end_time": "2022-06-22T14:41:25.067963",
     "exception": false,
     "start_time": "2022-06-22T14:41:25.025669",
     "status": "completed"
    },
    "tags": []
   },
   "source": [
    "## Parameters "
   ]
  },
  {
   "cell_type": "code",
   "execution_count": 3,
   "id": "783186fb",
   "metadata": {
    "execution": {
     "iopub.execute_input": "2022-06-22T14:41:25.326968Z",
     "iopub.status.busy": "2022-06-22T14:41:25.320374Z",
     "iopub.status.idle": "2022-06-22T14:41:25.329884Z",
     "shell.execute_reply": "2022-06-22T14:41:25.322024Z"
    },
    "id": "783186fb",
    "papermill": {
     "duration": 0.217755,
     "end_time": "2022-06-22T14:41:25.330410",
     "exception": false,
     "start_time": "2022-06-22T14:41:25.112655",
     "status": "completed"
    },
    "tags": [
     "parameters"
    ]
   },
   "outputs": [],
   "source": [
    "variance = 1\n",
    "bias = 1 "
   ]
  },
  {
   "cell_type": "code",
   "execution_count": 4,
   "id": "7de1ca5c",
   "metadata": {
    "execution": {
     "iopub.execute_input": "2022-06-22T14:41:25.636778Z",
     "iopub.status.busy": "2022-06-22T14:41:25.621737Z",
     "iopub.status.idle": "2022-06-22T14:41:25.647821Z",
     "shell.execute_reply": "2022-06-22T14:41:25.625211Z"
    },
    "papermill": {
     "duration": 0.289171,
     "end_time": "2022-06-22T14:41:25.648880",
     "exception": false,
     "start_time": "2022-06-22T14:41:25.359709",
     "status": "completed"
    },
    "tags": [
     "injected-parameters"
    ]
   },
   "outputs": [],
   "source": [
    "# Parameters\n",
    "variance = 0.01\n",
    "bias = 0\n"
   ]
  },
  {
   "cell_type": "markdown",
   "id": "391cdbfd",
   "metadata": {
    "id": "391cdbfd",
    "papermill": {
     "duration": 0.075302,
     "end_time": "2022-06-22T14:41:25.834371",
     "exception": false,
     "start_time": "2022-06-22T14:41:25.759069",
     "status": "completed"
    },
    "tags": []
   },
   "source": [
    "## Dataset \n"
   ]
  },
  {
   "cell_type": "code",
   "execution_count": 5,
   "id": "5b51f161",
   "metadata": {
    "execution": {
     "iopub.execute_input": "2022-06-22T14:41:26.171387Z",
     "iopub.status.busy": "2022-06-22T14:41:26.014328Z",
     "iopub.status.idle": "2022-06-22T14:41:26.183876Z",
     "shell.execute_reply": "2022-06-22T14:41:26.008878Z"
    },
    "id": "5b51f161",
    "papermill": {
     "duration": 0.328261,
     "end_time": "2022-06-22T14:41:26.188588",
     "exception": false,
     "start_time": "2022-06-22T14:41:25.860327",
     "status": "completed"
    },
    "tags": []
   },
   "outputs": [],
   "source": [
    "#Parameters \n",
    "n_features = 4\n",
    "n_samples= 100\n",
    "n_target = 1"
   ]
  },
  {
   "cell_type": "code",
   "execution_count": 6,
   "id": "5d6eced4",
   "metadata": {
    "execution": {
     "iopub.execute_input": "2022-06-22T14:41:26.681166Z",
     "iopub.status.busy": "2022-06-22T14:41:26.642838Z",
     "iopub.status.idle": "2022-06-22T14:41:26.701245Z",
     "shell.execute_reply": "2022-06-22T14:41:26.658756Z"
    },
    "id": "5d6eced4",
    "papermill": {
     "duration": 0.410482,
     "end_time": "2022-06-22T14:41:26.702474",
     "exception": false,
     "start_time": "2022-06-22T14:41:26.291992",
     "status": "completed"
    },
    "tags": []
   },
   "outputs": [
    {
     "name": "stdout",
     "output_type": "stream",
     "text": [
      "          X1           X2        X3        X4         Y\n",
      "0  88.020058   841.719953  0.208746  7.733169  1.133278\n",
      "1  29.529699   858.381417  0.864933  2.692450  1.590840\n",
      "2   0.451501  1633.302623  0.331241  4.424085  1.581433\n",
      "3  37.381308   213.907561  0.313804  2.418060  1.160078\n",
      "4  44.059802   934.917778  0.772259  6.515875  1.468138\n"
     ]
    }
   ],
   "source": [
    "X,Y = friedman3Dataset.friedman3_data(n_samples)"
   ]
  },
  {
   "cell_type": "code",
   "execution_count": 7,
   "id": "fe007438",
   "metadata": {
    "execution": {
     "iopub.execute_input": "2022-06-22T14:41:26.937999Z",
     "iopub.status.busy": "2022-06-22T14:41:26.928028Z",
     "iopub.status.idle": "2022-06-22T14:41:26.943799Z",
     "shell.execute_reply": "2022-06-22T14:41:26.930329Z"
    },
    "id": "fe007438",
    "papermill": {
     "duration": 0.100961,
     "end_time": "2022-06-22T14:41:26.947743",
     "exception": false,
     "start_time": "2022-06-22T14:41:26.846782",
     "status": "completed"
    },
    "tags": []
   },
   "outputs": [],
   "source": [
    "#Train test split for dataset \n",
    "X_train,X_test,Y_train,Y_test = train_test_split(X,Y,test_size = 0.2)\n",
    "train_data = dataset.CustomDataset(X_train,Y_train)\n",
    "test_data = dataset.CustomDataset(X_test,Y_test)\n"
   ]
  },
  {
   "cell_type": "markdown",
   "id": "a9a1af34",
   "metadata": {
    "id": "a9a1af34",
    "papermill": {
     "duration": 0.079578,
     "end_time": "2022-06-22T14:41:27.126576",
     "exception": false,
     "start_time": "2022-06-22T14:41:27.046998",
     "status": "completed"
    },
    "tags": []
   },
   "source": [
    "## Training Parameters "
   ]
  },
  {
   "cell_type": "code",
   "execution_count": 8,
   "id": "952b7fc8",
   "metadata": {
    "execution": {
     "iopub.execute_input": "2022-06-22T14:41:27.381787Z",
     "iopub.status.busy": "2022-06-22T14:41:27.379004Z",
     "iopub.status.idle": "2022-06-22T14:41:27.383460Z",
     "shell.execute_reply": "2022-06-22T14:41:27.380126Z"
    },
    "id": "952b7fc8",
    "papermill": {
     "duration": 0.12497,
     "end_time": "2022-06-22T14:41:27.383814",
     "exception": false,
     "start_time": "2022-06-22T14:41:27.258844",
     "status": "completed"
    },
    "tags": []
   },
   "outputs": [],
   "source": [
    "batch_size = 32\n",
    "n_epochs = 1000\n",
    "#Select the device \n",
    "device = torch.device('cuda' if torch.cuda.is_available() else 'cpu')"
   ]
  },
  {
   "cell_type": "markdown",
   "id": "a95e1600",
   "metadata": {
    "id": "a95e1600",
    "papermill": {
     "duration": 0.048761,
     "end_time": "2022-06-22T14:41:27.477751",
     "exception": false,
     "start_time": "2022-06-22T14:41:27.428990",
     "status": "completed"
    },
    "tags": []
   },
   "source": [
    "# ABC Pre-generator Model \n",
    "\n",
    "1. The catboost model is used as a pre-generator model for the ABC-GAN. \n",
    "2. The model is first trained on the entire dataset \n",
    "3. It generats X,Y pairs and we add some Gaussian noise with mean 0 and variance 1 to it which is then feed as input to the generator.\n"
   ]
  },
  {
   "cell_type": "code",
   "execution_count": 9,
   "id": "ff8ce7bd",
   "metadata": {
    "execution": {
     "iopub.execute_input": "2022-06-22T14:41:27.827217Z",
     "iopub.status.busy": "2022-06-22T14:41:27.825504Z",
     "iopub.status.idle": "2022-06-22T14:41:48.444519Z",
     "shell.execute_reply": "2022-06-22T14:41:48.447221Z"
    },
    "id": "ff8ce7bd",
    "papermill": {
     "duration": 20.925151,
     "end_time": "2022-06-22T14:41:48.448887",
     "exception": false,
     "start_time": "2022-06-22T14:41:27.523736",
     "status": "completed"
    },
    "tags": []
   },
   "outputs": [
    {
     "name": "stdout",
     "output_type": "stream",
     "text": [
      "Device used : cpu\n"
     ]
    },
    {
     "name": "stdout",
     "output_type": "stream",
     "text": [
      "epoch 0  | loss: 1.01657 | train_mse: 4.33849 | train_mae: 1.47113 |  0:00:01s\n"
     ]
    },
    {
     "name": "stdout",
     "output_type": "stream",
     "text": [
      "epoch 1  | loss: 0.70139 | train_mse: 3.48905 | train_mae: 1.4175  |  0:00:01s\n",
      "epoch 2  | loss: 0.62498 | train_mse: 2.42386 | train_mae: 1.16411 |  0:00:01s\n"
     ]
    },
    {
     "name": "stdout",
     "output_type": "stream",
     "text": [
      "epoch 3  | loss: 0.45784 | train_mse: 1.6607  | train_mae: 0.88487 |  0:00:01s\n"
     ]
    },
    {
     "name": "stdout",
     "output_type": "stream",
     "text": [
      "epoch 4  | loss: 0.48499 | train_mse: 1.24522 | train_mae: 0.78091 |  0:00:01s\n",
      "epoch 5  | loss: 0.43543 | train_mse: 1.12586 | train_mae: 0.77219 |  0:00:01s\n"
     ]
    },
    {
     "name": "stdout",
     "output_type": "stream",
     "text": [
      "epoch 6  | loss: 0.46113 | train_mse: 1.3346  | train_mae: 0.85302 |  0:00:02s\n",
      "epoch 7  | loss: 0.36453 | train_mse: 1.17949 | train_mae: 0.83794 |  0:00:02s\n"
     ]
    },
    {
     "name": "stdout",
     "output_type": "stream",
     "text": [
      "epoch 8  | loss: 0.34037 | train_mse: 0.97724 | train_mae: 0.73389 |  0:00:02s\n",
      "epoch 9  | loss: 0.30927 | train_mse: 0.81575 | train_mae: 0.67245 |  0:00:02s\n",
      "epoch 10 | loss: 0.31203 | train_mse: 0.63432 | train_mae: 0.58451 |  0:00:02s\n"
     ]
    },
    {
     "name": "stdout",
     "output_type": "stream",
     "text": [
      "epoch 11 | loss: 0.24052 | train_mse: 0.4495  | train_mae: 0.51386 |  0:00:02s\n",
      "epoch 12 | loss: 0.21836 | train_mse: 0.46594 | train_mae: 0.52241 |  0:00:02s\n",
      "epoch 13 | loss: 0.22393 | train_mse: 0.47933 | train_mae: 0.53284 |  0:00:02s\n"
     ]
    },
    {
     "name": "stdout",
     "output_type": "stream",
     "text": [
      "epoch 14 | loss: 0.34405 | train_mse: 0.63707 | train_mae: 0.57999 |  0:00:02s\n",
      "epoch 15 | loss: 0.28224 | train_mse: 0.4908  | train_mae: 0.52596 |  0:00:02s\n"
     ]
    },
    {
     "name": "stdout",
     "output_type": "stream",
     "text": [
      "epoch 16 | loss: 0.39858 | train_mse: 0.36131 | train_mae: 0.46812 |  0:00:03s\n",
      "epoch 17 | loss: 0.27358 | train_mse: 0.30788 | train_mae: 0.42833 |  0:00:03s\n"
     ]
    },
    {
     "name": "stdout",
     "output_type": "stream",
     "text": [
      "epoch 18 | loss: 0.4131  | train_mse: 0.35208 | train_mae: 0.42769 |  0:00:03s\n",
      "epoch 19 | loss: 0.27222 | train_mse: 0.34951 | train_mae: 0.417   |  0:00:03s\n"
     ]
    },
    {
     "name": "stdout",
     "output_type": "stream",
     "text": [
      "epoch 20 | loss: 0.33468 | train_mse: 0.33459 | train_mae: 0.407   |  0:00:03s\n",
      "epoch 21 | loss: 0.29718 | train_mse: 0.29005 | train_mae: 0.38219 |  0:00:03s\n"
     ]
    },
    {
     "name": "stdout",
     "output_type": "stream",
     "text": [
      "epoch 22 | loss: 0.2855  | train_mse: 0.28425 | train_mae: 0.38244 |  0:00:03s\n",
      "epoch 23 | loss: 0.35257 | train_mse: 0.29984 | train_mae: 0.39795 |  0:00:03s\n",
      "epoch 24 | loss: 0.22498 | train_mse: 0.31868 | train_mae: 0.41186 |  0:00:04s\n"
     ]
    },
    {
     "name": "stdout",
     "output_type": "stream",
     "text": [
      "epoch 25 | loss: 0.27152 | train_mse: 0.33979 | train_mae: 0.41901 |  0:00:04s\n",
      "epoch 26 | loss: 0.37591 | train_mse: 0.33408 | train_mae: 0.41352 |  0:00:04s\n",
      "epoch 27 | loss: 0.23138 | train_mse: 0.32563 | train_mae: 0.39928 |  0:00:04s\n"
     ]
    },
    {
     "name": "stdout",
     "output_type": "stream",
     "text": [
      "epoch 28 | loss: 0.20983 | train_mse: 0.26854 | train_mae: 0.37785 |  0:00:04s\n",
      "epoch 29 | loss: 0.23751 | train_mse: 0.20539 | train_mae: 0.35042 |  0:00:04s\n"
     ]
    },
    {
     "name": "stdout",
     "output_type": "stream",
     "text": [
      "epoch 30 | loss: 0.15788 | train_mse: 0.19992 | train_mae: 0.34879 |  0:00:04s\n",
      "epoch 31 | loss: 0.19721 | train_mse: 0.18895 | train_mae: 0.33563 |  0:00:04s\n"
     ]
    },
    {
     "name": "stdout",
     "output_type": "stream",
     "text": [
      "epoch 32 | loss: 0.32598 | train_mse: 0.19507 | train_mae: 0.33386 |  0:00:05s\n",
      "epoch 33 | loss: 0.3555  | train_mse: 0.19028 | train_mae: 0.32368 |  0:00:05s\n",
      "epoch 34 | loss: 0.21954 | train_mse: 0.20767 | train_mae: 0.33026 |  0:00:05s\n"
     ]
    },
    {
     "name": "stdout",
     "output_type": "stream",
     "text": [
      "epoch 35 | loss: 0.22638 | train_mse: 0.1899  | train_mae: 0.32207 |  0:00:05s\n",
      "epoch 36 | loss: 0.24129 | train_mse: 0.15107 | train_mae: 0.29145 |  0:00:05s\n",
      "epoch 37 | loss: 0.16149 | train_mse: 0.15116 | train_mae: 0.28651 |  0:00:05s\n"
     ]
    },
    {
     "name": "stdout",
     "output_type": "stream",
     "text": [
      "epoch 38 | loss: 0.19676 | train_mse: 0.17581 | train_mae: 0.30936 |  0:00:05s\n",
      "epoch 39 | loss: 0.2614  | train_mse: 0.21267 | train_mae: 0.34602 |  0:00:05s\n",
      "epoch 40 | loss: 0.19389 | train_mse: 0.22809 | train_mae: 0.35648 |  0:00:05s\n"
     ]
    },
    {
     "name": "stdout",
     "output_type": "stream",
     "text": [
      "epoch 41 | loss: 0.22718 | train_mse: 0.21892 | train_mae: 0.34402 |  0:00:05s\n",
      "epoch 42 | loss: 0.2468  | train_mse: 0.17215 | train_mae: 0.29922 |  0:00:05s\n",
      "epoch 43 | loss: 0.27415 | train_mse: 0.14937 | train_mae: 0.28495 |  0:00:05s\n"
     ]
    },
    {
     "name": "stdout",
     "output_type": "stream",
     "text": [
      "epoch 44 | loss: 0.19924 | train_mse: 0.17528 | train_mae: 0.31336 |  0:00:06s\n",
      "epoch 45 | loss: 0.18653 | train_mse: 0.16145 | train_mae: 0.30144 |  0:00:06s\n",
      "epoch 46 | loss: 0.23968 | train_mse: 0.15361 | train_mae: 0.28951 |  0:00:06s\n"
     ]
    },
    {
     "name": "stdout",
     "output_type": "stream",
     "text": [
      "epoch 47 | loss: 0.13805 | train_mse: 0.16074 | train_mae: 0.29728 |  0:00:06s\n",
      "epoch 48 | loss: 0.1985  | train_mse: 0.13251 | train_mae: 0.27585 |  0:00:06s\n",
      "epoch 49 | loss: 0.2577  | train_mse: 0.11536 | train_mae: 0.26593 |  0:00:06s\n"
     ]
    },
    {
     "name": "stdout",
     "output_type": "stream",
     "text": [
      "epoch 50 | loss: 0.17284 | train_mse: 0.09406 | train_mae: 0.24468 |  0:00:06s\n",
      "epoch 51 | loss: 0.18503 | train_mse: 0.10336 | train_mae: 0.24903 |  0:00:06s\n",
      "epoch 52 | loss: 0.14967 | train_mse: 0.13215 | train_mae: 0.28041 |  0:00:06s\n"
     ]
    },
    {
     "name": "stdout",
     "output_type": "stream",
     "text": [
      "epoch 53 | loss: 0.18518 | train_mse: 0.13104 | train_mae: 0.27217 |  0:00:06s\n",
      "epoch 54 | loss: 0.16863 | train_mse: 0.14405 | train_mae: 0.29018 |  0:00:06s\n",
      "epoch 55 | loss: 0.14131 | train_mse: 0.12958 | train_mae: 0.27669 |  0:00:06s\n"
     ]
    },
    {
     "name": "stdout",
     "output_type": "stream",
     "text": [
      "epoch 56 | loss: 0.14035 | train_mse: 0.10958 | train_mae: 0.24794 |  0:00:06s\n",
      "epoch 57 | loss: 0.13114 | train_mse: 0.10417 | train_mae: 0.23897 |  0:00:07s\n",
      "epoch 58 | loss: 0.15375 | train_mse: 0.09897 | train_mae: 0.22739 |  0:00:07s\n"
     ]
    },
    {
     "name": "stdout",
     "output_type": "stream",
     "text": [
      "epoch 59 | loss: 0.17013 | train_mse: 0.1046  | train_mae: 0.23834 |  0:00:07s\n",
      "epoch 60 | loss: 0.18712 | train_mse: 0.10243 | train_mae: 0.2425  |  0:00:07s\n",
      "epoch 61 | loss: 0.1107  | train_mse: 0.0975  | train_mae: 0.25161 |  0:00:07s\n"
     ]
    },
    {
     "name": "stdout",
     "output_type": "stream",
     "text": [
      "epoch 62 | loss: 0.16246 | train_mse: 0.12919 | train_mae: 0.27843 |  0:00:07s\n",
      "epoch 63 | loss: 0.27257 | train_mse: 0.11568 | train_mae: 0.2658  |  0:00:07s\n",
      "epoch 64 | loss: 0.13701 | train_mse: 0.08844 | train_mae: 0.23569 |  0:00:07s\n"
     ]
    },
    {
     "name": "stdout",
     "output_type": "stream",
     "text": [
      "epoch 65 | loss: 0.17977 | train_mse: 0.11116 | train_mae: 0.25812 |  0:00:07s\n",
      "epoch 66 | loss: 0.16793 | train_mse: 0.09608 | train_mae: 0.24236 |  0:00:07s\n",
      "epoch 67 | loss: 0.19917 | train_mse: 0.0886  | train_mae: 0.23632 |  0:00:07s\n"
     ]
    },
    {
     "name": "stdout",
     "output_type": "stream",
     "text": [
      "epoch 68 | loss: 0.2131  | train_mse: 0.0924  | train_mae: 0.25597 |  0:00:07s\n",
      "epoch 69 | loss: 0.12957 | train_mse: 0.08428 | train_mae: 0.23785 |  0:00:07s\n",
      "epoch 70 | loss: 0.1283  | train_mse: 0.08617 | train_mae: 0.24423 |  0:00:08s\n"
     ]
    },
    {
     "name": "stdout",
     "output_type": "stream",
     "text": [
      "epoch 71 | loss: 0.18356 | train_mse: 0.08861 | train_mae: 0.2431  |  0:00:08s\n",
      "epoch 72 | loss: 0.13385 | train_mse: 0.11311 | train_mae: 0.25386 |  0:00:08s\n",
      "epoch 73 | loss: 0.12642 | train_mse: 0.12721 | train_mae: 0.26647 |  0:00:08s\n"
     ]
    },
    {
     "name": "stdout",
     "output_type": "stream",
     "text": [
      "epoch 74 | loss: 0.20353 | train_mse: 0.10429 | train_mae: 0.25507 |  0:00:08s\n",
      "epoch 75 | loss: 0.09671 | train_mse: 0.10885 | train_mae: 0.25859 |  0:00:08s\n",
      "epoch 76 | loss: 0.10231 | train_mse: 0.12199 | train_mae: 0.27012 |  0:00:08s\n"
     ]
    },
    {
     "name": "stdout",
     "output_type": "stream",
     "text": [
      "epoch 77 | loss: 0.12394 | train_mse: 0.10725 | train_mae: 0.26024 |  0:00:08s\n",
      "epoch 78 | loss: 0.1343  | train_mse: 0.09838 | train_mae: 0.25206 |  0:00:08s\n",
      "epoch 79 | loss: 0.19458 | train_mse: 0.13806 | train_mae: 0.28461 |  0:00:08s\n"
     ]
    },
    {
     "name": "stdout",
     "output_type": "stream",
     "text": [
      "epoch 80 | loss: 0.21493 | train_mse: 0.16553 | train_mae: 0.30001 |  0:00:08s\n",
      "epoch 81 | loss: 0.13576 | train_mse: 0.1175  | train_mae: 0.2702  |  0:00:08s\n",
      "epoch 82 | loss: 0.29507 | train_mse: 0.08604 | train_mae: 0.23887 |  0:00:08s\n"
     ]
    },
    {
     "name": "stdout",
     "output_type": "stream",
     "text": [
      "epoch 83 | loss: 0.14111 | train_mse: 0.09849 | train_mae: 0.25383 |  0:00:09s\n",
      "epoch 84 | loss: 0.08627 | train_mse: 0.11389 | train_mae: 0.26714 |  0:00:09s\n",
      "epoch 85 | loss: 0.15392 | train_mse: 0.12373 | train_mae: 0.26808 |  0:00:09s\n"
     ]
    },
    {
     "name": "stdout",
     "output_type": "stream",
     "text": [
      "epoch 86 | loss: 0.13991 | train_mse: 0.09856 | train_mae: 0.24315 |  0:00:09s\n",
      "epoch 87 | loss: 0.16057 | train_mse: 0.09505 | train_mae: 0.23425 |  0:00:09s\n",
      "epoch 88 | loss: 0.17239 | train_mse: 0.08114 | train_mae: 0.22161 |  0:00:09s\n"
     ]
    },
    {
     "name": "stdout",
     "output_type": "stream",
     "text": [
      "epoch 89 | loss: 0.10286 | train_mse: 0.08335 | train_mae: 0.22518 |  0:00:09s\n",
      "epoch 90 | loss: 0.1165  | train_mse: 0.111   | train_mae: 0.25734 |  0:00:09s\n",
      "epoch 91 | loss: 0.13974 | train_mse: 0.12535 | train_mae: 0.26431 |  0:00:09s\n"
     ]
    },
    {
     "name": "stdout",
     "output_type": "stream",
     "text": [
      "epoch 92 | loss: 0.15508 | train_mse: 0.08298 | train_mae: 0.22956 |  0:00:09s\n",
      "epoch 93 | loss: 0.26313 | train_mse: 0.0913  | train_mae: 0.25243 |  0:00:09s\n",
      "epoch 94 | loss: 0.11476 | train_mse: 0.07555 | train_mae: 0.22648 |  0:00:09s\n"
     ]
    },
    {
     "name": "stdout",
     "output_type": "stream",
     "text": [
      "epoch 95 | loss: 0.15202 | train_mse: 0.06742 | train_mae: 0.20637 |  0:00:09s\n",
      "epoch 96 | loss: 0.18848 | train_mse: 0.06437 | train_mae: 0.19571 |  0:00:10s\n",
      "epoch 97 | loss: 0.11292 | train_mse: 0.05737 | train_mae: 0.18923 |  0:00:10s\n"
     ]
    },
    {
     "name": "stdout",
     "output_type": "stream",
     "text": [
      "epoch 98 | loss: 0.15249 | train_mse: 0.06592 | train_mae: 0.20453 |  0:00:10s\n",
      "epoch 99 | loss: 0.09475 | train_mse: 0.07519 | train_mae: 0.21047 |  0:00:10s\n",
      "epoch 100| loss: 0.14738 | train_mse: 0.08582 | train_mae: 0.22184 |  0:00:10s\n"
     ]
    },
    {
     "name": "stdout",
     "output_type": "stream",
     "text": [
      "epoch 101| loss: 0.12212 | train_mse: 0.0926  | train_mae: 0.2219  |  0:00:10s\n",
      "epoch 102| loss: 0.14677 | train_mse: 0.10543 | train_mae: 0.24311 |  0:00:10s\n",
      "epoch 103| loss: 0.15591 | train_mse: 0.09772 | train_mae: 0.24011 |  0:00:10s\n"
     ]
    },
    {
     "name": "stdout",
     "output_type": "stream",
     "text": [
      "epoch 104| loss: 0.09413 | train_mse: 0.07185 | train_mae: 0.21318 |  0:00:10s\n",
      "epoch 105| loss: 0.16481 | train_mse: 0.06512 | train_mae: 0.19562 |  0:00:10s\n",
      "epoch 106| loss: 0.10264 | train_mse: 0.06956 | train_mae: 0.20474 |  0:00:10s\n"
     ]
    },
    {
     "name": "stdout",
     "output_type": "stream",
     "text": [
      "epoch 107| loss: 0.12125 | train_mse: 0.06968 | train_mae: 0.20841 |  0:00:10s\n",
      "epoch 108| loss: 0.08192 | train_mse: 0.07302 | train_mae: 0.21094 |  0:00:10s\n",
      "epoch 109| loss: 0.08858 | train_mse: 0.08323 | train_mae: 0.22756 |  0:00:11s\n"
     ]
    },
    {
     "name": "stdout",
     "output_type": "stream",
     "text": [
      "epoch 110| loss: 0.14388 | train_mse: 0.07185 | train_mae: 0.21134 |  0:00:11s\n"
     ]
    },
    {
     "name": "stdout",
     "output_type": "stream",
     "text": [
      "epoch 111| loss: 0.17767 | train_mse: 0.05702 | train_mae: 0.18122 |  0:00:11s\n"
     ]
    },
    {
     "name": "stdout",
     "output_type": "stream",
     "text": [
      "epoch 112| loss: 0.07751 | train_mse: 0.06598 | train_mae: 0.20297 |  0:00:11s\n"
     ]
    },
    {
     "name": "stdout",
     "output_type": "stream",
     "text": [
      "epoch 113| loss: 0.17285 | train_mse: 0.07648 | train_mae: 0.21759 |  0:00:12s\n",
      "epoch 114| loss: 0.08976 | train_mse: 0.07381 | train_mae: 0.20963 |  0:00:12s\n"
     ]
    },
    {
     "name": "stdout",
     "output_type": "stream",
     "text": [
      "epoch 115| loss: 0.25955 | train_mse: 0.08135 | train_mae: 0.22168 |  0:00:12s\n",
      "epoch 116| loss: 0.23384 | train_mse: 0.09099 | train_mae: 0.23369 |  0:00:12s\n",
      "epoch 117| loss: 0.17293 | train_mse: 0.11205 | train_mae: 0.25694 |  0:00:12s\n"
     ]
    },
    {
     "name": "stdout",
     "output_type": "stream",
     "text": [
      "epoch 118| loss: 0.13362 | train_mse: 0.0906  | train_mae: 0.22752 |  0:00:12s\n",
      "epoch 119| loss: 0.11502 | train_mse: 0.07841 | train_mae: 0.21742 |  0:00:12s\n"
     ]
    },
    {
     "name": "stdout",
     "output_type": "stream",
     "text": [
      "epoch 120| loss: 0.14626 | train_mse: 0.08179 | train_mae: 0.22096 |  0:00:12s\n",
      "epoch 121| loss: 0.1171  | train_mse: 0.0777  | train_mae: 0.21938 |  0:00:12s\n",
      "epoch 122| loss: 0.14757 | train_mse: 0.06552 | train_mae: 0.20496 |  0:00:12s\n"
     ]
    },
    {
     "name": "stdout",
     "output_type": "stream",
     "text": [
      "epoch 123| loss: 0.14107 | train_mse: 0.06078 | train_mae: 0.20073 |  0:00:13s\n"
     ]
    },
    {
     "name": "stdout",
     "output_type": "stream",
     "text": [
      "epoch 124| loss: 0.10282 | train_mse: 0.0561  | train_mae: 0.19467 |  0:00:13s\n"
     ]
    },
    {
     "name": "stdout",
     "output_type": "stream",
     "text": [
      "epoch 125| loss: 0.1124  | train_mse: 0.05146 | train_mae: 0.18392 |  0:00:13s\n"
     ]
    },
    {
     "name": "stdout",
     "output_type": "stream",
     "text": [
      "epoch 126| loss: 0.07946 | train_mse: 0.05465 | train_mae: 0.1889  |  0:00:13s\n",
      "epoch 127| loss: 0.13847 | train_mse: 0.05383 | train_mae: 0.18909 |  0:00:14s\n"
     ]
    },
    {
     "name": "stdout",
     "output_type": "stream",
     "text": [
      "epoch 128| loss: 0.09519 | train_mse: 0.07442 | train_mae: 0.21112 |  0:00:14s\n",
      "epoch 129| loss: 0.10632 | train_mse: 0.0904  | train_mae: 0.22991 |  0:00:14s\n"
     ]
    },
    {
     "name": "stdout",
     "output_type": "stream",
     "text": [
      "epoch 130| loss: 0.19493 | train_mse: 0.05938 | train_mae: 0.1935  |  0:00:14s\n",
      "epoch 131| loss: 0.10065 | train_mse: 0.04684 | train_mae: 0.17127 |  0:00:14s\n"
     ]
    },
    {
     "name": "stdout",
     "output_type": "stream",
     "text": [
      "epoch 132| loss: 0.10232 | train_mse: 0.05545 | train_mae: 0.1865  |  0:00:14s\n",
      "epoch 133| loss: 0.14322 | train_mse: 0.07383 | train_mae: 0.21082 |  0:00:14s\n",
      "epoch 134| loss: 0.33521 | train_mse: 0.07082 | train_mae: 0.20712 |  0:00:14s\n"
     ]
    },
    {
     "name": "stdout",
     "output_type": "stream",
     "text": [
      "epoch 135| loss: 0.09603 | train_mse: 0.05558 | train_mae: 0.17975 |  0:00:15s\n",
      "epoch 136| loss: 0.1344  | train_mse: 0.0557  | train_mae: 0.18174 |  0:00:15s\n",
      "epoch 137| loss: 0.08581 | train_mse: 0.06013 | train_mae: 0.19287 |  0:00:15s\n"
     ]
    },
    {
     "name": "stdout",
     "output_type": "stream",
     "text": [
      "epoch 138| loss: 0.10821 | train_mse: 0.08494 | train_mae: 0.22443 |  0:00:15s\n",
      "epoch 139| loss: 0.12226 | train_mse: 0.11043 | train_mae: 0.25456 |  0:00:15s\n"
     ]
    },
    {
     "name": "stdout",
     "output_type": "stream",
     "text": [
      "epoch 140| loss: 0.15234 | train_mse: 0.18049 | train_mae: 0.30693 |  0:00:15s\n",
      "epoch 141| loss: 0.22244 | train_mse: 0.22675 | train_mae: 0.33596 |  0:00:15s\n"
     ]
    },
    {
     "name": "stdout",
     "output_type": "stream",
     "text": [
      "epoch 142| loss: 0.11994 | train_mse: 0.31102 | train_mae: 0.39754 |  0:00:15s\n",
      "epoch 143| loss: 0.17637 | train_mse: 0.39797 | train_mae: 0.44676 |  0:00:16s\n"
     ]
    },
    {
     "name": "stdout",
     "output_type": "stream",
     "text": [
      "epoch 144| loss: 0.19933 | train_mse: 0.33031 | train_mae: 0.41166 |  0:00:16s\n",
      "epoch 145| loss: 0.18738 | train_mse: 0.23254 | train_mae: 0.34585 |  0:00:16s\n"
     ]
    },
    {
     "name": "stdout",
     "output_type": "stream",
     "text": [
      "epoch 146| loss: 0.10046 | train_mse: 0.18306 | train_mae: 0.33595 |  0:00:16s\n"
     ]
    },
    {
     "name": "stdout",
     "output_type": "stream",
     "text": [
      "epoch 147| loss: 0.11166 | train_mse: 0.12434 | train_mae: 0.29784 |  0:00:16s\n",
      "epoch 148| loss: 0.14029 | train_mse: 0.09023 | train_mae: 0.25767 |  0:00:17s\n"
     ]
    },
    {
     "name": "stdout",
     "output_type": "stream",
     "text": [
      "epoch 149| loss: 0.09146 | train_mse: 0.09335 | train_mae: 0.24989 |  0:00:17s\n",
      "epoch 150| loss: 0.14591 | train_mse: 0.10299 | train_mae: 0.26461 |  0:00:17s\n",
      "epoch 151| loss: 0.14468 | train_mse: 0.10725 | train_mae: 0.26088 |  0:00:17s\n"
     ]
    },
    {
     "name": "stdout",
     "output_type": "stream",
     "text": [
      "epoch 152| loss: 0.14317 | train_mse: 0.08736 | train_mae: 0.22989 |  0:00:17s\n",
      "epoch 153| loss: 0.17707 | train_mse: 0.06875 | train_mae: 0.21181 |  0:00:17s\n"
     ]
    },
    {
     "name": "stdout",
     "output_type": "stream",
     "text": [
      "epoch 154| loss: 0.14661 | train_mse: 0.06185 | train_mae: 0.20112 |  0:00:17s\n",
      "epoch 155| loss: 0.19789 | train_mse: 0.0828  | train_mae: 0.23841 |  0:00:17s\n"
     ]
    },
    {
     "name": "stdout",
     "output_type": "stream",
     "text": [
      "epoch 156| loss: 0.09025 | train_mse: 0.08125 | train_mae: 0.23658 |  0:00:18s\n",
      "epoch 157| loss: 0.2297  | train_mse: 0.0646  | train_mae: 0.21394 |  0:00:18s\n"
     ]
    },
    {
     "name": "stdout",
     "output_type": "stream",
     "text": [
      "epoch 158| loss: 0.0749  | train_mse: 0.05423 | train_mae: 0.18911 |  0:00:18s\n",
      "epoch 159| loss: 0.3009  | train_mse: 0.05977 | train_mae: 0.20166 |  0:00:18s\n",
      "epoch 160| loss: 0.15814 | train_mse: 0.06097 | train_mae: 0.20289 |  0:00:18s\n"
     ]
    },
    {
     "name": "stdout",
     "output_type": "stream",
     "text": [
      "epoch 161| loss: 0.15383 | train_mse: 0.0689  | train_mae: 0.20883 |  0:00:18s\n",
      "epoch 162| loss: 0.09644 | train_mse: 0.09114 | train_mae: 0.23175 |  0:00:18s\n"
     ]
    },
    {
     "name": "stdout",
     "output_type": "stream",
     "text": [
      "epoch 163| loss: 0.14086 | train_mse: 0.11003 | train_mae: 0.24389 |  0:00:18s\n",
      "epoch 164| loss: 0.15573 | train_mse: 0.08436 | train_mae: 0.21912 |  0:00:18s\n"
     ]
    },
    {
     "name": "stdout",
     "output_type": "stream",
     "text": [
      "epoch 165| loss: 0.1179  | train_mse: 0.06695 | train_mae: 0.19912 |  0:00:19s\n",
      "epoch 166| loss: 0.09713 | train_mse: 0.05202 | train_mae: 0.18109 |  0:00:19s\n",
      "epoch 167| loss: 0.07457 | train_mse: 0.05161 | train_mae: 0.18374 |  0:00:19s\n"
     ]
    },
    {
     "name": "stdout",
     "output_type": "stream",
     "text": [
      "epoch 168| loss: 0.15967 | train_mse: 0.0518  | train_mae: 0.18381 |  0:00:19s\n",
      "epoch 169| loss: 0.19326 | train_mse: 0.06057 | train_mae: 0.19712 |  0:00:19s\n",
      "epoch 170| loss: 0.0859  | train_mse: 0.08145 | train_mae: 0.21412 |  0:00:19s\n",
      "epoch 171| loss: 0.1389  | train_mse: 0.08474 | train_mae: 0.2095  |  0:00:19s\n"
     ]
    },
    {
     "name": "stdout",
     "output_type": "stream",
     "text": [
      "epoch 172| loss: 0.11948 | train_mse: 0.07349 | train_mae: 0.20161 |  0:00:19s\n",
      "epoch 173| loss: 0.08156 | train_mse: 0.05153 | train_mae: 0.18092 |  0:00:19s\n",
      "epoch 174| loss: 0.13339 | train_mse: 0.04855 | train_mae: 0.17731 |  0:00:19s\n"
     ]
    },
    {
     "name": "stdout",
     "output_type": "stream",
     "text": [
      "epoch 175| loss: 0.14731 | train_mse: 0.05698 | train_mae: 0.1923  |  0:00:19s\n",
      "epoch 176| loss: 0.12621 | train_mse: 0.06101 | train_mae: 0.19765 |  0:00:19s\n"
     ]
    },
    {
     "name": "stdout",
     "output_type": "stream",
     "text": [
      "epoch 177| loss: 0.1153  | train_mse: 0.05657 | train_mae: 0.18963 |  0:00:20s\n",
      "epoch 178| loss: 0.08496 | train_mse: 0.05527 | train_mae: 0.18874 |  0:00:20s\n"
     ]
    },
    {
     "name": "stdout",
     "output_type": "stream",
     "text": [
      "epoch 179| loss: 0.12382 | train_mse: 0.05061 | train_mae: 0.18446 |  0:00:20s\n",
      "epoch 180| loss: 0.12846 | train_mse: 0.04858 | train_mae: 0.17757 |  0:00:20s\n"
     ]
    },
    {
     "name": "stdout",
     "output_type": "stream",
     "text": [
      "epoch 181| loss: 0.09975 | train_mse: 0.05353 | train_mae: 0.18509 |  0:00:20s\n",
      "\n",
      "Early stopping occurred at epoch 181 with best_epoch = 131 and best_train_mae = 0.17127\n",
      "Best weights from best epoch are automatically used!\n"
     ]
    }
   ],
   "source": [
    "#Train the Model\n",
    "\n",
    "Y_train = np.reshape(Y_train, (-1, 1))\n",
    "Y_test = np.reshape(Y_test, (-1, 1))\n",
    "\n",
    "prior_model = TabNetRegressor(optimizer_fn=torch.optim.Adam, optimizer_params=dict(lr = 0.02),\n",
    "          #scheduler_params={\"step_size\":10, ], \"gamma\":0.9},\n",
    "          #scheduler_fn=torch.optim.lr_scheduler.StepLR\n",
    "          )  #TabNetRegressor()\n",
    "\n",
    "prior_model.fit(X_train,Y_train,eval_set=[(X_train, Y_train)],\n",
    "            eval_name=['train'], \n",
    "            eval_metric=[ 'mse', 'mae'], \n",
    "            max_epochs = n_epochs, \n",
    "            batch_size = batch_size,\n",
    "            patience=50\n",
    "            )"
   ]
  },
  {
   "cell_type": "code",
   "execution_count": 10,
   "id": "af65dcda",
   "metadata": {
    "execution": {
     "iopub.execute_input": "2022-06-22T14:41:48.783289Z",
     "iopub.status.busy": "2022-06-22T14:41:48.772485Z",
     "iopub.status.idle": "2022-06-22T14:41:48.816752Z",
     "shell.execute_reply": "2022-06-22T14:41:48.804095Z"
    },
    "id": "af65dcda",
    "papermill": {
     "duration": 0.29835,
     "end_time": "2022-06-22T14:41:48.817732",
     "exception": false,
     "start_time": "2022-06-22T14:41:48.519382",
     "status": "completed"
    },
    "tags": []
   },
   "outputs": [
    {
     "data": {
      "application/scrapbook.scrap.json+json": {
       "data": 0.28754503207392923,
       "encoder": "json",
       "name": "Prior Model MSE",
       "version": 1
      }
     },
     "metadata": {
      "scrapbook": {
       "data": true,
       "display": false,
       "name": "Prior Model MSE"
      }
     },
     "output_type": "display_data"
    },
    {
     "data": {
      "application/scrapbook.scrap.json+json": {
       "data": 0.2890793606951321,
       "encoder": "json",
       "name": "ABC Pre-generator MSE",
       "version": 1
      }
     },
     "metadata": {
      "scrapbook": {
       "data": true,
       "display": false,
       "name": "ABC Pre-generator MSE"
      }
     },
     "output_type": "display_data"
    },
    {
     "data": {
      "application/scrapbook.scrap.json+json": {
       "data": 0.437070415860473,
       "encoder": "json",
       "name": "Prior Model MSE",
       "version": 1
      }
     },
     "metadata": {
      "scrapbook": {
       "data": true,
       "display": false,
       "name": "Prior Model MSE"
      }
     },
     "output_type": "display_data"
    },
    {
     "data": {
      "application/scrapbook.scrap.json+json": {
       "data": 0.4399678542662282,
       "encoder": "json",
       "name": "ABC Pre-generator MSE",
       "version": 1
      }
     },
     "metadata": {
      "scrapbook": {
       "data": true,
       "display": false,
       "name": "ABC Pre-generator MSE"
      }
     },
     "output_type": "display_data"
    }
   ],
   "source": [
    "y_pred = prior_model.predict(X_test)\n",
    "y_abc = y_pred + np.random.normal(0,variance, y_pred.shape) + bias \n",
    "mse = mean_squared_error(y_pred,Y_test)\n",
    "sb.glue(\"Prior Model MSE\",mse)\n",
    "mse = mean_squared_error(y_abc,Y_test)\n",
    "sb.glue(\"ABC Pre-generator MSE\",mse)\n",
    "mae = mean_absolute_error(y_pred,Y_test)\n",
    "sb.glue(\"Prior Model MSE\",mae)\n",
    "mae = mean_absolute_error(y_abc,Y_test)\n",
    "sb.glue(\"ABC Pre-generator MSE\",mae)"
   ]
  },
  {
   "cell_type": "markdown",
   "id": "25609da2",
   "metadata": {
    "papermill": {
     "duration": 0.059158,
     "end_time": "2022-06-22T14:41:48.944368",
     "exception": false,
     "start_time": "2022-06-22T14:41:48.885210",
     "status": "completed"
    },
    "tags": []
   },
   "source": [
    "# ABC GAN Model"
   ]
  },
  {
   "cell_type": "code",
   "execution_count": 11,
   "id": "dfc3464d",
   "metadata": {
    "execution": {
     "iopub.execute_input": "2022-06-22T14:41:49.067891Z",
     "iopub.status.busy": "2022-06-22T14:41:49.064805Z",
     "iopub.status.idle": "2022-06-22T14:41:49.068934Z",
     "shell.execute_reply": "2022-06-22T14:41:49.069419Z"
    },
    "papermill": {
     "duration": 0.082633,
     "end_time": "2022-06-22T14:41:49.069649",
     "exception": false,
     "start_time": "2022-06-22T14:41:48.987016",
     "status": "completed"
    },
    "tags": []
   },
   "outputs": [],
   "source": [
    "gen = network.Generator(n_features+1).to(device)\n",
    "disc = network.Discriminator(n_features+1).to(device)\n",
    "\n",
    "criterion = torch.nn.BCELoss()\n",
    "gen_opt = torch.optim.Adam(gen.parameters(), lr=0.001, betas=(0.5, 0.999))\n",
    "disc_opt = torch.optim.Adam(disc.parameters(), lr=0.001, betas=(0.5, 0.999))"
   ]
  },
  {
   "cell_type": "code",
   "execution_count": 12,
   "id": "b75fdd85",
   "metadata": {
    "execution": {
     "iopub.execute_input": "2022-06-22T14:41:49.758856Z",
     "iopub.status.busy": "2022-06-22T14:41:49.758071Z",
     "iopub.status.idle": "2022-06-22T14:42:39.886543Z",
     "shell.execute_reply": "2022-06-22T14:42:39.888256Z"
    },
    "papermill": {
     "duration": 50.440205,
     "end_time": "2022-06-22T14:42:39.888551",
     "exception": false,
     "start_time": "2022-06-22T14:41:49.448346",
     "status": "completed"
    },
    "tags": []
   },
   "outputs": [
    {
     "data": {
      "image/png": "[encoded data removed]",
      "text/plain": [
       "<Figure size 432x288 with 1 Axes>"
      ]
     },
     "metadata": {
      "needs_background": "light"
     },
     "output_type": "display_data"
    },
    {
     "data": {
      "image/png": "[encoded data removed]",
      "text/plain": [
       "<Figure size 432x288 with 1 Axes>"
      ]
     },
     "metadata": {
      "needs_background": "light"
     },
     "output_type": "display_data"
    }
   ],
   "source": [
    "#Training the ABC_GAN \n",
    "ABC_train_test2.training_GAN(disc,gen,disc_opt,gen_opt,train_data,batch_size,n_epochs,criterion,prior_model,variance,bias,device)"
   ]
  },
  {
   "cell_type": "code",
   "execution_count": 13,
   "id": "1fa7c368",
   "metadata": {
    "execution": {
     "iopub.execute_input": "2022-06-22T14:42:40.093846Z",
     "iopub.status.busy": "2022-06-22T14:42:40.083615Z",
     "iopub.status.idle": "2022-06-22T14:42:40.741496Z",
     "shell.execute_reply": "2022-06-22T14:42:40.741974Z"
    },
    "papermill": {
     "duration": 0.792893,
     "end_time": "2022-06-22T14:42:40.742272",
     "exception": false,
     "start_time": "2022-06-22T14:42:39.949379",
     "status": "completed"
    },
    "tags": []
   },
   "outputs": [
    {
     "data": {
      "application/scrapbook.scrap.json+json": {
       "data": 0.2723543480422399,
       "encoder": "json",
       "name": "ABC-GAN Model 1 MSE",
       "version": 1
      }
     },
     "metadata": {
      "scrapbook": {
       "data": true,
       "display": false,
       "name": "ABC-GAN Model 1 MSE"
      }
     },
     "output_type": "display_data"
    },
    {
     "data": {
      "application/scrapbook.scrap.json+json": {
       "data": 0.4257799267247319,
       "encoder": "json",
       "name": "ABC-GAN Model 1 MAE",
       "version": 1
      }
     },
     "metadata": {
      "scrapbook": {
       "data": true,
       "display": false,
       "name": "ABC-GAN Model 1 MAE"
      }
     },
     "output_type": "display_data"
    },
    {
     "data": {
      "application/scrapbook.scrap.json+json": {
       "data": 8.515598534494638,
       "encoder": "json",
       "name": "ABC-GAN Model 1 Manhattan Distance",
       "version": 1
      }
     },
     "metadata": {
      "scrapbook": {
       "data": true,
       "display": false,
       "name": "ABC-GAN Model 1 Manhattan Distance"
      }
     },
     "output_type": "display_data"
    },
    {
     "data": {
      "application/scrapbook.scrap.json+json": {
       "data": 2.3338835332960093,
       "encoder": "json",
       "name": "ABC-GAN Model 1 Euclidean distance",
       "version": 1
      }
     },
     "metadata": {
      "scrapbook": {
       "data": true,
       "display": false,
       "name": "ABC-GAN Model 1 Euclidean distance"
      }
     },
     "output_type": "display_data"
    },
    {
     "data": {
      "application/scrapbook.scrap.json+json": {
       "data": [
        [
         0.2713922918833697,
         0.27231891827748395,
         0.2723045483052725,
         0.27550439661652915,
         0.2769944857586546,
         0.2745505324395292,
         0.2766209937679732,
         0.270305611246623,
         0.2717832732323187,
         0.27458269877001185,
         0.27183419079056703,
         0.27306398063480614,
         0.27385965424321546,
         0.27095265743420244,
         0.27326261644732963,
         0.2723397617778279,
         0.2736276342615523,
         0.27394304850560136,
         0.2691624956342161,
         0.2789364740898947,
         0.2720901609314371,
         0.27442477539589116,
         0.27132569142370694,
         0.27072804564430125,
         0.27546870277040925,
         0.27300206053412224,
         0.2733890305802521,
         0.2737202931410533,
         0.2755017789625641,
         0.2733160485439983,
         0.2714529198188017,
         0.2719052670092226,
         0.2731826277089872,
         0.27159815159103257,
         0.26949466672140154,
         0.27231935913582556,
         0.2738583910131743,
         0.2715966163979883,
         0.270662958203676,
         0.27482961275802414,
         0.27285999892830415,
         0.27523704846056984,
         0.27063854403515675,
         0.26881042712314784,
         0.272698282052247,
         0.27314999053431593,
         0.26946920494905446,
         0.27166439521075103,
         0.27072304112856216,
         0.27027753640205887,
         0.2724156923759584,
         0.2724920158143723,
         0.2701421303124896,
         0.27306173222304514,
         0.27104717469621337,
         0.27471164921087166,
         0.2724702517952823,
         0.2722332769553871,
         0.26986593586664853,
         0.272232433630407,
         0.2742784203904116,
         0.27433700476237904,
         0.2717012402763738,
         0.2688552868759324,
         0.2729723755511827,
         0.2728589319476221,
         0.27372568556634985,
         0.2710355438085842,
         0.2701996945271876,
         0.2727302090586785,
         0.2687568466830853,
         0.27236435258058533,
         0.27613420924448273,
         0.26992804451180746,
         0.2703123656490597,
         0.266438067733484,
         0.2726485958956389,
         0.2747567452526981,
         0.2702103887099554,
         0.2735996599424895,
         0.2717901371183518,
         0.2731402535386238,
         0.27465140767128216,
         0.27220949446692044,
         0.2713113768652925,
         0.27238517112105654,
         0.2721620516222154,
         0.2732203316881582,
         0.26868486332644687,
         0.2748752388248721,
         0.2723519982021955,
         0.26995841474335525,
         0.2721954014381462,
         0.27357282075541106,
         0.2696962993325741,
         0.27036064742913946,
         0.27051902147764734,
         0.2727645174826338,
         0.27143182450279457,
         0.27290167954119254
        ],
        [
         0.42318250946700575,
         0.42568348757922647,
         0.42647414840757847,
         0.4272734757512808,
         0.43029211200773715,
         0.42922363989055157,
         0.4301923308521509,
         0.4234656039625406,
         0.42547810412943365,
         0.42771708928048613,
         0.42433533631265163,
         0.42586386539042,
         0.4253007847815752,
         0.42402232624590397,
         0.4269992295652628,
         0.42349405847489835,
         0.4251071628183126,
         0.4291827712208033,
         0.42438984401524066,
         0.4330521982163191,
         0.4254250068217516,
         0.42902517430484294,
         0.4249561320990324,
         0.42235539592802523,
         0.42994896657764914,
         0.42695072554051877,
         0.42540718205273154,
         0.42415160275995734,
         0.4300732847303152,
         0.4304125692695379,
         0.425125141069293,
         0.4258231516927481,
         0.42770716063678266,
         0.4230873893946409,
         0.42415124289691447,
         0.42500124834477904,
         0.42582672499120233,
         0.4231307614594698,
         0.42275565303862095,
         0.42749219574034214,
         0.4274628985673189,
         0.4287701029330492,
         0.42522500865161417,
         0.423657688125968,
         0.42545507214963435,
         0.4252316292375326,
         0.42393406815826895,
         0.4255235608667135,
         0.42423443160951135,
         0.423002153262496,
         0.42841234169900416,
         0.4259242657572031,
         0.4244547102600336,
         0.4252012316137552,
         0.42423538751900197,
         0.42769082970917227,
         0.42626852057874204,
         0.4250175435096025,
         0.42297375164926054,
         0.4259662006050348,
         0.4274246599525213,
         0.42482255809009073,
         0.4259299110621214,
         0.421207070723176,
         0.4271058414131403,
         0.42674268670380117,
         0.4256677132099867,
         0.4257865931838751,
         0.42311754636466503,
         0.4263176333159208,
         0.4216706585139036,
         0.42643935717642306,
         0.42932158298790457,
         0.42420557104051115,
         0.4231371182948351,
         0.4195998053997755,
         0.4253886852413416,
         0.42747223414480684,
         0.42499056421220305,
         0.42684982977807523,
         0.4257732924073935,
         0.4288471255451441,
         0.4280667703598738,
         0.4240377154201269,
         0.42629926837980747,
         0.4252775926142931,
         0.4284045334905386,
         0.4265733938664198,
         0.4220897611230612,
         0.42798417396843436,
         0.42611843831837176,
         0.4236794102936983,
         0.4263055603951216,
         0.4270446810871363,
         0.4235449481755495,
         0.4261334765702486,
         0.4243024159222841,
         0.4265349332243204,
         0.4233145762234926,
         0.4262848000973463
        ],
        [
         8.463650189340115,
         8.51366975158453,
         8.52948296815157,
         8.545469515025616,
         8.605842240154743,
         8.584472797811031,
         8.603846617043018,
         8.469312079250813,
         8.509562082588673,
         8.554341785609722,
         8.486706726253033,
         8.5172773078084,
         8.506015695631504,
         8.48044652491808,
         8.539984591305256,
         8.469881169497967,
         8.502143256366253,
         8.583655424416065,
         8.487796880304813,
         8.661043964326382,
         8.508500136435032,
         8.580503486096859,
         8.499122641980648,
         8.447107918560505,
         8.598979331552982,
         8.539014510810375,
         8.50814364105463,
         8.483032055199146,
         8.601465694606304,
         8.608251385390759,
         8.50250282138586,
         8.516463033854961,
         8.554143212735653,
         8.461747787892818,
         8.48302485793829,
         8.50002496689558,
         8.516534499824047,
         8.462615229189396,
         8.455113060772419,
         8.549843914806843,
         8.549257971346378,
         8.575402058660984,
         8.504500173032284,
         8.47315376251936,
         8.509101442992687,
         8.504632584750652,
         8.478681363165379,
         8.51047121733427,
         8.484688632190228,
         8.46004306524992,
         8.568246833980083,
         8.518485315144062,
         8.489094205200672,
         8.504024632275105,
         8.48470775038004,
         8.553816594183445,
         8.52537041157484,
         8.500350870192051,
         8.45947503298521,
         8.519324012100697,
         8.548493199050426,
         8.496451161801815,
         8.518598221242428,
         8.42414141446352,
         8.542116828262806,
         8.534853734076023,
         8.513354264199734,
         8.515731863677502,
         8.4623509272933,
         8.526352666318417,
         8.433413170278072,
         8.528787143528461,
         8.586431659758091,
         8.484111420810223,
         8.462742365896702,
         8.39199610799551,
         8.507773704826832,
         8.549444682896137,
         8.49981128424406,
         8.536996595561504,
         8.515465848147869,
         8.576942510902882,
         8.561335407197475,
         8.480754308402538,
         8.52598536759615,
         8.505551852285862,
         8.568090669810772,
         8.531467877328396,
         8.441795222461224,
         8.559683479368687,
         8.522368766367435,
         8.473588205873966,
         8.526111207902431,
         8.540893621742725,
         8.47089896351099,
         8.522669531404972,
         8.486048318445683,
         8.530698664486408,
         8.466291524469852,
         8.525696001946926
        ],
        [
         2.3297737739247117,
         2.3337477082044833,
         2.33368613273196,
         2.3473576490025083,
         2.3536970313048133,
         2.3432905600438425,
         2.3521096648242117,
         2.3251047771944515,
         2.3314513644179615,
         2.3434278259422108,
         2.331669748444522,
         2.3369380849085672,
         2.340340377992977,
         2.3278859827500247,
         2.3377879135940867,
         2.333837019921605,
         2.3393487737468828,
         2.340696684774007,
         2.320183163606771,
         2.3619334202720226,
         2.332767287714045,
         2.3427538299868003,
         2.329487889746186,
         2.3269209081715747,
         2.3472055843935324,
         2.336673107364923,
         2.3383285935909526,
         2.339744828570215,
         2.347346497484187,
         2.33801646078037,
         2.3300339903907052,
         2.3319745582198044,
         2.3374457328844547,
         2.3306572102779617,
         2.321614381077967,
         2.333749597261135,
         2.3403349803529165,
         2.330650623315251,
         2.3266411764759773,
         2.344481233697656,
         2.3360650629993343,
         2.346218440216383,
         2.326536241003594,
         2.3186652501952403,
         2.335372698531209,
         2.3373061011956304,
         2.3215047057848257,
         2.3309414201594643,
         2.326899401042349,
         2.324984027480872,
         2.334162343865389,
         2.3344893052416085,
         2.3244015587350204,
         2.336928463702067,
         2.328291969217836,
         2.3439780255406477,
         2.3343960751992463,
         2.3333807102802027,
         2.323213015918465,
         2.333377096100872,
         2.342129033125253,
         2.3423791527520863,
         2.3310994842621957,
         2.318858714436619,
         2.3365460643915528,
         2.336060495567793,
         2.339767875522484,
         2.3282420140895326,
         2.3246491973077896,
         2.335509405070673,
         2.318434155558813,
         2.3339423839528917,
         2.350039187947651,
         2.3234803399719457,
         2.3251338268971087,
         2.3084110021115563,
         2.3351599341185985,
         2.344170408706236,
         2.3246952002787604,
         2.3392291890385155,
         2.331480804631905,
         2.3372644417721493,
         2.3437210058847966,
         2.333278785173004,
         2.32942643955671,
         2.3340315812818666,
         2.3330754450819433,
         2.337607031509608,
         2.318123652122323,
         2.3446758361226485,
         2.333889449833456,
         2.32361104638171,
         2.3332183842844465,
         2.339114451049418,
         2.32248272042043,
         2.3253414692433427,
         2.3260224482048635,
         2.3356562995553682,
         2.3299434521155,
         2.3362434784978747
        ]
       ],
       "encoder": "json",
       "name": "ABC_GAN_1 Metrics",
       "version": 1
      }
     },
     "metadata": {
      "scrapbook": {
       "data": true,
       "display": false,
       "name": "ABC_GAN_1 Metrics"
      }
     },
     "output_type": "display_data"
    },
    {
     "name": "stdout",
     "output_type": "stream",
     "text": [
      "MSE\n",
      "0.2723543480422399\n"
     ]
    }
   ],
   "source": [
    "ABC_GAN1_metrics=ABC_train_test2.test_generator(gen,test_data,prior_model,variance,bias,\"1\",device)\n",
    "sb.glue(\"ABC_GAN_1 Metrics\",ABC_GAN1_metrics)\n",
    "\n",
    "print(\"MSE\")\n",
    "print(mean(ABC_GAN1_metrics[0]))"
   ]
  },
  {
   "cell_type": "code",
   "execution_count": 14,
   "id": "eb22ce5c",
   "metadata": {
    "execution": {
     "iopub.execute_input": "2022-06-22T14:42:40.835656Z",
     "iopub.status.busy": "2022-06-22T14:42:40.834876Z",
     "iopub.status.idle": "2022-06-22T14:42:41.591543Z",
     "shell.execute_reply": "2022-06-22T14:42:41.592242Z"
    },
    "papermill": {
     "duration": 0.811006,
     "end_time": "2022-06-22T14:42:41.592457",
     "exception": false,
     "start_time": "2022-06-22T14:42:40.781451",
     "status": "completed"
    },
    "tags": []
   },
   "outputs": [
    {
     "data": {
      "image/png": "[encoded data removed]",
      "text/plain": [
       "<Figure size 432x288 with 1 Axes>"
      ]
     },
     "metadata": {
      "needs_background": "light"
     },
     "output_type": "display_data"
    },
    {
     "data": {
      "image/png": "[encoded data removed]",
      "text/plain": [
       "<Figure size 432x288 with 1 Axes>"
      ]
     },
     "metadata": {
      "needs_background": "light"
     },
     "output_type": "display_data"
    },
    {
     "data": {
      "image/png": "[encoded data removed]",
      "text/plain": [
       "<Figure size 432x288 with 1 Axes>"
      ]
     },
     "metadata": {
      "needs_background": "light"
     },
     "output_type": "display_data"
    },
    {
     "data": {
      "image/png": "[encoded data removed]",
      "text/plain": [
       "<Figure size 432x288 with 1 Axes>"
      ]
     },
     "metadata": {
      "needs_background": "light"
     },
     "output_type": "display_data"
    }
   ],
   "source": [
    "sanityChecks.discProbVsError(train_data,disc,device)\n",
    "sanityChecks.discProbVsError(test_data,disc,device)"
   ]
  },
  {
   "cell_type": "markdown",
   "id": "130f3a4d",
   "metadata": {
    "id": "130f3a4d",
    "papermill": {
     "duration": 0.048617,
     "end_time": "2022-06-22T14:42:41.682356",
     "exception": false,
     "start_time": "2022-06-22T14:42:41.633739",
     "status": "completed"
    },
    "tags": []
   },
   "source": [
    "# ABC - GAN Model with skip connection"
   ]
  },
  {
   "cell_type": "code",
   "execution_count": 15,
   "id": "4e43dad1",
   "metadata": {
    "execution": {
     "iopub.execute_input": "2022-06-22T14:42:41.779321Z",
     "iopub.status.busy": "2022-06-22T14:42:41.778575Z",
     "iopub.status.idle": "2022-06-22T14:42:41.783489Z",
     "shell.execute_reply": "2022-06-22T14:42:41.783025Z"
    },
    "id": "4e43dad1",
    "papermill": {
     "duration": 0.054172,
     "end_time": "2022-06-22T14:42:41.783669",
     "exception": false,
     "start_time": "2022-06-22T14:42:41.729497",
     "status": "completed"
    },
    "tags": []
   },
   "outputs": [],
   "source": [
    "#Generator\n",
    "gen3 = network.GeneratorWithSkipConnection(n_features+1).to(device)\n",
    "constraints=network.weightConstraint()\n",
    "#Discriminator \n",
    "disc3 = network.Discriminator(n_features+1).to(device)\n",
    "\n",
    "criterion = torch.nn.BCELoss()\n",
    "gen_opt = torch.optim.Adam(gen3.parameters(), lr=0.001, betas=(0.5, 0.999))\n",
    "disc_opt = torch.optim.Adam(disc3.parameters(), lr=0.001, betas=(0.5, 0.999))\n"
   ]
  },
  {
   "cell_type": "code",
   "execution_count": 16,
   "id": "26acbc37",
   "metadata": {
    "execution": {
     "iopub.execute_input": "2022-06-22T14:42:41.886471Z",
     "iopub.status.busy": "2022-06-22T14:42:41.885775Z",
     "iopub.status.idle": "2022-06-22T14:44:11.544309Z",
     "shell.execute_reply": "2022-06-22T14:44:11.544803Z"
    },
    "id": "26acbc37",
    "papermill": {
     "duration": 89.713742,
     "end_time": "2022-06-22T14:44:11.545029",
     "exception": false,
     "start_time": "2022-06-22T14:42:41.831287",
     "status": "completed"
    },
    "tags": []
   },
   "outputs": [
    {
     "data": {
      "image/png": "[encoded data removed]",
      "text/plain": [
       "<Figure size 432x288 with 1 Axes>"
      ]
     },
     "metadata": {
      "needs_background": "light"
     },
     "output_type": "display_data"
    },
    {
     "data": {
      "image/png": "[encoded data removed]",
      "text/plain": [
       "<Figure size 432x288 with 1 Axes>"
      ]
     },
     "metadata": {
      "needs_background": "light"
     },
     "output_type": "display_data"
    }
   ],
   "source": [
    "ABC_train_test2.training_GAN_skip_connection(disc3,gen3,disc_opt,gen_opt,train_data,batch_size,n_epochs,criterion,prior_model,variance,bias,device)"
   ]
  },
  {
   "cell_type": "code",
   "execution_count": 17,
   "id": "c5e0717b",
   "metadata": {
    "execution": {
     "iopub.execute_input": "2022-06-22T14:44:11.658052Z",
     "iopub.status.busy": "2022-06-22T14:44:11.657175Z",
     "iopub.status.idle": "2022-06-22T14:44:12.432671Z",
     "shell.execute_reply": "2022-06-22T14:44:12.433281Z"
    },
    "id": "c5e0717b",
    "papermill": {
     "duration": 0.838586,
     "end_time": "2022-06-22T14:44:12.433492",
     "exception": false,
     "start_time": "2022-06-22T14:44:11.594906",
     "status": "completed"
    },
    "tags": []
   },
   "outputs": [
    {
     "data": {
      "application/scrapbook.scrap.json+json": {
       "data": 0.2930225710342065,
       "encoder": "json",
       "name": "ABC-GAN Model 3 MSE",
       "version": 1
      }
     },
     "metadata": {
      "scrapbook": {
       "data": true,
       "display": false,
       "name": "ABC-GAN Model 3 MSE"
      }
     },
     "output_type": "display_data"
    },
    {
     "data": {
      "application/scrapbook.scrap.json+json": {
       "data": 0.4082215502113104,
       "encoder": "json",
       "name": "ABC-GAN Model 3 MAE",
       "version": 1
      }
     },
     "metadata": {
      "scrapbook": {
       "data": true,
       "display": false,
       "name": "ABC-GAN Model 3 MAE"
      }
     },
     "output_type": "display_data"
    },
    {
     "data": {
      "application/scrapbook.scrap.json+json": {
       "data": 8.164431004226207,
       "encoder": "json",
       "name": "ABC-GAN Model 3 Manhattan Distance",
       "version": 1
      }
     },
     "metadata": {
      "scrapbook": {
       "data": true,
       "display": false,
       "name": "ABC-GAN Model 3 Manhattan Distance"
      }
     },
     "output_type": "display_data"
    },
    {
     "data": {
      "application/scrapbook.scrap.json+json": {
       "data": 2.4208159565380227,
       "encoder": "json",
       "name": "ABC-GAN Model 3 Euclidean distance",
       "version": 1
      }
     },
     "metadata": {
      "scrapbook": {
       "data": true,
       "display": false,
       "name": "ABC-GAN Model 3 Euclidean distance"
      }
     },
     "output_type": "display_data"
    },
    {
     "data": {
      "application/scrapbook.scrap.json+json": {
       "data": [
        [
         0.2910316514682397,
         0.2908017730263851,
         0.2936334097185289,
         0.29558321491148043,
         0.2931969869124265,
         0.294992799541313,
         0.2934703476083195,
         0.2912605471744151,
         0.29400788320671223,
         0.2909209427991515,
         0.29038770045208573,
         0.28790675692839246,
         0.29019955081380217,
         0.29517666329293685,
         0.294194467750026,
         0.2919420201999075,
         0.2931500951767431,
         0.2964685390894304,
         0.2925187534991917,
         0.29236971013276236,
         0.2929978444452211,
         0.29507768099881393,
         0.2919009368995304,
         0.2918445015567307,
         0.29463149562095114,
         0.28997629062157637,
         0.2905929417316467,
         0.29272659884151614,
         0.29758065558961666,
         0.29579401100367414,
         0.2941675974657811,
         0.28931179545218727,
         0.29546854907228887,
         0.292115397986629,
         0.2947563941369355,
         0.2914871939746752,
         0.29401347002998357,
         0.2889661747169198,
         0.29136180247645116,
         0.2943058775295055,
         0.2964205351988327,
         0.29291565856548435,
         0.2936280674489006,
         0.29268685686525087,
         0.2915864039033268,
         0.2992361119388097,
         0.29417626360234594,
         0.28740534007816454,
         0.29561281217989765,
         0.2930762267197645,
         0.2903024282180377,
         0.2911689947116386,
         0.29302843817279245,
         0.2956154248118136,
         0.29745673354204866,
         0.2959418158773332,
         0.29069638642293083,
         0.2944306724240436,
         0.2924125619346633,
         0.29071760497896193,
         0.2904823809382884,
         0.2941253990430543,
         0.2946125746581911,
         0.29460849491230506,
         0.29456218443561977,
         0.2947652849428214,
         0.28865845103422116,
         0.2958580308325499,
         0.29569376049904156,
         0.2918868701527892,
         0.29659771580678684,
         0.2919646039810625,
         0.29073752797021324,
         0.289289072287296,
         0.29222202275108033,
         0.29622552432347843,
         0.29446433506721215,
         0.29265302505841223,
         0.2957174597847788,
         0.292151173536938,
         0.2959092573469596,
         0.28717214847406225,
         0.29614643145799235,
         0.29329642324808003,
         0.29458783102424796,
         0.29277131255971794,
         0.29079278903672956,
         0.2915294003762551,
         0.2907902607089679,
         0.29328329238645945,
         0.29304275175942796,
         0.2912466687442723,
         0.2980684416943406,
         0.28808394184152053,
         0.2901687386543387,
         0.2909470759505274,
         0.29188029745388766,
         0.29474547579467425,
         0.2954078564856225,
         0.29430445495849716
        ],
        [
         0.4070340048521757,
         0.4075345490127802,
         0.4087201703339815,
         0.41158512197434904,
         0.40861665867269037,
         0.41152285076677797,
         0.4093942496925592,
         0.4065708089619875,
         0.40750451348721983,
         0.40805291570723057,
         0.40476402305066583,
         0.4049668353050947,
         0.4043276336044073,
         0.4092348475009203,
         0.40780316926538945,
         0.4082481939345598,
         0.40583180598914625,
         0.4134641412645578,
         0.40852922312915324,
         0.4107354085892439,
         0.41062436513602735,
         0.4114692214876413,
         0.4070555608719587,
         0.4067947570234537,
         0.41112512312829497,
         0.40808315984904764,
         0.40668172053992746,
         0.4070833306759596,
         0.4138087395578623,
         0.40596961565315726,
         0.4114663850516081,
         0.4067653987556696,
         0.40855072923004626,
         0.4038312595337629,
         0.4068899627774954,
         0.4088794279843569,
         0.40730225332081316,
         0.4036383662372828,
         0.4074933584779501,
         0.409646674618125,
         0.4083220224827528,
         0.4080733869224787,
         0.4097884472459555,
         0.40804228000342846,
         0.4076374340802431,
         0.41305236555635927,
         0.4080873180180788,
         0.40441843681037426,
         0.4120571259409189,
         0.4082266319543123,
         0.4026926774531603,
         0.40746552832424643,
         0.4116960112005472,
         0.41080626510083673,
         0.4099152285605669,
         0.41184180565178397,
         0.4090315293520689,
         0.4088922705501318,
         0.4099923688918352,
         0.4054017920047045,
         0.40553079433739186,
         0.4098968166857958,
         0.41013288907706735,
         0.4084612537175417,
         0.4081001091748476,
         0.4100169103592634,
         0.4047616276890039,
         0.40974874682724477,
         0.4099296096712351,
         0.4093951988965273,
         0.41007701121270657,
         0.4075343873351812,
         0.4070574764162302,
         0.40546926818788054,
         0.4078403029590845,
         0.4101563151925802,
         0.40859071649610995,
         0.40777748115360735,
         0.40861052758991717,
         0.40538221783936024,
         0.40576616711914537,
         0.4051330748945475,
         0.41037947572767736,
         0.40942357666790485,
         0.40618109367787836,
         0.40966822765767574,
         0.40635577626526354,
         0.40456124134361743,
         0.40564867444336417,
         0.40810450725257397,
         0.40800052769482137,
         0.4050230737775564,
         0.41359818913042545,
         0.4059372071176767,
         0.40855104587972163,
         0.4071182895451784,
         0.40573273934423926,
         0.4117373589426279,
         0.4084976989775896,
         0.40922595374286175
        ],
        [
         8.140680097043514,
         8.150690980255604,
         8.17440340667963,
         8.23170243948698,
         8.172333173453808,
         8.23045701533556,
         8.187884993851185,
         8.13141617923975,
         8.150090269744396,
         8.161058314144611,
         8.095280461013317,
         8.099336706101894,
         8.086552672088146,
         8.184696950018406,
         8.156063385307789,
         8.164963878691196,
         8.116636119782925,
         8.269282825291157,
         8.170584462583065,
         8.214708171784878,
         8.212487302720547,
         8.229384429752827,
         8.141111217439175,
         8.135895140469074,
         8.222502462565899,
         8.161663196980953,
         8.13363441079855,
         8.141666613519192,
         8.276174791157246,
         8.119392313063145,
         8.229327701032162,
         8.135307975113392,
         8.171014584600925,
         8.076625190675259,
         8.137799255549908,
         8.177588559687138,
         8.146045066416264,
         8.072767324745655,
         8.149867169559002,
         8.1929334923625,
         8.166440449655056,
         8.161467738449574,
         8.19576894491911,
         8.16084560006857,
         8.152748681604862,
         8.261047311127186,
         8.161746360361576,
         8.088368736207485,
         8.241142518818378,
         8.164532639086246,
         8.053853549063206,
         8.149310566484928,
         8.233920224010944,
         8.216125302016735,
         8.198304571211338,
         8.236836113035679,
         8.180630587041378,
         8.177845411002636,
         8.199847377836704,
         8.10803584009409,
         8.110615886747837,
         8.197936333715916,
         8.202657781541348,
         8.169225074350834,
         8.162002183496952,
         8.200338207185268,
         8.095232553780079,
         8.194974936544895,
         8.198592193424702,
         8.187903977930546,
         8.201540224254131,
         8.150687746703625,
         8.141149528324604,
         8.10938536375761,
         8.15680605918169,
         8.203126303851604,
         8.1718143299222,
         8.155549623072147,
         8.172210551798344,
         8.107644356787205,
         8.115323342382908,
         8.10266149789095,
         8.207589514553547,
         8.188471533358097,
         8.123621873557568,
         8.193364553153515,
         8.127115525305271,
         8.091224826872349,
         8.112973488867283,
         8.16209014505148,
         8.160010553896427,
         8.100461475551128,
         8.271963782608509,
         8.118744142353535,
         8.171020917594433,
         8.142365790903568,
         8.114654786884785,
         8.234747178852558,
         8.169953979551792,
         8.184519074857235
        ],
        [
         2.412598812352521,
         2.411645799143751,
         2.423358866195962,
         2.431391432540143,
         2.4215572960903753,
         2.428961916298043,
         2.4226858963073177,
         2.4135473775106013,
         2.4249036401750574,
         2.4121398914621492,
         2.409928216574451,
         2.3996114557502533,
         2.4091473629224187,
         2.4297187627087085,
         2.425672969507745,
         2.4163692606880574,
         2.4213636454557714,
         2.435029934474853,
         2.4187548594233013,
         2.418138582185737,
         2.4207347828509467,
         2.4293113468586687,
         2.416199233918968,
         2.415965651894624,
         2.4274739777017222,
         2.4082204659107784,
         2.410779715078284,
         2.4196140140175917,
         2.4395928168020853,
         2.43225825521746,
         2.425562192423773,
         2.4054596045337666,
         2.430919780956537,
         2.4170866678157363,
         2.4279884436995802,
         2.4144862558096087,
         2.4249266794275806,
         2.404022357287552,
         2.4139668700147943,
         2.426132220343753,
         2.4348327876830997,
         2.4203952510508873,
         2.4233368211988218,
         2.419449759202496,
         2.4148971154205587,
         2.4463691951085784,
         2.425597920523292,
         2.397520969994484,
         2.4315131592483623,
         2.421058556581251,
         2.409574353358027,
         2.413168020307076,
         2.42086116154063,
         2.431523904105463,
         2.4390848018961893,
         2.4328658650954567,
         2.411208769156793,
         2.426646543788541,
         2.418315785560948,
         2.411296767214529,
         2.4103210613455146,
         2.425388212402519,
         2.427396031380916,
         2.427379224234669,
         2.4271884328812203,
         2.4280250614144054,
         2.402741979631692,
         2.4325214524544276,
         2.4318460498108903,
         2.416141014729021,
         2.4355603700454105,
         2.416462720511378,
         2.411379389354621,
         2.405365137717332,
         2.4175277568254736,
         2.4340317348936864,
         2.426785260657449,
         2.4193099225126664,
         2.431943501748257,
         2.417234674320795,
         2.432732033525105,
         2.396548136274597,
         2.4337067672913775,
         2.4219678909848494,
         2.427294094353826,
         2.419798803866627,
         2.4116085463305588,
         2.4146610543770115,
         2.4115980623187103,
         2.421913674706262,
         2.4209202868307247,
         2.4134898746183806,
         2.4415914551551845,
         2.4003497321912093,
         2.4090194629945962,
         2.4122482291444527,
         2.4161138112840947,
         2.4279434746083948,
         2.4306700989053307,
         2.4261263568021234
        ]
       ],
       "encoder": "json",
       "name": "ABC_GAN_3 Metrics",
       "version": 1
      }
     },
     "metadata": {
      "scrapbook": {
       "data": true,
       "display": false,
       "name": "ABC_GAN_3 Metrics"
      }
     },
     "output_type": "display_data"
    },
    {
     "name": "stdout",
     "output_type": "stream",
     "text": [
      "MSE\n",
      "0.2930225710342065\n"
     ]
    }
   ],
   "source": [
    "ABC_GAN3_metrics=ABC_train_test2.test_generator(gen3,test_data,prior_model,variance,bias,\"3\",device)\n",
    "sb.glue(\"ABC_GAN_3 Metrics\",ABC_GAN3_metrics)\n",
    "\n",
    "print(\"MSE\")\n",
    "print(mean(ABC_GAN3_metrics[0]))"
   ]
  },
  {
   "cell_type": "code",
   "execution_count": 18,
   "id": "c8e46b48",
   "metadata": {
    "execution": {
     "iopub.execute_input": "2022-06-22T14:44:12.547249Z",
     "iopub.status.busy": "2022-06-22T14:44:12.546154Z",
     "iopub.status.idle": "2022-06-22T14:44:13.291045Z",
     "shell.execute_reply": "2022-06-22T14:44:13.291580Z"
    },
    "id": "c8e46b48",
    "papermill": {
     "duration": 0.807758,
     "end_time": "2022-06-22T14:44:13.291831",
     "exception": false,
     "start_time": "2022-06-22T14:44:12.484073",
     "status": "completed"
    },
    "tags": []
   },
   "outputs": [
    {
     "data": {
      "image/png": "[encoded data removed]",
      "text/plain": [
       "<Figure size 432x288 with 1 Axes>"
      ]
     },
     "metadata": {
      "needs_background": "light"
     },
     "output_type": "display_data"
    },
    {
     "data": {
      "image/png": "[encoded data removed]",
      "text/plain": [
       "<Figure size 432x288 with 1 Axes>"
      ]
     },
     "metadata": {
      "needs_background": "light"
     },
     "output_type": "display_data"
    },
    {
     "data": {
      "image/png": "[encoded data removed]",
      "text/plain": [
       "<Figure size 432x288 with 1 Axes>"
      ]
     },
     "metadata": {
      "needs_background": "light"
     },
     "output_type": "display_data"
    },
    {
     "data": {
      "image/png": "[encoded data removed]",
      "text/plain": [
       "<Figure size 432x288 with 1 Axes>"
      ]
     },
     "metadata": {
      "needs_background": "light"
     },
     "output_type": "display_data"
    }
   ],
   "source": [
    "sanityChecks.discProbVsError(train_data,disc3,device)\n",
    "sanityChecks.discProbVsError(test_data,disc3,device)"
   ]
  },
  {
   "cell_type": "markdown",
   "id": "a5bd74c3",
   "metadata": {
    "id": "a5bd74c3",
    "papermill": {
     "duration": 0.060096,
     "end_time": "2022-06-22T14:44:13.415986",
     "exception": false,
     "start_time": "2022-06-22T14:44:13.355890",
     "status": "completed"
    },
    "tags": []
   },
   "source": [
    "## Skip Connection Model Analysis - ABC-GAN "
   ]
  },
  {
   "cell_type": "markdown",
   "id": "5744a8bf",
   "metadata": {
    "id": "5744a8bf",
    "papermill": {
     "duration": 0.057626,
     "end_time": "2022-06-22T14:44:13.536310",
     "exception": false,
     "start_time": "2022-06-22T14:44:13.478684",
     "status": "completed"
    },
    "tags": []
   },
   "source": [
    "### Weight Analysis \n",
    "\n",
    "Study the weights of the skip connection layer\n",
    "\n",
    "Equation of the skip connection is \n",
    "\n",
    "$output = y_{gan} * w + y_{abc} * (1-w)$"
   ]
  },
  {
   "cell_type": "code",
   "execution_count": 19,
   "id": "52c31dea",
   "metadata": {
    "execution": {
     "iopub.execute_input": "2022-06-22T14:44:13.652073Z",
     "iopub.status.busy": "2022-06-22T14:44:13.651354Z",
     "iopub.status.idle": "2022-06-22T14:44:13.657795Z",
     "shell.execute_reply": "2022-06-22T14:44:13.658287Z"
    },
    "id": "52c31dea",
    "papermill": {
     "duration": 0.069625,
     "end_time": "2022-06-22T14:44:13.658493",
     "exception": false,
     "start_time": "2022-06-22T14:44:13.588868",
     "status": "completed"
    },
    "tags": []
   },
   "outputs": [
    {
     "name": "stdout",
     "output_type": "stream",
     "text": [
      "Weight of the node at skip connection\n",
      "Parameter containing:\n",
      "tensor([[0.1406]], requires_grad=True)\n"
     ]
    },
    {
     "data": {
      "application/scrapbook.scrap.json+json": {
       "data": 0.14055246114730835,
       "encoder": "json",
       "name": "Skip Connection Weight",
       "version": 1
      }
     },
     "metadata": {
      "scrapbook": {
       "data": true,
       "display": false,
       "name": "Skip Connection Weight"
      }
     },
     "output_type": "display_data"
    }
   ],
   "source": [
    "print(\"Weight of the node at skip connection\")\n",
    "for name,param in gen3.named_parameters():\n",
    "    if(name == \"skipNode.weight\"):\n",
    "        print(param)\n",
    "        sb.glue(\"Skip Connection Weight\",param.item())"
   ]
  }
 ],
 "metadata": {
  "colab": {
   "collapsed_sections": [],
   "name": "ABC_GAN_Model-Catboost_Pre-gen.ipynb",
   "provenance": []
  },
  "interpreter": {
   "hash": "31f2aee4e71d21fbe5cf8b01ff0e069b9275f58929596ceb00d14d90e3e16cd6"
  },
  "kernelspec": {
   "display_name": "Python 3 (ipykernel)",
   "language": "python",
   "name": "python3"
  },
  "language_info": {
   "codemirror_mode": {
    "name": "ipython",
    "version": 3
   },
   "file_extension": ".py",
   "mimetype": "text/x-python",
   "name": "python",
   "nbconvert_exporter": "python",
   "pygments_lexer": "ipython3",
   "version": "3.8.3"
  },
  "papermill": {
   "default_parameters": {},
   "duration": 189.208778,
   "end_time": "2022-06-22T14:44:15.130175",
   "environment_variables": {},
   "exception": null,
   "input_path": "ABC_GAN-TabNet.ipynb",
   "output_path": "./ABC_GAN_TabNet/ABC-GAN_output_6_11.ipynb",
   "parameters": {
    "bias": 0,
    "variance": 0.01
   },
   "start_time": "2022-06-22T14:41:05.921397",
   "version": "2.3.3"
  }
 },
 "nbformat": 4,
 "nbformat_minor": 5
}