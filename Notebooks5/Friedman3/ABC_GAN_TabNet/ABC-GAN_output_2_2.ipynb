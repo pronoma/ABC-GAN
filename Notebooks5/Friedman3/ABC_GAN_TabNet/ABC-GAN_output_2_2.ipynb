{
 "cells": [
  {
   "cell_type": "markdown",
   "id": "622780e6",
   "metadata": {
    "id": "622780e6",
    "papermill": {
     "duration": 0.016617,
     "end_time": "2022-06-22T12:00:43.578106",
     "exception": false,
     "start_time": "2022-06-22T12:00:43.561489",
     "status": "completed"
    },
    "tags": []
   },
   "source": [
    "## Import Libraries "
   ]
  },
  {
   "cell_type": "code",
   "execution_count": 1,
   "id": "a62397e3",
   "metadata": {
    "execution": {
     "iopub.execute_input": "2022-06-22T12:00:43.644510Z",
     "iopub.status.busy": "2022-06-22T12:00:43.642155Z",
     "iopub.status.idle": "2022-06-22T12:00:43.653718Z",
     "shell.execute_reply": "2022-06-22T12:00:43.654724Z"
    },
    "id": "a62397e3",
    "papermill": {
     "duration": 0.06096,
     "end_time": "2022-06-22T12:00:43.655103",
     "exception": false,
     "start_time": "2022-06-22T12:00:43.594143",
     "status": "completed"
    },
    "tags": []
   },
   "outputs": [],
   "source": [
    "import warnings\n",
    "import sys\n",
    "sys.path.insert(0, '../../src')\n",
    "warnings.filterwarnings('ignore')"
   ]
  },
  {
   "cell_type": "code",
   "execution_count": 2,
   "id": "d6a4e155",
   "metadata": {
    "execution": {
     "iopub.execute_input": "2022-06-22T12:00:43.693542Z",
     "iopub.status.busy": "2022-06-22T12:00:43.692022Z",
     "iopub.status.idle": "2022-06-22T12:00:49.544814Z",
     "shell.execute_reply": "2022-06-22T12:00:49.545639Z"
    },
    "id": "d6a4e155",
    "papermill": {
     "duration": 5.874365,
     "end_time": "2022-06-22T12:00:49.546013",
     "exception": false,
     "start_time": "2022-06-22T12:00:43.671648",
     "status": "completed"
    },
    "tags": []
   },
   "outputs": [],
   "source": [
    "import ABC_train_test2\n",
    "import friedman3Dataset\n",
    "import network\n",
    "import dataset\n",
    "import sanityChecks\n",
    "import torch \n",
    "import scrapbook as sb\n",
    "from statistics import mean \n",
    "import catboost as ctb \n",
    "from sklearn.model_selection import train_test_split\n",
    "from sklearn.metrics import mean_squared_error,mean_absolute_error\n",
    "import numpy as np\n",
    "from pytorch_tabnet.tab_model import TabNetRegressor"
   ]
  },
  {
   "cell_type": "markdown",
   "id": "2fa5b0f7",
   "metadata": {
    "id": "2fa5b0f7",
    "papermill": {
     "duration": 0.016355,
     "end_time": "2022-06-22T12:00:49.581509",
     "exception": false,
     "start_time": "2022-06-22T12:00:49.565154",
     "status": "completed"
    },
    "tags": []
   },
   "source": [
    "## Parameters "
   ]
  },
  {
   "cell_type": "code",
   "execution_count": 3,
   "id": "783186fb",
   "metadata": {
    "execution": {
     "iopub.execute_input": "2022-06-22T12:00:49.639598Z",
     "iopub.status.busy": "2022-06-22T12:00:49.636927Z",
     "iopub.status.idle": "2022-06-22T12:00:49.647079Z",
     "shell.execute_reply": "2022-06-22T12:00:49.648682Z"
    },
    "id": "783186fb",
    "papermill": {
     "duration": 0.04945,
     "end_time": "2022-06-22T12:00:49.649238",
     "exception": false,
     "start_time": "2022-06-22T12:00:49.599788",
     "status": "completed"
    },
    "tags": [
     "parameters"
    ]
   },
   "outputs": [],
   "source": [
    "variance = 1\n",
    "bias = 1 "
   ]
  },
  {
   "cell_type": "code",
   "execution_count": 4,
   "id": "912dcbf6",
   "metadata": {
    "execution": {
     "iopub.execute_input": "2022-06-22T12:00:49.705475Z",
     "iopub.status.busy": "2022-06-22T12:00:49.703719Z",
     "iopub.status.idle": "2022-06-22T12:00:49.708138Z",
     "shell.execute_reply": "2022-06-22T12:00:49.708629Z"
    },
    "papermill": {
     "duration": 0.029758,
     "end_time": "2022-06-22T12:00:49.708836",
     "exception": false,
     "start_time": "2022-06-22T12:00:49.679078",
     "status": "completed"
    },
    "tags": [
     "injected-parameters"
    ]
   },
   "outputs": [],
   "source": [
    "# Parameters\n",
    "variance = 0.01\n",
    "bias = 1\n"
   ]
  },
  {
   "cell_type": "markdown",
   "id": "391cdbfd",
   "metadata": {
    "id": "391cdbfd",
    "papermill": {
     "duration": 0.153436,
     "end_time": "2022-06-22T12:00:49.883859",
     "exception": false,
     "start_time": "2022-06-22T12:00:49.730423",
     "status": "completed"
    },
    "tags": []
   },
   "source": [
    "## Dataset \n"
   ]
  },
  {
   "cell_type": "code",
   "execution_count": 5,
   "id": "5b51f161",
   "metadata": {
    "execution": {
     "iopub.execute_input": "2022-06-22T12:00:50.023548Z",
     "iopub.status.busy": "2022-06-22T12:00:50.012509Z",
     "iopub.status.idle": "2022-06-22T12:00:50.038256Z",
     "shell.execute_reply": "2022-06-22T12:00:50.015638Z"
    },
    "id": "5b51f161",
    "papermill": {
     "duration": 0.118137,
     "end_time": "2022-06-22T12:00:50.038863",
     "exception": false,
     "start_time": "2022-06-22T12:00:49.920726",
     "status": "completed"
    },
    "tags": []
   },
   "outputs": [],
   "source": [
    "#Parameters \n",
    "n_features = 4\n",
    "n_samples= 100\n",
    "n_target = 1"
   ]
  },
  {
   "cell_type": "code",
   "execution_count": 6,
   "id": "5d6eced4",
   "metadata": {
    "execution": {
     "iopub.execute_input": "2022-06-22T12:00:50.148023Z",
     "iopub.status.busy": "2022-06-22T12:00:50.136642Z",
     "iopub.status.idle": "2022-06-22T12:00:50.168786Z",
     "shell.execute_reply": "2022-06-22T12:00:50.152884Z"
    },
    "id": "5d6eced4",
    "papermill": {
     "duration": 0.114084,
     "end_time": "2022-06-22T12:00:50.171623",
     "exception": false,
     "start_time": "2022-06-22T12:00:50.057539",
     "status": "completed"
    },
    "tags": []
   },
   "outputs": [
    {
     "name": "stdout",
     "output_type": "stream",
     "text": [
      "          X1           X2        X3        X4         Y\n",
      "0  61.410936   657.186888  0.432752  5.462671  1.274241\n",
      "1  62.455850  1351.609337  0.945388  8.270560  1.488261\n",
      "2  29.243414  1318.700757  0.382048  1.171507  1.514105\n",
      "3  27.738228   871.473215  0.296034  1.721910  1.445159\n",
      "4  13.130005  1242.546600  0.614831  2.379588  1.364803\n"
     ]
    }
   ],
   "source": [
    "X,Y = friedman3Dataset.friedman3_data(n_samples)"
   ]
  },
  {
   "cell_type": "code",
   "execution_count": 7,
   "id": "fe007438",
   "metadata": {
    "execution": {
     "iopub.execute_input": "2022-06-22T12:00:50.218282Z",
     "iopub.status.busy": "2022-06-22T12:00:50.217455Z",
     "iopub.status.idle": "2022-06-22T12:00:50.220640Z",
     "shell.execute_reply": "2022-06-22T12:00:50.221265Z"
    },
    "id": "fe007438",
    "papermill": {
     "duration": 0.034185,
     "end_time": "2022-06-22T12:00:50.221561",
     "exception": false,
     "start_time": "2022-06-22T12:00:50.187376",
     "status": "completed"
    },
    "tags": []
   },
   "outputs": [],
   "source": [
    "#Train test split for dataset \n",
    "X_train,X_test,Y_train,Y_test = train_test_split(X,Y,test_size = 0.2)\n",
    "train_data = dataset.CustomDataset(X_train,Y_train)\n",
    "test_data = dataset.CustomDataset(X_test,Y_test)\n"
   ]
  },
  {
   "cell_type": "markdown",
   "id": "a9a1af34",
   "metadata": {
    "id": "a9a1af34",
    "papermill": {
     "duration": 0.015434,
     "end_time": "2022-06-22T12:00:50.253489",
     "exception": false,
     "start_time": "2022-06-22T12:00:50.238055",
     "status": "completed"
    },
    "tags": []
   },
   "source": [
    "## Training Parameters "
   ]
  },
  {
   "cell_type": "code",
   "execution_count": 8,
   "id": "952b7fc8",
   "metadata": {
    "execution": {
     "iopub.execute_input": "2022-06-22T12:00:50.285624Z",
     "iopub.status.busy": "2022-06-22T12:00:50.284603Z",
     "iopub.status.idle": "2022-06-22T12:00:50.286839Z",
     "shell.execute_reply": "2022-06-22T12:00:50.287328Z"
    },
    "id": "952b7fc8",
    "papermill": {
     "duration": 0.02036,
     "end_time": "2022-06-22T12:00:50.287528",
     "exception": false,
     "start_time": "2022-06-22T12:00:50.267168",
     "status": "completed"
    },
    "tags": []
   },
   "outputs": [],
   "source": [
    "batch_size = 32\n",
    "n_epochs = 1000\n",
    "#Select the device \n",
    "device = torch.device('cuda' if torch.cuda.is_available() else 'cpu')"
   ]
  },
  {
   "cell_type": "markdown",
   "id": "a95e1600",
   "metadata": {
    "id": "a95e1600",
    "papermill": {
     "duration": 0.021571,
     "end_time": "2022-06-22T12:00:50.323553",
     "exception": false,
     "start_time": "2022-06-22T12:00:50.301982",
     "status": "completed"
    },
    "tags": []
   },
   "source": [
    "# ABC Pre-generator Model \n",
    "\n",
    "1. The catboost model is used as a pre-generator model for the ABC-GAN. \n",
    "2. The model is first trained on the entire dataset \n",
    "3. It generats X,Y pairs and we add some Gaussian noise with mean 0 and variance 1 to it which is then feed as input to the generator.\n"
   ]
  },
  {
   "cell_type": "code",
   "execution_count": 9,
   "id": "ff8ce7bd",
   "metadata": {
    "execution": {
     "iopub.execute_input": "2022-06-22T12:00:50.363630Z",
     "iopub.status.busy": "2022-06-22T12:00:50.362752Z",
     "iopub.status.idle": "2022-06-22T12:01:04.212139Z",
     "shell.execute_reply": "2022-06-22T12:01:04.212677Z"
    },
    "id": "ff8ce7bd",
    "papermill": {
     "duration": 13.871598,
     "end_time": "2022-06-22T12:01:04.212908",
     "exception": false,
     "start_time": "2022-06-22T12:00:50.341310",
     "status": "completed"
    },
    "tags": []
   },
   "outputs": [
    {
     "name": "stdout",
     "output_type": "stream",
     "text": [
      "Device used : cpu\n"
     ]
    },
    {
     "name": "stdout",
     "output_type": "stream",
     "text": [
      "epoch 0  | loss: 1.16603 | train_mse: 5.77424 | train_mae: 1.93918 |  0:00:00s\n",
      "epoch 1  | loss: 0.74648 | train_mse: 3.45229 | train_mae: 1.49661 |  0:00:00s\n",
      "epoch 2  | loss: 0.5894  | train_mse: 2.31413 | train_mae: 1.24123 |  0:00:00s\n"
     ]
    },
    {
     "name": "stdout",
     "output_type": "stream",
     "text": [
      "epoch 3  | loss: 0.49261 | train_mse: 2.56013 | train_mae: 1.22219 |  0:00:00s\n",
      "epoch 4  | loss: 0.60936 | train_mse: 1.6033  | train_mae: 0.94146 |  0:00:00s\n",
      "epoch 5  | loss: 0.48787 | train_mse: 1.16481 | train_mae: 0.74896 |  0:00:00s\n",
      "epoch 6  | loss: 0.46344 | train_mse: 1.09673 | train_mae: 0.73035 |  0:00:00s\n"
     ]
    },
    {
     "name": "stdout",
     "output_type": "stream",
     "text": [
      "epoch 7  | loss: 0.33961 | train_mse: 0.91255 | train_mae: 0.66948 |  0:00:00s\n",
      "epoch 8  | loss: 0.32767 | train_mse: 0.6812  | train_mae: 0.60593 |  0:00:00s\n",
      "epoch 9  | loss: 0.34617 | train_mse: 0.5163  | train_mae: 0.484   |  0:00:00s\n",
      "epoch 10 | loss: 0.33227 | train_mse: 0.62866 | train_mae: 0.55431 |  0:00:00s\n"
     ]
    },
    {
     "name": "stdout",
     "output_type": "stream",
     "text": [
      "epoch 11 | loss: 0.27636 | train_mse: 0.38527 | train_mae: 0.46416 |  0:00:01s\n",
      "epoch 12 | loss: 0.31484 | train_mse: 0.45344 | train_mae: 0.50733 |  0:00:01s\n",
      "epoch 13 | loss: 0.25108 | train_mse: 1.00481 | train_mae: 0.64262 |  0:00:01s\n"
     ]
    },
    {
     "name": "stdout",
     "output_type": "stream",
     "text": [
      "epoch 14 | loss: 0.21066 | train_mse: 0.45372 | train_mae: 0.48141 |  0:00:01s\n",
      "epoch 15 | loss: 0.42917 | train_mse: 0.30326 | train_mae: 0.39008 |  0:00:01s\n",
      "epoch 16 | loss: 0.37078 | train_mse: 0.33659 | train_mae: 0.41407 |  0:00:01s\n",
      "epoch 17 | loss: 0.45915 | train_mse: 0.36875 | train_mae: 0.45314 |  0:00:01s\n"
     ]
    },
    {
     "name": "stdout",
     "output_type": "stream",
     "text": [
      "epoch 18 | loss: 0.39369 | train_mse: 0.39432 | train_mae: 0.48726 |  0:00:01s\n",
      "epoch 19 | loss: 0.29025 | train_mse: 0.28908 | train_mae: 0.41323 |  0:00:01s\n",
      "epoch 20 | loss: 0.23863 | train_mse: 0.28324 | train_mae: 0.41115 |  0:00:01s\n",
      "epoch 21 | loss: 0.2858  | train_mse: 0.28473 | train_mae: 0.42062 |  0:00:01s\n"
     ]
    },
    {
     "name": "stdout",
     "output_type": "stream",
     "text": [
      "epoch 22 | loss: 0.25493 | train_mse: 0.2325  | train_mae: 0.39216 |  0:00:01s\n",
      "epoch 23 | loss: 0.23135 | train_mse: 0.39962 | train_mae: 0.48411 |  0:00:01s\n",
      "epoch 24 | loss: 0.34954 | train_mse: 0.4072  | train_mae: 0.49242 |  0:00:01s\n",
      "epoch 25 | loss: 0.24076 | train_mse: 0.34012 | train_mae: 0.44539 |  0:00:01s\n"
     ]
    },
    {
     "name": "stdout",
     "output_type": "stream",
     "text": [
      "epoch 26 | loss: 0.17683 | train_mse: 0.32275 | train_mae: 0.43118 |  0:00:02s\n",
      "epoch 27 | loss: 0.16343 | train_mse: 0.27777 | train_mae: 0.40416 |  0:00:02s\n",
      "epoch 28 | loss: 0.14062 | train_mse: 0.31436 | train_mae: 0.42523 |  0:00:02s\n"
     ]
    },
    {
     "name": "stdout",
     "output_type": "stream",
     "text": [
      "epoch 29 | loss: 0.17244 | train_mse: 0.35642 | train_mae: 0.45127 |  0:00:02s\n",
      "epoch 30 | loss: 0.1651  | train_mse: 0.33767 | train_mae: 0.43179 |  0:00:02s\n",
      "epoch 31 | loss: 0.20988 | train_mse: 0.33301 | train_mae: 0.42305 |  0:00:02s\n",
      "epoch 32 | loss: 0.22933 | train_mse: 0.2652  | train_mae: 0.3893  |  0:00:02s\n"
     ]
    },
    {
     "name": "stdout",
     "output_type": "stream",
     "text": [
      "epoch 33 | loss: 0.23603 | train_mse: 0.20488 | train_mae: 0.3548  |  0:00:02s\n",
      "epoch 34 | loss: 0.28444 | train_mse: 0.22663 | train_mae: 0.33154 |  0:00:02s\n",
      "epoch 35 | loss: 0.15426 | train_mse: 0.20974 | train_mae: 0.31686 |  0:00:02s\n",
      "epoch 36 | loss: 0.17024 | train_mse: 0.20661 | train_mae: 0.34213 |  0:00:02s\n"
     ]
    },
    {
     "name": "stdout",
     "output_type": "stream",
     "text": [
      "epoch 37 | loss: 0.13755 | train_mse: 0.18008 | train_mae: 0.32991 |  0:00:02s\n",
      "epoch 38 | loss: 0.13721 | train_mse: 0.1655  | train_mae: 0.30052 |  0:00:02s\n",
      "epoch 39 | loss: 0.15329 | train_mse: 0.13603 | train_mae: 0.28406 |  0:00:02s\n"
     ]
    },
    {
     "name": "stdout",
     "output_type": "stream",
     "text": [
      "epoch 40 | loss: 0.24018 | train_mse: 0.15348 | train_mae: 0.29374 |  0:00:02s\n",
      "epoch 41 | loss: 0.23881 | train_mse: 0.24968 | train_mae: 0.31422 |  0:00:03s\n",
      "epoch 42 | loss: 0.21374 | train_mse: 0.14649 | train_mae: 0.28976 |  0:00:03s\n"
     ]
    },
    {
     "name": "stdout",
     "output_type": "stream",
     "text": [
      "epoch 43 | loss: 0.15756 | train_mse: 0.13714 | train_mae: 0.27842 |  0:00:03s\n",
      "epoch 44 | loss: 0.19138 | train_mse: 0.12189 | train_mae: 0.26434 |  0:00:03s\n"
     ]
    },
    {
     "name": "stdout",
     "output_type": "stream",
     "text": [
      "epoch 45 | loss: 0.20188 | train_mse: 0.1459  | train_mae: 0.29336 |  0:00:03s\n"
     ]
    },
    {
     "name": "stdout",
     "output_type": "stream",
     "text": [
      "epoch 46 | loss: 0.20113 | train_mse: 0.17168 | train_mae: 0.31668 |  0:00:04s\n",
      "epoch 47 | loss: 0.13998 | train_mse: 0.14562 | train_mae: 0.29226 |  0:00:04s\n"
     ]
    },
    {
     "name": "stdout",
     "output_type": "stream",
     "text": [
      "epoch 48 | loss: 0.17141 | train_mse: 0.12489 | train_mae: 0.25881 |  0:00:04s\n",
      "epoch 49 | loss: 0.15399 | train_mse: 0.11471 | train_mae: 0.24645 |  0:00:04s\n"
     ]
    },
    {
     "name": "stdout",
     "output_type": "stream",
     "text": [
      "epoch 50 | loss: 0.27699 | train_mse: 0.14248 | train_mae: 0.26725 |  0:00:04s\n",
      "epoch 51 | loss: 0.13333 | train_mse: 0.15751 | train_mae: 0.27995 |  0:00:04s\n",
      "epoch 52 | loss: 0.2677  | train_mse: 0.15098 | train_mae: 0.27121 |  0:00:04s\n"
     ]
    },
    {
     "name": "stdout",
     "output_type": "stream",
     "text": [
      "epoch 53 | loss: 0.31746 | train_mse: 0.13027 | train_mae: 0.25889 |  0:00:05s\n",
      "epoch 54 | loss: 0.17611 | train_mse: 0.13688 | train_mae: 0.29255 |  0:00:05s\n"
     ]
    },
    {
     "name": "stdout",
     "output_type": "stream",
     "text": [
      "epoch 55 | loss: 0.22428 | train_mse: 0.14388 | train_mae: 0.29729 |  0:00:05s\n",
      "epoch 56 | loss: 0.16557 | train_mse: 0.13681 | train_mae: 0.27932 |  0:00:05s\n",
      "epoch 57 | loss: 0.17184 | train_mse: 0.1503  | train_mae: 0.29456 |  0:00:05s\n"
     ]
    },
    {
     "name": "stdout",
     "output_type": "stream",
     "text": [
      "epoch 58 | loss: 0.11321 | train_mse: 0.13943 | train_mae: 0.28957 |  0:00:05s\n",
      "epoch 59 | loss: 0.12377 | train_mse: 0.11612 | train_mae: 0.27058 |  0:00:05s\n",
      "epoch 60 | loss: 0.14256 | train_mse: 0.13235 | train_mae: 0.286   |  0:00:05s\n",
      "epoch 61 | loss: 0.1074  | train_mse: 0.1275  | train_mae: 0.27612 |  0:00:05s\n"
     ]
    },
    {
     "name": "stdout",
     "output_type": "stream",
     "text": [
      "epoch 62 | loss: 0.14484 | train_mse: 0.13837 | train_mae: 0.29526 |  0:00:05s\n",
      "epoch 63 | loss: 0.12514 | train_mse: 0.12839 | train_mae: 0.26927 |  0:00:05s\n",
      "epoch 64 | loss: 0.12934 | train_mse: 0.09205 | train_mae: 0.24371 |  0:00:05s\n",
      "epoch 65 | loss: 0.2432  | train_mse: 0.08558 | train_mae: 0.23199 |  0:00:06s\n"
     ]
    },
    {
     "name": "stdout",
     "output_type": "stream",
     "text": [
      "epoch 66 | loss: 0.32834 | train_mse: 0.20646 | train_mae: 0.31919 |  0:00:06s\n",
      "epoch 67 | loss: 0.2642  | train_mse: 0.16752 | train_mae: 0.29604 |  0:00:06s\n",
      "epoch 68 | loss: 0.24804 | train_mse: 0.10399 | train_mae: 0.24724 |  0:00:06s\n"
     ]
    },
    {
     "name": "stdout",
     "output_type": "stream",
     "text": [
      "epoch 69 | loss: 0.13356 | train_mse: 0.10184 | train_mae: 0.24508 |  0:00:06s\n",
      "epoch 70 | loss: 0.23016 | train_mse: 0.13548 | train_mae: 0.28713 |  0:00:06s\n",
      "epoch 71 | loss: 0.15626 | train_mse: 0.11893 | train_mae: 0.27236 |  0:00:06s\n",
      "epoch 72 | loss: 0.10434 | train_mse: 0.11585 | train_mae: 0.2552  |  0:00:06s\n"
     ]
    },
    {
     "name": "stdout",
     "output_type": "stream",
     "text": [
      "epoch 73 | loss: 0.16824 | train_mse: 0.10733 | train_mae: 0.24719 |  0:00:06s\n",
      "epoch 74 | loss: 0.16461 | train_mse: 0.11919 | train_mae: 0.26264 |  0:00:06s\n",
      "epoch 75 | loss: 0.11319 | train_mse: 0.10643 | train_mae: 0.24997 |  0:00:06s\n",
      "epoch 76 | loss: 0.30759 | train_mse: 0.08562 | train_mae: 0.2226  |  0:00:06s\n"
     ]
    },
    {
     "name": "stdout",
     "output_type": "stream",
     "text": [
      "epoch 77 | loss: 0.1987  | train_mse: 0.09482 | train_mae: 0.22953 |  0:00:06s\n",
      "epoch 78 | loss: 0.27753 | train_mse: 0.07386 | train_mae: 0.19843 |  0:00:06s\n",
      "epoch 79 | loss: 0.16293 | train_mse: 0.06972 | train_mae: 0.19932 |  0:00:06s\n"
     ]
    },
    {
     "name": "stdout",
     "output_type": "stream",
     "text": [
      "epoch 80 | loss: 0.12082 | train_mse: 0.07344 | train_mae: 0.21009 |  0:00:07s\n",
      "epoch 81 | loss: 0.16174 | train_mse: 0.07168 | train_mae: 0.2023  |  0:00:07s\n",
      "epoch 82 | loss: 0.08624 | train_mse: 0.07687 | train_mae: 0.21083 |  0:00:07s\n"
     ]
    },
    {
     "name": "stdout",
     "output_type": "stream",
     "text": [
      "epoch 83 | loss: 0.12719 | train_mse: 0.0747  | train_mae: 0.21205 |  0:00:07s\n",
      "epoch 84 | loss: 0.17354 | train_mse: 0.07125 | train_mae: 0.20534 |  0:00:07s\n",
      "epoch 85 | loss: 0.13114 | train_mse: 0.06985 | train_mae: 0.20751 |  0:00:07s\n"
     ]
    },
    {
     "name": "stdout",
     "output_type": "stream",
     "text": [
      "epoch 86 | loss: 0.16732 | train_mse: 0.07844 | train_mae: 0.22378 |  0:00:07s\n",
      "epoch 87 | loss: 0.15114 | train_mse: 0.07657 | train_mae: 0.21956 |  0:00:07s\n",
      "epoch 88 | loss: 0.16604 | train_mse: 0.06868 | train_mae: 0.20319 |  0:00:07s\n",
      "epoch 89 | loss: 0.13306 | train_mse: 0.07068 | train_mae: 0.20812 |  0:00:07s\n"
     ]
    },
    {
     "name": "stdout",
     "output_type": "stream",
     "text": [
      "epoch 90 | loss: 0.25705 | train_mse: 0.0692  | train_mae: 0.20861 |  0:00:07s\n",
      "epoch 91 | loss: 0.1321  | train_mse: 0.0733  | train_mae: 0.20945 |  0:00:07s\n",
      "epoch 92 | loss: 0.09139 | train_mse: 0.07869 | train_mae: 0.21885 |  0:00:07s\n",
      "epoch 93 | loss: 0.19577 | train_mse: 0.07376 | train_mae: 0.20858 |  0:00:07s\n"
     ]
    },
    {
     "name": "stdout",
     "output_type": "stream",
     "text": [
      "epoch 94 | loss: 0.10699 | train_mse: 0.06321 | train_mae: 0.19561 |  0:00:08s\n",
      "epoch 95 | loss: 0.12846 | train_mse: 0.06685 | train_mae: 0.20121 |  0:00:08s\n",
      "epoch 96 | loss: 0.11923 | train_mse: 0.07914 | train_mae: 0.20981 |  0:00:08s\n"
     ]
    },
    {
     "name": "stdout",
     "output_type": "stream",
     "text": [
      "epoch 97 | loss: 0.13788 | train_mse: 0.07497 | train_mae: 0.20592 |  0:00:08s\n",
      "epoch 98 | loss: 0.09643 | train_mse: 0.07856 | train_mae: 0.2081  |  0:00:08s\n",
      "epoch 99 | loss: 0.23072 | train_mse: 0.13739 | train_mae: 0.26379 |  0:00:08s\n"
     ]
    },
    {
     "name": "stdout",
     "output_type": "stream",
     "text": [
      "epoch 100| loss: 0.30029 | train_mse: 0.21921 | train_mae: 0.3118  |  0:00:08s\n",
      "epoch 101| loss: 0.20634 | train_mse: 0.16132 | train_mae: 0.27166 |  0:00:08s\n",
      "epoch 102| loss: 0.24988 | train_mse: 0.10704 | train_mae: 0.23783 |  0:00:08s\n",
      "epoch 103| loss: 0.12087 | train_mse: 0.08213 | train_mae: 0.20929 |  0:00:08s\n"
     ]
    },
    {
     "name": "stdout",
     "output_type": "stream",
     "text": [
      "epoch 104| loss: 0.14847 | train_mse: 0.16435 | train_mae: 0.2884  |  0:00:08s\n",
      "epoch 105| loss: 0.0975  | train_mse: 0.13474 | train_mae: 0.26259 |  0:00:08s\n",
      "epoch 106| loss: 0.07613 | train_mse: 0.10283 | train_mae: 0.24281 |  0:00:08s\n",
      "epoch 107| loss: 0.09524 | train_mse: 0.08619 | train_mae: 0.22977 |  0:00:08s\n"
     ]
    },
    {
     "name": "stdout",
     "output_type": "stream",
     "text": [
      "epoch 108| loss: 0.15407 | train_mse: 0.10149 | train_mae: 0.24353 |  0:00:08s\n",
      "epoch 109| loss: 0.22252 | train_mse: 0.08698 | train_mae: 0.2303  |  0:00:09s\n",
      "epoch 110| loss: 0.18449 | train_mse: 0.0934  | train_mae: 0.23825 |  0:00:09s\n"
     ]
    },
    {
     "name": "stdout",
     "output_type": "stream",
     "text": [
      "epoch 111| loss: 0.13122 | train_mse: 0.08369 | train_mae: 0.2237  |  0:00:09s\n",
      "epoch 112| loss: 0.13834 | train_mse: 0.0735  | train_mae: 0.21052 |  0:00:09s\n",
      "epoch 113| loss: 0.15313 | train_mse: 0.05977 | train_mae: 0.19238 |  0:00:09s\n",
      "epoch 114| loss: 0.25086 | train_mse: 0.05813 | train_mae: 0.18268 |  0:00:09s\n"
     ]
    },
    {
     "name": "stdout",
     "output_type": "stream",
     "text": [
      "epoch 115| loss: 0.0991  | train_mse: 0.07614 | train_mae: 0.21255 |  0:00:09s\n",
      "epoch 116| loss: 0.30552 | train_mse: 0.07018 | train_mae: 0.20433 |  0:00:09s\n",
      "epoch 117| loss: 0.14491 | train_mse: 0.07246 | train_mae: 0.20863 |  0:00:09s\n",
      "epoch 118| loss: 0.3151  | train_mse: 0.0685  | train_mae: 0.20179 |  0:00:09s\n"
     ]
    },
    {
     "name": "stdout",
     "output_type": "stream",
     "text": [
      "epoch 119| loss: 0.11099 | train_mse: 0.09496 | train_mae: 0.23469 |  0:00:09s\n",
      "epoch 120| loss: 0.16116 | train_mse: 0.09677 | train_mae: 0.23437 |  0:00:09s\n",
      "epoch 121| loss: 0.1172  | train_mse: 0.07895 | train_mae: 0.21101 |  0:00:09s\n",
      "epoch 122| loss: 0.16798 | train_mse: 0.06666 | train_mae: 0.19465 |  0:00:09s\n"
     ]
    },
    {
     "name": "stdout",
     "output_type": "stream",
     "text": [
      "epoch 123| loss: 0.16531 | train_mse: 0.06339 | train_mae: 0.19153 |  0:00:09s\n",
      "epoch 124| loss: 0.09913 | train_mse: 0.05565 | train_mae: 0.1774  |  0:00:10s\n",
      "epoch 125| loss: 0.15261 | train_mse: 0.06312 | train_mae: 0.18422 |  0:00:10s\n"
     ]
    },
    {
     "name": "stdout",
     "output_type": "stream",
     "text": [
      "epoch 126| loss: 0.26204 | train_mse: 0.08108 | train_mae: 0.20987 |  0:00:10s\n",
      "epoch 127| loss: 0.18589 | train_mse: 0.09646 | train_mae: 0.2301  |  0:00:10s\n"
     ]
    },
    {
     "name": "stdout",
     "output_type": "stream",
     "text": [
      "epoch 128| loss: 0.14131 | train_mse: 0.14214 | train_mae: 0.25275 |  0:00:10s\n",
      "epoch 129| loss: 0.11267 | train_mse: 0.18438 | train_mae: 0.27083 |  0:00:10s\n",
      "epoch 130| loss: 0.09944 | train_mse: 0.15566 | train_mae: 0.26296 |  0:00:10s\n",
      "epoch 131| loss: 0.31063 | train_mse: 0.18546 | train_mae: 0.28401 |  0:00:10s\n"
     ]
    },
    {
     "name": "stdout",
     "output_type": "stream",
     "text": [
      "epoch 132| loss: 0.1049  | train_mse: 0.15798 | train_mae: 0.2767  |  0:00:10s\n",
      "epoch 133| loss: 0.14204 | train_mse: 0.09799 | train_mae: 0.24098 |  0:00:10s\n",
      "epoch 134| loss: 0.11674 | train_mse: 0.08778 | train_mae: 0.22543 |  0:00:10s\n",
      "epoch 135| loss: 0.0891  | train_mse: 0.08521 | train_mae: 0.22669 |  0:00:10s\n"
     ]
    },
    {
     "name": "stdout",
     "output_type": "stream",
     "text": [
      "epoch 136| loss: 0.10508 | train_mse: 0.08466 | train_mae: 0.22067 |  0:00:11s\n",
      "epoch 137| loss: 0.17627 | train_mse: 0.098   | train_mae: 0.22756 |  0:00:11s\n",
      "epoch 138| loss: 0.13713 | train_mse: 0.09439 | train_mae: 0.22263 |  0:00:11s\n"
     ]
    },
    {
     "name": "stdout",
     "output_type": "stream",
     "text": [
      "epoch 139| loss: 0.14114 | train_mse: 0.08059 | train_mae: 0.20861 |  0:00:11s\n",
      "epoch 140| loss: 0.2079  | train_mse: 0.0734  | train_mae: 0.20095 |  0:00:11s\n",
      "epoch 141| loss: 0.28657 | train_mse: 0.07313 | train_mae: 0.19811 |  0:00:11s\n"
     ]
    },
    {
     "name": "stdout",
     "output_type": "stream",
     "text": [
      "epoch 142| loss: 0.16258 | train_mse: 0.10934 | train_mae: 0.23796 |  0:00:11s\n",
      "epoch 143| loss: 0.14316 | train_mse: 0.14707 | train_mae: 0.26608 |  0:00:11s\n",
      "epoch 144| loss: 0.12913 | train_mse: 0.18978 | train_mae: 0.29524 |  0:00:11s\n"
     ]
    },
    {
     "name": "stdout",
     "output_type": "stream",
     "text": [
      "epoch 145| loss: 0.19877 | train_mse: 0.19792 | train_mae: 0.3001  |  0:00:11s\n",
      "epoch 146| loss: 0.13826 | train_mse: 0.2145  | train_mae: 0.30556 |  0:00:11s\n",
      "epoch 147| loss: 0.1017  | train_mse: 0.14853 | train_mae: 0.27179 |  0:00:11s\n",
      "epoch 148| loss: 0.11976 | train_mse: 0.10038 | train_mae: 0.23785 |  0:00:11s\n"
     ]
    },
    {
     "name": "stdout",
     "output_type": "stream",
     "text": [
      "epoch 149| loss: 0.12854 | train_mse: 0.09579 | train_mae: 0.22558 |  0:00:11s\n",
      "epoch 150| loss: 0.29917 | train_mse: 0.123   | train_mae: 0.25994 |  0:00:12s\n",
      "epoch 151| loss: 0.23994 | train_mse: 0.1276  | train_mae: 0.26463 |  0:00:12s\n"
     ]
    },
    {
     "name": "stdout",
     "output_type": "stream",
     "text": [
      "epoch 152| loss: 0.1737  | train_mse: 0.10271 | train_mae: 0.23503 |  0:00:12s\n",
      "epoch 153| loss: 0.11223 | train_mse: 0.10753 | train_mae: 0.23616 |  0:00:12s\n",
      "epoch 154| loss: 0.17509 | train_mse: 0.12713 | train_mae: 0.24946 |  0:00:12s\n"
     ]
    },
    {
     "name": "stdout",
     "output_type": "stream",
     "text": [
      "epoch 155| loss: 0.29881 | train_mse: 0.12701 | train_mae: 0.24968 |  0:00:12s\n",
      "epoch 156| loss: 0.1188  | train_mse: 0.12274 | train_mae: 0.24876 |  0:00:12s\n",
      "epoch 157| loss: 0.15431 | train_mse: 0.11862 | train_mae: 0.24349 |  0:00:12s\n",
      "epoch 158| loss: 0.16662 | train_mse: 0.10724 | train_mae: 0.24005 |  0:00:12s\n"
     ]
    },
    {
     "name": "stdout",
     "output_type": "stream",
     "text": [
      "epoch 159| loss: 0.18605 | train_mse: 0.12546 | train_mae: 0.27253 |  0:00:12s\n",
      "epoch 160| loss: 0.37752 | train_mse: 0.16116 | train_mae: 0.29509 |  0:00:12s\n",
      "epoch 161| loss: 0.1262  | train_mse: 0.15752 | train_mae: 0.28586 |  0:00:12s\n"
     ]
    },
    {
     "name": "stdout",
     "output_type": "stream",
     "text": [
      "epoch 162| loss: 0.13108 | train_mse: 0.15502 | train_mae: 0.27652 |  0:00:12s\n",
      "epoch 163| loss: 0.12965 | train_mse: 0.18508 | train_mae: 0.2807  |  0:00:13s\n",
      "epoch 164| loss: 0.09893 | train_mse: 0.20211 | train_mae: 0.2881  |  0:00:13s\n"
     ]
    },
    {
     "name": "stdout",
     "output_type": "stream",
     "text": [
      "epoch 165| loss: 0.12992 | train_mse: 0.12725 | train_mae: 0.24946 |  0:00:13s\n",
      "epoch 166| loss: 0.11238 | train_mse: 0.09569 | train_mae: 0.22675 |  0:00:13s\n",
      "epoch 167| loss: 0.16326 | train_mse: 0.15029 | train_mae: 0.22952 |  0:00:13s\n",
      "epoch 168| loss: 0.14935 | train_mse: 0.18408 | train_mae: 0.24611 |  0:00:13s\n"
     ]
    },
    {
     "name": "stdout",
     "output_type": "stream",
     "text": [
      "epoch 169| loss: 0.21398 | train_mse: 0.09578 | train_mae: 0.23439 |  0:00:13s\n",
      "epoch 170| loss: 0.12113 | train_mse: 0.09581 | train_mae: 0.23472 |  0:00:13s\n",
      "epoch 171| loss: 0.13802 | train_mse: 0.08371 | train_mae: 0.21627 |  0:00:13s\n",
      "epoch 172| loss: 0.21371 | train_mse: 0.08386 | train_mae: 0.20772 |  0:00:13s\n"
     ]
    },
    {
     "name": "stdout",
     "output_type": "stream",
     "text": [
      "epoch 173| loss: 0.11171 | train_mse: 0.10852 | train_mae: 0.24106 |  0:00:13s\n",
      "epoch 174| loss: 0.1469  | train_mse: 0.10093 | train_mae: 0.23115 |  0:00:13s\n",
      "\n",
      "Early stopping occurred at epoch 174 with best_epoch = 124 and best_train_mae = 0.1774\n",
      "Best weights from best epoch are automatically used!\n"
     ]
    }
   ],
   "source": [
    "#Train the Model\n",
    "\n",
    "Y_train = np.reshape(Y_train, (-1, 1))\n",
    "Y_test = np.reshape(Y_test, (-1, 1))\n",
    "\n",
    "prior_model = TabNetRegressor(optimizer_fn=torch.optim.Adam, optimizer_params=dict(lr = 0.02),\n",
    "          #scheduler_params={\"step_size\":10, ], \"gamma\":0.9},\n",
    "          #scheduler_fn=torch.optim.lr_scheduler.StepLR\n",
    "          )  #TabNetRegressor()\n",
    "\n",
    "prior_model.fit(X_train,Y_train,eval_set=[(X_train, Y_train)],\n",
    "            eval_name=['train'], \n",
    "            eval_metric=[ 'mse', 'mae'], \n",
    "            max_epochs = n_epochs, \n",
    "            batch_size = batch_size,\n",
    "            patience=50\n",
    "            )"
   ]
  },
  {
   "cell_type": "code",
   "execution_count": 10,
   "id": "af65dcda",
   "metadata": {
    "execution": {
     "iopub.execute_input": "2022-06-22T12:01:04.315842Z",
     "iopub.status.busy": "2022-06-22T12:01:04.314466Z",
     "iopub.status.idle": "2022-06-22T12:01:04.336618Z",
     "shell.execute_reply": "2022-06-22T12:01:04.337127Z"
    },
    "id": "af65dcda",
    "papermill": {
     "duration": 0.081555,
     "end_time": "2022-06-22T12:01:04.337341",
     "exception": false,
     "start_time": "2022-06-22T12:01:04.255786",
     "status": "completed"
    },
    "tags": []
   },
   "outputs": [
    {
     "data": {
      "application/scrapbook.scrap.json+json": {
       "data": 1.3041975404292747,
       "encoder": "json",
       "name": "Prior Model MSE",
       "version": 1
      }
     },
     "metadata": {
      "scrapbook": {
       "data": true,
       "display": false,
       "name": "Prior Model MSE"
      }
     },
     "output_type": "display_data"
    },
    {
     "data": {
      "application/scrapbook.scrap.json+json": {
       "data": 2.950095348860002,
       "encoder": "json",
       "name": "ABC Pre-generator MSE",
       "version": 1
      }
     },
     "metadata": {
      "scrapbook": {
       "data": true,
       "display": false,
       "name": "ABC Pre-generator MSE"
      }
     },
     "output_type": "display_data"
    },
    {
     "data": {
      "application/scrapbook.scrap.json+json": {
       "data": 0.5653807333841412,
       "encoder": "json",
       "name": "Prior Model MSE",
       "version": 1
      }
     },
     "metadata": {
      "scrapbook": {
       "data": true,
       "display": false,
       "name": "Prior Model MSE"
      }
     },
     "output_type": "display_data"
    },
    {
     "data": {
      "application/scrapbook.scrap.json+json": {
       "data": 1.3250191364601822,
       "encoder": "json",
       "name": "ABC Pre-generator MSE",
       "version": 1
      }
     },
     "metadata": {
      "scrapbook": {
       "data": true,
       "display": false,
       "name": "ABC Pre-generator MSE"
      }
     },
     "output_type": "display_data"
    }
   ],
   "source": [
    "y_pred = prior_model.predict(X_test)\n",
    "y_abc = y_pred + np.random.normal(0,variance, y_pred.shape) + bias \n",
    "mse = mean_squared_error(y_pred,Y_test)\n",
    "sb.glue(\"Prior Model MSE\",mse)\n",
    "mse = mean_squared_error(y_abc,Y_test)\n",
    "sb.glue(\"ABC Pre-generator MSE\",mse)\n",
    "mae = mean_absolute_error(y_pred,Y_test)\n",
    "sb.glue(\"Prior Model MSE\",mae)\n",
    "mae = mean_absolute_error(y_abc,Y_test)\n",
    "sb.glue(\"ABC Pre-generator MSE\",mae)"
   ]
  },
  {
   "cell_type": "markdown",
   "id": "25609da2",
   "metadata": {
    "papermill": {
     "duration": 0.03953,
     "end_time": "2022-06-22T12:01:04.404944",
     "exception": false,
     "start_time": "2022-06-22T12:01:04.365414",
     "status": "completed"
    },
    "tags": []
   },
   "source": [
    "# ABC GAN Model"
   ]
  },
  {
   "cell_type": "code",
   "execution_count": 11,
   "id": "dfc3464d",
   "metadata": {
    "execution": {
     "iopub.execute_input": "2022-06-22T12:01:04.471998Z",
     "iopub.status.busy": "2022-06-22T12:01:04.470474Z",
     "iopub.status.idle": "2022-06-22T12:01:04.475871Z",
     "shell.execute_reply": "2022-06-22T12:01:04.478012Z"
    },
    "papermill": {
     "duration": 0.044649,
     "end_time": "2022-06-22T12:01:04.478350",
     "exception": false,
     "start_time": "2022-06-22T12:01:04.433701",
     "status": "completed"
    },
    "tags": []
   },
   "outputs": [],
   "source": [
    "gen = network.Generator(n_features+1).to(device)\n",
    "disc = network.Discriminator(n_features+1).to(device)\n",
    "\n",
    "criterion = torch.nn.BCELoss()\n",
    "gen_opt = torch.optim.Adam(gen.parameters(), lr=0.001, betas=(0.5, 0.999))\n",
    "disc_opt = torch.optim.Adam(disc.parameters(), lr=0.001, betas=(0.5, 0.999))"
   ]
  },
  {
   "cell_type": "code",
   "execution_count": 12,
   "id": "b75fdd85",
   "metadata": {
    "execution": {
     "iopub.execute_input": "2022-06-22T12:01:04.555417Z",
     "iopub.status.busy": "2022-06-22T12:01:04.554637Z",
     "iopub.status.idle": "2022-06-22T12:01:46.877479Z",
     "shell.execute_reply": "2022-06-22T12:01:46.877915Z"
    },
    "papermill": {
     "duration": 42.366167,
     "end_time": "2022-06-22T12:01:46.878116",
     "exception": false,
     "start_time": "2022-06-22T12:01:04.511949",
     "status": "completed"
    },
    "tags": []
   },
   "outputs": [
    {
     "data": {
      "image/png": "[encoded data removed]",
      "text/plain": [
       "<Figure size 432x288 with 1 Axes>"
      ]
     },
     "metadata": {
      "needs_background": "light"
     },
     "output_type": "display_data"
    },
    {
     "data": {
      "image/png": "[encoded data removed]",
      "text/plain": [
       "<Figure size 432x288 with 1 Axes>"
      ]
     },
     "metadata": {
      "needs_background": "light"
     },
     "output_type": "display_data"
    }
   ],
   "source": [
    "#Training the ABC_GAN \n",
    "ABC_train_test2.training_GAN(disc,gen,disc_opt,gen_opt,train_data,batch_size,n_epochs,criterion,prior_model,variance,bias,device)"
   ]
  },
  {
   "cell_type": "code",
   "execution_count": 13,
   "id": "1fa7c368",
   "metadata": {
    "execution": {
     "iopub.execute_input": "2022-06-22T12:01:46.954560Z",
     "iopub.status.busy": "2022-06-22T12:01:46.953393Z",
     "iopub.status.idle": "2022-06-22T12:01:47.578048Z",
     "shell.execute_reply": "2022-06-22T12:01:47.578551Z"
    },
    "papermill": {
     "duration": 0.671099,
     "end_time": "2022-06-22T12:01:47.578836",
     "exception": false,
     "start_time": "2022-06-22T12:01:46.907737",
     "status": "completed"
    },
    "tags": []
   },
   "outputs": [
    {
     "data": {
      "application/scrapbook.scrap.json+json": {
       "data": 1.2474352905377837,
       "encoder": "json",
       "name": "ABC-GAN Model 1 MSE",
       "version": 1
      }
     },
     "metadata": {
      "scrapbook": {
       "data": true,
       "display": false,
       "name": "ABC-GAN Model 1 MSE"
      }
     },
     "output_type": "display_data"
    },
    {
     "data": {
      "application/scrapbook.scrap.json+json": {
       "data": 0.5742906035473571,
       "encoder": "json",
       "name": "ABC-GAN Model 1 MAE",
       "version": 1
      }
     },
     "metadata": {
      "scrapbook": {
       "data": true,
       "display": false,
       "name": "ABC-GAN Model 1 MAE"
      }
     },
     "output_type": "display_data"
    },
    {
     "data": {
      "application/scrapbook.scrap.json+json": {
       "data": 11.48581207094714,
       "encoder": "json",
       "name": "ABC-GAN Model 1 Manhattan Distance",
       "version": 1
      }
     },
     "metadata": {
      "scrapbook": {
       "data": true,
       "display": false,
       "name": "ABC-GAN Model 1 Manhattan Distance"
      }
     },
     "output_type": "display_data"
    },
    {
     "data": {
      "application/scrapbook.scrap.json+json": {
       "data": 4.994860814600443,
       "encoder": "json",
       "name": "ABC-GAN Model 1 Euclidean distance",
       "version": 1
      }
     },
     "metadata": {
      "scrapbook": {
       "data": true,
       "display": false,
       "name": "ABC-GAN Model 1 Euclidean distance"
      }
     },
     "output_type": "display_data"
    },
    {
     "data": {
      "application/scrapbook.scrap.json+json": {
       "data": [
        [
         1.2478810517132426,
         1.2505318467917064,
         1.2425602413293764,
         1.2495610795241436,
         1.2479919328248725,
         1.2460372777891002,
         1.2435522203728477,
         1.243001248485669,
         1.2494337418906256,
         1.2461576652898603,
         1.245720071919744,
         1.2455817757642185,
         1.2473828371901448,
         1.2465123093699353,
         1.2387292156011016,
         1.251636234926687,
         1.2476523439668432,
         1.2447673626720532,
         1.2511365382856448,
         1.2409113978696091,
         1.248863628922064,
         1.2530731837671412,
         1.243361814116143,
         1.243401373167067,
         1.2518069950552766,
         1.24708690016421,
         1.2447025952876325,
         1.2445885753935662,
         1.251439217740737,
         1.248514726376969,
         1.2500804059534851,
         1.250551595989645,
         1.2531246502092628,
         1.246590336048735,
         1.2442849156649827,
         1.2514310174771717,
         1.2519695762027085,
         1.2500989637460282,
         1.2505491039160845,
         1.2526950695358354,
         1.2531522025786375,
         1.2505723691419837,
         1.2443325195544677,
         1.2510218320317006,
         1.255645006531671,
         1.251181556413337,
         1.25296528670277,
         1.2409374569908418,
         1.2431018180442,
         1.245073168241009,
         1.2503821932922963,
         1.2539969285160546,
         1.2430615074517506,
         1.2432613662266925,
         1.2466310594729837,
         1.243621092830878,
         1.2531833180255245,
         1.245997520111118,
         1.25203807206119,
         1.2530791362671567,
         1.2502069931512856,
         1.2477615051128848,
         1.2492302546315135,
         1.2456140184336526,
         1.2451415351568296,
         1.244405563193959,
         1.242798817209569,
         1.2461439314018785,
         1.253071974696362,
         1.2489138697367983,
         1.2460411283736696,
         1.247423779441022,
         1.2537119721409509,
         1.2574026160747096,
         1.2520225235842335,
         1.2486587087079424,
         1.2447108062751675,
         1.2490940749140316,
         1.2457207560252228,
         1.2420870128557273,
         1.2439246909086026,
         1.244636940832645,
         1.2441771310895384,
         1.2428232300249822,
         1.255582404303652,
         1.2384809475191418,
         1.244912444845093,
         1.2516304440838248,
         1.2494852165841706,
         1.2371857694471828,
         1.2408072122588398,
         1.2482023419723094,
         1.2441803099655329,
         1.2441847061223128,
         1.247448378399425,
         1.252386811652578,
         1.24817200177385,
         1.237952785517838,
         1.247458199177386,
         1.2415467973836252
        ],
        [
         0.5736810061847791,
         0.5760521601652726,
         0.5717904727673158,
         0.5734148490941152,
         0.5743895899271593,
         0.5767056751763449,
         0.5718266512965784,
         0.5720749798929319,
         0.5730000611161813,
         0.5728424113010988,
         0.5736569363391026,
         0.5754413302754984,
         0.5735263515030965,
         0.5784243952250108,
         0.5691572736715897,
         0.5725010070716963,
         0.5734973285114393,
         0.5730914298212155,
         0.5741087775444612,
         0.5739384177839384,
         0.5769489671802148,
         0.577743649086915,
         0.5728809494292364,
         0.5713423114037142,
         0.5738815758144483,
         0.5734249952947721,
         0.579720577946864,
         0.5748530383920297,
         0.5750882763182744,
         0.5751254547154531,
         0.5751487467205152,
         0.5735292147612199,
         0.5766584913944826,
         0.5741392764961347,
         0.5716834667837247,
         0.5721419427311047,
         0.5757374945795164,
         0.5742425504839048,
         0.5747188936686143,
         0.5784219246124849,
         0.5746376011287794,
         0.5748920004582032,
         0.5736586723243817,
         0.5748257081722841,
         0.5766009453451261,
         0.5723529767012223,
         0.5763699073111639,
         0.5693965468322858,
         0.5724256176268682,
         0.5737288411473855,
         0.5752278271829709,
         0.5770343769108877,
         0.5752763304626569,
         0.5727252211188898,
         0.5738268118118868,
         0.5744135480141267,
         0.5769082087790594,
         0.5749133925652131,
         0.576366776577197,
         0.5752738717710599,
         0.5749369982397183,
         0.5774723041569814,
         0.5746908273315057,
         0.5749972473597154,
         0.5752635951852426,
         0.5746628235792741,
         0.5718016806757078,
         0.5739139642333612,
         0.5759811203693971,
         0.5767433661734686,
         0.5727896626805886,
         0.5775074552511796,
         0.5778025347506628,
         0.576293833157979,
         0.5755177203333005,
         0.573374542943202,
         0.5762136090314016,
         0.5753960031783208,
         0.5742381814634427,
         0.5737543929135427,
         0.5711904812371358,
         0.5725068200146779,
         0.5721262957667932,
         0.5718261364614591,
         0.5735811453079804,
         0.5735038969432935,
         0.5761044028913602,
         0.5755428809439763,
         0.5720329653238878,
         0.5709857646143064,
         0.5714405517792329,
         0.574327142140828,
         0.5741700265323744,
         0.5757210839306935,
         0.5745829622959718,
         0.5747280094539746,
         0.5765163700794801,
         0.5693927135085687,
         0.5709663610672578,
         0.5730543967103585
        ],
        [
         11.473620123695582,
         11.521043203305453,
         11.435809455346316,
         11.468296981882304,
         11.487791798543185,
         11.534113503526896,
         11.436533025931567,
         11.441499597858638,
         11.460001222323626,
         11.456848226021975,
         11.473138726782054,
         11.508826605509967,
         11.47052703006193,
         11.568487904500216,
         11.383145473431796,
         11.450020141433924,
         11.469946570228785,
         11.461828596424311,
         11.482175550889224,
         11.478768355678767,
         11.538979343604296,
         11.5548729817383,
         11.457618988584727,
         11.426846228074282,
         11.477631516288966,
         11.468499905895442,
         11.594411558937281,
         11.497060767840594,
         11.501765526365489,
         11.502509094309062,
         11.502974934410304,
         11.470584295224398,
         11.533169827889651,
         11.482785529922694,
         11.433669335674495,
         11.442838854622096,
         11.514749891590327,
         11.484851009678096,
         11.494377873372287,
         11.568438492249697,
         11.492752022575587,
         11.497840009164065,
         11.473173446487635,
         11.496514163445681,
         11.532018906902522,
         11.447059534024447,
         11.527398146223277,
         11.387930936645716,
         11.448512352537364,
         11.47457682294771,
         11.504556543659419,
         11.540687538217753,
         11.505526609253138,
         11.454504422377795,
         11.476536236237735,
         11.488270960282534,
         11.538164175581187,
         11.498267851304263,
         11.52733553154394,
         11.505477435421199,
         11.498739964794368,
         11.549446083139628,
         11.493816546630114,
         11.499944947194308,
         11.505271903704852,
         11.493256471585482,
         11.436033613514155,
         11.478279284667224,
         11.519622407387942,
         11.53486732346937,
         11.455793253611773,
         11.550149105023593,
         11.556050695013255,
         11.525876663159579,
         11.51035440666601,
         11.46749085886404,
         11.524272180628031,
         11.507920063566417,
         11.484763629268855,
         11.475087858270854,
         11.423809624742717,
         11.450136400293559,
         11.442525915335864,
         11.436522729229182,
         11.47162290615961,
         11.47007793886587,
         11.522088057827204,
         11.510857618879527,
         11.440659306477755,
         11.419715292286128,
         11.428811035584658,
         11.486542842816561,
         11.483400530647486,
         11.514421678613871,
         11.491659245919436,
         11.494560189079493,
         11.530327401589602,
         11.387854270171374,
         11.419327221345156,
         11.461087934207171
        ],
        [
         4.9957603059259,
         5.0010635804630725,
         4.985098276522493,
         4.999122081974281,
         4.995982251419379,
         4.992068264335135,
         4.987087768172619,
         4.985982848918894,
         4.9988673554928935,
         4.992309416071604,
         4.991432804155023,
         4.991155729416221,
         4.9947629316918425,
         4.993019746345762,
         4.977407388593185,
         5.003271399647809,
         4.99530248126546,
         4.989523750163042,
         5.00227256011834,
         4.981789633996218,
         4.997726741073513,
         5.006142594387701,
         4.986705955069224,
         4.986785283460812,
         5.00361268496129,
         4.994170401907027,
         4.989393941728058,
         4.989165411957327,
         5.002877607419028,
         4.997028569814202,
         5.000160809321006,
         5.0011030703028805,
         5.006245399916514,
         4.993176015420916,
         4.988556736502017,
         5.002861216298473,
         5.003937601934517,
         5.0001979235746825,
         5.001098087252608,
         5.005387236839594,
         5.006300435608389,
         5.001144607271386,
         4.9886521617656765,
         5.002043246577744,
         5.0112772953243585,
         5.0023625546602215,
         5.00592706040104,
         4.981841942476381,
         4.986184549420929,
         4.990136607831511,
         5.000764328164838,
         5.007987477053141,
         4.986103704199804,
         4.986504519654409,
         4.993257572913666,
         4.987225867816452,
         5.006362587798699,
         4.991988622004497,
         5.00407448398041,
         5.00615448476604,
         5.000413969165524,
         4.995521004085329,
         4.998460272186853,
         4.9912203286043235,
         4.990273610047508,
         4.9887985792051355,
         4.985576831640585,
         4.992281905906112,
         5.006140179212647,
         4.997827267396899,
         4.992075977734453,
         4.994844901377863,
         5.007418440955281,
         5.014783377324906,
         5.004043412250204,
         4.997316697404603,
         4.989410398584521,
         4.998187821428946,
         4.991434174714162,
         4.984148899974252,
         4.987834582077882,
         4.989262351956739,
         4.988340668177221,
         4.985625798282462,
         5.011152371069257,
         4.976908573641155,
         4.989814515280289,
         5.003259825521406,
         4.998970327145722,
         4.974305518255152,
         4.981580496707525,
         4.996403390384546,
         4.98834704078522,
         4.988355853630157,
         4.994894149828252,
         5.004771346730194,
         4.996342665938456,
         4.975847235432048,
         4.9949138114233484,
         4.983064915057048
        ]
       ],
       "encoder": "json",
       "name": "ABC_GAN_1 Metrics",
       "version": 1
      }
     },
     "metadata": {
      "scrapbook": {
       "data": true,
       "display": false,
       "name": "ABC_GAN_1 Metrics"
      }
     },
     "output_type": "display_data"
    },
    {
     "name": "stdout",
     "output_type": "stream",
     "text": [
      "MSE\n",
      "1.2474352905377837\n"
     ]
    }
   ],
   "source": [
    "ABC_GAN1_metrics=ABC_train_test2.test_generator(gen,test_data,prior_model,variance,bias,\"1\",device)\n",
    "sb.glue(\"ABC_GAN_1 Metrics\",ABC_GAN1_metrics)\n",
    "\n",
    "print(\"MSE\")\n",
    "print(mean(ABC_GAN1_metrics[0]))"
   ]
  },
  {
   "cell_type": "code",
   "execution_count": 14,
   "id": "eb22ce5c",
   "metadata": {
    "execution": {
     "iopub.execute_input": "2022-06-22T12:01:47.734013Z",
     "iopub.status.busy": "2022-06-22T12:01:47.733192Z",
     "iopub.status.idle": "2022-06-22T12:01:48.459321Z",
     "shell.execute_reply": "2022-06-22T12:01:48.459875Z"
    },
    "papermill": {
     "duration": 0.843005,
     "end_time": "2022-06-22T12:01:48.460081",
     "exception": false,
     "start_time": "2022-06-22T12:01:47.617076",
     "status": "completed"
    },
    "tags": []
   },
   "outputs": [
    {
     "data": {
      "image/png": "[encoded data removed]",
      "text/plain": [
       "<Figure size 432x288 with 1 Axes>"
      ]
     },
     "metadata": {
      "needs_background": "light"
     },
     "output_type": "display_data"
    },
    {
     "data": {
      "image/png": "[encoded data removed]",
      "text/plain": [
       "<Figure size 432x288 with 1 Axes>"
      ]
     },
     "metadata": {
      "needs_background": "light"
     },
     "output_type": "display_data"
    },
    {
     "data": {
      "image/png": "[encoded data removed]",
      "text/plain": [
       "<Figure size 432x288 with 1 Axes>"
      ]
     },
     "metadata": {
      "needs_background": "light"
     },
     "output_type": "display_data"
    },
    {
     "data": {
      "image/png": "[encoded data removed]",
      "text/plain": [
       "<Figure size 432x288 with 1 Axes>"
      ]
     },
     "metadata": {
      "needs_background": "light"
     },
     "output_type": "display_data"
    }
   ],
   "source": [
    "sanityChecks.discProbVsError(train_data,disc,device)\n",
    "sanityChecks.discProbVsError(test_data,disc,device)"
   ]
  },
  {
   "cell_type": "markdown",
   "id": "130f3a4d",
   "metadata": {
    "id": "130f3a4d",
    "papermill": {
     "duration": 0.048267,
     "end_time": "2022-06-22T12:01:48.560246",
     "exception": false,
     "start_time": "2022-06-22T12:01:48.511979",
     "status": "completed"
    },
    "tags": []
   },
   "source": [
    "# ABC - GAN Model with skip connection"
   ]
  },
  {
   "cell_type": "code",
   "execution_count": 15,
   "id": "4e43dad1",
   "metadata": {
    "execution": {
     "iopub.execute_input": "2022-06-22T12:01:48.673544Z",
     "iopub.status.busy": "2022-06-22T12:01:48.672627Z",
     "iopub.status.idle": "2022-06-22T12:01:48.675935Z",
     "shell.execute_reply": "2022-06-22T12:01:48.676745Z"
    },
    "id": "4e43dad1",
    "papermill": {
     "duration": 0.065282,
     "end_time": "2022-06-22T12:01:48.677864",
     "exception": false,
     "start_time": "2022-06-22T12:01:48.612582",
     "status": "completed"
    },
    "tags": []
   },
   "outputs": [],
   "source": [
    "#Generator\n",
    "gen3 = network.GeneratorWithSkipConnection(n_features+1).to(device)\n",
    "constraints=network.weightConstraint()\n",
    "#Discriminator \n",
    "disc3 = network.Discriminator(n_features+1).to(device)\n",
    "\n",
    "criterion = torch.nn.BCELoss()\n",
    "gen_opt = torch.optim.Adam(gen3.parameters(), lr=0.001, betas=(0.5, 0.999))\n",
    "disc_opt = torch.optim.Adam(disc3.parameters(), lr=0.001, betas=(0.5, 0.999))\n"
   ]
  },
  {
   "cell_type": "code",
   "execution_count": 16,
   "id": "26acbc37",
   "metadata": {
    "execution": {
     "iopub.execute_input": "2022-06-22T12:01:48.763476Z",
     "iopub.status.busy": "2022-06-22T12:01:48.762722Z",
     "iopub.status.idle": "2022-06-22T12:02:56.021881Z",
     "shell.execute_reply": "2022-06-22T12:02:56.022296Z"
    },
    "id": "26acbc37",
    "papermill": {
     "duration": 67.307169,
     "end_time": "2022-06-22T12:02:56.022504",
     "exception": false,
     "start_time": "2022-06-22T12:01:48.715335",
     "status": "completed"
    },
    "tags": []
   },
   "outputs": [
    {
     "data": {
      "image/png": "[encoded data removed]",
      "text/plain": [
       "<Figure size 432x288 with 1 Axes>"
      ]
     },
     "metadata": {
      "needs_background": "light"
     },
     "output_type": "display_data"
    },
    {
     "data": {
      "image/png": "[encoded data removed]",
      "text/plain": [
       "<Figure size 432x288 with 1 Axes>"
      ]
     },
     "metadata": {
      "needs_background": "light"
     },
     "output_type": "display_data"
    }
   ],
   "source": [
    "ABC_train_test2.training_GAN_skip_connection(disc3,gen3,disc_opt,gen_opt,train_data,batch_size,n_epochs,criterion,prior_model,variance,bias,device)"
   ]
  },
  {
   "cell_type": "code",
   "execution_count": 17,
   "id": "c5e0717b",
   "metadata": {
    "execution": {
     "iopub.execute_input": "2022-06-22T12:02:56.127389Z",
     "iopub.status.busy": "2022-06-22T12:02:56.126015Z",
     "iopub.status.idle": "2022-06-22T12:02:56.914419Z",
     "shell.execute_reply": "2022-06-22T12:02:56.914892Z"
    },
    "id": "c5e0717b",
    "papermill": {
     "duration": 0.854224,
     "end_time": "2022-06-22T12:02:56.915105",
     "exception": false,
     "start_time": "2022-06-22T12:02:56.060881",
     "status": "completed"
    },
    "tags": []
   },
   "outputs": [
    {
     "data": {
      "application/scrapbook.scrap.json+json": {
       "data": 1.63661162794563,
       "encoder": "json",
       "name": "ABC-GAN Model 3 MSE",
       "version": 1
      }
     },
     "metadata": {
      "scrapbook": {
       "data": true,
       "display": false,
       "name": "ABC-GAN Model 3 MSE"
      }
     },
     "output_type": "display_data"
    },
    {
     "data": {
      "application/scrapbook.scrap.json+json": {
       "data": 0.643301508850418,
       "encoder": "json",
       "name": "ABC-GAN Model 3 MAE",
       "version": 1
      }
     },
     "metadata": {
      "scrapbook": {
       "data": true,
       "display": false,
       "name": "ABC-GAN Model 3 MAE"
      }
     },
     "output_type": "display_data"
    },
    {
     "data": {
      "application/scrapbook.scrap.json+json": {
       "data": 12.86603017700836,
       "encoder": "json",
       "name": "ABC-GAN Model 3 Manhattan Distance",
       "version": 1
      }
     },
     "metadata": {
      "scrapbook": {
       "data": true,
       "display": false,
       "name": "ABC-GAN Model 3 Manhattan Distance"
      }
     },
     "output_type": "display_data"
    },
    {
     "data": {
      "application/scrapbook.scrap.json+json": {
       "data": 5.721201529678226,
       "encoder": "json",
       "name": "ABC-GAN Model 3 Euclidean distance",
       "version": 1
      }
     },
     "metadata": {
      "scrapbook": {
       "data": true,
       "display": false,
       "name": "ABC-GAN Model 3 Euclidean distance"
      }
     },
     "output_type": "display_data"
    },
    {
     "data": {
      "application/scrapbook.scrap.json+json": {
       "data": [
        [
         1.6446341181561308,
         1.6275670545057253,
         1.6400535324274756,
         1.6366148489125572,
         1.6376588664291496,
         1.62925238591178,
         1.6383156900627456,
         1.6436334607878216,
         1.6314102453677806,
         1.6333132547415992,
         1.6304229875991383,
         1.6365097122510057,
         1.6290919863922995,
         1.629629482584241,
         1.6367131303832139,
         1.6386207919888272,
         1.6324419712949911,
         1.6327429881241948,
         1.6357630911921213,
         1.6347713327975548,
         1.6361054362350038,
         1.6390822612965081,
         1.627938589436377,
         1.640719399473393,
         1.6331286991344456,
         1.6439113485768275,
         1.6340000671106878,
         1.637535279009456,
         1.6400639402173263,
         1.633679231104648,
         1.6367875243968826,
         1.6402774202007364,
         1.638715549360319,
         1.640742491927412,
         1.6440906856514963,
         1.6324126442545164,
         1.6296809023861656,
         1.638638267080573,
         1.625276677217417,
         1.6428266072859294,
         1.6377426932653214,
         1.6313831029167858,
         1.6292838435247952,
         1.6422051306564114,
         1.6358181283430426,
         1.641413773708517,
         1.6353189433550561,
         1.6375560630171329,
         1.6439014738592235,
         1.642457632291982,
         1.638148774632338,
         1.631814555528559,
         1.6370810072615014,
         1.6382409662042492,
         1.6399879369376442,
         1.6367277344830817,
         1.636848827876051,
         1.6410646782554708,
         1.6351069806698484,
         1.6274298090162076,
         1.640847351958466,
         1.6428894139327093,
         1.6396076072119363,
         1.6365094232876671,
         1.637114103595632,
         1.6303296071766482,
         1.6447184596010842,
         1.6436553731644516,
         1.6335588223489566,
         1.6309028015330553,
         1.6327174309744392,
         1.64944525087719,
         1.6351707932775525,
         1.6384679724627333,
         1.635213807638317,
         1.6347724684629057,
         1.6316013406025902,
         1.6360263636766113,
         1.6362342472798495,
         1.6429697622457773,
         1.6303274432269,
         1.6269054855025942,
         1.6474190389067076,
         1.6359836036220252,
         1.634056884795288,
         1.6394435291831413,
         1.638895248208995,
         1.6269202780205405,
         1.6411278978021364,
         1.6418900033138435,
         1.6365425157257747,
         1.6404673403644439,
         1.6274552366192985,
         1.644484635010705,
         1.6349102127732955,
         1.6291760793505774,
         1.6432885579315886,
         1.6271178032856752,
         1.6477439679031582,
         1.639948622638041
        ],
        [
         0.6449398021912203,
         0.642297014198266,
         0.6465174000477418,
         0.6425439860438928,
         0.6395497735356912,
         0.6410200278973207,
         0.6478033240651712,
         0.6448752712225542,
         0.6417503472184762,
         0.640669735870324,
         0.6406160857295617,
         0.6435000505065546,
         0.644534982345067,
         0.6397106494521723,
         0.6429070111131295,
         0.6458012919640168,
         0.6414684232091531,
         0.6442391481017694,
         0.6433408971643075,
         0.643081834516488,
         0.6463328700279817,
         0.6435310508823022,
         0.6398860703920946,
         0.6455214943503961,
         0.6376483466243371,
         0.6442547451471909,
         0.640563404164277,
         0.6443451460218057,
         0.6443330492591486,
         0.6397787999128923,
         0.6431510653113947,
         0.6411187167977914,
         0.6463155831908807,
         0.6435433652019128,
         0.6460091989254579,
         0.6420068140840158,
         0.6421243723249063,
         0.6459867696976289,
         0.6423966403817758,
         0.6421825717901811,
         0.6459822352742777,
         0.640317065618001,
         0.6407968278741464,
         0.6468102808808908,
         0.6448144402122125,
         0.6499264415120706,
         0.6452057745074853,
         0.6442005809163674,
         0.644357293448411,
         0.646946657798253,
         0.6445669915294274,
         0.6432799231028185,
         0.6431914370274171,
         0.6432838763808831,
         0.6465087335323915,
         0.6466364171123132,
         0.6459137495374307,
         0.6397544529056176,
         0.6408498640870676,
         0.6377219971036538,
         0.6474030162906275,
         0.6471504878019914,
         0.6444808956002817,
         0.6440384488319978,
         0.6459431331371889,
         0.6406293209409342,
         0.6481174763059243,
         0.6449048530077561,
         0.6407774235820398,
         0.639076605043374,
         0.6434129561996087,
         0.6443034257506952,
         0.6441817577695474,
         0.6428503270959481,
         0.643556609353982,
         0.6411626007175073,
         0.6442593823885545,
         0.642986411950551,
         0.6461693372344598,
         0.6468069862341508,
         0.6418639193987474,
         0.6390289511298761,
         0.6441241826629266,
         0.6425787176704034,
         0.6437628101324663,
         0.6442388202762231,
         0.6413510720944032,
         0.6394456472015009,
         0.6456694658612833,
         0.6407984893536195,
         0.6398060526465997,
         0.6455319460248574,
         0.6409555818652735,
         0.6429616089677438,
         0.638219303986989,
         0.6394994478439913,
         0.6452336754417047,
         0.6404814671492204,
         0.6433671366190538,
         0.6457589622354135
        ],
        [
         12.898796043824404,
         12.84594028396532,
         12.930348000954837,
         12.850879720877856,
         12.790995470713824,
         12.820400557946414,
         12.956066481303424,
         12.897505424451083,
         12.835006944369525,
         12.813394717406482,
         12.812321714591235,
         12.87000101013109,
         12.89069964690134,
         12.794212989043444,
         12.858140222262591,
         12.916025839280337,
         12.829368464183062,
         12.884782962035388,
         12.86681794328615,
         12.86163669032976,
         12.926657400559634,
         12.870621017646044,
         12.797721407841891,
         12.910429887007922,
         12.752966932486743,
         12.88509490294382,
         12.81126808328554,
         12.886902920436114,
         12.88666098518297,
         12.795575998257846,
         12.863021306227893,
         12.822374335955828,
         12.926311663817614,
         12.870867304038256,
         12.920183978509158,
         12.840136281680316,
         12.842487446498126,
         12.919735393952578,
         12.847932807635516,
         12.843651435803622,
         12.919644705485553,
         12.806341312360018,
         12.815936557482928,
         12.936205617617816,
         12.89628880424425,
         12.998528830241412,
         12.904115490149707,
         12.88401161832735,
         12.887145868968219,
         12.93893315596506,
         12.89133983058855,
         12.865598462056369,
         12.863828740548342,
         12.865677527617663,
         12.93017467064783,
         12.932728342246264,
         12.918274990748614,
         12.795089058112353,
         12.816997281741351,
         12.754439942073077,
         12.948060325812548,
         12.943009756039828,
         12.889617912005633,
         12.880768976639956,
         12.918862662743777,
         12.812586418818682,
         12.962349526118487,
         12.898097060155123,
         12.815548471640795,
         12.78153210086748,
         12.868259123992175,
         12.886068515013903,
         12.883635155390948,
         12.857006541918963,
         12.871132187079638,
         12.823252014350146,
         12.88518764777109,
         12.85972823901102,
         12.923386744689196,
         12.936139724683017,
         12.837278387974948,
         12.780579022597522,
         12.882483653258532,
         12.851574353408068,
         12.875256202649325,
         12.884776405524462,
         12.827021441888064,
         12.788912944030017,
         12.913389317225665,
         12.81596978707239,
         12.796121052931994,
         12.91063892049715,
         12.819111637305468,
         12.859232179354876,
         12.76438607973978,
         12.789988956879824,
         12.904673508834094,
         12.809629342984408,
         12.867342732381076,
         12.91517924470827
        ],
        [
         5.735214238642058,
         5.705378260038024,
         5.727221896220672,
         5.721214641861564,
         5.72303916888422,
         5.708331430307424,
         5.7241867371055335,
         5.733469212942233,
         5.712110372476674,
         5.715440936168616,
         5.71038175186062,
         5.721030872580579,
         5.708050431438565,
         5.708991999616466,
         5.721386423557168,
         5.724719717136948,
         5.713916294967912,
         5.714443084193236,
         5.719725677324257,
         5.717991487922232,
         5.72032418003561,
         5.725525759782253,
         5.706029424102852,
         5.728384413555698,
         5.715118020014015,
         5.733953868975277,
         5.716642488577866,
         5.722823217625119,
         5.727240068684613,
         5.716081229486943,
         5.721516450027707,
         5.727612801509433,
         5.724885237907078,
         5.728424725746882,
         5.7342666238177245,
         5.713864969098441,
         5.709082066998452,
         5.724750242727753,
         5.701362428783873,
         5.732061770926634,
         5.723185639598495,
         5.712062854900646,
         5.7083865382869705,
         5.730977457042405,
         5.7198218999249315,
         5.729596449504131,
         5.718949105132963,
         5.722859535262303,
         5.733936647468689,
         5.731418030979737,
         5.723895132918384,
         5.712818140862807,
         5.722029372978614,
         5.7240561950495366,
         5.727107362251286,
         5.721411948956449,
         5.721623594533375,
         5.728987132566228,
         5.718578460893665,
         5.705137700382362,
         5.728607774945787,
         5.732171340657411,
         5.726443236795308,
         5.721030367490925,
         5.722087212889423,
         5.710218222058852,
         5.735361295683271,
         5.733507431170647,
         5.715870576472067,
         5.711221938487515,
         5.714398360237829,
         5.743596871085557,
         5.71869004803994,
         5.7244527641735905,
         5.718765264702368,
         5.717993474048227,
         5.712444906697289,
         5.720185947461169,
         5.720549356975866,
         5.732311509759003,
         5.7102144324480495,
         5.704218588908728,
         5.740068011629666,
         5.720111194062621,
         5.716741877669986,
         5.726156702681374,
         5.725199120046383,
         5.704244521442853,
         5.7290974818066,
         5.73042756400226,
         5.721088210691694,
         5.727944378857818,
         5.705182269865352,
         5.734953591809972,
         5.718234365209764,
         5.708197752969982,
         5.7328676208885,
         5.704590788629234,
         5.740634055403913,
         5.727038715842667
        ]
       ],
       "encoder": "json",
       "name": "ABC_GAN_3 Metrics",
       "version": 1
      }
     },
     "metadata": {
      "scrapbook": {
       "data": true,
       "display": false,
       "name": "ABC_GAN_3 Metrics"
      }
     },
     "output_type": "display_data"
    },
    {
     "name": "stdout",
     "output_type": "stream",
     "text": [
      "MSE\n",
      "1.63661162794563\n"
     ]
    }
   ],
   "source": [
    "ABC_GAN3_metrics=ABC_train_test2.test_generator(gen3,test_data,prior_model,variance,bias,\"3\",device)\n",
    "sb.glue(\"ABC_GAN_3 Metrics\",ABC_GAN3_metrics)\n",
    "\n",
    "print(\"MSE\")\n",
    "print(mean(ABC_GAN3_metrics[0]))"
   ]
  },
  {
   "cell_type": "code",
   "execution_count": 18,
   "id": "c8e46b48",
   "metadata": {
    "execution": {
     "iopub.execute_input": "2022-06-22T12:02:57.009840Z",
     "iopub.status.busy": "2022-06-22T12:02:57.009072Z",
     "iopub.status.idle": "2022-06-22T12:02:57.733081Z",
     "shell.execute_reply": "2022-06-22T12:02:57.733520Z"
    },
    "id": "c8e46b48",
    "papermill": {
     "duration": 0.776835,
     "end_time": "2022-06-22T12:02:57.733725",
     "exception": false,
     "start_time": "2022-06-22T12:02:56.956890",
     "status": "completed"
    },
    "tags": []
   },
   "outputs": [
    {
     "data": {
      "image/png": "[encoded data removed]",
      "text/plain": [
       "<Figure size 432x288 with 1 Axes>"
      ]
     },
     "metadata": {
      "needs_background": "light"
     },
     "output_type": "display_data"
    },
    {
     "data": {
      "image/png": "[encoded data removed]",
      "text/plain": [
       "<Figure size 432x288 with 1 Axes>"
      ]
     },
     "metadata": {
      "needs_background": "light"
     },
     "output_type": "display_data"
    },
    {
     "data": {
      "image/png": "[encoded data removed]",
      "text/plain": [
       "<Figure size 432x288 with 1 Axes>"
      ]
     },
     "metadata": {
      "needs_background": "light"
     },
     "output_type": "display_data"
    },
    {
     "data": {
      "image/png": "[encoded data removed]",
      "text/plain": [
       "<Figure size 432x288 with 1 Axes>"
      ]
     },
     "metadata": {
      "needs_background": "light"
     },
     "output_type": "display_data"
    }
   ],
   "source": [
    "sanityChecks.discProbVsError(train_data,disc3,device)\n",
    "sanityChecks.discProbVsError(test_data,disc3,device)"
   ]
  },
  {
   "cell_type": "markdown",
   "id": "a5bd74c3",
   "metadata": {
    "id": "a5bd74c3",
    "papermill": {
     "duration": 0.06009,
     "end_time": "2022-06-22T12:02:57.846046",
     "exception": false,
     "start_time": "2022-06-22T12:02:57.785956",
     "status": "completed"
    },
    "tags": []
   },
   "source": [
    "## Skip Connection Model Analysis - ABC-GAN "
   ]
  },
  {
   "cell_type": "markdown",
   "id": "5744a8bf",
   "metadata": {
    "id": "5744a8bf",
    "papermill": {
     "duration": 0.05988,
     "end_time": "2022-06-22T12:02:57.955106",
     "exception": false,
     "start_time": "2022-06-22T12:02:57.895226",
     "status": "completed"
    },
    "tags": []
   },
   "source": [
    "### Weight Analysis \n",
    "\n",
    "Study the weights of the skip connection layer\n",
    "\n",
    "Equation of the skip connection is \n",
    "\n",
    "$output = y_{gan} * w + y_{abc} * (1-w)$"
   ]
  },
  {
   "cell_type": "code",
   "execution_count": 19,
   "id": "52c31dea",
   "metadata": {
    "execution": {
     "iopub.execute_input": "2022-06-22T12:02:58.058389Z",
     "iopub.status.busy": "2022-06-22T12:02:58.056462Z",
     "iopub.status.idle": "2022-06-22T12:02:58.063149Z",
     "shell.execute_reply": "2022-06-22T12:02:58.063605Z"
    },
    "id": "52c31dea",
    "papermill": {
     "duration": 0.066505,
     "end_time": "2022-06-22T12:02:58.063874",
     "exception": false,
     "start_time": "2022-06-22T12:02:57.997369",
     "status": "completed"
    },
    "tags": []
   },
   "outputs": [
    {
     "name": "stdout",
     "output_type": "stream",
     "text": [
      "Weight of the node at skip connection\n",
      "Parameter containing:\n",
      "tensor([[0.1375]], requires_grad=True)\n"
     ]
    },
    {
     "data": {
      "application/scrapbook.scrap.json+json": {
       "data": 0.13754864037036896,
       "encoder": "json",
       "name": "Skip Connection Weight",
       "version": 1
      }
     },
     "metadata": {
      "scrapbook": {
       "data": true,
       "display": false,
       "name": "Skip Connection Weight"
      }
     },
     "output_type": "display_data"
    }
   ],
   "source": [
    "print(\"Weight of the node at skip connection\")\n",
    "for name,param in gen3.named_parameters():\n",
    "    if(name == \"skipNode.weight\"):\n",
    "        print(param)\n",
    "        sb.glue(\"Skip Connection Weight\",param.item())"
   ]
  }
 ],
 "metadata": {
  "colab": {
   "collapsed_sections": [],
   "name": "ABC_GAN_Model-Catboost_Pre-gen.ipynb",
   "provenance": []
  },
  "interpreter": {
   "hash": "31f2aee4e71d21fbe5cf8b01ff0e069b9275f58929596ceb00d14d90e3e16cd6"
  },
  "kernelspec": {
   "display_name": "Python 3 (ipykernel)",
   "language": "python",
   "name": "python3"
  },
  "language_info": {
   "codemirror_mode": {
    "name": "ipython",
    "version": 3
   },
   "file_extension": ".py",
   "mimetype": "text/x-python",
   "name": "python",
   "nbconvert_exporter": "python",
   "pygments_lexer": "ipython3",
   "version": "3.8.3"
  },
  "papermill": {
   "default_parameters": {},
   "duration": 138.903306,
   "end_time": "2022-06-22T12:02:59.724812",
   "environment_variables": {},
   "exception": null,
   "input_path": "ABC_GAN-TabNet.ipynb",
   "output_path": "./ABC_GAN_TabNet/ABC-GAN_output_2_2.ipynb",
   "parameters": {
    "bias": 1,
    "variance": 0.01
   },
   "start_time": "2022-06-22T12:00:40.821506",
   "version": "2.3.3"
  }
 },
 "nbformat": 4,
 "nbformat_minor": 5
}