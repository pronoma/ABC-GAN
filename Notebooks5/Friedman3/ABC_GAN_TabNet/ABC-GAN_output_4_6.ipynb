{
 "cells": [
  {
   "cell_type": "markdown",
   "id": "622780e6",
   "metadata": {
    "id": "622780e6",
    "papermill": {
     "duration": 0.050521,
     "end_time": "2022-06-22T13:12:50.924346",
     "exception": false,
     "start_time": "2022-06-22T13:12:50.873825",
     "status": "completed"
    },
    "tags": []
   },
   "source": [
    "## Import Libraries "
   ]
  },
  {
   "cell_type": "code",
   "execution_count": 1,
   "id": "a62397e3",
   "metadata": {
    "execution": {
     "iopub.execute_input": "2022-06-22T13:12:50.981887Z",
     "iopub.status.busy": "2022-06-22T13:12:50.980488Z",
     "iopub.status.idle": "2022-06-22T13:12:50.983341Z",
     "shell.execute_reply": "2022-06-22T13:12:50.982695Z"
    },
    "id": "a62397e3",
    "papermill": {
     "duration": 0.037915,
     "end_time": "2022-06-22T13:12:50.983779",
     "exception": false,
     "start_time": "2022-06-22T13:12:50.945864",
     "status": "completed"
    },
    "tags": []
   },
   "outputs": [],
   "source": [
    "import warnings\n",
    "import sys\n",
    "sys.path.insert(0, '../../src')\n",
    "warnings.filterwarnings('ignore')"
   ]
  },
  {
   "cell_type": "code",
   "execution_count": 2,
   "id": "d6a4e155",
   "metadata": {
    "execution": {
     "iopub.execute_input": "2022-06-22T13:12:51.023583Z",
     "iopub.status.busy": "2022-06-22T13:12:51.022624Z",
     "iopub.status.idle": "2022-06-22T13:12:57.448550Z",
     "shell.execute_reply": "2022-06-22T13:12:57.449179Z"
    },
    "id": "d6a4e155",
    "papermill": {
     "duration": 6.448331,
     "end_time": "2022-06-22T13:12:57.449498",
     "exception": false,
     "start_time": "2022-06-22T13:12:51.001167",
     "status": "completed"
    },
    "tags": []
   },
   "outputs": [],
   "source": [
    "import ABC_train_test2\n",
    "import friedman3Dataset\n",
    "import network\n",
    "import dataset\n",
    "import sanityChecks\n",
    "import torch \n",
    "import scrapbook as sb\n",
    "from statistics import mean \n",
    "import catboost as ctb \n",
    "from sklearn.model_selection import train_test_split\n",
    "from sklearn.metrics import mean_squared_error,mean_absolute_error\n",
    "import numpy as np\n",
    "from pytorch_tabnet.tab_model import TabNetRegressor"
   ]
  },
  {
   "cell_type": "markdown",
   "id": "2fa5b0f7",
   "metadata": {
    "id": "2fa5b0f7",
    "papermill": {
     "duration": 0.017648,
     "end_time": "2022-06-22T13:12:57.482995",
     "exception": false,
     "start_time": "2022-06-22T13:12:57.465347",
     "status": "completed"
    },
    "tags": []
   },
   "source": [
    "## Parameters "
   ]
  },
  {
   "cell_type": "code",
   "execution_count": 3,
   "id": "783186fb",
   "metadata": {
    "execution": {
     "iopub.execute_input": "2022-06-22T13:12:57.522654Z",
     "iopub.status.busy": "2022-06-22T13:12:57.521288Z",
     "iopub.status.idle": "2022-06-22T13:12:57.523740Z",
     "shell.execute_reply": "2022-06-22T13:12:57.524276Z"
    },
    "id": "783186fb",
    "papermill": {
     "duration": 0.024884,
     "end_time": "2022-06-22T13:12:57.524498",
     "exception": false,
     "start_time": "2022-06-22T13:12:57.499614",
     "status": "completed"
    },
    "tags": [
     "parameters"
    ]
   },
   "outputs": [],
   "source": [
    "variance = 1\n",
    "bias = 1 "
   ]
  },
  {
   "cell_type": "code",
   "execution_count": 4,
   "id": "eef78ab9",
   "metadata": {
    "execution": {
     "iopub.execute_input": "2022-06-22T13:12:57.560296Z",
     "iopub.status.busy": "2022-06-22T13:12:57.559104Z",
     "iopub.status.idle": "2022-06-22T13:12:57.563115Z",
     "shell.execute_reply": "2022-06-22T13:12:57.563621Z"
    },
    "papermill": {
     "duration": 0.022964,
     "end_time": "2022-06-22T13:12:57.563834",
     "exception": false,
     "start_time": "2022-06-22T13:12:57.540870",
     "status": "completed"
    },
    "tags": [
     "injected-parameters"
    ]
   },
   "outputs": [],
   "source": [
    "# Parameters\n",
    "variance = 1\n",
    "bias = 0.01\n"
   ]
  },
  {
   "cell_type": "markdown",
   "id": "391cdbfd",
   "metadata": {
    "id": "391cdbfd",
    "papermill": {
     "duration": 0.023341,
     "end_time": "2022-06-22T13:12:57.602431",
     "exception": false,
     "start_time": "2022-06-22T13:12:57.579090",
     "status": "completed"
    },
    "tags": []
   },
   "source": [
    "## Dataset \n"
   ]
  },
  {
   "cell_type": "code",
   "execution_count": 5,
   "id": "5b51f161",
   "metadata": {
    "execution": {
     "iopub.execute_input": "2022-06-22T13:12:57.638915Z",
     "iopub.status.busy": "2022-06-22T13:12:57.638122Z",
     "iopub.status.idle": "2022-06-22T13:12:57.640387Z",
     "shell.execute_reply": "2022-06-22T13:12:57.640976Z"
    },
    "id": "5b51f161",
    "papermill": {
     "duration": 0.022363,
     "end_time": "2022-06-22T13:12:57.641201",
     "exception": false,
     "start_time": "2022-06-22T13:12:57.618838",
     "status": "completed"
    },
    "tags": []
   },
   "outputs": [],
   "source": [
    "#Parameters \n",
    "n_features = 4\n",
    "n_samples= 100\n",
    "n_target = 1"
   ]
  },
  {
   "cell_type": "code",
   "execution_count": 6,
   "id": "5d6eced4",
   "metadata": {
    "execution": {
     "iopub.execute_input": "2022-06-22T13:12:57.675098Z",
     "iopub.status.busy": "2022-06-22T13:12:57.674325Z",
     "iopub.status.idle": "2022-06-22T13:12:57.687333Z",
     "shell.execute_reply": "2022-06-22T13:12:57.687826Z"
    },
    "id": "5d6eced4",
    "papermill": {
     "duration": 0.032621,
     "end_time": "2022-06-22T13:12:57.688185",
     "exception": false,
     "start_time": "2022-06-22T13:12:57.655564",
     "status": "completed"
    },
    "tags": []
   },
   "outputs": [
    {
     "name": "stdout",
     "output_type": "stream",
     "text": [
      "          X1           X2        X3         X4         Y\n",
      "0  17.329122   846.726200  0.131563   2.775860  1.456258\n",
      "1  64.355738  1516.446447  0.453305  10.241882  1.401853\n",
      "2  19.288437   709.964478  0.706152   1.748535  1.652194\n",
      "3  84.217727   928.096401  0.849962   3.947501  1.443426\n",
      "4  20.052723   472.029331  0.376297   3.718860  1.431561\n"
     ]
    }
   ],
   "source": [
    "X,Y = friedman3Dataset.friedman3_data(n_samples)"
   ]
  },
  {
   "cell_type": "code",
   "execution_count": 7,
   "id": "fe007438",
   "metadata": {
    "execution": {
     "iopub.execute_input": "2022-06-22T13:12:57.727112Z",
     "iopub.status.busy": "2022-06-22T13:12:57.726342Z",
     "iopub.status.idle": "2022-06-22T13:12:57.729476Z",
     "shell.execute_reply": "2022-06-22T13:12:57.728849Z"
    },
    "id": "fe007438",
    "papermill": {
     "duration": 0.026045,
     "end_time": "2022-06-22T13:12:57.729673",
     "exception": false,
     "start_time": "2022-06-22T13:12:57.703628",
     "status": "completed"
    },
    "tags": []
   },
   "outputs": [],
   "source": [
    "#Train test split for dataset \n",
    "X_train,X_test,Y_train,Y_test = train_test_split(X,Y,test_size = 0.2)\n",
    "train_data = dataset.CustomDataset(X_train,Y_train)\n",
    "test_data = dataset.CustomDataset(X_test,Y_test)\n"
   ]
  },
  {
   "cell_type": "markdown",
   "id": "a9a1af34",
   "metadata": {
    "id": "a9a1af34",
    "papermill": {
     "duration": 0.018088,
     "end_time": "2022-06-22T13:12:57.765145",
     "exception": false,
     "start_time": "2022-06-22T13:12:57.747057",
     "status": "completed"
    },
    "tags": []
   },
   "source": [
    "## Training Parameters "
   ]
  },
  {
   "cell_type": "code",
   "execution_count": 8,
   "id": "952b7fc8",
   "metadata": {
    "execution": {
     "iopub.execute_input": "2022-06-22T13:12:57.815300Z",
     "iopub.status.busy": "2022-06-22T13:12:57.813843Z",
     "iopub.status.idle": "2022-06-22T13:12:57.817649Z",
     "shell.execute_reply": "2022-06-22T13:12:57.818543Z"
    },
    "id": "952b7fc8",
    "papermill": {
     "duration": 0.032124,
     "end_time": "2022-06-22T13:12:57.818877",
     "exception": false,
     "start_time": "2022-06-22T13:12:57.786753",
     "status": "completed"
    },
    "tags": []
   },
   "outputs": [],
   "source": [
    "batch_size = 32\n",
    "n_epochs = 1000\n",
    "#Select the device \n",
    "device = torch.device('cuda' if torch.cuda.is_available() else 'cpu')"
   ]
  },
  {
   "cell_type": "markdown",
   "id": "a95e1600",
   "metadata": {
    "id": "a95e1600",
    "papermill": {
     "duration": 0.030325,
     "end_time": "2022-06-22T13:12:57.870411",
     "exception": false,
     "start_time": "2022-06-22T13:12:57.840086",
     "status": "completed"
    },
    "tags": []
   },
   "source": [
    "# ABC Pre-generator Model \n",
    "\n",
    "1. The catboost model is used as a pre-generator model for the ABC-GAN. \n",
    "2. The model is first trained on the entire dataset \n",
    "3. It generats X,Y pairs and we add some Gaussian noise with mean 0 and variance 1 to it which is then feed as input to the generator.\n"
   ]
  },
  {
   "cell_type": "code",
   "execution_count": 9,
   "id": "ff8ce7bd",
   "metadata": {
    "execution": {
     "iopub.execute_input": "2022-06-22T13:12:57.920576Z",
     "iopub.status.busy": "2022-06-22T13:12:57.919635Z",
     "iopub.status.idle": "2022-06-22T13:13:12.963776Z",
     "shell.execute_reply": "2022-06-22T13:13:12.964312Z"
    },
    "id": "ff8ce7bd",
    "papermill": {
     "duration": 15.06888,
     "end_time": "2022-06-22T13:13:12.964507",
     "exception": false,
     "start_time": "2022-06-22T13:12:57.895627",
     "status": "completed"
    },
    "tags": []
   },
   "outputs": [
    {
     "name": "stdout",
     "output_type": "stream",
     "text": [
      "Device used : cpu\n"
     ]
    },
    {
     "name": "stdout",
     "output_type": "stream",
     "text": [
      "epoch 0  | loss: 0.91263 | train_mse: 4.11482 | train_mae: 1.59052 |  0:00:00s\n",
      "epoch 1  | loss: 0.39516 | train_mse: 5.41246 | train_mae: 1.6112  |  0:00:00s\n",
      "epoch 2  | loss: 0.33252 | train_mse: 3.75113 | train_mae: 1.30409 |  0:00:00s\n"
     ]
    },
    {
     "name": "stdout",
     "output_type": "stream",
     "text": [
      "epoch 3  | loss: 0.51553 | train_mse: 4.01905 | train_mae: 1.38012 |  0:00:00s\n",
      "epoch 4  | loss: 0.36845 | train_mse: 3.47294 | train_mae: 1.22914 |  0:00:00s\n",
      "epoch 5  | loss: 0.30785 | train_mse: 2.14421 | train_mae: 0.95021 |  0:00:00s\n"
     ]
    },
    {
     "name": "stdout",
     "output_type": "stream",
     "text": [
      "epoch 6  | loss: 0.36885 | train_mse: 1.89193 | train_mae: 0.90287 |  0:00:00s\n",
      "epoch 7  | loss: 0.45477 | train_mse: 1.57652 | train_mae: 0.84077 |  0:00:00s\n",
      "epoch 8  | loss: 0.37913 | train_mse: 1.35436 | train_mae: 0.83167 |  0:00:00s\n"
     ]
    },
    {
     "name": "stdout",
     "output_type": "stream",
     "text": [
      "epoch 9  | loss: 0.338   | train_mse: 0.70153 | train_mae: 0.64036 |  0:00:00s\n",
      "epoch 10 | loss: 0.33997 | train_mse: 0.52768 | train_mae: 0.56019 |  0:00:01s\n",
      "epoch 11 | loss: 0.25527 | train_mse: 0.72253 | train_mae: 0.63603 |  0:00:01s\n"
     ]
    },
    {
     "name": "stdout",
     "output_type": "stream",
     "text": [
      "epoch 12 | loss: 0.27527 | train_mse: 0.95775 | train_mae: 0.66858 |  0:00:01s\n",
      "epoch 13 | loss: 0.29302 | train_mse: 0.78195 | train_mae: 0.59818 |  0:00:01s\n",
      "epoch 14 | loss: 0.19174 | train_mse: 0.47878 | train_mae: 0.47485 |  0:00:01s\n"
     ]
    },
    {
     "name": "stdout",
     "output_type": "stream",
     "text": [
      "epoch 15 | loss: 0.35448 | train_mse: 0.45013 | train_mae: 0.43841 |  0:00:01s\n",
      "epoch 16 | loss: 0.29664 | train_mse: 0.54054 | train_mae: 0.4955  |  0:00:01s\n",
      "epoch 17 | loss: 0.18983 | train_mse: 0.4826  | train_mae: 0.46489 |  0:00:01s\n"
     ]
    },
    {
     "name": "stdout",
     "output_type": "stream",
     "text": [
      "epoch 18 | loss: 0.18194 | train_mse: 0.53192 | train_mae: 0.51062 |  0:00:01s\n",
      "epoch 19 | loss: 0.26603 | train_mse: 0.47465 | train_mae: 0.49403 |  0:00:01s\n",
      "epoch 20 | loss: 0.27033 | train_mse: 0.29822 | train_mae: 0.39744 |  0:00:01s\n"
     ]
    },
    {
     "name": "stdout",
     "output_type": "stream",
     "text": [
      "epoch 21 | loss: 0.31088 | train_mse: 0.18517 | train_mae: 0.31878 |  0:00:02s\n",
      "epoch 22 | loss: 0.20915 | train_mse: 0.16713 | train_mae: 0.29837 |  0:00:02s\n",
      "epoch 23 | loss: 0.17875 | train_mse: 0.19056 | train_mae: 0.30199 |  0:00:02s\n"
     ]
    },
    {
     "name": "stdout",
     "output_type": "stream",
     "text": [
      "epoch 24 | loss: 0.26526 | train_mse: 0.24234 | train_mae: 0.3324  |  0:00:02s\n",
      "epoch 25 | loss: 0.27514 | train_mse: 0.21723 | train_mae: 0.31484 |  0:00:02s\n"
     ]
    },
    {
     "name": "stdout",
     "output_type": "stream",
     "text": [
      "epoch 26 | loss: 0.1223  | train_mse: 0.1918  | train_mae: 0.31128 |  0:00:02s\n",
      "epoch 27 | loss: 0.20986 | train_mse: 0.21078 | train_mae: 0.32646 |  0:00:02s\n",
      "epoch 28 | loss: 0.19805 | train_mse: 0.174   | train_mae: 0.29926 |  0:00:02s\n"
     ]
    },
    {
     "name": "stdout",
     "output_type": "stream",
     "text": [
      "epoch 29 | loss: 0.16393 | train_mse: 0.12555 | train_mae: 0.26249 |  0:00:02s\n",
      "epoch 30 | loss: 0.18672 | train_mse: 0.11893 | train_mae: 0.25299 |  0:00:02s\n",
      "epoch 31 | loss: 0.17277 | train_mse: 0.12391 | train_mae: 0.25523 |  0:00:02s\n"
     ]
    },
    {
     "name": "stdout",
     "output_type": "stream",
     "text": [
      "epoch 32 | loss: 0.15263 | train_mse: 0.12539 | train_mae: 0.26079 |  0:00:03s\n",
      "epoch 33 | loss: 0.14652 | train_mse: 0.14302 | train_mae: 0.27266 |  0:00:03s\n",
      "epoch 34 | loss: 0.16145 | train_mse: 0.17853 | train_mae: 0.28486 |  0:00:03s\n",
      "epoch 35 | loss: 0.19138 | train_mse: 0.17905 | train_mae: 0.2797  |  0:00:03s\n"
     ]
    },
    {
     "name": "stdout",
     "output_type": "stream",
     "text": [
      "epoch 36 | loss: 0.21874 | train_mse: 0.16329 | train_mae: 0.28013 |  0:00:03s\n",
      "epoch 37 | loss: 0.16606 | train_mse: 0.15316 | train_mae: 0.28012 |  0:00:03s\n"
     ]
    },
    {
     "name": "stdout",
     "output_type": "stream",
     "text": [
      "epoch 38 | loss: 0.1627  | train_mse: 0.18707 | train_mae: 0.29693 |  0:00:03s\n",
      "epoch 39 | loss: 0.24631 | train_mse: 0.26305 | train_mae: 0.35827 |  0:00:03s\n",
      "epoch 40 | loss: 0.28163 | train_mse: 0.16396 | train_mae: 0.29019 |  0:00:03s\n"
     ]
    },
    {
     "name": "stdout",
     "output_type": "stream",
     "text": [
      "epoch 41 | loss: 0.19799 | train_mse: 0.12743 | train_mae: 0.2524  |  0:00:03s\n",
      "epoch 42 | loss: 0.1125  | train_mse: 0.12689 | train_mae: 0.25797 |  0:00:03s\n"
     ]
    },
    {
     "name": "stdout",
     "output_type": "stream",
     "text": [
      "epoch 43 | loss: 0.15844 | train_mse: 0.11178 | train_mae: 0.25052 |  0:00:03s\n",
      "epoch 44 | loss: 0.19128 | train_mse: 0.10747 | train_mae: 0.25033 |  0:00:04s\n",
      "epoch 45 | loss: 0.11552 | train_mse: 0.10856 | train_mae: 0.2579  |  0:00:04s\n"
     ]
    },
    {
     "name": "stdout",
     "output_type": "stream",
     "text": [
      "epoch 46 | loss: 0.12194 | train_mse: 0.094   | train_mae: 0.23535 |  0:00:04s\n",
      "epoch 47 | loss: 0.19851 | train_mse: 0.08863 | train_mae: 0.22421 |  0:00:04s\n",
      "epoch 48 | loss: 0.18916 | train_mse: 0.10229 | train_mae: 0.23643 |  0:00:04s\n"
     ]
    },
    {
     "name": "stdout",
     "output_type": "stream",
     "text": [
      "epoch 49 | loss: 0.11393 | train_mse: 0.09723 | train_mae: 0.23847 |  0:00:04s\n",
      "epoch 50 | loss: 0.17412 | train_mse: 0.1148  | train_mae: 0.2493  |  0:00:04s\n",
      "epoch 51 | loss: 0.14996 | train_mse: 0.10174 | train_mae: 0.23402 |  0:00:04s\n",
      "epoch 52 | loss: 0.17353 | train_mse: 0.10647 | train_mae: 0.24464 |  0:00:04s\n"
     ]
    },
    {
     "name": "stdout",
     "output_type": "stream",
     "text": [
      "epoch 53 | loss: 0.15086 | train_mse: 0.16368 | train_mae: 0.28161 |  0:00:04s\n",
      "epoch 54 | loss: 0.12585 | train_mse: 0.19179 | train_mae: 0.30764 |  0:00:04s\n",
      "epoch 55 | loss: 0.18199 | train_mse: 0.23042 | train_mae: 0.3086  |  0:00:04s\n"
     ]
    },
    {
     "name": "stdout",
     "output_type": "stream",
     "text": [
      "epoch 56 | loss: 0.16903 | train_mse: 0.26824 | train_mae: 0.30315 |  0:00:04s\n",
      "epoch 57 | loss: 0.36938 | train_mse: 0.19848 | train_mae: 0.29863 |  0:00:05s\n",
      "epoch 58 | loss: 0.20755 | train_mse: 0.12419 | train_mae: 0.24316 |  0:00:05s\n",
      "epoch 59 | loss: 0.16592 | train_mse: 0.12318 | train_mae: 0.24379 |  0:00:05s\n"
     ]
    },
    {
     "name": "stdout",
     "output_type": "stream",
     "text": [
      "epoch 60 | loss: 0.18438 | train_mse: 0.15409 | train_mae: 0.26451 |  0:00:05s\n",
      "epoch 61 | loss: 0.25052 | train_mse: 0.13499 | train_mae: 0.26514 |  0:00:05s\n"
     ]
    },
    {
     "name": "stdout",
     "output_type": "stream",
     "text": [
      "epoch 62 | loss: 0.34718 | train_mse: 0.17111 | train_mae: 0.28742 |  0:00:05s\n",
      "epoch 63 | loss: 0.1412  | train_mse: 0.13035 | train_mae: 0.2623  |  0:00:05s\n",
      "epoch 64 | loss: 0.12265 | train_mse: 0.13581 | train_mae: 0.256   |  0:00:05s\n"
     ]
    },
    {
     "name": "stdout",
     "output_type": "stream",
     "text": [
      "epoch 65 | loss: 0.36668 | train_mse: 0.17387 | train_mae: 0.29797 |  0:00:05s\n",
      "epoch 66 | loss: 0.14956 | train_mse: 0.11725 | train_mae: 0.24575 |  0:00:05s\n",
      "epoch 67 | loss: 0.17555 | train_mse: 0.12524 | train_mae: 0.25632 |  0:00:05s\n"
     ]
    },
    {
     "name": "stdout",
     "output_type": "stream",
     "text": [
      "epoch 68 | loss: 0.17268 | train_mse: 0.13726 | train_mae: 0.25957 |  0:00:06s\n",
      "epoch 69 | loss: 0.11583 | train_mse: 0.1208  | train_mae: 0.25502 |  0:00:06s\n",
      "epoch 70 | loss: 0.13602 | train_mse: 0.09613 | train_mae: 0.2469  |  0:00:06s\n",
      "epoch 71 | loss: 0.11161 | train_mse: 0.13462 | train_mae: 0.25444 |  0:00:06s\n"
     ]
    },
    {
     "name": "stdout",
     "output_type": "stream",
     "text": [
      "epoch 72 | loss: 0.29054 | train_mse: 0.1861  | train_mae: 0.28391 |  0:00:06s\n",
      "epoch 73 | loss: 0.2899  | train_mse: 0.11428 | train_mae: 0.24332 |  0:00:06s\n"
     ]
    },
    {
     "name": "stdout",
     "output_type": "stream",
     "text": [
      "epoch 74 | loss: 0.09849 | train_mse: 0.08068 | train_mae: 0.22082 |  0:00:06s\n",
      "epoch 75 | loss: 0.19408 | train_mse: 0.08419 | train_mae: 0.23034 |  0:00:06s\n",
      "epoch 76 | loss: 0.22069 | train_mse: 0.08056 | train_mae: 0.21816 |  0:00:06s\n"
     ]
    },
    {
     "name": "stdout",
     "output_type": "stream",
     "text": [
      "epoch 77 | loss: 0.20688 | train_mse: 0.08299 | train_mae: 0.21899 |  0:00:06s\n",
      "epoch 78 | loss: 0.17607 | train_mse: 0.08382 | train_mae: 0.22182 |  0:00:06s\n",
      "epoch 79 | loss: 0.1427  | train_mse: 0.08554 | train_mae: 0.2244  |  0:00:06s\n",
      "epoch 80 | loss: 0.20005 | train_mse: 0.10855 | train_mae: 0.25133 |  0:00:06s\n"
     ]
    },
    {
     "name": "stdout",
     "output_type": "stream",
     "text": [
      "epoch 81 | loss: 0.19069 | train_mse: 0.09895 | train_mae: 0.23919 |  0:00:07s\n",
      "epoch 82 | loss: 0.2736  | train_mse: 0.10434 | train_mae: 0.23318 |  0:00:07s\n",
      "epoch 83 | loss: 0.18344 | train_mse: 0.09555 | train_mae: 0.22688 |  0:00:07s\n",
      "epoch 84 | loss: 0.23743 | train_mse: 0.12261 | train_mae: 0.25158 |  0:00:07s\n"
     ]
    },
    {
     "name": "stdout",
     "output_type": "stream",
     "text": [
      "epoch 85 | loss: 0.18002 | train_mse: 0.09951 | train_mae: 0.23292 |  0:00:07s\n",
      "epoch 86 | loss: 0.24505 | train_mse: 0.09746 | train_mae: 0.23339 |  0:00:07s\n",
      "epoch 87 | loss: 0.14584 | train_mse: 0.10129 | train_mae: 0.23261 |  0:00:07s\n"
     ]
    },
    {
     "name": "stdout",
     "output_type": "stream",
     "text": [
      "epoch 88 | loss: 0.11035 | train_mse: 0.09694 | train_mae: 0.22967 |  0:00:07s\n",
      "epoch 89 | loss: 0.14232 | train_mse: 0.11275 | train_mae: 0.24269 |  0:00:07s\n",
      "epoch 90 | loss: 0.21391 | train_mse: 0.08464 | train_mae: 0.21961 |  0:00:07s\n",
      "epoch 91 | loss: 0.17217 | train_mse: 0.07675 | train_mae: 0.21395 |  0:00:07s\n"
     ]
    },
    {
     "name": "stdout",
     "output_type": "stream",
     "text": [
      "epoch 92 | loss: 0.14021 | train_mse: 0.08464 | train_mae: 0.21762 |  0:00:07s\n",
      "epoch 93 | loss: 0.11222 | train_mse: 0.09135 | train_mae: 0.23104 |  0:00:07s\n",
      "epoch 94 | loss: 0.12385 | train_mse: 0.12043 | train_mae: 0.25623 |  0:00:08s\n"
     ]
    },
    {
     "name": "stdout",
     "output_type": "stream",
     "text": [
      "epoch 95 | loss: 0.30337 | train_mse: 0.12758 | train_mae: 0.25562 |  0:00:08s\n",
      "epoch 96 | loss: 0.13488 | train_mse: 0.09487 | train_mae: 0.2312  |  0:00:08s\n",
      "epoch 97 | loss: 0.17386 | train_mse: 0.09495 | train_mae: 0.23023 |  0:00:08s\n",
      "epoch 98 | loss: 0.19863 | train_mse: 0.11863 | train_mae: 0.24979 |  0:00:08s\n"
     ]
    },
    {
     "name": "stdout",
     "output_type": "stream",
     "text": [
      "epoch 99 | loss: 0.0972  | train_mse: 0.11927 | train_mae: 0.24493 |  0:00:08s\n",
      "epoch 100| loss: 0.15344 | train_mse: 0.1083  | train_mae: 0.23002 |  0:00:08s\n",
      "epoch 101| loss: 0.18021 | train_mse: 0.08903 | train_mae: 0.22285 |  0:00:08s\n"
     ]
    },
    {
     "name": "stdout",
     "output_type": "stream",
     "text": [
      "epoch 102| loss: 0.14303 | train_mse: 0.08623 | train_mae: 0.2139  |  0:00:08s\n",
      "epoch 103| loss: 0.12601 | train_mse: 0.09418 | train_mae: 0.21483 |  0:00:08s\n"
     ]
    },
    {
     "name": "stdout",
     "output_type": "stream",
     "text": [
      "epoch 104| loss: 0.19633 | train_mse: 0.07317 | train_mae: 0.2032  |  0:00:08s\n",
      "epoch 105| loss: 0.10674 | train_mse: 0.06727 | train_mae: 0.20824 |  0:00:09s\n",
      "epoch 106| loss: 0.0911  | train_mse: 0.12757 | train_mae: 0.23998 |  0:00:09s\n"
     ]
    },
    {
     "name": "stdout",
     "output_type": "stream",
     "text": [
      "epoch 107| loss: 0.15831 | train_mse: 0.16427 | train_mae: 0.25674 |  0:00:09s\n",
      "epoch 108| loss: 0.11054 | train_mse: 0.07198 | train_mae: 0.21237 |  0:00:09s\n",
      "epoch 109| loss: 0.11115 | train_mse: 0.08252 | train_mae: 0.22406 |  0:00:09s\n"
     ]
    },
    {
     "name": "stdout",
     "output_type": "stream",
     "text": [
      "epoch 110| loss: 0.10362 | train_mse: 0.08781 | train_mae: 0.21931 |  0:00:09s\n",
      "epoch 111| loss: 0.13466 | train_mse: 0.0653  | train_mae: 0.20071 |  0:00:09s\n",
      "epoch 112| loss: 0.11273 | train_mse: 0.08574 | train_mae: 0.20678 |  0:00:09s\n"
     ]
    },
    {
     "name": "stdout",
     "output_type": "stream",
     "text": [
      "epoch 113| loss: 0.31929 | train_mse: 0.13109 | train_mae: 0.25661 |  0:00:09s\n",
      "epoch 114| loss: 0.14819 | train_mse: 0.11307 | train_mae: 0.2329  |  0:00:09s\n",
      "epoch 115| loss: 0.17995 | train_mse: 0.08546 | train_mae: 0.22216 |  0:00:09s\n"
     ]
    },
    {
     "name": "stdout",
     "output_type": "stream",
     "text": [
      "epoch 116| loss: 0.21581 | train_mse: 0.07399 | train_mae: 0.21038 |  0:00:09s\n",
      "epoch 117| loss: 0.13494 | train_mse: 0.06806 | train_mae: 0.19747 |  0:00:10s\n",
      "epoch 118| loss: 0.12818 | train_mse: 0.12201 | train_mae: 0.22539 |  0:00:10s\n"
     ]
    },
    {
     "name": "stdout",
     "output_type": "stream",
     "text": [
      "epoch 119| loss: 0.1487  | train_mse: 0.15537 | train_mae: 0.25135 |  0:00:10s\n",
      "epoch 120| loss: 0.12154 | train_mse: 0.09107 | train_mae: 0.21721 |  0:00:10s\n",
      "epoch 121| loss: 0.2208  | train_mse: 0.07202 | train_mae: 0.2008  |  0:00:10s\n"
     ]
    },
    {
     "name": "stdout",
     "output_type": "stream",
     "text": [
      "epoch 122| loss: 0.1573  | train_mse: 0.10512 | train_mae: 0.21458 |  0:00:10s\n",
      "epoch 123| loss: 0.14667 | train_mse: 0.09704 | train_mae: 0.21184 |  0:00:10s\n",
      "epoch 124| loss: 0.093   | train_mse: 0.09428 | train_mae: 0.20554 |  0:00:10s\n"
     ]
    },
    {
     "name": "stdout",
     "output_type": "stream",
     "text": [
      "epoch 125| loss: 0.12779 | train_mse: 0.10987 | train_mae: 0.22664 |  0:00:10s\n",
      "epoch 126| loss: 0.13388 | train_mse: 0.09299 | train_mae: 0.22293 |  0:00:10s\n",
      "epoch 127| loss: 0.11025 | train_mse: 0.06853 | train_mae: 0.19012 |  0:00:10s\n"
     ]
    },
    {
     "name": "stdout",
     "output_type": "stream",
     "text": [
      "epoch 128| loss: 0.1065  | train_mse: 0.06152 | train_mae: 0.19825 |  0:00:10s\n",
      "epoch 129| loss: 0.08935 | train_mse: 0.06949 | train_mae: 0.21708 |  0:00:10s\n",
      "epoch 130| loss: 0.15221 | train_mse: 0.07035 | train_mae: 0.20502 |  0:00:11s\n"
     ]
    },
    {
     "name": "stdout",
     "output_type": "stream",
     "text": [
      "epoch 131| loss: 0.15745 | train_mse: 0.0581  | train_mae: 0.19385 |  0:00:11s\n",
      "epoch 132| loss: 0.15071 | train_mse: 0.06846 | train_mae: 0.20151 |  0:00:11s\n",
      "epoch 133| loss: 0.11652 | train_mse: 0.06102 | train_mae: 0.19327 |  0:00:11s\n"
     ]
    },
    {
     "name": "stdout",
     "output_type": "stream",
     "text": [
      "epoch 134| loss: 0.08109 | train_mse: 0.07184 | train_mae: 0.20176 |  0:00:11s\n",
      "epoch 135| loss: 0.1103  | train_mse: 0.0695  | train_mae: 0.1997  |  0:00:11s\n",
      "epoch 136| loss: 0.1004  | train_mse: 0.0673  | train_mae: 0.20535 |  0:00:11s\n"
     ]
    },
    {
     "name": "stdout",
     "output_type": "stream",
     "text": [
      "epoch 137| loss: 0.13809 | train_mse: 0.0726  | train_mae: 0.20328 |  0:00:11s\n",
      "epoch 138| loss: 0.08726 | train_mse: 0.08345 | train_mae: 0.21694 |  0:00:11s\n",
      "epoch 139| loss: 0.26821 | train_mse: 0.10704 | train_mae: 0.23077 |  0:00:11s\n",
      "epoch 140| loss: 0.17302 | train_mse: 0.11335 | train_mae: 0.23889 |  0:00:11s\n"
     ]
    },
    {
     "name": "stdout",
     "output_type": "stream",
     "text": [
      "epoch 141| loss: 0.17259 | train_mse: 0.19972 | train_mae: 0.27927 |  0:00:11s\n",
      "epoch 142| loss: 0.30388 | train_mse: 0.2514  | train_mae: 0.29505 |  0:00:11s\n",
      "epoch 143| loss: 0.34834 | train_mse: 0.23635 | train_mae: 0.29714 |  0:00:12s\n"
     ]
    },
    {
     "name": "stdout",
     "output_type": "stream",
     "text": [
      "epoch 144| loss: 0.20953 | train_mse: 0.22621 | train_mae: 0.29253 |  0:00:12s\n",
      "epoch 145| loss: 0.16837 | train_mse: 0.19422 | train_mae: 0.27454 |  0:00:12s\n",
      "epoch 146| loss: 0.16761 | train_mse: 0.074   | train_mae: 0.21426 |  0:00:12s\n"
     ]
    },
    {
     "name": "stdout",
     "output_type": "stream",
     "text": [
      "epoch 147| loss: 0.12292 | train_mse: 0.07617 | train_mae: 0.21483 |  0:00:12s\n",
      "epoch 148| loss: 0.30473 | train_mse: 0.15551 | train_mae: 0.27016 |  0:00:12s\n",
      "epoch 149| loss: 0.20319 | train_mse: 0.17138 | train_mae: 0.27705 |  0:00:12s\n"
     ]
    },
    {
     "name": "stdout",
     "output_type": "stream",
     "text": [
      "epoch 150| loss: 0.13852 | train_mse: 0.11823 | train_mae: 0.24712 |  0:00:12s\n",
      "epoch 151| loss: 0.10933 | train_mse: 0.11089 | train_mae: 0.23752 |  0:00:12s\n",
      "epoch 152| loss: 0.16544 | train_mse: 0.09404 | train_mae: 0.22294 |  0:00:12s\n"
     ]
    },
    {
     "name": "stdout",
     "output_type": "stream",
     "text": [
      "epoch 153| loss: 0.16857 | train_mse: 0.12145 | train_mae: 0.25677 |  0:00:12s\n",
      "epoch 154| loss: 0.13845 | train_mse: 0.12208 | train_mae: 0.26542 |  0:00:13s\n",
      "epoch 155| loss: 0.16638 | train_mse: 0.11724 | train_mae: 0.25357 |  0:00:13s\n",
      "epoch 156| loss: 0.08786 | train_mse: 0.11243 | train_mae: 0.2378  |  0:00:13s\n"
     ]
    },
    {
     "name": "stdout",
     "output_type": "stream",
     "text": [
      "epoch 157| loss: 0.10925 | train_mse: 0.07512 | train_mae: 0.20713 |  0:00:13s\n",
      "epoch 158| loss: 0.13629 | train_mse: 0.07196 | train_mae: 0.21724 |  0:00:13s\n"
     ]
    },
    {
     "name": "stdout",
     "output_type": "stream",
     "text": [
      "epoch 159| loss: 0.14161 | train_mse: 0.13875 | train_mae: 0.26707 |  0:00:13s\n",
      "epoch 160| loss: 0.16917 | train_mse: 0.1191  | train_mae: 0.26175 |  0:00:13s\n",
      "epoch 161| loss: 0.13655 | train_mse: 0.11578 | train_mae: 0.23977 |  0:00:13s\n"
     ]
    },
    {
     "name": "stdout",
     "output_type": "stream",
     "text": [
      "epoch 162| loss: 0.16182 | train_mse: 0.09017 | train_mae: 0.22094 |  0:00:13s\n",
      "epoch 163| loss: 0.06557 | train_mse: 0.07328 | train_mae: 0.21456 |  0:00:13s\n",
      "epoch 164| loss: 0.17278 | train_mse: 0.07047 | train_mae: 0.21169 |  0:00:13s\n"
     ]
    },
    {
     "name": "stdout",
     "output_type": "stream",
     "text": [
      "epoch 165| loss: 0.20152 | train_mse: 0.06603 | train_mae: 0.20283 |  0:00:14s\n",
      "epoch 166| loss: 0.14701 | train_mse: 0.0666  | train_mae: 0.19925 |  0:00:14s\n",
      "epoch 167| loss: 0.09817 | train_mse: 0.06845 | train_mae: 0.20201 |  0:00:14s\n",
      "epoch 168| loss: 0.10147 | train_mse: 0.08846 | train_mae: 0.22478 |  0:00:14s\n"
     ]
    },
    {
     "name": "stdout",
     "output_type": "stream",
     "text": [
      "epoch 169| loss: 0.12677 | train_mse: 0.10483 | train_mae: 0.2434  |  0:00:14s\n",
      "epoch 170| loss: 0.11688 | train_mse: 0.08463 | train_mae: 0.22462 |  0:00:14s\n"
     ]
    },
    {
     "name": "stdout",
     "output_type": "stream",
     "text": [
      "epoch 171| loss: 0.13843 | train_mse: 0.08302 | train_mae: 0.23369 |  0:00:14s\n",
      "epoch 172| loss: 0.20944 | train_mse: 0.09693 | train_mae: 0.25013 |  0:00:14s\n",
      "epoch 173| loss: 0.10737 | train_mse: 0.07141 | train_mae: 0.21189 |  0:00:14s\n",
      "epoch 174| loss: 0.07152 | train_mse: 0.06336 | train_mae: 0.19612 |  0:00:14s\n"
     ]
    },
    {
     "name": "stdout",
     "output_type": "stream",
     "text": [
      "epoch 175| loss: 0.15739 | train_mse: 0.07552 | train_mae: 0.20742 |  0:00:14s\n",
      "epoch 176| loss: 0.15594 | train_mse: 0.07035 | train_mae: 0.20489 |  0:00:14s\n",
      "epoch 177| loss: 0.1169  | train_mse: 0.09188 | train_mae: 0.2357  |  0:00:14s\n",
      "\n",
      "Early stopping occurred at epoch 177 with best_epoch = 127 and best_train_mae = 0.19012\n",
      "Best weights from best epoch are automatically used!\n"
     ]
    }
   ],
   "source": [
    "#Train the Model\n",
    "\n",
    "Y_train = np.reshape(Y_train, (-1, 1))\n",
    "Y_test = np.reshape(Y_test, (-1, 1))\n",
    "\n",
    "prior_model = TabNetRegressor(optimizer_fn=torch.optim.Adam, optimizer_params=dict(lr = 0.02),\n",
    "          #scheduler_params={\"step_size\":10, ], \"gamma\":0.9},\n",
    "          #scheduler_fn=torch.optim.lr_scheduler.StepLR\n",
    "          )  #TabNetRegressor()\n",
    "\n",
    "prior_model.fit(X_train,Y_train,eval_set=[(X_train, Y_train)],\n",
    "            eval_name=['train'], \n",
    "            eval_metric=[ 'mse', 'mae'], \n",
    "            max_epochs = n_epochs, \n",
    "            batch_size = batch_size,\n",
    "            patience=50\n",
    "            )"
   ]
  },
  {
   "cell_type": "code",
   "execution_count": 10,
   "id": "af65dcda",
   "metadata": {
    "execution": {
     "iopub.execute_input": "2022-06-22T13:13:13.036241Z",
     "iopub.status.busy": "2022-06-22T13:13:13.035501Z",
     "iopub.status.idle": "2022-06-22T13:13:13.055953Z",
     "shell.execute_reply": "2022-06-22T13:13:13.056446Z"
    },
    "id": "af65dcda",
    "papermill": {
     "duration": 0.065518,
     "end_time": "2022-06-22T13:13:13.056653",
     "exception": false,
     "start_time": "2022-06-22T13:13:12.991135",
     "status": "completed"
    },
    "tags": []
   },
   "outputs": [
    {
     "data": {
      "application/scrapbook.scrap.json+json": {
       "data": 0.19407404122641714,
       "encoder": "json",
       "name": "Prior Model MSE",
       "version": 1
      }
     },
     "metadata": {
      "scrapbook": {
       "data": true,
       "display": false,
       "name": "Prior Model MSE"
      }
     },
     "output_type": "display_data"
    },
    {
     "data": {
      "application/scrapbook.scrap.json+json": {
       "data": 1.3620939086161363,
       "encoder": "json",
       "name": "ABC Pre-generator MSE",
       "version": 1
      }
     },
     "metadata": {
      "scrapbook": {
       "data": true,
       "display": false,
       "name": "ABC Pre-generator MSE"
      }
     },
     "output_type": "display_data"
    },
    {
     "data": {
      "application/scrapbook.scrap.json+json": {
       "data": 0.36605711822910897,
       "encoder": "json",
       "name": "Prior Model MSE",
       "version": 1
      }
     },
     "metadata": {
      "scrapbook": {
       "data": true,
       "display": false,
       "name": "Prior Model MSE"
      }
     },
     "output_type": "display_data"
    },
    {
     "data": {
      "application/scrapbook.scrap.json+json": {
       "data": 0.9189453696459875,
       "encoder": "json",
       "name": "ABC Pre-generator MSE",
       "version": 1
      }
     },
     "metadata": {
      "scrapbook": {
       "data": true,
       "display": false,
       "name": "ABC Pre-generator MSE"
      }
     },
     "output_type": "display_data"
    }
   ],
   "source": [
    "y_pred = prior_model.predict(X_test)\n",
    "y_abc = y_pred + np.random.normal(0,variance, y_pred.shape) + bias \n",
    "mse = mean_squared_error(y_pred,Y_test)\n",
    "sb.glue(\"Prior Model MSE\",mse)\n",
    "mse = mean_squared_error(y_abc,Y_test)\n",
    "sb.glue(\"ABC Pre-generator MSE\",mse)\n",
    "mae = mean_absolute_error(y_pred,Y_test)\n",
    "sb.glue(\"Prior Model MSE\",mae)\n",
    "mae = mean_absolute_error(y_abc,Y_test)\n",
    "sb.glue(\"ABC Pre-generator MSE\",mae)"
   ]
  },
  {
   "cell_type": "markdown",
   "id": "25609da2",
   "metadata": {
    "papermill": {
     "duration": 0.030146,
     "end_time": "2022-06-22T13:13:13.118956",
     "exception": false,
     "start_time": "2022-06-22T13:13:13.088810",
     "status": "completed"
    },
    "tags": []
   },
   "source": [
    "# ABC GAN Model"
   ]
  },
  {
   "cell_type": "code",
   "execution_count": 11,
   "id": "dfc3464d",
   "metadata": {
    "execution": {
     "iopub.execute_input": "2022-06-22T13:13:13.189595Z",
     "iopub.status.busy": "2022-06-22T13:13:13.188375Z",
     "iopub.status.idle": "2022-06-22T13:13:13.191834Z",
     "shell.execute_reply": "2022-06-22T13:13:13.192270Z"
    },
    "papermill": {
     "duration": 0.042821,
     "end_time": "2022-06-22T13:13:13.192499",
     "exception": false,
     "start_time": "2022-06-22T13:13:13.149678",
     "status": "completed"
    },
    "tags": []
   },
   "outputs": [],
   "source": [
    "gen = network.Generator(n_features+1).to(device)\n",
    "disc = network.Discriminator(n_features+1).to(device)\n",
    "\n",
    "criterion = torch.nn.BCELoss()\n",
    "gen_opt = torch.optim.Adam(gen.parameters(), lr=0.001, betas=(0.5, 0.999))\n",
    "disc_opt = torch.optim.Adam(disc.parameters(), lr=0.001, betas=(0.5, 0.999))"
   ]
  },
  {
   "cell_type": "code",
   "execution_count": 12,
   "id": "b75fdd85",
   "metadata": {
    "execution": {
     "iopub.execute_input": "2022-06-22T13:13:13.271774Z",
     "iopub.status.busy": "2022-06-22T13:13:13.270128Z",
     "iopub.status.idle": "2022-06-22T13:14:00.888063Z",
     "shell.execute_reply": "2022-06-22T13:14:00.888792Z"
    },
    "papermill": {
     "duration": 47.664767,
     "end_time": "2022-06-22T13:14:00.889133",
     "exception": false,
     "start_time": "2022-06-22T13:13:13.224366",
     "status": "completed"
    },
    "tags": []
   },
   "outputs": [
    {
     "data": {
      "image/png": "[encoded data removed]",
      "text/plain": [
       "<Figure size 432x288 with 1 Axes>"
      ]
     },
     "metadata": {
      "needs_background": "light"
     },
     "output_type": "display_data"
    },
    {
     "data": {
      "image/png": "[encoded data removed]",
      "text/plain": [
       "<Figure size 432x288 with 1 Axes>"
      ]
     },
     "metadata": {
      "needs_background": "light"
     },
     "output_type": "display_data"
    }
   ],
   "source": [
    "#Training the ABC_GAN \n",
    "ABC_train_test2.training_GAN(disc,gen,disc_opt,gen_opt,train_data,batch_size,n_epochs,criterion,prior_model,variance,bias,device)"
   ]
  },
  {
   "cell_type": "code",
   "execution_count": 13,
   "id": "1fa7c368",
   "metadata": {
    "execution": {
     "iopub.execute_input": "2022-06-22T13:14:00.968510Z",
     "iopub.status.busy": "2022-06-22T13:14:00.964569Z",
     "iopub.status.idle": "2022-06-22T13:14:01.691606Z",
     "shell.execute_reply": "2022-06-22T13:14:01.692097Z"
    },
    "papermill": {
     "duration": 0.771092,
     "end_time": "2022-06-22T13:14:01.692308",
     "exception": false,
     "start_time": "2022-06-22T13:14:00.921216",
     "status": "completed"
    },
    "tags": []
   },
   "outputs": [
    {
     "data": {
      "application/scrapbook.scrap.json+json": {
       "data": 0.24698163175510346,
       "encoder": "json",
       "name": "ABC-GAN Model 1 MSE",
       "version": 1
      }
     },
     "metadata": {
      "scrapbook": {
       "data": true,
       "display": false,
       "name": "ABC-GAN Model 1 MSE"
      }
     },
     "output_type": "display_data"
    },
    {
     "data": {
      "application/scrapbook.scrap.json+json": {
       "data": 0.352176030876115,
       "encoder": "json",
       "name": "ABC-GAN Model 1 MAE",
       "version": 1
      }
     },
     "metadata": {
      "scrapbook": {
       "data": true,
       "display": false,
       "name": "ABC-GAN Model 1 MAE"
      }
     },
     "output_type": "display_data"
    },
    {
     "data": {
      "application/scrapbook.scrap.json+json": {
       "data": 7.043520617522299,
       "encoder": "json",
       "name": "ABC-GAN Model 1 Manhattan Distance",
       "version": 1
      }
     },
     "metadata": {
      "scrapbook": {
       "data": true,
       "display": false,
       "name": "ABC-GAN Model 1 Manhattan Distance"
      }
     },
     "output_type": "display_data"
    },
    {
     "data": {
      "application/scrapbook.scrap.json+json": {
       "data": 2.2218633262479903,
       "encoder": "json",
       "name": "ABC-GAN Model 1 Euclidean distance",
       "version": 1
      }
     },
     "metadata": {
      "scrapbook": {
       "data": true,
       "display": false,
       "name": "ABC-GAN Model 1 Euclidean distance"
      }
     },
     "output_type": "display_data"
    },
    {
     "data": {
      "application/scrapbook.scrap.json+json": {
       "data": [
        [
         0.2578054316467504,
         0.24322828785428535,
         0.24861635126630727,
         0.2399216316137509,
         0.23919416802160817,
         0.24905492830063253,
         0.24946786102248358,
         0.2514325279735742,
         0.25302769961692717,
         0.22170657104997132,
         0.24297280721728373,
         0.2465620155062383,
         0.2447094729911042,
         0.24840060475089296,
         0.24596890525340073,
         0.24810471282523205,
         0.24772904118859004,
         0.25666722438193695,
         0.23596516203008394,
         0.2565218131196008,
         0.2404276294495685,
         0.22822059799619204,
         0.25070436114068007,
         0.254293505308391,
         0.2614469776043901,
         0.2338938796764909,
         0.2548344458005559,
         0.2544560665453459,
         0.2461952896711312,
         0.2554492445355743,
         0.24527612416558378,
         0.24998820686771564,
         0.25756108420429036,
         0.2409813483140864,
         0.2518766237320814,
         0.2271574499934777,
         0.2595624784318243,
         0.26642520830384664,
         0.2420073895264035,
         0.22257020937531635,
         0.25396945853838354,
         0.2659438170081067,
         0.23632489423609152,
         0.23524951691884946,
         0.23486710070611116,
         0.2495590871783,
         0.253072798787392,
         0.23458289220140469,
         0.26386016052376254,
         0.2606803748457305,
         0.24088709727834004,
         0.25347047016296054,
         0.24622691386827986,
         0.24734214246865838,
         0.2623372995078605,
         0.2538315749518701,
         0.24188809774360057,
         0.23312922653267684,
         0.251663532936979,
         0.26625675989825315,
         0.23843219506508428,
         0.265122092375708,
         0.22903140226000757,
         0.2323804527448242,
         0.25784480966738066,
         0.2565483852229984,
         0.24817655548787557,
         0.23511462762473162,
         0.23846646934554844,
         0.21871010221077306,
         0.23670555682488806,
         0.21929230511393985,
         0.24607885517760267,
         0.23132770376671546,
         0.24966807549643452,
         0.25011932474867826,
         0.2592266936714454,
         0.22638050434219964,
         0.2598582575053119,
         0.22352901117914156,
         0.24846048010487162,
         0.22016370202445734,
         0.2654222101737852,
         0.2540986021245548,
         0.24933012965870235,
         0.2548268607355334,
         0.2696528152627557,
         0.2501001398298851,
         0.2611464242676411,
         0.23093826901113995,
         0.2403836837745473,
         0.23607461102007607,
         0.2484965166833865,
         0.26210142383740564,
         0.24202740185609534,
         0.2483028297347901,
         0.2668636963503148,
         0.26235818874028644,
         0.2533876703108767,
         0.2564855856107398
        ],
        [
         0.354810431227088,
         0.35357089452445506,
         0.34805509857833383,
         0.3436710983514786,
         0.35549764074385165,
         0.34652578793466093,
         0.34520423635840414,
         0.35659794583916665,
         0.3520631488412619,
         0.3241280294954777,
         0.3537019345909357,
         0.34860030375421047,
         0.34775366820394993,
         0.35331336632370947,
         0.3549031510949135,
         0.3380393318831921,
         0.3544696047902107,
         0.36630437672138216,
         0.3386261221021414,
         0.3562845021486282,
         0.35147930309176445,
         0.3404633950442076,
         0.33851057961583136,
         0.35590377971529963,
         0.3622841343283653,
         0.34816090352833273,
         0.35783250741660594,
         0.3535411901772022,
         0.34781446419656276,
         0.3651462461799383,
         0.35093045309185983,
         0.35926709696650505,
         0.359151167050004,
         0.3537098985165358,
         0.35420922935009,
         0.3438969932496548,
         0.35494373366236687,
         0.36927146278321743,
         0.3483340572565794,
         0.34125143587589263,
         0.3614415179938078,
         0.3636365205049515,
         0.3453950174152851,
         0.3466542925685644,
         0.34735708087682726,
         0.3548912573605776,
         0.3607542395591736,
         0.3366424567997456,
         0.36111379154026507,
         0.3640910658985376,
         0.3556300584226847,
         0.36216008439660075,
         0.3526368040591478,
         0.3479231011122465,
         0.3581450182944536,
         0.364491955563426,
         0.34942055456340315,
         0.3463207006454468,
         0.35350763201713564,
         0.36433259695768355,
         0.3485585831105709,
         0.3606109667569399,
         0.3273600250482559,
         0.3500801224261522,
         0.3551805425435305,
         0.3616116255521774,
         0.3545808751136065,
         0.35032132603228094,
         0.3550631418824196,
         0.33191475458443165,
         0.3507691197097301,
         0.32863199561834333,
         0.3525749895721674,
         0.3481366839259863,
         0.3560792997479439,
         0.35452287960797546,
         0.35507163107395173,
         0.33192425444722173,
         0.35689737033098934,
         0.34048642218112946,
         0.3565820250660181,
         0.33573171831667425,
         0.36628998517990113,
         0.3580734200775623,
         0.34857273697853086,
         0.3587892778217793,
         0.3717369962483644,
         0.348141198605299,
         0.36271809339523314,
         0.34880821481347085,
         0.34743956960737704,
         0.3428516548126936,
         0.3563154559582472,
         0.3572887174785137,
         0.351022756844759,
         0.3573539361357689,
         0.36560646295547483,
         0.357089664041996,
         0.3611676374450326,
         0.35087850540876386
        ],
        [
         7.0962086245417595,
         7.071417890489101,
         6.961101971566677,
         6.8734219670295715,
         7.109952814877033,
         6.930515758693218,
         6.904084727168083,
         7.131958916783333,
         7.041262976825237,
         6.4825605899095535,
         7.074038691818714,
         6.972006075084209,
         6.955073364078999,
         7.06626732647419,
         7.09806302189827,
         6.760786637663841,
         7.0893920958042145,
         7.326087534427643,
         6.772522442042828,
         7.125690042972565,
         7.029586061835289,
         6.8092679008841515,
         6.7702115923166275,
         7.118075594305992,
         7.2456826865673065,
         6.963218070566654,
         7.156650148332119,
         7.0708238035440445,
         6.956289283931255,
         7.302924923598766,
         7.018609061837196,
         7.185341939330101,
         7.18302334100008,
         7.074197970330715,
         7.0841845870018005,
         6.877939864993095,
         7.098874673247337,
         7.385429255664349,
         6.966681145131588,
         6.825028717517853,
         7.228830359876156,
         7.2727304100990295,
         6.907900348305702,
         6.933085851371288,
         6.947141617536545,
         7.097825147211552,
         7.215084791183472,
         6.732849135994911,
         7.222275830805302,
         7.281821317970753,
         7.112601168453693,
         7.2432016879320145,
         7.052736081182957,
         6.95846202224493,
         7.162900365889072,
         7.28983911126852,
         6.988411091268063,
         6.9264140129089355,
         7.070152640342712,
         7.286651939153671,
         6.971171662211418,
         7.212219335138798,
         6.547200500965118,
         7.001602448523045,
         7.103610850870609,
         7.232232511043549,
         7.091617502272129,
         7.006426520645618,
         7.101262837648392,
         6.638295091688633,
         7.015382394194603,
         6.572639912366867,
         7.051499791443348,
         6.962733678519726,
         7.121585994958878,
         7.09045759215951,
         7.101432621479034,
         6.638485088944435,
         7.137947406619787,
         6.809728443622589,
         7.131640501320362,
         6.714634366333485,
         7.3257997035980225,
         7.161468401551247,
         6.971454739570618,
         7.175785556435585,
         7.434739924967289,
         6.96282397210598,
         7.254361867904663,
         6.976164296269417,
         6.948791392147541,
         6.857033096253872,
         7.126309119164944,
         7.145774349570274,
         7.02045513689518,
         7.147078722715378,
         7.312129259109497,
         7.14179328083992,
         7.223352748900652,
         7.017570108175278
        ],
        [
         2.270706637356532,
         2.2055760601452192,
         2.2298715266414217,
         2.1905324997075524,
         2.187209034461993,
         2.2318374864699826,
         2.2336869119126055,
         2.2424652861240646,
         2.249567512287316,
         2.105737737943504,
         2.2044174160865437,
         2.2206396173455896,
         2.2122815055553136,
         2.228903787743621,
         2.217967110907647,
         2.2275758699771915,
         2.225888771653202,
         2.2656885239676567,
         2.1723957375675544,
         2.2650466358095183,
         2.1928412138117457,
         2.136448445416795,
         2.239215760665685,
         2.2551873771746376,
         2.2866874627040317,
         2.162840168281008,
         2.2575847527858435,
         2.2559080945169105,
         2.218987560447923,
         2.2603063709841384,
         2.214841412677593,
         2.2360152363868884,
         2.2696302967853175,
         2.195364882264843,
         2.244444803206715,
         2.131466396608108,
         2.2784313833505028,
         2.308355294593303,
         2.200033588499973,
         2.109835109079931,
         2.25375002401945,
         2.306268921908747,
         2.1740510308458334,
         2.16909896924437,
         2.167335233442723,
         2.2340952852476996,
         2.2497679826479526,
         2.1660235095741904,
         2.2972164047984793,
         2.2833325419033055,
         2.1949355219611353,
         2.2515348994095583,
         2.219130072205232,
         2.2241499161192277,
         2.2905776542516976,
         2.2531381446856296,
         2.1994912945660894,
         2.1593018618649724,
         2.2434951880357534,
         2.3076254457699723,
         2.183722487245503,
         2.302703160964122,
         2.140240183998084,
         2.1558314068814575,
         2.2708800482076574,
         2.2651639464859863,
         2.2278983616308694,
         2.1684770122126342,
         2.183879435067552,
         2.091459309720239,
         2.1758012630977492,
         2.094241175767203,
         2.2184627793929863,
         2.150942601589896,
         2.2345830729531384,
         2.236601550337826,
         2.2769571523041243,
         2.1278181517328947,
         2.2797291835010225,
         2.114374664902801,
         2.2291724029552835,
         2.098397969997385,
         2.304006120537813,
         2.254322967653725,
         2.2330702168033247,
         2.257551154395104,
         2.3222954819004222,
         2.2365157715960113,
         2.285372723507661,
         2.1491313082784864,
         2.192640799467835,
         2.172899496157501,
         2.229334056095616,
         2.289547657671295,
         2.2001245503657074,
         2.2284650759425872,
         2.3102540827810034,
         2.290668848787561,
         2.251167120899187,
         2.2648866886038244
        ]
       ],
       "encoder": "json",
       "name": "ABC_GAN_1 Metrics",
       "version": 1
      }
     },
     "metadata": {
      "scrapbook": {
       "data": true,
       "display": false,
       "name": "ABC_GAN_1 Metrics"
      }
     },
     "output_type": "display_data"
    },
    {
     "name": "stdout",
     "output_type": "stream",
     "text": [
      "MSE\n",
      "0.24698163175510346\n"
     ]
    }
   ],
   "source": [
    "ABC_GAN1_metrics=ABC_train_test2.test_generator(gen,test_data,prior_model,variance,bias,\"1\",device)\n",
    "sb.glue(\"ABC_GAN_1 Metrics\",ABC_GAN1_metrics)\n",
    "\n",
    "print(\"MSE\")\n",
    "print(mean(ABC_GAN1_metrics[0]))"
   ]
  },
  {
   "cell_type": "code",
   "execution_count": 14,
   "id": "eb22ce5c",
   "metadata": {
    "execution": {
     "iopub.execute_input": "2022-06-22T13:14:01.860775Z",
     "iopub.status.busy": "2022-06-22T13:14:01.852020Z",
     "iopub.status.idle": "2022-06-22T13:14:02.692250Z",
     "shell.execute_reply": "2022-06-22T13:14:02.693010Z"
    },
    "papermill": {
     "duration": 0.966492,
     "end_time": "2022-06-22T13:14:02.693926",
     "exception": false,
     "start_time": "2022-06-22T13:14:01.727434",
     "status": "completed"
    },
    "tags": []
   },
   "outputs": [
    {
     "data": {
      "image/png": "[encoded data removed]",
      "text/plain": [
       "<Figure size 432x288 with 1 Axes>"
      ]
     },
     "metadata": {
      "needs_background": "light"
     },
     "output_type": "display_data"
    },
    {
     "data": {
      "image/png": "[encoded data removed]",
      "text/plain": [
       "<Figure size 432x288 with 1 Axes>"
      ]
     },
     "metadata": {
      "needs_background": "light"
     },
     "output_type": "display_data"
    },
    {
     "data": {
      "image/png": "[encoded data removed]",
      "text/plain": [
       "<Figure size 432x288 with 1 Axes>"
      ]
     },
     "metadata": {
      "needs_background": "light"
     },
     "output_type": "display_data"
    },
    {
     "data": {
      "image/png": "[encoded data removed]",
      "text/plain": [
       "<Figure size 432x288 with 1 Axes>"
      ]
     },
     "metadata": {
      "needs_background": "light"
     },
     "output_type": "display_data"
    }
   ],
   "source": [
    "sanityChecks.discProbVsError(train_data,disc,device)\n",
    "sanityChecks.discProbVsError(test_data,disc,device)"
   ]
  },
  {
   "cell_type": "markdown",
   "id": "130f3a4d",
   "metadata": {
    "id": "130f3a4d",
    "papermill": {
     "duration": 0.059454,
     "end_time": "2022-06-22T13:14:02.799088",
     "exception": false,
     "start_time": "2022-06-22T13:14:02.739634",
     "status": "completed"
    },
    "tags": []
   },
   "source": [
    "# ABC - GAN Model with skip connection"
   ]
  },
  {
   "cell_type": "code",
   "execution_count": 15,
   "id": "4e43dad1",
   "metadata": {
    "execution": {
     "iopub.execute_input": "2022-06-22T13:14:02.942446Z",
     "iopub.status.busy": "2022-06-22T13:14:02.940677Z",
     "iopub.status.idle": "2022-06-22T13:14:02.945668Z",
     "shell.execute_reply": "2022-06-22T13:14:02.946256Z"
    },
    "id": "4e43dad1",
    "papermill": {
     "duration": 0.079661,
     "end_time": "2022-06-22T13:14:02.946492",
     "exception": false,
     "start_time": "2022-06-22T13:14:02.866831",
     "status": "completed"
    },
    "tags": []
   },
   "outputs": [],
   "source": [
    "#Generator\n",
    "gen3 = network.GeneratorWithSkipConnection(n_features+1).to(device)\n",
    "constraints=network.weightConstraint()\n",
    "#Discriminator \n",
    "disc3 = network.Discriminator(n_features+1).to(device)\n",
    "\n",
    "criterion = torch.nn.BCELoss()\n",
    "gen_opt = torch.optim.Adam(gen3.parameters(), lr=0.001, betas=(0.5, 0.999))\n",
    "disc_opt = torch.optim.Adam(disc3.parameters(), lr=0.001, betas=(0.5, 0.999))\n"
   ]
  },
  {
   "cell_type": "code",
   "execution_count": 16,
   "id": "26acbc37",
   "metadata": {
    "execution": {
     "iopub.execute_input": "2022-06-22T13:14:03.037104Z",
     "iopub.status.busy": "2022-06-22T13:14:03.036394Z",
     "iopub.status.idle": "2022-06-22T13:15:49.666663Z",
     "shell.execute_reply": "2022-06-22T13:15:49.667588Z"
    },
    "id": "26acbc37",
    "papermill": {
     "duration": 106.680519,
     "end_time": "2022-06-22T13:15:49.668114",
     "exception": false,
     "start_time": "2022-06-22T13:14:02.987595",
     "status": "completed"
    },
    "tags": []
   },
   "outputs": [
    {
     "data": {
      "image/png": "[encoded data removed]",
      "text/plain": [
       "<Figure size 432x288 with 1 Axes>"
      ]
     },
     "metadata": {
      "needs_background": "light"
     },
     "output_type": "display_data"
    },
    {
     "data": {
      "image/png": "[encoded data removed]",
      "text/plain": [
       "<Figure size 432x288 with 1 Axes>"
      ]
     },
     "metadata": {
      "needs_background": "light"
     },
     "output_type": "display_data"
    }
   ],
   "source": [
    "ABC_train_test2.training_GAN_skip_connection(disc3,gen3,disc_opt,gen_opt,train_data,batch_size,n_epochs,criterion,prior_model,variance,bias,device)"
   ]
  },
  {
   "cell_type": "code",
   "execution_count": 17,
   "id": "c5e0717b",
   "metadata": {
    "execution": {
     "iopub.execute_input": "2022-06-22T13:15:49.816069Z",
     "iopub.status.busy": "2022-06-22T13:15:49.815303Z",
     "iopub.status.idle": "2022-06-22T13:15:50.956429Z",
     "shell.execute_reply": "2022-06-22T13:15:50.957114Z"
    },
    "id": "c5e0717b",
    "papermill": {
     "duration": 1.22673,
     "end_time": "2022-06-22T13:15:50.957382",
     "exception": false,
     "start_time": "2022-06-22T13:15:49.730652",
     "status": "completed"
    },
    "tags": []
   },
   "outputs": [
    {
     "data": {
      "application/scrapbook.scrap.json+json": {
       "data": 0.19561468517746755,
       "encoder": "json",
       "name": "ABC-GAN Model 3 MSE",
       "version": 1
      }
     },
     "metadata": {
      "scrapbook": {
       "data": true,
       "display": false,
       "name": "ABC-GAN Model 3 MSE"
      }
     },
     "output_type": "display_data"
    },
    {
     "data": {
      "application/scrapbook.scrap.json+json": {
       "data": 0.3282923347875476,
       "encoder": "json",
       "name": "ABC-GAN Model 3 MAE",
       "version": 1
      }
     },
     "metadata": {
      "scrapbook": {
       "data": true,
       "display": false,
       "name": "ABC-GAN Model 3 MAE"
      }
     },
     "output_type": "display_data"
    },
    {
     "data": {
      "application/scrapbook.scrap.json+json": {
       "data": 6.565846695750952,
       "encoder": "json",
       "name": "ABC-GAN Model 3 Manhattan Distance",
       "version": 1
      }
     },
     "metadata": {
      "scrapbook": {
       "data": true,
       "display": false,
       "name": "ABC-GAN Model 3 Manhattan Distance"
      }
     },
     "output_type": "display_data"
    },
    {
     "data": {
      "application/scrapbook.scrap.json+json": {
       "data": 1.9769851480138858,
       "encoder": "json",
       "name": "ABC-GAN Model 3 Euclidean distance",
       "version": 1
      }
     },
     "metadata": {
      "scrapbook": {
       "data": true,
       "display": false,
       "name": "ABC-GAN Model 3 Euclidean distance"
      }
     },
     "output_type": "display_data"
    },
    {
     "data": {
      "application/scrapbook.scrap.json+json": {
       "data": [
        [
         0.19950292459146218,
         0.21796095736456436,
         0.19943148808564085,
         0.20057489380261506,
         0.19765796521507356,
         0.20316324596715343,
         0.1906660007842408,
         0.19911874161212523,
         0.20060140220331993,
         0.205103010712115,
         0.20455029086295493,
         0.19225794245732813,
         0.1990259850375829,
         0.20097094557231454,
         0.19691355806576466,
         0.21319388539234385,
         0.20174504559266335,
         0.18551971254777183,
         0.1818930216622598,
         0.20926072026655254,
         0.18227068558468568,
         0.21208961494373532,
         0.17891310998664062,
         0.19749019481171265,
         0.19402934950438344,
         0.18068263258075917,
         0.19527750879247247,
         0.20344778358175217,
         0.20645698319832673,
         0.17269623537722198,
         0.1888291043527896,
         0.18009847023664838,
         0.20846894690038537,
         0.19889700241641944,
         0.20133662142743583,
         0.17918238478391474,
         0.1906172430532845,
         0.16753219539289604,
         0.20004803116482725,
         0.20191104436574636,
         0.18874422759594095,
         0.19872218170385159,
         0.182551526799754,
         0.19542997993399677,
         0.1690214633638983,
         0.18762717689377428,
         0.21518976516495947,
         0.19800853186207426,
         0.19173117938548243,
         0.21018215109597657,
         0.16950721990115775,
         0.18792381138532735,
         0.20498565664963234,
         0.19943420148355856,
         0.1919447235503214,
         0.17400066953197418,
         0.19374026225190324,
         0.19759227559328738,
         0.21791691830065235,
         0.2124156657504686,
         0.1842461634111266,
         0.15894856553789777,
         0.2154290087319423,
         0.20124767392425716,
         0.17647584826990093,
         0.1945114905358382,
         0.1933526601338352,
         0.18502002843562373,
         0.21813083478091916,
         0.19383816202138857,
         0.18635098123643892,
         0.2088496880625942,
         0.2111826191112319,
         0.19568154437881705,
         0.19523317032081006,
         0.1992180629288094,
         0.19554847886004825,
         0.19273661510290796,
         0.19508883950499206,
         0.20511685205946167,
         0.1983999310020031,
         0.19033938159202526,
         0.17367337358661236,
         0.1938007283392913,
         0.20981560616892944,
         0.2037307844693917,
         0.1865981562279161,
         0.20494404634742605,
         0.22470985438861288,
         0.18428382288439432,
         0.1971177710454978,
         0.2112149179723291,
         0.19550398904131416,
         0.1814077134872929,
         0.1927334377150271,
         0.18966077726364436,
         0.1976064408990724,
         0.201601524359184,
         0.19338325463774128,
         0.19867925052033075
        ],
        [
         0.3201464205980301,
         0.3646667130291462,
         0.3208238646388054,
         0.3399962268769741,
         0.33143857419490813,
         0.33802512660622597,
         0.3236969232559204,
         0.34595832973718643,
         0.3415515497326851,
         0.3358438596129417,
         0.3369813308119774,
         0.3232915610074997,
         0.3322939157485962,
         0.32368671223521234,
         0.33572410270571706,
         0.3481909386813641,
         0.33517860770225527,
         0.31657681465148924,
         0.29563378244638444,
         0.3509658306837082,
         0.3123527064919472,
         0.33203490525484086,
         0.3115838259458542,
         0.32351423874497415,
         0.32590410113334656,
         0.31422368735074996,
         0.3261758483946323,
         0.3369354233145714,
         0.3365099415183067,
         0.292052561044693,
         0.3172512598335743,
         0.30103230476379395,
         0.3442870229482651,
         0.3537337899208069,
         0.34275363236665723,
         0.30907381400465966,
         0.3225049778819084,
         0.2985112853348255,
         0.35105429887771605,
         0.34544999748468397,
         0.31196355149149896,
         0.33549297600984573,
         0.30913753882050515,
         0.3303820267319679,
         0.2949905462563038,
         0.3432064577937126,
         0.35386615842580793,
         0.3307618357241154,
         0.3413707762956619,
         0.3558086112141609,
         0.31821348816156386,
         0.3181580312550068,
         0.34574305936694144,
         0.3361139237880707,
         0.3153757467865944,
         0.30636756122112274,
         0.31550950929522514,
         0.33087711185216906,
         0.35488148778676987,
         0.3551278501749039,
         0.30500025004148484,
         0.30193896070122717,
         0.3311602294445038,
         0.32838810980319977,
         0.29811171591281893,
         0.3236963011324406,
         0.3236292630434036,
         0.30904857963323595,
         0.3621991954743862,
         0.3352831229567528,
         0.3228550672531128,
         0.3508808590471745,
         0.3512981735169888,
         0.3196195110678673,
         0.32252292111516,
         0.32981390953063966,
         0.3324704885482788,
         0.3130918189883232,
         0.3230524204671383,
         0.32529052421450616,
         0.3411734372377396,
         0.3208619952201843,
         0.3088277578353882,
         0.31861652433872223,
         0.343441129475832,
         0.3278136357665062,
         0.31049664989113807,
         0.33265137672424316,
         0.366411891579628,
         0.3181242510676384,
         0.3196440443396568,
         0.353281258046627,
         0.34359236136078836,
         0.3119338482618332,
         0.32253183126449586,
         0.3055351436138153,
         0.33474023193120955,
         0.32703823298215867,
         0.32798282504081727,
         0.32422457486391065
        ],
        [
         6.402928411960602,
         7.293334260582924,
         6.416477292776108,
         6.799924537539482,
         6.628771483898163,
         6.760502532124519,
         6.473938465118408,
         6.919166594743729,
         6.831030994653702,
         6.716877192258835,
         6.739626616239548,
         6.465831220149994,
         6.645878314971924,
         6.4737342447042465,
         6.714482054114342,
         6.963818773627281,
         6.703572154045105,
         6.331536293029785,
         5.912675648927689,
         7.019316613674164,
         6.2470541298389435,
         6.640698105096817,
         6.231676518917084,
         6.470284774899483,
         6.518082022666931,
         6.284473747014999,
         6.523516967892647,
         6.738708466291428,
         6.730198830366135,
         5.84105122089386,
         6.345025196671486,
         6.020646095275879,
         6.8857404589653015,
         7.074675798416138,
         6.855072647333145,
         6.181476280093193,
         6.450099557638168,
         5.97022570669651,
         7.021085977554321,
         6.90899994969368,
         6.239271029829979,
         6.709859520196915,
         6.182750776410103,
         6.6076405346393585,
         5.899810925126076,
         6.864129155874252,
         7.077323168516159,
         6.615236714482307,
         6.8274155259132385,
         7.116172224283218,
         6.3642697632312775,
         6.363160625100136,
         6.914861187338829,
         6.722278475761414,
         6.307514935731888,
         6.127351224422455,
         6.310190185904503,
         6.617542237043381,
         7.097629755735397,
         7.102557003498077,
         6.100005000829697,
         6.038779214024544,
         6.623204588890076,
         6.567762196063995,
         5.962234318256378,
         6.473926022648811,
         6.4725852608680725,
         6.180971592664719,
         7.243983909487724,
         6.7056624591350555,
         6.457101345062256,
         7.017617180943489,
         7.025963470339775,
         6.392390221357346,
         6.4504584223032,
         6.596278190612793,
         6.649409770965576,
         6.261836379766464,
         6.461048409342766,
         6.505810484290123,
         6.823468744754791,
         6.4172399044036865,
         6.176555156707764,
         6.372330486774445,
         6.86882258951664,
         6.556272715330124,
         6.2099329978227615,
         6.653027534484863,
         7.32823783159256,
         6.362485021352768,
         6.392880886793137,
         7.065625160932541,
         6.871847227215767,
         6.238676965236664,
         6.450636625289917,
         6.110702872276306,
         6.694804638624191,
         6.540764659643173,
         6.559656500816345,
         6.4844914972782135
        ],
        [
         1.9975130767605112,
         2.0878743130972435,
         1.9971554175158268,
         2.0028724063335392,
         1.9882553418264644,
         2.0157541812788256,
         1.9527723921862516,
         1.9955888434851767,
         2.0030047538801297,
         2.025354342884795,
         2.0226234986420724,
         1.9609076595155017,
         1.9951239812983195,
         2.0048488500249317,
         1.9845077881719924,
         2.0649159081780732,
         2.0087062781435385,
         1.9262383681557784,
         1.9073176015664501,
         2.0457796570821234,
         1.909296653664305,
         2.05956119085467,
         1.8916295091092261,
         1.9874113555663941,
         1.9699205542578788,
         1.9009609810869825,
         1.9762464866128033,
         2.017165256401925,
         2.0320284604223766,
         1.8584737575614136,
         1.9433430183721536,
         1.8978855088579414,
         2.041905712320651,
         1.9944773872692536,
         2.006671978313525,
         1.893052480962505,
         1.9525226915623004,
         1.8304764155426643,
         2.000240141407162,
         2.009532504667423,
         1.942906212846832,
         1.9936006706652742,
         1.9107670020164884,
         1.977017854921886,
         1.8385943726874523,
         1.9371483004342969,
         2.0745590623790853,
         1.9900177479714811,
         1.9582194942624915,
         2.050278766880136,
         1.8412344766550388,
         1.9386789903711616,
         2.02477483513418,
         1.9971690037828975,
         1.9593096924698832,
         1.8654793996824204,
         1.968452500071583,
         1.9879249261140992,
         2.0876633746878466,
         2.06114369101462,
         1.9196153959120381,
         1.7829669965419874,
         2.0757119681301752,
         2.0062286705371206,
         1.8787008717190765,
         1.972366550800526,
         1.966482444029619,
         1.9236425262279044,
         2.0886877927585017,
         1.9689497810832484,
         1.9305490474807363,
         2.0437694980725896,
         2.055152642074218,
         1.9782898896714658,
         1.9760221168843735,
         1.996086485745592,
         1.9776171462649097,
         1.9633472189243957,
         1.9752915709079106,
         2.0254226821059436,
         1.9919835892998872,
         1.9510990830402501,
         1.8637240868036897,
         1.9687596518584551,
         2.0484902058293053,
         2.0185677321774054,
         1.9318289584117745,
         2.024569318879579,
         2.119952142802346,
         1.919811568276399,
         1.9855365574347794,
         2.0553097964653846,
         1.9773921666746541,
         1.9047714481653324,
         1.9633310353326925,
         1.9476179156274178,
         1.987996181581204,
         2.007991655157879,
         1.9666380177233493,
         1.9933853140842126
        ]
       ],
       "encoder": "json",
       "name": "ABC_GAN_3 Metrics",
       "version": 1
      }
     },
     "metadata": {
      "scrapbook": {
       "data": true,
       "display": false,
       "name": "ABC_GAN_3 Metrics"
      }
     },
     "output_type": "display_data"
    },
    {
     "name": "stdout",
     "output_type": "stream",
     "text": [
      "MSE\n",
      "0.19561468517746755\n"
     ]
    }
   ],
   "source": [
    "ABC_GAN3_metrics=ABC_train_test2.test_generator(gen3,test_data,prior_model,variance,bias,\"3\",device)\n",
    "sb.glue(\"ABC_GAN_3 Metrics\",ABC_GAN3_metrics)\n",
    "\n",
    "print(\"MSE\")\n",
    "print(mean(ABC_GAN3_metrics[0]))"
   ]
  },
  {
   "cell_type": "code",
   "execution_count": 18,
   "id": "c8e46b48",
   "metadata": {
    "execution": {
     "iopub.execute_input": "2022-06-22T13:15:51.103991Z",
     "iopub.status.busy": "2022-06-22T13:15:51.101699Z",
     "iopub.status.idle": "2022-06-22T13:15:53.138241Z",
     "shell.execute_reply": "2022-06-22T13:15:53.138981Z"
    },
    "id": "c8e46b48",
    "papermill": {
     "duration": 2.123649,
     "end_time": "2022-06-22T13:15:53.139238",
     "exception": false,
     "start_time": "2022-06-22T13:15:51.015589",
     "status": "completed"
    },
    "tags": []
   },
   "outputs": [
    {
     "data": {
      "image/png": "[encoded data removed]",
      "text/plain": [
       "<Figure size 432x288 with 1 Axes>"
      ]
     },
     "metadata": {
      "needs_background": "light"
     },
     "output_type": "display_data"
    },
    {
     "data": {
      "image/png": "[encoded data removed]",
      "text/plain": [
       "<Figure size 432x288 with 1 Axes>"
      ]
     },
     "metadata": {
      "needs_background": "light"
     },
     "output_type": "display_data"
    },
    {
     "data": {
      "image/png": "[encoded data removed]",
      "text/plain": [
       "<Figure size 432x288 with 1 Axes>"
      ]
     },
     "metadata": {
      "needs_background": "light"
     },
     "output_type": "display_data"
    },
    {
     "data": {
      "image/png": "[encoded data removed]",
      "text/plain": [
       "<Figure size 432x288 with 1 Axes>"
      ]
     },
     "metadata": {
      "needs_background": "light"
     },
     "output_type": "display_data"
    }
   ],
   "source": [
    "sanityChecks.discProbVsError(train_data,disc3,device)\n",
    "sanityChecks.discProbVsError(test_data,disc3,device)"
   ]
  },
  {
   "cell_type": "markdown",
   "id": "a5bd74c3",
   "metadata": {
    "id": "a5bd74c3",
    "papermill": {
     "duration": 0.103695,
     "end_time": "2022-06-22T13:15:53.338145",
     "exception": false,
     "start_time": "2022-06-22T13:15:53.234450",
     "status": "completed"
    },
    "tags": []
   },
   "source": [
    "## Skip Connection Model Analysis - ABC-GAN "
   ]
  },
  {
   "cell_type": "markdown",
   "id": "5744a8bf",
   "metadata": {
    "id": "5744a8bf",
    "papermill": {
     "duration": 0.099888,
     "end_time": "2022-06-22T13:15:53.559705",
     "exception": false,
     "start_time": "2022-06-22T13:15:53.459817",
     "status": "completed"
    },
    "tags": []
   },
   "source": [
    "### Weight Analysis \n",
    "\n",
    "Study the weights of the skip connection layer\n",
    "\n",
    "Equation of the skip connection is \n",
    "\n",
    "$output = y_{gan} * w + y_{abc} * (1-w)$"
   ]
  },
  {
   "cell_type": "code",
   "execution_count": 19,
   "id": "52c31dea",
   "metadata": {
    "execution": {
     "iopub.execute_input": "2022-06-22T13:15:54.480838Z",
     "iopub.status.busy": "2022-06-22T13:15:54.474245Z",
     "iopub.status.idle": "2022-06-22T13:15:54.492201Z",
     "shell.execute_reply": "2022-06-22T13:15:54.482858Z"
    },
    "id": "52c31dea",
    "papermill": {
     "duration": 0.477958,
     "end_time": "2022-06-22T13:15:54.492975",
     "exception": false,
     "start_time": "2022-06-22T13:15:54.015017",
     "status": "completed"
    },
    "tags": []
   },
   "outputs": [
    {
     "name": "stdout",
     "output_type": "stream",
     "text": [
      "Weight of the node at skip connection\n",
      "Parameter containing:\n",
      "tensor([[0.4766]], requires_grad=True)\n"
     ]
    },
    {
     "data": {
      "application/scrapbook.scrap.json+json": {
       "data": 0.476605087518692,
       "encoder": "json",
       "name": "Skip Connection Weight",
       "version": 1
      }
     },
     "metadata": {
      "scrapbook": {
       "data": true,
       "display": false,
       "name": "Skip Connection Weight"
      }
     },
     "output_type": "display_data"
    }
   ],
   "source": [
    "print(\"Weight of the node at skip connection\")\n",
    "for name,param in gen3.named_parameters():\n",
    "    if(name == \"skipNode.weight\"):\n",
    "        print(param)\n",
    "        sb.glue(\"Skip Connection Weight\",param.item())"
   ]
  }
 ],
 "metadata": {
  "colab": {
   "collapsed_sections": [],
   "name": "ABC_GAN_Model-Catboost_Pre-gen.ipynb",
   "provenance": []
  },
  "interpreter": {
   "hash": "31f2aee4e71d21fbe5cf8b01ff0e069b9275f58929596ceb00d14d90e3e16cd6"
  },
  "kernelspec": {
   "display_name": "Python 3 (ipykernel)",
   "language": "python",
   "name": "python3"
  },
  "language_info": {
   "codemirror_mode": {
    "name": "ipython",
    "version": 3
   },
   "file_extension": ".py",
   "mimetype": "text/x-python",
   "name": "python",
   "nbconvert_exporter": "python",
   "pygments_lexer": "ipython3",
   "version": "3.8.3"
  },
  "papermill": {
   "default_parameters": {},
   "duration": 189.015331,
   "end_time": "2022-06-22T13:15:56.956559",
   "environment_variables": {},
   "exception": null,
   "input_path": "ABC_GAN-TabNet.ipynb",
   "output_path": "./ABC_GAN_TabNet/ABC-GAN_output_4_6.ipynb",
   "parameters": {
    "bias": 0.01,
    "variance": 1
   },
   "start_time": "2022-06-22T13:12:47.941228",
   "version": "2.3.3"
  }
 },
 "nbformat": 4,
 "nbformat_minor": 5
}