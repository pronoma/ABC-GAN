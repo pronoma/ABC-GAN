{
 "cells": [
  {
   "cell_type": "markdown",
   "id": "622780e6",
   "metadata": {
    "id": "622780e6",
    "papermill": {
     "duration": 0.056221,
     "end_time": "2022-06-22T13:16:05.631030",
     "exception": false,
     "start_time": "2022-06-22T13:16:05.574809",
     "status": "completed"
    },
    "tags": []
   },
   "source": [
    "## Import Libraries "
   ]
  },
  {
   "cell_type": "code",
   "execution_count": 1,
   "id": "a62397e3",
   "metadata": {
    "execution": {
     "iopub.execute_input": "2022-06-22T13:16:05.711691Z",
     "iopub.status.busy": "2022-06-22T13:16:05.710183Z",
     "iopub.status.idle": "2022-06-22T13:16:05.713546Z",
     "shell.execute_reply": "2022-06-22T13:16:05.714359Z"
    },
    "id": "a62397e3",
    "papermill": {
     "duration": 0.054062,
     "end_time": "2022-06-22T13:16:05.714758",
     "exception": false,
     "start_time": "2022-06-22T13:16:05.660696",
     "status": "completed"
    },
    "tags": []
   },
   "outputs": [],
   "source": [
    "import warnings\n",
    "import sys\n",
    "sys.path.insert(0, '../../src')\n",
    "warnings.filterwarnings('ignore')"
   ]
  },
  {
   "cell_type": "code",
   "execution_count": 2,
   "id": "d6a4e155",
   "metadata": {
    "execution": {
     "iopub.execute_input": "2022-06-22T13:16:05.771530Z",
     "iopub.status.busy": "2022-06-22T13:16:05.768883Z",
     "iopub.status.idle": "2022-06-22T13:16:13.805186Z",
     "shell.execute_reply": "2022-06-22T13:16:13.805808Z"
    },
    "id": "d6a4e155",
    "papermill": {
     "duration": 8.072289,
     "end_time": "2022-06-22T13:16:13.806074",
     "exception": false,
     "start_time": "2022-06-22T13:16:05.733785",
     "status": "completed"
    },
    "tags": []
   },
   "outputs": [],
   "source": [
    "import ABC_train_test2\n",
    "import friedman3Dataset\n",
    "import network\n",
    "import dataset\n",
    "import sanityChecks\n",
    "import torch \n",
    "import scrapbook as sb\n",
    "from statistics import mean \n",
    "import catboost as ctb \n",
    "from sklearn.model_selection import train_test_split\n",
    "from sklearn.metrics import mean_squared_error,mean_absolute_error\n",
    "import numpy as np\n",
    "from pytorch_tabnet.tab_model import TabNetRegressor"
   ]
  },
  {
   "cell_type": "markdown",
   "id": "2fa5b0f7",
   "metadata": {
    "id": "2fa5b0f7",
    "papermill": {
     "duration": 0.022734,
     "end_time": "2022-06-22T13:16:13.845663",
     "exception": false,
     "start_time": "2022-06-22T13:16:13.822929",
     "status": "completed"
    },
    "tags": []
   },
   "source": [
    "## Parameters "
   ]
  },
  {
   "cell_type": "code",
   "execution_count": 3,
   "id": "783186fb",
   "metadata": {
    "execution": {
     "iopub.execute_input": "2022-06-22T13:16:13.891755Z",
     "iopub.status.busy": "2022-06-22T13:16:13.888710Z",
     "iopub.status.idle": "2022-06-22T13:16:13.893130Z",
     "shell.execute_reply": "2022-06-22T13:16:13.892514Z"
    },
    "id": "783186fb",
    "papermill": {
     "duration": 0.026686,
     "end_time": "2022-06-22T13:16:13.893428",
     "exception": false,
     "start_time": "2022-06-22T13:16:13.866742",
     "status": "completed"
    },
    "tags": [
     "parameters"
    ]
   },
   "outputs": [],
   "source": [
    "variance = 1\n",
    "bias = 1 "
   ]
  },
  {
   "cell_type": "code",
   "execution_count": 4,
   "id": "44da0bf4",
   "metadata": {
    "execution": {
     "iopub.execute_input": "2022-06-22T13:16:13.948276Z",
     "iopub.status.busy": "2022-06-22T13:16:13.947323Z",
     "iopub.status.idle": "2022-06-22T13:16:13.949673Z",
     "shell.execute_reply": "2022-06-22T13:16:13.949035Z"
    },
    "papermill": {
     "duration": 0.030492,
     "end_time": "2022-06-22T13:16:13.949874",
     "exception": false,
     "start_time": "2022-06-22T13:16:13.919382",
     "status": "completed"
    },
    "tags": [
     "injected-parameters"
    ]
   },
   "outputs": [],
   "source": [
    "# Parameters\n",
    "variance = 0.1\n",
    "bias = 0.01\n"
   ]
  },
  {
   "cell_type": "markdown",
   "id": "391cdbfd",
   "metadata": {
    "id": "391cdbfd",
    "papermill": {
     "duration": 0.028765,
     "end_time": "2022-06-22T13:16:13.995613",
     "exception": false,
     "start_time": "2022-06-22T13:16:13.966848",
     "status": "completed"
    },
    "tags": []
   },
   "source": [
    "## Dataset \n"
   ]
  },
  {
   "cell_type": "code",
   "execution_count": 5,
   "id": "5b51f161",
   "metadata": {
    "execution": {
     "iopub.execute_input": "2022-06-22T13:16:14.042434Z",
     "iopub.status.busy": "2022-06-22T13:16:14.041199Z",
     "iopub.status.idle": "2022-06-22T13:16:14.044556Z",
     "shell.execute_reply": "2022-06-22T13:16:14.043445Z"
    },
    "id": "5b51f161",
    "papermill": {
     "duration": 0.027335,
     "end_time": "2022-06-22T13:16:14.044836",
     "exception": false,
     "start_time": "2022-06-22T13:16:14.017501",
     "status": "completed"
    },
    "tags": []
   },
   "outputs": [],
   "source": [
    "#Parameters \n",
    "n_features = 4\n",
    "n_samples= 100\n",
    "n_target = 1"
   ]
  },
  {
   "cell_type": "code",
   "execution_count": 6,
   "id": "5d6eced4",
   "metadata": {
    "execution": {
     "iopub.execute_input": "2022-06-22T13:16:14.088974Z",
     "iopub.status.busy": "2022-06-22T13:16:14.088073Z",
     "iopub.status.idle": "2022-06-22T13:16:14.105858Z",
     "shell.execute_reply": "2022-06-22T13:16:14.107418Z"
    },
    "id": "5d6eced4",
    "papermill": {
     "duration": 0.046237,
     "end_time": "2022-06-22T13:16:14.107717",
     "exception": false,
     "start_time": "2022-06-22T13:16:14.061480",
     "status": "completed"
    },
    "tags": []
   },
   "outputs": [
    {
     "name": "stdout",
     "output_type": "stream",
     "text": [
      "          X1           X2        X3         X4         Y\n",
      "0  26.751115  1545.512631  0.485824   8.159914  1.546920\n",
      "1  63.290113   131.369054  0.773719  10.543609  0.975288\n",
      "2  18.066361   656.242154  0.789516   1.490621  1.747119\n",
      "3  10.750075  1628.748320  0.594349   9.047482  1.433174\n",
      "4  81.420461   764.696623  0.524201  10.348942  1.295129\n"
     ]
    }
   ],
   "source": [
    "X,Y = friedman3Dataset.friedman3_data(n_samples)"
   ]
  },
  {
   "cell_type": "code",
   "execution_count": 7,
   "id": "fe007438",
   "metadata": {
    "execution": {
     "iopub.execute_input": "2022-06-22T13:16:14.196491Z",
     "iopub.status.busy": "2022-06-22T13:16:14.193900Z",
     "iopub.status.idle": "2022-06-22T13:16:14.198035Z",
     "shell.execute_reply": "2022-06-22T13:16:14.197257Z"
    },
    "id": "fe007438",
    "papermill": {
     "duration": 0.069353,
     "end_time": "2022-06-22T13:16:14.198253",
     "exception": false,
     "start_time": "2022-06-22T13:16:14.128900",
     "status": "completed"
    },
    "tags": []
   },
   "outputs": [],
   "source": [
    "#Train test split for dataset \n",
    "X_train,X_test,Y_train,Y_test = train_test_split(X,Y,test_size = 0.2)\n",
    "train_data = dataset.CustomDataset(X_train,Y_train)\n",
    "test_data = dataset.CustomDataset(X_test,Y_test)\n"
   ]
  },
  {
   "cell_type": "markdown",
   "id": "a9a1af34",
   "metadata": {
    "id": "a9a1af34",
    "papermill": {
     "duration": 0.018108,
     "end_time": "2022-06-22T13:16:14.234125",
     "exception": false,
     "start_time": "2022-06-22T13:16:14.216017",
     "status": "completed"
    },
    "tags": []
   },
   "source": [
    "## Training Parameters "
   ]
  },
  {
   "cell_type": "code",
   "execution_count": 8,
   "id": "952b7fc8",
   "metadata": {
    "execution": {
     "iopub.execute_input": "2022-06-22T13:16:14.281411Z",
     "iopub.status.busy": "2022-06-22T13:16:14.280370Z",
     "iopub.status.idle": "2022-06-22T13:16:14.282996Z",
     "shell.execute_reply": "2022-06-22T13:16:14.283648Z"
    },
    "id": "952b7fc8",
    "papermill": {
     "duration": 0.033517,
     "end_time": "2022-06-22T13:16:14.283887",
     "exception": false,
     "start_time": "2022-06-22T13:16:14.250370",
     "status": "completed"
    },
    "tags": []
   },
   "outputs": [],
   "source": [
    "batch_size = 32\n",
    "n_epochs = 1000\n",
    "#Select the device \n",
    "device = torch.device('cuda' if torch.cuda.is_available() else 'cpu')"
   ]
  },
  {
   "cell_type": "markdown",
   "id": "a95e1600",
   "metadata": {
    "id": "a95e1600",
    "papermill": {
     "duration": 0.020246,
     "end_time": "2022-06-22T13:16:14.323206",
     "exception": false,
     "start_time": "2022-06-22T13:16:14.302960",
     "status": "completed"
    },
    "tags": []
   },
   "source": [
    "# ABC Pre-generator Model \n",
    "\n",
    "1. The catboost model is used as a pre-generator model for the ABC-GAN. \n",
    "2. The model is first trained on the entire dataset \n",
    "3. It generats X,Y pairs and we add some Gaussian noise with mean 0 and variance 1 to it which is then feed as input to the generator.\n"
   ]
  },
  {
   "cell_type": "code",
   "execution_count": 9,
   "id": "ff8ce7bd",
   "metadata": {
    "execution": {
     "iopub.execute_input": "2022-06-22T13:16:14.369445Z",
     "iopub.status.busy": "2022-06-22T13:16:14.368561Z",
     "iopub.status.idle": "2022-06-22T13:16:30.574749Z",
     "shell.execute_reply": "2022-06-22T13:16:30.576024Z"
    },
    "id": "ff8ce7bd",
    "papermill": {
     "duration": 16.236334,
     "end_time": "2022-06-22T13:16:30.576275",
     "exception": false,
     "start_time": "2022-06-22T13:16:14.339941",
     "status": "completed"
    },
    "tags": []
   },
   "outputs": [
    {
     "name": "stdout",
     "output_type": "stream",
     "text": [
      "Device used : cpu\n"
     ]
    },
    {
     "name": "stdout",
     "output_type": "stream",
     "text": [
      "epoch 0  | loss: 1.1704  | train_mse: 4.69702 | train_mae: 1.55076 |  0:00:00s\n",
      "epoch 1  | loss: 0.89309 | train_mse: 1.83943 | train_mae: 1.03939 |  0:00:00s\n",
      "epoch 2  | loss: 0.54194 | train_mse: 2.07218 | train_mae: 1.05562 |  0:00:00s\n"
     ]
    },
    {
     "name": "stdout",
     "output_type": "stream",
     "text": [
      "epoch 3  | loss: 0.59007 | train_mse: 1.94366 | train_mae: 1.03583 |  0:00:00s\n",
      "epoch 4  | loss: 0.65861 | train_mse: 1.05965 | train_mae: 0.81507 |  0:00:00s\n",
      "epoch 5  | loss: 0.43581 | train_mse: 1.23313 | train_mae: 0.8853  |  0:00:00s\n"
     ]
    },
    {
     "name": "stdout",
     "output_type": "stream",
     "text": [
      "epoch 6  | loss: 0.46802 | train_mse: 1.0998  | train_mae: 0.78094 |  0:00:00s\n",
      "epoch 7  | loss: 0.41809 | train_mse: 1.16723 | train_mae: 0.83477 |  0:00:00s\n",
      "epoch 8  | loss: 0.33236 | train_mse: 1.16476 | train_mae: 0.88053 |  0:00:00s\n"
     ]
    },
    {
     "name": "stdout",
     "output_type": "stream",
     "text": [
      "epoch 9  | loss: 0.3596  | train_mse: 1.13833 | train_mae: 0.85999 |  0:00:01s\n",
      "epoch 10 | loss: 0.45893 | train_mse: 1.25213 | train_mae: 0.89354 |  0:00:01s\n"
     ]
    },
    {
     "name": "stdout",
     "output_type": "stream",
     "text": [
      "epoch 11 | loss: 0.42902 | train_mse: 0.7012  | train_mae: 0.68326 |  0:00:01s\n",
      "epoch 12 | loss: 0.31472 | train_mse: 0.65966 | train_mae: 0.6537  |  0:00:01s\n"
     ]
    },
    {
     "name": "stdout",
     "output_type": "stream",
     "text": [
      "epoch 13 | loss: 0.33149 | train_mse: 0.76653 | train_mae: 0.66561 |  0:00:01s\n",
      "epoch 14 | loss: 0.28127 | train_mse: 1.27356 | train_mae: 0.84439 |  0:00:01s\n"
     ]
    },
    {
     "name": "stdout",
     "output_type": "stream",
     "text": [
      "epoch 15 | loss: 0.32894 | train_mse: 1.36824 | train_mae: 0.84741 |  0:00:01s\n",
      "epoch 16 | loss: 0.29737 | train_mse: 1.23667 | train_mae: 0.80263 |  0:00:01s\n"
     ]
    },
    {
     "name": "stdout",
     "output_type": "stream",
     "text": [
      "epoch 17 | loss: 0.29992 | train_mse: 0.64185 | train_mae: 0.60977 |  0:00:01s\n",
      "epoch 18 | loss: 0.39997 | train_mse: 0.44262 | train_mae: 0.51103 |  0:00:02s\n",
      "epoch 19 | loss: 0.51071 | train_mse: 0.51818 | train_mae: 0.53054 |  0:00:02s\n"
     ]
    },
    {
     "name": "stdout",
     "output_type": "stream",
     "text": [
      "epoch 20 | loss: 0.36376 | train_mse: 0.40491 | train_mae: 0.48919 |  0:00:02s\n",
      "epoch 21 | loss: 0.29817 | train_mse: 0.44749 | train_mae: 0.51849 |  0:00:02s\n",
      "epoch 22 | loss: 0.48005 | train_mse: 0.60778 | train_mae: 0.61032 |  0:00:02s\n"
     ]
    },
    {
     "name": "stdout",
     "output_type": "stream",
     "text": [
      "epoch 23 | loss: 0.29991 | train_mse: 0.5241  | train_mae: 0.57959 |  0:00:02s\n",
      "epoch 24 | loss: 0.30078 | train_mse: 0.36802 | train_mae: 0.48601 |  0:00:02s\n",
      "epoch 25 | loss: 0.27591 | train_mse: 0.30132 | train_mae: 0.42875 |  0:00:02s\n"
     ]
    },
    {
     "name": "stdout",
     "output_type": "stream",
     "text": [
      "epoch 26 | loss: 0.26097 | train_mse: 0.28071 | train_mae: 0.43094 |  0:00:02s\n",
      "epoch 27 | loss: 0.28694 | train_mse: 0.24546 | train_mae: 0.38714 |  0:00:02s\n",
      "epoch 28 | loss: 0.23651 | train_mse: 0.339   | train_mae: 0.40386 |  0:00:02s\n"
     ]
    },
    {
     "name": "stdout",
     "output_type": "stream",
     "text": [
      "epoch 29 | loss: 0.34936 | train_mse: 0.21446 | train_mae: 0.35084 |  0:00:03s\n",
      "epoch 30 | loss: 0.22736 | train_mse: 0.20945 | train_mae: 0.36179 |  0:00:03s\n",
      "epoch 31 | loss: 0.21264 | train_mse: 0.23902 | train_mae: 0.39241 |  0:00:03s\n"
     ]
    },
    {
     "name": "stdout",
     "output_type": "stream",
     "text": [
      "epoch 32 | loss: 0.18882 | train_mse: 0.20977 | train_mae: 0.34569 |  0:00:03s\n",
      "epoch 33 | loss: 0.22267 | train_mse: 0.2321  | train_mae: 0.34751 |  0:00:03s\n",
      "epoch 34 | loss: 0.13952 | train_mse: 0.28409 | train_mae: 0.38741 |  0:00:03s\n"
     ]
    },
    {
     "name": "stdout",
     "output_type": "stream",
     "text": [
      "epoch 35 | loss: 0.25471 | train_mse: 0.26559 | train_mae: 0.39078 |  0:00:03s\n",
      "epoch 36 | loss: 0.25077 | train_mse: 0.24444 | train_mae: 0.38101 |  0:00:03s\n",
      "epoch 37 | loss: 0.18341 | train_mse: 0.22556 | train_mae: 0.36092 |  0:00:03s\n"
     ]
    },
    {
     "name": "stdout",
     "output_type": "stream",
     "text": [
      "epoch 38 | loss: 0.17236 | train_mse: 0.20828 | train_mae: 0.34841 |  0:00:03s\n",
      "epoch 39 | loss: 0.1807  | train_mse: 0.19166 | train_mae: 0.33268 |  0:00:03s\n",
      "epoch 40 | loss: 0.19874 | train_mse: 0.19255 | train_mae: 0.33918 |  0:00:04s\n"
     ]
    },
    {
     "name": "stdout",
     "output_type": "stream",
     "text": [
      "epoch 41 | loss: 0.17822 | train_mse: 0.16582 | train_mae: 0.32021 |  0:00:04s\n",
      "epoch 42 | loss: 0.17624 | train_mse: 0.14039 | train_mae: 0.29184 |  0:00:04s\n",
      "epoch 43 | loss: 0.22523 | train_mse: 0.13875 | train_mae: 0.2833  |  0:00:04s\n"
     ]
    },
    {
     "name": "stdout",
     "output_type": "stream",
     "text": [
      "epoch 44 | loss: 0.15041 | train_mse: 0.13131 | train_mae: 0.28679 |  0:00:04s\n",
      "epoch 45 | loss: 0.29164 | train_mse: 0.14192 | train_mae: 0.29167 |  0:00:04s\n",
      "epoch 46 | loss: 0.11995 | train_mse: 0.14526 | train_mae: 0.29372 |  0:00:04s\n"
     ]
    },
    {
     "name": "stdout",
     "output_type": "stream",
     "text": [
      "epoch 47 | loss: 0.19609 | train_mse: 0.12263 | train_mae: 0.27962 |  0:00:04s\n",
      "epoch 48 | loss: 0.18809 | train_mse: 0.12184 | train_mae: 0.27729 |  0:00:04s\n",
      "epoch 49 | loss: 0.21588 | train_mse: 0.0956  | train_mae: 0.2419  |  0:00:04s\n"
     ]
    },
    {
     "name": "stdout",
     "output_type": "stream",
     "text": [
      "epoch 50 | loss: 0.12671 | train_mse: 0.09245 | train_mae: 0.24084 |  0:00:04s\n",
      "epoch 51 | loss: 0.12396 | train_mse: 0.10854 | train_mae: 0.2667  |  0:00:04s\n"
     ]
    },
    {
     "name": "stdout",
     "output_type": "stream",
     "text": [
      "epoch 52 | loss: 0.13433 | train_mse: 0.09671 | train_mae: 0.24998 |  0:00:05s\n",
      "epoch 53 | loss: 0.17399 | train_mse: 0.1196  | train_mae: 0.27311 |  0:00:05s\n",
      "epoch 54 | loss: 0.15184 | train_mse: 0.13721 | train_mae: 0.28528 |  0:00:05s\n"
     ]
    },
    {
     "name": "stdout",
     "output_type": "stream",
     "text": [
      "epoch 55 | loss: 0.12988 | train_mse: 0.16813 | train_mae: 0.31407 |  0:00:05s\n",
      "epoch 56 | loss: 0.12994 | train_mse: 0.13496 | train_mae: 0.28627 |  0:00:05s\n",
      "epoch 57 | loss: 0.19286 | train_mse: 0.12313 | train_mae: 0.26898 |  0:00:05s\n"
     ]
    },
    {
     "name": "stdout",
     "output_type": "stream",
     "text": [
      "epoch 58 | loss: 0.1184  | train_mse: 0.1468  | train_mae: 0.29423 |  0:00:05s\n",
      "epoch 59 | loss: 0.20042 | train_mse: 0.19548 | train_mae: 0.31547 |  0:00:05s\n",
      "epoch 60 | loss: 0.22813 | train_mse: 0.14459 | train_mae: 0.27674 |  0:00:05s\n"
     ]
    },
    {
     "name": "stdout",
     "output_type": "stream",
     "text": [
      "epoch 61 | loss: 0.34492 | train_mse: 0.10818 | train_mae: 0.27206 |  0:00:05s\n",
      "epoch 62 | loss: 0.18807 | train_mse: 0.10535 | train_mae: 0.26182 |  0:00:05s\n",
      "epoch 63 | loss: 0.22046 | train_mse: 0.10994 | train_mae: 0.26085 |  0:00:05s\n"
     ]
    },
    {
     "name": "stdout",
     "output_type": "stream",
     "text": [
      "epoch 64 | loss: 0.15107 | train_mse: 0.09324 | train_mae: 0.24431 |  0:00:06s\n",
      "epoch 65 | loss: 0.18532 | train_mse: 0.10118 | train_mae: 0.25516 |  0:00:06s\n",
      "epoch 66 | loss: 0.18306 | train_mse: 0.09854 | train_mae: 0.25957 |  0:00:06s\n"
     ]
    },
    {
     "name": "stdout",
     "output_type": "stream",
     "text": [
      "epoch 67 | loss: 0.19173 | train_mse: 0.12083 | train_mae: 0.28257 |  0:00:06s\n",
      "epoch 68 | loss: 0.23418 | train_mse: 0.10684 | train_mae: 0.25686 |  0:00:06s\n",
      "epoch 69 | loss: 0.12839 | train_mse: 0.09387 | train_mae: 0.24514 |  0:00:06s\n"
     ]
    },
    {
     "name": "stdout",
     "output_type": "stream",
     "text": [
      "epoch 70 | loss: 0.12411 | train_mse: 0.08467 | train_mae: 0.23388 |  0:00:06s\n",
      "epoch 71 | loss: 0.12858 | train_mse: 0.08254 | train_mae: 0.23053 |  0:00:06s\n",
      "epoch 72 | loss: 0.13827 | train_mse: 0.07802 | train_mae: 0.21706 |  0:00:06s\n"
     ]
    },
    {
     "name": "stdout",
     "output_type": "stream",
     "text": [
      "epoch 73 | loss: 0.1055  | train_mse: 0.10236 | train_mae: 0.23437 |  0:00:06s\n",
      "epoch 74 | loss: 0.10121 | train_mse: 0.09416 | train_mae: 0.22765 |  0:00:06s\n",
      "epoch 75 | loss: 0.2079  | train_mse: 0.06901 | train_mae: 0.20904 |  0:00:07s\n"
     ]
    },
    {
     "name": "stdout",
     "output_type": "stream",
     "text": [
      "epoch 76 | loss: 0.1686  | train_mse: 0.08242 | train_mae: 0.22594 |  0:00:07s\n",
      "epoch 77 | loss: 0.23861 | train_mse: 0.13659 | train_mae: 0.28435 |  0:00:07s\n",
      "epoch 78 | loss: 0.11374 | train_mse: 0.13784 | train_mae: 0.28908 |  0:00:07s\n"
     ]
    },
    {
     "name": "stdout",
     "output_type": "stream",
     "text": [
      "epoch 79 | loss: 0.1374  | train_mse: 0.10319 | train_mae: 0.25647 |  0:00:07s\n",
      "epoch 80 | loss: 0.18838 | train_mse: 0.09207 | train_mae: 0.23771 |  0:00:07s\n",
      "epoch 81 | loss: 0.08953 | train_mse: 0.10377 | train_mae: 0.244   |  0:00:07s\n"
     ]
    },
    {
     "name": "stdout",
     "output_type": "stream",
     "text": [
      "epoch 82 | loss: 0.17028 | train_mse: 0.12147 | train_mae: 0.26962 |  0:00:07s\n",
      "epoch 83 | loss: 0.11282 | train_mse: 0.11329 | train_mae: 0.2578  |  0:00:07s\n",
      "epoch 84 | loss: 0.1275  | train_mse: 0.09502 | train_mae: 0.24611 |  0:00:07s\n"
     ]
    },
    {
     "name": "stdout",
     "output_type": "stream",
     "text": [
      "epoch 85 | loss: 0.15958 | train_mse: 0.08271 | train_mae: 0.23042 |  0:00:07s\n",
      "epoch 86 | loss: 0.14766 | train_mse: 0.06946 | train_mae: 0.21319 |  0:00:07s\n"
     ]
    },
    {
     "name": "stdout",
     "output_type": "stream",
     "text": [
      "epoch 87 | loss: 0.12929 | train_mse: 0.06955 | train_mae: 0.21207 |  0:00:08s\n",
      "epoch 88 | loss: 0.09449 | train_mse: 0.10099 | train_mae: 0.25635 |  0:00:08s\n"
     ]
    },
    {
     "name": "stdout",
     "output_type": "stream",
     "text": [
      "epoch 89 | loss: 0.14533 | train_mse: 0.07968 | train_mae: 0.22647 |  0:00:08s\n",
      "epoch 90 | loss: 0.11203 | train_mse: 0.06542 | train_mae: 0.20667 |  0:00:08s\n"
     ]
    },
    {
     "name": "stdout",
     "output_type": "stream",
     "text": [
      "epoch 91 | loss: 0.15636 | train_mse: 0.06879 | train_mae: 0.21223 |  0:00:08s\n",
      "epoch 92 | loss: 0.14481 | train_mse: 0.09443 | train_mae: 0.2331  |  0:00:08s\n",
      "epoch 93 | loss: 0.13061 | train_mse: 0.12091 | train_mae: 0.25413 |  0:00:08s\n"
     ]
    },
    {
     "name": "stdout",
     "output_type": "stream",
     "text": [
      "epoch 94 | loss: 0.16169 | train_mse: 0.1219  | train_mae: 0.257   |  0:00:08s\n",
      "epoch 95 | loss: 0.17591 | train_mse: 0.11521 | train_mae: 0.25838 |  0:00:08s\n",
      "epoch 96 | loss: 0.11833 | train_mse: 0.08915 | train_mae: 0.24575 |  0:00:09s\n"
     ]
    },
    {
     "name": "stdout",
     "output_type": "stream",
     "text": [
      "epoch 97 | loss: 0.19403 | train_mse: 0.07672 | train_mae: 0.23024 |  0:00:09s\n",
      "epoch 98 | loss: 0.15237 | train_mse: 0.07655 | train_mae: 0.22704 |  0:00:09s\n",
      "epoch 99 | loss: 0.13047 | train_mse: 0.07897 | train_mae: 0.22904 |  0:00:09s\n"
     ]
    },
    {
     "name": "stdout",
     "output_type": "stream",
     "text": [
      "epoch 100| loss: 0.09283 | train_mse: 0.09059 | train_mae: 0.24359 |  0:00:09s\n",
      "epoch 101| loss: 0.10037 | train_mse: 0.10046 | train_mae: 0.25479 |  0:00:09s\n",
      "epoch 102| loss: 0.11809 | train_mse: 0.12806 | train_mae: 0.27462 |  0:00:09s\n"
     ]
    },
    {
     "name": "stdout",
     "output_type": "stream",
     "text": [
      "epoch 103| loss: 0.10141 | train_mse: 0.09581 | train_mae: 0.23901 |  0:00:09s\n",
      "epoch 104| loss: 0.09028 | train_mse: 0.08663 | train_mae: 0.23734 |  0:00:09s\n"
     ]
    },
    {
     "name": "stdout",
     "output_type": "stream",
     "text": [
      "epoch 105| loss: 0.27423 | train_mse: 0.08649 | train_mae: 0.24054 |  0:00:09s\n",
      "epoch 106| loss: 0.11536 | train_mse: 0.09017 | train_mae: 0.2411  |  0:00:09s\n"
     ]
    },
    {
     "name": "stdout",
     "output_type": "stream",
     "text": [
      "epoch 107| loss: 0.11531 | train_mse: 0.07505 | train_mae: 0.22122 |  0:00:10s\n",
      "epoch 108| loss: 0.14514 | train_mse: 0.06965 | train_mae: 0.21199 |  0:00:10s\n",
      "epoch 109| loss: 0.22445 | train_mse: 0.06721 | train_mae: 0.20579 |  0:00:10s\n"
     ]
    },
    {
     "name": "stdout",
     "output_type": "stream",
     "text": [
      "epoch 110| loss: 0.11781 | train_mse: 0.06209 | train_mae: 0.19538 |  0:00:10s\n",
      "epoch 111| loss: 0.10854 | train_mse: 0.05658 | train_mae: 0.19399 |  0:00:10s\n",
      "epoch 112| loss: 0.11774 | train_mse: 0.06009 | train_mae: 0.20114 |  0:00:10s\n"
     ]
    },
    {
     "name": "stdout",
     "output_type": "stream",
     "text": [
      "epoch 113| loss: 0.19174 | train_mse: 0.05908 | train_mae: 0.20006 |  0:00:10s\n",
      "epoch 114| loss: 0.12107 | train_mse: 0.06676 | train_mae: 0.20874 |  0:00:10s\n",
      "epoch 115| loss: 0.10572 | train_mse: 0.07717 | train_mae: 0.22017 |  0:00:10s\n"
     ]
    },
    {
     "name": "stdout",
     "output_type": "stream",
     "text": [
      "epoch 116| loss: 0.10328 | train_mse: 0.08709 | train_mae: 0.22855 |  0:00:10s\n",
      "epoch 117| loss: 0.17485 | train_mse: 0.06896 | train_mae: 0.21042 |  0:00:10s\n"
     ]
    },
    {
     "name": "stdout",
     "output_type": "stream",
     "text": [
      "epoch 118| loss: 0.09926 | train_mse: 0.05367 | train_mae: 0.18673 |  0:00:11s\n",
      "epoch 119| loss: 0.10372 | train_mse: 0.0462  | train_mae: 0.17165 |  0:00:11s\n",
      "epoch 120| loss: 0.07491 | train_mse: 0.06148 | train_mae: 0.19066 |  0:00:11s\n"
     ]
    },
    {
     "name": "stdout",
     "output_type": "stream",
     "text": [
      "epoch 121| loss: 0.15449 | train_mse: 0.07731 | train_mae: 0.22155 |  0:00:11s\n",
      "epoch 122| loss: 0.13489 | train_mse: 0.08834 | train_mae: 0.24705 |  0:00:11s\n",
      "epoch 123| loss: 0.14965 | train_mse: 0.08733 | train_mae: 0.25097 |  0:00:11s\n"
     ]
    },
    {
     "name": "stdout",
     "output_type": "stream",
     "text": [
      "epoch 124| loss: 0.16108 | train_mse: 0.0854  | train_mae: 0.24374 |  0:00:11s\n",
      "epoch 125| loss: 0.15621 | train_mse: 0.0897  | train_mae: 0.24547 |  0:00:11s\n",
      "epoch 126| loss: 0.13224 | train_mse: 0.09153 | train_mae: 0.25559 |  0:00:11s\n"
     ]
    },
    {
     "name": "stdout",
     "output_type": "stream",
     "text": [
      "epoch 127| loss: 0.13483 | train_mse: 0.09787 | train_mae: 0.25311 |  0:00:11s\n",
      "epoch 128| loss: 0.12055 | train_mse: 0.09732 | train_mae: 0.25339 |  0:00:12s\n"
     ]
    },
    {
     "name": "stdout",
     "output_type": "stream",
     "text": [
      "epoch 129| loss: 0.12736 | train_mse: 0.10384 | train_mae: 0.26338 |  0:00:12s\n",
      "epoch 130| loss: 0.14347 | train_mse: 0.08587 | train_mae: 0.2459  |  0:00:12s\n"
     ]
    },
    {
     "name": "stdout",
     "output_type": "stream",
     "text": [
      "epoch 131| loss: 0.13403 | train_mse: 0.08732 | train_mae: 0.24114 |  0:00:12s\n",
      "epoch 132| loss: 0.09676 | train_mse: 0.08716 | train_mae: 0.24237 |  0:00:12s\n"
     ]
    },
    {
     "name": "stdout",
     "output_type": "stream",
     "text": [
      "epoch 133| loss: 0.09505 | train_mse: 0.08223 | train_mae: 0.22944 |  0:00:12s\n",
      "epoch 134| loss: 0.10308 | train_mse: 0.07797 | train_mae: 0.21943 |  0:00:12s\n",
      "epoch 135| loss: 0.22772 | train_mse: 0.07365 | train_mae: 0.21266 |  0:00:12s\n"
     ]
    },
    {
     "name": "stdout",
     "output_type": "stream",
     "text": [
      "epoch 136| loss: 0.10284 | train_mse: 0.07034 | train_mae: 0.21623 |  0:00:13s\n",
      "epoch 137| loss: 0.10428 | train_mse: 0.07147 | train_mae: 0.22005 |  0:00:13s\n",
      "epoch 138| loss: 0.1861  | train_mse: 0.08247 | train_mae: 0.23768 |  0:00:13s\n"
     ]
    },
    {
     "name": "stdout",
     "output_type": "stream",
     "text": [
      "epoch 139| loss: 0.07975 | train_mse: 0.06937 | train_mae: 0.21266 |  0:00:13s\n",
      "epoch 140| loss: 0.19691 | train_mse: 0.06486 | train_mae: 0.20282 |  0:00:13s\n",
      "epoch 141| loss: 0.24521 | train_mse: 0.08086 | train_mae: 0.22911 |  0:00:13s\n"
     ]
    },
    {
     "name": "stdout",
     "output_type": "stream",
     "text": [
      "epoch 142| loss: 0.11208 | train_mse: 0.07291 | train_mae: 0.21851 |  0:00:13s\n",
      "epoch 143| loss: 0.12431 | train_mse: 0.06573 | train_mae: 0.201   |  0:00:13s\n",
      "epoch 144| loss: 0.15109 | train_mse: 0.08528 | train_mae: 0.22746 |  0:00:13s\n"
     ]
    },
    {
     "name": "stdout",
     "output_type": "stream",
     "text": [
      "epoch 145| loss: 0.17232 | train_mse: 0.07785 | train_mae: 0.2199  |  0:00:13s\n",
      "epoch 146| loss: 0.1586  | train_mse: 0.07861 | train_mae: 0.2236  |  0:00:13s\n",
      "epoch 147| loss: 0.12312 | train_mse: 0.09029 | train_mae: 0.23708 |  0:00:14s\n"
     ]
    },
    {
     "name": "stdout",
     "output_type": "stream",
     "text": [
      "epoch 148| loss: 0.14666 | train_mse: 0.07527 | train_mae: 0.21768 |  0:00:14s\n",
      "epoch 149| loss: 0.21198 | train_mse: 0.07844 | train_mae: 0.22101 |  0:00:14s\n"
     ]
    },
    {
     "name": "stdout",
     "output_type": "stream",
     "text": [
      "epoch 150| loss: 0.2319  | train_mse: 0.06907 | train_mae: 0.20243 |  0:00:14s\n",
      "epoch 151| loss: 0.08602 | train_mse: 0.07419 | train_mae: 0.217   |  0:00:14s\n",
      "epoch 152| loss: 0.1709  | train_mse: 0.07451 | train_mae: 0.21919 |  0:00:14s\n"
     ]
    },
    {
     "name": "stdout",
     "output_type": "stream",
     "text": [
      "epoch 153| loss: 0.11924 | train_mse: 0.06935 | train_mae: 0.20677 |  0:00:14s\n",
      "epoch 154| loss: 0.08347 | train_mse: 0.0677  | train_mae: 0.20658 |  0:00:14s\n",
      "epoch 155| loss: 0.26268 | train_mse: 0.07661 | train_mae: 0.21935 |  0:00:14s\n"
     ]
    },
    {
     "name": "stdout",
     "output_type": "stream",
     "text": [
      "epoch 156| loss: 0.13107 | train_mse: 0.08029 | train_mae: 0.23027 |  0:00:14s\n",
      "epoch 157| loss: 0.10156 | train_mse: 0.0801  | train_mae: 0.22978 |  0:00:14s\n",
      "epoch 158| loss: 0.08704 | train_mse: 0.07784 | train_mae: 0.21979 |  0:00:15s\n"
     ]
    },
    {
     "name": "stdout",
     "output_type": "stream",
     "text": [
      "epoch 159| loss: 0.10363 | train_mse: 0.06406 | train_mae: 0.20384 |  0:00:15s\n",
      "epoch 160| loss: 0.16471 | train_mse: 0.07085 | train_mae: 0.21252 |  0:00:15s\n",
      "epoch 161| loss: 0.08685 | train_mse: 0.06853 | train_mae: 0.2058  |  0:00:15s\n"
     ]
    },
    {
     "name": "stdout",
     "output_type": "stream",
     "text": [
      "epoch 162| loss: 0.19345 | train_mse: 0.08533 | train_mae: 0.24028 |  0:00:15s\n",
      "epoch 163| loss: 0.14083 | train_mse: 0.07425 | train_mae: 0.22382 |  0:00:15s\n",
      "epoch 164| loss: 0.07823 | train_mse: 0.05647 | train_mae: 0.19161 |  0:00:15s\n"
     ]
    },
    {
     "name": "stdout",
     "output_type": "stream",
     "text": [
      "epoch 165| loss: 0.11586 | train_mse: 0.05873 | train_mae: 0.18955 |  0:00:15s\n",
      "epoch 166| loss: 0.12518 | train_mse: 0.06597 | train_mae: 0.20389 |  0:00:15s\n"
     ]
    },
    {
     "name": "stdout",
     "output_type": "stream",
     "text": [
      "epoch 167| loss: 0.14409 | train_mse: 0.06406 | train_mae: 0.20103 |  0:00:15s\n",
      "epoch 168| loss: 0.1197  | train_mse: 0.05386 | train_mae: 0.18558 |  0:00:16s\n"
     ]
    },
    {
     "name": "stdout",
     "output_type": "stream",
     "text": [
      "epoch 169| loss: 0.1139  | train_mse: 0.05566 | train_mae: 0.19251 |  0:00:16s\n",
      "\n",
      "Early stopping occurred at epoch 169 with best_epoch = 119 and best_train_mae = 0.17165\n",
      "Best weights from best epoch are automatically used!\n"
     ]
    }
   ],
   "source": [
    "#Train the Model\n",
    "\n",
    "Y_train = np.reshape(Y_train, (-1, 1))\n",
    "Y_test = np.reshape(Y_test, (-1, 1))\n",
    "\n",
    "prior_model = TabNetRegressor(optimizer_fn=torch.optim.Adam, optimizer_params=dict(lr = 0.02),\n",
    "          #scheduler_params={\"step_size\":10, ], \"gamma\":0.9},\n",
    "          #scheduler_fn=torch.optim.lr_scheduler.StepLR\n",
    "          )  #TabNetRegressor()\n",
    "\n",
    "prior_model.fit(X_train,Y_train,eval_set=[(X_train, Y_train)],\n",
    "            eval_name=['train'], \n",
    "            eval_metric=[ 'mse', 'mae'], \n",
    "            max_epochs = n_epochs, \n",
    "            batch_size = batch_size,\n",
    "            patience=50\n",
    "            )"
   ]
  },
  {
   "cell_type": "code",
   "execution_count": 10,
   "id": "af65dcda",
   "metadata": {
    "execution": {
     "iopub.execute_input": "2022-06-22T13:16:30.692468Z",
     "iopub.status.busy": "2022-06-22T13:16:30.691572Z",
     "iopub.status.idle": "2022-06-22T13:16:30.718261Z",
     "shell.execute_reply": "2022-06-22T13:16:30.718787Z"
    },
    "id": "af65dcda",
    "papermill": {
     "duration": 0.093796,
     "end_time": "2022-06-22T13:16:30.719055",
     "exception": false,
     "start_time": "2022-06-22T13:16:30.625259",
     "status": "completed"
    },
    "tags": []
   },
   "outputs": [
    {
     "data": {
      "application/scrapbook.scrap.json+json": {
       "data": 0.5538408002897841,
       "encoder": "json",
       "name": "Prior Model MSE",
       "version": 1
      }
     },
     "metadata": {
      "scrapbook": {
       "data": true,
       "display": false,
       "name": "Prior Model MSE"
      }
     },
     "output_type": "display_data"
    },
    {
     "data": {
      "application/scrapbook.scrap.json+json": {
       "data": 0.6140889362008493,
       "encoder": "json",
       "name": "ABC Pre-generator MSE",
       "version": 1
      }
     },
     "metadata": {
      "scrapbook": {
       "data": true,
       "display": false,
       "name": "ABC Pre-generator MSE"
      }
     },
     "output_type": "display_data"
    },
    {
     "data": {
      "application/scrapbook.scrap.json+json": {
       "data": 0.5076619391349391,
       "encoder": "json",
       "name": "Prior Model MSE",
       "version": 1
      }
     },
     "metadata": {
      "scrapbook": {
       "data": true,
       "display": false,
       "name": "Prior Model MSE"
      }
     },
     "output_type": "display_data"
    },
    {
     "data": {
      "application/scrapbook.scrap.json+json": {
       "data": 0.5727199834162653,
       "encoder": "json",
       "name": "ABC Pre-generator MSE",
       "version": 1
      }
     },
     "metadata": {
      "scrapbook": {
       "data": true,
       "display": false,
       "name": "ABC Pre-generator MSE"
      }
     },
     "output_type": "display_data"
    }
   ],
   "source": [
    "y_pred = prior_model.predict(X_test)\n",
    "y_abc = y_pred + np.random.normal(0,variance, y_pred.shape) + bias \n",
    "mse = mean_squared_error(y_pred,Y_test)\n",
    "sb.glue(\"Prior Model MSE\",mse)\n",
    "mse = mean_squared_error(y_abc,Y_test)\n",
    "sb.glue(\"ABC Pre-generator MSE\",mse)\n",
    "mae = mean_absolute_error(y_pred,Y_test)\n",
    "sb.glue(\"Prior Model MSE\",mae)\n",
    "mae = mean_absolute_error(y_abc,Y_test)\n",
    "sb.glue(\"ABC Pre-generator MSE\",mae)"
   ]
  },
  {
   "cell_type": "markdown",
   "id": "25609da2",
   "metadata": {
    "papermill": {
     "duration": 0.044336,
     "end_time": "2022-06-22T13:16:30.810928",
     "exception": false,
     "start_time": "2022-06-22T13:16:30.766592",
     "status": "completed"
    },
    "tags": []
   },
   "source": [
    "# ABC GAN Model"
   ]
  },
  {
   "cell_type": "code",
   "execution_count": 11,
   "id": "dfc3464d",
   "metadata": {
    "execution": {
     "iopub.execute_input": "2022-06-22T13:16:30.901164Z",
     "iopub.status.busy": "2022-06-22T13:16:30.900431Z",
     "iopub.status.idle": "2022-06-22T13:16:30.902733Z",
     "shell.execute_reply": "2022-06-22T13:16:30.903414Z"
    },
    "papermill": {
     "duration": 0.050713,
     "end_time": "2022-06-22T13:16:30.903687",
     "exception": false,
     "start_time": "2022-06-22T13:16:30.852974",
     "status": "completed"
    },
    "tags": []
   },
   "outputs": [],
   "source": [
    "gen = network.Generator(n_features+1).to(device)\n",
    "disc = network.Discriminator(n_features+1).to(device)\n",
    "\n",
    "criterion = torch.nn.BCELoss()\n",
    "gen_opt = torch.optim.Adam(gen.parameters(), lr=0.001, betas=(0.5, 0.999))\n",
    "disc_opt = torch.optim.Adam(disc.parameters(), lr=0.001, betas=(0.5, 0.999))"
   ]
  },
  {
   "cell_type": "code",
   "execution_count": 12,
   "id": "b75fdd85",
   "metadata": {
    "execution": {
     "iopub.execute_input": "2022-06-22T13:16:31.013611Z",
     "iopub.status.busy": "2022-06-22T13:16:31.012022Z",
     "iopub.status.idle": "2022-06-22T13:17:25.793053Z",
     "shell.execute_reply": "2022-06-22T13:17:25.793732Z"
    },
    "papermill": {
     "duration": 54.844264,
     "end_time": "2022-06-22T13:17:25.794222",
     "exception": false,
     "start_time": "2022-06-22T13:16:30.949958",
     "status": "completed"
    },
    "tags": []
   },
   "outputs": [
    {
     "data": {
      "image/png": "[encoded data removed]",
      "text/plain": [
       "<Figure size 432x288 with 1 Axes>"
      ]
     },
     "metadata": {
      "needs_background": "light"
     },
     "output_type": "display_data"
    },
    {
     "data": {
      "image/png": "[encoded data removed]",
      "text/plain": [
       "<Figure size 432x288 with 1 Axes>"
      ]
     },
     "metadata": {
      "needs_background": "light"
     },
     "output_type": "display_data"
    }
   ],
   "source": [
    "#Training the ABC_GAN \n",
    "ABC_train_test2.training_GAN(disc,gen,disc_opt,gen_opt,train_data,batch_size,n_epochs,criterion,prior_model,variance,bias,device)"
   ]
  },
  {
   "cell_type": "code",
   "execution_count": 13,
   "id": "1fa7c368",
   "metadata": {
    "execution": {
     "iopub.execute_input": "2022-06-22T13:17:25.895046Z",
     "iopub.status.busy": "2022-06-22T13:17:25.892994Z",
     "iopub.status.idle": "2022-06-22T13:17:26.699127Z",
     "shell.execute_reply": "2022-06-22T13:17:26.699803Z"
    },
    "papermill": {
     "duration": 0.865697,
     "end_time": "2022-06-22T13:17:26.700230",
     "exception": false,
     "start_time": "2022-06-22T13:17:25.834533",
     "status": "completed"
    },
    "tags": []
   },
   "outputs": [
    {
     "data": {
      "application/scrapbook.scrap.json+json": {
       "data": 0.5286540721818141,
       "encoder": "json",
       "name": "ABC-GAN Model 1 MSE",
       "version": 1
      }
     },
     "metadata": {
      "scrapbook": {
       "data": true,
       "display": false,
       "name": "ABC-GAN Model 1 MSE"
      }
     },
     "output_type": "display_data"
    },
    {
     "data": {
      "application/scrapbook.scrap.json+json": {
       "data": 0.5061412119287998,
       "encoder": "json",
       "name": "ABC-GAN Model 1 MAE",
       "version": 1
      }
     },
     "metadata": {
      "scrapbook": {
       "data": true,
       "display": false,
       "name": "ABC-GAN Model 1 MAE"
      }
     },
     "output_type": "display_data"
    },
    {
     "data": {
      "application/scrapbook.scrap.json+json": {
       "data": 10.122824238575994,
       "encoder": "json",
       "name": "ABC-GAN Model 1 Manhattan Distance",
       "version": 1
      }
     },
     "metadata": {
      "scrapbook": {
       "data": true,
       "display": false,
       "name": "ABC-GAN Model 1 Manhattan Distance"
      }
     },
     "output_type": "display_data"
    },
    {
     "data": {
      "application/scrapbook.scrap.json+json": {
       "data": 3.2511618679324066,
       "encoder": "json",
       "name": "ABC-GAN Model 1 Euclidean distance",
       "version": 1
      }
     },
     "metadata": {
      "scrapbook": {
       "data": true,
       "display": false,
       "name": "ABC-GAN Model 1 Euclidean distance"
      }
     },
     "output_type": "display_data"
    },
    {
     "data": {
      "application/scrapbook.scrap.json+json": {
       "data": [
        [
         0.4904811686261731,
         0.5417294171008317,
         0.543036125287878,
         0.5101974817172975,
         0.5300457337694315,
         0.538266705205889,
         0.5386529852448592,
         0.4877075314157201,
         0.5284309075889162,
         0.5454161594639242,
         0.5399061598298859,
         0.5117603404073388,
         0.5092995946995584,
         0.5302420679637809,
         0.5066850181417379,
         0.5219191196388004,
         0.5409697606782506,
         0.5273287988445693,
         0.4930134840697896,
         0.5042965916728772,
         0.5210358044659846,
         0.49391897951284863,
         0.5249311274650346,
         0.5105934192083176,
         0.5342654093228273,
         0.5408998120311681,
         0.5391105466490075,
         0.5368123993184325,
         0.5132740605890286,
         0.5245443225614999,
         0.5253879791249343,
         0.5424097204475288,
         0.5273179223668025,
         0.537101964867291,
         0.5108241140718393,
         0.5332147893860781,
         0.5491122434168416,
         0.5444608689470195,
         0.5383605278298373,
         0.5264726436496906,
         0.5287128286793885,
         0.5520472571510509,
         0.5414120279353863,
         0.5155494200424714,
         0.5528279176082318,
         0.5367706889523131,
         0.529728933140363,
         0.5126785588371284,
         0.5281009729444797,
         0.5012098135542014,
         0.5368774110805743,
         0.5438559778986486,
         0.5516570538467681,
         0.5408313250945229,
         0.5318024282156321,
         0.506906206525902,
         0.5261964753032993,
         0.5017922056285066,
         0.5147557151477822,
         0.5468349784749049,
         0.5282165301629274,
         0.5416685744151438,
         0.5341423424444101,
         0.5308572783327064,
         0.5292465947106967,
         0.5391060334996354,
         0.5060473430057779,
         0.557023105820319,
         0.5398652760725182,
         0.5102830454019127,
         0.5552054462527038,
         0.5117083875524763,
         0.545205031446138,
         0.543384333509439,
         0.536484020863431,
         0.5077832079715492,
         0.5270068494387827,
         0.5257075076753029,
         0.5057724923023403,
         0.5322921957665055,
         0.5416485169109857,
         0.5141119564926168,
         0.5586957679159049,
         0.5483707074605402,
         0.5574015893728234,
         0.5123207813801745,
         0.46290175220016094,
         0.5566741251856475,
         0.5291419608562118,
         0.5288794438424629,
         0.5471692061495175,
         0.5216677637984312,
         0.5333515453575339,
         0.5386669098482887,
         0.5465680651335194,
         0.5593431497338338,
         0.5054374625000738,
         0.5380517791600503,
         0.5153571277708664,
         0.5286600078059814
        ],
        [
         0.47926369602791963,
         0.5235580943059176,
         0.5261173687409609,
         0.5097674719523638,
         0.5114895540755242,
         0.5090974118094891,
         0.5210009250324219,
         0.4824125453364104,
         0.502698254911229,
         0.5161997090559453,
         0.5117165650706739,
         0.51332918102853,
         0.49630262139253317,
         0.5114317535888404,
         0.504095024196431,
         0.5090593885164708,
         0.5065541825722903,
         0.49873825940303507,
         0.4895344346296042,
         0.5042254775296897,
         0.5089073735754936,
         0.5008779983501881,
         0.513504272280261,
         0.5029825005214661,
         0.5070005308371037,
         0.5106315515469759,
         0.4978464737068862,
         0.5038773744832724,
         0.4903248611371964,
         0.49755710433237255,
         0.49654790977947416,
         0.5266052361112088,
         0.5055783617775887,
         0.511491749016568,
         0.48743164422921836,
         0.5090040750335902,
         0.5007162175606936,
         0.5064484305214136,
         0.5105075910221786,
         0.5034087940584868,
         0.5028454951476306,
         0.516239048121497,
         0.5028323415201157,
         0.5120999309699983,
         0.5251596129965037,
         0.5145637392532081,
         0.49968316885642705,
         0.49460285338573157,
         0.5037788938265294,
         0.49095436665229497,
         0.5086413952987641,
         0.5239733427297324,
         0.5091209277044981,
         0.5270344856660814,
         0.5048336606007069,
         0.48719030725769696,
         0.49599889176897705,
         0.48752406644634905,
         0.49365452299825846,
         0.5032851811032742,
         0.5069898724090308,
         0.5108145396690815,
         0.5033947951626032,
         0.5111225891392678,
         0.507537319464609,
         0.501653705118224,
         0.4935359805356711,
         0.5273072443436831,
         0.5199823796283454,
         0.4860337007325143,
         0.5130594636779279,
         0.4812987483572215,
         0.499646833864972,
         0.5043425544630736,
         0.505059678433463,
         0.5046884957235307,
         0.5087986159604043,
         0.5104110344778746,
         0.4986337769310921,
         0.5123643591534346,
         0.5148425511550159,
         0.5002617023419589,
         0.5242154359351844,
         0.523431123746559,
         0.5185831587295979,
         0.5136372822802514,
         0.4769257887732238,
         0.5325239233206958,
         0.505565059510991,
         0.5173339619766921,
         0.5147387284319848,
         0.4896823554765433,
         0.5078840933274478,
         0.5099019065033644,
         0.5129106796812266,
         0.5147104557137936,
         0.49032708066515623,
         0.5138914297800511,
         0.500762928975746,
         0.5034576579462737
        ],
        [
         9.585273920558393,
         10.471161886118352,
         10.52234737481922,
         10.195349439047277,
         10.229791081510484,
         10.181948236189783,
         10.420018500648439,
         9.648250906728208,
         10.05396509822458,
         10.323994181118906,
         10.234331301413476,
         10.2665836205706,
         9.926052427850664,
         10.228635071776807,
         10.08190048392862,
         10.181187770329416,
         10.131083651445806,
         9.974765188060701,
         9.790688692592084,
         10.084509550593793,
         10.178147471509874,
         10.017559967003763,
         10.270085445605218,
         10.059650010429323,
         10.140010616742074,
         10.21263103093952,
         9.956929474137723,
         10.077547489665449,
         9.806497222743928,
         9.951142086647451,
         9.930958195589483,
         10.532104722224176,
         10.111567235551775,
         10.229834980331361,
         9.748632884584367,
         10.180081500671804,
         10.014324351213872,
         10.128968610428274,
         10.21015182044357,
         10.068175881169736,
         10.056909902952611,
         10.32478096242994,
         10.056646830402315,
         10.241998619399965,
         10.503192259930074,
         10.29127478506416,
         9.993663377128541,
         9.892057067714632,
         10.075577876530588,
         9.8190873330459,
         10.172827905975282,
         10.479466854594648,
         10.182418554089963,
         10.540689713321626,
         10.096673212014139,
         9.74380614515394,
         9.919977835379541,
         9.75048132892698,
         9.87309045996517,
         10.065703622065485,
         10.139797448180616,
         10.216290793381631,
         10.067895903252065,
         10.222451782785356,
         10.15074638929218,
         10.03307410236448,
         9.870719610713422,
         10.546144886873662,
         10.399647592566907,
         9.720674014650285,
         10.261189273558557,
         9.62597496714443,
         9.99293667729944,
         10.086851089261472,
         10.10119356866926,
         10.093769914470613,
         10.175972319208086,
         10.208220689557493,
         9.972675538621843,
         10.247287183068693,
         10.296851023100317,
         10.005234046839178,
         10.484308718703687,
         10.46862247493118,
         10.371663174591959,
         10.272745645605028,
         9.538515775464475,
         10.650478466413915,
         10.11130119021982,
         10.346679239533842,
         10.294774568639696,
         9.793647109530866,
         10.157681866548955,
         10.198038130067289,
         10.258213593624532,
         10.294209114275873,
         9.806541613303125,
         10.277828595601022,
         10.01525857951492,
         10.069153158925474
        ],
        [
         3.1320318281466206,
         3.2915935870056368,
         3.2955610305011134,
         3.194362163929749,
         3.2559045863459564,
         3.281056857800209,
         3.282233950360209,
         3.12316356092895,
         3.2509411178577694,
         3.302775073976198,
         3.2860497860801985,
         3.1992509761109362,
         3.191550076998819,
         3.256507540184057,
         3.183347351897804,
         3.2308485561499176,
         3.2892849091504694,
         3.2475492262460595,
         3.1401066353542504,
         3.175835611844156,
         3.22811339474308,
         3.142988958023393,
         3.2401577969754323,
         3.195601411967135,
         3.268838966124906,
         3.2890722461848365,
         3.28362770925392,
         3.276621428601212,
         3.2039789655646262,
         3.238963792824797,
         3.241567457650494,
         3.2936597287744482,
         3.247515734732635,
         3.2775050415439204,
         3.196323244203687,
         3.2656233383110127,
         3.313947022560383,
         3.299881418921048,
         3.2813427977882386,
         3.2449118436397946,
         3.251808200615124,
         3.3227917694344042,
         3.2906292040744622,
         3.211072780372539,
         3.3251403507468127,
         3.276494129255577,
         3.254931437497149,
         3.2021197942523276,
         3.249926069757525,
         3.1661011151073533,
         3.2768198335598933,
         3.2980478404615314,
         3.3216172381741034,
         3.2888640138945324,
         3.261295534647641,
         3.1840421056446537,
         3.2440606507995473,
         3.1679400424518978,
         3.2086000534431895,
         3.3070681228995116,
         3.2502816190691144,
         3.291408739172769,
         3.2684624594583003,
         3.2583961647801702,
         3.253449230311414,
         3.2836139648248404,
         3.1813435621000696,
         3.3377330804614047,
         3.2859253676020046,
         3.1946300111340364,
         3.332282839894308,
         3.1990885813071075,
         3.302135767790713,
         3.296617458879447,
         3.275619089159883,
         3.186795280439424,
         3.246557713760169,
         3.242553030176385,
         3.1804794993910592,
         3.2627969466900804,
         3.2913477996437437,
         3.206593072070782,
         3.342740695644533,
         3.311708644976306,
         3.3388668418276977,
         3.2010022848482147,
         3.0427019315081156,
         3.3366873548046048,
         3.2531276054167066,
         3.252320537224038,
         3.3080786149954697,
         3.2300704753872815,
         3.2660420859429657,
         3.2822763742509213,
         3.3062609247714234,
         3.344676814682799,
         3.179425930887756,
         3.280401741128822,
         3.2104738833102706,
         3.2516457611676626
        ]
       ],
       "encoder": "json",
       "name": "ABC_GAN_1 Metrics",
       "version": 1
      }
     },
     "metadata": {
      "scrapbook": {
       "data": true,
       "display": false,
       "name": "ABC_GAN_1 Metrics"
      }
     },
     "output_type": "display_data"
    },
    {
     "name": "stdout",
     "output_type": "stream",
     "text": [
      "MSE\n",
      "0.5286540721818141\n"
     ]
    }
   ],
   "source": [
    "ABC_GAN1_metrics=ABC_train_test2.test_generator(gen,test_data,prior_model,variance,bias,\"1\",device)\n",
    "sb.glue(\"ABC_GAN_1 Metrics\",ABC_GAN1_metrics)\n",
    "\n",
    "print(\"MSE\")\n",
    "print(mean(ABC_GAN1_metrics[0]))"
   ]
  },
  {
   "cell_type": "code",
   "execution_count": 14,
   "id": "eb22ce5c",
   "metadata": {
    "execution": {
     "iopub.execute_input": "2022-06-22T13:17:26.793428Z",
     "iopub.status.busy": "2022-06-22T13:17:26.792700Z",
     "iopub.status.idle": "2022-06-22T13:17:27.862743Z",
     "shell.execute_reply": "2022-06-22T13:17:27.863667Z"
    },
    "papermill": {
     "duration": 1.118719,
     "end_time": "2022-06-22T13:17:27.863900",
     "exception": false,
     "start_time": "2022-06-22T13:17:26.745181",
     "status": "completed"
    },
    "tags": []
   },
   "outputs": [
    {
     "data": {
      "image/png": "[encoded data removed]",
      "text/plain": [
       "<Figure size 432x288 with 1 Axes>"
      ]
     },
     "metadata": {
      "needs_background": "light"
     },
     "output_type": "display_data"
    },
    {
     "data": {
      "image/png": "[encoded data removed]",
      "text/plain": [
       "<Figure size 432x288 with 1 Axes>"
      ]
     },
     "metadata": {
      "needs_background": "light"
     },
     "output_type": "display_data"
    },
    {
     "data": {
      "image/png": "[encoded data removed]",
      "text/plain": [
       "<Figure size 432x288 with 1 Axes>"
      ]
     },
     "metadata": {
      "needs_background": "light"
     },
     "output_type": "display_data"
    },
    {
     "data": {
      "image/png": "[encoded data removed]",
      "text/plain": [
       "<Figure size 432x288 with 1 Axes>"
      ]
     },
     "metadata": {
      "needs_background": "light"
     },
     "output_type": "display_data"
    }
   ],
   "source": [
    "sanityChecks.discProbVsError(train_data,disc,device)\n",
    "sanityChecks.discProbVsError(test_data,disc,device)"
   ]
  },
  {
   "cell_type": "markdown",
   "id": "130f3a4d",
   "metadata": {
    "id": "130f3a4d",
    "papermill": {
     "duration": 0.077233,
     "end_time": "2022-06-22T13:17:28.001604",
     "exception": false,
     "start_time": "2022-06-22T13:17:27.924371",
     "status": "completed"
    },
    "tags": []
   },
   "source": [
    "# ABC - GAN Model with skip connection"
   ]
  },
  {
   "cell_type": "code",
   "execution_count": 15,
   "id": "4e43dad1",
   "metadata": {
    "execution": {
     "iopub.execute_input": "2022-06-22T13:17:28.130742Z",
     "iopub.status.busy": "2022-06-22T13:17:28.129223Z",
     "iopub.status.idle": "2022-06-22T13:17:28.137692Z",
     "shell.execute_reply": "2022-06-22T13:17:28.138214Z"
    },
    "id": "4e43dad1",
    "papermill": {
     "duration": 0.080804,
     "end_time": "2022-06-22T13:17:28.138429",
     "exception": false,
     "start_time": "2022-06-22T13:17:28.057625",
     "status": "completed"
    },
    "tags": []
   },
   "outputs": [],
   "source": [
    "#Generator\n",
    "gen3 = network.GeneratorWithSkipConnection(n_features+1).to(device)\n",
    "constraints=network.weightConstraint()\n",
    "#Discriminator \n",
    "disc3 = network.Discriminator(n_features+1).to(device)\n",
    "\n",
    "criterion = torch.nn.BCELoss()\n",
    "gen_opt = torch.optim.Adam(gen3.parameters(), lr=0.001, betas=(0.5, 0.999))\n",
    "disc_opt = torch.optim.Adam(disc3.parameters(), lr=0.001, betas=(0.5, 0.999))\n"
   ]
  },
  {
   "cell_type": "code",
   "execution_count": 16,
   "id": "26acbc37",
   "metadata": {
    "execution": {
     "iopub.execute_input": "2022-06-22T13:17:28.253807Z",
     "iopub.status.busy": "2022-06-22T13:17:28.252536Z",
     "iopub.status.idle": "2022-06-22T13:18:53.919489Z",
     "shell.execute_reply": "2022-06-22T13:18:53.920146Z"
    },
    "id": "26acbc37",
    "papermill": {
     "duration": 85.728281,
     "end_time": "2022-06-22T13:18:53.920409",
     "exception": false,
     "start_time": "2022-06-22T13:17:28.192128",
     "status": "completed"
    },
    "tags": []
   },
   "outputs": [
    {
     "data": {
      "image/png": "[encoded data removed]",
      "text/plain": [
       "<Figure size 432x288 with 1 Axes>"
      ]
     },
     "metadata": {
      "needs_background": "light"
     },
     "output_type": "display_data"
    },
    {
     "data": {
      "image/png": "[encoded data removed]",
      "text/plain": [
       "<Figure size 432x288 with 1 Axes>"
      ]
     },
     "metadata": {
      "needs_background": "light"
     },
     "output_type": "display_data"
    }
   ],
   "source": [
    "ABC_train_test2.training_GAN_skip_connection(disc3,gen3,disc_opt,gen_opt,train_data,batch_size,n_epochs,criterion,prior_model,variance,bias,device)"
   ]
  },
  {
   "cell_type": "code",
   "execution_count": 17,
   "id": "c5e0717b",
   "metadata": {
    "execution": {
     "iopub.execute_input": "2022-06-22T13:18:54.042227Z",
     "iopub.status.busy": "2022-06-22T13:18:54.041022Z",
     "iopub.status.idle": "2022-06-22T13:18:55.063982Z",
     "shell.execute_reply": "2022-06-22T13:18:55.064502Z"
    },
    "id": "c5e0717b",
    "papermill": {
     "duration": 1.090877,
     "end_time": "2022-06-22T13:18:55.064755",
     "exception": false,
     "start_time": "2022-06-22T13:18:53.973878",
     "status": "completed"
    },
    "tags": []
   },
   "outputs": [
    {
     "data": {
      "application/scrapbook.scrap.json+json": {
       "data": 0.6443417811839651,
       "encoder": "json",
       "name": "ABC-GAN Model 3 MSE",
       "version": 1
      }
     },
     "metadata": {
      "scrapbook": {
       "data": true,
       "display": false,
       "name": "ABC-GAN Model 3 MSE"
      }
     },
     "output_type": "display_data"
    },
    {
     "data": {
      "application/scrapbook.scrap.json+json": {
       "data": 0.5178325545946136,
       "encoder": "json",
       "name": "ABC-GAN Model 3 MAE",
       "version": 1
      }
     },
     "metadata": {
      "scrapbook": {
       "data": true,
       "display": false,
       "name": "ABC-GAN Model 3 MAE"
      }
     },
     "output_type": "display_data"
    },
    {
     "data": {
      "application/scrapbook.scrap.json+json": {
       "data": 10.356651091892273,
       "encoder": "json",
       "name": "ABC-GAN Model 3 Manhattan Distance",
       "version": 1
      }
     },
     "metadata": {
      "scrapbook": {
       "data": true,
       "display": false,
       "name": "ABC-GAN Model 3 Manhattan Distance"
      }
     },
     "output_type": "display_data"
    },
    {
     "data": {
      "application/scrapbook.scrap.json+json": {
       "data": 3.589557797037702,
       "encoder": "json",
       "name": "ABC-GAN Model 3 Euclidean distance",
       "version": 1
      }
     },
     "metadata": {
      "scrapbook": {
       "data": true,
       "display": false,
       "name": "ABC-GAN Model 3 Euclidean distance"
      }
     },
     "output_type": "display_data"
    },
    {
     "data": {
      "application/scrapbook.scrap.json+json": {
       "data": [
        [
         0.6528579718808245,
         0.6764050329169031,
         0.659138517247626,
         0.65846208377466,
         0.6560266658176968,
         0.6252784494249031,
         0.6481513525715614,
         0.6274129743447311,
         0.6459824789020037,
         0.6557835360434264,
         0.6321504769798058,
         0.620827634150719,
         0.6268324978352878,
         0.6549971610835978,
         0.6655308795493738,
         0.6410515939273249,
         0.651238672987384,
         0.6344356459970582,
         0.6491157918067078,
         0.6237446690412145,
         0.6399440878001836,
         0.660299082850786,
         0.6471085597227308,
         0.6332733884960342,
         0.6406264421031735,
         0.6463019256561523,
         0.6518201420317679,
         0.6360271319447885,
         0.6547410062183235,
         0.6630797694660299,
         0.6298948138508041,
         0.6510580617573879,
         0.6514916369740865,
         0.6289835068540942,
         0.6175102554793682,
         0.6404172408022124,
         0.6494885036501643,
         0.6427603505333389,
         0.6409005865967605,
         0.6502702779936529,
         0.650874797348572,
         0.6063012162061986,
         0.655050667544586,
         0.6413341824824415,
         0.6279906384085512,
         0.6496172764041708,
         0.670060933244436,
         0.6482395260280981,
         0.6361887772209007,
         0.6602644970677307,
         0.640931428400684,
         0.6589238691292406,
         0.6568450233254662,
         0.612177762780363,
         0.6401205578262814,
         0.6449892788416016,
         0.6596336009320632,
         0.6602744837620047,
         0.6531889036239775,
         0.6498587306394963,
         0.645145156429269,
         0.6820471273481338,
         0.6500888536263197,
         0.6217534353386354,
         0.6247957754318177,
         0.6406991173265556,
         0.6521787869968861,
         0.648012219547333,
         0.6493554890027781,
         0.6288896373722912,
         0.6536767394401043,
         0.6121255037768313,
         0.6256047181362547,
         0.6749495084032698,
         0.6351021401394734,
         0.6446763104714599,
         0.6494892106289292,
         0.6297348655794975,
         0.6511227236243569,
         0.6421068087086702,
         0.6272041129325853,
         0.6383357104115526,
         0.6492978560548724,
         0.653738761522742,
         0.6552394748298633,
         0.647096968315774,
         0.6614972701920119,
         0.6430851535058307,
         0.6401796915822529,
         0.6490870855120405,
         0.6210200345691252,
         0.6499525638376411,
         0.6025822354446666,
         0.6709294344656929,
         0.667285343272771,
         0.6299743416980877,
         0.6507549946462277,
         0.6501201765079557,
         0.5994077751727265,
         0.6615479983117114
        ],
        [
         0.5086246594320982,
         0.53010472538881,
         0.523990425793454,
         0.5276495974045247,
         0.5182025584857911,
         0.5190954721998423,
         0.5152026254218072,
         0.5154373000841588,
         0.5217756460886449,
         0.5297538015525788,
         0.5189369115512819,
         0.5092670719604939,
         0.5141185353975743,
         0.5210976909380406,
         0.527620306937024,
         0.504562423704192,
         0.5268058117013424,
         0.516819542972371,
         0.5178193192463368,
         0.5218694883864373,
         0.5236004400532692,
         0.5204104784410447,
         0.5215619358699769,
         0.51117914612405,
         0.5220300342421978,
         0.5137998174410313,
         0.5189245674293488,
         0.5341024729888886,
         0.5244602743070572,
         0.5089127864222973,
         0.5331921424251049,
         0.5181595529895275,
         0.5292131576221436,
         0.5023049514275044,
         0.4927365730982274,
         0.5145990546327084,
         0.5168961867224425,
         0.5033245738130063,
         0.5133979860227555,
         0.5181028637569398,
         0.5187275181990116,
         0.5048516738694161,
         0.5222990307491273,
         0.5199458438437432,
         0.5083888630848378,
         0.5213156695943326,
         0.5474663201253861,
         0.510625698743388,
         0.5202566768508404,
         0.520931452838704,
         0.5084903630893678,
         0.5184279698412866,
         0.5219792644958943,
         0.5067391398828477,
         0.501598836435005,
         0.5371346305590123,
         0.5250011350493878,
         0.5375049378257245,
         0.5184408034663648,
         0.5173659994732589,
         0.5106171000283212,
         0.5394695441704244,
         0.5075337055604905,
         0.48398400279693304,
         0.511382857291028,
         0.5110721092205495,
         0.5352458353620022,
         0.5069353784900159,
         0.5131004314403981,
         0.5233488689642399,
         0.5271719518583268,
         0.5048006664495915,
         0.5099405604880303,
         0.5343020852189511,
         0.5206222835462541,
         0.516768318740651,
         0.5137803326826542,
         0.5095830965321511,
         0.5135600864421577,
         0.5155108723323792,
         0.503222945285961,
         0.5023133079987019,
         0.5112696300726384,
         0.5253262120764702,
         0.5205902900081127,
         0.5154741066973656,
         0.5324106785934418,
         0.5214003603439779,
         0.5209071833174675,
         0.5104010667186231,
         0.5156991809140891,
         0.5206063728313893,
         0.5028063382487744,
         0.5184067848604172,
         0.5519590506795794,
         0.5149353224318475,
         0.5190068270545453,
         0.5275586451869458,
         0.4957212965469807,
         0.5273550334852188
        ],
        [
         10.172493188641965,
         10.6020945077762,
         10.479808515869081,
         10.552991948090494,
         10.364051169715822,
         10.381909443996847,
         10.304052508436143,
         10.308746001683176,
         10.435512921772897,
         10.595076031051576,
         10.378738231025636,
         10.185341439209878,
         10.282370707951486,
         10.421953818760812,
         10.55240613874048,
         10.09124847408384,
         10.53611623402685,
         10.33639085944742,
         10.356386384926736,
         10.437389767728746,
         10.472008801065385,
         10.408209568820894,
         10.431238717399538,
         10.223582922481,
         10.440600684843957,
         10.275996348820627,
         10.378491348586977,
         10.682049459777772,
         10.489205486141145,
         10.178255728445947,
         10.6638428485021,
         10.363191059790552,
         10.584263152442873,
         10.046099028550088,
         9.854731461964548,
         10.291981092654169,
         10.33792373444885,
         10.066491476260126,
         10.26795972045511,
         10.362057275138795,
         10.374550363980234,
         10.097033477388322,
         10.445980614982545,
         10.398916876874864,
         10.167777261696756,
         10.426313391886652,
         10.949326402507722,
         10.212513974867761,
         10.405133537016809,
         10.41862905677408,
         10.169807261787355,
         10.36855939682573,
         10.439585289917886,
         10.134782797656953,
         10.031976728700101,
         10.742692611180246,
         10.500022700987756,
         10.75009875651449,
         10.368816069327295,
         10.347319989465177,
         10.212342000566423,
         10.789390883408487,
         10.15067411120981,
         9.679680055938661,
         10.227657145820558,
         10.22144218441099,
         10.704916707240045,
         10.138707569800317,
         10.262008628807962,
         10.466977379284799,
         10.543439037166536,
         10.09601332899183,
         10.198811209760606,
         10.686041704379022,
         10.41244567092508,
         10.33536637481302,
         10.275606653653085,
         10.191661930643022,
         10.271201728843153,
         10.310217446647584,
         10.06445890571922,
         10.046266159974039,
         10.225392601452768,
         10.506524241529405,
         10.411805800162256,
         10.309482133947313,
         10.648213571868837,
         10.428007206879556,
         10.418143666349351,
         10.20802133437246,
         10.313983618281782,
         10.412127456627786,
         10.056126764975488,
         10.368135697208345,
         11.039181013591588,
         10.298706448636949,
         10.380136541090906,
         10.551172903738916,
         9.914425930939615,
         10.547100669704378
        ],
        [
         3.6134691693186607,
         3.6780566415347735,
         3.630808497422099,
         3.628944981050719,
         3.622227673180406,
         3.536321392138738,
         3.6004203992632897,
         3.542352253361405,
         3.5943914057932083,
         3.6215563948209515,
         3.555700991309043,
         3.5237129115486097,
         3.5407131988775586,
         3.61938437053485,
         3.648371909631401,
         3.5806468519733277,
         3.6089851010703384,
         3.5621219687064567,
         3.60309808860849,
         3.5319815091283098,
         3.5775524812368125,
         3.634003530132534,
         3.597522924799037,
         3.5588576495724977,
         3.579459294651005,
         3.5952800326432213,
         3.610595912122451,
         3.566586973409701,
         3.618676570842781,
         3.641647345545776,
         3.549351529084726,
         3.6084846175573144,
         3.6096859613381507,
         3.546783068793732,
         3.5142858605394305,
         3.578874797480941,
         3.6041323606387268,
         3.58541587694744,
         3.5802250951490757,
         3.6063008138358423,
         3.6079767109796372,
         3.4822441505621016,
         3.6195322005601387,
         3.5814359759248564,
         3.5439826139769677,
         3.604489634897486,
         3.6607674966991164,
         3.600665288604588,
         3.567040165798251,
         3.6339083562129924,
         3.5803112389865883,
         3.6302172638266175,
         3.6244862348351283,
         3.4990792011052356,
         3.5780457175007734,
         3.591627148916217,
         3.632171804670212,
         3.6339358380742075,
         3.614384881619493,
         3.6051594434629277,
         3.5920611253965844,
         3.6933646647687897,
         3.605797702662532,
         3.5263392784547416,
         3.5349562244299935,
         3.579662322975606,
         3.611589087913756,
         3.600033943027018,
         3.603763280246854,
         3.5465183980131596,
         3.615734336037714,
         3.498929847187083,
         3.5372438935879296,
         3.674097190884503,
         3.5639925368593954,
         3.5907556599452986,
         3.604134322216443,
         3.5489008596451304,
         3.608663807074183,
         3.583592635076342,
         3.541762592079218,
         3.57305390502733,
         3.603603352354064,
         3.6159058658176986,
         3.6200537974728038,
         3.597490704131906,
         3.6372991908612957,
         3.5863216629461188,
         3.5782109819915666,
         3.60301841658363,
         3.524258885408747,
         3.605419708820711,
         3.4715478837102816,
         3.663139185086182,
         3.6531776394606683,
         3.549575585047001,
         3.607644646154129,
         3.6058845697219866,
         3.462391587249271,
         3.6374386546351847
        ]
       ],
       "encoder": "json",
       "name": "ABC_GAN_3 Metrics",
       "version": 1
      }
     },
     "metadata": {
      "scrapbook": {
       "data": true,
       "display": false,
       "name": "ABC_GAN_3 Metrics"
      }
     },
     "output_type": "display_data"
    },
    {
     "name": "stdout",
     "output_type": "stream",
     "text": [
      "MSE\n",
      "0.6443417811839651\n"
     ]
    }
   ],
   "source": [
    "ABC_GAN3_metrics=ABC_train_test2.test_generator(gen3,test_data,prior_model,variance,bias,\"3\",device)\n",
    "sb.glue(\"ABC_GAN_3 Metrics\",ABC_GAN3_metrics)\n",
    "\n",
    "print(\"MSE\")\n",
    "print(mean(ABC_GAN3_metrics[0]))"
   ]
  },
  {
   "cell_type": "code",
   "execution_count": 18,
   "id": "c8e46b48",
   "metadata": {
    "execution": {
     "iopub.execute_input": "2022-06-22T13:18:55.209931Z",
     "iopub.status.busy": "2022-06-22T13:18:55.209153Z",
     "iopub.status.idle": "2022-06-22T13:18:56.116929Z",
     "shell.execute_reply": "2022-06-22T13:18:56.117548Z"
    },
    "id": "c8e46b48",
    "papermill": {
     "duration": 0.995339,
     "end_time": "2022-06-22T13:18:56.117768",
     "exception": false,
     "start_time": "2022-06-22T13:18:55.122429",
     "status": "completed"
    },
    "tags": []
   },
   "outputs": [
    {
     "data": {
      "image/png": "[encoded data removed]",
      "text/plain": [
       "<Figure size 432x288 with 1 Axes>"
      ]
     },
     "metadata": {
      "needs_background": "light"
     },
     "output_type": "display_data"
    },
    {
     "data": {
      "image/png": "[encoded data removed]",
      "text/plain": [
       "<Figure size 432x288 with 1 Axes>"
      ]
     },
     "metadata": {
      "needs_background": "light"
     },
     "output_type": "display_data"
    },
    {
     "data": {
      "image/png": "[encoded data removed]",
      "text/plain": [
       "<Figure size 432x288 with 1 Axes>"
      ]
     },
     "metadata": {
      "needs_background": "light"
     },
     "output_type": "display_data"
    },
    {
     "data": {
      "image/png": "[encoded data removed]",
      "text/plain": [
       "<Figure size 432x288 with 1 Axes>"
      ]
     },
     "metadata": {
      "needs_background": "light"
     },
     "output_type": "display_data"
    }
   ],
   "source": [
    "sanityChecks.discProbVsError(train_data,disc3,device)\n",
    "sanityChecks.discProbVsError(test_data,disc3,device)"
   ]
  },
  {
   "cell_type": "markdown",
   "id": "a5bd74c3",
   "metadata": {
    "id": "a5bd74c3",
    "papermill": {
     "duration": 0.069498,
     "end_time": "2022-06-22T13:18:56.253873",
     "exception": false,
     "start_time": "2022-06-22T13:18:56.184375",
     "status": "completed"
    },
    "tags": []
   },
   "source": [
    "## Skip Connection Model Analysis - ABC-GAN "
   ]
  },
  {
   "cell_type": "markdown",
   "id": "5744a8bf",
   "metadata": {
    "id": "5744a8bf",
    "papermill": {
     "duration": 0.073657,
     "end_time": "2022-06-22T13:18:56.396403",
     "exception": false,
     "start_time": "2022-06-22T13:18:56.322746",
     "status": "completed"
    },
    "tags": []
   },
   "source": [
    "### Weight Analysis \n",
    "\n",
    "Study the weights of the skip connection layer\n",
    "\n",
    "Equation of the skip connection is \n",
    "\n",
    "$output = y_{gan} * w + y_{abc} * (1-w)$"
   ]
  },
  {
   "cell_type": "code",
   "execution_count": 19,
   "id": "52c31dea",
   "metadata": {
    "execution": {
     "iopub.execute_input": "2022-06-22T13:18:56.557711Z",
     "iopub.status.busy": "2022-06-22T13:18:56.556845Z",
     "iopub.status.idle": "2022-06-22T13:18:56.564737Z",
     "shell.execute_reply": "2022-06-22T13:18:56.565259Z"
    },
    "id": "52c31dea",
    "papermill": {
     "duration": 0.085431,
     "end_time": "2022-06-22T13:18:56.565482",
     "exception": false,
     "start_time": "2022-06-22T13:18:56.480051",
     "status": "completed"
    },
    "tags": []
   },
   "outputs": [
    {
     "name": "stdout",
     "output_type": "stream",
     "text": [
      "Weight of the node at skip connection\n",
      "Parameter containing:\n",
      "tensor([[0.2777]], requires_grad=True)\n"
     ]
    },
    {
     "data": {
      "application/scrapbook.scrap.json+json": {
       "data": 0.2777225375175476,
       "encoder": "json",
       "name": "Skip Connection Weight",
       "version": 1
      }
     },
     "metadata": {
      "scrapbook": {
       "data": true,
       "display": false,
       "name": "Skip Connection Weight"
      }
     },
     "output_type": "display_data"
    }
   ],
   "source": [
    "print(\"Weight of the node at skip connection\")\n",
    "for name,param in gen3.named_parameters():\n",
    "    if(name == \"skipNode.weight\"):\n",
    "        print(param)\n",
    "        sb.glue(\"Skip Connection Weight\",param.item())"
   ]
  }
 ],
 "metadata": {
  "colab": {
   "collapsed_sections": [],
   "name": "ABC_GAN_Model-Catboost_Pre-gen.ipynb",
   "provenance": []
  },
  "interpreter": {
   "hash": "31f2aee4e71d21fbe5cf8b01ff0e069b9275f58929596ceb00d14d90e3e16cd6"
  },
  "kernelspec": {
   "display_name": "Python 3 (ipykernel)",
   "language": "python",
   "name": "python3"
  },
  "language_info": {
   "codemirror_mode": {
    "name": "ipython",
    "version": 3
   },
   "file_extension": ".py",
   "mimetype": "text/x-python",
   "name": "python",
   "nbconvert_exporter": "python",
   "pygments_lexer": "ipython3",
   "version": "3.8.3"
  },
  "papermill": {
   "default_parameters": {},
   "duration": 177.472544,
   "end_time": "2022-06-22T13:18:58.396696",
   "environment_variables": {},
   "exception": null,
   "input_path": "ABC_GAN-TabNet.ipynb",
   "output_path": "./ABC_GAN_TabNet/ABC-GAN_output_4_7.ipynb",
   "parameters": {
    "bias": 0.01,
    "variance": 0.1
   },
   "start_time": "2022-06-22T13:16:00.924152",
   "version": "2.3.3"
  }
 },
 "nbformat": 4,
 "nbformat_minor": 5
}