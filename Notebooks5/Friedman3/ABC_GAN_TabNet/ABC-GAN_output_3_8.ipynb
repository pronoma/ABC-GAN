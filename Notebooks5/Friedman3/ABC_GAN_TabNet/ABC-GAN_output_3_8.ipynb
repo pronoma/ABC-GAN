{
 "cells": [
  {
   "cell_type": "markdown",
   "id": "622780e6",
   "metadata": {
    "id": "622780e6",
    "papermill": {
     "duration": 0.016915,
     "end_time": "2022-06-22T12:43:45.500626",
     "exception": false,
     "start_time": "2022-06-22T12:43:45.483711",
     "status": "completed"
    },
    "tags": []
   },
   "source": [
    "## Import Libraries "
   ]
  },
  {
   "cell_type": "code",
   "execution_count": 1,
   "id": "a62397e3",
   "metadata": {
    "execution": {
     "iopub.execute_input": "2022-06-22T12:43:45.596648Z",
     "iopub.status.busy": "2022-06-22T12:43:45.595827Z",
     "iopub.status.idle": "2022-06-22T12:43:45.612849Z",
     "shell.execute_reply": "2022-06-22T12:43:45.614036Z"
    },
    "id": "a62397e3",
    "papermill": {
     "duration": 0.099728,
     "end_time": "2022-06-22T12:43:45.615667",
     "exception": false,
     "start_time": "2022-06-22T12:43:45.515939",
     "status": "completed"
    },
    "tags": []
   },
   "outputs": [],
   "source": [
    "import warnings\n",
    "import sys\n",
    "sys.path.insert(0, '../../src')\n",
    "warnings.filterwarnings('ignore')"
   ]
  },
  {
   "cell_type": "code",
   "execution_count": 2,
   "id": "d6a4e155",
   "metadata": {
    "execution": {
     "iopub.execute_input": "2022-06-22T12:43:45.713526Z",
     "iopub.status.busy": "2022-06-22T12:43:45.707600Z",
     "iopub.status.idle": "2022-06-22T12:43:51.999778Z",
     "shell.execute_reply": "2022-06-22T12:43:52.000316Z"
    },
    "id": "d6a4e155",
    "papermill": {
     "duration": 6.361095,
     "end_time": "2022-06-22T12:43:52.000566",
     "exception": false,
     "start_time": "2022-06-22T12:43:45.639471",
     "status": "completed"
    },
    "tags": []
   },
   "outputs": [],
   "source": [
    "import ABC_train_test2\n",
    "import friedman3Dataset\n",
    "import network\n",
    "import dataset\n",
    "import sanityChecks\n",
    "import torch \n",
    "import scrapbook as sb\n",
    "from statistics import mean \n",
    "import catboost as ctb \n",
    "from sklearn.model_selection import train_test_split\n",
    "from sklearn.metrics import mean_squared_error,mean_absolute_error\n",
    "import numpy as np\n",
    "from pytorch_tabnet.tab_model import TabNetRegressor"
   ]
  },
  {
   "cell_type": "markdown",
   "id": "2fa5b0f7",
   "metadata": {
    "id": "2fa5b0f7",
    "papermill": {
     "duration": 0.018587,
     "end_time": "2022-06-22T12:43:52.036269",
     "exception": false,
     "start_time": "2022-06-22T12:43:52.017682",
     "status": "completed"
    },
    "tags": []
   },
   "source": [
    "## Parameters "
   ]
  },
  {
   "cell_type": "code",
   "execution_count": 3,
   "id": "783186fb",
   "metadata": {
    "execution": {
     "iopub.execute_input": "2022-06-22T12:43:52.078529Z",
     "iopub.status.busy": "2022-06-22T12:43:52.077612Z",
     "iopub.status.idle": "2022-06-22T12:43:52.080458Z",
     "shell.execute_reply": "2022-06-22T12:43:52.080985Z"
    },
    "id": "783186fb",
    "papermill": {
     "duration": 0.027091,
     "end_time": "2022-06-22T12:43:52.081216",
     "exception": false,
     "start_time": "2022-06-22T12:43:52.054125",
     "status": "completed"
    },
    "tags": [
     "parameters"
    ]
   },
   "outputs": [],
   "source": [
    "variance = 1\n",
    "bias = 1 "
   ]
  },
  {
   "cell_type": "code",
   "execution_count": 4,
   "id": "fb84a01d",
   "metadata": {
    "execution": {
     "iopub.execute_input": "2022-06-22T12:43:52.115379Z",
     "iopub.status.busy": "2022-06-22T12:43:52.114237Z",
     "iopub.status.idle": "2022-06-22T12:43:52.116667Z",
     "shell.execute_reply": "2022-06-22T12:43:52.117108Z"
    },
    "papermill": {
     "duration": 0.021002,
     "end_time": "2022-06-22T12:43:52.117320",
     "exception": false,
     "start_time": "2022-06-22T12:43:52.096318",
     "status": "completed"
    },
    "tags": [
     "injected-parameters"
    ]
   },
   "outputs": [],
   "source": [
    "# Parameters\n",
    "variance = 0.01\n",
    "bias = 0.01\n"
   ]
  },
  {
   "cell_type": "markdown",
   "id": "391cdbfd",
   "metadata": {
    "id": "391cdbfd",
    "papermill": {
     "duration": 0.017495,
     "end_time": "2022-06-22T12:43:52.149832",
     "exception": false,
     "start_time": "2022-06-22T12:43:52.132337",
     "status": "completed"
    },
    "tags": []
   },
   "source": [
    "## Dataset \n"
   ]
  },
  {
   "cell_type": "code",
   "execution_count": 5,
   "id": "5b51f161",
   "metadata": {
    "execution": {
     "iopub.execute_input": "2022-06-22T12:43:52.189241Z",
     "iopub.status.busy": "2022-06-22T12:43:52.188487Z",
     "iopub.status.idle": "2022-06-22T12:43:52.190955Z",
     "shell.execute_reply": "2022-06-22T12:43:52.191572Z"
    },
    "id": "5b51f161",
    "papermill": {
     "duration": 0.022726,
     "end_time": "2022-06-22T12:43:52.191804",
     "exception": false,
     "start_time": "2022-06-22T12:43:52.169078",
     "status": "completed"
    },
    "tags": []
   },
   "outputs": [],
   "source": [
    "#Parameters \n",
    "n_features = 4\n",
    "n_samples= 100\n",
    "n_target = 1"
   ]
  },
  {
   "cell_type": "code",
   "execution_count": 6,
   "id": "5d6eced4",
   "metadata": {
    "execution": {
     "iopub.execute_input": "2022-06-22T12:43:52.225323Z",
     "iopub.status.busy": "2022-06-22T12:43:52.224472Z",
     "iopub.status.idle": "2022-06-22T12:43:52.237648Z",
     "shell.execute_reply": "2022-06-22T12:43:52.238154Z"
    },
    "id": "5d6eced4",
    "papermill": {
     "duration": 0.032391,
     "end_time": "2022-06-22T12:43:52.238370",
     "exception": false,
     "start_time": "2022-06-22T12:43:52.205979",
     "status": "completed"
    },
    "tags": []
   },
   "outputs": [
    {
     "name": "stdout",
     "output_type": "stream",
     "text": [
      "          X1           X2        X3         X4         Y\n",
      "0   9.531347  1500.512135  0.443527   4.748751  1.486636\n",
      "1   7.088384   835.035892  0.770462  10.616511  1.596224\n",
      "2   8.578238  1649.424671  0.773706   9.356083  1.449110\n",
      "3   3.862252   335.492291  0.949693   9.711761  1.355634\n",
      "4  47.085365   600.624901  0.371853   7.036000  1.304108\n"
     ]
    }
   ],
   "source": [
    "X,Y = friedman3Dataset.friedman3_data(n_samples)"
   ]
  },
  {
   "cell_type": "code",
   "execution_count": 7,
   "id": "fe007438",
   "metadata": {
    "execution": {
     "iopub.execute_input": "2022-06-22T12:43:52.298752Z",
     "iopub.status.busy": "2022-06-22T12:43:52.297816Z",
     "iopub.status.idle": "2022-06-22T12:43:52.301140Z",
     "shell.execute_reply": "2022-06-22T12:43:52.300571Z"
    },
    "id": "fe007438",
    "papermill": {
     "duration": 0.048097,
     "end_time": "2022-06-22T12:43:52.301394",
     "exception": false,
     "start_time": "2022-06-22T12:43:52.253297",
     "status": "completed"
    },
    "tags": []
   },
   "outputs": [],
   "source": [
    "#Train test split for dataset \n",
    "X_train,X_test,Y_train,Y_test = train_test_split(X,Y,test_size = 0.2)\n",
    "train_data = dataset.CustomDataset(X_train,Y_train)\n",
    "test_data = dataset.CustomDataset(X_test,Y_test)\n"
   ]
  },
  {
   "cell_type": "markdown",
   "id": "a9a1af34",
   "metadata": {
    "id": "a9a1af34",
    "papermill": {
     "duration": 0.017723,
     "end_time": "2022-06-22T12:43:52.336487",
     "exception": false,
     "start_time": "2022-06-22T12:43:52.318764",
     "status": "completed"
    },
    "tags": []
   },
   "source": [
    "## Training Parameters "
   ]
  },
  {
   "cell_type": "code",
   "execution_count": 8,
   "id": "952b7fc8",
   "metadata": {
    "execution": {
     "iopub.execute_input": "2022-06-22T12:43:52.370855Z",
     "iopub.status.busy": "2022-06-22T12:43:52.369862Z",
     "iopub.status.idle": "2022-06-22T12:43:52.372897Z",
     "shell.execute_reply": "2022-06-22T12:43:52.373476Z"
    },
    "id": "952b7fc8",
    "papermill": {
     "duration": 0.022233,
     "end_time": "2022-06-22T12:43:52.373771",
     "exception": false,
     "start_time": "2022-06-22T12:43:52.351538",
     "status": "completed"
    },
    "tags": []
   },
   "outputs": [],
   "source": [
    "batch_size = 32\n",
    "n_epochs = 1000\n",
    "#Select the device \n",
    "device = torch.device('cuda' if torch.cuda.is_available() else 'cpu')"
   ]
  },
  {
   "cell_type": "markdown",
   "id": "a95e1600",
   "metadata": {
    "id": "a95e1600",
    "papermill": {
     "duration": 0.021221,
     "end_time": "2022-06-22T12:43:52.409860",
     "exception": false,
     "start_time": "2022-06-22T12:43:52.388639",
     "status": "completed"
    },
    "tags": []
   },
   "source": [
    "# ABC Pre-generator Model \n",
    "\n",
    "1. The catboost model is used as a pre-generator model for the ABC-GAN. \n",
    "2. The model is first trained on the entire dataset \n",
    "3. It generats X,Y pairs and we add some Gaussian noise with mean 0 and variance 1 to it which is then feed as input to the generator.\n"
   ]
  },
  {
   "cell_type": "code",
   "execution_count": 9,
   "id": "ff8ce7bd",
   "metadata": {
    "execution": {
     "iopub.execute_input": "2022-06-22T12:43:52.475736Z",
     "iopub.status.busy": "2022-06-22T12:43:52.470880Z",
     "iopub.status.idle": "2022-06-22T12:44:08.007047Z",
     "shell.execute_reply": "2022-06-22T12:44:08.007487Z"
    },
    "id": "ff8ce7bd",
    "papermill": {
     "duration": 15.56954,
     "end_time": "2022-06-22T12:44:08.007692",
     "exception": false,
     "start_time": "2022-06-22T12:43:52.438152",
     "status": "completed"
    },
    "tags": []
   },
   "outputs": [
    {
     "name": "stdout",
     "output_type": "stream",
     "text": [
      "Device used : cpu\n"
     ]
    },
    {
     "name": "stdout",
     "output_type": "stream",
     "text": [
      "epoch 0  | loss: 1.26475 | train_mse: 6.55968 | train_mae: 1.90362 |  0:00:00s\n",
      "epoch 1  | loss: 0.91551 | train_mse: 3.42097 | train_mae: 1.44014 |  0:00:00s\n",
      "epoch 2  | loss: 0.6305  | train_mse: 2.04676 | train_mae: 1.10343 |  0:00:00s\n"
     ]
    },
    {
     "name": "stdout",
     "output_type": "stream",
     "text": [
      "epoch 3  | loss: 0.62517 | train_mse: 1.75715 | train_mae: 1.03219 |  0:00:00s\n",
      "epoch 4  | loss: 0.62279 | train_mse: 1.44276 | train_mae: 0.89991 |  0:00:00s\n"
     ]
    },
    {
     "name": "stdout",
     "output_type": "stream",
     "text": [
      "epoch 5  | loss: 0.37932 | train_mse: 1.07764 | train_mae: 0.78365 |  0:00:00s\n",
      "epoch 6  | loss: 0.6699  | train_mse: 0.68738 | train_mae: 0.6429  |  0:00:00s\n",
      "epoch 7  | loss: 0.4964  | train_mse: 0.65949 | train_mae: 0.63044 |  0:00:00s\n"
     ]
    },
    {
     "name": "stdout",
     "output_type": "stream",
     "text": [
      "epoch 8  | loss: 0.38969 | train_mse: 0.71052 | train_mae: 0.64894 |  0:00:01s\n",
      "epoch 9  | loss: 0.56469 | train_mse: 0.94139 | train_mae: 0.70461 |  0:00:01s\n"
     ]
    },
    {
     "name": "stdout",
     "output_type": "stream",
     "text": [
      "epoch 10 | loss: 0.48866 | train_mse: 0.9679  | train_mae: 0.65795 |  0:00:01s\n",
      "epoch 11 | loss: 0.50021 | train_mse: 0.66188 | train_mae: 0.54163 |  0:00:01s\n"
     ]
    },
    {
     "name": "stdout",
     "output_type": "stream",
     "text": [
      "epoch 12 | loss: 0.39072 | train_mse: 0.73185 | train_mae: 0.58658 |  0:00:01s\n",
      "epoch 13 | loss: 0.38845 | train_mse: 0.93876 | train_mae: 0.67064 |  0:00:01s\n"
     ]
    },
    {
     "name": "stdout",
     "output_type": "stream",
     "text": [
      "epoch 14 | loss: 0.33873 | train_mse: 0.77438 | train_mae: 0.57182 |  0:00:01s\n",
      "epoch 15 | loss: 0.30285 | train_mse: 0.80106 | train_mae: 0.55287 |  0:00:02s\n"
     ]
    },
    {
     "name": "stdout",
     "output_type": "stream",
     "text": [
      "epoch 16 | loss: 0.35846 | train_mse: 0.77775 | train_mae: 0.5483  |  0:00:02s\n",
      "epoch 17 | loss: 0.4038  | train_mse: 0.87838 | train_mae: 0.62911 |  0:00:02s\n"
     ]
    },
    {
     "name": "stdout",
     "output_type": "stream",
     "text": [
      "epoch 18 | loss: 0.2686  | train_mse: 0.49423 | train_mae: 0.52284 |  0:00:02s\n",
      "epoch 19 | loss: 0.35803 | train_mse: 0.30869 | train_mae: 0.4232  |  0:00:02s\n"
     ]
    },
    {
     "name": "stdout",
     "output_type": "stream",
     "text": [
      "epoch 20 | loss: 0.33663 | train_mse: 0.31716 | train_mae: 0.40341 |  0:00:02s\n"
     ]
    },
    {
     "name": "stdout",
     "output_type": "stream",
     "text": [
      "epoch 21 | loss: 0.18178 | train_mse: 0.51735 | train_mae: 0.50643 |  0:00:03s\n",
      "epoch 22 | loss: 0.34572 | train_mse: 0.55717 | train_mae: 0.51266 |  0:00:03s\n"
     ]
    },
    {
     "name": "stdout",
     "output_type": "stream",
     "text": [
      "epoch 23 | loss: 0.25387 | train_mse: 0.44333 | train_mae: 0.46228 |  0:00:03s\n",
      "epoch 24 | loss: 0.23588 | train_mse: 0.29364 | train_mae: 0.39228 |  0:00:03s\n",
      "epoch 25 | loss: 0.14921 | train_mse: 0.25656 | train_mae: 0.35899 |  0:00:03s\n"
     ]
    },
    {
     "name": "stdout",
     "output_type": "stream",
     "text": [
      "epoch 26 | loss: 0.23716 | train_mse: 0.27232 | train_mae: 0.37082 |  0:00:03s\n",
      "epoch 27 | loss: 0.26158 | train_mse: 0.22095 | train_mae: 0.34781 |  0:00:03s\n",
      "epoch 28 | loss: 0.15506 | train_mse: 0.16513 | train_mae: 0.32118 |  0:00:03s\n"
     ]
    },
    {
     "name": "stdout",
     "output_type": "stream",
     "text": [
      "epoch 29 | loss: 0.24023 | train_mse: 0.15042 | train_mae: 0.31023 |  0:00:03s\n",
      "epoch 30 | loss: 0.40523 | train_mse: 0.13174 | train_mae: 0.28546 |  0:00:03s\n",
      "epoch 31 | loss: 0.20751 | train_mse: 0.12671 | train_mae: 0.27988 |  0:00:03s\n"
     ]
    },
    {
     "name": "stdout",
     "output_type": "stream",
     "text": [
      "epoch 32 | loss: 0.22939 | train_mse: 0.13775 | train_mae: 0.2901  |  0:00:04s\n",
      "epoch 33 | loss: 0.23892 | train_mse: 0.17925 | train_mae: 0.3095  |  0:00:04s\n",
      "epoch 34 | loss: 0.22022 | train_mse: 0.16011 | train_mae: 0.31569 |  0:00:04s\n"
     ]
    },
    {
     "name": "stdout",
     "output_type": "stream",
     "text": [
      "epoch 35 | loss: 0.27669 | train_mse: 0.13502 | train_mae: 0.29403 |  0:00:04s\n",
      "epoch 36 | loss: 0.34102 | train_mse: 0.13305 | train_mae: 0.29251 |  0:00:04s\n",
      "epoch 37 | loss: 0.30154 | train_mse: 0.13116 | train_mae: 0.28346 |  0:00:04s\n"
     ]
    },
    {
     "name": "stdout",
     "output_type": "stream",
     "text": [
      "epoch 38 | loss: 0.28879 | train_mse: 0.14926 | train_mae: 0.28924 |  0:00:04s\n",
      "epoch 39 | loss: 0.16724 | train_mse: 0.15631 | train_mae: 0.30155 |  0:00:04s\n",
      "epoch 40 | loss: 0.2183  | train_mse: 0.15293 | train_mae: 0.30807 |  0:00:04s\n"
     ]
    },
    {
     "name": "stdout",
     "output_type": "stream",
     "text": [
      "epoch 41 | loss: 0.18387 | train_mse: 0.11518 | train_mae: 0.27952 |  0:00:04s\n",
      "epoch 42 | loss: 0.12906 | train_mse: 0.13079 | train_mae: 0.28856 |  0:00:04s\n",
      "epoch 43 | loss: 0.24844 | train_mse: 0.14957 | train_mae: 0.30121 |  0:00:04s\n",
      "epoch 44 | loss: 0.23164 | train_mse: 0.10114 | train_mae: 0.27364 |  0:00:04s\n"
     ]
    },
    {
     "name": "stdout",
     "output_type": "stream",
     "text": [
      "epoch 45 | loss: 0.22794 | train_mse: 0.14817 | train_mae: 0.30434 |  0:00:05s\n",
      "epoch 46 | loss: 0.25946 | train_mse: 0.16022 | train_mae: 0.30922 |  0:00:05s\n",
      "epoch 47 | loss: 0.6208  | train_mse: 0.19693 | train_mae: 0.315   |  0:00:05s\n",
      "epoch 48 | loss: 0.15553 | train_mse: 0.26405 | train_mae: 0.34329 |  0:00:05s\n"
     ]
    },
    {
     "name": "stdout",
     "output_type": "stream",
     "text": [
      "epoch 49 | loss: 0.20949 | train_mse: 0.24929 | train_mae: 0.3422  |  0:00:05s\n",
      "epoch 50 | loss: 0.24352 | train_mse: 0.20597 | train_mae: 0.31696 |  0:00:05s\n",
      "epoch 51 | loss: 0.15701 | train_mse: 0.15785 | train_mae: 0.28477 |  0:00:05s\n",
      "epoch 52 | loss: 0.15497 | train_mse: 0.19212 | train_mae: 0.29512 |  0:00:05s\n"
     ]
    },
    {
     "name": "stdout",
     "output_type": "stream",
     "text": [
      "epoch 53 | loss: 0.17946 | train_mse: 0.21343 | train_mae: 0.32876 |  0:00:05s\n",
      "epoch 54 | loss: 0.25854 | train_mse: 0.17189 | train_mae: 0.3048  |  0:00:05s\n",
      "epoch 55 | loss: 0.23116 | train_mse: 0.17083 | train_mae: 0.31006 |  0:00:05s\n",
      "epoch 56 | loss: 0.26347 | train_mse: 0.21472 | train_mae: 0.333   |  0:00:05s\n"
     ]
    },
    {
     "name": "stdout",
     "output_type": "stream",
     "text": [
      "epoch 57 | loss: 0.13259 | train_mse: 0.20539 | train_mae: 0.31435 |  0:00:05s\n",
      "epoch 58 | loss: 0.33557 | train_mse: 0.09776 | train_mae: 0.24621 |  0:00:05s\n",
      "epoch 59 | loss: 0.12217 | train_mse: 0.12907 | train_mae: 0.27711 |  0:00:06s\n"
     ]
    },
    {
     "name": "stdout",
     "output_type": "stream",
     "text": [
      "epoch 60 | loss: 0.14805 | train_mse: 0.25413 | train_mae: 0.32383 |  0:00:06s\n",
      "epoch 61 | loss: 0.18161 | train_mse: 0.18135 | train_mae: 0.29819 |  0:00:06s\n",
      "epoch 62 | loss: 0.1972  | train_mse: 0.16654 | train_mae: 0.28219 |  0:00:06s\n",
      "epoch 63 | loss: 0.14185 | train_mse: 0.17955 | train_mae: 0.29433 |  0:00:06s\n"
     ]
    },
    {
     "name": "stdout",
     "output_type": "stream",
     "text": [
      "epoch 64 | loss: 0.46914 | train_mse: 0.14155 | train_mae: 0.27054 |  0:00:06s\n",
      "epoch 65 | loss: 0.10408 | train_mse: 0.1463  | train_mae: 0.27608 |  0:00:06s\n",
      "epoch 66 | loss: 0.25056 | train_mse: 0.10847 | train_mae: 0.25299 |  0:00:06s\n",
      "epoch 67 | loss: 0.27237 | train_mse: 0.10539 | train_mae: 0.25634 |  0:00:06s\n"
     ]
    },
    {
     "name": "stdout",
     "output_type": "stream",
     "text": [
      "epoch 68 | loss: 0.13337 | train_mse: 0.09704 | train_mae: 0.24847 |  0:00:06s\n",
      "epoch 69 | loss: 0.18177 | train_mse: 0.11303 | train_mae: 0.26246 |  0:00:06s\n",
      "epoch 70 | loss: 0.25629 | train_mse: 0.10447 | train_mae: 0.25732 |  0:00:06s\n",
      "epoch 71 | loss: 0.23169 | train_mse: 0.09665 | train_mae: 0.24375 |  0:00:06s\n"
     ]
    },
    {
     "name": "stdout",
     "output_type": "stream",
     "text": [
      "epoch 72 | loss: 0.1366  | train_mse: 0.10394 | train_mae: 0.24712 |  0:00:06s\n",
      "epoch 73 | loss: 0.24148 | train_mse: 0.1231  | train_mae: 0.26139 |  0:00:06s\n",
      "epoch 74 | loss: 0.22674 | train_mse: 0.19002 | train_mae: 0.3075  |  0:00:07s\n"
     ]
    },
    {
     "name": "stdout",
     "output_type": "stream",
     "text": [
      "epoch 75 | loss: 0.1917  | train_mse: 0.17338 | train_mae: 0.29969 |  0:00:07s\n",
      "epoch 76 | loss: 0.21822 | train_mse: 0.09475 | train_mae: 0.25561 |  0:00:07s\n",
      "epoch 77 | loss: 0.35033 | train_mse: 0.11283 | train_mae: 0.27524 |  0:00:07s\n"
     ]
    },
    {
     "name": "stdout",
     "output_type": "stream",
     "text": [
      "epoch 78 | loss: 0.32802 | train_mse: 0.14003 | train_mae: 0.29444 |  0:00:07s\n",
      "epoch 79 | loss: 0.26153 | train_mse: 0.15304 | train_mae: 0.29564 |  0:00:07s\n",
      "epoch 80 | loss: 0.18045 | train_mse: 0.29488 | train_mae: 0.37296 |  0:00:07s\n",
      "epoch 81 | loss: 0.19698 | train_mse: 0.42054 | train_mae: 0.42759 |  0:00:07s\n"
     ]
    },
    {
     "name": "stdout",
     "output_type": "stream",
     "text": [
      "epoch 82 | loss: 0.19751 | train_mse: 0.30248 | train_mae: 0.37598 |  0:00:07s\n",
      "epoch 83 | loss: 0.13744 | train_mse: 0.17365 | train_mae: 0.31146 |  0:00:07s\n",
      "epoch 84 | loss: 0.13859 | train_mse: 0.10978 | train_mae: 0.26167 |  0:00:07s\n",
      "epoch 85 | loss: 0.26853 | train_mse: 0.11057 | train_mae: 0.26229 |  0:00:07s\n"
     ]
    },
    {
     "name": "stdout",
     "output_type": "stream",
     "text": [
      "epoch 86 | loss: 0.12482 | train_mse: 0.15296 | train_mae: 0.29896 |  0:00:07s\n",
      "epoch 87 | loss: 0.2041  | train_mse: 0.19641 | train_mae: 0.32104 |  0:00:07s\n"
     ]
    },
    {
     "name": "stdout",
     "output_type": "stream",
     "text": [
      "epoch 88 | loss: 0.13813 | train_mse: 0.15676 | train_mae: 0.29555 |  0:00:08s\n",
      "epoch 89 | loss: 0.11623 | train_mse: 0.10078 | train_mae: 0.24422 |  0:00:08s\n",
      "epoch 90 | loss: 0.29589 | train_mse: 0.09712 | train_mae: 0.24106 |  0:00:08s\n",
      "epoch 91 | loss: 0.17489 | train_mse: 0.10336 | train_mae: 0.25569 |  0:00:08s\n"
     ]
    },
    {
     "name": "stdout",
     "output_type": "stream",
     "text": [
      "epoch 92 | loss: 0.26021 | train_mse: 0.1144  | train_mae: 0.26598 |  0:00:08s\n",
      "epoch 93 | loss: 0.21139 | train_mse: 0.12338 | train_mae: 0.27688 |  0:00:08s\n",
      "epoch 94 | loss: 0.13035 | train_mse: 0.10941 | train_mae: 0.26436 |  0:00:08s\n",
      "epoch 95 | loss: 0.17461 | train_mse: 0.09363 | train_mae: 0.25006 |  0:00:08s\n"
     ]
    },
    {
     "name": "stdout",
     "output_type": "stream",
     "text": [
      "epoch 96 | loss: 0.22422 | train_mse: 0.1017  | train_mae: 0.25178 |  0:00:08s\n",
      "epoch 97 | loss: 0.10681 | train_mse: 0.10077 | train_mae: 0.24688 |  0:00:08s\n",
      "epoch 98 | loss: 0.09832 | train_mse: 0.0894  | train_mae: 0.23133 |  0:00:08s\n",
      "epoch 99 | loss: 0.14848 | train_mse: 0.08156 | train_mae: 0.22291 |  0:00:08s\n"
     ]
    },
    {
     "name": "stdout",
     "output_type": "stream",
     "text": [
      "epoch 100| loss: 0.17057 | train_mse: 0.12899 | train_mae: 0.25798 |  0:00:08s\n",
      "epoch 101| loss: 0.2125  | train_mse: 0.14056 | train_mae: 0.26128 |  0:00:08s\n",
      "epoch 102| loss: 0.11139 | train_mse: 0.13214 | train_mae: 0.26598 |  0:00:09s\n"
     ]
    },
    {
     "name": "stdout",
     "output_type": "stream",
     "text": [
      "epoch 103| loss: 0.19725 | train_mse: 0.13689 | train_mae: 0.27947 |  0:00:09s\n",
      "epoch 104| loss: 0.27189 | train_mse: 0.09799 | train_mae: 0.24377 |  0:00:09s\n",
      "epoch 105| loss: 0.38333 | train_mse: 0.11673 | train_mae: 0.25279 |  0:00:09s\n",
      "epoch 106| loss: 0.15734 | train_mse: 0.1108  | train_mae: 0.24786 |  0:00:09s\n"
     ]
    },
    {
     "name": "stdout",
     "output_type": "stream",
     "text": [
      "epoch 107| loss: 0.2649  | train_mse: 0.11323 | train_mae: 0.25039 |  0:00:09s\n",
      "epoch 108| loss: 0.34757 | train_mse: 0.09997 | train_mae: 0.24566 |  0:00:09s\n",
      "epoch 109| loss: 0.16097 | train_mse: 0.09326 | train_mae: 0.23881 |  0:00:09s\n"
     ]
    },
    {
     "name": "stdout",
     "output_type": "stream",
     "text": [
      "epoch 110| loss: 0.38829 | train_mse: 0.1254  | train_mae: 0.26479 |  0:00:09s\n",
      "epoch 111| loss: 0.21964 | train_mse: 0.12531 | train_mae: 0.26856 |  0:00:09s\n",
      "epoch 112| loss: 0.25071 | train_mse: 0.10542 | train_mae: 0.25165 |  0:00:09s\n",
      "epoch 113| loss: 0.17788 | train_mse: 0.09878 | train_mae: 0.24468 |  0:00:09s\n"
     ]
    },
    {
     "name": "stdout",
     "output_type": "stream",
     "text": [
      "epoch 114| loss: 0.11402 | train_mse: 0.09321 | train_mae: 0.23481 |  0:00:09s\n",
      "epoch 115| loss: 0.22086 | train_mse: 0.10788 | train_mae: 0.24848 |  0:00:10s\n",
      "epoch 116| loss: 0.09463 | train_mse: 0.11253 | train_mae: 0.24516 |  0:00:10s\n"
     ]
    },
    {
     "name": "stdout",
     "output_type": "stream",
     "text": [
      "epoch 117| loss: 0.26805 | train_mse: 0.09933 | train_mae: 0.23201 |  0:00:10s\n",
      "epoch 118| loss: 0.21291 | train_mse: 0.09738 | train_mae: 0.23111 |  0:00:10s\n",
      "epoch 119| loss: 0.33253 | train_mse: 0.09176 | train_mae: 0.22608 |  0:00:10s\n"
     ]
    },
    {
     "name": "stdout",
     "output_type": "stream",
     "text": [
      "epoch 120| loss: 0.13291 | train_mse: 0.09107 | train_mae: 0.22692 |  0:00:10s\n",
      "epoch 121| loss: 0.11769 | train_mse: 0.10121 | train_mae: 0.23687 |  0:00:10s\n",
      "epoch 122| loss: 0.16197 | train_mse: 0.11102 | train_mae: 0.25024 |  0:00:10s\n"
     ]
    },
    {
     "name": "stdout",
     "output_type": "stream",
     "text": [
      "epoch 123| loss: 0.12066 | train_mse: 0.09418 | train_mae: 0.2283  |  0:00:10s\n",
      "epoch 124| loss: 0.24347 | train_mse: 0.09346 | train_mae: 0.23602 |  0:00:10s\n",
      "epoch 125| loss: 0.26972 | train_mse: 0.11213 | train_mae: 0.26106 |  0:00:11s\n"
     ]
    },
    {
     "name": "stdout",
     "output_type": "stream",
     "text": [
      "epoch 126| loss: 0.19962 | train_mse: 0.0953  | train_mae: 0.24043 |  0:00:11s\n",
      "epoch 127| loss: 0.16055 | train_mse: 0.10016 | train_mae: 0.23632 |  0:00:11s\n",
      "epoch 128| loss: 0.16916 | train_mse: 0.10539 | train_mae: 0.23781 |  0:00:11s\n"
     ]
    },
    {
     "name": "stdout",
     "output_type": "stream",
     "text": [
      "epoch 129| loss: 0.15095 | train_mse: 0.08411 | train_mae: 0.21263 |  0:00:11s\n",
      "epoch 130| loss: 0.13903 | train_mse: 0.0863  | train_mae: 0.22637 |  0:00:11s\n"
     ]
    },
    {
     "name": "stdout",
     "output_type": "stream",
     "text": [
      "epoch 131| loss: 0.34122 | train_mse: 0.1501  | train_mae: 0.26473 |  0:00:11s\n",
      "epoch 132| loss: 0.25703 | train_mse: 0.16963 | train_mae: 0.27402 |  0:00:11s\n"
     ]
    },
    {
     "name": "stdout",
     "output_type": "stream",
     "text": [
      "epoch 133| loss: 0.21756 | train_mse: 0.1445  | train_mae: 0.27053 |  0:00:11s\n",
      "epoch 134| loss: 0.16125 | train_mse: 0.12695 | train_mae: 0.26794 |  0:00:11s\n",
      "epoch 135| loss: 0.12897 | train_mse: 0.10053 | train_mae: 0.2415  |  0:00:12s\n"
     ]
    },
    {
     "name": "stdout",
     "output_type": "stream",
     "text": [
      "epoch 136| loss: 0.15803 | train_mse: 0.08738 | train_mae: 0.23428 |  0:00:12s\n",
      "epoch 137| loss: 0.18701 | train_mse: 0.12236 | train_mae: 0.26868 |  0:00:12s\n"
     ]
    },
    {
     "name": "stdout",
     "output_type": "stream",
     "text": [
      "epoch 138| loss: 0.11894 | train_mse: 0.13599 | train_mae: 0.27871 |  0:00:12s\n",
      "epoch 139| loss: 0.21543 | train_mse: 0.14369 | train_mae: 0.26821 |  0:00:12s\n",
      "epoch 140| loss: 0.16147 | train_mse: 0.15318 | train_mae: 0.26739 |  0:00:12s\n"
     ]
    },
    {
     "name": "stdout",
     "output_type": "stream",
     "text": [
      "epoch 141| loss: 0.16853 | train_mse: 0.19145 | train_mae: 0.29243 |  0:00:12s\n",
      "epoch 142| loss: 0.19494 | train_mse: 0.20867 | train_mae: 0.28831 |  0:00:12s\n",
      "epoch 143| loss: 0.09366 | train_mse: 0.27508 | train_mae: 0.32487 |  0:00:12s\n"
     ]
    },
    {
     "name": "stdout",
     "output_type": "stream",
     "text": [
      "epoch 144| loss: 0.22249 | train_mse: 0.25873 | train_mae: 0.33011 |  0:00:12s\n",
      "epoch 145| loss: 0.14631 | train_mse: 0.22158 | train_mae: 0.31018 |  0:00:13s\n",
      "epoch 146| loss: 0.17611 | train_mse: 0.19335 | train_mae: 0.29211 |  0:00:13s\n"
     ]
    },
    {
     "name": "stdout",
     "output_type": "stream",
     "text": [
      "epoch 147| loss: 0.21191 | train_mse: 0.14681 | train_mae: 0.26559 |  0:00:13s\n",
      "epoch 148| loss: 0.11045 | train_mse: 0.13429 | train_mae: 0.26309 |  0:00:13s\n",
      "epoch 149| loss: 0.1017  | train_mse: 0.1259  | train_mae: 0.25856 |  0:00:13s\n"
     ]
    },
    {
     "name": "stdout",
     "output_type": "stream",
     "text": [
      "epoch 150| loss: 0.20525 | train_mse: 0.1916  | train_mae: 0.29727 |  0:00:13s\n",
      "epoch 151| loss: 0.28189 | train_mse: 0.16823 | train_mae: 0.304   |  0:00:13s\n",
      "epoch 152| loss: 0.12118 | train_mse: 0.23641 | train_mae: 0.34201 |  0:00:13s\n"
     ]
    },
    {
     "name": "stdout",
     "output_type": "stream",
     "text": [
      "epoch 153| loss: 0.27101 | train_mse: 0.26835 | train_mae: 0.35851 |  0:00:13s\n",
      "epoch 154| loss: 0.1208  | train_mse: 0.20364 | train_mae: 0.31999 |  0:00:13s\n",
      "epoch 155| loss: 0.11422 | train_mse: 0.19415 | train_mae: 0.31031 |  0:00:13s\n"
     ]
    },
    {
     "name": "stdout",
     "output_type": "stream",
     "text": [
      "epoch 156| loss: 0.21556 | train_mse: 0.19551 | train_mae: 0.31992 |  0:00:13s\n",
      "epoch 157| loss: 0.15882 | train_mse: 0.18755 | train_mae: 0.30733 |  0:00:13s\n",
      "epoch 158| loss: 0.16935 | train_mse: 0.29724 | train_mae: 0.33041 |  0:00:13s\n"
     ]
    },
    {
     "name": "stdout",
     "output_type": "stream",
     "text": [
      "epoch 159| loss: 0.52227 | train_mse: 0.55094 | train_mae: 0.39333 |  0:00:14s\n",
      "epoch 160| loss: 0.2286  | train_mse: 0.19865 | train_mae: 0.3048  |  0:00:14s\n",
      "epoch 161| loss: 0.10339 | train_mse: 0.11089 | train_mae: 0.26433 |  0:00:14s\n"
     ]
    },
    {
     "name": "stdout",
     "output_type": "stream",
     "text": [
      "epoch 162| loss: 0.10431 | train_mse: 0.17881 | train_mae: 0.30673 |  0:00:14s\n",
      "epoch 163| loss: 0.12502 | train_mse: 0.18521 | train_mae: 0.30843 |  0:00:14s\n",
      "epoch 164| loss: 0.37289 | train_mse: 0.1242  | train_mae: 0.26737 |  0:00:14s\n"
     ]
    },
    {
     "name": "stdout",
     "output_type": "stream",
     "text": [
      "epoch 165| loss: 0.11124 | train_mse: 0.11163 | train_mae: 0.25805 |  0:00:14s\n",
      "epoch 166| loss: 0.1791  | train_mse: 0.14002 | train_mae: 0.28487 |  0:00:14s\n",
      "epoch 167| loss: 0.24381 | train_mse: 0.10972 | train_mae: 0.25667 |  0:00:14s\n"
     ]
    },
    {
     "name": "stdout",
     "output_type": "stream",
     "text": [
      "epoch 168| loss: 0.27192 | train_mse: 0.07572 | train_mae: 0.22162 |  0:00:14s\n",
      "epoch 169| loss: 0.13758 | train_mse: 0.08226 | train_mae: 0.22544 |  0:00:14s\n",
      "epoch 170| loss: 0.11982 | train_mse: 0.0798  | train_mae: 0.22084 |  0:00:14s\n"
     ]
    },
    {
     "name": "stdout",
     "output_type": "stream",
     "text": [
      "epoch 171| loss: 0.23423 | train_mse: 0.08312 | train_mae: 0.22535 |  0:00:14s\n",
      "epoch 172| loss: 0.17917 | train_mse: 0.08443 | train_mae: 0.22314 |  0:00:15s\n",
      "epoch 173| loss: 0.32481 | train_mse: 0.08487 | train_mae: 0.22451 |  0:00:15s\n"
     ]
    },
    {
     "name": "stdout",
     "output_type": "stream",
     "text": [
      "epoch 174| loss: 0.1159  | train_mse: 0.09457 | train_mae: 0.22784 |  0:00:15s\n",
      "epoch 175| loss: 0.17444 | train_mse: 0.0883  | train_mae: 0.22413 |  0:00:15s\n",
      "epoch 176| loss: 0.13009 | train_mse: 0.09806 | train_mae: 0.23031 |  0:00:15s\n",
      "epoch 177| loss: 0.15985 | train_mse: 0.12575 | train_mae: 0.25546 |  0:00:15s\n"
     ]
    },
    {
     "name": "stdout",
     "output_type": "stream",
     "text": [
      "epoch 178| loss: 0.14555 | train_mse: 0.1033  | train_mae: 0.24614 |  0:00:15s\n",
      "epoch 179| loss: 0.14461 | train_mse: 0.1073  | train_mae: 0.26835 |  0:00:15s\n",
      "\n",
      "Early stopping occurred at epoch 179 with best_epoch = 129 and best_train_mae = 0.21263\n",
      "Best weights from best epoch are automatically used!\n"
     ]
    }
   ],
   "source": [
    "#Train the Model\n",
    "\n",
    "Y_train = np.reshape(Y_train, (-1, 1))\n",
    "Y_test = np.reshape(Y_test, (-1, 1))\n",
    "\n",
    "prior_model = TabNetRegressor(optimizer_fn=torch.optim.Adam, optimizer_params=dict(lr = 0.02),\n",
    "          #scheduler_params={\"step_size\":10, ], \"gamma\":0.9},\n",
    "          #scheduler_fn=torch.optim.lr_scheduler.StepLR\n",
    "          )  #TabNetRegressor()\n",
    "\n",
    "prior_model.fit(X_train,Y_train,eval_set=[(X_train, Y_train)],\n",
    "            eval_name=['train'], \n",
    "            eval_metric=[ 'mse', 'mae'], \n",
    "            max_epochs = n_epochs, \n",
    "            batch_size = batch_size,\n",
    "            patience=50\n",
    "            )"
   ]
  },
  {
   "cell_type": "code",
   "execution_count": 10,
   "id": "af65dcda",
   "metadata": {
    "execution": {
     "iopub.execute_input": "2022-06-22T12:44:08.089797Z",
     "iopub.status.busy": "2022-06-22T12:44:08.088853Z",
     "iopub.status.idle": "2022-06-22T12:44:08.111027Z",
     "shell.execute_reply": "2022-06-22T12:44:08.111486Z"
    },
    "id": "af65dcda",
    "papermill": {
     "duration": 0.069758,
     "end_time": "2022-06-22T12:44:08.111704",
     "exception": false,
     "start_time": "2022-06-22T12:44:08.041946",
     "status": "completed"
    },
    "tags": []
   },
   "outputs": [
    {
     "data": {
      "application/scrapbook.scrap.json+json": {
       "data": 0.30408736874399545,
       "encoder": "json",
       "name": "Prior Model MSE",
       "version": 1
      }
     },
     "metadata": {
      "scrapbook": {
       "data": true,
       "display": false,
       "name": "Prior Model MSE"
      }
     },
     "output_type": "display_data"
    },
    {
     "data": {
      "application/scrapbook.scrap.json+json": {
       "data": 0.3037174429189829,
       "encoder": "json",
       "name": "ABC Pre-generator MSE",
       "version": 1
      }
     },
     "metadata": {
      "scrapbook": {
       "data": true,
       "display": false,
       "name": "ABC Pre-generator MSE"
      }
     },
     "output_type": "display_data"
    },
    {
     "data": {
      "application/scrapbook.scrap.json+json": {
       "data": 0.4277663117412479,
       "encoder": "json",
       "name": "Prior Model MSE",
       "version": 1
      }
     },
     "metadata": {
      "scrapbook": {
       "data": true,
       "display": false,
       "name": "Prior Model MSE"
      }
     },
     "output_type": "display_data"
    },
    {
     "data": {
      "application/scrapbook.scrap.json+json": {
       "data": 0.4246173066225438,
       "encoder": "json",
       "name": "ABC Pre-generator MSE",
       "version": 1
      }
     },
     "metadata": {
      "scrapbook": {
       "data": true,
       "display": false,
       "name": "ABC Pre-generator MSE"
      }
     },
     "output_type": "display_data"
    }
   ],
   "source": [
    "y_pred = prior_model.predict(X_test)\n",
    "y_abc = y_pred + np.random.normal(0,variance, y_pred.shape) + bias \n",
    "mse = mean_squared_error(y_pred,Y_test)\n",
    "sb.glue(\"Prior Model MSE\",mse)\n",
    "mse = mean_squared_error(y_abc,Y_test)\n",
    "sb.glue(\"ABC Pre-generator MSE\",mse)\n",
    "mae = mean_absolute_error(y_pred,Y_test)\n",
    "sb.glue(\"Prior Model MSE\",mae)\n",
    "mae = mean_absolute_error(y_abc,Y_test)\n",
    "sb.glue(\"ABC Pre-generator MSE\",mae)"
   ]
  },
  {
   "cell_type": "markdown",
   "id": "25609da2",
   "metadata": {
    "papermill": {
     "duration": 0.03887,
     "end_time": "2022-06-22T12:44:08.181031",
     "exception": false,
     "start_time": "2022-06-22T12:44:08.142161",
     "status": "completed"
    },
    "tags": []
   },
   "source": [
    "# ABC GAN Model"
   ]
  },
  {
   "cell_type": "code",
   "execution_count": 11,
   "id": "dfc3464d",
   "metadata": {
    "execution": {
     "iopub.execute_input": "2022-06-22T12:44:08.251076Z",
     "iopub.status.busy": "2022-06-22T12:44:08.250325Z",
     "iopub.status.idle": "2022-06-22T12:44:08.255542Z",
     "shell.execute_reply": "2022-06-22T12:44:08.256043Z"
    },
    "papermill": {
     "duration": 0.044079,
     "end_time": "2022-06-22T12:44:08.256252",
     "exception": false,
     "start_time": "2022-06-22T12:44:08.212173",
     "status": "completed"
    },
    "tags": []
   },
   "outputs": [],
   "source": [
    "gen = network.Generator(n_features+1).to(device)\n",
    "disc = network.Discriminator(n_features+1).to(device)\n",
    "\n",
    "criterion = torch.nn.BCELoss()\n",
    "gen_opt = torch.optim.Adam(gen.parameters(), lr=0.001, betas=(0.5, 0.999))\n",
    "disc_opt = torch.optim.Adam(disc.parameters(), lr=0.001, betas=(0.5, 0.999))"
   ]
  },
  {
   "cell_type": "code",
   "execution_count": 12,
   "id": "b75fdd85",
   "metadata": {
    "execution": {
     "iopub.execute_input": "2022-06-22T12:44:08.332662Z",
     "iopub.status.busy": "2022-06-22T12:44:08.331945Z",
     "iopub.status.idle": "2022-06-22T12:44:55.871699Z",
     "shell.execute_reply": "2022-06-22T12:44:55.872535Z"
    },
    "papermill": {
     "duration": 47.581006,
     "end_time": "2022-06-22T12:44:55.872765",
     "exception": false,
     "start_time": "2022-06-22T12:44:08.291759",
     "status": "completed"
    },
    "tags": []
   },
   "outputs": [
    {
     "data": {
      "image/png": "[encoded data removed]",
      "text/plain": [
       "<Figure size 432x288 with 1 Axes>"
      ]
     },
     "metadata": {
      "needs_background": "light"
     },
     "output_type": "display_data"
    },
    {
     "data": {
      "image/png": "[encoded data removed]",
      "text/plain": [
       "<Figure size 432x288 with 1 Axes>"
      ]
     },
     "metadata": {
      "needs_background": "light"
     },
     "output_type": "display_data"
    }
   ],
   "source": [
    "#Training the ABC_GAN \n",
    "ABC_train_test2.training_GAN(disc,gen,disc_opt,gen_opt,train_data,batch_size,n_epochs,criterion,prior_model,variance,bias,device)"
   ]
  },
  {
   "cell_type": "code",
   "execution_count": 13,
   "id": "1fa7c368",
   "metadata": {
    "execution": {
     "iopub.execute_input": "2022-06-22T12:44:55.961138Z",
     "iopub.status.busy": "2022-06-22T12:44:55.959945Z",
     "iopub.status.idle": "2022-06-22T12:44:56.928995Z",
     "shell.execute_reply": "2022-06-22T12:44:56.929698Z"
    },
    "papermill": {
     "duration": 1.02109,
     "end_time": "2022-06-22T12:44:56.930068",
     "exception": false,
     "start_time": "2022-06-22T12:44:55.908978",
     "status": "completed"
    },
    "tags": []
   },
   "outputs": [
    {
     "data": {
      "application/scrapbook.scrap.json+json": {
       "data": 0.32253100593046086,
       "encoder": "json",
       "name": "ABC-GAN Model 1 MSE",
       "version": 1
      }
     },
     "metadata": {
      "scrapbook": {
       "data": true,
       "display": false,
       "name": "ABC-GAN Model 1 MSE"
      }
     },
     "output_type": "display_data"
    },
    {
     "data": {
      "application/scrapbook.scrap.json+json": {
       "data": 0.44800338289048525,
       "encoder": "json",
       "name": "ABC-GAN Model 1 MAE",
       "version": 1
      }
     },
     "metadata": {
      "scrapbook": {
       "data": true,
       "display": false,
       "name": "ABC-GAN Model 1 MAE"
      }
     },
     "output_type": "display_data"
    },
    {
     "data": {
      "application/scrapbook.scrap.json+json": {
       "data": 8.960067657809704,
       "encoder": "json",
       "name": "ABC-GAN Model 1 Manhattan Distance",
       "version": 1
      }
     },
     "metadata": {
      "scrapbook": {
       "data": true,
       "display": false,
       "name": "ABC-GAN Model 1 Manhattan Distance"
      }
     },
     "output_type": "display_data"
    },
    {
     "data": {
      "application/scrapbook.scrap.json+json": {
       "data": 2.539799845209976,
       "encoder": "json",
       "name": "ABC-GAN Model 1 Euclidean distance",
       "version": 1
      }
     },
     "metadata": {
      "scrapbook": {
       "data": true,
       "display": false,
       "name": "ABC-GAN Model 1 Euclidean distance"
      }
     },
     "output_type": "display_data"
    },
    {
     "data": {
      "application/scrapbook.scrap.json+json": {
       "data": [
        [
         0.32279455884233127,
         0.3188963680342446,
         0.32123838556390516,
         0.32244539059816035,
         0.32116890860783404,
         0.32324103492385003,
         0.32069675993227376,
         0.3247185245288763,
         0.32226671422738745,
         0.3244923169691295,
         0.32416785247151286,
         0.31906816944152455,
         0.3226045096876211,
         0.32212515200602165,
         0.323771730095482,
         0.32075783899734195,
         0.31897132654738286,
         0.3234953699700471,
         0.32216629318633616,
         0.321924791668345,
         0.32255588293290915,
         0.3224512953942655,
         0.32120112117917055,
         0.3230642407544409,
         0.3219629919068069,
         0.32156586846525903,
         0.3245465133820063,
         0.32215283142755347,
         0.3238268455352705,
         0.3227200420106493,
         0.3235652728163789,
         0.32173068901881774,
         0.3226233753730027,
         0.3182582405288768,
         0.3229747371659389,
         0.32289571587825483,
         0.32271707840521646,
         0.32267614456353755,
         0.32093562365201667,
         0.3234569152920114,
         0.32206971880543256,
         0.321851339107548,
         0.3224454952716416,
         0.32343735085034947,
         0.3235801366785615,
         0.32449780186558785,
         0.3246889762945242,
         0.3218666332895871,
         0.3237279145306985,
         0.3206772245852329,
         0.32295728852360855,
         0.3241018473479262,
         0.32332219457229805,
         0.32227593697160895,
         0.3220267861593112,
         0.32443516218677737,
         0.3229194813074265,
         0.325539572158512,
         0.3245751923589678,
         0.323542608483342,
         0.3206568891140791,
         0.32203710182051626,
         0.32295463707512473,
         0.32499704296171456,
         0.3241091613369863,
         0.319857186237339,
         0.32407318538804614,
         0.3211997553804132,
         0.3217040927227834,
         0.3237985359710557,
         0.32025189090758077,
         0.32292720528088964,
         0.32025739162007966,
         0.32218132209047246,
         0.3238875235047717,
         0.3227933124636707,
         0.32473613367548126,
         0.3232899624559898,
         0.3226719241873432,
         0.3253585446118627,
         0.32331176210092005,
         0.32125908026306965,
         0.32304931317209057,
         0.323229154282959,
         0.3198771942281933,
         0.31816550299907437,
         0.3228609304351265,
         0.32113223193969126,
         0.3232901970310103,
         0.32253787695668945,
         0.32216486196981636,
         0.3210165849592974,
         0.32501090729976273,
         0.32196254788829737,
         0.3244541405030714,
         0.3228233948778474,
         0.3223144660812806,
         0.324242506931871,
         0.32266180653061705,
         0.3205612504582659
        ],
        [
         0.44805026713293045,
         0.4451180814532563,
         0.44769984174054117,
         0.44847662437241526,
         0.44696854341309517,
         0.4487708947388455,
         0.4476517817704007,
         0.44987539562862366,
         0.4468042517779395,
         0.4479580781189725,
         0.44746742050629107,
         0.44720398250501603,
         0.44672088834922763,
         0.4479246428934857,
         0.4506788818864152,
         0.4468004121212289,
         0.4452386519638821,
         0.449019335093908,
         0.446170740830712,
         0.44775789591949433,
         0.4470120331970975,
         0.4499370972393081,
         0.44590718287508935,
         0.4474360755411908,
         0.4477280947146937,
         0.44771816197317094,
         0.4500577333150432,
         0.44840238157194107,
         0.4482042773393914,
         0.44794874812942,
         0.44893748227041214,
         0.4468491646228358,
         0.4475344820646569,
         0.44623790893238036,
         0.4479432052699849,
         0.4486171002266929,
         0.4481623268453404,
         0.4482281598029658,
         0.4463528296677396,
         0.4482541336445138,
         0.44759440782945603,
         0.44741113919299097,
         0.44757804337423296,
         0.4499226561514661,
         0.44918017748277633,
         0.4479570246068761,
         0.4499078481225297,
         0.44764668855350465,
         0.4483084826497361,
         0.44695959154050796,
         0.44896115611772985,
         0.4490114885149524,
         0.44681861202698203,
         0.4465712087927386,
         0.44810597363393756,
         0.4482153921155259,
         0.4485228932229802,
         0.4511220178334042,
         0.4490451617864892,
         0.44925381902139633,
         0.44829671781044456,
         0.448098590108566,
         0.4492309323279187,
         0.4493313456652686,
         0.44910399306099863,
         0.44659739572089163,
         0.4494738011388108,
         0.44626410517375914,
         0.44752394694369285,
         0.4480274009285495,
         0.449740435811691,
         0.4476584057090804,
         0.44731566857080907,
         0.44766331526916475,
         0.4489071613876149,
         0.4475233069388196,
         0.4471762529341504,
         0.4482221281854436,
         0.4479695251910016,
         0.44993774618487803,
         0.4480743332533166,
         0.4478227297542617,
         0.4476953360019252,
         0.4482585712103173,
         0.44698332909028976,
         0.44557115982752293,
         0.448901583137922,
         0.44745149079244584,
         0.4492194316117093,
         0.4482141307322308,
         0.4478475606767461,
         0.44731382231693717,
         0.4499133675126359,
         0.44488534617703407,
         0.44994512263219805,
         0.4475003792671487,
         0.44764886039774865,
         0.44858745511155573,
         0.44830459605436773,
         0.44821853439789267
        ],
        [
         8.96100534265861,
         8.902361629065126,
         8.953996834810823,
         8.969532487448305,
         8.939370868261904,
         8.97541789477691,
         8.953035635408014,
         8.997507912572473,
         8.93608503555879,
         8.95916156237945,
         8.949348410125822,
         8.94407965010032,
         8.934417766984552,
         8.958492857869714,
         9.013577637728304,
         8.936008242424577,
         8.904773039277643,
         8.98038670187816,
         8.92341481661424,
         8.955157918389887,
         8.94024066394195,
         8.998741944786161,
         8.918143657501787,
         8.948721510823816,
         8.954561894293875,
         8.954363239463419,
         9.001154666300863,
         8.968047631438822,
         8.964085546787828,
         8.9589749625884,
         8.978749645408243,
         8.936983292456716,
         8.950689641293138,
         8.924758178647608,
         8.958864105399698,
         8.972342004533857,
         8.963246536906809,
         8.964563196059316,
         8.927056593354791,
         8.965082672890276,
         8.95188815658912,
         8.94822278385982,
         8.951560867484659,
         8.998453123029321,
         8.983603549655527,
         8.959140492137522,
         8.998156962450594,
         8.952933771070093,
         8.966169652994722,
         8.93919183081016,
         8.979223122354597,
         8.980229770299047,
         8.93637224053964,
         8.931424175854772,
         8.96211947267875,
         8.964307842310518,
         8.970457864459604,
         9.022440356668085,
         8.980903235729784,
         8.985076380427927,
         8.96593435620889,
         8.96197180217132,
         8.984618646558374,
         8.986626913305372,
         8.982079861219972,
         8.931947914417833,
         8.989476022776216,
         8.925282103475183,
         8.950478938873857,
         8.96054801857099,
         8.99480871623382,
         8.953168114181608,
         8.946313371416181,
         8.953266305383295,
         8.978143227752298,
         8.950466138776392,
         8.943525058683008,
         8.964442563708872,
         8.959390503820032,
         8.998754923697561,
         8.961486665066332,
         8.956454595085233,
         8.953906720038503,
         8.965171424206346,
         8.939666581805795,
         8.911423196550459,
         8.97803166275844,
         8.949029815848917,
         8.984388632234186,
         8.964282614644617,
         8.956951213534921,
         8.946276446338743,
         8.998267350252718,
         8.897706923540682,
         8.99890245264396,
         8.950007585342973,
         8.952977207954973,
         8.971749102231115,
         8.966091921087354,
         8.964370687957853
        ],
        [
         2.540844579435473,
         2.5254558718546027,
         2.534712550029708,
         2.539469986426933,
         2.53443843329379,
         2.5426011677958855,
         2.5325748160015875,
         2.548405480016382,
         2.5387662918330527,
         2.5475176818586736,
         2.5462437136751572,
         2.52613605904957,
         2.5400964930003,
         2.5382086281707488,
         2.5446875253967116,
         2.532815978302972,
         2.525752666225982,
         2.543601265804242,
         2.538370710461087,
         2.537419128438757,
         2.5399050491422277,
         2.5394932384011795,
         2.534565529550067,
         2.5419057447294966,
         2.537569671582662,
         2.5360042131875846,
         2.5477304150243456,
         2.538317676838553,
         2.544904106386999,
         2.5405512866724393,
         2.5438760693727946,
         2.536654052167216,
         2.540170763444862,
         2.522927825082901,
         2.5415536081929844,
         2.5412426719156707,
         2.540539621439573,
         2.540378493703399,
         2.533517805944993,
         2.5434500792899843,
         2.5379902238008425,
         2.5371296344788847,
         2.539470398613229,
         2.543373157247475,
         2.543934498679404,
         2.547539212124468,
         2.5482895294472496,
         2.5371899151998343,
         2.5445153351107885,
         2.5324976785191056,
         2.541484953815814,
         2.5459844750034364,
         2.5429203470509965,
         2.5388026192345436,
         2.5378210581493374,
         2.547293317177185,
         2.541336189123456,
         2.5516252552383625,
         2.5478429793021697,
         2.5437869741129737,
         2.53241737916197,
         2.537861705532893,
         2.5414745211200707,
         2.54949815831161,
         2.5460132023891244,
         2.52925754417117,
         2.5458718953947628,
         2.5345601408544765,
         2.536549202056934,
         2.5447928637555384,
         2.530817618508219,
         2.5413665822973655,
         2.530839353337464,
         2.538429916662946,
         2.545142524515166,
         2.5408396740592303,
         2.5484745777640447,
         2.5427935915287727,
         2.540361880470352,
         2.550915696811099,
         2.5428793211669327,
         2.534794193866909,
         2.541847018103531,
         2.5425544410413674,
         2.5293366491164964,
         2.5225602192973486,
         2.5411057846344236,
         2.534293715967789,
         2.5427945140376966,
         2.539834155832579,
         2.538365072127397,
         2.533837346631774,
         2.549552538386933,
         2.537567921803463,
         2.5473678199391285,
         2.540958066863156,
         2.5389543756486868,
         2.546536891277529,
         2.540322052538288,
         2.5320396934418934
        ]
       ],
       "encoder": "json",
       "name": "ABC_GAN_1 Metrics",
       "version": 1
      }
     },
     "metadata": {
      "scrapbook": {
       "data": true,
       "display": false,
       "name": "ABC_GAN_1 Metrics"
      }
     },
     "output_type": "display_data"
    },
    {
     "name": "stdout",
     "output_type": "stream",
     "text": [
      "MSE\n",
      "0.32253100593046086\n"
     ]
    }
   ],
   "source": [
    "ABC_GAN1_metrics=ABC_train_test2.test_generator(gen,test_data,prior_model,variance,bias,\"1\",device)\n",
    "sb.glue(\"ABC_GAN_1 Metrics\",ABC_GAN1_metrics)\n",
    "\n",
    "print(\"MSE\")\n",
    "print(mean(ABC_GAN1_metrics[0]))"
   ]
  },
  {
   "cell_type": "code",
   "execution_count": 14,
   "id": "eb22ce5c",
   "metadata": {
    "execution": {
     "iopub.execute_input": "2022-06-22T12:44:57.032363Z",
     "iopub.status.busy": "2022-06-22T12:44:57.028883Z",
     "iopub.status.idle": "2022-06-22T12:44:58.610452Z",
     "shell.execute_reply": "2022-06-22T12:44:58.612842Z"
    },
    "papermill": {
     "duration": 1.640978,
     "end_time": "2022-06-22T12:44:58.614620",
     "exception": false,
     "start_time": "2022-06-22T12:44:56.973642",
     "status": "completed"
    },
    "tags": []
   },
   "outputs": [
    {
     "data": {
      "image/png": "[encoded data removed]",
      "text/plain": [
       "<Figure size 432x288 with 1 Axes>"
      ]
     },
     "metadata": {
      "needs_background": "light"
     },
     "output_type": "display_data"
    },
    {
     "data": {
      "image/png": "[encoded data removed]",
      "text/plain": [
       "<Figure size 432x288 with 1 Axes>"
      ]
     },
     "metadata": {
      "needs_background": "light"
     },
     "output_type": "display_data"
    },
    {
     "data": {
      "image/png": "[encoded data removed]",
      "text/plain": [
       "<Figure size 432x288 with 1 Axes>"
      ]
     },
     "metadata": {
      "needs_background": "light"
     },
     "output_type": "display_data"
    },
    {
     "data": {
      "image/png": "[encoded data removed]",
      "text/plain": [
       "<Figure size 432x288 with 1 Axes>"
      ]
     },
     "metadata": {
      "needs_background": "light"
     },
     "output_type": "display_data"
    }
   ],
   "source": [
    "sanityChecks.discProbVsError(train_data,disc,device)\n",
    "sanityChecks.discProbVsError(test_data,disc,device)"
   ]
  },
  {
   "cell_type": "markdown",
   "id": "130f3a4d",
   "metadata": {
    "id": "130f3a4d",
    "papermill": {
     "duration": 0.062719,
     "end_time": "2022-06-22T12:44:58.732251",
     "exception": false,
     "start_time": "2022-06-22T12:44:58.669532",
     "status": "completed"
    },
    "tags": []
   },
   "source": [
    "# ABC - GAN Model with skip connection"
   ]
  },
  {
   "cell_type": "code",
   "execution_count": 15,
   "id": "4e43dad1",
   "metadata": {
    "execution": {
     "iopub.execute_input": "2022-06-22T12:44:58.969022Z",
     "iopub.status.busy": "2022-06-22T12:44:58.965744Z",
     "iopub.status.idle": "2022-06-22T12:44:58.980064Z",
     "shell.execute_reply": "2022-06-22T12:44:58.979490Z"
    },
    "id": "4e43dad1",
    "papermill": {
     "duration": 0.177528,
     "end_time": "2022-06-22T12:44:58.980266",
     "exception": false,
     "start_time": "2022-06-22T12:44:58.802738",
     "status": "completed"
    },
    "tags": []
   },
   "outputs": [],
   "source": [
    "#Generator\n",
    "gen3 = network.GeneratorWithSkipConnection(n_features+1).to(device)\n",
    "constraints=network.weightConstraint()\n",
    "#Discriminator \n",
    "disc3 = network.Discriminator(n_features+1).to(device)\n",
    "\n",
    "criterion = torch.nn.BCELoss()\n",
    "gen_opt = torch.optim.Adam(gen3.parameters(), lr=0.001, betas=(0.5, 0.999))\n",
    "disc_opt = torch.optim.Adam(disc3.parameters(), lr=0.001, betas=(0.5, 0.999))\n"
   ]
  },
  {
   "cell_type": "code",
   "execution_count": 16,
   "id": "26acbc37",
   "metadata": {
    "execution": {
     "iopub.execute_input": "2022-06-22T12:44:59.340720Z",
     "iopub.status.busy": "2022-06-22T12:44:59.316759Z",
     "iopub.status.idle": "2022-06-22T12:46:16.130952Z",
     "shell.execute_reply": "2022-06-22T12:46:16.131476Z"
    },
    "id": "26acbc37",
    "papermill": {
     "duration": 77.081475,
     "end_time": "2022-06-22T12:46:16.131816",
     "exception": false,
     "start_time": "2022-06-22T12:44:59.050341",
     "status": "completed"
    },
    "tags": []
   },
   "outputs": [
    {
     "data": {
      "image/png": "[encoded data removed]",
      "text/plain": [
       "<Figure size 432x288 with 1 Axes>"
      ]
     },
     "metadata": {
      "needs_background": "light"
     },
     "output_type": "display_data"
    },
    {
     "data": {
      "image/png": "[encoded data removed]",
      "text/plain": [
       "<Figure size 432x288 with 1 Axes>"
      ]
     },
     "metadata": {
      "needs_background": "light"
     },
     "output_type": "display_data"
    }
   ],
   "source": [
    "ABC_train_test2.training_GAN_skip_connection(disc3,gen3,disc_opt,gen_opt,train_data,batch_size,n_epochs,criterion,prior_model,variance,bias,device)"
   ]
  },
  {
   "cell_type": "code",
   "execution_count": 17,
   "id": "c5e0717b",
   "metadata": {
    "execution": {
     "iopub.execute_input": "2022-06-22T12:46:16.243694Z",
     "iopub.status.busy": "2022-06-22T12:46:16.242912Z",
     "iopub.status.idle": "2022-06-22T12:46:17.070221Z",
     "shell.execute_reply": "2022-06-22T12:46:17.070811Z"
    },
    "id": "c5e0717b",
    "papermill": {
     "duration": 0.893566,
     "end_time": "2022-06-22T12:46:17.071012",
     "exception": false,
     "start_time": "2022-06-22T12:46:16.177446",
     "status": "completed"
    },
    "tags": []
   },
   "outputs": [
    {
     "data": {
      "application/scrapbook.scrap.json+json": {
       "data": 1231.5414895554604,
       "encoder": "json",
       "name": "ABC-GAN Model 3 MSE",
       "version": 1
      }
     },
     "metadata": {
      "scrapbook": {
       "data": true,
       "display": false,
       "name": "ABC-GAN Model 3 MSE"
      }
     },
     "output_type": "display_data"
    },
    {
     "data": {
      "application/scrapbook.scrap.json+json": {
       "data": 34.02934188490826,
       "encoder": "json",
       "name": "ABC-GAN Model 3 MAE",
       "version": 1
      }
     },
     "metadata": {
      "scrapbook": {
       "data": true,
       "display": false,
       "name": "ABC-GAN Model 3 MAE"
      }
     },
     "output_type": "display_data"
    },
    {
     "data": {
      "application/scrapbook.scrap.json+json": {
       "data": 680.5868376981654,
       "encoder": "json",
       "name": "ABC-GAN Model 3 Manhattan Distance",
       "version": 1
      }
     },
     "metadata": {
      "scrapbook": {
       "data": true,
       "display": false,
       "name": "ABC-GAN Model 3 Manhattan Distance"
      }
     },
     "output_type": "display_data"
    },
    {
     "data": {
      "application/scrapbook.scrap.json+json": {
       "data": 156.9420736863005,
       "encoder": "json",
       "name": "ABC-GAN Model 3 Euclidean distance",
       "version": 1
      }
     },
     "metadata": {
      "scrapbook": {
       "data": true,
       "display": false,
       "name": "ABC-GAN Model 3 Euclidean distance"
      }
     },
     "output_type": "display_data"
    },
    {
     "data": {
      "application/scrapbook.scrap.json+json": {
       "data": [
        [
         1233.1272297289843,
         1232.9648450195907,
         1231.7944036988597,
         1231.7987190987474,
         1227.1606959249652,
         1233.7336169296739,
         1230.4532573417707,
         1231.885944757429,
         1231.03919356189,
         1234.827264922842,
         1233.1420613129299,
         1231.566546544564,
         1233.3515082705762,
         1232.511350485443,
         1230.5464801488938,
         1229.6369533590296,
         1231.7334455443013,
         1230.9908293053898,
         1230.7843920958353,
         1230.6696729180596,
         1233.8479995422406,
         1229.8339200756297,
         1231.3815347071136,
         1233.802611958135,
         1231.3289342799483,
         1233.7675923836118,
         1233.4928572628928,
         1231.5557009629013,
         1233.969345373535,
         1231.3806564244742,
         1231.8843530380555,
         1233.6169959569477,
         1231.4487720203922,
         1230.6082785779709,
         1229.9627627277137,
         1228.1442714421494,
         1232.0257593875544,
         1230.9505461084864,
         1227.1147027735674,
         1231.83017237176,
         1234.2102580426983,
         1231.887910591597,
         1230.8995555435088,
         1233.2028008435302,
         1229.3162661563292,
         1228.1480541437877,
         1231.5951254963124,
         1231.7990515238566,
         1230.501063588964,
         1232.096807087069,
         1230.1639854576047,
         1231.5974831147537,
         1235.3096989927992,
         1229.130705017144,
         1229.982532554415,
         1231.8284507457588,
         1228.155412191065,
         1234.8678232816833,
         1232.018380613395,
         1232.6497909358143,
         1232.5730253700217,
         1230.9381487499704,
         1232.0393799764522,
         1232.113271248374,
         1233.2663567575455,
         1231.1489444797805,
         1229.13171014819,
         1231.2958268018706,
         1232.8919623781746,
         1228.5368590689957,
         1233.140104895429,
         1229.4272253624156,
         1229.8882598456028,
         1232.3958202422416,
         1229.912648887902,
         1234.0499038309413,
         1233.7549887639382,
         1227.9057967550018,
         1236.8303206284136,
         1232.257380127357,
         1232.7086309089548,
         1231.4681396482906,
         1229.6735154416033,
         1230.0399773917131,
         1235.437420696863,
         1232.5835118525397,
         1230.3964799833313,
         1230.7971635211711,
         1232.2096444882613,
         1233.6329819672412,
         1231.7672773176732,
         1232.4870537877373,
         1230.170277578077,
         1227.2634550485232,
         1230.2035567852354,
         1234.506609694478,
         1228.3324322219637,
         1232.2277330712768,
         1232.3210596079975,
         1227.396765947561
        ],
        [
         34.04388107520062,
         34.04246772986371,
         34.03651165228803,
         34.04049686652142,
         33.9678869650932,
         34.068923609075135,
         34.020482961949895,
         34.02997459631879,
         34.02566618185956,
         34.06638273459394,
         34.056929247197694,
         34.03494676810224,
         34.04325041037519,
         34.0356380866142,
         34.01450208884198,
         34.00543598395306,
         34.03133529883344,
         34.02528433066327,
         34.02203983527143,
         34.02430891257245,
         34.05784649115522,
         34.00282425147016,
         34.02533249121625,
         34.06630510550458,
         34.03080667715985,
         34.06139082175214,
         34.052408735570495,
         34.03072780829389,
         34.06243309241254,
         34.03032020789105,
         34.028225462255065,
         34.05242933493573,
         34.025976888951845,
         34.01851686697919,
         34.00639890891034,
         33.982881586370056,
         34.036520807561466,
         34.01816028815229,
         33.9743681357475,
         34.028497927007265,
         34.06192354422528,
         34.03147548895795,
         34.013724272069524,
         34.049640695867126,
         33.99978508215863,
         33.98777651053388,
         34.02256654959638,
         34.024475328740664,
         34.0148897574516,
         34.02707638007123,
         34.01336426001508,
         34.02627948981244,
         34.08563884955365,
         33.99645694952924,
         34.01236595374066,
         34.02296928626019,
         33.996184866246764,
         34.071355573949404,
         34.03001054984052,
         34.0543805525871,
         34.0484177992912,
         34.019383756932804,
         34.03162111502606,
         34.0326029227348,
         34.0500649855705,
         34.02917961340863,
         33.993625109014104,
         34.02575849753339,
         34.045934049901554,
         33.98933700781781,
         34.05843519431073,
         34.00249838095624,
         34.00404619437177,
         34.046154062566345,
         34.004392473516056,
         34.05484565955121,
         34.055497686681335,
         33.98570732336957,
         34.10151228171308,
         34.04787325125653,
         34.04114822607953,
         34.0275591300102,
         34.00602268439252,
         34.015338175115176,
         34.085401193914,
         34.03415693503339,
         34.02181667548139,
         34.01029590826947,
         34.03977588873822,
         34.06430868369061,
         34.02053913336713,
         34.05257724982221,
         34.008377783116885,
         33.97670492392499,
         34.01257318716962,
         34.07047380667645,
         33.98950552206952,
         34.045304052648135,
         34.04352421027143,
         33.97084058981854
        ],
        [
         680.8776215040125,
         680.8493545972742,
         680.7302330457605,
         680.8099373304285,
         679.3577393018641,
         681.3784721815027,
         680.4096592389978,
         680.5994919263758,
         680.5133236371912,
         681.3276546918787,
         681.1385849439539,
         680.6989353620447,
         680.8650082075037,
         680.712761732284,
         680.2900417768396,
         680.1087196790613,
         680.6267059766687,
         680.5056866132654,
         680.4407967054285,
         680.486178251449,
         681.1569298231043,
         680.0564850294031,
         680.506649824325,
         681.3261021100916,
         680.6161335431971,
         681.2278164350428,
         681.04817471141,
         680.6145561658777,
         681.2486618482508,
         680.6064041578211,
         680.5645092451014,
         681.0485866987146,
         680.5195377790369,
         680.3703373395838,
         680.1279781782068,
         679.6576317274012,
         680.7304161512293,
         680.3632057630457,
         679.48736271495,
         680.5699585401453,
         681.2384708845057,
         680.629509779159,
         680.2744854413904,
         680.9928139173426,
         679.9957016431727,
         679.7555302106775,
         680.4513309919275,
         680.4895065748133,
         680.297795149032,
         680.5415276014246,
         680.2672852003016,
         680.5255897962488,
         681.712776991073,
         679.9291389905848,
         680.2473190748133,
         680.4593857252039,
         679.9236973249353,
         681.4271114789881,
         680.6002109968103,
         681.087611051742,
         680.968355985824,
         680.387675138656,
         680.6324223005213,
         680.6520584546961,
         681.00129971141,
         680.5835922681727,
         679.872502180282,
         680.5151699506678,
         680.918680998031,
         679.7867401563562,
         681.1687038862146,
         680.0499676191248,
         680.0809238874353,
         680.923081251327,
         680.0878494703211,
         681.0969131910242,
         681.1099537336268,
         679.7141464673914,
         682.0302456342615,
         680.9574650251307,
         680.8229645215906,
         680.5511826002039,
         680.1204536878504,
         680.3067635023035,
         681.7080238782801,
         680.6831387006678,
         680.4363335096277,
         680.2059181653894,
         680.7955177747644,
         681.2861736738123,
         680.4107826673426,
         681.0515449964441,
         680.1675556623377,
         679.5340984784998,
         680.2514637433924,
         681.4094761335291,
         679.7901104413904,
         680.9060810529627,
         680.8704842054285,
         679.4168117963709
        ],
        [
         157.0431297274086,
         157.03278925241,
         156.958236719126,
         156.95851165825619,
         156.6627394069799,
         157.08173776283948,
         156.87276738438516,
         156.96406880285872,
         156.91011398644065,
         157.15134520091402,
         157.04407415199913,
         156.94371899152665,
         157.05741041228052,
         157.00390762560292,
         156.87870984610333,
         156.82072269690823,
         156.95435295297173,
         156.90703166559425,
         156.89387445632386,
         156.88656238939393,
         157.0890193197628,
         156.83328218688976,
         156.9319301294108,
         157.08613000250116,
         156.92857829471012,
         157.0839006635379,
         157.0664099839869,
         156.94302794089973,
         157.096743783793,
         156.93187416356653,
         156.96396739621838,
         157.07431336516788,
         156.93621455995375,
         156.88264904558253,
         156.8414972338452,
         156.72550982160814,
         156.9729759791509,
         156.9044643156138,
         156.65980357280978,
         156.96051556820015,
         157.11207834171748,
         156.96419404383897,
         156.9012144977539,
         157.0479417785238,
         156.80027207606045,
         156.72575117981012,
         156.9455399491373,
         156.95853283742534,
         156.8758148083358,
         156.97750202414798,
         156.8543263960293,
         156.9456901679529,
         157.18204089480446,
         156.78843739365118,
         156.8427577259731,
         156.96040588286965,
         156.72622066463958,
         157.1539260267896,
         156.97250591192045,
         157.01272502162456,
         157.007835815288,
         156.9036741921597,
         156.97384367954123,
         156.9785508436343,
         157.05198863800135,
         156.91710833938922,
         156.78850150111072,
         156.9264685642209,
         157.02814794667705,
         156.75055719639377,
         157.04394957434235,
         156.8073483840866,
         156.83674695973536,
         156.99654902208783,
         156.83830201120526,
         157.1018716521825,
         157.0830983119405,
         156.71029300942564,
         157.27875384987087,
         156.9877307388929,
         157.01647244215843,
         156.93744866336337,
         156.82305413692234,
         156.8464202582713,
         157.1901664034276,
         157.0085037093558,
         156.86914801727784,
         156.89468847103598,
         156.98468998525055,
         157.0753310973586,
         156.95650845490115,
         157.00236009612962,
         156.85472753972556,
         156.66929852709006,
         156.8568491832751,
         157.13093964553752,
         156.737515115046,
         156.98584223243043,
         156.99178702135964,
         156.67780735940627
        ]
       ],
       "encoder": "json",
       "name": "ABC_GAN_3 Metrics",
       "version": 1
      }
     },
     "metadata": {
      "scrapbook": {
       "data": true,
       "display": false,
       "name": "ABC_GAN_3 Metrics"
      }
     },
     "output_type": "display_data"
    },
    {
     "name": "stdout",
     "output_type": "stream",
     "text": [
      "MSE\n",
      "1231.5414895554604\n"
     ]
    }
   ],
   "source": [
    "ABC_GAN3_metrics=ABC_train_test2.test_generator(gen3,test_data,prior_model,variance,bias,\"3\",device)\n",
    "sb.glue(\"ABC_GAN_3 Metrics\",ABC_GAN3_metrics)\n",
    "\n",
    "print(\"MSE\")\n",
    "print(mean(ABC_GAN3_metrics[0]))"
   ]
  },
  {
   "cell_type": "code",
   "execution_count": 18,
   "id": "c8e46b48",
   "metadata": {
    "execution": {
     "iopub.execute_input": "2022-06-22T12:46:17.168738Z",
     "iopub.status.busy": "2022-06-22T12:46:17.168025Z",
     "iopub.status.idle": "2022-06-22T12:46:17.984802Z",
     "shell.execute_reply": "2022-06-22T12:46:17.985300Z"
    },
    "id": "c8e46b48",
    "papermill": {
     "duration": 0.870195,
     "end_time": "2022-06-22T12:46:17.985495",
     "exception": false,
     "start_time": "2022-06-22T12:46:17.115300",
     "status": "completed"
    },
    "tags": []
   },
   "outputs": [
    {
     "data": {
      "image/png": "[encoded data removed]",
      "text/plain": [
       "<Figure size 432x288 with 1 Axes>"
      ]
     },
     "metadata": {
      "needs_background": "light"
     },
     "output_type": "display_data"
    },
    {
     "data": {
      "image/png": "[encoded data removed]",
      "text/plain": [
       "<Figure size 432x288 with 1 Axes>"
      ]
     },
     "metadata": {
      "needs_background": "light"
     },
     "output_type": "display_data"
    },
    {
     "data": {
      "image/png": "[encoded data removed]",
      "text/plain": [
       "<Figure size 432x288 with 1 Axes>"
      ]
     },
     "metadata": {
      "needs_background": "light"
     },
     "output_type": "display_data"
    },
    {
     "data": {
      "image/png": "[encoded data removed]",
      "text/plain": [
       "<Figure size 432x288 with 1 Axes>"
      ]
     },
     "metadata": {
      "needs_background": "light"
     },
     "output_type": "display_data"
    }
   ],
   "source": [
    "sanityChecks.discProbVsError(train_data,disc3,device)\n",
    "sanityChecks.discProbVsError(test_data,disc3,device)"
   ]
  },
  {
   "cell_type": "markdown",
   "id": "a5bd74c3",
   "metadata": {
    "id": "a5bd74c3",
    "papermill": {
     "duration": 0.061858,
     "end_time": "2022-06-22T12:46:18.099209",
     "exception": false,
     "start_time": "2022-06-22T12:46:18.037351",
     "status": "completed"
    },
    "tags": []
   },
   "source": [
    "## Skip Connection Model Analysis - ABC-GAN "
   ]
  },
  {
   "cell_type": "markdown",
   "id": "5744a8bf",
   "metadata": {
    "id": "5744a8bf",
    "papermill": {
     "duration": 0.056352,
     "end_time": "2022-06-22T12:46:18.203003",
     "exception": false,
     "start_time": "2022-06-22T12:46:18.146651",
     "status": "completed"
    },
    "tags": []
   },
   "source": [
    "### Weight Analysis \n",
    "\n",
    "Study the weights of the skip connection layer\n",
    "\n",
    "Equation of the skip connection is \n",
    "\n",
    "$output = y_{gan} * w + y_{abc} * (1-w)$"
   ]
  },
  {
   "cell_type": "code",
   "execution_count": 19,
   "id": "52c31dea",
   "metadata": {
    "execution": {
     "iopub.execute_input": "2022-06-22T12:46:18.315206Z",
     "iopub.status.busy": "2022-06-22T12:46:18.314468Z",
     "iopub.status.idle": "2022-06-22T12:46:18.324326Z",
     "shell.execute_reply": "2022-06-22T12:46:18.325045Z"
    },
    "id": "52c31dea",
    "papermill": {
     "duration": 0.070907,
     "end_time": "2022-06-22T12:46:18.325264",
     "exception": false,
     "start_time": "2022-06-22T12:46:18.254357",
     "status": "completed"
    },
    "tags": []
   },
   "outputs": [
    {
     "name": "stdout",
     "output_type": "stream",
     "text": [
      "Weight of the node at skip connection\n",
      "Parameter containing:\n",
      "tensor([[0.0742]], requires_grad=True)\n"
     ]
    },
    {
     "data": {
      "application/scrapbook.scrap.json+json": {
       "data": 0.0741843432188034,
       "encoder": "json",
       "name": "Skip Connection Weight",
       "version": 1
      }
     },
     "metadata": {
      "scrapbook": {
       "data": true,
       "display": false,
       "name": "Skip Connection Weight"
      }
     },
     "output_type": "display_data"
    }
   ],
   "source": [
    "print(\"Weight of the node at skip connection\")\n",
    "for name,param in gen3.named_parameters():\n",
    "    if(name == \"skipNode.weight\"):\n",
    "        print(param)\n",
    "        sb.glue(\"Skip Connection Weight\",param.item())"
   ]
  }
 ],
 "metadata": {
  "colab": {
   "collapsed_sections": [],
   "name": "ABC_GAN_Model-Catboost_Pre-gen.ipynb",
   "provenance": []
  },
  "interpreter": {
   "hash": "31f2aee4e71d21fbe5cf8b01ff0e069b9275f58929596ceb00d14d90e3e16cd6"
  },
  "kernelspec": {
   "display_name": "Python 3 (ipykernel)",
   "language": "python",
   "name": "python3"
  },
  "language_info": {
   "codemirror_mode": {
    "name": "ipython",
    "version": 3
   },
   "file_extension": ".py",
   "mimetype": "text/x-python",
   "name": "python",
   "nbconvert_exporter": "python",
   "pygments_lexer": "ipython3",
   "version": "3.8.3"
  },
  "papermill": {
   "default_parameters": {},
   "duration": 156.590195,
   "end_time": "2022-06-22T12:46:19.653001",
   "environment_variables": {},
   "exception": null,
   "input_path": "ABC_GAN-TabNet.ipynb",
   "output_path": "./ABC_GAN_TabNet/ABC-GAN_output_3_8.ipynb",
   "parameters": {
    "bias": 0.01,
    "variance": 0.01
   },
   "start_time": "2022-06-22T12:43:43.062806",
   "version": "2.3.3"
  }
 },
 "nbformat": 4,
 "nbformat_minor": 5
}