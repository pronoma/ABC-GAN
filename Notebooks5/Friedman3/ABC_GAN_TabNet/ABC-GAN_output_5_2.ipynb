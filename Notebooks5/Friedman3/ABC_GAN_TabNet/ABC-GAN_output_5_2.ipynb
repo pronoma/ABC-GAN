{
 "cells": [
  {
   "cell_type": "markdown",
   "id": "622780e6",
   "metadata": {
    "id": "622780e6",
    "papermill": {
     "duration": 0.056004,
     "end_time": "2022-06-22T13:37:04.316054",
     "exception": false,
     "start_time": "2022-06-22T13:37:04.260050",
     "status": "completed"
    },
    "tags": []
   },
   "source": [
    "## Import Libraries "
   ]
  },
  {
   "cell_type": "code",
   "execution_count": 1,
   "id": "a62397e3",
   "metadata": {
    "execution": {
     "iopub.execute_input": "2022-06-22T13:37:04.594520Z",
     "iopub.status.busy": "2022-06-22T13:37:04.592392Z",
     "iopub.status.idle": "2022-06-22T13:37:04.595659Z",
     "shell.execute_reply": "2022-06-22T13:37:04.593495Z"
    },
    "id": "a62397e3",
    "papermill": {
     "duration": 0.128219,
     "end_time": "2022-06-22T13:37:04.598698",
     "exception": false,
     "start_time": "2022-06-22T13:37:04.470479",
     "status": "completed"
    },
    "tags": []
   },
   "outputs": [],
   "source": [
    "import warnings\n",
    "import sys\n",
    "sys.path.insert(0, '../../src')\n",
    "warnings.filterwarnings('ignore')"
   ]
  },
  {
   "cell_type": "code",
   "execution_count": 2,
   "id": "d6a4e155",
   "metadata": {
    "execution": {
     "iopub.execute_input": "2022-06-22T13:37:04.701717Z",
     "iopub.status.busy": "2022-06-22T13:37:04.695808Z",
     "iopub.status.idle": "2022-06-22T13:37:11.377595Z",
     "shell.execute_reply": "2022-06-22T13:37:11.378362Z"
    },
    "id": "d6a4e155",
    "papermill": {
     "duration": 6.742595,
     "end_time": "2022-06-22T13:37:11.378963",
     "exception": false,
     "start_time": "2022-06-22T13:37:04.636368",
     "status": "completed"
    },
    "tags": []
   },
   "outputs": [],
   "source": [
    "import ABC_train_test2\n",
    "import friedman3Dataset\n",
    "import network\n",
    "import dataset\n",
    "import sanityChecks\n",
    "import torch \n",
    "import scrapbook as sb\n",
    "from statistics import mean \n",
    "import catboost as ctb \n",
    "from sklearn.model_selection import train_test_split\n",
    "from sklearn.metrics import mean_squared_error,mean_absolute_error\n",
    "import numpy as np\n",
    "from pytorch_tabnet.tab_model import TabNetRegressor"
   ]
  },
  {
   "cell_type": "markdown",
   "id": "2fa5b0f7",
   "metadata": {
    "id": "2fa5b0f7",
    "papermill": {
     "duration": 0.022596,
     "end_time": "2022-06-22T13:37:11.420362",
     "exception": false,
     "start_time": "2022-06-22T13:37:11.397766",
     "status": "completed"
    },
    "tags": []
   },
   "source": [
    "## Parameters "
   ]
  },
  {
   "cell_type": "code",
   "execution_count": 3,
   "id": "783186fb",
   "metadata": {
    "execution": {
     "iopub.execute_input": "2022-06-22T13:37:11.474777Z",
     "iopub.status.busy": "2022-06-22T13:37:11.473155Z",
     "iopub.status.idle": "2022-06-22T13:37:11.476239Z",
     "shell.execute_reply": "2022-06-22T13:37:11.476916Z"
    },
    "id": "783186fb",
    "papermill": {
     "duration": 0.03659,
     "end_time": "2022-06-22T13:37:11.477531",
     "exception": false,
     "start_time": "2022-06-22T13:37:11.440941",
     "status": "completed"
    },
    "tags": [
     "parameters"
    ]
   },
   "outputs": [],
   "source": [
    "variance = 1\n",
    "bias = 1 "
   ]
  },
  {
   "cell_type": "code",
   "execution_count": 4,
   "id": "44270b91",
   "metadata": {
    "execution": {
     "iopub.execute_input": "2022-06-22T13:37:11.551834Z",
     "iopub.status.busy": "2022-06-22T13:37:11.549050Z",
     "iopub.status.idle": "2022-06-22T13:37:11.553114Z",
     "shell.execute_reply": "2022-06-22T13:37:11.553892Z"
    },
    "papermill": {
     "duration": 0.053768,
     "end_time": "2022-06-22T13:37:11.554146",
     "exception": false,
     "start_time": "2022-06-22T13:37:11.500378",
     "status": "completed"
    },
    "tags": [
     "injected-parameters"
    ]
   },
   "outputs": [],
   "source": [
    "# Parameters\n",
    "variance = 0.01\n",
    "bias = 1\n"
   ]
  },
  {
   "cell_type": "markdown",
   "id": "391cdbfd",
   "metadata": {
    "id": "391cdbfd",
    "papermill": {
     "duration": 0.017342,
     "end_time": "2022-06-22T13:37:11.591369",
     "exception": false,
     "start_time": "2022-06-22T13:37:11.574027",
     "status": "completed"
    },
    "tags": []
   },
   "source": [
    "## Dataset \n"
   ]
  },
  {
   "cell_type": "code",
   "execution_count": 5,
   "id": "5b51f161",
   "metadata": {
    "execution": {
     "iopub.execute_input": "2022-06-22T13:37:11.639374Z",
     "iopub.status.busy": "2022-06-22T13:37:11.637524Z",
     "iopub.status.idle": "2022-06-22T13:37:11.640680Z",
     "shell.execute_reply": "2022-06-22T13:37:11.641252Z"
    },
    "id": "5b51f161",
    "papermill": {
     "duration": 0.033595,
     "end_time": "2022-06-22T13:37:11.641640",
     "exception": false,
     "start_time": "2022-06-22T13:37:11.608045",
     "status": "completed"
    },
    "tags": []
   },
   "outputs": [],
   "source": [
    "#Parameters \n",
    "n_features = 4\n",
    "n_samples= 100\n",
    "n_target = 1"
   ]
  },
  {
   "cell_type": "code",
   "execution_count": 6,
   "id": "5d6eced4",
   "metadata": {
    "execution": {
     "iopub.execute_input": "2022-06-22T13:37:11.688332Z",
     "iopub.status.busy": "2022-06-22T13:37:11.687516Z",
     "iopub.status.idle": "2022-06-22T13:37:11.706306Z",
     "shell.execute_reply": "2022-06-22T13:37:11.706877Z"
    },
    "id": "5d6eced4",
    "papermill": {
     "duration": 0.044073,
     "end_time": "2022-06-22T13:37:11.707144",
     "exception": false,
     "start_time": "2022-06-22T13:37:11.663071",
     "status": "completed"
    },
    "tags": []
   },
   "outputs": [
    {
     "name": "stdout",
     "output_type": "stream",
     "text": [
      "          X1           X2        X3         X4         Y\n",
      "0  92.291172  1347.742160  0.276685   1.538497  1.350857\n",
      "1  97.101755  1299.075600  0.304670  10.761961  1.481338\n",
      "2  53.634956  1586.231708  0.070021   6.993694  1.105131\n",
      "3  79.325533  1456.461704  0.361517   5.752927  1.436014\n",
      "4  73.177824   316.794403  0.882898   3.569970  1.338271\n"
     ]
    }
   ],
   "source": [
    "X,Y = friedman3Dataset.friedman3_data(n_samples)"
   ]
  },
  {
   "cell_type": "code",
   "execution_count": 7,
   "id": "fe007438",
   "metadata": {
    "execution": {
     "iopub.execute_input": "2022-06-22T13:37:11.761958Z",
     "iopub.status.busy": "2022-06-22T13:37:11.760122Z",
     "iopub.status.idle": "2022-06-22T13:37:11.765731Z",
     "shell.execute_reply": "2022-06-22T13:37:11.766388Z"
    },
    "id": "fe007438",
    "papermill": {
     "duration": 0.040592,
     "end_time": "2022-06-22T13:37:11.766777",
     "exception": false,
     "start_time": "2022-06-22T13:37:11.726185",
     "status": "completed"
    },
    "tags": []
   },
   "outputs": [],
   "source": [
    "#Train test split for dataset \n",
    "X_train,X_test,Y_train,Y_test = train_test_split(X,Y,test_size = 0.2)\n",
    "train_data = dataset.CustomDataset(X_train,Y_train)\n",
    "test_data = dataset.CustomDataset(X_test,Y_test)\n"
   ]
  },
  {
   "cell_type": "markdown",
   "id": "a9a1af34",
   "metadata": {
    "id": "a9a1af34",
    "papermill": {
     "duration": 0.019586,
     "end_time": "2022-06-22T13:37:11.804313",
     "exception": false,
     "start_time": "2022-06-22T13:37:11.784727",
     "status": "completed"
    },
    "tags": []
   },
   "source": [
    "## Training Parameters "
   ]
  },
  {
   "cell_type": "code",
   "execution_count": 8,
   "id": "952b7fc8",
   "metadata": {
    "execution": {
     "iopub.execute_input": "2022-06-22T13:37:11.876845Z",
     "iopub.status.busy": "2022-06-22T13:37:11.875560Z",
     "iopub.status.idle": "2022-06-22T13:37:11.877985Z",
     "shell.execute_reply": "2022-06-22T13:37:11.879988Z"
    },
    "id": "952b7fc8",
    "papermill": {
     "duration": 0.043683,
     "end_time": "2022-06-22T13:37:11.881197",
     "exception": false,
     "start_time": "2022-06-22T13:37:11.837514",
     "status": "completed"
    },
    "tags": []
   },
   "outputs": [],
   "source": [
    "batch_size = 32\n",
    "n_epochs = 1000\n",
    "#Select the device \n",
    "device = torch.device('cuda' if torch.cuda.is_available() else 'cpu')"
   ]
  },
  {
   "cell_type": "markdown",
   "id": "a95e1600",
   "metadata": {
    "id": "a95e1600",
    "papermill": {
     "duration": 0.02285,
     "end_time": "2022-06-22T13:37:11.923093",
     "exception": false,
     "start_time": "2022-06-22T13:37:11.900243",
     "status": "completed"
    },
    "tags": []
   },
   "source": [
    "# ABC Pre-generator Model \n",
    "\n",
    "1. The catboost model is used as a pre-generator model for the ABC-GAN. \n",
    "2. The model is first trained on the entire dataset \n",
    "3. It generats X,Y pairs and we add some Gaussian noise with mean 0 and variance 1 to it which is then feed as input to the generator.\n"
   ]
  },
  {
   "cell_type": "code",
   "execution_count": 9,
   "id": "ff8ce7bd",
   "metadata": {
    "execution": {
     "iopub.execute_input": "2022-06-22T13:37:11.973740Z",
     "iopub.status.busy": "2022-06-22T13:37:11.972420Z",
     "iopub.status.idle": "2022-06-22T13:37:26.992139Z",
     "shell.execute_reply": "2022-06-22T13:37:26.992701Z"
    },
    "id": "ff8ce7bd",
    "papermill": {
     "duration": 15.051826,
     "end_time": "2022-06-22T13:37:26.992910",
     "exception": false,
     "start_time": "2022-06-22T13:37:11.941084",
     "status": "completed"
    },
    "tags": []
   },
   "outputs": [
    {
     "name": "stdout",
     "output_type": "stream",
     "text": [
      "Device used : cpu\n"
     ]
    },
    {
     "name": "stdout",
     "output_type": "stream",
     "text": [
      "epoch 0  | loss: 1.17578 | train_mse: 4.12301 | train_mae: 1.57121 |  0:00:00s\n",
      "epoch 1  | loss: 1.09225 | train_mse: 3.61536 | train_mae: 1.41238 |  0:00:00s\n"
     ]
    },
    {
     "name": "stdout",
     "output_type": "stream",
     "text": [
      "epoch 2  | loss: 0.62538 | train_mse: 2.13366 | train_mae: 1.06503 |  0:00:00s\n",
      "epoch 3  | loss: 0.67232 | train_mse: 1.44224 | train_mae: 0.90438 |  0:00:00s\n"
     ]
    },
    {
     "name": "stdout",
     "output_type": "stream",
     "text": [
      "epoch 4  | loss: 0.49224 | train_mse: 1.78282 | train_mae: 1.03583 |  0:00:00s\n",
      "epoch 5  | loss: 0.39649 | train_mse: 1.52061 | train_mae: 1.02628 |  0:00:00s\n",
      "epoch 6  | loss: 0.37764 | train_mse: 1.43887 | train_mae: 0.95143 |  0:00:00s\n"
     ]
    },
    {
     "name": "stdout",
     "output_type": "stream",
     "text": [
      "epoch 7  | loss: 0.29702 | train_mse: 1.24184 | train_mae: 0.86678 |  0:00:01s\n",
      "epoch 8  | loss: 0.36477 | train_mse: 0.86391 | train_mae: 0.71187 |  0:00:01s\n",
      "epoch 9  | loss: 0.32098 | train_mse: 0.9803  | train_mae: 0.72165 |  0:00:01s\n"
     ]
    },
    {
     "name": "stdout",
     "output_type": "stream",
     "text": [
      "epoch 10 | loss: 0.19344 | train_mse: 1.70329 | train_mae: 0.8892  |  0:00:01s\n",
      "epoch 11 | loss: 0.27456 | train_mse: 1.97217 | train_mae: 0.97713 |  0:00:01s\n"
     ]
    },
    {
     "name": "stdout",
     "output_type": "stream",
     "text": [
      "epoch 12 | loss: 0.29194 | train_mse: 1.54868 | train_mae: 0.87877 |  0:00:01s\n",
      "epoch 13 | loss: 0.238   | train_mse: 1.56566 | train_mae: 0.89947 |  0:00:01s\n",
      "epoch 14 | loss: 0.32455 | train_mse: 1.03702 | train_mae: 0.74536 |  0:00:01s\n"
     ]
    },
    {
     "name": "stdout",
     "output_type": "stream",
     "text": [
      "epoch 15 | loss: 0.23488 | train_mse: 0.69147 | train_mae: 0.61106 |  0:00:01s\n",
      "epoch 16 | loss: 0.2171  | train_mse: 0.67363 | train_mae: 0.60197 |  0:00:01s\n",
      "epoch 17 | loss: 0.26582 | train_mse: 0.78244 | train_mae: 0.63399 |  0:00:02s\n"
     ]
    },
    {
     "name": "stdout",
     "output_type": "stream",
     "text": [
      "epoch 18 | loss: 0.16755 | train_mse: 0.65698 | train_mae: 0.58794 |  0:00:02s\n",
      "epoch 19 | loss: 0.33866 | train_mse: 0.37326 | train_mae: 0.44223 |  0:00:02s\n",
      "epoch 20 | loss: 0.15221 | train_mse: 0.23788 | train_mae: 0.38587 |  0:00:02s\n"
     ]
    },
    {
     "name": "stdout",
     "output_type": "stream",
     "text": [
      "epoch 21 | loss: 0.17644 | train_mse: 0.231   | train_mae: 0.37794 |  0:00:02s\n",
      "epoch 22 | loss: 0.27865 | train_mse: 0.31129 | train_mae: 0.42833 |  0:00:02s\n"
     ]
    },
    {
     "name": "stdout",
     "output_type": "stream",
     "text": [
      "epoch 23 | loss: 0.12139 | train_mse: 0.28965 | train_mae: 0.41028 |  0:00:02s\n",
      "epoch 24 | loss: 0.20948 | train_mse: 0.16596 | train_mae: 0.32656 |  0:00:02s\n",
      "epoch 25 | loss: 0.14941 | train_mse: 0.13414 | train_mae: 0.293   |  0:00:02s\n"
     ]
    },
    {
     "name": "stdout",
     "output_type": "stream",
     "text": [
      "epoch 26 | loss: 0.14218 | train_mse: 0.12719 | train_mae: 0.27906 |  0:00:02s\n",
      "epoch 27 | loss: 0.14957 | train_mse: 0.15335 | train_mae: 0.29216 |  0:00:03s\n",
      "epoch 28 | loss: 0.14604 | train_mse: 0.15625 | train_mae: 0.31866 |  0:00:03s\n"
     ]
    },
    {
     "name": "stdout",
     "output_type": "stream",
     "text": [
      "epoch 29 | loss: 0.1865  | train_mse: 0.13795 | train_mae: 0.2996  |  0:00:03s\n",
      "epoch 30 | loss: 0.10326 | train_mse: 0.11966 | train_mae: 0.27261 |  0:00:03s\n",
      "epoch 31 | loss: 0.19917 | train_mse: 0.12548 | train_mae: 0.27381 |  0:00:03s\n"
     ]
    },
    {
     "name": "stdout",
     "output_type": "stream",
     "text": [
      "epoch 32 | loss: 0.12772 | train_mse: 0.11683 | train_mae: 0.27317 |  0:00:03s\n",
      "epoch 33 | loss: 0.11744 | train_mse: 0.11005 | train_mae: 0.2643  |  0:00:03s\n",
      "epoch 34 | loss: 0.14409 | train_mse: 0.1096  | train_mae: 0.26248 |  0:00:03s\n"
     ]
    },
    {
     "name": "stdout",
     "output_type": "stream",
     "text": [
      "epoch 35 | loss: 0.15234 | train_mse: 0.11942 | train_mae: 0.27752 |  0:00:03s\n",
      "epoch 36 | loss: 0.20345 | train_mse: 0.09963 | train_mae: 0.2501  |  0:00:03s\n",
      "epoch 37 | loss: 0.17056 | train_mse: 0.12177 | train_mae: 0.27994 |  0:00:03s\n"
     ]
    },
    {
     "name": "stdout",
     "output_type": "stream",
     "text": [
      "epoch 38 | loss: 0.1207  | train_mse: 0.11808 | train_mae: 0.26525 |  0:00:04s\n",
      "epoch 39 | loss: 0.17991 | train_mse: 0.12887 | train_mae: 0.27536 |  0:00:04s\n",
      "epoch 40 | loss: 0.15737 | train_mse: 0.14553 | train_mae: 0.298   |  0:00:04s\n"
     ]
    },
    {
     "name": "stdout",
     "output_type": "stream",
     "text": [
      "epoch 41 | loss: 0.1466  | train_mse: 0.11963 | train_mae: 0.27884 |  0:00:04s\n",
      "epoch 42 | loss: 0.17433 | train_mse: 0.10048 | train_mae: 0.25878 |  0:00:04s\n"
     ]
    },
    {
     "name": "stdout",
     "output_type": "stream",
     "text": [
      "epoch 43 | loss: 0.10737 | train_mse: 0.10227 | train_mae: 0.25328 |  0:00:04s\n",
      "epoch 44 | loss: 0.18676 | train_mse: 0.11977 | train_mae: 0.25958 |  0:00:04s\n"
     ]
    },
    {
     "name": "stdout",
     "output_type": "stream",
     "text": [
      "epoch 45 | loss: 0.17444 | train_mse: 0.1023  | train_mae: 0.24188 |  0:00:04s\n",
      "epoch 46 | loss: 0.13013 | train_mse: 0.10635 | train_mae: 0.25234 |  0:00:04s\n",
      "epoch 47 | loss: 0.1222  | train_mse: 0.10908 | train_mae: 0.25086 |  0:00:04s\n"
     ]
    },
    {
     "name": "stdout",
     "output_type": "stream",
     "text": [
      "epoch 48 | loss: 0.09652 | train_mse: 0.10549 | train_mae: 0.25461 |  0:00:05s\n",
      "epoch 49 | loss: 0.14025 | train_mse: 0.08744 | train_mae: 0.23517 |  0:00:05s\n",
      "epoch 50 | loss: 0.18723 | train_mse: 0.08975 | train_mae: 0.23702 |  0:00:05s\n"
     ]
    },
    {
     "name": "stdout",
     "output_type": "stream",
     "text": [
      "epoch 51 | loss: 0.13974 | train_mse: 0.13192 | train_mae: 0.28685 |  0:00:05s\n",
      "epoch 52 | loss: 0.10313 | train_mse: 0.13023 | train_mae: 0.29099 |  0:00:05s\n"
     ]
    },
    {
     "name": "stdout",
     "output_type": "stream",
     "text": [
      "epoch 53 | loss: 0.12073 | train_mse: 0.10862 | train_mae: 0.26601 |  0:00:05s\n",
      "epoch 54 | loss: 0.19505 | train_mse: 0.11735 | train_mae: 0.25837 |  0:00:05s\n",
      "epoch 55 | loss: 0.32474 | train_mse: 0.09097 | train_mae: 0.23354 |  0:00:05s\n"
     ]
    },
    {
     "name": "stdout",
     "output_type": "stream",
     "text": [
      "epoch 56 | loss: 0.16021 | train_mse: 0.09698 | train_mae: 0.233   |  0:00:05s\n",
      "epoch 57 | loss: 0.13199 | train_mse: 0.08403 | train_mae: 0.21534 |  0:00:05s\n",
      "epoch 58 | loss: 0.09917 | train_mse: 0.07718 | train_mae: 0.21485 |  0:00:05s\n"
     ]
    },
    {
     "name": "stdout",
     "output_type": "stream",
     "text": [
      "epoch 59 | loss: 0.11908 | train_mse: 0.07205 | train_mae: 0.20311 |  0:00:06s\n",
      "epoch 60 | loss: 0.12093 | train_mse: 0.07565 | train_mae: 0.2113  |  0:00:06s\n",
      "epoch 61 | loss: 0.14451 | train_mse: 0.07693 | train_mae: 0.20489 |  0:00:06s\n"
     ]
    },
    {
     "name": "stdout",
     "output_type": "stream",
     "text": [
      "epoch 62 | loss: 0.10929 | train_mse: 0.08003 | train_mae: 0.21693 |  0:00:06s\n",
      "epoch 63 | loss: 0.21931 | train_mse: 0.08497 | train_mae: 0.23108 |  0:00:06s\n"
     ]
    },
    {
     "name": "stdout",
     "output_type": "stream",
     "text": [
      "epoch 64 | loss: 0.18246 | train_mse: 0.08985 | train_mae: 0.23784 |  0:00:06s\n",
      "epoch 65 | loss: 0.08484 | train_mse: 0.08092 | train_mae: 0.22519 |  0:00:06s\n",
      "epoch 66 | loss: 0.10544 | train_mse: 0.07737 | train_mae: 0.21902 |  0:00:06s\n"
     ]
    },
    {
     "name": "stdout",
     "output_type": "stream",
     "text": [
      "epoch 67 | loss: 0.11376 | train_mse: 0.0723  | train_mae: 0.2103  |  0:00:06s\n",
      "epoch 68 | loss: 0.12094 | train_mse: 0.07021 | train_mae: 0.21297 |  0:00:07s\n",
      "epoch 69 | loss: 0.22436 | train_mse: 0.09463 | train_mae: 0.24249 |  0:00:07s\n"
     ]
    },
    {
     "name": "stdout",
     "output_type": "stream",
     "text": [
      "epoch 70 | loss: 0.14085 | train_mse: 0.08524 | train_mae: 0.23325 |  0:00:07s\n"
     ]
    },
    {
     "name": "stdout",
     "output_type": "stream",
     "text": [
      "epoch 71 | loss: 0.09399 | train_mse: 0.06879 | train_mae: 0.20847 |  0:00:07s\n",
      "epoch 72 | loss: 0.23295 | train_mse: 0.07891 | train_mae: 0.21217 |  0:00:07s\n"
     ]
    },
    {
     "name": "stdout",
     "output_type": "stream",
     "text": [
      "epoch 73 | loss: 0.10172 | train_mse: 0.10806 | train_mae: 0.24497 |  0:00:07s\n",
      "epoch 74 | loss: 0.07864 | train_mse: 0.11483 | train_mae: 0.25135 |  0:00:07s\n",
      "epoch 75 | loss: 0.08074 | train_mse: 0.09694 | train_mae: 0.23624 |  0:00:07s\n"
     ]
    },
    {
     "name": "stdout",
     "output_type": "stream",
     "text": [
      "epoch 76 | loss: 0.1699  | train_mse: 0.09019 | train_mae: 0.23228 |  0:00:08s\n",
      "epoch 77 | loss: 0.13122 | train_mse: 0.08829 | train_mae: 0.22745 |  0:00:08s\n",
      "epoch 78 | loss: 0.0753  | train_mse: 0.10505 | train_mae: 0.24602 |  0:00:08s\n"
     ]
    },
    {
     "name": "stdout",
     "output_type": "stream",
     "text": [
      "epoch 79 | loss: 0.17574 | train_mse: 0.10206 | train_mae: 0.23988 |  0:00:08s\n",
      "epoch 80 | loss: 0.11234 | train_mse: 0.10504 | train_mae: 0.24138 |  0:00:08s\n"
     ]
    },
    {
     "name": "stdout",
     "output_type": "stream",
     "text": [
      "epoch 81 | loss: 0.11194 | train_mse: 0.0947  | train_mae: 0.23186 |  0:00:08s\n",
      "epoch 82 | loss: 0.24729 | train_mse: 0.07683 | train_mae: 0.21843 |  0:00:08s\n",
      "epoch 83 | loss: 0.09292 | train_mse: 0.06718 | train_mae: 0.20335 |  0:00:08s\n"
     ]
    },
    {
     "name": "stdout",
     "output_type": "stream",
     "text": [
      "epoch 84 | loss: 0.13329 | train_mse: 0.06927 | train_mae: 0.20292 |  0:00:08s\n",
      "epoch 85 | loss: 0.08765 | train_mse: 0.08229 | train_mae: 0.21853 |  0:00:08s\n",
      "epoch 86 | loss: 0.09769 | train_mse: 0.10462 | train_mae: 0.24414 |  0:00:08s\n"
     ]
    },
    {
     "name": "stdout",
     "output_type": "stream",
     "text": [
      "epoch 87 | loss: 0.06802 | train_mse: 0.1199  | train_mae: 0.26118 |  0:00:08s\n",
      "epoch 88 | loss: 0.14934 | train_mse: 0.09542 | train_mae: 0.22909 |  0:00:09s\n",
      "epoch 89 | loss: 0.25476 | train_mse: 0.09349 | train_mae: 0.22979 |  0:00:09s\n"
     ]
    },
    {
     "name": "stdout",
     "output_type": "stream",
     "text": [
      "epoch 90 | loss: 0.13977 | train_mse: 0.06792 | train_mae: 0.19951 |  0:00:09s\n",
      "epoch 91 | loss: 0.16449 | train_mse: 0.06314 | train_mae: 0.19509 |  0:00:09s\n"
     ]
    },
    {
     "name": "stdout",
     "output_type": "stream",
     "text": [
      "epoch 92 | loss: 0.1041  | train_mse: 0.07444 | train_mae: 0.20789 |  0:00:09s\n",
      "epoch 93 | loss: 0.14125 | train_mse: 0.08449 | train_mae: 0.22253 |  0:00:09s\n",
      "epoch 94 | loss: 0.15205 | train_mse: 0.09263 | train_mae: 0.23507 |  0:00:09s\n"
     ]
    },
    {
     "name": "stdout",
     "output_type": "stream",
     "text": [
      "epoch 95 | loss: 0.09887 | train_mse: 0.10116 | train_mae: 0.24788 |  0:00:09s\n",
      "epoch 96 | loss: 0.16924 | train_mse: 0.11072 | train_mae: 0.25849 |  0:00:09s\n",
      "epoch 97 | loss: 0.1198  | train_mse: 0.08451 | train_mae: 0.23542 |  0:00:09s\n"
     ]
    },
    {
     "name": "stdout",
     "output_type": "stream",
     "text": [
      "epoch 98 | loss: 0.1351  | train_mse: 0.06845 | train_mae: 0.21409 |  0:00:09s\n",
      "epoch 99 | loss: 0.09276 | train_mse: 0.0661  | train_mae: 0.20623 |  0:00:10s\n",
      "epoch 100| loss: 0.12641 | train_mse: 0.06315 | train_mae: 0.19825 |  0:00:10s\n"
     ]
    },
    {
     "name": "stdout",
     "output_type": "stream",
     "text": [
      "epoch 101| loss: 0.09765 | train_mse: 0.06071 | train_mae: 0.18946 |  0:00:10s\n",
      "epoch 102| loss: 0.23543 | train_mse: 0.05741 | train_mae: 0.18303 |  0:00:10s\n",
      "epoch 103| loss: 0.15941 | train_mse: 0.08218 | train_mae: 0.2203  |  0:00:10s\n"
     ]
    },
    {
     "name": "stdout",
     "output_type": "stream",
     "text": [
      "epoch 104| loss: 0.10456 | train_mse: 0.1126  | train_mae: 0.24896 |  0:00:10s\n",
      "epoch 105| loss: 0.17265 | train_mse: 0.09861 | train_mae: 0.23043 |  0:00:10s\n",
      "epoch 106| loss: 0.1145  | train_mse: 0.09018 | train_mae: 0.22602 |  0:00:10s\n"
     ]
    },
    {
     "name": "stdout",
     "output_type": "stream",
     "text": [
      "epoch 107| loss: 0.08192 | train_mse: 0.06923 | train_mae: 0.2004  |  0:00:10s\n",
      "epoch 108| loss: 0.10048 | train_mse: 0.05827 | train_mae: 0.18482 |  0:00:10s\n",
      "epoch 109| loss: 0.13008 | train_mse: 0.05542 | train_mae: 0.18413 |  0:00:10s\n"
     ]
    },
    {
     "name": "stdout",
     "output_type": "stream",
     "text": [
      "epoch 110| loss: 0.14239 | train_mse: 0.06586 | train_mae: 0.19808 |  0:00:11s\n",
      "epoch 111| loss: 0.08232 | train_mse: 0.08868 | train_mae: 0.22774 |  0:00:11s\n",
      "epoch 112| loss: 0.21041 | train_mse: 0.09505 | train_mae: 0.23287 |  0:00:11s\n"
     ]
    },
    {
     "name": "stdout",
     "output_type": "stream",
     "text": [
      "epoch 113| loss: 0.081   | train_mse: 0.09003 | train_mae: 0.22692 |  0:00:11s\n",
      "epoch 114| loss: 0.10471 | train_mse: 0.08535 | train_mae: 0.22233 |  0:00:11s\n"
     ]
    },
    {
     "name": "stdout",
     "output_type": "stream",
     "text": [
      "epoch 115| loss: 0.10876 | train_mse: 0.07469 | train_mae: 0.20953 |  0:00:11s\n",
      "epoch 116| loss: 0.0923  | train_mse: 0.07818 | train_mae: 0.21425 |  0:00:11s\n"
     ]
    },
    {
     "name": "stdout",
     "output_type": "stream",
     "text": [
      "epoch 117| loss: 0.08472 | train_mse: 0.10081 | train_mae: 0.23386 |  0:00:11s\n",
      "epoch 118| loss: 0.08529 | train_mse: 0.13965 | train_mae: 0.26628 |  0:00:11s\n",
      "epoch 119| loss: 0.07442 | train_mse: 0.15785 | train_mae: 0.28362 |  0:00:11s\n"
     ]
    },
    {
     "name": "stdout",
     "output_type": "stream",
     "text": [
      "epoch 120| loss: 0.16911 | train_mse: 0.13237 | train_mae: 0.265   |  0:00:12s\n",
      "epoch 121| loss: 0.11214 | train_mse: 0.13224 | train_mae: 0.26482 |  0:00:12s\n"
     ]
    },
    {
     "name": "stdout",
     "output_type": "stream",
     "text": [
      "epoch 122| loss: 0.11515 | train_mse: 0.11695 | train_mae: 0.25103 |  0:00:12s\n",
      "epoch 123| loss: 0.11063 | train_mse: 0.10286 | train_mae: 0.23376 |  0:00:12s\n"
     ]
    },
    {
     "name": "stdout",
     "output_type": "stream",
     "text": [
      "epoch 124| loss: 0.16963 | train_mse: 0.09316 | train_mae: 0.22005 |  0:00:12s\n",
      "epoch 125| loss: 0.12874 | train_mse: 0.09118 | train_mae: 0.20974 |  0:00:12s\n",
      "epoch 126| loss: 0.09753 | train_mse: 0.10742 | train_mae: 0.22617 |  0:00:12s\n"
     ]
    },
    {
     "name": "stdout",
     "output_type": "stream",
     "text": [
      "epoch 127| loss: 0.14269 | train_mse: 0.10082 | train_mae: 0.22342 |  0:00:12s\n",
      "epoch 128| loss: 0.10765 | train_mse: 0.09052 | train_mae: 0.219   |  0:00:12s\n",
      "epoch 129| loss: 0.09721 | train_mse: 0.08844 | train_mae: 0.22233 |  0:00:12s\n"
     ]
    },
    {
     "name": "stdout",
     "output_type": "stream",
     "text": [
      "epoch 130| loss: 0.08994 | train_mse: 0.10096 | train_mae: 0.23987 |  0:00:12s\n",
      "epoch 131| loss: 0.09507 | train_mse: 0.08537 | train_mae: 0.22253 |  0:00:13s\n",
      "epoch 132| loss: 0.16659 | train_mse: 0.06798 | train_mae: 0.19784 |  0:00:13s\n"
     ]
    },
    {
     "name": "stdout",
     "output_type": "stream",
     "text": [
      "epoch 133| loss: 0.06875 | train_mse: 0.1338  | train_mae: 0.26292 |  0:00:13s\n",
      "epoch 134| loss: 0.1122  | train_mse: 0.13288 | train_mae: 0.26937 |  0:00:13s\n"
     ]
    },
    {
     "name": "stdout",
     "output_type": "stream",
     "text": [
      "epoch 135| loss: 0.10546 | train_mse: 0.09462 | train_mae: 0.2316  |  0:00:13s\n",
      "epoch 136| loss: 0.13743 | train_mse: 0.0581  | train_mae: 0.18842 |  0:00:13s\n",
      "epoch 137| loss: 0.1192  | train_mse: 0.08793 | train_mae: 0.22775 |  0:00:13s\n"
     ]
    },
    {
     "name": "stdout",
     "output_type": "stream",
     "text": [
      "epoch 138| loss: 0.19997 | train_mse: 0.11092 | train_mae: 0.26026 |  0:00:13s\n",
      "epoch 139| loss: 0.12937 | train_mse: 0.10696 | train_mae: 0.25375 |  0:00:13s\n",
      "epoch 140| loss: 0.08982 | train_mse: 0.09871 | train_mae: 0.2352  |  0:00:13s\n"
     ]
    },
    {
     "name": "stdout",
     "output_type": "stream",
     "text": [
      "epoch 141| loss: 0.09549 | train_mse: 0.10258 | train_mae: 0.23292 |  0:00:13s\n",
      "epoch 142| loss: 0.17916 | train_mse: 0.11194 | train_mae: 0.25086 |  0:00:14s\n",
      "epoch 143| loss: 0.08619 | train_mse: 0.09668 | train_mae: 0.24528 |  0:00:14s\n"
     ]
    },
    {
     "name": "stdout",
     "output_type": "stream",
     "text": [
      "epoch 144| loss: 0.11924 | train_mse: 0.11492 | train_mae: 0.27702 |  0:00:14s\n",
      "epoch 145| loss: 0.09028 | train_mse: 0.07158 | train_mae: 0.2257  |  0:00:14s\n"
     ]
    },
    {
     "name": "stdout",
     "output_type": "stream",
     "text": [
      "epoch 146| loss: 0.06814 | train_mse: 0.06463 | train_mae: 0.20476 |  0:00:14s\n",
      "epoch 147| loss: 0.09019 | train_mse: 0.05857 | train_mae: 0.1928  |  0:00:14s\n",
      "epoch 148| loss: 0.08466 | train_mse: 0.05922 | train_mae: 0.19508 |  0:00:14s\n"
     ]
    },
    {
     "name": "stdout",
     "output_type": "stream",
     "text": [
      "epoch 149| loss: 0.09002 | train_mse: 0.05471 | train_mae: 0.18647 |  0:00:14s\n",
      "epoch 150| loss: 0.11788 | train_mse: 0.0588  | train_mae: 0.19627 |  0:00:14s\n",
      "epoch 151| loss: 0.08171 | train_mse: 0.05698 | train_mae: 0.19013 |  0:00:14s\n"
     ]
    },
    {
     "name": "stdout",
     "output_type": "stream",
     "text": [
      "epoch 152| loss: 0.09012 | train_mse: 0.08336 | train_mae: 0.22342 |  0:00:14s\n",
      "\n",
      "Early stopping occurred at epoch 152 with best_epoch = 102 and best_train_mae = 0.18303\n",
      "Best weights from best epoch are automatically used!\n"
     ]
    }
   ],
   "source": [
    "#Train the Model\n",
    "\n",
    "Y_train = np.reshape(Y_train, (-1, 1))\n",
    "Y_test = np.reshape(Y_test, (-1, 1))\n",
    "\n",
    "prior_model = TabNetRegressor(optimizer_fn=torch.optim.Adam, optimizer_params=dict(lr = 0.02),\n",
    "          #scheduler_params={\"step_size\":10, ], \"gamma\":0.9},\n",
    "          #scheduler_fn=torch.optim.lr_scheduler.StepLR\n",
    "          )  #TabNetRegressor()\n",
    "\n",
    "prior_model.fit(X_train,Y_train,eval_set=[(X_train, Y_train)],\n",
    "            eval_name=['train'], \n",
    "            eval_metric=[ 'mse', 'mae'], \n",
    "            max_epochs = n_epochs, \n",
    "            batch_size = batch_size,\n",
    "            patience=50\n",
    "            )"
   ]
  },
  {
   "cell_type": "code",
   "execution_count": 10,
   "id": "af65dcda",
   "metadata": {
    "execution": {
     "iopub.execute_input": "2022-06-22T13:37:27.077864Z",
     "iopub.status.busy": "2022-06-22T13:37:27.076753Z",
     "iopub.status.idle": "2022-06-22T13:37:27.106691Z",
     "shell.execute_reply": "2022-06-22T13:37:27.107300Z"
    },
    "id": "af65dcda",
    "papermill": {
     "duration": 0.076878,
     "end_time": "2022-06-22T13:37:27.107528",
     "exception": false,
     "start_time": "2022-06-22T13:37:27.030650",
     "status": "completed"
    },
    "tags": []
   },
   "outputs": [
    {
     "data": {
      "application/scrapbook.scrap.json+json": {
       "data": 0.2500825412816407,
       "encoder": "json",
       "name": "Prior Model MSE",
       "version": 1
      }
     },
     "metadata": {
      "scrapbook": {
       "data": true,
       "display": false,
       "name": "Prior Model MSE"
      }
     },
     "output_type": "display_data"
    },
    {
     "data": {
      "application/scrapbook.scrap.json+json": {
       "data": 1.3141933586129784,
       "encoder": "json",
       "name": "ABC Pre-generator MSE",
       "version": 1
      }
     },
     "metadata": {
      "scrapbook": {
       "data": true,
       "display": false,
       "name": "ABC Pre-generator MSE"
      }
     },
     "output_type": "display_data"
    },
    {
     "data": {
      "application/scrapbook.scrap.json+json": {
       "data": 0.4090292442129583,
       "encoder": "json",
       "name": "Prior Model MSE",
       "version": 1
      }
     },
     "metadata": {
      "scrapbook": {
       "data": true,
       "display": false,
       "name": "Prior Model MSE"
      }
     },
     "output_type": "display_data"
    },
    {
     "data": {
      "application/scrapbook.scrap.json+json": {
       "data": 1.0385322188642256,
       "encoder": "json",
       "name": "ABC Pre-generator MSE",
       "version": 1
      }
     },
     "metadata": {
      "scrapbook": {
       "data": true,
       "display": false,
       "name": "ABC Pre-generator MSE"
      }
     },
     "output_type": "display_data"
    }
   ],
   "source": [
    "y_pred = prior_model.predict(X_test)\n",
    "y_abc = y_pred + np.random.normal(0,variance, y_pred.shape) + bias \n",
    "mse = mean_squared_error(y_pred,Y_test)\n",
    "sb.glue(\"Prior Model MSE\",mse)\n",
    "mse = mean_squared_error(y_abc,Y_test)\n",
    "sb.glue(\"ABC Pre-generator MSE\",mse)\n",
    "mae = mean_absolute_error(y_pred,Y_test)\n",
    "sb.glue(\"Prior Model MSE\",mae)\n",
    "mae = mean_absolute_error(y_abc,Y_test)\n",
    "sb.glue(\"ABC Pre-generator MSE\",mae)"
   ]
  },
  {
   "cell_type": "markdown",
   "id": "25609da2",
   "metadata": {
    "papermill": {
     "duration": 0.045129,
     "end_time": "2022-06-22T13:37:27.189223",
     "exception": false,
     "start_time": "2022-06-22T13:37:27.144094",
     "status": "completed"
    },
    "tags": []
   },
   "source": [
    "# ABC GAN Model"
   ]
  },
  {
   "cell_type": "code",
   "execution_count": 11,
   "id": "dfc3464d",
   "metadata": {
    "execution": {
     "iopub.execute_input": "2022-06-22T13:37:27.327931Z",
     "iopub.status.busy": "2022-06-22T13:37:27.323991Z",
     "iopub.status.idle": "2022-06-22T13:37:27.339533Z",
     "shell.execute_reply": "2022-06-22T13:37:27.334877Z"
    },
    "papermill": {
     "duration": 0.085463,
     "end_time": "2022-06-22T13:37:27.339802",
     "exception": false,
     "start_time": "2022-06-22T13:37:27.254339",
     "status": "completed"
    },
    "tags": []
   },
   "outputs": [],
   "source": [
    "gen = network.Generator(n_features+1).to(device)\n",
    "disc = network.Discriminator(n_features+1).to(device)\n",
    "\n",
    "criterion = torch.nn.BCELoss()\n",
    "gen_opt = torch.optim.Adam(gen.parameters(), lr=0.001, betas=(0.5, 0.999))\n",
    "disc_opt = torch.optim.Adam(disc.parameters(), lr=0.001, betas=(0.5, 0.999))"
   ]
  },
  {
   "cell_type": "code",
   "execution_count": 12,
   "id": "b75fdd85",
   "metadata": {
    "execution": {
     "iopub.execute_input": "2022-06-22T13:37:27.435771Z",
     "iopub.status.busy": "2022-06-22T13:37:27.434921Z",
     "iopub.status.idle": "2022-06-22T13:38:23.735033Z",
     "shell.execute_reply": "2022-06-22T13:38:23.735596Z"
    },
    "papermill": {
     "duration": 56.353039,
     "end_time": "2022-06-22T13:38:23.735873",
     "exception": false,
     "start_time": "2022-06-22T13:37:27.382834",
     "status": "completed"
    },
    "tags": []
   },
   "outputs": [
    {
     "data": {
      "image/png": "[encoded data removed]",
      "text/plain": [
       "<Figure size 432x288 with 1 Axes>"
      ]
     },
     "metadata": {
      "needs_background": "light"
     },
     "output_type": "display_data"
    },
    {
     "data": {
      "image/png": "[encoded data removed]",
      "text/plain": [
       "<Figure size 432x288 with 1 Axes>"
      ]
     },
     "metadata": {
      "needs_background": "light"
     },
     "output_type": "display_data"
    }
   ],
   "source": [
    "#Training the ABC_GAN \n",
    "ABC_train_test2.training_GAN(disc,gen,disc_opt,gen_opt,train_data,batch_size,n_epochs,criterion,prior_model,variance,bias,device)"
   ]
  },
  {
   "cell_type": "code",
   "execution_count": 13,
   "id": "1fa7c368",
   "metadata": {
    "execution": {
     "iopub.execute_input": "2022-06-22T13:38:23.844185Z",
     "iopub.status.busy": "2022-06-22T13:38:23.842324Z",
     "iopub.status.idle": "2022-06-22T13:38:24.706202Z",
     "shell.execute_reply": "2022-06-22T13:38:24.706823Z"
    },
    "papermill": {
     "duration": 0.934401,
     "end_time": "2022-06-22T13:38:24.707049",
     "exception": false,
     "start_time": "2022-06-22T13:38:23.772648",
     "status": "completed"
    },
    "tags": []
   },
   "outputs": [
    {
     "data": {
      "application/scrapbook.scrap.json+json": {
       "data": 0.3223913049219344,
       "encoder": "json",
       "name": "ABC-GAN Model 1 MSE",
       "version": 1
      }
     },
     "metadata": {
      "scrapbook": {
       "data": true,
       "display": false,
       "name": "ABC-GAN Model 1 MSE"
      }
     },
     "output_type": "display_data"
    },
    {
     "data": {
      "application/scrapbook.scrap.json+json": {
       "data": 0.4755680796429515,
       "encoder": "json",
       "name": "ABC-GAN Model 1 MAE",
       "version": 1
      }
     },
     "metadata": {
      "scrapbook": {
       "data": true,
       "display": false,
       "name": "ABC-GAN Model 1 MAE"
      }
     },
     "output_type": "display_data"
    },
    {
     "data": {
      "application/scrapbook.scrap.json+json": {
       "data": 9.51136159285903,
       "encoder": "json",
       "name": "ABC-GAN Model 1 Manhattan Distance",
       "version": 1
      }
     },
     "metadata": {
      "scrapbook": {
       "data": true,
       "display": false,
       "name": "ABC-GAN Model 1 Manhattan Distance"
      }
     },
     "output_type": "display_data"
    },
    {
     "data": {
      "application/scrapbook.scrap.json+json": {
       "data": 2.5392502157364194,
       "encoder": "json",
       "name": "ABC-GAN Model 1 Euclidean distance",
       "version": 1
      }
     },
     "metadata": {
      "scrapbook": {
       "data": true,
       "display": false,
       "name": "ABC-GAN Model 1 Euclidean distance"
      }
     },
     "output_type": "display_data"
    },
    {
     "data": {
      "application/scrapbook.scrap.json+json": {
       "data": [
        [
         0.3227056879650371,
         0.3205562482975762,
         0.3198385326727908,
         0.322574324720659,
         0.32404701422828863,
         0.32128848162192847,
         0.32133277480223676,
         0.32385872205120914,
         0.323411105383506,
         0.3231122096242379,
         0.32126015903356553,
         0.3227524078259582,
         0.32372656945525874,
         0.3231838004571971,
         0.3217508537122379,
         0.32279379342710757,
         0.32118867733821677,
         0.32161649087323446,
         0.3223333034161389,
         0.32161266572394465,
         0.3221855936336648,
         0.3232236248258262,
         0.3217750884632739,
         0.3208742653351424,
         0.32102867727322143,
         0.3211736013989283,
         0.3200701915434846,
         0.3221487443846601,
         0.31989275888298335,
         0.3243490561644237,
         0.3232391036197369,
         0.3225564680340084,
         0.3221098566731171,
         0.3223079584562698,
         0.3220630416366319,
         0.3228882103638374,
         0.3238032451493423,
         0.3234461619876367,
         0.32054248588504064,
         0.32179677290325237,
         0.32356729332298206,
         0.3243862121931159,
         0.32400422194601586,
         0.32044185245736173,
         0.32072037868228176,
         0.3211886560695689,
         0.3212033953802535,
         0.32464879129693885,
         0.32123732795568405,
         0.3222134675408141,
         0.32376337774922065,
         0.3230786882652725,
         0.32418921880885615,
         0.3217931859922566,
         0.3196041646769791,
         0.3208832105325456,
         0.3247937955677026,
         0.32215814987184926,
         0.32110068145342974,
         0.3233521397704865,
         0.3218383181435749,
         0.32528922763505264,
         0.32219617984322974,
         0.32521440183764405,
         0.3239569777597888,
         0.3220400087753564,
         0.3219786710604531,
         0.3229801147067747,
         0.32225731793357587,
         0.31953461802902206,
         0.32345482919375457,
         0.3260845077126459,
         0.32318059702987856,
         0.32166430300792925,
         0.31909101635364023,
         0.3242186500176412,
         0.3217506344733131,
         0.32114413915645035,
         0.3214702469218848,
         0.3225595590201794,
         0.32294124792885187,
         0.32412797695452883,
         0.3209837680778419,
         0.31848882403710677,
         0.32418295963485394,
         0.3206920322014914,
         0.3229986834293797,
         0.32130975015529634,
         0.32298912291057175,
         0.3229900314474833,
         0.3230735604435998,
         0.3245163218746462,
         0.32066317773238995,
         0.32212929279355584,
         0.323148616019589,
         0.32076914654384786,
         0.3247335533275229,
         0.3255527963627158,
         0.32304820866766665,
         0.32314016426028574
        ],
        [
         0.4770779760554433,
         0.47399501148611306,
         0.4728374617174268,
         0.47520853001624347,
         0.4772962363436818,
         0.47414927203208207,
         0.47384991962462664,
         0.4779946068301797,
         0.47683493737131355,
         0.47702118251472714,
         0.47371089849621056,
         0.4756804505363107,
         0.4767539920285344,
         0.4755401710048318,
         0.4752268562093377,
         0.47531401831656694,
         0.4751606101170182,
         0.4743419224396348,
         0.4766464376822114,
         0.4763749668374658,
         0.47446208018809555,
         0.4772531295195222,
         0.4760641807690263,
         0.473698921687901,
         0.4727395595982671,
         0.47352822292596103,
         0.47400054801255465,
         0.47542080376297235,
         0.47446639109402894,
         0.47639856282621623,
         0.4766308503225446,
         0.4748039299622178,
         0.4735681274905801,
         0.4764541702345014,
         0.4743996063247323,
         0.4766270102933049,
         0.47680398914963007,
         0.47694048900157215,
         0.47425868827849627,
         0.47513863909989595,
         0.47769870329648256,
         0.47865601945668457,
         0.47766203377395866,
         0.4738101722672582,
         0.4722075158730149,
         0.4756185861304402,
         0.4745180832222104,
         0.47687064204365015,
         0.4745337346568704,
         0.4740176485851407,
         0.47592420745640995,
         0.4774226823821664,
         0.47755620200186966,
         0.4753322111442685,
         0.4738914335146546,
         0.47422682512551545,
         0.4762157315388322,
         0.4750080393627286,
         0.4741019750013947,
         0.4781389253214002,
         0.4752470726147294,
         0.47772693280130624,
         0.4763657020404935,
         0.477139993198216,
         0.47628756109625103,
         0.474046547152102,
         0.47474661711603405,
         0.4748615691438317,
         0.4752468617632985,
         0.47192040327936413,
         0.4776584977284074,
         0.4780608342960477,
         0.4752458864822984,
         0.4747142294421792,
         0.4721120918169618,
         0.4751290472224355,
         0.476243375428021,
         0.47464241180568933,
         0.47704367358237504,
         0.4749328473582864,
         0.47646207083016634,
         0.47637112606316806,
         0.47563646305352447,
         0.4714602703228593,
         0.4783879162743688,
         0.4743001783266664,
         0.4760494904592633,
         0.4740263598039746,
         0.47761801946908233,
         0.47461489383131267,
         0.4756782637909055,
         0.47657880950719117,
         0.4742906840518117,
         0.47801323477178814,
         0.4769964078441262,
         0.4750502334907651,
         0.4770079316571355,
         0.4785028787329793,
         0.47699860353022816,
         0.4753072427585721
        ],
        [
         9.541559521108866,
         9.479900229722261,
         9.456749234348536,
         9.50417060032487,
         9.545924726873636,
         9.482985440641642,
         9.476998392492533,
         9.559892136603594,
         9.536698747426271,
         9.540423650294542,
         9.474217969924212,
         9.513609010726213,
         9.535079840570688,
         9.510803420096636,
         9.504537124186754,
         9.506280366331339,
         9.503212202340364,
         9.486838448792696,
         9.532928753644228,
         9.527499336749315,
         9.489241603761911,
         9.545062590390444,
         9.521283615380526,
         9.47397843375802,
         9.454791191965342,
         9.47056445851922,
         9.480010960251093,
         9.508416075259447,
         9.489327821880579,
         9.527971256524324,
         9.532617006450891,
         9.496078599244356,
         9.471362549811602,
         9.529083404690027,
         9.487992126494646,
         9.532540205866098,
         9.536079782992601,
         9.538809780031443,
         9.485173765569925,
         9.502772781997919,
         9.553974065929651,
         9.573120389133692,
         9.553240675479174,
         9.476203445345163,
         9.444150317460299,
         9.512371722608805,
         9.490361664444208,
         9.537412840873003,
         9.490674693137407,
         9.480352971702814,
         9.518484149128199,
         9.548453647643328,
         9.551124040037394,
         9.50664422288537,
         9.477828670293093,
         9.48453650251031,
         9.524314630776644,
         9.500160787254572,
         9.482039500027895,
         9.562778506428003,
         9.504941452294588,
         9.554538656026125,
         9.52731404080987,
         9.54279986396432,
         9.52575122192502,
         9.48093094304204,
         9.49493234232068,
         9.497231382876635,
         9.50493723526597,
         9.438408065587282,
         9.553169954568148,
         9.561216685920954,
         9.504917729645967,
         9.494284588843584,
         9.442241836339235,
         9.50258094444871,
         9.524867508560419,
         9.492848236113787,
         9.540873471647501,
         9.498656947165728,
         9.529241416603327,
         9.527422521263361,
         9.51272926107049,
         9.429205406457186,
         9.567758325487375,
         9.486003566533327,
         9.520989809185266,
         9.480527196079493,
         9.552360389381647,
         9.492297876626253,
         9.51356527581811,
         9.531576190143824,
         9.485813681036234,
         9.560264695435762,
         9.539928156882524,
         9.501004669815302,
         9.54015863314271,
         9.570057574659586,
         9.539972070604563,
         9.506144855171442
        ],
        [
         2.5404947863163865,
         2.5320199379056088,
         2.5291837919486624,
         2.539977656282271,
         2.5457690949034975,
         2.534910182321766,
         2.5350849090404712,
         2.5450293595603535,
         2.5432699635843066,
         2.5420944499535727,
         2.5347984497137657,
         2.5406786802976806,
         2.5445100489298866,
         2.542376055807626,
         2.5367335441951244,
         2.540841566989597,
         2.5345164325299483,
         2.536203820173901,
         2.5390285678429807,
         2.536188737944969,
         2.5384467441081555,
         2.542532693303377,
         2.536829077660826,
         2.5332756081213996,
         2.533885069505803,
         2.534456949324365,
         2.530099569358821,
         2.5383015754029707,
         2.5293981848771194,
         2.546955265270373,
         2.54259357200374,
         2.5399073527749327,
         2.538148367109839,
         2.5389287443970137,
         2.5379639147814212,
         2.541213136924321,
         2.5448113688418728,
         2.543407800521327,
         2.531965583830241,
         2.53691455474264,
         2.543884011990256,
         2.5471011451966956,
         2.5456009975878615,
         2.5315681008314264,
         2.5326680741158394,
         2.534516348613948,
         2.53457450227944,
         2.548131830565047,
         2.5347083775286023,
         2.538556548674124,
         2.544654702505708,
         2.541962581413316,
         2.5463276254592855,
         2.5369004158313215,
         2.5282569674658433,
         2.533310918669659,
         2.548700828138535,
         2.5383386293867463,
         2.534169218712238,
         2.5430381034128704,
         2.537078312325321,
         2.5506439486335704,
         2.538488447258446,
         2.55035057134365,
         2.545415399339718,
         2.5378731598539606,
         2.537631458901994,
         2.5415747665837993,
         2.5387292803037345,
         2.5279818750498273,
         2.5434418774320537,
         2.5537600032604706,
         2.5423634556446824,
         2.5363923316708292,
         2.52622649955874,
         2.5464432057976127,
         2.536732679938164,
         2.534340699891987,
         2.535627129220244,
         2.5399195224265645,
         2.541421837983029,
         2.546087103594568,
         2.533707828767326,
         2.523841611659126,
         2.5463030441597243,
         2.5325561482482137,
         2.541647825444665,
         2.534994083445941,
         2.5416102097315068,
         2.5416137843798507,
         2.541942408645797,
         2.5476119087280393,
         2.5324422115120018,
         2.5382249419370058,
         2.542237660092341,
         2.5328606220787115,
         2.548464452675465,
         2.551677081304434,
         2.541842672816973,
         2.5422044145201452
        ]
       ],
       "encoder": "json",
       "name": "ABC_GAN_1 Metrics",
       "version": 1
      }
     },
     "metadata": {
      "scrapbook": {
       "data": true,
       "display": false,
       "name": "ABC_GAN_1 Metrics"
      }
     },
     "output_type": "display_data"
    },
    {
     "name": "stdout",
     "output_type": "stream",
     "text": [
      "MSE\n",
      "0.3223913049219344\n"
     ]
    }
   ],
   "source": [
    "ABC_GAN1_metrics=ABC_train_test2.test_generator(gen,test_data,prior_model,variance,bias,\"1\",device)\n",
    "sb.glue(\"ABC_GAN_1 Metrics\",ABC_GAN1_metrics)\n",
    "\n",
    "print(\"MSE\")\n",
    "print(mean(ABC_GAN1_metrics[0]))"
   ]
  },
  {
   "cell_type": "code",
   "execution_count": 14,
   "id": "eb22ce5c",
   "metadata": {
    "execution": {
     "iopub.execute_input": "2022-06-22T13:38:24.813166Z",
     "iopub.status.busy": "2022-06-22T13:38:24.807050Z",
     "iopub.status.idle": "2022-06-22T13:38:25.702778Z",
     "shell.execute_reply": "2022-06-22T13:38:25.703700Z"
    },
    "papermill": {
     "duration": 0.95393,
     "end_time": "2022-06-22T13:38:25.704128",
     "exception": false,
     "start_time": "2022-06-22T13:38:24.750198",
     "status": "completed"
    },
    "tags": []
   },
   "outputs": [
    {
     "data": {
      "image/png": "[encoded data removed]",
      "text/plain": [
       "<Figure size 432x288 with 1 Axes>"
      ]
     },
     "metadata": {
      "needs_background": "light"
     },
     "output_type": "display_data"
    },
    {
     "data": {
      "image/png": "[encoded data removed]",
      "text/plain": [
       "<Figure size 432x288 with 1 Axes>"
      ]
     },
     "metadata": {
      "needs_background": "light"
     },
     "output_type": "display_data"
    },
    {
     "data": {
      "image/png": "[encoded data removed]",
      "text/plain": [
       "<Figure size 432x288 with 1 Axes>"
      ]
     },
     "metadata": {
      "needs_background": "light"
     },
     "output_type": "display_data"
    },
    {
     "data": {
      "image/png": "[encoded data removed]",
      "text/plain": [
       "<Figure size 432x288 with 1 Axes>"
      ]
     },
     "metadata": {
      "needs_background": "light"
     },
     "output_type": "display_data"
    }
   ],
   "source": [
    "sanityChecks.discProbVsError(train_data,disc,device)\n",
    "sanityChecks.discProbVsError(test_data,disc,device)"
   ]
  },
  {
   "cell_type": "markdown",
   "id": "130f3a4d",
   "metadata": {
    "id": "130f3a4d",
    "papermill": {
     "duration": 0.045119,
     "end_time": "2022-06-22T13:38:25.794339",
     "exception": false,
     "start_time": "2022-06-22T13:38:25.749220",
     "status": "completed"
    },
    "tags": []
   },
   "source": [
    "# ABC - GAN Model with skip connection"
   ]
  },
  {
   "cell_type": "code",
   "execution_count": 15,
   "id": "4e43dad1",
   "metadata": {
    "execution": {
     "iopub.execute_input": "2022-06-22T13:38:25.904970Z",
     "iopub.status.busy": "2022-06-22T13:38:25.903979Z",
     "iopub.status.idle": "2022-06-22T13:38:25.909085Z",
     "shell.execute_reply": "2022-06-22T13:38:25.909701Z"
    },
    "id": "4e43dad1",
    "papermill": {
     "duration": 0.067198,
     "end_time": "2022-06-22T13:38:25.909916",
     "exception": false,
     "start_time": "2022-06-22T13:38:25.842718",
     "status": "completed"
    },
    "tags": []
   },
   "outputs": [],
   "source": [
    "#Generator\n",
    "gen3 = network.GeneratorWithSkipConnection(n_features+1).to(device)\n",
    "constraints=network.weightConstraint()\n",
    "#Discriminator \n",
    "disc3 = network.Discriminator(n_features+1).to(device)\n",
    "\n",
    "criterion = torch.nn.BCELoss()\n",
    "gen_opt = torch.optim.Adam(gen3.parameters(), lr=0.001, betas=(0.5, 0.999))\n",
    "disc_opt = torch.optim.Adam(disc3.parameters(), lr=0.001, betas=(0.5, 0.999))\n"
   ]
  },
  {
   "cell_type": "code",
   "execution_count": 16,
   "id": "26acbc37",
   "metadata": {
    "execution": {
     "iopub.execute_input": "2022-06-22T13:38:26.022078Z",
     "iopub.status.busy": "2022-06-22T13:38:26.021280Z",
     "iopub.status.idle": "2022-06-22T13:39:57.377120Z",
     "shell.execute_reply": "2022-06-22T13:39:57.377704Z"
    },
    "id": "26acbc37",
    "papermill": {
     "duration": 91.422776,
     "end_time": "2022-06-22T13:39:57.378135",
     "exception": false,
     "start_time": "2022-06-22T13:38:25.955359",
     "status": "completed"
    },
    "tags": []
   },
   "outputs": [
    {
     "data": {
      "image/png": "[encoded data removed]",
      "text/plain": [
       "<Figure size 432x288 with 1 Axes>"
      ]
     },
     "metadata": {
      "needs_background": "light"
     },
     "output_type": "display_data"
    },
    {
     "data": {
      "image/png": "[encoded data removed]",
      "text/plain": [
       "<Figure size 432x288 with 1 Axes>"
      ]
     },
     "metadata": {
      "needs_background": "light"
     },
     "output_type": "display_data"
    }
   ],
   "source": [
    "ABC_train_test2.training_GAN_skip_connection(disc3,gen3,disc_opt,gen_opt,train_data,batch_size,n_epochs,criterion,prior_model,variance,bias,device)"
   ]
  },
  {
   "cell_type": "code",
   "execution_count": 17,
   "id": "c5e0717b",
   "metadata": {
    "execution": {
     "iopub.execute_input": "2022-06-22T13:39:57.502373Z",
     "iopub.status.busy": "2022-06-22T13:39:57.501135Z",
     "iopub.status.idle": "2022-06-22T13:39:58.493291Z",
     "shell.execute_reply": "2022-06-22T13:39:58.493890Z"
    },
    "id": "c5e0717b",
    "papermill": {
     "duration": 1.05948,
     "end_time": "2022-06-22T13:39:58.494169",
     "exception": false,
     "start_time": "2022-06-22T13:39:57.434689",
     "status": "completed"
    },
    "tags": []
   },
   "outputs": [
    {
     "data": {
      "application/scrapbook.scrap.json+json": {
       "data": 0.4005322511621014,
       "encoder": "json",
       "name": "ABC-GAN Model 3 MSE",
       "version": 1
      }
     },
     "metadata": {
      "scrapbook": {
       "data": true,
       "display": false,
       "name": "ABC-GAN Model 3 MSE"
      }
     },
     "output_type": "display_data"
    },
    {
     "data": {
      "application/scrapbook.scrap.json+json": {
       "data": 0.5554541906490922,
       "encoder": "json",
       "name": "ABC-GAN Model 3 MAE",
       "version": 1
      }
     },
     "metadata": {
      "scrapbook": {
       "data": true,
       "display": false,
       "name": "ABC-GAN Model 3 MAE"
      }
     },
     "output_type": "display_data"
    },
    {
     "data": {
      "application/scrapbook.scrap.json+json": {
       "data": 11.109083812981844,
       "encoder": "json",
       "name": "ABC-GAN Model 3 Manhattan Distance",
       "version": 1
      }
     },
     "metadata": {
      "scrapbook": {
       "data": true,
       "display": false,
       "name": "ABC-GAN Model 3 Manhattan Distance"
      }
     },
     "output_type": "display_data"
    },
    {
     "data": {
      "application/scrapbook.scrap.json+json": {
       "data": 2.8302938869650225,
       "encoder": "json",
       "name": "ABC-GAN Model 3 Euclidean distance",
       "version": 1
      }
     },
     "metadata": {
      "scrapbook": {
       "data": true,
       "display": false,
       "name": "ABC-GAN Model 3 Euclidean distance"
      }
     },
     "output_type": "display_data"
    },
    {
     "data": {
      "application/scrapbook.scrap.json+json": {
       "data": [
        [
         0.3970745072315236,
         0.40381630742447455,
         0.3992843735235271,
         0.39953321857101465,
         0.40017823354665333,
         0.3987191188528213,
         0.39862063330228215,
         0.4035731445258909,
         0.3991986810768635,
         0.40289310414363555,
         0.39799688725684956,
         0.4005493316922191,
         0.39904229880046527,
         0.4017297256870676,
         0.3937970100971785,
         0.39750423854722067,
         0.39881138631602353,
         0.4043945156977136,
         0.3987142605352539,
         0.4002465058606209,
         0.4022607666739487,
         0.40506149158108623,
         0.39920738511042725,
         0.40524747915506143,
         0.3995370366660272,
         0.39800296460761464,
         0.4019871837384857,
         0.400037234807667,
         0.40473898648000545,
         0.39614159747659683,
         0.4008469707691937,
         0.4009700361831984,
         0.40414519181464303,
         0.4054125648308057,
         0.40160787040051565,
         0.4002647260226414,
         0.403014152617357,
         0.40051261749498374,
         0.39952031072446303,
         0.4029993276681353,
         0.39640005248156035,
         0.40211470849772785,
         0.4041316821506463,
         0.4042837911371919,
         0.39804963292997786,
         0.40368199872669636,
         0.396937362183008,
         0.4040830563778627,
         0.4003249818108454,
         0.3989214814412145,
         0.3980728075195495,
         0.39772160336923773,
         0.3997113563125894,
         0.39921425469311017,
         0.4041018038319967,
         0.402868421366542,
         0.40042003709225416,
         0.40085014154209525,
         0.3986036288480229,
         0.39865424426433016,
         0.4036944735539466,
         0.40200066688502023,
         0.4000299260091801,
         0.40210475155689807,
         0.4020095519925279,
         0.4036449833748076,
         0.4010559201083811,
         0.396006310877995,
         0.39891715403481864,
         0.39546965496334396,
         0.40228862544446303,
         0.4013755778350747,
         0.39886763831404476,
         0.39623671525809717,
         0.39917304460030684,
         0.40403317565315805,
         0.3985555818300165,
         0.3966666697528653,
         0.3990498951627667,
         0.3976301969820089,
         0.4011737738125875,
         0.40074542916614575,
         0.4006927332635673,
         0.3992814276928335,
         0.40040953939642476,
         0.401358954772612,
         0.4045446928435664,
         0.39985748331960325,
         0.39921224178168835,
         0.3957082839640174,
         0.4023895453548235,
         0.40137407539481434,
         0.4006492414908321,
         0.398974722209095,
         0.3987870751617147,
         0.4033972400696898,
         0.4057924483354903,
         0.39995303385567327,
         0.40104077567935353,
         0.40273146036727175
        ],
        [
         0.5518630707636476,
         0.5574328327551484,
         0.5540866727009416,
         0.553751772083342,
         0.5567353898659348,
         0.5522919172421098,
         0.552790998853743,
         0.5589153522625565,
         0.5542315060272813,
         0.5551439071074128,
         0.5527970070019365,
         0.5570464724674821,
         0.5545474672690034,
         0.5569501454010606,
         0.5535432005301117,
         0.5528144473209977,
         0.5552927786484361,
         0.557779865898192,
         0.5549647504463792,
         0.555182054080069,
         0.5558883452787995,
         0.5594053680077196,
         0.5556103194132447,
         0.5592876279726624,
         0.5543446654453874,
         0.5553096378222108,
         0.5567763173952699,
         0.5560067826882005,
         0.5576549554243684,
         0.5531435603275895,
         0.5546033972874284,
         0.5558433467522264,
         0.5583288634195924,
         0.5599220359697938,
         0.5564059341326356,
         0.5569818431511522,
         0.5575797641649842,
         0.5534290099516511,
         0.5537373865023255,
         0.5562884235754609,
         0.5511511081829668,
         0.5557331616058946,
         0.5571780199185014,
         0.5565284306183458,
         0.5531571233645082,
         0.5560504073277116,
         0.5538093620911241,
         0.5586576217785477,
         0.5556850427761674,
         0.5528154576197266,
         0.5524605179205537,
         0.5533631468191743,
         0.5550805265083909,
         0.5547777527943254,
         0.5602732861414552,
         0.556959399022162,
         0.555750029720366,
         0.5571975046768785,
         0.553426312841475,
         0.5560873711481691,
         0.5578428352251649,
         0.5575659925118088,
         0.5534404778853059,
         0.5562824690714478,
         0.5570726746693253,
         0.559092971123755,
         0.5547220790758729,
         0.5525367135182023,
         0.5538610005751252,
         0.5519908184185625,
         0.5559137100353837,
         0.5565457219257951,
         0.5545575732365251,
         0.5522406483069062,
         0.5534943426027894,
         0.556846117414534,
         0.5534821802750229,
         0.5518620366230607,
         0.5541643047705292,
         0.5551664287224412,
         0.5547000670805573,
         0.5551831150427461,
         0.5551554763689637,
         0.5536561602726578,
         0.5534326279535889,
         0.5556079113855958,
         0.5581423634663224,
         0.5547867083922029,
         0.5550260568037629,
         0.5509895319119096,
         0.5573320979252457,
         0.5562374198809266,
         0.5563505196943879,
         0.5546586180105806,
         0.5546214455738664,
         0.5588022137060762,
         0.5587999934330583,
         0.5567875856533646,
         0.5566560620442033,
         0.5589612180367112
        ],
        [
         11.037261415272951,
         11.148656655102968,
         11.081733454018831,
         11.075035441666842,
         11.134707797318697,
         11.045838344842196,
         11.055819977074862,
         11.178307045251131,
         11.084630120545626,
         11.102878142148256,
         11.055940140038729,
         11.140929449349642,
         11.090949345380068,
         11.139002908021212,
         11.070864010602236,
         11.056288946419954,
         11.105855572968721,
         11.155597317963839,
         11.099295008927584,
         11.103641081601381,
         11.11776690557599,
         11.18810736015439,
         11.112206388264894,
         11.185752559453249,
         11.086893308907747,
         11.106192756444216,
         11.135526347905397,
         11.12013565376401,
         11.153099108487368,
         11.06287120655179,
         11.092067945748568,
         11.116866935044527,
         11.166577268391848,
         11.198440719395876,
         11.128118682652712,
         11.139636863023043,
         11.151595283299685,
         11.068580199033022,
         11.07474773004651,
         11.125768471509218,
         11.023022163659334,
         11.114663232117891,
         11.143560398370028,
         11.130568612366915,
         11.063142467290163,
         11.121008146554232,
         11.076187241822481,
         11.173152435570955,
         11.113700855523348,
         11.056309152394533,
         11.049210358411074,
         11.067262936383486,
         11.101610530167818,
         11.095555055886507,
         11.205465722829103,
         11.13918798044324,
         11.11500059440732,
         11.143950093537569,
         11.0685262568295,
         11.12174742296338,
         11.156856704503298,
         11.151319850236177,
         11.068809557706118,
         11.125649381428957,
         11.141453493386507,
         11.1818594224751,
         11.094441581517458,
         11.050734270364046,
         11.077220011502504,
         11.039816368371248,
         11.118274200707674,
         11.130914438515902,
         11.091151464730501,
         11.044812966138124,
         11.069886852055788,
         11.136922348290682,
         11.06964360550046,
         11.037240732461214,
         11.083286095410585,
         11.103328574448824,
         11.094001341611147,
         11.103662300854921,
         11.103109527379274,
         11.073123205453157,
         11.06865255907178,
         11.112158227711916,
         11.162847269326448,
         11.095734167844057,
         11.100521136075258,
         11.019790638238192,
         11.146641958504915,
         11.124748397618532,
         11.127010393887758,
         11.09317236021161,
         11.092428911477327,
         11.176044274121523,
         11.175999868661165,
         11.135751713067293,
         11.133121240884066,
         11.179224360734224
        ],
        [
         2.8180649645865996,
         2.8418877790105452,
         2.8258958704224297,
         2.826776321434063,
         2.8290572053129406,
         2.82389489483168,
         2.8235461154451937,
         2.8410320115264134,
         2.82559261422047,
         2.8386373637491475,
         2.8213361630860283,
         2.830368639213694,
         2.8250391105273756,
         2.834536031476995,
         2.806410554773405,
         2.819589468512112,
         2.8242216142364733,
         2.8439216434273065,
         2.8238776904648466,
         2.829298520342528,
         2.8364088798124603,
         2.846265945343429,
         2.825623418328873,
         2.846919314469806,
         2.8267898282894226,
         2.821357703686701,
         2.835444175921951,
         2.828558766607712,
         2.8451326383140927,
         2.8147525556488864,
         2.83142003513853,
         2.831854643809242,
         2.843044817848087,
         2.8474991302221873,
         2.83410610387302,
         2.829362917770152,
         2.839063763346491,
         2.830238920992303,
         2.8267306582851615,
         2.839011545126702,
         2.8156706216514755,
         2.8358938925768284,
         2.8429972991568118,
         2.84353227918092,
         2.8215231097050326,
         2.8414151359021664,
         2.8175782586576297,
         2.8428262570120695,
         2.8295758756776443,
         2.8246114120041876,
         2.82160524354329,
         2.820360272622055,
         2.827406431033888,
         2.8256477299660343,
         2.8428922027822185,
         2.8385504095102556,
         2.8299117904707,
         2.8314312336417258,
         2.823485891050362,
         2.8236651510557342,
         2.8414590391344605,
         2.835491727672716,
         2.8285329271874495,
         2.8358587819455963,
         2.8355230628317165,
         2.841284862081969,
         2.8321579055850012,
         2.8142718805332048,
         2.824596091602545,
         2.8123643254860986,
         2.8365070965695223,
         2.8332863527538996,
         2.8244207842106133,
         2.81509046127508,
         2.8255018832069703,
         2.8426507898549835,
         2.823315716777054,
         2.8166173675274577,
         2.8250659998051963,
         2.8200361592788448,
         2.832574001902113,
         2.8310613881233513,
         2.830875247210895,
         2.825885445989747,
         2.829874694739768,
         2.833227681541362,
         2.844449657995608,
         2.8279232073010867,
         2.82564060624025,
         2.8132126971276716,
         2.8368628636394235,
         2.833281049930678,
         2.830721609381014,
         2.824799894538001,
         2.8241355320229045,
         2.840412787147987,
         2.848832913090869,
         2.828261069475989,
         2.8321044319705218,
         2.838067865176137
        ]
       ],
       "encoder": "json",
       "name": "ABC_GAN_3 Metrics",
       "version": 1
      }
     },
     "metadata": {
      "scrapbook": {
       "data": true,
       "display": false,
       "name": "ABC_GAN_3 Metrics"
      }
     },
     "output_type": "display_data"
    },
    {
     "name": "stdout",
     "output_type": "stream",
     "text": [
      "MSE\n",
      "0.4005322511621014\n"
     ]
    }
   ],
   "source": [
    "ABC_GAN3_metrics=ABC_train_test2.test_generator(gen3,test_data,prior_model,variance,bias,\"3\",device)\n",
    "sb.glue(\"ABC_GAN_3 Metrics\",ABC_GAN3_metrics)\n",
    "\n",
    "print(\"MSE\")\n",
    "print(mean(ABC_GAN3_metrics[0]))"
   ]
  },
  {
   "cell_type": "code",
   "execution_count": 18,
   "id": "c8e46b48",
   "metadata": {
    "execution": {
     "iopub.execute_input": "2022-06-22T13:39:58.644368Z",
     "iopub.status.busy": "2022-06-22T13:39:58.643575Z",
     "iopub.status.idle": "2022-06-22T13:39:59.518015Z",
     "shell.execute_reply": "2022-06-22T13:39:59.517462Z"
    },
    "id": "c8e46b48",
    "papermill": {
     "duration": 0.950855,
     "end_time": "2022-06-22T13:39:59.518223",
     "exception": false,
     "start_time": "2022-06-22T13:39:58.567368",
     "status": "completed"
    },
    "tags": []
   },
   "outputs": [
    {
     "data": {
      "image/png": "[encoded data removed]",
      "text/plain": [
       "<Figure size 432x288 with 1 Axes>"
      ]
     },
     "metadata": {
      "needs_background": "light"
     },
     "output_type": "display_data"
    },
    {
     "data": {
      "image/png": "[encoded data removed]",
      "text/plain": [
       "<Figure size 432x288 with 1 Axes>"
      ]
     },
     "metadata": {
      "needs_background": "light"
     },
     "output_type": "display_data"
    },
    {
     "data": {
      "image/png": "[encoded data removed]",
      "text/plain": [
       "<Figure size 432x288 with 1 Axes>"
      ]
     },
     "metadata": {
      "needs_background": "light"
     },
     "output_type": "display_data"
    },
    {
     "data": {
      "image/png": "[encoded data removed]",
      "text/plain": [
       "<Figure size 432x288 with 1 Axes>"
      ]
     },
     "metadata": {
      "needs_background": "light"
     },
     "output_type": "display_data"
    }
   ],
   "source": [
    "sanityChecks.discProbVsError(train_data,disc3,device)\n",
    "sanityChecks.discProbVsError(test_data,disc3,device)"
   ]
  },
  {
   "cell_type": "markdown",
   "id": "a5bd74c3",
   "metadata": {
    "id": "a5bd74c3",
    "papermill": {
     "duration": 0.066198,
     "end_time": "2022-06-22T13:39:59.640668",
     "exception": false,
     "start_time": "2022-06-22T13:39:59.574470",
     "status": "completed"
    },
    "tags": []
   },
   "source": [
    "## Skip Connection Model Analysis - ABC-GAN "
   ]
  },
  {
   "cell_type": "markdown",
   "id": "5744a8bf",
   "metadata": {
    "id": "5744a8bf",
    "papermill": {
     "duration": 0.082662,
     "end_time": "2022-06-22T13:39:59.805829",
     "exception": false,
     "start_time": "2022-06-22T13:39:59.723167",
     "status": "completed"
    },
    "tags": []
   },
   "source": [
    "### Weight Analysis \n",
    "\n",
    "Study the weights of the skip connection layer\n",
    "\n",
    "Equation of the skip connection is \n",
    "\n",
    "$output = y_{gan} * w + y_{abc} * (1-w)$"
   ]
  },
  {
   "cell_type": "code",
   "execution_count": 19,
   "id": "52c31dea",
   "metadata": {
    "execution": {
     "iopub.execute_input": "2022-06-22T13:39:59.943126Z",
     "iopub.status.busy": "2022-06-22T13:39:59.942372Z",
     "iopub.status.idle": "2022-06-22T13:39:59.957257Z",
     "shell.execute_reply": "2022-06-22T13:39:59.956646Z"
    },
    "id": "52c31dea",
    "papermill": {
     "duration": 0.090744,
     "end_time": "2022-06-22T13:39:59.957638",
     "exception": false,
     "start_time": "2022-06-22T13:39:59.866894",
     "status": "completed"
    },
    "tags": []
   },
   "outputs": [
    {
     "name": "stdout",
     "output_type": "stream",
     "text": [
      "Weight of the node at skip connection\n",
      "Parameter containing:\n",
      "tensor([[0.1912]], requires_grad=True)\n"
     ]
    },
    {
     "data": {
      "application/scrapbook.scrap.json+json": {
       "data": 0.19116546213626862,
       "encoder": "json",
       "name": "Skip Connection Weight",
       "version": 1
      }
     },
     "metadata": {
      "scrapbook": {
       "data": true,
       "display": false,
       "name": "Skip Connection Weight"
      }
     },
     "output_type": "display_data"
    }
   ],
   "source": [
    "print(\"Weight of the node at skip connection\")\n",
    "for name,param in gen3.named_parameters():\n",
    "    if(name == \"skipNode.weight\"):\n",
    "        print(param)\n",
    "        sb.glue(\"Skip Connection Weight\",param.item())"
   ]
  }
 ],
 "metadata": {
  "colab": {
   "collapsed_sections": [],
   "name": "ABC_GAN_Model-Catboost_Pre-gen.ipynb",
   "provenance": []
  },
  "interpreter": {
   "hash": "31f2aee4e71d21fbe5cf8b01ff0e069b9275f58929596ceb00d14d90e3e16cd6"
  },
  "kernelspec": {
   "display_name": "Python 3 (ipykernel)",
   "language": "python",
   "name": "python3"
  },
  "language_info": {
   "codemirror_mode": {
    "name": "ipython",
    "version": 3
   },
   "file_extension": ".py",
   "mimetype": "text/x-python",
   "name": "python",
   "nbconvert_exporter": "python",
   "pygments_lexer": "ipython3",
   "version": "3.8.3"
  },
  "papermill": {
   "default_parameters": {},
   "duration": 180.73294,
   "end_time": "2022-06-22T13:40:01.605536",
   "environment_variables": {},
   "exception": null,
   "input_path": "ABC_GAN-TabNet.ipynb",
   "output_path": "./ABC_GAN_TabNet/ABC-GAN_output_5_2.ipynb",
   "parameters": {
    "bias": 1,
    "variance": 0.01
   },
   "start_time": "2022-06-22T13:37:00.872596",
   "version": "2.3.3"
  }
 },
 "nbformat": 4,
 "nbformat_minor": 5
}