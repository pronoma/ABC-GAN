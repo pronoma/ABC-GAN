{
 "cells": [
  {
   "cell_type": "markdown",
   "id": "622780e6",
   "metadata": {
    "id": "622780e6",
    "papermill": {
     "duration": 0.028603,
     "end_time": "2022-06-22T11:25:07.808413",
     "exception": false,
     "start_time": "2022-06-22T11:25:07.779810",
     "status": "completed"
    },
    "tags": []
   },
   "source": [
    "## Import Libraries "
   ]
  },
  {
   "cell_type": "code",
   "execution_count": 1,
   "id": "a62397e3",
   "metadata": {
    "execution": {
     "iopub.execute_input": "2022-06-22T11:25:07.936236Z",
     "iopub.status.busy": "2022-06-22T11:25:07.932886Z",
     "iopub.status.idle": "2022-06-22T11:25:07.942290Z",
     "shell.execute_reply": "2022-06-22T11:25:07.946696Z"
    },
    "id": "a62397e3",
    "papermill": {
     "duration": 0.109616,
     "end_time": "2022-06-22T11:25:07.947157",
     "exception": false,
     "start_time": "2022-06-22T11:25:07.837541",
     "status": "completed"
    },
    "tags": []
   },
   "outputs": [],
   "source": [
    "import warnings\n",
    "import sys\n",
    "sys.path.insert(0, '../../src')\n",
    "warnings.filterwarnings('ignore')"
   ]
  },
  {
   "cell_type": "code",
   "execution_count": 2,
   "id": "d6a4e155",
   "metadata": {
    "execution": {
     "iopub.execute_input": "2022-06-22T11:25:08.014421Z",
     "iopub.status.busy": "2022-06-22T11:25:08.013086Z",
     "iopub.status.idle": "2022-06-22T11:25:17.272745Z",
     "shell.execute_reply": "2022-06-22T11:25:17.273328Z"
    },
    "id": "d6a4e155",
    "papermill": {
     "duration": 9.304561,
     "end_time": "2022-06-22T11:25:17.273588",
     "exception": false,
     "start_time": "2022-06-22T11:25:07.969027",
     "status": "completed"
    },
    "tags": []
   },
   "outputs": [],
   "source": [
    "import ABC_train_test2\n",
    "import friedman3Dataset\n",
    "import network\n",
    "import dataset\n",
    "import sanityChecks\n",
    "import torch \n",
    "import scrapbook as sb\n",
    "from statistics import mean \n",
    "import catboost as ctb \n",
    "from sklearn.model_selection import train_test_split\n",
    "from sklearn.metrics import mean_squared_error,mean_absolute_error\n",
    "import numpy as np\n",
    "from pytorch_tabnet.tab_model import TabNetRegressor"
   ]
  },
  {
   "cell_type": "markdown",
   "id": "2fa5b0f7",
   "metadata": {
    "id": "2fa5b0f7",
    "papermill": {
     "duration": 0.022409,
     "end_time": "2022-06-22T11:25:17.314956",
     "exception": false,
     "start_time": "2022-06-22T11:25:17.292547",
     "status": "completed"
    },
    "tags": []
   },
   "source": [
    "## Parameters "
   ]
  },
  {
   "cell_type": "code",
   "execution_count": 3,
   "id": "783186fb",
   "metadata": {
    "execution": {
     "iopub.execute_input": "2022-06-22T11:25:17.361328Z",
     "iopub.status.busy": "2022-06-22T11:25:17.360428Z",
     "iopub.status.idle": "2022-06-22T11:25:17.362598Z",
     "shell.execute_reply": "2022-06-22T11:25:17.363263Z"
    },
    "id": "783186fb",
    "papermill": {
     "duration": 0.028028,
     "end_time": "2022-06-22T11:25:17.363561",
     "exception": false,
     "start_time": "2022-06-22T11:25:17.335533",
     "status": "completed"
    },
    "tags": [
     "parameters"
    ]
   },
   "outputs": [],
   "source": [
    "variance = 1\n",
    "bias = 1 "
   ]
  },
  {
   "cell_type": "code",
   "execution_count": 4,
   "id": "36060562",
   "metadata": {
    "execution": {
     "iopub.execute_input": "2022-06-22T11:25:17.406658Z",
     "iopub.status.busy": "2022-06-22T11:25:17.404012Z",
     "iopub.status.idle": "2022-06-22T11:25:17.407774Z",
     "shell.execute_reply": "2022-06-22T11:25:17.408404Z"
    },
    "papermill": {
     "duration": 0.02745,
     "end_time": "2022-06-22T11:25:17.408671",
     "exception": false,
     "start_time": "2022-06-22T11:25:17.381221",
     "status": "completed"
    },
    "tags": [
     "injected-parameters"
    ]
   },
   "outputs": [],
   "source": [
    "# Parameters\n",
    "variance = 0.1\n",
    "bias = 1\n"
   ]
  },
  {
   "cell_type": "markdown",
   "id": "391cdbfd",
   "metadata": {
    "id": "391cdbfd",
    "papermill": {
     "duration": 0.020907,
     "end_time": "2022-06-22T11:25:17.447245",
     "exception": false,
     "start_time": "2022-06-22T11:25:17.426338",
     "status": "completed"
    },
    "tags": []
   },
   "source": [
    "## Dataset \n"
   ]
  },
  {
   "cell_type": "code",
   "execution_count": 5,
   "id": "5b51f161",
   "metadata": {
    "execution": {
     "iopub.execute_input": "2022-06-22T11:25:17.491399Z",
     "iopub.status.busy": "2022-06-22T11:25:17.489386Z",
     "iopub.status.idle": "2022-06-22T11:25:17.494719Z",
     "shell.execute_reply": "2022-06-22T11:25:17.495720Z"
    },
    "id": "5b51f161",
    "papermill": {
     "duration": 0.029888,
     "end_time": "2022-06-22T11:25:17.496033",
     "exception": false,
     "start_time": "2022-06-22T11:25:17.466145",
     "status": "completed"
    },
    "tags": []
   },
   "outputs": [],
   "source": [
    "#Parameters \n",
    "n_features = 4\n",
    "n_samples= 100\n",
    "n_target = 1"
   ]
  },
  {
   "cell_type": "code",
   "execution_count": 6,
   "id": "5d6eced4",
   "metadata": {
    "execution": {
     "iopub.execute_input": "2022-06-22T11:25:17.558764Z",
     "iopub.status.busy": "2022-06-22T11:25:17.557869Z",
     "iopub.status.idle": "2022-06-22T11:25:17.575435Z",
     "shell.execute_reply": "2022-06-22T11:25:17.576276Z"
    },
    "id": "5d6eced4",
    "papermill": {
     "duration": 0.058039,
     "end_time": "2022-06-22T11:25:17.576524",
     "exception": false,
     "start_time": "2022-06-22T11:25:17.518485",
     "status": "completed"
    },
    "tags": []
   },
   "outputs": [
    {
     "name": "stdout",
     "output_type": "stream",
     "text": [
      "          X1           X2        X3        X4         Y\n",
      "0  85.800936   311.421959  0.344528  1.974007  0.802170\n",
      "1  59.872156   189.239076  0.868804  3.316884  1.226051\n",
      "2  34.771897   147.389021  0.566436  2.395113  1.133176\n",
      "3   8.664874  1057.361995  0.206942  1.041772  1.648250\n",
      "4  85.578545   852.947817  0.020132  7.278998 -0.058870\n"
     ]
    }
   ],
   "source": [
    "X,Y = friedman3Dataset.friedman3_data(n_samples)"
   ]
  },
  {
   "cell_type": "code",
   "execution_count": 7,
   "id": "fe007438",
   "metadata": {
    "execution": {
     "iopub.execute_input": "2022-06-22T11:25:17.647477Z",
     "iopub.status.busy": "2022-06-22T11:25:17.640753Z",
     "iopub.status.idle": "2022-06-22T11:25:17.653701Z",
     "shell.execute_reply": "2022-06-22T11:25:17.654673Z"
    },
    "id": "fe007438",
    "papermill": {
     "duration": 0.053779,
     "end_time": "2022-06-22T11:25:17.655184",
     "exception": false,
     "start_time": "2022-06-22T11:25:17.601405",
     "status": "completed"
    },
    "tags": []
   },
   "outputs": [],
   "source": [
    "#Train test split for dataset \n",
    "X_train,X_test,Y_train,Y_test = train_test_split(X,Y,test_size = 0.2)\n",
    "train_data = dataset.CustomDataset(X_train,Y_train)\n",
    "test_data = dataset.CustomDataset(X_test,Y_test)\n"
   ]
  },
  {
   "cell_type": "markdown",
   "id": "a9a1af34",
   "metadata": {
    "id": "a9a1af34",
    "papermill": {
     "duration": 0.034472,
     "end_time": "2022-06-22T11:25:17.709046",
     "exception": false,
     "start_time": "2022-06-22T11:25:17.674574",
     "status": "completed"
    },
    "tags": []
   },
   "source": [
    "## Training Parameters "
   ]
  },
  {
   "cell_type": "code",
   "execution_count": 8,
   "id": "952b7fc8",
   "metadata": {
    "execution": {
     "iopub.execute_input": "2022-06-22T11:25:17.788959Z",
     "iopub.status.busy": "2022-06-22T11:25:17.787110Z",
     "iopub.status.idle": "2022-06-22T11:25:17.790832Z",
     "shell.execute_reply": "2022-06-22T11:25:17.790087Z"
    },
    "id": "952b7fc8",
    "papermill": {
     "duration": 0.054439,
     "end_time": "2022-06-22T11:25:17.791307",
     "exception": false,
     "start_time": "2022-06-22T11:25:17.736868",
     "status": "completed"
    },
    "tags": []
   },
   "outputs": [],
   "source": [
    "batch_size = 32\n",
    "n_epochs = 1000\n",
    "#Select the device \n",
    "device = torch.device('cuda' if torch.cuda.is_available() else 'cpu')"
   ]
  },
  {
   "cell_type": "markdown",
   "id": "a95e1600",
   "metadata": {
    "id": "a95e1600",
    "papermill": {
     "duration": 0.018975,
     "end_time": "2022-06-22T11:25:17.835684",
     "exception": false,
     "start_time": "2022-06-22T11:25:17.816709",
     "status": "completed"
    },
    "tags": []
   },
   "source": [
    "# ABC Pre-generator Model \n",
    "\n",
    "1. The catboost model is used as a pre-generator model for the ABC-GAN. \n",
    "2. The model is first trained on the entire dataset \n",
    "3. It generats X,Y pairs and we add some Gaussian noise with mean 0 and variance 1 to it which is then feed as input to the generator.\n"
   ]
  },
  {
   "cell_type": "code",
   "execution_count": 9,
   "id": "ff8ce7bd",
   "metadata": {
    "execution": {
     "iopub.execute_input": "2022-06-22T11:25:17.919846Z",
     "iopub.status.busy": "2022-06-22T11:25:17.918792Z",
     "iopub.status.idle": "2022-06-22T11:25:36.568345Z",
     "shell.execute_reply": "2022-06-22T11:25:36.569734Z"
    },
    "id": "ff8ce7bd",
    "papermill": {
     "duration": 18.704763,
     "end_time": "2022-06-22T11:25:36.570194",
     "exception": false,
     "start_time": "2022-06-22T11:25:17.865431",
     "status": "completed"
    },
    "tags": []
   },
   "outputs": [
    {
     "name": "stdout",
     "output_type": "stream",
     "text": [
      "Device used : cpu\n"
     ]
    },
    {
     "name": "stdout",
     "output_type": "stream",
     "text": [
      "epoch 0  | loss: 1.23477 | train_mse: 6.21167 | train_mae: 1.80781 |  0:00:00s\n",
      "epoch 1  | loss: 0.83032 | train_mse: 3.18644 | train_mae: 1.30417 |  0:00:00s\n"
     ]
    },
    {
     "name": "stdout",
     "output_type": "stream",
     "text": [
      "epoch 2  | loss: 0.68722 | train_mse: 2.27581 | train_mae: 1.10543 |  0:00:00s\n",
      "epoch 3  | loss: 0.73319 | train_mse: 1.17495 | train_mae: 0.8002  |  0:00:00s\n"
     ]
    },
    {
     "name": "stdout",
     "output_type": "stream",
     "text": [
      "epoch 4  | loss: 0.33757 | train_mse: 1.76116 | train_mae: 0.90848 |  0:00:00s\n",
      "epoch 5  | loss: 0.36637 | train_mse: 1.92122 | train_mae: 0.90208 |  0:00:01s\n"
     ]
    },
    {
     "name": "stdout",
     "output_type": "stream",
     "text": [
      "epoch 6  | loss: 0.26571 | train_mse: 1.56161 | train_mae: 0.76692 |  0:00:01s\n",
      "epoch 7  | loss: 0.3744  | train_mse: 1.26634 | train_mae: 0.73662 |  0:00:01s\n"
     ]
    },
    {
     "name": "stdout",
     "output_type": "stream",
     "text": [
      "epoch 8  | loss: 0.35621 | train_mse: 1.352   | train_mae: 0.75112 |  0:00:01s\n",
      "epoch 9  | loss: 0.20587 | train_mse: 1.264   | train_mae: 0.67332 |  0:00:01s\n"
     ]
    },
    {
     "name": "stdout",
     "output_type": "stream",
     "text": [
      "epoch 10 | loss: 0.36073 | train_mse: 0.84929 | train_mae: 0.57965 |  0:00:01s\n",
      "epoch 11 | loss: 0.36159 | train_mse: 0.7549  | train_mae: 0.52901 |  0:00:01s\n"
     ]
    },
    {
     "name": "stdout",
     "output_type": "stream",
     "text": [
      "epoch 12 | loss: 0.28409 | train_mse: 0.52257 | train_mae: 0.46426 |  0:00:01s\n",
      "epoch 13 | loss: 0.17024 | train_mse: 0.45235 | train_mae: 0.45055 |  0:00:02s\n"
     ]
    },
    {
     "name": "stdout",
     "output_type": "stream",
     "text": [
      "epoch 14 | loss: 0.25589 | train_mse: 0.55205 | train_mae: 0.49573 |  0:00:02s\n",
      "epoch 15 | loss: 0.23886 | train_mse: 0.36905 | train_mae: 0.41606 |  0:00:02s\n",
      "epoch 16 | loss: 0.24247 | train_mse: 0.25543 | train_mae: 0.34955 |  0:00:02s\n"
     ]
    },
    {
     "name": "stdout",
     "output_type": "stream",
     "text": [
      "epoch 17 | loss: 0.18267 | train_mse: 0.24238 | train_mae: 0.34192 |  0:00:02s\n",
      "epoch 18 | loss: 0.2473  | train_mse: 0.19485 | train_mae: 0.31998 |  0:00:02s\n"
     ]
    },
    {
     "name": "stdout",
     "output_type": "stream",
     "text": [
      "epoch 19 | loss: 0.20825 | train_mse: 0.17804 | train_mae: 0.30616 |  0:00:02s\n",
      "epoch 20 | loss: 0.20148 | train_mse: 0.31365 | train_mae: 0.36632 |  0:00:02s\n"
     ]
    },
    {
     "name": "stdout",
     "output_type": "stream",
     "text": [
      "epoch 21 | loss: 0.47186 | train_mse: 0.38103 | train_mae: 0.40128 |  0:00:02s\n",
      "epoch 22 | loss: 0.12814 | train_mse: 0.1758  | train_mae: 0.30199 |  0:00:03s\n"
     ]
    },
    {
     "name": "stdout",
     "output_type": "stream",
     "text": [
      "epoch 23 | loss: 0.19458 | train_mse: 0.17446 | train_mae: 0.30131 |  0:00:03s\n",
      "epoch 24 | loss: 0.22002 | train_mse: 0.29265 | train_mae: 0.4034  |  0:00:03s\n"
     ]
    },
    {
     "name": "stdout",
     "output_type": "stream",
     "text": [
      "epoch 25 | loss: 0.18651 | train_mse: 0.38876 | train_mae: 0.45054 |  0:00:03s\n",
      "epoch 26 | loss: 0.23133 | train_mse: 0.36351 | train_mae: 0.43271 |  0:00:03s\n",
      "epoch 27 | loss: 0.29905 | train_mse: 0.31252 | train_mae: 0.39918 |  0:00:03s\n"
     ]
    },
    {
     "name": "stdout",
     "output_type": "stream",
     "text": [
      "epoch 28 | loss: 0.15619 | train_mse: 0.14905 | train_mae: 0.29642 |  0:00:03s\n",
      "epoch 29 | loss: 0.17688 | train_mse: 0.10704 | train_mae: 0.24308 |  0:00:03s\n"
     ]
    },
    {
     "name": "stdout",
     "output_type": "stream",
     "text": [
      "epoch 30 | loss: 0.21678 | train_mse: 0.11294 | train_mae: 0.25761 |  0:00:04s\n",
      "epoch 31 | loss: 0.10995 | train_mse: 0.11605 | train_mae: 0.27891 |  0:00:04s\n"
     ]
    },
    {
     "name": "stdout",
     "output_type": "stream",
     "text": [
      "epoch 32 | loss: 0.22643 | train_mse: 0.10948 | train_mae: 0.26779 |  0:00:04s\n",
      "epoch 33 | loss: 0.10707 | train_mse: 0.18148 | train_mae: 0.33659 |  0:00:04s\n",
      "epoch 34 | loss: 0.25097 | train_mse: 0.19098 | train_mae: 0.31952 |  0:00:04s\n"
     ]
    },
    {
     "name": "stdout",
     "output_type": "stream",
     "text": [
      "epoch 35 | loss: 0.10456 | train_mse: 0.1606  | train_mae: 0.29254 |  0:00:04s\n"
     ]
    },
    {
     "name": "stdout",
     "output_type": "stream",
     "text": [
      "epoch 36 | loss: 0.13566 | train_mse: 0.20253 | train_mae: 0.30938 |  0:00:04s\n",
      "epoch 37 | loss: 0.17333 | train_mse: 0.13921 | train_mae: 0.27485 |  0:00:04s\n"
     ]
    },
    {
     "name": "stdout",
     "output_type": "stream",
     "text": [
      "epoch 38 | loss: 0.15258 | train_mse: 0.19408 | train_mae: 0.31808 |  0:00:05s\n",
      "epoch 39 | loss: 0.12122 | train_mse: 0.16615 | train_mae: 0.30159 |  0:00:05s\n"
     ]
    },
    {
     "name": "stdout",
     "output_type": "stream",
     "text": [
      "epoch 40 | loss: 0.16772 | train_mse: 0.127   | train_mae: 0.27434 |  0:00:05s\n",
      "epoch 41 | loss: 0.13867 | train_mse: 0.10834 | train_mae: 0.25003 |  0:00:05s\n"
     ]
    },
    {
     "name": "stdout",
     "output_type": "stream",
     "text": [
      "epoch 42 | loss: 0.14417 | train_mse: 0.09567 | train_mae: 0.23773 |  0:00:05s\n",
      "epoch 43 | loss: 0.20131 | train_mse: 0.08923 | train_mae: 0.23288 |  0:00:05s\n"
     ]
    },
    {
     "name": "stdout",
     "output_type": "stream",
     "text": [
      "epoch 44 | loss: 0.14806 | train_mse: 0.0868  | train_mae: 0.22998 |  0:00:05s\n",
      "epoch 45 | loss: 0.15667 | train_mse: 0.07147 | train_mae: 0.20777 |  0:00:05s\n"
     ]
    },
    {
     "name": "stdout",
     "output_type": "stream",
     "text": [
      "epoch 46 | loss: 0.07921 | train_mse: 0.07815 | train_mae: 0.22085 |  0:00:06s\n",
      "epoch 47 | loss: 0.16391 | train_mse: 0.07995 | train_mae: 0.22292 |  0:00:06s\n",
      "epoch 48 | loss: 0.12232 | train_mse: 0.09219 | train_mae: 0.2356  |  0:00:06s\n"
     ]
    },
    {
     "name": "stdout",
     "output_type": "stream",
     "text": [
      "epoch 49 | loss: 0.1053  | train_mse: 0.0876  | train_mae: 0.23659 |  0:00:06s\n",
      "epoch 50 | loss: 0.15257 | train_mse: 0.07291 | train_mae: 0.21906 |  0:00:06s\n",
      "epoch 51 | loss: 0.13546 | train_mse: 0.07492 | train_mae: 0.21488 |  0:00:06s\n"
     ]
    },
    {
     "name": "stdout",
     "output_type": "stream",
     "text": [
      "epoch 52 | loss: 0.21141 | train_mse: 0.08962 | train_mae: 0.22733 |  0:00:06s\n",
      "epoch 53 | loss: 0.07226 | train_mse: 0.12621 | train_mae: 0.26408 |  0:00:06s\n"
     ]
    },
    {
     "name": "stdout",
     "output_type": "stream",
     "text": [
      "epoch 54 | loss: 0.19097 | train_mse: 0.12498 | train_mae: 0.25753 |  0:00:06s\n",
      "epoch 55 | loss: 0.11621 | train_mse: 0.1455  | train_mae: 0.27229 |  0:00:06s\n",
      "epoch 56 | loss: 0.15848 | train_mse: 0.10921 | train_mae: 0.23482 |  0:00:07s\n"
     ]
    },
    {
     "name": "stdout",
     "output_type": "stream",
     "text": [
      "epoch 57 | loss: 0.10538 | train_mse: 0.07472 | train_mae: 0.19651 |  0:00:07s\n",
      "epoch 58 | loss: 0.08029 | train_mse: 0.06682 | train_mae: 0.19708 |  0:00:07s\n",
      "epoch 59 | loss: 0.08583 | train_mse: 0.06769 | train_mae: 0.19708 |  0:00:07s\n"
     ]
    },
    {
     "name": "stdout",
     "output_type": "stream",
     "text": [
      "epoch 60 | loss: 0.149   | train_mse: 0.07042 | train_mae: 0.19934 |  0:00:07s\n",
      "epoch 61 | loss: 0.10183 | train_mse: 0.08492 | train_mae: 0.2153  |  0:00:07s\n"
     ]
    },
    {
     "name": "stdout",
     "output_type": "stream",
     "text": [
      "epoch 62 | loss: 0.07322 | train_mse: 0.08699 | train_mae: 0.21508 |  0:00:07s\n",
      "epoch 63 | loss: 0.17616 | train_mse: 0.07229 | train_mae: 0.19653 |  0:00:07s\n",
      "epoch 64 | loss: 0.06041 | train_mse: 0.07693 | train_mae: 0.19964 |  0:00:07s\n"
     ]
    },
    {
     "name": "stdout",
     "output_type": "stream",
     "text": [
      "epoch 65 | loss: 0.17934 | train_mse: 0.07304 | train_mae: 0.19086 |  0:00:07s\n",
      "epoch 66 | loss: 0.10073 | train_mse: 0.08443 | train_mae: 0.2031  |  0:00:08s\n",
      "epoch 67 | loss: 0.1417  | train_mse: 0.09455 | train_mae: 0.21635 |  0:00:08s\n"
     ]
    },
    {
     "name": "stdout",
     "output_type": "stream",
     "text": [
      "epoch 68 | loss: 0.17188 | train_mse: 0.07548 | train_mae: 0.20117 |  0:00:08s\n",
      "epoch 69 | loss: 0.06572 | train_mse: 0.05498 | train_mae: 0.18025 |  0:00:08s\n",
      "epoch 70 | loss: 0.05336 | train_mse: 0.05306 | train_mae: 0.1835  |  0:00:08s\n"
     ]
    },
    {
     "name": "stdout",
     "output_type": "stream",
     "text": [
      "epoch 71 | loss: 0.13578 | train_mse: 0.05783 | train_mae: 0.18844 |  0:00:08s\n",
      "epoch 72 | loss: 0.05821 | train_mse: 0.05497 | train_mae: 0.18423 |  0:00:08s\n"
     ]
    },
    {
     "name": "stdout",
     "output_type": "stream",
     "text": [
      "epoch 73 | loss: 0.16412 | train_mse: 0.05363 | train_mae: 0.18223 |  0:00:08s\n",
      "epoch 74 | loss: 0.23825 | train_mse: 0.05969 | train_mae: 0.1924  |  0:00:08s\n",
      "epoch 75 | loss: 0.09528 | train_mse: 0.07112 | train_mae: 0.20505 |  0:00:08s\n"
     ]
    },
    {
     "name": "stdout",
     "output_type": "stream",
     "text": [
      "epoch 76 | loss: 0.0748  | train_mse: 0.06822 | train_mae: 0.20055 |  0:00:09s\n",
      "epoch 77 | loss: 0.1237  | train_mse: 0.06537 | train_mae: 0.19582 |  0:00:09s\n",
      "epoch 78 | loss: 0.19997 | train_mse: 0.06059 | train_mae: 0.18803 |  0:00:09s\n"
     ]
    },
    {
     "name": "stdout",
     "output_type": "stream",
     "text": [
      "epoch 79 | loss: 0.0847  | train_mse: 0.05897 | train_mae: 0.18594 |  0:00:09s\n",
      "epoch 80 | loss: 0.12968 | train_mse: 0.05596 | train_mae: 0.17544 |  0:00:09s\n",
      "epoch 81 | loss: 0.16125 | train_mse: 0.06355 | train_mae: 0.18154 |  0:00:09s\n"
     ]
    },
    {
     "name": "stdout",
     "output_type": "stream",
     "text": [
      "epoch 82 | loss: 0.17329 | train_mse: 0.10723 | train_mae: 0.22069 |  0:00:09s\n",
      "epoch 83 | loss: 0.15236 | train_mse: 0.15023 | train_mae: 0.24815 |  0:00:09s\n"
     ]
    },
    {
     "name": "stdout",
     "output_type": "stream",
     "text": [
      "epoch 84 | loss: 0.12947 | train_mse: 0.18117 | train_mae: 0.26648 |  0:00:09s\n",
      "epoch 85 | loss: 0.07548 | train_mse: 0.20734 | train_mae: 0.27735 |  0:00:09s\n",
      "epoch 86 | loss: 0.12541 | train_mse: 0.2163  | train_mae: 0.28394 |  0:00:10s\n"
     ]
    },
    {
     "name": "stdout",
     "output_type": "stream",
     "text": [
      "epoch 87 | loss: 0.1913  | train_mse: 0.16332 | train_mae: 0.26623 |  0:00:10s\n",
      "epoch 88 | loss: 0.09485 | train_mse: 0.14654 | train_mae: 0.26403 |  0:00:10s\n",
      "epoch 89 | loss: 0.10883 | train_mse: 0.13854 | train_mae: 0.25072 |  0:00:10s\n"
     ]
    },
    {
     "name": "stdout",
     "output_type": "stream",
     "text": [
      "epoch 90 | loss: 0.08832 | train_mse: 0.11395 | train_mae: 0.22865 |  0:00:10s\n",
      "epoch 91 | loss: 0.0924  | train_mse: 0.12627 | train_mae: 0.233   |  0:00:10s\n",
      "epoch 92 | loss: 0.15102 | train_mse: 0.12731 | train_mae: 0.24016 |  0:00:10s\n"
     ]
    },
    {
     "name": "stdout",
     "output_type": "stream",
     "text": [
      "epoch 93 | loss: 0.16792 | train_mse: 0.11361 | train_mae: 0.23791 |  0:00:10s\n",
      "epoch 94 | loss: 0.16622 | train_mse: 0.10423 | train_mae: 0.23668 |  0:00:10s\n",
      "epoch 95 | loss: 0.09758 | train_mse: 0.09628 | train_mae: 0.23227 |  0:00:10s\n"
     ]
    },
    {
     "name": "stdout",
     "output_type": "stream",
     "text": [
      "epoch 96 | loss: 0.14226 | train_mse: 0.09747 | train_mae: 0.23051 |  0:00:11s\n",
      "epoch 97 | loss: 0.16751 | train_mse: 0.07691 | train_mae: 0.21491 |  0:00:11s\n",
      "epoch 98 | loss: 0.08492 | train_mse: 0.07785 | train_mae: 0.20667 |  0:00:11s\n"
     ]
    },
    {
     "name": "stdout",
     "output_type": "stream",
     "text": [
      "epoch 99 | loss: 0.19325 | train_mse: 0.08771 | train_mae: 0.21767 |  0:00:11s\n",
      "epoch 100| loss: 0.08945 | train_mse: 0.11607 | train_mae: 0.25195 |  0:00:11s\n",
      "epoch 101| loss: 0.17468 | train_mse: 0.11025 | train_mae: 0.24815 |  0:00:11s\n"
     ]
    },
    {
     "name": "stdout",
     "output_type": "stream",
     "text": [
      "epoch 102| loss: 0.08014 | train_mse: 0.08087 | train_mae: 0.20236 |  0:00:11s\n",
      "epoch 103| loss: 0.0816  | train_mse: 0.06457 | train_mae: 0.18772 |  0:00:11s\n"
     ]
    },
    {
     "name": "stdout",
     "output_type": "stream",
     "text": [
      "epoch 104| loss: 0.10742 | train_mse: 0.05989 | train_mae: 0.18281 |  0:00:11s\n",
      "epoch 105| loss: 0.1165  | train_mse: 0.06678 | train_mae: 0.18548 |  0:00:11s\n",
      "epoch 106| loss: 0.07951 | train_mse: 0.1157  | train_mae: 0.23275 |  0:00:12s\n"
     ]
    },
    {
     "name": "stdout",
     "output_type": "stream",
     "text": [
      "epoch 107| loss: 0.13334 | train_mse: 0.16713 | train_mae: 0.2762  |  0:00:12s\n",
      "epoch 108| loss: 0.09464 | train_mse: 0.13146 | train_mae: 0.24306 |  0:00:12s\n",
      "epoch 109| loss: 0.068   | train_mse: 0.08075 | train_mae: 0.2038  |  0:00:12s\n"
     ]
    },
    {
     "name": "stdout",
     "output_type": "stream",
     "text": [
      "epoch 110| loss: 0.12557 | train_mse: 0.06386 | train_mae: 0.18104 |  0:00:12s\n",
      "epoch 111| loss: 0.07145 | train_mse: 0.05138 | train_mae: 0.16611 |  0:00:12s\n",
      "epoch 112| loss: 0.10001 | train_mse: 0.04901 | train_mae: 0.16897 |  0:00:12s\n"
     ]
    },
    {
     "name": "stdout",
     "output_type": "stream",
     "text": [
      "epoch 113| loss: 0.10823 | train_mse: 0.05122 | train_mae: 0.17255 |  0:00:12s\n",
      "epoch 114| loss: 0.09128 | train_mse: 0.05626 | train_mae: 0.18223 |  0:00:12s\n",
      "epoch 115| loss: 0.10645 | train_mse: 0.05237 | train_mae: 0.16771 |  0:00:12s\n"
     ]
    },
    {
     "name": "stdout",
     "output_type": "stream",
     "text": [
      "epoch 116| loss: 0.07488 | train_mse: 0.05016 | train_mae: 0.16767 |  0:00:12s\n",
      "epoch 117| loss: 0.09524 | train_mse: 0.04893 | train_mae: 0.16471 |  0:00:13s\n",
      "epoch 118| loss: 0.13807 | train_mse: 0.066   | train_mae: 0.2059  |  0:00:13s\n"
     ]
    },
    {
     "name": "stdout",
     "output_type": "stream",
     "text": [
      "epoch 119| loss: 0.11597 | train_mse: 0.06998 | train_mae: 0.21643 |  0:00:13s\n",
      "epoch 120| loss: 0.33516 | train_mse: 0.04997 | train_mae: 0.168   |  0:00:13s\n",
      "epoch 121| loss: 0.19984 | train_mse: 0.06237 | train_mae: 0.18674 |  0:00:13s\n"
     ]
    },
    {
     "name": "stdout",
     "output_type": "stream",
     "text": [
      "epoch 122| loss: 0.23492 | train_mse: 0.05069 | train_mae: 0.16659 |  0:00:13s\n",
      "epoch 123| loss: 0.09018 | train_mse: 0.06584 | train_mae: 0.19421 |  0:00:13s\n"
     ]
    },
    {
     "name": "stdout",
     "output_type": "stream",
     "text": [
      "epoch 124| loss: 0.06787 | train_mse: 0.08271 | train_mae: 0.19957 |  0:00:13s\n",
      "epoch 125| loss: 0.12451 | train_mse: 0.11294 | train_mae: 0.22936 |  0:00:13s\n"
     ]
    },
    {
     "name": "stdout",
     "output_type": "stream",
     "text": [
      "epoch 126| loss: 0.13896 | train_mse: 0.14493 | train_mae: 0.26957 |  0:00:14s\n",
      "epoch 127| loss: 0.25378 | train_mse: 0.19478 | train_mae: 0.31082 |  0:00:14s\n"
     ]
    },
    {
     "name": "stdout",
     "output_type": "stream",
     "text": [
      "epoch 128| loss: 0.1181  | train_mse: 0.17973 | train_mae: 0.28067 |  0:00:14s\n",
      "epoch 129| loss: 0.07151 | train_mse: 0.13061 | train_mae: 0.24427 |  0:00:14s\n",
      "epoch 130| loss: 0.12487 | train_mse: 0.11318 | train_mae: 0.22538 |  0:00:14s\n"
     ]
    },
    {
     "name": "stdout",
     "output_type": "stream",
     "text": [
      "epoch 131| loss: 0.11755 | train_mse: 0.14443 | train_mae: 0.23777 |  0:00:14s\n",
      "epoch 132| loss: 0.1371  | train_mse: 0.19837 | train_mae: 0.27692 |  0:00:14s\n"
     ]
    },
    {
     "name": "stdout",
     "output_type": "stream",
     "text": [
      "epoch 133| loss: 0.07474 | train_mse: 0.18869 | train_mae: 0.27025 |  0:00:14s\n",
      "epoch 134| loss: 0.10091 | train_mse: 0.14928 | train_mae: 0.25119 |  0:00:14s\n",
      "epoch 135| loss: 0.08908 | train_mse: 0.10611 | train_mae: 0.22947 |  0:00:15s\n"
     ]
    },
    {
     "name": "stdout",
     "output_type": "stream",
     "text": [
      "epoch 136| loss: 0.06939 | train_mse: 0.07937 | train_mae: 0.20552 |  0:00:15s\n",
      "epoch 137| loss: 0.05418 | train_mse: 0.07784 | train_mae: 0.2012  |  0:00:15s\n",
      "epoch 138| loss: 0.11571 | train_mse: 0.07611 | train_mae: 0.19945 |  0:00:15s\n"
     ]
    },
    {
     "name": "stdout",
     "output_type": "stream",
     "text": [
      "epoch 139| loss: 0.17711 | train_mse: 0.06823 | train_mae: 0.19197 |  0:00:15s\n",
      "epoch 140| loss: 0.10003 | train_mse: 0.06064 | train_mae: 0.18348 |  0:00:15s\n"
     ]
    },
    {
     "name": "stdout",
     "output_type": "stream",
     "text": [
      "epoch 141| loss: 0.09446 | train_mse: 0.06626 | train_mae: 0.1931  |  0:00:15s\n",
      "epoch 142| loss: 0.0658  | train_mse: 0.06321 | train_mae: 0.18893 |  0:00:15s\n"
     ]
    },
    {
     "name": "stdout",
     "output_type": "stream",
     "text": [
      "epoch 143| loss: 0.10503 | train_mse: 0.05125 | train_mae: 0.17241 |  0:00:15s\n",
      "epoch 144| loss: 0.21524 | train_mse: 0.05045 | train_mae: 0.17024 |  0:00:15s\n",
      "epoch 145| loss: 0.11508 | train_mse: 0.05446 | train_mae: 0.17977 |  0:00:16s\n"
     ]
    },
    {
     "name": "stdout",
     "output_type": "stream",
     "text": [
      "epoch 146| loss: 0.10173 | train_mse: 0.05329 | train_mae: 0.17261 |  0:00:16s\n",
      "epoch 147| loss: 0.07457 | train_mse: 0.05435 | train_mae: 0.17313 |  0:00:16s\n",
      "epoch 148| loss: 0.31657 | train_mse: 0.05362 | train_mae: 0.18054 |  0:00:16s\n"
     ]
    },
    {
     "name": "stdout",
     "output_type": "stream",
     "text": [
      "epoch 149| loss: 0.18797 | train_mse: 0.06    | train_mae: 0.19386 |  0:00:16s\n",
      "epoch 150| loss: 0.05875 | train_mse: 0.0552  | train_mae: 0.18358 |  0:00:16s\n"
     ]
    },
    {
     "name": "stdout",
     "output_type": "stream",
     "text": [
      "epoch 151| loss: 0.11665 | train_mse: 0.067   | train_mae: 0.19506 |  0:00:16s\n",
      "epoch 152| loss: 0.14206 | train_mse: 0.06047 | train_mae: 0.1787  |  0:00:16s\n",
      "epoch 153| loss: 0.13639 | train_mse: 0.0876  | train_mae: 0.22495 |  0:00:16s\n"
     ]
    },
    {
     "name": "stdout",
     "output_type": "stream",
     "text": [
      "epoch 154| loss: 0.11515 | train_mse: 0.08062 | train_mae: 0.21424 |  0:00:16s\n",
      "epoch 155| loss: 0.13613 | train_mse: 0.05592 | train_mae: 0.17505 |  0:00:17s\n"
     ]
    },
    {
     "name": "stdout",
     "output_type": "stream",
     "text": [
      "epoch 156| loss: 0.24131 | train_mse: 0.05815 | train_mae: 0.18485 |  0:00:17s\n",
      "epoch 157| loss: 0.10939 | train_mse: 0.05373 | train_mae: 0.1711  |  0:00:17s\n"
     ]
    },
    {
     "name": "stdout",
     "output_type": "stream",
     "text": [
      "epoch 158| loss: 0.07537 | train_mse: 0.05472 | train_mae: 0.17728 |  0:00:17s\n",
      "epoch 159| loss: 0.14409 | train_mse: 0.06322 | train_mae: 0.19463 |  0:00:17s\n"
     ]
    },
    {
     "name": "stdout",
     "output_type": "stream",
     "text": [
      "epoch 160| loss: 0.08514 | train_mse: 0.09642 | train_mae: 0.23302 |  0:00:17s\n",
      "epoch 161| loss: 0.11833 | train_mse: 0.08921 | train_mae: 0.22096 |  0:00:17s\n"
     ]
    },
    {
     "name": "stdout",
     "output_type": "stream",
     "text": [
      "epoch 162| loss: 0.0999  | train_mse: 0.10842 | train_mae: 0.22568 |  0:00:17s\n"
     ]
    },
    {
     "name": "stdout",
     "output_type": "stream",
     "text": [
      "epoch 163| loss: 0.1373  | train_mse: 0.11261 | train_mae: 0.22762 |  0:00:18s\n",
      "epoch 164| loss: 0.29023 | train_mse: 0.10228 | train_mae: 0.2204  |  0:00:18s\n"
     ]
    },
    {
     "name": "stdout",
     "output_type": "stream",
     "text": [
      "epoch 165| loss: 0.09354 | train_mse: 0.10164 | train_mae: 0.22311 |  0:00:18s\n",
      "epoch 166| loss: 0.07325 | train_mse: 0.11818 | train_mae: 0.24108 |  0:00:18s\n"
     ]
    },
    {
     "name": "stdout",
     "output_type": "stream",
     "text": [
      "epoch 167| loss: 0.10164 | train_mse: 0.10197 | train_mae: 0.22009 |  0:00:18s\n",
      "\n",
      "Early stopping occurred at epoch 167 with best_epoch = 117 and best_train_mae = 0.16471\n",
      "Best weights from best epoch are automatically used!\n"
     ]
    }
   ],
   "source": [
    "#Train the Model\n",
    "\n",
    "Y_train = np.reshape(Y_train, (-1, 1))\n",
    "Y_test = np.reshape(Y_test, (-1, 1))\n",
    "\n",
    "prior_model = TabNetRegressor(optimizer_fn=torch.optim.Adam, optimizer_params=dict(lr = 0.02),\n",
    "          #scheduler_params={\"step_size\":10, ], \"gamma\":0.9},\n",
    "          #scheduler_fn=torch.optim.lr_scheduler.StepLR\n",
    "          )  #TabNetRegressor()\n",
    "\n",
    "prior_model.fit(X_train,Y_train,eval_set=[(X_train, Y_train)],\n",
    "            eval_name=['train'], \n",
    "            eval_metric=[ 'mse', 'mae'], \n",
    "            max_epochs = n_epochs, \n",
    "            batch_size = batch_size,\n",
    "            patience=50\n",
    "            )"
   ]
  },
  {
   "cell_type": "code",
   "execution_count": 10,
   "id": "af65dcda",
   "metadata": {
    "execution": {
     "iopub.execute_input": "2022-06-22T11:25:36.701566Z",
     "iopub.status.busy": "2022-06-22T11:25:36.694184Z",
     "iopub.status.idle": "2022-06-22T11:25:36.744301Z",
     "shell.execute_reply": "2022-06-22T11:25:36.745762Z"
    },
    "id": "af65dcda",
    "papermill": {
     "duration": 0.121951,
     "end_time": "2022-06-22T11:25:36.746059",
     "exception": false,
     "start_time": "2022-06-22T11:25:36.624108",
     "status": "completed"
    },
    "tags": []
   },
   "outputs": [
    {
     "data": {
      "application/scrapbook.scrap.json+json": {
       "data": 0.16847038818127352,
       "encoder": "json",
       "name": "Prior Model MSE",
       "version": 1
      }
     },
     "metadata": {
      "scrapbook": {
       "data": true,
       "display": false,
       "name": "Prior Model MSE"
      }
     },
     "output_type": "display_data"
    },
    {
     "data": {
      "application/scrapbook.scrap.json+json": {
       "data": 0.7057117200010494,
       "encoder": "json",
       "name": "ABC Pre-generator MSE",
       "version": 1
      }
     },
     "metadata": {
      "scrapbook": {
       "data": true,
       "display": false,
       "name": "ABC Pre-generator MSE"
      }
     },
     "output_type": "display_data"
    },
    {
     "data": {
      "application/scrapbook.scrap.json+json": {
       "data": 0.2911140161250028,
       "encoder": "json",
       "name": "Prior Model MSE",
       "version": 1
      }
     },
     "metadata": {
      "scrapbook": {
       "data": true,
       "display": false,
       "name": "Prior Model MSE"
      }
     },
     "output_type": "display_data"
    },
    {
     "data": {
      "application/scrapbook.scrap.json+json": {
       "data": 0.774692125868857,
       "encoder": "json",
       "name": "ABC Pre-generator MSE",
       "version": 1
      }
     },
     "metadata": {
      "scrapbook": {
       "data": true,
       "display": false,
       "name": "ABC Pre-generator MSE"
      }
     },
     "output_type": "display_data"
    }
   ],
   "source": [
    "y_pred = prior_model.predict(X_test)\n",
    "y_abc = y_pred + np.random.normal(0,variance, y_pred.shape) + bias \n",
    "mse = mean_squared_error(y_pred,Y_test)\n",
    "sb.glue(\"Prior Model MSE\",mse)\n",
    "mse = mean_squared_error(y_abc,Y_test)\n",
    "sb.glue(\"ABC Pre-generator MSE\",mse)\n",
    "mae = mean_absolute_error(y_pred,Y_test)\n",
    "sb.glue(\"Prior Model MSE\",mae)\n",
    "mae = mean_absolute_error(y_abc,Y_test)\n",
    "sb.glue(\"ABC Pre-generator MSE\",mae)"
   ]
  },
  {
   "cell_type": "markdown",
   "id": "25609da2",
   "metadata": {
    "papermill": {
     "duration": 0.057406,
     "end_time": "2022-06-22T11:25:36.859148",
     "exception": false,
     "start_time": "2022-06-22T11:25:36.801742",
     "status": "completed"
    },
    "tags": []
   },
   "source": [
    "# ABC GAN Model"
   ]
  },
  {
   "cell_type": "code",
   "execution_count": 11,
   "id": "dfc3464d",
   "metadata": {
    "execution": {
     "iopub.execute_input": "2022-06-22T11:25:36.971280Z",
     "iopub.status.busy": "2022-06-22T11:25:36.968334Z",
     "iopub.status.idle": "2022-06-22T11:25:36.974988Z",
     "shell.execute_reply": "2022-06-22T11:25:36.975540Z"
    },
    "papermill": {
     "duration": 0.066679,
     "end_time": "2022-06-22T11:25:36.975766",
     "exception": false,
     "start_time": "2022-06-22T11:25:36.909087",
     "status": "completed"
    },
    "tags": []
   },
   "outputs": [],
   "source": [
    "gen = network.Generator(n_features+1).to(device)\n",
    "disc = network.Discriminator(n_features+1).to(device)\n",
    "\n",
    "criterion = torch.nn.BCELoss()\n",
    "gen_opt = torch.optim.Adam(gen.parameters(), lr=0.001, betas=(0.5, 0.999))\n",
    "disc_opt = torch.optim.Adam(disc.parameters(), lr=0.001, betas=(0.5, 0.999))"
   ]
  },
  {
   "cell_type": "code",
   "execution_count": 12,
   "id": "b75fdd85",
   "metadata": {
    "execution": {
     "iopub.execute_input": "2022-06-22T11:25:37.129610Z",
     "iopub.status.busy": "2022-06-22T11:25:37.128781Z",
     "iopub.status.idle": "2022-06-22T11:26:43.816735Z",
     "shell.execute_reply": "2022-06-22T11:26:43.817274Z"
    },
    "papermill": {
     "duration": 66.763386,
     "end_time": "2022-06-22T11:26:43.817499",
     "exception": false,
     "start_time": "2022-06-22T11:25:37.054113",
     "status": "completed"
    },
    "tags": []
   },
   "outputs": [
    {
     "data": {
      "image/png": "[encoded data removed]",
      "text/plain": [
       "<Figure size 432x288 with 1 Axes>"
      ]
     },
     "metadata": {
      "needs_background": "light"
     },
     "output_type": "display_data"
    },
    {
     "data": {
      "image/png": "[encoded data removed]",
      "text/plain": [
       "<Figure size 432x288 with 1 Axes>"
      ]
     },
     "metadata": {
      "needs_background": "light"
     },
     "output_type": "display_data"
    }
   ],
   "source": [
    "#Training the ABC_GAN \n",
    "ABC_train_test2.training_GAN(disc,gen,disc_opt,gen_opt,train_data,batch_size,n_epochs,criterion,prior_model,variance,bias,device)"
   ]
  },
  {
   "cell_type": "code",
   "execution_count": 13,
   "id": "1fa7c368",
   "metadata": {
    "execution": {
     "iopub.execute_input": "2022-06-22T11:26:43.946942Z",
     "iopub.status.busy": "2022-06-22T11:26:43.945239Z",
     "iopub.status.idle": "2022-06-22T11:26:45.039436Z",
     "shell.execute_reply": "2022-06-22T11:26:45.040145Z"
    },
    "papermill": {
     "duration": 1.173549,
     "end_time": "2022-06-22T11:26:45.040384",
     "exception": false,
     "start_time": "2022-06-22T11:26:43.866835",
     "status": "completed"
    },
    "tags": []
   },
   "outputs": [
    {
     "data": {
      "application/scrapbook.scrap.json+json": {
       "data": 0.1590536799175944,
       "encoder": "json",
       "name": "ABC-GAN Model 1 MSE",
       "version": 1
      }
     },
     "metadata": {
      "scrapbook": {
       "data": true,
       "display": false,
       "name": "ABC-GAN Model 1 MSE"
      }
     },
     "output_type": "display_data"
    },
    {
     "data": {
      "application/scrapbook.scrap.json+json": {
       "data": 0.32576765504851934,
       "encoder": "json",
       "name": "ABC-GAN Model 1 MAE",
       "version": 1
      }
     },
     "metadata": {
      "scrapbook": {
       "data": true,
       "display": false,
       "name": "ABC-GAN Model 1 MAE"
      }
     },
     "output_type": "display_data"
    },
    {
     "data": {
      "application/scrapbook.scrap.json+json": {
       "data": 6.515353100970388,
       "encoder": "json",
       "name": "ABC-GAN Model 1 Manhattan Distance",
       "version": 1
      }
     },
     "metadata": {
      "scrapbook": {
       "data": true,
       "display": false,
       "name": "ABC-GAN Model 1 Manhattan Distance"
      }
     },
     "output_type": "display_data"
    },
    {
     "data": {
      "application/scrapbook.scrap.json+json": {
       "data": 1.7832260169210006,
       "encoder": "json",
       "name": "ABC-GAN Model 1 Euclidean distance",
       "version": 1
      }
     },
     "metadata": {
      "scrapbook": {
       "data": true,
       "display": false,
       "name": "ABC-GAN Model 1 Euclidean distance"
      }
     },
     "output_type": "display_data"
    },
    {
     "data": {
      "application/scrapbook.scrap.json+json": {
       "data": [
        [
         0.16928575622473394,
         0.16285481920812675,
         0.17538501236313314,
         0.1550242692981476,
         0.1608256967581705,
         0.16130932910550086,
         0.1650063870226027,
         0.16562719255526975,
         0.1597274757168372,
         0.16161252732783754,
         0.16226508487936864,
         0.16301052708211378,
         0.1547070845168066,
         0.16225303892818693,
         0.15856714481105114,
         0.15410735462167494,
         0.1639584935480172,
         0.15805135683084015,
         0.16259497742415116,
         0.15871211112435274,
         0.15694585089727808,
         0.1464176127009511,
         0.16318765787431702,
         0.1535194483683132,
         0.15390927469912313,
         0.1522698362246832,
         0.16662699604262193,
         0.15757500158271326,
         0.1566318327243253,
         0.15979233779046478,
         0.16026012502885142,
         0.15651238030291276,
         0.1564909440780259,
         0.15722513060508866,
         0.14962147042302404,
         0.15252699275296128,
         0.1639954522912227,
         0.15537759396582831,
         0.1669641043625109,
         0.15993040673219167,
         0.15322860580996295,
         0.1551708786208228,
         0.15148643453628233,
         0.15047595463513852,
         0.1584575950945021,
         0.15618615444312225,
         0.14608213227293415,
         0.16405027966719446,
         0.1636608212672701,
         0.16562914903322315,
         0.16375530604563815,
         0.1539226256344734,
         0.15246243649792884,
         0.154815102815582,
         0.15315585292959172,
         0.167015662286449,
         0.1649629034473218,
         0.16578461153479088,
         0.14931548376104042,
         0.16031829082201227,
         0.14945999469861465,
         0.16106759189215905,
         0.16590058064162666,
         0.15231752817674407,
         0.15423163152959443,
         0.16051337617432201,
         0.16113018456910116,
         0.17307963058260373,
         0.15456954569246809,
         0.15785083077391476,
         0.16239275726608918,
         0.1673482172466827,
         0.16389370765909608,
         0.15760128999366863,
         0.1587407450658283,
         0.15871452822964818,
         0.16887570607051283,
         0.15890465340877308,
         0.16016647199595807,
         0.1721467791942215,
         0.16364699533017377,
         0.15830766927582557,
         0.15011947147515023,
         0.1560175216406246,
         0.1565081449567814,
         0.15932899771504294,
         0.15574082393317282,
         0.1561420107379176,
         0.16009648680741112,
         0.1512508858120157,
         0.16154456315207016,
         0.16357378123275224,
         0.16109476145659446,
         0.14477707759644454,
         0.17049581767814775,
         0.16185803146899294,
         0.1613169378311468,
         0.16440611536277908,
         0.14251819144844138,
         0.15711558603671258
        ],
        [
         0.3310178824700415,
         0.33028891319409015,
         0.3394606594927609,
         0.32140280278399586,
         0.32948995353654026,
         0.3168795288540423,
         0.3303898093290627,
         0.33218611823394895,
         0.32951999390497805,
         0.3251051028259099,
         0.334367720130831,
         0.33330563427880405,
         0.3194365479983389,
         0.33113364027813075,
         0.31967499749734996,
         0.3225355860777199,
         0.33500899756327274,
         0.329466572124511,
         0.33244758294895294,
         0.3259201438166201,
         0.31537745939567685,
         0.3128976938314736,
         0.3330514238215983,
         0.32051381142809987,
         0.31925648348405955,
         0.322945359069854,
         0.32871371591463683,
         0.3330988579429686,
         0.32106479750946165,
         0.33232628451660273,
         0.32449703039601446,
         0.3304748025722802,
         0.3228896138258278,
         0.3210801129229367,
         0.31578510710969565,
         0.3190637585707009,
         0.3334308133460581,
         0.3230192922987044,
         0.3349523604847491,
         0.33006916390731933,
         0.31608039969578383,
         0.3219319668598473,
         0.31711120726540687,
         0.3203576487489045,
         0.32479344243183733,
         0.3213412416167557,
         0.3125142612494528,
         0.33803575867787006,
         0.3346475728787482,
         0.3303452105261385,
         0.3263978444971144,
         0.32419282691553236,
         0.32040533954277634,
         0.3219726224429905,
         0.3135828268714249,
         0.3357795068062842,
         0.33254131162539124,
         0.3334855963476002,
         0.31340925516560675,
         0.33064369382336734,
         0.31365660885348917,
         0.3331058365292847,
         0.33209682488813996,
         0.3236292635090649,
         0.3191224784590304,
         0.32374254437163474,
         0.3287733321078122,
         0.33732095928862693,
         0.3180472073145211,
         0.32106723012402655,
         0.33246371978893874,
         0.33612022632732985,
         0.3317885962314904,
         0.3263278567232192,
         0.3238859360106289,
         0.3183705941773951,
         0.33861225144937634,
         0.31968524837866424,
         0.3238939833827317,
         0.3395624523051083,
         0.3300457795150578,
         0.32617156850174067,
         0.3169973281212151,
         0.31657026233151553,
         0.32282312894240023,
         0.32418090449646114,
         0.32225340949371456,
         0.32173271337524056,
         0.32458802023902533,
         0.3190308284945786,
         0.3255956687964499,
         0.3297233265824616,
         0.3295046896673739,
         0.30796094024553894,
         0.3363140788860619,
         0.33163848565891385,
         0.3247358658351004,
         0.33265009643509985,
         0.3068843116052449,
         0.3329752837307751
        ],
        [
         6.62035764940083,
         6.605778263881803,
         6.789213189855218,
         6.428056055679917,
         6.589799070730805,
         6.337590577080846,
         6.607796186581254,
         6.643722364678979,
         6.590399878099561,
         6.502102056518197,
         6.68735440261662,
         6.666112685576081,
         6.388730959966779,
         6.622672805562615,
         6.3934999499469995,
         6.4507117215543985,
         6.700179951265454,
         6.58933144249022,
         6.648951658979058,
         6.518402876332402,
         6.307549187913537,
         6.257953876629472,
         6.661028476431966,
         6.410276228561997,
         6.3851296696811914,
         6.45890718139708,
         6.574274318292737,
         6.661977158859372,
         6.421295950189233,
         6.646525690332055,
         6.489940607920289,
         6.609496051445603,
         6.457792276516557,
         6.421602258458734,
         6.3157021421939135,
         6.381275171414018,
         6.668616266921163,
         6.460385845974088,
         6.699047209694982,
         6.601383278146386,
         6.321607993915677,
         6.438639337196946,
         6.342224145308137,
         6.407152974978089,
         6.495868848636746,
         6.4268248323351145,
         6.250285224989057,
         6.760715173557401,
         6.692951457574964,
         6.606904210522771,
         6.527956889942288,
         6.483856538310647,
         6.408106790855527,
         6.439452448859811,
         6.271656537428498,
         6.715590136125684,
         6.650826232507825,
         6.669711926952004,
         6.268185103312135,
         6.612873876467347,
         6.273132177069783,
         6.662116730585694,
         6.641936497762799,
         6.472585270181298,
         6.382449569180608,
         6.474850887432694,
         6.575466642156243,
         6.746419185772538,
         6.3609441462904215,
         6.421344602480531,
         6.649274395778775,
         6.7224045265465975,
         6.6357719246298075,
         6.526557134464383,
         6.477718720212579,
         6.367411883547902,
         6.772245028987527,
         6.393704967573285,
         6.4778796676546335,
         6.791249046102166,
         6.600915590301156,
         6.523431370034814,
         6.339946562424302,
         6.331405246630311,
         6.456462578848004,
         6.483618089929223,
         6.445068189874291,
         6.434654267504811,
         6.491760404780507,
         6.380616569891572,
         6.511913375928998,
         6.594466531649232,
         6.590093793347478,
         6.159218804910779,
         6.726281577721238,
         6.632769713178277,
         6.494717316702008,
         6.653001928701997,
         6.1376862321048975,
         6.659505674615502
        ],
        [
         1.840031283564135,
         1.8047427473638826,
         1.8728855403528166,
         1.7608195211216147,
         1.7934642274557386,
         1.7961588410021028,
         1.8166253715205163,
         1.8200395191053942,
         1.7873302756728382,
         1.7978460853356584,
         1.8014720918147393,
         1.8056053117008366,
         1.7590172512900866,
         1.8014052233086641,
         1.7808264643757468,
         1.7556044806372244,
         1.8108478320831776,
         1.7779277647353402,
         1.8033024007312315,
         1.7816403179337448,
         1.7716989072485092,
         1.7112428974342075,
         1.806586050396255,
         1.7522525409786867,
         1.7544758459387415,
         1.7451065080658155,
         1.825524560462674,
         1.775246470677879,
         1.7699256070486424,
         1.7876931380439138,
         1.7903079345679693,
         1.7692505775209615,
         1.7691294134575113,
         1.7732745450442167,
         1.7298639855377302,
         1.7465794728723987,
         1.8110519169323815,
         1.762824971265317,
         1.8273702655045634,
         1.7884653014928282,
         1.7505919330898503,
         1.761651944175255,
         1.7406115852554946,
         1.734796556574508,
         1.7802111958669515,
         1.7674057510550443,
         1.709281324258439,
         1.8113546293710376,
         1.8092032570569294,
         1.8200502687190987,
         1.8097254269398888,
         1.7545519407214676,
         1.7462098184234836,
         1.7596312273631767,
         1.750176293574974,
         1.8276523864589187,
         1.816385991177656,
         1.8209042343560569,
         1.7280942321588857,
         1.7906327977673828,
         1.7289302744680866,
         1.7948124798549794,
         1.8215409994926088,
         1.7453797763051115,
         1.7563122246889615,
         1.7917219436861402,
         1.7951611881338185,
         1.8605355711869833,
         1.7582351702344488,
         1.7767995428517802,
         1.8021806638963207,
         1.8294710560524465,
         1.8104900312296452,
         1.7753945476635251,
         1.7818010274204485,
         1.7816538846232068,
         1.8378014368832822,
         1.7827206926985117,
         1.7897847468115158,
         1.8555149107146593,
         1.8091268354107943,
         1.7793688166078756,
         1.7327404391607546,
         1.7664513672367241,
         1.76922663871411,
         1.7850994242060745,
         1.764884267781731,
         1.7671559678642834,
         1.7893936783581812,
         1.7392578061461488,
         1.7974680144696327,
         1.808722097132405,
         1.7949638517618927,
         1.7016290876477431,
         1.8465958825804187,
         1.7992111130659068,
         1.796201201598233,
         1.8133180380880738,
         1.688302055015283,
         1.7726566843961218
        ]
       ],
       "encoder": "json",
       "name": "ABC_GAN_1 Metrics",
       "version": 1
      }
     },
     "metadata": {
      "scrapbook": {
       "data": true,
       "display": false,
       "name": "ABC_GAN_1 Metrics"
      }
     },
     "output_type": "display_data"
    },
    {
     "name": "stdout",
     "output_type": "stream",
     "text": [
      "MSE\n",
      "0.1590536799175944\n"
     ]
    }
   ],
   "source": [
    "ABC_GAN1_metrics=ABC_train_test2.test_generator(gen,test_data,prior_model,variance,bias,\"1\",device)\n",
    "sb.glue(\"ABC_GAN_1 Metrics\",ABC_GAN1_metrics)\n",
    "\n",
    "print(\"MSE\")\n",
    "print(mean(ABC_GAN1_metrics[0]))"
   ]
  },
  {
   "cell_type": "code",
   "execution_count": 14,
   "id": "eb22ce5c",
   "metadata": {
    "execution": {
     "iopub.execute_input": "2022-06-22T11:26:45.157317Z",
     "iopub.status.busy": "2022-06-22T11:26:45.156544Z",
     "iopub.status.idle": "2022-06-22T11:26:46.135823Z",
     "shell.execute_reply": "2022-06-22T11:26:46.136632Z"
    },
    "papermill": {
     "duration": 1.047656,
     "end_time": "2022-06-22T11:26:46.138082",
     "exception": false,
     "start_time": "2022-06-22T11:26:45.090426",
     "status": "completed"
    },
    "tags": []
   },
   "outputs": [
    {
     "data": {
      "image/png": "[encoded data removed]",
      "text/plain": [
       "<Figure size 432x288 with 1 Axes>"
      ]
     },
     "metadata": {
      "needs_background": "light"
     },
     "output_type": "display_data"
    },
    {
     "data": {
      "image/png": "[encoded data removed]",
      "text/plain": [
       "<Figure size 432x288 with 1 Axes>"
      ]
     },
     "metadata": {
      "needs_background": "light"
     },
     "output_type": "display_data"
    },
    {
     "data": {
      "image/png": "[encoded data removed]",
      "text/plain": [
       "<Figure size 432x288 with 1 Axes>"
      ]
     },
     "metadata": {
      "needs_background": "light"
     },
     "output_type": "display_data"
    },
    {
     "data": {
      "image/png": "[encoded data removed]",
      "text/plain": [
       "<Figure size 432x288 with 1 Axes>"
      ]
     },
     "metadata": {
      "needs_background": "light"
     },
     "output_type": "display_data"
    }
   ],
   "source": [
    "sanityChecks.discProbVsError(train_data,disc,device)\n",
    "sanityChecks.discProbVsError(test_data,disc,device)"
   ]
  },
  {
   "cell_type": "markdown",
   "id": "130f3a4d",
   "metadata": {
    "id": "130f3a4d",
    "papermill": {
     "duration": 0.065471,
     "end_time": "2022-06-22T11:26:46.260786",
     "exception": false,
     "start_time": "2022-06-22T11:26:46.195315",
     "status": "completed"
    },
    "tags": []
   },
   "source": [
    "# ABC - GAN Model with skip connection"
   ]
  },
  {
   "cell_type": "code",
   "execution_count": 15,
   "id": "4e43dad1",
   "metadata": {
    "execution": {
     "iopub.execute_input": "2022-06-22T11:26:46.414173Z",
     "iopub.status.busy": "2022-06-22T11:26:46.412757Z",
     "iopub.status.idle": "2022-06-22T11:26:46.417015Z",
     "shell.execute_reply": "2022-06-22T11:26:46.417553Z"
    },
    "id": "4e43dad1",
    "papermill": {
     "duration": 0.091652,
     "end_time": "2022-06-22T11:26:46.417831",
     "exception": false,
     "start_time": "2022-06-22T11:26:46.326179",
     "status": "completed"
    },
    "tags": []
   },
   "outputs": [],
   "source": [
    "#Generator\n",
    "gen3 = network.GeneratorWithSkipConnection(n_features+1).to(device)\n",
    "constraints=network.weightConstraint()\n",
    "#Discriminator \n",
    "disc3 = network.Discriminator(n_features+1).to(device)\n",
    "\n",
    "criterion = torch.nn.BCELoss()\n",
    "gen_opt = torch.optim.Adam(gen3.parameters(), lr=0.001, betas=(0.5, 0.999))\n",
    "disc_opt = torch.optim.Adam(disc3.parameters(), lr=0.001, betas=(0.5, 0.999))\n"
   ]
  },
  {
   "cell_type": "code",
   "execution_count": 16,
   "id": "26acbc37",
   "metadata": {
    "execution": {
     "iopub.execute_input": "2022-06-22T11:26:46.566649Z",
     "iopub.status.busy": "2022-06-22T11:26:46.565806Z",
     "iopub.status.idle": "2022-06-22T11:28:18.694631Z",
     "shell.execute_reply": "2022-06-22T11:28:18.695151Z"
    },
    "id": "26acbc37",
    "papermill": {
     "duration": 92.22467,
     "end_time": "2022-06-22T11:28:18.695420",
     "exception": false,
     "start_time": "2022-06-22T11:26:46.470750",
     "status": "completed"
    },
    "tags": []
   },
   "outputs": [
    {
     "data": {
      "image/png": "[encoded data removed]",
      "text/plain": [
       "<Figure size 432x288 with 1 Axes>"
      ]
     },
     "metadata": {
      "needs_background": "light"
     },
     "output_type": "display_data"
    },
    {
     "data": {
      "image/png": "[encoded data removed]",
      "text/plain": [
       "<Figure size 432x288 with 1 Axes>"
      ]
     },
     "metadata": {
      "needs_background": "light"
     },
     "output_type": "display_data"
    }
   ],
   "source": [
    "ABC_train_test2.training_GAN_skip_connection(disc3,gen3,disc_opt,gen_opt,train_data,batch_size,n_epochs,criterion,prior_model,variance,bias,device)"
   ]
  },
  {
   "cell_type": "code",
   "execution_count": 17,
   "id": "c5e0717b",
   "metadata": {
    "execution": {
     "iopub.execute_input": "2022-06-22T11:28:18.860501Z",
     "iopub.status.busy": "2022-06-22T11:28:18.859448Z",
     "iopub.status.idle": "2022-06-22T11:28:19.957298Z",
     "shell.execute_reply": "2022-06-22T11:28:19.958091Z"
    },
    "id": "c5e0717b",
    "papermill": {
     "duration": 1.208214,
     "end_time": "2022-06-22T11:28:19.958446",
     "exception": false,
     "start_time": "2022-06-22T11:28:18.750232",
     "status": "completed"
    },
    "tags": []
   },
   "outputs": [
    {
     "data": {
      "application/scrapbook.scrap.json+json": {
       "data": 0.16720195814959102,
       "encoder": "json",
       "name": "ABC-GAN Model 3 MSE",
       "version": 1
      }
     },
     "metadata": {
      "scrapbook": {
       "data": true,
       "display": false,
       "name": "ABC-GAN Model 3 MSE"
      }
     },
     "output_type": "display_data"
    },
    {
     "data": {
      "application/scrapbook.scrap.json+json": {
       "data": 0.3415162004642189,
       "encoder": "json",
       "name": "ABC-GAN Model 3 MAE",
       "version": 1
      }
     },
     "metadata": {
      "scrapbook": {
       "data": true,
       "display": false,
       "name": "ABC-GAN Model 3 MAE"
      }
     },
     "output_type": "display_data"
    },
    {
     "data": {
      "application/scrapbook.scrap.json+json": {
       "data": 6.830324009284377,
       "encoder": "json",
       "name": "ABC-GAN Model 3 Manhattan Distance",
       "version": 1
      }
     },
     "metadata": {
      "scrapbook": {
       "data": true,
       "display": false,
       "name": "ABC-GAN Model 3 Manhattan Distance"
      }
     },
     "output_type": "display_data"
    },
    {
     "data": {
      "application/scrapbook.scrap.json+json": {
       "data": 1.8282300428386633,
       "encoder": "json",
       "name": "ABC-GAN Model 3 Euclidean distance",
       "version": 1
      }
     },
     "metadata": {
      "scrapbook": {
       "data": true,
       "display": false,
       "name": "ABC-GAN Model 3 Euclidean distance"
      }
     },
     "output_type": "display_data"
    },
    {
     "data": {
      "application/scrapbook.scrap.json+json": {
       "data": [
        [
         0.15921680344502104,
         0.17113466388219561,
         0.16177846507825322,
         0.15344166042208152,
         0.16825660021923286,
         0.16947926462940616,
         0.18400445036105822,
         0.15414580606625056,
         0.17265567536568255,
         0.17268586970254246,
         0.1813425563651913,
         0.17122149767140954,
         0.16375991151952615,
         0.16229969796639443,
         0.15873934687510344,
         0.17592122729544105,
         0.16892032610330704,
         0.16730227516954832,
         0.16278011120896105,
         0.1619030303455097,
         0.16188389154494923,
         0.17280756560547264,
         0.16582738322068097,
         0.16719205023705158,
         0.15976685091406148,
         0.1722181937572415,
         0.1773970197031278,
         0.17283749790997704,
         0.16039328706579078,
         0.17100218727262845,
         0.15457393405259978,
         0.17424849253555263,
         0.18199641992165336,
         0.17012841936479947,
         0.16406434237788603,
         0.1664269948418485,
         0.1591612899002351,
         0.164124898547017,
         0.17625723505266996,
         0.1611070837036496,
         0.1550564918053583,
         0.1623487410820958,
         0.16265720597888428,
         0.16134735189065924,
         0.15768740045648988,
         0.1791105557044357,
         0.17236934331003412,
         0.1597866196788795,
         0.15842421846439297,
         0.15663539386824743,
         0.18282387482131743,
         0.16792150342864373,
         0.17671515949569053,
         0.17082749888437992,
         0.15812753089872578,
         0.16217772066546252,
         0.16976495185902177,
         0.15930658858175428,
         0.18147497904604548,
         0.1710264251882175,
         0.15811967903341928,
         0.1664619837810939,
         0.1674986401151059,
         0.16451633089128656,
         0.1721645133284914,
         0.17936809348021762,
         0.16768127104310718,
         0.16982510499437486,
         0.16744621168294666,
         0.16577967415075062,
         0.17169144243184709,
         0.1814643403726907,
         0.1683372371781506,
         0.1705502640454739,
         0.1615964723142137,
         0.16385994393702288,
         0.16168868921795668,
         0.1641332019942107,
         0.15242820974829482,
         0.1599494890492484,
         0.18258656071597845,
         0.17623991089301763,
         0.16804230305901124,
         0.17432481450864298,
         0.1583957518686879,
         0.16684488341426068,
         0.16538186355018208,
         0.17135556313811812,
         0.1670853903108706,
         0.16470927528009424,
         0.16820569913713107,
         0.16262058997159817,
         0.15450932034011777,
         0.16686700534185386,
         0.16559758007568895,
         0.17820191591755666,
         0.1749613777661017,
         0.1655494171841495,
         0.16669153900931843,
         0.1674704283570724
        ],
        [
         0.33209451707080007,
         0.3395531435497105,
         0.33597083734348415,
         0.3285491240210831,
         0.33930764319375156,
         0.3420488369651139,
         0.3548157145269215,
         0.3296587255783379,
         0.34771650182083247,
         0.34581721322610975,
         0.3544163887389004,
         0.3431983162648976,
         0.3417277094908059,
         0.33178732069209216,
         0.33617194192484023,
         0.3497794662602246,
         0.3477671598084271,
         0.33745632590726016,
         0.3408134263940156,
         0.34261801512911916,
         0.3345879574306309,
         0.3508425009436905,
         0.3373624105937779,
         0.34376379372552035,
         0.3351950262673199,
         0.3449385684914887,
         0.35338578494265677,
         0.3457942199893296,
         0.32962778555229305,
         0.3482543078251183,
         0.3342071888037026,
         0.347339525539428,
         0.3533390131779015,
         0.34697032617405055,
         0.3348278951831162,
         0.34253921853378416,
         0.32821999909356236,
         0.3423720893450081,
         0.34609417589381336,
         0.3349653949029744,
         0.32729898067191243,
         0.33913642363622787,
         0.3406287399120629,
         0.33795662643387914,
         0.33183046253398063,
         0.35066573740914464,
         0.35305950241163375,
         0.33822972076013685,
         0.3329650883562863,
         0.3313904848881066,
         0.35424557151272895,
         0.34471278386190535,
         0.3532146242447197,
         0.3405435656197369,
         0.33616001876071094,
         0.33423521937802436,
         0.343982767034322,
         0.3322587599046528,
         0.3483898279257119,
         0.3418946568854153,
         0.3350510706193745,
         0.34930295394733546,
         0.338244251627475,
         0.3441668380983174,
         0.3405032788403332,
         0.355124990362674,
         0.3401473638601601,
         0.3436754305846989,
         0.3377851371653378,
         0.34229989247396586,
         0.3471302752383053,
         0.3573840451426804,
         0.34042039411142466,
         0.3459339511580765,
         0.33905000956729053,
         0.33401501523330807,
         0.3392082420177758,
         0.3363888722844422,
         0.3260868308134377,
         0.3319298160262406,
         0.352203416544944,
         0.35413158806040884,
         0.33806576477363703,
         0.3464253512211144,
         0.3364463341422379,
         0.3401364733465016,
         0.3427368816919625,
         0.35057812826707957,
         0.3474702020175755,
         0.33790514441207053,
         0.34169360073283317,
         0.3352840599603951,
         0.3244157095439732,
         0.34065267043188213,
         0.341658438462764,
         0.35144784869626167,
         0.3505760435946286,
         0.34240190060809256,
         0.3385217864997685,
         0.3463249717839062
        ],
        [
         6.641890341416001,
         6.79106287099421,
         6.719416746869683,
         6.570982480421662,
         6.7861528638750315,
         6.840976739302278,
         7.09631429053843,
         6.593174511566758,
         6.95433003641665,
         6.916344264522195,
         7.0883277747780085,
         6.863966325297952,
         6.834554189816117,
         6.635746413841844,
         6.723438838496804,
         6.995589325204492,
         6.955343196168542,
         6.749126518145204,
         6.816268527880311,
         6.852360302582383,
         6.6917591486126184,
         7.016850018873811,
         6.747248211875558,
         6.8752758745104074,
         6.703900525346398,
         6.898771369829774,
         7.067715698853135,
         6.9158843997865915,
         6.592555711045861,
         6.965086156502366,
         6.684143776074052,
         6.94679051078856,
         7.06678026355803,
         6.939406523481011,
         6.696557903662324,
         6.850784370675683,
         6.564399981871247,
         6.847441786900163,
         6.921883517876267,
         6.699307898059487,
         6.545979613438249,
         6.782728472724557,
         6.812574798241258,
         6.759132528677583,
         6.636609250679612,
         7.013314748182893,
         7.061190048232675,
         6.764594415202737,
         6.659301767125726,
         6.627809697762132,
         7.084911430254579,
         6.894255677238107,
         7.064292484894395,
         6.810871312394738,
         6.723200375214219,
         6.684704387560487,
         6.8796553406864405,
         6.645175198093057,
         6.967796558514237,
         6.837893137708306,
         6.70102141238749,
         6.98605907894671,
         6.7648850325495005,
         6.883336761966348,
         6.8100655768066645,
         7.10249980725348,
         6.802947277203202,
         6.873508611693978,
         6.755702743306756,
         6.845997849479318,
         6.942605504766107,
         7.147680902853608,
         6.808407882228494,
         6.9186790231615305,
         6.781000191345811,
         6.6803003046661615,
         6.7841648403555155,
         6.727777445688844,
         6.521736616268754,
         6.638596320524812,
         7.044068330898881,
         7.082631761208177,
         6.761315295472741,
         6.928507024422288,
         6.728926682844758,
         6.802729466930032,
         6.85473763383925,
         7.011562565341592,
         6.94940404035151,
         6.75810288824141,
         6.833872014656663,
         6.705681199207902,
         6.488314190879464,
         6.813053408637643,
         6.8331687692552805,
         7.028956973925233,
         7.0115208718925714,
         6.848038012161851,
         6.77043572999537,
         6.926499435678124
        ],
        [
         1.7844708092037878,
         1.8500522364635852,
         1.7987688293844388,
         1.751808553593009,
         1.8344296128182889,
         1.8410826414336003,
         1.9183558082955219,
         1.7558234880889967,
         1.8582555010852655,
         1.8584179815237607,
         1.90442934426663,
         1.8505215355213218,
         1.8097508752285556,
         1.8016642193616126,
         1.7817931803388598,
         1.8757463970134185,
         1.8380442111293571,
         1.8292199166286611,
         1.8043287461488888,
         1.7994611990565936,
         1.7993548374067256,
         1.8590727022118991,
         1.8211391117686808,
         1.8286172384457693,
         1.7875505638390288,
         1.8558997481396537,
         1.8835977261779002,
         1.8592337018781528,
         1.7910515741641322,
         1.8493360282686782,
         1.7582601289490685,
         1.8668073951832986,
         1.907859638032386,
         1.844605211771882,
         1.8114322641373375,
         1.8244286494234216,
         1.7841596896031202,
         1.811766533232232,
         1.8775368707573759,
         1.7950324994475704,
         1.7610025088304577,
         1.8019364088784922,
         1.8036474488041407,
         1.7963705179648168,
         1.7758795029871248,
         1.8926730077033154,
         1.8567139968774626,
         1.787661151778376,
         1.7800236990803968,
         1.769945727237123,
         1.9121918042984989,
         1.8326019940436806,
         1.879974252460339,
         1.8483911863259894,
         1.778356156110051,
         1.8009870663914416,
         1.8426337230118293,
         1.7849738854210404,
         1.9051245578494098,
         1.8494670864236407,
         1.7783120031840267,
         1.8246204196001639,
         1.830293091912363,
         1.8139257476053785,
         1.8556104835255236,
         1.8940332282207597,
         1.831290643470376,
         1.8429601460388385,
         1.8300066212063095,
         1.8208771191420394,
         1.8530593214025668,
         1.9050687146278515,
         1.8348691352690556,
         1.8468907062708064,
         1.7977567817378062,
         1.8103035322123353,
         1.7982696639712115,
         1.8118123633213825,
         1.7460138014820779,
         1.7885719949124128,
         1.910950343237513,
         1.8774445978138352,
         1.833261045563404,
         1.8672161873154538,
         1.7798637693300456,
         1.826717730872839,
         1.8186910872942776,
         1.8512458677232375,
         1.8280338635313658,
         1.8149891199679091,
         1.8341521154862324,
         1.8034444264883693,
         1.7578926038874945,
         1.8268388289165187,
         1.819876809433479,
         1.8878660753218521,
         1.8706222374712735,
         1.8196121410023043,
         1.8258780846996243,
         1.8301389474959129
        ]
       ],
       "encoder": "json",
       "name": "ABC_GAN_3 Metrics",
       "version": 1
      }
     },
     "metadata": {
      "scrapbook": {
       "data": true,
       "display": false,
       "name": "ABC_GAN_3 Metrics"
      }
     },
     "output_type": "display_data"
    },
    {
     "name": "stdout",
     "output_type": "stream",
     "text": [
      "MSE\n",
      "0.16720195814959102\n"
     ]
    }
   ],
   "source": [
    "ABC_GAN3_metrics=ABC_train_test2.test_generator(gen3,test_data,prior_model,variance,bias,\"3\",device)\n",
    "sb.glue(\"ABC_GAN_3 Metrics\",ABC_GAN3_metrics)\n",
    "\n",
    "print(\"MSE\")\n",
    "print(mean(ABC_GAN3_metrics[0]))"
   ]
  },
  {
   "cell_type": "code",
   "execution_count": 18,
   "id": "c8e46b48",
   "metadata": {
    "execution": {
     "iopub.execute_input": "2022-06-22T11:28:20.140138Z",
     "iopub.status.busy": "2022-06-22T11:28:20.135327Z",
     "iopub.status.idle": "2022-06-22T11:28:21.317629Z",
     "shell.execute_reply": "2022-06-22T11:28:21.318215Z"
    },
    "id": "c8e46b48",
    "papermill": {
     "duration": 1.275795,
     "end_time": "2022-06-22T11:28:21.318430",
     "exception": false,
     "start_time": "2022-06-22T11:28:20.042635",
     "status": "completed"
    },
    "tags": []
   },
   "outputs": [
    {
     "data": {
      "image/png": "[encoded data removed]",
      "text/plain": [
       "<Figure size 432x288 with 1 Axes>"
      ]
     },
     "metadata": {
      "needs_background": "light"
     },
     "output_type": "display_data"
    },
    {
     "data": {
      "image/png": "[encoded data removed]",
      "text/plain": [
       "<Figure size 432x288 with 1 Axes>"
      ]
     },
     "metadata": {
      "needs_background": "light"
     },
     "output_type": "display_data"
    },
    {
     "data": {
      "image/png": "[encoded data removed]",
      "text/plain": [
       "<Figure size 432x288 with 1 Axes>"
      ]
     },
     "metadata": {
      "needs_background": "light"
     },
     "output_type": "display_data"
    },
    {
     "data": {
      "image/png": "[encoded data removed]",
      "text/plain": [
       "<Figure size 432x288 with 1 Axes>"
      ]
     },
     "metadata": {
      "needs_background": "light"
     },
     "output_type": "display_data"
    }
   ],
   "source": [
    "sanityChecks.discProbVsError(train_data,disc3,device)\n",
    "sanityChecks.discProbVsError(test_data,disc3,device)"
   ]
  },
  {
   "cell_type": "markdown",
   "id": "a5bd74c3",
   "metadata": {
    "id": "a5bd74c3",
    "papermill": {
     "duration": 0.077444,
     "end_time": "2022-06-22T11:28:21.458223",
     "exception": false,
     "start_time": "2022-06-22T11:28:21.380779",
     "status": "completed"
    },
    "tags": []
   },
   "source": [
    "## Skip Connection Model Analysis - ABC-GAN "
   ]
  },
  {
   "cell_type": "markdown",
   "id": "5744a8bf",
   "metadata": {
    "id": "5744a8bf",
    "papermill": {
     "duration": 0.073064,
     "end_time": "2022-06-22T11:28:21.602936",
     "exception": false,
     "start_time": "2022-06-22T11:28:21.529872",
     "status": "completed"
    },
    "tags": []
   },
   "source": [
    "### Weight Analysis \n",
    "\n",
    "Study the weights of the skip connection layer\n",
    "\n",
    "Equation of the skip connection is \n",
    "\n",
    "$output = y_{gan} * w + y_{abc} * (1-w)$"
   ]
  },
  {
   "cell_type": "code",
   "execution_count": 19,
   "id": "52c31dea",
   "metadata": {
    "execution": {
     "iopub.execute_input": "2022-06-22T11:28:21.778503Z",
     "iopub.status.busy": "2022-06-22T11:28:21.777635Z",
     "iopub.status.idle": "2022-06-22T11:28:21.786357Z",
     "shell.execute_reply": "2022-06-22T11:28:21.785563Z"
    },
    "id": "52c31dea",
    "papermill": {
     "duration": 0.103744,
     "end_time": "2022-06-22T11:28:21.786616",
     "exception": false,
     "start_time": "2022-06-22T11:28:21.682872",
     "status": "completed"
    },
    "tags": []
   },
   "outputs": [
    {
     "name": "stdout",
     "output_type": "stream",
     "text": [
      "Weight of the node at skip connection\n",
      "Parameter containing:\n",
      "tensor([[0.6275]], requires_grad=True)\n"
     ]
    },
    {
     "data": {
      "application/scrapbook.scrap.json+json": {
       "data": 0.6274928450584412,
       "encoder": "json",
       "name": "Skip Connection Weight",
       "version": 1
      }
     },
     "metadata": {
      "scrapbook": {
       "data": true,
       "display": false,
       "name": "Skip Connection Weight"
      }
     },
     "output_type": "display_data"
    }
   ],
   "source": [
    "print(\"Weight of the node at skip connection\")\n",
    "for name,param in gen3.named_parameters():\n",
    "    if(name == \"skipNode.weight\"):\n",
    "        print(param)\n",
    "        sb.glue(\"Skip Connection Weight\",param.item())"
   ]
  }
 ],
 "metadata": {
  "colab": {
   "collapsed_sections": [],
   "name": "ABC_GAN_Model-Catboost_Pre-gen.ipynb",
   "provenance": []
  },
  "interpreter": {
   "hash": "31f2aee4e71d21fbe5cf8b01ff0e069b9275f58929596ceb00d14d90e3e16cd6"
  },
  "kernelspec": {
   "display_name": "Python 3 (ipykernel)",
   "language": "python",
   "name": "python3"
  },
  "language_info": {
   "codemirror_mode": {
    "name": "ipython",
    "version": 3
   },
   "file_extension": ".py",
   "mimetype": "text/x-python",
   "name": "python",
   "nbconvert_exporter": "python",
   "pygments_lexer": "ipython3",
   "version": "3.8.3"
  },
  "papermill": {
   "default_parameters": {},
   "duration": 201.986807,
   "end_time": "2022-06-22T11:28:23.411959",
   "environment_variables": {},
   "exception": null,
   "input_path": "ABC_GAN-TabNet.ipynb",
   "output_path": "./ABC_GAN_TabNet/ABC-GAN_output_1_1.ipynb",
   "parameters": {
    "bias": 1,
    "variance": 0.1
   },
   "start_time": "2022-06-22T11:25:01.425152",
   "version": "2.3.3"
  }
 },
 "nbformat": 4,
 "nbformat_minor": 5
}