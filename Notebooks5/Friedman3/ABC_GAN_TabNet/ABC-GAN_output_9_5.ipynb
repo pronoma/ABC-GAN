{
 "cells": [
  {
   "cell_type": "markdown",
   "id": "622780e6",
   "metadata": {
    "id": "622780e6",
    "papermill": {
     "duration": 0.029858,
     "end_time": "2022-06-22T16:11:12.972025",
     "exception": false,
     "start_time": "2022-06-22T16:11:12.942167",
     "status": "completed"
    },
    "tags": []
   },
   "source": [
    "## Import Libraries "
   ]
  },
  {
   "cell_type": "code",
   "execution_count": 1,
   "id": "a62397e3",
   "metadata": {
    "execution": {
     "iopub.execute_input": "2022-06-22T16:11:13.038246Z",
     "iopub.status.busy": "2022-06-22T16:11:13.036789Z",
     "iopub.status.idle": "2022-06-22T16:11:13.039458Z",
     "shell.execute_reply": "2022-06-22T16:11:13.040024Z"
    },
    "id": "a62397e3",
    "papermill": {
     "duration": 0.04162,
     "end_time": "2022-06-22T16:11:13.040871",
     "exception": false,
     "start_time": "2022-06-22T16:11:12.999251",
     "status": "completed"
    },
    "tags": []
   },
   "outputs": [],
   "source": [
    "import warnings\n",
    "import sys\n",
    "sys.path.insert(0, '../../src')\n",
    "warnings.filterwarnings('ignore')"
   ]
  },
  {
   "cell_type": "code",
   "execution_count": 2,
   "id": "d6a4e155",
   "metadata": {
    "execution": {
     "iopub.execute_input": "2022-06-22T16:11:13.090190Z",
     "iopub.status.busy": "2022-06-22T16:11:13.089326Z",
     "iopub.status.idle": "2022-06-22T16:11:20.043032Z",
     "shell.execute_reply": "2022-06-22T16:11:20.044174Z"
    },
    "id": "d6a4e155",
    "papermill": {
     "duration": 6.980887,
     "end_time": "2022-06-22T16:11:20.044518",
     "exception": false,
     "start_time": "2022-06-22T16:11:13.063631",
     "status": "completed"
    },
    "tags": []
   },
   "outputs": [],
   "source": [
    "import ABC_train_test2\n",
    "import friedman3Dataset\n",
    "import network\n",
    "import dataset\n",
    "import sanityChecks\n",
    "import torch \n",
    "import scrapbook as sb\n",
    "from statistics import mean \n",
    "import catboost as ctb \n",
    "from sklearn.model_selection import train_test_split\n",
    "from sklearn.metrics import mean_squared_error,mean_absolute_error\n",
    "import numpy as np\n",
    "from pytorch_tabnet.tab_model import TabNetRegressor"
   ]
  },
  {
   "cell_type": "markdown",
   "id": "2fa5b0f7",
   "metadata": {
    "id": "2fa5b0f7",
    "papermill": {
     "duration": 0.030089,
     "end_time": "2022-06-22T16:11:20.096251",
     "exception": false,
     "start_time": "2022-06-22T16:11:20.066162",
     "status": "completed"
    },
    "tags": []
   },
   "source": [
    "## Parameters "
   ]
  },
  {
   "cell_type": "code",
   "execution_count": 3,
   "id": "783186fb",
   "metadata": {
    "execution": {
     "iopub.execute_input": "2022-06-22T16:11:20.147725Z",
     "iopub.status.busy": "2022-06-22T16:11:20.146697Z",
     "iopub.status.idle": "2022-06-22T16:11:20.149306Z",
     "shell.execute_reply": "2022-06-22T16:11:20.149855Z"
    },
    "id": "783186fb",
    "papermill": {
     "duration": 0.027695,
     "end_time": "2022-06-22T16:11:20.150590",
     "exception": false,
     "start_time": "2022-06-22T16:11:20.122895",
     "status": "completed"
    },
    "tags": [
     "parameters"
    ]
   },
   "outputs": [],
   "source": [
    "variance = 1\n",
    "bias = 1 "
   ]
  },
  {
   "cell_type": "code",
   "execution_count": 4,
   "id": "7b6fc2a1",
   "metadata": {
    "execution": {
     "iopub.execute_input": "2022-06-22T16:11:20.192299Z",
     "iopub.status.busy": "2022-06-22T16:11:20.191261Z",
     "iopub.status.idle": "2022-06-22T16:11:20.193509Z",
     "shell.execute_reply": "2022-06-22T16:11:20.194541Z"
    },
    "papermill": {
     "duration": 0.026994,
     "end_time": "2022-06-22T16:11:20.195119",
     "exception": false,
     "start_time": "2022-06-22T16:11:20.168125",
     "status": "completed"
    },
    "tags": [
     "injected-parameters"
    ]
   },
   "outputs": [],
   "source": [
    "# Parameters\n",
    "variance = 0.01\n",
    "bias = 0.1\n"
   ]
  },
  {
   "cell_type": "markdown",
   "id": "391cdbfd",
   "metadata": {
    "id": "391cdbfd",
    "papermill": {
     "duration": 0.020866,
     "end_time": "2022-06-22T16:11:20.242204",
     "exception": false,
     "start_time": "2022-06-22T16:11:20.221338",
     "status": "completed"
    },
    "tags": []
   },
   "source": [
    "## Dataset \n"
   ]
  },
  {
   "cell_type": "code",
   "execution_count": 5,
   "id": "5b51f161",
   "metadata": {
    "execution": {
     "iopub.execute_input": "2022-06-22T16:11:20.282339Z",
     "iopub.status.busy": "2022-06-22T16:11:20.281152Z",
     "iopub.status.idle": "2022-06-22T16:11:20.283394Z",
     "shell.execute_reply": "2022-06-22T16:11:20.284524Z"
    },
    "id": "5b51f161",
    "papermill": {
     "duration": 0.025789,
     "end_time": "2022-06-22T16:11:20.284760",
     "exception": false,
     "start_time": "2022-06-22T16:11:20.258971",
     "status": "completed"
    },
    "tags": []
   },
   "outputs": [],
   "source": [
    "#Parameters \n",
    "n_features = 4\n",
    "n_samples= 100\n",
    "n_target = 1"
   ]
  },
  {
   "cell_type": "code",
   "execution_count": 6,
   "id": "5d6eced4",
   "metadata": {
    "execution": {
     "iopub.execute_input": "2022-06-22T16:11:20.333356Z",
     "iopub.status.busy": "2022-06-22T16:11:20.332103Z",
     "iopub.status.idle": "2022-06-22T16:11:20.348403Z",
     "shell.execute_reply": "2022-06-22T16:11:20.349105Z"
    },
    "id": "5d6eced4",
    "papermill": {
     "duration": 0.046767,
     "end_time": "2022-06-22T16:11:20.349347",
     "exception": false,
     "start_time": "2022-06-22T16:11:20.302580",
     "status": "completed"
    },
    "tags": []
   },
   "outputs": [
    {
     "name": "stdout",
     "output_type": "stream",
     "text": [
      "          X1           X2        X3         X4         Y\n",
      "0  71.945784   508.670056  0.414780   7.234926  1.372489\n",
      "1  70.289507  1449.145472  0.879809   6.691233  1.568394\n",
      "2  13.833686   968.004979  0.837708   5.818754  1.600829\n",
      "3  42.821050  1451.509633  0.151385   7.035331  1.349375\n",
      "4  40.798138  1638.511781  0.517464  10.855739  1.442286\n"
     ]
    }
   ],
   "source": [
    "X,Y = friedman3Dataset.friedman3_data(n_samples)"
   ]
  },
  {
   "cell_type": "code",
   "execution_count": 7,
   "id": "fe007438",
   "metadata": {
    "execution": {
     "iopub.execute_input": "2022-06-22T16:11:20.396200Z",
     "iopub.status.busy": "2022-06-22T16:11:20.393324Z",
     "iopub.status.idle": "2022-06-22T16:11:20.398638Z",
     "shell.execute_reply": "2022-06-22T16:11:20.399345Z"
    },
    "id": "fe007438",
    "papermill": {
     "duration": 0.032152,
     "end_time": "2022-06-22T16:11:20.399630",
     "exception": false,
     "start_time": "2022-06-22T16:11:20.367478",
     "status": "completed"
    },
    "tags": []
   },
   "outputs": [],
   "source": [
    "#Train test split for dataset \n",
    "X_train,X_test,Y_train,Y_test = train_test_split(X,Y,test_size = 0.2)\n",
    "train_data = dataset.CustomDataset(X_train,Y_train)\n",
    "test_data = dataset.CustomDataset(X_test,Y_test)\n"
   ]
  },
  {
   "cell_type": "markdown",
   "id": "a9a1af34",
   "metadata": {
    "id": "a9a1af34",
    "papermill": {
     "duration": 0.026129,
     "end_time": "2022-06-22T16:11:20.447810",
     "exception": false,
     "start_time": "2022-06-22T16:11:20.421681",
     "status": "completed"
    },
    "tags": []
   },
   "source": [
    "## Training Parameters "
   ]
  },
  {
   "cell_type": "code",
   "execution_count": 8,
   "id": "952b7fc8",
   "metadata": {
    "execution": {
     "iopub.execute_input": "2022-06-22T16:11:20.491818Z",
     "iopub.status.busy": "2022-06-22T16:11:20.490517Z",
     "iopub.status.idle": "2022-06-22T16:11:20.492843Z",
     "shell.execute_reply": "2022-06-22T16:11:20.493347Z"
    },
    "id": "952b7fc8",
    "papermill": {
     "duration": 0.026978,
     "end_time": "2022-06-22T16:11:20.493570",
     "exception": false,
     "start_time": "2022-06-22T16:11:20.466592",
     "status": "completed"
    },
    "tags": []
   },
   "outputs": [],
   "source": [
    "batch_size = 32\n",
    "n_epochs = 1000\n",
    "#Select the device \n",
    "device = torch.device('cuda' if torch.cuda.is_available() else 'cpu')"
   ]
  },
  {
   "cell_type": "markdown",
   "id": "a95e1600",
   "metadata": {
    "id": "a95e1600",
    "papermill": {
     "duration": 0.016006,
     "end_time": "2022-06-22T16:11:20.527408",
     "exception": false,
     "start_time": "2022-06-22T16:11:20.511402",
     "status": "completed"
    },
    "tags": []
   },
   "source": [
    "# ABC Pre-generator Model \n",
    "\n",
    "1. The catboost model is used as a pre-generator model for the ABC-GAN. \n",
    "2. The model is first trained on the entire dataset \n",
    "3. It generats X,Y pairs and we add some Gaussian noise with mean 0 and variance 1 to it which is then feed as input to the generator.\n"
   ]
  },
  {
   "cell_type": "code",
   "execution_count": 9,
   "id": "ff8ce7bd",
   "metadata": {
    "execution": {
     "iopub.execute_input": "2022-06-22T16:11:20.567783Z",
     "iopub.status.busy": "2022-06-22T16:11:20.566812Z",
     "iopub.status.idle": "2022-06-22T16:11:40.509209Z",
     "shell.execute_reply": "2022-06-22T16:11:40.510315Z"
    },
    "id": "ff8ce7bd",
    "papermill": {
     "duration": 19.967461,
     "end_time": "2022-06-22T16:11:40.510559",
     "exception": false,
     "start_time": "2022-06-22T16:11:20.543098",
     "status": "completed"
    },
    "tags": []
   },
   "outputs": [
    {
     "name": "stdout",
     "output_type": "stream",
     "text": [
      "Device used : cpu\n"
     ]
    },
    {
     "name": "stdout",
     "output_type": "stream",
     "text": [
      "epoch 0  | loss: 1.01755 | train_mse: 3.03093 | train_mae: 1.34434 |  0:00:00s\n",
      "epoch 1  | loss: 0.67444 | train_mse: 2.66152 | train_mae: 1.19151 |  0:00:00s\n"
     ]
    },
    {
     "name": "stdout",
     "output_type": "stream",
     "text": [
      "epoch 2  | loss: 0.62148 | train_mse: 1.72041 | train_mae: 0.95537 |  0:00:00s\n",
      "epoch 3  | loss: 0.57758 | train_mse: 1.32285 | train_mae: 0.85137 |  0:00:00s\n"
     ]
    },
    {
     "name": "stdout",
     "output_type": "stream",
     "text": [
      "epoch 4  | loss: 0.45492 | train_mse: 1.25857 | train_mae: 0.8714  |  0:00:00s\n",
      "epoch 5  | loss: 0.47586 | train_mse: 1.67868 | train_mae: 0.97155 |  0:00:00s\n",
      "epoch 6  | loss: 0.6282  | train_mse: 1.07627 | train_mae: 0.76264 |  0:00:00s\n"
     ]
    },
    {
     "name": "stdout",
     "output_type": "stream",
     "text": [
      "epoch 7  | loss: 0.37599 | train_mse: 0.65054 | train_mae: 0.58998 |  0:00:00s\n",
      "epoch 8  | loss: 0.36233 | train_mse: 0.81067 | train_mae: 0.67089 |  0:00:01s\n",
      "epoch 9  | loss: 0.39229 | train_mse: 0.76203 | train_mae: 0.65659 |  0:00:01s\n"
     ]
    },
    {
     "name": "stdout",
     "output_type": "stream",
     "text": [
      "epoch 10 | loss: 0.45477 | train_mse: 0.65304 | train_mae: 0.61386 |  0:00:01s\n",
      "epoch 11 | loss: 0.29766 | train_mse: 0.67455 | train_mae: 0.63981 |  0:00:01s\n"
     ]
    },
    {
     "name": "stdout",
     "output_type": "stream",
     "text": [
      "epoch 12 | loss: 0.32077 | train_mse: 0.84284 | train_mae: 0.68217 |  0:00:01s\n",
      "epoch 13 | loss: 0.38262 | train_mse: 1.048   | train_mae: 0.71943 |  0:00:01s\n"
     ]
    },
    {
     "name": "stdout",
     "output_type": "stream",
     "text": [
      "epoch 14 | loss: 0.28452 | train_mse: 0.84221 | train_mae: 0.62865 |  0:00:01s\n",
      "epoch 15 | loss: 0.18271 | train_mse: 0.55707 | train_mae: 0.51544 |  0:00:01s\n",
      "epoch 16 | loss: 0.30936 | train_mse: 0.42907 | train_mae: 0.4803  |  0:00:01s\n"
     ]
    },
    {
     "name": "stdout",
     "output_type": "stream",
     "text": [
      "epoch 17 | loss: 0.27026 | train_mse: 0.52639 | train_mae: 0.49078 |  0:00:02s\n",
      "epoch 18 | loss: 0.27052 | train_mse: 0.47865 | train_mae: 0.47542 |  0:00:02s\n"
     ]
    },
    {
     "name": "stdout",
     "output_type": "stream",
     "text": [
      "epoch 19 | loss: 0.26978 | train_mse: 0.36834 | train_mae: 0.44858 |  0:00:02s\n",
      "epoch 20 | loss: 0.24395 | train_mse: 0.27752 | train_mae: 0.39904 |  0:00:02s\n"
     ]
    },
    {
     "name": "stdout",
     "output_type": "stream",
     "text": [
      "epoch 21 | loss: 0.22124 | train_mse: 0.19446 | train_mae: 0.32717 |  0:00:02s\n",
      "epoch 22 | loss: 0.21312 | train_mse: 0.20889 | train_mae: 0.35313 |  0:00:02s\n"
     ]
    },
    {
     "name": "stdout",
     "output_type": "stream",
     "text": [
      "epoch 23 | loss: 0.19938 | train_mse: 0.19201 | train_mae: 0.34227 |  0:00:02s\n",
      "epoch 24 | loss: 0.20415 | train_mse: 0.1806  | train_mae: 0.33546 |  0:00:02s\n"
     ]
    },
    {
     "name": "stdout",
     "output_type": "stream",
     "text": [
      "epoch 25 | loss: 0.18585 | train_mse: 0.24743 | train_mae: 0.39739 |  0:00:02s\n",
      "epoch 26 | loss: 0.20493 | train_mse: 0.25641 | train_mae: 0.3986  |  0:00:03s\n",
      "epoch 27 | loss: 0.20806 | train_mse: 0.22221 | train_mae: 0.37508 |  0:00:03s\n"
     ]
    },
    {
     "name": "stdout",
     "output_type": "stream",
     "text": [
      "epoch 28 | loss: 0.16764 | train_mse: 0.22182 | train_mae: 0.37665 |  0:00:03s\n",
      "epoch 29 | loss: 0.18071 | train_mse: 0.20824 | train_mae: 0.36459 |  0:00:03s\n"
     ]
    },
    {
     "name": "stdout",
     "output_type": "stream",
     "text": [
      "epoch 30 | loss: 0.23116 | train_mse: 0.1896  | train_mae: 0.34863 |  0:00:03s\n",
      "epoch 31 | loss: 0.14922 | train_mse: 0.16059 | train_mae: 0.32197 |  0:00:03s\n"
     ]
    },
    {
     "name": "stdout",
     "output_type": "stream",
     "text": [
      "epoch 32 | loss: 0.18261 | train_mse: 0.11614 | train_mae: 0.28487 |  0:00:03s\n",
      "epoch 33 | loss: 0.2688  | train_mse: 0.18349 | train_mae: 0.3344  |  0:00:03s\n",
      "epoch 34 | loss: 0.13088 | train_mse: 0.2742  | train_mae: 0.37635 |  0:00:03s\n"
     ]
    },
    {
     "name": "stdout",
     "output_type": "stream",
     "text": [
      "epoch 35 | loss: 0.13335 | train_mse: 0.21281 | train_mae: 0.34889 |  0:00:03s\n",
      "epoch 36 | loss: 0.16547 | train_mse: 0.16138 | train_mae: 0.31741 |  0:00:04s\n",
      "epoch 37 | loss: 0.16786 | train_mse: 0.13966 | train_mae: 0.30501 |  0:00:04s\n"
     ]
    },
    {
     "name": "stdout",
     "output_type": "stream",
     "text": [
      "epoch 38 | loss: 0.29767 | train_mse: 0.12357 | train_mae: 0.28709 |  0:00:04s\n",
      "epoch 39 | loss: 0.27734 | train_mse: 0.12044 | train_mae: 0.28139 |  0:00:04s\n",
      "epoch 40 | loss: 0.30356 | train_mse: 0.19201 | train_mae: 0.32733 |  0:00:04s\n"
     ]
    },
    {
     "name": "stdout",
     "output_type": "stream",
     "text": [
      "epoch 41 | loss: 0.24703 | train_mse: 0.29012 | train_mae: 0.38889 |  0:00:04s\n",
      "epoch 42 | loss: 0.36174 | train_mse: 0.18442 | train_mae: 0.33096 |  0:00:04s\n"
     ]
    },
    {
     "name": "stdout",
     "output_type": "stream",
     "text": [
      "epoch 43 | loss: 0.27245 | train_mse: 0.12247 | train_mae: 0.28236 |  0:00:04s\n",
      "epoch 44 | loss: 0.12266 | train_mse: 0.12609 | train_mae: 0.28318 |  0:00:04s\n",
      "epoch 45 | loss: 0.15745 | train_mse: 0.13572 | train_mae: 0.28691 |  0:00:04s\n"
     ]
    },
    {
     "name": "stdout",
     "output_type": "stream",
     "text": [
      "epoch 46 | loss: 0.41378 | train_mse: 0.1155  | train_mae: 0.26562 |  0:00:05s\n",
      "epoch 47 | loss: 0.18232 | train_mse: 0.10796 | train_mae: 0.25651 |  0:00:05s\n",
      "epoch 48 | loss: 0.13339 | train_mse: 0.11223 | train_mae: 0.25118 |  0:00:05s\n"
     ]
    },
    {
     "name": "stdout",
     "output_type": "stream",
     "text": [
      "epoch 49 | loss: 0.3438  | train_mse: 0.12791 | train_mae: 0.26484 |  0:00:05s\n",
      "epoch 50 | loss: 0.15349 | train_mse: 0.21529 | train_mae: 0.32552 |  0:00:05s\n"
     ]
    },
    {
     "name": "stdout",
     "output_type": "stream",
     "text": [
      "epoch 51 | loss: 0.22375 | train_mse: 0.17314 | train_mae: 0.29425 |  0:00:05s\n",
      "epoch 52 | loss: 0.16989 | train_mse: 0.17871 | train_mae: 0.32495 |  0:00:05s\n"
     ]
    },
    {
     "name": "stdout",
     "output_type": "stream",
     "text": [
      "epoch 53 | loss: 0.16069 | train_mse: 0.17673 | train_mae: 0.32796 |  0:00:05s\n"
     ]
    },
    {
     "name": "stdout",
     "output_type": "stream",
     "text": [
      "epoch 54 | loss: 0.13588 | train_mse: 0.12516 | train_mae: 0.2841  |  0:00:06s\n",
      "epoch 55 | loss: 0.1299  | train_mse: 0.14238 | train_mae: 0.29557 |  0:00:06s\n",
      "epoch 56 | loss: 0.15126 | train_mse: 0.14522 | train_mae: 0.28525 |  0:00:06s\n"
     ]
    },
    {
     "name": "stdout",
     "output_type": "stream",
     "text": [
      "epoch 57 | loss: 0.17545 | train_mse: 0.11817 | train_mae: 0.26275 |  0:00:06s\n"
     ]
    },
    {
     "name": "stdout",
     "output_type": "stream",
     "text": [
      "epoch 58 | loss: 0.14806 | train_mse: 0.13142 | train_mae: 0.27869 |  0:00:06s\n",
      "epoch 59 | loss: 0.14944 | train_mse: 0.15024 | train_mae: 0.30483 |  0:00:06s\n",
      "epoch 60 | loss: 0.1905  | train_mse: 0.17844 | train_mae: 0.31723 |  0:00:06s\n"
     ]
    },
    {
     "name": "stdout",
     "output_type": "stream",
     "text": [
      "epoch 61 | loss: 0.14648 | train_mse: 0.16265 | train_mae: 0.30977 |  0:00:06s\n",
      "epoch 62 | loss: 0.1305  | train_mse: 0.14768 | train_mae: 0.29144 |  0:00:07s\n",
      "epoch 63 | loss: 0.13962 | train_mse: 0.12605 | train_mae: 0.2694  |  0:00:07s\n"
     ]
    },
    {
     "name": "stdout",
     "output_type": "stream",
     "text": [
      "epoch 64 | loss: 0.09996 | train_mse: 0.11269 | train_mae: 0.27507 |  0:00:07s\n",
      "epoch 65 | loss: 0.14567 | train_mse: 0.11645 | train_mae: 0.27561 |  0:00:07s\n",
      "epoch 66 | loss: 0.17859 | train_mse: 0.10302 | train_mae: 0.25965 |  0:00:07s\n"
     ]
    },
    {
     "name": "stdout",
     "output_type": "stream",
     "text": [
      "epoch 67 | loss: 0.19783 | train_mse: 0.08995 | train_mae: 0.24678 |  0:00:07s\n",
      "epoch 68 | loss: 0.14567 | train_mse: 0.08833 | train_mae: 0.23849 |  0:00:07s\n",
      "epoch 69 | loss: 0.16562 | train_mse: 0.10229 | train_mae: 0.25407 |  0:00:07s\n"
     ]
    },
    {
     "name": "stdout",
     "output_type": "stream",
     "text": [
      "epoch 70 | loss: 0.21465 | train_mse: 0.09869 | train_mae: 0.25717 |  0:00:07s\n",
      "epoch 71 | loss: 0.17792 | train_mse: 0.1035  | train_mae: 0.26737 |  0:00:07s\n",
      "epoch 72 | loss: 0.27612 | train_mse: 0.11095 | train_mae: 0.27357 |  0:00:07s\n"
     ]
    },
    {
     "name": "stdout",
     "output_type": "stream",
     "text": [
      "epoch 73 | loss: 0.20756 | train_mse: 0.10002 | train_mae: 0.25396 |  0:00:07s\n",
      "epoch 74 | loss: 0.10342 | train_mse: 0.09939 | train_mae: 0.24891 |  0:00:07s\n",
      "epoch 75 | loss: 0.20467 | train_mse: 0.11963 | train_mae: 0.27036 |  0:00:08s\n"
     ]
    },
    {
     "name": "stdout",
     "output_type": "stream",
     "text": [
      "epoch 76 | loss: 0.1918  | train_mse: 0.12437 | train_mae: 0.27308 |  0:00:08s\n",
      "epoch 77 | loss: 0.12069 | train_mse: 0.11191 | train_mae: 0.26843 |  0:00:08s\n",
      "epoch 78 | loss: 0.14778 | train_mse: 0.10901 | train_mae: 0.27192 |  0:00:08s\n"
     ]
    },
    {
     "name": "stdout",
     "output_type": "stream",
     "text": [
      "epoch 79 | loss: 0.10427 | train_mse: 0.13032 | train_mae: 0.28961 |  0:00:08s\n",
      "epoch 80 | loss: 0.1336  | train_mse: 0.14146 | train_mae: 0.29453 |  0:00:08s\n",
      "epoch 81 | loss: 0.10348 | train_mse: 0.11933 | train_mae: 0.25781 |  0:00:08s\n"
     ]
    },
    {
     "name": "stdout",
     "output_type": "stream",
     "text": [
      "epoch 82 | loss: 0.12366 | train_mse: 0.11139 | train_mae: 0.2429  |  0:00:08s\n",
      "epoch 83 | loss: 0.11121 | train_mse: 0.10704 | train_mae: 0.24471 |  0:00:08s\n",
      "epoch 84 | loss: 0.16716 | train_mse: 0.09058 | train_mae: 0.22839 |  0:00:08s\n"
     ]
    },
    {
     "name": "stdout",
     "output_type": "stream",
     "text": [
      "epoch 85 | loss: 0.1133  | train_mse: 0.09005 | train_mae: 0.22748 |  0:00:08s\n",
      "epoch 86 | loss: 0.15145 | train_mse: 0.09192 | train_mae: 0.23446 |  0:00:08s\n",
      "epoch 87 | loss: 0.14942 | train_mse: 0.08321 | train_mae: 0.22413 |  0:00:09s\n"
     ]
    },
    {
     "name": "stdout",
     "output_type": "stream",
     "text": [
      "epoch 88 | loss: 0.1998  | train_mse: 0.09344 | train_mae: 0.23992 |  0:00:09s\n",
      "epoch 89 | loss: 0.16936 | train_mse: 0.11538 | train_mae: 0.25681 |  0:00:09s\n",
      "epoch 90 | loss: 0.09281 | train_mse: 0.10885 | train_mae: 0.26156 |  0:00:09s\n"
     ]
    },
    {
     "name": "stdout",
     "output_type": "stream",
     "text": [
      "epoch 91 | loss: 0.12239 | train_mse: 0.08651 | train_mae: 0.23503 |  0:00:09s\n",
      "epoch 92 | loss: 0.271   | train_mse: 0.13172 | train_mae: 0.25994 |  0:00:09s\n"
     ]
    },
    {
     "name": "stdout",
     "output_type": "stream",
     "text": [
      "epoch 93 | loss: 0.17637 | train_mse: 0.09741 | train_mae: 0.23058 |  0:00:09s\n",
      "epoch 94 | loss: 0.12998 | train_mse: 0.09231 | train_mae: 0.22853 |  0:00:09s\n",
      "epoch 95 | loss: 0.12517 | train_mse: 0.10308 | train_mae: 0.24248 |  0:00:09s\n"
     ]
    },
    {
     "name": "stdout",
     "output_type": "stream",
     "text": [
      "epoch 96 | loss: 0.19926 | train_mse: 0.10225 | train_mae: 0.24669 |  0:00:09s\n",
      "epoch 97 | loss: 0.1187  | train_mse: 0.08576 | train_mae: 0.23181 |  0:00:10s\n"
     ]
    },
    {
     "name": "stdout",
     "output_type": "stream",
     "text": [
      "epoch 98 | loss: 0.22187 | train_mse: 0.07719 | train_mae: 0.22997 |  0:00:10s\n",
      "epoch 99 | loss: 0.14773 | train_mse: 0.07391 | train_mae: 0.22665 |  0:00:10s\n",
      "epoch 100| loss: 0.20767 | train_mse: 0.07138 | train_mae: 0.21924 |  0:00:10s\n"
     ]
    },
    {
     "name": "stdout",
     "output_type": "stream",
     "text": [
      "epoch 101| loss: 0.15458 | train_mse: 0.07502 | train_mae: 0.22035 |  0:00:10s\n"
     ]
    },
    {
     "name": "stdout",
     "output_type": "stream",
     "text": [
      "epoch 102| loss: 0.11575 | train_mse: 0.08303 | train_mae: 0.22339 |  0:00:10s\n"
     ]
    },
    {
     "name": "stdout",
     "output_type": "stream",
     "text": [
      "epoch 103| loss: 0.14646 | train_mse: 0.11351 | train_mae: 0.25024 |  0:00:11s\n",
      "epoch 104| loss: 0.11512 | train_mse: 0.12074 | train_mae: 0.2579  |  0:00:11s\n"
     ]
    },
    {
     "name": "stdout",
     "output_type": "stream",
     "text": [
      "epoch 105| loss: 0.19394 | train_mse: 0.1082  | train_mae: 0.25015 |  0:00:11s\n",
      "epoch 106| loss: 0.11504 | train_mse: 0.08096 | train_mae: 0.21684 |  0:00:11s\n",
      "epoch 107| loss: 0.09825 | train_mse: 0.07026 | train_mae: 0.20601 |  0:00:11s\n"
     ]
    },
    {
     "name": "stdout",
     "output_type": "stream",
     "text": [
      "epoch 108| loss: 0.10529 | train_mse: 0.07853 | train_mae: 0.21969 |  0:00:11s\n",
      "epoch 109| loss: 0.22087 | train_mse: 0.08565 | train_mae: 0.22363 |  0:00:11s\n",
      "epoch 110| loss: 0.13934 | train_mse: 0.0701  | train_mae: 0.20533 |  0:00:12s\n"
     ]
    },
    {
     "name": "stdout",
     "output_type": "stream",
     "text": [
      "epoch 111| loss: 0.15256 | train_mse: 0.06757 | train_mae: 0.20093 |  0:00:12s\n",
      "epoch 112| loss: 0.17563 | train_mse: 0.06757 | train_mae: 0.20305 |  0:00:12s\n",
      "epoch 113| loss: 0.07714 | train_mse: 0.06644 | train_mae: 0.19398 |  0:00:12s\n"
     ]
    },
    {
     "name": "stdout",
     "output_type": "stream",
     "text": [
      "epoch 114| loss: 0.32068 | train_mse: 0.06553 | train_mae: 0.19835 |  0:00:12s\n",
      "epoch 115| loss: 0.10674 | train_mse: 0.07298 | train_mae: 0.21131 |  0:00:12s\n",
      "epoch 116| loss: 0.10666 | train_mse: 0.08735 | train_mae: 0.23438 |  0:00:12s\n"
     ]
    },
    {
     "name": "stdout",
     "output_type": "stream",
     "text": [
      "epoch 117| loss: 0.17503 | train_mse: 0.07987 | train_mae: 0.22303 |  0:00:12s\n",
      "epoch 118| loss: 0.18539 | train_mse: 0.0748  | train_mae: 0.21289 |  0:00:12s\n",
      "epoch 119| loss: 0.07996 | train_mse: 0.07525 | train_mae: 0.21906 |  0:00:12s\n"
     ]
    },
    {
     "name": "stdout",
     "output_type": "stream",
     "text": [
      "epoch 120| loss: 0.1194  | train_mse: 0.0733  | train_mae: 0.21521 |  0:00:12s\n",
      "epoch 121| loss: 0.12663 | train_mse: 0.07183 | train_mae: 0.21791 |  0:00:12s\n",
      "epoch 122| loss: 0.12654 | train_mse: 0.07813 | train_mae: 0.22687 |  0:00:13s\n"
     ]
    },
    {
     "name": "stdout",
     "output_type": "stream",
     "text": [
      "epoch 123| loss: 0.11613 | train_mse: 0.07998 | train_mae: 0.23024 |  0:00:13s\n",
      "epoch 124| loss: 0.09205 | train_mse: 0.08029 | train_mae: 0.22582 |  0:00:13s\n",
      "epoch 125| loss: 0.18705 | train_mse: 0.06351 | train_mae: 0.2039  |  0:00:13s\n"
     ]
    },
    {
     "name": "stdout",
     "output_type": "stream",
     "text": [
      "epoch 126| loss: 0.20208 | train_mse: 0.06286 | train_mae: 0.19787 |  0:00:13s\n",
      "epoch 127| loss: 0.11005 | train_mse: 0.07725 | train_mae: 0.2126  |  0:00:13s\n",
      "epoch 128| loss: 0.09171 | train_mse: 0.07161 | train_mae: 0.21562 |  0:00:13s\n"
     ]
    },
    {
     "name": "stdout",
     "output_type": "stream",
     "text": [
      "epoch 129| loss: 0.1728  | train_mse: 0.07259 | train_mae: 0.21663 |  0:00:13s\n",
      "epoch 130| loss: 0.14058 | train_mse: 0.07602 | train_mae: 0.22305 |  0:00:13s\n",
      "epoch 131| loss: 0.09385 | train_mse: 0.08024 | train_mae: 0.22866 |  0:00:13s\n"
     ]
    },
    {
     "name": "stdout",
     "output_type": "stream",
     "text": [
      "epoch 132| loss: 0.12131 | train_mse: 0.07334 | train_mae: 0.21658 |  0:00:13s\n",
      "epoch 133| loss: 0.09504 | train_mse: 0.06313 | train_mae: 0.20062 |  0:00:13s\n",
      "epoch 134| loss: 0.08872 | train_mse: 0.08006 | train_mae: 0.21969 |  0:00:13s\n"
     ]
    },
    {
     "name": "stdout",
     "output_type": "stream",
     "text": [
      "epoch 135| loss: 0.12131 | train_mse: 0.08927 | train_mae: 0.22922 |  0:00:14s\n",
      "epoch 136| loss: 0.18795 | train_mse: 0.0807  | train_mae: 0.22025 |  0:00:14s\n",
      "epoch 137| loss: 0.09814 | train_mse: 0.08073 | train_mae: 0.21956 |  0:00:14s\n"
     ]
    },
    {
     "name": "stdout",
     "output_type": "stream",
     "text": [
      "epoch 138| loss: 0.11895 | train_mse: 0.07527 | train_mae: 0.20905 |  0:00:14s\n",
      "epoch 139| loss: 0.12866 | train_mse: 0.07789 | train_mae: 0.20981 |  0:00:14s\n",
      "epoch 140| loss: 0.11965 | train_mse: 0.09361 | train_mae: 0.22515 |  0:00:14s\n"
     ]
    },
    {
     "name": "stdout",
     "output_type": "stream",
     "text": [
      "epoch 141| loss: 0.12668 | train_mse: 0.1102  | train_mae: 0.24481 |  0:00:14s\n",
      "epoch 142| loss: 0.11874 | train_mse: 0.0988  | train_mae: 0.2301  |  0:00:14s\n",
      "epoch 143| loss: 0.13401 | train_mse: 0.08995 | train_mae: 0.21763 |  0:00:14s\n"
     ]
    },
    {
     "name": "stdout",
     "output_type": "stream",
     "text": [
      "epoch 144| loss: 0.13847 | train_mse: 0.07332 | train_mae: 0.21592 |  0:00:14s\n",
      "epoch 145| loss: 0.20329 | train_mse: 0.06903 | train_mae: 0.21466 |  0:00:14s\n"
     ]
    },
    {
     "name": "stdout",
     "output_type": "stream",
     "text": [
      "epoch 146| loss: 0.1589  | train_mse: 0.06584 | train_mae: 0.2082  |  0:00:15s\n",
      "epoch 147| loss: 0.12826 | train_mse: 0.06046 | train_mae: 0.19744 |  0:00:15s\n",
      "epoch 148| loss: 0.14488 | train_mse: 0.05978 | train_mae: 0.19706 |  0:00:15s\n"
     ]
    },
    {
     "name": "stdout",
     "output_type": "stream",
     "text": [
      "epoch 149| loss: 0.1448  | train_mse: 0.06562 | train_mae: 0.20504 |  0:00:15s\n",
      "epoch 150| loss: 0.11863 | train_mse: 0.06534 | train_mae: 0.20574 |  0:00:15s\n",
      "epoch 151| loss: 0.13168 | train_mse: 0.06265 | train_mae: 0.19839 |  0:00:15s\n"
     ]
    },
    {
     "name": "stdout",
     "output_type": "stream",
     "text": [
      "epoch 152| loss: 0.08895 | train_mse: 0.0645  | train_mae: 0.20398 |  0:00:15s\n",
      "epoch 153| loss: 0.16048 | train_mse: 0.06265 | train_mae: 0.20036 |  0:00:15s\n",
      "epoch 154| loss: 0.08647 | train_mse: 0.06257 | train_mae: 0.20364 |  0:00:15s\n"
     ]
    },
    {
     "name": "stdout",
     "output_type": "stream",
     "text": [
      "epoch 155| loss: 0.08542 | train_mse: 0.05907 | train_mae: 0.1971  |  0:00:15s\n",
      "epoch 156| loss: 0.13899 | train_mse: 0.05595 | train_mae: 0.18922 |  0:00:15s\n",
      "epoch 157| loss: 0.09652 | train_mse: 0.05446 | train_mae: 0.18714 |  0:00:15s\n"
     ]
    },
    {
     "name": "stdout",
     "output_type": "stream",
     "text": [
      "epoch 158| loss: 0.13046 | train_mse: 0.04894 | train_mae: 0.17804 |  0:00:15s\n",
      "epoch 159| loss: 0.08275 | train_mse: 0.06835 | train_mae: 0.21043 |  0:00:16s\n",
      "epoch 160| loss: 0.14162 | train_mse: 0.10356 | train_mae: 0.24222 |  0:00:16s\n"
     ]
    },
    {
     "name": "stdout",
     "output_type": "stream",
     "text": [
      "epoch 161| loss: 0.07625 | train_mse: 0.09408 | train_mae: 0.22944 |  0:00:16s\n",
      "epoch 162| loss: 0.11915 | train_mse: 0.09744 | train_mae: 0.22816 |  0:00:16s\n",
      "epoch 163| loss: 0.18128 | train_mse: 0.10931 | train_mae: 0.23884 |  0:00:16s\n"
     ]
    },
    {
     "name": "stdout",
     "output_type": "stream",
     "text": [
      "epoch 164| loss: 0.20028 | train_mse: 0.09187 | train_mae: 0.22867 |  0:00:16s\n",
      "epoch 165| loss: 0.13237 | train_mse: 0.09198 | train_mae: 0.23324 |  0:00:16s\n",
      "epoch 166| loss: 0.13018 | train_mse: 0.07662 | train_mae: 0.21961 |  0:00:16s\n"
     ]
    },
    {
     "name": "stdout",
     "output_type": "stream",
     "text": [
      "epoch 167| loss: 0.10755 | train_mse: 0.08262 | train_mae: 0.23483 |  0:00:16s\n",
      "epoch 168| loss: 0.10822 | train_mse: 0.14699 | train_mae: 0.28723 |  0:00:16s\n",
      "epoch 169| loss: 0.19613 | train_mse: 0.18422 | train_mae: 0.30338 |  0:00:16s\n"
     ]
    },
    {
     "name": "stdout",
     "output_type": "stream",
     "text": [
      "epoch 170| loss: 0.14128 | train_mse: 0.1431  | train_mae: 0.26705 |  0:00:16s\n",
      "epoch 171| loss: 0.11645 | train_mse: 0.06364 | train_mae: 0.19964 |  0:00:16s\n",
      "epoch 172| loss: 0.19903 | train_mse: 0.06224 | train_mae: 0.19197 |  0:00:17s\n"
     ]
    },
    {
     "name": "stdout",
     "output_type": "stream",
     "text": [
      "epoch 173| loss: 0.15647 | train_mse: 0.06049 | train_mae: 0.18914 |  0:00:17s\n",
      "epoch 174| loss: 0.15932 | train_mse: 0.06938 | train_mae: 0.2115  |  0:00:17s\n",
      "epoch 175| loss: 0.1088  | train_mse: 0.06486 | train_mae: 0.20371 |  0:00:17s\n"
     ]
    },
    {
     "name": "stdout",
     "output_type": "stream",
     "text": [
      "epoch 176| loss: 0.10748 | train_mse: 0.06824 | train_mae: 0.20358 |  0:00:17s\n",
      "epoch 177| loss: 0.14941 | train_mse: 0.05735 | train_mae: 0.19125 |  0:00:17s\n",
      "epoch 178| loss: 0.16104 | train_mse: 0.07629 | train_mae: 0.21471 |  0:00:17s\n"
     ]
    },
    {
     "name": "stdout",
     "output_type": "stream",
     "text": [
      "epoch 179| loss: 0.09859 | train_mse: 0.0826  | train_mae: 0.2172  |  0:00:17s\n",
      "epoch 180| loss: 0.09103 | train_mse: 0.07746 | train_mae: 0.2165  |  0:00:17s\n",
      "epoch 181| loss: 0.10145 | train_mse: 0.06681 | train_mae: 0.19964 |  0:00:17s\n"
     ]
    },
    {
     "name": "stdout",
     "output_type": "stream",
     "text": [
      "epoch 182| loss: 0.12887 | train_mse: 0.06169 | train_mae: 0.19258 |  0:00:17s\n",
      "epoch 183| loss: 0.17122 | train_mse: 0.0672  | train_mae: 0.20054 |  0:00:17s\n",
      "epoch 184| loss: 0.14117 | train_mse: 0.06127 | train_mae: 0.19409 |  0:00:17s\n"
     ]
    },
    {
     "name": "stdout",
     "output_type": "stream",
     "text": [
      "epoch 185| loss: 0.08456 | train_mse: 0.05538 | train_mae: 0.19023 |  0:00:18s\n",
      "epoch 186| loss: 0.11021 | train_mse: 0.05655 | train_mae: 0.19483 |  0:00:18s\n",
      "epoch 187| loss: 0.10982 | train_mse: 0.05381 | train_mae: 0.18279 |  0:00:18s\n"
     ]
    },
    {
     "name": "stdout",
     "output_type": "stream",
     "text": [
      "epoch 188| loss: 0.14695 | train_mse: 0.0819  | train_mae: 0.2074  |  0:00:18s\n",
      "epoch 189| loss: 0.10725 | train_mse: 0.06775 | train_mae: 0.19627 |  0:00:18s\n",
      "epoch 190| loss: 0.07902 | train_mse: 0.0529  | train_mae: 0.18704 |  0:00:18s\n"
     ]
    },
    {
     "name": "stdout",
     "output_type": "stream",
     "text": [
      "epoch 191| loss: 0.14764 | train_mse: 0.05616 | train_mae: 0.19152 |  0:00:18s\n",
      "epoch 192| loss: 0.15549 | train_mse: 0.07206 | train_mae: 0.2183  |  0:00:18s\n",
      "epoch 193| loss: 0.08362 | train_mse: 0.09529 | train_mae: 0.23742 |  0:00:18s\n"
     ]
    },
    {
     "name": "stdout",
     "output_type": "stream",
     "text": [
      "epoch 194| loss: 0.11611 | train_mse: 0.0862  | train_mae: 0.23391 |  0:00:18s\n",
      "epoch 195| loss: 0.07528 | train_mse: 0.08051 | train_mae: 0.2286  |  0:00:18s\n",
      "epoch 196| loss: 0.08041 | train_mse: 0.06918 | train_mae: 0.20945 |  0:00:18s\n"
     ]
    },
    {
     "name": "stdout",
     "output_type": "stream",
     "text": [
      "epoch 197| loss: 0.09032 | train_mse: 0.0587  | train_mae: 0.19681 |  0:00:18s\n",
      "epoch 198| loss: 0.12095 | train_mse: 0.06992 | train_mae: 0.21087 |  0:00:19s\n",
      "epoch 199| loss: 0.10827 | train_mse: 0.05948 | train_mae: 0.19614 |  0:00:19s\n"
     ]
    },
    {
     "name": "stdout",
     "output_type": "stream",
     "text": [
      "epoch 200| loss: 0.08018 | train_mse: 0.05415 | train_mae: 0.19007 |  0:00:19s\n",
      "epoch 201| loss: 0.11412 | train_mse: 0.05681 | train_mae: 0.18475 |  0:00:19s\n",
      "epoch 202| loss: 0.17416 | train_mse: 0.06685 | train_mae: 0.1951  |  0:00:19s\n"
     ]
    },
    {
     "name": "stdout",
     "output_type": "stream",
     "text": [
      "epoch 203| loss: 0.17426 | train_mse: 0.08187 | train_mae: 0.2199  |  0:00:19s\n",
      "epoch 204| loss: 0.18238 | train_mse: 0.08339 | train_mae: 0.22568 |  0:00:19s\n",
      "epoch 205| loss: 0.15461 | train_mse: 0.06341 | train_mae: 0.20022 |  0:00:19s\n"
     ]
    },
    {
     "name": "stdout",
     "output_type": "stream",
     "text": [
      "epoch 206| loss: 0.16624 | train_mse: 0.06246 | train_mae: 0.20039 |  0:00:19s\n",
      "epoch 207| loss: 0.07961 | train_mse: 0.06658 | train_mae: 0.20353 |  0:00:19s\n",
      "epoch 208| loss: 0.08454 | train_mse: 0.07286 | train_mae: 0.20834 |  0:00:19s\n",
      "\n",
      "Early stopping occurred at epoch 208 with best_epoch = 158 and best_train_mae = 0.17804\n",
      "Best weights from best epoch are automatically used!\n"
     ]
    }
   ],
   "source": [
    "#Train the Model\n",
    "\n",
    "Y_train = np.reshape(Y_train, (-1, 1))\n",
    "Y_test = np.reshape(Y_test, (-1, 1))\n",
    "\n",
    "prior_model = TabNetRegressor(optimizer_fn=torch.optim.Adam, optimizer_params=dict(lr = 0.02),\n",
    "          #scheduler_params={\"step_size\":10, ], \"gamma\":0.9},\n",
    "          #scheduler_fn=torch.optim.lr_scheduler.StepLR\n",
    "          )  #TabNetRegressor()\n",
    "\n",
    "prior_model.fit(X_train,Y_train,eval_set=[(X_train, Y_train)],\n",
    "            eval_name=['train'], \n",
    "            eval_metric=[ 'mse', 'mae'], \n",
    "            max_epochs = n_epochs, \n",
    "            batch_size = batch_size,\n",
    "            patience=50\n",
    "            )"
   ]
  },
  {
   "cell_type": "code",
   "execution_count": 10,
   "id": "af65dcda",
   "metadata": {
    "execution": {
     "iopub.execute_input": "2022-06-22T16:11:40.600662Z",
     "iopub.status.busy": "2022-06-22T16:11:40.599681Z",
     "iopub.status.idle": "2022-06-22T16:11:40.620767Z",
     "shell.execute_reply": "2022-06-22T16:11:40.621233Z"
    },
    "id": "af65dcda",
    "papermill": {
     "duration": 0.074117,
     "end_time": "2022-06-22T16:11:40.621538",
     "exception": false,
     "start_time": "2022-06-22T16:11:40.547421",
     "status": "completed"
    },
    "tags": []
   },
   "outputs": [
    {
     "data": {
      "application/scrapbook.scrap.json+json": {
       "data": 0.6498146094650687,
       "encoder": "json",
       "name": "Prior Model MSE",
       "version": 1
      }
     },
     "metadata": {
      "scrapbook": {
       "data": true,
       "display": false,
       "name": "Prior Model MSE"
      }
     },
     "output_type": "display_data"
    },
    {
     "data": {
      "application/scrapbook.scrap.json+json": {
       "data": 0.6732535990885584,
       "encoder": "json",
       "name": "ABC Pre-generator MSE",
       "version": 1
      }
     },
     "metadata": {
      "scrapbook": {
       "data": true,
       "display": false,
       "name": "ABC Pre-generator MSE"
      }
     },
     "output_type": "display_data"
    },
    {
     "data": {
      "application/scrapbook.scrap.json+json": {
       "data": 0.5557678730388954,
       "encoder": "json",
       "name": "Prior Model MSE",
       "version": 1
      }
     },
     "metadata": {
      "scrapbook": {
       "data": true,
       "display": false,
       "name": "Prior Model MSE"
      }
     },
     "output_type": "display_data"
    },
    {
     "data": {
      "application/scrapbook.scrap.json+json": {
       "data": 0.5718182791314186,
       "encoder": "json",
       "name": "ABC Pre-generator MSE",
       "version": 1
      }
     },
     "metadata": {
      "scrapbook": {
       "data": true,
       "display": false,
       "name": "ABC Pre-generator MSE"
      }
     },
     "output_type": "display_data"
    }
   ],
   "source": [
    "y_pred = prior_model.predict(X_test)\n",
    "y_abc = y_pred + np.random.normal(0,variance, y_pred.shape) + bias \n",
    "mse = mean_squared_error(y_pred,Y_test)\n",
    "sb.glue(\"Prior Model MSE\",mse)\n",
    "mse = mean_squared_error(y_abc,Y_test)\n",
    "sb.glue(\"ABC Pre-generator MSE\",mse)\n",
    "mae = mean_absolute_error(y_pred,Y_test)\n",
    "sb.glue(\"Prior Model MSE\",mae)\n",
    "mae = mean_absolute_error(y_abc,Y_test)\n",
    "sb.glue(\"ABC Pre-generator MSE\",mae)"
   ]
  },
  {
   "cell_type": "markdown",
   "id": "25609da2",
   "metadata": {
    "papermill": {
     "duration": 0.043446,
     "end_time": "2022-06-22T16:11:40.701072",
     "exception": false,
     "start_time": "2022-06-22T16:11:40.657626",
     "status": "completed"
    },
    "tags": []
   },
   "source": [
    "# ABC GAN Model"
   ]
  },
  {
   "cell_type": "code",
   "execution_count": 11,
   "id": "dfc3464d",
   "metadata": {
    "execution": {
     "iopub.execute_input": "2022-06-22T16:11:40.794373Z",
     "iopub.status.busy": "2022-06-22T16:11:40.793419Z",
     "iopub.status.idle": "2022-06-22T16:11:40.799379Z",
     "shell.execute_reply": "2022-06-22T16:11:40.800006Z"
    },
    "papermill": {
     "duration": 0.053797,
     "end_time": "2022-06-22T16:11:40.800227",
     "exception": false,
     "start_time": "2022-06-22T16:11:40.746430",
     "status": "completed"
    },
    "tags": []
   },
   "outputs": [],
   "source": [
    "gen = network.Generator(n_features+1).to(device)\n",
    "disc = network.Discriminator(n_features+1).to(device)\n",
    "\n",
    "criterion = torch.nn.BCELoss()\n",
    "gen_opt = torch.optim.Adam(gen.parameters(), lr=0.001, betas=(0.5, 0.999))\n",
    "disc_opt = torch.optim.Adam(disc.parameters(), lr=0.001, betas=(0.5, 0.999))"
   ]
  },
  {
   "cell_type": "code",
   "execution_count": 12,
   "id": "b75fdd85",
   "metadata": {
    "execution": {
     "iopub.execute_input": "2022-06-22T16:11:40.887616Z",
     "iopub.status.busy": "2022-06-22T16:11:40.885221Z",
     "iopub.status.idle": "2022-06-22T16:13:20.422493Z",
     "shell.execute_reply": "2022-06-22T16:13:20.420929Z"
    },
    "papermill": {
     "duration": 99.588886,
     "end_time": "2022-06-22T16:13:20.426050",
     "exception": false,
     "start_time": "2022-06-22T16:11:40.837164",
     "status": "completed"
    },
    "tags": []
   },
   "outputs": [
    {
     "data": {
      "image/png": "[encoded data removed]",
      "text/plain": [
       "<Figure size 432x288 with 1 Axes>"
      ]
     },
     "metadata": {
      "needs_background": "light"
     },
     "output_type": "display_data"
    },
    {
     "data": {
      "image/png": "[encoded data removed]",
      "text/plain": [
       "<Figure size 432x288 with 1 Axes>"
      ]
     },
     "metadata": {
      "needs_background": "light"
     },
     "output_type": "display_data"
    }
   ],
   "source": [
    "#Training the ABC_GAN \n",
    "ABC_train_test2.training_GAN(disc,gen,disc_opt,gen_opt,train_data,batch_size,n_epochs,criterion,prior_model,variance,bias,device)"
   ]
  },
  {
   "cell_type": "code",
   "execution_count": 13,
   "id": "1fa7c368",
   "metadata": {
    "execution": {
     "iopub.execute_input": "2022-06-22T16:13:20.535801Z",
     "iopub.status.busy": "2022-06-22T16:13:20.534981Z",
     "iopub.status.idle": "2022-06-22T16:13:21.560113Z",
     "shell.execute_reply": "2022-06-22T16:13:21.563013Z"
    },
    "papermill": {
     "duration": 1.09104,
     "end_time": "2022-06-22T16:13:21.563339",
     "exception": false,
     "start_time": "2022-06-22T16:13:20.472299",
     "status": "completed"
    },
    "tags": []
   },
   "outputs": [
    {
     "data": {
      "application/scrapbook.scrap.json+json": {
       "data": 0.7747158162983919,
       "encoder": "json",
       "name": "ABC-GAN Model 1 MSE",
       "version": 1
      }
     },
     "metadata": {
      "scrapbook": {
       "data": true,
       "display": false,
       "name": "ABC-GAN Model 1 MSE"
      }
     },
     "output_type": "display_data"
    },
    {
     "data": {
      "application/scrapbook.scrap.json+json": {
       "data": 0.6265693216770888,
       "encoder": "json",
       "name": "ABC-GAN Model 1 MAE",
       "version": 1
      }
     },
     "metadata": {
      "scrapbook": {
       "data": true,
       "display": false,
       "name": "ABC-GAN Model 1 MAE"
      }
     },
     "output_type": "display_data"
    },
    {
     "data": {
      "application/scrapbook.scrap.json+json": {
       "data": 12.531386433541774,
       "encoder": "json",
       "name": "ABC-GAN Model 1 Manhattan Distance",
       "version": 1
      }
     },
     "metadata": {
      "scrapbook": {
       "data": true,
       "display": false,
       "name": "ABC-GAN Model 1 Manhattan Distance"
      }
     },
     "output_type": "display_data"
    },
    {
     "data": {
      "application/scrapbook.scrap.json+json": {
       "data": 3.9362711159558845,
       "encoder": "json",
       "name": "ABC-GAN Model 1 Euclidean distance",
       "version": 1
      }
     },
     "metadata": {
      "scrapbook": {
       "data": true,
       "display": false,
       "name": "ABC-GAN Model 1 Euclidean distance"
      }
     },
     "output_type": "display_data"
    },
    {
     "data": {
      "application/scrapbook.scrap.json+json": {
       "data": [
        [
         0.7752760815363067,
         0.7807155131854161,
         0.7723258164846498,
         0.7702993851132112,
         0.7726144467195583,
         0.7793205355457552,
         0.7784939784180944,
         0.7735281922451734,
         0.7726621977694246,
         0.7772378966827946,
         0.7729429300779102,
         0.7695884902703989,
         0.7736779459481219,
         0.7770405299177682,
         0.7729061200370544,
         0.7753988724626881,
         0.7806240508039719,
         0.7708671511348281,
         0.7779454577342908,
         0.7690806659074053,
         0.779073467043899,
         0.7711697154647128,
         0.7740792070921358,
         0.7769790416845223,
         0.7713449284345214,
         0.773213631414992,
         0.7766363004855047,
         0.7771470293911371,
         0.7760504902323015,
         0.7768325385490974,
         0.7692664306414515,
         0.7756184025669065,
         0.7801444658230619,
         0.7685742845356238,
         0.7787281010448458,
         0.7747961334270657,
         0.7669593679673563,
         0.7735402777584053,
         0.7741121309285687,
         0.7722830882183922,
         0.7778215937837454,
         0.7722593190681732,
         0.7731563619871411,
         0.7788759825058265,
         0.7720620934885156,
         0.7819083714863985,
         0.7760604708970081,
         0.7731331185312404,
         0.7727339999073621,
         0.7706331831529527,
         0.7692507266019379,
         0.7739638900355468,
         0.7730558380751198,
         0.7756508849288858,
         0.7809107020452317,
         0.7675338759041217,
         0.7734525899505168,
         0.773748235160625,
         0.7746417514157952,
         0.7773313213284082,
         0.7719737121647106,
         0.7762380779343735,
         0.7720396713446831,
         0.7747377025136233,
         0.7741125329108225,
         0.7718648956229475,
         0.7708498624464342,
         0.7773625638233906,
         0.7733777208664989,
         0.7731438763004588,
         0.7760553151026874,
         0.7780418097439359,
         0.7678675961965027,
         0.7816368147333634,
         0.7747763067498651,
         0.7811746354520619,
         0.7775213559683286,
         0.7765283330774031,
         0.7732779872974228,
         0.7748864456371777,
         0.7722271813585819,
         0.7699304947652557,
         0.7680184507828486,
         0.7764186762490579,
         0.7781283003480655,
         0.7761465666293789,
         0.7736013667861478,
         0.7768134483685606,
         0.7783256792240216,
         0.7725778110168467,
         0.7752990406770139,
         0.7740938647800707,
         0.7780277010517059,
         0.7768992040853184,
         0.7707823164863096,
         0.7821184962274148,
         0.7850831981883175,
         0.775351989643964,
         0.7679263263690631,
         0.7790646999606833
        ],
        [
         0.6254901006817818,
         0.6318693198263645,
         0.6243358165025711,
         0.623641911149025,
         0.6251471981406211,
         0.6290192395448685,
         0.629608516395092,
         0.6248534496873617,
         0.6248893577605485,
         0.6283634770661592,
         0.6252611875534058,
         0.6242310885339976,
         0.6282428666949272,
         0.6249994121491909,
         0.6259388994425535,
         0.6257758185267448,
         0.63058927282691,
         0.6258584264665842,
         0.6304887738078833,
         0.6253824941813946,
         0.6298366464674473,
         0.6228427123278379,
         0.6255039919167757,
         0.6307389281690121,
         0.6246891491115093,
         0.6264686524868012,
         0.6270081844180823,
         0.6287604067474604,
         0.6277099143713712,
         0.6269284848123788,
         0.622295868396759,
         0.6273480638861656,
         0.6290944676846266,
         0.6227989818900823,
         0.6298121172934771,
         0.627744759991765,
         0.6209942262619734,
         0.6250913321971894,
         0.6223894264549017,
         0.6277190256863833,
         0.6275277018547059,
         0.6256179742515087,
         0.6238436605781317,
         0.6302145700901747,
         0.6260887295007705,
         0.6303557317703963,
         0.6281380899250507,
         0.6240911368280649,
         0.6254033222794533,
         0.6241475153714419,
         0.6231066796928644,
         0.6277506921440363,
         0.6241432953625917,
         0.6281964525580406,
         0.6290034990757704,
         0.6225063059478998,
         0.6239451356232166,
         0.6252182584255934,
         0.62589360922575,
         0.627187655121088,
         0.6262313339859247,
         0.6299760088324546,
         0.6260516215115786,
         0.6273903962224722,
         0.62640360891819,
         0.6246659737080336,
         0.6237093597650528,
         0.6266674298793078,
         0.6262318305671215,
         0.62579813785851,
         0.6291618328541517,
         0.6297273460775614,
         0.6226624045521021,
         0.6291165798902512,
         0.6275977663695812,
         0.6315420683473348,
         0.6266929663717746,
         0.6254751946777105,
         0.6250799007713794,
         0.6276181355118752,
         0.6257725533097982,
         0.6250526145100593,
         0.6215229768306016,
         0.6298162043094635,
         0.6248812463134528,
         0.6264482650905847,
         0.6274955868721008,
         0.6279723577201366,
         0.6274284411221742,
         0.6229810874909163,
         0.6282570447772742,
         0.6268291261047125,
         0.6282430369406938,
         0.628322659060359,
         0.6225053887814284,
         0.6290119227021933,
         0.6317393481731415,
         0.6273555044084788,
         0.6248757563531399,
         0.6304791670292615
        ],
        [
         12.509802013635635,
         12.63738639652729,
         12.486716330051422,
         12.4728382229805,
         12.502943962812424,
         12.58038479089737,
         12.59217032790184,
         12.497068993747234,
         12.497787155210972,
         12.567269541323185,
         12.505223751068115,
         12.48462177067995,
         12.564857333898544,
         12.499988242983818,
         12.51877798885107,
         12.515516370534897,
         12.6117854565382,
         12.517168529331684,
         12.609775476157665,
         12.507649883627892,
         12.596732929348946,
         12.456854246556759,
         12.510079838335514,
         12.614778563380241,
         12.493782982230186,
         12.529373049736023,
         12.540163688361645,
         12.575208134949207,
         12.554198287427425,
         12.538569696247578,
         12.44591736793518,
         12.546961277723312,
         12.581889353692532,
         12.455979637801647,
         12.596242345869541,
         12.5548951998353,
         12.419884525239468,
         12.501826643943787,
         12.447788529098034,
         12.554380513727665,
         12.550554037094116,
         12.512359485030174,
         12.476873211562634,
         12.604291401803493,
         12.521774590015411,
         12.607114635407925,
         12.562761798501015,
         12.481822736561298,
         12.508066445589066,
         12.482950307428837,
         12.462133593857288,
         12.555013842880726,
         12.482865907251835,
         12.563929051160812,
         12.580069981515408,
         12.450126118957996,
         12.478902712464333,
         12.504365168511868,
         12.517872184515,
         12.54375310242176,
         12.524626679718494,
         12.599520176649094,
         12.521032430231571,
         12.547807924449444,
         12.5280721783638,
         12.493319474160671,
         12.474187195301056,
         12.533348597586155,
         12.52463661134243,
         12.5159627571702,
         12.583236657083035,
         12.594546921551228,
         12.453248091042042,
         12.582331597805023,
         12.551955327391624,
         12.630841366946697,
         12.533859327435493,
         12.50950389355421,
         12.50159801542759,
         12.552362710237503,
         12.515451066195965,
         12.501052290201187,
         12.430459536612034,
         12.59632408618927,
         12.497624926269054,
         12.528965301811695,
         12.549911737442017,
         12.559447154402733,
         12.548568822443485,
         12.459621749818325,
         12.565140895545483,
         12.53658252209425,
         12.564860738813877,
         12.56645318120718,
         12.450107775628567,
         12.580238454043865,
         12.63478696346283,
         12.547110088169575,
         12.497515127062798,
         12.609583340585232
        ],
        [
         3.9377051223683743,
         3.951494687293445,
         3.930205634530208,
         3.9250462038381437,
         3.930939955582019,
         3.947962855817555,
         3.945868670947107,
         3.9332637649798503,
         3.9310614285951435,
         3.9426841026965236,
         3.931775502436298,
         3.9232346100390143,
         3.9336444830414496,
         3.942183481061652,
         3.931681879392213,
         3.9380169437489427,
         3.951263217767128,
         3.9264924579956295,
         3.944478312107422,
         3.9219399942054323,
         3.947336993579086,
         3.9272629539278694,
         3.9346644255695704,
         3.942027502908934,
         3.9277090738355898,
         3.9324639385886098,
         3.941157952900403,
         3.9424536253230347,
         3.939671281293152,
         3.9416558412654377,
         3.9224136208244316,
         3.938574367882132,
         3.950049280257303,
         3.9206486313762516,
         3.946461962428742,
         3.9364860813346354,
         3.916527461840032,
         3.9332944912843875,
         3.934748101031548,
         3.9300969153912533,
         3.9441642810201136,
         3.930036435119077,
         3.9323183034620715,
         3.9468366637240675,
         3.929534561467848,
         3.954512287214185,
         3.9396966149616346,
         3.9322591942323446,
         3.931244077661325,
         3.9258965425822225,
         3.9223735839461744,
         3.9343713348781577,
         3.9320626599155815,
         3.938656839403214,
         3.9519886185191164,
         3.917994068153043,
         3.9330715476597087,
         3.933823166235679,
         3.9360938795099774,
         3.942921052540637,
         3.9293096395288334,
         3.940147403167484,
         3.9294775004946474,
         3.936337644343084,
         3.934749122652732,
         3.9290326942466325,
         3.9264484268774855,
         3.9430002886720428,
         3.932881185254644,
         3.932286551868922,
         3.939683528159812,
         3.94472257514755,
         3.9188457387258886,
         3.9538255265840028,
         3.9364357145769957,
         3.9526564117111467,
         3.9434029871884224,
         3.940883994936677,
         3.9326275880063264,
         3.9367154980698764,
         3.9299546596839554,
         3.9241062543342418,
         3.919230666298805,
         3.9406057307197275,
         3.9449418255484208,
         3.9399151428155883,
         3.933449800839329,
         3.941607409087213,
         3.9454421278838234,
         3.9308467561502485,
         3.937763427828071,
         3.9347016780947213,
         3.944686808991826,
         3.941824968425966,
         3.926276394973511,
         3.9550436058971963,
         3.9625325189538003,
         3.9378978901032053,
         3.918995601857861,
         3.947314783395627
        ]
       ],
       "encoder": "json",
       "name": "ABC_GAN_1 Metrics",
       "version": 1
      }
     },
     "metadata": {
      "scrapbook": {
       "data": true,
       "display": false,
       "name": "ABC_GAN_1 Metrics"
      }
     },
     "output_type": "display_data"
    },
    {
     "name": "stdout",
     "output_type": "stream",
     "text": [
      "MSE\n",
      "0.7747158162983919\n"
     ]
    }
   ],
   "source": [
    "ABC_GAN1_metrics=ABC_train_test2.test_generator(gen,test_data,prior_model,variance,bias,\"1\",device)\n",
    "sb.glue(\"ABC_GAN_1 Metrics\",ABC_GAN1_metrics)\n",
    "\n",
    "print(\"MSE\")\n",
    "print(mean(ABC_GAN1_metrics[0]))"
   ]
  },
  {
   "cell_type": "code",
   "execution_count": 14,
   "id": "eb22ce5c",
   "metadata": {
    "execution": {
     "iopub.execute_input": "2022-06-22T16:13:21.689077Z",
     "iopub.status.busy": "2022-06-22T16:13:21.686405Z",
     "iopub.status.idle": "2022-06-22T16:13:22.694604Z",
     "shell.execute_reply": "2022-06-22T16:13:22.696629Z"
    },
    "papermill": {
     "duration": 1.072077,
     "end_time": "2022-06-22T16:13:22.696916",
     "exception": false,
     "start_time": "2022-06-22T16:13:21.624839",
     "status": "completed"
    },
    "tags": []
   },
   "outputs": [
    {
     "data": {
      "image/png": "[encoded data removed]",
      "text/plain": [
       "<Figure size 432x288 with 1 Axes>"
      ]
     },
     "metadata": {
      "needs_background": "light"
     },
     "output_type": "display_data"
    },
    {
     "data": {
      "image/png": "[encoded data removed]",
      "text/plain": [
       "<Figure size 432x288 with 1 Axes>"
      ]
     },
     "metadata": {
      "needs_background": "light"
     },
     "output_type": "display_data"
    },
    {
     "data": {
      "image/png": "[encoded data removed]",
      "text/plain": [
       "<Figure size 432x288 with 1 Axes>"
      ]
     },
     "metadata": {
      "needs_background": "light"
     },
     "output_type": "display_data"
    },
    {
     "data": {
      "image/png": "[encoded data removed]",
      "text/plain": [
       "<Figure size 432x288 with 1 Axes>"
      ]
     },
     "metadata": {
      "needs_background": "light"
     },
     "output_type": "display_data"
    }
   ],
   "source": [
    "sanityChecks.discProbVsError(train_data,disc,device)\n",
    "sanityChecks.discProbVsError(test_data,disc,device)"
   ]
  },
  {
   "cell_type": "markdown",
   "id": "130f3a4d",
   "metadata": {
    "id": "130f3a4d",
    "papermill": {
     "duration": 0.067367,
     "end_time": "2022-06-22T16:13:22.817936",
     "exception": false,
     "start_time": "2022-06-22T16:13:22.750569",
     "status": "completed"
    },
    "tags": []
   },
   "source": [
    "# ABC - GAN Model with skip connection"
   ]
  },
  {
   "cell_type": "code",
   "execution_count": 15,
   "id": "4e43dad1",
   "metadata": {
    "execution": {
     "iopub.execute_input": "2022-06-22T16:13:22.939478Z",
     "iopub.status.busy": "2022-06-22T16:13:22.937959Z",
     "iopub.status.idle": "2022-06-22T16:13:22.942221Z",
     "shell.execute_reply": "2022-06-22T16:13:22.942805Z"
    },
    "id": "4e43dad1",
    "papermill": {
     "duration": 0.073661,
     "end_time": "2022-06-22T16:13:22.943043",
     "exception": false,
     "start_time": "2022-06-22T16:13:22.869382",
     "status": "completed"
    },
    "tags": []
   },
   "outputs": [],
   "source": [
    "#Generator\n",
    "gen3 = network.GeneratorWithSkipConnection(n_features+1).to(device)\n",
    "constraints=network.weightConstraint()\n",
    "#Discriminator \n",
    "disc3 = network.Discriminator(n_features+1).to(device)\n",
    "\n",
    "criterion = torch.nn.BCELoss()\n",
    "gen_opt = torch.optim.Adam(gen3.parameters(), lr=0.001, betas=(0.5, 0.999))\n",
    "disc_opt = torch.optim.Adam(disc3.parameters(), lr=0.001, betas=(0.5, 0.999))\n"
   ]
  },
  {
   "cell_type": "code",
   "execution_count": 16,
   "id": "26acbc37",
   "metadata": {
    "execution": {
     "iopub.execute_input": "2022-06-22T16:13:23.114859Z",
     "iopub.status.busy": "2022-06-22T16:13:23.108103Z",
     "iopub.status.idle": "2022-06-22T16:15:51.143069Z",
     "shell.execute_reply": "2022-06-22T16:15:51.144504Z"
    },
    "id": "26acbc37",
    "papermill": {
     "duration": 148.135056,
     "end_time": "2022-06-22T16:15:51.144813",
     "exception": false,
     "start_time": "2022-06-22T16:13:23.009757",
     "status": "completed"
    },
    "tags": []
   },
   "outputs": [
    {
     "data": {
      "image/png": "[encoded data removed]",
      "text/plain": [
       "<Figure size 432x288 with 1 Axes>"
      ]
     },
     "metadata": {
      "needs_background": "light"
     },
     "output_type": "display_data"
    },
    {
     "data": {
      "image/png": "[encoded data removed]",
      "text/plain": [
       "<Figure size 432x288 with 1 Axes>"
      ]
     },
     "metadata": {
      "needs_background": "light"
     },
     "output_type": "display_data"
    }
   ],
   "source": [
    "ABC_train_test2.training_GAN_skip_connection(disc3,gen3,disc_opt,gen_opt,train_data,batch_size,n_epochs,criterion,prior_model,variance,bias,device)"
   ]
  },
  {
   "cell_type": "code",
   "execution_count": 17,
   "id": "c5e0717b",
   "metadata": {
    "execution": {
     "iopub.execute_input": "2022-06-22T16:15:51.294819Z",
     "iopub.status.busy": "2022-06-22T16:15:51.293628Z",
     "iopub.status.idle": "2022-06-22T16:15:52.750353Z",
     "shell.execute_reply": "2022-06-22T16:15:52.751284Z"
    },
    "id": "c5e0717b",
    "papermill": {
     "duration": 1.534183,
     "end_time": "2022-06-22T16:15:52.751531",
     "exception": false,
     "start_time": "2022-06-22T16:15:51.217348",
     "status": "completed"
    },
    "tags": []
   },
   "outputs": [
    {
     "data": {
      "application/scrapbook.scrap.json+json": {
       "data": 0.785759165603089,
       "encoder": "json",
       "name": "ABC-GAN Model 3 MSE",
       "version": 1
      }
     },
     "metadata": {
      "scrapbook": {
       "data": true,
       "display": false,
       "name": "ABC-GAN Model 3 MSE"
      }
     },
     "output_type": "display_data"
    },
    {
     "data": {
      "application/scrapbook.scrap.json+json": {
       "data": 0.6287146164625883,
       "encoder": "json",
       "name": "ABC-GAN Model 3 MAE",
       "version": 1
      }
     },
     "metadata": {
      "scrapbook": {
       "data": true,
       "display": false,
       "name": "ABC-GAN Model 3 MAE"
      }
     },
     "output_type": "display_data"
    },
    {
     "data": {
      "application/scrapbook.scrap.json+json": {
       "data": 12.574292329251767,
       "encoder": "json",
       "name": "ABC-GAN Model 3 Manhattan Distance",
       "version": 1
      }
     },
     "metadata": {
      "scrapbook": {
       "data": true,
       "display": false,
       "name": "ABC-GAN Model 3 Manhattan Distance"
      }
     },
     "output_type": "display_data"
    },
    {
     "data": {
      "application/scrapbook.scrap.json+json": {
       "data": 3.964229930901506,
       "encoder": "json",
       "name": "ABC-GAN Model 3 Euclidean distance",
       "version": 1
      }
     },
     "metadata": {
      "scrapbook": {
       "data": true,
       "display": false,
       "name": "ABC-GAN Model 3 Euclidean distance"
      }
     },
     "output_type": "display_data"
    },
    {
     "data": {
      "application/scrapbook.scrap.json+json": {
       "data": [
        [
         0.7815895029593859,
         0.7860738413694176,
         0.7808920136497945,
         0.7862087169640377,
         0.7948918726520862,
         0.7872976546054546,
         0.7887665077773628,
         0.7891173781951965,
         0.7850624546500081,
         0.7903318198854944,
         0.7846427831007374,
         0.7805658229827654,
         0.7830226314682328,
         0.7829728146508199,
         0.7872438767213972,
         0.7876016840977134,
         0.7812859267472614,
         0.7854836870330744,
         0.7812727919977601,
         0.7858680142900376,
         0.783149368427041,
         0.7821225799368744,
         0.7824478739875357,
         0.7870019147621519,
         0.7880640891037204,
         0.7864426539050744,
         0.7848665350507821,
         0.7818011502341944,
         0.7797472468694324,
         0.7809017118331261,
         0.7888072149997195,
         0.7912379149469131,
         0.7854975030086978,
         0.7870393671716036,
         0.7882382332082573,
         0.786843398826024,
         0.7861610818209199,
         0.7850596854634995,
         0.7848609418459735,
         0.7870428818205975,
         0.7869051184872162,
         0.7820121035555186,
         0.7875108715896302,
         0.7941308956639809,
         0.7845374811943925,
         0.7826891426994601,
         0.7860249952881926,
         0.785720864452932,
         0.7891870999653361,
         0.7843367766903822,
         0.7816148504086173,
         0.78723016084896,
         0.7846019465166715,
         0.7826584802310126,
         0.7866274461872794,
         0.7847599822416285,
         0.779296019510128,
         0.7881225775165246,
         0.7831862126618183,
         0.7850616723569287,
         0.7907492806771454,
         0.7787311044463407,
         0.7917446766372203,
         0.7919593538634118,
         0.7882581310816347,
         0.78438282053498,
         0.7804614382526338,
         0.7893311922191756,
         0.7898757285385001,
         0.7869503496474357,
         0.783695517808153,
         0.7889031227580978,
         0.7862554291219706,
         0.7917072458075414,
         0.7889524699574034,
         0.7881408206690292,
         0.785527985618097,
         0.7893191124000292,
         0.7842048828444035,
         0.7863478982630554,
         0.7838737423992769,
         0.7880736807787245,
         0.7896562300850697,
         0.7845865353630899,
         0.7843876317426037,
         0.7826779161904602,
         0.7870163256204565,
         0.7892962148928115,
         0.7862014459817198,
         0.7843704186916087,
         0.7829547006915061,
         0.78636121610003,
         0.7835699008488413,
         0.784658459643033,
         0.7841356625618233,
         0.7839582086159584,
         0.7873941828161468,
         0.7820106417890711,
         0.7849708278518699,
         0.7865242154117538
        ],
        [
         0.6269091416150332,
         0.6290856653824448,
         0.626413313113153,
         0.6318934321403503,
         0.6326310854405165,
         0.6283466136083007,
         0.6299720767885446,
         0.6314191691577434,
         0.6298094499856234,
         0.6294277293607593,
         0.6284110309556127,
         0.627123660966754,
         0.6234093010425568,
         0.6269918560981751,
         0.6318409899249673,
         0.6282133892178535,
         0.6292866941541433,
         0.6292755361646414,
         0.6246201418340206,
         0.6307479377835989,
         0.6281013529747724,
         0.6256949912756682,
         0.6237842030823231,
         0.6263819716870784,
         0.6305800190195441,
         0.6286323852837086,
         0.6256427025422454,
         0.629242111928761,
         0.6267227971926331,
         0.626237977668643,
         0.6309561057016253,
         0.6322543937712908,
         0.6283025844022632,
         0.629127792455256,
         0.6281776046380401,
         0.6270241498947143,
         0.6297922402620315,
         0.6322418916970491,
         0.6299705369397998,
         0.6313096420839429,
         0.629242536611855,
         0.62597392257303,
         0.6267928062006831,
         0.6358113946393132,
         0.628242457471788,
         0.6285748418420554,
         0.6272867958992719,
         0.6320596124976874,
         0.6278981158509851,
         0.6290139861404895,
         0.6288380144163966,
         0.630806590244174,
         0.6288052817806602,
         0.6255855061113834,
         0.6302126167342067,
         0.6269780337810517,
         0.6263372084125877,
         0.6288614012300968,
         0.6254116579890251,
         0.6295764643698931,
         0.6357900962233544,
         0.6203807149082422,
         0.6321697199717164,
         0.6314749006181956,
         0.6292129045352339,
         0.6283378262072802,
         0.6257903760299086,
         0.6291789777576924,
         0.6294891713187099,
         0.6261020766571164,
         0.6309693790972233,
         0.6323301974684,
         0.6281387865543365,
         0.6306948807090521,
         0.6298641229048372,
         0.6306855000555516,
         0.625837111286819,
         0.6310747241601348,
         0.6286776721477508,
         0.6291504792869091,
         0.6260131731629371,
         0.6293967148289085,
         0.6304672565311193,
         0.6255711007863283,
         0.630552526190877,
         0.6276870984584093,
         0.6320336688309908,
         0.6280573736876249,
         0.629070109501481,
         0.6312659965828061,
         0.6249129917472601,
         0.6283369701355696,
         0.6298036508262157,
         0.629440538585186,
         0.6258934937417507,
         0.6270021745935083,
         0.6250278512015939,
         0.6263749543577433,
         0.6297180620953441,
         0.6311714084818959
        ],
        [
         12.538182832300663,
         12.581713307648897,
         12.52826626226306,
         12.637868642807007,
         12.65262170881033,
         12.566932272166014,
         12.599441535770893,
         12.628383383154869,
         12.596188999712467,
         12.588554587215185,
         12.568220619112253,
         12.54247321933508,
         12.468186020851135,
         12.539837121963501,
         12.636819798499346,
         12.564267784357071,
         12.585733883082867,
         12.585510723292828,
         12.492402836680412,
         12.614958755671978,
         12.562027059495449,
         12.513899825513363,
         12.475684061646461,
         12.52763943374157,
         12.611600380390882,
         12.572647705674171,
         12.512854050844908,
         12.58484223857522,
         12.534455943852663,
         12.52475955337286,
         12.619122114032507,
         12.645087875425816,
         12.566051688045263,
         12.58255584910512,
         12.563552092760801,
         12.540482997894287,
         12.595844805240631,
         12.644837833940983,
         12.599410738795996,
         12.626192841678858,
         12.5848507322371,
         12.5194784514606,
         12.535856124013662,
         12.716227892786264,
         12.564849149435759,
         12.571496836841106,
         12.54573591798544,
         12.641192249953747,
         12.557962317019701,
         12.580279722809792,
         12.576760288327932,
         12.61613180488348,
         12.576105635613203,
         12.511710122227669,
         12.604252334684134,
         12.539560675621033,
         12.526744168251753,
         12.577228024601936,
         12.508233159780502,
         12.591529287397861,
         12.715801924467087,
         12.407614298164845,
         12.643394399434328,
         12.62949801236391,
         12.58425809070468,
         12.566756524145603,
         12.515807520598173,
         12.583579555153847,
         12.589783426374197,
         12.522041533142328,
         12.619387581944466,
         12.646603949368,
         12.562775731086731,
         12.613897614181042,
         12.597282458096743,
         12.61371000111103,
         12.51674222573638,
         12.621494483202696,
         12.573553442955017,
         12.583009585738182,
         12.520263463258743,
         12.587934296578169,
         12.609345130622387,
         12.511422015726566,
         12.61105052381754,
         12.553741969168186,
         12.640673376619816,
         12.561147473752499,
         12.581402190029621,
         12.625319931656122,
         12.498259834945202,
         12.566739402711391,
         12.596073016524315,
         12.58881077170372,
         12.517869874835014,
         12.540043491870165,
         12.500557024031878,
         12.527499087154865,
         12.594361241906881,
         12.623428169637918
        ],
        [
         3.9537058640202,
         3.9650317561639215,
         3.9519413296500097,
         3.9653719042834745,
         3.9872092311592735,
         3.9681170713713945,
         3.9718169841455757,
         3.972700286191236,
         3.9624801694141207,
         3.9757560787490336,
         3.9614209145223063,
         3.951115849941041,
         3.957328976641272,
         3.9572030896854913,
         3.967981544113826,
         3.9688831781691767,
         3.9529379624458096,
         3.963543079198394,
         3.952904734490221,
         3.964512616425978,
         3.9576492225234943,
         3.955053931204666,
         3.955876322605487,
         3.9673717112520523,
         3.9700480830935048,
         3.965961809965079,
         3.9619857017681976,
         3.9542411414434353,
         3.949043547162863,
         3.951965869875716,
         3.971919472999722,
         3.978034476841328,
         3.9635779366847266,
         3.967466111188862,
         3.970486703688245,
         3.9669721421407136,
         3.9652517746567364,
         3.962473180889681,
         3.9619715845673946,
         3.967474969853237,
         3.9671277228927635,
         3.9547745916942434,
         3.968654360333311,
         3.985300228750604,
         3.961155087078496,
         3.9564861751292906,
         3.9649085620936892,
         3.9641414315156114,
         3.9728757845302334,
         3.960648372906593,
         3.953769974109817,
         3.967946977591711,
         3.9613178274828478,
         3.9564086751270082,
         3.966427728289725,
         3.961716754745671,
         3.947900757390256,
         3.970195404552588,
         3.957742317690272,
         3.962478195162539,
         3.9768059562345894,
         3.94646957278614,
         3.979308172628052,
         3.979847619855342,
         3.970536817816036,
         3.9607646245011328,
         3.950851650600498,
         3.9732384580318745,
         3.9746087317835452,
         3.9672417361371752,
         3.9590289663202847,
         3.9721609301691134,
         3.9654897027276985,
         3.9792141078548195,
         3.9722851608549035,
         3.9702413545501973,
         3.9636548427381944,
         3.973208054960196,
         3.9603153481620708,
         3.9657228805428533,
         3.9594791132149614,
         3.970072243117811,
         3.9740564416854216,
         3.9612789231840004,
         3.9607767716512465,
         3.9564578000794097,
         3.9674080345244467,
         3.9731504247707803,
         3.9653535680484273,
         3.9607333126369633,
         3.95715731476904,
         3.9657564627698205,
         3.958711661257589,
         3.961460487353201,
         3.960140559530238,
         3.9596924340558535,
         3.968360323398435,
         3.954770895485783,
         3.9622489266876446,
         3.96616745842067
        ]
       ],
       "encoder": "json",
       "name": "ABC_GAN_3 Metrics",
       "version": 1
      }
     },
     "metadata": {
      "scrapbook": {
       "data": true,
       "display": false,
       "name": "ABC_GAN_3 Metrics"
      }
     },
     "output_type": "display_data"
    },
    {
     "name": "stdout",
     "output_type": "stream",
     "text": [
      "MSE\n",
      "0.785759165603089\n"
     ]
    }
   ],
   "source": [
    "ABC_GAN3_metrics=ABC_train_test2.test_generator(gen3,test_data,prior_model,variance,bias,\"3\",device)\n",
    "sb.glue(\"ABC_GAN_3 Metrics\",ABC_GAN3_metrics)\n",
    "\n",
    "print(\"MSE\")\n",
    "print(mean(ABC_GAN3_metrics[0]))"
   ]
  },
  {
   "cell_type": "code",
   "execution_count": 18,
   "id": "c8e46b48",
   "metadata": {
    "execution": {
     "iopub.execute_input": "2022-06-22T16:15:52.954266Z",
     "iopub.status.busy": "2022-06-22T16:15:52.950905Z",
     "iopub.status.idle": "2022-06-22T16:15:54.037123Z",
     "shell.execute_reply": "2022-06-22T16:15:54.037803Z"
    },
    "id": "c8e46b48",
    "papermill": {
     "duration": 1.211541,
     "end_time": "2022-06-22T16:15:54.038066",
     "exception": false,
     "start_time": "2022-06-22T16:15:52.826525",
     "status": "completed"
    },
    "tags": []
   },
   "outputs": [
    {
     "data": {
      "image/png": "[encoded data removed]",
      "text/plain": [
       "<Figure size 432x288 with 1 Axes>"
      ]
     },
     "metadata": {
      "needs_background": "light"
     },
     "output_type": "display_data"
    },
    {
     "data": {
      "image/png": "[encoded data removed]",
      "text/plain": [
       "<Figure size 432x288 with 1 Axes>"
      ]
     },
     "metadata": {
      "needs_background": "light"
     },
     "output_type": "display_data"
    },
    {
     "data": {
      "image/png": "[encoded data removed]",
      "text/plain": [
       "<Figure size 432x288 with 1 Axes>"
      ]
     },
     "metadata": {
      "needs_background": "light"
     },
     "output_type": "display_data"
    },
    {
     "data": {
      "image/png": "[encoded data removed]",
      "text/plain": [
       "<Figure size 432x288 with 1 Axes>"
      ]
     },
     "metadata": {
      "needs_background": "light"
     },
     "output_type": "display_data"
    }
   ],
   "source": [
    "sanityChecks.discProbVsError(train_data,disc3,device)\n",
    "sanityChecks.discProbVsError(test_data,disc3,device)"
   ]
  },
  {
   "cell_type": "markdown",
   "id": "a5bd74c3",
   "metadata": {
    "id": "a5bd74c3",
    "papermill": {
     "duration": 0.11265,
     "end_time": "2022-06-22T16:15:54.232111",
     "exception": false,
     "start_time": "2022-06-22T16:15:54.119461",
     "status": "completed"
    },
    "tags": []
   },
   "source": [
    "## Skip Connection Model Analysis - ABC-GAN "
   ]
  },
  {
   "cell_type": "markdown",
   "id": "5744a8bf",
   "metadata": {
    "id": "5744a8bf",
    "papermill": {
     "duration": 0.072539,
     "end_time": "2022-06-22T16:15:54.392898",
     "exception": false,
     "start_time": "2022-06-22T16:15:54.320359",
     "status": "completed"
    },
    "tags": []
   },
   "source": [
    "### Weight Analysis \n",
    "\n",
    "Study the weights of the skip connection layer\n",
    "\n",
    "Equation of the skip connection is \n",
    "\n",
    "$output = y_{gan} * w + y_{abc} * (1-w)$"
   ]
  },
  {
   "cell_type": "code",
   "execution_count": 19,
   "id": "52c31dea",
   "metadata": {
    "execution": {
     "iopub.execute_input": "2022-06-22T16:15:54.555930Z",
     "iopub.status.busy": "2022-06-22T16:15:54.553088Z",
     "iopub.status.idle": "2022-06-22T16:15:54.560521Z",
     "shell.execute_reply": "2022-06-22T16:15:54.561398Z"
    },
    "id": "52c31dea",
    "papermill": {
     "duration": 0.102741,
     "end_time": "2022-06-22T16:15:54.561660",
     "exception": false,
     "start_time": "2022-06-22T16:15:54.458919",
     "status": "completed"
    },
    "tags": []
   },
   "outputs": [
    {
     "name": "stdout",
     "output_type": "stream",
     "text": [
      "Weight of the node at skip connection\n",
      "Parameter containing:\n",
      "tensor([[0.1087]], requires_grad=True)\n"
     ]
    },
    {
     "data": {
      "application/scrapbook.scrap.json+json": {
       "data": 0.10872255265712738,
       "encoder": "json",
       "name": "Skip Connection Weight",
       "version": 1
      }
     },
     "metadata": {
      "scrapbook": {
       "data": true,
       "display": false,
       "name": "Skip Connection Weight"
      }
     },
     "output_type": "display_data"
    }
   ],
   "source": [
    "print(\"Weight of the node at skip connection\")\n",
    "for name,param in gen3.named_parameters():\n",
    "    if(name == \"skipNode.weight\"):\n",
    "        print(param)\n",
    "        sb.glue(\"Skip Connection Weight\",param.item())"
   ]
  }
 ],
 "metadata": {
  "colab": {
   "collapsed_sections": [],
   "name": "ABC_GAN_Model-Catboost_Pre-gen.ipynb",
   "provenance": []
  },
  "interpreter": {
   "hash": "31f2aee4e71d21fbe5cf8b01ff0e069b9275f58929596ceb00d14d90e3e16cd6"
  },
  "kernelspec": {
   "display_name": "Python 3 (ipykernel)",
   "language": "python",
   "name": "python3"
  },
  "language_info": {
   "codemirror_mode": {
    "name": "ipython",
    "version": 3
   },
   "file_extension": ".py",
   "mimetype": "text/x-python",
   "name": "python",
   "nbconvert_exporter": "python",
   "pygments_lexer": "ipython3",
   "version": "3.8.3"
  },
  "papermill": {
   "default_parameters": {},
   "duration": 286.022304,
   "end_time": "2022-06-22T16:15:55.997921",
   "environment_variables": {},
   "exception": null,
   "input_path": "ABC_GAN-TabNet.ipynb",
   "output_path": "./ABC_GAN_TabNet/ABC-GAN_output_9_5.ipynb",
   "parameters": {
    "bias": 0.1,
    "variance": 0.01
   },
   "start_time": "2022-06-22T16:11:09.975617",
   "version": "2.3.3"
  }
 },
 "nbformat": 4,
 "nbformat_minor": 5
}