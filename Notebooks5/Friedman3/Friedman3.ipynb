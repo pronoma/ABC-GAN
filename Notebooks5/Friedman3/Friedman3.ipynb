{
 "cells": [
  {
   "cell_type": "code",
   "execution_count": 1,
   "id": "423b7ca4",
   "metadata": {
    "execution": {
     "iopub.execute_input": "2022-06-13T07:48:49.901018Z",
     "iopub.status.busy": "2022-06-13T07:48:49.900300Z",
     "iopub.status.idle": "2022-06-13T07:48:49.903601Z",
     "shell.execute_reply": "2022-06-13T07:48:49.904164Z"
    },
    "papermill": {
     "duration": 0.031962,
     "end_time": "2022-06-13T07:48:49.904477",
     "exception": false,
     "start_time": "2022-06-13T07:48:49.872515",
     "status": "completed"
    },
    "tags": []
   },
   "outputs": [],
   "source": [
    "import warnings\n",
    "warnings.filterwarnings('ignore')"
   ]
  },
  {
   "cell_type": "code",
   "execution_count": 2,
   "id": "618121c9",
   "metadata": {
    "execution": {
     "iopub.execute_input": "2022-06-13T07:48:49.926777Z",
     "iopub.status.busy": "2022-06-13T07:48:49.926171Z",
     "iopub.status.idle": "2022-06-13T07:48:51.127206Z",
     "shell.execute_reply": "2022-06-13T07:48:51.127457Z"
    },
    "papermill": {
     "duration": 1.213233,
     "end_time": "2022-06-13T07:48:51.127578",
     "exception": false,
     "start_time": "2022-06-13T07:48:49.914345",
     "status": "completed"
    },
    "tags": []
   },
   "outputs": [],
   "source": [
    "import scrapbook as sb \n",
    "import pandas as pd\n",
    "import numpy as np \n",
    "import seaborn as sns \n",
    "import numpy as np\n",
    "from statistics import mean , median\n",
    "import matplotlib.pyplot as plt"
   ]
  },
  {
   "cell_type": "markdown",
   "id": "8842137f",
   "metadata": {
    "papermill": {
     "duration": 0.004034,
     "end_time": "2022-06-13T07:48:51.135952",
     "exception": false,
     "start_time": "2022-06-13T07:48:51.131918",
     "status": "completed"
    },
    "tags": []
   },
   "source": [
    "# Baseline "
   ]
  },
  {
   "cell_type": "code",
   "execution_count": 3,
   "id": "a9dce367",
   "metadata": {
    "execution": {
     "iopub.execute_input": "2022-06-13T07:48:51.146903Z",
     "iopub.status.busy": "2022-06-13T07:48:51.146516Z",
     "iopub.status.idle": "2022-06-13T07:48:51.259247Z",
     "shell.execute_reply": "2022-06-13T07:48:51.259501Z"
    },
    "papermill": {
     "duration": 0.119681,
     "end_time": "2022-06-13T07:48:51.259627",
     "exception": false,
     "start_time": "2022-06-13T07:48:51.139946",
     "status": "completed"
    },
    "tags": []
   },
   "outputs": [],
   "source": [
    "books = sb.read_notebooks(\"./BaseLine_Model_Output\")\n",
    "baseLine_data = []\n",
    "for nb in books.notebooks: \n",
    "    nbList=[nb.scraps['Stats Model MAE'].data,nb.scraps['Catboost MAE'].data, nb.scraps['TabNet MAE (LR = 0.02)'].data, nb.scraps['TabNet MAE (LR = 0.1)'].data]\n",
    "    baseLine_data.append(nbList)\n",
    "df = pd.DataFrame(baseLine_data, columns = [\"Stats Model\",\"Catboost\", \"TabNet(LR=0.02)\", \"TabNet(LR=0.1)\"])\n",
    "baseline_data = np.array(baseLine_data)\n",
    "stats = median(baseline_data[:,0])\n",
    "catboost = median(baseline_data[:,1])\n",
    "tabnet02 = median(baseline_data[:,2])\n",
    "tabnet1 = median(baseline_data[:,3])"
   ]
  },
  {
   "cell_type": "markdown",
   "id": "2ef4d014",
   "metadata": {
    "papermill": {
     "duration": 0.004074,
     "end_time": "2022-06-13T07:48:51.268024",
     "exception": false,
     "start_time": "2022-06-13T07:48:51.263950",
     "status": "completed"
    },
    "tags": []
   },
   "source": [
    "# GAN Model"
   ]
  },
  {
   "cell_type": "code",
   "execution_count": null,
   "id": "ce2d028d",
   "metadata": {
    "execution": {
     "iopub.execute_input": "2022-06-13T07:48:51.279971Z",
     "iopub.status.busy": "2022-06-13T07:48:51.279601Z",
     "iopub.status.idle": "2022-06-13T07:48:51.466122Z",
     "shell.execute_reply": "2022-06-13T07:48:51.466412Z"
    },
    "papermill": {
     "duration": 0.194374,
     "end_time": "2022-06-13T07:48:51.466533",
     "exception": false,
     "start_time": "2022-06-13T07:48:51.272159",
     "status": "completed"
    },
    "tags": []
   },
   "outputs": [],
   "source": [
    "book = sb.read_notebooks(\"./GAN_Output\")\n",
    "gan_data = []\n",
    "gan_mse = []\n",
    "for nb in book.notebooks:\n",
    "    metrics = nb.scraps['GAN_1 Metrics'].data\n",
    "    for i in range(1000):\n",
    "        gan_mse.append(metrics[0][i])\n",
    "    nbList = [nb.scraps['GAN Model MSE'].data,\n",
    "              nb.scraps['GAN Model MAE'].data,\n",
    "              nb.scraps['GAN Model Euclidean distance'].data,\n",
    "              nb.scraps['GAN Model Manhattan Distance'].data]        \n",
    "    gan_data.append(nbList)\n",
    "    \n",
    "df = pd.DataFrame(gan_data, columns = ['MSE','MAE','Euclidean Distance','Manhattan Distance'])\n",
    "display(df.style)\n",
    "print(\"MEDIAN:\")\n",
    "print(df.median(axis = 0))\n",
    "gan_data = np.array(gan_data)\n",
    "gan_median = median(gan_data[:,1])\n",
    "print(gan_median)"
   ]
  },
  {
   "cell_type": "markdown",
   "id": "db69b3bd",
   "metadata": {
    "papermill": {
     "duration": 0.004503,
     "end_time": "2022-06-13T07:48:51.475892",
     "exception": false,
     "start_time": "2022-06-13T07:48:51.471389",
     "status": "completed"
    },
    "tags": []
   },
   "source": [
    "# ABC_GAN Analysis"
   ]
  },
  {
   "cell_type": "markdown",
   "id": "648998d0",
   "metadata": {},
   "source": [
    "## ABC Pre-generator - TabNet "
   ]
  },
  {
   "cell_type": "code",
   "execution_count": null,
   "id": "b81a7906",
   "metadata": {},
   "outputs": [],
   "source": [
    "book = sb.read_notebooks(\"./ABC_GAN_TabNet\")\n",
    "paramVal = [[1,1],[1,0.1],[1,0.01],[1,0],[0.1,1],[0.1,0.1],[0.1,0.01],[0.1,0],[0.01,1],[0.01,0.1],[0.01,0.01],[0.01,0]]\n",
    "abc_mae = [[] for i in range(12)]\n",
    "abc_mae_skip = [[] for i in range(12)]\n",
    "abc_mae_mean = [[] for i in range(12)]\n",
    "abc_mae_skip_mean = [[] for i in range(12)]\n",
    "abc_weights = [[] for i in range(12)]\n",
    "prior_model = [[] for i in range(12)]\n",
    "abc_pre_generator = [[] for i in range(12)]\n",
    "\n",
    "for nb in book.notebooks:\n",
    "    metrics1 = np.array(nb.scraps['ABC_GAN_1 Metrics'].data)\n",
    "    metrics3 = np.array(nb.scraps['ABC_GAN_3 Metrics'].data)\n",
    "    paramVar = float(nb.papermill_dataframe.iloc[0]['value'])\n",
    "    paramBias = float(nb.papermill_dataframe.iloc[1]['value'])\n",
    "    #Divide data according to parameters \n",
    "    for i in range(9):\n",
    "        if paramVar == paramVal[i][0] and paramBias == paramVal[i][1]:\n",
    "            for j in range(100):\n",
    "                abc_mae[i].append(metrics1[1,j])\n",
    "                abc_mae_skip[i].append(metrics3[1,j])\n",
    "            abc_weights[i].append(nb.scraps['Skip Connection Weight'].data)\n",
    "            prior_model[i].append(nb.scraps['Prior Model MSE'].data)\n",
    "            abc_pre_generator[i].append(nb.scraps['ABC Pre-generator MSE'].data)\n",
    "            abc_mae_skip_mean[i].append(mean(metrics3[1,:]))\n",
    "            abc_mae_mean[i].append(mean(metrics1[1,:]))"
   ]
  },
  {
   "cell_type": "code",
   "execution_count": null,
   "id": "4ec20688",
   "metadata": {},
   "outputs": [],
   "source": [
    "data = [[] for i in range(12)]\n",
    "for i in range(12):\n",
    "    for j in range(len(abc_weights[i])):\n",
    "        data[i].append([paramVal[i][0], paramVal[i][1],prior_model[i][j],\n",
    "                     abc_pre_generator[i][j],abc_weights[i][j],abc_mae_mean[i][j],abc_mae_skip_mean[i][j]])\n",
    "    df = pd.DataFrame(data[i], columns = ['Variance','Bias','Prior Model MAE',\n",
    "                                       'ABC pre-generator MAE','Skip Node weight','ABC GAN MAE','ABC_GAN MAE (skip connection)'])\n",
    "    display(df.round(5))\n",
    "    print(df.median(axis=0))\n",
    "    print(\"-------------------------------------------------------------\")"
   ]
  },
  {
   "cell_type": "code",
   "execution_count": null,
   "id": "23fc9373",
   "metadata": {},
   "outputs": [],
   "source": [
    "# Display Catboost Summary Tables \n",
    "data = np.array(data)\n",
    "tabnetData = []\n",
    "for i in range(12): \n",
    "    tabnetData.append([paramVal[i][0], paramVal[i][1],catboost,median(data[i][:,3]),median(data[i][:,5]),median(data[i][:,6]),median(data[i][:,4])])\n",
    "df = pd.DataFrame(tabnetData, columns = ['Variance','Bias','TabNet','Prior Model MAE','mGAN','skipGAN','Skip Node weight'])\n",
    "display(df.round(5))"
   ]
  }
 ],
 "metadata": {
  "kernelspec": {
   "display_name": "Python 3.7.3 64-bit",
   "language": "python",
   "name": "python3"
  },
  "language_info": {
   "codemirror_mode": {
    "name": "ipython",
    "version": 3
   },
   "file_extension": ".py",
   "mimetype": "text/x-python",
   "name": "python",
   "nbconvert_exporter": "python",
   "pygments_lexer": "ipython3",
   "version": "3.7.3"
  },
  "papermill": {
   "default_parameters": {},
   "duration": 9.733631,
   "end_time": "2022-06-13T07:48:58.732958",
   "environment_variables": {},
   "exception": null,
   "input_path": "Analysis.ipynb",
   "output_path": "Friedman3.ipynb",
   "parameters": {},
   "start_time": "2022-06-13T07:48:48.999327",
   "version": "2.3.3"
  },
  "vscode": {
   "interpreter": {
    "hash": "aee8b7b246df8f9039afb4144a1f6fd8d2ca17a180786b69acc140d282b71a49"
   }
  }
 },
 "nbformat": 4,
 "nbformat_minor": 5
}
