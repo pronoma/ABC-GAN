{
 "cells": [
  {
   "cell_type": "markdown",
   "id": "622780e6",
   "metadata": {
    "id": "622780e6",
    "papermill": {
     "duration": 0.025598,
     "end_time": "2022-06-12T08:52:15.778295",
     "exception": false,
     "start_time": "2022-06-12T08:52:15.752697",
     "status": "completed"
    },
    "tags": []
   },
   "source": [
    "## Import Libraries "
   ]
  },
  {
   "cell_type": "code",
   "execution_count": 1,
   "id": "a62397e3",
   "metadata": {
    "execution": {
     "iopub.execute_input": "2022-06-12T08:52:15.815319Z",
     "iopub.status.busy": "2022-06-12T08:52:15.814804Z",
     "iopub.status.idle": "2022-06-12T08:52:15.817086Z",
     "shell.execute_reply": "2022-06-12T08:52:15.817444Z"
    },
    "id": "a62397e3",
    "papermill": {
     "duration": 0.022903,
     "end_time": "2022-06-12T08:52:15.817661",
     "exception": false,
     "start_time": "2022-06-12T08:52:15.794758",
     "status": "completed"
    },
    "tags": []
   },
   "outputs": [],
   "source": [
    "import warnings\n",
    "import sys\n",
    "sys.path.insert(0, '../../src')\n",
    "warnings.filterwarnings('ignore')"
   ]
  },
  {
   "cell_type": "code",
   "execution_count": 2,
   "id": "d6a4e155",
   "metadata": {
    "execution": {
     "iopub.execute_input": "2022-06-12T08:52:15.838363Z",
     "iopub.status.busy": "2022-06-12T08:52:15.837956Z",
     "iopub.status.idle": "2022-06-12T08:52:17.600068Z",
     "shell.execute_reply": "2022-06-12T08:52:17.600323Z"
    },
    "id": "d6a4e155",
    "papermill": {
     "duration": 1.773233,
     "end_time": "2022-06-12T08:52:17.600447",
     "exception": false,
     "start_time": "2022-06-12T08:52:15.827214",
     "status": "completed"
    },
    "tags": []
   },
   "outputs": [],
   "source": [
    "import ABC_train_test2\n",
    "import bostonDataset\n",
    "import network\n",
    "import dataset\n",
    "import sanityChecks\n",
    "import torch \n",
    "import scrapbook as sb\n",
    "from statistics import mean \n",
    "import catboost as ctb \n",
    "from sklearn.model_selection import train_test_split\n",
    "from sklearn.metrics import mean_squared_error,mean_absolute_error\n",
    "import numpy as np"
   ]
  },
  {
   "cell_type": "markdown",
   "id": "2fa5b0f7",
   "metadata": {
    "id": "2fa5b0f7",
    "papermill": {
     "duration": 0.007198,
     "end_time": "2022-06-12T08:52:17.614886",
     "exception": false,
     "start_time": "2022-06-12T08:52:17.607688",
     "status": "completed"
    },
    "tags": []
   },
   "source": [
    "## Parameters "
   ]
  },
  {
   "cell_type": "code",
   "execution_count": 3,
   "id": "783186fb",
   "metadata": {
    "execution": {
     "iopub.execute_input": "2022-06-12T08:52:17.630907Z",
     "iopub.status.busy": "2022-06-12T08:52:17.630530Z",
     "iopub.status.idle": "2022-06-12T08:52:17.631827Z",
     "shell.execute_reply": "2022-06-12T08:52:17.632060Z"
    },
    "id": "783186fb",
    "papermill": {
     "duration": 0.010453,
     "end_time": "2022-06-12T08:52:17.632173",
     "exception": false,
     "start_time": "2022-06-12T08:52:17.621720",
     "status": "completed"
    },
    "tags": [
     "parameters"
    ]
   },
   "outputs": [],
   "source": [
    "variance = 1\n",
    "bias = 1 "
   ]
  },
  {
   "cell_type": "code",
   "execution_count": 4,
   "id": "235ad213",
   "metadata": {
    "execution": {
     "iopub.execute_input": "2022-06-12T08:52:17.648098Z",
     "iopub.status.busy": "2022-06-12T08:52:17.647720Z",
     "iopub.status.idle": "2022-06-12T08:52:17.648904Z",
     "shell.execute_reply": "2022-06-12T08:52:17.649138Z"
    },
    "papermill": {
     "duration": 0.010038,
     "end_time": "2022-06-12T08:52:17.649258",
     "exception": false,
     "start_time": "2022-06-12T08:52:17.639220",
     "status": "completed"
    },
    "tags": [
     "injected-parameters"
    ]
   },
   "outputs": [],
   "source": [
    "# Parameters\n",
    "variance = 0.01\n",
    "bias = 0.01\n"
   ]
  },
  {
   "cell_type": "markdown",
   "id": "391cdbfd",
   "metadata": {
    "id": "391cdbfd",
    "papermill": {
     "duration": 0.00678,
     "end_time": "2022-06-12T08:52:17.662902",
     "exception": false,
     "start_time": "2022-06-12T08:52:17.656122",
     "status": "completed"
    },
    "tags": []
   },
   "source": [
    "## Dataset \n"
   ]
  },
  {
   "cell_type": "code",
   "execution_count": 5,
   "id": "5b51f161",
   "metadata": {
    "execution": {
     "iopub.execute_input": "2022-06-12T08:52:17.678398Z",
     "iopub.status.busy": "2022-06-12T08:52:17.678032Z",
     "iopub.status.idle": "2022-06-12T08:52:17.679323Z",
     "shell.execute_reply": "2022-06-12T08:52:17.679574Z"
    },
    "id": "5b51f161",
    "papermill": {
     "duration": 0.009928,
     "end_time": "2022-06-12T08:52:17.679684",
     "exception": false,
     "start_time": "2022-06-12T08:52:17.669756",
     "status": "completed"
    },
    "tags": []
   },
   "outputs": [],
   "source": [
    "#Parameters \n",
    "n_features = 13\n",
    "n_samples= 506\n",
    "n_target = 1 "
   ]
  },
  {
   "cell_type": "code",
   "execution_count": 6,
   "id": "5d6eced4",
   "metadata": {
    "execution": {
     "iopub.execute_input": "2022-06-12T08:52:17.695492Z",
     "iopub.status.busy": "2022-06-12T08:52:17.695143Z",
     "iopub.status.idle": "2022-06-12T08:52:17.705775Z",
     "shell.execute_reply": "2022-06-12T08:52:17.706016Z"
    },
    "id": "5d6eced4",
    "papermill": {
     "duration": 0.019472,
     "end_time": "2022-06-12T08:52:17.706127",
     "exception": false,
     "start_time": "2022-06-12T08:52:17.686655",
     "status": "completed"
    },
    "tags": []
   },
   "outputs": [
    {
     "name": "stdout",
     "output_type": "stream",
     "text": [
      "         X1        X2        X3        X4        X5        X6        X7  \\\n",
      "0 -0.419782  0.284830 -1.287909 -0.272599 -0.144217  0.413672 -0.120013   \n",
      "1 -0.417339 -0.487722 -0.593381 -0.272599 -0.740262  0.194274  0.367166   \n",
      "2 -0.417342 -0.487722 -0.593381 -0.272599 -0.740262  1.282714 -0.265812   \n",
      "3 -0.416750 -0.487722 -1.306878 -0.272599 -0.835284  1.016303 -0.809889   \n",
      "4 -0.412482 -0.487722 -1.306878 -0.272599 -0.835284  1.228577 -0.511180   \n",
      "\n",
      "         X8        X9       X10       X11       X12       X13         Y  \n",
      "0  0.140214 -0.982843 -0.666608 -1.459000  0.441052 -1.075562  0.159686  \n",
      "1  0.557160 -0.867883 -0.987329 -0.303094  0.441052 -0.492439 -0.101524  \n",
      "2  0.557160 -0.867883 -0.987329 -0.303094  0.396427 -1.208727  1.324247  \n",
      "3  1.077737 -0.752922 -1.106115  0.113032  0.416163 -1.361517  1.182758  \n",
      "4  1.077737 -0.752922 -1.106115  0.113032  0.441052 -1.026501  1.487503  \n"
     ]
    }
   ],
   "source": [
    "X,Y = bostonDataset.boston_data()"
   ]
  },
  {
   "cell_type": "code",
   "execution_count": 7,
   "id": "fe007438",
   "metadata": {
    "execution": {
     "iopub.execute_input": "2022-06-12T08:52:17.724366Z",
     "iopub.status.busy": "2022-06-12T08:52:17.723980Z",
     "iopub.status.idle": "2022-06-12T08:52:17.725409Z",
     "shell.execute_reply": "2022-06-12T08:52:17.725660Z"
    },
    "id": "fe007438",
    "papermill": {
     "duration": 0.01229,
     "end_time": "2022-06-12T08:52:17.725782",
     "exception": false,
     "start_time": "2022-06-12T08:52:17.713492",
     "status": "completed"
    },
    "tags": []
   },
   "outputs": [],
   "source": [
    "#Train test split for dataset \n",
    "X_train,X_test,Y_train,Y_test = train_test_split(X,Y,test_size = 0.2)\n",
    "train_data = dataset.CustomDataset(X_train,Y_train)\n",
    "test_data = dataset.CustomDataset(X_test,Y_test)\n"
   ]
  },
  {
   "cell_type": "markdown",
   "id": "a9a1af34",
   "metadata": {
    "id": "a9a1af34",
    "papermill": {
     "duration": 0.00716,
     "end_time": "2022-06-12T08:52:17.740550",
     "exception": false,
     "start_time": "2022-06-12T08:52:17.733390",
     "status": "completed"
    },
    "tags": []
   },
   "source": [
    "## Training Parameters "
   ]
  },
  {
   "cell_type": "code",
   "execution_count": 8,
   "id": "952b7fc8",
   "metadata": {
    "execution": {
     "iopub.execute_input": "2022-06-12T08:52:17.757591Z",
     "iopub.status.busy": "2022-06-12T08:52:17.757147Z",
     "iopub.status.idle": "2022-06-12T08:52:17.758498Z",
     "shell.execute_reply": "2022-06-12T08:52:17.758739Z"
    },
    "id": "952b7fc8",
    "papermill": {
     "duration": 0.011124,
     "end_time": "2022-06-12T08:52:17.758854",
     "exception": false,
     "start_time": "2022-06-12T08:52:17.747730",
     "status": "completed"
    },
    "tags": []
   },
   "outputs": [],
   "source": [
    "batch_size = 32\n",
    "n_epochs = 1000\n",
    "#Select the device \n",
    "device = torch.device('cuda' if torch.cuda.is_available() else 'cpu')"
   ]
  },
  {
   "cell_type": "markdown",
   "id": "a95e1600",
   "metadata": {
    "id": "a95e1600",
    "papermill": {
     "duration": 0.007112,
     "end_time": "2022-06-12T08:52:17.773244",
     "exception": false,
     "start_time": "2022-06-12T08:52:17.766132",
     "status": "completed"
    },
    "tags": []
   },
   "source": [
    "# ABC Pre-generator Model \n",
    "\n",
    "1. The catboost model is used as a pre-generator model for the ABC-GAN. \n",
    "2. The model is first trained on the entire dataset \n",
    "3. It generats X,Y pairs and we add some Gaussian noise with mean 0 and variance 1 to it which is then feed as input to the generator.\n"
   ]
  },
  {
   "cell_type": "code",
   "execution_count": 9,
   "id": "ff8ce7bd",
   "metadata": {
    "execution": {
     "iopub.execute_input": "2022-06-12T08:52:17.792390Z",
     "iopub.status.busy": "2022-06-12T08:52:17.792007Z",
     "iopub.status.idle": "2022-06-12T08:52:18.767313Z",
     "shell.execute_reply": "2022-06-12T08:52:18.767615Z"
    },
    "id": "ff8ce7bd",
    "papermill": {
     "duration": 0.987295,
     "end_time": "2022-06-12T08:52:18.767737",
     "exception": false,
     "start_time": "2022-06-12T08:52:17.780442",
     "status": "completed"
    },
    "tags": []
   },
   "outputs": [
    {
     "name": "stdout",
     "output_type": "stream",
     "text": [
      "Learning rate set to 0.033215\n",
      "0:\tlearn: 1.0065066\ttotal: 58.6ms\tremaining: 58.5s\n",
      "1:\tlearn: 0.9855502\ttotal: 59.6ms\tremaining: 29.7s\n",
      "2:\tlearn: 0.9658439\ttotal: 60.6ms\tremaining: 20.1s\n",
      "3:\tlearn: 0.9484660\ttotal: 61.7ms\tremaining: 15.4s\n",
      "4:\tlearn: 0.9319940\ttotal: 62.6ms\tremaining: 12.5s\n",
      "5:\tlearn: 0.9146343\ttotal: 63.5ms\tremaining: 10.5s\n",
      "6:\tlearn: 0.8972354\ttotal: 64.5ms\tremaining: 9.15s\n",
      "7:\tlearn: 0.8813336\ttotal: 65.5ms\tremaining: 8.13s\n",
      "8:\tlearn: 0.8651665\ttotal: 66.5ms\tremaining: 7.32s\n",
      "9:\tlearn: 0.8487047\ttotal: 67.4ms\tremaining: 6.67s\n",
      "10:\tlearn: 0.8317565\ttotal: 68.4ms\tremaining: 6.15s\n",
      "11:\tlearn: 0.8166416\ttotal: 69.3ms\tremaining: 5.7s\n",
      "12:\tlearn: 0.8025818\ttotal: 70.1ms\tremaining: 5.32s\n",
      "13:\tlearn: 0.7874190\ttotal: 70.8ms\tremaining: 4.99s\n",
      "14:\tlearn: 0.7747239\ttotal: 71.7ms\tremaining: 4.71s\n",
      "15:\tlearn: 0.7608442\ttotal: 72.6ms\tremaining: 4.46s\n",
      "16:\tlearn: 0.7490836\ttotal: 73.4ms\tremaining: 4.25s\n",
      "17:\tlearn: 0.7369703\ttotal: 74.3ms\tremaining: 4.05s\n",
      "18:\tlearn: 0.7242741\ttotal: 75.3ms\tremaining: 3.88s\n",
      "19:\tlearn: 0.7107765\ttotal: 76.1ms\tremaining: 3.73s\n",
      "20:\tlearn: 0.6992453\ttotal: 76.8ms\tremaining: 3.58s\n",
      "21:\tlearn: 0.6863516\ttotal: 77.6ms\tremaining: 3.45s\n",
      "22:\tlearn: 0.6762920\ttotal: 78.4ms\tremaining: 3.33s\n",
      "23:\tlearn: 0.6664354\ttotal: 79.2ms\tremaining: 3.22s\n",
      "24:\tlearn: 0.6563063\ttotal: 80ms\tremaining: 3.12s\n",
      "25:\tlearn: 0.6478252\ttotal: 80.9ms\tremaining: 3.03s\n",
      "26:\tlearn: 0.6388669\ttotal: 81.7ms\tremaining: 2.94s\n",
      "27:\tlearn: 0.6295110\ttotal: 82.2ms\tremaining: 2.85s\n",
      "28:\tlearn: 0.6203080\ttotal: 83.1ms\tremaining: 2.78s\n",
      "29:\tlearn: 0.6099282\ttotal: 83.9ms\tremaining: 2.71s\n",
      "30:\tlearn: 0.6005719\ttotal: 84.7ms\tremaining: 2.65s\n",
      "31:\tlearn: 0.5902354\ttotal: 85.5ms\tremaining: 2.59s\n",
      "32:\tlearn: 0.5822472\ttotal: 86.3ms\tremaining: 2.53s\n",
      "33:\tlearn: 0.5755292\ttotal: 87ms\tremaining: 2.47s\n",
      "34:\tlearn: 0.5680614\ttotal: 87.8ms\tremaining: 2.42s\n",
      "35:\tlearn: 0.5602388\ttotal: 88.7ms\tremaining: 2.38s\n",
      "36:\tlearn: 0.5530848\ttotal: 89.5ms\tremaining: 2.33s\n",
      "37:\tlearn: 0.5454223\ttotal: 90.4ms\tremaining: 2.29s\n",
      "38:\tlearn: 0.5377004\ttotal: 91.1ms\tremaining: 2.25s\n",
      "39:\tlearn: 0.5296640\ttotal: 91.9ms\tremaining: 2.21s\n",
      "40:\tlearn: 0.5226937\ttotal: 92.6ms\tremaining: 2.17s\n",
      "41:\tlearn: 0.5167133\ttotal: 93.5ms\tremaining: 2.13s\n",
      "42:\tlearn: 0.5103067\ttotal: 94.3ms\tremaining: 2.1s\n",
      "43:\tlearn: 0.5031837\ttotal: 95.1ms\tremaining: 2.06s\n",
      "44:\tlearn: 0.4966624\ttotal: 95.8ms\tremaining: 2.03s\n",
      "45:\tlearn: 0.4913598\ttotal: 96.5ms\tremaining: 2s\n",
      "46:\tlearn: 0.4866548\ttotal: 97.2ms\tremaining: 1.97s\n",
      "47:\tlearn: 0.4806787\ttotal: 98ms\tremaining: 1.94s\n",
      "48:\tlearn: 0.4756282\ttotal: 98.7ms\tremaining: 1.92s\n",
      "49:\tlearn: 0.4698272\ttotal: 99.5ms\tremaining: 1.89s\n",
      "50:\tlearn: 0.4658365\ttotal: 100ms\tremaining: 1.86s\n",
      "51:\tlearn: 0.4596408\ttotal: 101ms\tremaining: 1.84s\n",
      "52:\tlearn: 0.4551613\ttotal: 102ms\tremaining: 1.82s\n",
      "53:\tlearn: 0.4512638\ttotal: 103ms\tremaining: 1.8s\n",
      "54:\tlearn: 0.4463313\ttotal: 104ms\tremaining: 1.78s\n",
      "55:\tlearn: 0.4428030\ttotal: 104ms\tremaining: 1.76s\n",
      "56:\tlearn: 0.4387873\ttotal: 105ms\tremaining: 1.74s\n",
      "57:\tlearn: 0.4342617\ttotal: 106ms\tremaining: 1.72s\n"
     ]
    },
    {
     "name": "stdout",
     "output_type": "stream",
     "text": [
      "58:\tlearn: 0.4308184\ttotal: 107ms\tremaining: 1.71s\n",
      "59:\tlearn: 0.4265936\ttotal: 108ms\tremaining: 1.7s\n",
      "60:\tlearn: 0.4220090\ttotal: 109ms\tremaining: 1.68s\n",
      "61:\tlearn: 0.4178659\ttotal: 110ms\tremaining: 1.66s\n",
      "62:\tlearn: 0.4146689\ttotal: 111ms\tremaining: 1.65s\n",
      "63:\tlearn: 0.4101008\ttotal: 111ms\tremaining: 1.63s\n",
      "64:\tlearn: 0.4066976\ttotal: 112ms\tremaining: 1.61s\n",
      "65:\tlearn: 0.4019136\ttotal: 113ms\tremaining: 1.6s\n",
      "66:\tlearn: 0.3985292\ttotal: 114ms\tremaining: 1.59s\n",
      "67:\tlearn: 0.3951887\ttotal: 115ms\tremaining: 1.57s\n",
      "68:\tlearn: 0.3921766\ttotal: 115ms\tremaining: 1.56s\n",
      "69:\tlearn: 0.3895095\ttotal: 116ms\tremaining: 1.54s\n",
      "70:\tlearn: 0.3856459\ttotal: 117ms\tremaining: 1.53s\n",
      "71:\tlearn: 0.3831037\ttotal: 118ms\tremaining: 1.52s\n",
      "72:\tlearn: 0.3798042\ttotal: 119ms\tremaining: 1.51s\n",
      "73:\tlearn: 0.3763811\ttotal: 119ms\tremaining: 1.5s\n",
      "74:\tlearn: 0.3732522\ttotal: 120ms\tremaining: 1.48s\n",
      "75:\tlearn: 0.3701329\ttotal: 121ms\tremaining: 1.47s\n",
      "76:\tlearn: 0.3667380\ttotal: 122ms\tremaining: 1.46s\n",
      "77:\tlearn: 0.3643342\ttotal: 123ms\tremaining: 1.45s\n",
      "78:\tlearn: 0.3625095\ttotal: 123ms\tremaining: 1.44s\n",
      "79:\tlearn: 0.3602840\ttotal: 124ms\tremaining: 1.43s\n",
      "80:\tlearn: 0.3576419\ttotal: 126ms\tremaining: 1.43s\n",
      "81:\tlearn: 0.3551861\ttotal: 126ms\tremaining: 1.42s\n",
      "82:\tlearn: 0.3534383\ttotal: 127ms\tremaining: 1.41s\n",
      "83:\tlearn: 0.3515556\ttotal: 128ms\tremaining: 1.4s\n",
      "84:\tlearn: 0.3488561\ttotal: 129ms\tremaining: 1.39s\n",
      "85:\tlearn: 0.3464047\ttotal: 130ms\tremaining: 1.38s\n",
      "86:\tlearn: 0.3444919\ttotal: 131ms\tremaining: 1.37s\n",
      "87:\tlearn: 0.3419962\ttotal: 132ms\tremaining: 1.36s\n",
      "88:\tlearn: 0.3394651\ttotal: 132ms\tremaining: 1.35s\n",
      "89:\tlearn: 0.3372179\ttotal: 133ms\tremaining: 1.35s\n",
      "90:\tlearn: 0.3345449\ttotal: 134ms\tremaining: 1.34s\n",
      "91:\tlearn: 0.3324320\ttotal: 135ms\tremaining: 1.33s\n",
      "92:\tlearn: 0.3308318\ttotal: 136ms\tremaining: 1.32s\n",
      "93:\tlearn: 0.3284022\ttotal: 136ms\tremaining: 1.31s\n",
      "94:\tlearn: 0.3261622\ttotal: 137ms\tremaining: 1.31s\n",
      "95:\tlearn: 0.3247554\ttotal: 138ms\tremaining: 1.3s\n",
      "96:\tlearn: 0.3231565\ttotal: 139ms\tremaining: 1.29s\n",
      "97:\tlearn: 0.3212950\ttotal: 140ms\tremaining: 1.28s\n",
      "98:\tlearn: 0.3195581\ttotal: 140ms\tremaining: 1.28s\n",
      "99:\tlearn: 0.3177233\ttotal: 141ms\tremaining: 1.27s\n",
      "100:\tlearn: 0.3154878\ttotal: 142ms\tremaining: 1.26s\n",
      "101:\tlearn: 0.3134910\ttotal: 143ms\tremaining: 1.26s\n",
      "102:\tlearn: 0.3121147\ttotal: 144ms\tremaining: 1.25s\n",
      "103:\tlearn: 0.3107430\ttotal: 144ms\tremaining: 1.24s\n",
      "104:\tlearn: 0.3093467\ttotal: 145ms\tremaining: 1.24s\n",
      "105:\tlearn: 0.3074709\ttotal: 146ms\tremaining: 1.23s\n",
      "106:\tlearn: 0.3056191\ttotal: 147ms\tremaining: 1.23s\n",
      "107:\tlearn: 0.3032565\ttotal: 148ms\tremaining: 1.22s\n",
      "108:\tlearn: 0.3016190\ttotal: 149ms\tremaining: 1.22s\n",
      "109:\tlearn: 0.3005469\ttotal: 149ms\tremaining: 1.21s\n",
      "110:\tlearn: 0.2990289\ttotal: 150ms\tremaining: 1.2s\n",
      "111:\tlearn: 0.2978580\ttotal: 151ms\tremaining: 1.2s\n",
      "112:\tlearn: 0.2963738\ttotal: 152ms\tremaining: 1.19s\n",
      "113:\tlearn: 0.2952754\ttotal: 153ms\tremaining: 1.19s\n",
      "114:\tlearn: 0.2939703\ttotal: 154ms\tremaining: 1.18s\n",
      "115:\tlearn: 0.2926406\ttotal: 154ms\tremaining: 1.18s\n",
      "116:\tlearn: 0.2911799\ttotal: 155ms\tremaining: 1.17s\n",
      "117:\tlearn: 0.2894273\ttotal: 156ms\tremaining: 1.17s\n",
      "118:\tlearn: 0.2881941\ttotal: 157ms\tremaining: 1.16s\n",
      "119:\tlearn: 0.2874016\ttotal: 158ms\tremaining: 1.16s\n",
      "120:\tlearn: 0.2857624\ttotal: 158ms\tremaining: 1.15s\n",
      "121:\tlearn: 0.2845734\ttotal: 159ms\tremaining: 1.15s\n",
      "122:\tlearn: 0.2833486\ttotal: 160ms\tremaining: 1.14s\n",
      "123:\tlearn: 0.2815635\ttotal: 161ms\tremaining: 1.14s\n",
      "124:\tlearn: 0.2804108\ttotal: 162ms\tremaining: 1.13s\n",
      "125:\tlearn: 0.2794471\ttotal: 163ms\tremaining: 1.13s\n",
      "126:\tlearn: 0.2784214\ttotal: 163ms\tremaining: 1.12s\n",
      "127:\tlearn: 0.2774297\ttotal: 164ms\tremaining: 1.12s\n",
      "128:\tlearn: 0.2761033\ttotal: 165ms\tremaining: 1.11s\n",
      "129:\tlearn: 0.2749565\ttotal: 166ms\tremaining: 1.11s\n",
      "130:\tlearn: 0.2740614\ttotal: 167ms\tremaining: 1.1s\n",
      "131:\tlearn: 0.2729133\ttotal: 168ms\tremaining: 1.1s\n",
      "132:\tlearn: 0.2718194\ttotal: 168ms\tremaining: 1.1s\n",
      "133:\tlearn: 0.2710586\ttotal: 169ms\tremaining: 1.09s\n",
      "134:\tlearn: 0.2694686\ttotal: 170ms\tremaining: 1.09s\n",
      "135:\tlearn: 0.2682538\ttotal: 171ms\tremaining: 1.09s\n",
      "136:\tlearn: 0.2673106\ttotal: 172ms\tremaining: 1.08s\n",
      "137:\tlearn: 0.2662814\ttotal: 173ms\tremaining: 1.08s\n",
      "138:\tlearn: 0.2652762\ttotal: 173ms\tremaining: 1.07s\n",
      "139:\tlearn: 0.2644453\ttotal: 174ms\tremaining: 1.07s\n",
      "140:\tlearn: 0.2637606\ttotal: 175ms\tremaining: 1.06s\n",
      "141:\tlearn: 0.2627412\ttotal: 176ms\tremaining: 1.06s\n",
      "142:\tlearn: 0.2621401\ttotal: 177ms\tremaining: 1.06s\n",
      "143:\tlearn: 0.2611672\ttotal: 177ms\tremaining: 1.05s\n"
     ]
    },
    {
     "name": "stdout",
     "output_type": "stream",
     "text": [
      "144:\tlearn: 0.2602257\ttotal: 178ms\tremaining: 1.05s\n",
      "145:\tlearn: 0.2594078\ttotal: 179ms\tremaining: 1.05s\n",
      "146:\tlearn: 0.2582655\ttotal: 180ms\tremaining: 1.05s\n",
      "147:\tlearn: 0.2573987\ttotal: 181ms\tremaining: 1.04s\n",
      "148:\tlearn: 0.2563907\ttotal: 182ms\tremaining: 1.04s\n",
      "149:\tlearn: 0.2558417\ttotal: 183ms\tremaining: 1.04s\n",
      "150:\tlearn: 0.2544561\ttotal: 184ms\tremaining: 1.03s\n",
      "151:\tlearn: 0.2535210\ttotal: 185ms\tremaining: 1.03s\n",
      "152:\tlearn: 0.2529696\ttotal: 186ms\tremaining: 1.03s\n",
      "153:\tlearn: 0.2519133\ttotal: 187ms\tremaining: 1.02s\n",
      "154:\tlearn: 0.2507802\ttotal: 188ms\tremaining: 1.02s\n",
      "155:\tlearn: 0.2498667\ttotal: 189ms\tremaining: 1.02s\n",
      "156:\tlearn: 0.2491349\ttotal: 190ms\tremaining: 1.02s\n",
      "157:\tlearn: 0.2484317\ttotal: 191ms\tremaining: 1.02s\n",
      "158:\tlearn: 0.2475790\ttotal: 192ms\tremaining: 1.01s\n",
      "159:\tlearn: 0.2470907\ttotal: 193ms\tremaining: 1.01s\n",
      "160:\tlearn: 0.2462958\ttotal: 194ms\tremaining: 1.01s\n",
      "161:\tlearn: 0.2454348\ttotal: 195ms\tremaining: 1.01s\n",
      "162:\tlearn: 0.2447341\ttotal: 195ms\tremaining: 1s\n",
      "163:\tlearn: 0.2437759\ttotal: 196ms\tremaining: 1s\n",
      "164:\tlearn: 0.2430945\ttotal: 197ms\tremaining: 999ms\n",
      "165:\tlearn: 0.2423089\ttotal: 198ms\tremaining: 997ms\n",
      "166:\tlearn: 0.2413302\ttotal: 199ms\tremaining: 994ms\n",
      "167:\tlearn: 0.2401052\ttotal: 200ms\tremaining: 991ms\n",
      "168:\tlearn: 0.2392915\ttotal: 201ms\tremaining: 988ms\n",
      "169:\tlearn: 0.2386348\ttotal: 202ms\tremaining: 986ms\n",
      "170:\tlearn: 0.2378526\ttotal: 203ms\tremaining: 984ms\n",
      "171:\tlearn: 0.2371290\ttotal: 204ms\tremaining: 981ms\n",
      "172:\tlearn: 0.2365115\ttotal: 205ms\tremaining: 979ms\n",
      "173:\tlearn: 0.2359047\ttotal: 206ms\tremaining: 976ms\n",
      "174:\tlearn: 0.2350467\ttotal: 206ms\tremaining: 973ms\n",
      "175:\tlearn: 0.2344107\ttotal: 207ms\tremaining: 971ms\n",
      "176:\tlearn: 0.2335256\ttotal: 208ms\tremaining: 968ms\n",
      "177:\tlearn: 0.2327784\ttotal: 209ms\tremaining: 966ms\n",
      "178:\tlearn: 0.2322901\ttotal: 210ms\tremaining: 963ms\n",
      "179:\tlearn: 0.2315819\ttotal: 211ms\tremaining: 960ms\n",
      "180:\tlearn: 0.2306755\ttotal: 212ms\tremaining: 957ms\n",
      "181:\tlearn: 0.2299419\ttotal: 212ms\tremaining: 954ms\n",
      "182:\tlearn: 0.2294566\ttotal: 213ms\tremaining: 952ms\n",
      "183:\tlearn: 0.2287632\ttotal: 214ms\tremaining: 949ms\n",
      "184:\tlearn: 0.2278922\ttotal: 215ms\tremaining: 947ms\n",
      "185:\tlearn: 0.2271541\ttotal: 216ms\tremaining: 945ms\n",
      "186:\tlearn: 0.2261756\ttotal: 217ms\tremaining: 943ms\n",
      "187:\tlearn: 0.2256163\ttotal: 218ms\tremaining: 940ms\n",
      "188:\tlearn: 0.2250800\ttotal: 219ms\tremaining: 938ms\n",
      "189:\tlearn: 0.2244462\ttotal: 220ms\tremaining: 936ms\n",
      "190:\tlearn: 0.2238239\ttotal: 221ms\tremaining: 934ms\n",
      "191:\tlearn: 0.2232337\ttotal: 221ms\tremaining: 932ms\n",
      "192:\tlearn: 0.2221735\ttotal: 222ms\tremaining: 930ms\n",
      "193:\tlearn: 0.2216702\ttotal: 223ms\tremaining: 927ms\n",
      "194:\tlearn: 0.2211574\ttotal: 224ms\tremaining: 925ms\n",
      "195:\tlearn: 0.2204594\ttotal: 225ms\tremaining: 922ms\n",
      "196:\tlearn: 0.2199918\ttotal: 226ms\tremaining: 920ms\n",
      "197:\tlearn: 0.2194084\ttotal: 226ms\tremaining: 917ms\n",
      "198:\tlearn: 0.2189874\ttotal: 227ms\tremaining: 915ms\n",
      "199:\tlearn: 0.2183941\ttotal: 228ms\tremaining: 912ms\n",
      "200:\tlearn: 0.2176442\ttotal: 229ms\tremaining: 910ms\n",
      "201:\tlearn: 0.2172500\ttotal: 230ms\tremaining: 908ms\n",
      "202:\tlearn: 0.2167082\ttotal: 230ms\tremaining: 905ms\n",
      "203:\tlearn: 0.2163407\ttotal: 231ms\tremaining: 903ms\n",
      "204:\tlearn: 0.2157784\ttotal: 232ms\tremaining: 900ms\n",
      "205:\tlearn: 0.2149205\ttotal: 233ms\tremaining: 898ms\n",
      "206:\tlearn: 0.2142341\ttotal: 234ms\tremaining: 895ms\n",
      "207:\tlearn: 0.2138080\ttotal: 234ms\tremaining: 893ms\n",
      "208:\tlearn: 0.2132295\ttotal: 235ms\tremaining: 890ms\n",
      "209:\tlearn: 0.2124962\ttotal: 236ms\tremaining: 888ms\n",
      "210:\tlearn: 0.2119713\ttotal: 237ms\tremaining: 886ms\n",
      "211:\tlearn: 0.2115048\ttotal: 238ms\tremaining: 883ms\n",
      "212:\tlearn: 0.2107175\ttotal: 239ms\tremaining: 881ms\n",
      "213:\tlearn: 0.2102425\ttotal: 239ms\tremaining: 879ms\n",
      "214:\tlearn: 0.2096412\ttotal: 240ms\tremaining: 877ms\n",
      "215:\tlearn: 0.2091015\ttotal: 241ms\tremaining: 875ms\n",
      "216:\tlearn: 0.2086913\ttotal: 242ms\tremaining: 873ms\n",
      "217:\tlearn: 0.2081910\ttotal: 243ms\tremaining: 870ms\n",
      "218:\tlearn: 0.2076103\ttotal: 243ms\tremaining: 868ms\n",
      "219:\tlearn: 0.2073146\ttotal: 244ms\tremaining: 866ms\n",
      "220:\tlearn: 0.2066832\ttotal: 246ms\tremaining: 865ms\n",
      "221:\tlearn: 0.2059499\ttotal: 246ms\tremaining: 863ms\n",
      "222:\tlearn: 0.2054431\ttotal: 247ms\tremaining: 861ms\n",
      "223:\tlearn: 0.2047965\ttotal: 248ms\tremaining: 859ms\n",
      "224:\tlearn: 0.2044328\ttotal: 249ms\tremaining: 857ms\n",
      "225:\tlearn: 0.2039050\ttotal: 250ms\tremaining: 855ms\n",
      "226:\tlearn: 0.2034796\ttotal: 250ms\tremaining: 852ms\n",
      "227:\tlearn: 0.2028032\ttotal: 251ms\tremaining: 851ms\n",
      "228:\tlearn: 0.2022117\ttotal: 252ms\tremaining: 848ms\n",
      "229:\tlearn: 0.2017636\ttotal: 253ms\tremaining: 846ms\n",
      "230:\tlearn: 0.2012429\ttotal: 253ms\tremaining: 844ms\n",
      "231:\tlearn: 0.2007634\ttotal: 254ms\tremaining: 842ms\n",
      "232:\tlearn: 0.2003100\ttotal: 255ms\tremaining: 840ms\n",
      "233:\tlearn: 0.1997585\ttotal: 256ms\tremaining: 838ms\n",
      "234:\tlearn: 0.1993819\ttotal: 257ms\tremaining: 836ms\n",
      "235:\tlearn: 0.1986829\ttotal: 257ms\tremaining: 834ms\n",
      "236:\tlearn: 0.1983219\ttotal: 258ms\tremaining: 832ms\n",
      "237:\tlearn: 0.1977725\ttotal: 259ms\tremaining: 829ms\n",
      "238:\tlearn: 0.1974129\ttotal: 260ms\tremaining: 828ms\n",
      "239:\tlearn: 0.1967993\ttotal: 261ms\tremaining: 825ms\n",
      "240:\tlearn: 0.1963598\ttotal: 262ms\tremaining: 824ms\n",
      "241:\tlearn: 0.1956733\ttotal: 262ms\tremaining: 822ms\n",
      "242:\tlearn: 0.1952286\ttotal: 263ms\tremaining: 820ms\n",
      "243:\tlearn: 0.1947298\ttotal: 264ms\tremaining: 819ms\n",
      "244:\tlearn: 0.1944750\ttotal: 265ms\tremaining: 817ms\n",
      "245:\tlearn: 0.1939695\ttotal: 266ms\tremaining: 815ms\n",
      "246:\tlearn: 0.1934921\ttotal: 267ms\tremaining: 813ms\n",
      "247:\tlearn: 0.1929491\ttotal: 268ms\tremaining: 812ms\n",
      "248:\tlearn: 0.1926240\ttotal: 269ms\tremaining: 810ms\n",
      "249:\tlearn: 0.1921986\ttotal: 269ms\tremaining: 808ms\n",
      "250:\tlearn: 0.1916453\ttotal: 270ms\tremaining: 806ms\n",
      "251:\tlearn: 0.1911308\ttotal: 271ms\tremaining: 805ms\n",
      "252:\tlearn: 0.1908427\ttotal: 272ms\tremaining: 803ms\n",
      "253:\tlearn: 0.1902992\ttotal: 273ms\tremaining: 801ms\n",
      "254:\tlearn: 0.1898004\ttotal: 274ms\tremaining: 799ms\n",
      "255:\tlearn: 0.1894867\ttotal: 274ms\tremaining: 797ms\n",
      "256:\tlearn: 0.1891095\ttotal: 275ms\tremaining: 795ms\n",
      "257:\tlearn: 0.1885947\ttotal: 276ms\tremaining: 794ms\n",
      "258:\tlearn: 0.1879641\ttotal: 277ms\tremaining: 792ms\n",
      "259:\tlearn: 0.1873248\ttotal: 277ms\tremaining: 790ms\n",
      "260:\tlearn: 0.1869685\ttotal: 278ms\tremaining: 788ms\n",
      "261:\tlearn: 0.1861691\ttotal: 279ms\tremaining: 786ms\n",
      "262:\tlearn: 0.1857347\ttotal: 280ms\tremaining: 784ms\n",
      "263:\tlearn: 0.1853650\ttotal: 281ms\tremaining: 783ms\n"
     ]
    },
    {
     "name": "stdout",
     "output_type": "stream",
     "text": [
      "264:\tlearn: 0.1847647\ttotal: 282ms\tremaining: 782ms\n",
      "265:\tlearn: 0.1843309\ttotal: 283ms\tremaining: 780ms\n",
      "266:\tlearn: 0.1837756\ttotal: 284ms\tremaining: 779ms\n",
      "267:\tlearn: 0.1834205\ttotal: 284ms\tremaining: 777ms\n",
      "268:\tlearn: 0.1830561\ttotal: 285ms\tremaining: 775ms\n",
      "269:\tlearn: 0.1826764\ttotal: 286ms\tremaining: 774ms\n",
      "270:\tlearn: 0.1823587\ttotal: 287ms\tremaining: 772ms\n",
      "271:\tlearn: 0.1818983\ttotal: 288ms\tremaining: 770ms\n",
      "272:\tlearn: 0.1816179\ttotal: 289ms\tremaining: 768ms\n",
      "273:\tlearn: 0.1812213\ttotal: 290ms\tremaining: 767ms\n",
      "274:\tlearn: 0.1809157\ttotal: 290ms\tremaining: 766ms\n",
      "275:\tlearn: 0.1806703\ttotal: 291ms\tremaining: 764ms\n",
      "276:\tlearn: 0.1802312\ttotal: 292ms\tremaining: 762ms\n",
      "277:\tlearn: 0.1796665\ttotal: 293ms\tremaining: 761ms\n",
      "278:\tlearn: 0.1792350\ttotal: 294ms\tremaining: 759ms\n",
      "279:\tlearn: 0.1787332\ttotal: 295ms\tremaining: 758ms\n",
      "280:\tlearn: 0.1782978\ttotal: 295ms\tremaining: 756ms\n",
      "281:\tlearn: 0.1779743\ttotal: 296ms\tremaining: 754ms\n",
      "282:\tlearn: 0.1776657\ttotal: 297ms\tremaining: 753ms\n",
      "283:\tlearn: 0.1774185\ttotal: 298ms\tremaining: 751ms\n",
      "284:\tlearn: 0.1769189\ttotal: 299ms\tremaining: 750ms\n",
      "285:\tlearn: 0.1766602\ttotal: 300ms\tremaining: 748ms\n",
      "286:\tlearn: 0.1763263\ttotal: 301ms\tremaining: 747ms\n",
      "287:\tlearn: 0.1760159\ttotal: 301ms\tremaining: 745ms\n",
      "288:\tlearn: 0.1755799\ttotal: 302ms\tremaining: 743ms\n",
      "289:\tlearn: 0.1749942\ttotal: 303ms\tremaining: 741ms\n",
      "290:\tlearn: 0.1745720\ttotal: 304ms\tremaining: 740ms\n",
      "291:\tlearn: 0.1742313\ttotal: 304ms\tremaining: 738ms\n",
      "292:\tlearn: 0.1738990\ttotal: 305ms\tremaining: 737ms\n",
      "293:\tlearn: 0.1733880\ttotal: 306ms\tremaining: 735ms\n",
      "294:\tlearn: 0.1729125\ttotal: 307ms\tremaining: 734ms\n",
      "295:\tlearn: 0.1726466\ttotal: 308ms\tremaining: 732ms\n",
      "296:\tlearn: 0.1722547\ttotal: 309ms\tremaining: 731ms\n",
      "297:\tlearn: 0.1719832\ttotal: 309ms\tremaining: 729ms\n",
      "298:\tlearn: 0.1715537\ttotal: 310ms\tremaining: 727ms\n",
      "299:\tlearn: 0.1713544\ttotal: 311ms\tremaining: 726ms\n",
      "300:\tlearn: 0.1710896\ttotal: 312ms\tremaining: 724ms\n",
      "301:\tlearn: 0.1708141\ttotal: 313ms\tremaining: 722ms\n",
      "302:\tlearn: 0.1704223\ttotal: 313ms\tremaining: 721ms\n",
      "303:\tlearn: 0.1699709\ttotal: 314ms\tremaining: 719ms\n",
      "304:\tlearn: 0.1696690\ttotal: 315ms\tremaining: 718ms\n",
      "305:\tlearn: 0.1693311\ttotal: 316ms\tremaining: 716ms\n",
      "306:\tlearn: 0.1690341\ttotal: 317ms\tremaining: 715ms\n",
      "307:\tlearn: 0.1684926\ttotal: 317ms\tremaining: 713ms\n",
      "308:\tlearn: 0.1682864\ttotal: 318ms\tremaining: 712ms\n",
      "309:\tlearn: 0.1679518\ttotal: 319ms\tremaining: 710ms\n",
      "310:\tlearn: 0.1676044\ttotal: 320ms\tremaining: 710ms\n",
      "311:\tlearn: 0.1669897\ttotal: 321ms\tremaining: 708ms\n",
      "312:\tlearn: 0.1666901\ttotal: 323ms\tremaining: 708ms\n",
      "313:\tlearn: 0.1663193\ttotal: 323ms\tremaining: 706ms\n",
      "314:\tlearn: 0.1659321\ttotal: 324ms\tremaining: 705ms\n",
      "315:\tlearn: 0.1655151\ttotal: 325ms\tremaining: 704ms\n",
      "316:\tlearn: 0.1652776\ttotal: 326ms\tremaining: 702ms\n",
      "317:\tlearn: 0.1648227\ttotal: 327ms\tremaining: 701ms\n",
      "318:\tlearn: 0.1642808\ttotal: 328ms\tremaining: 700ms\n",
      "319:\tlearn: 0.1638368\ttotal: 328ms\tremaining: 698ms\n",
      "320:\tlearn: 0.1636072\ttotal: 329ms\tremaining: 696ms\n",
      "321:\tlearn: 0.1633375\ttotal: 330ms\tremaining: 695ms\n",
      "322:\tlearn: 0.1630657\ttotal: 331ms\tremaining: 694ms\n",
      "323:\tlearn: 0.1627789\ttotal: 332ms\tremaining: 692ms\n",
      "324:\tlearn: 0.1624054\ttotal: 333ms\tremaining: 691ms\n",
      "325:\tlearn: 0.1621647\ttotal: 333ms\tremaining: 689ms\n",
      "326:\tlearn: 0.1617006\ttotal: 334ms\tremaining: 688ms\n",
      "327:\tlearn: 0.1612749\ttotal: 335ms\tremaining: 686ms\n",
      "328:\tlearn: 0.1612050\ttotal: 336ms\tremaining: 685ms\n",
      "329:\tlearn: 0.1608966\ttotal: 336ms\tremaining: 683ms\n",
      "330:\tlearn: 0.1605168\ttotal: 337ms\tremaining: 681ms\n",
      "331:\tlearn: 0.1601827\ttotal: 338ms\tremaining: 680ms\n",
      "332:\tlearn: 0.1600907\ttotal: 339ms\tremaining: 678ms\n",
      "333:\tlearn: 0.1597334\ttotal: 339ms\tremaining: 677ms\n",
      "334:\tlearn: 0.1594274\ttotal: 340ms\tremaining: 675ms\n",
      "335:\tlearn: 0.1590936\ttotal: 341ms\tremaining: 674ms\n",
      "336:\tlearn: 0.1588242\ttotal: 342ms\tremaining: 672ms\n",
      "337:\tlearn: 0.1584387\ttotal: 343ms\tremaining: 671ms\n",
      "338:\tlearn: 0.1581643\ttotal: 343ms\tremaining: 670ms\n",
      "339:\tlearn: 0.1577572\ttotal: 344ms\tremaining: 668ms\n",
      "340:\tlearn: 0.1574361\ttotal: 345ms\tremaining: 667ms\n",
      "341:\tlearn: 0.1571905\ttotal: 346ms\tremaining: 665ms\n",
      "342:\tlearn: 0.1568188\ttotal: 347ms\tremaining: 664ms\n",
      "343:\tlearn: 0.1564347\ttotal: 347ms\tremaining: 662ms\n",
      "344:\tlearn: 0.1562228\ttotal: 348ms\tremaining: 661ms\n",
      "345:\tlearn: 0.1558219\ttotal: 349ms\tremaining: 660ms\n",
      "346:\tlearn: 0.1555462\ttotal: 350ms\tremaining: 658ms\n",
      "347:\tlearn: 0.1551560\ttotal: 351ms\tremaining: 657ms\n",
      "348:\tlearn: 0.1550849\ttotal: 351ms\tremaining: 655ms\n",
      "349:\tlearn: 0.1548918\ttotal: 352ms\tremaining: 654ms\n",
      "350:\tlearn: 0.1546792\ttotal: 353ms\tremaining: 653ms\n",
      "351:\tlearn: 0.1543500\ttotal: 354ms\tremaining: 651ms\n",
      "352:\tlearn: 0.1541855\ttotal: 355ms\tremaining: 650ms\n",
      "353:\tlearn: 0.1540573\ttotal: 355ms\tremaining: 649ms\n",
      "354:\tlearn: 0.1536988\ttotal: 356ms\tremaining: 647ms\n",
      "355:\tlearn: 0.1533503\ttotal: 357ms\tremaining: 646ms\n",
      "356:\tlearn: 0.1529866\ttotal: 358ms\tremaining: 645ms\n",
      "357:\tlearn: 0.1526812\ttotal: 359ms\tremaining: 643ms\n",
      "358:\tlearn: 0.1524005\ttotal: 360ms\tremaining: 642ms\n",
      "359:\tlearn: 0.1520721\ttotal: 360ms\tremaining: 641ms\n",
      "360:\tlearn: 0.1517730\ttotal: 361ms\tremaining: 639ms\n",
      "361:\tlearn: 0.1516585\ttotal: 362ms\tremaining: 638ms\n",
      "362:\tlearn: 0.1513748\ttotal: 363ms\tremaining: 637ms\n",
      "363:\tlearn: 0.1510755\ttotal: 364ms\tremaining: 636ms\n",
      "364:\tlearn: 0.1506708\ttotal: 365ms\tremaining: 635ms\n",
      "365:\tlearn: 0.1502256\ttotal: 366ms\tremaining: 633ms\n",
      "366:\tlearn: 0.1499140\ttotal: 366ms\tremaining: 632ms\n"
     ]
    },
    {
     "name": "stdout",
     "output_type": "stream",
     "text": [
      "367:\tlearn: 0.1495193\ttotal: 368ms\tremaining: 632ms\n",
      "368:\tlearn: 0.1493001\ttotal: 369ms\tremaining: 631ms\n",
      "369:\tlearn: 0.1491745\ttotal: 370ms\tremaining: 630ms\n",
      "370:\tlearn: 0.1488393\ttotal: 371ms\tremaining: 629ms\n",
      "371:\tlearn: 0.1485020\ttotal: 371ms\tremaining: 627ms\n",
      "372:\tlearn: 0.1483883\ttotal: 372ms\tremaining: 626ms\n",
      "373:\tlearn: 0.1481490\ttotal: 373ms\tremaining: 625ms\n",
      "374:\tlearn: 0.1477649\ttotal: 374ms\tremaining: 623ms\n",
      "375:\tlearn: 0.1476452\ttotal: 375ms\tremaining: 622ms\n",
      "376:\tlearn: 0.1474067\ttotal: 376ms\tremaining: 621ms\n",
      "377:\tlearn: 0.1470134\ttotal: 376ms\tremaining: 620ms\n",
      "378:\tlearn: 0.1467153\ttotal: 377ms\tremaining: 618ms\n",
      "379:\tlearn: 0.1463877\ttotal: 378ms\tremaining: 617ms\n",
      "380:\tlearn: 0.1461428\ttotal: 379ms\tremaining: 615ms\n",
      "381:\tlearn: 0.1458435\ttotal: 380ms\tremaining: 614ms\n",
      "382:\tlearn: 0.1455701\ttotal: 380ms\tremaining: 613ms\n",
      "383:\tlearn: 0.1453755\ttotal: 381ms\tremaining: 611ms\n",
      "384:\tlearn: 0.1450299\ttotal: 382ms\tremaining: 610ms\n",
      "385:\tlearn: 0.1448919\ttotal: 383ms\tremaining: 609ms\n",
      "386:\tlearn: 0.1444190\ttotal: 384ms\tremaining: 608ms\n",
      "387:\tlearn: 0.1441254\ttotal: 385ms\tremaining: 607ms\n",
      "388:\tlearn: 0.1439379\ttotal: 385ms\tremaining: 605ms\n",
      "389:\tlearn: 0.1436213\ttotal: 386ms\tremaining: 604ms\n",
      "390:\tlearn: 0.1433972\ttotal: 387ms\tremaining: 602ms\n",
      "391:\tlearn: 0.1430329\ttotal: 388ms\tremaining: 601ms\n",
      "392:\tlearn: 0.1427450\ttotal: 388ms\tremaining: 600ms\n",
      "393:\tlearn: 0.1423747\ttotal: 389ms\tremaining: 599ms\n",
      "394:\tlearn: 0.1422055\ttotal: 390ms\tremaining: 598ms\n",
      "395:\tlearn: 0.1421267\ttotal: 391ms\tremaining: 596ms\n",
      "396:\tlearn: 0.1418156\ttotal: 392ms\tremaining: 595ms\n",
      "397:\tlearn: 0.1416165\ttotal: 393ms\tremaining: 594ms\n",
      "398:\tlearn: 0.1413456\ttotal: 393ms\tremaining: 593ms\n",
      "399:\tlearn: 0.1412743\ttotal: 394ms\tremaining: 591ms\n",
      "400:\tlearn: 0.1409792\ttotal: 395ms\tremaining: 590ms\n",
      "401:\tlearn: 0.1407802\ttotal: 396ms\tremaining: 589ms\n",
      "402:\tlearn: 0.1405609\ttotal: 397ms\tremaining: 587ms\n",
      "403:\tlearn: 0.1402940\ttotal: 397ms\tremaining: 586ms\n",
      "404:\tlearn: 0.1399898\ttotal: 398ms\tremaining: 585ms\n",
      "405:\tlearn: 0.1397605\ttotal: 399ms\tremaining: 584ms\n",
      "406:\tlearn: 0.1394596\ttotal: 400ms\tremaining: 583ms\n",
      "407:\tlearn: 0.1394195\ttotal: 401ms\tremaining: 581ms\n",
      "408:\tlearn: 0.1391569\ttotal: 401ms\tremaining: 580ms\n",
      "409:\tlearn: 0.1389336\ttotal: 402ms\tremaining: 579ms\n",
      "410:\tlearn: 0.1387750\ttotal: 403ms\tremaining: 578ms\n",
      "411:\tlearn: 0.1385945\ttotal: 404ms\tremaining: 577ms\n",
      "412:\tlearn: 0.1383866\ttotal: 405ms\tremaining: 575ms\n",
      "413:\tlearn: 0.1380445\ttotal: 406ms\tremaining: 574ms\n",
      "414:\tlearn: 0.1377000\ttotal: 407ms\tremaining: 573ms\n",
      "415:\tlearn: 0.1375413\ttotal: 407ms\tremaining: 572ms\n",
      "416:\tlearn: 0.1373135\ttotal: 408ms\tremaining: 571ms\n",
      "417:\tlearn: 0.1369444\ttotal: 409ms\tremaining: 569ms\n",
      "418:\tlearn: 0.1365460\ttotal: 410ms\tremaining: 568ms\n",
      "419:\tlearn: 0.1362119\ttotal: 411ms\tremaining: 567ms\n",
      "420:\tlearn: 0.1359512\ttotal: 412ms\tremaining: 566ms\n",
      "421:\tlearn: 0.1358533\ttotal: 412ms\tremaining: 565ms\n",
      "422:\tlearn: 0.1356605\ttotal: 413ms\tremaining: 563ms\n",
      "423:\tlearn: 0.1355544\ttotal: 414ms\tremaining: 562ms\n",
      "424:\tlearn: 0.1354189\ttotal: 415ms\tremaining: 561ms\n",
      "425:\tlearn: 0.1352610\ttotal: 415ms\tremaining: 560ms\n",
      "426:\tlearn: 0.1350240\ttotal: 416ms\tremaining: 558ms\n",
      "427:\tlearn: 0.1349742\ttotal: 417ms\tremaining: 557ms\n",
      "428:\tlearn: 0.1348854\ttotal: 418ms\tremaining: 556ms\n",
      "429:\tlearn: 0.1346558\ttotal: 419ms\tremaining: 555ms\n",
      "430:\tlearn: 0.1342990\ttotal: 419ms\tremaining: 554ms\n",
      "431:\tlearn: 0.1341492\ttotal: 420ms\tremaining: 552ms\n",
      "432:\tlearn: 0.1339054\ttotal: 421ms\tremaining: 551ms\n",
      "433:\tlearn: 0.1338667\ttotal: 422ms\tremaining: 550ms\n",
      "434:\tlearn: 0.1337953\ttotal: 423ms\tremaining: 549ms\n",
      "435:\tlearn: 0.1334942\ttotal: 424ms\tremaining: 548ms\n",
      "436:\tlearn: 0.1331895\ttotal: 425ms\tremaining: 547ms\n",
      "437:\tlearn: 0.1329624\ttotal: 425ms\tremaining: 546ms\n",
      "438:\tlearn: 0.1327109\ttotal: 426ms\tremaining: 545ms\n",
      "439:\tlearn: 0.1325097\ttotal: 427ms\tremaining: 544ms\n",
      "440:\tlearn: 0.1324256\ttotal: 428ms\tremaining: 543ms\n",
      "441:\tlearn: 0.1323300\ttotal: 429ms\tremaining: 542ms\n",
      "442:\tlearn: 0.1321501\ttotal: 430ms\tremaining: 540ms\n",
      "443:\tlearn: 0.1320680\ttotal: 431ms\tremaining: 539ms\n",
      "444:\tlearn: 0.1317697\ttotal: 431ms\tremaining: 538ms\n",
      "445:\tlearn: 0.1317086\ttotal: 432ms\tremaining: 537ms\n",
      "446:\tlearn: 0.1315167\ttotal: 433ms\tremaining: 536ms\n",
      "447:\tlearn: 0.1314010\ttotal: 434ms\tremaining: 534ms\n",
      "448:\tlearn: 0.1311556\ttotal: 435ms\tremaining: 533ms\n",
      "449:\tlearn: 0.1309382\ttotal: 435ms\tremaining: 532ms\n",
      "450:\tlearn: 0.1309057\ttotal: 437ms\tremaining: 532ms\n",
      "451:\tlearn: 0.1306670\ttotal: 438ms\tremaining: 531ms\n",
      "452:\tlearn: 0.1304592\ttotal: 438ms\tremaining: 529ms\n",
      "453:\tlearn: 0.1300763\ttotal: 439ms\tremaining: 528ms\n",
      "454:\tlearn: 0.1300005\ttotal: 440ms\tremaining: 527ms\n",
      "455:\tlearn: 0.1297290\ttotal: 441ms\tremaining: 526ms\n",
      "456:\tlearn: 0.1294429\ttotal: 441ms\tremaining: 525ms\n",
      "457:\tlearn: 0.1292678\ttotal: 442ms\tremaining: 523ms\n",
      "458:\tlearn: 0.1291221\ttotal: 443ms\tremaining: 522ms\n",
      "459:\tlearn: 0.1289735\ttotal: 444ms\tremaining: 521ms\n",
      "460:\tlearn: 0.1287151\ttotal: 445ms\tremaining: 520ms\n",
      "461:\tlearn: 0.1286872\ttotal: 446ms\tremaining: 519ms\n",
      "462:\tlearn: 0.1286110\ttotal: 447ms\tremaining: 518ms\n",
      "463:\tlearn: 0.1282944\ttotal: 447ms\tremaining: 517ms\n",
      "464:\tlearn: 0.1281101\ttotal: 448ms\tremaining: 516ms\n",
      "465:\tlearn: 0.1280298\ttotal: 449ms\tremaining: 515ms\n",
      "466:\tlearn: 0.1279509\ttotal: 450ms\tremaining: 514ms\n",
      "467:\tlearn: 0.1275804\ttotal: 451ms\tremaining: 513ms\n",
      "468:\tlearn: 0.1273292\ttotal: 452ms\tremaining: 512ms\n",
      "469:\tlearn: 0.1270485\ttotal: 453ms\tremaining: 510ms\n",
      "470:\tlearn: 0.1268533\ttotal: 453ms\tremaining: 509ms\n",
      "471:\tlearn: 0.1265538\ttotal: 454ms\tremaining: 508ms\n",
      "472:\tlearn: 0.1263131\ttotal: 455ms\tremaining: 507ms\n",
      "473:\tlearn: 0.1262385\ttotal: 457ms\tremaining: 507ms\n",
      "474:\tlearn: 0.1260474\ttotal: 457ms\tremaining: 505ms\n",
      "475:\tlearn: 0.1256908\ttotal: 458ms\tremaining: 504ms\n",
      "476:\tlearn: 0.1254995\ttotal: 459ms\tremaining: 503ms\n",
      "477:\tlearn: 0.1253365\ttotal: 460ms\tremaining: 502ms\n",
      "478:\tlearn: 0.1250538\ttotal: 461ms\tremaining: 501ms\n",
      "479:\tlearn: 0.1249201\ttotal: 461ms\tremaining: 500ms\n",
      "480:\tlearn: 0.1246710\ttotal: 462ms\tremaining: 499ms\n",
      "481:\tlearn: 0.1244277\ttotal: 463ms\tremaining: 498ms\n",
      "482:\tlearn: 0.1242591\ttotal: 464ms\tremaining: 497ms\n",
      "483:\tlearn: 0.1240200\ttotal: 465ms\tremaining: 495ms\n",
      "484:\tlearn: 0.1237629\ttotal: 465ms\tremaining: 494ms\n",
      "485:\tlearn: 0.1235325\ttotal: 466ms\tremaining: 493ms\n",
      "486:\tlearn: 0.1233226\ttotal: 467ms\tremaining: 492ms\n",
      "487:\tlearn: 0.1230327\ttotal: 468ms\tremaining: 491ms\n",
      "488:\tlearn: 0.1228262\ttotal: 469ms\tremaining: 490ms\n",
      "489:\tlearn: 0.1225848\ttotal: 470ms\tremaining: 489ms\n",
      "490:\tlearn: 0.1224934\ttotal: 470ms\tremaining: 488ms\n",
      "491:\tlearn: 0.1222868\ttotal: 471ms\tremaining: 487ms\n"
     ]
    },
    {
     "name": "stdout",
     "output_type": "stream",
     "text": [
      "492:\tlearn: 0.1220176\ttotal: 472ms\tremaining: 486ms\n",
      "493:\tlearn: 0.1216322\ttotal: 473ms\tremaining: 485ms\n",
      "494:\tlearn: 0.1213225\ttotal: 474ms\tremaining: 483ms\n",
      "495:\tlearn: 0.1209838\ttotal: 475ms\tremaining: 482ms\n",
      "496:\tlearn: 0.1208696\ttotal: 475ms\tremaining: 481ms\n",
      "497:\tlearn: 0.1207048\ttotal: 476ms\tremaining: 480ms\n",
      "498:\tlearn: 0.1204173\ttotal: 477ms\tremaining: 479ms\n",
      "499:\tlearn: 0.1201554\ttotal: 478ms\tremaining: 478ms\n",
      "500:\tlearn: 0.1198977\ttotal: 479ms\tremaining: 477ms\n",
      "501:\tlearn: 0.1197997\ttotal: 480ms\tremaining: 476ms\n",
      "502:\tlearn: 0.1195220\ttotal: 481ms\tremaining: 475ms\n",
      "503:\tlearn: 0.1193289\ttotal: 482ms\tremaining: 474ms\n",
      "504:\tlearn: 0.1192151\ttotal: 483ms\tremaining: 473ms\n",
      "505:\tlearn: 0.1190537\ttotal: 484ms\tremaining: 472ms\n",
      "506:\tlearn: 0.1189159\ttotal: 484ms\tremaining: 471ms\n",
      "507:\tlearn: 0.1188496\ttotal: 485ms\tremaining: 470ms\n",
      "508:\tlearn: 0.1185986\ttotal: 486ms\tremaining: 469ms\n",
      "509:\tlearn: 0.1182810\ttotal: 487ms\tremaining: 468ms\n",
      "510:\tlearn: 0.1181607\ttotal: 488ms\tremaining: 467ms\n",
      "511:\tlearn: 0.1179418\ttotal: 489ms\tremaining: 466ms\n",
      "512:\tlearn: 0.1178282\ttotal: 490ms\tremaining: 465ms\n",
      "513:\tlearn: 0.1175779\ttotal: 491ms\tremaining: 464ms\n",
      "514:\tlearn: 0.1173574\ttotal: 492ms\tremaining: 463ms\n",
      "515:\tlearn: 0.1171051\ttotal: 492ms\tremaining: 462ms\n",
      "516:\tlearn: 0.1167625\ttotal: 493ms\tremaining: 461ms\n",
      "517:\tlearn: 0.1166190\ttotal: 494ms\tremaining: 460ms\n",
      "518:\tlearn: 0.1164205\ttotal: 495ms\tremaining: 459ms\n",
      "519:\tlearn: 0.1162062\ttotal: 496ms\tremaining: 457ms\n",
      "520:\tlearn: 0.1159606\ttotal: 496ms\tremaining: 456ms\n",
      "521:\tlearn: 0.1156784\ttotal: 497ms\tremaining: 455ms\n",
      "522:\tlearn: 0.1154584\ttotal: 498ms\tremaining: 454ms\n",
      "523:\tlearn: 0.1152690\ttotal: 499ms\tremaining: 453ms\n",
      "524:\tlearn: 0.1149753\ttotal: 500ms\tremaining: 452ms\n",
      "525:\tlearn: 0.1149124\ttotal: 500ms\tremaining: 451ms\n",
      "526:\tlearn: 0.1148005\ttotal: 501ms\tremaining: 450ms\n",
      "527:\tlearn: 0.1146610\ttotal: 502ms\tremaining: 449ms\n",
      "528:\tlearn: 0.1145613\ttotal: 503ms\tremaining: 448ms\n",
      "529:\tlearn: 0.1142520\ttotal: 504ms\tremaining: 447ms\n",
      "530:\tlearn: 0.1140938\ttotal: 505ms\tremaining: 446ms\n",
      "531:\tlearn: 0.1138782\ttotal: 505ms\tremaining: 445ms\n",
      "532:\tlearn: 0.1136163\ttotal: 506ms\tremaining: 443ms\n",
      "533:\tlearn: 0.1135049\ttotal: 507ms\tremaining: 442ms\n",
      "534:\tlearn: 0.1132832\ttotal: 508ms\tremaining: 441ms\n",
      "535:\tlearn: 0.1132408\ttotal: 509ms\tremaining: 440ms\n",
      "536:\tlearn: 0.1130416\ttotal: 509ms\tremaining: 439ms\n",
      "537:\tlearn: 0.1128913\ttotal: 510ms\tremaining: 438ms\n",
      "538:\tlearn: 0.1128391\ttotal: 511ms\tremaining: 437ms\n",
      "539:\tlearn: 0.1125792\ttotal: 512ms\tremaining: 436ms\n",
      "540:\tlearn: 0.1122456\ttotal: 513ms\tremaining: 435ms\n",
      "541:\tlearn: 0.1119498\ttotal: 513ms\tremaining: 434ms\n",
      "542:\tlearn: 0.1117651\ttotal: 514ms\tremaining: 433ms\n",
      "543:\tlearn: 0.1116200\ttotal: 515ms\tremaining: 432ms\n",
      "544:\tlearn: 0.1114587\ttotal: 516ms\tremaining: 431ms\n",
      "545:\tlearn: 0.1112014\ttotal: 517ms\tremaining: 430ms\n",
      "546:\tlearn: 0.1109757\ttotal: 518ms\tremaining: 429ms\n",
      "547:\tlearn: 0.1108756\ttotal: 518ms\tremaining: 428ms\n",
      "548:\tlearn: 0.1107547\ttotal: 519ms\tremaining: 426ms\n",
      "549:\tlearn: 0.1105135\ttotal: 520ms\tremaining: 425ms\n",
      "550:\tlearn: 0.1104099\ttotal: 521ms\tremaining: 424ms\n",
      "551:\tlearn: 0.1103194\ttotal: 522ms\tremaining: 423ms\n",
      "552:\tlearn: 0.1101642\ttotal: 522ms\tremaining: 422ms\n",
      "553:\tlearn: 0.1101275\ttotal: 523ms\tremaining: 421ms\n",
      "554:\tlearn: 0.1099000\ttotal: 524ms\tremaining: 420ms\n",
      "555:\tlearn: 0.1096491\ttotal: 525ms\tremaining: 419ms\n",
      "556:\tlearn: 0.1095984\ttotal: 525ms\tremaining: 418ms\n",
      "557:\tlearn: 0.1094495\ttotal: 526ms\tremaining: 417ms\n",
      "558:\tlearn: 0.1092106\ttotal: 527ms\tremaining: 416ms\n",
      "559:\tlearn: 0.1091175\ttotal: 528ms\tremaining: 415ms\n",
      "560:\tlearn: 0.1089828\ttotal: 528ms\tremaining: 414ms\n",
      "561:\tlearn: 0.1086764\ttotal: 529ms\tremaining: 413ms\n",
      "562:\tlearn: 0.1084711\ttotal: 530ms\tremaining: 412ms\n",
      "563:\tlearn: 0.1083509\ttotal: 531ms\tremaining: 410ms\n",
      "564:\tlearn: 0.1081582\ttotal: 532ms\tremaining: 409ms\n",
      "565:\tlearn: 0.1079199\ttotal: 533ms\tremaining: 408ms\n",
      "566:\tlearn: 0.1078968\ttotal: 533ms\tremaining: 407ms\n",
      "567:\tlearn: 0.1077439\ttotal: 534ms\tremaining: 406ms\n",
      "568:\tlearn: 0.1075131\ttotal: 535ms\tremaining: 405ms\n",
      "569:\tlearn: 0.1073676\ttotal: 536ms\tremaining: 404ms\n",
      "570:\tlearn: 0.1072197\ttotal: 536ms\tremaining: 403ms\n",
      "571:\tlearn: 0.1069265\ttotal: 537ms\tremaining: 402ms\n",
      "572:\tlearn: 0.1067911\ttotal: 538ms\tremaining: 401ms\n",
      "573:\tlearn: 0.1066970\ttotal: 539ms\tremaining: 400ms\n",
      "574:\tlearn: 0.1066273\ttotal: 540ms\tremaining: 399ms\n",
      "575:\tlearn: 0.1063821\ttotal: 541ms\tremaining: 398ms\n",
      "576:\tlearn: 0.1063089\ttotal: 542ms\tremaining: 397ms\n",
      "577:\tlearn: 0.1061864\ttotal: 543ms\tremaining: 396ms\n",
      "578:\tlearn: 0.1060292\ttotal: 544ms\tremaining: 395ms\n",
      "579:\tlearn: 0.1058290\ttotal: 545ms\tremaining: 394ms\n",
      "580:\tlearn: 0.1057187\ttotal: 546ms\tremaining: 393ms\n",
      "581:\tlearn: 0.1055029\ttotal: 546ms\tremaining: 392ms\n",
      "582:\tlearn: 0.1053682\ttotal: 547ms\tremaining: 391ms\n",
      "583:\tlearn: 0.1052643\ttotal: 548ms\tremaining: 390ms\n",
      "584:\tlearn: 0.1050718\ttotal: 549ms\tremaining: 389ms\n",
      "585:\tlearn: 0.1048080\ttotal: 550ms\tremaining: 388ms\n",
      "586:\tlearn: 0.1045697\ttotal: 551ms\tremaining: 387ms\n",
      "587:\tlearn: 0.1043647\ttotal: 551ms\tremaining: 386ms\n",
      "588:\tlearn: 0.1041932\ttotal: 552ms\tremaining: 385ms\n",
      "589:\tlearn: 0.1039415\ttotal: 553ms\tremaining: 384ms\n",
      "590:\tlearn: 0.1036278\ttotal: 554ms\tremaining: 383ms\n",
      "591:\tlearn: 0.1033925\ttotal: 555ms\tremaining: 382ms\n",
      "592:\tlearn: 0.1031591\ttotal: 556ms\tremaining: 381ms\n",
      "593:\tlearn: 0.1031085\ttotal: 557ms\tremaining: 380ms\n",
      "594:\tlearn: 0.1029680\ttotal: 557ms\tremaining: 379ms\n"
     ]
    },
    {
     "name": "stdout",
     "output_type": "stream",
     "text": [
      "595:\tlearn: 0.1027538\ttotal: 558ms\tremaining: 378ms\n",
      "596:\tlearn: 0.1026372\ttotal: 559ms\tremaining: 377ms\n",
      "597:\tlearn: 0.1025257\ttotal: 560ms\tremaining: 377ms\n",
      "598:\tlearn: 0.1022997\ttotal: 561ms\tremaining: 375ms\n",
      "599:\tlearn: 0.1022590\ttotal: 562ms\tremaining: 374ms\n",
      "600:\tlearn: 0.1021325\ttotal: 562ms\tremaining: 373ms\n",
      "601:\tlearn: 0.1020433\ttotal: 563ms\tremaining: 372ms\n",
      "602:\tlearn: 0.1019223\ttotal: 564ms\tremaining: 371ms\n",
      "603:\tlearn: 0.1018888\ttotal: 565ms\tremaining: 370ms\n",
      "604:\tlearn: 0.1018754\ttotal: 565ms\tremaining: 369ms\n",
      "605:\tlearn: 0.1016175\ttotal: 566ms\tremaining: 368ms\n",
      "606:\tlearn: 0.1014350\ttotal: 567ms\tremaining: 367ms\n",
      "607:\tlearn: 0.1011956\ttotal: 568ms\tremaining: 366ms\n",
      "608:\tlearn: 0.1010332\ttotal: 569ms\tremaining: 365ms\n",
      "609:\tlearn: 0.1008674\ttotal: 570ms\tremaining: 364ms\n",
      "610:\tlearn: 0.1007251\ttotal: 571ms\tremaining: 363ms\n",
      "611:\tlearn: 0.1005076\ttotal: 571ms\tremaining: 362ms\n",
      "612:\tlearn: 0.1002258\ttotal: 572ms\tremaining: 361ms\n",
      "613:\tlearn: 0.0999170\ttotal: 573ms\tremaining: 360ms\n",
      "614:\tlearn: 0.0998430\ttotal: 574ms\tremaining: 359ms\n",
      "615:\tlearn: 0.0997473\ttotal: 575ms\tremaining: 358ms\n",
      "616:\tlearn: 0.0996669\ttotal: 575ms\tremaining: 357ms\n",
      "617:\tlearn: 0.0994162\ttotal: 576ms\tremaining: 356ms\n",
      "618:\tlearn: 0.0993546\ttotal: 578ms\tremaining: 356ms\n",
      "619:\tlearn: 0.0992303\ttotal: 579ms\tremaining: 355ms\n",
      "620:\tlearn: 0.0991849\ttotal: 579ms\tremaining: 354ms\n",
      "621:\tlearn: 0.0989459\ttotal: 580ms\tremaining: 353ms\n",
      "622:\tlearn: 0.0988147\ttotal: 581ms\tremaining: 351ms\n",
      "623:\tlearn: 0.0986085\ttotal: 582ms\tremaining: 350ms\n",
      "624:\tlearn: 0.0984172\ttotal: 582ms\tremaining: 349ms\n",
      "625:\tlearn: 0.0982247\ttotal: 583ms\tremaining: 348ms\n",
      "626:\tlearn: 0.0979907\ttotal: 584ms\tremaining: 347ms\n",
      "627:\tlearn: 0.0977897\ttotal: 585ms\tremaining: 347ms\n",
      "628:\tlearn: 0.0976033\ttotal: 586ms\tremaining: 346ms\n",
      "629:\tlearn: 0.0974413\ttotal: 587ms\tremaining: 345ms\n",
      "630:\tlearn: 0.0973302\ttotal: 588ms\tremaining: 344ms\n",
      "631:\tlearn: 0.0972778\ttotal: 589ms\tremaining: 343ms\n",
      "632:\tlearn: 0.0971708\ttotal: 590ms\tremaining: 342ms\n",
      "633:\tlearn: 0.0970612\ttotal: 590ms\tremaining: 341ms\n",
      "634:\tlearn: 0.0969421\ttotal: 591ms\tremaining: 340ms\n",
      "635:\tlearn: 0.0967538\ttotal: 592ms\tremaining: 339ms\n",
      "636:\tlearn: 0.0965965\ttotal: 593ms\tremaining: 338ms\n",
      "637:\tlearn: 0.0964480\ttotal: 594ms\tremaining: 337ms\n",
      "638:\tlearn: 0.0962655\ttotal: 595ms\tremaining: 336ms\n",
      "639:\tlearn: 0.0961605\ttotal: 595ms\tremaining: 335ms\n",
      "640:\tlearn: 0.0959441\ttotal: 596ms\tremaining: 334ms\n",
      "641:\tlearn: 0.0958974\ttotal: 597ms\tremaining: 333ms\n",
      "642:\tlearn: 0.0957190\ttotal: 598ms\tremaining: 332ms\n",
      "643:\tlearn: 0.0955546\ttotal: 599ms\tremaining: 331ms\n",
      "644:\tlearn: 0.0954034\ttotal: 599ms\tremaining: 330ms\n",
      "645:\tlearn: 0.0952835\ttotal: 600ms\tremaining: 329ms\n",
      "646:\tlearn: 0.0951099\ttotal: 601ms\tremaining: 328ms\n",
      "647:\tlearn: 0.0949693\ttotal: 602ms\tremaining: 327ms\n",
      "648:\tlearn: 0.0948864\ttotal: 603ms\tremaining: 326ms\n",
      "649:\tlearn: 0.0948625\ttotal: 604ms\tremaining: 325ms\n",
      "650:\tlearn: 0.0947016\ttotal: 604ms\tremaining: 324ms\n",
      "651:\tlearn: 0.0945510\ttotal: 605ms\tremaining: 323ms\n",
      "652:\tlearn: 0.0943892\ttotal: 606ms\tremaining: 322ms\n",
      "653:\tlearn: 0.0942331\ttotal: 608ms\tremaining: 322ms\n",
      "654:\tlearn: 0.0940852\ttotal: 609ms\tremaining: 321ms\n",
      "655:\tlearn: 0.0938291\ttotal: 609ms\tremaining: 320ms\n",
      "656:\tlearn: 0.0937858\ttotal: 610ms\tremaining: 319ms\n",
      "657:\tlearn: 0.0936701\ttotal: 611ms\tremaining: 318ms\n",
      "658:\tlearn: 0.0934943\ttotal: 612ms\tremaining: 317ms\n",
      "659:\tlearn: 0.0932107\ttotal: 613ms\tremaining: 316ms\n",
      "660:\tlearn: 0.0931361\ttotal: 613ms\tremaining: 315ms\n",
      "661:\tlearn: 0.0929667\ttotal: 614ms\tremaining: 314ms\n",
      "662:\tlearn: 0.0927958\ttotal: 615ms\tremaining: 313ms\n",
      "663:\tlearn: 0.0927048\ttotal: 616ms\tremaining: 312ms\n",
      "664:\tlearn: 0.0925910\ttotal: 617ms\tremaining: 311ms\n",
      "665:\tlearn: 0.0925315\ttotal: 618ms\tremaining: 310ms\n",
      "666:\tlearn: 0.0922887\ttotal: 619ms\tremaining: 309ms\n",
      "667:\tlearn: 0.0921288\ttotal: 620ms\tremaining: 308ms\n",
      "668:\tlearn: 0.0919486\ttotal: 620ms\tremaining: 307ms\n",
      "669:\tlearn: 0.0917896\ttotal: 621ms\tremaining: 306ms\n",
      "670:\tlearn: 0.0916392\ttotal: 622ms\tremaining: 305ms\n",
      "671:\tlearn: 0.0915205\ttotal: 623ms\tremaining: 304ms\n",
      "672:\tlearn: 0.0914248\ttotal: 624ms\tremaining: 303ms\n",
      "673:\tlearn: 0.0912403\ttotal: 624ms\tremaining: 302ms\n",
      "674:\tlearn: 0.0911529\ttotal: 625ms\tremaining: 301ms\n",
      "675:\tlearn: 0.0911167\ttotal: 626ms\tremaining: 300ms\n",
      "676:\tlearn: 0.0910242\ttotal: 627ms\tremaining: 299ms\n",
      "677:\tlearn: 0.0909750\ttotal: 628ms\tremaining: 298ms\n",
      "678:\tlearn: 0.0908736\ttotal: 629ms\tremaining: 297ms\n",
      "679:\tlearn: 0.0907997\ttotal: 630ms\tremaining: 296ms\n",
      "680:\tlearn: 0.0906463\ttotal: 631ms\tremaining: 295ms\n",
      "681:\tlearn: 0.0905263\ttotal: 631ms\tremaining: 294ms\n",
      "682:\tlearn: 0.0904286\ttotal: 632ms\tremaining: 293ms\n",
      "683:\tlearn: 0.0902364\ttotal: 633ms\tremaining: 292ms\n",
      "684:\tlearn: 0.0901910\ttotal: 634ms\tremaining: 291ms\n",
      "685:\tlearn: 0.0900410\ttotal: 634ms\tremaining: 290ms\n",
      "686:\tlearn: 0.0898757\ttotal: 635ms\tremaining: 289ms\n",
      "687:\tlearn: 0.0897618\ttotal: 636ms\tremaining: 288ms\n",
      "688:\tlearn: 0.0896253\ttotal: 637ms\tremaining: 288ms\n",
      "689:\tlearn: 0.0895499\ttotal: 638ms\tremaining: 287ms\n",
      "690:\tlearn: 0.0894177\ttotal: 639ms\tremaining: 286ms\n",
      "691:\tlearn: 0.0892110\ttotal: 639ms\tremaining: 285ms\n",
      "692:\tlearn: 0.0890417\ttotal: 640ms\tremaining: 284ms\n",
      "693:\tlearn: 0.0889892\ttotal: 641ms\tremaining: 283ms\n",
      "694:\tlearn: 0.0889055\ttotal: 642ms\tremaining: 282ms\n",
      "695:\tlearn: 0.0887580\ttotal: 643ms\tremaining: 281ms\n",
      "696:\tlearn: 0.0886435\ttotal: 644ms\tremaining: 280ms\n",
      "697:\tlearn: 0.0885213\ttotal: 645ms\tremaining: 279ms\n",
      "698:\tlearn: 0.0883848\ttotal: 645ms\tremaining: 278ms\n",
      "699:\tlearn: 0.0881749\ttotal: 646ms\tremaining: 277ms\n",
      "700:\tlearn: 0.0880336\ttotal: 647ms\tremaining: 276ms\n",
      "701:\tlearn: 0.0878477\ttotal: 648ms\tremaining: 275ms\n",
      "702:\tlearn: 0.0877581\ttotal: 649ms\tremaining: 274ms\n",
      "703:\tlearn: 0.0875856\ttotal: 650ms\tremaining: 273ms\n",
      "704:\tlearn: 0.0874567\ttotal: 651ms\tremaining: 272ms\n",
      "705:\tlearn: 0.0874065\ttotal: 652ms\tremaining: 271ms\n",
      "706:\tlearn: 0.0872310\ttotal: 652ms\tremaining: 270ms\n",
      "707:\tlearn: 0.0871205\ttotal: 653ms\tremaining: 270ms\n",
      "708:\tlearn: 0.0869420\ttotal: 654ms\tremaining: 269ms\n",
      "709:\tlearn: 0.0868726\ttotal: 655ms\tremaining: 268ms\n",
      "710:\tlearn: 0.0867496\ttotal: 656ms\tremaining: 267ms\n",
      "711:\tlearn: 0.0865451\ttotal: 657ms\tremaining: 266ms\n",
      "712:\tlearn: 0.0864280\ttotal: 658ms\tremaining: 265ms\n",
      "713:\tlearn: 0.0863373\ttotal: 659ms\tremaining: 264ms\n",
      "714:\tlearn: 0.0861376\ttotal: 660ms\tremaining: 263ms\n",
      "715:\tlearn: 0.0859701\ttotal: 661ms\tremaining: 262ms\n",
      "716:\tlearn: 0.0858396\ttotal: 661ms\tremaining: 261ms\n"
     ]
    },
    {
     "name": "stdout",
     "output_type": "stream",
     "text": [
      "717:\tlearn: 0.0857585\ttotal: 662ms\tremaining: 260ms\n",
      "718:\tlearn: 0.0855877\ttotal: 663ms\tremaining: 259ms\n",
      "719:\tlearn: 0.0854635\ttotal: 664ms\tremaining: 258ms\n",
      "720:\tlearn: 0.0853914\ttotal: 665ms\tremaining: 257ms\n",
      "721:\tlearn: 0.0852601\ttotal: 666ms\tremaining: 256ms\n",
      "722:\tlearn: 0.0850348\ttotal: 667ms\tremaining: 255ms\n",
      "723:\tlearn: 0.0849147\ttotal: 668ms\tremaining: 255ms\n",
      "724:\tlearn: 0.0848007\ttotal: 668ms\tremaining: 254ms\n",
      "725:\tlearn: 0.0846399\ttotal: 669ms\tremaining: 253ms\n",
      "726:\tlearn: 0.0845098\ttotal: 670ms\tremaining: 252ms\n",
      "727:\tlearn: 0.0844128\ttotal: 671ms\tremaining: 251ms\n",
      "728:\tlearn: 0.0842954\ttotal: 672ms\tremaining: 250ms\n",
      "729:\tlearn: 0.0841913\ttotal: 673ms\tremaining: 249ms\n",
      "730:\tlearn: 0.0841209\ttotal: 673ms\tremaining: 248ms\n",
      "731:\tlearn: 0.0839512\ttotal: 674ms\tremaining: 247ms\n",
      "732:\tlearn: 0.0838523\ttotal: 675ms\tremaining: 246ms\n",
      "733:\tlearn: 0.0837286\ttotal: 676ms\tremaining: 245ms\n",
      "734:\tlearn: 0.0835220\ttotal: 677ms\tremaining: 244ms\n",
      "735:\tlearn: 0.0833399\ttotal: 677ms\tremaining: 243ms\n",
      "736:\tlearn: 0.0833037\ttotal: 678ms\tremaining: 242ms\n",
      "737:\tlearn: 0.0832536\ttotal: 679ms\tremaining: 241ms\n",
      "738:\tlearn: 0.0831435\ttotal: 680ms\tremaining: 240ms\n",
      "739:\tlearn: 0.0829684\ttotal: 681ms\tremaining: 239ms\n",
      "740:\tlearn: 0.0828943\ttotal: 681ms\tremaining: 238ms\n",
      "741:\tlearn: 0.0828029\ttotal: 682ms\tremaining: 237ms\n",
      "742:\tlearn: 0.0826716\ttotal: 683ms\tremaining: 236ms\n",
      "743:\tlearn: 0.0824733\ttotal: 684ms\tremaining: 235ms\n",
      "744:\tlearn: 0.0824057\ttotal: 685ms\tremaining: 234ms\n",
      "745:\tlearn: 0.0822444\ttotal: 685ms\tremaining: 233ms\n",
      "746:\tlearn: 0.0820584\ttotal: 686ms\tremaining: 232ms\n",
      "747:\tlearn: 0.0819953\ttotal: 687ms\tremaining: 231ms\n",
      "748:\tlearn: 0.0818568\ttotal: 688ms\tremaining: 230ms\n",
      "749:\tlearn: 0.0817094\ttotal: 689ms\tremaining: 230ms\n",
      "750:\tlearn: 0.0814792\ttotal: 689ms\tremaining: 229ms\n",
      "751:\tlearn: 0.0813714\ttotal: 690ms\tremaining: 228ms\n",
      "752:\tlearn: 0.0811638\ttotal: 691ms\tremaining: 227ms\n",
      "753:\tlearn: 0.0809431\ttotal: 692ms\tremaining: 226ms\n",
      "754:\tlearn: 0.0807610\ttotal: 693ms\tremaining: 225ms\n",
      "755:\tlearn: 0.0805809\ttotal: 694ms\tremaining: 224ms\n",
      "756:\tlearn: 0.0804583\ttotal: 694ms\tremaining: 223ms\n",
      "757:\tlearn: 0.0803745\ttotal: 695ms\tremaining: 222ms\n",
      "758:\tlearn: 0.0802766\ttotal: 696ms\tremaining: 221ms\n",
      "759:\tlearn: 0.0801091\ttotal: 697ms\tremaining: 220ms\n",
      "760:\tlearn: 0.0799946\ttotal: 698ms\tremaining: 219ms\n",
      "761:\tlearn: 0.0799217\ttotal: 698ms\tremaining: 218ms\n",
      "762:\tlearn: 0.0797680\ttotal: 699ms\tremaining: 217ms\n",
      "763:\tlearn: 0.0796754\ttotal: 700ms\tremaining: 216ms\n",
      "764:\tlearn: 0.0795053\ttotal: 701ms\tremaining: 215ms\n",
      "765:\tlearn: 0.0794355\ttotal: 702ms\tremaining: 214ms\n",
      "766:\tlearn: 0.0793814\ttotal: 703ms\tremaining: 213ms\n",
      "767:\tlearn: 0.0793493\ttotal: 704ms\tremaining: 213ms\n",
      "768:\tlearn: 0.0792175\ttotal: 704ms\tremaining: 212ms\n",
      "769:\tlearn: 0.0791015\ttotal: 705ms\tremaining: 211ms\n",
      "770:\tlearn: 0.0790487\ttotal: 706ms\tremaining: 210ms\n",
      "771:\tlearn: 0.0788987\ttotal: 707ms\tremaining: 209ms\n",
      "772:\tlearn: 0.0787257\ttotal: 708ms\tremaining: 208ms\n",
      "773:\tlearn: 0.0785660\ttotal: 709ms\tremaining: 207ms\n",
      "774:\tlearn: 0.0784708\ttotal: 709ms\tremaining: 206ms\n",
      "775:\tlearn: 0.0783223\ttotal: 710ms\tremaining: 205ms\n",
      "776:\tlearn: 0.0782181\ttotal: 711ms\tremaining: 204ms\n",
      "777:\tlearn: 0.0780979\ttotal: 712ms\tremaining: 203ms\n",
      "778:\tlearn: 0.0779940\ttotal: 713ms\tremaining: 202ms\n",
      "779:\tlearn: 0.0778048\ttotal: 714ms\tremaining: 201ms\n",
      "780:\tlearn: 0.0776761\ttotal: 715ms\tremaining: 200ms\n",
      "781:\tlearn: 0.0775631\ttotal: 716ms\tremaining: 200ms\n",
      "782:\tlearn: 0.0775175\ttotal: 716ms\tremaining: 199ms\n",
      "783:\tlearn: 0.0773758\ttotal: 717ms\tremaining: 198ms\n",
      "784:\tlearn: 0.0773223\ttotal: 718ms\tremaining: 197ms\n",
      "785:\tlearn: 0.0772187\ttotal: 719ms\tremaining: 196ms\n",
      "786:\tlearn: 0.0771224\ttotal: 720ms\tremaining: 195ms\n",
      "787:\tlearn: 0.0770417\ttotal: 721ms\tremaining: 194ms\n",
      "788:\tlearn: 0.0769099\ttotal: 721ms\tremaining: 193ms\n",
      "789:\tlearn: 0.0767570\ttotal: 722ms\tremaining: 192ms\n",
      "790:\tlearn: 0.0765898\ttotal: 723ms\tremaining: 191ms\n",
      "791:\tlearn: 0.0765572\ttotal: 724ms\tremaining: 190ms\n",
      "792:\tlearn: 0.0764912\ttotal: 725ms\tremaining: 189ms\n",
      "793:\tlearn: 0.0764428\ttotal: 726ms\tremaining: 188ms\n",
      "794:\tlearn: 0.0763377\ttotal: 726ms\tremaining: 187ms\n",
      "795:\tlearn: 0.0762843\ttotal: 727ms\tremaining: 186ms\n",
      "796:\tlearn: 0.0762231\ttotal: 728ms\tremaining: 185ms\n",
      "797:\tlearn: 0.0761757\ttotal: 729ms\tremaining: 184ms\n",
      "798:\tlearn: 0.0760699\ttotal: 729ms\tremaining: 184ms\n",
      "799:\tlearn: 0.0758919\ttotal: 730ms\tremaining: 183ms\n",
      "800:\tlearn: 0.0757328\ttotal: 731ms\tremaining: 182ms\n",
      "801:\tlearn: 0.0755974\ttotal: 732ms\tremaining: 181ms\n",
      "802:\tlearn: 0.0755030\ttotal: 732ms\tremaining: 180ms\n",
      "803:\tlearn: 0.0754058\ttotal: 733ms\tremaining: 179ms\n",
      "804:\tlearn: 0.0752871\ttotal: 734ms\tremaining: 178ms\n",
      "805:\tlearn: 0.0752554\ttotal: 735ms\tremaining: 177ms\n",
      "806:\tlearn: 0.0751161\ttotal: 736ms\tremaining: 176ms\n",
      "807:\tlearn: 0.0750058\ttotal: 736ms\tremaining: 175ms\n",
      "808:\tlearn: 0.0749137\ttotal: 737ms\tremaining: 174ms\n",
      "809:\tlearn: 0.0747660\ttotal: 738ms\tremaining: 173ms\n",
      "810:\tlearn: 0.0747187\ttotal: 739ms\tremaining: 172ms\n",
      "811:\tlearn: 0.0745697\ttotal: 740ms\tremaining: 171ms\n",
      "812:\tlearn: 0.0744718\ttotal: 740ms\tremaining: 170ms\n",
      "813:\tlearn: 0.0743473\ttotal: 741ms\tremaining: 169ms\n",
      "814:\tlearn: 0.0742542\ttotal: 742ms\tremaining: 168ms\n",
      "815:\tlearn: 0.0742034\ttotal: 743ms\tremaining: 168ms\n",
      "816:\tlearn: 0.0740909\ttotal: 744ms\tremaining: 167ms\n",
      "817:\tlearn: 0.0740493\ttotal: 744ms\tremaining: 166ms\n",
      "818:\tlearn: 0.0739877\ttotal: 745ms\tremaining: 165ms\n",
      "819:\tlearn: 0.0739445\ttotal: 746ms\tremaining: 164ms\n",
      "820:\tlearn: 0.0738770\ttotal: 747ms\tremaining: 163ms\n",
      "821:\tlearn: 0.0737355\ttotal: 748ms\tremaining: 162ms\n"
     ]
    },
    {
     "name": "stdout",
     "output_type": "stream",
     "text": [
      "822:\tlearn: 0.0735777\ttotal: 749ms\tremaining: 161ms\n",
      "823:\tlearn: 0.0734986\ttotal: 750ms\tremaining: 160ms\n",
      "824:\tlearn: 0.0734581\ttotal: 751ms\tremaining: 159ms\n",
      "825:\tlearn: 0.0734036\ttotal: 751ms\tremaining: 158ms\n",
      "826:\tlearn: 0.0733328\ttotal: 752ms\tremaining: 157ms\n",
      "827:\tlearn: 0.0732152\ttotal: 753ms\tremaining: 156ms\n",
      "828:\tlearn: 0.0730959\ttotal: 754ms\tremaining: 155ms\n",
      "829:\tlearn: 0.0730034\ttotal: 755ms\tremaining: 155ms\n",
      "830:\tlearn: 0.0728582\ttotal: 755ms\tremaining: 154ms\n",
      "831:\tlearn: 0.0726658\ttotal: 756ms\tremaining: 153ms\n",
      "832:\tlearn: 0.0725114\ttotal: 757ms\tremaining: 152ms\n",
      "833:\tlearn: 0.0724675\ttotal: 758ms\tremaining: 151ms\n",
      "834:\tlearn: 0.0723896\ttotal: 759ms\tremaining: 150ms\n",
      "835:\tlearn: 0.0722758\ttotal: 760ms\tremaining: 149ms\n",
      "836:\tlearn: 0.0722281\ttotal: 760ms\tremaining: 148ms\n",
      "837:\tlearn: 0.0721269\ttotal: 761ms\tremaining: 147ms\n",
      "838:\tlearn: 0.0720300\ttotal: 762ms\tremaining: 146ms\n",
      "839:\tlearn: 0.0719418\ttotal: 763ms\tremaining: 145ms\n",
      "840:\tlearn: 0.0718738\ttotal: 764ms\tremaining: 144ms\n",
      "841:\tlearn: 0.0718048\ttotal: 764ms\tremaining: 143ms\n",
      "842:\tlearn: 0.0717743\ttotal: 765ms\tremaining: 143ms\n",
      "843:\tlearn: 0.0716340\ttotal: 766ms\tremaining: 142ms\n",
      "844:\tlearn: 0.0714625\ttotal: 767ms\tremaining: 141ms\n",
      "845:\tlearn: 0.0713354\ttotal: 767ms\tremaining: 140ms\n",
      "846:\tlearn: 0.0711913\ttotal: 768ms\tremaining: 139ms\n",
      "847:\tlearn: 0.0711183\ttotal: 769ms\tremaining: 138ms\n",
      "848:\tlearn: 0.0710391\ttotal: 770ms\tremaining: 137ms\n",
      "849:\tlearn: 0.0709675\ttotal: 771ms\tremaining: 136ms\n",
      "850:\tlearn: 0.0709162\ttotal: 771ms\tremaining: 135ms\n",
      "851:\tlearn: 0.0708801\ttotal: 772ms\tremaining: 134ms\n",
      "852:\tlearn: 0.0708322\ttotal: 773ms\tremaining: 133ms\n",
      "853:\tlearn: 0.0707748\ttotal: 774ms\tremaining: 132ms\n",
      "854:\tlearn: 0.0707380\ttotal: 775ms\tremaining: 131ms\n",
      "855:\tlearn: 0.0706970\ttotal: 775ms\tremaining: 130ms\n",
      "856:\tlearn: 0.0705520\ttotal: 776ms\tremaining: 130ms\n",
      "857:\tlearn: 0.0704635\ttotal: 777ms\tremaining: 129ms\n",
      "858:\tlearn: 0.0704001\ttotal: 778ms\tremaining: 128ms\n",
      "859:\tlearn: 0.0702288\ttotal: 779ms\tremaining: 127ms\n",
      "860:\tlearn: 0.0701860\ttotal: 780ms\tremaining: 126ms\n",
      "861:\tlearn: 0.0700205\ttotal: 780ms\tremaining: 125ms\n",
      "862:\tlearn: 0.0698293\ttotal: 781ms\tremaining: 124ms\n",
      "863:\tlearn: 0.0697615\ttotal: 782ms\tremaining: 123ms\n",
      "864:\tlearn: 0.0696435\ttotal: 783ms\tremaining: 122ms\n",
      "865:\tlearn: 0.0695123\ttotal: 784ms\tremaining: 121ms\n",
      "866:\tlearn: 0.0694217\ttotal: 785ms\tremaining: 120ms\n",
      "867:\tlearn: 0.0693029\ttotal: 785ms\tremaining: 119ms\n",
      "868:\tlearn: 0.0692419\ttotal: 786ms\tremaining: 119ms\n",
      "869:\tlearn: 0.0691479\ttotal: 787ms\tremaining: 118ms\n",
      "870:\tlearn: 0.0690543\ttotal: 788ms\tremaining: 117ms\n",
      "871:\tlearn: 0.0689699\ttotal: 789ms\tremaining: 116ms\n",
      "872:\tlearn: 0.0688594\ttotal: 790ms\tremaining: 115ms\n",
      "873:\tlearn: 0.0686858\ttotal: 790ms\tremaining: 114ms\n",
      "874:\tlearn: 0.0686591\ttotal: 791ms\tremaining: 113ms\n",
      "875:\tlearn: 0.0684587\ttotal: 792ms\tremaining: 112ms\n",
      "876:\tlearn: 0.0683656\ttotal: 793ms\tremaining: 111ms\n",
      "877:\tlearn: 0.0683283\ttotal: 794ms\tremaining: 110ms\n",
      "878:\tlearn: 0.0682428\ttotal: 794ms\tremaining: 109ms\n",
      "879:\tlearn: 0.0681822\ttotal: 795ms\tremaining: 108ms\n",
      "880:\tlearn: 0.0680787\ttotal: 796ms\tremaining: 108ms\n",
      "881:\tlearn: 0.0678993\ttotal: 797ms\tremaining: 107ms\n",
      "882:\tlearn: 0.0677387\ttotal: 798ms\tremaining: 106ms\n",
      "883:\tlearn: 0.0677095\ttotal: 798ms\tremaining: 105ms\n",
      "884:\tlearn: 0.0676937\ttotal: 799ms\tremaining: 104ms\n",
      "885:\tlearn: 0.0676468\ttotal: 800ms\tremaining: 103ms\n",
      "886:\tlearn: 0.0675453\ttotal: 801ms\tremaining: 102ms\n",
      "887:\tlearn: 0.0675272\ttotal: 802ms\tremaining: 101ms\n",
      "888:\tlearn: 0.0674888\ttotal: 802ms\tremaining: 100ms\n",
      "889:\tlearn: 0.0674758\ttotal: 803ms\tremaining: 99.3ms\n",
      "890:\tlearn: 0.0673335\ttotal: 804ms\tremaining: 98.4ms\n",
      "891:\tlearn: 0.0671612\ttotal: 805ms\tremaining: 97.5ms\n",
      "892:\tlearn: 0.0670679\ttotal: 806ms\tremaining: 96.5ms\n",
      "893:\tlearn: 0.0669109\ttotal: 807ms\tremaining: 95.6ms\n",
      "894:\tlearn: 0.0668244\ttotal: 807ms\tremaining: 94.7ms\n",
      "895:\tlearn: 0.0667710\ttotal: 808ms\tremaining: 93.8ms\n",
      "896:\tlearn: 0.0666427\ttotal: 809ms\tremaining: 92.9ms\n",
      "897:\tlearn: 0.0665942\ttotal: 810ms\tremaining: 92ms\n",
      "898:\tlearn: 0.0664667\ttotal: 811ms\tremaining: 91.1ms\n",
      "899:\tlearn: 0.0663201\ttotal: 811ms\tremaining: 90.2ms\n",
      "900:\tlearn: 0.0662447\ttotal: 812ms\tremaining: 89.2ms\n",
      "901:\tlearn: 0.0662270\ttotal: 813ms\tremaining: 88.3ms\n",
      "902:\tlearn: 0.0660726\ttotal: 814ms\tremaining: 87.4ms\n",
      "903:\tlearn: 0.0659516\ttotal: 815ms\tremaining: 86.5ms\n",
      "904:\tlearn: 0.0658202\ttotal: 815ms\tremaining: 85.6ms\n",
      "905:\tlearn: 0.0657104\ttotal: 816ms\tremaining: 84.7ms\n",
      "906:\tlearn: 0.0656288\ttotal: 817ms\tremaining: 83.8ms\n",
      "907:\tlearn: 0.0655017\ttotal: 818ms\tremaining: 82.9ms\n",
      "908:\tlearn: 0.0653730\ttotal: 819ms\tremaining: 81.9ms\n",
      "909:\tlearn: 0.0652297\ttotal: 819ms\tremaining: 81ms\n",
      "910:\tlearn: 0.0651643\ttotal: 820ms\tremaining: 80.1ms\n",
      "911:\tlearn: 0.0650041\ttotal: 821ms\tremaining: 79.2ms\n",
      "912:\tlearn: 0.0648903\ttotal: 822ms\tremaining: 78.3ms\n",
      "913:\tlearn: 0.0648801\ttotal: 822ms\tremaining: 77.4ms\n",
      "914:\tlearn: 0.0648389\ttotal: 823ms\tremaining: 76.5ms\n",
      "915:\tlearn: 0.0647825\ttotal: 824ms\tremaining: 75.6ms\n",
      "916:\tlearn: 0.0646814\ttotal: 825ms\tremaining: 74.7ms\n",
      "917:\tlearn: 0.0646242\ttotal: 826ms\tremaining: 73.7ms\n",
      "918:\tlearn: 0.0644654\ttotal: 826ms\tremaining: 72.8ms\n",
      "919:\tlearn: 0.0644307\ttotal: 827ms\tremaining: 71.9ms\n",
      "920:\tlearn: 0.0643679\ttotal: 828ms\tremaining: 71ms\n",
      "921:\tlearn: 0.0643446\ttotal: 829ms\tremaining: 70.1ms\n",
      "922:\tlearn: 0.0642274\ttotal: 830ms\tremaining: 69.2ms\n",
      "923:\tlearn: 0.0641863\ttotal: 831ms\tremaining: 68.3ms\n",
      "924:\tlearn: 0.0641291\ttotal: 831ms\tremaining: 67.4ms\n",
      "925:\tlearn: 0.0639410\ttotal: 832ms\tremaining: 66.5ms\n",
      "926:\tlearn: 0.0638470\ttotal: 833ms\tremaining: 65.6ms\n",
      "927:\tlearn: 0.0638023\ttotal: 834ms\tremaining: 64.7ms\n",
      "928:\tlearn: 0.0636841\ttotal: 834ms\tremaining: 63.8ms\n",
      "929:\tlearn: 0.0636649\ttotal: 835ms\tremaining: 62.9ms\n",
      "930:\tlearn: 0.0635591\ttotal: 836ms\tremaining: 62ms\n",
      "931:\tlearn: 0.0635176\ttotal: 837ms\tremaining: 61.1ms\n",
      "932:\tlearn: 0.0634850\ttotal: 838ms\tremaining: 60.1ms\n",
      "933:\tlearn: 0.0633571\ttotal: 838ms\tremaining: 59.2ms\n",
      "934:\tlearn: 0.0632737\ttotal: 839ms\tremaining: 58.3ms\n",
      "935:\tlearn: 0.0631449\ttotal: 840ms\tremaining: 57.4ms\n",
      "936:\tlearn: 0.0630472\ttotal: 841ms\tremaining: 56.5ms\n",
      "937:\tlearn: 0.0630233\ttotal: 841ms\tremaining: 55.6ms\n",
      "938:\tlearn: 0.0629078\ttotal: 842ms\tremaining: 54.7ms\n",
      "939:\tlearn: 0.0628981\ttotal: 843ms\tremaining: 53.8ms\n",
      "940:\tlearn: 0.0628903\ttotal: 844ms\tremaining: 52.9ms\n",
      "941:\tlearn: 0.0628084\ttotal: 844ms\tremaining: 52ms\n",
      "942:\tlearn: 0.0627126\ttotal: 845ms\tremaining: 51.1ms\n",
      "943:\tlearn: 0.0626806\ttotal: 846ms\tremaining: 50.2ms\n",
      "944:\tlearn: 0.0626085\ttotal: 847ms\tremaining: 49.3ms\n",
      "945:\tlearn: 0.0624841\ttotal: 848ms\tremaining: 48.4ms\n",
      "946:\tlearn: 0.0624026\ttotal: 849ms\tremaining: 47.5ms\n",
      "947:\tlearn: 0.0623191\ttotal: 849ms\tremaining: 46.6ms\n",
      "948:\tlearn: 0.0622222\ttotal: 850ms\tremaining: 45.7ms\n",
      "949:\tlearn: 0.0621263\ttotal: 851ms\tremaining: 44.8ms\n",
      "950:\tlearn: 0.0620484\ttotal: 852ms\tremaining: 43.9ms\n"
     ]
    },
    {
     "name": "stdout",
     "output_type": "stream",
     "text": [
      "951:\tlearn: 0.0619254\ttotal: 853ms\tremaining: 43ms\n",
      "952:\tlearn: 0.0618005\ttotal: 853ms\tremaining: 42.1ms\n",
      "953:\tlearn: 0.0616866\ttotal: 854ms\tremaining: 41.2ms\n",
      "954:\tlearn: 0.0615824\ttotal: 855ms\tremaining: 40.3ms\n",
      "955:\tlearn: 0.0615748\ttotal: 856ms\tremaining: 39.4ms\n",
      "956:\tlearn: 0.0614699\ttotal: 857ms\tremaining: 38.5ms\n",
      "957:\tlearn: 0.0613914\ttotal: 858ms\tremaining: 37.6ms\n",
      "958:\tlearn: 0.0613096\ttotal: 858ms\tremaining: 36.7ms\n",
      "959:\tlearn: 0.0611906\ttotal: 859ms\tremaining: 35.8ms\n",
      "960:\tlearn: 0.0610989\ttotal: 860ms\tremaining: 34.9ms\n",
      "961:\tlearn: 0.0610703\ttotal: 861ms\tremaining: 34ms\n",
      "962:\tlearn: 0.0609716\ttotal: 862ms\tremaining: 33.1ms\n",
      "963:\tlearn: 0.0609073\ttotal: 863ms\tremaining: 32.2ms\n",
      "964:\tlearn: 0.0608310\ttotal: 864ms\tremaining: 31.3ms\n",
      "965:\tlearn: 0.0607499\ttotal: 865ms\tremaining: 30.4ms\n",
      "966:\tlearn: 0.0606665\ttotal: 865ms\tremaining: 29.5ms\n",
      "967:\tlearn: 0.0606590\ttotal: 866ms\tremaining: 28.6ms\n",
      "968:\tlearn: 0.0605786\ttotal: 867ms\tremaining: 27.7ms\n",
      "969:\tlearn: 0.0605697\ttotal: 868ms\tremaining: 26.8ms\n",
      "970:\tlearn: 0.0604705\ttotal: 869ms\tremaining: 25.9ms\n",
      "971:\tlearn: 0.0604478\ttotal: 870ms\tremaining: 25.1ms\n",
      "972:\tlearn: 0.0604034\ttotal: 870ms\tremaining: 24.2ms\n",
      "973:\tlearn: 0.0603367\ttotal: 871ms\tremaining: 23.3ms\n",
      "974:\tlearn: 0.0602793\ttotal: 872ms\tremaining: 22.4ms\n",
      "975:\tlearn: 0.0602059\ttotal: 873ms\tremaining: 21.5ms\n",
      "976:\tlearn: 0.0600879\ttotal: 874ms\tremaining: 20.6ms\n",
      "977:\tlearn: 0.0599683\ttotal: 875ms\tremaining: 19.7ms\n",
      "978:\tlearn: 0.0598894\ttotal: 875ms\tremaining: 18.8ms\n",
      "979:\tlearn: 0.0598125\ttotal: 876ms\tremaining: 17.9ms\n",
      "980:\tlearn: 0.0597464\ttotal: 877ms\tremaining: 17ms\n",
      "981:\tlearn: 0.0596396\ttotal: 878ms\tremaining: 16.1ms\n",
      "982:\tlearn: 0.0596311\ttotal: 878ms\tremaining: 15.2ms\n",
      "983:\tlearn: 0.0595562\ttotal: 879ms\tremaining: 14.3ms\n",
      "984:\tlearn: 0.0595497\ttotal: 880ms\tremaining: 13.4ms\n",
      "985:\tlearn: 0.0594849\ttotal: 880ms\tremaining: 12.5ms\n",
      "986:\tlearn: 0.0594040\ttotal: 881ms\tremaining: 11.6ms\n",
      "987:\tlearn: 0.0593602\ttotal: 882ms\tremaining: 10.7ms\n",
      "988:\tlearn: 0.0592007\ttotal: 883ms\tremaining: 9.82ms\n",
      "989:\tlearn: 0.0591831\ttotal: 884ms\tremaining: 8.93ms\n",
      "990:\tlearn: 0.0591086\ttotal: 885ms\tremaining: 8.03ms\n",
      "991:\tlearn: 0.0590627\ttotal: 885ms\tremaining: 7.14ms\n",
      "992:\tlearn: 0.0589751\ttotal: 886ms\tremaining: 6.25ms\n",
      "993:\tlearn: 0.0589406\ttotal: 887ms\tremaining: 5.35ms\n",
      "994:\tlearn: 0.0588690\ttotal: 888ms\tremaining: 4.46ms\n",
      "995:\tlearn: 0.0588329\ttotal: 889ms\tremaining: 3.57ms\n",
      "996:\tlearn: 0.0587281\ttotal: 889ms\tremaining: 2.68ms\n",
      "997:\tlearn: 0.0586727\ttotal: 890ms\tremaining: 1.78ms\n",
      "998:\tlearn: 0.0585570\ttotal: 891ms\tremaining: 892us\n",
      "999:\tlearn: 0.0584133\ttotal: 892ms\tremaining: 0us\n"
     ]
    },
    {
     "data": {
      "text/plain": [
       "<catboost.core.CatBoostRegressor at 0x7f8c21732160>"
      ]
     },
     "execution_count": 9,
     "metadata": {},
     "output_type": "execute_result"
    }
   ],
   "source": [
    "#Train the Model \n",
    "prior_model = ctb.CatBoostRegressor()\n",
    "prior_model.fit(X_train,Y_train)"
   ]
  },
  {
   "cell_type": "code",
   "execution_count": 10,
   "id": "af65dcda",
   "metadata": {
    "execution": {
     "iopub.execute_input": "2022-06-12T08:52:18.791458Z",
     "iopub.status.busy": "2022-06-12T08:52:18.791059Z",
     "iopub.status.idle": "2022-06-12T08:52:18.798901Z",
     "shell.execute_reply": "2022-06-12T08:52:18.799203Z"
    },
    "id": "af65dcda",
    "papermill": {
     "duration": 0.021962,
     "end_time": "2022-06-12T08:52:18.799322",
     "exception": false,
     "start_time": "2022-06-12T08:52:18.777360",
     "status": "completed"
    },
    "tags": []
   },
   "outputs": [
    {
     "data": {
      "application/scrapbook.scrap.json+json": {
       "data": 0.0892903929221891,
       "encoder": "json",
       "name": "Prior Model MSE",
       "version": 1
      }
     },
     "metadata": {
      "scrapbook": {
       "data": true,
       "display": false,
       "name": "Prior Model MSE"
      }
     },
     "output_type": "display_data"
    },
    {
     "data": {
      "application/scrapbook.scrap.json+json": {
       "data": 0.08994006335324688,
       "encoder": "json",
       "name": "ABC Pre-generator MSE",
       "version": 1
      }
     },
     "metadata": {
      "scrapbook": {
       "data": true,
       "display": false,
       "name": "ABC Pre-generator MSE"
      }
     },
     "output_type": "display_data"
    },
    {
     "data": {
      "application/scrapbook.scrap.json+json": {
       "data": 0.22722492891364462,
       "encoder": "json",
       "name": "Prior Model MSE",
       "version": 1
      }
     },
     "metadata": {
      "scrapbook": {
       "data": true,
       "display": false,
       "name": "Prior Model MSE"
      }
     },
     "output_type": "display_data"
    },
    {
     "data": {
      "application/scrapbook.scrap.json+json": {
       "data": 0.22838100658369967,
       "encoder": "json",
       "name": "ABC Pre-generator MSE",
       "version": 1
      }
     },
     "metadata": {
      "scrapbook": {
       "data": true,
       "display": false,
       "name": "ABC Pre-generator MSE"
      }
     },
     "output_type": "display_data"
    }
   ],
   "source": [
    "y_pred = prior_model.predict(X_test)\n",
    "y_abc = y_pred + np.random.normal(0,variance, y_pred.shape) + bias \n",
    "mse = mean_squared_error(y_pred,Y_test)\n",
    "sb.glue(\"Prior Model MSE\",mse)\n",
    "mse = mean_squared_error(y_abc,Y_test)\n",
    "sb.glue(\"ABC Pre-generator MSE\",mse)\n",
    "mae = mean_absolute_error(y_pred,Y_test)\n",
    "sb.glue(\"Prior Model MSE\",mae)\n",
    "mae = mean_absolute_error(y_abc,Y_test)\n",
    "sb.glue(\"ABC Pre-generator MSE\",mae)"
   ]
  },
  {
   "cell_type": "markdown",
   "id": "25609da2",
   "metadata": {
    "papermill": {
     "duration": 0.00998,
     "end_time": "2022-06-12T08:52:18.819495",
     "exception": false,
     "start_time": "2022-06-12T08:52:18.809515",
     "status": "completed"
    },
    "tags": []
   },
   "source": [
    "# ABC GAN Model"
   ]
  },
  {
   "cell_type": "code",
   "execution_count": 11,
   "id": "dfc3464d",
   "metadata": {
    "execution": {
     "iopub.execute_input": "2022-06-12T08:52:18.842219Z",
     "iopub.status.busy": "2022-06-12T08:52:18.841845Z",
     "iopub.status.idle": "2022-06-12T08:52:18.844425Z",
     "shell.execute_reply": "2022-06-12T08:52:18.844668Z"
    },
    "papermill": {
     "duration": 0.015372,
     "end_time": "2022-06-12T08:52:18.844778",
     "exception": false,
     "start_time": "2022-06-12T08:52:18.829406",
     "status": "completed"
    },
    "tags": []
   },
   "outputs": [],
   "source": [
    "gen = network.Generator(n_features+1).to(device)\n",
    "disc = network.Discriminator(n_features+1).to(device)\n",
    "\n",
    "criterion = torch.nn.BCELoss()\n",
    "gen_opt = torch.optim.Adam(gen.parameters(), lr=0.001, betas=(0.5, 0.999))\n",
    "disc_opt = torch.optim.Adam(disc.parameters(), lr=0.001, betas=(0.5, 0.999))"
   ]
  },
  {
   "cell_type": "code",
   "execution_count": 12,
   "id": "b75fdd85",
   "metadata": {
    "execution": {
     "iopub.execute_input": "2022-06-12T08:52:18.867623Z",
     "iopub.status.busy": "2022-06-12T08:52:18.867269Z",
     "iopub.status.idle": "2022-06-12T08:53:18.507830Z",
     "shell.execute_reply": "2022-06-12T08:53:18.508149Z"
    },
    "papermill": {
     "duration": 59.653388,
     "end_time": "2022-06-12T08:53:18.508275",
     "exception": false,
     "start_time": "2022-06-12T08:52:18.854887",
     "status": "completed"
    },
    "tags": []
   },
   "outputs": [
    {
     "data": {
      "image/png": "[encoded data removed]",
      "text/plain": [
       "<Figure size 432x288 with 1 Axes>"
      ]
     },
     "metadata": {
      "needs_background": "light"
     },
     "output_type": "display_data"
    },
    {
     "data": {
      "image/png": "[encoded data removed]",
      "text/plain": [
       "<Figure size 432x288 with 1 Axes>"
      ]
     },
     "metadata": {
      "needs_background": "light"
     },
     "output_type": "display_data"
    }
   ],
   "source": [
    "#Training the ABC_GAN \n",
    "ABC_train_test2.training_GAN(disc,gen,disc_opt,gen_opt,train_data,batch_size,n_epochs,criterion,prior_model,variance,bias,device)"
   ]
  },
  {
   "cell_type": "code",
   "execution_count": 13,
   "id": "1fa7c368",
   "metadata": {
    "execution": {
     "iopub.execute_input": "2022-06-12T08:53:18.533754Z",
     "iopub.status.busy": "2022-06-12T08:53:18.533372Z",
     "iopub.status.idle": "2022-06-12T08:53:18.838745Z",
     "shell.execute_reply": "2022-06-12T08:53:18.838993Z"
    },
    "papermill": {
     "duration": 0.319792,
     "end_time": "2022-06-12T08:53:18.839117",
     "exception": false,
     "start_time": "2022-06-12T08:53:18.519325",
     "status": "completed"
    },
    "tags": []
   },
   "outputs": [
    {
     "data": {
      "application/scrapbook.scrap.json+json": {
       "data": 0.0974665171405479,
       "encoder": "json",
       "name": "ABC-GAN Model 1 MSE",
       "version": 1
      }
     },
     "metadata": {
      "scrapbook": {
       "data": true,
       "display": false,
       "name": "ABC-GAN Model 1 MSE"
      }
     },
     "output_type": "display_data"
    },
    {
     "data": {
      "application/scrapbook.scrap.json+json": {
       "data": 0.2414573446916891,
       "encoder": "json",
       "name": "ABC-GAN Model 1 MAE",
       "version": 1
      }
     },
     "metadata": {
      "scrapbook": {
       "data": true,
       "display": false,
       "name": "ABC-GAN Model 1 MAE"
      }
     },
     "output_type": "display_data"
    },
    {
     "data": {
      "application/scrapbook.scrap.json+json": {
       "data": 24.62864915855229,
       "encoder": "json",
       "name": "ABC-GAN Model 1 Manhattan Distance",
       "version": 1
      }
     },
     "metadata": {
      "scrapbook": {
       "data": true,
       "display": false,
       "name": "ABC-GAN Model 1 Manhattan Distance"
      }
     },
     "output_type": "display_data"
    },
    {
     "data": {
      "application/scrapbook.scrap.json+json": {
       "data": 3.153005556961118,
       "encoder": "json",
       "name": "ABC-GAN Model 1 Euclidean distance",
       "version": 1
      }
     },
     "metadata": {
      "scrapbook": {
       "data": true,
       "display": false,
       "name": "ABC-GAN Model 1 Euclidean distance"
      }
     },
     "output_type": "display_data"
    },
    {
     "data": {
      "application/scrapbook.scrap.json+json": {
       "data": [
        [
         0.09709177950266915,
         0.09708629963099767,
         0.09759608048361665,
         0.09797590043191781,
         0.09656858499863132,
         0.0966044690893157,
         0.09685104806762046,
         0.09757233937085093,
         0.09717793465734242,
         0.09771894699116707,
         0.09772377984674605,
         0.09871550237236082,
         0.09764009621231974,
         0.09814643162483627,
         0.09818202778920053,
         0.09759924544885604,
         0.09705446176279647,
         0.09635874983125876,
         0.09834632696908004,
         0.09825050429862485,
         0.09864258891199082,
         0.09745191244809609,
         0.09714387980110885,
         0.09771313097773641,
         0.09700960788688875,
         0.09723720184476811,
         0.09745573557510662,
         0.09731931974486221,
         0.09825945294759299,
         0.09731947253572808,
         0.09784401884815706,
         0.09621043660353813,
         0.09609962249787143,
         0.09825159260493746,
         0.09772702101393818,
         0.097729062862171,
         0.0971160186654311,
         0.09616987968402066,
         0.09593886425452898,
         0.09893684377370436,
         0.09711757504001715,
         0.09709424973548811,
         0.09821932560268092,
         0.09603880996992696,
         0.09625201360648333,
         0.09844823010944577,
         0.09571281958760312,
         0.09841836205235588,
         0.09707046527037591,
         0.09806271132949927,
         0.09712426647896198,
         0.09859513142002922,
         0.09853082925254023,
         0.096877327865276,
         0.09717722189795926,
         0.09846230808892663,
         0.09871141814364431,
         0.09834529096073281,
         0.09747973268200752,
         0.0964567657804454,
         0.09653213428615459,
         0.09691489586915726,
         0.09750846022419232,
         0.09819771750277578,
         0.09716779958392864,
         0.09797227049512323,
         0.09797096388194894,
         0.09823545458130026,
         0.09688468924114754,
         0.09592769101672612,
         0.09772784697761758,
         0.09774529181343383,
         0.09679927107580366,
         0.0974423644504954,
         0.09837936598693206,
         0.09726994648846472,
         0.09736135991274067,
         0.09781803534231366,
         0.09688739747680628,
         0.09854883765540434,
         0.0975253083146932,
         0.09717932721038655,
         0.09754551172596383,
         0.09648228723474742,
         0.09760339003124216,
         0.09761106020478832,
         0.09626560318532675,
         0.0978754786091125,
         0.09650448093721267,
         0.09785248911438436,
         0.09710853846438858,
         0.09829281845630795,
         0.09748984228501817,
         0.09799798357944357,
         0.09787543204841238,
         0.09870148843818517,
         0.0971751242499333,
         0.0973785638486534,
         0.097600559042368,
         0.09726360547496808
        ],
        [
         0.24124332559386305,
         0.24157083624353012,
         0.24153734245063627,
         0.2422339396697341,
         0.23991334969725678,
         0.241564768476083,
         0.24123844604793132,
         0.24169050111417092,
         0.2414301850595603,
         0.24074445144437692,
         0.24238730746083983,
         0.24381671975567645,
         0.24171880250979288,
         0.24186785780258624,
         0.2428426969540762,
         0.24037729150743462,
         0.2402395049986594,
         0.24043160857742324,
         0.24185345393112478,
         0.24273944899951125,
         0.24305149713786794,
         0.24174762201294595,
         0.24007783485028675,
         0.24268863085365178,
         0.2406790081740302,
         0.24065725671529187,
         0.242105490199345,
         0.24047829501111717,
         0.24052116294921028,
         0.2419763452683886,
         0.2420630682004141,
         0.23965914180392728,
         0.23976953669140735,
         0.2421164790022315,
         0.24169207946853896,
         0.24172564287322992,
         0.2405374350902789,
         0.2395714055198957,
         0.23845194322148375,
         0.243005143496774,
         0.23959493474560042,
         0.24160473828441373,
         0.24188476601871206,
         0.23978520964509717,
         0.2403469494562231,
         0.24228220686827803,
         0.23842718180122913,
         0.24343995061502152,
         0.24036235725689753,
         0.24078268132300354,
         0.24109201335950808,
         0.24279042733285358,
         0.24269463090846935,
         0.2412214189877405,
         0.24275835287556344,
         0.24184584988317653,
         0.24317060328800888,
         0.24153319167374981,
         0.24161781639079838,
         0.23997509141690007,
         0.24013475078505045,
         0.24029462366346635,
         0.2404836906193226,
         0.2428818699155076,
         0.24172146412014378,
         0.24232277148129308,
         0.2419946211043234,
         0.24171281114731932,
         0.24187054556301413,
         0.24036034472359746,
         0.2416664651759407,
         0.24225305230813285,
         0.24044722945009375,
         0.24189818692484907,
         0.2432317190127922,
         0.2424039224747057,
         0.24107721709080188,
         0.24191871773013296,
         0.24197797154021614,
         0.24380154080469818,
         0.2420885391789032,
         0.2413404387988004,
         0.24091617914610633,
         0.23968822675227536,
         0.24088127792392874,
         0.24332093416402736,
         0.24012607553352913,
         0.24279966218141363,
         0.23994079361870593,
         0.24223948969487466,
         0.24090006018020943,
         0.24224513643147313,
         0.241433801585991,
         0.24123673438660653,
         0.24122959746084377,
         0.24387213929245868,
         0.24117645027809867,
         0.24151898217478804,
         0.24161290616600536,
         0.24148629961864038
        ],
        [
         24.60681921057403,
         24.64022529684007,
         24.6368089299649,
         24.70786184631288,
         24.471161669120193,
         24.639606384560466,
         24.606321496888995,
         24.652431113645434,
         24.62587887607515,
         24.555934047326446,
         24.723505361005664,
         24.869305415078998,
         24.655317855998874,
         24.670521495863795,
         24.769955089315772,
         24.51848373375833,
         24.504429509863257,
         24.52402407489717,
         24.669052300974727,
         24.75942379795015,
         24.79125270806253,
         24.658257445320487,
         24.487939154729247,
         24.754240347072482,
         24.549258833751082,
         24.54704018495977,
         24.69476000033319,
         24.528786091133952,
         24.53315862081945,
         24.681587217375636,
         24.690432956442237,
         24.445232464000583,
         24.45649274252355,
         24.69588085822761,
         24.652592105790973,
         24.656015573069453,
         24.534818379208446,
         24.43628336302936,
         24.322098208591342,
         24.786524636670947,
         24.438683344051242,
         24.6436833050102,
         24.67224613390863,
         24.45809138379991,
         24.515388844534755,
         24.71278510056436,
         24.31957254372537,
         24.830874962732196,
         24.516960440203547,
         24.55983349494636,
         24.591385362669826,
         24.764623587951064,
         24.754852352663875,
         24.60458473674953,
         24.76135199330747,
         24.668276688084006,
         24.803401535376906,
         24.63638555072248,
         24.645017271861434,
         24.477459324523807,
         24.493744580075145,
         24.510051613673568,
         24.529336443170905,
         24.773950731381774,
         24.655589340254664,
         24.716922691091895,
         24.683451352640986,
         24.654706737026572,
         24.67079564742744,
         24.51675516180694,
         24.649979447945952,
         24.70981133542955,
         24.525617403909564,
         24.673615066334605,
         24.809635339304805,
         24.725200092419982,
         24.58987614326179,
         24.675709208473563,
         24.681753097102046,
         24.867757162079215,
         24.693030996248126,
         24.61672475747764,
         24.573450272902846,
         24.448199128732085,
         24.569890348240733,
         24.818735284730792,
         24.49285970441997,
         24.76556554250419,
         24.473960949108005,
         24.708427948877215,
         24.571806138381362,
         24.70900391601026,
         24.626247761771083,
         24.606146907433867,
         24.605418941006064,
         24.874958207830787,
         24.599997928366065,
         24.63493618182838,
         24.644516428932548,
         24.631602561101317
        ],
        [
         3.1469606780626056,
         3.14687186939058,
         3.1551228517014827,
         3.161256371137213,
         3.1384702754463665,
         3.139053336136581,
         3.1430569359935694,
         3.1547390725425757,
         3.1483566086212225,
         3.157108264393073,
         3.1571863334887436,
         3.173165807514761,
         3.155834250029081,
         3.16400632517277,
         3.1645800407792586,
         3.1551740103809354,
         3.146355844434199,
         3.1350586091472663,
         3.1672267602503865,
         3.16568340780624,
         3.1719937057035694,
         3.15279163119065,
         3.1478049081404484,
         3.1570143109794597,
         3.1456287137013885,
         3.149316527147811,
         3.152853474023313,
         3.1506460629489856,
         3.165827569633963,
         3.150648536197629,
         3.1591280319911093,
         3.1326449740691786,
         3.1308403815561863,
         3.165700940661265,
         3.1572386896498172,
         3.157271672178598,
         3.147353476156431,
         3.131984630832359,
         3.128220605066393,
         3.1767212759255177,
         3.147378695689756,
         3.1470007106798987,
         3.1651810708825887,
         3.1298496157056097,
         3.1333217817296224,
         3.168867222078493,
         3.124533180802456,
         3.168386486737421,
         3.1466152382486077,
         3.162656566181178,
         3.1474871216343554,
         3.1712305820994757,
         3.170196300508708,
         3.1434833294067506,
         3.1483450626625795,
         3.169093786095721,
         3.173100163980286,
         3.1672100779700014,
         3.1532416230864335,
         3.1366526919003044,
         3.137877897112596,
         3.1440927751346712,
         3.153706223297854,
         3.1648328842583666,
         3.148192427022326,
         3.1611978094549174,
         3.1611767296307227,
         3.165440943579997,
         3.1436027583963346,
         3.1280384402539014,
         3.157252031706843,
         3.1575338105822794,
         3.14221667771845,
         3.1526371776578612,
         3.1677587235563047,
         3.149846748942462,
         3.151326500237566,
         3.158708534340576,
         3.143646694944302,
         3.170485994425971,
         3.153978669569391,
         3.1483791664060137,
         3.1543053428684282,
         3.137067627250684,
         3.1552410023937476,
         3.1553649774453048,
         3.1335429668194,
         3.1596358679647683,
         3.1374284144177205,
         3.1592647704279555,
         3.147232263969031,
         3.1663650267370334,
         3.153405129867054,
         3.161612614648297,
         3.1596351164237397,
         3.1729405636877104,
         3.148311082706599,
         3.1516049106070776,
         3.1551952431381385,
         3.1497440782461585
        ]
       ],
       "encoder": "json",
       "name": "ABC_GAN_1 Metrics",
       "version": 1
      }
     },
     "metadata": {
      "scrapbook": {
       "data": true,
       "display": false,
       "name": "ABC_GAN_1 Metrics"
      }
     },
     "output_type": "display_data"
    },
    {
     "name": "stdout",
     "output_type": "stream",
     "text": [
      "MSE\n",
      "0.0974665171405479\n"
     ]
    }
   ],
   "source": [
    "ABC_GAN1_metrics=ABC_train_test2.test_generator(gen,test_data,prior_model,variance,bias,\"1\",device)\n",
    "sb.glue(\"ABC_GAN_1 Metrics\",ABC_GAN1_metrics)\n",
    "\n",
    "print(\"MSE\")\n",
    "print(mean(ABC_GAN1_metrics[0]))"
   ]
  },
  {
   "cell_type": "code",
   "execution_count": 14,
   "id": "eb22ce5c",
   "metadata": {
    "execution": {
     "iopub.execute_input": "2022-06-12T08:53:18.867777Z",
     "iopub.status.busy": "2022-06-12T08:53:18.867405Z",
     "iopub.status.idle": "2022-06-12T08:53:19.192252Z",
     "shell.execute_reply": "2022-06-12T08:53:19.192564Z"
    },
    "papermill": {
     "duration": 0.340766,
     "end_time": "2022-06-12T08:53:19.192687",
     "exception": false,
     "start_time": "2022-06-12T08:53:18.851921",
     "status": "completed"
    },
    "tags": []
   },
   "outputs": [
    {
     "data": {
      "image/png": "[encoded data removed]",
      "text/plain": [
       "<Figure size 432x288 with 1 Axes>"
      ]
     },
     "metadata": {
      "needs_background": "light"
     },
     "output_type": "display_data"
    },
    {
     "data": {
      "image/png": "[encoded data removed]",
      "text/plain": [
       "<Figure size 432x288 with 1 Axes>"
      ]
     },
     "metadata": {
      "needs_background": "light"
     },
     "output_type": "display_data"
    },
    {
     "data": {
      "image/png": "[encoded data removed]",
      "text/plain": [
       "<Figure size 432x288 with 1 Axes>"
      ]
     },
     "metadata": {
      "needs_background": "light"
     },
     "output_type": "display_data"
    },
    {
     "data": {
      "image/png": "[encoded data removed]",
      "text/plain": [
       "<Figure size 432x288 with 1 Axes>"
      ]
     },
     "metadata": {
      "needs_background": "light"
     },
     "output_type": "display_data"
    }
   ],
   "source": [
    "sanityChecks.discProbVsError(train_data,disc,device)\n",
    "sanityChecks.discProbVsError(test_data,disc,device)"
   ]
  },
  {
   "cell_type": "markdown",
   "id": "130f3a4d",
   "metadata": {
    "id": "130f3a4d",
    "papermill": {
     "duration": 0.014539,
     "end_time": "2022-06-12T08:53:19.222234",
     "exception": false,
     "start_time": "2022-06-12T08:53:19.207695",
     "status": "completed"
    },
    "tags": []
   },
   "source": [
    "# ABC - GAN Model with skip connection"
   ]
  },
  {
   "cell_type": "code",
   "execution_count": 15,
   "id": "4e43dad1",
   "metadata": {
    "execution": {
     "iopub.execute_input": "2022-06-12T08:53:19.255689Z",
     "iopub.status.busy": "2022-06-12T08:53:19.255308Z",
     "iopub.status.idle": "2022-06-12T08:53:19.257698Z",
     "shell.execute_reply": "2022-06-12T08:53:19.257960Z"
    },
    "id": "4e43dad1",
    "papermill": {
     "duration": 0.020925,
     "end_time": "2022-06-12T08:53:19.258071",
     "exception": false,
     "start_time": "2022-06-12T08:53:19.237146",
     "status": "completed"
    },
    "tags": []
   },
   "outputs": [],
   "source": [
    "#Generator\n",
    "gen3 = network.GeneratorWithSkipConnection(n_features+1).to(device)\n",
    "constraints=network.weightConstraint()\n",
    "#Discriminator \n",
    "disc3 = network.Discriminator(n_features+1).to(device)\n",
    "\n",
    "criterion = torch.nn.BCELoss()\n",
    "gen_opt = torch.optim.Adam(gen3.parameters(), lr=0.001, betas=(0.5, 0.999))\n",
    "disc_opt = torch.optim.Adam(disc3.parameters(), lr=0.001, betas=(0.5, 0.999))\n"
   ]
  },
  {
   "cell_type": "code",
   "execution_count": 16,
   "id": "26acbc37",
   "metadata": {
    "execution": {
     "iopub.execute_input": "2022-06-12T08:53:19.289935Z",
     "iopub.status.busy": "2022-06-12T08:53:19.289557Z",
     "iopub.status.idle": "2022-06-12T08:56:10.105175Z",
     "shell.execute_reply": "2022-06-12T08:56:10.105506Z"
    },
    "id": "26acbc37",
    "papermill": {
     "duration": 170.832701,
     "end_time": "2022-06-12T08:56:10.105630",
     "exception": false,
     "start_time": "2022-06-12T08:53:19.272929",
     "status": "completed"
    },
    "tags": []
   },
   "outputs": [
    {
     "data": {
      "image/png": "[encoded data removed]",
      "text/plain": [
       "<Figure size 432x288 with 1 Axes>"
      ]
     },
     "metadata": {
      "needs_background": "light"
     },
     "output_type": "display_data"
    },
    {
     "data": {
      "image/png": "[encoded data removed]",
      "text/plain": [
       "<Figure size 432x288 with 1 Axes>"
      ]
     },
     "metadata": {
      "needs_background": "light"
     },
     "output_type": "display_data"
    }
   ],
   "source": [
    "ABC_train_test2.training_GAN_skip_connection(disc3,gen3,disc_opt,gen_opt,train_data,batch_size,n_epochs,criterion,prior_model,variance,bias,device)"
   ]
  },
  {
   "cell_type": "code",
   "execution_count": 17,
   "id": "c5e0717b",
   "metadata": {
    "execution": {
     "iopub.execute_input": "2022-06-12T08:56:10.140893Z",
     "iopub.status.busy": "2022-06-12T08:56:10.140525Z",
     "iopub.status.idle": "2022-06-12T08:56:10.953331Z",
     "shell.execute_reply": "2022-06-12T08:56:10.953644Z"
    },
    "id": "c5e0717b",
    "papermill": {
     "duration": 0.832367,
     "end_time": "2022-06-12T08:56:10.953772",
     "exception": false,
     "start_time": "2022-06-12T08:56:10.121405",
     "status": "completed"
    },
    "tags": []
   },
   "outputs": [
    {
     "data": {
      "application/scrapbook.scrap.json+json": {
       "data": 0.08970500777217964,
       "encoder": "json",
       "name": "ABC-GAN Model 3 MSE",
       "version": 1
      }
     },
     "metadata": {
      "scrapbook": {
       "data": true,
       "display": false,
       "name": "ABC-GAN Model 3 MSE"
      }
     },
     "output_type": "display_data"
    },
    {
     "data": {
      "application/scrapbook.scrap.json+json": {
       "data": 0.2289806071314927,
       "encoder": "json",
       "name": "ABC-GAN Model 3 MAE",
       "version": 1
      }
     },
     "metadata": {
      "scrapbook": {
       "data": true,
       "display": false,
       "name": "ABC-GAN Model 3 MAE"
      }
     },
     "output_type": "display_data"
    },
    {
     "data": {
      "application/scrapbook.scrap.json+json": {
       "data": 23.356021927412257,
       "encoder": "json",
       "name": "ABC-GAN Model 3 Manhattan Distance",
       "version": 1
      }
     },
     "metadata": {
      "scrapbook": {
       "data": true,
       "display": false,
       "name": "ABC-GAN Model 3 Manhattan Distance"
      }
     },
     "output_type": "display_data"
    },
    {
     "data": {
      "application/scrapbook.scrap.json+json": {
       "data": 3.024865679606729,
       "encoder": "json",
       "name": "ABC-GAN Model 3 Euclidean distance",
       "version": 1
      }
     },
     "metadata": {
      "scrapbook": {
       "data": true,
       "display": false,
       "name": "ABC-GAN Model 3 Euclidean distance"
      }
     },
     "output_type": "display_data"
    },
    {
     "data": {
      "application/scrapbook.scrap.json+json": {
       "data": [
        [
         0.0893898885386846,
         0.08930661058704996,
         0.08960641821599662,
         0.08998963026283253,
         0.09025379827336286,
         0.08897071811821618,
         0.08949724689304492,
         0.08972887791948415,
         0.09028888514738143,
         0.09045986238435016,
         0.09019856110611851,
         0.08938453112727822,
         0.08963079964504,
         0.08974666510189425,
         0.08859686552246418,
         0.08919630706481367,
         0.09003712786747822,
         0.09024065651053999,
         0.08897339244974893,
         0.08948025583206755,
         0.08984917471644296,
         0.08950503182512791,
         0.08960926529062739,
         0.08931471547964576,
         0.08871603734965394,
         0.08943697426076888,
         0.09046907026554628,
         0.08884157635134783,
         0.08882666662986448,
         0.089429219258902,
         0.09026796653513465,
         0.09053988666528372,
         0.08928741142697678,
         0.08972916529452529,
         0.08938996983927003,
         0.08846612387112394,
         0.08968383291329793,
         0.0888295594734069,
         0.08993817729873987,
         0.0893546377338853,
         0.0906188131942,
         0.08964229665279888,
         0.08989429444825142,
         0.09040315031871374,
         0.09046111678332917,
         0.08979495683602191,
         0.08906180485292055,
         0.09067172928586552,
         0.08948342959251923,
         0.0890309982976791,
         0.09036905687123652,
         0.08963970181848403,
         0.08953627436855678,
         0.08919309885832712,
         0.09003683259427998,
         0.08917685361364137,
         0.08949873850743491,
         0.08943225653920933,
         0.08995753657006748,
         0.08929657348622216,
         0.08991279273354076,
         0.0897519470509318,
         0.08982114543320904,
         0.09070614797899236,
         0.08992457215977695,
         0.08943038400593459,
         0.0908896508319029,
         0.08958605953108557,
         0.08884860816583709,
         0.08969849903560462,
         0.0894732727275884,
         0.09102087034202994,
         0.09017646975628898,
         0.08863698583175275,
         0.09008815746801523,
         0.08955517240602878,
         0.08893120730243331,
         0.08951565484711622,
         0.0902120353159517,
         0.08984579530655039,
         0.09102691859076395,
         0.0893081477331921,
         0.08909410245328941,
         0.09106700517861914,
         0.0902730790897304,
         0.08996422324488024,
         0.0905749421217216,
         0.09029176526294615,
         0.0899909398200748,
         0.0895156086011167,
         0.08858847577095787,
         0.0896400035708682,
         0.08924306659568018,
         0.08944415559695852,
         0.08967721982645337,
         0.09017312462608805,
         0.08856207804014711,
         0.09052989171126,
         0.09007350415580916,
         0.08977602245965763
        ],
        [
         0.22912233457535358,
         0.22877963699911738,
         0.2285148295957376,
         0.22922083180610037,
         0.22930412956823906,
         0.22714714771684477,
         0.22931384047328987,
         0.22919971068554065,
         0.2294263529098209,
         0.22988382053524986,
         0.23023367779530293,
         0.22779122546461283,
         0.22822996482764388,
         0.23038671995677493,
         0.22819347804704426,
         0.22848141408872372,
         0.23066604589614287,
         0.22903057646608965,
         0.22813476054637016,
         0.22941437447169685,
         0.22853235672707395,
         0.22891690505339818,
         0.22828283832025,
         0.22943907882105194,
         0.22616525367815413,
         0.22865308076599797,
         0.2297730072967562,
         0.22858581441345022,
         0.22783035848874086,
         0.22791281459435328,
         0.2293474918468764,
         0.22997101215079574,
         0.227474448747029,
         0.22948973739117967,
         0.2289453766071329,
         0.22731554094135908,
         0.22892680530454598,
         0.22752589825312516,
         0.22958883852241377,
         0.22872122407288237,
         0.2299179429297938,
         0.22850462064767876,
         0.22927682816653566,
         0.23055530344501285,
         0.23056578566776773,
         0.22870282960288665,
         0.22816929869426816,
         0.22997292988550136,
         0.22707264130368976,
         0.2277774481769359,
         0.22996606966526265,
         0.2282946548452053,
         0.22869535002346134,
         0.2270955782196503,
         0.2301977579573206,
         0.22835846436803467,
         0.22842469793977216,
         0.22916977920377737,
         0.2280934758520886,
         0.22886871940949383,
         0.2289674688842805,
         0.22887606334452534,
         0.227347893521701,
         0.22988243892277574,
         0.23012276734316758,
         0.2292055067259307,
         0.2301148969666375,
         0.2285457937384718,
         0.22693912266382255,
         0.22987192785184757,
         0.22739115349181435,
         0.2314564235435397,
         0.22879952304613063,
         0.22753787849682802,
         0.229282923821159,
         0.22915708307432486,
         0.22879571567161702,
         0.23038107565348492,
         0.22984312484086508,
         0.22914449273444273,
         0.23165650950064517,
         0.2290092403178706,
         0.22841932936845458,
         0.23149520310335883,
         0.23112726308332354,
         0.22973762140335405,
         0.22924618713338585,
         0.22982105905733383,
         0.22839177529984975,
         0.22936504956919188,
         0.22765209963179978,
         0.22921892963167206,
         0.22815300861154408,
         0.22862937681230844,
         0.22865368604121328,
         0.22958919380371476,
         0.22753862209398956,
         0.22993257976429282,
         0.22976303280459023,
         0.22944474135361173
        ],
        [
         23.370478126686066,
         23.335522973909974,
         23.308512618765235,
         23.380524844222236,
         23.389021215960383,
         23.169009067118168,
         23.390011728275567,
         23.378370489925146,
         23.401487996801734,
         23.448149694595486,
         23.4838351351209,
         23.23470499739051,
         23.279456412419677,
         23.499445435591042,
         23.275734760798514,
         23.305104237049818,
         23.527936681406572,
         23.361118799541146,
         23.269745575729758,
         23.40026619611308,
         23.310300386161543,
         23.349524315446615,
         23.284849508665502,
         23.402786039747298,
         23.06885587517172,
         23.32261423813179,
         23.436846744269133,
         23.315753070171922,
         23.23869656585157,
         23.247107088624034,
         23.393444168381393,
         23.457043239381164,
         23.202393772196956,
         23.407953213900328,
         23.352428413927555,
         23.186185176018625,
         23.35053414106369,
         23.207641621818766,
         23.418061529286206,
         23.329564855434,
         23.45163017883897,
         23.307471306063235,
         23.38623647298664,
         23.51664095139131,
         23.517710138112307,
         23.327688619494438,
         23.273268466815352,
         23.45723884832114,
         23.161409412976354,
         23.23329971404746,
         23.45653910585679,
         23.28605479421094,
         23.326925702393055,
         23.16374897840433,
         23.4801713116467,
         23.292563365539536,
         23.29931918985676,
         23.37531747878529,
         23.265534536913037,
         23.34460937976837,
         23.35468182619661,
         23.345358461141586,
         23.189485139213502,
         23.448008770123124,
         23.472522269003093,
         23.37896168604493,
         23.471719490597025,
         23.311670961324126,
         23.1477905117099,
         23.446936640888453,
         23.193897656165063,
         23.60855520144105,
         23.337551350705326,
         23.20886360667646,
         23.386858229758218,
         23.374022473581135,
         23.337162998504937,
         23.498869716655463,
         23.44399873376824,
         23.37273825891316,
         23.628963969065808,
         23.3589425124228,
         23.298771595582366,
         23.6125107165426,
         23.574980834499,
         23.433237383142114,
         23.383111087605357,
         23.44174802384805,
         23.295961080584675,
         23.395235056057572,
         23.22051416244358,
         23.38033082243055,
         23.271606878377497,
         23.32019643485546,
         23.322675976203755,
         23.418097767978907,
         23.208939453586936,
         23.453123135957867,
         23.435829346068203,
         23.403363618068397
        ],
        [
         3.0195643114439252,
         3.0181574312615127,
         3.0232192540455376,
         3.0296769277942683,
         3.0341205354901457,
         3.01247626514435,
         3.0213770342495456,
         3.0252843746972586,
         3.0347102472942797,
         3.037582256203725,
         3.0331919215282253,
         3.0194738241922843,
         3.0236305269979793,
         3.02558421472502,
         3.0061404297356678,
         3.016292976587486,
         3.03047637220335,
         3.03389962986172,
         3.012521540151106,
         3.021090216274729,
         3.0273116491496515,
         3.02150843887007,
         3.023267282203807,
         3.0182943824159807,
         3.0081615331734937,
         3.0203594777109597,
         3.037736849545352,
         3.010289153526199,
         3.010036544005102,
         3.0202285285070736,
         3.0343586779719587,
         3.038925540361089,
         3.0178329916600144,
         3.025289219238646,
         3.0195656845986223,
         3.0039215427262143,
         3.024524914289249,
         3.010085557967996,
         3.0288106716121206,
         3.018968871793199,
         3.0402498163487155,
         3.023824442421465,
         3.028071669185134,
         3.036629930121351,
         3.0376033170740997,
         3.0263981227317456,
         3.0140179320962734,
         3.0411373509196005,
         3.021143793075226,
         3.0134966113077466,
         3.036057278917202,
         3.0237806774773475,
         3.022035735326899,
         3.0162387311931007,
         3.0304714030355995,
         3.0159640363557747,
         3.0214022121787028,
         3.0202798160103232,
         3.0291366311453967,
         3.017987822307217,
         3.0283832087140423,
         3.025673247261681,
         3.026839413346424,
         3.04171449907075,
         3.0285815756385444,
         3.02024819652381,
         3.0447897111055293,
         3.022875795028755,
         3.0104082834252535,
         3.0247722065688962,
         3.020972329931874,
         3.0469868353649074,
         3.032820455473993,
         3.006821004788742,
         3.0313350296094876,
         3.0223546425618117,
         3.0118072887965788,
         3.0216877393943036,
         3.033418468036857,
         3.0272547169453943,
         3.0470880683462243,
         3.018183405425454,
         3.014564388138943,
         3.0477589353850076,
         3.03444460604449,
         3.029249209123901,
         3.0395137927661398,
         3.0347586488583413,
         3.029698972117136,
         3.021686958854921,
         3.0059980919218328,
         3.0237857669200965,
         3.0170834911814053,
         3.0204807350635043,
         3.024413401355418,
         3.0327642031422393,
         3.0055501925762287,
         3.0387577979412113,
         3.0310884882979803,
         3.0260790291869575
        ]
       ],
       "encoder": "json",
       "name": "ABC_GAN_3 Metrics",
       "version": 1
      }
     },
     "metadata": {
      "scrapbook": {
       "data": true,
       "display": false,
       "name": "ABC_GAN_3 Metrics"
      }
     },
     "output_type": "display_data"
    },
    {
     "name": "stdout",
     "output_type": "stream",
     "text": [
      "MSE\n",
      "0.08970500777217964\n"
     ]
    }
   ],
   "source": [
    "ABC_GAN3_metrics=ABC_train_test2.test_generator(gen3,test_data,prior_model,variance,bias,\"3\",device)\n",
    "sb.glue(\"ABC_GAN_3 Metrics\",ABC_GAN3_metrics)\n",
    "\n",
    "print(\"MSE\")\n",
    "print(mean(ABC_GAN3_metrics[0]))"
   ]
  },
  {
   "cell_type": "code",
   "execution_count": 18,
   "id": "c8e46b48",
   "metadata": {
    "execution": {
     "iopub.execute_input": "2022-06-12T08:56:10.991390Z",
     "iopub.status.busy": "2022-06-12T08:56:10.990999Z",
     "iopub.status.idle": "2022-06-12T08:56:11.315390Z",
     "shell.execute_reply": "2022-06-12T08:56:11.315651Z"
    },
    "id": "c8e46b48",
    "papermill": {
     "duration": 0.344586,
     "end_time": "2022-06-12T08:56:11.315776",
     "exception": false,
     "start_time": "2022-06-12T08:56:10.971190",
     "status": "completed"
    },
    "tags": []
   },
   "outputs": [
    {
     "data": {
      "image/png": "[encoded data removed]",
      "text/plain": [
       "<Figure size 432x288 with 1 Axes>"
      ]
     },
     "metadata": {
      "needs_background": "light"
     },
     "output_type": "display_data"
    },
    {
     "data": {
      "image/png": "[encoded data removed]",
      "text/plain": [
       "<Figure size 432x288 with 1 Axes>"
      ]
     },
     "metadata": {
      "needs_background": "light"
     },
     "output_type": "display_data"
    },
    {
     "data": {
      "image/png": "[encoded data removed]",
      "text/plain": [
       "<Figure size 432x288 with 1 Axes>"
      ]
     },
     "metadata": {
      "needs_background": "light"
     },
     "output_type": "display_data"
    },
    {
     "data": {
      "image/png": "[encoded data removed]",
      "text/plain": [
       "<Figure size 432x288 with 1 Axes>"
      ]
     },
     "metadata": {
      "needs_background": "light"
     },
     "output_type": "display_data"
    }
   ],
   "source": [
    "sanityChecks.discProbVsError(train_data,disc3,device)\n",
    "sanityChecks.discProbVsError(test_data,disc3,device)"
   ]
  },
  {
   "cell_type": "markdown",
   "id": "a5bd74c3",
   "metadata": {
    "id": "a5bd74c3",
    "papermill": {
     "duration": 0.020096,
     "end_time": "2022-06-12T08:56:11.356000",
     "exception": false,
     "start_time": "2022-06-12T08:56:11.335904",
     "status": "completed"
    },
    "tags": []
   },
   "source": [
    "## Skip Connection Model Analysis - ABC-GAN "
   ]
  },
  {
   "cell_type": "markdown",
   "id": "5744a8bf",
   "metadata": {
    "id": "5744a8bf",
    "papermill": {
     "duration": 0.019192,
     "end_time": "2022-06-12T08:56:11.394574",
     "exception": false,
     "start_time": "2022-06-12T08:56:11.375382",
     "status": "completed"
    },
    "tags": []
   },
   "source": [
    "### Weight Analysis \n",
    "\n",
    "Study the weights of the skip connection layer\n",
    "\n",
    "Equation of the skip connection is \n",
    "\n",
    "$output = y_{gan} * w + y_{abc} * (1-w)$"
   ]
  },
  {
   "cell_type": "code",
   "execution_count": 19,
   "id": "52c31dea",
   "metadata": {
    "execution": {
     "iopub.execute_input": "2022-06-12T08:56:11.435798Z",
     "iopub.status.busy": "2022-06-12T08:56:11.435426Z",
     "iopub.status.idle": "2022-06-12T08:56:11.438329Z",
     "shell.execute_reply": "2022-06-12T08:56:11.438571Z"
    },
    "id": "52c31dea",
    "papermill": {
     "duration": 0.024987,
     "end_time": "2022-06-12T08:56:11.438683",
     "exception": false,
     "start_time": "2022-06-12T08:56:11.413696",
     "status": "completed"
    },
    "tags": []
   },
   "outputs": [
    {
     "name": "stdout",
     "output_type": "stream",
     "text": [
      "Weight of the node at skip connection\n",
      "Parameter containing:\n",
      "tensor([[0.]], requires_grad=True)\n"
     ]
    },
    {
     "data": {
      "application/scrapbook.scrap.json+json": {
       "data": 0.0,
       "encoder": "json",
       "name": "Skip Connection Weight",
       "version": 1
      }
     },
     "metadata": {
      "scrapbook": {
       "data": true,
       "display": false,
       "name": "Skip Connection Weight"
      }
     },
     "output_type": "display_data"
    }
   ],
   "source": [
    "print(\"Weight of the node at skip connection\")\n",
    "for name,param in gen3.named_parameters():\n",
    "    if(name == \"skipNode.weight\"):\n",
    "        print(param)\n",
    "        sb.glue(\"Skip Connection Weight\",param.item())"
   ]
  }
 ],
 "metadata": {
  "colab": {
   "collapsed_sections": [],
   "name": "ABC_GAN_Model-Catboost_Pre-gen.ipynb",
   "provenance": []
  },
  "interpreter": {
   "hash": "31f2aee4e71d21fbe5cf8b01ff0e069b9275f58929596ceb00d14d90e3e16cd6"
  },
  "kernelspec": {
   "display_name": "Python 3 (ipykernel)",
   "language": "python",
   "name": "python3"
  },
  "language_info": {
   "codemirror_mode": {
    "name": "ipython",
    "version": 3
   },
   "file_extension": ".py",
   "mimetype": "text/x-python",
   "name": "python",
   "nbconvert_exporter": "python",
   "pygments_lexer": "ipython3",
   "version": "3.8.11"
  },
  "papermill": {
   "default_parameters": {},
   "duration": 237.004244,
   "end_time": "2022-06-12T08:56:11.766462",
   "environment_variables": {},
   "exception": null,
   "input_path": "ABC_GAN-Catboost.ipynb",
   "output_path": "./ABC_GAN_Catboost/ABC-GAN_output_10_8.ipynb",
   "parameters": {
    "bias": 0.01,
    "variance": 0.01
   },
   "start_time": "2022-06-12T08:52:14.762218",
   "version": "2.3.3"
  }
 },
 "nbformat": 4,
 "nbformat_minor": 5
}