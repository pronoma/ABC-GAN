{
 "cells": [
  {
   "cell_type": "markdown",
   "id": "622780e6",
   "metadata": {
    "id": "622780e6",
    "papermill": {
     "duration": 0.022364,
     "end_time": "2022-06-11T15:53:48.770440",
     "exception": false,
     "start_time": "2022-06-11T15:53:48.748076",
     "status": "completed"
    },
    "tags": []
   },
   "source": [
    "## Import Libraries "
   ]
  },
  {
   "cell_type": "code",
   "execution_count": 1,
   "id": "a62397e3",
   "metadata": {
    "execution": {
     "iopub.execute_input": "2022-06-11T15:53:48.805519Z",
     "iopub.status.busy": "2022-06-11T15:53:48.804965Z",
     "iopub.status.idle": "2022-06-11T15:53:48.807502Z",
     "shell.execute_reply": "2022-06-11T15:53:48.807852Z"
    },
    "id": "a62397e3",
    "papermill": {
     "duration": 0.022687,
     "end_time": "2022-06-11T15:53:48.808092",
     "exception": false,
     "start_time": "2022-06-11T15:53:48.785405",
     "status": "completed"
    },
    "tags": []
   },
   "outputs": [],
   "source": [
    "import warnings\n",
    "import sys\n",
    "sys.path.insert(0, '../../src')\n",
    "warnings.filterwarnings('ignore')"
   ]
  },
  {
   "cell_type": "code",
   "execution_count": 2,
   "id": "d6a4e155",
   "metadata": {
    "execution": {
     "iopub.execute_input": "2022-06-11T15:53:48.829018Z",
     "iopub.status.busy": "2022-06-11T15:53:48.828607Z",
     "iopub.status.idle": "2022-06-11T15:53:50.399020Z",
     "shell.execute_reply": "2022-06-11T15:53:50.399245Z"
    },
    "id": "d6a4e155",
    "papermill": {
     "duration": 1.581716,
     "end_time": "2022-06-11T15:53:50.399369",
     "exception": false,
     "start_time": "2022-06-11T15:53:48.817653",
     "status": "completed"
    },
    "tags": []
   },
   "outputs": [],
   "source": [
    "import ABC_train_test2\n",
    "import bostonDataset\n",
    "import network\n",
    "import dataset\n",
    "import sanityChecks\n",
    "import torch \n",
    "import scrapbook as sb\n",
    "from statistics import mean \n",
    "import catboost as ctb \n",
    "from sklearn.model_selection import train_test_split\n",
    "from sklearn.metrics import mean_squared_error,mean_absolute_error\n",
    "import numpy as np"
   ]
  },
  {
   "cell_type": "markdown",
   "id": "2fa5b0f7",
   "metadata": {
    "id": "2fa5b0f7",
    "papermill": {
     "duration": 0.007139,
     "end_time": "2022-06-11T15:53:50.413637",
     "exception": false,
     "start_time": "2022-06-11T15:53:50.406498",
     "status": "completed"
    },
    "tags": []
   },
   "source": [
    "## Parameters "
   ]
  },
  {
   "cell_type": "code",
   "execution_count": 3,
   "id": "783186fb",
   "metadata": {
    "execution": {
     "iopub.execute_input": "2022-06-11T15:53:50.429652Z",
     "iopub.status.busy": "2022-06-11T15:53:50.429271Z",
     "iopub.status.idle": "2022-06-11T15:53:50.430519Z",
     "shell.execute_reply": "2022-06-11T15:53:50.430772Z"
    },
    "id": "783186fb",
    "papermill": {
     "duration": 0.010381,
     "end_time": "2022-06-11T15:53:50.430885",
     "exception": false,
     "start_time": "2022-06-11T15:53:50.420504",
     "status": "completed"
    },
    "tags": [
     "parameters"
    ]
   },
   "outputs": [],
   "source": [
    "variance = 1\n",
    "bias = 1 "
   ]
  },
  {
   "cell_type": "code",
   "execution_count": 4,
   "id": "147eb1b3",
   "metadata": {
    "execution": {
     "iopub.execute_input": "2022-06-11T15:53:50.446704Z",
     "iopub.status.busy": "2022-06-11T15:53:50.446326Z",
     "iopub.status.idle": "2022-06-11T15:53:50.447497Z",
     "shell.execute_reply": "2022-06-11T15:53:50.447749Z"
    },
    "papermill": {
     "duration": 0.009975,
     "end_time": "2022-06-11T15:53:50.447858",
     "exception": false,
     "start_time": "2022-06-11T15:53:50.437883",
     "status": "completed"
    },
    "tags": [
     "injected-parameters"
    ]
   },
   "outputs": [],
   "source": [
    "# Parameters\n",
    "variance = 0.1\n",
    "bias = 1\n"
   ]
  },
  {
   "cell_type": "markdown",
   "id": "391cdbfd",
   "metadata": {
    "id": "391cdbfd",
    "papermill": {
     "duration": 0.006792,
     "end_time": "2022-06-11T15:53:50.461595",
     "exception": false,
     "start_time": "2022-06-11T15:53:50.454803",
     "status": "completed"
    },
    "tags": []
   },
   "source": [
    "## Dataset \n"
   ]
  },
  {
   "cell_type": "code",
   "execution_count": 5,
   "id": "5b51f161",
   "metadata": {
    "execution": {
     "iopub.execute_input": "2022-06-11T15:53:50.477108Z",
     "iopub.status.busy": "2022-06-11T15:53:50.476739Z",
     "iopub.status.idle": "2022-06-11T15:53:50.478024Z",
     "shell.execute_reply": "2022-06-11T15:53:50.478254Z"
    },
    "id": "5b51f161",
    "papermill": {
     "duration": 0.009944,
     "end_time": "2022-06-11T15:53:50.478358",
     "exception": false,
     "start_time": "2022-06-11T15:53:50.468414",
     "status": "completed"
    },
    "tags": []
   },
   "outputs": [],
   "source": [
    "#Parameters \n",
    "n_features = 13\n",
    "n_samples= 506\n",
    "n_target = 1 "
   ]
  },
  {
   "cell_type": "code",
   "execution_count": 6,
   "id": "5d6eced4",
   "metadata": {
    "execution": {
     "iopub.execute_input": "2022-06-11T15:53:50.493993Z",
     "iopub.status.busy": "2022-06-11T15:53:50.493639Z",
     "iopub.status.idle": "2022-06-11T15:53:50.503692Z",
     "shell.execute_reply": "2022-06-11T15:53:50.503937Z"
    },
    "id": "5d6eced4",
    "papermill": {
     "duration": 0.018811,
     "end_time": "2022-06-11T15:53:50.504043",
     "exception": false,
     "start_time": "2022-06-11T15:53:50.485232",
     "status": "completed"
    },
    "tags": []
   },
   "outputs": [
    {
     "name": "stdout",
     "output_type": "stream",
     "text": [
      "         X1        X2        X3        X4        X5        X6        X7  \\\n",
      "0 -0.419782  0.284830 -1.287909 -0.272599 -0.144217  0.413672 -0.120013   \n",
      "1 -0.417339 -0.487722 -0.593381 -0.272599 -0.740262  0.194274  0.367166   \n",
      "2 -0.417342 -0.487722 -0.593381 -0.272599 -0.740262  1.282714 -0.265812   \n",
      "3 -0.416750 -0.487722 -1.306878 -0.272599 -0.835284  1.016303 -0.809889   \n",
      "4 -0.412482 -0.487722 -1.306878 -0.272599 -0.835284  1.228577 -0.511180   \n",
      "\n",
      "         X8        X9       X10       X11       X12       X13         Y  \n",
      "0  0.140214 -0.982843 -0.666608 -1.459000  0.441052 -1.075562  0.159686  \n",
      "1  0.557160 -0.867883 -0.987329 -0.303094  0.441052 -0.492439 -0.101524  \n",
      "2  0.557160 -0.867883 -0.987329 -0.303094  0.396427 -1.208727  1.324247  \n",
      "3  1.077737 -0.752922 -1.106115  0.113032  0.416163 -1.361517  1.182758  \n",
      "4  1.077737 -0.752922 -1.106115  0.113032  0.441052 -1.026501  1.487503  \n"
     ]
    }
   ],
   "source": [
    "X,Y = bostonDataset.boston_data()"
   ]
  },
  {
   "cell_type": "code",
   "execution_count": 7,
   "id": "fe007438",
   "metadata": {
    "execution": {
     "iopub.execute_input": "2022-06-11T15:53:50.522010Z",
     "iopub.status.busy": "2022-06-11T15:53:50.521626Z",
     "iopub.status.idle": "2022-06-11T15:53:50.523022Z",
     "shell.execute_reply": "2022-06-11T15:53:50.523260Z"
    },
    "id": "fe007438",
    "papermill": {
     "duration": 0.012044,
     "end_time": "2022-06-11T15:53:50.523376",
     "exception": false,
     "start_time": "2022-06-11T15:53:50.511332",
     "status": "completed"
    },
    "tags": []
   },
   "outputs": [],
   "source": [
    "#Train test split for dataset \n",
    "X_train,X_test,Y_train,Y_test = train_test_split(X,Y,test_size = 0.2)\n",
    "train_data = dataset.CustomDataset(X_train,Y_train)\n",
    "test_data = dataset.CustomDataset(X_test,Y_test)\n"
   ]
  },
  {
   "cell_type": "markdown",
   "id": "a9a1af34",
   "metadata": {
    "id": "a9a1af34",
    "papermill": {
     "duration": 0.007112,
     "end_time": "2022-06-11T15:53:50.537786",
     "exception": false,
     "start_time": "2022-06-11T15:53:50.530674",
     "status": "completed"
    },
    "tags": []
   },
   "source": [
    "## Training Parameters "
   ]
  },
  {
   "cell_type": "code",
   "execution_count": 8,
   "id": "952b7fc8",
   "metadata": {
    "execution": {
     "iopub.execute_input": "2022-06-11T15:53:50.554206Z",
     "iopub.status.busy": "2022-06-11T15:53:50.553842Z",
     "iopub.status.idle": "2022-06-11T15:53:50.555169Z",
     "shell.execute_reply": "2022-06-11T15:53:50.555406Z"
    },
    "id": "952b7fc8",
    "papermill": {
     "duration": 0.010678,
     "end_time": "2022-06-11T15:53:50.555511",
     "exception": false,
     "start_time": "2022-06-11T15:53:50.544833",
     "status": "completed"
    },
    "tags": []
   },
   "outputs": [],
   "source": [
    "batch_size = 32\n",
    "n_epochs = 1000\n",
    "#Select the device \n",
    "device = torch.device('cuda' if torch.cuda.is_available() else 'cpu')"
   ]
  },
  {
   "cell_type": "markdown",
   "id": "a95e1600",
   "metadata": {
    "id": "a95e1600",
    "papermill": {
     "duration": 0.00704,
     "end_time": "2022-06-11T15:53:50.569734",
     "exception": false,
     "start_time": "2022-06-11T15:53:50.562694",
     "status": "completed"
    },
    "tags": []
   },
   "source": [
    "# ABC Pre-generator Model \n",
    "\n",
    "1. The catboost model is used as a pre-generator model for the ABC-GAN. \n",
    "2. The model is first trained on the entire dataset \n",
    "3. It generats X,Y pairs and we add some Gaussian noise with mean 0 and variance 1 to it which is then feed as input to the generator.\n"
   ]
  },
  {
   "cell_type": "code",
   "execution_count": 9,
   "id": "ff8ce7bd",
   "metadata": {
    "execution": {
     "iopub.execute_input": "2022-06-11T15:53:50.588590Z",
     "iopub.status.busy": "2022-06-11T15:53:50.588204Z",
     "iopub.status.idle": "2022-06-11T15:53:51.550789Z",
     "shell.execute_reply": "2022-06-11T15:53:51.551040Z"
    },
    "id": "ff8ce7bd",
    "papermill": {
     "duration": 0.974308,
     "end_time": "2022-06-11T15:53:51.551164",
     "exception": false,
     "start_time": "2022-06-11T15:53:50.576856",
     "status": "completed"
    },
    "tags": []
   },
   "outputs": [
    {
     "name": "stdout",
     "output_type": "stream",
     "text": [
      "Learning rate set to 0.033215\n",
      "0:\tlearn: 0.9625035\ttotal: 58.8ms\tremaining: 58.8s\n",
      "1:\tlearn: 0.9427369\ttotal: 59.9ms\tremaining: 29.9s\n",
      "2:\tlearn: 0.9218829\ttotal: 61ms\tremaining: 20.3s\n",
      "3:\tlearn: 0.9079598\ttotal: 62.2ms\tremaining: 15.5s\n",
      "4:\tlearn: 0.8889850\ttotal: 63.3ms\tremaining: 12.6s\n",
      "5:\tlearn: 0.8726123\ttotal: 64.3ms\tremaining: 10.7s\n",
      "6:\tlearn: 0.8565664\ttotal: 65.2ms\tremaining: 9.25s\n",
      "7:\tlearn: 0.8411207\ttotal: 66.2ms\tremaining: 8.2s\n",
      "8:\tlearn: 0.8264307\ttotal: 67.1ms\tremaining: 7.38s\n",
      "9:\tlearn: 0.8112768\ttotal: 68ms\tremaining: 6.73s\n",
      "10:\tlearn: 0.7950576\ttotal: 68.9ms\tremaining: 6.19s\n",
      "11:\tlearn: 0.7805525\ttotal: 69.8ms\tremaining: 5.75s\n",
      "12:\tlearn: 0.7660019\ttotal: 70.6ms\tremaining: 5.36s\n",
      "13:\tlearn: 0.7512970\ttotal: 71.6ms\tremaining: 5.04s\n",
      "14:\tlearn: 0.7398418\ttotal: 72.4ms\tremaining: 4.76s\n",
      "15:\tlearn: 0.7263776\ttotal: 73.4ms\tremaining: 4.51s\n",
      "16:\tlearn: 0.7133609\ttotal: 74.2ms\tremaining: 4.29s\n",
      "17:\tlearn: 0.7021400\ttotal: 75.1ms\tremaining: 4.1s\n",
      "18:\tlearn: 0.6903299\ttotal: 75.9ms\tremaining: 3.92s\n",
      "19:\tlearn: 0.6780209\ttotal: 76.8ms\tremaining: 3.76s\n",
      "20:\tlearn: 0.6645811\ttotal: 77.6ms\tremaining: 3.62s\n",
      "21:\tlearn: 0.6542763\ttotal: 78.2ms\tremaining: 3.48s\n",
      "22:\tlearn: 0.6425024\ttotal: 79ms\tremaining: 3.36s\n",
      "23:\tlearn: 0.6333045\ttotal: 79.9ms\tremaining: 3.25s\n",
      "24:\tlearn: 0.6239698\ttotal: 80.7ms\tremaining: 3.15s\n",
      "25:\tlearn: 0.6152581\ttotal: 81.5ms\tremaining: 3.05s\n",
      "26:\tlearn: 0.6069911\ttotal: 82.3ms\tremaining: 2.96s\n",
      "27:\tlearn: 0.5976929\ttotal: 83ms\tremaining: 2.88s\n",
      "28:\tlearn: 0.5878941\ttotal: 83.7ms\tremaining: 2.8s\n",
      "29:\tlearn: 0.5778379\ttotal: 84.6ms\tremaining: 2.73s\n",
      "30:\tlearn: 0.5689308\ttotal: 85.4ms\tremaining: 2.67s\n",
      "31:\tlearn: 0.5609758\ttotal: 86.2ms\tremaining: 2.61s\n",
      "32:\tlearn: 0.5542007\ttotal: 86.9ms\tremaining: 2.55s\n",
      "33:\tlearn: 0.5464820\ttotal: 87.7ms\tremaining: 2.49s\n",
      "34:\tlearn: 0.5391500\ttotal: 88.5ms\tremaining: 2.44s\n",
      "35:\tlearn: 0.5320437\ttotal: 89.4ms\tremaining: 2.39s\n",
      "36:\tlearn: 0.5260637\ttotal: 90.2ms\tremaining: 2.35s\n",
      "37:\tlearn: 0.5185983\ttotal: 90.9ms\tremaining: 2.3s\n",
      "38:\tlearn: 0.5117473\ttotal: 91.8ms\tremaining: 2.26s\n",
      "39:\tlearn: 0.5050275\ttotal: 92.5ms\tremaining: 2.22s\n",
      "40:\tlearn: 0.4989229\ttotal: 93.3ms\tremaining: 2.18s\n",
      "41:\tlearn: 0.4924701\ttotal: 94.1ms\tremaining: 2.15s\n",
      "42:\tlearn: 0.4865949\ttotal: 94.8ms\tremaining: 2.11s\n",
      "43:\tlearn: 0.4814498\ttotal: 95.6ms\tremaining: 2.08s\n",
      "44:\tlearn: 0.4760666\ttotal: 96.2ms\tremaining: 2.04s\n",
      "45:\tlearn: 0.4705851\ttotal: 97.1ms\tremaining: 2.01s\n",
      "46:\tlearn: 0.4645496\ttotal: 97.9ms\tremaining: 1.99s\n",
      "47:\tlearn: 0.4589005\ttotal: 98.7ms\tremaining: 1.96s\n",
      "48:\tlearn: 0.4535539\ttotal: 99.4ms\tremaining: 1.93s\n",
      "49:\tlearn: 0.4491369\ttotal: 100ms\tremaining: 1.9s\n",
      "50:\tlearn: 0.4437647\ttotal: 101ms\tremaining: 1.88s\n",
      "51:\tlearn: 0.4394385\ttotal: 102ms\tremaining: 1.85s\n",
      "52:\tlearn: 0.4350326\ttotal: 102ms\tremaining: 1.83s\n",
      "53:\tlearn: 0.4312324\ttotal: 103ms\tremaining: 1.8s\n",
      "54:\tlearn: 0.4261737\ttotal: 104ms\tremaining: 1.78s\n",
      "55:\tlearn: 0.4225316\ttotal: 104ms\tremaining: 1.76s\n",
      "56:\tlearn: 0.4178870\ttotal: 105ms\tremaining: 1.74s\n",
      "57:\tlearn: 0.4137343\ttotal: 106ms\tremaining: 1.72s\n",
      "58:\tlearn: 0.4102160\ttotal: 107ms\tremaining: 1.7s\n",
      "59:\tlearn: 0.4061589\ttotal: 108ms\tremaining: 1.68s\n"
     ]
    },
    {
     "name": "stdout",
     "output_type": "stream",
     "text": [
      "60:\tlearn: 0.4023896\ttotal: 109ms\tremaining: 1.67s\n",
      "61:\tlearn: 0.3989373\ttotal: 109ms\tremaining: 1.66s\n",
      "62:\tlearn: 0.3957751\ttotal: 110ms\tremaining: 1.64s\n",
      "63:\tlearn: 0.3926667\ttotal: 111ms\tremaining: 1.62s\n",
      "64:\tlearn: 0.3896492\ttotal: 112ms\tremaining: 1.61s\n",
      "65:\tlearn: 0.3856188\ttotal: 113ms\tremaining: 1.59s\n",
      "66:\tlearn: 0.3818029\ttotal: 114ms\tremaining: 1.58s\n",
      "67:\tlearn: 0.3792105\ttotal: 114ms\tremaining: 1.57s\n",
      "68:\tlearn: 0.3765119\ttotal: 115ms\tremaining: 1.55s\n",
      "69:\tlearn: 0.3735245\ttotal: 116ms\tremaining: 1.54s\n",
      "70:\tlearn: 0.3706194\ttotal: 117ms\tremaining: 1.53s\n",
      "71:\tlearn: 0.3676801\ttotal: 118ms\tremaining: 1.52s\n",
      "72:\tlearn: 0.3654359\ttotal: 118ms\tremaining: 1.5s\n",
      "73:\tlearn: 0.3629902\ttotal: 119ms\tremaining: 1.49s\n",
      "74:\tlearn: 0.3600908\ttotal: 120ms\tremaining: 1.48s\n",
      "75:\tlearn: 0.3578003\ttotal: 121ms\tremaining: 1.47s\n",
      "76:\tlearn: 0.3551332\ttotal: 122ms\tremaining: 1.46s\n",
      "77:\tlearn: 0.3524018\ttotal: 123ms\tremaining: 1.45s\n",
      "78:\tlearn: 0.3492704\ttotal: 124ms\tremaining: 1.44s\n",
      "79:\tlearn: 0.3470662\ttotal: 124ms\tremaining: 1.43s\n",
      "80:\tlearn: 0.3446759\ttotal: 125ms\tremaining: 1.42s\n",
      "81:\tlearn: 0.3415707\ttotal: 126ms\tremaining: 1.41s\n",
      "82:\tlearn: 0.3400320\ttotal: 127ms\tremaining: 1.4s\n",
      "83:\tlearn: 0.3378141\ttotal: 128ms\tremaining: 1.39s\n",
      "84:\tlearn: 0.3357627\ttotal: 129ms\tremaining: 1.39s\n",
      "85:\tlearn: 0.3326614\ttotal: 130ms\tremaining: 1.38s\n",
      "86:\tlearn: 0.3306697\ttotal: 131ms\tremaining: 1.37s\n",
      "87:\tlearn: 0.3286067\ttotal: 132ms\tremaining: 1.36s\n",
      "88:\tlearn: 0.3259715\ttotal: 133ms\tremaining: 1.36s\n",
      "89:\tlearn: 0.3240592\ttotal: 133ms\tremaining: 1.35s\n",
      "90:\tlearn: 0.3225290\ttotal: 134ms\tremaining: 1.34s\n",
      "91:\tlearn: 0.3208735\ttotal: 135ms\tremaining: 1.33s\n",
      "92:\tlearn: 0.3191680\ttotal: 136ms\tremaining: 1.32s\n",
      "93:\tlearn: 0.3170216\ttotal: 137ms\tremaining: 1.32s\n",
      "94:\tlearn: 0.3152065\ttotal: 137ms\tremaining: 1.31s\n",
      "95:\tlearn: 0.3148104\ttotal: 138ms\tremaining: 1.3s\n",
      "96:\tlearn: 0.3133260\ttotal: 139ms\tremaining: 1.29s\n",
      "97:\tlearn: 0.3119393\ttotal: 140ms\tremaining: 1.29s\n",
      "98:\tlearn: 0.3108213\ttotal: 140ms\tremaining: 1.28s\n",
      "99:\tlearn: 0.3093145\ttotal: 141ms\tremaining: 1.27s\n",
      "100:\tlearn: 0.3080224\ttotal: 142ms\tremaining: 1.26s\n",
      "101:\tlearn: 0.3066350\ttotal: 143ms\tremaining: 1.26s\n",
      "102:\tlearn: 0.3053047\ttotal: 144ms\tremaining: 1.25s\n",
      "103:\tlearn: 0.3041216\ttotal: 145ms\tremaining: 1.25s\n",
      "104:\tlearn: 0.3027600\ttotal: 145ms\tremaining: 1.24s\n",
      "105:\tlearn: 0.3011408\ttotal: 146ms\tremaining: 1.23s\n",
      "106:\tlearn: 0.2999947\ttotal: 147ms\tremaining: 1.23s\n",
      "107:\tlearn: 0.2985118\ttotal: 148ms\tremaining: 1.22s\n",
      "108:\tlearn: 0.2971072\ttotal: 149ms\tremaining: 1.22s\n",
      "109:\tlearn: 0.2953874\ttotal: 150ms\tremaining: 1.21s\n",
      "110:\tlearn: 0.2943465\ttotal: 150ms\tremaining: 1.21s\n",
      "111:\tlearn: 0.2925450\ttotal: 151ms\tremaining: 1.2s\n",
      "112:\tlearn: 0.2913767\ttotal: 152ms\tremaining: 1.19s\n",
      "113:\tlearn: 0.2901938\ttotal: 153ms\tremaining: 1.19s\n",
      "114:\tlearn: 0.2888640\ttotal: 154ms\tremaining: 1.18s\n",
      "115:\tlearn: 0.2871883\ttotal: 155ms\tremaining: 1.18s\n",
      "116:\tlearn: 0.2857346\ttotal: 155ms\tremaining: 1.17s\n",
      "117:\tlearn: 0.2849204\ttotal: 156ms\tremaining: 1.17s\n",
      "118:\tlearn: 0.2840657\ttotal: 157ms\tremaining: 1.16s\n",
      "119:\tlearn: 0.2830656\ttotal: 158ms\tremaining: 1.16s\n",
      "120:\tlearn: 0.2821892\ttotal: 159ms\tremaining: 1.15s\n",
      "121:\tlearn: 0.2808931\ttotal: 159ms\tremaining: 1.15s\n",
      "122:\tlearn: 0.2799390\ttotal: 160ms\tremaining: 1.14s\n",
      "123:\tlearn: 0.2792705\ttotal: 161ms\tremaining: 1.14s\n",
      "124:\tlearn: 0.2782649\ttotal: 162ms\tremaining: 1.13s\n",
      "125:\tlearn: 0.2767640\ttotal: 163ms\tremaining: 1.13s\n",
      "126:\tlearn: 0.2759517\ttotal: 163ms\tremaining: 1.12s\n",
      "127:\tlearn: 0.2744333\ttotal: 164ms\tremaining: 1.12s\n",
      "128:\tlearn: 0.2734457\ttotal: 165ms\tremaining: 1.11s\n",
      "129:\tlearn: 0.2725160\ttotal: 166ms\tremaining: 1.11s\n",
      "130:\tlearn: 0.2718861\ttotal: 166ms\tremaining: 1.1s\n",
      "131:\tlearn: 0.2713212\ttotal: 167ms\tremaining: 1.1s\n",
      "132:\tlearn: 0.2704062\ttotal: 168ms\tremaining: 1.1s\n",
      "133:\tlearn: 0.2696216\ttotal: 169ms\tremaining: 1.09s\n",
      "134:\tlearn: 0.2689776\ttotal: 170ms\tremaining: 1.09s\n",
      "135:\tlearn: 0.2681609\ttotal: 171ms\tremaining: 1.08s\n",
      "136:\tlearn: 0.2675284\ttotal: 171ms\tremaining: 1.08s\n",
      "137:\tlearn: 0.2668928\ttotal: 172ms\tremaining: 1.07s\n",
      "138:\tlearn: 0.2662842\ttotal: 173ms\tremaining: 1.07s\n",
      "139:\tlearn: 0.2655112\ttotal: 174ms\tremaining: 1.07s\n",
      "140:\tlearn: 0.2647457\ttotal: 175ms\tremaining: 1.06s\n",
      "141:\tlearn: 0.2639691\ttotal: 175ms\tremaining: 1.06s\n",
      "142:\tlearn: 0.2630063\ttotal: 176ms\tremaining: 1.06s\n",
      "143:\tlearn: 0.2621256\ttotal: 177ms\tremaining: 1.05s\n",
      "144:\tlearn: 0.2613886\ttotal: 178ms\tremaining: 1.05s\n",
      "145:\tlearn: 0.2606034\ttotal: 179ms\tremaining: 1.04s\n",
      "146:\tlearn: 0.2596857\ttotal: 180ms\tremaining: 1.04s\n",
      "147:\tlearn: 0.2586980\ttotal: 180ms\tremaining: 1.04s\n",
      "148:\tlearn: 0.2579981\ttotal: 181ms\tremaining: 1.03s\n",
      "149:\tlearn: 0.2570178\ttotal: 182ms\tremaining: 1.03s\n",
      "150:\tlearn: 0.2561169\ttotal: 183ms\tremaining: 1.03s\n",
      "151:\tlearn: 0.2551205\ttotal: 184ms\tremaining: 1.02s\n",
      "152:\tlearn: 0.2546120\ttotal: 185ms\tremaining: 1.02s\n",
      "153:\tlearn: 0.2542938\ttotal: 186ms\tremaining: 1.02s\n",
      "154:\tlearn: 0.2537978\ttotal: 186ms\tremaining: 1.02s\n",
      "155:\tlearn: 0.2532672\ttotal: 187ms\tremaining: 1.01s\n",
      "156:\tlearn: 0.2523662\ttotal: 188ms\tremaining: 1.01s\n",
      "157:\tlearn: 0.2515020\ttotal: 189ms\tremaining: 1.01s\n",
      "158:\tlearn: 0.2505321\ttotal: 190ms\tremaining: 1s\n",
      "159:\tlearn: 0.2497349\ttotal: 191ms\tremaining: 1s\n"
     ]
    },
    {
     "name": "stdout",
     "output_type": "stream",
     "text": [
      "160:\tlearn: 0.2490217\ttotal: 192ms\tremaining: 998ms\n",
      "161:\tlearn: 0.2486083\ttotal: 192ms\tremaining: 996ms\n",
      "162:\tlearn: 0.2481484\ttotal: 193ms\tremaining: 992ms\n",
      "163:\tlearn: 0.2476213\ttotal: 194ms\tremaining: 989ms\n",
      "164:\tlearn: 0.2471027\ttotal: 195ms\tremaining: 986ms\n",
      "165:\tlearn: 0.2462048\ttotal: 196ms\tremaining: 984ms\n",
      "166:\tlearn: 0.2457573\ttotal: 197ms\tremaining: 981ms\n",
      "167:\tlearn: 0.2449859\ttotal: 198ms\tremaining: 978ms\n",
      "168:\tlearn: 0.2441062\ttotal: 199ms\tremaining: 976ms\n",
      "169:\tlearn: 0.2436039\ttotal: 199ms\tremaining: 973ms\n",
      "170:\tlearn: 0.2431946\ttotal: 200ms\tremaining: 971ms\n",
      "171:\tlearn: 0.2422189\ttotal: 201ms\tremaining: 968ms\n",
      "172:\tlearn: 0.2415060\ttotal: 202ms\tremaining: 965ms\n",
      "173:\tlearn: 0.2411170\ttotal: 203ms\tremaining: 962ms\n",
      "174:\tlearn: 0.2405036\ttotal: 203ms\tremaining: 959ms\n",
      "175:\tlearn: 0.2399352\ttotal: 204ms\tremaining: 955ms\n",
      "176:\tlearn: 0.2392924\ttotal: 205ms\tremaining: 952ms\n",
      "177:\tlearn: 0.2386327\ttotal: 206ms\tremaining: 949ms\n",
      "178:\tlearn: 0.2378401\ttotal: 206ms\tremaining: 946ms\n",
      "179:\tlearn: 0.2370919\ttotal: 207ms\tremaining: 944ms\n",
      "180:\tlearn: 0.2367557\ttotal: 208ms\tremaining: 941ms\n",
      "181:\tlearn: 0.2360825\ttotal: 209ms\tremaining: 939ms\n",
      "182:\tlearn: 0.2354399\ttotal: 210ms\tremaining: 936ms\n",
      "183:\tlearn: 0.2346992\ttotal: 210ms\tremaining: 933ms\n",
      "184:\tlearn: 0.2339573\ttotal: 211ms\tremaining: 930ms\n",
      "185:\tlearn: 0.2335346\ttotal: 212ms\tremaining: 927ms\n",
      "186:\tlearn: 0.2325052\ttotal: 213ms\tremaining: 925ms\n",
      "187:\tlearn: 0.2320868\ttotal: 214ms\tremaining: 923ms\n",
      "188:\tlearn: 0.2314688\ttotal: 215ms\tremaining: 921ms\n",
      "189:\tlearn: 0.2308987\ttotal: 215ms\tremaining: 918ms\n",
      "190:\tlearn: 0.2301995\ttotal: 216ms\tremaining: 916ms\n",
      "191:\tlearn: 0.2298116\ttotal: 217ms\tremaining: 914ms\n",
      "192:\tlearn: 0.2294099\ttotal: 218ms\tremaining: 911ms\n",
      "193:\tlearn: 0.2289671\ttotal: 219ms\tremaining: 909ms\n",
      "194:\tlearn: 0.2285835\ttotal: 220ms\tremaining: 907ms\n",
      "195:\tlearn: 0.2282718\ttotal: 220ms\tremaining: 904ms\n",
      "196:\tlearn: 0.2278736\ttotal: 221ms\tremaining: 902ms\n",
      "197:\tlearn: 0.2275013\ttotal: 222ms\tremaining: 900ms\n",
      "198:\tlearn: 0.2268095\ttotal: 223ms\tremaining: 898ms\n",
      "199:\tlearn: 0.2261289\ttotal: 224ms\tremaining: 896ms\n",
      "200:\tlearn: 0.2253455\ttotal: 225ms\tremaining: 894ms\n",
      "201:\tlearn: 0.2249114\ttotal: 226ms\tremaining: 892ms\n",
      "202:\tlearn: 0.2246911\ttotal: 227ms\tremaining: 889ms\n",
      "203:\tlearn: 0.2242549\ttotal: 227ms\tremaining: 887ms\n",
      "204:\tlearn: 0.2233960\ttotal: 228ms\tremaining: 885ms\n",
      "205:\tlearn: 0.2230807\ttotal: 229ms\tremaining: 882ms\n",
      "206:\tlearn: 0.2226833\ttotal: 230ms\tremaining: 880ms\n",
      "207:\tlearn: 0.2225011\ttotal: 231ms\tremaining: 878ms\n",
      "208:\tlearn: 0.2222927\ttotal: 231ms\tremaining: 876ms\n",
      "209:\tlearn: 0.2218217\ttotal: 232ms\tremaining: 874ms\n",
      "210:\tlearn: 0.2212871\ttotal: 233ms\tremaining: 871ms\n",
      "211:\tlearn: 0.2211651\ttotal: 234ms\tremaining: 869ms\n",
      "212:\tlearn: 0.2206038\ttotal: 235ms\tremaining: 867ms\n",
      "213:\tlearn: 0.2196134\ttotal: 236ms\tremaining: 865ms\n",
      "214:\tlearn: 0.2194711\ttotal: 236ms\tremaining: 863ms\n",
      "215:\tlearn: 0.2190706\ttotal: 237ms\tremaining: 861ms\n",
      "216:\tlearn: 0.2187369\ttotal: 238ms\tremaining: 859ms\n",
      "217:\tlearn: 0.2182866\ttotal: 239ms\tremaining: 857ms\n",
      "218:\tlearn: 0.2181553\ttotal: 240ms\tremaining: 855ms\n",
      "219:\tlearn: 0.2177962\ttotal: 241ms\tremaining: 853ms\n",
      "220:\tlearn: 0.2176956\ttotal: 241ms\tremaining: 849ms\n",
      "221:\tlearn: 0.2168580\ttotal: 242ms\tremaining: 847ms\n",
      "222:\tlearn: 0.2166434\ttotal: 243ms\tremaining: 847ms\n",
      "223:\tlearn: 0.2163750\ttotal: 244ms\tremaining: 845ms\n",
      "224:\tlearn: 0.2159049\ttotal: 245ms\tremaining: 843ms\n",
      "225:\tlearn: 0.2158010\ttotal: 246ms\tremaining: 842ms\n",
      "226:\tlearn: 0.2156950\ttotal: 246ms\tremaining: 839ms\n",
      "227:\tlearn: 0.2155379\ttotal: 247ms\tremaining: 837ms\n",
      "228:\tlearn: 0.2145645\ttotal: 248ms\tremaining: 835ms\n",
      "229:\tlearn: 0.2143953\ttotal: 249ms\tremaining: 833ms\n",
      "230:\tlearn: 0.2140588\ttotal: 250ms\tremaining: 831ms\n",
      "231:\tlearn: 0.2133825\ttotal: 250ms\tremaining: 829ms\n",
      "232:\tlearn: 0.2132629\ttotal: 251ms\tremaining: 827ms\n",
      "233:\tlearn: 0.2124748\ttotal: 252ms\tremaining: 825ms\n",
      "234:\tlearn: 0.2118270\ttotal: 253ms\tremaining: 823ms\n",
      "235:\tlearn: 0.2116483\ttotal: 254ms\tremaining: 821ms\n",
      "236:\tlearn: 0.2113477\ttotal: 254ms\tremaining: 819ms\n",
      "237:\tlearn: 0.2109258\ttotal: 255ms\tremaining: 817ms\n",
      "238:\tlearn: 0.2104985\ttotal: 256ms\tremaining: 815ms\n",
      "239:\tlearn: 0.2098774\ttotal: 257ms\tremaining: 815ms\n",
      "240:\tlearn: 0.2091757\ttotal: 258ms\tremaining: 813ms\n",
      "241:\tlearn: 0.2090164\ttotal: 259ms\tremaining: 811ms\n",
      "242:\tlearn: 0.2087611\ttotal: 260ms\tremaining: 809ms\n",
      "243:\tlearn: 0.2085282\ttotal: 261ms\tremaining: 807ms\n",
      "244:\tlearn: 0.2081231\ttotal: 261ms\tremaining: 805ms\n",
      "245:\tlearn: 0.2080300\ttotal: 262ms\tremaining: 804ms\n",
      "246:\tlearn: 0.2078138\ttotal: 263ms\tremaining: 802ms\n",
      "247:\tlearn: 0.2075685\ttotal: 264ms\tremaining: 800ms\n",
      "248:\tlearn: 0.2068593\ttotal: 265ms\tremaining: 798ms\n",
      "249:\tlearn: 0.2062241\ttotal: 266ms\tremaining: 797ms\n",
      "250:\tlearn: 0.2060097\ttotal: 266ms\tremaining: 795ms\n",
      "251:\tlearn: 0.2059251\ttotal: 267ms\tremaining: 793ms\n",
      "252:\tlearn: 0.2051909\ttotal: 268ms\tremaining: 791ms\n",
      "253:\tlearn: 0.2050732\ttotal: 269ms\tremaining: 789ms\n",
      "254:\tlearn: 0.2049977\ttotal: 269ms\tremaining: 787ms\n",
      "255:\tlearn: 0.2048542\ttotal: 270ms\tremaining: 785ms\n",
      "256:\tlearn: 0.2046936\ttotal: 271ms\tremaining: 784ms\n",
      "257:\tlearn: 0.2038219\ttotal: 272ms\tremaining: 783ms\n",
      "258:\tlearn: 0.2037443\ttotal: 273ms\tremaining: 781ms\n",
      "259:\tlearn: 0.2033151\ttotal: 274ms\tremaining: 779ms\n",
      "260:\tlearn: 0.2032421\ttotal: 275ms\tremaining: 777ms\n",
      "261:\tlearn: 0.2025250\ttotal: 275ms\tremaining: 776ms\n",
      "262:\tlearn: 0.2023933\ttotal: 276ms\tremaining: 774ms\n",
      "263:\tlearn: 0.2022869\ttotal: 277ms\tremaining: 772ms\n",
      "264:\tlearn: 0.2021643\ttotal: 278ms\tremaining: 770ms\n",
      "265:\tlearn: 0.2020956\ttotal: 279ms\tremaining: 769ms\n",
      "266:\tlearn: 0.2014364\ttotal: 280ms\tremaining: 768ms\n",
      "267:\tlearn: 0.2007960\ttotal: 281ms\tremaining: 766ms\n",
      "268:\tlearn: 0.2007169\ttotal: 281ms\tremaining: 764ms\n",
      "269:\tlearn: 0.2006027\ttotal: 282ms\tremaining: 763ms\n",
      "270:\tlearn: 0.2000192\ttotal: 283ms\tremaining: 761ms\n",
      "271:\tlearn: 0.1999521\ttotal: 284ms\tremaining: 760ms\n",
      "272:\tlearn: 0.1998849\ttotal: 285ms\tremaining: 758ms\n",
      "273:\tlearn: 0.1998197\ttotal: 285ms\tremaining: 756ms\n",
      "274:\tlearn: 0.1997466\ttotal: 286ms\tremaining: 754ms\n",
      "275:\tlearn: 0.1990104\ttotal: 287ms\tremaining: 753ms\n",
      "276:\tlearn: 0.1985218\ttotal: 288ms\tremaining: 751ms\n",
      "277:\tlearn: 0.1977936\ttotal: 289ms\tremaining: 749ms\n",
      "278:\tlearn: 0.1977250\ttotal: 289ms\tremaining: 748ms\n",
      "279:\tlearn: 0.1972239\ttotal: 290ms\tremaining: 746ms\n",
      "280:\tlearn: 0.1965614\ttotal: 291ms\tremaining: 745ms\n",
      "281:\tlearn: 0.1964662\ttotal: 292ms\tremaining: 743ms\n",
      "282:\tlearn: 0.1958580\ttotal: 293ms\tremaining: 742ms\n",
      "283:\tlearn: 0.1952569\ttotal: 294ms\tremaining: 740ms\n",
      "284:\tlearn: 0.1951553\ttotal: 294ms\tremaining: 738ms\n",
      "285:\tlearn: 0.1950299\ttotal: 295ms\tremaining: 737ms\n",
      "286:\tlearn: 0.1942813\ttotal: 296ms\tremaining: 736ms\n",
      "287:\tlearn: 0.1936241\ttotal: 297ms\tremaining: 734ms\n",
      "288:\tlearn: 0.1935277\ttotal: 298ms\tremaining: 732ms\n"
     ]
    },
    {
     "name": "stdout",
     "output_type": "stream",
     "text": [
      "289:\tlearn: 0.1931666\ttotal: 299ms\tremaining: 731ms\n",
      "290:\tlearn: 0.1927162\ttotal: 299ms\tremaining: 730ms\n",
      "291:\tlearn: 0.1920584\ttotal: 300ms\tremaining: 728ms\n",
      "292:\tlearn: 0.1919669\ttotal: 301ms\tremaining: 726ms\n",
      "293:\tlearn: 0.1918774\ttotal: 302ms\tremaining: 725ms\n",
      "294:\tlearn: 0.1917869\ttotal: 303ms\tremaining: 724ms\n",
      "295:\tlearn: 0.1911666\ttotal: 304ms\tremaining: 722ms\n",
      "296:\tlearn: 0.1906676\ttotal: 305ms\tremaining: 721ms\n",
      "297:\tlearn: 0.1903231\ttotal: 306ms\tremaining: 720ms\n",
      "298:\tlearn: 0.1899520\ttotal: 306ms\tremaining: 718ms\n",
      "299:\tlearn: 0.1898372\ttotal: 307ms\tremaining: 717ms\n",
      "300:\tlearn: 0.1891071\ttotal: 308ms\tremaining: 715ms\n",
      "301:\tlearn: 0.1890596\ttotal: 309ms\tremaining: 714ms\n",
      "302:\tlearn: 0.1889847\ttotal: 310ms\tremaining: 712ms\n",
      "303:\tlearn: 0.1885123\ttotal: 310ms\tremaining: 711ms\n",
      "304:\tlearn: 0.1877539\ttotal: 311ms\tremaining: 709ms\n",
      "305:\tlearn: 0.1871434\ttotal: 312ms\tremaining: 707ms\n",
      "306:\tlearn: 0.1870916\ttotal: 313ms\tremaining: 706ms\n",
      "307:\tlearn: 0.1869821\ttotal: 313ms\tremaining: 704ms\n",
      "308:\tlearn: 0.1864669\ttotal: 314ms\tremaining: 703ms\n",
      "309:\tlearn: 0.1859888\ttotal: 316ms\tremaining: 703ms\n",
      "310:\tlearn: 0.1859170\ttotal: 317ms\tremaining: 702ms\n",
      "311:\tlearn: 0.1855193\ttotal: 317ms\tremaining: 700ms\n",
      "312:\tlearn: 0.1850664\ttotal: 319ms\tremaining: 700ms\n",
      "313:\tlearn: 0.1845085\ttotal: 320ms\tremaining: 698ms\n",
      "314:\tlearn: 0.1840832\ttotal: 321ms\tremaining: 697ms\n",
      "315:\tlearn: 0.1835556\ttotal: 321ms\tremaining: 696ms\n",
      "316:\tlearn: 0.1832226\ttotal: 322ms\tremaining: 695ms\n",
      "317:\tlearn: 0.1828649\ttotal: 323ms\tremaining: 693ms\n",
      "318:\tlearn: 0.1822489\ttotal: 324ms\tremaining: 692ms\n",
      "319:\tlearn: 0.1819127\ttotal: 325ms\tremaining: 690ms\n",
      "320:\tlearn: 0.1815681\ttotal: 326ms\tremaining: 689ms\n",
      "321:\tlearn: 0.1811151\ttotal: 326ms\tremaining: 687ms\n",
      "322:\tlearn: 0.1806922\ttotal: 327ms\tremaining: 686ms\n",
      "323:\tlearn: 0.1806437\ttotal: 328ms\tremaining: 685ms\n",
      "324:\tlearn: 0.1801348\ttotal: 329ms\tremaining: 684ms\n",
      "325:\tlearn: 0.1796669\ttotal: 330ms\tremaining: 682ms\n",
      "326:\tlearn: 0.1792222\ttotal: 331ms\tremaining: 681ms\n",
      "327:\tlearn: 0.1786771\ttotal: 332ms\tremaining: 680ms\n",
      "328:\tlearn: 0.1784743\ttotal: 333ms\tremaining: 678ms\n",
      "329:\tlearn: 0.1782315\ttotal: 333ms\tremaining: 677ms\n",
      "330:\tlearn: 0.1778920\ttotal: 334ms\tremaining: 675ms\n",
      "331:\tlearn: 0.1778044\ttotal: 335ms\tremaining: 674ms\n",
      "332:\tlearn: 0.1774621\ttotal: 336ms\tremaining: 673ms\n",
      "333:\tlearn: 0.1770212\ttotal: 337ms\tremaining: 671ms\n",
      "334:\tlearn: 0.1765502\ttotal: 337ms\tremaining: 670ms\n",
      "335:\tlearn: 0.1759949\ttotal: 338ms\tremaining: 668ms\n",
      "336:\tlearn: 0.1759621\ttotal: 339ms\tremaining: 667ms\n",
      "337:\tlearn: 0.1754038\ttotal: 340ms\tremaining: 665ms\n",
      "338:\tlearn: 0.1752042\ttotal: 341ms\tremaining: 664ms\n",
      "339:\tlearn: 0.1748167\ttotal: 341ms\tremaining: 663ms\n",
      "340:\tlearn: 0.1742869\ttotal: 342ms\tremaining: 661ms\n",
      "341:\tlearn: 0.1737361\ttotal: 343ms\tremaining: 660ms\n",
      "342:\tlearn: 0.1732071\ttotal: 344ms\tremaining: 659ms\n",
      "343:\tlearn: 0.1729606\ttotal: 345ms\tremaining: 658ms\n",
      "344:\tlearn: 0.1724550\ttotal: 346ms\tremaining: 656ms\n",
      "345:\tlearn: 0.1718209\ttotal: 346ms\tremaining: 655ms\n",
      "346:\tlearn: 0.1713302\ttotal: 347ms\tremaining: 653ms\n",
      "347:\tlearn: 0.1710857\ttotal: 348ms\tremaining: 652ms\n",
      "348:\tlearn: 0.1706045\ttotal: 349ms\tremaining: 651ms\n",
      "349:\tlearn: 0.1702738\ttotal: 350ms\tremaining: 649ms\n",
      "350:\tlearn: 0.1698839\ttotal: 351ms\tremaining: 648ms\n",
      "351:\tlearn: 0.1698180\ttotal: 351ms\tremaining: 647ms\n",
      "352:\tlearn: 0.1693388\ttotal: 352ms\tremaining: 646ms\n",
      "353:\tlearn: 0.1688492\ttotal: 353ms\tremaining: 644ms\n",
      "354:\tlearn: 0.1684770\ttotal: 354ms\tremaining: 643ms\n",
      "355:\tlearn: 0.1682121\ttotal: 355ms\tremaining: 642ms\n",
      "356:\tlearn: 0.1677821\ttotal: 355ms\tremaining: 640ms\n",
      "357:\tlearn: 0.1672525\ttotal: 356ms\tremaining: 639ms\n",
      "358:\tlearn: 0.1670327\ttotal: 357ms\tremaining: 638ms\n",
      "359:\tlearn: 0.1666285\ttotal: 358ms\tremaining: 636ms\n",
      "360:\tlearn: 0.1662876\ttotal: 359ms\tremaining: 635ms\n",
      "361:\tlearn: 0.1659474\ttotal: 360ms\tremaining: 634ms\n",
      "362:\tlearn: 0.1653850\ttotal: 361ms\tremaining: 633ms\n",
      "363:\tlearn: 0.1649054\ttotal: 362ms\tremaining: 632ms\n",
      "364:\tlearn: 0.1644462\ttotal: 362ms\tremaining: 630ms\n",
      "365:\tlearn: 0.1641148\ttotal: 363ms\tremaining: 629ms\n",
      "366:\tlearn: 0.1637253\ttotal: 364ms\tremaining: 628ms\n",
      "367:\tlearn: 0.1636784\ttotal: 365ms\tremaining: 627ms\n",
      "368:\tlearn: 0.1633369\ttotal: 366ms\tremaining: 626ms\n",
      "369:\tlearn: 0.1631224\ttotal: 367ms\tremaining: 624ms\n",
      "370:\tlearn: 0.1626692\ttotal: 367ms\tremaining: 623ms\n",
      "371:\tlearn: 0.1624815\ttotal: 368ms\tremaining: 622ms\n",
      "372:\tlearn: 0.1621551\ttotal: 369ms\tremaining: 620ms\n",
      "373:\tlearn: 0.1617469\ttotal: 370ms\tremaining: 619ms\n",
      "374:\tlearn: 0.1615028\ttotal: 371ms\tremaining: 618ms\n",
      "375:\tlearn: 0.1610031\ttotal: 371ms\tremaining: 616ms\n",
      "376:\tlearn: 0.1604122\ttotal: 372ms\tremaining: 615ms\n",
      "377:\tlearn: 0.1599354\ttotal: 373ms\tremaining: 614ms\n",
      "378:\tlearn: 0.1595154\ttotal: 374ms\tremaining: 612ms\n",
      "379:\tlearn: 0.1591330\ttotal: 375ms\tremaining: 611ms\n",
      "380:\tlearn: 0.1587426\ttotal: 376ms\tremaining: 610ms\n",
      "381:\tlearn: 0.1583498\ttotal: 376ms\tremaining: 609ms\n",
      "382:\tlearn: 0.1580162\ttotal: 377ms\tremaining: 608ms\n",
      "383:\tlearn: 0.1575081\ttotal: 378ms\tremaining: 607ms\n",
      "384:\tlearn: 0.1570760\ttotal: 379ms\tremaining: 605ms\n",
      "385:\tlearn: 0.1566256\ttotal: 380ms\tremaining: 604ms\n",
      "386:\tlearn: 0.1563641\ttotal: 380ms\tremaining: 603ms\n"
     ]
    },
    {
     "name": "stdout",
     "output_type": "stream",
     "text": [
      "387:\tlearn: 0.1559373\ttotal: 381ms\tremaining: 602ms\n",
      "388:\tlearn: 0.1555447\ttotal: 382ms\tremaining: 601ms\n",
      "389:\tlearn: 0.1551077\ttotal: 383ms\tremaining: 599ms\n",
      "390:\tlearn: 0.1548004\ttotal: 384ms\tremaining: 598ms\n",
      "391:\tlearn: 0.1544449\ttotal: 385ms\tremaining: 597ms\n",
      "392:\tlearn: 0.1543234\ttotal: 385ms\tremaining: 595ms\n",
      "393:\tlearn: 0.1538223\ttotal: 386ms\tremaining: 594ms\n",
      "394:\tlearn: 0.1534848\ttotal: 387ms\tremaining: 593ms\n",
      "395:\tlearn: 0.1532460\ttotal: 388ms\tremaining: 592ms\n",
      "396:\tlearn: 0.1529731\ttotal: 389ms\tremaining: 590ms\n",
      "397:\tlearn: 0.1526289\ttotal: 389ms\tremaining: 589ms\n",
      "398:\tlearn: 0.1522486\ttotal: 391ms\tremaining: 589ms\n",
      "399:\tlearn: 0.1518667\ttotal: 391ms\tremaining: 587ms\n",
      "400:\tlearn: 0.1515376\ttotal: 392ms\tremaining: 586ms\n",
      "401:\tlearn: 0.1511581\ttotal: 393ms\tremaining: 585ms\n",
      "402:\tlearn: 0.1509313\ttotal: 394ms\tremaining: 584ms\n",
      "403:\tlearn: 0.1505898\ttotal: 395ms\tremaining: 583ms\n",
      "404:\tlearn: 0.1502698\ttotal: 396ms\tremaining: 581ms\n",
      "405:\tlearn: 0.1499777\ttotal: 397ms\tremaining: 580ms\n",
      "406:\tlearn: 0.1495804\ttotal: 397ms\tremaining: 579ms\n",
      "407:\tlearn: 0.1492765\ttotal: 398ms\tremaining: 578ms\n",
      "408:\tlearn: 0.1489450\ttotal: 399ms\tremaining: 576ms\n",
      "409:\tlearn: 0.1485536\ttotal: 400ms\tremaining: 575ms\n",
      "410:\tlearn: 0.1482500\ttotal: 401ms\tremaining: 574ms\n",
      "411:\tlearn: 0.1479758\ttotal: 401ms\tremaining: 573ms\n",
      "412:\tlearn: 0.1476679\ttotal: 402ms\tremaining: 572ms\n",
      "413:\tlearn: 0.1475130\ttotal: 403ms\tremaining: 571ms\n",
      "414:\tlearn: 0.1470996\ttotal: 404ms\tremaining: 569ms\n",
      "415:\tlearn: 0.1468236\ttotal: 405ms\tremaining: 568ms\n",
      "416:\tlearn: 0.1463747\ttotal: 406ms\tremaining: 567ms\n",
      "417:\tlearn: 0.1462767\ttotal: 407ms\tremaining: 566ms\n",
      "418:\tlearn: 0.1458180\ttotal: 408ms\tremaining: 565ms\n",
      "419:\tlearn: 0.1455214\ttotal: 408ms\tremaining: 564ms\n",
      "420:\tlearn: 0.1454096\ttotal: 409ms\tremaining: 563ms\n",
      "421:\tlearn: 0.1450322\ttotal: 410ms\tremaining: 561ms\n",
      "422:\tlearn: 0.1449365\ttotal: 411ms\tremaining: 560ms\n",
      "423:\tlearn: 0.1446370\ttotal: 412ms\tremaining: 559ms\n",
      "424:\tlearn: 0.1444400\ttotal: 412ms\tremaining: 558ms\n",
      "425:\tlearn: 0.1441886\ttotal: 413ms\tremaining: 557ms\n",
      "426:\tlearn: 0.1438487\ttotal: 414ms\tremaining: 556ms\n",
      "427:\tlearn: 0.1435454\ttotal: 415ms\tremaining: 554ms\n",
      "428:\tlearn: 0.1434831\ttotal: 416ms\tremaining: 553ms\n",
      "429:\tlearn: 0.1431214\ttotal: 417ms\tremaining: 552ms\n",
      "430:\tlearn: 0.1428824\ttotal: 417ms\tremaining: 551ms\n",
      "431:\tlearn: 0.1426359\ttotal: 418ms\tremaining: 550ms\n",
      "432:\tlearn: 0.1420901\ttotal: 419ms\tremaining: 549ms\n",
      "433:\tlearn: 0.1419168\ttotal: 420ms\tremaining: 548ms\n",
      "434:\tlearn: 0.1416154\ttotal: 421ms\tremaining: 547ms\n",
      "435:\tlearn: 0.1414145\ttotal: 422ms\tremaining: 546ms\n",
      "436:\tlearn: 0.1410889\ttotal: 423ms\tremaining: 545ms\n",
      "437:\tlearn: 0.1409114\ttotal: 423ms\tremaining: 543ms\n",
      "438:\tlearn: 0.1405875\ttotal: 424ms\tremaining: 542ms\n",
      "439:\tlearn: 0.1401890\ttotal: 425ms\tremaining: 541ms\n",
      "440:\tlearn: 0.1397746\ttotal: 426ms\tremaining: 540ms\n",
      "441:\tlearn: 0.1395655\ttotal: 427ms\tremaining: 539ms\n",
      "442:\tlearn: 0.1393071\ttotal: 428ms\tremaining: 538ms\n",
      "443:\tlearn: 0.1391026\ttotal: 429ms\tremaining: 537ms\n",
      "444:\tlearn: 0.1387921\ttotal: 429ms\tremaining: 536ms\n",
      "445:\tlearn: 0.1385679\ttotal: 430ms\tremaining: 534ms\n",
      "446:\tlearn: 0.1384000\ttotal: 431ms\tremaining: 533ms\n",
      "447:\tlearn: 0.1381741\ttotal: 432ms\tremaining: 532ms\n",
      "448:\tlearn: 0.1378770\ttotal: 433ms\tremaining: 531ms\n",
      "449:\tlearn: 0.1375355\ttotal: 433ms\tremaining: 530ms\n",
      "450:\tlearn: 0.1371355\ttotal: 434ms\tremaining: 529ms\n",
      "451:\tlearn: 0.1370061\ttotal: 435ms\tremaining: 528ms\n",
      "452:\tlearn: 0.1366774\ttotal: 436ms\tremaining: 527ms\n",
      "453:\tlearn: 0.1364024\ttotal: 437ms\tremaining: 525ms\n",
      "454:\tlearn: 0.1361908\ttotal: 437ms\tremaining: 524ms\n",
      "455:\tlearn: 0.1359856\ttotal: 438ms\tremaining: 523ms\n",
      "456:\tlearn: 0.1356659\ttotal: 439ms\tremaining: 522ms\n",
      "457:\tlearn: 0.1353660\ttotal: 440ms\tremaining: 521ms\n",
      "458:\tlearn: 0.1350727\ttotal: 441ms\tremaining: 520ms\n",
      "459:\tlearn: 0.1348913\ttotal: 442ms\tremaining: 519ms\n",
      "460:\tlearn: 0.1346795\ttotal: 443ms\tremaining: 518ms\n",
      "461:\tlearn: 0.1345015\ttotal: 443ms\tremaining: 516ms\n",
      "462:\tlearn: 0.1341980\ttotal: 444ms\tremaining: 515ms\n",
      "463:\tlearn: 0.1338483\ttotal: 445ms\tremaining: 514ms\n",
      "464:\tlearn: 0.1335980\ttotal: 446ms\tremaining: 513ms\n",
      "465:\tlearn: 0.1332524\ttotal: 447ms\tremaining: 512ms\n",
      "466:\tlearn: 0.1329880\ttotal: 447ms\tremaining: 511ms\n",
      "467:\tlearn: 0.1326614\ttotal: 448ms\tremaining: 509ms\n",
      "468:\tlearn: 0.1323968\ttotal: 449ms\tremaining: 508ms\n",
      "469:\tlearn: 0.1320326\ttotal: 450ms\tremaining: 507ms\n",
      "470:\tlearn: 0.1318568\ttotal: 451ms\tremaining: 506ms\n",
      "471:\tlearn: 0.1316164\ttotal: 451ms\tremaining: 505ms\n",
      "472:\tlearn: 0.1313369\ttotal: 452ms\tremaining: 504ms\n",
      "473:\tlearn: 0.1311238\ttotal: 453ms\tremaining: 503ms\n",
      "474:\tlearn: 0.1308423\ttotal: 454ms\tremaining: 502ms\n",
      "475:\tlearn: 0.1304977\ttotal: 455ms\tremaining: 500ms\n",
      "476:\tlearn: 0.1301619\ttotal: 455ms\tremaining: 499ms\n",
      "477:\tlearn: 0.1299238\ttotal: 456ms\tremaining: 498ms\n",
      "478:\tlearn: 0.1295920\ttotal: 457ms\tremaining: 497ms\n",
      "479:\tlearn: 0.1293621\ttotal: 458ms\tremaining: 496ms\n",
      "480:\tlearn: 0.1292409\ttotal: 459ms\tremaining: 495ms\n",
      "481:\tlearn: 0.1289614\ttotal: 460ms\tremaining: 494ms\n",
      "482:\tlearn: 0.1287738\ttotal: 460ms\tremaining: 493ms\n",
      "483:\tlearn: 0.1284324\ttotal: 461ms\tremaining: 492ms\n",
      "484:\tlearn: 0.1281625\ttotal: 462ms\tremaining: 491ms\n",
      "485:\tlearn: 0.1279147\ttotal: 463ms\tremaining: 490ms\n",
      "486:\tlearn: 0.1276105\ttotal: 464ms\tremaining: 488ms\n",
      "487:\tlearn: 0.1272983\ttotal: 464ms\tremaining: 487ms\n",
      "488:\tlearn: 0.1270316\ttotal: 465ms\tremaining: 486ms\n",
      "489:\tlearn: 0.1267275\ttotal: 466ms\tremaining: 485ms\n",
      "490:\tlearn: 0.1266378\ttotal: 467ms\tremaining: 484ms\n",
      "491:\tlearn: 0.1265048\ttotal: 468ms\tremaining: 483ms\n",
      "492:\tlearn: 0.1263730\ttotal: 468ms\tremaining: 482ms\n",
      "493:\tlearn: 0.1262104\ttotal: 469ms\tremaining: 481ms\n",
      "494:\tlearn: 0.1260013\ttotal: 470ms\tremaining: 480ms\n",
      "495:\tlearn: 0.1257369\ttotal: 471ms\tremaining: 479ms\n",
      "496:\tlearn: 0.1254984\ttotal: 473ms\tremaining: 479ms\n",
      "497:\tlearn: 0.1251719\ttotal: 474ms\tremaining: 477ms\n",
      "498:\tlearn: 0.1249349\ttotal: 474ms\tremaining: 476ms\n",
      "499:\tlearn: 0.1246160\ttotal: 475ms\tremaining: 475ms\n",
      "500:\tlearn: 0.1244133\ttotal: 476ms\tremaining: 474ms\n",
      "501:\tlearn: 0.1240806\ttotal: 477ms\tremaining: 473ms\n",
      "502:\tlearn: 0.1239998\ttotal: 477ms\tremaining: 472ms\n",
      "503:\tlearn: 0.1236974\ttotal: 478ms\tremaining: 471ms\n",
      "504:\tlearn: 0.1234931\ttotal: 479ms\tremaining: 470ms\n",
      "505:\tlearn: 0.1232699\ttotal: 480ms\tremaining: 469ms\n",
      "506:\tlearn: 0.1231295\ttotal: 481ms\tremaining: 467ms\n",
      "507:\tlearn: 0.1229838\ttotal: 482ms\tremaining: 466ms\n",
      "508:\tlearn: 0.1226596\ttotal: 482ms\tremaining: 465ms\n",
      "509:\tlearn: 0.1225163\ttotal: 483ms\tremaining: 464ms\n",
      "510:\tlearn: 0.1221728\ttotal: 484ms\tremaining: 463ms\n",
      "511:\tlearn: 0.1218777\ttotal: 485ms\tremaining: 462ms\n",
      "512:\tlearn: 0.1215347\ttotal: 486ms\tremaining: 461ms\n",
      "513:\tlearn: 0.1212249\ttotal: 487ms\tremaining: 460ms\n",
      "514:\tlearn: 0.1211280\ttotal: 488ms\tremaining: 459ms\n"
     ]
    },
    {
     "name": "stdout",
     "output_type": "stream",
     "text": [
      "515:\tlearn: 0.1209226\ttotal: 489ms\tremaining: 458ms\n",
      "516:\tlearn: 0.1206371\ttotal: 490ms\tremaining: 457ms\n",
      "517:\tlearn: 0.1205863\ttotal: 490ms\tremaining: 456ms\n",
      "518:\tlearn: 0.1203049\ttotal: 491ms\tremaining: 455ms\n",
      "519:\tlearn: 0.1200761\ttotal: 492ms\tremaining: 454ms\n",
      "520:\tlearn: 0.1197484\ttotal: 493ms\tremaining: 453ms\n",
      "521:\tlearn: 0.1195335\ttotal: 494ms\tremaining: 452ms\n",
      "522:\tlearn: 0.1192379\ttotal: 494ms\tremaining: 451ms\n",
      "523:\tlearn: 0.1189908\ttotal: 495ms\tremaining: 450ms\n",
      "524:\tlearn: 0.1187633\ttotal: 496ms\tremaining: 449ms\n",
      "525:\tlearn: 0.1185585\ttotal: 497ms\tremaining: 448ms\n",
      "526:\tlearn: 0.1184142\ttotal: 498ms\tremaining: 447ms\n",
      "527:\tlearn: 0.1182671\ttotal: 499ms\tremaining: 446ms\n",
      "528:\tlearn: 0.1180188\ttotal: 499ms\tremaining: 445ms\n",
      "529:\tlearn: 0.1177508\ttotal: 500ms\tremaining: 444ms\n",
      "530:\tlearn: 0.1174041\ttotal: 501ms\tremaining: 443ms\n",
      "531:\tlearn: 0.1171891\ttotal: 502ms\tremaining: 442ms\n",
      "532:\tlearn: 0.1169053\ttotal: 503ms\tremaining: 441ms\n",
      "533:\tlearn: 0.1166062\ttotal: 504ms\tremaining: 440ms\n",
      "534:\tlearn: 0.1163713\ttotal: 504ms\tremaining: 438ms\n",
      "535:\tlearn: 0.1160784\ttotal: 505ms\tremaining: 437ms\n",
      "536:\tlearn: 0.1158265\ttotal: 506ms\tremaining: 436ms\n",
      "537:\tlearn: 0.1156194\ttotal: 507ms\tremaining: 435ms\n",
      "538:\tlearn: 0.1154196\ttotal: 508ms\tremaining: 434ms\n",
      "539:\tlearn: 0.1151664\ttotal: 509ms\tremaining: 433ms\n",
      "540:\tlearn: 0.1149436\ttotal: 509ms\tremaining: 432ms\n",
      "541:\tlearn: 0.1146204\ttotal: 510ms\tremaining: 431ms\n",
      "542:\tlearn: 0.1143472\ttotal: 511ms\tremaining: 430ms\n",
      "543:\tlearn: 0.1140234\ttotal: 512ms\tremaining: 430ms\n",
      "544:\tlearn: 0.1138952\ttotal: 513ms\tremaining: 428ms\n",
      "545:\tlearn: 0.1136795\ttotal: 514ms\tremaining: 427ms\n",
      "546:\tlearn: 0.1135345\ttotal: 515ms\tremaining: 426ms\n",
      "547:\tlearn: 0.1134110\ttotal: 516ms\tremaining: 425ms\n",
      "548:\tlearn: 0.1131358\ttotal: 516ms\tremaining: 424ms\n",
      "549:\tlearn: 0.1130828\ttotal: 517ms\tremaining: 423ms\n",
      "550:\tlearn: 0.1129255\ttotal: 518ms\tremaining: 422ms\n",
      "551:\tlearn: 0.1128882\ttotal: 519ms\tremaining: 421ms\n",
      "552:\tlearn: 0.1125557\ttotal: 520ms\tremaining: 420ms\n",
      "553:\tlearn: 0.1125056\ttotal: 521ms\tremaining: 419ms\n",
      "554:\tlearn: 0.1122929\ttotal: 521ms\tremaining: 418ms\n",
      "555:\tlearn: 0.1122456\ttotal: 522ms\tremaining: 417ms\n",
      "556:\tlearn: 0.1119877\ttotal: 523ms\tremaining: 416ms\n",
      "557:\tlearn: 0.1117764\ttotal: 524ms\tremaining: 415ms\n",
      "558:\tlearn: 0.1116212\ttotal: 525ms\tremaining: 414ms\n",
      "559:\tlearn: 0.1115036\ttotal: 526ms\tremaining: 413ms\n",
      "560:\tlearn: 0.1111906\ttotal: 526ms\tremaining: 412ms\n",
      "561:\tlearn: 0.1109647\ttotal: 528ms\tremaining: 411ms\n",
      "562:\tlearn: 0.1108800\ttotal: 529ms\tremaining: 410ms\n",
      "563:\tlearn: 0.1106903\ttotal: 529ms\tremaining: 409ms\n",
      "564:\tlearn: 0.1104818\ttotal: 530ms\tremaining: 408ms\n",
      "565:\tlearn: 0.1102344\ttotal: 531ms\tremaining: 407ms\n",
      "566:\tlearn: 0.1101749\ttotal: 532ms\tremaining: 406ms\n",
      "567:\tlearn: 0.1099471\ttotal: 533ms\tremaining: 405ms\n",
      "568:\tlearn: 0.1098129\ttotal: 533ms\tremaining: 404ms\n",
      "569:\tlearn: 0.1095731\ttotal: 534ms\tremaining: 403ms\n",
      "570:\tlearn: 0.1095305\ttotal: 535ms\tremaining: 402ms\n",
      "571:\tlearn: 0.1092394\ttotal: 536ms\tremaining: 401ms\n",
      "572:\tlearn: 0.1090567\ttotal: 537ms\tremaining: 400ms\n",
      "573:\tlearn: 0.1087931\ttotal: 538ms\tremaining: 399ms\n",
      "574:\tlearn: 0.1085265\ttotal: 538ms\tremaining: 398ms\n",
      "575:\tlearn: 0.1082634\ttotal: 540ms\tremaining: 397ms\n",
      "576:\tlearn: 0.1080185\ttotal: 540ms\tremaining: 396ms\n",
      "577:\tlearn: 0.1078941\ttotal: 541ms\tremaining: 395ms\n",
      "578:\tlearn: 0.1076471\ttotal: 542ms\tremaining: 394ms\n",
      "579:\tlearn: 0.1074533\ttotal: 543ms\tremaining: 393ms\n",
      "580:\tlearn: 0.1074000\ttotal: 544ms\tremaining: 392ms\n",
      "581:\tlearn: 0.1072107\ttotal: 544ms\tremaining: 391ms\n",
      "582:\tlearn: 0.1069350\ttotal: 545ms\tremaining: 390ms\n",
      "583:\tlearn: 0.1067248\ttotal: 546ms\tremaining: 389ms\n",
      "584:\tlearn: 0.1065513\ttotal: 547ms\tremaining: 388ms\n",
      "585:\tlearn: 0.1063326\ttotal: 548ms\tremaining: 387ms\n",
      "586:\tlearn: 0.1062589\ttotal: 548ms\tremaining: 386ms\n",
      "587:\tlearn: 0.1060986\ttotal: 549ms\tremaining: 385ms\n",
      "588:\tlearn: 0.1058880\ttotal: 550ms\tremaining: 384ms\n",
      "589:\tlearn: 0.1056865\ttotal: 551ms\tremaining: 383ms\n",
      "590:\tlearn: 0.1054852\ttotal: 552ms\tremaining: 382ms\n",
      "591:\tlearn: 0.1053885\ttotal: 553ms\tremaining: 381ms\n",
      "592:\tlearn: 0.1051832\ttotal: 553ms\tremaining: 380ms\n",
      "593:\tlearn: 0.1049704\ttotal: 554ms\tremaining: 379ms\n",
      "594:\tlearn: 0.1047936\ttotal: 555ms\tremaining: 378ms\n",
      "595:\tlearn: 0.1045786\ttotal: 556ms\tremaining: 377ms\n",
      "596:\tlearn: 0.1043539\ttotal: 557ms\tremaining: 376ms\n",
      "597:\tlearn: 0.1040611\ttotal: 558ms\tremaining: 375ms\n",
      "598:\tlearn: 0.1040133\ttotal: 558ms\tremaining: 374ms\n",
      "599:\tlearn: 0.1039032\ttotal: 559ms\tremaining: 373ms\n",
      "600:\tlearn: 0.1036762\ttotal: 560ms\tremaining: 372ms\n",
      "601:\tlearn: 0.1034828\ttotal: 561ms\tremaining: 371ms\n",
      "602:\tlearn: 0.1032608\ttotal: 562ms\tremaining: 370ms\n",
      "603:\tlearn: 0.1031129\ttotal: 562ms\tremaining: 369ms\n",
      "604:\tlearn: 0.1029100\ttotal: 563ms\tremaining: 368ms\n",
      "605:\tlearn: 0.1028687\ttotal: 564ms\tremaining: 367ms\n",
      "606:\tlearn: 0.1026299\ttotal: 565ms\tremaining: 366ms\n",
      "607:\tlearn: 0.1024040\ttotal: 566ms\tremaining: 365ms\n",
      "608:\tlearn: 0.1023688\ttotal: 567ms\tremaining: 364ms\n",
      "609:\tlearn: 0.1021121\ttotal: 567ms\tremaining: 363ms\n",
      "610:\tlearn: 0.1018718\ttotal: 568ms\tremaining: 362ms\n",
      "611:\tlearn: 0.1017013\ttotal: 569ms\tremaining: 361ms\n",
      "612:\tlearn: 0.1014935\ttotal: 570ms\tremaining: 360ms\n",
      "613:\tlearn: 0.1013061\ttotal: 570ms\tremaining: 359ms\n"
     ]
    },
    {
     "name": "stdout",
     "output_type": "stream",
     "text": [
      "614:\tlearn: 0.1012059\ttotal: 571ms\tremaining: 358ms\n",
      "615:\tlearn: 0.1011522\ttotal: 572ms\tremaining: 357ms\n",
      "616:\tlearn: 0.1009579\ttotal: 573ms\tremaining: 356ms\n",
      "617:\tlearn: 0.1008378\ttotal: 574ms\tremaining: 355ms\n",
      "618:\tlearn: 0.1006172\ttotal: 575ms\tremaining: 354ms\n",
      "619:\tlearn: 0.1005529\ttotal: 576ms\tremaining: 353ms\n",
      "620:\tlearn: 0.1004386\ttotal: 576ms\tremaining: 352ms\n",
      "621:\tlearn: 0.1004015\ttotal: 577ms\tremaining: 351ms\n",
      "622:\tlearn: 0.1002000\ttotal: 578ms\tremaining: 350ms\n",
      "623:\tlearn: 0.0999032\ttotal: 579ms\tremaining: 349ms\n",
      "624:\tlearn: 0.0997607\ttotal: 580ms\tremaining: 348ms\n",
      "625:\tlearn: 0.0995637\ttotal: 580ms\tremaining: 347ms\n",
      "626:\tlearn: 0.0993650\ttotal: 581ms\tremaining: 346ms\n",
      "627:\tlearn: 0.0991345\ttotal: 582ms\tremaining: 345ms\n",
      "628:\tlearn: 0.0990907\ttotal: 583ms\tremaining: 344ms\n",
      "629:\tlearn: 0.0989590\ttotal: 584ms\tremaining: 343ms\n",
      "630:\tlearn: 0.0987769\ttotal: 585ms\tremaining: 342ms\n",
      "631:\tlearn: 0.0987393\ttotal: 585ms\tremaining: 341ms\n",
      "632:\tlearn: 0.0985429\ttotal: 586ms\tremaining: 340ms\n",
      "633:\tlearn: 0.0984814\ttotal: 587ms\tremaining: 339ms\n",
      "634:\tlearn: 0.0983608\ttotal: 588ms\tremaining: 338ms\n",
      "635:\tlearn: 0.0983217\ttotal: 589ms\tremaining: 337ms\n",
      "636:\tlearn: 0.0981968\ttotal: 589ms\tremaining: 336ms\n",
      "637:\tlearn: 0.0979941\ttotal: 590ms\tremaining: 335ms\n",
      "638:\tlearn: 0.0979183\ttotal: 591ms\tremaining: 334ms\n",
      "639:\tlearn: 0.0977073\ttotal: 592ms\tremaining: 333ms\n",
      "640:\tlearn: 0.0975425\ttotal: 593ms\tremaining: 332ms\n",
      "641:\tlearn: 0.0973716\ttotal: 594ms\tremaining: 331ms\n",
      "642:\tlearn: 0.0971718\ttotal: 595ms\tremaining: 330ms\n",
      "643:\tlearn: 0.0969106\ttotal: 595ms\tremaining: 329ms\n",
      "644:\tlearn: 0.0967738\ttotal: 596ms\tremaining: 328ms\n",
      "645:\tlearn: 0.0966374\ttotal: 597ms\tremaining: 327ms\n",
      "646:\tlearn: 0.0965464\ttotal: 598ms\tremaining: 326ms\n",
      "647:\tlearn: 0.0964702\ttotal: 599ms\tremaining: 325ms\n",
      "648:\tlearn: 0.0962332\ttotal: 599ms\tremaining: 324ms\n",
      "649:\tlearn: 0.0960801\ttotal: 600ms\tremaining: 323ms\n",
      "650:\tlearn: 0.0959773\ttotal: 601ms\tremaining: 322ms\n",
      "651:\tlearn: 0.0958701\ttotal: 602ms\tremaining: 321ms\n",
      "652:\tlearn: 0.0956808\ttotal: 603ms\tremaining: 320ms\n",
      "653:\tlearn: 0.0954677\ttotal: 603ms\tremaining: 319ms\n",
      "654:\tlearn: 0.0954124\ttotal: 604ms\tremaining: 318ms\n",
      "655:\tlearn: 0.0951896\ttotal: 605ms\tremaining: 317ms\n",
      "656:\tlearn: 0.0949921\ttotal: 606ms\tremaining: 316ms\n",
      "657:\tlearn: 0.0948740\ttotal: 607ms\tremaining: 316ms\n",
      "658:\tlearn: 0.0946877\ttotal: 608ms\tremaining: 315ms\n",
      "659:\tlearn: 0.0945929\ttotal: 609ms\tremaining: 314ms\n",
      "660:\tlearn: 0.0944460\ttotal: 610ms\tremaining: 313ms\n",
      "661:\tlearn: 0.0942800\ttotal: 611ms\tremaining: 312ms\n",
      "662:\tlearn: 0.0940616\ttotal: 612ms\tremaining: 311ms\n",
      "663:\tlearn: 0.0939092\ttotal: 613ms\tremaining: 310ms\n",
      "664:\tlearn: 0.0937618\ttotal: 614ms\tremaining: 309ms\n",
      "665:\tlearn: 0.0936021\ttotal: 614ms\tremaining: 308ms\n",
      "666:\tlearn: 0.0933017\ttotal: 615ms\tremaining: 307ms\n",
      "667:\tlearn: 0.0931431\ttotal: 616ms\tremaining: 306ms\n",
      "668:\tlearn: 0.0928966\ttotal: 617ms\tremaining: 305ms\n",
      "669:\tlearn: 0.0927387\ttotal: 618ms\tremaining: 305ms\n",
      "670:\tlearn: 0.0927005\ttotal: 619ms\tremaining: 304ms\n",
      "671:\tlearn: 0.0925375\ttotal: 621ms\tremaining: 303ms\n",
      "672:\tlearn: 0.0923748\ttotal: 622ms\tremaining: 302ms\n",
      "673:\tlearn: 0.0923381\ttotal: 623ms\tremaining: 301ms\n",
      "674:\tlearn: 0.0922959\ttotal: 624ms\tremaining: 300ms\n",
      "675:\tlearn: 0.0921410\ttotal: 624ms\tremaining: 299ms\n",
      "676:\tlearn: 0.0919841\ttotal: 625ms\tremaining: 298ms\n",
      "677:\tlearn: 0.0918039\ttotal: 626ms\tremaining: 297ms\n",
      "678:\tlearn: 0.0917125\ttotal: 627ms\tremaining: 297ms\n",
      "679:\tlearn: 0.0914837\ttotal: 628ms\tremaining: 296ms\n",
      "680:\tlearn: 0.0912517\ttotal: 629ms\tremaining: 295ms\n",
      "681:\tlearn: 0.0910391\ttotal: 630ms\tremaining: 294ms\n",
      "682:\tlearn: 0.0908831\ttotal: 631ms\tremaining: 293ms\n",
      "683:\tlearn: 0.0907335\ttotal: 632ms\tremaining: 292ms\n",
      "684:\tlearn: 0.0906522\ttotal: 632ms\tremaining: 291ms\n",
      "685:\tlearn: 0.0905444\ttotal: 633ms\tremaining: 290ms\n",
      "686:\tlearn: 0.0903878\ttotal: 634ms\tremaining: 289ms\n",
      "687:\tlearn: 0.0902902\ttotal: 635ms\tremaining: 288ms\n",
      "688:\tlearn: 0.0900550\ttotal: 635ms\tremaining: 287ms\n",
      "689:\tlearn: 0.0898299\ttotal: 636ms\tremaining: 286ms\n",
      "690:\tlearn: 0.0897023\ttotal: 637ms\tremaining: 285ms\n",
      "691:\tlearn: 0.0896797\ttotal: 638ms\tremaining: 284ms\n",
      "692:\tlearn: 0.0895965\ttotal: 639ms\tremaining: 283ms\n",
      "693:\tlearn: 0.0894752\ttotal: 639ms\tremaining: 282ms\n",
      "694:\tlearn: 0.0892572\ttotal: 640ms\tremaining: 281ms\n",
      "695:\tlearn: 0.0890397\ttotal: 641ms\tremaining: 280ms\n",
      "696:\tlearn: 0.0889113\ttotal: 642ms\tremaining: 279ms\n",
      "697:\tlearn: 0.0887053\ttotal: 643ms\tremaining: 278ms\n",
      "698:\tlearn: 0.0885853\ttotal: 644ms\tremaining: 277ms\n",
      "699:\tlearn: 0.0884890\ttotal: 644ms\tremaining: 276ms\n",
      "700:\tlearn: 0.0883292\ttotal: 645ms\tremaining: 275ms\n",
      "701:\tlearn: 0.0881138\ttotal: 646ms\tremaining: 274ms\n",
      "702:\tlearn: 0.0880168\ttotal: 647ms\tremaining: 273ms\n",
      "703:\tlearn: 0.0879332\ttotal: 648ms\tremaining: 272ms\n",
      "704:\tlearn: 0.0878841\ttotal: 649ms\tremaining: 271ms\n",
      "705:\tlearn: 0.0877543\ttotal: 649ms\tremaining: 270ms\n",
      "706:\tlearn: 0.0875755\ttotal: 651ms\tremaining: 270ms\n",
      "707:\tlearn: 0.0874010\ttotal: 652ms\tremaining: 269ms\n",
      "708:\tlearn: 0.0872480\ttotal: 653ms\tremaining: 268ms\n",
      "709:\tlearn: 0.0871120\ttotal: 653ms\tremaining: 267ms\n",
      "710:\tlearn: 0.0869137\ttotal: 654ms\tremaining: 266ms\n",
      "711:\tlearn: 0.0867261\ttotal: 655ms\tremaining: 265ms\n",
      "712:\tlearn: 0.0865836\ttotal: 656ms\tremaining: 264ms\n",
      "713:\tlearn: 0.0863856\ttotal: 657ms\tremaining: 263ms\n",
      "714:\tlearn: 0.0861736\ttotal: 658ms\tremaining: 262ms\n",
      "715:\tlearn: 0.0860980\ttotal: 658ms\tremaining: 261ms\n",
      "716:\tlearn: 0.0858458\ttotal: 659ms\tremaining: 260ms\n",
      "717:\tlearn: 0.0856554\ttotal: 660ms\tremaining: 259ms\n",
      "718:\tlearn: 0.0854154\ttotal: 661ms\tremaining: 258ms\n",
      "719:\tlearn: 0.0853879\ttotal: 662ms\tremaining: 257ms\n",
      "720:\tlearn: 0.0853405\ttotal: 663ms\tremaining: 256ms\n",
      "721:\tlearn: 0.0852921\ttotal: 663ms\tremaining: 255ms\n",
      "722:\tlearn: 0.0851117\ttotal: 664ms\tremaining: 254ms\n",
      "723:\tlearn: 0.0850389\ttotal: 665ms\tremaining: 254ms\n",
      "724:\tlearn: 0.0848239\ttotal: 666ms\tremaining: 253ms\n",
      "725:\tlearn: 0.0846567\ttotal: 667ms\tremaining: 252ms\n",
      "726:\tlearn: 0.0845566\ttotal: 667ms\tremaining: 251ms\n",
      "727:\tlearn: 0.0844811\ttotal: 668ms\tremaining: 250ms\n",
      "728:\tlearn: 0.0843565\ttotal: 669ms\tremaining: 249ms\n",
      "729:\tlearn: 0.0842449\ttotal: 670ms\tremaining: 248ms\n",
      "730:\tlearn: 0.0841032\ttotal: 671ms\tremaining: 247ms\n",
      "731:\tlearn: 0.0838675\ttotal: 672ms\tremaining: 246ms\n",
      "732:\tlearn: 0.0837302\ttotal: 673ms\tremaining: 245ms\n",
      "733:\tlearn: 0.0836248\ttotal: 674ms\tremaining: 244ms\n",
      "734:\tlearn: 0.0835827\ttotal: 675ms\tremaining: 243ms\n",
      "735:\tlearn: 0.0834330\ttotal: 676ms\tremaining: 242ms\n",
      "736:\tlearn: 0.0834000\ttotal: 676ms\tremaining: 241ms\n",
      "737:\tlearn: 0.0832674\ttotal: 677ms\tremaining: 240ms\n",
      "738:\tlearn: 0.0831196\ttotal: 678ms\tremaining: 239ms\n"
     ]
    },
    {
     "name": "stdout",
     "output_type": "stream",
     "text": [
      "739:\tlearn: 0.0829051\ttotal: 679ms\tremaining: 239ms\n",
      "740:\tlearn: 0.0828626\ttotal: 680ms\tremaining: 238ms\n",
      "741:\tlearn: 0.0827234\ttotal: 681ms\tremaining: 237ms\n",
      "742:\tlearn: 0.0826128\ttotal: 682ms\tremaining: 236ms\n",
      "743:\tlearn: 0.0825845\ttotal: 683ms\tremaining: 235ms\n",
      "744:\tlearn: 0.0824460\ttotal: 684ms\tremaining: 234ms\n",
      "745:\tlearn: 0.0823092\ttotal: 684ms\tremaining: 233ms\n",
      "746:\tlearn: 0.0821651\ttotal: 685ms\tremaining: 232ms\n",
      "747:\tlearn: 0.0821256\ttotal: 686ms\tremaining: 231ms\n",
      "748:\tlearn: 0.0819963\ttotal: 687ms\tremaining: 230ms\n",
      "749:\tlearn: 0.0818718\ttotal: 688ms\tremaining: 229ms\n",
      "750:\tlearn: 0.0817899\ttotal: 688ms\tremaining: 228ms\n",
      "751:\tlearn: 0.0816684\ttotal: 689ms\tremaining: 227ms\n",
      "752:\tlearn: 0.0815223\ttotal: 690ms\tremaining: 226ms\n",
      "753:\tlearn: 0.0814789\ttotal: 691ms\tremaining: 225ms\n",
      "754:\tlearn: 0.0814087\ttotal: 692ms\tremaining: 224ms\n",
      "755:\tlearn: 0.0813876\ttotal: 692ms\tremaining: 224ms\n",
      "756:\tlearn: 0.0813146\ttotal: 693ms\tremaining: 223ms\n",
      "757:\tlearn: 0.0812101\ttotal: 694ms\tremaining: 222ms\n",
      "758:\tlearn: 0.0810593\ttotal: 695ms\tremaining: 221ms\n",
      "759:\tlearn: 0.0808887\ttotal: 696ms\tremaining: 220ms\n",
      "760:\tlearn: 0.0807612\ttotal: 696ms\tremaining: 219ms\n",
      "761:\tlearn: 0.0805801\ttotal: 697ms\tremaining: 218ms\n",
      "762:\tlearn: 0.0804229\ttotal: 698ms\tremaining: 217ms\n",
      "763:\tlearn: 0.0803789\ttotal: 699ms\tremaining: 216ms\n",
      "764:\tlearn: 0.0802117\ttotal: 700ms\tremaining: 215ms\n",
      "765:\tlearn: 0.0800923\ttotal: 701ms\tremaining: 214ms\n",
      "766:\tlearn: 0.0799108\ttotal: 702ms\tremaining: 213ms\n",
      "767:\tlearn: 0.0798193\ttotal: 702ms\tremaining: 212ms\n",
      "768:\tlearn: 0.0797694\ttotal: 703ms\tremaining: 211ms\n",
      "769:\tlearn: 0.0797315\ttotal: 704ms\tremaining: 210ms\n",
      "770:\tlearn: 0.0796142\ttotal: 705ms\tremaining: 209ms\n",
      "771:\tlearn: 0.0795202\ttotal: 706ms\tremaining: 208ms\n",
      "772:\tlearn: 0.0794105\ttotal: 706ms\tremaining: 207ms\n",
      "773:\tlearn: 0.0793861\ttotal: 707ms\tremaining: 206ms\n",
      "774:\tlearn: 0.0793183\ttotal: 708ms\tremaining: 206ms\n",
      "775:\tlearn: 0.0791886\ttotal: 709ms\tremaining: 205ms\n",
      "776:\tlearn: 0.0791633\ttotal: 709ms\tremaining: 204ms\n",
      "777:\tlearn: 0.0790138\ttotal: 710ms\tremaining: 203ms\n",
      "778:\tlearn: 0.0788756\ttotal: 711ms\tremaining: 202ms\n",
      "779:\tlearn: 0.0787952\ttotal: 712ms\tremaining: 201ms\n",
      "780:\tlearn: 0.0787435\ttotal: 713ms\tremaining: 200ms\n",
      "781:\tlearn: 0.0785448\ttotal: 714ms\tremaining: 199ms\n",
      "782:\tlearn: 0.0784344\ttotal: 714ms\tremaining: 198ms\n",
      "783:\tlearn: 0.0783840\ttotal: 715ms\tremaining: 197ms\n",
      "784:\tlearn: 0.0782015\ttotal: 716ms\tremaining: 196ms\n",
      "785:\tlearn: 0.0780775\ttotal: 717ms\tremaining: 195ms\n",
      "786:\tlearn: 0.0780204\ttotal: 718ms\tremaining: 194ms\n",
      "787:\tlearn: 0.0779940\ttotal: 718ms\tremaining: 193ms\n",
      "788:\tlearn: 0.0778922\ttotal: 719ms\tremaining: 192ms\n",
      "789:\tlearn: 0.0776372\ttotal: 720ms\tremaining: 191ms\n",
      "790:\tlearn: 0.0774971\ttotal: 721ms\tremaining: 190ms\n",
      "791:\tlearn: 0.0773994\ttotal: 722ms\tremaining: 189ms\n",
      "792:\tlearn: 0.0773259\ttotal: 722ms\tremaining: 189ms\n",
      "793:\tlearn: 0.0772647\ttotal: 723ms\tremaining: 188ms\n",
      "794:\tlearn: 0.0771984\ttotal: 724ms\tremaining: 187ms\n",
      "795:\tlearn: 0.0770763\ttotal: 725ms\tremaining: 186ms\n",
      "796:\tlearn: 0.0769257\ttotal: 726ms\tremaining: 185ms\n",
      "797:\tlearn: 0.0768690\ttotal: 726ms\tremaining: 184ms\n",
      "798:\tlearn: 0.0766902\ttotal: 727ms\tremaining: 183ms\n",
      "799:\tlearn: 0.0764760\ttotal: 728ms\tremaining: 182ms\n",
      "800:\tlearn: 0.0764179\ttotal: 729ms\tremaining: 181ms\n",
      "801:\tlearn: 0.0763402\ttotal: 730ms\tremaining: 180ms\n",
      "802:\tlearn: 0.0762305\ttotal: 731ms\tremaining: 179ms\n",
      "803:\tlearn: 0.0761695\ttotal: 732ms\tremaining: 178ms\n",
      "804:\tlearn: 0.0759509\ttotal: 733ms\tremaining: 178ms\n",
      "805:\tlearn: 0.0758297\ttotal: 734ms\tremaining: 177ms\n",
      "806:\tlearn: 0.0756873\ttotal: 735ms\tremaining: 176ms\n",
      "807:\tlearn: 0.0755345\ttotal: 736ms\tremaining: 175ms\n",
      "808:\tlearn: 0.0754037\ttotal: 736ms\tremaining: 174ms\n",
      "809:\tlearn: 0.0752265\ttotal: 737ms\tremaining: 173ms\n",
      "810:\tlearn: 0.0752016\ttotal: 738ms\tremaining: 172ms\n",
      "811:\tlearn: 0.0750407\ttotal: 739ms\tremaining: 171ms\n",
      "812:\tlearn: 0.0749451\ttotal: 740ms\tremaining: 170ms\n",
      "813:\tlearn: 0.0748501\ttotal: 741ms\tremaining: 169ms\n",
      "814:\tlearn: 0.0746648\ttotal: 742ms\tremaining: 168ms\n",
      "815:\tlearn: 0.0744491\ttotal: 742ms\tremaining: 167ms\n",
      "816:\tlearn: 0.0743671\ttotal: 743ms\tremaining: 166ms\n",
      "817:\tlearn: 0.0743485\ttotal: 744ms\tremaining: 166ms\n",
      "818:\tlearn: 0.0743387\ttotal: 745ms\tremaining: 165ms\n",
      "819:\tlearn: 0.0742502\ttotal: 746ms\tremaining: 164ms\n",
      "820:\tlearn: 0.0741692\ttotal: 747ms\tremaining: 163ms\n",
      "821:\tlearn: 0.0739713\ttotal: 748ms\tremaining: 162ms\n",
      "822:\tlearn: 0.0738749\ttotal: 748ms\tremaining: 161ms\n",
      "823:\tlearn: 0.0737076\ttotal: 749ms\tremaining: 160ms\n",
      "824:\tlearn: 0.0736495\ttotal: 750ms\tremaining: 159ms\n",
      "825:\tlearn: 0.0735530\ttotal: 751ms\tremaining: 158ms\n",
      "826:\tlearn: 0.0734364\ttotal: 752ms\tremaining: 157ms\n",
      "827:\tlearn: 0.0732843\ttotal: 752ms\tremaining: 156ms\n",
      "828:\tlearn: 0.0731563\ttotal: 753ms\tremaining: 155ms\n",
      "829:\tlearn: 0.0730651\ttotal: 754ms\tremaining: 154ms\n",
      "830:\tlearn: 0.0729547\ttotal: 755ms\tremaining: 154ms\n",
      "831:\tlearn: 0.0728215\ttotal: 756ms\tremaining: 153ms\n",
      "832:\tlearn: 0.0728005\ttotal: 757ms\tremaining: 152ms\n",
      "833:\tlearn: 0.0726594\ttotal: 757ms\tremaining: 151ms\n",
      "834:\tlearn: 0.0724747\ttotal: 758ms\tremaining: 150ms\n",
      "835:\tlearn: 0.0723563\ttotal: 759ms\tremaining: 149ms\n",
      "836:\tlearn: 0.0722966\ttotal: 760ms\tremaining: 148ms\n",
      "837:\tlearn: 0.0721904\ttotal: 760ms\tremaining: 147ms\n",
      "838:\tlearn: 0.0720002\ttotal: 761ms\tremaining: 146ms\n"
     ]
    },
    {
     "name": "stdout",
     "output_type": "stream",
     "text": [
      "839:\tlearn: 0.0718710\ttotal: 762ms\tremaining: 145ms\n",
      "840:\tlearn: 0.0718376\ttotal: 763ms\tremaining: 144ms\n",
      "841:\tlearn: 0.0716398\ttotal: 764ms\tremaining: 143ms\n",
      "842:\tlearn: 0.0715161\ttotal: 765ms\tremaining: 142ms\n",
      "843:\tlearn: 0.0714323\ttotal: 766ms\tremaining: 142ms\n",
      "844:\tlearn: 0.0713993\ttotal: 767ms\tremaining: 141ms\n",
      "845:\tlearn: 0.0713301\ttotal: 767ms\tremaining: 140ms\n",
      "846:\tlearn: 0.0712515\ttotal: 768ms\tremaining: 139ms\n",
      "847:\tlearn: 0.0711533\ttotal: 769ms\tremaining: 138ms\n",
      "848:\tlearn: 0.0709830\ttotal: 770ms\tremaining: 137ms\n",
      "849:\tlearn: 0.0709668\ttotal: 771ms\tremaining: 136ms\n",
      "850:\tlearn: 0.0709233\ttotal: 772ms\tremaining: 135ms\n",
      "851:\tlearn: 0.0707593\ttotal: 773ms\tremaining: 134ms\n",
      "852:\tlearn: 0.0706725\ttotal: 773ms\tremaining: 133ms\n",
      "853:\tlearn: 0.0706406\ttotal: 774ms\tremaining: 132ms\n",
      "854:\tlearn: 0.0705028\ttotal: 775ms\tremaining: 131ms\n",
      "855:\tlearn: 0.0704333\ttotal: 776ms\tremaining: 131ms\n",
      "856:\tlearn: 0.0703005\ttotal: 777ms\tremaining: 130ms\n",
      "857:\tlearn: 0.0702653\ttotal: 778ms\tremaining: 129ms\n",
      "858:\tlearn: 0.0701328\ttotal: 778ms\tremaining: 128ms\n",
      "859:\tlearn: 0.0700218\ttotal: 780ms\tremaining: 127ms\n",
      "860:\tlearn: 0.0699283\ttotal: 781ms\tremaining: 126ms\n",
      "861:\tlearn: 0.0699055\ttotal: 781ms\tremaining: 125ms\n",
      "862:\tlearn: 0.0697560\ttotal: 782ms\tremaining: 124ms\n",
      "863:\tlearn: 0.0696992\ttotal: 783ms\tremaining: 123ms\n",
      "864:\tlearn: 0.0695995\ttotal: 784ms\tremaining: 122ms\n",
      "865:\tlearn: 0.0694925\ttotal: 785ms\tremaining: 121ms\n",
      "866:\tlearn: 0.0694082\ttotal: 786ms\tremaining: 121ms\n",
      "867:\tlearn: 0.0692184\ttotal: 787ms\tremaining: 120ms\n",
      "868:\tlearn: 0.0691399\ttotal: 787ms\tremaining: 119ms\n",
      "869:\tlearn: 0.0691001\ttotal: 788ms\tremaining: 118ms\n",
      "870:\tlearn: 0.0690263\ttotal: 789ms\tremaining: 117ms\n",
      "871:\tlearn: 0.0689937\ttotal: 790ms\tremaining: 116ms\n",
      "872:\tlearn: 0.0689547\ttotal: 791ms\tremaining: 115ms\n",
      "873:\tlearn: 0.0688788\ttotal: 792ms\tremaining: 114ms\n",
      "874:\tlearn: 0.0687963\ttotal: 793ms\tremaining: 113ms\n",
      "875:\tlearn: 0.0687648\ttotal: 793ms\tremaining: 112ms\n",
      "876:\tlearn: 0.0686989\ttotal: 794ms\tremaining: 111ms\n",
      "877:\tlearn: 0.0686599\ttotal: 795ms\tremaining: 110ms\n",
      "878:\tlearn: 0.0686092\ttotal: 796ms\tremaining: 110ms\n",
      "879:\tlearn: 0.0684655\ttotal: 796ms\tremaining: 109ms\n",
      "880:\tlearn: 0.0682527\ttotal: 797ms\tremaining: 108ms\n",
      "881:\tlearn: 0.0682205\ttotal: 798ms\tremaining: 107ms\n",
      "882:\tlearn: 0.0681130\ttotal: 799ms\tremaining: 106ms\n",
      "883:\tlearn: 0.0680470\ttotal: 800ms\tremaining: 105ms\n",
      "884:\tlearn: 0.0679019\ttotal: 800ms\tremaining: 104ms\n",
      "885:\tlearn: 0.0677890\ttotal: 801ms\tremaining: 103ms\n",
      "886:\tlearn: 0.0677733\ttotal: 802ms\tremaining: 102ms\n",
      "887:\tlearn: 0.0676321\ttotal: 803ms\tremaining: 101ms\n",
      "888:\tlearn: 0.0674686\ttotal: 804ms\tremaining: 100ms\n",
      "889:\tlearn: 0.0673604\ttotal: 804ms\tremaining: 99.4ms\n",
      "890:\tlearn: 0.0673063\ttotal: 805ms\tremaining: 98.5ms\n",
      "891:\tlearn: 0.0671657\ttotal: 806ms\tremaining: 97.6ms\n",
      "892:\tlearn: 0.0670778\ttotal: 807ms\tremaining: 96.7ms\n",
      "893:\tlearn: 0.0670619\ttotal: 808ms\tremaining: 95.8ms\n",
      "894:\tlearn: 0.0670136\ttotal: 808ms\tremaining: 94.8ms\n",
      "895:\tlearn: 0.0669624\ttotal: 809ms\tremaining: 93.9ms\n",
      "896:\tlearn: 0.0669050\ttotal: 810ms\tremaining: 93ms\n",
      "897:\tlearn: 0.0667660\ttotal: 811ms\tremaining: 92.1ms\n",
      "898:\tlearn: 0.0666255\ttotal: 812ms\tremaining: 91.2ms\n",
      "899:\tlearn: 0.0665466\ttotal: 813ms\tremaining: 90.3ms\n",
      "900:\tlearn: 0.0664931\ttotal: 814ms\tremaining: 89.4ms\n",
      "901:\tlearn: 0.0664748\ttotal: 814ms\tremaining: 88.5ms\n",
      "902:\tlearn: 0.0664007\ttotal: 816ms\tremaining: 87.6ms\n",
      "903:\tlearn: 0.0662461\ttotal: 817ms\tremaining: 86.7ms\n",
      "904:\tlearn: 0.0661038\ttotal: 818ms\tremaining: 85.8ms\n",
      "905:\tlearn: 0.0659792\ttotal: 818ms\tremaining: 84.9ms\n",
      "906:\tlearn: 0.0658580\ttotal: 819ms\tremaining: 84ms\n",
      "907:\tlearn: 0.0657953\ttotal: 820ms\tremaining: 83.1ms\n",
      "908:\tlearn: 0.0656555\ttotal: 821ms\tremaining: 82.2ms\n",
      "909:\tlearn: 0.0655644\ttotal: 822ms\tremaining: 81.3ms\n",
      "910:\tlearn: 0.0655493\ttotal: 822ms\tremaining: 80.4ms\n",
      "911:\tlearn: 0.0654657\ttotal: 823ms\tremaining: 79.4ms\n",
      "912:\tlearn: 0.0653877\ttotal: 824ms\tremaining: 78.5ms\n",
      "913:\tlearn: 0.0652204\ttotal: 825ms\tremaining: 77.7ms\n",
      "914:\tlearn: 0.0651397\ttotal: 826ms\tremaining: 76.7ms\n",
      "915:\tlearn: 0.0650893\ttotal: 827ms\tremaining: 75.8ms\n",
      "916:\tlearn: 0.0649101\ttotal: 828ms\tremaining: 74.9ms\n",
      "917:\tlearn: 0.0647764\ttotal: 828ms\tremaining: 74ms\n",
      "918:\tlearn: 0.0647508\ttotal: 829ms\tremaining: 73.1ms\n",
      "919:\tlearn: 0.0646400\ttotal: 830ms\tremaining: 72.2ms\n",
      "920:\tlearn: 0.0645746\ttotal: 831ms\tremaining: 71.3ms\n",
      "921:\tlearn: 0.0645177\ttotal: 832ms\tremaining: 70.3ms\n",
      "922:\tlearn: 0.0644222\ttotal: 832ms\tremaining: 69.4ms\n",
      "923:\tlearn: 0.0643486\ttotal: 833ms\tremaining: 68.5ms\n",
      "924:\tlearn: 0.0642391\ttotal: 834ms\tremaining: 67.6ms\n",
      "925:\tlearn: 0.0641859\ttotal: 835ms\tremaining: 66.7ms\n",
      "926:\tlearn: 0.0641160\ttotal: 836ms\tremaining: 65.8ms\n",
      "927:\tlearn: 0.0640616\ttotal: 837ms\tremaining: 65ms\n",
      "928:\tlearn: 0.0640352\ttotal: 838ms\tremaining: 64ms\n",
      "929:\tlearn: 0.0639813\ttotal: 839ms\tremaining: 63.1ms\n",
      "930:\tlearn: 0.0639568\ttotal: 840ms\tremaining: 62.2ms\n",
      "931:\tlearn: 0.0638353\ttotal: 840ms\tremaining: 61.3ms\n",
      "932:\tlearn: 0.0637318\ttotal: 841ms\tremaining: 60.4ms\n",
      "933:\tlearn: 0.0637177\ttotal: 842ms\tremaining: 59.5ms\n",
      "934:\tlearn: 0.0636360\ttotal: 843ms\tremaining: 58.6ms\n",
      "935:\tlearn: 0.0634573\ttotal: 843ms\tremaining: 57.7ms\n",
      "936:\tlearn: 0.0633591\ttotal: 844ms\tremaining: 56.8ms\n",
      "937:\tlearn: 0.0633024\ttotal: 845ms\tremaining: 55.9ms\n",
      "938:\tlearn: 0.0632889\ttotal: 846ms\tremaining: 55ms\n",
      "939:\tlearn: 0.0632256\ttotal: 847ms\tremaining: 54.1ms\n",
      "940:\tlearn: 0.0631627\ttotal: 848ms\tremaining: 53.2ms\n",
      "941:\tlearn: 0.0630819\ttotal: 849ms\tremaining: 52.3ms\n",
      "942:\tlearn: 0.0629222\ttotal: 850ms\tremaining: 51.4ms\n",
      "943:\tlearn: 0.0628020\ttotal: 851ms\tremaining: 50.5ms\n",
      "944:\tlearn: 0.0626904\ttotal: 851ms\tremaining: 49.6ms\n",
      "945:\tlearn: 0.0626120\ttotal: 852ms\tremaining: 48.7ms\n",
      "946:\tlearn: 0.0625782\ttotal: 853ms\tremaining: 47.7ms\n",
      "947:\tlearn: 0.0624306\ttotal: 854ms\tremaining: 46.8ms\n",
      "948:\tlearn: 0.0623023\ttotal: 855ms\tremaining: 45.9ms\n",
      "949:\tlearn: 0.0621762\ttotal: 856ms\tremaining: 45ms\n",
      "950:\tlearn: 0.0620707\ttotal: 857ms\tremaining: 44.2ms\n",
      "951:\tlearn: 0.0619442\ttotal: 858ms\tremaining: 43.3ms\n",
      "952:\tlearn: 0.0619304\ttotal: 859ms\tremaining: 42.4ms\n",
      "953:\tlearn: 0.0618728\ttotal: 860ms\tremaining: 41.4ms\n",
      "954:\tlearn: 0.0617851\ttotal: 860ms\tremaining: 40.5ms\n",
      "955:\tlearn: 0.0617082\ttotal: 861ms\tremaining: 39.6ms\n",
      "956:\tlearn: 0.0616211\ttotal: 862ms\tremaining: 38.7ms\n",
      "957:\tlearn: 0.0614848\ttotal: 863ms\tremaining: 37.8ms\n",
      "958:\tlearn: 0.0613789\ttotal: 864ms\tremaining: 36.9ms\n",
      "959:\tlearn: 0.0612616\ttotal: 864ms\tremaining: 36ms\n",
      "960:\tlearn: 0.0612337\ttotal: 865ms\tremaining: 35.1ms\n",
      "961:\tlearn: 0.0610984\ttotal: 866ms\tremaining: 34.2ms\n",
      "962:\tlearn: 0.0609431\ttotal: 867ms\tremaining: 33.3ms\n",
      "963:\tlearn: 0.0608098\ttotal: 868ms\tremaining: 32.4ms\n",
      "964:\tlearn: 0.0607611\ttotal: 868ms\tremaining: 31.5ms\n"
     ]
    },
    {
     "name": "stdout",
     "output_type": "stream",
     "text": [
      "965:\tlearn: 0.0606100\ttotal: 869ms\tremaining: 30.6ms\n",
      "966:\tlearn: 0.0605718\ttotal: 870ms\tremaining: 29.7ms\n",
      "967:\tlearn: 0.0605065\ttotal: 871ms\tremaining: 28.8ms\n",
      "968:\tlearn: 0.0603637\ttotal: 872ms\tremaining: 27.9ms\n",
      "969:\tlearn: 0.0603082\ttotal: 873ms\tremaining: 27ms\n",
      "970:\tlearn: 0.0601505\ttotal: 874ms\tremaining: 26.1ms\n",
      "971:\tlearn: 0.0600315\ttotal: 875ms\tremaining: 25.2ms\n",
      "972:\tlearn: 0.0599768\ttotal: 876ms\tremaining: 24.3ms\n",
      "973:\tlearn: 0.0598512\ttotal: 876ms\tremaining: 23.4ms\n",
      "974:\tlearn: 0.0597456\ttotal: 877ms\tremaining: 22.5ms\n",
      "975:\tlearn: 0.0596449\ttotal: 878ms\tremaining: 21.6ms\n",
      "976:\tlearn: 0.0596264\ttotal: 879ms\tremaining: 20.7ms\n",
      "977:\tlearn: 0.0595059\ttotal: 879ms\tremaining: 19.8ms\n",
      "978:\tlearn: 0.0594022\ttotal: 880ms\tremaining: 18.9ms\n",
      "979:\tlearn: 0.0593033\ttotal: 881ms\tremaining: 18ms\n",
      "980:\tlearn: 0.0591903\ttotal: 882ms\tremaining: 17.1ms\n",
      "981:\tlearn: 0.0590903\ttotal: 883ms\tremaining: 16.2ms\n",
      "982:\tlearn: 0.0590213\ttotal: 884ms\tremaining: 15.3ms\n",
      "983:\tlearn: 0.0590069\ttotal: 884ms\tremaining: 14.4ms\n",
      "984:\tlearn: 0.0588433\ttotal: 885ms\tremaining: 13.5ms\n",
      "985:\tlearn: 0.0588355\ttotal: 886ms\tremaining: 12.6ms\n",
      "986:\tlearn: 0.0587312\ttotal: 887ms\tremaining: 11.7ms\n",
      "987:\tlearn: 0.0586290\ttotal: 888ms\tremaining: 10.8ms\n",
      "988:\tlearn: 0.0585219\ttotal: 889ms\tremaining: 9.88ms\n",
      "989:\tlearn: 0.0584843\ttotal: 890ms\tremaining: 8.98ms\n",
      "990:\tlearn: 0.0584596\ttotal: 890ms\tremaining: 8.09ms\n",
      "991:\tlearn: 0.0584069\ttotal: 891ms\tremaining: 7.19ms\n",
      "992:\tlearn: 0.0582784\ttotal: 892ms\tremaining: 6.29ms\n",
      "993:\tlearn: 0.0581473\ttotal: 893ms\tremaining: 5.39ms\n",
      "994:\tlearn: 0.0580275\ttotal: 894ms\tremaining: 4.49ms\n",
      "995:\tlearn: 0.0579159\ttotal: 894ms\tremaining: 3.59ms\n",
      "996:\tlearn: 0.0578321\ttotal: 895ms\tremaining: 2.69ms\n",
      "997:\tlearn: 0.0578113\ttotal: 896ms\tremaining: 1.79ms\n",
      "998:\tlearn: 0.0577732\ttotal: 897ms\tremaining: 897us\n",
      "999:\tlearn: 0.0577183\ttotal: 898ms\tremaining: 0us\n"
     ]
    },
    {
     "data": {
      "text/plain": [
       "<catboost.core.CatBoostRegressor at 0x7ff27d2a8e50>"
      ]
     },
     "execution_count": 9,
     "metadata": {},
     "output_type": "execute_result"
    }
   ],
   "source": [
    "#Train the Model \n",
    "prior_model = ctb.CatBoostRegressor()\n",
    "prior_model.fit(X_train,Y_train)"
   ]
  },
  {
   "cell_type": "code",
   "execution_count": 10,
   "id": "af65dcda",
   "metadata": {
    "execution": {
     "iopub.execute_input": "2022-06-11T15:53:51.575009Z",
     "iopub.status.busy": "2022-06-11T15:53:51.574614Z",
     "iopub.status.idle": "2022-06-11T15:53:51.582123Z",
     "shell.execute_reply": "2022-06-11T15:53:51.582413Z"
    },
    "id": "af65dcda",
    "papermill": {
     "duration": 0.021754,
     "end_time": "2022-06-11T15:53:51.582527",
     "exception": false,
     "start_time": "2022-06-11T15:53:51.560773",
     "status": "completed"
    },
    "tags": []
   },
   "outputs": [
    {
     "data": {
      "application/scrapbook.scrap.json+json": {
       "data": 0.1556567281838982,
       "encoder": "json",
       "name": "Prior Model MSE",
       "version": 1
      }
     },
     "metadata": {
      "scrapbook": {
       "data": true,
       "display": false,
       "name": "Prior Model MSE"
      }
     },
     "output_type": "display_data"
    },
    {
     "data": {
      "application/scrapbook.scrap.json+json": {
       "data": 1.0039785783185144,
       "encoder": "json",
       "name": "ABC Pre-generator MSE",
       "version": 1
      }
     },
     "metadata": {
      "scrapbook": {
       "data": true,
       "display": false,
       "name": "ABC Pre-generator MSE"
      }
     },
     "output_type": "display_data"
    },
    {
     "data": {
      "application/scrapbook.scrap.json+json": {
       "data": 0.2558953421673083,
       "encoder": "json",
       "name": "Prior Model MSE",
       "version": 1
      }
     },
     "metadata": {
      "scrapbook": {
       "data": true,
       "display": false,
       "name": "Prior Model MSE"
      }
     },
     "output_type": "display_data"
    },
    {
     "data": {
      "application/scrapbook.scrap.json+json": {
       "data": 0.9495310879585726,
       "encoder": "json",
       "name": "ABC Pre-generator MSE",
       "version": 1
      }
     },
     "metadata": {
      "scrapbook": {
       "data": true,
       "display": false,
       "name": "ABC Pre-generator MSE"
      }
     },
     "output_type": "display_data"
    }
   ],
   "source": [
    "y_pred = prior_model.predict(X_test)\n",
    "y_abc = y_pred + np.random.normal(0,variance, y_pred.shape) + bias \n",
    "mse = mean_squared_error(y_pred,Y_test)\n",
    "sb.glue(\"Prior Model MSE\",mse)\n",
    "mse = mean_squared_error(y_abc,Y_test)\n",
    "sb.glue(\"ABC Pre-generator MSE\",mse)\n",
    "mae = mean_absolute_error(y_pred,Y_test)\n",
    "sb.glue(\"Prior Model MSE\",mae)\n",
    "mae = mean_absolute_error(y_abc,Y_test)\n",
    "sb.glue(\"ABC Pre-generator MSE\",mae)"
   ]
  },
  {
   "cell_type": "markdown",
   "id": "25609da2",
   "metadata": {
    "papermill": {
     "duration": 0.009842,
     "end_time": "2022-06-11T15:53:51.602554",
     "exception": false,
     "start_time": "2022-06-11T15:53:51.592712",
     "status": "completed"
    },
    "tags": []
   },
   "source": [
    "# ABC GAN Model"
   ]
  },
  {
   "cell_type": "code",
   "execution_count": 11,
   "id": "dfc3464d",
   "metadata": {
    "execution": {
     "iopub.execute_input": "2022-06-11T15:53:51.625560Z",
     "iopub.status.busy": "2022-06-11T15:53:51.625173Z",
     "iopub.status.idle": "2022-06-11T15:53:51.627534Z",
     "shell.execute_reply": "2022-06-11T15:53:51.627776Z"
    },
    "papermill": {
     "duration": 0.015524,
     "end_time": "2022-06-11T15:53:51.627887",
     "exception": false,
     "start_time": "2022-06-11T15:53:51.612363",
     "status": "completed"
    },
    "tags": []
   },
   "outputs": [],
   "source": [
    "gen = network.Generator(n_features+1).to(device)\n",
    "disc = network.Discriminator(n_features+1).to(device)\n",
    "\n",
    "criterion = torch.nn.BCELoss()\n",
    "gen_opt = torch.optim.Adam(gen.parameters(), lr=0.001, betas=(0.5, 0.999))\n",
    "disc_opt = torch.optim.Adam(disc.parameters(), lr=0.001, betas=(0.5, 0.999))"
   ]
  },
  {
   "cell_type": "code",
   "execution_count": 12,
   "id": "b75fdd85",
   "metadata": {
    "execution": {
     "iopub.execute_input": "2022-06-11T15:53:51.650534Z",
     "iopub.status.busy": "2022-06-11T15:53:51.650165Z",
     "iopub.status.idle": "2022-06-11T15:54:51.229599Z",
     "shell.execute_reply": "2022-06-11T15:54:51.229903Z"
    },
    "papermill": {
     "duration": 59.592059,
     "end_time": "2022-06-11T15:54:51.230026",
     "exception": false,
     "start_time": "2022-06-11T15:53:51.637967",
     "status": "completed"
    },
    "tags": []
   },
   "outputs": [
    {
     "data": {
      "image/png": "[encoded data removed]",
      "text/plain": [
       "<Figure size 432x288 with 1 Axes>"
      ]
     },
     "metadata": {
      "needs_background": "light"
     },
     "output_type": "display_data"
    },
    {
     "data": {
      "image/png": "[encoded data removed]",
      "text/plain": [
       "<Figure size 432x288 with 1 Axes>"
      ]
     },
     "metadata": {
      "needs_background": "light"
     },
     "output_type": "display_data"
    }
   ],
   "source": [
    "#Training the ABC_GAN \n",
    "ABC_train_test2.training_GAN(disc,gen,disc_opt,gen_opt,train_data,batch_size,n_epochs,criterion,prior_model,variance,bias,device)"
   ]
  },
  {
   "cell_type": "code",
   "execution_count": 13,
   "id": "1fa7c368",
   "metadata": {
    "execution": {
     "iopub.execute_input": "2022-06-11T15:54:51.255614Z",
     "iopub.status.busy": "2022-06-11T15:54:51.255216Z",
     "iopub.status.idle": "2022-06-11T15:54:51.645551Z",
     "shell.execute_reply": "2022-06-11T15:54:51.645851Z"
    },
    "papermill": {
     "duration": 0.405012,
     "end_time": "2022-06-11T15:54:51.645974",
     "exception": false,
     "start_time": "2022-06-11T15:54:51.240962",
     "status": "completed"
    },
    "tags": []
   },
   "outputs": [
    {
     "data": {
      "application/scrapbook.scrap.json+json": {
       "data": 0.16565156000724546,
       "encoder": "json",
       "name": "ABC-GAN Model 1 MSE",
       "version": 1
      }
     },
     "metadata": {
      "scrapbook": {
       "data": true,
       "display": false,
       "name": "ABC-GAN Model 1 MSE"
      }
     },
     "output_type": "display_data"
    },
    {
     "data": {
      "application/scrapbook.scrap.json+json": {
       "data": 0.28442277455848514,
       "encoder": "json",
       "name": "ABC-GAN Model 1 MAE",
       "version": 1
      }
     },
     "metadata": {
      "scrapbook": {
       "data": true,
       "display": false,
       "name": "ABC-GAN Model 1 MAE"
      }
     },
     "output_type": "display_data"
    },
    {
     "data": {
      "application/scrapbook.scrap.json+json": {
       "data": 29.011123004965484,
       "encoder": "json",
       "name": "ABC-GAN Model 1 Manhattan Distance",
       "version": 1
      }
     },
     "metadata": {
      "scrapbook": {
       "data": true,
       "display": false,
       "name": "ABC-GAN Model 1 Manhattan Distance"
      }
     },
     "output_type": "display_data"
    },
    {
     "data": {
      "application/scrapbook.scrap.json+json": {
       "data": 4.1094402886523484,
       "encoder": "json",
       "name": "ABC-GAN Model 1 Euclidean distance",
       "version": 1
      }
     },
     "metadata": {
      "scrapbook": {
       "data": true,
       "display": false,
       "name": "ABC-GAN Model 1 Euclidean distance"
      }
     },
     "output_type": "display_data"
    },
    {
     "data": {
      "application/scrapbook.scrap.json+json": {
       "data": [
        [
         0.16791677872072847,
         0.1654595118223439,
         0.17270638554338405,
         0.17377472137428868,
         0.16060058023183552,
         0.16207943436511132,
         0.16842391734641732,
         0.17990111095684833,
         0.15926488703163297,
         0.15919523322630347,
         0.1683606463314325,
         0.1618638171604693,
         0.16679018462690617,
         0.1665579486371181,
         0.17103394137225317,
         0.17082466861322448,
         0.16949461749813016,
         0.17218862053355466,
         0.1529231031871756,
         0.16315608870333556,
         0.16500661065132724,
         0.15509244864350138,
         0.16870931183033544,
         0.17332405331677342,
         0.16033190196757127,
         0.15670670557227914,
         0.16743594110023738,
         0.1767461481024243,
         0.17433589081464687,
         0.17090430695392117,
         0.1589957035558728,
         0.16490281387211758,
         0.16829991198381766,
         0.1638359756869799,
         0.15985057103728773,
         0.15763827590611726,
         0.15650323191653168,
         0.15208606434682834,
         0.1736246857238485,
         0.15834559542459276,
         0.1707792095431365,
         0.16235991457824217,
         0.16486798742132555,
         0.15974908304264254,
         0.17039812864129814,
         0.16474574109816126,
         0.1651975051105488,
         0.15988396882856015,
         0.16553583806757743,
         0.16413577757141118,
         0.16480092045859127,
         0.17956017810972533,
         0.15544687862547307,
         0.15757667576482107,
         0.17620639617192477,
         0.16641972737667363,
         0.18958166315366626,
         0.16862222191708695,
         0.15415260004367545,
         0.17290171839423488,
         0.1729108785054444,
         0.17180631117778072,
         0.172127335706505,
         0.17129986513264833,
         0.17497783112430088,
         0.1601339390984068,
         0.16126428818980187,
         0.17354298603117208,
         0.16829364980813072,
         0.15574764827202786,
         0.1609714253951374,
         0.16590045813676071,
         0.15424978632768457,
         0.16781371063989511,
         0.1565278415396841,
         0.16287006199597043,
         0.1680590134614246,
         0.14452793537594502,
         0.17334097999985046,
         0.16338831681853924,
         0.16674111942612807,
         0.1717859155731117,
         0.17574440794450544,
         0.17852742625662876,
         0.17228285188419243,
         0.1686854637113699,
         0.15464173047489183,
         0.16483434078926343,
         0.17164143203554233,
         0.15964402323474453,
         0.1551554077156371,
         0.1540537122719668,
         0.1671784994596439,
         0.1813158528738478,
         0.15543891256956643,
         0.1597161299793537,
         0.15818933981632072,
         0.1769541196000688,
         0.15944200208406928,
         0.16531457067830035
        ],
        [
         0.28657569166492014,
         0.28911159012247534,
         0.2931869451833122,
         0.2899578801337995,
         0.2828756516032359,
         0.2858343947605759,
         0.2854120961810444,
         0.2950845174126181,
         0.2778332188871561,
         0.2800678387284279,
         0.2870818502178379,
         0.28622829946963224,
         0.2888172885731739,
         0.28713683243475707,
         0.28159054825265034,
         0.2881737797356704,
         0.2895330330174343,
         0.29054097871423934,
         0.26799708601160377,
         0.28447416128919406,
         0.2850342887800698,
         0.2758027689494923,
         0.2841438845384355,
         0.282412710252638,
         0.28216147970627337,
         0.28025861099070193,
         0.28640808800564094,
         0.3033935026283942,
         0.2885129472934732,
         0.2786181624613556,
         0.2854020239821836,
         0.28453332963673506,
         0.29162321604934394,
         0.2830932421208012,
         0.2767231316470048,
         0.28307589753439616,
         0.27804305959565967,
         0.2795799671873158,
         0.2885780455727203,
         0.2856866013550875,
         0.2834641809995268,
         0.2809818034589875,
         0.2844487349776661,
         0.28063888917220575,
         0.28333850128247456,
         0.28697756462383506,
         0.2785690143412235,
         0.2853225186540216,
         0.28099576077040506,
         0.2819618870522462,
         0.2848810501323611,
         0.28927669206670686,
         0.2801640982210052,
         0.2805277276418957,
         0.28619067513329144,
         0.2837143188671154,
         0.29253992277617547,
         0.2845343207100443,
         0.27759052422262875,
         0.2809397213745351,
         0.2850277713481702,
         0.2877597408551796,
         0.2799430954836163,
         0.28867084368625107,
         0.28667657774891336,
         0.2828636559858626,
         0.2778555659540728,
         0.29526160299485804,
         0.284595744720861,
         0.28260877242713583,
         0.2869414945735651,
         0.2839661962626612,
         0.28288261497429773,
         0.2825569889197747,
         0.27708637875084785,
         0.2874949565705131,
         0.29304322381229964,
         0.26888695808456226,
         0.28578546325511794,
         0.2836251983090359,
         0.278238792155011,
         0.28212126870365706,
         0.29164639717954044,
         0.2857249924438257,
         0.2842258820858072,
         0.2888733834101289,
         0.2793481339353557,
         0.2842168169570904,
         0.29184090689409015,
         0.28280550310863,
         0.2830359853219752,
         0.2773222046739915,
         0.2858768362259748,
         0.2930232657521379,
         0.27965422299708803,
         0.2747535311489129,
         0.27818844438183543,
         0.2980133198639926,
         0.29018909951635435,
         0.28198907721568556
        ],
        [
         29.230720549821854,
         29.489382192492485,
         29.905068408697844,
         29.575703773647547,
         28.853316463530064,
         29.155108265578747,
         29.112033810466528,
         30.098620776087046,
         28.338988326489925,
         28.566919550299644,
         29.282348722219467,
         29.19528654590249,
         29.45936343446374,
         29.287956908345222,
         28.722235921770334,
         29.393725533038378,
         29.5323693677783,
         29.635179828852415,
         27.335702773183584,
         29.016364451497793,
         29.07349745556712,
         28.131882432848215,
         28.982676222920418,
         28.80609644576907,
         28.780470930039883,
         28.586378321051598,
         29.213624976575375,
         30.94613726809621,
         29.42832062393427,
         28.419052571058273,
         29.111006446182728,
         29.022399622946978,
         29.74556803703308,
         28.875510696321726,
         28.22575942799449,
         28.873741548508406,
         28.360392078757286,
         28.517156653106213,
         29.434960648417473,
         29.140033338218927,
         28.913346461951733,
         28.660143952816725,
         29.01377096772194,
         28.625166695564985,
         28.900527130812407,
         29.271711591631174,
         28.414039462804794,
         29.1028969027102,
         28.661567598581314,
         28.76011247932911,
         29.057867113500834,
         29.5062225908041,
         28.576738018542528,
         28.613828219473362,
         29.191448863595724,
         28.938860524445772,
         29.8390721231699,
         29.022500712424517,
         28.314233470708132,
         28.65585158020258,
         29.07283267751336,
         29.351493567228317,
         28.55419573932886,
         29.44442605599761,
         29.241010930389166,
         28.852092910557985,
         28.341267727315426,
         30.11668350547552,
         29.028765961527824,
         28.826094787567854,
         29.26803244650364,
         28.964552018791437,
         28.85402672737837,
         28.82081286981702,
         28.26281063258648,
         29.324485570192337,
         29.89040882885456,
         27.42646972462535,
         29.150117252022028,
         28.929770227521658,
         28.380356799811125,
         28.776369407773018,
         29.747932512313128,
         29.14394922927022,
         28.991039972752333,
         29.465085107833147,
         28.49350966140628,
         28.990115329623222,
         29.767772503197193,
         28.84616131708026,
         28.869670502841473,
         28.28686487674713,
         29.15943729504943,
         29.888373106718063,
         28.524730745702982,
         28.02486017718911,
         28.375221326947212,
         30.397358626127243,
         29.599288150668144,
         28.762885875999928
        ],
        [
         4.1385397701984585,
         4.108146809192568,
         4.19714799898993,
         4.2101094499047695,
         4.047376827483108,
         4.065968802787518,
         4.144784622792186,
         4.283679880383048,
         4.030510944933231,
         4.0296294853352155,
         4.14400602386219,
         4.063263386782584,
         4.124633175440506,
         4.121760638487641,
         4.176776510656253,
         4.174220430038273,
         4.157938309403986,
         4.19085185784735,
         3.9494501547800187,
         4.079451071864967,
         4.10252047970944,
         3.9773646754650422,
         4.14829480710981,
         4.2046466484487,
         4.043989861596128,
         3.998010001034574,
         4.132610070188599,
         4.245951849285068,
         4.216901808566805,
         4.175193325979045,
         4.0271033960775116,
         4.101229939293333,
         4.1432585029598865,
         4.087941966328773,
         4.037915086502359,
         4.009875826309832,
         3.9954135775268913,
         3.9386264818304983,
         4.208291570677173,
         4.018861870394211,
         4.173664980972948,
         4.069485383556588,
         4.1007968392710215,
         4.036633061147563,
         4.169005771333546,
         4.0992762278251575,
         4.104892875736951,
         4.038336887942007,
         4.109094241179301,
         4.091680499780493,
         4.09996266894911,
         4.2796189278009305,
         3.9819067819071625,
         4.009092282301786,
         4.239463693621674,
         4.12005002304835,
         4.3974230683064786,
         4.147223967371773,
         3.965295096768322,
         4.199520838882927,
         4.199632080022645,
         4.186196810965012,
         4.190105994132309,
         4.180022277874859,
         4.224658421065388,
         4.041492519854205,
         4.055731425447178,
         4.207301341142509,
         4.143181420168483,
         3.985757158150361,
         4.052047061708935,
         4.113617231822815,
         3.9665448699622474,
         4.137269447989737,
         3.99572769806049,
         4.075873688375166,
         4.140292184504049,
         3.8395116106539375,
         4.204851954585886,
         4.0823532815633445,
         4.124026452566117,
         4.185948326061538,
         4.233902409165752,
         4.267293929198707,
         4.191998436567889,
         4.148001603008336,
         3.9715811093869107,
         4.100378367968603,
         4.184187623377484,
         4.035305486570247,
         3.9781718900765193,
         3.9640230387499775,
         4.129431794434153,
         4.3004903200835685,
         3.9818047518802047,
         4.036216701057325,
         4.016878472304671,
         4.2484491522445005,
         4.0327514444328285,
         4.106347063898355
        ]
       ],
       "encoder": "json",
       "name": "ABC_GAN_1 Metrics",
       "version": 1
      }
     },
     "metadata": {
      "scrapbook": {
       "data": true,
       "display": false,
       "name": "ABC_GAN_1 Metrics"
      }
     },
     "output_type": "display_data"
    },
    {
     "name": "stdout",
     "output_type": "stream",
     "text": [
      "MSE\n",
      "0.16565156000724546\n"
     ]
    }
   ],
   "source": [
    "ABC_GAN1_metrics=ABC_train_test2.test_generator(gen,test_data,prior_model,variance,bias,\"1\",device)\n",
    "sb.glue(\"ABC_GAN_1 Metrics\",ABC_GAN1_metrics)\n",
    "\n",
    "print(\"MSE\")\n",
    "print(mean(ABC_GAN1_metrics[0]))"
   ]
  },
  {
   "cell_type": "code",
   "execution_count": 14,
   "id": "eb22ce5c",
   "metadata": {
    "execution": {
     "iopub.execute_input": "2022-06-11T15:54:51.675047Z",
     "iopub.status.busy": "2022-06-11T15:54:51.674601Z",
     "iopub.status.idle": "2022-06-11T15:54:52.020748Z",
     "shell.execute_reply": "2022-06-11T15:54:52.021272Z"
    },
    "papermill": {
     "duration": 0.362213,
     "end_time": "2022-06-11T15:54:52.021421",
     "exception": false,
     "start_time": "2022-06-11T15:54:51.659208",
     "status": "completed"
    },
    "tags": []
   },
   "outputs": [
    {
     "data": {
      "image/png": "[encoded data removed]",
      "text/plain": [
       "<Figure size 432x288 with 1 Axes>"
      ]
     },
     "metadata": {
      "needs_background": "light"
     },
     "output_type": "display_data"
    },
    {
     "data": {
      "image/png": "[encoded data removed]",
      "text/plain": [
       "<Figure size 432x288 with 1 Axes>"
      ]
     },
     "metadata": {
      "needs_background": "light"
     },
     "output_type": "display_data"
    },
    {
     "data": {
      "image/png": "[encoded data removed]",
      "text/plain": [
       "<Figure size 432x288 with 1 Axes>"
      ]
     },
     "metadata": {
      "needs_background": "light"
     },
     "output_type": "display_data"
    },
    {
     "data": {
      "image/png": "[encoded data removed]",
      "text/plain": [
       "<Figure size 432x288 with 1 Axes>"
      ]
     },
     "metadata": {
      "needs_background": "light"
     },
     "output_type": "display_data"
    }
   ],
   "source": [
    "sanityChecks.discProbVsError(train_data,disc,device)\n",
    "sanityChecks.discProbVsError(test_data,disc,device)"
   ]
  },
  {
   "cell_type": "markdown",
   "id": "130f3a4d",
   "metadata": {
    "id": "130f3a4d",
    "papermill": {
     "duration": 0.015036,
     "end_time": "2022-06-11T15:54:52.051719",
     "exception": false,
     "start_time": "2022-06-11T15:54:52.036683",
     "status": "completed"
    },
    "tags": []
   },
   "source": [
    "# ABC - GAN Model with skip connection"
   ]
  },
  {
   "cell_type": "code",
   "execution_count": 15,
   "id": "4e43dad1",
   "metadata": {
    "execution": {
     "iopub.execute_input": "2022-06-11T15:54:52.085808Z",
     "iopub.status.busy": "2022-06-11T15:54:52.085415Z",
     "iopub.status.idle": "2022-06-11T15:54:52.088291Z",
     "shell.execute_reply": "2022-06-11T15:54:52.088624Z"
    },
    "id": "4e43dad1",
    "papermill": {
     "duration": 0.021823,
     "end_time": "2022-06-11T15:54:52.088789",
     "exception": false,
     "start_time": "2022-06-11T15:54:52.066966",
     "status": "completed"
    },
    "tags": []
   },
   "outputs": [],
   "source": [
    "#Generator\n",
    "gen3 = network.GeneratorWithSkipConnection(n_features+1).to(device)\n",
    "constraints=network.weightConstraint()\n",
    "#Discriminator \n",
    "disc3 = network.Discriminator(n_features+1).to(device)\n",
    "\n",
    "criterion = torch.nn.BCELoss()\n",
    "gen_opt = torch.optim.Adam(gen3.parameters(), lr=0.001, betas=(0.5, 0.999))\n",
    "disc_opt = torch.optim.Adam(disc3.parameters(), lr=0.001, betas=(0.5, 0.999))\n"
   ]
  },
  {
   "cell_type": "code",
   "execution_count": 16,
   "id": "26acbc37",
   "metadata": {
    "execution": {
     "iopub.execute_input": "2022-06-11T15:54:52.122877Z",
     "iopub.status.busy": "2022-06-11T15:54:52.122424Z",
     "iopub.status.idle": "2022-06-11T15:57:44.603096Z",
     "shell.execute_reply": "2022-06-11T15:57:44.603416Z"
    },
    "id": "26acbc37",
    "papermill": {
     "duration": 172.499578,
     "end_time": "2022-06-11T15:57:44.603542",
     "exception": false,
     "start_time": "2022-06-11T15:54:52.103964",
     "status": "completed"
    },
    "tags": []
   },
   "outputs": [
    {
     "data": {
      "image/png": "[encoded data removed]",
      "text/plain": [
       "<Figure size 432x288 with 1 Axes>"
      ]
     },
     "metadata": {
      "needs_background": "light"
     },
     "output_type": "display_data"
    },
    {
     "data": {
      "image/png": "[encoded data removed]",
      "text/plain": [
       "<Figure size 432x288 with 1 Axes>"
      ]
     },
     "metadata": {
      "needs_background": "light"
     },
     "output_type": "display_data"
    }
   ],
   "source": [
    "ABC_train_test2.training_GAN_skip_connection(disc3,gen3,disc_opt,gen_opt,train_data,batch_size,n_epochs,criterion,prior_model,variance,bias,device)"
   ]
  },
  {
   "cell_type": "code",
   "execution_count": 17,
   "id": "c5e0717b",
   "metadata": {
    "execution": {
     "iopub.execute_input": "2022-06-11T15:57:44.638480Z",
     "iopub.status.busy": "2022-06-11T15:57:44.638094Z",
     "iopub.status.idle": "2022-06-11T15:57:45.473414Z",
     "shell.execute_reply": "2022-06-11T15:57:45.473708Z"
    },
    "id": "c5e0717b",
    "papermill": {
     "duration": 0.85442,
     "end_time": "2022-06-11T15:57:45.473830",
     "exception": false,
     "start_time": "2022-06-11T15:57:44.619410",
     "status": "completed"
    },
    "tags": []
   },
   "outputs": [
    {
     "data": {
      "application/scrapbook.scrap.json+json": {
       "data": 0.1558263860069245,
       "encoder": "json",
       "name": "ABC-GAN Model 3 MSE",
       "version": 1
      }
     },
     "metadata": {
      "scrapbook": {
       "data": true,
       "display": false,
       "name": "ABC-GAN Model 3 MSE"
      }
     },
     "output_type": "display_data"
    },
    {
     "data": {
      "application/scrapbook.scrap.json+json": {
       "data": 0.27194920153010127,
       "encoder": "json",
       "name": "ABC-GAN Model 3 MAE",
       "version": 1
      }
     },
     "metadata": {
      "scrapbook": {
       "data": true,
       "display": false,
       "name": "ABC-GAN Model 3 MAE"
      }
     },
     "output_type": "display_data"
    },
    {
     "data": {
      "application/scrapbook.scrap.json+json": {
       "data": 27.738818556070328,
       "encoder": "json",
       "name": "ABC-GAN Model 3 Manhattan Distance",
       "version": 1
      }
     },
     "metadata": {
      "scrapbook": {
       "data": true,
       "display": false,
       "name": "ABC-GAN Model 3 Manhattan Distance"
      }
     },
     "output_type": "display_data"
    },
    {
     "data": {
      "application/scrapbook.scrap.json+json": {
       "data": 3.9860204985274574,
       "encoder": "json",
       "name": "ABC-GAN Model 3 Euclidean distance",
       "version": 1
      }
     },
     "metadata": {
      "scrapbook": {
       "data": true,
       "display": false,
       "name": "ABC-GAN Model 3 Euclidean distance"
      }
     },
     "output_type": "display_data"
    },
    {
     "data": {
      "application/scrapbook.scrap.json+json": {
       "data": [
        [
         0.1520113305127013,
         0.14629896403696752,
         0.15320621392790984,
         0.16777356728710435,
         0.14502689471075408,
         0.15487210551916814,
         0.1427236816580161,
         0.15051799908307306,
         0.15685740528174943,
         0.15116733846784708,
         0.16088097228640352,
         0.1567125860414075,
         0.1517450898423373,
         0.14480821070821528,
         0.16053053931693675,
         0.15803485500122028,
         0.15983528602493768,
         0.15536696053860763,
         0.14951309454134973,
         0.15034877575872302,
         0.15842594690442355,
         0.1517407920706754,
         0.15822270550828774,
         0.147942217557943,
         0.16025446326755857,
         0.1598754893805775,
         0.14932213008760287,
         0.16008631533389944,
         0.15643419564791777,
         0.15788712510675165,
         0.1455626060554033,
         0.1557760925162205,
         0.1601204145306415,
         0.1625948509899151,
         0.15414438456188947,
         0.14251728929790616,
         0.15471433046940183,
         0.15635501029561283,
         0.1574269480808642,
         0.15355558006824438,
         0.15272317910166475,
         0.1448457288633051,
         0.1574210243027512,
         0.16022956778883282,
         0.15300469216233056,
         0.15770081318450893,
         0.15469112066079505,
         0.1516538805477463,
         0.15497910851730826,
         0.15661948461527117,
         0.15618786408105645,
         0.15643123659823024,
         0.15845468771601387,
         0.17195587718443406,
         0.15825597679726056,
         0.1538555807140547,
         0.16552211723115481,
         0.14868295376103083,
         0.16170772205541203,
         0.15917442750458616,
         0.1506351636163803,
         0.15673969298584325,
         0.1640780195529458,
         0.16426429009521593,
         0.15768496398954485,
         0.16899769468170447,
         0.1589257135549841,
         0.15743879994670076,
         0.1466910693008919,
         0.16206535532439598,
         0.16008844638802427,
         0.16639010359148962,
         0.14908348420367828,
         0.15983525100892604,
         0.1602899408952085,
         0.16280405802445397,
         0.1532000126441573,
         0.1619618996165088,
         0.15343892159990516,
         0.1533145737824351,
         0.1481023513355109,
         0.14934607686792603,
         0.15510673238073927,
         0.16852326562498093,
         0.14879204272943888,
         0.15375408799434384,
         0.1604610057025582,
         0.14847232412050612,
         0.14673375985665574,
         0.15743108107326165,
         0.15362406869725048,
         0.15447800036094989,
         0.16153006069050524,
         0.16009158128449902,
         0.1529626286550167,
         0.15427789777427378,
         0.1665987833478444,
         0.16221502809670063,
         0.15793166195239947,
         0.14899090567878148
        ],
        [
         0.26956025010668766,
         0.2577905875137624,
         0.276167530895156,
         0.284150942831355,
         0.2735506862621097,
         0.2664531682270999,
         0.26086574526248024,
         0.26629058151122403,
         0.27812462369454843,
         0.2673329284012902,
         0.2778871412589854,
         0.2761808196630548,
         0.2722067762458441,
         0.26427175363927496,
         0.2793193761551497,
         0.26849171676326034,
         0.2686832520526414,
         0.27397199526575267,
         0.2760420562516825,
         0.2693613537897666,
         0.2651145495839563,
         0.27039804101428566,
         0.27206450901633383,
         0.2666687012522244,
         0.28125056854503994,
         0.27617432699337896,
         0.2665657961704567,
         0.27226092954914943,
         0.2724161780274966,
         0.2783906246151994,
         0.2682833265074912,
         0.270962335863242,
         0.27182324533807295,
         0.28205508384488376,
         0.2757839967734089,
         0.26356232790824247,
         0.27640414380413647,
         0.26974550221918847,
         0.2749689916404439,
         0.27011273856110435,
         0.2708242999791515,
         0.2638072143217512,
         0.2722282688334292,
         0.2744760169629373,
         0.27558585223467913,
         0.2632247361117134,
         0.26764472657997235,
         0.2711995994562612,
         0.27239221564548854,
         0.2696713749319315,
         0.2740023337377637,
         0.2712316372450076,
         0.27154895630391207,
         0.2870609803746144,
         0.2745782194987816,
         0.26280764179925126,
         0.2787967581009748,
         0.26035515054622116,
         0.27342563747044873,
         0.27433365419068756,
         0.27788341158599245,
         0.27206445525528167,
         0.2752052432693103,
         0.27921985407524247,
         0.2740951178631946,
         0.27577554737674254,
         0.27505325449301915,
         0.27254329004562367,
         0.26868162022940084,
         0.2667036710635704,
         0.28338548800378455,
         0.27252805214740483,
         0.26567663833060684,
         0.2749987790616704,
         0.2722355807747911,
         0.27803159779047265,
         0.2678395496206541,
         0.27942357968319864,
         0.27454558493313835,
         0.2711605227680183,
         0.26677499474117566,
         0.2718334016481451,
         0.2561679797648799,
         0.28185715215901536,
         0.266064249088659,
         0.27890504542372974,
         0.2658331215600757,
         0.26659365695919474,
         0.2659479266799548,
         0.275847347891506,
         0.26673751539897683,
         0.27321000568860887,
         0.2672105450183153,
         0.2753144902560641,
         0.26975794132871955,
         0.27123271188169135,
         0.2800556342026182,
         0.27790107764303684,
         0.2702616134329754,
         0.26945842652782503
        ],
        [
         27.49514551088214,
         26.29463992640376,
         28.169088151305914,
         28.98339616879821,
         27.90216999873519,
         27.17822315916419,
         26.608306016772985,
         27.16163931414485,
         28.36871161684394,
         27.2679586969316,
         28.34448840841651,
         28.17044360563159,
         27.7650911770761,
         26.955718871206045,
         28.49057636782527,
         27.386155109852552,
         27.40569170936942,
         27.94514351710677,
         28.156289737671614,
         27.474858086556196,
         27.041684057563543,
         27.580600183457136,
         27.750579919666052,
         27.20020752772689,
         28.687557991594076,
         28.16978135332465,
         27.189711209386587,
         27.770614814013243,
         27.786450158804655,
         28.39584371075034,
         27.364899303764105,
         27.63815825805068,
         27.725971024483442,
         28.769618552178144,
         28.12996767088771,
         26.88335744664073,
         28.193222668021917,
         27.51404122635722,
         28.046837147325277,
         27.55149933323264,
         27.62407859787345,
         26.908335860818624,
         27.76728342100978,
         27.996553730219603,
         28.10975692793727,
         26.848923083394766,
         27.29976211115718,
         27.66235914453864,
         27.784005995839834,
         27.506480243057013,
         27.948238041251898,
         27.665626998990774,
         27.69799354299903,
         29.28021999821067,
         28.006978388875723,
         26.806379463523626,
         28.43726932629943,
         26.55622535571456,
         27.88941502198577,
         27.982032727450132,
         28.34410798177123,
         27.750574436038733,
         28.07093481346965,
         28.480425115674734,
         27.95770202204585,
         28.12910583242774,
         28.055431958287954,
         27.799415584653616,
         27.405525263398886,
         27.203774448484182,
         28.905319776386023,
         27.79786131903529,
         27.0990171097219,
         28.04987546429038,
         27.768029239028692,
         28.35922297462821,
         27.319634061306715,
         28.501205127686262,
         28.003649663180113,
         27.658373322337866,
         27.21104946359992,
         27.7270069681108,
         26.12913393601775,
         28.749429520219564,
         27.13855340704322,
         28.448314633220434,
         27.114978399127722,
         27.192553009837866,
         27.12668852135539,
         28.136429484933615,
         27.20722657069564,
         27.867420580238104,
         27.255475591868162,
         28.082078006118536,
         27.515310015529394,
         27.665736611932516,
         28.56567468866706,
         28.345909919589758,
         27.56668457016349,
         27.484759505838156
        ],
        [
         3.93765865868228,
         3.862964448680661,
         3.953104327063328,
         4.136774572451905,
         3.8461335468879545,
         3.974538308150413,
         3.815470551467753,
         3.918269504063426,
         3.9999319167628897,
         3.9267121773463867,
         4.050908438018954,
         3.998085013631347,
         3.934208835829436,
         3.843232687756228,
         4.046494162893053,
         4.014916588190155,
         4.0377220278943975,
         3.9808830647154125,
         3.905167812427229,
         3.9160662823029115,
         4.019881414202564,
         3.934153122491408,
         4.0173020750057296,
         3.8845985881311065,
         4.043013140380696,
         4.038229799902292,
         3.9026730927577695,
         4.040891506098344,
         3.9945322574849254,
         4.013039591243608,
         3.853230568970813,
         3.9861211016042257,
         4.041321848371575,
         4.072428612139363,
         3.965189431201582,
         3.812710782158336,
         3.9725132734679423,
         3.993521134306479,
         4.007187131174204,
         3.957609021487712,
         3.946867652755765,
         3.8437305243808546,
         4.007111737758335,
         4.0426990877953,
         3.9505035882223565,
         4.010671133964976,
         3.972215289659045,
         3.9330262922932673,
         3.975911099202979,
         3.996897225443464,
         3.9913859918915082,
         3.9944944777805724,
         4.020246030659494,
         4.188018561660428,
         4.017724434716818,
         3.961473113985955,
         4.108923941566428,
         3.8943114004436197,
         4.06130368842962,
         4.029366154306132,
         3.919794215117776,
         3.9984307777621972,
         4.090960522224637,
         4.093282007107747,
         4.010469589329107,
         4.151838732120246,
         4.026216931886355,
         4.007337968597542,
         3.8681376744747564,
         4.0657922036287575,
         4.040918401994586,
         4.119683308985283,
         3.8995532293809227,
         4.0377215856111786,
         4.043460642977902,
         4.075047719781243,
         3.9530243219216405,
         4.06449428107408,
         3.9561054085034595,
         3.9545020578839476,
         3.8867003790132975,
         3.9029860159278638,
         3.9775478253360332,
         4.14600688539564,
         3.8957397703649,
         3.9601662812845464,
         4.045617700878438,
         3.8915520117674935,
         3.868700493108621,
         4.0072397319692135,
         3.958491506510977,
         3.9694780559686795,
         4.059072084902106,
         4.040957966994819,
         3.9499605216776157,
         3.966906297478669,
         4.122265869819671,
         4.06766921785234,
         4.013605551015787,
         3.8983422604019404
        ]
       ],
       "encoder": "json",
       "name": "ABC_GAN_3 Metrics",
       "version": 1
      }
     },
     "metadata": {
      "scrapbook": {
       "data": true,
       "display": false,
       "name": "ABC_GAN_3 Metrics"
      }
     },
     "output_type": "display_data"
    },
    {
     "name": "stdout",
     "output_type": "stream",
     "text": [
      "MSE\n",
      "0.1558263860069245\n"
     ]
    }
   ],
   "source": [
    "ABC_GAN3_metrics=ABC_train_test2.test_generator(gen3,test_data,prior_model,variance,bias,\"3\",device)\n",
    "sb.glue(\"ABC_GAN_3 Metrics\",ABC_GAN3_metrics)\n",
    "\n",
    "print(\"MSE\")\n",
    "print(mean(ABC_GAN3_metrics[0]))"
   ]
  },
  {
   "cell_type": "code",
   "execution_count": 18,
   "id": "c8e46b48",
   "metadata": {
    "execution": {
     "iopub.execute_input": "2022-06-11T15:57:45.511754Z",
     "iopub.status.busy": "2022-06-11T15:57:45.511367Z",
     "iopub.status.idle": "2022-06-11T15:57:45.837227Z",
     "shell.execute_reply": "2022-06-11T15:57:45.837641Z"
    },
    "id": "c8e46b48",
    "papermill": {
     "duration": 0.346494,
     "end_time": "2022-06-11T15:57:45.837762",
     "exception": false,
     "start_time": "2022-06-11T15:57:45.491268",
     "status": "completed"
    },
    "tags": []
   },
   "outputs": [
    {
     "data": {
      "image/png": "[encoded data removed]",
      "text/plain": [
       "<Figure size 432x288 with 1 Axes>"
      ]
     },
     "metadata": {
      "needs_background": "light"
     },
     "output_type": "display_data"
    },
    {
     "data": {
      "image/png": "[encoded data removed]",
      "text/plain": [
       "<Figure size 432x288 with 1 Axes>"
      ]
     },
     "metadata": {
      "needs_background": "light"
     },
     "output_type": "display_data"
    },
    {
     "data": {
      "image/png": "[encoded data removed]",
      "text/plain": [
       "<Figure size 432x288 with 1 Axes>"
      ]
     },
     "metadata": {
      "needs_background": "light"
     },
     "output_type": "display_data"
    },
    {
     "data": {
      "image/png": "[encoded data removed]",
      "text/plain": [
       "<Figure size 432x288 with 1 Axes>"
      ]
     },
     "metadata": {
      "needs_background": "light"
     },
     "output_type": "display_data"
    }
   ],
   "source": [
    "sanityChecks.discProbVsError(train_data,disc3,device)\n",
    "sanityChecks.discProbVsError(test_data,disc3,device)"
   ]
  },
  {
   "cell_type": "markdown",
   "id": "a5bd74c3",
   "metadata": {
    "id": "a5bd74c3",
    "papermill": {
     "duration": 0.019921,
     "end_time": "2022-06-11T15:57:45.877412",
     "exception": false,
     "start_time": "2022-06-11T15:57:45.857491",
     "status": "completed"
    },
    "tags": []
   },
   "source": [
    "## Skip Connection Model Analysis - ABC-GAN "
   ]
  },
  {
   "cell_type": "markdown",
   "id": "5744a8bf",
   "metadata": {
    "id": "5744a8bf",
    "papermill": {
     "duration": 0.019302,
     "end_time": "2022-06-11T15:57:45.916480",
     "exception": false,
     "start_time": "2022-06-11T15:57:45.897178",
     "status": "completed"
    },
    "tags": []
   },
   "source": [
    "### Weight Analysis \n",
    "\n",
    "Study the weights of the skip connection layer\n",
    "\n",
    "Equation of the skip connection is \n",
    "\n",
    "$output = y_{gan} * w + y_{abc} * (1-w)$"
   ]
  },
  {
   "cell_type": "code",
   "execution_count": 19,
   "id": "52c31dea",
   "metadata": {
    "execution": {
     "iopub.execute_input": "2022-06-11T15:57:45.957775Z",
     "iopub.status.busy": "2022-06-11T15:57:45.957372Z",
     "iopub.status.idle": "2022-06-11T15:57:45.960677Z",
     "shell.execute_reply": "2022-06-11T15:57:45.960908Z"
    },
    "id": "52c31dea",
    "papermill": {
     "duration": 0.025412,
     "end_time": "2022-06-11T15:57:45.961020",
     "exception": false,
     "start_time": "2022-06-11T15:57:45.935608",
     "status": "completed"
    },
    "tags": []
   },
   "outputs": [
    {
     "name": "stdout",
     "output_type": "stream",
     "text": [
      "Weight of the node at skip connection\n",
      "Parameter containing:\n",
      "tensor([[0.1391]], requires_grad=True)\n"
     ]
    },
    {
     "data": {
      "application/scrapbook.scrap.json+json": {
       "data": 0.13905514776706696,
       "encoder": "json",
       "name": "Skip Connection Weight",
       "version": 1
      }
     },
     "metadata": {
      "scrapbook": {
       "data": true,
       "display": false,
       "name": "Skip Connection Weight"
      }
     },
     "output_type": "display_data"
    }
   ],
   "source": [
    "print(\"Weight of the node at skip connection\")\n",
    "for name,param in gen3.named_parameters():\n",
    "    if(name == \"skipNode.weight\"):\n",
    "        print(param)\n",
    "        sb.glue(\"Skip Connection Weight\",param.item())"
   ]
  }
 ],
 "metadata": {
  "colab": {
   "collapsed_sections": [],
   "name": "ABC_GAN_Model-Catboost_Pre-gen.ipynb",
   "provenance": []
  },
  "interpreter": {
   "hash": "31f2aee4e71d21fbe5cf8b01ff0e069b9275f58929596ceb00d14d90e3e16cd6"
  },
  "kernelspec": {
   "display_name": "Python 3 (ipykernel)",
   "language": "python",
   "name": "python3"
  },
  "language_info": {
   "codemirror_mode": {
    "name": "ipython",
    "version": 3
   },
   "file_extension": ".py",
   "mimetype": "text/x-python",
   "name": "python",
   "nbconvert_exporter": "python",
   "pygments_lexer": "ipython3",
   "version": "3.8.11"
  },
  "papermill": {
   "default_parameters": {},
   "duration": 238.387987,
   "end_time": "2022-06-11T15:57:46.288536",
   "environment_variables": {},
   "exception": null,
   "input_path": "ABC_GAN-Catboost.ipynb",
   "output_path": "./ABC_GAN_Catboost/ABC-GAN_output_2_1.ipynb",
   "parameters": {
    "bias": 1,
    "variance": 0.1
   },
   "start_time": "2022-06-11T15:53:47.900549",
   "version": "2.3.3"
  }
 },
 "nbformat": 4,
 "nbformat_minor": 5
}