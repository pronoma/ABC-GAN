{
 "cells": [
  {
   "cell_type": "markdown",
   "id": "622780e6",
   "metadata": {
    "id": "622780e6",
    "papermill": {
     "duration": 0.034122,
     "end_time": "2022-06-12T08:40:07.166625",
     "exception": false,
     "start_time": "2022-06-12T08:40:07.132503",
     "status": "completed"
    },
    "tags": []
   },
   "source": [
    "## Import Libraries "
   ]
  },
  {
   "cell_type": "code",
   "execution_count": 1,
   "id": "a62397e3",
   "metadata": {
    "execution": {
     "iopub.execute_input": "2022-06-12T08:40:07.202880Z",
     "iopub.status.busy": "2022-06-12T08:40:07.202354Z",
     "iopub.status.idle": "2022-06-12T08:40:07.204891Z",
     "shell.execute_reply": "2022-06-12T08:40:07.205275Z"
    },
    "id": "a62397e3",
    "papermill": {
     "duration": 0.02262,
     "end_time": "2022-06-12T08:40:07.205499",
     "exception": false,
     "start_time": "2022-06-12T08:40:07.182879",
     "status": "completed"
    },
    "tags": []
   },
   "outputs": [],
   "source": [
    "import warnings\n",
    "import sys\n",
    "sys.path.insert(0, '../../src')\n",
    "warnings.filterwarnings('ignore')"
   ]
  },
  {
   "cell_type": "code",
   "execution_count": 2,
   "id": "d6a4e155",
   "metadata": {
    "execution": {
     "iopub.execute_input": "2022-06-12T08:40:07.226156Z",
     "iopub.status.busy": "2022-06-12T08:40:07.225743Z",
     "iopub.status.idle": "2022-06-12T08:40:08.788669Z",
     "shell.execute_reply": "2022-06-12T08:40:08.788901Z"
    },
    "id": "d6a4e155",
    "papermill": {
     "duration": 1.573631,
     "end_time": "2022-06-12T08:40:08.789031",
     "exception": false,
     "start_time": "2022-06-12T08:40:07.215400",
     "status": "completed"
    },
    "tags": []
   },
   "outputs": [],
   "source": [
    "import ABC_train_test2\n",
    "import bostonDataset\n",
    "import network\n",
    "import dataset\n",
    "import sanityChecks\n",
    "import torch \n",
    "import scrapbook as sb\n",
    "from statistics import mean \n",
    "import catboost as ctb \n",
    "from sklearn.model_selection import train_test_split\n",
    "from sklearn.metrics import mean_squared_error,mean_absolute_error\n",
    "import numpy as np"
   ]
  },
  {
   "cell_type": "markdown",
   "id": "2fa5b0f7",
   "metadata": {
    "id": "2fa5b0f7",
    "papermill": {
     "duration": 0.006786,
     "end_time": "2022-06-12T08:40:08.803039",
     "exception": false,
     "start_time": "2022-06-12T08:40:08.796253",
     "status": "completed"
    },
    "tags": []
   },
   "source": [
    "## Parameters "
   ]
  },
  {
   "cell_type": "code",
   "execution_count": 3,
   "id": "783186fb",
   "metadata": {
    "execution": {
     "iopub.execute_input": "2022-06-12T08:40:08.818641Z",
     "iopub.status.busy": "2022-06-12T08:40:08.818280Z",
     "iopub.status.idle": "2022-06-12T08:40:08.819489Z",
     "shell.execute_reply": "2022-06-12T08:40:08.819720Z"
    },
    "id": "783186fb",
    "papermill": {
     "duration": 0.010041,
     "end_time": "2022-06-12T08:40:08.819824",
     "exception": false,
     "start_time": "2022-06-12T08:40:08.809783",
     "status": "completed"
    },
    "tags": [
     "parameters"
    ]
   },
   "outputs": [],
   "source": [
    "variance = 1\n",
    "bias = 1 "
   ]
  },
  {
   "cell_type": "code",
   "execution_count": 4,
   "id": "b710627d",
   "metadata": {
    "execution": {
     "iopub.execute_input": "2022-06-12T08:40:08.835419Z",
     "iopub.status.busy": "2022-06-12T08:40:08.835043Z",
     "iopub.status.idle": "2022-06-12T08:40:08.836280Z",
     "shell.execute_reply": "2022-06-12T08:40:08.836523Z"
    },
    "papermill": {
     "duration": 0.009915,
     "end_time": "2022-06-12T08:40:08.836627",
     "exception": false,
     "start_time": "2022-06-12T08:40:08.826712",
     "status": "completed"
    },
    "tags": [
     "injected-parameters"
    ]
   },
   "outputs": [],
   "source": [
    "# Parameters\n",
    "variance = 0.01\n",
    "bias = 0.1\n"
   ]
  },
  {
   "cell_type": "markdown",
   "id": "391cdbfd",
   "metadata": {
    "id": "391cdbfd",
    "papermill": {
     "duration": 0.006773,
     "end_time": "2022-06-12T08:40:08.850263",
     "exception": false,
     "start_time": "2022-06-12T08:40:08.843490",
     "status": "completed"
    },
    "tags": []
   },
   "source": [
    "## Dataset \n"
   ]
  },
  {
   "cell_type": "code",
   "execution_count": 5,
   "id": "5b51f161",
   "metadata": {
    "execution": {
     "iopub.execute_input": "2022-06-12T08:40:08.865744Z",
     "iopub.status.busy": "2022-06-12T08:40:08.865403Z",
     "iopub.status.idle": "2022-06-12T08:40:08.866654Z",
     "shell.execute_reply": "2022-06-12T08:40:08.866899Z"
    },
    "id": "5b51f161",
    "papermill": {
     "duration": 0.009887,
     "end_time": "2022-06-12T08:40:08.867006",
     "exception": false,
     "start_time": "2022-06-12T08:40:08.857119",
     "status": "completed"
    },
    "tags": []
   },
   "outputs": [],
   "source": [
    "#Parameters \n",
    "n_features = 13\n",
    "n_samples= 506\n",
    "n_target = 1 "
   ]
  },
  {
   "cell_type": "code",
   "execution_count": 6,
   "id": "5d6eced4",
   "metadata": {
    "execution": {
     "iopub.execute_input": "2022-06-12T08:40:08.882805Z",
     "iopub.status.busy": "2022-06-12T08:40:08.882446Z",
     "iopub.status.idle": "2022-06-12T08:40:08.892639Z",
     "shell.execute_reply": "2022-06-12T08:40:08.892886Z"
    },
    "id": "5d6eced4",
    "papermill": {
     "duration": 0.019014,
     "end_time": "2022-06-12T08:40:08.892997",
     "exception": false,
     "start_time": "2022-06-12T08:40:08.873983",
     "status": "completed"
    },
    "tags": []
   },
   "outputs": [
    {
     "name": "stdout",
     "output_type": "stream",
     "text": [
      "         X1        X2        X3        X4        X5        X6        X7  \\\n",
      "0 -0.419782  0.284830 -1.287909 -0.272599 -0.144217  0.413672 -0.120013   \n",
      "1 -0.417339 -0.487722 -0.593381 -0.272599 -0.740262  0.194274  0.367166   \n",
      "2 -0.417342 -0.487722 -0.593381 -0.272599 -0.740262  1.282714 -0.265812   \n",
      "3 -0.416750 -0.487722 -1.306878 -0.272599 -0.835284  1.016303 -0.809889   \n",
      "4 -0.412482 -0.487722 -1.306878 -0.272599 -0.835284  1.228577 -0.511180   \n",
      "\n",
      "         X8        X9       X10       X11       X12       X13         Y  \n",
      "0  0.140214 -0.982843 -0.666608 -1.459000  0.441052 -1.075562  0.159686  \n",
      "1  0.557160 -0.867883 -0.987329 -0.303094  0.441052 -0.492439 -0.101524  \n",
      "2  0.557160 -0.867883 -0.987329 -0.303094  0.396427 -1.208727  1.324247  \n",
      "3  1.077737 -0.752922 -1.106115  0.113032  0.416163 -1.361517  1.182758  \n",
      "4  1.077737 -0.752922 -1.106115  0.113032  0.441052 -1.026501  1.487503  \n"
     ]
    }
   ],
   "source": [
    "X,Y = bostonDataset.boston_data()"
   ]
  },
  {
   "cell_type": "code",
   "execution_count": 7,
   "id": "fe007438",
   "metadata": {
    "execution": {
     "iopub.execute_input": "2022-06-12T08:40:08.910020Z",
     "iopub.status.busy": "2022-06-12T08:40:08.909659Z",
     "iopub.status.idle": "2022-06-12T08:40:08.911155Z",
     "shell.execute_reply": "2022-06-12T08:40:08.911396Z"
    },
    "id": "fe007438",
    "papermill": {
     "duration": 0.011098,
     "end_time": "2022-06-12T08:40:08.911502",
     "exception": false,
     "start_time": "2022-06-12T08:40:08.900404",
     "status": "completed"
    },
    "tags": []
   },
   "outputs": [],
   "source": [
    "#Train test split for dataset \n",
    "X_train,X_test,Y_train,Y_test = train_test_split(X,Y,test_size = 0.2)\n",
    "train_data = dataset.CustomDataset(X_train,Y_train)\n",
    "test_data = dataset.CustomDataset(X_test,Y_test)\n"
   ]
  },
  {
   "cell_type": "markdown",
   "id": "a9a1af34",
   "metadata": {
    "id": "a9a1af34",
    "papermill": {
     "duration": 0.007091,
     "end_time": "2022-06-12T08:40:08.925854",
     "exception": false,
     "start_time": "2022-06-12T08:40:08.918763",
     "status": "completed"
    },
    "tags": []
   },
   "source": [
    "## Training Parameters "
   ]
  },
  {
   "cell_type": "code",
   "execution_count": 8,
   "id": "952b7fc8",
   "metadata": {
    "execution": {
     "iopub.execute_input": "2022-06-12T08:40:08.942379Z",
     "iopub.status.busy": "2022-06-12T08:40:08.942016Z",
     "iopub.status.idle": "2022-06-12T08:40:08.943309Z",
     "shell.execute_reply": "2022-06-12T08:40:08.943569Z"
    },
    "id": "952b7fc8",
    "papermill": {
     "duration": 0.010644,
     "end_time": "2022-06-12T08:40:08.943677",
     "exception": false,
     "start_time": "2022-06-12T08:40:08.933033",
     "status": "completed"
    },
    "tags": []
   },
   "outputs": [],
   "source": [
    "batch_size = 32\n",
    "n_epochs = 1000\n",
    "#Select the device \n",
    "device = torch.device('cuda' if torch.cuda.is_available() else 'cpu')"
   ]
  },
  {
   "cell_type": "markdown",
   "id": "a95e1600",
   "metadata": {
    "id": "a95e1600",
    "papermill": {
     "duration": 0.007077,
     "end_time": "2022-06-12T08:40:08.958027",
     "exception": false,
     "start_time": "2022-06-12T08:40:08.950950",
     "status": "completed"
    },
    "tags": []
   },
   "source": [
    "# ABC Pre-generator Model \n",
    "\n",
    "1. The catboost model is used as a pre-generator model for the ABC-GAN. \n",
    "2. The model is first trained on the entire dataset \n",
    "3. It generats X,Y pairs and we add some Gaussian noise with mean 0 and variance 1 to it which is then feed as input to the generator.\n"
   ]
  },
  {
   "cell_type": "code",
   "execution_count": 9,
   "id": "ff8ce7bd",
   "metadata": {
    "execution": {
     "iopub.execute_input": "2022-06-12T08:40:08.976929Z",
     "iopub.status.busy": "2022-06-12T08:40:08.976550Z",
     "iopub.status.idle": "2022-06-12T08:40:09.932039Z",
     "shell.execute_reply": "2022-06-12T08:40:09.932357Z"
    },
    "id": "ff8ce7bd",
    "papermill": {
     "duration": 0.9673,
     "end_time": "2022-06-12T08:40:09.932483",
     "exception": false,
     "start_time": "2022-06-12T08:40:08.965183",
     "status": "completed"
    },
    "tags": []
   },
   "outputs": [
    {
     "name": "stdout",
     "output_type": "stream",
     "text": [
      "Learning rate set to 0.033215\n",
      "0:\tlearn: 1.0094436\ttotal: 58.5ms\tremaining: 58.5s\n",
      "1:\tlearn: 0.9899531\ttotal: 59.7ms\tremaining: 29.8s\n",
      "2:\tlearn: 0.9694295\ttotal: 60.7ms\tremaining: 20.2s\n",
      "3:\tlearn: 0.9512024\ttotal: 61.7ms\tremaining: 15.4s\n",
      "4:\tlearn: 0.9323541\ttotal: 62.6ms\tremaining: 12.4s\n",
      "5:\tlearn: 0.9145796\ttotal: 63.5ms\tremaining: 10.5s\n",
      "6:\tlearn: 0.8999506\ttotal: 64.4ms\tremaining: 9.13s\n",
      "7:\tlearn: 0.8827686\ttotal: 65.3ms\tremaining: 8.09s\n",
      "8:\tlearn: 0.8671530\ttotal: 66.1ms\tremaining: 7.27s\n",
      "9:\tlearn: 0.8496660\ttotal: 66.9ms\tremaining: 6.62s\n",
      "10:\tlearn: 0.8343006\ttotal: 67.8ms\tremaining: 6.1s\n",
      "11:\tlearn: 0.8193593\ttotal: 68.6ms\tremaining: 5.65s\n",
      "12:\tlearn: 0.8041266\ttotal: 69.4ms\tremaining: 5.27s\n",
      "13:\tlearn: 0.7887206\ttotal: 70.2ms\tremaining: 4.95s\n",
      "14:\tlearn: 0.7754618\ttotal: 71ms\tremaining: 4.67s\n",
      "15:\tlearn: 0.7613528\ttotal: 71.8ms\tremaining: 4.42s\n",
      "16:\tlearn: 0.7493426\ttotal: 72.7ms\tremaining: 4.2s\n",
      "17:\tlearn: 0.7368239\ttotal: 73.5ms\tremaining: 4.01s\n",
      "18:\tlearn: 0.7236784\ttotal: 74.3ms\tremaining: 3.83s\n",
      "19:\tlearn: 0.7096236\ttotal: 75ms\tremaining: 3.68s\n",
      "20:\tlearn: 0.6953423\ttotal: 76ms\tremaining: 3.54s\n",
      "21:\tlearn: 0.6840487\ttotal: 76.8ms\tremaining: 3.41s\n",
      "22:\tlearn: 0.6731064\ttotal: 77.7ms\tremaining: 3.3s\n",
      "23:\tlearn: 0.6628605\ttotal: 78.4ms\tremaining: 3.19s\n",
      "24:\tlearn: 0.6522080\ttotal: 79.2ms\tremaining: 3.09s\n",
      "25:\tlearn: 0.6410231\ttotal: 79.9ms\tremaining: 2.99s\n",
      "26:\tlearn: 0.6323787\ttotal: 80.7ms\tremaining: 2.91s\n",
      "27:\tlearn: 0.6226619\ttotal: 81.3ms\tremaining: 2.82s\n",
      "28:\tlearn: 0.6148822\ttotal: 82ms\tremaining: 2.75s\n",
      "29:\tlearn: 0.6048193\ttotal: 82.9ms\tremaining: 2.68s\n",
      "30:\tlearn: 0.5952128\ttotal: 83.7ms\tremaining: 2.62s\n",
      "31:\tlearn: 0.5851619\ttotal: 84.5ms\tremaining: 2.56s\n",
      "32:\tlearn: 0.5772907\ttotal: 85.2ms\tremaining: 2.5s\n",
      "33:\tlearn: 0.5709723\ttotal: 86.2ms\tremaining: 2.45s\n",
      "34:\tlearn: 0.5627149\ttotal: 86.9ms\tremaining: 2.4s\n",
      "35:\tlearn: 0.5544540\ttotal: 87.8ms\tremaining: 2.35s\n",
      "36:\tlearn: 0.5485761\ttotal: 88.3ms\tremaining: 2.3s\n",
      "37:\tlearn: 0.5412481\ttotal: 89ms\tremaining: 2.25s\n",
      "38:\tlearn: 0.5350366\ttotal: 89.9ms\tremaining: 2.21s\n",
      "39:\tlearn: 0.5278024\ttotal: 90.8ms\tremaining: 2.18s\n",
      "40:\tlearn: 0.5199891\ttotal: 91.7ms\tremaining: 2.15s\n",
      "41:\tlearn: 0.5136696\ttotal: 92.6ms\tremaining: 2.11s\n",
      "42:\tlearn: 0.5075520\ttotal: 93.3ms\tremaining: 2.08s\n",
      "43:\tlearn: 0.5009355\ttotal: 94.3ms\tremaining: 2.05s\n",
      "44:\tlearn: 0.4962639\ttotal: 95.2ms\tremaining: 2.02s\n",
      "45:\tlearn: 0.4900447\ttotal: 96ms\tremaining: 1.99s\n",
      "46:\tlearn: 0.4832528\ttotal: 96.7ms\tremaining: 1.96s\n",
      "47:\tlearn: 0.4775814\ttotal: 97.4ms\tremaining: 1.93s\n",
      "48:\tlearn: 0.4723186\ttotal: 98.2ms\tremaining: 1.91s\n",
      "49:\tlearn: 0.4674533\ttotal: 99ms\tremaining: 1.88s\n",
      "50:\tlearn: 0.4612042\ttotal: 99.8ms\tremaining: 1.86s\n",
      "51:\tlearn: 0.4549686\ttotal: 101ms\tremaining: 1.84s\n",
      "52:\tlearn: 0.4496610\ttotal: 102ms\tremaining: 1.81s\n",
      "53:\tlearn: 0.4451448\ttotal: 102ms\tremaining: 1.79s\n",
      "54:\tlearn: 0.4404076\ttotal: 103ms\tremaining: 1.77s\n",
      "55:\tlearn: 0.4359888\ttotal: 104ms\tremaining: 1.76s\n",
      "56:\tlearn: 0.4305475\ttotal: 105ms\tremaining: 1.74s\n",
      "57:\tlearn: 0.4257977\ttotal: 106ms\tremaining: 1.72s\n",
      "58:\tlearn: 0.4226041\ttotal: 107ms\tremaining: 1.7s\n",
      "59:\tlearn: 0.4180709\ttotal: 108ms\tremaining: 1.68s\n",
      "60:\tlearn: 0.4136254\ttotal: 108ms\tremaining: 1.67s\n"
     ]
    },
    {
     "name": "stdout",
     "output_type": "stream",
     "text": [
      "61:\tlearn: 0.4086339\ttotal: 110ms\tremaining: 1.66s\n",
      "62:\tlearn: 0.4050648\ttotal: 111ms\tremaining: 1.64s\n",
      "63:\tlearn: 0.4015515\ttotal: 111ms\tremaining: 1.63s\n",
      "64:\tlearn: 0.3972961\ttotal: 112ms\tremaining: 1.61s\n",
      "65:\tlearn: 0.3936779\ttotal: 113ms\tremaining: 1.6s\n",
      "66:\tlearn: 0.3897199\ttotal: 114ms\tremaining: 1.59s\n",
      "67:\tlearn: 0.3858817\ttotal: 115ms\tremaining: 1.57s\n",
      "68:\tlearn: 0.3812618\ttotal: 116ms\tremaining: 1.56s\n",
      "69:\tlearn: 0.3775602\ttotal: 117ms\tremaining: 1.55s\n",
      "70:\tlearn: 0.3751350\ttotal: 118ms\tremaining: 1.54s\n",
      "71:\tlearn: 0.3720684\ttotal: 118ms\tremaining: 1.52s\n",
      "72:\tlearn: 0.3688637\ttotal: 119ms\tremaining: 1.51s\n",
      "73:\tlearn: 0.3654819\ttotal: 120ms\tremaining: 1.5s\n",
      "74:\tlearn: 0.3625010\ttotal: 121ms\tremaining: 1.49s\n",
      "75:\tlearn: 0.3585055\ttotal: 122ms\tremaining: 1.48s\n",
      "76:\tlearn: 0.3562020\ttotal: 123ms\tremaining: 1.47s\n",
      "77:\tlearn: 0.3532435\ttotal: 123ms\tremaining: 1.46s\n",
      "78:\tlearn: 0.3507250\ttotal: 124ms\tremaining: 1.45s\n",
      "79:\tlearn: 0.3478101\ttotal: 125ms\tremaining: 1.44s\n",
      "80:\tlearn: 0.3450620\ttotal: 126ms\tremaining: 1.43s\n",
      "81:\tlearn: 0.3421715\ttotal: 127ms\tremaining: 1.42s\n",
      "82:\tlearn: 0.3402685\ttotal: 128ms\tremaining: 1.41s\n",
      "83:\tlearn: 0.3375349\ttotal: 128ms\tremaining: 1.4s\n",
      "84:\tlearn: 0.3349880\ttotal: 129ms\tremaining: 1.39s\n",
      "85:\tlearn: 0.3327885\ttotal: 130ms\tremaining: 1.38s\n",
      "86:\tlearn: 0.3305816\ttotal: 131ms\tremaining: 1.37s\n",
      "87:\tlearn: 0.3283198\ttotal: 132ms\tremaining: 1.36s\n",
      "88:\tlearn: 0.3256958\ttotal: 133ms\tremaining: 1.36s\n",
      "89:\tlearn: 0.3237647\ttotal: 134ms\tremaining: 1.35s\n",
      "90:\tlearn: 0.3218584\ttotal: 134ms\tremaining: 1.34s\n",
      "91:\tlearn: 0.3198239\ttotal: 135ms\tremaining: 1.33s\n",
      "92:\tlearn: 0.3178445\ttotal: 136ms\tremaining: 1.33s\n",
      "93:\tlearn: 0.3156763\ttotal: 137ms\tremaining: 1.32s\n",
      "94:\tlearn: 0.3137231\ttotal: 138ms\tremaining: 1.31s\n",
      "95:\tlearn: 0.3123304\ttotal: 138ms\tremaining: 1.3s\n",
      "96:\tlearn: 0.3103686\ttotal: 139ms\tremaining: 1.3s\n",
      "97:\tlearn: 0.3087215\ttotal: 140ms\tremaining: 1.29s\n",
      "98:\tlearn: 0.3067450\ttotal: 141ms\tremaining: 1.28s\n",
      "99:\tlearn: 0.3049549\ttotal: 142ms\tremaining: 1.27s\n",
      "100:\tlearn: 0.3034998\ttotal: 143ms\tremaining: 1.27s\n",
      "101:\tlearn: 0.3019607\ttotal: 144ms\tremaining: 1.26s\n",
      "102:\tlearn: 0.3004789\ttotal: 145ms\tremaining: 1.26s\n",
      "103:\tlearn: 0.2991667\ttotal: 145ms\tremaining: 1.25s\n",
      "104:\tlearn: 0.2977781\ttotal: 146ms\tremaining: 1.25s\n",
      "105:\tlearn: 0.2960591\ttotal: 147ms\tremaining: 1.24s\n",
      "106:\tlearn: 0.2940866\ttotal: 148ms\tremaining: 1.24s\n",
      "107:\tlearn: 0.2922923\ttotal: 149ms\tremaining: 1.23s\n",
      "108:\tlearn: 0.2910778\ttotal: 150ms\tremaining: 1.23s\n",
      "109:\tlearn: 0.2900014\ttotal: 151ms\tremaining: 1.22s\n",
      "110:\tlearn: 0.2885892\ttotal: 152ms\tremaining: 1.21s\n",
      "111:\tlearn: 0.2874395\ttotal: 153ms\tremaining: 1.21s\n",
      "112:\tlearn: 0.2859215\ttotal: 154ms\tremaining: 1.21s\n",
      "113:\tlearn: 0.2848133\ttotal: 155ms\tremaining: 1.2s\n",
      "114:\tlearn: 0.2835056\ttotal: 156ms\tremaining: 1.2s\n",
      "115:\tlearn: 0.2828877\ttotal: 156ms\tremaining: 1.19s\n",
      "116:\tlearn: 0.2812627\ttotal: 157ms\tremaining: 1.19s\n",
      "117:\tlearn: 0.2797386\ttotal: 158ms\tremaining: 1.18s\n",
      "118:\tlearn: 0.2784754\ttotal: 159ms\tremaining: 1.18s\n",
      "119:\tlearn: 0.2775855\ttotal: 160ms\tremaining: 1.17s\n",
      "120:\tlearn: 0.2765660\ttotal: 161ms\tremaining: 1.17s\n",
      "121:\tlearn: 0.2754309\ttotal: 162ms\tremaining: 1.17s\n",
      "122:\tlearn: 0.2742412\ttotal: 163ms\tremaining: 1.16s\n",
      "123:\tlearn: 0.2726705\ttotal: 164ms\tremaining: 1.16s\n",
      "124:\tlearn: 0.2715853\ttotal: 165ms\tremaining: 1.15s\n",
      "125:\tlearn: 0.2705023\ttotal: 165ms\tremaining: 1.15s\n",
      "126:\tlearn: 0.2687462\ttotal: 166ms\tremaining: 1.14s\n",
      "127:\tlearn: 0.2678089\ttotal: 167ms\tremaining: 1.14s\n",
      "128:\tlearn: 0.2664423\ttotal: 168ms\tremaining: 1.13s\n",
      "129:\tlearn: 0.2654295\ttotal: 169ms\tremaining: 1.13s\n",
      "130:\tlearn: 0.2642926\ttotal: 170ms\tremaining: 1.13s\n",
      "131:\tlearn: 0.2633608\ttotal: 171ms\tremaining: 1.12s\n",
      "132:\tlearn: 0.2625219\ttotal: 171ms\tremaining: 1.12s\n",
      "133:\tlearn: 0.2616993\ttotal: 172ms\tremaining: 1.11s\n",
      "134:\tlearn: 0.2608780\ttotal: 173ms\tremaining: 1.11s\n",
      "135:\tlearn: 0.2599343\ttotal: 174ms\tremaining: 1.1s\n",
      "136:\tlearn: 0.2587751\ttotal: 175ms\tremaining: 1.1s\n",
      "137:\tlearn: 0.2576815\ttotal: 175ms\tremaining: 1.09s\n",
      "138:\tlearn: 0.2566066\ttotal: 176ms\tremaining: 1.09s\n",
      "139:\tlearn: 0.2558322\ttotal: 177ms\tremaining: 1.09s\n",
      "140:\tlearn: 0.2550816\ttotal: 178ms\tremaining: 1.08s\n",
      "141:\tlearn: 0.2541875\ttotal: 179ms\tremaining: 1.08s\n",
      "142:\tlearn: 0.2530247\ttotal: 179ms\tremaining: 1.07s\n",
      "143:\tlearn: 0.2521761\ttotal: 180ms\tremaining: 1.07s\n",
      "144:\tlearn: 0.2512665\ttotal: 181ms\tremaining: 1.07s\n",
      "145:\tlearn: 0.2504057\ttotal: 182ms\tremaining: 1.06s\n",
      "146:\tlearn: 0.2496028\ttotal: 183ms\tremaining: 1.06s\n",
      "147:\tlearn: 0.2486954\ttotal: 183ms\tremaining: 1.05s\n",
      "148:\tlearn: 0.2479442\ttotal: 184ms\tremaining: 1.05s\n",
      "149:\tlearn: 0.2471998\ttotal: 185ms\tremaining: 1.05s\n",
      "150:\tlearn: 0.2459959\ttotal: 186ms\tremaining: 1.04s\n",
      "151:\tlearn: 0.2453209\ttotal: 187ms\tremaining: 1.04s\n",
      "152:\tlearn: 0.2446227\ttotal: 188ms\tremaining: 1.04s\n",
      "153:\tlearn: 0.2440447\ttotal: 189ms\tremaining: 1.04s\n",
      "154:\tlearn: 0.2435149\ttotal: 190ms\tremaining: 1.03s\n",
      "155:\tlearn: 0.2426333\ttotal: 190ms\tremaining: 1.03s\n",
      "156:\tlearn: 0.2418978\ttotal: 191ms\tremaining: 1.02s\n"
     ]
    },
    {
     "name": "stdout",
     "output_type": "stream",
     "text": [
      "157:\tlearn: 0.2406905\ttotal: 192ms\tremaining: 1.02s\n",
      "158:\tlearn: 0.2398352\ttotal: 193ms\tremaining: 1.02s\n",
      "159:\tlearn: 0.2390793\ttotal: 194ms\tremaining: 1.02s\n",
      "160:\tlearn: 0.2383208\ttotal: 194ms\tremaining: 1.01s\n",
      "161:\tlearn: 0.2376048\ttotal: 195ms\tremaining: 1.01s\n",
      "162:\tlearn: 0.2369750\ttotal: 196ms\tremaining: 1.01s\n",
      "163:\tlearn: 0.2362866\ttotal: 197ms\tremaining: 1s\n",
      "164:\tlearn: 0.2353774\ttotal: 198ms\tremaining: 1000ms\n",
      "165:\tlearn: 0.2346802\ttotal: 198ms\tremaining: 997ms\n",
      "166:\tlearn: 0.2341344\ttotal: 199ms\tremaining: 994ms\n",
      "167:\tlearn: 0.2332286\ttotal: 200ms\tremaining: 991ms\n",
      "168:\tlearn: 0.2325286\ttotal: 201ms\tremaining: 988ms\n",
      "169:\tlearn: 0.2318679\ttotal: 202ms\tremaining: 986ms\n",
      "170:\tlearn: 0.2312258\ttotal: 203ms\tremaining: 983ms\n",
      "171:\tlearn: 0.2306210\ttotal: 204ms\tremaining: 980ms\n",
      "172:\tlearn: 0.2300577\ttotal: 204ms\tremaining: 977ms\n",
      "173:\tlearn: 0.2293281\ttotal: 205ms\tremaining: 974ms\n",
      "174:\tlearn: 0.2286752\ttotal: 206ms\tremaining: 972ms\n",
      "175:\tlearn: 0.2280738\ttotal: 207ms\tremaining: 969ms\n",
      "176:\tlearn: 0.2271469\ttotal: 208ms\tremaining: 966ms\n",
      "177:\tlearn: 0.2266827\ttotal: 209ms\tremaining: 964ms\n",
      "178:\tlearn: 0.2259989\ttotal: 209ms\tremaining: 961ms\n",
      "179:\tlearn: 0.2253146\ttotal: 210ms\tremaining: 958ms\n",
      "180:\tlearn: 0.2243770\ttotal: 211ms\tremaining: 954ms\n",
      "181:\tlearn: 0.2234989\ttotal: 212ms\tremaining: 951ms\n",
      "182:\tlearn: 0.2227081\ttotal: 212ms\tremaining: 948ms\n",
      "183:\tlearn: 0.2220111\ttotal: 213ms\tremaining: 946ms\n",
      "184:\tlearn: 0.2212551\ttotal: 214ms\tremaining: 943ms\n",
      "185:\tlearn: 0.2207354\ttotal: 215ms\tremaining: 939ms\n",
      "186:\tlearn: 0.2200107\ttotal: 215ms\tremaining: 937ms\n",
      "187:\tlearn: 0.2194188\ttotal: 216ms\tremaining: 934ms\n",
      "188:\tlearn: 0.2187678\ttotal: 217ms\tremaining: 932ms\n",
      "189:\tlearn: 0.2183002\ttotal: 218ms\tremaining: 929ms\n",
      "190:\tlearn: 0.2176042\ttotal: 219ms\tremaining: 927ms\n",
      "191:\tlearn: 0.2169492\ttotal: 220ms\tremaining: 924ms\n",
      "192:\tlearn: 0.2164050\ttotal: 220ms\tremaining: 922ms\n",
      "193:\tlearn: 0.2157797\ttotal: 221ms\tremaining: 919ms\n",
      "194:\tlearn: 0.2151802\ttotal: 222ms\tremaining: 917ms\n",
      "195:\tlearn: 0.2143474\ttotal: 223ms\tremaining: 914ms\n",
      "196:\tlearn: 0.2138317\ttotal: 224ms\tremaining: 912ms\n",
      "197:\tlearn: 0.2132388\ttotal: 225ms\tremaining: 910ms\n",
      "198:\tlearn: 0.2128397\ttotal: 225ms\tremaining: 907ms\n",
      "199:\tlearn: 0.2122558\ttotal: 226ms\tremaining: 905ms\n",
      "200:\tlearn: 0.2117836\ttotal: 227ms\tremaining: 902ms\n",
      "201:\tlearn: 0.2112688\ttotal: 228ms\tremaining: 900ms\n",
      "202:\tlearn: 0.2106938\ttotal: 229ms\tremaining: 901ms\n",
      "203:\tlearn: 0.2101314\ttotal: 230ms\tremaining: 898ms\n",
      "204:\tlearn: 0.2096090\ttotal: 231ms\tremaining: 896ms\n",
      "205:\tlearn: 0.2087266\ttotal: 232ms\tremaining: 894ms\n",
      "206:\tlearn: 0.2079452\ttotal: 233ms\tremaining: 891ms\n",
      "207:\tlearn: 0.2075614\ttotal: 233ms\tremaining: 889ms\n",
      "208:\tlearn: 0.2070464\ttotal: 234ms\tremaining: 887ms\n",
      "209:\tlearn: 0.2064049\ttotal: 235ms\tremaining: 885ms\n",
      "210:\tlearn: 0.2058009\ttotal: 236ms\tremaining: 882ms\n",
      "211:\tlearn: 0.2055440\ttotal: 237ms\tremaining: 880ms\n",
      "212:\tlearn: 0.2049362\ttotal: 238ms\tremaining: 878ms\n",
      "213:\tlearn: 0.2043809\ttotal: 239ms\tremaining: 877ms\n",
      "214:\tlearn: 0.2038366\ttotal: 240ms\tremaining: 875ms\n",
      "215:\tlearn: 0.2033626\ttotal: 240ms\tremaining: 873ms\n",
      "216:\tlearn: 0.2029123\ttotal: 241ms\tremaining: 870ms\n",
      "217:\tlearn: 0.2024105\ttotal: 242ms\tremaining: 868ms\n",
      "218:\tlearn: 0.2016848\ttotal: 243ms\tremaining: 866ms\n",
      "219:\tlearn: 0.2011187\ttotal: 244ms\tremaining: 864ms\n",
      "220:\tlearn: 0.2004583\ttotal: 244ms\tremaining: 862ms\n",
      "221:\tlearn: 0.2001096\ttotal: 245ms\tremaining: 859ms\n",
      "222:\tlearn: 0.1996846\ttotal: 246ms\tremaining: 857ms\n",
      "223:\tlearn: 0.1991413\ttotal: 247ms\tremaining: 855ms\n",
      "224:\tlearn: 0.1985220\ttotal: 248ms\tremaining: 853ms\n",
      "225:\tlearn: 0.1979990\ttotal: 249ms\tremaining: 851ms\n",
      "226:\tlearn: 0.1974984\ttotal: 249ms\tremaining: 849ms\n",
      "227:\tlearn: 0.1971666\ttotal: 250ms\tremaining: 847ms\n",
      "228:\tlearn: 0.1966314\ttotal: 251ms\tremaining: 845ms\n",
      "229:\tlearn: 0.1962907\ttotal: 252ms\tremaining: 843ms\n",
      "230:\tlearn: 0.1958460\ttotal: 253ms\tremaining: 841ms\n",
      "231:\tlearn: 0.1952281\ttotal: 253ms\tremaining: 838ms\n",
      "232:\tlearn: 0.1946590\ttotal: 254ms\tremaining: 836ms\n",
      "233:\tlearn: 0.1943191\ttotal: 255ms\tremaining: 834ms\n",
      "234:\tlearn: 0.1939506\ttotal: 256ms\tremaining: 832ms\n",
      "235:\tlearn: 0.1934355\ttotal: 256ms\tremaining: 830ms\n",
      "236:\tlearn: 0.1931624\ttotal: 257ms\tremaining: 828ms\n",
      "237:\tlearn: 0.1925980\ttotal: 258ms\tremaining: 826ms\n",
      "238:\tlearn: 0.1921496\ttotal: 259ms\tremaining: 824ms\n",
      "239:\tlearn: 0.1915928\ttotal: 260ms\tremaining: 822ms\n",
      "240:\tlearn: 0.1909555\ttotal: 260ms\tremaining: 820ms\n",
      "241:\tlearn: 0.1906476\ttotal: 261ms\tremaining: 817ms\n",
      "242:\tlearn: 0.1901009\ttotal: 262ms\tremaining: 816ms\n",
      "243:\tlearn: 0.1894650\ttotal: 263ms\tremaining: 814ms\n",
      "244:\tlearn: 0.1892237\ttotal: 264ms\tremaining: 812ms\n",
      "245:\tlearn: 0.1887696\ttotal: 265ms\tremaining: 811ms\n",
      "246:\tlearn: 0.1884956\ttotal: 265ms\tremaining: 809ms\n",
      "247:\tlearn: 0.1878496\ttotal: 266ms\tremaining: 807ms\n",
      "248:\tlearn: 0.1873257\ttotal: 267ms\tremaining: 806ms\n",
      "249:\tlearn: 0.1867683\ttotal: 268ms\tremaining: 804ms\n",
      "250:\tlearn: 0.1861900\ttotal: 269ms\tremaining: 802ms\n",
      "251:\tlearn: 0.1858501\ttotal: 270ms\tremaining: 800ms\n",
      "252:\tlearn: 0.1853719\ttotal: 270ms\tremaining: 798ms\n",
      "253:\tlearn: 0.1849535\ttotal: 271ms\tremaining: 796ms\n",
      "254:\tlearn: 0.1844299\ttotal: 272ms\tremaining: 795ms\n",
      "255:\tlearn: 0.1839611\ttotal: 273ms\tremaining: 793ms\n",
      "256:\tlearn: 0.1837642\ttotal: 274ms\tremaining: 791ms\n",
      "257:\tlearn: 0.1830123\ttotal: 275ms\tremaining: 790ms\n",
      "258:\tlearn: 0.1825165\ttotal: 275ms\tremaining: 788ms\n",
      "259:\tlearn: 0.1819235\ttotal: 276ms\tremaining: 786ms\n",
      "260:\tlearn: 0.1815598\ttotal: 277ms\tremaining: 784ms\n",
      "261:\tlearn: 0.1808626\ttotal: 278ms\tremaining: 783ms\n",
      "262:\tlearn: 0.1806151\ttotal: 279ms\tremaining: 781ms\n",
      "263:\tlearn: 0.1801670\ttotal: 279ms\tremaining: 779ms\n",
      "264:\tlearn: 0.1796477\ttotal: 280ms\tremaining: 777ms\n",
      "265:\tlearn: 0.1790852\ttotal: 281ms\tremaining: 776ms\n",
      "266:\tlearn: 0.1785558\ttotal: 282ms\tremaining: 774ms\n",
      "267:\tlearn: 0.1782509\ttotal: 283ms\tremaining: 772ms\n",
      "268:\tlearn: 0.1780633\ttotal: 284ms\tremaining: 771ms\n",
      "269:\tlearn: 0.1774027\ttotal: 284ms\tremaining: 769ms\n",
      "270:\tlearn: 0.1770136\ttotal: 285ms\tremaining: 767ms\n",
      "271:\tlearn: 0.1767022\ttotal: 286ms\tremaining: 765ms\n",
      "272:\tlearn: 0.1763015\ttotal: 287ms\tremaining: 763ms\n",
      "273:\tlearn: 0.1759923\ttotal: 287ms\tremaining: 762ms\n",
      "274:\tlearn: 0.1757257\ttotal: 288ms\tremaining: 760ms\n",
      "275:\tlearn: 0.1753764\ttotal: 289ms\tremaining: 758ms\n",
      "276:\tlearn: 0.1749716\ttotal: 290ms\tremaining: 757ms\n",
      "277:\tlearn: 0.1747393\ttotal: 291ms\tremaining: 755ms\n",
      "278:\tlearn: 0.1741630\ttotal: 292ms\tremaining: 754ms\n",
      "279:\tlearn: 0.1737322\ttotal: 292ms\tremaining: 752ms\n",
      "280:\tlearn: 0.1733227\ttotal: 293ms\tremaining: 750ms\n",
      "281:\tlearn: 0.1729981\ttotal: 294ms\tremaining: 749ms\n",
      "282:\tlearn: 0.1726402\ttotal: 295ms\tremaining: 747ms\n",
      "283:\tlearn: 0.1723383\ttotal: 296ms\tremaining: 746ms\n",
      "284:\tlearn: 0.1719988\ttotal: 297ms\tremaining: 744ms\n",
      "285:\tlearn: 0.1718161\ttotal: 297ms\tremaining: 742ms\n",
      "286:\tlearn: 0.1714363\ttotal: 298ms\tremaining: 741ms\n",
      "287:\tlearn: 0.1710125\ttotal: 299ms\tremaining: 739ms\n"
     ]
    },
    {
     "name": "stdout",
     "output_type": "stream",
     "text": [
      "288:\tlearn: 0.1708578\ttotal: 300ms\tremaining: 738ms\n",
      "289:\tlearn: 0.1705284\ttotal: 301ms\tremaining: 736ms\n",
      "290:\tlearn: 0.1700921\ttotal: 302ms\tremaining: 735ms\n",
      "291:\tlearn: 0.1696148\ttotal: 303ms\tremaining: 734ms\n",
      "292:\tlearn: 0.1694560\ttotal: 303ms\tremaining: 732ms\n",
      "293:\tlearn: 0.1689538\ttotal: 304ms\tremaining: 730ms\n",
      "294:\tlearn: 0.1685219\ttotal: 305ms\tremaining: 729ms\n",
      "295:\tlearn: 0.1683758\ttotal: 306ms\tremaining: 727ms\n",
      "296:\tlearn: 0.1679136\ttotal: 307ms\tremaining: 726ms\n",
      "297:\tlearn: 0.1672144\ttotal: 307ms\tremaining: 724ms\n",
      "298:\tlearn: 0.1669084\ttotal: 308ms\tremaining: 723ms\n",
      "299:\tlearn: 0.1665662\ttotal: 309ms\tremaining: 721ms\n",
      "300:\tlearn: 0.1660888\ttotal: 310ms\tremaining: 720ms\n",
      "301:\tlearn: 0.1658206\ttotal: 311ms\tremaining: 718ms\n",
      "302:\tlearn: 0.1654578\ttotal: 312ms\tremaining: 717ms\n",
      "303:\tlearn: 0.1649912\ttotal: 312ms\tremaining: 715ms\n",
      "304:\tlearn: 0.1645151\ttotal: 313ms\tremaining: 714ms\n",
      "305:\tlearn: 0.1640525\ttotal: 314ms\tremaining: 712ms\n",
      "306:\tlearn: 0.1635335\ttotal: 315ms\tremaining: 710ms\n",
      "307:\tlearn: 0.1631904\ttotal: 316ms\tremaining: 709ms\n",
      "308:\tlearn: 0.1628594\ttotal: 317ms\tremaining: 708ms\n",
      "309:\tlearn: 0.1623603\ttotal: 317ms\tremaining: 707ms\n",
      "310:\tlearn: 0.1622323\ttotal: 318ms\tremaining: 705ms\n",
      "311:\tlearn: 0.1618804\ttotal: 319ms\tremaining: 704ms\n",
      "312:\tlearn: 0.1614046\ttotal: 320ms\tremaining: 702ms\n",
      "313:\tlearn: 0.1610330\ttotal: 321ms\tremaining: 701ms\n",
      "314:\tlearn: 0.1606243\ttotal: 322ms\tremaining: 700ms\n",
      "315:\tlearn: 0.1602872\ttotal: 323ms\tremaining: 698ms\n",
      "316:\tlearn: 0.1601872\ttotal: 323ms\tremaining: 697ms\n",
      "317:\tlearn: 0.1599410\ttotal: 324ms\tremaining: 695ms\n",
      "318:\tlearn: 0.1595385\ttotal: 325ms\tremaining: 694ms\n",
      "319:\tlearn: 0.1591636\ttotal: 326ms\tremaining: 693ms\n",
      "320:\tlearn: 0.1590645\ttotal: 327ms\tremaining: 691ms\n",
      "321:\tlearn: 0.1586710\ttotal: 328ms\tremaining: 691ms\n",
      "322:\tlearn: 0.1583726\ttotal: 329ms\tremaining: 690ms\n",
      "323:\tlearn: 0.1581246\ttotal: 330ms\tremaining: 688ms\n",
      "324:\tlearn: 0.1577990\ttotal: 331ms\tremaining: 687ms\n",
      "325:\tlearn: 0.1573587\ttotal: 331ms\tremaining: 685ms\n",
      "326:\tlearn: 0.1569697\ttotal: 332ms\tremaining: 684ms\n",
      "327:\tlearn: 0.1568816\ttotal: 333ms\tremaining: 682ms\n",
      "328:\tlearn: 0.1566288\ttotal: 334ms\tremaining: 681ms\n",
      "329:\tlearn: 0.1562500\ttotal: 335ms\tremaining: 679ms\n",
      "330:\tlearn: 0.1561634\ttotal: 336ms\tremaining: 678ms\n",
      "331:\tlearn: 0.1557608\ttotal: 336ms\tremaining: 677ms\n",
      "332:\tlearn: 0.1556752\ttotal: 337ms\tremaining: 675ms\n",
      "333:\tlearn: 0.1554134\ttotal: 338ms\tremaining: 674ms\n",
      "334:\tlearn: 0.1551131\ttotal: 339ms\tremaining: 672ms\n",
      "335:\tlearn: 0.1546923\ttotal: 340ms\tremaining: 671ms\n",
      "336:\tlearn: 0.1543784\ttotal: 340ms\tremaining: 670ms\n",
      "337:\tlearn: 0.1539598\ttotal: 341ms\tremaining: 668ms\n",
      "338:\tlearn: 0.1538785\ttotal: 342ms\tremaining: 667ms\n",
      "339:\tlearn: 0.1537978\ttotal: 343ms\tremaining: 666ms\n",
      "340:\tlearn: 0.1535398\ttotal: 344ms\tremaining: 664ms\n",
      "341:\tlearn: 0.1533593\ttotal: 345ms\tremaining: 663ms\n",
      "342:\tlearn: 0.1530584\ttotal: 345ms\tremaining: 662ms\n",
      "343:\tlearn: 0.1526433\ttotal: 346ms\tremaining: 660ms\n",
      "344:\tlearn: 0.1522899\ttotal: 347ms\tremaining: 659ms\n",
      "345:\tlearn: 0.1522176\ttotal: 348ms\tremaining: 658ms\n",
      "346:\tlearn: 0.1519158\ttotal: 349ms\tremaining: 656ms\n",
      "347:\tlearn: 0.1517551\ttotal: 349ms\tremaining: 655ms\n",
      "348:\tlearn: 0.1515006\ttotal: 350ms\tremaining: 653ms\n",
      "349:\tlearn: 0.1511752\ttotal: 351ms\tremaining: 652ms\n",
      "350:\tlearn: 0.1509606\ttotal: 352ms\tremaining: 651ms\n",
      "351:\tlearn: 0.1505580\ttotal: 353ms\tremaining: 649ms\n",
      "352:\tlearn: 0.1502102\ttotal: 354ms\tremaining: 648ms\n",
      "353:\tlearn: 0.1497419\ttotal: 354ms\tremaining: 646ms\n",
      "354:\tlearn: 0.1493910\ttotal: 355ms\tremaining: 645ms\n",
      "355:\tlearn: 0.1491372\ttotal: 356ms\tremaining: 644ms\n",
      "356:\tlearn: 0.1488089\ttotal: 357ms\tremaining: 642ms\n",
      "357:\tlearn: 0.1487370\ttotal: 357ms\tremaining: 641ms\n",
      "358:\tlearn: 0.1486651\ttotal: 358ms\tremaining: 640ms\n",
      "359:\tlearn: 0.1485960\ttotal: 359ms\tremaining: 638ms\n",
      "360:\tlearn: 0.1484765\ttotal: 360ms\tremaining: 637ms\n",
      "361:\tlearn: 0.1481696\ttotal: 361ms\tremaining: 636ms\n",
      "362:\tlearn: 0.1479808\ttotal: 362ms\tremaining: 635ms\n",
      "363:\tlearn: 0.1479119\ttotal: 363ms\tremaining: 634ms\n",
      "364:\tlearn: 0.1476906\ttotal: 363ms\tremaining: 632ms\n",
      "365:\tlearn: 0.1474121\ttotal: 364ms\tremaining: 631ms\n",
      "366:\tlearn: 0.1469098\ttotal: 365ms\tremaining: 630ms\n",
      "367:\tlearn: 0.1468582\ttotal: 366ms\tremaining: 628ms\n",
      "368:\tlearn: 0.1466320\ttotal: 367ms\tremaining: 627ms\n",
      "369:\tlearn: 0.1463100\ttotal: 367ms\tremaining: 625ms\n",
      "370:\tlearn: 0.1461296\ttotal: 368ms\tremaining: 624ms\n",
      "371:\tlearn: 0.1456607\ttotal: 369ms\tremaining: 623ms\n",
      "372:\tlearn: 0.1452209\ttotal: 370ms\tremaining: 622ms\n",
      "373:\tlearn: 0.1450968\ttotal: 371ms\tremaining: 621ms\n",
      "374:\tlearn: 0.1450478\ttotal: 371ms\tremaining: 619ms\n",
      "375:\tlearn: 0.1449807\ttotal: 372ms\tremaining: 618ms\n",
      "376:\tlearn: 0.1448670\ttotal: 373ms\tremaining: 617ms\n",
      "377:\tlearn: 0.1446668\ttotal: 374ms\tremaining: 615ms\n",
      "378:\tlearn: 0.1444836\ttotal: 375ms\tremaining: 614ms\n",
      "379:\tlearn: 0.1441137\ttotal: 376ms\tremaining: 613ms\n",
      "380:\tlearn: 0.1438423\ttotal: 376ms\tremaining: 611ms\n",
      "381:\tlearn: 0.1437252\ttotal: 377ms\tremaining: 610ms\n",
      "382:\tlearn: 0.1435096\ttotal: 378ms\tremaining: 609ms\n",
      "383:\tlearn: 0.1433381\ttotal: 379ms\tremaining: 608ms\n",
      "384:\tlearn: 0.1431763\ttotal: 380ms\tremaining: 607ms\n",
      "385:\tlearn: 0.1430011\ttotal: 381ms\tremaining: 605ms\n",
      "386:\tlearn: 0.1425771\ttotal: 381ms\tremaining: 604ms\n"
     ]
    },
    {
     "name": "stdout",
     "output_type": "stream",
     "text": [
      "387:\tlearn: 0.1422660\ttotal: 382ms\tremaining: 603ms\n",
      "388:\tlearn: 0.1419078\ttotal: 383ms\tremaining: 602ms\n",
      "389:\tlearn: 0.1415575\ttotal: 384ms\tremaining: 601ms\n",
      "390:\tlearn: 0.1413778\ttotal: 385ms\tremaining: 599ms\n",
      "391:\tlearn: 0.1410096\ttotal: 386ms\tremaining: 598ms\n",
      "392:\tlearn: 0.1407347\ttotal: 387ms\tremaining: 597ms\n",
      "393:\tlearn: 0.1404109\ttotal: 388ms\tremaining: 596ms\n",
      "394:\tlearn: 0.1403181\ttotal: 388ms\tremaining: 595ms\n",
      "395:\tlearn: 0.1401304\ttotal: 389ms\tremaining: 594ms\n",
      "396:\tlearn: 0.1397964\ttotal: 390ms\tremaining: 592ms\n",
      "397:\tlearn: 0.1394749\ttotal: 391ms\tremaining: 591ms\n",
      "398:\tlearn: 0.1391101\ttotal: 391ms\tremaining: 590ms\n",
      "399:\tlearn: 0.1389037\ttotal: 392ms\tremaining: 588ms\n",
      "400:\tlearn: 0.1386669\ttotal: 393ms\tremaining: 587ms\n",
      "401:\tlearn: 0.1382823\ttotal: 394ms\tremaining: 586ms\n",
      "402:\tlearn: 0.1380587\ttotal: 395ms\tremaining: 585ms\n",
      "403:\tlearn: 0.1377531\ttotal: 396ms\tremaining: 584ms\n",
      "404:\tlearn: 0.1374710\ttotal: 396ms\tremaining: 582ms\n",
      "405:\tlearn: 0.1371305\ttotal: 398ms\tremaining: 582ms\n",
      "406:\tlearn: 0.1368549\ttotal: 399ms\tremaining: 581ms\n",
      "407:\tlearn: 0.1366468\ttotal: 400ms\tremaining: 580ms\n",
      "408:\tlearn: 0.1363766\ttotal: 400ms\tremaining: 579ms\n",
      "409:\tlearn: 0.1362623\ttotal: 401ms\tremaining: 577ms\n",
      "410:\tlearn: 0.1362098\ttotal: 402ms\tremaining: 576ms\n",
      "411:\tlearn: 0.1359479\ttotal: 403ms\tremaining: 575ms\n",
      "412:\tlearn: 0.1356979\ttotal: 404ms\tremaining: 574ms\n",
      "413:\tlearn: 0.1354747\ttotal: 405ms\tremaining: 573ms\n",
      "414:\tlearn: 0.1351008\ttotal: 405ms\tremaining: 571ms\n",
      "415:\tlearn: 0.1349769\ttotal: 406ms\tremaining: 570ms\n",
      "416:\tlearn: 0.1349028\ttotal: 407ms\tremaining: 569ms\n",
      "417:\tlearn: 0.1346580\ttotal: 408ms\tremaining: 568ms\n",
      "418:\tlearn: 0.1344813\ttotal: 409ms\tremaining: 567ms\n",
      "419:\tlearn: 0.1341298\ttotal: 409ms\tremaining: 565ms\n",
      "420:\tlearn: 0.1339607\ttotal: 410ms\tremaining: 564ms\n",
      "421:\tlearn: 0.1337994\ttotal: 411ms\tremaining: 563ms\n",
      "422:\tlearn: 0.1336403\ttotal: 412ms\tremaining: 562ms\n",
      "423:\tlearn: 0.1334206\ttotal: 413ms\tremaining: 561ms\n",
      "424:\tlearn: 0.1330444\ttotal: 413ms\tremaining: 559ms\n",
      "425:\tlearn: 0.1327244\ttotal: 414ms\tremaining: 558ms\n",
      "426:\tlearn: 0.1326692\ttotal: 415ms\tremaining: 557ms\n",
      "427:\tlearn: 0.1323483\ttotal: 416ms\tremaining: 556ms\n",
      "428:\tlearn: 0.1322948\ttotal: 417ms\tremaining: 554ms\n",
      "429:\tlearn: 0.1321346\ttotal: 417ms\tremaining: 553ms\n",
      "430:\tlearn: 0.1315731\ttotal: 418ms\tremaining: 552ms\n",
      "431:\tlearn: 0.1314649\ttotal: 419ms\tremaining: 551ms\n",
      "432:\tlearn: 0.1314139\ttotal: 420ms\tremaining: 550ms\n",
      "433:\tlearn: 0.1311574\ttotal: 421ms\tremaining: 549ms\n",
      "434:\tlearn: 0.1308200\ttotal: 421ms\tremaining: 547ms\n",
      "435:\tlearn: 0.1306589\ttotal: 422ms\tremaining: 546ms\n",
      "436:\tlearn: 0.1305661\ttotal: 423ms\tremaining: 545ms\n",
      "437:\tlearn: 0.1302609\ttotal: 424ms\tremaining: 544ms\n",
      "438:\tlearn: 0.1301048\ttotal: 425ms\tremaining: 543ms\n",
      "439:\tlearn: 0.1300599\ttotal: 425ms\tremaining: 541ms\n",
      "440:\tlearn: 0.1296904\ttotal: 426ms\tremaining: 540ms\n",
      "441:\tlearn: 0.1294933\ttotal: 427ms\tremaining: 539ms\n",
      "442:\tlearn: 0.1292271\ttotal: 428ms\tremaining: 538ms\n",
      "443:\tlearn: 0.1290425\ttotal: 429ms\tremaining: 537ms\n",
      "444:\tlearn: 0.1287778\ttotal: 429ms\tremaining: 536ms\n",
      "445:\tlearn: 0.1286163\ttotal: 430ms\tremaining: 535ms\n",
      "446:\tlearn: 0.1283234\ttotal: 431ms\tremaining: 533ms\n",
      "447:\tlearn: 0.1282552\ttotal: 432ms\tremaining: 532ms\n",
      "448:\tlearn: 0.1279851\ttotal: 433ms\tremaining: 531ms\n",
      "449:\tlearn: 0.1277389\ttotal: 434ms\tremaining: 530ms\n",
      "450:\tlearn: 0.1275028\ttotal: 434ms\tremaining: 529ms\n",
      "451:\tlearn: 0.1273010\ttotal: 435ms\tremaining: 528ms\n",
      "452:\tlearn: 0.1270838\ttotal: 436ms\tremaining: 527ms\n",
      "453:\tlearn: 0.1267430\ttotal: 437ms\tremaining: 526ms\n",
      "454:\tlearn: 0.1264968\ttotal: 438ms\tremaining: 524ms\n",
      "455:\tlearn: 0.1263246\ttotal: 439ms\tremaining: 523ms\n",
      "456:\tlearn: 0.1259374\ttotal: 439ms\tremaining: 522ms\n",
      "457:\tlearn: 0.1257413\ttotal: 440ms\tremaining: 521ms\n",
      "458:\tlearn: 0.1256685\ttotal: 441ms\tremaining: 520ms\n",
      "459:\tlearn: 0.1255242\ttotal: 442ms\tremaining: 519ms\n",
      "460:\tlearn: 0.1253254\ttotal: 443ms\tremaining: 518ms\n",
      "461:\tlearn: 0.1250624\ttotal: 444ms\tremaining: 516ms\n",
      "462:\tlearn: 0.1248479\ttotal: 444ms\tremaining: 515ms\n",
      "463:\tlearn: 0.1245567\ttotal: 445ms\tremaining: 514ms\n",
      "464:\tlearn: 0.1243510\ttotal: 446ms\tremaining: 513ms\n",
      "465:\tlearn: 0.1240671\ttotal: 447ms\tremaining: 512ms\n",
      "466:\tlearn: 0.1236721\ttotal: 448ms\tremaining: 511ms\n",
      "467:\tlearn: 0.1234693\ttotal: 448ms\tremaining: 510ms\n",
      "468:\tlearn: 0.1232435\ttotal: 449ms\tremaining: 509ms\n",
      "469:\tlearn: 0.1229633\ttotal: 451ms\tremaining: 508ms\n",
      "470:\tlearn: 0.1228566\ttotal: 452ms\tremaining: 507ms\n",
      "471:\tlearn: 0.1227094\ttotal: 452ms\tremaining: 506ms\n",
      "472:\tlearn: 0.1225008\ttotal: 453ms\tremaining: 505ms\n",
      "473:\tlearn: 0.1222822\ttotal: 454ms\tremaining: 504ms\n",
      "474:\tlearn: 0.1222388\ttotal: 455ms\tremaining: 503ms\n",
      "475:\tlearn: 0.1220934\ttotal: 456ms\tremaining: 502ms\n",
      "476:\tlearn: 0.1218631\ttotal: 456ms\tremaining: 500ms\n",
      "477:\tlearn: 0.1215239\ttotal: 457ms\tremaining: 499ms\n",
      "478:\tlearn: 0.1212435\ttotal: 458ms\tremaining: 498ms\n",
      "479:\tlearn: 0.1211299\ttotal: 459ms\tremaining: 497ms\n",
      "480:\tlearn: 0.1207642\ttotal: 460ms\tremaining: 496ms\n",
      "481:\tlearn: 0.1205722\ttotal: 461ms\tremaining: 495ms\n",
      "482:\tlearn: 0.1203417\ttotal: 462ms\tremaining: 494ms\n",
      "483:\tlearn: 0.1200991\ttotal: 462ms\tremaining: 493ms\n",
      "484:\tlearn: 0.1198538\ttotal: 463ms\tremaining: 492ms\n",
      "485:\tlearn: 0.1196813\ttotal: 464ms\tremaining: 491ms\n",
      "486:\tlearn: 0.1194446\ttotal: 465ms\tremaining: 490ms\n",
      "487:\tlearn: 0.1192832\ttotal: 466ms\tremaining: 489ms\n",
      "488:\tlearn: 0.1190021\ttotal: 467ms\tremaining: 488ms\n",
      "489:\tlearn: 0.1187920\ttotal: 467ms\tremaining: 486ms\n",
      "490:\tlearn: 0.1185381\ttotal: 468ms\tremaining: 485ms\n",
      "491:\tlearn: 0.1183708\ttotal: 469ms\tremaining: 484ms\n",
      "492:\tlearn: 0.1181071\ttotal: 470ms\tremaining: 483ms\n",
      "493:\tlearn: 0.1179881\ttotal: 471ms\tremaining: 482ms\n",
      "494:\tlearn: 0.1179505\ttotal: 472ms\tremaining: 481ms\n",
      "495:\tlearn: 0.1179057\ttotal: 472ms\tremaining: 480ms\n",
      "496:\tlearn: 0.1177242\ttotal: 473ms\tremaining: 479ms\n",
      "497:\tlearn: 0.1175022\ttotal: 474ms\tremaining: 478ms\n",
      "498:\tlearn: 0.1174580\ttotal: 475ms\tremaining: 477ms\n",
      "499:\tlearn: 0.1172259\ttotal: 476ms\tremaining: 476ms\n",
      "500:\tlearn: 0.1170342\ttotal: 476ms\tremaining: 474ms\n",
      "501:\tlearn: 0.1168008\ttotal: 477ms\tremaining: 473ms\n",
      "502:\tlearn: 0.1165154\ttotal: 478ms\tremaining: 472ms\n",
      "503:\tlearn: 0.1164299\ttotal: 479ms\tremaining: 471ms\n",
      "504:\tlearn: 0.1162444\ttotal: 480ms\tremaining: 470ms\n",
      "505:\tlearn: 0.1158802\ttotal: 481ms\tremaining: 469ms\n",
      "506:\tlearn: 0.1157443\ttotal: 481ms\tremaining: 468ms\n",
      "507:\tlearn: 0.1155494\ttotal: 482ms\tremaining: 467ms\n",
      "508:\tlearn: 0.1153413\ttotal: 483ms\tremaining: 466ms\n",
      "509:\tlearn: 0.1151661\ttotal: 484ms\tremaining: 465ms\n",
      "510:\tlearn: 0.1150473\ttotal: 485ms\tremaining: 464ms\n",
      "511:\tlearn: 0.1149114\ttotal: 485ms\tremaining: 463ms\n",
      "512:\tlearn: 0.1147173\ttotal: 486ms\tremaining: 462ms\n",
      "513:\tlearn: 0.1145932\ttotal: 487ms\tremaining: 460ms\n",
      "514:\tlearn: 0.1143425\ttotal: 488ms\tremaining: 459ms\n",
      "515:\tlearn: 0.1141917\ttotal: 489ms\tremaining: 458ms\n",
      "516:\tlearn: 0.1138608\ttotal: 489ms\tremaining: 457ms\n"
     ]
    },
    {
     "name": "stdout",
     "output_type": "stream",
     "text": [
      "517:\tlearn: 0.1137238\ttotal: 490ms\tremaining: 456ms\n",
      "518:\tlearn: 0.1134682\ttotal: 491ms\tremaining: 455ms\n",
      "519:\tlearn: 0.1133817\ttotal: 492ms\tremaining: 454ms\n",
      "520:\tlearn: 0.1131227\ttotal: 493ms\tremaining: 453ms\n",
      "521:\tlearn: 0.1129050\ttotal: 494ms\tremaining: 452ms\n",
      "522:\tlearn: 0.1128409\ttotal: 495ms\tremaining: 451ms\n",
      "523:\tlearn: 0.1127927\ttotal: 495ms\tremaining: 450ms\n",
      "524:\tlearn: 0.1127317\ttotal: 496ms\tremaining: 449ms\n",
      "525:\tlearn: 0.1125892\ttotal: 497ms\tremaining: 448ms\n",
      "526:\tlearn: 0.1122442\ttotal: 498ms\tremaining: 447ms\n",
      "527:\tlearn: 0.1122030\ttotal: 499ms\tremaining: 446ms\n",
      "528:\tlearn: 0.1120113\ttotal: 500ms\tremaining: 445ms\n",
      "529:\tlearn: 0.1118505\ttotal: 501ms\tremaining: 444ms\n",
      "530:\tlearn: 0.1118155\ttotal: 501ms\tremaining: 443ms\n",
      "531:\tlearn: 0.1116016\ttotal: 502ms\tremaining: 442ms\n",
      "532:\tlearn: 0.1113013\ttotal: 503ms\tremaining: 441ms\n",
      "533:\tlearn: 0.1111474\ttotal: 504ms\tremaining: 440ms\n",
      "534:\tlearn: 0.1109631\ttotal: 505ms\tremaining: 439ms\n",
      "535:\tlearn: 0.1106400\ttotal: 506ms\tremaining: 438ms\n",
      "536:\tlearn: 0.1103996\ttotal: 506ms\tremaining: 437ms\n",
      "537:\tlearn: 0.1103367\ttotal: 507ms\tremaining: 436ms\n",
      "538:\tlearn: 0.1101438\ttotal: 508ms\tremaining: 435ms\n",
      "539:\tlearn: 0.1099739\ttotal: 509ms\tremaining: 434ms\n",
      "540:\tlearn: 0.1098934\ttotal: 510ms\tremaining: 432ms\n",
      "541:\tlearn: 0.1096866\ttotal: 511ms\tremaining: 432ms\n",
      "542:\tlearn: 0.1095388\ttotal: 512ms\tremaining: 431ms\n",
      "543:\tlearn: 0.1094423\ttotal: 513ms\tremaining: 430ms\n",
      "544:\tlearn: 0.1092511\ttotal: 513ms\tremaining: 429ms\n",
      "545:\tlearn: 0.1091129\ttotal: 514ms\tremaining: 427ms\n",
      "546:\tlearn: 0.1089538\ttotal: 515ms\tremaining: 426ms\n",
      "547:\tlearn: 0.1087712\ttotal: 516ms\tremaining: 425ms\n",
      "548:\tlearn: 0.1086469\ttotal: 517ms\tremaining: 424ms\n",
      "549:\tlearn: 0.1084080\ttotal: 517ms\tremaining: 423ms\n",
      "550:\tlearn: 0.1082486\ttotal: 518ms\tremaining: 422ms\n",
      "551:\tlearn: 0.1079661\ttotal: 519ms\tremaining: 421ms\n",
      "552:\tlearn: 0.1077476\ttotal: 520ms\tremaining: 420ms\n",
      "553:\tlearn: 0.1075559\ttotal: 521ms\tremaining: 420ms\n",
      "554:\tlearn: 0.1073443\ttotal: 522ms\tremaining: 419ms\n",
      "555:\tlearn: 0.1071283\ttotal: 523ms\tremaining: 418ms\n",
      "556:\tlearn: 0.1070440\ttotal: 524ms\tremaining: 416ms\n",
      "557:\tlearn: 0.1068476\ttotal: 524ms\tremaining: 415ms\n",
      "558:\tlearn: 0.1068163\ttotal: 525ms\tremaining: 414ms\n",
      "559:\tlearn: 0.1065922\ttotal: 526ms\tremaining: 413ms\n",
      "560:\tlearn: 0.1064358\ttotal: 527ms\tremaining: 412ms\n",
      "561:\tlearn: 0.1063815\ttotal: 528ms\tremaining: 411ms\n",
      "562:\tlearn: 0.1062200\ttotal: 528ms\tremaining: 410ms\n",
      "563:\tlearn: 0.1060509\ttotal: 529ms\tremaining: 409ms\n",
      "564:\tlearn: 0.1058542\ttotal: 530ms\tremaining: 408ms\n",
      "565:\tlearn: 0.1056465\ttotal: 531ms\tremaining: 407ms\n",
      "566:\tlearn: 0.1054077\ttotal: 532ms\tremaining: 406ms\n",
      "567:\tlearn: 0.1052276\ttotal: 532ms\tremaining: 405ms\n",
      "568:\tlearn: 0.1051072\ttotal: 533ms\tremaining: 404ms\n",
      "569:\tlearn: 0.1050283\ttotal: 534ms\tremaining: 403ms\n",
      "570:\tlearn: 0.1047724\ttotal: 535ms\tremaining: 402ms\n",
      "571:\tlearn: 0.1046791\ttotal: 535ms\tremaining: 401ms\n",
      "572:\tlearn: 0.1045952\ttotal: 536ms\tremaining: 399ms\n",
      "573:\tlearn: 0.1045416\ttotal: 537ms\tremaining: 398ms\n",
      "574:\tlearn: 0.1041921\ttotal: 538ms\tremaining: 397ms\n",
      "575:\tlearn: 0.1040596\ttotal: 539ms\tremaining: 396ms\n",
      "576:\tlearn: 0.1037854\ttotal: 539ms\tremaining: 395ms\n",
      "577:\tlearn: 0.1037066\ttotal: 540ms\tremaining: 394ms\n",
      "578:\tlearn: 0.1035889\ttotal: 541ms\tremaining: 393ms\n",
      "579:\tlearn: 0.1034126\ttotal: 542ms\tremaining: 392ms\n",
      "580:\tlearn: 0.1032670\ttotal: 543ms\tremaining: 391ms\n",
      "581:\tlearn: 0.1030669\ttotal: 543ms\tremaining: 390ms\n",
      "582:\tlearn: 0.1028457\ttotal: 544ms\tremaining: 389ms\n",
      "583:\tlearn: 0.1027309\ttotal: 545ms\tremaining: 388ms\n",
      "584:\tlearn: 0.1025220\ttotal: 546ms\tremaining: 387ms\n",
      "585:\tlearn: 0.1024307\ttotal: 547ms\tremaining: 386ms\n",
      "586:\tlearn: 0.1022889\ttotal: 548ms\tremaining: 385ms\n",
      "587:\tlearn: 0.1022094\ttotal: 548ms\tremaining: 384ms\n",
      "588:\tlearn: 0.1021274\ttotal: 549ms\tremaining: 383ms\n",
      "589:\tlearn: 0.1018972\ttotal: 550ms\tremaining: 382ms\n",
      "590:\tlearn: 0.1016612\ttotal: 551ms\tremaining: 381ms\n",
      "591:\tlearn: 0.1015691\ttotal: 552ms\tremaining: 380ms\n",
      "592:\tlearn: 0.1014642\ttotal: 553ms\tremaining: 379ms\n",
      "593:\tlearn: 0.1013309\ttotal: 554ms\tremaining: 378ms\n",
      "594:\tlearn: 0.1012127\ttotal: 554ms\tremaining: 377ms\n",
      "595:\tlearn: 0.1011160\ttotal: 555ms\tremaining: 376ms\n",
      "596:\tlearn: 0.1010568\ttotal: 556ms\tremaining: 375ms\n",
      "597:\tlearn: 0.1008425\ttotal: 557ms\tremaining: 374ms\n",
      "598:\tlearn: 0.1007028\ttotal: 557ms\tremaining: 373ms\n",
      "599:\tlearn: 0.1006761\ttotal: 558ms\tremaining: 372ms\n",
      "600:\tlearn: 0.1004223\ttotal: 559ms\tremaining: 371ms\n",
      "601:\tlearn: 0.1002434\ttotal: 560ms\tremaining: 370ms\n",
      "602:\tlearn: 0.1000396\ttotal: 561ms\tremaining: 369ms\n",
      "603:\tlearn: 0.0998478\ttotal: 562ms\tremaining: 368ms\n",
      "604:\tlearn: 0.0997870\ttotal: 562ms\tremaining: 367ms\n",
      "605:\tlearn: 0.0996322\ttotal: 563ms\tremaining: 366ms\n",
      "606:\tlearn: 0.0994805\ttotal: 564ms\tremaining: 365ms\n",
      "607:\tlearn: 0.0991823\ttotal: 565ms\tremaining: 364ms\n",
      "608:\tlearn: 0.0989791\ttotal: 566ms\tremaining: 363ms\n",
      "609:\tlearn: 0.0989344\ttotal: 567ms\tremaining: 362ms\n",
      "610:\tlearn: 0.0988217\ttotal: 567ms\tremaining: 361ms\n",
      "611:\tlearn: 0.0985943\ttotal: 568ms\tremaining: 360ms\n",
      "612:\tlearn: 0.0984853\ttotal: 569ms\tremaining: 359ms\n",
      "613:\tlearn: 0.0983613\ttotal: 570ms\tremaining: 358ms\n",
      "614:\tlearn: 0.0981689\ttotal: 571ms\tremaining: 357ms\n",
      "615:\tlearn: 0.0979764\ttotal: 571ms\tremaining: 356ms\n"
     ]
    },
    {
     "name": "stdout",
     "output_type": "stream",
     "text": [
      "616:\tlearn: 0.0977557\ttotal: 572ms\tremaining: 355ms\n",
      "617:\tlearn: 0.0975989\ttotal: 573ms\tremaining: 354ms\n",
      "618:\tlearn: 0.0974176\ttotal: 574ms\tremaining: 353ms\n",
      "619:\tlearn: 0.0972789\ttotal: 575ms\tremaining: 352ms\n",
      "620:\tlearn: 0.0971901\ttotal: 576ms\tremaining: 351ms\n",
      "621:\tlearn: 0.0970527\ttotal: 577ms\tremaining: 351ms\n",
      "622:\tlearn: 0.0968580\ttotal: 578ms\tremaining: 350ms\n",
      "623:\tlearn: 0.0967364\ttotal: 578ms\tremaining: 349ms\n",
      "624:\tlearn: 0.0964842\ttotal: 579ms\tremaining: 348ms\n",
      "625:\tlearn: 0.0963819\ttotal: 580ms\tremaining: 346ms\n",
      "626:\tlearn: 0.0963045\ttotal: 581ms\tremaining: 345ms\n",
      "627:\tlearn: 0.0962321\ttotal: 581ms\tremaining: 344ms\n",
      "628:\tlearn: 0.0960956\ttotal: 582ms\tremaining: 343ms\n",
      "629:\tlearn: 0.0960184\ttotal: 583ms\tremaining: 342ms\n",
      "630:\tlearn: 0.0959584\ttotal: 584ms\tremaining: 341ms\n",
      "631:\tlearn: 0.0957988\ttotal: 585ms\tremaining: 341ms\n",
      "632:\tlearn: 0.0957410\ttotal: 586ms\tremaining: 340ms\n",
      "633:\tlearn: 0.0957199\ttotal: 587ms\tremaining: 339ms\n",
      "634:\tlearn: 0.0955200\ttotal: 587ms\tremaining: 338ms\n",
      "635:\tlearn: 0.0952885\ttotal: 588ms\tremaining: 337ms\n",
      "636:\tlearn: 0.0952624\ttotal: 589ms\tremaining: 336ms\n",
      "637:\tlearn: 0.0951029\ttotal: 590ms\tremaining: 335ms\n",
      "638:\tlearn: 0.0949260\ttotal: 591ms\tremaining: 334ms\n",
      "639:\tlearn: 0.0947852\ttotal: 592ms\tremaining: 333ms\n",
      "640:\tlearn: 0.0945039\ttotal: 592ms\tremaining: 332ms\n",
      "641:\tlearn: 0.0942999\ttotal: 593ms\tremaining: 331ms\n",
      "642:\tlearn: 0.0941289\ttotal: 594ms\tremaining: 330ms\n",
      "643:\tlearn: 0.0940704\ttotal: 595ms\tremaining: 329ms\n",
      "644:\tlearn: 0.0939624\ttotal: 596ms\tremaining: 328ms\n",
      "645:\tlearn: 0.0939176\ttotal: 597ms\tremaining: 327ms\n",
      "646:\tlearn: 0.0939029\ttotal: 597ms\tremaining: 326ms\n",
      "647:\tlearn: 0.0938787\ttotal: 598ms\tremaining: 325ms\n",
      "648:\tlearn: 0.0936065\ttotal: 599ms\tremaining: 324ms\n",
      "649:\tlearn: 0.0934037\ttotal: 600ms\tremaining: 323ms\n",
      "650:\tlearn: 0.0933855\ttotal: 601ms\tremaining: 322ms\n",
      "651:\tlearn: 0.0932726\ttotal: 602ms\tremaining: 321ms\n",
      "652:\tlearn: 0.0930637\ttotal: 602ms\tremaining: 320ms\n",
      "653:\tlearn: 0.0929031\ttotal: 603ms\tremaining: 319ms\n",
      "654:\tlearn: 0.0928513\ttotal: 604ms\tremaining: 318ms\n",
      "655:\tlearn: 0.0926838\ttotal: 605ms\tremaining: 317ms\n",
      "656:\tlearn: 0.0924982\ttotal: 606ms\tremaining: 316ms\n",
      "657:\tlearn: 0.0923179\ttotal: 608ms\tremaining: 316ms\n",
      "658:\tlearn: 0.0921367\ttotal: 609ms\tremaining: 315ms\n",
      "659:\tlearn: 0.0919463\ttotal: 610ms\tremaining: 314ms\n",
      "660:\tlearn: 0.0916964\ttotal: 611ms\tremaining: 313ms\n",
      "661:\tlearn: 0.0915939\ttotal: 612ms\tremaining: 312ms\n",
      "662:\tlearn: 0.0915163\ttotal: 613ms\tremaining: 311ms\n",
      "663:\tlearn: 0.0914184\ttotal: 614ms\tremaining: 310ms\n",
      "664:\tlearn: 0.0913869\ttotal: 614ms\tremaining: 310ms\n",
      "665:\tlearn: 0.0912125\ttotal: 615ms\tremaining: 309ms\n",
      "666:\tlearn: 0.0911957\ttotal: 616ms\tremaining: 308ms\n",
      "667:\tlearn: 0.0910706\ttotal: 617ms\tremaining: 307ms\n",
      "668:\tlearn: 0.0910283\ttotal: 618ms\tremaining: 306ms\n",
      "669:\tlearn: 0.0907949\ttotal: 619ms\tremaining: 305ms\n",
      "670:\tlearn: 0.0906580\ttotal: 620ms\tremaining: 304ms\n",
      "671:\tlearn: 0.0904828\ttotal: 621ms\tremaining: 303ms\n",
      "672:\tlearn: 0.0904706\ttotal: 622ms\tremaining: 302ms\n",
      "673:\tlearn: 0.0904115\ttotal: 623ms\tremaining: 301ms\n",
      "674:\tlearn: 0.0903502\ttotal: 624ms\tremaining: 300ms\n",
      "675:\tlearn: 0.0901698\ttotal: 624ms\tremaining: 299ms\n",
      "676:\tlearn: 0.0898973\ttotal: 625ms\tremaining: 298ms\n",
      "677:\tlearn: 0.0897191\ttotal: 626ms\tremaining: 297ms\n",
      "678:\tlearn: 0.0895905\ttotal: 627ms\tremaining: 296ms\n",
      "679:\tlearn: 0.0894423\ttotal: 628ms\tremaining: 295ms\n",
      "680:\tlearn: 0.0893204\ttotal: 629ms\tremaining: 295ms\n",
      "681:\tlearn: 0.0891955\ttotal: 629ms\tremaining: 294ms\n",
      "682:\tlearn: 0.0890265\ttotal: 630ms\tremaining: 293ms\n",
      "683:\tlearn: 0.0889280\ttotal: 631ms\tremaining: 292ms\n",
      "684:\tlearn: 0.0888233\ttotal: 632ms\tremaining: 291ms\n",
      "685:\tlearn: 0.0887228\ttotal: 633ms\tremaining: 290ms\n",
      "686:\tlearn: 0.0886078\ttotal: 634ms\tremaining: 289ms\n",
      "687:\tlearn: 0.0884351\ttotal: 634ms\tremaining: 288ms\n",
      "688:\tlearn: 0.0884204\ttotal: 635ms\tremaining: 287ms\n",
      "689:\tlearn: 0.0882219\ttotal: 636ms\tremaining: 286ms\n",
      "690:\tlearn: 0.0881364\ttotal: 637ms\tremaining: 285ms\n",
      "691:\tlearn: 0.0880864\ttotal: 638ms\tremaining: 284ms\n",
      "692:\tlearn: 0.0879582\ttotal: 638ms\tremaining: 283ms\n",
      "693:\tlearn: 0.0877559\ttotal: 639ms\tremaining: 282ms\n",
      "694:\tlearn: 0.0876014\ttotal: 640ms\tremaining: 281ms\n",
      "695:\tlearn: 0.0874469\ttotal: 641ms\tremaining: 280ms\n",
      "696:\tlearn: 0.0872995\ttotal: 642ms\tremaining: 279ms\n",
      "697:\tlearn: 0.0872677\ttotal: 643ms\tremaining: 278ms\n",
      "698:\tlearn: 0.0871181\ttotal: 643ms\tremaining: 277ms\n",
      "699:\tlearn: 0.0871028\ttotal: 644ms\tremaining: 276ms\n",
      "700:\tlearn: 0.0869377\ttotal: 645ms\tremaining: 275ms\n",
      "701:\tlearn: 0.0869204\ttotal: 646ms\tremaining: 274ms\n",
      "702:\tlearn: 0.0868320\ttotal: 647ms\tremaining: 273ms\n",
      "703:\tlearn: 0.0867313\ttotal: 647ms\tremaining: 272ms\n",
      "704:\tlearn: 0.0866805\ttotal: 648ms\tremaining: 271ms\n",
      "705:\tlearn: 0.0864959\ttotal: 649ms\tremaining: 270ms\n",
      "706:\tlearn: 0.0864365\ttotal: 650ms\tremaining: 269ms\n",
      "707:\tlearn: 0.0862683\ttotal: 651ms\tremaining: 268ms\n",
      "708:\tlearn: 0.0860423\ttotal: 651ms\tremaining: 267ms\n",
      "709:\tlearn: 0.0859556\ttotal: 653ms\tremaining: 267ms\n",
      "710:\tlearn: 0.0857821\ttotal: 654ms\tremaining: 266ms\n",
      "711:\tlearn: 0.0856382\ttotal: 654ms\tremaining: 265ms\n",
      "712:\tlearn: 0.0855079\ttotal: 655ms\tremaining: 264ms\n",
      "713:\tlearn: 0.0853739\ttotal: 656ms\tremaining: 263ms\n",
      "714:\tlearn: 0.0852095\ttotal: 657ms\tremaining: 262ms\n",
      "715:\tlearn: 0.0851017\ttotal: 657ms\tremaining: 261ms\n",
      "716:\tlearn: 0.0849434\ttotal: 658ms\tremaining: 260ms\n",
      "717:\tlearn: 0.0847633\ttotal: 659ms\tremaining: 259ms\n",
      "718:\tlearn: 0.0846520\ttotal: 660ms\tremaining: 258ms\n",
      "719:\tlearn: 0.0845055\ttotal: 661ms\tremaining: 257ms\n",
      "720:\tlearn: 0.0844421\ttotal: 662ms\tremaining: 256ms\n",
      "721:\tlearn: 0.0843432\ttotal: 662ms\tremaining: 255ms\n",
      "722:\tlearn: 0.0841371\ttotal: 663ms\tremaining: 254ms\n",
      "723:\tlearn: 0.0839880\ttotal: 664ms\tremaining: 253ms\n",
      "724:\tlearn: 0.0838884\ttotal: 665ms\tremaining: 252ms\n",
      "725:\tlearn: 0.0837192\ttotal: 666ms\tremaining: 251ms\n",
      "726:\tlearn: 0.0835760\ttotal: 666ms\tremaining: 250ms\n",
      "727:\tlearn: 0.0835609\ttotal: 667ms\tremaining: 249ms\n",
      "728:\tlearn: 0.0835304\ttotal: 668ms\tremaining: 248ms\n",
      "729:\tlearn: 0.0834733\ttotal: 668ms\tremaining: 247ms\n",
      "730:\tlearn: 0.0832853\ttotal: 669ms\tremaining: 246ms\n",
      "731:\tlearn: 0.0831194\ttotal: 670ms\tremaining: 245ms\n",
      "732:\tlearn: 0.0829608\ttotal: 671ms\tremaining: 244ms\n",
      "733:\tlearn: 0.0827945\ttotal: 672ms\tremaining: 243ms\n",
      "734:\tlearn: 0.0826288\ttotal: 673ms\tremaining: 243ms\n",
      "735:\tlearn: 0.0826127\ttotal: 674ms\tremaining: 242ms\n",
      "736:\tlearn: 0.0824770\ttotal: 674ms\tremaining: 241ms\n",
      "737:\tlearn: 0.0822667\ttotal: 675ms\tremaining: 240ms\n",
      "738:\tlearn: 0.0821024\ttotal: 676ms\tremaining: 239ms\n",
      "739:\tlearn: 0.0819453\ttotal: 677ms\tremaining: 238ms\n",
      "740:\tlearn: 0.0818309\ttotal: 678ms\tremaining: 237ms\n",
      "741:\tlearn: 0.0817286\ttotal: 678ms\tremaining: 236ms\n",
      "742:\tlearn: 0.0815684\ttotal: 679ms\tremaining: 235ms\n",
      "743:\tlearn: 0.0814155\ttotal: 680ms\tremaining: 234ms\n"
     ]
    },
    {
     "name": "stdout",
     "output_type": "stream",
     "text": [
      "744:\tlearn: 0.0812534\ttotal: 681ms\tremaining: 233ms\n",
      "745:\tlearn: 0.0812405\ttotal: 682ms\tremaining: 232ms\n",
      "746:\tlearn: 0.0811468\ttotal: 683ms\tremaining: 231ms\n",
      "747:\tlearn: 0.0811205\ttotal: 683ms\tremaining: 230ms\n",
      "748:\tlearn: 0.0809715\ttotal: 684ms\tremaining: 229ms\n",
      "749:\tlearn: 0.0807904\ttotal: 685ms\tremaining: 228ms\n",
      "750:\tlearn: 0.0807054\ttotal: 686ms\tremaining: 227ms\n",
      "751:\tlearn: 0.0805367\ttotal: 687ms\tremaining: 227ms\n",
      "752:\tlearn: 0.0804007\ttotal: 688ms\tremaining: 226ms\n",
      "753:\tlearn: 0.0802811\ttotal: 688ms\tremaining: 225ms\n",
      "754:\tlearn: 0.0802654\ttotal: 689ms\tremaining: 224ms\n",
      "755:\tlearn: 0.0800618\ttotal: 690ms\tremaining: 223ms\n",
      "756:\tlearn: 0.0798738\ttotal: 691ms\tremaining: 222ms\n",
      "757:\tlearn: 0.0798146\ttotal: 691ms\tremaining: 221ms\n",
      "758:\tlearn: 0.0796885\ttotal: 692ms\tremaining: 220ms\n",
      "759:\tlearn: 0.0794987\ttotal: 693ms\tremaining: 219ms\n",
      "760:\tlearn: 0.0792749\ttotal: 694ms\tremaining: 218ms\n",
      "761:\tlearn: 0.0791919\ttotal: 695ms\tremaining: 217ms\n",
      "762:\tlearn: 0.0790780\ttotal: 695ms\tremaining: 216ms\n",
      "763:\tlearn: 0.0789423\ttotal: 696ms\tremaining: 215ms\n",
      "764:\tlearn: 0.0788120\ttotal: 697ms\tremaining: 214ms\n",
      "765:\tlearn: 0.0786640\ttotal: 698ms\tremaining: 213ms\n",
      "766:\tlearn: 0.0785492\ttotal: 699ms\tremaining: 212ms\n",
      "767:\tlearn: 0.0784240\ttotal: 699ms\tremaining: 211ms\n",
      "768:\tlearn: 0.0782717\ttotal: 700ms\tremaining: 210ms\n",
      "769:\tlearn: 0.0781749\ttotal: 701ms\tremaining: 209ms\n",
      "770:\tlearn: 0.0780034\ttotal: 702ms\tremaining: 208ms\n",
      "771:\tlearn: 0.0779122\ttotal: 703ms\tremaining: 208ms\n",
      "772:\tlearn: 0.0778606\ttotal: 704ms\tremaining: 207ms\n",
      "773:\tlearn: 0.0777968\ttotal: 705ms\tremaining: 206ms\n",
      "774:\tlearn: 0.0775974\ttotal: 706ms\tremaining: 205ms\n",
      "775:\tlearn: 0.0774148\ttotal: 707ms\tremaining: 204ms\n",
      "776:\tlearn: 0.0772925\ttotal: 707ms\tremaining: 203ms\n",
      "777:\tlearn: 0.0772781\ttotal: 708ms\tremaining: 202ms\n",
      "778:\tlearn: 0.0771290\ttotal: 709ms\tremaining: 201ms\n",
      "779:\tlearn: 0.0770329\ttotal: 710ms\tremaining: 200ms\n",
      "780:\tlearn: 0.0769914\ttotal: 711ms\tremaining: 199ms\n",
      "781:\tlearn: 0.0769192\ttotal: 712ms\tremaining: 198ms\n",
      "782:\tlearn: 0.0768370\ttotal: 712ms\tremaining: 197ms\n",
      "783:\tlearn: 0.0767248\ttotal: 713ms\tremaining: 196ms\n",
      "784:\tlearn: 0.0766052\ttotal: 714ms\tremaining: 196ms\n",
      "785:\tlearn: 0.0765376\ttotal: 715ms\tremaining: 195ms\n",
      "786:\tlearn: 0.0764291\ttotal: 716ms\tremaining: 194ms\n",
      "787:\tlearn: 0.0763589\ttotal: 717ms\tremaining: 193ms\n",
      "788:\tlearn: 0.0761981\ttotal: 717ms\tremaining: 192ms\n",
      "789:\tlearn: 0.0760404\ttotal: 718ms\tremaining: 191ms\n",
      "790:\tlearn: 0.0759433\ttotal: 719ms\tremaining: 190ms\n",
      "791:\tlearn: 0.0758378\ttotal: 720ms\tremaining: 189ms\n",
      "792:\tlearn: 0.0757188\ttotal: 721ms\tremaining: 188ms\n",
      "793:\tlearn: 0.0756458\ttotal: 721ms\tremaining: 187ms\n",
      "794:\tlearn: 0.0754788\ttotal: 722ms\tremaining: 186ms\n",
      "795:\tlearn: 0.0753590\ttotal: 723ms\tremaining: 185ms\n",
      "796:\tlearn: 0.0752584\ttotal: 724ms\tremaining: 184ms\n",
      "797:\tlearn: 0.0752077\ttotal: 725ms\tremaining: 183ms\n",
      "798:\tlearn: 0.0750729\ttotal: 726ms\tremaining: 183ms\n",
      "799:\tlearn: 0.0749146\ttotal: 726ms\tremaining: 182ms\n",
      "800:\tlearn: 0.0747820\ttotal: 727ms\tremaining: 181ms\n",
      "801:\tlearn: 0.0746773\ttotal: 728ms\tremaining: 180ms\n",
      "802:\tlearn: 0.0745712\ttotal: 729ms\tremaining: 179ms\n",
      "803:\tlearn: 0.0744741\ttotal: 730ms\tremaining: 178ms\n",
      "804:\tlearn: 0.0742833\ttotal: 730ms\tremaining: 177ms\n",
      "805:\tlearn: 0.0742181\ttotal: 731ms\tremaining: 176ms\n",
      "806:\tlearn: 0.0742022\ttotal: 732ms\tremaining: 175ms\n",
      "807:\tlearn: 0.0741565\ttotal: 733ms\tremaining: 174ms\n",
      "808:\tlearn: 0.0740254\ttotal: 733ms\tremaining: 173ms\n",
      "809:\tlearn: 0.0739266\ttotal: 734ms\tremaining: 172ms\n",
      "810:\tlearn: 0.0737688\ttotal: 735ms\tremaining: 171ms\n",
      "811:\tlearn: 0.0735245\ttotal: 736ms\tremaining: 170ms\n",
      "812:\tlearn: 0.0734646\ttotal: 737ms\tremaining: 169ms\n",
      "813:\tlearn: 0.0733330\ttotal: 737ms\tremaining: 169ms\n",
      "814:\tlearn: 0.0732851\ttotal: 738ms\tremaining: 168ms\n",
      "815:\tlearn: 0.0731763\ttotal: 739ms\tremaining: 167ms\n",
      "816:\tlearn: 0.0730467\ttotal: 740ms\tremaining: 166ms\n",
      "817:\tlearn: 0.0729608\ttotal: 740ms\tremaining: 165ms\n",
      "818:\tlearn: 0.0728407\ttotal: 741ms\tremaining: 164ms\n",
      "819:\tlearn: 0.0726872\ttotal: 742ms\tremaining: 163ms\n",
      "820:\tlearn: 0.0725572\ttotal: 743ms\tremaining: 162ms\n",
      "821:\tlearn: 0.0725119\ttotal: 744ms\tremaining: 161ms\n",
      "822:\tlearn: 0.0724561\ttotal: 745ms\tremaining: 160ms\n",
      "823:\tlearn: 0.0723474\ttotal: 746ms\tremaining: 159ms\n",
      "824:\tlearn: 0.0722917\ttotal: 747ms\tremaining: 158ms\n",
      "825:\tlearn: 0.0722788\ttotal: 747ms\tremaining: 157ms\n",
      "826:\tlearn: 0.0721525\ttotal: 748ms\tremaining: 157ms\n",
      "827:\tlearn: 0.0721040\ttotal: 749ms\tremaining: 156ms\n",
      "828:\tlearn: 0.0719996\ttotal: 750ms\tremaining: 155ms\n",
      "829:\tlearn: 0.0719134\ttotal: 751ms\tremaining: 154ms\n",
      "830:\tlearn: 0.0717716\ttotal: 752ms\tremaining: 153ms\n",
      "831:\tlearn: 0.0716583\ttotal: 752ms\tremaining: 152ms\n",
      "832:\tlearn: 0.0715504\ttotal: 753ms\tremaining: 151ms\n",
      "833:\tlearn: 0.0714201\ttotal: 754ms\tremaining: 150ms\n",
      "834:\tlearn: 0.0713134\ttotal: 755ms\tremaining: 149ms\n",
      "835:\tlearn: 0.0711944\ttotal: 756ms\tremaining: 148ms\n",
      "836:\tlearn: 0.0710844\ttotal: 757ms\tremaining: 147ms\n",
      "837:\tlearn: 0.0709861\ttotal: 758ms\tremaining: 146ms\n",
      "838:\tlearn: 0.0708109\ttotal: 758ms\tremaining: 146ms\n",
      "839:\tlearn: 0.0707751\ttotal: 759ms\tremaining: 145ms\n",
      "840:\tlearn: 0.0707630\ttotal: 760ms\tremaining: 144ms\n",
      "841:\tlearn: 0.0706149\ttotal: 761ms\tremaining: 143ms\n",
      "842:\tlearn: 0.0704941\ttotal: 762ms\tremaining: 142ms\n"
     ]
    },
    {
     "name": "stdout",
     "output_type": "stream",
     "text": [
      "843:\tlearn: 0.0704740\ttotal: 762ms\tremaining: 141ms\n",
      "844:\tlearn: 0.0703469\ttotal: 763ms\tremaining: 140ms\n",
      "845:\tlearn: 0.0702315\ttotal: 764ms\tremaining: 139ms\n",
      "846:\tlearn: 0.0700449\ttotal: 765ms\tremaining: 138ms\n",
      "847:\tlearn: 0.0699138\ttotal: 766ms\tremaining: 137ms\n",
      "848:\tlearn: 0.0698014\ttotal: 767ms\tremaining: 136ms\n",
      "849:\tlearn: 0.0697304\ttotal: 767ms\tremaining: 135ms\n",
      "850:\tlearn: 0.0696106\ttotal: 768ms\tremaining: 135ms\n",
      "851:\tlearn: 0.0695989\ttotal: 769ms\tremaining: 134ms\n",
      "852:\tlearn: 0.0694089\ttotal: 770ms\tremaining: 133ms\n",
      "853:\tlearn: 0.0693201\ttotal: 771ms\tremaining: 132ms\n",
      "854:\tlearn: 0.0692154\ttotal: 771ms\tremaining: 131ms\n",
      "855:\tlearn: 0.0691837\ttotal: 772ms\tremaining: 130ms\n",
      "856:\tlearn: 0.0690255\ttotal: 773ms\tremaining: 129ms\n",
      "857:\tlearn: 0.0689914\ttotal: 774ms\tremaining: 128ms\n",
      "858:\tlearn: 0.0688701\ttotal: 775ms\tremaining: 127ms\n",
      "859:\tlearn: 0.0687237\ttotal: 775ms\tremaining: 126ms\n",
      "860:\tlearn: 0.0686402\ttotal: 776ms\tremaining: 125ms\n",
      "861:\tlearn: 0.0685388\ttotal: 777ms\tremaining: 124ms\n",
      "862:\tlearn: 0.0683984\ttotal: 778ms\tremaining: 124ms\n",
      "863:\tlearn: 0.0682956\ttotal: 779ms\tremaining: 123ms\n",
      "864:\tlearn: 0.0682555\ttotal: 780ms\tremaining: 122ms\n",
      "865:\tlearn: 0.0681857\ttotal: 781ms\tremaining: 121ms\n",
      "866:\tlearn: 0.0680675\ttotal: 782ms\tremaining: 120ms\n",
      "867:\tlearn: 0.0680140\ttotal: 782ms\tremaining: 119ms\n",
      "868:\tlearn: 0.0680028\ttotal: 783ms\tremaining: 118ms\n",
      "869:\tlearn: 0.0679783\ttotal: 784ms\tremaining: 117ms\n",
      "870:\tlearn: 0.0678398\ttotal: 785ms\tremaining: 116ms\n",
      "871:\tlearn: 0.0678294\ttotal: 786ms\tremaining: 115ms\n",
      "872:\tlearn: 0.0677365\ttotal: 787ms\tremaining: 114ms\n",
      "873:\tlearn: 0.0676164\ttotal: 787ms\tremaining: 114ms\n",
      "874:\tlearn: 0.0675033\ttotal: 788ms\tremaining: 113ms\n",
      "875:\tlearn: 0.0674254\ttotal: 789ms\tremaining: 112ms\n",
      "876:\tlearn: 0.0673184\ttotal: 790ms\tremaining: 111ms\n",
      "877:\tlearn: 0.0671956\ttotal: 791ms\tremaining: 110ms\n",
      "878:\tlearn: 0.0670872\ttotal: 792ms\tremaining: 109ms\n",
      "879:\tlearn: 0.0670041\ttotal: 792ms\tremaining: 108ms\n",
      "880:\tlearn: 0.0669284\ttotal: 793ms\tremaining: 107ms\n",
      "881:\tlearn: 0.0668198\ttotal: 794ms\tremaining: 106ms\n",
      "882:\tlearn: 0.0667621\ttotal: 795ms\tremaining: 105ms\n",
      "883:\tlearn: 0.0666245\ttotal: 796ms\tremaining: 104ms\n",
      "884:\tlearn: 0.0665372\ttotal: 796ms\tremaining: 103ms\n",
      "885:\tlearn: 0.0663857\ttotal: 797ms\tremaining: 103ms\n",
      "886:\tlearn: 0.0662627\ttotal: 798ms\tremaining: 102ms\n",
      "887:\tlearn: 0.0661737\ttotal: 799ms\tremaining: 101ms\n",
      "888:\tlearn: 0.0660825\ttotal: 800ms\tremaining: 99.8ms\n",
      "889:\tlearn: 0.0659732\ttotal: 801ms\tremaining: 98.9ms\n",
      "890:\tlearn: 0.0658613\ttotal: 801ms\tremaining: 98ms\n",
      "891:\tlearn: 0.0658471\ttotal: 802ms\tremaining: 97.1ms\n",
      "892:\tlearn: 0.0658264\ttotal: 803ms\tremaining: 96.2ms\n",
      "893:\tlearn: 0.0657396\ttotal: 804ms\tremaining: 95.3ms\n",
      "894:\tlearn: 0.0657206\ttotal: 804ms\tremaining: 94.4ms\n",
      "895:\tlearn: 0.0656987\ttotal: 805ms\tremaining: 93.4ms\n",
      "896:\tlearn: 0.0655532\ttotal: 806ms\tremaining: 92.5ms\n",
      "897:\tlearn: 0.0654572\ttotal: 807ms\tremaining: 91.6ms\n",
      "898:\tlearn: 0.0653531\ttotal: 807ms\tremaining: 90.7ms\n",
      "899:\tlearn: 0.0652689\ttotal: 808ms\tremaining: 89.8ms\n",
      "900:\tlearn: 0.0651636\ttotal: 809ms\tremaining: 88.9ms\n",
      "901:\tlearn: 0.0650783\ttotal: 810ms\tremaining: 88ms\n",
      "902:\tlearn: 0.0650581\ttotal: 811ms\tremaining: 87.1ms\n",
      "903:\tlearn: 0.0650221\ttotal: 812ms\tremaining: 86.2ms\n",
      "904:\tlearn: 0.0649539\ttotal: 813ms\tremaining: 85.3ms\n",
      "905:\tlearn: 0.0648590\ttotal: 814ms\tremaining: 84.4ms\n",
      "906:\tlearn: 0.0647649\ttotal: 815ms\tremaining: 83.5ms\n",
      "907:\tlearn: 0.0646961\ttotal: 815ms\tremaining: 82.6ms\n",
      "908:\tlearn: 0.0646526\ttotal: 816ms\tremaining: 81.7ms\n",
      "909:\tlearn: 0.0646436\ttotal: 817ms\tremaining: 80.8ms\n",
      "910:\tlearn: 0.0645313\ttotal: 818ms\tremaining: 79.9ms\n",
      "911:\tlearn: 0.0644345\ttotal: 819ms\tremaining: 79ms\n",
      "912:\tlearn: 0.0643268\ttotal: 819ms\tremaining: 78.1ms\n",
      "913:\tlearn: 0.0642671\ttotal: 820ms\tremaining: 77.2ms\n",
      "914:\tlearn: 0.0641438\ttotal: 821ms\tremaining: 76.3ms\n",
      "915:\tlearn: 0.0640024\ttotal: 822ms\tremaining: 75.4ms\n",
      "916:\tlearn: 0.0639059\ttotal: 823ms\tremaining: 74.5ms\n",
      "917:\tlearn: 0.0638343\ttotal: 824ms\tremaining: 73.6ms\n",
      "918:\tlearn: 0.0637172\ttotal: 824ms\tremaining: 72.7ms\n",
      "919:\tlearn: 0.0635783\ttotal: 825ms\tremaining: 71.7ms\n",
      "920:\tlearn: 0.0634251\ttotal: 826ms\tremaining: 70.8ms\n",
      "921:\tlearn: 0.0633655\ttotal: 827ms\tremaining: 69.9ms\n",
      "922:\tlearn: 0.0632563\ttotal: 827ms\tremaining: 69ms\n",
      "923:\tlearn: 0.0631794\ttotal: 828ms\tremaining: 68.1ms\n",
      "924:\tlearn: 0.0631047\ttotal: 829ms\tremaining: 67.2ms\n",
      "925:\tlearn: 0.0630039\ttotal: 830ms\tremaining: 66.3ms\n",
      "926:\tlearn: 0.0628845\ttotal: 831ms\tremaining: 65.4ms\n",
      "927:\tlearn: 0.0627520\ttotal: 831ms\tremaining: 64.5ms\n",
      "928:\tlearn: 0.0627070\ttotal: 832ms\tremaining: 63.6ms\n",
      "929:\tlearn: 0.0625865\ttotal: 833ms\tremaining: 62.7ms\n",
      "930:\tlearn: 0.0625028\ttotal: 834ms\tremaining: 61.8ms\n",
      "931:\tlearn: 0.0623683\ttotal: 835ms\tremaining: 60.9ms\n",
      "932:\tlearn: 0.0622745\ttotal: 835ms\tremaining: 60ms\n",
      "933:\tlearn: 0.0621638\ttotal: 836ms\tremaining: 59.1ms\n",
      "934:\tlearn: 0.0620585\ttotal: 837ms\tremaining: 58.2ms\n",
      "935:\tlearn: 0.0619382\ttotal: 838ms\tremaining: 57.3ms\n",
      "936:\tlearn: 0.0619276\ttotal: 839ms\tremaining: 56.4ms\n",
      "937:\tlearn: 0.0618120\ttotal: 840ms\tremaining: 55.5ms\n",
      "938:\tlearn: 0.0617178\ttotal: 840ms\tremaining: 54.6ms\n",
      "939:\tlearn: 0.0616282\ttotal: 841ms\tremaining: 53.7ms\n",
      "940:\tlearn: 0.0615441\ttotal: 842ms\tremaining: 52.8ms\n",
      "941:\tlearn: 0.0613886\ttotal: 843ms\tremaining: 51.9ms\n",
      "942:\tlearn: 0.0612927\ttotal: 844ms\tremaining: 51ms\n",
      "943:\tlearn: 0.0612255\ttotal: 845ms\tremaining: 50.1ms\n",
      "944:\tlearn: 0.0611375\ttotal: 846ms\tremaining: 49.2ms\n",
      "945:\tlearn: 0.0610192\ttotal: 846ms\tremaining: 48.3ms\n",
      "946:\tlearn: 0.0609094\ttotal: 847ms\tremaining: 47.4ms\n",
      "947:\tlearn: 0.0608180\ttotal: 848ms\tremaining: 46.5ms\n",
      "948:\tlearn: 0.0607291\ttotal: 849ms\tremaining: 45.6ms\n",
      "949:\tlearn: 0.0607154\ttotal: 850ms\tremaining: 44.7ms\n",
      "950:\tlearn: 0.0606474\ttotal: 850ms\tremaining: 43.8ms\n",
      "951:\tlearn: 0.0605817\ttotal: 851ms\tremaining: 42.9ms\n",
      "952:\tlearn: 0.0604411\ttotal: 852ms\tremaining: 42ms\n",
      "953:\tlearn: 0.0603664\ttotal: 853ms\tremaining: 41.1ms\n",
      "954:\tlearn: 0.0602670\ttotal: 854ms\tremaining: 40.2ms\n",
      "955:\tlearn: 0.0602559\ttotal: 855ms\tremaining: 39.3ms\n",
      "956:\tlearn: 0.0602468\ttotal: 855ms\tremaining: 38.4ms\n",
      "957:\tlearn: 0.0602356\ttotal: 856ms\tremaining: 37.5ms\n",
      "958:\tlearn: 0.0601747\ttotal: 857ms\tremaining: 36.6ms\n",
      "959:\tlearn: 0.0600640\ttotal: 858ms\tremaining: 35.7ms\n",
      "960:\tlearn: 0.0599730\ttotal: 859ms\tremaining: 34.9ms\n",
      "961:\tlearn: 0.0598856\ttotal: 860ms\tremaining: 34ms\n",
      "962:\tlearn: 0.0598411\ttotal: 860ms\tremaining: 33.1ms\n",
      "963:\tlearn: 0.0598086\ttotal: 861ms\tremaining: 32.2ms\n",
      "964:\tlearn: 0.0596983\ttotal: 862ms\tremaining: 31.3ms\n",
      "965:\tlearn: 0.0596821\ttotal: 863ms\tremaining: 30.4ms\n",
      "966:\tlearn: 0.0596146\ttotal: 864ms\tremaining: 29.5ms\n",
      "967:\tlearn: 0.0595927\ttotal: 865ms\tremaining: 28.6ms\n",
      "968:\tlearn: 0.0594918\ttotal: 866ms\tremaining: 27.7ms\n",
      "969:\tlearn: 0.0593703\ttotal: 866ms\tremaining: 26.8ms\n",
      "970:\tlearn: 0.0592840\ttotal: 867ms\tremaining: 25.9ms\n",
      "971:\tlearn: 0.0591985\ttotal: 868ms\tremaining: 25ms\n",
      "972:\tlearn: 0.0590597\ttotal: 869ms\tremaining: 24.1ms\n",
      "973:\tlearn: 0.0589821\ttotal: 870ms\tremaining: 23.2ms\n"
     ]
    },
    {
     "name": "stdout",
     "output_type": "stream",
     "text": [
      "974:\tlearn: 0.0588720\ttotal: 871ms\tremaining: 22.3ms\n",
      "975:\tlearn: 0.0587949\ttotal: 872ms\tremaining: 21.4ms\n",
      "976:\tlearn: 0.0586495\ttotal: 873ms\tremaining: 20.5ms\n",
      "977:\tlearn: 0.0585970\ttotal: 874ms\tremaining: 19.7ms\n",
      "978:\tlearn: 0.0585110\ttotal: 875ms\tremaining: 18.8ms\n",
      "979:\tlearn: 0.0584641\ttotal: 875ms\tremaining: 17.9ms\n",
      "980:\tlearn: 0.0584020\ttotal: 876ms\tremaining: 17ms\n",
      "981:\tlearn: 0.0582916\ttotal: 877ms\tremaining: 16.1ms\n",
      "982:\tlearn: 0.0581471\ttotal: 878ms\tremaining: 15.2ms\n",
      "983:\tlearn: 0.0581032\ttotal: 879ms\tremaining: 14.3ms\n",
      "984:\tlearn: 0.0579963\ttotal: 880ms\tremaining: 13.4ms\n",
      "985:\tlearn: 0.0578964\ttotal: 881ms\tremaining: 12.5ms\n",
      "986:\tlearn: 0.0578045\ttotal: 882ms\tremaining: 11.6ms\n",
      "987:\tlearn: 0.0577922\ttotal: 882ms\tremaining: 10.7ms\n",
      "988:\tlearn: 0.0577136\ttotal: 883ms\tremaining: 9.82ms\n",
      "989:\tlearn: 0.0576655\ttotal: 884ms\tremaining: 8.93ms\n",
      "990:\tlearn: 0.0575789\ttotal: 885ms\tremaining: 8.03ms\n",
      "991:\tlearn: 0.0575288\ttotal: 885ms\tremaining: 7.14ms\n",
      "992:\tlearn: 0.0574123\ttotal: 886ms\tremaining: 6.25ms\n",
      "993:\tlearn: 0.0573227\ttotal: 887ms\tremaining: 5.35ms\n",
      "994:\tlearn: 0.0572837\ttotal: 888ms\tremaining: 4.46ms\n",
      "995:\tlearn: 0.0572654\ttotal: 889ms\tremaining: 3.57ms\n",
      "996:\tlearn: 0.0571894\ttotal: 890ms\tremaining: 2.68ms\n",
      "997:\tlearn: 0.0571163\ttotal: 890ms\tremaining: 1.78ms\n",
      "998:\tlearn: 0.0570101\ttotal: 891ms\tremaining: 892us\n",
      "999:\tlearn: 0.0568957\ttotal: 892ms\tremaining: 0us\n"
     ]
    },
    {
     "data": {
      "text/plain": [
       "<catboost.core.CatBoostRegressor at 0x7f91063c8d00>"
      ]
     },
     "execution_count": 9,
     "metadata": {},
     "output_type": "execute_result"
    }
   ],
   "source": [
    "#Train the Model \n",
    "prior_model = ctb.CatBoostRegressor()\n",
    "prior_model.fit(X_train,Y_train)"
   ]
  },
  {
   "cell_type": "code",
   "execution_count": 10,
   "id": "af65dcda",
   "metadata": {
    "execution": {
     "iopub.execute_input": "2022-06-12T08:40:09.955352Z",
     "iopub.status.busy": "2022-06-12T08:40:09.954961Z",
     "iopub.status.idle": "2022-06-12T08:40:09.962417Z",
     "shell.execute_reply": "2022-06-12T08:40:09.962666Z"
    },
    "id": "af65dcda",
    "papermill": {
     "duration": 0.020713,
     "end_time": "2022-06-12T08:40:09.962781",
     "exception": false,
     "start_time": "2022-06-12T08:40:09.942068",
     "status": "completed"
    },
    "tags": []
   },
   "outputs": [
    {
     "data": {
      "application/scrapbook.scrap.json+json": {
       "data": 0.09000437001063856,
       "encoder": "json",
       "name": "Prior Model MSE",
       "version": 1
      }
     },
     "metadata": {
      "scrapbook": {
       "data": true,
       "display": false,
       "name": "Prior Model MSE"
      }
     },
     "output_type": "display_data"
    },
    {
     "data": {
      "application/scrapbook.scrap.json+json": {
       "data": 0.09785708249097137,
       "encoder": "json",
       "name": "ABC Pre-generator MSE",
       "version": 1
      }
     },
     "metadata": {
      "scrapbook": {
       "data": true,
       "display": false,
       "name": "ABC Pre-generator MSE"
      }
     },
     "output_type": "display_data"
    },
    {
     "data": {
      "application/scrapbook.scrap.json+json": {
       "data": 0.20652889380770828,
       "encoder": "json",
       "name": "Prior Model MSE",
       "version": 1
      }
     },
     "metadata": {
      "scrapbook": {
       "data": true,
       "display": false,
       "name": "Prior Model MSE"
      }
     },
     "output_type": "display_data"
    },
    {
     "data": {
      "application/scrapbook.scrap.json+json": {
       "data": 0.22693626956454938,
       "encoder": "json",
       "name": "ABC Pre-generator MSE",
       "version": 1
      }
     },
     "metadata": {
      "scrapbook": {
       "data": true,
       "display": false,
       "name": "ABC Pre-generator MSE"
      }
     },
     "output_type": "display_data"
    }
   ],
   "source": [
    "y_pred = prior_model.predict(X_test)\n",
    "y_abc = y_pred + np.random.normal(0,variance, y_pred.shape) + bias \n",
    "mse = mean_squared_error(y_pred,Y_test)\n",
    "sb.glue(\"Prior Model MSE\",mse)\n",
    "mse = mean_squared_error(y_abc,Y_test)\n",
    "sb.glue(\"ABC Pre-generator MSE\",mse)\n",
    "mae = mean_absolute_error(y_pred,Y_test)\n",
    "sb.glue(\"Prior Model MSE\",mae)\n",
    "mae = mean_absolute_error(y_abc,Y_test)\n",
    "sb.glue(\"ABC Pre-generator MSE\",mae)"
   ]
  },
  {
   "cell_type": "markdown",
   "id": "25609da2",
   "metadata": {
    "papermill": {
     "duration": 0.009805,
     "end_time": "2022-06-12T08:40:09.982674",
     "exception": false,
     "start_time": "2022-06-12T08:40:09.972869",
     "status": "completed"
    },
    "tags": []
   },
   "source": [
    "# ABC GAN Model"
   ]
  },
  {
   "cell_type": "code",
   "execution_count": 11,
   "id": "dfc3464d",
   "metadata": {
    "execution": {
     "iopub.execute_input": "2022-06-12T08:40:10.005351Z",
     "iopub.status.busy": "2022-06-12T08:40:10.004962Z",
     "iopub.status.idle": "2022-06-12T08:40:10.007424Z",
     "shell.execute_reply": "2022-06-12T08:40:10.007666Z"
    },
    "papermill": {
     "duration": 0.015157,
     "end_time": "2022-06-12T08:40:10.007771",
     "exception": false,
     "start_time": "2022-06-12T08:40:09.992614",
     "status": "completed"
    },
    "tags": []
   },
   "outputs": [],
   "source": [
    "gen = network.Generator(n_features+1).to(device)\n",
    "disc = network.Discriminator(n_features+1).to(device)\n",
    "\n",
    "criterion = torch.nn.BCELoss()\n",
    "gen_opt = torch.optim.Adam(gen.parameters(), lr=0.001, betas=(0.5, 0.999))\n",
    "disc_opt = torch.optim.Adam(disc.parameters(), lr=0.001, betas=(0.5, 0.999))"
   ]
  },
  {
   "cell_type": "code",
   "execution_count": 12,
   "id": "b75fdd85",
   "metadata": {
    "execution": {
     "iopub.execute_input": "2022-06-12T08:40:10.030200Z",
     "iopub.status.busy": "2022-06-12T08:40:10.029824Z",
     "iopub.status.idle": "2022-06-12T08:41:10.469833Z",
     "shell.execute_reply": "2022-06-12T08:41:10.470132Z"
    },
    "papermill": {
     "duration": 60.452549,
     "end_time": "2022-06-12T08:41:10.470251",
     "exception": false,
     "start_time": "2022-06-12T08:40:10.017702",
     "status": "completed"
    },
    "tags": []
   },
   "outputs": [
    {
     "data": {
      "image/png": "[encoded data removed]",
      "text/plain": [
       "<Figure size 432x288 with 1 Axes>"
      ]
     },
     "metadata": {
      "needs_background": "light"
     },
     "output_type": "display_data"
    },
    {
     "data": {
      "image/png": "[encoded data removed]",
      "text/plain": [
       "<Figure size 432x288 with 1 Axes>"
      ]
     },
     "metadata": {
      "needs_background": "light"
     },
     "output_type": "display_data"
    }
   ],
   "source": [
    "#Training the ABC_GAN \n",
    "ABC_train_test2.training_GAN(disc,gen,disc_opt,gen_opt,train_data,batch_size,n_epochs,criterion,prior_model,variance,bias,device)"
   ]
  },
  {
   "cell_type": "code",
   "execution_count": 13,
   "id": "1fa7c368",
   "metadata": {
    "execution": {
     "iopub.execute_input": "2022-06-12T08:41:10.495168Z",
     "iopub.status.busy": "2022-06-12T08:41:10.494789Z",
     "iopub.status.idle": "2022-06-12T08:41:10.806383Z",
     "shell.execute_reply": "2022-06-12T08:41:10.806637Z"
    },
    "papermill": {
     "duration": 0.325609,
     "end_time": "2022-06-12T08:41:10.806760",
     "exception": false,
     "start_time": "2022-06-12T08:41:10.481151",
     "status": "completed"
    },
    "tags": []
   },
   "outputs": [
    {
     "data": {
      "application/scrapbook.scrap.json+json": {
       "data": 0.10893077226873352,
       "encoder": "json",
       "name": "ABC-GAN Model 1 MSE",
       "version": 1
      }
     },
     "metadata": {
      "scrapbook": {
       "data": true,
       "display": false,
       "name": "ABC-GAN Model 1 MSE"
      }
     },
     "output_type": "display_data"
    },
    {
     "data": {
      "application/scrapbook.scrap.json+json": {
       "data": 0.2257137489618332,
       "encoder": "json",
       "name": "ABC-GAN Model 1 MAE",
       "version": 1
      }
     },
     "metadata": {
      "scrapbook": {
       "data": true,
       "display": false,
       "name": "ABC-GAN Model 1 MAE"
      }
     },
     "output_type": "display_data"
    },
    {
     "data": {
      "application/scrapbook.scrap.json+json": {
       "data": 23.022802394106986,
       "encoder": "json",
       "name": "ABC-GAN Model 1 Manhattan Distance",
       "version": 1
      }
     },
     "metadata": {
      "scrapbook": {
       "data": true,
       "display": false,
       "name": "ABC-GAN Model 1 Manhattan Distance"
      }
     },
     "output_type": "display_data"
    },
    {
     "data": {
      "application/scrapbook.scrap.json+json": {
       "data": 3.333294860361658,
       "encoder": "json",
       "name": "ABC-GAN Model 1 Euclidean distance",
       "version": 1
      }
     },
     "metadata": {
      "scrapbook": {
       "data": true,
       "display": false,
       "name": "ABC-GAN Model 1 Euclidean distance"
      }
     },
     "output_type": "display_data"
    },
    {
     "data": {
      "application/scrapbook.scrap.json+json": {
       "data": [
        [
         0.10803792936230967,
         0.10867650099460625,
         0.10810931886167081,
         0.10977035091129557,
         0.10800555045454714,
         0.10939394109043626,
         0.10882187365243384,
         0.10879475831260138,
         0.10955507545270667,
         0.10915361947712741,
         0.10942783201640935,
         0.10988466513440666,
         0.10869209166237333,
         0.10853691014827282,
         0.10927912347973938,
         0.10880889660949684,
         0.10854871934069882,
         0.109070716267679,
         0.1096524954915955,
         0.10912592244150658,
         0.10886686133955609,
         0.10886385117564666,
         0.10944764990954206,
         0.10879835342597875,
         0.10898828514850244,
         0.10890205093042392,
         0.10842732892747102,
         0.10742145886735911,
         0.10937544874164427,
         0.11012738182800638,
         0.10953145265796942,
         0.1092034051252739,
         0.10954059444806763,
         0.10822475651999856,
         0.1088297071256205,
         0.10951183361818098,
         0.10800939310285669,
         0.1088327849851002,
         0.10935320137886523,
         0.10894328165617036,
         0.10884637601594306,
         0.1095275201773472,
         0.10854272211203841,
         0.11006970832822371,
         0.10929747285083838,
         0.10956065929382786,
         0.10888409915130834,
         0.10985618323505683,
         0.1081114522703357,
         0.1095884885329683,
         0.10931428262444227,
         0.10881501146579382,
         0.10958032889647425,
         0.10847231954998154,
         0.10900515962784102,
         0.10945566859059833,
         0.1083987038999016,
         0.10907000767403677,
         0.10764187382760511,
         0.10785120859811975,
         0.10993983858997305,
         0.10973060540181734,
         0.1094633750388729,
         0.10921099439547588,
         0.1090468409483288,
         0.10920613131473764,
         0.1087397293738087,
         0.10951677259404342,
         0.10944374721329676,
         0.10869277162016026,
         0.10895602319050152,
         0.10934854369318736,
         0.10868482132261109,
         0.10909204026902804,
         0.10981123940905674,
         0.10989489483101385,
         0.10871564388448539,
         0.10909715254435934,
         0.1082744699657287,
         0.10804840929693317,
         0.10933568712954866,
         0.10932649940197045,
         0.10861125524601743,
         0.10767839057962772,
         0.1085176915214159,
         0.10805898159366752,
         0.1089820393221596,
         0.10983143676454822,
         0.10921687270901258,
         0.10877562864618177,
         0.10804531534957636,
         0.10873453116857323,
         0.10826533266097967,
         0.10840178893698496,
         0.10803761411063666,
         0.1079686418424437,
         0.10849569370990876,
         0.1082878784039873,
         0.10823721111227116,
         0.10892007296959023
        ],
        [
         0.22461218764895902,
         0.22428386097810432,
         0.22436075071420739,
         0.22630566367696897,
         0.2249614553452999,
         0.22621663040755427,
         0.22501773078578943,
         0.22501261702136083,
         0.22650930360324828,
         0.22664805364740245,
         0.22697084033679144,
         0.22809311698245652,
         0.2247241560698432,
         0.22399870958179235,
         0.2251963809534323,
         0.22547776564298308,
         0.2259195119909504,
         0.2254639711851875,
         0.22610879001006776,
         0.22450648483765476,
         0.22614496637720102,
         0.22504111790262601,
         0.22358088113148422,
         0.22488169593042603,
         0.22600984633626306,
         0.22587457830634186,
         0.22467740141220538,
         0.22369213550187209,
         0.22571430353484317,
         0.22710765783181963,
         0.22538628829095295,
         0.22569981851048915,
         0.226198999119886,
         0.22553551118528725,
         0.22560433888187012,
         0.22666436881192176,
         0.22330341723692768,
         0.22464591043763885,
         0.22817497355315616,
         0.22470944767416107,
         0.22504710857117294,
         0.2271186563862013,
         0.22361243985520274,
         0.2279290679075262,
         0.2261030998482716,
         0.2265936618889956,
         0.22582691098910337,
         0.22677475471487818,
         0.22483145261146859,
         0.22627816551967578,
         0.22558662556477038,
         0.2255569282079152,
         0.22594695003228446,
         0.22494732148434018,
         0.22661158111969046,
         0.2269525162912175,
         0.22707032859690635,
         0.2265517749440144,
         0.22474859364549904,
         0.22420172099316238,
         0.22538859530479885,
         0.2267793123153787,
         0.22730486206345113,
         0.22659539100805334,
         0.22586868862238,
         0.22635843555497773,
         0.22653002940191358,
         0.22692632483428016,
         0.22633787929354346,
         0.22609348779580757,
         0.2267565801922305,
         0.2266579739858999,
         0.2259683601521686,
         0.2255342041562293,
         0.2274030414683854,
         0.22853949718980812,
         0.22601414659955338,
         0.22528583240494424,
         0.2252687982228749,
         0.2241785552023965,
         0.22573810266148225,
         0.2253456084495958,
         0.2270907004199484,
         0.2243329828385921,
         0.22633672189697915,
         0.22451080949794427,
         0.22611718674135559,
         0.22580850053140344,
         0.22603313381984538,
         0.2255904281365813,
         0.2240451998168639,
         0.2257712808638519,
         0.22538854431945318,
         0.22554646697187541,
         0.22425539325922728,
         0.22566241750895394,
         0.225427583024344,
         0.2246739910185045,
         0.22546946978671292,
         0.22511508029100358
        ],
        [
         22.91044314019382,
         22.87695381976664,
         22.884796572849154,
         23.083177695050836,
         22.94606844522059,
         23.074096301570535,
         22.951808540150523,
         22.951286936178803,
         23.103948967531323,
         23.11810147203505,
         23.151025714352727,
         23.265497932210565,
         22.921863919124007,
         22.84786837734282,
         22.970030857250094,
         22.998732095584273,
         23.04379022307694,
         22.997325060889125,
         23.06309658102691,
         22.899661453440785,
         23.066786570474505,
         22.954194026067853,
         22.80524987541139,
         22.937932984903455,
         23.053004326298833,
         23.03920698724687,
         22.917094944044948,
         22.816597821190953,
         23.022858960554004,
         23.1649810988456,
         22.9894014056772,
         23.021381488069892,
         23.07229791022837,
         23.0046221408993,
         23.01164256595075,
         23.119765618816018,
         22.776948558166623,
         22.913882864639163,
         23.273847302421927,
         22.92036366276443,
         22.95480507425964,
         23.16610295139253,
         22.80846886523068,
         23.248764926567674,
         23.0625161845237,
         23.11255351267755,
         23.034344920888543,
         23.131024980917573,
         22.932808166369796,
         23.08037288300693,
         23.009835807606578,
         23.00680667720735,
         23.046588903293014,
         22.944626791402698,
         23.114381274208426,
         23.149156661704183,
         23.161173516884446,
         23.10828104428947,
         22.9243565518409,
         22.86857554130256,
         22.989636721089482,
         23.131489856168628,
         23.185095930472016,
         23.11272988282144,
         23.03860623948276,
         23.088560426607728,
         23.106062998995185,
         23.146485133096576,
         23.086463687941432,
         23.061535755172372,
         23.12917117960751,
         23.11911334656179,
         23.048772735521197,
         23.00448882393539,
         23.19511022977531,
         23.31102871336043,
         23.053442953154445,
         22.979154905304313,
         22.97741741873324,
         22.86621263064444,
         23.02528647147119,
         22.985252061858773,
         23.163251442834735,
         22.881964249536395,
         23.086345633491874,
         22.900102568790317,
         23.06395304761827,
         23.032467054203153,
         23.05537964962423,
         23.010223669931293,
         22.85261038132012,
         23.028670648112893,
         22.989631520584226,
         23.00573963113129,
         22.874050112441182,
         23.0175665859133,
         22.99361346848309,
         22.916747083887458,
         22.99788591824472,
         22.961738189682364
        ],
        [
         3.319618772533314,
         3.329414828682337,
         3.3207153632749704,
         3.346128478249476,
         3.3191212913004264,
         3.3403865032694195,
         3.331640903901296,
         3.331225802596597,
         3.3428457481876244,
         3.33671532898253,
         3.3409038994969236,
         3.347870344518957,
         3.329653638077402,
         3.327275888038717,
         3.338633042868505,
         3.3314422483616126,
         3.327456892696174,
         3.335447954818551,
         3.344331703067556,
         3.3362919669947457,
         3.3323294940078663,
         3.332283424307717,
         3.341206412476381,
         3.3312808421761493,
         3.334187320044758,
         3.33286801342376,
         3.3255958188875034,
         3.3101342577712205,
         3.3401041558082754,
         3.351565745507113,
         3.34248532848132,
         3.3374761905934154,
         3.3426248119857687,
         3.322487797575764,
         3.3317608147664637,
         3.3421859656599686,
         3.319180335036254,
         3.331807927909443,
         3.3397644438858634,
         3.33349887189562,
         3.3320159593894783,
         3.3424253257312135,
         3.3273649717799096,
         3.350688026283381,
         3.3389133308286874,
         3.342930936763493,
         3.3325933015346245,
         3.3474364355392607,
         3.320748128294924,
         3.3433554747233747,
         3.339170080677699,
         3.331535857455382,
         3.343231004199436,
         3.3262857054225083,
         3.3344454234609655,
         3.3413288069630362,
         3.3251568080001825,
         3.335437120191557,
         3.313528501524579,
         3.3167489017120686,
         3.3487107274557544,
         3.3455226424260482,
         3.3414464314073684,
         3.3375921602764076,
         3.3350828740421927,
         3.3375178492561264,
         3.330383220611178,
         3.3422613309842224,
         3.3411468413938747,
         3.329664052912297,
         3.3336938019906914,
         3.3396933177621424,
         3.329542277086496,
         3.33577398926259,
         3.346751622054404,
         3.3480261756389247,
         3.330014365767437,
         3.3358521489305626,
         3.3232508085464034,
         3.3197797740644153,
         3.339496981165571,
         3.339356665437369,
         3.3284152437900194,
         3.3140904995370937,
         3.3269812946850816,
         3.3199421866282677,
         3.334091782009048,
         3.347059388475788,
         3.3376819825021204,
         3.3309329206560947,
         3.319732243066719,
         3.3303036166683766,
         3.323110580678881,
         3.325204124797824,
         3.3196139292521556,
         3.3185541230977766,
         3.3266440684886462,
         3.3234565736905153,
         3.322678969363676,
         3.3331437777116966
        ]
       ],
       "encoder": "json",
       "name": "ABC_GAN_1 Metrics",
       "version": 1
      }
     },
     "metadata": {
      "scrapbook": {
       "data": true,
       "display": false,
       "name": "ABC_GAN_1 Metrics"
      }
     },
     "output_type": "display_data"
    },
    {
     "name": "stdout",
     "output_type": "stream",
     "text": [
      "MSE\n",
      "0.10893077226873352\n"
     ]
    }
   ],
   "source": [
    "ABC_GAN1_metrics=ABC_train_test2.test_generator(gen,test_data,prior_model,variance,bias,\"1\",device)\n",
    "sb.glue(\"ABC_GAN_1 Metrics\",ABC_GAN1_metrics)\n",
    "\n",
    "print(\"MSE\")\n",
    "print(mean(ABC_GAN1_metrics[0]))"
   ]
  },
  {
   "cell_type": "code",
   "execution_count": 14,
   "id": "eb22ce5c",
   "metadata": {
    "execution": {
     "iopub.execute_input": "2022-06-12T08:41:10.835790Z",
     "iopub.status.busy": "2022-06-12T08:41:10.835396Z",
     "iopub.status.idle": "2022-06-12T08:41:11.165242Z",
     "shell.execute_reply": "2022-06-12T08:41:11.165610Z"
    },
    "papermill": {
     "duration": 0.345862,
     "end_time": "2022-06-12T08:41:11.165736",
     "exception": false,
     "start_time": "2022-06-12T08:41:10.819874",
     "status": "completed"
    },
    "tags": []
   },
   "outputs": [
    {
     "data": {
      "image/png": "[encoded data removed]",
      "text/plain": [
       "<Figure size 432x288 with 1 Axes>"
      ]
     },
     "metadata": {
      "needs_background": "light"
     },
     "output_type": "display_data"
    },
    {
     "data": {
      "image/png": "[encoded data removed]",
      "text/plain": [
       "<Figure size 432x288 with 1 Axes>"
      ]
     },
     "metadata": {
      "needs_background": "light"
     },
     "output_type": "display_data"
    },
    {
     "data": {
      "image/png": "[encoded data removed]",
      "text/plain": [
       "<Figure size 432x288 with 1 Axes>"
      ]
     },
     "metadata": {
      "needs_background": "light"
     },
     "output_type": "display_data"
    },
    {
     "data": {
      "image/png": "[encoded data removed]",
      "text/plain": [
       "<Figure size 432x288 with 1 Axes>"
      ]
     },
     "metadata": {
      "needs_background": "light"
     },
     "output_type": "display_data"
    }
   ],
   "source": [
    "sanityChecks.discProbVsError(train_data,disc,device)\n",
    "sanityChecks.discProbVsError(test_data,disc,device)"
   ]
  },
  {
   "cell_type": "markdown",
   "id": "130f3a4d",
   "metadata": {
    "id": "130f3a4d",
    "papermill": {
     "duration": 0.014761,
     "end_time": "2022-06-12T08:41:11.195504",
     "exception": false,
     "start_time": "2022-06-12T08:41:11.180743",
     "status": "completed"
    },
    "tags": []
   },
   "source": [
    "# ABC - GAN Model with skip connection"
   ]
  },
  {
   "cell_type": "code",
   "execution_count": 15,
   "id": "4e43dad1",
   "metadata": {
    "execution": {
     "iopub.execute_input": "2022-06-12T08:41:11.229158Z",
     "iopub.status.busy": "2022-06-12T08:41:11.228772Z",
     "iopub.status.idle": "2022-06-12T08:41:11.231236Z",
     "shell.execute_reply": "2022-06-12T08:41:11.231494Z"
    },
    "id": "4e43dad1",
    "papermill": {
     "duration": 0.021223,
     "end_time": "2022-06-12T08:41:11.231612",
     "exception": false,
     "start_time": "2022-06-12T08:41:11.210389",
     "status": "completed"
    },
    "tags": []
   },
   "outputs": [],
   "source": [
    "#Generator\n",
    "gen3 = network.GeneratorWithSkipConnection(n_features+1).to(device)\n",
    "constraints=network.weightConstraint()\n",
    "#Discriminator \n",
    "disc3 = network.Discriminator(n_features+1).to(device)\n",
    "\n",
    "criterion = torch.nn.BCELoss()\n",
    "gen_opt = torch.optim.Adam(gen3.parameters(), lr=0.001, betas=(0.5, 0.999))\n",
    "disc_opt = torch.optim.Adam(disc3.parameters(), lr=0.001, betas=(0.5, 0.999))\n"
   ]
  },
  {
   "cell_type": "code",
   "execution_count": 16,
   "id": "26acbc37",
   "metadata": {
    "execution": {
     "iopub.execute_input": "2022-06-12T08:41:11.263520Z",
     "iopub.status.busy": "2022-06-12T08:41:11.263134Z",
     "iopub.status.idle": "2022-06-12T08:44:04.781626Z",
     "shell.execute_reply": "2022-06-12T08:44:04.781923Z"
    },
    "id": "26acbc37",
    "papermill": {
     "duration": 173.535612,
     "end_time": "2022-06-12T08:44:04.782044",
     "exception": false,
     "start_time": "2022-06-12T08:41:11.246432",
     "status": "completed"
    },
    "tags": []
   },
   "outputs": [
    {
     "data": {
      "image/png": "[encoded data removed]",
      "text/plain": [
       "<Figure size 432x288 with 1 Axes>"
      ]
     },
     "metadata": {
      "needs_background": "light"
     },
     "output_type": "display_data"
    },
    {
     "data": {
      "image/png": "[encoded data removed]",
      "text/plain": [
       "<Figure size 432x288 with 1 Axes>"
      ]
     },
     "metadata": {
      "needs_background": "light"
     },
     "output_type": "display_data"
    }
   ],
   "source": [
    "ABC_train_test2.training_GAN_skip_connection(disc3,gen3,disc_opt,gen_opt,train_data,batch_size,n_epochs,criterion,prior_model,variance,bias,device)"
   ]
  },
  {
   "cell_type": "code",
   "execution_count": 17,
   "id": "c5e0717b",
   "metadata": {
    "execution": {
     "iopub.execute_input": "2022-06-12T08:44:04.816368Z",
     "iopub.status.busy": "2022-06-12T08:44:04.815962Z",
     "iopub.status.idle": "2022-06-12T08:44:05.644936Z",
     "shell.execute_reply": "2022-06-12T08:44:05.645348Z"
    },
    "id": "c5e0717b",
    "papermill": {
     "duration": 0.847799,
     "end_time": "2022-06-12T08:44:05.645476",
     "exception": false,
     "start_time": "2022-06-12T08:44:04.797677",
     "status": "completed"
    },
    "tags": []
   },
   "outputs": [
    {
     "data": {
      "application/scrapbook.scrap.json+json": {
       "data": 0.08893821884065367,
       "encoder": "json",
       "name": "ABC-GAN Model 3 MSE",
       "version": 1
      }
     },
     "metadata": {
      "scrapbook": {
       "data": true,
       "display": false,
       "name": "ABC-GAN Model 3 MSE"
      }
     },
     "output_type": "display_data"
    },
    {
     "data": {
      "application/scrapbook.scrap.json+json": {
       "data": 0.21392953978915352,
       "encoder": "json",
       "name": "ABC-GAN Model 3 MAE",
       "version": 1
      }
     },
     "metadata": {
      "scrapbook": {
       "data": true,
       "display": false,
       "name": "ABC-GAN Model 3 MAE"
      }
     },
     "output_type": "display_data"
    },
    {
     "data": {
      "application/scrapbook.scrap.json+json": {
       "data": 21.82081305849366,
       "encoder": "json",
       "name": "ABC-GAN Model 3 Manhattan Distance",
       "version": 1
      }
     },
     "metadata": {
      "scrapbook": {
       "data": true,
       "display": false,
       "name": "ABC-GAN Model 3 Manhattan Distance"
      }
     },
     "output_type": "display_data"
    },
    {
     "data": {
      "application/scrapbook.scrap.json+json": {
       "data": 3.0119072893473438,
       "encoder": "json",
       "name": "ABC-GAN Model 3 Euclidean distance",
       "version": 1
      }
     },
     "metadata": {
      "scrapbook": {
       "data": true,
       "display": false,
       "name": "ABC-GAN Model 3 Euclidean distance"
      }
     },
     "output_type": "display_data"
    },
    {
     "data": {
      "application/scrapbook.scrap.json+json": {
       "data": [
        [
         0.09004540884417007,
         0.08939942918873167,
         0.08850095160111608,
         0.08930686397375869,
         0.08982545251667992,
         0.08878890239455689,
         0.08842829981809151,
         0.08908386986320195,
         0.08894060473282618,
         0.08860499342106917,
         0.088355042846991,
         0.08849417125526751,
         0.08897345689217392,
         0.08826455093657967,
         0.08984507693404498,
         0.08835843609428928,
         0.0878359277733627,
         0.08862855372275287,
         0.0887928995869056,
         0.09036023529138647,
         0.08941892593785863,
         0.08915929366276523,
         0.08850460901231381,
         0.08937328254701654,
         0.08885563163537225,
         0.08797076107725128,
         0.08824518603672364,
         0.08923520220704413,
         0.08772979077514458,
         0.08922278117200724,
         0.08792975442742836,
         0.09022416142970756,
         0.08931180690865313,
         0.08886028649961232,
         0.08868549932084563,
         0.08926454948800043,
         0.08845711301079855,
         0.08882748979755084,
         0.0877774393493595,
         0.08776238828730189,
         0.08970825213760111,
         0.08811694849446206,
         0.08956037735964735,
         0.08878489369554317,
         0.08921245466520353,
         0.08902513075550621,
         0.0890452488481181,
         0.0888461079961582,
         0.08963142406889184,
         0.08785694056113133,
         0.08753735057673144,
         0.08901362938998776,
         0.08829119429103664,
         0.08906006393291917,
         0.08873783343773844,
         0.09034430648047789,
         0.08907382202600361,
         0.08919348932545132,
         0.08927430699834893,
         0.08905869915257139,
         0.0891544755813053,
         0.0889517623125418,
         0.08897554966107236,
         0.08912413359598982,
         0.08908027469246259,
         0.08908184161918338,
         0.08984204027095188,
         0.0896022220227396,
         0.08883770330331123,
         0.08939193913282602,
         0.08840273023765684,
         0.08828391534972725,
         0.0896539655282646,
         0.08879414331933305,
         0.08836158557727555,
         0.08879091038156646,
         0.08879405389343421,
         0.08966874035677834,
         0.08953070603839543,
         0.08931201069879059,
         0.08946941209299121,
         0.08893918837254766,
         0.08887364041714342,
         0.08823310385713329,
         0.08809269001970166,
         0.08961009565354558,
         0.08998249431077955,
         0.08846895879397922,
         0.08873442571238922,
         0.08823406104046343,
         0.09041377641792896,
         0.08881412825276086,
         0.08845047554636128,
         0.0888455656504165,
         0.08950979709989693,
         0.08829974369754223,
         0.09004615985992878,
         0.08905857504765756,
         0.08898464134406114,
         0.08810469284029139
        ],
        [
         0.21446019186473944,
         0.2136856968898107,
         0.21348373896862363,
         0.2144466777715613,
         0.21519021593107313,
         0.21306829861200907,
         0.2132943512360547,
         0.2146482106992135,
         0.21452794023150323,
         0.21373954512105853,
         0.2141887407165532,
         0.21313602490094946,
         0.21402278540692493,
         0.2137053219382377,
         0.2151226651690462,
         0.21325008879762655,
         0.21157369225779,
         0.21363341423007204,
         0.2136351585972543,
         0.21597230408852006,
         0.21509899583407768,
         0.21465132778108703,
         0.21319263680454562,
         0.2137638020383961,
         0.2139553981924466,
         0.21319021275449618,
         0.21244216772417227,
         0.2143244404601408,
         0.2118051989990122,
         0.21399962998853594,
         0.21278993938775623,
         0.2139570437298686,
         0.21389058260612337,
         0.2143281324419613,
         0.21367745778943395,
         0.2139447433143562,
         0.21301357570451265,
         0.2139953601849722,
         0.21295006991382323,
         0.21208046553839072,
         0.21496860202694057,
         0.21296472432931848,
         0.21550493254600203,
         0.21417703838361538,
         0.21478740005370447,
         0.21423130296170712,
         0.21401561399483504,
         0.21381862799399623,
         0.21433466305846677,
         0.2131261421440571,
         0.21272542860870267,
         0.21465267443700747,
         0.2134275016940984,
         0.21282154159145614,
         0.21451817754217806,
         0.21632317906501247,
         0.21387862532819604,
         0.21450200134559588,
         0.21488243310401836,
         0.21486442534289524,
         0.21348283801446943,
         0.21428242740312628,
         0.21440152424004147,
         0.2141658957207612,
         0.21396907433575274,
         0.21340942908735835,
         0.2139232952750343,
         0.21508118961298583,
         0.2150370728626263,
         0.2130901760549522,
         0.21246789558334092,
         0.21314201827215798,
         0.21588858836056554,
         0.21241749432303159,
         0.21371852825669682,
         0.21415975868848025,
         0.21409847472301302,
         0.21487766832989805,
         0.21464938157256327,
         0.2140685478042738,
         0.2148865961159269,
         0.21520150779728212,
         0.21395687519700504,
         0.21286632540617503,
         0.21347332464567587,
         0.21585284471146615,
         0.21365713012203866,
         0.21374888570212267,
         0.21401629503816366,
         0.21335615595693097,
         0.21537943065677786,
         0.21348070004480144,
         0.2124198846811173,
         0.21297787359970458,
         0.21372293909171633,
         0.21228205483845053,
         0.2150475394492056,
         0.214425176637722,
         0.21415371296233407,
         0.21335616757107131
        ],
        [
         21.874939570203424,
         21.79594108276069,
         21.77534137479961,
         21.87356113269925,
         21.94940202496946,
         21.732966458424926,
         21.75602382607758,
         21.894117491319776,
         21.88184990361333,
         21.80143360234797,
         21.847251553088427,
         21.739874539896846,
         21.830324111506343,
         21.797942837700248,
         21.942511847242713,
         21.751509057357907,
         21.58051661029458,
         21.790608251467347,
         21.790786176919937,
         22.029175017029047,
         21.940097575075924,
         21.89443543367088,
         21.745648954063654,
         21.803907807916403,
         21.823450615629554,
         21.74540170095861,
         21.669101107865572,
         21.86109292693436,
         21.604130297899246,
         21.827962258830667,
         21.704573817551136,
         21.823618460446596,
         21.816839425824583,
         21.861469509080052,
         21.79510069452226,
         21.822363818064332,
         21.72738472186029,
         21.827526738867164,
         21.72090713120997,
         21.632207484915853,
         21.926797406747937,
         21.722401881590486,
         21.981503119692206,
         21.846057915128767,
         21.908314805477858,
         21.851592902094126,
         21.829592627473176,
         21.809500055387616,
         21.86213563196361,
         21.738866498693824,
         21.697993718087673,
         21.894572792574763,
         21.769605172798038,
         21.707797242328525,
         21.880854109302163,
         22.06496426463127,
         21.815619783475995,
         21.87920413725078,
         21.918008176609874,
         21.916171384975314,
         21.77524947747588,
         21.85680759511888,
         21.86895547248423,
         21.844921363517642,
         21.82484558224678,
         21.767761766910553,
         21.820176118053496,
         21.938281340524554,
         21.93378143198788,
         21.735197957605124,
         21.671725349500775,
         21.740485863760114,
         22.020636012777686,
         21.66658442094922,
         21.799289882183075,
         21.844295386224985,
         21.838044421747327,
         21.9175221696496,
         21.894236920401454,
         21.83499187603593,
         21.918432803824544,
         21.950553795322776,
         21.823601270094514,
         21.712365191429853,
         21.774279113858938,
         22.01699016056955,
         21.793027272447944,
         21.80238634161651,
         21.829662093892694,
         21.76232790760696,
         21.968701926991343,
         21.775031404569745,
         21.666828237473965,
         21.723743107169867,
         21.799739787355065,
         21.652769593521953,
         21.93484902381897,
         21.871368017047644,
         21.843678722158074,
         21.762329092249274
        ],
        [
         3.0306157298650303,
         3.019725447329712,
         3.004512783017213,
         3.0181617129178786,
         3.026911983639655,
         3.0093966246151074,
         3.0032793046011115,
         3.0143912695678035,
         3.0119664146116025,
         3.006278318610746,
         3.002035038168789,
         3.004397688062831,
         3.012522631118601,
         3.0004973246998783,
         3.027242614537624,
         3.0020926837153965,
         2.9932030724431304,
         3.006677980715726,
         3.0094643639465763,
         3.0359090895020917,
         3.020054709051076,
         3.0156670826870227,
         3.004574864977741,
         3.019283825644037,
         3.0105272672420638,
         2.9954995626572254,
         3.0001681579114554,
         3.0169505506584793,
         2.991394099590481,
         3.016740572131575,
         2.9948013208888655,
         3.0336223340801944,
         3.0182452360076075,
         3.010606122188762,
         3.007643750633751,
         3.01744661059248,
         3.003768554183469,
         3.0100504911629273,
         2.9922063454305206,
         2.991949799930606,
         3.0249366469457364,
         2.9979874493458323,
         3.0224424710296858,
         3.009328688751929,
         3.016565990634178,
         3.013397308199108,
         3.0137377760030892,
         3.0103659271935923,
         3.023641059224287,
         2.9935610795898913,
         2.98811140334938,
         3.013202647977522,
         3.000950152482666,
         3.0139884739590084,
         3.0085310386714172,
         3.03564149085638,
         3.014221267036043,
         3.0162453333898473,
         3.0176115246717217,
         3.0139653802859585,
         3.0155855997290373,
         3.0121553339559473,
         3.012558060092682,
         3.015072408216917,
         3.0143304428398654,
         3.0143569538388624,
         3.0271914553984014,
         3.02314846580836,
         3.0102235360414262,
         3.019598945480717,
         3.0028450649743816,
         3.000826447109559,
         3.0240212439536522,
         3.0094854408307032,
         3.002146187127154,
         3.0094306536153614,
         3.0094839253816077,
         3.024270410593502,
         3.021941762495818,
         3.0182486794955516,
         3.0209071540656627,
         3.0119424320527544,
         3.0108323305273292,
         2.9999627653401952,
         2.997574750028691,
         3.02328128970191,
         3.029556802520711,
         3.0039696731135415,
         3.0084732710568822,
         2.999979037614641,
         3.0368083895150106,
         3.0098240948237502,
         3.0036558567400573,
         3.01035673904979,
         3.0215888708077885,
         3.001095442859042,
         3.0306283681297406,
         3.0139632802774945,
         3.012711970483444,
         2.997778956112295
        ]
       ],
       "encoder": "json",
       "name": "ABC_GAN_3 Metrics",
       "version": 1
      }
     },
     "metadata": {
      "scrapbook": {
       "data": true,
       "display": false,
       "name": "ABC_GAN_3 Metrics"
      }
     },
     "output_type": "display_data"
    },
    {
     "name": "stdout",
     "output_type": "stream",
     "text": [
      "MSE\n",
      "0.08893821884065367\n"
     ]
    }
   ],
   "source": [
    "ABC_GAN3_metrics=ABC_train_test2.test_generator(gen3,test_data,prior_model,variance,bias,\"3\",device)\n",
    "sb.glue(\"ABC_GAN_3 Metrics\",ABC_GAN3_metrics)\n",
    "\n",
    "print(\"MSE\")\n",
    "print(mean(ABC_GAN3_metrics[0]))"
   ]
  },
  {
   "cell_type": "code",
   "execution_count": 18,
   "id": "c8e46b48",
   "metadata": {
    "execution": {
     "iopub.execute_input": "2022-06-12T08:44:05.683080Z",
     "iopub.status.busy": "2022-06-12T08:44:05.682703Z",
     "iopub.status.idle": "2022-06-12T08:44:06.011809Z",
     "shell.execute_reply": "2022-06-12T08:44:06.012101Z"
    },
    "id": "c8e46b48",
    "papermill": {
     "duration": 0.349201,
     "end_time": "2022-06-12T08:44:06.012223",
     "exception": false,
     "start_time": "2022-06-12T08:44:05.663022",
     "status": "completed"
    },
    "tags": []
   },
   "outputs": [
    {
     "data": {
      "image/png": "[encoded data removed]",
      "text/plain": [
       "<Figure size 432x288 with 1 Axes>"
      ]
     },
     "metadata": {
      "needs_background": "light"
     },
     "output_type": "display_data"
    },
    {
     "data": {
      "image/png": "[encoded data removed]",
      "text/plain": [
       "<Figure size 432x288 with 1 Axes>"
      ]
     },
     "metadata": {
      "needs_background": "light"
     },
     "output_type": "display_data"
    },
    {
     "data": {
      "image/png": "[encoded data removed]",
      "text/plain": [
       "<Figure size 432x288 with 1 Axes>"
      ]
     },
     "metadata": {
      "needs_background": "light"
     },
     "output_type": "display_data"
    },
    {
     "data": {
      "image/png": "[encoded data removed]",
      "text/plain": [
       "<Figure size 432x288 with 1 Axes>"
      ]
     },
     "metadata": {
      "needs_background": "light"
     },
     "output_type": "display_data"
    }
   ],
   "source": [
    "sanityChecks.discProbVsError(train_data,disc3,device)\n",
    "sanityChecks.discProbVsError(test_data,disc3,device)"
   ]
  },
  {
   "cell_type": "markdown",
   "id": "a5bd74c3",
   "metadata": {
    "id": "a5bd74c3",
    "papermill": {
     "duration": 0.019942,
     "end_time": "2022-06-12T08:44:06.051890",
     "exception": false,
     "start_time": "2022-06-12T08:44:06.031948",
     "status": "completed"
    },
    "tags": []
   },
   "source": [
    "## Skip Connection Model Analysis - ABC-GAN "
   ]
  },
  {
   "cell_type": "markdown",
   "id": "5744a8bf",
   "metadata": {
    "id": "5744a8bf",
    "papermill": {
     "duration": 0.019661,
     "end_time": "2022-06-12T08:44:06.090895",
     "exception": false,
     "start_time": "2022-06-12T08:44:06.071234",
     "status": "completed"
    },
    "tags": []
   },
   "source": [
    "### Weight Analysis \n",
    "\n",
    "Study the weights of the skip connection layer\n",
    "\n",
    "Equation of the skip connection is \n",
    "\n",
    "$output = y_{gan} * w + y_{abc} * (1-w)$"
   ]
  },
  {
   "cell_type": "code",
   "execution_count": 19,
   "id": "52c31dea",
   "metadata": {
    "execution": {
     "iopub.execute_input": "2022-06-12T08:44:06.132213Z",
     "iopub.status.busy": "2022-06-12T08:44:06.131817Z",
     "iopub.status.idle": "2022-06-12T08:44:06.135202Z",
     "shell.execute_reply": "2022-06-12T08:44:06.135440Z"
    },
    "id": "52c31dea",
    "papermill": {
     "duration": 0.025479,
     "end_time": "2022-06-12T08:44:06.135550",
     "exception": false,
     "start_time": "2022-06-12T08:44:06.110071",
     "status": "completed"
    },
    "tags": []
   },
   "outputs": [
    {
     "name": "stdout",
     "output_type": "stream",
     "text": [
      "Weight of the node at skip connection\n",
      "Parameter containing:\n",
      "tensor([[0.1389]], requires_grad=True)\n"
     ]
    },
    {
     "data": {
      "application/scrapbook.scrap.json+json": {
       "data": 0.13886429369449615,
       "encoder": "json",
       "name": "Skip Connection Weight",
       "version": 1
      }
     },
     "metadata": {
      "scrapbook": {
       "data": true,
       "display": false,
       "name": "Skip Connection Weight"
      }
     },
     "output_type": "display_data"
    }
   ],
   "source": [
    "print(\"Weight of the node at skip connection\")\n",
    "for name,param in gen3.named_parameters():\n",
    "    if(name == \"skipNode.weight\"):\n",
    "        print(param)\n",
    "        sb.glue(\"Skip Connection Weight\",param.item())"
   ]
  }
 ],
 "metadata": {
  "colab": {
   "collapsed_sections": [],
   "name": "ABC_GAN_Model-Catboost_Pre-gen.ipynb",
   "provenance": []
  },
  "interpreter": {
   "hash": "31f2aee4e71d21fbe5cf8b01ff0e069b9275f58929596ceb00d14d90e3e16cd6"
  },
  "kernelspec": {
   "display_name": "Python 3 (ipykernel)",
   "language": "python",
   "name": "python3"
  },
  "language_info": {
   "codemirror_mode": {
    "name": "ipython",
    "version": 3
   },
   "file_extension": ".py",
   "mimetype": "text/x-python",
   "name": "python",
   "nbconvert_exporter": "python",
   "pygments_lexer": "ipython3",
   "version": "3.8.11"
  },
  "papermill": {
   "default_parameters": {},
   "duration": 240.180046,
   "end_time": "2022-06-12T08:44:06.464133",
   "environment_variables": {},
   "exception": null,
   "input_path": "ABC_GAN-Catboost.ipynb",
   "output_path": "./ABC_GAN_Catboost/ABC-GAN_output_10_5.ipynb",
   "parameters": {
    "bias": 0.1,
    "variance": 0.01
   },
   "start_time": "2022-06-12T08:40:06.284087",
   "version": "2.3.3"
  }
 },
 "nbformat": 4,
 "nbformat_minor": 5
}