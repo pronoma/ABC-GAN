{
 "cells": [
  {
   "cell_type": "markdown",
   "id": "622780e6",
   "metadata": {
    "id": "622780e6",
    "papermill": {
     "duration": 0.032691,
     "end_time": "2022-06-12T08:19:22.269777",
     "exception": false,
     "start_time": "2022-06-12T08:19:22.237086",
     "status": "completed"
    },
    "tags": []
   },
   "source": [
    "## Import Libraries "
   ]
  },
  {
   "cell_type": "code",
   "execution_count": 1,
   "id": "a62397e3",
   "metadata": {
    "execution": {
     "iopub.execute_input": "2022-06-12T08:19:22.307488Z",
     "iopub.status.busy": "2022-06-12T08:19:22.306832Z",
     "iopub.status.idle": "2022-06-12T08:19:22.309167Z",
     "shell.execute_reply": "2022-06-12T08:19:22.309525Z"
    },
    "id": "a62397e3",
    "papermill": {
     "duration": 0.022926,
     "end_time": "2022-06-12T08:19:22.309765",
     "exception": false,
     "start_time": "2022-06-12T08:19:22.286839",
     "status": "completed"
    },
    "tags": []
   },
   "outputs": [],
   "source": [
    "import warnings\n",
    "import sys\n",
    "sys.path.insert(0, '../../src')\n",
    "warnings.filterwarnings('ignore')"
   ]
  },
  {
   "cell_type": "code",
   "execution_count": 2,
   "id": "d6a4e155",
   "metadata": {
    "execution": {
     "iopub.execute_input": "2022-06-12T08:19:22.329814Z",
     "iopub.status.busy": "2022-06-12T08:19:22.329434Z",
     "iopub.status.idle": "2022-06-12T08:19:24.082646Z",
     "shell.execute_reply": "2022-06-12T08:19:24.082915Z"
    },
    "id": "d6a4e155",
    "papermill": {
     "duration": 1.763902,
     "end_time": "2022-06-12T08:19:24.083042",
     "exception": false,
     "start_time": "2022-06-12T08:19:22.319140",
     "status": "completed"
    },
    "tags": []
   },
   "outputs": [],
   "source": [
    "import ABC_train_test2\n",
    "import bostonDataset\n",
    "import network\n",
    "import dataset\n",
    "import sanityChecks\n",
    "import torch \n",
    "import scrapbook as sb\n",
    "from statistics import mean \n",
    "import catboost as ctb \n",
    "from sklearn.model_selection import train_test_split\n",
    "from sklearn.metrics import mean_squared_error,mean_absolute_error\n",
    "import numpy as np"
   ]
  },
  {
   "cell_type": "markdown",
   "id": "2fa5b0f7",
   "metadata": {
    "id": "2fa5b0f7",
    "papermill": {
     "duration": 0.006775,
     "end_time": "2022-06-12T08:19:24.096924",
     "exception": false,
     "start_time": "2022-06-12T08:19:24.090149",
     "status": "completed"
    },
    "tags": []
   },
   "source": [
    "## Parameters "
   ]
  },
  {
   "cell_type": "code",
   "execution_count": 3,
   "id": "783186fb",
   "metadata": {
    "execution": {
     "iopub.execute_input": "2022-06-12T08:19:24.112629Z",
     "iopub.status.busy": "2022-06-12T08:19:24.112243Z",
     "iopub.status.idle": "2022-06-12T08:19:24.113558Z",
     "shell.execute_reply": "2022-06-12T08:19:24.113817Z"
    },
    "id": "783186fb",
    "papermill": {
     "duration": 0.010278,
     "end_time": "2022-06-12T08:19:24.113928",
     "exception": false,
     "start_time": "2022-06-12T08:19:24.103650",
     "status": "completed"
    },
    "tags": [
     "parameters"
    ]
   },
   "outputs": [],
   "source": [
    "variance = 1\n",
    "bias = 1 "
   ]
  },
  {
   "cell_type": "code",
   "execution_count": 4,
   "id": "58ea4468",
   "metadata": {
    "execution": {
     "iopub.execute_input": "2022-06-12T08:19:24.129606Z",
     "iopub.status.busy": "2022-06-12T08:19:24.129246Z",
     "iopub.status.idle": "2022-06-12T08:19:24.130481Z",
     "shell.execute_reply": "2022-06-12T08:19:24.130723Z"
    },
    "papermill": {
     "duration": 0.009933,
     "end_time": "2022-06-12T08:19:24.130830",
     "exception": false,
     "start_time": "2022-06-12T08:19:24.120897",
     "status": "completed"
    },
    "tags": [
     "injected-parameters"
    ]
   },
   "outputs": [],
   "source": [
    "# Parameters\n",
    "variance = 1\n",
    "bias = 1\n"
   ]
  },
  {
   "cell_type": "markdown",
   "id": "391cdbfd",
   "metadata": {
    "id": "391cdbfd",
    "papermill": {
     "duration": 0.006786,
     "end_time": "2022-06-12T08:19:24.144565",
     "exception": false,
     "start_time": "2022-06-12T08:19:24.137779",
     "status": "completed"
    },
    "tags": []
   },
   "source": [
    "## Dataset \n"
   ]
  },
  {
   "cell_type": "code",
   "execution_count": 5,
   "id": "5b51f161",
   "metadata": {
    "execution": {
     "iopub.execute_input": "2022-06-12T08:19:24.160207Z",
     "iopub.status.busy": "2022-06-12T08:19:24.159838Z",
     "iopub.status.idle": "2022-06-12T08:19:24.161079Z",
     "shell.execute_reply": "2022-06-12T08:19:24.161318Z"
    },
    "id": "5b51f161",
    "papermill": {
     "duration": 0.010033,
     "end_time": "2022-06-12T08:19:24.161421",
     "exception": false,
     "start_time": "2022-06-12T08:19:24.151388",
     "status": "completed"
    },
    "tags": []
   },
   "outputs": [],
   "source": [
    "#Parameters \n",
    "n_features = 13\n",
    "n_samples= 506\n",
    "n_target = 1 "
   ]
  },
  {
   "cell_type": "code",
   "execution_count": 6,
   "id": "5d6eced4",
   "metadata": {
    "execution": {
     "iopub.execute_input": "2022-06-12T08:19:24.177359Z",
     "iopub.status.busy": "2022-06-12T08:19:24.177002Z",
     "iopub.status.idle": "2022-06-12T08:19:24.187835Z",
     "shell.execute_reply": "2022-06-12T08:19:24.188089Z"
    },
    "id": "5d6eced4",
    "papermill": {
     "duration": 0.01985,
     "end_time": "2022-06-12T08:19:24.188208",
     "exception": false,
     "start_time": "2022-06-12T08:19:24.168358",
     "status": "completed"
    },
    "tags": []
   },
   "outputs": [
    {
     "name": "stdout",
     "output_type": "stream",
     "text": [
      "         X1        X2        X3        X4        X5        X6        X7  \\\n",
      "0 -0.419782  0.284830 -1.287909 -0.272599 -0.144217  0.413672 -0.120013   \n",
      "1 -0.417339 -0.487722 -0.593381 -0.272599 -0.740262  0.194274  0.367166   \n",
      "2 -0.417342 -0.487722 -0.593381 -0.272599 -0.740262  1.282714 -0.265812   \n",
      "3 -0.416750 -0.487722 -1.306878 -0.272599 -0.835284  1.016303 -0.809889   \n",
      "4 -0.412482 -0.487722 -1.306878 -0.272599 -0.835284  1.228577 -0.511180   \n",
      "\n",
      "         X8        X9       X10       X11       X12       X13         Y  \n",
      "0  0.140214 -0.982843 -0.666608 -1.459000  0.441052 -1.075562  0.159686  \n",
      "1  0.557160 -0.867883 -0.987329 -0.303094  0.441052 -0.492439 -0.101524  \n",
      "2  0.557160 -0.867883 -0.987329 -0.303094  0.396427 -1.208727  1.324247  \n",
      "3  1.077737 -0.752922 -1.106115  0.113032  0.416163 -1.361517  1.182758  \n",
      "4  1.077737 -0.752922 -1.106115  0.113032  0.441052 -1.026501  1.487503  \n"
     ]
    }
   ],
   "source": [
    "X,Y = bostonDataset.boston_data()"
   ]
  },
  {
   "cell_type": "code",
   "execution_count": 7,
   "id": "fe007438",
   "metadata": {
    "execution": {
     "iopub.execute_input": "2022-06-12T08:19:24.205634Z",
     "iopub.status.busy": "2022-06-12T08:19:24.205204Z",
     "iopub.status.idle": "2022-06-12T08:19:24.206515Z",
     "shell.execute_reply": "2022-06-12T08:19:24.206756Z"
    },
    "id": "fe007438",
    "papermill": {
     "duration": 0.011261,
     "end_time": "2022-06-12T08:19:24.206865",
     "exception": false,
     "start_time": "2022-06-12T08:19:24.195604",
     "status": "completed"
    },
    "tags": []
   },
   "outputs": [],
   "source": [
    "#Train test split for dataset \n",
    "X_train,X_test,Y_train,Y_test = train_test_split(X,Y,test_size = 0.2)\n",
    "train_data = dataset.CustomDataset(X_train,Y_train)\n",
    "test_data = dataset.CustomDataset(X_test,Y_test)\n"
   ]
  },
  {
   "cell_type": "markdown",
   "id": "a9a1af34",
   "metadata": {
    "id": "a9a1af34",
    "papermill": {
     "duration": 0.007056,
     "end_time": "2022-06-12T08:19:24.221134",
     "exception": false,
     "start_time": "2022-06-12T08:19:24.214078",
     "status": "completed"
    },
    "tags": []
   },
   "source": [
    "## Training Parameters "
   ]
  },
  {
   "cell_type": "code",
   "execution_count": 8,
   "id": "952b7fc8",
   "metadata": {
    "execution": {
     "iopub.execute_input": "2022-06-12T08:19:24.238729Z",
     "iopub.status.busy": "2022-06-12T08:19:24.238321Z",
     "iopub.status.idle": "2022-06-12T08:19:24.239584Z",
     "shell.execute_reply": "2022-06-12T08:19:24.239905Z"
    },
    "id": "952b7fc8",
    "papermill": {
     "duration": 0.011839,
     "end_time": "2022-06-12T08:19:24.240030",
     "exception": false,
     "start_time": "2022-06-12T08:19:24.228191",
     "status": "completed"
    },
    "tags": []
   },
   "outputs": [],
   "source": [
    "batch_size = 32\n",
    "n_epochs = 1000\n",
    "#Select the device \n",
    "device = torch.device('cuda' if torch.cuda.is_available() else 'cpu')"
   ]
  },
  {
   "cell_type": "markdown",
   "id": "a95e1600",
   "metadata": {
    "id": "a95e1600",
    "papermill": {
     "duration": 0.007093,
     "end_time": "2022-06-12T08:19:24.254520",
     "exception": false,
     "start_time": "2022-06-12T08:19:24.247427",
     "status": "completed"
    },
    "tags": []
   },
   "source": [
    "# ABC Pre-generator Model \n",
    "\n",
    "1. The catboost model is used as a pre-generator model for the ABC-GAN. \n",
    "2. The model is first trained on the entire dataset \n",
    "3. It generats X,Y pairs and we add some Gaussian noise with mean 0 and variance 1 to it which is then feed as input to the generator.\n"
   ]
  },
  {
   "cell_type": "code",
   "execution_count": 9,
   "id": "ff8ce7bd",
   "metadata": {
    "execution": {
     "iopub.execute_input": "2022-06-12T08:19:24.278155Z",
     "iopub.status.busy": "2022-06-12T08:19:24.277593Z",
     "iopub.status.idle": "2022-06-12T08:19:25.278207Z",
     "shell.execute_reply": "2022-06-12T08:19:25.278512Z"
    },
    "id": "ff8ce7bd",
    "papermill": {
     "duration": 1.016996,
     "end_time": "2022-06-12T08:19:25.278630",
     "exception": false,
     "start_time": "2022-06-12T08:19:24.261634",
     "status": "completed"
    },
    "tags": []
   },
   "outputs": [
    {
     "name": "stdout",
     "output_type": "stream",
     "text": [
      "Learning rate set to 0.033215\n",
      "0:\tlearn: 0.9677148\ttotal: 58.6ms\tremaining: 58.5s\n",
      "1:\tlearn: 0.9492695\ttotal: 59.7ms\tremaining: 29.8s\n",
      "2:\tlearn: 0.9312965\ttotal: 60.8ms\tremaining: 20.2s\n",
      "3:\tlearn: 0.9141148\ttotal: 61.7ms\tremaining: 15.4s\n",
      "4:\tlearn: 0.8977016\ttotal: 62.7ms\tremaining: 12.5s\n",
      "5:\tlearn: 0.8814256\ttotal: 63.7ms\tremaining: 10.5s\n",
      "6:\tlearn: 0.8673595\ttotal: 64.5ms\tremaining: 9.15s\n",
      "7:\tlearn: 0.8506940\ttotal: 65.5ms\tremaining: 8.12s\n",
      "8:\tlearn: 0.8356550\ttotal: 66.4ms\tremaining: 7.31s\n",
      "9:\tlearn: 0.8194817\ttotal: 67.4ms\tremaining: 6.67s\n",
      "10:\tlearn: 0.8044168\ttotal: 68.2ms\tremaining: 6.13s\n",
      "11:\tlearn: 0.7899627\ttotal: 69ms\tremaining: 5.68s\n",
      "12:\tlearn: 0.7754443\ttotal: 69.8ms\tremaining: 5.3s\n",
      "13:\tlearn: 0.7621733\ttotal: 70.6ms\tremaining: 4.97s\n",
      "14:\tlearn: 0.7504673\ttotal: 71.5ms\tremaining: 4.69s\n",
      "15:\tlearn: 0.7358970\ttotal: 72.4ms\tremaining: 4.45s\n",
      "16:\tlearn: 0.7247006\ttotal: 73.2ms\tremaining: 4.23s\n",
      "17:\tlearn: 0.7131861\ttotal: 73.9ms\tremaining: 4.03s\n",
      "18:\tlearn: 0.7015726\ttotal: 74.7ms\tremaining: 3.86s\n",
      "19:\tlearn: 0.6899303\ttotal: 75.5ms\tremaining: 3.7s\n",
      "20:\tlearn: 0.6769234\ttotal: 76.2ms\tremaining: 3.55s\n",
      "21:\tlearn: 0.6670068\ttotal: 77.1ms\tremaining: 3.42s\n",
      "22:\tlearn: 0.6551715\ttotal: 77.9ms\tremaining: 3.31s\n",
      "23:\tlearn: 0.6456517\ttotal: 78.6ms\tremaining: 3.2s\n",
      "24:\tlearn: 0.6357250\ttotal: 79.5ms\tremaining: 3.1s\n",
      "25:\tlearn: 0.6273072\ttotal: 80.5ms\tremaining: 3.02s\n",
      "26:\tlearn: 0.6190513\ttotal: 81.4ms\tremaining: 2.93s\n",
      "27:\tlearn: 0.6095640\ttotal: 82.1ms\tremaining: 2.85s\n",
      "28:\tlearn: 0.5997512\ttotal: 82.9ms\tremaining: 2.77s\n",
      "29:\tlearn: 0.5899865\ttotal: 83.7ms\tremaining: 2.71s\n",
      "30:\tlearn: 0.5803574\ttotal: 84.9ms\tremaining: 2.65s\n",
      "31:\tlearn: 0.5723520\ttotal: 85.8ms\tremaining: 2.6s\n",
      "32:\tlearn: 0.5651337\ttotal: 86.8ms\tremaining: 2.54s\n",
      "33:\tlearn: 0.5577152\ttotal: 87.7ms\tremaining: 2.49s\n",
      "34:\tlearn: 0.5513425\ttotal: 88.5ms\tremaining: 2.44s\n",
      "35:\tlearn: 0.5438295\ttotal: 89.4ms\tremaining: 2.39s\n",
      "36:\tlearn: 0.5373946\ttotal: 90.4ms\tremaining: 2.35s\n",
      "37:\tlearn: 0.5303983\ttotal: 91.3ms\tremaining: 2.31s\n",
      "38:\tlearn: 0.5235522\ttotal: 92.2ms\tremaining: 2.27s\n",
      "39:\tlearn: 0.5156611\ttotal: 93.1ms\tremaining: 2.23s\n",
      "40:\tlearn: 0.5090450\ttotal: 93.9ms\tremaining: 2.2s\n",
      "41:\tlearn: 0.5028357\ttotal: 94.7ms\tremaining: 2.16s\n",
      "42:\tlearn: 0.4972320\ttotal: 95.7ms\tremaining: 2.13s\n",
      "43:\tlearn: 0.4909128\ttotal: 96.4ms\tremaining: 2.09s\n",
      "44:\tlearn: 0.4853284\ttotal: 97.2ms\tremaining: 2.06s\n",
      "45:\tlearn: 0.4803370\ttotal: 98.1ms\tremaining: 2.03s\n",
      "46:\tlearn: 0.4751303\ttotal: 98.9ms\tremaining: 2s\n",
      "47:\tlearn: 0.4697166\ttotal: 99.8ms\tremaining: 1.98s\n",
      "48:\tlearn: 0.4644356\ttotal: 101ms\tremaining: 1.95s\n",
      "49:\tlearn: 0.4598352\ttotal: 101ms\tremaining: 1.93s\n"
     ]
    },
    {
     "name": "stdout",
     "output_type": "stream",
     "text": [
      "50:\tlearn: 0.4535973\ttotal: 103ms\tremaining: 1.91s\n",
      "51:\tlearn: 0.4489594\ttotal: 104ms\tremaining: 1.89s\n",
      "52:\tlearn: 0.4438088\ttotal: 105ms\tremaining: 1.87s\n",
      "53:\tlearn: 0.4404052\ttotal: 105ms\tremaining: 1.84s\n",
      "54:\tlearn: 0.4360620\ttotal: 106ms\tremaining: 1.82s\n",
      "55:\tlearn: 0.4320334\ttotal: 107ms\tremaining: 1.8s\n",
      "56:\tlearn: 0.4280455\ttotal: 108ms\tremaining: 1.78s\n",
      "57:\tlearn: 0.4240904\ttotal: 109ms\tremaining: 1.76s\n",
      "58:\tlearn: 0.4205806\ttotal: 109ms\tremaining: 1.74s\n",
      "59:\tlearn: 0.4167042\ttotal: 110ms\tremaining: 1.73s\n",
      "60:\tlearn: 0.4120246\ttotal: 111ms\tremaining: 1.71s\n",
      "61:\tlearn: 0.4086388\ttotal: 112ms\tremaining: 1.69s\n",
      "62:\tlearn: 0.4061134\ttotal: 113ms\tremaining: 1.67s\n",
      "63:\tlearn: 0.4025174\ttotal: 114ms\tremaining: 1.66s\n",
      "64:\tlearn: 0.3995992\ttotal: 114ms\tremaining: 1.65s\n",
      "65:\tlearn: 0.3958621\ttotal: 115ms\tremaining: 1.63s\n",
      "66:\tlearn: 0.3923613\ttotal: 116ms\tremaining: 1.61s\n",
      "67:\tlearn: 0.3884328\ttotal: 117ms\tremaining: 1.6s\n",
      "68:\tlearn: 0.3859464\ttotal: 118ms\tremaining: 1.59s\n",
      "69:\tlearn: 0.3835473\ttotal: 119ms\tremaining: 1.58s\n",
      "70:\tlearn: 0.3804738\ttotal: 120ms\tremaining: 1.57s\n",
      "71:\tlearn: 0.3765315\ttotal: 121ms\tremaining: 1.56s\n",
      "72:\tlearn: 0.3741124\ttotal: 122ms\tremaining: 1.54s\n",
      "73:\tlearn: 0.3707401\ttotal: 122ms\tremaining: 1.53s\n",
      "74:\tlearn: 0.3678062\ttotal: 123ms\tremaining: 1.52s\n",
      "75:\tlearn: 0.3650749\ttotal: 124ms\tremaining: 1.51s\n",
      "76:\tlearn: 0.3613891\ttotal: 125ms\tremaining: 1.5s\n",
      "77:\tlearn: 0.3583763\ttotal: 126ms\tremaining: 1.49s\n",
      "78:\tlearn: 0.3563274\ttotal: 127ms\tremaining: 1.48s\n",
      "79:\tlearn: 0.3546079\ttotal: 127ms\tremaining: 1.47s\n",
      "80:\tlearn: 0.3524969\ttotal: 128ms\tremaining: 1.45s\n",
      "81:\tlearn: 0.3501988\ttotal: 129ms\tremaining: 1.45s\n",
      "82:\tlearn: 0.3477354\ttotal: 130ms\tremaining: 1.44s\n",
      "83:\tlearn: 0.3456849\ttotal: 131ms\tremaining: 1.43s\n",
      "84:\tlearn: 0.3433078\ttotal: 132ms\tremaining: 1.42s\n",
      "85:\tlearn: 0.3407731\ttotal: 133ms\tremaining: 1.42s\n",
      "86:\tlearn: 0.3392098\ttotal: 134ms\tremaining: 1.41s\n",
      "87:\tlearn: 0.3361099\ttotal: 135ms\tremaining: 1.4s\n",
      "88:\tlearn: 0.3340047\ttotal: 136ms\tremaining: 1.39s\n",
      "89:\tlearn: 0.3315364\ttotal: 137ms\tremaining: 1.38s\n",
      "90:\tlearn: 0.3287981\ttotal: 138ms\tremaining: 1.38s\n",
      "91:\tlearn: 0.3271552\ttotal: 139ms\tremaining: 1.37s\n",
      "92:\tlearn: 0.3259979\ttotal: 139ms\tremaining: 1.36s\n",
      "93:\tlearn: 0.3245804\ttotal: 140ms\tremaining: 1.35s\n",
      "94:\tlearn: 0.3227162\ttotal: 141ms\tremaining: 1.34s\n",
      "95:\tlearn: 0.3215911\ttotal: 142ms\tremaining: 1.34s\n",
      "96:\tlearn: 0.3195941\ttotal: 143ms\tremaining: 1.33s\n",
      "97:\tlearn: 0.3180742\ttotal: 144ms\tremaining: 1.32s\n",
      "98:\tlearn: 0.3161485\ttotal: 145ms\tremaining: 1.31s\n",
      "99:\tlearn: 0.3143491\ttotal: 145ms\tremaining: 1.31s\n",
      "100:\tlearn: 0.3125260\ttotal: 146ms\tremaining: 1.3s\n",
      "101:\tlearn: 0.3108206\ttotal: 147ms\tremaining: 1.29s\n",
      "102:\tlearn: 0.3094944\ttotal: 148ms\tremaining: 1.29s\n",
      "103:\tlearn: 0.3085067\ttotal: 149ms\tremaining: 1.28s\n",
      "104:\tlearn: 0.3070968\ttotal: 150ms\tremaining: 1.27s\n",
      "105:\tlearn: 0.3052191\ttotal: 150ms\tremaining: 1.27s\n",
      "106:\tlearn: 0.3036506\ttotal: 151ms\tremaining: 1.26s\n",
      "107:\tlearn: 0.3017799\ttotal: 152ms\tremaining: 1.26s\n",
      "108:\tlearn: 0.3003614\ttotal: 153ms\tremaining: 1.25s\n",
      "109:\tlearn: 0.2988425\ttotal: 154ms\tremaining: 1.24s\n",
      "110:\tlearn: 0.2978292\ttotal: 155ms\tremaining: 1.24s\n",
      "111:\tlearn: 0.2968208\ttotal: 155ms\tremaining: 1.23s\n",
      "112:\tlearn: 0.2954072\ttotal: 156ms\tremaining: 1.23s\n",
      "113:\tlearn: 0.2942409\ttotal: 157ms\tremaining: 1.22s\n",
      "114:\tlearn: 0.2933473\ttotal: 158ms\tremaining: 1.21s\n",
      "115:\tlearn: 0.2916273\ttotal: 159ms\tremaining: 1.21s\n",
      "116:\tlearn: 0.2903777\ttotal: 160ms\tremaining: 1.2s\n",
      "117:\tlearn: 0.2891822\ttotal: 160ms\tremaining: 1.2s\n",
      "118:\tlearn: 0.2879289\ttotal: 161ms\tremaining: 1.19s\n",
      "119:\tlearn: 0.2868501\ttotal: 162ms\tremaining: 1.19s\n",
      "120:\tlearn: 0.2856126\ttotal: 163ms\tremaining: 1.18s\n",
      "121:\tlearn: 0.2849029\ttotal: 163ms\tremaining: 1.18s\n",
      "122:\tlearn: 0.2836196\ttotal: 164ms\tremaining: 1.17s\n",
      "123:\tlearn: 0.2824035\ttotal: 165ms\tremaining: 1.17s\n",
      "124:\tlearn: 0.2811278\ttotal: 166ms\tremaining: 1.16s\n",
      "125:\tlearn: 0.2799265\ttotal: 167ms\tremaining: 1.16s\n",
      "126:\tlearn: 0.2785742\ttotal: 168ms\tremaining: 1.15s\n",
      "127:\tlearn: 0.2776001\ttotal: 168ms\tremaining: 1.15s\n",
      "128:\tlearn: 0.2763830\ttotal: 169ms\tremaining: 1.14s\n",
      "129:\tlearn: 0.2753686\ttotal: 170ms\tremaining: 1.14s\n",
      "130:\tlearn: 0.2746355\ttotal: 171ms\tremaining: 1.13s\n",
      "131:\tlearn: 0.2736875\ttotal: 172ms\tremaining: 1.13s\n",
      "132:\tlearn: 0.2727412\ttotal: 173ms\tremaining: 1.12s\n",
      "133:\tlearn: 0.2717521\ttotal: 173ms\tremaining: 1.12s\n",
      "134:\tlearn: 0.2710214\ttotal: 174ms\tremaining: 1.11s\n",
      "135:\tlearn: 0.2704066\ttotal: 175ms\tremaining: 1.11s\n",
      "136:\tlearn: 0.2689891\ttotal: 176ms\tremaining: 1.11s\n",
      "137:\tlearn: 0.2683911\ttotal: 176ms\tremaining: 1.1s\n",
      "138:\tlearn: 0.2672757\ttotal: 177ms\tremaining: 1.1s\n",
      "139:\tlearn: 0.2661584\ttotal: 178ms\tremaining: 1.09s\n",
      "140:\tlearn: 0.2655721\ttotal: 179ms\tremaining: 1.09s\n",
      "141:\tlearn: 0.2647198\ttotal: 180ms\tremaining: 1.09s\n",
      "142:\tlearn: 0.2636358\ttotal: 182ms\tremaining: 1.09s\n",
      "143:\tlearn: 0.2624672\ttotal: 182ms\tremaining: 1.08s\n",
      "144:\tlearn: 0.2616889\ttotal: 183ms\tremaining: 1.08s\n",
      "145:\tlearn: 0.2611358\ttotal: 184ms\tremaining: 1.08s\n",
      "146:\tlearn: 0.2603398\ttotal: 185ms\tremaining: 1.07s\n",
      "147:\tlearn: 0.2597150\ttotal: 186ms\tremaining: 1.07s\n",
      "148:\tlearn: 0.2589961\ttotal: 187ms\tremaining: 1.07s\n",
      "149:\tlearn: 0.2582430\ttotal: 188ms\tremaining: 1.06s\n",
      "150:\tlearn: 0.2571996\ttotal: 189ms\tremaining: 1.06s\n",
      "151:\tlearn: 0.2564103\ttotal: 190ms\tremaining: 1.06s\n",
      "152:\tlearn: 0.2558125\ttotal: 191ms\tremaining: 1.06s\n"
     ]
    },
    {
     "name": "stdout",
     "output_type": "stream",
     "text": [
      "153:\tlearn: 0.2553245\ttotal: 192ms\tremaining: 1.05s\n",
      "154:\tlearn: 0.2544326\ttotal: 193ms\tremaining: 1.05s\n",
      "155:\tlearn: 0.2534538\ttotal: 194ms\tremaining: 1.05s\n",
      "156:\tlearn: 0.2525204\ttotal: 195ms\tremaining: 1.05s\n",
      "157:\tlearn: 0.2516320\ttotal: 196ms\tremaining: 1.04s\n",
      "158:\tlearn: 0.2511310\ttotal: 197ms\tremaining: 1.04s\n",
      "159:\tlearn: 0.2509495\ttotal: 198ms\tremaining: 1.04s\n",
      "160:\tlearn: 0.2501802\ttotal: 199ms\tremaining: 1.03s\n",
      "161:\tlearn: 0.2495391\ttotal: 199ms\tremaining: 1.03s\n",
      "162:\tlearn: 0.2487521\ttotal: 200ms\tremaining: 1.03s\n",
      "163:\tlearn: 0.2480653\ttotal: 201ms\tremaining: 1.03s\n",
      "164:\tlearn: 0.2475428\ttotal: 203ms\tremaining: 1.02s\n",
      "165:\tlearn: 0.2471701\ttotal: 204ms\tremaining: 1.02s\n",
      "166:\tlearn: 0.2460837\ttotal: 204ms\tremaining: 1.02s\n",
      "167:\tlearn: 0.2451846\ttotal: 205ms\tremaining: 1.02s\n",
      "168:\tlearn: 0.2446205\ttotal: 206ms\tremaining: 1.01s\n",
      "169:\tlearn: 0.2439825\ttotal: 207ms\tremaining: 1.01s\n",
      "170:\tlearn: 0.2431722\ttotal: 208ms\tremaining: 1.01s\n",
      "171:\tlearn: 0.2426923\ttotal: 209ms\tremaining: 1s\n",
      "172:\tlearn: 0.2418460\ttotal: 209ms\tremaining: 1s\n",
      "173:\tlearn: 0.2411103\ttotal: 211ms\tremaining: 1000ms\n",
      "174:\tlearn: 0.2401577\ttotal: 212ms\tremaining: 999ms\n",
      "175:\tlearn: 0.2396404\ttotal: 213ms\tremaining: 996ms\n",
      "176:\tlearn: 0.2388826\ttotal: 214ms\tremaining: 993ms\n",
      "177:\tlearn: 0.2385002\ttotal: 214ms\tremaining: 990ms\n",
      "178:\tlearn: 0.2382871\ttotal: 215ms\tremaining: 986ms\n",
      "179:\tlearn: 0.2378455\ttotal: 216ms\tremaining: 984ms\n",
      "180:\tlearn: 0.2370627\ttotal: 217ms\tremaining: 981ms\n",
      "181:\tlearn: 0.2361947\ttotal: 218ms\tremaining: 978ms\n",
      "182:\tlearn: 0.2353831\ttotal: 219ms\tremaining: 976ms\n",
      "183:\tlearn: 0.2352186\ttotal: 219ms\tremaining: 973ms\n",
      "184:\tlearn: 0.2345257\ttotal: 220ms\tremaining: 970ms\n",
      "185:\tlearn: 0.2337568\ttotal: 221ms\tremaining: 967ms\n",
      "186:\tlearn: 0.2328683\ttotal: 222ms\tremaining: 965ms\n",
      "187:\tlearn: 0.2324657\ttotal: 223ms\tremaining: 962ms\n",
      "188:\tlearn: 0.2316714\ttotal: 224ms\tremaining: 960ms\n",
      "189:\tlearn: 0.2309993\ttotal: 224ms\tremaining: 957ms\n",
      "190:\tlearn: 0.2304535\ttotal: 225ms\tremaining: 954ms\n",
      "191:\tlearn: 0.2297941\ttotal: 226ms\tremaining: 952ms\n",
      "192:\tlearn: 0.2293285\ttotal: 227ms\tremaining: 949ms\n",
      "193:\tlearn: 0.2289170\ttotal: 228ms\tremaining: 946ms\n",
      "194:\tlearn: 0.2281801\ttotal: 229ms\tremaining: 944ms\n",
      "195:\tlearn: 0.2276819\ttotal: 230ms\tremaining: 942ms\n",
      "196:\tlearn: 0.2273555\ttotal: 230ms\tremaining: 939ms\n",
      "197:\tlearn: 0.2269152\ttotal: 231ms\tremaining: 937ms\n",
      "198:\tlearn: 0.2265374\ttotal: 232ms\tremaining: 934ms\n",
      "199:\tlearn: 0.2262706\ttotal: 233ms\tremaining: 932ms\n",
      "200:\tlearn: 0.2257385\ttotal: 234ms\tremaining: 929ms\n",
      "201:\tlearn: 0.2253613\ttotal: 234ms\tremaining: 926ms\n",
      "202:\tlearn: 0.2245405\ttotal: 235ms\tremaining: 924ms\n",
      "203:\tlearn: 0.2238039\ttotal: 236ms\tremaining: 922ms\n",
      "204:\tlearn: 0.2233242\ttotal: 237ms\tremaining: 919ms\n",
      "205:\tlearn: 0.2230528\ttotal: 238ms\tremaining: 916ms\n",
      "206:\tlearn: 0.2223658\ttotal: 238ms\tremaining: 914ms\n",
      "207:\tlearn: 0.2218877\ttotal: 239ms\tremaining: 911ms\n",
      "208:\tlearn: 0.2215730\ttotal: 240ms\tremaining: 908ms\n",
      "209:\tlearn: 0.2210419\ttotal: 241ms\tremaining: 905ms\n",
      "210:\tlearn: 0.2205904\ttotal: 242ms\tremaining: 903ms\n",
      "211:\tlearn: 0.2204126\ttotal: 242ms\tremaining: 901ms\n",
      "212:\tlearn: 0.2201990\ttotal: 244ms\tremaining: 900ms\n",
      "213:\tlearn: 0.2194893\ttotal: 245ms\tremaining: 899ms\n",
      "214:\tlearn: 0.2185753\ttotal: 246ms\tremaining: 898ms\n",
      "215:\tlearn: 0.2179990\ttotal: 247ms\tremaining: 896ms\n",
      "216:\tlearn: 0.2175771\ttotal: 248ms\tremaining: 894ms\n",
      "217:\tlearn: 0.2168924\ttotal: 249ms\tremaining: 892ms\n",
      "218:\tlearn: 0.2160393\ttotal: 249ms\tremaining: 889ms\n",
      "219:\tlearn: 0.2157065\ttotal: 250ms\tremaining: 887ms\n",
      "220:\tlearn: 0.2151029\ttotal: 251ms\tremaining: 885ms\n",
      "221:\tlearn: 0.2145166\ttotal: 252ms\tremaining: 882ms\n",
      "222:\tlearn: 0.2139024\ttotal: 253ms\tremaining: 880ms\n",
      "223:\tlearn: 0.2132898\ttotal: 253ms\tremaining: 877ms\n",
      "224:\tlearn: 0.2131218\ttotal: 254ms\tremaining: 875ms\n",
      "225:\tlearn: 0.2126177\ttotal: 255ms\tremaining: 873ms\n",
      "226:\tlearn: 0.2122965\ttotal: 256ms\tremaining: 871ms\n",
      "227:\tlearn: 0.2115149\ttotal: 256ms\tremaining: 868ms\n",
      "228:\tlearn: 0.2109293\ttotal: 257ms\tremaining: 866ms\n",
      "229:\tlearn: 0.2106135\ttotal: 258ms\tremaining: 864ms\n",
      "230:\tlearn: 0.2098500\ttotal: 259ms\tremaining: 862ms\n",
      "231:\tlearn: 0.2093218\ttotal: 260ms\tremaining: 859ms\n",
      "232:\tlearn: 0.2088162\ttotal: 260ms\tremaining: 857ms\n",
      "233:\tlearn: 0.2081429\ttotal: 261ms\tremaining: 855ms\n",
      "234:\tlearn: 0.2074176\ttotal: 262ms\tremaining: 853ms\n",
      "235:\tlearn: 0.2072412\ttotal: 263ms\tremaining: 851ms\n",
      "236:\tlearn: 0.2069969\ttotal: 264ms\tremaining: 849ms\n",
      "237:\tlearn: 0.2066713\ttotal: 265ms\tremaining: 847ms\n",
      "238:\tlearn: 0.2062701\ttotal: 265ms\tremaining: 845ms\n",
      "239:\tlearn: 0.2060165\ttotal: 266ms\tremaining: 843ms\n",
      "240:\tlearn: 0.2057764\ttotal: 267ms\tremaining: 841ms\n",
      "241:\tlearn: 0.2055143\ttotal: 268ms\tremaining: 839ms\n",
      "242:\tlearn: 0.2053358\ttotal: 269ms\tremaining: 837ms\n",
      "243:\tlearn: 0.2052253\ttotal: 269ms\tremaining: 835ms\n",
      "244:\tlearn: 0.2043707\ttotal: 270ms\tremaining: 833ms\n",
      "245:\tlearn: 0.2040226\ttotal: 271ms\tremaining: 831ms\n",
      "246:\tlearn: 0.2033135\ttotal: 272ms\tremaining: 829ms\n",
      "247:\tlearn: 0.2026767\ttotal: 273ms\tremaining: 827ms\n",
      "248:\tlearn: 0.2024267\ttotal: 273ms\tremaining: 825ms\n",
      "249:\tlearn: 0.2019795\ttotal: 274ms\tremaining: 823ms\n",
      "250:\tlearn: 0.2014588\ttotal: 275ms\tremaining: 821ms\n",
      "251:\tlearn: 0.2012604\ttotal: 276ms\tremaining: 819ms\n",
      "252:\tlearn: 0.2010538\ttotal: 277ms\tremaining: 817ms\n",
      "253:\tlearn: 0.2007114\ttotal: 277ms\tremaining: 815ms\n",
      "254:\tlearn: 0.2004591\ttotal: 278ms\tremaining: 813ms\n",
      "255:\tlearn: 0.2003046\ttotal: 280ms\tremaining: 813ms\n",
      "256:\tlearn: 0.2000630\ttotal: 281ms\tremaining: 811ms\n",
      "257:\tlearn: 0.1997941\ttotal: 281ms\tremaining: 809ms\n",
      "258:\tlearn: 0.1995692\ttotal: 282ms\tremaining: 807ms\n",
      "259:\tlearn: 0.1993794\ttotal: 284ms\tremaining: 807ms\n",
      "260:\tlearn: 0.1992242\ttotal: 284ms\tremaining: 805ms\n",
      "261:\tlearn: 0.1989628\ttotal: 285ms\tremaining: 803ms\n",
      "262:\tlearn: 0.1986935\ttotal: 286ms\tremaining: 801ms\n",
      "263:\tlearn: 0.1979826\ttotal: 287ms\tremaining: 799ms\n",
      "264:\tlearn: 0.1978590\ttotal: 287ms\tremaining: 797ms\n",
      "265:\tlearn: 0.1975412\ttotal: 288ms\tremaining: 795ms\n",
      "266:\tlearn: 0.1972505\ttotal: 289ms\tremaining: 793ms\n",
      "267:\tlearn: 0.1971348\ttotal: 290ms\tremaining: 792ms\n",
      "268:\tlearn: 0.1969528\ttotal: 291ms\tremaining: 790ms\n",
      "269:\tlearn: 0.1967528\ttotal: 291ms\tremaining: 788ms\n",
      "270:\tlearn: 0.1963702\ttotal: 292ms\tremaining: 787ms\n"
     ]
    },
    {
     "name": "stdout",
     "output_type": "stream",
     "text": [
      "271:\tlearn: 0.1962909\ttotal: 294ms\tremaining: 786ms\n",
      "272:\tlearn: 0.1960375\ttotal: 294ms\tremaining: 784ms\n",
      "273:\tlearn: 0.1959068\ttotal: 295ms\tremaining: 782ms\n",
      "274:\tlearn: 0.1957103\ttotal: 296ms\tremaining: 781ms\n",
      "275:\tlearn: 0.1954605\ttotal: 297ms\tremaining: 779ms\n",
      "276:\tlearn: 0.1953340\ttotal: 298ms\tremaining: 777ms\n",
      "277:\tlearn: 0.1951130\ttotal: 299ms\tremaining: 776ms\n",
      "278:\tlearn: 0.1947900\ttotal: 300ms\tremaining: 774ms\n",
      "279:\tlearn: 0.1945958\ttotal: 301ms\tremaining: 773ms\n",
      "280:\tlearn: 0.1945086\ttotal: 301ms\tremaining: 771ms\n",
      "281:\tlearn: 0.1944078\ttotal: 302ms\tremaining: 769ms\n",
      "282:\tlearn: 0.1937208\ttotal: 303ms\tremaining: 768ms\n",
      "283:\tlearn: 0.1935294\ttotal: 304ms\tremaining: 766ms\n",
      "284:\tlearn: 0.1934247\ttotal: 307ms\tremaining: 769ms\n",
      "285:\tlearn: 0.1933085\ttotal: 307ms\tremaining: 767ms\n",
      "286:\tlearn: 0.1929346\ttotal: 309ms\tremaining: 767ms\n",
      "287:\tlearn: 0.1926352\ttotal: 310ms\tremaining: 766ms\n",
      "288:\tlearn: 0.1924310\ttotal: 310ms\tremaining: 764ms\n",
      "289:\tlearn: 0.1919733\ttotal: 311ms\tremaining: 762ms\n",
      "290:\tlearn: 0.1913558\ttotal: 312ms\tremaining: 760ms\n",
      "291:\tlearn: 0.1910493\ttotal: 313ms\tremaining: 758ms\n",
      "292:\tlearn: 0.1907686\ttotal: 314ms\tremaining: 757ms\n",
      "293:\tlearn: 0.1906672\ttotal: 314ms\tremaining: 755ms\n",
      "294:\tlearn: 0.1905051\ttotal: 315ms\tremaining: 754ms\n",
      "295:\tlearn: 0.1903435\ttotal: 316ms\tremaining: 752ms\n",
      "296:\tlearn: 0.1901114\ttotal: 317ms\tremaining: 750ms\n",
      "297:\tlearn: 0.1900167\ttotal: 318ms\tremaining: 748ms\n",
      "298:\tlearn: 0.1894177\ttotal: 318ms\tremaining: 746ms\n",
      "299:\tlearn: 0.1893442\ttotal: 319ms\tremaining: 745ms\n",
      "300:\tlearn: 0.1891497\ttotal: 320ms\tremaining: 743ms\n",
      "301:\tlearn: 0.1890474\ttotal: 321ms\tremaining: 741ms\n",
      "302:\tlearn: 0.1885425\ttotal: 321ms\tremaining: 739ms\n",
      "303:\tlearn: 0.1884524\ttotal: 322ms\tremaining: 738ms\n",
      "304:\tlearn: 0.1883872\ttotal: 323ms\tremaining: 737ms\n",
      "305:\tlearn: 0.1883197\ttotal: 324ms\tremaining: 735ms\n",
      "306:\tlearn: 0.1878996\ttotal: 325ms\tremaining: 733ms\n",
      "307:\tlearn: 0.1877664\ttotal: 326ms\tremaining: 732ms\n",
      "308:\tlearn: 0.1871535\ttotal: 326ms\tremaining: 730ms\n",
      "309:\tlearn: 0.1865490\ttotal: 328ms\tremaining: 730ms\n",
      "310:\tlearn: 0.1863039\ttotal: 329ms\tremaining: 728ms\n",
      "311:\tlearn: 0.1856398\ttotal: 329ms\tremaining: 727ms\n",
      "312:\tlearn: 0.1855507\ttotal: 330ms\tremaining: 725ms\n",
      "313:\tlearn: 0.1851058\ttotal: 331ms\tremaining: 723ms\n",
      "314:\tlearn: 0.1848140\ttotal: 332ms\tremaining: 722ms\n",
      "315:\tlearn: 0.1842472\ttotal: 333ms\tremaining: 721ms\n",
      "316:\tlearn: 0.1836754\ttotal: 334ms\tremaining: 719ms\n",
      "317:\tlearn: 0.1830357\ttotal: 335ms\tremaining: 718ms\n",
      "318:\tlearn: 0.1824131\ttotal: 336ms\tremaining: 716ms\n",
      "319:\tlearn: 0.1823510\ttotal: 336ms\tremaining: 715ms\n",
      "320:\tlearn: 0.1819591\ttotal: 337ms\tremaining: 714ms\n",
      "321:\tlearn: 0.1815915\ttotal: 339ms\tremaining: 713ms\n",
      "322:\tlearn: 0.1811373\ttotal: 340ms\tremaining: 712ms\n",
      "323:\tlearn: 0.1806776\ttotal: 340ms\tremaining: 710ms\n",
      "324:\tlearn: 0.1806138\ttotal: 341ms\tremaining: 709ms\n",
      "325:\tlearn: 0.1805435\ttotal: 342ms\tremaining: 707ms\n",
      "326:\tlearn: 0.1804541\ttotal: 343ms\tremaining: 706ms\n",
      "327:\tlearn: 0.1799903\ttotal: 344ms\tremaining: 704ms\n",
      "328:\tlearn: 0.1794404\ttotal: 344ms\tremaining: 703ms\n",
      "329:\tlearn: 0.1793616\ttotal: 345ms\tremaining: 701ms\n",
      "330:\tlearn: 0.1789151\ttotal: 346ms\tremaining: 699ms\n",
      "331:\tlearn: 0.1788296\ttotal: 347ms\tremaining: 698ms\n",
      "332:\tlearn: 0.1782552\ttotal: 348ms\tremaining: 696ms\n",
      "333:\tlearn: 0.1779038\ttotal: 348ms\tremaining: 695ms\n",
      "334:\tlearn: 0.1775035\ttotal: 349ms\tremaining: 693ms\n",
      "335:\tlearn: 0.1774569\ttotal: 350ms\tremaining: 692ms\n",
      "336:\tlearn: 0.1770575\ttotal: 351ms\tremaining: 690ms\n",
      "337:\tlearn: 0.1766452\ttotal: 352ms\tremaining: 689ms\n",
      "338:\tlearn: 0.1761607\ttotal: 353ms\tremaining: 687ms\n",
      "339:\tlearn: 0.1757319\ttotal: 354ms\tremaining: 686ms\n",
      "340:\tlearn: 0.1754442\ttotal: 354ms\tremaining: 685ms\n",
      "341:\tlearn: 0.1750157\ttotal: 356ms\tremaining: 685ms\n",
      "342:\tlearn: 0.1744719\ttotal: 357ms\tremaining: 683ms\n",
      "343:\tlearn: 0.1743588\ttotal: 358ms\tremaining: 682ms\n",
      "344:\tlearn: 0.1739897\ttotal: 358ms\tremaining: 680ms\n",
      "345:\tlearn: 0.1735600\ttotal: 359ms\tremaining: 679ms\n",
      "346:\tlearn: 0.1734077\ttotal: 360ms\tremaining: 678ms\n",
      "347:\tlearn: 0.1729300\ttotal: 361ms\tremaining: 676ms\n",
      "348:\tlearn: 0.1724409\ttotal: 362ms\tremaining: 675ms\n",
      "349:\tlearn: 0.1720307\ttotal: 362ms\tremaining: 673ms\n",
      "350:\tlearn: 0.1716838\ttotal: 363ms\tremaining: 672ms\n",
      "351:\tlearn: 0.1712415\ttotal: 364ms\tremaining: 670ms\n",
      "352:\tlearn: 0.1711883\ttotal: 365ms\tremaining: 669ms\n",
      "353:\tlearn: 0.1708292\ttotal: 366ms\tremaining: 668ms\n",
      "354:\tlearn: 0.1707607\ttotal: 367ms\tremaining: 667ms\n",
      "355:\tlearn: 0.1704220\ttotal: 368ms\tremaining: 665ms\n",
      "356:\tlearn: 0.1703543\ttotal: 371ms\tremaining: 668ms\n",
      "357:\tlearn: 0.1698682\ttotal: 372ms\tremaining: 667ms\n",
      "358:\tlearn: 0.1695989\ttotal: 373ms\tremaining: 665ms\n",
      "359:\tlearn: 0.1691940\ttotal: 373ms\tremaining: 664ms\n",
      "360:\tlearn: 0.1688232\ttotal: 374ms\tremaining: 662ms\n",
      "361:\tlearn: 0.1684502\ttotal: 375ms\tremaining: 661ms\n",
      "362:\tlearn: 0.1680593\ttotal: 376ms\tremaining: 659ms\n",
      "363:\tlearn: 0.1677772\ttotal: 376ms\tremaining: 658ms\n",
      "364:\tlearn: 0.1674377\ttotal: 377ms\tremaining: 656ms\n",
      "365:\tlearn: 0.1670630\ttotal: 378ms\tremaining: 655ms\n",
      "366:\tlearn: 0.1667771\ttotal: 379ms\tremaining: 654ms\n",
      "367:\tlearn: 0.1663952\ttotal: 380ms\tremaining: 652ms\n",
      "368:\tlearn: 0.1663339\ttotal: 381ms\tremaining: 651ms\n",
      "369:\tlearn: 0.1659464\ttotal: 381ms\tremaining: 649ms\n",
      "370:\tlearn: 0.1656735\ttotal: 382ms\tremaining: 648ms\n"
     ]
    },
    {
     "name": "stdout",
     "output_type": "stream",
     "text": [
      "371:\tlearn: 0.1656260\ttotal: 383ms\tremaining: 647ms\n",
      "372:\tlearn: 0.1654740\ttotal: 384ms\tremaining: 646ms\n",
      "373:\tlearn: 0.1650789\ttotal: 385ms\tremaining: 644ms\n",
      "374:\tlearn: 0.1648054\ttotal: 386ms\tremaining: 643ms\n",
      "375:\tlearn: 0.1643531\ttotal: 387ms\tremaining: 642ms\n",
      "376:\tlearn: 0.1641193\ttotal: 388ms\tremaining: 641ms\n",
      "377:\tlearn: 0.1637275\ttotal: 389ms\tremaining: 639ms\n",
      "378:\tlearn: 0.1634262\ttotal: 390ms\tremaining: 638ms\n",
      "379:\tlearn: 0.1628767\ttotal: 390ms\tremaining: 637ms\n",
      "380:\tlearn: 0.1624217\ttotal: 391ms\tremaining: 636ms\n",
      "381:\tlearn: 0.1621392\ttotal: 392ms\tremaining: 634ms\n",
      "382:\tlearn: 0.1620948\ttotal: 393ms\tremaining: 633ms\n",
      "383:\tlearn: 0.1616134\ttotal: 394ms\tremaining: 631ms\n",
      "384:\tlearn: 0.1613104\ttotal: 394ms\tremaining: 630ms\n",
      "385:\tlearn: 0.1610125\ttotal: 395ms\tremaining: 629ms\n",
      "386:\tlearn: 0.1609547\ttotal: 396ms\tremaining: 627ms\n",
      "387:\tlearn: 0.1605957\ttotal: 397ms\tremaining: 626ms\n",
      "388:\tlearn: 0.1605395\ttotal: 398ms\tremaining: 624ms\n",
      "389:\tlearn: 0.1602183\ttotal: 398ms\tremaining: 623ms\n",
      "390:\tlearn: 0.1599096\ttotal: 399ms\tremaining: 622ms\n",
      "391:\tlearn: 0.1594131\ttotal: 400ms\tremaining: 620ms\n",
      "392:\tlearn: 0.1590373\ttotal: 401ms\tremaining: 619ms\n",
      "393:\tlearn: 0.1587088\ttotal: 402ms\tremaining: 618ms\n",
      "394:\tlearn: 0.1582311\ttotal: 403ms\tremaining: 617ms\n",
      "395:\tlearn: 0.1578742\ttotal: 403ms\tremaining: 615ms\n",
      "396:\tlearn: 0.1578395\ttotal: 404ms\tremaining: 614ms\n",
      "397:\tlearn: 0.1573238\ttotal: 405ms\tremaining: 613ms\n",
      "398:\tlearn: 0.1567856\ttotal: 406ms\tremaining: 612ms\n",
      "399:\tlearn: 0.1564027\ttotal: 407ms\tremaining: 610ms\n",
      "400:\tlearn: 0.1563683\ttotal: 408ms\tremaining: 609ms\n",
      "401:\tlearn: 0.1563321\ttotal: 408ms\tremaining: 608ms\n",
      "402:\tlearn: 0.1559585\ttotal: 409ms\tremaining: 606ms\n",
      "403:\tlearn: 0.1556910\ttotal: 410ms\tremaining: 605ms\n",
      "404:\tlearn: 0.1556006\ttotal: 411ms\tremaining: 604ms\n",
      "405:\tlearn: 0.1555630\ttotal: 412ms\tremaining: 603ms\n",
      "406:\tlearn: 0.1551675\ttotal: 413ms\tremaining: 601ms\n",
      "407:\tlearn: 0.1547982\ttotal: 413ms\tremaining: 600ms\n",
      "408:\tlearn: 0.1544459\ttotal: 414ms\tremaining: 598ms\n",
      "409:\tlearn: 0.1541604\ttotal: 415ms\tremaining: 597ms\n",
      "410:\tlearn: 0.1539691\ttotal: 416ms\tremaining: 596ms\n",
      "411:\tlearn: 0.1535416\ttotal: 416ms\tremaining: 594ms\n",
      "412:\tlearn: 0.1533256\ttotal: 417ms\tremaining: 593ms\n",
      "413:\tlearn: 0.1532930\ttotal: 418ms\tremaining: 592ms\n",
      "414:\tlearn: 0.1529333\ttotal: 419ms\tremaining: 591ms\n",
      "415:\tlearn: 0.1529084\ttotal: 420ms\tremaining: 589ms\n",
      "416:\tlearn: 0.1528746\ttotal: 421ms\tremaining: 588ms\n",
      "417:\tlearn: 0.1525884\ttotal: 421ms\tremaining: 586ms\n",
      "418:\tlearn: 0.1524629\ttotal: 422ms\tremaining: 585ms\n",
      "419:\tlearn: 0.1521735\ttotal: 423ms\tremaining: 584ms\n",
      "420:\tlearn: 0.1519301\ttotal: 424ms\tremaining: 583ms\n",
      "421:\tlearn: 0.1516802\ttotal: 424ms\tremaining: 581ms\n",
      "422:\tlearn: 0.1513837\ttotal: 425ms\tremaining: 580ms\n",
      "423:\tlearn: 0.1510803\ttotal: 426ms\tremaining: 579ms\n",
      "424:\tlearn: 0.1508977\ttotal: 427ms\tremaining: 577ms\n",
      "425:\tlearn: 0.1508646\ttotal: 428ms\tremaining: 576ms\n",
      "426:\tlearn: 0.1506432\ttotal: 428ms\tremaining: 575ms\n",
      "427:\tlearn: 0.1505243\ttotal: 429ms\tremaining: 574ms\n",
      "428:\tlearn: 0.1503323\ttotal: 430ms\tremaining: 572ms\n",
      "429:\tlearn: 0.1500745\ttotal: 431ms\tremaining: 571ms\n",
      "430:\tlearn: 0.1499370\ttotal: 434ms\tremaining: 573ms\n",
      "431:\tlearn: 0.1496139\ttotal: 435ms\tremaining: 572ms\n",
      "432:\tlearn: 0.1492991\ttotal: 436ms\tremaining: 571ms\n",
      "433:\tlearn: 0.1492192\ttotal: 437ms\tremaining: 570ms\n",
      "434:\tlearn: 0.1490497\ttotal: 438ms\tremaining: 568ms\n",
      "435:\tlearn: 0.1486881\ttotal: 438ms\tremaining: 567ms\n",
      "436:\tlearn: 0.1483070\ttotal: 439ms\tremaining: 566ms\n",
      "437:\tlearn: 0.1479257\ttotal: 440ms\tremaining: 565ms\n",
      "438:\tlearn: 0.1478769\ttotal: 441ms\tremaining: 564ms\n",
      "439:\tlearn: 0.1476229\ttotal: 442ms\tremaining: 562ms\n",
      "440:\tlearn: 0.1474474\ttotal: 443ms\tremaining: 561ms\n",
      "441:\tlearn: 0.1474130\ttotal: 444ms\tremaining: 560ms\n",
      "442:\tlearn: 0.1471600\ttotal: 444ms\tremaining: 559ms\n",
      "443:\tlearn: 0.1468982\ttotal: 445ms\tremaining: 558ms\n",
      "444:\tlearn: 0.1466330\ttotal: 446ms\tremaining: 556ms\n",
      "445:\tlearn: 0.1464579\ttotal: 447ms\tremaining: 555ms\n",
      "446:\tlearn: 0.1463947\ttotal: 448ms\tremaining: 554ms\n",
      "447:\tlearn: 0.1460002\ttotal: 449ms\tremaining: 553ms\n",
      "448:\tlearn: 0.1458568\ttotal: 450ms\tremaining: 552ms\n",
      "449:\tlearn: 0.1456592\ttotal: 450ms\tremaining: 550ms\n",
      "450:\tlearn: 0.1451151\ttotal: 451ms\tremaining: 549ms\n",
      "451:\tlearn: 0.1450928\ttotal: 452ms\tremaining: 548ms\n",
      "452:\tlearn: 0.1449032\ttotal: 453ms\tremaining: 547ms\n",
      "453:\tlearn: 0.1447529\ttotal: 454ms\tremaining: 546ms\n",
      "454:\tlearn: 0.1444645\ttotal: 454ms\tremaining: 544ms\n",
      "455:\tlearn: 0.1442068\ttotal: 455ms\tremaining: 543ms\n",
      "456:\tlearn: 0.1439912\ttotal: 456ms\tremaining: 542ms\n",
      "457:\tlearn: 0.1436862\ttotal: 457ms\tremaining: 540ms\n",
      "458:\tlearn: 0.1434847\ttotal: 457ms\tremaining: 539ms\n",
      "459:\tlearn: 0.1432630\ttotal: 458ms\tremaining: 538ms\n",
      "460:\tlearn: 0.1429155\ttotal: 459ms\tremaining: 537ms\n",
      "461:\tlearn: 0.1427427\ttotal: 460ms\tremaining: 536ms\n",
      "462:\tlearn: 0.1424947\ttotal: 461ms\tremaining: 535ms\n",
      "463:\tlearn: 0.1423887\ttotal: 462ms\tremaining: 533ms\n",
      "464:\tlearn: 0.1423125\ttotal: 463ms\tremaining: 532ms\n",
      "465:\tlearn: 0.1420169\ttotal: 467ms\tremaining: 535ms\n",
      "466:\tlearn: 0.1415962\ttotal: 468ms\tremaining: 534ms\n",
      "467:\tlearn: 0.1412687\ttotal: 469ms\tremaining: 533ms\n",
      "468:\tlearn: 0.1409187\ttotal: 469ms\tremaining: 532ms\n",
      "469:\tlearn: 0.1406415\ttotal: 470ms\tremaining: 530ms\n",
      "470:\tlearn: 0.1403009\ttotal: 471ms\tremaining: 529ms\n",
      "471:\tlearn: 0.1400615\ttotal: 472ms\tremaining: 528ms\n",
      "472:\tlearn: 0.1398785\ttotal: 473ms\tremaining: 527ms\n",
      "473:\tlearn: 0.1398537\ttotal: 473ms\tremaining: 525ms\n",
      "474:\tlearn: 0.1394539\ttotal: 474ms\tremaining: 524ms\n",
      "475:\tlearn: 0.1392487\ttotal: 475ms\tremaining: 523ms\n",
      "476:\tlearn: 0.1392032\ttotal: 476ms\tremaining: 522ms\n",
      "477:\tlearn: 0.1389081\ttotal: 477ms\tremaining: 521ms\n",
      "478:\tlearn: 0.1385747\ttotal: 478ms\tremaining: 520ms\n",
      "479:\tlearn: 0.1381839\ttotal: 478ms\tremaining: 518ms\n",
      "480:\tlearn: 0.1381415\ttotal: 479ms\tremaining: 517ms\n",
      "481:\tlearn: 0.1378819\ttotal: 480ms\tremaining: 516ms\n",
      "482:\tlearn: 0.1375721\ttotal: 481ms\tremaining: 515ms\n",
      "483:\tlearn: 0.1373709\ttotal: 482ms\tremaining: 513ms\n",
      "484:\tlearn: 0.1368643\ttotal: 482ms\tremaining: 512ms\n",
      "485:\tlearn: 0.1365139\ttotal: 483ms\tremaining: 511ms\n"
     ]
    },
    {
     "name": "stdout",
     "output_type": "stream",
     "text": [
      "486:\tlearn: 0.1362298\ttotal: 484ms\tremaining: 510ms\n",
      "487:\tlearn: 0.1360582\ttotal: 485ms\tremaining: 509ms\n",
      "488:\tlearn: 0.1360025\ttotal: 486ms\tremaining: 508ms\n",
      "489:\tlearn: 0.1356412\ttotal: 487ms\tremaining: 507ms\n",
      "490:\tlearn: 0.1353717\ttotal: 488ms\tremaining: 506ms\n",
      "491:\tlearn: 0.1353281\ttotal: 489ms\tremaining: 504ms\n",
      "492:\tlearn: 0.1350755\ttotal: 489ms\tremaining: 503ms\n",
      "493:\tlearn: 0.1348230\ttotal: 491ms\tremaining: 503ms\n",
      "494:\tlearn: 0.1346227\ttotal: 492ms\tremaining: 502ms\n",
      "495:\tlearn: 0.1342526\ttotal: 492ms\tremaining: 500ms\n",
      "496:\tlearn: 0.1341991\ttotal: 493ms\tremaining: 499ms\n",
      "497:\tlearn: 0.1339186\ttotal: 494ms\tremaining: 498ms\n",
      "498:\tlearn: 0.1336060\ttotal: 495ms\tremaining: 497ms\n",
      "499:\tlearn: 0.1335653\ttotal: 496ms\tremaining: 496ms\n",
      "500:\tlearn: 0.1332665\ttotal: 497ms\tremaining: 495ms\n",
      "501:\tlearn: 0.1330683\ttotal: 499ms\tremaining: 495ms\n",
      "502:\tlearn: 0.1329207\ttotal: 500ms\tremaining: 494ms\n",
      "503:\tlearn: 0.1325527\ttotal: 501ms\tremaining: 493ms\n",
      "504:\tlearn: 0.1323087\ttotal: 502ms\tremaining: 492ms\n",
      "505:\tlearn: 0.1319684\ttotal: 503ms\tremaining: 491ms\n",
      "506:\tlearn: 0.1316557\ttotal: 504ms\tremaining: 490ms\n",
      "507:\tlearn: 0.1314713\ttotal: 505ms\tremaining: 489ms\n",
      "508:\tlearn: 0.1311069\ttotal: 506ms\tremaining: 488ms\n",
      "509:\tlearn: 0.1308233\ttotal: 507ms\tremaining: 487ms\n",
      "510:\tlearn: 0.1304873\ttotal: 507ms\tremaining: 486ms\n",
      "511:\tlearn: 0.1304488\ttotal: 508ms\tremaining: 484ms\n",
      "512:\tlearn: 0.1301235\ttotal: 509ms\tremaining: 483ms\n",
      "513:\tlearn: 0.1298900\ttotal: 510ms\tremaining: 482ms\n",
      "514:\tlearn: 0.1296680\ttotal: 511ms\tremaining: 481ms\n",
      "515:\tlearn: 0.1292122\ttotal: 512ms\tremaining: 480ms\n",
      "516:\tlearn: 0.1289802\ttotal: 512ms\tremaining: 479ms\n",
      "517:\tlearn: 0.1286426\ttotal: 513ms\tremaining: 477ms\n",
      "518:\tlearn: 0.1286109\ttotal: 514ms\tremaining: 476ms\n",
      "519:\tlearn: 0.1283817\ttotal: 515ms\tremaining: 475ms\n",
      "520:\tlearn: 0.1281112\ttotal: 515ms\tremaining: 474ms\n",
      "521:\tlearn: 0.1277702\ttotal: 516ms\tremaining: 473ms\n",
      "522:\tlearn: 0.1276064\ttotal: 517ms\tremaining: 472ms\n",
      "523:\tlearn: 0.1273595\ttotal: 518ms\tremaining: 470ms\n",
      "524:\tlearn: 0.1272278\ttotal: 519ms\tremaining: 469ms\n",
      "525:\tlearn: 0.1271484\ttotal: 520ms\tremaining: 468ms\n",
      "526:\tlearn: 0.1269612\ttotal: 520ms\tremaining: 467ms\n",
      "527:\tlearn: 0.1267539\ttotal: 521ms\tremaining: 466ms\n",
      "528:\tlearn: 0.1265045\ttotal: 522ms\tremaining: 465ms\n",
      "529:\tlearn: 0.1263281\ttotal: 523ms\tremaining: 463ms\n",
      "530:\tlearn: 0.1261446\ttotal: 523ms\tremaining: 462ms\n",
      "531:\tlearn: 0.1259205\ttotal: 524ms\tremaining: 461ms\n",
      "532:\tlearn: 0.1256821\ttotal: 526ms\tremaining: 461ms\n",
      "533:\tlearn: 0.1253740\ttotal: 527ms\tremaining: 459ms\n",
      "534:\tlearn: 0.1251552\ttotal: 527ms\tremaining: 458ms\n",
      "535:\tlearn: 0.1249769\ttotal: 528ms\tremaining: 457ms\n",
      "536:\tlearn: 0.1248492\ttotal: 529ms\tremaining: 456ms\n",
      "537:\tlearn: 0.1245993\ttotal: 530ms\tremaining: 455ms\n",
      "538:\tlearn: 0.1244350\ttotal: 531ms\tremaining: 454ms\n",
      "539:\tlearn: 0.1241844\ttotal: 532ms\tremaining: 453ms\n",
      "540:\tlearn: 0.1238901\ttotal: 533ms\tremaining: 452ms\n",
      "541:\tlearn: 0.1235847\ttotal: 534ms\tremaining: 451ms\n",
      "542:\tlearn: 0.1232974\ttotal: 535ms\tremaining: 450ms\n",
      "543:\tlearn: 0.1230192\ttotal: 536ms\tremaining: 449ms\n",
      "544:\tlearn: 0.1228910\ttotal: 536ms\tremaining: 448ms\n",
      "545:\tlearn: 0.1227920\ttotal: 537ms\tremaining: 447ms\n",
      "546:\tlearn: 0.1225143\ttotal: 538ms\tremaining: 446ms\n",
      "547:\tlearn: 0.1223556\ttotal: 539ms\tremaining: 444ms\n",
      "548:\tlearn: 0.1223283\ttotal: 539ms\tremaining: 443ms\n",
      "549:\tlearn: 0.1220446\ttotal: 540ms\tremaining: 442ms\n",
      "550:\tlearn: 0.1217320\ttotal: 541ms\tremaining: 441ms\n",
      "551:\tlearn: 0.1215790\ttotal: 542ms\tremaining: 440ms\n",
      "552:\tlearn: 0.1212841\ttotal: 543ms\tremaining: 439ms\n",
      "553:\tlearn: 0.1209976\ttotal: 544ms\tremaining: 438ms\n",
      "554:\tlearn: 0.1206182\ttotal: 545ms\tremaining: 437ms\n",
      "555:\tlearn: 0.1203260\ttotal: 546ms\tremaining: 436ms\n",
      "556:\tlearn: 0.1201589\ttotal: 546ms\tremaining: 435ms\n",
      "557:\tlearn: 0.1199112\ttotal: 547ms\tremaining: 434ms\n",
      "558:\tlearn: 0.1196716\ttotal: 548ms\tremaining: 432ms\n",
      "559:\tlearn: 0.1194277\ttotal: 549ms\tremaining: 431ms\n",
      "560:\tlearn: 0.1192393\ttotal: 550ms\tremaining: 430ms\n",
      "561:\tlearn: 0.1190159\ttotal: 551ms\tremaining: 429ms\n",
      "562:\tlearn: 0.1186267\ttotal: 551ms\tremaining: 428ms\n",
      "563:\tlearn: 0.1183737\ttotal: 552ms\tremaining: 427ms\n",
      "564:\tlearn: 0.1181856\ttotal: 553ms\tremaining: 426ms\n",
      "565:\tlearn: 0.1179875\ttotal: 554ms\tremaining: 425ms\n",
      "566:\tlearn: 0.1177847\ttotal: 555ms\tremaining: 424ms\n",
      "567:\tlearn: 0.1176271\ttotal: 556ms\tremaining: 423ms\n",
      "568:\tlearn: 0.1174177\ttotal: 556ms\tremaining: 421ms\n",
      "569:\tlearn: 0.1170794\ttotal: 557ms\tremaining: 420ms\n",
      "570:\tlearn: 0.1168995\ttotal: 558ms\tremaining: 419ms\n",
      "571:\tlearn: 0.1166504\ttotal: 559ms\tremaining: 418ms\n",
      "572:\tlearn: 0.1163256\ttotal: 560ms\tremaining: 417ms\n",
      "573:\tlearn: 0.1160508\ttotal: 561ms\tremaining: 416ms\n",
      "574:\tlearn: 0.1159031\ttotal: 562ms\tremaining: 415ms\n",
      "575:\tlearn: 0.1157328\ttotal: 563ms\tremaining: 414ms\n",
      "576:\tlearn: 0.1155650\ttotal: 563ms\tremaining: 413ms\n",
      "577:\tlearn: 0.1154153\ttotal: 564ms\tremaining: 412ms\n",
      "578:\tlearn: 0.1152683\ttotal: 565ms\tremaining: 411ms\n",
      "579:\tlearn: 0.1149832\ttotal: 566ms\tremaining: 410ms\n",
      "580:\tlearn: 0.1147625\ttotal: 567ms\tremaining: 409ms\n",
      "581:\tlearn: 0.1145132\ttotal: 568ms\tremaining: 408ms\n",
      "582:\tlearn: 0.1141630\ttotal: 568ms\tremaining: 407ms\n",
      "583:\tlearn: 0.1138448\ttotal: 569ms\tremaining: 405ms\n",
      "584:\tlearn: 0.1135432\ttotal: 570ms\tremaining: 404ms\n",
      "585:\tlearn: 0.1132767\ttotal: 571ms\tremaining: 403ms\n",
      "586:\tlearn: 0.1131288\ttotal: 572ms\tremaining: 402ms\n",
      "587:\tlearn: 0.1130091\ttotal: 573ms\tremaining: 401ms\n"
     ]
    },
    {
     "name": "stdout",
     "output_type": "stream",
     "text": [
      "588:\tlearn: 0.1128506\ttotal: 574ms\tremaining: 400ms\n",
      "589:\tlearn: 0.1125483\ttotal: 575ms\tremaining: 399ms\n",
      "590:\tlearn: 0.1123582\ttotal: 576ms\tremaining: 398ms\n",
      "591:\tlearn: 0.1123280\ttotal: 576ms\tremaining: 397ms\n",
      "592:\tlearn: 0.1122014\ttotal: 577ms\tremaining: 396ms\n",
      "593:\tlearn: 0.1118634\ttotal: 578ms\tremaining: 395ms\n",
      "594:\tlearn: 0.1116953\ttotal: 579ms\tremaining: 394ms\n",
      "595:\tlearn: 0.1114469\ttotal: 580ms\tremaining: 393ms\n",
      "596:\tlearn: 0.1111671\ttotal: 581ms\tremaining: 392ms\n",
      "597:\tlearn: 0.1108672\ttotal: 581ms\tremaining: 391ms\n",
      "598:\tlearn: 0.1107064\ttotal: 582ms\tremaining: 390ms\n",
      "599:\tlearn: 0.1104931\ttotal: 583ms\tremaining: 389ms\n",
      "600:\tlearn: 0.1103462\ttotal: 584ms\tremaining: 388ms\n",
      "601:\tlearn: 0.1102318\ttotal: 585ms\tremaining: 387ms\n",
      "602:\tlearn: 0.1100955\ttotal: 585ms\tremaining: 385ms\n",
      "603:\tlearn: 0.1098471\ttotal: 586ms\tremaining: 384ms\n",
      "604:\tlearn: 0.1096606\ttotal: 587ms\tremaining: 383ms\n",
      "605:\tlearn: 0.1094233\ttotal: 588ms\tremaining: 382ms\n",
      "606:\tlearn: 0.1092379\ttotal: 589ms\tremaining: 381ms\n",
      "607:\tlearn: 0.1090679\ttotal: 590ms\tremaining: 380ms\n",
      "608:\tlearn: 0.1088726\ttotal: 591ms\tremaining: 379ms\n",
      "609:\tlearn: 0.1086997\ttotal: 592ms\tremaining: 379ms\n",
      "610:\tlearn: 0.1085523\ttotal: 593ms\tremaining: 377ms\n",
      "611:\tlearn: 0.1082597\ttotal: 594ms\tremaining: 376ms\n",
      "612:\tlearn: 0.1081045\ttotal: 595ms\tremaining: 375ms\n",
      "613:\tlearn: 0.1080668\ttotal: 596ms\tremaining: 375ms\n",
      "614:\tlearn: 0.1078742\ttotal: 597ms\tremaining: 374ms\n",
      "615:\tlearn: 0.1077247\ttotal: 598ms\tremaining: 373ms\n",
      "616:\tlearn: 0.1073581\ttotal: 599ms\tremaining: 372ms\n",
      "617:\tlearn: 0.1069951\ttotal: 599ms\tremaining: 370ms\n",
      "618:\tlearn: 0.1068773\ttotal: 600ms\tremaining: 369ms\n",
      "619:\tlearn: 0.1066678\ttotal: 601ms\tremaining: 368ms\n",
      "620:\tlearn: 0.1065267\ttotal: 602ms\tremaining: 367ms\n",
      "621:\tlearn: 0.1065019\ttotal: 603ms\tremaining: 366ms\n",
      "622:\tlearn: 0.1063014\ttotal: 604ms\tremaining: 365ms\n",
      "623:\tlearn: 0.1061591\ttotal: 604ms\tremaining: 364ms\n",
      "624:\tlearn: 0.1060330\ttotal: 605ms\tremaining: 363ms\n",
      "625:\tlearn: 0.1059940\ttotal: 606ms\tremaining: 362ms\n",
      "626:\tlearn: 0.1058067\ttotal: 607ms\tremaining: 361ms\n",
      "627:\tlearn: 0.1057091\ttotal: 608ms\tremaining: 360ms\n",
      "628:\tlearn: 0.1055798\ttotal: 609ms\tremaining: 359ms\n",
      "629:\tlearn: 0.1053494\ttotal: 610ms\tremaining: 358ms\n",
      "630:\tlearn: 0.1051451\ttotal: 610ms\tremaining: 357ms\n",
      "631:\tlearn: 0.1049680\ttotal: 611ms\tremaining: 356ms\n",
      "632:\tlearn: 0.1047234\ttotal: 612ms\tremaining: 355ms\n",
      "633:\tlearn: 0.1045758\ttotal: 613ms\tremaining: 354ms\n",
      "634:\tlearn: 0.1043235\ttotal: 614ms\tremaining: 353ms\n",
      "635:\tlearn: 0.1040767\ttotal: 614ms\tremaining: 352ms\n",
      "636:\tlearn: 0.1038656\ttotal: 615ms\tremaining: 351ms\n",
      "637:\tlearn: 0.1036719\ttotal: 616ms\tremaining: 350ms\n",
      "638:\tlearn: 0.1034873\ttotal: 617ms\tremaining: 348ms\n",
      "639:\tlearn: 0.1033310\ttotal: 618ms\tremaining: 347ms\n",
      "640:\tlearn: 0.1032414\ttotal: 618ms\tremaining: 346ms\n",
      "641:\tlearn: 0.1032263\ttotal: 619ms\tremaining: 345ms\n",
      "642:\tlearn: 0.1030791\ttotal: 620ms\tremaining: 344ms\n",
      "643:\tlearn: 0.1029251\ttotal: 621ms\tremaining: 343ms\n",
      "644:\tlearn: 0.1027343\ttotal: 622ms\tremaining: 342ms\n",
      "645:\tlearn: 0.1025677\ttotal: 626ms\tremaining: 343ms\n",
      "646:\tlearn: 0.1023711\ttotal: 626ms\tremaining: 342ms\n",
      "647:\tlearn: 0.1020421\ttotal: 627ms\tremaining: 341ms\n",
      "648:\tlearn: 0.1018683\ttotal: 628ms\tremaining: 340ms\n",
      "649:\tlearn: 0.1016520\ttotal: 629ms\tremaining: 339ms\n",
      "650:\tlearn: 0.1016238\ttotal: 629ms\tremaining: 337ms\n",
      "651:\tlearn: 0.1016077\ttotal: 630ms\tremaining: 336ms\n",
      "652:\tlearn: 0.1015105\ttotal: 631ms\tremaining: 335ms\n",
      "653:\tlearn: 0.1012766\ttotal: 632ms\tremaining: 335ms\n",
      "654:\tlearn: 0.1011739\ttotal: 633ms\tremaining: 334ms\n",
      "655:\tlearn: 0.1010568\ttotal: 634ms\tremaining: 332ms\n",
      "656:\tlearn: 0.1008784\ttotal: 635ms\tremaining: 332ms\n",
      "657:\tlearn: 0.1006522\ttotal: 636ms\tremaining: 330ms\n",
      "658:\tlearn: 0.1005845\ttotal: 637ms\tremaining: 330ms\n",
      "659:\tlearn: 0.1003565\ttotal: 638ms\tremaining: 328ms\n",
      "660:\tlearn: 0.1002257\ttotal: 638ms\tremaining: 327ms\n",
      "661:\tlearn: 0.1001121\ttotal: 640ms\tremaining: 327ms\n",
      "662:\tlearn: 0.0998275\ttotal: 640ms\tremaining: 326ms\n",
      "663:\tlearn: 0.0995555\ttotal: 641ms\tremaining: 324ms\n",
      "664:\tlearn: 0.0994873\ttotal: 642ms\tremaining: 323ms\n",
      "665:\tlearn: 0.0992848\ttotal: 643ms\tremaining: 322ms\n",
      "666:\tlearn: 0.0991601\ttotal: 644ms\tremaining: 321ms\n",
      "667:\tlearn: 0.0990090\ttotal: 644ms\tremaining: 320ms\n",
      "668:\tlearn: 0.0988672\ttotal: 645ms\tremaining: 319ms\n",
      "669:\tlearn: 0.0986488\ttotal: 646ms\tremaining: 318ms\n",
      "670:\tlearn: 0.0985493\ttotal: 647ms\tremaining: 317ms\n",
      "671:\tlearn: 0.0983165\ttotal: 648ms\tremaining: 316ms\n",
      "672:\tlearn: 0.0981519\ttotal: 649ms\tremaining: 315ms\n",
      "673:\tlearn: 0.0979913\ttotal: 649ms\tremaining: 314ms\n",
      "674:\tlearn: 0.0978539\ttotal: 650ms\tremaining: 313ms\n",
      "675:\tlearn: 0.0976546\ttotal: 651ms\tremaining: 312ms\n",
      "676:\tlearn: 0.0975175\ttotal: 652ms\tremaining: 311ms\n",
      "677:\tlearn: 0.0972758\ttotal: 653ms\tremaining: 310ms\n",
      "678:\tlearn: 0.0970679\ttotal: 654ms\tremaining: 309ms\n",
      "679:\tlearn: 0.0970071\ttotal: 654ms\tremaining: 308ms\n",
      "680:\tlearn: 0.0968593\ttotal: 655ms\tremaining: 307ms\n",
      "681:\tlearn: 0.0966541\ttotal: 656ms\tremaining: 306ms\n",
      "682:\tlearn: 0.0965613\ttotal: 657ms\tremaining: 305ms\n",
      "683:\tlearn: 0.0963064\ttotal: 658ms\tremaining: 304ms\n",
      "684:\tlearn: 0.0961458\ttotal: 659ms\tremaining: 303ms\n",
      "685:\tlearn: 0.0959394\ttotal: 660ms\tremaining: 302ms\n",
      "686:\tlearn: 0.0958098\ttotal: 661ms\tremaining: 301ms\n",
      "687:\tlearn: 0.0956771\ttotal: 662ms\tremaining: 300ms\n",
      "688:\tlearn: 0.0955092\ttotal: 662ms\tremaining: 299ms\n",
      "689:\tlearn: 0.0953484\ttotal: 663ms\tremaining: 298ms\n",
      "690:\tlearn: 0.0951027\ttotal: 664ms\tremaining: 297ms\n",
      "691:\tlearn: 0.0949342\ttotal: 665ms\tremaining: 296ms\n",
      "692:\tlearn: 0.0948696\ttotal: 666ms\tremaining: 295ms\n",
      "693:\tlearn: 0.0946352\ttotal: 667ms\tremaining: 294ms\n",
      "694:\tlearn: 0.0944624\ttotal: 668ms\tremaining: 293ms\n",
      "695:\tlearn: 0.0942571\ttotal: 669ms\tremaining: 292ms\n",
      "696:\tlearn: 0.0940928\ttotal: 670ms\tremaining: 291ms\n",
      "697:\tlearn: 0.0939515\ttotal: 670ms\tremaining: 290ms\n",
      "698:\tlearn: 0.0937927\ttotal: 671ms\tremaining: 289ms\n",
      "699:\tlearn: 0.0936449\ttotal: 672ms\tremaining: 288ms\n",
      "700:\tlearn: 0.0934576\ttotal: 673ms\tremaining: 287ms\n",
      "701:\tlearn: 0.0932915\ttotal: 674ms\tremaining: 286ms\n",
      "702:\tlearn: 0.0930836\ttotal: 674ms\tremaining: 285ms\n"
     ]
    },
    {
     "name": "stdout",
     "output_type": "stream",
     "text": [
      "703:\tlearn: 0.0929801\ttotal: 675ms\tremaining: 284ms\n",
      "704:\tlearn: 0.0928653\ttotal: 676ms\tremaining: 283ms\n",
      "705:\tlearn: 0.0927394\ttotal: 677ms\tremaining: 282ms\n",
      "706:\tlearn: 0.0926025\ttotal: 678ms\tremaining: 281ms\n",
      "707:\tlearn: 0.0923412\ttotal: 679ms\tremaining: 280ms\n",
      "708:\tlearn: 0.0921625\ttotal: 680ms\tremaining: 279ms\n",
      "709:\tlearn: 0.0920489\ttotal: 680ms\tremaining: 278ms\n",
      "710:\tlearn: 0.0919330\ttotal: 681ms\tremaining: 277ms\n",
      "711:\tlearn: 0.0917268\ttotal: 682ms\tremaining: 276ms\n",
      "712:\tlearn: 0.0915804\ttotal: 683ms\tremaining: 275ms\n",
      "713:\tlearn: 0.0913419\ttotal: 684ms\tremaining: 274ms\n",
      "714:\tlearn: 0.0912803\ttotal: 685ms\tremaining: 273ms\n",
      "715:\tlearn: 0.0910981\ttotal: 685ms\tremaining: 272ms\n",
      "716:\tlearn: 0.0910002\ttotal: 689ms\tremaining: 272ms\n",
      "717:\tlearn: 0.0908040\ttotal: 690ms\tremaining: 271ms\n",
      "718:\tlearn: 0.0907143\ttotal: 691ms\tremaining: 270ms\n",
      "719:\tlearn: 0.0906380\ttotal: 691ms\tremaining: 269ms\n",
      "720:\tlearn: 0.0905259\ttotal: 692ms\tremaining: 268ms\n",
      "721:\tlearn: 0.0904126\ttotal: 693ms\tremaining: 267ms\n",
      "722:\tlearn: 0.0901328\ttotal: 695ms\tremaining: 266ms\n",
      "723:\tlearn: 0.0899213\ttotal: 696ms\tremaining: 265ms\n",
      "724:\tlearn: 0.0897746\ttotal: 696ms\tremaining: 264ms\n",
      "725:\tlearn: 0.0895704\ttotal: 697ms\tremaining: 263ms\n",
      "726:\tlearn: 0.0894066\ttotal: 698ms\tremaining: 262ms\n",
      "727:\tlearn: 0.0892877\ttotal: 699ms\tremaining: 261ms\n",
      "728:\tlearn: 0.0891190\ttotal: 699ms\tremaining: 260ms\n",
      "729:\tlearn: 0.0889241\ttotal: 700ms\tremaining: 259ms\n",
      "730:\tlearn: 0.0887616\ttotal: 701ms\tremaining: 258ms\n",
      "731:\tlearn: 0.0886378\ttotal: 702ms\tremaining: 257ms\n",
      "732:\tlearn: 0.0886059\ttotal: 703ms\tremaining: 256ms\n",
      "733:\tlearn: 0.0884476\ttotal: 704ms\tremaining: 255ms\n",
      "734:\tlearn: 0.0883376\ttotal: 704ms\tremaining: 254ms\n",
      "735:\tlearn: 0.0880530\ttotal: 705ms\tremaining: 253ms\n",
      "736:\tlearn: 0.0879469\ttotal: 706ms\tremaining: 252ms\n",
      "737:\tlearn: 0.0878401\ttotal: 707ms\tremaining: 251ms\n",
      "738:\tlearn: 0.0876242\ttotal: 707ms\tremaining: 250ms\n",
      "739:\tlearn: 0.0875123\ttotal: 708ms\tremaining: 249ms\n",
      "740:\tlearn: 0.0873939\ttotal: 709ms\tremaining: 248ms\n",
      "741:\tlearn: 0.0872528\ttotal: 710ms\tremaining: 247ms\n",
      "742:\tlearn: 0.0870915\ttotal: 711ms\tremaining: 246ms\n",
      "743:\tlearn: 0.0869651\ttotal: 711ms\tremaining: 245ms\n",
      "744:\tlearn: 0.0868605\ttotal: 712ms\tremaining: 244ms\n",
      "745:\tlearn: 0.0867128\ttotal: 713ms\tremaining: 243ms\n",
      "746:\tlearn: 0.0865422\ttotal: 714ms\tremaining: 242ms\n",
      "747:\tlearn: 0.0864283\ttotal: 715ms\tremaining: 241ms\n",
      "748:\tlearn: 0.0863142\ttotal: 715ms\tremaining: 240ms\n",
      "749:\tlearn: 0.0861512\ttotal: 716ms\tremaining: 239ms\n",
      "750:\tlearn: 0.0859153\ttotal: 721ms\tremaining: 239ms\n",
      "751:\tlearn: 0.0857175\ttotal: 722ms\tremaining: 238ms\n",
      "752:\tlearn: 0.0856014\ttotal: 722ms\tremaining: 237ms\n",
      "753:\tlearn: 0.0855105\ttotal: 723ms\tremaining: 236ms\n",
      "754:\tlearn: 0.0853990\ttotal: 724ms\tremaining: 235ms\n",
      "755:\tlearn: 0.0853070\ttotal: 725ms\tremaining: 234ms\n",
      "756:\tlearn: 0.0851121\ttotal: 726ms\tremaining: 233ms\n",
      "757:\tlearn: 0.0849975\ttotal: 727ms\tremaining: 232ms\n",
      "758:\tlearn: 0.0849295\ttotal: 728ms\tremaining: 231ms\n",
      "759:\tlearn: 0.0848378\ttotal: 729ms\tremaining: 230ms\n",
      "760:\tlearn: 0.0846798\ttotal: 730ms\tremaining: 229ms\n",
      "761:\tlearn: 0.0845994\ttotal: 730ms\tremaining: 228ms\n",
      "762:\tlearn: 0.0844603\ttotal: 731ms\tremaining: 227ms\n",
      "763:\tlearn: 0.0843337\ttotal: 732ms\tremaining: 226ms\n",
      "764:\tlearn: 0.0841073\ttotal: 733ms\tremaining: 225ms\n",
      "765:\tlearn: 0.0839443\ttotal: 734ms\tremaining: 224ms\n",
      "766:\tlearn: 0.0838322\ttotal: 734ms\tremaining: 223ms\n",
      "767:\tlearn: 0.0837039\ttotal: 735ms\tremaining: 222ms\n",
      "768:\tlearn: 0.0835601\ttotal: 736ms\tremaining: 221ms\n",
      "769:\tlearn: 0.0834853\ttotal: 738ms\tremaining: 220ms\n",
      "770:\tlearn: 0.0833697\ttotal: 738ms\tremaining: 219ms\n",
      "771:\tlearn: 0.0831691\ttotal: 739ms\tremaining: 218ms\n",
      "772:\tlearn: 0.0831231\ttotal: 740ms\tremaining: 217ms\n",
      "773:\tlearn: 0.0829789\ttotal: 741ms\tremaining: 216ms\n",
      "774:\tlearn: 0.0828777\ttotal: 742ms\tremaining: 215ms\n",
      "775:\tlearn: 0.0827041\ttotal: 743ms\tremaining: 214ms\n",
      "776:\tlearn: 0.0825906\ttotal: 744ms\tremaining: 213ms\n",
      "777:\tlearn: 0.0824124\ttotal: 745ms\tremaining: 212ms\n",
      "778:\tlearn: 0.0822235\ttotal: 746ms\tremaining: 212ms\n",
      "779:\tlearn: 0.0821110\ttotal: 747ms\tremaining: 211ms\n",
      "780:\tlearn: 0.0819940\ttotal: 748ms\tremaining: 210ms\n",
      "781:\tlearn: 0.0818984\ttotal: 749ms\tremaining: 209ms\n",
      "782:\tlearn: 0.0816855\ttotal: 750ms\tremaining: 208ms\n",
      "783:\tlearn: 0.0815411\ttotal: 751ms\tremaining: 207ms\n",
      "784:\tlearn: 0.0813647\ttotal: 752ms\tremaining: 206ms\n",
      "785:\tlearn: 0.0813022\ttotal: 753ms\tremaining: 205ms\n",
      "786:\tlearn: 0.0812117\ttotal: 754ms\tremaining: 204ms\n",
      "787:\tlearn: 0.0810788\ttotal: 755ms\tremaining: 203ms\n",
      "788:\tlearn: 0.0809080\ttotal: 755ms\tremaining: 202ms\n",
      "789:\tlearn: 0.0808076\ttotal: 756ms\tremaining: 201ms\n",
      "790:\tlearn: 0.0806291\ttotal: 757ms\tremaining: 200ms\n",
      "791:\tlearn: 0.0804718\ttotal: 758ms\tremaining: 199ms\n",
      "792:\tlearn: 0.0803774\ttotal: 759ms\tremaining: 198ms\n",
      "793:\tlearn: 0.0802795\ttotal: 760ms\tremaining: 197ms\n",
      "794:\tlearn: 0.0801271\ttotal: 760ms\tremaining: 196ms\n",
      "795:\tlearn: 0.0799441\ttotal: 761ms\tremaining: 195ms\n",
      "796:\tlearn: 0.0797408\ttotal: 762ms\tremaining: 194ms\n",
      "797:\tlearn: 0.0795917\ttotal: 763ms\tremaining: 193ms\n",
      "798:\tlearn: 0.0794744\ttotal: 763ms\tremaining: 192ms\n",
      "799:\tlearn: 0.0793891\ttotal: 764ms\tremaining: 191ms\n"
     ]
    },
    {
     "name": "stdout",
     "output_type": "stream",
     "text": [
      "800:\tlearn: 0.0792309\ttotal: 765ms\tremaining: 190ms\n",
      "801:\tlearn: 0.0791538\ttotal: 766ms\tremaining: 189ms\n",
      "802:\tlearn: 0.0790763\ttotal: 767ms\tremaining: 188ms\n",
      "803:\tlearn: 0.0789830\ttotal: 768ms\tremaining: 187ms\n",
      "804:\tlearn: 0.0789358\ttotal: 769ms\tremaining: 186ms\n",
      "805:\tlearn: 0.0788437\ttotal: 770ms\tremaining: 185ms\n",
      "806:\tlearn: 0.0786967\ttotal: 770ms\tremaining: 184ms\n",
      "807:\tlearn: 0.0786384\ttotal: 771ms\tremaining: 183ms\n",
      "808:\tlearn: 0.0784750\ttotal: 772ms\tremaining: 182ms\n",
      "809:\tlearn: 0.0783706\ttotal: 773ms\tremaining: 181ms\n",
      "810:\tlearn: 0.0782717\ttotal: 774ms\tremaining: 180ms\n",
      "811:\tlearn: 0.0781890\ttotal: 775ms\tremaining: 179ms\n",
      "812:\tlearn: 0.0781289\ttotal: 776ms\tremaining: 178ms\n",
      "813:\tlearn: 0.0779679\ttotal: 777ms\tremaining: 177ms\n",
      "814:\tlearn: 0.0777626\ttotal: 778ms\tremaining: 177ms\n",
      "815:\tlearn: 0.0776178\ttotal: 778ms\tremaining: 176ms\n",
      "816:\tlearn: 0.0775449\ttotal: 779ms\tremaining: 175ms\n",
      "817:\tlearn: 0.0773942\ttotal: 780ms\tremaining: 174ms\n",
      "818:\tlearn: 0.0772159\ttotal: 781ms\tremaining: 173ms\n",
      "819:\tlearn: 0.0771547\ttotal: 782ms\tremaining: 172ms\n",
      "820:\tlearn: 0.0770600\ttotal: 782ms\tremaining: 171ms\n",
      "821:\tlearn: 0.0768361\ttotal: 783ms\tremaining: 170ms\n",
      "822:\tlearn: 0.0767397\ttotal: 784ms\tremaining: 169ms\n",
      "823:\tlearn: 0.0765802\ttotal: 785ms\tremaining: 168ms\n",
      "824:\tlearn: 0.0764755\ttotal: 786ms\tremaining: 167ms\n",
      "825:\tlearn: 0.0762854\ttotal: 786ms\tremaining: 166ms\n",
      "826:\tlearn: 0.0760919\ttotal: 787ms\tremaining: 165ms\n",
      "827:\tlearn: 0.0759646\ttotal: 788ms\tremaining: 164ms\n",
      "828:\tlearn: 0.0758698\ttotal: 789ms\tremaining: 163ms\n",
      "829:\tlearn: 0.0757306\ttotal: 790ms\tremaining: 162ms\n",
      "830:\tlearn: 0.0756523\ttotal: 791ms\tremaining: 161ms\n",
      "831:\tlearn: 0.0756122\ttotal: 792ms\tremaining: 160ms\n",
      "832:\tlearn: 0.0754188\ttotal: 792ms\tremaining: 159ms\n",
      "833:\tlearn: 0.0753862\ttotal: 793ms\tremaining: 158ms\n",
      "834:\tlearn: 0.0752026\ttotal: 794ms\tremaining: 157ms\n",
      "835:\tlearn: 0.0750803\ttotal: 795ms\tremaining: 156ms\n",
      "836:\tlearn: 0.0749531\ttotal: 796ms\tremaining: 155ms\n",
      "837:\tlearn: 0.0748726\ttotal: 797ms\tremaining: 154ms\n",
      "838:\tlearn: 0.0747859\ttotal: 797ms\tremaining: 153ms\n",
      "839:\tlearn: 0.0746572\ttotal: 798ms\tremaining: 152ms\n",
      "840:\tlearn: 0.0745519\ttotal: 799ms\tremaining: 151ms\n",
      "841:\tlearn: 0.0744650\ttotal: 800ms\tremaining: 150ms\n",
      "842:\tlearn: 0.0743733\ttotal: 801ms\tremaining: 149ms\n",
      "843:\tlearn: 0.0741650\ttotal: 802ms\tremaining: 148ms\n",
      "844:\tlearn: 0.0741180\ttotal: 802ms\tremaining: 147ms\n",
      "845:\tlearn: 0.0740645\ttotal: 803ms\tremaining: 146ms\n",
      "846:\tlearn: 0.0739480\ttotal: 804ms\tremaining: 145ms\n",
      "847:\tlearn: 0.0738722\ttotal: 805ms\tremaining: 144ms\n",
      "848:\tlearn: 0.0738276\ttotal: 806ms\tremaining: 143ms\n",
      "849:\tlearn: 0.0737418\ttotal: 807ms\tremaining: 142ms\n",
      "850:\tlearn: 0.0736706\ttotal: 808ms\tremaining: 141ms\n",
      "851:\tlearn: 0.0734986\ttotal: 808ms\tremaining: 140ms\n",
      "852:\tlearn: 0.0734058\ttotal: 809ms\tremaining: 139ms\n",
      "853:\tlearn: 0.0731633\ttotal: 810ms\tremaining: 138ms\n",
      "854:\tlearn: 0.0729892\ttotal: 811ms\tremaining: 138ms\n",
      "855:\tlearn: 0.0728481\ttotal: 812ms\tremaining: 137ms\n",
      "856:\tlearn: 0.0727337\ttotal: 813ms\tremaining: 136ms\n",
      "857:\tlearn: 0.0726656\ttotal: 813ms\tremaining: 135ms\n",
      "858:\tlearn: 0.0725670\ttotal: 814ms\tremaining: 134ms\n",
      "859:\tlearn: 0.0724436\ttotal: 815ms\tremaining: 133ms\n",
      "860:\tlearn: 0.0722766\ttotal: 816ms\tremaining: 132ms\n",
      "861:\tlearn: 0.0720652\ttotal: 817ms\tremaining: 131ms\n",
      "862:\tlearn: 0.0719674\ttotal: 818ms\tremaining: 130ms\n",
      "863:\tlearn: 0.0717875\ttotal: 819ms\tremaining: 129ms\n",
      "864:\tlearn: 0.0716459\ttotal: 819ms\tremaining: 128ms\n",
      "865:\tlearn: 0.0715899\ttotal: 820ms\tremaining: 127ms\n",
      "866:\tlearn: 0.0714309\ttotal: 821ms\tremaining: 126ms\n",
      "867:\tlearn: 0.0713699\ttotal: 822ms\tremaining: 125ms\n",
      "868:\tlearn: 0.0713299\ttotal: 823ms\tremaining: 124ms\n",
      "869:\tlearn: 0.0712377\ttotal: 823ms\tremaining: 123ms\n",
      "870:\tlearn: 0.0710873\ttotal: 824ms\tremaining: 122ms\n",
      "871:\tlearn: 0.0709321\ttotal: 825ms\tremaining: 121ms\n",
      "872:\tlearn: 0.0708860\ttotal: 826ms\tremaining: 120ms\n",
      "873:\tlearn: 0.0708538\ttotal: 827ms\tremaining: 119ms\n",
      "874:\tlearn: 0.0707988\ttotal: 828ms\tremaining: 118ms\n",
      "875:\tlearn: 0.0706718\ttotal: 829ms\tremaining: 117ms\n",
      "876:\tlearn: 0.0705006\ttotal: 829ms\tremaining: 116ms\n",
      "877:\tlearn: 0.0704444\ttotal: 830ms\tremaining: 115ms\n",
      "878:\tlearn: 0.0703084\ttotal: 831ms\tremaining: 114ms\n",
      "879:\tlearn: 0.0701733\ttotal: 832ms\tremaining: 113ms\n",
      "880:\tlearn: 0.0700369\ttotal: 833ms\tremaining: 112ms\n",
      "881:\tlearn: 0.0698691\ttotal: 833ms\tremaining: 112ms\n",
      "882:\tlearn: 0.0697441\ttotal: 834ms\tremaining: 111ms\n",
      "883:\tlearn: 0.0696176\ttotal: 835ms\tremaining: 110ms\n",
      "884:\tlearn: 0.0695444\ttotal: 836ms\tremaining: 109ms\n",
      "885:\tlearn: 0.0694146\ttotal: 837ms\tremaining: 108ms\n",
      "886:\tlearn: 0.0693563\ttotal: 838ms\tremaining: 107ms\n",
      "887:\tlearn: 0.0692716\ttotal: 838ms\tremaining: 106ms\n",
      "888:\tlearn: 0.0692085\ttotal: 839ms\tremaining: 105ms\n",
      "889:\tlearn: 0.0690771\ttotal: 840ms\tremaining: 104ms\n",
      "890:\tlearn: 0.0689928\ttotal: 841ms\tremaining: 103ms\n",
      "891:\tlearn: 0.0689359\ttotal: 841ms\tremaining: 102ms\n",
      "892:\tlearn: 0.0688556\ttotal: 842ms\tremaining: 101ms\n",
      "893:\tlearn: 0.0687012\ttotal: 843ms\tremaining: 99.9ms\n",
      "894:\tlearn: 0.0685633\ttotal: 844ms\tremaining: 99ms\n",
      "895:\tlearn: 0.0683925\ttotal: 846ms\tremaining: 98.2ms\n",
      "896:\tlearn: 0.0682745\ttotal: 847ms\tremaining: 97.3ms\n",
      "897:\tlearn: 0.0680725\ttotal: 848ms\tremaining: 96.3ms\n",
      "898:\tlearn: 0.0679706\ttotal: 849ms\tremaining: 95.4ms\n",
      "899:\tlearn: 0.0678550\ttotal: 850ms\tremaining: 94.4ms\n",
      "900:\tlearn: 0.0677368\ttotal: 851ms\tremaining: 93.5ms\n",
      "901:\tlearn: 0.0676560\ttotal: 851ms\tremaining: 92.5ms\n",
      "902:\tlearn: 0.0675941\ttotal: 852ms\tremaining: 91.5ms\n",
      "903:\tlearn: 0.0674867\ttotal: 853ms\tremaining: 90.6ms\n",
      "904:\tlearn: 0.0673617\ttotal: 854ms\tremaining: 89.6ms\n",
      "905:\tlearn: 0.0672629\ttotal: 855ms\tremaining: 88.7ms\n",
      "906:\tlearn: 0.0671131\ttotal: 855ms\tremaining: 87.7ms\n",
      "907:\tlearn: 0.0670203\ttotal: 856ms\tremaining: 86.8ms\n",
      "908:\tlearn: 0.0668957\ttotal: 857ms\tremaining: 85.8ms\n",
      "909:\tlearn: 0.0667421\ttotal: 858ms\tremaining: 84.8ms\n",
      "910:\tlearn: 0.0665833\ttotal: 859ms\tremaining: 83.9ms\n",
      "911:\tlearn: 0.0664814\ttotal: 860ms\tremaining: 83ms\n",
      "912:\tlearn: 0.0663606\ttotal: 861ms\tremaining: 82ms\n",
      "913:\tlearn: 0.0662811\ttotal: 861ms\tremaining: 81.1ms\n",
      "914:\tlearn: 0.0662182\ttotal: 862ms\tremaining: 80.1ms\n",
      "915:\tlearn: 0.0661420\ttotal: 863ms\tremaining: 79.2ms\n",
      "916:\tlearn: 0.0660971\ttotal: 864ms\tremaining: 78.2ms\n",
      "917:\tlearn: 0.0660136\ttotal: 865ms\tremaining: 77.3ms\n"
     ]
    },
    {
     "name": "stdout",
     "output_type": "stream",
     "text": [
      "918:\tlearn: 0.0659292\ttotal: 866ms\tremaining: 76.4ms\n",
      "919:\tlearn: 0.0658332\ttotal: 867ms\tremaining: 75.4ms\n",
      "920:\tlearn: 0.0657607\ttotal: 868ms\tremaining: 74.5ms\n",
      "921:\tlearn: 0.0656948\ttotal: 869ms\tremaining: 73.5ms\n",
      "922:\tlearn: 0.0655923\ttotal: 870ms\tremaining: 72.6ms\n",
      "923:\tlearn: 0.0654934\ttotal: 871ms\tremaining: 71.6ms\n",
      "924:\tlearn: 0.0653878\ttotal: 872ms\tremaining: 70.7ms\n",
      "925:\tlearn: 0.0652931\ttotal: 873ms\tremaining: 69.7ms\n",
      "926:\tlearn: 0.0651960\ttotal: 874ms\tremaining: 68.8ms\n",
      "927:\tlearn: 0.0650632\ttotal: 874ms\tremaining: 67.8ms\n",
      "928:\tlearn: 0.0648737\ttotal: 875ms\tremaining: 66.9ms\n",
      "929:\tlearn: 0.0647594\ttotal: 876ms\tremaining: 65.9ms\n",
      "930:\tlearn: 0.0646425\ttotal: 877ms\tremaining: 65ms\n",
      "931:\tlearn: 0.0645995\ttotal: 877ms\tremaining: 64ms\n",
      "932:\tlearn: 0.0645214\ttotal: 878ms\tremaining: 63.1ms\n",
      "933:\tlearn: 0.0644398\ttotal: 879ms\tremaining: 62.1ms\n",
      "934:\tlearn: 0.0642980\ttotal: 880ms\tremaining: 61.2ms\n",
      "935:\tlearn: 0.0642437\ttotal: 881ms\tremaining: 60.2ms\n",
      "936:\tlearn: 0.0641473\ttotal: 881ms\tremaining: 59.3ms\n",
      "937:\tlearn: 0.0640402\ttotal: 882ms\tremaining: 58.3ms\n",
      "938:\tlearn: 0.0639331\ttotal: 883ms\tremaining: 57.4ms\n",
      "939:\tlearn: 0.0637773\ttotal: 884ms\tremaining: 56.4ms\n",
      "940:\tlearn: 0.0636900\ttotal: 885ms\tremaining: 55.5ms\n",
      "941:\tlearn: 0.0636439\ttotal: 885ms\tremaining: 54.5ms\n",
      "942:\tlearn: 0.0634924\ttotal: 886ms\tremaining: 53.6ms\n",
      "943:\tlearn: 0.0634246\ttotal: 887ms\tremaining: 52.6ms\n",
      "944:\tlearn: 0.0633241\ttotal: 888ms\tremaining: 51.7ms\n",
      "945:\tlearn: 0.0632514\ttotal: 889ms\tremaining: 50.7ms\n",
      "946:\tlearn: 0.0631500\ttotal: 889ms\tremaining: 49.8ms\n",
      "947:\tlearn: 0.0630671\ttotal: 890ms\tremaining: 48.8ms\n",
      "948:\tlearn: 0.0629816\ttotal: 891ms\tremaining: 47.9ms\n",
      "949:\tlearn: 0.0629192\ttotal: 892ms\tremaining: 46.9ms\n",
      "950:\tlearn: 0.0628688\ttotal: 893ms\tremaining: 46ms\n",
      "951:\tlearn: 0.0627771\ttotal: 893ms\tremaining: 45ms\n",
      "952:\tlearn: 0.0626762\ttotal: 894ms\tremaining: 44.1ms\n",
      "953:\tlearn: 0.0626032\ttotal: 895ms\tremaining: 43.2ms\n",
      "954:\tlearn: 0.0625401\ttotal: 896ms\tremaining: 42.2ms\n",
      "955:\tlearn: 0.0625288\ttotal: 897ms\tremaining: 41.3ms\n",
      "956:\tlearn: 0.0624742\ttotal: 898ms\tremaining: 40.3ms\n",
      "957:\tlearn: 0.0623730\ttotal: 899ms\tremaining: 39.4ms\n",
      "958:\tlearn: 0.0622438\ttotal: 899ms\tremaining: 38.5ms\n",
      "959:\tlearn: 0.0621617\ttotal: 900ms\tremaining: 37.5ms\n",
      "960:\tlearn: 0.0620420\ttotal: 901ms\tremaining: 36.6ms\n",
      "961:\tlearn: 0.0619452\ttotal: 902ms\tremaining: 35.6ms\n",
      "962:\tlearn: 0.0618830\ttotal: 903ms\tremaining: 34.7ms\n",
      "963:\tlearn: 0.0617449\ttotal: 904ms\tremaining: 33.7ms\n",
      "964:\tlearn: 0.0616722\ttotal: 905ms\tremaining: 32.8ms\n",
      "965:\tlearn: 0.0616000\ttotal: 905ms\tremaining: 31.9ms\n",
      "966:\tlearn: 0.0615014\ttotal: 906ms\tremaining: 30.9ms\n",
      "967:\tlearn: 0.0614222\ttotal: 907ms\tremaining: 30ms\n",
      "968:\tlearn: 0.0612891\ttotal: 908ms\tremaining: 29ms\n",
      "969:\tlearn: 0.0612238\ttotal: 909ms\tremaining: 28.1ms\n",
      "970:\tlearn: 0.0611362\ttotal: 910ms\tremaining: 27.2ms\n",
      "971:\tlearn: 0.0610776\ttotal: 910ms\tremaining: 26.2ms\n",
      "972:\tlearn: 0.0609645\ttotal: 911ms\tremaining: 25.3ms\n",
      "973:\tlearn: 0.0608769\ttotal: 912ms\tremaining: 24.3ms\n",
      "974:\tlearn: 0.0608156\ttotal: 913ms\tremaining: 23.4ms\n",
      "975:\tlearn: 0.0606495\ttotal: 914ms\tremaining: 22.5ms\n",
      "976:\tlearn: 0.0605451\ttotal: 915ms\tremaining: 21.5ms\n",
      "977:\tlearn: 0.0604380\ttotal: 915ms\tremaining: 20.6ms\n",
      "978:\tlearn: 0.0603001\ttotal: 916ms\tremaining: 19.7ms\n",
      "979:\tlearn: 0.0602378\ttotal: 917ms\tremaining: 18.7ms\n",
      "980:\tlearn: 0.0601859\ttotal: 918ms\tremaining: 17.8ms\n",
      "981:\tlearn: 0.0600772\ttotal: 919ms\tremaining: 16.8ms\n",
      "982:\tlearn: 0.0599997\ttotal: 920ms\tremaining: 15.9ms\n",
      "983:\tlearn: 0.0599758\ttotal: 921ms\tremaining: 15ms\n",
      "984:\tlearn: 0.0599169\ttotal: 922ms\tremaining: 14ms\n",
      "985:\tlearn: 0.0598465\ttotal: 924ms\tremaining: 13.1ms\n",
      "986:\tlearn: 0.0597288\ttotal: 925ms\tremaining: 12.2ms\n",
      "987:\tlearn: 0.0596572\ttotal: 925ms\tremaining: 11.2ms\n",
      "988:\tlearn: 0.0596195\ttotal: 927ms\tremaining: 10.3ms\n",
      "989:\tlearn: 0.0595563\ttotal: 928ms\tremaining: 9.37ms\n",
      "990:\tlearn: 0.0595087\ttotal: 928ms\tremaining: 8.43ms\n",
      "991:\tlearn: 0.0594403\ttotal: 929ms\tremaining: 7.5ms\n",
      "992:\tlearn: 0.0594008\ttotal: 930ms\tremaining: 6.56ms\n",
      "993:\tlearn: 0.0593333\ttotal: 931ms\tremaining: 5.62ms\n",
      "994:\tlearn: 0.0592585\ttotal: 932ms\tremaining: 4.68ms\n",
      "995:\tlearn: 0.0591755\ttotal: 933ms\tremaining: 3.75ms\n",
      "996:\tlearn: 0.0590175\ttotal: 933ms\tremaining: 2.81ms\n",
      "997:\tlearn: 0.0589801\ttotal: 934ms\tremaining: 1.87ms\n",
      "998:\tlearn: 0.0588988\ttotal: 935ms\tremaining: 935us\n",
      "999:\tlearn: 0.0587895\ttotal: 936ms\tremaining: 0us\n"
     ]
    },
    {
     "data": {
      "text/plain": [
       "<catboost.core.CatBoostRegressor at 0x7f7a317322b0>"
      ]
     },
     "execution_count": 9,
     "metadata": {},
     "output_type": "execute_result"
    }
   ],
   "source": [
    "#Train the Model \n",
    "prior_model = ctb.CatBoostRegressor()\n",
    "prior_model.fit(X_train,Y_train)"
   ]
  },
  {
   "cell_type": "code",
   "execution_count": 10,
   "id": "af65dcda",
   "metadata": {
    "execution": {
     "iopub.execute_input": "2022-06-12T08:19:25.330886Z",
     "iopub.status.busy": "2022-06-12T08:19:25.330448Z",
     "iopub.status.idle": "2022-06-12T08:19:25.338439Z",
     "shell.execute_reply": "2022-06-12T08:19:25.338813Z"
    },
    "id": "af65dcda",
    "papermill": {
     "duration": 0.033308,
     "end_time": "2022-06-12T08:19:25.338934",
     "exception": false,
     "start_time": "2022-06-12T08:19:25.305626",
     "status": "completed"
    },
    "tags": []
   },
   "outputs": [
    {
     "data": {
      "application/scrapbook.scrap.json+json": {
       "data": 0.11047112054478865,
       "encoder": "json",
       "name": "Prior Model MSE",
       "version": 1
      }
     },
     "metadata": {
      "scrapbook": {
       "data": true,
       "display": false,
       "name": "Prior Model MSE"
      }
     },
     "output_type": "display_data"
    },
    {
     "data": {
      "application/scrapbook.scrap.json+json": {
       "data": 2.0800045495672217,
       "encoder": "json",
       "name": "ABC Pre-generator MSE",
       "version": 1
      }
     },
     "metadata": {
      "scrapbook": {
       "data": true,
       "display": false,
       "name": "ABC Pre-generator MSE"
      }
     },
     "output_type": "display_data"
    },
    {
     "data": {
      "application/scrapbook.scrap.json+json": {
       "data": 0.2387145405977084,
       "encoder": "json",
       "name": "Prior Model MSE",
       "version": 1
      }
     },
     "metadata": {
      "scrapbook": {
       "data": true,
       "display": false,
       "name": "Prior Model MSE"
      }
     },
     "output_type": "display_data"
    },
    {
     "data": {
      "application/scrapbook.scrap.json+json": {
       "data": 1.2030749429225587,
       "encoder": "json",
       "name": "ABC Pre-generator MSE",
       "version": 1
      }
     },
     "metadata": {
      "scrapbook": {
       "data": true,
       "display": false,
       "name": "ABC Pre-generator MSE"
      }
     },
     "output_type": "display_data"
    }
   ],
   "source": [
    "y_pred = prior_model.predict(X_test)\n",
    "y_abc = y_pred + np.random.normal(0,variance, y_pred.shape) + bias \n",
    "mse = mean_squared_error(y_pred,Y_test)\n",
    "sb.glue(\"Prior Model MSE\",mse)\n",
    "mse = mean_squared_error(y_abc,Y_test)\n",
    "sb.glue(\"ABC Pre-generator MSE\",mse)\n",
    "mae = mean_absolute_error(y_pred,Y_test)\n",
    "sb.glue(\"Prior Model MSE\",mae)\n",
    "mae = mean_absolute_error(y_abc,Y_test)\n",
    "sb.glue(\"ABC Pre-generator MSE\",mae)"
   ]
  },
  {
   "cell_type": "markdown",
   "id": "25609da2",
   "metadata": {
    "papermill": {
     "duration": 0.009738,
     "end_time": "2022-06-12T08:19:25.358725",
     "exception": false,
     "start_time": "2022-06-12T08:19:25.348987",
     "status": "completed"
    },
    "tags": []
   },
   "source": [
    "# ABC GAN Model"
   ]
  },
  {
   "cell_type": "code",
   "execution_count": 11,
   "id": "dfc3464d",
   "metadata": {
    "execution": {
     "iopub.execute_input": "2022-06-12T08:19:25.381363Z",
     "iopub.status.busy": "2022-06-12T08:19:25.380989Z",
     "iopub.status.idle": "2022-06-12T08:19:25.383631Z",
     "shell.execute_reply": "2022-06-12T08:19:25.383864Z"
    },
    "papermill": {
     "duration": 0.01551,
     "end_time": "2022-06-12T08:19:25.383975",
     "exception": false,
     "start_time": "2022-06-12T08:19:25.368465",
     "status": "completed"
    },
    "tags": []
   },
   "outputs": [],
   "source": [
    "gen = network.Generator(n_features+1).to(device)\n",
    "disc = network.Discriminator(n_features+1).to(device)\n",
    "\n",
    "criterion = torch.nn.BCELoss()\n",
    "gen_opt = torch.optim.Adam(gen.parameters(), lr=0.001, betas=(0.5, 0.999))\n",
    "disc_opt = torch.optim.Adam(disc.parameters(), lr=0.001, betas=(0.5, 0.999))"
   ]
  },
  {
   "cell_type": "code",
   "execution_count": 12,
   "id": "b75fdd85",
   "metadata": {
    "execution": {
     "iopub.execute_input": "2022-06-12T08:19:25.406609Z",
     "iopub.status.busy": "2022-06-12T08:19:25.406240Z",
     "iopub.status.idle": "2022-06-12T08:20:27.606832Z",
     "shell.execute_reply": "2022-06-12T08:20:27.606537Z"
    },
    "papermill": {
     "duration": 62.213,
     "end_time": "2022-06-12T08:20:27.606950",
     "exception": false,
     "start_time": "2022-06-12T08:19:25.393950",
     "status": "completed"
    },
    "tags": []
   },
   "outputs": [
    {
     "data": {
      "image/png": "[encoded data removed]",
      "text/plain": [
       "<Figure size 432x288 with 1 Axes>"
      ]
     },
     "metadata": {
      "needs_background": "light"
     },
     "output_type": "display_data"
    },
    {
     "data": {
      "image/png": "[encoded data removed]",
      "text/plain": [
       "<Figure size 432x288 with 1 Axes>"
      ]
     },
     "metadata": {
      "needs_background": "light"
     },
     "output_type": "display_data"
    }
   ],
   "source": [
    "#Training the ABC_GAN \n",
    "ABC_train_test2.training_GAN(disc,gen,disc_opt,gen_opt,train_data,batch_size,n_epochs,criterion,prior_model,variance,bias,device)"
   ]
  },
  {
   "cell_type": "code",
   "execution_count": 13,
   "id": "1fa7c368",
   "metadata": {
    "execution": {
     "iopub.execute_input": "2022-06-12T08:20:27.632105Z",
     "iopub.status.busy": "2022-06-12T08:20:27.631712Z",
     "iopub.status.idle": "2022-06-12T08:20:27.966005Z",
     "shell.execute_reply": "2022-06-12T08:20:27.966345Z"
    },
    "papermill": {
     "duration": 0.348539,
     "end_time": "2022-06-12T08:20:27.966482",
     "exception": false,
     "start_time": "2022-06-12T08:20:27.617943",
     "status": "completed"
    },
    "tags": []
   },
   "outputs": [
    {
     "data": {
      "application/scrapbook.scrap.json+json": {
       "data": 0.10792428963075427,
       "encoder": "json",
       "name": "ABC-GAN Model 1 MSE",
       "version": 1
      }
     },
     "metadata": {
      "scrapbook": {
       "data": true,
       "display": false,
       "name": "ABC-GAN Model 1 MSE"
      }
     },
     "output_type": "display_data"
    },
    {
     "data": {
      "application/scrapbook.scrap.json+json": {
       "data": 0.23440697765014334,
       "encoder": "json",
       "name": "ABC-GAN Model 1 MAE",
       "version": 1
      }
     },
     "metadata": {
      "scrapbook": {
       "data": true,
       "display": false,
       "name": "ABC-GAN Model 1 MAE"
      }
     },
     "output_type": "display_data"
    },
    {
     "data": {
      "application/scrapbook.scrap.json+json": {
       "data": 23.909511720314622,
       "encoder": "json",
       "name": "ABC-GAN Model 1 Manhattan Distance",
       "version": 1
      }
     },
     "metadata": {
      "scrapbook": {
       "data": true,
       "display": false,
       "name": "ABC-GAN Model 1 Manhattan Distance"
      }
     },
     "output_type": "display_data"
    },
    {
     "data": {
      "application/scrapbook.scrap.json+json": {
       "data": 3.3178468679308493,
       "encoder": "json",
       "name": "ABC-GAN Model 1 Euclidean distance",
       "version": 1
      }
     },
     "metadata": {
      "scrapbook": {
       "data": true,
       "display": false,
       "name": "ABC-GAN Model 1 Euclidean distance"
      }
     },
     "output_type": "display_data"
    },
    {
     "data": {
      "application/scrapbook.scrap.json+json": {
       "data": [
        [
         0.10782713650831269,
         0.10748823791748562,
         0.10759117993010765,
         0.10746745262154662,
         0.10943037919004132,
         0.10881625822489249,
         0.10785209002586293,
         0.10757566934089459,
         0.10809319458712129,
         0.10704663623577285,
         0.10723329369327801,
         0.10709780048235525,
         0.10901347981500649,
         0.10829506591546013,
         0.10759803192695033,
         0.10656979093087515,
         0.10582918567095008,
         0.10920973661828466,
         0.10819955278389572,
         0.10605735042537835,
         0.1063359845237104,
         0.10713717549256806,
         0.10813574874633904,
         0.10755599673328575,
         0.10806061555503486,
         0.10848704034559226,
         0.10738994249662569,
         0.108122618336746,
         0.10741912288093042,
         0.10899605368010888,
         0.10772257728134091,
         0.107803580449679,
         0.11002619914956296,
         0.10811716676605343,
         0.10853082223333109,
         0.10849217356352928,
         0.10732071637829317,
         0.10872995302800804,
         0.10752011567254133,
         0.10861009220864216,
         0.10758395283301658,
         0.10755307214447414,
         0.10826607076688806,
         0.10808419003382547,
         0.10745220285674753,
         0.10857570110931654,
         0.10941875285347237,
         0.10673076770374365,
         0.1070512316727392,
         0.10859775852430233,
         0.10581644310131508,
         0.10887136532576049,
         0.10829963625062865,
         0.10730954095869909,
         0.10742717891435102,
         0.10685068333870168,
         0.10746857319574518,
         0.10905132304825367,
         0.10832861371104603,
         0.10886618859314291,
         0.10780288180337001,
         0.10797768625746096,
         0.10805326828963437,
         0.10785951085399884,
         0.10997814080367872,
         0.10747945175504418,
         0.10764371661978898,
         0.10876063627203053,
         0.10773756551574262,
         0.1085440285379005,
         0.10751399910436175,
         0.10792288412900375,
         0.10744797573733912,
         0.10741270947786963,
         0.10787409538200925,
         0.10676887523632854,
         0.1090225143011702,
         0.10778012655784322,
         0.1074684129408667,
         0.10872056754087958,
         0.10696944924020023,
         0.10778584629892478,
         0.10986076950395007,
         0.10785208567247567,
         0.10785519873913006,
         0.10646995645738538,
         0.10790146310219087,
         0.10795198322595882,
         0.10825446536827289,
         0.10944452218285097,
         0.10761620762822577,
         0.108887232435598,
         0.10775346371590128,
         0.10838915810240224,
         0.1085595116254463,
         0.10847846636075738,
         0.10919698199102128,
         0.10681521852977031,
         0.10745926041198728,
         0.10675021006409176
        ],
        [
         0.23398669898583024,
         0.2347239533293189,
         0.2342207854540617,
         0.2336362265598248,
         0.23541691608946114,
         0.2353774060257802,
         0.23417006562664813,
         0.23497121242404567,
         0.23501573862763597,
         0.23159073554344622,
         0.23392027957985798,
         0.23223771127488682,
         0.2357494413816169,
         0.2345887985190048,
         0.23463817789931507,
         0.23238951897285148,
         0.2330295203034492,
         0.23594473917767697,
         0.23451996684147447,
         0.23185138771420016,
         0.23181518271346302,
         0.2337865152158866,
         0.2346705476771675,
         0.23374710617331312,
         0.2352136905104214,
         0.2354550280370841,
         0.23436112440757306,
         0.23467947182921217,
         0.23359854068314911,
         0.23598855045423203,
         0.23381821214057066,
         0.23416562387537138,
         0.23611011547858224,
         0.2354608474883671,
         0.23484873057653508,
         0.23549430307877414,
         0.23361546350825652,
         0.23515379273643097,
         0.23353108407600837,
         0.23582292412060732,
         0.2336045992834603,
         0.23437542050127305,
         0.2351568772767981,
         0.23496061492273035,
         0.23332375417664356,
         0.23579688616754377,
         0.23537376484669306,
         0.23328207190349406,
         0.23280807381824536,
         0.23457324601636798,
         0.23221850882777395,
         0.23455262350320233,
         0.23351141352060378,
         0.2351410331058444,
         0.23288983148613981,
         0.23284438707153587,
         0.2346939260286151,
         0.23655572948137335,
         0.2347849733287505,
         0.2369699391408586,
         0.23358968924731016,
         0.23537609479664004,
         0.23457056103164659,
         0.23553721685254692,
         0.2359173299890815,
         0.2349048566767106,
         0.23388375968252326,
         0.23480622567163378,
         0.2343175069556809,
         0.23280177263579532,
         0.23422386016988872,
         0.23338660961199625,
         0.23334857604155937,
         0.23401771447456934,
         0.2344550778724107,
         0.23265763695406563,
         0.23465888266104692,
         0.23459952399499862,
         0.23473889174341572,
         0.23525625699217997,
         0.23400984615014464,
         0.23426745797270068,
         0.23700071916933738,
         0.23479634320692105,
         0.23448465123553486,
         0.23312538294304236,
         0.23426895444372706,
         0.23505718120392047,
         0.2351791630590371,
         0.23570432826219237,
         0.23371862344370753,
         0.23590471199257115,
         0.2348875587660016,
         0.23479267270030343,
         0.23530266450389342,
         0.23464815123189314,
         0.23605233096681974,
         0.2337008949697894,
         0.2328469499982163,
         0.2331673252195412
        ],
        [
         23.866643296554685,
         23.941843239590526,
         23.890520116314292,
         23.83089510910213,
         24.012525441125035,
         24.00849541462958,
         23.88534669391811,
         23.96706366725266,
         23.97160534001887,
         23.622255025431514,
         23.859868517145514,
         23.688246550038457,
         24.046443020924926,
         23.92805744893849,
         23.933094145730138,
         23.70373093523085,
         23.76901107095182,
         24.06636339612305,
         23.921036617830396,
         23.648841546848416,
         23.64514863677323,
         23.84622455202043,
         23.936395863071084,
         23.84220482967794,
         23.991796432062984,
         24.016412859782577,
         23.904834689572453,
         23.937306126579642,
         23.82705114968121,
         24.070832146331668,
         23.849457638338208,
         23.88489363528788,
         24.08323177881539,
         24.017006443813443,
         23.954570518806577,
         24.020418914034963,
         23.828777277842164,
         23.985686859115958,
         23.820170575752854,
         24.053938260301948,
         23.82766912691295,
         23.90629289112985,
         23.986001482233405,
         23.965982722118497,
         23.799022926017642,
         24.051282389089465,
         24.008124014362693,
         23.794771334156394,
         23.746423529461026,
         23.926471093669534,
         23.686287900432944,
         23.924367597326636,
         23.818164179101586,
         23.984385376796126,
         23.75476281158626,
         23.75012748129666,
         23.938780454918742,
         24.12868440710008,
         23.94806727953255,
         24.170933792367578,
         23.826148303225636,
         24.008361669257283,
         23.926197225227952,
         24.024796118959785,
         24.063567658886313,
         23.96029538102448,
         23.856143487617373,
         23.950235018506646,
         23.90038570947945,
         23.745780808851123,
         23.89083373732865,
         23.805434180423617,
         23.801554756239057,
         23.869806876406074,
         23.914417942985892,
         23.731078969314694,
         23.935206031426787,
         23.929151447489858,
         23.943366957828403,
         23.996138213202357,
         23.869004307314754,
         23.89528071321547,
         24.174073355272412,
         23.949227007105947,
         23.917434426024556,
         23.77878906019032,
         23.89543335326016,
         23.975832482799888,
         23.988274632021785,
         24.04184148274362,
         23.839299591258168,
         24.06228062324226,
         23.95853099413216,
         23.94885261543095,
         24.00087177939713,
         23.9341114256531,
         24.077337758615613,
         23.83749128691852,
         23.750388899818063,
         23.783067172393203
        ],
        [
         3.316378736490737,
         3.311162978106564,
         3.3127481571756974,
         3.310842818286268,
         3.3409427827163123,
         3.331554943106753,
         3.3167624549608643,
         3.3125093619145054,
         3.3204677152302455,
         3.3043542328341293,
         3.3072338829774885,
         3.305143816719665,
         3.334572677440194,
         3.3235668675952548,
         3.3128536424884403,
         3.296986301905009,
         3.285510148886609,
         3.3375729407857193,
         3.32210089912353,
         3.28904997581195,
         3.293367641399675,
         3.305751336722401,
         3.321121252246985,
         3.312206465001109,
         3.319967286979429,
         3.3265114031445027,
         3.3096486421757554,
         3.3209196121478293,
         3.3100982664952565,
         3.3343061460176546,
         3.3147704117625962,
         3.3160164664650345,
         3.3500257182976103,
         3.3208358902748345,
         3.32718257205699,
         3.326590101512356,
         3.3085817309817065,
         3.330233506656376,
         3.3116539370228915,
         3.328397422977235,
         3.3126368936192945,
         3.312161433073026,
         3.32312190842024,
         3.3203294088765047,
         3.3106079036014284,
         3.3278704171211784,
         3.340765300205058,
         3.299475459187696,
         3.3044251588770166,
         3.3282084323970507,
         3.2853123438014435,
         3.332398425042775,
         3.3236369984648024,
         3.3084094634412025,
         3.310222386677941,
         3.3013284751062817,
         3.3108600794908276,
         3.335151413492628,
         3.3240816173082597,
         3.3323191978711435,
         3.316005721337606,
         3.318693116011334,
         3.3198544193296646,
         3.316876558919232,
         3.3492940094854666,
         3.3110276469722373,
         3.313556864642356,
         3.330703364118022,
         3.315001007934349,
         3.3273849958887913,
         3.3115597395555008,
         3.3178508376897216,
         3.3105427840776485,
         3.3099994511695465,
         3.317100801749163,
         3.3000644348414645,
         3.334710850841398,
         3.315655728343944,
         3.3108576109474113,
         3.3300897719385465,
         3.303162699974136,
         3.315743705790653,
         3.3475063090908295,
         3.3167623880212633,
         3.3168102555604935,
         3.2954416333252374,
         3.3175215502575814,
         3.318298101293462,
         3.3229437954265544,
         3.3411586706786016,
         3.313133438012878,
         3.3326412510846404,
         3.315245586532305,
         3.325010394937891,
         3.3276223021544253,
         3.326379949554358,
         3.3373780371849047,
         3.300780557691857,
         3.310716623636445,
         3.299775966113057
        ]
       ],
       "encoder": "json",
       "name": "ABC_GAN_1 Metrics",
       "version": 1
      }
     },
     "metadata": {
      "scrapbook": {
       "data": true,
       "display": false,
       "name": "ABC_GAN_1 Metrics"
      }
     },
     "output_type": "display_data"
    },
    {
     "name": "stdout",
     "output_type": "stream",
     "text": [
      "MSE\n",
      "0.10792428963075427\n"
     ]
    }
   ],
   "source": [
    "ABC_GAN1_metrics=ABC_train_test2.test_generator(gen,test_data,prior_model,variance,bias,\"1\",device)\n",
    "sb.glue(\"ABC_GAN_1 Metrics\",ABC_GAN1_metrics)\n",
    "\n",
    "print(\"MSE\")\n",
    "print(mean(ABC_GAN1_metrics[0]))"
   ]
  },
  {
   "cell_type": "code",
   "execution_count": 14,
   "id": "eb22ce5c",
   "metadata": {
    "execution": {
     "iopub.execute_input": "2022-06-12T08:20:27.994237Z",
     "iopub.status.busy": "2022-06-12T08:20:27.993870Z",
     "iopub.status.idle": "2022-06-12T08:20:28.323749Z",
     "shell.execute_reply": "2022-06-12T08:20:28.324046Z"
    },
    "papermill": {
     "duration": 0.344875,
     "end_time": "2022-06-12T08:20:28.324167",
     "exception": false,
     "start_time": "2022-06-12T08:20:27.979292",
     "status": "completed"
    },
    "tags": []
   },
   "outputs": [
    {
     "data": {
      "image/png": "[encoded data removed]",
      "text/plain": [
       "<Figure size 432x288 with 1 Axes>"
      ]
     },
     "metadata": {
      "needs_background": "light"
     },
     "output_type": "display_data"
    },
    {
     "data": {
      "image/png": "[encoded data removed]",
      "text/plain": [
       "<Figure size 432x288 with 1 Axes>"
      ]
     },
     "metadata": {
      "needs_background": "light"
     },
     "output_type": "display_data"
    },
    {
     "data": {
      "image/png": "[encoded data removed]",
      "text/plain": [
       "<Figure size 432x288 with 1 Axes>"
      ]
     },
     "metadata": {
      "needs_background": "light"
     },
     "output_type": "display_data"
    },
    {
     "data": {
      "image/png": "[encoded data removed]",
      "text/plain": [
       "<Figure size 432x288 with 1 Axes>"
      ]
     },
     "metadata": {
      "needs_background": "light"
     },
     "output_type": "display_data"
    }
   ],
   "source": [
    "sanityChecks.discProbVsError(train_data,disc,device)\n",
    "sanityChecks.discProbVsError(test_data,disc,device)"
   ]
  },
  {
   "cell_type": "markdown",
   "id": "130f3a4d",
   "metadata": {
    "id": "130f3a4d",
    "papermill": {
     "duration": 0.014719,
     "end_time": "2022-06-12T08:20:28.354838",
     "exception": false,
     "start_time": "2022-06-12T08:20:28.340119",
     "status": "completed"
    },
    "tags": []
   },
   "source": [
    "# ABC - GAN Model with skip connection"
   ]
  },
  {
   "cell_type": "code",
   "execution_count": 15,
   "id": "4e43dad1",
   "metadata": {
    "execution": {
     "iopub.execute_input": "2022-06-12T08:20:28.387742Z",
     "iopub.status.busy": "2022-06-12T08:20:28.387312Z",
     "iopub.status.idle": "2022-06-12T08:20:28.389613Z",
     "shell.execute_reply": "2022-06-12T08:20:28.389911Z"
    },
    "id": "4e43dad1",
    "papermill": {
     "duration": 0.020485,
     "end_time": "2022-06-12T08:20:28.390032",
     "exception": false,
     "start_time": "2022-06-12T08:20:28.369547",
     "status": "completed"
    },
    "tags": []
   },
   "outputs": [],
   "source": [
    "#Generator\n",
    "gen3 = network.GeneratorWithSkipConnection(n_features+1).to(device)\n",
    "constraints=network.weightConstraint()\n",
    "#Discriminator \n",
    "disc3 = network.Discriminator(n_features+1).to(device)\n",
    "\n",
    "criterion = torch.nn.BCELoss()\n",
    "gen_opt = torch.optim.Adam(gen3.parameters(), lr=0.001, betas=(0.5, 0.999))\n",
    "disc_opt = torch.optim.Adam(disc3.parameters(), lr=0.001, betas=(0.5, 0.999))\n"
   ]
  },
  {
   "cell_type": "code",
   "execution_count": 16,
   "id": "26acbc37",
   "metadata": {
    "execution": {
     "iopub.execute_input": "2022-06-12T08:20:28.422298Z",
     "iopub.status.busy": "2022-06-12T08:20:28.421938Z",
     "iopub.status.idle": "2022-06-12T08:23:29.487601Z",
     "shell.execute_reply": "2022-06-12T08:23:29.487984Z"
    },
    "id": "26acbc37",
    "papermill": {
     "duration": 181.08306,
     "end_time": "2022-06-12T08:23:29.488165",
     "exception": false,
     "start_time": "2022-06-12T08:20:28.405105",
     "status": "completed"
    },
    "tags": []
   },
   "outputs": [
    {
     "data": {
      "image/png": "[encoded data removed]",
      "text/plain": [
       "<Figure size 432x288 with 1 Axes>"
      ]
     },
     "metadata": {
      "needs_background": "light"
     },
     "output_type": "display_data"
    },
    {
     "data": {
      "image/png": "[encoded data removed]",
      "text/plain": [
       "<Figure size 432x288 with 1 Axes>"
      ]
     },
     "metadata": {
      "needs_background": "light"
     },
     "output_type": "display_data"
    }
   ],
   "source": [
    "ABC_train_test2.training_GAN_skip_connection(disc3,gen3,disc_opt,gen_opt,train_data,batch_size,n_epochs,criterion,prior_model,variance,bias,device)"
   ]
  },
  {
   "cell_type": "code",
   "execution_count": 17,
   "id": "c5e0717b",
   "metadata": {
    "execution": {
     "iopub.execute_input": "2022-06-12T08:23:29.524091Z",
     "iopub.status.busy": "2022-06-12T08:23:29.523697Z",
     "iopub.status.idle": "2022-06-12T08:23:30.373562Z",
     "shell.execute_reply": "2022-06-12T08:23:30.373887Z"
    },
    "id": "c5e0717b",
    "papermill": {
     "duration": 0.869513,
     "end_time": "2022-06-12T08:23:30.374013",
     "exception": false,
     "start_time": "2022-06-12T08:23:29.504500",
     "status": "completed"
    },
    "tags": []
   },
   "outputs": [
    {
     "data": {
      "application/scrapbook.scrap.json+json": {
       "data": 0.1349882802055903,
       "encoder": "json",
       "name": "ABC-GAN Model 3 MSE",
       "version": 1
      }
     },
     "metadata": {
      "scrapbook": {
       "data": true,
       "display": false,
       "name": "ABC-GAN Model 3 MSE"
      }
     },
     "output_type": "display_data"
    },
    {
     "data": {
      "application/scrapbook.scrap.json+json": {
       "data": 0.2658003910849163,
       "encoder": "json",
       "name": "ABC-GAN Model 3 MAE",
       "version": 1
      }
     },
     "metadata": {
      "scrapbook": {
       "data": true,
       "display": false,
       "name": "ABC-GAN Model 3 MAE"
      }
     },
     "output_type": "display_data"
    },
    {
     "data": {
      "application/scrapbook.scrap.json+json": {
       "data": 27.111639890661465,
       "encoder": "json",
       "name": "ABC-GAN Model 3 Manhattan Distance",
       "version": 1
      }
     },
     "metadata": {
      "scrapbook": {
       "data": true,
       "display": false,
       "name": "ABC-GAN Model 3 Manhattan Distance"
      }
     },
     "output_type": "display_data"
    },
    {
     "data": {
      "application/scrapbook.scrap.json+json": {
       "data": 3.709547537480314,
       "encoder": "json",
       "name": "ABC-GAN Model 3 Euclidean distance",
       "version": 1
      }
     },
     "metadata": {
      "scrapbook": {
       "data": true,
       "display": false,
       "name": "ABC-GAN Model 3 Euclidean distance"
      }
     },
     "output_type": "display_data"
    },
    {
     "data": {
      "application/scrapbook.scrap.json+json": {
       "data": [
        [
         0.1291088489179876,
         0.13562936059532432,
         0.13520608581879676,
         0.13740050026398468,
         0.15098068612494733,
         0.12515265929063757,
         0.1357109757193944,
         0.12533046470767265,
         0.1353686158891017,
         0.13158257345380803,
         0.1389564641940972,
         0.16129661960228348,
         0.14287029260794823,
         0.13262453476990285,
         0.13367543112669378,
         0.15351281622905452,
         0.13248608156020536,
         0.137120970576268,
         0.12828958120145603,
         0.13312746227674854,
         0.13329372580392385,
         0.12844615318421784,
         0.13115652694111687,
         0.13431394810789773,
         0.13192341008137845,
         0.13292242807168328,
         0.13137540780075377,
         0.14734736400071566,
         0.13890883082039152,
         0.1291663964637204,
         0.13473171469733705,
         0.1330458988312444,
         0.13346983981918836,
         0.1320559180829239,
         0.13304133601143553,
         0.1394574865481172,
         0.13858535013686876,
         0.13171808231133994,
         0.133363969613527,
         0.13809073750482626,
         0.14754404911595576,
         0.138142533749372,
         0.12768194579664013,
         0.14085375535697892,
         0.12834875121989486,
         0.13689781252423042,
         0.13241547359103648,
         0.13724136604985118,
         0.13989498542400128,
         0.13442400479756983,
         0.13775573547260755,
         0.13457387517150027,
         0.13640233260862816,
         0.12841923659514767,
         0.1304760864251259,
         0.12803703640393707,
         0.13623224334432835,
         0.1281348033801176,
         0.13070305177573138,
         0.1267266820014493,
         0.1318147769229351,
         0.1251504585270922,
         0.14189167181756326,
         0.12481997558457233,
         0.14825581424531875,
         0.14417355551003033,
         0.13539018195927327,
         0.13048961862319616,
         0.13226019824774085,
         0.1331815497813056,
         0.12890196633911785,
         0.13487436706040612,
         0.1364968084199461,
         0.1352867666007512,
         0.1426453462867082,
         0.12953171830332585,
         0.13545284607182329,
         0.1271936138825567,
         0.14250540208742965,
         0.13352187980744754,
         0.13614634616987634,
         0.15402205497110066,
         0.12725597069048858,
         0.13644063902496215,
         0.13152139710171892,
         0.13215653832301405,
         0.126796641538897,
         0.13599431029970802,
         0.13859662013623533,
         0.13239891944323218,
         0.13018837460221636,
         0.13963883429125076,
         0.12554722003388788,
         0.1322418574662182,
         0.1414779178630184,
         0.13663281290573476,
         0.13686485974510576,
         0.14808430542478732,
         0.1324181370217165,
         0.12781443686429755
        ],
        [
         0.26368942997400086,
         0.2670757985472971,
         0.26806947473874865,
         0.2649505316809404,
         0.2814325497248301,
         0.25844655803167355,
         0.2643136215377964,
         0.2552758120548199,
         0.267940358514441,
         0.26815356907672155,
         0.26977764294647116,
         0.27740404636179117,
         0.2703988997302219,
         0.2610583903048845,
         0.2601758944162843,
         0.272902627256425,
         0.2688316622858538,
         0.2606157401631422,
         0.26291854031310946,
         0.2648213272549066,
         0.26373665792611883,
         0.263630368819862,
         0.2584993022439234,
         0.2621137502548449,
         0.2638225928131564,
         0.2581449239971299,
         0.26844244985384685,
         0.2827379602902368,
         0.27116442510091204,
         0.26379174470682354,
         0.2664401734832163,
         0.26778353938796357,
         0.26774343828141106,
         0.2671073295504731,
         0.26725160602626263,
         0.26533687494549096,
         0.2703779457210034,
         0.2664360471763739,
         0.26715309696965944,
         0.27090111614077117,
         0.27440998723328697,
         0.27021483220525233,
         0.26534192978094023,
         0.27266175466060055,
         0.26492730460549685,
         0.2728348855184866,
         0.26393204918313845,
         0.2647702072144431,
         0.27128756972139373,
         0.27029573718341543,
         0.2668287914940247,
         0.2743853685427822,
         0.2676964346136825,
         0.2602902989944114,
         0.26331100121651796,
         0.2587697597439675,
         0.27378510404378176,
         0.25510002623366956,
         0.2681772878904845,
         0.2629007993850346,
         0.2616010359214509,
         0.26030695619171157,
         0.2708484703382733,
         0.2583926762180293,
         0.2725608799350904,
         0.2666786465172966,
         0.26548270623692694,
         0.2599070793675149,
         0.2604146462262553,
         0.2605017004534602,
         0.2598954140226923,
         0.26606325025432837,
         0.2668198571522154,
         0.2642836983991312,
         0.27029033251764145,
         0.2627969243034136,
         0.26906236704877196,
         0.26562853667008524,
         0.26611968989977064,
         0.2645503261911811,
         0.26223361260239403,
         0.269864478952014,
         0.2605575715173401,
         0.2656945343147598,
         0.264204160712075,
         0.2682131702153414,
         0.2583039197522928,
         0.2655937312097818,
         0.2698246671763413,
         0.267205925238337,
         0.25663777603311283,
         0.27066703591787933,
         0.25999509205347765,
         0.26215306441208314,
         0.26355940335448463,
         0.2693969932950887,
         0.2618991119567962,
         0.26857695500275086,
         0.2623774869294435,
         0.2580862759119448
        ],
        [
         26.896321857348084,
         27.241731451824307,
         27.34308642335236,
         27.024954231455922,
         28.706120071932673,
         26.3615489192307,
         26.959989396855235,
         26.038132829591632,
         27.32991656847298,
         27.3516640458256,
         27.51731958054006,
         28.295212728902698,
         27.580687772482634,
         26.627955811098218,
         26.537941230461,
         27.83606798015535,
         27.42082955315709,
         26.582805496640503,
         26.817691111937165,
         27.011775380000472,
         26.901139108464122,
         26.890297619625926,
         26.36692882888019,
         26.73560252599418,
         26.909904466941953,
         26.330782247707248,
         27.381129885092378,
         28.839271949604154,
         27.65877136029303,
         26.906757960096,
         27.176897695288062,
         27.313921017572284,
         27.309830704703927,
         27.24494761414826,
         27.259663814678788,
         27.06436124444008,
         27.578550463542342,
         27.176476811990142,
         27.24961589090526,
         27.631913846358657,
         27.989818697795272,
         27.561912884935737,
         27.064876837655902,
         27.811498975381255,
         27.02258506976068,
         27.829158322885633,
         26.92106901668012,
         27.0065611358732,
         27.67133211158216,
         27.570165192708373,
         27.216536732390523,
         27.987307591363788,
         27.305036330595613,
         26.549610497429967,
         26.85772212408483,
         26.394515493884683,
         27.92608061246574,
         26.020202675834298,
         27.35408336482942,
         26.815881537273526,
         26.683305663987994,
         26.55130953155458,
         27.626543974503875,
         26.35605297423899,
         27.801209753379226,
         27.201221944764256,
         27.07923603616655,
         26.51052209548652,
         26.562293915078044,
         26.571173446252942,
         26.509332230314612,
         27.13845152594149,
         27.21562542952597,
         26.956937236711383,
         27.569613916799426,
         26.805286278948188,
         27.444361438974738,
         27.094110740348697,
         27.144208369776607,
         26.98413327150047,
         26.747828485444188,
         27.526176853105426,
         26.57687229476869,
         27.1008425001055,
         26.94882439263165,
         27.357743361964822,
         26.346999814733863,
         27.090560583397746,
         27.522116051986814,
         27.255004374310374,
         26.177053155377507,
         27.60803766362369,
         26.519499389454722,
         26.739612570032477,
         26.883059142157435,
         27.478493316099048,
         26.713709419593215,
         27.394849410280585,
         26.76250366680324,
         26.324800143018365
        ],
        [
         3.6289258175987484,
         3.719434739409079,
         3.7136263615928398,
         3.743641412705875,
         3.9242871944780773,
         3.5728939597537774,
         3.7205536581775336,
         3.5754310789305688,
         3.715857750330114,
         3.6635259644621625,
         3.764778791349887,
         4.05613796602543,
         3.8174297434282547,
         3.6780025212783753,
         3.6925457309182734,
         3.957057903969004,
         3.676082197005522,
         3.73983141314944,
         3.61739371406383,
         3.684969627042854,
         3.6872699971659557,
         3.619600478615039,
         3.657590155825817,
         3.7013541720572456,
         3.668267687655933,
         3.682130859069473,
         3.6606408722622445,
         3.8767810265828784,
         3.7641334651789284,
         3.629734486060858,
         3.7071060005249885,
         3.6838406155515093,
         3.6897050914073346,
         3.6701094867126565,
         3.6837774462047004,
         3.7715598401600303,
         3.759748091822192,
         3.665411899876558,
         3.688241437403434,
         3.753032803679216,
         3.879367604368976,
         3.753736597370138,
         3.6088167688672264,
         3.790393521313037,
         3.6182278292596877,
         3.736786972449928,
         3.6751024892219974,
         3.7414728833822686,
         3.7774711796714113,
         3.702870304149488,
         3.7484776934384936,
         3.704933908653841,
         3.7300184887048577,
         3.619221205274011,
         3.6480900229247144,
         3.613831445045768,
         3.727692157504626,
         3.615210912902869,
         3.651261601299556,
         3.59529158263246,
         3.666757047602061,
         3.5728625456016916,
         3.804333124923664,
         3.568142024867617,
         3.888713547308739,
         3.8348015153359754,
         3.716153731998432,
         3.6482791970415316,
         3.6729470757512375,
         3.6857181223871653,
         3.626017176819495,
         3.7090680015552997,
         3.7313100191265938,
         3.714734202237977,
         3.8144233274827055,
         3.634863858102424,
         3.7170136264649307,
         3.6019090238401064,
         3.8125517718344257,
         3.690424330664382,
         3.7265167796921816,
         3.9636157239384686,
         3.602791835567222,
         3.7305422099938954,
         3.6626742285351197,
         3.6715074436731614,
         3.59628383709733,
         3.724435480790373,
         3.7599009633095397,
         3.674872757417551,
         3.6440656154117295,
         3.7740112741892515,
         3.5785215443611014,
         3.6726923995284793,
         3.7987823867691963,
         3.7331684821857345,
         3.7363372029302693,
         3.8864635793132427,
         3.675139449900518,
         3.610688654558621
        ]
       ],
       "encoder": "json",
       "name": "ABC_GAN_3 Metrics",
       "version": 1
      }
     },
     "metadata": {
      "scrapbook": {
       "data": true,
       "display": false,
       "name": "ABC_GAN_3 Metrics"
      }
     },
     "output_type": "display_data"
    },
    {
     "name": "stdout",
     "output_type": "stream",
     "text": [
      "MSE\n",
      "0.1349882802055903\n"
     ]
    }
   ],
   "source": [
    "ABC_GAN3_metrics=ABC_train_test2.test_generator(gen3,test_data,prior_model,variance,bias,\"3\",device)\n",
    "sb.glue(\"ABC_GAN_3 Metrics\",ABC_GAN3_metrics)\n",
    "\n",
    "print(\"MSE\")\n",
    "print(mean(ABC_GAN3_metrics[0]))"
   ]
  },
  {
   "cell_type": "code",
   "execution_count": 18,
   "id": "c8e46b48",
   "metadata": {
    "execution": {
     "iopub.execute_input": "2022-06-12T08:23:30.412909Z",
     "iopub.status.busy": "2022-06-12T08:23:30.412468Z",
     "iopub.status.idle": "2022-06-12T08:23:30.740842Z",
     "shell.execute_reply": "2022-06-12T08:23:30.741085Z"
    },
    "id": "c8e46b48",
    "papermill": {
     "duration": 0.349479,
     "end_time": "2022-06-12T08:23:30.741206",
     "exception": false,
     "start_time": "2022-06-12T08:23:30.391727",
     "status": "completed"
    },
    "tags": []
   },
   "outputs": [
    {
     "data": {
      "image/png": "[encoded data removed]",
      "text/plain": [
       "<Figure size 432x288 with 1 Axes>"
      ]
     },
     "metadata": {
      "needs_background": "light"
     },
     "output_type": "display_data"
    },
    {
     "data": {
      "image/png": "[encoded data removed]",
      "text/plain": [
       "<Figure size 432x288 with 1 Axes>"
      ]
     },
     "metadata": {
      "needs_background": "light"
     },
     "output_type": "display_data"
    },
    {
     "data": {
      "image/png": "[encoded data removed]",
      "text/plain": [
       "<Figure size 432x288 with 1 Axes>"
      ]
     },
     "metadata": {
      "needs_background": "light"
     },
     "output_type": "display_data"
    },
    {
     "data": {
      "image/png": "[encoded data removed]",
      "text/plain": [
       "<Figure size 432x288 with 1 Axes>"
      ]
     },
     "metadata": {
      "needs_background": "light"
     },
     "output_type": "display_data"
    }
   ],
   "source": [
    "sanityChecks.discProbVsError(train_data,disc3,device)\n",
    "sanityChecks.discProbVsError(test_data,disc3,device)"
   ]
  },
  {
   "cell_type": "markdown",
   "id": "a5bd74c3",
   "metadata": {
    "id": "a5bd74c3",
    "papermill": {
     "duration": 0.019457,
     "end_time": "2022-06-12T08:23:30.780575",
     "exception": false,
     "start_time": "2022-06-12T08:23:30.761118",
     "status": "completed"
    },
    "tags": []
   },
   "source": [
    "## Skip Connection Model Analysis - ABC-GAN "
   ]
  },
  {
   "cell_type": "markdown",
   "id": "5744a8bf",
   "metadata": {
    "id": "5744a8bf",
    "papermill": {
     "duration": 0.019287,
     "end_time": "2022-06-12T08:23:30.819227",
     "exception": false,
     "start_time": "2022-06-12T08:23:30.799940",
     "status": "completed"
    },
    "tags": []
   },
   "source": [
    "### Weight Analysis \n",
    "\n",
    "Study the weights of the skip connection layer\n",
    "\n",
    "Equation of the skip connection is \n",
    "\n",
    "$output = y_{gan} * w + y_{abc} * (1-w)$"
   ]
  },
  {
   "cell_type": "code",
   "execution_count": 19,
   "id": "52c31dea",
   "metadata": {
    "execution": {
     "iopub.execute_input": "2022-06-12T08:23:30.861159Z",
     "iopub.status.busy": "2022-06-12T08:23:30.860765Z",
     "iopub.status.idle": "2022-06-12T08:23:30.864326Z",
     "shell.execute_reply": "2022-06-12T08:23:30.864579Z"
    },
    "id": "52c31dea",
    "papermill": {
     "duration": 0.025814,
     "end_time": "2022-06-12T08:23:30.864691",
     "exception": false,
     "start_time": "2022-06-12T08:23:30.838877",
     "status": "completed"
    },
    "tags": []
   },
   "outputs": [
    {
     "name": "stdout",
     "output_type": "stream",
     "text": [
      "Weight of the node at skip connection\n",
      "Parameter containing:\n",
      "tensor([[0.7677]], requires_grad=True)\n"
     ]
    },
    {
     "data": {
      "application/scrapbook.scrap.json+json": {
       "data": 0.7677419781684875,
       "encoder": "json",
       "name": "Skip Connection Weight",
       "version": 1
      }
     },
     "metadata": {
      "scrapbook": {
       "data": true,
       "display": false,
       "name": "Skip Connection Weight"
      }
     },
     "output_type": "display_data"
    }
   ],
   "source": [
    "print(\"Weight of the node at skip connection\")\n",
    "for name,param in gen3.named_parameters():\n",
    "    if(name == \"skipNode.weight\"):\n",
    "        print(param)\n",
    "        sb.glue(\"Skip Connection Weight\",param.item())"
   ]
  }
 ],
 "metadata": {
  "colab": {
   "collapsed_sections": [],
   "name": "ABC_GAN_Model-Catboost_Pre-gen.ipynb",
   "provenance": []
  },
  "interpreter": {
   "hash": "31f2aee4e71d21fbe5cf8b01ff0e069b9275f58929596ceb00d14d90e3e16cd6"
  },
  "kernelspec": {
   "display_name": "Python 3 (ipykernel)",
   "language": "python",
   "name": "python3"
  },
  "language_info": {
   "codemirror_mode": {
    "name": "ipython",
    "version": 3
   },
   "file_extension": ".py",
   "mimetype": "text/x-python",
   "name": "python",
   "nbconvert_exporter": "python",
   "pygments_lexer": "ipython3",
   "version": "3.8.11"
  },
  "papermill": {
   "default_parameters": {},
   "duration": 249.966912,
   "end_time": "2022-06-12T08:23:31.294717",
   "environment_variables": {},
   "exception": null,
   "input_path": "ABC_GAN-Catboost.ipynb",
   "output_path": "./ABC_GAN_Catboost/ABC-GAN_output_10_0.ipynb",
   "parameters": {
    "bias": 1,
    "variance": 1
   },
   "start_time": "2022-06-12T08:19:21.327805",
   "version": "2.3.3"
  }
 },
 "nbformat": 4,
 "nbformat_minor": 5
}