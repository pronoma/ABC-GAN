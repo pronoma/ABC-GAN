{
 "cells": [
  {
   "cell_type": "markdown",
   "id": "622780e6",
   "metadata": {
    "id": "622780e6",
    "papermill": {
     "duration": 0.021012,
     "end_time": "2022-06-12T03:09:42.265795",
     "exception": false,
     "start_time": "2022-06-12T03:09:42.244783",
     "status": "completed"
    },
    "tags": []
   },
   "source": [
    "## Import Libraries "
   ]
  },
  {
   "cell_type": "code",
   "execution_count": 1,
   "id": "a62397e3",
   "metadata": {
    "execution": {
     "iopub.execute_input": "2022-06-12T03:09:42.299766Z",
     "iopub.status.busy": "2022-06-12T03:09:42.299258Z",
     "iopub.status.idle": "2022-06-12T03:09:42.301553Z",
     "shell.execute_reply": "2022-06-12T03:09:42.301896Z"
    },
    "id": "a62397e3",
    "papermill": {
     "duration": 0.021874,
     "end_time": "2022-06-12T03:09:42.302104",
     "exception": false,
     "start_time": "2022-06-12T03:09:42.280230",
     "status": "completed"
    },
    "tags": []
   },
   "outputs": [],
   "source": [
    "import warnings\n",
    "import sys\n",
    "sys.path.insert(0, '../../src')\n",
    "warnings.filterwarnings('ignore')"
   ]
  },
  {
   "cell_type": "code",
   "execution_count": 2,
   "id": "d6a4e155",
   "metadata": {
    "execution": {
     "iopub.execute_input": "2022-06-12T03:09:42.322756Z",
     "iopub.status.busy": "2022-06-12T03:09:42.322334Z",
     "iopub.status.idle": "2022-06-12T03:09:44.183410Z",
     "shell.execute_reply": "2022-06-12T03:09:44.183670Z"
    },
    "id": "d6a4e155",
    "papermill": {
     "duration": 1.872117,
     "end_time": "2022-06-12T03:09:44.183792",
     "exception": false,
     "start_time": "2022-06-12T03:09:42.311675",
     "status": "completed"
    },
    "tags": []
   },
   "outputs": [],
   "source": [
    "import ABC_train_test2\n",
    "import bostonDataset\n",
    "import network\n",
    "import dataset\n",
    "import sanityChecks\n",
    "import torch \n",
    "import scrapbook as sb\n",
    "from statistics import mean \n",
    "import catboost as ctb \n",
    "from sklearn.model_selection import train_test_split\n",
    "from sklearn.metrics import mean_squared_error,mean_absolute_error\n",
    "import numpy as np"
   ]
  },
  {
   "cell_type": "markdown",
   "id": "2fa5b0f7",
   "metadata": {
    "id": "2fa5b0f7",
    "papermill": {
     "duration": 0.0073,
     "end_time": "2022-06-12T03:09:44.198239",
     "exception": false,
     "start_time": "2022-06-12T03:09:44.190939",
     "status": "completed"
    },
    "tags": []
   },
   "source": [
    "## Parameters "
   ]
  },
  {
   "cell_type": "code",
   "execution_count": 3,
   "id": "783186fb",
   "metadata": {
    "execution": {
     "iopub.execute_input": "2022-06-12T03:09:44.214753Z",
     "iopub.status.busy": "2022-06-12T03:09:44.214327Z",
     "iopub.status.idle": "2022-06-12T03:09:44.215461Z",
     "shell.execute_reply": "2022-06-12T03:09:44.215707Z"
    },
    "id": "783186fb",
    "papermill": {
     "duration": 0.010689,
     "end_time": "2022-06-12T03:09:44.215817",
     "exception": false,
     "start_time": "2022-06-12T03:09:44.205128",
     "status": "completed"
    },
    "tags": [
     "parameters"
    ]
   },
   "outputs": [],
   "source": [
    "variance = 1\n",
    "bias = 1 "
   ]
  },
  {
   "cell_type": "code",
   "execution_count": 4,
   "id": "3fcc736f",
   "metadata": {
    "execution": {
     "iopub.execute_input": "2022-06-12T03:09:44.231572Z",
     "iopub.status.busy": "2022-06-12T03:09:44.231215Z",
     "iopub.status.idle": "2022-06-12T03:09:44.232465Z",
     "shell.execute_reply": "2022-06-12T03:09:44.232711Z"
    },
    "papermill": {
     "duration": 0.010038,
     "end_time": "2022-06-12T03:09:44.232816",
     "exception": false,
     "start_time": "2022-06-12T03:09:44.222778",
     "status": "completed"
    },
    "tags": [
     "injected-parameters"
    ]
   },
   "outputs": [],
   "source": [
    "# Parameters\n",
    "variance = 1\n",
    "bias = 1\n"
   ]
  },
  {
   "cell_type": "markdown",
   "id": "391cdbfd",
   "metadata": {
    "id": "391cdbfd",
    "papermill": {
     "duration": 0.006827,
     "end_time": "2022-06-12T03:09:44.246674",
     "exception": false,
     "start_time": "2022-06-12T03:09:44.239847",
     "status": "completed"
    },
    "tags": []
   },
   "source": [
    "## Dataset \n"
   ]
  },
  {
   "cell_type": "code",
   "execution_count": 5,
   "id": "5b51f161",
   "metadata": {
    "execution": {
     "iopub.execute_input": "2022-06-12T03:09:44.262384Z",
     "iopub.status.busy": "2022-06-12T03:09:44.262033Z",
     "iopub.status.idle": "2022-06-12T03:09:44.263272Z",
     "shell.execute_reply": "2022-06-12T03:09:44.263506Z"
    },
    "id": "5b51f161",
    "papermill": {
     "duration": 0.009998,
     "end_time": "2022-06-12T03:09:44.263608",
     "exception": false,
     "start_time": "2022-06-12T03:09:44.253610",
     "status": "completed"
    },
    "tags": []
   },
   "outputs": [],
   "source": [
    "#Parameters \n",
    "n_features = 13\n",
    "n_samples= 506\n",
    "n_target = 1 "
   ]
  },
  {
   "cell_type": "code",
   "execution_count": 6,
   "id": "5d6eced4",
   "metadata": {
    "execution": {
     "iopub.execute_input": "2022-06-12T03:09:44.279473Z",
     "iopub.status.busy": "2022-06-12T03:09:44.279107Z",
     "iopub.status.idle": "2022-06-12T03:09:44.290132Z",
     "shell.execute_reply": "2022-06-12T03:09:44.290381Z"
    },
    "id": "5d6eced4",
    "papermill": {
     "duration": 0.019888,
     "end_time": "2022-06-12T03:09:44.290491",
     "exception": false,
     "start_time": "2022-06-12T03:09:44.270603",
     "status": "completed"
    },
    "tags": []
   },
   "outputs": [
    {
     "name": "stdout",
     "output_type": "stream",
     "text": [
      "         X1        X2        X3        X4        X5        X6        X7  \\\n",
      "0 -0.419782  0.284830 -1.287909 -0.272599 -0.144217  0.413672 -0.120013   \n",
      "1 -0.417339 -0.487722 -0.593381 -0.272599 -0.740262  0.194274  0.367166   \n",
      "2 -0.417342 -0.487722 -0.593381 -0.272599 -0.740262  1.282714 -0.265812   \n",
      "3 -0.416750 -0.487722 -1.306878 -0.272599 -0.835284  1.016303 -0.809889   \n",
      "4 -0.412482 -0.487722 -1.306878 -0.272599 -0.835284  1.228577 -0.511180   \n",
      "\n",
      "         X8        X9       X10       X11       X12       X13         Y  \n",
      "0  0.140214 -0.982843 -0.666608 -1.459000  0.441052 -1.075562  0.159686  \n",
      "1  0.557160 -0.867883 -0.987329 -0.303094  0.441052 -0.492439 -0.101524  \n",
      "2  0.557160 -0.867883 -0.987329 -0.303094  0.396427 -1.208727  1.324247  \n",
      "3  1.077737 -0.752922 -1.106115  0.113032  0.416163 -1.361517  1.182758  \n",
      "4  1.077737 -0.752922 -1.106115  0.113032  0.441052 -1.026501  1.487503  \n"
     ]
    }
   ],
   "source": [
    "X,Y = bostonDataset.boston_data()"
   ]
  },
  {
   "cell_type": "code",
   "execution_count": 7,
   "id": "fe007438",
   "metadata": {
    "execution": {
     "iopub.execute_input": "2022-06-12T03:09:44.308769Z",
     "iopub.status.busy": "2022-06-12T03:09:44.308393Z",
     "iopub.status.idle": "2022-06-12T03:09:44.309738Z",
     "shell.execute_reply": "2022-06-12T03:09:44.309979Z"
    },
    "id": "fe007438",
    "papermill": {
     "duration": 0.012195,
     "end_time": "2022-06-12T03:09:44.310094",
     "exception": false,
     "start_time": "2022-06-12T03:09:44.297899",
     "status": "completed"
    },
    "tags": []
   },
   "outputs": [],
   "source": [
    "#Train test split for dataset \n",
    "X_train,X_test,Y_train,Y_test = train_test_split(X,Y,test_size = 0.2)\n",
    "train_data = dataset.CustomDataset(X_train,Y_train)\n",
    "test_data = dataset.CustomDataset(X_test,Y_test)\n"
   ]
  },
  {
   "cell_type": "markdown",
   "id": "a9a1af34",
   "metadata": {
    "id": "a9a1af34",
    "papermill": {
     "duration": 0.007206,
     "end_time": "2022-06-12T03:09:44.324629",
     "exception": false,
     "start_time": "2022-06-12T03:09:44.317423",
     "status": "completed"
    },
    "tags": []
   },
   "source": [
    "## Training Parameters "
   ]
  },
  {
   "cell_type": "code",
   "execution_count": 8,
   "id": "952b7fc8",
   "metadata": {
    "execution": {
     "iopub.execute_input": "2022-06-12T03:09:44.341275Z",
     "iopub.status.busy": "2022-06-12T03:09:44.340902Z",
     "iopub.status.idle": "2022-06-12T03:09:44.342144Z",
     "shell.execute_reply": "2022-06-12T03:09:44.342391Z"
    },
    "id": "952b7fc8",
    "papermill": {
     "duration": 0.010743,
     "end_time": "2022-06-12T03:09:44.342505",
     "exception": false,
     "start_time": "2022-06-12T03:09:44.331762",
     "status": "completed"
    },
    "tags": []
   },
   "outputs": [],
   "source": [
    "batch_size = 32\n",
    "n_epochs = 1000\n",
    "#Select the device \n",
    "device = torch.device('cuda' if torch.cuda.is_available() else 'cpu')"
   ]
  },
  {
   "cell_type": "markdown",
   "id": "a95e1600",
   "metadata": {
    "id": "a95e1600",
    "papermill": {
     "duration": 0.0072,
     "end_time": "2022-06-12T03:09:44.357015",
     "exception": false,
     "start_time": "2022-06-12T03:09:44.349815",
     "status": "completed"
    },
    "tags": []
   },
   "source": [
    "# ABC Pre-generator Model \n",
    "\n",
    "1. The catboost model is used as a pre-generator model for the ABC-GAN. \n",
    "2. The model is first trained on the entire dataset \n",
    "3. It generats X,Y pairs and we add some Gaussian noise with mean 0 and variance 1 to it which is then feed as input to the generator.\n"
   ]
  },
  {
   "cell_type": "code",
   "execution_count": 9,
   "id": "ff8ce7bd",
   "metadata": {
    "execution": {
     "iopub.execute_input": "2022-06-12T03:09:44.376203Z",
     "iopub.status.busy": "2022-06-12T03:09:44.375829Z",
     "iopub.status.idle": "2022-06-12T03:09:45.330993Z",
     "shell.execute_reply": "2022-06-12T03:09:45.331299Z"
    },
    "id": "ff8ce7bd",
    "papermill": {
     "duration": 0.967145,
     "end_time": "2022-06-12T03:09:45.331426",
     "exception": false,
     "start_time": "2022-06-12T03:09:44.364281",
     "status": "completed"
    },
    "tags": []
   },
   "outputs": [
    {
     "name": "stdout",
     "output_type": "stream",
     "text": [
      "Learning rate set to 0.033215\n",
      "0:\tlearn: 0.9877178\ttotal: 58.7ms\tremaining: 58.7s\n",
      "1:\tlearn: 0.9691861\ttotal: 59.7ms\tremaining: 29.8s\n",
      "2:\tlearn: 0.9497509\ttotal: 60.5ms\tremaining: 20.1s\n",
      "3:\tlearn: 0.9319536\ttotal: 61.8ms\tremaining: 15.4s\n",
      "4:\tlearn: 0.9161592\ttotal: 62.9ms\tremaining: 12.5s\n",
      "5:\tlearn: 0.8990628\ttotal: 63.8ms\tremaining: 10.6s\n",
      "6:\tlearn: 0.8827576\ttotal: 64.7ms\tremaining: 9.17s\n",
      "7:\tlearn: 0.8673469\ttotal: 65.5ms\tremaining: 8.12s\n",
      "8:\tlearn: 0.8526942\ttotal: 66.5ms\tremaining: 7.32s\n",
      "9:\tlearn: 0.8367343\ttotal: 67.4ms\tremaining: 6.67s\n",
      "10:\tlearn: 0.8202083\ttotal: 68.2ms\tremaining: 6.13s\n",
      "11:\tlearn: 0.8054173\ttotal: 69.2ms\tremaining: 5.7s\n",
      "12:\tlearn: 0.7908546\ttotal: 70ms\tremaining: 5.31s\n",
      "13:\tlearn: 0.7757150\ttotal: 70.8ms\tremaining: 4.99s\n",
      "14:\tlearn: 0.7636618\ttotal: 71.7ms\tremaining: 4.71s\n",
      "15:\tlearn: 0.7516319\ttotal: 72.6ms\tremaining: 4.46s\n",
      "16:\tlearn: 0.7368542\ttotal: 73.5ms\tremaining: 4.25s\n",
      "17:\tlearn: 0.7242251\ttotal: 74.4ms\tremaining: 4.06s\n",
      "18:\tlearn: 0.7119395\ttotal: 75.2ms\tremaining: 3.88s\n",
      "19:\tlearn: 0.7002667\ttotal: 76ms\tremaining: 3.72s\n",
      "20:\tlearn: 0.6874131\ttotal: 76.8ms\tremaining: 3.58s\n",
      "21:\tlearn: 0.6767534\ttotal: 77.7ms\tremaining: 3.45s\n",
      "22:\tlearn: 0.6662349\ttotal: 78.5ms\tremaining: 3.34s\n",
      "23:\tlearn: 0.6568360\ttotal: 79.4ms\tremaining: 3.23s\n",
      "24:\tlearn: 0.6475051\ttotal: 80.2ms\tremaining: 3.13s\n",
      "25:\tlearn: 0.6394514\ttotal: 81ms\tremaining: 3.03s\n",
      "26:\tlearn: 0.6316426\ttotal: 81.9ms\tremaining: 2.95s\n",
      "27:\tlearn: 0.6228668\ttotal: 82.8ms\tremaining: 2.88s\n",
      "28:\tlearn: 0.6143258\ttotal: 83.6ms\tremaining: 2.8s\n",
      "29:\tlearn: 0.6051120\ttotal: 84.4ms\tremaining: 2.73s\n",
      "30:\tlearn: 0.5945022\ttotal: 85.4ms\tremaining: 2.67s\n",
      "31:\tlearn: 0.5864277\ttotal: 86.2ms\tremaining: 2.61s\n",
      "32:\tlearn: 0.5798953\ttotal: 87ms\tremaining: 2.55s\n",
      "33:\tlearn: 0.5730946\ttotal: 87.8ms\tremaining: 2.49s\n",
      "34:\tlearn: 0.5655533\ttotal: 88.6ms\tremaining: 2.44s\n",
      "35:\tlearn: 0.5581472\ttotal: 89.4ms\tremaining: 2.39s\n",
      "36:\tlearn: 0.5513558\ttotal: 90.3ms\tremaining: 2.35s\n",
      "37:\tlearn: 0.5436242\ttotal: 91.1ms\tremaining: 2.31s\n",
      "38:\tlearn: 0.5358717\ttotal: 91.9ms\tremaining: 2.26s\n",
      "39:\tlearn: 0.5286974\ttotal: 92.6ms\tremaining: 2.22s\n",
      "40:\tlearn: 0.5232502\ttotal: 93.4ms\tremaining: 2.19s\n",
      "41:\tlearn: 0.5170438\ttotal: 94.1ms\tremaining: 2.15s\n",
      "42:\tlearn: 0.5122684\ttotal: 95ms\tremaining: 2.11s\n",
      "43:\tlearn: 0.5054468\ttotal: 95.7ms\tremaining: 2.08s\n",
      "44:\tlearn: 0.4997464\ttotal: 96.5ms\tremaining: 2.05s\n",
      "45:\tlearn: 0.4941063\ttotal: 97.2ms\tremaining: 2.02s\n",
      "46:\tlearn: 0.4876122\ttotal: 97.9ms\tremaining: 1.99s\n",
      "47:\tlearn: 0.4822347\ttotal: 98.6ms\tremaining: 1.96s\n",
      "48:\tlearn: 0.4774626\ttotal: 99.4ms\tremaining: 1.93s\n",
      "49:\tlearn: 0.4729156\ttotal: 100ms\tremaining: 1.9s\n",
      "50:\tlearn: 0.4662250\ttotal: 101ms\tremaining: 1.89s\n",
      "51:\tlearn: 0.4620048\ttotal: 102ms\tremaining: 1.86s\n",
      "52:\tlearn: 0.4563084\ttotal: 103ms\tremaining: 1.84s\n",
      "53:\tlearn: 0.4531431\ttotal: 104ms\tremaining: 1.81s\n",
      "54:\tlearn: 0.4484851\ttotal: 104ms\tremaining: 1.79s\n",
      "55:\tlearn: 0.4446615\ttotal: 105ms\tremaining: 1.77s\n",
      "56:\tlearn: 0.4392650\ttotal: 106ms\tremaining: 1.75s\n"
     ]
    },
    {
     "name": "stdout",
     "output_type": "stream",
     "text": [
      "57:\tlearn: 0.4351697\ttotal: 107ms\tremaining: 1.73s\n",
      "58:\tlearn: 0.4310987\ttotal: 108ms\tremaining: 1.72s\n",
      "59:\tlearn: 0.4267786\ttotal: 109ms\tremaining: 1.7s\n",
      "60:\tlearn: 0.4229000\ttotal: 109ms\tremaining: 1.68s\n",
      "61:\tlearn: 0.4183179\ttotal: 110ms\tremaining: 1.67s\n",
      "62:\tlearn: 0.4147513\ttotal: 111ms\tremaining: 1.65s\n",
      "63:\tlearn: 0.4113451\ttotal: 112ms\tremaining: 1.63s\n",
      "64:\tlearn: 0.4082993\ttotal: 112ms\tremaining: 1.62s\n",
      "65:\tlearn: 0.4051198\ttotal: 113ms\tremaining: 1.6s\n",
      "66:\tlearn: 0.4012933\ttotal: 114ms\tremaining: 1.59s\n",
      "67:\tlearn: 0.3966182\ttotal: 115ms\tremaining: 1.58s\n",
      "68:\tlearn: 0.3932938\ttotal: 116ms\tremaining: 1.56s\n",
      "69:\tlearn: 0.3906368\ttotal: 117ms\tremaining: 1.55s\n",
      "70:\tlearn: 0.3869823\ttotal: 118ms\tremaining: 1.54s\n",
      "71:\tlearn: 0.3845260\ttotal: 118ms\tremaining: 1.53s\n",
      "72:\tlearn: 0.3813097\ttotal: 119ms\tremaining: 1.51s\n",
      "73:\tlearn: 0.3784454\ttotal: 120ms\tremaining: 1.5s\n",
      "74:\tlearn: 0.3760404\ttotal: 121ms\tremaining: 1.49s\n",
      "75:\tlearn: 0.3736426\ttotal: 122ms\tremaining: 1.48s\n",
      "76:\tlearn: 0.3712781\ttotal: 122ms\tremaining: 1.47s\n",
      "77:\tlearn: 0.3691648\ttotal: 123ms\tremaining: 1.46s\n",
      "78:\tlearn: 0.3664345\ttotal: 124ms\tremaining: 1.45s\n",
      "79:\tlearn: 0.3636905\ttotal: 125ms\tremaining: 1.44s\n",
      "80:\tlearn: 0.3611897\ttotal: 126ms\tremaining: 1.43s\n",
      "81:\tlearn: 0.3584564\ttotal: 127ms\tremaining: 1.42s\n",
      "82:\tlearn: 0.3554292\ttotal: 127ms\tremaining: 1.41s\n",
      "83:\tlearn: 0.3525289\ttotal: 128ms\tremaining: 1.4s\n",
      "84:\tlearn: 0.3503688\ttotal: 129ms\tremaining: 1.39s\n",
      "85:\tlearn: 0.3482431\ttotal: 130ms\tremaining: 1.38s\n",
      "86:\tlearn: 0.3466412\ttotal: 131ms\tremaining: 1.37s\n",
      "87:\tlearn: 0.3443972\ttotal: 132ms\tremaining: 1.36s\n",
      "88:\tlearn: 0.3419885\ttotal: 132ms\tremaining: 1.35s\n",
      "89:\tlearn: 0.3397723\ttotal: 133ms\tremaining: 1.35s\n",
      "90:\tlearn: 0.3373156\ttotal: 134ms\tremaining: 1.34s\n",
      "91:\tlearn: 0.3352528\ttotal: 135ms\tremaining: 1.33s\n",
      "92:\tlearn: 0.3338151\ttotal: 136ms\tremaining: 1.32s\n",
      "93:\tlearn: 0.3316696\ttotal: 137ms\tremaining: 1.32s\n",
      "94:\tlearn: 0.3293113\ttotal: 137ms\tremaining: 1.31s\n",
      "95:\tlearn: 0.3281077\ttotal: 138ms\tremaining: 1.3s\n",
      "96:\tlearn: 0.3269179\ttotal: 139ms\tremaining: 1.29s\n",
      "97:\tlearn: 0.3252858\ttotal: 140ms\tremaining: 1.28s\n",
      "98:\tlearn: 0.3243561\ttotal: 141ms\tremaining: 1.28s\n",
      "99:\tlearn: 0.3226776\ttotal: 141ms\tremaining: 1.27s\n",
      "100:\tlearn: 0.3205087\ttotal: 142ms\tremaining: 1.27s\n",
      "101:\tlearn: 0.3189516\ttotal: 143ms\tremaining: 1.26s\n",
      "102:\tlearn: 0.3173208\ttotal: 145ms\tremaining: 1.26s\n",
      "103:\tlearn: 0.3156565\ttotal: 145ms\tremaining: 1.25s\n",
      "104:\tlearn: 0.3145205\ttotal: 146ms\tremaining: 1.25s\n",
      "105:\tlearn: 0.3131775\ttotal: 147ms\tremaining: 1.24s\n",
      "106:\tlearn: 0.3110247\ttotal: 148ms\tremaining: 1.23s\n",
      "107:\tlearn: 0.3091169\ttotal: 149ms\tremaining: 1.23s\n",
      "108:\tlearn: 0.3076528\ttotal: 149ms\tremaining: 1.22s\n",
      "109:\tlearn: 0.3059296\ttotal: 150ms\tremaining: 1.22s\n",
      "110:\tlearn: 0.3044132\ttotal: 151ms\tremaining: 1.21s\n",
      "111:\tlearn: 0.3034294\ttotal: 152ms\tremaining: 1.21s\n",
      "112:\tlearn: 0.3018637\ttotal: 153ms\tremaining: 1.2s\n",
      "113:\tlearn: 0.2997944\ttotal: 154ms\tremaining: 1.2s\n",
      "114:\tlearn: 0.2985123\ttotal: 155ms\tremaining: 1.19s\n",
      "115:\tlearn: 0.2968050\ttotal: 156ms\tremaining: 1.19s\n",
      "116:\tlearn: 0.2953589\ttotal: 156ms\tremaining: 1.18s\n",
      "117:\tlearn: 0.2939890\ttotal: 157ms\tremaining: 1.17s\n",
      "118:\tlearn: 0.2925900\ttotal: 158ms\tremaining: 1.17s\n",
      "119:\tlearn: 0.2917381\ttotal: 159ms\tremaining: 1.16s\n",
      "120:\tlearn: 0.2905423\ttotal: 159ms\tremaining: 1.16s\n",
      "121:\tlearn: 0.2894017\ttotal: 160ms\tremaining: 1.15s\n",
      "122:\tlearn: 0.2880512\ttotal: 161ms\tremaining: 1.15s\n",
      "123:\tlearn: 0.2867601\ttotal: 162ms\tremaining: 1.14s\n",
      "124:\tlearn: 0.2855109\ttotal: 163ms\tremaining: 1.14s\n",
      "125:\tlearn: 0.2845756\ttotal: 163ms\tremaining: 1.13s\n",
      "126:\tlearn: 0.2832650\ttotal: 164ms\tremaining: 1.13s\n",
      "127:\tlearn: 0.2822811\ttotal: 165ms\tremaining: 1.12s\n",
      "128:\tlearn: 0.2811638\ttotal: 166ms\tremaining: 1.12s\n",
      "129:\tlearn: 0.2800805\ttotal: 167ms\tremaining: 1.11s\n",
      "130:\tlearn: 0.2791574\ttotal: 168ms\tremaining: 1.11s\n",
      "131:\tlearn: 0.2780357\ttotal: 168ms\tremaining: 1.11s\n",
      "132:\tlearn: 0.2769968\ttotal: 169ms\tremaining: 1.1s\n",
      "133:\tlearn: 0.2762779\ttotal: 170ms\tremaining: 1.1s\n",
      "134:\tlearn: 0.2755134\ttotal: 171ms\tremaining: 1.09s\n",
      "135:\tlearn: 0.2747532\ttotal: 172ms\tremaining: 1.09s\n",
      "136:\tlearn: 0.2739100\ttotal: 173ms\tremaining: 1.09s\n",
      "137:\tlearn: 0.2727362\ttotal: 173ms\tremaining: 1.08s\n",
      "138:\tlearn: 0.2716799\ttotal: 174ms\tremaining: 1.08s\n",
      "139:\tlearn: 0.2708580\ttotal: 175ms\tremaining: 1.07s\n",
      "140:\tlearn: 0.2699684\ttotal: 176ms\tremaining: 1.07s\n",
      "141:\tlearn: 0.2689560\ttotal: 177ms\tremaining: 1.07s\n",
      "142:\tlearn: 0.2678601\ttotal: 178ms\tremaining: 1.06s\n",
      "143:\tlearn: 0.2667870\ttotal: 178ms\tremaining: 1.06s\n",
      "144:\tlearn: 0.2659848\ttotal: 179ms\tremaining: 1.06s\n",
      "145:\tlearn: 0.2652010\ttotal: 180ms\tremaining: 1.05s\n",
      "146:\tlearn: 0.2643755\ttotal: 182ms\tremaining: 1.05s\n",
      "147:\tlearn: 0.2634252\ttotal: 182ms\tremaining: 1.05s\n",
      "148:\tlearn: 0.2623298\ttotal: 183ms\tremaining: 1.05s\n",
      "149:\tlearn: 0.2617731\ttotal: 184ms\tremaining: 1.04s\n",
      "150:\tlearn: 0.2607124\ttotal: 185ms\tremaining: 1.04s\n",
      "151:\tlearn: 0.2600658\ttotal: 186ms\tremaining: 1.03s\n",
      "152:\tlearn: 0.2591135\ttotal: 186ms\tremaining: 1.03s\n",
      "153:\tlearn: 0.2580608\ttotal: 187ms\tremaining: 1.03s\n",
      "154:\tlearn: 0.2571425\ttotal: 188ms\tremaining: 1.02s\n",
      "155:\tlearn: 0.2562474\ttotal: 189ms\tremaining: 1.02s\n",
      "156:\tlearn: 0.2556514\ttotal: 190ms\tremaining: 1.02s\n",
      "157:\tlearn: 0.2545434\ttotal: 190ms\tremaining: 1.01s\n"
     ]
    },
    {
     "name": "stdout",
     "output_type": "stream",
     "text": [
      "158:\tlearn: 0.2539780\ttotal: 192ms\tremaining: 1.01s\n",
      "159:\tlearn: 0.2531452\ttotal: 193ms\tremaining: 1.01s\n",
      "160:\tlearn: 0.2520926\ttotal: 194ms\tremaining: 1.01s\n",
      "161:\tlearn: 0.2513279\ttotal: 195ms\tremaining: 1.01s\n",
      "162:\tlearn: 0.2510011\ttotal: 195ms\tremaining: 1s\n",
      "163:\tlearn: 0.2503250\ttotal: 196ms\tremaining: 1000ms\n",
      "164:\tlearn: 0.2496904\ttotal: 197ms\tremaining: 997ms\n",
      "165:\tlearn: 0.2490515\ttotal: 198ms\tremaining: 994ms\n",
      "166:\tlearn: 0.2484449\ttotal: 199ms\tremaining: 991ms\n",
      "167:\tlearn: 0.2475823\ttotal: 200ms\tremaining: 990ms\n",
      "168:\tlearn: 0.2468971\ttotal: 201ms\tremaining: 987ms\n",
      "169:\tlearn: 0.2458472\ttotal: 202ms\tremaining: 984ms\n",
      "170:\tlearn: 0.2452927\ttotal: 202ms\tremaining: 981ms\n",
      "171:\tlearn: 0.2444512\ttotal: 203ms\tremaining: 978ms\n",
      "172:\tlearn: 0.2437767\ttotal: 204ms\tremaining: 975ms\n",
      "173:\tlearn: 0.2430591\ttotal: 205ms\tremaining: 972ms\n",
      "174:\tlearn: 0.2424267\ttotal: 206ms\tremaining: 969ms\n",
      "175:\tlearn: 0.2416164\ttotal: 206ms\tremaining: 966ms\n",
      "176:\tlearn: 0.2408318\ttotal: 207ms\tremaining: 964ms\n",
      "177:\tlearn: 0.2400992\ttotal: 208ms\tremaining: 961ms\n",
      "178:\tlearn: 0.2395304\ttotal: 209ms\tremaining: 958ms\n",
      "179:\tlearn: 0.2388299\ttotal: 210ms\tremaining: 955ms\n",
      "180:\tlearn: 0.2378206\ttotal: 211ms\tremaining: 953ms\n",
      "181:\tlearn: 0.2372120\ttotal: 211ms\tremaining: 950ms\n",
      "182:\tlearn: 0.2364161\ttotal: 212ms\tremaining: 948ms\n",
      "183:\tlearn: 0.2357384\ttotal: 213ms\tremaining: 945ms\n",
      "184:\tlearn: 0.2350731\ttotal: 214ms\tremaining: 942ms\n",
      "185:\tlearn: 0.2342211\ttotal: 215ms\tremaining: 939ms\n",
      "186:\tlearn: 0.2334427\ttotal: 215ms\tremaining: 937ms\n",
      "187:\tlearn: 0.2327805\ttotal: 216ms\tremaining: 934ms\n",
      "188:\tlearn: 0.2322169\ttotal: 217ms\tremaining: 931ms\n",
      "189:\tlearn: 0.2314160\ttotal: 218ms\tremaining: 928ms\n",
      "190:\tlearn: 0.2308489\ttotal: 219ms\tremaining: 926ms\n",
      "191:\tlearn: 0.2302457\ttotal: 219ms\tremaining: 923ms\n",
      "192:\tlearn: 0.2295068\ttotal: 220ms\tremaining: 921ms\n",
      "193:\tlearn: 0.2287762\ttotal: 221ms\tremaining: 918ms\n",
      "194:\tlearn: 0.2279934\ttotal: 222ms\tremaining: 916ms\n",
      "195:\tlearn: 0.2273018\ttotal: 223ms\tremaining: 913ms\n",
      "196:\tlearn: 0.2268237\ttotal: 223ms\tremaining: 910ms\n",
      "197:\tlearn: 0.2262610\ttotal: 224ms\tremaining: 908ms\n",
      "198:\tlearn: 0.2255002\ttotal: 225ms\tremaining: 905ms\n",
      "199:\tlearn: 0.2248613\ttotal: 226ms\tremaining: 903ms\n",
      "200:\tlearn: 0.2242614\ttotal: 227ms\tremaining: 901ms\n",
      "201:\tlearn: 0.2238742\ttotal: 227ms\tremaining: 898ms\n",
      "202:\tlearn: 0.2232737\ttotal: 228ms\tremaining: 896ms\n",
      "203:\tlearn: 0.2226197\ttotal: 229ms\tremaining: 894ms\n",
      "204:\tlearn: 0.2221289\ttotal: 230ms\tremaining: 891ms\n",
      "205:\tlearn: 0.2213919\ttotal: 231ms\tremaining: 889ms\n",
      "206:\tlearn: 0.2207159\ttotal: 232ms\tremaining: 887ms\n",
      "207:\tlearn: 0.2202412\ttotal: 232ms\tremaining: 885ms\n",
      "208:\tlearn: 0.2199217\ttotal: 233ms\tremaining: 883ms\n",
      "209:\tlearn: 0.2192024\ttotal: 234ms\tremaining: 880ms\n",
      "210:\tlearn: 0.2186816\ttotal: 235ms\tremaining: 878ms\n",
      "211:\tlearn: 0.2181009\ttotal: 236ms\tremaining: 876ms\n",
      "212:\tlearn: 0.2174944\ttotal: 236ms\tremaining: 874ms\n",
      "213:\tlearn: 0.2172169\ttotal: 237ms\tremaining: 872ms\n",
      "214:\tlearn: 0.2166891\ttotal: 238ms\tremaining: 869ms\n",
      "215:\tlearn: 0.2158868\ttotal: 239ms\tremaining: 867ms\n",
      "216:\tlearn: 0.2152639\ttotal: 240ms\tremaining: 865ms\n",
      "217:\tlearn: 0.2148297\ttotal: 240ms\tremaining: 862ms\n",
      "218:\tlearn: 0.2142395\ttotal: 241ms\tremaining: 861ms\n",
      "219:\tlearn: 0.2139709\ttotal: 242ms\tremaining: 859ms\n",
      "220:\tlearn: 0.2134457\ttotal: 243ms\tremaining: 856ms\n",
      "221:\tlearn: 0.2127202\ttotal: 245ms\tremaining: 857ms\n",
      "222:\tlearn: 0.2120935\ttotal: 245ms\tremaining: 855ms\n",
      "223:\tlearn: 0.2114052\ttotal: 246ms\tremaining: 853ms\n",
      "224:\tlearn: 0.2108493\ttotal: 247ms\tremaining: 851ms\n",
      "225:\tlearn: 0.2103043\ttotal: 248ms\tremaining: 849ms\n",
      "226:\tlearn: 0.2099927\ttotal: 249ms\tremaining: 847ms\n",
      "227:\tlearn: 0.2093156\ttotal: 250ms\tremaining: 845ms\n",
      "228:\tlearn: 0.2087209\ttotal: 251ms\tremaining: 844ms\n",
      "229:\tlearn: 0.2084141\ttotal: 251ms\tremaining: 842ms\n",
      "230:\tlearn: 0.2077848\ttotal: 252ms\tremaining: 840ms\n",
      "231:\tlearn: 0.2072423\ttotal: 253ms\tremaining: 839ms\n",
      "232:\tlearn: 0.2066983\ttotal: 254ms\tremaining: 836ms\n",
      "233:\tlearn: 0.2060607\ttotal: 255ms\tremaining: 835ms\n",
      "234:\tlearn: 0.2057082\ttotal: 256ms\tremaining: 833ms\n",
      "235:\tlearn: 0.2053951\ttotal: 257ms\tremaining: 831ms\n",
      "236:\tlearn: 0.2047762\ttotal: 258ms\tremaining: 830ms\n",
      "237:\tlearn: 0.2040431\ttotal: 259ms\tremaining: 828ms\n",
      "238:\tlearn: 0.2034817\ttotal: 259ms\tremaining: 826ms\n",
      "239:\tlearn: 0.2030283\ttotal: 260ms\tremaining: 825ms\n",
      "240:\tlearn: 0.2024302\ttotal: 261ms\tremaining: 823ms\n",
      "241:\tlearn: 0.2019849\ttotal: 262ms\tremaining: 821ms\n",
      "242:\tlearn: 0.2014662\ttotal: 263ms\tremaining: 820ms\n",
      "243:\tlearn: 0.2009438\ttotal: 264ms\tremaining: 819ms\n",
      "244:\tlearn: 0.2001795\ttotal: 265ms\tremaining: 817ms\n",
      "245:\tlearn: 0.1996455\ttotal: 266ms\tremaining: 815ms\n",
      "246:\tlearn: 0.1990844\ttotal: 267ms\tremaining: 814ms\n",
      "247:\tlearn: 0.1985044\ttotal: 268ms\tremaining: 813ms\n",
      "248:\tlearn: 0.1980437\ttotal: 269ms\tremaining: 811ms\n",
      "249:\tlearn: 0.1973395\ttotal: 270ms\tremaining: 810ms\n",
      "250:\tlearn: 0.1968355\ttotal: 271ms\tremaining: 808ms\n",
      "251:\tlearn: 0.1964930\ttotal: 272ms\tremaining: 807ms\n",
      "252:\tlearn: 0.1958911\ttotal: 273ms\tremaining: 805ms\n",
      "253:\tlearn: 0.1954985\ttotal: 273ms\tremaining: 803ms\n",
      "254:\tlearn: 0.1949181\ttotal: 274ms\tremaining: 801ms\n",
      "255:\tlearn: 0.1944505\ttotal: 275ms\tremaining: 800ms\n",
      "256:\tlearn: 0.1939073\ttotal: 276ms\tremaining: 798ms\n",
      "257:\tlearn: 0.1933621\ttotal: 277ms\tremaining: 796ms\n",
      "258:\tlearn: 0.1929328\ttotal: 278ms\tremaining: 795ms\n",
      "259:\tlearn: 0.1925571\ttotal: 279ms\tremaining: 793ms\n",
      "260:\tlearn: 0.1919237\ttotal: 279ms\tremaining: 791ms\n",
      "261:\tlearn: 0.1913369\ttotal: 280ms\tremaining: 790ms\n",
      "262:\tlearn: 0.1910916\ttotal: 281ms\tremaining: 788ms\n",
      "263:\tlearn: 0.1904370\ttotal: 282ms\tremaining: 786ms\n",
      "264:\tlearn: 0.1898728\ttotal: 283ms\tremaining: 784ms\n",
      "265:\tlearn: 0.1894010\ttotal: 284ms\tremaining: 783ms\n",
      "266:\tlearn: 0.1891480\ttotal: 285ms\tremaining: 781ms\n",
      "267:\tlearn: 0.1886521\ttotal: 285ms\tremaining: 780ms\n",
      "268:\tlearn: 0.1880862\ttotal: 286ms\tremaining: 778ms\n",
      "269:\tlearn: 0.1878350\ttotal: 287ms\tremaining: 776ms\n",
      "270:\tlearn: 0.1874461\ttotal: 288ms\tremaining: 774ms\n",
      "271:\tlearn: 0.1872591\ttotal: 289ms\tremaining: 772ms\n",
      "272:\tlearn: 0.1868558\ttotal: 289ms\tremaining: 771ms\n",
      "273:\tlearn: 0.1863324\ttotal: 290ms\tremaining: 769ms\n",
      "274:\tlearn: 0.1859769\ttotal: 291ms\tremaining: 767ms\n",
      "275:\tlearn: 0.1854654\ttotal: 292ms\tremaining: 765ms\n",
      "276:\tlearn: 0.1849700\ttotal: 292ms\tremaining: 763ms\n",
      "277:\tlearn: 0.1843026\ttotal: 293ms\tremaining: 761ms\n",
      "278:\tlearn: 0.1841575\ttotal: 294ms\tremaining: 760ms\n",
      "279:\tlearn: 0.1838311\ttotal: 295ms\tremaining: 758ms\n",
      "280:\tlearn: 0.1833497\ttotal: 296ms\tremaining: 757ms\n",
      "281:\tlearn: 0.1828321\ttotal: 296ms\tremaining: 755ms\n"
     ]
    },
    {
     "name": "stdout",
     "output_type": "stream",
     "text": [
      "282:\tlearn: 0.1825615\ttotal: 298ms\tremaining: 754ms\n",
      "283:\tlearn: 0.1822658\ttotal: 299ms\tremaining: 753ms\n",
      "284:\tlearn: 0.1818149\ttotal: 299ms\tremaining: 751ms\n",
      "285:\tlearn: 0.1813205\ttotal: 300ms\tremaining: 750ms\n",
      "286:\tlearn: 0.1806757\ttotal: 301ms\tremaining: 748ms\n",
      "287:\tlearn: 0.1801680\ttotal: 302ms\tremaining: 747ms\n",
      "288:\tlearn: 0.1797573\ttotal: 303ms\tremaining: 745ms\n",
      "289:\tlearn: 0.1792513\ttotal: 304ms\tremaining: 744ms\n",
      "290:\tlearn: 0.1789118\ttotal: 305ms\tremaining: 743ms\n",
      "291:\tlearn: 0.1783647\ttotal: 306ms\tremaining: 741ms\n",
      "292:\tlearn: 0.1779320\ttotal: 307ms\tremaining: 740ms\n",
      "293:\tlearn: 0.1774240\ttotal: 307ms\tremaining: 738ms\n",
      "294:\tlearn: 0.1769329\ttotal: 308ms\tremaining: 737ms\n",
      "295:\tlearn: 0.1764517\ttotal: 309ms\tremaining: 735ms\n",
      "296:\tlearn: 0.1761261\ttotal: 310ms\tremaining: 733ms\n",
      "297:\tlearn: 0.1758960\ttotal: 311ms\tremaining: 732ms\n",
      "298:\tlearn: 0.1754823\ttotal: 311ms\tremaining: 730ms\n",
      "299:\tlearn: 0.1751528\ttotal: 312ms\tremaining: 728ms\n",
      "300:\tlearn: 0.1746839\ttotal: 313ms\tremaining: 727ms\n",
      "301:\tlearn: 0.1745399\ttotal: 314ms\tremaining: 725ms\n",
      "302:\tlearn: 0.1741554\ttotal: 315ms\tremaining: 725ms\n",
      "303:\tlearn: 0.1737169\ttotal: 316ms\tremaining: 724ms\n",
      "304:\tlearn: 0.1734809\ttotal: 317ms\tremaining: 722ms\n",
      "305:\tlearn: 0.1730557\ttotal: 318ms\tremaining: 720ms\n",
      "306:\tlearn: 0.1728980\ttotal: 318ms\tremaining: 719ms\n",
      "307:\tlearn: 0.1725751\ttotal: 319ms\tremaining: 717ms\n",
      "308:\tlearn: 0.1723268\ttotal: 320ms\tremaining: 716ms\n",
      "309:\tlearn: 0.1721703\ttotal: 321ms\tremaining: 714ms\n",
      "310:\tlearn: 0.1717388\ttotal: 321ms\tremaining: 712ms\n",
      "311:\tlearn: 0.1714534\ttotal: 322ms\tremaining: 711ms\n",
      "312:\tlearn: 0.1710064\ttotal: 324ms\tremaining: 711ms\n",
      "313:\tlearn: 0.1708712\ttotal: 325ms\tremaining: 709ms\n",
      "314:\tlearn: 0.1703650\ttotal: 325ms\tremaining: 708ms\n",
      "315:\tlearn: 0.1699812\ttotal: 326ms\tremaining: 706ms\n",
      "316:\tlearn: 0.1695007\ttotal: 327ms\tremaining: 704ms\n",
      "317:\tlearn: 0.1690734\ttotal: 328ms\tremaining: 703ms\n",
      "318:\tlearn: 0.1685907\ttotal: 328ms\tremaining: 701ms\n",
      "319:\tlearn: 0.1683003\ttotal: 329ms\tremaining: 700ms\n",
      "320:\tlearn: 0.1678304\ttotal: 330ms\tremaining: 698ms\n",
      "321:\tlearn: 0.1673581\ttotal: 331ms\tremaining: 697ms\n",
      "322:\tlearn: 0.1668986\ttotal: 332ms\tremaining: 695ms\n",
      "323:\tlearn: 0.1665864\ttotal: 332ms\tremaining: 694ms\n",
      "324:\tlearn: 0.1662081\ttotal: 333ms\tremaining: 692ms\n",
      "325:\tlearn: 0.1656934\ttotal: 334ms\tremaining: 691ms\n",
      "326:\tlearn: 0.1655563\ttotal: 335ms\tremaining: 689ms\n",
      "327:\tlearn: 0.1653405\ttotal: 336ms\tremaining: 688ms\n",
      "328:\tlearn: 0.1652317\ttotal: 336ms\tremaining: 686ms\n",
      "329:\tlearn: 0.1649842\ttotal: 337ms\tremaining: 685ms\n",
      "330:\tlearn: 0.1646917\ttotal: 338ms\tremaining: 683ms\n",
      "331:\tlearn: 0.1643891\ttotal: 339ms\tremaining: 682ms\n",
      "332:\tlearn: 0.1640191\ttotal: 340ms\tremaining: 680ms\n",
      "333:\tlearn: 0.1636923\ttotal: 341ms\tremaining: 679ms\n",
      "334:\tlearn: 0.1632934\ttotal: 341ms\tremaining: 678ms\n",
      "335:\tlearn: 0.1628408\ttotal: 342ms\tremaining: 676ms\n",
      "336:\tlearn: 0.1622631\ttotal: 343ms\tremaining: 675ms\n",
      "337:\tlearn: 0.1621415\ttotal: 344ms\tremaining: 673ms\n",
      "338:\tlearn: 0.1618185\ttotal: 345ms\tremaining: 672ms\n",
      "339:\tlearn: 0.1615133\ttotal: 345ms\tremaining: 670ms\n",
      "340:\tlearn: 0.1613195\ttotal: 346ms\tremaining: 669ms\n",
      "341:\tlearn: 0.1608813\ttotal: 347ms\tremaining: 668ms\n",
      "342:\tlearn: 0.1605517\ttotal: 348ms\tremaining: 666ms\n",
      "343:\tlearn: 0.1600884\ttotal: 349ms\tremaining: 665ms\n",
      "344:\tlearn: 0.1596830\ttotal: 349ms\tremaining: 663ms\n",
      "345:\tlearn: 0.1594989\ttotal: 350ms\tremaining: 662ms\n",
      "346:\tlearn: 0.1590503\ttotal: 351ms\tremaining: 661ms\n",
      "347:\tlearn: 0.1587241\ttotal: 352ms\tremaining: 659ms\n",
      "348:\tlearn: 0.1584387\ttotal: 353ms\tremaining: 658ms\n",
      "349:\tlearn: 0.1583314\ttotal: 354ms\tremaining: 657ms\n",
      "350:\tlearn: 0.1578404\ttotal: 354ms\tremaining: 655ms\n",
      "351:\tlearn: 0.1574570\ttotal: 355ms\tremaining: 654ms\n",
      "352:\tlearn: 0.1570534\ttotal: 356ms\tremaining: 652ms\n",
      "353:\tlearn: 0.1566502\ttotal: 357ms\tremaining: 652ms\n",
      "354:\tlearn: 0.1563236\ttotal: 358ms\tremaining: 651ms\n",
      "355:\tlearn: 0.1561734\ttotal: 359ms\tremaining: 649ms\n",
      "356:\tlearn: 0.1560429\ttotal: 360ms\tremaining: 648ms\n",
      "357:\tlearn: 0.1558088\ttotal: 360ms\tremaining: 646ms\n",
      "358:\tlearn: 0.1554461\ttotal: 361ms\tremaining: 645ms\n",
      "359:\tlearn: 0.1551708\ttotal: 362ms\tremaining: 644ms\n",
      "360:\tlearn: 0.1549809\ttotal: 363ms\tremaining: 642ms\n",
      "361:\tlearn: 0.1546937\ttotal: 364ms\tremaining: 641ms\n",
      "362:\tlearn: 0.1541911\ttotal: 364ms\tremaining: 639ms\n",
      "363:\tlearn: 0.1538216\ttotal: 365ms\tremaining: 638ms\n",
      "364:\tlearn: 0.1535087\ttotal: 366ms\tremaining: 637ms\n",
      "365:\tlearn: 0.1533163\ttotal: 367ms\tremaining: 635ms\n",
      "366:\tlearn: 0.1531990\ttotal: 368ms\tremaining: 634ms\n",
      "367:\tlearn: 0.1529492\ttotal: 368ms\tremaining: 633ms\n",
      "368:\tlearn: 0.1525960\ttotal: 369ms\tremaining: 632ms\n",
      "369:\tlearn: 0.1521194\ttotal: 370ms\tremaining: 630ms\n",
      "370:\tlearn: 0.1517814\ttotal: 371ms\tremaining: 629ms\n",
      "371:\tlearn: 0.1515691\ttotal: 372ms\tremaining: 628ms\n",
      "372:\tlearn: 0.1515005\ttotal: 373ms\tremaining: 627ms\n",
      "373:\tlearn: 0.1513452\ttotal: 374ms\tremaining: 625ms\n",
      "374:\tlearn: 0.1510986\ttotal: 374ms\tremaining: 624ms\n",
      "375:\tlearn: 0.1508670\ttotal: 375ms\tremaining: 623ms\n",
      "376:\tlearn: 0.1504000\ttotal: 376ms\tremaining: 621ms\n",
      "377:\tlearn: 0.1501485\ttotal: 377ms\tremaining: 620ms\n",
      "378:\tlearn: 0.1497027\ttotal: 378ms\tremaining: 619ms\n",
      "379:\tlearn: 0.1494945\ttotal: 378ms\tremaining: 617ms\n",
      "380:\tlearn: 0.1492142\ttotal: 379ms\tremaining: 616ms\n",
      "381:\tlearn: 0.1489543\ttotal: 380ms\tremaining: 615ms\n",
      "382:\tlearn: 0.1486735\ttotal: 381ms\tremaining: 613ms\n"
     ]
    },
    {
     "name": "stdout",
     "output_type": "stream",
     "text": [
      "383:\tlearn: 0.1482986\ttotal: 382ms\tremaining: 612ms\n",
      "384:\tlearn: 0.1481290\ttotal: 383ms\tremaining: 611ms\n",
      "385:\tlearn: 0.1479425\ttotal: 384ms\tremaining: 610ms\n",
      "386:\tlearn: 0.1476416\ttotal: 385ms\tremaining: 609ms\n",
      "387:\tlearn: 0.1472882\ttotal: 385ms\tremaining: 608ms\n",
      "388:\tlearn: 0.1469923\ttotal: 386ms\tremaining: 607ms\n",
      "389:\tlearn: 0.1468064\ttotal: 387ms\tremaining: 605ms\n",
      "390:\tlearn: 0.1464282\ttotal: 388ms\tremaining: 604ms\n",
      "391:\tlearn: 0.1460609\ttotal: 389ms\tremaining: 603ms\n",
      "392:\tlearn: 0.1456806\ttotal: 389ms\tremaining: 601ms\n",
      "393:\tlearn: 0.1454416\ttotal: 390ms\tremaining: 600ms\n",
      "394:\tlearn: 0.1451218\ttotal: 391ms\tremaining: 599ms\n",
      "395:\tlearn: 0.1447799\ttotal: 392ms\tremaining: 598ms\n",
      "396:\tlearn: 0.1445913\ttotal: 393ms\tremaining: 596ms\n",
      "397:\tlearn: 0.1443572\ttotal: 393ms\tremaining: 595ms\n",
      "398:\tlearn: 0.1442580\ttotal: 394ms\tremaining: 594ms\n",
      "399:\tlearn: 0.1439952\ttotal: 395ms\tremaining: 592ms\n",
      "400:\tlearn: 0.1438017\ttotal: 396ms\tremaining: 591ms\n",
      "401:\tlearn: 0.1435276\ttotal: 396ms\tremaining: 590ms\n",
      "402:\tlearn: 0.1432961\ttotal: 397ms\tremaining: 588ms\n",
      "403:\tlearn: 0.1431955\ttotal: 398ms\tremaining: 587ms\n",
      "404:\tlearn: 0.1429188\ttotal: 399ms\tremaining: 586ms\n",
      "405:\tlearn: 0.1426797\ttotal: 400ms\tremaining: 585ms\n",
      "406:\tlearn: 0.1424562\ttotal: 401ms\tremaining: 584ms\n",
      "407:\tlearn: 0.1422462\ttotal: 401ms\tremaining: 583ms\n",
      "408:\tlearn: 0.1421561\ttotal: 402ms\tremaining: 581ms\n",
      "409:\tlearn: 0.1420645\ttotal: 404ms\tremaining: 581ms\n",
      "410:\tlearn: 0.1418616\ttotal: 404ms\tremaining: 580ms\n",
      "411:\tlearn: 0.1415879\ttotal: 405ms\tremaining: 578ms\n",
      "412:\tlearn: 0.1413575\ttotal: 406ms\tremaining: 577ms\n",
      "413:\tlearn: 0.1411337\ttotal: 407ms\tremaining: 576ms\n",
      "414:\tlearn: 0.1408573\ttotal: 408ms\tremaining: 575ms\n",
      "415:\tlearn: 0.1406101\ttotal: 409ms\tremaining: 574ms\n",
      "416:\tlearn: 0.1401313\ttotal: 410ms\tremaining: 573ms\n",
      "417:\tlearn: 0.1399134\ttotal: 410ms\tremaining: 571ms\n",
      "418:\tlearn: 0.1395812\ttotal: 411ms\tremaining: 570ms\n",
      "419:\tlearn: 0.1391915\ttotal: 412ms\tremaining: 569ms\n",
      "420:\tlearn: 0.1388862\ttotal: 413ms\tremaining: 568ms\n",
      "421:\tlearn: 0.1386134\ttotal: 414ms\tremaining: 567ms\n",
      "422:\tlearn: 0.1384559\ttotal: 415ms\tremaining: 566ms\n",
      "423:\tlearn: 0.1381905\ttotal: 415ms\tremaining: 564ms\n",
      "424:\tlearn: 0.1378830\ttotal: 416ms\tremaining: 563ms\n",
      "425:\tlearn: 0.1374041\ttotal: 417ms\tremaining: 562ms\n",
      "426:\tlearn: 0.1372551\ttotal: 418ms\tremaining: 561ms\n",
      "427:\tlearn: 0.1369927\ttotal: 419ms\tremaining: 560ms\n",
      "428:\tlearn: 0.1367383\ttotal: 420ms\tremaining: 559ms\n",
      "429:\tlearn: 0.1366199\ttotal: 420ms\tremaining: 557ms\n",
      "430:\tlearn: 0.1362964\ttotal: 421ms\tremaining: 556ms\n",
      "431:\tlearn: 0.1361694\ttotal: 422ms\tremaining: 555ms\n",
      "432:\tlearn: 0.1358431\ttotal: 423ms\tremaining: 554ms\n",
      "433:\tlearn: 0.1355781\ttotal: 424ms\tremaining: 553ms\n",
      "434:\tlearn: 0.1353223\ttotal: 425ms\tremaining: 551ms\n",
      "435:\tlearn: 0.1349683\ttotal: 425ms\tremaining: 550ms\n",
      "436:\tlearn: 0.1348380\ttotal: 426ms\tremaining: 549ms\n",
      "437:\tlearn: 0.1347199\ttotal: 427ms\tremaining: 548ms\n",
      "438:\tlearn: 0.1345053\ttotal: 428ms\tremaining: 547ms\n",
      "439:\tlearn: 0.1343490\ttotal: 429ms\tremaining: 546ms\n",
      "440:\tlearn: 0.1340902\ttotal: 429ms\tremaining: 544ms\n",
      "441:\tlearn: 0.1339611\ttotal: 430ms\tremaining: 543ms\n",
      "442:\tlearn: 0.1336705\ttotal: 431ms\tremaining: 542ms\n",
      "443:\tlearn: 0.1334095\ttotal: 432ms\tremaining: 541ms\n",
      "444:\tlearn: 0.1332231\ttotal: 433ms\tremaining: 540ms\n",
      "445:\tlearn: 0.1329059\ttotal: 434ms\tremaining: 539ms\n",
      "446:\tlearn: 0.1326893\ttotal: 435ms\tremaining: 538ms\n",
      "447:\tlearn: 0.1326027\ttotal: 436ms\tremaining: 537ms\n",
      "448:\tlearn: 0.1324799\ttotal: 436ms\tremaining: 535ms\n",
      "449:\tlearn: 0.1321852\ttotal: 437ms\tremaining: 534ms\n",
      "450:\tlearn: 0.1319965\ttotal: 438ms\tremaining: 533ms\n",
      "451:\tlearn: 0.1318090\ttotal: 438ms\tremaining: 532ms\n",
      "452:\tlearn: 0.1316065\ttotal: 439ms\tremaining: 530ms\n",
      "453:\tlearn: 0.1313267\ttotal: 440ms\tremaining: 529ms\n",
      "454:\tlearn: 0.1311468\ttotal: 441ms\tremaining: 528ms\n",
      "455:\tlearn: 0.1310529\ttotal: 442ms\tremaining: 527ms\n",
      "456:\tlearn: 0.1307448\ttotal: 442ms\tremaining: 526ms\n",
      "457:\tlearn: 0.1304056\ttotal: 443ms\tremaining: 525ms\n",
      "458:\tlearn: 0.1302665\ttotal: 444ms\tremaining: 523ms\n",
      "459:\tlearn: 0.1299974\ttotal: 445ms\tremaining: 522ms\n",
      "460:\tlearn: 0.1297691\ttotal: 446ms\tremaining: 521ms\n",
      "461:\tlearn: 0.1295229\ttotal: 446ms\tremaining: 520ms\n",
      "462:\tlearn: 0.1292479\ttotal: 447ms\tremaining: 519ms\n",
      "463:\tlearn: 0.1289376\ttotal: 448ms\tremaining: 517ms\n",
      "464:\tlearn: 0.1287852\ttotal: 449ms\tremaining: 516ms\n",
      "465:\tlearn: 0.1286017\ttotal: 449ms\tremaining: 515ms\n",
      "466:\tlearn: 0.1283384\ttotal: 450ms\tremaining: 514ms\n",
      "467:\tlearn: 0.1281558\ttotal: 451ms\tremaining: 513ms\n",
      "468:\tlearn: 0.1280006\ttotal: 452ms\tremaining: 512ms\n",
      "469:\tlearn: 0.1277750\ttotal: 453ms\tremaining: 510ms\n",
      "470:\tlearn: 0.1275067\ttotal: 454ms\tremaining: 509ms\n",
      "471:\tlearn: 0.1272801\ttotal: 455ms\tremaining: 508ms\n",
      "472:\tlearn: 0.1271036\ttotal: 455ms\tremaining: 507ms\n",
      "473:\tlearn: 0.1267992\ttotal: 456ms\tremaining: 506ms\n",
      "474:\tlearn: 0.1267089\ttotal: 457ms\tremaining: 505ms\n",
      "475:\tlearn: 0.1266350\ttotal: 458ms\tremaining: 504ms\n",
      "476:\tlearn: 0.1262469\ttotal: 459ms\tremaining: 503ms\n",
      "477:\tlearn: 0.1260576\ttotal: 460ms\tremaining: 502ms\n",
      "478:\tlearn: 0.1259519\ttotal: 460ms\tremaining: 501ms\n",
      "479:\tlearn: 0.1257153\ttotal: 461ms\tremaining: 500ms\n",
      "480:\tlearn: 0.1255250\ttotal: 462ms\tremaining: 499ms\n",
      "481:\tlearn: 0.1252236\ttotal: 463ms\tremaining: 497ms\n",
      "482:\tlearn: 0.1250362\ttotal: 464ms\tremaining: 496ms\n",
      "483:\tlearn: 0.1246338\ttotal: 465ms\tremaining: 495ms\n",
      "484:\tlearn: 0.1244045\ttotal: 465ms\tremaining: 494ms\n",
      "485:\tlearn: 0.1242051\ttotal: 466ms\tremaining: 493ms\n",
      "486:\tlearn: 0.1240433\ttotal: 467ms\tremaining: 492ms\n",
      "487:\tlearn: 0.1237352\ttotal: 468ms\tremaining: 491ms\n",
      "488:\tlearn: 0.1235207\ttotal: 469ms\tremaining: 490ms\n",
      "489:\tlearn: 0.1233034\ttotal: 469ms\tremaining: 489ms\n",
      "490:\tlearn: 0.1231453\ttotal: 470ms\tremaining: 488ms\n",
      "491:\tlearn: 0.1230024\ttotal: 471ms\tremaining: 487ms\n",
      "492:\tlearn: 0.1229406\ttotal: 472ms\tremaining: 485ms\n",
      "493:\tlearn: 0.1227676\ttotal: 473ms\tremaining: 484ms\n",
      "494:\tlearn: 0.1226064\ttotal: 474ms\tremaining: 483ms\n",
      "495:\tlearn: 0.1224270\ttotal: 475ms\tremaining: 482ms\n",
      "496:\tlearn: 0.1222029\ttotal: 475ms\tremaining: 481ms\n",
      "497:\tlearn: 0.1220860\ttotal: 476ms\tremaining: 480ms\n",
      "498:\tlearn: 0.1218998\ttotal: 477ms\tremaining: 479ms\n",
      "499:\tlearn: 0.1217941\ttotal: 478ms\tremaining: 478ms\n",
      "500:\tlearn: 0.1215750\ttotal: 478ms\tremaining: 477ms\n",
      "501:\tlearn: 0.1213368\ttotal: 479ms\tremaining: 476ms\n",
      "502:\tlearn: 0.1210756\ttotal: 480ms\tremaining: 474ms\n",
      "503:\tlearn: 0.1209346\ttotal: 481ms\tremaining: 473ms\n",
      "504:\tlearn: 0.1207059\ttotal: 482ms\tremaining: 472ms\n",
      "505:\tlearn: 0.1203552\ttotal: 482ms\tremaining: 471ms\n",
      "506:\tlearn: 0.1201807\ttotal: 483ms\tremaining: 470ms\n",
      "507:\tlearn: 0.1200049\ttotal: 484ms\tremaining: 469ms\n",
      "508:\tlearn: 0.1197998\ttotal: 485ms\tremaining: 468ms\n",
      "509:\tlearn: 0.1195101\ttotal: 486ms\tremaining: 467ms\n",
      "510:\tlearn: 0.1192733\ttotal: 486ms\tremaining: 466ms\n",
      "511:\tlearn: 0.1190736\ttotal: 487ms\tremaining: 464ms\n"
     ]
    },
    {
     "name": "stdout",
     "output_type": "stream",
     "text": [
      "512:\tlearn: 0.1188350\ttotal: 488ms\tremaining: 464ms\n",
      "513:\tlearn: 0.1187199\ttotal: 489ms\tremaining: 462ms\n",
      "514:\tlearn: 0.1184337\ttotal: 490ms\tremaining: 461ms\n",
      "515:\tlearn: 0.1182303\ttotal: 491ms\tremaining: 460ms\n",
      "516:\tlearn: 0.1181784\ttotal: 491ms\tremaining: 459ms\n",
      "517:\tlearn: 0.1179465\ttotal: 492ms\tremaining: 458ms\n",
      "518:\tlearn: 0.1176075\ttotal: 493ms\tremaining: 457ms\n",
      "519:\tlearn: 0.1174521\ttotal: 494ms\tremaining: 456ms\n",
      "520:\tlearn: 0.1172963\ttotal: 495ms\tremaining: 455ms\n",
      "521:\tlearn: 0.1170183\ttotal: 496ms\tremaining: 454ms\n",
      "522:\tlearn: 0.1169181\ttotal: 497ms\tremaining: 453ms\n",
      "523:\tlearn: 0.1167530\ttotal: 498ms\tremaining: 452ms\n",
      "524:\tlearn: 0.1165718\ttotal: 499ms\tremaining: 451ms\n",
      "525:\tlearn: 0.1163203\ttotal: 500ms\tremaining: 450ms\n",
      "526:\tlearn: 0.1161741\ttotal: 501ms\tremaining: 449ms\n",
      "527:\tlearn: 0.1161235\ttotal: 501ms\tremaining: 448ms\n",
      "528:\tlearn: 0.1160479\ttotal: 502ms\tremaining: 447ms\n",
      "529:\tlearn: 0.1158538\ttotal: 503ms\tremaining: 446ms\n",
      "530:\tlearn: 0.1156875\ttotal: 504ms\tremaining: 445ms\n",
      "531:\tlearn: 0.1153945\ttotal: 505ms\tremaining: 444ms\n",
      "532:\tlearn: 0.1152125\ttotal: 506ms\tremaining: 443ms\n",
      "533:\tlearn: 0.1150772\ttotal: 506ms\tremaining: 442ms\n",
      "534:\tlearn: 0.1149040\ttotal: 507ms\tremaining: 441ms\n",
      "535:\tlearn: 0.1148804\ttotal: 508ms\tremaining: 440ms\n",
      "536:\tlearn: 0.1147331\ttotal: 509ms\tremaining: 439ms\n",
      "537:\tlearn: 0.1144924\ttotal: 510ms\tremaining: 438ms\n",
      "538:\tlearn: 0.1143325\ttotal: 511ms\tremaining: 437ms\n",
      "539:\tlearn: 0.1142048\ttotal: 511ms\tremaining: 436ms\n",
      "540:\tlearn: 0.1139873\ttotal: 512ms\tremaining: 434ms\n",
      "541:\tlearn: 0.1137893\ttotal: 513ms\tremaining: 433ms\n",
      "542:\tlearn: 0.1135215\ttotal: 514ms\tremaining: 432ms\n",
      "543:\tlearn: 0.1134802\ttotal: 515ms\tremaining: 431ms\n",
      "544:\tlearn: 0.1134006\ttotal: 515ms\tremaining: 430ms\n",
      "545:\tlearn: 0.1132405\ttotal: 516ms\tremaining: 429ms\n",
      "546:\tlearn: 0.1130617\ttotal: 517ms\tremaining: 428ms\n",
      "547:\tlearn: 0.1128432\ttotal: 518ms\tremaining: 427ms\n",
      "548:\tlearn: 0.1126058\ttotal: 519ms\tremaining: 426ms\n",
      "549:\tlearn: 0.1124091\ttotal: 520ms\tremaining: 425ms\n",
      "550:\tlearn: 0.1122541\ttotal: 520ms\tremaining: 424ms\n",
      "551:\tlearn: 0.1120444\ttotal: 521ms\tremaining: 423ms\n",
      "552:\tlearn: 0.1118678\ttotal: 522ms\tremaining: 422ms\n",
      "553:\tlearn: 0.1116559\ttotal: 523ms\tremaining: 421ms\n",
      "554:\tlearn: 0.1115516\ttotal: 523ms\tremaining: 420ms\n",
      "555:\tlearn: 0.1112820\ttotal: 524ms\tremaining: 419ms\n",
      "556:\tlearn: 0.1112253\ttotal: 525ms\tremaining: 418ms\n",
      "557:\tlearn: 0.1110658\ttotal: 526ms\tremaining: 417ms\n",
      "558:\tlearn: 0.1108957\ttotal: 527ms\tremaining: 415ms\n",
      "559:\tlearn: 0.1108082\ttotal: 527ms\tremaining: 414ms\n",
      "560:\tlearn: 0.1105220\ttotal: 528ms\tremaining: 413ms\n",
      "561:\tlearn: 0.1103548\ttotal: 529ms\tremaining: 412ms\n",
      "562:\tlearn: 0.1100917\ttotal: 530ms\tremaining: 411ms\n",
      "563:\tlearn: 0.1099828\ttotal: 531ms\tremaining: 410ms\n",
      "564:\tlearn: 0.1098194\ttotal: 531ms\tremaining: 409ms\n",
      "565:\tlearn: 0.1096752\ttotal: 532ms\tremaining: 408ms\n",
      "566:\tlearn: 0.1094784\ttotal: 533ms\tremaining: 407ms\n",
      "567:\tlearn: 0.1093567\ttotal: 534ms\tremaining: 406ms\n",
      "568:\tlearn: 0.1092330\ttotal: 535ms\tremaining: 405ms\n",
      "569:\tlearn: 0.1090135\ttotal: 536ms\tremaining: 404ms\n",
      "570:\tlearn: 0.1089054\ttotal: 536ms\tremaining: 403ms\n",
      "571:\tlearn: 0.1087046\ttotal: 537ms\tremaining: 402ms\n",
      "572:\tlearn: 0.1085188\ttotal: 538ms\tremaining: 401ms\n",
      "573:\tlearn: 0.1083043\ttotal: 539ms\tremaining: 400ms\n",
      "574:\tlearn: 0.1081394\ttotal: 540ms\tremaining: 399ms\n",
      "575:\tlearn: 0.1078474\ttotal: 540ms\tremaining: 398ms\n",
      "576:\tlearn: 0.1076794\ttotal: 541ms\tremaining: 397ms\n",
      "577:\tlearn: 0.1075796\ttotal: 542ms\tremaining: 396ms\n",
      "578:\tlearn: 0.1073014\ttotal: 543ms\tremaining: 395ms\n",
      "579:\tlearn: 0.1071923\ttotal: 544ms\tremaining: 394ms\n",
      "580:\tlearn: 0.1070212\ttotal: 544ms\tremaining: 393ms\n",
      "581:\tlearn: 0.1068913\ttotal: 545ms\tremaining: 392ms\n",
      "582:\tlearn: 0.1067851\ttotal: 546ms\tremaining: 391ms\n",
      "583:\tlearn: 0.1066340\ttotal: 547ms\tremaining: 390ms\n",
      "584:\tlearn: 0.1065025\ttotal: 548ms\tremaining: 389ms\n",
      "585:\tlearn: 0.1063837\ttotal: 549ms\tremaining: 388ms\n",
      "586:\tlearn: 0.1061961\ttotal: 549ms\tremaining: 386ms\n",
      "587:\tlearn: 0.1060295\ttotal: 550ms\tremaining: 385ms\n",
      "588:\tlearn: 0.1058475\ttotal: 551ms\tremaining: 384ms\n",
      "589:\tlearn: 0.1058202\ttotal: 552ms\tremaining: 383ms\n",
      "590:\tlearn: 0.1056244\ttotal: 552ms\tremaining: 382ms\n",
      "591:\tlearn: 0.1054273\ttotal: 553ms\tremaining: 381ms\n",
      "592:\tlearn: 0.1053703\ttotal: 554ms\tremaining: 380ms\n",
      "593:\tlearn: 0.1051999\ttotal: 555ms\tremaining: 379ms\n",
      "594:\tlearn: 0.1050610\ttotal: 556ms\tremaining: 378ms\n",
      "595:\tlearn: 0.1049263\ttotal: 557ms\tremaining: 377ms\n",
      "596:\tlearn: 0.1046905\ttotal: 557ms\tremaining: 376ms\n",
      "597:\tlearn: 0.1045169\ttotal: 558ms\tremaining: 375ms\n",
      "598:\tlearn: 0.1044639\ttotal: 559ms\tremaining: 374ms\n",
      "599:\tlearn: 0.1042944\ttotal: 560ms\tremaining: 373ms\n",
      "600:\tlearn: 0.1040655\ttotal: 561ms\tremaining: 372ms\n",
      "601:\tlearn: 0.1038849\ttotal: 561ms\tremaining: 371ms\n",
      "602:\tlearn: 0.1037105\ttotal: 562ms\tremaining: 370ms\n",
      "603:\tlearn: 0.1035754\ttotal: 563ms\tremaining: 369ms\n",
      "604:\tlearn: 0.1033667\ttotal: 564ms\tremaining: 368ms\n",
      "605:\tlearn: 0.1032941\ttotal: 564ms\tremaining: 367ms\n",
      "606:\tlearn: 0.1030749\ttotal: 565ms\tremaining: 366ms\n",
      "607:\tlearn: 0.1030271\ttotal: 566ms\tremaining: 365ms\n",
      "608:\tlearn: 0.1029058\ttotal: 567ms\tremaining: 364ms\n",
      "609:\tlearn: 0.1027135\ttotal: 568ms\tremaining: 363ms\n",
      "610:\tlearn: 0.1025498\ttotal: 568ms\tremaining: 362ms\n",
      "611:\tlearn: 0.1024287\ttotal: 569ms\tremaining: 361ms\n",
      "612:\tlearn: 0.1023841\ttotal: 570ms\tremaining: 360ms\n",
      "613:\tlearn: 0.1021494\ttotal: 571ms\tremaining: 359ms\n",
      "614:\tlearn: 0.1019984\ttotal: 572ms\tremaining: 358ms\n"
     ]
    },
    {
     "name": "stdout",
     "output_type": "stream",
     "text": [
      "615:\tlearn: 0.1018305\ttotal: 573ms\tremaining: 357ms\n",
      "616:\tlearn: 0.1017126\ttotal: 573ms\tremaining: 356ms\n",
      "617:\tlearn: 0.1015683\ttotal: 574ms\tremaining: 355ms\n",
      "618:\tlearn: 0.1014480\ttotal: 575ms\tremaining: 354ms\n",
      "619:\tlearn: 0.1013346\ttotal: 576ms\tremaining: 353ms\n",
      "620:\tlearn: 0.1010508\ttotal: 577ms\tremaining: 352ms\n",
      "621:\tlearn: 0.1007387\ttotal: 578ms\tremaining: 351ms\n",
      "622:\tlearn: 0.1004748\ttotal: 579ms\tremaining: 350ms\n",
      "623:\tlearn: 0.1003020\ttotal: 579ms\tremaining: 349ms\n",
      "624:\tlearn: 0.1002770\ttotal: 580ms\tremaining: 348ms\n",
      "625:\tlearn: 0.1000873\ttotal: 581ms\tremaining: 347ms\n",
      "626:\tlearn: 0.0999569\ttotal: 582ms\tremaining: 346ms\n",
      "627:\tlearn: 0.0997830\ttotal: 583ms\tremaining: 345ms\n",
      "628:\tlearn: 0.0996818\ttotal: 584ms\tremaining: 344ms\n",
      "629:\tlearn: 0.0994222\ttotal: 585ms\tremaining: 343ms\n",
      "630:\tlearn: 0.0991867\ttotal: 586ms\tremaining: 342ms\n",
      "631:\tlearn: 0.0991204\ttotal: 586ms\tremaining: 341ms\n",
      "632:\tlearn: 0.0989360\ttotal: 588ms\tremaining: 341ms\n",
      "633:\tlearn: 0.0988160\ttotal: 589ms\tremaining: 340ms\n",
      "634:\tlearn: 0.0987963\ttotal: 589ms\tremaining: 339ms\n",
      "635:\tlearn: 0.0986772\ttotal: 590ms\tremaining: 338ms\n",
      "636:\tlearn: 0.0984921\ttotal: 591ms\tremaining: 337ms\n",
      "637:\tlearn: 0.0983235\ttotal: 592ms\tremaining: 336ms\n",
      "638:\tlearn: 0.0982518\ttotal: 593ms\tremaining: 335ms\n",
      "639:\tlearn: 0.0982223\ttotal: 593ms\tremaining: 334ms\n",
      "640:\tlearn: 0.0981176\ttotal: 594ms\tremaining: 333ms\n",
      "641:\tlearn: 0.0979397\ttotal: 595ms\tremaining: 332ms\n",
      "642:\tlearn: 0.0978351\ttotal: 596ms\tremaining: 331ms\n",
      "643:\tlearn: 0.0977122\ttotal: 597ms\tremaining: 330ms\n",
      "644:\tlearn: 0.0975191\ttotal: 598ms\tremaining: 329ms\n",
      "645:\tlearn: 0.0973634\ttotal: 598ms\tremaining: 328ms\n",
      "646:\tlearn: 0.0971687\ttotal: 599ms\tremaining: 327ms\n",
      "647:\tlearn: 0.0969500\ttotal: 600ms\tremaining: 326ms\n",
      "648:\tlearn: 0.0969192\ttotal: 601ms\tremaining: 325ms\n",
      "649:\tlearn: 0.0967132\ttotal: 602ms\tremaining: 324ms\n",
      "650:\tlearn: 0.0965541\ttotal: 603ms\tremaining: 323ms\n",
      "651:\tlearn: 0.0963545\ttotal: 604ms\tremaining: 322ms\n",
      "652:\tlearn: 0.0962245\ttotal: 605ms\tremaining: 321ms\n",
      "653:\tlearn: 0.0961141\ttotal: 605ms\tremaining: 320ms\n",
      "654:\tlearn: 0.0959469\ttotal: 606ms\tremaining: 319ms\n",
      "655:\tlearn: 0.0957063\ttotal: 607ms\tremaining: 318ms\n",
      "656:\tlearn: 0.0956624\ttotal: 608ms\tremaining: 317ms\n",
      "657:\tlearn: 0.0956025\ttotal: 609ms\tremaining: 316ms\n",
      "658:\tlearn: 0.0954283\ttotal: 610ms\tremaining: 315ms\n",
      "659:\tlearn: 0.0952267\ttotal: 610ms\tremaining: 314ms\n",
      "660:\tlearn: 0.0950642\ttotal: 611ms\tremaining: 314ms\n",
      "661:\tlearn: 0.0949423\ttotal: 612ms\tremaining: 313ms\n",
      "662:\tlearn: 0.0947784\ttotal: 613ms\tremaining: 312ms\n",
      "663:\tlearn: 0.0946337\ttotal: 614ms\tremaining: 311ms\n",
      "664:\tlearn: 0.0944414\ttotal: 615ms\tremaining: 310ms\n",
      "665:\tlearn: 0.0943451\ttotal: 615ms\tremaining: 309ms\n",
      "666:\tlearn: 0.0941774\ttotal: 616ms\tremaining: 308ms\n",
      "667:\tlearn: 0.0939297\ttotal: 617ms\tremaining: 307ms\n",
      "668:\tlearn: 0.0939017\ttotal: 618ms\tremaining: 306ms\n",
      "669:\tlearn: 0.0937958\ttotal: 619ms\tremaining: 305ms\n",
      "670:\tlearn: 0.0937027\ttotal: 620ms\tremaining: 304ms\n",
      "671:\tlearn: 0.0934754\ttotal: 621ms\tremaining: 303ms\n",
      "672:\tlearn: 0.0934478\ttotal: 622ms\tremaining: 302ms\n",
      "673:\tlearn: 0.0933292\ttotal: 623ms\tremaining: 301ms\n",
      "674:\tlearn: 0.0931578\ttotal: 624ms\tremaining: 300ms\n",
      "675:\tlearn: 0.0929546\ttotal: 624ms\tremaining: 299ms\n",
      "676:\tlearn: 0.0929265\ttotal: 625ms\tremaining: 298ms\n",
      "677:\tlearn: 0.0926747\ttotal: 626ms\tremaining: 297ms\n",
      "678:\tlearn: 0.0926130\ttotal: 627ms\tremaining: 296ms\n",
      "679:\tlearn: 0.0923705\ttotal: 628ms\tremaining: 295ms\n",
      "680:\tlearn: 0.0922622\ttotal: 629ms\tremaining: 294ms\n",
      "681:\tlearn: 0.0922356\ttotal: 629ms\tremaining: 294ms\n",
      "682:\tlearn: 0.0920457\ttotal: 630ms\tremaining: 293ms\n",
      "683:\tlearn: 0.0919300\ttotal: 631ms\tremaining: 292ms\n",
      "684:\tlearn: 0.0917752\ttotal: 632ms\tremaining: 291ms\n",
      "685:\tlearn: 0.0916991\ttotal: 633ms\tremaining: 290ms\n",
      "686:\tlearn: 0.0915251\ttotal: 634ms\tremaining: 289ms\n",
      "687:\tlearn: 0.0914836\ttotal: 635ms\tremaining: 288ms\n",
      "688:\tlearn: 0.0914561\ttotal: 635ms\tremaining: 287ms\n",
      "689:\tlearn: 0.0913325\ttotal: 636ms\tremaining: 286ms\n",
      "690:\tlearn: 0.0910858\ttotal: 637ms\tremaining: 285ms\n",
      "691:\tlearn: 0.0908650\ttotal: 638ms\tremaining: 284ms\n",
      "692:\tlearn: 0.0906972\ttotal: 639ms\tremaining: 283ms\n",
      "693:\tlearn: 0.0905791\ttotal: 639ms\tremaining: 282ms\n",
      "694:\tlearn: 0.0903779\ttotal: 640ms\tremaining: 281ms\n",
      "695:\tlearn: 0.0902254\ttotal: 641ms\tremaining: 280ms\n",
      "696:\tlearn: 0.0900127\ttotal: 642ms\tremaining: 279ms\n",
      "697:\tlearn: 0.0899948\ttotal: 642ms\tremaining: 278ms\n",
      "698:\tlearn: 0.0898903\ttotal: 643ms\tremaining: 277ms\n",
      "699:\tlearn: 0.0897954\ttotal: 644ms\tremaining: 276ms\n",
      "700:\tlearn: 0.0895464\ttotal: 645ms\tremaining: 275ms\n",
      "701:\tlearn: 0.0895322\ttotal: 645ms\tremaining: 274ms\n",
      "702:\tlearn: 0.0893355\ttotal: 646ms\tremaining: 273ms\n",
      "703:\tlearn: 0.0892547\ttotal: 647ms\tremaining: 272ms\n",
      "704:\tlearn: 0.0892358\ttotal: 648ms\tremaining: 271ms\n",
      "705:\tlearn: 0.0891072\ttotal: 649ms\tremaining: 270ms\n",
      "706:\tlearn: 0.0889603\ttotal: 650ms\tremaining: 269ms\n",
      "707:\tlearn: 0.0888433\ttotal: 650ms\tremaining: 268ms\n",
      "708:\tlearn: 0.0886853\ttotal: 651ms\tremaining: 267ms\n",
      "709:\tlearn: 0.0884834\ttotal: 652ms\tremaining: 266ms\n",
      "710:\tlearn: 0.0883454\ttotal: 653ms\tremaining: 265ms\n",
      "711:\tlearn: 0.0882647\ttotal: 653ms\tremaining: 264ms\n",
      "712:\tlearn: 0.0881471\ttotal: 654ms\tremaining: 263ms\n",
      "713:\tlearn: 0.0880955\ttotal: 655ms\tremaining: 262ms\n",
      "714:\tlearn: 0.0879164\ttotal: 656ms\tremaining: 261ms\n",
      "715:\tlearn: 0.0878385\ttotal: 657ms\tremaining: 261ms\n",
      "716:\tlearn: 0.0877189\ttotal: 658ms\tremaining: 260ms\n",
      "717:\tlearn: 0.0875255\ttotal: 659ms\tremaining: 259ms\n",
      "718:\tlearn: 0.0874270\ttotal: 659ms\tremaining: 258ms\n",
      "719:\tlearn: 0.0873862\ttotal: 660ms\tremaining: 257ms\n",
      "720:\tlearn: 0.0873633\ttotal: 661ms\tremaining: 256ms\n",
      "721:\tlearn: 0.0872718\ttotal: 662ms\tremaining: 255ms\n",
      "722:\tlearn: 0.0871464\ttotal: 663ms\tremaining: 254ms\n",
      "723:\tlearn: 0.0870556\ttotal: 663ms\tremaining: 253ms\n",
      "724:\tlearn: 0.0868583\ttotal: 664ms\tremaining: 252ms\n",
      "725:\tlearn: 0.0868451\ttotal: 665ms\tremaining: 251ms\n",
      "726:\tlearn: 0.0867864\ttotal: 666ms\tremaining: 250ms\n",
      "727:\tlearn: 0.0867587\ttotal: 667ms\tremaining: 249ms\n",
      "728:\tlearn: 0.0865882\ttotal: 667ms\tremaining: 248ms\n",
      "729:\tlearn: 0.0865780\ttotal: 668ms\tremaining: 247ms\n",
      "730:\tlearn: 0.0864535\ttotal: 669ms\tremaining: 246ms\n",
      "731:\tlearn: 0.0863939\ttotal: 670ms\tremaining: 245ms\n",
      "732:\tlearn: 0.0862616\ttotal: 671ms\tremaining: 244ms\n",
      "733:\tlearn: 0.0862493\ttotal: 672ms\tremaining: 243ms\n",
      "734:\tlearn: 0.0862339\ttotal: 672ms\tremaining: 242ms\n",
      "735:\tlearn: 0.0861229\ttotal: 673ms\tremaining: 241ms\n",
      "736:\tlearn: 0.0860275\ttotal: 674ms\tremaining: 240ms\n",
      "737:\tlearn: 0.0860119\ttotal: 675ms\tremaining: 239ms\n",
      "738:\tlearn: 0.0859665\ttotal: 675ms\tremaining: 239ms\n",
      "739:\tlearn: 0.0858322\ttotal: 676ms\tremaining: 238ms\n",
      "740:\tlearn: 0.0858203\ttotal: 677ms\tremaining: 237ms\n",
      "741:\tlearn: 0.0857824\ttotal: 678ms\tremaining: 236ms\n"
     ]
    },
    {
     "name": "stdout",
     "output_type": "stream",
     "text": [
      "742:\tlearn: 0.0857314\ttotal: 679ms\tremaining: 235ms\n",
      "743:\tlearn: 0.0857204\ttotal: 680ms\tremaining: 234ms\n",
      "744:\tlearn: 0.0855777\ttotal: 680ms\tremaining: 233ms\n",
      "745:\tlearn: 0.0855095\ttotal: 681ms\tremaining: 232ms\n",
      "746:\tlearn: 0.0854060\ttotal: 682ms\tremaining: 231ms\n",
      "747:\tlearn: 0.0852403\ttotal: 683ms\tremaining: 230ms\n",
      "748:\tlearn: 0.0851511\ttotal: 684ms\tremaining: 229ms\n",
      "749:\tlearn: 0.0849089\ttotal: 684ms\tremaining: 228ms\n",
      "750:\tlearn: 0.0848206\ttotal: 685ms\tremaining: 227ms\n",
      "751:\tlearn: 0.0846594\ttotal: 686ms\tremaining: 226ms\n",
      "752:\tlearn: 0.0845265\ttotal: 687ms\tremaining: 225ms\n",
      "753:\tlearn: 0.0845144\ttotal: 688ms\tremaining: 224ms\n",
      "754:\tlearn: 0.0844972\ttotal: 689ms\tremaining: 224ms\n",
      "755:\tlearn: 0.0843769\ttotal: 690ms\tremaining: 223ms\n",
      "756:\tlearn: 0.0841620\ttotal: 691ms\tremaining: 222ms\n",
      "757:\tlearn: 0.0840755\ttotal: 692ms\tremaining: 221ms\n",
      "758:\tlearn: 0.0839380\ttotal: 692ms\tremaining: 220ms\n",
      "759:\tlearn: 0.0838068\ttotal: 693ms\tremaining: 219ms\n",
      "760:\tlearn: 0.0837092\ttotal: 694ms\tremaining: 218ms\n",
      "761:\tlearn: 0.0834477\ttotal: 695ms\tremaining: 217ms\n",
      "762:\tlearn: 0.0833324\ttotal: 696ms\tremaining: 216ms\n",
      "763:\tlearn: 0.0832234\ttotal: 697ms\tremaining: 215ms\n",
      "764:\tlearn: 0.0830544\ttotal: 698ms\tremaining: 214ms\n",
      "765:\tlearn: 0.0830448\ttotal: 699ms\tremaining: 213ms\n",
      "766:\tlearn: 0.0828616\ttotal: 699ms\tremaining: 212ms\n",
      "767:\tlearn: 0.0827750\ttotal: 700ms\tremaining: 212ms\n",
      "768:\tlearn: 0.0827219\ttotal: 701ms\tremaining: 211ms\n",
      "769:\tlearn: 0.0826994\ttotal: 702ms\tremaining: 210ms\n",
      "770:\tlearn: 0.0825997\ttotal: 703ms\tremaining: 209ms\n",
      "771:\tlearn: 0.0825900\ttotal: 703ms\tremaining: 208ms\n",
      "772:\tlearn: 0.0825813\ttotal: 704ms\tremaining: 207ms\n",
      "773:\tlearn: 0.0824706\ttotal: 705ms\tremaining: 206ms\n",
      "774:\tlearn: 0.0823801\ttotal: 706ms\tremaining: 205ms\n",
      "775:\tlearn: 0.0822536\ttotal: 707ms\tremaining: 204ms\n",
      "776:\tlearn: 0.0821691\ttotal: 708ms\tremaining: 203ms\n",
      "777:\tlearn: 0.0820766\ttotal: 709ms\tremaining: 202ms\n",
      "778:\tlearn: 0.0820581\ttotal: 709ms\tremaining: 201ms\n",
      "779:\tlearn: 0.0819579\ttotal: 710ms\tremaining: 200ms\n",
      "780:\tlearn: 0.0818986\ttotal: 711ms\tremaining: 199ms\n",
      "781:\tlearn: 0.0817877\ttotal: 712ms\tremaining: 198ms\n",
      "782:\tlearn: 0.0816570\ttotal: 713ms\tremaining: 197ms\n",
      "783:\tlearn: 0.0815616\ttotal: 713ms\tremaining: 197ms\n",
      "784:\tlearn: 0.0815533\ttotal: 714ms\tremaining: 196ms\n",
      "785:\tlearn: 0.0813510\ttotal: 715ms\tremaining: 195ms\n",
      "786:\tlearn: 0.0811794\ttotal: 716ms\tremaining: 194ms\n",
      "787:\tlearn: 0.0810437\ttotal: 717ms\tremaining: 193ms\n",
      "788:\tlearn: 0.0810342\ttotal: 718ms\tremaining: 192ms\n",
      "789:\tlearn: 0.0808564\ttotal: 718ms\tremaining: 191ms\n",
      "790:\tlearn: 0.0808460\ttotal: 719ms\tremaining: 190ms\n",
      "791:\tlearn: 0.0806671\ttotal: 720ms\tremaining: 189ms\n",
      "792:\tlearn: 0.0805377\ttotal: 721ms\tremaining: 188ms\n",
      "793:\tlearn: 0.0803960\ttotal: 722ms\tremaining: 187ms\n",
      "794:\tlearn: 0.0803781\ttotal: 722ms\tremaining: 186ms\n",
      "795:\tlearn: 0.0801986\ttotal: 723ms\tremaining: 185ms\n",
      "796:\tlearn: 0.0800800\ttotal: 724ms\tremaining: 184ms\n",
      "797:\tlearn: 0.0799724\ttotal: 725ms\tremaining: 184ms\n",
      "798:\tlearn: 0.0798599\ttotal: 726ms\tremaining: 183ms\n",
      "799:\tlearn: 0.0797526\ttotal: 727ms\tremaining: 182ms\n",
      "800:\tlearn: 0.0797412\ttotal: 728ms\tremaining: 181ms\n",
      "801:\tlearn: 0.0795452\ttotal: 728ms\tremaining: 180ms\n",
      "802:\tlearn: 0.0793980\ttotal: 729ms\tremaining: 179ms\n",
      "803:\tlearn: 0.0792911\ttotal: 730ms\tremaining: 178ms\n",
      "804:\tlearn: 0.0791762\ttotal: 731ms\tremaining: 177ms\n",
      "805:\tlearn: 0.0791686\ttotal: 732ms\tremaining: 176ms\n",
      "806:\tlearn: 0.0790551\ttotal: 732ms\tremaining: 175ms\n",
      "807:\tlearn: 0.0788650\ttotal: 733ms\tremaining: 174ms\n",
      "808:\tlearn: 0.0786591\ttotal: 734ms\tremaining: 173ms\n",
      "809:\tlearn: 0.0785374\ttotal: 735ms\tremaining: 172ms\n",
      "810:\tlearn: 0.0784044\ttotal: 736ms\tremaining: 171ms\n",
      "811:\tlearn: 0.0782401\ttotal: 736ms\tremaining: 171ms\n",
      "812:\tlearn: 0.0780730\ttotal: 737ms\tremaining: 170ms\n",
      "813:\tlearn: 0.0779440\ttotal: 738ms\tremaining: 169ms\n",
      "814:\tlearn: 0.0778180\ttotal: 739ms\tremaining: 168ms\n",
      "815:\tlearn: 0.0777750\ttotal: 740ms\tremaining: 167ms\n",
      "816:\tlearn: 0.0776355\ttotal: 741ms\tremaining: 166ms\n",
      "817:\tlearn: 0.0774633\ttotal: 741ms\tremaining: 165ms\n",
      "818:\tlearn: 0.0773447\ttotal: 742ms\tremaining: 164ms\n",
      "819:\tlearn: 0.0772236\ttotal: 743ms\tremaining: 163ms\n",
      "820:\tlearn: 0.0770927\ttotal: 744ms\tremaining: 162ms\n",
      "821:\tlearn: 0.0770840\ttotal: 745ms\tremaining: 161ms\n",
      "822:\tlearn: 0.0769285\ttotal: 746ms\tremaining: 160ms\n",
      "823:\tlearn: 0.0768286\ttotal: 746ms\tremaining: 159ms\n",
      "824:\tlearn: 0.0767610\ttotal: 747ms\tremaining: 158ms\n",
      "825:\tlearn: 0.0767119\ttotal: 748ms\tremaining: 158ms\n",
      "826:\tlearn: 0.0766149\ttotal: 749ms\tremaining: 157ms\n",
      "827:\tlearn: 0.0765658\ttotal: 750ms\tremaining: 156ms\n",
      "828:\tlearn: 0.0765393\ttotal: 750ms\tremaining: 155ms\n",
      "829:\tlearn: 0.0764271\ttotal: 751ms\tremaining: 154ms\n",
      "830:\tlearn: 0.0763585\ttotal: 752ms\tremaining: 153ms\n",
      "831:\tlearn: 0.0762418\ttotal: 753ms\tremaining: 152ms\n",
      "832:\tlearn: 0.0761843\ttotal: 754ms\tremaining: 151ms\n",
      "833:\tlearn: 0.0761574\ttotal: 754ms\tremaining: 150ms\n",
      "834:\tlearn: 0.0760174\ttotal: 755ms\tremaining: 149ms\n",
      "835:\tlearn: 0.0759438\ttotal: 756ms\tremaining: 148ms\n",
      "836:\tlearn: 0.0757894\ttotal: 757ms\tremaining: 147ms\n",
      "837:\tlearn: 0.0756867\ttotal: 758ms\tremaining: 146ms\n",
      "838:\tlearn: 0.0756267\ttotal: 759ms\tremaining: 146ms\n",
      "839:\tlearn: 0.0754646\ttotal: 759ms\tremaining: 145ms\n",
      "840:\tlearn: 0.0754568\ttotal: 760ms\tremaining: 144ms\n",
      "841:\tlearn: 0.0754175\ttotal: 761ms\tremaining: 143ms\n",
      "842:\tlearn: 0.0752950\ttotal: 762ms\tremaining: 142ms\n",
      "843:\tlearn: 0.0752533\ttotal: 762ms\tremaining: 141ms\n"
     ]
    },
    {
     "name": "stdout",
     "output_type": "stream",
     "text": [
      "844:\tlearn: 0.0751148\ttotal: 763ms\tremaining: 140ms\n",
      "845:\tlearn: 0.0750238\ttotal: 764ms\tremaining: 139ms\n",
      "846:\tlearn: 0.0749054\ttotal: 765ms\tremaining: 138ms\n",
      "847:\tlearn: 0.0748039\ttotal: 766ms\tremaining: 137ms\n",
      "848:\tlearn: 0.0747178\ttotal: 767ms\tremaining: 136ms\n",
      "849:\tlearn: 0.0745768\ttotal: 767ms\tremaining: 135ms\n",
      "850:\tlearn: 0.0744379\ttotal: 768ms\tremaining: 134ms\n",
      "851:\tlearn: 0.0743176\ttotal: 769ms\tremaining: 134ms\n",
      "852:\tlearn: 0.0741889\ttotal: 770ms\tremaining: 133ms\n",
      "853:\tlearn: 0.0740918\ttotal: 771ms\tremaining: 132ms\n",
      "854:\tlearn: 0.0740006\ttotal: 771ms\tremaining: 131ms\n",
      "855:\tlearn: 0.0739095\ttotal: 772ms\tremaining: 130ms\n",
      "856:\tlearn: 0.0738105\ttotal: 773ms\tremaining: 129ms\n",
      "857:\tlearn: 0.0737718\ttotal: 774ms\tremaining: 128ms\n",
      "858:\tlearn: 0.0736156\ttotal: 774ms\tremaining: 127ms\n",
      "859:\tlearn: 0.0734784\ttotal: 775ms\tremaining: 126ms\n",
      "860:\tlearn: 0.0733740\ttotal: 776ms\tremaining: 125ms\n",
      "861:\tlearn: 0.0733371\ttotal: 777ms\tremaining: 124ms\n",
      "862:\tlearn: 0.0731411\ttotal: 778ms\tremaining: 123ms\n",
      "863:\tlearn: 0.0729449\ttotal: 778ms\tremaining: 123ms\n",
      "864:\tlearn: 0.0727993\ttotal: 779ms\tremaining: 122ms\n",
      "865:\tlearn: 0.0726706\ttotal: 780ms\tremaining: 121ms\n",
      "866:\tlearn: 0.0726031\ttotal: 781ms\tremaining: 120ms\n",
      "867:\tlearn: 0.0724584\ttotal: 782ms\tremaining: 119ms\n",
      "868:\tlearn: 0.0723071\ttotal: 783ms\tremaining: 118ms\n",
      "869:\tlearn: 0.0722155\ttotal: 783ms\tremaining: 117ms\n",
      "870:\tlearn: 0.0720952\ttotal: 784ms\tremaining: 116ms\n",
      "871:\tlearn: 0.0720615\ttotal: 785ms\tremaining: 115ms\n",
      "872:\tlearn: 0.0719431\ttotal: 786ms\tremaining: 114ms\n",
      "873:\tlearn: 0.0719027\ttotal: 787ms\tremaining: 113ms\n",
      "874:\tlearn: 0.0718282\ttotal: 787ms\tremaining: 112ms\n",
      "875:\tlearn: 0.0717021\ttotal: 788ms\tremaining: 112ms\n",
      "876:\tlearn: 0.0716032\ttotal: 789ms\tremaining: 111ms\n",
      "877:\tlearn: 0.0714509\ttotal: 790ms\tremaining: 110ms\n",
      "878:\tlearn: 0.0713487\ttotal: 791ms\tremaining: 109ms\n",
      "879:\tlearn: 0.0713246\ttotal: 792ms\tremaining: 108ms\n",
      "880:\tlearn: 0.0711938\ttotal: 793ms\tremaining: 107ms\n",
      "881:\tlearn: 0.0711244\ttotal: 793ms\tremaining: 106ms\n",
      "882:\tlearn: 0.0709948\ttotal: 794ms\tremaining: 105ms\n",
      "883:\tlearn: 0.0708184\ttotal: 795ms\tremaining: 104ms\n",
      "884:\tlearn: 0.0707568\ttotal: 796ms\tremaining: 103ms\n",
      "885:\tlearn: 0.0706243\ttotal: 797ms\tremaining: 102ms\n",
      "886:\tlearn: 0.0706057\ttotal: 797ms\tremaining: 102ms\n",
      "887:\tlearn: 0.0704962\ttotal: 798ms\tremaining: 101ms\n",
      "888:\tlearn: 0.0704868\ttotal: 799ms\tremaining: 99.8ms\n",
      "889:\tlearn: 0.0704779\ttotal: 800ms\tremaining: 98.9ms\n",
      "890:\tlearn: 0.0704036\ttotal: 801ms\tremaining: 98ms\n",
      "891:\tlearn: 0.0702728\ttotal: 801ms\tremaining: 97ms\n",
      "892:\tlearn: 0.0701062\ttotal: 802ms\tremaining: 96.1ms\n",
      "893:\tlearn: 0.0700691\ttotal: 803ms\tremaining: 95.2ms\n",
      "894:\tlearn: 0.0700337\ttotal: 804ms\tremaining: 94.3ms\n",
      "895:\tlearn: 0.0700089\ttotal: 805ms\tremaining: 93.4ms\n",
      "896:\tlearn: 0.0698727\ttotal: 806ms\tremaining: 92.5ms\n",
      "897:\tlearn: 0.0697167\ttotal: 807ms\tremaining: 91.6ms\n",
      "898:\tlearn: 0.0696811\ttotal: 807ms\tremaining: 90.7ms\n",
      "899:\tlearn: 0.0695302\ttotal: 808ms\tremaining: 89.8ms\n",
      "900:\tlearn: 0.0695009\ttotal: 809ms\tremaining: 88.9ms\n",
      "901:\tlearn: 0.0694841\ttotal: 810ms\tremaining: 88ms\n",
      "902:\tlearn: 0.0693474\ttotal: 811ms\tremaining: 87.1ms\n",
      "903:\tlearn: 0.0692638\ttotal: 812ms\tremaining: 86.2ms\n",
      "904:\tlearn: 0.0691387\ttotal: 813ms\tremaining: 85.3ms\n",
      "905:\tlearn: 0.0690677\ttotal: 813ms\tremaining: 84.4ms\n",
      "906:\tlearn: 0.0689114\ttotal: 814ms\tremaining: 83.5ms\n",
      "907:\tlearn: 0.0688461\ttotal: 815ms\tremaining: 82.6ms\n",
      "908:\tlearn: 0.0687203\ttotal: 816ms\tremaining: 81.7ms\n",
      "909:\tlearn: 0.0685961\ttotal: 817ms\tremaining: 80.8ms\n",
      "910:\tlearn: 0.0684607\ttotal: 817ms\tremaining: 79.9ms\n",
      "911:\tlearn: 0.0683367\ttotal: 818ms\tremaining: 79ms\n",
      "912:\tlearn: 0.0682835\ttotal: 819ms\tremaining: 78.1ms\n",
      "913:\tlearn: 0.0681840\ttotal: 820ms\tremaining: 77.2ms\n",
      "914:\tlearn: 0.0680915\ttotal: 821ms\tremaining: 76.3ms\n",
      "915:\tlearn: 0.0679762\ttotal: 822ms\tremaining: 75.4ms\n",
      "916:\tlearn: 0.0678834\ttotal: 823ms\tremaining: 74.5ms\n",
      "917:\tlearn: 0.0677240\ttotal: 823ms\tremaining: 73.6ms\n",
      "918:\tlearn: 0.0676695\ttotal: 824ms\tremaining: 72.6ms\n",
      "919:\tlearn: 0.0675579\ttotal: 825ms\tremaining: 71.7ms\n",
      "920:\tlearn: 0.0674292\ttotal: 826ms\tremaining: 70.8ms\n",
      "921:\tlearn: 0.0673239\ttotal: 826ms\tremaining: 69.9ms\n",
      "922:\tlearn: 0.0672576\ttotal: 827ms\tremaining: 69ms\n",
      "923:\tlearn: 0.0671176\ttotal: 828ms\tremaining: 68.1ms\n",
      "924:\tlearn: 0.0669845\ttotal: 829ms\tremaining: 67.2ms\n",
      "925:\tlearn: 0.0669440\ttotal: 830ms\tremaining: 66.3ms\n",
      "926:\tlearn: 0.0668551\ttotal: 831ms\tremaining: 65.4ms\n",
      "927:\tlearn: 0.0667531\ttotal: 831ms\tremaining: 64.5ms\n",
      "928:\tlearn: 0.0667091\ttotal: 832ms\tremaining: 63.6ms\n",
      "929:\tlearn: 0.0665629\ttotal: 833ms\tremaining: 62.7ms\n",
      "930:\tlearn: 0.0664691\ttotal: 834ms\tremaining: 61.8ms\n",
      "931:\tlearn: 0.0663460\ttotal: 835ms\tremaining: 60.9ms\n",
      "932:\tlearn: 0.0662345\ttotal: 836ms\tremaining: 60ms\n",
      "933:\tlearn: 0.0661754\ttotal: 837ms\tremaining: 59.1ms\n",
      "934:\tlearn: 0.0660809\ttotal: 837ms\tremaining: 58.2ms\n",
      "935:\tlearn: 0.0659419\ttotal: 838ms\tremaining: 57.3ms\n",
      "936:\tlearn: 0.0658149\ttotal: 839ms\tremaining: 56.4ms\n",
      "937:\tlearn: 0.0657492\ttotal: 840ms\tremaining: 55.5ms\n",
      "938:\tlearn: 0.0656204\ttotal: 841ms\tremaining: 54.6ms\n",
      "939:\tlearn: 0.0655268\ttotal: 841ms\tremaining: 53.7ms\n",
      "940:\tlearn: 0.0653910\ttotal: 842ms\tremaining: 52.8ms\n",
      "941:\tlearn: 0.0652993\ttotal: 843ms\tremaining: 51.9ms\n",
      "942:\tlearn: 0.0651133\ttotal: 844ms\tremaining: 51ms\n",
      "943:\tlearn: 0.0650288\ttotal: 845ms\tremaining: 50.1ms\n",
      "944:\tlearn: 0.0649613\ttotal: 845ms\tremaining: 49.2ms\n",
      "945:\tlearn: 0.0648705\ttotal: 846ms\tremaining: 48.3ms\n",
      "946:\tlearn: 0.0648115\ttotal: 847ms\tremaining: 47.4ms\n",
      "947:\tlearn: 0.0648023\ttotal: 848ms\tremaining: 46.5ms\n",
      "948:\tlearn: 0.0646766\ttotal: 849ms\tremaining: 45.6ms\n",
      "949:\tlearn: 0.0645154\ttotal: 849ms\tremaining: 44.7ms\n",
      "950:\tlearn: 0.0645066\ttotal: 850ms\tremaining: 43.8ms\n",
      "951:\tlearn: 0.0643376\ttotal: 851ms\tremaining: 42.9ms\n",
      "952:\tlearn: 0.0642213\ttotal: 852ms\tremaining: 42ms\n",
      "953:\tlearn: 0.0641116\ttotal: 853ms\tremaining: 41.1ms\n",
      "954:\tlearn: 0.0640097\ttotal: 854ms\tremaining: 40.2ms\n",
      "955:\tlearn: 0.0639755\ttotal: 855ms\tremaining: 39.3ms\n",
      "956:\tlearn: 0.0639397\ttotal: 855ms\tremaining: 38.4ms\n",
      "957:\tlearn: 0.0637923\ttotal: 856ms\tremaining: 37.5ms\n",
      "958:\tlearn: 0.0636956\ttotal: 857ms\tremaining: 36.6ms\n",
      "959:\tlearn: 0.0635919\ttotal: 858ms\tremaining: 35.7ms\n",
      "960:\tlearn: 0.0635421\ttotal: 858ms\tremaining: 34.8ms\n",
      "961:\tlearn: 0.0634179\ttotal: 859ms\tremaining: 33.9ms\n",
      "962:\tlearn: 0.0632660\ttotal: 860ms\tremaining: 33ms\n",
      "963:\tlearn: 0.0631386\ttotal: 861ms\tremaining: 32.1ms\n",
      "964:\tlearn: 0.0630764\ttotal: 862ms\tremaining: 31.3ms\n",
      "965:\tlearn: 0.0629637\ttotal: 863ms\tremaining: 30.4ms\n",
      "966:\tlearn: 0.0628532\ttotal: 864ms\tremaining: 29.5ms\n",
      "967:\tlearn: 0.0626968\ttotal: 865ms\tremaining: 28.6ms\n",
      "968:\tlearn: 0.0625358\ttotal: 866ms\tremaining: 27.7ms\n",
      "969:\tlearn: 0.0625158\ttotal: 867ms\tremaining: 26.8ms\n",
      "970:\tlearn: 0.0624375\ttotal: 867ms\tremaining: 25.9ms\n",
      "971:\tlearn: 0.0623178\ttotal: 868ms\tremaining: 25ms\n"
     ]
    },
    {
     "name": "stdout",
     "output_type": "stream",
     "text": [
      "972:\tlearn: 0.0622806\ttotal: 869ms\tremaining: 24.1ms\n",
      "973:\tlearn: 0.0621575\ttotal: 870ms\tremaining: 23.2ms\n",
      "974:\tlearn: 0.0620581\ttotal: 871ms\tremaining: 22.3ms\n",
      "975:\tlearn: 0.0619783\ttotal: 872ms\tremaining: 21.4ms\n",
      "976:\tlearn: 0.0618827\ttotal: 873ms\tremaining: 20.5ms\n",
      "977:\tlearn: 0.0617477\ttotal: 874ms\tremaining: 19.7ms\n",
      "978:\tlearn: 0.0616773\ttotal: 874ms\tremaining: 18.8ms\n",
      "979:\tlearn: 0.0616701\ttotal: 875ms\tremaining: 17.9ms\n",
      "980:\tlearn: 0.0615822\ttotal: 876ms\tremaining: 17ms\n",
      "981:\tlearn: 0.0615252\ttotal: 877ms\tremaining: 16.1ms\n",
      "982:\tlearn: 0.0614210\ttotal: 877ms\tremaining: 15.2ms\n",
      "983:\tlearn: 0.0613437\ttotal: 878ms\tremaining: 14.3ms\n",
      "984:\tlearn: 0.0613085\ttotal: 879ms\tremaining: 13.4ms\n",
      "985:\tlearn: 0.0612168\ttotal: 880ms\tremaining: 12.5ms\n",
      "986:\tlearn: 0.0611319\ttotal: 881ms\tremaining: 11.6ms\n",
      "987:\tlearn: 0.0610655\ttotal: 882ms\tremaining: 10.7ms\n",
      "988:\tlearn: 0.0609958\ttotal: 882ms\tremaining: 9.81ms\n",
      "989:\tlearn: 0.0609419\ttotal: 883ms\tremaining: 8.92ms\n",
      "990:\tlearn: 0.0609131\ttotal: 884ms\tremaining: 8.03ms\n",
      "991:\tlearn: 0.0608385\ttotal: 885ms\tremaining: 7.14ms\n",
      "992:\tlearn: 0.0607629\ttotal: 886ms\tremaining: 6.24ms\n",
      "993:\tlearn: 0.0606510\ttotal: 887ms\tremaining: 5.35ms\n",
      "994:\tlearn: 0.0605088\ttotal: 888ms\tremaining: 4.46ms\n",
      "995:\tlearn: 0.0604716\ttotal: 888ms\tremaining: 3.57ms\n",
      "996:\tlearn: 0.0603525\ttotal: 889ms\tremaining: 2.68ms\n",
      "997:\tlearn: 0.0602716\ttotal: 890ms\tremaining: 1.78ms\n",
      "998:\tlearn: 0.0602586\ttotal: 891ms\tremaining: 891us\n",
      "999:\tlearn: 0.0601862\ttotal: 892ms\tremaining: 0us\n"
     ]
    },
    {
     "data": {
      "text/plain": [
       "<catboost.core.CatBoostRegressor at 0x7fa38b288c70>"
      ]
     },
     "execution_count": 9,
     "metadata": {},
     "output_type": "execute_result"
    }
   ],
   "source": [
    "#Train the Model \n",
    "prior_model = ctb.CatBoostRegressor()\n",
    "prior_model.fit(X_train,Y_train)"
   ]
  },
  {
   "cell_type": "code",
   "execution_count": 10,
   "id": "af65dcda",
   "metadata": {
    "execution": {
     "iopub.execute_input": "2022-06-12T03:09:45.355287Z",
     "iopub.status.busy": "2022-06-12T03:09:45.354831Z",
     "iopub.status.idle": "2022-06-12T03:09:45.363208Z",
     "shell.execute_reply": "2022-06-12T03:09:45.363501Z"
    },
    "id": "af65dcda",
    "papermill": {
     "duration": 0.022501,
     "end_time": "2022-06-12T03:09:45.363618",
     "exception": false,
     "start_time": "2022-06-12T03:09:45.341117",
     "status": "completed"
    },
    "tags": []
   },
   "outputs": [
    {
     "data": {
      "application/scrapbook.scrap.json+json": {
       "data": 0.07429966694066112,
       "encoder": "json",
       "name": "Prior Model MSE",
       "version": 1
      }
     },
     "metadata": {
      "scrapbook": {
       "data": true,
       "display": false,
       "name": "Prior Model MSE"
      }
     },
     "output_type": "display_data"
    },
    {
     "data": {
      "application/scrapbook.scrap.json+json": {
       "data": 1.8007351055736696,
       "encoder": "json",
       "name": "ABC Pre-generator MSE",
       "version": 1
      }
     },
     "metadata": {
      "scrapbook": {
       "data": true,
       "display": false,
       "name": "ABC Pre-generator MSE"
      }
     },
     "output_type": "display_data"
    },
    {
     "data": {
      "application/scrapbook.scrap.json+json": {
       "data": 0.19293296110691163,
       "encoder": "json",
       "name": "Prior Model MSE",
       "version": 1
      }
     },
     "metadata": {
      "scrapbook": {
       "data": true,
       "display": false,
       "name": "Prior Model MSE"
      }
     },
     "output_type": "display_data"
    },
    {
     "data": {
      "application/scrapbook.scrap.json+json": {
       "data": 1.0412177111379701,
       "encoder": "json",
       "name": "ABC Pre-generator MSE",
       "version": 1
      }
     },
     "metadata": {
      "scrapbook": {
       "data": true,
       "display": false,
       "name": "ABC Pre-generator MSE"
      }
     },
     "output_type": "display_data"
    }
   ],
   "source": [
    "y_pred = prior_model.predict(X_test)\n",
    "y_abc = y_pred + np.random.normal(0,variance, y_pred.shape) + bias \n",
    "mse = mean_squared_error(y_pred,Y_test)\n",
    "sb.glue(\"Prior Model MSE\",mse)\n",
    "mse = mean_squared_error(y_abc,Y_test)\n",
    "sb.glue(\"ABC Pre-generator MSE\",mse)\n",
    "mae = mean_absolute_error(y_pred,Y_test)\n",
    "sb.glue(\"Prior Model MSE\",mae)\n",
    "mae = mean_absolute_error(y_abc,Y_test)\n",
    "sb.glue(\"ABC Pre-generator MSE\",mae)"
   ]
  },
  {
   "cell_type": "markdown",
   "id": "25609da2",
   "metadata": {
    "papermill": {
     "duration": 0.009896,
     "end_time": "2022-06-12T03:09:45.383877",
     "exception": false,
     "start_time": "2022-06-12T03:09:45.373981",
     "status": "completed"
    },
    "tags": []
   },
   "source": [
    "# ABC GAN Model"
   ]
  },
  {
   "cell_type": "code",
   "execution_count": 11,
   "id": "dfc3464d",
   "metadata": {
    "execution": {
     "iopub.execute_input": "2022-06-12T03:09:45.406508Z",
     "iopub.status.busy": "2022-06-12T03:09:45.406137Z",
     "iopub.status.idle": "2022-06-12T03:09:45.408766Z",
     "shell.execute_reply": "2022-06-12T03:09:45.409011Z"
    },
    "papermill": {
     "duration": 0.015352,
     "end_time": "2022-06-12T03:09:45.409119",
     "exception": false,
     "start_time": "2022-06-12T03:09:45.393767",
     "status": "completed"
    },
    "tags": []
   },
   "outputs": [],
   "source": [
    "gen = network.Generator(n_features+1).to(device)\n",
    "disc = network.Discriminator(n_features+1).to(device)\n",
    "\n",
    "criterion = torch.nn.BCELoss()\n",
    "gen_opt = torch.optim.Adam(gen.parameters(), lr=0.001, betas=(0.5, 0.999))\n",
    "disc_opt = torch.optim.Adam(disc.parameters(), lr=0.001, betas=(0.5, 0.999))"
   ]
  },
  {
   "cell_type": "code",
   "execution_count": 12,
   "id": "b75fdd85",
   "metadata": {
    "execution": {
     "iopub.execute_input": "2022-06-12T03:09:45.431889Z",
     "iopub.status.busy": "2022-06-12T03:09:45.431535Z",
     "iopub.status.idle": "2022-06-12T03:10:44.904166Z",
     "shell.execute_reply": "2022-06-12T03:10:44.904544Z"
    },
    "papermill": {
     "duration": 59.485471,
     "end_time": "2022-06-12T03:10:44.904664",
     "exception": false,
     "start_time": "2022-06-12T03:09:45.419193",
     "status": "completed"
    },
    "tags": []
   },
   "outputs": [
    {
     "data": {
      "image/png": "[encoded data removed]",
      "text/plain": [
       "<Figure size 432x288 with 1 Axes>"
      ]
     },
     "metadata": {
      "needs_background": "light"
     },
     "output_type": "display_data"
    },
    {
     "data": {
      "image/png": "[encoded data removed]",
      "text/plain": [
       "<Figure size 432x288 with 1 Axes>"
      ]
     },
     "metadata": {
      "needs_background": "light"
     },
     "output_type": "display_data"
    }
   ],
   "source": [
    "#Training the ABC_GAN \n",
    "ABC_train_test2.training_GAN(disc,gen,disc_opt,gen_opt,train_data,batch_size,n_epochs,criterion,prior_model,variance,bias,device)"
   ]
  },
  {
   "cell_type": "code",
   "execution_count": 13,
   "id": "1fa7c368",
   "metadata": {
    "execution": {
     "iopub.execute_input": "2022-06-12T03:10:44.930198Z",
     "iopub.status.busy": "2022-06-12T03:10:44.929803Z",
     "iopub.status.idle": "2022-06-12T03:10:45.231710Z",
     "shell.execute_reply": "2022-06-12T03:10:45.232002Z"
    },
    "papermill": {
     "duration": 0.316352,
     "end_time": "2022-06-12T03:10:45.232118",
     "exception": false,
     "start_time": "2022-06-12T03:10:44.915766",
     "status": "completed"
    },
    "tags": []
   },
   "outputs": [
    {
     "data": {
      "application/scrapbook.scrap.json+json": {
       "data": 0.12467887328551563,
       "encoder": "json",
       "name": "ABC-GAN Model 1 MSE",
       "version": 1
      }
     },
     "metadata": {
      "scrapbook": {
       "data": true,
       "display": false,
       "name": "ABC-GAN Model 1 MSE"
      }
     },
     "output_type": "display_data"
    },
    {
     "data": {
      "application/scrapbook.scrap.json+json": {
       "data": 0.24262934357694843,
       "encoder": "json",
       "name": "ABC-GAN Model 1 MAE",
       "version": 1
      }
     },
     "metadata": {
      "scrapbook": {
       "data": true,
       "display": false,
       "name": "ABC-GAN Model 1 MAE"
      }
     },
     "output_type": "display_data"
    },
    {
     "data": {
      "application/scrapbook.scrap.json+json": {
       "data": 24.74819304484874,
       "encoder": "json",
       "name": "ABC-GAN Model 1 Manhattan Distance",
       "version": 1
      }
     },
     "metadata": {
      "scrapbook": {
       "data": true,
       "display": false,
       "name": "ABC-GAN Model 1 Manhattan Distance"
      }
     },
     "output_type": "display_data"
    },
    {
     "data": {
      "application/scrapbook.scrap.json+json": {
       "data": 3.566006357148826,
       "encoder": "json",
       "name": "ABC-GAN Model 1 Euclidean distance",
       "version": 1
      }
     },
     "metadata": {
      "scrapbook": {
       "data": true,
       "display": false,
       "name": "ABC-GAN Model 1 Euclidean distance"
      }
     },
     "output_type": "display_data"
    },
    {
     "data": {
      "application/scrapbook.scrap.json+json": {
       "data": [
        [
         0.12753197959482437,
         0.12477148655545504,
         0.12532933088903447,
         0.12626360571614378,
         0.12326264507532664,
         0.12165417815373633,
         0.12673612613448784,
         0.12567730169991043,
         0.1251989046667199,
         0.12557437003450309,
         0.12345260985314348,
         0.12400131489532017,
         0.12168030845480292,
         0.12473635162515195,
         0.12671950042727156,
         0.12614087820577008,
         0.12571096760453607,
         0.12477363415520909,
         0.12324820904272192,
         0.12503696159274644,
         0.12156908585261599,
         0.12249443291723981,
         0.12323427227153105,
         0.12403530610279549,
         0.1270827470758908,
         0.12414233495636602,
         0.12997891864278888,
         0.12296814921436011,
         0.1240099557157506,
         0.12451536990632758,
         0.1275485293018827,
         0.1212576547569802,
         0.12929224495499722,
         0.12833649891501758,
         0.12699607454949177,
         0.12464078777760128,
         0.12673704007539435,
         0.12227561132599579,
         0.1276310432524594,
         0.12280177800809251,
         0.1266567775910152,
         0.12365193838990535,
         0.12277582557580417,
         0.12378909380293475,
         0.12470379789772423,
         0.12392274452259622,
         0.12511997744502987,
         0.12368286690719166,
         0.12461289860937591,
         0.1233991174417669,
         0.12456500723374628,
         0.12362770429448046,
         0.12340206002314016,
         0.1222078799308928,
         0.12383516888645836,
         0.12350175925006214,
         0.1257078622262384,
         0.12660609128411485,
         0.12586771618516118,
         0.12519202387814396,
         0.1222573885381923,
         0.12665005545518976,
         0.12499734350657658,
         0.1225121969931962,
         0.12512754293891035,
         0.1276515699186769,
         0.1231936034285968,
         0.12569954990745336,
         0.12270263152635277,
         0.12478106552739276,
         0.1263475994425672,
         0.12444507275678639,
         0.12293725206161203,
         0.12310101760994531,
         0.12537996779613855,
         0.12466393065296005,
         0.12233335932045536,
         0.12350632516380745,
         0.1231339991202586,
         0.12075557849712175,
         0.12388896579302255,
         0.12894116169025713,
         0.12747438631518185,
         0.12413482474191534,
         0.13100892585561522,
         0.1259360149091335,
         0.12530465780909988,
         0.12335172296043867,
         0.12150153430887528,
         0.12241348205340913,
         0.12327281139021767,
         0.12274677287258226,
         0.124591666295077,
         0.12785054968987286,
         0.12227136441614714,
         0.12132225575286745,
         0.12579227827897757,
         0.12667821911677526,
         0.12365933253052461,
         0.12769254028320504
        ],
        [
         0.24805439377714897,
         0.24128618702182875,
         0.24358812293183862,
         0.2440538536848537,
         0.24229259683987966,
         0.23756226164051422,
         0.24631052709860252,
         0.2446873184823084,
         0.24331630025899,
         0.2441891991788996,
         0.24091166379295437,
         0.24177703558120364,
         0.2409159358243878,
         0.24391525433234432,
         0.24538864543223204,
         0.2414967404294978,
         0.24311025810482748,
         0.243824436356697,
         0.24084725790638842,
         0.24325579256001933,
         0.2379830415798899,
         0.23939709815507135,
         0.240852254031993,
         0.24165742242635757,
         0.24477519099509307,
         0.24212890495454856,
         0.24931189217878616,
         0.2410665911658868,
         0.24275385578363842,
         0.23899801474466337,
         0.2470086072754188,
         0.23790714266143886,
         0.24719842045805326,
         0.24821526072371533,
         0.24593309010835548,
         0.23954569034314915,
         0.24662486103125938,
         0.24156017971279867,
         0.24902244282009847,
         0.24130038899716502,
         0.243232273341467,
         0.24073192949278974,
         0.2433445132702735,
         0.24051816554228758,
         0.24496408118227242,
         0.2410647082142532,
         0.24319528602976717,
         0.24344219878206358,
         0.2412105349221212,
         0.242734804722097,
         0.24200841905914394,
         0.24220857693466777,
         0.24121999767079366,
         0.24255023755169675,
         0.24251145238568092,
         0.24024053536099838,
         0.24342186760851273,
         0.2440681383470256,
         0.2415523173050115,
         0.24351679852378427,
         0.23914190196413912,
         0.24453455879006022,
         0.24256351748116167,
         0.23917178792294627,
         0.24223220367532441,
         0.2457978302959864,
         0.24049500088371775,
         0.2444171626212112,
         0.24138261995953963,
         0.24407724646267062,
         0.2450821248211843,
         0.2410653058676889,
         0.23891201035539603,
         0.24080919194053493,
         0.2415155648326903,
         0.24159770960207372,
         0.24133233628327064,
         0.2400456865354642,
         0.2416681330011902,
         0.23829684133513593,
         0.24290654937024503,
         0.24739205104061493,
         0.24919718939482288,
         0.23893753224618586,
         0.24857000266110488,
         0.24271147111065539,
         0.24274073706428503,
         0.23861472875646808,
         0.24046709363841834,
         0.23980621516010633,
         0.2420028269601365,
         0.2380556707160876,
         0.24390202509604542,
         0.24652634536409201,
         0.2407583367609072,
         0.23690243464365018,
         0.24435838104645705,
         0.24624067330367716,
         0.2409264639330407,
         0.24601792716695106
        ],
        [
         25.301548165269196,
         24.611191076226532,
         24.84598853904754,
         24.893493075855076,
         24.713844877667725,
         24.23135068733245,
         25.123673764057457,
         24.958106485195458,
         24.81826262641698,
         24.90729831624776,
         24.572989706881344,
         24.661257629282773,
         24.573425454087555,
         24.87935594189912,
         25.02964183408767,
         24.632667523808777,
         24.797246326692402,
         24.870092508383095,
         24.56642030645162,
         24.81209084112197,
         24.27427024114877,
         24.418504011817276,
         24.566929911263287,
         24.649057087488472,
         24.967069481499493,
         24.697148305363953,
         25.429813002236187,
         24.588792298920453,
         24.76089328993112,
         24.377797503955662,
         25.194877942092717,
         24.266528551466763,
         25.214238886721432,
         25.317956593818963,
         25.085175191052258,
         24.433660415001214,
         25.155735825188458,
         24.639138330705464,
         25.400289167650044,
         24.61263967771083,
         24.809691880829632,
         24.554656808264554,
         24.8211403535679,
         24.532852885313332,
         24.986336280591786,
         24.588600237853825,
         24.80591917503625,
         24.831104275770485,
         24.603474562056363,
         24.758950081653893,
         24.68485874403268,
         24.705274847336113,
         24.604439762420952,
         24.740124230273068,
         24.736168143339455,
         24.504534606821835,
         24.8290304960683,
         24.89495011139661,
         24.638336365111172,
         24.838713449425995,
         24.39247400034219,
         24.942524996586144,
         24.74147878307849,
         24.39552236814052,
         24.70768477488309,
         25.071378690190613,
         24.53049009013921,
         24.93055058736354,
         24.621027235873044,
         24.895879139192402,
         24.9983767317608,
         24.58866119850427,
         24.369025056250393,
         24.562537577934563,
         24.63458761293441,
         24.64296637941152,
         24.615898300893605,
         24.484660026617348,
         24.6501495661214,
         24.306277816183865,
         24.776468035764992,
         25.233989206142724,
         25.418113318271935,
         24.37162828911096,
         25.354140271432698,
         24.75657005328685,
         24.759555180557072,
         24.338702333159745,
         24.527643551118672,
         24.460233946330845,
         24.684288349933922,
         24.281678413040936,
         24.87800655979663,
         25.145687227137387,
         24.557350349612534,
         24.164048333652318,
         24.924554866738617,
         25.11654867697507,
         24.57449932117015,
         25.093828571029007
        ],
        [
         3.606696815463158,
         3.5674488964323525,
         3.575414906088735,
         3.5887167320710422,
         3.545812995306339,
         3.5226021875427698,
         3.595425547236065,
         3.5803749487156877,
         3.5735540119054345,
         3.578908456990666,
         3.5485442374332363,
         3.556421532850494,
         3.522980479989904,
         3.566946574560025,
         3.5951897089836167,
         3.5869722018700596,
         3.5808544644627314,
         3.5674795982361727,
         3.5456053534421503,
         3.571242092390284,
         3.521370011368704,
         3.5347464064001044,
         3.545404881208374,
         3.556908942113241,
         3.600338900956528,
         3.558443222189913,
         3.6411330244258395,
         3.5415746808255686,
         3.556545442280551,
         3.5637855898532127,
         3.6069308267267934,
         3.5168566625911803,
         3.631502304199972,
         3.618055125247788,
         3.5991109463377415,
         3.5655799462801747,
         3.5954385111819422,
         3.531587795206508,
         3.6080973395615112,
         3.5391780623225824,
         3.5942998364470857,
         3.551407849821017,
         3.538804064755779,
         3.5533769245464715,
         3.56648109283757,
         3.5552946349500782,
         3.5724274239504212,
         3.551851971089666,
         3.5651810133787514,
         3.5477753563409586,
         3.564495860264411,
         3.551059818988833,
         3.5478176563008836,
         3.5306095441086462,
         3.554038157704381,
         3.5492505467360767,
         3.580810236116445,
         3.5935805697075605,
         3.583086246643588,
         3.573455811335951,
         3.531324628364774,
         3.59420445389927,
         3.5706762717545266,
         3.535002700608022,
         3.572535427363716,
         3.6083874697300784,
         3.544819819076404,
         3.580691845238883,
         3.5377490605875335,
         3.5675858341172475,
         3.5899101859436326,
         3.562779451663014,
         3.5411297223180656,
         3.5434875188455814,
         3.576137121980382,
         3.5659109532631237,
         3.5324216411247464,
         3.54931615479776,
         3.543962176754483,
         3.509568208014543,
         3.5548100527156583,
         3.626568418271772,
         3.605882333652687,
         3.55833558334165,
         3.6555314849242855,
         3.5840582473966034,
         3.575062950009159,
         3.54709398549922,
         3.520391526450613,
         3.5335782387613452,
         3.5459592160376294,
         3.5383853426391236,
         3.5648772716739985,
         3.6111987024209875,
         3.531526464639194,
         3.5177933547598386,
         3.5820123372841293,
         3.5946040602423897,
         3.551514031805802,
         3.608966487636995
        ]
       ],
       "encoder": "json",
       "name": "ABC_GAN_1 Metrics",
       "version": 1
      }
     },
     "metadata": {
      "scrapbook": {
       "data": true,
       "display": false,
       "name": "ABC_GAN_1 Metrics"
      }
     },
     "output_type": "display_data"
    },
    {
     "name": "stdout",
     "output_type": "stream",
     "text": [
      "MSE\n",
      "0.12467887328551563\n"
     ]
    }
   ],
   "source": [
    "ABC_GAN1_metrics=ABC_train_test2.test_generator(gen,test_data,prior_model,variance,bias,\"1\",device)\n",
    "sb.glue(\"ABC_GAN_1 Metrics\",ABC_GAN1_metrics)\n",
    "\n",
    "print(\"MSE\")\n",
    "print(mean(ABC_GAN1_metrics[0]))"
   ]
  },
  {
   "cell_type": "code",
   "execution_count": 14,
   "id": "eb22ce5c",
   "metadata": {
    "execution": {
     "iopub.execute_input": "2022-06-12T03:10:45.261146Z",
     "iopub.status.busy": "2022-06-12T03:10:45.260775Z",
     "iopub.status.idle": "2022-06-12T03:10:45.581598Z",
     "shell.execute_reply": "2022-06-12T03:10:45.581848Z"
    },
    "papermill": {
     "duration": 0.336951,
     "end_time": "2022-06-12T03:10:45.581967",
     "exception": false,
     "start_time": "2022-06-12T03:10:45.245016",
     "status": "completed"
    },
    "tags": []
   },
   "outputs": [
    {
     "data": {
      "image/png": "[encoded data removed]",
      "text/plain": [
       "<Figure size 432x288 with 1 Axes>"
      ]
     },
     "metadata": {
      "needs_background": "light"
     },
     "output_type": "display_data"
    },
    {
     "data": {
      "image/png": "[encoded data removed]",
      "text/plain": [
       "<Figure size 432x288 with 1 Axes>"
      ]
     },
     "metadata": {
      "needs_background": "light"
     },
     "output_type": "display_data"
    },
    {
     "data": {
      "image/png": "[encoded data removed]",
      "text/plain": [
       "<Figure size 432x288 with 1 Axes>"
      ]
     },
     "metadata": {
      "needs_background": "light"
     },
     "output_type": "display_data"
    },
    {
     "data": {
      "image/png": "[encoded data removed]",
      "text/plain": [
       "<Figure size 432x288 with 1 Axes>"
      ]
     },
     "metadata": {
      "needs_background": "light"
     },
     "output_type": "display_data"
    }
   ],
   "source": [
    "sanityChecks.discProbVsError(train_data,disc,device)\n",
    "sanityChecks.discProbVsError(test_data,disc,device)"
   ]
  },
  {
   "cell_type": "markdown",
   "id": "130f3a4d",
   "metadata": {
    "id": "130f3a4d",
    "papermill": {
     "duration": 0.014651,
     "end_time": "2022-06-12T03:10:45.611761",
     "exception": false,
     "start_time": "2022-06-12T03:10:45.597110",
     "status": "completed"
    },
    "tags": []
   },
   "source": [
    "# ABC - GAN Model with skip connection"
   ]
  },
  {
   "cell_type": "code",
   "execution_count": 15,
   "id": "4e43dad1",
   "metadata": {
    "execution": {
     "iopub.execute_input": "2022-06-12T03:10:45.645621Z",
     "iopub.status.busy": "2022-06-12T03:10:45.645226Z",
     "iopub.status.idle": "2022-06-12T03:10:45.647488Z",
     "shell.execute_reply": "2022-06-12T03:10:45.647737Z"
    },
    "id": "4e43dad1",
    "papermill": {
     "duration": 0.021297,
     "end_time": "2022-06-12T03:10:45.647849",
     "exception": false,
     "start_time": "2022-06-12T03:10:45.626552",
     "status": "completed"
    },
    "tags": []
   },
   "outputs": [],
   "source": [
    "#Generator\n",
    "gen3 = network.GeneratorWithSkipConnection(n_features+1).to(device)\n",
    "constraints=network.weightConstraint()\n",
    "#Discriminator \n",
    "disc3 = network.Discriminator(n_features+1).to(device)\n",
    "\n",
    "criterion = torch.nn.BCELoss()\n",
    "gen_opt = torch.optim.Adam(gen3.parameters(), lr=0.001, betas=(0.5, 0.999))\n",
    "disc_opt = torch.optim.Adam(disc3.parameters(), lr=0.001, betas=(0.5, 0.999))\n"
   ]
  },
  {
   "cell_type": "code",
   "execution_count": 16,
   "id": "26acbc37",
   "metadata": {
    "execution": {
     "iopub.execute_input": "2022-06-12T03:10:45.680301Z",
     "iopub.status.busy": "2022-06-12T03:10:45.679922Z",
     "iopub.status.idle": "2022-06-12T03:14:07.251830Z",
     "shell.execute_reply": "2022-06-12T03:14:07.252139Z"
    },
    "id": "26acbc37",
    "papermill": {
     "duration": 201.589375,
     "end_time": "2022-06-12T03:14:07.252268",
     "exception": false,
     "start_time": "2022-06-12T03:10:45.662893",
     "status": "completed"
    },
    "tags": []
   },
   "outputs": [
    {
     "data": {
      "image/png": "[encoded data removed]",
      "text/plain": [
       "<Figure size 432x288 with 1 Axes>"
      ]
     },
     "metadata": {
      "needs_background": "light"
     },
     "output_type": "display_data"
    },
    {
     "data": {
      "image/png": "[encoded data removed]",
      "text/plain": [
       "<Figure size 432x288 with 1 Axes>"
      ]
     },
     "metadata": {
      "needs_background": "light"
     },
     "output_type": "display_data"
    }
   ],
   "source": [
    "ABC_train_test2.training_GAN_skip_connection(disc3,gen3,disc_opt,gen_opt,train_data,batch_size,n_epochs,criterion,prior_model,variance,bias,device)"
   ]
  },
  {
   "cell_type": "code",
   "execution_count": 17,
   "id": "c5e0717b",
   "metadata": {
    "execution": {
     "iopub.execute_input": "2022-06-12T03:14:07.287611Z",
     "iopub.status.busy": "2022-06-12T03:14:07.287241Z",
     "iopub.status.idle": "2022-06-12T03:14:08.109967Z",
     "shell.execute_reply": "2022-06-12T03:14:08.110276Z"
    },
    "id": "c5e0717b",
    "papermill": {
     "duration": 0.842015,
     "end_time": "2022-06-12T03:14:08.110399",
     "exception": false,
     "start_time": "2022-06-12T03:14:07.268384",
     "status": "completed"
    },
    "tags": []
   },
   "outputs": [
    {
     "data": {
      "application/scrapbook.scrap.json+json": {
       "data": 0.08976925745544814,
       "encoder": "json",
       "name": "ABC-GAN Model 3 MSE",
       "version": 1
      }
     },
     "metadata": {
      "scrapbook": {
       "data": true,
       "display": false,
       "name": "ABC-GAN Model 3 MSE"
      }
     },
     "output_type": "display_data"
    },
    {
     "data": {
      "application/scrapbook.scrap.json+json": {
       "data": 0.21755917775855563,
       "encoder": "json",
       "name": "ABC-GAN Model 3 MAE",
       "version": 1
      }
     },
     "metadata": {
      "scrapbook": {
       "data": true,
       "display": false,
       "name": "ABC-GAN Model 3 MAE"
      }
     },
     "output_type": "display_data"
    },
    {
     "data": {
      "application/scrapbook.scrap.json+json": {
       "data": 22.191036131372677,
       "encoder": "json",
       "name": "ABC-GAN Model 3 Manhattan Distance",
       "version": 1
      }
     },
     "metadata": {
      "scrapbook": {
       "data": true,
       "display": false,
       "name": "ABC-GAN Model 3 Manhattan Distance"
      }
     },
     "output_type": "display_data"
    },
    {
     "data": {
      "application/scrapbook.scrap.json+json": {
       "data": 3.0239665818004777,
       "encoder": "json",
       "name": "ABC-GAN Model 3 Euclidean distance",
       "version": 1
      }
     },
     "metadata": {
      "scrapbook": {
       "data": true,
       "display": false,
       "name": "ABC-GAN Model 3 Euclidean distance"
      }
     },
     "output_type": "display_data"
    },
    {
     "data": {
      "application/scrapbook.scrap.json+json": {
       "data": [
        [
         0.08589185815991603,
         0.07938375472913207,
         0.08538449839902126,
         0.07666892285211226,
         0.0987277798689786,
         0.09580190624941184,
         0.0886529303568533,
         0.0776855854220984,
         0.09643574615360202,
         0.09220831431765775,
         0.08913603566477586,
         0.08824559643083749,
         0.09357667004215497,
         0.09704968914561361,
         0.10319829425280294,
         0.09670060854682422,
         0.0971348744468648,
         0.09320117700314244,
         0.08747427346688054,
         0.09947429939313508,
         0.07717044445066921,
         0.08485838008691095,
         0.10218712391179509,
         0.09582515242512367,
         0.09441954261998223,
         0.09204635671860413,
         0.07977784561916572,
         0.09186186587783833,
         0.08897704432102342,
         0.09272809782875639,
         0.08884617007147287,
         0.0825712996496935,
         0.09094943343679794,
         0.0883205641437727,
         0.09987324290282112,
         0.09863651355701213,
         0.08987028315025762,
         0.08821966517457613,
         0.08976893661285938,
         0.09607725917773814,
         0.08857385531306422,
         0.08557718527407801,
         0.08019290287057335,
         0.09088677813954472,
         0.08148199558819734,
         0.09085493435322008,
         0.07667578822739986,
         0.09157467636322966,
         0.08829112654427025,
         0.10366249499821428,
         0.07725244298030393,
         0.09510517296294715,
         0.08159771155142012,
         0.08693683301333908,
         0.09883700190307292,
         0.09895720037300076,
         0.08364794458923863,
         0.09169293006569568,
         0.09278069677495517,
         0.08366562435433313,
         0.09070068074830236,
         0.10136426260721741,
         0.09959474361414462,
         0.0931309498850721,
         0.08474074075102286,
         0.09467307283070216,
         0.08637874097765917,
         0.10101976994180648,
         0.08332421611858426,
         0.08618574439069415,
         0.0942437071074307,
         0.07958635166120288,
         0.08947896093128578,
         0.08875684177874507,
         0.09322002598372651,
         0.08704419275806856,
         0.09521402909773766,
         0.08181954719323471,
         0.09026692151609515,
         0.08885527315030815,
         0.08951371592801617,
         0.08667487451751373,
         0.0846588248802063,
         0.08519562803639165,
         0.08076662680419018,
         0.09854517781287717,
         0.08386064835514306,
         0.08805145158752721,
         0.09020629109943734,
         0.08761335613434637,
         0.08862523807433283,
         0.08084762259009835,
         0.08463996834025345,
         0.09215387404059737,
         0.09135571156553211,
         0.08447972378875923,
         0.08966082702794897,
         0.08940560015382937,
         0.08553601720779934,
         0.1022724616781888
        ],
        [
         0.21769834285163703,
         0.20723157928453065,
         0.2066280498607632,
         0.20184599977972753,
         0.2323287486683066,
         0.2279876242391765,
         0.21738944657366066,
         0.21050598469617612,
         0.22670958794689938,
         0.21812962621048676,
         0.2213730846860391,
         0.2192240102928789,
         0.2183235130711075,
         0.2237223658948114,
         0.2284079753318984,
         0.21747462711680463,
         0.2235420520563482,
         0.22321212124627302,
         0.21995921718760156,
         0.22449032035564967,
         0.20362708506667437,
         0.20720717344688727,
         0.23059865698108778,
         0.23120466500118958,
         0.21515479626353173,
         0.21977852088600106,
         0.2080884634736268,
         0.2195587759819247,
         0.21538423524950356,
         0.2159019611940226,
         0.21346476276898207,
         0.19891751627894302,
         0.21790502035040774,
         0.21701016435034426,
         0.23481386977558336,
         0.23120977281245822,
         0.21879865087605282,
         0.21709258979478596,
         0.21550301244190218,
         0.2211307492928908,
         0.20673196197615243,
         0.2137393701693737,
         0.2157781756775198,
         0.2175493398589977,
         0.2064306107532306,
         0.2146259499987697,
         0.20654536189292283,
         0.21974817288162954,
         0.2186250623187744,
         0.22848100774903216,
         0.20488842332954793,
         0.22491659725304036,
         0.20889976771329255,
         0.2140402719104553,
         0.2232754528248573,
         0.22941644983731357,
         0.2130746027071248,
         0.22186577960154882,
         0.21626194534531118,
         0.21207897398876502,
         0.2183119709165219,
         0.2280128452579911,
         0.23217006134526694,
         0.22305037261114694,
         0.22109755257363706,
         0.22406260900235936,
         0.21538576086544814,
         0.2323312075790383,
         0.20950399621335022,
         0.219411283484934,
         0.21613173140212893,
         0.20394227431867928,
         0.21976458541501095,
         0.21522433300703472,
         0.2173185042909109,
         0.21209212072084055,
         0.22845134757203506,
         0.20713429778412568,
         0.21594485462478855,
         0.22109794884226194,
         0.21890723627681533,
         0.21701404478802694,
         0.20942193303512885,
         0.2103595450319642,
         0.21724955497455656,
         0.2293519868296297,
         0.21085427318900532,
         0.20766393728006413,
         0.22220658088175982,
         0.21199022816932378,
         0.21737797807573395,
         0.2080045584680549,
         0.21876202491751195,
         0.21646198707943162,
         0.21805235649477325,
         0.21196370448588447,
         0.21197506340731884,
         0.21989235856259862,
         0.2101577147384923,
         0.2323030539167424
        ],
        [
         22.205230970866978,
         21.137621087022126,
         21.076061085797846,
         20.588291977532208,
         23.697532364167273,
         23.254737672396004,
         22.173723550513387,
         21.471610439009964,
         23.124377970583737,
         22.24922187346965,
         22.58005463797599,
         22.36084904987365,
         22.268998333252966,
         22.819681321270764,
         23.297613483853638,
         22.18241196591407,
         22.801289309747517,
         22.76763636711985,
         22.43584015313536,
         22.898012676276267,
         20.769962676800787,
         21.1351316915825,
         23.521063012070954,
         23.58287583012134,
         21.945789218880236,
         22.417409130372107,
         21.225023274309933,
         22.39499515015632,
         21.969191995449364,
         22.022000041790307,
         21.773405802436173,
         20.289586660452187,
         22.22631207574159,
         22.135036763735116,
         23.9510147171095,
         23.58339682687074,
         22.317462389357388,
         22.143444159068167,
         21.981307269074023,
         22.555336427874863,
         21.086660121567547,
         21.801415757276118,
         22.00937391910702,
         22.190032665617764,
         21.05592229682952,
         21.89184689987451,
         21.06762691307813,
         22.414313633926213,
         22.29975635651499,
         23.30506279040128,
         20.89861917961389,
         22.941492919810116,
         21.30777630675584,
         21.83210773486644,
         22.774096188135445,
         23.400477883405983,
         21.73360947612673,
         22.63030951935798,
         22.05871842522174,
         21.63205534685403,
         22.267821033485234,
         23.25731021631509,
         23.68134625721723,
         22.751138006336987,
         22.55195036251098,
         22.854386118240654,
         21.96934760827571,
         23.697783173061907,
         21.369407613761723,
         22.37995091546327,
         22.04543660301715,
         20.802111980505288,
         22.415987712331116,
         21.95288196671754,
         22.166487437672913,
         21.633396313525736,
         23.302037452347577,
         21.12769837398082,
         22.026375171728432,
         22.551990781910717,
         22.328538100235164,
         22.135432568378747,
         21.361037169583142,
         21.456673593260348,
         22.15945460740477,
         23.39390265662223,
         21.507135865278542,
         21.18172160256654,
         22.6650712499395,
         21.623003273271024,
         22.172553763724864,
         21.2164649637416,
         22.31372654158622,
         22.079122682102025,
         22.24134036246687,
         21.620297857560217,
         21.621456467546523,
         22.42902057338506,
         21.436086903326213,
         23.694911499507725
        ],
        [
         2.9598935001637194,
         2.8455479230495255,
         2.951138566163942,
         2.7964674378428667,
         3.1733631287068005,
         3.1259869541378453,
         3.007091434658919,
         2.814947550675507,
         3.136310907366711,
         3.066797688208515,
         3.0152737251876722,
         3.0001751342122382,
         3.08946926579628,
         3.1462784830419235,
         3.244414587223079,
         3.140614919371057,
         3.1476590021125546,
         3.08326451254519,
         2.9870346321430246,
         3.1853380571141545,
         2.805598926070556,
         2.9420324214503344,
         3.22848054648051,
         3.1263661889424625,
         3.103351953491287,
         3.064103194296436,
         2.852602365061577,
         3.0610309243030374,
         3.0125833632854695,
         3.0754293974229276,
         3.010366978839994,
         2.9021151879738913,
         3.045790900661664,
         3.001449240394516,
         3.191719094169747,
         3.1718960233297744,
         3.02766723424591,
         2.9997342962013755,
         3.025959605565093,
         3.1304760718027045,
         3.005750029848216,
         2.954466601259178,
         2.860013302905859,
         3.0447415933431135,
         2.882908869526772,
         3.0442081571450483,
         2.7965926409105033,
         3.0562422988122897,
         3.000949001152063,
         3.2517033213099027,
         2.8070890944163134,
         3.1145991142072535,
         2.884955212519746,
         2.9778443490821656,
         3.1751179811328956,
         3.1770480698355947,
         2.9209742121597624,
         3.0582149804585286,
         3.0763015247282612,
         2.921282883279533,
         3.04162282939993,
         3.2154556109416554,
         3.187265889229004,
         3.0821026732212147,
         2.93999244158966,
         3.107515636120214,
         2.968270806331732,
         3.209986999049102,
         2.9153164569383527,
         2.9649529385558218,
         3.1004609536257557,
         2.849176700284258,
         3.021068356557188,
         3.008853246908529,
         3.083576276069737,
         2.9796824765942755,
         3.1163810691199556,
         2.888874142933531,
         3.034341113757928,
         3.010521194300321,
         3.0216550141698253,
         2.9733545366784635,
         2.9385711047686156,
         2.947872802498769,
         2.870225763598989,
         3.17042712215775,
         2.924685646736174,
         2.9968730473491494,
         3.0333218906246353,
         2.9894083571341215,
         3.006621739358303,
         2.8716645876895215,
         2.9382438242436333,
         3.065892227743978,
         3.0525862116710605,
         2.935461092648554,
         3.024136960663454,
         3.0198296666684024,
         2.9537558726468123,
         3.229828337725591
        ]
       ],
       "encoder": "json",
       "name": "ABC_GAN_3 Metrics",
       "version": 1
      }
     },
     "metadata": {
      "scrapbook": {
       "data": true,
       "display": false,
       "name": "ABC_GAN_3 Metrics"
      }
     },
     "output_type": "display_data"
    },
    {
     "name": "stdout",
     "output_type": "stream",
     "text": [
      "MSE\n",
      "0.08976925745544814\n"
     ]
    }
   ],
   "source": [
    "ABC_GAN3_metrics=ABC_train_test2.test_generator(gen3,test_data,prior_model,variance,bias,\"3\",device)\n",
    "sb.glue(\"ABC_GAN_3 Metrics\",ABC_GAN3_metrics)\n",
    "\n",
    "print(\"MSE\")\n",
    "print(mean(ABC_GAN3_metrics[0]))"
   ]
  },
  {
   "cell_type": "code",
   "execution_count": 18,
   "id": "c8e46b48",
   "metadata": {
    "execution": {
     "iopub.execute_input": "2022-06-12T03:14:08.149178Z",
     "iopub.status.busy": "2022-06-12T03:14:08.148794Z",
     "iopub.status.idle": "2022-06-12T03:14:08.469469Z",
     "shell.execute_reply": "2022-06-12T03:14:08.469717Z"
    },
    "id": "c8e46b48",
    "papermill": {
     "duration": 0.341798,
     "end_time": "2022-06-12T03:14:08.469840",
     "exception": false,
     "start_time": "2022-06-12T03:14:08.128042",
     "status": "completed"
    },
    "tags": []
   },
   "outputs": [
    {
     "data": {
      "image/png": "[encoded data removed]",
      "text/plain": [
       "<Figure size 432x288 with 1 Axes>"
      ]
     },
     "metadata": {
      "needs_background": "light"
     },
     "output_type": "display_data"
    },
    {
     "data": {
      "image/png": "[encoded data removed]",
      "text/plain": [
       "<Figure size 432x288 with 1 Axes>"
      ]
     },
     "metadata": {
      "needs_background": "light"
     },
     "output_type": "display_data"
    },
    {
     "data": {
      "image/png": "[encoded data removed]",
      "text/plain": [
       "<Figure size 432x288 with 1 Axes>"
      ]
     },
     "metadata": {
      "needs_background": "light"
     },
     "output_type": "display_data"
    },
    {
     "data": {
      "image/png": "[encoded data removed]",
      "text/plain": [
       "<Figure size 432x288 with 1 Axes>"
      ]
     },
     "metadata": {
      "needs_background": "light"
     },
     "output_type": "display_data"
    }
   ],
   "source": [
    "sanityChecks.discProbVsError(train_data,disc3,device)\n",
    "sanityChecks.discProbVsError(test_data,disc3,device)"
   ]
  },
  {
   "cell_type": "markdown",
   "id": "a5bd74c3",
   "metadata": {
    "id": "a5bd74c3",
    "papermill": {
     "duration": 0.020377,
     "end_time": "2022-06-12T03:14:08.510460",
     "exception": false,
     "start_time": "2022-06-12T03:14:08.490083",
     "status": "completed"
    },
    "tags": []
   },
   "source": [
    "## Skip Connection Model Analysis - ABC-GAN "
   ]
  },
  {
   "cell_type": "markdown",
   "id": "5744a8bf",
   "metadata": {
    "id": "5744a8bf",
    "papermill": {
     "duration": 0.019505,
     "end_time": "2022-06-12T03:14:08.549733",
     "exception": false,
     "start_time": "2022-06-12T03:14:08.530228",
     "status": "completed"
    },
    "tags": []
   },
   "source": [
    "### Weight Analysis \n",
    "\n",
    "Study the weights of the skip connection layer\n",
    "\n",
    "Equation of the skip connection is \n",
    "\n",
    "$output = y_{gan} * w + y_{abc} * (1-w)$"
   ]
  },
  {
   "cell_type": "code",
   "execution_count": 19,
   "id": "52c31dea",
   "metadata": {
    "execution": {
     "iopub.execute_input": "2022-06-12T03:14:08.591622Z",
     "iopub.status.busy": "2022-06-12T03:14:08.591173Z",
     "iopub.status.idle": "2022-06-12T03:14:08.594641Z",
     "shell.execute_reply": "2022-06-12T03:14:08.594938Z"
    },
    "id": "52c31dea",
    "papermill": {
     "duration": 0.025872,
     "end_time": "2022-06-12T03:14:08.595049",
     "exception": false,
     "start_time": "2022-06-12T03:14:08.569177",
     "status": "completed"
    },
    "tags": []
   },
   "outputs": [
    {
     "name": "stdout",
     "output_type": "stream",
     "text": [
      "Weight of the node at skip connection\n",
      "Parameter containing:\n",
      "tensor([[0.5893]], requires_grad=True)\n"
     ]
    },
    {
     "data": {
      "application/scrapbook.scrap.json+json": {
       "data": 0.5893092751502991,
       "encoder": "json",
       "name": "Skip Connection Weight",
       "version": 1
      }
     },
     "metadata": {
      "scrapbook": {
       "data": true,
       "display": false,
       "name": "Skip Connection Weight"
      }
     },
     "output_type": "display_data"
    }
   ],
   "source": [
    "print(\"Weight of the node at skip connection\")\n",
    "for name,param in gen3.named_parameters():\n",
    "    if(name == \"skipNode.weight\"):\n",
    "        print(param)\n",
    "        sb.glue(\"Skip Connection Weight\",param.item())"
   ]
  }
 ],
 "metadata": {
  "colab": {
   "collapsed_sections": [],
   "name": "ABC_GAN_Model-Catboost_Pre-gen.ipynb",
   "provenance": []
  },
  "interpreter": {
   "hash": "31f2aee4e71d21fbe5cf8b01ff0e069b9275f58929596ceb00d14d90e3e16cd6"
  },
  "kernelspec": {
   "display_name": "Python 3 (ipykernel)",
   "language": "python",
   "name": "python3"
  },
  "language_info": {
   "codemirror_mode": {
    "name": "ipython",
    "version": 3
   },
   "file_extension": ".py",
   "mimetype": "text/x-python",
   "name": "python",
   "nbconvert_exporter": "python",
   "pygments_lexer": "ipython3",
   "version": "3.8.11"
  },
  "papermill": {
   "default_parameters": {},
   "duration": 267.511634,
   "end_time": "2022-06-12T03:14:08.922686",
   "environment_variables": {},
   "exception": null,
   "input_path": "ABC_GAN-Catboost.ipynb",
   "output_path": "./ABC_GAN_Catboost/ABC-GAN_output_4_0.ipynb",
   "parameters": {
    "bias": 1,
    "variance": 1
   },
   "start_time": "2022-06-12T03:09:41.411052",
   "version": "2.3.3"
  }
 },
 "nbformat": 4,
 "nbformat_minor": 5
}