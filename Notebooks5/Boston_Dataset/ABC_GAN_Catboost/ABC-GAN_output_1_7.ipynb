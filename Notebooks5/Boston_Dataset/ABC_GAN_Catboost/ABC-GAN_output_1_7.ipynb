{
 "cells": [
  {
   "cell_type": "markdown",
   "id": "622780e6",
   "metadata": {
    "id": "622780e6",
    "papermill": {
     "duration": 0.01528,
     "end_time": "2022-06-11T15:21:54.447400",
     "exception": false,
     "start_time": "2022-06-11T15:21:54.432120",
     "status": "completed"
    },
    "tags": []
   },
   "source": [
    "## Import Libraries "
   ]
  },
  {
   "cell_type": "code",
   "execution_count": 1,
   "id": "a62397e3",
   "metadata": {
    "execution": {
     "iopub.execute_input": "2022-06-11T15:21:54.475933Z",
     "iopub.status.busy": "2022-06-11T15:21:54.475490Z",
     "iopub.status.idle": "2022-06-11T15:21:54.477648Z",
     "shell.execute_reply": "2022-06-11T15:21:54.477959Z"
    },
    "id": "a62397e3",
    "papermill": {
     "duration": 0.018865,
     "end_time": "2022-06-11T15:21:54.478154",
     "exception": false,
     "start_time": "2022-06-11T15:21:54.459289",
     "status": "completed"
    },
    "tags": []
   },
   "outputs": [],
   "source": [
    "import warnings\n",
    "import sys\n",
    "sys.path.insert(0, '../../src')\n",
    "warnings.filterwarnings('ignore')"
   ]
  },
  {
   "cell_type": "code",
   "execution_count": 2,
   "id": "d6a4e155",
   "metadata": {
    "execution": {
     "iopub.execute_input": "2022-06-11T15:21:54.496851Z",
     "iopub.status.busy": "2022-06-11T15:21:54.496472Z",
     "iopub.status.idle": "2022-06-11T15:21:56.065452Z",
     "shell.execute_reply": "2022-06-11T15:21:56.065677Z"
    },
    "id": "d6a4e155",
    "papermill": {
     "duration": 1.579303,
     "end_time": "2022-06-11T15:21:56.065804",
     "exception": false,
     "start_time": "2022-06-11T15:21:54.486501",
     "status": "completed"
    },
    "tags": []
   },
   "outputs": [],
   "source": [
    "import ABC_train_test2\n",
    "import bostonDataset\n",
    "import network\n",
    "import dataset\n",
    "import sanityChecks\n",
    "import torch \n",
    "import scrapbook as sb\n",
    "from statistics import mean \n",
    "import catboost as ctb \n",
    "from sklearn.model_selection import train_test_split\n",
    "from sklearn.metrics import mean_squared_error,mean_absolute_error\n",
    "import numpy as np"
   ]
  },
  {
   "cell_type": "markdown",
   "id": "2fa5b0f7",
   "metadata": {
    "id": "2fa5b0f7",
    "papermill": {
     "duration": 0.007087,
     "end_time": "2022-06-11T15:21:56.080029",
     "exception": false,
     "start_time": "2022-06-11T15:21:56.072942",
     "status": "completed"
    },
    "tags": []
   },
   "source": [
    "## Parameters "
   ]
  },
  {
   "cell_type": "code",
   "execution_count": 3,
   "id": "783186fb",
   "metadata": {
    "execution": {
     "iopub.execute_input": "2022-06-11T15:21:56.096130Z",
     "iopub.status.busy": "2022-06-11T15:21:56.095745Z",
     "iopub.status.idle": "2022-06-11T15:21:56.096946Z",
     "shell.execute_reply": "2022-06-11T15:21:56.097191Z"
    },
    "id": "783186fb",
    "papermill": {
     "duration": 0.010549,
     "end_time": "2022-06-11T15:21:56.097302",
     "exception": false,
     "start_time": "2022-06-11T15:21:56.086753",
     "status": "completed"
    },
    "tags": [
     "parameters"
    ]
   },
   "outputs": [],
   "source": [
    "variance = 1\n",
    "bias = 1 "
   ]
  },
  {
   "cell_type": "code",
   "execution_count": 4,
   "id": "8f817c48",
   "metadata": {
    "execution": {
     "iopub.execute_input": "2022-06-11T15:21:56.112913Z",
     "iopub.status.busy": "2022-06-11T15:21:56.112561Z",
     "iopub.status.idle": "2022-06-11T15:21:56.113831Z",
     "shell.execute_reply": "2022-06-11T15:21:56.114083Z"
    },
    "papermill": {
     "duration": 0.009984,
     "end_time": "2022-06-11T15:21:56.114191",
     "exception": false,
     "start_time": "2022-06-11T15:21:56.104207",
     "status": "completed"
    },
    "tags": [
     "injected-parameters"
    ]
   },
   "outputs": [],
   "source": [
    "# Parameters\n",
    "variance = 0.1\n",
    "bias = 0.01\n"
   ]
  },
  {
   "cell_type": "markdown",
   "id": "391cdbfd",
   "metadata": {
    "id": "391cdbfd",
    "papermill": {
     "duration": 0.006747,
     "end_time": "2022-06-11T15:21:56.127864",
     "exception": false,
     "start_time": "2022-06-11T15:21:56.121117",
     "status": "completed"
    },
    "tags": []
   },
   "source": [
    "## Dataset \n"
   ]
  },
  {
   "cell_type": "code",
   "execution_count": 5,
   "id": "5b51f161",
   "metadata": {
    "execution": {
     "iopub.execute_input": "2022-06-11T15:21:56.143559Z",
     "iopub.status.busy": "2022-06-11T15:21:56.143199Z",
     "iopub.status.idle": "2022-06-11T15:21:56.144514Z",
     "shell.execute_reply": "2022-06-11T15:21:56.144760Z"
    },
    "id": "5b51f161",
    "papermill": {
     "duration": 0.010191,
     "end_time": "2022-06-11T15:21:56.144866",
     "exception": false,
     "start_time": "2022-06-11T15:21:56.134675",
     "status": "completed"
    },
    "tags": []
   },
   "outputs": [],
   "source": [
    "#Parameters \n",
    "n_features = 13\n",
    "n_samples= 506\n",
    "n_target = 1 "
   ]
  },
  {
   "cell_type": "code",
   "execution_count": 6,
   "id": "5d6eced4",
   "metadata": {
    "execution": {
     "iopub.execute_input": "2022-06-11T15:21:56.160581Z",
     "iopub.status.busy": "2022-06-11T15:21:56.160208Z",
     "iopub.status.idle": "2022-06-11T15:21:56.170339Z",
     "shell.execute_reply": "2022-06-11T15:21:56.170609Z"
    },
    "id": "5d6eced4",
    "papermill": {
     "duration": 0.018987,
     "end_time": "2022-06-11T15:21:56.170735",
     "exception": false,
     "start_time": "2022-06-11T15:21:56.151748",
     "status": "completed"
    },
    "tags": []
   },
   "outputs": [
    {
     "name": "stdout",
     "output_type": "stream",
     "text": [
      "         X1        X2        X3        X4        X5        X6        X7  \\\n",
      "0 -0.419782  0.284830 -1.287909 -0.272599 -0.144217  0.413672 -0.120013   \n",
      "1 -0.417339 -0.487722 -0.593381 -0.272599 -0.740262  0.194274  0.367166   \n",
      "2 -0.417342 -0.487722 -0.593381 -0.272599 -0.740262  1.282714 -0.265812   \n",
      "3 -0.416750 -0.487722 -1.306878 -0.272599 -0.835284  1.016303 -0.809889   \n",
      "4 -0.412482 -0.487722 -1.306878 -0.272599 -0.835284  1.228577 -0.511180   \n",
      "\n",
      "         X8        X9       X10       X11       X12       X13         Y  \n",
      "0  0.140214 -0.982843 -0.666608 -1.459000  0.441052 -1.075562  0.159686  \n",
      "1  0.557160 -0.867883 -0.987329 -0.303094  0.441052 -0.492439 -0.101524  \n",
      "2  0.557160 -0.867883 -0.987329 -0.303094  0.396427 -1.208727  1.324247  \n",
      "3  1.077737 -0.752922 -1.106115  0.113032  0.416163 -1.361517  1.182758  \n",
      "4  1.077737 -0.752922 -1.106115  0.113032  0.441052 -1.026501  1.487503  \n"
     ]
    }
   ],
   "source": [
    "X,Y = bostonDataset.boston_data()"
   ]
  },
  {
   "cell_type": "code",
   "execution_count": 7,
   "id": "fe007438",
   "metadata": {
    "execution": {
     "iopub.execute_input": "2022-06-11T15:21:56.188580Z",
     "iopub.status.busy": "2022-06-11T15:21:56.188202Z",
     "iopub.status.idle": "2022-06-11T15:21:56.189482Z",
     "shell.execute_reply": "2022-06-11T15:21:56.189722Z"
    },
    "id": "fe007438",
    "papermill": {
     "duration": 0.011825,
     "end_time": "2022-06-11T15:21:56.189844",
     "exception": false,
     "start_time": "2022-06-11T15:21:56.178019",
     "status": "completed"
    },
    "tags": []
   },
   "outputs": [],
   "source": [
    "#Train test split for dataset \n",
    "X_train,X_test,Y_train,Y_test = train_test_split(X,Y,test_size = 0.2)\n",
    "train_data = dataset.CustomDataset(X_train,Y_train)\n",
    "test_data = dataset.CustomDataset(X_test,Y_test)\n"
   ]
  },
  {
   "cell_type": "markdown",
   "id": "a9a1af34",
   "metadata": {
    "id": "a9a1af34",
    "papermill": {
     "duration": 0.007047,
     "end_time": "2022-06-11T15:21:56.204236",
     "exception": false,
     "start_time": "2022-06-11T15:21:56.197189",
     "status": "completed"
    },
    "tags": []
   },
   "source": [
    "## Training Parameters "
   ]
  },
  {
   "cell_type": "code",
   "execution_count": 8,
   "id": "952b7fc8",
   "metadata": {
    "execution": {
     "iopub.execute_input": "2022-06-11T15:21:56.220996Z",
     "iopub.status.busy": "2022-06-11T15:21:56.220581Z",
     "iopub.status.idle": "2022-06-11T15:21:56.221868Z",
     "shell.execute_reply": "2022-06-11T15:21:56.222098Z"
    },
    "id": "952b7fc8",
    "papermill": {
     "duration": 0.010758,
     "end_time": "2022-06-11T15:21:56.222202",
     "exception": false,
     "start_time": "2022-06-11T15:21:56.211444",
     "status": "completed"
    },
    "tags": []
   },
   "outputs": [],
   "source": [
    "batch_size = 32\n",
    "n_epochs = 1000\n",
    "#Select the device \n",
    "device = torch.device('cuda' if torch.cuda.is_available() else 'cpu')"
   ]
  },
  {
   "cell_type": "markdown",
   "id": "a95e1600",
   "metadata": {
    "id": "a95e1600",
    "papermill": {
     "duration": 0.007024,
     "end_time": "2022-06-11T15:21:56.236431",
     "exception": false,
     "start_time": "2022-06-11T15:21:56.229407",
     "status": "completed"
    },
    "tags": []
   },
   "source": [
    "# ABC Pre-generator Model \n",
    "\n",
    "1. The catboost model is used as a pre-generator model for the ABC-GAN. \n",
    "2. The model is first trained on the entire dataset \n",
    "3. It generats X,Y pairs and we add some Gaussian noise with mean 0 and variance 1 to it which is then feed as input to the generator.\n"
   ]
  },
  {
   "cell_type": "code",
   "execution_count": 9,
   "id": "ff8ce7bd",
   "metadata": {
    "execution": {
     "iopub.execute_input": "2022-06-11T15:21:56.255411Z",
     "iopub.status.busy": "2022-06-11T15:21:56.254966Z",
     "iopub.status.idle": "2022-06-11T15:21:57.214273Z",
     "shell.execute_reply": "2022-06-11T15:21:57.214508Z"
    },
    "id": "ff8ce7bd",
    "papermill": {
     "duration": 0.971072,
     "end_time": "2022-06-11T15:21:57.214630",
     "exception": false,
     "start_time": "2022-06-11T15:21:56.243558",
     "status": "completed"
    },
    "tags": []
   },
   "outputs": [
    {
     "name": "stdout",
     "output_type": "stream",
     "text": [
      "Learning rate set to 0.033215\n",
      "0:\tlearn: 1.0193650\ttotal: 57.7ms\tremaining: 57.7s\n",
      "1:\tlearn: 0.9985112\ttotal: 58.7ms\tremaining: 29.3s\n",
      "2:\tlearn: 0.9771618\ttotal: 59.7ms\tremaining: 19.9s\n",
      "3:\tlearn: 0.9612276\ttotal: 60.7ms\tremaining: 15.1s\n",
      "4:\tlearn: 0.9447693\ttotal: 61.6ms\tremaining: 12.3s\n",
      "5:\tlearn: 0.9267180\ttotal: 62.6ms\tremaining: 10.4s\n",
      "6:\tlearn: 0.9082231\ttotal: 63.6ms\tremaining: 9.03s\n",
      "7:\tlearn: 0.8912778\ttotal: 64.5ms\tremaining: 8s\n",
      "8:\tlearn: 0.8747675\ttotal: 65.5ms\tremaining: 7.21s\n",
      "9:\tlearn: 0.8573037\ttotal: 66.5ms\tremaining: 6.58s\n",
      "10:\tlearn: 0.8411587\ttotal: 67.3ms\tremaining: 6.05s\n",
      "11:\tlearn: 0.8250829\ttotal: 68.2ms\tremaining: 5.61s\n",
      "12:\tlearn: 0.8086855\ttotal: 69ms\tremaining: 5.24s\n",
      "13:\tlearn: 0.7926592\ttotal: 69.9ms\tremaining: 4.92s\n",
      "14:\tlearn: 0.7791055\ttotal: 70.7ms\tremaining: 4.64s\n",
      "15:\tlearn: 0.7634128\ttotal: 71.5ms\tremaining: 4.4s\n",
      "16:\tlearn: 0.7506544\ttotal: 72.3ms\tremaining: 4.18s\n",
      "17:\tlearn: 0.7376600\ttotal: 73.1ms\tremaining: 3.99s\n",
      "18:\tlearn: 0.7249178\ttotal: 74.2ms\tremaining: 3.83s\n",
      "19:\tlearn: 0.7119362\ttotal: 74.9ms\tremaining: 3.67s\n",
      "20:\tlearn: 0.6987961\ttotal: 75.9ms\tremaining: 3.54s\n",
      "21:\tlearn: 0.6869457\ttotal: 76.7ms\tremaining: 3.41s\n",
      "22:\tlearn: 0.6755680\ttotal: 77.5ms\tremaining: 3.29s\n",
      "23:\tlearn: 0.6647965\ttotal: 78.3ms\tremaining: 3.19s\n",
      "24:\tlearn: 0.6545234\ttotal: 79.1ms\tremaining: 3.08s\n",
      "25:\tlearn: 0.6456880\ttotal: 80ms\tremaining: 3s\n",
      "26:\tlearn: 0.6369349\ttotal: 80.9ms\tremaining: 2.92s\n",
      "27:\tlearn: 0.6277247\ttotal: 81.7ms\tremaining: 2.84s\n",
      "28:\tlearn: 0.6174719\ttotal: 82.5ms\tremaining: 2.76s\n",
      "29:\tlearn: 0.6071724\ttotal: 83.3ms\tremaining: 2.69s\n",
      "30:\tlearn: 0.5978848\ttotal: 84.1ms\tremaining: 2.63s\n",
      "31:\tlearn: 0.5894487\ttotal: 84.8ms\tremaining: 2.56s\n",
      "32:\tlearn: 0.5825672\ttotal: 85.5ms\tremaining: 2.51s\n",
      "33:\tlearn: 0.5744197\ttotal: 86.3ms\tremaining: 2.45s\n",
      "34:\tlearn: 0.5666943\ttotal: 87.1ms\tremaining: 2.4s\n",
      "35:\tlearn: 0.5595851\ttotal: 88ms\tremaining: 2.36s\n",
      "36:\tlearn: 0.5523331\ttotal: 88.8ms\tremaining: 2.31s\n",
      "37:\tlearn: 0.5449848\ttotal: 89.6ms\tremaining: 2.27s\n",
      "38:\tlearn: 0.5375727\ttotal: 90.4ms\tremaining: 2.23s\n",
      "39:\tlearn: 0.5298806\ttotal: 91.2ms\tremaining: 2.19s\n",
      "40:\tlearn: 0.5237257\ttotal: 91.9ms\tremaining: 2.15s\n",
      "41:\tlearn: 0.5163072\ttotal: 92.6ms\tremaining: 2.11s\n",
      "42:\tlearn: 0.5114702\ttotal: 93ms\tremaining: 2.07s\n",
      "43:\tlearn: 0.5050534\ttotal: 93.8ms\tremaining: 2.04s\n",
      "44:\tlearn: 0.4995312\ttotal: 94.5ms\tremaining: 2.01s\n",
      "45:\tlearn: 0.4946283\ttotal: 95.3ms\tremaining: 1.98s\n",
      "46:\tlearn: 0.4889806\ttotal: 96ms\tremaining: 1.95s\n",
      "47:\tlearn: 0.4828487\ttotal: 96.9ms\tremaining: 1.92s\n",
      "48:\tlearn: 0.4771420\ttotal: 97.8ms\tremaining: 1.9s\n",
      "49:\tlearn: 0.4715950\ttotal: 99.2ms\tremaining: 1.88s\n",
      "50:\tlearn: 0.4664033\ttotal: 100ms\tremaining: 1.86s\n",
      "51:\tlearn: 0.4621341\ttotal: 101ms\tremaining: 1.84s\n",
      "52:\tlearn: 0.4567164\ttotal: 102ms\tremaining: 1.81s\n",
      "53:\tlearn: 0.4514273\ttotal: 102ms\tremaining: 1.79s\n",
      "54:\tlearn: 0.4467660\ttotal: 103ms\tremaining: 1.77s\n",
      "55:\tlearn: 0.4421243\ttotal: 104ms\tremaining: 1.75s\n",
      "56:\tlearn: 0.4373159\ttotal: 104ms\tremaining: 1.73s\n",
      "57:\tlearn: 0.4328281\ttotal: 105ms\tremaining: 1.71s\n",
      "58:\tlearn: 0.4291245\ttotal: 106ms\tremaining: 1.69s\n",
      "59:\tlearn: 0.4257662\ttotal: 107ms\tremaining: 1.67s\n",
      "60:\tlearn: 0.4222069\ttotal: 107ms\tremaining: 1.65s\n"
     ]
    },
    {
     "name": "stdout",
     "output_type": "stream",
     "text": [
      "61:\tlearn: 0.4173775\ttotal: 108ms\tremaining: 1.64s\n",
      "62:\tlearn: 0.4130760\ttotal: 109ms\tremaining: 1.63s\n",
      "63:\tlearn: 0.4096734\ttotal: 110ms\tremaining: 1.61s\n",
      "64:\tlearn: 0.4052167\ttotal: 111ms\tremaining: 1.59s\n",
      "65:\tlearn: 0.4016682\ttotal: 112ms\tremaining: 1.58s\n",
      "66:\tlearn: 0.3987199\ttotal: 113ms\tremaining: 1.57s\n",
      "67:\tlearn: 0.3945904\ttotal: 113ms\tremaining: 1.55s\n",
      "68:\tlearn: 0.3909500\ttotal: 114ms\tremaining: 1.54s\n",
      "69:\tlearn: 0.3870439\ttotal: 115ms\tremaining: 1.53s\n",
      "70:\tlearn: 0.3833315\ttotal: 116ms\tremaining: 1.51s\n",
      "71:\tlearn: 0.3789276\ttotal: 117ms\tremaining: 1.5s\n",
      "72:\tlearn: 0.3746976\ttotal: 118ms\tremaining: 1.49s\n",
      "73:\tlearn: 0.3716429\ttotal: 118ms\tremaining: 1.48s\n",
      "74:\tlearn: 0.3689736\ttotal: 119ms\tremaining: 1.47s\n",
      "75:\tlearn: 0.3654589\ttotal: 120ms\tremaining: 1.46s\n",
      "76:\tlearn: 0.3626756\ttotal: 122ms\tremaining: 1.46s\n",
      "77:\tlearn: 0.3603229\ttotal: 122ms\tremaining: 1.45s\n",
      "78:\tlearn: 0.3577977\ttotal: 123ms\tremaining: 1.44s\n",
      "79:\tlearn: 0.3553262\ttotal: 124ms\tremaining: 1.43s\n",
      "80:\tlearn: 0.3531608\ttotal: 125ms\tremaining: 1.42s\n",
      "81:\tlearn: 0.3507551\ttotal: 126ms\tremaining: 1.41s\n",
      "82:\tlearn: 0.3491610\ttotal: 127ms\tremaining: 1.4s\n",
      "83:\tlearn: 0.3460696\ttotal: 127ms\tremaining: 1.39s\n",
      "84:\tlearn: 0.3436358\ttotal: 128ms\tremaining: 1.38s\n",
      "85:\tlearn: 0.3416564\ttotal: 129ms\tremaining: 1.37s\n",
      "86:\tlearn: 0.3396951\ttotal: 130ms\tremaining: 1.36s\n",
      "87:\tlearn: 0.3379203\ttotal: 131ms\tremaining: 1.36s\n",
      "88:\tlearn: 0.3354348\ttotal: 132ms\tremaining: 1.35s\n",
      "89:\tlearn: 0.3331037\ttotal: 133ms\tremaining: 1.34s\n",
      "90:\tlearn: 0.3318850\ttotal: 133ms\tremaining: 1.33s\n",
      "91:\tlearn: 0.3292875\ttotal: 134ms\tremaining: 1.32s\n",
      "92:\tlearn: 0.3272640\ttotal: 135ms\tremaining: 1.32s\n",
      "93:\tlearn: 0.3246162\ttotal: 136ms\tremaining: 1.31s\n",
      "94:\tlearn: 0.3225038\ttotal: 137ms\tremaining: 1.3s\n",
      "95:\tlearn: 0.3212835\ttotal: 138ms\tremaining: 1.29s\n",
      "96:\tlearn: 0.3198140\ttotal: 138ms\tremaining: 1.29s\n",
      "97:\tlearn: 0.3181798\ttotal: 139ms\tremaining: 1.28s\n",
      "98:\tlearn: 0.3166238\ttotal: 140ms\tremaining: 1.27s\n",
      "99:\tlearn: 0.3150048\ttotal: 141ms\tremaining: 1.26s\n",
      "100:\tlearn: 0.3137096\ttotal: 141ms\tremaining: 1.26s\n",
      "101:\tlearn: 0.3119572\ttotal: 142ms\tremaining: 1.25s\n",
      "102:\tlearn: 0.3104361\ttotal: 143ms\tremaining: 1.25s\n",
      "103:\tlearn: 0.3090347\ttotal: 144ms\tremaining: 1.24s\n",
      "104:\tlearn: 0.3076477\ttotal: 145ms\tremaining: 1.23s\n",
      "105:\tlearn: 0.3059838\ttotal: 146ms\tremaining: 1.23s\n",
      "106:\tlearn: 0.3043661\ttotal: 146ms\tremaining: 1.22s\n",
      "107:\tlearn: 0.3033898\ttotal: 147ms\tremaining: 1.22s\n",
      "108:\tlearn: 0.3019932\ttotal: 148ms\tremaining: 1.21s\n",
      "109:\tlearn: 0.3013763\ttotal: 149ms\tremaining: 1.21s\n",
      "110:\tlearn: 0.2999166\ttotal: 150ms\tremaining: 1.2s\n",
      "111:\tlearn: 0.2985313\ttotal: 151ms\tremaining: 1.2s\n",
      "112:\tlearn: 0.2970360\ttotal: 152ms\tremaining: 1.19s\n",
      "113:\tlearn: 0.2955994\ttotal: 153ms\tremaining: 1.19s\n",
      "114:\tlearn: 0.2944490\ttotal: 153ms\tremaining: 1.18s\n",
      "115:\tlearn: 0.2939510\ttotal: 154ms\tremaining: 1.17s\n",
      "116:\tlearn: 0.2922821\ttotal: 155ms\tremaining: 1.17s\n",
      "117:\tlearn: 0.2908267\ttotal: 156ms\tremaining: 1.16s\n",
      "118:\tlearn: 0.2897896\ttotal: 157ms\tremaining: 1.16s\n",
      "119:\tlearn: 0.2887224\ttotal: 157ms\tremaining: 1.15s\n",
      "120:\tlearn: 0.2873771\ttotal: 158ms\tremaining: 1.15s\n",
      "121:\tlearn: 0.2864376\ttotal: 159ms\tremaining: 1.14s\n",
      "122:\tlearn: 0.2852938\ttotal: 160ms\tremaining: 1.14s\n",
      "123:\tlearn: 0.2839768\ttotal: 161ms\tremaining: 1.14s\n",
      "124:\tlearn: 0.2834873\ttotal: 162ms\tremaining: 1.13s\n",
      "125:\tlearn: 0.2823277\ttotal: 162ms\tremaining: 1.13s\n",
      "126:\tlearn: 0.2809920\ttotal: 163ms\tremaining: 1.12s\n",
      "127:\tlearn: 0.2800115\ttotal: 164ms\tremaining: 1.12s\n",
      "128:\tlearn: 0.2785186\ttotal: 165ms\tremaining: 1.11s\n",
      "129:\tlearn: 0.2777709\ttotal: 166ms\tremaining: 1.11s\n",
      "130:\tlearn: 0.2766552\ttotal: 166ms\tremaining: 1.1s\n",
      "131:\tlearn: 0.2753826\ttotal: 167ms\tremaining: 1.1s\n",
      "132:\tlearn: 0.2744761\ttotal: 168ms\tremaining: 1.09s\n",
      "133:\tlearn: 0.2736505\ttotal: 169ms\tremaining: 1.09s\n",
      "134:\tlearn: 0.2725390\ttotal: 170ms\tremaining: 1.09s\n",
      "135:\tlearn: 0.2718787\ttotal: 170ms\tremaining: 1.08s\n",
      "136:\tlearn: 0.2710797\ttotal: 171ms\tremaining: 1.08s\n",
      "137:\tlearn: 0.2698248\ttotal: 172ms\tremaining: 1.07s\n",
      "138:\tlearn: 0.2683840\ttotal: 173ms\tremaining: 1.07s\n",
      "139:\tlearn: 0.2676989\ttotal: 173ms\tremaining: 1.06s\n",
      "140:\tlearn: 0.2667810\ttotal: 174ms\tremaining: 1.06s\n",
      "141:\tlearn: 0.2661839\ttotal: 175ms\tremaining: 1.06s\n",
      "142:\tlearn: 0.2657081\ttotal: 176ms\tremaining: 1.05s\n",
      "143:\tlearn: 0.2648604\ttotal: 177ms\tremaining: 1.05s\n",
      "144:\tlearn: 0.2640500\ttotal: 177ms\tremaining: 1.04s\n",
      "145:\tlearn: 0.2631470\ttotal: 178ms\tremaining: 1.04s\n",
      "146:\tlearn: 0.2621337\ttotal: 179ms\tremaining: 1.04s\n",
      "147:\tlearn: 0.2614497\ttotal: 180ms\tremaining: 1.03s\n",
      "148:\tlearn: 0.2606287\ttotal: 181ms\tremaining: 1.03s\n",
      "149:\tlearn: 0.2598485\ttotal: 181ms\tremaining: 1.03s\n",
      "150:\tlearn: 0.2592439\ttotal: 182ms\tremaining: 1.02s\n",
      "151:\tlearn: 0.2585821\ttotal: 183ms\tremaining: 1.02s\n",
      "152:\tlearn: 0.2579120\ttotal: 184ms\tremaining: 1.02s\n",
      "153:\tlearn: 0.2573308\ttotal: 184ms\tremaining: 1.01s\n",
      "154:\tlearn: 0.2566855\ttotal: 185ms\tremaining: 1.01s\n",
      "155:\tlearn: 0.2556063\ttotal: 186ms\tremaining: 1.01s\n",
      "156:\tlearn: 0.2548615\ttotal: 187ms\tremaining: 1s\n",
      "157:\tlearn: 0.2543798\ttotal: 188ms\tremaining: 1s\n",
      "158:\tlearn: 0.2538684\ttotal: 188ms\tremaining: 997ms\n",
      "159:\tlearn: 0.2531488\ttotal: 189ms\tremaining: 993ms\n",
      "160:\tlearn: 0.2521547\ttotal: 190ms\tremaining: 990ms\n",
      "161:\tlearn: 0.2520069\ttotal: 191ms\tremaining: 987ms\n"
     ]
    },
    {
     "name": "stdout",
     "output_type": "stream",
     "text": [
      "162:\tlearn: 0.2514994\ttotal: 192ms\tremaining: 985ms\n",
      "163:\tlearn: 0.2506030\ttotal: 193ms\tremaining: 983ms\n",
      "164:\tlearn: 0.2498088\ttotal: 194ms\tremaining: 980ms\n",
      "165:\tlearn: 0.2494623\ttotal: 194ms\tremaining: 977ms\n",
      "166:\tlearn: 0.2489322\ttotal: 195ms\tremaining: 973ms\n",
      "167:\tlearn: 0.2485248\ttotal: 196ms\tremaining: 971ms\n",
      "168:\tlearn: 0.2482177\ttotal: 197ms\tremaining: 968ms\n",
      "169:\tlearn: 0.2477346\ttotal: 198ms\tremaining: 965ms\n",
      "170:\tlearn: 0.2472920\ttotal: 199ms\tremaining: 963ms\n",
      "171:\tlearn: 0.2467404\ttotal: 199ms\tremaining: 960ms\n",
      "172:\tlearn: 0.2459825\ttotal: 200ms\tremaining: 957ms\n",
      "173:\tlearn: 0.2452816\ttotal: 201ms\tremaining: 955ms\n",
      "174:\tlearn: 0.2448512\ttotal: 202ms\tremaining: 952ms\n",
      "175:\tlearn: 0.2446455\ttotal: 203ms\tremaining: 949ms\n",
      "176:\tlearn: 0.2442098\ttotal: 204ms\tremaining: 947ms\n",
      "177:\tlearn: 0.2438113\ttotal: 204ms\tremaining: 944ms\n",
      "178:\tlearn: 0.2434465\ttotal: 205ms\tremaining: 941ms\n",
      "179:\tlearn: 0.2430103\ttotal: 206ms\tremaining: 938ms\n",
      "180:\tlearn: 0.2421690\ttotal: 207ms\tremaining: 935ms\n",
      "181:\tlearn: 0.2415369\ttotal: 207ms\tremaining: 932ms\n",
      "182:\tlearn: 0.2412663\ttotal: 208ms\tremaining: 930ms\n",
      "183:\tlearn: 0.2409950\ttotal: 209ms\tremaining: 927ms\n",
      "184:\tlearn: 0.2406471\ttotal: 210ms\tremaining: 925ms\n",
      "185:\tlearn: 0.2401341\ttotal: 211ms\tremaining: 922ms\n",
      "186:\tlearn: 0.2396376\ttotal: 212ms\tremaining: 920ms\n",
      "187:\tlearn: 0.2390547\ttotal: 212ms\tremaining: 917ms\n",
      "188:\tlearn: 0.2382172\ttotal: 213ms\tremaining: 915ms\n",
      "189:\tlearn: 0.2378634\ttotal: 214ms\tremaining: 912ms\n",
      "190:\tlearn: 0.2370631\ttotal: 215ms\tremaining: 909ms\n",
      "191:\tlearn: 0.2362717\ttotal: 215ms\tremaining: 906ms\n",
      "192:\tlearn: 0.2355956\ttotal: 216ms\tremaining: 905ms\n",
      "193:\tlearn: 0.2349436\ttotal: 217ms\tremaining: 902ms\n",
      "194:\tlearn: 0.2343319\ttotal: 218ms\tremaining: 900ms\n",
      "195:\tlearn: 0.2335576\ttotal: 219ms\tremaining: 898ms\n",
      "196:\tlearn: 0.2331603\ttotal: 220ms\tremaining: 895ms\n",
      "197:\tlearn: 0.2327305\ttotal: 220ms\tremaining: 892ms\n",
      "198:\tlearn: 0.2323786\ttotal: 221ms\tremaining: 890ms\n",
      "199:\tlearn: 0.2318377\ttotal: 222ms\tremaining: 888ms\n",
      "200:\tlearn: 0.2311803\ttotal: 223ms\tremaining: 886ms\n",
      "201:\tlearn: 0.2307642\ttotal: 224ms\tremaining: 883ms\n",
      "202:\tlearn: 0.2301999\ttotal: 224ms\tremaining: 880ms\n",
      "203:\tlearn: 0.2297116\ttotal: 225ms\tremaining: 878ms\n",
      "204:\tlearn: 0.2291174\ttotal: 226ms\tremaining: 876ms\n",
      "205:\tlearn: 0.2285416\ttotal: 227ms\tremaining: 874ms\n",
      "206:\tlearn: 0.2279440\ttotal: 228ms\tremaining: 872ms\n",
      "207:\tlearn: 0.2273532\ttotal: 228ms\tremaining: 870ms\n",
      "208:\tlearn: 0.2271923\ttotal: 229ms\tremaining: 867ms\n",
      "209:\tlearn: 0.2266023\ttotal: 230ms\tremaining: 865ms\n",
      "210:\tlearn: 0.2263679\ttotal: 231ms\tremaining: 863ms\n",
      "211:\tlearn: 0.2260449\ttotal: 231ms\tremaining: 860ms\n",
      "212:\tlearn: 0.2252582\ttotal: 232ms\tremaining: 858ms\n",
      "213:\tlearn: 0.2246631\ttotal: 233ms\tremaining: 856ms\n",
      "214:\tlearn: 0.2240366\ttotal: 234ms\tremaining: 854ms\n",
      "215:\tlearn: 0.2235755\ttotal: 235ms\tremaining: 852ms\n",
      "216:\tlearn: 0.2231676\ttotal: 236ms\tremaining: 850ms\n",
      "217:\tlearn: 0.2228271\ttotal: 236ms\tremaining: 848ms\n",
      "218:\tlearn: 0.2223863\ttotal: 237ms\tremaining: 846ms\n",
      "219:\tlearn: 0.2218784\ttotal: 238ms\tremaining: 844ms\n",
      "220:\tlearn: 0.2214597\ttotal: 239ms\tremaining: 843ms\n",
      "221:\tlearn: 0.2210656\ttotal: 240ms\tremaining: 841ms\n",
      "222:\tlearn: 0.2206931\ttotal: 241ms\tremaining: 839ms\n",
      "223:\tlearn: 0.2201184\ttotal: 242ms\tremaining: 837ms\n",
      "224:\tlearn: 0.2194699\ttotal: 242ms\tremaining: 835ms\n",
      "225:\tlearn: 0.2192266\ttotal: 243ms\tremaining: 833ms\n",
      "226:\tlearn: 0.2189872\ttotal: 244ms\tremaining: 831ms\n",
      "227:\tlearn: 0.2184716\ttotal: 245ms\tremaining: 829ms\n",
      "228:\tlearn: 0.2180435\ttotal: 246ms\tremaining: 827ms\n",
      "229:\tlearn: 0.2178692\ttotal: 246ms\tremaining: 825ms\n",
      "230:\tlearn: 0.2177252\ttotal: 247ms\tremaining: 823ms\n",
      "231:\tlearn: 0.2173161\ttotal: 248ms\tremaining: 821ms\n",
      "232:\tlearn: 0.2168010\ttotal: 249ms\tremaining: 819ms\n",
      "233:\tlearn: 0.2163814\ttotal: 250ms\tremaining: 817ms\n",
      "234:\tlearn: 0.2160814\ttotal: 250ms\tremaining: 815ms\n",
      "235:\tlearn: 0.2156694\ttotal: 251ms\tremaining: 813ms\n",
      "236:\tlearn: 0.2154719\ttotal: 252ms\tremaining: 812ms\n",
      "237:\tlearn: 0.2150681\ttotal: 253ms\tremaining: 811ms\n",
      "238:\tlearn: 0.2145876\ttotal: 254ms\tremaining: 809ms\n",
      "239:\tlearn: 0.2141528\ttotal: 255ms\tremaining: 807ms\n",
      "240:\tlearn: 0.2137013\ttotal: 256ms\tremaining: 805ms\n",
      "241:\tlearn: 0.2135449\ttotal: 257ms\tremaining: 804ms\n",
      "242:\tlearn: 0.2131164\ttotal: 257ms\tremaining: 802ms\n",
      "243:\tlearn: 0.2126785\ttotal: 258ms\tremaining: 800ms\n",
      "244:\tlearn: 0.2125411\ttotal: 259ms\tremaining: 798ms\n",
      "245:\tlearn: 0.2123815\ttotal: 260ms\tremaining: 797ms\n",
      "246:\tlearn: 0.2120966\ttotal: 261ms\tremaining: 795ms\n",
      "247:\tlearn: 0.2118371\ttotal: 262ms\tremaining: 793ms\n",
      "248:\tlearn: 0.2117118\ttotal: 262ms\tremaining: 791ms\n",
      "249:\tlearn: 0.2112918\ttotal: 263ms\tremaining: 789ms\n",
      "250:\tlearn: 0.2110020\ttotal: 264ms\tremaining: 788ms\n",
      "251:\tlearn: 0.2106164\ttotal: 265ms\tremaining: 786ms\n",
      "252:\tlearn: 0.2101784\ttotal: 266ms\tremaining: 784ms\n",
      "253:\tlearn: 0.2098883\ttotal: 266ms\tremaining: 782ms\n",
      "254:\tlearn: 0.2093565\ttotal: 267ms\tremaining: 781ms\n",
      "255:\tlearn: 0.2089548\ttotal: 268ms\tremaining: 779ms\n",
      "256:\tlearn: 0.2084718\ttotal: 269ms\tremaining: 777ms\n",
      "257:\tlearn: 0.2080435\ttotal: 270ms\tremaining: 775ms\n",
      "258:\tlearn: 0.2073981\ttotal: 270ms\tremaining: 774ms\n",
      "259:\tlearn: 0.2068190\ttotal: 271ms\tremaining: 772ms\n",
      "260:\tlearn: 0.2063119\ttotal: 272ms\tremaining: 770ms\n",
      "261:\tlearn: 0.2058328\ttotal: 273ms\tremaining: 768ms\n",
      "262:\tlearn: 0.2054883\ttotal: 274ms\tremaining: 767ms\n",
      "263:\tlearn: 0.2049471\ttotal: 274ms\tremaining: 765ms\n",
      "264:\tlearn: 0.2045622\ttotal: 275ms\tremaining: 763ms\n",
      "265:\tlearn: 0.2041520\ttotal: 276ms\tremaining: 762ms\n",
      "266:\tlearn: 0.2040022\ttotal: 277ms\tremaining: 761ms\n",
      "267:\tlearn: 0.2037128\ttotal: 278ms\tremaining: 759ms\n",
      "268:\tlearn: 0.2034529\ttotal: 279ms\tremaining: 757ms\n",
      "269:\tlearn: 0.2031123\ttotal: 280ms\tremaining: 756ms\n",
      "270:\tlearn: 0.2027649\ttotal: 280ms\tremaining: 754ms\n",
      "271:\tlearn: 0.2023277\ttotal: 281ms\tremaining: 753ms\n",
      "272:\tlearn: 0.2021556\ttotal: 283ms\tremaining: 753ms\n",
      "273:\tlearn: 0.2019696\ttotal: 283ms\tremaining: 751ms\n",
      "274:\tlearn: 0.2015386\ttotal: 284ms\tremaining: 750ms\n",
      "275:\tlearn: 0.2011378\ttotal: 285ms\tremaining: 748ms\n",
      "276:\tlearn: 0.2006436\ttotal: 286ms\tremaining: 746ms\n",
      "277:\tlearn: 0.2000911\ttotal: 287ms\tremaining: 744ms\n",
      "278:\tlearn: 0.1996686\ttotal: 287ms\tremaining: 743ms\n",
      "279:\tlearn: 0.1995795\ttotal: 288ms\tremaining: 741ms\n",
      "280:\tlearn: 0.1992137\ttotal: 289ms\tremaining: 740ms\n",
      "281:\tlearn: 0.1988798\ttotal: 290ms\tremaining: 738ms\n",
      "282:\tlearn: 0.1984110\ttotal: 291ms\tremaining: 736ms\n",
      "283:\tlearn: 0.1977749\ttotal: 291ms\tremaining: 735ms\n",
      "284:\tlearn: 0.1975345\ttotal: 292ms\tremaining: 733ms\n",
      "285:\tlearn: 0.1970902\ttotal: 293ms\tremaining: 731ms\n",
      "286:\tlearn: 0.1967561\ttotal: 294ms\tremaining: 730ms\n",
      "287:\tlearn: 0.1965708\ttotal: 295ms\tremaining: 728ms\n",
      "288:\tlearn: 0.1964444\ttotal: 295ms\tremaining: 727ms\n",
      "289:\tlearn: 0.1960596\ttotal: 296ms\tremaining: 725ms\n",
      "290:\tlearn: 0.1958454\ttotal: 297ms\tremaining: 724ms\n",
      "291:\tlearn: 0.1955359\ttotal: 298ms\tremaining: 722ms\n"
     ]
    },
    {
     "name": "stdout",
     "output_type": "stream",
     "text": [
      "292:\tlearn: 0.1952148\ttotal: 299ms\tremaining: 721ms\n",
      "293:\tlearn: 0.1949021\ttotal: 300ms\tremaining: 720ms\n",
      "294:\tlearn: 0.1944669\ttotal: 301ms\tremaining: 719ms\n",
      "295:\tlearn: 0.1940889\ttotal: 302ms\tremaining: 717ms\n",
      "296:\tlearn: 0.1937349\ttotal: 303ms\tremaining: 716ms\n",
      "297:\tlearn: 0.1932732\ttotal: 304ms\tremaining: 715ms\n",
      "298:\tlearn: 0.1929379\ttotal: 304ms\tremaining: 714ms\n",
      "299:\tlearn: 0.1925780\ttotal: 305ms\tremaining: 712ms\n",
      "300:\tlearn: 0.1922175\ttotal: 306ms\tremaining: 711ms\n",
      "301:\tlearn: 0.1916635\ttotal: 307ms\tremaining: 709ms\n",
      "302:\tlearn: 0.1913724\ttotal: 308ms\tremaining: 708ms\n",
      "303:\tlearn: 0.1910065\ttotal: 309ms\tremaining: 706ms\n",
      "304:\tlearn: 0.1906849\ttotal: 309ms\tremaining: 705ms\n",
      "305:\tlearn: 0.1903910\ttotal: 310ms\tremaining: 704ms\n",
      "306:\tlearn: 0.1899455\ttotal: 311ms\tremaining: 702ms\n",
      "307:\tlearn: 0.1894116\ttotal: 312ms\tremaining: 700ms\n",
      "308:\tlearn: 0.1889811\ttotal: 313ms\tremaining: 699ms\n",
      "309:\tlearn: 0.1886556\ttotal: 313ms\tremaining: 697ms\n",
      "310:\tlearn: 0.1881464\ttotal: 314ms\tremaining: 696ms\n",
      "311:\tlearn: 0.1878328\ttotal: 315ms\tremaining: 694ms\n",
      "312:\tlearn: 0.1874691\ttotal: 316ms\tremaining: 693ms\n",
      "313:\tlearn: 0.1870248\ttotal: 317ms\tremaining: 692ms\n",
      "314:\tlearn: 0.1868312\ttotal: 317ms\tremaining: 690ms\n",
      "315:\tlearn: 0.1863418\ttotal: 318ms\tremaining: 689ms\n",
      "316:\tlearn: 0.1857184\ttotal: 319ms\tremaining: 688ms\n",
      "317:\tlearn: 0.1851694\ttotal: 320ms\tremaining: 686ms\n",
      "318:\tlearn: 0.1846468\ttotal: 321ms\tremaining: 685ms\n",
      "319:\tlearn: 0.1841225\ttotal: 322ms\tremaining: 683ms\n",
      "320:\tlearn: 0.1838653\ttotal: 323ms\tremaining: 682ms\n",
      "321:\tlearn: 0.1833802\ttotal: 323ms\tremaining: 681ms\n",
      "322:\tlearn: 0.1830288\ttotal: 324ms\tremaining: 679ms\n",
      "323:\tlearn: 0.1826311\ttotal: 325ms\tremaining: 678ms\n",
      "324:\tlearn: 0.1822789\ttotal: 326ms\tremaining: 677ms\n",
      "325:\tlearn: 0.1819337\ttotal: 327ms\tremaining: 675ms\n",
      "326:\tlearn: 0.1816031\ttotal: 328ms\tremaining: 674ms\n",
      "327:\tlearn: 0.1812662\ttotal: 328ms\tremaining: 673ms\n",
      "328:\tlearn: 0.1808938\ttotal: 329ms\tremaining: 671ms\n",
      "329:\tlearn: 0.1805821\ttotal: 330ms\tremaining: 670ms\n",
      "330:\tlearn: 0.1804083\ttotal: 331ms\tremaining: 669ms\n",
      "331:\tlearn: 0.1800778\ttotal: 332ms\tremaining: 667ms\n",
      "332:\tlearn: 0.1797228\ttotal: 333ms\tremaining: 666ms\n",
      "333:\tlearn: 0.1792548\ttotal: 333ms\tremaining: 665ms\n",
      "334:\tlearn: 0.1789907\ttotal: 334ms\tremaining: 663ms\n",
      "335:\tlearn: 0.1786653\ttotal: 336ms\tremaining: 663ms\n",
      "336:\tlearn: 0.1783129\ttotal: 336ms\tremaining: 662ms\n",
      "337:\tlearn: 0.1780361\ttotal: 337ms\tremaining: 661ms\n",
      "338:\tlearn: 0.1777243\ttotal: 338ms\tremaining: 660ms\n",
      "339:\tlearn: 0.1773837\ttotal: 339ms\tremaining: 658ms\n",
      "340:\tlearn: 0.1770277\ttotal: 340ms\tremaining: 656ms\n",
      "341:\tlearn: 0.1765906\ttotal: 341ms\tremaining: 655ms\n",
      "342:\tlearn: 0.1761538\ttotal: 341ms\tremaining: 654ms\n",
      "343:\tlearn: 0.1757768\ttotal: 342ms\tremaining: 653ms\n",
      "344:\tlearn: 0.1755673\ttotal: 343ms\tremaining: 651ms\n",
      "345:\tlearn: 0.1752461\ttotal: 344ms\tremaining: 650ms\n",
      "346:\tlearn: 0.1749405\ttotal: 345ms\tremaining: 649ms\n",
      "347:\tlearn: 0.1745518\ttotal: 346ms\tremaining: 647ms\n",
      "348:\tlearn: 0.1740946\ttotal: 346ms\tremaining: 646ms\n",
      "349:\tlearn: 0.1738694\ttotal: 347ms\tremaining: 645ms\n",
      "350:\tlearn: 0.1735663\ttotal: 348ms\tremaining: 644ms\n",
      "351:\tlearn: 0.1731485\ttotal: 349ms\tremaining: 642ms\n",
      "352:\tlearn: 0.1728062\ttotal: 350ms\tremaining: 641ms\n",
      "353:\tlearn: 0.1724354\ttotal: 350ms\tremaining: 640ms\n",
      "354:\tlearn: 0.1721263\ttotal: 351ms\tremaining: 638ms\n",
      "355:\tlearn: 0.1720060\ttotal: 352ms\tremaining: 637ms\n",
      "356:\tlearn: 0.1715585\ttotal: 353ms\tremaining: 636ms\n",
      "357:\tlearn: 0.1714648\ttotal: 354ms\tremaining: 635ms\n",
      "358:\tlearn: 0.1711079\ttotal: 355ms\tremaining: 634ms\n",
      "359:\tlearn: 0.1706486\ttotal: 356ms\tremaining: 632ms\n",
      "360:\tlearn: 0.1701606\ttotal: 356ms\tremaining: 631ms\n",
      "361:\tlearn: 0.1698152\ttotal: 357ms\tremaining: 630ms\n",
      "362:\tlearn: 0.1695286\ttotal: 358ms\tremaining: 628ms\n",
      "363:\tlearn: 0.1689870\ttotal: 359ms\tremaining: 627ms\n",
      "364:\tlearn: 0.1685714\ttotal: 360ms\tremaining: 626ms\n",
      "365:\tlearn: 0.1682274\ttotal: 361ms\tremaining: 625ms\n",
      "366:\tlearn: 0.1681440\ttotal: 361ms\tremaining: 623ms\n",
      "367:\tlearn: 0.1677307\ttotal: 362ms\tremaining: 622ms\n",
      "368:\tlearn: 0.1674529\ttotal: 363ms\tremaining: 621ms\n",
      "369:\tlearn: 0.1673125\ttotal: 364ms\tremaining: 620ms\n",
      "370:\tlearn: 0.1669230\ttotal: 365ms\tremaining: 618ms\n",
      "371:\tlearn: 0.1664613\ttotal: 365ms\tremaining: 617ms\n",
      "372:\tlearn: 0.1660748\ttotal: 366ms\tremaining: 616ms\n",
      "373:\tlearn: 0.1656622\ttotal: 367ms\tremaining: 615ms\n",
      "374:\tlearn: 0.1653086\ttotal: 368ms\tremaining: 613ms\n",
      "375:\tlearn: 0.1651613\ttotal: 369ms\tremaining: 612ms\n",
      "376:\tlearn: 0.1648315\ttotal: 370ms\tremaining: 611ms\n",
      "377:\tlearn: 0.1647523\ttotal: 370ms\tremaining: 609ms\n",
      "378:\tlearn: 0.1647005\ttotal: 371ms\tremaining: 608ms\n",
      "379:\tlearn: 0.1646106\ttotal: 372ms\tremaining: 607ms\n",
      "380:\tlearn: 0.1642437\ttotal: 373ms\tremaining: 605ms\n",
      "381:\tlearn: 0.1639398\ttotal: 374ms\tremaining: 604ms\n",
      "382:\tlearn: 0.1635780\ttotal: 374ms\tremaining: 603ms\n",
      "383:\tlearn: 0.1634667\ttotal: 375ms\tremaining: 602ms\n",
      "384:\tlearn: 0.1630352\ttotal: 377ms\tremaining: 602ms\n",
      "385:\tlearn: 0.1626904\ttotal: 378ms\tremaining: 602ms\n",
      "386:\tlearn: 0.1622732\ttotal: 379ms\tremaining: 600ms\n",
      "387:\tlearn: 0.1620756\ttotal: 380ms\tremaining: 599ms\n",
      "388:\tlearn: 0.1616795\ttotal: 381ms\tremaining: 598ms\n",
      "389:\tlearn: 0.1613743\ttotal: 382ms\tremaining: 597ms\n"
     ]
    },
    {
     "name": "stdout",
     "output_type": "stream",
     "text": [
      "390:\tlearn: 0.1609509\ttotal: 383ms\tremaining: 596ms\n",
      "391:\tlearn: 0.1607504\ttotal: 383ms\tremaining: 595ms\n",
      "392:\tlearn: 0.1603844\ttotal: 384ms\tremaining: 594ms\n",
      "393:\tlearn: 0.1601921\ttotal: 385ms\tremaining: 593ms\n",
      "394:\tlearn: 0.1598167\ttotal: 386ms\tremaining: 592ms\n",
      "395:\tlearn: 0.1594836\ttotal: 387ms\tremaining: 590ms\n",
      "396:\tlearn: 0.1592367\ttotal: 388ms\tremaining: 589ms\n",
      "397:\tlearn: 0.1589178\ttotal: 389ms\tremaining: 588ms\n",
      "398:\tlearn: 0.1585768\ttotal: 389ms\tremaining: 587ms\n",
      "399:\tlearn: 0.1581150\ttotal: 390ms\tremaining: 585ms\n",
      "400:\tlearn: 0.1578779\ttotal: 391ms\tremaining: 584ms\n",
      "401:\tlearn: 0.1574645\ttotal: 392ms\tremaining: 583ms\n",
      "402:\tlearn: 0.1571608\ttotal: 393ms\tremaining: 582ms\n",
      "403:\tlearn: 0.1569448\ttotal: 394ms\tremaining: 581ms\n",
      "404:\tlearn: 0.1566364\ttotal: 394ms\tremaining: 579ms\n",
      "405:\tlearn: 0.1563179\ttotal: 395ms\tremaining: 578ms\n",
      "406:\tlearn: 0.1560602\ttotal: 396ms\tremaining: 577ms\n",
      "407:\tlearn: 0.1557649\ttotal: 397ms\tremaining: 576ms\n",
      "408:\tlearn: 0.1554574\ttotal: 398ms\tremaining: 575ms\n",
      "409:\tlearn: 0.1553633\ttotal: 398ms\tremaining: 573ms\n",
      "410:\tlearn: 0.1552924\ttotal: 399ms\tremaining: 572ms\n",
      "411:\tlearn: 0.1549576\ttotal: 400ms\tremaining: 571ms\n",
      "412:\tlearn: 0.1548858\ttotal: 401ms\tremaining: 570ms\n",
      "413:\tlearn: 0.1544601\ttotal: 402ms\tremaining: 569ms\n",
      "414:\tlearn: 0.1541955\ttotal: 402ms\tremaining: 567ms\n",
      "415:\tlearn: 0.1539213\ttotal: 403ms\tremaining: 566ms\n",
      "416:\tlearn: 0.1536304\ttotal: 404ms\tremaining: 565ms\n",
      "417:\tlearn: 0.1533569\ttotal: 405ms\tremaining: 564ms\n",
      "418:\tlearn: 0.1530027\ttotal: 406ms\tremaining: 563ms\n",
      "419:\tlearn: 0.1527340\ttotal: 407ms\tremaining: 562ms\n",
      "420:\tlearn: 0.1524434\ttotal: 408ms\tremaining: 561ms\n",
      "421:\tlearn: 0.1523539\ttotal: 409ms\tremaining: 560ms\n",
      "422:\tlearn: 0.1520935\ttotal: 409ms\tremaining: 558ms\n",
      "423:\tlearn: 0.1517928\ttotal: 410ms\tremaining: 557ms\n",
      "424:\tlearn: 0.1515234\ttotal: 411ms\tremaining: 556ms\n",
      "425:\tlearn: 0.1512271\ttotal: 412ms\tremaining: 556ms\n",
      "426:\tlearn: 0.1509881\ttotal: 413ms\tremaining: 555ms\n",
      "427:\tlearn: 0.1505512\ttotal: 414ms\tremaining: 553ms\n",
      "428:\tlearn: 0.1503483\ttotal: 415ms\tremaining: 552ms\n",
      "429:\tlearn: 0.1500367\ttotal: 416ms\tremaining: 551ms\n",
      "430:\tlearn: 0.1496647\ttotal: 416ms\tremaining: 550ms\n",
      "431:\tlearn: 0.1493326\ttotal: 417ms\tremaining: 549ms\n",
      "432:\tlearn: 0.1488986\ttotal: 418ms\tremaining: 547ms\n",
      "433:\tlearn: 0.1484138\ttotal: 419ms\tremaining: 546ms\n",
      "434:\tlearn: 0.1480614\ttotal: 420ms\tremaining: 545ms\n",
      "435:\tlearn: 0.1477174\ttotal: 421ms\tremaining: 544ms\n",
      "436:\tlearn: 0.1473910\ttotal: 421ms\tremaining: 543ms\n",
      "437:\tlearn: 0.1470962\ttotal: 422ms\tremaining: 542ms\n",
      "438:\tlearn: 0.1467747\ttotal: 423ms\tremaining: 541ms\n",
      "439:\tlearn: 0.1464947\ttotal: 424ms\tremaining: 540ms\n",
      "440:\tlearn: 0.1461890\ttotal: 425ms\tremaining: 539ms\n",
      "441:\tlearn: 0.1459624\ttotal: 426ms\tremaining: 538ms\n",
      "442:\tlearn: 0.1458186\ttotal: 427ms\tremaining: 537ms\n",
      "443:\tlearn: 0.1454670\ttotal: 428ms\tremaining: 535ms\n",
      "444:\tlearn: 0.1451677\ttotal: 428ms\tremaining: 534ms\n",
      "445:\tlearn: 0.1447990\ttotal: 429ms\tremaining: 533ms\n",
      "446:\tlearn: 0.1445956\ttotal: 430ms\tremaining: 532ms\n",
      "447:\tlearn: 0.1442404\ttotal: 431ms\tremaining: 531ms\n",
      "448:\tlearn: 0.1439627\ttotal: 432ms\tremaining: 530ms\n",
      "449:\tlearn: 0.1435966\ttotal: 433ms\tremaining: 529ms\n",
      "450:\tlearn: 0.1433047\ttotal: 433ms\tremaining: 528ms\n",
      "451:\tlearn: 0.1429726\ttotal: 434ms\tremaining: 526ms\n",
      "452:\tlearn: 0.1426619\ttotal: 435ms\tremaining: 525ms\n",
      "453:\tlearn: 0.1423144\ttotal: 436ms\tremaining: 524ms\n",
      "454:\tlearn: 0.1420679\ttotal: 437ms\tremaining: 523ms\n",
      "455:\tlearn: 0.1417928\ttotal: 437ms\tremaining: 522ms\n",
      "456:\tlearn: 0.1415292\ttotal: 438ms\tremaining: 521ms\n",
      "457:\tlearn: 0.1414905\ttotal: 439ms\tremaining: 520ms\n",
      "458:\tlearn: 0.1412390\ttotal: 440ms\tremaining: 519ms\n",
      "459:\tlearn: 0.1410115\ttotal: 441ms\tremaining: 518ms\n",
      "460:\tlearn: 0.1409628\ttotal: 442ms\tremaining: 517ms\n",
      "461:\tlearn: 0.1406226\ttotal: 443ms\tremaining: 515ms\n",
      "462:\tlearn: 0.1403931\ttotal: 444ms\tremaining: 515ms\n",
      "463:\tlearn: 0.1401495\ttotal: 445ms\tremaining: 514ms\n",
      "464:\tlearn: 0.1401273\ttotal: 445ms\tremaining: 512ms\n",
      "465:\tlearn: 0.1398186\ttotal: 446ms\tremaining: 511ms\n",
      "466:\tlearn: 0.1395371\ttotal: 447ms\tremaining: 510ms\n",
      "467:\tlearn: 0.1392748\ttotal: 448ms\tremaining: 509ms\n",
      "468:\tlearn: 0.1391694\ttotal: 449ms\tremaining: 508ms\n",
      "469:\tlearn: 0.1389673\ttotal: 450ms\tremaining: 507ms\n",
      "470:\tlearn: 0.1388371\ttotal: 451ms\tremaining: 506ms\n",
      "471:\tlearn: 0.1384428\ttotal: 451ms\tremaining: 505ms\n",
      "472:\tlearn: 0.1383984\ttotal: 452ms\tremaining: 504ms\n",
      "473:\tlearn: 0.1382347\ttotal: 453ms\tremaining: 503ms\n",
      "474:\tlearn: 0.1381720\ttotal: 454ms\tremaining: 502ms\n",
      "475:\tlearn: 0.1380717\ttotal: 455ms\tremaining: 500ms\n",
      "476:\tlearn: 0.1377234\ttotal: 455ms\tremaining: 499ms\n",
      "477:\tlearn: 0.1373854\ttotal: 456ms\tremaining: 498ms\n",
      "478:\tlearn: 0.1370126\ttotal: 457ms\tremaining: 497ms\n",
      "479:\tlearn: 0.1367371\ttotal: 458ms\tremaining: 496ms\n",
      "480:\tlearn: 0.1366904\ttotal: 459ms\tremaining: 495ms\n",
      "481:\tlearn: 0.1364583\ttotal: 460ms\tremaining: 494ms\n",
      "482:\tlearn: 0.1360959\ttotal: 460ms\tremaining: 493ms\n",
      "483:\tlearn: 0.1360348\ttotal: 461ms\tremaining: 492ms\n",
      "484:\tlearn: 0.1357877\ttotal: 462ms\tremaining: 491ms\n",
      "485:\tlearn: 0.1356125\ttotal: 463ms\tremaining: 489ms\n",
      "486:\tlearn: 0.1354421\ttotal: 463ms\tremaining: 488ms\n",
      "487:\tlearn: 0.1351751\ttotal: 464ms\tremaining: 487ms\n",
      "488:\tlearn: 0.1348217\ttotal: 465ms\tremaining: 486ms\n",
      "489:\tlearn: 0.1346138\ttotal: 466ms\tremaining: 485ms\n",
      "490:\tlearn: 0.1345737\ttotal: 467ms\tremaining: 484ms\n",
      "491:\tlearn: 0.1342337\ttotal: 468ms\tremaining: 483ms\n",
      "492:\tlearn: 0.1341021\ttotal: 468ms\tremaining: 482ms\n",
      "493:\tlearn: 0.1338435\ttotal: 469ms\tremaining: 480ms\n",
      "494:\tlearn: 0.1334849\ttotal: 470ms\tremaining: 479ms\n",
      "495:\tlearn: 0.1331976\ttotal: 471ms\tremaining: 478ms\n",
      "496:\tlearn: 0.1331529\ttotal: 472ms\tremaining: 477ms\n",
      "497:\tlearn: 0.1331127\ttotal: 473ms\tremaining: 476ms\n",
      "498:\tlearn: 0.1328781\ttotal: 473ms\tremaining: 475ms\n",
      "499:\tlearn: 0.1326328\ttotal: 474ms\tremaining: 474ms\n",
      "500:\tlearn: 0.1325671\ttotal: 475ms\tremaining: 473ms\n",
      "501:\tlearn: 0.1321417\ttotal: 476ms\tremaining: 472ms\n",
      "502:\tlearn: 0.1318674\ttotal: 477ms\tremaining: 471ms\n",
      "503:\tlearn: 0.1315568\ttotal: 478ms\tremaining: 470ms\n",
      "504:\tlearn: 0.1314320\ttotal: 479ms\tremaining: 469ms\n",
      "505:\tlearn: 0.1311201\ttotal: 480ms\tremaining: 468ms\n",
      "506:\tlearn: 0.1308515\ttotal: 481ms\tremaining: 467ms\n",
      "507:\tlearn: 0.1308313\ttotal: 481ms\tremaining: 466ms\n",
      "508:\tlearn: 0.1305019\ttotal: 482ms\tremaining: 465ms\n",
      "509:\tlearn: 0.1302544\ttotal: 483ms\tremaining: 464ms\n",
      "510:\tlearn: 0.1300048\ttotal: 484ms\tremaining: 463ms\n",
      "511:\tlearn: 0.1297276\ttotal: 485ms\tremaining: 463ms\n",
      "512:\tlearn: 0.1293844\ttotal: 486ms\tremaining: 462ms\n",
      "513:\tlearn: 0.1292311\ttotal: 487ms\tremaining: 461ms\n",
      "514:\tlearn: 0.1288756\ttotal: 488ms\tremaining: 460ms\n",
      "515:\tlearn: 0.1287390\ttotal: 489ms\tremaining: 459ms\n"
     ]
    },
    {
     "name": "stdout",
     "output_type": "stream",
     "text": [
      "516:\tlearn: 0.1286900\ttotal: 490ms\tremaining: 458ms\n",
      "517:\tlearn: 0.1285195\ttotal: 491ms\tremaining: 457ms\n",
      "518:\tlearn: 0.1282404\ttotal: 492ms\tremaining: 456ms\n",
      "519:\tlearn: 0.1280813\ttotal: 492ms\tremaining: 454ms\n",
      "520:\tlearn: 0.1277734\ttotal: 493ms\tremaining: 453ms\n",
      "521:\tlearn: 0.1275361\ttotal: 494ms\tremaining: 452ms\n",
      "522:\tlearn: 0.1275068\ttotal: 495ms\tremaining: 451ms\n",
      "523:\tlearn: 0.1274722\ttotal: 495ms\tremaining: 450ms\n",
      "524:\tlearn: 0.1271836\ttotal: 496ms\tremaining: 449ms\n",
      "525:\tlearn: 0.1268983\ttotal: 497ms\tremaining: 448ms\n",
      "526:\tlearn: 0.1268579\ttotal: 498ms\tremaining: 447ms\n",
      "527:\tlearn: 0.1265295\ttotal: 499ms\tremaining: 446ms\n",
      "528:\tlearn: 0.1262417\ttotal: 499ms\tremaining: 445ms\n",
      "529:\tlearn: 0.1260010\ttotal: 500ms\tremaining: 444ms\n",
      "530:\tlearn: 0.1257922\ttotal: 501ms\tremaining: 443ms\n",
      "531:\tlearn: 0.1257564\ttotal: 502ms\tremaining: 441ms\n",
      "532:\tlearn: 0.1256024\ttotal: 503ms\tremaining: 441ms\n",
      "533:\tlearn: 0.1253010\ttotal: 504ms\tremaining: 440ms\n",
      "534:\tlearn: 0.1251273\ttotal: 505ms\tremaining: 439ms\n",
      "535:\tlearn: 0.1249565\ttotal: 506ms\tremaining: 438ms\n",
      "536:\tlearn: 0.1247792\ttotal: 507ms\tremaining: 437ms\n",
      "537:\tlearn: 0.1245844\ttotal: 507ms\tremaining: 436ms\n",
      "538:\tlearn: 0.1243658\ttotal: 508ms\tremaining: 435ms\n",
      "539:\tlearn: 0.1242001\ttotal: 509ms\tremaining: 434ms\n",
      "540:\tlearn: 0.1239523\ttotal: 510ms\tremaining: 433ms\n",
      "541:\tlearn: 0.1238053\ttotal: 511ms\tremaining: 432ms\n",
      "542:\tlearn: 0.1234727\ttotal: 512ms\tremaining: 431ms\n",
      "543:\tlearn: 0.1234061\ttotal: 512ms\tremaining: 429ms\n",
      "544:\tlearn: 0.1231472\ttotal: 513ms\tremaining: 428ms\n",
      "545:\tlearn: 0.1229838\ttotal: 514ms\tremaining: 427ms\n",
      "546:\tlearn: 0.1228360\ttotal: 515ms\tremaining: 426ms\n",
      "547:\tlearn: 0.1226122\ttotal: 515ms\tremaining: 425ms\n",
      "548:\tlearn: 0.1224007\ttotal: 516ms\tremaining: 424ms\n",
      "549:\tlearn: 0.1222189\ttotal: 517ms\tremaining: 423ms\n",
      "550:\tlearn: 0.1219799\ttotal: 518ms\tremaining: 422ms\n",
      "551:\tlearn: 0.1216689\ttotal: 519ms\tremaining: 421ms\n",
      "552:\tlearn: 0.1216416\ttotal: 520ms\tremaining: 420ms\n",
      "553:\tlearn: 0.1215561\ttotal: 521ms\tremaining: 419ms\n",
      "554:\tlearn: 0.1213835\ttotal: 522ms\tremaining: 418ms\n",
      "555:\tlearn: 0.1211561\ttotal: 522ms\tremaining: 417ms\n",
      "556:\tlearn: 0.1207977\ttotal: 523ms\tremaining: 416ms\n",
      "557:\tlearn: 0.1207769\ttotal: 524ms\tremaining: 415ms\n",
      "558:\tlearn: 0.1205056\ttotal: 525ms\tremaining: 414ms\n",
      "559:\tlearn: 0.1203489\ttotal: 525ms\tremaining: 413ms\n",
      "560:\tlearn: 0.1203053\ttotal: 526ms\tremaining: 412ms\n",
      "561:\tlearn: 0.1200034\ttotal: 527ms\tremaining: 411ms\n",
      "562:\tlearn: 0.1198739\ttotal: 528ms\tremaining: 410ms\n",
      "563:\tlearn: 0.1197917\ttotal: 529ms\tremaining: 409ms\n",
      "564:\tlearn: 0.1195274\ttotal: 530ms\tremaining: 408ms\n",
      "565:\tlearn: 0.1194963\ttotal: 530ms\tremaining: 407ms\n",
      "566:\tlearn: 0.1192182\ttotal: 531ms\tremaining: 406ms\n",
      "567:\tlearn: 0.1189651\ttotal: 532ms\tremaining: 405ms\n",
      "568:\tlearn: 0.1187579\ttotal: 533ms\tremaining: 404ms\n",
      "569:\tlearn: 0.1185141\ttotal: 534ms\tremaining: 403ms\n",
      "570:\tlearn: 0.1183686\ttotal: 535ms\tremaining: 402ms\n",
      "571:\tlearn: 0.1181884\ttotal: 536ms\tremaining: 401ms\n",
      "572:\tlearn: 0.1181585\ttotal: 536ms\tremaining: 400ms\n",
      "573:\tlearn: 0.1179926\ttotal: 537ms\tremaining: 399ms\n",
      "574:\tlearn: 0.1179048\ttotal: 538ms\tremaining: 398ms\n",
      "575:\tlearn: 0.1177114\ttotal: 539ms\tremaining: 397ms\n",
      "576:\tlearn: 0.1174645\ttotal: 540ms\tremaining: 396ms\n",
      "577:\tlearn: 0.1172327\ttotal: 540ms\tremaining: 395ms\n",
      "578:\tlearn: 0.1168548\ttotal: 541ms\tremaining: 394ms\n",
      "579:\tlearn: 0.1165785\ttotal: 542ms\tremaining: 393ms\n",
      "580:\tlearn: 0.1163343\ttotal: 543ms\tremaining: 392ms\n",
      "581:\tlearn: 0.1160768\ttotal: 544ms\tremaining: 391ms\n",
      "582:\tlearn: 0.1158297\ttotal: 545ms\tremaining: 390ms\n",
      "583:\tlearn: 0.1155886\ttotal: 545ms\tremaining: 389ms\n",
      "584:\tlearn: 0.1154518\ttotal: 546ms\tremaining: 387ms\n",
      "585:\tlearn: 0.1153564\ttotal: 547ms\tremaining: 386ms\n",
      "586:\tlearn: 0.1153241\ttotal: 548ms\tremaining: 385ms\n",
      "587:\tlearn: 0.1151221\ttotal: 549ms\tremaining: 384ms\n",
      "588:\tlearn: 0.1149845\ttotal: 549ms\tremaining: 383ms\n",
      "589:\tlearn: 0.1148377\ttotal: 550ms\tremaining: 382ms\n",
      "590:\tlearn: 0.1146840\ttotal: 551ms\tremaining: 381ms\n",
      "591:\tlearn: 0.1144229\ttotal: 552ms\tremaining: 380ms\n",
      "592:\tlearn: 0.1142774\ttotal: 553ms\tremaining: 379ms\n",
      "593:\tlearn: 0.1140022\ttotal: 553ms\tremaining: 378ms\n",
      "594:\tlearn: 0.1138660\ttotal: 554ms\tremaining: 377ms\n",
      "595:\tlearn: 0.1135937\ttotal: 556ms\tremaining: 377ms\n",
      "596:\tlearn: 0.1133574\ttotal: 557ms\tremaining: 376ms\n",
      "597:\tlearn: 0.1132186\ttotal: 558ms\tremaining: 375ms\n",
      "598:\tlearn: 0.1128741\ttotal: 558ms\tremaining: 374ms\n",
      "599:\tlearn: 0.1126618\ttotal: 559ms\tremaining: 373ms\n",
      "600:\tlearn: 0.1123757\ttotal: 560ms\tremaining: 372ms\n",
      "601:\tlearn: 0.1122291\ttotal: 561ms\tremaining: 371ms\n",
      "602:\tlearn: 0.1119896\ttotal: 562ms\tremaining: 370ms\n",
      "603:\tlearn: 0.1117423\ttotal: 563ms\tremaining: 369ms\n",
      "604:\tlearn: 0.1116866\ttotal: 564ms\tremaining: 368ms\n",
      "605:\tlearn: 0.1115072\ttotal: 565ms\tremaining: 367ms\n",
      "606:\tlearn: 0.1113122\ttotal: 565ms\tremaining: 366ms\n",
      "607:\tlearn: 0.1110270\ttotal: 566ms\tremaining: 365ms\n",
      "608:\tlearn: 0.1107447\ttotal: 567ms\tremaining: 364ms\n",
      "609:\tlearn: 0.1105649\ttotal: 568ms\tremaining: 363ms\n",
      "610:\tlearn: 0.1103953\ttotal: 569ms\tremaining: 362ms\n",
      "611:\tlearn: 0.1102216\ttotal: 570ms\tremaining: 361ms\n",
      "612:\tlearn: 0.1099934\ttotal: 570ms\tremaining: 360ms\n",
      "613:\tlearn: 0.1096916\ttotal: 571ms\tremaining: 359ms\n",
      "614:\tlearn: 0.1094904\ttotal: 572ms\tremaining: 358ms\n"
     ]
    },
    {
     "name": "stdout",
     "output_type": "stream",
     "text": [
      "615:\tlearn: 0.1092860\ttotal: 573ms\tremaining: 357ms\n",
      "616:\tlearn: 0.1092684\ttotal: 574ms\tremaining: 356ms\n",
      "617:\tlearn: 0.1091367\ttotal: 575ms\tremaining: 355ms\n",
      "618:\tlearn: 0.1089206\ttotal: 575ms\tremaining: 354ms\n",
      "619:\tlearn: 0.1086877\ttotal: 576ms\tremaining: 353ms\n",
      "620:\tlearn: 0.1085591\ttotal: 577ms\tremaining: 352ms\n",
      "621:\tlearn: 0.1083951\ttotal: 578ms\tremaining: 351ms\n",
      "622:\tlearn: 0.1081438\ttotal: 579ms\tremaining: 350ms\n",
      "623:\tlearn: 0.1079300\ttotal: 579ms\tremaining: 349ms\n",
      "624:\tlearn: 0.1077945\ttotal: 580ms\tremaining: 348ms\n",
      "625:\tlearn: 0.1075828\ttotal: 581ms\tremaining: 347ms\n",
      "626:\tlearn: 0.1073752\ttotal: 582ms\tremaining: 346ms\n",
      "627:\tlearn: 0.1073186\ttotal: 583ms\tremaining: 345ms\n",
      "628:\tlearn: 0.1072494\ttotal: 583ms\tremaining: 344ms\n",
      "629:\tlearn: 0.1071571\ttotal: 584ms\tremaining: 343ms\n",
      "630:\tlearn: 0.1071405\ttotal: 585ms\tremaining: 342ms\n",
      "631:\tlearn: 0.1069632\ttotal: 586ms\tremaining: 341ms\n",
      "632:\tlearn: 0.1067627\ttotal: 587ms\tremaining: 340ms\n",
      "633:\tlearn: 0.1066809\ttotal: 588ms\tremaining: 339ms\n",
      "634:\tlearn: 0.1063402\ttotal: 589ms\tremaining: 338ms\n",
      "635:\tlearn: 0.1061225\ttotal: 589ms\tremaining: 337ms\n",
      "636:\tlearn: 0.1058668\ttotal: 590ms\tremaining: 336ms\n",
      "637:\tlearn: 0.1058178\ttotal: 591ms\tremaining: 335ms\n",
      "638:\tlearn: 0.1055966\ttotal: 592ms\tremaining: 334ms\n",
      "639:\tlearn: 0.1054935\ttotal: 593ms\tremaining: 333ms\n",
      "640:\tlearn: 0.1053281\ttotal: 594ms\tremaining: 332ms\n",
      "641:\tlearn: 0.1051176\ttotal: 594ms\tremaining: 331ms\n",
      "642:\tlearn: 0.1050859\ttotal: 595ms\tremaining: 331ms\n",
      "643:\tlearn: 0.1049777\ttotal: 596ms\tremaining: 330ms\n",
      "644:\tlearn: 0.1047709\ttotal: 597ms\tremaining: 329ms\n",
      "645:\tlearn: 0.1045838\ttotal: 598ms\tremaining: 328ms\n",
      "646:\tlearn: 0.1044597\ttotal: 599ms\tremaining: 327ms\n",
      "647:\tlearn: 0.1043366\ttotal: 600ms\tremaining: 326ms\n",
      "648:\tlearn: 0.1041449\ttotal: 600ms\tremaining: 325ms\n",
      "649:\tlearn: 0.1040092\ttotal: 601ms\tremaining: 324ms\n",
      "650:\tlearn: 0.1038452\ttotal: 602ms\tremaining: 323ms\n",
      "651:\tlearn: 0.1037282\ttotal: 603ms\tremaining: 322ms\n",
      "652:\tlearn: 0.1035613\ttotal: 604ms\tremaining: 321ms\n",
      "653:\tlearn: 0.1032584\ttotal: 604ms\tremaining: 320ms\n",
      "654:\tlearn: 0.1031829\ttotal: 605ms\tremaining: 319ms\n",
      "655:\tlearn: 0.1030194\ttotal: 606ms\tremaining: 318ms\n",
      "656:\tlearn: 0.1027560\ttotal: 607ms\tremaining: 317ms\n",
      "657:\tlearn: 0.1026158\ttotal: 608ms\tremaining: 316ms\n",
      "658:\tlearn: 0.1024222\ttotal: 608ms\tremaining: 315ms\n",
      "659:\tlearn: 0.1022266\ttotal: 609ms\tremaining: 314ms\n",
      "660:\tlearn: 0.1021262\ttotal: 610ms\tremaining: 313ms\n",
      "661:\tlearn: 0.1018653\ttotal: 611ms\tremaining: 312ms\n",
      "662:\tlearn: 0.1017525\ttotal: 612ms\tremaining: 311ms\n",
      "663:\tlearn: 0.1015331\ttotal: 612ms\tremaining: 310ms\n",
      "664:\tlearn: 0.1013731\ttotal: 613ms\tremaining: 309ms\n",
      "665:\tlearn: 0.1011072\ttotal: 614ms\tremaining: 308ms\n",
      "666:\tlearn: 0.1009328\ttotal: 615ms\tremaining: 307ms\n",
      "667:\tlearn: 0.1007297\ttotal: 616ms\tremaining: 306ms\n",
      "668:\tlearn: 0.1005691\ttotal: 616ms\tremaining: 305ms\n",
      "669:\tlearn: 0.1003363\ttotal: 617ms\tremaining: 304ms\n",
      "670:\tlearn: 0.1002499\ttotal: 618ms\tremaining: 303ms\n",
      "671:\tlearn: 0.1001335\ttotal: 619ms\tremaining: 302ms\n",
      "672:\tlearn: 0.0999447\ttotal: 620ms\tremaining: 301ms\n",
      "673:\tlearn: 0.0997676\ttotal: 620ms\tremaining: 300ms\n",
      "674:\tlearn: 0.0995966\ttotal: 621ms\tremaining: 299ms\n",
      "675:\tlearn: 0.0994342\ttotal: 622ms\tremaining: 298ms\n",
      "676:\tlearn: 0.0993893\ttotal: 623ms\tremaining: 297ms\n",
      "677:\tlearn: 0.0992300\ttotal: 624ms\tremaining: 296ms\n",
      "678:\tlearn: 0.0989476\ttotal: 625ms\tremaining: 295ms\n",
      "679:\tlearn: 0.0988398\ttotal: 625ms\tremaining: 294ms\n",
      "680:\tlearn: 0.0985365\ttotal: 626ms\tremaining: 293ms\n",
      "681:\tlearn: 0.0983981\ttotal: 627ms\tremaining: 292ms\n",
      "682:\tlearn: 0.0982383\ttotal: 628ms\tremaining: 291ms\n",
      "683:\tlearn: 0.0980346\ttotal: 629ms\tremaining: 290ms\n",
      "684:\tlearn: 0.0978146\ttotal: 630ms\tremaining: 290ms\n",
      "685:\tlearn: 0.0976897\ttotal: 631ms\tremaining: 289ms\n",
      "686:\tlearn: 0.0975498\ttotal: 631ms\tremaining: 288ms\n",
      "687:\tlearn: 0.0974177\ttotal: 632ms\tremaining: 287ms\n",
      "688:\tlearn: 0.0973916\ttotal: 633ms\tremaining: 286ms\n",
      "689:\tlearn: 0.0972019\ttotal: 634ms\tremaining: 285ms\n",
      "690:\tlearn: 0.0971243\ttotal: 635ms\tremaining: 284ms\n",
      "691:\tlearn: 0.0969289\ttotal: 636ms\tremaining: 283ms\n",
      "692:\tlearn: 0.0967909\ttotal: 637ms\tremaining: 282ms\n",
      "693:\tlearn: 0.0965737\ttotal: 638ms\tremaining: 281ms\n",
      "694:\tlearn: 0.0963491\ttotal: 639ms\tremaining: 280ms\n",
      "695:\tlearn: 0.0962186\ttotal: 640ms\tremaining: 279ms\n",
      "696:\tlearn: 0.0959728\ttotal: 641ms\tremaining: 279ms\n",
      "697:\tlearn: 0.0958158\ttotal: 642ms\tremaining: 278ms\n",
      "698:\tlearn: 0.0957885\ttotal: 643ms\tremaining: 277ms\n",
      "699:\tlearn: 0.0956882\ttotal: 643ms\tremaining: 276ms\n",
      "700:\tlearn: 0.0954770\ttotal: 644ms\tremaining: 275ms\n",
      "701:\tlearn: 0.0953420\ttotal: 645ms\tremaining: 274ms\n",
      "702:\tlearn: 0.0952079\ttotal: 646ms\tremaining: 273ms\n",
      "703:\tlearn: 0.0950864\ttotal: 647ms\tremaining: 272ms\n",
      "704:\tlearn: 0.0950267\ttotal: 647ms\tremaining: 271ms\n",
      "705:\tlearn: 0.0948390\ttotal: 648ms\tremaining: 270ms\n",
      "706:\tlearn: 0.0947168\ttotal: 649ms\tremaining: 269ms\n",
      "707:\tlearn: 0.0945359\ttotal: 650ms\tremaining: 268ms\n",
      "708:\tlearn: 0.0943683\ttotal: 651ms\tremaining: 267ms\n",
      "709:\tlearn: 0.0941845\ttotal: 652ms\tremaining: 266ms\n",
      "710:\tlearn: 0.0939737\ttotal: 652ms\tremaining: 265ms\n",
      "711:\tlearn: 0.0938000\ttotal: 653ms\tremaining: 264ms\n",
      "712:\tlearn: 0.0935902\ttotal: 654ms\tremaining: 263ms\n",
      "713:\tlearn: 0.0934423\ttotal: 655ms\tremaining: 262ms\n",
      "714:\tlearn: 0.0932989\ttotal: 656ms\tremaining: 261ms\n",
      "715:\tlearn: 0.0930521\ttotal: 656ms\tremaining: 260ms\n",
      "716:\tlearn: 0.0929376\ttotal: 657ms\tremaining: 259ms\n",
      "717:\tlearn: 0.0928791\ttotal: 658ms\tremaining: 258ms\n",
      "718:\tlearn: 0.0927594\ttotal: 659ms\tremaining: 258ms\n",
      "719:\tlearn: 0.0925930\ttotal: 660ms\tremaining: 257ms\n",
      "720:\tlearn: 0.0925694\ttotal: 661ms\tremaining: 256ms\n",
      "721:\tlearn: 0.0925454\ttotal: 661ms\tremaining: 255ms\n",
      "722:\tlearn: 0.0924206\ttotal: 662ms\tremaining: 254ms\n",
      "723:\tlearn: 0.0923157\ttotal: 663ms\tremaining: 253ms\n",
      "724:\tlearn: 0.0921255\ttotal: 664ms\tremaining: 252ms\n",
      "725:\tlearn: 0.0918996\ttotal: 665ms\tremaining: 251ms\n",
      "726:\tlearn: 0.0918609\ttotal: 666ms\tremaining: 250ms\n",
      "727:\tlearn: 0.0917030\ttotal: 666ms\tremaining: 249ms\n",
      "728:\tlearn: 0.0916300\ttotal: 667ms\tremaining: 248ms\n",
      "729:\tlearn: 0.0914667\ttotal: 668ms\tremaining: 247ms\n",
      "730:\tlearn: 0.0912863\ttotal: 669ms\tremaining: 246ms\n",
      "731:\tlearn: 0.0911737\ttotal: 670ms\tremaining: 245ms\n",
      "732:\tlearn: 0.0909919\ttotal: 671ms\tremaining: 244ms\n",
      "733:\tlearn: 0.0908905\ttotal: 672ms\tremaining: 243ms\n",
      "734:\tlearn: 0.0907477\ttotal: 673ms\tremaining: 242ms\n",
      "735:\tlearn: 0.0906315\ttotal: 673ms\tremaining: 242ms\n",
      "736:\tlearn: 0.0905246\ttotal: 674ms\tremaining: 241ms\n",
      "737:\tlearn: 0.0904068\ttotal: 675ms\tremaining: 240ms\n",
      "738:\tlearn: 0.0901982\ttotal: 676ms\tremaining: 239ms\n",
      "739:\tlearn: 0.0900847\ttotal: 677ms\tremaining: 238ms\n",
      "740:\tlearn: 0.0899237\ttotal: 678ms\tremaining: 237ms\n",
      "741:\tlearn: 0.0898206\ttotal: 679ms\tremaining: 236ms\n"
     ]
    },
    {
     "name": "stdout",
     "output_type": "stream",
     "text": [
      "742:\tlearn: 0.0896323\ttotal: 680ms\tremaining: 235ms\n",
      "743:\tlearn: 0.0895241\ttotal: 681ms\tremaining: 234ms\n",
      "744:\tlearn: 0.0894479\ttotal: 682ms\tremaining: 233ms\n",
      "745:\tlearn: 0.0894223\ttotal: 683ms\tremaining: 232ms\n",
      "746:\tlearn: 0.0893088\ttotal: 683ms\tremaining: 231ms\n",
      "747:\tlearn: 0.0891112\ttotal: 684ms\tremaining: 231ms\n",
      "748:\tlearn: 0.0890282\ttotal: 685ms\tremaining: 230ms\n",
      "749:\tlearn: 0.0889531\ttotal: 686ms\tremaining: 229ms\n",
      "750:\tlearn: 0.0888174\ttotal: 687ms\tremaining: 228ms\n",
      "751:\tlearn: 0.0887184\ttotal: 688ms\tremaining: 227ms\n",
      "752:\tlearn: 0.0886310\ttotal: 689ms\tremaining: 226ms\n",
      "753:\tlearn: 0.0885237\ttotal: 690ms\tremaining: 225ms\n",
      "754:\tlearn: 0.0883144\ttotal: 691ms\tremaining: 224ms\n",
      "755:\tlearn: 0.0881802\ttotal: 692ms\tremaining: 223ms\n",
      "756:\tlearn: 0.0880550\ttotal: 693ms\tremaining: 222ms\n",
      "757:\tlearn: 0.0879361\ttotal: 694ms\tremaining: 221ms\n",
      "758:\tlearn: 0.0878446\ttotal: 694ms\tremaining: 220ms\n",
      "759:\tlearn: 0.0877454\ttotal: 695ms\tremaining: 220ms\n",
      "760:\tlearn: 0.0875291\ttotal: 696ms\tremaining: 219ms\n",
      "761:\tlearn: 0.0873935\ttotal: 697ms\tremaining: 218ms\n",
      "762:\tlearn: 0.0872915\ttotal: 698ms\tremaining: 217ms\n",
      "763:\tlearn: 0.0871967\ttotal: 699ms\tremaining: 216ms\n",
      "764:\tlearn: 0.0869966\ttotal: 699ms\tremaining: 215ms\n",
      "765:\tlearn: 0.0869340\ttotal: 700ms\tremaining: 214ms\n",
      "766:\tlearn: 0.0867913\ttotal: 701ms\tremaining: 213ms\n",
      "767:\tlearn: 0.0866562\ttotal: 702ms\tremaining: 212ms\n",
      "768:\tlearn: 0.0865574\ttotal: 703ms\tremaining: 211ms\n",
      "769:\tlearn: 0.0864604\ttotal: 704ms\tremaining: 210ms\n",
      "770:\tlearn: 0.0862794\ttotal: 705ms\tremaining: 209ms\n",
      "771:\tlearn: 0.0861867\ttotal: 706ms\tremaining: 208ms\n",
      "772:\tlearn: 0.0860395\ttotal: 707ms\tremaining: 208ms\n",
      "773:\tlearn: 0.0859363\ttotal: 708ms\tremaining: 207ms\n",
      "774:\tlearn: 0.0857855\ttotal: 709ms\tremaining: 206ms\n",
      "775:\tlearn: 0.0856714\ttotal: 710ms\tremaining: 205ms\n",
      "776:\tlearn: 0.0854794\ttotal: 710ms\tremaining: 204ms\n",
      "777:\tlearn: 0.0852851\ttotal: 711ms\tremaining: 203ms\n",
      "778:\tlearn: 0.0852676\ttotal: 712ms\tremaining: 202ms\n",
      "779:\tlearn: 0.0852175\ttotal: 713ms\tremaining: 201ms\n",
      "780:\tlearn: 0.0851360\ttotal: 714ms\tremaining: 200ms\n",
      "781:\tlearn: 0.0850575\ttotal: 714ms\tremaining: 199ms\n",
      "782:\tlearn: 0.0849077\ttotal: 715ms\tremaining: 198ms\n",
      "783:\tlearn: 0.0847631\ttotal: 716ms\tremaining: 197ms\n",
      "784:\tlearn: 0.0846798\ttotal: 717ms\tremaining: 196ms\n",
      "785:\tlearn: 0.0845598\ttotal: 718ms\tremaining: 195ms\n",
      "786:\tlearn: 0.0845238\ttotal: 718ms\tremaining: 194ms\n",
      "787:\tlearn: 0.0843876\ttotal: 719ms\tremaining: 193ms\n",
      "788:\tlearn: 0.0842930\ttotal: 720ms\tremaining: 193ms\n",
      "789:\tlearn: 0.0841564\ttotal: 721ms\tremaining: 192ms\n",
      "790:\tlearn: 0.0840740\ttotal: 722ms\tremaining: 191ms\n",
      "791:\tlearn: 0.0839280\ttotal: 722ms\tremaining: 190ms\n",
      "792:\tlearn: 0.0838367\ttotal: 723ms\tremaining: 189ms\n",
      "793:\tlearn: 0.0836965\ttotal: 724ms\tremaining: 188ms\n",
      "794:\tlearn: 0.0836663\ttotal: 725ms\tremaining: 187ms\n",
      "795:\tlearn: 0.0835589\ttotal: 726ms\tremaining: 186ms\n",
      "796:\tlearn: 0.0834249\ttotal: 727ms\tremaining: 185ms\n",
      "797:\tlearn: 0.0833147\ttotal: 727ms\tremaining: 184ms\n",
      "798:\tlearn: 0.0831633\ttotal: 728ms\tremaining: 183ms\n",
      "799:\tlearn: 0.0830282\ttotal: 729ms\tremaining: 182ms\n",
      "800:\tlearn: 0.0829196\ttotal: 730ms\tremaining: 181ms\n",
      "801:\tlearn: 0.0828087\ttotal: 731ms\tremaining: 180ms\n",
      "802:\tlearn: 0.0827458\ttotal: 731ms\tremaining: 179ms\n",
      "803:\tlearn: 0.0826167\ttotal: 732ms\tremaining: 179ms\n",
      "804:\tlearn: 0.0825033\ttotal: 733ms\tremaining: 178ms\n",
      "805:\tlearn: 0.0823742\ttotal: 734ms\tremaining: 177ms\n",
      "806:\tlearn: 0.0822835\ttotal: 735ms\tremaining: 176ms\n",
      "807:\tlearn: 0.0822619\ttotal: 736ms\tremaining: 175ms\n",
      "808:\tlearn: 0.0821976\ttotal: 737ms\tremaining: 174ms\n",
      "809:\tlearn: 0.0821246\ttotal: 737ms\tremaining: 173ms\n",
      "810:\tlearn: 0.0820350\ttotal: 738ms\tremaining: 172ms\n",
      "811:\tlearn: 0.0819328\ttotal: 739ms\tremaining: 171ms\n",
      "812:\tlearn: 0.0817200\ttotal: 740ms\tremaining: 170ms\n",
      "813:\tlearn: 0.0816493\ttotal: 741ms\tremaining: 169ms\n",
      "814:\tlearn: 0.0816178\ttotal: 742ms\tremaining: 168ms\n",
      "815:\tlearn: 0.0815191\ttotal: 743ms\tremaining: 167ms\n",
      "816:\tlearn: 0.0813843\ttotal: 743ms\tremaining: 167ms\n",
      "817:\tlearn: 0.0812702\ttotal: 744ms\tremaining: 166ms\n",
      "818:\tlearn: 0.0812486\ttotal: 745ms\tremaining: 165ms\n",
      "819:\tlearn: 0.0810762\ttotal: 746ms\tremaining: 164ms\n",
      "820:\tlearn: 0.0810354\ttotal: 746ms\tremaining: 163ms\n",
      "821:\tlearn: 0.0808972\ttotal: 747ms\tremaining: 162ms\n",
      "822:\tlearn: 0.0807238\ttotal: 748ms\tremaining: 161ms\n",
      "823:\tlearn: 0.0805812\ttotal: 749ms\tremaining: 160ms\n",
      "824:\tlearn: 0.0804315\ttotal: 750ms\tremaining: 159ms\n",
      "825:\tlearn: 0.0802234\ttotal: 750ms\tremaining: 158ms\n",
      "826:\tlearn: 0.0800098\ttotal: 751ms\tremaining: 157ms\n",
      "827:\tlearn: 0.0799820\ttotal: 752ms\tremaining: 156ms\n",
      "828:\tlearn: 0.0799114\ttotal: 753ms\tremaining: 155ms\n",
      "829:\tlearn: 0.0798490\ttotal: 754ms\tremaining: 154ms\n",
      "830:\tlearn: 0.0797384\ttotal: 754ms\tremaining: 153ms\n",
      "831:\tlearn: 0.0796395\ttotal: 755ms\tremaining: 153ms\n",
      "832:\tlearn: 0.0795375\ttotal: 756ms\tremaining: 152ms\n",
      "833:\tlearn: 0.0793594\ttotal: 757ms\tremaining: 151ms\n",
      "834:\tlearn: 0.0792077\ttotal: 758ms\tremaining: 150ms\n",
      "835:\tlearn: 0.0790477\ttotal: 759ms\tremaining: 149ms\n",
      "836:\tlearn: 0.0789882\ttotal: 759ms\tremaining: 148ms\n",
      "837:\tlearn: 0.0788883\ttotal: 760ms\tremaining: 147ms\n",
      "838:\tlearn: 0.0788495\ttotal: 761ms\tremaining: 146ms\n",
      "839:\tlearn: 0.0788186\ttotal: 762ms\tremaining: 145ms\n",
      "840:\tlearn: 0.0786873\ttotal: 763ms\tremaining: 144ms\n"
     ]
    },
    {
     "name": "stdout",
     "output_type": "stream",
     "text": [
      "841:\tlearn: 0.0785982\ttotal: 764ms\tremaining: 143ms\n",
      "842:\tlearn: 0.0785652\ttotal: 765ms\tremaining: 142ms\n",
      "843:\tlearn: 0.0783974\ttotal: 765ms\tremaining: 141ms\n",
      "844:\tlearn: 0.0783367\ttotal: 766ms\tremaining: 141ms\n",
      "845:\tlearn: 0.0782026\ttotal: 767ms\tremaining: 140ms\n",
      "846:\tlearn: 0.0780478\ttotal: 768ms\tremaining: 139ms\n",
      "847:\tlearn: 0.0778886\ttotal: 769ms\tremaining: 138ms\n",
      "848:\tlearn: 0.0777738\ttotal: 770ms\tremaining: 137ms\n",
      "849:\tlearn: 0.0776758\ttotal: 770ms\tremaining: 136ms\n",
      "850:\tlearn: 0.0775365\ttotal: 771ms\tremaining: 135ms\n",
      "851:\tlearn: 0.0774743\ttotal: 772ms\tremaining: 134ms\n",
      "852:\tlearn: 0.0773383\ttotal: 773ms\tremaining: 133ms\n",
      "853:\tlearn: 0.0771814\ttotal: 774ms\tremaining: 132ms\n",
      "854:\tlearn: 0.0770682\ttotal: 775ms\tremaining: 131ms\n",
      "855:\tlearn: 0.0769242\ttotal: 775ms\tremaining: 130ms\n",
      "856:\tlearn: 0.0768647\ttotal: 776ms\tremaining: 130ms\n",
      "857:\tlearn: 0.0767941\ttotal: 777ms\tremaining: 129ms\n",
      "858:\tlearn: 0.0767593\ttotal: 778ms\tremaining: 128ms\n",
      "859:\tlearn: 0.0766953\ttotal: 779ms\tremaining: 127ms\n",
      "860:\tlearn: 0.0766129\ttotal: 780ms\tremaining: 126ms\n",
      "861:\tlearn: 0.0765732\ttotal: 780ms\tremaining: 125ms\n",
      "862:\tlearn: 0.0765327\ttotal: 781ms\tremaining: 124ms\n",
      "863:\tlearn: 0.0764135\ttotal: 782ms\tremaining: 123ms\n",
      "864:\tlearn: 0.0763046\ttotal: 783ms\tremaining: 122ms\n",
      "865:\tlearn: 0.0761951\ttotal: 784ms\tremaining: 121ms\n",
      "866:\tlearn: 0.0760671\ttotal: 785ms\tremaining: 120ms\n",
      "867:\tlearn: 0.0759658\ttotal: 786ms\tremaining: 119ms\n",
      "868:\tlearn: 0.0758420\ttotal: 787ms\tremaining: 119ms\n",
      "869:\tlearn: 0.0757859\ttotal: 787ms\tremaining: 118ms\n",
      "870:\tlearn: 0.0756435\ttotal: 788ms\tremaining: 117ms\n",
      "871:\tlearn: 0.0755427\ttotal: 789ms\tremaining: 116ms\n",
      "872:\tlearn: 0.0754164\ttotal: 791ms\tremaining: 115ms\n",
      "873:\tlearn: 0.0753367\ttotal: 791ms\tremaining: 114ms\n",
      "874:\tlearn: 0.0752134\ttotal: 792ms\tremaining: 113ms\n",
      "875:\tlearn: 0.0750899\ttotal: 793ms\tremaining: 112ms\n",
      "876:\tlearn: 0.0749451\ttotal: 794ms\tremaining: 111ms\n",
      "877:\tlearn: 0.0747850\ttotal: 795ms\tremaining: 110ms\n",
      "878:\tlearn: 0.0746068\ttotal: 795ms\tremaining: 109ms\n",
      "879:\tlearn: 0.0745557\ttotal: 796ms\tremaining: 109ms\n",
      "880:\tlearn: 0.0744777\ttotal: 797ms\tremaining: 108ms\n",
      "881:\tlearn: 0.0743901\ttotal: 798ms\tremaining: 107ms\n",
      "882:\tlearn: 0.0743229\ttotal: 799ms\tremaining: 106ms\n",
      "883:\tlearn: 0.0741613\ttotal: 799ms\tremaining: 105ms\n",
      "884:\tlearn: 0.0741230\ttotal: 800ms\tremaining: 104ms\n",
      "885:\tlearn: 0.0740136\ttotal: 801ms\tremaining: 103ms\n",
      "886:\tlearn: 0.0738894\ttotal: 802ms\tremaining: 102ms\n",
      "887:\tlearn: 0.0737162\ttotal: 802ms\tremaining: 101ms\n",
      "888:\tlearn: 0.0736373\ttotal: 803ms\tremaining: 100ms\n",
      "889:\tlearn: 0.0734596\ttotal: 804ms\tremaining: 99.4ms\n",
      "890:\tlearn: 0.0734025\ttotal: 805ms\tremaining: 98.4ms\n",
      "891:\tlearn: 0.0733411\ttotal: 806ms\tremaining: 97.5ms\n",
      "892:\tlearn: 0.0732267\ttotal: 806ms\tremaining: 96.6ms\n",
      "893:\tlearn: 0.0731448\ttotal: 807ms\tremaining: 95.7ms\n",
      "894:\tlearn: 0.0730749\ttotal: 808ms\tremaining: 94.8ms\n",
      "895:\tlearn: 0.0729565\ttotal: 809ms\tremaining: 93.9ms\n",
      "896:\tlearn: 0.0728408\ttotal: 810ms\tremaining: 93ms\n",
      "897:\tlearn: 0.0727013\ttotal: 811ms\tremaining: 92.1ms\n",
      "898:\tlearn: 0.0726260\ttotal: 811ms\tremaining: 91.1ms\n",
      "899:\tlearn: 0.0725724\ttotal: 812ms\tremaining: 90.2ms\n",
      "900:\tlearn: 0.0724493\ttotal: 813ms\tremaining: 89.3ms\n",
      "901:\tlearn: 0.0723171\ttotal: 814ms\tremaining: 88.4ms\n",
      "902:\tlearn: 0.0722286\ttotal: 814ms\tremaining: 87.5ms\n",
      "903:\tlearn: 0.0721622\ttotal: 815ms\tremaining: 86.6ms\n",
      "904:\tlearn: 0.0721290\ttotal: 816ms\tremaining: 85.7ms\n",
      "905:\tlearn: 0.0720742\ttotal: 817ms\tremaining: 84.8ms\n",
      "906:\tlearn: 0.0719737\ttotal: 818ms\tremaining: 83.8ms\n",
      "907:\tlearn: 0.0718570\ttotal: 819ms\tremaining: 82.9ms\n",
      "908:\tlearn: 0.0716876\ttotal: 820ms\tremaining: 82ms\n",
      "909:\tlearn: 0.0716305\ttotal: 820ms\tremaining: 81.1ms\n",
      "910:\tlearn: 0.0715444\ttotal: 821ms\tremaining: 80.2ms\n",
      "911:\tlearn: 0.0714922\ttotal: 822ms\tremaining: 79.3ms\n",
      "912:\tlearn: 0.0714093\ttotal: 823ms\tremaining: 78.4ms\n",
      "913:\tlearn: 0.0713531\ttotal: 823ms\tremaining: 77.5ms\n",
      "914:\tlearn: 0.0713215\ttotal: 824ms\tremaining: 76.6ms\n",
      "915:\tlearn: 0.0712022\ttotal: 825ms\tremaining: 75.7ms\n",
      "916:\tlearn: 0.0711516\ttotal: 826ms\tremaining: 74.7ms\n",
      "917:\tlearn: 0.0710974\ttotal: 827ms\tremaining: 73.8ms\n",
      "918:\tlearn: 0.0710124\ttotal: 827ms\tremaining: 72.9ms\n",
      "919:\tlearn: 0.0708824\ttotal: 828ms\tremaining: 72ms\n",
      "920:\tlearn: 0.0708498\ttotal: 829ms\tremaining: 71.1ms\n",
      "921:\tlearn: 0.0707881\ttotal: 830ms\tremaining: 70.2ms\n",
      "922:\tlearn: 0.0707711\ttotal: 831ms\tremaining: 69.3ms\n",
      "923:\tlearn: 0.0706607\ttotal: 831ms\tremaining: 68.4ms\n",
      "924:\tlearn: 0.0704819\ttotal: 832ms\tremaining: 67.5ms\n",
      "925:\tlearn: 0.0704255\ttotal: 833ms\tremaining: 66.6ms\n",
      "926:\tlearn: 0.0702431\ttotal: 834ms\tremaining: 65.7ms\n",
      "927:\tlearn: 0.0702248\ttotal: 835ms\tremaining: 64.8ms\n",
      "928:\tlearn: 0.0701526\ttotal: 836ms\tremaining: 63.9ms\n",
      "929:\tlearn: 0.0700329\ttotal: 836ms\tremaining: 63ms\n",
      "930:\tlearn: 0.0699012\ttotal: 837ms\tremaining: 62.1ms\n",
      "931:\tlearn: 0.0697757\ttotal: 838ms\tremaining: 61.2ms\n",
      "932:\tlearn: 0.0696957\ttotal: 839ms\tremaining: 60.2ms\n",
      "933:\tlearn: 0.0695371\ttotal: 840ms\tremaining: 59.3ms\n",
      "934:\tlearn: 0.0694591\ttotal: 841ms\tremaining: 58.4ms\n",
      "935:\tlearn: 0.0693380\ttotal: 841ms\tremaining: 57.5ms\n",
      "936:\tlearn: 0.0692220\ttotal: 842ms\tremaining: 56.6ms\n",
      "937:\tlearn: 0.0692088\ttotal: 843ms\tremaining: 55.7ms\n",
      "938:\tlearn: 0.0691328\ttotal: 844ms\tremaining: 54.8ms\n",
      "939:\tlearn: 0.0689893\ttotal: 845ms\tremaining: 53.9ms\n",
      "940:\tlearn: 0.0688251\ttotal: 845ms\tremaining: 53ms\n",
      "941:\tlearn: 0.0687598\ttotal: 846ms\tremaining: 52.1ms\n",
      "942:\tlearn: 0.0687247\ttotal: 847ms\tremaining: 51.2ms\n",
      "943:\tlearn: 0.0685323\ttotal: 848ms\tremaining: 50.3ms\n",
      "944:\tlearn: 0.0683594\ttotal: 849ms\tremaining: 49.4ms\n",
      "945:\tlearn: 0.0682772\ttotal: 849ms\tremaining: 48.5ms\n",
      "946:\tlearn: 0.0681851\ttotal: 850ms\tremaining: 47.6ms\n",
      "947:\tlearn: 0.0681273\ttotal: 851ms\tremaining: 46.7ms\n",
      "948:\tlearn: 0.0681028\ttotal: 852ms\tremaining: 45.8ms\n",
      "949:\tlearn: 0.0680055\ttotal: 853ms\tremaining: 44.9ms\n",
      "950:\tlearn: 0.0679246\ttotal: 854ms\tremaining: 44ms\n",
      "951:\tlearn: 0.0678649\ttotal: 854ms\tremaining: 43.1ms\n",
      "952:\tlearn: 0.0678206\ttotal: 855ms\tremaining: 42.2ms\n",
      "953:\tlearn: 0.0677693\ttotal: 856ms\tremaining: 41.3ms\n",
      "954:\tlearn: 0.0676196\ttotal: 857ms\tremaining: 40.4ms\n",
      "955:\tlearn: 0.0675194\ttotal: 858ms\tremaining: 39.5ms\n",
      "956:\tlearn: 0.0674901\ttotal: 859ms\tremaining: 38.6ms\n",
      "957:\tlearn: 0.0673482\ttotal: 859ms\tremaining: 37.7ms\n",
      "958:\tlearn: 0.0672147\ttotal: 860ms\tremaining: 36.8ms\n",
      "959:\tlearn: 0.0670938\ttotal: 861ms\tremaining: 35.9ms\n",
      "960:\tlearn: 0.0669673\ttotal: 862ms\tremaining: 35ms\n",
      "961:\tlearn: 0.0669079\ttotal: 863ms\tremaining: 34.1ms\n",
      "962:\tlearn: 0.0667724\ttotal: 863ms\tremaining: 33.2ms\n",
      "963:\tlearn: 0.0666529\ttotal: 864ms\tremaining: 32.3ms\n",
      "964:\tlearn: 0.0666030\ttotal: 865ms\tremaining: 31.4ms\n",
      "965:\tlearn: 0.0664547\ttotal: 866ms\tremaining: 30.5ms\n",
      "966:\tlearn: 0.0663956\ttotal: 867ms\tremaining: 29.6ms\n",
      "967:\tlearn: 0.0663571\ttotal: 868ms\tremaining: 28.7ms\n",
      "968:\tlearn: 0.0662605\ttotal: 869ms\tremaining: 27.8ms\n",
      "969:\tlearn: 0.0662161\ttotal: 869ms\tremaining: 26.9ms\n"
     ]
    },
    {
     "name": "stdout",
     "output_type": "stream",
     "text": [
      "970:\tlearn: 0.0661348\ttotal: 870ms\tremaining: 26ms\n",
      "971:\tlearn: 0.0660880\ttotal: 871ms\tremaining: 25.1ms\n",
      "972:\tlearn: 0.0660643\ttotal: 872ms\tremaining: 24.2ms\n",
      "973:\tlearn: 0.0660199\ttotal: 873ms\tremaining: 23.3ms\n",
      "974:\tlearn: 0.0659681\ttotal: 874ms\tremaining: 22.4ms\n",
      "975:\tlearn: 0.0658953\ttotal: 875ms\tremaining: 21.5ms\n",
      "976:\tlearn: 0.0658470\ttotal: 876ms\tremaining: 20.6ms\n",
      "977:\tlearn: 0.0657197\ttotal: 877ms\tremaining: 19.7ms\n",
      "978:\tlearn: 0.0656489\ttotal: 877ms\tremaining: 18.8ms\n",
      "979:\tlearn: 0.0655438\ttotal: 878ms\tremaining: 17.9ms\n",
      "980:\tlearn: 0.0654679\ttotal: 879ms\tremaining: 17ms\n",
      "981:\tlearn: 0.0653824\ttotal: 880ms\tremaining: 16.1ms\n",
      "982:\tlearn: 0.0652789\ttotal: 881ms\tremaining: 15.2ms\n",
      "983:\tlearn: 0.0651933\ttotal: 882ms\tremaining: 14.3ms\n",
      "984:\tlearn: 0.0650900\ttotal: 883ms\tremaining: 13.4ms\n",
      "985:\tlearn: 0.0650141\ttotal: 883ms\tremaining: 12.5ms\n",
      "986:\tlearn: 0.0648913\ttotal: 884ms\tremaining: 11.6ms\n",
      "987:\tlearn: 0.0648562\ttotal: 885ms\tremaining: 10.8ms\n",
      "988:\tlearn: 0.0647266\ttotal: 886ms\tremaining: 9.85ms\n",
      "989:\tlearn: 0.0646782\ttotal: 887ms\tremaining: 8.96ms\n",
      "990:\tlearn: 0.0646269\ttotal: 888ms\tremaining: 8.07ms\n",
      "991:\tlearn: 0.0645518\ttotal: 889ms\tremaining: 7.17ms\n",
      "992:\tlearn: 0.0643959\ttotal: 890ms\tremaining: 6.27ms\n",
      "993:\tlearn: 0.0643098\ttotal: 891ms\tremaining: 5.38ms\n",
      "994:\tlearn: 0.0642185\ttotal: 891ms\tremaining: 4.48ms\n",
      "995:\tlearn: 0.0641757\ttotal: 892ms\tremaining: 3.58ms\n",
      "996:\tlearn: 0.0639957\ttotal: 893ms\tremaining: 2.69ms\n",
      "997:\tlearn: 0.0639277\ttotal: 894ms\tremaining: 1.79ms\n",
      "998:\tlearn: 0.0638224\ttotal: 895ms\tremaining: 895us\n",
      "999:\tlearn: 0.0637077\ttotal: 896ms\tremaining: 0us\n"
     ]
    },
    {
     "data": {
      "text/plain": [
       "<catboost.core.CatBoostRegressor at 0x7fa85db60e20>"
      ]
     },
     "execution_count": 9,
     "metadata": {},
     "output_type": "execute_result"
    }
   ],
   "source": [
    "#Train the Model \n",
    "prior_model = ctb.CatBoostRegressor()\n",
    "prior_model.fit(X_train,Y_train)"
   ]
  },
  {
   "cell_type": "code",
   "execution_count": 10,
   "id": "af65dcda",
   "metadata": {
    "execution": {
     "iopub.execute_input": "2022-06-11T15:21:57.238630Z",
     "iopub.status.busy": "2022-06-11T15:21:57.238204Z",
     "iopub.status.idle": "2022-06-11T15:21:57.245756Z",
     "shell.execute_reply": "2022-06-11T15:21:57.246052Z"
    },
    "id": "af65dcda",
    "papermill": {
     "duration": 0.021907,
     "end_time": "2022-06-11T15:21:57.246172",
     "exception": false,
     "start_time": "2022-06-11T15:21:57.224265",
     "status": "completed"
    },
    "tags": []
   },
   "outputs": [
    {
     "data": {
      "application/scrapbook.scrap.json+json": {
       "data": 0.08584819314546717,
       "encoder": "json",
       "name": "Prior Model MSE",
       "version": 1
      }
     },
     "metadata": {
      "scrapbook": {
       "data": true,
       "display": false,
       "name": "Prior Model MSE"
      }
     },
     "output_type": "display_data"
    },
    {
     "data": {
      "application/scrapbook.scrap.json+json": {
       "data": 0.09784000304946522,
       "encoder": "json",
       "name": "ABC Pre-generator MSE",
       "version": 1
      }
     },
     "metadata": {
      "scrapbook": {
       "data": true,
       "display": false,
       "name": "ABC Pre-generator MSE"
      }
     },
     "output_type": "display_data"
    },
    {
     "data": {
      "application/scrapbook.scrap.json+json": {
       "data": 0.22002644318813003,
       "encoder": "json",
       "name": "Prior Model MSE",
       "version": 1
      }
     },
     "metadata": {
      "scrapbook": {
       "data": true,
       "display": false,
       "name": "Prior Model MSE"
      }
     },
     "output_type": "display_data"
    },
    {
     "data": {
      "application/scrapbook.scrap.json+json": {
       "data": 0.24000426895351198,
       "encoder": "json",
       "name": "ABC Pre-generator MSE",
       "version": 1
      }
     },
     "metadata": {
      "scrapbook": {
       "data": true,
       "display": false,
       "name": "ABC Pre-generator MSE"
      }
     },
     "output_type": "display_data"
    }
   ],
   "source": [
    "y_pred = prior_model.predict(X_test)\n",
    "y_abc = y_pred + np.random.normal(0,variance, y_pred.shape) + bias \n",
    "mse = mean_squared_error(y_pred,Y_test)\n",
    "sb.glue(\"Prior Model MSE\",mse)\n",
    "mse = mean_squared_error(y_abc,Y_test)\n",
    "sb.glue(\"ABC Pre-generator MSE\",mse)\n",
    "mae = mean_absolute_error(y_pred,Y_test)\n",
    "sb.glue(\"Prior Model MSE\",mae)\n",
    "mae = mean_absolute_error(y_abc,Y_test)\n",
    "sb.glue(\"ABC Pre-generator MSE\",mae)"
   ]
  },
  {
   "cell_type": "markdown",
   "id": "25609da2",
   "metadata": {
    "papermill": {
     "duration": 0.00977,
     "end_time": "2022-06-11T15:21:57.266101",
     "exception": false,
     "start_time": "2022-06-11T15:21:57.256331",
     "status": "completed"
    },
    "tags": []
   },
   "source": [
    "# ABC GAN Model"
   ]
  },
  {
   "cell_type": "code",
   "execution_count": 11,
   "id": "dfc3464d",
   "metadata": {
    "execution": {
     "iopub.execute_input": "2022-06-11T15:21:57.289015Z",
     "iopub.status.busy": "2022-06-11T15:21:57.288625Z",
     "iopub.status.idle": "2022-06-11T15:21:57.291045Z",
     "shell.execute_reply": "2022-06-11T15:21:57.291269Z"
    },
    "papermill": {
     "duration": 0.015451,
     "end_time": "2022-06-11T15:21:57.291382",
     "exception": false,
     "start_time": "2022-06-11T15:21:57.275931",
     "status": "completed"
    },
    "tags": []
   },
   "outputs": [],
   "source": [
    "gen = network.Generator(n_features+1).to(device)\n",
    "disc = network.Discriminator(n_features+1).to(device)\n",
    "\n",
    "criterion = torch.nn.BCELoss()\n",
    "gen_opt = torch.optim.Adam(gen.parameters(), lr=0.001, betas=(0.5, 0.999))\n",
    "disc_opt = torch.optim.Adam(disc.parameters(), lr=0.001, betas=(0.5, 0.999))"
   ]
  },
  {
   "cell_type": "code",
   "execution_count": 12,
   "id": "b75fdd85",
   "metadata": {
    "execution": {
     "iopub.execute_input": "2022-06-11T15:21:57.314177Z",
     "iopub.status.busy": "2022-06-11T15:21:57.313806Z",
     "iopub.status.idle": "2022-06-11T15:22:57.677703Z",
     "shell.execute_reply": "2022-06-11T15:22:57.678009Z"
    },
    "papermill": {
     "duration": 60.37667,
     "end_time": "2022-06-11T15:22:57.678138",
     "exception": false,
     "start_time": "2022-06-11T15:21:57.301468",
     "status": "completed"
    },
    "tags": []
   },
   "outputs": [
    {
     "data": {
      "image/png": "[encoded data removed]",
      "text/plain": [
       "<Figure size 432x288 with 1 Axes>"
      ]
     },
     "metadata": {
      "needs_background": "light"
     },
     "output_type": "display_data"
    },
    {
     "data": {
      "image/png": "[encoded data removed]",
      "text/plain": [
       "<Figure size 432x288 with 1 Axes>"
      ]
     },
     "metadata": {
      "needs_background": "light"
     },
     "output_type": "display_data"
    }
   ],
   "source": [
    "#Training the ABC_GAN \n",
    "ABC_train_test2.training_GAN(disc,gen,disc_opt,gen_opt,train_data,batch_size,n_epochs,criterion,prior_model,variance,bias,device)"
   ]
  },
  {
   "cell_type": "code",
   "execution_count": 13,
   "id": "1fa7c368",
   "metadata": {
    "execution": {
     "iopub.execute_input": "2022-06-11T15:22:57.703280Z",
     "iopub.status.busy": "2022-06-11T15:22:57.702902Z",
     "iopub.status.idle": "2022-06-11T15:22:58.009692Z",
     "shell.execute_reply": "2022-06-11T15:22:58.009991Z"
    },
    "papermill": {
     "duration": 0.320907,
     "end_time": "2022-06-11T15:22:58.010112",
     "exception": false,
     "start_time": "2022-06-11T15:22:57.689205",
     "status": "completed"
    },
    "tags": []
   },
   "outputs": [
    {
     "data": {
      "application/scrapbook.scrap.json+json": {
       "data": 0.068930755095618,
       "encoder": "json",
       "name": "ABC-GAN Model 1 MSE",
       "version": 1
      }
     },
     "metadata": {
      "scrapbook": {
       "data": true,
       "display": false,
       "name": "ABC-GAN Model 1 MSE"
      }
     },
     "output_type": "display_data"
    },
    {
     "data": {
      "application/scrapbook.scrap.json+json": {
       "data": 0.19617691362769726,
       "encoder": "json",
       "name": "ABC-GAN Model 1 MAE",
       "version": 1
      }
     },
     "metadata": {
      "scrapbook": {
       "data": true,
       "display": false,
       "name": "ABC-GAN Model 1 MAE"
      }
     },
     "output_type": "display_data"
    },
    {
     "data": {
      "application/scrapbook.scrap.json+json": {
       "data": 20.01004519002512,
       "encoder": "json",
       "name": "ABC-GAN Model 1 Manhattan Distance",
       "version": 1
      }
     },
     "metadata": {
      "scrapbook": {
       "data": true,
       "display": false,
       "name": "ABC-GAN Model 1 Manhattan Distance"
      }
     },
     "output_type": "display_data"
    },
    {
     "data": {
      "application/scrapbook.scrap.json+json": {
       "data": 2.6503068255750617,
       "encoder": "json",
       "name": "ABC-GAN Model 1 Euclidean distance",
       "version": 1
      }
     },
     "metadata": {
      "scrapbook": {
       "data": true,
       "display": false,
       "name": "ABC-GAN Model 1 Euclidean distance"
      }
     },
     "output_type": "display_data"
    },
    {
     "data": {
      "application/scrapbook.scrap.json+json": {
       "data": [
        [
         0.07468568670832125,
         0.06081152282062442,
         0.06608804274173821,
         0.06280197859470596,
         0.07575410536513942,
         0.07539256088373712,
         0.07362954491385591,
         0.06766324395284826,
         0.06697387152942838,
         0.06856077988735995,
         0.07459982404027977,
         0.07225515008644845,
         0.06894843958223125,
         0.06688605898391406,
         0.07097959494987491,
         0.07250983996750923,
         0.07293995029576687,
         0.06525546744229158,
         0.06704878163983045,
         0.06808813032310712,
         0.06259140321110564,
         0.07117884370821696,
         0.0711692255272346,
         0.0750068432013756,
         0.06411890366402846,
         0.0660306890149427,
         0.07081450618687471,
         0.06615916851605139,
         0.06637084125515352,
         0.07252502210495336,
         0.07438827940633902,
         0.07073606170555852,
         0.06993471733858846,
         0.07416437425299055,
         0.05823734709903974,
         0.05804377805983533,
         0.07508216256472888,
         0.07527467433300965,
         0.0783400710027438,
         0.07101731243918308,
         0.06879301471176637,
         0.0733752221421982,
         0.06142625577121923,
         0.07298187166727753,
         0.06426482534031375,
         0.06766629018869016,
         0.06935888757089233,
         0.060123168109334796,
         0.06675604611608944,
         0.06913323359164279,
         0.06775901713153952,
         0.059430346653016684,
         0.06763042153211295,
         0.06826923813487291,
         0.069750229829223,
         0.06298823684880013,
         0.06977971456539779,
         0.07027028439199343,
         0.07078680192281583,
         0.06417715284530971,
         0.06600389565013912,
         0.07141268990344578,
         0.06466657967755003,
         0.06906270112833644,
         0.07132452587141747,
         0.0770883981212142,
         0.06835357367978019,
         0.0802651700052522,
         0.0681705216882839,
         0.07137483452077864,
         0.06519268702341918,
         0.0708225827480755,
         0.06511756915802513,
         0.07079466699782792,
         0.06799886993500497,
         0.0687212541829054,
         0.06980355270357136,
         0.07040900886054022,
         0.06625204138940857,
         0.06779108911591375,
         0.0747484777296193,
         0.06410304548376577,
         0.06834600557784065,
         0.07032030642915774,
         0.06752992896550845,
         0.06188073256766284,
         0.07328712095648816,
         0.06876181592957882,
         0.07307689360378858,
         0.06669809661208909,
         0.06897791155907501,
         0.06731151079706726,
         0.06579468563468595,
         0.06823500005826326,
         0.06489150963419647,
         0.06844212360951751,
         0.07347501701141518,
         0.07015461328960695,
         0.07053689247814143,
         0.06810055090796807
        ],
        [
         0.20329797209477893,
         0.19178921219838016,
         0.18922581846880562,
         0.19045256222506948,
         0.20722869058669197,
         0.20274317452647522,
         0.19818973809699802,
         0.1925710796688994,
         0.20009560992612557,
         0.19304206724479503,
         0.2121686327873784,
         0.20591544504186102,
         0.1929469238053642,
         0.19250975467045517,
         0.19908123483479606,
         0.19773754152451076,
         0.19884425180726775,
         0.1946541412240442,
         0.18913882238534735,
         0.19736471591407762,
         0.1902408130722595,
         0.2017458382373055,
         0.2045197211498139,
         0.20053648523182846,
         0.18515667028944283,
         0.19204616453498602,
         0.19873867645932763,
         0.19193453705120905,
         0.18783913813896624,
         0.2010745471891235,
         0.2019570849141946,
         0.1969293437569457,
         0.19808212304305212,
         0.19791037905230827,
         0.1799127990014705,
         0.1866131250874377,
         0.2000546281353808,
         0.20247773641683892,
         0.20366430127372345,
         0.19790481788781927,
         0.19817573191853716,
         0.20819914806634188,
         0.1926939698009222,
         0.1968798759557745,
         0.18619393854968103,
         0.19716513912905664,
         0.19962429268029974,
         0.18155778383872673,
         0.19283297767533975,
         0.19778084110322536,
         0.19202258207780473,
         0.1852666020904686,
         0.19573887107053808,
         0.19633802430083355,
         0.19846938691083707,
         0.1893749090788119,
         0.19347112306265854,
         0.2019323007404512,
         0.19527290449203813,
         0.18966906767922873,
         0.1917858430750522,
         0.19957575623822563,
         0.1888863530338687,
         0.19801474521484444,
         0.20278831595080157,
         0.19699532335952802,
         0.19685913514638065,
         0.20786929990657987,
         0.19234480670488932,
         0.19897504534353228,
         0.1936328205846104,
         0.20507889396200576,
         0.18875662728632783,
         0.19786661353838794,
         0.19627166694651046,
         0.19626906892175183,
         0.1973167878995631,
         0.1993824317868726,
         0.18840309783962428,
         0.1959057082695996,
         0.20259101756428385,
         0.18686243095526509,
         0.1955817471641828,
         0.1983371740937525,
         0.19684758068372807,
         0.18903366642474545,
         0.2024605549762354,
         0.19507505841480166,
         0.20106427997862006,
         0.1931620543165242,
         0.19429365065240978,
         0.1984799436896163,
         0.19938682025188909,
         0.19556778528745852,
         0.18972343325103616,
         0.1972976920614932,
         0.20351747848897003,
         0.19863145446003067,
         0.19591539818793535,
         0.1938880116806603
        ],
        [
         20.73639315366745,
         19.562499644234776,
         19.301033483818173,
         19.426161346957088,
         21.13732643984258,
         20.679803801700473,
         20.215353285893798,
         19.642250126227736,
         20.40975221246481,
         19.690290858969092,
         21.641200544312596,
         21.003375394269824,
         19.68058622814715,
         19.635994976386428,
         20.3062859531492,
         20.169229235500097,
         20.28211368434131,
         19.85472240485251,
         19.29215988330543,
         20.131201023235917,
         19.40456293337047,
         20.57807550020516,
         20.861011557281017,
         20.454721493646502,
         18.885980369523168,
         19.588708782568574,
         20.27134499885142,
         19.577322779223323,
         19.159592090174556,
         20.509603813290596,
         20.59962266124785,
         20.08679306320846,
         20.204376550391316,
         20.186858663335443,
         18.35110549814999,
         19.034538758918643,
         20.40557206980884,
         20.65272911451757,
         20.77375872991979,
         20.186291424557567,
         20.21392465569079,
         21.23631310276687,
         19.654784919694066,
         20.081747347489,
         18.991781732067466,
         20.11084419116378,
         20.361677853390574,
         18.518893951550126,
         19.668963722884655,
         20.173645792528987,
         19.586303371936083,
         18.897193413227797,
         19.965364849194884,
         20.02647847868502,
         20.24387746490538,
         19.316240726038814,
         19.73405455239117,
         20.597094675526023,
         19.91783625818789,
         19.34624490328133,
         19.562155993655324,
         20.356727136299014,
         19.266408009454608,
         20.197504011914134,
         20.68440822698176,
         20.093522982671857,
         20.079631784930825,
         21.20266859047115,
         19.61917028389871,
         20.295454625040293,
         19.75054769963026,
         20.91804718412459,
         19.253175983205438,
         20.18239458091557,
         20.01971002854407,
         20.019445030018687,
         20.12631236575544,
         20.337008042261004,
         19.217115979641676,
         19.98238224349916,
         20.664283791556954,
         19.05996795743704,
         19.949338210746646,
         20.230391757562757,
         20.078453229740262,
         19.281433975324035,
         20.650976607576013,
         19.89765595830977,
         20.508556557819247,
         19.702529540285468,
         19.817952366545796,
         20.24495425634086,
         20.337455665692687,
         19.94791409932077,
         19.351790191605687,
         20.124364590272307,
         20.758782805874944,
         20.26040835492313,
         19.983370615169406,
         19.77657719142735
        ],
        [
         2.7600616015315254,
         2.4905371564591623,
         2.5963398004994063,
         2.530968553076076,
         2.7797335748672425,
         2.773092355140951,
         2.7404768893777054,
         2.6270993287636695,
         2.6136822484765996,
         2.644465834249086,
         2.758474587903346,
         2.714779053407062,
         2.6519315295436243,
         2.611968226521761,
         2.6907096991104855,
         2.719559463715758,
         2.727613412888311,
         2.5799336578900123,
         2.6151435385582005,
         2.6353347591827734,
         2.526721814433234,
         2.6944836348061436,
         2.6943015799605528,
         2.7659895167083173,
         2.5573674303335654,
         2.5952129545615623,
         2.6875787674152396,
         2.597736551045398,
         2.6018888923291206,
         2.7198441600035186,
         2.754560672674788,
         2.6860897777190855,
         2.6708315500113486,
         2.7504120007382595,
         2.437254480784075,
         2.433200641563125,
         2.767377925329742,
         2.7709234529244915,
         2.826780366827226,
         2.6914245054982824,
         2.6489408261794316,
         2.7357398740567818,
         2.5030937035325627,
         2.7283971320286766,
         2.5602758024697265,
         2.627158464814484,
         2.659813251382701,
         2.476401249222781,
         2.609428424740009,
         2.6554829742153436,
         2.628957920434831,
         2.4620916633236263,
         2.626462068310814,
         2.638837298841487,
         2.6673064020807105,
         2.534718950609241,
         2.6678701028480702,
         2.6772315940133624,
         2.6870529946629658,
         2.558528794096637,
         2.594686369547231,
         2.698906143264613,
         2.5682661713907504,
         2.654128014073608,
         2.697239633196239,
         2.8041070964504633,
         2.640466723012729,
         2.8613016863895573,
         2.6369287461372477,
         2.6981907125181905,
         2.578692319061884,
         2.687732025389381,
         2.5772062498214154,
         2.6872022688622543,
         2.6336067917155943,
         2.6475588617925667,
         2.668325762676716,
         2.6798729267961763,
         2.5995592360474635,
         2.629580021566791,
         2.76122160074507,
         2.5570511608773314,
         2.6403205428394005,
         2.6781843207244136,
         2.6245100027399135,
         2.512336506501788,
         2.734096987592392,
         2.6483400885870076,
         2.7301727321886498,
         2.6082955841762043,
         2.6524982524076526,
         2.6202622199506793,
         2.5905709669372055,
         2.6381755070394486,
         2.5727288980162757,
         2.642176490730849,
         2.7375996301804886,
         2.6750272065046197,
         2.6823055442604646,
         2.6355751161013683
        ]
       ],
       "encoder": "json",
       "name": "ABC_GAN_1 Metrics",
       "version": 1
      }
     },
     "metadata": {
      "scrapbook": {
       "data": true,
       "display": false,
       "name": "ABC_GAN_1 Metrics"
      }
     },
     "output_type": "display_data"
    },
    {
     "name": "stdout",
     "output_type": "stream",
     "text": [
      "MSE\n",
      "0.068930755095618\n"
     ]
    }
   ],
   "source": [
    "ABC_GAN1_metrics=ABC_train_test2.test_generator(gen,test_data,prior_model,variance,bias,\"1\",device)\n",
    "sb.glue(\"ABC_GAN_1 Metrics\",ABC_GAN1_metrics)\n",
    "\n",
    "print(\"MSE\")\n",
    "print(mean(ABC_GAN1_metrics[0]))"
   ]
  },
  {
   "cell_type": "code",
   "execution_count": 14,
   "id": "eb22ce5c",
   "metadata": {
    "execution": {
     "iopub.execute_input": "2022-06-11T15:22:58.038330Z",
     "iopub.status.busy": "2022-06-11T15:22:58.037867Z",
     "iopub.status.idle": "2022-06-11T15:22:58.361962Z",
     "shell.execute_reply": "2022-06-11T15:22:58.362269Z"
    },
    "papermill": {
     "duration": 0.339581,
     "end_time": "2022-06-11T15:22:58.362394",
     "exception": false,
     "start_time": "2022-06-11T15:22:58.022813",
     "status": "completed"
    },
    "tags": []
   },
   "outputs": [
    {
     "data": {
      "image/png": "[encoded data removed]",
      "text/plain": [
       "<Figure size 432x288 with 1 Axes>"
      ]
     },
     "metadata": {
      "needs_background": "light"
     },
     "output_type": "display_data"
    },
    {
     "data": {
      "image/png": "[encoded data removed]",
      "text/plain": [
       "<Figure size 432x288 with 1 Axes>"
      ]
     },
     "metadata": {
      "needs_background": "light"
     },
     "output_type": "display_data"
    },
    {
     "data": {
      "image/png": "[encoded data removed]",
      "text/plain": [
       "<Figure size 432x288 with 1 Axes>"
      ]
     },
     "metadata": {
      "needs_background": "light"
     },
     "output_type": "display_data"
    },
    {
     "data": {
      "image/png": "[encoded data removed]",
      "text/plain": [
       "<Figure size 432x288 with 1 Axes>"
      ]
     },
     "metadata": {
      "needs_background": "light"
     },
     "output_type": "display_data"
    }
   ],
   "source": [
    "sanityChecks.discProbVsError(train_data,disc,device)\n",
    "sanityChecks.discProbVsError(test_data,disc,device)"
   ]
  },
  {
   "cell_type": "markdown",
   "id": "130f3a4d",
   "metadata": {
    "id": "130f3a4d",
    "papermill": {
     "duration": 0.014429,
     "end_time": "2022-06-11T15:22:58.391766",
     "exception": false,
     "start_time": "2022-06-11T15:22:58.377337",
     "status": "completed"
    },
    "tags": []
   },
   "source": [
    "# ABC - GAN Model with skip connection"
   ]
  },
  {
   "cell_type": "code",
   "execution_count": 15,
   "id": "4e43dad1",
   "metadata": {
    "execution": {
     "iopub.execute_input": "2022-06-11T15:22:58.425317Z",
     "iopub.status.busy": "2022-06-11T15:22:58.424856Z",
     "iopub.status.idle": "2022-06-11T15:22:58.427187Z",
     "shell.execute_reply": "2022-06-11T15:22:58.427431Z"
    },
    "id": "4e43dad1",
    "papermill": {
     "duration": 0.020948,
     "end_time": "2022-06-11T15:22:58.427557",
     "exception": false,
     "start_time": "2022-06-11T15:22:58.406609",
     "status": "completed"
    },
    "tags": []
   },
   "outputs": [],
   "source": [
    "#Generator\n",
    "gen3 = network.GeneratorWithSkipConnection(n_features+1).to(device)\n",
    "constraints=network.weightConstraint()\n",
    "#Discriminator \n",
    "disc3 = network.Discriminator(n_features+1).to(device)\n",
    "\n",
    "criterion = torch.nn.BCELoss()\n",
    "gen_opt = torch.optim.Adam(gen3.parameters(), lr=0.001, betas=(0.5, 0.999))\n",
    "disc_opt = torch.optim.Adam(disc3.parameters(), lr=0.001, betas=(0.5, 0.999))\n"
   ]
  },
  {
   "cell_type": "code",
   "execution_count": 16,
   "id": "26acbc37",
   "metadata": {
    "execution": {
     "iopub.execute_input": "2022-06-11T15:22:58.460072Z",
     "iopub.status.busy": "2022-06-11T15:22:58.459707Z",
     "iopub.status.idle": "2022-06-11T15:25:55.916690Z",
     "shell.execute_reply": "2022-06-11T15:25:55.917004Z"
    },
    "id": "26acbc37",
    "papermill": {
     "duration": 177.474361,
     "end_time": "2022-06-11T15:25:55.917126",
     "exception": false,
     "start_time": "2022-06-11T15:22:58.442765",
     "status": "completed"
    },
    "tags": []
   },
   "outputs": [
    {
     "data": {
      "image/png": "[encoded data removed]",
      "text/plain": [
       "<Figure size 432x288 with 1 Axes>"
      ]
     },
     "metadata": {
      "needs_background": "light"
     },
     "output_type": "display_data"
    },
    {
     "data": {
      "image/png": "[encoded data removed]",
      "text/plain": [
       "<Figure size 432x288 with 1 Axes>"
      ]
     },
     "metadata": {
      "needs_background": "light"
     },
     "output_type": "display_data"
    }
   ],
   "source": [
    "ABC_train_test2.training_GAN_skip_connection(disc3,gen3,disc_opt,gen_opt,train_data,batch_size,n_epochs,criterion,prior_model,variance,bias,device)"
   ]
  },
  {
   "cell_type": "code",
   "execution_count": 17,
   "id": "c5e0717b",
   "metadata": {
    "execution": {
     "iopub.execute_input": "2022-06-11T15:25:55.951780Z",
     "iopub.status.busy": "2022-06-11T15:25:55.951397Z",
     "iopub.status.idle": "2022-06-11T15:25:56.776885Z",
     "shell.execute_reply": "2022-06-11T15:25:56.777191Z"
    },
    "id": "c5e0717b",
    "papermill": {
     "duration": 0.844479,
     "end_time": "2022-06-11T15:25:56.777312",
     "exception": false,
     "start_time": "2022-06-11T15:25:55.932833",
     "status": "completed"
    },
    "tags": []
   },
   "outputs": [
    {
     "data": {
      "application/scrapbook.scrap.json+json": {
       "data": 0.08987068470930287,
       "encoder": "json",
       "name": "ABC-GAN Model 3 MSE",
       "version": 1
      }
     },
     "metadata": {
      "scrapbook": {
       "data": true,
       "display": false,
       "name": "ABC-GAN Model 3 MSE"
      }
     },
     "output_type": "display_data"
    },
    {
     "data": {
      "application/scrapbook.scrap.json+json": {
       "data": 0.2158295745793365,
       "encoder": "json",
       "name": "ABC-GAN Model 3 MAE",
       "version": 1
      }
     },
     "metadata": {
      "scrapbook": {
       "data": true,
       "display": false,
       "name": "ABC-GAN Model 3 MAE"
      }
     },
     "output_type": "display_data"
    },
    {
     "data": {
      "application/scrapbook.scrap.json+json": {
       "data": 22.01461660709232,
       "encoder": "json",
       "name": "ABC-GAN Model 3 Manhattan Distance",
       "version": 1
      }
     },
     "metadata": {
      "scrapbook": {
       "data": true,
       "display": false,
       "name": "ABC-GAN Model 3 Manhattan Distance"
      }
     },
     "output_type": "display_data"
    },
    {
     "data": {
      "application/scrapbook.scrap.json+json": {
       "data": 3.026808962451932,
       "encoder": "json",
       "name": "ABC-GAN Model 3 Euclidean distance",
       "version": 1
      }
     },
     "metadata": {
      "scrapbook": {
       "data": true,
       "display": false,
       "name": "ABC-GAN Model 3 Euclidean distance"
      }
     },
     "output_type": "display_data"
    },
    {
     "data": {
      "application/scrapbook.scrap.json+json": {
       "data": [
        [
         0.08836230132971824,
         0.08548820217865927,
         0.0892197733451054,
         0.09145483380617649,
         0.09317300433523455,
         0.08758061232495834,
         0.0841700002150317,
         0.08855488008819862,
         0.08828080248765985,
         0.08619077681944569,
         0.0866295782452775,
         0.09148391661324361,
         0.09589491739711317,
         0.09153636074142184,
         0.08729576502419817,
         0.09512423838340955,
         0.08565247878338801,
         0.090036129938232,
         0.08235649934434033,
         0.08906949886105642,
         0.0870412216362497,
         0.09594612857800615,
         0.09285757976588947,
         0.09198379442307605,
         0.09610923230217945,
         0.08374554592143939,
         0.09090205781052767,
         0.08565386316520504,
         0.08408247757075951,
         0.09075590263922755,
         0.08326859641494634,
         0.09195244006289267,
         0.08836036635513873,
         0.08809490284130932,
         0.09483470859930995,
         0.09619391412747702,
         0.09433042496675934,
         0.09980979136877666,
         0.08579139148791551,
         0.0877606649273201,
         0.09434519687837235,
         0.09580928286834302,
         0.10132056401414913,
         0.0927545104363514,
         0.09398720736508603,
         0.09236943288181405,
         0.08536411911339005,
         0.08890975033483253,
         0.09240184431563028,
         0.0939333015767138,
         0.09080193186595888,
         0.09155639894822272,
         0.0822729041513499,
         0.08670551410995957,
         0.08320422007739263,
         0.08601837882612516,
         0.09298691426585783,
         0.08590429959827592,
         0.09543185704568553,
         0.09201319499404521,
         0.09568245570544737,
         0.0930251141227229,
         0.08643726672862372,
         0.09274911881016704,
         0.09289033531529504,
         0.0819231908019956,
         0.09131276727392992,
         0.08309399949353005,
         0.08455992392445992,
         0.08790962117798462,
         0.08163813823772995,
         0.09542142912425071,
         0.09437046702713801,
         0.0873657812743338,
         0.09280228715793637,
         0.0899009067061731,
         0.08810889890851374,
         0.09001709420062562,
         0.08706994063711286,
         0.08936887158148,
         0.08631080494370963,
         0.09013653588521671,
         0.09193420250538133,
         0.09478886190858954,
         0.08621837657961082,
         0.08614183488793642,
         0.08692276368675539,
         0.08310294566554863,
         0.08579562416448987,
         0.09029309990601402,
         0.09761182593851152,
         0.08982782170448747,
         0.09145980576986185,
         0.08735539594710838,
         0.09341959249604771,
         0.09821407340926532,
         0.08640894037636901,
         0.08841937144312266,
         0.0949337859559379,
         0.08700480065304216
        ],
        [
         0.20945589801333114,
         0.21253350196296678,
         0.21724564583935574,
         0.21571334882401952,
         0.21676889129494334,
         0.21779350052569427,
         0.20708303973443953,
         0.21392761125211038,
         0.2071357560800571,
         0.21027065660147107,
         0.21300934090772095,
         0.22288249557216963,
         0.2235651106628425,
         0.2135199939868614,
         0.20501018925478645,
         0.22435703482844083,
         0.21590133151952542,
         0.21780986452073442,
         0.2090856739885959,
         0.21000414809175566,
         0.21624604641806847,
         0.22332129189196756,
         0.21707704508056244,
         0.21465878226958654,
         0.22786886780066232,
         0.2182829931889679,
         0.21975029747494879,
         0.21640563356306622,
         0.2164310531544627,
         0.21692861921573972,
         0.20440332056479713,
         0.2172511676326394,
         0.2181926070730768,
         0.2110656543324391,
         0.22251207964020034,
         0.22108097363482504,
         0.2130942770699952,
         0.23285600590501346,
         0.21415328376871698,
         0.21908187192371664,
         0.2240501585434757,
         0.22349883206919127,
         0.2287867020121684,
         0.21954078678333877,
         0.22008033058441737,
         0.22214414909774183,
         0.20902728857289926,
         0.21202038469560006,
         0.21919691380040318,
         0.22273146678857944,
         0.22147932624919156,
         0.22001226892804399,
         0.2008259773217872,
         0.21582464451956399,
         0.20601007168856905,
         0.2065619090206775,
         0.20927758209918643,
         0.2024957496380689,
         0.21741405200651465,
         0.22045969126709536,
         0.22021539450860492,
         0.21290731404487992,
         0.21314332736473457,
         0.2181243664018956,
         0.221146001900528,
         0.20733967341263504,
         0.21345230011159882,
         0.20856694480879048,
         0.2173561968238038,
         0.2106984689210852,
         0.20747857904244288,
         0.22526506128191365,
         0.21646228441785947,
         0.21004689892060033,
         0.2216712987123459,
         0.211137381418809,
         0.21151167380751348,
         0.21383946478439897,
         0.2145411709287003,
         0.22161075023605542,
         0.21530758500026137,
         0.21764939205319273,
         0.21697072063883147,
         0.22215099921267406,
         0.21472927330828764,
         0.2138887426505486,
         0.21326963594365939,
         0.21446754604431928,
         0.2167903934148889,
         0.21263687586521401,
         0.21874996446365236,
         0.21812340096734903,
         0.21551432982817584,
         0.21307607489984995,
         0.2186816717297131,
         0.22652376549062775,
         0.21557573506645128,
         0.20873995948875068,
         0.22259926885439485,
         0.20582438041182124
        ],
        [
         21.364501597359776,
         21.67841720022261,
         22.159055875614285,
         22.00276158004999,
         22.110426912084222,
         22.214937053620815,
         21.12247005291283,
         21.82061634771526,
         21.127847120165825,
         21.447606973350048,
         21.726952772587538,
         22.7340145483613,
         22.803641287609935,
         21.77903938665986,
         20.91103930398822,
         22.884417552500963,
         22.021935814991593,
         22.216606181114912,
         21.32673874683678,
         21.420423105359077,
         22.057096734642982,
         22.77877177298069,
         22.141858598217368,
         21.895195791497827,
         23.242624515667558,
         22.264865305274725,
         22.414530342444777,
         22.073374623432755,
         22.075967421755195,
         22.12671916000545,
         20.849138697609305,
         22.15961909852922,
         22.255645921453834,
         21.52869674190879,
         22.696232123300433,
         22.550259310752153,
         21.735616261139512,
         23.751312602311373,
         21.843634944409132,
         22.346350936219096,
         22.85311617143452,
         22.79688087105751,
         23.33624360524118,
         22.393160251900554,
         22.448193719610572,
         22.658703207969666,
         21.320783434435725,
         21.626079238951206,
         22.358085207641125,
         22.718609612435102,
         22.59089127741754,
         22.441251430660486,
         20.484249686822295,
         22.014113740995526,
         21.013027312234044,
         21.069314720109105,
         21.346313374117017,
         20.65456646308303,
         22.176233304664493,
         22.486888509243727,
         22.4619702398777,
         21.716546032577753,
         21.740619391202927,
         22.24868537299335,
         22.556892193853855,
         21.148646688088775,
         21.77213461138308,
         21.27382837049663,
         22.17033207602799,
         21.49124382995069,
         21.162815062329173,
         22.97703625075519,
         22.079153010621667,
         21.424783689901233,
         22.61047246865928,
         21.53601290471852,
         21.574190728366375,
         21.811625408008695,
         21.88319943472743,
         22.604296524077654,
         21.96137367002666,
         22.20023798942566,
         22.13101350516081,
         22.659401919692755,
         21.90238587744534,
         21.81665175035596,
         21.753502866253257,
         21.875689696520567,
         22.112620128318667,
         21.68896133825183,
         22.31249637529254,
         22.2485868986696,
         21.982461642473936,
         21.733759639784694,
         22.305530516430736,
         23.10542408004403,
         21.98872497677803,
         21.29147586785257,
         22.705125423148274,
         20.994086802005768
        ],
        [
         3.0021583461954937,
         2.9529301756430417,
         3.0166897223945233,
         3.054241812337392,
         3.082798475767419,
         2.988849687947815,
         2.9300750881049495,
         3.0054280508766564,
         3.000773542562201,
         2.965039499835282,
         2.972577497899475,
         3.0547274010213816,
         3.1275040486793206,
         3.0556028530594452,
         2.983985260095668,
         3.114911285270862,
         2.9557660319967103,
         3.0304595779682764,
         2.898337960473677,
         3.0141481190923174,
         2.9796316226838293,
         3.1283390345288065,
         3.07757585383703,
         3.0630617086754492,
         3.1309969170892367,
         2.9226778276072127,
         3.044997519978271,
         2.955789918592137,
         2.9285512992292735,
         3.042548614106472,
         2.914343293835598,
         3.062539613852374,
         3.002125475096627,
         2.997612398195195,
         3.1101672426301477,
         3.1323759737621937,
         3.101887062194472,
         3.190705050551558,
         2.9581619177738365,
         2.991920423839285,
         3.102129926613968,
         3.1261073002331483,
         3.214762437481689,
         3.0758673678342894,
         3.0962388717989393,
         3.069475876097584,
         2.9507863612206466,
         3.011443928442454,
         3.0700143517896272,
         3.095350830006965,
         3.043320070306079,
         3.0559372854688482,
         2.8968666216168266,
         2.973880031073189,
         2.913216512361216,
         2.962072693278267,
         3.0797183726953823,
         2.9601078627347586,
         3.1199438165870745,
         3.0635511892887664,
         3.124037528896801,
         3.0803508956801875,
         2.9692762091660687,
         3.075777969658577,
         3.0781186140498376,
         2.8907032815222578,
         3.0518686508335926,
         2.911286304769777,
         2.9368541401123265,
         2.9944584418813416,
         2.885669783646156,
         3.1197733524526368,
         3.102545348059891,
         2.9851816845850516,
         3.0766594368095914,
         3.028183033442605,
         2.997850511394523,
         3.0301392061197134,
         2.9801231425874852,
         3.019209317240353,
         2.96710331877041,
         3.032148851935225,
         3.0622358915584695,
         3.109415365414555,
         2.965514190004881,
         2.964197557277435,
         2.977603381252958,
         2.9114430198590457,
         2.9582348900616338,
         3.0347810778396234,
         3.1553773539353696,
         3.026951901477411,
         3.0543248334985442,
         2.985004252359627,
         3.086875189345508,
         3.1650964420922563,
         2.968789638622049,
         3.003127684131748,
         3.111791472368556,
         2.9790081682684755
        ]
       ],
       "encoder": "json",
       "name": "ABC_GAN_3 Metrics",
       "version": 1
      }
     },
     "metadata": {
      "scrapbook": {
       "data": true,
       "display": false,
       "name": "ABC_GAN_3 Metrics"
      }
     },
     "output_type": "display_data"
    },
    {
     "name": "stdout",
     "output_type": "stream",
     "text": [
      "MSE\n",
      "0.08987068470930287\n"
     ]
    }
   ],
   "source": [
    "ABC_GAN3_metrics=ABC_train_test2.test_generator(gen3,test_data,prior_model,variance,bias,\"3\",device)\n",
    "sb.glue(\"ABC_GAN_3 Metrics\",ABC_GAN3_metrics)\n",
    "\n",
    "print(\"MSE\")\n",
    "print(mean(ABC_GAN3_metrics[0]))"
   ]
  },
  {
   "cell_type": "code",
   "execution_count": 18,
   "id": "c8e46b48",
   "metadata": {
    "execution": {
     "iopub.execute_input": "2022-06-11T15:25:56.814637Z",
     "iopub.status.busy": "2022-06-11T15:25:56.814244Z",
     "iopub.status.idle": "2022-06-11T15:25:57.147142Z",
     "shell.execute_reply": "2022-06-11T15:25:57.147438Z"
    },
    "id": "c8e46b48",
    "papermill": {
     "duration": 0.352976,
     "end_time": "2022-06-11T15:25:57.147558",
     "exception": false,
     "start_time": "2022-06-11T15:25:56.794582",
     "status": "completed"
    },
    "tags": []
   },
   "outputs": [
    {
     "data": {
      "image/png": "[encoded data removed]",
      "text/plain": [
       "<Figure size 432x288 with 1 Axes>"
      ]
     },
     "metadata": {
      "needs_background": "light"
     },
     "output_type": "display_data"
    },
    {
     "data": {
      "image/png": "[encoded data removed]",
      "text/plain": [
       "<Figure size 432x288 with 1 Axes>"
      ]
     },
     "metadata": {
      "needs_background": "light"
     },
     "output_type": "display_data"
    },
    {
     "data": {
      "image/png": "[encoded data removed]",
      "text/plain": [
       "<Figure size 432x288 with 1 Axes>"
      ]
     },
     "metadata": {
      "needs_background": "light"
     },
     "output_type": "display_data"
    },
    {
     "data": {
      "image/png": "[encoded data removed]",
      "text/plain": [
       "<Figure size 432x288 with 1 Axes>"
      ]
     },
     "metadata": {
      "needs_background": "light"
     },
     "output_type": "display_data"
    }
   ],
   "source": [
    "sanityChecks.discProbVsError(train_data,disc3,device)\n",
    "sanityChecks.discProbVsError(test_data,disc3,device)"
   ]
  },
  {
   "cell_type": "markdown",
   "id": "a5bd74c3",
   "metadata": {
    "id": "a5bd74c3",
    "papermill": {
     "duration": 0.019544,
     "end_time": "2022-06-11T15:25:57.186728",
     "exception": false,
     "start_time": "2022-06-11T15:25:57.167184",
     "status": "completed"
    },
    "tags": []
   },
   "source": [
    "## Skip Connection Model Analysis - ABC-GAN "
   ]
  },
  {
   "cell_type": "markdown",
   "id": "5744a8bf",
   "metadata": {
    "id": "5744a8bf",
    "papermill": {
     "duration": 0.019006,
     "end_time": "2022-06-11T15:25:57.224857",
     "exception": false,
     "start_time": "2022-06-11T15:25:57.205851",
     "status": "completed"
    },
    "tags": []
   },
   "source": [
    "### Weight Analysis \n",
    "\n",
    "Study the weights of the skip connection layer\n",
    "\n",
    "Equation of the skip connection is \n",
    "\n",
    "$output = y_{gan} * w + y_{abc} * (1-w)$"
   ]
  },
  {
   "cell_type": "code",
   "execution_count": 19,
   "id": "52c31dea",
   "metadata": {
    "execution": {
     "iopub.execute_input": "2022-06-11T15:25:57.265854Z",
     "iopub.status.busy": "2022-06-11T15:25:57.265471Z",
     "iopub.status.idle": "2022-06-11T15:25:57.268770Z",
     "shell.execute_reply": "2022-06-11T15:25:57.269009Z"
    },
    "id": "52c31dea",
    "papermill": {
     "duration": 0.025227,
     "end_time": "2022-06-11T15:25:57.269119",
     "exception": false,
     "start_time": "2022-06-11T15:25:57.243892",
     "status": "completed"
    },
    "tags": []
   },
   "outputs": [
    {
     "name": "stdout",
     "output_type": "stream",
     "text": [
      "Weight of the node at skip connection\n",
      "Parameter containing:\n",
      "tensor([[0.2537]], requires_grad=True)\n"
     ]
    },
    {
     "data": {
      "application/scrapbook.scrap.json+json": {
       "data": 0.2536962330341339,
       "encoder": "json",
       "name": "Skip Connection Weight",
       "version": 1
      }
     },
     "metadata": {
      "scrapbook": {
       "data": true,
       "display": false,
       "name": "Skip Connection Weight"
      }
     },
     "output_type": "display_data"
    }
   ],
   "source": [
    "print(\"Weight of the node at skip connection\")\n",
    "for name,param in gen3.named_parameters():\n",
    "    if(name == \"skipNode.weight\"):\n",
    "        print(param)\n",
    "        sb.glue(\"Skip Connection Weight\",param.item())"
   ]
  }
 ],
 "metadata": {
  "colab": {
   "collapsed_sections": [],
   "name": "ABC_GAN_Model-Catboost_Pre-gen.ipynb",
   "provenance": []
  },
  "interpreter": {
   "hash": "31f2aee4e71d21fbe5cf8b01ff0e069b9275f58929596ceb00d14d90e3e16cd6"
  },
  "kernelspec": {
   "display_name": "Python 3 (ipykernel)",
   "language": "python",
   "name": "python3"
  },
  "language_info": {
   "codemirror_mode": {
    "name": "ipython",
    "version": 3
   },
   "file_extension": ".py",
   "mimetype": "text/x-python",
   "name": "python",
   "nbconvert_exporter": "python",
   "pygments_lexer": "ipython3",
   "version": "3.8.11"
  },
  "papermill": {
   "default_parameters": {},
   "duration": 243.938166,
   "end_time": "2022-06-11T15:25:57.599673",
   "environment_variables": {},
   "exception": null,
   "input_path": "ABC_GAN-Catboost.ipynb",
   "output_path": "./ABC_GAN_Catboost/ABC-GAN_output_1_7.ipynb",
   "parameters": {
    "bias": 0.01,
    "variance": 0.1
   },
   "start_time": "2022-06-11T15:21:53.661507",
   "version": "2.3.3"
  }
 },
 "nbformat": 4,
 "nbformat_minor": 5
}