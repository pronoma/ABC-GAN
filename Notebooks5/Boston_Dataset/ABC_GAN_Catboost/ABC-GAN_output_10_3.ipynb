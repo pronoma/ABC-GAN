{
 "cells": [
  {
   "cell_type": "markdown",
   "id": "622780e6",
   "metadata": {
    "id": "622780e6",
    "papermill": {
     "duration": 0.034673,
     "end_time": "2022-06-12T08:31:52.785174",
     "exception": false,
     "start_time": "2022-06-12T08:31:52.750501",
     "status": "completed"
    },
    "tags": []
   },
   "source": [
    "## Import Libraries "
   ]
  },
  {
   "cell_type": "code",
   "execution_count": 1,
   "id": "a62397e3",
   "metadata": {
    "execution": {
     "iopub.execute_input": "2022-06-12T08:31:52.820365Z",
     "iopub.status.busy": "2022-06-12T08:31:52.819844Z",
     "iopub.status.idle": "2022-06-12T08:31:52.822119Z",
     "shell.execute_reply": "2022-06-12T08:31:52.822461Z"
    },
    "id": "a62397e3",
    "papermill": {
     "duration": 0.021586,
     "end_time": "2022-06-12T08:31:52.822673",
     "exception": false,
     "start_time": "2022-06-12T08:31:52.801087",
     "status": "completed"
    },
    "tags": []
   },
   "outputs": [],
   "source": [
    "import warnings\n",
    "import sys\n",
    "sys.path.insert(0, '../../src')\n",
    "warnings.filterwarnings('ignore')"
   ]
  },
  {
   "cell_type": "code",
   "execution_count": 2,
   "id": "d6a4e155",
   "metadata": {
    "execution": {
     "iopub.execute_input": "2022-06-12T08:31:52.843193Z",
     "iopub.status.busy": "2022-06-12T08:31:52.842796Z",
     "iopub.status.idle": "2022-06-12T08:31:54.683008Z",
     "shell.execute_reply": "2022-06-12T08:31:54.683269Z"
    },
    "id": "d6a4e155",
    "papermill": {
     "duration": 1.851144,
     "end_time": "2022-06-12T08:31:54.683394",
     "exception": false,
     "start_time": "2022-06-12T08:31:52.832250",
     "status": "completed"
    },
    "tags": []
   },
   "outputs": [],
   "source": [
    "import ABC_train_test2\n",
    "import bostonDataset\n",
    "import network\n",
    "import dataset\n",
    "import sanityChecks\n",
    "import torch \n",
    "import scrapbook as sb\n",
    "from statistics import mean \n",
    "import catboost as ctb \n",
    "from sklearn.model_selection import train_test_split\n",
    "from sklearn.metrics import mean_squared_error,mean_absolute_error\n",
    "import numpy as np"
   ]
  },
  {
   "cell_type": "markdown",
   "id": "2fa5b0f7",
   "metadata": {
    "id": "2fa5b0f7",
    "papermill": {
     "duration": 0.006712,
     "end_time": "2022-06-12T08:31:54.697204",
     "exception": false,
     "start_time": "2022-06-12T08:31:54.690492",
     "status": "completed"
    },
    "tags": []
   },
   "source": [
    "## Parameters "
   ]
  },
  {
   "cell_type": "code",
   "execution_count": 3,
   "id": "783186fb",
   "metadata": {
    "execution": {
     "iopub.execute_input": "2022-06-12T08:31:54.712791Z",
     "iopub.status.busy": "2022-06-12T08:31:54.712403Z",
     "iopub.status.idle": "2022-06-12T08:31:54.713680Z",
     "shell.execute_reply": "2022-06-12T08:31:54.713929Z"
    },
    "id": "783186fb",
    "papermill": {
     "duration": 0.010172,
     "end_time": "2022-06-12T08:31:54.714040",
     "exception": false,
     "start_time": "2022-06-12T08:31:54.703868",
     "status": "completed"
    },
    "tags": [
     "parameters"
    ]
   },
   "outputs": [],
   "source": [
    "variance = 1\n",
    "bias = 1 "
   ]
  },
  {
   "cell_type": "code",
   "execution_count": 4,
   "id": "16ed2cfa",
   "metadata": {
    "execution": {
     "iopub.execute_input": "2022-06-12T08:31:54.729518Z",
     "iopub.status.busy": "2022-06-12T08:31:54.729167Z",
     "iopub.status.idle": "2022-06-12T08:31:54.730347Z",
     "shell.execute_reply": "2022-06-12T08:31:54.730579Z"
    },
    "papermill": {
     "duration": 0.009782,
     "end_time": "2022-06-12T08:31:54.730683",
     "exception": false,
     "start_time": "2022-06-12T08:31:54.720901",
     "status": "completed"
    },
    "tags": [
     "injected-parameters"
    ]
   },
   "outputs": [],
   "source": [
    "# Parameters\n",
    "variance = 1\n",
    "bias = 0.1\n"
   ]
  },
  {
   "cell_type": "markdown",
   "id": "391cdbfd",
   "metadata": {
    "id": "391cdbfd",
    "papermill": {
     "duration": 0.006656,
     "end_time": "2022-06-12T08:31:54.744151",
     "exception": false,
     "start_time": "2022-06-12T08:31:54.737495",
     "status": "completed"
    },
    "tags": []
   },
   "source": [
    "## Dataset \n"
   ]
  },
  {
   "cell_type": "code",
   "execution_count": 5,
   "id": "5b51f161",
   "metadata": {
    "execution": {
     "iopub.execute_input": "2022-06-12T08:31:54.759492Z",
     "iopub.status.busy": "2022-06-12T08:31:54.759146Z",
     "iopub.status.idle": "2022-06-12T08:31:54.760396Z",
     "shell.execute_reply": "2022-06-12T08:31:54.760640Z"
    },
    "id": "5b51f161",
    "papermill": {
     "duration": 0.009868,
     "end_time": "2022-06-12T08:31:54.760744",
     "exception": false,
     "start_time": "2022-06-12T08:31:54.750876",
     "status": "completed"
    },
    "tags": []
   },
   "outputs": [],
   "source": [
    "#Parameters \n",
    "n_features = 13\n",
    "n_samples= 506\n",
    "n_target = 1 "
   ]
  },
  {
   "cell_type": "code",
   "execution_count": 6,
   "id": "5d6eced4",
   "metadata": {
    "execution": {
     "iopub.execute_input": "2022-06-12T08:31:54.776389Z",
     "iopub.status.busy": "2022-06-12T08:31:54.776013Z",
     "iopub.status.idle": "2022-06-12T08:31:54.786643Z",
     "shell.execute_reply": "2022-06-12T08:31:54.786886Z"
    },
    "id": "5d6eced4",
    "papermill": {
     "duration": 0.019402,
     "end_time": "2022-06-12T08:31:54.787002",
     "exception": false,
     "start_time": "2022-06-12T08:31:54.767600",
     "status": "completed"
    },
    "tags": []
   },
   "outputs": [
    {
     "name": "stdout",
     "output_type": "stream",
     "text": [
      "         X1        X2        X3        X4        X5        X6        X7  \\\n",
      "0 -0.419782  0.284830 -1.287909 -0.272599 -0.144217  0.413672 -0.120013   \n",
      "1 -0.417339 -0.487722 -0.593381 -0.272599 -0.740262  0.194274  0.367166   \n",
      "2 -0.417342 -0.487722 -0.593381 -0.272599 -0.740262  1.282714 -0.265812   \n",
      "3 -0.416750 -0.487722 -1.306878 -0.272599 -0.835284  1.016303 -0.809889   \n",
      "4 -0.412482 -0.487722 -1.306878 -0.272599 -0.835284  1.228577 -0.511180   \n",
      "\n",
      "         X8        X9       X10       X11       X12       X13         Y  \n",
      "0  0.140214 -0.982843 -0.666608 -1.459000  0.441052 -1.075562  0.159686  \n",
      "1  0.557160 -0.867883 -0.987329 -0.303094  0.441052 -0.492439 -0.101524  \n",
      "2  0.557160 -0.867883 -0.987329 -0.303094  0.396427 -1.208727  1.324247  \n",
      "3  1.077737 -0.752922 -1.106115  0.113032  0.416163 -1.361517  1.182758  \n",
      "4  1.077737 -0.752922 -1.106115  0.113032  0.441052 -1.026501  1.487503  \n"
     ]
    }
   ],
   "source": [
    "X,Y = bostonDataset.boston_data()"
   ]
  },
  {
   "cell_type": "code",
   "execution_count": 7,
   "id": "fe007438",
   "metadata": {
    "execution": {
     "iopub.execute_input": "2022-06-12T08:31:54.803908Z",
     "iopub.status.busy": "2022-06-12T08:31:54.803534Z",
     "iopub.status.idle": "2022-06-12T08:31:54.805014Z",
     "shell.execute_reply": "2022-06-12T08:31:54.805247Z"
    },
    "id": "fe007438",
    "papermill": {
     "duration": 0.011076,
     "end_time": "2022-06-12T08:31:54.805355",
     "exception": false,
     "start_time": "2022-06-12T08:31:54.794279",
     "status": "completed"
    },
    "tags": []
   },
   "outputs": [],
   "source": [
    "#Train test split for dataset \n",
    "X_train,X_test,Y_train,Y_test = train_test_split(X,Y,test_size = 0.2)\n",
    "train_data = dataset.CustomDataset(X_train,Y_train)\n",
    "test_data = dataset.CustomDataset(X_test,Y_test)\n"
   ]
  },
  {
   "cell_type": "markdown",
   "id": "a9a1af34",
   "metadata": {
    "id": "a9a1af34",
    "papermill": {
     "duration": 0.007046,
     "end_time": "2022-06-12T08:31:54.819519",
     "exception": false,
     "start_time": "2022-06-12T08:31:54.812473",
     "status": "completed"
    },
    "tags": []
   },
   "source": [
    "## Training Parameters "
   ]
  },
  {
   "cell_type": "code",
   "execution_count": 8,
   "id": "952b7fc8",
   "metadata": {
    "execution": {
     "iopub.execute_input": "2022-06-12T08:31:54.835743Z",
     "iopub.status.busy": "2022-06-12T08:31:54.835382Z",
     "iopub.status.idle": "2022-06-12T08:31:54.836709Z",
     "shell.execute_reply": "2022-06-12T08:31:54.836987Z"
    },
    "id": "952b7fc8",
    "papermill": {
     "duration": 0.010573,
     "end_time": "2022-06-12T08:31:54.837103",
     "exception": false,
     "start_time": "2022-06-12T08:31:54.826530",
     "status": "completed"
    },
    "tags": []
   },
   "outputs": [],
   "source": [
    "batch_size = 32\n",
    "n_epochs = 1000\n",
    "#Select the device \n",
    "device = torch.device('cuda' if torch.cuda.is_available() else 'cpu')"
   ]
  },
  {
   "cell_type": "markdown",
   "id": "a95e1600",
   "metadata": {
    "id": "a95e1600",
    "papermill": {
     "duration": 0.006965,
     "end_time": "2022-06-12T08:31:54.851193",
     "exception": false,
     "start_time": "2022-06-12T08:31:54.844228",
     "status": "completed"
    },
    "tags": []
   },
   "source": [
    "# ABC Pre-generator Model \n",
    "\n",
    "1. The catboost model is used as a pre-generator model for the ABC-GAN. \n",
    "2. The model is first trained on the entire dataset \n",
    "3. It generats X,Y pairs and we add some Gaussian noise with mean 0 and variance 1 to it which is then feed as input to the generator.\n"
   ]
  },
  {
   "cell_type": "code",
   "execution_count": 9,
   "id": "ff8ce7bd",
   "metadata": {
    "execution": {
     "iopub.execute_input": "2022-06-12T08:31:54.870453Z",
     "iopub.status.busy": "2022-06-12T08:31:54.870071Z",
     "iopub.status.idle": "2022-06-12T08:31:55.865909Z",
     "shell.execute_reply": "2022-06-12T08:31:55.866198Z"
    },
    "id": "ff8ce7bd",
    "papermill": {
     "duration": 1.008015,
     "end_time": "2022-06-12T08:31:55.866317",
     "exception": false,
     "start_time": "2022-06-12T08:31:54.858302",
     "status": "completed"
    },
    "tags": []
   },
   "outputs": [
    {
     "name": "stdout",
     "output_type": "stream",
     "text": [
      "Learning rate set to 0.033215\n",
      "0:\tlearn: 0.9679805\ttotal: 57.5ms\tremaining: 57.4s\n",
      "1:\tlearn: 0.9470732\ttotal: 58.7ms\tremaining: 29.3s\n",
      "2:\tlearn: 0.9278010\ttotal: 60ms\tremaining: 20s\n",
      "3:\tlearn: 0.9100072\ttotal: 61.1ms\tremaining: 15.2s\n",
      "4:\tlearn: 0.8926955\ttotal: 62ms\tremaining: 12.3s\n",
      "5:\tlearn: 0.8761633\ttotal: 63ms\tremaining: 10.4s\n",
      "6:\tlearn: 0.8619617\ttotal: 63.9ms\tremaining: 9.07s\n",
      "7:\tlearn: 0.8462721\ttotal: 64.7ms\tremaining: 8.03s\n",
      "8:\tlearn: 0.8312091\ttotal: 65.5ms\tremaining: 7.22s\n",
      "9:\tlearn: 0.8151889\ttotal: 66.4ms\tremaining: 6.58s\n",
      "10:\tlearn: 0.7994496\ttotal: 67.3ms\tremaining: 6.05s\n",
      "11:\tlearn: 0.7846499\ttotal: 68.1ms\tremaining: 5.61s\n",
      "12:\tlearn: 0.7706018\ttotal: 69.1ms\tremaining: 5.24s\n",
      "13:\tlearn: 0.7556370\ttotal: 69.9ms\tremaining: 4.92s\n",
      "14:\tlearn: 0.7438831\ttotal: 70.8ms\tremaining: 4.65s\n",
      "15:\tlearn: 0.7291315\ttotal: 71.8ms\tremaining: 4.41s\n",
      "16:\tlearn: 0.7162581\ttotal: 72.6ms\tremaining: 4.2s\n",
      "17:\tlearn: 0.7054544\ttotal: 73.7ms\tremaining: 4.02s\n",
      "18:\tlearn: 0.6933592\ttotal: 75.4ms\tremaining: 3.89s\n",
      "19:\tlearn: 0.6819251\ttotal: 76.4ms\tremaining: 3.75s\n",
      "20:\tlearn: 0.6714889\ttotal: 77.4ms\tremaining: 3.61s\n",
      "21:\tlearn: 0.6611390\ttotal: 78.3ms\tremaining: 3.48s\n",
      "22:\tlearn: 0.6509027\ttotal: 79.1ms\tremaining: 3.36s\n",
      "23:\tlearn: 0.6408550\ttotal: 80.1ms\tremaining: 3.25s\n",
      "24:\tlearn: 0.6310108\ttotal: 81ms\tremaining: 3.16s\n",
      "25:\tlearn: 0.6201515\ttotal: 81.9ms\tremaining: 3.07s\n",
      "26:\tlearn: 0.6110879\ttotal: 83ms\tremaining: 2.99s\n"
     ]
    },
    {
     "name": "stdout",
     "output_type": "stream",
     "text": [
      "27:\tlearn: 0.6020885\ttotal: 84.1ms\tremaining: 2.92s\n",
      "28:\tlearn: 0.5919473\ttotal: 85ms\tremaining: 2.85s\n",
      "29:\tlearn: 0.5821347\ttotal: 86ms\tremaining: 2.78s\n",
      "30:\tlearn: 0.5728662\ttotal: 87ms\tremaining: 2.72s\n",
      "31:\tlearn: 0.5636982\ttotal: 88ms\tremaining: 2.66s\n",
      "32:\tlearn: 0.5564621\ttotal: 88.8ms\tremaining: 2.6s\n",
      "33:\tlearn: 0.5486997\ttotal: 89.6ms\tremaining: 2.55s\n",
      "34:\tlearn: 0.5423454\ttotal: 90.6ms\tremaining: 2.5s\n",
      "35:\tlearn: 0.5345792\ttotal: 91.5ms\tremaining: 2.45s\n",
      "36:\tlearn: 0.5285523\ttotal: 92.4ms\tremaining: 2.4s\n",
      "37:\tlearn: 0.5211718\ttotal: 93.2ms\tremaining: 2.36s\n",
      "38:\tlearn: 0.5143492\ttotal: 94.1ms\tremaining: 2.32s\n",
      "39:\tlearn: 0.5065714\ttotal: 94.8ms\tremaining: 2.27s\n",
      "40:\tlearn: 0.5004987\ttotal: 95.8ms\tremaining: 2.24s\n",
      "41:\tlearn: 0.4935807\ttotal: 96.6ms\tremaining: 2.2s\n",
      "42:\tlearn: 0.4886067\ttotal: 97.6ms\tremaining: 2.17s\n",
      "43:\tlearn: 0.4826957\ttotal: 98.4ms\tremaining: 2.14s\n",
      "44:\tlearn: 0.4778901\ttotal: 99.1ms\tremaining: 2.1s\n",
      "45:\tlearn: 0.4729493\ttotal: 99.8ms\tremaining: 2.07s\n",
      "46:\tlearn: 0.4663698\ttotal: 101ms\tremaining: 2.04s\n",
      "47:\tlearn: 0.4599394\ttotal: 102ms\tremaining: 2.01s\n",
      "48:\tlearn: 0.4545523\ttotal: 102ms\tremaining: 1.99s\n",
      "49:\tlearn: 0.4501137\ttotal: 103ms\tremaining: 1.96s\n",
      "50:\tlearn: 0.4448040\ttotal: 104ms\tremaining: 1.94s\n",
      "51:\tlearn: 0.4397775\ttotal: 105ms\tremaining: 1.91s\n",
      "52:\tlearn: 0.4348776\ttotal: 106ms\tremaining: 1.89s\n",
      "53:\tlearn: 0.4313512\ttotal: 107ms\tremaining: 1.87s\n",
      "54:\tlearn: 0.4271167\ttotal: 107ms\tremaining: 1.84s\n",
      "55:\tlearn: 0.4234509\ttotal: 108ms\tremaining: 1.82s\n",
      "56:\tlearn: 0.4192490\ttotal: 109ms\tremaining: 1.8s\n",
      "57:\tlearn: 0.4151127\ttotal: 110ms\tremaining: 1.78s\n",
      "58:\tlearn: 0.4114597\ttotal: 111ms\tremaining: 1.76s\n",
      "59:\tlearn: 0.4075354\ttotal: 111ms\tremaining: 1.74s\n",
      "60:\tlearn: 0.4034740\ttotal: 112ms\tremaining: 1.73s\n",
      "61:\tlearn: 0.3995101\ttotal: 113ms\tremaining: 1.71s\n",
      "62:\tlearn: 0.3969965\ttotal: 114ms\tremaining: 1.69s\n",
      "63:\tlearn: 0.3928901\ttotal: 115ms\tremaining: 1.68s\n",
      "64:\tlearn: 0.3895603\ttotal: 116ms\tremaining: 1.66s\n",
      "65:\tlearn: 0.3855578\ttotal: 116ms\tremaining: 1.65s\n",
      "66:\tlearn: 0.3819269\ttotal: 117ms\tremaining: 1.63s\n",
      "67:\tlearn: 0.3793682\ttotal: 118ms\tremaining: 1.62s\n",
      "68:\tlearn: 0.3765633\ttotal: 119ms\tremaining: 1.6s\n",
      "69:\tlearn: 0.3738511\ttotal: 120ms\tremaining: 1.59s\n",
      "70:\tlearn: 0.3698681\ttotal: 121ms\tremaining: 1.58s\n",
      "71:\tlearn: 0.3659927\ttotal: 121ms\tremaining: 1.56s\n",
      "72:\tlearn: 0.3638765\ttotal: 122ms\tremaining: 1.55s\n",
      "73:\tlearn: 0.3603111\ttotal: 123ms\tremaining: 1.54s\n",
      "74:\tlearn: 0.3573686\ttotal: 124ms\tremaining: 1.53s\n",
      "75:\tlearn: 0.3538735\ttotal: 125ms\tremaining: 1.52s\n",
      "76:\tlearn: 0.3507543\ttotal: 126ms\tremaining: 1.51s\n",
      "77:\tlearn: 0.3486289\ttotal: 127ms\tremaining: 1.5s\n",
      "78:\tlearn: 0.3451275\ttotal: 128ms\tremaining: 1.49s\n",
      "79:\tlearn: 0.3432598\ttotal: 128ms\tremaining: 1.48s\n",
      "80:\tlearn: 0.3412507\ttotal: 129ms\tremaining: 1.47s\n",
      "81:\tlearn: 0.3384671\ttotal: 130ms\tremaining: 1.46s\n",
      "82:\tlearn: 0.3367334\ttotal: 131ms\tremaining: 1.45s\n",
      "83:\tlearn: 0.3347238\ttotal: 132ms\tremaining: 1.44s\n",
      "84:\tlearn: 0.3333092\ttotal: 133ms\tremaining: 1.43s\n",
      "85:\tlearn: 0.3311126\ttotal: 133ms\tremaining: 1.42s\n",
      "86:\tlearn: 0.3290308\ttotal: 134ms\tremaining: 1.41s\n",
      "87:\tlearn: 0.3265605\ttotal: 135ms\tremaining: 1.4s\n",
      "88:\tlearn: 0.3249428\ttotal: 136ms\tremaining: 1.39s\n",
      "89:\tlearn: 0.3229658\ttotal: 137ms\tremaining: 1.38s\n",
      "90:\tlearn: 0.3209172\ttotal: 138ms\tremaining: 1.37s\n",
      "91:\tlearn: 0.3190584\ttotal: 139ms\tremaining: 1.37s\n",
      "92:\tlearn: 0.3173836\ttotal: 139ms\tremaining: 1.36s\n",
      "93:\tlearn: 0.3156169\ttotal: 140ms\tremaining: 1.35s\n",
      "94:\tlearn: 0.3137269\ttotal: 141ms\tremaining: 1.34s\n",
      "95:\tlearn: 0.3127045\ttotal: 142ms\tremaining: 1.33s\n",
      "96:\tlearn: 0.3112037\ttotal: 143ms\tremaining: 1.33s\n",
      "97:\tlearn: 0.3097142\ttotal: 143ms\tremaining: 1.32s\n",
      "98:\tlearn: 0.3084244\ttotal: 144ms\tremaining: 1.31s\n",
      "99:\tlearn: 0.3064476\ttotal: 145ms\tremaining: 1.3s\n",
      "100:\tlearn: 0.3048536\ttotal: 146ms\tremaining: 1.3s\n",
      "101:\tlearn: 0.3032411\ttotal: 147ms\tremaining: 1.29s\n",
      "102:\tlearn: 0.3020027\ttotal: 148ms\tremaining: 1.28s\n",
      "103:\tlearn: 0.3004468\ttotal: 148ms\tremaining: 1.28s\n",
      "104:\tlearn: 0.2992161\ttotal: 149ms\tremaining: 1.27s\n",
      "105:\tlearn: 0.2972857\ttotal: 150ms\tremaining: 1.26s\n",
      "106:\tlearn: 0.2955167\ttotal: 151ms\tremaining: 1.26s\n",
      "107:\tlearn: 0.2932678\ttotal: 152ms\tremaining: 1.25s\n",
      "108:\tlearn: 0.2919737\ttotal: 152ms\tremaining: 1.25s\n",
      "109:\tlearn: 0.2910093\ttotal: 153ms\tremaining: 1.24s\n",
      "110:\tlearn: 0.2899602\ttotal: 154ms\tremaining: 1.23s\n",
      "111:\tlearn: 0.2883698\ttotal: 155ms\tremaining: 1.23s\n",
      "112:\tlearn: 0.2866715\ttotal: 156ms\tremaining: 1.22s\n",
      "113:\tlearn: 0.2854148\ttotal: 157ms\tremaining: 1.22s\n",
      "114:\tlearn: 0.2843968\ttotal: 157ms\tremaining: 1.21s\n",
      "115:\tlearn: 0.2832340\ttotal: 158ms\tremaining: 1.21s\n",
      "116:\tlearn: 0.2818920\ttotal: 159ms\tremaining: 1.2s\n",
      "117:\tlearn: 0.2804579\ttotal: 160ms\tremaining: 1.2s\n",
      "118:\tlearn: 0.2793378\ttotal: 161ms\tremaining: 1.19s\n",
      "119:\tlearn: 0.2778094\ttotal: 162ms\tremaining: 1.18s\n",
      "120:\tlearn: 0.2760904\ttotal: 162ms\tremaining: 1.18s\n",
      "121:\tlearn: 0.2747432\ttotal: 163ms\tremaining: 1.17s\n",
      "122:\tlearn: 0.2734205\ttotal: 164ms\tremaining: 1.17s\n",
      "123:\tlearn: 0.2719589\ttotal: 165ms\tremaining: 1.16s\n",
      "124:\tlearn: 0.2711194\ttotal: 165ms\tremaining: 1.16s\n"
     ]
    },
    {
     "name": "stdout",
     "output_type": "stream",
     "text": [
      "125:\tlearn: 0.2703142\ttotal: 167ms\tremaining: 1.16s\n",
      "126:\tlearn: 0.2688437\ttotal: 167ms\tremaining: 1.15s\n",
      "127:\tlearn: 0.2677347\ttotal: 168ms\tremaining: 1.15s\n",
      "128:\tlearn: 0.2666377\ttotal: 169ms\tremaining: 1.14s\n",
      "129:\tlearn: 0.2658175\ttotal: 170ms\tremaining: 1.14s\n",
      "130:\tlearn: 0.2647780\ttotal: 171ms\tremaining: 1.13s\n",
      "131:\tlearn: 0.2638455\ttotal: 171ms\tremaining: 1.13s\n",
      "132:\tlearn: 0.2628407\ttotal: 172ms\tremaining: 1.12s\n",
      "133:\tlearn: 0.2619215\ttotal: 173ms\tremaining: 1.12s\n",
      "134:\tlearn: 0.2611816\ttotal: 174ms\tremaining: 1.11s\n",
      "135:\tlearn: 0.2603327\ttotal: 175ms\tremaining: 1.11s\n",
      "136:\tlearn: 0.2597162\ttotal: 176ms\tremaining: 1.11s\n",
      "137:\tlearn: 0.2589279\ttotal: 176ms\tremaining: 1.1s\n",
      "138:\tlearn: 0.2578211\ttotal: 177ms\tremaining: 1.1s\n",
      "139:\tlearn: 0.2568425\ttotal: 178ms\tremaining: 1.09s\n",
      "140:\tlearn: 0.2561005\ttotal: 179ms\tremaining: 1.09s\n",
      "141:\tlearn: 0.2552169\ttotal: 180ms\tremaining: 1.09s\n",
      "142:\tlearn: 0.2543056\ttotal: 181ms\tremaining: 1.08s\n",
      "143:\tlearn: 0.2530923\ttotal: 182ms\tremaining: 1.08s\n",
      "144:\tlearn: 0.2525351\ttotal: 183ms\tremaining: 1.08s\n",
      "145:\tlearn: 0.2515189\ttotal: 183ms\tremaining: 1.07s\n",
      "146:\tlearn: 0.2505556\ttotal: 184ms\tremaining: 1.07s\n",
      "147:\tlearn: 0.2496910\ttotal: 185ms\tremaining: 1.06s\n",
      "148:\tlearn: 0.2490040\ttotal: 186ms\tremaining: 1.06s\n",
      "149:\tlearn: 0.2482501\ttotal: 187ms\tremaining: 1.06s\n",
      "150:\tlearn: 0.2474308\ttotal: 187ms\tremaining: 1.05s\n",
      "151:\tlearn: 0.2467840\ttotal: 188ms\tremaining: 1.05s\n",
      "152:\tlearn: 0.2461689\ttotal: 189ms\tremaining: 1.05s\n",
      "153:\tlearn: 0.2454881\ttotal: 190ms\tremaining: 1.04s\n",
      "154:\tlearn: 0.2449646\ttotal: 191ms\tremaining: 1.04s\n",
      "155:\tlearn: 0.2443299\ttotal: 192ms\tremaining: 1.04s\n",
      "156:\tlearn: 0.2433298\ttotal: 192ms\tremaining: 1.03s\n",
      "157:\tlearn: 0.2423002\ttotal: 193ms\tremaining: 1.03s\n",
      "158:\tlearn: 0.2412281\ttotal: 194ms\tremaining: 1.03s\n",
      "159:\tlearn: 0.2403987\ttotal: 195ms\tremaining: 1.02s\n",
      "160:\tlearn: 0.2395853\ttotal: 196ms\tremaining: 1.02s\n",
      "161:\tlearn: 0.2389168\ttotal: 197ms\tremaining: 1.02s\n",
      "162:\tlearn: 0.2382648\ttotal: 197ms\tremaining: 1.01s\n",
      "163:\tlearn: 0.2375526\ttotal: 198ms\tremaining: 1.01s\n",
      "164:\tlearn: 0.2369852\ttotal: 199ms\tremaining: 1.01s\n",
      "165:\tlearn: 0.2363165\ttotal: 200ms\tremaining: 1s\n",
      "166:\tlearn: 0.2356787\ttotal: 201ms\tremaining: 1s\n",
      "167:\tlearn: 0.2348953\ttotal: 202ms\tremaining: 999ms\n",
      "168:\tlearn: 0.2341898\ttotal: 203ms\tremaining: 997ms\n",
      "169:\tlearn: 0.2335757\ttotal: 204ms\tremaining: 994ms\n",
      "170:\tlearn: 0.2330245\ttotal: 204ms\tremaining: 990ms\n",
      "171:\tlearn: 0.2325435\ttotal: 205ms\tremaining: 987ms\n",
      "172:\tlearn: 0.2320146\ttotal: 206ms\tremaining: 984ms\n",
      "173:\tlearn: 0.2313763\ttotal: 207ms\tremaining: 981ms\n",
      "174:\tlearn: 0.2307812\ttotal: 207ms\tremaining: 978ms\n",
      "175:\tlearn: 0.2301770\ttotal: 209ms\tremaining: 976ms\n",
      "176:\tlearn: 0.2295330\ttotal: 209ms\tremaining: 973ms\n",
      "177:\tlearn: 0.2288911\ttotal: 210ms\tremaining: 971ms\n",
      "178:\tlearn: 0.2282037\ttotal: 211ms\tremaining: 968ms\n",
      "179:\tlearn: 0.2276527\ttotal: 212ms\tremaining: 965ms\n",
      "180:\tlearn: 0.2268314\ttotal: 213ms\tremaining: 962ms\n",
      "181:\tlearn: 0.2261574\ttotal: 213ms\tremaining: 959ms\n",
      "182:\tlearn: 0.2257437\ttotal: 214ms\tremaining: 957ms\n",
      "183:\tlearn: 0.2251418\ttotal: 215ms\tremaining: 954ms\n",
      "184:\tlearn: 0.2246585\ttotal: 216ms\tremaining: 952ms\n",
      "185:\tlearn: 0.2243339\ttotal: 217ms\tremaining: 949ms\n",
      "186:\tlearn: 0.2241690\ttotal: 217ms\tremaining: 945ms\n",
      "187:\tlearn: 0.2234254\ttotal: 218ms\tremaining: 943ms\n",
      "188:\tlearn: 0.2228254\ttotal: 219ms\tremaining: 940ms\n",
      "189:\tlearn: 0.2222337\ttotal: 220ms\tremaining: 938ms\n",
      "190:\tlearn: 0.2215299\ttotal: 221ms\tremaining: 935ms\n",
      "191:\tlearn: 0.2208864\ttotal: 222ms\tremaining: 933ms\n",
      "192:\tlearn: 0.2204060\ttotal: 223ms\tremaining: 931ms\n",
      "193:\tlearn: 0.2197489\ttotal: 223ms\tremaining: 928ms\n",
      "194:\tlearn: 0.2189903\ttotal: 224ms\tremaining: 925ms\n",
      "195:\tlearn: 0.2185213\ttotal: 225ms\tremaining: 923ms\n",
      "196:\tlearn: 0.2180039\ttotal: 226ms\tremaining: 921ms\n",
      "197:\tlearn: 0.2173347\ttotal: 227ms\tremaining: 918ms\n",
      "198:\tlearn: 0.2167109\ttotal: 228ms\tremaining: 916ms\n",
      "199:\tlearn: 0.2161284\ttotal: 228ms\tremaining: 913ms\n",
      "200:\tlearn: 0.2155367\ttotal: 229ms\tremaining: 911ms\n",
      "201:\tlearn: 0.2148225\ttotal: 230ms\tremaining: 908ms\n",
      "202:\tlearn: 0.2142007\ttotal: 231ms\tremaining: 906ms\n",
      "203:\tlearn: 0.2136405\ttotal: 232ms\tremaining: 904ms\n",
      "204:\tlearn: 0.2132462\ttotal: 232ms\tremaining: 901ms\n",
      "205:\tlearn: 0.2124108\ttotal: 233ms\tremaining: 899ms\n",
      "206:\tlearn: 0.2118432\ttotal: 234ms\tremaining: 897ms\n",
      "207:\tlearn: 0.2114841\ttotal: 235ms\tremaining: 894ms\n",
      "208:\tlearn: 0.2109287\ttotal: 236ms\tremaining: 892ms\n",
      "209:\tlearn: 0.2103805\ttotal: 237ms\tremaining: 890ms\n",
      "210:\tlearn: 0.2100116\ttotal: 237ms\tremaining: 888ms\n",
      "211:\tlearn: 0.2094349\ttotal: 238ms\tremaining: 885ms\n",
      "212:\tlearn: 0.2087945\ttotal: 239ms\tremaining: 883ms\n",
      "213:\tlearn: 0.2081405\ttotal: 240ms\tremaining: 881ms\n",
      "214:\tlearn: 0.2075382\ttotal: 241ms\tremaining: 879ms\n",
      "215:\tlearn: 0.2070029\ttotal: 242ms\tremaining: 877ms\n",
      "216:\tlearn: 0.2065930\ttotal: 242ms\tremaining: 875ms\n",
      "217:\tlearn: 0.2060420\ttotal: 243ms\tremaining: 872ms\n",
      "218:\tlearn: 0.2053573\ttotal: 244ms\tremaining: 870ms\n",
      "219:\tlearn: 0.2049141\ttotal: 245ms\tremaining: 868ms\n",
      "220:\tlearn: 0.2044682\ttotal: 246ms\tremaining: 866ms\n",
      "221:\tlearn: 0.2039379\ttotal: 246ms\tremaining: 863ms\n",
      "222:\tlearn: 0.2032097\ttotal: 247ms\tremaining: 861ms\n",
      "223:\tlearn: 0.2026728\ttotal: 248ms\tremaining: 859ms\n",
      "224:\tlearn: 0.2022190\ttotal: 249ms\tremaining: 857ms\n",
      "225:\tlearn: 0.2016882\ttotal: 250ms\tremaining: 855ms\n",
      "226:\tlearn: 0.2011439\ttotal: 250ms\tremaining: 852ms\n",
      "227:\tlearn: 0.2006958\ttotal: 251ms\tremaining: 851ms\n",
      "228:\tlearn: 0.2003234\ttotal: 252ms\tremaining: 849ms\n",
      "229:\tlearn: 0.1997318\ttotal: 253ms\tremaining: 846ms\n",
      "230:\tlearn: 0.1993819\ttotal: 254ms\tremaining: 844ms\n",
      "231:\tlearn: 0.1991029\ttotal: 254ms\tremaining: 842ms\n",
      "232:\tlearn: 0.1987023\ttotal: 255ms\tremaining: 839ms\n",
      "233:\tlearn: 0.1979634\ttotal: 256ms\tremaining: 837ms\n",
      "234:\tlearn: 0.1973933\ttotal: 257ms\tremaining: 835ms\n",
      "235:\tlearn: 0.1967872\ttotal: 257ms\tremaining: 833ms\n",
      "236:\tlearn: 0.1965633\ttotal: 258ms\tremaining: 831ms\n",
      "237:\tlearn: 0.1959778\ttotal: 259ms\tremaining: 830ms\n",
      "238:\tlearn: 0.1954735\ttotal: 260ms\tremaining: 828ms\n",
      "239:\tlearn: 0.1950162\ttotal: 261ms\tremaining: 825ms\n",
      "240:\tlearn: 0.1946166\ttotal: 262ms\tremaining: 824ms\n",
      "241:\tlearn: 0.1941381\ttotal: 262ms\tremaining: 822ms\n",
      "242:\tlearn: 0.1936106\ttotal: 263ms\tremaining: 820ms\n",
      "243:\tlearn: 0.1930866\ttotal: 264ms\tremaining: 818ms\n",
      "244:\tlearn: 0.1928757\ttotal: 265ms\tremaining: 816ms\n",
      "245:\tlearn: 0.1923010\ttotal: 266ms\tremaining: 815ms\n",
      "246:\tlearn: 0.1917417\ttotal: 267ms\tremaining: 813ms\n",
      "247:\tlearn: 0.1914187\ttotal: 267ms\tremaining: 811ms\n",
      "248:\tlearn: 0.1911533\ttotal: 268ms\tremaining: 809ms\n",
      "249:\tlearn: 0.1905866\ttotal: 269ms\tremaining: 807ms\n",
      "250:\tlearn: 0.1901225\ttotal: 270ms\tremaining: 805ms\n",
      "251:\tlearn: 0.1896520\ttotal: 271ms\tremaining: 803ms\n",
      "252:\tlearn: 0.1891805\ttotal: 272ms\tremaining: 802ms\n",
      "253:\tlearn: 0.1887434\ttotal: 273ms\tremaining: 800ms\n"
     ]
    },
    {
     "name": "stdout",
     "output_type": "stream",
     "text": [
      "254:\tlearn: 0.1883326\ttotal: 273ms\tremaining: 799ms\n",
      "255:\tlearn: 0.1880217\ttotal: 275ms\tremaining: 798ms\n",
      "256:\tlearn: 0.1874938\ttotal: 276ms\tremaining: 797ms\n",
      "257:\tlearn: 0.1870837\ttotal: 276ms\tremaining: 795ms\n",
      "258:\tlearn: 0.1866872\ttotal: 277ms\tremaining: 793ms\n",
      "259:\tlearn: 0.1861570\ttotal: 278ms\tremaining: 791ms\n",
      "260:\tlearn: 0.1856125\ttotal: 279ms\tremaining: 790ms\n",
      "261:\tlearn: 0.1850950\ttotal: 280ms\tremaining: 788ms\n",
      "262:\tlearn: 0.1846933\ttotal: 281ms\tremaining: 786ms\n",
      "263:\tlearn: 0.1842705\ttotal: 281ms\tremaining: 784ms\n",
      "264:\tlearn: 0.1837729\ttotal: 282ms\tremaining: 783ms\n",
      "265:\tlearn: 0.1833906\ttotal: 283ms\tremaining: 781ms\n",
      "266:\tlearn: 0.1830763\ttotal: 284ms\tremaining: 779ms\n",
      "267:\tlearn: 0.1825848\ttotal: 285ms\tremaining: 777ms\n",
      "268:\tlearn: 0.1821445\ttotal: 286ms\tremaining: 776ms\n",
      "269:\tlearn: 0.1817561\ttotal: 286ms\tremaining: 774ms\n",
      "270:\tlearn: 0.1812196\ttotal: 287ms\tremaining: 773ms\n",
      "271:\tlearn: 0.1808918\ttotal: 288ms\tremaining: 772ms\n",
      "272:\tlearn: 0.1802958\ttotal: 289ms\tremaining: 770ms\n",
      "273:\tlearn: 0.1800347\ttotal: 290ms\tremaining: 768ms\n",
      "274:\tlearn: 0.1798960\ttotal: 291ms\tremaining: 767ms\n",
      "275:\tlearn: 0.1795619\ttotal: 292ms\tremaining: 765ms\n",
      "276:\tlearn: 0.1790733\ttotal: 292ms\tremaining: 763ms\n",
      "277:\tlearn: 0.1784905\ttotal: 293ms\tremaining: 761ms\n",
      "278:\tlearn: 0.1781033\ttotal: 294ms\tremaining: 760ms\n",
      "279:\tlearn: 0.1777927\ttotal: 295ms\tremaining: 758ms\n",
      "280:\tlearn: 0.1772743\ttotal: 296ms\tremaining: 757ms\n",
      "281:\tlearn: 0.1767727\ttotal: 297ms\tremaining: 755ms\n",
      "282:\tlearn: 0.1765359\ttotal: 298ms\tremaining: 754ms\n",
      "283:\tlearn: 0.1761710\ttotal: 298ms\tremaining: 752ms\n",
      "284:\tlearn: 0.1758370\ttotal: 299ms\tremaining: 751ms\n",
      "285:\tlearn: 0.1753330\ttotal: 300ms\tremaining: 749ms\n",
      "286:\tlearn: 0.1750281\ttotal: 301ms\tremaining: 748ms\n",
      "287:\tlearn: 0.1747277\ttotal: 302ms\tremaining: 746ms\n",
      "288:\tlearn: 0.1743802\ttotal: 303ms\tremaining: 745ms\n",
      "289:\tlearn: 0.1737793\ttotal: 304ms\tremaining: 744ms\n",
      "290:\tlearn: 0.1734244\ttotal: 305ms\tremaining: 742ms\n",
      "291:\tlearn: 0.1731055\ttotal: 305ms\tremaining: 741ms\n",
      "292:\tlearn: 0.1728527\ttotal: 306ms\tremaining: 739ms\n",
      "293:\tlearn: 0.1725170\ttotal: 307ms\tremaining: 738ms\n",
      "294:\tlearn: 0.1717656\ttotal: 308ms\tremaining: 736ms\n",
      "295:\tlearn: 0.1714070\ttotal: 309ms\tremaining: 734ms\n",
      "296:\tlearn: 0.1711377\ttotal: 310ms\tremaining: 733ms\n",
      "297:\tlearn: 0.1708967\ttotal: 310ms\tremaining: 731ms\n",
      "298:\tlearn: 0.1707560\ttotal: 311ms\tremaining: 729ms\n",
      "299:\tlearn: 0.1705764\ttotal: 312ms\tremaining: 728ms\n",
      "300:\tlearn: 0.1702338\ttotal: 313ms\tremaining: 727ms\n",
      "301:\tlearn: 0.1698876\ttotal: 314ms\tremaining: 725ms\n",
      "302:\tlearn: 0.1696371\ttotal: 314ms\tremaining: 723ms\n",
      "303:\tlearn: 0.1693536\ttotal: 315ms\tremaining: 722ms\n",
      "304:\tlearn: 0.1689603\ttotal: 316ms\tremaining: 720ms\n",
      "305:\tlearn: 0.1686314\ttotal: 317ms\tremaining: 718ms\n",
      "306:\tlearn: 0.1682062\ttotal: 318ms\tremaining: 717ms\n",
      "307:\tlearn: 0.1679309\ttotal: 319ms\tremaining: 716ms\n",
      "308:\tlearn: 0.1673940\ttotal: 319ms\tremaining: 714ms\n",
      "309:\tlearn: 0.1670913\ttotal: 320ms\tremaining: 713ms\n",
      "310:\tlearn: 0.1665702\ttotal: 321ms\tremaining: 712ms\n",
      "311:\tlearn: 0.1662251\ttotal: 322ms\tremaining: 710ms\n",
      "312:\tlearn: 0.1660660\ttotal: 323ms\tremaining: 708ms\n",
      "313:\tlearn: 0.1656100\ttotal: 324ms\tremaining: 707ms\n",
      "314:\tlearn: 0.1652405\ttotal: 325ms\tremaining: 706ms\n",
      "315:\tlearn: 0.1647800\ttotal: 325ms\tremaining: 704ms\n",
      "316:\tlearn: 0.1645886\ttotal: 326ms\tremaining: 703ms\n",
      "317:\tlearn: 0.1642904\ttotal: 327ms\tremaining: 701ms\n",
      "318:\tlearn: 0.1641163\ttotal: 328ms\tremaining: 700ms\n",
      "319:\tlearn: 0.1638819\ttotal: 329ms\tremaining: 698ms\n",
      "320:\tlearn: 0.1636162\ttotal: 329ms\tremaining: 697ms\n",
      "321:\tlearn: 0.1633471\ttotal: 330ms\tremaining: 695ms\n",
      "322:\tlearn: 0.1628186\ttotal: 331ms\tremaining: 694ms\n",
      "323:\tlearn: 0.1626725\ttotal: 332ms\tremaining: 693ms\n",
      "324:\tlearn: 0.1623219\ttotal: 333ms\tremaining: 691ms\n",
      "325:\tlearn: 0.1619026\ttotal: 334ms\tremaining: 691ms\n",
      "326:\tlearn: 0.1615766\ttotal: 335ms\tremaining: 689ms\n",
      "327:\tlearn: 0.1613068\ttotal: 336ms\tremaining: 688ms\n",
      "328:\tlearn: 0.1611403\ttotal: 336ms\tremaining: 686ms\n",
      "329:\tlearn: 0.1607711\ttotal: 337ms\tremaining: 685ms\n",
      "330:\tlearn: 0.1606845\ttotal: 338ms\tremaining: 683ms\n",
      "331:\tlearn: 0.1604895\ttotal: 339ms\tremaining: 682ms\n",
      "332:\tlearn: 0.1600603\ttotal: 340ms\tremaining: 681ms\n",
      "333:\tlearn: 0.1599373\ttotal: 341ms\tremaining: 679ms\n",
      "334:\tlearn: 0.1595793\ttotal: 342ms\tremaining: 678ms\n",
      "335:\tlearn: 0.1590652\ttotal: 342ms\tremaining: 677ms\n",
      "336:\tlearn: 0.1587641\ttotal: 343ms\tremaining: 676ms\n",
      "337:\tlearn: 0.1583606\ttotal: 344ms\tremaining: 674ms\n",
      "338:\tlearn: 0.1580231\ttotal: 345ms\tremaining: 673ms\n",
      "339:\tlearn: 0.1576543\ttotal: 346ms\tremaining: 671ms\n",
      "340:\tlearn: 0.1573478\ttotal: 347ms\tremaining: 670ms\n",
      "341:\tlearn: 0.1570046\ttotal: 347ms\tremaining: 669ms\n",
      "342:\tlearn: 0.1567423\ttotal: 348ms\tremaining: 667ms\n",
      "343:\tlearn: 0.1565577\ttotal: 349ms\tremaining: 666ms\n",
      "344:\tlearn: 0.1562027\ttotal: 350ms\tremaining: 664ms\n",
      "345:\tlearn: 0.1557963\ttotal: 351ms\tremaining: 663ms\n",
      "346:\tlearn: 0.1555397\ttotal: 352ms\tremaining: 662ms\n",
      "347:\tlearn: 0.1550226\ttotal: 352ms\tremaining: 660ms\n",
      "348:\tlearn: 0.1548933\ttotal: 353ms\tremaining: 659ms\n",
      "349:\tlearn: 0.1544170\ttotal: 354ms\tremaining: 657ms\n",
      "350:\tlearn: 0.1543247\ttotal: 355ms\tremaining: 656ms\n",
      "351:\tlearn: 0.1539366\ttotal: 356ms\tremaining: 655ms\n"
     ]
    },
    {
     "name": "stdout",
     "output_type": "stream",
     "text": [
      "352:\tlearn: 0.1534167\ttotal: 357ms\tremaining: 654ms\n",
      "353:\tlearn: 0.1533342\ttotal: 358ms\tremaining: 653ms\n",
      "354:\tlearn: 0.1530456\ttotal: 359ms\tremaining: 651ms\n",
      "355:\tlearn: 0.1525567\ttotal: 359ms\tremaining: 650ms\n",
      "356:\tlearn: 0.1523759\ttotal: 360ms\tremaining: 649ms\n",
      "357:\tlearn: 0.1521348\ttotal: 361ms\tremaining: 647ms\n",
      "358:\tlearn: 0.1517934\ttotal: 362ms\tremaining: 646ms\n",
      "359:\tlearn: 0.1517073\ttotal: 363ms\tremaining: 644ms\n",
      "360:\tlearn: 0.1514407\ttotal: 363ms\tremaining: 643ms\n",
      "361:\tlearn: 0.1510457\ttotal: 364ms\tremaining: 642ms\n",
      "362:\tlearn: 0.1509239\ttotal: 365ms\tremaining: 640ms\n",
      "363:\tlearn: 0.1508982\ttotal: 366ms\tremaining: 639ms\n",
      "364:\tlearn: 0.1506291\ttotal: 367ms\tremaining: 638ms\n",
      "365:\tlearn: 0.1504041\ttotal: 367ms\tremaining: 636ms\n",
      "366:\tlearn: 0.1500712\ttotal: 368ms\tremaining: 635ms\n",
      "367:\tlearn: 0.1497136\ttotal: 369ms\tremaining: 634ms\n",
      "368:\tlearn: 0.1493268\ttotal: 370ms\tremaining: 633ms\n",
      "369:\tlearn: 0.1490106\ttotal: 371ms\tremaining: 632ms\n",
      "370:\tlearn: 0.1485468\ttotal: 372ms\tremaining: 631ms\n",
      "371:\tlearn: 0.1482267\ttotal: 373ms\tremaining: 630ms\n",
      "372:\tlearn: 0.1479604\ttotal: 374ms\tremaining: 629ms\n",
      "373:\tlearn: 0.1477365\ttotal: 375ms\tremaining: 627ms\n",
      "374:\tlearn: 0.1475065\ttotal: 375ms\tremaining: 626ms\n",
      "375:\tlearn: 0.1473038\ttotal: 376ms\tremaining: 625ms\n",
      "376:\tlearn: 0.1470706\ttotal: 377ms\tremaining: 623ms\n",
      "377:\tlearn: 0.1468695\ttotal: 379ms\tremaining: 623ms\n",
      "378:\tlearn: 0.1467170\ttotal: 380ms\tremaining: 622ms\n",
      "379:\tlearn: 0.1464677\ttotal: 380ms\tremaining: 621ms\n",
      "380:\tlearn: 0.1461924\ttotal: 381ms\tremaining: 619ms\n",
      "381:\tlearn: 0.1460224\ttotal: 382ms\tremaining: 618ms\n",
      "382:\tlearn: 0.1458716\ttotal: 383ms\tremaining: 617ms\n",
      "383:\tlearn: 0.1457951\ttotal: 384ms\tremaining: 615ms\n",
      "384:\tlearn: 0.1454225\ttotal: 384ms\tremaining: 614ms\n",
      "385:\tlearn: 0.1452790\ttotal: 385ms\tremaining: 613ms\n",
      "386:\tlearn: 0.1449162\ttotal: 386ms\tremaining: 611ms\n",
      "387:\tlearn: 0.1445721\ttotal: 387ms\tremaining: 610ms\n",
      "388:\tlearn: 0.1444417\ttotal: 387ms\tremaining: 609ms\n",
      "389:\tlearn: 0.1442041\ttotal: 388ms\tremaining: 607ms\n",
      "390:\tlearn: 0.1440714\ttotal: 389ms\tremaining: 606ms\n",
      "391:\tlearn: 0.1437028\ttotal: 390ms\tremaining: 605ms\n",
      "392:\tlearn: 0.1435850\ttotal: 391ms\tremaining: 603ms\n",
      "393:\tlearn: 0.1434401\ttotal: 391ms\tremaining: 602ms\n",
      "394:\tlearn: 0.1431537\ttotal: 392ms\tremaining: 601ms\n",
      "395:\tlearn: 0.1429925\ttotal: 393ms\tremaining: 600ms\n",
      "396:\tlearn: 0.1428013\ttotal: 394ms\tremaining: 598ms\n",
      "397:\tlearn: 0.1425325\ttotal: 395ms\tremaining: 597ms\n",
      "398:\tlearn: 0.1422587\ttotal: 396ms\tremaining: 596ms\n",
      "399:\tlearn: 0.1422029\ttotal: 396ms\tremaining: 595ms\n",
      "400:\tlearn: 0.1420732\ttotal: 397ms\tremaining: 593ms\n",
      "401:\tlearn: 0.1418083\ttotal: 399ms\tremaining: 593ms\n",
      "402:\tlearn: 0.1415297\ttotal: 400ms\tremaining: 592ms\n",
      "403:\tlearn: 0.1413511\ttotal: 401ms\tremaining: 591ms\n",
      "404:\tlearn: 0.1410043\ttotal: 401ms\tremaining: 590ms\n",
      "405:\tlearn: 0.1409459\ttotal: 402ms\tremaining: 588ms\n",
      "406:\tlearn: 0.1406503\ttotal: 403ms\tremaining: 587ms\n",
      "407:\tlearn: 0.1405581\ttotal: 404ms\tremaining: 586ms\n",
      "408:\tlearn: 0.1400731\ttotal: 405ms\tremaining: 585ms\n",
      "409:\tlearn: 0.1399612\ttotal: 406ms\tremaining: 584ms\n",
      "410:\tlearn: 0.1396570\ttotal: 406ms\tremaining: 583ms\n",
      "411:\tlearn: 0.1393594\ttotal: 407ms\tremaining: 581ms\n",
      "412:\tlearn: 0.1390147\ttotal: 408ms\tremaining: 580ms\n",
      "413:\tlearn: 0.1388311\ttotal: 409ms\tremaining: 579ms\n",
      "414:\tlearn: 0.1384833\ttotal: 410ms\tremaining: 578ms\n",
      "415:\tlearn: 0.1384079\ttotal: 411ms\tremaining: 577ms\n",
      "416:\tlearn: 0.1380844\ttotal: 412ms\tremaining: 575ms\n",
      "417:\tlearn: 0.1379038\ttotal: 412ms\tremaining: 574ms\n",
      "418:\tlearn: 0.1378539\ttotal: 413ms\tremaining: 573ms\n",
      "419:\tlearn: 0.1375765\ttotal: 414ms\tremaining: 572ms\n",
      "420:\tlearn: 0.1375004\ttotal: 415ms\tremaining: 570ms\n",
      "421:\tlearn: 0.1370302\ttotal: 416ms\tremaining: 569ms\n",
      "422:\tlearn: 0.1368752\ttotal: 416ms\tremaining: 568ms\n",
      "423:\tlearn: 0.1365022\ttotal: 417ms\tremaining: 567ms\n",
      "424:\tlearn: 0.1362542\ttotal: 418ms\tremaining: 565ms\n",
      "425:\tlearn: 0.1359577\ttotal: 419ms\tremaining: 564ms\n",
      "426:\tlearn: 0.1356497\ttotal: 420ms\tremaining: 563ms\n",
      "427:\tlearn: 0.1353632\ttotal: 420ms\tremaining: 562ms\n",
      "428:\tlearn: 0.1352471\ttotal: 421ms\tremaining: 561ms\n",
      "429:\tlearn: 0.1351113\ttotal: 422ms\tremaining: 559ms\n",
      "430:\tlearn: 0.1349633\ttotal: 423ms\tremaining: 558ms\n",
      "431:\tlearn: 0.1346554\ttotal: 424ms\tremaining: 557ms\n",
      "432:\tlearn: 0.1345547\ttotal: 425ms\tremaining: 556ms\n",
      "433:\tlearn: 0.1343379\ttotal: 426ms\tremaining: 556ms\n",
      "434:\tlearn: 0.1342573\ttotal: 427ms\tremaining: 554ms\n",
      "435:\tlearn: 0.1341447\ttotal: 428ms\tremaining: 553ms\n",
      "436:\tlearn: 0.1340034\ttotal: 429ms\tremaining: 552ms\n",
      "437:\tlearn: 0.1338934\ttotal: 429ms\tremaining: 551ms\n",
      "438:\tlearn: 0.1337267\ttotal: 430ms\tremaining: 550ms\n",
      "439:\tlearn: 0.1336134\ttotal: 431ms\tremaining: 549ms\n",
      "440:\tlearn: 0.1333051\ttotal: 432ms\tremaining: 547ms\n",
      "441:\tlearn: 0.1332545\ttotal: 433ms\tremaining: 546ms\n",
      "442:\tlearn: 0.1331193\ttotal: 433ms\tremaining: 545ms\n",
      "443:\tlearn: 0.1329651\ttotal: 434ms\tremaining: 544ms\n",
      "444:\tlearn: 0.1328711\ttotal: 435ms\tremaining: 543ms\n",
      "445:\tlearn: 0.1327620\ttotal: 436ms\tremaining: 542ms\n",
      "446:\tlearn: 0.1327100\ttotal: 437ms\tremaining: 540ms\n",
      "447:\tlearn: 0.1323700\ttotal: 438ms\tremaining: 539ms\n",
      "448:\tlearn: 0.1321092\ttotal: 438ms\tremaining: 538ms\n",
      "449:\tlearn: 0.1318402\ttotal: 439ms\tremaining: 537ms\n",
      "450:\tlearn: 0.1317519\ttotal: 440ms\tremaining: 535ms\n",
      "451:\tlearn: 0.1314564\ttotal: 441ms\tremaining: 534ms\n",
      "452:\tlearn: 0.1313536\ttotal: 441ms\tremaining: 533ms\n",
      "453:\tlearn: 0.1310858\ttotal: 442ms\tremaining: 532ms\n",
      "454:\tlearn: 0.1307793\ttotal: 443ms\tremaining: 531ms\n",
      "455:\tlearn: 0.1306301\ttotal: 444ms\tremaining: 530ms\n",
      "456:\tlearn: 0.1303757\ttotal: 445ms\tremaining: 529ms\n",
      "457:\tlearn: 0.1302594\ttotal: 446ms\tremaining: 528ms\n",
      "458:\tlearn: 0.1299950\ttotal: 447ms\tremaining: 527ms\n",
      "459:\tlearn: 0.1299287\ttotal: 448ms\tremaining: 526ms\n",
      "460:\tlearn: 0.1296341\ttotal: 449ms\tremaining: 524ms\n",
      "461:\tlearn: 0.1295391\ttotal: 449ms\tremaining: 523ms\n",
      "462:\tlearn: 0.1294087\ttotal: 450ms\tremaining: 522ms\n",
      "463:\tlearn: 0.1291805\ttotal: 451ms\tremaining: 521ms\n",
      "464:\tlearn: 0.1291252\ttotal: 452ms\tremaining: 520ms\n",
      "465:\tlearn: 0.1288988\ttotal: 453ms\tremaining: 519ms\n",
      "466:\tlearn: 0.1288022\ttotal: 454ms\tremaining: 518ms\n",
      "467:\tlearn: 0.1287128\ttotal: 455ms\tremaining: 517ms\n",
      "468:\tlearn: 0.1284057\ttotal: 456ms\tremaining: 516ms\n",
      "469:\tlearn: 0.1282280\ttotal: 456ms\tremaining: 515ms\n",
      "470:\tlearn: 0.1279516\ttotal: 457ms\tremaining: 513ms\n",
      "471:\tlearn: 0.1279048\ttotal: 458ms\tremaining: 512ms\n",
      "472:\tlearn: 0.1278592\ttotal: 459ms\tremaining: 511ms\n",
      "473:\tlearn: 0.1276400\ttotal: 460ms\tremaining: 510ms\n",
      "474:\tlearn: 0.1274051\ttotal: 460ms\tremaining: 509ms\n",
      "475:\tlearn: 0.1273146\ttotal: 461ms\tremaining: 508ms\n",
      "476:\tlearn: 0.1271176\ttotal: 462ms\tremaining: 506ms\n",
      "477:\tlearn: 0.1268267\ttotal: 463ms\tremaining: 505ms\n"
     ]
    },
    {
     "name": "stdout",
     "output_type": "stream",
     "text": [
      "478:\tlearn: 0.1265381\ttotal: 464ms\tremaining: 505ms\n",
      "479:\tlearn: 0.1263016\ttotal: 465ms\tremaining: 504ms\n",
      "480:\tlearn: 0.1260531\ttotal: 466ms\tremaining: 503ms\n",
      "481:\tlearn: 0.1258276\ttotal: 467ms\tremaining: 502ms\n",
      "482:\tlearn: 0.1255821\ttotal: 468ms\tremaining: 501ms\n",
      "483:\tlearn: 0.1255499\ttotal: 469ms\tremaining: 500ms\n",
      "484:\tlearn: 0.1254947\ttotal: 469ms\tremaining: 498ms\n",
      "485:\tlearn: 0.1253443\ttotal: 470ms\tremaining: 497ms\n",
      "486:\tlearn: 0.1251899\ttotal: 471ms\tremaining: 496ms\n",
      "487:\tlearn: 0.1251675\ttotal: 472ms\tremaining: 495ms\n",
      "488:\tlearn: 0.1250018\ttotal: 473ms\tremaining: 494ms\n",
      "489:\tlearn: 0.1249490\ttotal: 473ms\tremaining: 493ms\n",
      "490:\tlearn: 0.1246544\ttotal: 474ms\tremaining: 492ms\n",
      "491:\tlearn: 0.1246214\ttotal: 475ms\tremaining: 491ms\n",
      "492:\tlearn: 0.1245642\ttotal: 476ms\tremaining: 490ms\n",
      "493:\tlearn: 0.1243666\ttotal: 477ms\tremaining: 488ms\n",
      "494:\tlearn: 0.1238715\ttotal: 478ms\tremaining: 487ms\n",
      "495:\tlearn: 0.1237186\ttotal: 479ms\tremaining: 486ms\n",
      "496:\tlearn: 0.1236357\ttotal: 479ms\tremaining: 485ms\n",
      "497:\tlearn: 0.1235326\ttotal: 480ms\tremaining: 484ms\n",
      "498:\tlearn: 0.1233716\ttotal: 481ms\tremaining: 483ms\n",
      "499:\tlearn: 0.1231247\ttotal: 482ms\tremaining: 482ms\n",
      "500:\tlearn: 0.1229579\ttotal: 483ms\tremaining: 481ms\n",
      "501:\tlearn: 0.1228163\ttotal: 484ms\tremaining: 480ms\n",
      "502:\tlearn: 0.1227937\ttotal: 484ms\tremaining: 479ms\n",
      "503:\tlearn: 0.1227065\ttotal: 485ms\tremaining: 478ms\n",
      "504:\tlearn: 0.1226927\ttotal: 486ms\tremaining: 476ms\n",
      "505:\tlearn: 0.1224745\ttotal: 487ms\tremaining: 475ms\n",
      "506:\tlearn: 0.1223124\ttotal: 488ms\tremaining: 474ms\n",
      "507:\tlearn: 0.1221824\ttotal: 489ms\tremaining: 473ms\n",
      "508:\tlearn: 0.1218935\ttotal: 489ms\tremaining: 472ms\n",
      "509:\tlearn: 0.1218431\ttotal: 490ms\tremaining: 471ms\n",
      "510:\tlearn: 0.1217200\ttotal: 491ms\tremaining: 470ms\n",
      "511:\tlearn: 0.1216729\ttotal: 492ms\tremaining: 469ms\n",
      "512:\tlearn: 0.1214448\ttotal: 493ms\tremaining: 468ms\n",
      "513:\tlearn: 0.1212646\ttotal: 494ms\tremaining: 467ms\n",
      "514:\tlearn: 0.1209537\ttotal: 495ms\tremaining: 466ms\n",
      "515:\tlearn: 0.1208426\ttotal: 495ms\tremaining: 465ms\n",
      "516:\tlearn: 0.1206832\ttotal: 496ms\tremaining: 464ms\n",
      "517:\tlearn: 0.1203845\ttotal: 497ms\tremaining: 462ms\n",
      "518:\tlearn: 0.1202392\ttotal: 498ms\tremaining: 461ms\n",
      "519:\tlearn: 0.1201302\ttotal: 499ms\tremaining: 460ms\n",
      "520:\tlearn: 0.1199277\ttotal: 499ms\tremaining: 459ms\n",
      "521:\tlearn: 0.1198214\ttotal: 500ms\tremaining: 458ms\n",
      "522:\tlearn: 0.1194807\ttotal: 501ms\tremaining: 457ms\n",
      "523:\tlearn: 0.1193749\ttotal: 502ms\tremaining: 456ms\n",
      "524:\tlearn: 0.1192649\ttotal: 503ms\tremaining: 455ms\n",
      "525:\tlearn: 0.1190824\ttotal: 504ms\tremaining: 454ms\n",
      "526:\tlearn: 0.1189355\ttotal: 505ms\tremaining: 453ms\n",
      "527:\tlearn: 0.1186685\ttotal: 505ms\tremaining: 452ms\n",
      "528:\tlearn: 0.1183160\ttotal: 506ms\tremaining: 451ms\n",
      "529:\tlearn: 0.1181114\ttotal: 507ms\tremaining: 450ms\n",
      "530:\tlearn: 0.1179229\ttotal: 508ms\tremaining: 448ms\n",
      "531:\tlearn: 0.1175551\ttotal: 509ms\tremaining: 447ms\n",
      "532:\tlearn: 0.1173913\ttotal: 509ms\tremaining: 446ms\n",
      "533:\tlearn: 0.1172058\ttotal: 510ms\tremaining: 445ms\n",
      "534:\tlearn: 0.1168691\ttotal: 511ms\tremaining: 444ms\n",
      "535:\tlearn: 0.1168116\ttotal: 512ms\tremaining: 443ms\n",
      "536:\tlearn: 0.1166385\ttotal: 513ms\tremaining: 442ms\n",
      "537:\tlearn: 0.1165824\ttotal: 514ms\tremaining: 441ms\n",
      "538:\tlearn: 0.1164464\ttotal: 514ms\tremaining: 440ms\n",
      "539:\tlearn: 0.1161664\ttotal: 515ms\tremaining: 439ms\n",
      "540:\tlearn: 0.1160767\ttotal: 516ms\tremaining: 438ms\n",
      "541:\tlearn: 0.1159624\ttotal: 517ms\tremaining: 437ms\n",
      "542:\tlearn: 0.1157839\ttotal: 518ms\tremaining: 436ms\n",
      "543:\tlearn: 0.1154712\ttotal: 519ms\tremaining: 435ms\n",
      "544:\tlearn: 0.1153823\ttotal: 520ms\tremaining: 434ms\n",
      "545:\tlearn: 0.1152198\ttotal: 520ms\tremaining: 433ms\n",
      "546:\tlearn: 0.1149234\ttotal: 521ms\tremaining: 432ms\n",
      "547:\tlearn: 0.1148276\ttotal: 522ms\tremaining: 431ms\n",
      "548:\tlearn: 0.1146035\ttotal: 523ms\tremaining: 429ms\n",
      "549:\tlearn: 0.1145156\ttotal: 524ms\tremaining: 428ms\n",
      "550:\tlearn: 0.1144519\ttotal: 524ms\tremaining: 427ms\n",
      "551:\tlearn: 0.1141444\ttotal: 525ms\tremaining: 426ms\n",
      "552:\tlearn: 0.1139727\ttotal: 526ms\tremaining: 425ms\n",
      "553:\tlearn: 0.1137310\ttotal: 527ms\tremaining: 424ms\n",
      "554:\tlearn: 0.1134559\ttotal: 528ms\tremaining: 423ms\n",
      "555:\tlearn: 0.1133945\ttotal: 529ms\tremaining: 422ms\n",
      "556:\tlearn: 0.1133091\ttotal: 530ms\tremaining: 421ms\n",
      "557:\tlearn: 0.1132984\ttotal: 530ms\tremaining: 420ms\n",
      "558:\tlearn: 0.1132324\ttotal: 531ms\tremaining: 419ms\n",
      "559:\tlearn: 0.1131769\ttotal: 532ms\tremaining: 418ms\n",
      "560:\tlearn: 0.1129866\ttotal: 533ms\tremaining: 417ms\n",
      "561:\tlearn: 0.1129334\ttotal: 534ms\tremaining: 416ms\n",
      "562:\tlearn: 0.1127565\ttotal: 535ms\tremaining: 415ms\n",
      "563:\tlearn: 0.1127060\ttotal: 535ms\tremaining: 414ms\n",
      "564:\tlearn: 0.1125248\ttotal: 536ms\tremaining: 413ms\n",
      "565:\tlearn: 0.1123347\ttotal: 537ms\tremaining: 412ms\n",
      "566:\tlearn: 0.1121348\ttotal: 538ms\tremaining: 411ms\n",
      "567:\tlearn: 0.1118719\ttotal: 539ms\tremaining: 410ms\n",
      "568:\tlearn: 0.1118220\ttotal: 540ms\tremaining: 409ms\n",
      "569:\tlearn: 0.1115330\ttotal: 541ms\tremaining: 408ms\n",
      "570:\tlearn: 0.1113700\ttotal: 541ms\tremaining: 407ms\n",
      "571:\tlearn: 0.1110519\ttotal: 542ms\tremaining: 406ms\n",
      "572:\tlearn: 0.1109897\ttotal: 544ms\tremaining: 405ms\n",
      "573:\tlearn: 0.1107788\ttotal: 545ms\tremaining: 404ms\n",
      "574:\tlearn: 0.1107167\ttotal: 545ms\tremaining: 403ms\n",
      "575:\tlearn: 0.1106663\ttotal: 546ms\tremaining: 402ms\n"
     ]
    },
    {
     "name": "stdout",
     "output_type": "stream",
     "text": [
      "576:\tlearn: 0.1106032\ttotal: 547ms\tremaining: 401ms\n",
      "577:\tlearn: 0.1105078\ttotal: 548ms\tremaining: 400ms\n",
      "578:\tlearn: 0.1103091\ttotal: 549ms\tremaining: 399ms\n",
      "579:\tlearn: 0.1102451\ttotal: 550ms\tremaining: 398ms\n",
      "580:\tlearn: 0.1100588\ttotal: 551ms\tremaining: 397ms\n",
      "581:\tlearn: 0.1098965\ttotal: 551ms\tremaining: 396ms\n",
      "582:\tlearn: 0.1097079\ttotal: 552ms\tremaining: 395ms\n",
      "583:\tlearn: 0.1094873\ttotal: 553ms\tremaining: 394ms\n",
      "584:\tlearn: 0.1091597\ttotal: 555ms\tremaining: 393ms\n",
      "585:\tlearn: 0.1089405\ttotal: 556ms\tremaining: 392ms\n",
      "586:\tlearn: 0.1087960\ttotal: 556ms\tremaining: 391ms\n",
      "587:\tlearn: 0.1086709\ttotal: 557ms\tremaining: 390ms\n",
      "588:\tlearn: 0.1084799\ttotal: 558ms\tremaining: 389ms\n",
      "589:\tlearn: 0.1082224\ttotal: 559ms\tremaining: 388ms\n",
      "590:\tlearn: 0.1079647\ttotal: 560ms\tremaining: 387ms\n",
      "591:\tlearn: 0.1079165\ttotal: 561ms\tremaining: 387ms\n",
      "592:\tlearn: 0.1078558\ttotal: 562ms\tremaining: 386ms\n",
      "593:\tlearn: 0.1077374\ttotal: 563ms\tremaining: 385ms\n",
      "594:\tlearn: 0.1076160\ttotal: 564ms\tremaining: 384ms\n",
      "595:\tlearn: 0.1075637\ttotal: 564ms\tremaining: 383ms\n",
      "596:\tlearn: 0.1073724\ttotal: 565ms\tremaining: 382ms\n",
      "597:\tlearn: 0.1071544\ttotal: 566ms\tremaining: 381ms\n",
      "598:\tlearn: 0.1070184\ttotal: 567ms\tremaining: 380ms\n",
      "599:\tlearn: 0.1068767\ttotal: 568ms\tremaining: 378ms\n",
      "600:\tlearn: 0.1066601\ttotal: 568ms\tremaining: 377ms\n",
      "601:\tlearn: 0.1065203\ttotal: 569ms\tremaining: 376ms\n",
      "602:\tlearn: 0.1063707\ttotal: 570ms\tremaining: 375ms\n",
      "603:\tlearn: 0.1061064\ttotal: 571ms\tremaining: 374ms\n",
      "604:\tlearn: 0.1059400\ttotal: 572ms\tremaining: 373ms\n",
      "605:\tlearn: 0.1057308\ttotal: 573ms\tremaining: 372ms\n",
      "606:\tlearn: 0.1055015\ttotal: 573ms\tremaining: 371ms\n",
      "607:\tlearn: 0.1054668\ttotal: 574ms\tremaining: 370ms\n",
      "608:\tlearn: 0.1053837\ttotal: 575ms\tremaining: 369ms\n",
      "609:\tlearn: 0.1053366\ttotal: 576ms\tremaining: 368ms\n",
      "610:\tlearn: 0.1052757\ttotal: 577ms\tremaining: 367ms\n",
      "611:\tlearn: 0.1051091\ttotal: 578ms\tremaining: 366ms\n",
      "612:\tlearn: 0.1050145\ttotal: 578ms\tremaining: 365ms\n",
      "613:\tlearn: 0.1047568\ttotal: 579ms\tremaining: 364ms\n",
      "614:\tlearn: 0.1045952\ttotal: 580ms\tremaining: 363ms\n",
      "615:\tlearn: 0.1045381\ttotal: 581ms\tremaining: 362ms\n",
      "616:\tlearn: 0.1042818\ttotal: 582ms\tremaining: 361ms\n",
      "617:\tlearn: 0.1040879\ttotal: 583ms\tremaining: 360ms\n",
      "618:\tlearn: 0.1038425\ttotal: 583ms\tremaining: 359ms\n",
      "619:\tlearn: 0.1037723\ttotal: 584ms\tremaining: 358ms\n",
      "620:\tlearn: 0.1037385\ttotal: 585ms\tremaining: 357ms\n",
      "621:\tlearn: 0.1036789\ttotal: 586ms\tremaining: 356ms\n",
      "622:\tlearn: 0.1034408\ttotal: 587ms\tremaining: 355ms\n",
      "623:\tlearn: 0.1032638\ttotal: 588ms\tremaining: 354ms\n",
      "624:\tlearn: 0.1030100\ttotal: 589ms\tremaining: 353ms\n",
      "625:\tlearn: 0.1029832\ttotal: 590ms\tremaining: 352ms\n",
      "626:\tlearn: 0.1026710\ttotal: 591ms\tremaining: 351ms\n",
      "627:\tlearn: 0.1025052\ttotal: 591ms\tremaining: 350ms\n",
      "628:\tlearn: 0.1022447\ttotal: 592ms\tremaining: 349ms\n",
      "629:\tlearn: 0.1021426\ttotal: 593ms\tremaining: 348ms\n",
      "630:\tlearn: 0.1019405\ttotal: 594ms\tremaining: 347ms\n",
      "631:\tlearn: 0.1018255\ttotal: 595ms\tremaining: 346ms\n",
      "632:\tlearn: 0.1016227\ttotal: 596ms\tremaining: 345ms\n",
      "633:\tlearn: 0.1014187\ttotal: 597ms\tremaining: 344ms\n",
      "634:\tlearn: 0.1012459\ttotal: 597ms\tremaining: 343ms\n",
      "635:\tlearn: 0.1010176\ttotal: 598ms\tremaining: 342ms\n",
      "636:\tlearn: 0.1008204\ttotal: 599ms\tremaining: 341ms\n",
      "637:\tlearn: 0.1006938\ttotal: 600ms\tremaining: 340ms\n",
      "638:\tlearn: 0.1005332\ttotal: 601ms\tremaining: 339ms\n",
      "639:\tlearn: 0.1004251\ttotal: 602ms\tremaining: 338ms\n",
      "640:\tlearn: 0.1002905\ttotal: 602ms\tremaining: 337ms\n",
      "641:\tlearn: 0.1002111\ttotal: 603ms\tremaining: 336ms\n",
      "642:\tlearn: 0.1000415\ttotal: 604ms\tremaining: 335ms\n",
      "643:\tlearn: 0.0999079\ttotal: 605ms\tremaining: 334ms\n",
      "644:\tlearn: 0.0998295\ttotal: 606ms\tremaining: 334ms\n",
      "645:\tlearn: 0.0996480\ttotal: 607ms\tremaining: 333ms\n",
      "646:\tlearn: 0.0995309\ttotal: 608ms\tremaining: 332ms\n",
      "647:\tlearn: 0.0994136\ttotal: 609ms\tremaining: 331ms\n",
      "648:\tlearn: 0.0993778\ttotal: 610ms\tremaining: 330ms\n",
      "649:\tlearn: 0.0991724\ttotal: 610ms\tremaining: 329ms\n",
      "650:\tlearn: 0.0989748\ttotal: 611ms\tremaining: 328ms\n",
      "651:\tlearn: 0.0987541\ttotal: 612ms\tremaining: 327ms\n",
      "652:\tlearn: 0.0986024\ttotal: 613ms\tremaining: 326ms\n",
      "653:\tlearn: 0.0984173\ttotal: 614ms\tremaining: 325ms\n",
      "654:\tlearn: 0.0982061\ttotal: 615ms\tremaining: 324ms\n",
      "655:\tlearn: 0.0980204\ttotal: 615ms\tremaining: 323ms\n",
      "656:\tlearn: 0.0978599\ttotal: 616ms\tremaining: 322ms\n",
      "657:\tlearn: 0.0976815\ttotal: 617ms\tremaining: 321ms\n",
      "658:\tlearn: 0.0973887\ttotal: 618ms\tremaining: 320ms\n",
      "659:\tlearn: 0.0972650\ttotal: 619ms\tremaining: 319ms\n",
      "660:\tlearn: 0.0971157\ttotal: 619ms\tremaining: 318ms\n",
      "661:\tlearn: 0.0970272\ttotal: 620ms\tremaining: 317ms\n",
      "662:\tlearn: 0.0968640\ttotal: 621ms\tremaining: 316ms\n",
      "663:\tlearn: 0.0966619\ttotal: 622ms\tremaining: 315ms\n",
      "664:\tlearn: 0.0964267\ttotal: 623ms\tremaining: 314ms\n",
      "665:\tlearn: 0.0963241\ttotal: 623ms\tremaining: 313ms\n",
      "666:\tlearn: 0.0962101\ttotal: 624ms\tremaining: 312ms\n",
      "667:\tlearn: 0.0960745\ttotal: 625ms\tremaining: 311ms\n",
      "668:\tlearn: 0.0960004\ttotal: 626ms\tremaining: 310ms\n",
      "669:\tlearn: 0.0958628\ttotal: 627ms\tremaining: 309ms\n",
      "670:\tlearn: 0.0956294\ttotal: 627ms\tremaining: 308ms\n",
      "671:\tlearn: 0.0954169\ttotal: 628ms\tremaining: 307ms\n",
      "672:\tlearn: 0.0952691\ttotal: 629ms\tremaining: 306ms\n",
      "673:\tlearn: 0.0952072\ttotal: 630ms\tremaining: 305ms\n",
      "674:\tlearn: 0.0951047\ttotal: 631ms\tremaining: 304ms\n",
      "675:\tlearn: 0.0949634\ttotal: 631ms\tremaining: 303ms\n",
      "676:\tlearn: 0.0948959\ttotal: 632ms\tremaining: 302ms\n",
      "677:\tlearn: 0.0948030\ttotal: 633ms\tremaining: 301ms\n",
      "678:\tlearn: 0.0946645\ttotal: 634ms\tremaining: 300ms\n",
      "679:\tlearn: 0.0944566\ttotal: 635ms\tremaining: 299ms\n",
      "680:\tlearn: 0.0942792\ttotal: 636ms\tremaining: 298ms\n",
      "681:\tlearn: 0.0941938\ttotal: 636ms\tremaining: 297ms\n",
      "682:\tlearn: 0.0941411\ttotal: 637ms\tremaining: 296ms\n",
      "683:\tlearn: 0.0940242\ttotal: 638ms\tremaining: 295ms\n",
      "684:\tlearn: 0.0939050\ttotal: 639ms\tremaining: 294ms\n",
      "685:\tlearn: 0.0938356\ttotal: 640ms\tremaining: 293ms\n",
      "686:\tlearn: 0.0937621\ttotal: 640ms\tremaining: 292ms\n",
      "687:\tlearn: 0.0937061\ttotal: 641ms\tremaining: 291ms\n",
      "688:\tlearn: 0.0936186\ttotal: 642ms\tremaining: 290ms\n",
      "689:\tlearn: 0.0935721\ttotal: 643ms\tremaining: 289ms\n",
      "690:\tlearn: 0.0935005\ttotal: 644ms\tremaining: 288ms\n",
      "691:\tlearn: 0.0934395\ttotal: 645ms\tremaining: 287ms\n",
      "692:\tlearn: 0.0933633\ttotal: 645ms\tremaining: 286ms\n",
      "693:\tlearn: 0.0932173\ttotal: 646ms\tremaining: 285ms\n",
      "694:\tlearn: 0.0930488\ttotal: 647ms\tremaining: 284ms\n",
      "695:\tlearn: 0.0929024\ttotal: 648ms\tremaining: 283ms\n",
      "696:\tlearn: 0.0926242\ttotal: 649ms\tremaining: 282ms\n",
      "697:\tlearn: 0.0924127\ttotal: 650ms\tremaining: 281ms\n",
      "698:\tlearn: 0.0922885\ttotal: 651ms\tremaining: 280ms\n",
      "699:\tlearn: 0.0921593\ttotal: 652ms\tremaining: 279ms\n",
      "700:\tlearn: 0.0920959\ttotal: 653ms\tremaining: 278ms\n",
      "701:\tlearn: 0.0919769\ttotal: 654ms\tremaining: 277ms\n"
     ]
    },
    {
     "name": "stdout",
     "output_type": "stream",
     "text": [
      "702:\tlearn: 0.0918780\ttotal: 654ms\tremaining: 277ms\n",
      "703:\tlearn: 0.0917585\ttotal: 656ms\tremaining: 276ms\n",
      "704:\tlearn: 0.0915903\ttotal: 656ms\tremaining: 275ms\n",
      "705:\tlearn: 0.0914745\ttotal: 657ms\tremaining: 274ms\n",
      "706:\tlearn: 0.0914389\ttotal: 658ms\tremaining: 273ms\n",
      "707:\tlearn: 0.0913633\ttotal: 659ms\tremaining: 272ms\n",
      "708:\tlearn: 0.0913253\ttotal: 660ms\tremaining: 271ms\n",
      "709:\tlearn: 0.0912392\ttotal: 661ms\tremaining: 270ms\n",
      "710:\tlearn: 0.0910344\ttotal: 661ms\tremaining: 269ms\n",
      "711:\tlearn: 0.0909612\ttotal: 662ms\tremaining: 268ms\n",
      "712:\tlearn: 0.0909002\ttotal: 663ms\tremaining: 267ms\n",
      "713:\tlearn: 0.0908566\ttotal: 664ms\tremaining: 266ms\n",
      "714:\tlearn: 0.0907056\ttotal: 665ms\tremaining: 265ms\n",
      "715:\tlearn: 0.0906458\ttotal: 666ms\tremaining: 264ms\n",
      "716:\tlearn: 0.0904940\ttotal: 666ms\tremaining: 263ms\n",
      "717:\tlearn: 0.0904654\ttotal: 667ms\tremaining: 262ms\n",
      "718:\tlearn: 0.0904462\ttotal: 668ms\tremaining: 261ms\n",
      "719:\tlearn: 0.0903597\ttotal: 669ms\tremaining: 260ms\n",
      "720:\tlearn: 0.0902642\ttotal: 670ms\tremaining: 259ms\n",
      "721:\tlearn: 0.0901014\ttotal: 671ms\tremaining: 258ms\n",
      "722:\tlearn: 0.0899508\ttotal: 671ms\tremaining: 257ms\n",
      "723:\tlearn: 0.0897888\ttotal: 672ms\tremaining: 256ms\n",
      "724:\tlearn: 0.0895514\ttotal: 673ms\tremaining: 255ms\n",
      "725:\tlearn: 0.0893760\ttotal: 674ms\tremaining: 254ms\n",
      "726:\tlearn: 0.0892627\ttotal: 675ms\tremaining: 253ms\n",
      "727:\tlearn: 0.0891169\ttotal: 676ms\tremaining: 252ms\n",
      "728:\tlearn: 0.0889910\ttotal: 676ms\tremaining: 251ms\n",
      "729:\tlearn: 0.0887671\ttotal: 677ms\tremaining: 251ms\n",
      "730:\tlearn: 0.0885168\ttotal: 678ms\tremaining: 250ms\n",
      "731:\tlearn: 0.0884528\ttotal: 679ms\tremaining: 249ms\n",
      "732:\tlearn: 0.0884411\ttotal: 680ms\tremaining: 248ms\n",
      "733:\tlearn: 0.0882501\ttotal: 681ms\tremaining: 247ms\n",
      "734:\tlearn: 0.0880533\ttotal: 681ms\tremaining: 246ms\n",
      "735:\tlearn: 0.0879358\ttotal: 682ms\tremaining: 245ms\n",
      "736:\tlearn: 0.0877321\ttotal: 683ms\tremaining: 244ms\n",
      "737:\tlearn: 0.0877197\ttotal: 684ms\tremaining: 243ms\n",
      "738:\tlearn: 0.0875997\ttotal: 685ms\tremaining: 242ms\n",
      "739:\tlearn: 0.0875196\ttotal: 686ms\tremaining: 241ms\n",
      "740:\tlearn: 0.0874775\ttotal: 686ms\tremaining: 240ms\n",
      "741:\tlearn: 0.0872898\ttotal: 687ms\tremaining: 239ms\n",
      "742:\tlearn: 0.0871422\ttotal: 688ms\tremaining: 238ms\n",
      "743:\tlearn: 0.0869266\ttotal: 689ms\tremaining: 237ms\n",
      "744:\tlearn: 0.0867427\ttotal: 690ms\tremaining: 236ms\n",
      "745:\tlearn: 0.0865835\ttotal: 691ms\tremaining: 235ms\n",
      "746:\tlearn: 0.0864606\ttotal: 692ms\tremaining: 234ms\n",
      "747:\tlearn: 0.0862890\ttotal: 693ms\tremaining: 233ms\n",
      "748:\tlearn: 0.0862809\ttotal: 693ms\tremaining: 232ms\n",
      "749:\tlearn: 0.0861846\ttotal: 694ms\tremaining: 231ms\n",
      "750:\tlearn: 0.0859391\ttotal: 695ms\tremaining: 230ms\n",
      "751:\tlearn: 0.0858281\ttotal: 696ms\tremaining: 230ms\n",
      "752:\tlearn: 0.0856868\ttotal: 697ms\tremaining: 229ms\n",
      "753:\tlearn: 0.0855604\ttotal: 698ms\tremaining: 228ms\n",
      "754:\tlearn: 0.0853877\ttotal: 699ms\tremaining: 227ms\n",
      "755:\tlearn: 0.0852132\ttotal: 699ms\tremaining: 226ms\n",
      "756:\tlearn: 0.0850303\ttotal: 700ms\tremaining: 225ms\n",
      "757:\tlearn: 0.0848227\ttotal: 701ms\tremaining: 224ms\n",
      "758:\tlearn: 0.0848095\ttotal: 702ms\tremaining: 223ms\n",
      "759:\tlearn: 0.0847196\ttotal: 703ms\tremaining: 222ms\n",
      "760:\tlearn: 0.0845330\ttotal: 704ms\tremaining: 221ms\n",
      "761:\tlearn: 0.0843938\ttotal: 704ms\tremaining: 220ms\n",
      "762:\tlearn: 0.0842933\ttotal: 705ms\tremaining: 219ms\n",
      "763:\tlearn: 0.0842105\ttotal: 706ms\tremaining: 218ms\n",
      "764:\tlearn: 0.0841632\ttotal: 707ms\tremaining: 217ms\n",
      "765:\tlearn: 0.0840836\ttotal: 707ms\tremaining: 216ms\n",
      "766:\tlearn: 0.0839933\ttotal: 708ms\tremaining: 215ms\n",
      "767:\tlearn: 0.0838521\ttotal: 709ms\tremaining: 214ms\n",
      "768:\tlearn: 0.0837379\ttotal: 710ms\tremaining: 213ms\n",
      "769:\tlearn: 0.0836563\ttotal: 711ms\tremaining: 212ms\n",
      "770:\tlearn: 0.0835555\ttotal: 712ms\tremaining: 211ms\n",
      "771:\tlearn: 0.0834403\ttotal: 712ms\tremaining: 210ms\n",
      "772:\tlearn: 0.0833620\ttotal: 713ms\tremaining: 209ms\n",
      "773:\tlearn: 0.0831502\ttotal: 714ms\tremaining: 209ms\n",
      "774:\tlearn: 0.0830136\ttotal: 715ms\tremaining: 208ms\n",
      "775:\tlearn: 0.0828060\ttotal: 716ms\tremaining: 207ms\n",
      "776:\tlearn: 0.0827252\ttotal: 717ms\tremaining: 206ms\n",
      "777:\tlearn: 0.0826073\ttotal: 717ms\tremaining: 205ms\n",
      "778:\tlearn: 0.0824790\ttotal: 718ms\tremaining: 204ms\n",
      "779:\tlearn: 0.0824436\ttotal: 719ms\tremaining: 203ms\n",
      "780:\tlearn: 0.0824315\ttotal: 720ms\tremaining: 202ms\n",
      "781:\tlearn: 0.0823024\ttotal: 721ms\tremaining: 201ms\n",
      "782:\tlearn: 0.0822545\ttotal: 721ms\tremaining: 200ms\n",
      "783:\tlearn: 0.0822474\ttotal: 722ms\tremaining: 199ms\n",
      "784:\tlearn: 0.0821192\ttotal: 723ms\tremaining: 198ms\n",
      "785:\tlearn: 0.0820659\ttotal: 724ms\tremaining: 197ms\n",
      "786:\tlearn: 0.0820334\ttotal: 725ms\tremaining: 196ms\n",
      "787:\tlearn: 0.0818570\ttotal: 726ms\tremaining: 195ms\n",
      "788:\tlearn: 0.0816849\ttotal: 726ms\tremaining: 194ms\n",
      "789:\tlearn: 0.0816011\ttotal: 727ms\tremaining: 193ms\n",
      "790:\tlearn: 0.0814105\ttotal: 728ms\tremaining: 192ms\n",
      "791:\tlearn: 0.0812206\ttotal: 729ms\tremaining: 191ms\n",
      "792:\tlearn: 0.0811599\ttotal: 730ms\tremaining: 191ms\n",
      "793:\tlearn: 0.0810694\ttotal: 731ms\tremaining: 190ms\n",
      "794:\tlearn: 0.0810086\ttotal: 732ms\tremaining: 189ms\n",
      "795:\tlearn: 0.0808382\ttotal: 733ms\tremaining: 188ms\n",
      "796:\tlearn: 0.0806724\ttotal: 733ms\tremaining: 187ms\n",
      "797:\tlearn: 0.0805586\ttotal: 734ms\tremaining: 186ms\n",
      "798:\tlearn: 0.0803314\ttotal: 735ms\tremaining: 185ms\n",
      "799:\tlearn: 0.0801915\ttotal: 736ms\tremaining: 184ms\n"
     ]
    },
    {
     "name": "stdout",
     "output_type": "stream",
     "text": [
      "800:\tlearn: 0.0800712\ttotal: 737ms\tremaining: 183ms\n",
      "801:\tlearn: 0.0799230\ttotal: 738ms\tremaining: 182ms\n",
      "802:\tlearn: 0.0797845\ttotal: 739ms\tremaining: 181ms\n",
      "803:\tlearn: 0.0796306\ttotal: 740ms\tremaining: 180ms\n",
      "804:\tlearn: 0.0795943\ttotal: 740ms\tremaining: 179ms\n",
      "805:\tlearn: 0.0795065\ttotal: 741ms\tremaining: 178ms\n",
      "806:\tlearn: 0.0793565\ttotal: 742ms\tremaining: 177ms\n",
      "807:\tlearn: 0.0792101\ttotal: 743ms\tremaining: 176ms\n",
      "808:\tlearn: 0.0791072\ttotal: 744ms\tremaining: 176ms\n",
      "809:\tlearn: 0.0790289\ttotal: 744ms\tremaining: 175ms\n",
      "810:\tlearn: 0.0789351\ttotal: 745ms\tremaining: 174ms\n",
      "811:\tlearn: 0.0788661\ttotal: 746ms\tremaining: 173ms\n",
      "812:\tlearn: 0.0787466\ttotal: 747ms\tremaining: 172ms\n",
      "813:\tlearn: 0.0785778\ttotal: 748ms\tremaining: 171ms\n",
      "814:\tlearn: 0.0784826\ttotal: 749ms\tremaining: 170ms\n",
      "815:\tlearn: 0.0783367\ttotal: 750ms\tremaining: 169ms\n",
      "816:\tlearn: 0.0782604\ttotal: 750ms\tremaining: 168ms\n",
      "817:\tlearn: 0.0781175\ttotal: 751ms\tremaining: 167ms\n",
      "818:\tlearn: 0.0780719\ttotal: 752ms\tremaining: 166ms\n",
      "819:\tlearn: 0.0780191\ttotal: 753ms\tremaining: 165ms\n",
      "820:\tlearn: 0.0779393\ttotal: 754ms\tremaining: 164ms\n",
      "821:\tlearn: 0.0778378\ttotal: 754ms\tremaining: 163ms\n",
      "822:\tlearn: 0.0776969\ttotal: 755ms\tremaining: 162ms\n",
      "823:\tlearn: 0.0776174\ttotal: 756ms\tremaining: 161ms\n",
      "824:\tlearn: 0.0774538\ttotal: 757ms\tremaining: 161ms\n",
      "825:\tlearn: 0.0773905\ttotal: 758ms\tremaining: 160ms\n",
      "826:\tlearn: 0.0772842\ttotal: 758ms\tremaining: 159ms\n",
      "827:\tlearn: 0.0772672\ttotal: 759ms\tremaining: 158ms\n",
      "828:\tlearn: 0.0771703\ttotal: 760ms\tremaining: 157ms\n",
      "829:\tlearn: 0.0770061\ttotal: 761ms\tremaining: 156ms\n",
      "830:\tlearn: 0.0768691\ttotal: 762ms\tremaining: 155ms\n",
      "831:\tlearn: 0.0766556\ttotal: 763ms\tremaining: 154ms\n",
      "832:\tlearn: 0.0765139\ttotal: 763ms\tremaining: 153ms\n",
      "833:\tlearn: 0.0764858\ttotal: 764ms\tremaining: 152ms\n",
      "834:\tlearn: 0.0763993\ttotal: 765ms\tremaining: 151ms\n",
      "835:\tlearn: 0.0762544\ttotal: 766ms\tremaining: 150ms\n",
      "836:\tlearn: 0.0762045\ttotal: 766ms\tremaining: 149ms\n",
      "837:\tlearn: 0.0760543\ttotal: 767ms\tremaining: 148ms\n",
      "838:\tlearn: 0.0759982\ttotal: 768ms\tremaining: 147ms\n",
      "839:\tlearn: 0.0758572\ttotal: 769ms\tremaining: 146ms\n",
      "840:\tlearn: 0.0758391\ttotal: 770ms\tremaining: 146ms\n",
      "841:\tlearn: 0.0756989\ttotal: 771ms\tremaining: 145ms\n",
      "842:\tlearn: 0.0755787\ttotal: 771ms\tremaining: 144ms\n",
      "843:\tlearn: 0.0755387\ttotal: 772ms\tremaining: 143ms\n",
      "844:\tlearn: 0.0753903\ttotal: 773ms\tremaining: 142ms\n",
      "845:\tlearn: 0.0753322\ttotal: 774ms\tremaining: 141ms\n",
      "846:\tlearn: 0.0752046\ttotal: 775ms\tremaining: 140ms\n",
      "847:\tlearn: 0.0751373\ttotal: 776ms\tremaining: 139ms\n",
      "848:\tlearn: 0.0750862\ttotal: 776ms\tremaining: 138ms\n",
      "849:\tlearn: 0.0748787\ttotal: 777ms\tremaining: 137ms\n",
      "850:\tlearn: 0.0748058\ttotal: 778ms\tremaining: 136ms\n",
      "851:\tlearn: 0.0746824\ttotal: 779ms\tremaining: 135ms\n",
      "852:\tlearn: 0.0745654\ttotal: 780ms\tremaining: 134ms\n",
      "853:\tlearn: 0.0745071\ttotal: 781ms\tremaining: 133ms\n",
      "854:\tlearn: 0.0743828\ttotal: 781ms\tremaining: 133ms\n",
      "855:\tlearn: 0.0742171\ttotal: 782ms\tremaining: 132ms\n",
      "856:\tlearn: 0.0741815\ttotal: 783ms\tremaining: 131ms\n",
      "857:\tlearn: 0.0740717\ttotal: 784ms\tremaining: 130ms\n",
      "858:\tlearn: 0.0739321\ttotal: 785ms\tremaining: 129ms\n",
      "859:\tlearn: 0.0739204\ttotal: 786ms\tremaining: 128ms\n",
      "860:\tlearn: 0.0738499\ttotal: 786ms\tremaining: 127ms\n",
      "861:\tlearn: 0.0737692\ttotal: 787ms\tremaining: 126ms\n",
      "862:\tlearn: 0.0736091\ttotal: 788ms\tremaining: 125ms\n",
      "863:\tlearn: 0.0734165\ttotal: 789ms\tremaining: 124ms\n",
      "864:\tlearn: 0.0733332\ttotal: 790ms\tremaining: 123ms\n",
      "865:\tlearn: 0.0732996\ttotal: 790ms\tremaining: 122ms\n",
      "866:\tlearn: 0.0731858\ttotal: 791ms\tremaining: 121ms\n",
      "867:\tlearn: 0.0731442\ttotal: 792ms\tremaining: 120ms\n",
      "868:\tlearn: 0.0730559\ttotal: 793ms\tremaining: 120ms\n",
      "869:\tlearn: 0.0730038\ttotal: 794ms\tremaining: 119ms\n",
      "870:\tlearn: 0.0728515\ttotal: 795ms\tremaining: 118ms\n",
      "871:\tlearn: 0.0727722\ttotal: 796ms\tremaining: 117ms\n",
      "872:\tlearn: 0.0726742\ttotal: 797ms\tremaining: 116ms\n",
      "873:\tlearn: 0.0725891\ttotal: 798ms\tremaining: 115ms\n",
      "874:\tlearn: 0.0724696\ttotal: 799ms\tremaining: 114ms\n",
      "875:\tlearn: 0.0722958\ttotal: 799ms\tremaining: 113ms\n",
      "876:\tlearn: 0.0721828\ttotal: 800ms\tremaining: 112ms\n",
      "877:\tlearn: 0.0720736\ttotal: 801ms\tremaining: 111ms\n",
      "878:\tlearn: 0.0719396\ttotal: 802ms\tremaining: 110ms\n",
      "879:\tlearn: 0.0718735\ttotal: 803ms\tremaining: 109ms\n",
      "880:\tlearn: 0.0717952\ttotal: 804ms\tremaining: 109ms\n",
      "881:\tlearn: 0.0717279\ttotal: 804ms\tremaining: 108ms\n",
      "882:\tlearn: 0.0717033\ttotal: 805ms\tremaining: 107ms\n",
      "883:\tlearn: 0.0715528\ttotal: 806ms\tremaining: 106ms\n",
      "884:\tlearn: 0.0714736\ttotal: 807ms\tremaining: 105ms\n",
      "885:\tlearn: 0.0714007\ttotal: 808ms\tremaining: 104ms\n",
      "886:\tlearn: 0.0713520\ttotal: 809ms\tremaining: 103ms\n",
      "887:\tlearn: 0.0713164\ttotal: 810ms\tremaining: 102ms\n",
      "888:\tlearn: 0.0712241\ttotal: 810ms\tremaining: 101ms\n",
      "889:\tlearn: 0.0711535\ttotal: 811ms\tremaining: 100ms\n",
      "890:\tlearn: 0.0709925\ttotal: 812ms\tremaining: 99.3ms\n",
      "891:\tlearn: 0.0708550\ttotal: 813ms\tremaining: 98.4ms\n",
      "892:\tlearn: 0.0707283\ttotal: 814ms\tremaining: 97.5ms\n",
      "893:\tlearn: 0.0706768\ttotal: 814ms\tremaining: 96.6ms\n",
      "894:\tlearn: 0.0705881\ttotal: 815ms\tremaining: 95.6ms\n",
      "895:\tlearn: 0.0705504\ttotal: 816ms\tremaining: 94.7ms\n",
      "896:\tlearn: 0.0704998\ttotal: 817ms\tremaining: 93.8ms\n",
      "897:\tlearn: 0.0704749\ttotal: 818ms\tremaining: 92.9ms\n",
      "898:\tlearn: 0.0704174\ttotal: 819ms\tremaining: 92ms\n",
      "899:\tlearn: 0.0704086\ttotal: 819ms\tremaining: 91ms\n",
      "900:\tlearn: 0.0704015\ttotal: 820ms\tremaining: 90.1ms\n",
      "901:\tlearn: 0.0702483\ttotal: 821ms\tremaining: 89.2ms\n",
      "902:\tlearn: 0.0702158\ttotal: 822ms\tremaining: 88.3ms\n",
      "903:\tlearn: 0.0700471\ttotal: 823ms\tremaining: 87.4ms\n",
      "904:\tlearn: 0.0699511\ttotal: 824ms\tremaining: 86.5ms\n",
      "905:\tlearn: 0.0699119\ttotal: 825ms\tremaining: 85.6ms\n",
      "906:\tlearn: 0.0698040\ttotal: 825ms\tremaining: 84.6ms\n",
      "907:\tlearn: 0.0697314\ttotal: 826ms\tremaining: 83.7ms\n",
      "908:\tlearn: 0.0696037\ttotal: 827ms\tremaining: 82.8ms\n",
      "909:\tlearn: 0.0695199\ttotal: 828ms\tremaining: 81.9ms\n",
      "910:\tlearn: 0.0694393\ttotal: 829ms\tremaining: 81ms\n",
      "911:\tlearn: 0.0694085\ttotal: 829ms\tremaining: 80ms\n",
      "912:\tlearn: 0.0692362\ttotal: 830ms\tremaining: 79.1ms\n",
      "913:\tlearn: 0.0692023\ttotal: 831ms\tremaining: 78.2ms\n",
      "914:\tlearn: 0.0691061\ttotal: 832ms\tremaining: 77.3ms\n",
      "915:\tlearn: 0.0689389\ttotal: 833ms\tremaining: 76.4ms\n",
      "916:\tlearn: 0.0688398\ttotal: 834ms\tremaining: 75.5ms\n",
      "917:\tlearn: 0.0687759\ttotal: 835ms\tremaining: 74.6ms\n",
      "918:\tlearn: 0.0686745\ttotal: 836ms\tremaining: 73.7ms\n",
      "919:\tlearn: 0.0685825\ttotal: 837ms\tremaining: 72.8ms\n",
      "920:\tlearn: 0.0685169\ttotal: 837ms\tremaining: 71.8ms\n",
      "921:\tlearn: 0.0684725\ttotal: 838ms\tremaining: 70.9ms\n",
      "922:\tlearn: 0.0683494\ttotal: 839ms\tremaining: 70ms\n",
      "923:\tlearn: 0.0682520\ttotal: 840ms\tremaining: 69.1ms\n",
      "924:\tlearn: 0.0681493\ttotal: 841ms\tremaining: 68.2ms\n",
      "925:\tlearn: 0.0681165\ttotal: 842ms\tremaining: 67.3ms\n",
      "926:\tlearn: 0.0680770\ttotal: 843ms\tremaining: 66.4ms\n",
      "927:\tlearn: 0.0680457\ttotal: 843ms\tremaining: 65.4ms\n"
     ]
    },
    {
     "name": "stdout",
     "output_type": "stream",
     "text": [
      "928:\tlearn: 0.0679638\ttotal: 844ms\tremaining: 64.5ms\n",
      "929:\tlearn: 0.0678179\ttotal: 845ms\tremaining: 63.6ms\n",
      "930:\tlearn: 0.0676747\ttotal: 846ms\tremaining: 62.7ms\n",
      "931:\tlearn: 0.0676084\ttotal: 847ms\tremaining: 61.8ms\n",
      "932:\tlearn: 0.0675231\ttotal: 848ms\tremaining: 60.9ms\n",
      "933:\tlearn: 0.0673934\ttotal: 849ms\tremaining: 60ms\n",
      "934:\tlearn: 0.0673856\ttotal: 850ms\tremaining: 59.1ms\n",
      "935:\tlearn: 0.0673181\ttotal: 851ms\tremaining: 58.2ms\n",
      "936:\tlearn: 0.0672657\ttotal: 851ms\tremaining: 57.2ms\n",
      "937:\tlearn: 0.0672250\ttotal: 852ms\tremaining: 56.3ms\n",
      "938:\tlearn: 0.0671198\ttotal: 853ms\tremaining: 55.4ms\n",
      "939:\tlearn: 0.0669634\ttotal: 854ms\tremaining: 54.5ms\n",
      "940:\tlearn: 0.0668560\ttotal: 855ms\tremaining: 53.6ms\n",
      "941:\tlearn: 0.0667576\ttotal: 856ms\tremaining: 52.7ms\n",
      "942:\tlearn: 0.0666460\ttotal: 856ms\tremaining: 51.8ms\n",
      "943:\tlearn: 0.0665382\ttotal: 857ms\tremaining: 50.8ms\n",
      "944:\tlearn: 0.0664191\ttotal: 858ms\tremaining: 49.9ms\n",
      "945:\tlearn: 0.0663634\ttotal: 859ms\tremaining: 49ms\n",
      "946:\tlearn: 0.0663522\ttotal: 860ms\tremaining: 48.2ms\n",
      "947:\tlearn: 0.0663247\ttotal: 861ms\tremaining: 47.2ms\n",
      "948:\tlearn: 0.0662336\ttotal: 862ms\tremaining: 46.3ms\n",
      "949:\tlearn: 0.0661141\ttotal: 863ms\tremaining: 45.4ms\n",
      "950:\tlearn: 0.0660666\ttotal: 864ms\tremaining: 44.5ms\n",
      "951:\tlearn: 0.0659601\ttotal: 865ms\tremaining: 43.6ms\n",
      "952:\tlearn: 0.0659077\ttotal: 865ms\tremaining: 42.7ms\n",
      "953:\tlearn: 0.0658628\ttotal: 866ms\tremaining: 41.8ms\n",
      "954:\tlearn: 0.0656949\ttotal: 867ms\tremaining: 40.9ms\n",
      "955:\tlearn: 0.0655588\ttotal: 868ms\tremaining: 39.9ms\n",
      "956:\tlearn: 0.0654601\ttotal: 869ms\tremaining: 39ms\n",
      "957:\tlearn: 0.0653259\ttotal: 870ms\tremaining: 38.1ms\n",
      "958:\tlearn: 0.0653154\ttotal: 871ms\tremaining: 37.2ms\n",
      "959:\tlearn: 0.0651920\ttotal: 871ms\tremaining: 36.3ms\n",
      "960:\tlearn: 0.0650674\ttotal: 872ms\tremaining: 35.4ms\n",
      "961:\tlearn: 0.0650085\ttotal: 873ms\tremaining: 34.5ms\n",
      "962:\tlearn: 0.0649260\ttotal: 874ms\tremaining: 33.6ms\n",
      "963:\tlearn: 0.0648702\ttotal: 875ms\tremaining: 32.7ms\n",
      "964:\tlearn: 0.0648453\ttotal: 876ms\tremaining: 31.8ms\n",
      "965:\tlearn: 0.0647130\ttotal: 876ms\tremaining: 30.8ms\n",
      "966:\tlearn: 0.0646643\ttotal: 877ms\tremaining: 29.9ms\n",
      "967:\tlearn: 0.0645425\ttotal: 878ms\tremaining: 29ms\n",
      "968:\tlearn: 0.0645108\ttotal: 879ms\tremaining: 28.1ms\n",
      "969:\tlearn: 0.0644190\ttotal: 880ms\tremaining: 27.2ms\n",
      "970:\tlearn: 0.0642576\ttotal: 881ms\tremaining: 26.3ms\n",
      "971:\tlearn: 0.0641753\ttotal: 882ms\tremaining: 25.4ms\n",
      "972:\tlearn: 0.0641044\ttotal: 883ms\tremaining: 24.5ms\n",
      "973:\tlearn: 0.0640282\ttotal: 884ms\tremaining: 23.6ms\n",
      "974:\tlearn: 0.0639633\ttotal: 884ms\tremaining: 22.7ms\n",
      "975:\tlearn: 0.0638815\ttotal: 885ms\tremaining: 21.8ms\n",
      "976:\tlearn: 0.0638486\ttotal: 886ms\tremaining: 20.9ms\n",
      "977:\tlearn: 0.0638007\ttotal: 887ms\tremaining: 19.9ms\n",
      "978:\tlearn: 0.0637358\ttotal: 888ms\tremaining: 19ms\n",
      "979:\tlearn: 0.0636586\ttotal: 889ms\tremaining: 18.1ms\n",
      "980:\tlearn: 0.0634954\ttotal: 889ms\tremaining: 17.2ms\n",
      "981:\tlearn: 0.0634060\ttotal: 890ms\tremaining: 16.3ms\n",
      "982:\tlearn: 0.0633513\ttotal: 891ms\tremaining: 15.4ms\n",
      "983:\tlearn: 0.0632655\ttotal: 892ms\tremaining: 14.5ms\n",
      "984:\tlearn: 0.0632502\ttotal: 893ms\tremaining: 13.6ms\n",
      "985:\tlearn: 0.0632433\ttotal: 893ms\tremaining: 12.7ms\n",
      "986:\tlearn: 0.0632312\ttotal: 894ms\tremaining: 11.8ms\n",
      "987:\tlearn: 0.0630747\ttotal: 895ms\tremaining: 10.9ms\n",
      "988:\tlearn: 0.0629654\ttotal: 896ms\tremaining: 9.96ms\n",
      "989:\tlearn: 0.0628799\ttotal: 897ms\tremaining: 9.06ms\n",
      "990:\tlearn: 0.0628136\ttotal: 898ms\tremaining: 8.15ms\n",
      "991:\tlearn: 0.0627168\ttotal: 898ms\tremaining: 7.25ms\n",
      "992:\tlearn: 0.0626262\ttotal: 899ms\tremaining: 6.34ms\n",
      "993:\tlearn: 0.0625003\ttotal: 900ms\tremaining: 5.43ms\n",
      "994:\tlearn: 0.0624305\ttotal: 901ms\tremaining: 4.53ms\n",
      "995:\tlearn: 0.0624120\ttotal: 901ms\tremaining: 3.62ms\n",
      "996:\tlearn: 0.0623681\ttotal: 902ms\tremaining: 2.71ms\n",
      "997:\tlearn: 0.0622823\ttotal: 903ms\tremaining: 1.81ms\n",
      "998:\tlearn: 0.0621848\ttotal: 904ms\tremaining: 905us\n",
      "999:\tlearn: 0.0620592\ttotal: 905ms\tremaining: 0us\n"
     ]
    },
    {
     "data": {
      "text/plain": [
       "<catboost.core.CatBoostRegressor at 0x7fee681b8f10>"
      ]
     },
     "execution_count": 9,
     "metadata": {},
     "output_type": "execute_result"
    }
   ],
   "source": [
    "#Train the Model \n",
    "prior_model = ctb.CatBoostRegressor()\n",
    "prior_model.fit(X_train,Y_train)"
   ]
  },
  {
   "cell_type": "code",
   "execution_count": 10,
   "id": "af65dcda",
   "metadata": {
    "execution": {
     "iopub.execute_input": "2022-06-12T08:31:55.889195Z",
     "iopub.status.busy": "2022-06-12T08:31:55.888816Z",
     "iopub.status.idle": "2022-06-12T08:31:55.896372Z",
     "shell.execute_reply": "2022-06-12T08:31:55.896652Z"
    },
    "id": "af65dcda",
    "papermill": {
     "duration": 0.02097,
     "end_time": "2022-06-12T08:31:55.896770",
     "exception": false,
     "start_time": "2022-06-12T08:31:55.875800",
     "status": "completed"
    },
    "tags": []
   },
   "outputs": [
    {
     "data": {
      "application/scrapbook.scrap.json+json": {
       "data": 0.14163166051077744,
       "encoder": "json",
       "name": "Prior Model MSE",
       "version": 1
      }
     },
     "metadata": {
      "scrapbook": {
       "data": true,
       "display": false,
       "name": "Prior Model MSE"
      }
     },
     "output_type": "display_data"
    },
    {
     "data": {
      "application/scrapbook.scrap.json+json": {
       "data": 1.2337062013798876,
       "encoder": "json",
       "name": "ABC Pre-generator MSE",
       "version": 1
      }
     },
     "metadata": {
      "scrapbook": {
       "data": true,
       "display": false,
       "name": "ABC Pre-generator MSE"
      }
     },
     "output_type": "display_data"
    },
    {
     "data": {
      "application/scrapbook.scrap.json+json": {
       "data": 0.26141704367500773,
       "encoder": "json",
       "name": "Prior Model MSE",
       "version": 1
      }
     },
     "metadata": {
      "scrapbook": {
       "data": true,
       "display": false,
       "name": "Prior Model MSE"
      }
     },
     "output_type": "display_data"
    },
    {
     "data": {
      "application/scrapbook.scrap.json+json": {
       "data": 0.8819443027971358,
       "encoder": "json",
       "name": "ABC Pre-generator MSE",
       "version": 1
      }
     },
     "metadata": {
      "scrapbook": {
       "data": true,
       "display": false,
       "name": "ABC Pre-generator MSE"
      }
     },
     "output_type": "display_data"
    }
   ],
   "source": [
    "y_pred = prior_model.predict(X_test)\n",
    "y_abc = y_pred + np.random.normal(0,variance, y_pred.shape) + bias \n",
    "mse = mean_squared_error(y_pred,Y_test)\n",
    "sb.glue(\"Prior Model MSE\",mse)\n",
    "mse = mean_squared_error(y_abc,Y_test)\n",
    "sb.glue(\"ABC Pre-generator MSE\",mse)\n",
    "mae = mean_absolute_error(y_pred,Y_test)\n",
    "sb.glue(\"Prior Model MSE\",mae)\n",
    "mae = mean_absolute_error(y_abc,Y_test)\n",
    "sb.glue(\"ABC Pre-generator MSE\",mae)"
   ]
  },
  {
   "cell_type": "markdown",
   "id": "25609da2",
   "metadata": {
    "papermill": {
     "duration": 0.009691,
     "end_time": "2022-06-12T08:31:55.916420",
     "exception": false,
     "start_time": "2022-06-12T08:31:55.906729",
     "status": "completed"
    },
    "tags": []
   },
   "source": [
    "# ABC GAN Model"
   ]
  },
  {
   "cell_type": "code",
   "execution_count": 11,
   "id": "dfc3464d",
   "metadata": {
    "execution": {
     "iopub.execute_input": "2022-06-12T08:31:55.938775Z",
     "iopub.status.busy": "2022-06-12T08:31:55.938386Z",
     "iopub.status.idle": "2022-06-12T08:31:55.940851Z",
     "shell.execute_reply": "2022-06-12T08:31:55.941100Z"
    },
    "papermill": {
     "duration": 0.015117,
     "end_time": "2022-06-12T08:31:55.941212",
     "exception": false,
     "start_time": "2022-06-12T08:31:55.926095",
     "status": "completed"
    },
    "tags": []
   },
   "outputs": [],
   "source": [
    "gen = network.Generator(n_features+1).to(device)\n",
    "disc = network.Discriminator(n_features+1).to(device)\n",
    "\n",
    "criterion = torch.nn.BCELoss()\n",
    "gen_opt = torch.optim.Adam(gen.parameters(), lr=0.001, betas=(0.5, 0.999))\n",
    "disc_opt = torch.optim.Adam(disc.parameters(), lr=0.001, betas=(0.5, 0.999))"
   ]
  },
  {
   "cell_type": "code",
   "execution_count": 12,
   "id": "b75fdd85",
   "metadata": {
    "execution": {
     "iopub.execute_input": "2022-06-12T08:31:55.963719Z",
     "iopub.status.busy": "2022-06-12T08:31:55.963352Z",
     "iopub.status.idle": "2022-06-12T08:32:56.588133Z",
     "shell.execute_reply": "2022-06-12T08:32:56.588437Z"
    },
    "papermill": {
     "duration": 60.63741,
     "end_time": "2022-06-12T08:32:56.588562",
     "exception": false,
     "start_time": "2022-06-12T08:31:55.951152",
     "status": "completed"
    },
    "tags": []
   },
   "outputs": [
    {
     "data": {
      "image/png": "[encoded data removed]",
      "text/plain": [
       "<Figure size 432x288 with 1 Axes>"
      ]
     },
     "metadata": {
      "needs_background": "light"
     },
     "output_type": "display_data"
    },
    {
     "data": {
      "image/png": "[encoded data removed]",
      "text/plain": [
       "<Figure size 432x288 with 1 Axes>"
      ]
     },
     "metadata": {
      "needs_background": "light"
     },
     "output_type": "display_data"
    }
   ],
   "source": [
    "#Training the ABC_GAN \n",
    "ABC_train_test2.training_GAN(disc,gen,disc_opt,gen_opt,train_data,batch_size,n_epochs,criterion,prior_model,variance,bias,device)"
   ]
  },
  {
   "cell_type": "code",
   "execution_count": 13,
   "id": "1fa7c368",
   "metadata": {
    "execution": {
     "iopub.execute_input": "2022-06-12T08:32:56.612963Z",
     "iopub.status.busy": "2022-06-12T08:32:56.612566Z",
     "iopub.status.idle": "2022-06-12T08:32:56.926863Z",
     "shell.execute_reply": "2022-06-12T08:32:56.927263Z"
    },
    "papermill": {
     "duration": 0.327926,
     "end_time": "2022-06-12T08:32:56.927384",
     "exception": false,
     "start_time": "2022-06-12T08:32:56.599458",
     "status": "completed"
    },
    "tags": []
   },
   "outputs": [
    {
     "data": {
      "application/scrapbook.scrap.json+json": {
       "data": 0.13315711353936285,
       "encoder": "json",
       "name": "ABC-GAN Model 1 MSE",
       "version": 1
      }
     },
     "metadata": {
      "scrapbook": {
       "data": true,
       "display": false,
       "name": "ABC-GAN Model 1 MSE"
      }
     },
     "output_type": "display_data"
    },
    {
     "data": {
      "application/scrapbook.scrap.json+json": {
       "data": 0.2247172743509359,
       "encoder": "json",
       "name": "ABC-GAN Model 1 MAE",
       "version": 1
      }
     },
     "metadata": {
      "scrapbook": {
       "data": true,
       "display": false,
       "name": "ABC-GAN Model 1 MAE"
      }
     },
     "output_type": "display_data"
    },
    {
     "data": {
      "application/scrapbook.scrap.json+json": {
       "data": 22.921161983795464,
       "encoder": "json",
       "name": "ABC-GAN Model 1 Manhattan Distance",
       "version": 1
      }
     },
     "metadata": {
      "scrapbook": {
       "data": true,
       "display": false,
       "name": "ABC-GAN Model 1 Manhattan Distance"
      }
     },
     "output_type": "display_data"
    },
    {
     "data": {
      "application/scrapbook.scrap.json+json": {
       "data": 3.6853671006856032,
       "encoder": "json",
       "name": "ABC-GAN Model 1 Euclidean distance",
       "version": 1
      }
     },
     "metadata": {
      "scrapbook": {
       "data": true,
       "display": false,
       "name": "ABC-GAN Model 1 Euclidean distance"
      }
     },
     "output_type": "display_data"
    },
    {
     "data": {
      "application/scrapbook.scrap.json+json": {
       "data": [
        [
         0.1329474252288098,
         0.13369585052017036,
         0.13313789348037083,
         0.13289004462261858,
         0.13456602808128834,
         0.13257674921746804,
         0.13352983648777825,
         0.13443917948836623,
         0.13355239493963109,
         0.1332688337162878,
         0.13320326790915665,
         0.13365269537667196,
         0.13343371512757943,
         0.1316679216820812,
         0.13295244972934128,
         0.1337243643420119,
         0.13261361400726793,
         0.1322217206892737,
         0.13457942682445498,
         0.13398717050204967,
         0.13207699366517356,
         0.1325582451589062,
         0.13276394439012998,
         0.13196888608786422,
         0.13236812155286795,
         0.13433021043018123,
         0.13364417149294133,
         0.13243917769099064,
         0.13371546418695637,
         0.13307781409860406,
         0.134243343520243,
         0.13417059503193585,
         0.13378336990012193,
         0.13288924100158997,
         0.1332955179031585,
         0.13352063914710313,
         0.1331661646798865,
         0.13306829131974157,
         0.13275836696561713,
         0.13295994204354217,
         0.1335523898176741,
         0.13392259500234777,
         0.13386218612552464,
         0.13285558882049878,
         0.1325460978377752,
         0.13370353185882616,
         0.13293813911681268,
         0.13288000578729584,
         0.13262337254119522,
         0.13284173571595903,
         0.1330720012018358,
         0.13306047755902006,
         0.1338491392757332,
         0.13126434272551668,
         0.13254231624924392,
         0.13390658948625522,
         0.13362616065347788,
         0.13278849793237166,
         0.13356001127194955,
         0.13258228587297982,
         0.13443342818196272,
         0.13325425845361955,
         0.13302228821421408,
         0.13465096257156395,
         0.1318901298216267,
         0.13403445822395166,
         0.1328212852206643,
         0.13215798851961927,
         0.13238344892208845,
         0.13358797766534783,
         0.133700386685068,
         0.1327018555906585,
         0.13317142323816578,
         0.13387247725533125,
         0.13282698394575396,
         0.13288155230499257,
         0.1340148987073381,
         0.13322338098452707,
         0.13226222631068482,
         0.13303560901106512,
         0.13319039773771554,
         0.1322292660607688,
         0.13281198332452818,
         0.13350525950169834,
         0.13420720506114087,
         0.13313438384225526,
         0.13278068361407944,
         0.13289895733234325,
         0.13222416249195393,
         0.13319784159945097,
         0.13302493609610852,
         0.1321071805635213,
         0.13201473250740825,
         0.1341160320684958,
         0.13427138260717827,
         0.13317203644078004,
         0.13352805039705234,
         0.13300063915643676,
         0.13190631768230326,
         0.13304633893029738
        ],
        [
         0.2241534518041447,
         0.22599790877133025,
         0.22390583504502679,
         0.224932447331501,
         0.22597401019404917,
         0.22468732016197607,
         0.22654967751427024,
         0.22670556783822238,
         0.22372146341584476,
         0.22550148604547277,
         0.22445756682724344,
         0.22705884383735703,
         0.2248238286770442,
         0.22303932616669758,
         0.2248258060757436,
         0.22569339426563068,
         0.22471733398589433,
         0.22372458038815096,
         0.2248007050331901,
         0.22538329149578132,
         0.22255938890956195,
         0.22454000279015185,
         0.22571638525993215,
         0.22400098889335698,
         0.22364948054446893,
         0.22498716151013093,
         0.22562680948598712,
         0.22413834385281683,
         0.22740982074801827,
         0.2235595275300975,
         0.22738840617239475,
         0.22624087574727395,
         0.22476445061757283,
         0.22378637638016075,
         0.2261813561632937,
         0.22389190289758,
         0.22392585124893516,
         0.2243298496685776,
         0.2245724647872004,
         0.22494230722533723,
         0.22542094778926933,
         0.22576851306446627,
         0.22502837034271045,
         0.22365807376655877,
         0.22284026845705276,
         0.22484635506920955,
         0.22435936423055097,
         0.22391743055891758,
         0.22369551998289192,
         0.22565730796286873,
         0.22480919124449,
         0.22435261930028597,
         0.22492572676171274,
         0.22194632898797007,
         0.22492270266600684,
         0.22611091705952205,
         0.2242366159517391,
         0.22473204161460494,
         0.2258257067890144,
         0.22240904364369662,
         0.22705804450693085,
         0.22544408195159016,
         0.2251823872839119,
         0.22725073134928359,
         0.22442341701803253,
         0.2246796142529039,
         0.22340664417282038,
         0.22318760601474957,
         0.22399121128460941,
         0.22424000917988665,
         0.22579348171312436,
         0.22338863571777062,
         0.22309010296913923,
         0.2267558125085106,
         0.2249415758266753,
         0.22490919275464966,
         0.22638905661947586,
         0.22485971848900413,
         0.22111425136088156,
         0.22306441745775588,
         0.22499473411224635,
         0.2239588092574302,
         0.2253702117824087,
         0.22533152982884763,
         0.22564058075202445,
         0.22490541333807448,
         0.2235393303209076,
         0.2255414974528785,
         0.2242092650164576,
         0.22564977575458733,
         0.22516628632358476,
         0.22328524755350515,
         0.22281082920437933,
         0.22627772168055468,
         0.22573599591851234,
         0.22518296488652043,
         0.22422751181704156,
         0.22380548175059112,
         0.22295427362562395,
         0.2236413417347506
        ],
        [
         22.86365208402276,
         23.051786694675684,
         22.838395174592733,
         22.9431096278131,
         23.049349039793015,
         22.91810665652156,
         23.108067106455564,
         23.123967919498682,
         22.819589268416166,
         23.00115157663822,
         22.894671816378832,
         23.160002071410418,
         22.932030525058508,
         22.750011269003153,
         22.932232219725847,
         23.020726215094328,
         22.921168066561222,
         22.8199071995914,
         22.92967191338539,
         22.989095732569695,
         22.70105766877532,
         22.90308028459549,
         23.02307129651308,
         22.84810086712241,
         22.81224701553583,
         22.948690474033356,
         23.013934567570686,
         22.862111072987318,
         23.195801716297865,
         22.803071808069944,
         23.193617429584265,
         23.076569326221943,
         22.92597396299243,
         22.826210390776396,
         23.070498328655958,
         22.83697409555316,
         22.840436827391386,
         22.881644666194916,
         22.90639140829444,
         22.944115336984396,
         22.992936674505472,
         23.02838833257556,
         22.952893774956465,
         22.813123524188995,
         22.72970738261938,
         22.934328217059374,
         22.8846551515162,
         22.839577917009592,
         22.816943038254976,
         23.01704541221261,
         22.93053750693798,
         22.88396716862917,
         22.9424241296947,
         22.638525556772947,
         22.942115671932697,
         23.06331354007125,
         22.87213482707739,
         22.922668244689703,
         23.034222092479467,
         22.685722451657057,
         23.159920539706945,
         22.995296359062195,
         22.968603502959013,
         23.179574597626925,
         22.89118853583932,
         22.917320653796196,
         22.78747770562768,
         22.765135813504457,
         22.84710355103016,
         22.87248093634844,
         23.030935134738684,
         22.785640843212605,
         22.7551905028522,
         23.129092875868082,
         22.94404073432088,
         22.940737660974264,
         23.09168377518654,
         22.93569128587842,
         22.55365363880992,
         22.7525705806911,
         22.94946287944913,
         22.84379854425788,
         22.987761601805687,
         22.983816042542458,
         23.015339236706495,
         22.9403521604836,
         22.801011692732573,
         23.005232740193605,
         22.869345031678677,
         23.016277126967907,
         22.966961205005646,
         22.775095250457525,
         22.726704578846693,
         23.08032761141658,
         23.02507158368826,
         22.968662418425083,
         22.87120620533824,
         22.828159138560295,
         22.741335909813643,
         22.81141685694456
        ],
        [
         3.682477070307241,
         3.6928277448396334,
         3.685113992130748,
         3.681682299100113,
         3.704825888525858,
         3.677339856497049,
         3.690534286760303,
         3.7030793007729863,
         3.6908460119385045,
         3.686925689386938,
         3.6860186281045797,
         3.6922317002621243,
         3.6892057333541453,
         3.6647139058284317,
         3.6825466558338134,
         3.693221515545096,
         3.6778510884402773,
         3.672412764151915,
         3.705010328743283,
         3.6968488461403264,
         3.670402342230031,
         3.6770832199188024,
         3.679935098312639,
         3.668899887018198,
         3.6744453184654318,
         3.701578239599763,
         3.6921139598176014,
         3.6754314201847156,
         3.6930986105260644,
         3.6842824319068717,
         3.700381201858099,
         3.6993784198507518,
         3.694036238291719,
         3.6816711670330062,
         3.6872947842723613,
         3.6904071852580866,
         3.6855052295917883,
         3.6841506096539587,
         3.679857800308722,
         3.6826504162683293,
         3.690845941163456,
         3.695957885344402,
         3.6951242177771926,
         3.6812049738762007,
         3.6769147364948593,
         3.692933826864525,
         3.682348461228906,
         3.6815432348818304,
         3.677986405521628,
         3.681013045756266,
         3.6842019654990747,
         3.6840424415334905,
         3.694944141137289,
         3.659093187936417,
         3.676862284261252,
         3.6957370208928606,
         3.6918651636611446,
         3.680275368651361,
         3.690951252690674,
         3.6774166420252055,
         3.7030000910829304,
         3.6867240691797356,
         3.6835137298305036,
         3.7059948977703026,
         3.6678049623454516,
         3.697501147916396,
         3.6807296956592395,
         3.6715275879395435,
         3.674658050765134,
         3.6913376602344945,
         3.692890391262234,
         3.679074512733762,
         3.6855779967724063,
         3.695266252930063,
         3.6808086560519415,
         3.681564658553376,
         3.697231351720971,
         3.6862969034549775,
         3.672975235921126,
         3.6836981579831747,
         3.685840551251097,
         3.6725175477046283,
         3.6806008068115554,
         3.69019463838606,
         3.699883094941834,
         3.6850654203026076,
         3.6801670789022745,
         3.6818057591213327,
         3.672446674109686,
         3.6859435485563257,
         3.6835503908326084,
         3.670821763240374,
         3.6695371255453524,
         3.6986261329021306,
         3.700767626578597,
         3.685586482089324,
         3.6905096044448022,
         3.6832139761296174,
         3.6680300439874975,
         3.6838467083865374
        ]
       ],
       "encoder": "json",
       "name": "ABC_GAN_1 Metrics",
       "version": 1
      }
     },
     "metadata": {
      "scrapbook": {
       "data": true,
       "display": false,
       "name": "ABC_GAN_1 Metrics"
      }
     },
     "output_type": "display_data"
    },
    {
     "name": "stdout",
     "output_type": "stream",
     "text": [
      "MSE\n",
      "0.13315711353936285\n"
     ]
    }
   ],
   "source": [
    "ABC_GAN1_metrics=ABC_train_test2.test_generator(gen,test_data,prior_model,variance,bias,\"1\",device)\n",
    "sb.glue(\"ABC_GAN_1 Metrics\",ABC_GAN1_metrics)\n",
    "\n",
    "print(\"MSE\")\n",
    "print(mean(ABC_GAN1_metrics[0]))"
   ]
  },
  {
   "cell_type": "code",
   "execution_count": 14,
   "id": "eb22ce5c",
   "metadata": {
    "execution": {
     "iopub.execute_input": "2022-06-12T08:32:56.955016Z",
     "iopub.status.busy": "2022-06-12T08:32:56.954662Z",
     "iopub.status.idle": "2022-06-12T08:32:57.271385Z",
     "shell.execute_reply": "2022-06-12T08:32:57.271702Z"
    },
    "papermill": {
     "duration": 0.331703,
     "end_time": "2022-06-12T08:32:57.271822",
     "exception": false,
     "start_time": "2022-06-12T08:32:56.940119",
     "status": "completed"
    },
    "tags": []
   },
   "outputs": [
    {
     "data": {
      "image/png": "[encoded data removed]",
      "text/plain": [
       "<Figure size 432x288 with 1 Axes>"
      ]
     },
     "metadata": {
      "needs_background": "light"
     },
     "output_type": "display_data"
    },
    {
     "data": {
      "image/png": "[encoded data removed]",
      "text/plain": [
       "<Figure size 432x288 with 1 Axes>"
      ]
     },
     "metadata": {
      "needs_background": "light"
     },
     "output_type": "display_data"
    },
    {
     "data": {
      "image/png": "[encoded data removed]",
      "text/plain": [
       "<Figure size 432x288 with 1 Axes>"
      ]
     },
     "metadata": {
      "needs_background": "light"
     },
     "output_type": "display_data"
    },
    {
     "data": {
      "image/png": "[encoded data removed]",
      "text/plain": [
       "<Figure size 432x288 with 1 Axes>"
      ]
     },
     "metadata": {
      "needs_background": "light"
     },
     "output_type": "display_data"
    }
   ],
   "source": [
    "sanityChecks.discProbVsError(train_data,disc,device)\n",
    "sanityChecks.discProbVsError(test_data,disc,device)"
   ]
  },
  {
   "cell_type": "markdown",
   "id": "130f3a4d",
   "metadata": {
    "id": "130f3a4d",
    "papermill": {
     "duration": 0.014475,
     "end_time": "2022-06-12T08:32:57.301271",
     "exception": false,
     "start_time": "2022-06-12T08:32:57.286796",
     "status": "completed"
    },
    "tags": []
   },
   "source": [
    "# ABC - GAN Model with skip connection"
   ]
  },
  {
   "cell_type": "code",
   "execution_count": 15,
   "id": "4e43dad1",
   "metadata": {
    "execution": {
     "iopub.execute_input": "2022-06-12T08:32:57.334118Z",
     "iopub.status.busy": "2022-06-12T08:32:57.333728Z",
     "iopub.status.idle": "2022-06-12T08:32:57.336082Z",
     "shell.execute_reply": "2022-06-12T08:32:57.336331Z"
    },
    "id": "4e43dad1",
    "papermill": {
     "duration": 0.02015,
     "end_time": "2022-06-12T08:32:57.336447",
     "exception": false,
     "start_time": "2022-06-12T08:32:57.316297",
     "status": "completed"
    },
    "tags": []
   },
   "outputs": [],
   "source": [
    "#Generator\n",
    "gen3 = network.GeneratorWithSkipConnection(n_features+1).to(device)\n",
    "constraints=network.weightConstraint()\n",
    "#Discriminator \n",
    "disc3 = network.Discriminator(n_features+1).to(device)\n",
    "\n",
    "criterion = torch.nn.BCELoss()\n",
    "gen_opt = torch.optim.Adam(gen3.parameters(), lr=0.001, betas=(0.5, 0.999))\n",
    "disc_opt = torch.optim.Adam(disc3.parameters(), lr=0.001, betas=(0.5, 0.999))\n"
   ]
  },
  {
   "cell_type": "code",
   "execution_count": 16,
   "id": "26acbc37",
   "metadata": {
    "execution": {
     "iopub.execute_input": "2022-06-12T08:32:57.368229Z",
     "iopub.status.busy": "2022-06-12T08:32:57.367855Z",
     "iopub.status.idle": "2022-06-12T08:36:01.188171Z",
     "shell.execute_reply": "2022-06-12T08:36:01.188595Z"
    },
    "id": "26acbc37",
    "papermill": {
     "duration": 183.837525,
     "end_time": "2022-06-12T08:36:01.188752",
     "exception": false,
     "start_time": "2022-06-12T08:32:57.351227",
     "status": "completed"
    },
    "tags": []
   },
   "outputs": [
    {
     "data": {
      "image/png": "[encoded data removed]",
      "text/plain": [
       "<Figure size 432x288 with 1 Axes>"
      ]
     },
     "metadata": {
      "needs_background": "light"
     },
     "output_type": "display_data"
    },
    {
     "data": {
      "image/png": "[encoded data removed]",
      "text/plain": [
       "<Figure size 432x288 with 1 Axes>"
      ]
     },
     "metadata": {
      "needs_background": "light"
     },
     "output_type": "display_data"
    }
   ],
   "source": [
    "ABC_train_test2.training_GAN_skip_connection(disc3,gen3,disc_opt,gen_opt,train_data,batch_size,n_epochs,criterion,prior_model,variance,bias,device)"
   ]
  },
  {
   "cell_type": "code",
   "execution_count": 17,
   "id": "c5e0717b",
   "metadata": {
    "execution": {
     "iopub.execute_input": "2022-06-12T08:36:01.225025Z",
     "iopub.status.busy": "2022-06-12T08:36:01.224628Z",
     "iopub.status.idle": "2022-06-12T08:36:02.065139Z",
     "shell.execute_reply": "2022-06-12T08:36:02.065398Z"
    },
    "id": "c5e0717b",
    "papermill": {
     "duration": 0.859956,
     "end_time": "2022-06-12T08:36:02.065521",
     "exception": false,
     "start_time": "2022-06-12T08:36:01.205565",
     "status": "completed"
    },
    "tags": []
   },
   "outputs": [
    {
     "data": {
      "application/scrapbook.scrap.json+json": {
       "data": 0.1499466312778632,
       "encoder": "json",
       "name": "ABC-GAN Model 3 MSE",
       "version": 1
      }
     },
     "metadata": {
      "scrapbook": {
       "data": true,
       "display": false,
       "name": "ABC-GAN Model 3 MSE"
      }
     },
     "output_type": "display_data"
    },
    {
     "data": {
      "application/scrapbook.scrap.json+json": {
       "data": 0.2425758393183944,
       "encoder": "json",
       "name": "ABC-GAN Model 3 MAE",
       "version": 1
      }
     },
     "metadata": {
      "scrapbook": {
       "data": true,
       "display": false,
       "name": "ABC-GAN Model 3 MAE"
      }
     },
     "output_type": "display_data"
    },
    {
     "data": {
      "application/scrapbook.scrap.json+json": {
       "data": 24.74273561047623,
       "encoder": "json",
       "name": "ABC-GAN Model 3 Manhattan Distance",
       "version": 1
      }
     },
     "metadata": {
      "scrapbook": {
       "data": true,
       "display": false,
       "name": "ABC-GAN Model 3 Manhattan Distance"
      }
     },
     "output_type": "display_data"
    },
    {
     "data": {
      "application/scrapbook.scrap.json+json": {
       "data": 3.9107841645932457,
       "encoder": "json",
       "name": "ABC-GAN Model 3 Euclidean distance",
       "version": 1
      }
     },
     "metadata": {
      "scrapbook": {
       "data": true,
       "display": false,
       "name": "ABC-GAN Model 3 Euclidean distance"
      }
     },
     "output_type": "display_data"
    },
    {
     "data": {
      "application/scrapbook.scrap.json+json": {
       "data": [
        [
         0.14804133732906735,
         0.1490375579701458,
         0.14950589233746833,
         0.14989354859560508,
         0.15009353298933176,
         0.15068884895973086,
         0.15137515939290735,
         0.15003351793621067,
         0.14878621413164625,
         0.15186176975859197,
         0.14776686196440214,
         0.14962128177294598,
         0.15196282733319708,
         0.15134070514984896,
         0.15045242915857493,
         0.1485943535011002,
         0.15008770539018917,
         0.15103727741235784,
         0.14657705977047955,
         0.15050233224937842,
         0.15009489604076698,
         0.1494530302962417,
         0.15042255322364018,
         0.1492427440954008,
         0.14900755004724872,
         0.15007597912521028,
         0.15001885111120905,
         0.14894046984528836,
         0.14952668262765148,
         0.14943245983468642,
         0.1481698216827746,
         0.15132600264047852,
         0.15230207742542,
         0.14923327265171657,
         0.14857262700185256,
         0.1499542926716816,
         0.1476268395358866,
         0.14883851536144682,
         0.15052130268197408,
         0.15011632178190082,
         0.14996717564623643,
         0.1522532001135748,
         0.15123074494944258,
         0.14914046895473565,
         0.14860326511520155,
         0.1491364385287004,
         0.15123223680531075,
         0.14904914321441654,
         0.15008730002471915,
         0.14836119748798055,
         0.14778712811588046,
         0.14993213104872186,
         0.15123017903414698,
         0.14922396597450147,
         0.1511243481904762,
         0.1499763260172463,
         0.15168024764208896,
         0.15045010573085946,
         0.15006113112208808,
         0.1501706343710175,
         0.1489211812543914,
         0.14970465836712768,
         0.14859743567597986,
         0.14885670283610844,
         0.1483727846308039,
         0.14993132349168659,
         0.1485702887290755,
         0.15156347139889528,
         0.1506435402689701,
         0.1525332531385159,
         0.15155581738730045,
         0.15208985608539757,
         0.15191989638719908,
         0.15246976479449556,
         0.14951156361591617,
         0.15205047940792898,
         0.15099391023882902,
         0.14929511953280739,
         0.150250964227892,
         0.15049375110814914,
         0.14747549768288978,
         0.14736685138722647,
         0.14998859144307458,
         0.14850993692829417,
         0.14910444952806076,
         0.1479934936424505,
         0.14833504702356606,
         0.1482267933034838,
         0.15117266672042318,
         0.15046451725216745,
         0.14976426995126707,
         0.1533870311092097,
         0.1500148323583536,
         0.1513700820992124,
         0.15252128962846426,
         0.1485269748622219,
         0.14872962458618594,
         0.1508559012333209,
         0.14897980201365682,
         0.1527158415823206
        ],
        [
         0.24058476155258568,
         0.2400979441499301,
         0.24097759860987758,
         0.2420853447789947,
         0.24256255714149744,
         0.24342441397226033,
         0.24241133487107708,
         0.24142699650324442,
         0.24178599821878413,
         0.24478572402514664,
         0.23864663689963372,
         0.2435258281549585,
         0.24481551773736582,
         0.2441743238482113,
         0.24211911976054384,
         0.2405796440719974,
         0.24473771777953587,
         0.2441860737333841,
         0.24089567022233763,
         0.24191901227459311,
         0.24147305519584858,
         0.24248588462268897,
         0.2427241922739674,
         0.24157953210741134,
         0.24313107330132933,
         0.24231681404817923,
         0.24206878457620157,
         0.24105811609393535,
         0.24266403436879902,
         0.24343046162496595,
         0.24099632463070983,
         0.24199897058162034,
         0.2453830132817886,
         0.23961168206205555,
         0.24067740595223858,
         0.2431360794432169,
         0.24028456963452638,
         0.24209390870551123,
         0.2438064893004576,
         0.24476581464485064,
         0.24252055358032093,
         0.24391188475248568,
         0.24523238679759352,
         0.24087379001281864,
         0.2411288480256118,
         0.24360823160146966,
         0.24273632761255345,
         0.24181783606535664,
         0.2435832908924888,
         0.2403102871030569,
         0.23793575719145,
         0.24458557161886027,
         0.2435554007670897,
         0.24232778735641464,
         0.24397394049218765,
         0.2422325726342844,
         0.24514844053990992,
         0.2418799227669689,
         0.2438519947395167,
         0.24112431037550172,
         0.2429627030174814,
         0.2386548721560222,
         0.24077683066784897,
         0.2410055491799379,
         0.24176259021110394,
         0.2416078487465925,
         0.2419912094779897,
         0.2448401562230406,
         0.24226472347828687,
         0.24466666014974608,
         0.2458016101462657,
         0.24553036581104,
         0.24397211397687593,
         0.2445078697512109,
         0.24454619005943337,
         0.24676658094440604,
         0.2426593834397328,
         0.24102409193109647,
         0.24415121574922666,
         0.24326284273582346,
         0.24007776521109775,
         0.23955567771861075,
         0.24192735739965357,
         0.24248304614322444,
         0.24286931546806706,
         0.24048897756409704,
         0.24255271062400996,
         0.24258250807065004,
         0.2448817807085374,
         0.24082336521835304,
         0.24228256351917105,
         0.2451057159433178,
         0.23993736913646846,
         0.24655471731196432,
         0.24537140206324265,
         0.243546250477141,
         0.23952460161172875,
         0.24190455203528935,
         0.2416721817617323,
         0.24691910631772057
        ],
        [
         24.53964567836374,
         24.48999030329287,
         24.579715058207512,
         24.69270516745746,
         24.74138082843274,
         24.829290225170553,
         24.72595615684986,
         24.62555364333093,
         24.662171818315983,
         24.968143850564957,
         24.34195696376264,
         24.839634471805766,
         24.971182809211314,
         24.905781032517552,
         24.69615021557547,
         24.539123695343733,
         24.96324721351266,
         24.90697952080518,
         24.57135836267844,
         24.675739252008498,
         24.630251629976556,
         24.733560231514275,
         24.757867611944675,
         24.641112274955958,
         24.799369476735592,
         24.71631503291428,
         24.69101602677256,
         24.587927841581404,
         24.7517315056175,
         24.829907085746527,
         24.581625112332404,
         24.683894999325275,
         25.029067354742438,
         24.440391570329666,
         24.549095407128334,
         24.799880103208125,
         24.50902610272169,
         24.693578687962145,
         24.868261908646673,
         24.966113093774766,
         24.737096465192735,
         24.87901224475354,
         25.013703453354537,
         24.5691265813075,
         24.595142498612404,
         24.848039623349905,
         24.759105416480452,
         24.665419278666377,
         24.84549567103386,
         24.511649284511805,
         24.2694472335279,
         24.947728305123746,
         24.84265087824315,
         24.717434310354292,
         24.88534193020314,
         24.70772240869701,
         25.005140935070813,
         24.671752122230828,
         24.872903463430703,
         24.594679658301175,
         24.782195707783103,
         24.342796959914267,
         24.559236728120595,
         24.582566016353667,
         24.659784201532602,
         24.644000572152436,
         24.68310336675495,
         24.97369593475014,
         24.71100179478526,
         24.9559993352741,
         25.0717642349191,
         25.04409731272608,
         24.885155625641346,
         24.93980271462351,
         24.943711386062205,
         25.170191256329417,
         24.751257110852748,
         24.58445737697184,
         24.90342400642112,
         24.812809959053993,
         24.48793205153197,
         24.434679127298295,
         24.676590454764664,
         24.73327070660889,
         24.77267017774284,
         24.529875711537898,
         24.740376483649015,
         24.743415823206306,
         24.977941632270813,
         24.56398325227201,
         24.712821478955448,
         25.000783026218414,
         24.473611651919782,
         25.14858116582036,
         25.02788301045075,
         24.841717548668385,
         24.431509364396334,
         24.674264307599515,
         24.650562539696693,
         25.1857488444075
        ],
        [
         3.8858996908778884,
         3.8989525404850545,
         3.905073753262768,
         3.910133240281169,
         3.912740774049801,
         3.9204926468356684,
         3.929410421179817,
         3.9119584391316686,
         3.895663466141283,
         3.93572109217312,
         3.882295702335026,
         3.906580440851114,
         3.9370304022176534,
         3.928963212513524,
         3.917415956236284,
         3.893150916303171,
         3.9126648143943137,
         3.9250225854204315,
         3.8666342077560047,
         3.9180655800326507,
         3.912758540487545,
         3.90438331753129,
         3.9170269885221995,
         3.9016355413763177,
         3.898560004003961,
         3.9125119642975457,
         3.9117672238188357,
         3.8976823785705537,
         3.9053452636124812,
         3.9041146119367474,
         3.8875856018412005,
         3.9287723616072237,
         3.941422572801962,
         3.901511733991722,
         3.8928662903044797,
         3.9109254470663997,
         3.880455853718791,
         3.8963481064796524,
         3.9183125033056454,
         3.913037799683755,
         3.911093442493559,
         3.94079007453894,
         3.9275356121673988,
         3.9002984287593985,
         3.8932676560635477,
         3.900245726864839,
         3.927554984228954,
         3.899104077588912,
         3.912659530616145,
         3.8900953900610222,
         3.882561920667821,
         3.9106364401424,
         3.927528263613515,
         3.9013900765495304,
         3.926153781428915,
         3.9112127599708915,
         3.9333681825495397,
         3.9173857079112935,
         3.912318414246594,
         3.9137456107728545,
         3.897429984996257,
         3.9076687619918626,
         3.8931912923654215,
         3.8965861583292436,
         3.890247297067629,
         3.9106259084898456,
         3.892835656737347,
         3.931853771783396,
         3.9199032012837955,
         3.944412734505432,
         3.9317544904920814,
         3.9386755795204245,
         3.9364742386422784,
         3.9435917650079526,
         3.9051478190746427,
         3.938165677013697,
         3.924459051176424,
         3.90232010377754,
         3.9147922487974998,
         3.9179538809219294,
         3.8784662901274207,
         3.8770373794299555,
         3.9113726909096247,
         3.8920449081024238,
         3.89982741308666,
         3.885271721711359,
         3.889752536653679,
         3.888332922597464,
         3.926781379894118,
         3.9175733253789993,
         3.9084466908260675,
         3.955436407419463,
         3.9117148286336088,
         3.929344522197012,
         3.9442580470987636,
         3.8922681608474297,
         3.894922554787317,
         3.922665155962044,
         3.8981969941747416,
         3.9467728388389287
        ]
       ],
       "encoder": "json",
       "name": "ABC_GAN_3 Metrics",
       "version": 1
      }
     },
     "metadata": {
      "scrapbook": {
       "data": true,
       "display": false,
       "name": "ABC_GAN_3 Metrics"
      }
     },
     "output_type": "display_data"
    },
    {
     "name": "stdout",
     "output_type": "stream",
     "text": [
      "MSE\n",
      "0.1499466312778632\n"
     ]
    }
   ],
   "source": [
    "ABC_GAN3_metrics=ABC_train_test2.test_generator(gen3,test_data,prior_model,variance,bias,\"3\",device)\n",
    "sb.glue(\"ABC_GAN_3 Metrics\",ABC_GAN3_metrics)\n",
    "\n",
    "print(\"MSE\")\n",
    "print(mean(ABC_GAN3_metrics[0]))"
   ]
  },
  {
   "cell_type": "code",
   "execution_count": 18,
   "id": "c8e46b48",
   "metadata": {
    "execution": {
     "iopub.execute_input": "2022-06-12T08:36:02.103077Z",
     "iopub.status.busy": "2022-06-12T08:36:02.102689Z",
     "iopub.status.idle": "2022-06-12T08:36:02.488199Z",
     "shell.execute_reply": "2022-06-12T08:36:02.488458Z"
    },
    "id": "c8e46b48",
    "papermill": {
     "duration": 0.405318,
     "end_time": "2022-06-12T08:36:02.488585",
     "exception": false,
     "start_time": "2022-06-12T08:36:02.083267",
     "status": "completed"
    },
    "tags": []
   },
   "outputs": [
    {
     "data": {
      "image/png": "[encoded data removed]",
      "text/plain": [
       "<Figure size 432x288 with 1 Axes>"
      ]
     },
     "metadata": {
      "needs_background": "light"
     },
     "output_type": "display_data"
    },
    {
     "data": {
      "image/png": "[encoded data removed]",
      "text/plain": [
       "<Figure size 432x288 with 1 Axes>"
      ]
     },
     "metadata": {
      "needs_background": "light"
     },
     "output_type": "display_data"
    },
    {
     "data": {
      "image/png": "[encoded data removed]",
      "text/plain": [
       "<Figure size 432x288 with 1 Axes>"
      ]
     },
     "metadata": {
      "needs_background": "light"
     },
     "output_type": "display_data"
    },
    {
     "data": {
      "image/png": "[encoded data removed]",
      "text/plain": [
       "<Figure size 432x288 with 1 Axes>"
      ]
     },
     "metadata": {
      "needs_background": "light"
     },
     "output_type": "display_data"
    }
   ],
   "source": [
    "sanityChecks.discProbVsError(train_data,disc3,device)\n",
    "sanityChecks.discProbVsError(test_data,disc3,device)"
   ]
  },
  {
   "cell_type": "markdown",
   "id": "a5bd74c3",
   "metadata": {
    "id": "a5bd74c3",
    "papermill": {
     "duration": 0.037388,
     "end_time": "2022-06-12T08:36:02.593917",
     "exception": false,
     "start_time": "2022-06-12T08:36:02.556529",
     "status": "completed"
    },
    "tags": []
   },
   "source": [
    "## Skip Connection Model Analysis - ABC-GAN "
   ]
  },
  {
   "cell_type": "markdown",
   "id": "5744a8bf",
   "metadata": {
    "id": "5744a8bf",
    "papermill": {
     "duration": 0.019802,
     "end_time": "2022-06-12T08:36:02.633590",
     "exception": false,
     "start_time": "2022-06-12T08:36:02.613788",
     "status": "completed"
    },
    "tags": []
   },
   "source": [
    "### Weight Analysis \n",
    "\n",
    "Study the weights of the skip connection layer\n",
    "\n",
    "Equation of the skip connection is \n",
    "\n",
    "$output = y_{gan} * w + y_{abc} * (1-w)$"
   ]
  },
  {
   "cell_type": "code",
   "execution_count": 19,
   "id": "52c31dea",
   "metadata": {
    "execution": {
     "iopub.execute_input": "2022-06-12T08:36:02.689940Z",
     "iopub.status.busy": "2022-06-12T08:36:02.689543Z",
     "iopub.status.idle": "2022-06-12T08:36:02.693148Z",
     "shell.execute_reply": "2022-06-12T08:36:02.693389Z"
    },
    "id": "52c31dea",
    "papermill": {
     "duration": 0.040398,
     "end_time": "2022-06-12T08:36:02.693514",
     "exception": false,
     "start_time": "2022-06-12T08:36:02.653116",
     "status": "completed"
    },
    "tags": []
   },
   "outputs": [
    {
     "name": "stdout",
     "output_type": "stream",
     "text": [
      "Weight of the node at skip connection\n",
      "Parameter containing:\n",
      "tensor([[0.9897]], requires_grad=True)\n"
     ]
    },
    {
     "data": {
      "application/scrapbook.scrap.json+json": {
       "data": 0.9896712899208069,
       "encoder": "json",
       "name": "Skip Connection Weight",
       "version": 1
      }
     },
     "metadata": {
      "scrapbook": {
       "data": true,
       "display": false,
       "name": "Skip Connection Weight"
      }
     },
     "output_type": "display_data"
    }
   ],
   "source": [
    "print(\"Weight of the node at skip connection\")\n",
    "for name,param in gen3.named_parameters():\n",
    "    if(name == \"skipNode.weight\"):\n",
    "        print(param)\n",
    "        sb.glue(\"Skip Connection Weight\",param.item())"
   ]
  }
 ],
 "metadata": {
  "colab": {
   "collapsed_sections": [],
   "name": "ABC_GAN_Model-Catboost_Pre-gen.ipynb",
   "provenance": []
  },
  "interpreter": {
   "hash": "31f2aee4e71d21fbe5cf8b01ff0e069b9275f58929596ceb00d14d90e3e16cd6"
  },
  "kernelspec": {
   "display_name": "Python 3 (ipykernel)",
   "language": "python",
   "name": "python3"
  },
  "language_info": {
   "codemirror_mode": {
    "name": "ipython",
    "version": 3
   },
   "file_extension": ".py",
   "mimetype": "text/x-python",
   "name": "python",
   "nbconvert_exporter": "python",
   "pygments_lexer": "ipython3",
   "version": "3.8.11"
  },
  "papermill": {
   "default_parameters": {},
   "duration": 251.287872,
   "end_time": "2022-06-12T08:36:03.123291",
   "environment_variables": {},
   "exception": null,
   "input_path": "ABC_GAN-Catboost.ipynb",
   "output_path": "./ABC_GAN_Catboost/ABC-GAN_output_10_3.ipynb",
   "parameters": {
    "bias": 0.1,
    "variance": 1
   },
   "start_time": "2022-06-12T08:31:51.835419",
   "version": "2.3.3"
  }
 },
 "nbformat": 4,
 "nbformat_minor": 5
}